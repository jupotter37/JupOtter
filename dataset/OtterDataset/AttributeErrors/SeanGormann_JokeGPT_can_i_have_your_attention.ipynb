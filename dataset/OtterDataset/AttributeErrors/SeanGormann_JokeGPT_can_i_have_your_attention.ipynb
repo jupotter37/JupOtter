{
 "cells": [
  {
   "cell_type": "markdown",
   "metadata": {
    "id": "u8525xYtG38c"
   },
   "source": [
    "# Load Data"
   ]
  },
  {
   "cell_type": "code",
   "execution_count": 1,
   "metadata": {},
   "outputs": [],
   "source": [
    "with open('qajokes.txt', 'r', encoding='utf-8') as f:\n",
    "    qajokes = f.read()"
   ]
  },
  {
   "cell_type": "code",
   "execution_count": 2,
   "metadata": {
    "colab": {
     "base_uri": "https://localhost:8080/"
    },
    "id": "V8N11fIp5iME",
    "outputId": "283963d9-a8a6-498b-e8b3-ff6b1e36c5fc"
   },
   "outputs": [
    {
     "data": {
      "text/plain": [
       "9735078"
      ]
     },
     "execution_count": 2,
     "metadata": {},
     "output_type": "execute_result"
    }
   ],
   "source": [
    "len(qajokes)"
   ]
  },
  {
   "cell_type": "code",
   "execution_count": 4,
   "metadata": {
    "id": "1GMJ8bTMwJb1"
   },
   "outputs": [],
   "source": [
    "import numpy as np\n",
    "import pandas as pd\n",
    "import matplotlib.pyplot as plt\n",
    "import seaborn as sns\n",
    "import os\n",
    "import torch \n",
    "import torch.nn as nn\n",
    "from torch.nn import functional as F"
   ]
  },
  {
   "cell_type": "code",
   "execution_count": 5,
   "metadata": {
    "id": "ew6olwDIyN71"
   },
   "outputs": [],
   "source": [
    "# hyperparameters\n",
    "batch_size = 64 # how many independent sequences will we process in parallel?\n",
    "block_size = 256 # what is the maximum context length for predictions?\n",
    "max_iters = 12000\n",
    "eval_interval = 1000\n",
    "learning_rate = 3e-4\n",
    "device = 'cuda' if torch.cuda.is_available() else 'cpu'\n",
    "eval_iters = 200\n",
    "n_embed = 384\n",
    "n_head = 6\n",
    "n_layer = 6\n",
    "dropout = 0.2\n",
    "\n",
    "# ------------"
   ]
  },
  {
   "cell_type": "code",
   "execution_count": 6,
   "metadata": {
    "colab": {
     "base_uri": "https://localhost:8080/"
    },
    "id": "7d9WGZJeHdb4",
    "outputId": "164b910f-7c01-4a60-ba26-24ddd3c9f259"
   },
   "outputs": [
    {
     "name": "stdout",
     "output_type": "stream",
     "text": [
      "Using device: cpu\n"
     ]
    }
   ],
   "source": [
    "print(\"Using device:\", device)"
   ]
  },
  {
   "attachments": {},
   "cell_type": "markdown",
   "metadata": {
    "id": "fD4gtpWDHBsY"
   },
   "source": [
    "# Tokenise\n",
    "\n",
    "For this simple exploration of the transformer architechture, I just used a simple method of tokenisation where every character is a single token. "
   ]
  },
  {
   "cell_type": "code",
   "execution_count": 7,
   "metadata": {
    "colab": {
     "base_uri": "https://localhost:8080/"
    },
    "id": "rmuZa7RQHoly",
    "outputId": "e51140d4-b5cc-4ed8-de21-b2b510dda43a"
   },
   "outputs": [
    {
     "name": "stdout",
     "output_type": "stream",
     "text": [
      "\n",
      "\u0010 !\"#$%&'()*+,-./0123456789:;<=>?@ABCDEFGHIJKLMNOPQRSTUVWXYZ[\\]^_`abcdefghijklmnopqrstuvwxyz{|}~\n",
      "97\n"
     ]
    }
   ],
   "source": [
    "# here are all the unique characters that occur in this text\n",
    "\n",
    "chars = sorted(list(set(qajokes)))\n",
    "vocab_size = len(chars)\n",
    "print(''.join(chars))\n",
    "print(vocab_size)"
   ]
  },
  {
   "cell_type": "code",
   "execution_count": 10,
   "metadata": {
    "id": "LXy9o7MrSkkx"
   },
   "outputs": [],
   "source": [
    "#create a mapping from characters to integers\n",
    "stoi = { ch:i for i,ch in enumerate(chars) }\n",
    "itos = { i:ch for i,ch in enumerate(chars) }\n",
    "\n",
    "encode = lambda s: [stoi[c] for c in s] # encoder: take a string, output a list of integers\n",
    "decode = lambda l: ''.join([itos[i] for i in l]) # decoder: take a list of integers, output a string\n"
   ]
  },
  {
   "cell_type": "code",
   "execution_count": 12,
   "metadata": {
    "colab": {
     "base_uri": "https://localhost:8080/"
    },
    "id": "8QNDG353TbIX",
    "outputId": "a3bb2a22-5164-463c-99d8-4d3e4c330e73"
   },
   "outputs": [
    {
     "name": "stdout",
     "output_type": "stream",
     "text": [
      "torch.Size([9735078]) torch.int64\n",
      "tensor([57, 74, 91,  2, 69, 67, 80,  9, 86,  2, 36, 67, 84, 68, 75, 71,  2, 73,\n",
      "        71, 86,  2, 82, 84, 71, 73, 80, 67, 80, 86, 33,  2, 36, 71, 69, 67, 87,\n",
      "        85, 71,  2, 45, 71, 80,  2, 69, 81, 79, 71, 85,  2, 75, 80,  2, 67,  2,\n",
      "        70, 75, 72, 72, 71, 84, 71, 80, 86,  2, 68, 81, 90, 16,  2, 42, 71, 91,\n",
      "        81, 81, 81, 81, 81, 81, 81,  0,  0, 57, 74, 91,  2, 89, 67, 85,  2, 86,\n",
      "        74, 71,  2, 79, 87, 85, 75, 69, 75, 67, 80,  2, 67, 84, 84, 71, 85, 86,\n",
      "        71, 70, 33,  2, 42, 71,  2, 73, 81, 86,  2, 75, 80,  2, 86, 84, 71, 68,\n",
      "        78, 71, 16,  0,  0, 38, 75, 70,  2, 91, 81, 87,  2, 74, 71, 67, 84,  2,\n",
      "        67, 68, 81, 87, 86,  2, 86, 74, 71,  2, 73, 87, 91,  2, 89, 74, 81,  2,\n",
      "        68, 78, 71, 89,  2, 74, 75, 85,  2, 71, 80, 86, 75, 84, 71,  2, 78, 81,\n",
      "        86, 86, 71, 84, 91,  2, 89, 75, 80, 80, 75, 80, 73, 85,  2, 81, 80,  2,\n",
      "        67,  2, 78, 75, 79, 81, 87, 85, 75, 80, 71, 33,  2, 42, 71,  2, 74, 67,\n",
      "        70,  2, 80, 81, 86, 74, 75, 80, 73,  2, 78, 71, 72, 86,  2, 86, 81,  2,\n",
      "        69, 74, 67, 87, 72, 72, 71, 87, 84,  2, 75, 86, 16,  0,  0, 57, 74, 67,\n",
      "        86,  2, 70, 81,  2, 91, 81, 87,  2, 70, 81,  2, 75, 72,  2, 67,  2, 68,\n",
      "        75, 84, 70,  2, 85, 74, 75, 86, 85,  2, 81, 80,  2, 91, 81, 87, 84,  2,\n",
      "        69, 67, 84, 33,  2, 38, 81, 80,  9, 86,  2, 67, 85, 77,  2, 74, 71, 84,\n",
      "         2, 81, 87, 86,  2, 67, 73, 67, 75, 80, 16,  0,  0, 57, 74, 67, 86,  2,\n",
      "        85, 74, 81, 87, 78, 70,  2, 91, 81, 87,  2, 70, 81,  2, 68, 71, 72, 81,\n",
      "        84, 71,  2, 69, 84, 75, 86, 75, 69, 75, 92, 75, 80, 73,  2, 50, 67, 69,\n",
      "        15, 47, 67, 80, 33,  2, 57, 35, 45, 35,  2, 57, 35, 45, 35,  2, 57, 35,\n",
      "        45, 35,  2, 79, 75, 78, 71,  2, 75, 80,  2, 74, 75, 85,  2, 85, 74, 81,\n",
      "        71, 85,  0,  0, 57, 74, 67, 86,  9, 85,  2, 86, 74, 71,  2, 70, 75, 72,\n",
      "        72, 71, 84, 71, 80, 69, 71,  2, 68, 71, 86, 89, 71, 71, 80,  2, 67, 80,\n",
      "         2, 75, 78, 78, 71, 73, 67, 78,  2, 47, 71, 90, 75, 69, 67, 80,  2, 67,\n",
      "        80, 70,  2, 67, 80,  2, 67, 87, 86, 81, 80, 81, 79, 81, 87, 85,  2, 84,\n",
      "        81, 68, 81, 86, 16, 16, 16, 33,  2, 48, 81, 86, 74, 75, 80, 73, 16, 16,\n",
      "        16,  2, 86, 74, 71, 91,  2, 89, 71, 84, 71,  2, 68, 81])\n"
     ]
    }
   ],
   "source": [
    "#encoding all data into a one dimensional tensor\n",
    "data = torch.tensor(encode(qajokes), dtype=torch.long)\n",
    "print(data.shape, data.dtype)\n",
    "print(data[:500]) # the 500 characters we looked at earier will to the GPT look like this"
   ]
  },
  {
   "cell_type": "code",
   "execution_count": 13,
   "metadata": {
    "id": "Wqj8tIwXQHtc"
   },
   "outputs": [],
   "source": [
    "#find unique elemnts in the data tensor\n",
    "chars = sorted(list(set(data.numpy().flatten())))"
   ]
  },
  {
   "cell_type": "code",
   "execution_count": 16,
   "metadata": {
    "id": "G2gS5adWQQ0m"
   },
   "outputs": [],
   "source": [
    "vocab_size = len(chars) "
   ]
  },
  {
   "cell_type": "code",
   "execution_count": 17,
   "metadata": {
    "colab": {
     "base_uri": "https://localhost:8080/"
    },
    "id": "izJmSkxW5NG5",
    "outputId": "399619db-252e-4bf0-d5e5-f721aa7c4ad5"
   },
   "outputs": [
    {
     "data": {
      "text/plain": [
       "97"
      ]
     },
     "execution_count": 17,
     "metadata": {},
     "output_type": "execute_result"
    }
   ],
   "source": [
    "vocab_size"
   ]
  },
  {
   "cell_type": "code",
   "execution_count": 20,
   "metadata": {
    "id": "NAqfHLsXT1To"
   },
   "outputs": [],
   "source": [
    "# Splitting data into train and validation sets\n",
    "split = int(0.9*len(data)) # first 90% will be train, rest val\n",
    "train_data = data[:split]\n",
    "val_data = data[split:]"
   ]
  },
  {
   "cell_type": "code",
   "execution_count": 21,
   "metadata": {
    "colab": {
     "base_uri": "https://localhost:8080/"
    },
    "id": "Wn3N7xlNuX9t",
    "outputId": "2b5d7443-8255-456a-fffc-3be745dc8aa7"
   },
   "outputs": [
    {
     "data": {
      "text/plain": [
       "torch.Size([8761570])"
      ]
     },
     "execution_count": 21,
     "metadata": {},
     "output_type": "execute_result"
    }
   ],
   "source": [
    "train_data.shape"
   ]
  },
  {
   "attachments": {},
   "cell_type": "markdown",
   "metadata": {
    "id": "HFH3GWymHKO_"
   },
   "source": [
    "# Functions & Modules"
   ]
  },
  {
   "cell_type": "code",
   "execution_count": 22,
   "metadata": {
    "id": "_qRHtU1XT2gU"
   },
   "outputs": [],
   "source": [
    "#batching inputs\n",
    "\n",
    "def get_batch(split):\n",
    "    # generate a small batch of data of inputs x and targets y\n",
    "    data = train_data if split == 'train' else val_data\n",
    "    ix = torch.randint(len(data) - block_size, (batch_size,))\n",
    "    x = torch.stack([data[i:i+block_size] for i in ix])\n",
    "    y = torch.stack([data[i+1:i+block_size+1] for i in ix])\n",
    "    #print(x.shape, y.shape)\n",
    "    x, y = x.to(device), y.to(device)\n",
    "    return x, y\n"
   ]
  },
  {
   "cell_type": "code",
   "execution_count": 23,
   "metadata": {
    "id": "B0WLK-yIW9Eh"
   },
   "outputs": [],
   "source": [
    "\n",
    "@torch.no_grad()\n",
    "def estimate_loss():\n",
    "    out = {}\n",
    "    model.eval()\n",
    "    for split in ['train', 'val']:\n",
    "        losses = torch.zeros(eval_iters)\n",
    "        for k in range(eval_iters):\n",
    "            X, Y = get_batch(split)\n",
    "            #print(f\"X.shape: {X.shape}\")\n",
    "            # X; block size and batch size (inputs)\n",
    "            logits, loss = model(X, Y)\n",
    "            losses[k] = loss.item()\n",
    "        out[split] = losses.mean()\n",
    "    model.train()\n",
    "    return out"
   ]
  },
  {
   "cell_type": "code",
   "execution_count": 24,
   "metadata": {
    "id": "jRoPjdyc8n9Z"
   },
   "outputs": [],
   "source": [
    "def save_checkpoint(checkpoint, filename='checkpoint.pth.tar'):\n",
    "    \"\"\"Save checkpoint\"\"\"\n",
    "    torch.save(checkpoint, f\"/content/gdrive/MyDrive/{filename}\")   \n",
    "\n",
    "    #\"/content/gdrive/MyDrive\""
   ]
  },
  {
   "cell_type": "code",
   "execution_count": 25,
   "metadata": {
    "id": "JuI9Vdvz87h3"
   },
   "outputs": [],
   "source": [
    "def load_checkpoint(checkpoint, model, optimizer):\n",
    "    \"\"\"Load checkpoint\"\"\"\n",
    "    model.load_state_dict(checkpoint['state_dict'])\n",
    "    optimizer.load_state_dict(checkpoint['optimizer'])\n",
    "    return model, optimizer"
   ]
  },
  {
   "cell_type": "code",
   "execution_count": 28,
   "metadata": {
    "id": "nxNPL-Rtpx_8"
   },
   "outputs": [],
   "source": [
    "\n",
    "class Head(nn.Module):\n",
    "    def __init__(self, head_size):\n",
    "        super().__init__()\n",
    "        self.key = nn.Linear(n_embed, head_size, bias=False)\n",
    "        self.query = nn.Linear(n_embed, head_size, bias=False)\n",
    "        self.value = nn.Linear(n_embed, head_size, bias=False)\n",
    "        self.register_buffer('tril', torch.tril(torch.ones(block_size,block_size)))\n",
    "        self.dropout = nn.Dropout(dropout)\n",
    "\n",
    "    def forward(self, x):\n",
    "        B, T, C = x.shape\n",
    "        k = self.key(x) # (B,T,head_size)\n",
    "        q = self.query(x) # (B,T,head_size)\n",
    "\n",
    "        #Next, this computes attention scores (aka affinities)\n",
    "        #test\n",
    "        weights = q @ k.transpose(-2,-1) * k.shape[-1] ** -0.5 # Scales attention\n",
    "        weights = weights.masked_fill(self.tril == 0, float('-inf'))\n",
    "        weights = F.softmax(weights, dim=-1)\n",
    "        weights = self.dropout(weights)\n",
    "\n",
    "        v = self.value(x)\n",
    "        #print(f\"v.shape: {v.shape}\")\n",
    "        #print(f\"weights.shape: {weights.shape}\")\n",
    "        out = weights @ v\n",
    "        #print(f\"out.shape in head: {out.shape}\")\n",
    "        return out\n",
    "\n"
   ]
  },
  {
   "cell_type": "code",
   "execution_count": 29,
   "metadata": {
    "id": "QfpxVQ5nvr4H"
   },
   "outputs": [],
   "source": [
    "class MultiHeadAttention(nn.Module):\n",
    "    def __init__(self, n_head, head_size):\n",
    "        super().__init__()\n",
    "        self.heads = nn.ModuleList([Head(head_size) for _ in range(n_head)])\n",
    "        self.proj = nn.Linear(n_embed, n_embed)\n",
    "        self.dropout = nn.Dropout(dropout)\n",
    "\n",
    "    def forward(self, x):\n",
    "        #print(f\"x.shape in mha: {x.shape}\")\n",
    "        out = torch.cat([head(x) for head in self.heads], dim=-1)\n",
    "        #print(f\"out.shape in mha: {out.shape}\")\n",
    "        out = self.dropout(self.proj(out))\n",
    "        return out"
   ]
  },
  {
   "cell_type": "code",
   "execution_count": 30,
   "metadata": {
    "id": "MJk_txBXx9nn"
   },
   "outputs": [],
   "source": [
    "#Computational components\n",
    "\n",
    "class FeedForward(nn.Module):\n",
    "    def __init__(self, n_embed):\n",
    "        super().__init__()\n",
    "        self.net = nn.Sequential(\n",
    "            nn.Linear(n_embed, n_embed * 4),\n",
    "            nn.ReLU(),\n",
    "            nn.Linear(n_embed * 4, n_embed), \n",
    "            nn.Dropout(dropout)\n",
    "        )\n",
    "\n",
    "    def forward(self, x):\n",
    "        return self.net(x)\n",
    "\n"
   ]
  },
  {
   "cell_type": "code",
   "execution_count": 31,
   "metadata": {
    "id": "uhzp2kuA4c-r"
   },
   "outputs": [],
   "source": [
    "class Block(nn.Module):\n",
    "\n",
    "    def __init__(self, n_embed, n_head):\n",
    "        super().__init__()\n",
    "        head_size = n_embed // n_head\n",
    "        self.mha = MultiHeadAttention(n_head, head_size)\n",
    "        self.ffwd = FeedForward(n_embed)\n",
    "        self.ln1 = nn.LayerNorm(n_embed)\n",
    "        self.ln2 = nn.LayerNorm(n_embed)\n",
    "\n",
    "    def forward(self, x):\n",
    "        x = x + self.mha(self.ln1(x)) # 'x +' this is a skip connection\n",
    "        x = x + self.ffwd(self.ln2(x))\n",
    "        return x\n"
   ]
  },
  {
   "cell_type": "markdown",
   "metadata": {
    "id": "O82wB6CJHTY9"
   },
   "source": [
    "# Main Constructor"
   ]
  },
  {
   "cell_type": "code",
   "execution_count": null,
   "metadata": {
    "colab": {
     "base_uri": "https://localhost:8080/"
    },
    "id": "-pfCrcoKVQke",
    "outputId": "9fa433c8-0c95-4698-b00d-9b00c652ad69"
   },
   "outputs": [],
   "source": [
    "\n",
    "#nn.Module is the base class for all neural network modules in PyTorch\n",
    "#This is the constructor\n",
    "class JokePT(nn.Module):\n",
    "\n",
    "    def __init__(self):\n",
    "        super().__init__()\n",
    "        # each token directly reads off the logits for the next token from a lookup table\n",
    "        #nn.embedding is a module that takes in a tensor of size (batch_size, seq_len) \n",
    "        #and returns a tensor of size (batch_size, seq_len, embedding_dim)\n",
    "        self.token_embedding_table = nn.Embedding(vocab_size, n_embed)\n",
    "        self.positional_encoding = nn.Embedding(block_size, n_embed) #embeds position in the sequence\n",
    "        self.blocks = nn.Sequential(*[Block(n_embed, n_head=n_head) for _ in range(n_layer)])\n",
    "        self.ln_f = nn.LayerNorm(n_embed) #f for final\n",
    "        self.lm_head = nn.Linear(n_embed, vocab_size)\n",
    "\n",
    "        self.apply(self._init_weights)\n",
    "\n",
    "    def _init_weights(self, module):\n",
    "        if isinstance(module, nn.Linear):\n",
    "            torch.nn.init.normal_(module.weight, mean=0.0, std=0.02)\n",
    "            if module.bias is not None:\n",
    "                torch.nn.init.zeros_(module.bias)\n",
    "        elif isinstance(module, nn.Embedding):\n",
    "            torch.nn.init.normal_(module.weight, mean=0.0, std=0.02)                \n",
    "\n",
    "    \n",
    "    def forward(self, idx, targets=None):\n",
    "        # idx and targets are both (B,T) tensor of integers\n",
    "        # logits are the raw, unnormalized outputs of the model\n",
    "        B, T = idx.shape\n",
    "        token_embed = self.token_embedding_table(idx) # (B,T,C)\n",
    "        pos_embed = self.positional_encoding(torch.arange(T, device = device)) # ints from 0 -> T-1 (T,C)\n",
    "        embed = token_embed + pos_embed # (B,T,C)\n",
    "        embed = self.blocks(embed) # (B,T,C)\n",
    "        embed = self.ln_f(embed) # (B,T,C)\n",
    "        logits = self.lm_head(embed) # (B,T,V) v being vocab_size\n",
    "\n",
    "        if targets is None:\n",
    "            loss = None\n",
    "        else:\n",
    "            B, T, C = logits.shape\n",
    "            # (B,T,C) -> (B*T,C) for ease in using F.cross_entropy\n",
    "            logits = logits.view(B*T, C)\n",
    "            targets = targets.view(B*T)\n",
    "            loss = F.cross_entropy(logits, targets) #loss function\n",
    "\n",
    "        return logits, loss\n",
    "    \n",
    "    def generate(self, idx, max_new_tokens):\n",
    "        # idx is (B, T) array of indices in the current context\n",
    "        for _ in range(max_new_tokens):\n",
    "            # crop idx to the last block_size tokens\n",
    "            idx_cond = idx[:, -block_size:]\n",
    "            # get the predictions\n",
    "            logits, loss = self(idx_cond)\n",
    "            # focus only on the last time step\n",
    "            logits = logits[:, -1, :] # becomes (B, C)\n",
    "            # apply softmax to get probabilities (takes input vector of real \n",
    "            # numbers and returns a vector of probabilities that sum to 1)\n",
    "            probs = F.softmax(logits, dim=-1) # (B, C)\n",
    "            # sample from the distribution\n",
    "            idx_next = torch.multinomial(probs, num_samples=1) # (B, 1)\n",
    "            # append sampled index to the running sequence\n",
    "            idx = torch.cat((idx, idx_next), dim=1) # (B, T+1)\n",
    "        return idx\n",
    "\n",
    "\n",
    "model = JokePT()\n",
    "model = model.to(device)\n",
    "print(sum(p.numel() for p in model.parameters() if p.requires_grad)) #prints params\n"
   ]
  },
  {
   "cell_type": "code",
   "execution_count": null,
   "metadata": {
    "id": "FI9tdfaIVRTd"
   },
   "outputs": [],
   "source": [
    "# create a PyTorch optimizer\n",
    "optimizer = torch.optim.AdamW(model.parameters(), lr= learning_rate)"
   ]
  },
  {
   "cell_type": "markdown",
   "metadata": {
    "id": "urx3uk8sHb8G"
   },
   "source": [
    "# Loss f' and Main training loop"
   ]
  },
  {
   "cell_type": "code",
   "execution_count": null,
   "metadata": {
    "colab": {
     "base_uri": "https://localhost:8080/"
    },
    "id": "E7XZPzzEc78y",
    "outputId": "fd626fec-4813-4fe2-96bc-f30b3389ddaa"
   },
   "outputs": [
    {
     "name": "stdout",
     "output_type": "stream",
     "text": [
      "step 0: train loss 1.2782, val loss 1.2889\n",
      "step 1000: train loss 1.1954, val loss 1.2120\n",
      "step 2000: train loss 1.1461, val loss 1.1691\n",
      "step 3000: train loss 1.1020, val loss 1.1306\n",
      "step 4000: train loss 1.0696, val loss 1.1065\n",
      "step 5000: train loss 1.0451, val loss 1.0887\n",
      "step 6000: train loss 1.0264, val loss 1.0677\n",
      "step 7000: train loss 1.0086, val loss 1.0625\n",
      "step 8000: train loss 0.9974, val loss 1.0531\n",
      "step 9000: train loss 0.9803, val loss 1.0413\n",
      "step 10000: train loss 0.9676, val loss 1.0362\n",
      "step 11000: train loss 0.9573, val loss 1.0322\n"
     ]
    }
   ],
   "source": [
    "Ls = []\n",
    "\n",
    "for iter in range(max_iters): # increase number of steps for good results... \n",
    "    \n",
    "    # every once in a while evaluate the loss on train and val sets\n",
    "    if iter % eval_interval == 0:\n",
    "        checkpoint = {'model': model.state_dict(), 'optimizer': optimizer.state_dict()}\n",
    "        save_checkpoint(checkpoint, filename='checkpoint-03.pth.tar')\n",
    "        losses = estimate_loss()\n",
    "        print(f\"step {iter}: train loss {losses['train']:.4f}, val loss {losses['val']:.4f}\")\n",
    "        \n",
    "\n",
    "    # sample a batch of data\n",
    "    xb, yb = get_batch('train')\n",
    "\n",
    "    # evaluate the loss\n",
    "    logits, loss = model(xb, yb)\n",
    "    optimizer.zero_grad(set_to_none=True)\n",
    "    loss.backward()\n",
    "    optimizer.step()\n",
    "    Ls.append(loss.item())\n",
    "\n"
   ]
  },
  {
   "cell_type": "code",
   "execution_count": null,
   "metadata": {
    "colab": {
     "base_uri": "https://localhost:8080/",
     "height": 301
    },
    "id": "tkw4lN2cc8cj",
    "outputId": "98a7af30-4e0f-4461-d779-eabf910c7c34"
   },
   "outputs": [
    {
     "name": "stdout",
     "output_type": "stream",
     "text": [
      "Loss over time (iterations):\n"
     ]
    },
    {
     "data": {
      "image/png": "[encoded data removed]",
      "text/plain": [
       "<Figure size 432x288 with 1 Axes>"
      ]
     },
     "metadata": {
      "needs_background": "light"
     },
     "output_type": "display_data"
    },
    {
     "data": {
      "text/plain": [
       "<Figure size 432x288 with 0 Axes>"
      ]
     },
     "metadata": {},
     "output_type": "display_data"
    }
   ],
   "source": [
    "#plot decrease in loss over time\n",
    "xs = []\n",
    "ys = []\n",
    "for x, y in enumerate(Ls):\n",
    "    xs.append(x)\n",
    "    ys.append(y)\n",
    "\n",
    "print(\"Loss over time (iterations):\")\n",
    "plt.plot(xs, ys)\n",
    "plt.show()\n",
    "plt.savefig('/content/gdrive/MyDrive/loss_over_time03.png')"
   ]
  },
  {
   "cell_type": "code",
   "execution_count": null,
   "metadata": {
    "id": "Ydu-NLe31if3"
   },
   "outputs": [],
   "source": [
    "#Load model with map_location=torch.device('cpu')\n",
    "model = torch.load('/content/gdrive/MyDrive/checkpoint-03.pth.tar', map_location=torch.device('cpu'))['model']"
   ]
  },
  {
   "cell_type": "code",
   "execution_count": null,
   "metadata": {
    "colab": {
     "base_uri": "https://localhost:8080/",
     "height": 222
    },
    "id": "mSQtfVwBfgU2",
    "outputId": "e59d012c-2d3a-4f62-8d2a-bb9efd719a46"
   },
   "outputs": [
    {
     "ename": "AttributeError",
     "evalue": "ignored",
     "output_type": "error",
     "traceback": [
      "\u001b[0;31m---------------------------------------------------------------------------\u001b[0m",
      "\u001b[0;31mAttributeError\u001b[0m                            Traceback (most recent call last)",
      "\u001b[0;32m<ipython-input-19-2b3d4dae0108>\u001b[0m in \u001b[0;36m<module>\u001b[0;34m\u001b[0m\n\u001b[1;32m      1\u001b[0m \u001b[0mcontext\u001b[0m \u001b[0;34m=\u001b[0m \u001b[0mtorch\u001b[0m\u001b[0;34m.\u001b[0m\u001b[0mzeros\u001b[0m\u001b[0;34m(\u001b[0m\u001b[0;34m(\u001b[0m\u001b[0;36m1\u001b[0m\u001b[0;34m,\u001b[0m \u001b[0;36m256\u001b[0m\u001b[0;34m)\u001b[0m\u001b[0;34m,\u001b[0m \u001b[0mdtype\u001b[0m\u001b[0;34m=\u001b[0m\u001b[0mtorch\u001b[0m\u001b[0;34m.\u001b[0m\u001b[0mlong\u001b[0m\u001b[0;34m)\u001b[0m \u001b[0;31m#256\u001b[0m\u001b[0;34m\u001b[0m\u001b[0;34m\u001b[0m\u001b[0m\n\u001b[1;32m      2\u001b[0m \u001b[0mcontext\u001b[0m \u001b[0;34m=\u001b[0m \u001b[0mcontext\u001b[0m\u001b[0;34m.\u001b[0m\u001b[0mto\u001b[0m\u001b[0;34m(\u001b[0m\u001b[0mdevice\u001b[0m\u001b[0;34m)\u001b[0m\u001b[0;34m\u001b[0m\u001b[0;34m\u001b[0m\u001b[0m\n\u001b[0;32m----> 3\u001b[0;31m \u001b[0manswer\u001b[0m \u001b[0;34m=\u001b[0m \u001b[0mdecode\u001b[0m\u001b[0;34m(\u001b[0m\u001b[0mmodel\u001b[0m\u001b[0;34m.\u001b[0m\u001b[0mgenerate\u001b[0m\u001b[0;34m(\u001b[0m\u001b[0mcontext\u001b[0m\u001b[0;34m,\u001b[0m \u001b[0mmax_new_tokens\u001b[0m\u001b[0;34m=\u001b[0m\u001b[0;36m1000\u001b[0m\u001b[0;34m)\u001b[0m\u001b[0;34m[\u001b[0m\u001b[0;36m0\u001b[0m\u001b[0;34m]\u001b[0m\u001b[0;34m.\u001b[0m\u001b[0mtolist\u001b[0m\u001b[0;34m(\u001b[0m\u001b[0;34m)\u001b[0m\u001b[0;34m)\u001b[0m\u001b[0;34m\u001b[0m\u001b[0;34m\u001b[0m\u001b[0m\n\u001b[0m\u001b[1;32m      4\u001b[0m \u001b[0mprint\u001b[0m\u001b[0;34m(\u001b[0m\u001b[0manswer\u001b[0m\u001b[0;34m)\u001b[0m\u001b[0;34m\u001b[0m\u001b[0;34m\u001b[0m\u001b[0m\n",
      "\u001b[0;31mAttributeError\u001b[0m: 'collections.OrderedDict' object has no attribute 'generate'"
     ]
    }
   ],
   "source": [
    "context = torch.zeros((1, 256), dtype=torch.long) #256\n",
    "context = context.to(device)\n",
    "answer = decode(model.generate(context, max_new_tokens=1000)[0].tolist())\n",
    "print(answer)"
   ]
  }
 ],
 "metadata": {
  "colab": {
   "provenance": []
  },
  "gpuClass": "standard",
  "kernelspec": {
   "display_name": "venv",
   "language": "python",
   "name": "python3"
  },
  "language_info": {
   "codemirror_mode": {
    "name": "ipython",
    "version": 3
   },
   "file_extension": ".py",
   "mimetype": "text/x-python",
   "name": "python",
   "nbconvert_exporter": "python",
   "pygments_lexer": "ipython3",
   "version": "3.9.13 (main, Aug 25 2022, 18:29:29) \n[Clang 12.0.0 ]"
  },
  "vscode": {
   "interpreter": {
    "hash": "57dbe44eb74a19d18f388e4d9fafc4d32a78d1722d572d14a517bc61ad3dae60"
   }
  }
 },
 "nbformat": 4,
 "nbformat_minor": 1
}
