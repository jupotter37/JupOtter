{
  "cells": [
    {
      "cell_type": "markdown",
      "metadata": {
        "id": "view-in-github",
        "colab_type": "text"
      },
      "source": [
        "<a href=\"https://colab.research.google.com/github/iap095/ONLINE_DS_THEBRIDGE-PASO_2.3-/blob/main/Parte_6_P%C3%ADldora_3_Junyper_DS_01_02_02_N03_V03.ipynb\" target=\"_parent\"><img src=\"https://colab.research.google.com/assets/colab-badge.svg\" alt=\"Open In Colab\"/></a>"
      ]
    },
    {
      "cell_type": "markdown",
      "metadata": {
        "id": "0q48yD4ZCeq6"
      },
      "source": [
        "##  Atributos\n"
      ]
    },
    {
      "cell_type": "markdown",
      "metadata": {
        "id": "Bu8ihqbuCeq7"
      },
      "source": [
        "### Contenidos\n"
      ]
    },
    {
      "cell_type": "markdown",
      "metadata": {
        "id": "f5xM7vZTCeq8"
      },
      "source": [
        "* [Introducción  ](#Introducción--)\n"
      ]
    },
    {
      "cell_type": "markdown",
      "metadata": {
        "id": "qIU907cMCeq-"
      },
      "source": [
        "### Introducción  \n",
        "[al indice](#Contenidos)  \n",
        "Son las **características que definen a los objetos de una clase**. La marca, el color, potencia del coche. Estos son atributos, que se definen de manera genérica en la clase y luego cada objeto *Coche* tendrá un valor para cada uno de sus atributos.\n",
        "\n",
        "Los atributos los definimos tras la declaración de la clase. Y luego se accede a ellos mediante la sintaxis `objeto.atributo`\n",
        "\n",
        "Vamos a empezar a definir atributos en los coches."
      ]
    },
    {
      "cell_type": "code",
      "execution_count": 1,
      "metadata": {
        "id": "kMmA5J4ZCeq_"
      },
      "outputs": [],
      "source": [
        "class Coche:\n",
        "  puertas = 4\n",
        "  ruedas = 4\n",
        ""
      ]
    },
    {
      "cell_type": "markdown",
      "metadata": {
        "id": "1U7lMW-iCerB"
      },
      "source": [
        "Ahora todos los coches que creamos, tendrán 4 puertas y 4 ruedas."
      ]
    },
    {
      "cell_type": "code",
      "execution_count": 2,
      "metadata": {
        "id": "5Lyh5PuzCerC",
        "outputId": "1f618561-d5ee-4553-c9c6-06615c8f00e6",
        "colab": {
          "base_uri": "https://localhost:8080/"
        }
      },
      "outputs": [
        {
          "output_type": "stream",
          "name": "stdout",
          "text": [
            "4\n",
            "4\n"
          ]
        }
      ],
      "source": [
        "tesla = Coche()\n",
        "print(tesla.puertas)#.atributo al que queramos acceder\n",
        "print(tesla.ruedas)"
      ]
    },
    {
      "cell_type": "markdown",
      "metadata": {
        "id": "Mtcti_iECerD"
      },
      "source": [
        "También podemos modificar los atributos. Esto Python lo hace muy sencillo, los cambiamos directamente reasignando valores. En otros lenguajes de programación hay que implementar esto mediante métodos  denominados `getters` y `setters`."
      ]
    },
    {
      "cell_type": "code",
      "execution_count": 3,
      "metadata": {
        "id": "w3GQHOQ5CerE",
        "outputId": "9d32c327-4280-4359-9e4f-192fcb974218",
        "colab": {
          "base_uri": "https://localhost:8080/"
        }
      },
      "outputs": [
        {
          "output_type": "stream",
          "name": "stdout",
          "text": [
            "3\n",
            "4\n"
          ]
        }
      ],
      "source": [
        "mercedes = Coche()\n",
        "#vamos a cabiar un atributo pero SOLO para este coche\n",
        "mercedes.puertas = 3\n",
        "print(mercedes.puertas)\n",
        "print(tesla.puertas)# para este sigue siendo el generico"
      ]
    },
    {
      "cell_type": "code",
      "source": [
        "peugeot = Coche()\n",
        "print(peugeot.puertas)"
      ],
      "metadata": {
        "id": "HTpD7NBwU-f4",
        "outputId": "1db09b1f-0000-4217-efea-807ddd64cff7",
        "colab": {
          "base_uri": "https://localhost:8080/"
        }
      },
      "execution_count": 4,
      "outputs": [
        {
          "output_type": "stream",
          "name": "stdout",
          "text": [
            "4\n"
          ]
        }
      ]
    },
    {
      "cell_type": "markdown",
      "metadata": {
        "id": "qKcdVYSZCerE"
      },
      "source": [
        "<table align=\"left\">\n",
        " <tr><td width=\"80\"><img src=\"./img/error.png\" style=\"width:auto;height:auto\"></td>\n",
        "     <td style=\"text-align:left\">\n",
        "         <h3>ERRORES atributos que no existen</h3>\n",
        "         \n",
        " </td></tr>\n",
        "</table>"
      ]
    },
    {
      "cell_type": "code",
      "execution_count": 5,
      "metadata": {
        "id": "of0wj87yCerF",
        "outputId": "9f711fa4-4002-4939-a588-e761b3b6aec6",
        "colab": {
          "base_uri": "https://localhost:8080/",
          "height": 149
        }
      },
      "outputs": [
        {
          "output_type": "error",
          "ename": "AttributeError",
          "evalue": "'Coche' object has no attribute 'motor'",
          "traceback": [
            "\u001b[0;31m---------------------------------------------------------------------------\u001b[0m",
            "\u001b[0;31mAttributeError\u001b[0m                            Traceback (most recent call last)",
            "\u001b[0;32m<ipython-input-5-0dbec6ec79f0>\u001b[0m in \u001b[0;36m<cell line: 1>\u001b[0;34m()\u001b[0m\n\u001b[0;32m----> 1\u001b[0;31m \u001b[0mprint\u001b[0m\u001b[0;34m(\u001b[0m\u001b[0mmercedes\u001b[0m\u001b[0;34m.\u001b[0m\u001b[0mmotor\u001b[0m\u001b[0;34m)\u001b[0m\u001b[0;31m#este atributo no lo tiene\u001b[0m\u001b[0;34m\u001b[0m\u001b[0;34m\u001b[0m\u001b[0m\n\u001b[0m",
            "\u001b[0;31mAttributeError\u001b[0m: 'Coche' object has no attribute 'motor'"
          ]
        }
      ],
      "source": [
        "print(mercedes.motor)#este atributo no lo tiene"
      ]
    },
    {
      "cell_type": "markdown",
      "metadata": {
        "id": "fEEOW_ZHCerG"
      },
      "source": [
        "Seguimos sin poder diferenciar claramente un coche de otro, pero ya vamos definiendo sus características, que será posible ir modificándolas tanto en la inicialización del objeto, como después. De momento, tenemos características comunes a todos los coches... o no, ¿todos los coches tienen 4 puertas?"
      ]
    },
    {
      "cell_type": "code",
      "source": [
        "bmw = Coche()\n",
        "bmw.puertas = 6\n",
        "bmw.ruedas = 8\n",
        "# si hay muchos objetos con caracteristicas propias es tedioso. En la siguiente se agiliza"
      ],
      "metadata": {
        "id": "Ngt9agYCVVBU"
      },
      "execution_count": null,
      "outputs": []
    },
    {
      "cell_type": "code",
      "source": [],
      "metadata": {
        "id": "lus02X0DVc4N"
      },
      "execution_count": null,
      "outputs": []
    }
  ],
  "metadata": {
    "kernelspec": {
      "display_name": "Python 3 (ipykernel)",
      "language": "python",
      "name": "python3"
    },
    "language_info": {
      "codemirror_mode": {
        "name": "ipython",
        "version": 3
      },
      "file_extension": ".py",
      "mimetype": "text/x-python",
      "name": "python",
      "nbconvert_exporter": "python",
      "pygments_lexer": "ipython3",
      "version": "3.9.7"
    },
    "colab": {
      "provenance": [],
      "include_colab_link": true
    }
  },
  "nbformat": 4,
  "nbformat_minor": 0
}