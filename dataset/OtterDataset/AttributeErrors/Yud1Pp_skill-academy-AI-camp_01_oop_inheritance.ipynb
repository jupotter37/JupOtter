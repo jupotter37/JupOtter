{
  "cells": [
    {
      "cell_type": "markdown",
      "metadata": {
        "id": "view-in-github",
        "colab_type": "text"
      },
      "source": [
        "<a href=\"https://colab.research.google.com/github/Yud1Pp/skill-academy-AI-camp/blob/main/Webinar%232%20-%20Python%20-%202/01_oop_inheritance.ipynb\" target=\"_parent\"><img src=\"https://colab.research.google.com/assets/colab-badge.svg\" alt=\"Open In Colab\"/></a>"
      ]
    },
    {
      "cell_type": "markdown",
      "metadata": {
        "id": "ttv0-t7EDdN8"
      },
      "source": [
        "# Inheritance\n",
        "\n",
        "Inheritance is a way to create a derived class from a base class. The derived class will inherit all the attributes and methods from the base class."
      ]
    },
    {
      "cell_type": "code",
      "source": [
        "print(\"halo aku adipta\")"
      ],
      "metadata": {
        "colab": {
          "base_uri": "https://localhost:8080/"
        },
        "id": "kTmvFWmOD0eR",
        "outputId": "45803629-44ba-4621-c1e3-1794e8a7d930"
      },
      "execution_count": null,
      "outputs": [
        {
          "output_type": "stream",
          "name": "stdout",
          "text": [
            "halo aku adipta\n"
          ]
        }
      ]
    },
    {
      "cell_type": "code",
      "source": [
        "print(\"halo aku bayu\")"
      ],
      "metadata": {
        "colab": {
          "base_uri": "https://localhost:8080/"
        },
        "id": "0BX6a-nOD3CF",
        "outputId": "587d7c4e-9f33-4e9a-acdf-78ffb3eb46a8"
      },
      "execution_count": null,
      "outputs": [
        {
          "output_type": "stream",
          "name": "stdout",
          "text": [
            "halo aku bayu\n"
          ]
        }
      ]
    },
    {
      "cell_type": "code",
      "source": [
        "print(\"halo aku sinta\")"
      ],
      "metadata": {
        "colab": {
          "base_uri": "https://localhost:8080/"
        },
        "id": "hdF1B9spD40p",
        "outputId": "01e0db0b-4c56-486d-f939-6132de42da11"
      },
      "execution_count": null,
      "outputs": [
        {
          "output_type": "stream",
          "name": "stdout",
          "text": [
            "halo aku sinta\n"
          ]
        }
      ]
    },
    {
      "cell_type": "code",
      "source": [
        "nama = \"Adipta\"\n",
        "print(f\"halo aku {nama}\")"
      ],
      "metadata": {
        "colab": {
          "base_uri": "https://localhost:8080/"
        },
        "id": "-bjtrm0GD7Y3",
        "outputId": "7566a8fd-0ebc-4ecb-f8e8-de368fd3da82"
      },
      "execution_count": null,
      "outputs": [
        {
          "output_type": "stream",
          "name": "stdout",
          "text": [
            "halo aku Adipta\n"
          ]
        }
      ]
    },
    {
      "cell_type": "code",
      "execution_count": null,
      "metadata": {
        "id": "NO1TE0ClDdN_"
      },
      "outputs": [],
      "source": [
        "class Employee:\n",
        "    def __init__(self, name, employee_id, salary):\n",
        "        self.name = name\n",
        "        self.employee_id = employee_id\n",
        "        self.salary = salary\n",
        "\n",
        "    def display_info(self):\n",
        "        print(f\"Employee ID: {self.employee_id}\\nName: {self.name}\\nSalary: ${self.salary}\")\n",
        "\n",
        "class Manager(Employee):\n",
        "    def __init__(self, name, employee_id, salary, department):\n",
        "        super().__init__(name, employee_id, salary)\n",
        "        self.department = department\n",
        "        self.projects = []\n",
        "\n",
        "    def display_info(self):\n",
        "        super().display_info()\n",
        "        print(f\"Department: {self.department}\\nRole: Manager\")\n",
        "\n",
        "    def add_project(self, project_name):\n",
        "        self.projects.append(project_name)\n",
        "        print(f\"{self.name} added a new project: {project_name}\")\n",
        "\n",
        "    def manage_team(self):\n",
        "        print(f\"{self.name} is managing the team and projects.\")\n",
        "\n",
        "class Developer(Employee):\n",
        "    def __init__(self, name, employee_id, salary, programming_language):\n",
        "        super().__init__(name, employee_id, salary)\n",
        "        self.programming_language = programming_language\n",
        "        self.tasks = []\n",
        "\n",
        "    def display_info(self):\n",
        "        super().display_info()\n",
        "        print(f\"Programming Language: {self.programming_language}\\nRole: Developer\")\n",
        "\n",
        "    def add_task(self, task_name):\n",
        "        self.tasks.append(task_name)\n",
        "        print(f\"{self.name} added a new task: {task_name}\")\n",
        "\n",
        "    def write_code(self):\n",
        "        print(f\"{self.name} is writing code for the project.\")"
      ]
    },
    {
      "cell_type": "code",
      "source": [
        "%%writefile main.py\n",
        "\n",
        "def substraction(x, y):\n",
        "   print(x - y)\n",
        "\n",
        "if __name__ == '__main__':\n",
        "   substraction(10, 5)"
      ],
      "metadata": {
        "colab": {
          "base_uri": "https://localhost:8080/"
        },
        "id": "bEkFBXj_EY2w",
        "outputId": "0054cd0e-a140-443c-d264-c583b8eb9eab"
      },
      "execution_count": null,
      "outputs": [
        {
          "output_type": "stream",
          "name": "stdout",
          "text": [
            "Overwriting main.py\n"
          ]
        }
      ]
    },
    {
      "cell_type": "code",
      "source": [
        "!python main.py"
      ],
      "metadata": {
        "colab": {
          "base_uri": "https://localhost:8080/"
        },
        "id": "SgBs1ZA-Eoaz",
        "outputId": "61950349-a1e9-4beb-afd5-a61e4560f9de"
      },
      "execution_count": null,
      "outputs": [
        {
          "output_type": "stream",
          "name": "stdout",
          "text": [
            "5\n"
          ]
        }
      ]
    },
    {
      "cell_type": "code",
      "source": [
        "def set_double(self, x):\n",
        "    self.double = lambda x: x * 2"
      ],
      "metadata": {
        "id": "1bB4m14hE7Q4"
      },
      "execution_count": null,
      "outputs": []
    },
    {
      "cell_type": "code",
      "source": [
        "# Creating instances of the subclasses\n",
        "manager1 = Manager(\"Alice\", 1001, 80000, \"Engineering\")\n",
        "developer1 = Developer(\"Bob\", 2001, 70000, \"Python\")"
      ],
      "metadata": {
        "id": "IO53JWjGCar_"
      },
      "execution_count": null,
      "outputs": []
    },
    {
      "cell_type": "code",
      "source": [
        "# Using the objects\n",
        "print(\"Manager Information:\")\n",
        "manager1.display_info()"
      ],
      "metadata": {
        "colab": {
          "base_uri": "https://localhost:8080/",
          "height": 315
        },
        "id": "B9IS63KkCfdx",
        "outputId": "ce4423fb-aed3-42e4-939d-a4524087e66e"
      },
      "execution_count": null,
      "outputs": [
        {
          "output_type": "stream",
          "name": "stdout",
          "text": [
            "Manager Information:\n"
          ]
        },
        {
          "output_type": "error",
          "ename": "AttributeError",
          "evalue": "'super' object has no attribute 'display_info'",
          "traceback": [
            "\u001b[0;31m---------------------------------------------------------------------------\u001b[0m",
            "\u001b[0;31mAttributeError\u001b[0m                            Traceback (most recent call last)",
            "\u001b[0;32m<ipython-input-9-5ce84b236180>\u001b[0m in \u001b[0;36m<cell line: 3>\u001b[0;34m()\u001b[0m\n\u001b[1;32m      1\u001b[0m \u001b[0;31m# Using the objects\u001b[0m\u001b[0;34m\u001b[0m\u001b[0;34m\u001b[0m\u001b[0m\n\u001b[1;32m      2\u001b[0m \u001b[0mprint\u001b[0m\u001b[0;34m(\u001b[0m\u001b[0;34m\"Manager Information:\"\u001b[0m\u001b[0;34m)\u001b[0m\u001b[0;34m\u001b[0m\u001b[0;34m\u001b[0m\u001b[0m\n\u001b[0;32m----> 3\u001b[0;31m \u001b[0mmanager1\u001b[0m\u001b[0;34m.\u001b[0m\u001b[0mdisplay_info\u001b[0m\u001b[0;34m(\u001b[0m\u001b[0;34m)\u001b[0m\u001b[0;34m\u001b[0m\u001b[0;34m\u001b[0m\u001b[0m\n\u001b[0m",
            "\u001b[0;32m<ipython-input-7-e67591c7c853>\u001b[0m in \u001b[0;36mdisplay_info\u001b[0;34m(self)\u001b[0m\n\u001b[1;32m     15\u001b[0m \u001b[0;34m\u001b[0m\u001b[0m\n\u001b[1;32m     16\u001b[0m     \u001b[0;32mdef\u001b[0m \u001b[0mdisplay_info\u001b[0m\u001b[0;34m(\u001b[0m\u001b[0mself\u001b[0m\u001b[0;34m)\u001b[0m\u001b[0;34m:\u001b[0m\u001b[0;34m\u001b[0m\u001b[0;34m\u001b[0m\u001b[0m\n\u001b[0;32m---> 17\u001b[0;31m         \u001b[0msuper\u001b[0m\u001b[0;34m(\u001b[0m\u001b[0;34m)\u001b[0m\u001b[0;34m.\u001b[0m\u001b[0mdisplay_info\u001b[0m\u001b[0;34m(\u001b[0m\u001b[0;34m)\u001b[0m\u001b[0;34m\u001b[0m\u001b[0;34m\u001b[0m\u001b[0m\n\u001b[0m\u001b[1;32m     18\u001b[0m         \u001b[0mprint\u001b[0m\u001b[0;34m(\u001b[0m\u001b[0;34mf\"Department: {self.department}\\nRole: Manager\"\u001b[0m\u001b[0;34m)\u001b[0m\u001b[0;34m\u001b[0m\u001b[0;34m\u001b[0m\u001b[0m\n\u001b[1;32m     19\u001b[0m \u001b[0;34m\u001b[0m\u001b[0m\n",
            "\u001b[0;31mAttributeError\u001b[0m: 'super' object has no attribute 'display_info'"
          ]
        }
      ]
    },
    {
      "cell_type": "code",
      "source": [
        "\n",
        "\n",
        "\n",
        "manager1.add_project(\"Project A\")\n",
        "manager1.manage_team()\n",
        "\n",
        "print(\"\\nDeveloper Information:\")\n",
        "developer1.display_info()\n",
        "developer1.add_task(\"Feature X\")\n",
        "developer1.write_code()"
      ],
      "metadata": {
        "id": "Z5xKAe2eCV2-"
      },
      "execution_count": null,
      "outputs": []
    },
    {
      "cell_type": "markdown",
      "metadata": {
        "id": "QFINmMbnDdOB"
      },
      "source": [
        "As you can see above we can create different type of employees by inheriting from the base class Employee, now we have a Developer and a Manager class. This concept of inheritance is very useful like what we can see in the example above, developers and managers are both employees, so they can share the same attributes and methods from the base class Employee, but still they have their own attributes and methods that are unique to them when needed."
      ]
    },
    {
      "cell_type": "markdown",
      "metadata": {
        "id": "fptSuzWzDdOC"
      },
      "source": [
        "# Parent and child\n",
        "\n",
        "In object oriented programming when a class inherits from another class, the class that inherits is called the child class and the class that is being inherited from is called the parent class. The syntax is pretty simple:"
      ]
    },
    {
      "cell_type": "code",
      "execution_count": null,
      "metadata": {
        "id": "fFaBaYGaDdOD",
        "outputId": "e1a32011-4755-4855-f6ee-5cc270cd4cc9",
        "colab": {
          "base_uri": "https://localhost:8080/"
        }
      },
      "outputs": [
        {
          "output_type": "stream",
          "name": "stdout",
          "text": [
            "Name: Alice\n",
            "Age: 20\n"
          ]
        }
      ],
      "source": [
        "# Create python parent and child\n",
        "# base class atau parent\n",
        "class Person:\n",
        "    def __init__(self, name, age):\n",
        "        self.name = name\n",
        "        self.age = age\n",
        "\n",
        "    def display_info(self):\n",
        "        print(f\"Name: {self.name}\\nAge: {self.age}\")\n",
        "\n",
        "# child\n",
        "class Student(Person):\n",
        "    def __init__(self, name, age, student_id, major):\n",
        "        super().__init__(name, age)\n",
        "        self.student_id = student_id\n",
        "        self.major = major\n",
        "\n",
        "student = Student(\"Alice\", 20, 1001, \"Computer Science\")\n",
        "student.display_info()"
      ]
    },
    {
      "cell_type": "markdown",
      "metadata": {
        "id": "JuT8_MhzDdOD"
      },
      "source": [
        "# Overriding parent methods\n",
        "\n",
        "Sometimes we want to change the behavior of a method that is inherited from the parent class. We can do this by overriding the method in the child class."
      ]
    },
    {
      "cell_type": "code",
      "execution_count": null,
      "metadata": {
        "id": "zXHqQHk6DdOE"
      },
      "outputs": [],
      "source": [
        "# Create python parent and child\n",
        "\n",
        "class Person:\n",
        "    def __init__(self, name, age):\n",
        "        self.name = name\n",
        "        self.age = age\n",
        "\n",
        "    def display_info(self):\n",
        "        print(f\"Name: {self.name}\\nAge: {self.age}\")\n",
        "\n",
        "class Student(Person):\n",
        "    def __init__(self, name, age, student_id, major):\n",
        "        super().__init__(name, age)\n",
        "        self.student_id = student_id\n",
        "        self.major = major\n",
        "\n",
        "    def display_info(self):\n",
        "        print(f\"Name: {self.name}\\nAge: {self.age}\\nStudent ID: {self.student_id}\\nMajor: {self.major}\")\n",
        "\n",
        "student = Student(\"Alice\", 20, 1001, \"Computer Science\")\n",
        "student.display_info()"
      ]
    },
    {
      "cell_type": "markdown",
      "metadata": {
        "id": "dSArrBdPDdOE"
      },
      "source": [
        "# `super()`\n",
        "\n",
        "`super()` is a function that allows us to use the parent class methods and attributes. When we call `super()` we are calling the parent class and we can access its methods and attributes."
      ]
    },
    {
      "cell_type": "code",
      "execution_count": null,
      "metadata": {
        "id": "wiaoiao9DdOE",
        "outputId": "05d0352f-877d-452f-8c0e-c91c8d75081d"
      },
      "outputs": [
        {
          "name": "stdout",
          "output_type": "stream",
          "text": [
            "Name: Alice\n",
            "Age: 20\n",
            "Student ID: 1001\n",
            "Major: Computer Science\n"
          ]
        }
      ],
      "source": [
        "# Create python parent and child\n",
        "\n",
        "class Person:\n",
        "    def __init__(self, name, age):\n",
        "        self.name = name\n",
        "        self.age = age\n",
        "\n",
        "    def display_info(self):\n",
        "        print(f\"Name: {self.name}\\nAge: {self.age}\")\n",
        "\n",
        "class Student(Person):\n",
        "    def __init__(self, name, age, student_id, major):\n",
        "        super().__init__(name, age)\n",
        "        self.student_id = student_id\n",
        "        self.major = major\n",
        "\n",
        "    def display_info(self):\n",
        "        super().display_info()\n",
        "        print(f\"Student ID: {self.student_id}\\nMajor: {self.major}\")\n",
        "\n",
        "student = Student(\"Alice\", 20, 1001, \"Computer Science\")\n",
        "student.display_info()"
      ]
    },
    {
      "cell_type": "markdown",
      "metadata": {
        "id": "L1wIacvFDdOF"
      },
      "source": [
        "As we can see above that we call the parent's class `display_info()` method in our overridden method `display_info()`, it makes us possible to use the parent's class method and add some extra functionality to it rather than rewriting the whole method."
      ]
    },
    {
      "cell_type": "markdown",
      "metadata": {
        "id": "cQFquMPRDdOF"
      },
      "source": [
        "# Exercise"
      ]
    },
    {
      "cell_type": "code",
      "source": [
        "!pip install rggrader"
      ],
      "metadata": {
        "id": "RJ3dWOBhUE0Z",
        "outputId": "3bce0dda-ceda-4b93-adf4-71ea2a0b0c6c",
        "colab": {
          "base_uri": "https://localhost:8080/"
        }
      },
      "execution_count": 1,
      "outputs": [
        {
          "output_type": "stream",
          "name": "stdout",
          "text": [
            "Collecting rggrader\n",
            "  Downloading rggrader-0.1.6-py3-none-any.whl.metadata (485 bytes)\n",
            "Requirement already satisfied: requests in /usr/local/lib/python3.10/dist-packages (from rggrader) (2.31.0)\n",
            "Requirement already satisfied: pandas in /usr/local/lib/python3.10/dist-packages (from rggrader) (2.0.3)\n",
            "Requirement already satisfied: Pillow in /usr/local/lib/python3.10/dist-packages (from rggrader) (9.4.0)\n",
            "Requirement already satisfied: python-dateutil>=2.8.2 in /usr/local/lib/python3.10/dist-packages (from pandas->rggrader) (2.8.2)\n",
            "Requirement already satisfied: pytz>=2020.1 in /usr/local/lib/python3.10/dist-packages (from pandas->rggrader) (2023.4)\n",
            "Requirement already satisfied: tzdata>=2022.1 in /usr/local/lib/python3.10/dist-packages (from pandas->rggrader) (2024.1)\n",
            "Requirement already satisfied: numpy>=1.21.0 in /usr/local/lib/python3.10/dist-packages (from pandas->rggrader) (1.25.2)\n",
            "Requirement already satisfied: charset-normalizer<4,>=2 in /usr/local/lib/python3.10/dist-packages (from requests->rggrader) (3.3.2)\n",
            "Requirement already satisfied: idna<4,>=2.5 in /usr/local/lib/python3.10/dist-packages (from requests->rggrader) (3.7)\n",
            "Requirement already satisfied: urllib3<3,>=1.21.1 in /usr/local/lib/python3.10/dist-packages (from requests->rggrader) (2.0.7)\n",
            "Requirement already satisfied: certifi>=2017.4.17 in /usr/local/lib/python3.10/dist-packages (from requests->rggrader) (2024.7.4)\n",
            "Requirement already satisfied: six>=1.5 in /usr/local/lib/python3.10/dist-packages (from python-dateutil>=2.8.2->pandas->rggrader) (1.16.0)\n",
            "Downloading rggrader-0.1.6-py3-none-any.whl (2.5 kB)\n",
            "Installing collected packages: rggrader\n",
            "Successfully installed rggrader-0.1.6\n"
          ]
        }
      ]
    },
    {
      "cell_type": "code",
      "source": [
        "# @title #### Student Identity\n",
        "student_id = \"REAFFJLY\" # @param {type:\"string\"}\n",
        "name = \"Yudi Pratama Putra\" # @param {type:\"string\"}"
      ],
      "metadata": {
        "id": "BATtW4gxUD-Q"
      },
      "execution_count": 2,
      "outputs": []
    },
    {
      "cell_type": "code",
      "execution_count": 7,
      "metadata": {
        "id": "9tq2fSnODdOF",
        "outputId": "e9c5dbdc-3cd6-4710-aa43-75078fa96ea9",
        "colab": {
          "base_uri": "https://localhost:8080/",
          "height": 52
        }
      },
      "outputs": [
        {
          "output_type": "stream",
          "name": "stdout",
          "text": [
            "['Nemo makes a sound', 'Nemo is an animal', 'Rex says woof!', 'Rex is an animal', 'Misty says meow!', 'Misty is an animal']\n"
          ]
        },
        {
          "output_type": "execute_result",
          "data": {
            "text/plain": [
              "'Assignment successfully submitted'"
            ],
            "application/vnd.google.colaboratory.intrinsic+json": {
              "type": "string"
            }
          },
          "metadata": {},
          "execution_count": 7
        }
      ],
      "source": [
        "from rggrader import submit\n",
        "# @title #### 05. Animals World\n",
        "\n",
        "# In this assignment, you will reinforce your understanding of inheritance in Python.\n",
        "\n",
        "# Here are the specific tasks for this assignment:\n",
        "# 1. Create a parent class named 'Animal' with an attribute 'name'.\n",
        "# 2. Add two methods to the 'Animal' class:\n",
        "#     a. `speak`: This should return a string \"{name} makes a sound\".\n",
        "#     b. `description`: This should return a string \"{name} is an animal\".\n",
        "#\n",
        "# 3. Create two child classes that inherit from Animal class, 'Dog' and 'Cat'.\n",
        "# 4. Both 'Dog' and 'Cat' classes should use the `super()` function to inherit the name attribute from the Animal class.\n",
        "# 5. Both 'Dog' and 'Cat' classes should override the 'speak' method from the Animal class.\n",
        "#     a. For 'Dog' class, the 'speak' method should return \"{name} says woof!\"\n",
        "#     b. For 'Cat' class, the 'speak' method should return \"{name} says meow!\"\n",
        "#\n",
        "# Remember, the `description` method in the 'Animal' class should not be overridden in child classes.\n",
        "#\n",
        "# At the end of your implementation, create instances of Animal, Dog, and Cat, and call their 'speak' and 'description' methods. Append all outputs to an 'answer' list and submit this list as your assignment.\n",
        "#\n",
        "\n",
        "class Animal:\n",
        "    def __init__(self, name):\n",
        "        self.name = name\n",
        "\n",
        "    def speak(self):\n",
        "        return f\"{self.name} makes a sound\"\n",
        "\n",
        "    def description(self):\n",
        "        return f\"{self.name} is an animal\"\n",
        "\n",
        "class Dog(Animal):\n",
        "    def __init__(self, name):\n",
        "        super().__init__(name)\n",
        "\n",
        "    def speak(self):\n",
        "        return f\"{self.name} says woof!\"\n",
        "\n",
        "class Cat(Animal):\n",
        "    def __init__(self, name):\n",
        "        super().__init__(name)\n",
        "\n",
        "    def speak(self):\n",
        "        return f\"{self.name} says meow!\"\n",
        "\n",
        "# Here is an example of what your code should emulate but not limited to:\n",
        "animal = Animal(\"Nemo\")\n",
        "dog = Dog(\"Rex\")\n",
        "cat = Cat(\"Misty\")\n",
        "answer = []\n",
        "answer.append(animal.speak()) # Adds \"Nemo makes a sound\" to 'answer' list\n",
        "answer.append(animal.description()) # Adds \"Nemo is an animal.\" to 'answer' list\n",
        "answer.append(dog.speak()) # Adds \"Rex says woof!\" to 'answer' list\n",
        "answer.append(dog.description()) # Adds \"Rex is an animal.\" to 'answer' list\n",
        "answer.append(cat.speak()) # Adds \"Misty says meow!\" to 'answer' list\n",
        "answer.append(cat.description()) # Adds \"Misty is an animal.\" to 'answer' list\n",
        "\n",
        "print(answer)\n",
        "assignment_id = \"05-classes-inheritance\"\n",
        "question_id = \"05_animals_world\"\n",
        "submit(student_id, name, assignment_id, str(answer), question_id)"
      ]
    },
    {
      "cell_type": "code",
      "source": [],
      "metadata": {
        "id": "TauFuWvqKQSG"
      },
      "execution_count": null,
      "outputs": []
    }
  ],
  "metadata": {
    "kernelspec": {
      "display_name": "Python 3 (ipykernel)",
      "language": "python",
      "name": "python3"
    },
    "language_info": {
      "codemirror_mode": {
        "name": "ipython",
        "version": 3
      },
      "file_extension": ".py",
      "mimetype": "text/x-python",
      "name": "python",
      "nbconvert_exporter": "python",
      "pygments_lexer": "ipython3",
      "version": "3.11.3"
    },
    "colab": {
      "provenance": [],
      "include_colab_link": true
    }
  },
  "nbformat": 4,
  "nbformat_minor": 0
}