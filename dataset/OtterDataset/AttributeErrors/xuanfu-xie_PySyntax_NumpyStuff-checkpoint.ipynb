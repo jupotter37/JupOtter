{
 "cells": [
  {
   "cell_type": "code",
   "execution_count": 2,
   "id": "f735a737-8237-4d9b-9e16-44e03c40b5d9",
   "metadata": {},
   "outputs": [
    {
     "name": "stdout",
     "output_type": "stream",
     "text": [
      "[0 1 2]\n"
     ]
    }
   ],
   "source": [
    "# 這裡import ... as ... => 是說導入一個模組(module、library都可以)，就如同java中告訴它要Reference的class是誰\n",
    "# ，然後後面的as就只是alias\n",
    "import numpy as np\n",
    "\n",
    "# 所以這邊的np.array()，並不是「object類別的呼叫function」，而是!!「類別類(這邊應該會說包類)」\n",
    "ary = np.array([0,1,2])\n",
    "print(ary)"
   ]
  },
  {
   "cell_type": "code",
   "execution_count": 7,
   "id": "b047ed76-46dc-4a12-b0d4-2a594bf0f44f",
   "metadata": {},
   "outputs": [
    {
     "name": "stdout",
     "output_type": "stream",
     "text": [
      "[0]\n"
     ]
    }
   ],
   "source": [
    "# 都知道根源是「類別類」，所以它然可以使用class去呼叫，話說這邊也就是Static fuction\n",
    "import numpy\n",
    "ary = numpy.array([0])\n",
    "print(ary)"
   ]
  },
  {
   "cell_type": "code",
   "execution_count": 8,
   "id": "3178bac9",
   "metadata": {},
   "outputs": [],
   "source": [
    "# 向量, vector => 程式裡面，vector指的通常是「一維向量」；數學，則是較廣泛的定義，多維向量\n",
    "# 矩陣, matrix => 程式中，矩陣典型的結構是二維，但實際上要設計成多少維度都是可以的\n",
    "# 維度, dimension => 「維度的概念，最早起源於對空間的描述」，例如,點、線、平面、立體，分別對應，0維、1維、2維、3維，\n",
    "# 但隨著時代發展，定義愈加廣泛，更是提升到高維度的概念，也成為了，解釋複雜現象和數據結構的重要手段\n",
    "\n",
    "#了解程式中「向量、維度、矩陣」等概念之後 => 來看看相關numpy應用 "
   ]
  },
  {
   "cell_type": "code",
   "execution_count": 16,
   "id": "6cc0e45a",
   "metadata": {},
   "outputs": [
    {
     "name": "stdout",
     "output_type": "stream",
     "text": [
      "(3,)\n",
      "(2, 3)\n",
      "(3, 1)\n",
      "(1, 3, 1)\n",
      "[[[1]\n",
      "  [2]\n",
      "  [3]]]\n",
      "[[[1]\n",
      "  [2]\n",
      "  [3]]]\n"
     ]
    }
   ],
   "source": [
    "# numpy.shape => \n",
    "# 1. 這是一個field，不是function\n",
    "# 2. return數據(通常是矩陣)的「維度大小」\n",
    "# 3. 回傳n個數字代表該數據結構n維 => eg. (k(一維),p(二維)) => 表是二維，且第一維度的元素長度為k，二維的長度為p\n",
    "# 判斷維度準則 => 外圍[]的「層次」，一層就是一維，二層二維，以此類推\n",
    "\n",
    "# imoprt numpy as np => 另外，無須每次都導入package，Vs Code不同cell之間的code會資源共享  \n",
    "# => OK~，但共享資源還是有前提的，假如今天重新開啟一次程式，也就是先前關掉過，那緩存在memory的東西就不存在，\n",
    "# 所以若是此時，直接執行這裡沒有import package的code，那interpret會說找不到numpy，合理，畢竟每給出reference\n",
    "\n",
    "ary1 = np.array([1,2,3])\n",
    "ary2 = np.array([[0,1,2],[3,2,1]])\n",
    "ary3 = np.array([[1],[2],[3]])\n",
    "print(ary1.shape)  # 程式中，認定為一維，也就是一維向量；如果是數學角度的話，這邊就會直接被當作「3維」，因為有1,2,3三種軸\n",
    "print(ary2.shape)    # [0,1,2]整個看做一個x；[3,2,1]看作y => 就會變成[x,y]這就是二維\n",
    "print(ary3.shape)   # 這裡就是才是程式中的3維  => 錯!這裡不是三維，因為最外層的[]結構只有2，所以依舊是2維\n",
    "\n",
    "ary4 = np.array([           #這才是3維，因為外層[]結構有3\n",
    "    [\n",
    "        [1],\n",
    "        [2],\n",
    "        [3]\n",
    "    ]\n",
    "])\n",
    "print(ary4.shape)\n",
    "ary5 = np.array([[[1],[2],[3]]])\n",
    "print(ary4)     #assign value時排版不會引響，最後的value長像，每個language皆是如此\n",
    "print(ary5)\n"
   ]
  },
  {
   "cell_type": "code",
   "execution_count": 20,
   "id": "3436eb06",
   "metadata": {},
   "outputs": [
    {
     "ename": "ValueError",
     "evalue": "setting an array element with a sequence. The requested array has an inhomogeneous shape after 1 dimensions. The detected shape was (2,) + inhomogeneous part.",
     "output_type": "error",
     "traceback": [
      "\u001b[1;31m---------------------------------------------------------------------------\u001b[0m",
      "\u001b[1;31mValueError\u001b[0m                                Traceback (most recent call last)",
      "Cell \u001b[1;32mIn[20], line 2\u001b[0m\n\u001b[0;32m      1\u001b[0m \u001b[38;5;66;03m# numpy declare的DS\u001b[39;00m\n\u001b[1;32m----> 2\u001b[0m ary \u001b[38;5;241m=\u001b[39m \u001b[43mnp\u001b[49m\u001b[38;5;241;43m.\u001b[39;49m\u001b[43marray\u001b[49m\u001b[43m(\u001b[49m\u001b[43m[\u001b[49m\u001b[43m[\u001b[49m\u001b[38;5;241;43m0\u001b[39;49m\u001b[43m,\u001b[49m\u001b[38;5;241;43m1\u001b[39;49m\u001b[43m,\u001b[49m\u001b[38;5;241;43m2\u001b[39;49m\u001b[43m]\u001b[49m\u001b[43m,\u001b[49m\u001b[43m[\u001b[49m\u001b[38;5;241;43m3\u001b[39;49m\u001b[43m,\u001b[49m\u001b[38;5;241;43m1\u001b[39;49m\u001b[43m]\u001b[49m\u001b[43m]\u001b[49m\u001b[43m)\u001b[49m\n",
      "\u001b[1;31mValueError\u001b[0m: setting an array element with a sequence. The requested array has an inhomogeneous shape after 1 dimensions. The detected shape was (2,) + inhomogeneous part."
     ]
    }
   ],
   "source": [
    "# numpy declare的DS，每個維度的之間長度必須一致 => 例如，shape return (2,1) => 那就代表，凡是你一維的長度就只能「==2」不能小於、大於 \n",
    "\n",
    "ary = np.array([[0,1,2],[3,1]])        \n",
    "# 所以這裡就會return error說，「inhomogeneous(非均勻) part(分布)」 => 因為interpret下去之後，suppose shape will be like (3,)\n",
    "# 但是這邊第二個一維的長度是2，所以就是非均勻，ㄚ簡單來說就是「每維度之間，結構不一致」"
   ]
  },
  {
   "cell_type": "code",
   "execution_count": 3,
   "id": "a26def54",
   "metadata": {},
   "outputs": [
    {
     "name": "stdout",
     "output_type": "stream",
     "text": [
      "1\n",
      "2\n",
      "3\n"
     ]
    }
   ],
   "source": [
    "# 透過shape return 我們可以知道「幾維」&「每個維度之間的長度」=> 而shape的return數值，真正著重的是「每維的結構」，\n",
    "# 「幾維度」，那是我們自己算出來的 => ㄚ，簡單來說就是，shape return的數值，「單位不是『整題』幾維」\n",
    "\n",
    "# 所以另一種，直接return整體維度多少的field，那就是 => numpy.ndim\n",
    "ary1 = np.array([1,2,3])\n",
    "ary2 = np.array([[0,1,2],[3,2,1]])\n",
    "ary3 = np.array([[[1],[2],[3]]])\n",
    "\n",
    "print(ary1.ndim)\n",
    "print(ary2.ndim)\n",
    "print(ary3.ndim)\n",
    "\n",
    "# NOTE: python ary index also start from zero"
   ]
  },
  {
   "cell_type": "code",
   "execution_count": 13,
   "id": "6d2e6211",
   "metadata": {},
   "outputs": [
    {
     "name": "stdout",
     "output_type": "stream",
     "text": [
      "(2, 1, 2)\n",
      "ary2 = [1 2 3]\n",
      "[[1 2]\n",
      " [3 4]]\n",
      "[1 2 3 4]\n"
     ]
    }
   ],
   "source": [
    "# numpy.reshape(), function => 簡單來說，這裡的parameter就是放，shape這個return的結構 => 所以按此原理，我有個想法\n",
    "\n",
    "import numpy as np\n",
    "\n",
    "# ary1 = np.array([[[1,2,3]],[[1,2]]])  => 這裡一維長度沒有homogeneous(一致)\n",
    "ary1 = np.array([[[1,3]],[[2,4]]])\n",
    "print(ary1.shape)\n",
    "\n",
    "ary2 = np.array([1,2,3])    # 共3個element => 要分成2*1的維度，共2個element，顯然不行，因為整體元素量就不同\n",
    "ary3 = np.array([1,2,3,4])\n",
    "\n",
    "# Try two approach of reshape => 1. directly give argument 2. use other DS shape as argument\n",
    "print(\"ary2 =\",ary2)\n",
    "# print(ary2.reshape(2,1))    #ok, reshape也不能隨意reshape，必須整體element數量相同 => 不能少\n",
    "# print(ary2.reshape(2,2))      不能多\n",
    "print(ary3.reshape(2,2))      # only get same amount of element, 才可以調整轉換，結構 => 這邊2*2，need 4 element & 一維vector共4，所以ok\n",
    "print(\"===================\")\n",
    "\n",
    "# reshape argument代入DS.shape return\n",
    "ary = np.array([1,2,3,4])\n",
    "print(ary3.reshape(ary.shape))      # 可以~ => 唉唷就同理壓麻\n",
    "print(\"===================\")\n",
    "\n",
    "# Tips 「-1」，在reshape的parameter當中提供-1這個value，就代表說，讓interpret自己算 => 不過維度是固定的，你shape結構長怎樣就是怎樣 => 不過感覺這-1不怎麼常用吧ㄏㄏ"
   ]
  },
  {
   "cell_type": "code",
   "execution_count": 21,
   "id": "1d0185bd",
   "metadata": {},
   "outputs": [
    {
     "name": "stdout",
     "output_type": "stream",
     "text": [
      "ary1 [0 1 2 3 4 5 6 7 8 9]\n",
      "ary2 [1 2 3 4 5 6 7 8 9]\n",
      "ary3 []\n",
      "ary4 [0 2 4 6 8]\n",
      "ary5 [1. 2. 3. 4.]\n",
      "int64\n",
      "<class 'numpy.ndarray'>\n"
     ]
    },
    {
     "ename": "AttributeError",
     "evalue": "'int' object has no attribute 'dtype'",
     "output_type": "error",
     "traceback": [
      "\u001b[1;31m---------------------------------------------------------------------------\u001b[0m",
      "\u001b[1;31mAttributeError\u001b[0m                            Traceback (most recent call last)",
      "Cell \u001b[1;32mIn[21], line 25\u001b[0m\n\u001b[0;32m     23\u001b[0m \u001b[38;5;28mprint\u001b[39m(\u001b[38;5;28mtype\u001b[39m(ary1))\n\u001b[0;32m     24\u001b[0m x \u001b[38;5;241m=\u001b[39m \u001b[38;5;241m10\u001b[39m\n\u001b[1;32m---> 25\u001b[0m \u001b[38;5;28mprint\u001b[39m(\u001b[43mx\u001b[49m\u001b[38;5;241;43m.\u001b[39;49m\u001b[43mdtype\u001b[49m)\n",
      "\u001b[1;31mAttributeError\u001b[0m: 'int' object has no attribute 'dtype'"
     ]
    }
   ],
   "source": [
    "# numpy.arange(start, stop, step(interval),dtype), function => 主要用來生成「等差」數列，等差預設為1，想調整等差數列的公差，調整interval\n",
    "# start(option) => 數列,起始值\n",
    "# stop => 數列,終止的value (不包含stop本身的value) => 就跟其他API常見的start、end Index一樣，實際作用範圍都是「start~end-1」\n",
    "# interval(option) => 公差\n",
    "# dtype(option) => 數列element的data type\n",
    "import numpy as np\n",
    "\n",
    "ary1 = np.arange(10)        # 只給一個時候，此argument當作「stop」parameter，並且起始從0開始 => 所以「0~9」 => 這裡的10是value unit，非count unit\n",
    "ary2 = np.arange(1,10)      # 1~9, default interval 1\n",
    "ary3 = np.arange(10,2)      # 我預期的是0、2、4、6、8 => 但是這裡結果是[]，空集合 => 是因為，這邊的parameter被分別當作start、stop => 並不是我心中想的stop、interval => 不過確實沒那麼智能\n",
    "                            # 因為本來就有一個function define是arange(start, stop) => 然後如果再定義一個，就會造成語法上的問題，已經declare過，所以才會有overload的出現，但是要不同parameter\n",
    "ary4 = np.arange(0,10,2)\n",
    "ary5 = np.arange(1,5,dtype=float)\n",
    "print(\"ary1\",ary1)\n",
    "print(\"ary2\",ary2)\n",
    "print(\"ary3\",ary3)\n",
    "print(\"ary4\",ary4)\n",
    "print(\"ary5\",ary5)\n",
    "\n",
    "\n",
    "#最後就可以透過 dtype這個field去察看型態 => 但應該是侷限在，用arange new的DS? => 沒錯，但更準確地來說是numpy這個class的object才能使用dtype查看型別\n",
    "print(ary1.dtype)\n",
    "print(type(ary1))\n",
    "x = 10          \n",
    "print(x.dtype)  #非numpy所以不能用dtype這個field => 哎呀，回到最根本原理，dtype是class的field，要想使用，當然就是class的object才可以用呀 => 所以其他reference自然用不了"
   ]
  },
  {
   "cell_type": "code",
   "execution_count": 30,
   "id": "41d002b8-e855-43b0-9244-11bb13f89522",
   "metadata": {},
   "outputs": [
    {
     "name": "stdout",
     "output_type": "stream",
     "text": [
      "[ 0.          0.20408163  0.40816327  0.6122449   0.81632653  1.02040816\n",
      "  1.2244898   1.42857143  1.63265306  1.83673469  2.04081633  2.24489796\n",
      "  2.44897959  2.65306122  2.85714286  3.06122449  3.26530612  3.46938776\n",
      "  3.67346939  3.87755102  4.08163265  4.28571429  4.48979592  4.69387755\n",
      "  4.89795918  5.10204082  5.30612245  5.51020408  5.71428571  5.91836735\n",
      "  6.12244898  6.32653061  6.53061224  6.73469388  6.93877551  7.14285714\n",
      "  7.34693878  7.55102041  7.75510204  7.95918367  8.16326531  8.36734694\n",
      "  8.57142857  8.7755102   8.97959184  9.18367347  9.3877551   9.59183673\n",
      "  9.79591837 10.        ]\n",
      "[ 0.   2.5  5.   7.5 10. ]\n",
      "2.5\n"
     ]
    }
   ],
   "source": [
    "# arange可以說是，著重「公差」，用給定的公差去new Ary，至於最終element有多少個他不care => arange只關心公差，不關心數量\n",
    "# linspace()，剛好相反 => linspace著重的是「element總數」，至於這個數列的公差會是多少他不care\n",
    "\n",
    "# 不過兩者的共通點就是，生成的ary皆為等差數列\n",
    "\n",
    "# numpy.linspace(start, stop, num=50, ednpoint=True, retstep=False, dtype=None)      => 別忘了，API document中，function parameter寫上，num=50，就表示此參數可以不用寫，然後他自動預設帶入50\n",
    "# start => 起始value \n",
    "# stop => 結束value\n",
    "# num(option) => 「共多少element」, default數量為「50」\n",
    "# endpoint(option) => 是否包含stop這個value，i.e. 「start ~ stop」or 「start ~ stop-1」，~stop-1就是endpoint=false\n",
    "# retstep(option) => return step size, 如果設成true，就會回傳step size  \n",
    "#       => 懂了懂了，因為我們說了，linspace，著重的是總數，但是還是會基於這個總數去作出一個「等差數列」，然後快速獲取等差值的方式就是retsep\n",
    "#          ，並且說了return，那就可以用variable去接住assign，不過這裡就是python的寫法了，有夠噁心，完全沒有底層歸納的規則感，dirty\n",
    "# dtype(option) => 一樣是for numpy object的reference field for checking data type\n",
    "\n",
    "import numpy as np\n",
    "\n",
    "ary = np.linspace(0,10)\n",
    "ary1 = np.linspace(0,10,5,True)     #這樣子寫，retstep所return的東西就沒有人接住\n",
    "ary2, dirty = np.linspace(0,10,5,retstep=True)           # 結合底層的概念的話，這邊肯定就是linspace又去做了其他function calling，並且還讓我們做return \n",
    "                                                         # 第二個function calling 的return value => 便方便沒錯，但就非常不make sense\n",
    "print(ary)      # can see that defualt create 50 numbers, 並且是等差數列\n",
    "print(ary1)\n",
    "print(dirty)\n",
    "\n",
    "# NOTE: Abbreviation of linspace is \"linear space\"\n"
   ]
  },
  {
   "cell_type": "code",
   "execution_count": 33,
   "id": "7db151f1",
   "metadata": {},
   "outputs": [
    {
     "name": "stdout",
     "output_type": "stream",
     "text": [
      "[4.9e-324 9.9e-324 1.5e-323]\n"
     ]
    }
   ],
   "source": [
    "# numpy.empty(shape, dtype=float, order='C') => 透過empty建立的陣列(物件)不會做初始化(assign value)的動作 => 所以就不會有甚麼int type initial value用0的情況\n",
    "\n",
    "# empty()的優勢在於，快速創建一個DS，並且不用考量initial value\n",
    "# 一開始給我的感覺，就很像 => java當中有declare object，但是沒有new object => 畢竟他說empty不會initialize(assign) value \n",
    "# => 所以理所當然想成，現在有這個variable name並且也有address，但是底下沒有掛value\n",
    "\n",
    "import numpy as np\n",
    "\n",
    "\n",
    "# 但實際上，做一遍empty之後會發現，其實他還是有value => 所以就可以推翻說，他還是有座new的動作，只是他塞的不是default value，這邊塞的是內存殘留的數據 => 所以概念上，不等同於沒做new\n",
    "ary = np.empty(3)\n",
    "print(ary)          # [4.9e-324 9.9e-324 1.5e-323]"
   ]
  },
  {
   "cell_type": "code",
   "execution_count": 37,
   "id": "794e9ecc",
   "metadata": {},
   "outputs": [
    {
     "name": "stdout",
     "output_type": "stream",
     "text": [
      "[[0. 0. 0. 0. 0.]]\n",
      "[[0 0 0 0 0]]\n"
     ]
    }
   ],
   "source": [
    "# numpy.zero(shape, dtype=float, char='C') => 建立一個shape所提供的維度DS結構 做return，並且每個element initial zero\n",
    "\n",
    "import numpy\n",
    "\n",
    "# ary = numpy.zeros(1,5) => 這樣是錯的，別忘了，shape的寫法，是一整個()為一組去看 => 如過按照這邊1,5的話，會被看做是不同field name parameter參數\n",
    "ary = numpy.zeros((1,5))\n",
    "print(ary)      # default float\n",
    "ary = numpy.zeros((1,5),int)\n",
    "print(ary)"
   ]
  },
  {
   "cell_type": "code",
   "execution_count": 38,
   "id": "f7813e9e",
   "metadata": {},
   "outputs": [
    {
     "name": "stdout",
     "output_type": "stream",
     "text": [
      "[[1. 1. 1. 1. 1.]]\n"
     ]
    }
   ],
   "source": [
    "# numpy.ones(shape,dtype=float,order='C') => 全部initialize 1，至於用法就一模一樣\n",
    "\n",
    "import numpy as np\n",
    "\n",
    "ary = np.ones((1,5))\n",
    "print(ary)\n"
   ]
  }
 ],
 "metadata": {
  "kernelspec": {
   "display_name": "env",
   "language": "python",
   "name": "python3"
  },
  "language_info": {
   "codemirror_mode": {
    "name": "ipython",
    "version": 3
   },
   "file_extension": ".py",
   "mimetype": "text/x-python",
   "name": "python",
   "nbconvert_exporter": "python",
   "pygments_lexer": "ipython3",
   "version": "3.12.6"
  }
 },
 "nbformat": 4,
 "nbformat_minor": 5
}
