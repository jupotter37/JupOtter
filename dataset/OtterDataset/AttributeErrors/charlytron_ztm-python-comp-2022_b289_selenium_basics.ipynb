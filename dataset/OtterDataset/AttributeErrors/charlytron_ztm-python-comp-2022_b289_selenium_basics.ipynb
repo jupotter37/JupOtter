{
 "cells": [
  {
   "cell_type": "markdown",
   "metadata": {},
   "source": [
    "# Selenium Basics\n",
    "\n"
   ]
  },
  {
   "cell_type": "code",
   "execution_count": null,
   "metadata": {},
   "outputs": [],
   "source": [
    "from selenium import webdriver\n",
    "from selenium.webdriver.chrome.service import Service\n",
    "from selenium import webdriver\n",
    "from selenium.webdriver.common.by import By\n",
    "import time\n",
    " \n",
    "  \n",
    "service = Service(executable_path='./chromedriver_linux64/chromedriver')\n",
    "  \n",
    "chrome_browser = webdriver.Chrome(service=service)\n",
    "\n",
    "chrome_browser.maximize_window()\n",
    "chrome_browser.get('https://demo.seleniumeasy.com')\n",
    "\n",
    "# print('Selenium Easy - Best Demo website to practice Selenium Webdriver Online' in chrome_browser.title)\n",
    "\n",
    "# an easier way to do this is to use the assert statement that comes with python\n",
    "\n",
    "assert('Selenium Easy - Best Demo website to practice Selenium Webdriver Online' in chrome_browser.title)\n"
   ]
  },
  {
   "cell_type": "markdown",
   "metadata": {},
   "source": [
    "We won't see `assert` very much. If `assert` returns false, it will error out and exit out of the code."
   ]
  },
  {
   "cell_type": "code",
   "execution_count": 2,
   "metadata": {},
   "outputs": [
    {
     "ename": "AssertionError",
     "evalue": "",
     "output_type": "error",
     "traceback": [
      "\u001b[0;31m---------------------------------------------------------------------------\u001b[0m",
      "\u001b[0;31mAssertionError\u001b[0m                            Traceback (most recent call last)",
      "\u001b[1;32m/home/ct/Documents/comp-python-2022-Neagoie/section-20-automation-testing/b289_selenium_basics.ipynb Cell 4\u001b[0m in \u001b[0;36m<cell line: 19>\u001b[0;34m()\u001b[0m\n\u001b[1;32m     <a href='vscode-notebook-cell:/home/ct/Documents/comp-python-2022-Neagoie/section-20-automation-testing/b289_selenium_basics.ipynb#W4sZmlsZQ%3D%3D?line=12'>13</a>\u001b[0m chrome_browser\u001b[39m.\u001b[39mget(\u001b[39m'\u001b[39m\u001b[39mhttps://demo.seleniumeasy.com\u001b[39m\u001b[39m'\u001b[39m)\n\u001b[1;32m     <a href='vscode-notebook-cell:/home/ct/Documents/comp-python-2022-Neagoie/section-20-automation-testing/b289_selenium_basics.ipynb#W4sZmlsZQ%3D%3D?line=14'>15</a>\u001b[0m \u001b[39m# print('Selenium Easy - Best Demo website to practice Selenium Webdriver Online' in chrome_browser.title)\u001b[39;00m\n\u001b[1;32m     <a href='vscode-notebook-cell:/home/ct/Documents/comp-python-2022-Neagoie/section-20-automation-testing/b289_selenium_basics.ipynb#W4sZmlsZQ%3D%3D?line=15'>16</a>\u001b[0m \n\u001b[1;32m     <a href='vscode-notebook-cell:/home/ct/Documents/comp-python-2022-Neagoie/section-20-automation-testing/b289_selenium_basics.ipynb#W4sZmlsZQ%3D%3D?line=16'>17</a>\u001b[0m \u001b[39m# an easier way to do this is to use the assert statement that comes with python\u001b[39;00m\n\u001b[0;32m---> <a href='vscode-notebook-cell:/home/ct/Documents/comp-python-2022-Neagoie/section-20-automation-testing/b289_selenium_basics.ipynb#W4sZmlsZQ%3D%3D?line=18'>19</a>\u001b[0m \u001b[39massert\u001b[39;00m(\u001b[39m'\u001b[39m\u001b[39mSelenium Easy - Bubba\u001b[39m\u001b[39m\\'\u001b[39;00m\u001b[39ms website to practice Selenium Webdriver Online\u001b[39m\u001b[39m'\u001b[39m \u001b[39min\u001b[39;00m chrome_browser\u001b[39m.\u001b[39mtitle)\n",
      "\u001b[0;31mAssertionError\u001b[0m: "
     ]
    }
   ],
   "source": [
    "from selenium import webdriver\n",
    "from selenium.webdriver.chrome.service import Service\n",
    "from selenium import webdriver\n",
    "from selenium.webdriver.common.by import By\n",
    "import time\n",
    " \n",
    "  \n",
    "service = Service(executable_path='./chromedriver_linux64/chromedriver')\n",
    "  \n",
    "chrome_browser = webdriver.Chrome(service=service)\n",
    "\n",
    "chrome_browser.maximize_window()\n",
    "chrome_browser.get('https://demo.seleniumeasy.com')\n",
    "\n",
    "# print('Selenium Easy - Best Demo website to practice Selenium Webdriver Online' in chrome_browser.title)\n",
    "\n",
    "# an easier way to do this is to use the assert statement that comes with python\n",
    "\n",
    "assert('Selenium Easy - Bubba\\'s website to practice Selenium Webdriver Online' in chrome_browser.title)\n"
   ]
  },
  {
   "cell_type": "markdown",
   "metadata": {},
   "source": [
    "Let's go back to what we had before:"
   ]
  },
  {
   "cell_type": "code",
   "execution_count": null,
   "metadata": {},
   "outputs": [],
   "source": [
    "assert('Selenium Easy - Best Demo website to practice Selenium Webdriver Online' in chrome_browser.title)"
   ]
  },
  {
   "cell_type": "markdown",
   "metadata": {},
   "source": [
    "Another thing we can do is look at the `<head>` and `<body>` tags. But in using the usual method, we're not able to grab the `<body>`:"
   ]
  },
  {
   "cell_type": "code",
   "execution_count": 4,
   "metadata": {},
   "outputs": [
    {
     "ename": "AttributeError",
     "evalue": "'WebDriver' object has no attribute 'body'",
     "output_type": "error",
     "traceback": [
      "\u001b[0;31m---------------------------------------------------------------------------\u001b[0m",
      "\u001b[0;31mAttributeError\u001b[0m                            Traceback (most recent call last)",
      "\u001b[1;32m/home/ct/Documents/comp-python-2022-Neagoie/section-20-automation-testing/b289_selenium_basics.ipynb Cell 8\u001b[0m in \u001b[0;36m<cell line: 20>\u001b[0;34m()\u001b[0m\n\u001b[1;32m     <a href='vscode-notebook-cell:/home/ct/Documents/comp-python-2022-Neagoie/section-20-automation-testing/b289_selenium_basics.ipynb#X11sZmlsZQ%3D%3D?line=14'>15</a>\u001b[0m \u001b[39m# print('Selenium Easy - Best Demo website to practice Selenium Webdriver Online' in chrome_browser.title)\u001b[39;00m\n\u001b[1;32m     <a href='vscode-notebook-cell:/home/ct/Documents/comp-python-2022-Neagoie/section-20-automation-testing/b289_selenium_basics.ipynb#X11sZmlsZQ%3D%3D?line=15'>16</a>\u001b[0m \n\u001b[1;32m     <a href='vscode-notebook-cell:/home/ct/Documents/comp-python-2022-Neagoie/section-20-automation-testing/b289_selenium_basics.ipynb#X11sZmlsZQ%3D%3D?line=16'>17</a>\u001b[0m \u001b[39m# an easier way to do this is to use the assert statement that comes with python\u001b[39;00m\n\u001b[1;32m     <a href='vscode-notebook-cell:/home/ct/Documents/comp-python-2022-Neagoie/section-20-automation-testing/b289_selenium_basics.ipynb#X11sZmlsZQ%3D%3D?line=18'>19</a>\u001b[0m \u001b[39massert\u001b[39;00m \u001b[39m'\u001b[39m\u001b[39mSelenium Easy - Best Demo website to practice Selenium Webdriver Online\u001b[39m\u001b[39m'\u001b[39m \u001b[39min\u001b[39;00m chrome_browser\u001b[39m.\u001b[39mtitle\n\u001b[0;32m---> <a href='vscode-notebook-cell:/home/ct/Documents/comp-python-2022-Neagoie/section-20-automation-testing/b289_selenium_basics.ipynb#X11sZmlsZQ%3D%3D?line=19'>20</a>\u001b[0m \u001b[39massert\u001b[39;00m \u001b[39m'\u001b[39m\u001b[39mSelenium Easy - Best Demo website to practice Selenium Webdriver Online\u001b[39m\u001b[39m'\u001b[39m \u001b[39min\u001b[39;00m chrome_browser\u001b[39m.\u001b[39;49mbody\n",
      "\u001b[0;31mAttributeError\u001b[0m: 'WebDriver' object has no attribute 'body'"
     ]
    }
   ],
   "source": [
    "from selenium import webdriver\n",
    "from selenium.webdriver.chrome.service import Service\n",
    "from selenium import webdriver\n",
    "from selenium.webdriver.common.by import By\n",
    "import time\n",
    " \n",
    "  \n",
    "service = Service(executable_path='./chromedriver_linux64/chromedriver')\n",
    "  \n",
    "chrome_browser = webdriver.Chrome(service=service)\n",
    "\n",
    "chrome_browser.maximize_window()\n",
    "chrome_browser.get('https://demo.seleniumeasy.com')\n",
    "\n",
    "# print('Selenium Easy - Best Demo website to practice Selenium Webdriver Online' in chrome_browser.title)\n",
    "\n",
    "# an easier way to do this is to use the assert statement that comes with python\n",
    "\n",
    "assert 'Selenium Easy - Best Demo website to practice Selenium Webdriver Online' in chrome_browser.title\n",
    "assert 'Selenium Easy - Best Demo website to practice Selenium Webdriver Online' in chrome_browser.body\n"
   ]
  },
  {
   "cell_type": "markdown",
   "metadata": {},
   "source": [
    "Another way for us to interact with a page is through using selectors, i.e. ways for us to grab items from a page\n",
    "\n",
    "- By ID\n",
    "- By Name\n",
    "- By Class Name\n",
    "- By Tag Name\n",
    "\n",
    "Let's try doing that with the button at the bottom of the demo page:"
   ]
  },
  {
   "cell_type": "code",
   "execution_count": 5,
   "metadata": {},
   "outputs": [
    {
     "name": "stdout",
     "output_type": "stream",
     "text": [
      "True\n",
      "<selenium.webdriver.remote.webelement.WebElement (session=\"f345a6b659d54c370ba74fc606a2e1b0\", element=\"3f40d1ed-4954-432d-aa08-04622925a834\")>\n"
     ]
    }
   ],
   "source": [
    "from selenium import webdriver\n",
    "from selenium.webdriver.chrome.service import Service\n",
    "from selenium import webdriver\n",
    "from selenium.webdriver.common.by import By\n",
    "import time\n",
    " \n",
    "  \n",
    "service = Service(executable_path='./chromedriver_linux64/chromedriver')\n",
    "  \n",
    "chrome_browser = webdriver.Chrome(service=service)\n",
    "\n",
    "chrome_browser.maximize_window()\n",
    "chrome_browser.get('https://demo.seleniumeasy.com')\n",
    "\n",
    "print('Selenium Easy - Best Demo website to practice Selenium Webdriver Online' in chrome_browser.title)\n",
    "\n",
    "button = chrome_browser.find_element(By.CLASS_NAME, 'btn-success')\n",
    "print(button)"
   ]
  },
  {
   "cell_type": "markdown",
   "metadata": {},
   "source": [
    "We're able to grab the element from the Selenium webdriver. And we can interact with this button by saying things like `get_attrubute('innerHTML')`"
   ]
  },
  {
   "cell_type": "code",
   "execution_count": 8,
   "metadata": {},
   "outputs": [
    {
     "name": "stdout",
     "output_type": "stream",
     "text": [
      "True\n",
      " Start Practising <span style=\"margin-left:10px;\" class=\"glyphicon glyphicon-send\"></span>\n"
     ]
    }
   ],
   "source": [
    "from selenium import webdriver\n",
    "from selenium.webdriver.chrome.service import Service\n",
    "from selenium import webdriver\n",
    "from selenium.webdriver.common.by import By\n",
    "import time\n",
    " \n",
    "  \n",
    "service = Service(executable_path='./chromedriver_linux64/chromedriver')\n",
    "  \n",
    "chrome_browser = webdriver.Chrome(service=service)\n",
    "\n",
    "chrome_browser.maximize_window()\n",
    "chrome_browser.get('https://demo.seleniumeasy.com')\n",
    "\n",
    "print('Selenium Easy - Best Demo website to practice Selenium Webdriver Online' in chrome_browser.title)\n",
    "\n",
    "button_text = chrome_browser.find_element(By.CLASS_NAME, 'btn-success')\n",
    "print(button_text.get_attribute('innerHTML'))"
   ]
  },
  {
   "cell_type": "markdown",
   "metadata": {},
   "source": [
    "We're able through code to inspect the page, find out what we want to control, like the button, and do something like grab the text using the `get_attribute()` method."
   ]
  }
 ],
 "metadata": {
  "kernelspec": {
   "display_name": "Python 3.9.12 ('base')",
   "language": "python",
   "name": "python3"
  },
  "language_info": {
   "codemirror_mode": {
    "name": "ipython",
    "version": 3
   },
   "file_extension": ".py",
   "mimetype": "text/x-python",
   "name": "python",
   "nbconvert_exporter": "python",
   "pygments_lexer": "ipython3",
   "version": "3.9.12"
  },
  "orig_nbformat": 4,
  "vscode": {
   "interpreter": {
    "hash": "66b6dfc241c8325d69ccfbaf588ee11e398b2b02082dd5e73e37f3a4fd18fba0"
   }
  }
 },
 "nbformat": 4,
 "nbformat_minor": 2
}
