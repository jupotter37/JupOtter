{
 "cells": [
  {
   "cell_type": "code",
   "execution_count": 6,
   "id": "4406a677-f97e-4700-8912-0a8c2d308fbe",
   "metadata": {},
   "outputs": [
    {
     "data": {
      "text/plain": [
       "True"
      ]
     },
     "execution_count": 6,
     "metadata": {},
     "output_type": "execute_result"
    }
   ],
   "source": [
    "str = \"antidisestablishmentarianism\"\n",
    "len(str) >= 6"
   ]
  },
  {
   "cell_type": "code",
   "execution_count": 7,
   "id": "cdca6f44-75cf-4406-ad69-2c0a9b379356",
   "metadata": {},
   "outputs": [
    {
     "name": "stdout",
     "output_type": "stream",
     "text": [
      "ant\n"
     ]
    }
   ],
   "source": [
    "print(str[:3])"
   ]
  },
  {
   "cell_type": "code",
   "execution_count": 8,
   "id": "0d32451f-7ece-4d4e-941b-ca059760a586",
   "metadata": {},
   "outputs": [
    {
     "name": "stdout",
     "output_type": "stream",
     "text": [
      "ism\n"
     ]
    }
   ],
   "source": [
    "print(str[-3:])"
   ]
  },
  {
   "cell_type": "code",
   "execution_count": 9,
   "id": "7249bddf-b3b0-461e-a915-8f4eef16789e",
   "metadata": {},
   "outputs": [
    {
     "name": "stdout",
     "output_type": "stream",
     "text": [
      "2\n"
     ]
    }
   ],
   "source": [
    "ls = []\n",
    "ls.append(1)\n",
    "ls.append(2)\n",
    "ls.append(3)\n",
    "print(ls[1])"
   ]
  },
  {
   "cell_type": "code",
   "execution_count": 10,
   "id": "318209f7-6890-4d20-9b09-0ccc5ee1bf79",
   "metadata": {},
   "outputs": [
    {
     "name": "stdout",
     "output_type": "stream",
     "text": [
      "(1, 2, 3)\n"
     ]
    },
    {
     "ename": "AttributeError",
     "evalue": "'tuple' object has no attribute 'append'",
     "output_type": "error",
     "traceback": [
      "\u001b[0;31m---------------------------------------------------------------------------\u001b[0m",
      "\u001b[0;31mAttributeError\u001b[0m                            Traceback (most recent call last)",
      "Cell \u001b[0;32mIn[10], line 3\u001b[0m\n\u001b[1;32m      1\u001b[0m tp \u001b[38;5;241m=\u001b[39m (\u001b[38;5;241m1\u001b[39m, \u001b[38;5;241m2\u001b[39m, \u001b[38;5;241m3\u001b[39m)\n\u001b[1;32m      2\u001b[0m \u001b[38;5;28mprint\u001b[39m(tp)\n\u001b[0;32m----> 3\u001b[0m \u001b[43mtp\u001b[49m\u001b[38;5;241;43m.\u001b[39;49m\u001b[43mappend\u001b[49m(\u001b[38;5;241m4\u001b[39m)\n",
      "\u001b[0;31mAttributeError\u001b[0m: 'tuple' object has no attribute 'append'"
     ]
    }
   ],
   "source": [
    "tp = (1, 2, 3)\n",
    "print(tp)\n",
    "tp.append(4)"
   ]
  },
  {
   "cell_type": "code",
   "execution_count": 11,
   "id": "b18e3244-11ca-4227-b7bd-ad7a85bf13b4",
   "metadata": {},
   "outputs": [],
   "source": [
    "str2 = \"HIT\"\n",
    "lev = {\"HIT\", \"MISS\", \"CRITICAL\"}"
   ]
  },
  {
   "cell_type": "code",
   "execution_count": 12,
   "id": "290d4430-4df2-4656-b8ff-504028abbbd0",
   "metadata": {},
   "outputs": [
    {
     "data": {
      "text/plain": [
       "True"
      ]
     },
     "execution_count": 12,
     "metadata": {},
     "output_type": "execute_result"
    }
   ],
   "source": [
    "str2 in lev"
   ]
  },
  {
   "cell_type": "code",
   "execution_count": 13,
   "id": "e6c3df3c-8e72-4080-a914-410f19785928",
   "metadata": {},
   "outputs": [],
   "source": [
    "lev = {\"HIT\", \"MISS\", \"CRITICAL\",\"HIT\", \"MISS\", \"CRITICAL\"}"
   ]
  },
  {
   "cell_type": "code",
   "execution_count": 14,
   "id": "6df54f29-097f-4d30-9841-789f86def878",
   "metadata": {},
   "outputs": [
    {
     "data": {
      "text/plain": [
       "{'CRITICAL', 'HIT', 'MISS'}"
      ]
     },
     "execution_count": 14,
     "metadata": {},
     "output_type": "execute_result"
    }
   ],
   "source": [
    "lev"
   ]
  },
  {
   "cell_type": "code",
   "execution_count": null,
   "id": "f8acb37b-9321-4c92-b185-fc910e316474",
   "metadata": {},
   "outputs": [],
   "source": []
  }
 ],
 "metadata": {
  "kernelspec": {
   "display_name": "Python 3 (ipykernel)",
   "language": "python",
   "name": "python3"
  },
  "language_info": {
   "codemirror_mode": {
    "name": "ipython",
    "version": 3
   },
   "file_extension": ".py",
   "mimetype": "text/x-python",
   "name": "python",
   "nbconvert_exporter": "python",
   "pygments_lexer": "ipython3",
   "version": "3.12.2"
  }
 },
 "nbformat": 4,
 "nbformat_minor": 5
}
