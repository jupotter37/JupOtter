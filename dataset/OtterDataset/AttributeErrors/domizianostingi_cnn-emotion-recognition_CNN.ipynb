{
  "nbformat": 4,
  "nbformat_minor": 0,
  "metadata": {
    "colab": {
      "name": "projet.ipynb",
      "provenance": [],
      "collapsed_sections": [],
      "toc_visible": true
    },
    "kernelspec": {
      "name": "python3",
      "display_name": "Python 3"
    },
    "accelerator": "GPU"
  },
  "cells": [
    {
      "cell_type": "markdown",
      "metadata": {
        "id": "sW3405s9aqM8",
        "colab_type": "text"
      },
      "source": [
        "# **EMOTIONS RECOGNITION THROUGH CNN MODEL**"
      ]
    },
    {
      "cell_type": "code",
      "metadata": {
        "id": "eFU8hnGN4nq3",
        "colab_type": "code",
        "colab": {
          "base_uri": "https://localhost:8080/",
          "height": 35
        },
        "outputId": "5d952c6f-5ec9-42f5-af5c-a4a9ccf75cfe"
      },
      "source": [
        "%tensorflow_version 1.x"
      ],
      "execution_count": null,
      "outputs": [
        {
          "output_type": "stream",
          "text": [
            "TensorFlow 1.x selected.\n"
          ],
          "name": "stdout"
        }
      ]
    },
    {
      "cell_type": "code",
      "metadata": {
        "id": "HxAW9-l3r7ve",
        "colab_type": "code",
        "colab": {
          "base_uri": "https://localhost:8080/",
          "height": 144
        },
        "outputId": "e8c4535a-b818-47b3-d487-97b4ce0b5dfa"
      },
      "source": [
        "import pandas as pd\n",
        "import numpy as np\n",
        "import matplotlib.pyplot as plt\n",
        "from skimage.transform import resize\n",
        "import random\n",
        "from PIL import Image\n",
        "import io\n",
        "from google.colab import drive\n",
        "drive.mount('/content/gdrive')\n",
        "import torch\n",
        "from seaborn import heatmap \n",
        "from mlxtend.plotting import plot_confusion_matrix as plm\n",
        "\n",
        "from sklearn.model_selection import train_test_split\n",
        "#from sklearn.metrics import multilabel_confusion_matrix, plot_confusion_matrix\n",
        "from sklearn.model_selection import KFold\n",
        "\n",
        "from keras.models import Sequential\n",
        "from keras.layers import Dense, Dropout, Activation, Flatten\n",
        "from keras.layers import Conv2D, MaxPooling2D, BatchNormalization\n",
        "from keras.losses import categorical_crossentropy\n",
        "from keras.utils import plot_model\n",
        "from keras.callbacks import EarlyStopping\n"
      ],
      "execution_count": null,
      "outputs": [
        {
          "output_type": "stream",
          "text": [
            "Go to this URL in a browser: https://accounts.google.com/o/oauth2/auth?client_id=947318989803-6bn6qk8qdgf4n4g3pfee6491hc0brc4i.apps.googleusercontent.com&redirect_uri=urn%3aietf%3awg%3aoauth%3a2.0%3aoob&response_type=code&scope=email%20https%3a%2f%2fwww.googleapis.com%2fauth%2fdocs.test%20https%3a%2f%2fwww.googleapis.com%2fauth%2fdrive%20https%3a%2f%2fwww.googleapis.com%2fauth%2fdrive.photos.readonly%20https%3a%2f%2fwww.googleapis.com%2fauth%2fpeopleapi.readonly\n",
            "\n",
            "Enter your authorization code:\n",
            "··········\n",
            "Mounted at /content/gdrive\n"
          ],
          "name": "stdout"
        },
        {
          "output_type": "stream",
          "text": [
            "Using TensorFlow backend.\n"
          ],
          "name": "stderr"
        }
      ]
    },
    {
      "cell_type": "code",
      "metadata": {
        "id": "VmXChKSiv7WG",
        "colab_type": "code",
        "colab": {}
      },
      "source": [
        "from keras.callbacks import ModelCheckpoint\n",
        "from keras.models import load_model\n",
        "import os\n",
        "os.chdir(\"/content/gdrive/My Drive\")"
      ],
      "execution_count": null,
      "outputs": []
    },
    {
      "cell_type": "code",
      "metadata": {
        "id": "vvwGErW9qzqs",
        "colab_type": "code",
        "colab": {}
      },
      "source": [
        "data = pd.read_csv('/content/gdrive/My Drive/formattazione/python/projet/kaggle/fer2013.csv')"
      ],
      "execution_count": null,
      "outputs": []
    },
    {
      "cell_type": "markdown",
      "metadata": {
        "id": "ukyhoxlwsK_D",
        "colab_type": "text"
      },
      "source": [
        "The first operation required is to extract from the dataset the pictures, this\n",
        "require a little bit of intuition about how they are stored inside the dataset. \n",
        "The pictures are saved as a singular vector, so we need to separated each point inside the vector and than create several different smaller vectors, whose each\n",
        "of them contain a singular picture"
      ]
    },
    {
      "cell_type": "code",
      "metadata": {
        "id": "k4cBm9xBrMYD",
        "colab_type": "code",
        "colab": {}
      },
      "source": [
        "datapoints = data['pixels'].tolist()\n",
        "\n",
        "def extract_array(datapoints,width,height):\n",
        "    X = []\n",
        "    for xseq in datapoints:\n",
        "        xx = [int(xp) for xp in xseq.split(' ')] \n",
        "        xx = np.asarray(xx).reshape(width, height)\n",
        "        X.append(xx.astype('float32')) \n",
        "    X = np.asarray(X)\n",
        "    X = np.expand_dims(X, -1)\n",
        "    return X\n",
        "\n",
        "x = extract_array(datapoints,48,48)"
      ],
      "execution_count": null,
      "outputs": []
    },
    {
      "cell_type": "markdown",
      "metadata": {
        "id": "SiJESWr7tIUm",
        "colab_type": "text"
      },
      "source": [
        "We now can extract from the data the different emoctions and create a list that specify what emotions we will predict"
      ]
    },
    {
      "cell_type": "code",
      "metadata": {
        "id": "pMzIoEixrWqS",
        "colab_type": "code",
        "colab": {
          "base_uri": "https://localhost:8080/",
          "height": 72
        },
        "outputId": "235e7063-29d5-4e35-d79d-13c647e3fa83"
      },
      "source": [
        "y = pd.get_dummies(data['emotion']).as_matrix()\n",
        "labels = ['Angry','Disgust','Fear','Happy','Sad', 'Surprise', 'Neutral']"
      ],
      "execution_count": null,
      "outputs": [
        {
          "output_type": "stream",
          "text": [
            "/usr/local/lib/python3.6/dist-packages/ipykernel_launcher.py:1: FutureWarning: Method .as_matrix will be removed in a future version. Use .values instead.\n",
            "  \"\"\"Entry point for launching an IPython kernel.\n"
          ],
          "name": "stderr"
        }
      ]
    },
    {
      "cell_type": "code",
      "metadata": {
        "id": "B_jxIGowxmPu",
        "colab_type": "code",
        "colab": {
          "base_uri": "https://localhost:8080/",
          "height": 517
        },
        "outputId": "633e2194-273b-4a51-8896-4e6270bdf3b2"
      },
      "source": [
        "def plot_image(array,number):\n",
        "    dim1 = len(array[1])\n",
        "    dim2 = len(array[2])\n",
        "    for image in range(number):\n",
        "        plt.imshow(array[image].reshape(dim1,dim2), interpolation='none', cmap='gray')\n",
        "        plt.show()\n",
        "\n",
        "plot_image(x,2)"
      ],
      "execution_count": null,
      "outputs": [
        {
          "output_type": "display_data",
          "data": {
            "image/png": "[encoded data removed]",
            "text/plain": [
              "<Figure size 432x288 with 1 Axes>"
            ]
          },
          "metadata": {
            "tags": []
          }
        },
        {
          "output_type": "display_data",
          "data": {
            "image/png": "[encoded data removed]",
            "text/plain": [
              "<Figure size 432x288 with 1 Axes>"
            ]
          },
          "metadata": {
            "tags": []
          }
        }
      ]
    },
    {
      "cell_type": "markdown",
      "metadata": {
        "id": "hkDQofYvtnGc",
        "colab_type": "text"
      },
      "source": [
        "We can now try to use some descriptive statistic in order to analize the dataset:"
      ]
    },
    {
      "cell_type": "code",
      "metadata": {
        "id": "h2ot_7q6rd8w",
        "colab_type": "code",
        "colab": {
          "base_uri": "https://localhost:8080/",
          "height": 528
        },
        "outputId": "baf89c10-c16e-4c18-9d91-f70a1e7e7b51"
      },
      "source": [
        "def summary_labels(y):\n",
        "    li = len(y)\n",
        "    frequencies = []\n",
        "    perc = []\n",
        "    for col in range(len(y[0])):\n",
        "        freq_col =np.sum(y[:,col])\n",
        "        frequencies.append(freq_col)\n",
        "    for freq in range(len(frequencies)):\n",
        "        percvalue = round((frequencies[freq] / li) * 100)\n",
        "        perc.append(percvalue)\n",
        "    df = pd.DataFrame(data=list(zip(frequencies,perc)),index=(labels),columns=['frequencies','percetual'])\n",
        "    df.plot.bar(y = 'frequencies', rot=45)\n",
        "    return df\n",
        "\n",
        "summary_labels(y)"
      ],
      "execution_count": null,
      "outputs": [
        {
          "output_type": "execute_result",
          "data": {
            "text/html": [
              "<div>\n",
              "<style scoped>\n",
              "    .dataframe tbody tr th:only-of-type {\n",
              "        vertical-align: middle;\n",
              "    }\n",
              "\n",
              "    .dataframe tbody tr th {\n",
              "        vertical-align: top;\n",
              "    }\n",
              "\n",
              "    .dataframe thead th {\n",
              "        text-align: right;\n",
              "    }\n",
              "</style>\n",
              "<table border=\"1\" class=\"dataframe\">\n",
              "  <thead>\n",
              "    <tr style=\"text-align: right;\">\n",
              "      <th></th>\n",
              "      <th>frequencies</th>\n",
              "      <th>percetual</th>\n",
              "    </tr>\n",
              "  </thead>\n",
              "  <tbody>\n",
              "    <tr>\n",
              "      <th>Angry</th>\n",
              "      <td>4953</td>\n",
              "      <td>14.0</td>\n",
              "    </tr>\n",
              "    <tr>\n",
              "      <th>Disgust</th>\n",
              "      <td>547</td>\n",
              "      <td>2.0</td>\n",
              "    </tr>\n",
              "    <tr>\n",
              "      <th>Fear</th>\n",
              "      <td>5121</td>\n",
              "      <td>14.0</td>\n",
              "    </tr>\n",
              "    <tr>\n",
              "      <th>Happy</th>\n",
              "      <td>8989</td>\n",
              "      <td>25.0</td>\n",
              "    </tr>\n",
              "    <tr>\n",
              "      <th>Sad</th>\n",
              "      <td>6077</td>\n",
              "      <td>17.0</td>\n",
              "    </tr>\n",
              "    <tr>\n",
              "      <th>Surprise</th>\n",
              "      <td>4002</td>\n",
              "      <td>11.0</td>\n",
              "    </tr>\n",
              "    <tr>\n",
              "      <th>Neutral</th>\n",
              "      <td>6198</td>\n",
              "      <td>17.0</td>\n",
              "    </tr>\n",
              "  </tbody>\n",
              "</table>\n",
              "</div>"
            ],
            "text/plain": [
              "          frequencies  percetual\n",
              "Angry            4953       14.0\n",
              "Disgust           547        2.0\n",
              "Fear             5121       14.0\n",
              "Happy            8989       25.0\n",
              "Sad              6077       17.0\n",
              "Surprise         4002       11.0\n",
              "Neutral          6198       17.0"
            ]
          },
          "metadata": {
            "tags": []
          },
          "execution_count": 8
        },
        {
          "output_type": "display_data",
          "data": {
            "image/png": "[encoded data removed]",
            "text/plain": [
              "<Figure size 432x288 with 1 Axes>"
            ]
          },
          "metadata": {
            "tags": []
          }
        }
      ]
    },
    {
      "cell_type": "markdown",
      "metadata": {
        "id": "oSnzsWebt9T_",
        "colab_type": "text"
      },
      "source": [
        "These easy analysis show how the dataset is not simmetric, therefore the CNN would be very good predict happiness or sadness but not that good for disgust.\n",
        "Let's print out the dimension of the pictures, the numbers of labels and the number of different pictures, these informations will come useful soon. "
      ]
    },
    {
      "cell_type": "code",
      "metadata": {
        "id": "kqsDl8xkrgIf",
        "colab_type": "code",
        "colab": {
          "base_uri": "https://localhost:8080/",
          "height": 70
        },
        "outputId": "c2e98407-a5c7-44ae-d8d8-5d2d1c872b90"
      },
      "source": [
        "print(\"Image size:  \"+str(len(x[0])))\n",
        "print(\"Number of Labels:  \"+ str(len(y[0])))\n",
        "print(\"Number of examples in dataset:  \"+str(len(x)))"
      ],
      "execution_count": null,
      "outputs": [
        {
          "output_type": "stream",
          "text": [
            "Image size:  48\n",
            "Number of Labels:  7\n",
            "Number of examples in dataset:  35887\n"
          ],
          "name": "stdout"
        }
      ]
    },
    {
      "cell_type": "markdown",
      "metadata": {
        "id": "w7NOmHxrvu9W",
        "colab_type": "text"
      },
      "source": [
        "Let's now set some parameters for the CNN. We set 32 as number of filters, this number rapresent the number of filters that the CNN will use in the starting convolutional. We set the number of labels ( number of emotions) this will become useful in order to link the last layer, bacause we want the output of the CNN equal to the different emotions. We set the batch size equal to 128, this value comes after a phase of tuning of the parameters. The batch size indicate the numbers of elements pass through the neural network at the same time. The last parameter is the epochs, setted equal to 80, to be sure to obtain good results.  "
      ]
    },
    {
      "cell_type": "code",
      "metadata": {
        "id": "s6FMPXfpvq46",
        "colab_type": "code",
        "colab": {}
      },
      "source": [
        "num_features = 32\n",
        "num_labels = 7\n",
        "batch_size = 128 "
      ],
      "execution_count": null,
      "outputs": []
    },
    {
      "cell_type": "markdown",
      "metadata": {
        "id": "4CAOmpLRx6RR",
        "colab_type": "text"
      },
      "source": [
        "Let's standardize the pictures and let's create the train, the validation and test sets"
      ]
    },
    {
      "cell_type": "code",
      "metadata": {
        "id": "JNemEhzhxRXm",
        "colab_type": "code",
        "colab": {}
      },
      "source": [
        "x -= np.mean(x, axis=0)\n",
        "x /= np.std(x, axis=0)\n"
      ],
      "execution_count": null,
      "outputs": []
    },
    {
      "cell_type": "markdown",
      "metadata": {
        "id": "Qbauc0SwyyTi",
        "colab_type": "text"
      },
      "source": [
        "We are now ready to create the architecture of the CNN:"
      ]
    },
    {
      "cell_type": "code",
      "metadata": {
        "id": "XTWlJ5QKszD2",
        "colab_type": "code",
        "colab": {}
      },
      "source": [
        "def create_model():\n",
        "  model = Sequential()\n",
        "\n",
        "\n",
        "  model.add(Conv2D(num_features, kernel_size=(3, 3), activation='relu', input_shape=(48, 48, 1))) \n",
        "  model.add(Conv2D(num_features, kernel_size=(3, 3), activation='relu', padding='same'))\n",
        "  model.add(BatchNormalization()) \n",
        "  model.add(MaxPooling2D(pool_size=(2, 2), strides=(2, 2)))\n",
        "  model.add(Dropout(0.3))\n",
        "\n",
        "  model.add(Conv2D(2*num_features, kernel_size=(3, 3), activation='relu', padding='same'))\n",
        "  model.add(BatchNormalization())\n",
        "  model.add(Conv2D(2*num_features, kernel_size=(3, 3), activation='relu', padding='same'))\n",
        "  model.add(BatchNormalization())\n",
        "  model.add(MaxPooling2D(pool_size=(2, 2), strides=(2, 2)))\n",
        "  model.add(Dropout(0.3))\n",
        "\n",
        "  model.add(Conv2D(2*2*num_features, kernel_size=(3, 3), activation='relu', padding='same'))\n",
        "  model.add(BatchNormalization())\n",
        "  model.add(Conv2D(2*2*num_features, kernel_size=(3, 3), activation='relu', padding='same'))\n",
        "  model.add(BatchNormalization())\n",
        "  model.add(MaxPooling2D(pool_size=(2, 2), strides=(2, 2)))\n",
        "  model.add(Dropout(0.3))\n",
        "\n",
        "  model.add(Conv2D(2*2*2*num_features, kernel_size=(3, 3), activation='relu', padding='same'))\n",
        "  model.add(BatchNormalization())\n",
        "  model.add(Conv2D(2*2*2*num_features, kernel_size=(3, 3), activation='relu', padding='same'))\n",
        "  model.add(BatchNormalization())\n",
        "  model.add(MaxPooling2D(pool_size=(2, 2), strides=(2, 2)))\n",
        "  model.add(Dropout(0.3))\n",
        "  \n",
        "  model.add(Flatten())\n",
        "  model.add(Dense(2*2*2*num_features, activation='relu'))\n",
        "  model.add(Dropout(0.3))\n",
        "  model.add(Dense(2*2*num_features, activation='relu'))\n",
        "  model.add(Dropout(0.3))\n",
        "  model.add(Dense(2*num_features, activation='relu'))\n",
        "  model.add(Dropout(0.3))\n",
        "\n",
        "  model.add(Dense(num_labels, activation='softmax'))\n",
        "  model.compile(loss=categorical_crossentropy, \n",
        "              optimizer='adam',\n",
        "              metrics=['accuracy'])\n",
        "  return model"
      ],
      "execution_count": null,
      "outputs": []
    },
    {
      "cell_type": "markdown",
      "metadata": {
        "id": "L7NDYDv4ZrGt",
        "colab_type": "text"
      },
      "source": [
        "\n",
        "Let's print the architecture of the CNN:\n",
        " \n",
        " "
      ]
    },
    {
      "cell_type": "code",
      "metadata": {
        "id": "8kFYGsdH0U7l",
        "colab_type": "code",
        "colab": {}
      },
      "source": [
        "plot_model(create_model(), show_shapes= True, show_layer_names= False  )  "
      ],
      "execution_count": null,
      "outputs": []
    },
    {
      "cell_type": "markdown",
      "metadata": {
        "id": "pyu8LTmwZ4OL",
        "colab_type": "text"
      },
      "source": [
        "Before the initialitation of the model, let's introduce a callback method, useful for the optimitation. Each epoch, if the value of validation accuracy is the minimum, the function saves the value and allow to call later, in order to assure the best valutation."
      ]
    },
    {
      "cell_type": "code",
      "metadata": {
        "id": "xZ-Vc9-KstPv",
        "colab_type": "code",
        "colab": {}
      },
      "source": [
        "filepath=\"/content/gdrive/My Drive/formattazione/python/projet/epochs/epochs:{epoch:03d}-val_acc:{val_acc:.3f}.hdf5\"\n",
        "checkpoint = ModelCheckpoint(filepath, monitor='val_acc', verbose=1, save_best_only=True, mode='max')\n",
        "callbacks_list = [checkpoint]\n"
      ],
      "execution_count": null,
      "outputs": []
    },
    {
      "cell_type": "code",
      "metadata": {
        "id": "bK3yzOdwp9Da",
        "colab_type": "code",
        "colab": {}
      },
      "source": [
        "n_split=5\n",
        "\n",
        "x_train, x_test, y_train, y_test = train_test_split(x, y, test_size=0.2, random_state=42) \n",
        "#x_train, x_validation, y_train, y_validation = train_test_split(x_train, y_train, test_size=0.1, random_state=42) \n",
        "\n",
        "for train_index,validation_index in KFold(n_split).split(x_train):\n",
        "  x_train,x_validation=x[train_index],x[validation_index] # create the validation for x\n",
        "  y_train,y_validation=y[train_index],y[validation_index] # create the validation for y\n",
        "  model = create_model()                                  # call the model\n",
        "  fit = model.fit(np.array(x_train), np.array(y_train),   # fit the model with batch size = 128, 100 x 3 epochs , shuffle the xs\n",
        "         batch_size=batch_size,\n",
        "         epochs=60,\n",
        "         validation_data=(np.array(x_validation), np.array(y_validation)),\n",
        "         shuffle = True,\n",
        "         callbacks= callbacks_list)\n",
        "  plt.title('Loss')\n",
        "  plt.plot(fit.history['loss'], label='train')\n",
        "  plt.plot(fit.history['val_loss'], label='validation')\n",
        "  plt.legend()\n",
        "  plt.show()\n",
        "  plt.title('Accuracy')\n",
        "  plt.plot(fit.history['acc'], label='train')\n",
        "  plt.plot(fit.history['val_acc'], label='validation')\n",
        "  plt.legend()\n",
        "  plt.show()"
      ],
      "execution_count": null,
      "outputs": []
    },
    {
      "cell_type": "markdown",
      "metadata": {
        "id": "v2nkmgTNTxgG",
        "colab_type": "text"
      },
      "source": [
        "We are now ready to starting the model, using adam as optimizer and categorical cross entropy as loss function, this because the output is a categorical variable. "
      ]
    },
    {
      "cell_type": "code",
      "metadata": {
        "id": "-C9FejsbzGpr",
        "colab_type": "code",
        "colab": {}
      },
      "source": [
        "###########################################################################################\n",
        "#x_train, x_test, y_train, y_test = train_test_split(x, y, test_size=0.1, random_state=42)\n",
        "#\n",
        "#model.compile(loss=categorical_crossentropy, \n",
        "#              optimizer='adam',\n",
        "#              metrics=['accuracy'])\n",
        "#\n",
        "#\n",
        "#\n",
        "#fit = model.fit(np.array(x_train), np.array(y_train),\n",
        "#          batch_size=batch_size,\n",
        "#          epochs=100,\n",
        "#          validation_data=0.1,\n",
        "#          shuffle = True,\n",
        "#          callbacks= callbacks_list)\n",
        "###########################################################################################"
      ],
      "execution_count": null,
      "outputs": []
    },
    {
      "cell_type": "markdown",
      "metadata": {
        "id": "iXEFbGef2fTC",
        "colab_type": "text"
      },
      "source": [
        "Before the evalutation on the test sets, let's check out how the loss function\n",
        "and the accuracy have been behaved:"
      ]
    },
    {
      "cell_type": "code",
      "metadata": {
        "id": "zusxKmQQPX7I",
        "colab_type": "code",
        "colab": {}
      },
      "source": [
        "############################################################################################\n",
        "#plt.title('Loss')\n",
        "#plt.plot(fit.history['loss'], label='train')\n",
        "#plt.plot(fit.history['val_loss'], label='validation')\n",
        "#plt.legend()\n",
        "#plt.show()\n",
        "############################################################################################"
      ],
      "execution_count": null,
      "outputs": []
    },
    {
      "cell_type": "code",
      "metadata": {
        "id": "AF9FWGPvbPWg",
        "colab_type": "code",
        "colab": {}
      },
      "source": [
        "############################################################################################\n",
        "#plt.title('Accuracy')\n",
        "#plt.plot(fit.history['acc'], label='train')\n",
        "#plt.plot(fit.history['val_acc'], label='validation')\n",
        "#plt.legend()\n",
        "#plt.show()\n",
        "############################################################################################"
      ],
      "execution_count": null,
      "outputs": []
    },
    {
      "cell_type": "code",
      "metadata": {
        "id": "XLXfCuTIxCpl",
        "colab_type": "code",
        "colab": {
          "base_uri": "https://localhost:8080/",
          "height": 52
        },
        "outputId": "ca31840e-5c14-4b46-9997-b3a26c885aed"
      },
      "source": [
        "evaluation = model.evaluate(x_test,y_test)\n",
        "evaluation"
      ],
      "execution_count": null,
      "outputs": [
        {
          "output_type": "stream",
          "text": [
            "7178/7178 [==============================] - 2s 250us/step\n"
          ],
          "name": "stdout"
        },
        {
          "output_type": "execute_result",
          "data": {
            "text/plain": [
              "[0.588228821820886, 0.8622178879578687]"
            ]
          },
          "metadata": {
            "tags": []
          },
          "execution_count": 41
        }
      ]
    },
    {
      "cell_type": "code",
      "metadata": {
        "id": "JFNhFQIZ8g8U",
        "colab_type": "code",
        "colab": {}
      },
      "source": [
        "#10 % k 3 seed 42 epochs 30 = 0.74\n",
        "#10 % k 5 seed 02 epochs 30 = 0.79\n",
        "#20 % k 5 seed 42 epochs 30 = 0.78\n",
        "#10 % k 10 seed 42 epochs 30  = 0.82\n",
        "#20 % k 5 seed 42 epochs 50 = 0.8482\n",
        "#20 % k 5 seed 42 epochs 60 = 0.8622"
      ],
      "execution_count": null,
      "outputs": []
    },
    {
      "cell_type": "markdown",
      "metadata": {
        "id": "Wz-KpVa0ZNGT",
        "colab_type": "text"
      },
      "source": [
        "val_loss starts increasing, val_acc starts decreasing. This means model is cramming values not learning\n",
        "\n",
        "val_loss starts increasing, val_acc also increases.This could be case of overfitting or diverse probability values in cases where softmax is being used in output layer\n",
        "\n",
        "val_loss starts decreasing, val_acc starts increasing. This is also fine as that means model built is learning and working fine."
      ]
    },
    {
      "cell_type": "code",
      "metadata": {
        "id": "qEYBgXSNYbxz",
        "colab_type": "code",
        "colab": {
          "base_uri": "https://localhost:8080/",
          "height": 52
        },
        "outputId": "5d4cab69-5f53-48dc-b417-8e5b6e3251b5"
      },
      "source": [
        "saved_model = load_model('/content/drive/My Drive/formattazione/python/projet/epochs/epochs:046-val_acc:0.646.hdf5')\n",
        "saved_model.evaluate(x_test, y_test)"
      ],
      "execution_count": null,
      "outputs": [
        {
          "output_type": "stream",
          "text": [
            "7178/7178 [==============================] - 3s 378us/step\n"
          ],
          "name": "stdout"
        },
        {
          "output_type": "execute_result",
          "data": {
            "text/plain": [
              "[0.5808112748521521, 0.8383950960938397]"
            ]
          },
          "metadata": {
            "tags": []
          },
          "execution_count": 22
        }
      ]
    },
    {
      "cell_type": "code",
      "metadata": {
        "id": "Fp84hd-A3Ki3",
        "colab_type": "code",
        "colab": {}
      },
      "source": [
        "prediction_x = model.predict(x_test)\n",
        "pred = np.zeros_like(prediction_x)\n",
        "pred[np.arange(len(prediction_x)), prediction_x.argmax(1)] = 1\n",
        "pred = pred.astype('uint8')"
      ],
      "execution_count": null,
      "outputs": []
    },
    {
      "cell_type": "code",
      "metadata": {
        "id": "f-mvc4EpJ9uk",
        "colab_type": "code",
        "colab": {}
      },
      "source": [
        "list_ind_pred=pred.argmax(axis=1)\n",
        "list_ind_test= y_test.argmax(axis=1)"
      ],
      "execution_count": null,
      "outputs": []
    },
    {
      "cell_type": "code",
      "metadata": {
        "id": "63jbY_FTGp4N",
        "colab_type": "code",
        "colab": {}
      },
      "source": [
        "table = pd.crosstab(list_ind_pred,list_ind_test)"
      ],
      "execution_count": null,
      "outputs": []
    },
    {
      "cell_type": "code",
      "metadata": {
        "id": "pITUiplxZlCU",
        "colab_type": "code",
        "colab": {
          "base_uri": "https://localhost:8080/",
          "height": 252
        },
        "outputId": "11f4cfaa-922c-4d83-d3a4-86aa7a248101"
      },
      "source": [
        "pd.DataFrame(np.asarray(table), columns = labels, index= labels)"
      ],
      "execution_count": null,
      "outputs": [
        {
          "output_type": "execute_result",
          "data": {
            "text/html": [
              "<div>\n",
              "<style scoped>\n",
              "    .dataframe tbody tr th:only-of-type {\n",
              "        vertical-align: middle;\n",
              "    }\n",
              "\n",
              "    .dataframe tbody tr th {\n",
              "        vertical-align: top;\n",
              "    }\n",
              "\n",
              "    .dataframe thead th {\n",
              "        text-align: right;\n",
              "    }\n",
              "</style>\n",
              "<table border=\"1\" class=\"dataframe\">\n",
              "  <thead>\n",
              "    <tr style=\"text-align: right;\">\n",
              "      <th></th>\n",
              "      <th>Angry</th>\n",
              "      <th>Disgust</th>\n",
              "      <th>Fear</th>\n",
              "      <th>Happy</th>\n",
              "      <th>Sad</th>\n",
              "      <th>Surprise</th>\n",
              "      <th>Neutral</th>\n",
              "    </tr>\n",
              "  </thead>\n",
              "  <tbody>\n",
              "    <tr>\n",
              "      <th>Angry</th>\n",
              "      <td>809</td>\n",
              "      <td>7</td>\n",
              "      <td>47</td>\n",
              "      <td>18</td>\n",
              "      <td>61</td>\n",
              "      <td>12</td>\n",
              "      <td>33</td>\n",
              "    </tr>\n",
              "    <tr>\n",
              "      <th>Disgust</th>\n",
              "      <td>9</td>\n",
              "      <td>89</td>\n",
              "      <td>1</td>\n",
              "      <td>1</td>\n",
              "      <td>2</td>\n",
              "      <td>1</td>\n",
              "      <td>1</td>\n",
              "    </tr>\n",
              "    <tr>\n",
              "      <th>Fear</th>\n",
              "      <td>36</td>\n",
              "      <td>1</td>\n",
              "      <td>833</td>\n",
              "      <td>15</td>\n",
              "      <td>47</td>\n",
              "      <td>47</td>\n",
              "      <td>26</td>\n",
              "    </tr>\n",
              "    <tr>\n",
              "      <th>Happy</th>\n",
              "      <td>19</td>\n",
              "      <td>0</td>\n",
              "      <td>16</td>\n",
              "      <td>1656</td>\n",
              "      <td>9</td>\n",
              "      <td>14</td>\n",
              "      <td>33</td>\n",
              "    </tr>\n",
              "    <tr>\n",
              "      <th>Sad</th>\n",
              "      <td>66</td>\n",
              "      <td>4</td>\n",
              "      <td>86</td>\n",
              "      <td>30</td>\n",
              "      <td>1015</td>\n",
              "      <td>4</td>\n",
              "      <td>100</td>\n",
              "    </tr>\n",
              "    <tr>\n",
              "      <th>Surprise</th>\n",
              "      <td>6</td>\n",
              "      <td>0</td>\n",
              "      <td>27</td>\n",
              "      <td>16</td>\n",
              "      <td>2</td>\n",
              "      <td>708</td>\n",
              "      <td>6</td>\n",
              "    </tr>\n",
              "    <tr>\n",
              "      <th>Neutral</th>\n",
              "      <td>40</td>\n",
              "      <td>1</td>\n",
              "      <td>33</td>\n",
              "      <td>29</td>\n",
              "      <td>74</td>\n",
              "      <td>9</td>\n",
              "      <td>1079</td>\n",
              "    </tr>\n",
              "  </tbody>\n",
              "</table>\n",
              "</div>"
            ],
            "text/plain": [
              "          Angry  Disgust  Fear  Happy   Sad  Surprise  Neutral\n",
              "Angry       809        7    47     18    61        12       33\n",
              "Disgust       9       89     1      1     2         1        1\n",
              "Fear         36        1   833     15    47        47       26\n",
              "Happy        19        0    16   1656     9        14       33\n",
              "Sad          66        4    86     30  1015         4      100\n",
              "Surprise      6        0    27     16     2       708        6\n",
              "Neutral      40        1    33     29    74         9     1079"
            ]
          },
          "metadata": {
            "tags": []
          },
          "execution_count": 338
        }
      ]
    },
    {
      "cell_type": "code",
      "metadata": {
        "id": "UK-lTR31eEEs",
        "colab_type": "code",
        "colab": {
          "base_uri": "https://localhost:8080/",
          "height": 1000
        },
        "outputId": "b3812741-bca6-4cdf-c8ae-1154b43f2b69"
      },
      "source": [
        "plm(conf_mat= np.asarray(table), show_absolute=False, show_normed=True, colorbar=True)"
      ],
      "execution_count": null,
      "outputs": [
        {
          "output_type": "stream",
          "text": [
            "ERROR:root:Internal Python error in the inspect module.\n",
            "Below is the traceback from this internal error.\n",
            "\n"
          ],
          "name": "stderr"
        },
        {
          "output_type": "stream",
          "text": [
            "Traceback (most recent call last):\n",
            "  File \"/usr/local/lib/python3.6/dist-packages/IPython/core/interactiveshell.py\", line 2882, in run_code\n",
            "    exec(code_obj, self.user_global_ns, self.user_ns)\n",
            "  File \"<ipython-input-329-1501de6db402>\", line 1, in <module>\n",
            "    plm(conf_mat= np.asarray(table), show_absolute=False, show_normed=True, colorbar=True)\n",
            "  File \"/usr/local/lib/python3.6/dist-packages/mlxtend/plotting/plot_confusion_matrix.py\", line 106, in plot_confusion_matrix\n",
            "    plt.ylabel('true label')\n",
            "TypeError: 'list' object is not callable\n",
            "\n",
            "During handling of the above exception, another exception occurred:\n",
            "\n",
            "Traceback (most recent call last):\n",
            "  File \"/usr/local/lib/python3.6/dist-packages/IPython/core/interactiveshell.py\", line 1823, in showtraceback\n",
            "    stb = value._render_traceback_()\n",
            "AttributeError: 'TypeError' object has no attribute '_render_traceback_'\n",
            "\n",
            "During handling of the above exception, another exception occurred:\n",
            "\n",
            "Traceback (most recent call last):\n",
            "  File \"/usr/local/lib/python3.6/dist-packages/IPython/core/ultratb.py\", line 1132, in get_records\n",
            "    return _fixed_getinnerframes(etb, number_of_lines_of_context, tb_offset)\n",
            "  File \"/usr/local/lib/python3.6/dist-packages/IPython/core/ultratb.py\", line 313, in wrapped\n",
            "    return f(*args, **kwargs)\n",
            "  File \"/usr/local/lib/python3.6/dist-packages/IPython/core/ultratb.py\", line 358, in _fixed_getinnerframes\n",
            "    records = fix_frame_records_filenames(inspect.getinnerframes(etb, context))\n",
            "  File \"/usr/lib/python3.6/inspect.py\", line 1490, in getinnerframes\n",
            "    frameinfo = (tb.tb_frame,) + getframeinfo(tb, context)\n",
            "  File \"/usr/lib/python3.6/inspect.py\", line 1448, in getframeinfo\n",
            "    filename = getsourcefile(frame) or getfile(frame)\n",
            "  File \"/usr/lib/python3.6/inspect.py\", line 696, in getsourcefile\n",
            "    if getattr(getmodule(object, filename), '__loader__', None) is not None:\n",
            "  File \"/usr/lib/python3.6/inspect.py\", line 725, in getmodule\n",
            "    file = getabsfile(object, _filename)\n",
            "  File \"/usr/lib/python3.6/inspect.py\", line 709, in getabsfile\n",
            "    return os.path.normcase(os.path.abspath(_filename))\n",
            "  File \"/usr/lib/python3.6/posixpath.py\", line 383, in abspath\n",
            "    cwd = os.getcwd()\n",
            "FileNotFoundError: [Errno 2] No such file or directory\n"
          ],
          "name": "stdout"
        },
        {
          "output_type": "error",
          "ename": "TypeError",
          "evalue": "ignored",
          "traceback": [
            "\u001b[0;31m---------------------------------------------------------------------------\u001b[0m"
          ]
        },
        {
          "output_type": "display_data",
          "data": {
            "image/png": "[encoded data removed]",
            "text/plain": [
              "<Figure size 432x288 with 2 Axes>"
            ]
          },
          "metadata": {
            "tags": []
          }
        }
      ]
    },
    {
      "cell_type": "code",
      "metadata": {
        "id": "ec2n3J2Qszi9",
        "colab_type": "code",
        "colab": {}
      },
      "source": [
        "def confront_results(array_test):\n",
        "    image_index = random.randrange(len(x_test))\n",
        "    dim1 = len(array_test[1])\n",
        "    dim2 = len(array_test[2])\n",
        "    plt.imshow(x[image_index].reshape(48,48), cmap='gray')\n",
        "    pred = model.predict(array_test[image_index].reshape(1, dim1, dim2, 1)) #saved_model.predict\n",
        "    print('this is : ', labels[pred.argmax()] )\n"
      ],
      "execution_count": null,
      "outputs": []
    },
    {
      "cell_type": "code",
      "metadata": {
        "id": "Yv2E2lFyaVuw",
        "colab_type": "code",
        "colab": {
          "base_uri": "https://localhost:8080/",
          "height": 284
        },
        "outputId": "aa927dc3-7512-40ef-f045-0d644ce13f62"
      },
      "source": [
        "confront_results(x_test)"
      ],
      "execution_count": null,
      "outputs": [
        {
          "output_type": "stream",
          "text": [
            "this is :  Neutral\n"
          ],
          "name": "stdout"
        },
        {
          "output_type": "display_data",
          "data": {
            "image/png": "[encoded data removed]",
            "text/plain": [
              "<Figure size 432x288 with 1 Axes>"
            ]
          },
          "metadata": {
            "tags": []
          }
        }
      ]
    },
    {
      "cell_type": "code",
      "metadata": {
        "id": "oss5SHW1aVYg",
        "colab_type": "code",
        "colab": {
          "base_uri": "https://localhost:8080/",
          "height": 284
        },
        "outputId": "03ff239f-9b5e-4adc-e23f-5d9ffbecd0ca"
      },
      "source": [
        "confront_results(x_test)"
      ],
      "execution_count": null,
      "outputs": [
        {
          "output_type": "stream",
          "text": [
            "this is :  Surprise\n"
          ],
          "name": "stdout"
        },
        {
          "output_type": "display_data",
          "data": {
            "image/png": "[encoded data removed]",
            "text/plain": [
              "<Figure size 432x288 with 1 Axes>"
            ]
          },
          "metadata": {
            "tags": []
          }
        }
      ]
    },
    {
      "cell_type": "markdown",
      "metadata": {
        "id": "P2KhGVZva765",
        "colab_type": "text"
      },
      "source": [
        "Let's try now with some imported pictures how it work:"
      ]
    },
    {
      "cell_type": "code",
      "metadata": {
        "id": "SD66bo-Fv4Ev",
        "colab_type": "code",
        "colab": {}
      },
      "source": [
        "def predict_imported_images(pattern):\n",
        "    dimarray= len(x_test[0])\n",
        "    img=Image.open(pattern).convert('L')\n",
        "    imgarray=np.array(img)\n",
        "    imgarray_resized = resize(imgarray, (dimarray,dimarray))\n",
        "    img_ready = np.expand_dims(imgarray_resized, 0)\n",
        "    img_ready = np.expand_dims(img_ready, -1)\n",
        "    prediction = model.predict(img_ready) #saved_model.predict\n",
        "    plt.imshow(imgarray, cmap = 'gray')\n",
        "    print('this is : ', labels[prediction.argmax()] )\n"
      ],
      "execution_count": null,
      "outputs": []
    },
    {
      "cell_type": "code",
      "metadata": {
        "id": "hamCyi-0VpC0",
        "colab_type": "code",
        "colab": {}
      },
      "source": [
        "predict_imported_images('#insert here pattern of a picture to make prediction with you own photo')"
      ],
      "execution_count": null,
      "outputs": []
    }
  ]
}
