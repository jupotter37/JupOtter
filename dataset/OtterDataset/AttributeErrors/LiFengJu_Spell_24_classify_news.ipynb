{
 "cells": [
  {
   "cell_type": "code",
   "execution_count": 2,
   "id": "initial_id",
   "metadata": {
    "collapsed": true,
    "ExecuteTime": {
     "end_time": "2023-11-13T11:53:47.990676100Z",
     "start_time": "2023-11-13T11:53:46.031082200Z"
    }
   },
   "outputs": [],
   "source": [
    "import numpy as np\n",
    "from sklearn.preprocessing import FunctionTransformer\n",
    "from sklearn.datasets import fetch_20newsgroups\n",
    "from sklearn.decomposition import TruncatedSVD\n",
    "from sklearn.feature_extraction import DictVectorizer\n",
    "from sklearn.feature_extraction.text import TfidfVectorizer\n",
    "from sklearn.metrics import classification_report\n",
    "from sklearn.pipeline import Pipeline\n",
    "from sklearn.compose import ColumnTransformer\n",
    "from sklearn.svm import LinearSVC"
   ]
  },
  {
   "cell_type": "code",
   "execution_count": 3,
   "outputs": [
    {
     "name": "stdout",
     "output_type": "stream",
     "text": [
      "From: mccall@mksol.dseg.ti.com (fred j mccall 575-3539)\n",
      "Subject: Re: Metric vs English\n",
      "Article-I.D.: mksol.1993Apr6.131900.8407\n",
      "Organization: Texas Instruments Inc\n",
      "Lines: 31\n",
      "\n",
      "\n",
      "\n",
      "\n",
      "American, perhaps, but nothing military about it.  I learned (mostly)\n",
      "slugs when we talked English units in high school physics and while\n",
      "the teacher was an ex-Navy fighter jock the book certainly wasn't\n",
      "produced by the military.\n",
      "\n",
      "[Poundals were just too flinking small and made the math come out\n",
      "funny; sort of the same reason proponents of SI give for using that.] \n",
      "\n",
      "-- \n",
      "\"Insisting on perfect safety is for people who don't have the balls to live\n",
      " in the real world.\"   -- Mary Shafer, NASA Ames Dryden\n"
     ]
    }
   ],
   "source": [
    "categories = ['sci.med', 'sci.space']\n",
    "X_train, y_train = fetch_20newsgroups(random_state=1,\n",
    "                                      subset='train',\n",
    "                                      categories=categories,\n",
    "                                      remove=('footers', 'quotes'),\n",
    "                                      return_X_y=True)\n",
    "X_test, y_test = fetch_20newsgroups(random_state=1,\n",
    "                                    subset='test',\n",
    "                                    categories=categories,\n",
    "                                    remove=('footers', 'quotes'),\n",
    "                                    return_X_y=True)\n",
    "\n",
    "print(X_train[0])"
   ],
   "metadata": {
    "collapsed": false,
    "ExecuteTime": {
     "end_time": "2023-11-13T11:53:53.759802400Z",
     "start_time": "2023-11-13T11:53:47.999688800Z"
    }
   },
   "id": "cb78b0ab5ff0e106"
  },
  {
   "cell_type": "code",
   "execution_count": 4,
   "outputs": [],
   "source": [
    "def subject_body_extractor(posts):\n",
    "    #用两列构造对象dtype数组\n",
    "    #第一列=“主题”，第二列=“主体”\n",
    "    features = np.empty(shape=(len(posts), 2), dtype=object)\n",
    "    for i, text in enumerate(posts):\n",
    "        # 临时变量“ _”存储“ \\ n \\ n”\n",
    "        headers, _, body = text.partition('\\n\\n')\n",
    "        # 将正文存储在第二栏中\n",
    "        features[i, 1] = body\n",
    "\n",
    "        prefix = 'Subject:'\n",
    "        sub = ''\n",
    "        # 在第一栏中的“主题：”之后保存文本\n",
    "        for line in headers.split('\\n'):\n",
    "            if line.startswith(prefix):\n",
    "                sub = line[len(prefix):]\n",
    "                break\n",
    "        features[i, 0] = sub\n",
    "\n",
    "    return features\n",
    "\n",
    "\n",
    "subject_body_transformer = FunctionTransformer(subject_body_extractor)"
   ],
   "metadata": {
    "collapsed": false,
    "ExecuteTime": {
     "end_time": "2023-11-13T11:53:53.885078400Z",
     "start_time": "2023-11-13T11:53:53.775313900Z"
    }
   },
   "id": "a32ac9593b987bfb"
  },
  {
   "cell_type": "code",
   "execution_count": 5,
   "outputs": [],
   "source": [
    "def text_stats(posts):\n",
    "    return [{'length': len(text),\n",
    "             'num_sentences': text.count('.')}\n",
    "            for text in posts]\n",
    "\n",
    "\n",
    "text_stats_transformer = FunctionTransformer(text_stats)"
   ],
   "metadata": {
    "collapsed": false,
    "ExecuteTime": {
     "end_time": "2023-11-13T11:53:53.900703500Z",
     "start_time": "2023-11-13T11:53:53.806840800Z"
    }
   },
   "id": "16bdaef6c994c09c"
  },
  {
   "cell_type": "code",
   "execution_count": 6,
   "outputs": [],
   "source": [
    "pipeline = Pipeline([\n",
    "    # 提取标题和文字内容主体\n",
    "    ('subjectbody', subject_body_transformer),\n",
    "    # 使用ColumnTransformer组合标题和主体特征\n",
    "    ('union', ColumnTransformer(\n",
    "        [\n",
    "            # 标题词袋（col 0）\n",
    "            ('subject', TfidfVectorizer(min_df=50), 0),\n",
    "            # 文章主体分解的词袋（col 1）\n",
    "            ('body_bow', Pipeline([\n",
    "                ('tfidf', TfidfVectorizer()),\n",
    "                ('best', TruncatedSVD(n_components=50)),\n",
    "            ]), 1),\n",
    "            # 从帖子的正文中提取文本统计信息的管道\n",
    "            ('body_stats', Pipeline([\n",
    "                ('stats', text_stats_transformer),  # 返回字典列表\n",
    "                ('vect', DictVectorizer()),  # 字典列表->特征矩阵\n",
    "            ]), 1),\n",
    "        ],\n",
    "        # ColumnTransformer功能上的权重\n",
    "        transformer_weights={\n",
    "            'subject': 0.8,\n",
    "            'body_bow': 0.5,\n",
    "            'body_stats': 1.0,\n",
    "        }\n",
    "    )),\n",
    "    # 在组合功能上使用SVC分类器\n",
    "    ('svc', LinearSVC(dual=False)),\n",
    "], verbose=True)"
   ],
   "metadata": {
    "collapsed": false,
    "ExecuteTime": {
     "end_time": "2023-11-13T11:53:53.900703500Z",
     "start_time": "2023-11-13T11:53:53.838129200Z"
    }
   },
   "id": "e5e67131c2866a15"
  },
  {
   "cell_type": "code",
   "execution_count": 8,
   "outputs": [
    {
     "name": "stdout",
     "output_type": "stream",
     "text": [
      "[Pipeline] ....... (step 1 of 3) Processing subjectbody, total=   0.0s\n",
      "[Pipeline] ............. (step 2 of 3) Processing union, total=   2.1s\n",
      "[Pipeline] ............... (step 3 of 3) Processing svc, total=   0.0s\n",
      "Classification report:\n",
      "\n",
      "              precision    recall  f1-score   support\n",
      "\n",
      "           0       0.85      0.87      0.86       396\n",
      "           1       0.87      0.84      0.85       394\n",
      "\n",
      "    accuracy                           0.86       790\n",
      "   macro avg       0.86      0.86      0.86       790\n",
      "weighted avg       0.86      0.86      0.86       790\n"
     ]
    }
   ],
   "source": [
    "pipeline.fit(X_train, y_train)\n",
    "y_pred = pipeline.predict(X_test)\n",
    "print('Classification report:\\n\\n{}'.format(\n",
    "    classification_report(y_test, y_pred))\n",
    ")"
   ],
   "metadata": {
    "collapsed": false,
    "ExecuteTime": {
     "end_time": "2023-11-13T11:54:37.093742100Z",
     "start_time": "2023-11-13T11:54:34.620288700Z"
    }
   },
   "id": "8e3de2e02b38bd6f"
  },
  {
   "cell_type": "code",
   "execution_count": 0,
   "outputs": [],
   "source": [
    "import pandas as pd\n",
    "# 获取subjectbody的输出\n",
    "X_subjectbody = pipeline.named_steps['subjectbody'].transform(X_train)\n",
    "\n",
    "# 获取union的输出\n",
    "X_union = pipeline.named_steps['union'].transform(X_subjectbody)"
   ],
   "metadata": {
    "collapsed": false
   },
   "id": "569106b56089f80e"
  },
  {
   "cell_type": "code",
   "execution_count": 22,
   "outputs": [
    {
     "ename": "AttributeError",
     "evalue": "This 'FunctionTransformer' has no attribute 'get_feature_names_out'",
     "output_type": "error",
     "traceback": [
      "\u001B[1;31m---------------------------------------------------------------------------\u001B[0m",
      "\u001B[1;31mAttributeError\u001B[0m                            Traceback (most recent call last)",
      "Cell \u001B[1;32mIn[22], line 1\u001B[0m\n\u001B[1;32m----> 1\u001B[0m \u001B[43mpipeline\u001B[49m\u001B[38;5;241;43m.\u001B[39;49m\u001B[43mnamed_steps\u001B[49m\u001B[43m[\u001B[49m\u001B[38;5;124;43m'\u001B[39;49m\u001B[38;5;124;43msubjectbody\u001B[39;49m\u001B[38;5;124;43m'\u001B[39;49m\u001B[43m]\u001B[49m\u001B[38;5;241;43m.\u001B[39;49m\u001B[43mget_feature_names_out\u001B[49m()\n",
      "File \u001B[1;32m~\\Documents\\spell\\Lib\\site-packages\\sklearn\\utils\\_available_if.py:32\u001B[0m, in \u001B[0;36m_AvailableIfDescriptor.__get__\u001B[1;34m(self, obj, owner)\u001B[0m\n\u001B[0;32m     28\u001B[0m \u001B[38;5;28;01mif\u001B[39;00m obj \u001B[38;5;129;01mis\u001B[39;00m \u001B[38;5;129;01mnot\u001B[39;00m \u001B[38;5;28;01mNone\u001B[39;00m:\n\u001B[0;32m     29\u001B[0m     \u001B[38;5;66;03m# delegate only on instances, not the classes.\u001B[39;00m\n\u001B[0;32m     30\u001B[0m     \u001B[38;5;66;03m# this is to allow access to the docstrings.\u001B[39;00m\n\u001B[0;32m     31\u001B[0m     \u001B[38;5;28;01mif\u001B[39;00m \u001B[38;5;129;01mnot\u001B[39;00m \u001B[38;5;28mself\u001B[39m\u001B[38;5;241m.\u001B[39mcheck(obj):\n\u001B[1;32m---> 32\u001B[0m         \u001B[38;5;28;01mraise\u001B[39;00m attr_err\n\u001B[0;32m     33\u001B[0m     out \u001B[38;5;241m=\u001B[39m MethodType(\u001B[38;5;28mself\u001B[39m\u001B[38;5;241m.\u001B[39mfn, obj)\n\u001B[0;32m     35\u001B[0m \u001B[38;5;28;01melse\u001B[39;00m:\n\u001B[0;32m     36\u001B[0m     \u001B[38;5;66;03m# This makes it possible to use the decorated method as an unbound method,\u001B[39;00m\n\u001B[0;32m     37\u001B[0m     \u001B[38;5;66;03m# for instance when monkeypatching.\u001B[39;00m\n",
      "\u001B[1;31mAttributeError\u001B[0m: This 'FunctionTransformer' has no attribute 'get_feature_names_out'"
     ]
    }
   ],
   "source": [
    "pipeline.named_steps['subjectbody'].get_feature_names_out()"
   ],
   "metadata": {
    "collapsed": false,
    "ExecuteTime": {
     "end_time": "2023-11-13T12:02:35.979437800Z",
     "start_time": "2023-11-13T12:02:35.837578Z"
    }
   },
   "id": "56cb59ef597aebe6"
  },
  {
   "cell_type": "code",
   "execution_count": 21,
   "outputs": [
    {
     "ename": "AttributeError",
     "evalue": "This 'FunctionTransformer' has no attribute 'get_feature_names_out'",
     "output_type": "error",
     "traceback": [
      "\u001B[1;31m---------------------------------------------------------------------------\u001B[0m",
      "\u001B[1;31mAttributeError\u001B[0m                            Traceback (most recent call last)",
      "Cell \u001B[1;32mIn[21], line 1\u001B[0m\n\u001B[1;32m----> 1\u001B[0m column_names \u001B[38;5;241m=\u001B[39m \u001B[43mpipeline\u001B[49m\u001B[38;5;241;43m.\u001B[39;49m\u001B[43mnamed_steps\u001B[49m\u001B[43m[\u001B[49m\u001B[38;5;124;43m'\u001B[39;49m\u001B[38;5;124;43msubjectbody\u001B[39;49m\u001B[38;5;124;43m'\u001B[39;49m\u001B[43m]\u001B[49m\u001B[38;5;241;43m.\u001B[39;49m\u001B[43mget_feature_names_out\u001B[49m()\n\u001B[0;32m      2\u001B[0m df_result \u001B[38;5;241m=\u001B[39m pd\u001B[38;5;241m.\u001B[39mDataFrame(X_union, columns\u001B[38;5;241m=\u001B[39mcolumn_names)\n",
      "File \u001B[1;32m~\\Documents\\spell\\Lib\\site-packages\\sklearn\\utils\\_available_if.py:32\u001B[0m, in \u001B[0;36m_AvailableIfDescriptor.__get__\u001B[1;34m(self, obj, owner)\u001B[0m\n\u001B[0;32m     28\u001B[0m \u001B[38;5;28;01mif\u001B[39;00m obj \u001B[38;5;129;01mis\u001B[39;00m \u001B[38;5;129;01mnot\u001B[39;00m \u001B[38;5;28;01mNone\u001B[39;00m:\n\u001B[0;32m     29\u001B[0m     \u001B[38;5;66;03m# delegate only on instances, not the classes.\u001B[39;00m\n\u001B[0;32m     30\u001B[0m     \u001B[38;5;66;03m# this is to allow access to the docstrings.\u001B[39;00m\n\u001B[0;32m     31\u001B[0m     \u001B[38;5;28;01mif\u001B[39;00m \u001B[38;5;129;01mnot\u001B[39;00m \u001B[38;5;28mself\u001B[39m\u001B[38;5;241m.\u001B[39mcheck(obj):\n\u001B[1;32m---> 32\u001B[0m         \u001B[38;5;28;01mraise\u001B[39;00m attr_err\n\u001B[0;32m     33\u001B[0m     out \u001B[38;5;241m=\u001B[39m MethodType(\u001B[38;5;28mself\u001B[39m\u001B[38;5;241m.\u001B[39mfn, obj)\n\u001B[0;32m     35\u001B[0m \u001B[38;5;28;01melse\u001B[39;00m:\n\u001B[0;32m     36\u001B[0m     \u001B[38;5;66;03m# This makes it possible to use the decorated method as an unbound method,\u001B[39;00m\n\u001B[0;32m     37\u001B[0m     \u001B[38;5;66;03m# for instance when monkeypatching.\u001B[39;00m\n",
      "\u001B[1;31mAttributeError\u001B[0m: This 'FunctionTransformer' has no attribute 'get_feature_names_out'"
     ]
    }
   ],
   "source": [
    "column_names = pipeline.named_steps['union'].get_feature_names_out()\n",
    "df_result = pd.DataFrame(X_union, columns=column_names)\n"
   ],
   "metadata": {
    "collapsed": false,
    "ExecuteTime": {
     "end_time": "2023-11-13T12:02:22.450834900Z",
     "start_time": "2023-11-13T12:02:22.340964600Z"
    }
   },
   "id": "78bdcc57ac46db72"
  },
  {
   "cell_type": "code",
   "execution_count": 20,
   "outputs": [
    {
     "data": {
      "text/plain": "array([[ 0.00000000e+00,  0.00000000e+00,  0.00000000e+00, ...,\n         1.53636680e-02,  5.07000000e+02,  4.00000000e+00],\n       [ 0.00000000e+00,  0.00000000e+00,  0.00000000e+00, ...,\n         2.88014140e-02,  1.22200000e+03,  4.00000000e+00],\n       [ 0.00000000e+00,  0.00000000e+00,  7.58226317e-01, ...,\n         1.68790836e-02,  1.74000000e+02,  2.00000000e+00],\n       ...,\n       [ 0.00000000e+00,  0.00000000e+00,  0.00000000e+00, ...,\n        -1.40826685e-03,  4.87000000e+02,  4.00000000e+00],\n       [ 0.00000000e+00,  0.00000000e+00,  0.00000000e+00, ...,\n        -1.68396701e-02,  3.24000000e+02,  4.00000000e+00],\n       [ 0.00000000e+00,  0.00000000e+00,  0.00000000e+00, ...,\n         1.34815789e-02,  1.10700000e+03,  2.50000000e+01]])"
     },
     "execution_count": 20,
     "metadata": {},
     "output_type": "execute_result"
    }
   ],
   "source": [
    "X_union"
   ],
   "metadata": {
    "collapsed": false,
    "ExecuteTime": {
     "end_time": "2023-11-13T12:02:08.180989600Z",
     "start_time": "2023-11-13T12:02:08.118267500Z"
    }
   },
   "id": "d7416530677feb20"
  },
  {
   "cell_type": "code",
   "execution_count": null,
   "outputs": [],
   "source": [],
   "metadata": {
    "collapsed": false
   },
   "id": "9fe100bc10887f8f"
  }
 ],
 "metadata": {
  "kernelspec": {
   "display_name": "Python 3",
   "language": "python",
   "name": "python3"
  },
  "language_info": {
   "codemirror_mode": {
    "name": "ipython",
    "version": 2
   },
   "file_extension": ".py",
   "mimetype": "text/x-python",
   "name": "python",
   "nbconvert_exporter": "python",
   "pygments_lexer": "ipython2",
   "version": "2.7.6"
  }
 },
 "nbformat": 4,
 "nbformat_minor": 5
}
