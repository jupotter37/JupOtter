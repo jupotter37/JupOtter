{
 "cells": [
  {
   "cell_type": "markdown",
   "id": "cc9e4cbd",
   "metadata": {},
   "source": [
    "<h1>Types structurés</h1>\n"
   ]
  },
  {
   "cell_type": "markdown",
   "id": "64fc30b7",
   "metadata": {},
   "source": [
    "<h2>1. Tuples</h2>\n",
    "\n",
    "<strong> Les tuples sont immuables !</strong>"
   ]
  },
  {
   "cell_type": "code",
   "execution_count": 7,
   "id": "1b8fae75",
   "metadata": {},
   "outputs": [
    {
     "name": "stdout",
     "output_type": "stream",
     "text": [
      "L'élements en troisième position, c'est à dire à l'indice 2 est 7\n"
     ]
    }
   ],
   "source": [
    "coordonnees = (3, 6)\n",
    "vecteur = (2, 5, 7, 56)\n",
    "print(f\"L'élements en troisième position, c'est à dire à l'indice 2 est {vecteur[2]}\")"
   ]
  },
  {
   "cell_type": "code",
   "execution_count": 12,
   "id": "30f61354",
   "metadata": {},
   "outputs": [
    {
     "ename": "AttributeError",
     "evalue": "'tuple' object has no attribute 'add'",
     "output_type": "error",
     "traceback": [
      "\u001b[1;31m---------------------------------------------------------------------------\u001b[0m",
      "\u001b[1;31mAttributeError\u001b[0m                            Traceback (most recent call last)",
      "\u001b[1;32m<ipython-input-12-ed9e6308d8e1>\u001b[0m in \u001b[0;36m<module>\u001b[1;34m\u001b[0m\n\u001b[0;32m      1\u001b[0m \u001b[1;31m# vecteur[0] = 42\u001b[0m\u001b[1;33m\u001b[0m\u001b[1;33m\u001b[0m\u001b[1;33m\u001b[0m\u001b[0m\n\u001b[1;32m----> 2\u001b[1;33m \u001b[0mvecteur\u001b[0m\u001b[1;33m.\u001b[0m\u001b[0madd\u001b[0m\u001b[1;33m(\u001b[0m\u001b[1;36m3\u001b[0m\u001b[1;33m)\u001b[0m\u001b[1;33m\u001b[0m\u001b[1;33m\u001b[0m\u001b[0m\n\u001b[0m",
      "\u001b[1;31mAttributeError\u001b[0m: 'tuple' object has no attribute 'add'"
     ]
    }
   ],
   "source": [
    "vecteur[0] = 42"
   ]
  },
  {
   "cell_type": "code",
   "execution_count": 14,
   "id": "2e0d51cf",
   "metadata": {},
   "outputs": [
    {
     "name": "stdout",
     "output_type": "stream",
     "text": [
      "2\n",
      "5\n",
      "7\n",
      "56\n",
      "2\n",
      "5\n",
      "7\n",
      "56\n"
     ]
    }
   ],
   "source": [
    "for i in vecteur:\n",
    "    print(i)\n",
    "for i in range(len(vecteur)):\n",
    "    print(vecteur[i])"
   ]
  },
  {
   "cell_type": "code",
   "execution_count": 15,
   "id": "e0e9a1bc",
   "metadata": {},
   "outputs": [],
   "source": [
    "annuaire = ((\"Albert\", \"0623554678\"), (\"Aline\", \"0345678983\"))"
   ]
  },
  {
   "cell_type": "code",
   "execution_count": 20,
   "id": "ae3ce47d",
   "metadata": {},
   "outputs": [
    {
     "name": "stdout",
     "output_type": "stream",
     "text": [
      "Le numero de Albert est 0623554678\n",
      "Le numero de Aline est 0345678983\n"
     ]
    }
   ],
   "source": [
    "for nom, numero in annuaire:\n",
    "    print(f\"Le numero de {nom} est {numero}\")"
   ]
  },
  {
   "cell_type": "markdown",
   "id": "38fefb22",
   "metadata": {},
   "source": [
    "<h2>2. Les chaines de caractères</h2>"
   ]
  },
  {
   "cell_type": "code",
   "execution_count": 28,
   "id": "eabd3dfa",
   "metadata": {},
   "outputs": [],
   "source": [
    "phrase = \"Coucou, je suis un canard\""
   ]
  },
  {
   "cell_type": "code",
   "execution_count": 32,
   "id": "cee04be8",
   "metadata": {
    "scrolled": true
   },
   "outputs": [
    {
     "name": "stdout",
     "output_type": "stream",
     "text": [
      "C\n",
      "o\n",
      "u\n",
      "c\n",
      "o\n",
      "u\n",
      ",\n",
      " \n",
      "j\n",
      "e\n",
      " \n",
      "s\n",
      "u\n",
      "i\n",
      "s\n",
      " \n",
      "u\n",
      "n\n",
      " \n",
      "c\n",
      "a\n",
      "n\n",
      "a\n",
      "r\n",
      "d\n"
     ]
    }
   ],
   "source": [
    "\"\"\"for i in range(len(phrase)):\n",
    "    print(phrase[i])\"\"\"\n",
    "for lettre in phrase:\n",
    "    print(lettre)\n"
   ]
  },
  {
   "cell_type": "code",
   "execution_count": 33,
   "id": "7d33bd35",
   "metadata": {},
   "outputs": [
    {
     "data": {
      "text/plain": [
       "'COUCOU, JE SUIS UN CANARD'"
      ]
     },
     "execution_count": 33,
     "metadata": {},
     "output_type": "execute_result"
    }
   ],
   "source": [
    "phrase.upper()"
   ]
  },
  {
   "cell_type": "code",
   "execution_count": 35,
   "id": "2d640380",
   "metadata": {},
   "outputs": [
    {
     "data": {
      "text/plain": [
       "'coucou, je suis un canard'"
      ]
     },
     "execution_count": 35,
     "metadata": {},
     "output_type": "execute_result"
    }
   ],
   "source": [
    "phrase.lower()"
   ]
  },
  {
   "cell_type": "code",
   "execution_count": 36,
   "id": "ad3e62a6",
   "metadata": {},
   "outputs": [
    {
     "data": {
      "text/plain": [
       "'Coucou, je suis un canard'"
      ]
     },
     "execution_count": 36,
     "metadata": {},
     "output_type": "execute_result"
    }
   ],
   "source": [
    "phrase.capitalize()"
   ]
  },
  {
   "cell_type": "code",
   "execution_count": 43,
   "id": "8f5300b3",
   "metadata": {},
   "outputs": [
    {
     "data": {
      "text/plain": [
       "4"
      ]
     },
     "execution_count": 43,
     "metadata": {},
     "output_type": "execute_result"
    }
   ],
   "source": [
    "phrase.count('u')"
   ]
  },
  {
   "cell_type": "code",
   "execution_count": 39,
   "id": "72ca643c",
   "metadata": {},
   "outputs": [
    {
     "data": {
      "text/plain": [
       "'Ckucku, je suis un canard'"
      ]
     },
     "execution_count": 39,
     "metadata": {},
     "output_type": "execute_result"
    }
   ],
   "source": [
    "phrase.replace(\"o\", \"k\")"
   ]
  },
  {
   "cell_type": "code",
   "execution_count": 40,
   "id": "2374e396",
   "metadata": {},
   "outputs": [
    {
     "data": {
      "text/plain": [
       "'Coucou, je suis un canard ?'"
      ]
     },
     "execution_count": 40,
     "metadata": {},
     "output_type": "execute_result"
    }
   ],
   "source": [
    "phrase + \" ?\""
   ]
  },
  {
   "cell_type": "code",
   "execution_count": 44,
   "id": "5ffa5cb7",
   "metadata": {},
   "outputs": [],
   "source": [
    "annee = str(2021)"
   ]
  },
  {
   "cell_type": "code",
   "execution_count": 52,
   "id": "5da69bee",
   "metadata": {},
   "outputs": [
    {
     "data": {
      "text/plain": [
       "'Albert - John - Léa'"
      ]
     },
     "execution_count": 52,
     "metadata": {},
     "output_type": "execute_result"
    }
   ],
   "source": [
    "a = int('23')\n",
    "groupe = (\"Albert\", \"John\", \"Léa\")\n",
    "\" - \".join(groupe)"
   ]
  },
  {
   "cell_type": "code",
   "execution_count": 55,
   "id": "153855dd",
   "metadata": {},
   "outputs": [
    {
     "name": "stdout",
     "output_type": "stream",
     "text": [
      "Albert - John - Léa - \n"
     ]
    }
   ],
   "source": [
    "s =''\n",
    "for nom in groupe:\n",
    "    s += nom + \" - \"\n",
    "print(s)"
   ]
  },
  {
   "cell_type": "code",
   "execution_count": 111,
   "id": "953a3177",
   "metadata": {},
   "outputs": [
    {
     "data": {
      "text/plain": [
       "['Alp', 'ha tan', 'go bravo']"
      ]
     },
     "execution_count": 111,
     "metadata": {},
     "output_type": "execute_result"
    }
   ],
   "source": [
    "chaine = \"Alp-ha tan-go bravo\"\n",
    "chaine.split()\n",
    "chaine.split(\"-\")"
   ]
  },
  {
   "cell_type": "markdown",
   "id": "412c27c0",
   "metadata": {},
   "source": [
    "<h2>3. Listes (tableaux)</h2>"
   ]
  },
  {
   "cell_type": "code",
   "execution_count": 62,
   "id": "9d5d3f27",
   "metadata": {},
   "outputs": [
    {
     "name": "stdout",
     "output_type": "stream",
     "text": [
      "3\n",
      "34\n",
      "Coucou\n",
      "(1, 4)\n",
      "[2, 4, 7]\n"
     ]
    },
    {
     "data": {
      "text/plain": [
       "42"
      ]
     },
     "execution_count": 62,
     "metadata": {},
     "output_type": "execute_result"
    }
   ],
   "source": [
    "liste = [3, \"34\", \"Coucou\", (1, 4), [2, 4, 7]]\n",
    "for element in liste:\n",
    "    print(element)\n",
    "liste[3][1]"
   ]
  },
  {
   "cell_type": "code",
   "execution_count": 76,
   "id": "e7c7e2ad",
   "metadata": {},
   "outputs": [
    {
     "name": "stdout",
     "output_type": "stream",
     "text": [
      "[1, 4, 67, 4, 2, 32]\n",
      "[1, 4, 67, 4, 2]\n"
     ]
    },
    {
     "data": {
      "text/plain": [
       "[67, 4, 4, 2, 1]"
      ]
     },
     "execution_count": 76,
     "metadata": {},
     "output_type": "execute_result"
    }
   ],
   "source": [
    "liste2 = [1, 4, 67, 4, 2]\n",
    "liste2.append(32)\n",
    "print(liste2)\n",
    "liste2.pop()\n",
    "print(liste2)\n",
    "liste2.sort()\n",
    "liste2.reverse()\n",
    "liste2"
   ]
  },
  {
   "cell_type": "code",
   "execution_count": 108,
   "id": "6b5fdd3a",
   "metadata": {},
   "outputs": [
    {
     "data": {
      "text/plain": [
       "[23, 45, 4]"
      ]
     },
     "execution_count": 108,
     "metadata": {},
     "output_type": "execute_result"
    }
   ],
   "source": [
    "liste3 = [\"23\", \"45\", \"4\"]\n",
    "sortie = list(map(int, liste3))\n",
    "sortie"
   ]
  },
  {
   "cell_type": "markdown",
   "id": "033185fd",
   "metadata": {},
   "source": [
    "<h2>4. Dictionnaires</h2>\n",
    "\n",
    "```Python\n",
    "dictionnaire[\"clé\"] = valeur\n",
    "```"
   ]
  },
  {
   "cell_type": "code",
   "execution_count": 90,
   "id": "b89ebeba",
   "metadata": {},
   "outputs": [
    {
     "name": "stdout",
     "output_type": "stream",
     "text": [
      "{'pommes': 4, 'soda': 400, 'viande': 7, 'caissière': 'Amandine', 'securité': 'François'}\n"
     ]
    },
    {
     "data": {
      "text/plain": [
       "4"
      ]
     },
     "execution_count": 90,
     "metadata": {},
     "output_type": "execute_result"
    }
   ],
   "source": [
    "courses = {\"pommes\": 4, \"soda\": 400, \"viande\": 7, \"caissière\": \"Amandine\"}\n",
    "courses[\"caissière\"]\n",
    "courses[\"securité\"] = \"François\"\n",
    "print(courses)\n",
    "courses.get(\"légume\", \"On ne mange pas de légumes !\")\n",
    "courses.get(\"pommes\")"
   ]
  },
  {
   "cell_type": "code",
   "execution_count": 91,
   "id": "80405a12",
   "metadata": {},
   "outputs": [
    {
     "name": "stdout",
     "output_type": "stream",
     "text": [
      "pommes\n",
      "soda\n",
      "viande\n",
      "caissière\n",
      "securité\n"
     ]
    }
   ],
   "source": [
    "for i in courses:\n",
    "    print(i)"
   ]
  },
  {
   "cell_type": "code",
   "execution_count": 99,
   "id": "5965da05",
   "metadata": {},
   "outputs": [
    {
     "name": "stdout",
     "output_type": "stream",
     "text": [
      "pommes\n",
      "soda\n",
      "viande\n",
      "caissière\n",
      "securité\n",
      "4\n",
      "400\n",
      "7\n",
      "Amandine\n",
      "François\n",
      "('pommes', 4)\n",
      "('soda', 400)\n",
      "('viande', 7)\n",
      "('caissière', 'Amandine')\n",
      "('securité', 'François')\n",
      "pommes 4\n",
      "soda 400\n",
      "viande 7\n",
      "caissière Amandine\n",
      "securité François\n"
     ]
    }
   ],
   "source": [
    "for i in courses.keys():\n",
    "    print(i)\n",
    "for i in courses.values():\n",
    "    print(i)\n",
    "for i in courses.items():\n",
    "    print(i)\n",
    "for cle, valeur in courses.items():\n",
    "    print(cle, valeur)"
   ]
  },
  {
   "cell_type": "code",
   "execution_count": 106,
   "id": "942bfd86",
   "metadata": {},
   "outputs": [
    {
     "data": {
      "text/plain": [
       "{'Léa': 4, 3: 6, 'Sauron': 7, 6: 42}"
      ]
     },
     "execution_count": 106,
     "metadata": {},
     "output_type": "execute_result"
    }
   ],
   "source": [
    "liste1 = (\"Léa\", 3, \"Sauron\", 6)\n",
    "liste2 = (4, 6, 7, 42)\n",
    "dict(zip(liste1, liste2))"
   ]
  },
  {
   "cell_type": "markdown",
   "id": "15c5dadf",
   "metadata": {},
   "source": [
    "<h2>5. Ensembles</h2>"
   ]
  },
  {
   "cell_type": "code",
   "execution_count": 119,
   "id": "51d39b33",
   "metadata": {},
   "outputs": [],
   "source": [
    "ensemble = {2, 5, 7}\n"
   ]
  },
  {
   "cell_type": "code",
   "execution_count": 120,
   "id": "4a04b6a0",
   "metadata": {},
   "outputs": [],
   "source": [
    "ensemble.add(42)"
   ]
  },
  {
   "cell_type": "code",
   "execution_count": 121,
   "id": "055b3cdc",
   "metadata": {},
   "outputs": [],
   "source": [
    "ensemble.add(7)"
   ]
  },
  {
   "cell_type": "code",
   "execution_count": 122,
   "id": "c0a6596e",
   "metadata": {},
   "outputs": [
    {
     "data": {
      "text/plain": [
       "{2, 5, 7, 42}"
      ]
     },
     "execution_count": 122,
     "metadata": {},
     "output_type": "execute_result"
    }
   ],
   "source": [
    "ensemble"
   ]
  },
  {
   "cell_type": "code",
   "execution_count": 123,
   "id": "3fd9b16c",
   "metadata": {},
   "outputs": [],
   "source": [
    "ensemble2 = {7, 42, 8}"
   ]
  },
  {
   "cell_type": "code",
   "execution_count": 124,
   "id": "05666b20",
   "metadata": {},
   "outputs": [
    {
     "data": {
      "text/plain": [
       "{2, 5}"
      ]
     },
     "execution_count": 124,
     "metadata": {},
     "output_type": "execute_result"
    }
   ],
   "source": [
    "ensemble - ensemble2"
   ]
  },
  {
   "cell_type": "code",
   "execution_count": 125,
   "id": "4acc1e30",
   "metadata": {},
   "outputs": [
    {
     "data": {
      "text/plain": [
       "{2, 5, 7, 8, 42}"
      ]
     },
     "execution_count": 125,
     "metadata": {},
     "output_type": "execute_result"
    }
   ],
   "source": [
    "ensemble | ensemble2"
   ]
  },
  {
   "cell_type": "code",
   "execution_count": 126,
   "id": "0803126c",
   "metadata": {},
   "outputs": [
    {
     "data": {
      "text/plain": [
       "{7, 42}"
      ]
     },
     "execution_count": 126,
     "metadata": {},
     "output_type": "execute_result"
    }
   ],
   "source": [
    "ensemble & ensemble2"
   ]
  },
  {
   "cell_type": "code",
   "execution_count": 127,
   "id": "3ddf6647",
   "metadata": {},
   "outputs": [
    {
     "data": {
      "text/plain": [
       "{2, 5, 8}"
      ]
     },
     "execution_count": 127,
     "metadata": {},
     "output_type": "execute_result"
    }
   ],
   "source": [
    "ensemble ^ ensemble2"
   ]
  },
  {
   "cell_type": "code",
   "execution_count": 131,
   "id": "328df3ec",
   "metadata": {},
   "outputs": [],
   "source": [
    "liste = [2, 3]\n",
    "liste2 = [2, 3]\n",
    "liste3 = liste"
   ]
  },
  {
   "cell_type": "code",
   "execution_count": 129,
   "id": "c865c4fb",
   "metadata": {},
   "outputs": [
    {
     "data": {
      "text/plain": [
       "True"
      ]
     },
     "execution_count": 129,
     "metadata": {},
     "output_type": "execute_result"
    }
   ],
   "source": [
    "liste == liste2"
   ]
  },
  {
   "cell_type": "code",
   "execution_count": 132,
   "id": "43f05dae",
   "metadata": {},
   "outputs": [
    {
     "data": {
      "text/plain": [
       "True"
      ]
     },
     "execution_count": 132,
     "metadata": {},
     "output_type": "execute_result"
    }
   ],
   "source": [
    "liste is liste3"
   ]
  },
  {
   "cell_type": "markdown",
   "id": "1b867efc",
   "metadata": {},
   "source": [
    "### Exercice :\n",
    "- QCM page 71\n",
    "- 1, 3, 6, 10, 13, 14 page 74\n",
    "- 15, 18, 19, 20 page 75\n",
    "- 21, 27, 30 et 39 page 77 et 78"
   ]
  },
  {
   "cell_type": "code",
   "execution_count": null,
   "id": "7331023d",
   "metadata": {},
   "outputs": [],
   "source": []
  }
 ],
 "metadata": {
  "kernelspec": {
   "display_name": "Python 3",
   "language": "python",
   "name": "python3"
  },
  "language_info": {
   "codemirror_mode": {
    "name": "ipython",
    "version": 3
   },
   "file_extension": ".py",
   "mimetype": "text/x-python",
   "name": "python",
   "nbconvert_exporter": "python",
   "pygments_lexer": "ipython3",
   "version": "3.8.8"
  }
 },
 "nbformat": 4,
 "nbformat_minor": 5
}
