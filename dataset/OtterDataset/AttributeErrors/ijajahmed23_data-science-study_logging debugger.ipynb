{
 "cells": [
  {
   "cell_type": "code",
   "execution_count": 1,
   "id": "5ed8761d-e395-4c74-885b-30ac1b893d33",
   "metadata": {},
   "outputs": [
    {
     "name": "stdout",
     "output_type": "stream",
     "text": [
      "this my prnt stmt\n"
     ]
    }
   ],
   "source": [
    "print(\"this my prnt stmt\")"
   ]
  },
  {
   "cell_type": "code",
   "execution_count": 2,
   "id": "c2069014-3f48-476b-b5b4-0c4861b640d3",
   "metadata": {},
   "outputs": [],
   "source": [
    "import logging"
   ]
  },
  {
   "cell_type": "code",
   "execution_count": 17,
   "id": "c8116af1-ecb9-4b05-ab8b-f2a23d3adc03",
   "metadata": {},
   "outputs": [],
   "source": [
    "logging.basicConfig(filename=\"test.log\",level=logging.INFO)"
   ]
  },
  {
   "cell_type": "code",
   "execution_count": 6,
   "id": "e9afc5e9-487d-483d-ba9c-25f17b20a54c",
   "metadata": {},
   "outputs": [],
   "source": [
    "logging.info(\"this is my test log\")"
   ]
  },
  {
   "cell_type": "code",
   "execution_count": 16,
   "id": "a09ddc58-44f4-49e6-a4d6-2ec951aed9de",
   "metadata": {},
   "outputs": [
    {
     "ename": "AttributeError",
     "evalue": "module 'logging' has no attribute 'noset'",
     "output_type": "error",
     "traceback": [
      "\u001b[0;31m---------------------------------------------------------------------------\u001b[0m",
      "\u001b[0;31mAttributeError\u001b[0m                            Traceback (most recent call last)",
      "Cell \u001b[0;32mIn[16], line 5\u001b[0m\n\u001b[1;32m      3\u001b[0m logging\u001b[38;5;241m.\u001b[39mwarning(\u001b[38;5;124m\"\u001b[39m\u001b[38;5;124mwarning this is\u001b[39m\u001b[38;5;124m\"\u001b[39m)\n\u001b[1;32m      4\u001b[0m logging\u001b[38;5;241m.\u001b[39mdebug(\u001b[38;5;124m\"\u001b[39m\u001b[38;5;124mthis my debug\u001b[39m\u001b[38;5;124m\"\u001b[39m)\n\u001b[0;32m----> 5\u001b[0m \u001b[43mlogging\u001b[49m\u001b[38;5;241;43m.\u001b[39;49m\u001b[43mnoset\u001b[49m(\u001b[38;5;124m\"\u001b[39m\u001b[38;5;124mnoset related log\u001b[39m\u001b[38;5;124m\"\u001b[39m)\n",
      "\u001b[0;31mAttributeError\u001b[0m: module 'logging' has no attribute 'noset'"
     ]
    }
   ],
   "source": [
    "logging.error(\"critical error\")\n",
    "logging.critical(\"this a crit error\")\n",
    "logging.warning(\"warning this is\")\n",
    "logging.debug(\"this my debug\")\n",
    "logging.noset(\"noset related log\")"
   ]
  },
  {
   "cell_type": "code",
   "execution_count": 8,
   "id": "8084ce80-5bfc-4453-9e72-1ece599600cd",
   "metadata": {},
   "outputs": [
    {
     "ename": "SyntaxError",
     "evalue": "invalid syntax (3027634766.py, line 1)",
     "output_type": "error",
     "traceback": [
      "\u001b[0;36m  Cell \u001b[0;32mIn[8], line 1\u001b[0;36m\u001b[0m\n\u001b[0;31m    1. NOSET\u001b[0m\n\u001b[0m       ^\u001b[0m\n\u001b[0;31mSyntaxError\u001b[0m\u001b[0;31m:\u001b[0m invalid syntax\n"
     ]
    }
   ],
   "source": [
    "1. NOSET\n",
    "2. DEBUG\n",
    "3. INFO\n",
    "4. WARNING\n",
    "5. ERROR\n",
    "6. CRITICAL"
   ]
  },
  {
   "cell_type": "code",
   "execution_count": 22,
   "id": "3822545a-27a2-4a8a-a825-1aec2da47dae",
   "metadata": {},
   "outputs": [],
   "source": [
    "logging.shutdown()"
   ]
  },
  {
   "cell_type": "code",
   "execution_count": 30,
   "id": "c5e5c069-a7f8-456e-973e-4e00e1baf081",
   "metadata": {},
   "outputs": [],
   "source": [
    "logging.basicConfig(filename=\"log_test.log\",level=logging.DEBUG,format=\"%(asctime)s %(message)s\")"
   ]
  },
  {
   "cell_type": "code",
   "execution_count": 32,
   "id": "5b397cfa-e1fd-4fbb-9c87-d404eb32aaf1",
   "metadata": {},
   "outputs": [],
   "source": [
    "logging.info(\"this is my log\")\n",
    "logging.debug(\"debug\")\n",
    "logging.warning(\"tghis a warning\")"
   ]
  },
  {
   "cell_type": "code",
   "execution_count": null,
   "id": "e82a9827-b6ba-42bc-a329-7d203199b9ef",
   "metadata": {},
   "outputs": [],
   "source": []
  }
 ],
 "metadata": {
  "kernelspec": {
   "display_name": "Python 3 (ipykernel)",
   "language": "python",
   "name": "python3"
  },
  "language_info": {
   "codemirror_mode": {
    "name": "ipython",
    "version": 3
   },
   "file_extension": ".py",
   "mimetype": "text/x-python",
   "name": "python",
   "nbconvert_exporter": "python",
   "pygments_lexer": "ipython3",
   "version": "3.10.8"
  }
 },
 "nbformat": 4,
 "nbformat_minor": 5
}
