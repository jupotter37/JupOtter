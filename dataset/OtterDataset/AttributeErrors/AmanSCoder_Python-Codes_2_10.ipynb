{
 "cells": [
  {
   "cell_type": "markdown",
   "id": "50c5a05c-5af1-4157-992f-2b225daa46cd",
   "metadata": {},
   "source": [
    "## Decorator"
   ]
  },
  {
   "cell_type": "code",
   "execution_count": 1,
   "id": "240294bf-5a5c-44d7-8ca4-5c089c21b470",
   "metadata": {},
   "outputs": [],
   "source": [
    "def test():\n",
    "    print(\"this is the start of my fun\")\n",
    "    print(\"this is my fun to test\")\n",
    "    print(4+5)\n",
    "    print(\"this is the end of my fun\")"
   ]
  },
  {
   "cell_type": "code",
   "execution_count": 2,
   "id": "a198e6f1-d004-4ab0-a1d3-53901ff1d1cc",
   "metadata": {},
   "outputs": [
    {
     "name": "stdout",
     "output_type": "stream",
     "text": [
      "this is the start of my fun\n",
      "this is my fun to test\n",
      "9\n",
      "this is the end of my fun\n"
     ]
    }
   ],
   "source": [
    "test()"
   ]
  },
  {
   "cell_type": "code",
   "execution_count": 3,
   "id": "a21db7d0-2a66-48a1-89e5-e6242a522f72",
   "metadata": {},
   "outputs": [],
   "source": [
    "def deco(func):\n",
    "    def inner_dec():\n",
    "        print(\"this is the start of my fun\")\n",
    "        func()\n",
    "        print(\"this is the end of my fun\")\n",
    "    return inner_dec # DOUBT: why are we writing this line"
   ]
  },
  {
   "cell_type": "code",
   "execution_count": 4,
   "id": "cc477704-234e-4221-9e0a-51e80882407f",
   "metadata": {},
   "outputs": [],
   "source": [
    "@deco\n",
    "def test1():\n",
    "    print(6+7)"
   ]
  },
  {
   "cell_type": "code",
   "execution_count": 5,
   "id": "f90fde5e-0a1e-4487-8379-8e7c24f3b6fa",
   "metadata": {},
   "outputs": [
    {
     "name": "stdout",
     "output_type": "stream",
     "text": [
      "this is the start of my fun\n",
      "13\n",
      "this is the end of my fun\n"
     ]
    }
   ],
   "source": [
    "test1()"
   ]
  },
  {
   "cell_type": "code",
   "execution_count": 6,
   "id": "364b4f98-603d-4281-bef4-84e0bec67fa8",
   "metadata": {},
   "outputs": [],
   "source": [
    "import time \n",
    "\n",
    "def timer_test(func):\n",
    "    def timer_test_inner():\n",
    "        start=time.time()\n",
    "        func()\n",
    "        end=time.time()\n",
    "        print(end-start)\n",
    "    return timer_test_inner"
   ]
  },
  {
   "cell_type": "code",
   "execution_count": 7,
   "id": "ececd920-cdeb-4f0c-ae5e-9fd3b9b2d5d8",
   "metadata": {},
   "outputs": [],
   "source": [
    "def test2():\n",
    "    print(252+25)"
   ]
  },
  {
   "cell_type": "code",
   "execution_count": 8,
   "id": "34089d93-7816-4270-be7e-7ae14883c6cc",
   "metadata": {},
   "outputs": [
    {
     "name": "stdout",
     "output_type": "stream",
     "text": [
      "277\n"
     ]
    }
   ],
   "source": [
    "test2()"
   ]
  },
  {
   "cell_type": "code",
   "execution_count": 9,
   "id": "afd00440-6f2c-4363-b221-5cbc3dc50a69",
   "metadata": {},
   "outputs": [],
   "source": [
    "@timer_test\n",
    "def test2():\n",
    "    print(252+25)"
   ]
  },
  {
   "cell_type": "code",
   "execution_count": 10,
   "id": "0feaa326-3bc1-4b40-8756-1becb4391509",
   "metadata": {},
   "outputs": [
    {
     "name": "stdout",
     "output_type": "stream",
     "text": [
      "277\n",
      "0.0002770423889160156\n"
     ]
    }
   ],
   "source": [
    "test2()"
   ]
  },
  {
   "cell_type": "code",
   "execution_count": 11,
   "id": "47193052-97e1-46da-8ea0-886d75412105",
   "metadata": {},
   "outputs": [],
   "source": [
    "@timer_test\n",
    "def test3():\n",
    "    for i in range(100000000):\n",
    "        pass"
   ]
  },
  {
   "cell_type": "code",
   "execution_count": 12,
   "id": "ddf1345d-8930-4672-8472-54e58fa7db22",
   "metadata": {},
   "outputs": [
    {
     "name": "stdout",
     "output_type": "stream",
     "text": [
      "2.071742534637451\n"
     ]
    }
   ],
   "source": [
    "test3()"
   ]
  },
  {
   "cell_type": "markdown",
   "id": "a726cf5c-9477-40bf-a5c7-e6bbdec5cd07",
   "metadata": {},
   "source": [
    "## Class Method"
   ]
  },
  {
   "cell_type": "code",
   "execution_count": 13,
   "id": "c1af397a-3360-4eee-967e-7f3b07f337fc",
   "metadata": {},
   "outputs": [],
   "source": [
    "class pwskills:\n",
    "    def __init__(self,name,email):\n",
    "        self.name=name\n",
    "        self.email=email\n",
    "    def students_details(self):\n",
    "        print(self.name,self.email)"
   ]
  },
  {
   "cell_type": "code",
   "execution_count": 14,
   "id": "6e034698-f723-4b71-a3d0-a778f52b227e",
   "metadata": {},
   "outputs": [],
   "source": [
    "pw=pwskills(\"mohan\",\"mohan@gmail.com\")"
   ]
  },
  {
   "cell_type": "code",
   "execution_count": 15,
   "id": "36074bf0-4b25-46ac-8eab-18a9b638196a",
   "metadata": {},
   "outputs": [
    {
     "data": {
      "text/plain": [
       "'mohan'"
      ]
     },
     "execution_count": 15,
     "metadata": {},
     "output_type": "execute_result"
    }
   ],
   "source": [
    "pw.name"
   ]
  },
  {
   "cell_type": "code",
   "execution_count": 16,
   "id": "31cb9a49-4c40-4e04-ae8b-00419aecb560",
   "metadata": {},
   "outputs": [
    {
     "data": {
      "text/plain": [
       "'mohan@gmail.com'"
      ]
     },
     "execution_count": 16,
     "metadata": {},
     "output_type": "execute_result"
    }
   ],
   "source": [
    "pw.email"
   ]
  },
  {
   "cell_type": "code",
   "execution_count": 17,
   "id": "fe19dfe6-cca8-42b1-80b1-17ab5c627ded",
   "metadata": {},
   "outputs": [],
   "source": [
    "class pwskills1:\n",
    "    def __init__(self,name,email):\n",
    "        self.name=name\n",
    "        self.email=email\n",
    "    @classmethod\n",
    "    def details(cls,name,email):\n",
    "        return cls(name,email)\n",
    "    def students_details(self):\n",
    "        print(self.name,self.email)"
   ]
  },
  {
   "cell_type": "code",
   "execution_count": 18,
   "id": "d2c81bfa-1230-4ce1-8992-a48fde237590",
   "metadata": {},
   "outputs": [
    {
     "ename": "TypeError",
     "evalue": "pwskills1.details() missing 2 required positional arguments: 'name' and 'email'",
     "output_type": "error",
     "traceback": [
      "\u001b[0;31m---------------------------------------------------------------------------\u001b[0m",
      "\u001b[0;31mTypeError\u001b[0m                                 Traceback (most recent call last)",
      "Cell \u001b[0;32mIn[18], line 1\u001b[0m\n\u001b[0;32m----> 1\u001b[0m \u001b[43mpwskills1\u001b[49m\u001b[38;5;241;43m.\u001b[39;49m\u001b[43mdetails\u001b[49m\u001b[43m(\u001b[49m\u001b[43m)\u001b[49m\n",
      "\u001b[0;31mTypeError\u001b[0m: pwskills1.details() missing 2 required positional arguments: 'name' and 'email'"
     ]
    }
   ],
   "source": [
    "pwskills1.details()"
   ]
  },
  {
   "cell_type": "code",
   "execution_count": 19,
   "id": "82f46348-cce1-4d88-8baa-4ebf2398a90a",
   "metadata": {},
   "outputs": [
    {
     "data": {
      "text/plain": [
       "<__main__.pwskills1 at 0x7f5d9431d630>"
      ]
     },
     "execution_count": 19,
     "metadata": {},
     "output_type": "execute_result"
    }
   ],
   "source": [
    "pwskills1.details(\"sudh\",\"aasg12@gmail.com\")"
   ]
  },
  {
   "cell_type": "code",
   "execution_count": 20,
   "id": "d0f1d9fe-e836-40be-a270-fccd75406641",
   "metadata": {},
   "outputs": [],
   "source": [
    "pw1=pwskills1.details(\"sudh\",\"aasg12@gmail.com\")"
   ]
  },
  {
   "cell_type": "code",
   "execution_count": 21,
   "id": "80ec537c-4dd6-4ec0-a6bc-991b1b11e3d8",
   "metadata": {},
   "outputs": [
    {
     "data": {
      "text/plain": [
       "'sudh'"
      ]
     },
     "execution_count": 21,
     "metadata": {},
     "output_type": "execute_result"
    }
   ],
   "source": [
    "pw1.name"
   ]
  },
  {
   "cell_type": "code",
   "execution_count": 22,
   "id": "a3adca3f-4539-4155-9997-246ead88ad25",
   "metadata": {},
   "outputs": [
    {
     "name": "stdout",
     "output_type": "stream",
     "text": [
      "sudh aasg12@gmail.com\n"
     ]
    }
   ],
   "source": [
    "pw1.students_details()"
   ]
  },
  {
   "cell_type": "code",
   "execution_count": 23,
   "id": "afdadfd6-8b60-47bf-8e81-beed2ff595d6",
   "metadata": {},
   "outputs": [],
   "source": [
    "#now we will be able to use the class without creating object\n",
    "#and this is overloading "
   ]
  },
  {
   "cell_type": "code",
   "execution_count": 24,
   "id": "f838cd4d-e625-4385-9e23-125acf29bb0e",
   "metadata": {},
   "outputs": [],
   "source": [
    "class pwskills2:\n",
    "    mobile_num=12534635241 #class variable\n",
    "    def __init__(self,name,email):\n",
    "        self.name=name\n",
    "        self.email=email\n",
    "    \n",
    "    @classmethod\n",
    "    def change_number(cls,mobile):\n",
    "        pwskills2.mobile_num=mobile\n",
    "    @classmethod\n",
    "    def details(cls,name,email):\n",
    "        return cls(name,email)\n",
    "    def students_details(self):\n",
    "        print(self.name,self.email,pwskills2.mobile_num)"
   ]
  },
  {
   "cell_type": "code",
   "execution_count": 25,
   "id": "41e7e5fd-e8a3-4e78-a02e-c51c863bbc99",
   "metadata": {},
   "outputs": [
    {
     "data": {
      "text/plain": [
       "12534635241"
      ]
     },
     "execution_count": 25,
     "metadata": {},
     "output_type": "execute_result"
    }
   ],
   "source": [
    "pwskills2.mobile_num"
   ]
  },
  {
   "cell_type": "code",
   "execution_count": 26,
   "id": "6dd699b7-2604-4f90-bbad-8a19bde52622",
   "metadata": {},
   "outputs": [],
   "source": [
    "pwskills2.change_number(6532455432)"
   ]
  },
  {
   "cell_type": "code",
   "execution_count": 27,
   "id": "34645bbd-496d-4d3f-a155-ed38d3fab636",
   "metadata": {},
   "outputs": [
    {
     "data": {
      "text/plain": [
       "6532455432"
      ]
     },
     "execution_count": 27,
     "metadata": {},
     "output_type": "execute_result"
    }
   ],
   "source": [
    "pwskills2.mobile_num"
   ]
  },
  {
   "cell_type": "code",
   "execution_count": 28,
   "id": "581a5d55-e4b8-4a2e-b18f-073caa47baa9",
   "metadata": {},
   "outputs": [],
   "source": [
    "pw_obj=pwskills2(\"aman\",\"aman@gmail.com\")"
   ]
  },
  {
   "cell_type": "code",
   "execution_count": 29,
   "id": "edb7f625-e19a-4016-843d-2b7d1f1df17f",
   "metadata": {},
   "outputs": [
    {
     "name": "stdout",
     "output_type": "stream",
     "text": [
      "aman aman@gmail.com 6532455432\n"
     ]
    }
   ],
   "source": [
    "pw_obj.students_details()"
   ]
  },
  {
   "cell_type": "code",
   "execution_count": 30,
   "id": "1f599d92-c2d4-4fd8-8b00-e0725992603b",
   "metadata": {},
   "outputs": [],
   "source": [
    "pw=pwskills2.details(\"yea\",\"yeah@gmail.com\")"
   ]
  },
  {
   "cell_type": "code",
   "execution_count": 31,
   "id": "8b69b298-c986-45f5-bebd-e4cc09362779",
   "metadata": {},
   "outputs": [
    {
     "name": "stdout",
     "output_type": "stream",
     "text": [
      "yea yeah@gmail.com 6532455432\n"
     ]
    }
   ],
   "source": [
    "pw.students_details()"
   ]
  },
  {
   "cell_type": "code",
   "execution_count": 32,
   "id": "23117c22-9ae1-47be-b39c-145fbef424dc",
   "metadata": {},
   "outputs": [],
   "source": [
    "#by doing this we are overloading the iniit mehtod of the class"
   ]
  },
  {
   "cell_type": "code",
   "execution_count": 33,
   "id": "94536005-b97c-4fa5-831e-c9566b3ab942",
   "metadata": {},
   "outputs": [],
   "source": [
    "class pwskills3:\n",
    "    mobile_num=12534635241 #class variable\n",
    "    def __init__(self,name,email):\n",
    "        self.name=name\n",
    "        self.email=email\n",
    "    \n",
    "    @classmethod\n",
    "    def change_number(cls,mobile):\n",
    "        pwskills2.mobile_num=mobile\n",
    "    @classmethod\n",
    "    def details(cls,name,email):\n",
    "        return cls(name,email)\n",
    "    def students_details(self):\n",
    "        print(self.name,self.email,pwskills2.mobile_num)"
   ]
  },
  {
   "cell_type": "code",
   "execution_count": 34,
   "id": "786f1281-a3af-4b7e-8132-07be733cad61",
   "metadata": {},
   "outputs": [],
   "source": [
    "def course_details(cls,course_name):\n",
    "    print(\"course name is\",course_name)"
   ]
  },
  {
   "cell_type": "code",
   "execution_count": 35,
   "id": "a536371d-bde9-4c3c-84a7-7c3cd4070b43",
   "metadata": {},
   "outputs": [],
   "source": [
    "pwskills3.course_details=classmethod(course_details)"
   ]
  },
  {
   "cell_type": "code",
   "execution_count": 36,
   "id": "1f7d5487-f967-4550-be79-298cac0580f0",
   "metadata": {},
   "outputs": [
    {
     "name": "stdout",
     "output_type": "stream",
     "text": [
      "course name is data science\n"
     ]
    }
   ],
   "source": [
    "pwskills3.course_details(\"data science\")"
   ]
  },
  {
   "cell_type": "code",
   "execution_count": 37,
   "id": "8d5c4f05-ec99-453e-8344-69dc0fbc10ec",
   "metadata": {},
   "outputs": [],
   "source": [
    "def mentor(cls,list_of_mentor):\n",
    "    print(list_of_mentor)"
   ]
  },
  {
   "cell_type": "code",
   "execution_count": 38,
   "id": "b7a55cd4-b47a-4928-b300-00c025a57dc7",
   "metadata": {},
   "outputs": [],
   "source": [
    "pwskills3.mentor=classmethod(mentor)"
   ]
  },
  {
   "cell_type": "code",
   "execution_count": 39,
   "id": "0f512c9b-ccd4-48e1-ad80-2695931f3d96",
   "metadata": {},
   "outputs": [
    {
     "name": "stdout",
     "output_type": "stream",
     "text": [
      "['asfj', 'aasgasdg']\n"
     ]
    }
   ],
   "source": [
    "pwskills3.mentor([\"asfj\",\"aasgasdg\"])"
   ]
  },
  {
   "cell_type": "code",
   "execution_count": 40,
   "id": "4fe464ea-a166-4ac4-9230-af5f1af6e116",
   "metadata": {},
   "outputs": [],
   "source": [
    "del pwskills3.change_number"
   ]
  },
  {
   "cell_type": "code",
   "execution_count": 41,
   "id": "e43b3e17-92a9-4988-8591-2c1799775cce",
   "metadata": {},
   "outputs": [
    {
     "ename": "AttributeError",
     "evalue": "type object 'pwskills' has no attribute 'change_number'",
     "output_type": "error",
     "traceback": [
      "\u001b[0;31m---------------------------------------------------------------------------\u001b[0m",
      "\u001b[0;31mAttributeError\u001b[0m                            Traceback (most recent call last)",
      "Cell \u001b[0;32mIn[41], line 1\u001b[0m\n\u001b[0;32m----> 1\u001b[0m \u001b[43mpwskills\u001b[49m\u001b[38;5;241;43m.\u001b[39;49m\u001b[43mchange_number\u001b[49m\n",
      "\u001b[0;31mAttributeError\u001b[0m: type object 'pwskills' has no attribute 'change_number'"
     ]
    }
   ],
   "source": [
    "pwskills.change_number"
   ]
  },
  {
   "cell_type": "code",
   "execution_count": 42,
   "id": "126d144a-cc8b-468e-bbca-16c5930ac709",
   "metadata": {},
   "outputs": [],
   "source": [
    "delattr(pwskills3,\"details\")"
   ]
  },
  {
   "cell_type": "code",
   "execution_count": 43,
   "id": "3effe40a-9ad9-42be-9195-b8eb9201f07e",
   "metadata": {},
   "outputs": [
    {
     "ename": "AttributeError",
     "evalue": "type object 'pwskills3' has no attribute 'details'",
     "output_type": "error",
     "traceback": [
      "\u001b[0;31m---------------------------------------------------------------------------\u001b[0m",
      "\u001b[0;31mAttributeError\u001b[0m                            Traceback (most recent call last)",
      "Cell \u001b[0;32mIn[43], line 1\u001b[0m\n\u001b[0;32m----> 1\u001b[0m \u001b[43mpwskills3\u001b[49m\u001b[38;5;241;43m.\u001b[39;49m\u001b[43mdetails\u001b[49m()\n",
      "\u001b[0;31mAttributeError\u001b[0m: type object 'pwskills3' has no attribute 'details'"
     ]
    }
   ],
   "source": [
    "pwskills3.details()"
   ]
  },
  {
   "cell_type": "code",
   "execution_count": 44,
   "id": "89cfa4c0-b50f-4dde-9136-e38d2395699e",
   "metadata": {},
   "outputs": [],
   "source": [
    "delattr(pwskills3,\"students_details\")"
   ]
  },
  {
   "cell_type": "code",
   "execution_count": 45,
   "id": "5821f8b7-a17c-412d-90ed-5087661f1fda",
   "metadata": {},
   "outputs": [
    {
     "ename": "AttributeError",
     "evalue": "type object 'pwskills3' has no attribute 'students_details'",
     "output_type": "error",
     "traceback": [
      "\u001b[0;31m---------------------------------------------------------------------------\u001b[0m",
      "\u001b[0;31mAttributeError\u001b[0m                            Traceback (most recent call last)",
      "Cell \u001b[0;32mIn[45], line 1\u001b[0m\n\u001b[0;32m----> 1\u001b[0m \u001b[43mpwskills3\u001b[49m\u001b[38;5;241;43m.\u001b[39;49m\u001b[43mstudents_details\u001b[49m()\n",
      "\u001b[0;31mAttributeError\u001b[0m: type object 'pwskills3' has no attribute 'students_details'"
     ]
    }
   ],
   "source": [
    "pwskills3.students_details()"
   ]
  },
  {
   "cell_type": "code",
   "execution_count": 46,
   "id": "d8bd956d-323c-4865-98ef-4de42cd97724",
   "metadata": {},
   "outputs": [],
   "source": [
    "delattr(pwskills3,\"mobile_num\")"
   ]
  },
  {
   "cell_type": "code",
   "execution_count": 47,
   "id": "25151b47-ad36-41d0-a924-50ee3173ec9c",
   "metadata": {},
   "outputs": [
    {
     "ename": "AttributeError",
     "evalue": "type object 'pwskills3' has no attribute 'mobile_num'",
     "output_type": "error",
     "traceback": [
      "\u001b[0;31m---------------------------------------------------------------------------\u001b[0m",
      "\u001b[0;31mAttributeError\u001b[0m                            Traceback (most recent call last)",
      "Cell \u001b[0;32mIn[47], line 1\u001b[0m\n\u001b[0;32m----> 1\u001b[0m \u001b[43mpwskills3\u001b[49m\u001b[38;5;241;43m.\u001b[39;49m\u001b[43mmobile_num\u001b[49m\n",
      "\u001b[0;31mAttributeError\u001b[0m: type object 'pwskills3' has no attribute 'mobile_num'"
     ]
    }
   ],
   "source": [
    "pwskills3.mobile_num"
   ]
  },
  {
   "cell_type": "markdown",
   "id": "2448424c-8128-4761-b9e9-39512923b990",
   "metadata": {},
   "source": [
    "## Static methods"
   ]
  },
  {
   "cell_type": "code",
   "execution_count": 5,
   "id": "afff4cd7-adbc-40d2-bf7f-57524f4e3264",
   "metadata": {},
   "outputs": [],
   "source": [
    "class pwskills:\n",
    "    def students_details(self,name,mail_id,number):\n",
    "        print(name,mail_id,number)"
   ]
  },
  {
   "cell_type": "code",
   "execution_count": 6,
   "id": "66d118d7-9ed1-4349-a65b-a34985d8a732",
   "metadata": {},
   "outputs": [],
   "source": [
    "pw=pwskills()"
   ]
  },
  {
   "cell_type": "code",
   "execution_count": 8,
   "id": "2fa40659-44d6-4d51-a23f-8a79c0b6c1d4",
   "metadata": {},
   "outputs": [
    {
     "name": "stdout",
     "output_type": "stream",
     "text": [
      "sudh sudhemail 35987239875\n"
     ]
    }
   ],
   "source": [
    "pw.students_details(\"sudh\",'sudhemail',35987239875)"
   ]
  },
  {
   "cell_type": "code",
   "execution_count": 13,
   "id": "cf6fac7c-9087-44af-96c0-226f2c407d96",
   "metadata": {},
   "outputs": [],
   "source": [
    "class pwskills1:\n",
    "    def students_details(self,name,mail_id,number):\n",
    "        print(name,mail_id,number)\n",
    "    @staticmethod\n",
    "    def mentor_class(list_mentor):\n",
    "        print(list_mentor)\n",
    "    def mentor(self,mentor_list):\n",
    "        print(mentor_list)"
   ]
  },
  {
   "cell_type": "code",
   "execution_count": 14,
   "id": "910ed4e9-0153-45f1-89f6-29606249a756",
   "metadata": {},
   "outputs": [
    {
     "name": "stdout",
     "output_type": "stream",
     "text": [
      "['sudh', 'krish']\n"
     ]
    }
   ],
   "source": [
    "pwskills1.mentor_class([\"sudh\",'krish'])"
   ]
  },
  {
   "cell_type": "code",
   "execution_count": 15,
   "id": "658d7ebe-c292-447f-a323-395e2b343fa1",
   "metadata": {},
   "outputs": [],
   "source": [
    "stu1=pwskills1()"
   ]
  },
  {
   "cell_type": "code",
   "execution_count": 16,
   "id": "c1b74c09-ecb5-4e40-a258-42abe16d17bd",
   "metadata": {},
   "outputs": [],
   "source": [
    "stu2=pwskills1()"
   ]
  },
  {
   "cell_type": "code",
   "execution_count": 17,
   "id": "cd3ebe34-5c43-4bcf-a71e-bcc31f80f0f4",
   "metadata": {},
   "outputs": [],
   "source": [
    "#now this static method will be same for all the objects\n",
    "#soo that memory comsuption is efficient\n"
   ]
  },
  {
   "cell_type": "code",
   "execution_count": 30,
   "id": "33ace168-3765-4300-9eb4-cf4a5246f5ad",
   "metadata": {},
   "outputs": [],
   "source": [
    "class pwskills2:\n",
    "    def students_details(self,name,mail_id,number):\n",
    "        print(name,mail_id,number)\n",
    "    \n",
    "    @staticmethod\n",
    "    def mentor_mail_id(mailid_mentor):\n",
    "        print(mailid_mentor)\n",
    "        \n",
    "    @staticmethod\n",
    "    def mentor_class(list_mentor):\n",
    "        pwskills2.mentor_mail_id(['amanemil','sudhemail'])\n",
    "        print(list_mentor)\n",
    "        \n",
    "    @classmethod\n",
    "    def class_name(cls):\n",
    "        cls.mentor_class(['aman'])\n",
    "    def mentor(self,mentor_list):  #instance method\n",
    "        print(mentor_list)\n",
    "        self.mentor_class(['keri','shudb'])"
   ]
  },
  {
   "cell_type": "code",
   "execution_count": 31,
   "id": "59253432-897e-4403-bba5-5e0b703664ee",
   "metadata": {},
   "outputs": [
    {
     "name": "stdout",
     "output_type": "stream",
     "text": [
      "['amanemil', 'sudhemail']\n",
      "['aman']\n"
     ]
    }
   ],
   "source": [
    "pwskills2.class_name()"
   ]
  },
  {
   "cell_type": "code",
   "execution_count": 32,
   "id": "9d54447a-f898-4b01-800b-db66288a3f32",
   "metadata": {},
   "outputs": [
    {
     "name": "stdout",
     "output_type": "stream",
     "text": [
      "['amanemil', 'sudhemail']\n",
      "['aman', 'sudh']\n"
     ]
    }
   ],
   "source": [
    "pwskills2.mentor_class([\"aman\",'sudh'])"
   ]
  },
  {
   "cell_type": "code",
   "execution_count": 33,
   "id": "9b2dacb0-8436-4dac-a1cb-2af99df11e17",
   "metadata": {},
   "outputs": [],
   "source": [
    "pw=pwskills2()"
   ]
  },
  {
   "cell_type": "markdown",
   "id": "05573224-2524-45df-b9ea-f64526d2e1d3",
   "metadata": {},
   "source": [
    "## Magic function"
   ]
  },
  {
   "cell_type": "code",
   "execution_count": 6,
   "id": "4e03ea6c-deb1-4ce2-8ec7-cd5a54372fe0",
   "metadata": {},
   "outputs": [
    {
     "data": {
      "text/plain": [
       "['__abs__',\n",
       " '__add__',\n",
       " '__and__',\n",
       " '__bool__',\n",
       " '__ceil__',\n",
       " '__class__',\n",
       " '__delattr__',\n",
       " '__dir__',\n",
       " '__divmod__',\n",
       " '__doc__',\n",
       " '__eq__',\n",
       " '__float__',\n",
       " '__floor__',\n",
       " '__floordiv__',\n",
       " '__format__',\n",
       " '__ge__',\n",
       " '__getattribute__',\n",
       " '__getnewargs__',\n",
       " '__gt__',\n",
       " '__hash__',\n",
       " '__index__',\n",
       " '__init__',\n",
       " '__init_subclass__',\n",
       " '__int__',\n",
       " '__invert__',\n",
       " '__le__',\n",
       " '__lshift__',\n",
       " '__lt__',\n",
       " '__mod__',\n",
       " '__mul__',\n",
       " '__ne__',\n",
       " '__neg__',\n",
       " '__new__',\n",
       " '__or__',\n",
       " '__pos__',\n",
       " '__pow__',\n",
       " '__radd__',\n",
       " '__rand__',\n",
       " '__rdivmod__',\n",
       " '__reduce__',\n",
       " '__reduce_ex__',\n",
       " '__repr__',\n",
       " '__rfloordiv__',\n",
       " '__rlshift__',\n",
       " '__rmod__',\n",
       " '__rmul__',\n",
       " '__ror__',\n",
       " '__round__',\n",
       " '__rpow__',\n",
       " '__rrshift__',\n",
       " '__rshift__',\n",
       " '__rsub__',\n",
       " '__rtruediv__',\n",
       " '__rxor__',\n",
       " '__setattr__',\n",
       " '__sizeof__',\n",
       " '__str__',\n",
       " '__sub__',\n",
       " '__subclasshook__',\n",
       " '__truediv__',\n",
       " '__trunc__',\n",
       " '__xor__',\n",
       " 'as_integer_ratio',\n",
       " 'bit_count',\n",
       " 'bit_length',\n",
       " 'conjugate',\n",
       " 'denominator',\n",
       " 'from_bytes',\n",
       " 'imag',\n",
       " 'numerator',\n",
       " 'real',\n",
       " 'to_bytes']"
      ]
     },
     "execution_count": 6,
     "metadata": {},
     "output_type": "execute_result"
    }
   ],
   "source": [
    "dir(int)  # all the listed are been called when this 'int' is called"
   ]
  },
  {
   "cell_type": "code",
   "execution_count": 2,
   "id": "833e6d8c-bec6-4f1f-951f-5d4ca8824e04",
   "metadata": {},
   "outputs": [],
   "source": [
    "a=100"
   ]
  },
  {
   "cell_type": "code",
   "execution_count": 3,
   "id": "07b32e5c-e867-43f7-8a84-0041b0c135c4",
   "metadata": {},
   "outputs": [],
   "source": [
    "a+=5"
   ]
  },
  {
   "cell_type": "code",
   "execution_count": 5,
   "id": "12a934fc-1384-407e-851f-0561bff99aa6",
   "metadata": {},
   "outputs": [
    {
     "data": {
      "text/plain": [
       "110"
      ]
     },
     "execution_count": 5,
     "metadata": {},
     "output_type": "execute_result"
    }
   ],
   "source": [
    "a.__add__(5)    # these are magic function\n",
    "# these are called dunder because there are 2 underscore both side of the function name"
   ]
  },
  {
   "cell_type": "code",
   "execution_count": 11,
   "id": "d919169f-eb0c-496a-9f42-9ef98e48824f",
   "metadata": {},
   "outputs": [],
   "source": [
    "class pwskills:\n",
    "    def __new__(cls):\n",
    "        print(\"this is the new\")\n",
    "    def __init__(self):\n",
    "        print(\"this is my init\")\n",
    "        self.mobile_number=295729375"
   ]
  },
  {
   "cell_type": "code",
   "execution_count": 12,
   "id": "d4628525-accb-4fbc-88f5-932318972031",
   "metadata": {},
   "outputs": [
    {
     "name": "stdout",
     "output_type": "stream",
     "text": [
      "this is the new\n"
     ]
    }
   ],
   "source": [
    "pw=pwskills()"
   ]
  },
  {
   "cell_type": "code",
   "execution_count": 13,
   "id": "a77e60fe-d4ce-49a1-8687-20272e11d08b",
   "metadata": {},
   "outputs": [
    {
     "ename": "AttributeError",
     "evalue": "'NoneType' object has no attribute 'mobile_number'",
     "output_type": "error",
     "traceback": [
      "\u001b[0;31m---------------------------------------------------------------------------\u001b[0m",
      "\u001b[0;31mAttributeError\u001b[0m                            Traceback (most recent call last)",
      "Cell \u001b[0;32mIn[13], line 1\u001b[0m\n\u001b[0;32m----> 1\u001b[0m \u001b[43mpw\u001b[49m\u001b[38;5;241;43m.\u001b[39;49m\u001b[43mmobile_number\u001b[49m\n",
      "\u001b[0;31mAttributeError\u001b[0m: 'NoneType' object has no attribute 'mobile_number'"
     ]
    }
   ],
   "source": [
    "pw.mobile_number"
   ]
  },
  {
   "cell_type": "code",
   "execution_count": 29,
   "id": "c0a74c6f-67a7-4ca3-b1df-db8ced62cb4b",
   "metadata": {},
   "outputs": [],
   "source": [
    "class pwskills11:\n",
    "    def __init__(self):\n",
    "        self.mobile_number=295729375\n",
    "    def __str__(self):\n",
    "        return \"this is my magic call of str\""
   ]
  },
  {
   "cell_type": "code",
   "execution_count": 30,
   "id": "cdddc552-078d-4db6-a0b1-03bcdeba62c9",
   "metadata": {},
   "outputs": [],
   "source": [
    "pw11=pwskills11()"
   ]
  },
  {
   "cell_type": "code",
   "execution_count": 31,
   "id": "f6afb4d8-39e0-401f-9c45-723f24159065",
   "metadata": {},
   "outputs": [
    {
     "data": {
      "text/plain": [
       "<__main__.pwskills11 at 0x7f7a6455cf10>"
      ]
     },
     "execution_count": 31,
     "metadata": {},
     "output_type": "execute_result"
    }
   ],
   "source": [
    "pw11"
   ]
  },
  {
   "cell_type": "code",
   "execution_count": 32,
   "id": "6e944964-a2ad-43f8-841d-5ee47e6c7a63",
   "metadata": {},
   "outputs": [
    {
     "name": "stdout",
     "output_type": "stream",
     "text": [
      "this is my magic call of str\n"
     ]
    }
   ],
   "source": [
    "print(pw11)"
   ]
  },
  {
   "cell_type": "markdown",
   "id": "b15a4347-1755-4539-81dd-5586eab05805",
   "metadata": {},
   "source": [
    "# Getter setter deletes"
   ]
  },
  {
   "cell_type": "code",
   "execution_count": 95,
   "id": "9e61b6e5-167d-46d9-aaa7-08fb97ad3444",
   "metadata": {},
   "outputs": [],
   "source": [
    "class pwskills:\n",
    "    def __init__(self,course_price,course_name):\n",
    "        self.__course_price=course_price\n",
    "        self.course_name=course_name\n",
    "    @property\n",
    "    def course_price_access(self):\n",
    "        return self.__course_price\n",
    "    @course_price_access.setter\n",
    "    def course_price_set(self,price):\n",
    "        if price<=3500:\n",
    "            pass\n",
    "        else:\n",
    "            self.__course_price=price\n",
    "    @course_price_access.deleter\n",
    "    def delete_course_price(self):\n",
    "        del self.__course_price"
   ]
  },
  {
   "cell_type": "code",
   "execution_count": 96,
   "id": "62812612-af7e-4fa2-b56a-d4d41feed471",
   "metadata": {},
   "outputs": [],
   "source": [
    "pw=pwskills(3500,\"data science master\")"
   ]
  },
  {
   "cell_type": "code",
   "execution_count": 97,
   "id": "b6c9eec2-ef81-4d43-95c7-169bc9f5b83f",
   "metadata": {},
   "outputs": [
    {
     "data": {
      "text/plain": [
       "3500"
      ]
     },
     "execution_count": 97,
     "metadata": {},
     "output_type": "execute_result"
    }
   ],
   "source": [
    "pw._pwskills__course_price"
   ]
  },
  {
   "cell_type": "code",
   "execution_count": 98,
   "id": "6a66b3bc-7862-4dee-ad51-4778d6ae065a",
   "metadata": {},
   "outputs": [
    {
     "data": {
      "text/plain": [
       "'data science master'"
      ]
     },
     "execution_count": 98,
     "metadata": {},
     "output_type": "execute_result"
    }
   ],
   "source": [
    "pw.course_name"
   ]
  },
  {
   "cell_type": "code",
   "execution_count": 99,
   "id": "7b1ae7ae-563d-4bf2-a079-ba8e1b79e660",
   "metadata": {},
   "outputs": [
    {
     "data": {
      "text/plain": [
       "3500"
      ]
     },
     "execution_count": 99,
     "metadata": {},
     "output_type": "execute_result"
    }
   ],
   "source": [
    "pw.course_price_access"
   ]
  },
  {
   "cell_type": "code",
   "execution_count": 100,
   "id": "da2c6f21-6e16-44a2-b1bf-1dddcc4edc57",
   "metadata": {},
   "outputs": [],
   "source": [
    "pw.course_price_set=4500"
   ]
  },
  {
   "cell_type": "code",
   "execution_count": 101,
   "id": "db3b6e3a-1453-4941-994c-18e0e3974c0a",
   "metadata": {},
   "outputs": [
    {
     "data": {
      "text/plain": [
       "4500"
      ]
     },
     "execution_count": 101,
     "metadata": {},
     "output_type": "execute_result"
    }
   ],
   "source": [
    "pw.course_price_access"
   ]
  },
  {
   "cell_type": "code",
   "execution_count": 102,
   "id": "87010856-e177-439b-8f95-01c93e63b7e3",
   "metadata": {},
   "outputs": [],
   "source": [
    "del pw.delete_course_price"
   ]
  },
  {
   "cell_type": "code",
   "execution_count": 103,
   "id": "b3f22026-e12d-466f-9f49-11ef01953f5c",
   "metadata": {},
   "outputs": [
    {
     "ename": "AttributeError",
     "evalue": "'pwskills' object has no attribute '_pwskills__course_price'",
     "output_type": "error",
     "traceback": [
      "\u001b[0;31m---------------------------------------------------------------------------\u001b[0m",
      "\u001b[0;31mAttributeError\u001b[0m                            Traceback (most recent call last)",
      "Cell \u001b[0;32mIn[103], line 1\u001b[0m\n\u001b[0;32m----> 1\u001b[0m \u001b[43mpw\u001b[49m\u001b[38;5;241;43m.\u001b[39;49m\u001b[43mcourse_price_access\u001b[49m\n",
      "Cell \u001b[0;32mIn[95], line 7\u001b[0m, in \u001b[0;36mpwskills.course_price_access\u001b[0;34m(self)\u001b[0m\n\u001b[1;32m      5\u001b[0m \u001b[38;5;129m@property\u001b[39m\n\u001b[1;32m      6\u001b[0m \u001b[38;5;28;01mdef\u001b[39;00m \u001b[38;5;21mcourse_price_access\u001b[39m(\u001b[38;5;28mself\u001b[39m):\n\u001b[0;32m----> 7\u001b[0m     \u001b[38;5;28;01mreturn\u001b[39;00m \u001b[38;5;28;43mself\u001b[39;49m\u001b[38;5;241;43m.\u001b[39;49m\u001b[43m__course_price\u001b[49m\n",
      "\u001b[0;31mAttributeError\u001b[0m: 'pwskills' object has no attribute '_pwskills__course_price'"
     ]
    }
   ],
   "source": [
    "pw.course_price_access"
   ]
  },
  {
   "cell_type": "code",
   "execution_count": null,
   "id": "c4ce23b7-b35e-40a8-8bfd-1388310820db",
   "metadata": {},
   "outputs": [],
   "source": []
  }
 ],
 "metadata": {
  "kernelspec": {
   "display_name": "Python 3 (ipykernel)",
   "language": "python",
   "name": "python3"
  },
  "language_info": {
   "codemirror_mode": {
    "name": "ipython",
    "version": 3
   },
   "file_extension": ".py",
   "mimetype": "text/x-python",
   "name": "python",
   "nbconvert_exporter": "python",
   "pygments_lexer": "ipython3",
   "version": "3.10.8"
  }
 },
 "nbformat": 4,
 "nbformat_minor": 5
}
