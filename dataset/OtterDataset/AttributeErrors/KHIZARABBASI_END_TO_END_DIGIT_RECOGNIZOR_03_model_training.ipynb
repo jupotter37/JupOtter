{
 "cells": [
  {
   "cell_type": "code",
   "execution_count": 30,
   "metadata": {},
   "outputs": [],
   "source": [
    "import os\n",
    "os.chdir(\"E:\\[Portfolio Project]\\Digit Recognizor\")"
   ]
  },
  {
   "cell_type": "code",
   "execution_count": 31,
   "metadata": {},
   "outputs": [],
   "source": [
    "from pathlib import Path\n",
    "from dataclasses import dataclass\n",
    "\n",
    "@dataclass(frozen = True)\n",
    "class TrainingConfig:\n",
    "    root_dir : Path\n",
    "    trained_model_path : Path"
   ]
  },
  {
   "cell_type": "code",
   "execution_count": 32,
   "metadata": {},
   "outputs": [],
   "source": [
    "from cnnDigitReco.constants import *\n",
    "from cnnDigitReco.utils.common import read_yaml, create_directories, save_json\n",
    "import numpy as np"
   ]
  },
  {
   "cell_type": "code",
   "execution_count": 33,
   "metadata": {},
   "outputs": [],
   "source": [
    "import tensorflow as tf\n",
    "from tensorflow.keras.models import Sequential\n",
    "from tensorflow.keras.layers import Conv2D, MaxPooling2D, Flatten, Dense\n",
    "\n",
    "\n",
    "class ConfigurationManager:\n",
    "    def __init__(\n",
    "        self, \n",
    "        config_filepath = CONFIG_FILE_PATH,\n",
    "        params_filepath = PARAMS_FILE_PATH):\n",
    "        self.config = read_yaml(config_filepath)\n",
    "        self.params = read_yaml(params_filepath)\n",
    "        create_directories([self.config.artifacts_root])\n",
    "\n",
    "\n",
    "    def get_training_config(self) -> TrainingConfig:\n",
    "        config = self.config.model_traning\n",
    "\n",
    "\n",
    "        create_directories([config.root_dir])\n",
    "        return TrainingConfig(\n",
    "            root_dir = Path(config.root_dir),\n",
    "            trained_model_path = Path(config.trained_model_path)\n",
    "        )\n",
    "\n",
    "\n",
    "\n"
   ]
  },
  {
   "cell_type": "code",
   "execution_count": 34,
   "metadata": {},
   "outputs": [],
   "source": [
    "from cnnDigitReco.config.configuration import DataTransformationConfig\n",
    "\n",
    "\n",
    "\n",
    "class Training:\n",
    "    def __init__(self, config: TrainingConfig):\n",
    "        self.config = config\n",
    "\n",
    "    \n",
    "        \n",
    "\n",
    "\n",
    "    def train(self,config: DataTransformationConfig):\n",
    "        config = DataTransformationConfig(\n",
    "            root_dir = Path(config.root_dir),\n",
    "            input_data_file = Path(config.input_data_file),\n",
    "            output_data_file = Path(config.output_data_file),\n",
    "            training_dir = Path(config.training_dir),\n",
    "            valid_dir = Path(config.valid_dir)\n",
    "        )\n",
    "\n",
    "        config.x_train = f\"{config.training_dir}/x_train.csv\"\n",
    "        config.y_train = f\"{config.training_dir}/y_train.csv\"\n",
    "        config.x_test = f\"{config.valid_dir}/x_val.csv\"\n",
    "        config.y_test = f\"{config.valid_dir}/y_val.csv\"    \n",
    "\n",
    "        model = Sequential([\n",
    "        Conv2D(32, (3, 3), activation='relu', input_shape=(28, 28, 1)),\n",
    "        MaxPooling2D(pool_size=(2, 2)),\n",
    "        Conv2D(64, (3, 3), activation='relu'),\n",
    "        MaxPooling2D(pool_size=(2, 2)),\n",
    "        Flatten(),\n",
    "        Dense(128, activation='relu'),\n",
    "        Dense(10, activation='softmax')  # 10 output classes for digits 0-9\n",
    "    ])\n",
    "\n",
    "        model.compile(optimizer='adam', loss='sparse_categorical_crossentropy', metrics=['accuracy'])\n",
    "        \n",
    "\n",
    "        history = model.fit(config.x_train, config.y_train, validation_data=(config.x_test, config.y_test), epochs=10, batch_size=32)\n"
   ]
  },
  {
   "cell_type": "code",
   "execution_count": 35,
   "metadata": {},
   "outputs": [
    {
     "name": "stdout",
     "output_type": "stream",
     "text": [
      "[2024-11-23 13:58:09,879: INFO: common: yaml file: config\\config.yaml loaded successfully]\n",
      "[2024-11-23 13:58:09,886: INFO: common: yaml file: params.yaml loaded successfully]\n",
      "[2024-11-23 13:58:09,892: INFO: common: created directory at: artifacts]\n",
      "[2024-11-23 13:58:09,902: INFO: common: created directory at: artifacts/training]\n"
     ]
    },
    {
     "ename": "AttributeError",
     "evalue": "type object 'DataTransformationConfig' has no attribute 'root_dir'",
     "output_type": "error",
     "traceback": [
      "\u001b[1;31m---------------------------------------------------------------------------\u001b[0m",
      "\u001b[1;31mAttributeError\u001b[0m                            Traceback (most recent call last)",
      "Cell \u001b[1;32mIn[35], line 8\u001b[0m\n\u001b[0;32m      5\u001b[0m     training\u001b[38;5;241m.\u001b[39mtrain(DataTransformationConfig)\n\u001b[0;32m      7\u001b[0m \u001b[38;5;28;01mexcept\u001b[39;00m \u001b[38;5;167;01mException\u001b[39;00m \u001b[38;5;28;01mas\u001b[39;00m e:\n\u001b[1;32m----> 8\u001b[0m     \u001b[38;5;28;01mraise\u001b[39;00m e\n",
      "Cell \u001b[1;32mIn[35], line 5\u001b[0m\n\u001b[0;32m      3\u001b[0m     training_config \u001b[38;5;241m=\u001b[39m config\u001b[38;5;241m.\u001b[39mget_training_config()\n\u001b[0;32m      4\u001b[0m     training \u001b[38;5;241m=\u001b[39m Training(config\u001b[38;5;241m=\u001b[39mtraining_config)\n\u001b[1;32m----> 5\u001b[0m     \u001b[43mtraining\u001b[49m\u001b[38;5;241;43m.\u001b[39;49m\u001b[43mtrain\u001b[49m\u001b[43m(\u001b[49m\u001b[43mDataTransformationConfig\u001b[49m\u001b[43m)\u001b[49m\n\u001b[0;32m      7\u001b[0m \u001b[38;5;28;01mexcept\u001b[39;00m \u001b[38;5;167;01mException\u001b[39;00m \u001b[38;5;28;01mas\u001b[39;00m e:\n\u001b[0;32m      8\u001b[0m     \u001b[38;5;28;01mraise\u001b[39;00m e\n",
      "Cell \u001b[1;32mIn[34], line 15\u001b[0m, in \u001b[0;36mTraining.train\u001b[1;34m(self, config)\u001b[0m\n\u001b[0;32m     13\u001b[0m \u001b[38;5;28;01mdef\u001b[39;00m \u001b[38;5;21mtrain\u001b[39m(\u001b[38;5;28mself\u001b[39m,config: DataTransformationConfig):\n\u001b[0;32m     14\u001b[0m     config \u001b[38;5;241m=\u001b[39m DataTransformationConfig(\n\u001b[1;32m---> 15\u001b[0m         root_dir \u001b[38;5;241m=\u001b[39m Path(\u001b[43mconfig\u001b[49m\u001b[38;5;241;43m.\u001b[39;49m\u001b[43mroot_dir\u001b[49m),\n\u001b[0;32m     16\u001b[0m         input_data_file \u001b[38;5;241m=\u001b[39m Path(config\u001b[38;5;241m.\u001b[39minput_data_file),\n\u001b[0;32m     17\u001b[0m         output_data_file \u001b[38;5;241m=\u001b[39m Path(config\u001b[38;5;241m.\u001b[39moutput_data_file),\n\u001b[0;32m     18\u001b[0m         training_dir \u001b[38;5;241m=\u001b[39m Path(config\u001b[38;5;241m.\u001b[39mtraining_dir),\n\u001b[0;32m     19\u001b[0m         valid_dir \u001b[38;5;241m=\u001b[39m Path(config\u001b[38;5;241m.\u001b[39mvalid_dir)\n\u001b[0;32m     20\u001b[0m     )\n\u001b[0;32m     22\u001b[0m     config\u001b[38;5;241m.\u001b[39mx_train \u001b[38;5;241m=\u001b[39m \u001b[38;5;124mf\u001b[39m\u001b[38;5;124m\"\u001b[39m\u001b[38;5;132;01m{\u001b[39;00mconfig\u001b[38;5;241m.\u001b[39mtraining_dir\u001b[38;5;132;01m}\u001b[39;00m\u001b[38;5;124m/x_train.csv\u001b[39m\u001b[38;5;124m\"\u001b[39m\n\u001b[0;32m     23\u001b[0m     config\u001b[38;5;241m.\u001b[39my_train \u001b[38;5;241m=\u001b[39m \u001b[38;5;124mf\u001b[39m\u001b[38;5;124m\"\u001b[39m\u001b[38;5;132;01m{\u001b[39;00mconfig\u001b[38;5;241m.\u001b[39mtraining_dir\u001b[38;5;132;01m}\u001b[39;00m\u001b[38;5;124m/y_train.csv\u001b[39m\u001b[38;5;124m\"\u001b[39m\n",
      "\u001b[1;31mAttributeError\u001b[0m: type object 'DataTransformationConfig' has no attribute 'root_dir'"
     ]
    }
   ],
   "source": [
    "try:\n",
    "    config = ConfigurationManager()\n",
    "    training_config = config.get_training_config()\n",
    "    training = Training(config=training_config)\n",
    "    training.train(DataTransformationConfig)\n",
    "\n",
    "except Exception as e:\n",
    "    raise e"
   ]
  },
  {
   "cell_type": "code",
   "execution_count": null,
   "metadata": {},
   "outputs": [],
   "source": []
  }
 ],
 "metadata": {
  "kernelspec": {
   "display_name": "digit",
   "language": "python",
   "name": "python3"
  },
  "language_info": {
   "codemirror_mode": {
    "name": "ipython",
    "version": 3
   },
   "file_extension": ".py",
   "mimetype": "text/x-python",
   "name": "python",
   "nbconvert_exporter": "python",
   "pygments_lexer": "ipython3",
   "version": "3.11.5"
  }
 },
 "nbformat": 4,
 "nbformat_minor": 2
}
