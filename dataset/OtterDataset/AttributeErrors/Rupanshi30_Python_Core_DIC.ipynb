{
 "cells": [
  {
   "cell_type": "code",
   "execution_count": null,
   "id": "0a9e0093",
   "metadata": {},
   "outputs": [],
   "source": [
    " # dictionary -data will store as a key value\n",
    "    #dic is mutable but keys are immutable\n",
    "    #dic has no indexing\n",
    "    #keys are unique,values can be mutable and immutable\n",
    "    #mutable-list,set,dic\n",
    "    #immutable-string,tuple,int,float,boolean,complex"
   ]
  },
  {
   "cell_type": "code",
   "execution_count": 1,
   "id": "3c121498",
   "metadata": {},
   "outputs": [
    {
     "data": {
      "text/plain": [
       "dict"
      ]
     },
     "execution_count": 1,
     "metadata": {},
     "output_type": "execute_result"
    }
   ],
   "source": [
    "#empty dic\n",
    "d={}\n",
    "type(d)"
   ]
  },
  {
   "cell_type": "code",
   "execution_count": 2,
   "id": "5beecb59",
   "metadata": {},
   "outputs": [
    {
     "data": {
      "text/plain": [
       "1866635241808"
      ]
     },
     "execution_count": 2,
     "metadata": {},
     "output_type": "execute_result"
    }
   ],
   "source": [
    "a=2\n",
    "id(a)"
   ]
  },
  {
   "cell_type": "code",
   "execution_count": 7,
   "id": "41faeb7b",
   "metadata": {},
   "outputs": [
    {
     "data": {
      "text/plain": [
       "1866635241872"
      ]
     },
     "execution_count": 7,
     "metadata": {},
     "output_type": "execute_result"
    }
   ],
   "source": [
    "a=4\n",
    "id(a) #int-immutable=different memory location"
   ]
  },
  {
   "cell_type": "code",
   "execution_count": 4,
   "id": "6af0c161",
   "metadata": {},
   "outputs": [
    {
     "data": {
      "text/plain": [
       "1866721344416"
      ]
     },
     "execution_count": 4,
     "metadata": {},
     "output_type": "execute_result"
    }
   ],
   "source": [
    "a={1,2,3,4}\n",
    "id(a)"
   ]
  },
  {
   "cell_type": "code",
   "execution_count": 5,
   "id": "50f37e80",
   "metadata": {},
   "outputs": [
    {
     "data": {
      "text/plain": [
       "1866721344864"
      ]
     },
     "execution_count": 5,
     "metadata": {},
     "output_type": "execute_result"
    }
   ],
   "source": [
    "a={1,2,3,4,6}\n",
    "id(a)"
   ]
  },
  {
   "cell_type": "code",
   "execution_count": 9,
   "id": "aa93bb67",
   "metadata": {},
   "outputs": [
    {
     "data": {
      "text/plain": [
       "3"
      ]
     },
     "execution_count": 9,
     "metadata": {},
     "output_type": "execute_result"
    }
   ],
   "source": [
    "d={1:\"one\",2:\"two\",3:\"three\"}\n",
    "type(d)\n",
    "len(d)"
   ]
  },
  {
   "cell_type": "code",
   "execution_count": 10,
   "id": "a6ec0daa",
   "metadata": {},
   "outputs": [
    {
     "data": {
      "text/plain": [
       "4"
      ]
     },
     "execution_count": 10,
     "metadata": {},
     "output_type": "execute_result"
    }
   ],
   "source": [
    "#nested dic\n",
    "d={1:\"one\",2:\"two\",3:\"three\",4:{\"four\",\"even\"}}\n",
    "len(d)"
   ]
  },
  {
   "cell_type": "code",
   "execution_count": 11,
   "id": "74eac7d1",
   "metadata": {},
   "outputs": [
    {
     "ename": "TypeError",
     "evalue": "unhashable type: 'list'",
     "output_type": "error",
     "traceback": [
      "\u001b[1;31m---------------------------------------------------------------------------\u001b[0m",
      "\u001b[1;31mTypeError\u001b[0m                                 Traceback (most recent call last)",
      "Input \u001b[1;32mIn [11]\u001b[0m, in \u001b[0;36m<cell line: 1>\u001b[1;34m()\u001b[0m\n\u001b[1;32m----> 1\u001b[0m d\u001b[38;5;241m=\u001b[39m{[\u001b[38;5;241m1\u001b[39m,\u001b[38;5;241m2\u001b[39m,\u001b[38;5;241m3\u001b[39m]:\u001b[38;5;124m\"\u001b[39m\u001b[38;5;124mlist\u001b[39m\u001b[38;5;124m\"\u001b[39m}\n",
      "\u001b[1;31mTypeError\u001b[0m: unhashable type: 'list'"
     ]
    }
   ],
   "source": [
    "d={[1,2,3]:\"list\"} #bcz list is mutable"
   ]
  },
  {
   "cell_type": "code",
   "execution_count": 12,
   "id": "ad6187cb",
   "metadata": {},
   "outputs": [
    {
     "data": {
      "text/plain": [
       "{'datatype': 'key'}"
      ]
     },
     "execution_count": 12,
     "metadata": {},
     "output_type": "execute_result"
    }
   ],
   "source": [
    "d={\"datatype\":\"key\"} #str is immutable\n",
    "d"
   ]
  },
  {
   "cell_type": "code",
   "execution_count": 13,
   "id": "1ea1fce3",
   "metadata": {},
   "outputs": [
    {
     "name": "stdout",
     "output_type": "stream",
     "text": [
      "{'Name': 'Python', 1: [1, 2, 3, 4]}\n"
     ]
    }
   ],
   "source": [
    "#creating a dic with mixed keys\n",
    "d={'Name':'Python',1:[1,2,3,4]} #here we are taking list in value\n",
    "print(d)"
   ]
  },
  {
   "cell_type": "code",
   "execution_count": 14,
   "id": "475e75df",
   "metadata": {},
   "outputs": [],
   "source": [
    "#dic can be constructed by built-in function dict()"
   ]
  },
  {
   "cell_type": "code",
   "execution_count": 17,
   "id": "51c89c8f",
   "metadata": {},
   "outputs": [
    {
     "data": {
      "text/plain": [
       "{}"
      ]
     },
     "execution_count": 17,
     "metadata": {},
     "output_type": "execute_result"
    }
   ],
   "source": [
    "d=dict()\n",
    "type(d)\n",
    "d #empty dic "
   ]
  },
  {
   "cell_type": "code",
   "execution_count": 18,
   "id": "fd0b450f",
   "metadata": {},
   "outputs": [
    {
     "data": {
      "text/plain": [
       "{'1': 'one', '2': 'two'}"
      ]
     },
     "execution_count": 18,
     "metadata": {},
     "output_type": "execute_result"
    }
   ],
   "source": [
    "l=[(\"1\",\"one\"),(\"2\",\"two\")]\n",
    "dict(l)"
   ]
  },
  {
   "cell_type": "code",
   "execution_count": 19,
   "id": "33a78db1",
   "metadata": {},
   "outputs": [],
   "source": [
    "#accessing in dic"
   ]
  },
  {
   "cell_type": "code",
   "execution_count": 2,
   "id": "94ccac10",
   "metadata": {},
   "outputs": [
    {
     "data": {
      "text/plain": [
       "{'four': 'even', 'multipleof2': '2'}"
      ]
     },
     "execution_count": 2,
     "metadata": {},
     "output_type": "execute_result"
    }
   ],
   "source": [
    "d={1:\"one\",2:\"two\",3:\"three\",4:{\"four\":\"even\",\"multipleof2\":\"2\"},\"list\":[1,2,3,4]}\n",
    "d[4]"
   ]
  },
  {
   "cell_type": "code",
   "execution_count": 3,
   "id": "83c2dc23",
   "metadata": {},
   "outputs": [
    {
     "data": {
      "text/plain": [
       "'even'"
      ]
     },
     "execution_count": 3,
     "metadata": {},
     "output_type": "execute_result"
    }
   ],
   "source": [
    "d={1:\"one\",2:\"two\",3:\"three\",4:{\"four\":\"even\",\"multipleof2\":\"2\"},\"list\":[1,2,3,4]}\n",
    "d[4][\"four\"]"
   ]
  },
  {
   "cell_type": "code",
   "execution_count": 4,
   "id": "d527b714",
   "metadata": {},
   "outputs": [
    {
     "data": {
      "text/plain": [
       "'2'"
      ]
     },
     "execution_count": 4,
     "metadata": {},
     "output_type": "execute_result"
    }
   ],
   "source": [
    "d[4][\"multipleof2\"]"
   ]
  },
  {
   "cell_type": "code",
   "execution_count": 5,
   "id": "80018385",
   "metadata": {},
   "outputs": [
    {
     "data": {
      "text/plain": [
       "[1, 2, 3, 4]"
      ]
     },
     "execution_count": 5,
     "metadata": {},
     "output_type": "execute_result"
    }
   ],
   "source": [
    "d[\"list\"]"
   ]
  },
  {
   "cell_type": "code",
   "execution_count": 31,
   "id": "f6b2082e",
   "metadata": {},
   "outputs": [
    {
     "data": {
      "text/plain": [
       "[3, 4]"
      ]
     },
     "execution_count": 31,
     "metadata": {},
     "output_type": "execute_result"
    }
   ],
   "source": [
    "d[\"list\"][2:4] #using keyname in the square bracket"
   ]
  },
  {
   "cell_type": "code",
   "execution_count": 32,
   "id": "bd3980bc",
   "metadata": {},
   "outputs": [
    {
     "ename": "KeyError",
     "evalue": "'6'",
     "output_type": "error",
     "traceback": [
      "\u001b[1;31m---------------------------------------------------------------------------\u001b[0m",
      "\u001b[1;31mKeyError\u001b[0m                                  Traceback (most recent call last)",
      "Input \u001b[1;32mIn [32]\u001b[0m, in \u001b[0;36m<cell line: 1>\u001b[1;34m()\u001b[0m\n\u001b[1;32m----> 1\u001b[0m \u001b[43md\u001b[49m\u001b[43m[\u001b[49m\u001b[38;5;124;43m\"\u001b[39;49m\u001b[38;5;124;43m6\u001b[39;49m\u001b[38;5;124;43m\"\u001b[39;49m\u001b[43m]\u001b[49m\n",
      "\u001b[1;31mKeyError\u001b[0m: '6'"
     ]
    }
   ],
   "source": [
    "d[\"6\"] #key not available bcz value is not there"
   ]
  },
  {
   "cell_type": "code",
   "execution_count": 34,
   "id": "679cecf7",
   "metadata": {},
   "outputs": [
    {
     "data": {
      "text/plain": [
       "NoneType"
      ]
     },
     "execution_count": 34,
     "metadata": {},
     "output_type": "execute_result"
    }
   ],
   "source": [
    "type(d.get(6)) #get will handle the error if key is not present"
   ]
  },
  {
   "cell_type": "code",
   "execution_count": 35,
   "id": "ebac391b",
   "metadata": {},
   "outputs": [
    {
     "data": {
      "text/plain": [
       "'one'"
      ]
     },
     "execution_count": 35,
     "metadata": {},
     "output_type": "execute_result"
    }
   ],
   "source": [
    "d.get(1)"
   ]
  },
  {
   "cell_type": "code",
   "execution_count": 38,
   "id": "b7b1a67b",
   "metadata": {},
   "outputs": [],
   "source": [
    "#dic-functions"
   ]
  },
  {
   "cell_type": "code",
   "execution_count": 6,
   "id": "588c6cf2",
   "metadata": {},
   "outputs": [
    {
     "data": {
      "text/plain": [
       "['__class__',\n",
       " '__class_getitem__',\n",
       " '__contains__',\n",
       " '__delattr__',\n",
       " '__delitem__',\n",
       " '__dir__',\n",
       " '__doc__',\n",
       " '__eq__',\n",
       " '__format__',\n",
       " '__ge__',\n",
       " '__getattribute__',\n",
       " '__getitem__',\n",
       " '__gt__',\n",
       " '__hash__',\n",
       " '__init__',\n",
       " '__init_subclass__',\n",
       " '__ior__',\n",
       " '__iter__',\n",
       " '__le__',\n",
       " '__len__',\n",
       " '__lt__',\n",
       " '__ne__',\n",
       " '__new__',\n",
       " '__or__',\n",
       " '__reduce__',\n",
       " '__reduce_ex__',\n",
       " '__repr__',\n",
       " '__reversed__',\n",
       " '__ror__',\n",
       " '__setattr__',\n",
       " '__setitem__',\n",
       " '__sizeof__',\n",
       " '__str__',\n",
       " '__subclasshook__',\n",
       " 'clear',\n",
       " 'copy',\n",
       " 'fromkeys',\n",
       " 'get',\n",
       " 'items',\n",
       " 'keys',\n",
       " 'pop',\n",
       " 'popitem',\n",
       " 'setdefault',\n",
       " 'update',\n",
       " 'values']"
      ]
     },
     "execution_count": 6,
     "metadata": {},
     "output_type": "execute_result"
    }
   ],
   "source": [
    "dir(dict)"
   ]
  },
  {
   "cell_type": "code",
   "execution_count": 40,
   "id": "84464217",
   "metadata": {},
   "outputs": [
    {
     "data": {
      "text/plain": [
       "dict_keys([1, 2, 3, 4])"
      ]
     },
     "execution_count": 40,
     "metadata": {},
     "output_type": "execute_result"
    }
   ],
   "source": [
    "#printing keys of dictionary\n",
    "d={1:\"one\",2:\"two\",3:\"three\",4:{\"four\",\"even\"}}\n",
    "d.keys()"
   ]
  },
  {
   "cell_type": "code",
   "execution_count": 41,
   "id": "3286edb4",
   "metadata": {},
   "outputs": [
    {
     "data": {
      "text/plain": [
       "dict_values(['one', 'two', 'three', {'even', 'four'}])"
      ]
     },
     "execution_count": 41,
     "metadata": {},
     "output_type": "execute_result"
    }
   ],
   "source": [
    "#printing values of dic\n",
    "d={1:\"one\",2:\"two\",3:\"three\",4:{\"four\",\"even\"}}\n",
    "d.values()"
   ]
  },
  {
   "cell_type": "code",
   "execution_count": 43,
   "id": "ffd606d1",
   "metadata": {},
   "outputs": [
    {
     "data": {
      "text/plain": [
       "dict_items([(1, 'one'), (2, 'two'), (3, 'three'), (4, {'even', 'four'})])"
      ]
     },
     "execution_count": 43,
     "metadata": {},
     "output_type": "execute_result"
    }
   ],
   "source": [
    "#item=key-value pair\n",
    "d={1:\"one\",2:\"two\",3:\"three\",4:{\"four\",\"even\"}}\n",
    "d.items()"
   ]
  },
  {
   "cell_type": "code",
   "execution_count": 44,
   "id": "14e2ce07",
   "metadata": {},
   "outputs": [],
   "source": [
    "#adding the elements in the dict\n"
   ]
  },
  {
   "cell_type": "code",
   "execution_count": 45,
   "id": "b6c08236",
   "metadata": {},
   "outputs": [
    {
     "data": {
      "text/plain": [
       "{'name': ['jatin', 'priya', 'jai']}"
      ]
     },
     "execution_count": 45,
     "metadata": {},
     "output_type": "execute_result"
    }
   ],
   "source": [
    "d={}\n",
    "d[\"name\"]=[\"jatin\",\"priya\",\"jai\"]\n",
    "d"
   ]
  },
  {
   "cell_type": "code",
   "execution_count": 46,
   "id": "369bf63b",
   "metadata": {},
   "outputs": [
    {
     "data": {
      "text/plain": [
       "{'name': ['jatin', 'priya', 'jai'],\n",
       " 'gender': ['m', 'f', 'm'],\n",
       " 'grade': ['a', 'b', 'a+']}"
      ]
     },
     "execution_count": 46,
     "metadata": {},
     "output_type": "execute_result"
    }
   ],
   "source": [
    "d={}\n",
    "d[\"name\"]=[\"jatin\",\"priya\",\"jai\"]\n",
    "d[\"gender\"]=[\"m\",\"f\",\"m\"]\n",
    "d[\"grade\"]=[\"a\",\"b\",\"a+\"]\n",
    "d"
   ]
  },
  {
   "cell_type": "code",
   "execution_count": 48,
   "id": "8087985e",
   "metadata": {},
   "outputs": [
    {
     "data": {
      "text/html": [
       "<div>\n",
       "<style scoped>\n",
       "    .dataframe tbody tr th:only-of-type {\n",
       "        vertical-align: middle;\n",
       "    }\n",
       "\n",
       "    .dataframe tbody tr th {\n",
       "        vertical-align: top;\n",
       "    }\n",
       "\n",
       "    .dataframe thead th {\n",
       "        text-align: right;\n",
       "    }\n",
       "</style>\n",
       "<table border=\"1\" class=\"dataframe\">\n",
       "  <thead>\n",
       "    <tr style=\"text-align: right;\">\n",
       "      <th></th>\n",
       "      <th>name</th>\n",
       "      <th>gender</th>\n",
       "      <th>grade</th>\n",
       "    </tr>\n",
       "  </thead>\n",
       "  <tbody>\n",
       "    <tr>\n",
       "      <th>0</th>\n",
       "      <td>jatin</td>\n",
       "      <td>m</td>\n",
       "      <td>a</td>\n",
       "    </tr>\n",
       "    <tr>\n",
       "      <th>1</th>\n",
       "      <td>priya</td>\n",
       "      <td>f</td>\n",
       "      <td>b</td>\n",
       "    </tr>\n",
       "    <tr>\n",
       "      <th>2</th>\n",
       "      <td>jai</td>\n",
       "      <td>m</td>\n",
       "      <td>a+</td>\n",
       "    </tr>\n",
       "  </tbody>\n",
       "</table>\n",
       "</div>"
      ],
      "text/plain": [
       "    name gender grade\n",
       "0  jatin      m     a\n",
       "1  priya      f     b\n",
       "2    jai      m    a+"
      ]
     },
     "execution_count": 48,
     "metadata": {},
     "output_type": "execute_result"
    }
   ],
   "source": [
    "import pandas as pd\n",
    "df=pd.DataFrame(d)\n",
    "df #will study later in pandas"
   ]
  },
  {
   "cell_type": "code",
   "execution_count": 49,
   "id": "54b302e3",
   "metadata": {},
   "outputs": [
    {
     "data": {
      "text/plain": [
       "{'name': ['jatin', 'priya', 'jai'],\n",
       " 'gender': ['m', 'f', 'm'],\n",
       " 'grade': ['a', 'b', 'a+']}"
      ]
     },
     "execution_count": 49,
     "metadata": {},
     "output_type": "execute_result"
    }
   ],
   "source": [
    "d"
   ]
  },
  {
   "cell_type": "code",
   "execution_count": 7,
   "id": "2e8dbe33",
   "metadata": {},
   "outputs": [
    {
     "data": {
      "text/plain": [
       "{1: 'one',\n",
       " 2: 'two',\n",
       " 3: 'three',\n",
       " 4: {'four': 'even', 'multipleof2': '2'},\n",
       " 'list': [1, 2, 3, 4],\n",
       " 'name': 'python batch'}"
      ]
     },
     "execution_count": 7,
     "metadata": {},
     "output_type": "execute_result"
    }
   ],
   "source": [
    "d[\"name\"]=\"python batch\" #name replaced #keys should be immutable and unique\n",
    "d"
   ]
  },
  {
   "cell_type": "markdown",
   "id": "ac91cd7c",
   "metadata": {},
   "source": [
    "# update()"
   ]
  },
  {
   "cell_type": "code",
   "execution_count": 53,
   "id": "790da7f1",
   "metadata": {},
   "outputs": [
    {
     "data": {
      "text/plain": [
       "{'A': 'Python', 'B': 'Core', 'course1': 'python', 'course2': 'datascience'}"
      ]
     },
     "execution_count": 53,
     "metadata": {},
     "output_type": "execute_result"
    }
   ],
   "source": [
    "dict1={'A':'Python','B':'Core'}\n",
    "dict2={'course1':\"python\",\"course2\":\"datascience\"}\n",
    "dict1.update(dict2)\n",
    "dict1"
   ]
  },
  {
   "cell_type": "code",
   "execution_count": 54,
   "id": "c031908f",
   "metadata": {},
   "outputs": [
    {
     "data": {
      "text/plain": [
       "{'A': 'Python', 'B': 'Core'}"
      ]
     },
     "execution_count": 54,
     "metadata": {},
     "output_type": "execute_result"
    }
   ],
   "source": [
    "dict1={'A':'Python','B':'Core'}\n",
    "d=dict1.copy() #shallow copy= if we change in original then no change will be reflected in copy\n",
    "d"
   ]
  },
  {
   "cell_type": "code",
   "execution_count": 55,
   "id": "6b8a38c1",
   "metadata": {},
   "outputs": [
    {
     "data": {
      "text/plain": [
       "{'A': 'Python', 'B': 'Core', 'a': 'capital'}"
      ]
     },
     "execution_count": 55,
     "metadata": {},
     "output_type": "execute_result"
    }
   ],
   "source": [
    "dict1[\"a\"]=\"capital\"\n",
    "dict1"
   ]
  },
  {
   "cell_type": "code",
   "execution_count": 56,
   "id": "43b2fa80",
   "metadata": {},
   "outputs": [
    {
     "data": {
      "text/plain": [
       "{'A': 'Python', 'B': 'Core'}"
      ]
     },
     "execution_count": 56,
     "metadata": {},
     "output_type": "execute_result"
    }
   ],
   "source": [
    "d"
   ]
  },
  {
   "cell_type": "markdown",
   "id": "c1a91a62",
   "metadata": {},
   "source": [
    "# del()"
   ]
  },
  {
   "cell_type": "code",
   "execution_count": 3,
   "id": "5b58271a",
   "metadata": {},
   "outputs": [
    {
     "data": {
      "text/plain": [
       "{6: 't0', 7: 'madrid', 8: {'even', 'four'}}"
      ]
     },
     "execution_count": 3,
     "metadata": {},
     "output_type": "execute_result"
    }
   ],
   "source": [
    "d={5:\"welcome\",6:\"t0\",7:\"madrid\",8:{\"four\",\"even\"}}\n",
    "del d[5] #takes key \n",
    "d\n"
   ]
  },
  {
   "cell_type": "code",
   "execution_count": 6,
   "id": "b66393e6",
   "metadata": {},
   "outputs": [
    {
     "data": {
      "text/plain": [
       "{5: 'welcome', 6: 't0', 7: 'madrid'}"
      ]
     },
     "execution_count": 6,
     "metadata": {},
     "output_type": "execute_result"
    }
   ],
   "source": [
    "d={5:\"welcome\",6:\"t0\",7:\"madrid\",8:{\"four\",\"even\"}}\n",
    "del d[8]\n",
    "d"
   ]
  },
  {
   "cell_type": "code",
   "execution_count": 7,
   "id": "af68e180",
   "metadata": {},
   "outputs": [
    {
     "data": {
      "text/plain": [
       "'welcome'"
      ]
     },
     "execution_count": 7,
     "metadata": {},
     "output_type": "execute_result"
    }
   ],
   "source": [
    "d={5:\"welcome\",6:\"t0\",7:\"madrid\",8:{\"four\",\"even\"}}\n",
    "d.pop(5)\n",
    "\n"
   ]
  },
  {
   "cell_type": "code",
   "execution_count": 8,
   "id": "048b5a1e",
   "metadata": {},
   "outputs": [
    {
     "data": {
      "text/plain": [
       "{6: 't0', 7: 'madrid', 8: {'even', 'four'}}"
      ]
     },
     "execution_count": 8,
     "metadata": {},
     "output_type": "execute_result"
    }
   ],
   "source": [
    "d={5:\"welcome\",6:\"t0\",7:\"madrid\",8:{\"four\",\"even\"}}\n",
    "d.pop(5)\n",
    "d"
   ]
  },
  {
   "cell_type": "code",
   "execution_count": 5,
   "id": "618b6d8c",
   "metadata": {},
   "outputs": [
    {
     "data": {
      "text/plain": [
       "(8, {'even', 'four'})"
      ]
     },
     "execution_count": 5,
     "metadata": {},
     "output_type": "execute_result"
    }
   ],
   "source": [
    "d.popitem() #del a random element"
   ]
  },
  {
   "cell_type": "markdown",
   "id": "b84405e0",
   "metadata": {},
   "source": [
    "# iteration"
   ]
  },
  {
   "cell_type": "markdown",
   "id": "44d4ca64",
   "metadata": {},
   "source": [
    "## wap to reverse the string using for loop and while loop"
   ]
  },
  {
   "cell_type": "code",
   "execution_count": 19,
   "id": "12ad788c",
   "metadata": {},
   "outputs": [
    {
     "name": "stdout",
     "output_type": "stream",
     "text": [
      "enter the string---python\n",
      "nohtyp"
     ]
    }
   ],
   "source": [
    "s=input(\"enter the string---\")\n",
    "i=len(s)-1\n",
    "for j in range(i,-1,-1):\n",
    "    print(s[j],end=\"\")\n",
    "    "
   ]
  },
  {
   "cell_type": "code",
   "execution_count": 21,
   "id": "74628636",
   "metadata": {},
   "outputs": [
    {
     "name": "stdout",
     "output_type": "stream",
     "text": [
      "enter the string--python\n",
      "nohtyp\n"
     ]
    }
   ],
   "source": [
    "s=input(\"enter the string--\")\n",
    "s1=\"\"\n",
    "i=len(s)-1\n",
    "while(i>=0):\n",
    "    s1=s1+s[i]\n",
    "    i=i-1\n",
    "print(s1)"
   ]
  },
  {
   "cell_type": "code",
   "execution_count": 23,
   "id": "d149a7d9",
   "metadata": {},
   "outputs": [
    {
     "name": "stdout",
     "output_type": "stream",
     "text": [
      "1\n",
      "name\n",
      "3\n",
      "4\n"
     ]
    }
   ],
   "source": [
    "Dict={1: 'Python','name': 'Madrid',3: 'core',4:[1,2,3]}\n",
    "for i in Dict: #by default it fetches the key \n",
    "    print(i)"
   ]
  },
  {
   "cell_type": "code",
   "execution_count": 9,
   "id": "db7b05db",
   "metadata": {},
   "outputs": [
    {
     "name": "stdout",
     "output_type": "stream",
     "text": [
      "1\n",
      "name\n",
      "3\n",
      "4\n"
     ]
    }
   ],
   "source": [
    "Dict={1: 'Python','name': 'Madrid',3: 'core',4:[1,2,3]}\n",
    "for i in Dict.keys(): #it fetches the key only\n",
    "    print(i)"
   ]
  },
  {
   "cell_type": "code",
   "execution_count": 27,
   "id": "eff2fe84",
   "metadata": {},
   "outputs": [
    {
     "name": "stdout",
     "output_type": "stream",
     "text": [
      "Python\n",
      "Madrid\n",
      "core\n",
      "[1, 2, 3]\n"
     ]
    }
   ],
   "source": [
    "D={1: 'Python','name': 'Madrid',3: 'core',4:[1,2,3]}\n",
    "for i in D.values(): #for values only\n",
    "    print(i)"
   ]
  },
  {
   "cell_type": "code",
   "execution_count": 28,
   "id": "906350f8",
   "metadata": {},
   "outputs": [
    {
     "name": "stdout",
     "output_type": "stream",
     "text": [
      "(1, 'Python')\n",
      "('name', 'Madrid')\n",
      "(3, 'core')\n",
      "(4, [1, 2, 3])\n"
     ]
    }
   ],
   "source": [
    "D={1: 'Python','name': 'Madrid',3: 'core',4:[1,2,3]}\n",
    "for i in D.items(): #for both key and values use items()\n",
    "    print(i)"
   ]
  },
  {
   "cell_type": "code",
   "execution_count": 10,
   "id": "aca8867f",
   "metadata": {},
   "outputs": [
    {
     "name": "stdout",
     "output_type": "stream",
     "text": [
      "1 --------- Python\n",
      "name --------- Madrid\n",
      "3 --------- core\n",
      "4 --------- [1, 2, 3]\n"
     ]
    }
   ],
   "source": [
    "Dict={1: 'Python','name': 'Madrid',3: 'core',4:[1,2,3]}\n",
    "for i,j in Dict.items():\n",
    "    print(i,\"---------\",j)"
   ]
  },
  {
   "cell_type": "markdown",
   "id": "b9a7d526",
   "metadata": {},
   "source": [
    "# create a dict with keys and values as square"
   ]
  },
  {
   "cell_type": "code",
   "execution_count": 34,
   "id": "7354f69e",
   "metadata": {},
   "outputs": [
    {
     "name": "stdout",
     "output_type": "stream",
     "text": [
      "{1: 1, 2: 4, 3: 9, 4: 16, 5: 25, 6: 36, 7: 49, 8: 64, 9: 81, 10: 100, 11: 121, 12: 144, 13: 169, 14: 196, 15: 225}\n"
     ]
    }
   ],
   "source": [
    "d={}\n",
    "for i in range(1,16):\n",
    "    d[i]=i*i\n",
    "print(d)"
   ]
  },
  {
   "cell_type": "code",
   "execution_count": 47,
   "id": "02396989",
   "metadata": {},
   "outputs": [
    {
     "name": "stdout",
     "output_type": "stream",
     "text": [
      "{1: 3, 2: 'TWO', 3: 5, 4: 'FOUR', 5: 4}\n"
     ]
    }
   ],
   "source": [
    "d={1:'one',2:'two',3:'three',4:'four',5:'five'}\n",
    "for i,j in d.items():\n",
    "    if i%2==0:\n",
    "        d[i]=d[i].upper()\n",
    "    else:\n",
    "        d[i]=len(j)\n",
    "print(d)        "
   ]
  },
  {
   "cell_type": "code",
   "execution_count": 48,
   "id": "2af40096",
   "metadata": {},
   "outputs": [],
   "source": [
    "#create a dict of student and take no of students from user #hw"
   ]
  },
  {
   "cell_type": "code",
   "execution_count": 4,
   "id": "5f757620",
   "metadata": {},
   "outputs": [
    {
     "name": "stdout",
     "output_type": "stream",
     "text": [
      "enter how many students--3\n",
      "enter name of student--yash\n",
      "enter gender of student---male\n",
      "enter the marks--67\n",
      "enter name of student--priyanka\n",
      "enter gender of student---f\n",
      "enter the marks--89\n",
      "enter name of student--rupa\n",
      "enter gender of student---f\n",
      "enter the marks--78\n",
      "{'Name': ['yash', 'priyanka', 'rupa'], 'gender': ['male', 'f', 'f'], 'marks': [67, 89, 78]}\n"
     ]
    }
   ],
   "source": [
    "stu=int(input(\"enter how many students--\"))\n",
    "d={}\n",
    "grade=[]\n",
    "name_s=[]\n",
    "gender_s=[]\n",
    "for i in range(1,stu+1):\n",
    "    \n",
    "    name=input(\"enter name of student--\")\n",
    "    name_s.append(name)\n",
    "    gender=input(\"enter gender of student---\")\n",
    "    gender_s.append(gender)\n",
    "    \n",
    "    marks_st=int(input(\"enter the marks--\"))\n",
    "    grade.append(marks_st)\n",
    "d[\"Name\"]=name_s\n",
    "d[\"gender\"]=gender_s\n",
    "d[\"marks\"]=grade\n",
    "print(d)\n",
    "        \n",
    "        \n"
   ]
  },
  {
   "cell_type": "code",
   "execution_count": 5,
   "id": "9320e35e",
   "metadata": {},
   "outputs": [
    {
     "name": "stdout",
     "output_type": "stream",
     "text": [
      "enter number of students:2\n",
      "enter the name--rupanshi\n",
      "enter the marks---78 78 78\n",
      "enter the gender---f\n",
      "enter class section---a\n",
      "enter the name--kirti\n",
      "enter the marks---78 78 79\n",
      "enter the gender---f\n",
      "enter class section---b\n",
      "{'rupanshi': ([78, 78, 78], 'f', 'class--a'), 'kirti': ([78, 78, 79], 'f', 'class--b')}\n"
     ]
    }
   ],
   "source": [
    "stu=int(input(\"enter number of students:\"))\n",
    "d={}\n",
    "for i in range(stu):\n",
    "    name=input(\"enter the name--\")\n",
    "    m1,m2,m3=input(\"enter the marks---\").split(\" \")\n",
    "    m1=int(m1)\n",
    "    m2=int(m2)\n",
    "    m3=int(m3)\n",
    "    gender=input(\"enter the gender---\")\n",
    "    class_s=input(\"enter class section---\")\n",
    "    d[name]=[m1,m2,m3],gender,\"class--\"+class_s\n",
    "print(d)"
   ]
  },
  {
   "cell_type": "markdown",
   "id": "5bf64d97",
   "metadata": {},
   "source": [
    "# count the frequency of elements of string using count in dict and sort it"
   ]
  },
  {
   "cell_type": "code",
   "execution_count": 49,
   "id": "7df35f90",
   "metadata": {},
   "outputs": [
    {
     "name": "stdout",
     "output_type": "stream",
     "text": [
      "enter the string--Madrid\n",
      "{'M': 1, 'a': 1, 'd': 2, 'r': 1, 'i': 1}\n"
     ]
    }
   ],
   "source": [
    "d={}\n",
    "s=input(\"enter the string--\")\n",
    "for i in s:\n",
    "    d[i]=s.count(i)\n",
    "print(d)"
   ]
  },
  {
   "cell_type": "markdown",
   "id": "e7debd39",
   "metadata": {},
   "source": [
    "# sorted"
   ]
  },
  {
   "cell_type": "code",
   "execution_count": 50,
   "id": "69a0d085",
   "metadata": {},
   "outputs": [
    {
     "name": "stdout",
     "output_type": "stream",
     "text": [
      "[0, 1, 2, 3, 4, 5, 6, 7, 8]\n"
     ]
    }
   ],
   "source": [
    "#wap to sort the dictionary of keys\n",
    "d={0:'a',1:'quick',2:'brown',3:'fox',4:'jumps',5:'over',6:'a',7:'lazy',8:'dog'}\n",
    "print(sorted(d.keys()))"
   ]
  },
  {
   "cell_type": "code",
   "execution_count": 51,
   "id": "608e0a10",
   "metadata": {},
   "outputs": [
    {
     "name": "stdout",
     "output_type": "stream",
     "text": [
      "[8, 7, 6, 5, 4, 3, 2, 1, 0]\n"
     ]
    }
   ],
   "source": [
    "d={0:'a',1:'quick',2:'brown',3:'fox',4:'jumps',5:'over',6:'a',7:'lazy',8:'dog'}\n",
    "print(sorted(d.keys(),reverse=True))"
   ]
  },
  {
   "cell_type": "code",
   "execution_count": 52,
   "id": "841254f6",
   "metadata": {},
   "outputs": [
    {
     "name": "stdout",
     "output_type": "stream",
     "text": [
      "['a', 'a', 'brown', 'dog', 'fox', 'jumps', 'lazy', 'over', 'quick']\n"
     ]
    }
   ],
   "source": [
    "d={0:'a',1:'quick',2:'brown',3:'fox',4:'jumps',5:'over',6:'a',7:'lazy',8:'dog'}\n",
    "print(sorted(d.values())) #according to ascii values"
   ]
  },
  {
   "cell_type": "code",
   "execution_count": 11,
   "id": "c850fb23",
   "metadata": {},
   "outputs": [
    {
     "name": "stdout",
     "output_type": "stream",
     "text": [
      "['quick', 'over', 'lazy', 'jumps', 'fox', 'dog', 'brown', 'a', 'a']\n"
     ]
    }
   ],
   "source": [
    "d={0:'a',1:'quick',2:'brown',3:'fox',4:'jumps',5:'over',6:'a',7:'lazy',8:'dog'}\n",
    "print(sorted(d.values(),reverse=True))"
   ]
  },
  {
   "cell_type": "code",
   "execution_count": 53,
   "id": "f399ef64",
   "metadata": {},
   "outputs": [
    {
     "name": "stdout",
     "output_type": "stream",
     "text": [
      "[(0, 'a'), (1, 'quick'), (2, 'brown'), (3, 'fox'), (4, 'jumps'), (5, 'over'), (6, 'a'), (7, 'lazy'), (8, 'dog')]\n"
     ]
    }
   ],
   "source": [
    "d={0:'a',1:'quick',2:'brown',3:'fox',4:'jumps',5:'over',6:'a',7:'lazy',8:'dog'}\n",
    "print(sorted(d.items()))"
   ]
  },
  {
   "cell_type": "code",
   "execution_count": 54,
   "id": "23e6766c",
   "metadata": {},
   "outputs": [
    {
     "name": "stdout",
     "output_type": "stream",
     "text": [
      "[(8, 'dog'), (7, 'lazy'), (6, 'a'), (5, 'over'), (4, 'jumps'), (3, 'fox'), (2, 'brown'), (1, 'quick'), (0, 'a')]\n"
     ]
    }
   ],
   "source": [
    "d={0:'a',1:'quick',2:'brown',3:'fox',4:'jumps',5:'over',6:'a',7:'lazy',8:'dog'}\n",
    "print(sorted(d.items(),reverse=True))"
   ]
  },
  {
   "cell_type": "code",
   "execution_count": 55,
   "id": "2aaa8206",
   "metadata": {},
   "outputs": [],
   "source": [
    "# wap to sort the dictionary on the basis of its value #will do later after set in lambda"
   ]
  },
  {
   "cell_type": "markdown",
   "id": "d0a58566",
   "metadata": {},
   "source": [
    "# fromkeys()-if we have to pass common value to keys"
   ]
  },
  {
   "cell_type": "code",
   "execution_count": 57,
   "id": "8d4db85a",
   "metadata": {},
   "outputs": [
    {
     "name": "stdout",
     "output_type": "stream",
     "text": [
      "{'key1': 0, 'key2': 0, 'key3': 0}\n"
     ]
    }
   ],
   "source": [
    "x=('key1','key2','key3')\n",
    "y=0\n",
    "thisdict=dict.fromkeys(x,y) # x can be iterable,y is value\n",
    "print(thisdict)"
   ]
  },
  {
   "cell_type": "code",
   "execution_count": 59,
   "id": "64928874",
   "metadata": {},
   "outputs": [
    {
     "name": "stdout",
     "output_type": "stream",
     "text": [
      "{'a': [1, 2, 3, 4, 5], 'o': [1, 2, 3, 4, 5], 'i': [1, 2, 3, 4, 5], 'e': [1, 2, 3, 4, 5], 'u': [1, 2, 3, 4, 5]}\n"
     ]
    }
   ],
   "source": [
    "li=['a','o','i','e','u']\n",
    "l1=[1,2,3,4,5]\n",
    "new_dict=dict.fromkeys(li,l1)\n",
    "print(new_dict)"
   ]
  },
  {
   "cell_type": "code",
   "execution_count": 60,
   "id": "02538b30",
   "metadata": {},
   "outputs": [
    {
     "name": "stdout",
     "output_type": "stream",
     "text": [
      "{'a': 'vowels', 'o': 'vowels', 'i': 'vowels', 'e': 'vowels', 'u': 'vowels'}\n"
     ]
    }
   ],
   "source": [
    "li=['a','o','i','e','u']\n",
    "l1=\"vowels\"\n",
    "new_dict=dict.fromkeys(li,l1)\n",
    "print(new_dict)"
   ]
  },
  {
   "cell_type": "markdown",
   "id": "4e1b8e20",
   "metadata": {},
   "source": [
    " # zip-parellely zip the items"
   ]
  },
  {
   "cell_type": "code",
   "execution_count": 61,
   "id": "dc02704d",
   "metadata": {},
   "outputs": [
    {
     "name": "stdout",
     "output_type": "stream",
     "text": [
      "[(1, 'a'), (2, 'b'), (3, 'c')]\n"
     ]
    }
   ],
   "source": [
    "a1=(1,2,3)\n",
    "s=(\"abc\")\n",
    "t=list(zip(a1,s))\n",
    "print(t)"
   ]
  },
  {
   "cell_type": "code",
   "execution_count": 68,
   "id": "ddf0cde5",
   "metadata": {},
   "outputs": [
    {
     "data": {
      "text/plain": [
       "[(1, 2, 3), ('a', 'b', 'c')]"
      ]
     },
     "execution_count": 68,
     "metadata": {},
     "output_type": "execute_result"
    }
   ],
   "source": [
    "a1=[1,2,3]\n",
    "b1=[\"a\",\"b\",\"c\"]\n",
    "t=list(zip(a1,s))\n",
    "list(zip(*t))\n"
   ]
  },
  {
   "cell_type": "code",
   "execution_count": 12,
   "id": "d393a399",
   "metadata": {},
   "outputs": [
    {
     "data": {
      "text/plain": [
       "{1: 'a', 2: 'b', 3: 'c'}"
      ]
     },
     "execution_count": 12,
     "metadata": {},
     "output_type": "execute_result"
    }
   ],
   "source": [
    "a1=[1,2,3,4]\n",
    "b1=[\"a\",\"b\",\"c\"]\n",
    "dict(zip(a1,b1))"
   ]
  },
  {
   "cell_type": "markdown",
   "id": "83f81747",
   "metadata": {},
   "source": [
    "# wap to remove spaces from key"
   ]
  },
  {
   "cell_type": "markdown",
   "id": "aa72644e",
   "metadata": {},
   "source": [
    "# wap to remove duplicates from dictionary"
   ]
  },
  {
   "cell_type": "markdown",
   "id": "dce3d009",
   "metadata": {},
   "source": [
    "# wap to check whether the particular key is present in dict or not"
   ]
  },
  {
   "cell_type": "code",
   "execution_count": 23,
   "id": "6277a332",
   "metadata": {},
   "outputs": [
    {
     "name": "stdout",
     "output_type": "stream",
     "text": [
      "{'11': 'eleven', '22': 'twentytwo', '33': 'thirtythree', '44': 'fourtyfour', '55': 'fiftyfive'}\n"
     ]
    }
   ],
   "source": [
    "#q-1\n",
    "d={'1 1':'eleven','2 2':'twentytwo','3 3':'thirtythree','4 4':'fourtyfour','5 5':'fiftyfive'}\n",
    "dic={}\n",
    "for i in d:\n",
    "    s=i.replace(\" \",\"\")\n",
    "    dic[s]=d[i]\n",
    "print(dic)"
   ]
  },
  {
   "cell_type": "code",
   "execution_count": 10,
   "id": "3ee0fed3",
   "metadata": {},
   "outputs": [
    {
     "ename": "AttributeError",
     "evalue": "'dict' object has no attribute 'append'",
     "output_type": "error",
     "traceback": [
      "\u001b[1;31m---------------------------------------------------------------------------\u001b[0m",
      "\u001b[1;31mAttributeError\u001b[0m                            Traceback (most recent call last)",
      "Input \u001b[1;32mIn [10]\u001b[0m, in \u001b[0;36m<cell line: 8>\u001b[1;34m()\u001b[0m\n\u001b[0;32m      7\u001b[0m         unique\u001b[38;5;241m.\u001b[39mappend(d[i])\n\u001b[0;32m      8\u001b[0m \u001b[38;5;28;01mfor\u001b[39;00m i \u001b[38;5;129;01min\u001b[39;00m unique:\n\u001b[1;32m----> 9\u001b[0m     \u001b[43md1\u001b[49m\u001b[38;5;241;43m.\u001b[39;49m\u001b[43mappend\u001b[49m(unique)\n\u001b[0;32m     10\u001b[0m \u001b[38;5;28mprint\u001b[39m(unique)\n\u001b[0;32m     11\u001b[0m \u001b[38;5;28mprint\u001b[39m(d1)\n",
      "\u001b[1;31mAttributeError\u001b[0m: 'dict' object has no attribute 'append'"
     ]
    }
   ],
   "source": [
    "#q-2\n",
    "d={1:'one',2:'two',3:'three',4:'four',5:'five',6:'two'}\n",
    "d1={}\n",
    "unique=[]\n",
    "for i in d:\n",
    "    if d[i] not in unique:\n",
    "        unique.append(d[i])\n",
    "for i in unique:\n",
    "    d1[i]=unique[i]\n",
    "print(unique)\n",
    "print(d1)"
   ]
  },
  {
   "cell_type": "code",
   "execution_count": 2,
   "id": "55c8759d",
   "metadata": {},
   "outputs": [
    {
     "name": "stdout",
     "output_type": "stream",
     "text": [
      "enter the key to check---list\n",
      "list ---key is present\n",
      "[1, 2, 3, 4] ---value is\n"
     ]
    }
   ],
   "source": [
    "#q-3\n",
    "d={'1':'one','2':'two','3':'three','4':'four','5':'five','list':[1,2,3,4]}\n",
    "key=input(\"enter the key to check---\")\n",
    "if key in d.keys():\n",
    "    print(key,\"---key is present\")\n",
    "    print(d[key],\"---value is\")\n",
    "else:\n",
    "    print(key,\"---key is not present--\")\n",
    "    \n",
    "    "
   ]
  },
  {
   "cell_type": "markdown",
   "id": "7faa2959",
   "metadata": {},
   "source": [
    "# 27/09/22"
   ]
  },
  {
   "cell_type": "markdown",
   "id": "5874193e",
   "metadata": {},
   "source": [
    "# dic comprehension()"
   ]
  },
  {
   "cell_type": "code",
   "execution_count": 3,
   "id": "394dc1a0",
   "metadata": {},
   "outputs": [
    {
     "name": "stdout",
     "output_type": "stream",
     "text": [
      "enter number---8\n",
      "{0: 0, 1: 1, 2: 4, 3: 9, 4: 16, 5: 25, 6: 36, 7: 49, 8: 64}\n"
     ]
    }
   ],
   "source": [
    "d={}\n",
    "r=int(input(\"enter number---\"))\n",
    "for i in range(r+1):\n",
    "    d[i]=i*i\n",
    "print(d)\n"
   ]
  },
  {
   "cell_type": "code",
   "execution_count": 4,
   "id": "7823f87b",
   "metadata": {},
   "outputs": [
    {
     "data": {
      "text/plain": [
       "{1: 1, 2: 4, 3: 9, 4: 16, 5: 25, 6: 36, 7: 49, 8: 64, 9: 81}"
      ]
     },
     "execution_count": 4,
     "metadata": {},
     "output_type": "execute_result"
    }
   ],
   "source": [
    "{i : i*i for i in range(1,10)} #dic comprehension"
   ]
  },
  {
   "cell_type": "code",
   "execution_count": 5,
   "id": "36b52e11",
   "metadata": {},
   "outputs": [
    {
     "data": {
      "text/plain": [
       "[1, 4, 9, 16, 25, 36, 49, 64, 81]"
      ]
     },
     "execution_count": 5,
     "metadata": {},
     "output_type": "execute_result"
    }
   ],
   "source": [
    "[i*i for i in range(1,10)] #list comprehension"
   ]
  },
  {
   "cell_type": "code",
   "execution_count": 11,
   "id": "759db6a4",
   "metadata": {},
   "outputs": [
    {
     "data": {
      "text/plain": [
       "{1: 'odd',\n",
       " 2: 'even',\n",
       " 3: 'odd',\n",
       " 4: 'even',\n",
       " 5: 'odd',\n",
       " 6: 'even',\n",
       " 7: 'odd',\n",
       " 8: 'even',\n",
       " 9: 'odd',\n",
       " 10: 'even'}"
      ]
     },
     "execution_count": 11,
     "metadata": {},
     "output_type": "execute_result"
    }
   ],
   "source": [
    "#wap to create a dict\n",
    "{i:\"even\" if i%2==0 else \"odd\" for i in range(1,11)}"
   ]
  },
  {
   "cell_type": "code",
   "execution_count": 12,
   "id": "bbd1a6a3",
   "metadata": {},
   "outputs": [
    {
     "data": {
      "text/plain": [
       "{2: 'even', 4: 'even', 6: 'even', 8: 'even', 10: 'even'}"
      ]
     },
     "execution_count": 12,
     "metadata": {},
     "output_type": "execute_result"
    }
   ],
   "source": [
    "{i:\"even\" for i in range(1,11) if i%2==0 } #only if condition give it after for loop"
   ]
  },
  {
   "cell_type": "code",
   "execution_count": 12,
   "id": "716bdaf7",
   "metadata": {},
   "outputs": [
    {
     "data": {
      "text/plain": [
       "{'aman': 'young',\n",
       " 'Ramesh': 'old',\n",
       " 'golu': 'old',\n",
       " 'raju': 'old',\n",
       " 'molu': 'young'}"
      ]
     },
     "execution_count": 12,
     "metadata": {},
     "output_type": "execute_result"
    }
   ],
   "source": [
    "d={\"aman\":29,\"Ramesh\":44,\"golu\":56,\"raju\":45,\"molu\":28}\n",
    "{i:\"young\" if d[i]<40 else \"old\" for i in d}"
   ]
  },
  {
   "cell_type": "markdown",
   "id": "a34e6584",
   "metadata": {},
   "source": [
    "# 02/10/22-HOMEWORK"
   ]
  },
  {
   "cell_type": "code",
   "execution_count": 3,
   "id": "7b773504",
   "metadata": {},
   "outputs": [
    {
     "data": {
      "text/plain": [
       "{1: 10, 2: 20, 3: 30, 4: 40, 5: 50, 6: 60}"
      ]
     },
     "execution_count": 3,
     "metadata": {},
     "output_type": "execute_result"
    }
   ],
   "source": [
    "dic1={1:10,2:20}\n",
    "dic2={3:30,4:40}\n",
    "dic3={5:50,6:60}\n",
    "dic1.update(dic2)\n",
    "dic1.update(dic3)\n",
    "dic1"
   ]
  },
  {
   "cell_type": "code",
   "execution_count": null,
   "id": "9f7f4faf",
   "metadata": {},
   "outputs": [],
   "source": [
    "'''Write a Python program to remove a specified dictionary from a given list. \n",
    "Original list of dictionary:\n",
    "[{'id': '#FF0000', 'color': 'Red'}, {'id': '#800000', 'color': 'Maroon'}, \\\n",
    "{'id': '#FFFF00', 'color': 'Yellow'}, {'id': '#808000', 'color': 'Olive'}]\n",
    "Remove id #FF0000 from the said list of dictionary:\n",
    "[{'id': '#800000', 'color': 'Maroon'}, {'id': '#FFFF00', 'color': 'Yellow'}, \\\n",
    "{'id': '#808000', 'color': 'Olive'}]\n",
    "'''"
   ]
  },
  {
   "cell_type": "code",
   "execution_count": 8,
   "id": "ceb82b71",
   "metadata": {},
   "outputs": [
    {
     "name": "stdout",
     "output_type": "stream",
     "text": [
      "[{'id': '#800000', 'color': 'Maroon'}, {'id': '#FFFF00', 'color': 'Yellow'}, {'id': '#808000', 'color': 'Olive'}]\n"
     ]
    }
   ],
   "source": [
    "li=[{'id':'#FF0000','color':'Red'},{'id':'#800000','color':'Maroon'},{'id':'#FFFF00','color':'Yellow'},{'id':'#808000','color':'Olive'}]\n",
    "for i in li:\n",
    "    if i[\"id\"]==\"#FF0000\":\n",
    "        i2=li.index(i)\n",
    "        li.pop(i2)\n",
    "print(li)"
   ]
  },
  {
   "cell_type": "code",
   "execution_count": null,
   "id": "1e623207",
   "metadata": {},
   "outputs": [],
   "source": [
    "'''A Python Dictionary contains List as value. Write a Python program to update the list values in the said dictionary. \n",
    "{'Math': [88, 89, 90], 'Physics': [92, 94, 87], 'Chemistry': [90, 87, 93]}\n",
    "Update the list values of the said dictionary:\n",
    "given :  {'Math': [89, 90, 91], 'Physics': [90, 92, 87], 'Chemistry': [90, 87, 93]}\n",
    "'''"
   ]
  },
  {
   "cell_type": "code",
   "execution_count": 10,
   "id": "24b39e6b",
   "metadata": {},
   "outputs": [
    {
     "name": "stdout",
     "output_type": "stream",
     "text": [
      "{'Math': [88, 89, 90], 'Physics': [92, 94, 87], 'Chemistry': [90, 87, 93]}\n"
     ]
    }
   ],
   "source": [
    "d={'Math': [89, 90, 91], 'Physics': [90, 92, 87], 'Chemistry': [90, 87, 93]}\n",
    "for i in d:\n",
    "    if i=='Math':\n",
    "        d[i][0]=88\n",
    "        d[i][1]=89\n",
    "        d[i][2]=90\n",
    "    elif i=='Physics':\n",
    "        d[i][0]=92\n",
    "        d[i][1]=94\n",
    "print(d)\n",
    "    \n",
    "        \n",
    "        "
   ]
  },
  {
   "cell_type": "code",
   "execution_count": null,
   "id": "adafe136",
   "metadata": {},
   "outputs": [],
   "source": [
    "'''Wap to convert dictionary of list to list of dictionaries \n",
    "d = {1:[1,2],2:[3,4],3:[5,6]}\n",
    "output\n",
    "l = [{1:[1,2]},{2:[3,4]},{3:[5,6]}]\n",
    "'''"
   ]
  },
  {
   "cell_type": "code",
   "execution_count": 15,
   "id": "90b2c379",
   "metadata": {},
   "outputs": [
    {
     "name": "stdout",
     "output_type": "stream",
     "text": [
      "[{1: [1, 2]}, {2: [3, 4]}, {3: [5, 6]}]\n"
     ]
    }
   ],
   "source": [
    "d={1:[1,2],2:[3,4],3:[5,6]}\n",
    "l=[]\n",
    "d1={}\n",
    "d2={}\n",
    "d3={}\n",
    "for i in d:\n",
    "    if i==1:\n",
    "        d1[1]=d[i]\n",
    "        l.append(d1)\n",
    "    elif i==2:\n",
    "        d2[2]=d[i]\n",
    "        l.append(d2)\n",
    "    elif i==3:\n",
    "        d3[3]=d[i]\n",
    "        l.append(d3)\n",
    "print(l)"
   ]
  },
  {
   "cell_type": "code",
   "execution_count": 1,
   "id": "ff5070f1",
   "metadata": {},
   "outputs": [
    {
     "name": "stdout",
     "output_type": "stream",
     "text": [
      "{'s1': [], 's2': [], 's3': []}\n"
     ]
    }
   ],
   "source": [
    "d={'s1':[10,20,30], 's2':[20,30,40],'s3':[12,34]}\n",
    "for i in d.values():\n",
    "    i.clear()\n",
    "print(d)"
   ]
  },
  {
   "cell_type": "code",
   "execution_count": 3,
   "id": "0c70bbce",
   "metadata": {},
   "outputs": [
    {
     "name": "stdout",
     "output_type": "stream",
     "text": [
      "A\n",
      "1111\n",
      "B\n",
      "2222\n",
      "C\n",
      "3333\n",
      "{'A': '1111', 'B': '2222', 'C': '3333'}\n"
     ]
    }
   ],
   "source": [
    "d={'a':'1','b':'2','c':'3'}\n",
    "d1={}\n",
    "for i,j in d.items():\n",
    "    i=i.upper()\n",
    "    print(i)\n",
    "    j=j+j+j+j\n",
    "    print(j)\n",
    "    d1[i]=j\n",
    "print(d1)\n",
    "    "
   ]
  },
  {
   "cell_type": "code",
   "execution_count": null,
   "id": "36f97ae8",
   "metadata": {},
   "outputs": [],
   "source": []
  }
 ],
 "metadata": {
  "kernelspec": {
   "display_name": "Python 3 (ipykernel)",
   "language": "python",
   "name": "python3"
  },
  "language_info": {
   "codemirror_mode": {
    "name": "ipython",
    "version": 3
   },
   "file_extension": ".py",
   "mimetype": "text/x-python",
   "name": "python",
   "nbconvert_exporter": "python",
   "pygments_lexer": "ipython3",
   "version": "3.9.12"
  }
 },
 "nbformat": 4,
 "nbformat_minor": 5
}
