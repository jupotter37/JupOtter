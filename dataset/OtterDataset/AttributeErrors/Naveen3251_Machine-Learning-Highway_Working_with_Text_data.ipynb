{
 "cells": [
  {
   "cell_type": "code",
   "execution_count": 1,
   "id": "afd9ad86",
   "metadata": {},
   "outputs": [],
   "source": [
    "import pandas as pd"
   ]
  },
  {
   "cell_type": "code",
   "execution_count": 75,
   "id": "5a8b54fc",
   "metadata": {},
   "outputs": [
    {
     "name": "stdout",
     "output_type": "stream",
     "text": [
      "Original DataFrame:\n"
     ]
    },
    {
     "data": {
      "text/html": [
       "<div>\n",
       "<style scoped>\n",
       "    .dataframe tbody tr th:only-of-type {\n",
       "        vertical-align: middle;\n",
       "    }\n",
       "\n",
       "    .dataframe tbody tr th {\n",
       "        vertical-align: top;\n",
       "    }\n",
       "\n",
       "    .dataframe thead th {\n",
       "        text-align: right;\n",
       "    }\n",
       "</style>\n",
       "<table border=\"1\" class=\"dataframe\">\n",
       "  <thead>\n",
       "    <tr style=\"text-align: right;\">\n",
       "      <th></th>\n",
       "      <th>Name</th>\n",
       "      <th>Occupation</th>\n",
       "      <th>Code</th>\n",
       "      <th>Comment</th>\n",
       "    </tr>\n",
       "  </thead>\n",
       "  <tbody>\n",
       "    <tr>\n",
       "      <th>0</th>\n",
       "      <td>Alice</td>\n",
       "      <td>Engineer</td>\n",
       "      <td>A123</td>\n",
       "      <td>Nice Person</td>\n",
       "    </tr>\n",
       "    <tr>\n",
       "      <th>1</th>\n",
       "      <td>Bob</td>\n",
       "      <td>Doctor</td>\n",
       "      <td>B456</td>\n",
       "      <td>Excellent Worker</td>\n",
       "    </tr>\n",
       "    <tr>\n",
       "      <th>2</th>\n",
       "      <td>Charlie</td>\n",
       "      <td>Artist</td>\n",
       "      <td>C789</td>\n",
       "      <td>Very Creative</td>\n",
       "    </tr>\n",
       "  </tbody>\n",
       "</table>\n",
       "</div>"
      ],
      "text/plain": [
       "      Name Occupation  Code           Comment\n",
       "0    Alice   Engineer  A123      Nice Person \n",
       "1      Bob     Doctor  B456  Excellent Worker\n",
       "2  Charlie     Artist  C789     Very Creative"
      ]
     },
     "execution_count": 75,
     "metadata": {},
     "output_type": "execute_result"
    }
   ],
   "source": [
    "# Sample DataFrame\n",
    "data = {\n",
    "    'Name': ['Alice', 'Bob', 'Charlie'],\n",
    "    'Occupation': ['Engineer', 'Doctor', 'Artist'],\n",
    "    'Code': ['A123', 'B456', 'C789'],\n",
    "    'Comment': [' Nice Person ', 'Excellent Worker', 'Very Creative']\n",
    "}\n",
    "df = pd.DataFrame(data)\n",
    "\n",
    "# Display the DataFrame\n",
    "print(\"Original DataFrame:\")\n",
    "df"
   ]
  },
  {
   "cell_type": "markdown",
   "id": "cbf9d23f",
   "metadata": {},
   "source": [
    "### 1] Upper"
   ]
  },
  {
   "cell_type": "code",
   "execution_count": 78,
   "id": "94253a61",
   "metadata": {},
   "outputs": [],
   "source": [
    "df['Occupation_upper']=df['Occupation'].str.upper()"
   ]
  },
  {
   "cell_type": "code",
   "execution_count": 79,
   "id": "7d599395",
   "metadata": {},
   "outputs": [
    {
     "data": {
      "text/html": [
       "<div>\n",
       "<style scoped>\n",
       "    .dataframe tbody tr th:only-of-type {\n",
       "        vertical-align: middle;\n",
       "    }\n",
       "\n",
       "    .dataframe tbody tr th {\n",
       "        vertical-align: top;\n",
       "    }\n",
       "\n",
       "    .dataframe thead th {\n",
       "        text-align: right;\n",
       "    }\n",
       "</style>\n",
       "<table border=\"1\" class=\"dataframe\">\n",
       "  <thead>\n",
       "    <tr style=\"text-align: right;\">\n",
       "      <th></th>\n",
       "      <th>Name</th>\n",
       "      <th>Occupation</th>\n",
       "      <th>Code</th>\n",
       "      <th>Comment</th>\n",
       "      <th>Occupation_upper</th>\n",
       "    </tr>\n",
       "  </thead>\n",
       "  <tbody>\n",
       "    <tr>\n",
       "      <th>0</th>\n",
       "      <td>Alice</td>\n",
       "      <td>Engineer</td>\n",
       "      <td>A123</td>\n",
       "      <td>Nice Person</td>\n",
       "      <td>ENGINEER</td>\n",
       "    </tr>\n",
       "    <tr>\n",
       "      <th>1</th>\n",
       "      <td>Bob</td>\n",
       "      <td>Doctor</td>\n",
       "      <td>B456</td>\n",
       "      <td>Excellent Worker</td>\n",
       "      <td>DOCTOR</td>\n",
       "    </tr>\n",
       "    <tr>\n",
       "      <th>2</th>\n",
       "      <td>Charlie</td>\n",
       "      <td>Artist</td>\n",
       "      <td>C789</td>\n",
       "      <td>Very Creative</td>\n",
       "      <td>ARTIST</td>\n",
       "    </tr>\n",
       "  </tbody>\n",
       "</table>\n",
       "</div>"
      ],
      "text/plain": [
       "      Name Occupation  Code           Comment Occupation_upper\n",
       "0    Alice   Engineer  A123      Nice Person          ENGINEER\n",
       "1      Bob     Doctor  B456  Excellent Worker           DOCTOR\n",
       "2  Charlie     Artist  C789     Very Creative           ARTIST"
      ]
     },
     "execution_count": 79,
     "metadata": {},
     "output_type": "execute_result"
    }
   ],
   "source": [
    "df"
   ]
  },
  {
   "cell_type": "markdown",
   "id": "cbad66ee",
   "metadata": {},
   "source": [
    "### 2] Lower"
   ]
  },
  {
   "cell_type": "code",
   "execution_count": 80,
   "id": "e0b62c5f",
   "metadata": {},
   "outputs": [],
   "source": [
    "df['Occupation_lower']=df['Occupation'].str.lower()"
   ]
  },
  {
   "cell_type": "code",
   "execution_count": 81,
   "id": "d37acb35",
   "metadata": {},
   "outputs": [
    {
     "data": {
      "text/html": [
       "<div>\n",
       "<style scoped>\n",
       "    .dataframe tbody tr th:only-of-type {\n",
       "        vertical-align: middle;\n",
       "    }\n",
       "\n",
       "    .dataframe tbody tr th {\n",
       "        vertical-align: top;\n",
       "    }\n",
       "\n",
       "    .dataframe thead th {\n",
       "        text-align: right;\n",
       "    }\n",
       "</style>\n",
       "<table border=\"1\" class=\"dataframe\">\n",
       "  <thead>\n",
       "    <tr style=\"text-align: right;\">\n",
       "      <th></th>\n",
       "      <th>Name</th>\n",
       "      <th>Occupation</th>\n",
       "      <th>Code</th>\n",
       "      <th>Comment</th>\n",
       "      <th>Occupation_upper</th>\n",
       "      <th>Occupation_lower</th>\n",
       "    </tr>\n",
       "  </thead>\n",
       "  <tbody>\n",
       "    <tr>\n",
       "      <th>0</th>\n",
       "      <td>Alice</td>\n",
       "      <td>Engineer</td>\n",
       "      <td>A123</td>\n",
       "      <td>Nice Person</td>\n",
       "      <td>ENGINEER</td>\n",
       "      <td>engineer</td>\n",
       "    </tr>\n",
       "    <tr>\n",
       "      <th>1</th>\n",
       "      <td>Bob</td>\n",
       "      <td>Doctor</td>\n",
       "      <td>B456</td>\n",
       "      <td>Excellent Worker</td>\n",
       "      <td>DOCTOR</td>\n",
       "      <td>doctor</td>\n",
       "    </tr>\n",
       "    <tr>\n",
       "      <th>2</th>\n",
       "      <td>Charlie</td>\n",
       "      <td>Artist</td>\n",
       "      <td>C789</td>\n",
       "      <td>Very Creative</td>\n",
       "      <td>ARTIST</td>\n",
       "      <td>artist</td>\n",
       "    </tr>\n",
       "  </tbody>\n",
       "</table>\n",
       "</div>"
      ],
      "text/plain": [
       "      Name Occupation  Code           Comment Occupation_upper  \\\n",
       "0    Alice   Engineer  A123      Nice Person          ENGINEER   \n",
       "1      Bob     Doctor  B456  Excellent Worker           DOCTOR   \n",
       "2  Charlie     Artist  C789     Very Creative           ARTIST   \n",
       "\n",
       "  Occupation_lower  \n",
       "0         engineer  \n",
       "1           doctor  \n",
       "2           artist  "
      ]
     },
     "execution_count": 81,
     "metadata": {},
     "output_type": "execute_result"
    }
   ],
   "source": [
    "df"
   ]
  },
  {
   "cell_type": "markdown",
   "id": "a0aff788",
   "metadata": {},
   "source": [
    "### 3] find"
   ]
  },
  {
   "cell_type": "markdown",
   "id": "7d25a7ba",
   "metadata": {},
   "source": [
    "To find position of substring"
   ]
  },
  {
   "cell_type": "code",
   "execution_count": 82,
   "id": "9f0a705c",
   "metadata": {},
   "outputs": [],
   "source": [
    "df['l-position']=df['Name'].str.find('l')"
   ]
  },
  {
   "cell_type": "code",
   "execution_count": 83,
   "id": "84f34295",
   "metadata": {},
   "outputs": [
    {
     "data": {
      "text/html": [
       "<div>\n",
       "<style scoped>\n",
       "    .dataframe tbody tr th:only-of-type {\n",
       "        vertical-align: middle;\n",
       "    }\n",
       "\n",
       "    .dataframe tbody tr th {\n",
       "        vertical-align: top;\n",
       "    }\n",
       "\n",
       "    .dataframe thead th {\n",
       "        text-align: right;\n",
       "    }\n",
       "</style>\n",
       "<table border=\"1\" class=\"dataframe\">\n",
       "  <thead>\n",
       "    <tr style=\"text-align: right;\">\n",
       "      <th></th>\n",
       "      <th>Name</th>\n",
       "      <th>Occupation</th>\n",
       "      <th>Code</th>\n",
       "      <th>Comment</th>\n",
       "      <th>Occupation_upper</th>\n",
       "      <th>Occupation_lower</th>\n",
       "      <th>l-position</th>\n",
       "    </tr>\n",
       "  </thead>\n",
       "  <tbody>\n",
       "    <tr>\n",
       "      <th>0</th>\n",
       "      <td>Alice</td>\n",
       "      <td>Engineer</td>\n",
       "      <td>A123</td>\n",
       "      <td>Nice Person</td>\n",
       "      <td>ENGINEER</td>\n",
       "      <td>engineer</td>\n",
       "      <td>1</td>\n",
       "    </tr>\n",
       "    <tr>\n",
       "      <th>1</th>\n",
       "      <td>Bob</td>\n",
       "      <td>Doctor</td>\n",
       "      <td>B456</td>\n",
       "      <td>Excellent Worker</td>\n",
       "      <td>DOCTOR</td>\n",
       "      <td>doctor</td>\n",
       "      <td>-1</td>\n",
       "    </tr>\n",
       "    <tr>\n",
       "      <th>2</th>\n",
       "      <td>Charlie</td>\n",
       "      <td>Artist</td>\n",
       "      <td>C789</td>\n",
       "      <td>Very Creative</td>\n",
       "      <td>ARTIST</td>\n",
       "      <td>artist</td>\n",
       "      <td>4</td>\n",
       "    </tr>\n",
       "  </tbody>\n",
       "</table>\n",
       "</div>"
      ],
      "text/plain": [
       "      Name Occupation  Code           Comment Occupation_upper  \\\n",
       "0    Alice   Engineer  A123      Nice Person          ENGINEER   \n",
       "1      Bob     Doctor  B456  Excellent Worker           DOCTOR   \n",
       "2  Charlie     Artist  C789     Very Creative           ARTIST   \n",
       "\n",
       "  Occupation_lower  l-position  \n",
       "0         engineer           1  \n",
       "1           doctor          -1  \n",
       "2           artist           4  "
      ]
     },
     "execution_count": 83,
     "metadata": {},
     "output_type": "execute_result"
    }
   ],
   "source": [
    "df"
   ]
  },
  {
   "cell_type": "markdown",
   "id": "47637136",
   "metadata": {},
   "source": [
    "### 4] rfind"
   ]
  },
  {
   "cell_type": "code",
   "execution_count": 84,
   "id": "800645ad",
   "metadata": {},
   "outputs": [],
   "source": [
    "df['l-at-right-position']=df['Name'].str.rfind('l')"
   ]
  },
  {
   "cell_type": "code",
   "execution_count": 85,
   "id": "e562e735",
   "metadata": {},
   "outputs": [
    {
     "data": {
      "text/html": [
       "<div>\n",
       "<style scoped>\n",
       "    .dataframe tbody tr th:only-of-type {\n",
       "        vertical-align: middle;\n",
       "    }\n",
       "\n",
       "    .dataframe tbody tr th {\n",
       "        vertical-align: top;\n",
       "    }\n",
       "\n",
       "    .dataframe thead th {\n",
       "        text-align: right;\n",
       "    }\n",
       "</style>\n",
       "<table border=\"1\" class=\"dataframe\">\n",
       "  <thead>\n",
       "    <tr style=\"text-align: right;\">\n",
       "      <th></th>\n",
       "      <th>Name</th>\n",
       "      <th>Occupation</th>\n",
       "      <th>Code</th>\n",
       "      <th>Comment</th>\n",
       "      <th>Occupation_upper</th>\n",
       "      <th>Occupation_lower</th>\n",
       "      <th>l-position</th>\n",
       "      <th>l-at-right-position</th>\n",
       "    </tr>\n",
       "  </thead>\n",
       "  <tbody>\n",
       "    <tr>\n",
       "      <th>0</th>\n",
       "      <td>Alice</td>\n",
       "      <td>Engineer</td>\n",
       "      <td>A123</td>\n",
       "      <td>Nice Person</td>\n",
       "      <td>ENGINEER</td>\n",
       "      <td>engineer</td>\n",
       "      <td>1</td>\n",
       "      <td>1</td>\n",
       "    </tr>\n",
       "    <tr>\n",
       "      <th>1</th>\n",
       "      <td>Bob</td>\n",
       "      <td>Doctor</td>\n",
       "      <td>B456</td>\n",
       "      <td>Excellent Worker</td>\n",
       "      <td>DOCTOR</td>\n",
       "      <td>doctor</td>\n",
       "      <td>-1</td>\n",
       "      <td>-1</td>\n",
       "    </tr>\n",
       "    <tr>\n",
       "      <th>2</th>\n",
       "      <td>Charlie</td>\n",
       "      <td>Artist</td>\n",
       "      <td>C789</td>\n",
       "      <td>Very Creative</td>\n",
       "      <td>ARTIST</td>\n",
       "      <td>artist</td>\n",
       "      <td>4</td>\n",
       "      <td>4</td>\n",
       "    </tr>\n",
       "  </tbody>\n",
       "</table>\n",
       "</div>"
      ],
      "text/plain": [
       "      Name Occupation  Code           Comment Occupation_upper  \\\n",
       "0    Alice   Engineer  A123      Nice Person          ENGINEER   \n",
       "1      Bob     Doctor  B456  Excellent Worker           DOCTOR   \n",
       "2  Charlie     Artist  C789     Very Creative           ARTIST   \n",
       "\n",
       "  Occupation_lower  l-position  l-at-right-position  \n",
       "0         engineer           1                    1  \n",
       "1           doctor          -1                   -1  \n",
       "2           artist           4                    4  "
      ]
     },
     "execution_count": 85,
     "metadata": {},
     "output_type": "execute_result"
    }
   ],
   "source": [
    "df"
   ]
  },
  {
   "cell_type": "markdown",
   "id": "ed4a9398",
   "metadata": {},
   "source": [
    "### 5] findall"
   ]
  },
  {
   "cell_type": "code",
   "execution_count": 86,
   "id": "66c44205",
   "metadata": {},
   "outputs": [],
   "source": [
    "df['comment_findall']=df['Comment'].str.findall('e')"
   ]
  },
  {
   "cell_type": "code",
   "execution_count": 87,
   "id": "4cec1ba6",
   "metadata": {},
   "outputs": [
    {
     "data": {
      "text/html": [
       "<div>\n",
       "<style scoped>\n",
       "    .dataframe tbody tr th:only-of-type {\n",
       "        vertical-align: middle;\n",
       "    }\n",
       "\n",
       "    .dataframe tbody tr th {\n",
       "        vertical-align: top;\n",
       "    }\n",
       "\n",
       "    .dataframe thead th {\n",
       "        text-align: right;\n",
       "    }\n",
       "</style>\n",
       "<table border=\"1\" class=\"dataframe\">\n",
       "  <thead>\n",
       "    <tr style=\"text-align: right;\">\n",
       "      <th></th>\n",
       "      <th>Name</th>\n",
       "      <th>Occupation</th>\n",
       "      <th>Code</th>\n",
       "      <th>Comment</th>\n",
       "      <th>Occupation_upper</th>\n",
       "      <th>Occupation_lower</th>\n",
       "      <th>l-position</th>\n",
       "      <th>l-at-right-position</th>\n",
       "      <th>comment_findall</th>\n",
       "    </tr>\n",
       "  </thead>\n",
       "  <tbody>\n",
       "    <tr>\n",
       "      <th>0</th>\n",
       "      <td>Alice</td>\n",
       "      <td>Engineer</td>\n",
       "      <td>A123</td>\n",
       "      <td>Nice Person</td>\n",
       "      <td>ENGINEER</td>\n",
       "      <td>engineer</td>\n",
       "      <td>1</td>\n",
       "      <td>1</td>\n",
       "      <td>[e, e]</td>\n",
       "    </tr>\n",
       "    <tr>\n",
       "      <th>1</th>\n",
       "      <td>Bob</td>\n",
       "      <td>Doctor</td>\n",
       "      <td>B456</td>\n",
       "      <td>Excellent Worker</td>\n",
       "      <td>DOCTOR</td>\n",
       "      <td>doctor</td>\n",
       "      <td>-1</td>\n",
       "      <td>-1</td>\n",
       "      <td>[e, e, e]</td>\n",
       "    </tr>\n",
       "    <tr>\n",
       "      <th>2</th>\n",
       "      <td>Charlie</td>\n",
       "      <td>Artist</td>\n",
       "      <td>C789</td>\n",
       "      <td>Very Creative</td>\n",
       "      <td>ARTIST</td>\n",
       "      <td>artist</td>\n",
       "      <td>4</td>\n",
       "      <td>4</td>\n",
       "      <td>[e, e, e]</td>\n",
       "    </tr>\n",
       "  </tbody>\n",
       "</table>\n",
       "</div>"
      ],
      "text/plain": [
       "      Name Occupation  Code           Comment Occupation_upper  \\\n",
       "0    Alice   Engineer  A123      Nice Person          ENGINEER   \n",
       "1      Bob     Doctor  B456  Excellent Worker           DOCTOR   \n",
       "2  Charlie     Artist  C789     Very Creative           ARTIST   \n",
       "\n",
       "  Occupation_lower  l-position  l-at-right-position comment_findall  \n",
       "0         engineer           1                    1          [e, e]  \n",
       "1           doctor          -1                   -1       [e, e, e]  \n",
       "2           artist           4                    4       [e, e, e]  "
      ]
     },
     "execution_count": 87,
     "metadata": {},
     "output_type": "execute_result"
    }
   ],
   "source": [
    "df"
   ]
  },
  {
   "cell_type": "markdown",
   "id": "151058c8",
   "metadata": {},
   "source": [
    "### 6] isalpha"
   ]
  },
  {
   "cell_type": "markdown",
   "id": "1d59e4a3",
   "metadata": {},
   "source": [
    "Check if all characters in the 'Comment' column are alphabetic."
   ]
  },
  {
   "cell_type": "code",
   "execution_count": 88,
   "id": "de2225fd",
   "metadata": {},
   "outputs": [],
   "source": [
    "df['is_aplhabetic_comment']=df['Comment'].str.isalpha()"
   ]
  },
  {
   "cell_type": "code",
   "execution_count": 89,
   "id": "6980a14b",
   "metadata": {},
   "outputs": [
    {
     "data": {
      "text/html": [
       "<div>\n",
       "<style scoped>\n",
       "    .dataframe tbody tr th:only-of-type {\n",
       "        vertical-align: middle;\n",
       "    }\n",
       "\n",
       "    .dataframe tbody tr th {\n",
       "        vertical-align: top;\n",
       "    }\n",
       "\n",
       "    .dataframe thead th {\n",
       "        text-align: right;\n",
       "    }\n",
       "</style>\n",
       "<table border=\"1\" class=\"dataframe\">\n",
       "  <thead>\n",
       "    <tr style=\"text-align: right;\">\n",
       "      <th></th>\n",
       "      <th>Name</th>\n",
       "      <th>Occupation</th>\n",
       "      <th>Code</th>\n",
       "      <th>Comment</th>\n",
       "      <th>Occupation_upper</th>\n",
       "      <th>Occupation_lower</th>\n",
       "      <th>l-position</th>\n",
       "      <th>l-at-right-position</th>\n",
       "      <th>comment_findall</th>\n",
       "      <th>is_aplhabetic_comment</th>\n",
       "    </tr>\n",
       "  </thead>\n",
       "  <tbody>\n",
       "    <tr>\n",
       "      <th>0</th>\n",
       "      <td>Alice</td>\n",
       "      <td>Engineer</td>\n",
       "      <td>A123</td>\n",
       "      <td>Nice Person</td>\n",
       "      <td>ENGINEER</td>\n",
       "      <td>engineer</td>\n",
       "      <td>1</td>\n",
       "      <td>1</td>\n",
       "      <td>[e, e]</td>\n",
       "      <td>False</td>\n",
       "    </tr>\n",
       "    <tr>\n",
       "      <th>1</th>\n",
       "      <td>Bob</td>\n",
       "      <td>Doctor</td>\n",
       "      <td>B456</td>\n",
       "      <td>Excellent Worker</td>\n",
       "      <td>DOCTOR</td>\n",
       "      <td>doctor</td>\n",
       "      <td>-1</td>\n",
       "      <td>-1</td>\n",
       "      <td>[e, e, e]</td>\n",
       "      <td>False</td>\n",
       "    </tr>\n",
       "    <tr>\n",
       "      <th>2</th>\n",
       "      <td>Charlie</td>\n",
       "      <td>Artist</td>\n",
       "      <td>C789</td>\n",
       "      <td>Very Creative</td>\n",
       "      <td>ARTIST</td>\n",
       "      <td>artist</td>\n",
       "      <td>4</td>\n",
       "      <td>4</td>\n",
       "      <td>[e, e, e]</td>\n",
       "      <td>False</td>\n",
       "    </tr>\n",
       "  </tbody>\n",
       "</table>\n",
       "</div>"
      ],
      "text/plain": [
       "      Name Occupation  Code           Comment Occupation_upper  \\\n",
       "0    Alice   Engineer  A123      Nice Person          ENGINEER   \n",
       "1      Bob     Doctor  B456  Excellent Worker           DOCTOR   \n",
       "2  Charlie     Artist  C789     Very Creative           ARTIST   \n",
       "\n",
       "  Occupation_lower  l-position  l-at-right-position comment_findall  \\\n",
       "0         engineer           1                    1          [e, e]   \n",
       "1           doctor          -1                   -1       [e, e, e]   \n",
       "2           artist           4                    4       [e, e, e]   \n",
       "\n",
       "   is_aplhabetic_comment  \n",
       "0                  False  \n",
       "1                  False  \n",
       "2                  False  "
      ]
     },
     "execution_count": 89,
     "metadata": {},
     "output_type": "execute_result"
    }
   ],
   "source": [
    "df"
   ]
  },
  {
   "cell_type": "code",
   "execution_count": 90,
   "id": "bb6eab04",
   "metadata": {},
   "outputs": [
    {
     "data": {
      "text/html": [
       "<div>\n",
       "<style scoped>\n",
       "    .dataframe tbody tr th:only-of-type {\n",
       "        vertical-align: middle;\n",
       "    }\n",
       "\n",
       "    .dataframe tbody tr th {\n",
       "        vertical-align: top;\n",
       "    }\n",
       "\n",
       "    .dataframe thead th {\n",
       "        text-align: right;\n",
       "    }\n",
       "</style>\n",
       "<table border=\"1\" class=\"dataframe\">\n",
       "  <thead>\n",
       "    <tr style=\"text-align: right;\">\n",
       "      <th></th>\n",
       "      <th>Name</th>\n",
       "      <th>Occupation</th>\n",
       "      <th>Code</th>\n",
       "      <th>Comment</th>\n",
       "      <th>Occupation_upper</th>\n",
       "      <th>Occupation_lower</th>\n",
       "      <th>l-position</th>\n",
       "      <th>l-at-right-position</th>\n",
       "      <th>comment_findall</th>\n",
       "      <th>is_aplhabetic_comment</th>\n",
       "      <th>is_aplhabetic</th>\n",
       "    </tr>\n",
       "  </thead>\n",
       "  <tbody>\n",
       "    <tr>\n",
       "      <th>0</th>\n",
       "      <td>Alice</td>\n",
       "      <td>Engineer</td>\n",
       "      <td>A123</td>\n",
       "      <td>Nice Person</td>\n",
       "      <td>ENGINEER</td>\n",
       "      <td>engineer</td>\n",
       "      <td>1</td>\n",
       "      <td>1</td>\n",
       "      <td>[e, e]</td>\n",
       "      <td>False</td>\n",
       "      <td>True</td>\n",
       "    </tr>\n",
       "    <tr>\n",
       "      <th>1</th>\n",
       "      <td>Bob</td>\n",
       "      <td>Doctor</td>\n",
       "      <td>B456</td>\n",
       "      <td>Excellent Worker</td>\n",
       "      <td>DOCTOR</td>\n",
       "      <td>doctor</td>\n",
       "      <td>-1</td>\n",
       "      <td>-1</td>\n",
       "      <td>[e, e, e]</td>\n",
       "      <td>False</td>\n",
       "      <td>True</td>\n",
       "    </tr>\n",
       "    <tr>\n",
       "      <th>2</th>\n",
       "      <td>Charlie</td>\n",
       "      <td>Artist</td>\n",
       "      <td>C789</td>\n",
       "      <td>Very Creative</td>\n",
       "      <td>ARTIST</td>\n",
       "      <td>artist</td>\n",
       "      <td>4</td>\n",
       "      <td>4</td>\n",
       "      <td>[e, e, e]</td>\n",
       "      <td>False</td>\n",
       "      <td>True</td>\n",
       "    </tr>\n",
       "  </tbody>\n",
       "</table>\n",
       "</div>"
      ],
      "text/plain": [
       "      Name Occupation  Code           Comment Occupation_upper  \\\n",
       "0    Alice   Engineer  A123      Nice Person          ENGINEER   \n",
       "1      Bob     Doctor  B456  Excellent Worker           DOCTOR   \n",
       "2  Charlie     Artist  C789     Very Creative           ARTIST   \n",
       "\n",
       "  Occupation_lower  l-position  l-at-right-position comment_findall  \\\n",
       "0         engineer           1                    1          [e, e]   \n",
       "1           doctor          -1                   -1       [e, e, e]   \n",
       "2           artist           4                    4       [e, e, e]   \n",
       "\n",
       "   is_aplhabetic_comment  is_aplhabetic  \n",
       "0                  False           True  \n",
       "1                  False           True  \n",
       "2                  False           True  "
      ]
     },
     "execution_count": 90,
     "metadata": {},
     "output_type": "execute_result"
    }
   ],
   "source": [
    "df['is_aplhabetic']=df['Occupation'].str.isalpha()\n",
    "df"
   ]
  },
  {
   "cell_type": "markdown",
   "id": "de9a1afd",
   "metadata": {},
   "source": [
    "### 7] isdigit"
   ]
  },
  {
   "cell_type": "markdown",
   "id": "e93d3b68",
   "metadata": {},
   "source": [
    "Check if all characters in the 'Code' column are digits."
   ]
  },
  {
   "cell_type": "code",
   "execution_count": 91,
   "id": "6a86744c",
   "metadata": {},
   "outputs": [],
   "source": [
    "df['is_digit_code']=df['Code'].str.isdigit()"
   ]
  },
  {
   "cell_type": "code",
   "execution_count": 92,
   "id": "81b24fa3",
   "metadata": {},
   "outputs": [
    {
     "data": {
      "text/html": [
       "<div>\n",
       "<style scoped>\n",
       "    .dataframe tbody tr th:only-of-type {\n",
       "        vertical-align: middle;\n",
       "    }\n",
       "\n",
       "    .dataframe tbody tr th {\n",
       "        vertical-align: top;\n",
       "    }\n",
       "\n",
       "    .dataframe thead th {\n",
       "        text-align: right;\n",
       "    }\n",
       "</style>\n",
       "<table border=\"1\" class=\"dataframe\">\n",
       "  <thead>\n",
       "    <tr style=\"text-align: right;\">\n",
       "      <th></th>\n",
       "      <th>Name</th>\n",
       "      <th>Occupation</th>\n",
       "      <th>Code</th>\n",
       "      <th>Comment</th>\n",
       "      <th>Occupation_upper</th>\n",
       "      <th>Occupation_lower</th>\n",
       "      <th>l-position</th>\n",
       "      <th>l-at-right-position</th>\n",
       "      <th>comment_findall</th>\n",
       "      <th>is_aplhabetic_comment</th>\n",
       "      <th>is_aplhabetic</th>\n",
       "      <th>is_digit_code</th>\n",
       "    </tr>\n",
       "  </thead>\n",
       "  <tbody>\n",
       "    <tr>\n",
       "      <th>0</th>\n",
       "      <td>Alice</td>\n",
       "      <td>Engineer</td>\n",
       "      <td>A123</td>\n",
       "      <td>Nice Person</td>\n",
       "      <td>ENGINEER</td>\n",
       "      <td>engineer</td>\n",
       "      <td>1</td>\n",
       "      <td>1</td>\n",
       "      <td>[e, e]</td>\n",
       "      <td>False</td>\n",
       "      <td>True</td>\n",
       "      <td>False</td>\n",
       "    </tr>\n",
       "    <tr>\n",
       "      <th>1</th>\n",
       "      <td>Bob</td>\n",
       "      <td>Doctor</td>\n",
       "      <td>B456</td>\n",
       "      <td>Excellent Worker</td>\n",
       "      <td>DOCTOR</td>\n",
       "      <td>doctor</td>\n",
       "      <td>-1</td>\n",
       "      <td>-1</td>\n",
       "      <td>[e, e, e]</td>\n",
       "      <td>False</td>\n",
       "      <td>True</td>\n",
       "      <td>False</td>\n",
       "    </tr>\n",
       "    <tr>\n",
       "      <th>2</th>\n",
       "      <td>Charlie</td>\n",
       "      <td>Artist</td>\n",
       "      <td>C789</td>\n",
       "      <td>Very Creative</td>\n",
       "      <td>ARTIST</td>\n",
       "      <td>artist</td>\n",
       "      <td>4</td>\n",
       "      <td>4</td>\n",
       "      <td>[e, e, e]</td>\n",
       "      <td>False</td>\n",
       "      <td>True</td>\n",
       "      <td>False</td>\n",
       "    </tr>\n",
       "  </tbody>\n",
       "</table>\n",
       "</div>"
      ],
      "text/plain": [
       "      Name Occupation  Code           Comment Occupation_upper  \\\n",
       "0    Alice   Engineer  A123      Nice Person          ENGINEER   \n",
       "1      Bob     Doctor  B456  Excellent Worker           DOCTOR   \n",
       "2  Charlie     Artist  C789     Very Creative           ARTIST   \n",
       "\n",
       "  Occupation_lower  l-position  l-at-right-position comment_findall  \\\n",
       "0         engineer           1                    1          [e, e]   \n",
       "1           doctor          -1                   -1       [e, e, e]   \n",
       "2           artist           4                    4       [e, e, e]   \n",
       "\n",
       "   is_aplhabetic_comment  is_aplhabetic  is_digit_code  \n",
       "0                  False           True          False  \n",
       "1                  False           True          False  \n",
       "2                  False           True          False  "
      ]
     },
     "execution_count": 92,
     "metadata": {},
     "output_type": "execute_result"
    }
   ],
   "source": [
    "df"
   ]
  },
  {
   "cell_type": "markdown",
   "id": "d774ce09",
   "metadata": {},
   "source": [
    "### 8] isdecimal"
   ]
  },
  {
   "cell_type": "markdown",
   "id": "c0085763",
   "metadata": {},
   "source": [
    "Check if all characters in the 'Code' column are decimal."
   ]
  },
  {
   "cell_type": "code",
   "execution_count": 93,
   "id": "8f6d6276",
   "metadata": {},
   "outputs": [],
   "source": [
    "df['is_decimal_name']=df['Name'].str.isdecimal()"
   ]
  },
  {
   "cell_type": "code",
   "execution_count": 94,
   "id": "e45e95b0",
   "metadata": {},
   "outputs": [
    {
     "data": {
      "text/html": [
       "<div>\n",
       "<style scoped>\n",
       "    .dataframe tbody tr th:only-of-type {\n",
       "        vertical-align: middle;\n",
       "    }\n",
       "\n",
       "    .dataframe tbody tr th {\n",
       "        vertical-align: top;\n",
       "    }\n",
       "\n",
       "    .dataframe thead th {\n",
       "        text-align: right;\n",
       "    }\n",
       "</style>\n",
       "<table border=\"1\" class=\"dataframe\">\n",
       "  <thead>\n",
       "    <tr style=\"text-align: right;\">\n",
       "      <th></th>\n",
       "      <th>Name</th>\n",
       "      <th>Occupation</th>\n",
       "      <th>Code</th>\n",
       "      <th>Comment</th>\n",
       "      <th>Occupation_upper</th>\n",
       "      <th>Occupation_lower</th>\n",
       "      <th>l-position</th>\n",
       "      <th>l-at-right-position</th>\n",
       "      <th>comment_findall</th>\n",
       "      <th>is_aplhabetic_comment</th>\n",
       "      <th>is_aplhabetic</th>\n",
       "      <th>is_digit_code</th>\n",
       "      <th>is_decimal_name</th>\n",
       "    </tr>\n",
       "  </thead>\n",
       "  <tbody>\n",
       "    <tr>\n",
       "      <th>0</th>\n",
       "      <td>Alice</td>\n",
       "      <td>Engineer</td>\n",
       "      <td>A123</td>\n",
       "      <td>Nice Person</td>\n",
       "      <td>ENGINEER</td>\n",
       "      <td>engineer</td>\n",
       "      <td>1</td>\n",
       "      <td>1</td>\n",
       "      <td>[e, e]</td>\n",
       "      <td>False</td>\n",
       "      <td>True</td>\n",
       "      <td>False</td>\n",
       "      <td>False</td>\n",
       "    </tr>\n",
       "    <tr>\n",
       "      <th>1</th>\n",
       "      <td>Bob</td>\n",
       "      <td>Doctor</td>\n",
       "      <td>B456</td>\n",
       "      <td>Excellent Worker</td>\n",
       "      <td>DOCTOR</td>\n",
       "      <td>doctor</td>\n",
       "      <td>-1</td>\n",
       "      <td>-1</td>\n",
       "      <td>[e, e, e]</td>\n",
       "      <td>False</td>\n",
       "      <td>True</td>\n",
       "      <td>False</td>\n",
       "      <td>False</td>\n",
       "    </tr>\n",
       "    <tr>\n",
       "      <th>2</th>\n",
       "      <td>Charlie</td>\n",
       "      <td>Artist</td>\n",
       "      <td>C789</td>\n",
       "      <td>Very Creative</td>\n",
       "      <td>ARTIST</td>\n",
       "      <td>artist</td>\n",
       "      <td>4</td>\n",
       "      <td>4</td>\n",
       "      <td>[e, e, e]</td>\n",
       "      <td>False</td>\n",
       "      <td>True</td>\n",
       "      <td>False</td>\n",
       "      <td>False</td>\n",
       "    </tr>\n",
       "  </tbody>\n",
       "</table>\n",
       "</div>"
      ],
      "text/plain": [
       "      Name Occupation  Code           Comment Occupation_upper  \\\n",
       "0    Alice   Engineer  A123      Nice Person          ENGINEER   \n",
       "1      Bob     Doctor  B456  Excellent Worker           DOCTOR   \n",
       "2  Charlie     Artist  C789     Very Creative           ARTIST   \n",
       "\n",
       "  Occupation_lower  l-position  l-at-right-position comment_findall  \\\n",
       "0         engineer           1                    1          [e, e]   \n",
       "1           doctor          -1                   -1       [e, e, e]   \n",
       "2           artist           4                    4       [e, e, e]   \n",
       "\n",
       "   is_aplhabetic_comment  is_aplhabetic  is_digit_code  is_decimal_name  \n",
       "0                  False           True          False            False  \n",
       "1                  False           True          False            False  \n",
       "2                  False           True          False            False  "
      ]
     },
     "execution_count": 94,
     "metadata": {},
     "output_type": "execute_result"
    }
   ],
   "source": [
    "df"
   ]
  },
  {
   "cell_type": "markdown",
   "id": "82e44b89",
   "metadata": {},
   "source": [
    "### 9] rstrip, lstrip, strip - removing white spaces"
   ]
  },
  {
   "cell_type": "code",
   "execution_count": 95,
   "id": "41f382ae",
   "metadata": {},
   "outputs": [],
   "source": [
    "df['right_whitespace']=['hi  ', 'bi  ', 'cii  ']\n",
    "df['left_whitespace']=['  ko','  po','  so']\n",
    "df['both_end_whitespace']=['  ji  ','  joo  ', 'boo ']"
   ]
  },
  {
   "cell_type": "code",
   "execution_count": 96,
   "id": "80f8d7c9",
   "metadata": {},
   "outputs": [
    {
     "data": {
      "text/html": [
       "<div>\n",
       "<style scoped>\n",
       "    .dataframe tbody tr th:only-of-type {\n",
       "        vertical-align: middle;\n",
       "    }\n",
       "\n",
       "    .dataframe tbody tr th {\n",
       "        vertical-align: top;\n",
       "    }\n",
       "\n",
       "    .dataframe thead th {\n",
       "        text-align: right;\n",
       "    }\n",
       "</style>\n",
       "<table border=\"1\" class=\"dataframe\">\n",
       "  <thead>\n",
       "    <tr style=\"text-align: right;\">\n",
       "      <th></th>\n",
       "      <th>Name</th>\n",
       "      <th>Occupation</th>\n",
       "      <th>Code</th>\n",
       "      <th>Comment</th>\n",
       "      <th>Occupation_upper</th>\n",
       "      <th>Occupation_lower</th>\n",
       "      <th>l-position</th>\n",
       "      <th>l-at-right-position</th>\n",
       "      <th>comment_findall</th>\n",
       "      <th>is_aplhabetic_comment</th>\n",
       "      <th>is_aplhabetic</th>\n",
       "      <th>is_digit_code</th>\n",
       "      <th>is_decimal_name</th>\n",
       "      <th>right_whitespace</th>\n",
       "      <th>left_whitespace</th>\n",
       "      <th>both_end_whitespace</th>\n",
       "    </tr>\n",
       "  </thead>\n",
       "  <tbody>\n",
       "    <tr>\n",
       "      <th>0</th>\n",
       "      <td>Alice</td>\n",
       "      <td>Engineer</td>\n",
       "      <td>A123</td>\n",
       "      <td>Nice Person</td>\n",
       "      <td>ENGINEER</td>\n",
       "      <td>engineer</td>\n",
       "      <td>1</td>\n",
       "      <td>1</td>\n",
       "      <td>[e, e]</td>\n",
       "      <td>False</td>\n",
       "      <td>True</td>\n",
       "      <td>False</td>\n",
       "      <td>False</td>\n",
       "      <td>hi</td>\n",
       "      <td>ko</td>\n",
       "      <td>ji</td>\n",
       "    </tr>\n",
       "    <tr>\n",
       "      <th>1</th>\n",
       "      <td>Bob</td>\n",
       "      <td>Doctor</td>\n",
       "      <td>B456</td>\n",
       "      <td>Excellent Worker</td>\n",
       "      <td>DOCTOR</td>\n",
       "      <td>doctor</td>\n",
       "      <td>-1</td>\n",
       "      <td>-1</td>\n",
       "      <td>[e, e, e]</td>\n",
       "      <td>False</td>\n",
       "      <td>True</td>\n",
       "      <td>False</td>\n",
       "      <td>False</td>\n",
       "      <td>bi</td>\n",
       "      <td>po</td>\n",
       "      <td>joo</td>\n",
       "    </tr>\n",
       "    <tr>\n",
       "      <th>2</th>\n",
       "      <td>Charlie</td>\n",
       "      <td>Artist</td>\n",
       "      <td>C789</td>\n",
       "      <td>Very Creative</td>\n",
       "      <td>ARTIST</td>\n",
       "      <td>artist</td>\n",
       "      <td>4</td>\n",
       "      <td>4</td>\n",
       "      <td>[e, e, e]</td>\n",
       "      <td>False</td>\n",
       "      <td>True</td>\n",
       "      <td>False</td>\n",
       "      <td>False</td>\n",
       "      <td>cii</td>\n",
       "      <td>so</td>\n",
       "      <td>boo</td>\n",
       "    </tr>\n",
       "  </tbody>\n",
       "</table>\n",
       "</div>"
      ],
      "text/plain": [
       "      Name Occupation  Code           Comment Occupation_upper  \\\n",
       "0    Alice   Engineer  A123      Nice Person          ENGINEER   \n",
       "1      Bob     Doctor  B456  Excellent Worker           DOCTOR   \n",
       "2  Charlie     Artist  C789     Very Creative           ARTIST   \n",
       "\n",
       "  Occupation_lower  l-position  l-at-right-position comment_findall  \\\n",
       "0         engineer           1                    1          [e, e]   \n",
       "1           doctor          -1                   -1       [e, e, e]   \n",
       "2           artist           4                    4       [e, e, e]   \n",
       "\n",
       "   is_aplhabetic_comment  is_aplhabetic  is_digit_code  is_decimal_name  \\\n",
       "0                  False           True          False            False   \n",
       "1                  False           True          False            False   \n",
       "2                  False           True          False            False   \n",
       "\n",
       "  right_whitespace left_whitespace both_end_whitespace  \n",
       "0             hi                ko                ji    \n",
       "1             bi                po               joo    \n",
       "2            cii                so                boo   "
      ]
     },
     "execution_count": 96,
     "metadata": {},
     "output_type": "execute_result"
    }
   ],
   "source": [
    "df"
   ]
  },
  {
   "cell_type": "code",
   "execution_count": 97,
   "id": "4ef7f1d3",
   "metadata": {},
   "outputs": [],
   "source": [
    "df['rm_r_ws']=df['right_whitespace'].str.rstrip()"
   ]
  },
  {
   "cell_type": "code",
   "execution_count": 98,
   "id": "f3b1b9dc",
   "metadata": {},
   "outputs": [],
   "source": [
    "df['rm_l_ws']=df['left_whitespace'].str.lstrip()"
   ]
  },
  {
   "cell_type": "code",
   "execution_count": 99,
   "id": "097eedcf",
   "metadata": {},
   "outputs": [],
   "source": [
    "df['rm_ws']=df['both_end_whitespace'].str.strip()"
   ]
  },
  {
   "cell_type": "code",
   "execution_count": 100,
   "id": "19ebaf7a",
   "metadata": {},
   "outputs": [
    {
     "data": {
      "text/plain": [
       "Index(['Name', 'Occupation', 'Code', 'Comment', 'Occupation_upper',\n",
       "       'Occupation_lower', 'l-position', 'l-at-right-position',\n",
       "       'comment_findall', 'is_aplhabetic_comment', 'is_aplhabetic',\n",
       "       'is_digit_code', 'is_decimal_name', 'right_whitespace',\n",
       "       'left_whitespace', 'both_end_whitespace', 'rm_r_ws', 'rm_l_ws',\n",
       "       'rm_ws'],\n",
       "      dtype='object')"
      ]
     },
     "execution_count": 100,
     "metadata": {},
     "output_type": "execute_result"
    }
   ],
   "source": [
    "df.columns"
   ]
  },
  {
   "cell_type": "code",
   "execution_count": 101,
   "id": "7d110c38",
   "metadata": {},
   "outputs": [
    {
     "data": {
      "text/html": [
       "<div>\n",
       "<style scoped>\n",
       "    .dataframe tbody tr th:only-of-type {\n",
       "        vertical-align: middle;\n",
       "    }\n",
       "\n",
       "    .dataframe tbody tr th {\n",
       "        vertical-align: top;\n",
       "    }\n",
       "\n",
       "    .dataframe thead th {\n",
       "        text-align: right;\n",
       "    }\n",
       "</style>\n",
       "<table border=\"1\" class=\"dataframe\">\n",
       "  <thead>\n",
       "    <tr style=\"text-align: right;\">\n",
       "      <th></th>\n",
       "      <th>right_whitespace</th>\n",
       "      <th>left_whitespace</th>\n",
       "      <th>both_end_whitespace</th>\n",
       "      <th>rm_r_ws</th>\n",
       "      <th>rm_l_ws</th>\n",
       "      <th>rm_ws</th>\n",
       "    </tr>\n",
       "  </thead>\n",
       "  <tbody>\n",
       "    <tr>\n",
       "      <th>0</th>\n",
       "      <td>hi</td>\n",
       "      <td>ko</td>\n",
       "      <td>ji</td>\n",
       "      <td>hi</td>\n",
       "      <td>ko</td>\n",
       "      <td>ji</td>\n",
       "    </tr>\n",
       "    <tr>\n",
       "      <th>1</th>\n",
       "      <td>bi</td>\n",
       "      <td>po</td>\n",
       "      <td>joo</td>\n",
       "      <td>bi</td>\n",
       "      <td>po</td>\n",
       "      <td>joo</td>\n",
       "    </tr>\n",
       "    <tr>\n",
       "      <th>2</th>\n",
       "      <td>cii</td>\n",
       "      <td>so</td>\n",
       "      <td>boo</td>\n",
       "      <td>cii</td>\n",
       "      <td>so</td>\n",
       "      <td>boo</td>\n",
       "    </tr>\n",
       "  </tbody>\n",
       "</table>\n",
       "</div>"
      ],
      "text/plain": [
       "  right_whitespace left_whitespace both_end_whitespace rm_r_ws rm_l_ws rm_ws\n",
       "0             hi                ko                ji        hi      ko    ji\n",
       "1             bi                po               joo        bi      po   joo\n",
       "2            cii                so                boo      cii      so   boo"
      ]
     },
     "execution_count": 101,
     "metadata": {},
     "output_type": "execute_result"
    }
   ],
   "source": [
    "df[['right_whitespace',\n",
    "       'left_whitespace', 'both_end_whitespace', 'rm_r_ws', 'rm_l_ws',\n",
    "       'rm_ws']]"
   ]
  },
  {
   "cell_type": "markdown",
   "id": "9840fd98",
   "metadata": {},
   "source": [
    "### 10] split"
   ]
  },
  {
   "cell_type": "code",
   "execution_count": 102,
   "id": "4e81e1ed",
   "metadata": {},
   "outputs": [
    {
     "data": {
      "text/plain": [
       "0    [A, 123, ]\n",
       "1    [B, 456, ]\n",
       "2    [C, 789, ]\n",
       "Name: split, dtype: object"
      ]
     },
     "execution_count": 102,
     "metadata": {},
     "output_type": "execute_result"
    }
   ],
   "source": [
    "df['split']=df['Code'].str.split(r'(\\d+)')\n",
    "df['split']"
   ]
  },
  {
   "cell_type": "markdown",
   "id": "ee0f15de",
   "metadata": {},
   "source": [
    "Note:\n",
    "\n",
    "    '\\d+' takes only text eg: '12AD' --> ['','AD']\n",
    "    '(\\d+)' both text and number eg: '12AD' --> ['','12','AD']"
   ]
  },
  {
   "cell_type": "markdown",
   "id": "1ef8d985",
   "metadata": {},
   "source": [
    "### 11] Join"
   ]
  },
  {
   "cell_type": "code",
   "execution_count": 103,
   "id": "01546e65",
   "metadata": {},
   "outputs": [],
   "source": [
    "df['Joining']=df['split'].str.join('-')"
   ]
  },
  {
   "cell_type": "code",
   "execution_count": 104,
   "id": "99cf6256",
   "metadata": {},
   "outputs": [
    {
     "data": {
      "text/html": [
       "<div>\n",
       "<style scoped>\n",
       "    .dataframe tbody tr th:only-of-type {\n",
       "        vertical-align: middle;\n",
       "    }\n",
       "\n",
       "    .dataframe tbody tr th {\n",
       "        vertical-align: top;\n",
       "    }\n",
       "\n",
       "    .dataframe thead th {\n",
       "        text-align: right;\n",
       "    }\n",
       "</style>\n",
       "<table border=\"1\" class=\"dataframe\">\n",
       "  <thead>\n",
       "    <tr style=\"text-align: right;\">\n",
       "      <th></th>\n",
       "      <th>split</th>\n",
       "      <th>Joining</th>\n",
       "    </tr>\n",
       "  </thead>\n",
       "  <tbody>\n",
       "    <tr>\n",
       "      <th>0</th>\n",
       "      <td>[A, 123, ]</td>\n",
       "      <td>A-123-</td>\n",
       "    </tr>\n",
       "    <tr>\n",
       "      <th>1</th>\n",
       "      <td>[B, 456, ]</td>\n",
       "      <td>B-456-</td>\n",
       "    </tr>\n",
       "    <tr>\n",
       "      <th>2</th>\n",
       "      <td>[C, 789, ]</td>\n",
       "      <td>C-789-</td>\n",
       "    </tr>\n",
       "  </tbody>\n",
       "</table>\n",
       "</div>"
      ],
      "text/plain": [
       "        split Joining\n",
       "0  [A, 123, ]  A-123-\n",
       "1  [B, 456, ]  B-456-\n",
       "2  [C, 789, ]  C-789-"
      ]
     },
     "execution_count": 104,
     "metadata": {},
     "output_type": "execute_result"
    }
   ],
   "source": [
    "df[['split','Joining']]"
   ]
  },
  {
   "cell_type": "markdown",
   "id": "cc3e8da4",
   "metadata": {},
   "source": [
    "### 12] cat - Concatenation"
   ]
  },
  {
   "cell_type": "code",
   "execution_count": 105,
   "id": "8c978c72",
   "metadata": {},
   "outputs": [],
   "source": [
    "df['Name_Occupation']=df['Name'].str.cat(df['Occupation'],sep='_')"
   ]
  },
  {
   "cell_type": "code",
   "execution_count": 106,
   "id": "2cd8aa5d",
   "metadata": {},
   "outputs": [
    {
     "data": {
      "text/plain": [
       "0    Alice_Engineer\n",
       "1        Bob_Doctor\n",
       "2    Charlie_Artist\n",
       "Name: Name_Occupation, dtype: object"
      ]
     },
     "execution_count": 106,
     "metadata": {},
     "output_type": "execute_result"
    }
   ],
   "source": [
    "df['Name_Occupation']"
   ]
  },
  {
   "cell_type": "markdown",
   "id": "7aab99fa",
   "metadata": {},
   "source": [
    "### 13] partition - split based on first occurance"
   ]
  },
  {
   "cell_type": "code",
   "execution_count": 107,
   "id": "f244e5a3",
   "metadata": {},
   "outputs": [
    {
     "data": {
      "text/html": [
       "<div>\n",
       "<style scoped>\n",
       "    .dataframe tbody tr th:only-of-type {\n",
       "        vertical-align: middle;\n",
       "    }\n",
       "\n",
       "    .dataframe tbody tr th {\n",
       "        vertical-align: top;\n",
       "    }\n",
       "\n",
       "    .dataframe thead th {\n",
       "        text-align: right;\n",
       "    }\n",
       "</style>\n",
       "<table border=\"1\" class=\"dataframe\">\n",
       "  <thead>\n",
       "    <tr style=\"text-align: right;\">\n",
       "      <th></th>\n",
       "      <th>0</th>\n",
       "      <th>1</th>\n",
       "      <th>2</th>\n",
       "    </tr>\n",
       "  </thead>\n",
       "  <tbody>\n",
       "    <tr>\n",
       "      <th>0</th>\n",
       "      <td>A</td>\n",
       "      <td>-</td>\n",
       "      <td>123-</td>\n",
       "    </tr>\n",
       "    <tr>\n",
       "      <th>1</th>\n",
       "      <td>B</td>\n",
       "      <td>-</td>\n",
       "      <td>456-</td>\n",
       "    </tr>\n",
       "    <tr>\n",
       "      <th>2</th>\n",
       "      <td>C</td>\n",
       "      <td>-</td>\n",
       "      <td>789-</td>\n",
       "    </tr>\n",
       "  </tbody>\n",
       "</table>\n",
       "</div>"
      ],
      "text/plain": [
       "   0  1     2\n",
       "0  A  -  123-\n",
       "1  B  -  456-\n",
       "2  C  -  789-"
      ]
     },
     "execution_count": 107,
     "metadata": {},
     "output_type": "execute_result"
    }
   ],
   "source": [
    "df['Joining'].str.partition('-')"
   ]
  },
  {
   "cell_type": "markdown",
   "id": "232f5f34",
   "metadata": {},
   "source": [
    "### 14] rpartition - split based on first occurance at right side"
   ]
  },
  {
   "cell_type": "code",
   "execution_count": 108,
   "id": "97b7a328",
   "metadata": {},
   "outputs": [
    {
     "data": {
      "text/html": [
       "<div>\n",
       "<style scoped>\n",
       "    .dataframe tbody tr th:only-of-type {\n",
       "        vertical-align: middle;\n",
       "    }\n",
       "\n",
       "    .dataframe tbody tr th {\n",
       "        vertical-align: top;\n",
       "    }\n",
       "\n",
       "    .dataframe thead th {\n",
       "        text-align: right;\n",
       "    }\n",
       "</style>\n",
       "<table border=\"1\" class=\"dataframe\">\n",
       "  <thead>\n",
       "    <tr style=\"text-align: right;\">\n",
       "      <th></th>\n",
       "      <th>0</th>\n",
       "      <th>1</th>\n",
       "      <th>2</th>\n",
       "    </tr>\n",
       "  </thead>\n",
       "  <tbody>\n",
       "    <tr>\n",
       "      <th>0</th>\n",
       "      <td>A-123</td>\n",
       "      <td>-</td>\n",
       "      <td></td>\n",
       "    </tr>\n",
       "    <tr>\n",
       "      <th>1</th>\n",
       "      <td>B-456</td>\n",
       "      <td>-</td>\n",
       "      <td></td>\n",
       "    </tr>\n",
       "    <tr>\n",
       "      <th>2</th>\n",
       "      <td>C-789</td>\n",
       "      <td>-</td>\n",
       "      <td></td>\n",
       "    </tr>\n",
       "  </tbody>\n",
       "</table>\n",
       "</div>"
      ],
      "text/plain": [
       "       0  1 2\n",
       "0  A-123  -  \n",
       "1  B-456  -  \n",
       "2  C-789  -  "
      ]
     },
     "execution_count": 108,
     "metadata": {},
     "output_type": "execute_result"
    }
   ],
   "source": [
    "df['Joining'].str.rpartition('-')"
   ]
  },
  {
   "cell_type": "markdown",
   "id": "eeee4e4e",
   "metadata": {},
   "source": [
    "### 15] Title- capitalize the each word first letter"
   ]
  },
  {
   "cell_type": "code",
   "execution_count": 109,
   "id": "7414a168",
   "metadata": {},
   "outputs": [],
   "source": [
    "df['Occupation_lower_capitalize']=df['Occupation_lower'].str.title()"
   ]
  },
  {
   "cell_type": "code",
   "execution_count": 111,
   "id": "cebfd217",
   "metadata": {},
   "outputs": [
    {
     "data": {
      "text/plain": [
       "0    Engineer\n",
       "1      Doctor\n",
       "2      Artist\n",
       "Name: Occupation_lower_capitalize, dtype: object"
      ]
     },
     "execution_count": 111,
     "metadata": {},
     "output_type": "execute_result"
    }
   ],
   "source": [
    "df['Occupation_lower_capitalize']"
   ]
  },
  {
   "cell_type": "code",
   "execution_count": 112,
   "id": "33614ea5",
   "metadata": {},
   "outputs": [
    {
     "ename": "AttributeError",
     "evalue": "'Series' object has no attribute 'swapcase'",
     "output_type": "error",
     "traceback": [
      "\u001b[1;31m---------------------------------------------------------------------------\u001b[0m",
      "\u001b[1;31mAttributeError\u001b[0m                            Traceback (most recent call last)",
      "Cell \u001b[1;32mIn[112], line 1\u001b[0m\n\u001b[1;32m----> 1\u001b[0m \u001b[43mdf\u001b[49m\u001b[43m[\u001b[49m\u001b[38;5;124;43m'\u001b[39;49m\u001b[38;5;124;43mOccupation_lower_capitalize\u001b[39;49m\u001b[38;5;124;43m'\u001b[39;49m\u001b[43m]\u001b[49m\u001b[38;5;241;43m.\u001b[39;49m\u001b[43mswapcase\u001b[49m()\n",
      "File \u001b[1;32mC:\\anaconda3\\lib\\site-packages\\pandas\\core\\generic.py:5902\u001b[0m, in \u001b[0;36mNDFrame.__getattr__\u001b[1;34m(self, name)\u001b[0m\n\u001b[0;32m   5895\u001b[0m \u001b[38;5;28;01mif\u001b[39;00m (\n\u001b[0;32m   5896\u001b[0m     name \u001b[38;5;129;01mnot\u001b[39;00m \u001b[38;5;129;01min\u001b[39;00m \u001b[38;5;28mself\u001b[39m\u001b[38;5;241m.\u001b[39m_internal_names_set\n\u001b[0;32m   5897\u001b[0m     \u001b[38;5;129;01mand\u001b[39;00m name \u001b[38;5;129;01mnot\u001b[39;00m \u001b[38;5;129;01min\u001b[39;00m \u001b[38;5;28mself\u001b[39m\u001b[38;5;241m.\u001b[39m_metadata\n\u001b[0;32m   5898\u001b[0m     \u001b[38;5;129;01mand\u001b[39;00m name \u001b[38;5;129;01mnot\u001b[39;00m \u001b[38;5;129;01min\u001b[39;00m \u001b[38;5;28mself\u001b[39m\u001b[38;5;241m.\u001b[39m_accessors\n\u001b[0;32m   5899\u001b[0m     \u001b[38;5;129;01mand\u001b[39;00m \u001b[38;5;28mself\u001b[39m\u001b[38;5;241m.\u001b[39m_info_axis\u001b[38;5;241m.\u001b[39m_can_hold_identifiers_and_holds_name(name)\n\u001b[0;32m   5900\u001b[0m ):\n\u001b[0;32m   5901\u001b[0m     \u001b[38;5;28;01mreturn\u001b[39;00m \u001b[38;5;28mself\u001b[39m[name]\n\u001b[1;32m-> 5902\u001b[0m \u001b[38;5;28;01mreturn\u001b[39;00m \u001b[38;5;28;43mobject\u001b[39;49m\u001b[38;5;241;43m.\u001b[39;49m\u001b[38;5;21;43m__getattribute__\u001b[39;49m\u001b[43m(\u001b[49m\u001b[38;5;28;43mself\u001b[39;49m\u001b[43m,\u001b[49m\u001b[43m \u001b[49m\u001b[43mname\u001b[49m\u001b[43m)\u001b[49m\n",
      "\u001b[1;31mAttributeError\u001b[0m: 'Series' object has no attribute 'swapcase'"
     ]
    }
   ],
   "source": [
    "df['Occupation_lower_capitalize'].strswapcase()"
   ]
  },
  {
   "cell_type": "code",
   "execution_count": null,
   "id": "f5917a95",
   "metadata": {},
   "outputs": [],
   "source": []
  }
 ],
 "metadata": {
  "kernelspec": {
   "display_name": "Python 3 (ipykernel)",
   "language": "python",
   "name": "python3"
  },
  "language_info": {
   "codemirror_mode": {
    "name": "ipython",
    "version": 3
   },
   "file_extension": ".py",
   "mimetype": "text/x-python",
   "name": "python",
   "nbconvert_exporter": "python",
   "pygments_lexer": "ipython3",
   "version": "3.10.9"
  }
 },
 "nbformat": 4,
 "nbformat_minor": 5
}
