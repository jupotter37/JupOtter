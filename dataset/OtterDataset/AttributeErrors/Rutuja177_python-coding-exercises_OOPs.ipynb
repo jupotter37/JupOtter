{
 "cells": [
  {
   "cell_type": "markdown",
   "id": "597115c9",
   "metadata": {},
   "source": [
    "Object Oriented Programming"
   ]
  },
  {
   "cell_type": "code",
   "execution_count": 2,
   "id": "20cb756f",
   "metadata": {
    "scrolled": true
   },
   "outputs": [],
   "source": [
    "#class\n",
    "#object\n",
    "#constructor\n",
    "#self: unique in python"
   ]
  },
  {
   "cell_type": "code",
   "execution_count": 3,
   "id": "1f679468",
   "metadata": {},
   "outputs": [],
   "source": [
    "#inheritance\n",
    "#Encapsulation\n",
    "#Polymorphism\n",
    "#abstraction"
   ]
  },
  {
   "cell_type": "code",
   "execution_count": 1,
   "id": "d8dbcacc",
   "metadata": {},
   "outputs": [],
   "source": [
    "class Name:\n",
    "    n= \"John\""
   ]
  },
  {
   "cell_type": "code",
   "execution_count": 2,
   "id": "50a62f32",
   "metadata": {},
   "outputs": [],
   "source": [
    "#creating one instance of this class\n",
    "n1 = Name() #<-created instance/object"
   ]
  },
  {
   "cell_type": "code",
   "execution_count": 3,
   "id": "e9486e12",
   "metadata": {},
   "outputs": [
    {
     "data": {
      "text/plain": [
       "'John'"
      ]
     },
     "execution_count": 3,
     "metadata": {},
     "output_type": "execute_result"
    }
   ],
   "source": [
    "n1.n"
   ]
  },
  {
   "cell_type": "code",
   "execution_count": 4,
   "id": "e9f3d96d",
   "metadata": {},
   "outputs": [],
   "source": [
    "class Student:\n",
    "    name = \"John\" #static attribute/variable\n",
    "    \n",
    "    def getAge(self, age): #method, any \n",
    "        self.age = age\n",
    "        print(age)"
   ]
  },
  {
   "cell_type": "code",
   "execution_count": 5,
   "id": "c94c7727",
   "metadata": {},
   "outputs": [],
   "source": [
    "s1 = Student()"
   ]
  },
  {
   "cell_type": "code",
   "execution_count": 6,
   "id": "e33285d6",
   "metadata": {},
   "outputs": [
    {
     "name": "stdout",
     "output_type": "stream",
     "text": [
      "28\n"
     ]
    }
   ],
   "source": [
    "s1.getAge(28)"
   ]
  },
  {
   "cell_type": "code",
   "execution_count": 7,
   "id": "b337900c",
   "metadata": {},
   "outputs": [],
   "source": [
    "class Student:\n",
    "    university = \"UTA\"\n",
    "    \n",
    "    def __init__(self, name, age):\n",
    "        self.name = name\n",
    "        self.age  = age\n",
    "    \n",
    "    def welcome(self):\n",
    "        print(f\"Welcome {self.name}!. you are {self.age} years old.\")"
   ]
  },
  {
   "cell_type": "code",
   "execution_count": 8,
   "id": "1e450c30",
   "metadata": {
    "scrolled": true
   },
   "outputs": [
    {
     "name": "stdout",
     "output_type": "stream",
     "text": [
      "Welcome John!. you are 24 years old.\n"
     ]
    }
   ],
   "source": [
    "s1 = Student(\"John\",24)\n",
    "s1.welcome()"
   ]
  },
  {
   "cell_type": "code",
   "execution_count": 9,
   "id": "95e119f1",
   "metadata": {},
   "outputs": [],
   "source": [
    "Tax = .10\n",
    "class Book:\n",
    "    def __init__(self, name, price):\n",
    "        self.name = name\n",
    "        self.price = price\n",
    "        \n",
    "    def calculateFinalPrice(self):\n",
    "        self.finalPrice = self.price + (self.price * Tax)\n",
    "        print(f\"The final price: ${self.finalPrice}.\")\n",
    "        \n",
    "        "
   ]
  },
  {
   "cell_type": "code",
   "execution_count": 10,
   "id": "f116a663",
   "metadata": {},
   "outputs": [],
   "source": [
    "b1 = Book(\"The Habit\", 20)"
   ]
  },
  {
   "cell_type": "code",
   "execution_count": 11,
   "id": "1fdadf4e",
   "metadata": {},
   "outputs": [
    {
     "name": "stdout",
     "output_type": "stream",
     "text": [
      "The final price: $22.0.\n"
     ]
    }
   ],
   "source": [
    "b1.calculateFinalPrice()"
   ]
  },
  {
   "cell_type": "markdown",
   "id": "32589519",
   "metadata": {},
   "source": [
    "<b>Write a program that creates a Car object, prompts the user to enter the car's make, year, and price, and then\n",
    "displays the car's make, year, and total price, including a 10% tax."
   ]
  },
  {
   "cell_type": "code",
   "execution_count": 12,
   "id": "42302f86",
   "metadata": {},
   "outputs": [],
   "source": [
    "Tax = .10\n",
    "class Car:\n",
    "    def __init__(self, make, year, price):\n",
    "        self.make = make\n",
    "        self.year = year\n",
    "        self.price = price\n",
    "        \n",
    "    def calculateTotalPrice(self):\n",
    "        self.totalPrice = self.price + (self.price * Tax) \n",
    "        print(f\"The car info is: {self.make}, {self.year}, ${self.totalPrice}\")\n",
    "    \n",
    "    "
   ]
  },
  {
   "cell_type": "code",
   "execution_count": 13,
   "id": "c665e371",
   "metadata": {},
   "outputs": [],
   "source": [
    "c1 = Car('Toyota', 1990, 30000)"
   ]
  },
  {
   "cell_type": "code",
   "execution_count": 14,
   "id": "4bef292a",
   "metadata": {},
   "outputs": [
    {
     "name": "stdout",
     "output_type": "stream",
     "text": [
      "The car info is: Toyota, 1990, $33000.0\n"
     ]
    }
   ],
   "source": [
    "c1.calculateTotalPrice()"
   ]
  },
  {
   "cell_type": "code",
   "execution_count": 37,
   "id": "4b5861e6",
   "metadata": {},
   "outputs": [
    {
     "name": "stdout",
     "output_type": "stream",
     "text": [
      "Enter the maker:Audi\n",
      "Enter the year:1997\n",
      "Enter the price50000\n",
      "The car info is: Audi, 1997, $55000.0\n"
     ]
    }
   ],
   "source": [
    "make = input(\"Enter the maker:\")\n",
    "year = input(\"Enter the year:\")\n",
    "price = float(input(\"Enter the price\"))\n",
    "\n",
    "c2 = Car(make, year, price)\n",
    "c2.calculateTotalPrice()"
   ]
  },
  {
   "cell_type": "markdown",
   "id": "064c5798",
   "metadata": {},
   "source": [
    "<b>Create a Course class that has a constructor method to initialize the course name and alist of ratings. The class should also have methods to display the course name and itsratings, as well as to calculate and display the average rating. Create an instance of the Course class for a course called \"Java\" with the following ratings: 3, 4, 5. Call the show\n",
    "and average methods of the instance to display its details."
   ]
  },
  {
   "cell_type": "code",
   "execution_count": 1,
   "id": "ac70d0fe",
   "metadata": {},
   "outputs": [],
   "source": [
    "class Course:\n",
    "    def __init__(self, name, ratings):\n",
    "        self.name = name\n",
    "        self.ratings= ratings\n",
    "        \n",
    "    def displayCourseDetails(self):\n",
    "        print(f\"The course name is: {self.name}\")\n",
    "        print(f\"The course rating is: {self.ratings}\")\n",
    "    \n",
    "    def calculateAverageRating(self):\n",
    "        sum = 0\n",
    "        for i in self.ratings:\n",
    "            sum = sum+i\n",
    "        self.avg = sum/len(self.ratings)\n",
    "        print(f\"The avg ratings is {self.avg}\")\n",
    "        "
   ]
  },
  {
   "cell_type": "code",
   "execution_count": 2,
   "id": "96952e97",
   "metadata": {},
   "outputs": [
    {
     "name": "stdout",
     "output_type": "stream",
     "text": [
      "The avg ratings is 2.5\n",
      "The course name is: Python\n",
      "The course rating is: [1, 2, 3, 4]\n"
     ]
    }
   ],
   "source": [
    "c1 = Course('Python', [1,2,3,4])\n",
    "c1.calculateAverageRating()\n",
    "c1.displayCourseDetails()"
   ]
  },
  {
   "cell_type": "markdown",
   "id": "14361008",
   "metadata": {},
   "source": [
    "<b>Bank Account Class: Create a BankAccount class that has attributes for account number, account holder name, and balance. The class should also have methods to deposit and withdraw money, and to display the account information. Create an instance of the BankAccount class and call its methods to test the class functionality."
   ]
  },
  {
   "cell_type": "code",
   "execution_count": 65,
   "id": "d595d18a",
   "metadata": {},
   "outputs": [],
   "source": [
    "class BankAccount():\n",
    "    def __init__(self, accNumber, accHolderName, balance):\n",
    "        self.accNumber = accNumber\n",
    "        self.accHolderName = accHolderName\n",
    "        self.balance = balance\n",
    "    \n",
    "        \n",
    "    def depositMoney(self, depositeAmt):\n",
    "        self.balance += depositeAmt\n",
    "        print(f\"The amount deposited: ${depositeAmt}\")\n",
    "        print(f\"The total amount after deposite is: ${self.balance}\")\n",
    "        \n",
    "        \n",
    "    def withdrawMoney(self, withdrawAmt):\n",
    "        if withdrawAmt > self.balance:\n",
    "            print(\"Insufficient Funds\")\n",
    "        else:\n",
    "            self.balance -= withdrawAmt\n",
    "            print(f\"The deducted amount: ${withdrawAmt}\")\n",
    "            print(f\"The total amount after withdrawal: ${self.balance}\")\n"
   ]
  },
  {
   "cell_type": "code",
   "execution_count": 66,
   "id": "acd5a201",
   "metadata": {},
   "outputs": [],
   "source": [
    "b1 = BankAccount(123, 'Rutuja', 1500)"
   ]
  },
  {
   "cell_type": "code",
   "execution_count": 67,
   "id": "8b0133a5",
   "metadata": {},
   "outputs": [
    {
     "name": "stdout",
     "output_type": "stream",
     "text": [
      "The deducted amount: $1500\n",
      "The total amount after withdrawal: $0\n"
     ]
    }
   ],
   "source": [
    "b1.withdrawMoney(1500)"
   ]
  },
  {
   "cell_type": "code",
   "execution_count": 68,
   "id": "b6ef1270",
   "metadata": {},
   "outputs": [
    {
     "name": "stdout",
     "output_type": "stream",
     "text": [
      "The amount deposited: $500\n",
      "The total amount after deposite is: $500\n"
     ]
    }
   ],
   "source": [
    "b1.depositMoney(500)"
   ]
  },
  {
   "cell_type": "markdown",
   "id": "949c1557",
   "metadata": {},
   "source": [
    "<b>Create an Employee class that has attributes for employee name, employee ID, and salary. The class should also have methods to display the employee information, calculate the yearly salary, and give a raise to the employee. Create an instance of the Employee class and call its methods to test the class functionality"
   ]
  },
  {
   "cell_type": "code",
   "execution_count": 28,
   "id": "e771f1ef",
   "metadata": {},
   "outputs": [],
   "source": [
    "class Employee():\n",
    "    def __init__(self, empName, empID, empSalary):\n",
    "        self.empName = empName\n",
    "        self.empID = empID\n",
    "        self.empSalary = empSalary\n",
    "        \n",
    "    def show(self):\n",
    "        self.yearlySalary = self.empSalary * 12\n",
    "        print(f\"The Employee name is: {self.empName}\")\n",
    "        print(f\"The Employee ID is: {self.empID}\")\n",
    "        print(f\"The Employee yearly salary is: {yearlySalary}\")\n",
    "    \n",
    "    def giveRaise(self,raiseAmount):\n",
    "        self.yearlySalary += raiseAmount\n",
    "        print(f\"The \")"
   ]
  },
  {
   "cell_type": "markdown",
   "id": "173f80b0",
   "metadata": {},
   "source": [
    "<b>Create a Student class that has a constructor method to initialize the student's name and an empty list of courses. The class should also have methods to add a course to the student's list of courses, and to calculate and return the student's GPA. Create a Course class that has attributes for course name and grade. Create an instance of the Student class for a student called\n",
    "\"Emma\" and add the following courses to the student's list of courses: \"Python\" with a grade of 4.0, \"Java\" with a grade of 3.5, and \"PHP\" with a grade of 3.0. Call the getGPA method of the instance to calculate and display the student's GPA."
   ]
  },
  {
   "cell_type": "code",
   "execution_count": 15,
   "id": "2e797f21",
   "metadata": {},
   "outputs": [],
   "source": [
    "class Student:\n",
    "    def __init__(self,name):\n",
    "        self.name = name\n",
    "        self.course = []\n",
    "        \n",
    "    def addCourses(self, course):\n",
    "        self.course.append(course)\n",
    "    \n",
    "    def getGPA(self):\n",
    "        if len(self.course) == 0:\n",
    "            return 0.0\n",
    "        total_gpa = sum()\n",
    "        "
   ]
  },
  {
   "cell_type": "code",
   "execution_count": 16,
   "id": "595fbe65",
   "metadata": {},
   "outputs": [],
   "source": [
    "class Course:\n",
    "    def __init__(self, courseName,grade):\n",
    "        self.courseName = courseName\n",
    "        self.grade = grade"
   ]
  },
  {
   "cell_type": "code",
   "execution_count": 5,
   "id": "c07c49f3",
   "metadata": {},
   "outputs": [],
   "source": [
    "s1 = Student('Emma')\n",
    "c1 = Course('Python', 4.0)\n",
    "s1.addCourses(c1)\n",
    "c2 = Course('Java', 4.0)\n",
    "s1.addCourses(c2)\n",
    "c3 = Course('PHP', 3.0)\n",
    "s1.addCourses(c3)"
   ]
  },
  {
   "cell_type": "code",
   "execution_count": 22,
   "id": "70509bcd",
   "metadata": {},
   "outputs": [],
   "source": [
    "class Car:\n",
    "    def __init__(self,year, make, speed):\n",
    "        self.__year = year\n",
    "        self.__speed= speed\n",
    "        self.__make = make\n",
    "        \n",
    "        \n",
    "    def accelerate(self):\n",
    "        self.__speed = self.__speed + 5\n",
    "        print(self.__speed)\n",
    "        \n",
    "    def brake(self):\n",
    "        self.__speed = self.__speed -5\n",
    "        print(self.__speed)\n",
    "        \n",
    "    def get_speed(self):\n",
    "        print(self.__speed)\n"
   ]
  },
  {
   "cell_type": "code",
   "execution_count": 23,
   "id": "31e2f68e",
   "metadata": {},
   "outputs": [],
   "source": [
    "c1 = Car(1990, 'bmw', 0)"
   ]
  },
  {
   "cell_type": "code",
   "execution_count": 24,
   "id": "01a81ea4",
   "metadata": {},
   "outputs": [
    {
     "name": "stdout",
     "output_type": "stream",
     "text": [
      "5\n"
     ]
    }
   ],
   "source": [
    "c1.accelerate()"
   ]
  },
  {
   "cell_type": "code",
   "execution_count": 25,
   "id": "92e79e00",
   "metadata": {},
   "outputs": [
    {
     "name": "stdout",
     "output_type": "stream",
     "text": [
      "10\n"
     ]
    }
   ],
   "source": [
    "c1.accelerate()"
   ]
  },
  {
   "cell_type": "code",
   "execution_count": 26,
   "id": "31ce9071",
   "metadata": {},
   "outputs": [
    {
     "name": "stdout",
     "output_type": "stream",
     "text": [
      "15\n"
     ]
    }
   ],
   "source": [
    "c1.accelerate()"
   ]
  },
  {
   "cell_type": "code",
   "execution_count": 27,
   "id": "26f29587",
   "metadata": {},
   "outputs": [
    {
     "name": "stdout",
     "output_type": "stream",
     "text": [
      "20\n"
     ]
    }
   ],
   "source": [
    "c1.accelerate()"
   ]
  },
  {
   "cell_type": "code",
   "execution_count": 16,
   "id": "2becb18a",
   "metadata": {},
   "outputs": [
    {
     "name": "stdout",
     "output_type": "stream",
     "text": [
      "25\n"
     ]
    }
   ],
   "source": [
    "c1.accelerate()"
   ]
  },
  {
   "cell_type": "code",
   "execution_count": 17,
   "id": "a67d858a",
   "metadata": {},
   "outputs": [
    {
     "name": "stdout",
     "output_type": "stream",
     "text": [
      "25\n"
     ]
    }
   ],
   "source": [
    "c1.get_speed()"
   ]
  },
  {
   "cell_type": "code",
   "execution_count": 18,
   "id": "c69e8ff3",
   "metadata": {},
   "outputs": [
    {
     "name": "stdout",
     "output_type": "stream",
     "text": [
      "20\n"
     ]
    }
   ],
   "source": [
    "c1.brake()"
   ]
  },
  {
   "cell_type": "code",
   "execution_count": 19,
   "id": "19d03d13",
   "metadata": {},
   "outputs": [
    {
     "name": "stdout",
     "output_type": "stream",
     "text": [
      "15\n"
     ]
    }
   ],
   "source": [
    "c1.brake()"
   ]
  },
  {
   "cell_type": "code",
   "execution_count": 20,
   "id": "d289de59",
   "metadata": {},
   "outputs": [
    {
     "name": "stdout",
     "output_type": "stream",
     "text": [
      "10\n"
     ]
    }
   ],
   "source": [
    "c1.brake()"
   ]
  },
  {
   "cell_type": "code",
   "execution_count": 21,
   "id": "72c775a6",
   "metadata": {
    "scrolled": true
   },
   "outputs": [
    {
     "name": "stdout",
     "output_type": "stream",
     "text": [
      "5\n"
     ]
    }
   ],
   "source": [
    "c1.brake()"
   ]
  },
  {
   "cell_type": "markdown",
   "id": "2dcca162",
   "metadata": {},
   "source": [
    "**POINTS to NOTE"
   ]
  },
  {
   "cell_type": "code",
   "execution_count": 50,
   "id": "0705c0bd",
   "metadata": {},
   "outputs": [],
   "source": [
    "class Book:\n",
    "    def __init__(self, type, year):\n",
    "        self.type = type\n",
    "        self.year = year\n",
    "\n",
    "    class Biography:\n",
    "        def __init__(self, number):\n",
    "            self.number = number\n",
    "\n",
    "        def read(self):\n",
    "            print(\"I am reading...\")"
   ]
  },
  {
   "cell_type": "code",
   "execution_count": 51,
   "id": "33b2893a",
   "metadata": {},
   "outputs": [
    {
     "name": "stdout",
     "output_type": "stream",
     "text": [
      "I am reading...\n"
     ]
    }
   ],
   "source": [
    "b1 = Book(\"The Audacity of Hope\", 2006)\n",
    "r1 = b1.Biography(3)\n",
    "r1.read()"
   ]
  },
  {
   "cell_type": "code",
   "execution_count": 52,
   "id": "8fd79a6a",
   "metadata": {},
   "outputs": [],
   "source": [
    "class Book:\n",
    "    def __init__(self, type, year):\n",
    "        self.type = type\n",
    "        self.year = year\n",
    "    \n",
    "    class Biography:\n",
    "        \n",
    "        def __init__(self, number):\n",
    "            self.number = number\n",
    "        def read(self):\n",
    "            print(\"I am reading...\")\n",
    "            b1 = Book(\"The Audacity of Hope\", 2006)\n",
    "            r1 = b1.Biography()\n",
    "            r1.read()\n"
   ]
  },
  {
   "cell_type": "code",
   "execution_count": 53,
   "id": "a334d8a3",
   "metadata": {},
   "outputs": [
    {
     "ename": "TypeError",
     "evalue": "Book.Biography.__init__() missing 1 required positional argument: 'number'",
     "output_type": "error",
     "traceback": [
      "\u001b[1;31m---------------------------------------------------------------------------\u001b[0m",
      "\u001b[1;31mTypeError\u001b[0m                                 Traceback (most recent call last)",
      "Input \u001b[1;32mIn [53]\u001b[0m, in \u001b[0;36m<cell line: 2>\u001b[1;34m()\u001b[0m\n\u001b[0;32m      1\u001b[0m b1 \u001b[38;5;241m=\u001b[39m Book(\u001b[38;5;124m\"\u001b[39m\u001b[38;5;124mThe Audacity of Hope\u001b[39m\u001b[38;5;124m\"\u001b[39m, \u001b[38;5;241m2006\u001b[39m)\n\u001b[1;32m----> 2\u001b[0m r1 \u001b[38;5;241m=\u001b[39m \u001b[43mb1\u001b[49m\u001b[38;5;241;43m.\u001b[39;49m\u001b[43mBiography\u001b[49m\u001b[43m(\u001b[49m\u001b[43m)\u001b[49m \u001b[38;5;66;03m#missing 1 required positional argument\u001b[39;00m\n\u001b[0;32m      3\u001b[0m r1\u001b[38;5;241m.\u001b[39mread()\n",
      "\u001b[1;31mTypeError\u001b[0m: Book.Biography.__init__() missing 1 required positional argument: 'number'"
     ]
    }
   ],
   "source": [
    "b1 = Book(\"The Audacity of Hope\", 2006)\n",
    "r1 = b1.Biography() #missing 1 required positional argument\n",
    "r1.read()"
   ]
  },
  {
   "cell_type": "code",
   "execution_count": 48,
   "id": "948553a6",
   "metadata": {},
   "outputs": [],
   "source": [
    "TAX_RATE = .10\n",
    "class Book:\n",
    "    def __init__(self):\n",
    "        self.name = \"Book Store\"\n",
    "        \n",
    "    def __init__(self, bookName, price):\n",
    "        self.bookName = bookName\n",
    "\n",
    "    def price(self):\n",
    "        finalPrice = self.price + (self.price * TAX_RATE)\n",
    "        print(\"Final price:\",finalPrice)\n"
   ]
  },
  {
   "cell_type": "code",
   "execution_count": 49,
   "id": "93d9ffdf",
   "metadata": {},
   "outputs": [
    {
     "ename": "TypeError",
     "evalue": "Book.__init__() missing 2 required positional arguments: 'bookName' and 'price'",
     "output_type": "error",
     "traceback": [
      "\u001b[1;31m---------------------------------------------------------------------------\u001b[0m",
      "\u001b[1;31mTypeError\u001b[0m                                 Traceback (most recent call last)",
      "Input \u001b[1;32mIn [49]\u001b[0m, in \u001b[0;36m<cell line: 1>\u001b[1;34m()\u001b[0m\n\u001b[1;32m----> 1\u001b[0m b1 \u001b[38;5;241m=\u001b[39m \u001b[43mBook\u001b[49m\u001b[43m(\u001b[49m\u001b[43m)\u001b[49m\n",
      "\u001b[1;31mTypeError\u001b[0m: Book.__init__() missing 2 required positional arguments: 'bookName' and 'price'"
     ]
    }
   ],
   "source": [
    "b1 = Book()"
   ]
  },
  {
   "cell_type": "markdown",
   "id": "d4447dc6",
   "metadata": {},
   "source": [
    "# Inheritance"
   ]
  },
  {
   "cell_type": "code",
   "execution_count": null,
   "id": "3107f698",
   "metadata": {},
   "outputs": [],
   "source": [
    "#Inheritance: super class sub class, parent class child class, base class"
   ]
  },
  {
   "cell_type": "code",
   "execution_count": 6,
   "id": "03f3de5d",
   "metadata": {},
   "outputs": [],
   "source": [
    "class Machine:\n",
    "    def start(self):\n",
    "        print(\"Machine Starts\")\n",
    "        \n",
    "class Computer(Machine):\n",
    "    def compute(self):\n",
    "        print(\"computer is a machine\")"
   ]
  },
  {
   "cell_type": "code",
   "execution_count": 2,
   "id": "5cbf852d",
   "metadata": {},
   "outputs": [
    {
     "name": "stdout",
     "output_type": "stream",
     "text": [
      "Machine Starts\n"
     ]
    }
   ],
   "source": [
    "machine1 = Machine()\n",
    "machine1.start()"
   ]
  },
  {
   "cell_type": "code",
   "execution_count": 9,
   "id": "fe9c7954",
   "metadata": {},
   "outputs": [
    {
     "name": "stdout",
     "output_type": "stream",
     "text": [
      "Machine Starts\n"
     ]
    }
   ],
   "source": [
    "com1 = Computer()\n",
    "com1.start()"
   ]
  },
  {
   "cell_type": "code",
   "execution_count": 10,
   "id": "3bb469e9",
   "metadata": {},
   "outputs": [],
   "source": [
    "class Employee:\n",
    "    def __init__(self, name):\n",
    "        self.name = name\n",
    "        \n",
    "    def perform(self):\n",
    "        print(f\"My name is {self.name}\")\n",
    "        \n",
    "class Finanace(Employee):\n",
    "    def __init__(self, name, employee_id):\n",
    "        super().__init__(name) #inherited from superclass. \n",
    "        self.employee_id = employee_id"
   ]
  },
  {
   "cell_type": "code",
   "execution_count": 11,
   "id": "f8ce1f96",
   "metadata": {},
   "outputs": [
    {
     "name": "stdout",
     "output_type": "stream",
     "text": [
      "My name is John\n"
     ]
    }
   ],
   "source": [
    "f1 = Finanace('John', 1001)\n",
    "f1.perform()"
   ]
  },
  {
   "cell_type": "code",
   "execution_count": 12,
   "id": "38a618a3",
   "metadata": {},
   "outputs": [],
   "source": [
    "class Player:\n",
    "    def score(self):\n",
    "        pass\n",
    "    \n",
    "class Soccer_player(Player):\n",
    "    def __init__(self, name, number):\n",
    "        self.name = name\n",
    "        self.number = number\n",
    "        \n",
    "    #implement score for soccer_player\n",
    "    def score(self, goals):\n",
    "        self.goals = goals\n",
    "        print(f\"{self.name} bearing {self.number} scored {self.goals}.\")\n",
    "        \n",
    "class Cricket_player(Player):\n",
    "    def __init__(self, name, number):\n",
    "        self.name = name\n",
    "        self.number = number\n",
    "    \n",
    "    def score(self, runs):\n",
    "        self.runs = runs\n",
    "        print(f\"{self.name} bearing {self.number} score {self.runs}.\")"
   ]
  },
  {
   "cell_type": "code",
   "execution_count": 13,
   "id": "a3f9c6be",
   "metadata": {},
   "outputs": [
    {
     "name": "stdout",
     "output_type": "stream",
     "text": [
      "Meccy bearing 10 scored 15.\n"
     ]
    }
   ],
   "source": [
    "sc1 = Soccer_player('Meccy', 10)\n",
    "sc1.score(15)"
   ]
  },
  {
   "cell_type": "code",
   "execution_count": 14,
   "id": "30a49daf",
   "metadata": {},
   "outputs": [
    {
     "name": "stdout",
     "output_type": "stream",
     "text": [
      "Dhoni bearing 7 score 90.\n"
     ]
    }
   ],
   "source": [
    "cr1 = Cricket_player('Dhoni', 7)\n",
    "cr1.score(90)"
   ]
  },
  {
   "cell_type": "code",
   "execution_count": 17,
   "id": "ff801467",
   "metadata": {},
   "outputs": [],
   "source": [
    "class Player:\n",
    "    def __init__(self, name, number):\n",
    "        self.name = name\n",
    "        self.number = number\n",
    "    \n",
    "    def score(self):\n",
    "        pass\n",
    "    \n",
    "class Soccer_player(Player):\n",
    "    def __init__(self, name, number, goals):\n",
    "        super().__init__(name, number)\n",
    "        self.goals = goals\n",
    "  \n",
    "    #implement score for soccer_player\n",
    "    def score(self):\n",
    "        print(f\"{self.name} bearing {self.number} scored {self.goals}.\")\n",
    "        \n",
    "class Cricket_player(Player):\n",
    "    def __init__(self, name, number):\n",
    "        self.name = name\n",
    "        self.number = number\n",
    "    \n",
    "    def score(self, runs):\n",
    "        self.runs = runs\n",
    "        print(f\"{self.name} bearing {self.number} score {self.runs}.\")"
   ]
  },
  {
   "cell_type": "code",
   "execution_count": 18,
   "id": "d4b21a04",
   "metadata": {},
   "outputs": [
    {
     "name": "stdout",
     "output_type": "stream",
     "text": [
      "Virath bearing 90 scored 89.\n"
     ]
    }
   ],
   "source": [
    "sc2 = Soccer_player('Virath', 90, 89)\n",
    "sc2.score()"
   ]
  },
  {
   "cell_type": "markdown",
   "id": "21a9f55d",
   "metadata": {},
   "source": [
    "Create a Person class that has a name attribute and a greet method. Then, create a Student subclass that inherits from Person and adds a student_id attribute and a study method. Finally, create a Teacher subclass that also inherits from Person and\n",
    "adds a teacher_id attribute and a teach method."
   ]
  },
  {
   "cell_type": "code",
   "execution_count": 81,
   "id": "1019a7c1",
   "metadata": {},
   "outputs": [],
   "source": [
    "class Person:\n",
    "    def __init__(self, name):\n",
    "        self.name = name\n",
    "        \n",
    "    def greet(self):\n",
    "        pass\n",
    "    \n",
    "class Student(Person):\n",
    "    def __init__(self, name, student_id):\n",
    "        super().__init__(name)\n",
    "        self.student_id = student_id\n",
    "        \n",
    "    def study_method(self):\n",
    "        print(f\"{self.name} is a student wuth {self.student_id}\")\n",
    "        \n",
    "\n",
    "class Teacher(Person):\n",
    "    def __init__(self, name, teacher_subject):\n",
    "        super().__init__(name)\n",
    "        self.teacher_subject = teacher_subject\n",
    "        \n",
    "    def teach(self):\n",
    "        print(f\"{self.name} is a teacher and teaching {self.teacher_subject}\")"
   ]
  },
  {
   "cell_type": "code",
   "execution_count": 82,
   "id": "abc3ea0b",
   "metadata": {},
   "outputs": [
    {
     "name": "stdout",
     "output_type": "stream",
     "text": [
      "John is a student wuth 1001\n"
     ]
    }
   ],
   "source": [
    "s1 = Student('John', 1001)\n",
    "s1.study_method()"
   ]
  },
  {
   "cell_type": "code",
   "execution_count": 83,
   "id": "76512597",
   "metadata": {},
   "outputs": [
    {
     "name": "stdout",
     "output_type": "stream",
     "text": [
      "Dr.Rostami is a teacher and teaching Data Science\n"
     ]
    }
   ],
   "source": [
    "t1 = Teacher('Dr.Rostami', 'Data Science')\n",
    "t1.teach()"
   ]
  },
  {
   "cell_type": "markdown",
   "id": "210c741a",
   "metadata": {},
   "source": [
    "Create a BankAccount class with balance and interest_rate attributes, and deposit and withdraw methods. Then, create a CheckingAccount subclass that inherits from BankAccount and adds a monthly_fee attribute and a charge_monthly_fee method. Finally,create a SavingsAccount subclass that also inherits from BankAccount and adds a interest_frequency attribute and an add_interest method. Override the withdraw method in each subclass to allow for specific rules related to the type of account."
   ]
  },
  {
   "cell_type": "code",
   "execution_count": 72,
   "id": "66cbbbe0",
   "metadata": {},
   "outputs": [],
   "source": [
    "class BankAccount:\n",
    "    def __init__(self, balance, interest_rate):\n",
    "        self.balance = balance\n",
    "        self.interest_rate = interest_rate\n",
    "    \n",
    "    def deposite(self, amount):\n",
    "        self.balance += amount\n",
    "        print(\"The current balance is\", self.balance)\n",
    "        \n",
    "        \n",
    "    def withdraw(self, amount):\n",
    "        self.balance -= amount\n",
    "        print(\"The current balance is\", self.balance)\n",
    "        \n",
    "class CheckingAccount(BankAccount):\n",
    "    def __init__(self,interest_rate, balance , montly_fee):\n",
    "        super().__init__(balance, interest_rate) #positional arguments; accepts as positional agrument from superclass #1. is balance and second is interest_rate as per superclass\n",
    "        self.montly_fee = montly_fee\n",
    "    \n",
    "    def charge_monthly_fee(self):\n",
    "        self.balance -= self.montly_fee\n",
    "        print(\"The current balance is\", self.balance)\n",
    "        \n",
    "    \n",
    "    def withdraw(self, amount):\n",
    "        if self.balance - amount < 0 :\n",
    "              print(\"Insufficient funds\")\n",
    "        else:\n",
    "            self.balance -= amount\n",
    "            print(\"The current balance is\", self.balance)\n",
    "              \n",
    "            \n",
    "class SavingAccount(BankAccount):\n",
    "    def __init__(self, balance, interest_rate, interst_frequency):\n",
    "        super().__init__(balance, interest_rate) #positional arguments; accepts as positional agrument from superclass\n",
    "        self.interst_frequency = interst_frequency\n",
    "    \n",
    "    def add_interest(self):\n",
    "        interest = self.balance*self.interest_rate * self.interst_frequency \n",
    "        self.balance +=interest\n",
    "        print(\"The balance is\", self.balance)\n",
    "        \n",
    "    def withdraw(self, amount):\n",
    "        if (self. balance) < amount:\n",
    "            print(\"Insufficieent funds\")\n",
    "        else:\n",
    "            self.balance -=amount\n",
    "            print(\"The current balance is\", self.balance)\n",
    "    "
   ]
  },
  {
   "cell_type": "code",
   "execution_count": 73,
   "id": "c5ea078e",
   "metadata": {
    "scrolled": false
   },
   "outputs": [
    {
     "name": "stdout",
     "output_type": "stream",
     "text": [
      "The account has balance: 10\n",
      "The current balance is -40\n",
      "Insufficient funds\n"
     ]
    }
   ],
   "source": [
    "checking = CheckingAccount(5000, 10, 50)\n",
    "print(\"The account has balance:\",checking.balance)\n",
    "checking.charge_monthly_fee() #4950\n",
    "checking.withdraw(950)"
   ]
  },
  {
   "cell_type": "markdown",
   "id": "92f68a22",
   "metadata": {},
   "source": [
    "Define a class Vehicle with a method start_engine() that prints \"Starting engine...\". Create a subclass Car that overrides the start_engine() method to print \"Vroom, vroom!\". Create a subclass Motorcycle that overrides the start_engine() method to print \"Vroom!\". Create instances of Vehicle, Car, and Motorcycle and call the start_engine() method on each."
   ]
  },
  {
   "cell_type": "code",
   "execution_count": 71,
   "id": "0a09977d",
   "metadata": {},
   "outputs": [
    {
     "name": "stdout",
     "output_type": "stream",
     "text": [
      "The balance is 204000\n"
     ]
    }
   ],
   "source": []
  },
  {
   "cell_type": "code",
   "execution_count": 23,
   "id": "01d8a574",
   "metadata": {},
   "outputs": [],
   "source": [
    "class Vehicle:\n",
    "    def start_engine(self):\n",
    "        print(\"Starting engine....\")\n",
    "        \n",
    "\n",
    "class Car(Vehicle):\n",
    "    def start_engine(self):\n",
    "        print(\"Vroom, vroom!! by a car\")\n",
    "    \n",
    "    \n",
    "class Motorcycle(Vehicle):\n",
    "    def start_engine(self):\n",
    "        print(\"VROOM by motorcycle!!\")\n",
    "    "
   ]
  },
  {
   "cell_type": "code",
   "execution_count": 24,
   "id": "47f1c8f2",
   "metadata": {
    "scrolled": true
   },
   "outputs": [
    {
     "name": "stdout",
     "output_type": "stream",
     "text": [
      "Starting engine....\n",
      "Vroom, vroom!! by a car\n",
      "VROOM by motorcycle!!\n"
     ]
    }
   ],
   "source": [
    "v1 = Vehicle()\n",
    "c1 = Car()\n",
    "m1 = Motorcycle()\n",
    "\n",
    "v1.start_engine()\n",
    "c1.start_engine()\n",
    "m1.start_engine()"
   ]
  },
  {
   "cell_type": "markdown",
   "id": "2c1dc31b",
   "metadata": {},
   "source": []
  },
  {
   "cell_type": "markdown",
   "id": "57cc4ef2",
   "metadata": {},
   "source": [
    "Define a class Shape with a method area() that returns the area of the shape. Create a subclass Rectangle that has attributes width and height, and overrides the area() method to calculate the area of the rectangle. Create another subclass Circle that has attribute radius, and overrides the area() method to calculate the area of the circle. Instantiate a Rectangle and a Circle object and call their area() methods."
   ]
  },
  {
   "cell_type": "code",
   "execution_count": 40,
   "id": "9660d1f9",
   "metadata": {},
   "outputs": [],
   "source": [
    "import math\n",
    "\n",
    "class Shape:\n",
    "    def area(self):\n",
    "        return self.area\n",
    "        \n",
    "class Rectangle(Shape):\n",
    "    def __init__(self, width, height):\n",
    "        self.width = width \n",
    "        self.height= height\n",
    "        \n",
    "    def area(self):\n",
    "        self.area = self.width * self.height \n",
    "        return self.area\n",
    "        \n",
    "class Circle:\n",
    "    def __init__(self, radius):\n",
    "        self.radius = radius \n",
    "        \n",
    "    def area(self):\n",
    "        return math.pi*self.radius**2"
   ]
  },
  {
   "cell_type": "code",
   "execution_count": 41,
   "id": "979d4589",
   "metadata": {},
   "outputs": [
    {
     "data": {
      "text/plain": [
       "50.26548245743669"
      ]
     },
     "execution_count": 41,
     "metadata": {},
     "output_type": "execute_result"
    }
   ],
   "source": [
    "s1 = Shape()\n",
    "s1.area()\n",
    "\n",
    "r1 = Rectangle(4,3)\n",
    "r1.area()\n",
    "\n",
    "c1 = Circle(4)\n",
    "c1.area()"
   ]
  },
  {
   "cell_type": "code",
   "execution_count": 29,
   "id": "b4218a63",
   "metadata": {},
   "outputs": [],
   "source": [
    "#two superclass and one subclass"
   ]
  },
  {
   "cell_type": "code",
   "execution_count": 13,
   "id": "2e3b5f87",
   "metadata": {},
   "outputs": [],
   "source": [
    "class Person:\n",
    "    def __init__(self, name, age):\n",
    "        self.name = name\n",
    "        self.age = age\n",
    "        \n",
    "    def introduce(self):\n",
    "        print(f\"Hi, I am {self.name}, I am {self.age} years old\")\n",
    "        \n",
    "        \n",
    "class Employee:\n",
    "    def __init__(self, id, salary):\n",
    "        self.id = id\n",
    "        self.salary = salary\n",
    "        \n",
    "    def work(self):\n",
    "        print(f\"I am working\")\n",
    "        \n",
    "class Manager(Person, Employee):\n",
    "    def __init__(self, name, age, id, salary, dept):\n",
    "        Person.__init__(self, name, age)\n",
    "        Employee.__init__(self,id, salary)\n",
    "        self.dept = dept\n",
    "        \n",
    "    def manage(self):\n",
    "        print(f\"I am managing {self.name} department.\")"
   ]
  },
  {
   "cell_type": "code",
   "execution_count": 14,
   "id": "24a6f82f",
   "metadata": {},
   "outputs": [
    {
     "name": "stdout",
     "output_type": "stream",
     "text": [
      "I am managing John department.\n"
     ]
    }
   ],
   "source": [
    "m1 = Manager('John', 32, 1001, 30000, 'Technial Recruiter')\n",
    "m1.manage()"
   ]
  },
  {
   "cell_type": "code",
   "execution_count": 5,
   "id": "71b17be1",
   "metadata": {},
   "outputs": [],
   "source": [
    "class Animal:\n",
    "    def __init__(self, name):\n",
    "        self.name = name\n",
    "        \n",
    "    def run(self):\n",
    "        print(\"run\")\n",
    "    \n",
    "class Mammal(Animal):\n",
    "    def __init__(self, name, fur_color):\n",
    "        Animal.__init__(self, name)\n",
    "        self.fur_color = fur_color\n",
    "        \n",
    "    \n",
    "    def eat(self):\n",
    "        print(f\"{self.name} is having food now\")\n",
    "        \n",
    "class Reptile(Animal):\n",
    "    def __init__(self, name, scale_color):\n",
    "        Animal.__init__(self, name)\n",
    "        self.scale_color = scale_color\n",
    "        \n",
    "class Platipus(Mammal, Reptile):\n",
    "    def __init__(self, name, fur_color, scale_color):\n",
    "        Mammal.__init__(self, name, fur_color)\n",
    "        Reptile.__init__(self, name, scale_color)\n",
    "        \n",
    "    def swim(self):\n",
    "        print(f\"I can swim\")\n",
    "    "
   ]
  },
  {
   "cell_type": "code",
   "execution_count": 6,
   "id": "7d332ea0",
   "metadata": {},
   "outputs": [
    {
     "name": "stdout",
     "output_type": "stream",
     "text": [
      "Jack is having food now\n"
     ]
    }
   ],
   "source": [
    "p1 = Platipus('Jack', 'brown', 'green')\n",
    "p1.eat()"
   ]
  },
  {
   "cell_type": "markdown",
   "id": "f1ca06b0",
   "metadata": {},
   "source": [
    "**Some points to REMEMBER:**\n",
    "1. Whenever calling superclass, never take self as argument when calling superclass. otherwise will through error\n",
    "2. But if giving name of superclass while getting agruments of the superclass then self needs to be mentioned.\n",
    "2. Always give 'self' in any methods of class."
   ]
  },
  {
   "cell_type": "code",
   "execution_count": 46,
   "id": "a4d93fc2",
   "metadata": {},
   "outputs": [],
   "source": [
    "class Animal:\n",
    "    def __init__(self, breed, name):\n",
    "        self.breed = breed\n",
    "        self.name = name\n",
    "        \n",
    "class Dog(Animal):\n",
    "    def __init__(self, breed, name, isPet):\n",
    "        super().__init__(breed, name)\n",
    "        self.isPet= isPet\n",
    "        "
   ]
  },
  {
   "cell_type": "code",
   "execution_count": 47,
   "id": "5236f6c9",
   "metadata": {},
   "outputs": [
    {
     "name": "stdout",
     "output_type": "stream",
     "text": [
      "John\n"
     ]
    }
   ],
   "source": [
    "d1 = Dog('Golden Retriever', 'John', True)\n",
    "print(d1.name)"
   ]
  },
  {
   "cell_type": "code",
   "execution_count": 42,
   "id": "15fde4b7",
   "metadata": {},
   "outputs": [],
   "source": [
    "class Animal:\n",
    "    def __init__(self, breed, name):\n",
    "        self.breed = breed\n",
    "        self.name = name\n",
    "\n",
    "class Dog(Animal):\n",
    "    def __init__(self, isPet, breed, name):\n",
    "        super().__init__(self, breed, name)\n",
    "        self.isPet = isPet"
   ]
  },
  {
   "cell_type": "code",
   "execution_count": 43,
   "id": "749cbecb",
   "metadata": {},
   "outputs": [
    {
     "ename": "TypeError",
     "evalue": "Animal.__init__() takes 3 positional arguments but 4 were given",
     "output_type": "error",
     "traceback": [
      "\u001b[1;31m---------------------------------------------------------------------------\u001b[0m",
      "\u001b[1;31mTypeError\u001b[0m                                 Traceback (most recent call last)",
      "Input \u001b[1;32mIn [43]\u001b[0m, in \u001b[0;36m<cell line: 1>\u001b[1;34m()\u001b[0m\n\u001b[1;32m----> 1\u001b[0m dog1 \u001b[38;5;241m=\u001b[39m \u001b[43mDog\u001b[49m\u001b[43m(\u001b[49m\u001b[38;5;28;43;01mTrue\u001b[39;49;00m\u001b[43m,\u001b[49m\u001b[43m \u001b[49m\u001b[38;5;124;43m'\u001b[39;49m\u001b[38;5;124;43mGolden Retriever\u001b[39;49m\u001b[38;5;124;43m'\u001b[39;49m\u001b[43m,\u001b[49m\u001b[43m \u001b[49m\u001b[38;5;124;43m'\u001b[39;49m\u001b[38;5;124;43mCooper\u001b[39;49m\u001b[38;5;124;43m'\u001b[39;49m\u001b[43m)\u001b[49m\n\u001b[0;32m      2\u001b[0m \u001b[38;5;28mprint\u001b[39m(dog1\u001b[38;5;241m.\u001b[39mname)\n",
      "Input \u001b[1;32mIn [42]\u001b[0m, in \u001b[0;36mDog.__init__\u001b[1;34m(self, isPet, breed, name)\u001b[0m\n\u001b[0;32m      7\u001b[0m \u001b[38;5;28;01mdef\u001b[39;00m \u001b[38;5;21m__init__\u001b[39m(\u001b[38;5;28mself\u001b[39m, isPet, breed, name):\n\u001b[1;32m----> 8\u001b[0m     \u001b[38;5;28;43msuper\u001b[39;49m\u001b[43m(\u001b[49m\u001b[43m)\u001b[49m\u001b[38;5;241;43m.\u001b[39;49m\u001b[38;5;21;43m__init__\u001b[39;49m\u001b[43m(\u001b[49m\u001b[38;5;28;43mself\u001b[39;49m\u001b[43m,\u001b[49m\u001b[43m \u001b[49m\u001b[43mbreed\u001b[49m\u001b[43m,\u001b[49m\u001b[43m \u001b[49m\u001b[43mname\u001b[49m\u001b[43m)\u001b[49m\n\u001b[0;32m      9\u001b[0m     \u001b[38;5;28mself\u001b[39m\u001b[38;5;241m.\u001b[39misPet \u001b[38;5;241m=\u001b[39m isPet\n",
      "\u001b[1;31mTypeError\u001b[0m: Animal.__init__() takes 3 positional arguments but 4 were given"
     ]
    }
   ],
   "source": [
    "dog1 = Dog(True, 'Golden Retriever', 'Cooper')\n",
    "print(dog1.name)"
   ]
  },
  {
   "cell_type": "markdown",
   "id": "feb12842",
   "metadata": {},
   "source": [
    "# Encapsulation"
   ]
  },
  {
   "cell_type": "markdown",
   "id": "12cda16c",
   "metadata": {},
   "source": [
    "Python Access Modifiers\n",
    "Let us see the access modifiers in Python to understand the concept of Encapsulation and data hiding −\n",
    "\n",
    "<li>public</li>\n",
    "<li>private</li>\n",
    "<li>protected</li>\n",
    "\n",
    "public: The public member is accessible from inside or outside the class.<br>\n",
    "private: The private member is accessible only inside class. __age <br>\n",
    "protected: The protected member is accessible. from inside the class and its sub-class.  _age\n",
    "\n",
    "\n"
   ]
  },
  {
   "cell_type": "code",
   "execution_count": 17,
   "id": "9cb8f1b4",
   "metadata": {},
   "outputs": [],
   "source": [
    "class BankAccount:\n",
    "    def __init__(self, account, balance):\n",
    "        self._account = account #Protected, accesible inseide class and its sub class\n",
    "        self._balance = balance #protected\n",
    "        \n",
    "    def get_balance(self):\n",
    "        return self._balance"
   ]
  },
  {
   "cell_type": "code",
   "execution_count": 130,
   "id": "328b8123",
   "metadata": {},
   "outputs": [
    {
     "name": "stdout",
     "output_type": "stream",
     "text": [
      "1001\n"
     ]
    },
    {
     "ename": "AttributeError",
     "evalue": "'BankAccount' object has no attribute 'get_balance'",
     "output_type": "error",
     "traceback": [
      "\u001b[1;31m---------------------------------------------------------------------------\u001b[0m",
      "\u001b[1;31mAttributeError\u001b[0m                            Traceback (most recent call last)",
      "Input \u001b[1;32mIn [130]\u001b[0m, in \u001b[0;36m<cell line: 3>\u001b[1;34m()\u001b[0m\n\u001b[0;32m      1\u001b[0m ba \u001b[38;5;241m=\u001b[39m BankAccount(\u001b[38;5;241m1001\u001b[39m, \u001b[38;5;241m5000\u001b[39m)\n\u001b[0;32m      2\u001b[0m \u001b[38;5;28mprint\u001b[39m(ba\u001b[38;5;241m.\u001b[39mbalance)\n\u001b[1;32m----> 3\u001b[0m \u001b[43mba\u001b[49m\u001b[38;5;241;43m.\u001b[39;49m\u001b[43mget_balance\u001b[49m()\n",
      "\u001b[1;31mAttributeError\u001b[0m: 'BankAccount' object has no attribute 'get_balance'"
     ]
    }
   ],
   "source": [
    "ba = BankAccount(1001, 5000)\n",
    "print(ba.balance)\n",
    "ba.get_balance()"
   ]
  },
  {
   "cell_type": "code",
   "execution_count": 62,
   "id": "869646e9",
   "metadata": {},
   "outputs": [],
   "source": [
    "class Car:\n",
    "    def __init__(self, make,model, year, milage):\n",
    "        self.make = make\n",
    "        self.model = model\n",
    "        self.year = year\n",
    "        self.milage = milage\n",
    "        \n",
    "        \n",
    "    def set_make(self, make):\n",
    "        self._make = make\n",
    "    \n",
    "    def get_make(self):\n",
    "        return self._make\n",
    "    \n",
    "    def set_model(self, model):\n",
    "        self._model = model\n",
    "    \n",
    "    def get_model(self, model):\n",
    "        return self._model\n",
    "\n",
    "    def set_year(self, year):\n",
    "        self._year = year\n",
    "    \n",
    "    def get_year(self, year):\n",
    "        return self._year\n",
    "    \n",
    "    def set_milage(self, milage):\n",
    "        self._milage = milage\n",
    "    \n",
    "    def get_milage(self):\n",
    "        return self._milage"
   ]
  },
  {
   "cell_type": "code",
   "execution_count": 63,
   "id": "5e11d4e9",
   "metadata": {},
   "outputs": [
    {
     "data": {
      "text/plain": [
       "1000"
      ]
     },
     "execution_count": 63,
     "metadata": {},
     "output_type": "execute_result"
    }
   ],
   "source": [
    "c1 = Car(\"Audi\", \"Q5\", 2022, 7000)\n",
    "c1.set_milage(1000)\n",
    "c1.get_milage()"
   ]
  },
  {
   "cell_type": "code",
   "execution_count": 102,
   "id": "a1e4b39b",
   "metadata": {},
   "outputs": [],
   "source": [
    "class Continent:\n",
    "    def __init__(self, name, size, population):\n",
    "        self.name = name #public\n",
    "        self._size = size #protected\n",
    "        self.__population = population #private\n",
    "    \n",
    "    def get_population(self): #created get method to get private\n",
    "        return self.__population\n",
    "    \n",
    "    def get_size(self):\n",
    "        return self._size\n",
    "        \n",
    "        \n",
    "class Asia(Continent):\n",
    "    def __init__(self, name, size, population, climate):\n",
    "        super().__init__(name, size, population) #calls the constructor of the superclass\n",
    "        self.climate = climate"
   ]
  },
  {
   "cell_type": "code",
   "execution_count": 103,
   "id": "1473282a",
   "metadata": {},
   "outputs": [
    {
     "name": "stdout",
     "output_type": "stream",
     "text": [
      "NA\n",
      "Large\n",
      "Moderate\n"
     ]
    }
   ],
   "source": [
    "con1 = Continent('NA','Large', 'Moderate')\n",
    "print(con1.name)\n",
    "print(con1._size)\n",
    "print(con1.get_population()) #cannot access. only access inside the class"
   ]
  },
  {
   "cell_type": "code",
   "execution_count": 109,
   "id": "c4ceb8b1",
   "metadata": {
    "scrolled": true
   },
   "outputs": [
    {
     "name": "stdout",
     "output_type": "stream",
     "text": [
      "India\n",
      "Large\n",
      "Moderate\n",
      "sunny\n"
     ]
    }
   ],
   "source": [
    "a1 = Asia('India', 'Large', 'Moderate', 'sunny')\n",
    "print(a1.name) #will print as it is public\n",
    "print(a1._size) #will print as it is protected which means it is accessible to its subclass\n",
    "print(a1.get_population()) #will not print , will access through get_population method\n",
    "print(a1.climate) #public"
   ]
  },
  {
   "cell_type": "code",
   "execution_count": 112,
   "id": "20590a2c",
   "metadata": {
    "scrolled": true
   },
   "outputs": [
    {
     "name": "stdout",
     "output_type": "stream",
     "text": [
      "John Doe\n",
      "johndoe@example.com\n",
      "Jane Doe\n",
      "janedoe@example.com\n",
      "Invalid email format\n"
     ]
    }
   ],
   "source": [
    "class Manager:\n",
    "    def __init__(self, name, email):\n",
    "        self.__name = name #private\n",
    "        self.__email = email #private\n",
    "        \n",
    "    def get_name(self):\n",
    "        return self.__name\n",
    "    \n",
    "    def set_name(self, name):\n",
    "        self.__name = name\n",
    "        \n",
    "    def get_email(self):\n",
    "        return self.__email\n",
    "    \n",
    "    def set_email(self, email):\n",
    "        if '@' not in email:\n",
    "            raise ValueError(\"Invalid email format\")   \n",
    "        self.__email = email\n",
    "        \n",
    "try:\n",
    "    manager = Manager(\"John Doe\", \"johndoe@example.com\")\n",
    "    print(manager.get_name()) # Output: John Doe\n",
    "    print(manager.get_email()) # Output: johndoe@example.com\n",
    "    manager.set_name(\"Jane Doe\")\n",
    "    manager.set_email(\"janedoe@example.com\")\n",
    "    print(manager.get_name()) # Output: Jane Doe\n",
    "    print(manager.get_email()) # Output: janedoe@example.com\n",
    "    manager.set_email(\"invalid_email\")\n",
    "except ValueError as error:\n",
    "    print(error)"
   ]
  },
  {
   "cell_type": "code",
   "execution_count": 135,
   "id": "1ff082d6",
   "metadata": {},
   "outputs": [],
   "source": [
    "class Book:\n",
    "    def __init__(self, title, author):\n",
    "        self._title = title #protected\n",
    "        self._author = author #protected\n",
    "        \n",
    "class Library(Book):\n",
    "    def __init__(self):\n",
    "        self.__books = [] #private attribute only accessed inside class\n",
    "        \n",
    "    def add_book(self, book):\n",
    "        self.__books.append(book) #add a book to private book\n",
    "        \n",
    "    def remove_book(self, book):\n",
    "        if book in self.__books:\n",
    "            self.__books.remove(book) #remove a book object from private book attribute\n",
    "    \n",
    "    def find_book(self, title):\n",
    "        for book in self.__books:\n",
    "            if book._title == title:\n",
    "                return book #find the book object in the library by title\n",
    "            \n",
    "    def list_books(self):\n",
    "        return self.__books.copy() # return a copy of the private books attribute\n",
    "    \n",
    "    \n",
    "class Digital(Book):\n",
    "    def __init__(self,title,author,edition):\n",
    "        Book.__init__(self,title,author) # need to mention self\n",
    "        self.edition = edition\n",
    "            "
   ]
  },
  {
   "cell_type": "code",
   "execution_count": 140,
   "id": "6d6a25cc",
   "metadata": {
    "scrolled": true
   },
   "outputs": [
    {
     "name": "stdout",
     "output_type": "stream",
     "text": [
      "Books in the library:\n",
      "Time managment by dr.Hankins\n",
      "Subconicouse Mind by Chetan Baghat\n",
      "It Ends With Us by Colleen Hoover\n",
      "\n",
      "Books in the library:\n",
      "Time managment by dr.Hankins\n",
      "Subconicouse Mind by Chetan Baghat\n",
      "\n",
      "The book found\n"
     ]
    }
   ],
   "source": [
    "book1 = Book(\"Time managment\", \"dr.Hankins\")\n",
    "book2 = Book(\"Subconicouse Mind\", \"Chetan Baghat\")\n",
    "book3 = Book(\"It Ends With Us\", \"Colleen Hoover\")\n",
    "\n",
    "central_library = Library()\n",
    "#add all the books in the 'Central Library'\n",
    "central_library.add_book(book1)\n",
    "central_library.add_book(book2)\n",
    "central_library.add_book(book3)\n",
    "\n",
    "#list all the book in 'Central Library'\n",
    "print(\"Books in the library:\")\n",
    "for book in central_library.list_books():\n",
    "    print(f\"{book._title} by {book._author}\")\n",
    "    \n",
    "#remove book from the library\n",
    "central_library.remove_book(book3)\n",
    "print()\n",
    "#list all the book in 'Central Library'\n",
    "print(\"Books in the library:\")\n",
    "for book in central_library.list_books():\n",
    "    print(f\"{book._title} by {book._author}\")\n",
    "    \n",
    "    \n",
    "print()\n",
    "#find a book\n",
    "found_book = central_library.find_book(\"Time managment\")\n",
    "if found_book:\n",
    "    print(\"The book found\")\n",
    "else:\n",
    "    print(\"Book not found\")"
   ]
  },
  {
   "cell_type": "code",
   "execution_count": 141,
   "id": "87e61847",
   "metadata": {},
   "outputs": [],
   "source": [
    "import random\n",
    "\n",
    "class LotteryTicket:\n",
    "    def __init__(self):\n",
    "        self.__numbers = []\n",
    "        self.__generate_numbers() \n",
    "        \n",
    "    def get_numbers(self):\n",
    "        return self.__numbers\n",
    "    \n",
    "    def __generate_numbers(self):\n",
    "        while len(self.__numbers) < 6:\n",
    "            number = random.randint(1,49)\n",
    "            if number not in self.__numbers:\n",
    "                self.__numbers.append(number)\n",
    "            "
   ]
  },
  {
   "cell_type": "code",
   "execution_count": 144,
   "id": "4a358de7",
   "metadata": {},
   "outputs": [
    {
     "name": "stdout",
     "output_type": "stream",
     "text": [
      "[17, 12, 24, 41, 22, 32]\n"
     ]
    }
   ],
   "source": [
    "lt1 = LotteryTicket()\n",
    "res = lt1.get_numbers()\n",
    "print(res)"
   ]
  },
  {
   "cell_type": "markdown",
   "id": "0c5fdcab",
   "metadata": {},
   "source": [
    "1. Create a class called BankAccount with a private attribute called __balance. Implement methods to deposit(), withdraw(), and check_balance()"
   ]
  },
  {
   "cell_type": "code",
   "execution_count": 148,
   "id": "fb5c409c",
   "metadata": {},
   "outputs": [],
   "source": [
    "class BankAccount():\n",
    "    def __init__(self, balance =0):\n",
    "        self.__balance = balance\n",
    "        \n",
    "    def deposite(self, amount):\n",
    "        self.__balance += amount\n",
    "        \n",
    "    \n",
    "    def withdraw(self, amount):\n",
    "        self.__balance -= amount\n",
    "    \n",
    "    def check_balance(self):\n",
    "        return self.__balance\n",
    "        "
   ]
  },
  {
   "cell_type": "code",
   "execution_count": 149,
   "id": "0c98c969",
   "metadata": {},
   "outputs": [
    {
     "data": {
      "text/plain": [
       "100"
      ]
     },
     "execution_count": 149,
     "metadata": {},
     "output_type": "execute_result"
    }
   ],
   "source": [
    "b1 =BankAccount(1000)\n",
    "b1.withdraw(900)\n",
    "b1.check_balance()"
   ]
  },
  {
   "cell_type": "markdown",
   "id": "a7554657",
   "metadata": {},
   "source": [
    "Create a class called Car with a private attribute called _fuel_level. Implement methods to get and set the fuel level."
   ]
  },
  {
   "cell_type": "code",
   "execution_count": 150,
   "id": "a969194d",
   "metadata": {},
   "outputs": [],
   "source": [
    "class Car:\n",
    "    def __init__(self, fuel_level):\n",
    "        self.__fuel_level = fuel_level\n",
    "        \n",
    "    def get_fuel_level(self):\n",
    "        return self.__fuel_level\n",
    "    \n",
    "    def set_fuel_level(self, fuel_level):\n",
    "        self.__fuel_level = fuel_level"
   ]
  },
  {
   "cell_type": "code",
   "execution_count": 151,
   "id": "91b7ee90",
   "metadata": {},
   "outputs": [
    {
     "data": {
      "text/plain": [
       "5"
      ]
     },
     "execution_count": 151,
     "metadata": {},
     "output_type": "execute_result"
    }
   ],
   "source": [
    "c1 = Car(5)\n",
    "c1.get_fuel_level()"
   ]
  },
  {
   "cell_type": "markdown",
   "id": "0442c43a",
   "metadata": {},
   "source": [
    "**REMEBER**"
   ]
  },
  {
   "cell_type": "code",
   "execution_count": 115,
   "id": "d77f38b7",
   "metadata": {
    "scrolled": true
   },
   "outputs": [],
   "source": [
    "class Nissan:\n",
    "    def __init__(self, type, year):\n",
    "        self.__type = type\n",
    "        self.__year = year"
   ]
  },
  {
   "cell_type": "code",
   "execution_count": 116,
   "id": "d81a4a71",
   "metadata": {
    "scrolled": true
   },
   "outputs": [
    {
     "ename": "AttributeError",
     "evalue": "'Nissan' object has no attribute '__Nissan__year'",
     "output_type": "error",
     "traceback": [
      "\u001b[1;31m---------------------------------------------------------------------------\u001b[0m",
      "\u001b[1;31mAttributeError\u001b[0m                            Traceback (most recent call last)",
      "Input \u001b[1;32mIn [116]\u001b[0m, in \u001b[0;36m<cell line: 2>\u001b[1;34m()\u001b[0m\n\u001b[0;32m      1\u001b[0m nissan \u001b[38;5;241m=\u001b[39m Nissan(\u001b[38;5;124m\"\u001b[39m\u001b[38;5;124mCompact\u001b[39m\u001b[38;5;124m\"\u001b[39m, \u001b[38;5;241m2022\u001b[39m)\n\u001b[1;32m----> 2\u001b[0m \u001b[38;5;28mprint\u001b[39m(\u001b[43mnissan\u001b[49m\u001b[38;5;241;43m.\u001b[39;49m\u001b[43m__Nissan__year\u001b[49m)\n",
      "\u001b[1;31mAttributeError\u001b[0m: 'Nissan' object has no attribute '__Nissan__year'"
     ]
    }
   ],
   "source": [
    "nissan = Nissan(\"Compact\", 2022)\n",
    "print(nissan.__Nissan__year)"
   ]
  },
  {
   "cell_type": "code",
   "execution_count": 118,
   "id": "23799f92",
   "metadata": {},
   "outputs": [],
   "source": [
    "class Nissan:\n",
    "    def __init__(self, type, year):\n",
    "        self.__type = type\n",
    "        self.__year = year\n",
    "\n",
    "    def get_type(self):\n",
    "        return self.__type\n",
    "\n",
    "    def get_year(self):\n",
    "        return self.__year\n"
   ]
  },
  {
   "cell_type": "code",
   "execution_count": 119,
   "id": "1005a020",
   "metadata": {},
   "outputs": [
    {
     "name": "stdout",
     "output_type": "stream",
     "text": [
      "Compact\n",
      "2022\n"
     ]
    }
   ],
   "source": [
    "nissan = Nissan(\"Compact\", 2022)\n",
    "print(nissan.get_type())  # prints \"Compact\"\n",
    "print(nissan.get_year())  # prints 2022"
   ]
  },
  {
   "cell_type": "code",
   "execution_count": null,
   "id": "233a85d6",
   "metadata": {},
   "outputs": [],
   "source": [
    "class Nissan:\n",
    "    def __init__(self, type, year):\n",
    "        self.__type = type\n",
    "        self.__year = year"
   ]
  },
  {
   "cell_type": "code",
   "execution_count": 114,
   "id": "83a8a2ca",
   "metadata": {
    "scrolled": true
   },
   "outputs": [
    {
     "name": "stdout",
     "output_type": "stream",
     "text": [
      "2022\n"
     ]
    }
   ],
   "source": [
    "nissan = Nissan(\"Compact\", 2022)\n",
    "print(nissan._Nissan__year)"
   ]
  },
  {
   "cell_type": "markdown",
   "id": "01c1a7b0",
   "metadata": {},
   "source": [
    "In Python, a double underscore prefix to a variable or method name invokes name mangling, which changes the name of the attribute to include the class name in the format _ClassName__attribute. <br>\n",
    "This is used to make the attribute name unique to the class and to prevent accidental overwriting of the attribute by subclasses."
   ]
  },
  {
   "cell_type": "markdown",
   "id": "6433a0da",
   "metadata": {},
   "source": [
    "# Polymorphism\n",
    "one thing multiple forms"
   ]
  },
  {
   "cell_type": "markdown",
   "id": "f12e6fb9",
   "metadata": {},
   "source": [
    "overriding"
   ]
  },
  {
   "cell_type": "code",
   "execution_count": 14,
   "id": "30f8cd21",
   "metadata": {},
   "outputs": [],
   "source": [
    "class Animal:\n",
    "    def speak(self):\n",
    "        pass\n",
    "    \n",
    "class Dog(Animal):\n",
    "    def speak(self):\n",
    "        print(\"Barking....\")\n",
    "        \n",
    "class Cat(Animal):\n",
    "    def speak(self):\n",
    "        print(\"Meow....\")"
   ]
  },
  {
   "cell_type": "code",
   "execution_count": 15,
   "id": "fd78eb00",
   "metadata": {},
   "outputs": [
    {
     "name": "stdout",
     "output_type": "stream",
     "text": [
      "Barking....\n"
     ]
    }
   ],
   "source": [
    "d1 = Dog()\n",
    "d1.speak()"
   ]
  },
  {
   "cell_type": "code",
   "execution_count": 16,
   "id": "664593d2",
   "metadata": {},
   "outputs": [
    {
     "name": "stdout",
     "output_type": "stream",
     "text": [
      "Meow....\n"
     ]
    }
   ],
   "source": [
    "c1 = Cat()\n",
    "c1.speak()"
   ]
  },
  {
   "cell_type": "code",
   "execution_count": 18,
   "id": "1de7c081",
   "metadata": {},
   "outputs": [],
   "source": [
    "class Shape:\n",
    "    def calculateArea(self):\n",
    "        pass\n",
    "    \n",
    "class Rectangle(Shape):\n",
    "    def calculateArea(self, w, l):\n",
    "        area = w * l\n",
    "        print(area)\n",
    "\n",
    "class Square(Shape):\n",
    "    def calculateArea(self, l):\n",
    "        area = l * l\n",
    "        print(area)\n",
    "    "
   ]
  },
  {
   "cell_type": "code",
   "execution_count": 20,
   "id": "447d4888",
   "metadata": {},
   "outputs": [
    {
     "name": "stdout",
     "output_type": "stream",
     "text": [
      "6\n"
     ]
    }
   ],
   "source": [
    "r1 = Rectangle()\n",
    "r1.calculateArea(2,3)"
   ]
  },
  {
   "cell_type": "code",
   "execution_count": 21,
   "id": "99ab5ff5",
   "metadata": {},
   "outputs": [
    {
     "name": "stdout",
     "output_type": "stream",
     "text": [
      "9\n"
     ]
    }
   ],
   "source": [
    "s1 = Square()\n",
    "s1.calculateArea(3)"
   ]
  },
  {
   "cell_type": "markdown",
   "id": "e031de39",
   "metadata": {},
   "source": [
    "Create a class Vehicle with methods start and stop that simulate starting and stopping the vehicle. Create subclasses Car and Motorcycle that inherit from Vehicle and override the start method to include additional features specific to each vehicle type."
   ]
  },
  {
   "cell_type": "code",
   "execution_count": 25,
   "id": "06b960ab",
   "metadata": {},
   "outputs": [],
   "source": [
    "class Vehicle:\n",
    "    def start(self):\n",
    "        print(\"Vehicle Started...\")\n",
    "        \n",
    "    def stop(self):\n",
    "        print(\"Vehicle Stopped...\")\n",
    "        \n",
    "class Car(Vehicle):\n",
    "    def start(self):\n",
    "        super().start()\n",
    "        print(\"Car starts with remote control\")\n",
    "        \n",
    "class Motorcycle(Vehicle):\n",
    "    def start(self):\n",
    "        super().start()\n",
    "        print(\"Motorcyle started and has two wheels\")"
   ]
  },
  {
   "cell_type": "code",
   "execution_count": 24,
   "id": "960f1bbc",
   "metadata": {
    "scrolled": true
   },
   "outputs": [
    {
     "name": "stdout",
     "output_type": "stream",
     "text": [
      "Vehicle Started...\n",
      "Car starts with remote control\n"
     ]
    }
   ],
   "source": [
    "car1 = Car()\n",
    "car1.start()"
   ]
  },
  {
   "cell_type": "code",
   "execution_count": 26,
   "id": "1d2f26e8",
   "metadata": {
    "scrolled": false
   },
   "outputs": [
    {
     "name": "stdout",
     "output_type": "stream",
     "text": [
      "Vehicle Started...\n",
      "Motorcyle started and has two wheels\n"
     ]
    }
   ],
   "source": [
    "motocyle = Motorcycle()\n",
    "motocyle.start()"
   ]
  },
  {
   "cell_type": "markdown",
   "id": "3081cfda",
   "metadata": {},
   "source": [
    "Create a class Employee with a method calculate_salary that returns the base salary of the employee. Create subclasses Manager and Developer that inherit from Employee and override the calculate_salary method to include additional bonuses or allowances."
   ]
  },
  {
   "cell_type": "code",
   "execution_count": 181,
   "id": "55af819e",
   "metadata": {},
   "outputs": [],
   "source": [
    "class Employee:\n",
    "    def __init__(self, name, base_salary):\n",
    "        self.name = name\n",
    "        self.base_salary = base_salary\n",
    "        \n",
    "    def calculate_salary(self):\n",
    "        return self.base_salary\n",
    "    \n",
    "    def __str__(self):\n",
    "        return f\"{self.name}, {self.base_salary}\"\n",
    "    \n",
    "class Manager(Employee):\n",
    "    def __init__(self, name,base_salary):\n",
    "        super().__init__(name, base_salary)\n",
    "        self.bonus = 800\n",
    "        \n",
    "    def calculateTotalSalary(self):\n",
    "        return super().calculate_salary() + self.bonus\n",
    "    \n",
    "class Developer(Employee):\n",
    "    def __init__(self,name, base_salary):\n",
    "        super().__init__(name, base_salary)\n",
    "        self.allowance = 1000\n",
    "        \n",
    "    def calculateTotalSalary(self):\n",
    "        return super().calculate_salary() + self.allowance"
   ]
  },
  {
   "cell_type": "code",
   "execution_count": 184,
   "id": "46141494",
   "metadata": {
    "scrolled": true
   },
   "outputs": [
    {
     "name": "stdout",
     "output_type": "stream",
     "text": [
      "This is the base salary of manager 10000\n",
      "Total salary 10800\n",
      "This is the base salary of developer 10000\n",
      "Total salary 11000\n"
     ]
    }
   ],
   "source": [
    "Emp1 = Employee(\"John\", 5000)\n",
    "Emp2 = Employee(\"Mack\", 1000)\n",
    "Emp3 = Employee(\"Jane\", 3000)\n",
    "\n",
    "m1 = Manager(\"Merr\" , 10000)\n",
    "base_salary = m1.calculate_salary()\n",
    "print(\"This is the base salary of manager\", base_salary)\n",
    "\n",
    "total_m1 = m1.calculateTotalSalary()\n",
    "print(\"Total salary\", total_m1)\n",
    "\n",
    "dev1 = Developer(\"Ruby\" , 10000)\n",
    "base_salary = dev1.calculate_salary()\n",
    "print(\"This is the base salary of developer\", base_salary)\n",
    "\n",
    "total_dev1 = dev1.calculateTotalSalary()\n",
    "print(\"Total salary\", total_dev1)\n",
    "\n",
    "\n"
   ]
  },
  {
   "cell_type": "markdown",
   "id": "8c343f9e",
   "metadata": {},
   "source": [
    "Method overloading"
   ]
  },
  {
   "cell_type": "code",
   "execution_count": 44,
   "id": "12d4d42c",
   "metadata": {},
   "outputs": [],
   "source": [
    "class Math:\n",
    "    def add(self, x,y, z=0) #x, y are positional argument and z is keyword argument\n",
    "        return x+y+z;"
   ]
  },
  {
   "cell_type": "code",
   "execution_count": 45,
   "id": "d48a30bb",
   "metadata": {},
   "outputs": [
    {
     "data": {
      "text/plain": [
       "11"
      ]
     },
     "execution_count": 45,
     "metadata": {},
     "output_type": "execute_result"
    }
   ],
   "source": [
    "m1 = Math()\n",
    "m1.add(2,3,6)"
   ]
  },
  {
   "cell_type": "code",
   "execution_count": 43,
   "id": "0c7e56ca",
   "metadata": {},
   "outputs": [],
   "source": [
    "class Calculator:\n",
    "    def add(self, *args):\n",
    "        return sum(args)"
   ]
  },
  {
   "cell_type": "code",
   "execution_count": 46,
   "id": "f53fef16",
   "metadata": {},
   "outputs": [
    {
     "data": {
      "text/plain": [
       "15"
      ]
     },
     "execution_count": 46,
     "metadata": {},
     "output_type": "execute_result"
    }
   ],
   "source": [
    "cal1 = Calculator()\n",
    "cal1.add(4,5,6)"
   ]
  },
  {
   "cell_type": "markdown",
   "id": "ef81e7b3",
   "metadata": {},
   "source": [
    "Create a class MathOperation with methods add and multiply that take in any number of arguments and perform addition or multiplication on them, respectively. Create subclasses Addition and Multiplication that inherit from MathOperation and override the add and multiply methods to perform additional operations or validations, if necessary."
   ]
  },
  {
   "cell_type": "code",
   "execution_count": 189,
   "id": "bea4f5c7",
   "metadata": {},
   "outputs": [],
   "source": [
    "class MathOperation:\n",
    "    \n",
    "    def add(self, *args):\n",
    "        return sum(args)\n",
    "    \n",
    "    def multiply(self, *args):\n",
    "        result = 1 \n",
    "        for arg in args:\n",
    "            result *=arg\n",
    "        return result\n",
    "    \n",
    "    \n",
    "class Addition(MathOperation):\n",
    "    def add(self, *args):\n",
    "        result = super().add(*args)\n",
    "        print(\"Some validation completed in Additon class\")\n",
    "        print(result)\n",
    "\n",
    "    \n",
    "class Multiplication(MathOperation):\n",
    "    def multiply(self, *args):\n",
    "        mul_res = super().multiply(*args)\n",
    "        print(\"Some validation completed in Multiply class\")\n",
    "        print(mul_res)\n",
    "        \n",
    "    "
   ]
  },
  {
   "cell_type": "code",
   "execution_count": 196,
   "id": "eaa57b7b",
   "metadata": {},
   "outputs": [
    {
     "name": "stdout",
     "output_type": "stream",
     "text": [
      "Addition result: 6\n",
      "Multiplication result: 6\n",
      "\n",
      "Some validation completed in Additon class\n",
      "3\n",
      "\n",
      "Some validation completed in Multiply class\n",
      "24\n"
     ]
    }
   ],
   "source": [
    "# Create a MathOperation instance and call its add and multiply methods\n",
    "math_op = MathOperation()\n",
    "print(\"Addition result:\", math_op.add(1, 2, 3))\n",
    "print(\"Multiplication result:\", math_op.multiply(1, 2, 3))\n",
    "print()\n",
    "\n",
    "# Create an Addition instance and call its add method\n",
    "addition = Addition()\n",
    "addition.add(1, 2)\n",
    "print()\n",
    "\n",
    "# Create a Multiplication instance and call its multiply method\n",
    "multiplication = Multiplication()\n",
    "multiplication.multiply(1, 2, 3,4)\n"
   ]
  },
  {
   "cell_type": "markdown",
   "id": "b0c2fb7b",
   "metadata": {},
   "source": [
    "** REMEMBER **"
   ]
  },
  {
   "cell_type": "code",
   "execution_count": 175,
   "id": "7ee43378",
   "metadata": {},
   "outputs": [],
   "source": [
    "class python:\n",
    "    def learn(self, ratings):\n",
    "        print(\"I am learning Python. I give \" + str(ratings) + \" star.\")\n",
    "\n",
    "class java:\n",
    "    def learn(self):\n",
    "        print(\"I am learning java too.\") #method overriding"
   ]
  },
  {
   "cell_type": "code",
   "execution_count": 176,
   "id": "28e43273",
   "metadata": {},
   "outputs": [
    {
     "name": "stdout",
     "output_type": "stream",
     "text": [
      "I am learning Python. I give 5 star.\n",
      "I am learning java too.\n"
     ]
    }
   ],
   "source": [
    "p = python()\n",
    "p.learn(5)\n",
    "j = java()\n",
    "j.learn()"
   ]
  },
  {
   "cell_type": "code",
   "execution_count": 177,
   "id": "252a3416",
   "metadata": {},
   "outputs": [
    {
     "ename": "TypeError",
     "evalue": "python.learn() missing 1 required positional argument: 'ratings'",
     "output_type": "error",
     "traceback": [
      "\u001b[1;31m---------------------------------------------------------------------------\u001b[0m",
      "\u001b[1;31mTypeError\u001b[0m                                 Traceback (most recent call last)",
      "Input \u001b[1;32mIn [177]\u001b[0m, in \u001b[0;36m<cell line: 2>\u001b[1;34m()\u001b[0m\n\u001b[0;32m      1\u001b[0m p \u001b[38;5;241m=\u001b[39m python()\n\u001b[1;32m----> 2\u001b[0m \u001b[43mp\u001b[49m\u001b[38;5;241;43m.\u001b[39;49m\u001b[43mlearn\u001b[49m\u001b[43m(\u001b[49m\u001b[43m)\u001b[49m\n\u001b[0;32m      4\u001b[0m j \u001b[38;5;241m=\u001b[39m java()\n\u001b[0;32m      5\u001b[0m j\u001b[38;5;241m.\u001b[39mlearn()\n",
      "\u001b[1;31mTypeError\u001b[0m: python.learn() missing 1 required positional argument: 'ratings'"
     ]
    }
   ],
   "source": [
    "p = python()\n",
    "p.learn()\n",
    "\n",
    "j = java()\n",
    "j.learn()"
   ]
  },
  {
   "cell_type": "code",
   "execution_count": 179,
   "id": "28c1112e",
   "metadata": {},
   "outputs": [],
   "source": [
    "class python:\n",
    "    def learn(self, ratings=0): #wont get any error as it is keyword argument.\n",
    "        print(\"I am learning Python. I give \" + str(ratings) + \" star.\")\n",
    "\n",
    "class java:\n",
    "    def learn(self):\n",
    "        print(\"I am learning java too.\") #method overriding"
   ]
  },
  {
   "cell_type": "code",
   "execution_count": 180,
   "id": "2e6131de",
   "metadata": {},
   "outputs": [
    {
     "name": "stdout",
     "output_type": "stream",
     "text": [
      "I am learning Python. I give 0 star.\n",
      "I am learning java too.\n"
     ]
    }
   ],
   "source": [
    "p = python()\n",
    "p.learn()\n",
    "\n",
    "j = java()\n",
    "j.learn()"
   ]
  },
  {
   "cell_type": "markdown",
   "id": "aaec9e90",
   "metadata": {},
   "source": [
    "# Abstration"
   ]
  },
  {
   "cell_type": "code",
   "execution_count": 47,
   "id": "35aee97f",
   "metadata": {},
   "outputs": [],
   "source": [
    "#abstract class and concrete class\n",
    "#abstract class should have abstract method\n",
    "#concrete class must need to implement abstarct method"
   ]
  },
  {
   "cell_type": "code",
   "execution_count": 48,
   "id": "3d9522af",
   "metadata": {},
   "outputs": [],
   "source": [
    "# STEP 1: from abc import  ABC, abstractmethod decorator()\n",
    "# STEP 2: pass ABC for super class to convert it abstract class\n",
    "# STEP 3: abstract class should have abstractmethod"
   ]
  },
  {
   "cell_type": "code",
   "execution_count": 67,
   "id": "3ee30a5e",
   "metadata": {},
   "outputs": [],
   "source": [
    "from abc import ABC, abstractmethod\n",
    "\n",
    "class vehicles(ABC): #abstract class\n",
    "    @abstractmethod #decorator\n",
    "    def start(self):\n",
    "        pass\n",
    "    \n",
    "class Cars(Vehicle):\n",
    "    def start(self):\n",
    "        print(\"car starts\")\n",
    "        \n",
    "    def stop(self):\n",
    "        print(\"Car Stops..\")\n",
    "    "
   ]
  },
  {
   "cell_type": "code",
   "execution_count": 68,
   "id": "cfefc8d8",
   "metadata": {},
   "outputs": [
    {
     "name": "stdout",
     "output_type": "stream",
     "text": [
      "Car Stops..\n"
     ]
    }
   ],
   "source": [
    "c1= Cars()\n",
    "c1.stop()"
   ]
  },
  {
   "cell_type": "code",
   "execution_count": 69,
   "id": "2e7dc061",
   "metadata": {},
   "outputs": [
    {
     "name": "stdout",
     "output_type": "stream",
     "text": [
      "car starts\n"
     ]
    }
   ],
   "source": [
    "c1= Cars()\n",
    "c1.start()"
   ]
  },
  {
   "cell_type": "code",
   "execution_count": 198,
   "id": "cd2f19d7",
   "metadata": {},
   "outputs": [],
   "source": [
    "from abc import ABC, abstractmethod\n",
    "\n",
    "class Fedaral(ABC):\n",
    "    '''\n",
    "    docstring: describing class or methods\n",
    "    Abstract class that defines fedaral tax rate and abstract methods\n",
    "    state class should inherit and implement abstract class\n",
    "    '''\n",
    "    def __init__(self,fedaral_tax_rate, amount):\n",
    "        self.fedaral_tax_rate = fedaral_tax_rate\n",
    "        self.amount = amount\n",
    "        \n",
    "    def display_fedaral(self):\n",
    "        print(f\"Fedaral Tax Rate: {self.fedaral_tax_rate}\")\n",
    "        print(f\"Fedaral tax: {self.amount * self.fedaral_tax_rate}\")\n",
    "        \n",
    "    def calculate_tax(self):\n",
    "        return self.amount * self.fedaral_tax_rate\n",
    "    \n",
    "    \n",
    "    @abstractmethod\n",
    "    def pay_tax(self):\n",
    "        pass"
   ]
  },
  {
   "cell_type": "code",
   "execution_count": 206,
   "id": "16b4b294",
   "metadata": {},
   "outputs": [],
   "source": [
    "class State(Fedaral):\n",
    "    '''\n",
    "    concrete subclass implmenets abstract method\n",
    "    '''\n",
    "    def __init__(self, fedaral_tex_rate, amount, state_tax_rate):\n",
    "        super().__init__(fedaral_tex_rate, amount)\n",
    "        self.state_tax_rate = state_tax_rate\n",
    "        \n",
    "    def display_state(self):\n",
    "        print(f\"State Tax Rate: {self.state_tax_rate}\")\n",
    "        print(f\"State tax: {self.amount * self.state_tax_rate}\")\n",
    "        \n",
    "    def calculate_tax(self):\n",
    "        return ((super().calculate_tax()) + (self.state_tax_rate * self.amount))\n",
    "    \n",
    "    def pay_tax(self):\n",
    "        print(\"Please pay your federal tax first\")"
   ]
  },
  {
   "cell_type": "code",
   "execution_count": 207,
   "id": "9404188a",
   "metadata": {},
   "outputs": [],
   "source": [
    "def main():\n",
    "  s = State(0.02,30000,0.05)\n",
    "  s.display_fedaral()\n",
    "  s.display_state()\n",
    "  s.pay_tax()\n",
    "  total_due = s.calculate_tax()\n",
    "  print(f\"You owe {total_due} for federal and state for this year\")"
   ]
  },
  {
   "cell_type": "code",
   "execution_count": 208,
   "id": "ea5a9866",
   "metadata": {
    "scrolled": true
   },
   "outputs": [
    {
     "name": "stdout",
     "output_type": "stream",
     "text": [
      "Fedaral Tax Rate: 0.02\n",
      "Fedaral tax: 600.0\n",
      "State Tax Rate: 0.05\n",
      "State tax: 1500.0\n",
      "Please pay your federal tax first\n",
      "You owe 2100.0 for federal and state for this year\n"
     ]
    }
   ],
   "source": [
    "if __name__ == \"__main__\":\n",
    "  main()"
   ]
  },
  {
   "cell_type": "code",
   "execution_count": 211,
   "id": "77e61022",
   "metadata": {},
   "outputs": [],
   "source": [
    "#need to implement abstract method."
   ]
  },
  {
   "cell_type": "code",
   "execution_count": 214,
   "id": "5513df03",
   "metadata": {},
   "outputs": [],
   "source": [
    "from abc import abstractmethod, ABC\n",
    "class University(ABC): # ABC missing\n",
    "    def __init__(self, name, noStudent):\n",
    "        self.name = name\n",
    "        self.noStudent = noStudent\n",
    "    @abstractmethod\n",
    "    def totalStudent(self):\n",
    "        pass\n",
    "\n",
    "\n",
    "class MIS(University):\n",
    "    def __init__(self, name, noStudent, majorStudent):\n",
    "        super().__init__(name, noStudent)\n",
    "        self.majorStudent = majorStudent\n",
    "        \n",
    "        \n",
    "    def totalStudent(self):\n",
    "        pass\n",
    "        \n",
    "        \n",
    "# abstract method not implemented\n",
    "def main():\n",
    "    s = MIS(\"UTA\", 40000, 1000)\n",
    "\n",
    "    \n",
    "if __name__ == '__main__':\n",
    "    main()\n"
   ]
  },
  {
   "cell_type": "code",
   "execution_count": null,
   "id": "9635ce3b",
   "metadata": {},
   "outputs": [],
   "source": []
  }
 ],
 "metadata": {
  "kernelspec": {
   "display_name": "Python 3 (ipykernel)",
   "language": "python",
   "name": "python3"
  },
  "language_info": {
   "codemirror_mode": {
    "name": "ipython",
    "version": 3
   },
   "file_extension": ".py",
   "mimetype": "text/x-python",
   "name": "python",
   "nbconvert_exporter": "python",
   "pygments_lexer": "ipython3",
   "version": "3.10.4"
  }
 },
 "nbformat": 4,
 "nbformat_minor": 5
}
