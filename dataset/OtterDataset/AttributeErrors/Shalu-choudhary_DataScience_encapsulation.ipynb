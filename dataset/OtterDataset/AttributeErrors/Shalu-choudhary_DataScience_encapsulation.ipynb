{
 "cells": [
  {
   "cell_type": "markdown",
   "metadata": {},
   "source": [
    "# encapsulation"
   ]
  },
  {
   "cell_type": "code",
   "execution_count": 17,
   "metadata": {},
   "outputs": [],
   "source": [
    "class Manager:\n",
    "    def __init__(self) :\n",
    "        # <<< public var>>>>\n",
    "        # self.mamager_name=\"shalu\"\n",
    "        # self.mamager_id=\"choudharyshalu@598gmail.com\"\n",
    "        # self.mamager_pass=\"choudhary@234\"\n",
    "        \n",
    "        # now these are protected by adding underscore at the prefix\n",
    "        # self._mamager_name=\"shalu\"\n",
    "        # self._mamager_id=\"choudharyshalu@598gmail.com\"\n",
    "        # self._mamager_pass=\"choudhary@234\"\n",
    "        \n",
    "        # << private va  -- by double undersocre r>>>\n",
    "        self.__mamager_name=\"shalu\"\n",
    "        self.__mamager_id=\"choudharyshalu@598gmail.com\"\n",
    "        self.__mamager_pass=\"choudhary@234\"\n",
    "        \n",
    "        # public variable --access from anyone\n",
    "        #private var.-- access with in a class only\n",
    "        #protected-- access anywhere(inside or outside) and in subclass variable k aage underscore lga dena h\n",
    "        self.employee_name=\"kuku\"\n",
    "        self.employee_id=\"kuku@gnail.com\"\n",
    "        self.employee_pass=\"kuku@123\"\n",
    "        print(\"manager const executed : \")\n",
    "        \n",
    "        # we can create method as private public or protected same as above include underscore or double underscore\n",
    "    def Manager_hiii(self):\n",
    "        print(self.mamager_name)\n",
    "        print(self.mamager_name)\n",
    "        print(self.mamager_name)\n",
    "        \n",
    "class Employee(Manager):\n",
    "    def Employee_hii():\n",
    "        pass\n",
    "    "
   ]
  },
  {
   "cell_type": "code",
   "execution_count": 11,
   "metadata": {},
   "outputs": [
    {
     "name": "stdout",
     "output_type": "stream",
     "text": [
      "manager const executed : \n"
     ]
    }
   ],
   "source": [
    "emp_obj=Employee()"
   ]
  },
  {
   "cell_type": "code",
   "execution_count": 12,
   "metadata": {},
   "outputs": [
    {
     "data": {
      "text/plain": [
       "'kuku'"
      ]
     },
     "execution_count": 12,
     "metadata": {},
     "output_type": "execute_result"
    }
   ],
   "source": [
    "emp_obj.employee_name"
   ]
  },
  {
   "cell_type": "code",
   "execution_count": 6,
   "metadata": {},
   "outputs": [
    {
     "data": {
      "text/plain": [
       "'kuku@123'"
      ]
     },
     "execution_count": 6,
     "metadata": {},
     "output_type": "execute_result"
    }
   ],
   "source": [
    "emp_obj.employee_pass"
   ]
  },
  {
   "cell_type": "code",
   "execution_count": 8,
   "metadata": {},
   "outputs": [
    {
     "data": {
      "text/plain": [
       "'choudharyshalu@598gmail.com'"
      ]
     },
     "execution_count": 8,
     "metadata": {},
     "output_type": "execute_result"
    }
   ],
   "source": [
    "emp_obj.mamager_id"
   ]
  },
  {
   "cell_type": "code",
   "execution_count": 22,
   "metadata": {},
   "outputs": [
    {
     "name": "stdout",
     "output_type": "stream",
     "text": [
      "manager const executed : \n",
      "manager const executed : \n"
     ]
    }
   ],
   "source": [
    "emp_obj=Employee()\n",
    "man_obj=Manager()"
   ]
  },
  {
   "cell_type": "code",
   "execution_count": 14,
   "metadata": {},
   "outputs": [
    {
     "data": {
      "text/plain": [
       "'choudhary@234'"
      ]
     },
     "execution_count": 14,
     "metadata": {},
     "output_type": "execute_result"
    }
   ],
   "source": [
    "# protected access outside the class\n",
    "man_obj._mamager_pass"
   ]
  },
  {
   "cell_type": "code",
   "execution_count": 16,
   "metadata": {},
   "outputs": [
    {
     "data": {
      "text/plain": [
       "'choudharyshalu@598gmail.com'"
      ]
     },
     "execution_count": 16,
     "metadata": {},
     "output_type": "execute_result"
    }
   ],
   "source": [
    "emp_obj._mamager_id # access in a sub class"
   ]
  },
  {
   "cell_type": "code",
   "execution_count": 9,
   "metadata": {},
   "outputs": [
    {
     "data": {
      "text/plain": [
       "{'mamager_name': 'shalu',\n",
       " 'mamager_id': 'choudharyshalu@598gmail.com',\n",
       " 'mamager_pass': 'choudhary@234',\n",
       " 'employee_name': 'kuku',\n",
       " 'employee_id': 'kuku@gnail.com',\n",
       " 'employee_pass': 'kuku@123'}"
      ]
     },
     "execution_count": 9,
     "metadata": {},
     "output_type": "execute_result"
    }
   ],
   "source": [
    "emp_obj.__dict__  #magic keyword read all values"
   ]
  },
  {
   "cell_type": "code",
   "execution_count": 19,
   "metadata": {},
   "outputs": [
    {
     "ename": "AttributeError",
     "evalue": "'Manager' object has no attribute '__mamager_id'",
     "output_type": "error",
     "traceback": [
      "\u001b[1;31m---------------------------------------------------------------------------\u001b[0m",
      "\u001b[1;31mAttributeError\u001b[0m                            Traceback (most recent call last)",
      "Cell \u001b[1;32mIn[19], line 2\u001b[0m\n\u001b[0;32m      1\u001b[0m \u001b[38;5;66;03m# private var accessing:-\u001b[39;00m\n\u001b[1;32m----> 2\u001b[0m \u001b[43mman_obj\u001b[49m\u001b[38;5;241;43m.\u001b[39;49m\u001b[43m__mamager_id\u001b[49m\n",
      "\u001b[1;31mAttributeError\u001b[0m: 'Manager' object has no attribute '__mamager_id'"
     ]
    }
   ],
   "source": [
    "# private var accessing:-\n",
    "man_obj.__mamager_id  #-- give error cant access outside the class"
   ]
  },
  {
   "cell_type": "code",
   "execution_count": 20,
   "metadata": {},
   "outputs": [
    {
     "data": {
      "text/plain": [
       "'kuku'"
      ]
     },
     "execution_count": 20,
     "metadata": {},
     "output_type": "execute_result"
    }
   ],
   "source": [
    "emp_obj.employee_name"
   ]
  },
  {
   "cell_type": "code",
   "execution_count": 21,
   "metadata": {},
   "outputs": [
    {
     "ename": "AttributeError",
     "evalue": "'Employee' object has no attribute '__mamager_id'",
     "output_type": "error",
     "traceback": [
      "\u001b[1;31m---------------------------------------------------------------------------\u001b[0m",
      "\u001b[1;31mAttributeError\u001b[0m                            Traceback (most recent call last)",
      "Cell \u001b[1;32mIn[21], line 1\u001b[0m\n\u001b[1;32m----> 1\u001b[0m \u001b[43memp_obj\u001b[49m\u001b[38;5;241;43m.\u001b[39;49m\u001b[43m__mamager_id\u001b[49m\n",
      "\u001b[1;31mAttributeError\u001b[0m: 'Employee' object has no attribute '__mamager_id'"
     ]
    }
   ],
   "source": [
    "emp_obj.__mamager_id"
   ]
  },
  {
   "cell_type": "code",
   "execution_count": 23,
   "metadata": {},
   "outputs": [
    {
     "data": {
      "text/plain": [
       "{'_Manager__mamager_name': 'shalu',\n",
       " '_Manager__mamager_id': 'choudharyshalu@598gmail.com',\n",
       " '_Manager__mamager_pass': 'choudhary@234',\n",
       " 'employee_name': 'kuku',\n",
       " 'employee_id': 'kuku@gnail.com',\n",
       " 'employee_pass': 'kuku@123'}"
      ]
     },
     "execution_count": 23,
     "metadata": {},
     "output_type": "execute_result"
    }
   ],
   "source": [
    "man_obj.__dict__  # this is include _ prefix at the class and from this we can access private var as well as"
   ]
  },
  {
   "cell_type": "code",
   "execution_count": 24,
   "metadata": {},
   "outputs": [
    {
     "data": {
      "text/plain": [
       "'choudhary@234'"
      ]
     },
     "execution_count": 24,
     "metadata": {},
     "output_type": "execute_result"
    }
   ],
   "source": [
    "man_obj._Manager__mamager_pass\n",
    "# this is called name mangling access private var"
   ]
  },
  {
   "cell_type": "code",
   "execution_count": 28,
   "metadata": {},
   "outputs": [
    {
     "data": {
      "text/plain": [
       "[__main__.Employee, __main__.Manager, object]"
      ]
     },
     "execution_count": 28,
     "metadata": {},
     "output_type": "execute_result"
    }
   ],
   "source": [
    "Employee.mro() # method resultion order\n",
    "# this show a searching path of a var and it search in first employee them manager if not found then it goes into the object if still not find the var then it show atribute error"
   ]
  },
  {
   "cell_type": "code",
   "execution_count": 25,
   "metadata": {},
   "outputs": [
    {
     "data": {
      "text/plain": [
       "'shalu'"
      ]
     },
     "execution_count": 25,
     "metadata": {},
     "output_type": "execute_result"
    }
   ],
   "source": [
    "emp_obj._Manager__mamager_name"
   ]
  },
  {
   "cell_type": "markdown",
   "metadata": {},
   "source": [
    "# Abstraction\n",
    "### for abstraction ---\n",
    "### we import-->  from abc import ABC,abstractmethod"
   ]
  },
  {
   "cell_type": "code",
   "execution_count": 30,
   "metadata": {},
   "outputs": [
    {
     "name": "stdout",
     "output_type": "stream",
     "text": [
      "1\n",
      "[1, 2, 3, 4, 5, 6, 43]\n"
     ]
    }
   ],
   "source": [
    "ls=[1,2,3,4,5,6,43]\n",
    "print(min(ls))\n",
    "print(ls)"
   ]
  },
  {
   "cell_type": "code",
   "execution_count": 32,
   "metadata": {},
   "outputs": [],
   "source": [
    "from abc import ABC,abstractmethod\n",
    "#object is a most super class and its is a optional\n",
    "#abstract class\n",
    "# if we not use pass keyword then we can use three dots(...)it can not give error its a alternative of pass keyword\n",
    "class Manager(ABC):\n",
    "    \n",
    "    @abstractmethod\n",
    "    def display(self):...\n",
    "        \n",
    "    \n",
    "    "
   ]
  },
  {
   "cell_type": "code",
   "execution_count": 33,
   "metadata": {},
   "outputs": [
    {
     "ename": "TypeError",
     "evalue": "Can't instantiate abstract class Manager without an implementation for abstract method 'display'",
     "output_type": "error",
     "traceback": [
      "\u001b[1;31m---------------------------------------------------------------------------\u001b[0m",
      "\u001b[1;31mTypeError\u001b[0m                                 Traceback (most recent call last)",
      "Cell \u001b[1;32mIn[33], line 1\u001b[0m\n\u001b[1;32m----> 1\u001b[0m obj\u001b[38;5;241m=\u001b[39m\u001b[43mManager\u001b[49m\u001b[43m(\u001b[49m\u001b[43m)\u001b[49m\n",
      "\u001b[1;31mTypeError\u001b[0m: Can't instantiate abstract class Manager without an implementation for abstract method 'display'"
     ]
    }
   ],
   "source": [
    "obj=Manager()"
   ]
  },
  {
   "cell_type": "code",
   "execution_count": 34,
   "metadata": {},
   "outputs": [],
   "source": [
    "class Employee(Manager):\n",
    "    def display(self):\n",
    "        print(\"hiii i am extracted method\")"
   ]
  },
  {
   "cell_type": "code",
   "execution_count": 35,
   "metadata": {},
   "outputs": [],
   "source": [
    "emp_obj=Employee()"
   ]
  },
  {
   "cell_type": "code",
   "execution_count": 36,
   "metadata": {},
   "outputs": [
    {
     "name": "stdout",
     "output_type": "stream",
     "text": [
      "hiii i am extracted method\n"
     ]
    }
   ],
   "source": [
    "emp_obj.display()"
   ]
  },
  {
   "cell_type": "markdown",
   "metadata": {},
   "source": [
    "#### Ploymorphism:--->many forms same name but show diff behaviour\n",
    "# exmp--> len() fun show all type and work on diff type of obj"
   ]
  },
  {
   "cell_type": "code",
   "execution_count": 37,
   "metadata": {},
   "outputs": [],
   "source": [
    "a=\"upflairs\"\n",
    "b=[2,3,1,4]\n",
    "c=(21,12,23,32)"
   ]
  },
  {
   "cell_type": "code",
   "execution_count": 38,
   "metadata": {},
   "outputs": [
    {
     "data": {
      "text/plain": [
       "4"
      ]
     },
     "execution_count": 38,
     "metadata": {},
     "output_type": "execute_result"
    }
   ],
   "source": [
    "len(c)"
   ]
  },
  {
   "cell_type": "code",
   "execution_count": null,
   "metadata": {},
   "outputs": [],
   "source": [
    "# wap of  email sender and reasearch this and send on\n",
    "# smartengineer0786@gmail.com\n",
    "# including  name,college,branch"
   ]
  }
 ],
 "metadata": {
  "kernelspec": {
   "display_name": "Python 3",
   "language": "python",
   "name": "python3"
  },
  "language_info": {
   "codemirror_mode": {
    "name": "ipython",
    "version": 3
   },
   "file_extension": ".py",
   "mimetype": "text/x-python",
   "name": "python",
   "nbconvert_exporter": "python",
   "pygments_lexer": "ipython3",
   "version": "3.12.4"
  }
 },
 "nbformat": 4,
 "nbformat_minor": 2
}
