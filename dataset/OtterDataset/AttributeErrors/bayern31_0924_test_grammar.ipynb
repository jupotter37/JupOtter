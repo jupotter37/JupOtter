{
 "cells": [
  {
   "cell_type": "code",
   "execution_count": 1,
   "id": "88cfaa1b-d927-46cf-8b4f-12dadf02969e",
   "metadata": {},
   "outputs": [
    {
     "name": "stdout",
     "output_type": "stream",
     "text": [
      "False\n"
     ]
    }
   ],
   "source": [
    "print(False)"
   ]
  },
  {
   "cell_type": "code",
   "execution_count": 2,
   "id": "be17a4c9-bcf6-42dc-b913-daf1562a375f",
   "metadata": {},
   "outputs": [
    {
     "data": {
      "text/plain": [
       "bool"
      ]
     },
     "execution_count": 2,
     "metadata": {},
     "output_type": "execute_result"
    }
   ],
   "source": [
    "type(True)"
   ]
  },
  {
   "cell_type": "code",
   "execution_count": 4,
   "id": "a7d23739-a1be-4aef-8555-f3e8089d3b7b",
   "metadata": {},
   "outputs": [
    {
     "name": "stdout",
     "output_type": "stream",
     "text": [
      "True\n",
      "False\n",
      "False\n"
     ]
    }
   ],
   "source": [
    "print(True and True)\n",
    "print(False and True)\n",
    "print(False and False)"
   ]
  },
  {
   "cell_type": "code",
   "execution_count": 5,
   "id": "4bdf3e13-3b64-424d-9118-4b0198411f3f",
   "metadata": {},
   "outputs": [
    {
     "name": "stdout",
     "output_type": "stream",
     "text": [
      "True\n",
      "True\n",
      "False\n"
     ]
    }
   ],
   "source": [
    "print(True or True)\n",
    "print(False or True)\n",
    "print(False or False)"
   ]
  },
  {
   "cell_type": "markdown",
   "id": "f4a2d528-e504-432d-ba9b-91d19009570d",
   "metadata": {},
   "source": [
    "# 입력과 출력\n",
    "-입력 : input()"
   ]
  },
  {
   "cell_type": "code",
   "execution_count": 7,
   "id": "9d10859e-fb20-424c-bd26-675c81bd8a4f",
   "metadata": {},
   "outputs": [
    {
     "name": "stdin",
     "output_type": "stream",
     "text": [
      "임의의 값을 읿력하세요 5\n"
     ]
    },
    {
     "name": "stdout",
     "output_type": "stream",
     "text": [
      "5\n"
     ]
    }
   ],
   "source": [
    "x = input(\"임의의 값을 읿력하세요\")\n",
    "print(x)"
   ]
  },
  {
   "cell_type": "markdown",
   "id": "50b5f284-52e6-47b9-88c0-bcd6c2532cd8",
   "metadata": {},
   "source": [
    "## 데이터 형변환\n",
    "- 문자를 숫자로, 숫자를 문자로, A 자료형에서 D 자료형으로\n",
    "- 대부분이 클래스 or 함수를 활용해서 형변환"
   ]
  },
  {
   "cell_type": "code",
   "execution_count": 10,
   "id": "60e148ea-c5ba-441c-bdd6-07a8ee7cdfdd",
   "metadata": {},
   "outputs": [
    {
     "name": "stdin",
     "output_type": "stream",
     "text": [
      "임의의 숫자를 입력하세요 1\n",
      "임의의 숫자를 입력하세요 1\n"
     ]
    },
    {
     "name": "stdout",
     "output_type": "stream",
     "text": [
      "<class 'int'> <class 'int'>\n",
      "2\n"
     ]
    }
   ],
   "source": [
    "x = int(input(\"임의의 숫자를 입력하세요\"))\n",
    "y = int(input(\"임의의 숫자를 입력하세요\"))\n",
    "\n",
    "print(type(x), type(y))\n",
    "print(x + y)"
   ]
  },
  {
   "cell_type": "code",
   "execution_count": 11,
   "id": "b8b5a1c0-8688-4123-97a6-637403e39263",
   "metadata": {},
   "outputs": [
    {
     "name": "stdin",
     "output_type": "stream",
     "text": [
      "임의의 숫자를 입력하세요 1\n",
      "임의의 숫자를 입력하세요 1\n"
     ]
    },
    {
     "name": "stdout",
     "output_type": "stream",
     "text": [
      "<class 'float'> <class 'float'>\n",
      "2.0\n"
     ]
    }
   ],
   "source": [
    "x = float(input(\"임의의 숫자를 입력하세요\"))\n",
    "y = float(input(\"임의의 숫자를 입력하세요\"))\n",
    "\n",
    "print(type(x), type(y))\n",
    "print(x + y)"
   ]
  },
  {
   "cell_type": "code",
   "execution_count": 12,
   "id": "586f8e76-d285-4081-b4f6-52b8a9c80145",
   "metadata": {},
   "outputs": [
    {
     "data": {
      "text/plain": [
       "3"
      ]
     },
     "execution_count": 12,
     "metadata": {},
     "output_type": "execute_result"
    }
   ],
   "source": [
    "a = '3.3'\n",
    "int(float(a))"
   ]
  },
  {
   "cell_type": "markdown",
   "id": "7cf42d33-8d29-49d1-b9c3-081010524a57",
   "metadata": {},
   "source": [
    "# String"
   ]
  },
  {
   "cell_type": "code",
   "execution_count": 13,
   "id": "a07f935f-6e92-4822-8016-9ed10cbee216",
   "metadata": {},
   "outputs": [
    {
     "name": "stdout",
     "output_type": "stream",
     "text": [
      "abcdefkga\n"
     ]
    }
   ],
   "source": [
    "a = \"abc\"\n",
    "b = 'def'\n",
    "c = \"kga\"\n",
    "\n",
    "result = a + b + c\n",
    "print(result)"
   ]
  },
  {
   "cell_type": "code",
   "execution_count": 14,
   "id": "848e59e7-9f04-42f0-945d-23c8f5a75055",
   "metadata": {},
   "outputs": [
    {
     "data": {
      "text/plain": [
       "'abcdefkgaabcdefkgaabcdefkga'"
      ]
     },
     "execution_count": 14,
     "metadata": {},
     "output_type": "execute_result"
    }
   ],
   "source": [
    "result * 3"
   ]
  },
  {
   "cell_type": "code",
   "execution_count": 18,
   "id": "e74bf6e5-b4bc-4d01-aacb-234ebfecb9c1",
   "metadata": {},
   "outputs": [
    {
     "name": "stdout",
     "output_type": "stream",
     "text": [
      "\n",
      "dadfadf\n",
      "adfadsfs\n",
      "asdfasdf\n",
      "sdafasdf\n",
      "\n"
     ]
    }
   ],
   "source": [
    "a = \"\"\"\n",
    "dadfadf\n",
    "adfadsfs\n",
    "asdfasdf\n",
    "sdafasdf\n",
    "\"\"\"\n",
    "\n",
    "print(a)"
   ]
  },
  {
   "cell_type": "markdown",
   "id": "81d92069-e207-49b6-8dfe-ca321d4930b3",
   "metadata": {},
   "source": [
    "## 문자열 포맷팅\n",
    "- f-string 포맷팅으로 문자열 만들기"
   ]
  },
  {
   "cell_type": "code",
   "execution_count": 19,
   "id": "6ec380b4-47ef-490d-b6e9-4973b1136a15",
   "metadata": {},
   "outputs": [
    {
     "name": "stdout",
     "output_type": "stream",
     "text": [
      "<class 'str'> 안녕하세요, 저는 숫자 1 입니다.\n"
     ]
    }
   ],
   "source": [
    "x = 1\n",
    "a = f'안녕하세요, 저는 숫자 {x} 입니다.'\n",
    "print(type(a), a)"
   ]
  },
  {
   "cell_type": "markdown",
   "id": "18325eee-ee03-4f4c-8681-f16be7814383",
   "metadata": {},
   "source": [
    "## 인덱싱 및 슬라이싱"
   ]
  },
  {
   "cell_type": "code",
   "execution_count": 31,
   "id": "99ebfe27-1f09-4bbd-81da-8efe2764ab5f",
   "metadata": {},
   "outputs": [
    {
     "name": "stdout",
     "output_type": "stream",
     "text": [
      "9\n"
     ]
    }
   ],
   "source": [
    "a = \"123456789\"\n",
    "print(len(a))"
   ]
  },
  {
   "cell_type": "code",
   "execution_count": 32,
   "id": "9323d2a2-e3ad-4569-9360-619ad4b56e27",
   "metadata": {},
   "outputs": [
    {
     "data": {
      "text/plain": [
       "'9'"
      ]
     },
     "execution_count": 32,
     "metadata": {},
     "output_type": "execute_result"
    }
   ],
   "source": [
    "a[8]"
   ]
  },
  {
   "cell_type": "code",
   "execution_count": 33,
   "id": "72472038-d3eb-4ba2-a6b4-24d93d41ecca",
   "metadata": {},
   "outputs": [
    {
     "data": {
      "text/plain": [
       "'9'"
      ]
     },
     "execution_count": 33,
     "metadata": {},
     "output_type": "execute_result"
    }
   ],
   "source": [
    "a[len(a)-1]"
   ]
  },
  {
   "cell_type": "code",
   "execution_count": 34,
   "id": "e2400c89-a9f1-4212-933a-e2aceeb74ae7",
   "metadata": {
    "editable": true,
    "slideshow": {
     "slide_type": ""
    },
    "tags": []
   },
   "outputs": [
    {
     "data": {
      "text/plain": [
       "'9'"
      ]
     },
     "execution_count": 34,
     "metadata": {},
     "output_type": "execute_result"
    }
   ],
   "source": [
    "a[-1]"
   ]
  },
  {
   "cell_type": "markdown",
   "id": "02f676ce-4fc7-4ea4-91f8-5d974b8926d7",
   "metadata": {},
   "source": [
    "## 슬라이싱"
   ]
  },
  {
   "cell_type": "code",
   "execution_count": 37,
   "id": "0b84a92b-4c65-40e7-ba24-c603f3ddea2b",
   "metadata": {},
   "outputs": [
    {
     "name": "stdout",
     "output_type": "stream",
     "text": [
      "123456789\n"
     ]
    }
   ],
   "source": [
    "a = \"123456789\"\n",
    "print(a[0:10])"
   ]
  },
  {
   "cell_type": "code",
   "execution_count": 39,
   "id": "fd65663d-8751-4118-bf35-ded44b09359f",
   "metadata": {},
   "outputs": [
    {
     "name": "stdout",
     "output_type": "stream",
     "text": [
      "13579\n",
      "789\n",
      "123456\n"
     ]
    }
   ],
   "source": [
    "a = \"123456789\"\n",
    "print(a[0:10:2])\n",
    "print(a[6:])\n",
    "print(a[:6])"
   ]
  },
  {
   "cell_type": "markdown",
   "id": "c3d433bd-9aff-4f1e-92e6-9dc5dd113f54",
   "metadata": {},
   "source": [
    "## 문자열 수정"
   ]
  },
  {
   "cell_type": "code",
   "execution_count": 48,
   "id": "254082f4-f1cc-42f2-b55d-b200d9f35a9c",
   "metadata": {},
   "outputs": [
    {
     "name": "stdout",
     "output_type": "stream",
     "text": [
      "Python\n"
     ]
    },
    {
     "data": {
      "text/plain": [
       "'Python'"
      ]
     },
     "execution_count": 48,
     "metadata": {},
     "output_type": "execute_result"
    }
   ],
   "source": [
    "a = \"Aython\"\n",
    "\n",
    "print(\"P\" + a[1:])\n",
    "\"P\" + a[1:]"
   ]
  },
  {
   "cell_type": "code",
   "execution_count": 50,
   "id": "a803bfcf-20a4-46df-9562-eed58090b0c4",
   "metadata": {},
   "outputs": [
    {
     "name": "stdout",
     "output_type": "stream",
     "text": [
      "Python\n"
     ]
    }
   ],
   "source": [
    "a = \"Aython\"\n",
    "\n",
    "result = a.replace(\"A\", \"P\")\n",
    "print(result)"
   ]
  },
  {
   "cell_type": "markdown",
   "id": "0f96cb86-4804-4dde-a5d4-3aac6be7ebd8",
   "metadata": {},
   "source": [
    "## 문자열 메서드\n",
    "- 클래스와 클래스 메서드에 대한 이해"
   ]
  },
  {
   "cell_type": "code",
   "execution_count": 52,
   "id": "2fe64147-24be-47d9-8ff2-a2a79139fb7c",
   "metadata": {},
   "outputs": [
    {
     "ename": "AttributeError",
     "evalue": "'str' object has no attribute 'Replace'",
     "output_type": "error",
     "traceback": [
      "\u001b[1;31m---------------------------------------------------------------------------\u001b[0m",
      "\u001b[1;31mAttributeError\u001b[0m                            Traceback (most recent call last)",
      "Cell \u001b[1;32mIn[52], line 3\u001b[0m\n\u001b[0;32m      1\u001b[0m a \u001b[38;5;241m=\u001b[39m \u001b[38;5;124m\"\u001b[39m\u001b[38;5;124mAython\u001b[39m\u001b[38;5;124m\"\u001b[39m\n\u001b[1;32m----> 3\u001b[0m result \u001b[38;5;241m=\u001b[39m \u001b[43ma\u001b[49m\u001b[38;5;241;43m.\u001b[39;49m\u001b[43mReplace\u001b[49m(\u001b[38;5;124m\"\u001b[39m\u001b[38;5;124mA\u001b[39m\u001b[38;5;124m\"\u001b[39m, \u001b[38;5;124m\"\u001b[39m\u001b[38;5;124mP\u001b[39m\u001b[38;5;124m\"\u001b[39m)\n\u001b[0;32m      4\u001b[0m \u001b[38;5;28mprint\u001b[39m(result)\n",
      "\u001b[1;31mAttributeError\u001b[0m: 'str' object has no attribute 'Replace'"
     ]
    }
   ],
   "source": [
    "a = \"Aython\"\n",
    "\n",
    "result = a.Replace(\"A\", \"P\")\n",
    "print(result)"
   ]
  },
  {
   "cell_type": "markdown",
   "id": "5cb8d0fd-4f58-4794-9227-241defdd291f",
   "metadata": {},
   "source": [
    "b = \"Aython\"\n",
    "\n",
    "b 활용해서 무언가를 하고 싶음 -> 메서드가 있을 것 같은데~"
   ]
  },
  {
   "cell_type": "markdown",
   "id": "8c28e625-72fc-4794-96e5-3fe1f85eb214",
   "metadata": {},
   "source": [
    "b = \"python\"\n",
    "\n",
    "string object b = \"python\" \n",
    "-> 대문자를 바꾸고 싶음 \n",
    "-> chatGPT 답변 후, 실제로 있는지 공식문서 체크\n",
    "https://docs.python.org/3/library/stdtypes.html#string-methods"
   ]
  },
  {
   "cell_type": "markdown",
   "id": "c3d391c7-91fd-47cd-9c53-c555e2b59abd",
   "metadata": {},
   "source": [
    "b = \"python\"\n",
    "\n",
    "string object b = \"python\" -> 대문자를 바꾸고 싶음"
   ]
  },
  {
   "cell_type": "code",
   "execution_count": 56,
   "id": "690669b0-8b37-4564-9845-90078e7c4eb3",
   "metadata": {},
   "outputs": [
    {
     "data": {
      "text/plain": [
       "'HELLO, STREAMLIST'"
      ]
     },
     "execution_count": 56,
     "metadata": {},
     "output_type": "execute_result"
    }
   ],
   "source": [
    "sampleText = \"hello, streamlist\"\n",
    "sampleText = sampleText.upper()\n",
    "sampleText"
   ]
  },
  {
   "cell_type": "code",
   "execution_count": 58,
   "id": "7a9c7a98-ab06-4246-b628-67329efb0838",
   "metadata": {},
   "outputs": [
    {
     "data": {
      "text/plain": [
       "'Hello, streamlist'"
      ]
     },
     "execution_count": 58,
     "metadata": {},
     "output_type": "execute_result"
    }
   ],
   "source": [
    "sampleText = \"hello, streamlist\"\n",
    "sampleText = sampleText.capitalize()\n",
    "sampleText"
   ]
  },
  {
   "cell_type": "code",
   "execution_count": 60,
   "id": "c9baf2a0-e153-427e-9b94-d2c14d415722",
   "metadata": {},
   "outputs": [
    {
     "data": {
      "text/plain": [
       "'Hello, Streamlist'"
      ]
     },
     "execution_count": 60,
     "metadata": {},
     "output_type": "execute_result"
    }
   ],
   "source": [
    "sampleText = \"hello, streamlist\"\n",
    "sampleText = sampleText.title()\n",
    "sampleText"
   ]
  },
  {
   "cell_type": "code",
   "execution_count": 62,
   "id": "9ed68fdb-c8f8-4237-8057-bd1bccf1b1a9",
   "metadata": {},
   "outputs": [
    {
     "data": {
      "text/plain": [
       "['hello', 'streamlist']"
      ]
     },
     "execution_count": 62,
     "metadata": {},
     "output_type": "execute_result"
    }
   ],
   "source": [
    "sampleText = \"hello,streamlist\"\n",
    "words = sampleText.split(sep=\",\")\n",
    "words"
   ]
  },
  {
   "cell_type": "code",
   "execution_count": 63,
   "id": "dd25485e-3766-4082-bc0e-d0146e4d933c",
   "metadata": {},
   "outputs": [
    {
     "data": {
      "text/plain": [
       "['hello,streamlist']"
      ]
     },
     "execution_count": 63,
     "metadata": {},
     "output_type": "execute_result"
    }
   ],
   "source": [
    "sampleText = \"hello,streamlist\"\n",
    "words = sampleText.split()\n",
    "words"
   ]
  },
  {
   "cell_type": "markdown",
   "id": "c7c329c0-03a3-431d-b77f-76d3f0516f07",
   "metadata": {},
   "source": [
    "list\n",
    "- 책 참고\n",
    "- 리스트와 튜플의 차이점\n",
    "- - 리스트: 요소의 생성, 삭제, 수정 가능\n",
    "  - 튜플: 요소 변경 불가능"
   ]
  },
  {
   "cell_type": "code",
   "execution_count": 67,
   "id": "e45962ec-49f3-4708-81f7-61a3cac5676b",
   "metadata": {},
   "outputs": [
    {
     "data": {
      "text/plain": [
       "'hello,streamlist'"
      ]
     },
     "execution_count": 67,
     "metadata": {},
     "output_type": "execute_result"
    }
   ],
   "source": [
    "sampleList = [\"hello\", \"streamlist\"]\n",
    "text = \",\".join(sampleList)\n",
    "text"
   ]
  },
  {
   "cell_type": "markdown",
   "id": "30c468a9-c1ad-4808-ade1-977ea815ea48",
   "metadata": {},
   "source": [
    "## 시퀀스 자료형 확인\n",
    "- 인덱싱과 슬라이싱이 가능함\n",
    "- 반복문 사용할 때 기초자료형 활용"
   ]
  },
  {
   "cell_type": "code",
   "execution_count": 68,
   "id": "da7d81d4-ace9-4ee7-976a-194b6210ccf4",
   "metadata": {},
   "outputs": [
    {
     "name": "stdout",
     "output_type": "stream",
     "text": [
      "False\n",
      "True\n",
      "True\n"
     ]
    }
   ],
   "source": [
    "from collections.abc import Sequence\n",
    "\n",
    "my_num = 100\n",
    "my_list = [1, 2, 3]\n",
    "my_string = \"hello\"\n",
    "\n",
    "is_num = isinstance(my_num, Sequence)\n",
    "is_list = isinstance(my_list, Sequence)\n",
    "is_string = isinstance(my_string, Sequence)\n",
    "\n",
    "print(is_num)\n",
    "print(is_list)\n",
    "print(is_string)"
   ]
  },
  {
   "cell_type": "markdown",
   "id": "d139b126-2f8d-4446-ba5e-f694606cac80",
   "metadata": {},
   "source": [
    "# List 리스트"
   ]
  },
  {
   "cell_type": "code",
   "execution_count": 70,
   "id": "b67bff5a-3a86-465c-ab54-c86cb33659e1",
   "metadata": {},
   "outputs": [
    {
     "name": "stdout",
     "output_type": "stream",
     "text": [
      "1\n",
      "[0, 1, 2, 3, 4, 5, 6, 7]\n"
     ]
    }
   ],
   "source": [
    "a = [0, 1, 2, 3, 4, 5, 6, 7, 8, 9]\n",
    "print(a[1])\n",
    "print(a[0:8])"
   ]
  },
  {
   "cell_type": "code",
   "execution_count": 73,
   "id": "3785c02e-685b-445b-aa42-2dfce8210357",
   "metadata": {},
   "outputs": [
    {
     "data": {
      "text/plain": [
       "'e'"
      ]
     },
     "execution_count": 73,
     "metadata": {},
     "output_type": "execute_result"
    }
   ],
   "source": [
    "a = [0, 1, 2, [\"Python\", \"Hello\"], 3, 4, 5]\n",
    "a[3][1][1]"
   ]
  },
  {
   "cell_type": "code",
   "execution_count": 77,
   "id": "21b77bb8-af34-4277-942d-a79e928410b9",
   "metadata": {},
   "outputs": [
    {
     "data": {
      "text/plain": [
       "['IM', 'banker', 'academy']"
      ]
     },
     "execution_count": 77,
     "metadata": {},
     "output_type": "execute_result"
    }
   ],
   "source": [
    "a = [\"IM\", \"banker\"]\n",
    "a.append(\"academy\")\n",
    "a"
   ]
  },
  {
   "cell_type": "code",
   "execution_count": 78,
   "id": "086b5654-de86-4fcf-8ef6-868dbf855239",
   "metadata": {},
   "outputs": [
    {
     "name": "stdout",
     "output_type": "stream",
     "text": [
      "None\n"
     ]
    }
   ],
   "source": [
    "a = [\"IM\", \"banker\"]\n",
    "result = a.append(\"academy\")\n",
    "print(result)"
   ]
  },
  {
   "cell_type": "code",
   "execution_count": 79,
   "id": "784c4016-8eb8-49a6-983a-f99679fbf3fb",
   "metadata": {},
   "outputs": [
    {
     "ename": "TypeError",
     "evalue": "list.append() takes exactly one argument (2 given)",
     "output_type": "error",
     "traceback": [
      "\u001b[1;31m---------------------------------------------------------------------------\u001b[0m",
      "\u001b[1;31mTypeError\u001b[0m                                 Traceback (most recent call last)",
      "Cell \u001b[1;32mIn[79], line 2\u001b[0m\n\u001b[0;32m      1\u001b[0m a \u001b[38;5;241m=\u001b[39m [\u001b[38;5;241m100\u001b[39m, \u001b[38;5;241m200\u001b[39m]\n\u001b[1;32m----> 2\u001b[0m \u001b[43ma\u001b[49m\u001b[38;5;241;43m.\u001b[39;49m\u001b[43mappend\u001b[49m\u001b[43m(\u001b[49m\u001b[38;5;241;43m300\u001b[39;49m\u001b[43m,\u001b[49m\u001b[43m \u001b[49m\u001b[38;5;241;43m400\u001b[39;49m\u001b[43m)\u001b[49m\n\u001b[0;32m      3\u001b[0m a\n",
      "\u001b[1;31mTypeError\u001b[0m: list.append() takes exactly one argument (2 given)"
     ]
    }
   ],
   "source": [
    "a = [100, 200]\n",
    "a.append(300, 400)\n",
    "a"
   ]
  },
  {
   "cell_type": "code",
   "execution_count": 80,
   "id": "9d567ab0-94e9-4deb-9fd4-cfbe28263f13",
   "metadata": {},
   "outputs": [
    {
     "data": {
      "text/plain": [
       "[100, 200, 300, 400]"
      ]
     },
     "execution_count": 80,
     "metadata": {},
     "output_type": "execute_result"
    }
   ],
   "source": [
    "a = [100, 200]\n",
    "a.extend([300, 400])\n",
    "a"
   ]
  },
  {
   "cell_type": "markdown",
   "id": "1201d9e3-e313-466e-b50b-46335d0f2848",
   "metadata": {},
   "source": [
    "## 리스트 값 변경 및 삭제"
   ]
  },
  {
   "cell_type": "code",
   "execution_count": 81,
   "id": "be2e54d7-6e22-45e2-a291-50c7543ed3cf",
   "metadata": {},
   "outputs": [
    {
     "data": {
      "text/plain": [
       "[1302, 301, 418, 430, 529]"
      ]
     },
     "execution_count": 81,
     "metadata": {},
     "output_type": "execute_result"
    }
   ],
   "source": [
    "numbers = [302, 301, 418, 430, 529]\n",
    "numbers[0] = 1302\n",
    "numbers"
   ]
  },
  {
   "cell_type": "code",
   "execution_count": 87,
   "id": "8a6fe1a4-e9bb-4056-ab05-09f551670a41",
   "metadata": {},
   "outputs": [
    {
     "ename": "TypeError",
     "evalue": "'tuple' object does not support item assignment",
     "output_type": "error",
     "traceback": [
      "\u001b[1;31m---------------------------------------------------------------------------\u001b[0m",
      "\u001b[1;31mTypeError\u001b[0m                                 Traceback (most recent call last)",
      "Cell \u001b[1;32mIn[87], line 3\u001b[0m\n\u001b[0;32m      1\u001b[0m \u001b[38;5;66;03m# 튜플\u001b[39;00m\n\u001b[0;32m      2\u001b[0m numbers \u001b[38;5;241m=\u001b[39m (\u001b[38;5;241m302\u001b[39m, \u001b[38;5;241m301\u001b[39m, \u001b[38;5;241m418\u001b[39m, \u001b[38;5;241m430\u001b[39m, \u001b[38;5;241m529\u001b[39m)\n\u001b[1;32m----> 3\u001b[0m \u001b[43mnumbers\u001b[49m\u001b[43m[\u001b[49m\u001b[38;5;241;43m0\u001b[39;49m\u001b[43m]\u001b[49m \u001b[38;5;241m=\u001b[39m \u001b[38;5;241m1302\u001b[39m\n\u001b[0;32m      4\u001b[0m numbers\n",
      "\u001b[1;31mTypeError\u001b[0m: 'tuple' object does not support item assignment"
     ]
    }
   ],
   "source": [
    "# 튜플\n",
    "numbers = (302, 301, 418, 430, 529)\n",
    "numbers[0] = 1302\n",
    "numbers"
   ]
  },
  {
   "cell_type": "code",
   "execution_count": 93,
   "id": "a6c0a82b-a9de-4289-b4c1-b4ea4db76453",
   "metadata": {},
   "outputs": [
    {
     "data": {
      "text/plain": [
       "[302, 418, 430, 529]"
      ]
     },
     "execution_count": 93,
     "metadata": {},
     "output_type": "execute_result"
    }
   ],
   "source": [
    "# 리스트 삭제\n",
    "numbers = [302, 301, 418, 430, 529]\n",
    "numbers.remove(301)\n",
    "numbers"
   ]
  },
  {
   "cell_type": "code",
   "execution_count": 95,
   "id": "31407c2f-c8fa-4968-9b6a-9b3eda5a2e73",
   "metadata": {},
   "outputs": [
    {
     "data": {
      "text/plain": [
       "[302, 418, 430, 529]"
      ]
     },
     "execution_count": 95,
     "metadata": {},
     "output_type": "execute_result"
    }
   ],
   "source": [
    "numbers = [302, 301, 418, 430, 529]\n",
    "del numbers[1]\n",
    "numbers"
   ]
  },
  {
   "cell_type": "markdown",
   "id": "c267118c-7dbc-41a6-85a0-cb70a29c8e66",
   "metadata": {},
   "source": [
    "## 딕셔너리"
   ]
  },
  {
   "cell_type": "markdown",
   "id": "cc558115-54e7-4939-a141-c123ea406d7e",
   "metadata": {},
   "source": [
    "my_dic = {\n",
    "    'key1' : 'value'\n",
    "    'key2' : '모든 기초 자료형'\n",
    "}"
   ]
  },
  {
   "cell_type": "code",
   "execution_count": 107,
   "id": "3e087511-ce94-470e-9d1d-1415b35118d2",
   "metadata": {},
   "outputs": [
    {
     "data": {
      "text/plain": [
       "'o'"
      ]
     },
     "execution_count": 107,
     "metadata": {},
     "output_type": "execute_result"
    }
   ],
   "source": [
    "my_dic = {\n",
    "    \"name\" : \"evan\", \n",
    "    \"age\" : 20, \n",
    "    \"job\" : \"강사\", \n",
    "    \"쇼핑목록\" : [0, 1, 2, [\"Python\", \"Hello\"], 3, 4, 5], \n",
    "    \"그외\" : (1, 2, 3), \n",
    "    \"그외2\" : {\"key\" : \"value\"}}\n",
    "\n",
    "my_dic[\"쇼핑목록\"][3][1][-1]"
   ]
  },
  {
   "cell_type": "code",
   "execution_count": 114,
   "id": "37316dc3-0f78-4372-8b41-9e98ad948b55",
   "metadata": {},
   "outputs": [
    {
     "data": {
      "text/plain": [
       "{'name': 'evan',\n",
       " 'age': 20,\n",
       " 'job': '강사',\n",
       " '쇼핑목록': [0, 1, 2, ['Python', 'Hello'], 3, 4, 5],\n",
       " '그외': (1, 2, 3),\n",
       " '그외2': {'key': 'value'},\n",
       " '기타': '아무거나'}"
      ]
     },
     "execution_count": 114,
     "metadata": {},
     "output_type": "execute_result"
    }
   ],
   "source": [
    "my_dic['기타'] = '아무거나'\n",
    "my_dic"
   ]
  },
  {
   "cell_type": "code",
   "execution_count": 115,
   "id": "dcb16e03-19f8-4eb0-a675-d547368620c3",
   "metadata": {},
   "outputs": [
    {
     "data": {
      "text/plain": [
       "{'name': 'evan',\n",
       " 'age': 20,\n",
       " 'job': '강사',\n",
       " '쇼핑목록': ['맥북', '아이패드'],\n",
       " '그외': (1, 2, 3),\n",
       " '그외2': {'key': 'value'},\n",
       " '기타': '아무거나'}"
      ]
     },
     "execution_count": 115,
     "metadata": {},
     "output_type": "execute_result"
    }
   ],
   "source": [
    "my_dic['쇼핑목록'] = [\"맥북\", \"아이패드\"]\n",
    "my_dic"
   ]
  },
  {
   "cell_type": "code",
   "execution_count": 116,
   "id": "95544b76-c162-401d-af22-3957e813bf06",
   "metadata": {},
   "outputs": [
    {
     "data": {
      "text/plain": [
       "dict_keys(['name', 'age', 'job', '쇼핑목록', '그외', '그외2', '기타'])"
      ]
     },
     "execution_count": 116,
     "metadata": {},
     "output_type": "execute_result"
    }
   ],
   "source": [
    "my_dic.keys()"
   ]
  },
  {
   "cell_type": "code",
   "execution_count": 117,
   "id": "75b17e95-400c-4ffe-843e-dddb0e2f8836",
   "metadata": {},
   "outputs": [
    {
     "data": {
      "text/plain": [
       "dict_values(['evan', 20, '강사', ['맥북', '아이패드'], (1, 2, 3), {'key': 'value'}, '아무거나'])"
      ]
     },
     "execution_count": 117,
     "metadata": {},
     "output_type": "execute_result"
    }
   ],
   "source": [
    "my_dic.values()"
   ]
  },
  {
   "cell_type": "code",
   "execution_count": 118,
   "id": "51d11891-e7b7-4e07-a64a-ad1e6d65eea6",
   "metadata": {},
   "outputs": [
    {
     "data": {
      "text/plain": [
       "dict_items([('name', 'evan'), ('age', 20), ('job', '강사'), ('쇼핑목록', ['맥북', '아이패드']), ('그외', (1, 2, 3)), ('그외2', {'key': 'value'}), ('기타', '아무거나')])"
      ]
     },
     "execution_count": 118,
     "metadata": {},
     "output_type": "execute_result"
    }
   ],
   "source": [
    "my_dic.items()"
   ]
  },
  {
   "cell_type": "code",
   "execution_count": 119,
   "id": "109f4d3f-1fd9-4163-a1dd-eefad8cbb0a5",
   "metadata": {},
   "outputs": [
    {
     "data": {
      "text/plain": [
       "['name', 'age', 'job', '쇼핑목록', '그외', '그외2', '기타']"
      ]
     },
     "execution_count": 119,
     "metadata": {},
     "output_type": "execute_result"
    }
   ],
   "source": [
    "list(my_dic.keys())"
   ]
  },
  {
   "cell_type": "markdown",
   "id": "946e019d-f3f7-49f2-b349-f76036893ee8",
   "metadata": {},
   "source": [
    "## 단일 조건에 따른 분기"
   ]
  },
  {
   "cell_type": "code",
   "execution_count": 2,
   "id": "db0b4978-f4ff-4a9d-845c-688cfa94339d",
   "metadata": {},
   "outputs": [
    {
     "name": "stdin",
     "output_type": "stream",
     "text": [
      "숫자를 입력하세요.. 95\n"
     ]
    },
    {
     "name": "stdout",
     "output_type": "stream",
     "text": [
      "pass\n"
     ]
    }
   ],
   "source": [
    "x = int(input(\"숫자를 입력하세요..\"))\n",
    "if x >= 90:\n",
    "    print(\"pass\")"
   ]
  },
  {
   "cell_type": "markdown",
   "id": "e6f3dbba-a094-4ebc-8702-95da443d5b71",
   "metadata": {},
   "source": [
    "## 단일 조건 및\n",
    "for example) 합격/불합격을 만드는 일\n",
    "\n",
    "시나리오 만들기\n",
    "-> 문제 정의\n",
    "-> 90점 이상 합격\n",
    "-> 80점 이상이면 조건부 합격 처리\n",
    "-> 그 외는 불합격 처리"
   ]
  },
  {
   "cell_type": "code",
   "execution_count": 5,
   "id": "8567a5b8-fff0-4c20-aca7-9dbde2762c16",
   "metadata": {},
   "outputs": [
    {
     "name": "stdin",
     "output_type": "stream",
     "text": [
      "숫자를 입력하세요.. 50\n"
     ]
    },
    {
     "name": "stdout",
     "output_type": "stream",
     "text": [
      "fail\n"
     ]
    }
   ],
   "source": [
    "x = int(input(\"숫자를 입력하세요..\"))\n",
    "if x >= 90:\n",
    "    print(\"pass\")\n",
    "else:\n",
    "    print(\"fail\")"
   ]
  },
  {
   "cell_type": "markdown",
   "id": "9fcf0089-d79c-4407-b49b-ea4928014f84",
   "metadata": {},
   "source": [
    "## 여러 조건에 따른 분기"
   ]
  },
  {
   "cell_type": "code",
   "execution_count": 6,
   "id": "c3ee471a-0dd2-4687-aa11-1285edcc201f",
   "metadata": {},
   "outputs": [
    {
     "name": "stdin",
     "output_type": "stream",
     "text": [
      "숫자를 입력하세요.. 85\n"
     ]
    },
    {
     "name": "stdout",
     "output_type": "stream",
     "text": [
      "조건부 합격\n"
     ]
    }
   ],
   "source": [
    "x = int(input(\"숫자를 입력하세요..\"))\n",
    "if x >= 90:\n",
    "    print(\"pass\")\n",
    "elif (x >=80) and (x <90):\n",
    "    print(\"조건부 합격\")\n",
    "else:\n",
    "    print(\"fail\")"
   ]
  },
  {
   "cell_type": "markdown",
   "id": "4e2811e5-1245-48af-a97d-87cd56abbaf5",
   "metadata": {},
   "source": [
    "## 중첩 조건에 따른 분기\n",
    "- 시나리오\n",
    "- 90점 넘으면 합격, 그 중에서 100점 자에게는 장학금 지급\n",
    "- 80점 이상은 조건부 합격\n",
    "- 그 외는 불합격"
   ]
  },
  {
   "cell_type": "code",
   "execution_count": 13,
   "id": "09abbac9-7341-4760-8c0c-29ecc51d49d7",
   "metadata": {},
   "outputs": [
    {
     "name": "stdin",
     "output_type": "stream",
     "text": [
      "숫자를 입력하세요.. 100\n"
     ]
    },
    {
     "name": "stdout",
     "output_type": "stream",
     "text": [
      "장학금 지급\n"
     ]
    }
   ],
   "source": [
    "x = int(input(\"숫자를 입력하세요..\"))\n",
    "if x >= 90:\n",
    "    if x == 100:\n",
    "        print(\"장학금 지급\")\n",
    "    else:\n",
    "         print(\"pass\")\n",
    "elif (x >=80) and (x <90):\n",
    "    print(\"조건부 합격\")\n",
    "else:\n",
    "    print(\"fail\")"
   ]
  },
  {
   "cell_type": "markdown",
   "id": "61d0aa7f-3299-4398-b8ff-b1966d93cef6",
   "metadata": {},
   "source": [
    "## 반복문"
   ]
  },
  {
   "cell_type": "code",
   "execution_count": 14,
   "id": "302b5f9c-544d-4a64-be16-333d5b84b050",
   "metadata": {},
   "outputs": [
    {
     "name": "stdout",
     "output_type": "stream",
     "text": [
      "안녕하세요\n",
      "안녕하세요\n",
      "안녕하세요\n"
     ]
    }
   ],
   "source": [
    "for i in range(3):\n",
    "    print(\"안녕하세요\")"
   ]
  },
  {
   "cell_type": "markdown",
   "id": "64306445-b712-4da2-8dd7-c393dc7e746a",
   "metadata": {},
   "source": [
    "- 시퀀스 자료형이 range 대신에 들어감"
   ]
  },
  {
   "cell_type": "code",
   "execution_count": 17,
   "id": "ab2bc513-d364-43e7-b5f8-1041d0b9255c",
   "metadata": {},
   "outputs": [
    {
     "name": "stdout",
     "output_type": "stream",
     "text": [
      "False\n",
      "True\n",
      "True\n"
     ]
    }
   ],
   "source": [
    "from collections.abc import Sequence\n",
    "\n",
    "my_num = 100\n",
    "my_list = [1, 2, 3]\n",
    "my_string = \"hello\"\n",
    "\n",
    "is_num = isinstance(my_num, Sequence)\n",
    "is_list = isinstance(my_list, Sequence)\n",
    "is_string = isinstance(my_string, Sequence)\n",
    "\n",
    "print(is_num)\n",
    "print(is_list)\n",
    "print(is_string)"
   ]
  },
  {
   "cell_type": "code",
   "execution_count": 18,
   "id": "d5613873-90c7-47fe-a012-809ec95446bf",
   "metadata": {},
   "outputs": [
    {
     "name": "stdout",
     "output_type": "stream",
     "text": [
      "1\n",
      "2\n",
      "3\n"
     ]
    }
   ],
   "source": [
    "for i in my_list:\n",
    "    print(i)"
   ]
  },
  {
   "cell_type": "code",
   "execution_count": 19,
   "id": "6ad61004-22b8-4e33-b538-baef0d6f0133",
   "metadata": {},
   "outputs": [
    {
     "data": {
      "text/plain": [
       "[0, 1, 2]"
      ]
     },
     "execution_count": 19,
     "metadata": {},
     "output_type": "execute_result"
    }
   ],
   "source": [
    "list(range(3))"
   ]
  },
  {
   "cell_type": "markdown",
   "id": "b3df1723-2de6-410e-a74d-fccd235d9bcb",
   "metadata": {},
   "source": [
    "## 중첩 for문"
   ]
  },
  {
   "cell_type": "code",
   "execution_count": 20,
   "id": "5d678122-c5f5-42d4-ad6b-221bde383874",
   "metadata": {},
   "outputs": [],
   "source": [
    "x_list = [\"x1\", \"x2\"]\n",
    "y_list = [\"y1\", \"y2\"]\n",
    "\n",
    "원하는 결과물\n",
    "x1, y1\n",
    "x2, y2\n",
    "x3, y3\n",
    "x4, y4"
   ]
  },
  {
   "cell_type": "code",
   "execution_count": 22,
   "id": "86727a31-6294-47eb-a546-3c2dbf6a421b",
   "metadata": {},
   "outputs": [
    {
     "name": "stdout",
     "output_type": "stream",
     "text": [
      "x, y\n",
      "x1\n",
      "x1 y1\n",
      "x1 y2\n",
      "x2\n",
      "x2 y1\n",
      "x2 y2\n"
     ]
    }
   ],
   "source": [
    "x_list = [\"x1\", \"x2\"]\n",
    "y_list = [\"y1\", \"y2\"]\n",
    "\n",
    "print(\"x, y\")\n",
    "for x in x_list:\n",
    "    print(x)\n",
    "    for y in y_list:\n",
    "        print(x, y)"
   ]
  },
  {
   "cell_type": "code",
   "execution_count": 23,
   "id": "fc58bad7-399c-496f-98fb-26e5683e9d60",
   "metadata": {},
   "outputs": [
    {
     "name": "stdout",
     "output_type": "stream",
     "text": [
      "2 x 1 = 2\n",
      "2 x 2 = 4\n",
      "2 x 3 = 6\n",
      "2 x 4 = 8\n",
      "2 x 5 = 10\n",
      "2 x 6 = 12\n",
      "2 x 7 = 14\n",
      "2 x 8 = 16\n",
      "2 x 9 = 18\n",
      "\n",
      "3 x 1 = 3\n",
      "3 x 2 = 6\n",
      "3 x 3 = 9\n",
      "3 x 4 = 12\n",
      "3 x 5 = 15\n",
      "3 x 6 = 18\n",
      "3 x 7 = 21\n",
      "3 x 8 = 24\n",
      "3 x 9 = 27\n",
      "\n",
      "4 x 1 = 4\n",
      "4 x 2 = 8\n",
      "4 x 3 = 12\n",
      "4 x 4 = 16\n",
      "4 x 5 = 20\n",
      "4 x 6 = 24\n",
      "4 x 7 = 28\n",
      "4 x 8 = 32\n",
      "4 x 9 = 36\n",
      "\n",
      "5 x 1 = 5\n",
      "5 x 2 = 10\n",
      "5 x 3 = 15\n",
      "5 x 4 = 20\n",
      "5 x 5 = 25\n",
      "5 x 6 = 30\n",
      "5 x 7 = 35\n",
      "5 x 8 = 40\n",
      "5 x 9 = 45\n",
      "\n",
      "6 x 1 = 6\n",
      "6 x 2 = 12\n",
      "6 x 3 = 18\n",
      "6 x 4 = 24\n",
      "6 x 5 = 30\n",
      "6 x 6 = 36\n",
      "6 x 7 = 42\n",
      "6 x 8 = 48\n",
      "6 x 9 = 54\n",
      "\n",
      "7 x 1 = 7\n",
      "7 x 2 = 14\n",
      "7 x 3 = 21\n",
      "7 x 4 = 28\n",
      "7 x 5 = 35\n",
      "7 x 6 = 42\n",
      "7 x 7 = 49\n",
      "7 x 8 = 56\n",
      "7 x 9 = 63\n",
      "\n",
      "8 x 1 = 8\n",
      "8 x 2 = 16\n",
      "8 x 3 = 24\n",
      "8 x 4 = 32\n",
      "8 x 5 = 40\n",
      "8 x 6 = 48\n",
      "8 x 7 = 56\n",
      "8 x 8 = 64\n",
      "8 x 9 = 72\n",
      "\n",
      "9 x 1 = 9\n",
      "9 x 2 = 18\n",
      "9 x 3 = 27\n",
      "9 x 4 = 36\n",
      "9 x 5 = 45\n",
      "9 x 6 = 54\n",
      "9 x 7 = 63\n",
      "9 x 8 = 72\n",
      "9 x 9 = 81\n",
      "\n"
     ]
    }
   ],
   "source": [
    "for i in range(2, 10):  # 2단부터 9단까지\n",
    "    for j in range(1, 10):  # 각 단의 1부터 9까지 곱셈\n",
    "        print(f\"{i} x {j} = {i * j}\")\n",
    "    print()  # 각 단이 끝날 때 줄바꿈"
   ]
  },
  {
   "cell_type": "markdown",
   "id": "7aa89a10-9cf9-4ef0-9a60-9287ab0a52d5",
   "metadata": {},
   "source": [
    "## 여러 개의 리스트 다루기"
   ]
  },
  {
   "cell_type": "code",
   "execution_count": 26,
   "id": "ff512a04-dda6-4db1-a212-c1fb81e45e18",
   "metadata": {},
   "outputs": [
    {
     "name": "stdout",
     "output_type": "stream",
     "text": [
      "James 95\n",
      "Robert 96\n",
      "Lisa 97\n",
      "Mary 94\n"
     ]
    }
   ],
   "source": [
    "names = ['James', 'Robert', 'Lisa', 'Mary']\n",
    "scores = [95, 96, 97, 94]\n",
    "\n",
    "# ids : index number\n",
    "for idx in range(len(names)):\n",
    "    # print(idx)\n",
    "    print(names[idx], scores[idx])"
   ]
  },
  {
   "cell_type": "code",
   "execution_count": 27,
   "id": "7df326b1-14f1-4cb6-bac5-462993d14b09",
   "metadata": {},
   "outputs": [
    {
     "name": "stdout",
     "output_type": "stream",
     "text": [
      "James 95\n",
      "Robert 96\n",
      "Lisa 97\n",
      "Mary 94\n"
     ]
    }
   ],
   "source": [
    "names = ['James', 'Robert', 'Lisa', 'Mary']\n",
    "scores = [95, 96, 97, 94]\n",
    "\n",
    "for name, score in zip(names, scores):\n",
    "    print(name, score)"
   ]
  },
  {
   "cell_type": "markdown",
   "id": "a9d850a7-c7cd-432b-b908-e2a4d78bf6ac",
   "metadata": {},
   "source": [
    "## 리스트 컴플리헨션"
   ]
  },
  {
   "cell_type": "code",
   "execution_count": 29,
   "id": "24b4a166-e909-4b95-b7bf-807c4fd3cbf2",
   "metadata": {},
   "outputs": [
    {
     "name": "stdout",
     "output_type": "stream",
     "text": [
      "2\n",
      "4\n",
      "6\n",
      "8\n",
      "10\n"
     ]
    }
   ],
   "source": [
    "numbers = [1, 2, 3, 4, 5]\n",
    "result = []\n",
    "for x in numbers:\n",
    "    print(x * 2)"
   ]
  },
  {
   "cell_type": "code",
   "execution_count": 32,
   "id": "8c92ae26-c1a8-42cb-afc0-f746ce6a23e1",
   "metadata": {},
   "outputs": [
    {
     "name": "stdout",
     "output_type": "stream",
     "text": [
      "[2, 4, 6, 8, 10]\n"
     ]
    }
   ],
   "source": [
    "numbers = [1, 2, 3, 4, 5]\n",
    "result = []\n",
    "for x in numbers:\n",
    "    result.append(x * 2)\n",
    "print(result)"
   ]
  },
  {
   "cell_type": "code",
   "execution_count": 33,
   "id": "fee41073-685e-4e45-8115-5a685f6fcb14",
   "metadata": {},
   "outputs": [
    {
     "name": "stdout",
     "output_type": "stream",
     "text": [
      "[2, 4, 6, 8, 10]\n"
     ]
    }
   ],
   "source": [
    "numbers = [1, 2, 3, 4, 5]\n",
    "result2 = [x *2 for x in numbers]\n",
    "print(result2)"
   ]
  },
  {
   "cell_type": "code",
   "execution_count": 36,
   "id": "123fffbb-17be-40c8-adbc-8e5733e734c9",
   "metadata": {},
   "outputs": [
    {
     "data": {
      "text/plain": [
       "[2, 4, 6]"
      ]
     },
     "execution_count": 36,
     "metadata": {},
     "output_type": "execute_result"
    }
   ],
   "source": [
    "numbers = [1, 2, 3, 4, 5, 6]\n",
    "result = []\n",
    "for x in numbers:\n",
    "    if x % 2 == 0:\n",
    "        result.append(x)\n",
    "result"
   ]
  },
  {
   "cell_type": "code",
   "execution_count": 48,
   "id": "0952577f-573e-47ce-9837-a91ef1b30944",
   "metadata": {},
   "outputs": [
    {
     "name": "stdout",
     "output_type": "stream",
     "text": [
      "[2, 4, 6]\n"
     ]
    }
   ],
   "source": [
    "numbers = [1, 2, 3, 4, 5, 6]\n",
    "result2 = [x for x in numbers if x % 2 == 0]\n",
    "print(result2)"
   ]
  },
  {
   "cell_type": "markdown",
   "id": "209d647e-0700-4760-a6e5-e94746197909",
   "metadata": {},
   "source": [
    "## while 반복문 (데이터 분석에서 자주 쓸 일 없음)\n",
    "- 조건문이 참일 때만 반복해서 실행\n",
    "- 데이터 분석 : 데이터셋이 정해져 있음\n",
    "- - + 행과 열이 고정이 되어 있음\n",
    "    + 범위가 주어진 상태"
   ]
  },
  {
   "cell_type": "code",
   "execution_count": 50,
   "id": "9d2197cd-3008-4df8-ad5f-611cceb40a16",
   "metadata": {},
   "outputs": [
    {
     "name": "stdout",
     "output_type": "stream",
     "text": [
      "1 1\n",
      "2 3\n",
      "3 6\n",
      "4 10\n",
      "5 15\n",
      "6 21\n"
     ]
    }
   ],
   "source": [
    "i = 0\n",
    "total = 0\n",
    "\n",
    "while(total < 20):\n",
    "    i = i + 1\n",
    "    total = total + i\n",
    "    print(i, total)"
   ]
  },
  {
   "cell_type": "code",
   "execution_count": 52,
   "id": "0379c7b2-71a7-4c45-9082-2c5c165f31c7",
   "metadata": {},
   "outputs": [
    {
     "name": "stdout",
     "output_type": "stream",
     "text": [
      "안녕하세요\n",
      "안녕하세요\n",
      "안녕하세요\n",
      "안녕하세요\n",
      "4\n"
     ]
    }
   ],
   "source": [
    "k = 0\n",
    "while True:\n",
    "    k = k + 1\n",
    "    print(\"안녕하세요\")\n",
    "    if(k > 3):\n",
    "        print(k)\n",
    "        break"
   ]
  },
  {
   "cell_type": "markdown",
   "id": "501e3f59-1762-4de4-8f93-677588c14fa9",
   "metadata": {},
   "source": [
    "## 사용자 정의 함수"
   ]
  },
  {
   "cell_type": "code",
   "execution_count": 54,
   "id": "9fca3841-1df6-4eab-bad3-50a5c1e36d7c",
   "metadata": {},
   "outputs": [],
   "source": [
    "def my_list_func():\n",
    "    print(\"안녕하세요\")\n",
    "    print(\"반갑습니다\")"
   ]
  },
  {
   "cell_type": "code",
   "execution_count": 55,
   "id": "a8842644-f75e-4a7d-a823-c91e8b4274f9",
   "metadata": {},
   "outputs": [
    {
     "name": "stdout",
     "output_type": "stream",
     "text": [
      "안녕하세요\n",
      "반갑습니다\n"
     ]
    }
   ],
   "source": [
    "my_list_func()"
   ]
  },
  {
   "cell_type": "markdown",
   "id": "5b95a1b8-5750-4bfd-8f78-d0e0b389ab2c",
   "metadata": {},
   "source": [
    "## 인자(인수)는 있으나 변환 값이 함수"
   ]
  },
  {
   "cell_type": "code",
   "execution_count": 23,
   "id": "2f080140-1fce-4d88-b482-c95abaa27c5d",
   "metadata": {},
   "outputs": [
    {
     "name": "stdout",
     "output_type": "stream",
     "text": [
      "철수는 나의 친구입니다.\n",
      "철수는 나의 친구입니다.\n",
      "길동는 나의 친구입니다.\n",
      "길동는 나의 친구입니다.\n"
     ]
    }
   ],
   "source": [
    "def my_friend(name):\n",
    "    print(f\"{name}는 나의 친구입니다.\")\n",
    "    print(\"{}는 나의 친구입니다.\".format(name))\n",
    "\n",
    "my_friend(\"철수\")\n",
    "my_friend(\"길동\")"
   ]
  },
  {
   "cell_type": "code",
   "execution_count": 25,
   "id": "686969bd-8542-4b34-b542-dcaaff344349",
   "metadata": {},
   "outputs": [
    {
     "ename": "ValueError",
     "evalue": "numpy.dtype size changed, may indicate binary incompatibility. Expected 96 from C header, got 88 from PyObject",
     "output_type": "error",
     "traceback": [
      "\u001b[1;31m---------------------------------------------------------------------------\u001b[0m",
      "\u001b[1;31mValueError\u001b[0m                                Traceback (most recent call last)",
      "Cell \u001b[1;32mIn[25], line 1\u001b[0m\n\u001b[1;32m----> 1\u001b[0m \u001b[38;5;28;01mimport\u001b[39;00m \u001b[38;5;21;01mpandas\u001b[39;00m \u001b[38;5;28;01mas\u001b[39;00m \u001b[38;5;21;01mpd\u001b[39;00m\n\u001b[0;32m      3\u001b[0m pd\u001b[38;5;241m.\u001b[39mread_csv()\n",
      "File \u001b[1;32mC:\\0924_test\\venv\\Lib\\site-packages\\pandas\\__init__.py:59\u001b[0m\n\u001b[0;32m     56\u001b[0m \u001b[38;5;66;03m# let init-time option registration happen\u001b[39;00m\n\u001b[0;32m     57\u001b[0m \u001b[38;5;28;01mimport\u001b[39;00m \u001b[38;5;21;01mpandas\u001b[39;00m\u001b[38;5;21;01m.\u001b[39;00m\u001b[38;5;21;01mcore\u001b[39;00m\u001b[38;5;21;01m.\u001b[39;00m\u001b[38;5;21;01mconfig_init\u001b[39;00m  \u001b[38;5;66;03m# pyright: ignore[reportUnusedImport] # noqa: F401\u001b[39;00m\n\u001b[1;32m---> 59\u001b[0m \u001b[38;5;28;01mfrom\u001b[39;00m \u001b[38;5;21;01mpandas\u001b[39;00m\u001b[38;5;21;01m.\u001b[39;00m\u001b[38;5;21;01mcore\u001b[39;00m\u001b[38;5;21;01m.\u001b[39;00m\u001b[38;5;21;01mapi\u001b[39;00m \u001b[38;5;28;01mimport\u001b[39;00m (\n\u001b[0;32m     60\u001b[0m     \u001b[38;5;66;03m# dtype\u001b[39;00m\n\u001b[0;32m     61\u001b[0m     ArrowDtype,\n\u001b[0;32m     62\u001b[0m     Int8Dtype,\n\u001b[0;32m     63\u001b[0m     Int16Dtype,\n\u001b[0;32m     64\u001b[0m     Int32Dtype,\n\u001b[0;32m     65\u001b[0m     Int64Dtype,\n\u001b[0;32m     66\u001b[0m     UInt8Dtype,\n\u001b[0;32m     67\u001b[0m     UInt16Dtype,\n\u001b[0;32m     68\u001b[0m     UInt32Dtype,\n\u001b[0;32m     69\u001b[0m     UInt64Dtype,\n\u001b[0;32m     70\u001b[0m     Float32Dtype,\n\u001b[0;32m     71\u001b[0m     Float64Dtype,\n\u001b[0;32m     72\u001b[0m     CategoricalDtype,\n\u001b[0;32m     73\u001b[0m     PeriodDtype,\n\u001b[0;32m     74\u001b[0m     IntervalDtype,\n\u001b[0;32m     75\u001b[0m     DatetimeTZDtype,\n\u001b[0;32m     76\u001b[0m     StringDtype,\n\u001b[0;32m     77\u001b[0m     BooleanDtype,\n\u001b[0;32m     78\u001b[0m     \u001b[38;5;66;03m# missing\u001b[39;00m\n\u001b[0;32m     79\u001b[0m     NA,\n\u001b[0;32m     80\u001b[0m     isna,\n\u001b[0;32m     81\u001b[0m     isnull,\n\u001b[0;32m     82\u001b[0m     notna,\n\u001b[0;32m     83\u001b[0m     notnull,\n\u001b[0;32m     84\u001b[0m     \u001b[38;5;66;03m# indexes\u001b[39;00m\n\u001b[0;32m     85\u001b[0m     Index,\n\u001b[0;32m     86\u001b[0m     CategoricalIndex,\n\u001b[0;32m     87\u001b[0m     RangeIndex,\n\u001b[0;32m     88\u001b[0m     MultiIndex,\n\u001b[0;32m     89\u001b[0m     IntervalIndex,\n\u001b[0;32m     90\u001b[0m     TimedeltaIndex,\n\u001b[0;32m     91\u001b[0m     DatetimeIndex,\n\u001b[0;32m     92\u001b[0m     PeriodIndex,\n\u001b[0;32m     93\u001b[0m     IndexSlice,\n\u001b[0;32m     94\u001b[0m     \u001b[38;5;66;03m# tseries\u001b[39;00m\n\u001b[0;32m     95\u001b[0m     NaT,\n\u001b[0;32m     96\u001b[0m     Period,\n\u001b[0;32m     97\u001b[0m     period_range,\n\u001b[0;32m     98\u001b[0m     Timedelta,\n\u001b[0;32m     99\u001b[0m     timedelta_range,\n\u001b[0;32m    100\u001b[0m     Timestamp,\n\u001b[0;32m    101\u001b[0m     date_range,\n\u001b[0;32m    102\u001b[0m     bdate_range,\n\u001b[0;32m    103\u001b[0m     Interval,\n\u001b[0;32m    104\u001b[0m     interval_range,\n\u001b[0;32m    105\u001b[0m     DateOffset,\n\u001b[0;32m    106\u001b[0m     \u001b[38;5;66;03m# conversion\u001b[39;00m\n\u001b[0;32m    107\u001b[0m     to_numeric,\n\u001b[0;32m    108\u001b[0m     to_datetime,\n\u001b[0;32m    109\u001b[0m     to_timedelta,\n\u001b[0;32m    110\u001b[0m     \u001b[38;5;66;03m# misc\u001b[39;00m\n\u001b[0;32m    111\u001b[0m     Flags,\n\u001b[0;32m    112\u001b[0m     Grouper,\n\u001b[0;32m    113\u001b[0m     factorize,\n\u001b[0;32m    114\u001b[0m     unique,\n\u001b[0;32m    115\u001b[0m     value_counts,\n\u001b[0;32m    116\u001b[0m     NamedAgg,\n\u001b[0;32m    117\u001b[0m     array,\n\u001b[0;32m    118\u001b[0m     Categorical,\n\u001b[0;32m    119\u001b[0m     set_eng_float_format,\n\u001b[0;32m    120\u001b[0m     Series,\n\u001b[0;32m    121\u001b[0m     DataFrame,\n\u001b[0;32m    122\u001b[0m )\n\u001b[0;32m    124\u001b[0m \u001b[38;5;28;01mfrom\u001b[39;00m \u001b[38;5;21;01mpandas\u001b[39;00m\u001b[38;5;21;01m.\u001b[39;00m\u001b[38;5;21;01mcore\u001b[39;00m\u001b[38;5;21;01m.\u001b[39;00m\u001b[38;5;21;01mdtypes\u001b[39;00m\u001b[38;5;21;01m.\u001b[39;00m\u001b[38;5;21;01mdtypes\u001b[39;00m \u001b[38;5;28;01mimport\u001b[39;00m SparseDtype\n\u001b[0;32m    126\u001b[0m \u001b[38;5;28;01mfrom\u001b[39;00m \u001b[38;5;21;01mpandas\u001b[39;00m\u001b[38;5;21;01m.\u001b[39;00m\u001b[38;5;21;01mtseries\u001b[39;00m\u001b[38;5;21;01m.\u001b[39;00m\u001b[38;5;21;01mapi\u001b[39;00m \u001b[38;5;28;01mimport\u001b[39;00m infer_freq\n",
      "File \u001b[1;32mC:\\0924_test\\venv\\Lib\\site-packages\\pandas\\core\\api.py:1\u001b[0m\n\u001b[1;32m----> 1\u001b[0m \u001b[38;5;28;01mfrom\u001b[39;00m \u001b[38;5;21;01mpandas\u001b[39;00m\u001b[38;5;21;01m.\u001b[39;00m\u001b[38;5;21;01m_libs\u001b[39;00m \u001b[38;5;28;01mimport\u001b[39;00m (\n\u001b[0;32m      2\u001b[0m     NaT,\n\u001b[0;32m      3\u001b[0m     Period,\n\u001b[0;32m      4\u001b[0m     Timedelta,\n\u001b[0;32m      5\u001b[0m     Timestamp,\n\u001b[0;32m      6\u001b[0m )\n\u001b[0;32m      7\u001b[0m \u001b[38;5;28;01mfrom\u001b[39;00m \u001b[38;5;21;01mpandas\u001b[39;00m\u001b[38;5;21;01m.\u001b[39;00m\u001b[38;5;21;01m_libs\u001b[39;00m\u001b[38;5;21;01m.\u001b[39;00m\u001b[38;5;21;01mmissing\u001b[39;00m \u001b[38;5;28;01mimport\u001b[39;00m NA\n\u001b[0;32m      9\u001b[0m \u001b[38;5;28;01mfrom\u001b[39;00m \u001b[38;5;21;01mpandas\u001b[39;00m\u001b[38;5;21;01m.\u001b[39;00m\u001b[38;5;21;01mcore\u001b[39;00m\u001b[38;5;21;01m.\u001b[39;00m\u001b[38;5;21;01mdtypes\u001b[39;00m\u001b[38;5;21;01m.\u001b[39;00m\u001b[38;5;21;01mdtypes\u001b[39;00m \u001b[38;5;28;01mimport\u001b[39;00m (\n\u001b[0;32m     10\u001b[0m     ArrowDtype,\n\u001b[0;32m     11\u001b[0m     CategoricalDtype,\n\u001b[1;32m   (...)\u001b[0m\n\u001b[0;32m     14\u001b[0m     PeriodDtype,\n\u001b[0;32m     15\u001b[0m )\n",
      "File \u001b[1;32mC:\\0924_test\\venv\\Lib\\site-packages\\pandas\\_libs\\__init__.py:18\u001b[0m\n\u001b[0;32m     16\u001b[0m \u001b[38;5;28;01mimport\u001b[39;00m \u001b[38;5;21;01mpandas\u001b[39;00m\u001b[38;5;21;01m.\u001b[39;00m\u001b[38;5;21;01m_libs\u001b[39;00m\u001b[38;5;21;01m.\u001b[39;00m\u001b[38;5;21;01mpandas_parser\u001b[39;00m  \u001b[38;5;66;03m# noqa: E501 # isort: skip # type: ignore[reportUnusedImport]\u001b[39;00m\n\u001b[0;32m     17\u001b[0m \u001b[38;5;28;01mimport\u001b[39;00m \u001b[38;5;21;01mpandas\u001b[39;00m\u001b[38;5;21;01m.\u001b[39;00m\u001b[38;5;21;01m_libs\u001b[39;00m\u001b[38;5;21;01m.\u001b[39;00m\u001b[38;5;21;01mpandas_datetime\u001b[39;00m  \u001b[38;5;66;03m# noqa: F401,E501 # isort: skip # type: ignore[reportUnusedImport]\u001b[39;00m\n\u001b[1;32m---> 18\u001b[0m \u001b[38;5;28;01mfrom\u001b[39;00m \u001b[38;5;21;01mpandas\u001b[39;00m\u001b[38;5;21;01m.\u001b[39;00m\u001b[38;5;21;01m_libs\u001b[39;00m\u001b[38;5;21;01m.\u001b[39;00m\u001b[38;5;21;01minterval\u001b[39;00m \u001b[38;5;28;01mimport\u001b[39;00m Interval\n\u001b[0;32m     19\u001b[0m \u001b[38;5;28;01mfrom\u001b[39;00m \u001b[38;5;21;01mpandas\u001b[39;00m\u001b[38;5;21;01m.\u001b[39;00m\u001b[38;5;21;01m_libs\u001b[39;00m\u001b[38;5;21;01m.\u001b[39;00m\u001b[38;5;21;01mtslibs\u001b[39;00m \u001b[38;5;28;01mimport\u001b[39;00m (\n\u001b[0;32m     20\u001b[0m     NaT,\n\u001b[0;32m     21\u001b[0m     NaTType,\n\u001b[1;32m   (...)\u001b[0m\n\u001b[0;32m     26\u001b[0m     iNaT,\n\u001b[0;32m     27\u001b[0m )\n",
      "File \u001b[1;32minterval.pyx:1\u001b[0m, in \u001b[0;36minit pandas._libs.interval\u001b[1;34m()\u001b[0m\n",
      "\u001b[1;31mValueError\u001b[0m: numpy.dtype size changed, may indicate binary incompatibility. Expected 96 from C header, got 88 from PyObject"
     ]
    }
   ],
   "source": [
    "import pandas as pd\n",
    "\n",
    "pd.read_csv()"
   ]
  },
  {
   "cell_type": "code",
   "execution_count": 26,
   "id": "d3a3ffbc-db8f-4684-a202-c78c5548ed5d",
   "metadata": {},
   "outputs": [
    {
     "name": "stdout",
     "output_type": "stream",
     "text": [
      "영희는 나의 친구입니다.\n",
      "영희는 나의 친구입니다.\n"
     ]
    }
   ],
   "source": [
    "my_friend(\"영희\")"
   ]
  },
  {
   "cell_type": "markdown",
   "id": "b975cdc3-7495-45d8-aac4-73b62e0b28d6",
   "metadata": {},
   "source": [
    "## 인자(인수)는 있으나 반환 값이 있는 함수\n",
    "- 코드 문서화 필수"
   ]
  },
  {
   "cell_type": "code",
   "execution_count": 30,
   "id": "f85753dd-de6b-4f01-b383-94f12cf28357",
   "metadata": {},
   "outputs": [],
   "source": [
    "def my_calc(x, y):\n",
    "    z = x * y\n",
    "    return z"
   ]
  },
  {
   "cell_type": "code",
   "execution_count": 31,
   "id": "e90d9e67-3cf4-4c63-b3f8-40338a5c4331",
   "metadata": {},
   "outputs": [
    {
     "data": {
      "text/plain": [
       "12"
      ]
     },
     "execution_count": 31,
     "metadata": {},
     "output_type": "execute_result"
    }
   ],
   "source": [
    "my_calc(3, 4)"
   ]
  },
  {
   "cell_type": "markdown",
   "id": "362e1de8-c124-41c9-be3d-610b16a0c696",
   "metadata": {},
   "source": [
    "## 변수의 유효 범위\n",
    "- 키워드: 전역 변수, 지역 변수"
   ]
  },
  {
   "cell_type": "code",
   "execution_count": 19,
   "id": "4fd485c7-a769-4a45-a1ec-8ec67641af6a",
   "metadata": {},
   "outputs": [],
   "source": [
    "a = 5      # 전역 변수\n",
    "\n",
    "def func1():\n",
    "    a = 1\n",
    "    print(\"[func1] 지역 변수 a =\", a) # 지역 변수\n",
    "\n",
    "\n",
    "def func2():\n",
    "    a = 2\n",
    "    print(\"[func2] 지역 변수 a =\", a) # 지역 변수\n",
    "\n",
    "\n",
    "def func3():\n",
    "    print(\"[func3] 지역 변수 a =\", a) \n",
    "\n",
    "def func4():\n",
    "    global a\n",
    "    a = 4\n",
    "    print(\"[func4] 전역 변수 a =\", a) "
   ]
  },
  {
   "cell_type": "code",
   "execution_count": 20,
   "id": "e658757d-7a27-46c9-964a-082391794e6d",
   "metadata": {},
   "outputs": [
    {
     "name": "stdout",
     "output_type": "stream",
     "text": [
      "[func1] 지역 변수 a = 1\n",
      "[func2] 지역 변수 a = 2\n",
      "[func3] 지역 변수 a = 5\n",
      "전역 변수 a= 5\n"
     ]
    }
   ],
   "source": [
    "func1()\n",
    "func2()\n",
    "func3()\n",
    "print(\"전역 변수 a=\", a)"
   ]
  },
  {
   "cell_type": "code",
   "execution_count": 21,
   "id": "4c792e4c-c935-4615-9d24-6381bba6ac7e",
   "metadata": {},
   "outputs": [
    {
     "name": "stdout",
     "output_type": "stream",
     "text": [
      "[func3] 지역 변수 a = 5\n",
      "[func4] 전역 변수 a = 4\n",
      "[func3] 지역 변수 a = 4\n"
     ]
    }
   ],
   "source": [
    "func3()\n",
    "func4()\n",
    "func3()"
   ]
  },
  {
   "cell_type": "markdown",
   "id": "26651cc7-1de9-4901-b881-5deb16ff6083",
   "metadata": {},
   "source": [
    "## 가변인수\n",
    "- 학생의 점수를 입력받아 평균 점수를 계산하는 함수\n",
    "- + 문제점 : 각 학생들마다 시험 본 과목수가 다 다름\n",
    "  + - A : 3과목\n",
    "    - B : 2과목\n",
    "    - C : 5과목"
   ]
  },
  {
   "cell_type": "code",
   "execution_count": 22,
   "id": "528ea8dd-5a26-463b-b355-ca4017f65d69",
   "metadata": {},
   "outputs": [],
   "source": [
    "def calculate_average(name, *scores):\n",
    "    if scores:  # 가변 인수가 비어있지 않은지 확인\n",
    "        average_score = sum(scores) / len(scores)\n",
    "        print(f\"{name}의 평균 점수는 {average_score:.2f}점입니다.\")\n",
    "    else:\n",
    "        print(f\"{name}의 점수를 입력하지 않았습니다.\")"
   ]
  },
  {
   "cell_type": "code",
   "execution_count": 23,
   "id": "65925fee-0301-4199-916e-a6aa7db890cf",
   "metadata": {},
   "outputs": [
    {
     "name": "stdout",
     "output_type": "stream",
     "text": [
      "Evan의 평균 점수는 76.67점입니다.\n"
     ]
    }
   ],
   "source": [
    "calculate_average(\"Evan\", 85, 70, 75)"
   ]
  },
  {
   "cell_type": "code",
   "execution_count": 24,
   "id": "7adddf41-ccd1-4325-888a-d4c9fdab4ca9",
   "metadata": {},
   "outputs": [
    {
     "name": "stdout",
     "output_type": "stream",
     "text": [
      "A의 평균 점수는 80.00점입니다.\n"
     ]
    }
   ],
   "source": [
    "calculate_average(\"A\", 90, 70)"
   ]
  },
  {
   "cell_type": "code",
   "execution_count": 25,
   "id": "bed11d5a-c95a-422e-b634-c2b0040c9b9d",
   "metadata": {},
   "outputs": [
    {
     "name": "stdout",
     "output_type": "stream",
     "text": [
      "B의 점수를 입력하지 않았습니다.\n"
     ]
    }
   ],
   "source": [
    "calculate_average(\"B\")"
   ]
  },
  {
   "cell_type": "code",
   "execution_count": 27,
   "id": "88409b5c-3aa9-45ee-9058-d037df24fb9a",
   "metadata": {},
   "outputs": [],
   "source": [
    "def calculate_average(name, *scores):\n",
    "    print(type(scores))\n",
    "    if scores:  # 가변 인수가 비어있지 않은지 확인\n",
    "        average_score = sum(scores) / len(scores)\n",
    "        print(f\"{name}의 평균 점수는 {average_score:.2f}점입니다.\")\n",
    "    else:\n",
    "        print(f\"{name}의 점수를 입력하지 않았습니다.\")"
   ]
  },
  {
   "cell_type": "code",
   "execution_count": 28,
   "id": "26c1cb41-add1-44da-8333-ea666c11a686",
   "metadata": {},
   "outputs": [
    {
     "name": "stdout",
     "output_type": "stream",
     "text": [
      "<class 'tuple'>\n",
      "Evan의 평균 점수는 76.67점입니다.\n"
     ]
    }
   ],
   "source": [
    "calculate_average(\"Evan\", 85, 70, 75)"
   ]
  },
  {
   "cell_type": "markdown",
   "id": "a115fce7-7380-4457-850e-295b27d826ca",
   "metadata": {},
   "source": [
    "## 키워드 인수 확인 예제\n",
    "- 학생의 이름, 과목별, 점수, 그리고 학년을 받아 학생의 성적을 출력하는 함수\n",
    "- + 고정 인수: 학생의 이름\n",
    "- + 키워드 인수: 학년 정보"
   ]
  },
  {
   "cell_type": "code",
   "execution_count": 35,
   "id": "15d01755-6998-4e95-a758-954b264e6e60",
   "metadata": {},
   "outputs": [
    {
     "name": "stdout",
     "output_type": "stream",
     "text": [
      "학생 이름: Alice\n",
      "평균 점수: 88.33\n",
      "grade: 2학년\n",
      "school: Seoul High School\n",
      "\n",
      "\n",
      "학생 이름: Bob\n",
      "평균 점수: 80.75\n",
      "grade: 3학년\n",
      "school: Busan High School\n",
      "hobby: 축구\n",
      "\n",
      "\n",
      "학생 이름: Charlie\n",
      "점수를 입력하지 않았습니다.\n",
      "grade: 1학년\n"
     ]
    }
   ],
   "source": [
    "#def student_report(name, *args, **kwargs):\n",
    "\n",
    "def student_report(name, *scores, **details):\n",
    "    print(f\"학생 이름: {name}\")\n",
    "\n",
    "    # 점수가 입력된 경우에만 평균을 계산\n",
    "    if scores:\n",
    "        average_score = sum(scores) / len(scores)\n",
    "        print(f\"평균 점수: {average_score:.2f}\")\n",
    "    else:\n",
    "        print(\"점수를 입력하지 않았습니다.\")\n",
    "\n",
    "    # 키워드 인수로 전달된 추가 정보를 출력\n",
    "    for key, value in details.items():\n",
    "        print(f\"{key}: {value}\")\n",
    "\n",
    "# 함수 호출 예제\n",
    "student_report(\"Alice\", 88, 92, 85, grade=\"2학년\", school=\"Seoul High School\")\n",
    "print(\"\\n\")\n",
    "student_report(\"Bob\", 75, 80, 78, 90, grade=\"3학년\", school=\"Busan High School\", hobby=\"축구\")\n",
    "print(\"\\n\")\n",
    "student_report(\"Charlie\", grade=\"1학년\")"
   ]
  },
  {
   "cell_type": "markdown",
   "id": "c822e185-a836-4d2b-a85c-de805cab663f",
   "metadata": {},
   "source": [
    "# 람다(lambda) 함수"
   ]
  },
  {
   "cell_type": "code",
   "execution_count": 38,
   "id": "ad0c4f2c-2985-43cb-9b38-eb6dadbf9b17",
   "metadata": {},
   "outputs": [
    {
     "data": {
      "text/plain": [
       "25"
      ]
     },
     "execution_count": 38,
     "metadata": {},
     "output_type": "execute_result"
    }
   ],
   "source": [
    "(lambda x : x ** 2)(5)"
   ]
  },
  {
   "cell_type": "code",
   "execution_count": 39,
   "id": "feb3f198-f60e-4c80-8527-941165c752a5",
   "metadata": {},
   "outputs": [
    {
     "data": {
      "text/plain": [
       "25"
      ]
     },
     "execution_count": 39,
     "metadata": {},
     "output_type": "execute_result"
    }
   ],
   "source": [
    "mySquare = lambda x : x ** 2\n",
    "mySquare(5)"
   ]
  },
  {
   "cell_type": "markdown",
   "id": "9d712259-e2c6-45e9-951d-3da405130081",
   "metadata": {},
   "source": [
    "# Context Manager, Decorator\n",
    "- 클로저 Closure\n",
    "- + 함수 안에 또 다른 함수 생성"
   ]
  },
  {
   "cell_type": "code",
   "execution_count": 40,
   "id": "196b7c7d-704d-4464-a32c-ecc49c05185e",
   "metadata": {},
   "outputs": [
    {
     "name": "stdout",
     "output_type": "stream",
     "text": [
      "Function 'slow_function' executed in 2.0011 seconds\n"
     ]
    },
    {
     "data": {
      "text/plain": [
       "'Finished'"
      ]
     },
     "execution_count": 40,
     "metadata": {},
     "output_type": "execute_result"
    }
   ],
   "source": [
    "import time\n",
    "\n",
    "def time_decorator(func):\n",
    "    def wrapper(*args, **kwargs):\n",
    "        start_time = time.time()\n",
    "        result = func(*args, **kwargs)\n",
    "        end_time = time.time()\n",
    "        print(f\"Function '{func.__name__}' executed in {end_time - start_time:.4f} seconds\")\n",
    "        return result\n",
    "    return wrapper\n",
    "\n",
    "@time_decorator\n",
    "def slow_function():\n",
    "    time.sleep(2)\n",
    "    return \"Finished\"\n",
    "\n",
    "# 사용 예시\n",
    "slow_function()"
   ]
  },
  {
   "cell_type": "markdown",
   "id": "45a1de95-a01d-4e23-b5c2-d26606b4f0bc",
   "metadata": {},
   "source": [
    "# 클래스 왕기초"
   ]
  },
  {
   "cell_type": "code",
   "execution_count": 50,
   "id": "9671e338-4e5a-486b-9307-ec4c49b63ec7",
   "metadata": {},
   "outputs": [],
   "source": [
    "class 책:\n",
    "    title = None   # 속성\n",
    "    author = None\n",
    "    pages = 0\n",
    "    price = 0\n",
    "    discount = 0\n",
    "\n",
    "    def 읽는시간(self, reading_speed = 30):\n",
    "        return round(self.pages / reading_speed, 1)"
   ]
  },
  {
   "cell_type": "code",
   "execution_count": 56,
   "id": "0a42daca-b80d-4bf6-abc4-64636aeb350a",
   "metadata": {},
   "outputs": [
    {
     "name": "stdout",
     "output_type": "stream",
     "text": [
      "Streamlit None\n",
      "18.7\n"
     ]
    }
   ],
   "source": [
    "# 인스턴스 생성\n",
    "책01호 = 책()\n",
    "책01호.title = \"Streamlit\"\n",
    "책01호.autor = \"Evan\"\n",
    "책01호.pages = 560\n",
    "책01호.price = 40000\n",
    "책01호.discount = 10\n",
    "\n",
    "print(책01호.title, 책01호.author)\n",
    "출력값 = 책01호.읽는시간()\n",
    "print(출력값)"
   ]
  },
  {
   "cell_type": "code",
   "execution_count": 57,
   "id": "b72bd6a1-7c44-4baa-a520-6014d4862ac0",
   "metadata": {},
   "outputs": [
    {
     "name": "stdout",
     "output_type": "stream",
     "text": [
      "Streamlit None\n",
      "112.0\n"
     ]
    }
   ],
   "source": [
    "print(책01호.title, 책01호.author)\n",
    "출력값 = 책01호.읽는시간(reading_speed = 5)\n",
    "print(출력값)"
   ]
  },
  {
   "cell_type": "code",
   "execution_count": 58,
   "id": "bb876dc1-036d-40df-b84b-94faae63bc04",
   "metadata": {},
   "outputs": [
    {
     "name": "stdout",
     "output_type": "stream",
     "text": [
      "Python\n"
     ]
    }
   ],
   "source": [
    "# 인스턴스 생성\n",
    "책02호 = 책()\n",
    "책02호.TITLE = \"Python\"\n",
    "\n",
    "print(책02호.TITLE)"
   ]
  },
  {
   "cell_type": "markdown",
   "id": "37b9c018-3683-46be-8054-a7aedf31183b",
   "metadata": {},
   "source": [
    "## 코드 업데이트"
   ]
  },
  {
   "cell_type": "code",
   "execution_count": 77,
   "id": "991603bb-01fd-4f27-9e2e-aacdd867036e",
   "metadata": {},
   "outputs": [],
   "source": [
    "class 책():\n",
    "    def __init__(self, title, author, pages, price, discount_rate=0):\n",
    "        self.title = title # 책의 제목\n",
    "        self.author = author\n",
    "        self.pages = pages\n",
    "        self.price = price\n",
    "        self.discount_rate = discount_rate\n",
    "\n",
    "    def reading_time(self, reading_speed = 30):\n",
    "        return round(self.pages / reading_speed, 1)\n",
    "\n",
    "    def apply_discount(self):\n",
    "        return self.price * (1 - self.discount_rate)"
   ]
  },
  {
   "cell_type": "code",
   "execution_count": 79,
   "id": "17b7e1ae-3932-4b4d-b602-be0552d9669d",
   "metadata": {},
   "outputs": [
    {
     "data": {
      "text/plain": [
       "('샘플', '샘플2', 0.5, 0.1)"
      ]
     },
     "execution_count": 79,
     "metadata": {},
     "output_type": "execute_result"
    }
   ],
   "source": [
    "책01호 = 책(\"샘플\", \"Evan\", 300, 20000, 0.5)\n",
    "책02호 = 책(\"샘플2\", \"Evan2\", 400, 20000, 0.1)\n",
    "책03호 = 책(\"샘플3\", \"Evan3\", 500, 20000, 0.1)\n",
    "책04호 = 책(\"샘플4\", \"Evan4\", 600, 20000, 0.1)\n",
    "책01호.title, 책02호.title, 책01호.discount_rate, 책02호.discount_rate"
   ]
  },
  {
   "cell_type": "code",
   "execution_count": null,
   "id": "26dc29b6-69f6-4537-8936-71004ea55a81",
   "metadata": {},
   "outputs": [],
   "source": []
  },
  {
   "cell_type": "code",
   "execution_count": 71,
   "id": "f6ad13c7-8149-46c0-902a-c002d1284b33",
   "metadata": {},
   "outputs": [],
   "source": [
    "class 책():\n",
    "    # initialize : 초기화\n",
    "    def __init__(self, title, author, pages, price, discount_rate=0):\n",
    "        self.title = title # 책의 제목\n",
    "        self.author = author \n",
    "        self.pages = pages\n",
    "        self.price = price\n",
    "        self.discount_rate = discount_rate\n",
    "        \n",
    "    def reading_time(self, reading_speed = 30):\n",
    "        return round(self.pages / reading_speed, 1)\n",
    "\n",
    "    def apply_discount(self):\n",
    "        return self.price * (1 - self.discount_rate)"
   ]
  },
  {
   "cell_type": "code",
   "execution_count": 72,
   "id": "4bc5bac4-0275-426a-852a-c51ee5b10228",
   "metadata": {},
   "outputs": [
    {
     "data": {
      "text/plain": [
       "('샘플', '샘플2')"
      ]
     },
     "execution_count": 72,
     "metadata": {},
     "output_type": "execute_result"
    }
   ],
   "source": [
    "책01호 = 책(\"샘플\", \"Evan\", 300, 20000, 0.5)\n",
    "책02호 = 책(\"샘플2\", \"Evan1\", 400, 20000, 0.1)\n",
    "책03호 = 책(\"샘플3\", \"Evan2\", 500, 20000, 0.1)\n",
    "책04호 = 책(\"샘플4\", \"Eva3\", 600, 20000, 0.1)\n",
    "책01호.title, 책02호.title"
   ]
  },
  {
   "cell_type": "code",
   "execution_count": 73,
   "id": "38131da6-3871-4e2b-adc0-0cf384b73383",
   "metadata": {},
   "outputs": [
    {
     "data": {
      "text/plain": [
       "10.0"
      ]
     },
     "execution_count": 73,
     "metadata": {},
     "output_type": "execute_result"
    }
   ],
   "source": [
    "책01호 = 책(\"샘플\", \"Evan\", 300, 20000, 0.1)\n",
    "책01호.reading_time()"
   ]
  },
  {
   "cell_type": "code",
   "execution_count": 1,
   "id": "d0dfe139-b4b4-4d5c-a040-28034656d8e6",
   "metadata": {},
   "outputs": [
    {
     "name": "stdout",
     "output_type": "stream",
     "text": [
      "책 01호\n",
      "title Streamlit author Evan pages 560 price 40000 discount 10\n",
      "책 02호\n",
      "title pandas author 성신 pages 400 price 30000 discount 20\n"
     ]
    }
   ],
   "source": [
    "class 책:\n",
    "    title = None\n",
    "    author = None\n",
    "    pages = 0\n",
    "    price = 0\n",
    "    discount = 0\n",
    "\n",
    "책01호 = 책()\n",
    "책01호.title = \"Streamlit\"\n",
    "책01호.author = \"Evan\"\n",
    "책01호.pages = 560\n",
    "책01호.price = 40000\n",
    "책01호.discount = 10\n",
    "\n",
    "print('책 01호')\n",
    "print('title', 책01호.title, 'author', 책01호.author, 'pages', 책01호.pages, 'price', 책01호.price, 'discount', 책01호.discount)\n",
    "\n",
    "책02호 = 책()\n",
    "책02호.title = \"pandas\"\n",
    "책02호.author = \"성신\"\n",
    "책02호.pages = 400\n",
    "책02호.price = 30000\n",
    "책02호.discount = 20\n",
    "\n",
    "print('책 02호')\n",
    "print('title', 책02호.title, 'author', 책02호.author, 'pages', 책02호.pages, 'price', 책02호.price, 'discount', 책02호.discount)\n",
    "\n",
    "# 좋지 않은 방법 -> 활용도가 떨어짐, init 함수 활용해서 클래스 만들기"
   ]
  },
  {
   "cell_type": "code",
   "execution_count": 10,
   "id": "b0dfc0d5-ad68-4195-8313-a23ed5d5fbe2",
   "metadata": {},
   "outputs": [
    {
     "name": "stdout",
     "output_type": "stream",
     "text": [
      "26 black\n",
      "자전거 : 시속60 킬로미터로 전진\n"
     ]
    }
   ],
   "source": [
    "class Bicycle():\n",
    "    def __init__(self, wheel_size, color):\n",
    "        self.wheel_size = wheel_size\n",
    "        self.color = color\n",
    "\n",
    "    def move(self, speed):\n",
    "        print(f\"자전거 : 시속{speed} 킬로미터로 전진\")\n",
    "\n",
    "my_bicycle = Bicycle(26, 'black')\n",
    "print(my_bicycle.wheel_size, my_bicycle.color)\n",
    "\n",
    "my_bicycle.move(60)"
   ]
  },
  {
   "cell_type": "code",
   "execution_count": 15,
   "id": "ce8325b4-808f-49b2-b406-6a3aca2b1a66",
   "metadata": {},
   "outputs": [
    {
     "name": "stdout",
     "output_type": "stream",
     "text": [
      "안녕하세요. 저는 Evan이고, 현재 20살 입니다.\n"
     ]
    }
   ],
   "source": [
    "class Person():\n",
    "    def __init__(self, name, age):\n",
    "        self.name = name\n",
    "        self.age = age\n",
    "\n",
    "    def greet(self):\n",
    "        print(f\"안녕하세요. 저는 {self.name}이고, 현재 {self.age}살 입니다.\")\n",
    "\n",
    "evan = Person(\"Evan\", 20)\n",
    "evan.greet()        "
   ]
  },
  {
   "cell_type": "code",
   "execution_count": 20,
   "id": "78a65e9e-08e5-4012-a854-227d63728b51",
   "metadata": {},
   "outputs": [
    {
     "name": "stdout",
     "output_type": "stream",
     "text": [
      "안녕하세요. Tom님 저는 Evan이고, 현재 20살 입니다.\n"
     ]
    }
   ],
   "source": [
    "class Person():\n",
    "    def __init__(self, name, age):\n",
    "        self.name = name\n",
    "        self.age = age\n",
    "\n",
    "    def greet(self, other_name):\n",
    "        print(f\"안녕하세요. {other_name}님 저는 {self.name}이고, 현재 {self.age}살 입니다.\")\n",
    "\n",
    "evan = Person(\"Evan\", 20)\n",
    "evan.greet(other_name = \"Tom\")  "
   ]
  },
  {
   "cell_type": "markdown",
   "id": "2a7a058b-7e98-4fc4-afbe-67c34d14d3e4",
   "metadata": {},
   "source": [
    "## 다양한 메서드 추가"
   ]
  },
  {
   "cell_type": "code",
   "execution_count": 21,
   "id": "06ed07ba-b3df-4d09-8302-a9e71e95d6ec",
   "metadata": {},
   "outputs": [
    {
     "name": "stdout",
     "output_type": "stream",
     "text": [
      "자전거 : 시속30 킬로미터로 전진\n",
      "26, black의 특성을 가진 자전거님 정지하세요\n"
     ]
    }
   ],
   "source": [
    "class Bicycle():\n",
    "    def __init__(self, wheel_size, color):\n",
    "        self.wheel_size = wheel_size\n",
    "        self.color = color\n",
    "\n",
    "    def move(self, speed):\n",
    "        print(f\"자전거 : 시속{speed} 킬로미터로 전진\")\n",
    "\n",
    "\n",
    "    def stop(self):\n",
    "        print(f\"{self.wheel_size}, {self.color}의 특성을 가진 자전거님 정지하세요\")\n",
    "\n",
    "my_bicycle = Bicycle(26, 'black')\n",
    "my_bicycle.move(30)\n",
    "my_bicycle.stop()"
   ]
  },
  {
   "cell_type": "markdown",
   "id": "8d57c70c-e1db-42ce-bec1-1e905ddb97ae",
   "metadata": {},
   "source": [
    "- 클래스를 만들다고 할 때, 클래스명 특성과 행동을 정의하는 것이 핵심 포인트\n",
    "- 시각화를 그리려고 함\n",
    "- + 도면 클래스 : 다양한 속성과 함수들이 존재\n",
    "  + 그리그도구 클래스 : 다양한 속성과 함수들이 존재\n",
    "  + 막대그래프 클래스\n",
    "  + 파이차트 클래스"
   ]
  },
  {
   "cell_type": "markdown",
   "id": "141f2f5e-7a65-4576-94ee-13121b34ca4d",
   "metadata": {},
   "source": [
    "## 클래스에서 사용하는 변수"
   ]
  },
  {
   "cell_type": "code",
   "execution_count": 39,
   "id": "33b3be2d-cf16-4113-86e3-b4e74824e798",
   "metadata": {},
   "outputs": [],
   "source": [
    "class Car():\n",
    "\n",
    "    #클래스 변수\n",
    "    instance_count = 0 # 클래스 변수 생성 및 초기화\n",
    "\n",
    "    def __init__(self, size, color):\n",
    "        self.size = size # 인스턴스 변수 생성 및 초기화\n",
    "        self.color = color # 인스턴스 변수 생성 및 초기화\n",
    "        Car.instance_count = Car.instance_count +1 # 클래스 변수 이용 하는 방법\n",
    "        print(f\"자동차 객체의 수: {Car.instance_count}\")\n",
    "\n",
    "    def move(self):\n",
    "        print(f\"자동차 {self.size}, {self.color}가 움직입니다.\")"
   ]
  },
  {
   "cell_type": "code",
   "execution_count": 56,
   "id": "b7ff7ea5-b6bb-46e9-b0bc-bfe1a6b2e83d",
   "metadata": {},
   "outputs": [
    {
     "ename": "TypeError",
     "evalue": "Car.__init__() missing 2 required positional arguments: 'year' and 'doors'",
     "output_type": "error",
     "traceback": [
      "\u001b[1;31m---------------------------------------------------------------------------\u001b[0m",
      "\u001b[1;31mTypeError\u001b[0m                                 Traceback (most recent call last)",
      "Cell \u001b[1;32mIn[56], line 1\u001b[0m\n\u001b[1;32m----> 1\u001b[0m car1 \u001b[38;5;241m=\u001b[39m \u001b[43mCar\u001b[49m\u001b[43m(\u001b[49m\u001b[38;5;124;43m'\u001b[39;49m\u001b[38;5;124;43msmall\u001b[39;49m\u001b[38;5;124;43m'\u001b[39;49m\u001b[43m,\u001b[49m\u001b[43m \u001b[49m\u001b[38;5;124;43m'\u001b[39;49m\u001b[38;5;124;43mwhite\u001b[39;49m\u001b[38;5;124;43m'\u001b[39;49m\u001b[43m)\u001b[49m\n\u001b[0;32m      2\u001b[0m car2 \u001b[38;5;241m=\u001b[39m Car(\u001b[38;5;124m'\u001b[39m\u001b[38;5;124mbig\u001b[39m\u001b[38;5;124m'\u001b[39m, \u001b[38;5;124m'\u001b[39m\u001b[38;5;124mblack\u001b[39m\u001b[38;5;124m'\u001b[39m)\n\u001b[0;32m      3\u001b[0m car3 \u001b[38;5;241m=\u001b[39m Car(\u001b[38;5;124m'\u001b[39m\u001b[38;5;124mmedium\u001b[39m\u001b[38;5;124m'\u001b[39m, \u001b[38;5;124m'\u001b[39m\u001b[38;5;124myellow\u001b[39m\u001b[38;5;124m'\u001b[39m)\n",
      "\u001b[1;31mTypeError\u001b[0m: Car.__init__() missing 2 required positional arguments: 'year' and 'doors'"
     ]
    }
   ],
   "source": [
    "car1 = Car('small', 'white')\n",
    "car2 = Car('big', 'black')\n",
    "car3 = Car('medium', 'yellow')"
   ]
  },
  {
   "cell_type": "markdown",
   "id": "7902087c-de55-4158-a5ee-9d7e466e0e95",
   "metadata": {},
   "source": [
    "## 상속의 기본형태"
   ]
  },
  {
   "cell_type": "code",
   "execution_count": 41,
   "id": "24d2459e-aa45-4d68-a88b-653e7f9183f3",
   "metadata": {},
   "outputs": [],
   "source": [
    "class 상위클래스:\n",
    "    pass\n",
    "\n",
    "class 하위클래스(상위클래스):\n",
    "    pass"
   ]
  },
  {
   "cell_type": "code",
   "execution_count": 42,
   "id": "bb7904f9-ee91-4123-b4b1-68869e1d4e81",
   "metadata": {},
   "outputs": [],
   "source": [
    "class 동물:\n",
    "\n",
    "    name = \"\"\n",
    "\n",
    "    def 음식먹기(self):\n",
    "        print(\"저는 음식을 먹습니다\")"
   ]
  },
  {
   "cell_type": "code",
   "execution_count": 43,
   "id": "81e8f085-ba6c-460a-b848-7068c6651368",
   "metadata": {},
   "outputs": [
    {
     "name": "stdout",
     "output_type": "stream",
     "text": [
      "저는 음식을 먹습니다\n"
     ]
    }
   ],
   "source": [
    "동물1 = 동물()\n",
    "동물1.음식먹기()"
   ]
  },
  {
   "cell_type": "code",
   "execution_count": 47,
   "id": "f10ae8b2-881c-4b40-8bdd-9bf773d3d665",
   "metadata": {},
   "outputs": [
    {
     "name": "stdout",
     "output_type": "stream",
     "text": [
      "저는 음식을 먹습니다\n",
      "내 이름은 뚜비\n"
     ]
    }
   ],
   "source": [
    "강아지1 = 강아지()\n",
    "강아지1.name = \"뚜비\"\n",
    "강아지1.음식먹기()\n",
    "강아지1.자기소개()"
   ]
  },
  {
   "cell_type": "code",
   "execution_count": 48,
   "id": "bb80eddc-7a1d-4f8f-9955-f77c9f369463",
   "metadata": {},
   "outputs": [
    {
     "name": "stdout",
     "output_type": "stream",
     "text": [
      "Hyundai Sonata의 엔진을 시작합니다.\n",
      "Hyundai Sonata의 트렁크를 엽니다.\n",
      "이 차량은 2022년식 Hyundai Sonata입니다.\n",
      "이 차량은 4개의 문이 있습니다.\n",
      "Hyundai Sonata의 엔진을 끕니다.\n"
     ]
    }
   ],
   "source": [
    "# 상위 클래스: Vehicle\n",
    "class Vehicle:\n",
    "    def __init__(self, brand, model, year):\n",
    "        self.brand = brand  # 제조사\n",
    "        self.model = model  # 모델명\n",
    "        self.year = year    # 제작 연도\n",
    "\n",
    "    def start_engine(self):\n",
    "        print(f\"{self.brand} {self.model}의 엔진을 시작합니다.\")\n",
    "    \n",
    "    def stop_engine(self):\n",
    "        print(f\"{self.brand} {self.model}의 엔진을 끕니다.\")\n",
    "    \n",
    "    def info(self):\n",
    "        print(f\"이 차량은 {self.year}년식 {self.brand} {self.model}입니다.\")\n",
    "\n",
    "# 하위 클래스: Car (Vehicle을 상속받음)\n",
    "class Car(Vehicle):\n",
    "    def __init__(self, brand, model, year, doors):\n",
    "        super().__init__(brand, model, year)  # 상위 클래스의 속성 초기화\n",
    "        self.doors = doors  # 추가 속성: 문 개수\n",
    "    \n",
    "    def open_trunk(self):\n",
    "        print(f\"{self.brand} {self.model}의 트렁크를 엽니다.\")\n",
    "    \n",
    "    def info(self):\n",
    "        # 상위 클래스의 info 메서드를 오버라이딩하여 더 구체적인 정보를 제공\n",
    "        super().info()\n",
    "        print(f\"이 차량은 {self.doors}개의 문이 있습니다.\")\n",
    "\n",
    "# 객체 생성 및 사용 예시\n",
    "my_car = Car(\"Hyundai\", \"Sonata\", 2022, 4)\n",
    "\n",
    "my_car.start_engine()  # 상위 클래스 메서드 사용\n",
    "my_car.open_trunk()    # 하위 클래스 고유 메서드 사용\n",
    "my_car.info()          # 오버라이딩된 info 메서드 사용\n",
    "my_car.stop_engine()   # 상위 클래스 메서드 사용"
   ]
  },
  {
   "cell_type": "markdown",
   "id": "1ca7e06c-2f76-4ae3-8b6a-6403f24d4677",
   "metadata": {},
   "source": [
    "## 다중상속"
   ]
  },
  {
   "cell_type": "code",
   "execution_count": 50,
   "id": "b5439ad9-9aaa-4c72-9e00-3c6379a83905",
   "metadata": {},
   "outputs": [],
   "source": [
    "class 상위클래스1:\n",
    "    pass\n",
    "class 상위클래스2:\n",
    "    pass\n",
    "class 하위클래스(상위클래스1, 상위클래스2):\n",
    "    pass"
   ]
  },
  {
   "cell_type": "code",
   "execution_count": 51,
   "id": "0a0ca18a-d35e-4e41-a048-0a2a063753cb",
   "metadata": {},
   "outputs": [
    {
     "name": "stdout",
     "output_type": "stream",
     "text": [
      "Max가 먹고 있습니다.\n",
      "Max가 짖습니다.\n",
      "Max은 Golden Retriever 종류의 개입니다.\n",
      "이 동물은 털이 있습니다.\n"
     ]
    }
   ],
   "source": [
    "# 상위 클래스1: Animal\n",
    "class Animal:\n",
    "    def __init__(self, name):\n",
    "        self.name = name\n",
    "    \n",
    "    def eat(self):\n",
    "        print(f\"{self.name}가 먹고 있습니다.\")\n",
    "\n",
    "# 상위 클래스2: Mammal\n",
    "class Mammal:\n",
    "    def __init__(self, has_fur):\n",
    "        self.has_fur = has_fur\n",
    "    \n",
    "    def describe(self):\n",
    "        if self.has_fur:\n",
    "            print(\"이 동물은 털이 있습니다.\")\n",
    "        else:\n",
    "            print(\"이 동물은 털이 없습니다.\")\n",
    "\n",
    "# 하위 클래스: Dog (Animal, Mammal 다중 상속)\n",
    "class Dog(Animal, Mammal):\n",
    "    def __init__(self, name, has_fur, breed):\n",
    "        Animal.__init__(self, name)  # Animal 클래스의 초기화\n",
    "        Mammal.__init__(self, has_fur)  # Mammal 클래스의 초기화\n",
    "        self.breed = breed  # 추가 속성: 견종\n",
    "    \n",
    "    def bark(self):\n",
    "        print(f\"{self.name}가 짖습니다.\")\n",
    "\n",
    "    def info(self):\n",
    "        print(f\"{self.name}은 {self.breed} 종류의 개입니다.\")\n",
    "        self.describe()\n",
    "\n",
    "# 객체 생성 및 메서드 호출\n",
    "my_dog = Dog(\"Max\", True, \"Golden Retriever\")\n",
    "\n",
    "my_dog.eat()       # Animal 클래스의 메서드\n",
    "my_dog.bark()      # Dog 클래스의 메서드\n",
    "my_dog.info()      # Dog 클래스의 메서드 (Mammal 클래스의 describe 메서드 호출)"
   ]
  },
  {
   "cell_type": "markdown",
   "id": "9c68a3d4-1cd4-45ca-b9f4-a6db04a0d662",
   "metadata": {},
   "source": [
    "# 클래스 설계 하다보면 부딪히는 흔한 문제\n",
    "- 메스드명이 같을 때\n",
    "- 오버라이딩, 다형성"
   ]
  },
  {
   "cell_type": "markdown",
   "id": "0dbbba4c-9133-47b7-b204-6dadffe1b6a4",
   "metadata": {},
   "source": [
    "\"\"\"\n",
    "- Car 클래스를 만들어보겠습니다. \n",
    "- Car 클래스는 `__init__`, `get_description`, `read_kilometer`, `update_kilometer`, `increment_kilometer`라는 메서드를 갖습니다.\n",
    "    + `__init__` 메서드는 클래스의 생성자로, 객체가 생성될 때 호출됩니다.\n",
    "- 속성 사용하기\n",
    "    + `self.make`, `self.model`, `self.year`, `self.kilometer_reading` 클래스의 속성입니다.\n",
    "    + 객체가 생성될 때 속성값이 초기화됩니다.\n",
    "\n",
    "- self의 의미\n",
    "    + self는 클래스의 인스턴스를 참조합니다. 클래스 내의 메서드가 객체의 속성에 접근하거나 다른 메서드를 호출할 때 사용합니다.\n",
    "    + self를 통해 클래스 내의 속성 및 메서드를 정의하고 접근할 수 있습니다.\n",
    "\n",
    "- 클래스의 위치 인수, 키워드 인수\n",
    "    + `__init__` 메서드의 make, model, year는 위치 인수로 전달됩니다.\n",
    "    + 메서드를 호출할 때 my_car.update_kilometer(kilometers=500)처럼 키워드 인수로 사용할 수도 있습니다.\n",
    "\"\"\""
   ]
  },
  {
   "cell_type": "code",
   "execution_count": 66,
   "id": "bdf10f62-c08d-4ce7-b69e-3368b2804d72",
   "metadata": {},
   "outputs": [],
   "source": [
    "class Car():\n",
    "    def __init__(self, make, model, year,):\n",
    "        self.make = make\n",
    "        self.model = model\n",
    "        self.year = year\n",
    "        self.kilometer_reading = kilometer_reading = 0\n",
    "        Car.instance_count = Car.instance_count +1\n",
    "        print(f\"자동차 객체의 수: {Car.instance_count}\")\n",
    "        \n",
    "    def get_description(self):\n",
    "        pass\n",
    "\n",
    "    def read_kilometer(self):\n",
    "        \n",
    "\n",
    "    def update_kilometer(self):\n",
    "        pass\n",
    "\n",
    "    def increment_kilometer(self):\n",
    "        pass\n",
    "\n",
    "car1 = Car"
   ]
  },
  {
   "cell_type": "code",
   "execution_count": 72,
   "id": "498db10b-22aa-4842-81fb-08515c240b28",
   "metadata": {},
   "outputs": [],
   "source": [
    "class Car:\n",
    "    # __init__ 메서드: 객체가 생성될 때 호출되며 속성을 초기화합니다.\n",
    "    def __init__(self, make, model, year):\n",
    "        self.make = make  # 자동차 제조사\n",
    "        self.model = model  # 자동차 모델\n",
    "        self.year = year  # 제조 연도\n",
    "        self.kilometer_reading = 0  # 주행 거리 (초기값 0)\n",
    "\n",
    "    # 자동차의 전체 설명을 반환하는 메서드\n",
    "    def get_description(self):\n",
    "        return f\"{self.year} {self.make} {self.model}\"\n",
    "\n",
    "    # 현재 주행 거리 출력하는 메서드\n",
    "    def read_kilometer(self):\n",
    "        print(f\"이 자동차의 현재 주행 거리는 {self.kilometer_reading} 킬로미터입니다.\")\n",
    "    \n",
    "    # 주행거리 업데이트\n",
    "    # 새로운 값이 기존 값보다 클 경우에만 업데이트\n",
    "    def update_kilometer(self, kilometers):\n",
    "        if kilometers >= self.kilometer_reading:\n",
    "            self.kilometer_reading = kilometers\n",
    "            print(f\"업데이트 확인 : {self.kilometer_reading} 킬로미터\")\n",
    "        else:\n",
    "            print(f\"현재 : {self.kilometer_reading}, 다시 입력해주세용\") \n",
    "\n",
    "    # 주행 거리를 증가시키는 메서드\n",
    "    def increment_kilometer(self, kilometers):\n",
    "        if kilometers > 0:\n",
    "            self.kilometer_reading += kilometers\n",
    "        else:\n",
    "            print(\"음수가 입력되었습니다. 양수로 입력해주세요\")"
   ]
  },
  {
   "cell_type": "code",
   "execution_count": 72,
   "id": "4348dfbb-fea4-40e6-8ba0-24968c78a410",
   "metadata": {},
   "outputs": [],
   "source": [
    "class Car:\n",
    "    # __init__ 메서드: 객체가 생성될 때 호출되며 속성을 초기화합니다.\n",
    "    def __init__(self, make, model, year):\n",
    "        self.make = make  # 자동차 제조사\n",
    "        self.model = model  # 자동차 모델\n",
    "        self.year = year  # 제조 연도\n",
    "        self.kilometer_reading = 0  # 주행 거리 (초기값 0)\n",
    "\n",
    "    # 자동차의 전체 설명을 반환하는 메서드\n",
    "    def get_description(self):\n",
    "        return f\"{self.year} {self.make} {self.model}\"\n",
    "\n",
    "    # 현재 주행 거리 출력하는 메서드\n",
    "    def read_kilometer(self):\n",
    "        print(f\"이 자동차의 현재 주행 거리는 {self.kilometer_reading} 킬로미터입니다.\")\n",
    "    \n",
    "    # 주행거리 업데이트\n",
    "    # 새로운 값이 기존 값보다 클 경우에만 업데이트\n",
    "    def update_kilometer(self, kilometers):\n",
    "        if kilometers >= self.kilometer_reading:\n",
    "            self.kilometer_reading = kilometers\n",
    "            print(f\"업데이트 확인 : {self.kilometer_reading} 킬로미터\")\n",
    "        else:\n",
    "            print(f\"현재 : {self.kilometer_reading}, 다시 입력해주세용\") \n",
    "\n",
    "    # 주행 거리를 증가시키는 메서드\n",
    "    def increment_kilometer(self, kilometers):\n",
    "        if kilometers > 0:\n",
    "            self.kilometer_reading += kilometers\n",
    "        else:\n",
    "            print(\"음수가 입력되었습니다. 양수로 입력해주세요\")"
   ]
  },
  {
   "cell_type": "code",
   "execution_count": 73,
   "id": "55ef8c8c-74a6-455e-9ecd-301ed7dca9e3",
   "metadata": {},
   "outputs": [
    {
     "name": "stdout",
     "output_type": "stream",
     "text": [
      "2024 현대 아반떼\n",
      "이 자동차의 현재 주행 거리는 0 킬로미터입니다.\n",
      "이 자동차의 현재 주행 거리는 100 킬로미터입니다.\n"
     ]
    }
   ],
   "source": [
    "my_car = Car(\"현대\", \"아반떼\", 2024)\n",
    "description = my_car.get_description()\n",
    "print(description)\n",
    "my_car.read_kilometer()\n",
    "my_car.increment_kilometer(100)\n",
    "my_car.read_kilometer()"
   ]
  },
  {
   "cell_type": "code",
   "execution_count": 75,
   "id": "f816c5f0-c6d5-4c92-83f3-f07d2b2e18cb",
   "metadata": {},
   "outputs": [],
   "source": [
    "class Car:\n",
    "    \"\"\"\n",
    "    Car 클래스를 정의합니다. 이 클래스는 자동차의 제조사, 모델, 연도, 주행 거리와 같은\n",
    "    속성을 포함하며 주행 거리를 업데이트하는 메서드를 제공합니다.\n",
    "    \"\"\"\n",
    "\n",
    "    def __init__(self, make: str, model: str, year: int) -> None:\n",
    "        \"\"\"\n",
    "        Car 객체를 초기화합니다.\n",
    "\n",
    "        :param make: 자동차 제조사 (예: 'Hyundai')\n",
    "        :param model: 자동차 모델 (예: 'Sonata')\n",
    "        :param year: 제조 연도 (예: 2022)\n",
    "        \"\"\"\n",
    "        self.make = make\n",
    "        self.model = model\n",
    "        self.year = year\n",
    "        self.kilometer_reading = 0  # 주행 거리 (초기값 0)\n",
    "\n",
    "    def get_description(self) -> str:\n",
    "        \"\"\"\n",
    "        자동차의 연도, 제조사, 모델을 설명하는 문자열을 반환합니다.\n",
    "\n",
    "        :return: 자동차의 연도, 제조사, 모델을 포함한 설명 문자열\n",
    "        \"\"\"\n",
    "        return f\"{self.year} {self.make} {self.model}\"\n",
    "\n",
    "    def read_kilometer(self) -> None:\n",
    "        \"\"\"\n",
    "        현재 주행 거리를 출력합니다.\n",
    "        \"\"\"\n",
    "        print(f\"이 자동차의 현재 주행 거리는 {self.kilometer_reading} 킬로미터입니다.\")\n",
    "\n",
    "    def update_kilometer(self, kilometers: int) -> None:\n",
    "        \"\"\"\n",
    "        주행 거리를 업데이트합니다. 새로운 값이 기존 값보다 클 경우에만 업데이트됩니다.\n",
    "\n",
    "        :param kilometers: 업데이트할 주행 거리\n",
    "        \"\"\"\n",
    "        if kilometers >= self.kilometer_reading:\n",
    "            self.kilometer_reading = kilometers\n",
    "            print(f\"업데이트 확인: {self.kilometer_reading} 킬로미터\")\n",
    "        else:\n",
    "            print(f\"현재 주행 거리: {self.kilometer_reading} 킬로미터, 다시 입력해주세요.\")\n",
    "\n",
    "    def increment_kilometer(self, kilometers: int) -> None:\n",
    "        \"\"\"\n",
    "        주행 거리를 주어진 값만큼 증가시킵니다. 음수 값은 허용되지 않습니다.\n",
    "\n",
    "        :param kilometers: 증가시킬 주행 거리 값\n",
    "        \"\"\"\n",
    "        if kilometers > 0:\n",
    "            self.kilometer_reading += kilometers\n",
    "        else:\n",
    "            print(\"주행 거리는 음수가 될 수 없습니다.\")"
   ]
  },
  {
   "cell_type": "code",
   "execution_count": 76,
   "id": "bf482451-89ed-45be-8a40-380724ac3de6",
   "metadata": {},
   "outputs": [
    {
     "name": "stdout",
     "output_type": "stream",
     "text": [
      "\n",
      "    Car 클래스를 정의합니다. 이 클래스는 자동차의 제조사, 모델, 연도, 주행 거리와 같은\n",
      "    속성을 포함하며 주행 거리를 업데이트하는 메서드를 제공합니다.\n",
      "    \n"
     ]
    }
   ],
   "source": [
    "my_car = Car(\"현대\", \"아반때\", 2024)\n",
    "print(my_car.__doc__)"
   ]
  },
  {
   "cell_type": "code",
   "execution_count": 77,
   "id": "6b02f94e-664f-4020-8028-16702bfdd48d",
   "metadata": {},
   "outputs": [
    {
     "name": "stdout",
     "output_type": "stream",
     "text": [
      "Help on Car in module __main__ object:\n",
      "\n",
      "class Car(builtins.object)\n",
      " |  Car(make: str, model: str, year: int) -> None\n",
      " |\n",
      " |  Car 클래스를 정의합니다. 이 클래스는 자동차의 제조사, 모델, 연도, 주행 거리와 같은\n",
      " |  속성을 포함하며 주행 거리를 업데이트하는 메서드를 제공합니다.\n",
      " |\n",
      " |  Methods defined here:\n",
      " |\n",
      " |  __init__(self, make: str, model: str, year: int) -> None\n",
      " |      Car 객체를 초기화합니다.\n",
      " |\n",
      " |      :param make: 자동차 제조사 (예: 'Hyundai')\n",
      " |      :param model: 자동차 모델 (예: 'Sonata')\n",
      " |      :param year: 제조 연도 (예: 2022)\n",
      " |\n",
      " |  get_description(self) -> str\n",
      " |      자동차의 연도, 제조사, 모델을 설명하는 문자열을 반환합니다.\n",
      " |\n",
      " |      :return: 자동차의 연도, 제조사, 모델을 포함한 설명 문자열\n",
      " |\n",
      " |  increment_kilometer(self, kilometers: int) -> None\n",
      " |      주행 거리를 주어진 값만큼 증가시킵니다. 음수 값은 허용되지 않습니다.\n",
      " |\n",
      " |      :param kilometers: 증가시킬 주행 거리 값\n",
      " |\n",
      " |  read_kilometer(self) -> None\n",
      " |      현재 주행 거리를 출력합니다.\n",
      " |\n",
      " |  update_kilometer(self, kilometers: int) -> None\n",
      " |      주행 거리를 업데이트합니다. 새로운 값이 기존 값보다 클 경우에만 업데이트됩니다.\n",
      " |\n",
      " |      :param kilometers: 업데이트할 주행 거리\n",
      " |\n",
      " |  ----------------------------------------------------------------------\n",
      " |  Data descriptors defined here:\n",
      " |\n",
      " |  __dict__\n",
      " |      dictionary for instance variables\n",
      " |\n",
      " |  __weakref__\n",
      " |      list of weak references to the object\n",
      "\n"
     ]
    }
   ],
   "source": [
    "help(my_car)"
   ]
  },
  {
   "cell_type": "markdown",
   "id": "d694083d-6713-4ff2-b35c-0d046a2be053",
   "metadata": {},
   "source": [
    "- 클래스 실행"
   ]
  },
  {
   "cell_type": "code",
   "execution_count": 71,
   "id": "4b7ba19b-c4d5-4202-81ac-86b119dcb58c",
   "metadata": {},
   "outputs": [
    {
     "name": "stdout",
     "output_type": "stream",
     "text": [
      "2024 현대 아반떼\n",
      "이 자동차의 현재 주행 거리는 0 킬로미터입니다.\n"
     ]
    }
   ],
   "source": [
    "my_car = Car(\"현대\", \"아반떼\", 2024)\n",
    "description = my_car.get_description()\n",
    "print(description)\n",
    "my_car.read_kilometer()"
   ]
  },
  {
   "cell_type": "markdown",
   "id": "0ccf7499-17c4-4405-9e12-71b0b8273e75",
   "metadata": {},
   "source": [
    "# 다형성 (Polymorephism)"
   ]
  },
  {
   "cell_type": "code",
   "execution_count": null,
   "id": "600abbbd-2c7b-4fcf-a837-0e68d404249b",
   "metadata": {},
   "outputs": [],
   "source": []
  },
  {
   "cell_type": "markdown",
   "id": "e5d84c82-a49c-4e10-9bc9-1b07e623e027",
   "metadata": {},
   "source": [
    "# 클래스 설계 하다보면 부딪히는 흔한 문제\n",
    "- 메서드명이 같을 때\n",
    "- 오버라이딩(하위클래스 메서드의 개념을 재정의), 다형성"
   ]
  },
  {
   "cell_type": "code",
   "execution_count": 79,
   "id": "de4fa3e4-2e4a-4d4e-a0ec-9314808e9158",
   "metadata": {},
   "outputs": [],
   "source": [
    "# 상위 클래스\n",
    "class 동물:\n",
    "    def 울음소리(self):\n",
    "        return \"동물 울음소리\"\n",
    "\n",
    "# 하위 클래스\n",
    "class 강아지(동물):\n",
    "    def 울음소리(self):\n",
    "        return \"멍멍\"\n",
    "\n",
    "class 고양이(동물):\n",
    "    def 울음소리(self):\n",
    "        return \"야옹\""
   ]
  },
  {
   "cell_type": "code",
   "execution_count": 84,
   "id": "b68aac84-ba01-48e2-8e84-81068879ec2e",
   "metadata": {},
   "outputs": [],
   "source": [
    "# 다형성 함수\n",
    "def make_sound(animal):\n",
    "    print(animal.울음소리())"
   ]
  },
  {
   "cell_type": "code",
   "execution_count": 83,
   "id": "c5662d12-f808-4d50-a503-9383a6e0b1a0",
   "metadata": {},
   "outputs": [
    {
     "data": {
      "text/plain": [
       "'멍멍'"
      ]
     },
     "execution_count": 83,
     "metadata": {},
     "output_type": "execute_result"
    }
   ],
   "source": [
    "# 객체 생성\n",
    "dog = 강아지()\n",
    "cat = 고양이()\n",
    "dog.울음소리()"
   ]
  },
  {
   "cell_type": "code",
   "execution_count": 85,
   "id": "6daa480c-af67-4d5c-babf-f6685ab4a329",
   "metadata": {},
   "outputs": [
    {
     "name": "stdout",
     "output_type": "stream",
     "text": [
      "야옹\n"
     ]
    }
   ],
   "source": [
    "make_sound(cat)"
   ]
  },
  {
   "cell_type": "markdown",
   "id": "554646f4-b491-4eb4-a4a1-2b4f3f7d079a",
   "metadata": {},
   "source": [
    "# 메서드 오버라이딩\n"
   ]
  },
  {
   "cell_type": "code",
   "execution_count": 91,
   "id": "bddac01f-3a83-493c-a687-5641c16a32b2",
   "metadata": {},
   "outputs": [],
   "source": [
    "from math import pi\n",
    "\n",
    "# 상위 클래스\n",
    "class Shape:\n",
    "    def __init__(self, name):\n",
    "        self.name = name\n",
    "\n",
    "    def area(self):\n",
    "        pass\n",
    "\n",
    "    def fact(self):\n",
    "        return \"나는 2차원 도형\"\n",
    "\n",
    "# 사각형 하위 클래스\n",
    "class Square(Shape):\n",
    "    def __init__(self, length):\n",
    "        super().__init__(\"Square\")\n",
    "        self.length = length\n",
    "\n",
    "    def area(self):\n",
    "        return self.length **2\n",
    "\n",
    "# 원 하위 클래스\n",
    "class Circle(Shape):\n",
    "    def __init__(self, radius):\n",
    "        spper().__init__(\"Circle\")\n",
    "        self.radius = radius\n",
    "\n",
    "    def area(self):\n",
    "        return pi*self.radius **2"
   ]
  },
  {
   "cell_type": "code",
   "execution_count": 92,
   "id": "2c328112-6a00-4c3f-8123-693622e8fec5",
   "metadata": {},
   "outputs": [
    {
     "name": "stdout",
     "output_type": "stream",
     "text": [
      "16\n"
     ]
    }
   ],
   "source": [
    "a = Square(4)\n",
    "print(a.area())"
   ]
  },
  {
   "cell_type": "markdown",
   "id": "5c60882e-c43e-4c49-bf14-f9ddd4bb5fdf",
   "metadata": {},
   "source": [
    "# 연산자 오버로딩\n",
    "- Operator Overloading"
   ]
  },
  {
   "cell_type": "code",
   "execution_count": 94,
   "id": "0be2e585-a6e0-43af-94ac-7989e9194771",
   "metadata": {},
   "outputs": [
    {
     "name": "stdout",
     "output_type": "stream",
     "text": [
      "5\n"
     ]
    }
   ],
   "source": [
    "class A:\n",
    "    def __init__(self, value):\n",
    "        self.value = value\n",
    "\n",
    "    # 연산자 오버로딩\n",
    "    def __add__(self, other):\n",
    "        result = self.value + other.value\n",
    "        return A(result)\n",
    "\n",
    "a1 = A(2)\n",
    "a2 = A(3)\n",
    "\n",
    "a3 = a1 + a2\n",
    "print(a3.value)"
   ]
  },
  {
   "cell_type": "code",
   "execution_count": null,
   "id": "d7304c79-d93e-4f37-b0ae-dda043a2d5c6",
   "metadata": {},
   "outputs": [],
   "source": []
  },
  {
   "cell_type": "markdown",
   "id": "319ea87b-20eb-4fb7-a840-7c723c2a19bf",
   "metadata": {},
   "source": [
    "# 예제 2. 책 관리 시스템\n",
    "- 여러분은 간단한 책 관리 시스템을 만들어야 합니다. Book 클래스를 사용하여 책의 정보를 저장하고, 책을 읽고, 현재 페이지를 업데이트하는 프로그램을 작성하세요.\n",
    "- 여러 Book 객체를 생성하고, 각 책에 대해 다음 작업을 수행하세요.\n",
    "    + 책의 설명을 출력하세요.\n",
    "    + 책을 읽고, 현재 페이지를 업데이트하고, 책 읽기 진행 상황을 출력하세요.\n",
    "    + 읽을 페이지 수가 전체 페이지 수를 초과할 경우, 오류 메시지를 출력하세요."
   ]
  },
  {
   "cell_type": "code",
   "execution_count": 102,
   "id": "716518ca-f71f-4bc3-9032-d365365232d3",
   "metadata": {},
   "outputs": [
    {
     "name": "stdout",
     "output_type": "stream",
     "text": [
      "'오만과 편견' (저자: 제인 오스틴, 총 279페이지)\n",
      "'앵무새 죽이기' (저자: 하퍼 리, 총 281페이지)\n",
      "'위대한 개츠비' (저자: F. 스콧 피츠제럴드, 총 180페이지)\n",
      "50페이지를 읽었습니다. 현재 50페이지에 있습니다.\n",
      "이 책은 총 279페이지이며, 현재 50페이지를 읽었습니다.\n",
      "30페이지를 읽었습니다. 현재 30페이지에 있습니다.\n",
      "이 책은 총 281페이지이며, 현재 30페이지를 읽었습니다.\n",
      "100페이지를 읽었습니다. 현재 100페이지에 있습니다.\n",
      "이 책은 총 180페이지이며, 현재 100페이지를 읽었습니다.\n",
      "책의 총 페이지 수를 초과할 수 없습니다!\n",
      "이 책은 총 279페이지이며, 현재 50페이지를 읽었습니다.\n"
     ]
    }
   ],
   "source": [
    "class Book:\n",
    "    def __init__(self, title, author, pages):\n",
    "        self.title = title\n",
    "        self.author = author\n",
    "        self.pages = pages\n",
    "        self.current_page = 0\n",
    "        \n",
    "\n",
    "    def get_description(self):\n",
    "        return f\"'{self.title}' (저자: {self.author}, 총 {self.pages}페이지)\"\n",
    "        \n",
    "    def read(self, pages):\n",
    "        if self.current_page + pages <= self.pages:\n",
    "            self.current_page = pages\n",
    "            print(f\"{pages}페이지를 읽었습니다. 현재 {self.current_page}페이지에 있습니다.\")\n",
    "        else:\n",
    "            print(f\"책의 총 페이지 수를 초과할 수 없습니다!\")\n",
    "\n",
    "    def book_progress(self):\n",
    "        print(f\"이 책은 총 {self.pages}페이지이며, 현재 {self.current_page}페이지를 읽었습니다.\")\n",
    "\n",
    "\n",
    "# 여러 책 인스턴스 생성\n",
    "book1 = Book('오만과 편견', '제인 오스틴', 279)\n",
    "book2 = Book('앵무새 죽이기', '하퍼 리', 281)\n",
    "book3 = Book('위대한 개츠비', 'F. 스콧 피츠제럴드', 180)\n",
    "\n",
    "# 책 정보 출력\n",
    "print(book1.get_description())\n",
    "print(book2.get_description())\n",
    "print(book3.get_description())\n",
    "\n",
    "# 책 읽기\n",
    "book1.read(50)\n",
    "book1.book_progress()\n",
    "\n",
    "book2.read(30)\n",
    "book2.book_progress()\n",
    "\n",
    "book3.read(100)\n",
    "book3.book_progress()\n",
    "\n",
    "# 페이지 초과 시도\n",
    "book1.read(250)\n",
    "book1.book_progress()"
   ]
  },
  {
   "cell_type": "code",
   "execution_count": null,
   "id": "ef8e842c-349a-4eb9-bbb9-9f2d7524c3ee",
   "metadata": {},
   "outputs": [],
   "source": []
  },
  {
   "cell_type": "markdown",
   "id": "c120e8c2-82a1-4d57-ab12-8fa0bc935f3a",
   "metadata": {},
   "source": [
    "## 요구사항\n",
    "- `Spaceship` 클래스를 정의하세요.\n",
    "- 속성\n",
    "    + `color (str):` 우주선의 색상\n",
    "    + `speed (int):` 우주선의 속도\n",
    "    + `passengers (int):` 우주선의 탑승 인원 수\n",
    "- 메서드\n",
    "    + `__init__(self, color: str, speed: int, passengers: int):` 색상, 속도, 탑승 인원 수를 초기화합니다.\n",
    "    + `get_color(self) -> str:` 색상을 반환합니다.\n",
    "    + `set_color(self, color: str):` 색상을 설정합니다.\n",
    "    + `get_speed(self) -> int:` 속도를 반환합니다.\n",
    "    + `set_speed(self, speed: int):` 속도를 설정합니다.\n",
    "    + `get_passengers(self) -> int:` 탑승 인원 수를 반환합니다.\n",
    "    + `set_passengers(self, passengers: int):` 탑승 인원 수를 설정합니다.\n",
    "    + `add_passenger(self):` 탑승 인원 수를 N명 추가합니다.\n",
    "    + `remove_passenger(self):` 탑승 인원 수를 N명 감소시킵니다. 탑승 인원 수가 0명 이하로 내려갈 수 없습니다.\n",
    "    + `increase_speed(self, amount: int):` 속도를 amount만큼 증가시킵니다.\n",
    "    + `decrease_speed(self, amount: int):` 속도를 amount만큼 감소시킵니다. 속도가 0 이하로 내려갈 수 없습니다.\n",
    "    + `get_info(self) -> str:` 현재 우주선의 상태 정보를 반환합니다.\n",
    "\n",
    "## 시뮬레이션 테스트\n",
    "- 시뮬레이션 프로그램을 작성하세요.\n",
    "    + 사용자는 다음 작업을 선택할 수 있습니다:\n",
    "    + 우주선의 색상을 설정합니다.\n",
    "    + 속도를 증가시킵니다.\n",
    "    + 속도를 감소시킵니다.\n",
    "    + 탑승 인원 수를 N명 추가합니다.\n",
    "    + 탑승 인원 수를 N명 감소합니다.\n",
    "    + 시뮬레이션을 종료합니다.\n",
    "    \n",
    "\"\"\""
   ]
  },
  {
   "cell_type": "markdown",
   "id": "45780dcf-8f36-4f0b-aa0e-31f1d848f0eb",
   "metadata": {},
   "source": [
    "## 요구사항\n",
    "- `Spaceship` 클래스를 정의하세요.\n",
    "- 속성\n",
    "    + `color (str):` 우주선의 색상\n",
    "    + `speed (int):` 우주선의 속도\n",
    "    + `passengers (int):` 우주선의 탑승 인원 수\n",
    "- 메서드\n",
    "    + `__init__(self, color: str, speed: int, passengers: int):` 색상, 속도, 탑승 인원 수를 초기화합니다.\n",
    "    + `get_color(self) -> str:` 색상을 반환합니다.\n",
    "    + `set_color(self, color: str):` 색상을 설정합니다.\n",
    "    + `get_speed(self) -> int:` 속도를 반환합니다.\n",
    "    + `set_speed(self, speed: int):` 속도를 설정합니다.\n",
    "    + `get_passengers(self) -> int:` 탑승 인원 수를 반환합니다.\n",
    "    + `set_passengers(self, passengers: int):` 탑승 인원 수를 설정합니다.\n",
    "    + `add_passenger(self):` 탑승 인원 수를 N명 추가합니다.\n",
    "    + `remove_passenger(self):` 탑승 인원 수를 N명 감소시킵니다. 탑승 인원 수가 0명 이하로 내려갈 수 없습니다.\n",
    "    + `increase_speed(self, amount: int):` 속도를 amount만큼 증가시킵니다.\n",
    "    + `decrease_speed(self, amount: int):` 속도를 amount만큼 감소시킵니다. 속도가 0 이하로 내려갈 수 없습니다.\n",
    "    + `get_info(self) -> str:` 현재 우주선의 상태 정보를 반환합니다.\n",
    "\n",
    "## 시뮬레이션 테스트\n",
    "- 시뮬레이션 프로그램을 작성하세요.\n",
    "    + 사용자는 다음 작업을 선택할 수 있습니다:\n",
    "    + 우주선의 색상을 설정합니다.\n",
    "    + 속도를 증가시킵니다.\n",
    "    + 속도를 감소시킵니다.\n",
    "    + 탑승 인원 수를 N명 추가합니다.\n",
    "    + 탑승 인원 수를 N명 감소합니다.\n",
    "    + 시뮬레이션을 종료합니다.\n",
    "    \n",
    "\"\"\"\n",
    "\n",
    "def simulate_spaceship():\n",
    "    spaceship = Spaceship(\"Red\", 10000, 5)\n",
    "    \n",
    "    while True:\n",
    "        print(\"\\n현재 우주선 상태:\")\n",
    "        print(spaceship.get_info())\n",
    "        \n",
    "        print(\"\\n무엇을 하시겠습니까?\")\n",
    "        print(\"1. 색상 설정\")\n",
    "        print(\"2. 속도 증가\")\n",
    "        print(\"3. 속도 감소\")\n",
    "        print(\"4. 탑승인원 추가\")\n",
    "        print(\"5. 탑승인원 하차\")\n",
    "        print(\"6. 시뮬레이션 종료\")\n",
    "        \n",
    "        choice = input(\"선택을 입력하세요 (1-6): \")\n",
    "\n",
    "        if choice == '1':\n",
    "            color = input(\"새 색상을 입력하세요: \")\n",
    "            spaceship.set_color(color)\n",
    "            print(f\"색상이 {color}(으)로 변경되었습니다\")\n",
    "        \n",
    "        elif choice == '2':\n",
    "            amount = int(input(\"속도를 얼마나 증가시키겠습니까?: \"))\n",
    "            spaceship.increase_speed(amount)\n",
    "        \n",
    "        elif choice == '3':\n",
    "            amount = int(input(\"속도를 얼마나 감소시키겠습니까?: \"))\n",
    "            spaceship.decrease_speed(amount)\n",
    "        \n",
    "        elif choice == '4':\n",
    "            number = int(input(\"추가할 탑승인원 수를 입력하세요: \"))\n",
    "            spaceship.add_passenger(number)\n",
    "        \n",
    "        elif choice == '5':\n",
    "            number = int(input(\"하차할 탑승인원 수를 입력하세요: \"))\n",
    "            spaceship.remove_passenger(number)\n",
    "        \n",
    "        elif choice == '6':\n",
    "            print(\"시뮬레이션을 종료합니다.\")\n",
    "            break\n",
    "        \n",
    "        else:\n",
    "            print(\"잘못된 선택입니다. 1에서 6 사이의 숫자를 입력하세요.\")\n",
    "\n",
    "# 시뮬레이션 실행\n",
    "simulate_spaceship()"
   ]
  },
  {
   "cell_type": "code",
   "execution_count": 108,
   "id": "84da6e86-781d-4a06-9e5e-c7a8dbc13106",
   "metadata": {},
   "outputs": [],
   "source": [
    "class Spaceship():\n",
    "    def __init__(self, color, speed, passengers):\n",
    "        self.color = color\n",
    "        self.speed = speed\n",
    "        self.passengers = passengers\n",
    "\n",
    "    def get_descriptrion(self):\n",
    "        return f\"{self.color}, {self.speed}, {self.passengers}\"\n",
    "\n",
    "    \n",
    "    def set_color(color):\n",
    "        self.color = color\n",
    "        if choice == '1':\n",
    "            color = input(\"새 색상을 입력하세요: \")\n",
    "            spaceship.set_color(color)\n",
    "            print(f\"색상이 {color}(으)로 변경되었습니다\")"
   ]
  },
  {
   "cell_type": "code",
   "execution_count": null,
   "id": "30781af7-07fc-47f1-8262-cc248f003ca6",
   "metadata": {},
   "outputs": [],
   "source": []
  },
  {
   "cell_type": "code",
   "execution_count": null,
   "id": "63ad8d09-b81d-4918-b780-3a0ae5ce1949",
   "metadata": {},
   "outputs": [
    {
     "name": "stdout",
     "output_type": "stream",
     "text": [
      "\n",
      "현재 우주선 상태:\n",
      "우주선 색상: Red, 속도: 10000, 탑승인원: 5\n",
      "\n",
      "무엇을 하시겠습니까?\n",
      "1. 색상 설정\n",
      "2. 속도 증가\n",
      "3. 속도 감소\n",
      "4. 탑승인원 추가\n",
      "5. 탑승인원 하차\n",
      "6. 시뮬레이션 종료\n"
     ]
    }
   ],
   "source": [
    "\"\"\"\n",
    "## 요구사항\n",
    "- `Spaceship` 클래스를 정의하세요.\n",
    "- 속성\n",
    "    + `color (str):` 우주선의 색상\n",
    "    + `speed (int):` 우주선의 속도\n",
    "    + `passengers (int):` 우주선의 탑승 인원 수\n",
    "- 메서드\n",
    "    + `__init__(self, color: str, speed: int, passengers: int):` 색상, 속도, 탑승 인원 수를 초기화합니다.\n",
    "    + `get_color(self) -> str:` 색상을 반환합니다.\n",
    "    + `set_color(self, color: str):` 색상을 설정합니다.\n",
    "    + `get_speed(self) -> int:` 속도를 반환합니다.\n",
    "    + `set_speed(self, speed: int):` 속도를 설정합니다.\n",
    "    + `get_passengers(self) -> int:` 탑승 인원 수를 반환합니다.\n",
    "    + `set_passengers(self, passengers: int):` 탑승 인원 수를 설정합니다.\n",
    "    + `add_passenger(self):` 탑승 인원 수를 N명 추가합니다.\n",
    "    + `remove_passenger(self):` 탑승 인원 수를 N명 감소시킵니다. 탑승 인원 수가 0명 이하로 내려갈 수 없습니다.\n",
    "    + `increase_speed(self, amount: int):` 속도를 amount만큼 증가시킵니다.\n",
    "    + `decrease_speed(self, amount: int):` 속도를 amount만큼 감소시킵니다. 속도가 0 이하로 내려갈 수 없습니다.\n",
    "    + `get_info(self) -> str:` 현재 우주선의 상태 정보를 반환합니다.\n",
    "\n",
    "## 시뮬레이션 테스트\n",
    "- 시뮬레이션 프로그램을 작성하세요.\n",
    "    + 사용자는 다음 작업을 선택할 수 있습니다:\n",
    "    + 우주선의 색상을 설정합니다.\n",
    "    + 속도를 증가시킵니다.\n",
    "    + 속도를 감소시킵니다.\n",
    "    + 탑승 인원 수를 N명 추가합니다.\n",
    "    + 탑승 인원 수를 N명 감소합니다.\n",
    "    + 시뮬레이션을 종료합니다.\n",
    "    \n",
    "\"\"\"\n",
    "\n",
    "class Spaceship:\n",
    "    def __init__(self, color: str, speed: int, passengers: int):\n",
    "        self._color = color\n",
    "        self._speed = speed\n",
    "        self._passengers = passengers\n",
    "\n",
    "    # Color getter and setter\n",
    "    def get_color(self) -> str:\n",
    "        return self._color\n",
    "\n",
    "    def set_color(self, color: str):\n",
    "        self._color = color\n",
    "\n",
    "    # Speed getter and setter\n",
    "    def get_speed(self) -> int:\n",
    "        return self._speed\n",
    "\n",
    "    def set_speed(self, speed: int):\n",
    "        self._speed = speed\n",
    "\n",
    "    # Passengers getter and setter\n",
    "    def get_passengers(self) -> int:\n",
    "        return self._passengers\n",
    "\n",
    "    def set_passengers(self, passengers: int):\n",
    "        self._passengers = passengers\n",
    "\n",
    "    def add_passenger(self, number: int):\n",
    "        self._passengers += number\n",
    "        print(f\"{number}명의 탑승자가 추가되었습니다. 현재 탑승인원: {self._passengers}\")\n",
    "\n",
    "    def remove_passenger(self, number: int):\n",
    "        if self._passengers >= number:\n",
    "            self._passengers -= number\n",
    "            print(f\"{number}명의 탑승자가 하차했습니다. 현재 탑승인원: {self._passengers}\")\n",
    "        else:\n",
    "            print(\"하차할 탑승객 수가 현재 탑승인원보다 많습니다\")\n",
    "\n",
    "    def increase_speed(self, amount: int):\n",
    "        self._speed += amount\n",
    "        print(f\"속도가 {amount}만큼 증가했습니다. 새로운 속도: {self._speed}\")\n",
    "\n",
    "    def decrease_speed(self, amount: int):\n",
    "        if self._speed - amount >= 0:\n",
    "            self._speed -= amount\n",
    "            print(f\"속도가 {amount}만큼 감소했습니다. 새로운 속도: {self._speed}\")\n",
    "        else:\n",
    "            print(\"속도는 음수가 될 수 없습니다\")\n",
    "\n",
    "    def get_info(self) -> str:\n",
    "        return f\"우주선 색상: {self._color}, 속도: {self._speed}, 탑승인원: {self._passengers}\"\n",
    "\n",
    "def simulate_spaceship():\n",
    "    spaceship = Spaceship(\"Red\", 10000, 5)\n",
    "    \n",
    "    while True:\n",
    "        print(\"\\n현재 우주선 상태:\")\n",
    "        print(spaceship.get_info())\n",
    "        \n",
    "        print(\"\\n무엇을 하시겠습니까?\")\n",
    "        print(\"1. 색상 설정\")\n",
    "        print(\"2. 속도 증가\")\n",
    "        print(\"3. 속도 감소\")\n",
    "        print(\"4. 탑승인원 추가\")\n",
    "        print(\"5. 탑승인원 하차\")\n",
    "        print(\"6. 시뮬레이션 종료\")\n",
    "        \n",
    "        choice = input(\"선택을 입력하세요 (1-6): \")\n",
    "\n",
    "        if choice == '1':\n",
    "            color = input(\"새 색상을 입력하세요: \")\n",
    "            spaceship.set_color(color)\n",
    "            print(f\"색상이 {color}(으)로 변경되었습니다\")\n",
    "        \n",
    "        elif choice == '2':\n",
    "            amount = int(input(\"속도를 얼마나 증가시키겠습니까?: \"))\n",
    "            spaceship.increase_speed(amount)\n",
    "        \n",
    "        elif choice == '3':\n",
    "            amount = int(input(\"속도를 얼마나 감소시키겠습니까?: \"))\n",
    "            spaceship.decrease_speed(amount)\n",
    "        \n",
    "        elif choice == '4':\n",
    "            number = int(input(\"추가할 탑승인원 수를 입력하세요: \"))\n",
    "            spaceship.add_passenger(number)\n",
    "        \n",
    "        elif choice == '5':\n",
    "            number = int(input(\"하차할 탑승인원 수를 입력하세요: \"))\n",
    "            spaceship.remove_passenger(number)\n",
    "        \n",
    "        elif choice == '6':\n",
    "            print(\"시뮬레이션을 종료합니다.\")\n",
    "            break\n",
    "        \n",
    "        else:\n",
    "            print(\"잘못된 선택입니다. 1에서 6 사이의 숫자를 입력하세요.\")\n",
    "\n",
    "# 시뮬레이션 실행\n",
    "simulate_spaceship()"
   ]
  },
  {
   "cell_type": "markdown",
   "id": "9e398d17-3f53-4f6c-92e1-d71eff15fbe5",
   "metadata": {},
   "source": [
    "# 기초문법 필수 공부\n",
    "- 반복문의 개념 (for-loop)\n",
    "- 클래스(속성, 메서드)\n",
    "- 주기적으로 점프투 파이썬, 다른 온라인 예제"
   ]
  },
  {
   "cell_type": "code",
   "execution_count": null,
   "id": "1f726cd6-ac20-430e-ab66-457df0350ab7",
   "metadata": {},
   "outputs": [],
   "source": []
  }
 ],
 "metadata": {
  "kernelspec": {
   "display_name": "Python 3 (ipykernel)",
   "language": "python",
   "name": "python3"
  },
  "language_info": {
   "codemirror_mode": {
    "name": "ipython",
    "version": 3
   },
   "file_extension": ".py",
   "mimetype": "text/x-python",
   "name": "python",
   "nbconvert_exporter": "python",
   "pygments_lexer": "ipython3",
   "version": "3.12.6"
  }
 },
 "nbformat": 4,
 "nbformat_minor": 5
}
