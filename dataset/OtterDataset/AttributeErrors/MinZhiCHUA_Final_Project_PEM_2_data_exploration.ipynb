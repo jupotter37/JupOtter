{
 "cells": [
  {
   "cell_type": "markdown",
   "metadata": {},
   "source": [
    "# Load dataset\n"
   ]
  },
  {
   "cell_type": "code",
   "execution_count": 102,
   "metadata": {},
   "outputs": [],
   "source": [
    "from pathlib import Path\n",
    "\n",
    "base_path = Path(\".\").absolute().parents[0]"
   ]
  },
  {
   "cell_type": "code",
   "execution_count": 104,
   "metadata": {},
   "outputs": [],
   "source": [
    "import sys\n",
    "\n",
    "sys.path.insert(0, str(base_path / \"src\"))"
   ]
  },
  {
   "cell_type": "code",
   "execution_count": 106,
   "metadata": {},
   "outputs": [],
   "source": [
    "from google.cloud import bigquery\n",
    "\n",
    "client = bigquery.Client(project=\"artefact-taxonomy\")\n",
    "\n",
    "\n",
    "from utils.text_utils import clean_html\n",
    "from sklearn.model_selection import train_test_split"
   ]
  },
  {
   "cell_type": "code",
   "execution_count": 107,
   "metadata": {},
   "outputs": [],
   "source": [
    "CUTOFF = 5\n",
    "\n",
    "# Define the product_id and target / label\n",
    "id_col = \"adeo_product_id\"\n",
    "title_col = \"title\"\n",
    "language_col = \"lang\"\n",
    "description_raw = \"description\"\n",
    "description_col = \"description_clean\"\n",
    "label_raw_col = \"mirakl_model_code\""
   ]
  },
  {
   "cell_type": "code",
   "execution_count": 108,
   "metadata": {},
   "outputs": [],
   "source": [
    "import pandas as pd\n",
    "import matplotlib.pylab as plt\n",
    "import seaborn as sns\n",
    "\n",
    "pd.options.mode.chained_assignment = None  # default='warn'"
   ]
  },
  {
   "cell_type": "code",
   "execution_count": 109,
   "metadata": {},
   "outputs": [],
   "source": [
    "df = pd.read_csv('../data/train.csv')"
   ]
  },
  {
   "cell_type": "code",
   "execution_count": 125,
   "metadata": {},
   "outputs": [
    {
     "ename": "AttributeError",
     "evalue": "'Series' object has no attribute 'zfill'",
     "output_type": "error",
     "traceback": [
      "\u001b[0;31m---------------------------------------------------------------------------\u001b[0m",
      "\u001b[0;31mAttributeError\u001b[0m                            Traceback (most recent call last)",
      "Cell \u001b[0;32mIn[125], line 1\u001b[0m\n\u001b[0;32m----> 1\u001b[0m df\u001b[39m.\u001b[39;49mattribute_code\u001b[39m.\u001b[39;49mzfill(\u001b[39m5\u001b[39m)\n",
      "File \u001b[0;32m~/anaconda3/envs/product_classification/lib/python3.10/site-packages/pandas/core/generic.py:5902\u001b[0m, in \u001b[0;36mNDFrame.__getattr__\u001b[0;34m(self, name)\u001b[0m\n\u001b[1;32m   5895\u001b[0m \u001b[39mif\u001b[39;00m (\n\u001b[1;32m   5896\u001b[0m     name \u001b[39mnot\u001b[39;00m \u001b[39min\u001b[39;00m \u001b[39mself\u001b[39m\u001b[39m.\u001b[39m_internal_names_set\n\u001b[1;32m   5897\u001b[0m     \u001b[39mand\u001b[39;00m name \u001b[39mnot\u001b[39;00m \u001b[39min\u001b[39;00m \u001b[39mself\u001b[39m\u001b[39m.\u001b[39m_metadata\n\u001b[1;32m   5898\u001b[0m     \u001b[39mand\u001b[39;00m name \u001b[39mnot\u001b[39;00m \u001b[39min\u001b[39;00m \u001b[39mself\u001b[39m\u001b[39m.\u001b[39m_accessors\n\u001b[1;32m   5899\u001b[0m     \u001b[39mand\u001b[39;00m \u001b[39mself\u001b[39m\u001b[39m.\u001b[39m_info_axis\u001b[39m.\u001b[39m_can_hold_identifiers_and_holds_name(name)\n\u001b[1;32m   5900\u001b[0m ):\n\u001b[1;32m   5901\u001b[0m     \u001b[39mreturn\u001b[39;00m \u001b[39mself\u001b[39m[name]\n\u001b[0;32m-> 5902\u001b[0m \u001b[39mreturn\u001b[39;00m \u001b[39mobject\u001b[39;49m\u001b[39m.\u001b[39;49m\u001b[39m__getattribute__\u001b[39;49m(\u001b[39mself\u001b[39;49m, name)\n",
      "\u001b[0;31mAttributeError\u001b[0m: 'Series' object has no attribute 'zfill'"
     ]
    }
   ],
   "source": [
    "df.attribute_code.zfill(5)"
   ]
  },
  {
   "cell_type": "code",
   "execution_count": 124,
   "metadata": {},
   "outputs": [
    {
     "data": {
      "text/plain": [
       "'02419'"
      ]
     },
     "execution_count": 124,
     "metadata": {},
     "output_type": "execute_result"
    }
   ],
   "source": [
    "str(df.attribute_code[0]).zfill(5)"
   ]
  },
  {
   "cell_type": "code",
   "execution_count": null,
   "metadata": {},
   "outputs": [],
   "source": []
  },
  {
   "attachments": {},
   "cell_type": "markdown",
   "metadata": {},
   "source": [
    "# Prepare data in the correct format based on unique ID\n"
   ]
  },
  {
   "cell_type": "code",
   "execution_count": 110,
   "metadata": {},
   "outputs": [],
   "source": [
    "adeo_id_list = df['adeo_product_id'].unique().tolist()\n",
    "for each_product in adeo_id_list:\n",
    "    lang = df[language_col].loc[df['adeo_product_id'] == int(each_product)].tolist()\n",
    "    for each_lang in lang:\n",
    "        # put the row in each language\n",
    "        single_row = df.loc[(df['adeo_product_id'] == int(each_product)) & (df[language_col] == each_lang)]\n",
    "        single_row['attribute_code'] = 99999\n",
    "        single_row['attribute_label'] = 'product_model'\n",
    "        single_row['lov_code'] = single_row['step_model_code']\n",
    "        df = pd.concat([df, single_row])\n",
    "\n",
    "df = df.reset_index(drop=True)"
   ]
  },
  {
   "cell_type": "code",
   "execution_count": 111,
   "metadata": {},
   "outputs": [
    {
     "data": {
      "text/html": [
       "<div>\n",
       "<style scoped>\n",
       "    .dataframe tbody tr th:only-of-type {\n",
       "        vertical-align: middle;\n",
       "    }\n",
       "\n",
       "    .dataframe tbody tr th {\n",
       "        vertical-align: top;\n",
       "    }\n",
       "\n",
       "    .dataframe thead th {\n",
       "        text-align: right;\n",
       "    }\n",
       "</style>\n",
       "<table border=\"1\" class=\"dataframe\">\n",
       "  <thead>\n",
       "    <tr style=\"text-align: right;\">\n",
       "      <th></th>\n",
       "      <th>adeo_product_id</th>\n",
       "      <th>id</th>\n",
       "      <th>title</th>\n",
       "      <th>description</th>\n",
       "      <th>lang</th>\n",
       "      <th>attribute_label</th>\n",
       "      <th>attribute_type</th>\n",
       "      <th>is_multivalued</th>\n",
       "      <th>is_lov</th>\n",
       "      <th>attribute_value</th>\n",
       "      <th>lov_code</th>\n",
       "      <th>step_model_code</th>\n",
       "      <th>mirakl_model_code</th>\n",
       "      <th>data_source</th>\n",
       "      <th>description_clean</th>\n",
       "    </tr>\n",
       "    <tr>\n",
       "      <th>attribute_code</th>\n",
       "      <th></th>\n",
       "      <th></th>\n",
       "      <th></th>\n",
       "      <th></th>\n",
       "      <th></th>\n",
       "      <th></th>\n",
       "      <th></th>\n",
       "      <th></th>\n",
       "      <th></th>\n",
       "      <th></th>\n",
       "      <th></th>\n",
       "      <th></th>\n",
       "      <th></th>\n",
       "      <th></th>\n",
       "      <th></th>\n",
       "    </tr>\n",
       "  </thead>\n",
       "  <tbody>\n",
       "    <tr>\n",
       "      <th>562</th>\n",
       "      <td>10541</td>\n",
       "      <td>10541</td>\n",
       "      <td>10541</td>\n",
       "      <td>10541</td>\n",
       "      <td>10541</td>\n",
       "      <td>10541</td>\n",
       "      <td>10541</td>\n",
       "      <td>10541</td>\n",
       "      <td>10541</td>\n",
       "      <td>10541</td>\n",
       "      <td>10541</td>\n",
       "      <td>10541</td>\n",
       "      <td>10541</td>\n",
       "      <td>10541</td>\n",
       "      <td>10537</td>\n",
       "    </tr>\n",
       "    <tr>\n",
       "      <th>1746</th>\n",
       "      <td>6639</td>\n",
       "      <td>6639</td>\n",
       "      <td>6639</td>\n",
       "      <td>6639</td>\n",
       "      <td>6639</td>\n",
       "      <td>6639</td>\n",
       "      <td>6639</td>\n",
       "      <td>6639</td>\n",
       "      <td>6639</td>\n",
       "      <td>6639</td>\n",
       "      <td>6639</td>\n",
       "      <td>6639</td>\n",
       "      <td>6639</td>\n",
       "      <td>6639</td>\n",
       "      <td>6639</td>\n",
       "    </tr>\n",
       "    <tr>\n",
       "      <th>2419</th>\n",
       "      <td>12816</td>\n",
       "      <td>12816</td>\n",
       "      <td>12816</td>\n",
       "      <td>12815</td>\n",
       "      <td>12816</td>\n",
       "      <td>12816</td>\n",
       "      <td>12816</td>\n",
       "      <td>12816</td>\n",
       "      <td>12816</td>\n",
       "      <td>12816</td>\n",
       "      <td>12816</td>\n",
       "      <td>12816</td>\n",
       "      <td>12816</td>\n",
       "      <td>12816</td>\n",
       "      <td>12812</td>\n",
       "    </tr>\n",
       "    <tr>\n",
       "      <th>15344</th>\n",
       "      <td>10505</td>\n",
       "      <td>10505</td>\n",
       "      <td>10505</td>\n",
       "      <td>10505</td>\n",
       "      <td>10505</td>\n",
       "      <td>10505</td>\n",
       "      <td>10505</td>\n",
       "      <td>10505</td>\n",
       "      <td>10505</td>\n",
       "      <td>10505</td>\n",
       "      <td>10505</td>\n",
       "      <td>10505</td>\n",
       "      <td>10505</td>\n",
       "      <td>10505</td>\n",
       "      <td>10503</td>\n",
       "    </tr>\n",
       "    <tr>\n",
       "      <th>99999</th>\n",
       "      <td>47167</td>\n",
       "      <td>47167</td>\n",
       "      <td>47167</td>\n",
       "      <td>47166</td>\n",
       "      <td>47167</td>\n",
       "      <td>47167</td>\n",
       "      <td>47167</td>\n",
       "      <td>47167</td>\n",
       "      <td>47167</td>\n",
       "      <td>47167</td>\n",
       "      <td>47167</td>\n",
       "      <td>47167</td>\n",
       "      <td>47167</td>\n",
       "      <td>47167</td>\n",
       "      <td>47153</td>\n",
       "    </tr>\n",
       "  </tbody>\n",
       "</table>\n",
       "</div>"
      ],
      "text/plain": [
       "                adeo_product_id     id  title  description   lang  \\\n",
       "attribute_code                                                      \n",
       "562                       10541  10541  10541        10541  10541   \n",
       "1746                       6639   6639   6639         6639   6639   \n",
       "2419                      12816  12816  12816        12815  12816   \n",
       "15344                     10505  10505  10505        10505  10505   \n",
       "99999                     47167  47167  47167        47166  47167   \n",
       "\n",
       "                attribute_label  attribute_type  is_multivalued  is_lov  \\\n",
       "attribute_code                                                            \n",
       "562                       10541           10541           10541   10541   \n",
       "1746                       6639            6639            6639    6639   \n",
       "2419                      12816           12816           12816   12816   \n",
       "15344                     10505           10505           10505   10505   \n",
       "99999                     47167           47167           47167   47167   \n",
       "\n",
       "                attribute_value  lov_code  step_model_code  mirakl_model_code  \\\n",
       "attribute_code                                                                  \n",
       "562                       10541     10541            10541              10541   \n",
       "1746                       6639      6639             6639               6639   \n",
       "2419                      12816     12816            12816              12816   \n",
       "15344                     10505     10505            10505              10505   \n",
       "99999                     47167     47167            47167              47167   \n",
       "\n",
       "                data_source  description_clean  \n",
       "attribute_code                                  \n",
       "562                   10541              10537  \n",
       "1746                   6639               6639  \n",
       "2419                  12816              12812  \n",
       "15344                 10505              10503  \n",
       "99999                 47167              47153  "
      ]
     },
     "execution_count": 111,
     "metadata": {},
     "output_type": "execute_result"
    }
   ],
   "source": [
    "df.groupby('attribute_code').count()"
   ]
  },
  {
   "cell_type": "code",
   "execution_count": 128,
   "metadata": {},
   "outputs": [],
   "source": [
    "df['attribute_code'] = df['attribute_code'].apply(lambda x: str(x).zfill(5))\n",
    "df['lov_code'] = df['lov_code'].apply(lambda x: str(x).zfill(5))"
   ]
  },
  {
   "attachments": {},
   "cell_type": "markdown",
   "metadata": {},
   "source": [
    "# Data Exploration"
   ]
  },
  {
   "cell_type": "code",
   "execution_count": 129,
   "metadata": {},
   "outputs": [
    {
     "data": {
      "text/plain": [
       "Text(0.5, 1.0, 'Histogram of each attribute')"
      ]
     },
     "execution_count": 129,
     "metadata": {},
     "output_type": "execute_result"
    },
    {
     "data": {
      "image/png": "[encoded data removed]",
      "text/plain": [
       "<Figure size 640x480 with 1 Axes>"
      ]
     },
     "metadata": {},
     "output_type": "display_data"
    }
   ],
   "source": [
    "df['attribute_eng'] = 'None'\n",
    "\n",
    "df['attribute_eng'].loc[df['attribute_code'] == '02419'] = 'style'\n",
    "df['attribute_eng'].loc[df['attribute_code'] == '01746'] = 'color'\n",
    "df['attribute_eng'].loc[df['attribute_code'] == '00562'] = 'shape'\n",
    "df['attribute_eng'].loc[df['attribute_code'] == '15344'] = 'batt_inclu'\n",
    "df['attribute_eng'].loc[df['attribute_code'] == '99999'] = 'product_class'\n",
    "\n",
    "sns.histplot(data=df['attribute_eng'])\n",
    "\n",
    "plt.title('Histogram of each attribute')"
   ]
  },
  {
   "cell_type": "code",
   "execution_count": 131,
   "metadata": {},
   "outputs": [
    {
     "name": "stdout",
     "output_type": "stream",
     "text": [
      "style\n",
      "48\n",
      "shape\n",
      "54\n",
      "color\n",
      "77\n",
      "batt_inclu\n",
      "2\n",
      "product_class\n",
      "85\n"
     ]
    },
    {
     "data": {
      "text/plain": [
       "Text(0.5, 1.0, 'Number of class in each attribute')"
      ]
     },
     "execution_count": 131,
     "metadata": {},
     "output_type": "execute_result"
    },
    {
     "data": {
      "image/png": "[encoded data removed]",
      "text/plain": [
       "<Figure size 640x480 with 1 Axes>"
      ]
     },
     "metadata": {},
     "output_type": "display_data"
    }
   ],
   "source": [
    "attribute_list = []\n",
    "attribute_count = []\n",
    "for attribute, attribute_eng in zip(df['attribute_code'].unique(), df['attribute_eng'].unique()):\n",
    "    print (attribute_eng)\n",
    "    print (len(df.loc[df['attribute_code']== attribute].groupby('lov_code').count()))\n",
    "    attribute_list.append(attribute_eng)\n",
    "    attribute_count.append(len(df.loc[df['attribute_code']== attribute].groupby('lov_code').count()))\n",
    "\n",
    "sns.barplot(x=attribute_list, y=attribute_count)\n",
    "plt.title('Number of class in each attribute')"
   ]
  },
  {
   "attachments": {},
   "cell_type": "markdown",
   "metadata": {},
   "source": [
    "# Save data in csv"
   ]
  },
  {
   "cell_type": "code",
   "execution_count": 132,
   "metadata": {},
   "outputs": [],
   "source": [
    "df.to_csv(\"../data/train_formatted.csv\", index=False)"
   ]
  },
  {
   "attachments": {},
   "cell_type": "markdown",
   "metadata": {},
   "source": [
    "# change the data for val and test"
   ]
  },
  {
   "cell_type": "code",
   "execution_count": 133,
   "metadata": {},
   "outputs": [],
   "source": [
    "val = pd.read_csv('../data/val.csv')\n",
    "\n",
    "adeo_id_list = val['adeo_product_id'].unique().tolist()\n",
    "for each_product in adeo_id_list:\n",
    "    lang = val[language_col].loc[val['adeo_product_id'] == int(each_product)].tolist()\n",
    "    for each_lang in lang:\n",
    "        # put the row in each language\n",
    "        single_row = val.loc[(val['adeo_product_id'] == int(each_product)) & (val[language_col] == each_lang)]\n",
    "        single_row['attribute_code'] = 99999\n",
    "        single_row['attribute_label'] = 'product_model'\n",
    "        single_row['lov_code'] = single_row['step_model_code']\n",
    "        val = pd.concat([val, single_row])\n",
    "\n",
    "\n",
    "val['attribute_code'] = val['attribute_code'].apply(lambda x: str(x).zfill(5))\n",
    "val['lov_code'] = val['lov_code'].apply(lambda x: str(x).zfill(5))\n",
    "\n",
    "val = val.reset_index(drop=True)\n",
    "\n",
    "val.to_csv(\"../data/val_formatted.csv\", index=False)"
   ]
  },
  {
   "cell_type": "code",
   "execution_count": 134,
   "metadata": {},
   "outputs": [],
   "source": [
    "test = pd.read_csv('../data/test.csv')\n",
    "\n",
    "adeo_id_list = test['adeo_product_id'].unique().tolist()\n",
    "for each_product in adeo_id_list:\n",
    "    lang = test[language_col].loc[test['adeo_product_id'] == int(each_product)].tolist()\n",
    "    for each_lang in lang:\n",
    "        # put the row in each language\n",
    "        single_row = test.loc[(test['adeo_product_id'] == int(each_product)) & (test[language_col] == each_lang)]\n",
    "        single_row['attribute_code'] = 99999\n",
    "        single_row['attribute_label'] = 'product_model'\n",
    "        single_row['lov_code'] = single_row['step_model_code']\n",
    "        test = pd.concat([test, single_row])\n",
    "\n",
    "test = test.reset_index(drop=True)\n",
    "\n",
    "test['attribute_code'] = test['attribute_code'].apply(lambda x: str(x).zfill(5))\n",
    "test['lov_code'] = test['lov_code'].apply(lambda x: str(x).zfill(5))\n",
    "\n",
    "test = test.reset_index(drop=True)\n",
    "\n",
    "test.to_csv(\"../data/test_formatted.csv\", index=False)"
   ]
  },
  {
   "cell_type": "code",
   "execution_count": null,
   "metadata": {},
   "outputs": [],
   "source": []
  }
 ],
 "metadata": {
  "environment": {
   "kernel": "python3",
   "name": "common-cu110.m100",
   "type": "gcloud",
   "uri": "gcr.io/deeplearning-platform-release/base-cu110:m100"
  },
  "kernelspec": {
   "display_name": "Python 3.10.8 ('product_classification')",
   "language": "python",
   "name": "python3"
  },
  "language_info": {
   "codemirror_mode": {
    "name": "ipython",
    "version": 3
   },
   "file_extension": ".py",
   "mimetype": "text/x-python",
   "name": "python",
   "nbconvert_exporter": "python",
   "pygments_lexer": "ipython3",
   "version": "3.10.8"
  },
  "vscode": {
   "interpreter": {
    "hash": "10530e19dcdfe73a7151595320d247214b692837f071583cab392004ec8982fa"
   }
  }
 },
 "nbformat": 4,
 "nbformat_minor": 4
}
