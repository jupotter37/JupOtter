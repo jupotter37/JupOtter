{
  "nbformat": 4,
  "nbformat_minor": 0,
  "metadata": {
    "colab": {
      "provenance": [],
      "authorship_tag": "ABX9TyMXu/bAveTT05QhkRGOdCol",
      "include_colab_link": true
    },
    "kernelspec": {
      "name": "python3",
      "display_name": "Python 3"
    },
    "language_info": {
      "name": "python"
    }
  },
  "cells": [
    {
      "cell_type": "markdown",
      "metadata": {
        "id": "view-in-github",
        "colab_type": "text"
      },
      "source": [
        "<a href=\"https://colab.research.google.com/github/AlamLF/data_science/blob/master/Fuzzy_C_Means.ipynb\" target=\"_parent\"><img src=\"https://colab.research.google.com/assets/colab-badge.svg\" alt=\"Open In Colab\"/></a>"
      ]
    },
    {
      "cell_type": "code",
      "source": [
        "%%shell\n",
        "git clone https://github.com/MarioROT/IML-MAI\n"
      ],
      "metadata": {
        "colab": {
          "base_uri": "https://localhost:8080/"
        },
        "id": "m01OQT9MkgDx",
        "outputId": "2abecba0-b6c7-4339-b00a-3c17e23911ab"
      },
      "execution_count": 3,
      "outputs": [
        {
          "output_type": "stream",
          "name": "stdout",
          "text": [
            "Cloning into 'IML-MAI'...\n",
            "remote: Enumerating objects: 101, done.\u001b[K\n",
            "remote: Counting objects: 100% (101/101), done.\u001b[K\n",
            "remote: Compressing objects: 100% (65/65), done.\u001b[K\n",
            "remote: Total 101 (delta 46), reused 78 (delta 31), pack-reused 0\u001b[K\n",
            "Receiving objects: 100% (101/101), 446.31 KiB | 2.25 MiB/s, done.\n",
            "Resolving deltas: 100% (46/46), done.\n"
          ]
        },
        {
          "output_type": "execute_result",
          "data": {
            "text/plain": []
          },
          "metadata": {},
          "execution_count": 3
        }
      ]
    },
    {
      "cell_type": "code",
      "execution_count": 4,
      "metadata": {
        "id": "GCfyFzFNkZRY"
      },
      "outputs": [],
      "source": [
        "#First we define the libraries we will work with\n",
        "import pandas as pd\n",
        "import numpy as np\n",
        "import matplotlib.pyplot as plt\n",
        "import seaborn as sb\n",
        "from scipy.io import arff"
      ]
    },
    {
      "cell_type": "code",
      "source": [
        "data = arff.loadarff('/content/IML-MAI/Work1/data/raw/iris.arff')\n",
        "df=pd.DataFrame(data[0])"
      ],
      "metadata": {
        "id": "DVg3GFGkkf6y"
      },
      "execution_count": 5,
      "outputs": []
    },
    {
      "cell_type": "code",
      "source": [
        "plt.scatter(df.sepallength,df.petallength)"
      ],
      "metadata": {
        "colab": {
          "base_uri": "https://localhost:8080/",
          "height": 447
        },
        "id": "Zi9sDrRDj57T",
        "outputId": "366e1199-cd04-48dc-c1b9-09bf20a9d1e8"
      },
      "execution_count": 6,
      "outputs": [
        {
          "output_type": "execute_result",
          "data": {
            "text/plain": [
              "<matplotlib.collections.PathCollection at 0x7b2f0e880c70>"
            ]
          },
          "metadata": {},
          "execution_count": 6
        },
        {
          "output_type": "display_data",
          "data": {
            "text/plain": [
              "<Figure size 640x480 with 1 Axes>"
            ],
            "image/png": "[encoded data removed]"
          },
          "metadata": {}
        }
      ]
    },
    {
      "cell_type": "code",
      "source": [
        "data_test=np.array([(1,2,3),(2,3,5),(3,4,5),(4,4,5)],dtype=int)\n",
        "data_test.shape"
      ],
      "metadata": {
        "colab": {
          "base_uri": "https://localhost:8080/"
        },
        "id": "VAkrBoHc9bUT",
        "outputId": "a5ea846b-361d-4ef3-a643-18ce4a52521b"
      },
      "execution_count": 319,
      "outputs": [
        {
          "output_type": "execute_result",
          "data": {
            "text/plain": [
              "(4, 3)"
            ]
          },
          "metadata": {},
          "execution_count": 319
        }
      ]
    },
    {
      "cell_type": "code",
      "source": [
        "C=3\n",
        "m=2\n",
        "eps=0.01\n",
        "\n"
      ],
      "metadata": {
        "id": "0erjldNXkyX7"
      },
      "execution_count": 228,
      "outputs": []
    },
    {
      "cell_type": "code",
      "source": [
        "#1. Initialize the membership matrix with the shape of instances and clusters\n",
        "def U_rand(data,C):\n",
        "  U_random= np.random.rand(data.shape[0],C)\n",
        "  sum_row=np.sum(U_random,axis=1)\n",
        "  U_norm=np.transpose(np.transpose(U_random)/sum_row)\n",
        "  return U_norm"
      ],
      "metadata": {
        "id": "G0SU73o7pIfI"
      },
      "execution_count": 315,
      "outputs": []
    },
    {
      "cell_type": "code",
      "source": [
        "test=U_rand(data_test,C)\n",
        "\n",
        "print(data_test, '\\n',test)\n",
        "print(test.shape, '\\n',test.shape)"
      ],
      "metadata": {
        "colab": {
          "base_uri": "https://localhost:8080/"
        },
        "id": "TEVbdo1Nw8ho",
        "outputId": "ece429a3-cf61-404d-da44-5338d4c8be12"
      },
      "execution_count": 323,
      "outputs": [
        {
          "output_type": "stream",
          "name": "stdout",
          "text": [
            "[[1 2 3]\n",
            " [2 3 5]\n",
            " [3 4 5]\n",
            " [4 4 5]] \n",
            " [[0.42028557 0.50434581 0.07536862]\n",
            " [0.45150026 0.02632328 0.52217646]\n",
            " [0.12245265 0.67141818 0.20612917]\n",
            " [0.12782815 0.64956681 0.22260505]]\n",
            "(4, 3) \n",
            " (4, 3)\n"
          ]
        }
      ]
    },
    {
      "cell_type": "code",
      "source": [
        "#2 Calculate the centers with a given membership matrix\n",
        "def Cluster_centers(data,C,m,U):\n",
        "  mu=U\n",
        "  mu_pot=mu**m\n",
        "  denominator=sum(mu_pot)\n",
        "  mu_pot_t=np.transpose(mu_pot)\n",
        "  centers=[]\n",
        "\n",
        "  for center in range(C):\n",
        "    coordinates=[]\n",
        "    for value in range (data.shape[1]):\n",
        "      coordinate=np.sum(mu_pot_t[center]*data[:,value])/denominator[center]\n",
        "      coordinates.append(coordinate)\n",
        "    centers.append(coordinates)\n",
        "  return np.array(centers)"
      ],
      "metadata": {
        "id": "q6NV-scbx0TX"
      },
      "execution_count": 347,
      "outputs": []
    },
    {
      "cell_type": "code",
      "source": [
        "x=Cluster_centers(data_test,3,2,test)\n",
        "x"
      ],
      "metadata": {
        "colab": {
          "base_uri": "https://localhost:8080/"
        },
        "id": "vqWHXnyA-_BT",
        "outputId": "7fa5def7-f031-4511-8f0a-19c8e35be0b6"
      },
      "execution_count": 353,
      "outputs": [
        {
          "output_type": "execute_result",
          "data": {
            "text/plain": [
              "array([[1.68684619, 2.64716926, 4.14216454],\n",
              "       [2.92242817, 3.54830319, 4.54891759],\n",
              "       [2.36694964, 3.23316395, 4.96932739]])"
            ]
          },
          "metadata": {},
          "execution_count": 353
        }
      ]
    },
    {
      "cell_type": "code",
      "source": [
        "\n",
        "mu=test\n",
        "mu_pot=[value**m for value in mu]\n",
        "mu_pot_t=np.transpose(mu_pot)\n",
        "denominator=sum(mu_pot)\n",
        "\n",
        "# print(mu[:,0],'\\n')\n",
        "# print(mu_pot_t[0],'\\n')\n",
        "# print(mu_pot_t[0]*data_test[:,0],'\\n')\n",
        "\n",
        "# np.sum(mu_pot_t[0]*data_test[:,0])/sum(mu_pot)[0]\n",
        "centers=[]\n",
        "for center in range(C):\n",
        "  coordinates=[]\n",
        "  for value in range (data_test.shape[1]):\n",
        "    coordinate=np.sum(mu_pot_t[center]*data_test[:,value])/denominator[center]\n",
        "    coordinates.append(coordinate)\n",
        "  centers.append(coordinates)\n",
        "print(centers)"
      ],
      "metadata": {
        "colab": {
          "base_uri": "https://localhost:8080/"
        },
        "id": "TOQfjVHI1Tmp",
        "outputId": "3e657757-fcfa-4798-f546-447f68345d52"
      },
      "execution_count": 229,
      "outputs": [
        {
          "output_type": "stream",
          "name": "stdout",
          "text": [
            "[[2.4900269939189705, 3.1207168625730346, 4.141335498008314], [2.627849570780124, 3.449300397013246, 4.997762577951886], [1.1477339873993258, 2.140468378542235, 3.1860268837875743]]\n"
          ]
        }
      ]
    },
    {
      "cell_type": "code",
      "source": [
        "Cluster_centers(data_test,C,m,test)"
      ],
      "metadata": {
        "colab": {
          "base_uri": "https://localhost:8080/"
        },
        "id": "b59sENJzOAO7",
        "outputId": "a2ff246d-526a-41d5-b04f-dab32e4efca3"
      },
      "execution_count": 230,
      "outputs": [
        {
          "output_type": "execute_result",
          "data": {
            "text/plain": [
              "[[2.4900269939189705, 3.1207168625730346, 4.141335498008314],\n",
              " [2.627849570780124, 3.449300397013246, 4.997762577951886],\n",
              " [1.1477339873993258, 2.140468378542235, 3.1860268837875743]]"
            ]
          },
          "metadata": {},
          "execution_count": 230
        }
      ]
    },
    {
      "cell_type": "code",
      "source": [
        "centers"
      ],
      "metadata": {
        "colab": {
          "base_uri": "https://localhost:8080/"
        },
        "id": "tYewhsQwdGda",
        "outputId": "99752cf2-836a-40f1-c777-aac62cae872b"
      },
      "execution_count": 270,
      "outputs": [
        {
          "output_type": "execute_result",
          "data": {
            "text/plain": [
              "[[2.4900269939189705, 3.1207168625730346, 4.141335498008314],\n",
              " [2.627849570780124, 3.449300397013246, 4.997762577951886],\n",
              " [1.1477339873993258, 2.140468378542235, 3.1860268837875743]]"
            ]
          },
          "metadata": {},
          "execution_count": 270
        }
      ]
    },
    {
      "cell_type": "code",
      "source": [
        "#3 Calculate the distances for each data point given the centers for each cluster\n",
        "\n",
        "def distances_to_clusters(data,C,m,centers):\n",
        "  p = float(2/(m-1))\n",
        "  distances=[]\n",
        "  for center in range(C):\n",
        "    to_cluster=[]\n",
        "    for value in range(data.shape[0]):\n",
        "      distance=np.power(sum(((data[value])-centers[center])**p),1/p)\n",
        "      to_cluster.append(distance)\n",
        "    distances.append(to_cluster)\n",
        "  return np.array(distances)"
      ],
      "metadata": {
        "id": "hRm9O3KA2zWZ"
      },
      "execution_count": 361,
      "outputs": []
    },
    {
      "cell_type": "code",
      "source": [
        "y=distances_to_clusters(data_test,3,2,x)\n",
        "y"
      ],
      "metadata": {
        "colab": {
          "base_uri": "https://localhost:8080/"
        },
        "id": "q1XPwkEUc83w",
        "outputId": "3fa3999e-0649-479d-a2ad-19d858d7913d"
      },
      "execution_count": 364,
      "outputs": [
        {
          "output_type": "execute_result",
          "data": {
            "text/plain": [
              "array([[1.48159561, 0.97899772, 2.07132944, 2.81366545],\n",
              "       [2.91412398, 1.16403843, 0.64305733, 1.25246413],\n",
              "       [2.69582919, 0.43584203, 0.9948523 , 1.80439237]])"
            ]
          },
          "metadata": {},
          "execution_count": 364
        }
      ]
    },
    {
      "cell_type": "code",
      "source": [
        "data_test.shape[0]"
      ],
      "metadata": {
        "colab": {
          "base_uri": "https://localhost:8080/"
        },
        "id": "Gae8f6CogB8Y",
        "outputId": "2afd6abd-a5fa-4fce-e255-64a1f5433da7"
      },
      "execution_count": 306,
      "outputs": [
        {
          "output_type": "execute_result",
          "data": {
            "text/plain": [
              "4"
            ]
          },
          "metadata": {},
          "execution_count": 306
        }
      ]
    },
    {
      "cell_type": "code",
      "source": [
        "value=3\n",
        "cent=0\n",
        "distance=np.power(sum(((data_test[value])-np.array(centers[cent]))**p),1/p)\n",
        "print(data_test[value],'\\n')\n",
        "print(centers[cent],'\\n')\n",
        "print(distance,'\\n')"
      ],
      "metadata": {
        "colab": {
          "base_uri": "https://localhost:8080/"
        },
        "id": "W9akWyssdbx1",
        "outputId": "49b11115-f5c5-4dd9-b39a-3d1b2199574b"
      },
      "execution_count": 314,
      "outputs": [
        {
          "output_type": "stream",
          "name": "stdout",
          "text": [
            "[4 4 5] \n",
            "\n",
            "[2.4900269939189705, 3.1207168625730346, 4.141335498008314] \n",
            "\n",
            "1.9469108972516995 \n",
            "\n"
          ]
        }
      ]
    },
    {
      "cell_type": "code",
      "source": [
        "data_test"
      ],
      "metadata": {
        "colab": {
          "base_uri": "https://localhost:8080/"
        },
        "id": "G1mlfdehbige",
        "outputId": "2d9e785e-ec6e-413d-a38b-caffc112d50f"
      },
      "execution_count": 267,
      "outputs": [
        {
          "output_type": "execute_result",
          "data": {
            "text/plain": [
              "array([[1, 2, 3],\n",
              "       [2, 3, 5],\n",
              "       [3, 4, 5],\n",
              "       [4, 4, 5]])"
            ]
          },
          "metadata": {},
          "execution_count": 267
        }
      ]
    },
    {
      "cell_type": "code",
      "source": [
        "check=2\n",
        "p = float(2/(m-1))\n",
        "print(centers[check])\n",
        "print(data_test[check])\n",
        "\n",
        "print(((data_test[check])-np.array(centers[check]))**p)\n",
        "print(sum(((data_test[check])-np.array(centers[check]))**p))\n",
        "np.power(sum(((data_test[check])-np.array(centers[check]))**p),1/p)\n"
      ],
      "metadata": {
        "colab": {
          "base_uri": "https://localhost:8080/"
        },
        "id": "YdJiCITCU2wm",
        "outputId": "b1b11284-0e42-4a77-c2f0-6358ce6efbef"
      },
      "execution_count": 266,
      "outputs": [
        {
          "output_type": "stream",
          "name": "stdout",
          "text": [
            "[1.1477339873993258, 2.140468378542235, 3.1860268837875743]\n",
            "[3 4 5]\n",
            "[3.43088938 3.45785785 3.29049847]\n",
            "10.179245698978363\n"
          ]
        },
        {
          "output_type": "execute_result",
          "data": {
            "text/plain": [
              "3.1904930181679387"
            ]
          },
          "metadata": {},
          "execution_count": 266
        }
      ]
    },
    {
      "cell_type": "code",
      "source": [
        "#4 Calculate the membership value for each distance\n",
        "def membership_values(data,C,m,distances):\n",
        "  p = float(2/(m-1))\n",
        "  distances=[]\n",
        "  for center in range(C):\n",
        "    to_cluster=[]\n",
        "    for value in range(data.shape[0]):\n",
        "      distance=np.power(sum(((data[value])-np.array(distances[center]))**p),1/p)\n",
        "      to_cluster.append(distance)\n",
        "    distances.append(to_cluster)\n",
        "  return distances"
      ],
      "metadata": {
        "colab": {
          "base_uri": "https://localhost:8080/",
          "height": 210
        },
        "id": "nx3txUpVVWir",
        "outputId": "c928c0bf-58f9-4b6c-cede-8014d10ebc2c"
      },
      "execution_count": 250,
      "outputs": [
        {
          "output_type": "error",
          "ename": "AttributeError",
          "evalue": "ignored",
          "traceback": [
            "\u001b[0;31m---------------------------------------------------------------------------\u001b[0m",
            "\u001b[0;31mAttributeError\u001b[0m                            Traceback (most recent call last)",
            "\u001b[0;32m<ipython-input-250-8f19273e529e>\u001b[0m in \u001b[0;36m<cell line: 2>\u001b[0;34m()\u001b[0m\n\u001b[1;32m      1\u001b[0m \u001b[0mjuan\u001b[0m\u001b[0;34m=\u001b[0m\u001b[0mnp\u001b[0m\u001b[0;34m.\u001b[0m\u001b[0marray\u001b[0m\u001b[0;34m(\u001b[0m\u001b[0;34m[\u001b[0m\u001b[0;34m]\u001b[0m\u001b[0;34m)\u001b[0m\u001b[0;34m\u001b[0m\u001b[0;34m\u001b[0m\u001b[0m\n\u001b[0;32m----> 2\u001b[0;31m \u001b[0mjuan\u001b[0m\u001b[0;34m.\u001b[0m\u001b[0mappend\u001b[0m\u001b[0;34m(\u001b[0m\u001b[0;36m4\u001b[0m\u001b[0;34m)\u001b[0m\u001b[0;34m\u001b[0m\u001b[0;34m\u001b[0m\u001b[0m\n\u001b[0m\u001b[1;32m      3\u001b[0m \u001b[0mprint\u001b[0m\u001b[0;34m(\u001b[0m\u001b[0mjuan\u001b[0m\u001b[0;34m)\u001b[0m\u001b[0;34m\u001b[0m\u001b[0;34m\u001b[0m\u001b[0m\n",
            "\u001b[0;31mAttributeError\u001b[0m: 'numpy.ndarray' object has no attribute 'append'"
          ]
        }
      ]
    },
    {
      "cell_type": "code",
      "source": [
        "def main:\n",
        "\n"
      ],
      "metadata": {
        "id": "AHX0iH_IupLl"
      },
      "execution_count": null,
      "outputs": []
    }
  ]
}