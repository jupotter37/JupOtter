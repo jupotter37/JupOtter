{
 "cells": [
  {
   "cell_type": "code",
   "execution_count": 54,
   "metadata": {
    "collapsed": true
   },
   "outputs": [],
   "source": [
    "import math\n",
    "import numpy as np\n",
    "import scipy as sp\n",
    "from matplotlib import pyplot as plt \n",
    "import sys, os \n",
    "import time\n",
    "import csv\n",
    "from decimal import *\n",
    "\n",
    "%matplotlib inline"
   ]
  },
  {
   "cell_type": "code",
   "execution_count": 56,
   "metadata": {
    "collapsed": false
   },
   "outputs": [
    {
     "ename": "AttributeError",
     "evalue": "module 'scipy' has no attribute 'ellipj'",
     "output_type": "error",
     "traceback": [
      "\u001b[0;31m---------------------------------------------------------------------------\u001b[0m",
      "\u001b[0;31mAttributeError\u001b[0m                            Traceback (most recent call last)",
      "\u001b[0;32m<ipython-input-56-bbe1cb06aec6>\u001b[0m in \u001b[0;36m<module>\u001b[0;34m()\u001b[0m\n\u001b[1;32m      2\u001b[0m \u001b[0mB\u001b[0m \u001b[0;34m=\u001b[0m \u001b[0mA\u001b[0m \u001b[0;34m*\u001b[0m \u001b[0;36m2\u001b[0m\u001b[0;34m\u001b[0m\u001b[0m\n\u001b[1;32m      3\u001b[0m \u001b[0;34m\u001b[0m\u001b[0m\n\u001b[0;32m----> 4\u001b[0;31m \u001b[0mC\u001b[0m \u001b[0;34m=\u001b[0m \u001b[0msp\u001b[0m\u001b[0;34m.\u001b[0m\u001b[0mellipj\u001b[0m\u001b[0;34m(\u001b[0m\u001b[0mA\u001b[0m\u001b[0;34m,\u001b[0m\u001b[0mB\u001b[0m\u001b[0;34m)\u001b[0m\u001b[0;34m\u001b[0m\u001b[0m\n\u001b[0m\u001b[1;32m      5\u001b[0m \u001b[0;34m\u001b[0m\u001b[0m\n\u001b[1;32m      6\u001b[0m \u001b[0mprint\u001b[0m\u001b[0;34m(\u001b[0m\u001b[0mA\u001b[0m\u001b[0;34m,\u001b[0m\u001b[0mB\u001b[0m\u001b[0;34m)\u001b[0m\u001b[0;34m\u001b[0m\u001b[0m\n",
      "\u001b[0;31mAttributeError\u001b[0m: module 'scipy' has no attribute 'ellipj'"
     ]
    }
   ],
   "source": [
    "A = np.arange(9)\n",
    "B = A * 2\n",
    "\n",
    "C = sp.ellipj(A,B)\n",
    "\n",
    "print(A,B)"
   ]
  },
  {
   "cell_type": "code",
   "execution_count": 35,
   "metadata": {
    "collapsed": false
   },
   "outputs": [
    {
     "name": "stdout",
     "output_type": "stream",
     "text": [
      "4.0 4.0\n"
     ]
    }
   ],
   "source": [
    "a = np.subtract (1, np.subtract(1.0, 4.0))  \n",
    "#np.subtract(1.0, 4.0)\n",
    "c = np.subtract(1.0, -3.0)\n",
    "print(a, c)"
   ]
  },
  {
   "cell_type": "code",
   "execution_count": 42,
   "metadata": {
    "collapsed": false
   },
   "outputs": [
    {
     "name": "stdout",
     "output_type": "stream",
     "text": [
      "<class 'float'> 8695652173913.045\n"
     ]
    }
   ],
   "source": [
    "y = (2 * 10 ** 10 * 1 * 10 ** -19) / (23 * 10 ** -23)\n",
    "print (type(y), y)"
   ]
  },
  {
   "cell_type": "code",
   "execution_count": 26,
   "metadata": {
    "collapsed": false
   },
   "outputs": [
    {
     "name": "stdout",
     "output_type": "stream",
     "text": [
      "[[-134.54253943    0.            0.            0.            0.            0.\n",
      "     0.            0.            0.            0.            0.            0.\n",
      "     0.            0.          134.54253943]\n",
      " [   0.            1.            0.            0.            0.            0.\n",
      "     0.            0.            0.            0.            0.            0.\n",
      "     0.            0.            0.        ]\n",
      " [   0.            0.         -134.54253943    0.            0.\n",
      "   134.54253943    0.            0.            0.            0.            0.\n",
      "     0.            0.            0.            0.        ]\n",
      " [   0.            0.          134.54253943 -134.54253943    0.            0.\n",
      "     0.            0.            0.            0.            0.            0.\n",
      "     0.            0.            0.        ]\n",
      " [   0.            0.            0.            0.            1.            0.\n",
      "     0.            0.            0.            0.            0.            0.\n",
      "     0.            0.            0.        ]\n",
      " [   0.            0.            0.            0.            0.            0.\n",
      "     0.            0.            0.            0.            0.            0.\n",
      "     0.            0.            0.        ]\n",
      " [   0.            0.            0.            0.            0.\n",
      "   134.54253943 -134.54253943    0.            0.            0.            0.\n",
      "     0.            0.            0.            0.        ]\n",
      " [   0.            0.            0.            0.            0.            0.\n",
      "     0.            1.            0.            0.            0.            0.\n",
      "     0.            0.            0.        ]\n",
      " [   0.            0.            0.            0.            0.            0.\n",
      "     0.            0.            0.            0.            0.            0.\n",
      "     0.            0.            0.        ]\n",
      " [   0.            0.            0.            0.            0.            0.\n",
      "     0.            0.          134.54253943 -134.54253943    0.            0.\n",
      "     0.            0.            0.        ]\n",
      " [   0.            0.            0.            0.            0.            0.\n",
      "     0.            0.            0.            0.            1.            0.\n",
      "     0.            0.            0.        ]\n",
      " [   0.            0.            0.            0.            0.            0.\n",
      "     0.            0.            0.            0.            0.            0.\n",
      "     0.            0.            0.        ]\n",
      " [   0.            0.            0.            0.            0.            0.\n",
      "     0.            0.            0.            0.            0.\n",
      "   134.54253943 -134.54253943    0.            0.        ]\n",
      " [   0.            0.            0.            0.            0.            0.\n",
      "     0.            0.            0.            0.            0.            0.\n",
      "     0.            1.            0.        ]\n",
      " [   0.            0.            0.            0.            0.            0.\n",
      "     0.            0.            0.            0.            0.\n",
      "   134.54253943    0.            0.         -134.54253943]]\n"
     ]
    }
   ],
   "source": [
    "# constants \n",
    "EPS0 = 8.85 * 10 ** -12\n",
    "QE = 1.602 * 10 ** -19 \n",
    "K = 1.381 * 10 ** -23 \n",
    "AMU = 1.661 * 10 ** -27\n",
    "Mi = 40 * AMU #mass of an Ar+ ion \n",
    "\n",
    "#simulation inputs \n",
    "N = 20000 #max particles \n",
    "n0 = 1 * 10 ** 12 #density \n",
    "V_ref = 0 #reference potential \n",
    "Te = 1  #electron temperature in eV \n",
    "Ti = 0.1 #ion temperature in eV\n",
    "V_d = -5.1 #dust potential (use values from lit)\n",
    "v_drift = 7000\n",
    "tol = 1 * 10 ** -4\n",
    "iterations = 200\n",
    "\n",
    "\n",
    "#plasma parameters \n",
    "lambd_D = np.sqrt( EPS0 * Te /(n0 * QE)) #NOTE: update this variable, currently ~0.007  \n",
    "vth = np.sqrt((2 * QE * Ti) / Mi) # ~2195\n",
    "v0 = 0.2 #stream velocity \n",
    "#print(lambd_D, vth)\n",
    "\n",
    "#domain parameters \n",
    "nx = 3\n",
    "ny = 5\n",
    "J = nx * ny\n",
    "dx = dy = dh = lambd_D\n",
    "\n",
    "\n",
    "M = np.zeros((J,J))\n",
    "\n",
    "for i in range (1, nx-1):\n",
    "    for j in range(1, ny-1): \n",
    "        u = (j-1) * nx + i\n",
    "        M[u, u] = -4. / (dh * dh) \n",
    "        M[u, u-1] = 1. / (dh * dh)\n",
    "        M[u, u+1] = 1. / (dh * dh)\n",
    "        M[u, u-nx] = 1. / (dh * dh)\n",
    "        M[u, u+ (nx-2)] = 1. / (dh * dh)    \n",
    "\n",
    "for i in range (0, nx):\n",
    "    u = i+1\n",
    "    M[u,u] = -1. / dh\n",
    "    M[u,u+nx] = 1. / dh \n",
    "    \n",
    "for i in range (0,nx): \n",
    "    u = (ny-1) * nx  + i \n",
    "    M[u, u-nx] = 1. / dh\n",
    "    M[u, u] = -1. / dh \n",
    "    \n",
    "for j in range (0, ny): \n",
    "    u = (j-1) * nx + nx \n",
    "    M[u, :] = np.zeros([1, J])\n",
    "    M[u, u-1] = 1. / dh \n",
    "    M[u, u] = -1. / dh \n",
    "    \n",
    "for j in range(0, ny): \n",
    "    u = (j-1) * nx + 1 \n",
    "    M[u, :] = np.zeros([1, J])\n",
    "    M[u, u] = 1.     \n",
    "\n",
    "np.set_printoptions(threshold=np.nan)\n",
    "print(M)\n",
    "\n",
    "\n"
   ]
  },
  {
   "cell_type": "code",
   "execution_count": 14,
   "metadata": {
    "collapsed": false
   },
   "outputs": [
    {
     "name": "stdout",
     "output_type": "stream",
     "text": [
      "3.539999999999999537018852639E-11\n"
     ]
    }
   ],
   "source": [
    "eps0 = Decimal(8.85 * 10 ** -12)\n",
    "#print(eps0)\n",
    "\n",
    "e = 8.85 * 10 ** -12\n",
    "Ti = Decimal(0.1)\n",
    "T = 4\n",
    "x = Decimal(e) * T # can mult Decimal with an integer, but not a float (eg 0.1)\n",
    "print(x)"
   ]
  },
  {
   "cell_type": "code",
   "execution_count": 209,
   "metadata": {
    "collapsed": false
   },
   "outputs": [
    {
     "name": "stdout",
     "output_type": "stream",
     "text": [
      "[[   0    1    2 ...,   97   98   99]\n",
      " [ 100  101  102 ...,  197  198  199]\n",
      " [ 200  201  202 ...,  297  298  299]\n",
      " ..., \n",
      " [9700 9701 9702 ..., 9797 9798 9799]\n",
      " [9800 9801 9802 ..., 9897 9898 9899]\n",
      " [9900 9901 9902 ..., 9997 9998 9999]]\n"
     ]
    }
   ],
   "source": [
    "nx = ny = 100\n",
    "A = np.reshape(np.arange(nx * ny),(nx,ny))\n",
    "print(A)"
   ]
  },
  {
   "cell_type": "code",
   "execution_count": 199,
   "metadata": {
    "collapsed": false
   },
   "outputs": [
    {
     "name": "stdout",
     "output_type": "stream",
     "text": [
      "15\n",
      "[[10 11 12 13 14]\n",
      " [15 16 17 18 19]\n",
      " [20 21 22 23 24]]\n",
      "[[-10 -10 -10 -10 -10]\n",
      " [-10 -10 -10 -10 -10]\n",
      " [-10 -10 -10 -10 -10]]\n"
     ]
    }
   ],
   "source": [
    "print(np.size(A[0:nx-2, :]))\n",
    "print(A[nx-(nx-2):, :])\n",
    "print(A[0:nx-2,:]-A[nx-(nx-2):, :])"
   ]
  },
  {
   "cell_type": "code",
   "execution_count": 210,
   "metadata": {
    "collapsed": false,
    "scrolled": false
   },
   "outputs": [
    {
     "name": "stdout",
     "output_type": "stream",
     "text": [
      "[ 0  1  2  3  4  5  6  7  8  9 10 11 12 13 14 15 16 17 18 19 20 21 22 23 24\n",
      " 25 26 27 28 29 30 31 32 33 34 35 36 37 38 39 40 41 42 43 44 45 46 47 48 49\n",
      " 50 51 52 53 54 55 56 57 58 59 60 61 62 63 64 65 66 67 68 69 70 71 72 73 74\n",
      " 75 76 77 78 79 80 81 82 83 84 85 86 87 88 89 90 91 92 93 94 95 96 97 98 99]\n",
      "[100 101 102 103 104 105 106 107 108 109 110 111 112 113 114 115 116 117\n",
      " 118 119 120 121 122 123 124 125 126 127 128 129 130 131 132 133 134 135\n",
      " 136 137 138 139 140 141 142 143 144 145 146 147 148 149 150 151 152 153\n",
      " 154 155 156 157 158 159 160 161 162 163 164 165 166 167 168 169 170 171\n",
      " 172 173 174 175 176 177 178 179 180 181 182 183 184 185 186 187 188 189\n",
      " 190 191 192 193 194 195 196 197 198 199]\n",
      "[-200 -200 -200 -200 -200 -200 -200 -200 -200 -200 -200 -200 -200 -200 -200\n",
      " -200 -200 -200 -200 -200 -200 -200 -200 -200 -200 -200 -200 -200 -200 -200\n",
      " -200 -200 -200 -200 -200 -200 -200 -200 -200 -200 -200 -200 -200 -200 -200\n",
      " -200 -200 -200 -200 -200 -200 -200 -200 -200 -200 -200 -200 -200 -200 -200\n",
      " -200 -200 -200 -200 -200 -200 -200 -200 -200 -200 -200 -200 -200 -200 -200\n",
      " -200 -200 -200 -200 -200 -200 -200 -200 -200 -200 -200 -200 -200 -200 -200\n",
      " -200 -200 -200 -200 -200 -200 -200 -200 -200 -200]\n",
      "[9800 9801 9802 9803 9804 9805 9806 9807 9808 9809 9810 9811 9812 9813 9814\n",
      " 9815 9816 9817 9818 9819 9820 9821 9822 9823 9824 9825 9826 9827 9828 9829\n",
      " 9830 9831 9832 9833 9834 9835 9836 9837 9838 9839 9840 9841 9842 9843 9844\n",
      " 9845 9846 9847 9848 9849 9850 9851 9852 9853 9854 9855 9856 9857 9858 9859\n",
      " 9860 9861 9862 9863 9864 9865 9866 9867 9868 9869 9870 9871 9872 9873 9874\n",
      " 9875 9876 9877 9878 9879 9880 9881 9882 9883 9884 9885 9886 9887 9888 9889\n",
      " 9890 9891 9892 9893 9894 9895 9896 9897 9898 9899]\n",
      "[9900 9901 9902 9903 9904 9905 9906 9907 9908 9909 9910 9911 9912 9913 9914\n",
      " 9915 9916 9917 9918 9919 9920 9921 9922 9923 9924 9925 9926 9927 9928 9929\n",
      " 9930 9931 9932 9933 9934 9935 9936 9937 9938 9939 9940 9941 9942 9943 9944\n",
      " 9945 9946 9947 9948 9949 9950 9951 9952 9953 9954 9955 9956 9957 9958 9959\n",
      " 9960 9961 9962 9963 9964 9965 9966 9967 9968 9969 9970 9971 9972 9973 9974\n",
      " 9975 9976 9977 9978 9979 9980 9981 9982 9983 9984 9985 9986 9987 9988 9989\n",
      " 9990 9991 9992 9993 9994 9995 9996 9997 9998 9999]\n",
      "[-100 -100 -100 -100 -100 -100 -100 -100 -100 -100 -100 -100 -100 -100 -100\n",
      " -100 -100 -100 -100 -100 -100 -100 -100 -100 -100 -100 -100 -100 -100 -100\n",
      " -100 -100 -100 -100 -100 -100 -100 -100 -100 -100 -100 -100 -100 -100 -100\n",
      " -100 -100 -100 -100 -100 -100 -100 -100 -100 -100 -100 -100 -100 -100 -100\n",
      " -100 -100 -100 -100 -100 -100 -100 -100 -100 -100 -100 -100 -100 -100 -100\n",
      " -100 -100 -100 -100 -100 -100 -100 -100 -100 -100 -100 -100 -100 -100 -100\n",
      " -100 -100 -100 -100 -100 -100 -100 -100 -100 -100]\n"
     ]
    }
   ],
   "source": [
    "print(A[0,:])\n",
    "print(A[1,:])\n",
    "print(2*(A[0,:] - A[1,:]))\n",
    "\n",
    "print(A[nx-2,:])\n",
    "print(A[nx-1, :])\n",
    "print(A[nx-2,:] - A[nx-1, :])"
   ]
  },
  {
   "cell_type": "code",
   "execution_count": 213,
   "metadata": {
    "collapsed": false
   },
   "outputs": [
    {
     "name": "stdout",
     "output_type": "stream",
     "text": [
      "[[-200. -200. -200. ..., -200. -200. -200.]\n",
      " [-200. -200. -200. ..., -200. -200. -200.]\n",
      " [-200. -200. -200. ..., -200. -200. -200.]\n",
      " ..., \n",
      " [-200. -200. -200. ..., -200. -200. -200.]\n",
      " [-200. -200. -200. ..., -200. -200. -200.]\n",
      " [-200. -200. -200. ..., -200. -200. -200.]]\n"
     ]
    }
   ],
   "source": [
    "Ex = np.zeros([nx, ny])\n",
    "\n",
    "#internal nodes\n",
    "Ex[1:nx-1, :] = A[0:nx-2,:]-A[nx-(nx-2):, :]\n",
    "\n",
    "#boundaries (x=)\n",
    "#multiply by two so same value as internal nodes\n",
    "Ex[0,:] = 2* (A[0,:] - A[1,:]) \n",
    "Ex[nx-1, :] = 2 * (A[nx-2,:] - A[nx-1, :])\n",
    "\n",
    "print(Ex)"
   ]
  },
  {
   "cell_type": "code",
   "execution_count": 214,
   "metadata": {
    "collapsed": false,
    "scrolled": false
   },
   "outputs": [
    {
     "name": "stdout",
     "output_type": "stream",
     "text": [
      "[[   0    1    2 ...,   95   96   97]\n",
      " [ 100  101  102 ...,  195  196  197]\n",
      " [ 200  201  202 ...,  295  296  297]\n",
      " ..., \n",
      " [9700 9701 9702 ..., 9795 9796 9797]\n",
      " [9800 9801 9802 ..., 9895 9896 9897]\n",
      " [9900 9901 9902 ..., 9995 9996 9997]]\n"
     ]
    }
   ],
   "source": [
    "print(A[:, 0:ny-2])"
   ]
  },
  {
   "cell_type": "code",
   "execution_count": 215,
   "metadata": {
    "collapsed": false,
    "scrolled": true
   },
   "outputs": [
    {
     "name": "stdout",
     "output_type": "stream",
     "text": [
      "[[   2    3    4 ...,   97   98   99]\n",
      " [ 102  103  104 ...,  197  198  199]\n",
      " [ 202  203  204 ...,  297  298  299]\n",
      " ..., \n",
      " [9702 9703 9704 ..., 9797 9798 9799]\n",
      " [9802 9803 9804 ..., 9897 9898 9899]\n",
      " [9902 9903 9904 ..., 9997 9998 9999]]\n"
     ]
    }
   ],
   "source": [
    "print(A[:, 2:ny])"
   ]
  },
  {
   "cell_type": "code",
   "execution_count": 216,
   "metadata": {
    "collapsed": false
   },
   "outputs": [
    {
     "name": "stdout",
     "output_type": "stream",
     "text": [
      "[[-2 -2 -2 ..., -2 -2 -2]\n",
      " [-2 -2 -2 ..., -2 -2 -2]\n",
      " [-2 -2 -2 ..., -2 -2 -2]\n",
      " ..., \n",
      " [-2 -2 -2 ..., -2 -2 -2]\n",
      " [-2 -2 -2 ..., -2 -2 -2]\n",
      " [-2 -2 -2 ..., -2 -2 -2]]\n"
     ]
    }
   ],
   "source": [
    "print(A[:, 0:ny-2] - A[:, 2:ny])"
   ]
  },
  {
   "cell_type": "code",
   "execution_count": 217,
   "metadata": {
    "collapsed": false
   },
   "outputs": [
    {
     "name": "stdout",
     "output_type": "stream",
     "text": [
      "[   0  100  200  300  400  500  600  700  800  900 1000 1100 1200 1300 1400\n",
      " 1500 1600 1700 1800 1900 2000 2100 2200 2300 2400 2500 2600 2700 2800 2900\n",
      " 3000 3100 3200 3300 3400 3500 3600 3700 3800 3900 4000 4100 4200 4300 4400\n",
      " 4500 4600 4700 4800 4900 5000 5100 5200 5300 5400 5500 5600 5700 5800 5900\n",
      " 6000 6100 6200 6300 6400 6500 6600 6700 6800 6900 7000 7100 7200 7300 7400\n",
      " 7500 7600 7700 7800 7900 8000 8100 8200 8300 8400 8500 8600 8700 8800 8900\n",
      " 9000 9100 9200 9300 9400 9500 9600 9700 9800 9900]\n",
      "[-1 -1 -1 -1 -1 -1 -1 -1 -1 -1 -1 -1 -1 -1 -1 -1 -1 -1 -1 -1 -1 -1 -1 -1 -1\n",
      " -1 -1 -1 -1 -1 -1 -1 -1 -1 -1 -1 -1 -1 -1 -1 -1 -1 -1 -1 -1 -1 -1 -1 -1 -1\n",
      " -1 -1 -1 -1 -1 -1 -1 -1 -1 -1 -1 -1 -1 -1 -1 -1 -1 -1 -1 -1 -1 -1 -1 -1 -1\n",
      " -1 -1 -1 -1 -1 -1 -1 -1 -1 -1 -1 -1 -1 -1 -1 -1 -1 -1 -1 -1 -1 -1 -1 -1 -1]\n",
      "[  99  199  299  399  499  599  699  799  899  999 1099 1199 1299 1399 1499\n",
      " 1599 1699 1799 1899 1999 2099 2199 2299 2399 2499 2599 2699 2799 2899 2999\n",
      " 3099 3199 3299 3399 3499 3599 3699 3799 3899 3999 4099 4199 4299 4399 4499\n",
      " 4599 4699 4799 4899 4999 5099 5199 5299 5399 5499 5599 5699 5799 5899 5999\n",
      " 6099 6199 6299 6399 6499 6599 6699 6799 6899 6999 7099 7199 7299 7399 7499\n",
      " 7599 7699 7799 7899 7999 8099 8199 8299 8399 8499 8599 8699 8799 8899 8999\n",
      " 9099 9199 9299 9399 9499 9599 9699 9799 9899 9999]\n",
      "[-1 -1 -1 -1 -1 -1 -1 -1 -1 -1 -1 -1 -1 -1 -1 -1 -1 -1 -1 -1 -1 -1 -1 -1 -1\n",
      " -1 -1 -1 -1 -1 -1 -1 -1 -1 -1 -1 -1 -1 -1 -1 -1 -1 -1 -1 -1 -1 -1 -1 -1 -1\n",
      " -1 -1 -1 -1 -1 -1 -1 -1 -1 -1 -1 -1 -1 -1 -1 -1 -1 -1 -1 -1 -1 -1 -1 -1 -1\n",
      " -1 -1 -1 -1 -1 -1 -1 -1 -1 -1 -1 -1 -1 -1 -1 -1 -1 -1 -1 -1 -1 -1 -1 -1 -1]\n"
     ]
    }
   ],
   "source": [
    "print(A[:, 0])\n",
    "print(A[:,0]-A[:,1])\n",
    "\n",
    "print(A[:, ny-1])\n",
    "print(A[:, ny-2] - A[:, ny-1])"
   ]
  },
  {
   "cell_type": "code",
   "execution_count": 218,
   "metadata": {
    "collapsed": false,
    "scrolled": true
   },
   "outputs": [
    {
     "name": "stdout",
     "output_type": "stream",
     "text": [
      "[[-2. -2. -2. ..., -2. -2. -2.]\n",
      " [-2. -2. -2. ..., -2. -2. -2.]\n",
      " [-2. -2. -2. ..., -2. -2. -2.]\n",
      " ..., \n",
      " [-2. -2. -2. ..., -2. -2. -2.]\n",
      " [-2. -2. -2. ..., -2. -2. -2.]\n",
      " [-2. -2. -2. ..., -2. -2. -2.]]\n"
     ]
    }
   ],
   "source": [
    "Ey = np.zeros([nx, ny])\n",
    "\n",
    "#internal nodes\n",
    "Ey[0: ,1:nx-1] = A[:, 0:ny-2] - A[:, 2:ny]\n",
    "\n",
    "#boundaries (x=0 , nx)\n",
    "#multiply by two so same value as internal nodes\n",
    "Ey[:, 0] = 2 * (A[:,0]-A[:,1])\n",
    "Ey[:,ny-1] = 2 * (A[:, ny-2] - A[:, ny-1])\n",
    "\n",
    "print(Ey)"
   ]
  },
  {
   "cell_type": "code",
   "execution_count": 1,
   "metadata": {
    "collapsed": false
   },
   "outputs": [
    {
     "ename": "NameError",
     "evalue": "name 'np' is not defined",
     "output_type": "error",
     "traceback": [
      "\u001b[0;31m---------------------------------------------------------------------------\u001b[0m",
      "\u001b[0;31mNameError\u001b[0m                                 Traceback (most recent call last)",
      "\u001b[0;32m<ipython-input-1-3bc36ccc83e0>\u001b[0m in \u001b[0;36m<module>\u001b[0;34m()\u001b[0m\n\u001b[1;32m      1\u001b[0m \u001b[0mN\u001b[0m \u001b[0;34m=\u001b[0m \u001b[0;36m1000\u001b[0m\u001b[0;34m\u001b[0m\u001b[0m\n\u001b[1;32m      2\u001b[0m \u001b[0mny\u001b[0m \u001b[0;34m=\u001b[0m \u001b[0;36m10\u001b[0m\u001b[0;34m\u001b[0m\u001b[0m\n\u001b[0;32m----> 3\u001b[0;31m \u001b[0mp_pos\u001b[0m \u001b[0;34m=\u001b[0m \u001b[0mnp\u001b[0m\u001b[0;34m.\u001b[0m\u001b[0mzeros\u001b[0m\u001b[0;34m(\u001b[0m\u001b[0;34m[\u001b[0m\u001b[0mN\u001b[0m\u001b[0;34m,\u001b[0m\u001b[0;36m2\u001b[0m\u001b[0;34m]\u001b[0m\u001b[0;34m)\u001b[0m\u001b[0;34m\u001b[0m\u001b[0m\n\u001b[0m\u001b[1;32m      4\u001b[0m \u001b[0mnp_in\u001b[0m \u001b[0;34m=\u001b[0m \u001b[0;34m(\u001b[0m\u001b[0mny\u001b[0m\u001b[0;34m-\u001b[0m\u001b[0;36m1\u001b[0m\u001b[0;34m)\u001b[0m \u001b[0;34m*\u001b[0m \u001b[0;36m15\u001b[0m\u001b[0;34m\u001b[0m\u001b[0m\n\u001b[1;32m      5\u001b[0m \u001b[0mdh\u001b[0m \u001b[0;34m=\u001b[0m \u001b[0;36m0.0074\u001b[0m\u001b[0;34m\u001b[0m\u001b[0m\n",
      "\u001b[0;31mNameError\u001b[0m: name 'np' is not defined"
     ]
    }
   ],
   "source": [
    "N = 1000 \n",
    "ny = 10\n",
    "p_pos = np.zeros([N,2])\n",
    "np_in = (ny-1) * 15\n",
    "dh = 0.0074\n",
    "NP = 2\n",
    "#x = np.random.rand(np_in,1)\n",
    "#print(x)\n",
    "p_pos[NP:NP+np_in, 1: ] = np.random.rand(np_in,1) * dh #x position\n",
    "\n",
    "#print(p_pos[NP:NP+np_in, 1: ])\n",
    "\n",
    "#while NP < N: \n",
    "#    p_pos[NP+1:NP+np_in, 1: ] = np.random.rand(np_in,1) * dh #x position\n",
    "#    \n",
    "#    print(p_pos[NP+1:NP+np_in,0])"
   ]
  },
  {
   "cell_type": "code",
   "execution_count": 34,
   "metadata": {
    "collapsed": false
   },
   "outputs": [
    {
     "name": "stdout",
     "output_type": "stream",
     "text": [
      "4 16 [[  0.00000000e+00]\n",
      " [  0.00000000e+00]\n",
      " [  0.00000000e+00]\n",
      " [ -4.86594764e+47]\n",
      " [ -4.86594764e+47]\n",
      " [ -4.86594764e+47]\n",
      " [ -4.86594764e+47]\n",
      " [ -4.86594764e+47]\n",
      " [ -4.86594764e+47]\n",
      " [ -4.86594764e+47]\n",
      " [ -4.86594764e+47]\n",
      " [ -4.86594764e+47]\n",
      " [ -4.86594764e+47]\n",
      " [  0.00000000e+00]\n",
      " [  0.00000000e+00]\n",
      " [  0.00000000e+00]] <class 'numpy.ndarray'> 10000\n"
     ]
    }
   ],
   "source": [
    "rho = np.ones((4,4))\n",
    "\n",
    "x = 100\n",
    "y = 100 \n",
    "vref = 0\n",
    "\n",
    "QE = 1.602 * 10 ** -19 \n",
    "EPS0 = 8.85 * 10 ** -12\n",
    "\n",
    "V = np.ones((x,y)) * vref\n",
    "\n",
    "Te = 1 \n",
    "n0 = 1 * 10 ** 12 \n",
    "\n",
    "source = rho\n",
    "nx = np.size(source,1)\n",
    "nn = np.size(source)\n",
    "\n",
    "x0 = np.reshape(source, (nn,1))\n",
    "x = x0 - n0 * math.exp((x-vref)/ Te)  \n",
    "x = (x * QE) / EPS0 \n",
    "\n",
    "x[0:nx-1] = 0 \n",
    "x[nn-nx+1 : nn] = 0 \n",
    "\n",
    "#x[nx: nx : nn] = 0 \n",
    "#x[1:nx:nn] = 0\n",
    "\n",
    "print(nx,nn, x, type(x), np.size(V))"
   ]
  },
  {
   "cell_type": "code",
   "execution_count": 12,
   "metadata": {
    "collapsed": false
   },
   "outputs": [
    {
     "name": "stdout",
     "output_type": "stream",
     "text": [
      "[[  1.02322908e+08   1.02322908e+08   1.02322908e+08 ...,   1.02322908e+08\n",
      "    1.02322908e+08   1.02322908e+08]\n",
      " [  1.02322908e+08   1.02322908e+08   1.02322908e+08 ...,   1.02322908e+08\n",
      "    1.02322908e+08   1.02322908e+08]\n",
      " [  1.02322908e+08   1.02322908e+08   1.02322908e+08 ...,   1.02322908e+08\n",
      "    1.02322908e+08   1.02322908e+08]\n",
      " ..., \n",
      " [  1.02322908e+08   1.02322908e+08   1.02322908e+08 ...,   1.02322908e+08\n",
      "    1.02322908e+08   1.02322908e+08]\n",
      " [  1.02322908e+08   1.02322908e+08   1.02322908e+08 ...,   1.02322908e+08\n",
      "    1.02322908e+08   1.02322908e+08]\n",
      " [  1.02322908e+08   1.02322908e+08   1.02322908e+08 ...,   1.02322908e+08\n",
      "    1.02322908e+08   1.02322908e+08]]\n"
     ]
    },
    {
     "name": "stderr",
     "output_type": "stream",
     "text": [
      "/Users/Isabel/anaconda/lib/python3.5/site-packages/ipykernel/__main__.py:19: VisibleDeprecationWarning: using a non-integer number instead of an integer will result in an error in the future\n"
     ]
    }
   ],
   "source": [
    "q = np.zeros((170, 170))\n",
    "\n",
    "sw = 3683.264706\n",
    "q_mp = 1\n",
    "N = 1000\n",
    "p_pos = np.zeros([N,2])\n",
    "p_velo = np.zeros([N,2])\n",
    "dh = 0.006\n",
    "\n",
    "for p in range (1, N):\n",
    "    fi = (1 + p_pos[p,0]) / (dh) \n",
    "    i = np.floor(fi)\n",
    "    hx = fi - i\n",
    "    \n",
    "    fj = (1 + p_pos[p,1]) / (dh)\n",
    "    j = np.floor(fj)\n",
    "    hy = fj - j\n",
    "    \n",
    "    q[i,j] = q[i,j] + (1-hx) * (1-hy)\n",
    "    \n",
    "rho = (sw + q_mp * q) / (dh * dh)\n",
    "rho = rho + 1 * 10 ** 4\n",
    "\n",
    "print(rho)"
   ]
  },
  {
   "cell_type": "code",
   "execution_count": 5,
   "metadata": {
    "collapsed": false
   },
   "outputs": [
    {
     "name": "stdout",
     "output_type": "stream",
     "text": [
      "[0, 0]\n"
     ]
    }
   ],
   "source": [
    "a = [0, 0]\n",
    "print(a)"
   ]
  },
  {
   "cell_type": "code",
   "execution_count": null,
   "metadata": {
    "collapsed": true
   },
   "outputs": [],
   "source": []
  }
 ],
 "metadata": {
  "anaconda-cloud": {},
  "kernelspec": {
   "display_name": "Python [conda root]",
   "language": "python",
   "name": "conda-root-py"
  },
  "language_info": {
   "codemirror_mode": {
    "name": "ipython",
    "version": 3
   },
   "file_extension": ".py",
   "mimetype": "text/x-python",
   "name": "python",
   "nbconvert_exporter": "python",
   "pygments_lexer": "ipython3",
   "version": "3.5.2"
  }
 },
 "nbformat": 4,
 "nbformat_minor": 1
}
