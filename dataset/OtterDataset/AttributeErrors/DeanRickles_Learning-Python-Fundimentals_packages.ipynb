{
 "cells": [
  {
   "cell_type": "code",
   "execution_count": 10,
   "id": "b92d33e8-b39a-45b3-b95c-2da738e1908d",
   "metadata": {
    "collapsed": true,
    "jupyter": {
     "outputs_hidden": true
    },
    "tags": []
   },
   "outputs": [
    {
     "data": {
      "text/plain": [
       "'\\n    Package is a container for multipule modules.\\n'"
      ]
     },
     "execution_count": 10,
     "metadata": {},
     "output_type": "execute_result"
    }
   ],
   "source": [
    "'''\n",
    "    Package is a container for multipule modules.\n",
    "    \n",
    "    It's created using a folder. \n",
    "    Within the folder there needs to be a __inif__py file.\n",
    "    \n",
    "    -FOLDER\n",
    "        |-__init__.py\n",
    "        |-module1.py\n",
    "        |-module2.py\n",
    "        |-module3.py\n",
    "'''"
   ]
  },
  {
   "cell_type": "code",
   "execution_count": null,
   "id": "ef79cdad-2cf3-4990-a75b-613772194ead",
   "metadata": {},
   "outputs": [],
   "source": [
    "'''\n",
    "    importing all modules in the package\n",
    "'''"
   ]
  },
  {
   "cell_type": "code",
   "execution_count": 4,
   "id": "86ec4241-187f-4a72-b004-a698a7af153c",
   "metadata": {},
   "outputs": [],
   "source": [
    "import ecommerce"
   ]
  },
  {
   "cell_type": "code",
   "execution_count": 2,
   "id": "727a5e43-c0fd-4d49-bdca-c17ab5773278",
   "metadata": {},
   "outputs": [
    {
     "ename": "AttributeError",
     "evalue": "module 'ecommerce' has no attribute 'shipping'",
     "output_type": "error",
     "traceback": [
      "\u001b[0;31m---------------------------------------------------------------------------\u001b[0m",
      "\u001b[0;31mAttributeError\u001b[0m                            Traceback (most recent call last)",
      "Input \u001b[0;32mIn [2]\u001b[0m, in \u001b[0;36m<cell line: 1>\u001b[0;34m()\u001b[0m\n\u001b[0;32m----> 1\u001b[0m \u001b[43mecommerce\u001b[49m\u001b[38;5;241;43m.\u001b[39;49m\u001b[43mshipping\u001b[49m\u001b[38;5;241m.\u001b[39mcalc_shipping()\n",
      "\u001b[0;31mAttributeError\u001b[0m: module 'ecommerce' has no attribute 'shipping'"
     ]
    }
   ],
   "source": [
    "ecommerce.shipping.calc_shipping("
   ]
  },
  {
   "cell_type": "code",
   "execution_count": 5,
   "id": "166412b9-ad15-40f6-9ded-5a3b4db87000",
   "metadata": {
    "tags": []
   },
   "outputs": [
    {
     "data": {
      "text/plain": [
       "'\\n    Importing a module of a package\\n'"
      ]
     },
     "execution_count": 5,
     "metadata": {},
     "output_type": "execute_result"
    }
   ],
   "source": [
    "'''\n",
    "    Importing a module of a package\n",
    "'''"
   ]
  },
  {
   "cell_type": "code",
   "execution_count": 6,
   "id": "58d7c7f9-5f98-4581-a5d2-9bf98af9616f",
   "metadata": {},
   "outputs": [],
   "source": [
    "from ecommerce import shipping"
   ]
  },
  {
   "cell_type": "code",
   "execution_count": 7,
   "id": "31f68d01-1a67-43ed-bc15-4c476b84408e",
   "metadata": {},
   "outputs": [
    {
     "name": "stdout",
     "output_type": "stream",
     "text": [
      "calc_shipping\n"
     ]
    }
   ],
   "source": [
    "shipping.calc_shipping()"
   ]
  },
  {
   "cell_type": "code",
   "execution_count": null,
   "id": "c7f21edb-9f5a-40d1-b2ed-b036e2f5df25",
   "metadata": {},
   "outputs": [],
   "source": []
  }
 ],
 "metadata": {
  "kernelspec": {
   "display_name": "Python 3 (ipykernel)",
   "language": "python",
   "name": "python3"
  },
  "language_info": {
   "codemirror_mode": {
    "name": "ipython",
    "version": 3
   },
   "file_extension": ".py",
   "mimetype": "text/x-python",
   "name": "python",
   "nbconvert_exporter": "python",
   "pygments_lexer": "ipython3",
   "version": "3.10.2"
  }
 },
 "nbformat": 4,
 "nbformat_minor": 5
}
