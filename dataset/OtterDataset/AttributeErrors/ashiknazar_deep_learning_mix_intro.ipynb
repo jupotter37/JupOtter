{
 "cells": [
  {
   "cell_type": "code",
   "execution_count": 1,
   "id": "81a260cf-a425-45e1-8bf3-118fe0f407e8",
   "metadata": {},
   "outputs": [],
   "source": [
    "import tensorflow as tf"
   ]
  },
  {
   "cell_type": "code",
   "execution_count": 7,
   "id": "de3b03df-4f65-42e4-b378-98878fe3362d",
   "metadata": {},
   "outputs": [
    {
     "name": "stdout",
     "output_type": "stream",
     "text": [
      "2.17.0\n"
     ]
    }
   ],
   "source": [
    "print(tf.__version__)"
   ]
  },
  {
   "cell_type": "code",
   "execution_count": 9,
   "id": "737ef51f-094c-43cf-b919-e70802241db0",
   "metadata": {},
   "outputs": [],
   "source": [
    "rank1_tensor=tf.Variable([\"test\",\"ok\",\"tim\"],tf.string)\n",
    "rank2_tensor=tf.Variable([[\"test\",\"ok\"],[\"test\",\"yes\"]],tf.string)"
   ]
  },
  {
   "cell_type": "code",
   "execution_count": 25,
   "id": "4854961a-20b1-459f-8e79-3deaae68d8bb",
   "metadata": {},
   "outputs": [
    {
     "name": "stdout",
     "output_type": "stream",
     "text": [
      "tf.Tensor(1, shape=(), dtype=int32)\n",
      "tf.Tensor(2, shape=(), dtype=int32)\n"
     ]
    }
   ],
   "source": [
    "print(tf.rank(rank1_tensor))\n",
    "print(tf.rank(rank2_tensor))\n"
   ]
  },
  {
   "cell_type": "code",
   "execution_count": 27,
   "id": "6fb7e5a8-5963-4df3-b071-2b13d2a86a6d",
   "metadata": {},
   "outputs": [
    {
     "ename": "AttributeError",
     "evalue": "'ResourceVariable' object has no attribute 'ndim'",
     "output_type": "error",
     "traceback": [
      "\u001b[1;31m---------------------------------------------------------------------------\u001b[0m",
      "\u001b[1;31mAttributeError\u001b[0m                            Traceback (most recent call last)",
      "Cell \u001b[1;32mIn[27], line 1\u001b[0m\n\u001b[1;32m----> 1\u001b[0m \u001b[38;5;28mprint\u001b[39m(rank1_tensor\u001b[38;5;241m.\u001b[39mndim)\n",
      "\u001b[1;31mAttributeError\u001b[0m: 'ResourceVariable' object has no attribute 'ndim'"
     ]
    }
   ],
   "source": [
    "print(rank1_tensor.ndim)"
   ]
  },
  {
   "cell_type": "code",
   "execution_count": 23,
   "id": "8961e802-6c3f-4ab3-a775-19505f61d72f",
   "metadata": {},
   "outputs": [
    {
     "name": "stdout",
     "output_type": "stream",
     "text": [
      "2\n"
     ]
    }
   ],
   "source": [
    "abc=tf.constant([[1,2,3],[34,44,4]])\n",
    "print(abc.ndim)"
   ]
  },
  {
   "cell_type": "raw",
   "id": "5ae28f28-618b-4445-94a5-96ed5be210e0",
   "metadata": {},
   "source": [
    "Evaluating tensors \n",
    " evaluating tensors or get its value.since tensors represent a partially complete computation we will sometime need to run whats called a session to evaluate the tensor"
   ]
  },
  {
   "cell_type": "code",
   "execution_count": 33,
   "id": "2a16a96c-bb0e-4c57-b95f-d0f72e87a0f8",
   "metadata": {},
   "outputs": [
    {
     "ename": "AttributeError",
     "evalue": "module 'tensorflow' has no attribute 'Session'",
     "output_type": "error",
     "traceback": [
      "\u001b[1;31m---------------------------------------------------------------------------\u001b[0m",
      "\u001b[1;31mAttributeError\u001b[0m                            Traceback (most recent call last)",
      "Cell \u001b[1;32mIn[33], line 2\u001b[0m\n\u001b[0;32m      1\u001b[0m tensor\u001b[38;5;241m=\u001b[39mtf\u001b[38;5;241m.\u001b[39mones([\u001b[38;5;241m1\u001b[39m,\u001b[38;5;241m2\u001b[39m,\u001b[38;5;241m3\u001b[39m])\n\u001b[1;32m----> 2\u001b[0m \u001b[38;5;28;01mwith\u001b[39;00m tf\u001b[38;5;241m.\u001b[39mSession() \u001b[38;5;28;01mas\u001b[39;00m sess:\n\u001b[0;32m      3\u001b[0m     tensor\u001b[38;5;241m.\u001b[39meval()\n",
      "\u001b[1;31mAttributeError\u001b[0m: module 'tensorflow' has no attribute 'Session'"
     ]
    }
   ],
   "source": [
    "tensor=tf.ones([1,2,3])\n",
    "with tf.Session() as sess:\n",
    "    tensor.eval()"
   ]
  },
  {
   "cell_type": "code",
   "execution_count": 35,
   "id": "875f6ecb-804a-4135-84b9-6f6a4ee143e2",
   "metadata": {},
   "outputs": [],
   "source": [
    "#session is not using in tensorflow 2.0 "
   ]
  },
  {
   "cell_type": "code",
   "execution_count": null,
   "id": "badbf117-e3f4-4037-9ed6-7582c22a4a4d",
   "metadata": {},
   "outputs": [],
   "source": []
  }
 ],
 "metadata": {
  "kernelspec": {
   "display_name": "Python 3 (ipykernel)",
   "language": "python",
   "name": "python3"
  },
  "language_info": {
   "codemirror_mode": {
    "name": "ipython",
    "version": 3
   },
   "file_extension": ".py",
   "mimetype": "text/x-python",
   "name": "python",
   "nbconvert_exporter": "python",
   "pygments_lexer": "ipython3",
   "version": "3.12.4"
  }
 },
 "nbformat": 4,
 "nbformat_minor": 5
}
