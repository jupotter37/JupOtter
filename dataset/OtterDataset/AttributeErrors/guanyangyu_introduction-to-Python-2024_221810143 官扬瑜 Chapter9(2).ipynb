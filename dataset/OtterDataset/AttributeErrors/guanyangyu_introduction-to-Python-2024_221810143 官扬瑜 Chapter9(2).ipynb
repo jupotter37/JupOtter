{
 "cells": [
  {
   "cell_type": "markdown",
   "id": "c0485893-c62d-4ce5-a30e-926696626ea0",
   "metadata": {},
   "source": [
    "# 第9章 类"
   ]
  },
  {
   "cell_type": "markdown",
   "id": "a883b89d-6739-45f3-937e-6ea49d80770e",
   "metadata": {},
   "source": [
    "## 9.1 创建和使用类"
   ]
  },
  {
   "cell_type": "markdown",
   "id": "fc470883-3e64-4acb-a8d7-37e455a5737f",
   "metadata": {},
   "source": [
    "### 9.1.1 创建dog类"
   ]
  },
  {
   "cell_type": "code",
   "execution_count": 1,
   "id": "1f412e75-bc77-41c6-82cc-0743efb0d03c",
   "metadata": {},
   "outputs": [],
   "source": [
    "class Dog:\n",
    "    \"\"\"一次模拟小狗的简单尝试\"\"\"\n",
    "    def __init__(self,name,age):\n",
    "        \"\"\"初始化属性name和age\"\"\"\n",
    "        self.name=name\n",
    "        self.age=age\n",
    "\n",
    "    def sit(self):\n",
    "        \"\"\"模拟小狗收到命令时坐下\"\"\"\n",
    "        print(f\"{self.name} is now sitting.\")\n",
    "\n",
    "    def roll_over(self):\n",
    "        \"\"\"模拟小狗收到命令时打滚\"\"\"\n",
    "        print(f\"{self.name} rolled over!\")"
   ]
  },
  {
   "cell_type": "markdown",
   "id": "2c2dc42d-adec-40a7-bf2b-4ef63278ef41",
   "metadata": {},
   "source": [
    "### 9.1.2 根据类创建实例"
   ]
  },
  {
   "cell_type": "code",
   "execution_count": 6,
   "id": "842e3efa-39e2-48aa-9871-b1ba8337cb6d",
   "metadata": {},
   "outputs": [
    {
     "name": "stdout",
     "output_type": "stream",
     "text": [
      "My dog's name is Willie.\n",
      "My dog is 6 years old.\n"
     ]
    }
   ],
   "source": [
    "class Dog:\n",
    "    \"\"\"一次模拟小狗的简单尝试\"\"\"\n",
    "    def __init__(self,name,age):\n",
    "        \"\"\"初始化属性name和age\"\"\"\n",
    "        self.name=name\n",
    "        self.age=age\n",
    "\n",
    "    def sit(self):\n",
    "        \"\"\"模拟小狗收到命令时坐下\"\"\"\n",
    "        print(f\"{self.name} is now sitting.\")\n",
    "\n",
    "    def roll_over(self):\n",
    "        \"\"\"模拟小狗收到命令时打滚\"\"\"\n",
    "        print(f\"{self.name} rolled over!\")\n",
    "\n",
    "my_dog=Dog('Willie',6)\n",
    "print(f\"My dog's name is {my_dog.name}.\")\n",
    "print(f\"My dog is {my_dog.age} years old.\")\n",
    "\n"
   ]
  },
  {
   "cell_type": "markdown",
   "id": "8cfdcef3-e11b-4d43-9568-78b64ad09db7",
   "metadata": {},
   "source": [
    "1.访问属性"
   ]
  },
  {
   "cell_type": "code",
   "execution_count": 12,
   "id": "84e5efb5-b2fe-4820-bed5-3e3c34ed2262",
   "metadata": {},
   "outputs": [
    {
     "data": {
      "text/plain": [
       "'Willie'"
      ]
     },
     "execution_count": 12,
     "metadata": {},
     "output_type": "execute_result"
    }
   ],
   "source": [
    "my_dog.name\n"
   ]
  },
  {
   "cell_type": "code",
   "execution_count": 13,
   "id": "4e5cdfed-5375-4724-b420-1f29fad50e7f",
   "metadata": {},
   "outputs": [
    {
     "data": {
      "text/plain": [
       "6"
      ]
     },
     "execution_count": 13,
     "metadata": {},
     "output_type": "execute_result"
    }
   ],
   "source": [
    "my_dog.age"
   ]
  },
  {
   "cell_type": "code",
   "execution_count": 7,
   "id": "5e96f1f5-d7ce-42d9-9cbf-65f8ded294f0",
   "metadata": {},
   "outputs": [
    {
     "data": {
      "text/plain": [
       "<__main__.Dog at 0x1e8e5059850>"
      ]
     },
     "execution_count": 7,
     "metadata": {},
     "output_type": "execute_result"
    }
   ],
   "source": [
    "my_dog"
   ]
  },
  {
   "cell_type": "markdown",
   "id": "7f7a6c05-e158-4c65-818f-06fa5e4d994e",
   "metadata": {},
   "source": [
    "2.调用方法"
   ]
  },
  {
   "cell_type": "code",
   "execution_count": 9,
   "id": "3f6bd60c-75b3-470c-97c1-0bf23a48c5a6",
   "metadata": {},
   "outputs": [
    {
     "name": "stdout",
     "output_type": "stream",
     "text": [
      "Willie is now sitting.\n",
      "Willie rolled over!\n"
     ]
    }
   ],
   "source": [
    "my_dog.sit()\n",
    "my_dog.roll_over()"
   ]
  },
  {
   "cell_type": "markdown",
   "id": "7753c71e-4174-458f-93d3-a295d2700bc6",
   "metadata": {},
   "source": [
    "3.创建多个实例"
   ]
  },
  {
   "cell_type": "code",
   "execution_count": 3,
   "id": "9d6335b6-f29c-495d-9c23-be45842cfbff",
   "metadata": {},
   "outputs": [
    {
     "name": "stdout",
     "output_type": "stream",
     "text": [
      "My dog's name is willie.\n",
      "My dog is 6 years old.\n",
      "willie is now sitting.\n",
      "\n",
      " Your dog's name is Lucy.\n",
      "Your dog is 3 years old.\n",
      "Lucy is now sitting.\n"
     ]
    }
   ],
   "source": [
    "class Dog:\n",
    "    \"\"\"一次模拟小狗的简单尝试\"\"\"\n",
    "    def __init__(self,name,age):\n",
    "        \"\"\"初始化属性name和age\"\"\"\n",
    "        self.name=name\n",
    "        self.age=age\n",
    "\n",
    "    def sit(self):\n",
    "        \"\"\"模拟小狗收到命令时坐下\"\"\"\n",
    "        print(f\"{self.name} is now sitting.\")\n",
    "\n",
    "    def roll_over(self):\n",
    "        \"\"\"模拟小狗收到命令时打滚\"\"\"\n",
    "        print(f\"{self.name} rolled over!\")\n",
    "\n",
    "my_dog=Dog('willie',6)\n",
    "your_dog=Dog('Lucy',3)\n",
    "\n",
    "print(f\"My dog's name is {my_dog.name}.\")\n",
    "print(f\"My dog is {my_dog.age} years old.\")\n",
    "my_dog.sit()\n",
    "\n",
    "print(f\"\\n Your dog's name is {your_dog.name}.\")\n",
    "print(f\"Your dog is {your_dog.age} years old.\")\n",
    "your_dog.sit()"
   ]
  },
  {
   "cell_type": "markdown",
   "id": "be044f93-c58d-41f4-8546-b94aad02e563",
   "metadata": {},
   "source": [
    "## 9.2 使用类和实例"
   ]
  },
  {
   "cell_type": "markdown",
   "id": "17129618-bdbb-4ded-bc5f-655dedf4d33c",
   "metadata": {},
   "source": [
    "### 9.2.1 Car类"
   ]
  },
  {
   "cell_type": "code",
   "execution_count": 7,
   "id": "6c2045e4-d1b7-41b4-bf7e-a3497f12bf18",
   "metadata": {},
   "outputs": [
    {
     "name": "stdout",
     "output_type": "stream",
     "text": [
      "2024Audia4\n"
     ]
    }
   ],
   "source": [
    "class Car:\n",
    "    \"\"\"一次模拟汽车的简单尝试\"\"\"\n",
    "    def __init__(self,make,model,year):\n",
    "        \"\"\"初始化描述汽车的属性\"\"\"\n",
    "        self.make=make\n",
    "        self.model=model\n",
    "        self.year=year\n",
    "\n",
    "    def get_descriptive_name(self):\n",
    "        \"\"\"返回标准化的格式信息\"\"\"\n",
    "        long_name=f\"{self.year}{self.make}{self.model}\"\n",
    "        return long_name.title()\n",
    "\n",
    "my_new_car = Car('audi','a4','2024')\n",
    "print(my_new_car.get_descriptive_name())"
   ]
  },
  {
   "cell_type": "markdown",
   "id": "adbc2496-02d7-4c8b-80e1-8f830f944b69",
   "metadata": {},
   "source": [
    "### 9.2.2 给属性指定默认值"
   ]
  },
  {
   "cell_type": "code",
   "execution_count": 10,
   "id": "25a60a93-c63a-49f0-9da9-a38e538f7389",
   "metadata": {},
   "outputs": [
    {
     "name": "stdout",
     "output_type": "stream",
     "text": [
      "2024Audia4\n",
      "This car has 0 miles on it.\n"
     ]
    }
   ],
   "source": [
    "class Car:\n",
    "    \"\"\"一次模拟汽车的简单尝试\"\"\"\n",
    "    def __init__(self,make,model,year):\n",
    "        \"\"\"初始化描述汽车的属性\"\"\"\n",
    "        self.make=make\n",
    "        self.model=model\n",
    "        self.year=year\n",
    "        self.odometer_reading=0\n",
    "\n",
    "    def get_descriptive_name(self):\n",
    "        \"\"\"返回标准化的格式信息\"\"\"\n",
    "        long_name=f\"{self.year}{self.make}{self.model}\"\n",
    "        return long_name.title()\n",
    "\n",
    "    def read_odometer(self):\n",
    "        \"\"\"打印一条指出汽车行驶里程的消息\"\"\"\n",
    "        print(f\"This car has {self.odometer_reading} miles on it.\")\n",
    "\n",
    "my_new_car = Car('audi','a4','2024')\n",
    "print(my_new_car.get_descriptive_name())\n",
    "my_new_car.read_odometer()"
   ]
  },
  {
   "cell_type": "markdown",
   "id": "10ade443-4b67-4305-b5c2-d46b441df8d6",
   "metadata": {},
   "source": [
    "### 9.2.3 修改属性的值"
   ]
  },
  {
   "cell_type": "markdown",
   "id": "86f92d8c-a8f4-4edb-9039-3262e51f30a3",
   "metadata": {},
   "source": [
    "1.直接修改属性的值"
   ]
  },
  {
   "cell_type": "code",
   "execution_count": 11,
   "id": "4a04227e-a558-45c6-8dcf-2ce47ea7d6d0",
   "metadata": {},
   "outputs": [
    {
     "name": "stdout",
     "output_type": "stream",
     "text": [
      "2024Audia4\n",
      "This car has 24 miles on it.\n"
     ]
    }
   ],
   "source": [
    "class Car:\n",
    "    \"\"\"一次模拟汽车的简单尝试\"\"\"\n",
    "    def __init__(self,make,model,year):\n",
    "        \"\"\"初始化描述汽车的属性\"\"\"\n",
    "        self.make=make\n",
    "        self.model=model\n",
    "        self.year=year\n",
    "        self.odometer_reading=0\n",
    "\n",
    "    def get_descriptive_name(self):\n",
    "        \"\"\"返回标准化的格式信息\"\"\"\n",
    "        long_name=f\"{self.year}{self.make}{self.model}\"\n",
    "        return long_name.title()\n",
    "\n",
    "    def read_odometer(self):\n",
    "        \"\"\"打印一条指出汽车行驶里程的消息\"\"\"\n",
    "        print(f\"This car has {self.odometer_reading} miles on it.\")\n",
    "\n",
    "my_new_car = Car('audi','a4','2024')\n",
    "my_new_car.odometer_reading=24\n",
    "print(my_new_car.get_descriptive_name())\n",
    "my_new_car.read_odometer()"
   ]
  },
  {
   "cell_type": "markdown",
   "id": "d042e85a-b8c5-4284-b85c-e3ad5993c702",
   "metadata": {},
   "source": [
    "2.通过方法修改属性的值 "
   ]
  },
  {
   "cell_type": "code",
   "execution_count": 13,
   "id": "9f84add1-c43d-4ee2-95c9-f539d8862110",
   "metadata": {},
   "outputs": [
    {
     "name": "stdout",
     "output_type": "stream",
     "text": [
      "2024Audia4\n",
      "This car has 23 miles on it.\n"
     ]
    }
   ],
   "source": [
    "class Car:\n",
    "    \"\"\"一次模拟汽车的简单尝试\"\"\"\n",
    "    def __init__(self,make,model,year):\n",
    "        \"\"\"初始化描述汽车的属性\"\"\"\n",
    "        self.make=make\n",
    "        self.model=model\n",
    "        self.year=year\n",
    "        self.odometer_reading=0\n",
    "\n",
    "    def get_descriptive_name(self):\n",
    "        \"\"\"返回标准化的格式信息\"\"\"\n",
    "        long_name=f\"{self.year}{self.make}{self.model}\"\n",
    "        return long_name.title()\n",
    "\n",
    "    def read_odometer(self):\n",
    "        \"\"\"打印一条指出汽车行驶里程的消息\"\"\"\n",
    "        print(f\"This car has {self.odometer_reading} miles on it.\")\n",
    "\n",
    "    def update_odometer(self,mileage):\n",
    "        \"\"\"将里程表读书设置成指定的值\"\"\"\n",
    "        self.odometer_reading=mileage\n",
    "\n",
    "my_new_car = Car('audi','a4','2024')\n",
    "print(my_new_car.get_descriptive_name())\n",
    "\n",
    "my_new_car.update_odometer(23)\n",
    "my_new_car.read_odometer()"
   ]
  },
  {
   "cell_type": "code",
   "execution_count": 14,
   "id": "407c1b19-c98e-4d35-999b-c4c7ff3a7f9b",
   "metadata": {},
   "outputs": [
    {
     "name": "stdout",
     "output_type": "stream",
     "text": [
      "2024Audia4\n",
      "This car has 23 miles on it.\n"
     ]
    }
   ],
   "source": [
    "#还可以对update_odometer方法进行扩展，使其在修改里程表读数时做些额外的工作\n",
    "class Car:\n",
    "    \"\"\"一次模拟汽车的简单尝试\"\"\"\n",
    "    def __init__(self,make,model,year):\n",
    "        \"\"\"初始化描述汽车的属性\"\"\"\n",
    "        self.make=make\n",
    "        self.model=model\n",
    "        self.year=year\n",
    "        self.odometer_reading=0\n",
    "\n",
    "    def get_descriptive_name(self):\n",
    "        \"\"\"返回标准化的格式信息\"\"\"\n",
    "        long_name=f\"{self.year}{self.make}{self.model}\"\n",
    "        return long_name.title()\n",
    "\n",
    "    def read_odometer(self):\n",
    "        \"\"\"打印一条指出汽车行驶里程的消息\"\"\"\n",
    "        print(f\"This car has {self.odometer_reading} miles on it.\")\n",
    "\n",
    "    def update_odometer(self,mileage):\n",
    "        \"\"\"将里程表读书设置成指定的值\"\"\"\n",
    "        \"\"\"禁止将里程表读书往回调\"\"\"\n",
    "        if mileage>=self.odometer_reading:\n",
    "            self.odometer_reading=mileage\n",
    "\n",
    "        else:\n",
    "            print(\"You can't roll back an odometer.\")\n",
    "\n",
    "\n",
    "my_new_car = Car('audi','a4','2024')\n",
    "print(my_new_car.get_descriptive_name())\n",
    "\n",
    "my_new_car.update_odometer(23)\n",
    "my_new_car.read_odometer()"
   ]
  },
  {
   "cell_type": "markdown",
   "id": "80e7da4b-bde8-4428-9825-431f7c58a430",
   "metadata": {},
   "source": [
    "3.通过方法让属性的值递增"
   ]
  },
  {
   "cell_type": "code",
   "execution_count": 16,
   "id": "405b3dc6-0ca0-4f84-adf8-25efcad2a134",
   "metadata": {},
   "outputs": [
    {
     "name": "stdout",
     "output_type": "stream",
     "text": [
      "2019Subaruoutback\n",
      "This car has 23500 miles on it.\n",
      "This car has 23600 miles on it.\n"
     ]
    }
   ],
   "source": [
    "class Car:\n",
    "    \"\"\"一次模拟汽车的简单尝试\"\"\"\n",
    "    def __init__(self,make,model,year):\n",
    "        \"\"\"初始化描述汽车的属性\"\"\"\n",
    "        self.make=make\n",
    "        self.model=model\n",
    "        self.year=year\n",
    "        self.odometer_reading=0\n",
    "\n",
    "    def get_descriptive_name(self):\n",
    "        \"\"\"返回标准化的格式信息\"\"\"\n",
    "        long_name=f\"{self.year}{self.make}{self.model}\"\n",
    "        return long_name.title()\n",
    "\n",
    "    def read_odometer(self):\n",
    "        \"\"\"打印一条指出汽车行驶里程的消息\"\"\"\n",
    "        print(f\"This car has {self.odometer_reading} miles on it.\")\n",
    "\n",
    "    def update_odometer(self,mileage):\n",
    "        \"\"\"将里程表读书设置成指定的值\"\"\"\n",
    "        \"\"\"禁止将里程表读书往回调\"\"\"\n",
    "        if mileage>=self.odometer_reading:\n",
    "            self.odometer_reading=mileage\n",
    "\n",
    "        else:\n",
    "            print(\"You can't roll back an odometer.\")\n",
    "\n",
    "    def increment_odometer(self,miles):\n",
    "        \"\"\"让里程表读数增加指定的量\"\"\"\n",
    "        self.odometer_reading+=miles\n",
    "\n",
    "my_used_car=Car('subaru','outback',2019)\n",
    "print(my_used_car.get_descriptive_name())\n",
    "\n",
    "my_used_car.update_odometer(23_500)\n",
    "my_used_car.read_odometer()\n",
    "\n",
    "my_used_car.increment_odometer(100)\n",
    "my_used_car.read_odometer()"
   ]
  },
  {
   "cell_type": "markdown",
   "id": "6dab3040-d39b-45f5-b14f-43c72e3e28b7",
   "metadata": {},
   "source": [
    "## 9.3 继承"
   ]
  },
  {
   "cell_type": "code",
   "execution_count": 17,
   "id": "a2fc4b8e-0780-4210-ab90-2af64397ffbd",
   "metadata": {},
   "outputs": [],
   "source": [
    "#如果要编写的类是一个既有的类的特殊版本，可使用继承"
   ]
  },
  {
   "cell_type": "markdown",
   "id": "b7ac24d5-f7d1-407f-9a0d-e6653b40e349",
   "metadata": {},
   "source": [
    "### 9.3.1 子类的__init__()方法"
   ]
  },
  {
   "cell_type": "code",
   "execution_count": 19,
   "id": "ca6efae7-3b05-454f-b149-5dd0c67dcf30",
   "metadata": {},
   "outputs": [
    {
     "name": "stdout",
     "output_type": "stream",
     "text": [
      "2024Nissanleaf\n"
     ]
    }
   ],
   "source": [
    "class Car:\n",
    "    \"\"\"一次模拟汽车的简单尝试\"\"\"\n",
    "    def __init__(self,make,model,year):\n",
    "        \"\"\"初始化描述汽车的属性\"\"\"\n",
    "        self.make=make\n",
    "        self.model=model\n",
    "        self.year=year\n",
    "        self.odometer_reading=0\n",
    "\n",
    "    def get_descriptive_name(self):\n",
    "        \"\"\"返回标准化的格式信息\"\"\"\n",
    "        long_name=f\"{self.year}{self.make}{self.model}\"\n",
    "        return long_name.title()\n",
    "\n",
    "    def read_odometer(self):\n",
    "        \"\"\"打印一条指出汽车行驶里程的消息\"\"\"\n",
    "        print(f\"This car has {self.odometer_reading} miles on it.\")\n",
    "\n",
    "    def update_odometer(self,mileage):\n",
    "        \"\"\"将里程表读书设置成指定的值\"\"\"\n",
    "        \"\"\"禁止将里程表读书往回调\"\"\"\n",
    "        if mileage>=self.odometer_reading:\n",
    "            self.odometer_reading=mileage\n",
    "\n",
    "        else:\n",
    "            print(\"You can't roll back an odometer.\")\n",
    "\n",
    "    def increment_odometer(self,miles):\n",
    "        \"\"\"让里程表读数增加指定的量\"\"\"\n",
    "        self.odometer_reading+=miles\n",
    "\n",
    "\n",
    "class ElectricCar(Car):\n",
    "    \"\"\"电动汽车的独特之处\"\"\"\n",
    "\n",
    "    def __init__(self,make,model,year):\n",
    "        \"\"\"初始化父类的属性\"\"\"\n",
    "        super().__init__(make,model,year)   #super是一个特殊的函数，让我们能够调用父类的方法\n",
    "\n",
    "my_leaf=ElectricCar('nissan','leaf',2024)\n",
    "print(my_leaf.get_descriptive_name())"
   ]
  },
  {
   "cell_type": "markdown",
   "id": "ee9b9e68-e79e-4212-a74b-1b4bac9eadcb",
   "metadata": {},
   "source": [
    "### 9.3.2 给子类定义属性和方法"
   ]
  },
  {
   "cell_type": "code",
   "execution_count": 22,
   "id": "39cdd345-5c48-46fc-bb8a-41ba3d74b647",
   "metadata": {},
   "outputs": [
    {
     "name": "stdout",
     "output_type": "stream",
     "text": [
      "2024Nissanleaf\n",
      "This car has a 40-KWh battery.\n"
     ]
    }
   ],
   "source": [
    "class Car:\n",
    "    \"\"\"一次模拟汽车的简单尝试\"\"\"\n",
    "    def __init__(self,make,model,year):\n",
    "        \"\"\"初始化描述汽车的属性\"\"\"\n",
    "        self.make=make\n",
    "        self.model=model\n",
    "        self.year=year\n",
    "        self.odometer_reading=0\n",
    "\n",
    "    def get_descriptive_name(self):\n",
    "        \"\"\"返回标准化的格式信息\"\"\"\n",
    "        long_name=f\"{self.year}{self.make}{self.model}\"\n",
    "        return long_name.title()\n",
    "\n",
    "    def read_odometer(self):\n",
    "        \"\"\"打印一条指出汽车行驶里程的消息\"\"\"\n",
    "        print(f\"This car has {self.odometer_reading} miles on it.\")\n",
    "\n",
    "    def update_odometer(self,mileage):\n",
    "        \"\"\"将里程表读书设置成指定的值\"\"\"\n",
    "        \"\"\"禁止将里程表读书往回调\"\"\"\n",
    "        if mileage>=self.odometer_reading:\n",
    "            self.odometer_reading=mileage\n",
    "\n",
    "        else:\n",
    "            print(\"You can't roll back an odometer.\")\n",
    "\n",
    "    def increment_odometer(self,miles):\n",
    "        \"\"\"让里程表读数增加指定的量\"\"\"\n",
    "        self.odometer_reading+=miles\n",
    "\n",
    "\n",
    "class ElectricCar(Car):\n",
    "    \"\"\"电动汽车的独特之处\"\"\"\n",
    "\n",
    "    def __init__(self,make,model,year):\n",
    "        \"\"\"先初始化父类的属性，再初始化电动汽车特有的属性\"\"\"\n",
    "        super().__init__(make,model,year)\n",
    "        self.battery_size=40  #添加了新属性，并设置了初始值为40：根据ElectricCar类创建的所有实例都将包含这个属性\n",
    "\n",
    "    def describe_battery(self):\n",
    "        \"\"\"打印一条描述电池容量的消息\"\"\"\n",
    "        print(f\"This car has a {self.battery_size}-KWh battery.\")\n",
    "\n",
    "my_leaf=ElectricCar('nissan','leaf',2024)\n",
    "print(my_leaf.get_descriptive_name())\n",
    "my_leaf.describe_battery()"
   ]
  },
  {
   "cell_type": "markdown",
   "id": "f75497ab-23b8-4d02-8de2-8ce1d2590f3d",
   "metadata": {},
   "source": [
    "### 9.3.3 重写父类中的方法"
   ]
  },
  {
   "cell_type": "markdown",
   "id": "53158015-eeaf-4b27-afc0-b62444157757",
   "metadata": {},
   "source": [
    "### 9.3.4 将实例用作属性"
   ]
  },
  {
   "cell_type": "code",
   "execution_count": 24,
   "id": "25dbba7d-adb6-4045-967c-bc90f094dad8",
   "metadata": {},
   "outputs": [
    {
     "name": "stdout",
     "output_type": "stream",
     "text": [
      "2024Nissanleaf\n",
      "This car has a 40-KWh battery.\n"
     ]
    }
   ],
   "source": [
    "class Car:\n",
    "    \"\"\"一次模拟汽车的简单尝试\"\"\"\n",
    "    def __init__(self,make,model,year):\n",
    "        \"\"\"初始化描述汽车的属性\"\"\"\n",
    "        self.make=make\n",
    "        self.model=model\n",
    "        self.year=year\n",
    "        self.odometer_reading=0\n",
    "\n",
    "    def get_descriptive_name(self):\n",
    "        \"\"\"返回标准化的格式信息\"\"\"\n",
    "        long_name=f\"{self.year}{self.make}{self.model}\"\n",
    "        return long_name.title()\n",
    "\n",
    "    def read_odometer(self):\n",
    "        \"\"\"打印一条指出汽车行驶里程的消息\"\"\"\n",
    "        print(f\"This car has {self.odometer_reading} miles on it.\")\n",
    "\n",
    "    def update_odometer(self,mileage):\n",
    "        \"\"\"将里程表读书设置成指定的值\"\"\"\n",
    "        \"\"\"禁止将里程表读书往回调\"\"\"\n",
    "        if mileage>=self.odometer_reading:\n",
    "            self.odometer_reading=mileage\n",
    "\n",
    "        else:\n",
    "            print(\"You can't roll back an odometer.\")\n",
    "\n",
    "    def increment_odometer(self,miles):\n",
    "        \"\"\"让里程表读数增加指定的量\"\"\"\n",
    "        self.odometer_reading+=miles\n",
    "\n",
    "\n",
    "class Battery:\n",
    "    \"\"\"一次模拟电动汽车电池的简单尝试\"\"\"\n",
    "    def __init__(self,battery_size=40):\n",
    "        \"\"\"初始化电池的属性\"\"\"\n",
    "        self.battery_size=battery_size\n",
    "\n",
    "    def describe_battery(self):\n",
    "        \"\"\"打印一条描述电池容量的消息\"\"\"\n",
    "        print(f\"This car has a {self.battery_size}-KWh battery.\")\n",
    "\n",
    "\n",
    "class ElectricCar(Car):\n",
    "    \"\"\"电动汽车的独特之处\"\"\"\n",
    "\n",
    "    def __init__(self,make,model,year):\n",
    "        \"\"\"先初始化父类的属性，再初始化电动汽车特有的属性\"\"\"\n",
    "        super().__init__(make,model,year)\n",
    "        self.battery=Battery()\n",
    "\n",
    "    def describe_battery(self):\n",
    "        \"\"\"打印一条描述电池容量的消息\"\"\"\n",
    "        print(f\"This car has a {self.battery_size}-KWh battery.\")\n",
    "\n",
    "my_leaf=ElectricCar('nissan','leaf',2024)\n",
    "print(my_leaf.get_descriptive_name())\n",
    "my_leaf.battery.describe_battery()"
   ]
  },
  {
   "cell_type": "code",
   "execution_count": 25,
   "id": "168a88c8-ad78-495f-9eb7-ddc759d323d6",
   "metadata": {},
   "outputs": [
    {
     "name": "stdout",
     "output_type": "stream",
     "text": [
      "2024Nissanleaf\n",
      "This car has a 40-KWh battery.\n",
      "This car an go about 150 miles on a full charge.\n"
     ]
    }
   ],
   "source": [
    "class Car:\n",
    "    \"\"\"一次模拟汽车的简单尝试\"\"\"\n",
    "    def __init__(self,make,model,year):\n",
    "        \"\"\"初始化描述汽车的属性\"\"\"\n",
    "        self.make=make\n",
    "        self.model=model\n",
    "        self.year=year\n",
    "        self.odometer_reading=0\n",
    "\n",
    "    def get_descriptive_name(self):\n",
    "        \"\"\"返回标准化的格式信息\"\"\"\n",
    "        long_name=f\"{self.year}{self.make}{self.model}\"\n",
    "        return long_name.title()\n",
    "\n",
    "    def read_odometer(self):\n",
    "        \"\"\"打印一条指出汽车行驶里程的消息\"\"\"\n",
    "        print(f\"This car has {self.odometer_reading} miles on it.\")\n",
    "\n",
    "    def update_odometer(self,mileage):\n",
    "        \"\"\"将里程表读书设置成指定的值\"\"\"\n",
    "        \"\"\"禁止将里程表读书往回调\"\"\"\n",
    "        if mileage>=self.odometer_reading:\n",
    "            self.odometer_reading=mileage\n",
    "\n",
    "        else:\n",
    "            print(\"You can't roll back an odometer.\")\n",
    "\n",
    "    def increment_odometer(self,miles):\n",
    "        \"\"\"让里程表读数增加指定的量\"\"\"\n",
    "        self.odometer_reading+=miles\n",
    "\n",
    "\n",
    "class Battery:\n",
    "    \"\"\"一次模拟电动汽车电池的简单尝试\"\"\"\n",
    "    def __init__(self,battery_size=40):\n",
    "        \"\"\"初始化电池的属性\"\"\"\n",
    "        self.battery_size=battery_size\n",
    "\n",
    "    def describe_battery(self):\n",
    "        \"\"\"打印一条描述电池容量的消息\"\"\"\n",
    "        print(f\"This car has a {self.battery_size}-KWh battery.\")\n",
    "\n",
    "    def get_range(self):\n",
    "        \"\"\"打印一条消息，指出电池的续航历程\"\"\"\n",
    "        if self.battery_size==40:\n",
    "            range=150\n",
    "        elif self.battry_size==65:\n",
    "            range=225\n",
    "        print(f\"This car an go about {range} miles on a full charge.\")\n",
    "\n",
    "\n",
    "class ElectricCar(Car):\n",
    "    \"\"\"电动汽车的独特之处\"\"\"\n",
    "\n",
    "    def __init__(self,make,model,year):\n",
    "        \"\"\"先初始化父类的属性，再初始化电动汽车特有的属性\"\"\"\n",
    "        super().__init__(make,model,year)\n",
    "        self.battery=Battery()\n",
    "\n",
    "    def describe_battery(self):\n",
    "        \"\"\"打印一条描述电池容量的消息\"\"\"\n",
    "        print(f\"This car has a {self.battery_size}-KWh battery.\")\n",
    "\n",
    "my_leaf=ElectricCar('nissan','leaf',2024)\n",
    "print(my_leaf.get_descriptive_name())\n",
    "my_leaf.battery.describe_battery()\n",
    "my_leaf.battery.get_range()"
   ]
  },
  {
   "cell_type": "markdown",
   "id": "7212cd44-e2b9-49c2-b40d-93de166e68d6",
   "metadata": {},
   "source": [
    "## 9.4 导入类"
   ]
  },
  {
   "cell_type": "markdown",
   "id": "05cd06ac-e38b-4cb6-8c52-79cdae9937db",
   "metadata": {},
   "source": [
    "### 9.4.1 导入单个类"
   ]
  },
  {
   "cell_type": "code",
   "execution_count": 4,
   "id": "d7f2e4de-2c2b-4127-9c2f-dddfb5995d23",
   "metadata": {},
   "outputs": [
    {
     "name": "stdout",
     "output_type": "stream",
     "text": [
      "2024Audia4\n",
      "This car has 23 miles on it.\n"
     ]
    }
   ],
   "source": [
    "from car import Car\n",
    "\n",
    "my_new_car=Car('audi','a4','2024')\n",
    "print(my_new_car.get_descriptive_name())\n",
    "\n",
    "my_new_car.odometer_reading=23\n",
    "my_new_car.read_odometer()"
   ]
  },
  {
   "cell_type": "markdown",
   "id": "8dd932d5-1e4f-4d9d-bee4-e8b373a8be4f",
   "metadata": {},
   "source": [
    "### 9.4.2 在一个模块中存储多个类"
   ]
  },
  {
   "cell_type": "code",
   "execution_count": 5,
   "id": "e3f5c01b-61b2-4ee9-a375-60f821ff6c27",
   "metadata": {},
   "outputs": [
    {
     "name": "stdout",
     "output_type": "stream",
     "text": [
      "2024Audia4\n",
      "This car has 23 miles on it.\n"
     ]
    }
   ],
   "source": [
    "from car import Car\n",
    "\n",
    "my_new_car=Car('audi','a4','2024')\n",
    "print(my_new_car.get_descriptive_name())\n",
    "\n",
    "my_new_car.odometer_reading=23\n",
    "my_new_car.read_odometer()"
   ]
  },
  {
   "cell_type": "markdown",
   "id": "3b36b158-7540-42e8-8410-8085e8a7c77b",
   "metadata": {},
   "source": [
    "为什么能够正常调用Car,但调用不了ElectricCar?"
   ]
  },
  {
   "cell_type": "code",
   "execution_count": 7,
   "id": "daf0d858-f12c-4186-9479-3d20917f2593",
   "metadata": {},
   "outputs": [
    {
     "name": "stdout",
     "output_type": "stream",
     "text": [
      "2024Nissanleaf\n",
      "This car an go about 150 miles on a full charge.\n"
     ]
    }
   ],
   "source": [
    "from car import ElectricCar\n",
    "\n",
    "my_leaf=ElectricCar('nissan','leaf',2024)\n",
    "print(my_leaf.get_descriptive_name())\n",
    "\n",
    "my_leaf.battery.get_range()"
   ]
  },
  {
   "cell_type": "markdown",
   "id": "07f6387d-50f2-4da8-8cdc-2fe8b8e6836b",
   "metadata": {},
   "source": [
    "### 9.4.3 从一个模块中导入多个类"
   ]
  },
  {
   "cell_type": "code",
   "execution_count": 8,
   "id": "6148e501-3b02-4275-a2a3-d6a163ec8924",
   "metadata": {},
   "outputs": [
    {
     "name": "stdout",
     "output_type": "stream",
     "text": [
      "2024Fordmustang\n",
      "2024Nissanleaf\n"
     ]
    }
   ],
   "source": [
    "from car import Car\n",
    "\n",
    "my_mustang=Car('ford','mustang',2024)\n",
    "print(my_mustang.get_descriptive_name())\n",
    "\n",
    "print(my_leaf.get_descriptive_name())"
   ]
  },
  {
   "cell_type": "markdown",
   "id": "62791a87-bb22-4496-8a39-b3f9bbe0adee",
   "metadata": {},
   "source": [
    "### 9.4.4 导入整个模块"
   ]
  },
  {
   "cell_type": "code",
   "execution_count": 9,
   "id": "5e961ba5-49cf-42e3-b22a-d894ab81620b",
   "metadata": {},
   "outputs": [
    {
     "name": "stdout",
     "output_type": "stream",
     "text": [
      "2024Fordmustang\n",
      "2024Nissanleaf\n"
     ]
    }
   ],
   "source": [
    "import car\n",
    "\n",
    "my_mustang=car.Car('ford','mustang',2024)\n",
    "print(my_mustang.get_descriptive_name())\n",
    "\n",
    "my_leaf=car.ElectricCar('nissan','leaf',2024)\n",
    "print(my_leaf.get_descriptive_name())"
   ]
  },
  {
   "cell_type": "markdown",
   "id": "58156f5c-7fb9-4232-8de5-d289da280210",
   "metadata": {},
   "source": [
    "### 9.4.5 导入模块中的所有类"
   ]
  },
  {
   "cell_type": "code",
   "execution_count": null,
   "id": "335048ab-154e-4a0a-9c67-9bc992462984",
   "metadata": {},
   "outputs": [],
   "source": [
    "from module_name import*"
   ]
  },
  {
   "cell_type": "markdown",
   "id": "ec1b7e15-d0a3-48e9-9715-1544f17a05d5",
   "metadata": {},
   "source": [
    "### 9.4.6 在一个模块中导入另一个模块"
   ]
  },
  {
   "cell_type": "markdown",
   "id": "d0ac329d-7d63-4629-a438-c02762096b98",
   "metadata": {},
   "source": [
    "### 9.4.7 使用别名"
   ]
  },
  {
   "cell_type": "markdown",
   "id": "229daffb-c53f-4401-a035-5713012540d0",
   "metadata": {},
   "source": [
    "## 9.5 Python标准库"
   ]
  },
  {
   "cell_type": "code",
   "execution_count": 14,
   "id": "bdcac27c-2299-476f-a930-20f29354d7e7",
   "metadata": {},
   "outputs": [
    {
     "data": {
      "text/plain": [
       "5"
      ]
     },
     "execution_count": 14,
     "metadata": {},
     "output_type": "execute_result"
    }
   ],
   "source": [
    "# randint()  ——将两个整数作为参数，并随机返回一个位于这两个整数之间（含）的整数\n",
    "from random import randint\n",
    "randint(1,6)"
   ]
  },
  {
   "cell_type": "code",
   "execution_count": 18,
   "id": "137c0e2c-0880-40b9-8583-1d2aa737efb5",
   "metadata": {},
   "outputs": [
    {
     "data": {
      "text/plain": [
       "'eli'"
      ]
     },
     "execution_count": 18,
     "metadata": {},
     "output_type": "execute_result"
    }
   ],
   "source": [
    "#在模块random中，另一个很有用的函数是choice，它将一个列表或元组作为参数，并随机返回其中的一个元素\n",
    "from random import choice\n",
    "players=['chaeles','martina','michael','florence','eli']\n",
    "first_up=choice(players)\n",
    "first_up\n"
   ]
  },
  {
   "cell_type": "markdown",
   "id": "def78898-fede-4006-a8f7-fb008265c910",
   "metadata": {},
   "source": [
    "# 课后练习——动手试一试"
   ]
  },
  {
   "cell_type": "markdown",
   "id": "aae22312-9395-4c59-94c0-658fe92acefa",
   "metadata": {},
   "source": [
    "## 练习9.1 ：餐馆"
   ]
  },
  {
   "cell_type": "code",
   "execution_count": 24,
   "id": "8eb0de6d-ee66-4581-a6dc-0860515ba459",
   "metadata": {},
   "outputs": [
    {
     "name": "stdout",
     "output_type": "stream",
     "text": [
      "Kfc\n",
      "chickens\n",
      "\n",
      "Kfc serves wonderful chickens..\n",
      "\n",
      "Kfc is open.\n"
     ]
    }
   ],
   "source": [
    "class Restaurant:\n",
    "    \"\"\"模拟餐馆\"\"\"\n",
    "    def __init__(self,name,cuisine_type):\n",
    "        \"\"\"初始化描述餐馆\"\"\"\n",
    "        self.name=name.title()\n",
    "        self.cuisine_type=cuisine_type\n",
    "\n",
    "    def describe_restaurant(self):\n",
    "        \"\"\"显示餐馆名字和菜谱\"\"\"\n",
    "        message=f\"{self.name} serves wonderful {self.cuisine_type}.\"\n",
    "        print(f\"\\n{message}.\")\n",
    "\n",
    "    def open_restaurant(self):\n",
    "        \"\"\"显示餐馆的营业情况\"\"\"\n",
    "        message=f\"{self.name} is open.\"\n",
    "        print(f\"\\n{message}\")\n",
    "\n",
    "restaurant=Restaurant('KFC','chickens')\n",
    "print(restaurant.name)\n",
    "print(restaurant.cuisine_type)\n",
    "\n",
    "restaurant.describe_restaurant()\n",
    "restaurant.open_restaurant()"
   ]
  },
  {
   "cell_type": "markdown",
   "id": "70c80a9c-b752-476a-b124-bb38f7e04473",
   "metadata": {},
   "source": [
    "## 练习9.2 ：三家餐馆"
   ]
  },
  {
   "cell_type": "code",
   "execution_count": 25,
   "id": "8821b9d2-33e9-4637-ab59-234ce1e6c54c",
   "metadata": {},
   "outputs": [
    {
     "name": "stdout",
     "output_type": "stream",
     "text": [
      "\n",
      "The Mean Queen serves wonderful pizza..\n",
      "\n",
      "Bistro serves wonderful seafood..\n",
      "\n",
      "Mango Thai serves wonderful thai food..\n"
     ]
    }
   ],
   "source": [
    "class Restaurant:\n",
    "    \"\"\"模拟餐馆\"\"\"\n",
    "    def __init__(self,name,cuisine_type):\n",
    "        \"\"\"初始化描述餐馆\"\"\"\n",
    "        self.name=name.title()\n",
    "        self.cuisine_type=cuisine_type\n",
    "\n",
    "    def describe_restaurant(self):\n",
    "        \"\"\"显示餐馆名字和菜谱\"\"\"\n",
    "        message=f\"{self.name} serves wonderful {self.cuisine_type}.\"\n",
    "        print(f\"\\n{message}.\")\n",
    "\n",
    "    def open_restaurant(self):\n",
    "        \"\"\"显示餐馆的营业情况\"\"\"\n",
    "        message=f\"{self.name} is open.\"\n",
    "        print(f\"\\n{message}\")\n",
    "\n",
    "mean_queen=Restaurant('the mean queen','pizza')\n",
    "mean_queen.describe_restaurant()\n",
    "\n",
    "ludvigs=Restaurant('bistro','seafood')\n",
    "ludvigs.describe_restaurant()\n",
    "\n",
    "mango_thai=Restaurant('mango thai','thai food')\n",
    "mango_thai.describe_restaurant()"
   ]
  },
  {
   "cell_type": "markdown",
   "id": "d32bf2f1-9265-4d0a-b1ab-0380adf83688",
   "metadata": {},
   "source": [
    "## 练习9.3 ： 用户"
   ]
  },
  {
   "cell_type": "code",
   "execution_count": 3,
   "id": "cb587fe0-2b83-4084-abd2-4aac1fffd11a",
   "metadata": {},
   "outputs": [
    {
     "name": "stdout",
     "output_type": "stream",
     "text": [
      "\n",
      "Eric Matthes\n",
      " Username:e_matthes\n",
      " Email:e_matthes@exanple.com\n",
      " Location:Alask\n",
      "\n",
      " Welcome back,e_matthes!\n",
      "\n",
      "Willie Burger\n",
      " Username:willieburger\n",
      " Email:wb@example.com\n",
      " Location:Alask\n",
      "\n",
      " Welcome back,willieburger!\n"
     ]
    }
   ],
   "source": [
    "class User:\n",
    "    \"\"\"一个表示用户的类\"\"\"\n",
    "\n",
    "    def __init__(self,first_name,last_name,username,email,location):\n",
    "        \"\"\"初始化用户\"\"\"\n",
    "        self.first_name=first_name.title()\n",
    "        self.last_name=last_name.title()\n",
    "        self.username=username\n",
    "        self.email=email\n",
    "        self.location=location.title()\n",
    "\n",
    "    def describe_user(self):\n",
    "        \"\"\"显示用户信息摘要\"\"\"\n",
    "        print(f\"\\n{self.first_name} {self.last_name}\")\n",
    "        print(f\" Username:{self.username}\")\n",
    "        print(f\" Email:{self.email}\")\n",
    "        print(f\" Location:{self.location}\")\n",
    "\n",
    "    def greet_user(self):\n",
    "        \"\"\"向用户发出个性化的问候\"\"\"\n",
    "        print(f\"\\n Welcome back,{self.username}!\")\n",
    "\n",
    "eric=User('eric','matthes','e_matthes','e_matthes@exanple.com','alask')\n",
    "eric.describe_user()\n",
    "eric.greet_user()\n",
    "\n",
    "willie=User('willie','burger','willieburger','wb@example.com','alask')\n",
    "willie.describe_user()\n",
    "willie.greet_user()"
   ]
  },
  {
   "cell_type": "markdown",
   "id": "51a83766-8c9f-4d9f-a04b-ec2ddc05aa67",
   "metadata": {},
   "source": [
    "## 练习9.4 ：就餐人数"
   ]
  },
  {
   "cell_type": "code",
   "execution_count": 5,
   "id": "82942898-2e49-4723-85f3-9e9f30087384",
   "metadata": {},
   "outputs": [
    {
     "name": "stdout",
     "output_type": "stream",
     "text": [
      "Kfc\n",
      "chickens\n",
      "\n",
      "Kfc serves wonderful chickens..\n",
      "\n",
      "Kfc is open.\n"
     ]
    }
   ],
   "source": [
    "class Restaurant:\n",
    "    \"\"\"模拟餐馆\"\"\"\n",
    "    def __init__(self,name,cuisine_type):\n",
    "        \"\"\"初始化描述餐馆\"\"\"\n",
    "        self.name=name.title()\n",
    "        self.cuisine_type=cuisine_type\n",
    "\n",
    "    def describe_restaurant(self):\n",
    "        \"\"\"显示餐馆名字和菜谱\"\"\"\n",
    "        message=f\"{self.name} serves wonderful {self.cuisine_type}.\"\n",
    "        print(f\"\\n{message}.\")\n",
    "\n",
    "    def open_restaurant(self):\n",
    "        \"\"\"显示餐馆的营业情况\"\"\"\n",
    "        message=f\"{self.name} is open.\"\n",
    "        print(f\"\\n{message}\")\n",
    "\n",
    "    def set_number_served(self,number_served):\n",
    "        \"\"\"让用户能够设置就餐人数\"\"\"\n",
    "        self.number_served=number_served\n",
    "\n",
    "    def increment_number_served(self,additional_served):\n",
    "        \"\"\"让用户能够增加就餐人数\"\"\"\n",
    "        self.number_served+=additional_served\n",
    "\n",
    "restaurant=Restaurant('KFC','chickens')\n",
    "\n",
    "print(restaurant.name)\n",
    "print(restaurant.cuisine_type)\n",
    "\n",
    "restaurant.describe_restaurant()\n",
    "restaurant.open_restaurant()"
   ]
  },
  {
   "cell_type": "markdown",
   "id": "82485695-60a0-4ee1-a966-dd85606a0313",
   "metadata": {},
   "source": [
    "## 练习9.5 尝试登录次数"
   ]
  },
  {
   "cell_type": "code",
   "execution_count": 8,
   "id": "3508f4f1-668c-4e4c-a688-2ff3c2823d0b",
   "metadata": {},
   "outputs": [
    {
     "name": "stdout",
     "output_type": "stream",
     "text": [
      "\n",
      "Eric Matthes\n",
      " Username:e_matthes\n",
      " Email:e_matthes@exanple.com\n",
      " Location:Alask\n",
      "\n",
      " Welcome back,e_matthes!\n",
      "\n",
      "Making 3 login attempts...\n"
     ]
    },
    {
     "ename": "AttributeError",
     "evalue": "'User' object has no attribute 'login_attempts'",
     "output_type": "error",
     "traceback": [
      "\u001b[1;31m---------------------------------------------------------------------------\u001b[0m",
      "\u001b[1;31mAttributeError\u001b[0m                            Traceback (most recent call last)",
      "Cell \u001b[1;32mIn[8], line 36\u001b[0m\n\u001b[0;32m     33\u001b[0m eric\u001b[38;5;241m.\u001b[39mgreet_user()\n\u001b[0;32m     35\u001b[0m \u001b[38;5;28mprint\u001b[39m(\u001b[38;5;124m\"\u001b[39m\u001b[38;5;130;01m\\n\u001b[39;00m\u001b[38;5;124mMaking 3 login attempts...\u001b[39m\u001b[38;5;124m\"\u001b[39m)\n\u001b[1;32m---> 36\u001b[0m eric\u001b[38;5;241m.\u001b[39mincrement_login_attempts()\n\u001b[0;32m     37\u001b[0m eric\u001b[38;5;241m.\u001b[39mincrement_login_attempts()\n\u001b[0;32m     38\u001b[0m eric\u001b[38;5;241m.\u001b[39mincrement_login_attempts()\n",
      "Cell \u001b[1;32mIn[8], line 25\u001b[0m, in \u001b[0;36mUser.increment_login_attempts\u001b[1;34m(self)\u001b[0m\n\u001b[0;32m     23\u001b[0m \u001b[38;5;28;01mdef\u001b[39;00m \u001b[38;5;21mincrement_login_attempts\u001b[39m(\u001b[38;5;28mself\u001b[39m):\n\u001b[0;32m     24\u001b[0m \u001b[38;5;250m    \u001b[39m\u001b[38;5;124;03m\"\"\"将属性 login_attemps 的值加1\"\"\"\u001b[39;00m\n\u001b[1;32m---> 25\u001b[0m     \u001b[38;5;28mself\u001b[39m\u001b[38;5;241m.\u001b[39mlogin_attempts\u001b[38;5;241m+\u001b[39m\u001b[38;5;241m=\u001b[39m\u001b[38;5;241m1\u001b[39m\n",
      "\u001b[1;31mAttributeError\u001b[0m: 'User' object has no attribute 'login_attempts'"
     ]
    }
   ],
   "source": [
    "class User:\n",
    "    \"\"\"一个表示用户的类\"\"\"\n",
    "\n",
    "    def __init__(self,first_name,last_name,username,email,location):\n",
    "        \"\"\"初始化用户\"\"\"\n",
    "        self.first_name=first_name.title()\n",
    "        self.last_name=last_name.title()\n",
    "        self.username=username\n",
    "        self.email=email\n",
    "        self.location=location.title()\n",
    "\n",
    "    def describe_user(self):\n",
    "        \"\"\"显示用户信息摘要\"\"\"\n",
    "        print(f\"\\n{self.first_name} {self.last_name}\")\n",
    "        print(f\" Username:{self.username}\")\n",
    "        print(f\" Email:{self.email}\")\n",
    "        print(f\" Location:{self.location}\")\n",
    "\n",
    "    def greet_user(self):\n",
    "        \"\"\"向用户发出个性化的问候\"\"\"\n",
    "        print(f\"\\n Welcome back,{self.username}!\")\n",
    "\n",
    "    def increment_login_attempts(self):\n",
    "        \"\"\"将属性 login_attemps 的值加1\"\"\"\n",
    "        self.login_attempts+=1\n",
    "\n",
    "    def reset_login_attempts(self):\n",
    "        \"\"\"将login_attempts重置为0\"\"\"\n",
    "        self.login_attemps=0\n",
    "\n",
    "eric=User('eric','matthes','e_matthes','e_matthes@exanple.com','alask')\n",
    "eric.describe_user()\n",
    "eric.greet_user()\n",
    "\n",
    "print(\"\\nMaking 3 login attempts...\")\n",
    "eric.increment_login_attempts()\n",
    "eric.increment_login_attempts()\n",
    "eric.increment_login_attempts()\n",
    "print(f\"Login attemps:{eric.login_attemps}\")\n",
    "\n",
    "willie=User('willie','burger','willieburger','wb@example.com','alask')\n",
    "willie.describe_user()\n",
    "willie.greet_user()"
   ]
  },
  {
   "cell_type": "markdown",
   "id": "cd62bc46-4abc-4177-bb1d-e4bbcc325579",
   "metadata": {},
   "source": [
    "## 练习9.6 冰淇淋小店"
   ]
  },
  {
   "cell_type": "code",
   "execution_count": 10,
   "id": "55bc2c3c-a5f0-4650-9f97-2540f2ac299e",
   "metadata": {},
   "outputs": [
    {
     "name": "stdout",
     "output_type": "stream",
     "text": [
      "\n",
      "The Big One serves wonderful ice cream..\n",
      "\n",
      "We have the following flavors available:\n",
      "-Vanilla\n",
      "-Chocolate\n",
      "-Black Cherry\n"
     ]
    }
   ],
   "source": [
    "class Restaurant:\n",
    "    \"\"\"模拟餐馆\"\"\"\n",
    "    def __init__(self,name,cuisine_type):\n",
    "        \"\"\"初始化描述餐馆\"\"\"\n",
    "        self.name=name.title()\n",
    "        self.cuisine_type=cuisine_type\n",
    "\n",
    "    def describe_restaurant(self):\n",
    "        \"\"\"显示餐馆名字和菜谱\"\"\"\n",
    "        message=f\"{self.name} serves wonderful {self.cuisine_type}.\"\n",
    "        print(f\"\\n{message}.\")\n",
    "\n",
    "    def open_restaurant(self):\n",
    "        \"\"\"显示餐馆的营业情况\"\"\"\n",
    "        message=f\"{self.name} is open.\"\n",
    "        print(f\"\\n{message}\")\n",
    "\n",
    "    def set_number_served(self,number_served):\n",
    "        \"\"\"让用户能够设置就餐人数\"\"\"\n",
    "        self.number_served=number_served\n",
    "\n",
    "    def increment_number_served(self,additional_served):\n",
    "        \"\"\"让用户能够增加就餐人数\"\"\"\n",
    "        self.number_served+=additional_served\n",
    "\n",
    "class IceCreamStand(Restaurant):\n",
    "    \"\"\"一个表示冰淇淋小店的类\"\"\"\n",
    "    def __init__(self,name,cuisine_type='ice cream'):\n",
    "        \"\"\"初始化冰淇淋小店\"\"\"\n",
    "        super().__init__(name,cuisine_type)\n",
    "        self.flavors=[]\n",
    "\n",
    "    def show_flavors(self):\n",
    "        \"\"\"显示出售的冰淇淋口味\"\"\"\n",
    "        print(\"\\nWe have the following flavors available:\")\n",
    "        for flavor in self.flavors:\n",
    "            print(f\"-{flavor.title()}\")\n",
    "\n",
    "big_one=IceCreamStand('The Big One')\n",
    "big_one.flavors=['vanilla','chocolate','black cherry']\n",
    "\n",
    "big_one.describe_restaurant()\n",
    "big_one.show_flavors()"
   ]
  },
  {
   "cell_type": "markdown",
   "id": "b4a740c3-79af-4c37-a81d-a2e915cbc659",
   "metadata": {},
   "source": [
    "## 练习9.7 管理员"
   ]
  },
  {
   "cell_type": "code",
   "execution_count": 1,
   "id": "54bc8afb-bbcb-4550-bfec-7e62375a468f",
   "metadata": {},
   "outputs": [
    {
     "name": "stdout",
     "output_type": "stream",
     "text": [
      "\n",
      "Eric Matthes\n",
      " Username:e_matthes\n",
      " Email:e_matthes@example.com\n",
      " Location:Alaska\n",
      "\n",
      "Privileges\n",
      "-can reset passwords\n",
      "-can moderate discussions\n",
      "-can suspend accounts\n"
     ]
    }
   ],
   "source": [
    "class User:\n",
    "    \"\"\"一个表示用户的类\"\"\"\n",
    "\n",
    "    def __init__(self,first_name,last_name,username,email,location):\n",
    "        \"\"\"初始化用户\"\"\"\n",
    "        self.first_name=first_name.title()\n",
    "        self.last_name=last_name.title()\n",
    "        self.username=username\n",
    "        self.email=email\n",
    "        self.location=location.title()\n",
    "\n",
    "    def describe_user(self):\n",
    "        \"\"\"显示用户信息摘要\"\"\"\n",
    "        print(f\"\\n{self.first_name} {self.last_name}\")\n",
    "        print(f\" Username:{self.username}\")\n",
    "        print(f\" Email:{self.email}\")\n",
    "        print(f\" Location:{self.location}\")\n",
    "\n",
    "    def greet_user(self):\n",
    "        \"\"\"向用户发出个性化的问候\"\"\"\n",
    "        print(f\"\\n Welcome back,{self.username}!\")\n",
    "\n",
    "    def increment_login_attempts(self):\n",
    "        \"\"\"将属性login_attempts的值加1\"\"\"\n",
    "        self.login_attemps+=1\n",
    "\n",
    "    def reset_login_attempts(self):\n",
    "        \"\"\"将login_attemps重置为0\"\"\"\n",
    "        self.login_attemps=0\n",
    "\n",
    "class Admin(User):\n",
    "    \"\"\"有管理权限的用户\"\"\"\n",
    "\n",
    "    def __init__(self,first_name,last_name,username,email,location):\n",
    "        \"\"\"初始化管理员\"\"\"\n",
    "        super().__init__(first_name,last_name,username,email,location)\n",
    "        self.privileges=[]\n",
    "\n",
    "    def show_privileges(self):\n",
    "        \"\"\"显示当前管理员的权限\"\"\"\n",
    "        print(\"\\nPrivileges\")\n",
    "        for privilege in self.privilege:\n",
    "            print(f\"-{privilege}\")\n",
    "\n",
    "eric=Admin('eric','matthes','e_matthes','e_matthes@example.com','alaska')\n",
    "eric.describe_user()\n",
    "eric.privilege=['can reset passwords','can moderate discussions','can suspend accounts']\n",
    "eric.show_privileges()"
   ]
  },
  {
   "cell_type": "markdown",
   "id": "26c260ad-2a9e-464f-8db2-3c7d354f3a01",
   "metadata": {},
   "source": [
    "## 练习9.8 权限"
   ]
  },
  {
   "cell_type": "code",
   "execution_count": 10,
   "id": "24bf6c7e-40cb-40d6-83ad-6247439c7316",
   "metadata": {},
   "outputs": [
    {
     "name": "stdout",
     "output_type": "stream",
     "text": [
      "\n",
      "Eric Matthes\n",
      " Username:e_matthes\n",
      " Email:e_matthes@example.com\n",
      " Location:Alaska\n"
     ]
    }
   ],
   "source": [
    "class User:\n",
    "    \"\"\"一个表示用户的类\"\"\"\n",
    "\n",
    "    def __init__(self,first_name,last_name,username,email,location):\n",
    "        \"\"\"初始化用户\"\"\"\n",
    "        self.first_name=first_name.title()\n",
    "        self.last_name=last_name.title()\n",
    "        self.username=username\n",
    "        self.email=email\n",
    "        self.location=location.title()\n",
    "        self.login_attemps=0\n",
    "\n",
    "    def describe_user(self):\n",
    "        \"\"\"显示用户信息摘要\"\"\"\n",
    "        print(f\"\\n{self.first_name} {self.last_name}\")\n",
    "        print(f\" Username:{self.username}\")\n",
    "        print(f\" Email:{self.email}\")\n",
    "        print(f\" Location:{self.location}\")\n",
    "\n",
    "    def greet_user(self):\n",
    "        \"\"\"向用户发出个性化的问候\"\"\"\n",
    "        print(f\"\\n Welcome back,{self.username}!\")\n",
    "\n",
    "    def increment_login_attempts(self):\n",
    "        \"\"\"将属性login_attempts的值加1\"\"\"\n",
    "        self.login_attemps+=1\n",
    "\n",
    "    def reset_login_attempts(self):\n",
    "        \"\"\"将login_attemps重置为0\"\"\"\n",
    "        self.login_attemps=0\n",
    "\n",
    "class Admin(User):\n",
    "    \"\"\"有管理权限的用户\"\"\"\n",
    "\n",
    "    def __init__(self,first_name,last_name,username,email,location):\n",
    "        \"\"\"初始化管理员\"\"\"\n",
    "        super().__init__(first_name,last_name,username,email,location)\n",
    "\n",
    "        #将权限集初始化为空\n",
    "        self.privileges=Privileges()\n",
    "\n",
    "class Privileges:\n",
    "    \"\"\"一个存储管理员权限的类\"\"\"\n",
    "\n",
    "    def _init__(self,privilege=[]):\n",
    "        self.privilege=privileges\n",
    "\n",
    "    def show_privileges(self):\n",
    "        print(\"\\nprivilege:\")\n",
    "        if self.privileges:\n",
    "            for privilege in self.privileges:\n",
    "                print(f\"-{privilege}\")\n",
    "        else:\n",
    "            print(\"-This user has no privileges.\")\n",
    "\n",
    "\n",
    "eric=Admin('eric','matthes','e_matthes','e_matthes@example.com','alaska')\n",
    "eric.describe_user()\n",
    "\n",
    "\n"
   ]
  },
  {
   "cell_type": "code",
   "execution_count": 11,
   "id": "e545cb4e-c6c5-4f0f-9321-9636dcb95849",
   "metadata": {},
   "outputs": [
    {
     "name": "stdout",
     "output_type": "stream",
     "text": [
      "2024Nissanleaf\n",
      "This car has a 40-KWh battery.\n",
      "This car an go about 150 miles on a full charge.\n"
     ]
    }
   ],
   "source": [
    "class Car:\n",
    "    \"\"\"一次模拟汽车的简单尝试\"\"\"\n",
    "    def __init__(self,make,model,year):\n",
    "        \"\"\"初始化描述汽车的属性\"\"\"\n",
    "        self.make=make\n",
    "        self.model=model\n",
    "        self.year=year\n",
    "        self.odometer_reading=0\n",
    "\n",
    "    def get_descriptive_name(self):\n",
    "        \"\"\"返回标准化的格式信息\"\"\"\n",
    "        long_name=f\"{self.year}{self.make}{self.model}\"\n",
    "        return long_name.title()\n",
    "\n",
    "    def read_odometer(self):\n",
    "        \"\"\"打印一条指出汽车行驶里程的消息\"\"\"\n",
    "        print(f\"This car has {self.odometer_reading} miles on it.\")\n",
    "\n",
    "    def update_odometer(self,mileage):\n",
    "        \"\"\"将里程表读书设置成指定的值\"\"\"\n",
    "        \"\"\"禁止将里程表读书往回调\"\"\"\n",
    "        if mileage>=self.odometer_reading:\n",
    "            self.odometer_reading=mileage\n",
    "\n",
    "        else:\n",
    "            print(\"You can't roll back an odometer.\")\n",
    "\n",
    "    def increment_odometer(self,miles):\n",
    "        \"\"\"让里程表读数增加指定的量\"\"\"\n",
    "        self.odometer_reading+=miles\n",
    "\n",
    "\n",
    "class Battery:\n",
    "    \"\"\"一次模拟电动汽车电池的简单尝试\"\"\"\n",
    "    def __init__(self,battery_size=40):\n",
    "        \"\"\"初始化电池的属性\"\"\"\n",
    "        self.battery_size=battery_size\n",
    "\n",
    "    def describe_battery(self):\n",
    "        \"\"\"打印一条描述电池容量的消息\"\"\"\n",
    "        print(f\"This car has a {self.battery_size}-KWh battery.\")\n",
    "\n",
    "    def get_range(self):\n",
    "        \"\"\"打印一条消息，指出电池的续航历程\"\"\"\n",
    "        if self.battery_size==40:\n",
    "            range=150\n",
    "        elif self.battry_size==65:\n",
    "            range=225\n",
    "        print(f\"This car an go about {range} miles on a full charge.\")\n",
    "\n",
    "\n",
    "class ElectricCar(Car):\n",
    "    \"\"\"电动汽车的独特之处\"\"\"\n",
    "\n",
    "    def __init__(self,make,model,year):\n",
    "        \"\"\"先初始化父类的属性，再初始化电动汽车特有的属性\"\"\"\n",
    "        super().__init__(make,model,year)\n",
    "        self.battery=Battery()\n",
    "\n",
    "    def describe_battery(self):\n",
    "        \"\"\"打印一条描述电池容量的消息\"\"\"\n",
    "        print(f\"This car has a {self.battery_size}-KWh battery.\")\n",
    "\n",
    "my_leaf=ElectricCar('nissan','leaf',2024)\n",
    "print(my_leaf.get_descriptive_name())\n",
    "my_leaf.battery.describe_battery()\n",
    "my_leaf.battery.get_range()"
   ]
  },
  {
   "cell_type": "markdown",
   "id": "b99dd2de-09bd-44f0-bcf9-f25d40696319",
   "metadata": {},
   "source": [
    "## 练习9.13 骰子"
   ]
  },
  {
   "cell_type": "code",
   "execution_count": 13,
   "id": "01de958e-9927-4106-abae-4386aa4e97e9",
   "metadata": {},
   "outputs": [
    {
     "name": "stdout",
     "output_type": "stream",
     "text": [
      "10 rolls of a 6_sided die:\n",
      "[2, 4, 6, 2, 4, 6, 3, 4, 4, 1]\n",
      "\n",
      "10 rolls of a 6_sided die:\n",
      "[9, 1, 8, 10, 2, 10, 1, 7, 2, 7]\n",
      "\n",
      "10 rolls of a 6_sided die:\n",
      "[9, 7, 13, 14, 19, 7, 9, 11, 15, 2]\n"
     ]
    }
   ],
   "source": [
    "from random import randint\n",
    "\n",
    "class Die:\n",
    "    \"\"\"一个表示骰子的类\"\"\"\n",
    "\n",
    "    def __init__(self,sides=6):\n",
    "        \"\"\"初始化骰子\"\"\"\n",
    "        self.sides=sides\n",
    "\n",
    "    def roll_die(self):\n",
    "        \"\"\"返回一个位于1和骰子面数之间的随机数\"\"\"\n",
    "        return randint(1,self.sides)\n",
    "\n",
    "#创建一个6面的骰子，再投10次并显示结果\n",
    "d6=Die()\n",
    "\n",
    "results=[]\n",
    "for roll_num in range(10):\n",
    "    result=d6.roll_die()\n",
    "    results.append(result)\n",
    "\n",
    "print(\"10 rolls of a 6_sided die:\")\n",
    "print(results)\n",
    "\n",
    "#创建一个10面的骰子，再投10次并显示结果\n",
    "d10=Die(sides=10)\n",
    "\n",
    "results=[]\n",
    "for roll_num in range(10):\n",
    "    result=d10.roll_die()\n",
    "    results.append(result)\n",
    "\n",
    "print(\"\\n10 rolls of a 6_sided die:\")\n",
    "print(results)\n",
    "\n",
    "#创建一个20面的骰子，再投10次并显示结果\n",
    "d20=Die(sides=20)\n",
    "\n",
    "results=[]\n",
    "for roll_num in range(10):\n",
    "    result=d20.roll_die()\n",
    "    results.append(result)\n",
    "\n",
    "print(\"\\n10 rolls of a 6_sided die:\")\n",
    "print(results)\n",
    "    "
   ]
  },
  {
   "cell_type": "markdown",
   "id": "b8cce2a5-1aac-4bd1-af80-ba71f4cb7417",
   "metadata": {},
   "source": [
    "## 练习9.14 彩票"
   ]
  },
  {
   "cell_type": "code",
   "execution_count": 19,
   "id": "cc7ad83c-1caa-442d-8986-988659286401",
   "metadata": {},
   "outputs": [
    {
     "name": "stdout",
     "output_type": "stream",
     "text": [
      "Let's see what the wining ticket is:\n",
      "We pulled a e!\n",
      "We pulled a 5!\n",
      "We pulled a 1!\n",
      "We pulled a a!\n",
      "\n",
      "The final wining ticket is:['e', '5', '1', 'a']\n"
     ]
    }
   ],
   "source": [
    "from random import choice\n",
    "\n",
    "possibilities=['1','2','3','4','5','6','7','8','9','10','a','b','c','d','e']\n",
    "\n",
    "wining_ticket=[]\n",
    "print(\"Let's see what the wining ticket is:\")\n",
    "\n",
    "#中奖组合不能包括重复的数字或字母，因此使用了while循环\n",
    "while len(wining_ticket)<4:\n",
    "    pulled_item=choice(possibilities)\n",
    "    #仅当摇出的数字或字母不在组合中时，才将其添加到组合中\n",
    "    if pulled_item not in wining_ticket:\n",
    "        print(f\"We pulled a {pulled_item}!\")\n",
    "        wining_ticket.append(pulled_item)\n",
    "\n",
    "print(f\"\\nThe final wining ticket is:{wining_ticket}\")"
   ]
  },
  {
   "cell_type": "code",
   "execution_count": 32,
   "id": "8be80797-4b4e-437f-9b06-dca7d2b29cd1",
   "metadata": {},
   "outputs": [
    {
     "name": "stdout",
     "output_type": "stream",
     "text": [
      "We have a winning ticket!\n",
      "Your ticket: [7, 8, 'e', 6]\n",
      "Winning ticket: ['e', 6, 7, 8]\n",
      "It only took 3960 tries to win!\n"
     ]
    }
   ],
   "source": [
    "from random import choice\n",
    "\n",
    "def get_winning_ticket(possibilities):\n",
    "    \"\"\"摇出中奖组合\"\"\"\n",
    "    winning_ticket = []\n",
    " \n",
    "    # 中奖组合中不能包含重复的数字或字母，因此使用了 while 循环\n",
    "    while len(winning_ticket) < 4:\n",
    "        pulled_item = choice(possibilities)\n",
    "\n",
    "        # 仅当摇出的数字或字母不在组合中时，才将其添加到组合中\n",
    "        if pulled_item not in winning_ticket:\n",
    "            winning_ticket.append(pulled_item)\n",
    "    return winning_ticket\n",
    "\n",
    "def check_ticket(played_ticket, winning_ticket):\n",
    "    # 检查彩票的每个数字或字母，只要有一个不在中奖组合中，就返回 False\n",
    "    for element in played_ticket:\n",
    "        if element not in winning_ticket:\n",
    "            return False\n",
    "    \n",
    "    # 如果代码执行到这里，就说明中奖了！\n",
    "    return True\n",
    "\n",
    "def make_random_ticket(possibilities):\n",
    "    \"\"\"随机地生成彩票\"\"\"\n",
    "    ticket = []\n",
    "    # 彩票不能包含重复的数字或字母，因此使用了 while 循环\n",
    "    while len(ticket) < 4:\n",
    "        pulled_item = choice(possibilities)\n",
    "        # 仅当随机生成的数字或字母不在彩票中时，才将其添加到彩票中\n",
    "        if pulled_item not in ticket:\n",
    "            ticket.append(pulled_item)\n",
    "    return ticket\n",
    "\n",
    "possibilities = [1, 2, 3, 4, 5, 6, 7, 8, 9, 10, 'a', 'b', 'c', 'd', 'e']\n",
    "winning_ticket = get_winning_ticket(possibilities)\n",
    "\n",
    "plays = 0\n",
    "won = False\n",
    "\n",
    "# 为避免程序执行时间太长，设置最多随机生成多少张彩票\n",
    "max_tries = 1_000_000\n",
    "\n",
    "while not won:\n",
    "    new_ticket = make_random_ticket(possibilities)\n",
    "    won = check_ticket(new_ticket, winning_ticket)\n",
    "    plays += 1\n",
    "    if plays >= max_tries:\n",
    "        break\n",
    "if won:\n",
    "    print(\"We have a winning ticket!\")\n",
    "    print(f\"Your ticket: {new_ticket}\")\n",
    "    print(f\"Winning ticket: {winning_ticket}\")\n",
    "    print(f\"It only took {plays} tries to win!\")\n",
    "else:\n",
    "    print(f\"Tried {plays} times, without pulling a winner. :(\")\n",
    "    print(f\"Your ticket: {new_ticket}\")\n",
    "    print(f\"Winning ticket: {winning_ticket}\")"
   ]
  },
  {
   "cell_type": "code",
   "execution_count": null,
   "id": "5ae06f19-3505-40f0-83d8-3de304cfb8e9",
   "metadata": {},
   "outputs": [],
   "source": []
  },
  {
   "cell_type": "code",
   "execution_count": null,
   "id": "ac8153d5-1d42-412a-aa0a-c922bd82b892",
   "metadata": {},
   "outputs": [],
   "source": []
  }
 ],
 "metadata": {
  "kernelspec": {
   "display_name": "Python 3 (ipykernel)",
   "language": "python",
   "name": "python3"
  },
  "language_info": {
   "codemirror_mode": {
    "name": "ipython",
    "version": 3
   },
   "file_extension": ".py",
   "mimetype": "text/x-python",
   "name": "python",
   "nbconvert_exporter": "python",
   "pygments_lexer": "ipython3",
   "version": "3.11.7"
  }
 },
 "nbformat": 4,
 "nbformat_minor": 5
}
