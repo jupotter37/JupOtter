{
 "cells": [
  {
   "cell_type": "markdown",
   "metadata": {},
   "source": [
    "## The mysterious yet powerful XGBoost model "
   ]
  },
  {
   "cell_type": "code",
   "execution_count": 1,
   "metadata": {
    "collapsed": false
   },
   "outputs": [
    {
     "ename": "ImportError",
     "evalue": "No module named xgboost",
     "output_type": "error",
     "traceback": [
      "\u001b[0;31m---------------------------------------------------------------------------\u001b[0m",
      "\u001b[0;31mImportError\u001b[0m                               Traceback (most recent call last)",
      "\u001b[0;32m<ipython-input-1-c3cda3c3d29f>\u001b[0m in \u001b[0;36m<module>\u001b[0;34m()\u001b[0m\n\u001b[1;32m      4\u001b[0m \u001b[0;32mimport\u001b[0m \u001b[0mscipy\u001b[0m \u001b[0;32mas\u001b[0m \u001b[0msp\u001b[0m\u001b[0;34m\u001b[0m\u001b[0m\n\u001b[1;32m      5\u001b[0m \u001b[0;32mimport\u001b[0m \u001b[0mos\u001b[0m\u001b[0;34m\u001b[0m\u001b[0m\n\u001b[0;32m----> 6\u001b[0;31m \u001b[0;32mimport\u001b[0m \u001b[0mxgboost\u001b[0m \u001b[0;32mas\u001b[0m \u001b[0mxgb\u001b[0m\u001b[0;34m\u001b[0m\u001b[0m\n\u001b[0m\u001b[1;32m      7\u001b[0m \u001b[0;31m## label encoding\u001b[0m\u001b[0;34m\u001b[0m\u001b[0;34m\u001b[0m\u001b[0m\n\u001b[1;32m      8\u001b[0m \u001b[0;32mimport\u001b[0m \u001b[0msklearn\u001b[0m\u001b[0;34m\u001b[0m\u001b[0m\n",
      "\u001b[0;31mImportError\u001b[0m: No module named xgboost"
     ]
    }
   ],
   "source": [
    "import pandas as pd\n",
    "import matplotlib.pyplot as plt\n",
    "import numpy as np\n",
    "import scipy as sp\n",
    "import os\n",
    "import xgboost as xgb\n",
    "## label encoding\n",
    "import sklearn\n",
    "from sklearn.preprocessing import LabelEncoder\n",
    "%matplotlib inline\n",
    "\n",
    "SUBSET = True\n",
    "\n",
    "DIR_PATH = '../../data/'"
   ]
  },
  {
   "cell_type": "code",
   "execution_count": 2,
   "metadata": {
    "collapsed": false
   },
   "outputs": [
    {
     "data": {
      "text/plain": [
       "\"\\nmacro = pd.read_csv(os.path.join(DIR_PATH, 'macro.csv'), \\n                    header='infer')\\n\""
      ]
     },
     "execution_count": 2,
     "metadata": {},
     "output_type": "execute_result"
    }
   ],
   "source": [
    "## loading data as Pandas dataframes\n",
    "train_raw = pd.read_csv(os.path.join(DIR_PATH, 'train_total.csv'), \n",
    "                        header='infer', \n",
    "                        index_col='id',\n",
    "                        parse_dates=['timestamp'])\n",
    "test_raw = pd.read_csv(os.path.join(DIR_PATH, 'test_total.csv'), \n",
    "                       header='infer', \n",
    "                       index_col='id',\n",
    "                       parse_dates=['timestamp'])\n",
    "\n",
    "\"\"\"\n",
    "macro = pd.read_csv(os.path.join(DIR_PATH, 'macro.csv'), \n",
    "                    header='infer')\n",
    "\"\"\""
   ]
  },
  {
   "cell_type": "markdown",
   "metadata": {},
   "source": [
    "#### Some minor feature extraction"
   ]
  },
  {
   "cell_type": "code",
   "execution_count": 3,
   "metadata": {
    "collapsed": true
   },
   "outputs": [],
   "source": [
    "## log transformation\n",
    "#train_raw.loc[:, 'log_price_doc'] = np.log(train_raw['price_doc'] + 1)\n",
    "\n",
    "## time features\n",
    "train_raw.loc[:, 'year'] = train_raw.loc[:, 'timestamp'].apply(lambda x: x.strftime('%Y'))\n",
    "train_raw.loc[:, 'month'] = train_raw.loc[:, 'timestamp'].apply(lambda x: x.strftime('%m'))\n",
    "\n",
    "test_raw.loc[:, 'year'] = test_raw.loc[:, 'timestamp'].apply(lambda x: x.strftime('%Y'))\n",
    "test_raw.loc[:, 'month'] = test_raw.loc[:, 'timestamp'].apply(lambda x: x.strftime('%m'))"
   ]
  },
  {
   "cell_type": "code",
   "execution_count": 39,
   "metadata": {
    "collapsed": false
   },
   "outputs": [
    {
     "ename": "AttributeError",
     "evalue": "'function' object has no attribute 'sub_area'",
     "output_type": "error",
     "traceback": [
      "\u001b[0;31m---------------------------------------------------------------------------\u001b[0m",
      "\u001b[0;31mAttributeError\u001b[0m                            Traceback (most recent call last)",
      "\u001b[0;32m<ipython-input-39-e2e181d2700d>\u001b[0m in \u001b[0;36m<module>\u001b[0;34m()\u001b[0m\n\u001b[0;32m----> 1\u001b[0;31m \u001b[0mtrain_raw\u001b[0m\u001b[0;34m.\u001b[0m\u001b[0mloc\u001b[0m\u001b[0;34m[\u001b[0m\u001b[0;34m:\u001b[0m\u001b[0;34m,\u001b[0m \u001b[0;34m'sub_area'\u001b[0m\u001b[0;34m]\u001b[0m\u001b[0;34m.\u001b[0m\u001b[0mgroupby\u001b[0m\u001b[0;34m.\u001b[0m\u001b[0msub_area\u001b[0m\u001b[0;34m\u001b[0m\u001b[0m\n\u001b[0m",
      "\u001b[0;31mAttributeError\u001b[0m: 'function' object has no attribute 'sub_area'"
     ]
    }
   ],
   "source": [
    "train_raw.loc[:, 'sub_area'].groupby"
   ]
  },
  {
   "cell_type": "code",
   "execution_count": 51,
   "metadata": {
    "collapsed": false
   },
   "outputs": [
    {
     "data": {
      "text/plain": [
       "array([   1,    1,    2,    2,    3,    6,    7,    7,   15,   19,   20,\n",
       "         27,   31,   34,   37,   37,   44,   49,   50,   56,   58,   60,\n",
       "         60,   62,   64,   68,   72,   77,   79,   79,   81,   85,   85,\n",
       "         90,   92,   94,   98,   99,  100,  100,  100,  101,  103,  105,\n",
       "        111,  115,  116,  118,  119,  121,  123,  123,  126,  126,  126,\n",
       "        127,  131,  131,  135,  135,  136,  137,  139,  142,  143,  147,\n",
       "        147,  148,  148,  149,  152,  154,  154,  155,  158,  158,  158,\n",
       "        163,  164,  165,  166,  167,  173,  174,  175,  177,  178,  180,\n",
       "        182,  182,  184,  185,  188,  190,  192,  196,  197,  197,  199,\n",
       "        200,  201,  206,  207,  208,  211,  213,  220,  220,  220,  224,\n",
       "        230,  237,  237,  241,  247,  255,  259,  262,  264,  268,  273,\n",
       "        282,  295,  297,  298,  300,  301,  305,  305,  327,  353,  362,\n",
       "        410,  421,  443,  451,  496,  508,  518,  678,  679,  713,  925,\n",
       "       1372, 1611, 1776])"
      ]
     },
     "execution_count": 51,
     "metadata": {},
     "output_type": "execute_result"
    }
   ],
   "source": [
    "np.sort(train_raw.groupby('sub_area')['sub_area'].count())"
   ]
  },
  {
   "cell_type": "code",
   "execution_count": 62,
   "metadata": {
    "collapsed": true
   },
   "outputs": [],
   "source": [
    "top_30 = train_raw.loc[:, 'sub_area'].value_counts()[:30].index\n",
    "train_raw.loc[~train_raw.loc[:,'sub_area'].isin(top_30),'sub_area'] = 'other'"
   ]
  },
  {
   "cell_type": "markdown",
   "metadata": {},
   "source": [
    "### Choose the desired slice of data for the model"
   ]
  },
  {
   "cell_type": "markdown",
   "metadata": {},
   "source": [
    "Pick either a subset of features or use the entire dataset"
   ]
  },
  {
   "cell_type": "code",
   "execution_count": 18,
   "metadata": {
    "collapsed": true
   },
   "outputs": [],
   "source": [
    "if SUBSET:  \n",
    "    features = ['year', 'month', 'full_sq', 'life_sq', 'floor', \n",
    "                    'max_floor', 'material', 'build_year', 'num_room',\n",
    "                    'kitch_sq', 'state', 'radiation_km', 'basketball_km', 'sub_area']\n",
    "    train = train_raw[features]\n",
    "    test = test_raw[features]\n",
    "else:\n",
    "    train = train_raw.copy()\n",
    "    test = train_raw.copy()\n",
    "    features = list(test.columns)"
   ]
  },
  {
   "cell_type": "markdown",
   "metadata": {},
   "source": [
    "#### Remove certain columns from the data "
   ]
  },
  {
   "cell_type": "code",
   "execution_count": 19,
   "metadata": {
    "collapsed": true
   },
   "outputs": [],
   "source": [
    "if 'timestamp' in features:\n",
    "    train.drop('timestamp', inplace = True, axis = 1)\n",
    "    test.drop('timestamp', inplace = True, axis = 1)\n",
    "    features.remove('timestamp')"
   ]
  },
  {
   "cell_type": "markdown",
   "metadata": {},
   "source": [
    "#### Must encode object type columns so that they can be handled by the model. This is something that R does automatically."
   ]
  },
  {
   "cell_type": "code",
   "execution_count": 20,
   "metadata": {
    "collapsed": false
   },
   "outputs": [
    {
     "name": "stdout",
     "output_type": "stream",
     "text": [
      "encoding feature: year\n",
      "encoding feature: month\n",
      "encoding feature: sub_area\n"
     ]
    }
   ],
   "source": [
    "for f in train.columns:\n",
    "    if train[f].dtype=='object':\n",
    "        print('encoding feature: {}'.format(f))\n",
    "        lbl = sklearn.preprocessing.LabelEncoder()\n",
    "        train.loc[:,f] = lbl.fit_transform(train.loc[:,f])"
   ]
  },
  {
   "cell_type": "code",
   "execution_count": 29,
   "metadata": {
    "collapsed": false
   },
   "outputs": [
    {
     "name": "stdout",
     "output_type": "stream",
     "text": [
      "encoding feature: year\n",
      "encoding feature: month\n",
      "encoding feature: sub_area\n"
     ]
    }
   ],
   "source": [
    "for f in test.columns:\n",
    "    if test[f].dtype=='object':\n",
    "        print('encoding feature: {}'.format(f))\n",
    "        lbl = sklearn.preprocessing.LabelEncoder()\n",
    "        test.loc[:,f] = lbl.fit_transform(test.loc[:,f])"
   ]
  },
  {
   "cell_type": "code",
   "execution_count": 32,
   "metadata": {
    "collapsed": false
   },
   "outputs": [
    {
     "name": "stdout",
     "output_type": "stream",
     "text": [
      "(30471, 14)\n",
      "(30471,)\n",
      "(7662, 14)\n"
     ]
    }
   ],
   "source": [
    "# Convert to numpy values\n",
    "\n",
    "X_train = train.values\n",
    "\n",
    "# price or log(price)?\n",
    "Y_train = train_raw['price_doc'].values\n",
    "#Y_train = train_raw['log_price_doc'].values\n",
    "\n",
    "X_test = test.values\n",
    "\n",
    "print(X_train.shape)\n",
    "print(Y_train.shape)\n",
    "print(X_test.shape)"
   ]
  },
  {
   "cell_type": "code",
   "execution_count": 33,
   "metadata": {
    "collapsed": true
   },
   "outputs": [],
   "source": [
    "size_ = 7000\n",
    "X_train_sub, Y_train_sub = X_train[:-size_],  Y_train[:-size_]\n",
    "X_val, Y_val = X_train[-size_:],  Y_train[-size_:]"
   ]
  },
  {
   "cell_type": "code",
   "execution_count": 34,
   "metadata": {
    "collapsed": true
   },
   "outputs": [],
   "source": [
    "# Create a validation set, with last 20% of data\n",
    "dtrain = xgb.DMatrix(X_train, Y_train, feature_names=features)\n",
    "dtrain_sub = xgb.DMatrix(X_train_sub, Y_train_sub, feature_names=features)\n",
    "d_val = xgb.DMatrix(X_val, Y_val, feature_names=features)\n",
    "dtest = xgb.DMatrix(X_test, feature_names=features)"
   ]
  },
  {
   "cell_type": "code",
   "execution_count": 35,
   "metadata": {
    "collapsed": false
   },
   "outputs": [
    {
     "name": "stdout",
     "output_type": "stream",
     "text": [
      "[0]\tval-rmse:9.31021e+06\n",
      "Will train until val-rmse hasn't improved in 20 rounds.\n",
      "[20]\tval-rmse:6.97478e+06\n",
      "[40]\tval-rmse:5.48769e+06\n",
      "[60]\tval-rmse:4.5652e+06\n",
      "[80]\tval-rmse:4.02373e+06\n",
      "[100]\tval-rmse:3.68006e+06\n",
      "[120]\tval-rmse:3.46943e+06\n",
      "[140]\tval-rmse:3.33147e+06\n",
      "[160]\tval-rmse:3.24323e+06\n",
      "[180]\tval-rmse:3.17528e+06\n",
      "[200]\tval-rmse:3.11723e+06\n",
      "[220]\tval-rmse:3.07856e+06\n",
      "[240]\tval-rmse:3.04188e+06\n",
      "[260]\tval-rmse:3.02237e+06\n",
      "[280]\tval-rmse:3.00407e+06\n",
      "[300]\tval-rmse:2.98132e+06\n",
      "[320]\tval-rmse:2.96789e+06\n",
      "[340]\tval-rmse:2.95018e+06\n",
      "[360]\tval-rmse:2.93628e+06\n",
      "[380]\tval-rmse:2.92348e+06\n",
      "[400]\tval-rmse:2.91189e+06\n",
      "[420]\tval-rmse:2.90458e+06\n",
      "[440]\tval-rmse:2.89615e+06\n",
      "[460]\tval-rmse:2.89094e+06\n",
      "[480]\tval-rmse:2.88446e+06\n",
      "[500]\tval-rmse:2.87954e+06\n",
      "[520]\tval-rmse:2.87549e+06\n",
      "[540]\tval-rmse:2.86525e+06\n",
      "[560]\tval-rmse:2.85947e+06\n",
      "[580]\tval-rmse:2.85531e+06\n",
      "[600]\tval-rmse:2.8534e+06\n",
      "[620]\tval-rmse:2.84626e+06\n",
      "[640]\tval-rmse:2.83968e+06\n",
      "[660]\tval-rmse:2.83485e+06\n",
      "[680]\tval-rmse:2.8326e+06\n",
      "[700]\tval-rmse:2.82802e+06\n",
      "[720]\tval-rmse:2.82329e+06\n",
      "[740]\tval-rmse:2.82036e+06\n",
      "[760]\tval-rmse:2.81531e+06\n",
      "[780]\tval-rmse:2.81171e+06\n",
      "[800]\tval-rmse:2.80977e+06\n",
      "[820]\tval-rmse:2.80571e+06\n",
      "[840]\tval-rmse:2.80346e+06\n",
      "[860]\tval-rmse:2.80073e+06\n",
      "[880]\tval-rmse:2.7982e+06\n",
      "[900]\tval-rmse:2.79645e+06\n",
      "[920]\tval-rmse:2.79414e+06\n",
      "[940]\tval-rmse:2.79209e+06\n",
      "[960]\tval-rmse:2.78956e+06\n",
      "[980]\tval-rmse:2.78785e+06\n",
      "[1000]\tval-rmse:2.7873e+06\n",
      "[1020]\tval-rmse:2.78464e+06\n",
      "[1040]\tval-rmse:2.78277e+06\n",
      "[1060]\tval-rmse:2.78264e+06\n",
      "[1080]\tval-rmse:2.78055e+06\n",
      "[1100]\tval-rmse:2.77883e+06\n",
      "[1120]\tval-rmse:2.77754e+06\n",
      "[1140]\tval-rmse:2.77472e+06\n",
      "[1160]\tval-rmse:2.77196e+06\n",
      "[1180]\tval-rmse:2.76971e+06\n",
      "[1200]\tval-rmse:2.76687e+06\n",
      "[1220]\tval-rmse:2.76527e+06\n",
      "[1240]\tval-rmse:2.76383e+06\n",
      "[1260]\tval-rmse:2.76239e+06\n",
      "[1280]\tval-rmse:2.7611e+06\n",
      "[1300]\tval-rmse:2.76055e+06\n",
      "Stopping. Best iteration:\n",
      "[1299]\tval-rmse:2.76044e+06\n",
      "\n"
     ]
    }
   ],
   "source": [
    "# hyperparameters\n",
    "xgb_params = {\n",
    "    'eta': 0.02,\n",
    "    'max_depth': 5,\n",
    "    'subsample': .8,\n",
    "    'colsample_bytree': 0.7,\n",
    "    'objective': 'reg:linear',\n",
    "    'eval_metric': 'rmse',\n",
    "    'silent': 1\n",
    "}\n",
    "\n",
    "# Uncomment to tune XGB `num_boost_rounds`\n",
    "sub_model = xgb.train(xgb_params, \n",
    "                      dtrain_sub, \n",
    "                      num_boost_round=2000,\n",
    "                      evals=[(d_val, 'val')],\n",
    "                      early_stopping_rounds=20, \n",
    "                      verbose_eval=20)"
   ]
  },
  {
   "cell_type": "code",
   "execution_count": 115,
   "metadata": {
    "collapsed": false
   },
   "outputs": [
    {
     "data": {
      "text/plain": [
       "<matplotlib.axes._subplots.AxesSubplot at 0x7f1f2c900dd0>"
      ]
     },
     "execution_count": 115,
     "metadata": {},
     "output_type": "execute_result"
    },
    {
     "data": {
      "image/png": "[encoded data removed]",
      "text/plain": [
       "<matplotlib.figure.Figure at 0x7f1f2d079610>"
      ]
     },
     "metadata": {},
     "output_type": "display_data"
    }
   ],
   "source": [
    "xgb.plot_importance(sub_model)"
   ]
  },
  {
   "cell_type": "code",
   "execution_count": 116,
   "metadata": {
    "collapsed": true
   },
   "outputs": [],
   "source": [
    "full_model = xgb.train(xgb_params,\n",
    "                       dtrain, \n",
    "                       num_boost_round=sub_model.best_iteration,\n",
    "                       verbose_eval=20)"
   ]
  },
  {
   "cell_type": "code",
   "execution_count": 117,
   "metadata": {
    "collapsed": true
   },
   "outputs": [],
   "source": [
    "#log_y_pred = full_model.predict(dtest)\n",
    "#y_pred = np.exp(log_y_pred) - 1\n",
    "y_pred = full_model.predict(dtest)"
   ]
  },
  {
   "cell_type": "code",
   "execution_count": 118,
   "metadata": {
    "collapsed": true
   },
   "outputs": [],
   "source": [
    "submit = pd.DataFrame({'id': np.array(test.index), 'price_doc': y_pred})\n",
    "submit.to_csv('submission_xgb2.csv', index=False)"
   ]
  }
 ],
 "metadata": {
  "kernelspec": {
   "display_name": "Python 2",
   "language": "python",
   "name": "python2"
  },
  "language_info": {
   "codemirror_mode": {
    "name": "ipython",
    "version": 2
   },
   "file_extension": ".py",
   "mimetype": "text/x-python",
   "name": "python",
   "nbconvert_exporter": "python",
   "pygments_lexer": "ipython2",
   "version": "2.7.13"
  }
 },
 "nbformat": 4,
 "nbformat_minor": 2
}
