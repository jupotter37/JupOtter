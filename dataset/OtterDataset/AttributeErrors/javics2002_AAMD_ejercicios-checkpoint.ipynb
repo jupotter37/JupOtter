{
 "cells": [
  {
   "cell_type": "code",
   "execution_count": 1,
   "id": "79756688",
   "metadata": {
    "scrolled": false
   },
   "outputs": [
    {
     "name": "stdout",
     "output_type": "stream",
     "text": [
      "Precisión de la red neuronal: 97.52%\n",
      "Matriz de confusión:\n",
      "TP: 491, FP: 16\n",
      "FN: 9\n",
      "Precision: 0.97\n",
      "Recall: 0.98\n",
      "F1-Score: 0.98\n"
     ]
    },
    {
     "ename": "AttributeError",
     "evalue": "'dict' object has no attribute 'ndim'",
     "output_type": "error",
     "traceback": [
      "\u001b[1;31m---------------------------------------------------------------------------\u001b[0m",
      "\u001b[1;31mAttributeError\u001b[0m                            Traceback (most recent call last)",
      "Cell \u001b[1;32mIn[1], line 51\u001b[0m\n\u001b[0;32m     48\u001b[0m \u001b[38;5;28mprint\u001b[39m(\u001b[38;5;124mf\u001b[39m\u001b[38;5;124m'\u001b[39m\u001b[38;5;124mRecall: \u001b[39m\u001b[38;5;132;01m{\u001b[39;00mrecall\u001b[38;5;132;01m:\u001b[39;00m\u001b[38;5;124m.2f\u001b[39m\u001b[38;5;132;01m}\u001b[39;00m\u001b[38;5;124m'\u001b[39m)\n\u001b[0;32m     49\u001b[0m \u001b[38;5;28mprint\u001b[39m(\u001b[38;5;124mf\u001b[39m\u001b[38;5;124m'\u001b[39m\u001b[38;5;124mF1-Score: \u001b[39m\u001b[38;5;132;01m{\u001b[39;00mf1_score\u001b[38;5;132;01m:\u001b[39;00m\u001b[38;5;124m.2f\u001b[39m\u001b[38;5;132;01m}\u001b[39;00m\u001b[38;5;124m'\u001b[39m)\n\u001b[1;32m---> 51\u001b[0m displayData(data)\n",
      "File \u001b[1;32m~\\Desktop\\AAMD\\Practica4\\utils.py:12\u001b[0m, in \u001b[0;36mdisplayData\u001b[1;34m(X, example_width, figsize)\u001b[0m\n\u001b[0;32m      8\u001b[0m \u001b[38;5;250m\u001b[39m\u001b[38;5;124;03m\"\"\"\u001b[39;00m\n\u001b[0;32m      9\u001b[0m \u001b[38;5;124;03mDisplays 2D data stored in X in a nice grid.\u001b[39;00m\n\u001b[0;32m     10\u001b[0m \u001b[38;5;124;03m\"\"\"\u001b[39;00m\n\u001b[0;32m     11\u001b[0m \u001b[38;5;66;03m# Compute rows, cols\u001b[39;00m\n\u001b[1;32m---> 12\u001b[0m \u001b[38;5;28;01mif\u001b[39;00m X\u001b[38;5;241m.\u001b[39mndim \u001b[38;5;241m==\u001b[39m \u001b[38;5;241m2\u001b[39m:\n\u001b[0;32m     13\u001b[0m     m, n \u001b[38;5;241m=\u001b[39m X\u001b[38;5;241m.\u001b[39mshape\n\u001b[0;32m     14\u001b[0m \u001b[38;5;28;01melif\u001b[39;00m X\u001b[38;5;241m.\u001b[39mndim \u001b[38;5;241m==\u001b[39m \u001b[38;5;241m1\u001b[39m:\n",
      "\u001b[1;31mAttributeError\u001b[0m: 'dict' object has no attribute 'ndim'"
     ]
    }
   ],
   "source": [
    "from ANN import predict\n",
    "from utils import displayData\n",
    "\n",
    "import numpy as np\n",
    "\n",
    "%matplotlib inline\n",
    "import matplotlib.pyplot as plt\n",
    "from mpl_toolkits import mplot3d\n",
    "\n",
    "from scipy.io import loadmat, savemat\n",
    "from sklearn.metrics import accuracy_score\n",
    "\n",
    "#Ejercicio 1\n",
    "data = loadmat('data/ex3data1.mat', squeeze_me=True)\n",
    "y = data['y']\n",
    "X = data['X']\n",
    "\n",
    "weights = loadmat('data/ex3weights.mat')\n",
    "theta1, theta2 = weights['Theta1'], weights['Theta2']\n",
    "\n",
    "predictions = predict(theta1, theta2, X)\n",
    "\n",
    "accuracy = accuracy_score(y, predictions) * 100\n",
    "print(f'Precisión de la red neuronal: {accuracy:.2f}%')\n",
    "\n",
    "#Ejercicio 2\n",
    "positive_class = 1\n",
    "#Verificamos si tp fp y fn , para eso \n",
    "# usamos el cruce entre lo que nos da la prediccion (la etiqueta del modelo)\n",
    "#Y lo que nos da la y (los datos reales de entrenamiento)\n",
    "tp = np.sum((predictions == positive_class) & (y == positive_class))\n",
    "fp = np.sum((predictions == positive_class) & (y != positive_class))\n",
    "fn = np.sum((predictions != positive_class) & (y == positive_class))\n",
    "\n",
    "#La precisión es útil cuando queremos asegurarnos de que las predicciones positivas del modelo sean confiables.\n",
    "# Un modelo con alta precisión tiende a tener menos falsos positivos.\n",
    "precision = tp / (tp + fp)\n",
    "#El recall es útil cuando queremos asegurarnos de que el modelo identifique la mayoría de los ejemplos positivos. \n",
    "#Un modelo con alto recall tiende a tener menos falsos negativos.\n",
    "recall = tp / (tp + fn)\n",
    "#Este calculo es general y no suele depender de algo individual como son el recall y la precision \n",
    "f1_score = 2 * (precision * recall) / (precision + recall)\n",
    "\n",
    "print(f'Matriz de confusión:')\n",
    "print(f'TP: {tp}, FP: {fp}')\n",
    "print(f'FN: {fn}')\n",
    "print(f'Precision: {precision:.2f}')\n",
    "print(f'Recall: {recall:.2f}')\n",
    "print(f'F1-Score: {f1_score:.2f}')"
   ]
  },
  {
   "cell_type": "code",
   "execution_count": null,
   "id": "60ba0d49",
   "metadata": {},
   "outputs": [],
   "source": []
  },
  {
   "cell_type": "code",
   "execution_count": null,
   "id": "0779670e",
   "metadata": {},
   "outputs": [],
   "source": []
  },
  {
   "cell_type": "code",
   "execution_count": null,
   "id": "24d93923",
   "metadata": {},
   "outputs": [],
   "source": []
  }
 ],
 "metadata": {
  "kernelspec": {
   "display_name": "Python 3 (ipykernel)",
   "language": "python",
   "name": "python3"
  },
  "language_info": {
   "codemirror_mode": {
    "name": "ipython",
    "version": 3
   },
   "file_extension": ".py",
   "mimetype": "text/x-python",
   "name": "python",
   "nbconvert_exporter": "python",
   "pygments_lexer": "ipython3",
   "version": "3.11.4"
  }
 },
 "nbformat": 4,
 "nbformat_minor": 5
}
