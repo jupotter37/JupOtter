{
 "cells": [
  {
   "cell_type": "code",
   "execution_count": 2,
   "metadata": {},
   "outputs": [
    {
     "name": "stdout",
     "output_type": "stream",
     "text": [
      "{'fname': 'Ahmad', 'lname': 'Ali', 'education': 'BSCS', 0: 'Pakistan'}\n"
     ]
    }
   ],
   "source": [
    "from typing import Dict, Union, Optional\n",
    "import pprint\n",
    "\n",
    "Key = Union[int, str]  # create custom type\n",
    "Value = Union[str, int, list, Dict, set]\n",
    "\n",
    "data: Dict[Key, Value] = {\n",
    "    \"fname\": \"Ahmad\",\n",
    "    \"lname\": \"Ali\",\n",
    "    \"education\": \"BSCS\",\n",
    "    0: \"Pakistan\",\n",
    "}\n",
    "\n",
    "print(data)"
   ]
  },
  {
   "cell_type": "code",
   "execution_count": 3,
   "metadata": {},
   "outputs": [
    {
     "name": "stdout",
     "output_type": "stream",
     "text": [
      "Before\n",
      "{'fname': 'Ahmad', 'lname': 'Ali', 'education': 'BSCS', 0: 'Pakistan'}\n",
      "After\n",
      "{}\n"
     ]
    }
   ],
   "source": [
    "from typing import Dict, Union, Optional\n",
    "import pprint\n",
    "\n",
    "Key = Union[int, str]  # create custom type\n",
    "Value = Union[str, int, list, Dict, set]\n",
    "\n",
    "data: Dict[Key, Value] = {\n",
    "    \"fname\": \"Ahmad\",\n",
    "    \"lname\": \"Ali\",\n",
    "    \"education\": \"BSCS\",\n",
    "    0: \"Pakistan\",\n",
    "}\n",
    "\n",
    "print(\"Before\")\n",
    "print(data)\n",
    "data.clear()\n",
    "print(\"After\")\n",
    "print(data)"
   ]
  },
  {
   "cell_type": "code",
   "execution_count": 4,
   "metadata": {},
   "outputs": [
    {
     "name": "stdout",
     "output_type": "stream",
     "text": [
      "Before\n",
      "{'fname': 'Ahmad', 'lname': 'Ali', 'education': 'BSCS', 0: 'Pakistan'}\n"
     ]
    },
    {
     "ename": "AttributeError",
     "evalue": "'dict' object has no attribute 'delete'",
     "output_type": "error",
     "traceback": [
      "\u001b[1;31m---------------------------------------------------------------------------\u001b[0m",
      "\u001b[1;31mAttributeError\u001b[0m                            Traceback (most recent call last)",
      "\u001b[1;32mc:\\Users\\Administrator\\Documents\\PIAIC\\Python Codes\\class 8\\class8.ipynb Cell 3\u001b[0m line \u001b[0;36m1\n\u001b[0;32m     <a href='vscode-notebook-cell:/c%3A/Users/Administrator/Documents/PIAIC/Python%20Codes/class%208/class8.ipynb#W3sZmlsZQ%3D%3D?line=13'>14</a>\u001b[0m \u001b[39mprint\u001b[39m(\u001b[39m\"\u001b[39m\u001b[39mBefore\u001b[39m\u001b[39m\"\u001b[39m)\n\u001b[0;32m     <a href='vscode-notebook-cell:/c%3A/Users/Administrator/Documents/PIAIC/Python%20Codes/class%208/class8.ipynb#W3sZmlsZQ%3D%3D?line=14'>15</a>\u001b[0m \u001b[39mprint\u001b[39m(data)\n\u001b[1;32m---> <a href='vscode-notebook-cell:/c%3A/Users/Administrator/Documents/PIAIC/Python%20Codes/class%208/class8.ipynb#W3sZmlsZQ%3D%3D?line=15'>16</a>\u001b[0m data\u001b[39m.\u001b[39;49mdelete()\n\u001b[0;32m     <a href='vscode-notebook-cell:/c%3A/Users/Administrator/Documents/PIAIC/Python%20Codes/class%208/class8.ipynb#W3sZmlsZQ%3D%3D?line=16'>17</a>\u001b[0m \u001b[39mprint\u001b[39m(\u001b[39m\"\u001b[39m\u001b[39mAfter\u001b[39m\u001b[39m\"\u001b[39m)\n\u001b[0;32m     <a href='vscode-notebook-cell:/c%3A/Users/Administrator/Documents/PIAIC/Python%20Codes/class%208/class8.ipynb#W3sZmlsZQ%3D%3D?line=17'>18</a>\u001b[0m \u001b[39mprint\u001b[39m(data)\n",
      "\u001b[1;31mAttributeError\u001b[0m: 'dict' object has no attribute 'delete'"
     ]
    }
   ],
   "source": [
    "from typing import Dict, Union, Optional\n",
    "import pprint\n",
    "\n",
    "Key = Union[int, str]  # create custom type\n",
    "Value = Union[str, int, list, Dict, set]\n",
    "\n",
    "data: Dict[Key, Value] = {\n",
    "    \"fname\": \"Ahmad\",\n",
    "    \"lname\": \"Ali\",\n",
    "    \"education\": \"BSCS\",\n",
    "    0: \"Pakistan\",\n",
    "}\n",
    "\n",
    "print(\"Before\")\n",
    "print(data)\n",
    "data.delete()\n",
    "print(\"After\")\n",
    "print(data)"
   ]
  },
  {
   "cell_type": "code",
   "execution_count": 6,
   "metadata": {},
   "outputs": [
    {
     "name": "stdout",
     "output_type": "stream",
     "text": [
      "Before\n",
      "{'fname': 'Ahmad', 'lname': 'Ali', 'education': 'BSCS', 0: 'Pakistan'}\n",
      "BSCS\n",
      "After\n",
      "{'fname': 'Ahmad', 'lname': 'Ali', 0: 'Pakistan'}\n"
     ]
    }
   ],
   "source": [
    "from typing import Dict, Union, Optional\n",
    "import pprint\n",
    "\n",
    "Key = Union[int, str]  # create custom type\n",
    "Value = Union[str, int, list, Dict, set]\n",
    "\n",
    "data: Dict[Key, Value] = {\n",
    "    \"fname\": \"Ahmad\",\n",
    "    \"lname\": \"Ali\",\n",
    "    \"education\": \"BSCS\",\n",
    "    0: \"Pakistan\",\n",
    "}\n",
    "\n",
    "print(\"Before\")\n",
    "print(data)\n",
    "print(data.pop(\"education\"))\n",
    "print(\"After\")\n",
    "print(data)"
   ]
  },
  {
   "cell_type": "code",
   "execution_count": 8,
   "metadata": {},
   "outputs": [
    {
     "name": "stdout",
     "output_type": "stream",
     "text": [
      "Before\n",
      "{'fname': 'Ahmad', 'lname': 'Ali', 'education': 'BSCS', 0: 'Pakistan'}\n",
      "(0, 'Pakistan')\n",
      "After\n",
      "{'fname': 'Ahmad', 'lname': 'Ali', 'education': 'BSCS'}\n"
     ]
    }
   ],
   "source": [
    "from typing import Dict, Union, Optional\n",
    "import pprint\n",
    "\n",
    "Key = Union[int, str]  # create custom type\n",
    "Value = Union[str, int, list, Dict, set]\n",
    "\n",
    "data: Dict[Key, Value] = {\n",
    "    \"fname\": \"Ahmad\",\n",
    "    \"lname\": \"Ali\",\n",
    "    \"education\": \"BSCS\",\n",
    "    0: \"Pakistan\",\n",
    "}\n",
    "\n",
    "print(\"Before\")\n",
    "print(data)\n",
    "print(data.popitem())\n",
    "print(\"After\")\n",
    "print(data)"
   ]
  },
  {
   "cell_type": "code",
   "execution_count": 9,
   "metadata": {},
   "outputs": [
    {
     "name": "stdout",
     "output_type": "stream",
     "text": [
      "Before\n",
      "{'fname': 'Ahmad', 'lname': 'Ali', 'education': 'BSCS', 0: 'Pakistan'}\n",
      "After\n",
      "{'fname': 'Ahmad', 'lname': 'Ali', 'education': 'BSCS', 0: 'Pakistan', 'Pakistan': None}\n"
     ]
    }
   ],
   "source": [
    "from typing import Dict, Union, Optional\n",
    "import pprint\n",
    "\n",
    "Key = Union[int, str]  # create custom type\n",
    "Value = Union[str, int, list, Dict, set]\n",
    "\n",
    "data: Dict[Key, Value] = {\n",
    "    \"fname\": \"Ahmad\",\n",
    "    \"lname\": \"Ali\",\n",
    "    \"education\": \"BSCS\",\n",
    "    0: \"Pakistan\",\n",
    "}\n",
    "\n",
    "print(\"Before\")\n",
    "print(data)\n",
    "\n",
    "a: str = data.setdefault(\"Pakistan\")\n",
    "\n",
    "print(\"After\")\n",
    "print(data)"
   ]
  },
  {
   "cell_type": "code",
   "execution_count": 10,
   "metadata": {},
   "outputs": [
    {
     "name": "stdout",
     "output_type": "stream",
     "text": [
      "Before\n",
      "{'fname': 'Ahmad', 'lname': 'Ali', 'education': 'BSCS', 0: 'Pakistan'}\n",
      "After\n",
      "{'fname': 'Ahmad', 'lname': 'Ali', 'education': 'BSCS', 0: 'Pakistan', 'Pakistan': 'ISB'}\n"
     ]
    }
   ],
   "source": [
    "from typing import Dict, Union, Optional\n",
    "import pprint\n",
    "\n",
    "Key = Union[int, str]  # create custom type\n",
    "Value = Union[str, int, list, Dict, set]\n",
    "\n",
    "data: Dict[Key, Value] = {\n",
    "    \"fname\": \"Ahmad\",\n",
    "    \"lname\": \"Ali\",\n",
    "    \"education\": \"BSCS\",\n",
    "    0: \"Pakistan\",\n",
    "}\n",
    "\n",
    "print(\"Before\")\n",
    "print(data)\n",
    "\n",
    "a: str = data.setdefault(\"Pakistan\", \"ISB\")\n",
    "\n",
    "print(\"After\")\n",
    "print(data)"
   ]
  },
  {
   "cell_type": "code",
   "execution_count": 12,
   "metadata": {},
   "outputs": [
    {
     "data": {
      "text/plain": [
       "{'fname': 'Ahmad',\n",
       " 'lname': 'Ali',\n",
       " 'education': 'BSCS',\n",
       " 0: 'Pakistan',\n",
       " 'age': 30,\n",
       " 'height': '4.1'}"
      ]
     },
     "execution_count": 12,
     "metadata": {},
     "output_type": "execute_result"
    }
   ],
   "source": [
    "Key = Union[int, str]  # create custom type\n",
    "Value = Union[str, int, list, Dict, set]\n",
    "\n",
    "data: Dict[Key, Value] = {\n",
    "    \"fname\": \"Ahmad\",\n",
    "    \"lname\": \"Ali\",\n",
    "    \"education\": \"BSCS\",\n",
    "    0: \"Pakistan\",\n",
    "}\n",
    "\n",
    "\n",
    "data1: Dict[Key, Value] = {\"fname\": \"Ahmad\", \"age\": 30, \"height\": \"4.1\"}\n",
    "\n",
    "data.update(data1)\n",
    "data"
   ]
  },
  {
   "cell_type": "code",
   "execution_count": 13,
   "metadata": {},
   "outputs": [
    {
     "data": {
      "text/html": [
       "<div>\n",
       "<style scoped>\n",
       "    .dataframe tbody tr th:only-of-type {\n",
       "        vertical-align: middle;\n",
       "    }\n",
       "\n",
       "    .dataframe tbody tr th {\n",
       "        vertical-align: top;\n",
       "    }\n",
       "\n",
       "    .dataframe thead th {\n",
       "        text-align: right;\n",
       "    }\n",
       "</style>\n",
       "<table border=\"1\" class=\"dataframe\">\n",
       "  <thead>\n",
       "    <tr style=\"text-align: right;\">\n",
       "      <th></th>\n",
       "      <th>roll no</th>\n",
       "      <th>name</th>\n",
       "      <th>education</th>\n",
       "    </tr>\n",
       "  </thead>\n",
       "  <tbody>\n",
       "    <tr>\n",
       "      <th>0</th>\n",
       "      <td>1</td>\n",
       "      <td>ahmad</td>\n",
       "      <td>bscs</td>\n",
       "    </tr>\n",
       "    <tr>\n",
       "      <th>1</th>\n",
       "      <td>2</td>\n",
       "      <td>ali</td>\n",
       "      <td>mscs</td>\n",
       "    </tr>\n",
       "    <tr>\n",
       "      <th>2</th>\n",
       "      <td>3</td>\n",
       "      <td>qasim</td>\n",
       "      <td>bsai</td>\n",
       "    </tr>\n",
       "  </tbody>\n",
       "</table>\n",
       "</div>"
      ],
      "text/plain": [
       "   roll no   name education\n",
       "0        1  ahmad      bscs\n",
       "1        2    ali      mscs\n",
       "2        3  qasim      bsai"
      ]
     },
     "execution_count": 13,
     "metadata": {},
     "output_type": "execute_result"
    }
   ],
   "source": [
    "import pandas as pd\n",
    "from typing import Any\n",
    "\n",
    "student_data: Dict[str, list[Any]] = {\n",
    "    \"roll no\": [1, 2, 3],\n",
    "    \"name\": [\"ahmad\", \"ali\", \"qasim\"],\n",
    "    \"education\": [\"bscs\", \"mscs\", \"bsai\"],\n",
    "}\n",
    "\n",
    "df: pd.DataFrame = pd.DataFrame(student_data)\n",
    "\n",
    "df"
   ]
  },
  {
   "cell_type": "code",
   "execution_count": 14,
   "metadata": {},
   "outputs": [
    {
     "data": {
      "text/plain": [
       "True"
      ]
     },
     "execution_count": 14,
     "metadata": {},
     "output_type": "execute_result"
    }
   ],
   "source": [
    "\"Ahmad\" in \"\"\"My name is Ahmad and i am a BSCS student\"\"\""
   ]
  },
  {
   "cell_type": "code",
   "execution_count": 15,
   "metadata": {},
   "outputs": [
    {
     "name": "stdout",
     "output_type": "stream",
     "text": [
      "{'color': 'green', 'points': 5}\n",
      "{'color': 'yellow', 'points': 10}\n",
      "{'color': 'blue', 'points': 50}\n"
     ]
    }
   ],
   "source": [
    "alien_0: list[Key, Value] = {\n",
    "    \"color\": \"green\",\n",
    "    \"points\": 5,\n",
    "}\n",
    "alien_1: list[Key, Value] = {\n",
    "    \"color\": \"yellow\",\n",
    "    \"points\": 10,\n",
    "}\n",
    "alien_2: list[Key, Value] = {\n",
    "    \"color\": \"blue\",\n",
    "    \"points\": 50,\n",
    "}\n",
    "\n",
    "\n",
    "aliens: list[Dict[str, str]] = [alien_0, alien_1, alien_2]\n",
    "\n",
    "for alien in aliens:\n",
    "    print(alien)"
   ]
  },
  {
   "cell_type": "code",
   "execution_count": 16,
   "metadata": {},
   "outputs": [
    {
     "name": "stdout",
     "output_type": "stream",
     "text": [
      "[]\n",
      "[{'color': 'green', 'points': 5},\n",
      " {'color': 'green', 'points': 5},\n",
      " {'color': 'green', 'points': 5},\n",
      " {'color': 'green', 'points': 5},\n",
      " {'color': 'green', 'points': 5},\n",
      " {'color': 'green', 'points': 5},\n",
      " {'color': 'green', 'points': 5},\n",
      " {'color': 'green', 'points': 5},\n",
      " {'color': 'green', 'points': 5},\n",
      " {'color': 'green', 'points': 5},\n",
      " {'color': 'green', 'points': 5},\n",
      " {'color': 'green', 'points': 5},\n",
      " {'color': 'green', 'points': 5},\n",
      " {'color': 'green', 'points': 5},\n",
      " {'color': 'green', 'points': 5},\n",
      " {'color': 'green', 'points': 5},\n",
      " {'color': 'green', 'points': 5},\n",
      " {'color': 'green', 'points': 5},\n",
      " {'color': 'green', 'points': 5},\n",
      " {'color': 'green', 'points': 5},\n",
      " {'color': 'green', 'points': 5},\n",
      " {'color': 'green', 'points': 5},\n",
      " {'color': 'green', 'points': 5},\n",
      " {'color': 'green', 'points': 5},\n",
      " {'color': 'green', 'points': 5},\n",
      " {'color': 'green', 'points': 5},\n",
      " {'color': 'green', 'points': 5},\n",
      " {'color': 'green', 'points': 5},\n",
      " {'color': 'green', 'points': 5},\n",
      " {'color': 'green', 'points': 5}]\n"
     ]
    }
   ],
   "source": [
    "import pprint\n",
    "\n",
    "aliens: list[Dict[str, str]] = []\n",
    "print(aliens)\n",
    "for alien_number in range(30):\n",
    "    new_alien = {\n",
    "        \"color\": \"green\",\n",
    "        \"points\": 5,\n",
    "    }\n",
    "    aliens.append(new_alien)\n",
    "\n",
    "pprint.pprint(aliens)"
   ]
  },
  {
   "cell_type": "code",
   "execution_count": 17,
   "metadata": {},
   "outputs": [
    {
     "name": "stdout",
     "output_type": "stream",
     "text": [
      "[{'color': 'green', 'points': 5},\n",
      " {'color': 'green', 'points': 5},\n",
      " {'color': 'green', 'points': 5},\n",
      " {'color': 'green', 'points': 5},\n",
      " {'color': 'green', 'points': 5}]\n"
     ]
    }
   ],
   "source": [
    "pprint.pprint(aliens[:5])"
   ]
  },
  {
   "cell_type": "code",
   "execution_count": 19,
   "metadata": {},
   "outputs": [
    {
     "name": "stdout",
     "output_type": "stream",
     "text": [
      "[{'color': 'blue', 'points': 10},\n",
      " {'color': 'blue', 'points': 10},\n",
      " {'color': 'blue', 'points': 10},\n",
      " {'color': 'green', 'points': 5},\n",
      " {'color': 'green', 'points': 5},\n",
      " {'color': 'green', 'points': 5},\n",
      " {'color': 'green', 'points': 5},\n",
      " {'color': 'green', 'points': 5},\n",
      " {'color': 'green', 'points': 5},\n",
      " {'color': 'green', 'points': 5}]\n"
     ]
    }
   ],
   "source": [
    "for alien in aliens[:3]:\n",
    "    if alien[\"color\"] == \"green\":\n",
    "        alien[\"color\"] = \"blue\"\n",
    "        alien[\"points\"] = 10\n",
    "\n",
    "pprint.pprint(aliens[:10])"
   ]
  },
  {
   "cell_type": "code",
   "execution_count": 20,
   "metadata": {},
   "outputs": [
    {
     "name": "stdout",
     "output_type": "stream",
     "text": [
      "<class 'dict'>\n"
     ]
    }
   ],
   "source": [
    "Key = Union[int, str]  # create custom type\n",
    "Value = Union[str, int, list, Dict, set]\n",
    "\n",
    "data: Dict[Key, Value] = {\n",
    "    \"fname\": \"Ahmad\",\n",
    "    \"lname\": \"Ali\",\n",
    "    \"education\": \"BSCS\",\n",
    "    0: \"Pakistan\",\n",
    "}\n",
    "\n",
    "print(type(data))"
   ]
  },
  {
   "cell_type": "code",
   "execution_count": 22,
   "metadata": {},
   "outputs": [
    {
     "name": "stdout",
     "output_type": "stream",
     "text": [
      "<class 'str'>\n"
     ]
    },
    {
     "data": {
      "text/plain": [
       "'{\\n    \"fname\": \"Ahmad\",\\n    \"lname\": \"Ali\",\\n    \"education\": \"BSCS\",\\n    \"0\": \"Pakistan\"\\n}'"
      ]
     },
     "metadata": {},
     "output_type": "display_data"
    },
    {
     "name": "stdout",
     "output_type": "stream",
     "text": [
      "{\n",
      "    \"fname\": \"Ahmad\",\n",
      "    \"lname\": \"Ali\",\n",
      "    \"education\": \"BSCS\",\n",
      "    \"0\": \"Pakistan\"\n",
      "}\n"
     ]
    }
   ],
   "source": [
    "import json\n",
    "\n",
    "data1 = json.dumps(data, indent=4)\n",
    "\n",
    "print(type(data1))\n",
    "display(data1)\n",
    "print(data1)"
   ]
  }
 ],
 "metadata": {
  "kernelspec": {
   "display_name": "python12",
   "language": "python",
   "name": "python3"
  },
  "language_info": {
   "codemirror_mode": {
    "name": "ipython",
    "version": 3
   },
   "file_extension": ".py",
   "mimetype": "text/x-python",
   "name": "python",
   "nbconvert_exporter": "python",
   "pygments_lexer": "ipython3",
   "version": "3.12.0"
  }
 },
 "nbformat": 4,
 "nbformat_minor": 2
}
