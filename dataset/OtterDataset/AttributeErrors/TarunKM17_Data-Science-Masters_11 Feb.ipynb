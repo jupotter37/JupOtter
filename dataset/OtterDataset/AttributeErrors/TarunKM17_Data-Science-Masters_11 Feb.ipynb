{
 "cells": [
  {
   "cell_type": "markdown",
   "id": "9e5618f9",
   "metadata": {},
   "source": [
    "<H3>Files"
   ]
  },
  {
   "cell_type": "code",
   "execution_count": 1,
   "id": "f476259f",
   "metadata": {},
   "outputs": [],
   "source": [
    "f=open(\"test.txt\",'w')   #A txt file is created in the home of the jupyter notebook"
   ]
  },
  {
   "cell_type": "code",
   "execution_count": 2,
   "id": "59df76d4",
   "metadata": {},
   "outputs": [
    {
     "data": {
      "text/plain": [
       "'C:\\\\Users\\\\WELCOME\\\\Data_Science_Master_Classes'"
      ]
     },
     "execution_count": 2,
     "metadata": {},
     "output_type": "execute_result"
    }
   ],
   "source": [
    "pwd         #This tells the place at which that txt file is present"
   ]
  },
  {
   "cell_type": "code",
   "execution_count": 3,
   "id": "f24ffc7c",
   "metadata": {},
   "outputs": [
    {
     "name": "stdout",
     "output_type": "stream",
     "text": [
      " Volume in drive C is Windows\n",
      " Volume Serial Number is 66C5-B39B\n",
      "\n",
      " Directory of C:\\Users\\WELCOME\\Data_Science_Master_Classes\n",
      "\n",
      "04-07-2023  11:04 PM    <DIR>          .\n",
      "04-07-2023  10:07 PM    <DIR>          ..\n",
      "04-07-2023  10:59 PM    <DIR>          .ipynb_checkpoints\n",
      "04-07-2023  10:03 PM            43,012 1 Feb.ipynb\n",
      "04-07-2023  10:03 PM            49,374 10 Feb.ipynb\n",
      "04-07-2023  11:04 PM             8,594 11 Feb.ipynb\n",
      "04-07-2023  10:03 PM            59,085 2 Feb.ipynb\n",
      "04-07-2023  10:00 PM            12,168 29 Jan.ipynb\n",
      "04-07-2023  10:03 PM            26,973 3 Feb.ipynb\n",
      "04-07-2023  10:03 PM            21,742 30 Jan.ipynb\n",
      "04-07-2023  10:03 PM            35,288 31 Jan.ipynb\n",
      "04-07-2023  10:03 PM            18,642 4 Feb.ipynb\n",
      "04-07-2023  10:03 PM            10,388 5 Feb.ipynb\n",
      "04-07-2023  10:03 PM            26,591 8 Feb.ipynb\n",
      "04-07-2023  11:02 PM                 0 test.txt\n",
      "              12 File(s)        311,857 bytes\n",
      "               3 Dir(s)  41,515,401,216 bytes free\n"
     ]
    }
   ],
   "source": [
    "ls   #This will show name of every files present in the above directory"
   ]
  },
  {
   "cell_type": "code",
   "execution_count": 4,
   "id": "0e378c34",
   "metadata": {},
   "outputs": [
    {
     "data": {
      "text/plain": [
       "34"
      ]
     },
     "execution_count": 4,
     "metadata": {},
     "output_type": "execute_result"
    }
   ],
   "source": [
    "f.write(\"This is my first write in the file\")\n",
    "#It displays the amount of bytes "
   ]
  },
  {
   "cell_type": "markdown",
   "id": "199c372b",
   "metadata": {},
   "source": [
    "After write function still the file is blank as we have to close the file after writing something to display the content"
   ]
  },
  {
   "cell_type": "code",
   "execution_count": 5,
   "id": "3d1544b9",
   "metadata": {},
   "outputs": [],
   "source": [
    "f.close()  #Now the written statement will be displayed in the file "
   ]
  },
  {
   "cell_type": "code",
   "execution_count": null,
   "id": "86c8362b",
   "metadata": {},
   "outputs": [],
   "source": [
    "#Now if again open the file write something and close the file then....."
   ]
  },
  {
   "cell_type": "code",
   "execution_count": 45,
   "id": "7c378c7d",
   "metadata": {},
   "outputs": [],
   "source": [
    "f=open(\"test.txt\",'w')"
   ]
  },
  {
   "cell_type": "code",
   "execution_count": 46,
   "id": "2cb5eaea",
   "metadata": {},
   "outputs": [
    {
     "data": {
      "text/plain": [
       "719"
      ]
     },
     "execution_count": 46,
     "metadata": {},
     "output_type": "execute_result"
    }
   ],
   "source": [
    "f.write(\"Data Science Masters course is highly curated and uniquely designed according to the latest industry standards. This program instills students the skills essential to knowledge discovery efforts to identify standard, novel, and truly differentiated solutions and decision-making, including skills in managing, querying, analyzing, visualizing, and extracting meaning from extremely large data sets. This trending program provides students with the statistical, mathematical and computational skills needed to meet the large-scale data science challenges of today's professional world. You will learn all the stack required to work in data science industry including cloud infrastructure and real-time industry projects.\")"
   ]
  },
  {
   "cell_type": "code",
   "execution_count": 47,
   "id": "c5293230",
   "metadata": {},
   "outputs": [],
   "source": [
    "f.close()   #Now we observe that our previous data has gone and new line are appered in the file \n",
    "#This is because the write mode we have to use the append mode"
   ]
  },
  {
   "cell_type": "code",
   "execution_count": 48,
   "id": "00ff5ee8",
   "metadata": {},
   "outputs": [],
   "source": [
    "f=open(\"test.txt\",'a')"
   ]
  },
  {
   "cell_type": "code",
   "execution_count": 49,
   "id": "2b355cac",
   "metadata": {},
   "outputs": [
    {
     "data": {
      "text/plain": [
       "719"
      ]
     },
     "execution_count": 49,
     "metadata": {},
     "output_type": "execute_result"
    }
   ],
   "source": [
    "f.write(\"Data Science Masters course is highly curated and uniquely designed according to the latest industry standards. This program instills students the skills essential to knowledge discovery efforts to identify standard, novel, and truly differentiated solutions and decision-making, including skills in managing, querying, analyzing, visualizing, and extracting meaning from extremely large data sets. This trending program provides students with the statistical, mathematical and computational skills needed to meet the large-scale data science challenges of today's professional world. You will learn all the stack required to work in data science industry including cloud infrastructure and real-time industry projects.\")"
   ]
  },
  {
   "cell_type": "code",
   "execution_count": 50,
   "id": "52d2da05",
   "metadata": {},
   "outputs": [],
   "source": [
    "f.close()   #previous data remains at its place"
   ]
  },
  {
   "cell_type": "code",
   "execution_count": 15,
   "id": "1ed9fa94",
   "metadata": {},
   "outputs": [],
   "source": [
    "#Now the read mode\n",
    "f=open(\"test.txt\",'r')"
   ]
  },
  {
   "cell_type": "code",
   "execution_count": 17,
   "id": "fb1f3186",
   "metadata": {},
   "outputs": [
    {
     "data": {
      "text/plain": [
       "\"Data Science Masters course is highly curated and uniquely designed according to the latest industry standards. This program instills students the skills essential to knowledge discovery efforts to identify standard, novel, and truly differentiated solutions and decision-making, including skills in managing, querying, analyzing, visualizing, and extracting meaning from extremely large data sets. This trending program provides students with the statistical, mathematical and computational skills needed to meet the large-scale data science challenges of today's professional world. You will learn all the stack required to work in data science industry including cloud infrastructure and real-time industry projects.Data Science Masters course is highly curated and uniquely designed according to the latest industry standards. This program instills students the skills essential to knowledge discovery efforts to identify standard, novel, and truly differentiated solutions and decision-making, including skills in managing, querying, analyzing, visualizing, and extracting meaning from extremely large data sets. This trending program provides students with the statistical, mathematical and computational skills needed to meet the large-scale data science challenges of today's professional world. You will learn all the stack required to work in data science industry including cloud infrastructure and real-time industry projects.\""
      ]
     },
     "execution_count": 17,
     "metadata": {},
     "output_type": "execute_result"
    }
   ],
   "source": [
    "f.read()  #It will show all the content written in the file"
   ]
  },
  {
   "cell_type": "code",
   "execution_count": 18,
   "id": "b470b3a9",
   "metadata": {},
   "outputs": [
    {
     "data": {
      "text/plain": [
       "''"
      ]
     },
     "execution_count": 18,
     "metadata": {},
     "output_type": "execute_result"
    }
   ],
   "source": [
    "f.read()   \n",
    "#Now it is showing blank because whenever we call read function then a cursor from the startin place\n",
    "#is reads till end \n",
    "#If we again call read then it will show blank(cursor is at end)"
   ]
  },
  {
   "cell_type": "code",
   "execution_count": 20,
   "id": "08fef339",
   "metadata": {},
   "outputs": [
    {
     "data": {
      "text/plain": [
       "0"
      ]
     },
     "execution_count": 20,
     "metadata": {},
     "output_type": "execute_result"
    }
   ],
   "source": [
    "#How to reset our cursor now?\n",
    "f.seek(0) #We can set our cursor at any index using seek function"
   ]
  },
  {
   "cell_type": "code",
   "execution_count": 21,
   "id": "6be863bd",
   "metadata": {},
   "outputs": [
    {
     "data": {
      "text/plain": [
       "\"Data Science Masters course is highly curated and uniquely designed according to the latest industry standards. This program instills students the skills essential to knowledge discovery efforts to identify standard, novel, and truly differentiated solutions and decision-making, including skills in managing, querying, analyzing, visualizing, and extracting meaning from extremely large data sets. This trending program provides students with the statistical, mathematical and computational skills needed to meet the large-scale data science challenges of today's professional world. You will learn all the stack required to work in data science industry including cloud infrastructure and real-time industry projects.Data Science Masters course is highly curated and uniquely designed according to the latest industry standards. This program instills students the skills essential to knowledge discovery efforts to identify standard, novel, and truly differentiated solutions and decision-making, including skills in managing, querying, analyzing, visualizing, and extracting meaning from extremely large data sets. This trending program provides students with the statistical, mathematical and computational skills needed to meet the large-scale data science challenges of today's professional world. You will learn all the stack required to work in data science industry including cloud infrastructure and real-time industry projects.\""
      ]
     },
     "execution_count": 21,
     "metadata": {},
     "output_type": "execute_result"
    }
   ],
   "source": [
    "f.read()"
   ]
  },
  {
   "cell_type": "code",
   "execution_count": 22,
   "id": "dc178b22",
   "metadata": {},
   "outputs": [],
   "source": [
    "#How to determine the file size\n",
    "import os"
   ]
  },
  {
   "cell_type": "code",
   "execution_count": 23,
   "id": "5097118e",
   "metadata": {},
   "outputs": [
    {
     "data": {
      "text/plain": [
       "1438"
      ]
     },
     "execution_count": 23,
     "metadata": {},
     "output_type": "execute_result"
    }
   ],
   "source": [
    "os.path.getsize(\"test.txt\")   #size in kb"
   ]
  },
  {
   "cell_type": "code",
   "execution_count": 24,
   "id": "eaf77024",
   "metadata": {},
   "outputs": [],
   "source": [
    "#How to copy the file\n",
    "import shutil"
   ]
  },
  {
   "cell_type": "code",
   "execution_count": 25,
   "id": "0c584795",
   "metadata": {},
   "outputs": [
    {
     "data": {
      "text/plain": [
       "'new_test.txt'"
      ]
     },
     "execution_count": 25,
     "metadata": {},
     "output_type": "execute_result"
    }
   ],
   "source": [
    "shutil.copy(\"test.txt\",\"new_test.txt\")"
   ]
  },
  {
   "cell_type": "code",
   "execution_count": 26,
   "id": "a6da1ceb",
   "metadata": {},
   "outputs": [],
   "source": [
    "#How to delete the file \n",
    "os.remove(\"new_test.txt\")  #the file gone now"
   ]
  },
  {
   "cell_type": "code",
   "execution_count": 33,
   "id": "f2a12c89",
   "metadata": {},
   "outputs": [
    {
     "name": "stdout",
     "output_type": "stream",
     "text": [
      "Data Science Masters course is highly curated and uniquely designed according to the latest industry standards. This program instills students the skills essential to knowledge discovery efforts to identify standard, novel, and truly differentiated solutions and decision-making, including skills in managing, querying, analyzing, visualizing, and extracting meaning from extremely large data sets. This trending program provides students with the statistical, mathematical and computational skills needed to meet the large-scale data science challenges of today's professional world. You will learn all the stack required to work in data science industry including cloud infrastructure and real-time industry projects.Data Science Masters course is highly curated and uniquely designed according to the latest industry standards. This program instills students the skills essential to knowledge discovery efforts to identify standard, novel, and truly differentiated solutions and decision-making, including skills in managing, querying, analyzing, visualizing, and extracting meaning from extremely large data sets. This trending program provides students with the statistical, mathematical and computational skills needed to meet the large-scale data science challenges of today's professional world. You will learn all the stack required to work in data science industry including cloud infrastructure and real-time industry projects.\n"
     ]
    }
   ],
   "source": [
    "#How to open a file in different way\n",
    "with open (\"test.txt\",'r') as f:\n",
    "    print(f.read())"
   ]
  },
  {
   "cell_type": "code",
   "execution_count": 34,
   "id": "70f49fb2",
   "metadata": {},
   "outputs": [],
   "source": [
    "f.close()"
   ]
  },
  {
   "cell_type": "code",
   "execution_count": 39,
   "id": "ab24a79a",
   "metadata": {},
   "outputs": [
    {
     "ename": "PermissionError",
     "evalue": "[WinError 32] The process cannot access the file because it is being used by another process: 'test.txt' -> 'test1.txt'",
     "output_type": "error",
     "traceback": [
      "\u001b[1;31m---------------------------------------------------------------------------\u001b[0m",
      "\u001b[1;31mPermissionError\u001b[0m                           Traceback (most recent call last)",
      "Cell \u001b[1;32mIn[39], line 2\u001b[0m\n\u001b[0;32m      1\u001b[0m \u001b[38;5;66;03m#How to rename a file\u001b[39;00m\n\u001b[1;32m----> 2\u001b[0m \u001b[43mos\u001b[49m\u001b[38;5;241;43m.\u001b[39;49m\u001b[43mrename\u001b[49m\u001b[43m(\u001b[49m\u001b[38;5;124;43m\"\u001b[39;49m\u001b[38;5;124;43mtest.txt\u001b[39;49m\u001b[38;5;124;43m\"\u001b[39;49m\u001b[43m,\u001b[49m\u001b[38;5;124;43m\"\u001b[39;49m\u001b[38;5;124;43mtest1.txt\u001b[39;49m\u001b[38;5;124;43m\"\u001b[39;49m\u001b[43m)\u001b[49m\n",
      "\u001b[1;31mPermissionError\u001b[0m: [WinError 32] The process cannot access the file because it is being used by another process: 'test.txt' -> 'test1.txt'"
     ]
    }
   ],
   "source": [
    "#How to rename a file\n",
    "os.rename(\"test.txt\",\"test1.txt\")"
   ]
  },
  {
   "cell_type": "markdown",
   "id": "6d142767",
   "metadata": {},
   "source": [
    "<H4> Reading and Writing operation"
   ]
  },
  {
   "cell_type": "code",
   "execution_count": 43,
   "id": "5eeb7f34",
   "metadata": {},
   "outputs": [],
   "source": [
    "#create dictionery\n",
    "data={\n",
    "    \"name\":\"deepa\",\n",
    "    \"mail\":\"deepagupta35795@gmail.com\",\n",
    "    \"number\":8763483,\n",
    "    \"course\":[\"Web development\",\"Datascience\"]\n",
    "}"
   ]
  },
  {
   "cell_type": "markdown",
   "id": "abb3b803",
   "metadata": {},
   "source": [
    "JSON:Java Script Object Notation  (it is another file format which is used largely in industries for transfering the data from one application to another application)"
   ]
  },
  {
   "cell_type": "code",
   "execution_count": 41,
   "id": "77414958",
   "metadata": {},
   "outputs": [],
   "source": [
    "#How to write this data in some file using some write operation\n",
    "#This dictionery data is equivalent to json data(it also consists data in form of key and value pair)\n",
    "import json"
   ]
  },
  {
   "cell_type": "code",
   "execution_count": 51,
   "id": "f9e28079",
   "metadata": {},
   "outputs": [],
   "source": [
    "with open(\"test.json\",\"w\") as f:   #Writing dictionery data in json file\n",
    "    json.dump(data,f)"
   ]
  },
  {
   "cell_type": "code",
   "execution_count": 53,
   "id": "5d1ad9fe",
   "metadata": {},
   "outputs": [],
   "source": [
    "#Read operation\n",
    "with open(\"test.json\",\"r\") as f:\n",
    "    data1=json.load(f)"
   ]
  },
  {
   "cell_type": "code",
   "execution_count": 54,
   "id": "fd0b8eba",
   "metadata": {},
   "outputs": [
    {
     "data": {
      "text/plain": [
       "{'name': 'deepa',\n",
       " 'mail': 'deepagupta35795@gmail.com',\n",
       " 'number': 8763483,\n",
       " 'course': ['Web development', 'Datascience']}"
      ]
     },
     "execution_count": 54,
     "metadata": {},
     "output_type": "execute_result"
    }
   ],
   "source": [
    "data1"
   ]
  },
  {
   "cell_type": "code",
   "execution_count": 56,
   "id": "70e2f62e",
   "metadata": {},
   "outputs": [
    {
     "data": {
      "text/plain": [
       "['Web development', 'Datascience']"
      ]
     },
     "execution_count": 56,
     "metadata": {},
     "output_type": "execute_result"
    }
   ],
   "source": [
    "data1['course']"
   ]
  },
  {
   "cell_type": "code",
   "execution_count": 57,
   "id": "d18c3872",
   "metadata": {},
   "outputs": [
    {
     "data": {
      "text/plain": [
       "'Datascience'"
      ]
     },
     "execution_count": 57,
     "metadata": {},
     "output_type": "execute_result"
    }
   ],
   "source": [
    "data1['course'][1]"
   ]
  },
  {
   "cell_type": "code",
   "execution_count": null,
   "id": "c32e9d7c",
   "metadata": {},
   "outputs": [],
   "source": [
    "#Now perform read and write operation on comma separated data"
   ]
  },
  {
   "cell_type": "code",
   "execution_count": 59,
   "id": "ab046bd3",
   "metadata": {},
   "outputs": [],
   "source": [
    "data=[\n",
    "    [\"name\",\"Email\",\"number\"],\n",
    "    [\"Sudh\",\"sudh@87gmail.com\",75863465],\n",
    "    [\"Deepa\",\"depagupta3864@gmail.com\",9845725]\n",
    "]"
   ]
  },
  {
   "cell_type": "code",
   "execution_count": 60,
   "id": "97deb2d8",
   "metadata": {},
   "outputs": [],
   "source": [
    "import csv"
   ]
  },
  {
   "cell_type": "code",
   "execution_count": 61,
   "id": "4c7f91a5",
   "metadata": {},
   "outputs": [],
   "source": [
    "with open(\"test.csv\",\"w\") as f:\n",
    "    w=csv.writer(f)\n",
    "    for i in data:\n",
    "        w.writerow(i)"
   ]
  },
  {
   "cell_type": "code",
   "execution_count": 62,
   "id": "2a91f1b6",
   "metadata": {},
   "outputs": [
    {
     "name": "stdout",
     "output_type": "stream",
     "text": [
      "['name', 'Email', 'number']\n",
      "[]\n",
      "['Sudh', 'sudh@87gmail.com', '75863465']\n",
      "[]\n",
      "['Deepa', 'depagupta3864@gmail.com', '9845725']\n",
      "[]\n"
     ]
    }
   ],
   "source": [
    "with open(\"test.csv\",\"r\") as f:\n",
    "    r=csv.reader(f)\n",
    "    for i in r:\n",
    "        print(i)"
   ]
  },
  {
   "cell_type": "code",
   "execution_count": null,
   "id": "ce3d0775",
   "metadata": {},
   "outputs": [],
   "source": [
    "#Now read and write operation on binary data \n",
    "#Binary kind of data is present in the form of audio ,video and images"
   ]
  },
  {
   "cell_type": "code",
   "execution_count": 63,
   "id": "00411202",
   "metadata": {},
   "outputs": [],
   "source": [
    "with open(\"test.bin\",\"wb\") as f:   #write operation\n",
    "    f.write(b\"\\x01\\x02\\x03\")"
   ]
  },
  {
   "cell_type": "code",
   "execution_count": 65,
   "id": "a1c8fa47",
   "metadata": {},
   "outputs": [
    {
     "name": "stdout",
     "output_type": "stream",
     "text": [
      "b'\\x01\\x02\\x03'\n"
     ]
    }
   ],
   "source": [
    "with open(\"test.bin\",\"rb\") as f:    #read operation\n",
    "    print(f.read())"
   ]
  },
  {
   "cell_type": "markdown",
   "id": "d8bd60eb",
   "metadata": {},
   "source": [
    "<h4>Buffer read and write and some other operarion "
   ]
  },
  {
   "cell_type": "code",
   "execution_count": null,
   "id": "f641f16d",
   "metadata": {},
   "outputs": [],
   "source": [
    "#If we have a very large file than we cant perform read operation .What's the solution then?\n",
    "#Solution is then we have to read the file in chunks (small small pieces)\n",
    "#This is done by buffer read and write"
   ]
  },
  {
   "cell_type": "code",
   "execution_count": 66,
   "id": "5d44d8ec",
   "metadata": {},
   "outputs": [],
   "source": [
    "import io"
   ]
  },
  {
   "cell_type": "code",
   "execution_count": 71,
   "id": "c1604fca",
   "metadata": {},
   "outputs": [],
   "source": [
    "#We aan set the size of byte (chunks) for the buffer writer\n",
    "with open(\"test.txt\",\"wb\") as f:\n",
    "    file=io.BufferedWriter(f)\n",
    "    file.write(b\"Data Science Masters course is highly curated and uniquely designed according to the latest industry standards. This program instills students the skills essential to knowledge discovery efforts to identify standard, novel, and truly differentiated solutions and decision-making, including skills in managing, querying, analyzing, visualizing, and extracting meaning from extremely large data sets. This trending program provides students with the statistical, mathematical and computational skills needed to meet the large-scale data science challenges of today's professional world. You will learn all the stack required to work in data science industry including cloud infrastructure and real-time industry projects.\\n\")\n",
    "    file.write(b\"This is the second line which i'm writing\")\n",
    "    file.flush()"
   ]
  },
  {
   "cell_type": "code",
   "execution_count": 73,
   "id": "32f98cee",
   "metadata": {},
   "outputs": [
    {
     "name": "stdout",
     "output_type": "stream",
     "text": [
      "b'Data Science Masters course is highly curated and uniquely designed according to the latest industry'\n"
     ]
    }
   ],
   "source": [
    "with open(\"test.txt\",\"rb\") as f:\n",
    "    file=io.BufferedReader(f)\n",
    "    data=file.read(100)  #we can specifies the limit till read\n",
    "    print(data)          #we can control our data (or read only chunks)"
   ]
  },
  {
   "cell_type": "markdown",
   "id": "5bc8f794",
   "metadata": {},
   "source": [
    "<H4>Logging Debugger"
   ]
  },
  {
   "cell_type": "markdown",
   "id": "414fb966",
   "metadata": {},
   "source": [
    "In print statement we can't identify the bug ,incorrect statement.In industries we don't prefer to use print statement because of this reason.To avoid this there is a concept of logging.\n",
    "\n",
    "Print statement always try to print something inside the console and whenever the machine shutdowns everything gone.\n",
    "\n",
    "So we need a storage to store everything "
   ]
  },
  {
   "cell_type": "code",
   "execution_count": 34,
   "id": "e849fe98",
   "metadata": {},
   "outputs": [],
   "source": [
    "import logging"
   ]
  },
  {
   "cell_type": "code",
   "execution_count": 4,
   "id": "777e7311",
   "metadata": {},
   "outputs": [],
   "source": [
    "#we need a file to log everything inside it for its storage\n",
    "logging.basicConfig(filename=\"test.log\",level=logging.INFO)"
   ]
  },
  {
   "cell_type": "code",
   "execution_count": 5,
   "id": "a8cbe896",
   "metadata": {},
   "outputs": [],
   "source": [
    "logging.info(\"This is my first line of execution\")"
   ]
  },
  {
   "cell_type": "code",
   "execution_count": 6,
   "id": "4809ba42",
   "metadata": {},
   "outputs": [],
   "source": [
    "logging.error(\"This is my error\")"
   ]
  },
  {
   "cell_type": "code",
   "execution_count": 7,
   "id": "4995d9e6",
   "metadata": {},
   "outputs": [],
   "source": [
    "logging.critical(\"This is my critical\")"
   ]
  },
  {
   "cell_type": "code",
   "execution_count": null,
   "id": "09aee311",
   "metadata": {},
   "outputs": [],
   "source": [
    "#Hierarchy of level\n",
    "1) NOSET\n",
    "2) DEBUG #If level is set to 1 level(info) then we can only login the levels below it(Warn,err,critic)\n",
    "3) INFO     \n",
    "4) WARNING\n",
    "5) ERROR\n",
    "6) CRITICAL"
   ]
  },
  {
   "cell_type": "code",
   "execution_count": 8,
   "id": "57c233b2",
   "metadata": {},
   "outputs": [],
   "source": [
    "logging.warning(\"This is my warning\")   #This will get logging"
   ]
  },
  {
   "cell_type": "code",
   "execution_count": 9,
   "id": "a5ddd142",
   "metadata": {},
   "outputs": [
    {
     "ename": "AttributeError",
     "evalue": "module 'logging' has no attribute 'noset'",
     "output_type": "error",
     "traceback": [
      "\u001b[1;31m---------------------------------------------------------------------------\u001b[0m",
      "\u001b[1;31mAttributeError\u001b[0m                            Traceback (most recent call last)",
      "Cell \u001b[1;32mIn[9], line 1\u001b[0m\n\u001b[1;32m----> 1\u001b[0m \u001b[43mlogging\u001b[49m\u001b[38;5;241;43m.\u001b[39;49m\u001b[43mnoset\u001b[49m(\u001b[38;5;124m\"\u001b[39m\u001b[38;5;124mThis is my noset\u001b[39m\u001b[38;5;124m\"\u001b[39m)       \u001b[38;5;66;03m#This will not get logging\u001b[39;00m\n",
      "\u001b[1;31mAttributeError\u001b[0m: module 'logging' has no attribute 'noset'"
     ]
    }
   ],
   "source": [
    "logging.noset(\"This is my noset\")       #This will not get logging"
   ]
  },
  {
   "cell_type": "code",
   "execution_count": 25,
   "id": "52e8c300",
   "metadata": {},
   "outputs": [],
   "source": [
    "#Stop logging in this particular file\n",
    "logging.shutdown()"
   ]
  },
  {
   "cell_type": "code",
   "execution_count": 31,
   "id": "6c3a51d6",
   "metadata": {},
   "outputs": [],
   "source": [
    "logging.basicConfig(filename=\"test1.log\",level=logging.DEBUG,format='%(asctime)s %(message)s') \n",
    "#set pattern to login time as well as message\n",
    "#Storing the system time  (% is placeholder ,s is string)"
   ]
  },
  {
   "cell_type": "code",
   "execution_count": 26,
   "id": "d7e82528",
   "metadata": {},
   "outputs": [],
   "source": [
    "logging.info(\"This is my info log\")"
   ]
  },
  {
   "cell_type": "code",
   "execution_count": 29,
   "id": "42995684",
   "metadata": {},
   "outputs": [],
   "source": [
    "logging.debug(\"This is my debug\")"
   ]
  },
  {
   "cell_type": "code",
   "execution_count": null,
   "id": "5f3a3bf8",
   "metadata": {},
   "outputs": [],
   "source": [
    "#We have log the data and time of log above\n",
    "#now log the name of the generating system as well "
   ]
  },
  {
   "cell_type": "code",
   "execution_count": 32,
   "id": "2b48d34f",
   "metadata": {},
   "outputs": [],
   "source": [
    "logging.shutdown()"
   ]
  },
  {
   "cell_type": "code",
   "execution_count": 35,
   "id": "010fdb8f",
   "metadata": {},
   "outputs": [],
   "source": [
    "#level name and system name added\n",
    "logging.basicConfig(filename=\"show.log\",level=logging.DEBUG,format='%(asctime)s %(name)s %(levelname)s %(message)s') "
   ]
  },
  {
   "cell_type": "code",
   "execution_count": 36,
   "id": "d9fb6080",
   "metadata": {},
   "outputs": [],
   "source": [
    "logging.info(\"This is me\")"
   ]
  },
  {
   "cell_type": "code",
   "execution_count": 38,
   "id": "bdaf0c56",
   "metadata": {},
   "outputs": [],
   "source": [
    "#Now \n",
    "list1=[1,2,3,4,[4,5,6],\"sudh\",\"krish\"]"
   ]
  },
  {
   "cell_type": "code",
   "execution_count": null,
   "id": "c689498b",
   "metadata": {},
   "outputs": [],
   "source": [
    "#Create 2 different list using this list (one list having number, another list having string)"
   ]
  },
  {
   "cell_type": "code",
   "execution_count": 52,
   "id": "9e8de888",
   "metadata": {},
   "outputs": [],
   "source": [
    "#Using this login we can determine how the program is moving\n",
    "list_int=[]\n",
    "list_str=[]\n",
    "for i in list1:\n",
    "    logging.info(\"This is the start of my first for loop {}\".format(list1))\n",
    "    logging.info(\"This value of i is {} during logging \".format(i))\n",
    "    if type(i)==list:\n",
    "        for j in i:\n",
    "            logging.info(\"Logging my j is {j} and i is {i}\".format(j=j,i=i))\n",
    "            if type(j)==int:\n",
    "                list_int.append(j)\n",
    "    elif type(i)==int:\n",
    "        list_int.append(i)\n",
    "    else:\n",
    "        list_str.append(i)\n",
    "logging.info(\"My final result as int_list is {l1} and str_list is {l2}\".format(l1=list_int,l2=list_str))"
   ]
  },
  {
   "cell_type": "code",
   "execution_count": 46,
   "id": "04d9187e",
   "metadata": {},
   "outputs": [
    {
     "data": {
      "text/plain": [
       "[1, 2, 3, 4, 4, 5, 6]"
      ]
     },
     "execution_count": 46,
     "metadata": {},
     "output_type": "execute_result"
    }
   ],
   "source": [
    "list_int"
   ]
  },
  {
   "cell_type": "code",
   "execution_count": 47,
   "id": "a6ab5ec9",
   "metadata": {},
   "outputs": [
    {
     "data": {
      "text/plain": [
       "['sudh', 'krish']"
      ]
     },
     "execution_count": 47,
     "metadata": {},
     "output_type": "execute_result"
    }
   ],
   "source": [
    "list_str"
   ]
  },
  {
   "cell_type": "code",
   "execution_count": null,
   "id": "b4162493",
   "metadata": {},
   "outputs": [],
   "source": [
    "#Module and import statement is in VS Code   (next topic)"
   ]
  }
 ],
 "metadata": {
  "kernelspec": {
   "display_name": "Python 3 (ipykernel)",
   "language": "python",
   "name": "python3"
  },
  "language_info": {
   "codemirror_mode": {
    "name": "ipython",
    "version": 3
   },
   "file_extension": ".py",
   "mimetype": "text/x-python",
   "name": "python",
   "nbconvert_exporter": "python",
   "pygments_lexer": "ipython3",
   "version": "3.11.5"
  }
 },
 "nbformat": 4,
 "nbformat_minor": 5
}
