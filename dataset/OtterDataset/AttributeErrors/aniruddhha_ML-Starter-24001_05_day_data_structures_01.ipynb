{
  "nbformat": 4,
  "nbformat_minor": 0,
  "metadata": {
    "colab": {
      "provenance": []
    },
    "kernelspec": {
      "name": "python3",
      "display_name": "Python 3"
    },
    "language_info": {
      "name": "python"
    }
  },
  "cells": [
    {
      "cell_type": "markdown",
      "source": [
        "# List\n",
        "List is mutable"
      ],
      "metadata": {
        "id": "N_eSgcW6xM2X"
      }
    },
    {
      "cell_type": "code",
      "execution_count": 18,
      "metadata": {
        "colab": {
          "base_uri": "https://localhost:8080/"
        },
        "id": "BtfzgzABv21A",
        "outputId": "ebc8a664-c95d-475f-d3e7-1840912d0bbd"
      },
      "outputs": [
        {
          "output_type": "stream",
          "name": "stdout",
          "text": [
            "[1, 2, 3, 10, 12, 1, 2, 3]\n",
            "1\n"
          ]
        }
      ],
      "source": [
        "nums= [1, 2, 3, 10, 12, 1, 2, 3] # list of numbers\n",
        "\n",
        "print(nums)\n",
        "# lists are indexed\n",
        "print(nums[0])"
      ]
    },
    {
      "cell_type": "code",
      "source": [
        "print(nums)\n",
        "nums.append(78)\n",
        "print(nums)"
      ],
      "metadata": {
        "colab": {
          "base_uri": "https://localhost:8080/"
        },
        "id": "AQo2w2nLyYs9",
        "outputId": "42254e94-2718-471c-c9d8-5951f888da40"
      },
      "execution_count": 4,
      "outputs": [
        {
          "output_type": "stream",
          "name": "stdout",
          "text": [
            "[1, 2, 3, 10, 12, 99]\n",
            "[1, 2, 3, 10, 12, 99, 78]\n"
          ]
        }
      ]
    },
    {
      "cell_type": "code",
      "source": [
        "print(nums)\n",
        "nums[1] = 898\n",
        "print(nums)"
      ],
      "metadata": {
        "colab": {
          "base_uri": "https://localhost:8080/"
        },
        "id": "3JF2r-Hty8oq",
        "outputId": "5d252b63-0fdc-4945-e48c-627c6b690c66"
      },
      "execution_count": 9,
      "outputs": [
        {
          "output_type": "stream",
          "name": "stdout",
          "text": [
            "[1, 2, 3, 10, 12, 99, 78]\n",
            "[1, 898, 3, 10, 12, 99, 78]\n"
          ]
        }
      ]
    },
    {
      "cell_type": "markdown",
      "source": [
        "# Tuple"
      ],
      "metadata": {
        "id": "z-opLngYxQJx"
      }
    },
    {
      "cell_type": "code",
      "source": [
        "tup = (1, 34, 2, 78, 99, 1, 2) # tuple of numbers"
      ],
      "metadata": {
        "id": "sCsAtmpWxPOS"
      },
      "execution_count": 19,
      "outputs": []
    },
    {
      "cell_type": "code",
      "source": [
        "print(tup[0])\n",
        "\n",
        "tup.append(88) # there no function called append in tuple"
      ],
      "metadata": {
        "colab": {
          "base_uri": "https://localhost:8080/",
          "height": 198
        },
        "id": "5GBlEr0dysTX",
        "outputId": "0c0fa180-8644-4046-ecae-55df1f5e1bdb"
      },
      "execution_count": 11,
      "outputs": [
        {
          "output_type": "stream",
          "name": "stdout",
          "text": [
            "1\n"
          ]
        },
        {
          "output_type": "error",
          "ename": "AttributeError",
          "evalue": "'tuple' object has no attribute 'append'",
          "traceback": [
            "\u001b[0;31m---------------------------------------------------------------------------\u001b[0m",
            "\u001b[0;31mAttributeError\u001b[0m                            Traceback (most recent call last)",
            "\u001b[0;32m<ipython-input-11-2727fc7626fd>\u001b[0m in \u001b[0;36m<cell line: 3>\u001b[0;34m()\u001b[0m\n\u001b[1;32m      1\u001b[0m \u001b[0mprint\u001b[0m\u001b[0;34m(\u001b[0m\u001b[0mtup\u001b[0m\u001b[0;34m[\u001b[0m\u001b[0;36m0\u001b[0m\u001b[0;34m]\u001b[0m\u001b[0;34m)\u001b[0m\u001b[0;34m\u001b[0m\u001b[0;34m\u001b[0m\u001b[0m\n\u001b[1;32m      2\u001b[0m \u001b[0;34m\u001b[0m\u001b[0m\n\u001b[0;32m----> 3\u001b[0;31m \u001b[0mtup\u001b[0m\u001b[0;34m.\u001b[0m\u001b[0mappend\u001b[0m\u001b[0;34m(\u001b[0m\u001b[0;36m88\u001b[0m\u001b[0;34m)\u001b[0m \u001b[0;31m# there no function called append in tuple\u001b[0m\u001b[0;34m\u001b[0m\u001b[0;34m\u001b[0m\u001b[0m\n\u001b[0m",
            "\u001b[0;31mAttributeError\u001b[0m: 'tuple' object has no attribute 'append'"
          ]
        }
      ]
    },
    {
      "cell_type": "code",
      "source": [
        "print(tup)\n",
        "tup[1] = 654\n",
        "print(tup)"
      ],
      "metadata": {
        "colab": {
          "base_uri": "https://localhost:8080/",
          "height": 198
        },
        "id": "QdO4PYejzRDs",
        "outputId": "9ab2d497-0319-4cf4-cd0f-f802e46c2eef"
      },
      "execution_count": 12,
      "outputs": [
        {
          "output_type": "stream",
          "name": "stdout",
          "text": [
            "(1, 34, 2, 78, 99)\n"
          ]
        },
        {
          "output_type": "error",
          "ename": "TypeError",
          "evalue": "'tuple' object does not support item assignment",
          "traceback": [
            "\u001b[0;31m---------------------------------------------------------------------------\u001b[0m",
            "\u001b[0;31mTypeError\u001b[0m                                 Traceback (most recent call last)",
            "\u001b[0;32m<ipython-input-12-48ff914b00ce>\u001b[0m in \u001b[0;36m<cell line: 2>\u001b[0;34m()\u001b[0m\n\u001b[1;32m      1\u001b[0m \u001b[0mprint\u001b[0m\u001b[0;34m(\u001b[0m\u001b[0mtup\u001b[0m\u001b[0;34m)\u001b[0m\u001b[0;34m\u001b[0m\u001b[0;34m\u001b[0m\u001b[0m\n\u001b[0;32m----> 2\u001b[0;31m \u001b[0mtup\u001b[0m\u001b[0;34m[\u001b[0m\u001b[0;36m1\u001b[0m\u001b[0;34m]\u001b[0m \u001b[0;34m=\u001b[0m \u001b[0;36m654\u001b[0m\u001b[0;34m\u001b[0m\u001b[0;34m\u001b[0m\u001b[0m\n\u001b[0m\u001b[1;32m      3\u001b[0m \u001b[0mprint\u001b[0m\u001b[0;34m(\u001b[0m\u001b[0mtup\u001b[0m\u001b[0;34m)\u001b[0m\u001b[0;34m\u001b[0m\u001b[0;34m\u001b[0m\u001b[0m\n",
            "\u001b[0;31mTypeError\u001b[0m: 'tuple' object does not support item assignment"
          ]
        }
      ]
    },
    {
      "cell_type": "code",
      "source": [
        "print(tup)"
      ],
      "metadata": {
        "colab": {
          "base_uri": "https://localhost:8080/"
        },
        "id": "tDUtzO1U1YHs",
        "outputId": "5392664e-5e7e-4f25-e226-b067a22d4a33"
      },
      "execution_count": 20,
      "outputs": [
        {
          "output_type": "stream",
          "name": "stdout",
          "text": [
            "(1, 34, 2, 78, 99, 1, 2)\n"
          ]
        }
      ]
    },
    {
      "cell_type": "markdown",
      "source": [
        "# Set"
      ],
      "metadata": {
        "id": "KX0l_yXExXEf"
      }
    },
    {
      "cell_type": "code",
      "source": [
        "st = { 1, 3, 4, 6, 8 }\n",
        "\n",
        "print(st)\n",
        "print(st[1])"
      ],
      "metadata": {
        "colab": {
          "base_uri": "https://localhost:8080/",
          "height": 198
        },
        "id": "BzE4uqUuxYkz",
        "outputId": "0a71302d-aceb-4b74-daa8-51de15053ba8"
      },
      "execution_count": 14,
      "outputs": [
        {
          "output_type": "stream",
          "name": "stdout",
          "text": [
            "{1, 3, 4, 6, 8}\n"
          ]
        },
        {
          "output_type": "error",
          "ename": "TypeError",
          "evalue": "'set' object is not subscriptable",
          "traceback": [
            "\u001b[0;31m---------------------------------------------------------------------------\u001b[0m",
            "\u001b[0;31mTypeError\u001b[0m                                 Traceback (most recent call last)",
            "\u001b[0;32m<ipython-input-14-28a789da014d>\u001b[0m in \u001b[0;36m<cell line: 4>\u001b[0;34m()\u001b[0m\n\u001b[1;32m      2\u001b[0m \u001b[0;34m\u001b[0m\u001b[0m\n\u001b[1;32m      3\u001b[0m \u001b[0mprint\u001b[0m\u001b[0;34m(\u001b[0m\u001b[0mst\u001b[0m\u001b[0;34m)\u001b[0m\u001b[0;34m\u001b[0m\u001b[0;34m\u001b[0m\u001b[0m\n\u001b[0;32m----> 4\u001b[0;31m \u001b[0mprint\u001b[0m\u001b[0;34m(\u001b[0m\u001b[0mst\u001b[0m\u001b[0;34m[\u001b[0m\u001b[0;36m1\u001b[0m\u001b[0;34m]\u001b[0m\u001b[0;34m)\u001b[0m\u001b[0;34m\u001b[0m\u001b[0;34m\u001b[0m\u001b[0m\n\u001b[0m",
            "\u001b[0;31mTypeError\u001b[0m: 'set' object is not subscriptable"
          ]
        }
      ]
    },
    {
      "cell_type": "code",
      "source": [
        "print(st)\n",
        "st.add(23)\n",
        "print(st)"
      ],
      "metadata": {
        "colab": {
          "base_uri": "https://localhost:8080/"
        },
        "id": "esNYh7n_0Qmx",
        "outputId": "a23663f6-1375-4fb7-f3ea-b98298fa7e03"
      },
      "execution_count": 15,
      "outputs": [
        {
          "output_type": "stream",
          "name": "stdout",
          "text": [
            "{1, 3, 4, 6, 8}\n",
            "{1, 3, 4, 6, 23, 8}\n"
          ]
        }
      ]
    },
    {
      "cell_type": "code",
      "source": [
        "st1 = { 1, 2, 3, 1, 2, 3 }\n",
        "print(st1)"
      ],
      "metadata": {
        "colab": {
          "base_uri": "https://localhost:8080/"
        },
        "id": "dXLDK5TN08EQ",
        "outputId": "ee71b8eb-d67f-470c-e2ad-7820daa2519c"
      },
      "execution_count": 16,
      "outputs": [
        {
          "output_type": "stream",
          "name": "stdout",
          "text": [
            "{1, 2, 3}\n"
          ]
        }
      ]
    },
    {
      "cell_type": "markdown",
      "source": [
        "# Dictionary"
      ],
      "metadata": {
        "id": "ACSy2Mf5xdN4"
      }
    },
    {
      "cell_type": "code",
      "source": [
        "dc = {\n",
        "      1 : 'abc',\n",
        "      2 : 'pqr',\n",
        "      3: 'lmn',\n",
        "      4: 'xyz',\n",
        "      5:' stu'\n",
        "}\n",
        "\n",
        "print(dc)"
      ],
      "metadata": {
        "colab": {
          "base_uri": "https://localhost:8080/"
        },
        "id": "m1GB55lRxc-D",
        "outputId": "eb35b84d-7bf2-4978-94fe-c666d1143735"
      },
      "execution_count": 21,
      "outputs": [
        {
          "output_type": "stream",
          "name": "stdout",
          "text": [
            "{1: 'abc', 2: 'pqr', 3: 'lmn', 4: 'xyz', 5: ' stu'}\n"
          ]
        }
      ]
    },
    {
      "cell_type": "code",
      "source": [
        "print(dc[1]) # 1 is not the index but it is the key of dc"
      ],
      "metadata": {
        "colab": {
          "base_uri": "https://localhost:8080/"
        },
        "id": "WejNr8zC10Hs",
        "outputId": "d11b2117-e46d-4579-d26a-6a43d3c79ad6"
      },
      "execution_count": 22,
      "outputs": [
        {
          "output_type": "stream",
          "name": "stdout",
          "text": [
            "abc\n"
          ]
        }
      ]
    },
    {
      "cell_type": "code",
      "source": [
        "dc1 = {\n",
        "    'a' : 100,\n",
        "    'b': 200\n",
        "}\n",
        "\n",
        "print(dc1[1])"
      ],
      "metadata": {
        "colab": {
          "base_uri": "https://localhost:8080/",
          "height": 180
        },
        "id": "3u7u5Fo02EEY",
        "outputId": "dc0cedcf-613d-4eb7-eb69-45094a761455"
      },
      "execution_count": 23,
      "outputs": [
        {
          "output_type": "error",
          "ename": "KeyError",
          "evalue": "1",
          "traceback": [
            "\u001b[0;31m---------------------------------------------------------------------------\u001b[0m",
            "\u001b[0;31mKeyError\u001b[0m                                  Traceback (most recent call last)",
            "\u001b[0;32m<ipython-input-23-59f64f4aec79>\u001b[0m in \u001b[0;36m<cell line: 6>\u001b[0;34m()\u001b[0m\n\u001b[1;32m      4\u001b[0m }\n\u001b[1;32m      5\u001b[0m \u001b[0;34m\u001b[0m\u001b[0m\n\u001b[0;32m----> 6\u001b[0;31m \u001b[0mprint\u001b[0m\u001b[0;34m(\u001b[0m\u001b[0mdc1\u001b[0m\u001b[0;34m[\u001b[0m\u001b[0;36m1\u001b[0m\u001b[0;34m]\u001b[0m\u001b[0;34m)\u001b[0m\u001b[0;34m\u001b[0m\u001b[0;34m\u001b[0m\u001b[0m\n\u001b[0m",
            "\u001b[0;31mKeyError\u001b[0m: 1"
          ]
        }
      ]
    },
    {
      "cell_type": "code",
      "source": [
        "print(dc1['a']) # a is key\n",
        "print(dc1['b'])\n",
        "print(dc1['c'])"
      ],
      "metadata": {
        "colab": {
          "base_uri": "https://localhost:8080/",
          "height": 216
        },
        "id": "tl5vL6Bb2nqd",
        "outputId": "8b32f002-0af8-4e40-a66d-b863fb24cc90"
      },
      "execution_count": 26,
      "outputs": [
        {
          "output_type": "stream",
          "name": "stdout",
          "text": [
            "100\n",
            "200\n"
          ]
        },
        {
          "output_type": "error",
          "ename": "KeyError",
          "evalue": "'c'",
          "traceback": [
            "\u001b[0;31m---------------------------------------------------------------------------\u001b[0m",
            "\u001b[0;31mKeyError\u001b[0m                                  Traceback (most recent call last)",
            "\u001b[0;32m<ipython-input-26-f1fc1ddfed50>\u001b[0m in \u001b[0;36m<cell line: 3>\u001b[0;34m()\u001b[0m\n\u001b[1;32m      1\u001b[0m \u001b[0mprint\u001b[0m\u001b[0;34m(\u001b[0m\u001b[0mdc1\u001b[0m\u001b[0;34m[\u001b[0m\u001b[0;34m'a'\u001b[0m\u001b[0;34m]\u001b[0m\u001b[0;34m)\u001b[0m \u001b[0;31m# a is key\u001b[0m\u001b[0;34m\u001b[0m\u001b[0;34m\u001b[0m\u001b[0m\n\u001b[1;32m      2\u001b[0m \u001b[0mprint\u001b[0m\u001b[0;34m(\u001b[0m\u001b[0mdc1\u001b[0m\u001b[0;34m[\u001b[0m\u001b[0;34m'b'\u001b[0m\u001b[0;34m]\u001b[0m\u001b[0;34m)\u001b[0m\u001b[0;34m\u001b[0m\u001b[0;34m\u001b[0m\u001b[0m\n\u001b[0;32m----> 3\u001b[0;31m \u001b[0mprint\u001b[0m\u001b[0;34m(\u001b[0m\u001b[0mdc1\u001b[0m\u001b[0;34m[\u001b[0m\u001b[0;34m'c'\u001b[0m\u001b[0;34m]\u001b[0m\u001b[0;34m)\u001b[0m\u001b[0;34m\u001b[0m\u001b[0;34m\u001b[0m\u001b[0m\n\u001b[0m",
            "\u001b[0;31mKeyError\u001b[0m: 'c'"
          ]
        }
      ]
    },
    {
      "cell_type": "code",
      "source": [
        "mx_lst = ['abxc', 1, 67.89, True]\n",
        "print(mx_lst)\n",
        "\n",
        "mx_tp = 'abxc', 1, 67.89, True\n",
        "print(mx_tp)\n",
        "\n",
        "mx_st = { 1, 'abc', True, 90.90, True }\n",
        "print(mx_st)\n",
        "\n",
        "mx_dc = {\n",
        "    'a' : 100,\n",
        "    'b' : True,\n",
        "    'c' : lambda a: a**2,\n",
        "    1: 'abc'\n",
        "}\n",
        "print(mx_dc)"
      ],
      "metadata": {
        "colab": {
          "base_uri": "https://localhost:8080/"
        },
        "id": "-X1B9asq27BT",
        "outputId": "da5145a3-e0b3-4d8b-8bd0-dd586bf1ec5b"
      },
      "execution_count": 32,
      "outputs": [
        {
          "output_type": "stream",
          "name": "stdout",
          "text": [
            "['abxc', 1, 67.89, True]\n",
            "('abxc', 1, 67.89, True)\n",
            "{'abc', 1, 90.9}\n",
            "{'a': 100, 'b': True, 'c': <function <lambda> at 0x7c5f9961bd00>, 1: 'abc'}\n"
          ]
        }
      ]
    },
    {
      "cell_type": "code",
      "source": [
        "str = 'abcdefghijk'\n",
        "\n",
        "print(str[1])"
      ],
      "metadata": {
        "colab": {
          "base_uri": "https://localhost:8080/"
        },
        "id": "UdjRssUF51eZ",
        "outputId": "c9b10044-e19f-4184-f1b7-3768653590ac"
      },
      "execution_count": 33,
      "outputs": [
        {
          "output_type": "stream",
          "name": "stdout",
          "text": [
            "b\n"
          ]
        }
      ]
    },
    {
      "cell_type": "code",
      "source": [],
      "metadata": {
        "id": "okik098e6N4x"
      },
      "execution_count": null,
      "outputs": []
    },
    {
      "cell_type": "markdown",
      "source": [
        "# Difference\n",
        "\n",
        "| Feature              | **List**                           | **Tuple**                          | **Set**                            | **Dictionary**                         |\n",
        "|----------------------|------------------------------------|------------------------------------|------------------------------------|----------------------------------------|\n",
        "| **Definition**        | Ordered, mutable collection of elements | Ordered, immutable collection of elements | Unordered, mutable collection of unique elements | Unordered, mutable collection of key-value pairs |\n",
        "| **Syntax**            | `[]` or `list()`                  | `()` or `tuple()`                  | `{}` or `set()`                    | `{key: value}` or `dict()`             |\n",
        "| **Order**             | Maintains insertion order         | Maintains insertion order          | Unordered                         | Maintains insertion order (since Python 3.7) |\n",
        "| **Mutability**        | Mutable (can be changed)          | Immutable (cannot be changed)      | Mutable (can be changed)           | Keys are immutable, but values are mutable |\n",
        "| **Duplicates**        | Allows duplicates                 | Allows duplicates                 | Does not allow duplicates          | Keys are unique, values can have duplicates |\n",
        "| **Indexing**          | Supports indexing and slicing     | Supports indexing and slicing      | Does not support indexing          | Access by key (not index)              |\n",
        "| **Iteration**         | Iterable                          | Iterable                          | Iterable                          | Iterable (keys, values, or items)      |\n",
        "| **Operations**        | Various methods like `append()`, `pop()`, `extend()`, etc. | Limited methods like `count()`, `index()` | Set operations like `union()`, `intersection()`, `difference()`, etc. | Operations like `get()`, `keys()`, `values()`, `items()`, `update()` |\n",
        "| **Use Case**          | General-purpose, ordered collection of data | Use when data should not change (e.g., coordinates, configurations) | Fast membership tests, removing duplicates | Key-value pairs for quick lookups, mappings, or association |\n",
        "| **Example**           | `[1, 2, 3]`                      | `(1, 2, 3)`                       | `{1, 2, 3}`                       | `{\"name\": \"Alice\", \"age\": 25}`         |\n",
        "\n"
      ],
      "metadata": {
        "id": "16gFfxdR6YCI"
      }
    },
    {
      "cell_type": "code",
      "source": [],
      "metadata": {
        "id": "fTS9cTdK6za1"
      },
      "execution_count": null,
      "outputs": []
    }
  ]
}