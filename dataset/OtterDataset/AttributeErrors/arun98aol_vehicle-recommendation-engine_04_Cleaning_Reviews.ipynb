{
 "cells": [
  {
   "cell_type": "code",
   "execution_count": 1,
   "id": "aa534947-d11c-410f-b96f-8a5940ee2b3d",
   "metadata": {
    "collapsed": true,
    "jupyter": {
     "outputs_hidden": true
    },
    "tags": []
   },
   "outputs": [
    {
     "name": "stdout",
     "output_type": "stream",
     "text": [
      "Defaulting to user installation because normal site-packages is not writeable\n",
      "Collecting polars\n",
      "  Obtaining dependency information for polars from https://files.pythonhosted.org/packages/c6/a3/b19deb3a75bc4f1b4cf9754524f6824bdc376c997d88b0a793503e8c48cf/polars-0.19.5-cp38-abi3-manylinux_2_17_x86_64.manylinux2014_x86_64.whl.metadata\n",
      "  Downloading polars-0.19.5-cp38-abi3-manylinux_2_17_x86_64.manylinux2014_x86_64.whl.metadata (14 kB)\n",
      "Downloading polars-0.19.5-cp38-abi3-manylinux_2_17_x86_64.manylinux2014_x86_64.whl (22.9 MB)\n",
      "\u001b[2K   \u001b[90m━━━━━━━━━━━━━━━━━━━━━━━━━━━━━━━━━━━━━━━━\u001b[0m \u001b[32m22.9/22.9 MB\u001b[0m \u001b[31m45.2 MB/s\u001b[0m eta \u001b[36m0:00:00\u001b[0m:00:01\u001b[0m00:01\u001b[0m\n",
      "\u001b[?25hInstalling collected packages: polars\n",
      "Successfully installed polars-0.19.5\n",
      "Defaulting to user installation because normal site-packages is not writeable\n",
      "Collecting pyarrow\n",
      "  Obtaining dependency information for pyarrow from https://files.pythonhosted.org/packages/16/4f/1e721c6cee69b62251c996266b0cf256faad38028cb3b6d71cc86a86109e/pyarrow-13.0.0-cp38-cp38-manylinux_2_17_x86_64.manylinux2014_x86_64.whl.metadata\n",
      "  Downloading pyarrow-13.0.0-cp38-cp38-manylinux_2_17_x86_64.manylinux2014_x86_64.whl.metadata (3.0 kB)\n",
      "Requirement already satisfied: numpy>=1.16.6 in /usr/local/lib/python3.8/dist-packages (from pyarrow) (1.23.1)\n",
      "Downloading pyarrow-13.0.0-cp38-cp38-manylinux_2_17_x86_64.manylinux2014_x86_64.whl (40.1 MB)\n",
      "\u001b[2K   \u001b[90m━━━━━━━━━━━━━━━━━━━━━━━━━━━━━━━━━━━━━━━━\u001b[0m \u001b[32m40.1/40.1 MB\u001b[0m \u001b[31m31.4 MB/s\u001b[0m eta \u001b[36m0:00:00\u001b[0m:00:01\u001b[0m00:01\u001b[0m\n",
      "\u001b[?25hInstalling collected packages: pyarrow\n",
      "Successfully installed pyarrow-13.0.0\n"
     ]
    }
   ],
   "source": [
    "!pip install polars\n",
    "!pip install pyarrow"
   ]
  },
  {
   "cell_type": "code",
   "execution_count": 34,
   "id": "84fa24c9-5591-4171-99c2-e9cfef145361",
   "metadata": {
    "tags": []
   },
   "outputs": [],
   "source": [
    "import polars as pl\n",
    "import pandas as pd\n",
    "from tqdm import tqdm\n",
    "import re"
   ]
  },
  {
   "cell_type": "code",
   "execution_count": 35,
   "id": "d3e120a8-f0a1-4aaa-9142-76357da40385",
   "metadata": {
    "tags": []
   },
   "outputs": [],
   "source": [
    "unique_brands = ['audi', 'bmw', 'buick', 'cadillac', 'chevrolet', 'chrysler',\n",
    "        'dodge', 'ford', 'honda', 'hyundai', 'jaguar', 'jeep', 'kia',\n",
    "        'lexus', 'mazda', 'mercedes‑benz', 'nissan', 'porsche', 'ram',\n",
    "        'subaru', 'volvo', 'toyota', 'volkswagen', 'land-rover']"
   ]
  },
  {
   "cell_type": "code",
   "execution_count": 47,
   "id": "e819606d-ed73-41e4-a896-f201263d129b",
   "metadata": {
    "tags": []
   },
   "outputs": [
    {
     "name": "stderr",
     "output_type": "stream",
     "text": [
      "  4%|▍         | 1/24 [00:00<00:03,  6.04it/s]"
     ]
    },
    {
     "name": "stdout",
     "output_type": "stream",
     "text": [
      "audi 4\n",
      "bmw 3\n"
     ]
    },
    {
     "name": "stderr",
     "output_type": "stream",
     "text": [
      " 12%|█▎        | 3/24 [00:00<00:03,  6.35it/s]"
     ]
    },
    {
     "name": "stdout",
     "output_type": "stream",
     "text": [
      "buick 5\n",
      "cadillac 8\n"
     ]
    },
    {
     "name": "stderr",
     "output_type": "stream",
     "text": [
      " 17%|█▋        | 4/24 [00:00<00:02,  7.37it/s]"
     ]
    },
    {
     "name": "stdout",
     "output_type": "stream",
     "text": [
      "chevrolet 9\n"
     ]
    },
    {
     "name": "stderr",
     "output_type": "stream",
     "text": [
      " 25%|██▌       | 6/24 [00:01<00:04,  4.36it/s]"
     ]
    },
    {
     "name": "stdout",
     "output_type": "stream",
     "text": [
      "chrysler 8\n",
      "dodge 5\n"
     ]
    },
    {
     "name": "stderr",
     "output_type": "stream",
     "text": [
      " 29%|██▉       | 7/24 [00:01<00:03,  4.29it/s]"
     ]
    },
    {
     "name": "stdout",
     "output_type": "stream",
     "text": [
      "ford 4\n"
     ]
    },
    {
     "name": "stderr",
     "output_type": "stream",
     "text": [
      " 33%|███▎      | 8/24 [00:02<00:05,  3.07it/s]"
     ]
    },
    {
     "name": "stdout",
     "output_type": "stream",
     "text": [
      "honda 5\n"
     ]
    },
    {
     "name": "stderr",
     "output_type": "stream",
     "text": [
      " 38%|███▊      | 9/24 [00:02<00:04,  3.02it/s]"
     ]
    },
    {
     "name": "stdout",
     "output_type": "stream",
     "text": [
      "hyundai 7\n"
     ]
    },
    {
     "name": "stderr",
     "output_type": "stream",
     "text": [
      " 42%|████▏     | 10/24 [00:02<00:04,  3.36it/s]"
     ]
    },
    {
     "name": "stdout",
     "output_type": "stream",
     "text": [
      "jaguar 6\n",
      "jeep 4\n"
     ]
    },
    {
     "name": "stderr",
     "output_type": "stream",
     "text": [
      " 54%|█████▍    | 13/24 [00:02<00:02,  4.97it/s]"
     ]
    },
    {
     "name": "stdout",
     "output_type": "stream",
     "text": [
      "kia 3\n",
      "lexus 5\n"
     ]
    },
    {
     "name": "stderr",
     "output_type": "stream",
     "text": [
      " 58%|█████▊    | 14/24 [00:03<00:01,  5.29it/s]"
     ]
    },
    {
     "name": "stdout",
     "output_type": "stream",
     "text": [
      "mazda 5\n"
     ]
    },
    {
     "name": "stderr",
     "output_type": "stream",
     "text": [
      " 62%|██████▎   | 15/24 [00:03<00:01,  5.06it/s]"
     ]
    },
    {
     "name": "stdout",
     "output_type": "stream",
     "text": [
      "mercedes‑benz 13\n"
     ]
    },
    {
     "name": "stderr",
     "output_type": "stream",
     "text": [
      " 67%|██████▋   | 16/24 [00:03<00:01,  5.00it/s]"
     ]
    },
    {
     "name": "stdout",
     "output_type": "stream",
     "text": [
      "nissan 6\n"
     ]
    },
    {
     "name": "stderr",
     "output_type": "stream",
     "text": [
      " 71%|███████   | 17/24 [00:03<00:01,  4.26it/s]"
     ]
    },
    {
     "name": "stdout",
     "output_type": "stream",
     "text": [
      "porsche 7\n",
      "ram 3\n",
      "subaru 6\n"
     ]
    },
    {
     "name": "stderr",
     "output_type": "stream",
     "text": [
      " 88%|████████▊ | 21/24 [00:04<00:00,  6.36it/s]"
     ]
    },
    {
     "name": "stdout",
     "output_type": "stream",
     "text": [
      "volvo 5\n",
      "toyota 6\n"
     ]
    },
    {
     "name": "stderr",
     "output_type": "stream",
     "text": [
      " 92%|█████████▏| 22/24 [00:04<00:00,  4.19it/s]"
     ]
    },
    {
     "name": "stdout",
     "output_type": "stream",
     "text": [
      "volkswagen 10\n"
     ]
    },
    {
     "name": "stderr",
     "output_type": "stream",
     "text": [
      "100%|██████████| 24/24 [00:05<00:00,  4.62it/s]"
     ]
    },
    {
     "name": "stdout",
     "output_type": "stream",
     "text": [
      "land-rover 10\n"
     ]
    },
    {
     "name": "stderr",
     "output_type": "stream",
     "text": [
      "\n"
     ]
    }
   ],
   "source": [
    "def clean_review(review):\n",
    "    # Remove trailing and leading spaces\n",
    "    cleaned_review = review.strip()\n",
    "    # Remove '\\r' characters\n",
    "    cleaned_review = re.sub(r'\\r', '', cleaned_review)\n",
    "    return cleaned_review\n",
    "\n",
    "# final_reviews = pd.DataFrame()\n",
    "\n",
    "for brand in tqdm(unique_brands):\n",
    "    # brand = 'land-rover'\n",
    "    print(brand, len(brand))\n",
    "    path = fr'../data/Reviews/Scraped_Car_Review_{str(brand)}.csv'\n",
    "    df = pl.read_csv(path)\n",
    "    df2 = df.to_pandas()\n",
    "    df2['cleaned_review'] = df2['Review'].apply(lambda x: clean_review(x))\n",
    "    df2['Brand'] = df2['Vehicle_Title'].apply(lambda x: brand if x.lower().split() else None)\n",
    "    \n",
    "    df2.to_csv(fr'../data/Reviews/reviews_{str(brand)}.csv', index=False)\n",
    "    # break\n",
    "    # final_reviews = pd.concat([final_reviews, df2])"
   ]
  },
  {
   "cell_type": "code",
   "execution_count": 45,
   "id": "a8bb3fb4-c5d5-41df-bc60-af56ef739528",
   "metadata": {
    "tags": []
   },
   "outputs": [
    {
     "data": {
      "text/plain": [
       "array(['2015 Land Rover Range Rover Evoque SUV Pure Plus 4dr SUV AWD (2.0L 4cyl Turbo 9A)',\n",
       "       '2015 Land Rover Range Rover Evoque SUV Pure Plus Corris Grey Special Value Edition 4dr SUV AWD (2.0L 4cyl Turbo 9A)',\n",
       "       '2015 Land Rover Range Rover Evoque SUV Pure Plus Santorini Black Special Value Edition 4dr SUV AWD (2.0L 4cyl Turbo 9A)',\n",
       "       '2015 Land Rover Range Rover Evoque SUV Pure Plus Fuji White Special Value Edition 4dr SUV AWD (2.0L 4cyl Turbo 9A)',\n",
       "       '2015 Land Rover Range Rover Evoque SUV Pure Plus 2dr SUV AWD (2.0L 4cyl Turbo 9A)',\n",
       "       '2015 Land Rover Range Rover Evoque SUV Pure 4dr SUV AWD (2.0L 4cyl Turbo 9A)',\n",
       "       '2015 Land Rover Range Rover Evoque SUV Pure Plus Firenze Red Special Value Edition 4dr SUV AWD (2.0L 4cyl Turbo 9A)',\n",
       "       '2017 Land Rover Range Rover Evoque SUV HSE 4dr SUV AWD (2.0L 4cyl Turbo 9A)',\n",
       "       '2017 Land Rover Range Rover Evoque SUV SE Premium 4dr SUV AWD (2.0L 4cyl Turbo 9A)',\n",
       "       '2012 Land Rover Range Rover Evoque SUV Pure Plus 2dr SUV AWD (2.0L 4cyl Turbo 6A)',\n",
       "       '2012 Land Rover Range Rover Evoque SUV Pure 4dr SUV AWD (2.0L 4cyl Turbo 6A)',\n",
       "       '2016 Land Rover Range Rover Evoque SUV SE w/Premium Package 4dr SUV AWD (2.0L 4cyl Turbo 9A)',\n",
       "       '2016 Land Rover Range Rover Evoque SUV SE Premium 2dr SUV AWD (2.0L 4cyl Turbo 9A)',\n",
       "       '2016 Land Rover Range Rover Evoque SUV HSE 4dr SUV AWD (2.0L 4cyl Turbo 9A)',\n",
       "       '2014 Land Rover Range Rover Evoque SUV Pure Plus 4dr SUV AWD (2.0L 4cyl Turbo 9A)',\n",
       "       '2014 Land Rover Range Rover Evoque SUV Pure 4dr SUV AWD (2.0L 4cyl Turbo 9A)',\n",
       "       '2014 Land Rover Range Rover Evoque SUV Prestige Premium 4dr SUV AWD (2.0L 4cyl Turbo 9A)',\n",
       "       '2014 Land Rover Range Rover Evoque SUV Pure Premium 2dr SUV AWD (2.0L 4cyl Turbo 9A)',\n",
       "       '2014 Land Rover Range Rover Evoque SUV Pure Plus 2dr SUV AWD (2.0L 4cyl Turbo 9A)',\n",
       "       '2013 Land Rover Range Rover Evoque SUV Prestige Premium 4dr SUV AWD (2.0L 4cyl Turbo 6A)',\n",
       "       '2013 Land Rover Range Rover Evoque SUV Pure Plus 4dr SUV AWD (2.0L 4cyl Turbo 6A)',\n",
       "       '2013 Land Rover Range Rover Evoque SUV Pure 4dr SUV AWD (2.0L 4cyl Turbo 6A)',\n",
       "       '2013 Land Rover Range Rover Evoque SUV Pure Premium 4dr SUV AWD (2.0L 4cyl Turbo 6A)',\n",
       "       '2013 Land Rover Range Rover Evoque SUV Pure Plus 2dr SUV AWD (2.0L 4cyl Turbo 6A)',\n",
       "       '1997 Land Rover Defender SUV 90 2dr SUV 4WD w/Soft Top',\n",
       "       '1997 Land Rover Defender SUV 90 2dr SUV 4WD',\n",
       "       '2015 Land Rover Discovery Sport SUV HSE 4dr SUV AWD (2.0L 4cyl Turbo 9A)',\n",
       "       '2015 Land Rover Discovery Sport SUV HSE LUX 4dr SUV AWD (2.0L 4cyl Turbo 9A)',\n",
       "       '2018 Land Rover Discovery Sport SUV SE 4dr SUV AWD (2.0L 4cyl Turbo 9A)',\n",
       "       '2017 Land Rover Discovery Sport SUV HSE LUX 4dr SUV AWD (2.0L 4cyl Turbo 9A)',\n",
       "       '2017 Land Rover Discovery Sport SUV SE 4dr SUV AWD (2.0L 4cyl Turbo 9A)',\n",
       "       '2017 Land Rover Discovery Sport SUV HSE 4dr SUV AWD (2.0L 4cyl Turbo 9A)',\n",
       "       '2016 Land Rover Discovery Sport SUV HSE 4dr SUV AWD (2.0L 4cyl Turbo 9A)',\n",
       "       '2016 Land Rover Discovery Sport SUV SE 4dr SUV AWD (2.0L 4cyl Turbo 9A)',\n",
       "       '2016 Land Rover Discovery Sport SUV HSE LUX 4dr SUV AWD (2.0L 4cyl Turbo 9A)',\n",
       "       '2008 Land Rover LR2 SUV HSE 4dr SUV AWD (3.2L 6cyl 6A)',\n",
       "       '2008 Land Rover LR2 SUV SE 4dr SUV AWD (3.2L 6cyl 6A)',\n",
       "       '2015 Land Rover LR2 SUV HSE 4dr SUV AWD (2.0L 4cyl Turbo 6A)',\n",
       "       '2015 Land Rover LR2 SUV 4dr SUV AWD (2.0L 4cyl Turbo 6A)',\n",
       "       '2011 Land Rover LR2 SUV 4dr SUV AWD (3.2L 6cyl 6A)',\n",
       "       '2014 Land Rover LR2 SUV HSE 4dr SUV AWD (2.0L 4cyl Turbo 6A)',\n",
       "       '2010 Land Rover LR2 SUV HSE 4dr SUV AWD (3.2L 6cyl 6A)',\n",
       "       '2013 Land Rover LR2 SUV HSE 4dr SUV AWD (2.0L 4cyl Turbo 6A)',\n",
       "       '2009 Land Rover LR2 SUV HSE 4dr SUV AWD (3.2L 6cyl 6A)',\n",
       "       '2008 Land Rover Range Rover SUV Supercharged 4dr SUV 4WD (4.2L 8cyl S/C 6A)',\n",
       "       '2008 Land Rover Range Rover SUV HSE 4dr SUV 4WD (4.4L 8cyl 6A)',\n",
       "       '2006 Land Rover Range Rover SUV HSE 4dr SUV 4WD (4.4L 8cyl 6A)',\n",
       "       '2006 Land Rover Range Rover SUV Supercharged 4dr SUV 4WD (4.2L 8cyl S/C 6A)',\n",
       "       '2004 Land Rover Range Rover SUV HSE 4WD 4dr SUV (4.4L 8cyl 5A)',\n",
       "       '2015 Land Rover Range Rover SUV Supercharged 4dr SUV 4WD (5.0L 8cyl S/C 8A)',\n",
       "       '2015 Land Rover Range Rover SUV Autobiography LWB 4dr SUV 4WD (5.0L 8cyl S/C 8A)',\n",
       "       '2015 Land Rover Range Rover SUV HSE 4dr SUV 4WD (3.0L 6cyl S/C 8A)',\n",
       "       '2015 Land Rover Range Rover SUV 4dr SUV 4WD (3.0L 6cyl S/C 8A)',\n",
       "       '2007 Land Rover Range Rover SUV HSE 4dr SUV 4WD (4.4L 8cyl 6A)',\n",
       "       '2007 Land Rover Range Rover SUV Supercharged 4dr SUV 4WD (4.2L 8cyl S/C 6A)',\n",
       "       '2017 Land Rover Range Rover SUV Supercharged LWB 4dr SUV 4WD (5.0L 8cyl S/C 8A)',\n",
       "       '2017 Land Rover Range Rover Diesel HSE Td6 4dr SUV 4WD (3.0L 6cyl Turbodiesel 8A)',\n",
       "       '2001 Land Rover Range Rover SUV 4.6 SE 4WD 4dr SUV (4.6L 8cyl 4A)',\n",
       "       '2001 Land Rover Range Rover SUV 4.6 HSE 4WD 4dr SUV (4.6L 8cyl 4A)',\n",
       "       '2003 Land Rover Range Rover SUV HSE 4WD 4dr SUV (4.4L 8cyl 5A)',\n",
       "       '2005 Land Rover Range Rover SUV HSE 4WD 4dr SUV (4.4L 8cyl 5A)',\n",
       "       '2012 Land Rover Range Rover SUV HSE 4dr SUV 4WD (5.0L 8cyl 6A)',\n",
       "       '2000 Land Rover Range Rover SUV 4.6 HSE 4dr SUV AWD',\n",
       "       '2000 Land Rover Range Rover SUV 4.6 Vitesse 4dr SUV AWD',\n",
       "       '2000 Land Rover Range Rover SUV 4.0 SE 4dr SUV AWD',\n",
       "       '2016 Land Rover Range Rover SUV HSE 4dr SUV 4WD (3.0L 6cyl S/C 8A)',\n",
       "       '2002 Land Rover Range Rover SUV 4.6 HSE 4WD 4dr SUV (4.6L 8cyl 4A)',\n",
       "       '1997 Land Rover Range Rover SUV 4.6 HSE 4dr SUV AWD',\n",
       "       '1997 Land Rover Range Rover SUV 4.0 SE 4dr SUV AWD',\n",
       "       '2011 Land Rover Range Rover SUV HSE 4dr SUV 4WD (5.0L 8cyl 6A)',\n",
       "       '2011 Land Rover Range Rover SUV Supercharged 4dr SUV 4WD (5.0L 8cyl S/C 6A)',\n",
       "       '2014 Land Rover Range Rover SUV Supercharged 4dr SUV 4WD (5.0L 8cyl S/C 8A)',\n",
       "       '2014 Land Rover Range Rover SUV HSE 4dr SUV 4WD (3.0L 6cyl S/C 8A)',\n",
       "       '2014 Land Rover Range Rover SUV Supercharged 4dr SUV 4WD w/Prod. End 12/31 (5.0L 8cyl S/C 8A)',\n",
       "       '1999 Land Rover Range Rover SUV 4.6 HSE 4dr SUV AWD',\n",
       "       '1999 Land Rover Range Rover SUV 4.0 SE 4dr SUV AWD',\n",
       "       '1999 Land Rover Range Rover SUV 4.0 S 4dr SUV AWD',\n",
       "       '1998 Land Rover Range Rover SUV 4.0 SE 4dr SUV AWD',\n",
       "       '1998 Land Rover Range Rover SUV 4.6 HSE 4dr SUV AWD',\n",
       "       '1998 Land Rover Range Rover SUV 50th Anniversary 4dr SUV AWD',\n",
       "       '2010 Land Rover Range Rover SUV HSE 4dr SUV 4WD (5.0L 8cyl 6A)',\n",
       "       '2010 Land Rover Range Rover SUV Supercharged 4dr SUV 4WD (5.0L 8cyl S/C 6A)',\n",
       "       '2013 Land Rover Range Rover SUV 4dr SUV 4WD (5.0L 8cyl 8A)',\n",
       "       '2013 Land Rover Range Rover SUV Supercharged 4dr SUV 4WD (5.0L 8cyl S/C 8A)',\n",
       "       '2009 Land Rover Range Rover SUV HSE 4dr SUV 4WD (4.4L 8cyl 6A)',\n",
       "       '2009 Land Rover Range Rover SUV Supercharged 4dr SUV 4WD (4.2L 8cyl S/C 6A)',\n",
       "       '2008 Land Rover LR3 SUV V8 SE 4dr SUV 4WD (4.4L 8cyl 6A)',\n",
       "       '2008 Land Rover LR3 SUV V8 HSE 4dr SUV 4WD (4.4L 8cyl 6A)',\n",
       "       '2006 Land Rover LR3 SUV HSE 4dr SUV 4WD (4.4L 8cyl 6A)',\n",
       "       '2006 Land Rover LR3 SUV 4dr SUV 4WD (4.0L 6cyl 6A)',\n",
       "       '2006 Land Rover LR3 SUV SE 4dr SUV 4WD (4.4L 8cyl 6A)',\n",
       "       '2007 Land Rover LR3 SUV V6 SE 4dr SUV 4WD (4.0L 6cyl 6A)',\n",
       "       '2007 Land Rover LR3 SUV V8 HSE 4dr SUV 4WD (4.4L 8cyl 6A)',\n",
       "       '2007 Land Rover LR3 SUV V8 SE 4dr SUV 4WD (4.4L 8cyl 6A)',\n",
       "       '2005 Land Rover LR3 SUV HSE 4WD 4dr SUV (4.4L 8cyl 6A)',\n",
       "       '2005 Land Rover LR3 SUV SE 4WD 4dr SUV (4.0L 6cyl 6A)',\n",
       "       '2005 Land Rover LR3 SUV SE 4WD 4dr SUV (4.4L 8cyl 6A)',\n",
       "       '2009 Land Rover LR3 SUV V8 4dr SUV 4WD (4.4L 8cyl 6A)',\n",
       "       '2008 Land Rover Range Rover Sport SUV HSE 4dr SUV 4WD (4.4L 8cyl 6A)',\n",
       "       '2008 Land Rover Range Rover Sport SUV Supercharged 4dr SUV 4WD (4.2L 8cyl S/C 6A)',\n",
       "       '2006 Land Rover Range Rover Sport SUV HSE 4dr SUV 4WD (4.4L 8cyl 6A)',\n",
       "       '2006 Land Rover Range Rover Sport SUV Supercharged 4dr SUV 4WD (4.2L 8cyl S/C 6A)',\n",
       "       '2015 Land Rover Range Rover Sport SUV SE 4dr SUV 4WD (3.0L 6cyl S/C 8A)',\n",
       "       '2015 Land Rover Range Rover Sport SUV Supercharged 4dr SUV 4WD (5.0L 8cyl S/C 8A)',\n",
       "       '2007 Land Rover Range Rover Sport SUV HSE 4dr SUV 4WD (4.4L 8cyl 6A)',\n",
       "       '2007 Land Rover Range Rover Sport SUV Supercharged 4dr SUV 4WD (4.2L 8cyl S/C 6A)',\n",
       "       '2018 Land Rover Range Rover Sport SUV HSE Dynamic 4dr SUV 4WD (3.0L 6cyl S/C 8A)',\n",
       "       '2018 Land Rover Range Rover Sport SUV Supercharged Dynamic 4dr SUV 4WD (5.0L 8cyl S/C 8A)',\n",
       "       '2018 Land Rover Range Rover Sport Diesel HSE Td6 4dr SUV 4WD (3.0L 6cyl Turbodiesel 8A)',\n",
       "       '2017 Land Rover Range Rover Sport SUV Autobiography 4dr SUV 4WD (5.0L 8cyl S/C 8A)',\n",
       "       '2017 Land Rover Range Rover Sport SUV SE 4dr SUV 4WD (3.0L 6cyl S/C 8A)',\n",
       "       '2017 Land Rover Range Rover Sport SVR SVR 4dr SUV 4WD (5.0L 8cyl S/C 8A)',\n",
       "       '2012 Land Rover Range Rover Sport SUV Supercharged 4dr SUV 4WD (5.0L 8cyl S/C 6A)',\n",
       "       '2012 Land Rover Range Rover Sport SUV HSE 4dr SUV 4WD (5.0L 8cyl 6A)',\n",
       "       '2016 Land Rover Range Rover Sport SUV Supercharged Dynamic 4dr SUV 4WD (5.0L 8cyl S/C 8A)',\n",
       "       '2016 Land Rover Range Rover Sport SUV Supercharged 4dr SUV 4WD (5.0L 8cyl S/C 8A)',\n",
       "       '2016 Land Rover Range Rover Sport SUV HSE 4dr SUV 4WD (3.0L 6cyl S/C 8A)',\n",
       "       '2016 Land Rover Range Rover Sport Diesel HSE Td6 4dr SUV 4WD (3.0L 6cyl Turbodiesel 8A)',\n",
       "       '2016 Land Rover Range Rover Sport Diesel SE Td6 4dr SUV 4WD (3.0L 6cyl Turbodiesel 8A)',\n",
       "       '2011 Land Rover Range Rover Sport SUV Supercharged 4dr SUV 4WD (5.0L 8cyl S/C 6A)',\n",
       "       '2011 Land Rover Range Rover Sport SUV HSE 4dr SUV 4WD (5.0L 8cyl 6A)',\n",
       "       '2014 Land Rover Range Rover Sport SUV SE 4dr SUV 4WD (3.0L 6cyl S/C 8A)',\n",
       "       '2014 Land Rover Range Rover Sport SUV Supercharged 4dr SUV 4WD (5.0L 8cyl S/C 8A)',\n",
       "       '2014 Land Rover Range Rover Sport SUV Supercharged 4dr SUV 4WD w/Prod. End 12/31 (5.0L 8cyl S/C 8A)',\n",
       "       '2014 Land Rover Range Rover Sport SUV SE 4dr SUV 4WD w/Prod. End 12/31 (3.0L 6cyl S/C 8A)',\n",
       "       '2010 Land Rover Range Rover Sport SUV HSE 4dr SUV 4WD (5.0L 8cyl 6A)',\n",
       "       '2010 Land Rover Range Rover Sport SUV Supercharged 4dr SUV 4WD (5.0L 8cyl S/C 6A)',\n",
       "       '2013 Land Rover Range Rover Sport SUV Luxury 4dr SUV 4WD (5.0L 8cyl 6A)',\n",
       "       '2013 Land Rover Range Rover Sport SUV HSE 4dr SUV 4WD (5.0L 8cyl 6A)',\n",
       "       '2013 Land Rover Range Rover Sport SUV Supercharged 4dr SUV 4WD (5.0L 8cyl S/C 6A)',\n",
       "       '2009 Land Rover Range Rover Sport SUV HSE 4dr SUV 4WD (4.4L 8cyl 6A)',\n",
       "       '2009 Land Rover Range Rover Sport SUV Supercharged 4dr SUV 4WD (4.2L 8cyl S/C 6A)',\n",
       "       '2018 Land Rover Range Rover Velar SUV R-Dynamic SE 4dr SUV AWD (3.0L 6cyl S/C 8A)',\n",
       "       '2018 Land Rover Range Rover Velar SUV S 4dr SUV AWD (3.0L 6cyl S/C 8A)',\n",
       "       '2018 Land Rover Range Rover Velar SUV R-Dynamic HSE 4dr SUV AWD (3.0L 6cyl S/C 8A)',\n",
       "       '2018 Land Rover Range Rover Velar SUV R-Dynamic SE 4dr SUV AWD (2.0 4cyl Turbo 8A)',\n",
       "       '2018 Land Rover Range Rover Velar Diesel R-Dynamic HSE 4dr SUV AWD (2.0 4cyl Turbodiesel 8A)',\n",
       "       '2004 Land Rover Discovery SUV SE 4WD 4dr SUV (4.6L 8cyl 4A)',\n",
       "       '2004 Land Rover Discovery SUV HSE 4WD 4dr SUV (4.6L 8cyl 4A)',\n",
       "       '2004 Land Rover Discovery SUV S 4WD 4dr SUV (4.6L 8cyl 4A)',\n",
       "       '2018 Land Rover Discovery Diesel HSE Luxury Td6 4dr SUV 4WD (3.0L 6cyl Turbodiesel 8A)',\n",
       "       '2017 Land Rover Discovery SUV HSE Luxury 4dr SUV 4WD (3.0L 6cyl S/C 8A)',\n",
       "       '2017 Land Rover Discovery SUV HSE 4dr SUV 4WD (3.0L 6cyl S/C 8A)',\n",
       "       '2017 Land Rover Discovery SUV First Edition 4dr SUV 4WD (3.0L 6cyl S/C 8A)',\n",
       "       '2017 Land Rover Discovery Diesel HSE Td6 4dr SUV 4WD (3.0L 6cyl Turbodiesel 8A)',\n",
       "       '2017 Land Rover Discovery Diesel HSE Luxury Td6 4dr SUV 4WD (3.0L 6cyl Turbodiesel 8A)',\n",
       "       '2003 Land Rover Discovery SUV SE 4WD 4dr SUV (4.6L 8cyl 4A)',\n",
       "       '2003 Land Rover Discovery SUV S 4WD 4dr SUV (4.6L 8cyl 4A)',\n",
       "       '2003 Land Rover Discovery SUV HSE 4WD 4dr SUV (4.6L 8cyl 4A)',\n",
       "       '1997 Land Rover Discovery SUV SE 4dr SUV AWD',\n",
       "       '1997 Land Rover Discovery SUV SD 4dr SUV AWD',\n",
       "       '1997 Land Rover Discovery SUV SE7 4dr SUV AWD',\n",
       "       '1997 Land Rover Discovery SUV LSE 4dr SUV AWD',\n",
       "       '1997 Land Rover Discovery SUV XD 4dr SUV AWD',\n",
       "       '1999 Land Rover Discovery SUV Series II 4dr SUV AWD',\n",
       "       '1999 Land Rover Discovery SUV SD 4dr SUV AWD',\n",
       "       '1998 Land Rover Discovery SUV 50th Anniversary 4dr SUV AWD',\n",
       "       '1998 Land Rover Discovery SUV LE 4dr SUV AWD',\n",
       "       '1998 Land Rover Discovery SUV LSE 4dr SUV AWD',\n",
       "       '2001 Land Rover Discovery Series II SUV LE 4WD 4dr SUV (4.0L 8cyl 4A)',\n",
       "       '2001 Land Rover Discovery Series II SUV SE 4WD 4dr SUV (4.0L 8cyl 4A)',\n",
       "       '2001 Land Rover Discovery Series II SUV SD 4WD 4dr SUV (4.0L 8cyl 4A)',\n",
       "       '2000 Land Rover Discovery Series II SUV 4dr SUV AWD',\n",
       "       '2002 Land Rover Discovery Series II SUV SD 4WD 4dr SUV (4.0L 8cyl 4A)',\n",
       "       '2002 Land Rover Discovery Series II SUV SE 4WD 4dr SUV (4.0L 8cyl 4A)',\n",
       "       '2004 Land Rover Freelander SUV HSE 4dr AWD SUV (2.5L 6cyl 5A)',\n",
       "       '2004 Land Rover Freelander SUV SE 4dr AWD SUV (2.5L 6cyl 5A)',\n",
       "       '2004 Land Rover Freelander SUV SE3 2dr AWD SUV (2.5L 6cyl 5A)',\n",
       "       '2003 Land Rover Freelander SUV SE3 2dr AWD SUV (2.5L 6cyl 5A)',\n",
       "       '2003 Land Rover Freelander SUV SE 4dr AWD SUV (2.5L 6cyl 5A)',\n",
       "       '2003 Land Rover Freelander SUV S 4dr AWD SUV (2.5L 6cyl 5A)',\n",
       "       '2003 Land Rover Freelander SUV HSE 4dr AWD SUV (2.5L 6cyl 5A)',\n",
       "       '2005 Land Rover Freelander SUV SE 4dr AWD SUV (2.5L 6cyl 5A)',\n",
       "       '2005 Land Rover Freelander SUV SE3 2dr AWD SUV (2.5L 6cyl 5A)',\n",
       "       '2002 Land Rover Freelander SUV HSE 4dr AWD SUV (2.5L 6cyl 5A)',\n",
       "       '2002 Land Rover Freelander SUV S 4dr AWD SUV (2.5L 6cyl 5A)',\n",
       "       '2002 Land Rover Freelander SUV SE 4dr AWD SUV (2.5L 6cyl 5A)',\n",
       "       '2015 Land Rover LR4 SUV HSE 4dr SUV 4WD (3.0L 6cyl S/C 8A)',\n",
       "       '2015 Land Rover LR4 SUV HSE LUX 4dr SUV 4WD (3.0L 6cyl S/C 8A)',\n",
       "       '2012 Land Rover LR4 SUV 4dr SUV 4WD (5.0L 8cyl 6A)',\n",
       "       '2016 Land Rover LR4 SUV HSE LUX 4dr SUV 4WD (3.0L 6cyl S/C 8A)',\n",
       "       '2016 Land Rover LR4 SUV HSE 4dr SUV 4WD (3.0L 6cyl S/C 8A)',\n",
       "       '2011 Land Rover LR4 SUV V8 4dr SUV 4WD (5.0L 8cyl 6A)',\n",
       "       '2014 Land Rover LR4 SUV HSE LUX 4dr SUV 4WD (3.0L 6cyl S/C 8A)',\n",
       "       '2014 Land Rover LR4 SUV HSE 4dr SUV 4WD (3.0L 6cyl S/C 8A)',\n",
       "       '2010 Land Rover LR4 SUV V8 4dr SUV 4WD (5.0L 8cyl 6A)'],\n",
       "      dtype=object)"
      ]
     },
     "execution_count": 45,
     "metadata": {},
     "output_type": "execute_result"
    }
   ],
   "source": [
    "df2.Vehicle_Title.unique()"
   ]
  },
  {
   "cell_type": "code",
   "execution_count": 14,
   "id": "e2cd754a-df3d-497a-9ed2-ef6f22778ca2",
   "metadata": {
    "tags": []
   },
   "outputs": [
    {
     "data": {
      "text/plain": [
       "' This is a left over new van. Great deal \\respecially with the 0 % interest. Van \\ris very comfortable for travel. The \\rbuilt in antennae for the tv is awsome \\rfor watching local chanels. Van is very \\rquiet and rides smooth. Regency does a \\rgreat job on their conversion packages.\\rAwsome family vehicle'"
      ]
     },
     "execution_count": 14,
     "metadata": {},
     "output_type": "execute_result"
    }
   ],
   "source": [
    "df.filter(pl.col('Author_Name') == 'Regency ')['Review'][0]"
   ]
  },
  {
   "cell_type": "code",
   "execution_count": 15,
   "id": "d56c1676-bb63-42a6-9d91-e16cb153dd91",
   "metadata": {
    "tags": []
   },
   "outputs": [
    {
     "data": {
      "text/plain": [
       "' This is a left over new van. Great deal \\respecially with the 0 % interest. Van \\ris very comfortable for travel. The \\rbuilt in antennae for the tv is awsome \\rfor watching local chanels. Van is very \\rquiet and rides smooth. Regency does a \\rgreat job on their conversion packages.\\rAwsome family vehicle'"
      ]
     },
     "execution_count": 15,
     "metadata": {},
     "output_type": "execute_result"
    }
   ],
   "source": [
    "df2 = df.to_pandas()\n",
    "df2[df2.Author_Name == 'Regency ']['Review'].values[0]"
   ]
  },
  {
   "cell_type": "code",
   "execution_count": 16,
   "id": "ec64046c-7af8-46e5-b65b-4dc46b6139a4",
   "metadata": {
    "tags": []
   },
   "outputs": [],
   "source": [
    "import re\n",
    "def clean_review(review):\n",
    "    # Remove trailing and leading spaces\n",
    "    cleaned_review = review.strip()\n",
    "    # Remove '\\r' characters\n",
    "    cleaned_review = re.sub(r'\\r', '', cleaned_review)\n",
    "    return cleaned_review"
   ]
  },
  {
   "cell_type": "code",
   "execution_count": 17,
   "id": "fd8b1451-7e14-4fb4-9fcd-29e882e09f1a",
   "metadata": {
    "tags": []
   },
   "outputs": [
    {
     "data": {
      "text/plain": [
       "'This is a left over new van. Great deal especially with the 0 % interest. Van is very comfortable for travel. The built in antennae for the tv is awsome for watching local chanels. Van is very quiet and rides smooth. Regency does a great job on their conversion packages.Awsome family vehicle'"
      ]
     },
     "execution_count": 17,
     "metadata": {},
     "output_type": "execute_result"
    }
   ],
   "source": [
    "x = \" This is a left over new van. Great deal \\respecially with the 0 % interest. Van \\ris very comfortable for travel. The \\rbuilt in antennae for the tv is awsome \\rfor watching local chanels. Van is very \\rquiet and rides smooth. Regency does a \\rgreat job on their conversion packages.\\rAwsome family vehicle\"\n",
    "clean_review(x)"
   ]
  },
  {
   "cell_type": "code",
   "execution_count": 18,
   "id": "d871740e-63f6-4875-a05d-67237fb9754e",
   "metadata": {
    "tags": []
   },
   "outputs": [
    {
     "data": {
      "text/plain": [
       "'This is a left over new van. Great deal especially with the 0 % interest. Van is very comfortable for travel. The built in antennae for the tv is awsome for watching local chanels. Van is very quiet and rides smooth. Regency does a great job on their conversion packages.Awsome family vehicle'"
      ]
     },
     "execution_count": 18,
     "metadata": {},
     "output_type": "execute_result"
    }
   ],
   "source": [
    "# Apply the clean_review function to the 'review' column\n",
    "df2['cleaned_review'] = df2['Review'].apply(lambda x: clean_review(x))\n",
    "df2[df2.Author_Name == 'Regency ']['cleaned_review'].values[0]"
   ]
  },
  {
   "cell_type": "code",
   "execution_count": 19,
   "id": "5f829bbc-4804-417c-a1e6-90529c31d346",
   "metadata": {
    "tags": []
   },
   "outputs": [
    {
     "data": {
      "text/html": [
       "<div>\n",
       "<style scoped>\n",
       "    .dataframe tbody tr th:only-of-type {\n",
       "        vertical-align: middle;\n",
       "    }\n",
       "\n",
       "    .dataframe tbody tr th {\n",
       "        vertical-align: top;\n",
       "    }\n",
       "\n",
       "    .dataframe thead th {\n",
       "        text-align: right;\n",
       "    }\n",
       "</style>\n",
       "<table border=\"1\" class=\"dataframe\">\n",
       "  <thead>\n",
       "    <tr style=\"text-align: right;\">\n",
       "      <th></th>\n",
       "      <th></th>\n",
       "      <th>Review_Date</th>\n",
       "      <th>Author_Name</th>\n",
       "      <th>Vehicle_Title</th>\n",
       "      <th>Review_Title</th>\n",
       "      <th>Review</th>\n",
       "      <th>Rating</th>\n",
       "      <th>cleaned_review</th>\n",
       "    </tr>\n",
       "  </thead>\n",
       "  <tbody>\n",
       "    <tr>\n",
       "      <th>0</th>\n",
       "      <td>0</td>\n",
       "      <td>on 10/13/05 15:30 PM (PDT)</td>\n",
       "      <td>roadking</td>\n",
       "      <td>2002 Dodge Ram Cargo Van 1500 3dr Van (3.9L 6c...</td>\n",
       "      <td>Great delivery vehicle</td>\n",
       "      <td>It's been a great delivery vehicle for my caf...</td>\n",
       "      <td>4.625</td>\n",
       "      <td>It's been a great delivery vehicle for my cafe...</td>\n",
       "    </tr>\n",
       "    <tr>\n",
       "      <th>1</th>\n",
       "      <td>1</td>\n",
       "      <td>on 07/17/05 21:59 PM (PDT)</td>\n",
       "      <td>Mark</td>\n",
       "      <td>2002 Dodge Ram Cargo Van 3500 3dr Ext Van (5.2...</td>\n",
       "      <td>Disappointmnet</td>\n",
       "      <td>Bought this car as a commuter vehicle for a v...</td>\n",
       "      <td>2.125</td>\n",
       "      <td>Bought this car as a commuter vehicle for a va...</td>\n",
       "    </tr>\n",
       "    <tr>\n",
       "      <th>2</th>\n",
       "      <td>2</td>\n",
       "      <td>on 07/16/02 00:00 AM (PDT)</td>\n",
       "      <td>Tom Sheer</td>\n",
       "      <td>2002 Dodge Ram Cargo Van 3500 Maxi 3dr Ext Van...</td>\n",
       "      <td>Sweet van</td>\n",
       "      <td>This van rocks its the best, lots of \\rroom. ...</td>\n",
       "      <td>5.000</td>\n",
       "      <td>This van rocks its the best, lots of room. I c...</td>\n",
       "    </tr>\n",
       "    <tr>\n",
       "      <th>3</th>\n",
       "      <td>3</td>\n",
       "      <td>on 12/29/07 21:57 PM (PST)</td>\n",
       "      <td>Keven Smith</td>\n",
       "      <td>2001 Dodge Ram Cargo Van 2500 Maxi 3dr Ext Van...</td>\n",
       "      <td>Keven Smith</td>\n",
       "      <td>Great work vehicle. Drives nice. has lots of ...</td>\n",
       "      <td>4.500</td>\n",
       "      <td>Great work vehicle. Drives nice. has lots of r...</td>\n",
       "    </tr>\n",
       "    <tr>\n",
       "      <th>4</th>\n",
       "      <td>4</td>\n",
       "      <td>on 02/09/05 18:52 PM (PST)</td>\n",
       "      <td>VanMan</td>\n",
       "      <td>2001 Dodge Ram Cargo Van 1500 3dr Van (3.9L 6c...</td>\n",
       "      <td>Not what Dodge used to be</td>\n",
       "      <td>Good solid frame and suspension.  Well equipp...</td>\n",
       "      <td>2.875</td>\n",
       "      <td>Good solid frame and suspension.  Well equippe...</td>\n",
       "    </tr>\n",
       "    <tr>\n",
       "      <th>5</th>\n",
       "      <td>5</td>\n",
       "      <td>on 05/17/04 00:00 AM (PDT)</td>\n",
       "      <td>driverage</td>\n",
       "      <td>2001 Dodge Ram Cargo Van 1500 3dr Van (3.9L 6c...</td>\n",
       "      <td>2001 dodge 1500 ram van</td>\n",
       "      <td>some very early body rust on roof</td>\n",
       "      <td>2.250</td>\n",
       "      <td>some very early body rust on roof</td>\n",
       "    </tr>\n",
       "    <tr>\n",
       "      <th>6</th>\n",
       "      <td>6</td>\n",
       "      <td>on 08/01/17 16:40 PM (PDT)</td>\n",
       "      <td>Guy</td>\n",
       "      <td>2003 Dodge Ram Cargo Van 2500 3dr Ext Van (5.2...</td>\n",
       "      <td>Failur is lurking in every corner</td>\n",
       "      <td>Purchased the vehicle in 2003 second hand wit...</td>\n",
       "      <td>3.000</td>\n",
       "      <td>Purchased the vehicle in 2003 second hand with...</td>\n",
       "    </tr>\n",
       "    <tr>\n",
       "      <th>7</th>\n",
       "      <td>7</td>\n",
       "      <td>on 02/25/06 06:09 AM (PST)</td>\n",
       "      <td>smithtp</td>\n",
       "      <td>2003 Dodge Ram Cargo Van 1500 3dr Ext Van (3.9...</td>\n",
       "      <td>Great Van</td>\n",
       "      <td>Bought used with 34k,the conversion package b...</td>\n",
       "      <td>4.625</td>\n",
       "      <td>Bought used with 34k,the conversion package by...</td>\n",
       "    </tr>\n",
       "    <tr>\n",
       "      <th>8</th>\n",
       "      <td>8</td>\n",
       "      <td>on 04/13/04 00:00 AM (PDT)</td>\n",
       "      <td>Regency</td>\n",
       "      <td>2003 Dodge Ram Cargo Van 1500 3dr Ext Van (3.9...</td>\n",
       "      <td>2003 Conversion Van</td>\n",
       "      <td>This is a left over new van. Great deal \\resp...</td>\n",
       "      <td>3.250</td>\n",
       "      <td>This is a left over new van. Great deal especi...</td>\n",
       "    </tr>\n",
       "    <tr>\n",
       "      <th>9</th>\n",
       "      <td>9</td>\n",
       "      <td>on 03/03/04 00:00 AM (PST)</td>\n",
       "      <td>Dodgem</td>\n",
       "      <td>2003 Dodge Ram Cargo Van 1500 3dr Ext Van (3.9...</td>\n",
       "      <td>She's a looker!</td>\n",
       "      <td>I bought the van new with a conversion \\rpack...</td>\n",
       "      <td>4.000</td>\n",
       "      <td>I bought the van new with a conversion package...</td>\n",
       "    </tr>\n",
       "  </tbody>\n",
       "</table>\n",
       "</div>"
      ],
      "text/plain": [
       "                      Review_Date   Author_Name  \\\n",
       "0  0   on 10/13/05 15:30 PM (PDT)     roadking    \n",
       "1  1   on 07/17/05 21:59 PM (PDT)         Mark    \n",
       "2  2   on 07/16/02 00:00 AM (PDT)    Tom Sheer    \n",
       "3  3   on 12/29/07 21:57 PM (PST)  Keven Smith    \n",
       "4  4   on 02/09/05 18:52 PM (PST)       VanMan    \n",
       "5  5   on 05/17/04 00:00 AM (PDT)    driverage    \n",
       "6  6   on 08/01/17 16:40 PM (PDT)          Guy    \n",
       "7  7   on 02/25/06 06:09 AM (PST)      smithtp    \n",
       "8  8   on 04/13/04 00:00 AM (PDT)      Regency    \n",
       "9  9   on 03/03/04 00:00 AM (PST)       Dodgem    \n",
       "\n",
       "                                       Vehicle_Title  \\\n",
       "0  2002 Dodge Ram Cargo Van 1500 3dr Van (3.9L 6c...   \n",
       "1  2002 Dodge Ram Cargo Van 3500 3dr Ext Van (5.2...   \n",
       "2  2002 Dodge Ram Cargo Van 3500 Maxi 3dr Ext Van...   \n",
       "3  2001 Dodge Ram Cargo Van 2500 Maxi 3dr Ext Van...   \n",
       "4  2001 Dodge Ram Cargo Van 1500 3dr Van (3.9L 6c...   \n",
       "5  2001 Dodge Ram Cargo Van 1500 3dr Van (3.9L 6c...   \n",
       "6  2003 Dodge Ram Cargo Van 2500 3dr Ext Van (5.2...   \n",
       "7  2003 Dodge Ram Cargo Van 1500 3dr Ext Van (3.9...   \n",
       "8  2003 Dodge Ram Cargo Van 1500 3dr Ext Van (3.9...   \n",
       "9  2003 Dodge Ram Cargo Van 1500 3dr Ext Van (3.9...   \n",
       "\n",
       "                        Review_Title  \\\n",
       "0             Great delivery vehicle   \n",
       "1                     Disappointmnet   \n",
       "2                          Sweet van   \n",
       "3                        Keven Smith   \n",
       "4          Not what Dodge used to be   \n",
       "5            2001 dodge 1500 ram van   \n",
       "6  Failur is lurking in every corner   \n",
       "7                          Great Van   \n",
       "8                2003 Conversion Van   \n",
       "9                    She's a looker!   \n",
       "\n",
       "                                              Review  Rating  \\\n",
       "0   It's been a great delivery vehicle for my caf...   4.625   \n",
       "1   Bought this car as a commuter vehicle for a v...   2.125   \n",
       "2   This van rocks its the best, lots of \\rroom. ...   5.000   \n",
       "3   Great work vehicle. Drives nice. has lots of ...   4.500   \n",
       "4   Good solid frame and suspension.  Well equipp...   2.875   \n",
       "5                  some very early body rust on roof   2.250   \n",
       "6   Purchased the vehicle in 2003 second hand wit...   3.000   \n",
       "7   Bought used with 34k,the conversion package b...   4.625   \n",
       "8   This is a left over new van. Great deal \\resp...   3.250   \n",
       "9   I bought the van new with a conversion \\rpack...   4.000   \n",
       "\n",
       "                                      cleaned_review  \n",
       "0  It's been a great delivery vehicle for my cafe...  \n",
       "1  Bought this car as a commuter vehicle for a va...  \n",
       "2  This van rocks its the best, lots of room. I c...  \n",
       "3  Great work vehicle. Drives nice. has lots of r...  \n",
       "4  Good solid frame and suspension.  Well equippe...  \n",
       "5                  some very early body rust on roof  \n",
       "6  Purchased the vehicle in 2003 second hand with...  \n",
       "7  Bought used with 34k,the conversion package by...  \n",
       "8  This is a left over new van. Great deal especi...  \n",
       "9  I bought the van new with a conversion package...  "
      ]
     },
     "execution_count": 19,
     "metadata": {},
     "output_type": "execute_result"
    }
   ],
   "source": [
    "df2.head(10)"
   ]
  },
  {
   "cell_type": "code",
   "execution_count": 20,
   "id": "85ee8ebe-d6aa-4600-98c3-c96e5d84c3bd",
   "metadata": {
    "tags": []
   },
   "outputs": [
    {
     "data": {
      "text/html": [
       "<div>\n",
       "<style scoped>\n",
       "    .dataframe tbody tr th:only-of-type {\n",
       "        vertical-align: middle;\n",
       "    }\n",
       "\n",
       "    .dataframe tbody tr th {\n",
       "        vertical-align: top;\n",
       "    }\n",
       "\n",
       "    .dataframe thead th {\n",
       "        text-align: right;\n",
       "    }\n",
       "</style>\n",
       "<table border=\"1\" class=\"dataframe\">\n",
       "  <thead>\n",
       "    <tr style=\"text-align: right;\">\n",
       "      <th></th>\n",
       "      <th></th>\n",
       "      <th>Review_Date</th>\n",
       "      <th>Author_Name</th>\n",
       "      <th>Vehicle_Title</th>\n",
       "      <th>Review_Title</th>\n",
       "      <th>Review</th>\n",
       "      <th>Rating</th>\n",
       "      <th>cleaned_review</th>\n",
       "      <th>Brand</th>\n",
       "    </tr>\n",
       "  </thead>\n",
       "  <tbody>\n",
       "    <tr>\n",
       "      <th>0</th>\n",
       "      <td>0</td>\n",
       "      <td>on 10/13/05 15:30 PM (PDT)</td>\n",
       "      <td>roadking</td>\n",
       "      <td>2002 Dodge Ram Cargo Van 1500 3dr Van (3.9L 6c...</td>\n",
       "      <td>Great delivery vehicle</td>\n",
       "      <td>It's been a great delivery vehicle for my caf...</td>\n",
       "      <td>4.625</td>\n",
       "      <td>It's been a great delivery vehicle for my cafe...</td>\n",
       "      <td>Dodge</td>\n",
       "    </tr>\n",
       "    <tr>\n",
       "      <th>1</th>\n",
       "      <td>1</td>\n",
       "      <td>on 07/17/05 21:59 PM (PDT)</td>\n",
       "      <td>Mark</td>\n",
       "      <td>2002 Dodge Ram Cargo Van 3500 3dr Ext Van (5.2...</td>\n",
       "      <td>Disappointmnet</td>\n",
       "      <td>Bought this car as a commuter vehicle for a v...</td>\n",
       "      <td>2.125</td>\n",
       "      <td>Bought this car as a commuter vehicle for a va...</td>\n",
       "      <td>Dodge</td>\n",
       "    </tr>\n",
       "    <tr>\n",
       "      <th>2</th>\n",
       "      <td>2</td>\n",
       "      <td>on 07/16/02 00:00 AM (PDT)</td>\n",
       "      <td>Tom Sheer</td>\n",
       "      <td>2002 Dodge Ram Cargo Van 3500 Maxi 3dr Ext Van...</td>\n",
       "      <td>Sweet van</td>\n",
       "      <td>This van rocks its the best, lots of \\rroom. ...</td>\n",
       "      <td>5.000</td>\n",
       "      <td>This van rocks its the best, lots of room. I c...</td>\n",
       "      <td>Dodge</td>\n",
       "    </tr>\n",
       "    <tr>\n",
       "      <th>3</th>\n",
       "      <td>3</td>\n",
       "      <td>on 12/29/07 21:57 PM (PST)</td>\n",
       "      <td>Keven Smith</td>\n",
       "      <td>2001 Dodge Ram Cargo Van 2500 Maxi 3dr Ext Van...</td>\n",
       "      <td>Keven Smith</td>\n",
       "      <td>Great work vehicle. Drives nice. has lots of ...</td>\n",
       "      <td>4.500</td>\n",
       "      <td>Great work vehicle. Drives nice. has lots of r...</td>\n",
       "      <td>Dodge</td>\n",
       "    </tr>\n",
       "    <tr>\n",
       "      <th>4</th>\n",
       "      <td>4</td>\n",
       "      <td>on 02/09/05 18:52 PM (PST)</td>\n",
       "      <td>VanMan</td>\n",
       "      <td>2001 Dodge Ram Cargo Van 1500 3dr Van (3.9L 6c...</td>\n",
       "      <td>Not what Dodge used to be</td>\n",
       "      <td>Good solid frame and suspension.  Well equipp...</td>\n",
       "      <td>2.875</td>\n",
       "      <td>Good solid frame and suspension.  Well equippe...</td>\n",
       "      <td>Dodge</td>\n",
       "    </tr>\n",
       "  </tbody>\n",
       "</table>\n",
       "</div>"
      ],
      "text/plain": [
       "                      Review_Date   Author_Name  \\\n",
       "0  0   on 10/13/05 15:30 PM (PDT)     roadking    \n",
       "1  1   on 07/17/05 21:59 PM (PDT)         Mark    \n",
       "2  2   on 07/16/02 00:00 AM (PDT)    Tom Sheer    \n",
       "3  3   on 12/29/07 21:57 PM (PST)  Keven Smith    \n",
       "4  4   on 02/09/05 18:52 PM (PST)       VanMan    \n",
       "\n",
       "                                       Vehicle_Title  \\\n",
       "0  2002 Dodge Ram Cargo Van 1500 3dr Van (3.9L 6c...   \n",
       "1  2002 Dodge Ram Cargo Van 3500 3dr Ext Van (5.2...   \n",
       "2  2002 Dodge Ram Cargo Van 3500 Maxi 3dr Ext Van...   \n",
       "3  2001 Dodge Ram Cargo Van 2500 Maxi 3dr Ext Van...   \n",
       "4  2001 Dodge Ram Cargo Van 1500 3dr Van (3.9L 6c...   \n",
       "\n",
       "                Review_Title  \\\n",
       "0     Great delivery vehicle   \n",
       "1             Disappointmnet   \n",
       "2                  Sweet van   \n",
       "3                Keven Smith   \n",
       "4  Not what Dodge used to be   \n",
       "\n",
       "                                              Review  Rating  \\\n",
       "0   It's been a great delivery vehicle for my caf...   4.625   \n",
       "1   Bought this car as a commuter vehicle for a v...   2.125   \n",
       "2   This van rocks its the best, lots of \\rroom. ...   5.000   \n",
       "3   Great work vehicle. Drives nice. has lots of ...   4.500   \n",
       "4   Good solid frame and suspension.  Well equipp...   2.875   \n",
       "\n",
       "                                      cleaned_review  Brand  \n",
       "0  It's been a great delivery vehicle for my cafe...  Dodge  \n",
       "1  Bought this car as a commuter vehicle for a va...  Dodge  \n",
       "2  This van rocks its the best, lots of room. I c...  Dodge  \n",
       "3  Great work vehicle. Drives nice. has lots of r...  Dodge  \n",
       "4  Good solid frame and suspension.  Well equippe...  Dodge  "
      ]
     },
     "execution_count": 20,
     "metadata": {},
     "output_type": "execute_result"
    }
   ],
   "source": [
    "df2['Brand'] = df2['Vehicle_Title'].apply(lambda x: 'Dodge' if x.lower().split() else None)\n",
    "df2.head()"
   ]
  },
  {
   "cell_type": "code",
   "execution_count": 21,
   "id": "1f50d692-3d4c-445d-8b5c-7cce402010fb",
   "metadata": {
    "tags": []
   },
   "outputs": [
    {
     "name": "stdout",
     "output_type": "stream",
     "text": [
      "<class 'pandas.core.frame.DataFrame'>\n",
      "RangeIndex: 8499 entries, 0 to 8498\n",
      "Data columns (total 9 columns):\n",
      " #   Column          Non-Null Count  Dtype  \n",
      "---  ------          --------------  -----  \n",
      " 0                   8499 non-null   int64  \n",
      " 1   Review_Date     8499 non-null   object \n",
      " 2   Author_Name     8499 non-null   object \n",
      " 3   Vehicle_Title   8499 non-null   object \n",
      " 4   Review_Title    8499 non-null   object \n",
      " 5   Review          8499 non-null   object \n",
      " 6   Rating          8499 non-null   float64\n",
      " 7   cleaned_review  8499 non-null   object \n",
      " 8   Brand           8499 non-null   object \n",
      "dtypes: float64(1), int64(1), object(7)\n",
      "memory usage: 597.7+ KB\n"
     ]
    }
   ],
   "source": [
    "df2.info()"
   ]
  },
  {
   "cell_type": "code",
   "execution_count": 28,
   "id": "2d67d007-331f-4eae-a2d8-349492a1b767",
   "metadata": {
    "tags": []
   },
   "outputs": [],
   "source": [
    "df2.to_csv('../data/MergeData_Test/dodge_reviews_vikas.csv', index = False)"
   ]
  },
  {
   "cell_type": "code",
   "execution_count": 25,
   "id": "84a0d9ef-39de-43b9-b063-42a96116718c",
   "metadata": {
    "tags": []
   },
   "outputs": [],
   "source": [
    "df2 = df2.drop(columns = ['Review'])"
   ]
  },
  {
   "cell_type": "code",
   "execution_count": 27,
   "id": "67a5b81b-858d-4f34-8dfc-7d0d44996b27",
   "metadata": {
    "tags": []
   },
   "outputs": [
    {
     "data": {
      "text/plain": [
       "'This is a left over new van. Great deal especially with the 0 % interest. Van is very comfortable for travel. The built in antennae for the tv is awsome for watching local chanels. Van is very quiet and rides smooth. Regency does a great job on their conversion packages.Awsome family vehicle'"
      ]
     },
     "execution_count": 27,
     "metadata": {},
     "output_type": "execute_result"
    }
   ],
   "source": [
    "df2[df2.Author_Name == 'Regency ']['cleaned_review'].values[0]"
   ]
  },
  {
   "cell_type": "markdown",
   "id": "68b696d6-5ac7-4da3-95a7-7d9f99554942",
   "metadata": {
    "jp-MarkdownHeadingCollapsed": true,
    "tags": []
   },
   "source": [
    "## NHTSA"
   ]
  },
  {
   "cell_type": "code",
   "execution_count": 31,
   "id": "c6cb04f9-9f45-46c3-b600-70201280bbee",
   "metadata": {
    "tags": []
   },
   "outputs": [
    {
     "data": {
      "text/html": [
       "<div>\n",
       "<style scoped>\n",
       "    .dataframe tbody tr th:only-of-type {\n",
       "        vertical-align: middle;\n",
       "    }\n",
       "\n",
       "    .dataframe tbody tr th {\n",
       "        vertical-align: top;\n",
       "    }\n",
       "\n",
       "    .dataframe thead th {\n",
       "        text-align: right;\n",
       "    }\n",
       "</style>\n",
       "<table border=\"1\" class=\"dataframe\">\n",
       "  <thead>\n",
       "    <tr style=\"text-align: right;\">\n",
       "      <th></th>\n",
       "      <th>ModelYear</th>\n",
       "      <th>Make</th>\n",
       "      <th>Model</th>\n",
       "      <th>VehicleId</th>\n",
       "      <th>SafetyRatings</th>\n",
       "    </tr>\n",
       "  </thead>\n",
       "  <tbody>\n",
       "    <tr>\n",
       "      <th>0</th>\n",
       "      <td>2024.0</td>\n",
       "      <td>ACURA</td>\n",
       "      <td>INTEGRA</td>\n",
       "      <td>18962.0</td>\n",
       "      <td>[{'OverallRating': '5', 'OverallFrontCrashRati...</td>\n",
       "    </tr>\n",
       "    <tr>\n",
       "      <th>1</th>\n",
       "      <td>2024.0</td>\n",
       "      <td>ACURA</td>\n",
       "      <td>INTEGRA TYPE-S</td>\n",
       "      <td>19941.0</td>\n",
       "      <td>[{'OverallRating': 'Not Rated', 'OverallFrontC...</td>\n",
       "    </tr>\n",
       "    <tr>\n",
       "      <th>2</th>\n",
       "      <td>2024.0</td>\n",
       "      <td>ACURA</td>\n",
       "      <td>MDX</td>\n",
       "      <td>18964.0</td>\n",
       "      <td>[{'OverallRating': 'Not Rated', 'OverallFrontC...</td>\n",
       "    </tr>\n",
       "    <tr>\n",
       "      <th>3</th>\n",
       "      <td>2024.0</td>\n",
       "      <td>ACURA</td>\n",
       "      <td>MDX</td>\n",
       "      <td>18963.0</td>\n",
       "      <td>[{'OverallRating': '5', 'OverallFrontCrashRati...</td>\n",
       "    </tr>\n",
       "    <tr>\n",
       "      <th>4</th>\n",
       "      <td>2024.0</td>\n",
       "      <td>ACURA</td>\n",
       "      <td>RDX</td>\n",
       "      <td>19606.0</td>\n",
       "      <td>[{'OverallRating': '5', 'OverallFrontCrashRati...</td>\n",
       "    </tr>\n",
       "  </tbody>\n",
       "</table>\n",
       "</div>"
      ],
      "text/plain": [
       "   ModelYear   Make           Model  VehicleId  \\\n",
       "0     2024.0  ACURA         INTEGRA    18962.0   \n",
       "1     2024.0  ACURA  INTEGRA TYPE-S    19941.0   \n",
       "2     2024.0  ACURA             MDX    18964.0   \n",
       "3     2024.0  ACURA             MDX    18963.0   \n",
       "4     2024.0  ACURA             RDX    19606.0   \n",
       "\n",
       "                                       SafetyRatings  \n",
       "0  [{'OverallRating': '5', 'OverallFrontCrashRati...  \n",
       "1  [{'OverallRating': 'Not Rated', 'OverallFrontC...  \n",
       "2  [{'OverallRating': 'Not Rated', 'OverallFrontC...  \n",
       "3  [{'OverallRating': '5', 'OverallFrontCrashRati...  \n",
       "4  [{'OverallRating': '5', 'OverallFrontCrashRati...  "
      ]
     },
     "execution_count": 31,
     "metadata": {},
     "output_type": "execute_result"
    }
   ],
   "source": [
    "nhtsa_df = pd.read_csv('../data/NHTSA.csv')\n",
    "nhtsa_df.head()"
   ]
  },
  {
   "cell_type": "code",
   "execution_count": 33,
   "id": "bf8d748e-0831-4571-9ee1-892a4a2e7fe1",
   "metadata": {
    "tags": []
   },
   "outputs": [
    {
     "data": {
      "text/html": [
       "<div>\n",
       "<style scoped>\n",
       "    .dataframe tbody tr th:only-of-type {\n",
       "        vertical-align: middle;\n",
       "    }\n",
       "\n",
       "    .dataframe tbody tr th {\n",
       "        vertical-align: top;\n",
       "    }\n",
       "\n",
       "    .dataframe thead th {\n",
       "        text-align: right;\n",
       "    }\n",
       "</style>\n",
       "<table border=\"1\" class=\"dataframe\">\n",
       "  <thead>\n",
       "    <tr style=\"text-align: right;\">\n",
       "      <th></th>\n",
       "      <th>ModelYear</th>\n",
       "      <th>Brand</th>\n",
       "      <th>Model</th>\n",
       "      <th>VehicleId</th>\n",
       "      <th>SafetyRatings</th>\n",
       "    </tr>\n",
       "  </thead>\n",
       "  <tbody>\n",
       "    <tr>\n",
       "      <th>0</th>\n",
       "      <td>2024.0</td>\n",
       "      <td>ACURA</td>\n",
       "      <td>INTEGRA</td>\n",
       "      <td>18962.0</td>\n",
       "      <td>[{'OverallRating': '5', 'OverallFrontCrashRati...</td>\n",
       "    </tr>\n",
       "    <tr>\n",
       "      <th>1</th>\n",
       "      <td>2024.0</td>\n",
       "      <td>ACURA</td>\n",
       "      <td>INTEGRA TYPE-S</td>\n",
       "      <td>19941.0</td>\n",
       "      <td>[{'OverallRating': 'Not Rated', 'OverallFrontC...</td>\n",
       "    </tr>\n",
       "    <tr>\n",
       "      <th>2</th>\n",
       "      <td>2024.0</td>\n",
       "      <td>ACURA</td>\n",
       "      <td>MDX</td>\n",
       "      <td>18964.0</td>\n",
       "      <td>[{'OverallRating': 'Not Rated', 'OverallFrontC...</td>\n",
       "    </tr>\n",
       "    <tr>\n",
       "      <th>3</th>\n",
       "      <td>2024.0</td>\n",
       "      <td>ACURA</td>\n",
       "      <td>MDX</td>\n",
       "      <td>18963.0</td>\n",
       "      <td>[{'OverallRating': '5', 'OverallFrontCrashRati...</td>\n",
       "    </tr>\n",
       "    <tr>\n",
       "      <th>4</th>\n",
       "      <td>2024.0</td>\n",
       "      <td>ACURA</td>\n",
       "      <td>RDX</td>\n",
       "      <td>19606.0</td>\n",
       "      <td>[{'OverallRating': '5', 'OverallFrontCrashRati...</td>\n",
       "    </tr>\n",
       "  </tbody>\n",
       "</table>\n",
       "</div>"
      ],
      "text/plain": [
       "   ModelYear  Brand           Model  VehicleId  \\\n",
       "0     2024.0  ACURA         INTEGRA    18962.0   \n",
       "1     2024.0  ACURA  INTEGRA TYPE-S    19941.0   \n",
       "2     2024.0  ACURA             MDX    18964.0   \n",
       "3     2024.0  ACURA             MDX    18963.0   \n",
       "4     2024.0  ACURA             RDX    19606.0   \n",
       "\n",
       "                                       SafetyRatings  \n",
       "0  [{'OverallRating': '5', 'OverallFrontCrashRati...  \n",
       "1  [{'OverallRating': 'Not Rated', 'OverallFrontC...  \n",
       "2  [{'OverallRating': 'Not Rated', 'OverallFrontC...  \n",
       "3  [{'OverallRating': '5', 'OverallFrontCrashRati...  \n",
       "4  [{'OverallRating': '5', 'OverallFrontCrashRati...  "
      ]
     },
     "execution_count": 33,
     "metadata": {},
     "output_type": "execute_result"
    }
   ],
   "source": [
    "nhtsa_df = nhtsa_df.rename(columns={'Make': 'Brand'})\n",
    "nhtsa_df.head()"
   ]
  },
  {
   "cell_type": "code",
   "execution_count": 37,
   "id": "be5ba00a-fac7-451d-9dc6-97159ab13163",
   "metadata": {
    "tags": []
   },
   "outputs": [],
   "source": [
    "brands_nhtsa = nhtsa_df.Brand.unique()"
   ]
  },
  {
   "cell_type": "code",
   "execution_count": 42,
   "id": "6efe3d79-17fb-4ac8-a983-1f6bd0829cd9",
   "metadata": {
    "tags": []
   },
   "outputs": [],
   "source": [
    "brands_CarModels = [\n",
    "    'Audi',\n",
    "    'BMW',\n",
    "    'Buick',\n",
    "    'Cadillac',\n",
    "    'Chevrolet',\n",
    "    'Chrysler',\n",
    "    'Dodge',\n",
    "    'Ford',\n",
    "    'GMC',\n",
    "    'Honda',\n",
    "    'Hyundai',\n",
    "    'Jaguar',\n",
    "    'Jeep',\n",
    "    'Kia',\n",
    "    'Land-Rover',\n",
    "    'Lexus',\n",
    "    'Mazda',\n",
    "    'Mercedes-Benz',\n",
    "    'Nissan',\n",
    "    'Porsche',\n",
    "    'Ram',\n",
    "    'Subaru',\n",
    "    'Tesla',\n",
    "    'Toyota',\n",
    "    'Volkswagen'\n",
    "]"
   ]
  },
  {
   "cell_type": "code",
   "execution_count": 38,
   "id": "375cb06a-2ddf-4fdf-a76b-79cdacfa3097",
   "metadata": {
    "tags": []
   },
   "outputs": [],
   "source": [
    "CarModels = set([x.lower() for x in brands_CarModels])\n",
    "BrandsNHTSA = set([x.lower() for x in brands_nhtsa])"
   ]
  },
  {
   "cell_type": "code",
   "execution_count": 41,
   "id": "16ba2668-f701-40da-9308-69da591da1db",
   "metadata": {
    "tags": []
   },
   "outputs": [
    {
     "data": {
      "text/plain": [
       "26"
      ]
     },
     "execution_count": 41,
     "metadata": {},
     "output_type": "execute_result"
    }
   ],
   "source": [
    "len([x for x in CarModels if x in BrandsNHTSA]) # check to see how many selected brands are present in NHTSA"
   ]
  },
  {
   "cell_type": "code",
   "execution_count": 1,
   "id": "6d144d9b-3b09-42db-bbd7-cff7d39f051c",
   "metadata": {
    "tags": []
   },
   "outputs": [
    {
     "name": "stdout",
     "output_type": "stream",
     "text": [
      "Unexpected exception formatting exception. Falling back to standard exception\n"
     ]
    },
    {
     "name": "stderr",
     "output_type": "stream",
     "text": [
      "Traceback (most recent call last):\n",
      "  File \"/usr/local/lib/python3.8/dist-packages/IPython/core/interactiveshell.py\", line 3508, in run_code\n",
      "    exec(code_obj, self.user_global_ns, self.user_ns)\n",
      "  File \"/tmp/ipykernel_78/2767054567.py\", line 1, in <module>\n",
      "    df= pl.read_csv('../data/Scraped_Car_Review_fiat.csv')\n",
      "NameError: name 'pl' is not defined\n",
      "\n",
      "During handling of the above exception, another exception occurred:\n",
      "\n",
      "Traceback (most recent call last):\n",
      "  File \"/usr/local/lib/python3.8/dist-packages/IPython/core/interactiveshell.py\", line 2105, in showtraceback\n",
      "    stb = self.InteractiveTB.structured_traceback(\n",
      "  File \"/usr/local/lib/python3.8/dist-packages/IPython/core/ultratb.py\", line 1396, in structured_traceback\n",
      "    return FormattedTB.structured_traceback(\n",
      "  File \"/usr/local/lib/python3.8/dist-packages/IPython/core/ultratb.py\", line 1287, in structured_traceback\n",
      "    return VerboseTB.structured_traceback(\n",
      "  File \"/usr/local/lib/python3.8/dist-packages/IPython/core/ultratb.py\", line 1140, in structured_traceback\n",
      "    formatted_exception = self.format_exception_as_a_whole(etype, evalue, etb, number_of_lines_of_context,\n",
      "  File \"/usr/local/lib/python3.8/dist-packages/IPython/core/ultratb.py\", line 1055, in format_exception_as_a_whole\n",
      "    frames.append(self.format_record(record))\n",
      "  File \"/usr/local/lib/python3.8/dist-packages/IPython/core/ultratb.py\", line 955, in format_record\n",
      "    frame_info.lines, Colors, self.has_colors, lvals\n",
      "  File \"/usr/local/lib/python3.8/dist-packages/IPython/core/ultratb.py\", line 778, in lines\n",
      "    return self._sd.lines\n",
      "  File \"/usr/local/lib/python3.8/dist-packages/stack_data/utils.py\", line 144, in cached_property_wrapper\n",
      "    value = obj.__dict__[self.func.__name__] = self.func(obj)\n",
      "  File \"/usr/local/lib/python3.8/dist-packages/stack_data/core.py\", line 734, in lines\n",
      "    pieces = self.included_pieces\n",
      "  File \"/usr/local/lib/python3.8/dist-packages/stack_data/utils.py\", line 144, in cached_property_wrapper\n",
      "    value = obj.__dict__[self.func.__name__] = self.func(obj)\n",
      "  File \"/usr/local/lib/python3.8/dist-packages/stack_data/core.py\", line 677, in included_pieces\n",
      "    scope_pieces = self.scope_pieces\n",
      "  File \"/usr/local/lib/python3.8/dist-packages/stack_data/utils.py\", line 144, in cached_property_wrapper\n",
      "    value = obj.__dict__[self.func.__name__] = self.func(obj)\n",
      "  File \"/usr/local/lib/python3.8/dist-packages/stack_data/core.py\", line 614, in scope_pieces\n",
      "    scope_start, scope_end = self.source.line_range(self.scope)\n",
      "  File \"/usr/local/lib/python3.8/dist-packages/stack_data/core.py\", line 178, in line_range\n",
      "    return line_range(self.asttext(), node)\n",
      "  File \"/usr/local/lib/python3.8/dist-packages/executing/executing.py\", line 428, in asttext\n",
      "    self._asttext = ASTText(self.text, tree=self.tree, filename=self.filename)\n",
      "  File \"/usr/local/lib/python3.8/dist-packages/asttokens/asttokens.py\", line 307, in __init__\n",
      "    super(ASTText, self).__init__(source_text, filename)\n",
      "  File \"/usr/local/lib/python3.8/dist-packages/asttokens/asttokens.py\", line 44, in __init__\n",
      "    source_text = six.ensure_text(source_text)\n",
      "AttributeError: module 'six' has no attribute 'ensure_text'\n"
     ]
    }
   ],
   "source": [
    "df= pl.read_csv('../data/Scraped_Car_Review_fiat.csv')\n",
    "df.head(20)"
   ]
  },
  {
   "cell_type": "code",
   "execution_count": null,
   "id": "c6bf793b-b5b3-49a3-bdbf-9bbb1be2bc41",
   "metadata": {},
   "outputs": [],
   "source": []
  }
 ],
 "metadata": {
  "kernelspec": {
   "display_name": "Python 3 (ipykernel)",
   "language": "python",
   "name": "python3"
  },
  "language_info": {
   "codemirror_mode": {
    "name": "ipython",
    "version": 3
   },
   "file_extension": ".py",
   "mimetype": "text/x-python",
   "name": "python",
   "nbconvert_exporter": "python",
   "pygments_lexer": "ipython3",
   "version": "3.8.0"
  }
 },
 "nbformat": 4,
 "nbformat_minor": 5
}
