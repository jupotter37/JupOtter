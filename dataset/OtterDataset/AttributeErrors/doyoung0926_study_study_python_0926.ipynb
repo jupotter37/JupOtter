{
 "cells": [
  {
   "cell_type": "markdown",
   "id": "68893b51",
   "metadata": {},
   "source": [
    "# Python 클래스"
   ]
  },
  {
   "cell_type": "code",
   "execution_count": 23,
   "id": "86059f9b",
   "metadata": {},
   "outputs": [],
   "source": [
    "# 클래스(class)\n",
    "# 특정 기능을 하기 위한 변수와 함수를 하나로 묶어 둔 Type\n",
    "# 제품의 설계도에 비유 / 틀\n",
    "# 설계도에 근거해서 만들어진 제품이 바로 객체\n",
    "# 제품이 생성된 상세 클래스 정보를 인스턴스\n",
    "\n",
    "# class Star\n",
    "# 색상\n",
    "# 크기\n",
    "# 반짝이다()\n",
    "# ......\n",
    "# 별 인스턴스\n",
    "# 별 인스턴스   # 객체(Object)\n",
    "# 별 인스턴스"
   ]
  },
  {
   "cell_type": "code",
   "execution_count": 24,
   "id": "c8a1f5b9",
   "metadata": {},
   "outputs": [],
   "source": [
    "# 클래스(class)\n",
    "# self 키워드\n",
    "# 클래스로 객체를 생성한 경우 인스턴스가 저장된 변수\n",
    "# class Star\n",
    "# 색상\n",
    "# 크기\n",
    "# 반짝이다()\n",
    "# ......\n",
    "# red=Star()   <- 별 인스턴스(객체) 생성,  self = red 저장\n",
    "# yellow=Star()  <- 별 인스턴스(객체) 생성, self = yellow 저장\n",
    "# green=Star()  <- 별 인스턴스(객체) 생성, self = green 저장"
   ]
  },
  {
   "cell_type": "code",
   "execution_count": 25,
   "id": "2dfe02da",
   "metadata": {},
   "outputs": [],
   "source": [
    "# 클래스(class) 구성\n",
    "# class 클래스 이름:\n",
    "# 클래스 변수 1\n",
    "# ...         <- 클래스 속성, 특징, 성질,  객체에 공유되는 변수\n",
    "# 클래스 변수 N  \n",
    "\n",
    "# 객체 초기화 함수 생성자(Constructor)      <- 인스턴스 생성 시 초기화 값, 인스턴스 마다 각자의 값 저장\n",
    "# def __init__(self [,인수1, 인수2, ...]):\n",
    "\n",
    "# 클래스 함수/메서드                      <- 기능, 동작, 행동\n",
    "# def 함수명(self [, 인수1, 인수2, ...]):"
   ]
  },
  {
   "cell_type": "code",
   "execution_count": 26,
   "id": "69d36f53",
   "metadata": {},
   "outputs": [],
   "source": [
    "# 클래스(class) 구성\n",
    "# 다양한 클래스 생성\n",
    "class ProductNone:  # 속성도 메서드도 없는 클래스\n",
    "    pass"
   ]
  },
  {
   "cell_type": "code",
   "execution_count": 60,
   "id": "89d92635",
   "metadata": {},
   "outputs": [],
   "source": [
    "# 클래스(class) 구성\n",
    "# 다양한 클래스 생성\n",
    "class Product:     # 메서드만 존재하는 클래스\n",
    "    \n",
    "    def displayInfo(self, pname, price):\n",
    "        print(f'PNAME = {pname}')\n",
    "        print(f'PRICE = {price}\\n')"
   ]
  },
  {
   "cell_type": "code",
   "execution_count": 63,
   "id": "70a07037",
   "metadata": {},
   "outputs": [],
   "source": [
    "# 클래스(class) 구성\n",
    "# 다양한 클래스 생성\n",
    "class Product:                               # 필드, 메서드 모두 존재하는 클래스\n",
    "    # 필드(속성) 생성\n",
    "    def __init__(self, pname, price):\n",
    "        self.pname=pname            # 특별히 생성자 메서드 라 함\n",
    "        self.price=price\n",
    "        \n",
    "    def displayInfo(self):\n",
    "        print(f'PNAME = {self.pname}')\n",
    "        print(f'PRICE = {self.price}\\n')"
   ]
  },
  {
   "cell_type": "code",
   "execution_count": 48,
   "id": "a9337e1c",
   "metadata": {},
   "outputs": [],
   "source": [
    "# 클래스(class) 구성\n",
    "# 객체(인스턴스) 생성\n",
    "# 객체변수명 = 클래스명()\n",
    "\n",
    "class ProductNone:\n",
    "    pass\n",
    "# 생성\n",
    "p1 = ProductNone()\n",
    "p2 = ProductNone()"
   ]
  },
  {
   "cell_type": "code",
   "execution_count": 49,
   "id": "219384a7",
   "metadata": {},
   "outputs": [],
   "source": [
    "# 클래스(class) 구성\n",
    "# 객체(인스턴스) 속성 & 메서드 사용\n",
    "# 속성값 변경: 객체변수명.속성명 = 값\n",
    "# 속성값 읽기: 객체변수명.속성명\n",
    "\n",
    "# 메서드 호출: 객체변수명.메서드명"
   ]
  },
  {
   "cell_type": "code",
   "execution_count": 64,
   "id": "86011e1b",
   "metadata": {},
   "outputs": [
    {
     "name": "stdout",
     "output_type": "stream",
     "text": [
      "PNAME = Cake\n",
      "PRICE = Home\n",
      "\n"
     ]
    }
   ],
   "source": [
    "# 클래스(class) 구성\n",
    "# 객체(인스턴스) 속성 & 메서드 사용\n",
    "# --------------------------------------------\n",
    "# 객체(인스턴스) 생성\n",
    "# 방법(규칙): 변수명 = 클래스명()\n",
    "# --------------------------------------------\n",
    "p1=Product('Cake', 'Home')\n",
    "p2=Product('Bag', 'Park')\n",
    "\n",
    "\n",
    "# --------------------------------------------\n",
    "# 객체(인스턴스)의 메서드 또는 속성(필드) 사용\n",
    "# 객체(인스턴스)변수명.메서드()\n",
    "# --------------------------------------------\n",
    "p1.displayInfo()      # 객체(Product 인스턴스) 메서드 사용"
   ]
  },
  {
   "cell_type": "code",
   "execution_count": 65,
   "id": "269754fc",
   "metadata": {},
   "outputs": [
    {
     "ename": "AttributeError",
     "evalue": "'Product' object has no attribute 'pmaker'",
     "output_type": "error",
     "traceback": [
      "\u001b[1;31m---------------------------------------------------------------------------\u001b[0m",
      "\u001b[1;31mAttributeError\u001b[0m                            Traceback (most recent call last)",
      "Input \u001b[1;32mIn [65]\u001b[0m, in \u001b[0;36m<cell line: 8>\u001b[1;34m()\u001b[0m\n\u001b[0;32m      1\u001b[0m \u001b[38;5;66;03m# 클래스(class) 구성\u001b[39;00m\n\u001b[0;32m      2\u001b[0m \u001b[38;5;66;03m# 객체(인스턴스) 속성 & 메서드 사용\u001b[39;00m\n\u001b[0;32m      3\u001b[0m \n\u001b[1;32m   (...)\u001b[0m\n\u001b[0;32m      6\u001b[0m \u001b[38;5;66;03m# 객체(인스턴스)변수명.속성명\u001b[39;00m\n\u001b[0;32m      7\u001b[0m \u001b[38;5;66;03m# -------------------------------------------\u001b[39;00m\n\u001b[1;32m----> 8\u001b[0m \u001b[38;5;28mprint\u001b[39m(\u001b[38;5;124mf\u001b[39m\u001b[38;5;124m'\u001b[39m\u001b[38;5;124mp1.pmaker => \u001b[39m\u001b[38;5;132;01m{\u001b[39;00mp1\u001b[38;5;241m.\u001b[39mpmaker\u001b[38;5;132;01m}\u001b[39;00m\u001b[38;5;124m'\u001b[39m)  \u001b[38;5;66;03m# 객체(product 인스턴스) 필드 값 사용\u001b[39;00m\n\u001b[0;32m      9\u001b[0m \u001b[38;5;28mprint\u001b[39m(\u001b[38;5;124mf\u001b[39m\u001b[38;5;124m'\u001b[39m\u001b[38;5;124mp1.price => \u001b[39m\u001b[38;5;132;01m{\u001b[39;00mp1\u001b[38;5;241m.\u001b[39mprice\u001b[38;5;132;01m}\u001b[39;00m\u001b[38;5;124m'\u001b[39m)   \u001b[38;5;66;03m# 객체(product 인스턴스) 필드 값 사용\u001b[39;00m\n\u001b[0;32m     11\u001b[0m p1\u001b[38;5;241m.\u001b[39mprice\u001b[38;5;241m=\u001b[39m\u001b[38;5;241m25000\u001b[39m     \u001b[38;5;66;03m# 객체(Product 인스턴스) 필드 값 변경\u001b[39;00m\n",
      "\u001b[1;31mAttributeError\u001b[0m: 'Product' object has no attribute 'pmaker'"
     ]
    }
   ],
   "source": [
    "# 클래스(class) 구성\n",
    "# 객체(인스턴스) 속성 & 메서드 사용\n",
    "\n",
    "# -------------------------------------------\n",
    "# 객체(인스턴스)의 메서드 또는 속성(필드) 사용\n",
    "# 객체(인스턴스)변수명.속성명\n",
    "# -------------------------------------------\n",
    "print(f'p1.pmaker => {p1.pmaker}')  # 객체(product 인스턴스) 필드 값 사용\n",
    "print(f'p1.price => {p1.price}')   # 객체(product 인스턴스) 필드 값 사용\n",
    "\n",
    "p1.price=25000     # 객체(Product 인스턴스) 필드 값 변경\n",
    "p1.pmaker='Pari'   # 객체(Product 인스턴스) 필드 값 변경\n",
    "\n",
    "print(f'p1.pmaker => {p1.pmaker}')   # 객체(Product 인스턴스) 필드 값 사용\n",
    "print(f'p1.price => {p1.price}')    # 객체(Product 인스턴스) 필드 값 사용"
   ]
  },
  {
   "cell_type": "code",
   "execution_count": 34,
   "id": "3f42568e",
   "metadata": {},
   "outputs": [
    {
     "data": {
      "text/plain": [
       "<__main__.ProductNone at 0x1ed96b98f70>"
      ]
     },
     "execution_count": 34,
     "metadata": {},
     "output_type": "execute_result"
    }
   ],
   "source": [
    "# 클래스(class) 구성\n",
    "# 객체(인스턴스) 생성\n",
    "class ProductNone:\n",
    "    pass\n",
    "# 생성\n",
    "p1 = ProductNone()\n",
    "p2 = ProductNone()\n",
    "ProductNone()\n",
    "\n",
    "# 스택영역\n",
    "# p1, p2\n",
    "\n",
    "# 객체(힙) 영역\n",
    "# ProductNone 인스턴스, ProductNone 인스턴스, ProductNone 인스턴스\n",
    "# 힙에 존재하는 객체 사용 방법 없음"
   ]
  },
  {
   "cell_type": "code",
   "execution_count": 35,
   "id": "6de8be76",
   "metadata": {},
   "outputs": [],
   "source": [
    "# 클래스 코드 해석한 후\n",
    "# 설계도(class)\n",
    "# 제조사  - 숫자1, 숫자2\n",
    "# 더하기, 곱하기\n",
    "\n",
    "# 데이터영역(전역변수)   클래스명\n",
    "\n",
    "# 스택영역(함수, 지역변수)\n",
    "\n",
    "# 객체 영역\n",
    "# 계산기 클래스\n",
    "# __init__ 더하기, 곱하기\n",
    "# 메서드는 function 객체"
   ]
  },
  {
   "cell_type": "code",
   "execution_count": 37,
   "id": "46a08801",
   "metadata": {},
   "outputs": [],
   "source": [
    "# 객체생성 코드 해석 후\n",
    "# 데이터 영역(전역변수)\n",
    "# 클래스명\n",
    "\n",
    "# 스택영역(함수, 지역변수)\n",
    "# __init__   <- self 클래스 인스턴스 주소값\n",
    "# 객체변수명\n",
    "\n",
    "# 객체 영역\n",
    "# 계산기 클래스\n",
    "# __init__ 더하기, 곱하기\n",
    "# 녹색 계산기\n",
    "# 제조사, 숫자1, 숫자2\n",
    "# 샤프 ,  10,  20"
   ]
  },
  {
   "cell_type": "code",
   "execution_count": 38,
   "id": "1590bf9c",
   "metadata": {},
   "outputs": [],
   "source": [
    "# 객체 메서드\n",
    "# 호출 코드\n",
    "# 해석 후\n",
    "\n",
    "# 데이터 영역(전역변수)\n",
    "# 클래스명\n",
    "\n",
    "# 스택영역(함수, 지역변수)\n",
    "# 함수명   self\n",
    "# 객체변수명\n",
    "# self 클래스 인스턴스 주소값\n",
    "\n",
    "# 객체 영역\n",
    "# 계산기 클래스\n",
    "# __init__  더하기  곱하기\n",
    "# 녹색 계산기\n",
    "# 제조사  숫자1   숫자2\n",
    "# 샤프     10       20"
   ]
  },
  {
   "cell_type": "code",
   "execution_count": 39,
   "id": "c02a3cdc",
   "metadata": {},
   "outputs": [],
   "source": [
    "# 설계도(class)\n",
    "# 제조사   숫자1   숫자2     더하기    곱하기\n",
    "#     객체 생성             객체 생성\n",
    "\n",
    "# 객체 영역\n",
    "# 녹색 계산기\n",
    "# 샤프 10 20\n",
    "# 노랑색 계산기 \n",
    "# LG 5 10\n",
    "\n",
    "# 계산기 클래스\n",
    "# 더하기 곱하기   \n",
    "# 함수 실행시 재료 필요"
   ]
  },
  {
   "cell_type": "code",
   "execution_count": 40,
   "id": "4f4d1fa2",
   "metadata": {},
   "outputs": [
    {
     "name": "stdout",
     "output_type": "stream",
     "text": [
      "p1.__dict__ : {}\n",
      "Product.__dict__ : {'__module__': '__main__', '__init__': <function Product.__init__ at 0x000001ED95A75DC0>, 'displayInfo': <function Product.displayInfo at 0x000001ED975C3790>, '__dict__': <attribute '__dict__' of 'Product' objects>, '__weakref__': <attribute '__weakref__' of 'Product' objects>, '__doc__': None}\n"
     ]
    }
   ],
   "source": [
    "# 클래스(class) 구성\n",
    "# 속성 & 메서드 확인\n",
    "# 인스턴스명.__dict__\n",
    "# 클래스명.__dict__\n",
    "print(f'p1.__dict__ : {p1.__dict__}')\n",
    "print(f'Product.__dict__ : {Product.__dict__}')"
   ]
  },
  {
   "cell_type": "code",
   "execution_count": 41,
   "id": "7ffb121b",
   "metadata": {},
   "outputs": [],
   "source": [
    "# 클래스(class) 구성\n",
    "# 생성자(constructor)\n",
    "# 객체(인스턴스) 생성 시 호출\n",
    "# 인스턴스 변수 초기화\n",
    "# def __init__(self)\n",
    "\n",
    "# 소멸자(Destructor)\n",
    "# 객체(인스턴스) 생성 시 호출\n",
    "# 인스턴스 변수 초기화\n",
    "# def __del__(self)"
   ]
  },
  {
   "cell_type": "code",
   "execution_count": 51,
   "id": "1ad32b49",
   "metadata": {},
   "outputs": [],
   "source": [
    "# 클래스(class) 구성\n",
    "# 스페셜 메서드 / 매직 메서드\n",
    "# 파이썬 시스템에서 자동 호출되는 메서드\n",
    "# 형태: __메서드명__()"
   ]
  },
  {
   "cell_type": "code",
   "execution_count": 52,
   "id": "5a4b93b7",
   "metadata": {},
   "outputs": [],
   "source": [
    "# 클래스(class) 구성\n",
    "class CC:\n",
    "    name='계산기'\n",
    "    \n",
    "    def add(self, first, second):\n",
    "        return first+second\n",
    "    \n",
    "    def sub(self, first, second):\n",
    "        return first-second"
   ]
  },
  {
   "cell_type": "code",
   "execution_count": 67,
   "id": "5105b5ba",
   "metadata": {},
   "outputs": [],
   "source": [
    "class CCC:\n",
    "    name='계산기'\n",
    "    \n",
    "    def __init__(self, first, second):\n",
    "        self.first=first\n",
    "        self.second=second\n",
    "        \n",
    "    def add(self):\n",
    "        return self.first + self.second\n",
    "    \n",
    "    def sub(self):\n",
    "        return self.first - self.second"
   ]
  },
  {
   "cell_type": "code",
   "execution_count": 68,
   "id": "2ac5c14f",
   "metadata": {},
   "outputs": [
    {
     "name": "stdout",
     "output_type": "stream",
     "text": [
      "10 + 20 = 30\n",
      "10 - 20 = -10\n",
      "1000+3000=4000\n",
      "1000-3000=-2000\n"
     ]
    }
   ],
   "source": [
    "c=CC()\n",
    "print('{0} + {1} = {2}'.format(10, 20, c.add(10, 20)))\n",
    "print('{0} - {1} = {2}'.format(10, 20, c.sub(10, 20)))\n",
    "\n",
    "ccc=CCC(1000, 3000)\n",
    "print('{0}+{1}={2}'.format(ccc.first, ccc.second, ccc.add()))\n",
    "print('{0}-{1}={2}'.format(ccc.first, ccc.second, ccc.sub()))"
   ]
  },
  {
   "cell_type": "code",
   "execution_count": 71,
   "id": "91d9b306",
   "metadata": {},
   "outputs": [],
   "source": [
    "# 클래스(class)\n",
    "# 변수 종류\n",
    "# 인스턴스 변수\n",
    "# 인스턴스 마다 존재하는 변수\n",
    "# 객체변수명으로 읽기 & 변경\n",
    "\n",
    "# 비공개 변수: __변수명\n",
    "# 객체변수명으로 보이지 않음\n",
    "# 클래스 내에서만 사용 가능\n",
    "\n",
    "class CCC:\n",
    "    \n",
    "    def __init__(self, datas, age):\n",
    "        self.data = datas\n",
    "        self.__age=age\n",
    "        \n",
    "    def getsum(self):\n",
    "        sum=0\n",
    "        for i in range(len(self.data)):\n",
    "            sum += self.data[i]\n",
    "        return sum"
   ]
  },
  {
   "cell_type": "code",
   "execution_count": 75,
   "id": "20e8c3a6",
   "metadata": {},
   "outputs": [],
   "source": [
    "# 클래스(class)\n",
    "# 변수 종류\n",
    "# 클래스 변수\n",
    "# 인스턴스 공유하는 변수\n",
    "# 접근 : 클래스명.변수명\n",
    "\n",
    "# 비공개 변수: __변수명\n",
    "# 클래스명으로 보이지 않음\n",
    "# 클래스 내부에서만 사용 가능"
   ]
  },
  {
   "cell_type": "code",
   "execution_count": 78,
   "id": "707884f6",
   "metadata": {},
   "outputs": [],
   "source": [
    "class CCC:\n",
    "    __share = 1000\n",
    "    \n",
    "    def __init__(self, datas, age):\n",
    "        self.data=datas\n",
    "        self.__age=age\n",
    "        \n",
    "    def getsum(self):\n",
    "        sum=0\n",
    "        for i in range(len(self.data)):\n",
    "            sum += self.data[i]\n",
    "        return sum"
   ]
  },
  {
   "cell_type": "code",
   "execution_count": 80,
   "id": "8fd090bb",
   "metadata": {},
   "outputs": [],
   "source": [
    "# 클래스(class)\n",
    "# 오버로딩(overloading)\n",
    "# 함수이름 동일\n",
    "# 매개변수 개수, 타입, 순서가 다른 함수 정의"
   ]
  },
  {
   "cell_type": "code",
   "execution_count": 81,
   "id": "d2d3d2fa",
   "metadata": {},
   "outputs": [],
   "source": [
    "# 클래스(class)\n",
    "# 연산자 오버로딩(overloading)\n",
    "# 객체에서 연산자를 클래스 목적에 맞게 기능 부여 사용\n",
    "# 함수이름 앞뒤에 언더스코어(__) 두개 연속으로 붙은 함수\n",
    "\n",
    "# 형태: def __함수이름__():\n",
    "# 매직함수명     연산자\n",
    "# def __add__(self, other)   + \n",
    "# def __sub__(self, other)   -\n",
    "# def __mul__(self, other)   *\n",
    "# def __truediv__(self, other)   /\n",
    "# def __floordiv__(self, other)   //\n",
    "# def __mod__(self, other)   %\n",
    "# def __pow__(self, other)   **"
   ]
  },
  {
   "cell_type": "code",
   "execution_count": 83,
   "id": "e96247ca",
   "metadata": {},
   "outputs": [
    {
     "ename": "TypeError",
     "evalue": "unsupported operand type(s) for +: 'A' and 'A'",
     "output_type": "error",
     "traceback": [
      "\u001b[1;31m---------------------------------------------------------------------------\u001b[0m",
      "\u001b[1;31mTypeError\u001b[0m                                 Traceback (most recent call last)",
      "Input \u001b[1;32mIn [83]\u001b[0m, in \u001b[0;36m<cell line: 14>\u001b[1;34m()\u001b[0m\n\u001b[0;32m     11\u001b[0m b\u001b[38;5;241m=\u001b[39mA(\u001b[38;5;241m20\u001b[39m)\n\u001b[0;32m     13\u001b[0m \u001b[38;5;66;03m# + 연산 및 출력 --------------------------------------\u001b[39;00m\n\u001b[1;32m---> 14\u001b[0m \u001b[38;5;28mprint\u001b[39m(\u001b[43ma\u001b[49m\u001b[38;5;241;43m+\u001b[39;49m\u001b[43mb\u001b[49m)\n",
      "\u001b[1;31mTypeError\u001b[0m: unsupported operand type(s) for +: 'A' and 'A'"
     ]
    }
   ],
   "source": [
    "# 클래스(class)\n",
    "# 연산자 오버로딩\n",
    "\n",
    "# 클래스 생성 ------------------\n",
    "class A:\n",
    "    def __init__(self, num):\n",
    "        self.num=num\n",
    "        \n",
    "# 인스턴스 생성 -------------------------------\n",
    "a=A(10)\n",
    "b=A(20)\n",
    "\n",
    "# + 연산 및 출력 --------------------------------------\n",
    "print(a+b)"
   ]
  },
  {
   "cell_type": "code",
   "execution_count": 84,
   "id": "e71ce43d",
   "metadata": {},
   "outputs": [
    {
     "name": "stdout",
     "output_type": "stream",
     "text": [
      "30\n"
     ]
    }
   ],
   "source": [
    "# 클래스(class)\n",
    "# 연산자 오버로딩\n",
    "# 클래스 생성 ----------------\n",
    "class A:\n",
    "    def __init__(self, num):\n",
    "        self.num=num\n",
    "        \n",
    "    def __add__(self, other):\n",
    "        return self.num+other.num\n",
    "    \n",
    "# 인스턴스 생성 ------------------\n",
    "a=A(10)\n",
    "b=A(20)\n",
    "\n",
    "# + 연산 및 출력 --------------------\n",
    "print(a+b)"
   ]
  },
  {
   "cell_type": "code",
   "execution_count": null,
   "id": "fbdb84b5",
   "metadata": {},
   "outputs": [],
   "source": []
  }
 ],
 "metadata": {
  "kernelspec": {
   "display_name": "Python 3 (ipykernel)",
   "language": "python",
   "name": "python3"
  },
  "language_info": {
   "codemirror_mode": {
    "name": "ipython",
    "version": 3
   },
   "file_extension": ".py",
   "mimetype": "text/x-python",
   "name": "python",
   "nbconvert_exporter": "python",
   "pygments_lexer": "ipython3",
   "version": "3.9.12"
  }
 },
 "nbformat": 4,
 "nbformat_minor": 5
}
