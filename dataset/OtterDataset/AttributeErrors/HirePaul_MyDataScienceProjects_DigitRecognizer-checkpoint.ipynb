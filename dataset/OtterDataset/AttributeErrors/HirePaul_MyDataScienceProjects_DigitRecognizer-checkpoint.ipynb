{
 "cells": [
  {
   "cell_type": "markdown",
   "id": "c5c62dc9-3843-40f8-8e2a-beba6e380943",
   "metadata": {},
   "source": [
    "# Digit Recognizer Project w/ MNIST Dataset"
   ]
  },
  {
   "cell_type": "markdown",
   "id": "a5805e27-71ea-4395-8bc9-5c656a0c90e5",
   "metadata": {},
   "source": [
    "### Purpose: to begin to refine my data science skills and have concrete evidence of them."
   ]
  },
  {
   "cell_type": "markdown",
   "id": "93dde6ae-d2c2-4244-8aa0-bf45f63401a0",
   "metadata": {
    "jp-MarkdownHeadingCollapsed": true
   },
   "source": [
    "### Project: Given a dataset of images with handwritten digits, make a TensorFlow model that is capable of recognizing these digits for what they are."
   ]
  },
  {
   "cell_type": "markdown",
   "id": "031684d4-2d35-43a1-bf3d-31a32d1c6e14",
   "metadata": {},
   "source": [
    "### Tools: Jupyter Notebook, Python 3.11, TensorFlow, Pandas"
   ]
  },
  {
   "cell_type": "markdown",
   "id": "cb258d67-1788-40a0-85f4-70c84fb0c6c9",
   "metadata": {},
   "source": [
    "### Section 1: Preparing Data"
   ]
  },
  {
   "cell_type": "code",
   "execution_count": 2,
   "id": "b4a957de-7393-42e6-9e8a-b89c72a9d3ea",
   "metadata": {},
   "outputs": [],
   "source": [
    "#import the necessary libraries for the data preparation\n",
    "import pandas as pd"
   ]
  },
  {
   "cell_type": "code",
   "execution_count": 3,
   "id": "9b3abc27-ce55-45bb-86d1-99f6fef76e39",
   "metadata": {},
   "outputs": [],
   "source": [
    "#Read the csv data into the dataframe using pandas\n",
    "myPxFrame = pd.read_csv('DigitRecognizerData/train.csv/train.csv')"
   ]
  },
  {
   "cell_type": "code",
   "execution_count": 18,
   "id": "eee1b13c-b290-4e82-946d-d8647441f837",
   "metadata": {
    "scrolled": true
   },
   "outputs": [
    {
     "data": {
      "text/html": [
       "<div>\n",
       "<style scoped>\n",
       "    .dataframe tbody tr th:only-of-type {\n",
       "        vertical-align: middle;\n",
       "    }\n",
       "\n",
       "    .dataframe tbody tr th {\n",
       "        vertical-align: top;\n",
       "    }\n",
       "\n",
       "    .dataframe thead th {\n",
       "        text-align: right;\n",
       "    }\n",
       "</style>\n",
       "<table border=\"1\" class=\"dataframe\">\n",
       "  <thead>\n",
       "    <tr style=\"text-align: right;\">\n",
       "      <th></th>\n",
       "      <th>label</th>\n",
       "      <th>pixel0</th>\n",
       "      <th>pixel1</th>\n",
       "      <th>pixel2</th>\n",
       "      <th>pixel3</th>\n",
       "      <th>pixel4</th>\n",
       "      <th>pixel5</th>\n",
       "      <th>pixel6</th>\n",
       "      <th>pixel7</th>\n",
       "      <th>pixel8</th>\n",
       "      <th>...</th>\n",
       "      <th>pixel774</th>\n",
       "      <th>pixel775</th>\n",
       "      <th>pixel776</th>\n",
       "      <th>pixel777</th>\n",
       "      <th>pixel778</th>\n",
       "      <th>pixel779</th>\n",
       "      <th>pixel780</th>\n",
       "      <th>pixel781</th>\n",
       "      <th>pixel782</th>\n",
       "      <th>pixel783</th>\n",
       "    </tr>\n",
       "  </thead>\n",
       "  <tbody>\n",
       "    <tr>\n",
       "      <th>0</th>\n",
       "      <td>1</td>\n",
       "      <td>0</td>\n",
       "      <td>0</td>\n",
       "      <td>0</td>\n",
       "      <td>0</td>\n",
       "      <td>0</td>\n",
       "      <td>0</td>\n",
       "      <td>0</td>\n",
       "      <td>0</td>\n",
       "      <td>0</td>\n",
       "      <td>...</td>\n",
       "      <td>0</td>\n",
       "      <td>0</td>\n",
       "      <td>0</td>\n",
       "      <td>0</td>\n",
       "      <td>0</td>\n",
       "      <td>0</td>\n",
       "      <td>0</td>\n",
       "      <td>0</td>\n",
       "      <td>0</td>\n",
       "      <td>0</td>\n",
       "    </tr>\n",
       "    <tr>\n",
       "      <th>1</th>\n",
       "      <td>0</td>\n",
       "      <td>0</td>\n",
       "      <td>0</td>\n",
       "      <td>0</td>\n",
       "      <td>0</td>\n",
       "      <td>0</td>\n",
       "      <td>0</td>\n",
       "      <td>0</td>\n",
       "      <td>0</td>\n",
       "      <td>0</td>\n",
       "      <td>...</td>\n",
       "      <td>0</td>\n",
       "      <td>0</td>\n",
       "      <td>0</td>\n",
       "      <td>0</td>\n",
       "      <td>0</td>\n",
       "      <td>0</td>\n",
       "      <td>0</td>\n",
       "      <td>0</td>\n",
       "      <td>0</td>\n",
       "      <td>0</td>\n",
       "    </tr>\n",
       "    <tr>\n",
       "      <th>2</th>\n",
       "      <td>1</td>\n",
       "      <td>0</td>\n",
       "      <td>0</td>\n",
       "      <td>0</td>\n",
       "      <td>0</td>\n",
       "      <td>0</td>\n",
       "      <td>0</td>\n",
       "      <td>0</td>\n",
       "      <td>0</td>\n",
       "      <td>0</td>\n",
       "      <td>...</td>\n",
       "      <td>0</td>\n",
       "      <td>0</td>\n",
       "      <td>0</td>\n",
       "      <td>0</td>\n",
       "      <td>0</td>\n",
       "      <td>0</td>\n",
       "      <td>0</td>\n",
       "      <td>0</td>\n",
       "      <td>0</td>\n",
       "      <td>0</td>\n",
       "    </tr>\n",
       "    <tr>\n",
       "      <th>3</th>\n",
       "      <td>4</td>\n",
       "      <td>0</td>\n",
       "      <td>0</td>\n",
       "      <td>0</td>\n",
       "      <td>0</td>\n",
       "      <td>0</td>\n",
       "      <td>0</td>\n",
       "      <td>0</td>\n",
       "      <td>0</td>\n",
       "      <td>0</td>\n",
       "      <td>...</td>\n",
       "      <td>0</td>\n",
       "      <td>0</td>\n",
       "      <td>0</td>\n",
       "      <td>0</td>\n",
       "      <td>0</td>\n",
       "      <td>0</td>\n",
       "      <td>0</td>\n",
       "      <td>0</td>\n",
       "      <td>0</td>\n",
       "      <td>0</td>\n",
       "    </tr>\n",
       "    <tr>\n",
       "      <th>4</th>\n",
       "      <td>0</td>\n",
       "      <td>0</td>\n",
       "      <td>0</td>\n",
       "      <td>0</td>\n",
       "      <td>0</td>\n",
       "      <td>0</td>\n",
       "      <td>0</td>\n",
       "      <td>0</td>\n",
       "      <td>0</td>\n",
       "      <td>0</td>\n",
       "      <td>...</td>\n",
       "      <td>0</td>\n",
       "      <td>0</td>\n",
       "      <td>0</td>\n",
       "      <td>0</td>\n",
       "      <td>0</td>\n",
       "      <td>0</td>\n",
       "      <td>0</td>\n",
       "      <td>0</td>\n",
       "      <td>0</td>\n",
       "      <td>0</td>\n",
       "    </tr>\n",
       "  </tbody>\n",
       "</table>\n",
       "<p>5 rows × 785 columns</p>\n",
       "</div>"
      ],
      "text/plain": [
       "   label  pixel0  pixel1  pixel2  pixel3  pixel4  pixel5  pixel6  pixel7  \\\n",
       "0      1       0       0       0       0       0       0       0       0   \n",
       "1      0       0       0       0       0       0       0       0       0   \n",
       "2      1       0       0       0       0       0       0       0       0   \n",
       "3      4       0       0       0       0       0       0       0       0   \n",
       "4      0       0       0       0       0       0       0       0       0   \n",
       "\n",
       "   pixel8  ...  pixel774  pixel775  pixel776  pixel777  pixel778  pixel779  \\\n",
       "0       0  ...         0         0         0         0         0         0   \n",
       "1       0  ...         0         0         0         0         0         0   \n",
       "2       0  ...         0         0         0         0         0         0   \n",
       "3       0  ...         0         0         0         0         0         0   \n",
       "4       0  ...         0         0         0         0         0         0   \n",
       "\n",
       "   pixel780  pixel781  pixel782  pixel783  \n",
       "0         0         0         0         0  \n",
       "1         0         0         0         0  \n",
       "2         0         0         0         0  \n",
       "3         0         0         0         0  \n",
       "4         0         0         0         0  \n",
       "\n",
       "[5 rows x 785 columns]"
      ]
     },
     "execution_count": 18,
     "metadata": {},
     "output_type": "execute_result"
    }
   ],
   "source": [
    "#Display the dataframe\n",
    "myPxFrame.head()"
   ]
  },
  {
   "cell_type": "code",
   "execution_count": 5,
   "id": "f14c4bb6-e9ca-44d7-b08a-609d6b8b2d4f",
   "metadata": {
    "scrolled": true
   },
   "outputs": [
    {
     "data": {
      "text/plain": [
       "0        0.000000\n",
       "1        0.000000\n",
       "2        0.992188\n",
       "3        0.957031\n",
       "4        0.000000\n",
       "           ...   \n",
       "41995    0.000000\n",
       "41996    0.988281\n",
       "41997    0.000000\n",
       "41998    0.984375\n",
       "41999    0.011719\n",
       "Name: pixel518, Length: 42000, dtype: float64"
      ]
     },
     "execution_count": 5,
     "metadata": {},
     "output_type": "execute_result"
    }
   ],
   "source": [
    "#Let the feature dataframe be every column except for the labels\n",
    "myFeatures=myPxFrame.loc[:,myPxFrame.columns != 'label']\n",
    "#Normalize the color values (max 255)\n",
    "myFeatures=myFeatures/255\n",
    "myFeatures['pixel518'].head()"
   ]
  },
  {
   "cell_type": "code",
   "execution_count": 19,
   "id": "768b39d4-ef3e-43e0-b0d2-ecbc6a50f00f",
   "metadata": {},
   "outputs": [],
   "source": [
    "#We will use tensorflow later for the model and for creating a tensor object\n",
    "import tensorflow as tf"
   ]
  },
  {
   "cell_type": "code",
   "execution_count": 20,
   "id": "82fc8d3c-6089-499f-9e78-d6f49227a442",
   "metadata": {},
   "outputs": [
    {
     "ename": "AttributeError",
     "evalue": "'tensorflow.python.framework.ops.EagerTensor' object has no attribute 'head'",
     "output_type": "error",
     "traceback": [
      "\u001b[1;31m---------------------------------------------------------------------------\u001b[0m",
      "\u001b[1;31mAttributeError\u001b[0m                            Traceback (most recent call last)",
      "Cell \u001b[1;32mIn[20], line 2\u001b[0m\n\u001b[0;32m      1\u001b[0m myFeaturesTensor\u001b[38;5;241m=\u001b[39mtf\u001b[38;5;241m.\u001b[39mconvert_to_tensor(myFeatures)\n\u001b[1;32m----> 2\u001b[0m \u001b[43mmyFeaturesTensor\u001b[49m\u001b[38;5;241;43m.\u001b[39;49m\u001b[43mhead\u001b[49m()\n",
      "File \u001b[1;32m~\\miniconda3\\envs\\mytfenv\\lib\\site-packages\\tensorflow\\python\\framework\\ops.py:446\u001b[0m, in \u001b[0;36mTensor.__getattr__\u001b[1;34m(self, name)\u001b[0m\n\u001b[0;32m    437\u001b[0m \u001b[38;5;28;01mif\u001b[39;00m name \u001b[38;5;129;01min\u001b[39;00m {\u001b[38;5;124m\"\u001b[39m\u001b[38;5;124mT\u001b[39m\u001b[38;5;124m\"\u001b[39m, \u001b[38;5;124m\"\u001b[39m\u001b[38;5;124mastype\u001b[39m\u001b[38;5;124m\"\u001b[39m, \u001b[38;5;124m\"\u001b[39m\u001b[38;5;124mravel\u001b[39m\u001b[38;5;124m\"\u001b[39m, \u001b[38;5;124m\"\u001b[39m\u001b[38;5;124mtranspose\u001b[39m\u001b[38;5;124m\"\u001b[39m, \u001b[38;5;124m\"\u001b[39m\u001b[38;5;124mreshape\u001b[39m\u001b[38;5;124m\"\u001b[39m, \u001b[38;5;124m\"\u001b[39m\u001b[38;5;124mclip\u001b[39m\u001b[38;5;124m\"\u001b[39m, \u001b[38;5;124m\"\u001b[39m\u001b[38;5;124msize\u001b[39m\u001b[38;5;124m\"\u001b[39m,\n\u001b[0;32m    438\u001b[0m             \u001b[38;5;124m\"\u001b[39m\u001b[38;5;124mtolist\u001b[39m\u001b[38;5;124m\"\u001b[39m, \u001b[38;5;124m\"\u001b[39m\u001b[38;5;124mdata\u001b[39m\u001b[38;5;124m\"\u001b[39m}:\n\u001b[0;32m    439\u001b[0m   \u001b[38;5;66;03m# TODO(wangpeng): Export the enable_numpy_behavior knob\u001b[39;00m\n\u001b[0;32m    440\u001b[0m   \u001b[38;5;28;01mraise\u001b[39;00m \u001b[38;5;167;01mAttributeError\u001b[39;00m(\n\u001b[0;32m    441\u001b[0m       \u001b[38;5;124mf\u001b[39m\u001b[38;5;124m\"\u001b[39m\u001b[38;5;132;01m{\u001b[39;00m\u001b[38;5;28mtype\u001b[39m(\u001b[38;5;28mself\u001b[39m)\u001b[38;5;241m.\u001b[39m\u001b[38;5;18m__name__\u001b[39m\u001b[38;5;132;01m}\u001b[39;00m\u001b[38;5;124m object has no attribute \u001b[39m\u001b[38;5;124m'\u001b[39m\u001b[38;5;132;01m{\u001b[39;00mname\u001b[38;5;132;01m}\u001b[39;00m\u001b[38;5;124m'\u001b[39m\u001b[38;5;124m. \u001b[39m\u001b[38;5;124m\"\u001b[39m \u001b[38;5;241m+\u001b[39m \u001b[38;5;124m\"\"\"\u001b[39m\n\u001b[0;32m    442\u001b[0m \u001b[38;5;124m    If you are looking for numpy-related methods, please run the following:\u001b[39m\n\u001b[0;32m    443\u001b[0m \u001b[38;5;124m    from tensorflow.python.ops.numpy_ops import np_config\u001b[39m\n\u001b[0;32m    444\u001b[0m \u001b[38;5;124m    np_config.enable_numpy_behavior()\u001b[39m\n\u001b[0;32m    445\u001b[0m \u001b[38;5;124m  \u001b[39m\u001b[38;5;124m\"\"\"\u001b[39m)\n\u001b[1;32m--> 446\u001b[0m \u001b[38;5;28;43mself\u001b[39;49m\u001b[38;5;241;43m.\u001b[39;49m\u001b[38;5;21;43m__getattribute__\u001b[39;49m\u001b[43m(\u001b[49m\u001b[43mname\u001b[49m\u001b[43m)\u001b[49m\n",
      "\u001b[1;31mAttributeError\u001b[0m: 'tensorflow.python.framework.ops.EagerTensor' object has no attribute 'head'"
     ]
    }
   ],
   "source": [
    "myFeaturesTensor=tf.convert_to_tensor(myFeatures)\n",
    "myFeaturesTensor.head()"
   ]
  },
  {
   "cell_type": "markdown",
   "id": "cb7f47a2-9f6a-4a16-866d-07952a81e3e0",
   "metadata": {},
   "source": [
    "#### Let's turn our data processing into some reusable code - function time!"
   ]
  },
  {
   "cell_type": "code",
   "execution_count": 9,
   "id": "70b57af2-eae4-48b5-ac5b-87f3bc193dde",
   "metadata": {},
   "outputs": [],
   "source": [
    "def fromCSVtoFeatureTensor(location):\n",
    "    myPxFrame = pd.read_csv(location)\n",
    "    myFeatures=myPxFrame.loc[:,myPxFrame.columns != 'label']\n",
    "    myFeatures=myFeatures/256\n",
    "    print(myPxFrame)\n",
    "    myFeaturesTensor=tf.convert_to_tensor(myFeatures)\n",
    "    return myFeaturesTensor"
   ]
  },
  {
   "cell_type": "markdown",
   "id": "bba0b5de-65a9-40d3-be19-ca53cfd93623",
   "metadata": {},
   "source": [
    "### Section 2: Creating the Model"
   ]
  },
  {
   "cell_type": "code",
   "execution_count": 10,
   "id": "12b46460-4007-4167-ab37-0acfa9d4f613",
   "metadata": {},
   "outputs": [],
   "source": [
    "\n",
    "from tensorflow.keras import layers"
   ]
  },
  {
   "cell_type": "code",
   "execution_count": 11,
   "id": "c47c9b68-e2b9-4557-acc6-6d8b47fd97ab",
   "metadata": {},
   "outputs": [],
   "source": [
    "model = tf.keras.Sequential([\n",
    "    layers.Dense(784, activation=\"relu\"),\n",
    "    layers.Dense(392,  activation=\"relu\"),\n",
    "    layers.Dropout(.1),\n",
    "    layers.Dense(150,  activation=\"relu\"),\n",
    "    layers.Dropout(.1),\n",
    "    layers.Dense(40,  activation=\"relu\"),\n",
    "    layers.Dense(10,  activation=\"softmax\")\n",
    "])\n",
    "model.compile(optimizer=\"adam\", loss=tf.keras.losses.SparseCategoricalCrossentropy(from_logits=True),metrics=[\"accuracy\"])"
   ]
  },
  {
   "cell_type": "markdown",
   "id": "6fc8e326-8411-49d9-91a5-bbd8dfc291d5",
   "metadata": {},
   "source": [
    "### Section 3: Training the Model"
   ]
  },
  {
   "cell_type": "code",
   "execution_count": 12,
   "id": "bb1cc8ad-d2b1-4fde-80a4-6802ed255cc0",
   "metadata": {},
   "outputs": [
    {
     "name": "stdout",
     "output_type": "stream",
     "text": [
      "Epoch 1/10\n"
     ]
    },
    {
     "name": "stderr",
     "output_type": "stream",
     "text": [
      "C:\\Users\\pillo\\miniconda3\\envs\\mytfenv\\lib\\site-packages\\keras\\backend.py:5582: UserWarning: \"`sparse_categorical_crossentropy` received `from_logits=True`, but the `output` argument was produced by a Softmax activation and thus does not represent logits. Was this intended?\n",
      "  output, from_logits = _get_logits(\n"
     ]
    },
    {
     "name": "stdout",
     "output_type": "stream",
     "text": [
      "1313/1313 [==============================] - 7s 5ms/step - loss: 0.2436 - accuracy: 0.9260\n",
      "Epoch 2/10\n",
      "1313/1313 [==============================] - 6s 5ms/step - loss: 0.1089 - accuracy: 0.9677\n",
      "Epoch 3/10\n",
      "1313/1313 [==============================] - 6s 4ms/step - loss: 0.0770 - accuracy: 0.9772\n",
      "Epoch 4/10\n",
      "1313/1313 [==============================] - 6s 4ms/step - loss: 0.0643 - accuracy: 0.9809\n",
      "Epoch 5/10\n",
      "1313/1313 [==============================] - 6s 4ms/step - loss: 0.0479 - accuracy: 0.9855\n",
      "Epoch 6/10\n",
      "1313/1313 [==============================] - 6s 4ms/step - loss: 0.0418 - accuracy: 0.9871\n",
      "Epoch 7/10\n",
      "1313/1313 [==============================] - 6s 4ms/step - loss: 0.0371 - accuracy: 0.9888\n",
      "Epoch 8/10\n",
      "1313/1313 [==============================] - 6s 5ms/step - loss: 0.0314 - accuracy: 0.9906\n",
      "Epoch 9/10\n",
      "1313/1313 [==============================] - 6s 4ms/step - loss: 0.0276 - accuracy: 0.9918\n",
      "Epoch 10/10\n",
      "1313/1313 [==============================] - 6s 5ms/step - loss: 0.0274 - accuracy: 0.9920\n"
     ]
    },
    {
     "data": {
      "text/plain": [
       "<keras.callbacks.History at 0x1a9211a1bb0>"
      ]
     },
     "execution_count": 12,
     "metadata": {},
     "output_type": "execute_result"
    }
   ],
   "source": [
    "model.fit(myFeaturesTensor,tf.convert_to_tensor(myPxFrame['label']),epochs=10)"
   ]
  },
  {
   "cell_type": "markdown",
   "id": "95818e8b-db86-460b-a851-ded9b0f096ed",
   "metadata": {},
   "source": [
    "### Section 4: Testing the Model"
   ]
  },
  {
   "cell_type": "code",
   "execution_count": 13,
   "id": "b1533913-28c7-4351-b0e3-2258a26b0f4d",
   "metadata": {
    "scrolled": true
   },
   "outputs": [
    {
     "name": "stdout",
     "output_type": "stream",
     "text": [
      "       pixel0  pixel1  pixel2  pixel3  pixel4  pixel5  pixel6  pixel7  pixel8  \\\n",
      "0           0       0       0       0       0       0       0       0       0   \n",
      "1           0       0       0       0       0       0       0       0       0   \n",
      "2           0       0       0       0       0       0       0       0       0   \n",
      "3           0       0       0       0       0       0       0       0       0   \n",
      "4           0       0       0       0       0       0       0       0       0   \n",
      "...       ...     ...     ...     ...     ...     ...     ...     ...     ...   \n",
      "27995       0       0       0       0       0       0       0       0       0   \n",
      "27996       0       0       0       0       0       0       0       0       0   \n",
      "27997       0       0       0       0       0       0       0       0       0   \n",
      "27998       0       0       0       0       0       0       0       0       0   \n",
      "27999       0       0       0       0       0       0       0       0       0   \n",
      "\n",
      "       pixel9  ...  pixel774  pixel775  pixel776  pixel777  pixel778  \\\n",
      "0           0  ...         0         0         0         0         0   \n",
      "1           0  ...         0         0         0         0         0   \n",
      "2           0  ...         0         0         0         0         0   \n",
      "3           0  ...         0         0         0         0         0   \n",
      "4           0  ...         0         0         0         0         0   \n",
      "...       ...  ...       ...       ...       ...       ...       ...   \n",
      "27995       0  ...         0         0         0         0         0   \n",
      "27996       0  ...         0         0         0         0         0   \n",
      "27997       0  ...         0         0         0         0         0   \n",
      "27998       0  ...         0         0         0         0         0   \n",
      "27999       0  ...         0         0         0         0         0   \n",
      "\n",
      "       pixel779  pixel780  pixel781  pixel782  pixel783  \n",
      "0             0         0         0         0         0  \n",
      "1             0         0         0         0         0  \n",
      "2             0         0         0         0         0  \n",
      "3             0         0         0         0         0  \n",
      "4             0         0         0         0         0  \n",
      "...         ...       ...       ...       ...       ...  \n",
      "27995         0         0         0         0         0  \n",
      "27996         0         0         0         0         0  \n",
      "27997         0         0         0         0         0  \n",
      "27998         0         0         0         0         0  \n",
      "27999         0         0         0         0         0  \n",
      "\n",
      "[28000 rows x 784 columns]\n",
      "875/875 [==============================] - 2s 2ms/step\n"
     ]
    }
   ],
   "source": [
    "testFeatures = fromCSVtoFeatureTensor('DigitRecognizerData/test.csv/test.csv')\n",
    "myResults=model.predict(testFeatures)"
   ]
  },
  {
   "cell_type": "code",
   "execution_count": 14,
   "id": "c45ba2a1-8ac8-4aab-9c16-6e837f85f541",
   "metadata": {
    "scrolled": true
   },
   "outputs": [
    {
     "data": {
      "text/plain": [
       "[2, 0, 9, 0, 3, 7, 0, 3, 0, 3]"
      ]
     },
     "execution_count": 14,
     "metadata": {},
     "output_type": "execute_result"
    }
   ],
   "source": [
    "answerArray=[]\n",
    "for array in myResults:\n",
    "    max=0.0;\n",
    "    count=0;\n",
    "    save=0;\n",
    "    for element in array:\n",
    "        if(element>max):\n",
    "            max=element;\n",
    "            save=count;\n",
    "        count=count+1;\n",
    "    answerArray.append(save);\n",
    "answerArray[0:10]"
   ]
  },
  {
   "cell_type": "code",
   "execution_count": 15,
   "id": "5fe92238-073f-47d2-891b-90ee82b329bb",
   "metadata": {},
   "outputs": [],
   "source": [
    "import csv"
   ]
  },
  {
   "cell_type": "code",
   "execution_count": 17,
   "id": "9d425f95-89d5-401c-8501-65fe5e5b3a9f",
   "metadata": {},
   "outputs": [],
   "source": [
    "with open('DigitRecognizerData/submission.csv',\"w\") as myFile:\n",
    "    csvwriter= csv.writer(myFile);\n",
    "    header=[\"ImageId\",\"Label\"]\n",
    "    csvwriter.writerow(header);\n",
    "    count=0;\n",
    "    for answer in answerArray:\n",
    "        count+=1;\n",
    "        total=[str(count),str(answer)]\n",
    "        csvwriter.writerow(total)"
   ]
  },
  {
   "cell_type": "code",
   "execution_count": null,
   "id": "95edb077-c32b-4a98-b2c3-b4a22ab47dfd",
   "metadata": {},
   "outputs": [],
   "source": []
  }
 ],
 "metadata": {
  "kernelspec": {
   "display_name": "Python 3 (ipykernel)",
   "language": "python",
   "name": "python3"
  },
  "language_info": {
   "codemirror_mode": {
    "name": "ipython",
    "version": 3
   },
   "file_extension": ".py",
   "mimetype": "text/x-python",
   "name": "python",
   "nbconvert_exporter": "python",
   "pygments_lexer": "ipython3",
   "version": "3.9.18"
  }
 },
 "nbformat": 4,
 "nbformat_minor": 5
}
