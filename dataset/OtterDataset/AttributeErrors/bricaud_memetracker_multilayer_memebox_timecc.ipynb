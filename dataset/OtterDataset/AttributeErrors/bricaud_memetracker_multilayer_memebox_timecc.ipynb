{
 "cells": [
  {
   "cell_type": "markdown",
   "metadata": {},
   "source": [
    "## Creating a multi layer graph from text data with the time activity"
   ]
  },
  {
   "cell_type": "markdown",
   "metadata": {},
   "source": [
    "### Loading the text data"
   ]
  },
  {
   "cell_type": "code",
   "execution_count": 1,
   "metadata": {
    "collapsed": true
   },
   "outputs": [],
   "source": [
    "import pandas as pd"
   ]
  },
  {
   "cell_type": "code",
   "execution_count": 2,
   "metadata": {
    "collapsed": true
   },
   "outputs": [],
   "source": [
    "import configparser\n",
    "config = configparser.ConfigParser()\n",
    "config.read('memeconfig.ini')\n",
    "data_path = config['DEFAULT']['data_path']\n",
    "pickle_data_path = config['DEFAULT']['pickle_data_path']\n",
    "viz_path = config['DEFAULT']['viz_data_path']\n",
    "series_name = 'LBDL'"
   ]
  },
  {
   "cell_type": "code",
   "execution_count": 3,
   "metadata": {
    "collapsed": false
   },
   "outputs": [],
   "source": [
    "series_name = 'LBDL'\n",
    "#series_name = 'marseille'\n",
    "pickle_file = pickle_data_path+series_name+'_texts'+'.pkl'\n",
    "vocab_file = pickle_data_path+series_name+'_vocab_bow'+'.pkl'\n",
    "tfidf_file = pickle_data_path+series_name+'_vocab_tfidf'+'.pkl'\n",
    "text_data = pd.read_pickle(pickle_file)\n",
    "vocab_data = pd.read_pickle(vocab_file)\n",
    "tfidf_data = pd.read_pickle(tfidf_file)"
   ]
  },
  {
   "cell_type": "code",
   "execution_count": 4,
   "metadata": {
    "collapsed": true
   },
   "outputs": [],
   "source": [
    "import memebox.multilayergraph as mlg"
   ]
  },
  {
   "cell_type": "code",
   "execution_count": 5,
   "metadata": {
    "collapsed": false
   },
   "outputs": [
    {
     "name": "stdout",
     "output_type": "stream",
     "text": [
      "Dates are from 01-02-2015 to 28-02-2015.\n"
     ]
    }
   ],
   "source": [
    "day_list = mlg.days_of_month(2015,2)"
   ]
  },
  {
   "cell_type": "markdown",
   "metadata": {},
   "source": [
    "### Creating the graph"
   ]
  },
  {
   "cell_type": "code",
   "execution_count": 6,
   "metadata": {
    "collapsed": false
   },
   "outputs": [
    {
     "name": "stdout",
     "output_type": "stream",
     "text": [
      "Nb of edges: 48, nb of nodes: 79.\n",
      "CPU times: user 452 ms, sys: 0 ns, total: 452 ms\n",
      "Wall time: 451 ms\n"
     ]
    }
   ],
   "source": [
    "%time H = mlg.multilayergraph(text_data,day_list,threshold=30)"
   ]
  },
  {
   "cell_type": "code",
   "execution_count": 89,
   "metadata": {
    "collapsed": false
   },
   "outputs": [
    {
     "name": "stdout",
     "output_type": "stream",
     "text": [
      "Nb of edges: 7297, nb of nodes: 7866.\n",
      "CPU times: user 8.32 s, sys: 0 ns, total: 8.32 s\n",
      "Wall time: 8.32 s\n"
     ]
    }
   ],
   "source": [
    "%time H = mlg.multilayergraph(text_data,day_list,threshold=10)"
   ]
  },
  {
   "cell_type": "code",
   "execution_count": 7,
   "metadata": {
    "collapsed": false
   },
   "outputs": [],
   "source": [
    "import networkx as nx\n",
    "G_all = nx.DiGraph()\n",
    "cc = nx.weakly_connected_component_subgraphs(H)\n",
    "#for c in nx.weakly_connected_component_subgraphs(graph):\n"
   ]
  },
  {
   "cell_type": "code",
   "execution_count": 8,
   "metadata": {
    "collapsed": false
   },
   "outputs": [],
   "source": [
    "Gmax = max(nx.weakly_connected_component_subgraphs(H), key=len)"
   ]
  },
  {
   "cell_type": "code",
   "execution_count": 9,
   "metadata": {
    "collapsed": false,
    "scrolled": true
   },
   "outputs": [
    {
     "data": {
      "text/plain": [
       "['Gear_2015-02-06',\n",
       " 'Samsung_2015-02-06',\n",
       " 'Galaxy_2015-02-06',\n",
       " 'Tab_2015-02-06',\n",
       " 'Note_2015-02-06']"
      ]
     },
     "execution_count": 9,
     "metadata": {},
     "output_type": "execute_result"
    }
   ],
   "source": [
    "gmnodes = Gmax.nodes()\n",
    "gmnodes"
   ]
  },
  {
   "cell_type": "code",
   "execution_count": 10,
   "metadata": {
    "collapsed": true
   },
   "outputs": [
    {
     "data": {
      "text/plain": [
       "[('Galaxy_2015-02-06',\n",
       "  'Tab_2015-02-06',\n",
       "  {'label': 'intralayer',\n",
       "   'media_list': ['Website',\n",
       "    'Website',\n",
       "    'Website',\n",
       "    'Website',\n",
       "    'Website',\n",
       "    'Website',\n",
       "    'Website',\n",
       "    'Website',\n",
       "    'Website',\n",
       "    'Website',\n",
       "    'Website',\n",
       "    'Website',\n",
       "    'Website',\n",
       "    'Website',\n",
       "    'Website',\n",
       "    'Website',\n",
       "    'Website',\n",
       "    'Website',\n",
       "    'Website',\n",
       "    'Website',\n",
       "    'Website',\n",
       "    'Website',\n",
       "    'Website',\n",
       "    'Website',\n",
       "    'Website',\n",
       "    'Website',\n",
       "    'Website',\n",
       "    'Website',\n",
       "    'Website',\n",
       "    'Website',\n",
       "    'Website',\n",
       "    'Website',\n",
       "    'Website',\n",
       "    'Website',\n",
       "    'Website',\n",
       "    'Website',\n",
       "    'Website',\n",
       "    'Website',\n",
       "    'Website',\n",
       "    'Website',\n",
       "    'Website',\n",
       "    'Website',\n",
       "    'Website',\n",
       "    'Website',\n",
       "    'Website',\n",
       "    'Website',\n",
       "    'Website',\n",
       "    'Website',\n",
       "    'Website',\n",
       "    'Website',\n",
       "    'Website',\n",
       "    'Website',\n",
       "    'Website',\n",
       "    'Website',\n",
       "    'Website',\n",
       "    'Website',\n",
       "    'Website',\n",
       "    'Website',\n",
       "    'Website',\n",
       "    'Website',\n",
       "    'Website',\n",
       "    'Website',\n",
       "    'Website',\n",
       "    'Website',\n",
       "    'Website',\n",
       "    'Website',\n",
       "    'Website',\n",
       "    'Website',\n",
       "    'Website',\n",
       "    'Website',\n",
       "    'Website',\n",
       "    'Website',\n",
       "    'Website',\n",
       "    'Website',\n",
       "    'Website',\n",
       "    'Website',\n",
       "    'Website',\n",
       "    'Website',\n",
       "    'Website',\n",
       "    'Website',\n",
       "    'Website',\n",
       "    'Website',\n",
       "    'Website',\n",
       "    'Website',\n",
       "    'Website',\n",
       "    'Website',\n",
       "    'Website',\n",
       "    'Website',\n",
       "    'Website'],\n",
       "   'time_series': [Timestamp('2015-02-06 04:55:08'),\n",
       "    Timestamp('2015-02-06 04:55:08'),\n",
       "    Timestamp('2015-02-06 04:55:08'),\n",
       "    Timestamp('2015-02-06 04:55:08'),\n",
       "    Timestamp('2015-02-06 04:55:08'),\n",
       "    Timestamp('2015-02-06 04:55:08'),\n",
       "    Timestamp('2015-02-06 04:55:08'),\n",
       "    Timestamp('2015-02-06 04:55:08'),\n",
       "    Timestamp('2015-02-06 04:55:08'),\n",
       "    Timestamp('2015-02-06 07:15:53'),\n",
       "    Timestamp('2015-02-06 07:15:53'),\n",
       "    Timestamp('2015-02-06 07:15:53'),\n",
       "    Timestamp('2015-02-06 07:15:53'),\n",
       "    Timestamp('2015-02-06 07:15:53'),\n",
       "    Timestamp('2015-02-06 07:15:53'),\n",
       "    Timestamp('2015-02-06 07:15:53'),\n",
       "    Timestamp('2015-02-06 07:15:53'),\n",
       "    Timestamp('2015-02-06 07:15:53'),\n",
       "    Timestamp('2015-02-06 10:36:00'),\n",
       "    Timestamp('2015-02-06 10:36:00'),\n",
       "    Timestamp('2015-02-06 10:36:00'),\n",
       "    Timestamp('2015-02-06 10:36:00'),\n",
       "    Timestamp('2015-02-06 10:36:00'),\n",
       "    Timestamp('2015-02-06 10:36:00'),\n",
       "    Timestamp('2015-02-06 10:36:00'),\n",
       "    Timestamp('2015-02-06 10:36:00'),\n",
       "    Timestamp('2015-02-06 10:36:00'),\n",
       "    Timestamp('2015-02-06 13:00:01'),\n",
       "    Timestamp('2015-02-06 13:00:01'),\n",
       "    Timestamp('2015-02-06 13:00:01'),\n",
       "    Timestamp('2015-02-06 13:00:01'),\n",
       "    Timestamp('2015-02-06 13:00:01'),\n",
       "    Timestamp('2015-02-06 13:00:01'),\n",
       "    Timestamp('2015-02-06 13:00:01'),\n",
       "    Timestamp('2015-02-06 13:00:01'),\n",
       "    Timestamp('2015-02-06 13:00:01'),\n",
       "    Timestamp('2015-02-06 13:00:01'),\n",
       "    Timestamp('2015-02-06 15:11:05'),\n",
       "    Timestamp('2015-02-06 15:11:05'),\n",
       "    Timestamp('2015-02-06 15:11:05'),\n",
       "    Timestamp('2015-02-06 15:11:05'),\n",
       "    Timestamp('2015-02-06 15:11:05'),\n",
       "    Timestamp('2015-02-06 15:11:05'),\n",
       "    Timestamp('2015-02-06 15:11:05'),\n",
       "    Timestamp('2015-02-06 15:11:05'),\n",
       "    Timestamp('2015-02-06 15:11:05'),\n",
       "    Timestamp('2015-02-06 15:11:05'),\n",
       "    Timestamp('2015-02-06 15:11:05'),\n",
       "    Timestamp('2015-02-06 15:11:05'),\n",
       "    Timestamp('2015-02-06 15:11:05'),\n",
       "    Timestamp('2015-02-06 15:11:05'),\n",
       "    Timestamp('2015-02-06 15:11:05'),\n",
       "    Timestamp('2015-02-06 15:11:05'),\n",
       "    Timestamp('2015-02-06 15:11:05'),\n",
       "    Timestamp('2015-02-06 15:11:05'),\n",
       "    Timestamp('2015-02-06 15:11:05'),\n",
       "    Timestamp('2015-02-06 15:11:05'),\n",
       "    Timestamp('2015-02-06 15:11:05'),\n",
       "    Timestamp('2015-02-06 15:11:05'),\n",
       "    Timestamp('2015-02-06 15:11:05'),\n",
       "    Timestamp('2015-02-06 15:11:05'),\n",
       "    Timestamp('2015-02-06 15:11:05'),\n",
       "    Timestamp('2015-02-06 15:11:05'),\n",
       "    Timestamp('2015-02-06 15:11:05'),\n",
       "    Timestamp('2015-02-06 15:15:57'),\n",
       "    Timestamp('2015-02-06 15:15:57'),\n",
       "    Timestamp('2015-02-06 15:15:57'),\n",
       "    Timestamp('2015-02-06 15:15:57'),\n",
       "    Timestamp('2015-02-06 15:15:57'),\n",
       "    Timestamp('2015-02-06 15:15:57'),\n",
       "    Timestamp('2015-02-06 15:15:57'),\n",
       "    Timestamp('2015-02-06 15:15:57'),\n",
       "    Timestamp('2015-02-06 15:15:57'),\n",
       "    Timestamp('2015-02-06 19:50:42'),\n",
       "    Timestamp('2015-02-06 19:50:42'),\n",
       "    Timestamp('2015-02-06 19:50:42'),\n",
       "    Timestamp('2015-02-06 19:50:42'),\n",
       "    Timestamp('2015-02-06 19:50:42'),\n",
       "    Timestamp('2015-02-06 19:50:42'),\n",
       "    Timestamp('2015-02-06 19:50:42'),\n",
       "    Timestamp('2015-02-06 19:50:42'),\n",
       "    Timestamp('2015-02-06 23:00:24'),\n",
       "    Timestamp('2015-02-06 23:00:24'),\n",
       "    Timestamp('2015-02-06 23:00:24'),\n",
       "    Timestamp('2015-02-06 23:00:24'),\n",
       "    Timestamp('2015-02-06 23:00:24'),\n",
       "    Timestamp('2015-02-06 23:00:24'),\n",
       "    Timestamp('2015-02-06 23:00:24'),\n",
       "    Timestamp('2015-02-06 23:00:24')],\n",
       "   'weight': 89}),\n",
       " ('Galaxy_2015-02-06',\n",
       "  'Note_2015-02-06',\n",
       "  {'label': 'intralayer',\n",
       "   'media_list': ['Website',\n",
       "    'Website',\n",
       "    'Website',\n",
       "    'Website',\n",
       "    'Website',\n",
       "    'Website',\n",
       "    'Website',\n",
       "    'Website',\n",
       "    'Website',\n",
       "    'Website',\n",
       "    'Website',\n",
       "    'Website',\n",
       "    'Website',\n",
       "    'Website',\n",
       "    'Website',\n",
       "    'Website',\n",
       "    'Website',\n",
       "    'Website',\n",
       "    'Website',\n",
       "    'Website',\n",
       "    'Website',\n",
       "    'Website',\n",
       "    'Website',\n",
       "    'Website',\n",
       "    'Website',\n",
       "    'Website',\n",
       "    'Website',\n",
       "    'Website',\n",
       "    'Website',\n",
       "    'Website',\n",
       "    'Website',\n",
       "    'Website',\n",
       "    'Website',\n",
       "    'Website',\n",
       "    'Website',\n",
       "    'Website',\n",
       "    'Website',\n",
       "    'Website',\n",
       "    'Website',\n",
       "    'Website',\n",
       "    'Website',\n",
       "    'Website',\n",
       "    'Website',\n",
       "    'Website',\n",
       "    'Website',\n",
       "    'Website',\n",
       "    'Website',\n",
       "    'Website',\n",
       "    'Website',\n",
       "    'Website',\n",
       "    'Website',\n",
       "    'Website',\n",
       "    'Website',\n",
       "    'Website',\n",
       "    'Website',\n",
       "    'Website',\n",
       "    'Website',\n",
       "    'Website',\n",
       "    'Website',\n",
       "    'Website',\n",
       "    'Website',\n",
       "    'Website',\n",
       "    'Website',\n",
       "    'Website',\n",
       "    'Website',\n",
       "    'Website',\n",
       "    'Website',\n",
       "    'Website',\n",
       "    'Website',\n",
       "    'Website'],\n",
       "   'time_series': [Timestamp('2015-02-06 04:55:08'),\n",
       "    Timestamp('2015-02-06 04:55:08'),\n",
       "    Timestamp('2015-02-06 04:55:08'),\n",
       "    Timestamp('2015-02-06 04:55:08'),\n",
       "    Timestamp('2015-02-06 04:55:08'),\n",
       "    Timestamp('2015-02-06 04:55:08'),\n",
       "    Timestamp('2015-02-06 04:55:08'),\n",
       "    Timestamp('2015-02-06 07:15:53'),\n",
       "    Timestamp('2015-02-06 07:15:53'),\n",
       "    Timestamp('2015-02-06 07:15:53'),\n",
       "    Timestamp('2015-02-06 07:15:53'),\n",
       "    Timestamp('2015-02-06 07:15:53'),\n",
       "    Timestamp('2015-02-06 07:15:53'),\n",
       "    Timestamp('2015-02-06 07:15:53'),\n",
       "    Timestamp('2015-02-06 10:36:00'),\n",
       "    Timestamp('2015-02-06 10:36:00'),\n",
       "    Timestamp('2015-02-06 10:36:00'),\n",
       "    Timestamp('2015-02-06 10:36:00'),\n",
       "    Timestamp('2015-02-06 10:36:00'),\n",
       "    Timestamp('2015-02-06 10:36:00'),\n",
       "    Timestamp('2015-02-06 10:36:00'),\n",
       "    Timestamp('2015-02-06 13:00:01'),\n",
       "    Timestamp('2015-02-06 13:00:01'),\n",
       "    Timestamp('2015-02-06 13:00:01'),\n",
       "    Timestamp('2015-02-06 13:00:01'),\n",
       "    Timestamp('2015-02-06 13:00:01'),\n",
       "    Timestamp('2015-02-06 13:00:01'),\n",
       "    Timestamp('2015-02-06 13:00:01'),\n",
       "    Timestamp('2015-02-06 15:11:05'),\n",
       "    Timestamp('2015-02-06 15:11:05'),\n",
       "    Timestamp('2015-02-06 15:11:05'),\n",
       "    Timestamp('2015-02-06 15:11:05'),\n",
       "    Timestamp('2015-02-06 15:11:05'),\n",
       "    Timestamp('2015-02-06 15:11:05'),\n",
       "    Timestamp('2015-02-06 15:11:05'),\n",
       "    Timestamp('2015-02-06 15:11:05'),\n",
       "    Timestamp('2015-02-06 15:11:05'),\n",
       "    Timestamp('2015-02-06 15:11:05'),\n",
       "    Timestamp('2015-02-06 15:11:05'),\n",
       "    Timestamp('2015-02-06 15:11:05'),\n",
       "    Timestamp('2015-02-06 15:11:05'),\n",
       "    Timestamp('2015-02-06 15:11:05'),\n",
       "    Timestamp('2015-02-06 15:11:05'),\n",
       "    Timestamp('2015-02-06 15:11:05'),\n",
       "    Timestamp('2015-02-06 15:11:05'),\n",
       "    Timestamp('2015-02-06 15:11:05'),\n",
       "    Timestamp('2015-02-06 15:11:05'),\n",
       "    Timestamp('2015-02-06 15:11:05'),\n",
       "    Timestamp('2015-02-06 15:11:05'),\n",
       "    Timestamp('2015-02-06 15:15:57'),\n",
       "    Timestamp('2015-02-06 15:15:57'),\n",
       "    Timestamp('2015-02-06 15:15:57'),\n",
       "    Timestamp('2015-02-06 15:15:57'),\n",
       "    Timestamp('2015-02-06 15:15:57'),\n",
       "    Timestamp('2015-02-06 15:15:57'),\n",
       "    Timestamp('2015-02-06 15:15:57'),\n",
       "    Timestamp('2015-02-06 19:50:42'),\n",
       "    Timestamp('2015-02-06 19:50:42'),\n",
       "    Timestamp('2015-02-06 19:50:42'),\n",
       "    Timestamp('2015-02-06 19:50:42'),\n",
       "    Timestamp('2015-02-06 19:50:42'),\n",
       "    Timestamp('2015-02-06 19:50:42'),\n",
       "    Timestamp('2015-02-06 19:50:42'),\n",
       "    Timestamp('2015-02-06 23:00:24'),\n",
       "    Timestamp('2015-02-06 23:00:24'),\n",
       "    Timestamp('2015-02-06 23:00:24'),\n",
       "    Timestamp('2015-02-06 23:00:24'),\n",
       "    Timestamp('2015-02-06 23:00:24'),\n",
       "    Timestamp('2015-02-06 23:00:24'),\n",
       "    Timestamp('2015-02-06 23:00:24')],\n",
       "   'weight': 70}),\n",
       " ('Samsung_2015-02-06',\n",
       "  'Galaxy_2015-02-06',\n",
       "  {'label': 'intralayer',\n",
       "   'media_list': ['Website',\n",
       "    'Website',\n",
       "    'Website',\n",
       "    'Website',\n",
       "    'Website',\n",
       "    'Website',\n",
       "    'Website',\n",
       "    'Website',\n",
       "    'Website',\n",
       "    'Website',\n",
       "    'Website',\n",
       "    'Website',\n",
       "    'Website',\n",
       "    'Website',\n",
       "    'Website',\n",
       "    'Website',\n",
       "    'Website',\n",
       "    'Website',\n",
       "    'Website',\n",
       "    'Website',\n",
       "    'Website',\n",
       "    'Website',\n",
       "    'Website',\n",
       "    'Website',\n",
       "    'Website',\n",
       "    'Website',\n",
       "    'Website',\n",
       "    'Website',\n",
       "    'Website',\n",
       "    'Website',\n",
       "    'Website',\n",
       "    'Website',\n",
       "    'Website',\n",
       "    'Website',\n",
       "    'Website',\n",
       "    'Website',\n",
       "    'Website',\n",
       "    'Website',\n",
       "    'Website',\n",
       "    'Website',\n",
       "    'Website',\n",
       "    'Website',\n",
       "    'Website',\n",
       "    'Website',\n",
       "    'Website',\n",
       "    'Website',\n",
       "    'Website',\n",
       "    'Website',\n",
       "    'Website',\n",
       "    'Website',\n",
       "    'Website',\n",
       "    'Website',\n",
       "    'Website',\n",
       "    'Website',\n",
       "    'Website',\n",
       "    'Website',\n",
       "    'Website',\n",
       "    'Website',\n",
       "    'Website',\n",
       "    'Website',\n",
       "    'Website',\n",
       "    'Website',\n",
       "    'Website',\n",
       "    'Website',\n",
       "    'Website',\n",
       "    'Website',\n",
       "    'Website',\n",
       "    'Website',\n",
       "    'Website',\n",
       "    'Website',\n",
       "    'Website',\n",
       "    'Website',\n",
       "    'Website',\n",
       "    'Website',\n",
       "    'Website',\n",
       "    'Website',\n",
       "    'Website',\n",
       "    'Website',\n",
       "    'Website',\n",
       "    'Website',\n",
       "    'Website',\n",
       "    'Website',\n",
       "    'Website',\n",
       "    'Website',\n",
       "    'Website',\n",
       "    'Website',\n",
       "    'Website',\n",
       "    'Website',\n",
       "    'Website',\n",
       "    'Website',\n",
       "    'Website',\n",
       "    'Website',\n",
       "    'Website',\n",
       "    'Website',\n",
       "    'Website',\n",
       "    'Website',\n",
       "    'Website',\n",
       "    'Website',\n",
       "    'Website',\n",
       "    'Website',\n",
       "    'Website',\n",
       "    'Website',\n",
       "    'Website',\n",
       "    'Website',\n",
       "    'Website',\n",
       "    'Website',\n",
       "    'Website',\n",
       "    'Website',\n",
       "    'Website',\n",
       "    'Website',\n",
       "    'Website',\n",
       "    'Website',\n",
       "    'Website',\n",
       "    'Website',\n",
       "    'Website',\n",
       "    'Website',\n",
       "    'Website',\n",
       "    'Website',\n",
       "    'Website',\n",
       "    'Website',\n",
       "    'Website',\n",
       "    'Website',\n",
       "    'Website',\n",
       "    'Website',\n",
       "    'Website',\n",
       "    'Website',\n",
       "    'Website',\n",
       "    'Website',\n",
       "    'Website',\n",
       "    'Website',\n",
       "    'Website',\n",
       "    'Website',\n",
       "    'Website',\n",
       "    'Website',\n",
       "    'Website',\n",
       "    'Website',\n",
       "    'Website',\n",
       "    'Website',\n",
       "    'Website',\n",
       "    'Website',\n",
       "    'Website',\n",
       "    'Website',\n",
       "    'Website',\n",
       "    'Website',\n",
       "    'Website',\n",
       "    'Website',\n",
       "    'Website',\n",
       "    'Website',\n",
       "    'Website',\n",
       "    'Website'],\n",
       "   'time_series': [Timestamp('2015-02-06 04:55:08'),\n",
       "    Timestamp('2015-02-06 04:55:08'),\n",
       "    Timestamp('2015-02-06 04:55:08'),\n",
       "    Timestamp('2015-02-06 04:55:08'),\n",
       "    Timestamp('2015-02-06 04:55:08'),\n",
       "    Timestamp('2015-02-06 04:55:08'),\n",
       "    Timestamp('2015-02-06 04:55:08'),\n",
       "    Timestamp('2015-02-06 04:55:08'),\n",
       "    Timestamp('2015-02-06 04:55:08'),\n",
       "    Timestamp('2015-02-06 04:55:08'),\n",
       "    Timestamp('2015-02-06 04:55:08'),\n",
       "    Timestamp('2015-02-06 04:55:08'),\n",
       "    Timestamp('2015-02-06 04:55:08'),\n",
       "    Timestamp('2015-02-06 04:55:08'),\n",
       "    Timestamp('2015-02-06 04:55:08'),\n",
       "    Timestamp('2015-02-06 07:15:53'),\n",
       "    Timestamp('2015-02-06 07:15:53'),\n",
       "    Timestamp('2015-02-06 07:15:53'),\n",
       "    Timestamp('2015-02-06 07:15:53'),\n",
       "    Timestamp('2015-02-06 07:15:53'),\n",
       "    Timestamp('2015-02-06 07:15:53'),\n",
       "    Timestamp('2015-02-06 07:15:53'),\n",
       "    Timestamp('2015-02-06 07:15:53'),\n",
       "    Timestamp('2015-02-06 07:15:53'),\n",
       "    Timestamp('2015-02-06 07:15:53'),\n",
       "    Timestamp('2015-02-06 07:15:53'),\n",
       "    Timestamp('2015-02-06 07:15:53'),\n",
       "    Timestamp('2015-02-06 07:15:53'),\n",
       "    Timestamp('2015-02-06 07:15:53'),\n",
       "    Timestamp('2015-02-06 07:15:53'),\n",
       "    Timestamp('2015-02-06 10:36:00'),\n",
       "    Timestamp('2015-02-06 10:36:00'),\n",
       "    Timestamp('2015-02-06 10:36:00'),\n",
       "    Timestamp('2015-02-06 10:36:00'),\n",
       "    Timestamp('2015-02-06 10:36:00'),\n",
       "    Timestamp('2015-02-06 10:36:00'),\n",
       "    Timestamp('2015-02-06 10:36:00'),\n",
       "    Timestamp('2015-02-06 10:36:00'),\n",
       "    Timestamp('2015-02-06 10:36:00'),\n",
       "    Timestamp('2015-02-06 10:36:00'),\n",
       "    Timestamp('2015-02-06 10:36:00'),\n",
       "    Timestamp('2015-02-06 10:36:00'),\n",
       "    Timestamp('2015-02-06 10:36:00'),\n",
       "    Timestamp('2015-02-06 10:36:00'),\n",
       "    Timestamp('2015-02-06 10:36:00'),\n",
       "    Timestamp('2015-02-06 13:00:01'),\n",
       "    Timestamp('2015-02-06 13:00:01'),\n",
       "    Timestamp('2015-02-06 13:00:01'),\n",
       "    Timestamp('2015-02-06 13:00:01'),\n",
       "    Timestamp('2015-02-06 13:00:01'),\n",
       "    Timestamp('2015-02-06 13:00:01'),\n",
       "    Timestamp('2015-02-06 13:00:01'),\n",
       "    Timestamp('2015-02-06 13:00:01'),\n",
       "    Timestamp('2015-02-06 13:00:01'),\n",
       "    Timestamp('2015-02-06 13:00:01'),\n",
       "    Timestamp('2015-02-06 13:00:01'),\n",
       "    Timestamp('2015-02-06 13:00:01'),\n",
       "    Timestamp('2015-02-06 13:00:01'),\n",
       "    Timestamp('2015-02-06 13:00:01'),\n",
       "    Timestamp('2015-02-06 13:00:01'),\n",
       "    Timestamp('2015-02-06 15:11:05'),\n",
       "    Timestamp('2015-02-06 15:11:05'),\n",
       "    Timestamp('2015-02-06 15:11:05'),\n",
       "    Timestamp('2015-02-06 15:11:05'),\n",
       "    Timestamp('2015-02-06 15:11:05'),\n",
       "    Timestamp('2015-02-06 15:11:05'),\n",
       "    Timestamp('2015-02-06 15:11:05'),\n",
       "    Timestamp('2015-02-06 15:11:05'),\n",
       "    Timestamp('2015-02-06 15:11:05'),\n",
       "    Timestamp('2015-02-06 15:11:05'),\n",
       "    Timestamp('2015-02-06 15:11:05'),\n",
       "    Timestamp('2015-02-06 15:11:05'),\n",
       "    Timestamp('2015-02-06 15:11:05'),\n",
       "    Timestamp('2015-02-06 15:11:05'),\n",
       "    Timestamp('2015-02-06 15:11:05'),\n",
       "    Timestamp('2015-02-06 15:11:05'),\n",
       "    Timestamp('2015-02-06 15:11:05'),\n",
       "    Timestamp('2015-02-06 15:11:05'),\n",
       "    Timestamp('2015-02-06 15:11:05'),\n",
       "    Timestamp('2015-02-06 15:11:05'),\n",
       "    Timestamp('2015-02-06 15:11:05'),\n",
       "    Timestamp('2015-02-06 15:11:05'),\n",
       "    Timestamp('2015-02-06 15:11:05'),\n",
       "    Timestamp('2015-02-06 15:11:05'),\n",
       "    Timestamp('2015-02-06 15:11:05'),\n",
       "    Timestamp('2015-02-06 15:11:05'),\n",
       "    Timestamp('2015-02-06 15:11:05'),\n",
       "    Timestamp('2015-02-06 15:11:05'),\n",
       "    Timestamp('2015-02-06 15:11:05'),\n",
       "    Timestamp('2015-02-06 15:11:05'),\n",
       "    Timestamp('2015-02-06 15:11:05'),\n",
       "    Timestamp('2015-02-06 15:11:05'),\n",
       "    Timestamp('2015-02-06 15:11:05'),\n",
       "    Timestamp('2015-02-06 15:11:05'),\n",
       "    Timestamp('2015-02-06 15:11:05'),\n",
       "    Timestamp('2015-02-06 15:11:05'),\n",
       "    Timestamp('2015-02-06 15:11:05'),\n",
       "    Timestamp('2015-02-06 15:11:05'),\n",
       "    Timestamp('2015-02-06 15:11:05'),\n",
       "    Timestamp('2015-02-06 15:11:05'),\n",
       "    Timestamp('2015-02-06 15:11:05'),\n",
       "    Timestamp('2015-02-06 15:11:05'),\n",
       "    Timestamp('2015-02-06 15:11:05'),\n",
       "    Timestamp('2015-02-06 15:11:05'),\n",
       "    Timestamp('2015-02-06 15:11:05'),\n",
       "    Timestamp('2015-02-06 15:15:57'),\n",
       "    Timestamp('2015-02-06 15:15:57'),\n",
       "    Timestamp('2015-02-06 15:15:57'),\n",
       "    Timestamp('2015-02-06 15:15:57'),\n",
       "    Timestamp('2015-02-06 15:15:57'),\n",
       "    Timestamp('2015-02-06 15:15:57'),\n",
       "    Timestamp('2015-02-06 15:15:57'),\n",
       "    Timestamp('2015-02-06 15:15:57'),\n",
       "    Timestamp('2015-02-06 15:15:57'),\n",
       "    Timestamp('2015-02-06 15:15:57'),\n",
       "    Timestamp('2015-02-06 15:15:57'),\n",
       "    Timestamp('2015-02-06 15:15:57'),\n",
       "    Timestamp('2015-02-06 15:15:57'),\n",
       "    Timestamp('2015-02-06 15:15:57'),\n",
       "    Timestamp('2015-02-06 15:15:57'),\n",
       "    Timestamp('2015-02-06 19:50:42'),\n",
       "    Timestamp('2015-02-06 19:50:42'),\n",
       "    Timestamp('2015-02-06 19:50:42'),\n",
       "    Timestamp('2015-02-06 19:50:42'),\n",
       "    Timestamp('2015-02-06 19:50:42'),\n",
       "    Timestamp('2015-02-06 19:50:42'),\n",
       "    Timestamp('2015-02-06 19:50:42'),\n",
       "    Timestamp('2015-02-06 19:50:42'),\n",
       "    Timestamp('2015-02-06 19:50:42'),\n",
       "    Timestamp('2015-02-06 19:50:42'),\n",
       "    Timestamp('2015-02-06 19:50:42'),\n",
       "    Timestamp('2015-02-06 19:50:42'),\n",
       "    Timestamp('2015-02-06 19:50:42'),\n",
       "    Timestamp('2015-02-06 19:50:42'),\n",
       "    Timestamp('2015-02-06 19:50:42'),\n",
       "    Timestamp('2015-02-06 23:00:24'),\n",
       "    Timestamp('2015-02-06 23:00:24'),\n",
       "    Timestamp('2015-02-06 23:00:24'),\n",
       "    Timestamp('2015-02-06 23:00:24'),\n",
       "    Timestamp('2015-02-06 23:00:24'),\n",
       "    Timestamp('2015-02-06 23:00:24'),\n",
       "    Timestamp('2015-02-06 23:00:24'),\n",
       "    Timestamp('2015-02-06 23:00:24'),\n",
       "    Timestamp('2015-02-06 23:00:24'),\n",
       "    Timestamp('2015-02-06 23:00:24'),\n",
       "    Timestamp('2015-02-06 23:00:24'),\n",
       "    Timestamp('2015-02-06 23:00:24'),\n",
       "    Timestamp('2015-02-06 23:00:24'),\n",
       "    Timestamp('2015-02-06 23:00:24'),\n",
       "    Timestamp('2015-02-06 23:00:24')],\n",
       "   'weight': 150}),\n",
       " ('Samsung_2015-02-06',\n",
       "  'Gear_2015-02-06',\n",
       "  {'label': 'intralayer',\n",
       "   'media_list': ['Website',\n",
       "    'Website',\n",
       "    'Website',\n",
       "    'Website',\n",
       "    'Website',\n",
       "    'Website',\n",
       "    'Website',\n",
       "    'Website',\n",
       "    'Website',\n",
       "    'Website',\n",
       "    'Website',\n",
       "    'Website',\n",
       "    'Website',\n",
       "    'Website',\n",
       "    'Website',\n",
       "    'Website',\n",
       "    'Website',\n",
       "    'Website',\n",
       "    'Website',\n",
       "    'Website',\n",
       "    'Website',\n",
       "    'Website',\n",
       "    'Website',\n",
       "    'Website',\n",
       "    'Website',\n",
       "    'Website',\n",
       "    'Website',\n",
       "    'Website',\n",
       "    'Website',\n",
       "    'Website',\n",
       "    'Website',\n",
       "    'Website',\n",
       "    'Website',\n",
       "    'Website',\n",
       "    'Website',\n",
       "    'Website',\n",
       "    'Website',\n",
       "    'Website',\n",
       "    'Website',\n",
       "    'Website',\n",
       "    'Website',\n",
       "    'Website',\n",
       "    'Website',\n",
       "    'Website',\n",
       "    'Website',\n",
       "    'Website',\n",
       "    'Website',\n",
       "    'Website',\n",
       "    'Website',\n",
       "    'Website'],\n",
       "   'time_series': [Timestamp('2015-02-06 04:55:08'),\n",
       "    Timestamp('2015-02-06 04:55:08'),\n",
       "    Timestamp('2015-02-06 04:55:08'),\n",
       "    Timestamp('2015-02-06 04:55:08'),\n",
       "    Timestamp('2015-02-06 04:55:08'),\n",
       "    Timestamp('2015-02-06 07:15:53'),\n",
       "    Timestamp('2015-02-06 07:15:53'),\n",
       "    Timestamp('2015-02-06 07:15:53'),\n",
       "    Timestamp('2015-02-06 07:15:53'),\n",
       "    Timestamp('2015-02-06 07:15:53'),\n",
       "    Timestamp('2015-02-06 10:36:00'),\n",
       "    Timestamp('2015-02-06 10:36:00'),\n",
       "    Timestamp('2015-02-06 10:36:00'),\n",
       "    Timestamp('2015-02-06 10:36:00'),\n",
       "    Timestamp('2015-02-06 10:36:00'),\n",
       "    Timestamp('2015-02-06 13:00:01'),\n",
       "    Timestamp('2015-02-06 13:00:01'),\n",
       "    Timestamp('2015-02-06 13:00:01'),\n",
       "    Timestamp('2015-02-06 13:00:01'),\n",
       "    Timestamp('2015-02-06 13:00:01'),\n",
       "    Timestamp('2015-02-06 15:11:05'),\n",
       "    Timestamp('2015-02-06 15:11:05'),\n",
       "    Timestamp('2015-02-06 15:11:05'),\n",
       "    Timestamp('2015-02-06 15:11:05'),\n",
       "    Timestamp('2015-02-06 15:11:05'),\n",
       "    Timestamp('2015-02-06 15:11:05'),\n",
       "    Timestamp('2015-02-06 15:11:05'),\n",
       "    Timestamp('2015-02-06 15:11:05'),\n",
       "    Timestamp('2015-02-06 15:11:05'),\n",
       "    Timestamp('2015-02-06 15:11:05'),\n",
       "    Timestamp('2015-02-06 15:11:05'),\n",
       "    Timestamp('2015-02-06 15:11:05'),\n",
       "    Timestamp('2015-02-06 15:11:05'),\n",
       "    Timestamp('2015-02-06 15:11:05'),\n",
       "    Timestamp('2015-02-06 15:11:05'),\n",
       "    Timestamp('2015-02-06 15:15:57'),\n",
       "    Timestamp('2015-02-06 15:15:57'),\n",
       "    Timestamp('2015-02-06 15:15:57'),\n",
       "    Timestamp('2015-02-06 15:15:57'),\n",
       "    Timestamp('2015-02-06 15:15:57'),\n",
       "    Timestamp('2015-02-06 19:50:42'),\n",
       "    Timestamp('2015-02-06 19:50:42'),\n",
       "    Timestamp('2015-02-06 19:50:42'),\n",
       "    Timestamp('2015-02-06 19:50:42'),\n",
       "    Timestamp('2015-02-06 19:50:42'),\n",
       "    Timestamp('2015-02-06 23:00:24'),\n",
       "    Timestamp('2015-02-06 23:00:24'),\n",
       "    Timestamp('2015-02-06 23:00:24'),\n",
       "    Timestamp('2015-02-06 23:00:24'),\n",
       "    Timestamp('2015-02-06 23:00:24')],\n",
       "   'weight': 50})]"
      ]
     },
     "execution_count": 10,
     "metadata": {},
     "output_type": "execute_result"
    }
   ],
   "source": [
    "Gmax.edges(data=True)"
   ]
  },
  {
   "cell_type": "code",
   "execution_count": null,
   "metadata": {
    "collapsed": true
   },
   "outputs": [],
   "source": []
  },
  {
   "cell_type": "markdown",
   "metadata": {},
   "source": [
    "### Coded as a matrix"
   ]
  },
  {
   "cell_type": "code",
   "execution_count": 80,
   "metadata": {
    "collapsed": false
   },
   "outputs": [],
   "source": [
    "df_nodes = pd.DataFrame()\n",
    "for node,data in Gmax.nodes(data=True):\n",
    "    df_nodes.loc[data['name'],data['timestamp']]=data['degree']\n",
    "df_nodes.fillna(0,inplace=True)\n",
    "df_nodes.sort_index(axis=1,inplace=True)"
   ]
  },
  {
   "cell_type": "code",
   "execution_count": 81,
   "metadata": {
    "collapsed": false,
    "scrolled": true
   },
   "outputs": [
    {
     "data": {
      "image/png": "[encoded data removed]",
      "text/plain": [
       "<matplotlib.figure.Figure at 0x7fea9c5e2cf8>"
      ]
     },
     "metadata": {},
     "output_type": "display_data"
    }
   ],
   "source": [
    "import matplotlib.pyplot as plt\n",
    "plt.matshow(df_nodes.as_matrix())\n",
    "plt.show()"
   ]
  },
  {
   "cell_type": "code",
   "execution_count": 82,
   "metadata": {
    "collapsed": false
   },
   "outputs": [
    {
     "data": {
      "image/png": "[encoded data removed]",
      "text/plain": [
       "<matplotlib.figure.Figure at 0x7feaa278a780>"
      ]
     },
     "metadata": {},
     "output_type": "display_data"
    }
   ],
   "source": [
    "import matplotlib.pyplot as plt\n",
    "nx.draw_spring(Gmax)\n",
    "plt.show()"
   ]
  },
  {
   "cell_type": "code",
   "execution_count": 11,
   "metadata": {
    "collapsed": true
   },
   "outputs": [],
   "source": [
    "def days_of_month(year,month):\n",
    "    \"\"\" return a list of the days of the chosen month\n",
    "        elements are in the datetime format\n",
    "    \"\"\"\n",
    "    import datetime\n",
    "    from dateutil.relativedelta import relativedelta\n",
    "    # Choose the year\n",
    "    base = datetime.datetime(year,1,1)\n",
    "    #three_mon_rel = relativedelta(months=3)\n",
    "    month_list = [base + relativedelta(month=x) for x in range(1, 13)]\n",
    "    month_list = month_list+[datetime.datetime(year+1,1,1)]\n",
    "    # day list\n",
    "    day_list = [month_list[month-1]+datetime.timedelta(days=n) for n in range(31) \n",
    "            if month_list[month-1]+datetime.timedelta(days=n)<month_list[month]]\n",
    "    start_date=day_list[0].strftime(\"%d-%m-%Y\")\n",
    "    end_date=day_list[-1].strftime(\"%d-%m-%Y\")\n",
    "    print('Dates are from {} to {}.'.format(start_date,end_date))\n",
    "    return day_list"
   ]
  },
  {
   "cell_type": "code",
   "execution_count": 12,
   "metadata": {
    "collapsed": false
   },
   "outputs": [
    {
     "name": "stdout",
     "output_type": "stream",
     "text": [
      "Dates are from 01-01-2015 to 31-01-2015.\n"
     ]
    },
    {
     "data": {
      "text/plain": [
       "[datetime.datetime(2015, 1, 1, 0, 0),\n",
       " datetime.datetime(2015, 1, 2, 0, 0),\n",
       " datetime.datetime(2015, 1, 3, 0, 0),\n",
       " datetime.datetime(2015, 1, 4, 0, 0),\n",
       " datetime.datetime(2015, 1, 5, 0, 0),\n",
       " datetime.datetime(2015, 1, 6, 0, 0),\n",
       " datetime.datetime(2015, 1, 7, 0, 0),\n",
       " datetime.datetime(2015, 1, 8, 0, 0),\n",
       " datetime.datetime(2015, 1, 9, 0, 0),\n",
       " datetime.datetime(2015, 1, 10, 0, 0),\n",
       " datetime.datetime(2015, 1, 11, 0, 0),\n",
       " datetime.datetime(2015, 1, 12, 0, 0),\n",
       " datetime.datetime(2015, 1, 13, 0, 0),\n",
       " datetime.datetime(2015, 1, 14, 0, 0),\n",
       " datetime.datetime(2015, 1, 15, 0, 0),\n",
       " datetime.datetime(2015, 1, 16, 0, 0),\n",
       " datetime.datetime(2015, 1, 17, 0, 0),\n",
       " datetime.datetime(2015, 1, 18, 0, 0),\n",
       " datetime.datetime(2015, 1, 19, 0, 0),\n",
       " datetime.datetime(2015, 1, 20, 0, 0),\n",
       " datetime.datetime(2015, 1, 21, 0, 0),\n",
       " datetime.datetime(2015, 1, 22, 0, 0),\n",
       " datetime.datetime(2015, 1, 23, 0, 0),\n",
       " datetime.datetime(2015, 1, 24, 0, 0),\n",
       " datetime.datetime(2015, 1, 25, 0, 0),\n",
       " datetime.datetime(2015, 1, 26, 0, 0),\n",
       " datetime.datetime(2015, 1, 27, 0, 0),\n",
       " datetime.datetime(2015, 1, 28, 0, 0),\n",
       " datetime.datetime(2015, 1, 29, 0, 0),\n",
       " datetime.datetime(2015, 1, 30, 0, 0),\n",
       " datetime.datetime(2015, 1, 31, 0, 0)]"
      ]
     },
     "execution_count": 12,
     "metadata": {},
     "output_type": "execute_result"
    }
   ],
   "source": [
    "days_of_month(2015,1)"
   ]
  },
  {
   "cell_type": "markdown",
   "metadata": {},
   "source": [
    "### Coded as a json"
   ]
  },
  {
   "cell_type": "code",
   "execution_count": 21,
   "metadata": {
    "collapsed": false
   },
   "outputs": [],
   "source": [
    "def CC_to_df(ccomponent):\n",
    "    import base64\n",
    "    df_nodes = pd.DataFrame()\n",
    "    node_list = ccomponent.nodes()\n",
    "    print(node_list)\n",
    "    sorted_node_list = sorted(node_list)\n",
    "    print(sorted_node_list)\n",
    "    ccomponent_id = sorted_node_list[0] #unique id for the component (can be any node of the component)\n",
    "    ccomponent_id = base64.urlsafe_b64encode(ccomponent_id.encode('UTF-8')).decode('UTF-8')\n",
    "    for node,data in ccomponent.nodes(data=True):\n",
    "        df_nodes.loc[node,'id']=node\n",
    "        df_nodes.loc[node,'name']=data['name']\n",
    "        df_nodes.loc[node,'day']=data['timestamp'].day\n",
    "        df_nodes.loc[node,'month']=data['timestamp'].month\n",
    "        df_nodes.loc[node,'year']=data['timestamp'].year\n",
    "        df_nodes.loc[node,'degree']=data['degree']\n",
    "        df_nodes.loc[node,'cc_id']=ccomponent_id\n",
    "    df_nodes.day = df_nodes.day.astype(int)\n",
    "    df_nodes.month = df_nodes.month.astype(int)\n",
    "    df_nodes.year = df_nodes.year.astype(int)\n",
    "    df_nodes.degree = df_nodes.degree.astype(int)\n",
    "    df_nodes = df_nodes.sort_values('degree',ascending=False)\n",
    "    ids,indices = df_nodes.name.factorize() # associate a number to each unique name\n",
    "    df_nodes['word_id_nb']=ids\n",
    "    return df_nodes,ccomponent_id"
   ]
  },
  {
   "cell_type": "code",
   "execution_count": 22,
   "metadata": {
    "collapsed": false
   },
   "outputs": [
    {
     "name": "stdout",
     "output_type": "stream",
     "text": [
      "['Galaxy_2015-02-06', 'Gear_2015-02-06', 'Note_2015-02-06', 'Tab_2015-02-06', 'Samsung_2015-02-06']\n",
      "['Galaxy_2015-02-06', 'Gear_2015-02-06', 'Note_2015-02-06', 'Samsung_2015-02-06', 'Tab_2015-02-06']\n"
     ]
    }
   ],
   "source": [
    "df_nodes = CC_to_df(Gmax)"
   ]
  },
  {
   "cell_type": "code",
   "execution_count": 23,
   "metadata": {
    "collapsed": false,
    "scrolled": true
   },
   "outputs": [
    {
     "data": {
      "text/plain": [
       "(                                    id     name  day  month  year  degree  \\\n",
       " Galaxy_2015-02-06    Galaxy_2015-02-06   Galaxy    6      2  2015     522   \n",
       " Samsung_2015-02-06  Samsung_2015-02-06  Samsung    6      2  2015     480   \n",
       " Note_2015-02-06        Note_2015-02-06     Note    6      2  2015     200   \n",
       " Tab_2015-02-06          Tab_2015-02-06      Tab    6      2  2015     178   \n",
       " Gear_2015-02-06        Gear_2015-02-06     Gear    6      2  2015     132   \n",
       " \n",
       "                                        cc_id  word_id_nb  \n",
       " Galaxy_2015-02-06   R2FsYXh5XzIwMTUtMDItMDY=           0  \n",
       " Samsung_2015-02-06  R2FsYXh5XzIwMTUtMDItMDY=           1  \n",
       " Note_2015-02-06     R2FsYXh5XzIwMTUtMDItMDY=           2  \n",
       " Tab_2015-02-06      R2FsYXh5XzIwMTUtMDItMDY=           3  \n",
       " Gear_2015-02-06     R2FsYXh5XzIwMTUtMDItMDY=           4  ,\n",
       " 'R2FsYXh5XzIwMTUtMDItMDY=')"
      ]
     },
     "execution_count": 23,
     "metadata": {},
     "output_type": "execute_result"
    }
   ],
   "source": [
    "df_nodes"
   ]
  },
  {
   "cell_type": "code",
   "execution_count": 87,
   "metadata": {
    "collapsed": false
   },
   "outputs": [
    {
     "data": {
      "text/plain": [
       "2893"
      ]
     },
     "execution_count": 87,
     "metadata": {},
     "output_type": "execute_result"
    }
   ],
   "source": [
    "len([ccomponent.size() for ccomponent in nx.weakly_connected_component_subgraphs(H) if ccomponent.size()>0])"
   ]
  },
  {
   "cell_type": "code",
   "execution_count": 97,
   "metadata": {
    "collapsed": false
   },
   "outputs": [],
   "source": [
    "nlist = [data['name'] for node,data in Gmax.nodes(data=True)]"
   ]
  },
  {
   "cell_type": "code",
   "execution_count": 103,
   "metadata": {
    "collapsed": false
   },
   "outputs": [
    {
     "data": {
      "text/plain": [
       "True"
      ]
     },
     "execution_count": 103,
     "metadata": {},
     "output_type": "execute_result"
    }
   ],
   "source": [
    "len(set(nlist))>0"
   ]
  },
  {
   "cell_type": "code",
   "execution_count": 105,
   "metadata": {
    "collapsed": false,
    "scrolled": true
   },
   "outputs": [
    {
     "ename": "AttributeError",
     "evalue": "'tuple' object has no attribute 'to_json'",
     "output_type": "error",
     "traceback": [
      "\u001b[0;31m---------------------------------------------------------------------------\u001b[0m",
      "\u001b[0;31mAttributeError\u001b[0m                            Traceback (most recent call last)",
      "\u001b[0;32m<ipython-input-105-81f5b32d3a6a>\u001b[0m in \u001b[0;36m<module>\u001b[0;34m()\u001b[0m\n\u001b[0;32m----> 1\u001b[0;31m \u001b[0mdf_nodes\u001b[0m\u001b[0;34m.\u001b[0m\u001b[0mto_json\u001b[0m\u001b[0;34m(\u001b[0m\u001b[0;34m'viz/timecomponent1.json'\u001b[0m\u001b[0;34m,\u001b[0m\u001b[0morient\u001b[0m\u001b[0;34m=\u001b[0m\u001b[0;34m'records'\u001b[0m\u001b[0;34m)\u001b[0m\u001b[0;31m#orient='index')\u001b[0m\u001b[0;34m\u001b[0m\u001b[0m\n\u001b[0m",
      "\u001b[0;31mAttributeError\u001b[0m: 'tuple' object has no attribute 'to_json'"
     ]
    }
   ],
   "source": [
    "df_nodes.to_json('viz/timecomponent1.json',orient='records')#orient='index')"
   ]
  },
  {
   "cell_type": "code",
   "execution_count": 109,
   "metadata": {
    "collapsed": false
   },
   "outputs": [
    {
     "name": "stdout",
     "output_type": "stream",
     "text": [
      "w6l0dWRlXzIwMTUtMDItMDY=\n",
      "RXRhc3NlXzIwMTUtMDItMDc=\n",
      "RW1qaV8yMDE1LTAyLTI2\n",
      "RWxlYV8yMDE1LTAyLTI2\n",
      "c8Opcmllc18yMDE1LTAyLTI2\n",
      "cmVnYXJkXzIwMTUtMDItMDc=\n",
      "Y29udGludV8yMDE1LTAyLTI2\n",
      "Y291cGxlc18yMDE1LTAyLTA3\n",
      "YXByw6hzXzIwMTUtMDItMDU=\n",
      "eW9nYV8yMDE1LTAyLTA3\n",
      "cmllbl8yMDE1LTAyLTA3\n",
      "cXVlc3Rpb25fMjAxNS0wMi0wNQ==\n",
      "UmF5bW9uZF8yMDE1LTAyLTA3\n",
      "aHVtb3VyXzIwMTUtMDItMDc=\n",
      "RmFiaWVuXzIwMTUtMDItMDc=\n",
      "Q2hsb8OpXzIwMTUtMDItMDc=\n",
      "UHVtcF8yMDE1LTAyLTA2\n",
      "Um9jaGFudF8yMDE1LTAyLTI0\n",
      "U2FtdWVsXzIwMTUtMDItMDc=\n",
      "b3JpZ2luYWxlXzIwMTUtMDItMjY=\n",
      "YWdvXzIwMTUtMDItMDU=\n",
      "Q2FtaWxsZV8yMDE1LTAyLTA3\n",
      "TcOpdGFfMjAxNS0wMi0yNg==\n",
      "cXVpbnF1YV8yMDE1LTAyLTA3\n",
      "c3VpdGVfMjAxNS0wMi0yNQ==\n",
      "Vk9TVEZSXzIwMTUtMDItMDU=\n",
      "b3JpZ2luYWxfMjAxNS0wMi0wNQ==\n",
      "UGxhdGFuZV8yMDE1LTAyLTA3\n"
     ]
    }
   ],
   "source": [
    "for ccomponent in nx.weakly_connected_component_subgraphs(H):\n",
    "    name_list = [data['name'] for node,data in ccomponent.nodes(data=True)]\n",
    "    if len(set(name_list))>1:\n",
    "        df,cc_id = CC_to_df(ccomponent)\n",
    "        print(cc_id)\n",
    "        df.to_json('viz/ccomponents/timecomponent_'+cc_id+'.json',orient='records')"
   ]
  },
  {
   "cell_type": "markdown",
   "metadata": {},
   "source": [
    "### Work on the edges"
   ]
  },
  {
   "cell_type": "code",
   "execution_count": 108,
   "metadata": {
    "collapsed": true
   },
   "outputs": [],
   "source": [
    "Gmax = max(nx.weakly_connected_component_subgraphs(H), key=len)"
   ]
  },
  {
   "cell_type": "code",
   "execution_count": 33,
   "metadata": {
    "collapsed": false
   },
   "outputs": [
    {
     "data": {
      "text/plain": [
       "{'Website': 70}"
      ]
     },
     "execution_count": 33,
     "metadata": {},
     "output_type": "execute_result"
    }
   ],
   "source": [
    "pd.value_counts(Gmax.edges(data=True)[0][2]['media_list']).to_dict()"
   ]
  },
  {
   "cell_type": "code",
   "execution_count": 110,
   "metadata": {
    "collapsed": false
   },
   "outputs": [
    {
     "data": {
      "text/plain": [
       "{'color': 0.6774193548387096,\n",
       " 'name': 'Légendes',\n",
       " 'timestamp': datetime.datetime(2015, 5, 22, 0, 0)}"
      ]
     },
     "execution_count": 110,
     "metadata": {},
     "output_type": "execute_result"
    }
   ],
   "source": [
    "Gmax.node['Légendes_2015-05-22']"
   ]
  },
  {
   "cell_type": "code",
   "execution_count": 34,
   "metadata": {
    "collapsed": false
   },
   "outputs": [
    {
     "name": "stdout",
     "output_type": "stream",
     "text": [
      "==Galaxy_2015-02-06_Note_2015-02-06\n",
      "==Galaxy_2015-02-06_Tab_2015-02-06\n",
      "==Samsung_2015-02-06_Galaxy_2015-02-06\n",
      "==Samsung_2015-02-06_Gear_2015-02-06\n"
     ]
    }
   ],
   "source": [
    "import memebox.treegraph as mtg\n",
    "df_edges = pd.DataFrame()\n",
    "for (node1,node2,data) in Gmax.edges(data=True):\n",
    "    node1_data,node2_data = Gmax.node[node1],Gmax.node[node2]\n",
    "    if (node1_data['timestamp']==node2_data['timestamp']): # if this is an intra-layer edge\n",
    "        edge_id = node1+'_'+node2\n",
    "        print('=='+edge_id)\n",
    "        df_edges.loc[edge_id,'id']=edge_id\n",
    "        df_edges.loc[edge_id,'name']=node1_data['name']+' '+node2_data['name']\n",
    "        df_edges.loc[edge_id,'day']=node1_data['timestamp'].day\n",
    "        df_edges.loc[edge_id,'month']=node1_data['timestamp'].month\n",
    "        df_edges.loc[edge_id,'year']=node1_data['timestamp'].year\n",
    "        df_edges.loc[edge_id,'occur']=data['weight']\n",
    "        medias = pd.value_counts(data['media_list']).to_dict()\n",
    "        main_media,media_occur = mtg.get_main_media(medias)\n",
    "        df_edges.loc[edge_id,'main_media']=main_media\n",
    "        df_edges.loc[edge_id,'main_media_occur']=media_occur\n",
    "df_edges.day = df_edges.day.astype(int)\n",
    "df_edges.month = df_edges.month.astype(int)\n",
    "df_edges.year = df_edges.year.astype(int)\n",
    "df_edges.occur = df_edges.occur.astype(int)\n",
    "df_edges.main_media_occur = df_edges.main_media_occur.astype(int)"
   ]
  },
  {
   "cell_type": "code",
   "execution_count": 35,
   "metadata": {
    "collapsed": true
   },
   "outputs": [],
   "source": [
    "# group edges with same name\n",
    "ids,indices = df_edges.name.factorize()\n",
    "df_edges['id_nb']=ids"
   ]
  },
  {
   "cell_type": "code",
   "execution_count": 36,
   "metadata": {
    "collapsed": false,
    "scrolled": true
   },
   "outputs": [
    {
     "data": {
      "text/html": [
       "<div>\n",
       "<table border=\"1\" class=\"dataframe\">\n",
       "  <thead>\n",
       "    <tr style=\"text-align: right;\">\n",
       "      <th></th>\n",
       "      <th>id</th>\n",
       "      <th>name</th>\n",
       "      <th>day</th>\n",
       "      <th>month</th>\n",
       "      <th>year</th>\n",
       "      <th>occur</th>\n",
       "      <th>main_media</th>\n",
       "      <th>main_media_occur</th>\n",
       "      <th>id_nb</th>\n",
       "    </tr>\n",
       "  </thead>\n",
       "  <tbody>\n",
       "    <tr>\n",
       "      <th>Galaxy_2015-02-06_Note_2015-02-06</th>\n",
       "      <td>Galaxy_2015-02-06_Note_2015-02-06</td>\n",
       "      <td>Galaxy Note</td>\n",
       "      <td>6</td>\n",
       "      <td>2</td>\n",
       "      <td>2015</td>\n",
       "      <td>70</td>\n",
       "      <td>Website</td>\n",
       "      <td>70</td>\n",
       "      <td>0</td>\n",
       "    </tr>\n",
       "    <tr>\n",
       "      <th>Galaxy_2015-02-06_Tab_2015-02-06</th>\n",
       "      <td>Galaxy_2015-02-06_Tab_2015-02-06</td>\n",
       "      <td>Galaxy Tab</td>\n",
       "      <td>6</td>\n",
       "      <td>2</td>\n",
       "      <td>2015</td>\n",
       "      <td>89</td>\n",
       "      <td>Website</td>\n",
       "      <td>89</td>\n",
       "      <td>1</td>\n",
       "    </tr>\n",
       "    <tr>\n",
       "      <th>Samsung_2015-02-06_Galaxy_2015-02-06</th>\n",
       "      <td>Samsung_2015-02-06_Galaxy_2015-02-06</td>\n",
       "      <td>Samsung Galaxy</td>\n",
       "      <td>6</td>\n",
       "      <td>2</td>\n",
       "      <td>2015</td>\n",
       "      <td>150</td>\n",
       "      <td>Website</td>\n",
       "      <td>150</td>\n",
       "      <td>2</td>\n",
       "    </tr>\n",
       "    <tr>\n",
       "      <th>Samsung_2015-02-06_Gear_2015-02-06</th>\n",
       "      <td>Samsung_2015-02-06_Gear_2015-02-06</td>\n",
       "      <td>Samsung Gear</td>\n",
       "      <td>6</td>\n",
       "      <td>2</td>\n",
       "      <td>2015</td>\n",
       "      <td>50</td>\n",
       "      <td>Website</td>\n",
       "      <td>50</td>\n",
       "      <td>3</td>\n",
       "    </tr>\n",
       "  </tbody>\n",
       "</table>\n",
       "</div>"
      ],
      "text/plain": [
       "                                                                        id  \\\n",
       "Galaxy_2015-02-06_Note_2015-02-06        Galaxy_2015-02-06_Note_2015-02-06   \n",
       "Galaxy_2015-02-06_Tab_2015-02-06          Galaxy_2015-02-06_Tab_2015-02-06   \n",
       "Samsung_2015-02-06_Galaxy_2015-02-06  Samsung_2015-02-06_Galaxy_2015-02-06   \n",
       "Samsung_2015-02-06_Gear_2015-02-06      Samsung_2015-02-06_Gear_2015-02-06   \n",
       "\n",
       "                                                name  day  month  year  occur  \\\n",
       "Galaxy_2015-02-06_Note_2015-02-06        Galaxy Note    6      2  2015     70   \n",
       "Galaxy_2015-02-06_Tab_2015-02-06          Galaxy Tab    6      2  2015     89   \n",
       "Samsung_2015-02-06_Galaxy_2015-02-06  Samsung Galaxy    6      2  2015    150   \n",
       "Samsung_2015-02-06_Gear_2015-02-06      Samsung Gear    6      2  2015     50   \n",
       "\n",
       "                                     main_media  main_media_occur  id_nb  \n",
       "Galaxy_2015-02-06_Note_2015-02-06       Website                70      0  \n",
       "Galaxy_2015-02-06_Tab_2015-02-06        Website                89      1  \n",
       "Samsung_2015-02-06_Galaxy_2015-02-06    Website               150      2  \n",
       "Samsung_2015-02-06_Gear_2015-02-06      Website                50      3  "
      ]
     },
     "execution_count": 36,
     "metadata": {},
     "output_type": "execute_result"
    }
   ],
   "source": [
    "df_edges"
   ]
  },
  {
   "cell_type": "code",
   "execution_count": 123,
   "metadata": {
    "collapsed": true
   },
   "outputs": [],
   "source": [
    "df_edges.to_json('viz/timecomponent1e.json',orient='records')#orient='index')"
   ]
  },
  {
   "cell_type": "code",
   "execution_count": 11,
   "metadata": {
    "collapsed": true
   },
   "outputs": [],
   "source": [
    "def CC_to_df_edges(ccomponent,date_delta):\n",
    "    \"\"\" Create a dataframe of edges with their properties to analyse the time evolution of a component\n",
    "        ccomponent is a graph, connected component of the multilayer graph.\n",
    "        date_delta = 'day' or 'hour'\n",
    "        returns: \n",
    "        - a dataframe containing edges and edges properties as columns\n",
    "        - a component id that will be used to identify the component\n",
    "            (this id is also attached to each node of the component)\n",
    "    \"\"\"\n",
    "    df_edges = pd.DataFrame()    \n",
    "    ccomponent_id = create_cc_id(ccomponent) #unique id for the component\n",
    "    for (node1,node2,data) in ccomponent.edges(data=True):\n",
    "        node1_data,node2_data = ccomponent.node[node1],ccomponent.node[node2]\n",
    "        if (node1_data['timestamp']==node2_data['timestamp']): # if this is an intra-layer edge\n",
    "            edge_id = node1+'_'+node2\n",
    "            #print('=='+edge_id)\n",
    "            df_edges.loc[edge_id,'id']=edge_id\n",
    "            df_edges.loc[edge_id,'name']=node1_data['name']+' '+node2_data['name']\n",
    "            if date_delta=='hour':\n",
    "                df_edges.loc[edge_id,'hour']=data['timestamp'].hour\n",
    "            df_edges.loc[edge_id,'day']=node1_data['timestamp'].day\n",
    "            df_edges.loc[edge_id,'month']=node1_data['timestamp'].month\n",
    "            df_edges.loc[edge_id,'year']=node1_data['timestamp'].year\n",
    "            df_edges.loc[edge_id,'occur']=data['weight']\n",
    "            medias = pd.value_counts(data['media_list']).to_dict()\n",
    "            main_media,media_occur = mtg.get_main_media(medias)\n",
    "            df_edges.loc[edge_id,'main_media']=main_media\n",
    "            df_edges.loc[edge_id,'main_media_occur']=media_occur\n",
    "            df_edges.loc[edge_id,'cc_id']=ccomponent_id\n",
    "    df_edges.day = df_edges.day.astype(int)\n",
    "    df_edges.month = df_edges.month.astype(int)\n",
    "    df_edges.year = df_edges.year.astype(int)\n",
    "    df_edges.occur = df_edges.occur.astype(int)\n",
    "    if date_delta=='hour':\n",
    "        df_edges.hour = df_edges.hour.astype(int)\n",
    "    df_edges.main_media_occur = df_edges.main_media_occur.astype(int)\n",
    "    df_edges = df_edges.sort_values('occur',ascending=False)\n",
    "    ids,indices = df_edges.name.factorize() # associate a number to each unique node name in the component\n",
    "    df_edges['word_id_nb']=ids # used for the visualization\n",
    "    return df_edges,ccomponent_id"
   ]
  },
  {
   "cell_type": "code",
   "execution_count": 11,
   "metadata": {
    "collapsed": false
   },
   "outputs": [],
   "source": [
    "df_edges,ccomponent_id=mlg.CC_to_df_edges(Gmax,'month')"
   ]
  },
  {
   "cell_type": "code",
   "execution_count": 12,
   "metadata": {
    "collapsed": false
   },
   "outputs": [
    {
     "data": {
      "text/html": [
       "<div>\n",
       "<table border=\"1\" class=\"dataframe\">\n",
       "  <thead>\n",
       "    <tr style=\"text-align: right;\">\n",
       "      <th></th>\n",
       "      <th>id</th>\n",
       "      <th>name</th>\n",
       "      <th>day</th>\n",
       "      <th>month</th>\n",
       "      <th>year</th>\n",
       "      <th>occur</th>\n",
       "      <th>main_media</th>\n",
       "      <th>main_media_occur</th>\n",
       "      <th>cc_id</th>\n",
       "      <th>word_id_nb</th>\n",
       "    </tr>\n",
       "  </thead>\n",
       "  <tbody>\n",
       "    <tr>\n",
       "      <th>Samsung_2015-02-06_Galaxy_2015-02-06</th>\n",
       "      <td>Samsung_2015-02-06_Galaxy_2015-02-06</td>\n",
       "      <td>Samsung Galaxy</td>\n",
       "      <td>6</td>\n",
       "      <td>2</td>\n",
       "      <td>2015</td>\n",
       "      <td>150</td>\n",
       "      <td>Website</td>\n",
       "      <td>150</td>\n",
       "      <td>R2FsYXh5XzIwMTUtMDItMDY=</td>\n",
       "      <td>0</td>\n",
       "    </tr>\n",
       "    <tr>\n",
       "      <th>Galaxy_2015-02-06_Tab_2015-02-06</th>\n",
       "      <td>Galaxy_2015-02-06_Tab_2015-02-06</td>\n",
       "      <td>Galaxy Tab</td>\n",
       "      <td>6</td>\n",
       "      <td>2</td>\n",
       "      <td>2015</td>\n",
       "      <td>89</td>\n",
       "      <td>Website</td>\n",
       "      <td>89</td>\n",
       "      <td>R2FsYXh5XzIwMTUtMDItMDY=</td>\n",
       "      <td>1</td>\n",
       "    </tr>\n",
       "    <tr>\n",
       "      <th>Galaxy_2015-02-06_Note_2015-02-06</th>\n",
       "      <td>Galaxy_2015-02-06_Note_2015-02-06</td>\n",
       "      <td>Galaxy Note</td>\n",
       "      <td>6</td>\n",
       "      <td>2</td>\n",
       "      <td>2015</td>\n",
       "      <td>70</td>\n",
       "      <td>Website</td>\n",
       "      <td>70</td>\n",
       "      <td>R2FsYXh5XzIwMTUtMDItMDY=</td>\n",
       "      <td>2</td>\n",
       "    </tr>\n",
       "    <tr>\n",
       "      <th>Samsung_2015-02-06_Gear_2015-02-06</th>\n",
       "      <td>Samsung_2015-02-06_Gear_2015-02-06</td>\n",
       "      <td>Samsung Gear</td>\n",
       "      <td>6</td>\n",
       "      <td>2</td>\n",
       "      <td>2015</td>\n",
       "      <td>50</td>\n",
       "      <td>Website</td>\n",
       "      <td>50</td>\n",
       "      <td>R2FsYXh5XzIwMTUtMDItMDY=</td>\n",
       "      <td>3</td>\n",
       "    </tr>\n",
       "  </tbody>\n",
       "</table>\n",
       "</div>"
      ],
      "text/plain": [
       "                                                                        id  \\\n",
       "Samsung_2015-02-06_Galaxy_2015-02-06  Samsung_2015-02-06_Galaxy_2015-02-06   \n",
       "Galaxy_2015-02-06_Tab_2015-02-06          Galaxy_2015-02-06_Tab_2015-02-06   \n",
       "Galaxy_2015-02-06_Note_2015-02-06        Galaxy_2015-02-06_Note_2015-02-06   \n",
       "Samsung_2015-02-06_Gear_2015-02-06      Samsung_2015-02-06_Gear_2015-02-06   \n",
       "\n",
       "                                                name  day  month  year  occur  \\\n",
       "Samsung_2015-02-06_Galaxy_2015-02-06  Samsung Galaxy    6      2  2015    150   \n",
       "Galaxy_2015-02-06_Tab_2015-02-06          Galaxy Tab    6      2  2015     89   \n",
       "Galaxy_2015-02-06_Note_2015-02-06        Galaxy Note    6      2  2015     70   \n",
       "Samsung_2015-02-06_Gear_2015-02-06      Samsung Gear    6      2  2015     50   \n",
       "\n",
       "                                     main_media  main_media_occur  \\\n",
       "Samsung_2015-02-06_Galaxy_2015-02-06    Website               150   \n",
       "Galaxy_2015-02-06_Tab_2015-02-06        Website                89   \n",
       "Galaxy_2015-02-06_Note_2015-02-06       Website                70   \n",
       "Samsung_2015-02-06_Gear_2015-02-06      Website                50   \n",
       "\n",
       "                                                         cc_id  word_id_nb  \n",
       "Samsung_2015-02-06_Galaxy_2015-02-06  R2FsYXh5XzIwMTUtMDItMDY=           0  \n",
       "Galaxy_2015-02-06_Tab_2015-02-06      R2FsYXh5XzIwMTUtMDItMDY=           1  \n",
       "Galaxy_2015-02-06_Note_2015-02-06     R2FsYXh5XzIwMTUtMDItMDY=           2  \n",
       "Samsung_2015-02-06_Gear_2015-02-06    R2FsYXh5XzIwMTUtMDItMDY=           3  "
      ]
     },
     "execution_count": 12,
     "metadata": {},
     "output_type": "execute_result"
    }
   ],
   "source": [
    "df_edges"
   ]
  },
  {
   "cell_type": "code",
   "execution_count": 13,
   "metadata": {
    "collapsed": false
   },
   "outputs": [
    {
     "data": {
      "text/plain": [
       "'R2FsYXh5XzIwMTUtMDItMDY='"
      ]
     },
     "execution_count": 13,
     "metadata": {},
     "output_type": "execute_result"
    }
   ],
   "source": [
    "ccomponent_id"
   ]
  },
  {
   "cell_type": "markdown",
   "metadata": {},
   "source": [
    "### Compress all the components"
   ]
  },
  {
   "cell_type": "code",
   "execution_count": 7,
   "metadata": {
    "collapsed": false
   },
   "outputs": [
    {
     "name": "stdout",
     "output_type": "stream",
     "text": [
      "CPU times: user 6.72 s, sys: 0 ns, total: 6.72 s\n",
      "Wall time: 6.72 s\n"
     ]
    }
   ],
   "source": [
    "%time G_all2 = mlg.compress_multilayer(H)"
   ]
  },
  {
   "cell_type": "code",
   "execution_count": 8,
   "metadata": {
    "collapsed": true
   },
   "outputs": [],
   "source": [
    "G_all2.graph['series_name'] = series_name"
   ]
  },
  {
   "cell_type": "markdown",
   "metadata": {},
   "source": [
    "### Save the compressed components"
   ]
  },
  {
   "cell_type": "code",
   "execution_count": 9,
   "metadata": {
    "collapsed": false
   },
   "outputs": [
    {
     "name": "stdout",
     "output_type": "stream",
     "text": [
      "Graph written to file: /home/benjamin/Documents/memetracker/viz/ccomponent.json\n"
     ]
    }
   ],
   "source": [
    "json_filename = 'ccomponent.json'\n",
    "filename = viz_path + json_filename\n",
    "mlg.save_graph(G_all2,filename)\n",
    "print('Graph written to file: {}'.format(filename))"
   ]
  },
  {
   "cell_type": "code",
   "execution_count": 10,
   "metadata": {
    "collapsed": false
   },
   "outputs": [
    {
     "data": {
      "text/plain": [
       "{'end_date': '31-05-2015',\n",
       " 'name': '()',\n",
       " 'series_name': 'LBDL',\n",
       " 'start_date': '01-05-2015'}"
      ]
     },
     "execution_count": 10,
     "metadata": {},
     "output_type": "execute_result"
    }
   ],
   "source": [
    "G_all2.graph"
   ]
  },
  {
   "cell_type": "code",
   "execution_count": 12,
   "metadata": {
    "collapsed": false
   },
   "outputs": [
    {
     "data": {
      "text/plain": [
       "92"
      ]
     },
     "execution_count": 12,
     "metadata": {},
     "output_type": "execute_result"
    }
   ],
   "source": [
    "G_all2.size()"
   ]
  },
  {
   "cell_type": "markdown",
   "metadata": {},
   "source": [
    "### Visualize the compressed components"
   ]
  },
  {
   "cell_type": "code",
   "execution_count": 13,
   "metadata": {
    "collapsed": false
   },
   "outputs": [
    {
     "data": {
      "image/png": "[encoded data removed]",
      "text/plain": [
       "<matplotlib.figure.Figure at 0x7fbbd5a28470>"
      ]
     },
     "metadata": {},
     "output_type": "display_data"
    }
   ],
   "source": [
    "mlg.draw_graph(G_all2)"
   ]
  },
  {
   "cell_type": "code",
   "execution_count": 14,
   "metadata": {
    "collapsed": true
   },
   "outputs": [],
   "source": [
    "# open a web browser to show the components\n",
    "url =  'http://localhost:8008/forcegraphmeme.html'+'?'+'file='+json_filename\n",
    "mlg.web_viz(G_all2,url)"
   ]
  },
  {
   "cell_type": "code",
   "execution_count": null,
   "metadata": {
    "collapsed": true
   },
   "outputs": [],
   "source": []
  }
 ],
 "metadata": {
  "kernelspec": {
   "display_name": "Python 3",
   "language": "python",
   "name": "python3"
  },
  "language_info": {
   "codemirror_mode": {
    "name": "ipython",
    "version": 3
   },
   "file_extension": ".py",
   "mimetype": "text/x-python",
   "name": "python",
   "nbconvert_exporter": "python",
   "pygments_lexer": "ipython3",
   "version": "3.5.2"
  }
 },
 "nbformat": 4,
 "nbformat_minor": 1
}
