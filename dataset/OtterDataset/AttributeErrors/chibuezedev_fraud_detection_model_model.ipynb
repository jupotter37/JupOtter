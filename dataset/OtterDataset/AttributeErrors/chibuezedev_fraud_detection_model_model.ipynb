{
 "cells": [
  {
   "cell_type": "code",
   "execution_count": 98,
   "id": "f8d44bcb-edcf-4694-9f77-e7dd0c4d6698",
   "metadata": {
    "tags": []
   },
   "outputs": [
    {
     "name": "stdout",
     "output_type": "stream",
     "text": [
      "Collecting explainable-ai-sdk==1.2.2\n",
      "  Downloading explainable_ai_sdk-1.2.2-py3-none-any.whl (114 kB)\n",
      "\u001b[2K     \u001b[90m━━━━━━━━━━━━━━━━━━━━━━━━━━━━━━━━━━━━━━━\u001b[0m \u001b[32m114.1/114.1 kB\u001b[0m \u001b[31m1.4 MB/s\u001b[0m eta \u001b[36m0:00:00\u001b[0m00:01\u001b[0m00:01\u001b[0m\n",
      "\u001b[?25hRequirement already satisfied: tensorflow>=1.15.0 in /opt/conda/lib/python3.10/site-packages (from explainable-ai-sdk==1.2.2) (2.11.0)\n",
      "Requirement already satisfied: matplotlib>=3.2.2 in /opt/conda/lib/python3.10/site-packages (from explainable-ai-sdk==1.2.2) (3.8.2)\n",
      "Requirement already satisfied: numpy>=1.7 in /opt/conda/lib/python3.10/site-packages (from explainable-ai-sdk==1.2.2) (1.24.4)\n",
      "Requirement already satisfied: requests>=2.5 in /opt/conda/lib/python3.10/site-packages (from explainable-ai-sdk==1.2.2) (2.31.0)\n",
      "Requirement already satisfied: google.auth>=1.14.1 in /opt/conda/lib/python3.10/site-packages (from explainable-ai-sdk==1.2.2) (2.26.2)\n",
      "Requirement already satisfied: cachetools<6.0,>=2.0.0 in /opt/conda/lib/python3.10/site-packages (from google.auth>=1.14.1->explainable-ai-sdk==1.2.2) (4.2.4)\n",
      "Requirement already satisfied: pyasn1-modules>=0.2.1 in /opt/conda/lib/python3.10/site-packages (from google.auth>=1.14.1->explainable-ai-sdk==1.2.2) (0.3.0)\n",
      "Requirement already satisfied: rsa<5,>=3.1.4 in /opt/conda/lib/python3.10/site-packages (from google.auth>=1.14.1->explainable-ai-sdk==1.2.2) (4.9)\n",
      "Requirement already satisfied: contourpy>=1.0.1 in /opt/conda/lib/python3.10/site-packages (from matplotlib>=3.2.2->explainable-ai-sdk==1.2.2) (1.2.0)\n",
      "Requirement already satisfied: cycler>=0.10 in /opt/conda/lib/python3.10/site-packages (from matplotlib>=3.2.2->explainable-ai-sdk==1.2.2) (0.12.1)\n",
      "Requirement already satisfied: fonttools>=4.22.0 in /opt/conda/lib/python3.10/site-packages (from matplotlib>=3.2.2->explainable-ai-sdk==1.2.2) (4.47.2)\n",
      "Requirement already satisfied: kiwisolver>=1.3.1 in /opt/conda/lib/python3.10/site-packages (from matplotlib>=3.2.2->explainable-ai-sdk==1.2.2) (1.4.5)\n",
      "Requirement already satisfied: packaging>=20.0 in /opt/conda/lib/python3.10/site-packages (from matplotlib>=3.2.2->explainable-ai-sdk==1.2.2) (23.2)\n",
      "Requirement already satisfied: pillow>=8 in /opt/conda/lib/python3.10/site-packages (from matplotlib>=3.2.2->explainable-ai-sdk==1.2.2) (10.2.0)\n",
      "Requirement already satisfied: pyparsing>=2.3.1 in /opt/conda/lib/python3.10/site-packages (from matplotlib>=3.2.2->explainable-ai-sdk==1.2.2) (3.1.1)\n",
      "Requirement already satisfied: python-dateutil>=2.7 in /opt/conda/lib/python3.10/site-packages (from matplotlib>=3.2.2->explainable-ai-sdk==1.2.2) (2.8.2)\n",
      "Requirement already satisfied: charset-normalizer<4,>=2 in /opt/conda/lib/python3.10/site-packages (from requests>=2.5->explainable-ai-sdk==1.2.2) (3.3.2)\n",
      "Requirement already satisfied: idna<4,>=2.5 in /opt/conda/lib/python3.10/site-packages (from requests>=2.5->explainable-ai-sdk==1.2.2) (3.6)\n",
      "Requirement already satisfied: urllib3<3,>=1.21.1 in /opt/conda/lib/python3.10/site-packages (from requests>=2.5->explainable-ai-sdk==1.2.2) (1.26.18)\n",
      "Requirement already satisfied: certifi>=2017.4.17 in /opt/conda/lib/python3.10/site-packages (from requests>=2.5->explainable-ai-sdk==1.2.2) (2023.11.17)\n",
      "Requirement already satisfied: absl-py>=1.0.0 in /opt/conda/lib/python3.10/site-packages (from tensorflow>=1.15.0->explainable-ai-sdk==1.2.2) (1.4.0)\n",
      "Requirement already satisfied: astunparse>=1.6.0 in /opt/conda/lib/python3.10/site-packages (from tensorflow>=1.15.0->explainable-ai-sdk==1.2.2) (1.6.3)\n",
      "Requirement already satisfied: flatbuffers>=2.0 in /opt/conda/lib/python3.10/site-packages (from tensorflow>=1.15.0->explainable-ai-sdk==1.2.2) (23.5.26)\n",
      "Requirement already satisfied: gast<=0.4.0,>=0.2.1 in /opt/conda/lib/python3.10/site-packages (from tensorflow>=1.15.0->explainable-ai-sdk==1.2.2) (0.4.0)\n",
      "Requirement already satisfied: google-pasta>=0.1.1 in /opt/conda/lib/python3.10/site-packages (from tensorflow>=1.15.0->explainable-ai-sdk==1.2.2) (0.2.0)\n",
      "Requirement already satisfied: grpcio<2.0,>=1.24.3 in /opt/conda/lib/python3.10/site-packages (from tensorflow>=1.15.0->explainable-ai-sdk==1.2.2) (1.48.1)\n",
      "Requirement already satisfied: h5py>=2.9.0 in /opt/conda/lib/python3.10/site-packages (from tensorflow>=1.15.0->explainable-ai-sdk==1.2.2) (3.10.0)\n",
      "Requirement already satisfied: keras<2.12,>=2.11.0 in /opt/conda/lib/python3.10/site-packages (from tensorflow>=1.15.0->explainable-ai-sdk==1.2.2) (2.11.0)\n",
      "Requirement already satisfied: libclang>=13.0.0 in /opt/conda/lib/python3.10/site-packages (from tensorflow>=1.15.0->explainable-ai-sdk==1.2.2) (16.0.6)\n",
      "Requirement already satisfied: opt-einsum>=2.3.2 in /opt/conda/lib/python3.10/site-packages (from tensorflow>=1.15.0->explainable-ai-sdk==1.2.2) (3.3.0)\n",
      "Requirement already satisfied: protobuf<3.20,>=3.9.2 in /opt/conda/lib/python3.10/site-packages (from tensorflow>=1.15.0->explainable-ai-sdk==1.2.2) (3.19.6)\n",
      "Requirement already satisfied: setuptools in /opt/conda/lib/python3.10/site-packages (from tensorflow>=1.15.0->explainable-ai-sdk==1.2.2) (69.0.3)\n",
      "Requirement already satisfied: six>=1.12.0 in /opt/conda/lib/python3.10/site-packages (from tensorflow>=1.15.0->explainable-ai-sdk==1.2.2) (1.16.0)\n",
      "Requirement already satisfied: tensorboard<2.12,>=2.11 in /opt/conda/lib/python3.10/site-packages (from tensorflow>=1.15.0->explainable-ai-sdk==1.2.2) (2.11.2)\n",
      "Requirement already satisfied: tensorflow-estimator<2.12,>=2.11.0 in /opt/conda/lib/python3.10/site-packages (from tensorflow>=1.15.0->explainable-ai-sdk==1.2.2) (2.11.0)\n",
      "Requirement already satisfied: termcolor>=1.1.0 in /opt/conda/lib/python3.10/site-packages (from tensorflow>=1.15.0->explainable-ai-sdk==1.2.2) (2.4.0)\n",
      "Requirement already satisfied: typing-extensions>=3.6.6 in /opt/conda/lib/python3.10/site-packages (from tensorflow>=1.15.0->explainable-ai-sdk==1.2.2) (4.9.0)\n",
      "Requirement already satisfied: wrapt>=1.11.0 in /opt/conda/lib/python3.10/site-packages (from tensorflow>=1.15.0->explainable-ai-sdk==1.2.2) (1.16.0)\n",
      "Requirement already satisfied: tensorflow-io-gcs-filesystem>=0.23.1 in /opt/conda/lib/python3.10/site-packages (from tensorflow>=1.15.0->explainable-ai-sdk==1.2.2) (0.29.0)\n",
      "Requirement already satisfied: wheel<1.0,>=0.23.0 in /opt/conda/lib/python3.10/site-packages (from astunparse>=1.6.0->tensorflow>=1.15.0->explainable-ai-sdk==1.2.2) (0.42.0)\n",
      "Requirement already satisfied: pyasn1<0.6.0,>=0.4.6 in /opt/conda/lib/python3.10/site-packages (from pyasn1-modules>=0.2.1->google.auth>=1.14.1->explainable-ai-sdk==1.2.2) (0.5.1)\n",
      "Requirement already satisfied: google-auth-oauthlib<0.5,>=0.4.1 in /opt/conda/lib/python3.10/site-packages (from tensorboard<2.12,>=2.11->tensorflow>=1.15.0->explainable-ai-sdk==1.2.2) (0.4.6)\n",
      "Requirement already satisfied: markdown>=2.6.8 in /opt/conda/lib/python3.10/site-packages (from tensorboard<2.12,>=2.11->tensorflow>=1.15.0->explainable-ai-sdk==1.2.2) (3.5.2)\n",
      "Requirement already satisfied: tensorboard-data-server<0.7.0,>=0.6.0 in /opt/conda/lib/python3.10/site-packages (from tensorboard<2.12,>=2.11->tensorflow>=1.15.0->explainable-ai-sdk==1.2.2) (0.6.1)\n",
      "Requirement already satisfied: tensorboard-plugin-wit>=1.6.0 in /opt/conda/lib/python3.10/site-packages (from tensorboard<2.12,>=2.11->tensorflow>=1.15.0->explainable-ai-sdk==1.2.2) (1.8.1)\n",
      "Requirement already satisfied: werkzeug>=1.0.1 in /opt/conda/lib/python3.10/site-packages (from tensorboard<2.12,>=2.11->tensorflow>=1.15.0->explainable-ai-sdk==1.2.2) (2.1.2)\n",
      "Requirement already satisfied: requests-oauthlib>=0.7.0 in /opt/conda/lib/python3.10/site-packages (from google-auth-oauthlib<0.5,>=0.4.1->tensorboard<2.12,>=2.11->tensorflow>=1.15.0->explainable-ai-sdk==1.2.2) (1.3.1)\n",
      "Requirement already satisfied: oauthlib>=3.0.0 in /opt/conda/lib/python3.10/site-packages (from requests-oauthlib>=0.7.0->google-auth-oauthlib<0.5,>=0.4.1->tensorboard<2.12,>=2.11->tensorflow>=1.15.0->explainable-ai-sdk==1.2.2) (3.2.2)\n",
      "Installing collected packages: explainable-ai-sdk\n",
      "  Attempting uninstall: explainable-ai-sdk\n",
      "    Found existing installation: explainable-ai-sdk 1.2.4\n",
      "    Uninstalling explainable-ai-sdk-1.2.4:\n",
      "      Successfully uninstalled explainable-ai-sdk-1.2.4\n",
      "Successfully installed explainable-ai-sdk-1.2.2\n"
     ]
    }
   ],
   "source": [
    "!pip install explainable-ai-sdk==1.2.2\n",
    "import itertools\n",
    "import numpy as np\n",
    "import pandas as pd\n",
    "import tensorflow as tf\n",
    "import json\n",
    "import matplotlib as mpl\n",
    "import matplotlib.pyplot as plt\n",
    "import explainable_ai_sdk\n",
    "\n",
    "from sklearn.utils import shuffle\n",
    "from sklearn.metrics import confusion_matrix\n",
    "from sklearn.preprocessing import StandardScaler\n",
    "from tensorflow import keras\n",
    "from explainable_ai_sdk.metadata.tf.v2 import SavedModelMetadataBuilder\n",
    "# from explainable_ai_sdk.model.configs import SampledShapleyConfig"
   ]
  },
  {
   "cell_type": "code",
   "execution_count": 67,
   "id": "48f1b7a9-9d5c-4503-8f7b-66d8ba1ed55c",
   "metadata": {
    "tags": []
   },
   "outputs": [
    {
     "name": "stdout",
     "output_type": "stream",
     "text": [
      "Copying gs://financial_fraud_detection/fraud_data_kaggle.csv...\n",
      "| [1 files][303.4 MiB/303.4 MiB]                                                \n",
      "Operation completed over 1 objects/303.4 MiB.                                    \n"
     ]
    }
   ],
   "source": [
    "!gsutil cp gs://financial_fraud_detection/fraud_data_kaggle.csv ."
   ]
  },
  {
   "cell_type": "code",
   "execution_count": 68,
   "id": "92ec705c-dd66-4dc9-868b-7aafb1ada329",
   "metadata": {},
   "outputs": [
    {
     "data": {
      "text/html": [
       "<div>\n",
       "<style scoped>\n",
       "    .dataframe tbody tr th:only-of-type {\n",
       "        vertical-align: middle;\n",
       "    }\n",
       "\n",
       "    .dataframe tbody tr th {\n",
       "        vertical-align: top;\n",
       "    }\n",
       "\n",
       "    .dataframe thead th {\n",
       "        text-align: right;\n",
       "    }\n",
       "</style>\n",
       "<table border=\"1\" class=\"dataframe\">\n",
       "  <thead>\n",
       "    <tr style=\"text-align: right;\">\n",
       "      <th></th>\n",
       "      <th>step</th>\n",
       "      <th>amount</th>\n",
       "      <th>nameOrig</th>\n",
       "      <th>oldbalanceOrg</th>\n",
       "      <th>newbalanceOrig</th>\n",
       "      <th>nameDest</th>\n",
       "      <th>oldbalanceDest</th>\n",
       "      <th>newbalanceDest</th>\n",
       "      <th>isFraud</th>\n",
       "      <th>isFlaggedFraud</th>\n",
       "    </tr>\n",
       "  </thead>\n",
       "  <tbody>\n",
       "    <tr>\n",
       "      <th>0</th>\n",
       "      <td>1</td>\n",
       "      <td>9839.64</td>\n",
       "      <td>C1231006815</td>\n",
       "      <td>170136.0</td>\n",
       "      <td>160296.36</td>\n",
       "      <td>M1979787155</td>\n",
       "      <td>0.0</td>\n",
       "      <td>0.0</td>\n",
       "      <td>0.0</td>\n",
       "      <td>0.0</td>\n",
       "    </tr>\n",
       "    <tr>\n",
       "      <th>1</th>\n",
       "      <td>1</td>\n",
       "      <td>1864.28</td>\n",
       "      <td>C1666544295</td>\n",
       "      <td>21249.0</td>\n",
       "      <td>19384.72</td>\n",
       "      <td>M2044282225</td>\n",
       "      <td>0.0</td>\n",
       "      <td>0.0</td>\n",
       "      <td>0.0</td>\n",
       "      <td>0.0</td>\n",
       "    </tr>\n",
       "    <tr>\n",
       "      <th>2</th>\n",
       "      <td>1</td>\n",
       "      <td>181.00</td>\n",
       "      <td>C1305486145</td>\n",
       "      <td>181.0</td>\n",
       "      <td>0.00</td>\n",
       "      <td>C553264065</td>\n",
       "      <td>0.0</td>\n",
       "      <td>0.0</td>\n",
       "      <td>1.0</td>\n",
       "      <td>0.0</td>\n",
       "    </tr>\n",
       "    <tr>\n",
       "      <th>3</th>\n",
       "      <td>1</td>\n",
       "      <td>181.00</td>\n",
       "      <td>C840083671</td>\n",
       "      <td>181.0</td>\n",
       "      <td>0.00</td>\n",
       "      <td>C38997010</td>\n",
       "      <td>21182.0</td>\n",
       "      <td>0.0</td>\n",
       "      <td>1.0</td>\n",
       "      <td>0.0</td>\n",
       "    </tr>\n",
       "    <tr>\n",
       "      <th>4</th>\n",
       "      <td>1</td>\n",
       "      <td>11668.14</td>\n",
       "      <td>C2048537720</td>\n",
       "      <td>41554.0</td>\n",
       "      <td>29885.86</td>\n",
       "      <td>M1230701703</td>\n",
       "      <td>0.0</td>\n",
       "      <td>0.0</td>\n",
       "      <td>0.0</td>\n",
       "      <td>0.0</td>\n",
       "    </tr>\n",
       "  </tbody>\n",
       "</table>\n",
       "</div>"
      ],
      "text/plain": [
       "   step    amount     nameOrig  oldbalanceOrg  newbalanceOrig     nameDest  \\\n",
       "0     1   9839.64  C1231006815       170136.0       160296.36  M1979787155   \n",
       "1     1   1864.28  C1666544295        21249.0        19384.72  M2044282225   \n",
       "2     1    181.00  C1305486145          181.0            0.00   C553264065   \n",
       "3     1    181.00   C840083671          181.0            0.00    C38997010   \n",
       "4     1  11668.14  C2048537720        41554.0        29885.86  M1230701703   \n",
       "\n",
       "   oldbalanceDest  newbalanceDest  isFraud  isFlaggedFraud  \n",
       "0             0.0             0.0      0.0             0.0  \n",
       "1             0.0             0.0      0.0             0.0  \n",
       "2             0.0             0.0      1.0             0.0  \n",
       "3         21182.0             0.0      1.0             0.0  \n",
       "4             0.0             0.0      0.0             0.0  "
      ]
     },
     "execution_count": 68,
     "metadata": {},
     "output_type": "execute_result"
    }
   ],
   "source": [
    "data = pd.read_csv('fraud_data_kaggle.csv')\n",
    "data = data.drop(columns=['type'])\n",
    "data.head()"
   ]
  },
  {
   "cell_type": "code",
   "execution_count": 69,
   "id": "0f031378-0221-4715-b95d-72600bc53dfa",
   "metadata": {},
   "outputs": [],
   "source": [
    "fraud = data[data['isFraud'] == 1]\n",
    "not_fraud = data[data['isFraud'] == 0]"
   ]
  },
  {
   "cell_type": "code",
   "execution_count": 70,
   "id": "d739ba97-7c7e-4cef-8a75-7c4ebd6c3f7a",
   "metadata": {
    "tags": []
   },
   "outputs": [
    {
     "data": {
      "text/html": [
       "<div>\n",
       "<style scoped>\n",
       "    .dataframe tbody tr th:only-of-type {\n",
       "        vertical-align: middle;\n",
       "    }\n",
       "\n",
       "    .dataframe tbody tr th {\n",
       "        vertical-align: top;\n",
       "    }\n",
       "\n",
       "    .dataframe thead th {\n",
       "        text-align: right;\n",
       "    }\n",
       "</style>\n",
       "<table border=\"1\" class=\"dataframe\">\n",
       "  <thead>\n",
       "    <tr style=\"text-align: right;\">\n",
       "      <th></th>\n",
       "      <th>step</th>\n",
       "      <th>amount</th>\n",
       "      <th>oldbalanceOrg</th>\n",
       "      <th>newbalanceOrig</th>\n",
       "      <th>oldbalanceDest</th>\n",
       "      <th>newbalanceDest</th>\n",
       "      <th>isFraud</th>\n",
       "    </tr>\n",
       "  </thead>\n",
       "  <tbody>\n",
       "    <tr>\n",
       "      <th>2880934</th>\n",
       "      <td>228</td>\n",
       "      <td>225995.98</td>\n",
       "      <td>187387.00</td>\n",
       "      <td>0.00</td>\n",
       "      <td>2089592.81</td>\n",
       "      <td>2315588.79</td>\n",
       "      <td>0.0</td>\n",
       "    </tr>\n",
       "    <tr>\n",
       "      <th>2485109</th>\n",
       "      <td>204</td>\n",
       "      <td>6758.80</td>\n",
       "      <td>25491.67</td>\n",
       "      <td>18732.88</td>\n",
       "      <td>0.00</td>\n",
       "      <td>0.00</td>\n",
       "      <td>0.0</td>\n",
       "    </tr>\n",
       "    <tr>\n",
       "      <th>3528108</th>\n",
       "      <td>259</td>\n",
       "      <td>21772.92</td>\n",
       "      <td>26341.00</td>\n",
       "      <td>4568.08</td>\n",
       "      <td>0.00</td>\n",
       "      <td>0.00</td>\n",
       "      <td>0.0</td>\n",
       "    </tr>\n",
       "    <tr>\n",
       "      <th>199110</th>\n",
       "      <td>13</td>\n",
       "      <td>582526.39</td>\n",
       "      <td>0.00</td>\n",
       "      <td>0.00</td>\n",
       "      <td>1110543.49</td>\n",
       "      <td>1693069.89</td>\n",
       "      <td>0.0</td>\n",
       "    </tr>\n",
       "    <tr>\n",
       "      <th>550022</th>\n",
       "      <td>21</td>\n",
       "      <td>93966.17</td>\n",
       "      <td>0.00</td>\n",
       "      <td>0.00</td>\n",
       "      <td>3581536.71</td>\n",
       "      <td>3675502.88</td>\n",
       "      <td>0.0</td>\n",
       "    </tr>\n",
       "  </tbody>\n",
       "</table>\n",
       "</div>"
      ],
      "text/plain": [
       "         step     amount  oldbalanceOrg  newbalanceOrig  oldbalanceDest  \\\n",
       "2880934   228  225995.98      187387.00            0.00      2089592.81   \n",
       "2485109   204    6758.80       25491.67        18732.88            0.00   \n",
       "3528108   259   21772.92       26341.00         4568.08            0.00   \n",
       "199110     13  582526.39           0.00            0.00      1110543.49   \n",
       "550022     21   93966.17           0.00            0.00      3581536.71   \n",
       "\n",
       "         newbalanceDest  isFraud  \n",
       "2880934      2315588.79      0.0  \n",
       "2485109            0.00      0.0  \n",
       "3528108            0.00      0.0  \n",
       "199110       1693069.89      0.0  \n",
       "550022       3675502.88      0.0  "
      ]
     },
     "execution_count": 70,
     "metadata": {},
     "output_type": "execute_result"
    }
   ],
   "source": [
    "# Take a random sample of non fraud rows\n",
    "not_fraud_sample = not_fraud.sample(random_state=2, frac=.005)\n",
    "\n",
    "# Put it back together and shuffle\n",
    "df = pd.concat([not_fraud_sample,fraud])\n",
    "df = shuffle(df, random_state=2)\n",
    "\n",
    "# Remove a few columns (isFraud is the label column we'll use, not isFlaggedFraud)\n",
    "df = df.drop(columns=['nameOrig', 'nameDest', 'isFlaggedFraud'])\n",
    "\n",
    "# Preview the updated dataset\n",
    "df.head()"
   ]
  },
  {
   "cell_type": "code",
   "execution_count": 71,
   "id": "daa3c207-6161-4548-9c9b-10faeb863a6b",
   "metadata": {
    "tags": []
   },
   "outputs": [],
   "source": [
    "train_test_split = int(len(df) * .8)\n",
    "\n",
    "train_set = df[:train_test_split]\n",
    "test_set = df[train_test_split:]\n",
    "\n",
    "train_labels = train_set.pop('isFraud')\n",
    "test_labels = test_set.pop('isFraud')"
   ]
  },
  {
   "cell_type": "code",
   "execution_count": 72,
   "id": "0d000626-1d35-49a7-a69e-db72b2a501b4",
   "metadata": {
    "tags": []
   },
   "outputs": [],
   "source": [
    "scaler = StandardScaler()\n",
    "train_set = scaler.fit_transform(train_set)\n",
    "test_set = scaler.transform(test_set)\n",
    "\n",
    "train_set = np.clip(train_set, -5, 5)\n",
    "test_set = np.clip(test_set, -5, 5)"
   ]
  },
  {
   "cell_type": "code",
   "execution_count": 73,
   "id": "e2f164b7-06cf-4038-addd-aad279a533d6",
   "metadata": {
    "tags": []
   },
   "outputs": [
    {
     "data": {
      "text/plain": [
       "array([[ 0.74771568, -0.10558206, -0.24744663, -0.26469104,  0.51385876,\n",
       "         0.48591169],\n",
       "       [ 0.48352495, -0.33128635, -0.30457304, -0.25780596, -0.39568077,\n",
       "        -0.43989138],\n",
       "       [ 1.08896205, -0.31582934, -0.30427334, -0.26301209, -0.39568077,\n",
       "        -0.43989138],\n",
       "       ...,\n",
       "       [-1.63000093, -0.2417149 ,  5.        ,  5.        , -0.32594475,\n",
       "        -0.41332417],\n",
       "       [ 0.50554084, -0.24271814, -0.31319682, -0.26469104, -0.39568077,\n",
       "        -0.40279301],\n",
       "       [-0.43013468, -0.28420772,  2.89581808,  3.09750739, -0.18409246,\n",
       "        -0.26652501]])"
      ]
     },
     "execution_count": 73,
     "metadata": {},
     "output_type": "execute_result"
    }
   ],
   "source": [
    "train_set"
   ]
  },
  {
   "cell_type": "code",
   "execution_count": 74,
   "id": "961d851f-faaa-4bcf-ae1d-667829027659",
   "metadata": {
    "tags": []
   },
   "outputs": [],
   "source": [
    "weight_for_non_fraud = 1.0 / df['isFraud'].value_counts()[0]\n",
    "weight_for_fraud = 1.0 / df['isFraud'].value_counts()[1]\n",
    "\n",
    "class_weight = {0: weight_for_non_fraud, 1: weight_for_fraud}"
   ]
  },
  {
   "cell_type": "code",
   "execution_count": 75,
   "id": "7d64124e-1e09-4f57-a766-47b35912ba8c",
   "metadata": {
    "tags": []
   },
   "outputs": [],
   "source": [
    "METRICS = [\n",
    "      keras.metrics.TruePositives(name='tp'),\n",
    "      keras.metrics.FalsePositives(name='fp'),\n",
    "      keras.metrics.TrueNegatives(name='tn'),\n",
    "      keras.metrics.FalseNegatives(name='fn'), \n",
    "      keras.metrics.BinaryAccuracy(name='accuracy'),\n",
    "      keras.metrics.Precision(name='precision'),\n",
    "      keras.metrics.Recall(name='recall'),\n",
    "      keras.metrics.AUC(name='auc'),\n",
    "]\n",
    "\n",
    "def make_model(metrics = METRICS):\n",
    "  model = keras.Sequential([\n",
    "      keras.layers.Dense(\n",
    "          16, activation='relu',\n",
    "          input_shape=(train_set.shape[-1],)),\n",
    "      keras.layers.Dropout(0.5),\n",
    "      keras.layers.Dense(1, activation='sigmoid'),\n",
    "  ])\n",
    "\n",
    "  model.compile(\n",
    "      optimizer=keras.optimizers.Adam(learning_rate=1e-3),\n",
    "      loss=keras.losses.BinaryCrossentropy(),\n",
    "      metrics=metrics)\n",
    "\n",
    "  return model"
   ]
  },
  {
   "cell_type": "code",
   "execution_count": 76,
   "id": "d0d4d338-7461-4f53-82bd-f9bd98fc87e9",
   "metadata": {
    "tags": []
   },
   "outputs": [],
   "source": [
    "EPOCHS = 100\n",
    "BATCH_SIZE = 512\n",
    "\n",
    "early_stopping = tf.keras.callbacks.EarlyStopping(\n",
    "    monitor='val_auc', \n",
    "    verbose=1,\n",
    "    patience=10,\n",
    "    mode='max',\n",
    "    restore_best_weights=True)"
   ]
  },
  {
   "cell_type": "code",
   "execution_count": 77,
   "id": "7dae888d-c6a7-4bc6-9392-702218421883",
   "metadata": {},
   "outputs": [
    {
     "name": "stderr",
     "output_type": "stream",
     "text": [
      "WARNING:absl:`lr` is deprecated, please use `learning_rate` instead, or use the legacy optimizer, e.g.,tf.keras.optimizers.legacy.Adam.\n"
     ]
    },
    {
     "name": "stdout",
     "output_type": "stream",
     "text": [
      "Model: \"sequential_1\"\n",
      "_________________________________________________________________\n",
      " Layer (type)                Output Shape              Param #   \n",
      "=================================================================\n",
      " dense_2 (Dense)             (None, 16)                112       \n",
      "                                                                 \n",
      " dropout_1 (Dropout)         (None, 16)                0         \n",
      "                                                                 \n",
      " dense_3 (Dense)             (None, 1)                 17        \n",
      "                                                                 \n",
      "=================================================================\n",
      "Total params: 129\n",
      "Trainable params: 129\n",
      "Non-trainable params: 0\n",
      "_________________________________________________________________\n"
     ]
    }
   ],
   "source": [
    "model = make_model()\n",
    "model.summary()"
   ]
  },
  {
   "cell_type": "code",
   "execution_count": 78,
   "id": "cf999aec-e29f-4043-82be-4bc1034b095f",
   "metadata": {
    "tags": []
   },
   "outputs": [
    {
     "name": "stdout",
     "output_type": "stream",
     "text": [
      "Epoch 1/100\n",
      "38/38 [==============================] - 2s 18ms/step - loss: 6.1193e-05 - tp: 1189.0000 - fp: 6538.0000 - tn: 9893.0000 - fn: 1520.0000 - accuracy: 0.5790 - precision: 0.1539 - recall: 0.4389 - auc: 0.5159 - val_loss: 0.6583 - val_tp: 389.0000 - val_fp: 1198.0000 - val_tn: 2886.0000 - val_fn: 313.0000 - val_accuracy: 0.6843 - val_precision: 0.2451 - val_recall: 0.5541 - val_auc: 0.6482\n",
      "Epoch 2/100\n",
      "38/38 [==============================] - 0s 5ms/step - loss: 5.6941e-05 - tp: 1489.0000 - fp: 6759.0000 - tn: 9672.0000 - fn: 1220.0000 - accuracy: 0.5831 - precision: 0.1805 - recall: 0.5496 - auc: 0.5973 - val_loss: 0.6456 - val_tp: 428.0000 - val_fp: 1136.0000 - val_tn: 2948.0000 - val_fn: 274.0000 - val_accuracy: 0.7054 - val_precision: 0.2737 - val_recall: 0.6097 - val_auc: 0.7157\n",
      "Epoch 3/100\n",
      "38/38 [==============================] - 0s 4ms/step - loss: 5.4125e-05 - tp: 1550.0000 - fp: 5658.0000 - tn: 10773.0000 - fn: 1159.0000 - accuracy: 0.6438 - precision: 0.2150 - recall: 0.5722 - auc: 0.6477 - val_loss: 0.6284 - val_tp: 435.0000 - val_fp: 1054.0000 - val_tn: 3030.0000 - val_fn: 267.0000 - val_accuracy: 0.7240 - val_precision: 0.2921 - val_recall: 0.6197 - val_auc: 0.7576\n",
      "Epoch 4/100\n",
      "38/38 [==============================] - 0s 4ms/step - loss: 5.2262e-05 - tp: 1588.0000 - fp: 4818.0000 - tn: 11613.0000 - fn: 1121.0000 - accuracy: 0.6897 - precision: 0.2479 - recall: 0.5862 - auc: 0.6858 - val_loss: 0.6147 - val_tp: 423.0000 - val_fp: 713.0000 - val_tn: 3371.0000 - val_fn: 279.0000 - val_accuracy: 0.7927 - val_precision: 0.3724 - val_recall: 0.6026 - val_auc: 0.7900\n",
      "Epoch 5/100\n",
      "38/38 [==============================] - 0s 4ms/step - loss: 5.0781e-05 - tp: 1610.0000 - fp: 4293.0000 - tn: 12138.0000 - fn: 1099.0000 - accuracy: 0.7183 - precision: 0.2727 - recall: 0.5943 - auc: 0.7126 - val_loss: 0.5979 - val_tp: 411.0000 - val_fp: 528.0000 - val_tn: 3556.0000 - val_fn: 291.0000 - val_accuracy: 0.8289 - val_precision: 0.4377 - val_recall: 0.5855 - val_auc: 0.8060\n",
      "Epoch 6/100\n",
      "38/38 [==============================] - 0s 4ms/step - loss: 4.9675e-05 - tp: 1635.0000 - fp: 3567.0000 - tn: 12864.0000 - fn: 1074.0000 - accuracy: 0.7575 - precision: 0.3143 - recall: 0.6035 - auc: 0.7426 - val_loss: 0.5834 - val_tp: 409.0000 - val_fp: 497.0000 - val_tn: 3587.0000 - val_fn: 293.0000 - val_accuracy: 0.8349 - val_precision: 0.4514 - val_recall: 0.5826 - val_auc: 0.8199\n",
      "Epoch 7/100\n",
      "38/38 [==============================] - 0s 4ms/step - loss: 4.8658e-05 - tp: 1625.0000 - fp: 3105.0000 - tn: 13326.0000 - fn: 1084.0000 - accuracy: 0.7811 - precision: 0.3436 - recall: 0.5999 - auc: 0.7638 - val_loss: 0.5700 - val_tp: 411.0000 - val_fp: 445.0000 - val_tn: 3639.0000 - val_fn: 291.0000 - val_accuracy: 0.8462 - val_precision: 0.4801 - val_recall: 0.5855 - val_auc: 0.8268\n",
      "Epoch 8/100\n",
      "38/38 [==============================] - 0s 4ms/step - loss: 4.7659e-05 - tp: 1670.0000 - fp: 2933.0000 - tn: 13498.0000 - fn: 1039.0000 - accuracy: 0.7925 - precision: 0.3628 - recall: 0.6165 - auc: 0.7745 - val_loss: 0.5593 - val_tp: 416.0000 - val_fp: 433.0000 - val_tn: 3651.0000 - val_fn: 286.0000 - val_accuracy: 0.8498 - val_precision: 0.4900 - val_recall: 0.5926 - val_auc: 0.8316\n",
      "Epoch 9/100\n",
      "38/38 [==============================] - 0s 6ms/step - loss: 4.6757e-05 - tp: 1632.0000 - fp: 2466.0000 - tn: 13965.0000 - fn: 1077.0000 - accuracy: 0.8149 - precision: 0.3982 - recall: 0.6024 - auc: 0.7891 - val_loss: 0.5443 - val_tp: 414.0000 - val_fp: 410.0000 - val_tn: 3674.0000 - val_fn: 288.0000 - val_accuracy: 0.8542 - val_precision: 0.5024 - val_recall: 0.5897 - val_auc: 0.8350\n",
      "Epoch 10/100\n",
      "38/38 [==============================] - 0s 5ms/step - loss: 4.6304e-05 - tp: 1615.0000 - fp: 2404.0000 - tn: 14027.0000 - fn: 1094.0000 - accuracy: 0.8172 - precision: 0.4018 - recall: 0.5962 - auc: 0.7899 - val_loss: 0.5385 - val_tp: 417.0000 - val_fp: 426.0000 - val_tn: 3658.0000 - val_fn: 285.0000 - val_accuracy: 0.8514 - val_precision: 0.4947 - val_recall: 0.5940 - val_auc: 0.8375\n",
      "Epoch 11/100\n",
      "38/38 [==============================] - 0s 6ms/step - loss: 4.5384e-05 - tp: 1645.0000 - fp: 2290.0000 - tn: 14141.0000 - fn: 1064.0000 - accuracy: 0.8248 - precision: 0.4180 - recall: 0.6072 - auc: 0.8012 - val_loss: 0.5313 - val_tp: 419.0000 - val_fp: 423.0000 - val_tn: 3661.0000 - val_fn: 283.0000 - val_accuracy: 0.8525 - val_precision: 0.4976 - val_recall: 0.5969 - val_auc: 0.8403\n",
      "Epoch 12/100\n",
      "38/38 [==============================] - 0s 6ms/step - loss: 4.5250e-05 - tp: 1617.0000 - fp: 2084.0000 - tn: 14347.0000 - fn: 1092.0000 - accuracy: 0.8341 - precision: 0.4369 - recall: 0.5969 - auc: 0.8012 - val_loss: 0.5205 - val_tp: 414.0000 - val_fp: 368.0000 - val_tn: 3716.0000 - val_fn: 288.0000 - val_accuracy: 0.8629 - val_precision: 0.5294 - val_recall: 0.5897 - val_auc: 0.8433\n",
      "Epoch 13/100\n",
      "38/38 [==============================] - 0s 5ms/step - loss: 4.4633e-05 - tp: 1616.0000 - fp: 1894.0000 - tn: 14537.0000 - fn: 1093.0000 - accuracy: 0.8439 - precision: 0.4604 - recall: 0.5965 - auc: 0.8103 - val_loss: 0.5147 - val_tp: 417.0000 - val_fp: 363.0000 - val_tn: 3721.0000 - val_fn: 285.0000 - val_accuracy: 0.8646 - val_precision: 0.5346 - val_recall: 0.5940 - val_auc: 0.8441\n",
      "Epoch 14/100\n",
      "38/38 [==============================] - 0s 5ms/step - loss: 4.4481e-05 - tp: 1615.0000 - fp: 1923.0000 - tn: 14508.0000 - fn: 1094.0000 - accuracy: 0.8424 - precision: 0.4565 - recall: 0.5962 - auc: 0.8108 - val_loss: 0.5117 - val_tp: 420.0000 - val_fp: 369.0000 - val_tn: 3715.0000 - val_fn: 282.0000 - val_accuracy: 0.8640 - val_precision: 0.5323 - val_recall: 0.5983 - val_auc: 0.8443\n",
      "Epoch 15/100\n",
      "38/38 [==============================] - 0s 5ms/step - loss: 4.3985e-05 - tp: 1627.0000 - fp: 1756.0000 - tn: 14675.0000 - fn: 1082.0000 - accuracy: 0.8517 - precision: 0.4809 - recall: 0.6006 - auc: 0.8171 - val_loss: 0.5046 - val_tp: 421.0000 - val_fp: 355.0000 - val_tn: 3729.0000 - val_fn: 281.0000 - val_accuracy: 0.8671 - val_precision: 0.5425 - val_recall: 0.5997 - val_auc: 0.8453\n",
      "Epoch 16/100\n",
      "38/38 [==============================] - 0s 5ms/step - loss: 4.3568e-05 - tp: 1623.0000 - fp: 1686.0000 - tn: 14745.0000 - fn: 1086.0000 - accuracy: 0.8552 - precision: 0.4905 - recall: 0.5991 - auc: 0.8203 - val_loss: 0.4996 - val_tp: 425.0000 - val_fp: 348.0000 - val_tn: 3736.0000 - val_fn: 277.0000 - val_accuracy: 0.8694 - val_precision: 0.5498 - val_recall: 0.6054 - val_auc: 0.8473\n",
      "Epoch 17/100\n",
      "38/38 [==============================] - 0s 5ms/step - loss: 4.3172e-05 - tp: 1656.0000 - fp: 1706.0000 - tn: 14725.0000 - fn: 1053.0000 - accuracy: 0.8559 - precision: 0.4926 - recall: 0.6113 - auc: 0.8245 - val_loss: 0.4911 - val_tp: 423.0000 - val_fp: 343.0000 - val_tn: 3741.0000 - val_fn: 279.0000 - val_accuracy: 0.8700 - val_precision: 0.5522 - val_recall: 0.6026 - val_auc: 0.8484\n",
      "Epoch 18/100\n",
      "38/38 [==============================] - 0s 4ms/step - loss: 4.2922e-05 - tp: 1643.0000 - fp: 1580.0000 - tn: 14851.0000 - fn: 1066.0000 - accuracy: 0.8618 - precision: 0.5098 - recall: 0.6065 - auc: 0.8252 - val_loss: 0.4875 - val_tp: 425.0000 - val_fp: 343.0000 - val_tn: 3741.0000 - val_fn: 277.0000 - val_accuracy: 0.8705 - val_precision: 0.5534 - val_recall: 0.6054 - val_auc: 0.8497\n",
      "Epoch 19/100\n",
      "38/38 [==============================] - 0s 5ms/step - loss: 4.2153e-05 - tp: 1644.0000 - fp: 1576.0000 - tn: 14855.0000 - fn: 1065.0000 - accuracy: 0.8620 - precision: 0.5106 - recall: 0.6069 - auc: 0.8333 - val_loss: 0.4815 - val_tp: 427.0000 - val_fp: 351.0000 - val_tn: 3733.0000 - val_fn: 275.0000 - val_accuracy: 0.8692 - val_precision: 0.5488 - val_recall: 0.6083 - val_auc: 0.8501\n",
      "Epoch 20/100\n",
      "38/38 [==============================] - 0s 4ms/step - loss: 4.2141e-05 - tp: 1666.0000 - fp: 1629.0000 - tn: 14802.0000 - fn: 1043.0000 - accuracy: 0.8604 - precision: 0.5056 - recall: 0.6150 - auc: 0.8300 - val_loss: 0.4754 - val_tp: 427.0000 - val_fp: 348.0000 - val_tn: 3736.0000 - val_fn: 275.0000 - val_accuracy: 0.8698 - val_precision: 0.5510 - val_recall: 0.6083 - val_auc: 0.8505\n",
      "Epoch 21/100\n",
      "38/38 [==============================] - 0s 4ms/step - loss: 4.1786e-05 - tp: 1640.0000 - fp: 1531.0000 - tn: 14900.0000 - fn: 1069.0000 - accuracy: 0.8642 - precision: 0.5172 - recall: 0.6054 - auc: 0.8338 - val_loss: 0.4730 - val_tp: 426.0000 - val_fp: 352.0000 - val_tn: 3732.0000 - val_fn: 276.0000 - val_accuracy: 0.8688 - val_precision: 0.5476 - val_recall: 0.6068 - val_auc: 0.8519\n",
      "Epoch 22/100\n",
      "38/38 [==============================] - 0s 5ms/step - loss: 4.1216e-05 - tp: 1675.0000 - fp: 1573.0000 - tn: 14858.0000 - fn: 1034.0000 - accuracy: 0.8638 - precision: 0.5157 - recall: 0.6183 - auc: 0.8383 - val_loss: 0.4624 - val_tp: 423.0000 - val_fp: 323.0000 - val_tn: 3761.0000 - val_fn: 279.0000 - val_accuracy: 0.8742 - val_precision: 0.5670 - val_recall: 0.6026 - val_auc: 0.8547\n",
      "Epoch 23/100\n",
      "38/38 [==============================] - 0s 5ms/step - loss: 4.1078e-05 - tp: 1654.0000 - fp: 1426.0000 - tn: 15005.0000 - fn: 1055.0000 - accuracy: 0.8704 - precision: 0.5370 - recall: 0.6106 - auc: 0.8380 - val_loss: 0.4610 - val_tp: 423.0000 - val_fp: 331.0000 - val_tn: 3753.0000 - val_fn: 279.0000 - val_accuracy: 0.8725 - val_precision: 0.5610 - val_recall: 0.6026 - val_auc: 0.8555\n",
      "Epoch 24/100\n",
      "38/38 [==============================] - 0s 5ms/step - loss: 4.0926e-05 - tp: 1675.0000 - fp: 1560.0000 - tn: 14871.0000 - fn: 1034.0000 - accuracy: 0.8645 - precision: 0.5178 - recall: 0.6183 - auc: 0.8427 - val_loss: 0.4625 - val_tp: 427.0000 - val_fp: 345.0000 - val_tn: 3739.0000 - val_fn: 275.0000 - val_accuracy: 0.8705 - val_precision: 0.5531 - val_recall: 0.6083 - val_auc: 0.8559\n",
      "Epoch 25/100\n",
      "38/38 [==============================] - 0s 5ms/step - loss: 4.0787e-05 - tp: 1664.0000 - fp: 1475.0000 - tn: 14956.0000 - fn: 1045.0000 - accuracy: 0.8683 - precision: 0.5301 - recall: 0.6142 - auc: 0.8389 - val_loss: 0.4554 - val_tp: 428.0000 - val_fp: 323.0000 - val_tn: 3761.0000 - val_fn: 274.0000 - val_accuracy: 0.8753 - val_precision: 0.5699 - val_recall: 0.6097 - val_auc: 0.8590\n",
      "Epoch 26/100\n",
      "38/38 [==============================] - 0s 4ms/step - loss: 4.0473e-05 - tp: 1665.0000 - fp: 1413.0000 - tn: 15018.0000 - fn: 1044.0000 - accuracy: 0.8716 - precision: 0.5409 - recall: 0.6146 - auc: 0.8435 - val_loss: 0.4521 - val_tp: 428.0000 - val_fp: 320.0000 - val_tn: 3764.0000 - val_fn: 274.0000 - val_accuracy: 0.8759 - val_precision: 0.5722 - val_recall: 0.6097 - val_auc: 0.8602\n",
      "Epoch 27/100\n",
      "38/38 [==============================] - 0s 5ms/step - loss: 4.0362e-05 - tp: 1667.0000 - fp: 1378.0000 - tn: 15053.0000 - fn: 1042.0000 - accuracy: 0.8736 - precision: 0.5475 - recall: 0.6154 - auc: 0.8454 - val_loss: 0.4486 - val_tp: 428.0000 - val_fp: 310.0000 - val_tn: 3774.0000 - val_fn: 274.0000 - val_accuracy: 0.8780 - val_precision: 0.5799 - val_recall: 0.6097 - val_auc: 0.8619\n",
      "Epoch 28/100\n",
      "38/38 [==============================] - 0s 5ms/step - loss: 3.9907e-05 - tp: 1689.0000 - fp: 1356.0000 - tn: 15075.0000 - fn: 1020.0000 - accuracy: 0.8759 - precision: 0.5547 - recall: 0.6235 - auc: 0.8490 - val_loss: 0.4531 - val_tp: 432.0000 - val_fp: 322.0000 - val_tn: 3762.0000 - val_fn: 270.0000 - val_accuracy: 0.8763 - val_precision: 0.5729 - val_recall: 0.6154 - val_auc: 0.8633\n",
      "Epoch 29/100\n",
      "38/38 [==============================] - 0s 5ms/step - loss: 3.9849e-05 - tp: 1709.0000 - fp: 1369.0000 - tn: 15062.0000 - fn: 1000.0000 - accuracy: 0.8762 - precision: 0.5552 - recall: 0.6309 - auc: 0.8514 - val_loss: 0.4472 - val_tp: 429.0000 - val_fp: 313.0000 - val_tn: 3771.0000 - val_fn: 273.0000 - val_accuracy: 0.8776 - val_precision: 0.5782 - val_recall: 0.6111 - val_auc: 0.8642\n",
      "Epoch 30/100\n",
      "38/38 [==============================] - 0s 5ms/step - loss: 3.9499e-05 - tp: 1716.0000 - fp: 1341.0000 - tn: 15090.0000 - fn: 993.0000 - accuracy: 0.8781 - precision: 0.5613 - recall: 0.6334 - auc: 0.8512 - val_loss: 0.4436 - val_tp: 433.0000 - val_fp: 309.0000 - val_tn: 3775.0000 - val_fn: 269.0000 - val_accuracy: 0.8792 - val_precision: 0.5836 - val_recall: 0.6168 - val_auc: 0.8641\n",
      "Epoch 31/100\n",
      "38/38 [==============================] - 0s 4ms/step - loss: 3.9248e-05 - tp: 1736.0000 - fp: 1453.0000 - tn: 14978.0000 - fn: 973.0000 - accuracy: 0.8732 - precision: 0.5444 - recall: 0.6408 - auc: 0.8527 - val_loss: 0.4372 - val_tp: 430.0000 - val_fp: 292.0000 - val_tn: 3792.0000 - val_fn: 272.0000 - val_accuracy: 0.8822 - val_precision: 0.5956 - val_recall: 0.6125 - val_auc: 0.8663\n",
      "Epoch 32/100\n",
      "38/38 [==============================] - 0s 5ms/step - loss: 3.9333e-05 - tp: 1682.0000 - fp: 1286.0000 - tn: 15145.0000 - fn: 1027.0000 - accuracy: 0.8792 - precision: 0.5667 - recall: 0.6209 - auc: 0.8518 - val_loss: 0.4399 - val_tp: 437.0000 - val_fp: 298.0000 - val_tn: 3786.0000 - val_fn: 265.0000 - val_accuracy: 0.8824 - val_precision: 0.5946 - val_recall: 0.6225 - val_auc: 0.8683\n",
      "Epoch 33/100\n",
      "38/38 [==============================] - 0s 5ms/step - loss: 3.8859e-05 - tp: 1743.0000 - fp: 1298.0000 - tn: 15133.0000 - fn: 966.0000 - accuracy: 0.8817 - precision: 0.5732 - recall: 0.6434 - auc: 0.8561 - val_loss: 0.4371 - val_tp: 437.0000 - val_fp: 291.0000 - val_tn: 3793.0000 - val_fn: 265.0000 - val_accuracy: 0.8838 - val_precision: 0.6003 - val_recall: 0.6225 - val_auc: 0.8692\n",
      "Epoch 34/100\n",
      "38/38 [==============================] - 0s 4ms/step - loss: 3.8641e-05 - tp: 1737.0000 - fp: 1279.0000 - tn: 15152.0000 - fn: 972.0000 - accuracy: 0.8824 - precision: 0.5759 - recall: 0.6412 - auc: 0.8606 - val_loss: 0.4292 - val_tp: 435.0000 - val_fp: 276.0000 - val_tn: 3808.0000 - val_fn: 267.0000 - val_accuracy: 0.8865 - val_precision: 0.6118 - val_recall: 0.6197 - val_auc: 0.8716\n",
      "Epoch 35/100\n",
      "38/38 [==============================] - 0s 4ms/step - loss: 3.8370e-05 - tp: 1748.0000 - fp: 1255.0000 - tn: 15176.0000 - fn: 961.0000 - accuracy: 0.8842 - precision: 0.5821 - recall: 0.6453 - auc: 0.8623 - val_loss: 0.4311 - val_tp: 440.0000 - val_fp: 283.0000 - val_tn: 3801.0000 - val_fn: 262.0000 - val_accuracy: 0.8861 - val_precision: 0.6086 - val_recall: 0.6268 - val_auc: 0.8722\n",
      "Epoch 36/100\n",
      "38/38 [==============================] - 0s 4ms/step - loss: 3.8262e-05 - tp: 1726.0000 - fp: 1200.0000 - tn: 15231.0000 - fn: 983.0000 - accuracy: 0.8859 - precision: 0.5899 - recall: 0.6371 - auc: 0.8621 - val_loss: 0.4282 - val_tp: 441.0000 - val_fp: 280.0000 - val_tn: 3804.0000 - val_fn: 261.0000 - val_accuracy: 0.8870 - val_precision: 0.6117 - val_recall: 0.6282 - val_auc: 0.8739\n",
      "Epoch 37/100\n",
      "38/38 [==============================] - 0s 4ms/step - loss: 3.8069e-05 - tp: 1750.0000 - fp: 1232.0000 - tn: 15199.0000 - fn: 959.0000 - accuracy: 0.8855 - precision: 0.5869 - recall: 0.6460 - auc: 0.8615 - val_loss: 0.4303 - val_tp: 450.0000 - val_fp: 285.0000 - val_tn: 3799.0000 - val_fn: 252.0000 - val_accuracy: 0.8878 - val_precision: 0.6122 - val_recall: 0.6410 - val_auc: 0.8743\n",
      "Epoch 38/100\n",
      "38/38 [==============================] - 0s 4ms/step - loss: 3.7794e-05 - tp: 1753.0000 - fp: 1182.0000 - tn: 15249.0000 - fn: 956.0000 - accuracy: 0.8883 - precision: 0.5973 - recall: 0.6471 - auc: 0.8632 - val_loss: 0.4268 - val_tp: 447.0000 - val_fp: 273.0000 - val_tn: 3811.0000 - val_fn: 255.0000 - val_accuracy: 0.8897 - val_precision: 0.6208 - val_recall: 0.6368 - val_auc: 0.8766\n",
      "Epoch 39/100\n",
      "38/38 [==============================] - 0s 4ms/step - loss: 3.7583e-05 - tp: 1768.0000 - fp: 1194.0000 - tn: 15237.0000 - fn: 941.0000 - accuracy: 0.8885 - precision: 0.5969 - recall: 0.6526 - auc: 0.8695 - val_loss: 0.4230 - val_tp: 448.0000 - val_fp: 275.0000 - val_tn: 3809.0000 - val_fn: 254.0000 - val_accuracy: 0.8895 - val_precision: 0.6196 - val_recall: 0.6382 - val_auc: 0.8766\n",
      "Epoch 40/100\n",
      "38/38 [==============================] - 0s 4ms/step - loss: 3.7405e-05 - tp: 1756.0000 - fp: 1173.0000 - tn: 15258.0000 - fn: 953.0000 - accuracy: 0.8889 - precision: 0.5995 - recall: 0.6482 - auc: 0.8705 - val_loss: 0.4258 - val_tp: 452.0000 - val_fp: 280.0000 - val_tn: 3804.0000 - val_fn: 250.0000 - val_accuracy: 0.8893 - val_precision: 0.6175 - val_recall: 0.6439 - val_auc: 0.8779\n",
      "Epoch 41/100\n",
      "38/38 [==============================] - 0s 4ms/step - loss: 3.7397e-05 - tp: 1783.0000 - fp: 1163.0000 - tn: 15268.0000 - fn: 926.0000 - accuracy: 0.8909 - precision: 0.6052 - recall: 0.6582 - auc: 0.8679 - val_loss: 0.4205 - val_tp: 452.0000 - val_fp: 266.0000 - val_tn: 3818.0000 - val_fn: 250.0000 - val_accuracy: 0.8922 - val_precision: 0.6295 - val_recall: 0.6439 - val_auc: 0.8803\n",
      "Epoch 42/100\n",
      "38/38 [==============================] - 0s 4ms/step - loss: 3.7067e-05 - tp: 1764.0000 - fp: 1162.0000 - tn: 15269.0000 - fn: 945.0000 - accuracy: 0.8899 - precision: 0.6029 - recall: 0.6512 - auc: 0.8704 - val_loss: 0.4153 - val_tp: 450.0000 - val_fp: 254.0000 - val_tn: 3830.0000 - val_fn: 252.0000 - val_accuracy: 0.8943 - val_precision: 0.6392 - val_recall: 0.6410 - val_auc: 0.8813\n",
      "Epoch 43/100\n",
      "38/38 [==============================] - 0s 4ms/step - loss: 3.6894e-05 - tp: 1807.0000 - fp: 1142.0000 - tn: 15289.0000 - fn: 902.0000 - accuracy: 0.8932 - precision: 0.6128 - recall: 0.6670 - auc: 0.8717 - val_loss: 0.4112 - val_tp: 449.0000 - val_fp: 249.0000 - val_tn: 3835.0000 - val_fn: 253.0000 - val_accuracy: 0.8951 - val_precision: 0.6433 - val_recall: 0.6396 - val_auc: 0.8823\n",
      "Epoch 44/100\n",
      "38/38 [==============================] - 0s 6ms/step - loss: 3.6993e-05 - tp: 1768.0000 - fp: 1074.0000 - tn: 15357.0000 - fn: 941.0000 - accuracy: 0.8947 - precision: 0.6221 - recall: 0.6526 - auc: 0.8714 - val_loss: 0.4132 - val_tp: 452.0000 - val_fp: 256.0000 - val_tn: 3828.0000 - val_fn: 250.0000 - val_accuracy: 0.8943 - val_precision: 0.6384 - val_recall: 0.6439 - val_auc: 0.8833\n",
      "Epoch 45/100\n",
      "38/38 [==============================] - 0s 6ms/step - loss: 3.6834e-05 - tp: 1770.0000 - fp: 1133.0000 - tn: 15298.0000 - fn: 939.0000 - accuracy: 0.8917 - precision: 0.6097 - recall: 0.6534 - auc: 0.8735 - val_loss: 0.4087 - val_tp: 451.0000 - val_fp: 247.0000 - val_tn: 3837.0000 - val_fn: 251.0000 - val_accuracy: 0.8959 - val_precision: 0.6461 - val_recall: 0.6425 - val_auc: 0.8854\n",
      "Epoch 46/100\n",
      "38/38 [==============================] - 0s 5ms/step - loss: 3.6507e-05 - tp: 1779.0000 - fp: 1021.0000 - tn: 15410.0000 - fn: 930.0000 - accuracy: 0.8981 - precision: 0.6354 - recall: 0.6567 - auc: 0.8776 - val_loss: 0.4138 - val_tp: 455.0000 - val_fp: 265.0000 - val_tn: 3819.0000 - val_fn: 247.0000 - val_accuracy: 0.8930 - val_precision: 0.6319 - val_recall: 0.6481 - val_auc: 0.8840\n",
      "Epoch 47/100\n",
      "38/38 [==============================] - 0s 5ms/step - loss: 3.6697e-05 - tp: 1768.0000 - fp: 1060.0000 - tn: 15371.0000 - fn: 941.0000 - accuracy: 0.8955 - precision: 0.6252 - recall: 0.6526 - auc: 0.8710 - val_loss: 0.4045 - val_tp: 452.0000 - val_fp: 236.0000 - val_tn: 3848.0000 - val_fn: 250.0000 - val_accuracy: 0.8985 - val_precision: 0.6570 - val_recall: 0.6439 - val_auc: 0.8869\n",
      "Epoch 48/100\n",
      "38/38 [==============================] - 0s 5ms/step - loss: 3.6313e-05 - tp: 1801.0000 - fp: 1047.0000 - tn: 15384.0000 - fn: 908.0000 - accuracy: 0.8979 - precision: 0.6324 - recall: 0.6648 - auc: 0.8784 - val_loss: 0.4023 - val_tp: 451.0000 - val_fp: 238.0000 - val_tn: 3846.0000 - val_fn: 251.0000 - val_accuracy: 0.8978 - val_precision: 0.6546 - val_recall: 0.6425 - val_auc: 0.8869\n",
      "Epoch 49/100\n",
      "38/38 [==============================] - 0s 5ms/step - loss: 3.6183e-05 - tp: 1811.0000 - fp: 997.0000 - tn: 15434.0000 - fn: 898.0000 - accuracy: 0.9010 - precision: 0.6449 - recall: 0.6685 - auc: 0.8758 - val_loss: 0.4087 - val_tp: 458.0000 - val_fp: 259.0000 - val_tn: 3825.0000 - val_fn: 244.0000 - val_accuracy: 0.8949 - val_precision: 0.6388 - val_recall: 0.6524 - val_auc: 0.8875\n",
      "Epoch 50/100\n",
      "38/38 [==============================] - 0s 5ms/step - loss: 3.5881e-05 - tp: 1807.0000 - fp: 1029.0000 - tn: 15402.0000 - fn: 902.0000 - accuracy: 0.8991 - precision: 0.6372 - recall: 0.6670 - auc: 0.8806 - val_loss: 0.4025 - val_tp: 458.0000 - val_fp: 242.0000 - val_tn: 3842.0000 - val_fn: 244.0000 - val_accuracy: 0.8985 - val_precision: 0.6543 - val_recall: 0.6524 - val_auc: 0.8907\n",
      "Epoch 51/100\n",
      "38/38 [==============================] - 0s 5ms/step - loss: 3.5776e-05 - tp: 1824.0000 - fp: 1021.0000 - tn: 15410.0000 - fn: 885.0000 - accuracy: 0.9004 - precision: 0.6411 - recall: 0.6733 - auc: 0.8793 - val_loss: 0.3971 - val_tp: 457.0000 - val_fp: 229.0000 - val_tn: 3855.0000 - val_fn: 245.0000 - val_accuracy: 0.9010 - val_precision: 0.6662 - val_recall: 0.6510 - val_auc: 0.8921\n",
      "Epoch 52/100\n",
      "38/38 [==============================] - 0s 5ms/step - loss: 3.5911e-05 - tp: 1803.0000 - fp: 969.0000 - tn: 15462.0000 - fn: 906.0000 - accuracy: 0.9020 - precision: 0.6504 - recall: 0.6656 - auc: 0.8781 - val_loss: 0.4043 - val_tp: 461.0000 - val_fp: 240.0000 - val_tn: 3844.0000 - val_fn: 241.0000 - val_accuracy: 0.8995 - val_precision: 0.6576 - val_recall: 0.6567 - val_auc: 0.8944\n",
      "Epoch 53/100\n",
      "38/38 [==============================] - 0s 5ms/step - loss: 3.5606e-05 - tp: 1812.0000 - fp: 985.0000 - tn: 15446.0000 - fn: 897.0000 - accuracy: 0.9017 - precision: 0.6478 - recall: 0.6689 - auc: 0.8838 - val_loss: 0.3987 - val_tp: 458.0000 - val_fp: 239.0000 - val_tn: 3845.0000 - val_fn: 244.0000 - val_accuracy: 0.8991 - val_precision: 0.6571 - val_recall: 0.6524 - val_auc: 0.8950\n",
      "Epoch 54/100\n",
      "38/38 [==============================] - 0s 4ms/step - loss: 3.5334e-05 - tp: 1841.0000 - fp: 946.0000 - tn: 15485.0000 - fn: 868.0000 - accuracy: 0.9052 - precision: 0.6606 - recall: 0.6796 - auc: 0.8837 - val_loss: 0.3915 - val_tp: 457.0000 - val_fp: 228.0000 - val_tn: 3856.0000 - val_fn: 245.0000 - val_accuracy: 0.9012 - val_precision: 0.6672 - val_recall: 0.6510 - val_auc: 0.8956\n",
      "Epoch 55/100\n",
      "38/38 [==============================] - 0s 4ms/step - loss: 3.5469e-05 - tp: 1798.0000 - fp: 956.0000 - tn: 15475.0000 - fn: 911.0000 - accuracy: 0.9025 - precision: 0.6529 - recall: 0.6637 - auc: 0.8845 - val_loss: 0.3971 - val_tp: 465.0000 - val_fp: 237.0000 - val_tn: 3847.0000 - val_fn: 237.0000 - val_accuracy: 0.9010 - val_precision: 0.6624 - val_recall: 0.6624 - val_auc: 0.8963\n",
      "Epoch 56/100\n",
      "38/38 [==============================] - 0s 5ms/step - loss: 3.5275e-05 - tp: 1819.0000 - fp: 946.0000 - tn: 15485.0000 - fn: 890.0000 - accuracy: 0.9041 - precision: 0.6579 - recall: 0.6715 - auc: 0.8841 - val_loss: 0.3903 - val_tp: 459.0000 - val_fp: 225.0000 - val_tn: 3859.0000 - val_fn: 243.0000 - val_accuracy: 0.9022 - val_precision: 0.6711 - val_recall: 0.6538 - val_auc: 0.8985\n",
      "Epoch 57/100\n",
      "38/38 [==============================] - 0s 5ms/step - loss: 3.5045e-05 - tp: 1825.0000 - fp: 874.0000 - tn: 15557.0000 - fn: 884.0000 - accuracy: 0.9082 - precision: 0.6762 - recall: 0.6737 - auc: 0.8870 - val_loss: 0.3898 - val_tp: 461.0000 - val_fp: 227.0000 - val_tn: 3857.0000 - val_fn: 241.0000 - val_accuracy: 0.9022 - val_precision: 0.6701 - val_recall: 0.6567 - val_auc: 0.9005\n",
      "Epoch 58/100\n",
      "38/38 [==============================] - 0s 4ms/step - loss: 3.5201e-05 - tp: 1815.0000 - fp: 947.0000 - tn: 15484.0000 - fn: 894.0000 - accuracy: 0.9038 - precision: 0.6571 - recall: 0.6700 - auc: 0.8861 - val_loss: 0.3871 - val_tp: 461.0000 - val_fp: 227.0000 - val_tn: 3857.0000 - val_fn: 241.0000 - val_accuracy: 0.9022 - val_precision: 0.6701 - val_recall: 0.6567 - val_auc: 0.9004\n",
      "Epoch 59/100\n",
      "38/38 [==============================] - 0s 5ms/step - loss: 3.4869e-05 - tp: 1832.0000 - fp: 900.0000 - tn: 15531.0000 - fn: 877.0000 - accuracy: 0.9072 - precision: 0.6706 - recall: 0.6763 - auc: 0.8893 - val_loss: 0.3826 - val_tp: 460.0000 - val_fp: 212.0000 - val_tn: 3872.0000 - val_fn: 242.0000 - val_accuracy: 0.9051 - val_precision: 0.6845 - val_recall: 0.6553 - val_auc: 0.9022\n",
      "Epoch 60/100\n",
      "38/38 [==============================] - 0s 5ms/step - loss: 3.4737e-05 - tp: 1819.0000 - fp: 880.0000 - tn: 15551.0000 - fn: 890.0000 - accuracy: 0.9075 - precision: 0.6740 - recall: 0.6715 - auc: 0.8887 - val_loss: 0.3877 - val_tp: 468.0000 - val_fp: 229.0000 - val_tn: 3855.0000 - val_fn: 234.0000 - val_accuracy: 0.9033 - val_precision: 0.6714 - val_recall: 0.6667 - val_auc: 0.9032\n",
      "Epoch 61/100\n",
      "38/38 [==============================] - 0s 6ms/step - loss: 3.4476e-05 - tp: 1849.0000 - fp: 861.0000 - tn: 15570.0000 - fn: 860.0000 - accuracy: 0.9101 - precision: 0.6823 - recall: 0.6825 - auc: 0.8926 - val_loss: 0.3844 - val_tp: 468.0000 - val_fp: 228.0000 - val_tn: 3856.0000 - val_fn: 234.0000 - val_accuracy: 0.9035 - val_precision: 0.6724 - val_recall: 0.6667 - val_auc: 0.9049\n",
      "Epoch 62/100\n",
      "38/38 [==============================] - 0s 5ms/step - loss: 3.4384e-05 - tp: 1853.0000 - fp: 867.0000 - tn: 15564.0000 - fn: 856.0000 - accuracy: 0.9100 - precision: 0.6812 - recall: 0.6840 - auc: 0.8929 - val_loss: 0.3764 - val_tp: 464.0000 - val_fp: 198.0000 - val_tn: 3886.0000 - val_fn: 238.0000 - val_accuracy: 0.9089 - val_precision: 0.7009 - val_recall: 0.6610 - val_auc: 0.9074\n",
      "Epoch 63/100\n",
      "38/38 [==============================] - 0s 5ms/step - loss: 3.4158e-05 - tp: 1828.0000 - fp: 815.0000 - tn: 15616.0000 - fn: 881.0000 - accuracy: 0.9114 - precision: 0.6916 - recall: 0.6748 - auc: 0.8938 - val_loss: 0.3803 - val_tp: 470.0000 - val_fp: 217.0000 - val_tn: 3867.0000 - val_fn: 232.0000 - val_accuracy: 0.9062 - val_precision: 0.6841 - val_recall: 0.6695 - val_auc: 0.9074\n",
      "Epoch 64/100\n",
      "38/38 [==============================] - 0s 5ms/step - loss: 3.4056e-05 - tp: 1865.0000 - fp: 842.0000 - tn: 15589.0000 - fn: 844.0000 - accuracy: 0.9119 - precision: 0.6890 - recall: 0.6884 - auc: 0.8943 - val_loss: 0.3726 - val_tp: 470.0000 - val_fp: 197.0000 - val_tn: 3887.0000 - val_fn: 232.0000 - val_accuracy: 0.9104 - val_precision: 0.7046 - val_recall: 0.6695 - val_auc: 0.9085\n",
      "Epoch 65/100\n",
      "38/38 [==============================] - 0s 5ms/step - loss: 3.4260e-05 - tp: 1848.0000 - fp: 808.0000 - tn: 15623.0000 - fn: 861.0000 - accuracy: 0.9128 - precision: 0.6958 - recall: 0.6822 - auc: 0.8925 - val_loss: 0.3709 - val_tp: 470.0000 - val_fp: 197.0000 - val_tn: 3887.0000 - val_fn: 232.0000 - val_accuracy: 0.9104 - val_precision: 0.7046 - val_recall: 0.6695 - val_auc: 0.9108\n",
      "Epoch 66/100\n",
      "38/38 [==============================] - 0s 4ms/step - loss: 3.3779e-05 - tp: 1845.0000 - fp: 786.0000 - tn: 15645.0000 - fn: 864.0000 - accuracy: 0.9138 - precision: 0.7013 - recall: 0.6811 - auc: 0.8988 - val_loss: 0.3705 - val_tp: 473.0000 - val_fp: 215.0000 - val_tn: 3869.0000 - val_fn: 229.0000 - val_accuracy: 0.9072 - val_precision: 0.6875 - val_recall: 0.6738 - val_auc: 0.9089\n",
      "Epoch 67/100\n",
      "38/38 [==============================] - 0s 5ms/step - loss: 3.3995e-05 - tp: 1862.0000 - fp: 831.0000 - tn: 15600.0000 - fn: 847.0000 - accuracy: 0.9123 - precision: 0.6914 - recall: 0.6873 - auc: 0.8936 - val_loss: 0.3675 - val_tp: 472.0000 - val_fp: 196.0000 - val_tn: 3888.0000 - val_fn: 230.0000 - val_accuracy: 0.9110 - val_precision: 0.7066 - val_recall: 0.6724 - val_auc: 0.9114\n",
      "Epoch 68/100\n",
      "38/38 [==============================] - 0s 6ms/step - loss: 3.3672e-05 - tp: 1861.0000 - fp: 786.0000 - tn: 15645.0000 - fn: 848.0000 - accuracy: 0.9146 - precision: 0.7031 - recall: 0.6870 - auc: 0.8994 - val_loss: 0.3785 - val_tp: 483.0000 - val_fp: 215.0000 - val_tn: 3869.0000 - val_fn: 219.0000 - val_accuracy: 0.9093 - val_precision: 0.6920 - val_recall: 0.6880 - val_auc: 0.9132\n",
      "Epoch 69/100\n",
      "38/38 [==============================] - 0s 5ms/step - loss: 3.3450e-05 - tp: 1880.0000 - fp: 792.0000 - tn: 15639.0000 - fn: 829.0000 - accuracy: 0.9153 - precision: 0.7036 - recall: 0.6940 - auc: 0.9002 - val_loss: 0.3604 - val_tp: 470.0000 - val_fp: 182.0000 - val_tn: 3902.0000 - val_fn: 232.0000 - val_accuracy: 0.9135 - val_precision: 0.7209 - val_recall: 0.6695 - val_auc: 0.9144\n",
      "Epoch 70/100\n",
      "38/38 [==============================] - 0s 5ms/step - loss: 3.3398e-05 - tp: 1866.0000 - fp: 782.0000 - tn: 15649.0000 - fn: 843.0000 - accuracy: 0.9151 - precision: 0.7047 - recall: 0.6888 - auc: 0.8995 - val_loss: 0.3691 - val_tp: 481.0000 - val_fp: 207.0000 - val_tn: 3877.0000 - val_fn: 221.0000 - val_accuracy: 0.9106 - val_precision: 0.6991 - val_recall: 0.6852 - val_auc: 0.9136\n",
      "Epoch 71/100\n",
      "38/38 [==============================] - 0s 4ms/step - loss: 3.3315e-05 - tp: 1899.0000 - fp: 816.0000 - tn: 15615.0000 - fn: 810.0000 - accuracy: 0.9150 - precision: 0.6994 - recall: 0.7010 - auc: 0.8994 - val_loss: 0.3584 - val_tp: 476.0000 - val_fp: 184.0000 - val_tn: 3900.0000 - val_fn: 226.0000 - val_accuracy: 0.9143 - val_precision: 0.7212 - val_recall: 0.6781 - val_auc: 0.9142\n",
      "Epoch 72/100\n",
      "38/38 [==============================] - 0s 5ms/step - loss: 3.3064e-05 - tp: 1871.0000 - fp: 765.0000 - tn: 15666.0000 - fn: 838.0000 - accuracy: 0.9162 - precision: 0.7098 - recall: 0.6907 - auc: 0.9034 - val_loss: 0.3659 - val_tp: 486.0000 - val_fp: 198.0000 - val_tn: 3886.0000 - val_fn: 216.0000 - val_accuracy: 0.9135 - val_precision: 0.7105 - val_recall: 0.6923 - val_auc: 0.9174\n",
      "Epoch 73/100\n",
      "38/38 [==============================] - 0s 4ms/step - loss: 3.2681e-05 - tp: 1912.0000 - fp: 806.0000 - tn: 15625.0000 - fn: 797.0000 - accuracy: 0.9162 - precision: 0.7035 - recall: 0.7058 - auc: 0.9055 - val_loss: 0.3584 - val_tp: 481.0000 - val_fp: 182.0000 - val_tn: 3902.0000 - val_fn: 221.0000 - val_accuracy: 0.9158 - val_precision: 0.7255 - val_recall: 0.6852 - val_auc: 0.9187\n",
      "Epoch 74/100\n",
      "38/38 [==============================] - 0s 5ms/step - loss: 3.2807e-05 - tp: 1894.0000 - fp: 762.0000 - tn: 15669.0000 - fn: 815.0000 - accuracy: 0.9176 - precision: 0.7131 - recall: 0.6992 - auc: 0.9043 - val_loss: 0.3581 - val_tp: 487.0000 - val_fp: 186.0000 - val_tn: 3898.0000 - val_fn: 215.0000 - val_accuracy: 0.9162 - val_precision: 0.7236 - val_recall: 0.6937 - val_auc: 0.9199\n",
      "Epoch 75/100\n",
      "38/38 [==============================] - 0s 4ms/step - loss: 3.2489e-05 - tp: 1908.0000 - fp: 775.0000 - tn: 15656.0000 - fn: 801.0000 - accuracy: 0.9177 - precision: 0.7111 - recall: 0.7043 - auc: 0.9073 - val_loss: 0.3586 - val_tp: 492.0000 - val_fp: 193.0000 - val_tn: 3891.0000 - val_fn: 210.0000 - val_accuracy: 0.9158 - val_precision: 0.7182 - val_recall: 0.7009 - val_auc: 0.9207\n",
      "Epoch 76/100\n",
      "38/38 [==============================] - 0s 4ms/step - loss: 3.2184e-05 - tp: 1907.0000 - fp: 735.0000 - tn: 15696.0000 - fn: 802.0000 - accuracy: 0.9197 - precision: 0.7218 - recall: 0.7039 - auc: 0.9086 - val_loss: 0.3512 - val_tp: 489.0000 - val_fp: 171.0000 - val_tn: 3913.0000 - val_fn: 213.0000 - val_accuracy: 0.9198 - val_precision: 0.7409 - val_recall: 0.6966 - val_auc: 0.9227\n",
      "Epoch 77/100\n",
      "38/38 [==============================] - 0s 4ms/step - loss: 3.2166e-05 - tp: 1902.0000 - fp: 711.0000 - tn: 15720.0000 - fn: 807.0000 - accuracy: 0.9207 - precision: 0.7279 - recall: 0.7021 - auc: 0.9075 - val_loss: 0.3515 - val_tp: 491.0000 - val_fp: 173.0000 - val_tn: 3911.0000 - val_fn: 211.0000 - val_accuracy: 0.9198 - val_precision: 0.7395 - val_recall: 0.6994 - val_auc: 0.9244\n",
      "Epoch 78/100\n",
      "38/38 [==============================] - 0s 5ms/step - loss: 3.2201e-05 - tp: 1914.0000 - fp: 718.0000 - tn: 15713.0000 - fn: 795.0000 - accuracy: 0.9210 - precision: 0.7272 - recall: 0.7065 - auc: 0.9097 - val_loss: 0.3596 - val_tp: 503.0000 - val_fp: 186.0000 - val_tn: 3898.0000 - val_fn: 199.0000 - val_accuracy: 0.9196 - val_precision: 0.7300 - val_recall: 0.7165 - val_auc: 0.9247\n",
      "Epoch 79/100\n",
      "38/38 [==============================] - 0s 4ms/step - loss: 3.2085e-05 - tp: 1921.0000 - fp: 745.0000 - tn: 15686.0000 - fn: 788.0000 - accuracy: 0.9199 - precision: 0.7206 - recall: 0.7091 - auc: 0.9122 - val_loss: 0.3463 - val_tp: 492.0000 - val_fp: 161.0000 - val_tn: 3923.0000 - val_fn: 210.0000 - val_accuracy: 0.9225 - val_precision: 0.7534 - val_recall: 0.7009 - val_auc: 0.9263\n",
      "Epoch 80/100\n",
      "38/38 [==============================] - 0s 6ms/step - loss: 3.2029e-05 - tp: 1894.0000 - fp: 702.0000 - tn: 15729.0000 - fn: 815.0000 - accuracy: 0.9207 - precision: 0.7296 - recall: 0.6992 - auc: 0.9121 - val_loss: 0.3568 - val_tp: 505.0000 - val_fp: 195.0000 - val_tn: 3889.0000 - val_fn: 197.0000 - val_accuracy: 0.9181 - val_precision: 0.7214 - val_recall: 0.7194 - val_auc: 0.9249\n",
      "Epoch 81/100\n",
      "38/38 [==============================] - 0s 6ms/step - loss: 3.1463e-05 - tp: 1938.0000 - fp: 716.0000 - tn: 15715.0000 - fn: 771.0000 - accuracy: 0.9223 - precision: 0.7302 - recall: 0.7154 - auc: 0.9136 - val_loss: 0.3492 - val_tp: 497.0000 - val_fp: 171.0000 - val_tn: 3913.0000 - val_fn: 205.0000 - val_accuracy: 0.9214 - val_precision: 0.7440 - val_recall: 0.7080 - val_auc: 0.9269\n",
      "Epoch 82/100\n",
      "38/38 [==============================] - 0s 4ms/step - loss: 3.1606e-05 - tp: 1930.0000 - fp: 719.0000 - tn: 15712.0000 - fn: 779.0000 - accuracy: 0.9217 - precision: 0.7286 - recall: 0.7124 - auc: 0.9111 - val_loss: 0.3437 - val_tp: 496.0000 - val_fp: 158.0000 - val_tn: 3926.0000 - val_fn: 206.0000 - val_accuracy: 0.9239 - val_precision: 0.7584 - val_recall: 0.7066 - val_auc: 0.9298\n",
      "Epoch 83/100\n",
      "38/38 [==============================] - 0s 5ms/step - loss: 3.1432e-05 - tp: 1945.0000 - fp: 715.0000 - tn: 15716.0000 - fn: 764.0000 - accuracy: 0.9227 - precision: 0.7312 - recall: 0.7180 - auc: 0.9123 - val_loss: 0.3443 - val_tp: 497.0000 - val_fp: 155.0000 - val_tn: 3929.0000 - val_fn: 205.0000 - val_accuracy: 0.9248 - val_precision: 0.7623 - val_recall: 0.7080 - val_auc: 0.9301\n",
      "Epoch 84/100\n",
      "38/38 [==============================] - 0s 6ms/step - loss: 3.1285e-05 - tp: 1938.0000 - fp: 658.0000 - tn: 15773.0000 - fn: 771.0000 - accuracy: 0.9253 - precision: 0.7465 - recall: 0.7154 - auc: 0.9152 - val_loss: 0.3456 - val_tp: 502.0000 - val_fp: 159.0000 - val_tn: 3925.0000 - val_fn: 200.0000 - val_accuracy: 0.9250 - val_precision: 0.7595 - val_recall: 0.7151 - val_auc: 0.9318\n",
      "Epoch 85/100\n",
      "38/38 [==============================] - 0s 5ms/step - loss: 3.1188e-05 - tp: 1950.0000 - fp: 668.0000 - tn: 15763.0000 - fn: 759.0000 - accuracy: 0.9254 - precision: 0.7448 - recall: 0.7198 - auc: 0.9171 - val_loss: 0.3390 - val_tp: 497.0000 - val_fp: 155.0000 - val_tn: 3929.0000 - val_fn: 205.0000 - val_accuracy: 0.9248 - val_precision: 0.7623 - val_recall: 0.7080 - val_auc: 0.9331\n",
      "Epoch 86/100\n",
      "38/38 [==============================] - 0s 5ms/step - loss: 3.1068e-05 - tp: 1951.0000 - fp: 708.0000 - tn: 15723.0000 - fn: 758.0000 - accuracy: 0.9234 - precision: 0.7337 - recall: 0.7202 - auc: 0.9168 - val_loss: 0.3395 - val_tp: 502.0000 - val_fp: 153.0000 - val_tn: 3931.0000 - val_fn: 200.0000 - val_accuracy: 0.9262 - val_precision: 0.7664 - val_recall: 0.7151 - val_auc: 0.9329\n",
      "Epoch 87/100\n",
      "38/38 [==============================] - 0s 4ms/step - loss: 3.1292e-05 - tp: 1939.0000 - fp: 649.0000 - tn: 15782.0000 - fn: 770.0000 - accuracy: 0.9259 - precision: 0.7492 - recall: 0.7158 - auc: 0.9138 - val_loss: 0.3399 - val_tp: 503.0000 - val_fp: 156.0000 - val_tn: 3928.0000 - val_fn: 199.0000 - val_accuracy: 0.9258 - val_precision: 0.7633 - val_recall: 0.7165 - val_auc: 0.9324\n",
      "Epoch 88/100\n",
      "38/38 [==============================] - 0s 5ms/step - loss: 3.0756e-05 - tp: 1972.0000 - fp: 640.0000 - tn: 15791.0000 - fn: 737.0000 - accuracy: 0.9281 - precision: 0.7550 - recall: 0.7279 - auc: 0.9191 - val_loss: 0.3344 - val_tp: 502.0000 - val_fp: 147.0000 - val_tn: 3937.0000 - val_fn: 200.0000 - val_accuracy: 0.9275 - val_precision: 0.7735 - val_recall: 0.7151 - val_auc: 0.9327\n",
      "Epoch 89/100\n",
      "38/38 [==============================] - 0s 5ms/step - loss: 3.0775e-05 - tp: 1962.0000 - fp: 707.0000 - tn: 15724.0000 - fn: 747.0000 - accuracy: 0.9240 - precision: 0.7351 - recall: 0.7243 - auc: 0.9180 - val_loss: 0.3275 - val_tp: 497.0000 - val_fp: 137.0000 - val_tn: 3947.0000 - val_fn: 205.0000 - val_accuracy: 0.9285 - val_precision: 0.7839 - val_recall: 0.7080 - val_auc: 0.9328\n",
      "Epoch 90/100\n",
      "38/38 [==============================] - 0s 6ms/step - loss: 3.0639e-05 - tp: 1957.0000 - fp: 664.0000 - tn: 15767.0000 - fn: 752.0000 - accuracy: 0.9260 - precision: 0.7467 - recall: 0.7224 - auc: 0.9165 - val_loss: 0.3333 - val_tp: 505.0000 - val_fp: 144.0000 - val_tn: 3940.0000 - val_fn: 197.0000 - val_accuracy: 0.9288 - val_precision: 0.7781 - val_recall: 0.7194 - val_auc: 0.9340\n",
      "Epoch 91/100\n",
      "38/38 [==============================] - 0s 5ms/step - loss: 3.0444e-05 - tp: 1989.0000 - fp: 664.0000 - tn: 15767.0000 - fn: 720.0000 - accuracy: 0.9277 - precision: 0.7497 - recall: 0.7342 - auc: 0.9208 - val_loss: 0.3324 - val_tp: 506.0000 - val_fp: 146.0000 - val_tn: 3938.0000 - val_fn: 196.0000 - val_accuracy: 0.9285 - val_precision: 0.7761 - val_recall: 0.7208 - val_auc: 0.9354\n",
      "Epoch 92/100\n",
      "38/38 [==============================] - 0s 4ms/step - loss: 3.0404e-05 - tp: 1959.0000 - fp: 630.0000 - tn: 15801.0000 - fn: 750.0000 - accuracy: 0.9279 - precision: 0.7567 - recall: 0.7231 - auc: 0.9183 - val_loss: 0.3290 - val_tp: 505.0000 - val_fp: 135.0000 - val_tn: 3949.0000 - val_fn: 197.0000 - val_accuracy: 0.9306 - val_precision: 0.7891 - val_recall: 0.7194 - val_auc: 0.9377\n",
      "Epoch 93/100\n",
      "38/38 [==============================] - 0s 4ms/step - loss: 3.0586e-05 - tp: 1952.0000 - fp: 646.0000 - tn: 15785.0000 - fn: 757.0000 - accuracy: 0.9267 - precision: 0.7513 - recall: 0.7206 - auc: 0.9175 - val_loss: 0.3215 - val_tp: 502.0000 - val_fp: 118.0000 - val_tn: 3966.0000 - val_fn: 200.0000 - val_accuracy: 0.9336 - val_precision: 0.8097 - val_recall: 0.7151 - val_auc: 0.9374\n",
      "Epoch 94/100\n",
      "38/38 [==============================] - 0s 4ms/step - loss: 3.0135e-05 - tp: 1967.0000 - fp: 612.0000 - tn: 15819.0000 - fn: 742.0000 - accuracy: 0.9293 - precision: 0.7627 - recall: 0.7261 - auc: 0.9229 - val_loss: 0.3198 - val_tp: 503.0000 - val_fp: 126.0000 - val_tn: 3958.0000 - val_fn: 199.0000 - val_accuracy: 0.9321 - val_precision: 0.7997 - val_recall: 0.7165 - val_auc: 0.9378\n",
      "Epoch 95/100\n",
      "38/38 [==============================] - 0s 5ms/step - loss: 3.0438e-05 - tp: 1973.0000 - fp: 656.0000 - tn: 15775.0000 - fn: 736.0000 - accuracy: 0.9273 - precision: 0.7505 - recall: 0.7283 - auc: 0.9168 - val_loss: 0.3110 - val_tp: 496.0000 - val_fp: 101.0000 - val_tn: 3983.0000 - val_fn: 206.0000 - val_accuracy: 0.9359 - val_precision: 0.8308 - val_recall: 0.7066 - val_auc: 0.9396\n",
      "Epoch 96/100\n",
      "38/38 [==============================] - 0s 5ms/step - loss: 3.0239e-05 - tp: 1944.0000 - fp: 582.0000 - tn: 15849.0000 - fn: 765.0000 - accuracy: 0.9296 - precision: 0.7696 - recall: 0.7176 - auc: 0.9224 - val_loss: 0.3202 - val_tp: 505.0000 - val_fp: 121.0000 - val_tn: 3963.0000 - val_fn: 197.0000 - val_accuracy: 0.9336 - val_precision: 0.8067 - val_recall: 0.7194 - val_auc: 0.9402\n",
      "Epoch 97/100\n",
      "38/38 [==============================] - 0s 4ms/step - loss: 2.9854e-05 - tp: 1965.0000 - fp: 563.0000 - tn: 15868.0000 - fn: 744.0000 - accuracy: 0.9317 - precision: 0.7773 - recall: 0.7254 - auc: 0.9232 - val_loss: 0.3227 - val_tp: 508.0000 - val_fp: 123.0000 - val_tn: 3961.0000 - val_fn: 194.0000 - val_accuracy: 0.9338 - val_precision: 0.8051 - val_recall: 0.7236 - val_auc: 0.9411\n",
      "Epoch 98/100\n",
      "38/38 [==============================] - 0s 4ms/step - loss: 3.0066e-05 - tp: 1973.0000 - fp: 618.0000 - tn: 15813.0000 - fn: 736.0000 - accuracy: 0.9293 - precision: 0.7615 - recall: 0.7283 - auc: 0.9238 - val_loss: 0.3119 - val_tp: 502.0000 - val_fp: 105.0000 - val_tn: 3979.0000 - val_fn: 200.0000 - val_accuracy: 0.9363 - val_precision: 0.8270 - val_recall: 0.7151 - val_auc: 0.9415\n",
      "Epoch 99/100\n",
      "38/38 [==============================] - 0s 4ms/step - loss: 2.9793e-05 - tp: 1971.0000 - fp: 570.0000 - tn: 15861.0000 - fn: 738.0000 - accuracy: 0.9317 - precision: 0.7757 - recall: 0.7276 - auc: 0.9251 - val_loss: 0.3215 - val_tp: 514.0000 - val_fp: 126.0000 - val_tn: 3958.0000 - val_fn: 188.0000 - val_accuracy: 0.9344 - val_precision: 0.8031 - val_recall: 0.7322 - val_auc: 0.9407\n",
      "Epoch 100/100\n",
      "38/38 [==============================] - 0s 4ms/step - loss: 2.9685e-05 - tp: 1980.0000 - fp: 613.0000 - tn: 15818.0000 - fn: 729.0000 - accuracy: 0.9299 - precision: 0.7636 - recall: 0.7309 - auc: 0.9234 - val_loss: 0.3236 - val_tp: 516.0000 - val_fp: 130.0000 - val_tn: 3954.0000 - val_fn: 186.0000 - val_accuracy: 0.9340 - val_precision: 0.7988 - val_recall: 0.7350 - val_auc: 0.9419\n"
     ]
    }
   ],
   "source": [
    "results = model.fit(\n",
    "    train_set,\n",
    "    train_labels,\n",
    "    batch_size=BATCH_SIZE,\n",
    "    epochs=EPOCHS,\n",
    "    callbacks = [early_stopping],\n",
    "    validation_data=(test_set, test_labels),\n",
    "    class_weight=class_weight)"
   ]
  },
  {
   "cell_type": "code",
   "execution_count": 79,
   "id": "eb6571d5-216c-4e4a-aba2-16886bed797e",
   "metadata": {
    "tags": []
   },
   "outputs": [
    {
     "data": {
      "image/png": "[encoded data removed]",
      "text/plain": [
       "<Figure size 1200x1000 with 4 Axes>"
      ]
     },
     "metadata": {},
     "output_type": "display_data"
    }
   ],
   "source": [
    "mpl.rcParams['figure.figsize'] = (12, 10)\n",
    "colors = plt.rcParams['axes.prop_cycle'].by_key()['color']\n",
    "\n",
    "def plot_metrics(history):\n",
    "  metrics =  ['loss', 'auc', 'precision', 'recall']\n",
    "  for n, metric in enumerate(metrics):\n",
    "    name = metric.replace(\"_\",\" \").capitalize()\n",
    "    plt.subplot(2,2,n+1)\n",
    "    plt.plot(history.epoch,  history.history[metric], color=colors[0], label='Train')\n",
    "    plt.plot(history.epoch, history.history['val_'+metric],\n",
    "             color=colors[0], linestyle=\"--\", label='Val')\n",
    "    plt.xlabel('Epoch')\n",
    "    plt.ylabel(name)\n",
    "    if metric == 'loss':\n",
    "      plt.ylim([0, plt.ylim()[1]])\n",
    "    elif metric == 'auc':\n",
    "      plt.ylim([0.8,1])\n",
    "    else:\n",
    "      plt.ylim([0,1])\n",
    "\n",
    "    plt.legend()\n",
    "\n",
    "plot_metrics(results)"
   ]
  },
  {
   "cell_type": "code",
   "execution_count": 80,
   "id": "2f918599-7d0b-4f93-8506-a33b06b85433",
   "metadata": {
    "tags": []
   },
   "outputs": [
    {
     "name": "stdout",
     "output_type": "stream",
     "text": [
      "150/150 [==============================] - 0s 1ms/step\n"
     ]
    }
   ],
   "source": [
    "predicted = model.predict(test_set)\n",
    "\n",
    "y_pred = []\n",
    "\n",
    "for i in predicted.tolist():\n",
    "  y_pred.append(int(round(i[0])))"
   ]
  },
  {
   "cell_type": "code",
   "execution_count": 81,
   "id": "e4b3738a-faeb-4b25-bc83-827f11ea6fe1",
   "metadata": {
    "tags": []
   },
   "outputs": [
    {
     "name": "stdout",
     "output_type": "stream",
     "text": [
      "[[3954  130]\n",
      " [ 186  516]]\n"
     ]
    }
   ],
   "source": [
    "cm = confusion_matrix(test_labels.values, y_pred)\n",
    "print(cm)"
   ]
  },
  {
   "cell_type": "code",
   "execution_count": 82,
   "id": "6790f71e-1452-484d-a03f-33b896dec809",
   "metadata": {
    "tags": []
   },
   "outputs": [],
   "source": [
    "def plot_confusion_matrix(cm, classes,\n",
    "                          normalize=False,\n",
    "                          title='Confusion matrix',\n",
    "                          cmap=plt.cm.Blues):\n",
    "    \"\"\"\n",
    "    This function prints and plots the confusion matrix.\n",
    "    Normalization can be applied by setting `normalize=True`.\n",
    "    \"\"\"\n",
    "    plt.imshow(cm, interpolation='nearest', cmap=cmap)\n",
    "    plt.title(title)\n",
    "    plt.colorbar()\n",
    "    tick_marks = np.arange(len(classes))\n",
    "    plt.xticks(tick_marks, classes, rotation=45)\n",
    "    plt.yticks(tick_marks, classes)\n",
    "\n",
    "    if normalize:\n",
    "        cm = np.round(cm.astype('float') / cm.sum(axis=1)[:, np.newaxis], 3)\n",
    "\n",
    "    thresh = cm.max() / 2.\n",
    "    for i, j in itertools.product(range(cm.shape[0]), range(cm.shape[1])):\n",
    "        plt.text(j, i, cm[i, j],\n",
    "                 horizontalalignment=\"center\",\n",
    "                 color=\"white\" if cm[i, j] > thresh else \"black\")\n",
    "\n",
    "    plt.tight_layout()\n",
    "    plt.ylabel('True label')\n",
    "    plt.xlabel('Predicted label')"
   ]
  },
  {
   "cell_type": "code",
   "execution_count": 83,
   "id": "071e3c28-b2fb-412b-9016-1ee8d6522098",
   "metadata": {
    "tags": []
   },
   "outputs": [
    {
     "data": {
      "image/png": "[encoded data removed]",
      "text/plain": [
       "<Figure size 1200x1000 with 2 Axes>"
      ]
     },
     "metadata": {},
     "output_type": "display_data"
    }
   ],
   "source": [
    "classes = ['not fraud', 'fraud']\n",
    "plot_confusion_matrix(cm, classes, normalize=True)"
   ]
  },
  {
   "cell_type": "code",
   "execution_count": 84,
   "id": "4cf81496-7c10-4fbd-97a7-6a4d6836da86",
   "metadata": {
    "tags": []
   },
   "outputs": [
    {
     "name": "stderr",
     "output_type": "stream",
     "text": [
      "WARNING:absl:Found untraced functions such as _update_step_xla while saving (showing 1 of 1). These functions will not be directly callable after loading.\n"
     ]
    },
    {
     "name": "stdout",
     "output_type": "stream",
     "text": [
      "INFO:tensorflow:Assets written to: fraud_model/assets\n"
     ]
    },
    {
     "name": "stderr",
     "output_type": "stream",
     "text": [
      "INFO:tensorflow:Assets written to: fraud_model/assets\n"
     ]
    }
   ],
   "source": [
    "model_dir = 'fraud_model'\n",
    "tf.saved_model.save(model, model_dir)"
   ]
  },
  {
   "cell_type": "code",
   "execution_count": 85,
   "id": "f6ea3114-7a61-433f-a927-5fb8e7fe58c3",
   "metadata": {
    "tags": []
   },
   "outputs": [
    {
     "name": "stdout",
     "output_type": "stream",
     "text": [
      "{'outputs': OrderedDict([('dense_3', {'output_tensor_name': 'dense_3'})]), 'inputs': OrderedDict([('dense_2_input', {'input_tensor_name': 'dense_2_input', 'encoding': 'identity', 'modality': 'numeric'})]), 'framework': 'tensorflow2', 'tags': ['explainable_ai_sdk']}\n"
     ]
    }
   ],
   "source": [
    "model_builder = SavedModelMetadataBuilder(model_dir)\n",
    "metadata = model_builder.get_metadata()\n",
    "print(metadata)"
   ]
  },
  {
   "cell_type": "code",
   "execution_count": 86,
   "id": "dbfb7fa6-1fd6-4e30-9d75-8edc9f18339d",
   "metadata": {
    "tags": []
   },
   "outputs": [
    {
     "name": "stderr",
     "output_type": "stream",
     "text": [
      "/opt/conda/lib/python3.10/site-packages/sklearn/base.py:465: UserWarning: X does not have valid feature names, but StandardScaler was fitted with feature names\n",
      "  warnings.warn(\n"
     ]
    }
   ],
   "source": [
    "not_fraud_sample = not_fraud_sample.drop(columns=['nameOrig', 'nameDest', 'isFlaggedFraud', 'isFraud'])\n",
    "\n",
    "baseline = scaler.transform(not_fraud_sample.values)\n",
    "baseline = np.clip(baseline, -5, 5)\n",
    "baseline_values = np.median(baseline, axis=0)"
   ]
  },
  {
   "cell_type": "code",
   "execution_count": 87,
   "id": "157f9016-34c9-4dd1-9dc8-41585ef24540",
   "metadata": {
    "tags": []
   },
   "outputs": [],
   "source": [
    "input_name = list(metadata['inputs'])[0]\n",
    "model_builder.set_numeric_metadata(input_name, input_baselines=[baseline_values.tolist()], index_feature_mapping=df.columns.tolist()[:6])\n",
    "model_builder.save_metadata(model_dir)"
   ]
  },
  {
   "cell_type": "code",
   "execution_count": 99,
   "id": "d59c1969-dc76-47ad-a2d3-cb1228aa8d5e",
   "metadata": {
    "tags": []
   },
   "outputs": [
    {
     "ename": "AttributeError",
     "evalue": "module 'explainable_ai_sdk' has no attribute 'SampledShapleyConfig'",
     "output_type": "error",
     "traceback": [
      "\u001b[0;31m---------------------------------------------------------------------------\u001b[0m",
      "\u001b[0;31mAttributeError\u001b[0m                            Traceback (most recent call last)",
      "Cell \u001b[0;32mIn[99], line 3\u001b[0m\n\u001b[1;32m      1\u001b[0m local_model \u001b[38;5;241m=\u001b[39m explainable_ai_sdk\u001b[38;5;241m.\u001b[39mload_model_from_local_path(\n\u001b[1;32m      2\u001b[0m     model_dir, \n\u001b[0;32m----> 3\u001b[0m     \u001b[43mexplainable_ai_sdk\u001b[49m\u001b[38;5;241;43m.\u001b[39;49m\u001b[43mSampledShapleyConfig\u001b[49m()\n\u001b[1;32m      4\u001b[0m )\n",
      "\u001b[0;31mAttributeError\u001b[0m: module 'explainable_ai_sdk' has no attribute 'SampledShapleyConfig'"
     ]
    }
   ],
   "source": [
    "\n",
    "local_model = explainable_ai_sdk.load_model_from_local_path(\n",
    "    model_dir, \n",
    "    explainable_ai_sdk.SampledShapleyConfig()\n",
    ")"
   ]
  },
  {
   "cell_type": "code",
   "execution_count": 100,
   "id": "306bf417-1288-47ae-9639-2d21b5e6e94f",
   "metadata": {
    "tags": []
   },
   "outputs": [
    {
     "ename": "NameError",
     "evalue": "name 'local_model' is not defined",
     "output_type": "error",
     "traceback": [
      "\u001b[0;31m---------------------------------------------------------------------------\u001b[0m",
      "\u001b[0;31mNameError\u001b[0m                                 Traceback (most recent call last)",
      "Cell \u001b[0;32mIn[100], line 2\u001b[0m\n\u001b[1;32m      1\u001b[0m fraud_example \u001b[38;5;241m=\u001b[39m [\u001b[38;5;241m0.722\u001b[39m,\u001b[38;5;241m0.139\u001b[39m,\u001b[38;5;241m-\u001b[39m\u001b[38;5;241m0.114\u001b[39m,\u001b[38;5;241m-\u001b[39m\u001b[38;5;241m0.258\u001b[39m,\u001b[38;5;241m-\u001b[39m\u001b[38;5;241m0.271\u001b[39m,\u001b[38;5;241m-\u001b[39m\u001b[38;5;241m0.305\u001b[39m]\n\u001b[0;32m----> 2\u001b[0m response \u001b[38;5;241m=\u001b[39m \u001b[43mlocal_model\u001b[49m\u001b[38;5;241m.\u001b[39mexplain([{input_name: fraud_example}])\n\u001b[1;32m      3\u001b[0m response[\u001b[38;5;241m0\u001b[39m]\u001b[38;5;241m.\u001b[39mvisualize_attributions()\n",
      "\u001b[0;31mNameError\u001b[0m: name 'local_model' is not defined"
     ]
    }
   ],
   "source": [
    "fraud_example = [0.722,0.139,-0.114,-0.258,-0.271,-0.305]\n",
    "response = local_model.explain([{input_name: fraud_example}])\n",
    "response[0].visualize_attributions()"
   ]
  },
  {
   "cell_type": "code",
   "execution_count": 93,
   "id": "2ac9a308-545e-4eaa-a381-111426c905d7",
   "metadata": {
    "tags": []
   },
   "outputs": [
    {
     "ename": "AttributeError",
     "evalue": "module 'explainable_ai_sdk' has no attribute 'SampledShapleyConfig'",
     "output_type": "error",
     "traceback": [
      "\u001b[0;31m---------------------------------------------------------------------------\u001b[0m",
      "\u001b[0;31mAttributeError\u001b[0m                            Traceback (most recent call last)",
      "Cell \u001b[0;32mIn[93], line 3\u001b[0m\n\u001b[1;32m      1\u001b[0m local_model \u001b[38;5;241m=\u001b[39m explainable_ai_sdk\u001b[38;5;241m.\u001b[39mload_model_from_local_path(\n\u001b[1;32m      2\u001b[0m     model_dir, \n\u001b[0;32m----> 3\u001b[0m     \u001b[43mexplainable_ai_sdk\u001b[49m\u001b[38;5;241;43m.\u001b[39;49m\u001b[43mSampledShapleyConfig\u001b[49m(path_count\u001b[38;5;241m=\u001b[39m\u001b[38;5;241m20\u001b[39m)\n\u001b[1;32m      4\u001b[0m )\n",
      "\u001b[0;31mAttributeError\u001b[0m: module 'explainable_ai_sdk' has no attribute 'SampledShapleyConfig'"
     ]
    }
   ],
   "source": [
    "local_model = explainable_ai_sdk.load_model_from_local_path(\n",
    "    model_dir, \n",
    "    explainable_ai_sdk.SampledShapleyConfig(path_count=20)\n",
    ")"
   ]
  },
  {
   "cell_type": "code",
   "execution_count": null,
   "id": "a8a8824f-a0fc-458f-b60c-d5c7bc2038db",
   "metadata": {},
   "outputs": [],
   "source": []
  }
 ],
 "metadata": {
  "environment": {
   "kernel": "python3",
   "name": "tf2-cpu.2-11.m115",
   "type": "gcloud",
   "uri": "gcr.io/deeplearning-platform-release/tf2-cpu.2-11:m115"
  },
  "kernelspec": {
   "display_name": "Python 3 (ipykernel) (Local)",
   "language": "python",
   "name": "python3"
  },
  "language_info": {
   "codemirror_mode": {
    "name": "ipython",
    "version": 3
   },
   "file_extension": ".py",
   "mimetype": "text/x-python",
   "name": "python",
   "nbconvert_exporter": "python",
   "pygments_lexer": "ipython3",
   "version": "3.10.13"
  }
 },
 "nbformat": 4,
 "nbformat_minor": 5
}
