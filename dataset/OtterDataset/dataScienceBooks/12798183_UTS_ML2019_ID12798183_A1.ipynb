{
  "nbformat": 4,
  "nbformat_minor": 0,
  "metadata": {
    "colab": {
      "name": "A1.ipynb",
      "version": "0.3.2",
      "provenance": [],
      "include_colab_link": true
    },
    "kernelspec": {
      "name": "python3",
      "display_name": "Python 3"
    }
  },
  "cells": [
    {
      "cell_type": "markdown",
      "metadata": {
        "id": "view-in-github",
        "colab_type": "text"
      },
      "source": [
        "<a href=\"https://colab.research.google.com/github/12798183/UTS_ML2019_ID12798183/blob/master/A1.ipynb\" target=\"_parent\"><img src=\"https://colab.research.google.com/assets/colab-badge.svg\" alt=\"Open In Colab\"/></a>"
      ]
    },
    {
      "cell_type": "markdown",
      "metadata": {
        "id": "2zwPhqQUIhtB",
        "colab_type": "text"
      },
      "source": [
        "Introduction\n",
        "\n",
        "The title of this article is 'The Computational Complexity of Probabilistic Inference Using Bayesian Belief Networks'. This article was published in 1990 by Gregory F. Cooper. This paper demonstrates that probabilistic reasoning using belief networks is NP-hard, and suggests that research should be far from general, effective probabilistic inference algorithms, designing effective special cases, averaging and approximation algorithms.\n",
        "\n",
        "Content\n",
        "\n",
        "The article begins with a brief description of what is the Bayes belief network and the types of probabilistic reasoning performed using the belief network. Then the article proves that the probabilistic reasoning using the belief network is NP-hard by the definition of P and NP, and extends the result in several different ways. This result indicates that a general, effective probabilistic inference algorithm is not universally developed for belief networks, so research should be directed away from this algorithm, and designing effective special-cases, average-case and approximation algorithms. The article transforms a known NP-complete problem into a decision- making problem of probabilistic reasoning. First, the article is introduce the definition of 3SAT , then the reduction of 3SAT proves that PIBNET is also NP-hard for belief networks that are severely restricted in topology. This result is natural to develop to add additional complexity results. This proof method has several advantages, such as a simple structure and the complexity of the computational complexity of PIBNET that does not depend on the use of arbitrarily complex belief network topologies. These can limit the direct use of belief networks to derive probabilistic inferences. After know the problem is NP-hard, the authors give very low priority to the attempt to develop such an algorithm. Since different strategies are needed in the complex real world domain, not only general and precise algorithms need to be sought, but also alternative strategies are needed to deal with probabilistic reasoning. Therefore, the paper proposes an approximation algorithm and a special case algorithm. Although the approximation algorithm is not accurate, it ensures that the results are within a certain error range, and in some fields such as medicine, experiments have begun. The special case algorithm is specific to a particular type of belief network, the advantage of which is easier to handle in terms of computation. The author cites the application of two special cases of algorithms in real life and suggests that new special case algorithms can be developed and studied from the decomposability of network problems.\n",
        "\n",
        "Innovation\n",
        "\n",
        "So far, the Bayesian belief network is still the subject of much research. For the nineteenth century, the theme was still a new field that was not fully developed and was loved by many researchers. The Bayesian belief network is simple and represents the probability relationship. The research shows that probabilistic reasoning of multiple connected networks cannot develop a general and effective reasoning algorithm for belief networks. This result proposes a new way for the future research of belief network probabilistic inference algorithm design, advocates the low priority, and develops different special types of algorithms by decomposing network problems. At the same time, the paper puts forward the advantages and disadvantages of special algorithms and approximation algorithms. The comparison of the algorithms allows the reader to clearly understand the advantages and disadvantages of different algorithms, and provides a reference for the complex real world. However, due to the publication of the article(1990), the special algorithms and approximation algorithms proposed at the end of the article cannot judge whether they are replaced or updated now. And at the time, similar special algorithm techniques have been used to solve some types of fault tree problems and network reliability problems. Approximation algorithms have also solved important empirical problems in some areas. The authors only summed up the advantages of the two algorithms. However, there' no new algorithms have been proposed, so this alternative strategy is not innovative.\n",
        "\n",
        "Technical quality\n",
        "\n",
        "The quality of the work of the thesis is very high. In order to prove that the problem is NP-hard, the article gives the detailed process of the argument and verifies the problem by way of example. The formulas and theorems used in the process are all verifiable. The article gives a simple and clear result of the argument and proves that PIBNET is NP-hard. It makes the reader can directly apply and copy the results from the article. At the same time, the additional complexity results framework developed by the argumentation results is also described in detail. The author considers that any attempt at a general, exact, efficient solution is unlikely to be successful, and proposes three alternative strategy algorithms. however, he does not compare the differences between the three algorithms and the general, effective probabilistic inference algorithm in detail. This article also needs to improve the comparison of algorithms. The authors suggest that there are many other ways to prove that PIBNET is NP-hard, and that the arguments of Rosenthal, Provan, and Ball are mentioned to make the arguments more credible.\n",
        "\n",
        "Application and X-factor\n",
        "\n",
        "I think the application fits the advanced technology because today's big data era is inseparable from the algorithmic analysis. This technology can be applied in the fields of medicine, education, economics, and so on. This technology should make full use of the network's decomposability of node clusters, develop special algorithms for different systems, and improve the accuracy of the algorithm. I think that the work in the paper can lead to a good discussion in the classroom, because from the 19th century to the present, the development of science and technology has made the technology more and more mature, and there are many new algorithm analysis, students can gather information together to discuss the The future of technology.\n",
        "\n",
        "Presentation\n",
        "\n",
        "The overall structure of this paper is clear. Firstly, a probabilistic inference algorithm based on Bayesian belief network is proposed to perform probabilistic reasoning effectively on all types of belief networks. The following briefly introduces the types of performing probabilistic reasoning using belief networks, and then demonstrates that probabilistic reasoning of belief networks is NP-hard. Finally, the importance of the argumentation result for the future belief network probabilistic inference algorithm is discussed. The formulas and theorems involved in the argument do not give a clear explanation and are not friendly to beginner readers. This problem can be avoided. For example, the default reader of the article can distinguish between NP-hard questions and NP-complete problems. The concept and distinction should be mentioned in the article. However, the article compares the advantages and disadvantages of other algorithms and the use of its algorithm in the real world, which helps the reader better understand the algorithm and improves the credibility of the article."
      ]
    },
    {
      "cell_type": "markdown",
      "metadata": {
        "id": "Q3Mi0aUMI1Tj",
        "colab_type": "text"
      },
      "source": [
        "Plan Text link:https://github.com/12798183/UTS_ML2019_ID12798183/blob/master/A1.ipynb"
      ]
    }
  ]
}