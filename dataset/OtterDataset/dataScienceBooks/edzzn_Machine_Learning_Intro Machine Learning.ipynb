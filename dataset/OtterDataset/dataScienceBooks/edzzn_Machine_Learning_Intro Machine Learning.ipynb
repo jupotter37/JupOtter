{
 "cells": [
  {
   "cell_type": "markdown",
   "metadata": {
    "collapsed": true
   },
   "source": [
    "# Machine Learning\n",
    "\n",
    "Machine learning is the subfield of computer science that, according to Arthur Samuel in 1959, gives \"computers the ability to learn without being explicitly programmed.\" Evolved from the study of pattern recognition and computational learning theory in artificial intelligence, machine learning explores the study and construction of algorithms that can learn from and make predictions on data - [Wikepedia](https://en.wikipedia.org/wiki/Machine_learning)"
   ]
  },
  {
   "cell_type": "markdown",
   "metadata": {},
   "source": [
    "## 3 kinds of Machine Learning\n",
    "- Supervised Learning\n",
    "- Unsupervised Learning\n",
    "- Reinforcement Learning\n"
   ]
  },
  {
   "cell_type": "markdown",
   "metadata": {},
   "source": [
    "## Supervised Learning\n",
    "Supervides learning learns a model from labeled training data. \n",
    "\n",
    "Supervised learning can be diveded in:\n",
    "- Classification: E-mail Spam filtering \n",
    "- Regression\n",
    "\n",
    "### Classification\n",
    "The goal is to predict the class label of an instance based on past observations.\n",
    "\n",
    "We can have a **binary classification** (e-mail-spam filtering) and **multiclass classification** problems.\n",
    "\n",
    "\n",
    "### Regression\n",
    "Prediction of continuous outcomes.\n",
    "\n",
    "Can be used to determine the relationship between variables.\n",
    "\n",
    "There are many types of regression, one of them is _lienar regression_\n"
   ]
  },
  {
   "cell_type": "markdown",
   "metadata": {},
   "source": [
    "## Reinforcement Learning\n",
    "The goal is to develop a system that improves its performance based on interactions with the enviroment.\n",
    "\n",
    "There is typically included a _reward_ signal.\n",
    "\n",
    "The idea is to maximise the reward by changing its behavior\n"
   ]
  },
  {
   "cell_type": "markdown",
   "metadata": {},
   "source": [
    "## Unsupervised Learning\n",
    "\n",
    "In the Supervised Learning we know the right anwser ahead of time, with Reinforcement Learning we know the reward we want to maximise.\n",
    "\n",
    "In Unsupervised Learning we have unlabel data or data of unknown structure.\n",
    "\n",
    "### Clustering\n",
    "__Clustering__ allows us to organize information into meaningfull subgroups _(clusters)_\n",
    "\n",
    "Elements in a clusters share a degree of similarity.\n",
    "\n",
    "Sometimes calles _unsupervised classification_\n",
    "\n",
    "### Dimensionality Reduction\n",
    "__Unsupervised Dimentionality Reduction __ is a common aproach to remove noise from data.\n",
    "\n",
    "It can be used for data visialization bringing high-dimentional data to 2D or 3D which can be visualized.\n",
    "\n",
    "It can degrade the predictive performance of some algorithms.\n"
   ]
  },
  {
   "cell_type": "markdown",
   "metadata": {},
   "source": [
    "## Terminlogy\n",
    "\n",
    "![Iris Dataset](https://sebastianraschka.com/images/blog/2015/principal_component_analysis_files/iris.png)\n",
    "- __Samples:__ Intances, objervations\n",
    "- __Class lables:__ targets\n",
    "- __Features:__ Attributes, measurements, dimensions\n",
    "\n"
   ]
  },
  {
   "cell_type": "markdown",
   "metadata": {},
   "source": [
    "## A roadmap for building ML systems\n",
    "![ML roadmap](http://i.imgur.com/qSV5TcK.png)\n",
    "\n",
    "### Preprocessing\n",
    "Raw data does rarely comes in the necessary form or shape\n",
    "Preprocessing is a crucial step\n",
    "Many ML algorithms require features to be in the same scale. \n",
    "Highly correlated features can be redundant, dimensional reduction can be used.\n",
    "We want to __randomly__ divide the dataset into training and test set.\n",
    "\n",
    "### Training and model selection\n",
    "No Free Lunch Teorems\n",
    "Each classification algorithm makes assumptions\n",
    "Default parameters of a learning algorithm are not often optimal for our specific problem.\n",
    "\n",
    "How to determine the best model for a problem?\n",
    "- Classification accuracy (Proportion of correctly classified instances)\n",
    "- Hyperparameters optimization techniques\n",
    "\n",
    "\"I suppose it is tempting, if the only tool you have is a hammer, to treat everything as if it were a nail\" (Abraham Maslow, 1966)\n",
    "\n",
    "### Evaluation and Prediction\n",
    "We can use the test set to estimate the generalization error."
   ]
  }
 ],
 "metadata": {
  "kernelspec": {
   "display_name": "Python 3",
   "language": "python",
   "name": "python3"
  },
  "language_info": {
   "codemirror_mode": {
    "name": "ipython",
    "version": 3.0
   },
   "file_extension": ".py",
   "mimetype": "text/x-python",
   "name": "python",
   "nbconvert_exporter": "python",
   "pygments_lexer": "ipython3",
   "version": "3.5.2"
  }
 },
 "nbformat": 4,
 "nbformat_minor": 1
}
