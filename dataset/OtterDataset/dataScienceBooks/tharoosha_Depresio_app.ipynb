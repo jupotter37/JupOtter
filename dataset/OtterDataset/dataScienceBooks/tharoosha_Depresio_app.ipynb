{
 "cells": [
  {
   "cell_type": "code",
   "execution_count": null,
   "metadata": {},
   "outputs": [],
   "source": [
    "import numpy as np \n",
    "import pandas as pd \n",
    "# !pip install sentence_transformers"
   ]
  },
  {
   "cell_type": "code",
   "execution_count": null,
   "metadata": {},
   "outputs": [],
   "source": [
    "df = pd.read_csv('title_category.csv')\n",
    "columns = df.columns.tolist()\n",
    "columns[0] = 'Index'\n",
    "df.columns = columns\n",
    "df.head()"
   ]
  },
  {
   "cell_type": "code",
   "execution_count": null,
   "metadata": {},
   "outputs": [],
   "source": [
    "df[pd.isnull(df['Index'])]"
   ]
  },
  {
   "cell_type": "code",
   "execution_count": null,
   "metadata": {},
   "outputs": [],
   "source": [
    "for i in range(df.shape[0]):\n",
    "    if pd.isnull(df.iloc[i,2]):\n",
    "        df.iloc[i,2] = df.iloc[i+1,1]\n",
    "df.dropna(subset=['Index'], inplace=True)\n",
    "df.index = df['Index']\n",
    "df.drop(['Index'], axis = 1, inplace=True)\n",
    "df['Type of Video'] = df['Type of Video'].apply(lambda x: str(x).replace('__##__',','))"
   ]
  },
  {
   "cell_type": "code",
   "execution_count": null,
   "metadata": {},
   "outputs": [],
   "source": [
    "df.head()"
   ]
  },
  {
   "cell_type": "code",
   "execution_count": null,
   "metadata": {},
   "outputs": [],
   "source": [
    "from sklearn.feature_extraction.text import TfidfVectorizer\n",
    "tf_idf = TfidfVectorizer(min_df=2, max_features = None, strip_accents = 'unicode', norm='l2',\n",
    "                            analyzer = 'char', token_pattern = r'\\w{1,}',ngram_range=(1,5),\n",
    "                            use_idf = 1, smooth_idf = 1, sublinear_tf = 1, stop_words = 'english')\n",
    "features = tf_idf.fit_transform(df['Title of the video']).toarray()"
   ]
  },
  {
   "cell_type": "code",
   "execution_count": null,
   "metadata": {},
   "outputs": [],
   "source": [
    "features.shape"
   ]
  },
  {
   "cell_type": "code",
   "execution_count": null,
   "metadata": {},
   "outputs": [],
   "source": [
    "from sentence_transformers import SentenceTransformer\n",
    "embedder = SentenceTransformer('bert-base-nli-mean-tokens')\n",
    "bert_features = embedder.encode(df['Title of the video'].tolist())"
   ]
  },
  {
   "cell_type": "code",
   "execution_count": null,
   "metadata": {},
   "outputs": [],
   "source": [
    "semantic_embedder = SentenceTransformer('bert-base-nli-stsb-mean-tokens')\n",
    "semantic_bert_features = semantic_embedder.encode(df['Title of the video'].tolist())"
   ]
  },
  {
   "cell_type": "code",
   "execution_count": null,
   "metadata": {},
   "outputs": [],
   "source": [
    "bert_features = np.array(bert_features)\n",
    "semantic_bert_features = np.array(semantic_bert_features)"
   ]
  },
  {
   "cell_type": "code",
   "execution_count": null,
   "metadata": {},
   "outputs": [],
   "source": [
    "final_features = np.hstack((features, bert_features, semantic_bert_features))\n",
    "final_features.shape"
   ]
  },
  {
   "cell_type": "code",
   "execution_count": null,
   "metadata": {},
   "outputs": [],
   "source": [
    "from sklearn.feature_extraction.text import CountVectorizer\n",
    "vectorizer = CountVectorizer(tokenizer=lambda x: x.split(','))\n",
    "y = vectorizer.fit_transform(df['Type of Video'])"
   ]
  },
  {
   "cell_type": "code",
   "execution_count": null,
   "metadata": {},
   "outputs": [],
   "source": [
    "final_features.shape"
   ]
  },
  {
   "cell_type": "code",
   "execution_count": null,
   "metadata": {},
   "outputs": [],
   "source": [
    "y.shape"
   ]
  },
  {
   "cell_type": "code",
   "execution_count": null,
   "metadata": {},
   "outputs": [],
   "source": [
    "from sklearn.multioutput import MultiOutputClassifier\n",
    "from sklearn.linear_model import SGDClassifier\n",
    "clf = MultiOutputClassifier(SGDClassifier(max_iter=4000)).fit(final_features, y.toarray())"
   ]
  },
  {
   "cell_type": "code",
   "execution_count": null,
   "metadata": {},
   "outputs": [],
   "source": [
    "def generate_embedding(text):\n",
    "    word_transform = tf_idf.transform([text]).toarray()[0]\n",
    "    bert_transform = embedder.encode([text], show_progress_bar=False)[0]\n",
    "    semantic_bert_transform = semantic_embedder.encode([text], show_progress_bar=False)[0]\n",
    "    embedding = np.hstack((word_transform, bert_transform, semantic_bert_transform))\n",
    "    return embedding\n",
    "\n",
    "def get_terms(pred_list):\n",
    "    return [w.title() for w in vectorizer.inverse_transform([pred_list])[0]]\n",
    "\n",
    "def get_topics(text):\n",
    "    text_embedding = generate_embedding(text)\n",
    "    pred_list = clf.predict([text_embedding])[0]\n",
    "    return get_terms(pred_list)\n",
    "\n",
    "def increment_learn(text, topics):\n",
    "    available_topics = vectorizer.get_feature_names()\n",
    "    for topic in topics.split(','):\n",
    "        if topic.lower() not in available_topics:\n",
    "            return -1\n",
    "    text_embedding = generate_embedding(text)\n",
    "    topics = vectorizer.transform([topics]).toarray()[0]\n",
    "    clf.partial_fit([text_embedding], [topics])"
   ]
  },
  {
   "cell_type": "code",
   "execution_count": null,
   "metadata": {},
   "outputs": [],
   "source": [
    "\n",
    "example = 'Eric Weinstein: Revolutionary Ideas in Science, Math, and Society | Artificial Intelligence Podcast'\n",
    "get_topics(example)"
   ]
  },
  {
   "cell_type": "code",
   "execution_count": null,
   "metadata": {},
   "outputs": [],
   "source": [
    "title = 'Consciousness -- the final frontier | Dada Gunamuktananda | TEDxNoosa 2014'\n",
    "get_topics(title)"
   ]
  },
  {
   "cell_type": "code",
   "execution_count": null,
   "metadata": {},
   "outputs": [],
   "source": [
    "import pickle\n",
    "\n",
    "# Save the model to a pickle file\n",
    "with open('multioutput_classifier_model.pkl', 'wb') as model_file:\n",
    "    pickle.dump(clf, model_file)\n"
   ]
  },
  {
   "cell_type": "code",
   "execution_count": null,
   "metadata": {},
   "outputs": [],
   "source": [
    "import pickle\n",
    "\n",
    "# Load the model from the pickle file\n",
    "with open('multioutput_classifier_model.pkl', 'rb') as model_file:\n",
    "    clf = pickle.load(model_file)\n"
   ]
  },
  {
   "cell_type": "code",
   "execution_count": null,
   "metadata": {},
   "outputs": [],
   "source": []
  },
  {
   "cell_type": "code",
   "execution_count": null,
   "metadata": {},
   "outputs": [],
   "source": []
  },
  {
   "cell_type": "code",
   "execution_count": null,
   "metadata": {},
   "outputs": [],
   "source": []
  },
  {
   "cell_type": "code",
   "execution_count": null,
   "metadata": {},
   "outputs": [],
   "source": []
  },
  {
   "cell_type": "code",
   "execution_count": null,
   "metadata": {},
   "outputs": [],
   "source": []
  },
  {
   "cell_type": "code",
   "execution_count": null,
   "metadata": {},
   "outputs": [],
   "source": []
  },
  {
   "cell_type": "code",
   "execution_count": null,
   "metadata": {},
   "outputs": [],
   "source": []
  },
  {
   "cell_type": "code",
   "execution_count": null,
   "metadata": {},
   "outputs": [],
   "source": [
    "from sklearn.feature_extraction.text import CountVectorizer\n",
    "\n",
    "# Define a custom tokenizer function\n",
    "def custom_tokenizer(text):\n",
    "    return text.split(',')\n",
    "\n",
    "# Create the CountVectorizer with the custom tokenizer\n",
    "vectorizer = CountVectorizer(tokenizer=custom_tokenizer)\n",
    "\n",
    "# Fit and transform the data\n",
    "y = vectorizer.fit_transform(df['Type of Video'])\n",
    "\n",
    "# Save the model\n",
    "import pickle\n",
    "pickle.dump(clf, open('model.pkl', 'wb'))\n",
    "pickle.dump(vectorizer, open('vectorizer.pkl', 'wb'))"
   ]
  },
  {
   "cell_type": "code",
   "execution_count": null,
   "metadata": {},
   "outputs": [],
   "source": [
    "import pickle\n",
    "\n",
    "# Load model\n",
    "model = pickle.load(open('model.pkl','rb'))\n",
    "vectorizer = pickle.load(open('vectorizer.pkl','rb'))\n",
    "\n",
    "# Use model\n",
    "example = 'Eric Weinstein: Revolutionary Ideas in Science, Math, and Society | Artificial Intelligence Podcast'\n",
    "get_topics(example)"
   ]
  },
  {
   "cell_type": "code",
   "execution_count": null,
   "metadata": {},
   "outputs": [],
   "source": [
    "\n",
    "title = 'Machine Learning for Humans, Part 1: Introduction'\n",
    "get_topics(title)"
   ]
  },
  {
   "cell_type": "code",
   "execution_count": null,
   "metadata": {},
   "outputs": [],
   "source": [
    "# import numpy as np\n",
    "# from flask import Flask, request, jsonify\n",
    "# import pickle\n",
    "\n",
    "# app = Flask(__name__)\n",
    "# model = pickle.load(open('model.pkl', 'rb'))\n",
    "# vectorizer = pickle.load(open('vectorizer.pkl', 'rb'))\n",
    "\n",
    "# def get_topics(text):\n",
    "#     # Your model prediction logic here\n",
    "#     # You can use 'model' and 'vectorizer' to make predictions\n",
    "#     # Replace this with your actual prediction code\n",
    "#     prediction = model.predict(vectorizer.transform([text]))\n",
    "#     return prediction\n",
    "\n",
    "# @app.route('/predict', methods=['POST'])\n",
    "# def predict():\n",
    "#     # For rendering results on HTML GUI\n",
    "#     text = request.form['text']\n",
    "#     topics = get_topics(text)\n",
    "#     return render_template('index.html', prediction_text='Topics: {}'.format(topics))\n",
    "\n",
    "# @app.route('/predict_api', methods=['POST'])\n",
    "# def predict_api():\n",
    "#     # For direct API calls through requests\n",
    "#     data = request.get_json()\n",
    "#     text = data['text']\n",
    "#     topics = get_topics(text)\n",
    "#     return jsonify({\"topics\": topics})\n",
    "\n",
    "# if __name__ == \"__main__\":\n",
    "#     app.run(debug=True)\n"
   ]
  },
  {
   "cell_type": "code",
   "execution_count": 24,
   "metadata": {},
   "outputs": [
    {
     "name": "stderr",
     "output_type": "stream",
     "text": [
      "/mnt/7866F86B66F82B8E/git/task-manager/Depresio/myenv/lib/python3.11/site-packages/sklearn/utils/_param_validation.py:594: FutureWarning: Passing an int for a boolean parameter is deprecated in version 1.2 and won't be supported anymore in version 1.4.\n",
      "  warnings.warn(\n",
      "/mnt/7866F86B66F82B8E/git/task-manager/Depresio/myenv/lib/python3.11/site-packages/sklearn/feature_extraction/text.py:547: UserWarning: The parameter 'stop_words' will not be used since 'analyzer' != 'word'\n",
      "  warnings.warn(\n",
      "/mnt/7866F86B66F82B8E/git/task-manager/Depresio/myenv/lib/python3.11/site-packages/sklearn/feature_extraction/text.py:555: UserWarning: The parameter 'token_pattern' will not be used since 'analyzer' != 'word'\n",
      "  warnings.warn(\n",
      "/mnt/7866F86B66F82B8E/git/task-manager/Depresio/myenv/lib/python3.11/site-packages/sklearn/feature_extraction/text.py:525: UserWarning: The parameter 'token_pattern' will not be used since 'tokenizer' is not None'\n",
      "  warnings.warn(\n"
     ]
    },
    {
     "data": {
      "text/plain": [
       "[]"
      ]
     },
     "execution_count": 24,
     "metadata": {},
     "output_type": "execute_result"
    }
   ],
   "source": [
    "import numpy as np \n",
    "import pandas as pd \n",
    "# !pip install sentence_transformers\n",
    "\n",
    "df = pd.read_csv('title_category.csv')\n",
    "columns = df.columns.tolist()\n",
    "columns[0] = 'Index'\n",
    "df.columns = columns\n",
    "\n",
    "df[pd.isnull(df['Index'])]\n",
    "\n",
    "for i in range(df.shape[0]):\n",
    "    if pd.isnull(df.iloc[i,2]):\n",
    "        df.iloc[i,2] = df.iloc[i+1,1]\n",
    "df.dropna(subset=['Index'], inplace=True)\n",
    "df.index = df['Index']\n",
    "df.drop(['Index'], axis = 1, inplace=True)\n",
    "df['Type of Video'] = df['Type of Video'].apply(lambda x: str(x).replace('__##__',','))\n",
    "\n",
    "from sklearn.feature_extraction.text import TfidfVectorizer\n",
    "tf_idf = TfidfVectorizer(min_df=2, max_features = None, strip_accents = 'unicode', norm='l2',\n",
    "                            analyzer = 'char', token_pattern = r'\\w{1,}',ngram_range=(1,5),\n",
    "                            use_idf = 1, smooth_idf = 1, sublinear_tf = 1, stop_words = 'english')\n",
    "features = tf_idf.fit_transform(df['Title of the video']).toarray()\n",
    "\n",
    "\n",
    "from sentence_transformers import SentenceTransformer\n",
    "embedder = SentenceTransformer('bert-base-nli-mean-tokens')\n",
    "bert_features = embedder.encode(df['Title of the video'].tolist())\n",
    "\n",
    "\n",
    "semantic_embedder = SentenceTransformer('bert-base-nli-stsb-mean-tokens')\n",
    "semantic_bert_features = semantic_embedder.encode(df['Title of the video'].tolist())\n",
    "\n",
    "\n",
    "bert_features = np.array(bert_features)\n",
    "semantic_bert_features = np.array(semantic_bert_features)\n",
    "\n",
    "final_features = np.hstack((features, bert_features, semantic_bert_features))\n",
    "final_features.shape\n",
    "\n",
    "from sklearn.feature_extraction.text import CountVectorizer\n",
    "vectorizer = CountVectorizer(tokenizer=lambda x: x.split(','))\n",
    "y = vectorizer.fit_transform(df['Type of Video'])\n",
    "\n",
    "\n",
    "from sklearn.multioutput import MultiOutputClassifier\n",
    "from sklearn.linear_model import SGDClassifier\n",
    "clf = MultiOutputClassifier(SGDClassifier(max_iter=4000)).fit(final_features, y.toarray())\n",
    "\n",
    "\n",
    "\n",
    "def generate_embedding(text):\n",
    "    word_transform = tf_idf.transform([text]).toarray()[0]\n",
    "    bert_transform = embedder.encode([text], show_progress_bar=False)[0]\n",
    "    semantic_bert_transform = semantic_embedder.encode([text], show_progress_bar=False)[0]\n",
    "    embedding = np.hstack((word_transform, bert_transform, semantic_bert_transform))\n",
    "    return embedding\n",
    "\n",
    "def get_terms(pred_list):\n",
    "    return [w.title() for w in vectorizer.inverse_transform([pred_list])[0]]\n",
    "\n",
    "def get_topics(text):\n",
    "    text_embedding = generate_embedding(text)\n",
    "    pred_list = clf.predict([text_embedding])[0]\n",
    "    return get_terms(pred_list)\n",
    "\n",
    "def increment_learn(text, topics):\n",
    "    available_topics = vectorizer.get_feature_names()\n",
    "    for topic in topics.split(','):\n",
    "        if topic.lower() not in available_topics:\n",
    "            return -1\n",
    "    text_embedding = generate_embedding(text)\n",
    "    topics = vectorizer.transform([topics]).toarray()[0]\n",
    "    clf.partial_fit([text_embedding], [topics])\n",
    "\n",
    "\n",
    "example = 'Eric Weinstein: Revolutionary Ideas in Science, Math, and Society | Artificial Intelligence Podcast'\n",
    "get_topics(example)\n",
    "\n"
   ]
  },
  {
   "cell_type": "code",
   "execution_count": 27,
   "metadata": {},
   "outputs": [
    {
     "name": "stderr",
     "output_type": "stream",
     "text": [
      "/mnt/7866F86B66F82B8E/git/task-manager/Depresio/myenv/lib/python3.11/site-packages/sklearn/utils/_param_validation.py:594: FutureWarning: Passing an int for a boolean parameter is deprecated in version 1.2 and won't be supported anymore in version 1.4.\n",
      "  warnings.warn(\n",
      "/mnt/7866F86B66F82B8E/git/task-manager/Depresio/myenv/lib/python3.11/site-packages/sklearn/feature_extraction/text.py:547: UserWarning: The parameter 'stop_words' will not be used since 'analyzer' != 'word'\n",
      "  warnings.warn(\n",
      "/mnt/7866F86B66F82B8E/git/task-manager/Depresio/myenv/lib/python3.11/site-packages/sklearn/feature_extraction/text.py:555: UserWarning: The parameter 'token_pattern' will not be used since 'analyzer' != 'word'\n",
      "  warnings.warn(\n",
      "/mnt/7866F86B66F82B8E/git/task-manager/Depresio/myenv/lib/python3.11/site-packages/sklearn/feature_extraction/text.py:525: UserWarning: The parameter 'token_pattern' will not be used since 'tokenizer' is not None'\n",
      "  warnings.warn(\n"
     ]
    },
    {
     "data": {
      "text/plain": [
       "['Mathematics']"
      ]
     },
     "execution_count": 27,
     "metadata": {},
     "output_type": "execute_result"
    }
   ],
   "source": [
    "import numpy as np\n",
    "import pandas as pd\n",
    "from sklearn.feature_extraction.text import TfidfVectorizer\n",
    "from sklearn.feature_extraction.text import CountVectorizer\n",
    "from sentence_transformers import SentenceTransformer\n",
    "from sklearn.multioutput import MultiOutputClassifier\n",
    "from sklearn.linear_model import SGDClassifier\n",
    "\n",
    "# Read the CSV file\n",
    "df = pd.read_csv('title_category.csv')\n",
    "\n",
    "# Rename the 'Index' column\n",
    "df = df.rename(columns={'Unnamed: 0': 'Index'})\n",
    "\n",
    "# Drop rows with NaN values in the 'Index' column\n",
    "df = df.dropna(subset=['Index'])\n",
    "\n",
    "# Replace '__##__' in 'Type of Video' with commas\n",
    "df['Type of Video'] = df['Type of Video'].str.replace('__##__', ',')\n",
    "\n",
    "# Create a TF-IDF vectorizer\n",
    "tf_idf = TfidfVectorizer(min_df=2, max_features=None, strip_accents='unicode',\n",
    "                        norm='l2', analyzer='char', token_pattern=r'\\w{1,}', ngram_range=(1, 5),\n",
    "                        use_idf=1, smooth_idf=1, stop_words='english')\n",
    "\n",
    "# Fit and transform the 'Title of the video' to TF-IDF features\n",
    "features = tf_idf.fit_transform(df['Title of the video']).toarray()\n",
    "\n",
    "# Initialize BERT-based sentence transformers\n",
    "embedder = SentenceTransformer('bert-base-nli-mean-tokens')\n",
    "semantic_embedder = SentenceTransformer('bert-base-nli-stsb-mean-tokens')\n",
    "\n",
    "# Encode 'Title of the video' using BERT models\n",
    "bert_features = embedder.encode(df['Title of the video'].tolist())\n",
    "semantic_bert_features = semantic_embedder.encode(df['Title of the video'].tolist())\n",
    "\n",
    "# Combine the features\n",
    "final_features = np.hstack((features, bert_features, semantic_bert_features))\n",
    "\n",
    "# Replace NaN values in 'Type of Video' with an empty string\n",
    "df['Type of Video'].fillna('', inplace=True)\n",
    "\n",
    "# Create a CountVectorizer for 'Type of Video'\n",
    "vectorizer = CountVectorizer(tokenizer=lambda x: x.split(','))\n",
    "\n",
    "# Transform 'Type of Video' into binary vectors\n",
    "y = vectorizer.fit_transform(df['Type of Video'])\n",
    "\n",
    "# Create a MultiOutputClassifier with an SGDClassifier\n",
    "clf = MultiOutputClassifier(SGDClassifier(max_iter=4000)).fit(final_features, y.toarray())\n",
    "\n",
    "def generate_embedding(text):\n",
    "    word_transform = tf_idf.transform([text]).toarray()[0]\n",
    "    bert_transform = embedder.encode([text], show_progress_bar=False)[0]\n",
    "    semantic_bert_transform = semantic_embedder.encode([text], show_progress_bar=False)[0]\n",
    "    embedding = np.hstack((word_transform, bert_transform, semantic_bert_transform))\n",
    "    return embedding\n",
    "\n",
    "def get_terms(pred_list):\n",
    "    return [w.title() for w in vectorizer.inverse_transform([pred_list])[0]]\n",
    "\n",
    "def get_topics(text):\n",
    "    text_embedding = generate_embedding(text)\n",
    "    pred_list = clf.predict([text_embedding])[0]\n",
    "    return get_terms(pred_list)\n",
    "\n",
    "def increment_learn(text, topics):\n",
    "    available_topics = vectorizer.get_feature_names()\n",
    "    for topic in topics.split(','):\n",
    "        if topic.lower() not in available_topics:\n",
    "            return -1\n",
    "    text_embedding = generate_embedding(text)\n",
    "    topics = vectorizer.transform([topics]).toarray()[0]\n",
    "    clf.partial_fit([text_embedding], [topics])\n",
    "\n",
    "example = 'Eric Weinstein: Revolutionary Ideas in Science, Math, and Society | Artificial Intelligence Podcast'\n",
    "get_topics(example)\n"
   ]
  },
  {
   "cell_type": "code",
   "execution_count": null,
   "metadata": {},
   "outputs": [],
   "source": []
  },
  {
   "cell_type": "code",
   "execution_count": null,
   "metadata": {},
   "outputs": [],
   "source": []
  },
  {
   "cell_type": "code",
   "execution_count": null,
   "metadata": {},
   "outputs": [],
   "source": []
  }
 ],
 "metadata": {
  "kernelspec": {
   "display_name": "Python 3",
   "language": "python",
   "name": "python3"
  },
  "language_info": {
   "codemirror_mode": {
    "name": "ipython",
    "version": 3
   },
   "file_extension": ".py",
   "mimetype": "text/x-python",
   "name": "python",
   "nbconvert_exporter": "python",
   "pygments_lexer": "ipython3",
   "version": "3.11.4"
  }
 },
 "nbformat": 4,
 "nbformat_minor": 2
}
