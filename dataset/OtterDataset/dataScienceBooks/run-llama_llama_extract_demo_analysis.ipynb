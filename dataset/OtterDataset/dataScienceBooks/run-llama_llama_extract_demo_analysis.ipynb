{
 "cells": [
  {
   "cell_type": "markdown",
   "id": "755c2cfa-ab15-4107-8d5b-296d580fdae1",
   "metadata": {},
   "source": [
    "# Unstructured data analysis with LlamaExtract and JSONalyze Query Engine"
   ]
  },
  {
   "cell_type": "markdown",
   "id": "f8fadfb3-401c-468e-8894-4db16a925604",
   "metadata": {},
   "source": [
    "In this notebook, we extract structured data from resume PDFs and run analytical queries on them with `LlamaExtract` and `JSONalyze Query Engine`. \n",
    "\n",
    "The steps are:\n",
    "1. Infer schema from resume PDFs with `LlamaExtract`\n",
    "2. Extract structured data (i.e. JSONs) from resume PDFs with `LlamaExtract`\n",
    "3. Answer analytical queries with `JSONalyze Query Engine`\n",
    "\n",
    "Additional Resources: \n",
    "- `LlamaExtract`: https://docs.cloud.llamaindex.ai/\n",
    "- `JSONalyze Query Engine`: https://docs.llamaindex.ai/en/stable/examples/query_engine/JSONalyze_query_engine/"
   ]
  },
  {
   "cell_type": "markdown",
   "id": "363e910a-126e-45ba-b6e2-260c4b45edeb",
   "metadata": {},
   "source": [
    "## Setup"
   ]
  },
  {
   "cell_type": "markdown",
   "id": "40094ada-50f7-4c5a-89a2-f732f57ae0e9",
   "metadata": {},
   "source": [
    "Install `llama-extract` client library."
   ]
  },
  {
   "cell_type": "code",
   "execution_count": null,
   "id": "48536557-1c2a-4b54-9812-29b409b23a03",
   "metadata": {},
   "outputs": [
    {
     "name": "stdout",
     "output_type": "stream",
     "text": [
      "\n",
      "\u001b[1m[\u001b[0m\u001b[34;49mnotice\u001b[0m\u001b[1;39;49m]\u001b[0m\u001b[39;49m A new release of pip is available: \u001b[0m\u001b[31;49m24.0\u001b[0m\u001b[39;49m -> \u001b[0m\u001b[32;49m24.1.2\u001b[0m\n",
      "\u001b[1m[\u001b[0m\u001b[34;49mnotice\u001b[0m\u001b[1;39;49m]\u001b[0m\u001b[39;49m To update, run: \u001b[0m\u001b[32;49mpip install --upgrade pip\u001b[0m\n",
      "Note: you may need to restart the kernel to use updated packages.\n"
     ]
    }
   ],
   "source": [
    "%pip install llama-extract > /dev/null"
   ]
  },
  {
   "cell_type": "markdown",
   "id": "5d878aaa-a660-458b-ab6d-68dd617b69c5",
   "metadata": {},
   "source": [
    "Follow [instruction](https://docs.cloud.llamaindex.ai/llamacloud/getting_started/api_key)  to get an API key from https://cloud.llamaindex.ai/"
   ]
  },
  {
   "cell_type": "code",
   "execution_count": null,
   "id": "7dfa9b26-0c0a-4a86-a022-05241efc552c",
   "metadata": {},
   "outputs": [],
   "source": [
    "import os\n",
    "\n",
    "os.environ[\"LLAMA_CLOUD_API_KEY\"] = \"llx-...\""
   ]
  },
  {
   "cell_type": "markdown",
   "id": "494763a0-2dc4-4262-996b-54a1b2ae677d",
   "metadata": {},
   "source": [
    "## Load data"
   ]
  },
  {
   "cell_type": "markdown",
   "id": "07a33607-3f7e-434c-9231-2e3e9480dece",
   "metadata": {},
   "source": [
    "For this demo, We use 3 sample resumes from [Resume Dataset](https://www.kaggle.com/datasets/gauravduttakiit/resume-dataset) from Kaggle (data is included in this repo)."
   ]
  },
  {
   "cell_type": "code",
   "execution_count": null,
   "id": "a7c4326d-6dcc-438c-ae35-921b564fc25e",
   "metadata": {},
   "outputs": [],
   "source": [
    "DATA_DIR = \"data/resumes\""
   ]
  },
  {
   "cell_type": "code",
   "execution_count": null,
   "id": "7726f057-73ff-48fe-ac63-97f7ce08a01f",
   "metadata": {},
   "outputs": [
    {
     "data": {
      "text/plain": [
       "['data/resumes/14224370.pdf',\n",
       " 'data/resumes/12780508.pdf',\n",
       " 'data/resumes/19545827.pdf']"
      ]
     },
     "execution_count": null,
     "metadata": {},
     "output_type": "execute_result"
    }
   ],
   "source": [
    "fnames = os.listdir(DATA_DIR)\n",
    "fnames = [fname for fname in fnames if fname.endswith(\".pdf\")]\n",
    "fpaths = [os.path.join(DATA_DIR, fname) for fname in fnames]\n",
    "fpaths"
   ]
  },
  {
   "cell_type": "markdown",
   "id": "5d52e245-3890-4293-9326-6b48b5593015",
   "metadata": {},
   "source": [
    "### Infer schema"
   ]
  },
  {
   "cell_type": "markdown",
   "id": "29247b6c-8fd7-4804-a188-d759e5ac7d62",
   "metadata": {},
   "source": [
    "First, let's infer a JSON schema that represent the inherent structure of our documents with `LlamaExtract`."
   ]
  },
  {
   "cell_type": "code",
   "execution_count": null,
   "id": "6742d69f-1df6-490c-9c2a-59c02eb55453",
   "metadata": {},
   "outputs": [],
   "source": [
    "from llama_extract import LlamaExtract\n",
    "\n",
    "extractor = LlamaExtract()"
   ]
  },
  {
   "cell_type": "code",
   "execution_count": null,
   "id": "d7d39f86-e3a4-43d1-b7a4-4a49ee6dbfe5",
   "metadata": {},
   "outputs": [
    {
     "data": {
      "text/plain": [
       "['data/resumes/14224370.pdf']"
      ]
     },
     "execution_count": null,
     "metadata": {},
     "output_type": "execute_result"
    }
   ],
   "source": [
    "fpaths_for_infer_schema = fpaths[:1]\n",
    "fpaths_for_infer_schema"
   ]
  },
  {
   "cell_type": "code",
   "execution_count": null,
   "id": "505787a3-5ce3-4f07-af2f-6a05fbcd5b2c",
   "metadata": {},
   "outputs": [
    {
     "data": {
      "text/plain": [
       "'94e09ba1-ed0d-4427-889e-014afb57dbeb'"
      ]
     },
     "execution_count": null,
     "metadata": {},
     "output_type": "execute_result"
    }
   ],
   "source": [
    "extraction_schema = await extractor.ainfer_schema(\n",
    "    \"Resume Schema 07_24\", fpaths_for_infer_schema\n",
    ")\n",
    "extraction_schema.id"
   ]
  },
  {
   "cell_type": "markdown",
   "id": "fc85e412-8586-4246-8d8a-7c98c812f1db",
   "metadata": {},
   "source": [
    "Let's preview the inferred schema."
   ]
  },
  {
   "cell_type": "code",
   "execution_count": null,
   "id": "f32ff304-a04c-413c-bda3-10a38875e318",
   "metadata": {},
   "outputs": [
    {
     "data": {
      "application/json": {
       "properties": {
        "Accountant": {
         "properties": {
          "education": {
           "properties": {
            "degree": {
             "type": "string"
            },
            "fieldOfStudy": {
             "type": "string"
            },
            "graduationYear": {
             "type": "integer"
            },
            "honors": {
             "type": "string"
            },
            "institution": {
             "type": "string"
            }
           },
           "type": "object"
          },
          "experience": {
           "type": "string"
          },
          "highlights": {
           "properties": {
            "abilityToManageMultiTasks": {
             "type": "integer"
            },
            "deadlinesFocused": {
             "type": "integer"
            },
            "detailOriented": {
             "type": "integer"
            },
            "excellentCommunicationSkills": {
             "type": "integer"
            },
            "goodAnalyticalSkills": {
             "type": "integer"
            },
            "quickLearner": {
             "type": "integer"
            },
            "strongManagementSkills": {
             "type": "integer"
            },
            "teamOriented": {
             "type": "integer"
            }
           },
           "type": "object"
          },
          "skills": {
           "type": "string"
          },
          "summary": {
           "properties": {
            "location": {
             "type": "string"
            },
            "yearsOfExperience": {
             "type": "integer"
            }
           },
           "type": "object"
          },
          "technicalSkills": {
           "properties": {
            "accountingSoftware": {
             "type": "string"
            },
            "microsoftOffice": {
             "type": "string"
            },
            "operatingSystems": {
             "type": "string"
            },
            "pdfSoftware": {
             "type": "string"
            },
            "taxSoftware": {
             "type": "string"
            }
           },
           "type": "object"
          }
         },
         "type": "object"
        }
       },
       "type": "object"
      },
      "text/plain": [
       "<IPython.core.display.JSON object>"
      ]
     },
     "execution_count": null,
     "metadata": {
      "application/json": {
       "expanded": false,
       "root": "root"
      }
     },
     "output_type": "execute_result"
    }
   ],
   "source": [
    "from IPython.display import JSON\n",
    "\n",
    "JSON(extraction_schema.data_schema)"
   ]
  },
  {
   "cell_type": "code",
   "execution_count": null,
   "id": "8f441d9a-6254-492c-89a8-53edcc1505cf",
   "metadata": {},
   "outputs": [
    {
     "data": {
      "text/plain": [
       "{'type': 'object',\n",
       " 'properties': {'Accountant': {'type': 'object',\n",
       "   'properties': {'skills': {'type': 'string'},\n",
       "    'summary': {'type': 'object',\n",
       "     'properties': {'location': {'type': 'string'},\n",
       "      'yearsOfExperience': {'type': 'integer'}}},\n",
       "    'education': {'type': 'object',\n",
       "     'properties': {'degree': {'type': 'string'},\n",
       "      'honors': {'type': 'string'},\n",
       "      'institution': {'type': 'string'},\n",
       "      'fieldOfStudy': {'type': 'string'},\n",
       "      'graduationYear': {'type': 'integer'}}},\n",
       "    'experience': {'type': 'string'},\n",
       "    'highlights': {'type': 'object',\n",
       "     'properties': {'quickLearner': {'type': 'integer'},\n",
       "      'teamOriented': {'type': 'integer'},\n",
       "      'detailOriented': {'type': 'integer'},\n",
       "      'deadlinesFocused': {'type': 'integer'},\n",
       "      'goodAnalyticalSkills': {'type': 'integer'},\n",
       "      'strongManagementSkills': {'type': 'integer'},\n",
       "      'abilityToManageMultiTasks': {'type': 'integer'},\n",
       "      'excellentCommunicationSkills': {'type': 'integer'}}},\n",
       "    'technicalSkills': {'type': 'object',\n",
       "     'properties': {'pdfSoftware': {'type': 'string'},\n",
       "      'taxSoftware': {'type': 'string'},\n",
       "      'microsoftOffice': {'type': 'string'},\n",
       "      'operatingSystems': {'type': 'string'},\n",
       "      'accountingSoftware': {'type': 'string'}}}}}}}"
      ]
     },
     "execution_count": null,
     "metadata": {},
     "output_type": "execute_result"
    }
   ],
   "source": [
    "extraction_schema.data_schema"
   ]
  },
  {
   "cell_type": "markdown",
   "id": "d0eff355-7cbb-4d49-8881-27120f737498",
   "metadata": {},
   "source": [
    "### (Optional) Update schema"
   ]
  },
  {
   "cell_type": "markdown",
   "id": "fb247b22-8485-44ff-8699-3e71d5d4bf8b",
   "metadata": {},
   "source": [
    "Let's modify the schema to remove the `skills` field."
   ]
  },
  {
   "cell_type": "code",
   "execution_count": null,
   "id": "20e3b2aa-6f9d-405d-8775-babf37988afd",
   "metadata": {},
   "outputs": [],
   "source": [
    "new_schema = extraction_schema.data_schema.copy()\n",
    "\n",
    "del new_schema[\"properties\"][\"Accountant\"][\"properties\"][\"skills\"]"
   ]
  },
  {
   "cell_type": "code",
   "execution_count": null,
   "id": "7334157b-8080-4967-b783-99070381c650",
   "metadata": {},
   "outputs": [
    {
     "data": {
      "application/json": {
       "properties": {
        "Accountant": {
         "properties": {
          "education": {
           "properties": {
            "degree": {
             "type": "string"
            },
            "fieldOfStudy": {
             "type": "string"
            },
            "graduationYear": {
             "type": "integer"
            },
            "honors": {
             "type": "string"
            },
            "institution": {
             "type": "string"
            }
           },
           "type": "object"
          },
          "experience": {
           "type": "string"
          },
          "highlights": {
           "properties": {
            "abilityToManageMultiTasks": {
             "type": "integer"
            },
            "deadlinesFocused": {
             "type": "integer"
            },
            "detailOriented": {
             "type": "integer"
            },
            "excellentCommunicationSkills": {
             "type": "integer"
            },
            "goodAnalyticalSkills": {
             "type": "integer"
            },
            "quickLearner": {
             "type": "integer"
            },
            "strongManagementSkills": {
             "type": "integer"
            },
            "teamOriented": {
             "type": "integer"
            }
           },
           "type": "object"
          },
          "summary": {
           "properties": {
            "location": {
             "type": "string"
            },
            "yearsOfExperience": {
             "type": "integer"
            }
           },
           "type": "object"
          },
          "technicalSkills": {
           "properties": {
            "accountingSoftware": {
             "type": "string"
            },
            "microsoftOffice": {
             "type": "string"
            },
            "operatingSystems": {
             "type": "string"
            },
            "pdfSoftware": {
             "type": "string"
            },
            "taxSoftware": {
             "type": "string"
            }
           },
           "type": "object"
          }
         },
         "type": "object"
        }
       },
       "type": "object"
      },
      "text/plain": [
       "<IPython.core.display.JSON object>"
      ]
     },
     "execution_count": null,
     "metadata": {
      "application/json": {
       "expanded": false,
       "root": "root"
      }
     },
     "output_type": "execute_result"
    }
   ],
   "source": [
    "from IPython.display import JSON\n",
    "\n",
    "JSON(new_schema)"
   ]
  },
  {
   "cell_type": "code",
   "execution_count": null,
   "id": "027db07c-bb0c-47e0-a5d6-f3dc21d56190",
   "metadata": {},
   "outputs": [],
   "source": [
    "update_response = await extractor.aupdate_schema(extraction_schema.id, new_schema)"
   ]
  },
  {
   "cell_type": "code",
   "execution_count": null,
   "id": "5e455f75-17c2-4b83-b330-b5b86ac36b5f",
   "metadata": {},
   "outputs": [
    {
     "name": "stdout",
     "output_type": "stream",
     "text": [
      "Updated at 2024-07-25 17:31:31.695033+00:00\n"
     ]
    }
   ],
   "source": [
    "print(\"Updated at\", update_response.updated_at)"
   ]
  },
  {
   "cell_type": "code",
   "execution_count": null,
   "id": "3de90f80-2937-418c-a0cb-389b69037cb0",
   "metadata": {},
   "outputs": [
    {
     "data": {
      "text/plain": [
       "{'type': 'object',\n",
       " 'properties': {'Accountant': {'type': 'object',\n",
       "   'properties': {'summary': {'type': 'object',\n",
       "     'properties': {'location': {'type': 'string'},\n",
       "      'yearsOfExperience': {'type': 'integer'}}},\n",
       "    'education': {'type': 'object',\n",
       "     'properties': {'degree': {'type': 'string'},\n",
       "      'honors': {'type': 'string'},\n",
       "      'institution': {'type': 'string'},\n",
       "      'fieldOfStudy': {'type': 'string'},\n",
       "      'graduationYear': {'type': 'integer'}}},\n",
       "    'experience': {'type': 'string'},\n",
       "    'highlights': {'type': 'object',\n",
       "     'properties': {'quickLearner': {'type': 'integer'},\n",
       "      'teamOriented': {'type': 'integer'},\n",
       "      'detailOriented': {'type': 'integer'},\n",
       "      'deadlinesFocused': {'type': 'integer'},\n",
       "      'goodAnalyticalSkills': {'type': 'integer'},\n",
       "      'strongManagementSkills': {'type': 'integer'},\n",
       "      'abilityToManageMultiTasks': {'type': 'integer'},\n",
       "      'excellentCommunicationSkills': {'type': 'integer'}}},\n",
       "    'technicalSkills': {'type': 'object',\n",
       "     'properties': {'pdfSoftware': {'type': 'string'},\n",
       "      'taxSoftware': {'type': 'string'},\n",
       "      'microsoftOffice': {'type': 'string'},\n",
       "      'operatingSystems': {'type': 'string'},\n",
       "      'accountingSoftware': {'type': 'string'}}}}}}}"
      ]
     },
     "execution_count": null,
     "metadata": {},
     "output_type": "execute_result"
    }
   ],
   "source": [
    "update_response.data_schema"
   ]
  },
  {
   "cell_type": "markdown",
   "id": "0eb551c5-d179-4551-9c92-11fd0c2f23ee",
   "metadata": {},
   "source": [
    "### Run extraction"
   ]
  },
  {
   "cell_type": "markdown",
   "id": "0021b05f-18a9-41aa-b95f-38ae3c4ff7d7",
   "metadata": {},
   "source": [
    "Now that we have the schema, we can extract structured representation of our resume files."
   ]
  },
  {
   "cell_type": "code",
   "execution_count": null,
   "id": "e2238eff-bce7-4d52-9df5-602309d2a99f",
   "metadata": {},
   "outputs": [
    {
     "name": "stderr",
     "output_type": "stream",
     "text": [
      "\n",
      "\n",
      "Extracting files:   0%|                                        | 0/3 [00:00<?, ?it/s]\u001b[A\u001b[A\n",
      "\n",
      "Extracting files:  33%|██████████▋                     | 1/3 [00:08<00:16,  8.12s/it]\u001b[A\u001b[A\n",
      "\n",
      "Extracting files:  67%|█████████████████████▎          | 2/3 [00:10<00:04,  4.61s/it]\u001b[A\u001b[A\n",
      "\n",
      "Extracting files: 100%|████████████████████████████████| 3/3 [01:35<00:00, 31.97s/it]\u001b[A\u001b[A\n"
     ]
    }
   ],
   "source": [
    "extraction_results = await extractor.aextract(extraction_schema.id, fpaths)"
   ]
  },
  {
   "cell_type": "markdown",
   "id": "7a61b8ed-b172-48ba-b060-09b836b12b97",
   "metadata": {},
   "source": [
    "Let's inspect extracted education data for each resume."
   ]
  },
  {
   "cell_type": "code",
   "execution_count": null,
   "id": "9f1e2a29-4e25-432d-9d7f-c563ae7596e8",
   "metadata": {},
   "outputs": [
    {
     "name": "stdout",
     "output_type": "stream",
     "text": [
      "{\n",
      "  \"degree\": \"Bachelor's degree\",\n",
      "  \"honors\": \"Cum Laude - Graduating With Honors\",\n",
      "  \"institution\": \"University of Houston\",\n",
      "  \"fieldOfStudy\": \"accounting\",\n",
      "  \"graduationYear\": 2005\n",
      "}\n",
      "{\n",
      "  \"degree\": \"Bachelor of Science\",\n",
      "  \"honors\": null,\n",
      "  \"institution\": \"University of Maryland\",\n",
      "  \"fieldOfStudy\": \"Finance\",\n",
      "  \"graduationYear\": 2010\n",
      "}\n",
      "{\n",
      "  \"degree\": \"Bachelor of Arts\",\n",
      "  \"honors\": \"Maintained a 4.0 GPA while completing 12 hours of upper level accounting courses.\",\n",
      "  \"institution\": \"Marshall University\",\n",
      "  \"fieldOfStudy\": \"Economics\",\n",
      "  \"graduationYear\": null\n",
      "}\n"
     ]
    }
   ],
   "source": [
    "for result in extraction_results:\n",
    "    education = result.data[\"Accountant\"][\"education\"]\n",
    "    print(json.dumps(education, indent=2))"
   ]
  },
  {
   "cell_type": "code",
   "execution_count": null,
   "id": "4953fbfb-327d-4173-9b03-6fdcfe5ad789",
   "metadata": {},
   "outputs": [],
   "source": [
    "resume_jsons = [x.data[\"Accountant\"] for x in extraction_results]"
   ]
  },
  {
   "cell_type": "markdown",
   "id": "d1939242-8309-468d-b073-2a1eef9e0ed5",
   "metadata": {},
   "source": [
    "### Run analytical queries"
   ]
  },
  {
   "cell_type": "code",
   "execution_count": null,
   "id": "8992bff8-e13b-4803-aa85-554cf36cc325",
   "metadata": {},
   "outputs": [
    {
     "name": "stdout",
     "output_type": "stream",
     "text": [
      "\n",
      "\u001b[1m[\u001b[0m\u001b[34;49mnotice\u001b[0m\u001b[1;39;49m]\u001b[0m\u001b[39;49m A new release of pip is available: \u001b[0m\u001b[31;49m24.0\u001b[0m\u001b[39;49m -> \u001b[0m\u001b[32;49m24.1.2\u001b[0m\n",
      "\u001b[1m[\u001b[0m\u001b[34;49mnotice\u001b[0m\u001b[1;39;49m]\u001b[0m\u001b[39;49m To update, run: \u001b[0m\u001b[32;49mpip install --upgrade pip\u001b[0m\n",
      "Note: you may need to restart the kernel to use updated packages.\n"
     ]
    }
   ],
   "source": [
    "%pip install jsonpath_ng > /dev/null\n",
    "%pip install sqlite-utils > /dev/null"
   ]
  },
  {
   "cell_type": "code",
   "execution_count": null,
   "id": "dc7dff67-4496-4ef1-b48b-71be040b1eea",
   "metadata": {},
   "outputs": [],
   "source": [
    "import os\n",
    "\n",
    "from llama_index.core.query_engine import JSONalyzeQueryEngine\n",
    "from llama_index.llms.openai import OpenAI\n",
    "\n",
    "os.environ[\"OPENAI_API_KEY\"] = \"sk-...\""
   ]
  },
  {
   "cell_type": "code",
   "execution_count": null,
   "id": "1e2a3210-660a-4953-937b-48d7fcdf2737",
   "metadata": {},
   "outputs": [],
   "source": [
    "llm = OpenAI(model=\"gpt-4\")\n",
    "query_engine = JSONalyzeQueryEngine(list_of_dict=resume_jsons, llm=llm)"
   ]
  },
  {
   "cell_type": "code",
   "execution_count": null,
   "id": "c4dcaede-acb0-4fa6-b3ae-ac67bc45db18",
   "metadata": {},
   "outputs": [],
   "source": [
    "response = query_engine.query(\"Tell me about candidates from University of Houston\")"
   ]
  },
  {
   "cell_type": "code",
   "execution_count": null,
   "id": "11a977c2-1a5e-454b-9afc-5476e9d6fc53",
   "metadata": {},
   "outputs": [
    {
     "data": {
      "text/plain": [
       "\"The candidate from University of Houston has a Bachelor's degree in accounting and graduated Cum Laude in 2005. They have 10 years of experience, with roles including Accountant, Tax Accountant, and Accounting Manager. They have worked in various locations, including Houston. They have strong technical skills, including proficiency in Adobe Reader, Drake, Ultra Tax, TurboTax, Microsoft Office, XP Windows Professional, Windows 7, Windows 8, PeopleSoft, and QuickBooks. They are a quick learner, team-oriented, detail-oriented, focused on deadlines, have good analytical and strong management skills, and have the ability to manage multiple tasks. They also have excellent communication skills.\""
      ]
     },
     "execution_count": null,
     "metadata": {},
     "output_type": "execute_result"
    }
   ],
   "source": [
    "response.response"
   ]
  },
  {
   "cell_type": "code",
   "execution_count": null,
   "id": "d21b86f5-494b-48bc-af0c-d61e9ff560fd",
   "metadata": {},
   "outputs": [
    {
     "data": {
      "text/plain": [
       "\"SELECT * FROM items WHERE education LIKE '%University of Houston%';\""
      ]
     },
     "execution_count": null,
     "metadata": {},
     "output_type": "execute_result"
    }
   ],
   "source": [
    "response.metadata[\"sql_query\"]"
   ]
  }
 ],
 "metadata": {
  "kernelspec": {
   "display_name": "Python 3 (ipykernel)",
   "language": "python",
   "name": "python3"
  },
  "language_info": {
   "codemirror_mode": {
    "name": "ipython",
    "version": 3
   },
   "file_extension": ".py",
   "mimetype": "text/x-python",
   "name": "python",
   "nbconvert_exporter": "python",
   "pygments_lexer": "ipython3"
  }
 },
 "nbformat": 4,
 "nbformat_minor": 5
}
