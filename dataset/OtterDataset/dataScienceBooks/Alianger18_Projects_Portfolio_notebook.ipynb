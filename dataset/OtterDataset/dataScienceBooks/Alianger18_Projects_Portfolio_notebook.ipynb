{
 "cells": [
  {
   "metadata": {},
   "cell_type": "markdown",
   "source": [
    "# <center> Data Warehouse Project <center/>\n",
    "<center> DLBDSEBI02 - Business Intelligence's Project <center/>\n",
    "<center> IU International University of Applied Sciences <center/>"
   ],
   "id": "a620d4f7b7e7bc1e"
  },
  {
   "metadata": {},
   "cell_type": "markdown",
   "source": [
    "# Aim\n",
    "We aim to provide an optimal Business Intelligence (BI) architecture by developing a Data Warehouse (DWH) system. This involves identifying source systems, such as operational and departmental systems, to provide data for the DWH. A suitable DWH architecture will be proposed by evaluating different variants and discussing their pros and cons. Additionally, one key performance indicator (KPI) will be selected, and the required Extract, Transform, Load (ETL) process will be explained. The goal is to enhance transparency, implement KPIs, and reduce manual data consolidation across departments."
   ],
   "id": "6abd75e9d3956b74"
  },
  {
   "metadata": {},
   "cell_type": "markdown",
   "source": [
    "# List of contents :\n",
    "1. __Introduction__\n",
    "2. __The Data Warehouse Architecture__\n",
    "3. __Visualizing the Data__\n",
    "4. __Summary__"
   ],
   "id": "79ee18046ed194fc"
  },
  {
   "metadata": {},
   "cell_type": "markdown",
   "source": "Initiating the project with loading the required libraries ",
   "id": "c5ab66598f09bbcb"
  },
  {
   "cell_type": "code",
   "id": "initial_id",
   "metadata": {
    "ExecuteTime": {
     "end_time": "2024-09-14T19:58:04.335828Z",
     "start_time": "2024-09-14T19:58:04.327596Z"
    }
   },
   "source": [
    "# Importing libraries\n",
    "import pandas as pd\n",
    "import psycopg2\n",
    "import warnings\n",
    "\n",
    "# Ignore useless warnings\n",
    "warnings.filterwarnings('ignore')"
   ],
   "outputs": [],
   "execution_count": 2
  },
  {
   "metadata": {},
   "cell_type": "markdown",
   "source": [
    "### 1. Introduction\n",
    "\n",
    "In this notebook, we illustrate how the Data Warehouse delivers structured, cleaned, and non-redundant datasets for Business Intelligence Solutions. An example of how the Sales Data Mart is conceptualized, populated, and the process of deriving the Sales KPI is provided.\n"
   ],
   "id": "c06193942c263bd4"
  },
  {
   "metadata": {},
   "cell_type": "markdown",
   "source": [
    "### 2. The Data Warehouse Architecture\n",
    "A Data warehouse typically consists of four __LAYERS__ similar to the following:"
   ],
   "id": "1c59507c3e53c3e6"
  },
  {
   "metadata": {},
   "cell_type": "markdown",
   "source": "![Local Image](./figures/Figure%201.png)",
   "id": "a604c477a6046114"
  },
  {
   "metadata": {},
   "cell_type": "markdown",
   "source": "From our perspective, we decided to use the following architecture in the cloud for better results using AWS services",
   "id": "412f3369efb47a0c"
  },
  {
   "metadata": {},
   "cell_type": "markdown",
   "source": "![Local Image](./figures/Figure%202.png)",
   "id": "db02232907851f9c"
  },
  {
   "metadata": {},
   "cell_type": "markdown",
   "source": "#### 2.1. Data Marts Architecture ",
   "id": "237a3116d2c6abe5"
  },
  {
   "metadata": {},
   "cell_type": "markdown",
   "source": "As explained by the analysis in the __Project Report__, we agreed on using the architecture of Data Mart's Bus. In other words, we'll create approximately similar data marts across departments using the same policies and technologies, aiming to create a big and coherent Data Warehouse soon. We'll provide the example of the Sales Department, in which we use the following __STAR SCHEMA__.",
   "id": "af7ad5405ff233f9"
  },
  {
   "metadata": {},
   "cell_type": "markdown",
   "source": "![Local Image](./figures/Figure%203.png)",
   "id": "f11bfd53ce56fc68"
  },
  {
   "metadata": {},
   "cell_type": "markdown",
   "source": "#### 2.2. The Dimensions and fact tables",
   "id": "791ab8f60405d22a"
  },
  {
   "metadata": {},
   "cell_type": "markdown",
   "source": "Using the script __main_db.sql__, The aforementioned database, schema, and tables were created. After populating these tables with data in the appropriate format, we can use the following script to generate a full data set out of the table __my_fact_transactions__.",
   "id": "bf678a2154e3d389"
  },
  {
   "metadata": {
    "ExecuteTime": {
     "end_time": "2024-09-14T19:58:04.497800Z",
     "start_time": "2024-09-14T19:58:04.396760Z"
    }
   },
   "cell_type": "code",
   "source": [
    "# Connect to the database\n",
    "connection = psycopg2.connect(dbname=\"fedor_warehouse\",\n",
    "                              user=\"postgres\",\n",
    "                              password=\"postgres\",\n",
    "                              host=\"localhost\",\n",
    "                              port=\"5433\" # Default is 5432\n",
    "                              )\n",
    "\n",
    "cursor = connection.cursor() \n",
    "\n",
    "# Let's get the version of the database\n",
    "cursor.execute(\"SELECT version();\")\n",
    "    \n",
    "# Fetch the response\n",
    "db_version = cursor.fetchone() \n",
    "    \n",
    "# Print the response\n",
    "print(f\"Connected to {db_version[0]}\")"
   ],
   "id": "5d68f867ab5510f0",
   "outputs": [
    {
     "name": "stdout",
     "output_type": "stream",
     "text": [
      "Connected to PostgreSQL 16.0, compiled by Visual C++ build 1935, 64-bit\n"
     ]
    }
   ],
   "execution_count": 3
  },
  {
   "metadata": {},
   "cell_type": "markdown",
   "source": [
    "Now, we delve into getting the data from the data mart. Either can handle this process : \n",
    "* __SQL__ by merging the tables on their respective IDs than retrieving it.\n",
    "* __Python__ by manipulating the retrieved data from the tables into one large dataset."
   ],
   "id": "18b640cb208c6418"
  },
  {
   "metadata": {},
   "cell_type": "markdown",
   "source": "In our case, I chose to do it using the Pandas library in Python",
   "id": "1e1b12a19ace2b2d"
  },
  {
   "metadata": {
    "ExecuteTime": {
     "end_time": "2024-09-14T19:58:04.660774Z",
     "start_time": "2024-09-14T19:58:04.617227Z"
    }
   },
   "cell_type": "code",
   "source": [
    "# Load the addresses data \n",
    "addresses = pd.read_csv('./data/my_dim_address.csv')\n",
    "\n",
    "# Print its info\n",
    "addresses.info()"
   ],
   "id": "535fc791a91bf52b",
   "outputs": [
    {
     "name": "stdout",
     "output_type": "stream",
     "text": [
      "<class 'pandas.core.frame.DataFrame'>\n",
      "RangeIndex: 300 entries, 0 to 299\n",
      "Data columns (total 7 columns):\n",
      " #   Column      Non-Null Count  Dtype  \n",
      "---  ------      --------------  -----  \n",
      " 0   address_id  300 non-null    int64  \n",
      " 1   zip_code    300 non-null    int64  \n",
      " 2   street      300 non-null    object \n",
      " 3   city        300 non-null    object \n",
      " 4   country     300 non-null    object \n",
      " 5   latitude    300 non-null    float64\n",
      " 6   longitude   300 non-null    float64\n",
      "dtypes: float64(2), int64(2), object(3)\n",
      "memory usage: 16.5+ KB\n"
     ]
    }
   ],
   "execution_count": 4
  },
  {
   "metadata": {
    "ExecuteTime": {
     "end_time": "2024-09-14T19:58:04.792730Z",
     "start_time": "2024-09-14T19:58:04.771369Z"
    }
   },
   "cell_type": "code",
   "source": [
    "# Load the dates' table\n",
    "dates = pd.read_csv('./data/my_dim_date.csv')\n",
    "\n",
    "# Print its info\n",
    "dates.info()"
   ],
   "id": "bed34da2c26152c3",
   "outputs": [
    {
     "name": "stdout",
     "output_type": "stream",
     "text": [
      "<class 'pandas.core.frame.DataFrame'>\n",
      "RangeIndex: 546 entries, 0 to 545\n",
      "Data columns (total 10 columns):\n",
      " #   Column        Non-Null Count  Dtype \n",
      "---  ------        --------------  ----- \n",
      " 0   date_id       546 non-null    int64 \n",
      " 1   date          546 non-null    object\n",
      " 2   year          546 non-null    int64 \n",
      " 3   quarter       546 non-null    int64 \n",
      " 4   quarter_name  546 non-null    object\n",
      " 5   month         546 non-null    int64 \n",
      " 6   month_name    546 non-null    object\n",
      " 7   day           546 non-null    int64 \n",
      " 8   weekday       546 non-null    int64 \n",
      " 9   weekday_name  546 non-null    object\n",
      "dtypes: int64(6), object(4)\n",
      "memory usage: 42.8+ KB\n"
     ]
    }
   ],
   "execution_count": 5
  },
  {
   "metadata": {
    "ExecuteTime": {
     "end_time": "2024-09-14T19:58:04.969278Z",
     "start_time": "2024-09-14T19:58:04.937440Z"
    }
   },
   "cell_type": "code",
   "source": [
    "# Load the invoices' data\n",
    "invoices = pd.read_csv('./data/my_dim_invoice.csv')\n",
    "\n",
    "# Print its info\n",
    "invoices.info()"
   ],
   "id": "1d170f53b853ffad",
   "outputs": [
    {
     "name": "stdout",
     "output_type": "stream",
     "text": [
      "<class 'pandas.core.frame.DataFrame'>\n",
      "RangeIndex: 5001 entries, 0 to 5000\n",
      "Data columns (total 2 columns):\n",
      " #   Column          Non-Null Count  Dtype  \n",
      "---  ------          --------------  -----  \n",
      " 0   invoice_id      5001 non-null   int64  \n",
      " 1   invoice_amount  5001 non-null   float64\n",
      "dtypes: float64(1), int64(1)\n",
      "memory usage: 78.3 KB\n"
     ]
    }
   ],
   "execution_count": 6
  },
  {
   "metadata": {
    "ExecuteTime": {
     "end_time": "2024-09-14T19:58:05.043619Z",
     "start_time": "2024-09-14T19:58:05.022767Z"
    }
   },
   "cell_type": "code",
   "source": [
    "# Loading the customers data\n",
    "customers = pd.read_csv('./data/my_dim_customer.csv')\n",
    "\n",
    "# Print its info\n",
    "customers.info()"
   ],
   "id": "5d26606ac1942d80",
   "outputs": [
    {
     "name": "stdout",
     "output_type": "stream",
     "text": [
      "<class 'pandas.core.frame.DataFrame'>\n",
      "RangeIndex: 300 entries, 0 to 299\n",
      "Data columns (total 4 columns):\n",
      " #   Column               Non-Null Count  Dtype \n",
      "---  ------               --------------  ----- \n",
      " 0   customer_id          300 non-null    int64 \n",
      " 1   customer_first_name  300 non-null    object\n",
      " 2   customer_last_name   300 non-null    object\n",
      " 3   customer_mail        300 non-null    object\n",
      "dtypes: int64(1), object(3)\n",
      "memory usage: 9.5+ KB\n"
     ]
    }
   ],
   "execution_count": 7
  },
  {
   "metadata": {
    "ExecuteTime": {
     "end_time": "2024-09-14T19:58:05.113417Z",
     "start_time": "2024-09-14T19:58:05.087194Z"
    }
   },
   "cell_type": "code",
   "source": [
    "# Load the products' data\n",
    "products = pd.read_csv('./data/my_dim_products.csv')\n",
    "\n",
    "# Print its info\n",
    "products.info()"
   ],
   "id": "93bc83ac56988eae",
   "outputs": [
    {
     "name": "stdout",
     "output_type": "stream",
     "text": [
      "<class 'pandas.core.frame.DataFrame'>\n",
      "RangeIndex: 3000 entries, 0 to 2999\n",
      "Data columns (total 3 columns):\n",
      " #   Column               Non-Null Count  Dtype  \n",
      "---  ------               --------------  -----  \n",
      " 0   product_id           3000 non-null   int64  \n",
      " 1   product_description  3000 non-null   object \n",
      " 2   unit_price           3000 non-null   float64\n",
      "dtypes: float64(1), int64(1), object(1)\n",
      "memory usage: 70.4+ KB\n"
     ]
    }
   ],
   "execution_count": 8
  },
  {
   "metadata": {
    "ExecuteTime": {
     "end_time": "2024-09-14T19:58:05.649576Z",
     "start_time": "2024-09-14T19:58:05.195955Z"
    }
   },
   "cell_type": "code",
   "source": [
    "# Load the transaction's data\n",
    "transactions = pd.read_csv('./data/my_fact_transactions.csv')\n",
    "\n",
    "# Print its info\n",
    "transactions.info()"
   ],
   "id": "af7ba1a99a50e8ef",
   "outputs": [
    {
     "name": "stdout",
     "output_type": "stream",
     "text": [
      "<class 'pandas.core.frame.DataFrame'>\n",
      "RangeIndex: 500000 entries, 0 to 499999\n",
      "Data columns (total 8 columns):\n",
      " #   Column              Non-Null Count   Dtype  \n",
      "---  ------              --------------   -----  \n",
      " 0   transaction_id      500000 non-null  int64  \n",
      " 1   quantity            500000 non-null  int64  \n",
      " 2   transaction_amount  500000 non-null  float64\n",
      " 3   date_id             500000 non-null  int64  \n",
      " 4   product_id          500000 non-null  int64  \n",
      " 5   address_id          500000 non-null  int64  \n",
      " 6   customer_id         500000 non-null  int64  \n",
      " 7   invoice_id          500000 non-null  int64  \n",
      "dtypes: float64(1), int64(7)\n",
      "memory usage: 30.5 MB\n"
     ]
    }
   ],
   "execution_count": 9
  },
  {
   "metadata": {},
   "cell_type": "markdown",
   "source": "The previous data was all the dimensions we made in the __Sales__ Data Mart. Now, we delve to the fact tables: __Transactions__",
   "id": "a8f586bd75995359"
  },
  {
   "metadata": {
    "ExecuteTime": {
     "end_time": "2024-09-14T19:58:07.576318Z",
     "start_time": "2024-09-14T19:58:05.687526Z"
    }
   },
   "cell_type": "code",
   "source": [
    "# Merge the fact table with dimension tables based on foreign keys\n",
    "merged_df = pd.merge(transactions, dates, on='date_id', how='inner')\n",
    "merged_df = pd.merge(merged_df, addresses, on='address_id', how='inner')\n",
    "merged_df = pd.merge(merged_df, customers, on='customer_id', how='inner')\n",
    "merged_df = pd.merge(merged_df, products, on='product_id', how='inner')\n",
    "merged_df = pd.merge(merged_df, invoices, on='invoice_id', how='inner')\n",
    "\n",
    "# Drop the ID columns\n",
    "df = merged_df.drop(columns=['date_id', 'address_id', 'customer_id', 'product_id', 'invoice_id'])\n",
    "\n",
    "# Print the first few rows\n",
    "df.head(10)"
   ],
   "id": "e384fee796776c7b",
   "outputs": [
    {
     "data": {
      "text/plain": [
       "   transaction_id  quantity  transaction_amount        date  year  quarter  \\\n",
       "0               1         1                1.95  17/04/2023  2023        2   \n",
       "1          117047         7               14.70  29/09/2022  2022        3   \n",
       "2          490593         1                2.10  03/10/2022  2022        4   \n",
       "3           89403         4               50.00  18/02/2023  2023        1   \n",
       "4          475625         8               33.04  14/05/2022  2022        2   \n",
       "5           25297         3                4.98  01/06/2023  2023        2   \n",
       "6          163338         2                1.70  18/01/2022  2022        1   \n",
       "7          424778         9               71.55  13/07/2022  2022        3   \n",
       "8          480774         5               39.75  11/03/2022  2022        1   \n",
       "9          141095         9               11.25  13/04/2022  2022        2   \n",
       "\n",
       "  quarter_name  month month_name  day  ...       city         country  \\\n",
       "0           Q2      4      April   17  ...  Stuttgart         Germany   \n",
       "1           Q3      9  September   29  ...      Basel     Switzerland   \n",
       "2           Q4     10    October    3  ...    Cologne         Germany   \n",
       "3           Q1      2   February   18  ...  Frankfurt         Germany   \n",
       "4           Q2      5        May   14  ...    Cologne         Germany   \n",
       "5           Q2      6       June    1  ...    Glasgow  United Kingdom   \n",
       "6           Q1      1    January   18  ...  Amsterdam     Netherlands   \n",
       "7           Q3      7       July   13  ...  Edinburgh  United Kingdom   \n",
       "8           Q1      3      March   11  ...  Stuttgart         Germany   \n",
       "9           Q2      4      April   13  ...  Liverpool  United Kingdom   \n",
       "\n",
       "   latitude longitude customer_first_name customer_last_name  \\\n",
       "0   48.7775    9.1800            Benjamin              Brown   \n",
       "1   47.5606    7.5906              Sophia             Taylor   \n",
       "2   50.9422    6.9578                John             Turner   \n",
       "3   50.1106    8.6822           Alexander             Turner   \n",
       "4   50.9422    6.9578           Sebastian           Anderson   \n",
       "5   55.8611   -4.2500              Sophia              Green   \n",
       "6   52.3728    4.8936              Olivia           Thompson   \n",
       "7   55.9533   -3.1892             Abigail             Martin   \n",
       "8   48.7775    9.1800                John              Green   \n",
       "9   53.4075   -2.9919              Elijah           Campbell   \n",
       "\n",
       "                 customer_mail                product_description unit_price  \\\n",
       "0      Benjamin.Brown@mail.com   PACK 3 BOXES CHRISTMAS PANNETONE       1.95   \n",
       "1       Sophia.Taylor@mail.com  GROW YOUR OWN BASIL IN ENAMEL MUG       2.10   \n",
       "2         John.Turner@mail.com  GROW YOUR OWN BASIL IN ENAMEL MUG       2.10   \n",
       "3    Alexander.Turner@mail.com       LANDMARK FRAME NOTTING HILL       12.50   \n",
       "4  Sebastian.Anderson@mail.com     FAIRY TALE COTTAGE NIGHT LIGHT       4.13   \n",
       "5        Sophia.Green@mail.com     PARTY PIZZA DISH BLUE POLKADOT       1.66   \n",
       "6     Olivia.Thompson@mail.com          LETTER  L  BLING KEY RING       0.85   \n",
       "7      Abigail.Martin@mail.com    ICE CREAM DESIGN GARDEN PARASOL       7.95   \n",
       "8          John.Green@mail.com    ICE CREAM DESIGN GARDEN PARASOL       7.95   \n",
       "9     Elijah.Campbell@mail.com       CRAZY DAISY HEART DECORATION       1.25   \n",
       "\n",
       "  invoice_amount  \n",
       "0        1558.84  \n",
       "1        1558.84  \n",
       "2        1558.84  \n",
       "3        1558.84  \n",
       "4        1558.84  \n",
       "5        1558.84  \n",
       "6        1558.84  \n",
       "7        1558.84  \n",
       "8        1558.84  \n",
       "9        1558.84  \n",
       "\n",
       "[10 rows x 24 columns]"
      ],
      "text/html": [
       "<div>\n",
       "<style scoped>\n",
       "    .dataframe tbody tr th:only-of-type {\n",
       "        vertical-align: middle;\n",
       "    }\n",
       "\n",
       "    .dataframe tbody tr th {\n",
       "        vertical-align: top;\n",
       "    }\n",
       "\n",
       "    .dataframe thead th {\n",
       "        text-align: right;\n",
       "    }\n",
       "</style>\n",
       "<table border=\"1\" class=\"dataframe\">\n",
       "  <thead>\n",
       "    <tr style=\"text-align: right;\">\n",
       "      <th></th>\n",
       "      <th>transaction_id</th>\n",
       "      <th>quantity</th>\n",
       "      <th>transaction_amount</th>\n",
       "      <th>date</th>\n",
       "      <th>year</th>\n",
       "      <th>quarter</th>\n",
       "      <th>quarter_name</th>\n",
       "      <th>month</th>\n",
       "      <th>month_name</th>\n",
       "      <th>day</th>\n",
       "      <th>...</th>\n",
       "      <th>city</th>\n",
       "      <th>country</th>\n",
       "      <th>latitude</th>\n",
       "      <th>longitude</th>\n",
       "      <th>customer_first_name</th>\n",
       "      <th>customer_last_name</th>\n",
       "      <th>customer_mail</th>\n",
       "      <th>product_description</th>\n",
       "      <th>unit_price</th>\n",
       "      <th>invoice_amount</th>\n",
       "    </tr>\n",
       "  </thead>\n",
       "  <tbody>\n",
       "    <tr>\n",
       "      <th>0</th>\n",
       "      <td>1</td>\n",
       "      <td>1</td>\n",
       "      <td>1.95</td>\n",
       "      <td>17/04/2023</td>\n",
       "      <td>2023</td>\n",
       "      <td>2</td>\n",
       "      <td>Q2</td>\n",
       "      <td>4</td>\n",
       "      <td>April</td>\n",
       "      <td>17</td>\n",
       "      <td>...</td>\n",
       "      <td>Stuttgart</td>\n",
       "      <td>Germany</td>\n",
       "      <td>48.7775</td>\n",
       "      <td>9.1800</td>\n",
       "      <td>Benjamin</td>\n",
       "      <td>Brown</td>\n",
       "      <td>Benjamin.Brown@mail.com</td>\n",
       "      <td>PACK 3 BOXES CHRISTMAS PANNETONE</td>\n",
       "      <td>1.95</td>\n",
       "      <td>1558.84</td>\n",
       "    </tr>\n",
       "    <tr>\n",
       "      <th>1</th>\n",
       "      <td>117047</td>\n",
       "      <td>7</td>\n",
       "      <td>14.70</td>\n",
       "      <td>29/09/2022</td>\n",
       "      <td>2022</td>\n",
       "      <td>3</td>\n",
       "      <td>Q3</td>\n",
       "      <td>9</td>\n",
       "      <td>September</td>\n",
       "      <td>29</td>\n",
       "      <td>...</td>\n",
       "      <td>Basel</td>\n",
       "      <td>Switzerland</td>\n",
       "      <td>47.5606</td>\n",
       "      <td>7.5906</td>\n",
       "      <td>Sophia</td>\n",
       "      <td>Taylor</td>\n",
       "      <td>Sophia.Taylor@mail.com</td>\n",
       "      <td>GROW YOUR OWN BASIL IN ENAMEL MUG</td>\n",
       "      <td>2.10</td>\n",
       "      <td>1558.84</td>\n",
       "    </tr>\n",
       "    <tr>\n",
       "      <th>2</th>\n",
       "      <td>490593</td>\n",
       "      <td>1</td>\n",
       "      <td>2.10</td>\n",
       "      <td>03/10/2022</td>\n",
       "      <td>2022</td>\n",
       "      <td>4</td>\n",
       "      <td>Q4</td>\n",
       "      <td>10</td>\n",
       "      <td>October</td>\n",
       "      <td>3</td>\n",
       "      <td>...</td>\n",
       "      <td>Cologne</td>\n",
       "      <td>Germany</td>\n",
       "      <td>50.9422</td>\n",
       "      <td>6.9578</td>\n",
       "      <td>John</td>\n",
       "      <td>Turner</td>\n",
       "      <td>John.Turner@mail.com</td>\n",
       "      <td>GROW YOUR OWN BASIL IN ENAMEL MUG</td>\n",
       "      <td>2.10</td>\n",
       "      <td>1558.84</td>\n",
       "    </tr>\n",
       "    <tr>\n",
       "      <th>3</th>\n",
       "      <td>89403</td>\n",
       "      <td>4</td>\n",
       "      <td>50.00</td>\n",
       "      <td>18/02/2023</td>\n",
       "      <td>2023</td>\n",
       "      <td>1</td>\n",
       "      <td>Q1</td>\n",
       "      <td>2</td>\n",
       "      <td>February</td>\n",
       "      <td>18</td>\n",
       "      <td>...</td>\n",
       "      <td>Frankfurt</td>\n",
       "      <td>Germany</td>\n",
       "      <td>50.1106</td>\n",
       "      <td>8.6822</td>\n",
       "      <td>Alexander</td>\n",
       "      <td>Turner</td>\n",
       "      <td>Alexander.Turner@mail.com</td>\n",
       "      <td>LANDMARK FRAME NOTTING HILL</td>\n",
       "      <td>12.50</td>\n",
       "      <td>1558.84</td>\n",
       "    </tr>\n",
       "    <tr>\n",
       "      <th>4</th>\n",
       "      <td>475625</td>\n",
       "      <td>8</td>\n",
       "      <td>33.04</td>\n",
       "      <td>14/05/2022</td>\n",
       "      <td>2022</td>\n",
       "      <td>2</td>\n",
       "      <td>Q2</td>\n",
       "      <td>5</td>\n",
       "      <td>May</td>\n",
       "      <td>14</td>\n",
       "      <td>...</td>\n",
       "      <td>Cologne</td>\n",
       "      <td>Germany</td>\n",
       "      <td>50.9422</td>\n",
       "      <td>6.9578</td>\n",
       "      <td>Sebastian</td>\n",
       "      <td>Anderson</td>\n",
       "      <td>Sebastian.Anderson@mail.com</td>\n",
       "      <td>FAIRY TALE COTTAGE NIGHT LIGHT</td>\n",
       "      <td>4.13</td>\n",
       "      <td>1558.84</td>\n",
       "    </tr>\n",
       "    <tr>\n",
       "      <th>5</th>\n",
       "      <td>25297</td>\n",
       "      <td>3</td>\n",
       "      <td>4.98</td>\n",
       "      <td>01/06/2023</td>\n",
       "      <td>2023</td>\n",
       "      <td>2</td>\n",
       "      <td>Q2</td>\n",
       "      <td>6</td>\n",
       "      <td>June</td>\n",
       "      <td>1</td>\n",
       "      <td>...</td>\n",
       "      <td>Glasgow</td>\n",
       "      <td>United Kingdom</td>\n",
       "      <td>55.8611</td>\n",
       "      <td>-4.2500</td>\n",
       "      <td>Sophia</td>\n",
       "      <td>Green</td>\n",
       "      <td>Sophia.Green@mail.com</td>\n",
       "      <td>PARTY PIZZA DISH BLUE POLKADOT</td>\n",
       "      <td>1.66</td>\n",
       "      <td>1558.84</td>\n",
       "    </tr>\n",
       "    <tr>\n",
       "      <th>6</th>\n",
       "      <td>163338</td>\n",
       "      <td>2</td>\n",
       "      <td>1.70</td>\n",
       "      <td>18/01/2022</td>\n",
       "      <td>2022</td>\n",
       "      <td>1</td>\n",
       "      <td>Q1</td>\n",
       "      <td>1</td>\n",
       "      <td>January</td>\n",
       "      <td>18</td>\n",
       "      <td>...</td>\n",
       "      <td>Amsterdam</td>\n",
       "      <td>Netherlands</td>\n",
       "      <td>52.3728</td>\n",
       "      <td>4.8936</td>\n",
       "      <td>Olivia</td>\n",
       "      <td>Thompson</td>\n",
       "      <td>Olivia.Thompson@mail.com</td>\n",
       "      <td>LETTER  L  BLING KEY RING</td>\n",
       "      <td>0.85</td>\n",
       "      <td>1558.84</td>\n",
       "    </tr>\n",
       "    <tr>\n",
       "      <th>7</th>\n",
       "      <td>424778</td>\n",
       "      <td>9</td>\n",
       "      <td>71.55</td>\n",
       "      <td>13/07/2022</td>\n",
       "      <td>2022</td>\n",
       "      <td>3</td>\n",
       "      <td>Q3</td>\n",
       "      <td>7</td>\n",
       "      <td>July</td>\n",
       "      <td>13</td>\n",
       "      <td>...</td>\n",
       "      <td>Edinburgh</td>\n",
       "      <td>United Kingdom</td>\n",
       "      <td>55.9533</td>\n",
       "      <td>-3.1892</td>\n",
       "      <td>Abigail</td>\n",
       "      <td>Martin</td>\n",
       "      <td>Abigail.Martin@mail.com</td>\n",
       "      <td>ICE CREAM DESIGN GARDEN PARASOL</td>\n",
       "      <td>7.95</td>\n",
       "      <td>1558.84</td>\n",
       "    </tr>\n",
       "    <tr>\n",
       "      <th>8</th>\n",
       "      <td>480774</td>\n",
       "      <td>5</td>\n",
       "      <td>39.75</td>\n",
       "      <td>11/03/2022</td>\n",
       "      <td>2022</td>\n",
       "      <td>1</td>\n",
       "      <td>Q1</td>\n",
       "      <td>3</td>\n",
       "      <td>March</td>\n",
       "      <td>11</td>\n",
       "      <td>...</td>\n",
       "      <td>Stuttgart</td>\n",
       "      <td>Germany</td>\n",
       "      <td>48.7775</td>\n",
       "      <td>9.1800</td>\n",
       "      <td>John</td>\n",
       "      <td>Green</td>\n",
       "      <td>John.Green@mail.com</td>\n",
       "      <td>ICE CREAM DESIGN GARDEN PARASOL</td>\n",
       "      <td>7.95</td>\n",
       "      <td>1558.84</td>\n",
       "    </tr>\n",
       "    <tr>\n",
       "      <th>9</th>\n",
       "      <td>141095</td>\n",
       "      <td>9</td>\n",
       "      <td>11.25</td>\n",
       "      <td>13/04/2022</td>\n",
       "      <td>2022</td>\n",
       "      <td>2</td>\n",
       "      <td>Q2</td>\n",
       "      <td>4</td>\n",
       "      <td>April</td>\n",
       "      <td>13</td>\n",
       "      <td>...</td>\n",
       "      <td>Liverpool</td>\n",
       "      <td>United Kingdom</td>\n",
       "      <td>53.4075</td>\n",
       "      <td>-2.9919</td>\n",
       "      <td>Elijah</td>\n",
       "      <td>Campbell</td>\n",
       "      <td>Elijah.Campbell@mail.com</td>\n",
       "      <td>CRAZY DAISY HEART DECORATION</td>\n",
       "      <td>1.25</td>\n",
       "      <td>1558.84</td>\n",
       "    </tr>\n",
       "  </tbody>\n",
       "</table>\n",
       "<p>10 rows × 24 columns</p>\n",
       "</div>"
      ]
     },
     "execution_count": 10,
     "metadata": {},
     "output_type": "execute_result"
    }
   ],
   "execution_count": 10
  },
  {
   "metadata": {},
   "cell_type": "markdown",
   "source": "__Important__ : The previous data is saved in the _data_ folder of this project. The following data set isn't included in the aforementioned folder due to its large size. However. You can always build it using the previous script.",
   "id": "fd0fcf0f31e4ac19"
  },
  {
   "metadata": {
    "ExecuteTime": {
     "end_time": "2024-09-14T19:58:08.197019Z",
     "start_time": "2024-09-14T19:58:07.944478Z"
    }
   },
   "cell_type": "code",
   "source": [
    "# Generates the full dataset\n",
    "# NOTE: Uncomment the following line and specify the path you want\n",
    "# df.to_csv(\"Your preferred PATH.csv\", index=False) \n",
    "\n",
    "print(df.info())"
   ],
   "id": "9cc5d6b73a1ca45c",
   "outputs": [
    {
     "name": "stdout",
     "output_type": "stream",
     "text": [
      "<class 'pandas.core.frame.DataFrame'>\n",
      "RangeIndex: 500000 entries, 0 to 499999\n",
      "Data columns (total 24 columns):\n",
      " #   Column               Non-Null Count   Dtype  \n",
      "---  ------               --------------   -----  \n",
      " 0   transaction_id       500000 non-null  int64  \n",
      " 1   quantity             500000 non-null  int64  \n",
      " 2   transaction_amount   500000 non-null  float64\n",
      " 3   date                 500000 non-null  object \n",
      " 4   year                 500000 non-null  int64  \n",
      " 5   quarter              500000 non-null  int64  \n",
      " 6   quarter_name         500000 non-null  object \n",
      " 7   month                500000 non-null  int64  \n",
      " 8   month_name           500000 non-null  object \n",
      " 9   day                  500000 non-null  int64  \n",
      " 10  weekday              500000 non-null  int64  \n",
      " 11  weekday_name         500000 non-null  object \n",
      " 12  zip_code             500000 non-null  int64  \n",
      " 13  street               500000 non-null  object \n",
      " 14  city                 500000 non-null  object \n",
      " 15  country              500000 non-null  object \n",
      " 16  latitude             500000 non-null  float64\n",
      " 17  longitude            500000 non-null  float64\n",
      " 18  customer_first_name  500000 non-null  object \n",
      " 19  customer_last_name   500000 non-null  object \n",
      " 20  customer_mail        500000 non-null  object \n",
      " 21  product_description  500000 non-null  object \n",
      " 22  unit_price           500000 non-null  float64\n",
      " 23  invoice_amount       500000 non-null  float64\n",
      "dtypes: float64(5), int64(8), object(11)\n",
      "memory usage: 91.6+ MB\n",
      "None\n"
     ]
    }
   ],
   "execution_count": 11
  },
  {
   "metadata": {},
   "cell_type": "markdown",
   "source": [
    "### 4. Visualizing the Data\n",
    "In this phase, the data set is available to build our __Interactive Dashboard__ and a wide range of options is available. I chose to use IBM Cognos Analytics for its simplicity and smoothness. With the data from the previous phase, the following dashboard was obtained :"
   ],
   "id": "1d15bacda7261fd8"
  },
  {
   "metadata": {},
   "cell_type": "markdown",
   "source": "![Local Image](./figures/Figure%204.png)",
   "id": "80bcfb27f3b4550b"
  },
  {
   "metadata": {},
   "cell_type": "markdown",
   "source": "### 5. Summary\n",
   "id": "2a457d9a2bdc1a46"
  },
  {
   "metadata": {},
   "cell_type": "markdown",
   "source": "The Data Warehouses and Business Intelligence are crucial techniques not only for large companies but specifically for small and mid-size organizations and startups. They provide a whole overview on the health of the businesses and more importantly, keep their data or Goldmine safe.",
   "id": "c2fb3e686da69cad"
  },
  {
   "metadata": {},
   "cell_type": "markdown",
   "source": [
    "## About the Author\n",
    "<a href=\"https://www.linkedin.com/in/ab0858s/\">Abdelali BARIR</a> is a former veteran in the Moroccan's Royal Armed Forces, and a self-taught python programmer. Currently enrolled in B.Sc. Data Science in IU International University of Applied Sciences."
   ],
   "id": "d46b1236b9bfd743"
  },
  {
   "metadata": {},
   "cell_type": "markdown",
   "source": [
    "## Change Log\n",
    "| Date         | Version   | Changed By       | Change Description        |\n",
    "|--------------|-----------|------------------|---------------------------|\n",
    "| 2024-09-16   | 1.01      | Abdelali Barir   | Modified markdown         |\n",
    "| ------------ | --------- | ---------------- | ------------------------- |"
   ],
   "id": "9888425f51a7d306"
  }
 ],
 "metadata": {
  "kernelspec": {
   "display_name": "Python 3 (ipykernel)",
   "language": "python",
   "name": "python3"
  },
  "language_info": {
   "codemirror_mode": {
    "name": "ipython",
    "version": 3
   },
   "file_extension": ".py",
   "mimetype": "text/x-python",
   "name": "python",
   "nbconvert_exporter": "python",
   "pygments_lexer": "ipython3",
   "version": "3.9.18"
  }
 },
 "nbformat": 4,
 "nbformat_minor": 5
}
