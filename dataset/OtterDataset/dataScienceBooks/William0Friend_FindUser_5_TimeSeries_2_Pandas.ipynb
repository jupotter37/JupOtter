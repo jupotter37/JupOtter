{
 "cells": [
  {
   "cell_type": "markdown",
   "metadata": {},
   "source": [
    "# CPSC380: 5_TimeSeries_2_Pandas_DateTime\n",
    "\n",
    "In this notebook, you will learn the followings:\n",
    " - Numpy datetime\n",
    " - Pandas datetime objects (timestamp, time period, timedelta)\n",
    " - Date sequence generation\n",
    "\n",
    "Read more:\n",
    " - \"Python for Data Analysis\" textbook by Wes McKinney textbook (Chapter 11)\n",
    " - https://jakevdp.github.io/PythonDataScienceHandbook/03.11-working-with-time-series.html\n",
    " - https://towardsdatascience.com/timestamp-vs-timedelta-vs-time-period-afad0a48a7d1"
   ]
  },
  {
   "cell_type": "code",
   "execution_count": 60,
   "metadata": {},
   "outputs": [],
   "source": [
    "import numpy as np\n",
    "import pandas as pd\n",
    "import datetime"
   ]
  },
  {
   "cell_type": "markdown",
   "metadata": {},
   "source": [
    "## 1. NumPy's ``datetime64``\n",
    "\n",
    "The ``datetime64`` dtype encodes dates as 64-bit integers."
   ]
  },
  {
   "cell_type": "code",
   "execution_count": 61,
   "metadata": {},
   "outputs": [
    {
     "data": {
      "text/plain": [
       "array('2015-07-04', dtype='datetime64[D]')"
      ]
     },
     "execution_count": 61,
     "metadata": {},
     "output_type": "execute_result"
    }
   ],
   "source": [
    "date = np.array('2015-07-04', dtype=np.datetime64)\n",
    "date"
   ]
  },
  {
   "cell_type": "code",
   "execution_count": 62,
   "metadata": {},
   "outputs": [
    {
     "name": "stdout",
     "output_type": "stream",
     "text": [
      "<class 'numpy.ndarray'> <class 'numpy.dtype[datetime64]'> \n",
      "\n",
      "['__bool__', '__class__', '__delattr__', '__dir__', '__doc__', '__eq__', '__format__', '__ge__', '__getattribute__', '__getitem__', '__gt__', '__hash__', '__init__', '__init_subclass__', '__le__', '__len__', '__lt__', '__mul__', '__ne__', '__new__', '__reduce__', '__reduce_ex__', '__repr__', '__rmul__', '__setattr__', '__setstate__', '__sizeof__', '__str__', '__subclasshook__', 'alignment', 'base', 'byteorder', 'char', 'descr', 'fields', 'flags', 'hasobject', 'isalignedstruct', 'isbuiltin', 'isnative', 'itemsize', 'kind', 'metadata', 'name', 'names', 'ndim', 'newbyteorder', 'num', 'shape', 'str', 'subdtype', 'type']\n"
     ]
    }
   ],
   "source": [
    "print(type(date), type(date.dtype), \"\\n\")\n",
    "print(dir(date.dtype))"
   ]
  },
  {
   "cell_type": "code",
   "execution_count": null,
   "metadata": {},
   "outputs": [],
   "source": []
  },
  {
   "cell_type": "code",
   "execution_count": 63,
   "metadata": {},
   "outputs": [
    {
     "data": {
      "text/plain": [
       "array(['2015-07-04', '2015-07-05', '2015-07-06', '2015-07-07',\n",
       "       '2015-07-08', '2015-07-09', '2015-07-10', '2015-07-11',\n",
       "       '2015-07-12', '2015-07-13', '2015-07-14', '2015-07-15'],\n",
       "      dtype='datetime64[D]')"
      ]
     },
     "execution_count": 63,
     "metadata": {},
     "output_type": "execute_result"
    }
   ],
   "source": [
    "# do vectorized operations\n",
    "date + np.arange(12)"
   ]
  },
  {
   "cell_type": "code",
   "execution_count": 64,
   "metadata": {},
   "outputs": [
    {
     "name": "stdout",
     "output_type": "stream",
     "text": [
      "2015-07-04\n",
      "2015-07-04T12:00\n",
      "2015-07-04T12:59:59.500000000\n",
      "2023-04-04\n",
      "2023-04-04T15:27:57\n"
     ]
    }
   ],
   "source": [
    "# day-based datetime\n",
    "print(np.datetime64('2015-07-04'))\n",
    "\n",
    "# minute-based datetime\n",
    "print(np.datetime64('2015-07-04 12:00'))\n",
    "\n",
    "# nanosecond-based time\n",
    "print(np.datetime64('2015-07-04 12:59:59.50', 'ns'))\n",
    "\n",
    "print(np.datetime64('today')) # today's date\n",
    "print(np.datetime64('now')) # timestamp right now "
   ]
  },
  {
   "cell_type": "code",
   "execution_count": 65,
   "metadata": {},
   "outputs": [
    {
     "name": "stdout",
     "output_type": "stream",
     "text": [
      "<class 'numpy.dtype[timedelta64]'> 244654077 seconds\n"
     ]
    }
   ],
   "source": [
    "# timedelta\n",
    "diff=np.datetime64('now') - date\n",
    "print(type(diff.dtype), diff)"
   ]
  },
  {
   "cell_type": "markdown",
   "metadata": {},
   "source": [
    "## 2. Pandas time series data structure\n",
    "\n",
    "- **time stamps**: It is essentially a replacement for Python's native ``datetime``, but is based on the more efficient ``numpy.datetime64`` data type. The associated Index structure is ``DatetimeIndex``.\n",
    "- **time periods**: This encodes a fixed-frequency interval based on ``numpy.datetime64``. The associated index structure is ``PeriodIndex``.\n",
    "- **time deltas** : ``Timedelta`` is a more efficient replacement for Python's native ``datetime.timedelta`` type, and is based on ``numpy.timedelta64``. The associated index structure is ``TimedeltaIndex``."
   ]
  },
  {
   "cell_type": "markdown",
   "metadata": {},
   "source": [
    "### 2.1. Timestamp and DatetimeIndex\n",
    "\n",
    "Pandas Timestamp references to a specific instant in time that has nanosecond precision(one thousand-millionth of a second).\n",
    "\n",
    "**pd.Timestamp versus np.datetime64**:\n",
    "- **numpy.datetime64** is essentially a thin wrapper for **int64**. It has almost no date/time specific functionality.\n",
    "\n",
    "- **pd.Timestamp** is a wrapper around a **numpy.datetime64**. It is backed by the same int64 value, but supports the entire datetime.datetime interface, along with useful pandas-specific functionality."
   ]
  },
  {
   "cell_type": "code",
   "execution_count": 66,
   "metadata": {},
   "outputs": [
    {
     "name": "stdout",
     "output_type": "stream",
     "text": [
      "['__add__', '__array_priority__', '__class__', '__delattr__', '__dict__', '__dir__', '__doc__', '__eq__', '__format__', '__ge__', '__getattribute__', '__gt__', '__hash__', '__init__', '__init_subclass__', '__le__', '__lt__', '__module__', '__ne__', '__new__', '__pyx_vtable__', '__radd__', '__reduce__', '__reduce_cython__', '__reduce_ex__', '__repr__', '__rsub__', '__setattr__', '__setstate__', '__setstate_cython__', '__sizeof__', '__str__', '__sub__', '__subclasshook__', '__weakref__', '_date_repr', '_freq', '_freqstr', '_repr_base', '_round', '_set_freq', '_short_repr', '_time_repr', 'asm8', 'astimezone', 'ceil', 'combine', 'ctime', 'date', 'day', 'day_name', 'day_of_week', 'day_of_year', 'dayofweek', 'dayofyear', 'days_in_month', 'daysinmonth', 'dst', 'floor', 'fold', 'freq', 'freqstr', 'fromisoformat', 'fromordinal', 'fromtimestamp', 'hour', 'is_leap_year', 'is_month_end', 'is_month_start', 'is_quarter_end', 'is_quarter_start', 'is_year_end', 'is_year_start', 'isocalendar', 'isoformat', 'isoweekday', 'max', 'microsecond', 'min', 'minute', 'month', 'month_name', 'nanosecond', 'normalize', 'now', 'quarter', 'replace', 'resolution', 'round', 'second', 'strftime', 'strptime', 'time', 'timestamp', 'timetuple', 'timetz', 'to_datetime64', 'to_julian_date', 'to_numpy', 'to_period', 'to_pydatetime', 'today', 'toordinal', 'tz', 'tz_convert', 'tz_localize', 'tzinfo', 'tzname', 'utcfromtimestamp', 'utcnow', 'utcoffset', 'utctimetuple', 'value', 'week', 'weekday', 'weekofyear', 'year']\n"
     ]
    }
   ],
   "source": [
    "print(dir(pd.Timestamp))"
   ]
  },
  {
   "cell_type": "code",
   "execution_count": 67,
   "metadata": {},
   "outputs": [
    {
     "name": "stdout",
     "output_type": "stream",
     "text": [
      "2020-06-09 08:30:20.000079099\n",
      "2020-06-09 00:00:00\n",
      "2020-06-09 12:00:00\n",
      "2020-06-09 00:00:00\n",
      "2020-06-09 13:45:00\n",
      "2017-01-01 12:00:00\n",
      "1970-01-01 00:00:00.000000300\n"
     ]
    },
    {
     "data": {
      "text/plain": [
       "Timestamp('1970-01-01 00:00:01.513393355')"
      ]
     },
     "execution_count": 67,
     "metadata": {},
     "output_type": "execute_result"
    }
   ],
   "source": [
    "print(pd.Timestamp(year=2020, month=6, day=9, hour=8, minute=30, \n",
    "                   second=20, microsecond=79, nanosecond=99))\n",
    "print(pd.Timestamp('2020-6-9'))\n",
    "print(pd.Timestamp(2020, 6, 9, 12))\n",
    "print(pd.Timestamp('2020/6-9'))\n",
    "print(pd.Timestamp('June 9, 2020 13:45'))\n",
    "print(pd.Timestamp('2017-01-01T12'))\n",
    "print(pd.Timestamp(300))\n",
    "pd.Timestamp(1513393355.5)"
   ]
  },
  {
   "cell_type": "markdown",
   "metadata": {},
   "source": [
    "`Timestamp` and `DatetimeIndex` objects can be invoked directly, but it is more common to use the `pd.to_datetime()` function, which can parse a wide variety of formats. "
   ]
  },
  {
   "cell_type": "code",
   "execution_count": 68,
   "metadata": {},
   "outputs": [
    {
     "data": {
      "text/plain": [
       "Timestamp('2015-07-03 00:00:00')"
      ]
     },
     "execution_count": 68,
     "metadata": {},
     "output_type": "execute_result"
    }
   ],
   "source": [
    "# Passing a single date to pd.to_datetime() yields a Timestamp; \n",
    "date = pd.to_datetime(datetime.datetime(2015, 7, 3))\n",
    "date"
   ]
  },
  {
   "cell_type": "code",
   "execution_count": 69,
   "metadata": {},
   "outputs": [
    {
     "data": {
      "text/plain": [
       "DatetimeIndex(['2015-07-03', '2015-07-04', '2015-07-06', '2015-07-07',\n",
       "               '2015-07-08', '2008-07-08'],\n",
       "              dtype='datetime64[ns]', freq=None)"
      ]
     },
     "execution_count": 69,
     "metadata": {},
     "output_type": "execute_result"
    }
   ],
   "source": [
    "#passing a series of dates by default yields a DatetimeIndex:\n",
    "dates = pd.to_datetime([datetime.datetime(2015, 7, 3), '4th of July, 2015',\n",
    "                       '2015-Jul-6', '07-07-2015', '20150708', '20080708'])\n",
    "dates"
   ]
  },
  {
   "cell_type": "markdown",
   "metadata": {},
   "source": [
    "### 2.2. Timeperiod and PeriodIndex\n",
    "\n",
    "- Time Periods references a **specific length of time** between a start and end timestamp which is invariable and does not overlap.\n",
    "- A value and a frequency parameter are passed to the Period() constructor, the frequency parameter specified as freq takes a predefined set of strings\n",
    " \n",
    " Period constructor link: https://www.skytowner.com/explore/pandas_period_constructor"
   ]
  },
  {
   "cell_type": "code",
   "execution_count": 70,
   "metadata": {},
   "outputs": [
    {
     "name": "stdout",
     "output_type": "stream",
     "text": [
      "['__add__', '__class__', '__delattr__', '__dict__', '__dir__', '__doc__', '__eq__', '__format__', '__ge__', '__getattribute__', '__gt__', '__hash__', '__init__', '__init_subclass__', '__le__', '__lt__', '__module__', '__ne__', '__new__', '__pyx_vtable__', '__radd__', '__reduce__', '__reduce_ex__', '__repr__', '__rsub__', '__setattr__', '__setstate__', '__sizeof__', '__str__', '__sub__', '__subclasshook__', '__weakref__', '_add_offset', '_add_timedeltalike_scalar', '_dtype', '_from_ordinal', '_get_to_timestamp_base', '_maybe_convert_freq', '_require_matching_freq', 'asfreq', 'day', 'day_of_week', 'day_of_year', 'dayofweek', 'dayofyear', 'days_in_month', 'daysinmonth', 'end_time', 'freq', 'freqstr', 'hour', 'is_leap_year', 'minute', 'month', 'now', 'ordinal', 'quarter', 'qyear', 'second', 'start_time', 'strftime', 'to_timestamp', 'week', 'weekday', 'weekofyear', 'year']\n"
     ]
    }
   ],
   "source": [
    "print(dir(pd.Period))"
   ]
  },
  {
   "cell_type": "markdown",
   "metadata": {},
   "source": [
    "**Period v.s. Timestamp**: \n",
    "\n",
    "**Periods** can be use to check if a specific event occurs within a certain period. Basically a Period represents an **interval** while a **Timestamp** represents a **point** in time."
   ]
  },
  {
   "cell_type": "code",
   "execution_count": 92,
   "metadata": {},
   "outputs": [
    {
     "name": "stdout",
     "output_type": "stream",
     "text": [
      "Starting time: 2017-06-13 00:00:00\n",
      "Ending time: 2017-06-13 23:59:59.999999999\n"
     ]
    },
    {
     "data": {
      "text/plain": [
       "True"
      ]
     },
     "execution_count": 92,
     "metadata": {},
     "output_type": "execute_result"
    }
   ],
   "source": [
    "# return True since the period is 1Day. This test cannot be done with a Timestamp. \n",
    "p = pd.Period('2017-06-13', freq = 'D')\n",
    "print(\"Starting time:\", p.start_time)\n",
    "print(\"Ending time:\", p.end_time)\n",
    "test = pd.Timestamp('2017-06-13 22:11')\n",
    "p.start_time < test < p.end_time"
   ]
  },
  {
   "cell_type": "code",
   "execution_count": 101,
   "metadata": {},
   "outputs": [
    {
     "name": "stdout",
     "output_type": "stream",
     "text": [
      "Starting time: 2023-01-01 00:00:00\n",
      "Ending time: 2023-01-31 23:59:59.999999999\n",
      "The month this Period falls on: 1\n",
      "The week of the year on the given period: 5\n"
     ]
    }
   ],
   "source": [
    "p = pd.Period('2023', freq='M')\n",
    "\n",
    "print(\"Starting time:\", p.start_time)\n",
    "print(\"Ending time:\", p.end_time)\n",
    "print(\"The month this Period falls on:\", p.month)\n",
    "print(\"The week of the year on the given period:\", p.week)"
   ]
  },
  {
   "cell_type": "code",
   "execution_count": 106,
   "metadata": {},
   "outputs": [
    {
     "name": "stdout",
     "output_type": "stream",
     "text": [
      "Starting time: 2023-04-01 00:00:00\n",
      "Ending time: 2023-04-30 23:59:59.999999999\n",
      "The month this Period falls on: 4\n",
      "The week of the year on the given period: 17\n"
     ]
    }
   ],
   "source": [
    "p = pd.Period('2023-04', freq='M')\n",
    "\n",
    "print(\"Starting time:\", p.start_time)\n",
    "print(\"Ending time:\", p.end_time)\n",
    "print(\"The month this Period falls on:\", p.month)\n",
    "print(\"The week of the year on the given period:\", p.week)"
   ]
  },
  {
   "cell_type": "code",
   "execution_count": 107,
   "metadata": {},
   "outputs": [
    {
     "name": "stdout",
     "output_type": "stream",
     "text": [
      "Starting time: 2023-04-01 00:00:00\n",
      "Ending time: 2023-04-30 23:59:59.999999999\n",
      "The month this Period falls on: 4\n",
      "The week of the year on the given period: 17\n"
     ]
    }
   ],
   "source": [
    "p = pd.Period('2023-04-08', freq='M')\n",
    "\n",
    "print(\"Starting time:\", p.start_time)\n",
    "print(\"Ending time:\", p.end_time)\n",
    "print(\"The month this Period falls on:\", p.month)\n",
    "print(\"The week of the year on the given period:\", p.week)"
   ]
  },
  {
   "cell_type": "code",
   "execution_count": 108,
   "metadata": {},
   "outputs": [
    {
     "name": "stdout",
     "output_type": "stream",
     "text": [
      "Starting time: 2023-01-01 00:00:00\n",
      "Ending time: 2023-12-31 23:59:59.999999999\n",
      "The month this Period falls on: 12\n",
      "The week of the year on the given period: 52\n"
     ]
    }
   ],
   "source": [
    "p = pd.Period('2023-04-08', freq='Y')\n",
    "\n",
    "print(\"Starting time:\", p.start_time)\n",
    "print(\"Ending time:\", p.end_time)\n",
    "print(\"The month this Period falls on:\", p.month)\n",
    "print(\"The week of the year on the given period:\", p.week)"
   ]
  },
  {
   "cell_type": "markdown",
   "metadata": {},
   "source": [
    "A sequence of Period objects can be generated using the `period_range()` function that takes a start, end and frequency parameters."
   ]
  },
  {
   "cell_type": "code",
   "execution_count": 105,
   "metadata": {},
   "outputs": [
    {
     "data": {
      "text/plain": [
       "PeriodIndex(['2020-03', '2020-04', '2020-05', '2020-06', '2020-07', '2020-08',\n",
       "             '2020-09', '2020-10', '2020-11', '2020-12', '2021-01', '2021-02',\n",
       "             '2021-03', '2021-04', '2021-05', '2021-06', '2021-07', '2021-08',\n",
       "             '2021-09', '2021-10', '2021-11', '2021-12', '2022-01', '2022-02',\n",
       "             '2022-03', '2022-04', '2022-05', '2022-06', '2022-07', '2022-08',\n",
       "             '2022-09', '2022-10', '2022-11', '2022-12', '2023-01', '2023-02',\n",
       "             '2023-03'],\n",
       "            dtype='period[M]')"
      ]
     },
     "execution_count": 105,
     "metadata": {},
     "output_type": "execute_result"
    }
   ],
   "source": [
    "period_range_sample = pd.period_range('3/5/2020', '3/5/2023', freq='M')\n",
    "period_range_sample "
   ]
  },
  {
   "cell_type": "markdown",
   "metadata": {},
   "source": [
    "Converting between frequencies can be done with the `asfreq()` method. "
   ]
  },
  {
   "cell_type": "code",
   "execution_count": 74,
   "metadata": {},
   "outputs": [
    {
     "data": {
      "text/plain": [
       "Period('2021-06-28/2021-07-04', 'W-SUN')"
      ]
     },
     "execution_count": 74,
     "metadata": {},
     "output_type": "execute_result"
    }
   ],
   "source": [
    "monthly_freq = pd.Period('2021-06',freq='M')\n",
    "monthly_freq #Period('2020-06', 'M')\n",
    "\n",
    "# convert at the start of the month\n",
    "monthly_freq.asfreq('W', how='start') #Period('2020-06-01/2020-06-07', 'W-SUN')\n",
    "\n",
    "# convert at the end of the month\n",
    "monthly_freq.asfreq('W', how='end')   #Period('2020-06-29/2020-07-05', 'W-SUN')"
   ]
  },
  {
   "cell_type": "markdown",
   "metadata": {},
   "source": [
    "convert ``DatetimeIndex`` to a ``PeriodIndex`` with the ``to_period()`` function with the addition of a frequency code"
   ]
  },
  {
   "cell_type": "code",
   "execution_count": 109,
   "metadata": {},
   "outputs": [
    {
     "data": {
      "text/plain": [
       "PeriodIndex(['2015-07-03', '2015-07-04', '2015-07-06', '2015-07-07',\n",
       "             '2015-07-08', '2008-07-08'],\n",
       "            dtype='period[D]')"
      ]
     },
     "execution_count": 109,
     "metadata": {},
     "output_type": "execute_result"
    }
   ],
   "source": [
    "dates = pd.to_datetime([datetime.datetime(2015, 7, 3), '4th of July, 2015',\n",
    "                       '2015-Jul-6', '07-07-2015', '20150708', '20080708'])\n",
    "dates\n",
    "dates.to_period('D')"
   ]
  },
  {
   "cell_type": "markdown",
   "metadata": {},
   "source": [
    "### 2.3. Timedelta and TimedeltaIndex\n",
    "\n",
    "- `Timedelta` is nothing but the **difference in time** which can refer to an amount of time or the exact length of time between two intervals and is based on `numpy.timedelta64`."
   ]
  },
  {
   "cell_type": "code",
   "execution_count": 110,
   "metadata": {},
   "outputs": [
    {
     "name": "stdout",
     "output_type": "stream",
     "text": [
      "['__abs__', '__add__', '__array_priority__', '__bool__', '__class__', '__delattr__', '__dict__', '__dir__', '__divmod__', '__doc__', '__eq__', '__floordiv__', '__format__', '__ge__', '__getattribute__', '__gt__', '__hash__', '__init__', '__init_subclass__', '__inv__', '__le__', '__lt__', '__mod__', '__module__', '__mul__', '__ne__', '__neg__', '__new__', '__pos__', '__pyx_vtable__', '__radd__', '__rdivmod__', '__reduce__', '__reduce_cython__', '__reduce_ex__', '__repr__', '__rfloordiv__', '__rmod__', '__rmul__', '__rsub__', '__rtruediv__', '__setattr__', '__setstate__', '__setstate_cython__', '__sizeof__', '__str__', '__sub__', '__subclasshook__', '__truediv__', '__weakref__', '_d', '_ensure_components', '_h', '_has_ns', '_m', '_ms', '_ns', '_repr_base', '_round', '_s', '_us', 'asm8', 'ceil', 'components', 'days', 'delta', 'floor', 'freq', 'is_populated', 'isoformat', 'max', 'microseconds', 'min', 'nanoseconds', 'resolution', 'resolution_string', 'round', 'seconds', 'to_numpy', 'to_pytimedelta', 'to_timedelta64', 'total_seconds', 'value', 'view']\n"
     ]
    }
   ],
   "source": [
    "print(dir(pd.Timedelta))"
   ]
  },
  {
   "cell_type": "code",
   "execution_count": 76,
   "metadata": {},
   "outputs": [
    {
     "data": {
      "text/plain": [
       "Timedelta('3 days 00:00:00')"
      ]
     },
     "execution_count": 76,
     "metadata": {},
     "output_type": "execute_result"
    }
   ],
   "source": [
    "# creating timedelta objects\n",
    "pd.Timedelta('3 days')  # Timedelta('3 days 00:00:00')\n",
    "#pd.Timedelta('8 days 7 hours') #Timedelta('8 days 07:00:00')\n",
    "#pd.Timedelta('7 days 00:00:59')"
   ]
  },
  {
   "cell_type": "code",
   "execution_count": 77,
   "metadata": {},
   "outputs": [
    {
     "data": {
      "text/plain": [
       "Timestamp('2020-07-06 12:30:10.996003')"
      ]
     },
     "execution_count": 77,
     "metadata": {},
     "output_type": "execute_result"
    }
   ],
   "source": [
    "#time delta object 1/2\n",
    "td1 = pd.Timedelta(weeks=3, days=6, hours=12, minutes=30, seconds=10.93, milliseconds=66, microseconds=3)\n",
    "td2 = pd.Timedelta(weeks=7, days=5, hours=10, minutes=40, seconds=8.64, milliseconds=33, microseconds=8)\n",
    "\n",
    "# add timedelta to timedelta\n",
    "td1 + td1 #datetime.timedelta(days=55, seconds=3621, microseconds=992006)\n",
    "\n",
    "# subtract timedelta from timedelta\n",
    "td2 - td1 #datetime.timedelta(days=26, seconds=79797, microseconds=677005)\n",
    "\n",
    "# date object\n",
    "date = pd.Timestamp('2020-6-9')\n",
    "\n",
    "# add timedelta to date\n",
    "td1 + date #datetime.date(2020, 5, 30)"
   ]
  },
  {
   "cell_type": "code",
   "execution_count": 78,
   "metadata": {},
   "outputs": [
    {
     "data": {
      "text/plain": [
       "TimedeltaIndex(['0 days', '1 days', '3 days', '4 days', '5 days'], dtype='timedelta64[ns]', freq=None)"
      ]
     },
     "execution_count": 78,
     "metadata": {},
     "output_type": "execute_result"
    }
   ],
   "source": [
    "# A TimedeltaIndex is created, for example, when a date is subtracted from another:\n",
    "dates = pd.to_datetime([datetime.datetime(2015, 7, 3), '4th of July, 2015',\n",
    "                       '2015-Jul-6', '07-07-2015', '20150708'])\n",
    "dates\n",
    "dates - dates[0]"
   ]
  },
  {
   "cell_type": "markdown",
   "metadata": {},
   "source": [
    "## 3. Date sequence generation\n",
    "\n",
    "To make the creation of regular date sequences more convenient, Pandas offers a few functions: \n",
    " - ``pd.date_range()`` for timestamps\n",
    " - ``pd.period_range()`` for periods\n",
    " - ``pd.timedelta_range()`` for time deltas.\n",
    " \n",
    "\n",
    "**Note**: The following codes are used for frequency and offset\n",
    " \n",
    "| Code   | Description         | Code   | Description          |\n",
    "|--------|---------------------|--------|----------------------|\n",
    "| ``D``  | Calendar day        | ``B``  | Business day         |\n",
    "| ``W``  | Weekly              |        |                      |\n",
    "| ``M``  | Month end           | ``BM`` | Business month end   |\n",
    "| ``Q``  | Quarter end         | ``BQ`` | Business quarter end |\n",
    "| ``A``  | Year end            | ``BA`` | Business year end    |\n",
    "| ``H``  | Hours               | ``BH`` | Business hours       |\n",
    "| ``T``  | Minutes             |        |                      |\n",
    "| ``S``  | Seconds             |        |                      |\n",
    "| ``L``  | Milliseonds         |        |                      |\n",
    "| ``U``  | Microseconds        |        |                      |\n",
    "| ``N``  | nanoseconds         |        |                      |"
   ]
  },
  {
   "cell_type": "markdown",
   "metadata": {},
   "source": [
    "### 3.1. ``pd.date_range()`` \n",
    "\n",
    "#range(start, end, step)"
   ]
  },
  {
   "cell_type": "code",
   "execution_count": 79,
   "metadata": {},
   "outputs": [
    {
     "data": {
      "text/plain": [
       "DatetimeIndex(['2015-07-03', '2015-07-04', '2015-07-05', '2015-07-06',\n",
       "               '2015-07-07', '2015-07-08', '2015-07-09', '2015-07-10'],\n",
       "              dtype='datetime64[ns]', freq='D')"
      ]
     },
     "execution_count": 79,
     "metadata": {},
     "output_type": "execute_result"
    }
   ],
   "source": [
    "# accepts a start date, an end date, and an optional frequency code\n",
    "pd.date_range('2015-07-03', '2015-07-10')"
   ]
  },
  {
   "cell_type": "code",
   "execution_count": 80,
   "metadata": {},
   "outputs": [
    {
     "data": {
      "text/plain": [
       "DatetimeIndex(['2015-07-03', '2015-07-04', '2015-07-05', '2015-07-06',\n",
       "               '2015-07-07', '2015-07-08', '2015-07-09', '2015-07-10'],\n",
       "              dtype='datetime64[ns]', freq='D')"
      ]
     },
     "execution_count": 80,
     "metadata": {},
     "output_type": "execute_result"
    }
   ],
   "source": [
    "# the date range can be specified with a startpoint and a number of periods\n",
    "pd.date_range('2015-07-03', periods=8)"
   ]
  },
  {
   "cell_type": "code",
   "execution_count": 81,
   "metadata": {},
   "outputs": [
    {
     "data": {
      "text/plain": [
       "DatetimeIndex(['2021-11-19 00:00:00', '2021-11-19 00:01:00',\n",
       "               '2021-11-19 00:02:00', '2021-11-19 00:03:00',\n",
       "               '2021-11-19 00:04:00', '2021-11-19 00:05:00',\n",
       "               '2021-11-19 00:06:00', '2021-11-19 00:07:00'],\n",
       "              dtype='datetime64[ns]', freq='T')"
      ]
     },
     "execution_count": 81,
     "metadata": {},
     "output_type": "execute_result"
    }
   ],
   "source": [
    "pd.date_range('2021-11-19', periods=8, freq='T')"
   ]
  },
  {
   "cell_type": "code",
   "execution_count": 82,
   "metadata": {},
   "outputs": [
    {
     "data": {
      "text/plain": [
       "DatetimeIndex(['2012-05-23', '2012-05-24', '2012-05-25', '2012-05-26',\n",
       "               '2012-05-27', '2012-05-28', '2012-05-29', '2012-05-30',\n",
       "               '2012-05-31', '2012-06-01'],\n",
       "              dtype='datetime64[ns]', freq='D')"
      ]
     },
     "execution_count": 82,
     "metadata": {},
     "output_type": "execute_result"
    }
   ],
   "source": [
    "pd.date_range(start='2012-04-01', periods=10)\n",
    "pd.date_range(end='2012-06-01', periods=10)"
   ]
  },
  {
   "cell_type": "code",
   "execution_count": 83,
   "metadata": {},
   "outputs": [
    {
     "data": {
      "text/plain": [
       "DatetimeIndex(['2000-01-31', '2000-02-29', '2000-03-31', '2000-04-28',\n",
       "               '2000-05-31', '2000-06-30', '2000-07-31', '2000-08-31',\n",
       "               '2000-09-29', '2000-10-31', '2000-11-30'],\n",
       "              dtype='datetime64[ns]', freq='BM')"
      ]
     },
     "execution_count": 83,
     "metadata": {},
     "output_type": "execute_result"
    }
   ],
   "source": [
    "pd.date_range('2000-01-01', '2000-12-01', freq='BM')"
   ]
  },
  {
   "cell_type": "code",
   "execution_count": 84,
   "metadata": {},
   "outputs": [
    {
     "data": {
      "text/plain": [
       "DatetimeIndex(['2012-05-02', '2012-05-03', '2012-05-04', '2012-05-05',\n",
       "               '2012-05-06'],\n",
       "              dtype='datetime64[ns]', freq='D')"
      ]
     },
     "execution_count": 84,
     "metadata": {},
     "output_type": "execute_result"
    }
   ],
   "source": [
    "pd.date_range('2012-05-02 12:56:31', periods=5,  freq='T')\n",
    "pd.date_range('2012-05-02 12:56:31', periods=5, normalize=True) # remove time"
   ]
  },
  {
   "cell_type": "code",
   "execution_count": 85,
   "metadata": {},
   "outputs": [
    {
     "data": {
      "text/plain": [
       "[Timestamp('2012-01-20 00:00:00', freq='WOM-3FRI'),\n",
       " Timestamp('2012-02-17 00:00:00', freq='WOM-3FRI'),\n",
       " Timestamp('2012-03-16 00:00:00', freq='WOM-3FRI'),\n",
       " Timestamp('2012-04-20 00:00:00', freq='WOM-3FRI'),\n",
       " Timestamp('2012-05-18 00:00:00', freq='WOM-3FRI')]"
      ]
     },
     "execution_count": 85,
     "metadata": {},
     "output_type": "execute_result"
    }
   ],
   "source": [
    "rng = pd.date_range('2012-01-01', '2012-06-01', freq='WOM-3FRI')\n",
    "list(rng)"
   ]
  },
  {
   "cell_type": "markdown",
   "metadata": {},
   "source": [
    "### 3.2. ``pd.period_range()`` "
   ]
  },
  {
   "cell_type": "code",
   "execution_count": 114,
   "metadata": {},
   "outputs": [
    {
     "name": "stdout",
     "output_type": "stream",
     "text": [
      "PeriodIndex(['2023-04', '2023-05', '2023-06', '2023-07', '2023-08', '2023-09',\n",
      "             '2023-10', '2023-11'],\n",
      "            dtype='period[M]')\n",
      "Starting time: 2023-04-01 00:00:00\n",
      "Ending time: 2023-04-30 23:59:59.999999999\n",
      "Starting time: 2023-05-01 00:00:00\n",
      "Ending time: 2023-05-31 23:59:59.999999999\n"
     ]
    }
   ],
   "source": [
    "ps= pd.period_range('2023-04-08', periods=8, freq='M')\n",
    "print(ps)\n",
    "\n",
    "print(\"Starting time:\", ps[0].start_time)\n",
    "print(\"Ending time:\", ps[0].end_time)\n",
    "print(\"Starting time:\", ps[1].start_time)\n",
    "print(\"Ending time:\", ps[1].end_time)"
   ]
  },
  {
   "cell_type": "markdown",
   "metadata": {},
   "source": [
    "#### date_range v.s. period_range"
   ]
  },
  {
   "cell_type": "code",
   "execution_count": 118,
   "metadata": {},
   "outputs": [
    {
     "name": "stdout",
     "output_type": "stream",
     "text": [
      "DatetimeIndex(['2015-07-03 00:00:00', '2015-07-03 00:00:01',\n",
      "               '2015-07-03 00:00:02', '2015-07-03 00:00:03',\n",
      "               '2015-07-03 00:00:04', '2015-07-03 00:00:05',\n",
      "               '2015-07-03 00:00:06', '2015-07-03 00:00:07'],\n",
      "              dtype='datetime64[ns]', freq='S') \n",
      "\n",
      "Starting time: 2015-07-03 00:00:00\n",
      "Ending time: 2015-07-03 00:00:00.999999999\n",
      "Starting time: 2015-07-03 00:00:01\n",
      "Ending time: 2015-07-03 00:00:01.999999999\n"
     ]
    }
   ],
   "source": [
    "# date_range\n",
    "print(pd.date_range('2015-07-03', periods=8, freq='S'),\"\\n\")\n",
    "\n",
    "# period_range\n",
    "ps=pd.period_range('2015-07-03', periods=8, freq='S')\n",
    "print(\"Starting time:\", ps[0].start_time)\n",
    "print(\"Ending time:\", ps[0].end_time)\n",
    "print(\"Starting time:\", ps[1].start_time)\n",
    "print(\"Ending time:\", ps[1].end_time)"
   ]
  },
  {
   "cell_type": "markdown",
   "metadata": {},
   "source": [
    "### 3.3. ``pd.timedelta_range()`` "
   ]
  },
  {
   "cell_type": "code",
   "execution_count": 88,
   "metadata": {},
   "outputs": [
    {
     "data": {
      "text/plain": [
       "TimedeltaIndex(['0 days 00:00:00', '0 days 01:00:00', '0 days 02:00:00',\n",
       "                '0 days 03:00:00', '0 days 04:00:00', '0 days 05:00:00',\n",
       "                '0 days 06:00:00', '0 days 07:00:00', '0 days 08:00:00',\n",
       "                '0 days 09:00:00'],\n",
       "               dtype='timedelta64[ns]', freq='H')"
      ]
     },
     "execution_count": 88,
     "metadata": {},
     "output_type": "execute_result"
    }
   ],
   "source": [
    "pd.timedelta_range(0, periods=10, freq='H')"
   ]
  },
  {
   "cell_type": "code",
   "execution_count": 121,
   "metadata": {},
   "outputs": [
    {
     "data": {
      "text/plain": [
       "TimedeltaIndex(['0 days 00:00:00', '0 days 02:30:00', '0 days 05:00:00',\n",
       "                '0 days 07:30:00', '0 days 10:00:00', '0 days 12:30:00',\n",
       "                '0 days 15:00:00', '0 days 17:30:00', '0 days 20:00:00'],\n",
       "               dtype='timedelta64[ns]', freq='150T')"
      ]
     },
     "execution_count": 121,
     "metadata": {},
     "output_type": "execute_result"
    }
   ],
   "source": [
    "pd.timedelta_range(0, periods=9, freq=\"2H30T\")"
   ]
  },
  {
   "cell_type": "code",
   "execution_count": 130,
   "metadata": {},
   "outputs": [
    {
     "name": "stdout",
     "output_type": "stream",
     "text": [
      "TimedeltaIndex(['0 days 00:00:00', '0 days 02:30:00', '0 days 05:00:00',\n",
      "                '0 days 07:30:00', '0 days 10:00:00', '0 days 12:30:00',\n",
      "                '0 days 15:00:00', '0 days 17:30:00', '0 days 20:00:00'],\n",
      "               dtype='timedelta64[ns]', freq='150T')\n",
      "The difference between two dates or times: 0.0\n",
      "The difference between two dates or times: 9000.0\n",
      "The difference between two dates or times: 18000.0\n"
     ]
    }
   ],
   "source": [
    "tds= pd.timedelta_range(0, periods=9, freq=\"2H30T\")\n",
    "print(tds)\n",
    "print(\"The difference between two dates or times:\", tds[0].total_seconds())\n",
    "print(\"The difference between two dates or times:\", tds[1].total_seconds())\n",
    "print(\"The difference between two dates or times:\", tds[2].total_seconds())\n"
   ]
  }
 ],
 "metadata": {
  "kernelspec": {
   "display_name": "Python 3 (ipykernel)",
   "language": "python",
   "name": "python3"
  },
  "language_info": {
   "codemirror_mode": {
    "name": "ipython",
    "version": 3
   },
   "file_extension": ".py",
   "mimetype": "text/x-python",
   "name": "python",
   "nbconvert_exporter": "python",
   "pygments_lexer": "ipython3",
   "version": "3.7.4"
  }
 },
 "nbformat": 4,
 "nbformat_minor": 1
}
