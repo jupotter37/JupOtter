{
  "cells": [
    {
      "cell_type": "markdown",
      "metadata": {
        "id": "v0XsUPY0CbIn"
      },
      "source": [
        "# Dask DataFrame"
      ]
    },
    {
      "cell_type": "markdown",
      "metadata": {
        "id": "tJbnacapCbIt"
      },
      "source": [
        "Материалы:\n",
        "* Макрушин С.В. Лекция 13: Dask DataFrame\n",
        "* https://docs.dask.org/en/latest/dataframe.html\n",
        "* JESSE C. DANIEL. Data Science with Python and Dask."
      ]
    },
    {
      "cell_type": "markdown",
      "metadata": {
        "id": "XEzlKuBmCbIv"
      },
      "source": [
        "## Задачи для совместного разбора"
      ]
    },
    {
      "cell_type": "markdown",
      "metadata": {
        "id": "q4dh0oGACbIw"
      },
      "source": [
        "1. Считать данные из файлов в каталоге `accounts`. Содержат ли какие-либо из столбцов пропуски?"
      ]
    },
    {
      "cell_type": "code",
      "source": [
        "from google.colab import drive\n",
        "drive.mount('/content/drive')"
      ],
      "metadata": {
        "colab": {
          "base_uri": "https://localhost:8080/"
        },
        "id": "HZE6lmjDDcVy",
        "outputId": "398640e3-8c1e-4bed-f1a6-2c74c7b3031a"
      },
      "execution_count": null,
      "outputs": [
        {
          "output_type": "stream",
          "name": "stdout",
          "text": [
            "Drive already mounted at /content/drive; to attempt to forcibly remount, call drive.mount(\"/content/drive\", force_remount=True).\n"
          ]
        }
      ]
    },
    {
      "cell_type": "code",
      "source": [
        "import dask.dataframe as dd\n",
        "df = dd.read_csv('/content/drive/MyDrive/tobd/accounts/accounts.*.csv', dtype={'amount': 'float64'})\n",
        "df.isnull().any().compute()"
      ],
      "metadata": {
        "colab": {
          "base_uri": "https://localhost:8080/"
        },
        "id": "AumYC5IZDa3T",
        "outputId": "6a75ce3d-9eab-43de-83fd-5627526b7564"
      },
      "execution_count": null,
      "outputs": [
        {
          "output_type": "execute_result",
          "data": {
            "text/plain": [
              "id        False\n",
              "names     False\n",
              "amount     True\n",
              "dtype: bool"
            ]
          },
          "metadata": {},
          "execution_count": 6
        }
      ]
    },
    {
      "cell_type": "code",
      "source": [
        "# df = dd.read_csv('/content/drive/MyDrive/tobd/accounts2/accounts.*.csv', dtype={'amount': 'float64'})\n",
        "# df.isnull().any().compute()"
      ],
      "metadata": {
        "colab": {
          "base_uri": "https://localhost:8080/"
        },
        "id": "O84bFLI-Jnvr",
        "outputId": "c84f639b-5b0d-4821-9823-e751e38349bf"
      },
      "execution_count": null,
      "outputs": [
        {
          "output_type": "execute_result",
          "data": {
            "text/plain": [
              "id        False\n",
              "names     False\n",
              "amount    False\n",
              "dtype: bool"
            ]
          },
          "metadata": {},
          "execution_count": 16
        }
      ]
    },
    {
      "cell_type": "markdown",
      "metadata": {
        "id": "WUZpIn_DCbIx"
      },
      "source": [
        "2. Подсчитать количество раз, которое то или иное имя встретилось в выборке. Вывести самое часто встречающееся имя."
      ]
    },
    {
      "cell_type": "code",
      "source": [
        "df['names'].value_counts().compute()"
      ],
      "metadata": {
        "colab": {
          "base_uri": "https://localhost:8080/"
        },
        "id": "ajmZo3gTFhKY",
        "outputId": "ed2564c5-87b6-4a46-ada7-b7ba24812f75"
      },
      "execution_count": null,
      "outputs": [
        {
          "output_type": "execute_result",
          "data": {
            "text/plain": [
              "Norbert     188147\n",
              "Alice       185892\n",
              "George      183249\n",
              "Tim         162432\n",
              "Bob         157065\n",
              "Michael     148372\n",
              "Ingrid      132067\n",
              "Oliver      121907\n",
              "Quinn       118071\n",
              "Wendy       110657\n",
              "Charlie     109236\n",
              "Ursula      108745\n",
              "Hannah      108632\n",
              "Ray         108610\n",
              "Sarah       104781\n",
              "Victor      102656\n",
              "Frank        99984\n",
              "Laura        97216\n",
              "Jerry        96378\n",
              "Xavier       94445\n",
              "Edith        89991\n",
              "Zelda        89047\n",
              "Kevin        84784\n",
              "Dan          73293\n",
              "Patricia     62881\n",
              "Yvonne       61462\n",
              "Name: names, dtype: int64"
            ]
          },
          "metadata": {},
          "execution_count": 3
        }
      ]
    },
    {
      "cell_type": "markdown",
      "metadata": {
        "id": "3LL_TVl4CbIy"
      },
      "source": [
        "3. Создать новую колонку, которая является результатом от деления значения `amount` нацело на 100, если `amount` > 100, и нулём в противном случае."
      ]
    },
    {
      "cell_type": "code",
      "source": [
        "df['amount2'] = df['amount'].apply(lambda x: x // 100 if x > 100 else 0)\n",
        "df.compute()"
      ],
      "metadata": {
        "colab": {
          "base_uri": "https://localhost:8080/",
          "height": 565
        },
        "id": "5MEol3k3GOKP",
        "outputId": "6d0c3f76-79ca-4d33-800a-33d1ae7c5787"
      },
      "execution_count": null,
      "outputs": [
        {
          "output_type": "stream",
          "name": "stderr",
          "text": [
            "/usr/local/lib/python3.9/dist-packages/dask/dataframe/core.py:4134: UserWarning: \n",
            "You did not provide metadata, so Dask is running your function on a small dataset to guess output types. It is possible that Dask will guess incorrectly.\n",
            "To provide an explicit output types or to silence this message, please provide the `meta=` keyword, as described in the map or apply function that you are using.\n",
            "  Before: .apply(func)\n",
            "  After:  .apply(func, meta=('amount', 'int64'))\n",
            "\n",
            "  warnings.warn(meta_warning(meta))\n"
          ]
        },
        {
          "output_type": "execute_result",
          "data": {
            "text/plain": [
              "         id    names  amount  amount2\n",
              "0        39   Victor   205.0      2.0\n",
              "1       289   Hannah    87.0      0.0\n",
              "2       234   Victor  1820.0     18.0\n",
              "3       155      Ray  -600.0      0.0\n",
              "4       266      Ray   572.0      5.0\n",
              "...     ...      ...     ...      ...\n",
              "999995  270    Edith   810.0      8.0\n",
              "999996  249  Norbert   132.0      1.0\n",
              "999997  308    Kevin    20.0      0.0\n",
              "999998  302      Tim    33.0      0.0\n",
              "999999  288  Michael  2465.0     24.0\n",
              "\n",
              "[3000000 rows x 4 columns]"
            ],
            "text/html": [
              "\n",
              "  <div id=\"df-5fb34d34-2c26-4144-b2a5-330dbf4e0305\">\n",
              "    <div class=\"colab-df-container\">\n",
              "      <div>\n",
              "<style scoped>\n",
              "    .dataframe tbody tr th:only-of-type {\n",
              "        vertical-align: middle;\n",
              "    }\n",
              "\n",
              "    .dataframe tbody tr th {\n",
              "        vertical-align: top;\n",
              "    }\n",
              "\n",
              "    .dataframe thead th {\n",
              "        text-align: right;\n",
              "    }\n",
              "</style>\n",
              "<table border=\"1\" class=\"dataframe\">\n",
              "  <thead>\n",
              "    <tr style=\"text-align: right;\">\n",
              "      <th></th>\n",
              "      <th>id</th>\n",
              "      <th>names</th>\n",
              "      <th>amount</th>\n",
              "      <th>amount2</th>\n",
              "    </tr>\n",
              "  </thead>\n",
              "  <tbody>\n",
              "    <tr>\n",
              "      <th>0</th>\n",
              "      <td>39</td>\n",
              "      <td>Victor</td>\n",
              "      <td>205.0</td>\n",
              "      <td>2.0</td>\n",
              "    </tr>\n",
              "    <tr>\n",
              "      <th>1</th>\n",
              "      <td>289</td>\n",
              "      <td>Hannah</td>\n",
              "      <td>87.0</td>\n",
              "      <td>0.0</td>\n",
              "    </tr>\n",
              "    <tr>\n",
              "      <th>2</th>\n",
              "      <td>234</td>\n",
              "      <td>Victor</td>\n",
              "      <td>1820.0</td>\n",
              "      <td>18.0</td>\n",
              "    </tr>\n",
              "    <tr>\n",
              "      <th>3</th>\n",
              "      <td>155</td>\n",
              "      <td>Ray</td>\n",
              "      <td>-600.0</td>\n",
              "      <td>0.0</td>\n",
              "    </tr>\n",
              "    <tr>\n",
              "      <th>4</th>\n",
              "      <td>266</td>\n",
              "      <td>Ray</td>\n",
              "      <td>572.0</td>\n",
              "      <td>5.0</td>\n",
              "    </tr>\n",
              "    <tr>\n",
              "      <th>...</th>\n",
              "      <td>...</td>\n",
              "      <td>...</td>\n",
              "      <td>...</td>\n",
              "      <td>...</td>\n",
              "    </tr>\n",
              "    <tr>\n",
              "      <th>999995</th>\n",
              "      <td>270</td>\n",
              "      <td>Edith</td>\n",
              "      <td>810.0</td>\n",
              "      <td>8.0</td>\n",
              "    </tr>\n",
              "    <tr>\n",
              "      <th>999996</th>\n",
              "      <td>249</td>\n",
              "      <td>Norbert</td>\n",
              "      <td>132.0</td>\n",
              "      <td>1.0</td>\n",
              "    </tr>\n",
              "    <tr>\n",
              "      <th>999997</th>\n",
              "      <td>308</td>\n",
              "      <td>Kevin</td>\n",
              "      <td>20.0</td>\n",
              "      <td>0.0</td>\n",
              "    </tr>\n",
              "    <tr>\n",
              "      <th>999998</th>\n",
              "      <td>302</td>\n",
              "      <td>Tim</td>\n",
              "      <td>33.0</td>\n",
              "      <td>0.0</td>\n",
              "    </tr>\n",
              "    <tr>\n",
              "      <th>999999</th>\n",
              "      <td>288</td>\n",
              "      <td>Michael</td>\n",
              "      <td>2465.0</td>\n",
              "      <td>24.0</td>\n",
              "    </tr>\n",
              "  </tbody>\n",
              "</table>\n",
              "<p>3000000 rows × 4 columns</p>\n",
              "</div>\n",
              "      <button class=\"colab-df-convert\" onclick=\"convertToInteractive('df-5fb34d34-2c26-4144-b2a5-330dbf4e0305')\"\n",
              "              title=\"Convert this dataframe to an interactive table.\"\n",
              "              style=\"display:none;\">\n",
              "        \n",
              "  <svg xmlns=\"http://www.w3.org/2000/svg\" height=\"24px\"viewBox=\"0 0 24 24\"\n",
              "       width=\"24px\">\n",
              "    <path d=\"M0 0h24v24H0V0z\" fill=\"none\"/>\n",
              "    <path d=\"M18.56 5.44l.94 2.06.94-2.06 2.06-.94-2.06-.94-.94-2.06-.94 2.06-2.06.94zm-11 1L8.5 8.5l.94-2.06 2.06-.94-2.06-.94L8.5 2.5l-.94 2.06-2.06.94zm10 10l.94 2.06.94-2.06 2.06-.94-2.06-.94-.94-2.06-.94 2.06-2.06.94z\"/><path d=\"M17.41 7.96l-1.37-1.37c-.4-.4-.92-.59-1.43-.59-.52 0-1.04.2-1.43.59L10.3 9.45l-7.72 7.72c-.78.78-.78 2.05 0 2.83L4 21.41c.39.39.9.59 1.41.59.51 0 1.02-.2 1.41-.59l7.78-7.78 2.81-2.81c.8-.78.8-2.07 0-2.86zM5.41 20L4 18.59l7.72-7.72 1.47 1.35L5.41 20z\"/>\n",
              "  </svg>\n",
              "      </button>\n",
              "      \n",
              "  <style>\n",
              "    .colab-df-container {\n",
              "      display:flex;\n",
              "      flex-wrap:wrap;\n",
              "      gap: 12px;\n",
              "    }\n",
              "\n",
              "    .colab-df-convert {\n",
              "      background-color: #E8F0FE;\n",
              "      border: none;\n",
              "      border-radius: 50%;\n",
              "      cursor: pointer;\n",
              "      display: none;\n",
              "      fill: #1967D2;\n",
              "      height: 32px;\n",
              "      padding: 0 0 0 0;\n",
              "      width: 32px;\n",
              "    }\n",
              "\n",
              "    .colab-df-convert:hover {\n",
              "      background-color: #E2EBFA;\n",
              "      box-shadow: 0px 1px 2px rgba(60, 64, 67, 0.3), 0px 1px 3px 1px rgba(60, 64, 67, 0.15);\n",
              "      fill: #174EA6;\n",
              "    }\n",
              "\n",
              "    [theme=dark] .colab-df-convert {\n",
              "      background-color: #3B4455;\n",
              "      fill: #D2E3FC;\n",
              "    }\n",
              "\n",
              "    [theme=dark] .colab-df-convert:hover {\n",
              "      background-color: #434B5C;\n",
              "      box-shadow: 0px 1px 3px 1px rgba(0, 0, 0, 0.15);\n",
              "      filter: drop-shadow(0px 1px 2px rgba(0, 0, 0, 0.3));\n",
              "      fill: #FFFFFF;\n",
              "    }\n",
              "  </style>\n",
              "\n",
              "      <script>\n",
              "        const buttonEl =\n",
              "          document.querySelector('#df-5fb34d34-2c26-4144-b2a5-330dbf4e0305 button.colab-df-convert');\n",
              "        buttonEl.style.display =\n",
              "          google.colab.kernel.accessAllowed ? 'block' : 'none';\n",
              "\n",
              "        async function convertToInteractive(key) {\n",
              "          const element = document.querySelector('#df-5fb34d34-2c26-4144-b2a5-330dbf4e0305');\n",
              "          const dataTable =\n",
              "            await google.colab.kernel.invokeFunction('convertToInteractive',\n",
              "                                                     [key], {});\n",
              "          if (!dataTable) return;\n",
              "\n",
              "          const docLinkHtml = 'Like what you see? Visit the ' +\n",
              "            '<a target=\"_blank\" href=https://colab.research.google.com/notebooks/data_table.ipynb>data table notebook</a>'\n",
              "            + ' to learn more about interactive tables.';\n",
              "          element.innerHTML = '';\n",
              "          dataTable['output_type'] = 'display_data';\n",
              "          await google.colab.output.renderOutput(dataTable, element);\n",
              "          const docLink = document.createElement('div');\n",
              "          docLink.innerHTML = docLinkHtml;\n",
              "          element.appendChild(docLink);\n",
              "        }\n",
              "      </script>\n",
              "    </div>\n",
              "  </div>\n",
              "  "
            ]
          },
          "metadata": {},
          "execution_count": 20
        }
      ]
    },
    {
      "cell_type": "markdown",
      "metadata": {
        "id": "OSOR0d6LCbIz"
      },
      "source": [
        "## Лабораторная работа 13"
      ]
    },
    {
      "cell_type": "code",
      "execution_count": null,
      "metadata": {
        "id": "1__81niECbI0"
      },
      "outputs": [],
      "source": [
        "import dask.dataframe as dd\n",
        "import pandas as pd\n",
        "import dask.bag as db\n",
        "import json\n",
        "import dask"
      ]
    },
    {
      "cell_type": "markdown",
      "metadata": {
        "id": "0-Wx8QChCbI3"
      },
      "source": [
        "1. В архиве `recipes_full.zip` находятся файлы, содержащие информацию об рецептах блюд. Загрузите данные из файлов этого архива в виде `dd.DataFrame` с названием `recipes`. Укажите, что в столбце `submitted` содержатся даты."
      ]
    },
    {
      "cell_type": "code",
      "source": [
        "recipes = dd.read_csv('/content/drive/MyDrive/tobd/recipes_full/recipes_full_*.csv',\n",
        "                      dtype={'minutes': 'float64','n_steps': 'float64'},  parse_dates=['submitted'])\n",
        "recipes.compute()"
      ],
      "metadata": {
        "colab": {
          "base_uri": "https://localhost:8080/",
          "height": 641
        },
        "id": "DMVDbniBG3qs",
        "outputId": "0bb1d872-e13d-4b63-e67a-b9cb43945fae"
      },
      "execution_count": null,
      "outputs": [
        {
          "output_type": "execute_result",
          "data": {
            "text/plain": [
              "             id                                               name  minutes  \\\n",
              "0        683970                        vant ivoire mickies nothing     33.0   \n",
              "1       1089012  kremsils mariposa baccala cookies class borage...     23.0   \n",
              "2       1428572                                       tania lander      0.0   \n",
              "3       1400250                heloise milli asher doogh zojirushi     24.0   \n",
              "4        387709                      nutty chocolate chunk cookies     47.0   \n",
              "...         ...                                                ...      ...   \n",
              "278949  1029131                    tuti waffle snackies steakhouse     19.0   \n",
              "278950  1700703          noelias cheats crocante fleisch zitumbuwa      1.0   \n",
              "278951  1910650        rubbed restuffed pelmeni bedouin flavourful     60.0   \n",
              "278952   713836                             stems polpettine peezi      NaN   \n",
              "278953   660699                                        clementines     64.0   \n",
              "\n",
              "        contributor_id  submitted  n_steps  \\\n",
              "0               803776 2019-08-22      4.0   \n",
              "1                51579 2013-03-02      1.0   \n",
              "2                68884 1980-11-09      1.0   \n",
              "3               678862 2018-04-29      3.0   \n",
              "4               489552 2009-08-31      8.0   \n",
              "...                ...        ...      ...   \n",
              "278949          171345 1973-10-18      4.0   \n",
              "278950           30228 2007-07-01      6.0   \n",
              "278951          591905 2009-09-26      3.0   \n",
              "278952          357389 2003-09-30      4.0   \n",
              "278953           29196 1973-06-03      6.0   \n",
              "\n",
              "                                              description  n_ingredients  \n",
              "0       pat and gina neely and their family own and op...              9  \n",
              "1       a light, tasty and easy to put together chicke...              5  \n",
              "2       a delicious melt in your mouth appetizer. for ...              5  \n",
              "3       delicious cream cheese and peach filled cresce...              1  \n",
              "4       everyone loves these buttery cookies chock ful...             10  \n",
              "...                                                   ...            ...  \n",
              "278949  according to a providence journal article, ama...              4  \n",
              "278950  if possible sauté the onions and garlic in abo...              1  \n",
              "278951  another great recipe to add to the growing swe...              2  \n",
              "278952        adapted from top secret recipes. love this!              9  \n",
              "278953  this would make a great start to your holiday ...              8  \n",
              "\n",
              "[2231637 rows x 8 columns]"
            ],
            "text/html": [
              "\n",
              "  <div id=\"df-b46a00b4-76cd-44ba-9a19-4980ee01a196\">\n",
              "    <div class=\"colab-df-container\">\n",
              "      <div>\n",
              "<style scoped>\n",
              "    .dataframe tbody tr th:only-of-type {\n",
              "        vertical-align: middle;\n",
              "    }\n",
              "\n",
              "    .dataframe tbody tr th {\n",
              "        vertical-align: top;\n",
              "    }\n",
              "\n",
              "    .dataframe thead th {\n",
              "        text-align: right;\n",
              "    }\n",
              "</style>\n",
              "<table border=\"1\" class=\"dataframe\">\n",
              "  <thead>\n",
              "    <tr style=\"text-align: right;\">\n",
              "      <th></th>\n",
              "      <th>id</th>\n",
              "      <th>name</th>\n",
              "      <th>minutes</th>\n",
              "      <th>contributor_id</th>\n",
              "      <th>submitted</th>\n",
              "      <th>n_steps</th>\n",
              "      <th>description</th>\n",
              "      <th>n_ingredients</th>\n",
              "    </tr>\n",
              "  </thead>\n",
              "  <tbody>\n",
              "    <tr>\n",
              "      <th>0</th>\n",
              "      <td>683970</td>\n",
              "      <td>vant ivoire mickies nothing</td>\n",
              "      <td>33.0</td>\n",
              "      <td>803776</td>\n",
              "      <td>2019-08-22</td>\n",
              "      <td>4.0</td>\n",
              "      <td>pat and gina neely and their family own and op...</td>\n",
              "      <td>9</td>\n",
              "    </tr>\n",
              "    <tr>\n",
              "      <th>1</th>\n",
              "      <td>1089012</td>\n",
              "      <td>kremsils mariposa baccala cookies class borage...</td>\n",
              "      <td>23.0</td>\n",
              "      <td>51579</td>\n",
              "      <td>2013-03-02</td>\n",
              "      <td>1.0</td>\n",
              "      <td>a light, tasty and easy to put together chicke...</td>\n",
              "      <td>5</td>\n",
              "    </tr>\n",
              "    <tr>\n",
              "      <th>2</th>\n",
              "      <td>1428572</td>\n",
              "      <td>tania lander</td>\n",
              "      <td>0.0</td>\n",
              "      <td>68884</td>\n",
              "      <td>1980-11-09</td>\n",
              "      <td>1.0</td>\n",
              "      <td>a delicious melt in your mouth appetizer. for ...</td>\n",
              "      <td>5</td>\n",
              "    </tr>\n",
              "    <tr>\n",
              "      <th>3</th>\n",
              "      <td>1400250</td>\n",
              "      <td>heloise milli asher doogh zojirushi</td>\n",
              "      <td>24.0</td>\n",
              "      <td>678862</td>\n",
              "      <td>2018-04-29</td>\n",
              "      <td>3.0</td>\n",
              "      <td>delicious cream cheese and peach filled cresce...</td>\n",
              "      <td>1</td>\n",
              "    </tr>\n",
              "    <tr>\n",
              "      <th>4</th>\n",
              "      <td>387709</td>\n",
              "      <td>nutty chocolate chunk cookies</td>\n",
              "      <td>47.0</td>\n",
              "      <td>489552</td>\n",
              "      <td>2009-08-31</td>\n",
              "      <td>8.0</td>\n",
              "      <td>everyone loves these buttery cookies chock ful...</td>\n",
              "      <td>10</td>\n",
              "    </tr>\n",
              "    <tr>\n",
              "      <th>...</th>\n",
              "      <td>...</td>\n",
              "      <td>...</td>\n",
              "      <td>...</td>\n",
              "      <td>...</td>\n",
              "      <td>...</td>\n",
              "      <td>...</td>\n",
              "      <td>...</td>\n",
              "      <td>...</td>\n",
              "    </tr>\n",
              "    <tr>\n",
              "      <th>278949</th>\n",
              "      <td>1029131</td>\n",
              "      <td>tuti waffle snackies steakhouse</td>\n",
              "      <td>19.0</td>\n",
              "      <td>171345</td>\n",
              "      <td>1973-10-18</td>\n",
              "      <td>4.0</td>\n",
              "      <td>according to a providence journal article, ama...</td>\n",
              "      <td>4</td>\n",
              "    </tr>\n",
              "    <tr>\n",
              "      <th>278950</th>\n",
              "      <td>1700703</td>\n",
              "      <td>noelias cheats crocante fleisch zitumbuwa</td>\n",
              "      <td>1.0</td>\n",
              "      <td>30228</td>\n",
              "      <td>2007-07-01</td>\n",
              "      <td>6.0</td>\n",
              "      <td>if possible sauté the onions and garlic in abo...</td>\n",
              "      <td>1</td>\n",
              "    </tr>\n",
              "    <tr>\n",
              "      <th>278951</th>\n",
              "      <td>1910650</td>\n",
              "      <td>rubbed restuffed pelmeni bedouin flavourful</td>\n",
              "      <td>60.0</td>\n",
              "      <td>591905</td>\n",
              "      <td>2009-09-26</td>\n",
              "      <td>3.0</td>\n",
              "      <td>another great recipe to add to the growing swe...</td>\n",
              "      <td>2</td>\n",
              "    </tr>\n",
              "    <tr>\n",
              "      <th>278952</th>\n",
              "      <td>713836</td>\n",
              "      <td>stems polpettine peezi</td>\n",
              "      <td>NaN</td>\n",
              "      <td>357389</td>\n",
              "      <td>2003-09-30</td>\n",
              "      <td>4.0</td>\n",
              "      <td>adapted from top secret recipes. love this!</td>\n",
              "      <td>9</td>\n",
              "    </tr>\n",
              "    <tr>\n",
              "      <th>278953</th>\n",
              "      <td>660699</td>\n",
              "      <td>clementines</td>\n",
              "      <td>64.0</td>\n",
              "      <td>29196</td>\n",
              "      <td>1973-06-03</td>\n",
              "      <td>6.0</td>\n",
              "      <td>this would make a great start to your holiday ...</td>\n",
              "      <td>8</td>\n",
              "    </tr>\n",
              "  </tbody>\n",
              "</table>\n",
              "<p>2231637 rows × 8 columns</p>\n",
              "</div>\n",
              "      <button class=\"colab-df-convert\" onclick=\"convertToInteractive('df-b46a00b4-76cd-44ba-9a19-4980ee01a196')\"\n",
              "              title=\"Convert this dataframe to an interactive table.\"\n",
              "              style=\"display:none;\">\n",
              "        \n",
              "  <svg xmlns=\"http://www.w3.org/2000/svg\" height=\"24px\"viewBox=\"0 0 24 24\"\n",
              "       width=\"24px\">\n",
              "    <path d=\"M0 0h24v24H0V0z\" fill=\"none\"/>\n",
              "    <path d=\"M18.56 5.44l.94 2.06.94-2.06 2.06-.94-2.06-.94-.94-2.06-.94 2.06-2.06.94zm-11 1L8.5 8.5l.94-2.06 2.06-.94-2.06-.94L8.5 2.5l-.94 2.06-2.06.94zm10 10l.94 2.06.94-2.06 2.06-.94-2.06-.94-.94-2.06-.94 2.06-2.06.94z\"/><path d=\"M17.41 7.96l-1.37-1.37c-.4-.4-.92-.59-1.43-.59-.52 0-1.04.2-1.43.59L10.3 9.45l-7.72 7.72c-.78.78-.78 2.05 0 2.83L4 21.41c.39.39.9.59 1.41.59.51 0 1.02-.2 1.41-.59l7.78-7.78 2.81-2.81c.8-.78.8-2.07 0-2.86zM5.41 20L4 18.59l7.72-7.72 1.47 1.35L5.41 20z\"/>\n",
              "  </svg>\n",
              "      </button>\n",
              "      \n",
              "  <style>\n",
              "    .colab-df-container {\n",
              "      display:flex;\n",
              "      flex-wrap:wrap;\n",
              "      gap: 12px;\n",
              "    }\n",
              "\n",
              "    .colab-df-convert {\n",
              "      background-color: #E8F0FE;\n",
              "      border: none;\n",
              "      border-radius: 50%;\n",
              "      cursor: pointer;\n",
              "      display: none;\n",
              "      fill: #1967D2;\n",
              "      height: 32px;\n",
              "      padding: 0 0 0 0;\n",
              "      width: 32px;\n",
              "    }\n",
              "\n",
              "    .colab-df-convert:hover {\n",
              "      background-color: #E2EBFA;\n",
              "      box-shadow: 0px 1px 2px rgba(60, 64, 67, 0.3), 0px 1px 3px 1px rgba(60, 64, 67, 0.15);\n",
              "      fill: #174EA6;\n",
              "    }\n",
              "\n",
              "    [theme=dark] .colab-df-convert {\n",
              "      background-color: #3B4455;\n",
              "      fill: #D2E3FC;\n",
              "    }\n",
              "\n",
              "    [theme=dark] .colab-df-convert:hover {\n",
              "      background-color: #434B5C;\n",
              "      box-shadow: 0px 1px 3px 1px rgba(0, 0, 0, 0.15);\n",
              "      filter: drop-shadow(0px 1px 2px rgba(0, 0, 0, 0.3));\n",
              "      fill: #FFFFFF;\n",
              "    }\n",
              "  </style>\n",
              "\n",
              "      <script>\n",
              "        const buttonEl =\n",
              "          document.querySelector('#df-b46a00b4-76cd-44ba-9a19-4980ee01a196 button.colab-df-convert');\n",
              "        buttonEl.style.display =\n",
              "          google.colab.kernel.accessAllowed ? 'block' : 'none';\n",
              "\n",
              "        async function convertToInteractive(key) {\n",
              "          const element = document.querySelector('#df-b46a00b4-76cd-44ba-9a19-4980ee01a196');\n",
              "          const dataTable =\n",
              "            await google.colab.kernel.invokeFunction('convertToInteractive',\n",
              "                                                     [key], {});\n",
              "          if (!dataTable) return;\n",
              "\n",
              "          const docLinkHtml = 'Like what you see? Visit the ' +\n",
              "            '<a target=\"_blank\" href=https://colab.research.google.com/notebooks/data_table.ipynb>data table notebook</a>'\n",
              "            + ' to learn more about interactive tables.';\n",
              "          element.innerHTML = '';\n",
              "          dataTable['output_type'] = 'display_data';\n",
              "          await google.colab.output.renderOutput(dataTable, element);\n",
              "          const docLink = document.createElement('div');\n",
              "          docLink.innerHTML = docLinkHtml;\n",
              "          element.appendChild(docLink);\n",
              "        }\n",
              "      </script>\n",
              "    </div>\n",
              "  </div>\n",
              "  "
            ]
          },
          "metadata": {},
          "execution_count": 7
        }
      ]
    },
    {
      "cell_type": "markdown",
      "metadata": {
        "id": "itdN2mukCbI4"
      },
      "source": [
        "2. Выведите метаинформацию о таблице: `npartitions` и типы столбцов."
      ]
    },
    {
      "cell_type": "code",
      "source": [
        "recipes"
      ],
      "metadata": {
        "colab": {
          "base_uri": "https://localhost:8080/",
          "height": 272
        },
        "id": "1K6i95PIL2JV",
        "outputId": "d56c345d-1119-4b5f-f7e9-07d7e424a04c"
      },
      "execution_count": null,
      "outputs": [
        {
          "output_type": "execute_result",
          "data": {
            "text/plain": [
              "Dask DataFrame Structure:\n",
              "                  id    name  minutes contributor_id       submitted  n_steps description n_ingredients\n",
              "npartitions=8                                                                                          \n",
              "               int64  object  float64          int64  datetime64[ns]  float64      object         int64\n",
              "                 ...     ...      ...            ...             ...      ...         ...           ...\n",
              "...              ...     ...      ...            ...             ...      ...         ...           ...\n",
              "                 ...     ...      ...            ...             ...      ...         ...           ...\n",
              "                 ...     ...      ...            ...             ...      ...         ...           ...\n",
              "Dask Name: read-csv, 1 graph layer"
            ],
            "text/html": [
              "<div><strong>Dask DataFrame Structure:</strong></div>\n",
              "<div>\n",
              "<style scoped>\n",
              "    .dataframe tbody tr th:only-of-type {\n",
              "        vertical-align: middle;\n",
              "    }\n",
              "\n",
              "    .dataframe tbody tr th {\n",
              "        vertical-align: top;\n",
              "    }\n",
              "\n",
              "    .dataframe thead th {\n",
              "        text-align: right;\n",
              "    }\n",
              "</style>\n",
              "<table border=\"1\" class=\"dataframe\">\n",
              "  <thead>\n",
              "    <tr style=\"text-align: right;\">\n",
              "      <th></th>\n",
              "      <th>id</th>\n",
              "      <th>name</th>\n",
              "      <th>minutes</th>\n",
              "      <th>contributor_id</th>\n",
              "      <th>submitted</th>\n",
              "      <th>n_steps</th>\n",
              "      <th>description</th>\n",
              "      <th>n_ingredients</th>\n",
              "    </tr>\n",
              "    <tr>\n",
              "      <th>npartitions=8</th>\n",
              "      <th></th>\n",
              "      <th></th>\n",
              "      <th></th>\n",
              "      <th></th>\n",
              "      <th></th>\n",
              "      <th></th>\n",
              "      <th></th>\n",
              "      <th></th>\n",
              "    </tr>\n",
              "  </thead>\n",
              "  <tbody>\n",
              "    <tr>\n",
              "      <th></th>\n",
              "      <td>int64</td>\n",
              "      <td>object</td>\n",
              "      <td>float64</td>\n",
              "      <td>int64</td>\n",
              "      <td>datetime64[ns]</td>\n",
              "      <td>float64</td>\n",
              "      <td>object</td>\n",
              "      <td>int64</td>\n",
              "    </tr>\n",
              "    <tr>\n",
              "      <th></th>\n",
              "      <td>...</td>\n",
              "      <td>...</td>\n",
              "      <td>...</td>\n",
              "      <td>...</td>\n",
              "      <td>...</td>\n",
              "      <td>...</td>\n",
              "      <td>...</td>\n",
              "      <td>...</td>\n",
              "    </tr>\n",
              "    <tr>\n",
              "      <th>...</th>\n",
              "      <td>...</td>\n",
              "      <td>...</td>\n",
              "      <td>...</td>\n",
              "      <td>...</td>\n",
              "      <td>...</td>\n",
              "      <td>...</td>\n",
              "      <td>...</td>\n",
              "      <td>...</td>\n",
              "    </tr>\n",
              "    <tr>\n",
              "      <th></th>\n",
              "      <td>...</td>\n",
              "      <td>...</td>\n",
              "      <td>...</td>\n",
              "      <td>...</td>\n",
              "      <td>...</td>\n",
              "      <td>...</td>\n",
              "      <td>...</td>\n",
              "      <td>...</td>\n",
              "    </tr>\n",
              "    <tr>\n",
              "      <th></th>\n",
              "      <td>...</td>\n",
              "      <td>...</td>\n",
              "      <td>...</td>\n",
              "      <td>...</td>\n",
              "      <td>...</td>\n",
              "      <td>...</td>\n",
              "      <td>...</td>\n",
              "      <td>...</td>\n",
              "    </tr>\n",
              "  </tbody>\n",
              "</table>\n",
              "</div>\n",
              "<div>Dask Name: read-csv, 1 graph layer</div>"
            ]
          },
          "metadata": {},
          "execution_count": 8
        }
      ]
    },
    {
      "cell_type": "markdown",
      "metadata": {
        "id": "MVeUcGamCbI5"
      },
      "source": [
        "3. Выведите на экран 5 первых строк таблицы. Выведите на экран 5 последних строк таблицы. В случае сообщения об ошибки объясните причину и исправьте ошибку."
      ]
    },
    {
      "cell_type": "code",
      "source": [
        "recipes.tail(5)"
      ],
      "metadata": {
        "colab": {
          "base_uri": "https://localhost:8080/",
          "height": 423
        },
        "id": "RRGPrMS4L5FX",
        "outputId": "f456f869-6564-49ca-b33f-50aeeaa586b4"
      },
      "execution_count": null,
      "outputs": [
        {
          "output_type": "execute_result",
          "data": {
            "text/plain": [
              "             id                                         name  minutes  \\\n",
              "278949  1029131              tuti waffle snackies steakhouse     19.0   \n",
              "278950  1700703    noelias cheats crocante fleisch zitumbuwa      1.0   \n",
              "278951  1910650  rubbed restuffed pelmeni bedouin flavourful     60.0   \n",
              "278952   713836                       stems polpettine peezi      NaN   \n",
              "278953   660699                                  clementines     64.0   \n",
              "\n",
              "        contributor_id  submitted  n_steps  \\\n",
              "278949          171345 1973-10-18      4.0   \n",
              "278950           30228 2007-07-01      6.0   \n",
              "278951          591905 2009-09-26      3.0   \n",
              "278952          357389 2003-09-30      4.0   \n",
              "278953           29196 1973-06-03      6.0   \n",
              "\n",
              "                                              description  n_ingredients  \n",
              "278949  according to a providence journal article, ama...              4  \n",
              "278950  if possible sauté the onions and garlic in abo...              1  \n",
              "278951  another great recipe to add to the growing swe...              2  \n",
              "278952        adapted from top secret recipes. love this!              9  \n",
              "278953  this would make a great start to your holiday ...              8  "
            ],
            "text/html": [
              "\n",
              "  <div id=\"df-e3f4cdb9-e811-4e6b-9a81-079686f850e8\">\n",
              "    <div class=\"colab-df-container\">\n",
              "      <div>\n",
              "<style scoped>\n",
              "    .dataframe tbody tr th:only-of-type {\n",
              "        vertical-align: middle;\n",
              "    }\n",
              "\n",
              "    .dataframe tbody tr th {\n",
              "        vertical-align: top;\n",
              "    }\n",
              "\n",
              "    .dataframe thead th {\n",
              "        text-align: right;\n",
              "    }\n",
              "</style>\n",
              "<table border=\"1\" class=\"dataframe\">\n",
              "  <thead>\n",
              "    <tr style=\"text-align: right;\">\n",
              "      <th></th>\n",
              "      <th>id</th>\n",
              "      <th>name</th>\n",
              "      <th>minutes</th>\n",
              "      <th>contributor_id</th>\n",
              "      <th>submitted</th>\n",
              "      <th>n_steps</th>\n",
              "      <th>description</th>\n",
              "      <th>n_ingredients</th>\n",
              "    </tr>\n",
              "  </thead>\n",
              "  <tbody>\n",
              "    <tr>\n",
              "      <th>278949</th>\n",
              "      <td>1029131</td>\n",
              "      <td>tuti waffle snackies steakhouse</td>\n",
              "      <td>19.0</td>\n",
              "      <td>171345</td>\n",
              "      <td>1973-10-18</td>\n",
              "      <td>4.0</td>\n",
              "      <td>according to a providence journal article, ama...</td>\n",
              "      <td>4</td>\n",
              "    </tr>\n",
              "    <tr>\n",
              "      <th>278950</th>\n",
              "      <td>1700703</td>\n",
              "      <td>noelias cheats crocante fleisch zitumbuwa</td>\n",
              "      <td>1.0</td>\n",
              "      <td>30228</td>\n",
              "      <td>2007-07-01</td>\n",
              "      <td>6.0</td>\n",
              "      <td>if possible sauté the onions and garlic in abo...</td>\n",
              "      <td>1</td>\n",
              "    </tr>\n",
              "    <tr>\n",
              "      <th>278951</th>\n",
              "      <td>1910650</td>\n",
              "      <td>rubbed restuffed pelmeni bedouin flavourful</td>\n",
              "      <td>60.0</td>\n",
              "      <td>591905</td>\n",
              "      <td>2009-09-26</td>\n",
              "      <td>3.0</td>\n",
              "      <td>another great recipe to add to the growing swe...</td>\n",
              "      <td>2</td>\n",
              "    </tr>\n",
              "    <tr>\n",
              "      <th>278952</th>\n",
              "      <td>713836</td>\n",
              "      <td>stems polpettine peezi</td>\n",
              "      <td>NaN</td>\n",
              "      <td>357389</td>\n",
              "      <td>2003-09-30</td>\n",
              "      <td>4.0</td>\n",
              "      <td>adapted from top secret recipes. love this!</td>\n",
              "      <td>9</td>\n",
              "    </tr>\n",
              "    <tr>\n",
              "      <th>278953</th>\n",
              "      <td>660699</td>\n",
              "      <td>clementines</td>\n",
              "      <td>64.0</td>\n",
              "      <td>29196</td>\n",
              "      <td>1973-06-03</td>\n",
              "      <td>6.0</td>\n",
              "      <td>this would make a great start to your holiday ...</td>\n",
              "      <td>8</td>\n",
              "    </tr>\n",
              "  </tbody>\n",
              "</table>\n",
              "</div>\n",
              "      <button class=\"colab-df-convert\" onclick=\"convertToInteractive('df-e3f4cdb9-e811-4e6b-9a81-079686f850e8')\"\n",
              "              title=\"Convert this dataframe to an interactive table.\"\n",
              "              style=\"display:none;\">\n",
              "        \n",
              "  <svg xmlns=\"http://www.w3.org/2000/svg\" height=\"24px\"viewBox=\"0 0 24 24\"\n",
              "       width=\"24px\">\n",
              "    <path d=\"M0 0h24v24H0V0z\" fill=\"none\"/>\n",
              "    <path d=\"M18.56 5.44l.94 2.06.94-2.06 2.06-.94-2.06-.94-.94-2.06-.94 2.06-2.06.94zm-11 1L8.5 8.5l.94-2.06 2.06-.94-2.06-.94L8.5 2.5l-.94 2.06-2.06.94zm10 10l.94 2.06.94-2.06 2.06-.94-2.06-.94-.94-2.06-.94 2.06-2.06.94z\"/><path d=\"M17.41 7.96l-1.37-1.37c-.4-.4-.92-.59-1.43-.59-.52 0-1.04.2-1.43.59L10.3 9.45l-7.72 7.72c-.78.78-.78 2.05 0 2.83L4 21.41c.39.39.9.59 1.41.59.51 0 1.02-.2 1.41-.59l7.78-7.78 2.81-2.81c.8-.78.8-2.07 0-2.86zM5.41 20L4 18.59l7.72-7.72 1.47 1.35L5.41 20z\"/>\n",
              "  </svg>\n",
              "      </button>\n",
              "      \n",
              "  <style>\n",
              "    .colab-df-container {\n",
              "      display:flex;\n",
              "      flex-wrap:wrap;\n",
              "      gap: 12px;\n",
              "    }\n",
              "\n",
              "    .colab-df-convert {\n",
              "      background-color: #E8F0FE;\n",
              "      border: none;\n",
              "      border-radius: 50%;\n",
              "      cursor: pointer;\n",
              "      display: none;\n",
              "      fill: #1967D2;\n",
              "      height: 32px;\n",
              "      padding: 0 0 0 0;\n",
              "      width: 32px;\n",
              "    }\n",
              "\n",
              "    .colab-df-convert:hover {\n",
              "      background-color: #E2EBFA;\n",
              "      box-shadow: 0px 1px 2px rgba(60, 64, 67, 0.3), 0px 1px 3px 1px rgba(60, 64, 67, 0.15);\n",
              "      fill: #174EA6;\n",
              "    }\n",
              "\n",
              "    [theme=dark] .colab-df-convert {\n",
              "      background-color: #3B4455;\n",
              "      fill: #D2E3FC;\n",
              "    }\n",
              "\n",
              "    [theme=dark] .colab-df-convert:hover {\n",
              "      background-color: #434B5C;\n",
              "      box-shadow: 0px 1px 3px 1px rgba(0, 0, 0, 0.15);\n",
              "      filter: drop-shadow(0px 1px 2px rgba(0, 0, 0, 0.3));\n",
              "      fill: #FFFFFF;\n",
              "    }\n",
              "  </style>\n",
              "\n",
              "      <script>\n",
              "        const buttonEl =\n",
              "          document.querySelector('#df-e3f4cdb9-e811-4e6b-9a81-079686f850e8 button.colab-df-convert');\n",
              "        buttonEl.style.display =\n",
              "          google.colab.kernel.accessAllowed ? 'block' : 'none';\n",
              "\n",
              "        async function convertToInteractive(key) {\n",
              "          const element = document.querySelector('#df-e3f4cdb9-e811-4e6b-9a81-079686f850e8');\n",
              "          const dataTable =\n",
              "            await google.colab.kernel.invokeFunction('convertToInteractive',\n",
              "                                                     [key], {});\n",
              "          if (!dataTable) return;\n",
              "\n",
              "          const docLinkHtml = 'Like what you see? Visit the ' +\n",
              "            '<a target=\"_blank\" href=https://colab.research.google.com/notebooks/data_table.ipynb>data table notebook</a>'\n",
              "            + ' to learn more about interactive tables.';\n",
              "          element.innerHTML = '';\n",
              "          dataTable['output_type'] = 'display_data';\n",
              "          await google.colab.output.renderOutput(dataTable, element);\n",
              "          const docLink = document.createElement('div');\n",
              "          docLink.innerHTML = docLinkHtml;\n",
              "          element.appendChild(docLink);\n",
              "        }\n",
              "      </script>\n",
              "    </div>\n",
              "  </div>\n",
              "  "
            ]
          },
          "metadata": {},
          "execution_count": 30
        }
      ]
    },
    {
      "cell_type": "markdown",
      "metadata": {
        "id": "rmEcrzVgCbI6"
      },
      "source": [
        "4. Посчитайте, сколько строк содержит каждый из блоков"
      ]
    },
    {
      "cell_type": "code",
      "source": [
        "def count_rows(df):\n",
        "    return len(df)\n",
        "recipes.map_partitions(count_rows).compute()\n"
      ],
      "metadata": {
        "colab": {
          "base_uri": "https://localhost:8080/"
        },
        "id": "am2KoIuSL_4K",
        "outputId": "5b53e73a-2328-49af-8330-3a1a1a12156a"
      },
      "execution_count": null,
      "outputs": [
        {
          "output_type": "execute_result",
          "data": {
            "text/plain": [
              "0    278955\n",
              "1    278955\n",
              "2    278955\n",
              "3    278955\n",
              "4    278955\n",
              "5    278954\n",
              "6    278954\n",
              "7    278954\n",
              "dtype: int64"
            ]
          },
          "metadata": {},
          "execution_count": 32
        }
      ]
    },
    {
      "cell_type": "markdown",
      "metadata": {
        "id": "7cyxQo0iCbI7"
      },
      "source": [
        "5. Найдите максимум в столбце `n_steps`. Визуализируйте граф вычислений для этой задачи. Прокомментируйте логику работы `dask` в этом случае."
      ]
    },
    {
      "cell_type": "code",
      "source": [
        "mx = recipes['n_steps'].max()\n",
        "mx.compute()"
      ],
      "metadata": {
        "colab": {
          "base_uri": "https://localhost:8080/"
        },
        "id": "9nBmPGT9MCrt",
        "outputId": "2039fc3f-d197-4a07-cce2-348ad18a33c7"
      },
      "execution_count": null,
      "outputs": [
        {
          "output_type": "execute_result",
          "data": {
            "text/plain": [
              "145.0"
            ]
          },
          "metadata": {},
          "execution_count": 35
        }
      ]
    },
    {
      "cell_type": "code",
      "source": [
        "mx.visualize()"
      ],
      "metadata": {
        "colab": {
          "base_uri": "https://localhost:8080/",
          "height": 547
        },
        "id": "BHbuEqIDRReT",
        "outputId": "c1d02b08-55d3-41d4-c475-17b6a68c104e"
      },
      "execution_count": null,
      "outputs": [
        {
          "output_type": "execute_result",
          "data": {
            "image/png": "[encoded data removed]",
            "text/plain": [
              "<IPython.core.display.Image object>"
            ]
          },
          "metadata": {},
          "execution_count": 36
        }
      ]
    },
    {
      "cell_type": "markdown",
      "metadata": {
        "id": "h-GHAAeBCbI8"
      },
      "source": [
        "6. Посчитайте количество отзывов с группировкой по месяцам добавления отзыва в базу."
      ]
    },
    {
      "cell_type": "code",
      "source": [
        "count_by_month = recipes.groupby(recipes['submitted'].dt.strftime('%Y-%m'))['id'].count().compute()\n",
        "count_by_month"
      ],
      "metadata": {
        "colab": {
          "base_uri": "https://localhost:8080/"
        },
        "id": "VCnVApAHRYeF",
        "outputId": "14736ed6-b681-497f-90c3-c1a1ce84cdba"
      },
      "execution_count": null,
      "outputs": [
        {
          "output_type": "execute_result",
          "data": {
            "text/plain": [
              "submitted\n",
              "1970-01    3306\n",
              "1970-02    2943\n",
              "1970-03    3324\n",
              "1970-04    3245\n",
              "1970-05    3284\n",
              "           ... \n",
              "2021-04    3139\n",
              "2021-05    3223\n",
              "2021-06    3128\n",
              "2021-07    3342\n",
              "2021-08    1195\n",
              "Name: id, Length: 620, dtype: int64"
            ]
          },
          "metadata": {},
          "execution_count": 10
        }
      ]
    },
    {
      "cell_type": "markdown",
      "metadata": {
        "id": "DYYEBhUrCbI8"
      },
      "source": [
        "7. Считайте файлы из архива `reviews_full.zip` (__ЛР12__) в виде `dask.bag`. Пользуясь результатом лабораторной работы 12, рассчитайте среднее значение оценок отзывов с группировкой по месяцам. После завершения всех вычислений преобразуйте результат к `pd.Series`."
      ]
    },
    {
      "cell_type": "code",
      "source": [
        "def modifiedLoads(x):\n",
        "  dct = json.loads(x[0])\n",
        "  dct[\"rating\"] = int(x[1][-6])\n",
        "  return dct\n",
        "\n",
        "bag = db.read_text(\"/content/drive/MyDrive/tobd/reviews_full/reviews_*.json\", include_path=True).map(modifiedLoads)\n",
        "df = bag.to_dataframe()\n",
        "df['date'] = dd.to_datetime(df['date'])\n",
        "new_df = df[['date', 'rating']]\n",
        "mean_ratings_by_month = pd.Series(new_df.groupby(new_df['date'].dt.strftime('%Y-%m'))['rating'].mean().compute())\n",
        "mean_ratings_by_month"
      ],
      "metadata": {
        "id": "PF6lEFprSOF3",
        "colab": {
          "base_uri": "https://localhost:8080/"
        },
        "outputId": "a0f54b10-bc23-41ea-ff2e-f49651a614b3"
      },
      "execution_count": null,
      "outputs": [
        {
          "output_type": "execute_result",
          "data": {
            "text/plain": [
              "date\n",
              "1970-02    4.333333\n",
              "1970-03    4.229167\n",
              "1970-04    4.456140\n",
              "1970-06    4.408163\n",
              "1970-07    4.380597\n",
              "             ...   \n",
              "2021-06    4.406870\n",
              "2021-07    4.406771\n",
              "2021-08    4.413223\n",
              "1970-01    4.375000\n",
              "1970-05    4.636364\n",
              "Name: rating, Length: 620, dtype: float64"
            ]
          },
          "metadata": {},
          "execution_count": 11
        }
      ]
    },
    {
      "cell_type": "markdown",
      "metadata": {
        "id": "vh_redumCbI9"
      },
      "source": [
        "8. Пользуясь результатами решения задач 6 и 7, создайте `pd.DataFrame`, содержащий два столбца: `mean_rating`, `recipes_count`"
      ]
    },
    {
      "cell_type": "code",
      "execution_count": null,
      "metadata": {
        "id": "IO2Q1OSGCbI-",
        "colab": {
          "base_uri": "https://localhost:8080/",
          "height": 423
        },
        "outputId": "f1d6a4d1-9cd2-467d-950d-a92019a7b169"
      },
      "outputs": [
        {
          "output_type": "execute_result",
          "data": {
            "text/plain": [
              "         recipes_count  mean_rating\n",
              "1970-01         3306.0     4.375000\n",
              "1970-02         2943.0     4.333333\n",
              "1970-03         3324.0     4.229167\n",
              "1970-04         3245.0     4.456140\n",
              "1970-05         3284.0     4.636364\n",
              "...                ...          ...\n",
              "2021-04         3139.0     4.407256\n",
              "2021-05         3223.0     4.407575\n",
              "2021-06         3128.0     4.406870\n",
              "2021-07         3342.0     4.406771\n",
              "2021-08         1195.0     4.413223\n",
              "\n",
              "[620 rows x 2 columns]"
            ],
            "text/html": [
              "\n",
              "  <div id=\"df-27e86f06-eb19-4053-9b11-2242a3b89ff0\">\n",
              "    <div class=\"colab-df-container\">\n",
              "      <div>\n",
              "<style scoped>\n",
              "    .dataframe tbody tr th:only-of-type {\n",
              "        vertical-align: middle;\n",
              "    }\n",
              "\n",
              "    .dataframe tbody tr th {\n",
              "        vertical-align: top;\n",
              "    }\n",
              "\n",
              "    .dataframe thead th {\n",
              "        text-align: right;\n",
              "    }\n",
              "</style>\n",
              "<table border=\"1\" class=\"dataframe\">\n",
              "  <thead>\n",
              "    <tr style=\"text-align: right;\">\n",
              "      <th></th>\n",
              "      <th>recipes_count</th>\n",
              "      <th>mean_rating</th>\n",
              "    </tr>\n",
              "  </thead>\n",
              "  <tbody>\n",
              "    <tr>\n",
              "      <th>1970-01</th>\n",
              "      <td>3306.0</td>\n",
              "      <td>4.375000</td>\n",
              "    </tr>\n",
              "    <tr>\n",
              "      <th>1970-02</th>\n",
              "      <td>2943.0</td>\n",
              "      <td>4.333333</td>\n",
              "    </tr>\n",
              "    <tr>\n",
              "      <th>1970-03</th>\n",
              "      <td>3324.0</td>\n",
              "      <td>4.229167</td>\n",
              "    </tr>\n",
              "    <tr>\n",
              "      <th>1970-04</th>\n",
              "      <td>3245.0</td>\n",
              "      <td>4.456140</td>\n",
              "    </tr>\n",
              "    <tr>\n",
              "      <th>1970-05</th>\n",
              "      <td>3284.0</td>\n",
              "      <td>4.636364</td>\n",
              "    </tr>\n",
              "    <tr>\n",
              "      <th>...</th>\n",
              "      <td>...</td>\n",
              "      <td>...</td>\n",
              "    </tr>\n",
              "    <tr>\n",
              "      <th>2021-04</th>\n",
              "      <td>3139.0</td>\n",
              "      <td>4.407256</td>\n",
              "    </tr>\n",
              "    <tr>\n",
              "      <th>2021-05</th>\n",
              "      <td>3223.0</td>\n",
              "      <td>4.407575</td>\n",
              "    </tr>\n",
              "    <tr>\n",
              "      <th>2021-06</th>\n",
              "      <td>3128.0</td>\n",
              "      <td>4.406870</td>\n",
              "    </tr>\n",
              "    <tr>\n",
              "      <th>2021-07</th>\n",
              "      <td>3342.0</td>\n",
              "      <td>4.406771</td>\n",
              "    </tr>\n",
              "    <tr>\n",
              "      <th>2021-08</th>\n",
              "      <td>1195.0</td>\n",
              "      <td>4.413223</td>\n",
              "    </tr>\n",
              "  </tbody>\n",
              "</table>\n",
              "<p>620 rows × 2 columns</p>\n",
              "</div>\n",
              "      <button class=\"colab-df-convert\" onclick=\"convertToInteractive('df-27e86f06-eb19-4053-9b11-2242a3b89ff0')\"\n",
              "              title=\"Convert this dataframe to an interactive table.\"\n",
              "              style=\"display:none;\">\n",
              "        \n",
              "  <svg xmlns=\"http://www.w3.org/2000/svg\" height=\"24px\"viewBox=\"0 0 24 24\"\n",
              "       width=\"24px\">\n",
              "    <path d=\"M0 0h24v24H0V0z\" fill=\"none\"/>\n",
              "    <path d=\"M18.56 5.44l.94 2.06.94-2.06 2.06-.94-2.06-.94-.94-2.06-.94 2.06-2.06.94zm-11 1L8.5 8.5l.94-2.06 2.06-.94-2.06-.94L8.5 2.5l-.94 2.06-2.06.94zm10 10l.94 2.06.94-2.06 2.06-.94-2.06-.94-.94-2.06-.94 2.06-2.06.94z\"/><path d=\"M17.41 7.96l-1.37-1.37c-.4-.4-.92-.59-1.43-.59-.52 0-1.04.2-1.43.59L10.3 9.45l-7.72 7.72c-.78.78-.78 2.05 0 2.83L4 21.41c.39.39.9.59 1.41.59.51 0 1.02-.2 1.41-.59l7.78-7.78 2.81-2.81c.8-.78.8-2.07 0-2.86zM5.41 20L4 18.59l7.72-7.72 1.47 1.35L5.41 20z\"/>\n",
              "  </svg>\n",
              "      </button>\n",
              "      \n",
              "  <style>\n",
              "    .colab-df-container {\n",
              "      display:flex;\n",
              "      flex-wrap:wrap;\n",
              "      gap: 12px;\n",
              "    }\n",
              "\n",
              "    .colab-df-convert {\n",
              "      background-color: #E8F0FE;\n",
              "      border: none;\n",
              "      border-radius: 50%;\n",
              "      cursor: pointer;\n",
              "      display: none;\n",
              "      fill: #1967D2;\n",
              "      height: 32px;\n",
              "      padding: 0 0 0 0;\n",
              "      width: 32px;\n",
              "    }\n",
              "\n",
              "    .colab-df-convert:hover {\n",
              "      background-color: #E2EBFA;\n",
              "      box-shadow: 0px 1px 2px rgba(60, 64, 67, 0.3), 0px 1px 3px 1px rgba(60, 64, 67, 0.15);\n",
              "      fill: #174EA6;\n",
              "    }\n",
              "\n",
              "    [theme=dark] .colab-df-convert {\n",
              "      background-color: #3B4455;\n",
              "      fill: #D2E3FC;\n",
              "    }\n",
              "\n",
              "    [theme=dark] .colab-df-convert:hover {\n",
              "      background-color: #434B5C;\n",
              "      box-shadow: 0px 1px 3px 1px rgba(0, 0, 0, 0.15);\n",
              "      filter: drop-shadow(0px 1px 2px rgba(0, 0, 0, 0.3));\n",
              "      fill: #FFFFFF;\n",
              "    }\n",
              "  </style>\n",
              "\n",
              "      <script>\n",
              "        const buttonEl =\n",
              "          document.querySelector('#df-27e86f06-eb19-4053-9b11-2242a3b89ff0 button.colab-df-convert');\n",
              "        buttonEl.style.display =\n",
              "          google.colab.kernel.accessAllowed ? 'block' : 'none';\n",
              "\n",
              "        async function convertToInteractive(key) {\n",
              "          const element = document.querySelector('#df-27e86f06-eb19-4053-9b11-2242a3b89ff0');\n",
              "          const dataTable =\n",
              "            await google.colab.kernel.invokeFunction('convertToInteractive',\n",
              "                                                     [key], {});\n",
              "          if (!dataTable) return;\n",
              "\n",
              "          const docLinkHtml = 'Like what you see? Visit the ' +\n",
              "            '<a target=\"_blank\" href=https://colab.research.google.com/notebooks/data_table.ipynb>data table notebook</a>'\n",
              "            + ' to learn more about interactive tables.';\n",
              "          element.innerHTML = '';\n",
              "          dataTable['output_type'] = 'display_data';\n",
              "          await google.colab.output.renderOutput(dataTable, element);\n",
              "          const docLink = document.createElement('div');\n",
              "          docLink.innerHTML = docLinkHtml;\n",
              "          element.appendChild(docLink);\n",
              "        }\n",
              "      </script>\n",
              "    </div>\n",
              "  </div>\n",
              "  "
            ]
          },
          "metadata": {},
          "execution_count": 25
        }
      ],
      "source": [
        "df8 = pd.DataFrame([count_by_month, mean_ratings_by_month]).transpose()\n",
        "df8.columns = ['recipes_count','mean_rating']\n",
        "df8"
      ]
    }
  ],
  "metadata": {
    "kernelspec": {
      "display_name": "Python 3",
      "language": "python",
      "name": "python3"
    },
    "language_info": {
      "codemirror_mode": {
        "name": "ipython",
        "version": 3
      },
      "file_extension": ".py",
      "mimetype": "text/x-python",
      "name": "python",
      "nbconvert_exporter": "python",
      "pygments_lexer": "ipython3",
      "version": "3.8.3"
    },
    "colab": {
      "provenance": []
    }
  },
  "nbformat": 4,
  "nbformat_minor": 0
}