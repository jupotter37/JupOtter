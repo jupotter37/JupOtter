{
 "cells": [
  {
   "cell_type": "code",
   "execution_count": 1,
   "metadata": {},
   "outputs": [],
   "source": [
    "import os\n",
    "from collections import OrderedDict \n",
    "import matplotlib.pyplot as plt    \n",
    "\n",
    "import numpy as np\n",
    "from astropy.io import fits\n",
    "from astropy.modeling import models\n",
    "from skimage.morphology import label\n",
    "import astropy.io.fits as pyfits\n",
    "import astropy.wcs as pywcs\n",
    "import grizli\n",
    "import grizli.model\n",
    "import grizli.fake_image\n",
    "workdir = '/hpc/group/cosmology/zg64/package-repo/Roman_grism_sim'\n",
    "if os.path.exists(workdir):\n",
    "    os.chdir(workdir)"
   ]
  },
  {
   "attachments": {},
   "cell_type": "markdown",
   "metadata": {},
   "source": [
    "### Create a fake direct image and seg map"
   ]
  },
  {
   "cell_type": "code",
   "execution_count": 2,
   "metadata": {},
   "outputs": [
    {
     "name": "stderr",
     "output_type": "stream",
     "text": [
      "WARNING: VerifyWarning: Verification reported errors: [astropy.io.fits.verify]\n",
      "WARNING: VerifyWarning: HDU 0: [astropy.io.fits.verify]\n",
      "WARNING: VerifyWarning:     NAXISj keyword out of range ('NAXIS1' when NAXIS == 0)  Deleted. [astropy.io.fits.verify]\n",
      "WARNING: VerifyWarning:     NAXISj keyword out of range ('NAXIS2' when NAXIS == 0)  Deleted. [astropy.io.fits.verify]\n",
      "WARNING: VerifyWarning: HDU 1: [astropy.io.fits.verify]\n",
      "WARNING: VerifyWarning:     'NAXIS1' card at the wrong place (card 10).  Fixed by moving it to the right place (card 3). [astropy.io.fits.verify]\n",
      "WARNING: VerifyWarning:     'NAXIS2' card at the wrong place (card 15).  Fixed by moving it to the right place (card 4). [astropy.io.fits.verify]\n",
      "WARNING: VerifyWarning: HDU 2: [astropy.io.fits.verify]\n",
      "WARNING: VerifyWarning: HDU 3: [astropy.io.fits.verify]\n",
      "WARNING: VerifyWarning: Note: astropy.io.fits uses zero-based indexing.\n",
      " [astropy.io.fits.verify]\n"
     ]
    },
    {
     "data": {
      "text/plain": [
       "[<astropy.io.fits.hdu.image.PrimaryHDU object at 0x7f494c77e370>, <astropy.io.fits.hdu.image.ImageHDU object at 0x7f4915cdc580>, <astropy.io.fits.hdu.image.ImageHDU object at 0x7f4915cdc430>, <astropy.io.fits.hdu.image.ImageHDU object at 0x7f4915cdc520>]"
      ]
     },
     "execution_count": 2,
     "metadata": {},
     "output_type": "execute_result"
    }
   ],
   "source": [
    "# make fake grism image (just noise) first to get the header\n",
    "\n",
    "NEXP =   10  # divided between 10 exposures\n",
    "EXPTIME = 347*NEXP # 10 ks ~ 4 HST orbits\n",
    "ra, dec = 53.1592277508136, -27.782056346146\n",
    "\n",
    "\n",
    "h, wcs =grizli.fake_image.roman_header(ra=ra, dec=dec, pa_aper=0, naxis=(1024,1024))\n",
    "grizli.fake_image.make_fake_image(h, output='roman_example_flt.fits', exptime=EXPTIME, nexp=NEXP)\n",
    "\n"
   ]
  },
  {
   "cell_type": "code",
   "execution_count": 3,
   "metadata": {},
   "outputs": [],
   "source": [
    "def get_counts(mag):\n",
    "    counts = np.power(10, -0.4 * (mag - ZP))\n",
    "    return counts\n",
    "\n",
    "dirimage = 'roman_grism_test_dirimg.fits'\n",
    "segfile = dirimage.replace('dirimg.fits', 'segmap.fits')\n",
    "NPIX = 1024\n",
    "ZP = 26.3\n",
    "mag1, mag2 = 21.0, 20.5\n",
    "exptime = 3600\n",
    "\n",
    "# First create direct image and segfile\n",
    "full_img = np.zeros((NPIX, NPIX))\n",
    "# Create Gaussian function models\n",
    "# stddev in pixels\n",
    "gaussfunc1 = models.Gaussian2D(x_stddev=5, y_stddev=5)\n",
    "gaussfunc2 = models.Gaussian2D(x_stddev=5, y_stddev=5)\n",
    "\n",
    "# Put the two galaxies at predetermined locations\n",
    "gaussfunc1.x_mean = 300\n",
    "gaussfunc1.y_mean = 500\n",
    "gaussfunc2.x_mean = 100\n",
    "gaussfunc2.y_mean = 800\n",
    "\n",
    "x, y = np.meshgrid(np.arange(NPIX), np.arange(NPIX))\n",
    "full_img += gaussfunc1(x, y)\n",
    "full_img += gaussfunc2(x, y)\n",
    "\n",
    "# Get required coutns\n",
    "counts1 = get_counts(mag1)\n",
    "counts2 = get_counts(mag2)\n",
    "all_counts = [counts1, counts2]\n",
    "\n",
    "# Generate segmap\n",
    "threshold = 0.3  # threshold to apply to the image\n",
    "good = full_img > threshold  # these pixels belong to a source\n",
    "segmap = label(good)  # now these pixels have unique SegIDs\n",
    "\n",
    "nonzero_idx = np.where(segmap != 0)\n",
    "segids = np.sort(np.unique(segmap[nonzero_idx]))\n",
    "\n",
    "for i in range(len(segids)):\n",
    "    segid = segids[i]\n",
    "    segidx = np.where(segmap == segid)\n",
    "    src_counts = np.sum(full_img[segidx])\n",
    "    counts = all_counts[i]\n",
    "    # scale\n",
    "    scale_fac = counts / src_counts\n",
    "    full_img[segidx] *= scale_fac\n",
    "\n",
    "# Save\n",
    "# Create a header using header from grism flt file to get the correct WCS\n",
    "dirimg_hdr = fits.getheader('roman_example_flt.fits')\n",
    "hdr = dirimg_hdr\n",
    "\n",
    "# delete some keywords from grism flt header\n",
    "del hdr['PHOTFLAM']\n",
    "del hdr['PHOTPLAM']\n",
    "ihdul = fits.HDUList()\n",
    "\n",
    "ext_sci = fits.ImageHDU(data=full_img, header=hdr, name='SCI')\n",
    "ihdul.append(ext_sci)\n",
    "ihdul.writeto(dirimage, overwrite=True)\n",
    "\n",
    "# Save segmap\n",
    "shdul = fits.HDUList()\n",
    "ext1 = fits.ImageHDU(data=segmap, header=hdr, name='SCI')\n",
    "shdul.append(ext1)\n",
    "shdul.writeto(segfile, overwrite=True)"
   ]
  },
  {
   "cell_type": "code",
   "execution_count": 4,
   "metadata": {},
   "outputs": [
    {
     "data": {
      "text/plain": [
       "(450.0, 850.0)"
      ]
     },
     "execution_count": 4,
     "metadata": {},
     "output_type": "execute_result"
    },
    {
     "data": {
      "image/png": "[encoded data removed]",
      "text/plain": [
       "<Figure size 800x800 with 2 Axes>"
      ]
     },
     "metadata": {},
     "output_type": "display_data"
    }
   ],
   "source": [
    "# Show the image and segmentation map\n",
    "fig,(p1,p2) = plt.subplots(1,2,figsize=(8,8),sharex=True,sharey=True)\n",
    "p1.imshow(full_img,origin='lower')\n",
    "p2.imshow(segmap,origin='lower')\n",
    "plt.xlim(0,400)\n",
    "plt.ylim(450,850)"
   ]
  },
  {
   "cell_type": "code",
   "execution_count": null,
   "metadata": {},
   "outputs": [],
   "source": [
    "# This is the config file for the grism simulation\n",
    "'''\n",
    "INSTRUMENT ROMAN \n",
    "CAMERA IR\n",
    "SCIENCE_EXT SCI ; Science extension\n",
    "DQ_EXT DQ\n",
    "ERRORS_EXT ERR\n",
    "DQMASK 16383\n",
    "RDNOISE 0.0\n",
    "EXPTIME EXPTIME\n",
    "POBJSIZE 1.0\n",
    "SMFACTOR 1.0\n",
    "DRZRESOLA 10.764\n",
    "DRZSCALE 0.110\n",
    "DRZLAMB0 12850.0\n",
    "#DRZXINI 15.0\n",
    "#DRZROOT aXeWFC3\n",
    "TELAREA 45238.93\n",
    "\n",
    "# First order (BEAM A) \n",
    "# BEAMA and DLDP assume spectrum is centered on the imaging position\n",
    "BEAMA -800 800\n",
    "MMAG_EXTRACT_A 30\n",
    "MMAG_MARK_A 30\n",
    "\n",
    "#\n",
    "# Trace description\n",
    "DYDX_ORDER_A 2\n",
    "DYDX_A_0 \t66.4449  -0.00579476   -0.0124014      0.00000 -1.86114e-08      0.00000 \n",
    "DYDX_A_1    -0.0125705 -8.97764e-07  2.83491e-06      0.00000  2.07533e-10      0.00000\n",
    "DYDX_A_2  -7.68463e-07  3.99010e-11  2.54744e-10      0.00000 -2.19269e-14      0.00000\n",
    "\n",
    "#\n",
    "# X and Y Offsets\n",
    "#\n",
    "XOFF_A 0.0\n",
    "YOFF_A 0.0\n",
    "\n",
    "#\n",
    "# Dispersion solution\n",
    "#\n",
    "DISP_ORDER_A 2\n",
    "DLDP_A_0       16142.1    -0.115115   -0.0635720      0.00000 -3.98700e-06      0.00000\n",
    "DLDP_A_1      -10.9977  6.65564e-05 -6.39743e-06      0.00000  1.27897e-10      0.00000\n",
    "DLDP_A_2  -3.10835e-05  6.03563e-09  1.17572e-09      0.00000 -4.74624e-13      0.00000\n",
    "\n",
    "\n",
    "SENSITIVITY_A sens_0720_2020.fits\n",
    "'''"
   ]
  },
  {
   "cell_type": "code",
   "execution_count": 5,
   "metadata": {},
   "outputs": [
    {
     "name": "stdout",
     "output_type": "stream",
     "text": [
      "\n",
      "\n"
     ]
    },
    {
     "name": "stderr",
     "output_type": "stream",
     "text": [
      "WARNING: FITSFixedWarning: 'datfix' made the change 'Set MJD-OBS to 60202.000000 from DATE-OBS'. [astropy.wcs.wcs]\n",
      "WARNING: FITSFixedWarning: 'datfix' made the change 'Set MJD-OBS to 60202.000000 from DATE-OBS'. [astropy.wcs.wcs]\n"
     ]
    },
    {
     "name": "stdout",
     "output_type": "stream",
     "text": [
      "Image cutout: x=slice(0, 1024, None), y=slice(0, 1024, None) [Out of range]\n",
      "roman_example_flt.fits / blot reference roman_grism_test_dirimg.fits[0]\n",
      "The following task in the stsci.skypac package can be run with TEAL:\n",
      "                                    skymatch                                    \n",
      "The following tasks in the drizzlepac package can be run with TEAL:\n",
      "    astrodrizzle       config_testbed      imagefindpars           mapreg       \n",
      "       photeq            pixreplace           pixtopix            pixtosky      \n",
      "  refimagefindpars       resetbits          runastrodriz          skytopix      \n",
      "     tweakback            tweakreg           updatenpol\n",
      "Using default C-based coordinate transformation...\n",
      "Image cutout: x=slice(0, 1024, None), y=slice(0, 1024, None) [Out of range]\n",
      "roman_example_flt.fits / Pad ref HDU with 4064 pixels\n",
      "roman_example_flt.fits / blot segmentation roman_grism_test_segmap.fits[0]\n",
      "Using default C-based coordinate transformation...\n",
      "Using default C-based coordinate transformation...\n"
     ]
    },
    {
     "name": "stderr",
     "output_type": "stream",
     "text": [
      "2it [00:00, 35.01it/s]"
     ]
    },
    {
     "name": "stdout",
     "output_type": "stream",
     "text": [
      "\n",
      "########################################## \n",
      "# ! Exception (2023-09-15 05:59:31.048)\n",
      "#\n",
      "# !Traceback (most recent call last):\n",
      "# !  File \"/hpc/group/cosmology/zg64/miniconda3/envs/grizli39/lib/python3.9/site-packages/grizli/model.py\", line 419, in process_config\n",
      "# !    self.flat_index = self.idx[dyc + self.x0[0], self.dxpix]\n",
      "# !IndexError: index 93 is out of bounds for axis 0 with size 52\n",
      "# !\n",
      "# !During handling of the above exception, another exception occurred:\n",
      "# !\n",
      "# !Traceback (most recent call last):\n",
      "# !  File \"/hpc/group/cosmology/zg64/miniconda3/envs/grizli39/lib/python3.9/site-packages/grizli/model.py\", line 3148, in compute_model_orders\n",
      "# !    beam = GrismDisperser(id=id,\n",
      "# !  File \"/hpc/group/cosmology/zg64/miniconda3/envs/grizli39/lib/python3.9/site-packages/grizli/model.py\", line 289, in __init__\n",
      "# !    self.process_config()\n",
      "# !IndexError\n",
      "# !\n",
      "######################################### \n",
      "\n",
      "\n",
      "\n",
      "########################################## \n",
      "# ! Exception (2023-09-15 05:59:31.074)\n",
      "#\n",
      "# !Traceback (most recent call last):\n",
      "# !  File \"/hpc/group/cosmology/zg64/miniconda3/envs/grizli39/lib/python3.9/site-packages/grizli/model.py\", line 419, in process_config\n",
      "# !    self.flat_index = self.idx[dyc + self.x0[0], self.dxpix]\n",
      "# !IndexError: index 89 is out of bounds for axis 0 with size 52\n",
      "# !\n",
      "# !During handling of the above exception, another exception occurred:\n",
      "# !\n",
      "# !Traceback (most recent call last):\n",
      "# !  File \"/hpc/group/cosmology/zg64/miniconda3/envs/grizli39/lib/python3.9/site-packages/grizli/model.py\", line 3148, in compute_model_orders\n",
      "# !    beam = GrismDisperser(id=id,\n",
      "# !  File \"/hpc/group/cosmology/zg64/miniconda3/envs/grizli39/lib/python3.9/site-packages/grizli/model.py\", line 289, in __init__\n",
      "# !    self.process_config()\n",
      "# !IndexError\n",
      "# !\n",
      "######################################### \n",
      "\n",
      "\n"
     ]
    },
    {
     "name": "stderr",
     "output_type": "stream",
     "text": [
      "\n"
     ]
    }
   ],
   "source": [
    "# Simulate grism image with flat sed model\n",
    "sim_roman = grizli.model.GrismFLT(grism_file='roman_example_flt.fits', \n",
    "                                  ref_file='roman_grism_test_dirimg.fits', \n",
    "                                  seg_file='roman_grism_test_segmap.fits',\n",
    "                                  pad=(2000,2000))\n",
    "\n",
    "sim_roman.compute_full_model(ids=[1,2], mags=[21,20.5], verbose=True)"
   ]
  },
  {
   "cell_type": "code",
   "execution_count": null,
   "metadata": {},
   "outputs": [],
   "source": []
  }
 ],
 "metadata": {
  "kernelspec": {
   "display_name": "Python 3 (ipykernel)",
   "language": "python",
   "name": "python3"
  },
  "language_info": {
   "codemirror_mode": {
    "name": "ipython",
    "version": 3
   },
   "file_extension": ".py",
   "mimetype": "text/x-python",
   "name": "python",
   "nbconvert_exporter": "python",
   "pygments_lexer": "ipython3",
   "version": "3.9.17"
  },
  "orig_nbformat": 4
 },
 "nbformat": 4,
 "nbformat_minor": 2
}
