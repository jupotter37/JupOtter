{
  "nbformat": 4,
  "nbformat_minor": 0,
  "metadata": {
    "colab": {
      "name": "w10-signal-detection-theory.ipynb",
      "provenance": [],
      "collapsed_sections": [
        "FwmGo7WjDwlM",
        "mzMLqtN6D3Mu",
        "MicXBomzEDVr",
        "uQMmNALKEKjH",
        "b1Lj2e4_EQle",
        "PNwuMbgKFVkm",
        "QEABqtntFi8G"
      ],
      "toc_visible": true,
      "authorship_tag": "ABX9TyN3ZETZrQ3oQ5AY34N15m0t"
    },
    "kernelspec": {
      "name": "python3",
      "display_name": "Python 3"
    }
  },
  "cells": [
    {
      "cell_type": "markdown",
      "metadata": {
        "id": "4oCWPA4WBwH-"
      },
      "source": [
        "# Signal Detection Theory (SDT): Tutorial\n",
        "\n",
        "__Zhuanghua Shi__ (shi@lmu.de)\n",
        "\n",
        "[![Open In Colab](https://colab.research.google.com/assets/colab-badge.svg)](https://colab.research.google.com/github/strongway/tutorial_data_science/blob/master/lecture_tutorials/w10_signal_detection_theory.ipynb)\n",
        "\n",
        "## 1. Recall Psychometric function (PF) and Signal Detection Theory (SDT)\n",
        "\n",
        "The psychometric function (PF) measures human performance on a psychophysical task (e.g., classification) to a given feature of a physical stimulus (e.g., velocity, duration, brightness, etc.). Recall typical classification response is a binary response, and the sensory input is continuous, so the probability of response is a sigmoid function. A general psychometric function includes the chance level and attentional lapses:\n",
        "\n",
        "$$\\Psi(x,\\alpha, \\beta, \\gamma, \\lambda) = \\gamma + (1-\\gamma -\\lambda) F(x, \\alpha, \\beta)$$\n",
        "where $\\alpha$ is the threshold, $\\beta$ the sensitivity, $\\gamma$ the chance level, and $\\lambda$ the lapse rate. Parameters can be estimated by using logistic regression. \n",
        "\n",
        "## High-threshold theory\n",
        "\n",
        "Let's imagine a simple two-interval force-choice (2IFC) task in which observers had to identify which interval contains a target. This kind of 2IFC task can be treated as a signal detection paradigm. Let's denote the interval containing the stimulus as $S$ (signal), and the blank interval as $N$ (noise). The below figure illustrates a probability distribution of two signals. \n",
        "\n",
        "![High Threshold](https://github.com/strongway/tutorial_data_science/raw/master/figures/high_threshold.png)\n",
        "_Figure from Kingdom and Prins (2016), Figure 4.7_\n",
        "\n",
        "Whether or not the sensory process will detect the sitmulus on any trial is determined by the amount of sensory evidence accumulated by the sensory system. Let's assume that the mean amount of accumulated evidence is a linear function of stimulus intensity $x$:\n",
        "\n",
        "$$\\mu(x)=\\pi + \\rho x$$\n",
        "\n",
        "According to high-threshold theory, the sensory mechanism will detect the stimulus when the amount of sensory evidence exceeds a fixed internal criterion or threshold. As its name implied, high-threshold theory assumes that the internal threshold is high. More specifically, the threshold is assumed to be high enough such that the probability that the threshold is exceedd when $x=0$ (i.e., noise) is effective zero. The decision is based on binary information only: either the sensory evidence was in excess of the threshold, or the sensory evidence was not in excess of the threshold. Given the assumptions we have made, function $F(x)$, which describes the probability that the threshold will be exceeded by a stimulus of intensity $x$, will be the cumulative normal distribution (see the inset in the above Figure). \n",
        "\n",
        "By contrast, there is no such thing as a fixed internal threshold according to SDT. Instead, SDT makes the assumption that sensory mechanism generate a graded signal, corresponding to the degree of sensory evidence accumulated. The decision process has access  to the degree of sensory evidence accumulated on both Signal and Noise. We may think of any presentation of a stimulus as a sample from the probability density function associated with the stimulus. Even in the absence of a stimulus, differing degrees of sensory evidence results, and we may think of the presentation of the noise interval as a sample from the probability density function associated with the noise stimulus. Thus, the decision is based on the relative amplitude of two samples: Signal $N(\\pi + \\rho x), \\sigma^2$, and Noise $N(\\pi, \\sigma^2)$. \n",
        "\n",
        "For 2IFC, one simple decision rule is that if the sample taken during the sitmulus interval has a value greater than the sample taken during the noise interval. That is, if the difference between the sample value derived from the signal interval and the sample value derived from the noise interval exceed zero, the response will be correct. The difference in sensory evidence will be distributed as $N(\\rho x, 2 \\sigma^2)$. "
      ]
    },
    {
      "cell_type": "markdown",
      "metadata": {
        "id": "FwmGo7WjDwlM"
      },
      "source": [
        "## 2. Calculation of d' and bias C for M-AFC"
      ]
    },
    {
      "cell_type": "markdown",
      "metadata": {
        "id": "mzMLqtN6D3Mu"
      },
      "source": [
        "### 2.1 Yes/No 1AFC\n",
        "\n",
        "Yes/No paradigm, known as 1AFC, is particularly prone to bias. Suppose two observers have the same internal sensitivity, but use different response criteria. Observed psychometric functions would differ a lot between two observers. The SDT can distinguish the response bias from the sensitivity with the following estimates:\n",
        "\n",
        "$$d' = z(Hit) - z(FA)$$\n",
        "\n",
        "$$c =-[z(Hit)+z(FA)]/2$$\n"
      ]
    },
    {
      "cell_type": "markdown",
      "metadata": {
        "id": "MicXBomzEDVr"
      },
      "source": [
        "### 2.2 Unbiased 2IFC\n",
        "\n",
        "With the standard 2IFC procedure, the N and S+N stimuli are presented together in a trial as two alternatives. Remember that the decision rule is to choose the alternative in which the internal signal is biggest. If the observer adopts this rule, trials in which the _difference_ between the S+N and N samples are positive will result in a correct decision. The variance of the _difference_ is the summation of the variances of the S+N and N. The proportion correct for 2AFC is thus given by the grey area in the lower panel to the right of zero. This is:\n",
        "\n",
        "$$ P_c = \\Phi(d'/\\sqrt{2})$$\n",
        "\n",
        "and \n",
        "\n",
        "$$ d' = z(P_c) \\sqrt2$$\n",
        "\n",
        "![2AFC](https://github.com/strongway/tutorial_data_science/raw/master/figures/2afc.jpg)\n",
        "_Graphical illustration of how d' is calculated from an unbiased 2AFC task. Figure from Kingdom and Prins (2016)_\n",
        "\n",
        "\n",
        "For the __biased 2IFC__, the calculation is the same as shown in 1AFC. \n"
      ]
    },
    {
      "cell_type": "markdown",
      "metadata": {
        "id": "uQMmNALKEKjH"
      },
      "source": [
        "## 3. Confusion Matrix and ROC curve\n",
        "\n",
        "1AFC or 2AFC are essential binary classification. The probabilities of outcomes from S and N define the confusion matrix. \n",
        "\n",
        "Response | Signal  |  Noise\n",
        "-------- | -------  | -------\n",
        "Yes      | Hit      | FA\n",
        "No       | Miss     | CR\n",
        "\n",
        "ROC curve plots with the horizontal axis (FA) and the vertical axis (Hit). On the same ROC curve, Hit/FA with liberal criteria locate at the right-up corner, whereas Hit/FA with conservative criteria locate at the lower-left corner. A ROC curve with high d' relative to low d' has __a larger area under the curve__. Sometimes we also use the Area under the curve (AUC) to measure the sensitity. \n",
        "\n",
        "Assuming Gaussian distribution, we have the folling relation between d' and AUX ($A_z$):\n",
        "\n",
        "$$A_z = \\Phi(\\frac{d'}{\\sqrt 2})$$\n",
        "\n",
        "Note, sometimes we also use ROC curves and AUCs to select the best logistic regression models. "
      ]
    },
    {
      "cell_type": "markdown",
      "metadata": {
        "id": "b1Lj2e4_EQle"
      },
      "source": [
        "## 4. Example: Neural decoding (Britten et al. 1992)\n",
        "\n",
        "[Britten and collegues (1992)](https://doi.org/10.1523/JNEUROSCI.12-12-04745.1992) compared the ability of psychophysical observers and single cortical neurons to discriminate weak motion signals in a stochastic visual display. \n",
        "\n",
        "![RDM](https://github.com/strongway/tutorial_data_science/raw/master/figures/random_dot_motion.jpg)\n",
        "\n",
        "They recorded money's behavioral responses as well as responses from MT neurons. The following Figure shows frequency histogram of reponses obtained from a single MT neuron at five different correlation levels. The black bars illustrate reponses for null direction motion, while the white bars represent responses for motion in the neuron's preferred direction. We can see clearly the distance between the _signal_ and the _noise_ depends on the motion coherence.  \n",
        "\n",
        "![MT Neurons responses](https://github.com/strongway/tutorial_data_science/raw/master/figures/britten_frequencies.jpg)\n",
        "\n",
        "Given that one sees a firing rate from that neuron in one trial, how should one decode whether the RDM was moving upward or downward? It depends on the decision criterion! The unbias decision should set the criterion in the middle. \n",
        "\n",
        "The below figure plots the ROC curves for the five pairs. Each ROC was generated by increasing the criterion level from 0 to 120 spikes in one-spike increments. Recall the area under the ROC is an alternative measure of the sensitivity, which is shown on the right side of the curve. \n",
        "\n",
        "![ROC](https://github.com/strongway/tutorial_data_science/raw/master/figures/britten_rocs.jpg)\n",
        "\n",
        "\n",
        "And you can see from Figure below, the neuron's senstivity curve is very close to the behavioral responses. \n",
        "\n",
        "![comparison](https://github.com/strongway/tutorial_data_science/raw/master/figures/britten_comparisons.jpg)\n",
        "\n"
      ]
    },
    {
      "cell_type": "markdown",
      "metadata": {
        "id": "7C8Ngsz8EdHO"
      },
      "source": [
        "## 5. Practice: Temporal bisection \n",
        "\n",
        "The dataset I provide here is the same data that we used in previous tutorial, a study on influence of music tempo on duration judgments. The same dataset we used in the previous tutorial session. \n",
        "\n",
        "In the study, same classic music pieces were manipulated and played in three different tempo: slow, medium, and faster. The length of the music piece was randomly select from 2 to 8 seconds. Participants had to judge if the music piece was a 'short' or a 'long' one. Participants had to estimate the 'short' or 'long' based on the past trials they received. The research question is if the music tempo alters the time judgment.  \n",
        "\n",
        "A sample experimental data that contains three participants' responses can be found [here](https://raw.githubusercontent.com/strongway/r-statistics/master/data/music_bisection.csv).\n",
        "\n",
        "Please download the data file first to your local folder. Here I put in a subfolder called 'data' in my local computer. \n"
      ]
    },
    {
      "cell_type": "markdown",
      "metadata": {
        "id": "yB7t1hVlExMX"
      },
      "source": [
        "### Step 1. Load data\n",
        "\n",
        "Let us first load the data: "
      ]
    },
    {
      "cell_type": "code",
      "metadata": {
        "colab": {
          "base_uri": "https://localhost:8080/",
          "height": 398
        },
        "id": "32N5dOMhDv6V",
        "outputId": "6c141cd2-41fe-4234-a06d-35484e700147"
      },
      "source": [
        "%matplotlib inline\n",
        "import numpy as np\n",
        "import pandas as pd\n",
        "import statsmodels.api as sm\n",
        "from scipy import stats\n",
        "\n",
        "import matplotlib.pyplot as plt\n",
        "\n",
        "#load data\n",
        "dat = pd.read_csv('https://raw.githubusercontent.com/strongway/r-statistics/master/data/music_bisection.csv', sep = ';')\n",
        "dat = dat.assign(resp = dat.Decision -1) # change to 0 to 1 for two categories\n",
        "print(dat.head())\n",
        "\n",
        "# quickly visualize responses for three participants\n",
        "dat.pivot_table( 'resp', 'Duration','Tempo' ).plot()"
      ],
      "execution_count": 36,
      "outputs": [
        {
          "output_type": "stream",
          "text": [
            "  Participant  Duration  Tempo  Stimuli_Nu  Decision  Music_Duration  resp\n",
            "0      Sub101         2      1          10         1        2.001604     0\n",
            "1      Sub101         6      3          10         2        6.000169     1\n",
            "2      Sub101         5      1           4         2        5.000097     1\n",
            "3      Sub101         7      1           8         2        7.000105     1\n",
            "4      Sub101         2      3           1         1        2.000080     0\n"
          ],
          "name": "stdout"
        },
        {
          "output_type": "execute_result",
          "data": {
            "text/plain": [
              "<matplotlib.axes._subplots.AxesSubplot at 0x7f78b4226d30>"
            ]
          },
          "metadata": {
            "tags": []
          },
          "execution_count": 36
        },
        {
          "output_type": "display_data",
          "data": {
            "image/png": "[encoded data removed]",
            "text/plain": [
              "<Figure size 432x288 with 1 Axes>"
            ]
          },
          "metadata": {
            "tags": [],
            "needs_background": "light"
          }
        }
      ]
    },
    {
      "cell_type": "markdown",
      "metadata": {
        "id": "SbV3Ah2-FQfD"
      },
      "source": [
        "### Step 2. Data transformation\n",
        "\n",
        "Note, the study was not designed for the signal detection analysis. However, here we use this data to explore the possibility of using STD from different aspects. Recall, the bisection task is to ask participants to bisect the duration sampled from 2 to 8 seconds into two categories: Short, and Long. \n",
        "Here we only analysis two durations that close to the mean duration 5 secs: 4-sec and 6-sec durations, and check if their sensitivity changes across different tempi. \n",
        "\n",
        "_Another thought_: we can also analyze all data points, and use the mean duration 5 as the noise signal, while the difference of the other duration relative to 5 seconds as the signal intensity, and we should be able to obtain muliple d' and C across different durations, separated for each tempo. \n",
        "\n"
      ]
    },
    {
      "cell_type": "code",
      "metadata": {
        "colab": {
          "base_uri": "https://localhost:8080/",
          "height": 204
        },
        "id": "tDQ56ap3BkZM",
        "outputId": "cb9966ca-a5c3-4ae7-f5f6-3041648dc005"
      },
      "source": [
        "# select durations 4 and 6 secs\n",
        "\n",
        "m_acc = dat.query(\"Duration == 4 | Duration == 6\").assign( # add correct column\n",
        "         correct = lambda df: df.resp == (df.Duration>5)).groupby( # group for sub, tempo, Duration\n",
        "             ['Participant', 'Tempo', 'Duration']).agg({'correct':'mean', \"Decision\": 'count' }).\\\n",
        "             reset_index().rename(columns = {\"Decision\":\"Repetition\"}) # calculate mean correct rate\n",
        "\n",
        "\n",
        "m_acc.head()"
      ],
      "execution_count": 39,
      "outputs": [
        {
          "output_type": "execute_result",
          "data": {
            "text/html": [
              "<div>\n",
              "<style scoped>\n",
              "    .dataframe tbody tr th:only-of-type {\n",
              "        vertical-align: middle;\n",
              "    }\n",
              "\n",
              "    .dataframe tbody tr th {\n",
              "        vertical-align: top;\n",
              "    }\n",
              "\n",
              "    .dataframe thead th {\n",
              "        text-align: right;\n",
              "    }\n",
              "</style>\n",
              "<table border=\"1\" class=\"dataframe\">\n",
              "  <thead>\n",
              "    <tr style=\"text-align: right;\">\n",
              "      <th></th>\n",
              "      <th>Participant</th>\n",
              "      <th>Tempo</th>\n",
              "      <th>Duration</th>\n",
              "      <th>correct</th>\n",
              "      <th>Repetition</th>\n",
              "    </tr>\n",
              "  </thead>\n",
              "  <tbody>\n",
              "    <tr>\n",
              "      <th>0</th>\n",
              "      <td>Sub101</td>\n",
              "      <td>1</td>\n",
              "      <td>4</td>\n",
              "      <td>1.00</td>\n",
              "      <td>20</td>\n",
              "    </tr>\n",
              "    <tr>\n",
              "      <th>1</th>\n",
              "      <td>Sub101</td>\n",
              "      <td>1</td>\n",
              "      <td>6</td>\n",
              "      <td>0.45</td>\n",
              "      <td>20</td>\n",
              "    </tr>\n",
              "    <tr>\n",
              "      <th>2</th>\n",
              "      <td>Sub101</td>\n",
              "      <td>2</td>\n",
              "      <td>4</td>\n",
              "      <td>1.00</td>\n",
              "      <td>20</td>\n",
              "    </tr>\n",
              "    <tr>\n",
              "      <th>3</th>\n",
              "      <td>Sub101</td>\n",
              "      <td>2</td>\n",
              "      <td>6</td>\n",
              "      <td>0.55</td>\n",
              "      <td>20</td>\n",
              "    </tr>\n",
              "    <tr>\n",
              "      <th>4</th>\n",
              "      <td>Sub101</td>\n",
              "      <td>3</td>\n",
              "      <td>4</td>\n",
              "      <td>1.00</td>\n",
              "      <td>20</td>\n",
              "    </tr>\n",
              "  </tbody>\n",
              "</table>\n",
              "</div>"
            ],
            "text/plain": [
              "  Participant  Tempo  Duration  correct  Repetition\n",
              "0      Sub101      1         4     1.00          20\n",
              "1      Sub101      1         6     0.45          20\n",
              "2      Sub101      2         4     1.00          20\n",
              "3      Sub101      2         6     0.55          20\n",
              "4      Sub101      3         4     1.00          20"
            ]
          },
          "metadata": {
            "tags": []
          },
          "execution_count": 39
        }
      ]
    },
    {
      "cell_type": "code",
      "metadata": {
        "colab": {
          "base_uri": "https://localhost:8080/",
          "height": 328
        },
        "id": "m3Er1tjRC4OK",
        "outputId": "9446c9c3-beda-420b-dffd-478e73fcbe90"
      },
      "source": [
        "# spread the Duration (4 vs. 6)\n",
        "m_acc_s = m_acc.pivot(index = ['Participant','Tempo'], columns = 'Duration', values = 'correct')\\\n",
        "    .reset_index().rename(columns = {4:\"Short\",6:\"Long\"})\n",
        "m_acc_s"
      ],
      "execution_count": 49,
      "outputs": [
        {
          "output_type": "execute_result",
          "data": {
            "text/html": [
              "<div>\n",
              "<style scoped>\n",
              "    .dataframe tbody tr th:only-of-type {\n",
              "        vertical-align: middle;\n",
              "    }\n",
              "\n",
              "    .dataframe tbody tr th {\n",
              "        vertical-align: top;\n",
              "    }\n",
              "\n",
              "    .dataframe thead th {\n",
              "        text-align: right;\n",
              "    }\n",
              "</style>\n",
              "<table border=\"1\" class=\"dataframe\">\n",
              "  <thead>\n",
              "    <tr style=\"text-align: right;\">\n",
              "      <th>Duration</th>\n",
              "      <th>Participant</th>\n",
              "      <th>Tempo</th>\n",
              "      <th>Short</th>\n",
              "      <th>Long</th>\n",
              "    </tr>\n",
              "  </thead>\n",
              "  <tbody>\n",
              "    <tr>\n",
              "      <th>0</th>\n",
              "      <td>Sub101</td>\n",
              "      <td>1</td>\n",
              "      <td>1.00</td>\n",
              "      <td>0.45</td>\n",
              "    </tr>\n",
              "    <tr>\n",
              "      <th>1</th>\n",
              "      <td>Sub101</td>\n",
              "      <td>2</td>\n",
              "      <td>1.00</td>\n",
              "      <td>0.55</td>\n",
              "    </tr>\n",
              "    <tr>\n",
              "      <th>2</th>\n",
              "      <td>Sub101</td>\n",
              "      <td>3</td>\n",
              "      <td>1.00</td>\n",
              "      <td>0.75</td>\n",
              "    </tr>\n",
              "    <tr>\n",
              "      <th>3</th>\n",
              "      <td>Sub102</td>\n",
              "      <td>1</td>\n",
              "      <td>0.70</td>\n",
              "      <td>0.95</td>\n",
              "    </tr>\n",
              "    <tr>\n",
              "      <th>4</th>\n",
              "      <td>Sub102</td>\n",
              "      <td>2</td>\n",
              "      <td>0.70</td>\n",
              "      <td>0.90</td>\n",
              "    </tr>\n",
              "    <tr>\n",
              "      <th>5</th>\n",
              "      <td>Sub102</td>\n",
              "      <td>3</td>\n",
              "      <td>0.60</td>\n",
              "      <td>0.95</td>\n",
              "    </tr>\n",
              "    <tr>\n",
              "      <th>6</th>\n",
              "      <td>Sub103</td>\n",
              "      <td>1</td>\n",
              "      <td>0.85</td>\n",
              "      <td>0.95</td>\n",
              "    </tr>\n",
              "    <tr>\n",
              "      <th>7</th>\n",
              "      <td>Sub103</td>\n",
              "      <td>2</td>\n",
              "      <td>0.55</td>\n",
              "      <td>0.90</td>\n",
              "    </tr>\n",
              "    <tr>\n",
              "      <th>8</th>\n",
              "      <td>Sub103</td>\n",
              "      <td>3</td>\n",
              "      <td>0.65</td>\n",
              "      <td>0.90</td>\n",
              "    </tr>\n",
              "  </tbody>\n",
              "</table>\n",
              "</div>"
            ],
            "text/plain": [
              "Duration Participant  Tempo  Short  Long\n",
              "0             Sub101      1   1.00  0.45\n",
              "1             Sub101      2   1.00  0.55\n",
              "2             Sub101      3   1.00  0.75\n",
              "3             Sub102      1   0.70  0.95\n",
              "4             Sub102      2   0.70  0.90\n",
              "5             Sub102      3   0.60  0.95\n",
              "6             Sub103      1   0.85  0.95\n",
              "7             Sub103      2   0.55  0.90\n",
              "8             Sub103      3   0.65  0.90"
            ]
          },
          "metadata": {
            "tags": []
          },
          "execution_count": 49
        }
      ]
    },
    {
      "cell_type": "markdown",
      "metadata": {
        "id": "PNwuMbgKFVkm"
      },
      "source": [
        "### Step 3. Calculation of d' and C\n",
        "\n",
        "Recall that for the Two-alternative discrimination task, we have\n",
        "\n",
        "$$d' = z(P_A) + z(P_B) $$\n",
        "\n",
        "$$C = -[z(P_A) - z(P_B)]/2$$\n",
        "Now we can calculate individual $d'$ and $C$. Note, Some observers made perfect responses in some easy conditions. Z-score (`scipy.stats.norm.ppf()`) will get infinite value when the probability is 0 or 1.   For such extreme values (i.e., hit rates of 1 and false-alarm rates of 0), A common method for  adjustments is to apply a small correction ([Macmillan & Kaplan, 1985](https://www.ncbi.nlm.nih.gov/pubmed/4034817); Stanislaw & Todorov, 1999): rates of 0 were replaced by 0.5/n, and rates of 1 by 1–0.5/n, where n is the number of trials, respectively. So you need to adjust a bit, such that the probability $p$ falls into $[0.01,0.99]$. \n",
        "\n",
        "Note: `scipy.stats.zscore()` is used for the zscore within the numpy array after normalization, which is different from what we want. "
      ]
    },
    {
      "cell_type": "code",
      "metadata": {
        "colab": {
          "base_uri": "https://localhost:8080/",
          "height": 328
        },
        "id": "GWycx3omGri_",
        "outputId": "30d85bfb-2cec-46a3-d0e7-796b10b66cc9"
      },
      "source": [
        "# we saw there were some 1  let's adjust them\n",
        "# if you see 0 in both columns, you should adjust them as well. \n",
        "m_acc_s[['Short','Long']] = m_acc_s[['Short','Long']].replace(1,1-0.5/20)\n",
        "m_acc_s"
      ],
      "execution_count": 51,
      "outputs": [
        {
          "output_type": "execute_result",
          "data": {
            "text/html": [
              "<div>\n",
              "<style scoped>\n",
              "    .dataframe tbody tr th:only-of-type {\n",
              "        vertical-align: middle;\n",
              "    }\n",
              "\n",
              "    .dataframe tbody tr th {\n",
              "        vertical-align: top;\n",
              "    }\n",
              "\n",
              "    .dataframe thead th {\n",
              "        text-align: right;\n",
              "    }\n",
              "</style>\n",
              "<table border=\"1\" class=\"dataframe\">\n",
              "  <thead>\n",
              "    <tr style=\"text-align: right;\">\n",
              "      <th>Duration</th>\n",
              "      <th>Participant</th>\n",
              "      <th>Tempo</th>\n",
              "      <th>Short</th>\n",
              "      <th>Long</th>\n",
              "    </tr>\n",
              "  </thead>\n",
              "  <tbody>\n",
              "    <tr>\n",
              "      <th>0</th>\n",
              "      <td>Sub101</td>\n",
              "      <td>1</td>\n",
              "      <td>0.975</td>\n",
              "      <td>0.45</td>\n",
              "    </tr>\n",
              "    <tr>\n",
              "      <th>1</th>\n",
              "      <td>Sub101</td>\n",
              "      <td>2</td>\n",
              "      <td>0.975</td>\n",
              "      <td>0.55</td>\n",
              "    </tr>\n",
              "    <tr>\n",
              "      <th>2</th>\n",
              "      <td>Sub101</td>\n",
              "      <td>3</td>\n",
              "      <td>0.975</td>\n",
              "      <td>0.75</td>\n",
              "    </tr>\n",
              "    <tr>\n",
              "      <th>3</th>\n",
              "      <td>Sub102</td>\n",
              "      <td>1</td>\n",
              "      <td>0.700</td>\n",
              "      <td>0.95</td>\n",
              "    </tr>\n",
              "    <tr>\n",
              "      <th>4</th>\n",
              "      <td>Sub102</td>\n",
              "      <td>2</td>\n",
              "      <td>0.700</td>\n",
              "      <td>0.90</td>\n",
              "    </tr>\n",
              "    <tr>\n",
              "      <th>5</th>\n",
              "      <td>Sub102</td>\n",
              "      <td>3</td>\n",
              "      <td>0.600</td>\n",
              "      <td>0.95</td>\n",
              "    </tr>\n",
              "    <tr>\n",
              "      <th>6</th>\n",
              "      <td>Sub103</td>\n",
              "      <td>1</td>\n",
              "      <td>0.850</td>\n",
              "      <td>0.95</td>\n",
              "    </tr>\n",
              "    <tr>\n",
              "      <th>7</th>\n",
              "      <td>Sub103</td>\n",
              "      <td>2</td>\n",
              "      <td>0.550</td>\n",
              "      <td>0.90</td>\n",
              "    </tr>\n",
              "    <tr>\n",
              "      <th>8</th>\n",
              "      <td>Sub103</td>\n",
              "      <td>3</td>\n",
              "      <td>0.650</td>\n",
              "      <td>0.90</td>\n",
              "    </tr>\n",
              "  </tbody>\n",
              "</table>\n",
              "</div>"
            ],
            "text/plain": [
              "Duration Participant  Tempo  Short  Long\n",
              "0             Sub101      1  0.975  0.45\n",
              "1             Sub101      2  0.975  0.55\n",
              "2             Sub101      3  0.975  0.75\n",
              "3             Sub102      1  0.700  0.95\n",
              "4             Sub102      2  0.700  0.90\n",
              "5             Sub102      3  0.600  0.95\n",
              "6             Sub103      1  0.850  0.95\n",
              "7             Sub103      2  0.550  0.90\n",
              "8             Sub103      3  0.650  0.90"
            ]
          },
          "metadata": {
            "tags": []
          },
          "execution_count": 51
        }
      ]
    },
    {
      "cell_type": "code",
      "metadata": {
        "colab": {
          "base_uri": "https://localhost:8080/",
          "height": 328
        },
        "id": "b3vyzIDbJ4aa",
        "outputId": "c06e79b9-a20e-45b4-da41-2531095b149c"
      },
      "source": [
        "# now we calculate d' and C\n",
        "m_acc_s['d'] =stats.norm.ppf(m_acc_s.Short) + stats.norm.ppf(m_acc_s.Long)\n",
        "m_acc_s['c'] = -(stats.norm.ppf(m_acc_s.Short) - stats.norm.ppf(m_acc_s.Long))/2\n",
        "m_acc_s"
      ],
      "execution_count": 61,
      "outputs": [
        {
          "output_type": "execute_result",
          "data": {
            "text/html": [
              "<div>\n",
              "<style scoped>\n",
              "    .dataframe tbody tr th:only-of-type {\n",
              "        vertical-align: middle;\n",
              "    }\n",
              "\n",
              "    .dataframe tbody tr th {\n",
              "        vertical-align: top;\n",
              "    }\n",
              "\n",
              "    .dataframe thead th {\n",
              "        text-align: right;\n",
              "    }\n",
              "</style>\n",
              "<table border=\"1\" class=\"dataframe\">\n",
              "  <thead>\n",
              "    <tr style=\"text-align: right;\">\n",
              "      <th>Duration</th>\n",
              "      <th>Participant</th>\n",
              "      <th>Tempo</th>\n",
              "      <th>Short</th>\n",
              "      <th>Long</th>\n",
              "      <th>d</th>\n",
              "      <th>c</th>\n",
              "    </tr>\n",
              "  </thead>\n",
              "  <tbody>\n",
              "    <tr>\n",
              "      <th>0</th>\n",
              "      <td>Sub101</td>\n",
              "      <td>1</td>\n",
              "      <td>0.975</td>\n",
              "      <td>0.45</td>\n",
              "      <td>1.834303</td>\n",
              "      <td>-1.042813</td>\n",
              "    </tr>\n",
              "    <tr>\n",
              "      <th>1</th>\n",
              "      <td>Sub101</td>\n",
              "      <td>2</td>\n",
              "      <td>0.975</td>\n",
              "      <td>0.55</td>\n",
              "      <td>2.085625</td>\n",
              "      <td>-0.917151</td>\n",
              "    </tr>\n",
              "    <tr>\n",
              "      <th>2</th>\n",
              "      <td>Sub101</td>\n",
              "      <td>3</td>\n",
              "      <td>0.975</td>\n",
              "      <td>0.75</td>\n",
              "      <td>2.634454</td>\n",
              "      <td>-0.642737</td>\n",
              "    </tr>\n",
              "    <tr>\n",
              "      <th>3</th>\n",
              "      <td>Sub102</td>\n",
              "      <td>1</td>\n",
              "      <td>0.700</td>\n",
              "      <td>0.95</td>\n",
              "      <td>2.169254</td>\n",
              "      <td>0.560227</td>\n",
              "    </tr>\n",
              "    <tr>\n",
              "      <th>4</th>\n",
              "      <td>Sub102</td>\n",
              "      <td>2</td>\n",
              "      <td>0.700</td>\n",
              "      <td>0.90</td>\n",
              "      <td>1.805952</td>\n",
              "      <td>0.378576</td>\n",
              "    </tr>\n",
              "    <tr>\n",
              "      <th>5</th>\n",
              "      <td>Sub102</td>\n",
              "      <td>3</td>\n",
              "      <td>0.600</td>\n",
              "      <td>0.95</td>\n",
              "      <td>1.898201</td>\n",
              "      <td>0.695753</td>\n",
              "    </tr>\n",
              "    <tr>\n",
              "      <th>6</th>\n",
              "      <td>Sub103</td>\n",
              "      <td>1</td>\n",
              "      <td>0.850</td>\n",
              "      <td>0.95</td>\n",
              "      <td>2.681287</td>\n",
              "      <td>0.304210</td>\n",
              "    </tr>\n",
              "    <tr>\n",
              "      <th>7</th>\n",
              "      <td>Sub103</td>\n",
              "      <td>2</td>\n",
              "      <td>0.550</td>\n",
              "      <td>0.90</td>\n",
              "      <td>1.407213</td>\n",
              "      <td>0.577945</td>\n",
              "    </tr>\n",
              "    <tr>\n",
              "      <th>8</th>\n",
              "      <td>Sub103</td>\n",
              "      <td>3</td>\n",
              "      <td>0.650</td>\n",
              "      <td>0.90</td>\n",
              "      <td>1.666872</td>\n",
              "      <td>0.448116</td>\n",
              "    </tr>\n",
              "  </tbody>\n",
              "</table>\n",
              "</div>"
            ],
            "text/plain": [
              "Duration Participant  Tempo  Short  Long         d         c\n",
              "0             Sub101      1  0.975  0.45  1.834303 -1.042813\n",
              "1             Sub101      2  0.975  0.55  2.085625 -0.917151\n",
              "2             Sub101      3  0.975  0.75  2.634454 -0.642737\n",
              "3             Sub102      1  0.700  0.95  2.169254  0.560227\n",
              "4             Sub102      2  0.700  0.90  1.805952  0.378576\n",
              "5             Sub102      3  0.600  0.95  1.898201  0.695753\n",
              "6             Sub103      1  0.850  0.95  2.681287  0.304210\n",
              "7             Sub103      2  0.550  0.90  1.407213  0.577945\n",
              "8             Sub103      3  0.650  0.90  1.666872  0.448116"
            ]
          },
          "metadata": {
            "tags": []
          },
          "execution_count": 61
        }
      ]
    },
    {
      "cell_type": "markdown",
      "metadata": {
        "id": "QEABqtntFi8G"
      },
      "source": [
        "### Step 4. Visualization\n",
        "\n",
        "There was some fluctuation in d', but not much different among three tempi. This requires further statistical test to valide this conclusion. \n",
        "\n",
        "\n"
      ]
    },
    {
      "cell_type": "code",
      "metadata": {
        "colab": {
          "base_uri": "https://localhost:8080/",
          "height": 296
        },
        "id": "9AOUdOvyKwe5",
        "outputId": "157f4aaf-560c-4c8c-ced0-d27fed0a0175"
      },
      "source": [
        "m_acc_s.pivot_table(index = 'Tempo', values = 'd' ).plot()"
      ],
      "execution_count": 63,
      "outputs": [
        {
          "output_type": "execute_result",
          "data": {
            "text/plain": [
              "<matplotlib.axes._subplots.AxesSubplot at 0x7f78b3f5ecc0>"
            ]
          },
          "metadata": {
            "tags": []
          },
          "execution_count": 63
        },
        {
          "output_type": "display_data",
          "data": {
            "image/png": "[encoded data removed]",
            "text/plain": [
              "<Figure size 432x288 with 1 Axes>"
            ]
          },
          "metadata": {
            "tags": [],
            "needs_background": "light"
          }
        }
      ]
    },
    {
      "cell_type": "markdown",
      "metadata": {
        "id": "MWA5PSXJOXHt"
      },
      "source": [
        "For response bias, however, we seesome increase of conservative response when the tempo became faster. Here 'conservative' means the criteria sets close to the 'Short' side, meaning more 'Long' responses for the faster tempo.\n",
        "\n",
        "Again, three subjects can not make any conclusion. "
      ]
    },
    {
      "cell_type": "code",
      "metadata": {
        "colab": {
          "base_uri": "https://localhost:8080/",
          "height": 296
        },
        "id": "Zad0LdVTOMTI",
        "outputId": "b544435e-590b-4f36-c8fa-10c43e39eb02"
      },
      "source": [
        "m_acc_s.pivot_table(index = 'Tempo',values = 'c').plot()"
      ],
      "execution_count": 64,
      "outputs": [
        {
          "output_type": "execute_result",
          "data": {
            "text/plain": [
              "<matplotlib.axes._subplots.AxesSubplot at 0x7f78b3e899e8>"
            ]
          },
          "metadata": {
            "tags": []
          },
          "execution_count": 64
        },
        {
          "output_type": "display_data",
          "data": {
            "image/png": "[encoded data removed]",
            "text/plain": [
              "<Figure size 432x288 with 1 Axes>"
            ]
          },
          "metadata": {
            "tags": [],
            "needs_background": "light"
          }
        }
      ]
    },
    {
      "cell_type": "markdown",
      "metadata": {
        "id": "S3ymWonRPBvW"
      },
      "source": [
        "## Mini task\n",
        "\n",
        "Please analyze other duration pairs (3 vs. 7, 2 vs. 8 secs), and compare their d's and biases. "
      ]
    }
  ]
}