{
 "cells": [
  {
   "cell_type": "markdown",
   "metadata": {},
   "source": [
    "# Python Regular Expressions"
   ]
  },
  {
   "cell_type": "markdown",
   "metadata": {},
   "source": [
    "- Extract phone numbers - [v1](#Extract-phone-numbers-v1), [v2](#Extract-phone-numbers-v2), [v3](#Extract-phone-numbers-v3), [v4](#Extract-phone-numbers-v4), [v5](#Extract-phone-numbers-v5)\n",
    "- [Extract emails](#Extract-emails)\n",
    "- [Extract zip codes](#Extract-zip-codes)\n",
    "- [Log file analysis](#Log-file-analysis)\n",
    " - Challenge\n",
    "- [Credit cards extractor](#Credit-cards-extractor)\n",
    "- [Word occurrences](#Word-occurrences)\n",
    "- [HTML tags](#HTML-tags)\n",
    "- [Password verification](#Password-verification)\n",
    "- [Regular expressions cheatsheet](#Regular-expressions-cheatsheet)\n",
    "- [Challenge - Extract data to JSON format](#Extract-data-to-JSON)"
   ]
  },
  {
   "cell_type": "markdown",
   "metadata": {},
   "source": [
    "Regular expressions are a very important tool for a data scientist or a machine learning engineer. Regular expressions is dry and boring topic to learn. But the problems Regular Expressions solve are very real and interesting. So, we will learn Regular Expressions with a problem solving approach. We will define a series of small problems, solve them step by step and with each problem, we will learn some of the aspects of Regular Expressions. \n",
    "\n",
    "If you are not comfortable with this kind of non-linear approach, this course might not be for you. "
   ]
  },
  {
   "cell_type": "markdown",
   "metadata": {},
   "source": [
    "<hr/>"
   ]
  },
  {
   "cell_type": "markdown",
   "metadata": {},
   "source": [
    "### Extract phone numbers v1"
   ]
  },
  {
   "cell_type": "markdown",
   "metadata": {},
   "source": [
    "**Problem** - Extract all the phone numbers from this text."
   ]
  },
  {
   "cell_type": "code",
   "execution_count": 127,
   "metadata": {},
   "outputs": [],
   "source": [
    "numbers = '''There are 3 phone numbers that you need to call in case of medical emergency. \n",
    "For casualty, call 408-202-2222. For elderly emergencies, call 408-203-2222 and\n",
    "for everything else call 408-202-4444\n",
    "'''"
   ]
  },
  {
   "cell_type": "markdown",
   "metadata": {},
   "source": [
    "Let's take a much simpler case - just a list of 3 phone numbers and no text. If the patter is at the beginning of the string, you can use the **match ( )** function. Also, **match ( )** function only returns the first occurance. "
   ]
  },
  {
   "cell_type": "code",
   "execution_count": 128,
   "metadata": {},
   "outputs": [],
   "source": [
    "import re  #import for regular expressions"
   ]
  },
  {
   "cell_type": "code",
   "execution_count": 129,
   "metadata": {},
   "outputs": [],
   "source": [
    "numbers = '''408-202-2222\n",
    "             408-203-2222\n",
    "             408-202-4444'''"
   ]
  },
  {
   "cell_type": "code",
   "execution_count": 130,
   "metadata": {},
   "outputs": [],
   "source": [
    "match = re.match(\"408-\\d\\d\\d-\\d\\d\\d\\d\",numbers)"
   ]
  },
  {
   "cell_type": "code",
   "execution_count": 131,
   "metadata": {},
   "outputs": [
    {
     "name": "stdout",
     "output_type": "stream",
     "text": [
      "<re.Match object; span=(0, 12), match='408-202-2222'>\n"
     ]
    }
   ],
   "source": [
    "print ( match )"
   ]
  },
  {
   "cell_type": "markdown",
   "metadata": {},
   "source": [
    "**match ( )** function returns a match object. It contains the span (the start and end of the match) and the actual match itself. Use the *group ( ), span( ), start( ) and end( )* functions to get the specifics of the match."
   ]
  },
  {
   "cell_type": "code",
   "execution_count": 132,
   "metadata": {},
   "outputs": [
    {
     "name": "stdout",
     "output_type": "stream",
     "text": [
      "matching text  =  408-202-2222\n",
      "start position =  0\n",
      "end position   =  12\n"
     ]
    }
   ],
   "source": [
    "print ( \"matching text  = \", match.group())\n",
    "print ( \"start position = \", match.start())\n",
    "print ( \"end position   = \",match.end())"
   ]
  },
  {
   "cell_type": "markdown",
   "metadata": {},
   "source": [
    "Let's try something slightly different with **match ( )** function. Will it be able to pick the pattern from this text ?"
   ]
  },
  {
   "cell_type": "code",
   "execution_count": 133,
   "metadata": {},
   "outputs": [],
   "source": [
    "numbers = '''\n",
    "             408-202-2222\n",
    "             408-203-2222\n",
    "             408-202-4444'''"
   ]
  },
  {
   "cell_type": "code",
   "execution_count": 134,
   "metadata": {},
   "outputs": [],
   "source": [
    "match = re.match(\"408-\\d\\d\\d-\\d\\d\\d\\d\",numbers)"
   ]
  },
  {
   "cell_type": "code",
   "execution_count": 135,
   "metadata": {},
   "outputs": [
    {
     "name": "stdout",
     "output_type": "stream",
     "text": [
      "None\n"
     ]
    }
   ],
   "source": [
    "print ( match )"
   ]
  },
  {
   "cell_type": "markdown",
   "metadata": {},
   "source": [
    "No. Why is that ? **match ( )** function can only find out the pattern at the beginning of the string. In this case, the first line is a blank line. So, the **match ( )** function fails. In cases like this, use the **search ( )** function. In contrast to the **match ( )** function, the **search ( )** function can extract patterns anywhere in the text."
   ]
  },
  {
   "cell_type": "code",
   "execution_count": 136,
   "metadata": {},
   "outputs": [],
   "source": [
    "match = re.search(\"408-\\d\\d\\d-\\d\\d\\d\\d\",numbers)"
   ]
  },
  {
   "cell_type": "code",
   "execution_count": 137,
   "metadata": {},
   "outputs": [
    {
     "name": "stdout",
     "output_type": "stream",
     "text": [
      "<re.Match object; span=(14, 26), match='408-202-2222'>\n"
     ]
    }
   ],
   "source": [
    "print ( match )"
   ]
  },
  {
   "cell_type": "markdown",
   "metadata": {},
   "source": [
    "But, we are still getting the first match only. We wanted all the matches, right ? Botht he **search ( )** and **match ( )** functions return the first match only. To get all the matches, we will have to use other functions like **findall ( )** or **finditer ( )**."
   ]
  },
  {
   "cell_type": "code",
   "execution_count": 138,
   "metadata": {},
   "outputs": [],
   "source": [
    "matches = re.findall(\"408-\\d\\d\\d-\\d\\d\\d\\d\",numbers)"
   ]
  },
  {
   "cell_type": "code",
   "execution_count": 139,
   "metadata": {},
   "outputs": [
    {
     "name": "stdout",
     "output_type": "stream",
     "text": [
      "['408-202-2222', '408-203-2222', '408-202-4444']\n"
     ]
    }
   ],
   "source": [
    "print ( matches )"
   ]
  },
  {
   "cell_type": "markdown",
   "metadata": {},
   "source": [
    "That's much better, right ? The **findall ( )** function returns all the matches it finds in the text. The other function **finditer ( )** just returns the same results in an iterable. "
   ]
  },
  {
   "cell_type": "code",
   "execution_count": 140,
   "metadata": {},
   "outputs": [
    {
     "name": "stdout",
     "output_type": "stream",
     "text": [
      "<re.Match object; span=(14, 26), match='408-202-2222'>\n",
      "<re.Match object; span=(40, 52), match='408-203-2222'>\n",
      "<re.Match object; span=(66, 78), match='408-202-4444'>\n"
     ]
    }
   ],
   "source": [
    "matches = re.finditer(\"408-\\d\\d\\d-\\d\\d\\d\\d\",numbers)\n",
    "\n",
    "for match in matches : \n",
    "    print ( match )"
   ]
  },
  {
   "cell_type": "markdown",
   "metadata": {},
   "source": [
    "If you wanted just the match, use the group () function to extract the matching text. "
   ]
  },
  {
   "cell_type": "code",
   "execution_count": 141,
   "metadata": {},
   "outputs": [
    {
     "name": "stdout",
     "output_type": "stream",
     "text": [
      "408-202-2222\n",
      "408-203-2222\n",
      "408-202-4444\n"
     ]
    }
   ],
   "source": [
    "matches = re.finditer(\"408-\\d\\d\\d-\\d\\d\\d\\d\",numbers)\n",
    "\n",
    "for match in matches : \n",
    "    print ( match.group() )"
   ]
  },
  {
   "cell_type": "markdown",
   "metadata": {},
   "source": [
    "Now, we can solve the problem we started out with. "
   ]
  },
  {
   "cell_type": "code",
   "execution_count": 142,
   "metadata": {},
   "outputs": [],
   "source": [
    "numbers = '''There are 3 phone numbers that you need to call in case of medical emergency. \n",
    "For casualty, call 408-202-2222. For elderly emergencies, call 408-203-2222 and\n",
    "for everything else call 408-202-4444\n",
    "'''"
   ]
  },
  {
   "cell_type": "code",
   "execution_count": 143,
   "metadata": {},
   "outputs": [
    {
     "name": "stdout",
     "output_type": "stream",
     "text": [
      "408-202-2222\n",
      "408-203-2222\n",
      "408-202-4444\n"
     ]
    }
   ],
   "source": [
    "matches = re.finditer(\"408-\\d\\d\\d-\\d\\d\\d\\d\",numbers)\n",
    "\n",
    "for match in matches : \n",
    "    print ( match.group() )"
   ]
  },
  {
   "cell_type": "markdown",
   "metadata": {},
   "source": [
    "In fact, even if the starting phone number is not always constant, like a 408 in this case, still we should be able to extract the matches. "
   ]
  },
  {
   "cell_type": "code",
   "execution_count": 144,
   "metadata": {},
   "outputs": [],
   "source": [
    "numbers = '''There are 3 phone numbers that you need to call in case of medical emergency. \n",
    "For casualty, call 408-202-2222. For elderly emergencies, call 408-203-2222 and\n",
    "for everything else call 800-202-4444\n",
    "'''"
   ]
  },
  {
   "cell_type": "code",
   "execution_count": 145,
   "metadata": {},
   "outputs": [
    {
     "name": "stdout",
     "output_type": "stream",
     "text": [
      "408-202-2222\n",
      "408-203-2222\n",
      "800-202-4444\n"
     ]
    }
   ],
   "source": [
    "matches = re.finditer(\"\\d\\d\\d-\\d\\d\\d-\\d\\d\\d\\d\",numbers)\n",
    "\n",
    "for match in matches : \n",
    "    print ( match.group() )"
   ]
  },
  {
   "cell_type": "markdown",
   "metadata": {},
   "source": [
    "See, all the numbers have been extracted."
   ]
  },
  {
   "cell_type": "markdown",
   "metadata": {},
   "source": [
    "**Points to Remember**\n",
    "- **\\d** represents a single digit\n",
    "- **match ( )** function returns the first match only, but only start at the beginning of the line. \n",
    "- **search ( )** function returns the first match only.\n",
    "- **findall ( )** and **finditer ( )** functions return all the matches.\n"
   ]
  },
  {
   "cell_type": "markdown",
   "metadata": {},
   "source": [
    "<hr/>"
   ]
  },
  {
   "cell_type": "markdown",
   "metadata": {},
   "source": [
    "###  Extract phone numbers v2"
   ]
  },
  {
   "cell_type": "markdown",
   "metadata": {},
   "source": [
    "**Problem** - Extract all the phone numbers from this text message. "
   ]
  },
  {
   "cell_type": "code",
   "execution_count": 146,
   "metadata": {},
   "outputs": [],
   "source": [
    "numbers = '''408-222-2222,\n",
    "             (408)-333-3333,\n",
    "             (800)-444-4444'''"
   ]
  },
  {
   "cell_type": "markdown",
   "metadata": {},
   "source": [
    "Let's try what we know so far. "
   ]
  },
  {
   "cell_type": "code",
   "execution_count": 147,
   "metadata": {},
   "outputs": [],
   "source": [
    "match = re.findall(\"\\d\\d\\d-\\d\\d\\d-\\d\\d\\d\\d\",numbers)"
   ]
  },
  {
   "cell_type": "code",
   "execution_count": 148,
   "metadata": {},
   "outputs": [
    {
     "name": "stdout",
     "output_type": "stream",
     "text": [
      "['408-222-2222']\n"
     ]
    }
   ],
   "source": [
    "print ( match )"
   ]
  },
  {
   "cell_type": "markdown",
   "metadata": {},
   "source": [
    "But this only matches the phone numbers without brackets. What about the ones with paranthesis ? We can try something like this."
   ]
  },
  {
   "cell_type": "code",
   "execution_count": 149,
   "metadata": {},
   "outputs": [
    {
     "name": "stdout",
     "output_type": "stream",
     "text": [
      "['408']\n"
     ]
    }
   ],
   "source": [
    "match = re.findall(\"(\\d\\d\\d)-\\d\\d\\d-\\d\\d\\d\\d\",numbers)\n",
    "print ( match )"
   ]
  },
  {
   "cell_type": "markdown",
   "metadata": {},
   "source": [
    "oops.. it is not working. Why ? Because, paranthesis represents a special character - It is used to make groups out of regular expressions (which, we will see later). To represent an actual paranthesis, escape it with a backslash. "
   ]
  },
  {
   "cell_type": "code",
   "execution_count": 150,
   "metadata": {},
   "outputs": [
    {
     "name": "stdout",
     "output_type": "stream",
     "text": [
      "['(408)-333-3333', '(800)-444-4444']\n"
     ]
    }
   ],
   "source": [
    "match = re.findall(\"\\(\\d\\d\\d\\)-\\d\\d\\d-\\d\\d\\d\\d\",numbers)\n",
    "print ( match )"
   ]
  },
  {
   "cell_type": "markdown",
   "metadata": {},
   "source": [
    "OK. Now, we got the phone numbers with paranthesis,  but we missed the ones without paranthesis. We want to capture either of these combinations. That's when we use the OR operator. In regular expressions, we use the pipe operator (|) to represent either/or type of patterns. "
   ]
  },
  {
   "cell_type": "code",
   "execution_count": 151,
   "metadata": {},
   "outputs": [
    {
     "name": "stdout",
     "output_type": "stream",
     "text": [
      "['408-222-2222', '(408)-333-3333', '(800)-444-4444']\n"
     ]
    }
   ],
   "source": [
    "match = re.findall(\"\\(\\d\\d\\d\\)-\\d\\d\\d-\\d\\d\\d\\d|\\d\\d\\d-\\d\\d\\d-\\d\\d\\d\\d\",numbers)\n",
    "print ( match )"
   ]
  },
  {
   "cell_type": "markdown",
   "metadata": {},
   "source": [
    "There we go - we were able to capture both the patterns. However, the **\\d** in the pattern repeats a lot making the string too long. Instead, we can use quantifiers to specify how long a particular sub-pattern can be. For example, the following pattern is exactly equivalent to the pattern above."
   ]
  },
  {
   "cell_type": "code",
   "execution_count": 152,
   "metadata": {},
   "outputs": [
    {
     "name": "stdout",
     "output_type": "stream",
     "text": [
      "['408-222-222', '(408)-333-3333', '(800)-444-4444']\n"
     ]
    }
   ],
   "source": [
    "match = re.findall(\"\\(\\d{3}\\)-\\d{3}-\\d{4}|\\d{3}-\\d{3}-\\d{3}\",numbers)\n",
    "print ( match )"
   ]
  },
  {
   "cell_type": "markdown",
   "metadata": {},
   "source": [
    "As you can see, quantifiers make the pattern much more compact in case there is a lot of repetition."
   ]
  },
  {
   "cell_type": "markdown",
   "metadata": {},
   "source": [
    "**Points to Remember**\n",
    "- If paranthesis **(**or **)** needs to be used in the pattern, escape them with a backslash ( **\\** ). This is done because, paranthesis is used to represent groups, which we will look into later.\n",
    "- **|**  or pipe character is used to represent a logical OR operator in regular expressions. \n",
    "- **{ }** Flower brackets are used to quantify the number of occurrances of a particular part of a regular expression. For example, **a{3}** is used to indicate that exactly 3 **a**'s should be looked for."
   ]
  },
  {
   "cell_type": "markdown",
   "metadata": {},
   "source": [
    "<hr/>"
   ]
  },
  {
   "cell_type": "markdown",
   "metadata": {},
   "source": [
    "###  Extract phone numbers v3"
   ]
  },
  {
   "cell_type": "markdown",
   "metadata": {},
   "source": [
    "**Problem** - Extract all the phone numbers from this text message. "
   ]
  },
  {
   "cell_type": "code",
   "execution_count": 153,
   "metadata": {},
   "outputs": [],
   "source": [
    "numbers = '''408-222-2222,\n",
    "             408.333.3333,\n",
    "             800 444 4444'''"
   ]
  },
  {
   "cell_type": "code",
   "execution_count": 154,
   "metadata": {},
   "outputs": [
    {
     "name": "stdout",
     "output_type": "stream",
     "text": [
      "['408-222-2222', '408.333.333', '800 444 444']\n"
     ]
    }
   ],
   "source": [
    "match = re.findall(\"\\d{3}-\\d{3}-\\d{4}|\\d{3}.\\d{3}.\\d{3}|\\d{3}\\d{3}\\d{3}\",numbers)\n",
    "print ( match )"
   ]
  },
  {
   "cell_type": "markdown",
   "metadata": {},
   "source": [
    "This works. But, can we make it any more concise ? There seems to be a lot of repetition. This is where character sets come in. In this case, the separator between the phone numbers is either a dash or a dot or a blank space. Can we somehow represent all of these characters to be searched for as separators, as opposed to specifying each pattern separately ?"
   ]
  },
  {
   "cell_type": "code",
   "execution_count": 155,
   "metadata": {},
   "outputs": [
    {
     "name": "stdout",
     "output_type": "stream",
     "text": [
      "['408-222-2222', '408.333.3333']\n"
     ]
    }
   ],
   "source": [
    "match = re.findall(\"\\d{3}[-.]\\d{3}[-.]\\d{4}\",numbers)\n",
    "print ( match )"
   ]
  },
  {
   "cell_type": "markdown",
   "metadata": {},
   "source": [
    "But what about phone numbers with spaces ? How do we represent a space in regular expressions ? We use the special character **\\s**."
   ]
  },
  {
   "cell_type": "code",
   "execution_count": 156,
   "metadata": {},
   "outputs": [
    {
     "name": "stdout",
     "output_type": "stream",
     "text": [
      "['408-222-2222', '408.333.3333', '800 444 4444']\n"
     ]
    }
   ],
   "source": [
    "match = re.findall(\"\\d{3}[-.\\s]\\d{3}[-.\\s]\\d{4}\",numbers)\n",
    "print ( match )"
   ]
  },
  {
   "cell_type": "markdown",
   "metadata": {},
   "source": [
    "There we go - we are able to capture all of the phone numbers. "
   ]
  },
  {
   "cell_type": "markdown",
   "metadata": {},
   "source": [
    "**Points to Remember**\n",
    "- Characters enclosed in **[]** (square brackets) are called character sets. Regular expressions search for any character inside the charater set for matches. \n",
    "- **\\s**  is used to represent a *space* or *blank* character."
   ]
  },
  {
   "cell_type": "markdown",
   "metadata": {},
   "source": [
    "<hr/>"
   ]
  },
  {
   "cell_type": "markdown",
   "metadata": {},
   "source": [
    "###  Extract phone numbers v4"
   ]
  },
  {
   "cell_type": "markdown",
   "metadata": {},
   "source": [
    "**Problem** - Extract all the phone numbers from this text. "
   ]
  },
  {
   "cell_type": "code",
   "execution_count": 157,
   "metadata": {},
   "outputs": [],
   "source": [
    "numbers = '''   408-222-2222,\n",
    "             1 408.333.3333,\n",
    "             1 408-444-4444,\n",
    "             1 (800) 444 4444'''"
   ]
  },
  {
   "cell_type": "code",
   "execution_count": 158,
   "metadata": {},
   "outputs": [
    {
     "name": "stdout",
     "output_type": "stream",
     "text": [
      "['408-222-2222', '408.333.3333', '408-444-4444']\n"
     ]
    }
   ],
   "source": [
    "match = re.findall(\"\\d{3}[-.\\s]\\d{3}[-.\\s]\\d{4}\",numbers)\n",
    "print ( match )"
   ]
  },
  {
   "cell_type": "markdown",
   "metadata": {},
   "source": [
    "But, how about the 1 before the numbers ? How do we capture them ? Some phone numbers have it and some don't. That's where the **?** quantifier comes in. If a pattern needs to be checked for occurance zero or 1 time, use the **?** quantifier. "
   ]
  },
  {
   "cell_type": "code",
   "execution_count": 159,
   "metadata": {},
   "outputs": [
    {
     "name": "stdout",
     "output_type": "stream",
     "text": [
      "[' 408-222-2222', '1 408.333.3333', '1 408-444-4444']\n"
     ]
    }
   ],
   "source": [
    "match = re.findall(\"1?\\s\\d{3}[-.\\s]\\d{3}[-.\\s]\\d{4}\",numbers)\n",
    "print ( match )"
   ]
  },
  {
   "cell_type": "markdown",
   "metadata": {},
   "source": [
    "Much better. Now, what about the 800 number with paranthesis ? How do we look for paranthesis ? We have seen previously that paranthesis is a special character and to extract that we need to escape it. Let's try that. "
   ]
  },
  {
   "cell_type": "code",
   "execution_count": 160,
   "metadata": {},
   "outputs": [
    {
     "name": "stdout",
     "output_type": "stream",
     "text": [
      "['1 (800) 444 444']\n"
     ]
    }
   ],
   "source": [
    "match = re.findall(\"1?\\s\\(?\\d{3}\\)?[\\s]\\d{3}[\\s]\\d{3}\",numbers)\n",
    "print ( match )"
   ]
  },
  {
   "cell_type": "markdown",
   "metadata": {},
   "source": [
    "Alright, we got that as well. Now, to combine all of these, we can use the OR operator. "
   ]
  },
  {
   "cell_type": "code",
   "execution_count": 161,
   "metadata": {},
   "outputs": [
    {
     "name": "stdout",
     "output_type": "stream",
     "text": [
      "[' 408-222-2222', '1 408.333.3333', '1 408-444-4444', '1 (800) 444 444']\n"
     ]
    }
   ],
   "source": [
    "match = re.findall(\"1?\\s\\(?\\d{3}\\)?[\\s]\\d{3}[\\s]\\d{3}|1?\\s\\d{3}[-.\\s]\\d{3}[-.\\s]\\d{4}\",numbers)\n",
    "print ( match )"
   ]
  },
  {
   "cell_type": "markdown",
   "metadata": {},
   "source": [
    "Or, we can combine them like this."
   ]
  },
  {
   "cell_type": "code",
   "execution_count": 162,
   "metadata": {},
   "outputs": [
    {
     "name": "stdout",
     "output_type": "stream",
     "text": [
      "[' 408-222-222', '1 408.333.333', '1 408-444-444', '1 (800) 444 444']\n"
     ]
    }
   ],
   "source": [
    "match = re.findall(\"1?\\s\\(?\\d{3}\\)?[-.\\s]\\d{3}[-.\\s]\\d{3}\",numbers)\n",
    "print ( match )"
   ]
  },
  {
   "cell_type": "markdown",
   "metadata": {},
   "source": [
    "**Learning**\n",
    "- **?** is used to represent a pattern that repeats zero or one time. It is a type of *quantifier* like **{n}**"
   ]
  },
  {
   "cell_type": "markdown",
   "metadata": {},
   "source": [
    "<hr/>"
   ]
  },
  {
   "cell_type": "markdown",
   "metadata": {},
   "source": [
    "###  Extract phone numbers v5"
   ]
  },
  {
   "cell_type": "markdown",
   "metadata": {},
   "source": [
    "**Problem** - Extract all the phone numbers from this text. "
   ]
  },
  {
   "cell_type": "code",
   "execution_count": 163,
   "metadata": {},
   "outputs": [],
   "source": [
    "numbers = '''+1  408-222-2222,    \n",
    "             +91 98989-99898,\n",
    "             +86 10-1234-5678,\n",
    "             +263 10-234-5678'''"
   ]
  },
  {
   "cell_type": "markdown",
   "metadata": {},
   "source": [
    "The first one is a US phone number, the second one is India and the third one is Chinese number. How to extract these. Let's start with the plus (**+**) at the beginning of the string. How to extract that ? "
   ]
  },
  {
   "cell_type": "code",
   "execution_count": 164,
   "metadata": {},
   "outputs": [
    {
     "ename": "error",
     "evalue": "nothing to repeat at position 0",
     "output_type": "error",
     "traceback": [
      "\u001b[1;31m---------------------------------------------------------------------------\u001b[0m",
      "\u001b[1;31merror\u001b[0m                                     Traceback (most recent call last)",
      "\u001b[1;32m<ipython-input-164-2fe5ce5c5168>\u001b[0m in \u001b[0;36m<module>\u001b[1;34m\u001b[0m\n\u001b[1;32m----> 1\u001b[1;33m \u001b[0mmatch\u001b[0m \u001b[1;33m=\u001b[0m \u001b[0mre\u001b[0m\u001b[1;33m.\u001b[0m\u001b[0mfindall\u001b[0m\u001b[1;33m(\u001b[0m\u001b[1;34m\"+\"\u001b[0m\u001b[1;33m,\u001b[0m\u001b[0mnumbers\u001b[0m\u001b[1;33m)\u001b[0m\u001b[1;33m\u001b[0m\u001b[1;33m\u001b[0m\u001b[0m\n\u001b[0m",
      "\u001b[1;32mc:\\program files\\python37\\lib\\re.py\u001b[0m in \u001b[0;36mfindall\u001b[1;34m(pattern, string, flags)\u001b[0m\n\u001b[0;32m    221\u001b[0m \u001b[1;33m\u001b[0m\u001b[0m\n\u001b[0;32m    222\u001b[0m     Empty matches are included in the result.\"\"\"\n\u001b[1;32m--> 223\u001b[1;33m     \u001b[1;32mreturn\u001b[0m \u001b[0m_compile\u001b[0m\u001b[1;33m(\u001b[0m\u001b[0mpattern\u001b[0m\u001b[1;33m,\u001b[0m \u001b[0mflags\u001b[0m\u001b[1;33m)\u001b[0m\u001b[1;33m.\u001b[0m\u001b[0mfindall\u001b[0m\u001b[1;33m(\u001b[0m\u001b[0mstring\u001b[0m\u001b[1;33m)\u001b[0m\u001b[1;33m\u001b[0m\u001b[1;33m\u001b[0m\u001b[0m\n\u001b[0m\u001b[0;32m    224\u001b[0m \u001b[1;33m\u001b[0m\u001b[0m\n\u001b[0;32m    225\u001b[0m \u001b[1;32mdef\u001b[0m \u001b[0mfinditer\u001b[0m\u001b[1;33m(\u001b[0m\u001b[0mpattern\u001b[0m\u001b[1;33m,\u001b[0m \u001b[0mstring\u001b[0m\u001b[1;33m,\u001b[0m \u001b[0mflags\u001b[0m\u001b[1;33m=\u001b[0m\u001b[1;36m0\u001b[0m\u001b[1;33m)\u001b[0m\u001b[1;33m:\u001b[0m\u001b[1;33m\u001b[0m\u001b[1;33m\u001b[0m\u001b[0m\n",
      "\u001b[1;32mc:\\program files\\python37\\lib\\re.py\u001b[0m in \u001b[0;36m_compile\u001b[1;34m(pattern, flags)\u001b[0m\n\u001b[0;32m    284\u001b[0m     \u001b[1;32mif\u001b[0m \u001b[1;32mnot\u001b[0m \u001b[0msre_compile\u001b[0m\u001b[1;33m.\u001b[0m\u001b[0misstring\u001b[0m\u001b[1;33m(\u001b[0m\u001b[0mpattern\u001b[0m\u001b[1;33m)\u001b[0m\u001b[1;33m:\u001b[0m\u001b[1;33m\u001b[0m\u001b[1;33m\u001b[0m\u001b[0m\n\u001b[0;32m    285\u001b[0m         \u001b[1;32mraise\u001b[0m \u001b[0mTypeError\u001b[0m\u001b[1;33m(\u001b[0m\u001b[1;34m\"first argument must be string or compiled pattern\"\u001b[0m\u001b[1;33m)\u001b[0m\u001b[1;33m\u001b[0m\u001b[1;33m\u001b[0m\u001b[0m\n\u001b[1;32m--> 286\u001b[1;33m     \u001b[0mp\u001b[0m \u001b[1;33m=\u001b[0m \u001b[0msre_compile\u001b[0m\u001b[1;33m.\u001b[0m\u001b[0mcompile\u001b[0m\u001b[1;33m(\u001b[0m\u001b[0mpattern\u001b[0m\u001b[1;33m,\u001b[0m \u001b[0mflags\u001b[0m\u001b[1;33m)\u001b[0m\u001b[1;33m\u001b[0m\u001b[1;33m\u001b[0m\u001b[0m\n\u001b[0m\u001b[0;32m    287\u001b[0m     \u001b[1;32mif\u001b[0m \u001b[1;32mnot\u001b[0m \u001b[1;33m(\u001b[0m\u001b[0mflags\u001b[0m \u001b[1;33m&\u001b[0m \u001b[0mDEBUG\u001b[0m\u001b[1;33m)\u001b[0m\u001b[1;33m:\u001b[0m\u001b[1;33m\u001b[0m\u001b[1;33m\u001b[0m\u001b[0m\n\u001b[0;32m    288\u001b[0m         \u001b[1;32mif\u001b[0m \u001b[0mlen\u001b[0m\u001b[1;33m(\u001b[0m\u001b[0m_cache\u001b[0m\u001b[1;33m)\u001b[0m \u001b[1;33m>=\u001b[0m \u001b[0m_MAXCACHE\u001b[0m\u001b[1;33m:\u001b[0m\u001b[1;33m\u001b[0m\u001b[1;33m\u001b[0m\u001b[0m\n",
      "\u001b[1;32mc:\\program files\\python37\\lib\\sre_compile.py\u001b[0m in \u001b[0;36mcompile\u001b[1;34m(p, flags)\u001b[0m\n\u001b[0;32m    762\u001b[0m     \u001b[1;32mif\u001b[0m \u001b[0misstring\u001b[0m\u001b[1;33m(\u001b[0m\u001b[0mp\u001b[0m\u001b[1;33m)\u001b[0m\u001b[1;33m:\u001b[0m\u001b[1;33m\u001b[0m\u001b[1;33m\u001b[0m\u001b[0m\n\u001b[0;32m    763\u001b[0m         \u001b[0mpattern\u001b[0m \u001b[1;33m=\u001b[0m \u001b[0mp\u001b[0m\u001b[1;33m\u001b[0m\u001b[1;33m\u001b[0m\u001b[0m\n\u001b[1;32m--> 764\u001b[1;33m         \u001b[0mp\u001b[0m \u001b[1;33m=\u001b[0m \u001b[0msre_parse\u001b[0m\u001b[1;33m.\u001b[0m\u001b[0mparse\u001b[0m\u001b[1;33m(\u001b[0m\u001b[0mp\u001b[0m\u001b[1;33m,\u001b[0m \u001b[0mflags\u001b[0m\u001b[1;33m)\u001b[0m\u001b[1;33m\u001b[0m\u001b[1;33m\u001b[0m\u001b[0m\n\u001b[0m\u001b[0;32m    765\u001b[0m     \u001b[1;32melse\u001b[0m\u001b[1;33m:\u001b[0m\u001b[1;33m\u001b[0m\u001b[1;33m\u001b[0m\u001b[0m\n\u001b[0;32m    766\u001b[0m         \u001b[0mpattern\u001b[0m \u001b[1;33m=\u001b[0m \u001b[1;32mNone\u001b[0m\u001b[1;33m\u001b[0m\u001b[1;33m\u001b[0m\u001b[0m\n",
      "\u001b[1;32mc:\\program files\\python37\\lib\\sre_parse.py\u001b[0m in \u001b[0;36mparse\u001b[1;34m(str, flags, pattern)\u001b[0m\n\u001b[0;32m    928\u001b[0m \u001b[1;33m\u001b[0m\u001b[0m\n\u001b[0;32m    929\u001b[0m     \u001b[1;32mtry\u001b[0m\u001b[1;33m:\u001b[0m\u001b[1;33m\u001b[0m\u001b[1;33m\u001b[0m\u001b[0m\n\u001b[1;32m--> 930\u001b[1;33m         \u001b[0mp\u001b[0m \u001b[1;33m=\u001b[0m \u001b[0m_parse_sub\u001b[0m\u001b[1;33m(\u001b[0m\u001b[0msource\u001b[0m\u001b[1;33m,\u001b[0m \u001b[0mpattern\u001b[0m\u001b[1;33m,\u001b[0m \u001b[0mflags\u001b[0m \u001b[1;33m&\u001b[0m \u001b[0mSRE_FLAG_VERBOSE\u001b[0m\u001b[1;33m,\u001b[0m \u001b[1;36m0\u001b[0m\u001b[1;33m)\u001b[0m\u001b[1;33m\u001b[0m\u001b[1;33m\u001b[0m\u001b[0m\n\u001b[0m\u001b[0;32m    931\u001b[0m     \u001b[1;32mexcept\u001b[0m \u001b[0mVerbose\u001b[0m\u001b[1;33m:\u001b[0m\u001b[1;33m\u001b[0m\u001b[1;33m\u001b[0m\u001b[0m\n\u001b[0;32m    932\u001b[0m         \u001b[1;31m# the VERBOSE flag was switched on inside the pattern.  to be\u001b[0m\u001b[1;33m\u001b[0m\u001b[1;33m\u001b[0m\u001b[1;33m\u001b[0m\u001b[0m\n",
      "\u001b[1;32mc:\\program files\\python37\\lib\\sre_parse.py\u001b[0m in \u001b[0;36m_parse_sub\u001b[1;34m(source, state, verbose, nested)\u001b[0m\n\u001b[0;32m    424\u001b[0m     \u001b[1;32mwhile\u001b[0m \u001b[1;32mTrue\u001b[0m\u001b[1;33m:\u001b[0m\u001b[1;33m\u001b[0m\u001b[1;33m\u001b[0m\u001b[0m\n\u001b[0;32m    425\u001b[0m         itemsappend(_parse(source, state, verbose, nested + 1,\n\u001b[1;32m--> 426\u001b[1;33m                            not nested and not items))\n\u001b[0m\u001b[0;32m    427\u001b[0m         \u001b[1;32mif\u001b[0m \u001b[1;32mnot\u001b[0m \u001b[0msourcematch\u001b[0m\u001b[1;33m(\u001b[0m\u001b[1;34m\"|\"\u001b[0m\u001b[1;33m)\u001b[0m\u001b[1;33m:\u001b[0m\u001b[1;33m\u001b[0m\u001b[1;33m\u001b[0m\u001b[0m\n\u001b[0;32m    428\u001b[0m             \u001b[1;32mbreak\u001b[0m\u001b[1;33m\u001b[0m\u001b[1;33m\u001b[0m\u001b[0m\n",
      "\u001b[1;32mc:\\program files\\python37\\lib\\sre_parse.py\u001b[0m in \u001b[0;36m_parse\u001b[1;34m(source, state, verbose, nested, first)\u001b[0m\n\u001b[0;32m    649\u001b[0m             \u001b[1;32mif\u001b[0m \u001b[1;32mnot\u001b[0m \u001b[0mitem\u001b[0m \u001b[1;32mor\u001b[0m \u001b[0mitem\u001b[0m\u001b[1;33m[\u001b[0m\u001b[1;36m0\u001b[0m\u001b[1;33m]\u001b[0m\u001b[1;33m[\u001b[0m\u001b[1;36m0\u001b[0m\u001b[1;33m]\u001b[0m \u001b[1;32mis\u001b[0m \u001b[0mAT\u001b[0m\u001b[1;33m:\u001b[0m\u001b[1;33m\u001b[0m\u001b[1;33m\u001b[0m\u001b[0m\n\u001b[0;32m    650\u001b[0m                 raise source.error(\"nothing to repeat\",\n\u001b[1;32m--> 651\u001b[1;33m                                    source.tell() - here + len(this))\n\u001b[0m\u001b[0;32m    652\u001b[0m             \u001b[1;32mif\u001b[0m \u001b[0mitem\u001b[0m\u001b[1;33m[\u001b[0m\u001b[1;36m0\u001b[0m\u001b[1;33m]\u001b[0m\u001b[1;33m[\u001b[0m\u001b[1;36m0\u001b[0m\u001b[1;33m]\u001b[0m \u001b[1;32min\u001b[0m \u001b[0m_REPEATCODES\u001b[0m\u001b[1;33m:\u001b[0m\u001b[1;33m\u001b[0m\u001b[1;33m\u001b[0m\u001b[0m\n\u001b[0;32m    653\u001b[0m                 raise source.error(\"multiple repeat\",\n",
      "\u001b[1;31merror\u001b[0m: nothing to repeat at position 0"
     ]
    }
   ],
   "source": [
    "match = re.findall(\"+\",numbers)"
   ]
  },
  {
   "cell_type": "markdown",
   "metadata": {},
   "source": [
    "oops.. doesn't work. That is because, **+** is a special character. It is used to represent a quantifer. **+** means that a patter repeats one or more time. So, to find **+** as a pattern, you would have to escape it. "
   ]
  },
  {
   "cell_type": "code",
   "execution_count": null,
   "metadata": {},
   "outputs": [],
   "source": [
    "match = re.findall(\"\\+\", numbers)\n",
    "print ( match )"
   ]
  },
  {
   "cell_type": "markdown",
   "metadata": {},
   "source": [
    "OK, Now, we are able to get the **+** in the string. Let's extract the country code next. It is the set of numbers right next to the **+** symbol. It could be 1 (like US ) or 2 (like India, China ), or may be 3 (Zimbabwe is +263 ). We can use the flower brackets to specify a pattern length of 1 to 3 like so -\n",
    "\n",
    "**{1,3}**"
   ]
  },
  {
   "cell_type": "code",
   "execution_count": null,
   "metadata": {},
   "outputs": [],
   "source": [
    "match = re.findall(\"\\+\\d{1,3}\", numbers)\n",
    "print ( match )"
   ]
  },
  {
   "cell_type": "markdown",
   "metadata": {},
   "source": [
    "Next, we have a set of numbers separated by dashes. However, the count of numbers between the dashes is arbitrary. So, we need some kind of a quantifier again to find out repetitive pattern of count between 1 and n. We could just assume a higher nuber say 5 for n and proceed like so. "
   ]
  },
  {
   "cell_type": "code",
   "execution_count": null,
   "metadata": {},
   "outputs": [],
   "source": [
    "match = re.findall(\"\\+\\d{1,3}\\s{1,3}\\d{1,6}-\\d{1,6}-\\d{1,6}\", numbers)\n",
    "print ( match )"
   ]
  },
  {
   "cell_type": "markdown",
   "metadata": {},
   "source": [
    "Instead of using the **{m,n}** quantifier to identify digits that repeat atleast once, you can use the quantifier **+**."
   ]
  },
  {
   "cell_type": "code",
   "execution_count": null,
   "metadata": {},
   "outputs": [],
   "source": [
    "match = re.findall(\"\\+\\d+\\s+\\d+-\\d+-\\d+\", numbers)\n",
    "print ( match )"
   ]
  },
  {
   "cell_type": "markdown",
   "metadata": {},
   "source": [
    "We are still missing another number , +91 98989-99898. This is because, the number is divided into 2 parts (and not 3 parts separated by dashes). So, a simple solution would be to create another pattern and do an OR operation. That should capture all of the possible phone numbers in this case. "
   ]
  },
  {
   "cell_type": "code",
   "execution_count": null,
   "metadata": {},
   "outputs": [],
   "source": [
    "match = re.findall(\"\\+\\d+\\s+\\d+-\\d+-\\d+|\\+\\d+\\s+\\d+-\\d+\", numbers)\n",
    "print ( match )"
   ]
  },
  {
   "cell_type": "markdown",
   "metadata": {},
   "source": [
    "**Learning**\n",
    "- **{m,n}** is used to represent a pattern that repeats **m** to **n** number of times. It is a type of *quantifier*.\n",
    "- Since **+** is a special character (used to identify patterns that repeat 1 or more times), to identify **+** itself, escape it with a backslash (**\\**)"
   ]
  },
  {
   "cell_type": "markdown",
   "metadata": {},
   "source": [
    "<hr>"
   ]
  },
  {
   "cell_type": "markdown",
   "metadata": {},
   "source": [
    "### Extract emails"
   ]
  },
  {
   "cell_type": "markdown",
   "metadata": {},
   "source": [
    "**Problem** - Extract all the emails from this text. "
   ]
  },
  {
   "cell_type": "code",
   "execution_count": null,
   "metadata": {},
   "outputs": [],
   "source": [
    "text = '''   accounts@boa.com,    \n",
    "             sales@boa.com,\n",
    "             cancellations@tesla.com,\n",
    "             accounts@delloitte.com,\n",
    "             cancellations@farmers.com,\n",
    "             accounts@dell@com'''"
   ]
  },
  {
   "cell_type": "markdown",
   "metadata": {},
   "source": [
    "To solve text based patterns, one of the fundamental character set is **\\w**. It represents any character that can be found in a word - it could be alphabetic or numeric or underscore. These are the only 3 types of characters that **\\w** can find. For example, a single **\\w** on this text, basically captures all the word characters (a to z characters, 0-9 digits and underscore ). You can see that in the output below. "
   ]
  },
  {
   "cell_type": "code",
   "execution_count": null,
   "metadata": {},
   "outputs": [],
   "source": [
    "matches = re.findall(\"\\w\",text)\n",
    "print ( matches )"
   ]
  },
  {
   "cell_type": "markdown",
   "metadata": {},
   "source": [
    "We need to step up from letters, to identify words. A word is just a repetition of a set of letters, numbers and underscores. So, we use a quantifier **+** to identify a word. "
   ]
  },
  {
   "cell_type": "code",
   "execution_count": null,
   "metadata": {},
   "outputs": [],
   "source": [
    "matches = re.findall(\"\\w+\",text)\n",
    "print ( matches )"
   ]
  },
  {
   "cell_type": "markdown",
   "metadata": {},
   "source": [
    "Now that we have all the words, all we have to do is to put together the pattern that includes the **@** symbol and **dot**. "
   ]
  },
  {
   "cell_type": "code",
   "execution_count": null,
   "metadata": {},
   "outputs": [],
   "source": [
    "matches = re.findall(\"\\w+@\\w+.\\w+\",text)\n",
    "print ( matches )"
   ]
  },
  {
   "cell_type": "markdown",
   "metadata": {},
   "source": [
    "We are almost there, except the last email - **accounts@dell@com**. This is not a valid email. So, why is our pattern capturing it ? When we mentioned dot (**.**) in our pattern (**\\w+@\\w+.\\w+**), it basically captures *any* character. So, in order to capture a dot, all we have to do is to escape it - prepend it with a backslash (**\\**)"
   ]
  },
  {
   "cell_type": "code",
   "execution_count": null,
   "metadata": {},
   "outputs": [],
   "source": [
    "matches = re.findall(\"\\w+@\\w+\\.\\w+\",text)\n",
    "print ( matches )"
   ]
  },
  {
   "cell_type": "markdown",
   "metadata": {},
   "source": [
    "There you go, we have succesfully found out all the emails in the text. "
   ]
  },
  {
   "cell_type": "markdown",
   "metadata": {},
   "source": [
    "**Learning**\n",
    "- **\\w** is used to represent a character in a word - it could be an alphabet (a-z) or a number ( 0-9) or an underscore. \n",
    "- **\\w+** - to identify words, all you have to do is append **\\w** with a plus (**+**). \n",
    "- **.** (dot) is used to identify ANY character. It is a special character. To actually identify a **.** (dot) itself, just escape it with a backslash (**\\**)."
   ]
  },
  {
   "cell_type": "markdown",
   "metadata": {},
   "source": [
    "<hr>"
   ]
  },
  {
   "cell_type": "markdown",
   "metadata": {},
   "source": [
    "### Extract zip codes"
   ]
  },
  {
   "cell_type": "markdown",
   "metadata": {},
   "source": [
    "**Problem** : Say we have a text with US zip codes. The valid format for US zip codes are\n",
    "\n",
    "- 99999\n",
    "- 99999-9999\n",
    "\n",
    "where 9 represents any digit. Write a regular expression to extract all zip codes from the text."
   ]
  },
  {
   "cell_type": "code",
   "execution_count": null,
   "metadata": {},
   "outputs": [],
   "source": [
    "text = '''08820, 08820-1245, zip code, 98487, 98487-0000, ABCD  '''"
   ]
  },
  {
   "cell_type": "code",
   "execution_count": null,
   "metadata": {},
   "outputs": [],
   "source": [
    "matches = re.findall ( \"\\d{5}-\\d{4}|\\d{5}\", text)\n",
    "print ( matches )"
   ]
  },
  {
   "cell_type": "code",
   "execution_count": null,
   "metadata": {},
   "outputs": [],
   "source": [
    "html = '''<font size=2>\n",
    "          <font  size=2>\n",
    "          <font size = 2>\n",
    "          < font  size=2 >\n",
    "          <font     size    =   2   >'''"
   ]
  },
  {
   "cell_type": "markdown",
   "metadata": {},
   "source": [
    "**Quiz**\n",
    "Which of the following regular expression captures all of the above combinations. Observe the spaces precisely.\n"
   ]
  },
  {
   "cell_type": "markdown",
   "metadata": {},
   "source": [
    "- \"<\\s+font"
   ]
  },
  {
   "cell_type": "markdown",
   "metadata": {},
   "source": [
    "**Exercise** : Say we have a text with Canadian zip codes. The format for canadian zip codes is\n",
    "\n",
    "- A1A A1A  \n",
    "\n",
    "where A represents an alphabet and 1 represents any digit. There is a space at the 4th character. "
   ]
  },
  {
   "cell_type": "code",
   "execution_count": null,
   "metadata": {},
   "outputs": [],
   "source": [
    "text = '''M1R 0E9\n",
    "          M3C 0C1\n",
    "          M3C 0C2\n",
    "          M3C 0C3\n",
    "          M3C 0E3\n",
    "          M3C 0E4\n",
    "          M3C 0H9\n",
    "          M3C 0J1\n",
    "          1M1 A1A\n",
    "          11M 1A1\n",
    "          M11 A1A\n",
    "          M3C0J1\n",
    "          M3C JJ1'''\n",
    "\n",
    "# Test - The last five elements should NOT match"
   ]
  },
  {
   "cell_type": "markdown",
   "metadata": {},
   "source": [
    "**Solution**"
   ]
  },
  {
   "cell_type": "code",
   "execution_count": null,
   "metadata": {},
   "outputs": [],
   "source": [
    "matches = re.findall (\"[A-Z]\\d[A-Z] \\d[A-Z]\\d\", text)\n",
    "print ( matches )"
   ]
  },
  {
   "cell_type": "markdown",
   "metadata": {},
   "source": [
    "<hr>"
   ]
  },
  {
   "cell_type": "markdown",
   "metadata": {},
   "source": [
    "### Log file analysis"
   ]
  },
  {
   "cell_type": "markdown",
   "metadata": {},
   "source": [
    "**Problem** - Say there is a web server log file, find out how many times the login file was succesfully hit and how many times it failed. For now, we will work with a sample snippet from the file. We will work with the real file in the next challenge."
   ]
  },
  {
   "cell_type": "code",
   "execution_count": null,
   "metadata": {},
   "outputs": [],
   "source": [
    "log = '''\n",
    "10.128.2.1 [29/Nov/2017:06:58:55 GET /login.php HTTP/1.1 Status Code  - 302\n",
    "10.128.2.1 [29/Nov/2017:06:59:02 POST /process.php HTTP/1.1 Status Code  - 302\n",
    "10.128.2.1 [29/Nov/2017:06:59:03 GET /home.php HTTP/1.1 Status Code  - 200\n",
    "10.131.2.1 [29/Nov/2017:06:59:04 GET /js/vendor/moment.min.js HTTP/1.1 Status Code  - 200\n",
    "10.130.2.1 [29/Nov/2017:06:59:06 GET /bootstrap-3.3.7/js/bootstrap.js HTTP/1.1 Status Code  - 200\n",
    "10.130.2.1 [29/Nov/2017:06:59:19 GET /profile.php?user=bala HTTP/1.1 Status Code  - 200\n",
    "10.128.2.1 [29/Nov/2017:06:59:19 GET /js/jquery.min.js HTTP/1.1 Status Code  - 200\n",
    "10.131.2.1 [29/Nov/2017:06:59:19 GET /js/chart.min.js HTTP/1.1 Status Code  - 200\n",
    "10.131.2.1 [29/Nov/2017:06:59:30 GET /edit.php?name=bala HTTP/1.1 Status Code  - 200\n",
    "10.131.2.1 [29/Nov/2017:06:59:37 GET /logout.php HTTP/1.1 Status Code  - 302\n",
    "10.131.2.1 [29/Nov/2017:06:59:37 GET /login.php HTTP/1.1 Status Code  - 200\n",
    "10.130.2.1 [29/Nov/2017:07:00:19 GET /login.php HTTP/1.1 Status Code  - 200\n",
    "10.130.2.1 [29/Nov/2017:07:00:21 GET /login.php HTTP/1.1 Status Code  - 200\n",
    "10.130.2.1 [29/Nov/2017:13:31:27 GET / HTTP/1.1 Status Code  - 302\n",
    "10.130.2.1 [29/Nov/2017:13:31:28 GET /login.php HTTP/1.1 Status Code  - 200\n",
    "10.129.2.1 [29/Nov/2017:13:38:03 POST /process.php HTTP/1.1 Status Code  - 302\n",
    "10.131.0.1 [29/Nov/2017:13:38:04 GET /home.php HTTP/1.1 Status Code  - 200'''"
   ]
  },
  {
   "cell_type": "markdown",
   "metadata": {},
   "source": [
    "**solution**"
   ]
  },
  {
   "cell_type": "code",
   "execution_count": null,
   "metadata": {},
   "outputs": [],
   "source": [
    "pattern = \"(\\d+\\.\\d+\\.\\d+\\.\\d+).*(login.php)\\s(HTTP).*-\\s(\\d{3})\"\n",
    "\n",
    "matches = re.findall (pattern, log)\n",
    "print (matches)    "
   ]
  },
  {
   "cell_type": "code",
   "execution_count": null,
   "metadata": {},
   "outputs": [],
   "source": [
    "count_200     = 0\n",
    "count_not_200 = 0\n",
    "\n",
    "for match in matches : \n",
    "    if match[3] == \"200\" :\n",
    "        count_200 += 1\n",
    "    else : \n",
    "        count_not_200 += 1\n",
    "        \n",
    "success_perc = ( count_200 / (count_200 + count_not_200) ) * 100\n",
    "print ( \" login was succesfully hit \", success_perc , \"% of time\")"
   ]
  },
  {
   "cell_type": "markdown",
   "metadata": {},
   "source": [
    "**Learning** \n",
    "- **(...)** is used to represent groups in a regular expression\n",
    "- There can be multiple groups in a single regular expression\n",
    "- Each of the groups can be extracted out per each match of the regular expression \n",
    "- **.** (dot) represents ANY character"
   ]
  },
  {
   "cell_type": "markdown",
   "metadata": {},
   "source": [
    "<hr>"
   ]
  },
  {
   "cell_type": "markdown",
   "metadata": {},
   "source": [
    "**Challenge** - Say there is a web server log file, find out how many times the login file was succesfully hit and how many times it failed. The file is available in the data directory. If the HTTP code ( at the end of each line in the log file ) is 200 the page is succesfully rendered. Otherwise, it is a failure. "
   ]
  },
  {
   "cell_type": "markdown",
   "metadata": {},
   "source": [
    "**Solution**"
   ]
  },
  {
   "cell_type": "code",
   "execution_count": null,
   "metadata": {},
   "outputs": [],
   "source": [
    "# read file\n",
    "\n",
    "data = [] # will contain the log data as a list\n",
    "with open ( \"./data/log_file.txt\", \"r\") as f : \n",
    "    for line in f : \n",
    "        data.append(line)\n",
    "        \n",
    "# print the read data\n",
    "for line in data [0:5]: \n",
    "    print ( line, end=\"\")"
   ]
  },
  {
   "cell_type": "code",
   "execution_count": null,
   "metadata": {},
   "outputs": [],
   "source": [
    "# parse the data using regular expression and find matches for login.php\n",
    "import re\n",
    "\n",
    "login_data = []\n",
    "\n",
    "pattern = \"(\\d+\\.\\d+\\.\\d+\\.\\d+).*(login.php)\\s(HTTP).*-\\s(\\d{3})\"\n",
    "for line in data : \n",
    "    matches = re.findall (pattern, line)\n",
    "    if len(matches) > 0 : \n",
    "        login = []\n",
    "        login.append(matches[0][0])\n",
    "        login.append(matches[0][1])\n",
    "        login.append(matches[0][2])\n",
    "        login.append(matches[0][3])        \n",
    "        \n",
    "        login_data.append(login)\n",
    "        \n",
    "# print a sample \n",
    "for line in login_data[0:5]:\n",
    "    print ( line)"
   ]
  },
  {
   "cell_type": "code",
   "execution_count": 192,
   "metadata": {},
   "outputs": [
    {
     "ename": "NameError",
     "evalue": "name 'login_data' is not defined",
     "output_type": "error",
     "traceback": [
      "\u001b[1;31m---------------------------------------------------------------------------\u001b[0m",
      "\u001b[1;31mNameError\u001b[0m                                 Traceback (most recent call last)",
      "\u001b[1;32m<ipython-input-192-2b3d022c0101>\u001b[0m in \u001b[0;36m<module>\u001b[1;34m\u001b[0m\n\u001b[0;32m      3\u001b[0m \u001b[0mcount_not_200\u001b[0m \u001b[1;33m=\u001b[0m \u001b[1;36m0\u001b[0m   \u001b[1;31m# unsuccesful\u001b[0m\u001b[1;33m\u001b[0m\u001b[1;33m\u001b[0m\u001b[0m\n\u001b[0;32m      4\u001b[0m \u001b[1;33m\u001b[0m\u001b[0m\n\u001b[1;32m----> 5\u001b[1;33m \u001b[1;32mfor\u001b[0m \u001b[0melement\u001b[0m \u001b[1;32min\u001b[0m \u001b[0mlogin_data\u001b[0m \u001b[1;33m:\u001b[0m\u001b[1;33m\u001b[0m\u001b[1;33m\u001b[0m\u001b[0m\n\u001b[0m\u001b[0;32m      6\u001b[0m     \u001b[1;32mif\u001b[0m \u001b[0melement\u001b[0m\u001b[1;33m[\u001b[0m\u001b[1;36m3\u001b[0m\u001b[1;33m]\u001b[0m \u001b[1;33m==\u001b[0m \u001b[1;34m\"200\"\u001b[0m\u001b[1;33m:\u001b[0m\u001b[1;33m\u001b[0m\u001b[1;33m\u001b[0m\u001b[0m\n\u001b[0;32m      7\u001b[0m         \u001b[0mcount_200\u001b[0m \u001b[1;33m+=\u001b[0m \u001b[1;36m1\u001b[0m\u001b[1;33m\u001b[0m\u001b[1;33m\u001b[0m\u001b[0m\n",
      "\u001b[1;31mNameError\u001b[0m: name 'login_data' is not defined"
     ]
    }
   ],
   "source": [
    "# calculate the success ratio\n",
    "count_200 = 0       # succesful\n",
    "count_not_200 = 0   # unsuccesful\n",
    "\n",
    "for element in login_data : \n",
    "    if element[3] == \"200\": \n",
    "        count_200 += 1\n",
    "    else : \n",
    "        count_not_200 += 1\n",
    "\n",
    "percentage_success = ( count_200 / (count_200 + count_not_200) ) * 100\n",
    "print ( \"Login page was succesfully hit \", percentage_success, \"% of the time\")\n",
    "    "
   ]
  },
  {
   "cell_type": "markdown",
   "metadata": {},
   "source": [
    "<hr>"
   ]
  },
  {
   "cell_type": "code",
   "execution_count": null,
   "metadata": {},
   "outputs": [],
   "source": [
    "text = '''Data science is an inter-disciplinary field  that uses scientific methods, processes, algorithms and systems to extract knowledge and insights from structured and unstructured data. Data science is related to data mining and big data.\n",
    "\n",
    "Data science is a \"concept to unify statistics, data analysis, machine learning and their related methods\" in order to \"understand and analyze actual phenomena\" with data. It employs techniques and theories drawn from many fields within the context of mathematics, statistics, computer science, and information science. Turing award winner Jim Gray imagined data science as a \"fourth paradigm\" of science (empirical, theoretical, computational and now data-driven) and asserted that \"everything about science is changing because of the impact of information technology\" and the data deluge. In 2015, the American Statistical Association identified database management, statistics and machine learning, and distributed and parallel systems as the three emerging foundational professional communities.'''"
   ]
  },
  {
   "cell_type": "code",
   "execution_count": null,
   "metadata": {},
   "outputs": [],
   "source": [
    "pattern = re.findall(\".{10}\\\\s{2,}.{10}\",text)\n",
    "print ( pattern )"
   ]
  },
  {
   "cell_type": "markdown",
   "metadata": {},
   "source": [
    "**Quiz** - The pattern above can be used to find out\n",
    "- words that have 2 or more spaces in between them\n",
    "- sentences that have 2 or more space in between them"
   ]
  },
  {
   "cell_type": "markdown",
   "metadata": {},
   "source": [
    "<hr>"
   ]
  },
  {
   "cell_type": "markdown",
   "metadata": {},
   "source": [
    "### Credit cards extractor\n",
    "**Problem** - Find credit card numbers identified by their category (Visa, Master Card ). These credit card numbers follow a certain pattern. Use the following pattern to identify the category. "
   ]
  },
  {
   "cell_type": "markdown",
   "metadata": {},
   "source": [
    "**Patterns** - \n",
    "- All visa card numbers start with a 4 and are either 13 or 16 numbers\n",
    "- All Master card numbers start with 51 through 55 or 2221 through 2720 and have exactly 16 digits\n",
    "- All Amex cards start with 34 or 37 and have exactly 15 digits"
   ]
  },
  {
   "cell_type": "code",
   "execution_count": null,
   "metadata": {},
   "outputs": [],
   "source": [
    "text = '''4018-2345-0303-0339,\n",
    "          5335-6092-0182-9739,\n",
    "          4076-2929-0000-2222,\n",
    "          3777-5074-1547-439,\n",
    "          5451-3970-1507-5040,\n",
    "          3425-2515-2514-202,\n",
    "          3752-2681-2429-924,\n",
    "          4004-4759-3761-924,\n",
    "          2228-2545-5555-2542,\n",
    "          2296-2542-2587-2555,\n",
    "          2321-2547-5145-2222,\n",
    "          2650-2545-2222-5555,\n",
    "          2706-2546-2589-2515,\n",
    "          2713-9874-5263-6253,\n",
    "          2720-2541-3256-6985\n",
    "'''"
   ]
  },
  {
   "cell_type": "markdown",
   "metadata": {},
   "source": [
    "**Solution**"
   ]
  },
  {
   "cell_type": "markdown",
   "metadata": {},
   "source": [
    "Let's see if the following solution works for Visa cards. "
   ]
  },
  {
   "cell_type": "code",
   "execution_count": null,
   "metadata": {},
   "outputs": [],
   "source": [
    "visa_matches = re.findall(\"4[0-9]{3}-[0-9]{4}-[0-9]{4}-[0-9][0-9]{3}?\", text)\n",
    "print ( visa_matches )"
   ]
  },
  {
   "cell_type": "markdown",
   "metadata": {},
   "source": [
    "The last card is not being picked up. Let's wrap the last 3 digits in a group and try it. "
   ]
  },
  {
   "cell_type": "code",
   "execution_count": null,
   "metadata": {},
   "outputs": [],
   "source": [
    "visa_matches = re.findall(\"4[0-9]{3}-[0-9]{4}-[0-9]{4}-[0-9]([0-9]{3})?\", text)\n",
    "print ( visa_matches )"
   ]
  },
  {
   "cell_type": "markdown",
   "metadata": {},
   "source": [
    "ooh.. this time it only picks up the group. But we wanted the entire number, right ? There are a couple of options. \n",
    "- We can either put all of the remaining pattern also into groups.. like so "
   ]
  },
  {
   "cell_type": "code",
   "execution_count": null,
   "metadata": {},
   "outputs": [],
   "source": [
    "visa_matches = re.findall(\"(4[0-9]{3}-[0-9]{4}-[0-9]{4}-[0-9])([0-9]{3})?\", text)\n",
    "print ( visa_matches )"
   ]
  },
  {
   "cell_type": "markdown",
   "metadata": {},
   "source": [
    "- or, we can let the last element in the pattern to not be a **non-capturing** group - meaning, it will still be a group from a syntax perspective, but will not be captured as a group. To do that, we use **?:**."
   ]
  },
  {
   "cell_type": "code",
   "execution_count": null,
   "metadata": {},
   "outputs": [],
   "source": [
    "visa_matches = re.findall(\"4[0-9]{3}-[0-9]{4}-[0-9]{4}-[0-9](?:[0-9]{3})?\", text)\n",
    "print ( visa_matches )"
   ]
  },
  {
   "cell_type": "markdown",
   "metadata": {},
   "source": [
    "Whenever we use **?:** at the beginning of the group, it will be used to capture the pattern, but will not be captured into the group. Now, let's work on master card. "
   ]
  },
  {
   "cell_type": "markdown",
   "metadata": {},
   "source": [
    "Master card represents a different pattern. It has a pretty broad range of numbers - The beginning numbers start with\n",
    "\n",
    "- 51 through 55 OR\n",
    "- 2221 through 2720\n",
    "\n",
    "The first one is easy enough. Let's work on that first. "
   ]
  },
  {
   "cell_type": "code",
   "execution_count": null,
   "metadata": {},
   "outputs": [],
   "source": [
    "mc_matches = re.findall(\"5[1-5][0-9]{2}-[0-9]{4}-[0-9]{4}-[0-9]{4}\", text)\n",
    "print ( mc_matches )"
   ]
  },
  {
   "cell_type": "markdown",
   "metadata": {},
   "source": [
    "The range 2221-2720 cannot be specified that easily. We need a different strategy for that. We can split this range as follows. \n",
    "\n",
    "- 2221-2229\n",
    "- 223x-229x ( 2230 to 2299 )\n",
    "- 23xx-26xx ( 2300 to 2699 )\n",
    "- 270x-2709 ( 2700 to 2709 )\n",
    "- 271x-2719 ( 2710 to 2719 )\n",
    "- 2720\n",
    "\n",
    "We need to code all these patters using an OR operator. "
   ]
  },
  {
   "cell_type": "code",
   "execution_count": null,
   "metadata": {},
   "outputs": [],
   "source": [
    "mc_matches = re.findall(\"222[1-9]-[0-9]{4}-[0-9]{4}-[0-9]{4}\",text)\n",
    "print(mc_matches)"
   ]
  },
  {
   "cell_type": "code",
   "execution_count": null,
   "metadata": {},
   "outputs": [],
   "source": [
    "mc_matches = re.findall(\"22[3-9][0-9]-[0-9]{4}-[0-9]{4}-[0-9]{4}\",text)\n",
    "print(mc_matches)"
   ]
  },
  {
   "cell_type": "code",
   "execution_count": 165,
   "metadata": {},
   "outputs": [
    {
     "name": "stdout",
     "output_type": "stream",
     "text": [
      "[]\n"
     ]
    }
   ],
   "source": [
    "mc_matches = re.findall(\"2[3-6][0-9]{2}-[0-9]{4}-[0-9]{4}-[0-9]{4}\",text)\n",
    "print(mc_matches)"
   ]
  },
  {
   "cell_type": "code",
   "execution_count": 166,
   "metadata": {},
   "outputs": [
    {
     "name": "stdout",
     "output_type": "stream",
     "text": [
      "[]\n"
     ]
    }
   ],
   "source": [
    "mc_matches = re.findall(\"270[0-9]-[0-9]{4}-[0-9]{4}-[0-9]{4}\",text)\n",
    "print(mc_matches)"
   ]
  },
  {
   "cell_type": "code",
   "execution_count": 167,
   "metadata": {},
   "outputs": [
    {
     "name": "stdout",
     "output_type": "stream",
     "text": [
      "[]\n"
     ]
    }
   ],
   "source": [
    "mc_matches = re.findall(\"271[0-9]-[0-9]{4}-[0-9]{4}-[0-9]{4}\",text)\n",
    "print(mc_matches)"
   ]
  },
  {
   "cell_type": "code",
   "execution_count": 168,
   "metadata": {},
   "outputs": [
    {
     "name": "stdout",
     "output_type": "stream",
     "text": [
      "[]\n"
     ]
    }
   ],
   "source": [
    "mc_matches = re.findall(\"2720-[0-9]{4}-[0-9]{4}-[0-9]{4}\",text)\n",
    "print(mc_matches)"
   ]
  },
  {
   "cell_type": "markdown",
   "metadata": {},
   "source": [
    "In all these examples, the first four digits are the ones that are different. The pattern for the rest of the 12 numbers remain the same. So, let's compress all of these into an OR based patter for the first 4 digits and let the remaining 12 digits remain constant. "
   ]
  },
  {
   "cell_type": "code",
   "execution_count": 169,
   "metadata": {},
   "outputs": [
    {
     "name": "stdout",
     "output_type": "stream",
     "text": [
      "[]\n"
     ]
    }
   ],
   "source": [
    "mc_matches = re.findall (\"(?:5[1-5][0-9]{2}|222[1-9]|22[3-9][0-9]|2[3-6][0-9]{2}|270[0-9]|271[0-9]|2720)-[0-9]{4}-[0-9]{4}-[0-9]{4}\", text)\n",
    "print ( mc_matches)"
   ]
  },
  {
   "cell_type": "markdown",
   "metadata": {},
   "source": [
    "There we go - that should cover all the possible combinations of Master cards. Now, lets move on to Amex. Amex has a really simple pattern - \n",
    "- All Amex cards start with 34 or 37 and have exactly 13 digits"
   ]
  },
  {
   "cell_type": "code",
   "execution_count": 170,
   "metadata": {},
   "outputs": [
    {
     "name": "stdout",
     "output_type": "stream",
     "text": [
      "[]\n"
     ]
    }
   ],
   "source": [
    "amex_matches = re.findall(\"3[47][0-9]{2}-[0-9]{4}-[0-9]{4}-[0-9]{3}\", text)\n",
    "print ( amex_matches )"
   ]
  },
  {
   "cell_type": "markdown",
   "metadata": {},
   "source": [
    "**Learning**\n",
    "- (**?:**...) is used to represent **non-capturing** groups - meaning, they will be used to identify patterns, but the specific pattern within that paranthesis will not be captured as a group. We have seen how this will be useful in case of Visa pattern. \n",
    "- Cycling through a range of numbers. We have seen how to cycle through a large range of numbers when we discussed the pattern for Master card. "
   ]
  },
  {
   "cell_type": "markdown",
   "metadata": {},
   "source": [
    "<hr>"
   ]
  },
  {
   "cell_type": "markdown",
   "metadata": {},
   "source": [
    "### Word occurrences"
   ]
  },
  {
   "cell_type": "markdown",
   "metadata": {},
   "source": [
    "**Problem** - Find all the occurances of a word in a text and segregate them into 2 categories\n",
    "\n",
    "- 1 - standalone occurrence of the word\n",
    "- 2 - The word is part of another word. \n",
    "\n",
    "For example, the word \"bat\" can occur in isolation , like in the sentence (\"His cricket bat is awesome\"), or as part of a different word , like in (\"Aeriel combat vs land-based combat\"). "
   ]
  },
  {
   "cell_type": "markdown",
   "metadata": {},
   "source": [
    "**Solution** - Finding the pattern is quite easy. However, the trick is to find out if the word occurred individually or is part of another word. **word boundaries** can help in this case. **\\b** is used to specify a word boundary. "
   ]
  },
  {
   "cell_type": "code",
   "execution_count": 171,
   "metadata": {},
   "outputs": [],
   "source": [
    "text = '''Python is a general purpose programming language. Python's design philosopy ...\n",
    "          Let's pythonify some of the code...\n",
    "          while python is a high level language...'''\n",
    "          "
   ]
  },
  {
   "cell_type": "code",
   "execution_count": 172,
   "metadata": {},
   "outputs": [
    {
     "name": "stdout",
     "output_type": "stream",
     "text": [
      "[]\n"
     ]
    }
   ],
   "source": [
    "matches = re.findall(\"\\bPython\\b\", text)\n",
    "print ( matches )"
   ]
  },
  {
   "cell_type": "markdown",
   "metadata": {},
   "source": [
    "But it is not working. Why ? That is because **\\b** is a special escape character for backspace. When you specify that in the pattern string, it is not treated literally, but interpreted as a backspace. To avoid confusion, always use raw strings to define patterns. Raw strings can be specified in Python by prepending the string with a **r**. Let's try this again."
   ]
  },
  {
   "cell_type": "code",
   "execution_count": 173,
   "metadata": {},
   "outputs": [
    {
     "name": "stdout",
     "output_type": "stream",
     "text": [
      "['Python', 'Python']\n"
     ]
    }
   ],
   "source": [
    "matches = re.findall(r\"\\bPython\\b\", text)\n",
    "print ( matches )"
   ]
  },
  {
   "cell_type": "markdown",
   "metadata": {},
   "source": [
    "That's better. However, there are 3 occurrences of \"Python\". Why is python in the last line not being picked up ? That is because, regular expressions are case sensitive. The \"p\" in the word \"python\" in the last line is lower case. If you wanted to do a case sensitive search, use **global flags**. These can be specified as a third parameter in the **findall ( )** function. "
   ]
  },
  {
   "cell_type": "code",
   "execution_count": 174,
   "metadata": {},
   "outputs": [
    {
     "name": "stdout",
     "output_type": "stream",
     "text": [
      "['Python', 'Python', 'python']\n"
     ]
    }
   ],
   "source": [
    "matches = re.findall(r\"\\bPython\\b\", text, re.IGNORECASE) # you can also use re.I as a shortcut\n",
    "print ( matches )"
   ]
  },
  {
   "cell_type": "markdown",
   "metadata": {},
   "source": [
    "**Learning**\n",
    "- **\\b** is used to specify a word boundary.\n",
    "- Always prepend the pattern string with **r** to make it a raw string. This way, the characters in the pattern are taken literally.\n",
    "- **global flags** can be used to alter the way regular expressions work. One of the global flags we have seen is **re.IGNORECASE**. It can be used to do a case insensitive search. "
   ]
  },
  {
   "cell_type": "markdown",
   "metadata": {},
   "source": [
    "<hr>"
   ]
  },
  {
   "cell_type": "markdown",
   "metadata": {},
   "source": [
    "### HTML tags"
   ]
  },
  {
   "cell_type": "markdown",
   "metadata": {},
   "source": [
    "**Problem** - Find all the tags in a HTML or XML."
   ]
  },
  {
   "cell_type": "markdown",
   "metadata": {},
   "source": [
    "For example, here is a small snippet of HTML. There are many tags like <html>, <head>, <tr> etc. We have to identify all the tags used in the following HTML. "
   ]
  },
  {
   "cell_type": "code",
   "execution_count": 175,
   "metadata": {},
   "outputs": [],
   "source": [
    "import re \n",
    "text = '''<html>\n",
    "            <head> \n",
    "            <title> What's in a title</title\n",
    "            </head>\n",
    "            <body>\n",
    "                <tr>\n",
    "                    <td>text one </td>\n",
    "                    <td>text two </td>\n",
    "                </tr>\n",
    "            </body>\n",
    "          </html>\n",
    "'''"
   ]
  },
  {
   "cell_type": "markdown",
   "metadata": {},
   "source": [
    "**Solution**"
   ]
  },
  {
   "cell_type": "code",
   "execution_count": 176,
   "metadata": {},
   "outputs": [
    {
     "name": "stdout",
     "output_type": "stream",
     "text": [
      "['html', 'head', 'title', '/title\\n            </head', 'body', 'tr', 'td', '/td', 'td', '/td', '/tr', '/body', '/html']\n"
     ]
    }
   ],
   "source": [
    "matches = re.findall(r\"<([^>]*)>\", text)\n",
    "print ( matches )"
   ]
  },
  {
   "cell_type": "markdown",
   "metadata": {},
   "source": [
    "This gives the start and end tags. Say, we don't want the end tags."
   ]
  },
  {
   "cell_type": "code",
   "execution_count": 177,
   "metadata": {},
   "outputs": [
    {
     "name": "stdout",
     "output_type": "stream",
     "text": [
      "['html', 'head', 'title', 'body', 'tr', 'td', 'td']\n"
     ]
    }
   ],
   "source": [
    "matches = re.findall(r\"<([^>/]*)>\", text)\n",
    "print ( matches )"
   ]
  },
  {
   "cell_type": "markdown",
   "metadata": {},
   "source": [
    "Another way to do it is to use non-greedy quantification. When you start a pattern with **<** and consume any character with .*, it consumes it all the way to the end. That is why * and + are greedy quantifiers. To negate the effect of it, use the ? operator. That way it allows the * to match the least amount of text before the regular expression is satisifed."
   ]
  },
  {
   "cell_type": "code",
   "execution_count": 178,
   "metadata": {},
   "outputs": [
    {
     "name": "stdout",
     "output_type": "stream",
     "text": [
      "['<html>', '<head>', '<title>', '</head>', '<body>', '<tr>', '<td>', '</td>', '<td>', '</td>', '</tr>', '</body>', '</html>']\n"
     ]
    }
   ],
   "source": [
    "import re\n",
    "\n",
    "matches = re.findall(\"<.*?>\", text)\n",
    "print ( matches )"
   ]
  },
  {
   "cell_type": "markdown",
   "metadata": {},
   "source": [
    "**Learning**\n",
    "- + and * are greedy quantifier. They consume the most amount of text before a pattern can be satisfied.\n",
    "- Follow a pattern with **?** to make it a non-greedy (or lazy) quantifer. This makes the regular expression consume the least amount of text before satisfying the entire pattern."
   ]
  },
  {
   "cell_type": "markdown",
   "metadata": {},
   "source": [
    "<hr>"
   ]
  },
  {
   "cell_type": "markdown",
   "metadata": {},
   "source": [
    "### title"
   ]
  },
  {
   "cell_type": "markdown",
   "metadata": {},
   "source": [
    "**Problem** - as"
   ]
  },
  {
   "cell_type": "code",
   "execution_count": 179,
   "metadata": {},
   "outputs": [],
   "source": [
    "text = '''\n",
    "ages = [22, 23, 24]\n",
    "9_age = [22, 23, 24]\n",
    "'''"
   ]
  },
  {
   "cell_type": "code",
   "execution_count": 180,
   "metadata": {},
   "outputs": [
    {
     "name": "stdout",
     "output_type": "stream",
     "text": [
      "['ages', '_age']\n"
     ]
    }
   ],
   "source": [
    "matches = re.findall(\"[a-zA-Z_][a-zA-Z_0-9]{1,20}\", text)\n",
    "print ( matches)"
   ]
  },
  {
   "cell_type": "code",
   "execution_count": 181,
   "metadata": {},
   "outputs": [
    {
     "name": "stdout",
     "output_type": "stream",
     "text": [
      "['22', '23', '24', '9_age', '22', '23', '24']\n"
     ]
    }
   ],
   "source": [
    "matches = re.findall(\"[0-9][a-zA-Z_0-9]{1,20}\", text)\n",
    "print ( matches)"
   ]
  },
  {
   "cell_type": "markdown",
   "metadata": {},
   "source": [
    "<hr/>"
   ]
  },
  {
   "cell_type": "markdown",
   "metadata": {},
   "source": [
    "### Password verification"
   ]
  },
  {
   "cell_type": "markdown",
   "metadata": {},
   "source": [
    "**Problem** - Verify if a password is\n",
    "\n",
    "- Has atleast One upper case character\n",
    "- Has atleast one digit. \n",
    "- Has atleast one special character ( let's limit special characters to @ , # , $ , % )"
   ]
  },
  {
   "cell_type": "code",
   "execution_count": 182,
   "metadata": {},
   "outputs": [],
   "source": [
    "text = '''Aw@som$passw0rd\n",
    "          Awesomepassw0rd\n",
    "          Awesomepassword\n",
    "          Aw!som!passw0rd\n",
    "          aw!som!passw0rd'''\n",
    "\n",
    "# All combinations except for the first one is valid"
   ]
  },
  {
   "cell_type": "markdown",
   "metadata": {},
   "source": [
    "**Solution**"
   ]
  },
  {
   "cell_type": "markdown",
   "metadata": {},
   "source": [
    "This can be solved easily using regular python lists. However, we wanted a more concise solution using regular expressions. In these kinds of situations, we are looking for some kind of validation. Regular expression's **lookaround** function is very useful in these cases. The syntax for that is **(?=...)** where ... represents any regular expression. Let's start with the first condition"
   ]
  },
  {
   "cell_type": "code",
   "execution_count": 183,
   "metadata": {},
   "outputs": [],
   "source": [
    "text = \"aWesome\""
   ]
  },
  {
   "cell_type": "code",
   "execution_count": 184,
   "metadata": {},
   "outputs": [
    {
     "name": "stdout",
     "output_type": "stream",
     "text": [
      "['aWesome']\n"
     ]
    }
   ],
   "source": [
    "matches = re.findall(\"[^A-Z]*[A-Z].*\", text)\n",
    "print(matches)"
   ]
  },
  {
   "cell_type": "code",
   "execution_count": 185,
   "metadata": {},
   "outputs": [],
   "source": [
    "text = \"Awesome1\""
   ]
  },
  {
   "cell_type": "code",
   "execution_count": 186,
   "metadata": {},
   "outputs": [
    {
     "name": "stdout",
     "output_type": "stream",
     "text": [
      "['Awesome1']\n"
     ]
    }
   ],
   "source": [
    "matches = re.findall(\"[^A-Z]*[A-Z]\\D*\\d.*\", text)\n",
    "print(matches)"
   ]
  },
  {
   "cell_type": "markdown",
   "metadata": {},
   "source": [
    "This works too. Now, lets try a different combimation - put the digits before the letters."
   ]
  },
  {
   "cell_type": "code",
   "execution_count": 187,
   "metadata": {},
   "outputs": [],
   "source": [
    "text = \"1Awesome\""
   ]
  },
  {
   "cell_type": "code",
   "execution_count": 188,
   "metadata": {},
   "outputs": [
    {
     "name": "stdout",
     "output_type": "stream",
     "text": [
      "[]\n"
     ]
    }
   ],
   "source": [
    "matches = re.findall(\"[^A-Z]*[A-Z]\\D*\\d.*\", text)\n",
    "print(matches)"
   ]
  },
  {
   "cell_type": "markdown",
   "metadata": {},
   "source": [
    "That failed. why ? Because regular expressions consume text and move forward. So, the expession **[^A-Z]*[A-Z]**   consumed all the text including the 1 at the beginning. And it is now looking for a number at **\\d**, which it cannot find after the capital letter. This is where lookarounds help. "
   ]
  },
  {
   "cell_type": "code",
   "execution_count": 189,
   "metadata": {},
   "outputs": [],
   "source": [
    "text = \"1Awesome\""
   ]
  },
  {
   "cell_type": "code",
   "execution_count": 190,
   "metadata": {},
   "outputs": [
    {
     "name": "stdout",
     "output_type": "stream",
     "text": [
      "['1Awesome']\n"
     ]
    }
   ],
   "source": [
    "matches = re.findall(\"(?=[^A-Z]*[A-Z])(?=\\D*\\d).*\", text)\n",
    "print(matches)"
   ]
  },
  {
   "cell_type": "markdown",
   "metadata": {},
   "source": [
    "This time it works. The reason is that we have converted the digit search **\\D*\\d** into a lookahead**(?=\\D\\d)**. "
   ]
  },
  {
   "cell_type": "markdown",
   "metadata": {},
   "source": [
    "An important aspect of lookarounds ( look ahead or look behind ) is that it does not consume any characters. For example, look at the example below. We want to find out all the words that are preceded by a comma, but we don't want to show the comma. "
   ]
  },
  {
   "cell_type": "code",
   "execution_count": 196,
   "metadata": {},
   "outputs": [
    {
     "name": "stdout",
     "output_type": "stream",
     "text": [
      "['there']\n"
     ]
    }
   ],
   "source": [
    "text = \"Hi there, how are you doing ?\"\n",
    "\n",
    "# \\b for word boundary\n",
    "# \\w+ for a word\n",
    "#(?=,) will ensure that the word is followed by a comma\n",
    "\n",
    "matches = re.findall(r\"\\b\\w+(?=,)\", text)\n",
    "print ( matches )"
   ]
  },
  {
   "cell_type": "markdown",
   "metadata": {},
   "source": [
    "See, the comman is not shown in the output. Granted it is not a big deal. We can do that using groups. However, there are many situations (like the password example above) that cannot be achieved using groups. That's where **lookarounds** come in. Let's continue the same example as above and find out all the words, preceded by a comma."
   ]
  },
  {
   "cell_type": "code",
   "execution_count": 201,
   "metadata": {},
   "outputs": [
    {
     "name": "stdout",
     "output_type": "stream",
     "text": [
      "['how']\n"
     ]
    }
   ],
   "source": [
    "# (?=,\\s) => verify (assert) that before the word, there is a comma followed by a space\n",
    "# \\w+ is a word\n",
    "\n",
    "matches = re.findall(r\"(?<=,\\s)\\w+\", text)\n",
    "print ( matches )"
   ]
  },
  {
   "cell_type": "markdown",
   "metadata": {},
   "source": [
    "**Learning** \n",
    "- There are 2 type of **Lookarounds** - **look ahead** and **look behind**. \n",
    "- **(?=...)** is used to do look ahead search. \n",
    "- **Lookarounds** are also called **assertions**"
   ]
  },
  {
   "cell_type": "markdown",
   "metadata": {},
   "source": [
    "<hr>"
   ]
  },
  {
   "cell_type": "markdown",
   "metadata": {},
   "source": [
    "### Regular expressions cheatsheet"
   ]
  },
  {
   "cell_type": "markdown",
   "metadata": {},
   "source": [
    "| Special Character | Description                                     |\n",
    "|-------------------|-------------------------------------------------|\n",
    "|   .               | Matches any character - except new line         |\n",
    "|   [XYZ]              | Character set         |\n",
    "|   [^XYZ]               | Negation of the Character set         |\n",
    "|   [A-Z]           | Matches any character - except new line         |\n",
    "|   pipe            | Logical OR         |\n",
    "|   .               | Matches any character - except new line         |\n",
    "|   \\w         | Matches any word character. Equivalent to [A-Za-z0-9_]         |\n",
    "|   \\W         | Negation of any word character. Equivalent to [^A-Za-z0-9_]         |\n",
    "|   \\d         | Matches any digit. Equivalent to [0-9]         |\n",
    "|   \\D         | Matches any non-digit. Equivalent to [^0-9]         |\n",
    "|   \\s         | Matches any whitespace character ( spaces, tabs or linebreaks )         |\n",
    "|   \\S         | Matches any non-whitespace character          |\n",
    "|   ^               | Matches beginning of line         |\n",
    "|   $               | Matches end of line         |\n",
    "|   \\b               | Word boundary         |\n",
    "|   \\B               | not a word boundary         |\n",
    "|   *               | Zero or more         |\n",
    "|   +               | One or more         |\n",
    "|   ?               | Zero or one         |\n",
    "|   (XYZ)               | Capturing group         |\n",
    "|   (?:XYZ)               | non-capturing group         |\n",
    "|   (?=XYZ)               | Positive lookahead         |\n",
    "|   (?!XYZ)               | Negative lookahead         |\n",
    "|   (?<=XYZ)               | Positive lookbehind         |\n",
    "|   (?<!XYZ)               | Negative lookbehind         |"
   ]
  },
  {
   "cell_type": "markdown",
   "metadata": {},
   "source": [
    "<hr>"
   ]
  },
  {
   "cell_type": "markdown",
   "metadata": {},
   "source": [
    "### Challenge"
   ]
  },
  {
   "cell_type": "markdown",
   "metadata": {},
   "source": [
    "### Extract data to JSON"
   ]
  },
  {
   "cell_type": "markdown",
   "metadata": {},
   "source": [
    "Say, we gave a bunch of cities along with their nick names in the following format in a text file. Extract the city and it nick name in a JSON format with the structure as follows. "
   ]
  },
  {
   "cell_type": "code",
   "execution_count": null,
   "metadata": {},
   "outputs": [],
   "source": [
    "cities = '''\n",
    "1. Paris – The City of Love, The City of Light, La Ville-Lumiere\n",
    "\n",
    "2. Prague – The City of Hundred Spires, The Golden City, The Mother of Cities\n",
    "\n",
    "3. New York – The Big Apple\n",
    "\n",
    "4. Las Vegas – Sin City'''"
   ]
  },
  {
   "cell_type": "code",
   "execution_count": null,
   "metadata": {},
   "outputs": [],
   "source": [
    "# required output format\n",
    "{\n",
    "    \"city_1\" : [\"nick name 1\", \"nick name 2\"], \n",
    "    \"city_2\" : [\"nick name 1\", \"nick name 2..\"]\n",
    "}"
   ]
  },
  {
   "cell_type": "markdown",
   "metadata": {},
   "source": [
    "**Solution**"
   ]
  },
  {
   "cell_type": "code",
   "execution_count": null,
   "metadata": {},
   "outputs": [],
   "source": [
    "#import the file\n",
    "\n",
    "with open(\"./data/cities.txt\",\"r\") as f : \n",
    "    data = f.read()"
   ]
  },
  {
   "cell_type": "code",
   "execution_count": null,
   "metadata": {},
   "outputs": [],
   "source": [
    "import re \n",
    "\n",
    "matches = re.findall(\"\\d+\\.\\s+(\\w+\\s?\\w+)\\s+–\\s+(.*)\", data)\n",
    "print ( matches[0:5])"
   ]
  },
  {
   "cell_type": "code",
   "execution_count": null,
   "metadata": {},
   "outputs": [],
   "source": [
    "import json\n",
    "\n",
    "city_dict = {}\n",
    "\n",
    "for city in matches : \n",
    "    city_dict[city[0]] = city[1].split(\",\")\n",
    "    \n",
    "city_json = json.dumps(city_dict)"
   ]
  }
 ],
 "metadata": {
  "kernelspec": {
   "display_name": "Python 3",
   "language": "python",
   "name": "python3"
  },
  "language_info": {
   "codemirror_mode": {
    "name": "ipython",
    "version": 3
   },
   "file_extension": ".py",
   "mimetype": "text/x-python",
   "name": "python",
   "nbconvert_exporter": "python",
   "pygments_lexer": "ipython3",
   "version": "3.7.3"
  }
 },
 "nbformat": 4,
 "nbformat_minor": 4
}
