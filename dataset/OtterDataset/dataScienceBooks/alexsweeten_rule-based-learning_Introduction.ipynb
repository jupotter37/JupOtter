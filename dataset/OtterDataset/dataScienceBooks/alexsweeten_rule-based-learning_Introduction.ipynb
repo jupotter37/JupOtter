{
 "cells": [
  {
   "cell_type": "markdown",
   "metadata": {},
   "source": [
    "Welcome! In this tutorial, we'll be building a decision tree classifier using scikit-learn for the Human Chromosome 1 Dataset."
   ]
  },
  {
   "cell_type": "code",
   "execution_count": 1,
   "metadata": {},
   "outputs": [],
   "source": [
    "import numpy as np\n",
    "import pandas as pd\n",
    "from sklearn.tree import DecisionTreeClassifier\n",
    "from sklearn import tree\n",
    "from sklearn.metrics import f1_score\n",
    "from sklearn.model_selection import train_test_split"
   ]
  },
  {
   "cell_type": "markdown",
   "metadata": {},
   "source": [
    "First, let's grab our data. This dataset contains 1200 experimentally validated binding sites, and 1200 random sequences. We'll need to split our data into a training set and a test set."
   ]
  },
  {
   "cell_type": "code",
   "execution_count": 2,
   "metadata": {},
   "outputs": [],
   "source": [
    "training_data = pd.read_csv('../datasets/humanSP1/humanSP1_train.csv', sep= ',', header=None)\n",
    "X = training_data.values[:,0]\n",
    "Y = training_data.values[:, 1:2]"
   ]
  },
  {
   "cell_type": "markdown",
   "metadata": {},
   "source": [
    "Depending on the classifier your using, you might need to change the encoding of your input from letters (ACGT) to numbers. Here we map:\n",
    "\n",
    "A -> 00\n",
    "C -> 01\n",
    "G -> 10\n",
    "T -> 11\n",
    "\n",
    "Now you know the origin of the hackseq logo ;)"
   ]
  },
  {
   "cell_type": "code",
   "execution_count": 3,
   "metadata": {},
   "outputs": [],
   "source": [
    "updated_X = []\n",
    "\n",
    "for line in X:\n",
    "\ttmp= []\n",
    "\tfor character in line:\n",
    "\t\tif character == 'A':\n",
    "\t\t\ttmp.append(\"00\")\n",
    "\t\telif character == 'C':\n",
    "\t\t\ttmp.append(\"01\")\n",
    "\t\telif character == 'G':\n",
    "\t\t\ttmp.append(\"10\")\n",
    "\t\telif character == 'T':\n",
    "\t\t\ttmp.append(\"11\")\n",
    "\tupdated_X.append(tmp)"
   ]
  },
  {
   "cell_type": "markdown",
   "metadata": {},
   "source": [
    "Finally, we will use sci-kit learns train_test_split function to split our dataset into 70% training and 30% testing respectively:"
   ]
  },
  {
   "cell_type": "code",
   "execution_count": 4,
   "metadata": {},
   "outputs": [],
   "source": [
    "X_train, X_test, y_train, y_test = train_test_split(updated_X, Y, test_size = 0.3, random_state = 100)"
   ]
  },
  {
   "cell_type": "code",
   "execution_count": 5,
   "metadata": {},
   "outputs": [
    {
     "name": "stdout",
     "output_type": "stream",
     "text": [
      "Data is trained!\n"
     ]
    }
   ],
   "source": [
    "tfbs_classifier = tree.DecisionTreeClassifier()\n",
    "tfbs_classifier = tfbs_classifier.fit(X_train, y_train)\n",
    "print(\"Data is trained!\")"
   ]
  },
  {
   "cell_type": "markdown",
   "metadata": {},
   "source": [
    "[Here](https://medium.com/greyatom/decision-trees-a-simple-way-to-visualize-a-decision-dc506a403aeb) is a great in-depth explanation of decision trees. Decision trees use the information theory concept of \"entropy\" to maximize the information gained at each node in the tree. Now let's try running our test data:"
   ]
  },
  {
   "cell_type": "code",
   "execution_count": 6,
   "metadata": {},
   "outputs": [
    {
     "name": "stdout",
     "output_type": "stream",
     "text": [
      "['non-binding site' 'non-binding site' 'binding site' 'non-binding site'\n",
      " 'non-binding site' 'binding site' 'non-binding site' 'binding site'\n",
      " 'binding site' 'binding site' 'binding site' 'binding site'\n",
      " 'binding site' 'binding site' 'non-binding site' 'binding site'\n",
      " 'binding site' 'non-binding site' 'non-binding site' 'binding site'\n",
      " 'non-binding site' 'binding site' 'binding site' 'binding site'\n",
      " 'binding site' 'binding site' 'non-binding site' 'non-binding site'\n",
      " 'non-binding site' 'binding site' 'binding site' 'binding site'\n",
      " 'binding site' 'binding site' 'non-binding site' 'non-binding site'\n",
      " 'non-binding site' 'non-binding site' 'binding site' 'non-binding site'\n",
      " 'binding site' 'non-binding site' 'non-binding site' 'non-binding site'\n",
      " 'binding site' 'binding site' 'binding site' 'non-binding site'\n",
      " 'binding site' 'binding site' 'non-binding site' 'non-binding site'\n",
      " 'binding site' 'binding site' 'non-binding site' 'non-binding site'\n",
      " 'non-binding site' 'non-binding site' 'binding site' 'non-binding site'\n",
      " 'binding site' 'binding site' 'non-binding site' 'binding site'\n",
      " 'binding site' 'binding site' 'non-binding site' 'binding site'\n",
      " 'non-binding site' 'non-binding site' 'non-binding site'\n",
      " 'non-binding site' 'non-binding site' 'non-binding site' 'binding site'\n",
      " 'binding site' 'non-binding site' 'binding site' 'binding site'\n",
      " 'binding site' 'non-binding site' 'binding site' 'binding site'\n",
      " 'non-binding site' 'non-binding site' 'binding site' 'non-binding site'\n",
      " 'binding site' 'non-binding site' 'binding site' 'non-binding site'\n",
      " 'non-binding site' 'non-binding site' 'non-binding site' 'binding site'\n",
      " 'binding site' 'non-binding site' 'non-binding site' 'binding site'\n",
      " 'non-binding site' 'non-binding site' 'non-binding site'\n",
      " 'non-binding site' 'non-binding site' 'binding site' 'binding site'\n",
      " 'non-binding site' 'binding site' 'binding site' 'non-binding site'\n",
      " 'binding site' 'binding site' 'binding site' 'binding site'\n",
      " 'non-binding site' 'non-binding site' 'binding site' 'binding site'\n",
      " 'binding site' 'binding site' 'binding site' 'non-binding site'\n",
      " 'non-binding site' 'non-binding site' 'non-binding site'\n",
      " 'non-binding site' 'binding site' 'binding site' 'binding site'\n",
      " 'binding site' 'non-binding site' 'non-binding site' 'non-binding site'\n",
      " 'binding site' 'binding site' 'non-binding site' 'non-binding site'\n",
      " 'non-binding site' 'non-binding site' 'binding site' 'binding site'\n",
      " 'binding site' 'binding site' 'binding site' 'non-binding site'\n",
      " 'binding site' 'binding site' 'binding site' 'binding site'\n",
      " 'binding site' 'binding site' 'non-binding site' 'non-binding site'\n",
      " 'non-binding site' 'binding site' 'binding site' 'non-binding site'\n",
      " 'binding site' 'binding site' 'binding site' 'non-binding site'\n",
      " 'binding site' 'binding site' 'non-binding site' 'binding site'\n",
      " 'non-binding site' 'non-binding site' 'binding site' 'non-binding site'\n",
      " 'binding site' 'non-binding site' 'binding site' 'binding site'\n",
      " 'non-binding site' 'non-binding site' 'non-binding site'\n",
      " 'non-binding site' 'non-binding site' 'binding site' 'non-binding site'\n",
      " 'binding site' 'non-binding site' 'binding site' 'binding site'\n",
      " 'binding site' 'binding site' 'binding site' 'non-binding site'\n",
      " 'binding site' 'non-binding site' 'non-binding site' 'binding site'\n",
      " 'non-binding site' 'binding site' 'binding site' 'binding site'\n",
      " 'binding site' 'binding site' 'non-binding site' 'non-binding site'\n",
      " 'non-binding site' 'non-binding site' 'non-binding site' 'binding site'\n",
      " 'non-binding site' 'binding site' 'non-binding site' 'non-binding site'\n",
      " 'binding site' 'binding site' 'non-binding site' 'non-binding site'\n",
      " 'binding site' 'binding site' 'non-binding site' 'non-binding site'\n",
      " 'binding site' 'binding site' 'binding site' 'binding site'\n",
      " 'non-binding site' 'non-binding site' 'binding site' 'non-binding site'\n",
      " 'binding site' 'non-binding site' 'binding site' 'binding site'\n",
      " 'binding site' 'non-binding site' 'non-binding site' 'binding site'\n",
      " 'binding site' 'non-binding site' 'binding site' 'non-binding site'\n",
      " 'non-binding site' 'non-binding site' 'binding site' 'binding site'\n",
      " 'non-binding site' 'binding site' 'non-binding site' 'non-binding site'\n",
      " 'non-binding site' 'non-binding site' 'binding site' 'non-binding site'\n",
      " 'binding site' 'binding site' 'binding site' 'binding site'\n",
      " 'non-binding site' 'non-binding site' 'binding site' 'binding site'\n",
      " 'non-binding site' 'binding site' 'binding site' 'non-binding site'\n",
      " 'non-binding site' 'non-binding site' 'non-binding site'\n",
      " 'non-binding site' 'binding site' 'non-binding site' 'non-binding site'\n",
      " 'binding site' 'non-binding site' 'non-binding site' 'binding site'\n",
      " 'non-binding site' 'binding site' 'binding site' 'binding site'\n",
      " 'binding site' 'binding site' 'non-binding site' 'binding site'\n",
      " 'binding site' 'non-binding site' 'binding site' 'non-binding site'\n",
      " 'binding site' 'non-binding site' 'non-binding site' 'binding site'\n",
      " 'non-binding site' 'non-binding site' 'binding site' 'non-binding site'\n",
      " 'non-binding site' 'non-binding site' 'non-binding site'\n",
      " 'non-binding site' 'binding site' 'non-binding site' 'binding site'\n",
      " 'non-binding site' 'binding site' 'binding site' 'binding site'\n",
      " 'non-binding site' 'binding site' 'non-binding site' 'non-binding site'\n",
      " 'non-binding site' 'binding site' 'non-binding site' 'non-binding site'\n",
      " 'binding site' 'non-binding site' 'non-binding site' 'binding site'\n",
      " 'binding site' 'binding site' 'non-binding site' 'binding site'\n",
      " 'non-binding site' 'non-binding site' 'non-binding site' 'binding site'\n",
      " 'binding site' 'non-binding site' 'non-binding site' 'binding site'\n",
      " 'binding site' 'non-binding site' 'binding site' 'non-binding site'\n",
      " 'non-binding site' 'binding site' 'non-binding site' 'non-binding site'\n",
      " 'binding site' 'non-binding site' 'non-binding site' 'non-binding site'\n",
      " 'non-binding site' 'binding site' 'non-binding site' 'non-binding site'\n",
      " 'binding site' 'binding site' 'binding site' 'binding site'\n",
      " 'non-binding site' 'non-binding site' 'binding site' 'binding site'\n",
      " 'non-binding site' 'binding site' 'binding site' 'non-binding site'\n",
      " 'binding site' 'binding site' 'binding site' 'binding site'\n",
      " 'binding site' 'binding site' 'non-binding site' 'binding site'\n",
      " 'binding site' 'binding site' 'binding site' 'binding site'\n",
      " 'non-binding site' 'binding site' 'binding site' 'non-binding site'\n",
      " 'non-binding site' 'non-binding site' 'binding site' 'non-binding site'\n",
      " 'non-binding site' 'non-binding site' 'binding site' 'binding site'\n",
      " 'binding site' 'binding site' 'binding site' 'non-binding site'\n",
      " 'non-binding site' 'non-binding site' 'binding site' 'non-binding site'\n",
      " 'non-binding site' 'binding site' 'binding site' 'binding site'\n",
      " 'binding site' 'binding site' 'binding site' 'non-binding site'\n",
      " 'non-binding site' 'non-binding site' 'non-binding site'\n",
      " 'non-binding site' 'binding site' 'binding site' 'binding site'\n",
      " 'binding site' 'binding site' 'non-binding site' 'non-binding site'\n",
      " 'non-binding site' 'non-binding site' 'non-binding site'\n",
      " 'non-binding site' 'binding site' 'binding site' 'binding site'\n",
      " 'non-binding site' 'non-binding site' 'binding site' 'binding site'\n",
      " 'binding site' 'binding site' 'binding site' 'binding site'\n",
      " 'binding site' 'binding site' 'binding site' 'binding site'\n",
      " 'binding site' 'binding site' 'binding site' 'non-binding site'\n",
      " 'non-binding site' 'non-binding site' 'non-binding site' 'binding site'\n",
      " 'binding site' 'binding site' 'non-binding site' 'binding site'\n",
      " 'binding site' 'non-binding site' 'binding site' 'binding site'\n",
      " 'binding site' 'binding site' 'non-binding site' 'binding site'\n",
      " 'non-binding site' 'binding site' 'binding site' 'binding site'\n",
      " 'binding site' 'binding site' 'binding site' 'non-binding site'\n",
      " 'binding site' 'binding site' 'non-binding site' 'binding site'\n",
      " 'binding site' 'binding site' 'binding site' 'binding site'\n",
      " 'non-binding site' 'non-binding site' 'non-binding site'\n",
      " 'non-binding site' 'non-binding site' 'non-binding site'\n",
      " 'non-binding site' 'non-binding site' 'non-binding site'\n",
      " 'non-binding site' 'non-binding site' 'non-binding site' 'binding site'\n",
      " 'binding site' 'non-binding site' 'non-binding site' 'binding site'\n",
      " 'non-binding site' 'non-binding site' 'non-binding site']\n"
     ]
    }
   ],
   "source": [
    "y_pred = tfbs_classifier.predict(X_test)\n",
    "print(y_pred)"
   ]
  },
  {
   "cell_type": "markdown",
   "metadata": {},
   "source": [
    "Let's see how well our predictions fare from the truth.\n",
    "There are a number of accuracy metrics that we can use, we'll use F1 score. [Here](https://towardsdatascience.com/precision-vs-recall-386cf9f89488) is an introduction to F1 score, including why we want to use it over accuracy."
   ]
  },
  {
   "cell_type": "code",
   "execution_count": 7,
   "metadata": {},
   "outputs": [
    {
     "data": {
      "text/plain": [
       "0.6992481203007519"
      ]
     },
     "execution_count": 7,
     "metadata": {},
     "output_type": "execute_result"
    }
   ],
   "source": [
    "f1_score(y_test, y_pred, average='macro')"
   ]
  },
  {
   "cell_type": "markdown",
   "metadata": {},
   "source": [
    "Not bad, but I'm sure with some optimizations we can improve our score. Now let's talk about rules."
   ]
  },
  {
   "cell_type": "markdown",
   "metadata": {},
   "source": [
    "Rules take the form of an {IF:THEN} expression. For example:\n",
    "\n",
    "{IF 'red' AND 'octagon' THEN 'stop-sign'}\n",
    "\n",
    "{IF 'salary' < 70,000 AND 1yrs < 'time_employed' < 3yrs AND 'last_promotion' == null THEN 'employee_quits'}.\n",
    "\n",
    "Decision trees are great for extracting rules. Your goal is to try and extract some rules from this dataset.\n",
    "[Here](https://scikit-learn.org/stable/modules/tree.html#classification) is a sci-kit learn tutorial on how to extract rules from a decision tree."
   ]
  }
 ],
 "metadata": {
  "kernelspec": {
   "display_name": "Python 3",
   "language": "python",
   "name": "python3"
  },
  "language_info": {
   "codemirror_mode": {
    "name": "ipython",
    "version": 3
   },
   "file_extension": ".py",
   "mimetype": "text/x-python",
   "name": "python",
   "nbconvert_exporter": "python",
   "pygments_lexer": "ipython3",
   "version": "3.7.3"
  }
 },
 "nbformat": 4,
 "nbformat_minor": 2
}
