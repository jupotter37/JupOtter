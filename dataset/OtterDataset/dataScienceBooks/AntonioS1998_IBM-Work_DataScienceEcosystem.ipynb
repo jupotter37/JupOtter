{
 "cells": [
  {
   "cell_type": "markdown",
   "metadata": {},
   "source": [
    "# **Data Science Tools and Ecosystem**"
   ]
  },
  {
   "cell_type": "markdown",
   "metadata": {},
   "source": [
    "## In this notebook Data Science Tools and Ecosystem are summarized."
   ]
  },
  {
   "cell_type": "markdown",
   "metadata": {},
   "source": [
    "## **Objectives**:\n",
    "* Some of the popular languages that Data Scientests use\n",
    "* Some of the commonly used libraries used by Data Scientists\n",
    "* A few examples of evaluating arithmetic expressions in Python\n",
    "\n",
    "## Author\n",
    "Antonio Sooklalsingh\n"
   ]
  },
  {
   "cell_type": "markdown",
   "metadata": {},
   "source": [
    "### Some of the popular languages that Data Scientests use are:\n",
    "1. Python\n",
    "2. SQL\n",
    "3. R\n",
    "4. Java"
   ]
  },
  {
   "cell_type": "markdown",
   "metadata": {},
   "source": [
    "### Some of the commonly used libraries used by Data Scientists include:\n",
    "1. Pandas\n",
    "2. Ggplot\n",
    "3. NumPy\n",
    "4. Scikit-Learn"
   ]
  },
  {
   "cell_type": "markdown",
   "metadata": {},
   "source": [
    "### Development Environments for Data Science\n",
    "|Data Science Tools|\n",
    "|------------------|\n",
    "| Visual Studio Code|\n",
    "|Google Colab|\n",
    "|RStudio|"
   ]
  },
  {
   "cell_type": "markdown",
   "metadata": {},
   "source": [
    "### Below are a few examples of evaluating arithmetic expressions in Python.\n",
    "* **Addition (+):** `a + b`\n",
    "* **Subtraction (-):** `a - b`\n",
    "* **Multiplication (*):** `a * b`\n",
    "* **Division (/):** `a / b` (floating-point result)\n",
    "* **Modulus (%):** `a % b` (remainder)\n",
    "* **Floor Division (//):** `a // b` (integer result, discards remainder)\n",
    "* **Exponentiation (**):** `a ** b`"
   ]
  },
  {
   "cell_type": "code",
   "execution_count": 2,
   "metadata": {},
   "outputs": [
    {
     "name": "stdout",
     "output_type": "stream",
     "text": [
      "Your calculation result = 17\n"
     ]
    }
   ],
   "source": [
    "# This is a simple arithmetic expression to multiple then add integers\n",
    "num1=3 \n",
    "num2=4\n",
    "num3=5\n",
    "result= (num1*num2)+num3\n",
    "print(f\"Your calculation result = {result}\") "
   ]
  },
  {
   "cell_type": "code",
   "execution_count": 5,
   "metadata": {},
   "outputs": [
    {
     "name": "stdout",
     "output_type": "stream",
     "text": [
      "200 minutes converted to hours is 3.33 hours\n"
     ]
    }
   ],
   "source": [
    "# This will convert 200 minutes to hours by dividing by 60\n",
    "minutes = 200\n",
    "hrconversion= minutes/60\n",
    "print(f\"{minutes} minutes converted to hours is {hrconversion:.2f} hours\")"
   ]
  }
 ],
 "metadata": {
  "kernelspec": {
   "display_name": "Python 3",
   "language": "python",
   "name": "python3"
  },
  "language_info": {
   "codemirror_mode": {
    "name": "ipython",
    "version": 3
   },
   "file_extension": ".py",
   "mimetype": "text/x-python",
   "name": "python",
   "nbconvert_exporter": "python",
   "pygments_lexer": "ipython3",
   "version": "3.12.0"
  }
 },
 "nbformat": 4,
 "nbformat_minor": 2
}
