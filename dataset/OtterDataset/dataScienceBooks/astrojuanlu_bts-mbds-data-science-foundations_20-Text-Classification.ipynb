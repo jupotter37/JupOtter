{
 "cells": [
  {
   "cell_type": "markdown",
   "metadata": {},
   "source": [
    "## ![BTS](img/Logo-BTS.jpg)\n",
    "\n",
    "# Session 20: Text Classification\n",
    "\n",
    "### Juan Luis Cano Rodríguez <juan.cano@bts.tech> - Data Science Foundations (2018-12-11)\n",
    "\n",
    "Open this notebook in Google Colaboratory: [![Open in Colab](https://colab.research.google.com/assets/colab-badge.svg)](https://colab.research.google.com/github/Juanlu001/bts-mbds-data-science-foundations/blob/master/sessions/20-Text-Classification.ipynb)"
   ]
  },
  {
   "cell_type": "markdown",
   "metadata": {},
   "source": [
    "## Exercise 1: Simple feature selection with names\n",
    "\n",
    "1. Load the list of male and females names from `data/names` in a single list of `(name, gender)` pairs and shuffle it.\n",
    "2. Create a function that returns a tuple `({\"last_letter\": last_letter}, gender)` for each entry in our dataset\n",
    "3. Use the `DictVectorizer` from `sklearn.feature_extraction` to turn this dictionary into a rectangular, **non sparse** array. How does it work?\n",
    "4. Split the data into train and test, using 70 % and 20 % respectively.\n",
    "5. Fit a Naïve Bayes classifier from `sklearn.naive_bayes` with the default hyperparameters to the train data.\n",
    "6. Use `accuracy_score` from `sklearn.metrics` to evaluate our model. How good it is?\n",
    "7. Display the `confusion_matrix` (from `sklearn.metrics`) of this model (hint: use `seaborn.heatmap`). What does it mean?\n",
    "8. Create new features, such as the first letter, whether it has a certain letter or not... And evaluate the model again"
   ]
  },
  {
   "cell_type": "code",
   "execution_count": null,
   "metadata": {},
   "outputs": [],
   "source": []
  },
  {
   "cell_type": "markdown",
   "metadata": {},
   "source": [
    "## Exercise 2: 20 newsgroups dataset\n",
    "\n",
    "1. Read the `train` and `test` subsets of the 20 newsgroups dataset in two variables, `newsgroups_train` and `newsgroups_test`, using the function `fetch_20newsgroups` from `sklearn.datasets`.\n",
    "2. [TBD]"
   ]
  },
  {
   "cell_type": "code",
   "execution_count": null,
   "metadata": {},
   "outputs": [],
   "source": []
  }
 ],
 "metadata": {
  "kernelspec": {
   "display_name": "Python 3",
   "language": "python",
   "name": "python3"
  },
  "language_info": {
   "codemirror_mode": {
    "name": "ipython",
    "version": 3
   },
   "file_extension": ".py",
   "mimetype": "text/x-python",
   "name": "python",
   "nbconvert_exporter": "python",
   "pygments_lexer": "ipython3",
   "version": "3.6.6"
  }
 },
 "nbformat": 4,
 "nbformat_minor": 2
}
