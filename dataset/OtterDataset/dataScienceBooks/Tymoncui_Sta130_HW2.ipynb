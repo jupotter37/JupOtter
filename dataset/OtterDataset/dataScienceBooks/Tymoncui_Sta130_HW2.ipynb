{
 "cells": [
  {
   "cell_type": "markdown",
   "id": "14a5d20b",
   "metadata": {},
   "source": [
    "1. Begin (or restart) part \"3(a)\" of the TUT Demo and interact with a ChatBot to make sure you understand how each part the Monte Hall problem code above works"
   ]
  },
  {
   "cell_type": "markdown",
   "id": "3ee2e596",
   "metadata": {},
   "source": [
    "\n",
    "Variable breakdown:\n",
    "\n",
    "all_door_options: Represents the three doors (1, 2, 3).\n",
    "my_door_choice: Initially, you always pick door 1 (it doesn't matter which door you pick in terms of the result).\n",
    "i_won: Counter to keep track of the number of times you win (i.e., your final choice is the winning door).\n",
    "reps: The number of simulations (100,000 repetitions).\n",
    "\n",
    "Method:\n",
    "secret_winning_door: Randomly picks one of the doors to be the winning door (the one with the car).\n",
    "all_door_options_list: Creates a list of doors and then removes the winning door (since Monty can't reveal the car).\n",
    "goat_door_reveal: This simulates Monty revealing a goat. One door from the remaining doors (not the winner and not your \n",
    "chosen door) is randomly picked and removed.\n",
    "\n",
    "By the end of the simulation, the win rate should be approximately 2/3 (around 0.666), which shows that switching doors \n",
    "increases your chances of winning from 1/3 to 2/3.\n"
   ]
  },
  {
   "cell_type": "code",
   "execution_count": 4,
   "id": "166d7ed9",
   "metadata": {},
   "outputs": [],
   "source": [
    "for _ in range(reps):\n",
    "    winning_door = np.random.choice(all_doors)  # Randomly assign the winning door\n",
    "    remaining_doors = [door for door in all_doors if door != initial_choice]  # Doors Monty can reveal\n",
    "\n",
    "    # Monty reveals a door with a goat (not the winning door, if available)\n",
    "    monty_reveals = np.random.choice([door for door in remaining_doors if door != winning_door])\n",
    "\n",
    "    # The remaining door after Monty reveals (the door to switch to)\n",
    "    switch_choice = [door for door in all_doors if door != initial_choice and door != monty_reveals][0]\n",
    "\n",
    "    # If you switched, check if you win\n",
    "    if switch_choice == winning_door:\n",
    "        wins += 1"
   ]
  },
  {
   "cell_type": "markdown",
   "id": "afbcbc11",
   "metadata": {},
   "source": [
    "'''\n",
    "The streamlined version reads more naturally. It uses list comprehensions to simplifies what the code is doing, \n",
    "making it easier for a reader to understand the intention of each line. The streamlined version avoids modifying lists inside the loop and uses list comprehensions for filtering. This is more \n",
    "efficient and reduces the number of operations performed during each iteration. List comprehensions are typically faster \n",
    "and more Pythonic than modifying lists with remove() and append()\n",
    "'''"
   ]
  },
  {
   "cell_type": "markdown",
   "id": "fda276e8",
   "metadata": {},
   "source": [
    "3. Submit your preferred version of the Monty Hall problem that is verified to be running and working with a final printed output of the code; then, add code comments explaining the purpose of each line of the code"
   ]
  },
  {
   "cell_type": "code",
   "execution_count": 3,
   "id": "be059046",
   "metadata": {},
   "outputs": [
    {
     "data": {
      "text/plain": [
       "0.66908"
      ]
     },
     "execution_count": 3,
     "metadata": {},
     "output_type": "execute_result"
    }
   ],
   "source": [
    "import numpy as np\n",
    "\n",
    "all_doors = [1, 2, 3]  # Doors: 1, 2, and 3\n",
    "initial_choice = 1  # Always choose door 1 initially\n",
    "wins = 0\n",
    "reps = 100000  # Number of repetitions\n",
    "'''\n",
    "all_doors = [1, 2, 3]: List representing the three doors.\n",
    "initial_choice = 1: Always pick door 1 (it doesn't matter which door you start with since it's a simulation).\n",
    "wins = 0: Counter to keep track of the number of times you win.\n",
    "reps = 100000: Number of simulation repetitions (same as before). \n",
    "'''\n",
    "for _ in range(reps):\n",
    "    winning_door = np.random.choice(all_doors) # Randomly choose a winning door for each iteration.\n",
    "    remaining_doors = [door for door in all_doors if door != initial_choice]  # Doors Monty can reveal\n",
    "\n",
    "    # Monty reveals a door with a goat (not the winning door, if available)\n",
    "    monty_reveals = np.random.choice([door for door in remaining_doors if door != winning_door])\n",
    "\n",
    "    # The remaining door after Monty reveals (the door to switch to)\n",
    "    switch_choice = [door for door in all_doors if door != initial_choice and door != monty_reveals][0]\n",
    "\n",
    "    # If you switched, check if you win\n",
    "    if switch_choice == winning_door:\n",
    "        wins += 1\n",
    "        \n",
    "\n",
    "win_rate = wins / reps\n",
    "win_rate"
   ]
  },
  {
   "cell_type": "markdown",
   "id": "7927a88b",
   "metadata": {},
   "source": [
    "Summary: https://chatgpt.com/share/66e9ec9e-9c38-8007-a781-5df859ecd973\n",
    "Monty Hall Simulation Code:\n",
    "You provided a Monty Hall simulation code. We discussed the logic of the code, which simulates the game where a player \n",
    "always switches doors to maximize their chances of winning.\n",
    "\n",
    "Code Explanation:\n",
    "I explained the code step-by-step, highlighting how the random choice of doors, the process of revealing a \"goat\" door, and \n",
    "the switch strategy work to increase the win probability.\n",
    "\n",
    "Improved Code Version:\n",
    "I suggested a more streamlined version of the code to make it easier to understand and more efficient. This version reduced \n",
    "the complexity by using list comprehensions and removed unnecessary list modifications.\n",
    "\n",
    "Comparison of Both Versions:\n",
    "We compared your original version and the streamlined version in terms of clarity, efficiency, maintainability, and \n",
    "correctness. The streamlined version was shown to be more readable, efficient, and maintainable while still producing the \n",
    "same correct results. "
   ]
  },
  {
   "cell_type": "markdown",
   "id": "9535c568",
   "metadata": {},
   "source": [
    "4. Watch the embedded video tutorial on Markov chains in the next Jupyter cell below to understand their application and relevance for ChatBots; then, after watching the video, start a new ChatBot session by prompting that you have code that creates a \"Markovian ChatBot\"; show it the first version of the \"Markovian ChatBot code\" below; and interact with the ChatBot session to make sure you understand how the original first version of the \"Markovian ChatBot code\" works"
   ]
  },
  {
   "cell_type": "markdown",
   "id": "a271ce02",
   "metadata": {},
   "source": [
    "from IPython.display import YouTubeVideo\n",
    "YouTubeVideo('56mGTszb_iM', width = 550)\n",
    "\n",
    "https://chatgpt.com/share/66eb45ad-8660-8007-8009-a3d74be2618c\n",
    "In this conversation, we discussed the Python code that builds two dictionaries: word_used and next_word.\n",
    "\n",
    "word_used tracks how many times each word appears in the words list.\n",
    "next_word keeps a record of which words follow each word and how often they do. It's a nested dictionary where the outer key is a word, and the value is another dictionary that stores the words following it and the count of occurrences.\n",
    "We broke down the logic of how the next_word dictionary is updated as the code loops through the list. Finally, we explored an example with a list of words ([\"a\", \"b\", \"a\", \"c\", \"b\"]) to illustrate how next_word is built.\n"
   ]
  },
  {
   "cell_type": "markdown",
   "id": "cbb0cca8",
   "metadata": {},
   "source": [
    "4. Recreate (or resume) the previous ChatBot session from question \"4\" above, and now prompt the ChatBot session that you have a couple extensions of the code to show it, and then show it each of the extentions of the \"Markovian ChatBot code\" below in turn Without just supplying your ChatBot session with the answers, see if the ChatBot can figure out what the extensions in the code do; namely, making character specific Markov chains, and using bigrams (rather than just the previous word alone) dependency... prompt your ChatBot session with some hints if it's not seeming to \"get it\""
   ]
  },
  {
   "cell_type": "markdown",
   "id": "1303d259",
   "metadata": {},
   "source": [
    "ChatGPT successfully realized that this extension builds a bigram model (rather than a unigram model like the original code).\n",
    "It understands that this extension track pairs of consecutive words (bigrams) and record the word that follows each bigram.\n",
    "Later, with the hint I gave out, chatgpt is able to recogized and explain that the code is character specific.\n",
    "It explained to me that the code were processing characters instead of words, and it would build bigrams (or trigrams) of characters rather than words. In this case, the sequences that the code works with would be individual characters from a string, rather than entire words from a list."
   ]
  },
  {
   "cell_type": "markdown",
   "id": "1164235a",
   "metadata": {},
   "source": [
    "6. 1)Discuss how quickly the ChatBot was able to be helpful for each of the above questions, and if so, how?"
   ]
  },
  {
   "cell_type": "markdown",
   "id": "5c835fc8",
   "metadata": {},
   "source": [
    "For question 1 and 2, ChatGPT successfully realized that this extension builds a bigram model (rather than a unigram model like the original code). It helped me to understand how bigram works.chatGPT was quick to understand character specific markov chains, it provided me a very detailed explaintion of it, but recogized that for extension 1, it is still work specific. \n",
    "It was very helpful in breaking down the the code and explaining in a few iterations. "
   ]
  },
  {
   "cell_type": "markdown",
   "id": "285ade1a",
   "metadata": {},
   "source": [
    "6. 2)Discuss whether or not interacting with ChatBot to try to figure things out was frustrating or unhelpful, and if so, how?"
   ]
  },
  {
   "cell_type": "markdown",
   "id": "3a8e1057",
   "metadata": {},
   "source": [
    "In very limited cases, chatGPT became unhelpful, because it is easy to influence or bias by our users. It provided me a wrong answer when my question was slightly bias, and it took me a while to realize its mistake, taking more time then I expected. After I questioned it again with a unbias question, it was quick and accurate to bring me a solution that is correct."
   ]
  },
  {
   "cell_type": "markdown",
   "id": "c37899e6",
   "metadata": {},
   "source": [
    "6. 3)Based on your experiences to date (e.g., including using ChatBots to troubleshoot coding errors in the previous homework), provide an overall assessment evaluating the usefulness of ChatBots as tools to help you understand code"
   ]
  },
  {
   "cell_type": "markdown",
   "id": "a8a1f4f2",
   "metadata": {},
   "source": [
    "Overall, chatGPT was extremely helpful in homework helps, random questions and other inquiries. When seeking for help, because I an provide more background to my question. It can read my previous work and better understand my need to create a personal solution for me. Unlike in other means, the solution is always generalized. On another hand, it can also provide me in-depth analysis of codes that I don't understand. It fulfilled the role of a tutor where we can ask question at anytime."
   ]
  },
  {
   "cell_type": "markdown",
   "id": "cbbffcfd",
   "metadata": {},
   "source": [
    "7. Reflect on your experience interacting with ChatBot and describe how your perception of AI-driven assistance tools in the context of learning coding, statistics, and data science has been evolving (or not) since joining the course"
   ]
  },
  {
   "cell_type": "markdown",
   "id": "0240a8bd",
   "metadata": {},
   "source": [
    "These tool has been extremely useful for me in many cases. It worked as a personal assistant, instead of spending hours searching for a solution, I can ask directly and get help immediately, aiding my understanding of the course. Overall, AI has been a valuable resource, especially since that it is accessable for all people."
   ]
  },
  {
   "cell_type": "markdown",
   "id": "b76320ac",
   "metadata": {},
   "source": [
    "8.3: https://chatgpt.com/share/66eb501d-aca4-8007-b48f-bca4c39b321e"
   ]
  },
  {
   "cell_type": "markdown",
   "id": "edf39b56",
   "metadata": {},
   "source": [
    "8.4: Most likely not: Coding and data analysis are core to roles in statistics and data science. While some related roles might involve less coding, like data analysts or business analysts, these fields still typically require a solid grasp of data manipulation and statistical methods.\n",
    "Some valuable characteristic are Communication, Problem-Solving, Critical Thinking, Leadership/Teamwork, Technical Aptitude\n"
   ]
  },
  {
   "cell_type": "markdown",
   "id": "745355c7",
   "metadata": {},
   "source": [
    "8.5:\n",
    " Helpfulness: It provides a broad view of career paths and skills, helps identify transferable skills and general roles.\n",
    " Limitations: Lacks detailed insights and personalized advice. The data in ChatGPT only count to 2021, which may not reflect the latest industry trends."
   ]
  },
  {
   "cell_type": "markdown",
   "id": "66cba3b7",
   "metadata": {},
   "source": [
    "9. Yes"
   ]
  }
 ],
 "metadata": {
  "kernelspec": {
   "display_name": "Python 3 (ipykernel)",
   "language": "python",
   "name": "python3"
  },
  "language_info": {
   "codemirror_mode": {
    "name": "ipython",
    "version": 3
   },
   "file_extension": ".py",
   "mimetype": "text/x-python",
   "name": "python",
   "nbconvert_exporter": "python",
   "pygments_lexer": "ipython3",
   "version": "3.11.6"
  }
 },
 "nbformat": 4,
 "nbformat_minor": 5
}
