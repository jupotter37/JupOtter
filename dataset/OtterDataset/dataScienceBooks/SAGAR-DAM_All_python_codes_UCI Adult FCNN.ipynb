{
 "cells": [
  {
   "cell_type": "markdown",
   "metadata": {},
   "source": [
    "<h1 style=\"color:green; font-family:Georgia\">\n",
    "Machine Learning for Categorical dataset...<br>\n",
    "Adult dataset from UCI Machine learning database\n",
    "<hr>\n",
    "</h1>"
   ]
  },
  {
   "cell_type": "markdown",
   "metadata": {},
   "source": [
    "<span style = \"font-family:Geogia; color:orange;  font-style:italic; font-size:18px\"> \n",
    "<h4 style=\"color:red; font-family:Georgia; text-decoration: underline\">Data Information</h4>\n",
    "Predict whether income exceeds $50K/yr based on census data. Also known as \"Census Income\" dataset.<br>\n",
    "    \n",
    "Dataset Characteristics: Multivariate <br>\n",
    "Subject Area: Social Science <br>\n",
    "Associated Tasks: Classification <br>\n",
    "Feature Type: Categorical, Integer <br>\n",
    "Instances: 48842 <br>\n",
    "Features: 14 <br>\n",
    "\n",
    "<h4 style=\"color:red; font-family:Georgia; text-decoration: underline\">Additional Information</h4>\n",
    "Extraction was done by Barry Becker from the 1994 Census database.  A set of reasonably clean records was extracted using the following conditions: ((AAGE>16) && (AGI>100) && (AFNLWGT>1)&& (HRSWK>0))<br>\n",
    "Prediction task is to determine whether a person makes over 50K a year.<br>\n",
    "\n",
    "Has Missing Values? Yes\n",
    "\n",
    "<h4 style=\"color:red; font-family:Georgia; text-decoration: underline\"> Table for the variables: </h4>\n",
    "<table border=\"1\" cellpadding=\"5\" cellspacing=\"0\">\n",
    "  <thead>\n",
    "    <tr>\n",
    "      <th>Variable Name</th>\n",
    "      <th>Role</th>\n",
    "      <th>Type</th>\n",
    "      <th>Demographic</th>\n",
    "      <th>Description</th>\n",
    "      <th>Units</th>\n",
    "      <th>Missing Values</th>\n",
    "    </tr>\n",
    "  </thead>\n",
    "  <tbody>\n",
    "    <tr>\n",
    "      <td>age</td>\n",
    "      <td>Feature</td>\n",
    "      <td>Integer</td>\n",
    "      <td>Age</td>\n",
    "      <td>N/A</td>\n",
    "      <td></td>\n",
    "      <td>No</td>\n",
    "    </tr>\n",
    "    <tr>\n",
    "      <td>workclass</td>\n",
    "      <td>Feature</td>\n",
    "      <td>Categorical</td>\n",
    "      <td>Income</td>\n",
    "      <td>Private, Self-emp-not-inc, Self-emp-inc, Federal-gov, Local-gov, State-gov, Without-pay, Never-worked.</td>\n",
    "      <td></td>\n",
    "      <td>Yes</td>\n",
    "    </tr>\n",
    "    <tr>\n",
    "      <td>fnlwgt</td>\n",
    "      <td>Feature</td>\n",
    "      <td>Integer</td>\n",
    "      <td></td>\n",
    "      <td></td>\n",
    "      <td></td>\n",
    "      <td>No</td>\n",
    "    </tr>\n",
    "    <tr>\n",
    "      <td>education</td>\n",
    "      <td>Feature</td>\n",
    "      <td>Categorical</td>\n",
    "      <td>Education Level</td>\n",
    "      <td>Bachelors, Some-college, 11th, HS-grad, Prof-school, Assoc-acdm, Assoc-voc, 9th, 7th-8th, 12th, Masters, 1st-4th, 10th, Doctorate, 5th-6th, Preschool.</td>\n",
    "      <td></td>\n",
    "      <td>No</td>\n",
    "    </tr>\n",
    "    <tr>\n",
    "      <td>education-num</td>\n",
    "      <td>Feature</td>\n",
    "      <td>Integer</td>\n",
    "      <td>Education Level</td>\n",
    "      <td></td>\n",
    "      <td></td>\n",
    "      <td>No</td>\n",
    "    </tr>\n",
    "    <tr>\n",
    "      <td>marital-status</td>\n",
    "      <td>Feature</td>\n",
    "      <td>Categorical</td>\n",
    "      <td>Other</td>\n",
    "      <td>Married-civ-spouse, Divorced, Never-married, Separated, Widowed, Married-spouse-absent, Married-AF-spouse.</td>\n",
    "      <td></td>\n",
    "      <td>No</td>\n",
    "    </tr>\n",
    "    <tr>\n",
    "      <td>occupation</td>\n",
    "      <td>Feature</td>\n",
    "      <td>Categorical</td>\n",
    "      <td>Other</td>\n",
    "      <td>Tech-support, Craft-repair, Other-service, Sales, Exec-managerial, Prof-specialty, Handlers-cleaners, Machine-op-inspct, Adm-clerical, Farming-fishing, Transport-moving, Priv-house-serv, Protective-serv, Armed-Forces.</td>\n",
    "      <td></td>\n",
    "      <td>Yes</td>\n",
    "    </tr>\n",
    "    <tr>\n",
    "      <td>relationship</td>\n",
    "      <td>Feature</td>\n",
    "      <td>Categorical</td>\n",
    "      <td>Other</td>\n",
    "      <td>Wife, Own-child, Husband, Not-in-family, Other-relative, Unmarried.</td>\n",
    "      <td></td>\n",
    "      <td>No</td>\n",
    "    </tr>\n",
    "    <tr>\n",
    "      <td>race</td>\n",
    "      <td>Feature</td>\n",
    "      <td>Categorical</td>\n",
    "      <td>Race</td>\n",
    "      <td>White, Asian-Pac-Islander, Amer-Indian-Eskimo, Other, Black.</td>\n",
    "      <td></td>\n",
    "      <td>No</td>\n",
    "    </tr>\n",
    "    <tr>\n",
    "      <td>sex</td>\n",
    "      <td>Feature</td>\n",
    "      <td>Binary</td>\n",
    "      <td>Sex</td>\n",
    "      <td>Female, Male.</td>\n",
    "      <td></td>\n",
    "      <td>No</td>\n",
    "    </tr>\n",
    "    <tr>\n",
    "      <td>capital-gain</td>\n",
    "      <td>Feature</td>\n",
    "      <td>Integer</td>\n",
    "      <td></td>\n",
    "      <td></td>\n",
    "      <td></td>\n",
    "      <td>No</td>\n",
    "    </tr>\n",
    "    <tr>\n",
    "      <td>capital-loss</td>\n",
    "      <td>Feature</td>\n",
    "      <td>Integer</td>\n",
    "      <td></td>\n",
    "      <td></td>\n",
    "      <td></td>\n",
    "      <td>No</td>\n",
    "    </tr>\n",
    "    <tr>\n",
    "      <td>hours-per-week</td>\n",
    "      <td>Feature</td>\n",
    "      <td>Integer</td>\n",
    "      <td></td>\n",
    "      <td></td>\n",
    "      <td></td>\n",
    "      <td>No</td>\n",
    "    </tr>\n",
    "    <tr>\n",
    "      <td>native-country</td>\n",
    "      <td>Feature</td>\n",
    "      <td>Categorical</td>\n",
    "      <td>Other</td>\n",
    "      <td>United-States, Cambodia, England, Puerto-Rico, Canada, Germany, Outlying-US(Guam-USVI-etc), India, Japan, Greece, South, China, Cuba, Iran, Honduras, Philippines, Italy, Poland, Jamaica, Vietnam, Mexico, Portugal, Ireland, France, Dominican-Republic, Laos, Ecuador, Taiwan, Haiti, Columbia, Hungary, Guatemala, Nicaragua, Scotland, Thailand, Yugoslavia, El-Salvador, Trinadad&Tobago, Peru, Hong, Holand-Netherlands.</td>\n",
    "      <td></td>\n",
    "      <td>Yes</td>\n",
    "    </tr>\n",
    "    <tr>\n",
    "      <td>income</td>\n",
    "      <td>Target</td>\n",
    "      <td>Binary</td>\n",
    "      <td>Income</td>\n",
    "      <td>>50K, <=50K.</td>\n",
    "      <td></td>\n",
    "      <td>No</td>\n",
    "    </tr>\n",
    "  </tbody>\n",
    "</table>\n"
   ]
  },
  {
   "cell_type": "markdown",
   "metadata": {},
   "source": [
    "<h4 style=\"color:orange; font-family:Georgia; text-decoration: underline\">\n",
    "Importing importent modules :\n",
    "</h4>"
   ]
  },
  {
   "cell_type": "code",
   "execution_count": 1,
   "metadata": {},
   "outputs": [],
   "source": [
    "import numpy as np\n",
    "import matplotlib.pyplot as plt\n",
    "from ucimlrepo import fetch_ucirepo \n",
    "import pandas as pd\n",
    "import glob\n",
    "from Curve_fitting_with_scipy import Gaussianfitting as Gf\n",
    "from Curve_fitting_with_scipy import Linefitting as Lf\n",
    "from scipy.signal import fftconvolve\n",
    "from collections import defaultdict\n",
    "import PIL\n",
    "import joblib\n",
    "from tqdm import tqdm\n",
    "\n",
    "\n",
    "\n",
    "from sklearn.datasets import fetch_openml\n",
    "from sklearn.impute import SimpleImputer\n",
    "from sklearn.compose import ColumnTransformer\n",
    "from sklearn.pipeline import Pipeline\n",
    "from sklearn.preprocessing import OneHotEncoder, StandardScaler, OrdinalEncoder, LabelEncoder, MinMaxScaler\n",
    "from sklearn.base import BaseEstimator, TransformerMixin\n",
    "from sklearn.model_selection import train_test_split, cross_val_score\n",
    "from sklearn.tree import DecisionTreeClassifier\n",
    "from sklearn.ensemble import RandomForestClassifier, ExtraTreesClassifier, ExtraTreesRegressor\n",
    "from sklearn.feature_selection import f_classif\n",
    "from sklearn.neighbors import KNeighborsClassifier\n",
    "from sklearn.metrics import root_mean_squared_error, accuracy_score\n",
    "from sklearn.linear_model import LinearRegression, LogisticRegression\n",
    "\n",
    "\n",
    "\n",
    "from xgboost import XGBRegressor, XGBClassifier, XGBRFClassifier, XGBRFRegressor\n",
    "from catboost import CatBoostClassifier, CatBoostRegressor\n",
    "from lightgbm import LGBMClassifier, LGBMRegressor\n",
    "\n",
    "\n",
    "\n",
    "import torch\n",
    "import torch.nn as nn\n",
    "import torch.nn.functional as F\n",
    "import torch.optim as optim\n",
    "from torch.utils.data import DataLoader\n",
    "import torchvision.datasets as datasets\n",
    "import torchvision.transforms as transformers\n",
    "from torch.utils.data import Dataset\n",
    "\n",
    "device = torch.device('cuda' if torch.cuda.is_available() else 'cpu')\n",
    "\n",
    "from Torch_modules.classes import FullyConnectedNeuralNetwork, TorchPipeline, get_numerical_categorical_boolean_columns\n",
    "from Torch_modules.classes import TotalImputer, CategoricalToNumerical, NumericalNormalizedScaler, NumericalStandardScaler\n",
    "\n",
    "\n",
    "\n",
    "import matplotlib as mpl\n",
    "mpl.rcParams['font.family'] = 'serif'\n",
    "mpl.rcParams['font.serif'] = 'Times New Roman'\n",
    "mpl.rcParams['font.size'] = 12\n",
    "mpl.rcParams['font.weight'] = 'bold'\n",
    "#mpl.rcParams['font.style'] = 'italic'  # Set this to 'italic'\n",
    "mpl.rcParams['figure.dpi'] = 120  # highres display"
   ]
  },
  {
   "cell_type": "markdown",
   "metadata": {},
   "source": [
    "<h4 style=\"color:orange; font-family:Georgia;text-decoration: underline\">\n",
    "Getting the data :\n",
    "</h4>"
   ]
  },
  {
   "cell_type": "code",
   "execution_count": 2,
   "metadata": {},
   "outputs": [
    {
     "name": "stdout",
     "output_type": "stream",
     "text": [
      "<class 'pandas.core.frame.DataFrame'>\n",
      "RangeIndex: 48842 entries, 0 to 48841\n",
      "Data columns (total 15 columns):\n",
      " #   Column          Non-Null Count  Dtype \n",
      "---  ------          --------------  ----- \n",
      " 0   age             48842 non-null  int64 \n",
      " 1   workclass       47879 non-null  object\n",
      " 2   fnlwgt          48842 non-null  int64 \n",
      " 3   education       48842 non-null  object\n",
      " 4   education-num   48842 non-null  int64 \n",
      " 5   marital-status  48842 non-null  object\n",
      " 6   occupation      47876 non-null  object\n",
      " 7   relationship    48842 non-null  object\n",
      " 8   race            48842 non-null  object\n",
      " 9   sex             48842 non-null  object\n",
      " 10  capital-gain    48842 non-null  int64 \n",
      " 11  capital-loss    48842 non-null  int64 \n",
      " 12  hours-per-week  48842 non-null  int64 \n",
      " 13  native-country  48568 non-null  object\n",
      " 14  income          48842 non-null  object\n",
      "dtypes: int64(6), object(9)\n",
      "memory usage: 5.6+ MB\n"
     ]
    }
   ],
   "source": [
    "# fetch dataset \n",
    "adult = fetch_ucirepo(id=2) \n",
    "  \n",
    "# data (as pandas dataframes) \n",
    "data = adult.frame\n",
    "x = adult.data.features \n",
    "y = adult.data.targets \n",
    "data = pd.concat([x,y],axis=1)\n",
    "del x,y\n",
    "data.info()"
   ]
  },
  {
   "cell_type": "markdown",
   "metadata": {},
   "source": [
    "<h4 style=\"color:red;font-family:Georgia\">\n",
    "Replacing the rerpeated data <br>\n",
    "set(data[\"column name\"]) shows the unique values of the column. Among them in income >50K. & >50K and <=50K. & <=50k are same.<br>\n",
    "We need to make this two data similar to reduce confusion.\n",
    "</h4>"
   ]
  },
  {
   "cell_type": "code",
   "execution_count": 3,
   "metadata": {},
   "outputs": [
    {
     "name": "stdout",
     "output_type": "stream",
     "text": [
      "{'>50K.', '>50K', '<=50K', '<=50K.'}\n",
      "{'>50K', '<=50K'}\n"
     ]
    }
   ],
   "source": [
    "print(set(data[\"income\"]))\n",
    "# Dictionary to map equivalent gender values\n",
    "mapping = {\n",
    "    '<=50K.': '<=50K',\n",
    "    '<=50K': '<=50K',\n",
    "    '>50K.': '>50K',\n",
    "    '>50K.': '>50K'\n",
    "}\n",
    "\n",
    "# Replace the values in the 'gender' column\n",
    "data['income'] = data['income'].replace(mapping)\n",
    "print(set(data[\"income\"]))"
   ]
  },
  {
   "cell_type": "markdown",
   "metadata": {},
   "source": [
    "<h4 style=\"color:red;font-family:Georgia\">\n",
    "Separating the numerical, categorical and boolean data\n",
    "</h4>"
   ]
  },
  {
   "cell_type": "code",
   "execution_count": 4,
   "metadata": {},
   "outputs": [
    {
     "name": "stdout",
     "output_type": "stream",
     "text": [
      "categorical_columns: ['workclass', 'education', 'marital-status', 'occupation', 'relationship', 'race', 'sex', 'native-country', 'income']\n",
      "numerical_columns: ['age', 'fnlwgt', 'education-num', 'capital-gain', 'capital-loss', 'hours-per-week']\n",
      "boolean_columns: []\n"
     ]
    }
   ],
   "source": [
    "numerical_columns,categorical_columns,boolean_columns=get_numerical_categorical_boolean_columns(data)\n",
    "\n",
    "print(f\"categorical_columns: {categorical_columns}\")\n",
    "print(f\"numerical_columns: {numerical_columns}\")\n",
    "print(f\"boolean_columns: {boolean_columns}\")"
   ]
  },
  {
   "cell_type": "markdown",
   "metadata": {},
   "source": [
    "<h4 style=\"color:red;font-family:Georgia\">\n",
    "Preprocessing the data\n",
    "</h4>"
   ]
  },
  {
   "cell_type": "code",
   "execution_count": 5,
   "metadata": {},
   "outputs": [],
   "source": [
    "shuffled_index = np.random.permutation(data.shape[0])\n",
    "data = data.iloc[shuffled_index]"
   ]
  },
  {
   "cell_type": "code",
   "execution_count": 6,
   "metadata": {},
   "outputs": [
    {
     "name": "stdout",
     "output_type": "stream",
     "text": [
      "Label mapping for 'workclass': \n",
      "{'?': 0, 'Federal-gov': 1, 'Local-gov': 2, 'Never-worked': 3, 'Private': 4, 'Self-emp-inc': 5, 'Self-emp-not-inc': 6, 'State-gov': 7, 'Without-pay': 8}\n",
      "\n",
      "#######################################################\n",
      "\n",
      "Label mapping for 'education': \n",
      "{'10th': 0, '11th': 1, '12th': 2, '1st-4th': 3, '5th-6th': 4, '7th-8th': 5, '9th': 6, 'Assoc-acdm': 7, 'Assoc-voc': 8, 'Bachelors': 9, 'Doctorate': 10, 'HS-grad': 11, 'Masters': 12, 'Preschool': 13, 'Prof-school': 14, 'Some-college': 15}\n",
      "\n",
      "#######################################################\n",
      "\n",
      "Label mapping for 'marital-status': \n",
      "{'Divorced': 0, 'Married-AF-spouse': 1, 'Married-civ-spouse': 2, 'Married-spouse-absent': 3, 'Never-married': 4, 'Separated': 5, 'Widowed': 6}\n",
      "\n",
      "#######################################################\n",
      "\n",
      "Label mapping for 'occupation': \n",
      "{'?': 0, 'Adm-clerical': 1, 'Armed-Forces': 2, 'Craft-repair': 3, 'Exec-managerial': 4, 'Farming-fishing': 5, 'Handlers-cleaners': 6, 'Machine-op-inspct': 7, 'Other-service': 8, 'Priv-house-serv': 9, 'Prof-specialty': 10, 'Protective-serv': 11, 'Sales': 12, 'Tech-support': 13, 'Transport-moving': 14}\n",
      "\n",
      "#######################################################\n",
      "\n",
      "Label mapping for 'relationship': \n",
      "{'Husband': 0, 'Not-in-family': 1, 'Other-relative': 2, 'Own-child': 3, 'Unmarried': 4, 'Wife': 5}\n",
      "\n",
      "#######################################################\n",
      "\n",
      "Label mapping for 'race': \n",
      "{'Amer-Indian-Eskimo': 0, 'Asian-Pac-Islander': 1, 'Black': 2, 'Other': 3, 'White': 4}\n",
      "\n",
      "#######################################################\n",
      "\n",
      "Label mapping for 'sex': \n",
      "{'Female': 0, 'Male': 1}\n",
      "\n",
      "#######################################################\n",
      "\n",
      "Label mapping for 'native-country': \n",
      "{'?': 0, 'Cambodia': 1, 'Canada': 2, 'China': 3, 'Columbia': 4, 'Cuba': 5, 'Dominican-Republic': 6, 'Ecuador': 7, 'El-Salvador': 8, 'England': 9, 'France': 10, 'Germany': 11, 'Greece': 12, 'Guatemala': 13, 'Haiti': 14, 'Holand-Netherlands': 15, 'Honduras': 16, 'Hong': 17, 'Hungary': 18, 'India': 19, 'Iran': 20, 'Ireland': 21, 'Italy': 22, 'Jamaica': 23, 'Japan': 24, 'Laos': 25, 'Mexico': 26, 'Nicaragua': 27, 'Outlying-US(Guam-USVI-etc)': 28, 'Peru': 29, 'Philippines': 30, 'Poland': 31, 'Portugal': 32, 'Puerto-Rico': 33, 'Scotland': 34, 'South': 35, 'Taiwan': 36, 'Thailand': 37, 'Trinadad&Tobago': 38, 'United-States': 39, 'Vietnam': 40, 'Yugoslavia': 41}\n",
      "\n",
      "#######################################################\n",
      "\n",
      "Label mapping for 'income': \n",
      "{'<=50K': 0, '>50K': 1}\n",
      "\n",
      "#######################################################\n",
      "\n"
     ]
    },
    {
     "data": {
      "text/plain": [
       "(48842, 15)"
      ]
     },
     "execution_count": 6,
     "metadata": {},
     "output_type": "execute_result"
    }
   ],
   "source": [
    "# Create the pipeline\n",
    "pipeline = Pipeline([\n",
    "    ('imputer', TotalImputer(numerical_columns=numerical_columns,\n",
    "                             categorical_columns=categorical_columns,\n",
    "                             boolean_columns=boolean_columns)),\n",
    "    ('categorical_to_numerical', CategoricalToNumerical(categorical_columns=categorical_columns)),\n",
    "    ('scaler', NumericalStandardScaler(numerical_columns=numerical_columns))  # Optionally scale numerical features if necessary\n",
    "])\n",
    "\n",
    "data = pipeline.fit_transform(data)\n",
    "data.shape"
   ]
  },
  {
   "cell_type": "markdown",
   "metadata": {},
   "source": [
    "<h4 style=\"color:red;font-family:Georgia\">\n",
    "Splitting the Train and test data\n",
    "</h4>"
   ]
  },
  {
   "cell_type": "code",
   "execution_count": 7,
   "metadata": {},
   "outputs": [],
   "source": [
    "train_ratio = int(data.shape[0]*0.8)\n",
    "data_train = data[:train_ratio]\n",
    "data_test = data[train_ratio:]\n",
    "\n",
    "x_train = torch.tensor(np.array(data_train.drop(\"income\", axis=1)))\n",
    "y_train = torch.tensor(np.array(data_train[\"income\"]))\n",
    "\n",
    "x_test = torch.tensor(np.array(data_test.drop(\"income\", axis=1)))\n",
    "y_test = torch.tensor(np.array(data_test[\"income\"]))\n",
    "\n",
    "# Ensure that y_train is a LongTensor otherwise it will throw error while calculating accuracy\n",
    "y_train = y_train.long()\n",
    "# If you're using x_test and y_test in a similar manner, ensure you convert them too:\n",
    "y_test = y_test.long()"
   ]
  },
  {
   "cell_type": "markdown",
   "metadata": {},
   "source": [
    "<h4 style=\"color:orange; font-family:Georgia; text-decoration: underline\">\n",
    "Creating the model and hyperparameters\n",
    "</h4>"
   ]
  },
  {
   "cell_type": "code",
   "execution_count": 8,
   "metadata": {},
   "outputs": [],
   "source": [
    "input_dimension = x_train[0].shape[0]\n",
    "output_dimension = len(set(np.array(y_train)))\n",
    "\n",
    "# Initialize the model, loss function, optimizer, and pipeline\n",
    "layer_dimensions = [64,32,32,32,16,8]  # Define your intermediate layer dimensions here\n",
    "model = FullyConnectedNeuralNetwork(layer_dims=layer_dimensions, input_dimension=input_dimension, output_dimension=output_dimension)\n",
    "criterion = nn.CrossEntropyLoss()\n",
    "learning_rate = 0.001\n",
    "batch_size = 300\n",
    "epochs = 20\n",
    "optimizer = optim.Adam(model.parameters(), lr=learning_rate)"
   ]
  },
  {
   "cell_type": "code",
   "execution_count": 9,
   "metadata": {},
   "outputs": [],
   "source": [
    "# Create the pipeline object\n",
    "torchpipeline = TorchPipeline(model=model, \n",
    "                         criterion=criterion, \n",
    "                         optimizer=optimizer, \n",
    "                         batch_size=batch_size, \n",
    "                         epochs=epochs)"
   ]
  },
  {
   "cell_type": "markdown",
   "metadata": {},
   "source": [
    "<h4 style=\"color:orange; font-family:Georgia; text-decoration: underline\">\n",
    "Fitting the data\n",
    "</h4>"
   ]
  },
  {
   "cell_type": "code",
   "execution_count": 10,
   "metadata": {},
   "outputs": [
    {
     "name": "stderr",
     "output_type": "stream",
     "text": [
      "Epoch 1/20: 100%|\u001b[92m█████████████████████████████████████████████████\u001b[0m|39073/39073 [\u001b[91m100%\u001b[0m], Loss=0.432280\u001b[0m\n"
     ]
    },
    {
     "name": "stdout",
     "output_type": "stream",
     "text": [
      "==============================================================================\n",
      "\n"
     ]
    },
    {
     "name": "stderr",
     "output_type": "stream",
     "text": [
      "Epoch 2/20: 100%|\u001b[92m█████████████████████████████████████████████████\u001b[0m|39073/39073 [\u001b[91m100%\u001b[0m], Loss=0.410462\u001b[0m\n"
     ]
    },
    {
     "name": "stdout",
     "output_type": "stream",
     "text": [
      "==============================================================================\n",
      "\n"
     ]
    },
    {
     "name": "stderr",
     "output_type": "stream",
     "text": [
      "Epoch 3/20: 100%|\u001b[92m█████████████████████████████████████████████████\u001b[0m|39073/39073 [\u001b[91m100%\u001b[0m], Loss=0.412592\u001b[0m\n"
     ]
    },
    {
     "name": "stdout",
     "output_type": "stream",
     "text": [
      "==============================================================================\n",
      "\n"
     ]
    },
    {
     "name": "stderr",
     "output_type": "stream",
     "text": [
      "Epoch 4/20: 100%|\u001b[92m█████████████████████████████████████████████████\u001b[0m|39073/39073 [\u001b[91m100%\u001b[0m], Loss=0.379619\u001b[0m\n"
     ]
    },
    {
     "name": "stdout",
     "output_type": "stream",
     "text": [
      "==============================================================================\n",
      "\n"
     ]
    },
    {
     "name": "stderr",
     "output_type": "stream",
     "text": [
      "Epoch 5/20: 100%|\u001b[92m█████████████████████████████████████████████████\u001b[0m|39073/39073 [\u001b[91m100%\u001b[0m], Loss=0.352752\u001b[0m\n"
     ]
    },
    {
     "name": "stdout",
     "output_type": "stream",
     "text": [
      "==============================================================================\n",
      "\n"
     ]
    },
    {
     "name": "stderr",
     "output_type": "stream",
     "text": [
      "Epoch 6/20: 100%|\u001b[92m█████████████████████████████████████████████████\u001b[0m|39073/39073 [\u001b[91m100%\u001b[0m], Loss=0.342486\u001b[0m\n"
     ]
    },
    {
     "name": "stdout",
     "output_type": "stream",
     "text": [
      "==============================================================================\n",
      "\n"
     ]
    },
    {
     "name": "stderr",
     "output_type": "stream",
     "text": [
      "Epoch 7/20: 100%|\u001b[92m█████████████████████████████████████████████████\u001b[0m|39073/39073 [\u001b[91m100%\u001b[0m], Loss=0.340897\u001b[0m\n"
     ]
    },
    {
     "name": "stdout",
     "output_type": "stream",
     "text": [
      "==============================================================================\n",
      "\n"
     ]
    },
    {
     "name": "stderr",
     "output_type": "stream",
     "text": [
      "Epoch 8/20: 100%|\u001b[92m█████████████████████████████████████████████████\u001b[0m|39073/39073 [\u001b[91m100%\u001b[0m], Loss=0.338592\u001b[0m\n"
     ]
    },
    {
     "name": "stdout",
     "output_type": "stream",
     "text": [
      "==============================================================================\n",
      "\n"
     ]
    },
    {
     "name": "stderr",
     "output_type": "stream",
     "text": [
      "Epoch 9/20: 100%|\u001b[92m█████████████████████████████████████████████████\u001b[0m|39073/39073 [\u001b[91m100%\u001b[0m], Loss=0.337853\u001b[0m\n"
     ]
    },
    {
     "name": "stdout",
     "output_type": "stream",
     "text": [
      "==============================================================================\n",
      "\n"
     ]
    },
    {
     "name": "stderr",
     "output_type": "stream",
     "text": [
      "Epoch 10/20: 100%|\u001b[92m████████████████████████████████████████████████\u001b[0m|39073/39073 [\u001b[91m100%\u001b[0m], Loss=0.338904\u001b[0m\n"
     ]
    },
    {
     "name": "stdout",
     "output_type": "stream",
     "text": [
      "==============================================================================\n",
      "\n"
     ]
    },
    {
     "name": "stderr",
     "output_type": "stream",
     "text": [
      "Epoch 11/20: 100%|\u001b[92m████████████████████████████████████████████████\u001b[0m|39073/39073 [\u001b[91m100%\u001b[0m], Loss=0.340733\u001b[0m\n"
     ]
    },
    {
     "name": "stdout",
     "output_type": "stream",
     "text": [
      "==============================================================================\n",
      "\n"
     ]
    },
    {
     "name": "stderr",
     "output_type": "stream",
     "text": [
      "Epoch 12/20: 100%|\u001b[92m████████████████████████████████████████████████\u001b[0m|39073/39073 [\u001b[91m100%\u001b[0m], Loss=0.339147\u001b[0m\n"
     ]
    },
    {
     "name": "stdout",
     "output_type": "stream",
     "text": [
      "==============================================================================\n",
      "\n"
     ]
    },
    {
     "name": "stderr",
     "output_type": "stream",
     "text": [
      "Epoch 13/20: 100%|\u001b[92m████████████████████████████████████████████████\u001b[0m|39073/39073 [\u001b[91m100%\u001b[0m], Loss=0.337879\u001b[0m\n"
     ]
    },
    {
     "name": "stdout",
     "output_type": "stream",
     "text": [
      "==============================================================================\n",
      "\n"
     ]
    },
    {
     "name": "stderr",
     "output_type": "stream",
     "text": [
      "Epoch 14/20: 100%|\u001b[92m████████████████████████████████████████████████\u001b[0m|39073/39073 [\u001b[91m100%\u001b[0m], Loss=0.337178\u001b[0m\n"
     ]
    },
    {
     "name": "stdout",
     "output_type": "stream",
     "text": [
      "==============================================================================\n",
      "\n"
     ]
    },
    {
     "name": "stderr",
     "output_type": "stream",
     "text": [
      "Epoch 15/20: 100%|\u001b[92m████████████████████████████████████████████████\u001b[0m|39073/39073 [\u001b[91m100%\u001b[0m], Loss=0.336960\u001b[0m\n"
     ]
    },
    {
     "name": "stdout",
     "output_type": "stream",
     "text": [
      "==============================================================================\n",
      "\n"
     ]
    },
    {
     "name": "stderr",
     "output_type": "stream",
     "text": [
      "Epoch 16/20: 100%|\u001b[92m████████████████████████████████████████████████\u001b[0m|39073/39073 [\u001b[91m100%\u001b[0m], Loss=0.335992\u001b[0m\n"
     ]
    },
    {
     "name": "stdout",
     "output_type": "stream",
     "text": [
      "==============================================================================\n",
      "\n"
     ]
    },
    {
     "name": "stderr",
     "output_type": "stream",
     "text": [
      "Epoch 17/20: 100%|\u001b[92m████████████████████████████████████████████████\u001b[0m|39073/39073 [\u001b[91m100%\u001b[0m], Loss=0.334211\u001b[0m\n"
     ]
    },
    {
     "name": "stdout",
     "output_type": "stream",
     "text": [
      "==============================================================================\n",
      "\n"
     ]
    },
    {
     "name": "stderr",
     "output_type": "stream",
     "text": [
      "Epoch 18/20: 100%|\u001b[92m████████████████████████████████████████████████\u001b[0m|39073/39073 [\u001b[91m100%\u001b[0m], Loss=0.333482\u001b[0m\n"
     ]
    },
    {
     "name": "stdout",
     "output_type": "stream",
     "text": [
      "==============================================================================\n",
      "\n"
     ]
    },
    {
     "name": "stderr",
     "output_type": "stream",
     "text": [
      "Epoch 19/20: 100%|\u001b[92m████████████████████████████████████████████████\u001b[0m|39073/39073 [\u001b[91m100%\u001b[0m], Loss=0.332591\u001b[0m\n"
     ]
    },
    {
     "name": "stdout",
     "output_type": "stream",
     "text": [
      "==============================================================================\n",
      "\n"
     ]
    },
    {
     "name": "stderr",
     "output_type": "stream",
     "text": [
      "Epoch 20/20: 100%|\u001b[92m████████████████████████████████████████████████\u001b[0m|39073/39073 [\u001b[91m100%\u001b[0m], Loss=0.330770\u001b[0m"
     ]
    },
    {
     "name": "stdout",
     "output_type": "stream",
     "text": [
      "==============================================================================\n",
      "\n"
     ]
    },
    {
     "name": "stderr",
     "output_type": "stream",
     "text": [
      "\n"
     ]
    }
   ],
   "source": [
    "# Fitting the model\n",
    "torchpipeline.fit(x_train, y_train, print_after=25)"
   ]
  },
  {
   "cell_type": "markdown",
   "metadata": {},
   "source": [
    "<h4 style=\"color:orange; font-family:Georgia; text-decoration: underline\">\n",
    "Predictions on test data\n",
    "</h4>"
   ]
  },
  {
   "cell_type": "code",
   "execution_count": 11,
   "metadata": {},
   "outputs": [
    {
     "name": "stdout",
     "output_type": "stream",
     "text": [
      "\n",
      "Test set: Accuracy: 8288/9769 (85%)\n",
      "\n",
      "Shape match: y_test -> torch.Size([9769]); y_predict -> (9769, 1)\n"
     ]
    }
   ],
   "source": [
    "# Making predictions\n",
    "y_predict, accuracy = torchpipeline.predict(x_test, y_test, device)\n",
    "y_predict.reshape(y_test.shape)\n",
    "print(f\"Shape match: y_test -> {y_test.shape}; y_predict -> {y_predict.shape}\")"
   ]
  },
  {
   "cell_type": "code",
   "execution_count": 12,
   "metadata": {},
   "outputs": [
    {
     "data": {
      "image/png": "[encoded data removed]",
      "text/plain": [
       "<Figure size 600x400 with 1 Axes>"
      ]
     },
     "metadata": {},
     "output_type": "display_data"
    }
   ],
   "source": [
    "plt.figure(figsize=(3,2), dpi=200)\n",
    "bins=[-0.5, 0.5, 1.5]\n",
    "plt.hist(y_test, bins=bins, color=\"red\", rwidth=np.diff(bins)[0]/5, label=\"original\", alpha=0.5)\n",
    "plt.hist(y_predict, bins=bins,color=\"green\", rwidth=np.diff(bins)[0]/5, label=\"predicted\",alpha=0.5)\n",
    "plt.title(\"Comparison of the predicted and original data\",fontsize=10)\n",
    "plt.legend(fontsize=8)\n",
    "plt.xlabel(f\"Sample size: {len(y_test)}; Accuracy: {accuracy:.2f}%\",fontsize=7)\n",
    "plt.xticks(size=10)\n",
    "plt.yticks(size=10)\n",
    "plt.show()"
   ]
  },
  {
   "cell_type": "code",
   "execution_count": null,
   "metadata": {},
   "outputs": [],
   "source": []
  }
 ],
 "metadata": {
  "kernelspec": {
   "display_name": "Python 3",
   "language": "python",
   "name": "python3"
  },
  "language_info": {
   "codemirror_mode": {
    "name": "ipython",
    "version": 3
   },
   "file_extension": ".py",
   "mimetype": "text/x-python",
   "name": "python",
   "nbconvert_exporter": "python",
   "pygments_lexer": "ipython3",
   "version": "3.11.9"
  }
 },
 "nbformat": 4,
 "nbformat_minor": 2
}
