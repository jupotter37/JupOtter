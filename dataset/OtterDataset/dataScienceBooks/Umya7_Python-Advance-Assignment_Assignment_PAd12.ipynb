{
 "cells": [
  {
   "cell_type": "markdown",
   "id": "961dcc9b",
   "metadata": {},
   "source": [
    "## Assignment 12"
   ]
  },
  {
   "cell_type": "markdown",
   "id": "20c997d0",
   "metadata": {},
   "source": [
    "**Q.1.** Does assigning a value to a string's indexed character violate Python's string immutability?"
   ]
  },
  {
   "cell_type": "markdown",
   "id": "3d35d6af",
   "metadata": {},
   "source": [
    "**Answer :**"
   ]
  },
  {
   "cell_type": "markdown",
   "id": "6d88d8ae",
   "metadata": {},
   "source": [
    "Yes. It is beacause of string immutability that means we can not change the characters in string by assigning new values to indexes.\n",
    "\n",
    "**Example :**"
   ]
  },
  {
   "cell_type": "code",
   "execution_count": 1,
   "id": "f224a0be",
   "metadata": {},
   "outputs": [
    {
     "name": "stdout",
     "output_type": "stream",
     "text": [
      "1661389948848\n"
     ]
    },
    {
     "ename": "TypeError",
     "evalue": "'str' object does not support item assignment",
     "output_type": "error",
     "traceback": [
      "\u001b[1;31m---------------------------------------------------------------------------\u001b[0m",
      "\u001b[1;31mTypeError\u001b[0m                                 Traceback (most recent call last)",
      "\u001b[1;32m<ipython-input-1-06b817714934>\u001b[0m in \u001b[0;36m<module>\u001b[1;34m\u001b[0m\n\u001b[0;32m      1\u001b[0m \u001b[0mname\u001b[0m \u001b[1;33m=\u001b[0m \u001b[1;34m\"Reinforcement\"\u001b[0m\u001b[1;33m\u001b[0m\u001b[1;33m\u001b[0m\u001b[0m\n\u001b[0;32m      2\u001b[0m \u001b[0mprint\u001b[0m\u001b[1;33m(\u001b[0m\u001b[0mid\u001b[0m\u001b[1;33m(\u001b[0m\u001b[0mname\u001b[0m\u001b[1;33m)\u001b[0m\u001b[1;33m)\u001b[0m \u001b[1;31m#73472\u001b[0m\u001b[1;33m\u001b[0m\u001b[1;33m\u001b[0m\u001b[0m\n\u001b[1;32m----> 3\u001b[1;33m \u001b[0mname\u001b[0m\u001b[1;33m[\u001b[0m\u001b[1;36m0\u001b[0m\u001b[1;33m]\u001b[0m \u001b[1;33m=\u001b[0m \u001b[1;34m\"V\"\u001b[0m \u001b[1;31m# Raises TypeError\u001b[0m\u001b[1;33m\u001b[0m\u001b[1;33m\u001b[0m\u001b[0m\n\u001b[0m",
      "\u001b[1;31mTypeError\u001b[0m: 'str' object does not support item assignment"
     ]
    }
   ],
   "source": [
    "name = \"Reinforcement\"\n",
    "print(id(name)) #73472\n",
    "name[0] = \"V\" # Raises TypeError"
   ]
  },
  {
   "cell_type": "markdown",
   "id": "ef585dc4",
   "metadata": {},
   "source": [
    "**Q.2.** Does using the += operator to concatenate strings violate Python's string immutability? Why or\n",
    "why not?"
   ]
  },
  {
   "cell_type": "markdown",
   "id": "8c93181c",
   "metadata": {},
   "source": [
    "**Answer :**"
   ]
  },
  {
   "cell_type": "markdown",
   "id": "6affbb4d",
   "metadata": {},
   "source": [
    "No. When we concatenate string, we assign new value to the same string variable. We are not altering string based on the indexes, so it won't violate Python's string immutability.\n",
    "\n",
    "**Example :**"
   ]
  },
  {
   "cell_type": "code",
   "execution_count": 2,
   "id": "4079f0af",
   "metadata": {},
   "outputs": [
    {
     "name": "stdout",
     "output_type": "stream",
     "text": [
      "1661317206384\n",
      "1661389896688\n"
     ]
    }
   ],
   "source": [
    "str_1 = 'a'\n",
    "print(id(str_1))\n",
    "\n",
    "str_1 += 'b'\n",
    "print(id(str_1)) # Does not Modify existing string, Creates a New String Object"
   ]
  },
  {
   "cell_type": "markdown",
   "id": "21d09f5d",
   "metadata": {},
   "source": [
    "**Q.3.** In Python, how many different ways are there to index a character?"
   ]
  },
  {
   "cell_type": "markdown",
   "id": "1b6d001d",
   "metadata": {},
   "source": [
    "**Answer :**"
   ]
  },
  {
   "cell_type": "markdown",
   "id": "71ebad2f",
   "metadata": {},
   "source": [
    "There are 2 ways to index a character. Accessing characters by a **`Positive Index Number`** & **`Negative Index Number`**.\n",
    "\n",
    "**Example :**"
   ]
  },
  {
   "cell_type": "code",
   "execution_count": 3,
   "id": "2a23f3f9",
   "metadata": {},
   "outputs": [
    {
     "name": "stdout",
     "output_type": "stream",
     "text": [
      "g   a\n",
      "n e o\n"
     ]
    }
   ],
   "source": [
    "in_string = \"I am doing Full Stack Data Science from iNeuron\"\n",
    "\n",
    "print(in_string[9],in_string[10],in_string[2]) # Positive Indexing\n",
    "print(in_string[-1],in_string[-5],in_string[-2]) # Negative Indexing"
   ]
  },
  {
   "cell_type": "markdown",
   "id": "aea9efa4",
   "metadata": {},
   "source": [
    "**Q.4.** What is the relationship between indexing and slicing?"
   ]
  },
  {
   "cell_type": "markdown",
   "id": "1615158a",
   "metadata": {},
   "source": [
    "**Answer :**"
   ]
  },
  {
   "cell_type": "markdown",
   "id": "87ec8a48",
   "metadata": {},
   "source": [
    "* **`indexing`** - used as a resource to obtain individual elements and\n",
    "* **`slicing`** - is used to obtain a sequence of those elements.\n",
    "\n",
    "**Example :**"
   ]
  },
  {
   "cell_type": "code",
   "execution_count": 4,
   "id": "04e518c6",
   "metadata": {},
   "outputs": [
    {
     "name": "stdout",
     "output_type": "stream",
     "text": [
      "  m d\n",
      " am doing Full\n"
     ]
    }
   ],
   "source": [
    "in_string = \"I am doing Full Stack Data Science from iNeuron\"\n",
    "\n",
    "print(in_string[1],in_string[3],in_string[5]) # Indexing\n",
    "print(in_string[1:15]) # Slicing"
   ]
  },
  {
   "cell_type": "markdown",
   "id": "431b7035",
   "metadata": {},
   "source": [
    "**Q.5.** What is an indexed character's exact data type? What is the data form of a slicing-generated\n",
    "substring?"
   ]
  },
  {
   "cell_type": "markdown",
   "id": "f4625b7a",
   "metadata": {},
   "source": [
    "**Answer :**"
   ]
  },
  {
   "cell_type": "markdown",
   "id": "c0c5459c",
   "metadata": {},
   "source": [
    "Indexed **`characters`** and **`sliced`** substrings have **`String`** datatype.\n",
    "\n",
    "**Example :**"
   ]
  },
  {
   "cell_type": "code",
   "execution_count": 5,
   "id": "f4059909",
   "metadata": {},
   "outputs": [
    {
     "name": "stdout",
     "output_type": "stream",
     "text": [
      "<class 'str'>\n",
      "<class 'str'>\n"
     ]
    }
   ],
   "source": [
    "in_string = \"I am doing Full Stack Data Science from iNeuron\"\n",
    "\n",
    "print(type(in_string[3])) # Indexing -> str\n",
    "print(type(in_string[1:10])) # Indexing -> str"
   ]
  },
  {
   "cell_type": "markdown",
   "id": "6c7f5aee",
   "metadata": {},
   "source": [
    "**Q.6.** What is the relationship between string and character \"types\" in Python?"
   ]
  },
  {
   "cell_type": "markdown",
   "id": "09fefe49",
   "metadata": {},
   "source": [
    "**Answer :**"
   ]
  },
  {
   "cell_type": "markdown",
   "id": "3a95cc11",
   "metadata": {},
   "source": [
    "Collection of characters in sequence forms a string.\n",
    "\n",
    "And Strings are used with single or double quotes."
   ]
  },
  {
   "cell_type": "markdown",
   "id": "cd1f746a",
   "metadata": {},
   "source": [
    "**Q.7.** Identify at least two operators and one method that allow you to combine one or more smaller\n",
    "strings to create a larger string."
   ]
  },
  {
   "cell_type": "markdown",
   "id": "00306d5c",
   "metadata": {},
   "source": [
    "**Answer :**"
   ]
  },
  {
   "cell_type": "markdown",
   "id": "3f04a3dd",
   "metadata": {},
   "source": [
    "**`+`** operator and **`*`** operator that allow to combine.\n",
    "\n",
    "**`join()`** method is used to create a larger string.\n",
    "\n",
    "**Example :**"
   ]
  },
  {
   "cell_type": "code",
   "execution_count": 6,
   "id": "78bd1a2b",
   "metadata": {},
   "outputs": [
    {
     "name": "stdout",
     "output_type": "stream",
     "text": [
      "Hello!How are you?\n",
      "RainRainRainRain\n",
      "How are you?\n"
     ]
    }
   ],
   "source": [
    "print(\"Hello!\" + 'How are you?')\n",
    "\n",
    "print(\"Rain\" * 4)\n",
    "\n",
    "l = ['How', 'are', 'you?']\n",
    "\n",
    "s = ' '.join(l)\n",
    "\n",
    "print(s)"
   ]
  },
  {
   "cell_type": "markdown",
   "id": "27e65ebf",
   "metadata": {},
   "source": [
    "**Q.8.** What is the benefit of first checking the target string with in or not in before using the index\n",
    "method to find a substring?"
   ]
  },
  {
   "cell_type": "markdown",
   "id": "ce074b46",
   "metadata": {},
   "source": [
    "**Answer :**"
   ]
  },
  {
   "cell_type": "markdown",
   "id": "1d2f5ca4",
   "metadata": {},
   "source": [
    "Normally, When we use **`index()`** method it will return the starting index of a substring, if substring is present in a string. But the major concern is if a substring is not present in a string, **`index()`** will return a ValueError. To avoid this, we can first check the target string with **in** or **not in** before using the index method to find a substring.\n",
    "\n",
    "**Example :**"
   ]
  },
  {
   "cell_type": "code",
   "execution_count": 7,
   "id": "26d2e595",
   "metadata": {},
   "outputs": [
    {
     "ename": "ValueError",
     "evalue": "substring not found",
     "output_type": "error",
     "traceback": [
      "\u001b[1;31m---------------------------------------------------------------------------\u001b[0m",
      "\u001b[1;31mValueError\u001b[0m                                Traceback (most recent call last)",
      "\u001b[1;32m<ipython-input-7-ba87ec483ec4>\u001b[0m in \u001b[0;36m<module>\u001b[1;34m\u001b[0m\n\u001b[0;32m      6\u001b[0m     \u001b[0mprint\u001b[0m\u001b[1;33m(\u001b[0m\u001b[0mu\u001b[0m\u001b[1;33m.\u001b[0m\u001b[0mindex\u001b[0m\u001b[1;33m(\u001b[0m\u001b[0mu1\u001b[0m\u001b[1;33m)\u001b[0m\u001b[1;33m)\u001b[0m\u001b[1;33m\u001b[0m\u001b[1;33m\u001b[0m\u001b[0m\n\u001b[0;32m      7\u001b[0m \u001b[1;33m\u001b[0m\u001b[0m\n\u001b[1;32m----> 8\u001b[1;33m \u001b[0mu\u001b[0m\u001b[1;33m.\u001b[0m\u001b[0mindex\u001b[0m\u001b[1;33m(\u001b[0m\u001b[0mu1\u001b[0m\u001b[1;33m)\u001b[0m\u001b[1;33m\u001b[0m\u001b[1;33m\u001b[0m\u001b[0m\n\u001b[0m",
      "\u001b[1;31mValueError\u001b[0m: substring not found"
     ]
    }
   ],
   "source": [
    "u = 'MyNameIsUmesh'\n",
    "\n",
    "u1 = 'aesh'\n",
    "\n",
    "if u1 in u:\n",
    "    print(u.index(u1))\n",
    "\n",
    "u.index(u1)"
   ]
  },
  {
   "cell_type": "markdown",
   "id": "ceb4c72b",
   "metadata": {},
   "source": [
    "**Q.9.** Which operators and built-in string methods produce simple Boolean (true/false) results?"
   ]
  },
  {
   "cell_type": "markdown",
   "id": "14a36eaf",
   "metadata": {},
   "source": [
    "**Answer :**"
   ]
  },
  {
   "cell_type": "markdown",
   "id": "76c9d905",
   "metadata": {},
   "source": [
    "- **Operators :**\n",
    "    * Comparison operators : (== ,!= ,< ,> ,<=, >=) \n",
    "    * Logical Operators : (and, or, not)\n",
    "    * Identity Operators : (is , is not)\n",
    "    * Membership Operators : (in, not in)\n",
    "        \n",
    "- **String methods:**\n",
    "    * endswith() : Returns true if the string ends with the specified value.\n",
    "    * isalnum() : Returns True if all characters in the string are alphanumeric.\n",
    "    * isalpha() : Returns True if all characters in the string are in the alphabet.\n",
    "    * isdecimal() : Returns True if all characters in the string are decimals.\n",
    "    * isdigit() : Returns True if all characters in the string are digits.\n",
    "    * isidentifier() : Returns True if the string is an identifier.\n",
    "    * islower() : Returns True if all characters in the string are lower case.\n",
    "    * isnumeric() : Returns True if all characters in the string are numeric.\n",
    "    * isprintable() : Returns True if all characters in the string are printable.\n",
    "    * isspace() : Returns True if all characters in the string are whitespaces.\n",
    "    * istitle() : Returns True if the string follows the rules of a title.\n",
    "    * isupper() : Returns True if all characters in the string are upper case."
   ]
  }
 ],
 "metadata": {
  "kernelspec": {
   "display_name": "Python 3",
   "language": "python",
   "name": "python3"
  },
  "language_info": {
   "codemirror_mode": {
    "name": "ipython",
    "version": 3
   },
   "file_extension": ".py",
   "mimetype": "text/x-python",
   "name": "python",
   "nbconvert_exporter": "python",
   "pygments_lexer": "ipython3",
   "version": "3.8.8"
  }
 },
 "nbformat": 4,
 "nbformat_minor": 5
}
