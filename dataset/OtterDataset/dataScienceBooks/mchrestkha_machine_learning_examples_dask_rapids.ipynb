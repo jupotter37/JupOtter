{
 "cells": [
  {
   "cell_type": "markdown",
   "metadata": {},
   "source": [
    "### Resources Used"
   ]
  },
  {
   "cell_type": "markdown",
   "metadata": {},
   "source": [
    "* Dataset\n",
    " - https://docs.rapids.ai/datasets/mortgage-data\n",
    " - https://capmrkt.fanniemae.com/portal/funding-the-market/data/loan-performance-data.html\n",
    "* RAPIDS + Dask Documentation\n",
    " - https://docs.rapids.ai/api/cudf/stable/10min.html\n",
    " - https://docs.dask.org/en/latest/dataframe-best-practices.html\n",
    " - https://docs.dask.org/en/latest/setup/single-distributed.html#localcluster\n",
    " - https://distributed.dask.org/en/latest/memory.html\n",
    " - https://dask-cuda.readthedocs.io/en/latest/specializations.html\n",
    "* Other examples with this dataset\n",
    " - https://www.dataquest.io/blog/data-science-portfolio-machine-learning/\n",
    " - https://github.com/dhananjaymehta/FannieMae_LoanForeclosure\n",
    " - https://degravek.github.io/project-pages/project1/2016/11/12/New-Notebook/\n",
    " - https://riskspan.com/hands-on-machine-learning-predicting-loan-delinquency/\n",
    " \n",
    " \n",
    " \n",
    "\n",
    "\n",
    "\n",
    "\n"
   ]
  },
  {
   "cell_type": "markdown",
   "metadata": {},
   "source": [
    "## Create conda enviornment with the following libraries\n",
    "```\n",
    "conda create -n rapids-0.17 -c rapidsai -c nvidia -c conda-forge -c defaults rapids-blazing=0.17 python=3.7 cudatoolkit=11.0 matplotlib=3.3.3 gcsfs=0.7.1\n",
    "```\n",
    "\n",
    "Once you create the conda environment open a Jupyter kernel associated to this conda environment"
   ]
  },
  {
   "cell_type": "markdown",
   "metadata": {},
   "source": [
    "## Check Environment"
   ]
  },
  {
   "cell_type": "code",
   "execution_count": 1,
   "metadata": {},
   "outputs": [
    {
     "name": "stdout",
     "output_type": "stream",
     "text": [
      "Thu Jan 14 03:17:44 2021       \n",
      "+-----------------------------------------------------------------------------+\n",
      "| NVIDIA-SMI 450.51.06    Driver Version: 450.51.06    CUDA Version: 11.0     |\n",
      "|-------------------------------+----------------------+----------------------+\n",
      "| GPU  Name        Persistence-M| Bus-Id        Disp.A | Volatile Uncorr. ECC |\n",
      "| Fan  Temp  Perf  Pwr:Usage/Cap|         Memory-Usage | GPU-Util  Compute M. |\n",
      "|                               |                      |               MIG M. |\n",
      "|===============================+======================+======================|\n",
      "|   0  A100-SXM4-40GB      On   | 00000000:00:04.0 Off |                    0 |\n",
      "| N/A   32C    P0    54W / 400W |      0MiB / 40537MiB |      0%      Default |\n",
      "|                               |                      |             Disabled |\n",
      "+-------------------------------+----------------------+----------------------+\n",
      "|   1  A100-SXM4-40GB      On   | 00000000:00:05.0 Off |                    0 |\n",
      "| N/A   33C    P0    52W / 400W |      0MiB / 40537MiB |      0%      Default |\n",
      "|                               |                      |             Disabled |\n",
      "+-------------------------------+----------------------+----------------------+\n",
      "                                                                               \n",
      "+-----------------------------------------------------------------------------+\n",
      "| Processes:                                                                  |\n",
      "|  GPU   GI   CI        PID   Type   Process name                  GPU Memory |\n",
      "|        ID   ID                                                   Usage      |\n",
      "|=============================================================================|\n",
      "|  No running processes found                                                 |\n",
      "+-----------------------------------------------------------------------------+\n",
      "nvcc: NVIDIA (R) Cuda compiler driver\n",
      "Copyright (c) 2005-2020 NVIDIA Corporation\n",
      "Built on Thu_Jun_11_22:26:38_PDT_2020\n",
      "Cuda compilation tools, release 11.0, V11.0.194\n",
      "Build cuda_11.0_bu.TC445_37.28540450_0\n"
     ]
    }
   ],
   "source": [
    "%%bash\n",
    "nvidia-smi\n",
    "nvcc --version"
   ]
  },
  {
   "cell_type": "code",
   "execution_count": null,
   "metadata": {},
   "outputs": [],
   "source": [
    "import numpy as np; print('numpy Version:', np.__version__)\n",
    "import pandas as pd; print('pandas Version:', pd.__version__)\n",
    "import xgboost as xgb; print('XGBoost Version:', xgb.__version__)\n",
    "import cudf; print('cudf Version:', cudf.__version__)\n",
    "import cuml; print('cudf Version:', cuml.__version__)\n",
    "import gcsfs; print('gcsfs Version:', gcsfs.__version__)\n",
    "import time\n",
    "import dask_cudf; print('dask_cudf Version:', gcsfs.__version__)\n",
    "import dask; print('dask Version:', gcsfs.__version__)\n",
    "import dask.dataframe as dask_df\n",
    "import glob;\n",
    "import matplotlib; print('matplotlib Version:', matplotlib.__version__)\n",
    "from dask.diagnostics import ProgressBar\n",
    "from dask.distributed import Client, progress, wait"
   ]
  },
  {
   "cell_type": "code",
   "execution_count": 3,
   "metadata": {},
   "outputs": [],
   "source": [
    "from IPython.core.interactiveshell import InteractiveShell\n",
    "InteractiveShell.ast_node_interactivity = \"all\""
   ]
  },
  {
   "cell_type": "markdown",
   "metadata": {},
   "source": [
    "## Set up Dask Cluster"
   ]
  },
  {
   "cell_type": "code",
   "execution_count": null,
   "metadata": {},
   "outputs": [],
   "source": [
    "# from dask.distributed import Client\n",
    "# client = Client()\n",
    "# client"
   ]
  },
  {
   "cell_type": "code",
   "execution_count": 4,
   "metadata": {},
   "outputs": [
    {
     "data": {
      "text/html": [
       "<table style=\"border: 2px solid white;\">\n",
       "<tr>\n",
       "<td style=\"vertical-align: top; border: 0px solid white\">\n",
       "<h3 style=\"text-align: left;\">Client</h3>\n",
       "<ul style=\"text-align: left; list-style: none; margin: 0; padding: 0;\">\n",
       "  <li><b>Scheduler: </b>tcp://127.0.0.1:41177</li>\n",
       "  <li><b>Dashboard: </b><a href='http://127.0.0.1:8787/status' target='_blank'>http://127.0.0.1:8787/status</a></li>\n",
       "</ul>\n",
       "</td>\n",
       "<td style=\"vertical-align: top; border: 0px solid white\">\n",
       "<h3 style=\"text-align: left;\">Cluster</h3>\n",
       "<ul style=\"text-align: left; list-style:none; margin: 0; padding: 0;\">\n",
       "  <li><b>Workers: </b>2</li>\n",
       "  <li><b>Cores: </b>2</li>\n",
       "  <li><b>Memory: </b>179.38 GB</li>\n",
       "</ul>\n",
       "</td>\n",
       "</tr>\n",
       "</table>"
      ],
      "text/plain": [
       "<Client: 'tcp://127.0.0.1:41177' processes=2 threads=2, memory=179.38 GB>"
      ]
     },
     "execution_count": 4,
     "metadata": {},
     "output_type": "execute_result"
    }
   ],
   "source": [
    "import blazingsql\n",
    "import dask_cudf\n",
    "from dask.distributed import Client\n",
    "from dask_cuda import LocalCUDACluster\n",
    "\n",
    "cluster = LocalCUDACluster()\n",
    "client = Client(cluster)\n",
    "# bc = blazingsql.BlazingContext(dask_client=client, network_interface='lo')\n",
    "client"
   ]
  },
  {
   "cell_type": "code",
   "execution_count": null,
   "metadata": {},
   "outputs": [],
   "source": [
    "# client.restart()\n",
    "# client"
   ]
  },
  {
   "cell_type": "markdown",
   "metadata": {},
   "source": [
    "## Define Data Schema & Data Types"
   ]
  },
  {
   "cell_type": "code",
   "execution_count": 5,
   "metadata": {},
   "outputs": [],
   "source": [
    "col_acq_names = ['LoanID','Channel','SellerName','OrInterestRate','OrUnpaidPrinc','OrLoanTerm',\n",
    "        'OrDate','FirstPayment','OrLTV','OrCLTV','NumBorrow','DTIRat','CreditScore',\n",
    "        'FTHomeBuyer','LoanPurpose','PropertyType','NumUnits','OccStatus','PropertyState',\n",
    "        'Zip','MortInsPerc','ProductType','CoCreditScore','MortInsType','RelMortInd']\n",
    "col_per_names = ['LoanID','MonthRep','Servicer','CurrInterestRate','CAUPB','LoanAge','MonthsToMaturity',\n",
    "          'AdMonthsToMaturity','MaturityDate','MSA','CLDS','ModFlag','ZeroBalCode','ZeroBalDate',\n",
    "          'LastInstallDate','ForeclosureDate','DispositionDate','PPRC','AssetRecCost','MHRC',\n",
    "          'ATFHP','NetSaleProceeds','CreditEnhProceeds','RPMWP','OFP','NIBUPB','PFUPB','RMWPF',\n",
    "          'FPWA','ServicingIndicator']\n",
    "\n",
    "col_acq = ['LoanID','OrDate','OrUnpaidPrinc','Channel','SellerName','PropertyType','NumUnits','PropertyState']\n",
    "col_per = ['LoanID','MonthRep', 'CAUPB','CLDS','ForeclosureDate']\n",
    "\n",
    "parse_dates_acq =['OrDate','FirstPayment']\n",
    "parse_dates_per =['MonthRep','MaturityDate','ZeroBalDate','LastInstallDate','ForeclosureDate','DispositionDate']\n",
    "\n",
    "# dtype_acq={ \"LoanID\":\"str\",\"Channel\":\"str\",\"SellerName\":\"str\",\"OrInterestRate\":\"str\",\"OrUnpaidPrinc\":\"str\",\"OrLoanTerm\":\"str\",\"OrDate\":\"str\",\n",
    "#    \"FirstPayment\":\"str\",\"OrLTV\":\"str\",\"OrCLTV\":\"str\",  \"NumBorrow\":\"str\", \"DTIRat\":\"str\", \"CreditScore\":\"str\", \"FTHomeBuyer\":\"str\",\n",
    "#    \"LoanPurpose\":\"str\", \"PropertyType\":\"str\", \"NumUnits\":\"str\", \"OccStatus\":\"str\",  \"PropertyState\":\"str\",  \"Zip\":\"str\", \"MortInsPerc\":\"str\",\n",
    "#    \"ProductType\":\"str\", \"CoCreditScore\":\"str\", \"MortInsType\":\"str\", \"RelMortInd\":\"str\"}\n",
    "\n",
    "dtype_acq={ \"LoanID\":\"int\",\"Channel\":\"str\",\"SellerName\":\"str\",\"OrInterestRate\":\"float\",\"OrUnpaidPrinc\":\"float\",\"OrLoanTerm\":\"float\",\"OrDate\":\"str\",\n",
    "   \"FirstPayment\":\"str\",\"OrLTV\":\"float\",\"OrCLTV\":\"float\",  \"NumBorrow\":\"float\", \"DTIRat\":\"float\", \"CreditScore\":\"float\", \"FTHomeBuyer\":\"str\",\n",
    "   \"LoanPurpose\":\"str\", \"PropertyType\":\"str\", \"NumUnits\":\"float\", \"OccStatus\":\"str\",  \"PropertyState\":\"str\",  \"Zip\":\"int\", \"MortInsPerc\":\"float\",\n",
    "   \"ProductType\":\"str\", \"CoCreditScore\":\"float\", \"MortInsType\":\"float\", \"RelMortInd\":\"str\"}\n",
    "\n",
    "# dtype_per={\"LoanID\":\"str\",\"MonthRep\":\"str\",\"Servicer\":\"str\", \"CurrInterestRate\":\"str\", \"CAUPB\":\"str\", \"LoanAge\":\"str\",\"MonthsToMaturity\":\"str\",\n",
    "#    \"AdMonthsToMaturity\":\"str\", \"MaturityDate\":\"str\", \"MSA\":\"str\", \"CLDS\":\"str\", \"ModFlag\":\"str\", \"ZeroBalCode\":\"str\", \"ZeroBalDate\":\"str\",\n",
    "#     \"LastInstallDate\":\"str\",  \"ForeclosureDate\":\"str\", \"DispositionDate\":\"str\", \"PPRC\":\"str\", \"AssetRecCost\":\"str\", \"MHRC\":\"str\", \"ATFHP\":\"str\",\n",
    "#     \"NetSaleProceeds\":\"str\", \"CreditEnhProceeds\":\"str\",\"RPMWP\":\"str\",\"OFP\":\"str\",\"NIBUPB\":\"str\", \"PFUPB\":\"str\", \"RMWPF\":\"str\",\n",
    "#    \"FPWA\":\"str\", \"ServicingIndicator\":\"str\"\n",
    "# }\n",
    "\n",
    "dtype_per={\"LoanID\":\"int\",\"MonthRep\":\"str\",\"Servicer\":\"str\", \"CurrInterestRate\":\"float\", \"CAUPB\":\"float\", \"LoanAge\":\"float\",\"MonthsToMaturity\":\"float\",\n",
    "   \"AdMonthsToMaturity\":\"float\", \"MaturityDate\":\"str\", \"MSA\":\"float\", \"CLDS\":\"float\", \"ModFlag\":\"str\", \"ZeroBalCode\":\"float\", \"ZeroBalDate\":\"str\",\n",
    "    \"LastInstallDate\":\"str\",  \"ForeclosureDate\":\"str\", \"DispositionDate\":\"str\", \"PPRC\":\"float\", \"AssetRecCost\":\"float\", \"MHRC\":\"float\", \"ATFHP\":\"float\",\n",
    "    \"NetSaleProceeds\":\"float\", \"CreditEnhProceeds\":\"float\",\"RPMWP\":\"float\",\"OFP\":\"float\",\"NIBUPB\":\"float\", \"PFUPB\":\"float\", \"RMWPF\":\"float\",\n",
    "   \"FPWA\":\"str\", \"ServicingIndicator\":\"str\"\n",
    "}"
   ]
  },
  {
   "cell_type": "markdown",
   "metadata": {},
   "source": [
    "## Data Ingestion"
   ]
  },
  {
   "cell_type": "code",
   "execution_count": 6,
   "metadata": {},
   "outputs": [],
   "source": [
    "# csv_acq_fnames='gs://mchrestkha-github-ml-examples/fannie_mae_loans/acq/Acquisition_20*'\n",
    "# csv_perf_fnames='gs://mchrestkha-github-ml-examples/fannie_mae_loans/perf/Performance_20*'\n",
    "\n",
    "parq_acq_fnames='gs://mchrestkha-github-ml-examples/fannie_mae_loans/acq/parquet68'\n",
    "parq_per_fnames='gs://mchrestkha-github-ml-examples/fannie_mae_loans/perf/parquet823'"
   ]
  },
  {
   "cell_type": "code",
   "execution_count": null,
   "metadata": {},
   "outputs": [],
   "source": [
    "# %time df_acq = dask_cudf.read_csv(csv_acq_fnames, sep='|', names=col_acq_names, dtype=dtype_acq, parse_dates=parse_dates_acq)\n",
    "# %time df_pe = dask_cudf.read_csv(csv_perf_fnames, sep='|', names=col_per_names, dtype=dtype_per, parse_dates=parse_dates_per)\n",
    "\n",
    "%time df_acq = dask_cudf.read_parquet(parq_acq_fnames)\n",
    "%time df_per = dask_cudf.read_parquet(parq_per_fnames, columns=col_per)"
   ]
  },
  {
   "cell_type": "code",
   "execution_count": null,
   "metadata": {},
   "outputs": [],
   "source": [
    "# %time print(\"Required Memory for df_acq:\",df_acq.memory_usage().sum().compute()/(1024**3), 'GB')\n",
    "# %time print(\"Required Memory for df_per:\",df_per.memory_usage().sum().compute()/(1024**3), 'GB')"
   ]
  },
  {
   "cell_type": "code",
   "execution_count": 13,
   "metadata": {},
   "outputs": [],
   "source": [
    "df_acq.head()\n",
    "df_per.head()"
   ]
  },
  {
   "cell_type": "code",
   "execution_count": null,
   "metadata": {},
   "outputs": [],
   "source": [
    "df_per_shape=df_per.shape[0].persist()\n",
    "progress(df_per_shape)"
   ]
  },
  {
   "cell_type": "code",
   "execution_count": 12,
   "metadata": {},
   "outputs": [
    {
     "data": {
      "text/plain": [
       "1890353680"
      ]
     },
     "execution_count": 12,
     "metadata": {},
     "output_type": "execute_result"
    },
    {
     "data": {
      "text/plain": [
       "37015214"
      ]
     },
     "execution_count": 12,
     "metadata": {},
     "output_type": "execute_result"
    }
   ],
   "source": [
    "df_per_shape.compute()\n",
    "df_acq.shape[0].compute()"
   ]
  },
  {
   "cell_type": "markdown",
   "metadata": {},
   "source": [
    "## Data Profiling & Data Quality Check against Summary Statistics \n",
    "- Data Dictionary: https://loanperformancedata.fanniemae.com/lppub-docs/FNMA_SF_Loan_Performance_Glossary.pdf\n",
    "- Sumary Statistics: https://loanperformancedata.fanniemae.com/lppub-docs/FNMA_SF_Loan_Performance_Stat_Summary_Primary.pdf\n",
    "- Sample Data: https://docs.google.com/spreadsheets/d/1nCtusAE2naZlWHFKGRsQTxxusjfZYiBLdd5SF5AEGMA/edit"
   ]
  },
  {
   "cell_type": "code",
   "execution_count": null,
   "metadata": {},
   "outputs": [],
   "source": [
    "%time df_acq_describe=df_acq.describe().compute()\n",
    "%time df_per_describe=df_per.describe().compute()\n",
    "df_acq_describe\n",
    "df_per_describe"
   ]
  },
  {
   "cell_type": "code",
   "execution_count": null,
   "metadata": {},
   "outputs": [],
   "source": [
    "df_acq['OrYr']=df_acq['OrDate'].str[-4:]\n",
    "df_acq['OrUnpaidPrinc $M']=df_acq['OrUnpaidPrinc']/1000000"
   ]
  },
  {
   "cell_type": "code",
   "execution_count": null,
   "metadata": {},
   "outputs": [],
   "source": [
    "# df_acq_describe=df_acq.describe().compute()\n",
    "# df_acq_nulls=df_acq.isna().sum().compute()\n",
    "df_acq_describe\n",
    "df_acq_nulls;"
   ]
  },
  {
   "cell_type": "code",
   "execution_count": null,
   "metadata": {},
   "outputs": [],
   "source": [
    "%time df_acq_summary = df_acq.groupby('OrYr',as_index=False).agg({'LoanID': 'count','OrUnpaidPrinc $M': 'sum'}).compute()\n",
    "df_acq_summary.rename(columns = {'LoanID': 'TotalLoans','OrUnpaidPrinc $M':'TotalOrUnpaidPrinc $M'},inplace=True)\n",
    "df_acq_summary['AvgOrUnpaidPrinc']=df_acq_summary['TotalOrUnpaidPrinc $M']/df_acq_summary['TotalLoans']*1000000\n",
    "df_acq_summary.to_pandas().sort_values(by=['OrYr']).plot.bar(x='OrYr',y='TotalLoans')\n",
    "df_acq_summary.to_pandas().sort_values(by=['OrYr']).plot.bar(x='OrYr',y='AvgOrUnpaidPrinc')"
   ]
  },
  {
   "cell_type": "code",
   "execution_count": 14,
   "metadata": {},
   "outputs": [
    {
     "data": {
      "text/html": [
       "<div>\n",
       "<style scoped>\n",
       "    .dataframe tbody tr th:only-of-type {\n",
       "        vertical-align: middle;\n",
       "    }\n",
       "\n",
       "    .dataframe tbody tr th {\n",
       "        vertical-align: top;\n",
       "    }\n",
       "\n",
       "    .dataframe thead th {\n",
       "        text-align: right;\n",
       "    }\n",
       "</style>\n",
       "<table border=\"1\" class=\"dataframe\">\n",
       "  <thead>\n",
       "    <tr style=\"text-align: right;\">\n",
       "      <th></th>\n",
       "      <th>LoanID</th>\n",
       "      <th>MonthRep</th>\n",
       "      <th>CAUPB</th>\n",
       "      <th>CLDS</th>\n",
       "      <th>ForeclosureDate</th>\n",
       "      <th>DelinquentEvent</th>\n",
       "      <th>ForeclosureEvent</th>\n",
       "      <th>YrRep</th>\n",
       "      <th>CAUPB $M</th>\n",
       "    </tr>\n",
       "  </thead>\n",
       "  <tbody>\n",
       "    <tr>\n",
       "      <th>0</th>\n",
       "      <td>100007365142</td>\n",
       "      <td>01/01/2000</td>\n",
       "      <td>&lt;NA&gt;</td>\n",
       "      <td>0.0</td>\n",
       "      <td>&lt;NA&gt;</td>\n",
       "      <td>0</td>\n",
       "      <td>0</td>\n",
       "      <td>2000</td>\n",
       "      <td>&lt;NA&gt;</td>\n",
       "    </tr>\n",
       "    <tr>\n",
       "      <th>1</th>\n",
       "      <td>100007365142</td>\n",
       "      <td>01/01/2001</td>\n",
       "      <td>74319.0</td>\n",
       "      <td>0.0</td>\n",
       "      <td>&lt;NA&gt;</td>\n",
       "      <td>0</td>\n",
       "      <td>0</td>\n",
       "      <td>2001</td>\n",
       "      <td>0.074319</td>\n",
       "    </tr>\n",
       "    <tr>\n",
       "      <th>2</th>\n",
       "      <td>100007365142</td>\n",
       "      <td>01/01/2002</td>\n",
       "      <td>73635.48</td>\n",
       "      <td>0.0</td>\n",
       "      <td>&lt;NA&gt;</td>\n",
       "      <td>0</td>\n",
       "      <td>0</td>\n",
       "      <td>2002</td>\n",
       "      <td>0.07363548</td>\n",
       "    </tr>\n",
       "    <tr>\n",
       "      <th>3</th>\n",
       "      <td>100007365142</td>\n",
       "      <td>01/01/2003</td>\n",
       "      <td>72795.41</td>\n",
       "      <td>0.0</td>\n",
       "      <td>&lt;NA&gt;</td>\n",
       "      <td>0</td>\n",
       "      <td>0</td>\n",
       "      <td>2003</td>\n",
       "      <td>0.07279541</td>\n",
       "    </tr>\n",
       "    <tr>\n",
       "      <th>4</th>\n",
       "      <td>100007365142</td>\n",
       "      <td>02/01/2000</td>\n",
       "      <td>&lt;NA&gt;</td>\n",
       "      <td>0.0</td>\n",
       "      <td>&lt;NA&gt;</td>\n",
       "      <td>0</td>\n",
       "      <td>0</td>\n",
       "      <td>2000</td>\n",
       "      <td>&lt;NA&gt;</td>\n",
       "    </tr>\n",
       "  </tbody>\n",
       "</table>\n",
       "</div>"
      ],
      "text/plain": [
       "         LoanID    MonthRep     CAUPB  CLDS ForeclosureDate  DelinquentEvent  \\\n",
       "0  100007365142  01/01/2000      <NA>   0.0            <NA>                0   \n",
       "1  100007365142  01/01/2001   74319.0   0.0            <NA>                0   \n",
       "2  100007365142  01/01/2002  73635.48   0.0            <NA>                0   \n",
       "3  100007365142  01/01/2003  72795.41   0.0            <NA>                0   \n",
       "4  100007365142  02/01/2000      <NA>   0.0            <NA>                0   \n",
       "\n",
       "   ForeclosureEvent YrRep    CAUPB $M  \n",
       "0                 0  2000        <NA>  \n",
       "1                 0  2001    0.074319  \n",
       "2                 0  2002  0.07363548  \n",
       "3                 0  2003  0.07279541  \n",
       "4                 0  2000        <NA>  "
      ]
     },
     "execution_count": 14,
     "metadata": {},
     "output_type": "execute_result"
    }
   ],
   "source": [
    "df_per['DelinquentEvent']=0\n",
    "df_per['DelinquentEvent']=df_per['DelinquentEvent'].where(df_per['CLDS']<1,1)\n",
    "df_per['ForeclosureEvent']=0\n",
    "df_per['ForeclosureEvent']=df_per['ForeclosureEvent'].where(df_per['ForeclosureDate'].isnull()== True,1)\n",
    "df_per['YrRep']=df_per['MonthRep'].str[-4:]\n",
    "df_per['CAUPB $M']=df_per['CAUPB']/1000000\n",
    "df_per.head()"
   ]
  },
  {
   "cell_type": "code",
   "execution_count": null,
   "metadata": {},
   "outputs": [],
   "source": [
    "df_per_yr_summary = df_per.groupby('YrRep',as_index=False).agg({'LoanID': 'count', 'DelinquentEvent':'sum'}).persist()\n",
    "progress(df_per_yr_summary)"
   ]
  },
  {
   "cell_type": "code",
   "execution_count": 47,
   "metadata": {},
   "outputs": [
    {
     "data": {
      "text/plain": [
       "<AxesSubplot:xlabel='YrRep'>"
      ]
     },
     "execution_count": 47,
     "metadata": {},
     "output_type": "execute_result"
    },
    {
     "data": {
      "image/png": "[encoded data removed]",
      "text/plain": [
       "<Figure size 432x288 with 1 Axes>"
      ]
     },
     "metadata": {
      "needs_background": "light"
     },
     "output_type": "display_data"
    }
   ],
   "source": [
    "df_per_yr_summary=df_per_yr_summary.compute()\n",
    "df_per_yr_summary['DelinquencyEventsperLoan']=df_per_yr_summary['DelinquentEvent']/df_per_yr_summary['LoanID']\n",
    "df_per_yr_summary.to_pandas().sort_values(by=['YrRep']).plot.line(x='YrRep',y='DelinquencyEventsperLoan')"
   ]
  },
  {
   "cell_type": "markdown",
   "metadata": {},
   "source": [
    "## Creating modeling dataset with label & features"
   ]
  },
  {
   "cell_type": "markdown",
   "metadata": {},
   "source": [
    "Aggregate to one record per loan & flagging for delinquency event at least once historically"
   ]
  },
  {
   "cell_type": "code",
   "execution_count": 48,
   "metadata": {},
   "outputs": [
    {
     "data": {
      "application/vnd.jupyter.widget-view+json": {
       "model_id": "c5119883ea8b475ea25b1a4607516b8c",
       "version_major": 2,
       "version_minor": 0
      },
      "text/plain": [
       "VBox()"
      ]
     },
     "metadata": {},
     "output_type": "display_data"
    }
   ],
   "source": [
    "# This takes ~ 12-15 min with 2 A100 GPUs on 1.8B rows\n",
    "df_per_loan = df_per.groupby('LoanID',as_index=False).agg({'DelinquentEvent':'sum'}).persist()\n",
    "progress(df_per_loan)"
   ]
  },
  {
   "cell_type": "code",
   "execution_count": 49,
   "metadata": {},
   "outputs": [
    {
     "data": {
      "text/html": [
       "<div>\n",
       "<style scoped>\n",
       "    .dataframe tbody tr th:only-of-type {\n",
       "        vertical-align: middle;\n",
       "    }\n",
       "\n",
       "    .dataframe tbody tr th {\n",
       "        vertical-align: top;\n",
       "    }\n",
       "\n",
       "    .dataframe thead th {\n",
       "        text-align: right;\n",
       "    }\n",
       "</style>\n",
       "<table border=\"1\" class=\"dataframe\">\n",
       "  <thead>\n",
       "    <tr style=\"text-align: right;\">\n",
       "      <th></th>\n",
       "      <th>LoanID</th>\n",
       "      <th>DelinquentEvent</th>\n",
       "    </tr>\n",
       "  </thead>\n",
       "  <tbody>\n",
       "    <tr>\n",
       "      <th>0</th>\n",
       "      <td>185648046345</td>\n",
       "      <td>0</td>\n",
       "    </tr>\n",
       "    <tr>\n",
       "      <th>1</th>\n",
       "      <td>940160992979</td>\n",
       "      <td>0</td>\n",
       "    </tr>\n",
       "    <tr>\n",
       "      <th>2</th>\n",
       "      <td>338253480820</td>\n",
       "      <td>0</td>\n",
       "    </tr>\n",
       "    <tr>\n",
       "      <th>3</th>\n",
       "      <td>327180032737</td>\n",
       "      <td>0</td>\n",
       "    </tr>\n",
       "    <tr>\n",
       "      <th>4</th>\n",
       "      <td>287096047357</td>\n",
       "      <td>0</td>\n",
       "    </tr>\n",
       "  </tbody>\n",
       "</table>\n",
       "</div>"
      ],
      "text/plain": [
       "         LoanID  DelinquentEvent\n",
       "0  185648046345                0\n",
       "1  940160992979                0\n",
       "2  338253480820                0\n",
       "3  327180032737                0\n",
       "4  287096047357                0"
      ]
     },
     "execution_count": 49,
     "metadata": {},
     "output_type": "execute_result"
    }
   ],
   "source": [
    "df_per_loan.head()"
   ]
  },
  {
   "cell_type": "code",
   "execution_count": 51,
   "metadata": {},
   "outputs": [
    {
     "data": {
      "text/html": [
       "<div>\n",
       "<style scoped>\n",
       "    .dataframe tbody tr th:only-of-type {\n",
       "        vertical-align: middle;\n",
       "    }\n",
       "\n",
       "    .dataframe tbody tr th {\n",
       "        vertical-align: top;\n",
       "    }\n",
       "\n",
       "    .dataframe thead th {\n",
       "        text-align: right;\n",
       "    }\n",
       "</style>\n",
       "<table border=\"1\" class=\"dataframe\">\n",
       "  <thead>\n",
       "    <tr style=\"text-align: right;\">\n",
       "      <th></th>\n",
       "      <th>LoanID</th>\n",
       "      <th>DelinquentEvent</th>\n",
       "      <th>DelinquentFlag</th>\n",
       "    </tr>\n",
       "  </thead>\n",
       "  <tbody>\n",
       "    <tr>\n",
       "      <th>6</th>\n",
       "      <td>736842854055</td>\n",
       "      <td>1</td>\n",
       "      <td>1</td>\n",
       "    </tr>\n",
       "    <tr>\n",
       "      <th>11</th>\n",
       "      <td>858243020041</td>\n",
       "      <td>15</td>\n",
       "      <td>1</td>\n",
       "    </tr>\n",
       "    <tr>\n",
       "      <th>24</th>\n",
       "      <td>229906838180</td>\n",
       "      <td>26</td>\n",
       "      <td>1</td>\n",
       "    </tr>\n",
       "    <tr>\n",
       "      <th>33</th>\n",
       "      <td>381137150529</td>\n",
       "      <td>1</td>\n",
       "      <td>1</td>\n",
       "    </tr>\n",
       "    <tr>\n",
       "      <th>35</th>\n",
       "      <td>769846953850</td>\n",
       "      <td>7</td>\n",
       "      <td>1</td>\n",
       "    </tr>\n",
       "  </tbody>\n",
       "</table>\n",
       "</div>"
      ],
      "text/plain": [
       "          LoanID  DelinquentEvent  DelinquentFlag\n",
       "6   736842854055                1               1\n",
       "11  858243020041               15               1\n",
       "24  229906838180               26               1\n",
       "33  381137150529                1               1\n",
       "35  769846953850                7               1"
      ]
     },
     "execution_count": 51,
     "metadata": {},
     "output_type": "execute_result"
    }
   ],
   "source": [
    "df_per_loan['DelinquentFlag']=0\n",
    "df_per_loan['DelinquentFlag']=df_per_loan['DelinquentFlag'].where(df_per_loan['DelinquentEvent']<1,1)\n",
    "df_per_loan[df_per_loan['DelinquentFlag']> 0].head()"
   ]
  },
  {
   "cell_type": "code",
   "execution_count": 52,
   "metadata": {},
   "outputs": [
    {
     "data": {
      "text/html": [
       "<div>\n",
       "<style scoped>\n",
       "    .dataframe tbody tr th:only-of-type {\n",
       "        vertical-align: middle;\n",
       "    }\n",
       "\n",
       "    .dataframe tbody tr th {\n",
       "        vertical-align: top;\n",
       "    }\n",
       "\n",
       "    .dataframe thead th {\n",
       "        text-align: right;\n",
       "    }\n",
       "</style>\n",
       "<table border=\"1\" class=\"dataframe\">\n",
       "  <thead>\n",
       "    <tr style=\"text-align: right;\">\n",
       "      <th></th>\n",
       "      <th>LoanID</th>\n",
       "      <th>Channel</th>\n",
       "      <th>SellerName</th>\n",
       "      <th>OrInterestRate</th>\n",
       "      <th>OrUnpaidPrinc</th>\n",
       "      <th>OrLoanTerm</th>\n",
       "      <th>OrDate</th>\n",
       "      <th>FirstPayment</th>\n",
       "      <th>OrLTV</th>\n",
       "      <th>OrCLTV</th>\n",
       "      <th>...</th>\n",
       "      <th>OccStatus</th>\n",
       "      <th>PropertyState</th>\n",
       "      <th>Zip</th>\n",
       "      <th>MortInsPerc</th>\n",
       "      <th>ProductType</th>\n",
       "      <th>CoCreditScore</th>\n",
       "      <th>MortInsType</th>\n",
       "      <th>RelMortInd</th>\n",
       "      <th>DelinquentEvent</th>\n",
       "      <th>DelinquentFlag</th>\n",
       "    </tr>\n",
       "  </thead>\n",
       "  <tbody>\n",
       "    <tr>\n",
       "      <th>0</th>\n",
       "      <td>183242426281</td>\n",
       "      <td>R</td>\n",
       "      <td>JPMORGAN CHASE BANK, NA</td>\n",
       "      <td>8.375</td>\n",
       "      <td>137000.0</td>\n",
       "      <td>360.0</td>\n",
       "      <td>01/2000</td>\n",
       "      <td>03/2000</td>\n",
       "      <td>97.0</td>\n",
       "      <td>&lt;NA&gt;</td>\n",
       "      <td>...</td>\n",
       "      <td>P</td>\n",
       "      <td>OR</td>\n",
       "      <td>974</td>\n",
       "      <td>30.0</td>\n",
       "      <td>FRM</td>\n",
       "      <td>&lt;NA&gt;</td>\n",
       "      <td>1.0</td>\n",
       "      <td>N</td>\n",
       "      <td>0</td>\n",
       "      <td>0</td>\n",
       "    </tr>\n",
       "    <tr>\n",
       "      <th>1</th>\n",
       "      <td>183243108339</td>\n",
       "      <td>R</td>\n",
       "      <td>WELLS FARGO BANK, N.A.</td>\n",
       "      <td>8.000</td>\n",
       "      <td>145000.0</td>\n",
       "      <td>360.0</td>\n",
       "      <td>11/1999</td>\n",
       "      <td>01/2000</td>\n",
       "      <td>80.0</td>\n",
       "      <td>&lt;NA&gt;</td>\n",
       "      <td>...</td>\n",
       "      <td>P</td>\n",
       "      <td>IL</td>\n",
       "      <td>604</td>\n",
       "      <td>&lt;NA&gt;</td>\n",
       "      <td>FRM</td>\n",
       "      <td>&lt;NA&gt;</td>\n",
       "      <td>&lt;NA&gt;</td>\n",
       "      <td>Y</td>\n",
       "      <td>1</td>\n",
       "      <td>1</td>\n",
       "    </tr>\n",
       "    <tr>\n",
       "      <th>2</th>\n",
       "      <td>183245218791</td>\n",
       "      <td>R</td>\n",
       "      <td>SUNTRUST MORTGAGE INC.</td>\n",
       "      <td>8.000</td>\n",
       "      <td>100000.0</td>\n",
       "      <td>180.0</td>\n",
       "      <td>01/2000</td>\n",
       "      <td>03/2000</td>\n",
       "      <td>33.0</td>\n",
       "      <td>&lt;NA&gt;</td>\n",
       "      <td>...</td>\n",
       "      <td>P</td>\n",
       "      <td>MD</td>\n",
       "      <td>210</td>\n",
       "      <td>&lt;NA&gt;</td>\n",
       "      <td>FRM</td>\n",
       "      <td>772.0</td>\n",
       "      <td>&lt;NA&gt;</td>\n",
       "      <td>N</td>\n",
       "      <td>0</td>\n",
       "      <td>0</td>\n",
       "    </tr>\n",
       "    <tr>\n",
       "      <th>3</th>\n",
       "      <td>183249720870</td>\n",
       "      <td>R</td>\n",
       "      <td>USAA FEDERAL SAVINGS BANK</td>\n",
       "      <td>8.000</td>\n",
       "      <td>212000.0</td>\n",
       "      <td>360.0</td>\n",
       "      <td>01/2000</td>\n",
       "      <td>03/2000</td>\n",
       "      <td>95.0</td>\n",
       "      <td>&lt;NA&gt;</td>\n",
       "      <td>...</td>\n",
       "      <td>P</td>\n",
       "      <td>PA</td>\n",
       "      <td>151</td>\n",
       "      <td>30.0</td>\n",
       "      <td>FRM</td>\n",
       "      <td>695.0</td>\n",
       "      <td>1.0</td>\n",
       "      <td>N</td>\n",
       "      <td>0</td>\n",
       "      <td>0</td>\n",
       "    </tr>\n",
       "    <tr>\n",
       "      <th>4</th>\n",
       "      <td>183251824837</td>\n",
       "      <td>R</td>\n",
       "      <td>OTHER</td>\n",
       "      <td>8.375</td>\n",
       "      <td>56000.0</td>\n",
       "      <td>360.0</td>\n",
       "      <td>02/2000</td>\n",
       "      <td>04/2000</td>\n",
       "      <td>48.0</td>\n",
       "      <td>&lt;NA&gt;</td>\n",
       "      <td>...</td>\n",
       "      <td>P</td>\n",
       "      <td>LA</td>\n",
       "      <td>700</td>\n",
       "      <td>&lt;NA&gt;</td>\n",
       "      <td>FRM</td>\n",
       "      <td>&lt;NA&gt;</td>\n",
       "      <td>&lt;NA&gt;</td>\n",
       "      <td>N</td>\n",
       "      <td>0</td>\n",
       "      <td>0</td>\n",
       "    </tr>\n",
       "  </tbody>\n",
       "</table>\n",
       "<p>5 rows × 27 columns</p>\n",
       "</div>"
      ],
      "text/plain": [
       "         LoanID Channel                 SellerName  OrInterestRate  \\\n",
       "0  183242426281       R    JPMORGAN CHASE BANK, NA           8.375   \n",
       "1  183243108339       R     WELLS FARGO BANK, N.A.           8.000   \n",
       "2  183245218791       R     SUNTRUST MORTGAGE INC.           8.000   \n",
       "3  183249720870       R  USAA FEDERAL SAVINGS BANK           8.000   \n",
       "4  183251824837       R                      OTHER           8.375   \n",
       "\n",
       "   OrUnpaidPrinc  OrLoanTerm   OrDate FirstPayment  OrLTV OrCLTV  ...  \\\n",
       "0       137000.0       360.0  01/2000      03/2000   97.0   <NA>  ...   \n",
       "1       145000.0       360.0  11/1999      01/2000   80.0   <NA>  ...   \n",
       "2       100000.0       180.0  01/2000      03/2000   33.0   <NA>  ...   \n",
       "3       212000.0       360.0  01/2000      03/2000   95.0   <NA>  ...   \n",
       "4        56000.0       360.0  02/2000      04/2000   48.0   <NA>  ...   \n",
       "\n",
       "   OccStatus PropertyState  Zip  MortInsPerc ProductType CoCreditScore  \\\n",
       "0          P            OR  974         30.0         FRM          <NA>   \n",
       "1          P            IL  604         <NA>         FRM          <NA>   \n",
       "2          P            MD  210         <NA>         FRM         772.0   \n",
       "3          P            PA  151         30.0         FRM         695.0   \n",
       "4          P            LA  700         <NA>         FRM          <NA>   \n",
       "\n",
       "  MortInsType RelMortInd DelinquentEvent  DelinquentFlag  \n",
       "0         1.0          N               0               0  \n",
       "1        <NA>          Y               1               1  \n",
       "2        <NA>          N               0               0  \n",
       "3         1.0          N               0               0  \n",
       "4        <NA>          N               0               0  \n",
       "\n",
       "[5 rows x 27 columns]"
      ]
     },
     "execution_count": 52,
     "metadata": {},
     "output_type": "execute_result"
    }
   ],
   "source": [
    "joined=df_acq.merge(df_per_loan,on=['LoanID'],how='left')\n",
    "joined.head()"
   ]
  },
  {
   "cell_type": "code",
   "execution_count": 90,
   "metadata": {},
   "outputs": [],
   "source": [
    "label=['DelinquentFlag']\n",
    "cat_features=['Channel','OccStatus','FTHomeBuyer','LoanPurpose','PropertyType','ProductType','RelMortInd']\n",
    "num_features=['OrInterestRate','OrUnpaidPrinc','OrLoanTerm','OrLTV','OrCLTV','CreditScore']\n",
    "modeling_dataset=joined_categorized[cat_features + num_features + label]"
   ]
  },
  {
   "cell_type": "code",
   "execution_count": 91,
   "metadata": {},
   "outputs": [],
   "source": [
    "modeling_dataset.dtypes"
   ]
  },
  {
   "cell_type": "code",
   "execution_count": 99,
   "metadata": {},
   "outputs": [],
   "source": [
    "modeling_dataset=dask_df.get_dummies(modeling_dataset)"
   ]
  },
  {
   "cell_type": "markdown",
   "metadata": {},
   "source": [
    "## Training a model"
   ]
  },
  {
   "cell_type": "code",
   "execution_count": 101,
   "metadata": {},
   "outputs": [],
   "source": [
    "X = modeling_dataset[modeling_dataset.columns.difference(['DelinquentFlag'])]\n",
    "y = modeling_dataset['DelinquentFlag']"
   ]
  },
  {
   "cell_type": "code",
   "execution_count": 102,
   "metadata": {},
   "outputs": [],
   "source": [
    "dtrain=xgb.dask.DaskDeviceQuantileDMatrix(client, X,y)"
   ]
  },
  {
   "cell_type": "code",
   "execution_count": 104,
   "metadata": {},
   "outputs": [],
   "source": [
    "param =  {\n",
    "               'max_depth': 8,\n",
    "               'objective': 'reg:squarederror',\n",
    "               'tree_method': 'gpu_hist'\n",
    "             }\n",
    "model = xgb.dask.train(client,param, dtrain,num_boost_round=100)"
   ]
  },
  {
   "cell_type": "code",
   "execution_count": 110,
   "metadata": {},
   "outputs": [],
   "source": [
    "## TODO --- Add in metrics, feature importance, & evaluation plots"
   ]
  },
  {
   "cell_type": "markdown",
   "metadata": {},
   "source": [
    "## Appendix"
   ]
  }
 ],
 "metadata": {
  "environment": {
   "name": "common-cu110.m61",
   "type": "gcloud",
   "uri": "gcr.io/deeplearning-platform-release/base-cu110:m61"
  },
  "kernelspec": {
   "display_name": "Python [conda env:rapids-0.17]",
   "language": "python",
   "name": "conda-env-rapids-0.17-py"
  },
  "language_info": {
   "codemirror_mode": {
    "name": "ipython",
    "version": 3
   },
   "file_extension": ".py",
   "mimetype": "text/x-python",
   "name": "python",
   "nbconvert_exporter": "python",
   "pygments_lexer": "ipython3",
   "version": "3.7.8"
  }
 },
 "nbformat": 4,
 "nbformat_minor": 4
}
