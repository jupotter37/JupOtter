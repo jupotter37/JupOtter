{
 "cells": [
  {
   "cell_type": "markdown",
   "id": "efec67e5",
   "metadata": {},
   "source": [
    "# Numpy hands-on\n"
   ]
  },
  {
   "cell_type": "markdown",
   "id": "f411ecdb",
   "metadata": {},
   "source": [
    "# Problem statement:\n",
    "\n",
    "numpy library package from python is one of the most  useful while conduction any statistical analysis in data science. \n",
    "Familiarize yourself with the nitty gritties of the variour modules that it comes with.\n"
   ]
  },
  {
   "cell_type": "markdown",
   "id": "0bd1b2cc",
   "metadata": {},
   "source": [
    "# Tasks to be performed:\n",
    "    \n",
    "1. Create a array with numpy.array module and with a date type integer and float"
   ]
  },
  {
   "cell_type": "code",
   "execution_count": 2,
   "id": "9eac2272",
   "metadata": {},
   "outputs": [],
   "source": [
    "import numpy as np"
   ]
  },
  {
   "cell_type": "code",
   "execution_count": 2,
   "id": "d9235577",
   "metadata": {},
   "outputs": [
    {
     "data": {
      "text/plain": [
       "array([1, 2, 3, 4, 5])"
      ]
     },
     "execution_count": 2,
     "metadata": {},
     "output_type": "execute_result"
    }
   ],
   "source": [
    "arr1 = np.array([1,2,3,4,5])\n",
    "arr1"
   ]
  },
  {
   "cell_type": "code",
   "execution_count": 3,
   "id": "c2a478a3",
   "metadata": {},
   "outputs": [
    {
     "data": {
      "text/plain": [
       "dtype('int32')"
      ]
     },
     "execution_count": 3,
     "metadata": {},
     "output_type": "execute_result"
    }
   ],
   "source": [
    "arr1.dtype"
   ]
  },
  {
   "cell_type": "code",
   "execution_count": 5,
   "id": "82b40ef1",
   "metadata": {},
   "outputs": [
    {
     "data": {
      "text/plain": [
       "array([1., 2., 3., 4., 5.])"
      ]
     },
     "execution_count": 5,
     "metadata": {},
     "output_type": "execute_result"
    }
   ],
   "source": [
    "arr2 = np.array([1,2,3,4,5], dtype = 'float')\n",
    "arr2"
   ]
  },
  {
   "cell_type": "code",
   "execution_count": 6,
   "id": "8679d26f",
   "metadata": {},
   "outputs": [
    {
     "data": {
      "text/plain": [
       "dtype('float64')"
      ]
     },
     "execution_count": 6,
     "metadata": {},
     "output_type": "execute_result"
    }
   ],
   "source": [
    "arr2.dtype"
   ]
  },
  {
   "cell_type": "markdown",
   "id": "e14cf492",
   "metadata": {},
   "source": [
    "# 2. Create numpy arrays that have zero, one, two, three, Four dimensions respectively.\n",
    "# Also,\n",
    "# print the shape and dimensions of the numpy arrays created above."
   ]
  },
  {
   "cell_type": "code",
   "execution_count": 5,
   "id": "b4bde66e",
   "metadata": {},
   "outputs": [
    {
     "data": {
      "text/plain": [
       "array(5)"
      ]
     },
     "execution_count": 5,
     "metadata": {},
     "output_type": "execute_result"
    }
   ],
   "source": [
    "#zero\n",
    "ze = np.array(5)   #scaler\n",
    "ze"
   ]
  },
  {
   "cell_type": "code",
   "execution_count": 6,
   "id": "1e0c703a",
   "metadata": {},
   "outputs": [
    {
     "data": {
      "text/plain": [
       "0"
      ]
     },
     "execution_count": 6,
     "metadata": {},
     "output_type": "execute_result"
    }
   ],
   "source": [
    "ze.ndim"
   ]
  },
  {
   "cell_type": "code",
   "execution_count": 7,
   "id": "96dc7436",
   "metadata": {},
   "outputs": [
    {
     "data": {
      "text/plain": [
       "array([2, 3, 4, 5])"
      ]
     },
     "execution_count": 7,
     "metadata": {},
     "output_type": "execute_result"
    }
   ],
   "source": [
    "# one d\n",
    "oned = np.array([2,3,4,5])\n",
    "oned"
   ]
  },
  {
   "cell_type": "code",
   "execution_count": 8,
   "id": "c3e4b45b",
   "metadata": {},
   "outputs": [
    {
     "data": {
      "text/plain": [
       "1"
      ]
     },
     "execution_count": 8,
     "metadata": {},
     "output_type": "execute_result"
    }
   ],
   "source": [
    "oned.ndim"
   ]
  },
  {
   "cell_type": "code",
   "execution_count": 11,
   "id": "9a6a45b3",
   "metadata": {},
   "outputs": [
    {
     "data": {
      "text/plain": [
       "array([[1, 2, 3, 4],\n",
       "       [5, 6, 7, 8]])"
      ]
     },
     "execution_count": 11,
     "metadata": {},
     "output_type": "execute_result"
    }
   ],
   "source": [
    "#two\n",
    "twod = np.array([[1,2,3,4],[5,6,7,8]])\n",
    "twod"
   ]
  },
  {
   "cell_type": "code",
   "execution_count": 10,
   "id": "f47cf65d",
   "metadata": {},
   "outputs": [
    {
     "data": {
      "text/plain": [
       "2"
      ]
     },
     "execution_count": 10,
     "metadata": {},
     "output_type": "execute_result"
    }
   ],
   "source": [
    "twod.ndim"
   ]
  },
  {
   "cell_type": "code",
   "execution_count": 12,
   "id": "b54d190c",
   "metadata": {},
   "outputs": [
    {
     "data": {
      "text/plain": [
       "array([[[1, 2, 3, 4],\n",
       "        [1, 2, 3, 4]]])"
      ]
     },
     "execution_count": 12,
     "metadata": {},
     "output_type": "execute_result"
    }
   ],
   "source": [
    "#three d\n",
    "threed = np.array([[[1,2,3,4],[1,2,3,4]]])\n",
    "threed"
   ]
  },
  {
   "cell_type": "code",
   "execution_count": 16,
   "id": "e9fc8bf9",
   "metadata": {},
   "outputs": [
    {
     "data": {
      "text/plain": [
       "(1, 2, 4)"
      ]
     },
     "execution_count": 16,
     "metadata": {},
     "output_type": "execute_result"
    }
   ],
   "source": [
    "threed.shape"
   ]
  },
  {
   "cell_type": "code",
   "execution_count": 13,
   "id": "b51e8989",
   "metadata": {},
   "outputs": [
    {
     "data": {
      "text/plain": [
       "3"
      ]
     },
     "execution_count": 13,
     "metadata": {},
     "output_type": "execute_result"
    }
   ],
   "source": [
    "\n",
    "threed.ndim"
   ]
  },
  {
   "cell_type": "code",
   "execution_count": 14,
   "id": "351fae92",
   "metadata": {},
   "outputs": [
    {
     "data": {
      "text/plain": [
       "array([[[[1, 2, 3, 4],\n",
       "         [1, 2, 3, 4],\n",
       "         [1, 2, 3, 4]]]])"
      ]
     },
     "execution_count": 14,
     "metadata": {},
     "output_type": "execute_result"
    }
   ],
   "source": [
    "fourd = np.array([[[[1,2,3,4],[1,2,3,4],[1,2,3,4]]]])\n",
    "fourd"
   ]
  },
  {
   "cell_type": "code",
   "execution_count": 15,
   "id": "c970cbb4",
   "metadata": {},
   "outputs": [
    {
     "data": {
      "text/plain": [
       "4"
      ]
     },
     "execution_count": 15,
     "metadata": {},
     "output_type": "execute_result"
    }
   ],
   "source": [
    "fourd.ndim"
   ]
  },
  {
   "cell_type": "code",
   "execution_count": 17,
   "id": "de4b9c01",
   "metadata": {},
   "outputs": [
    {
     "data": {
      "text/plain": [
       "(1, 1, 3, 4)"
      ]
     },
     "execution_count": 17,
     "metadata": {},
     "output_type": "execute_result"
    }
   ],
   "source": [
    "fourd.shape"
   ]
  },
  {
   "cell_type": "markdown",
   "id": "2c7afdbc",
   "metadata": {},
   "source": [
    "# 3. Create a 2x3, 3x3, and 4x4 identity matrix using numpy"
   ]
  },
  {
   "cell_type": "code",
   "execution_count": 9,
   "id": "138a487a",
   "metadata": {},
   "outputs": [
    {
     "data": {
      "text/plain": [
       "array([[1., 0., 0.],\n",
       "       [0., 1., 0.],\n",
       "       [0., 0., 1.]])"
      ]
     },
     "execution_count": 9,
     "metadata": {},
     "output_type": "execute_result"
    }
   ],
   "source": [
    "identity_matrix = np.eye(3,3)\n",
    "identity_matrix"
   ]
  },
  {
   "cell_type": "code",
   "execution_count": 11,
   "id": "04cfdb43",
   "metadata": {},
   "outputs": [
    {
     "data": {
      "text/plain": [
       "array([[1., 0., 0.],\n",
       "       [0., 1., 0.],\n",
       "       [0., 0., 1.]])"
      ]
     },
     "execution_count": 11,
     "metadata": {},
     "output_type": "execute_result"
    }
   ],
   "source": [
    "# another way\n",
    "identity_matrix = np.eye(3)  # correct way\n",
    "identity_matrix"
   ]
  },
  {
   "cell_type": "code",
   "execution_count": 12,
   "id": "b849b844",
   "metadata": {},
   "outputs": [
    {
     "data": {
      "text/plain": [
       "array([[1., 0.],\n",
       "       [0., 1.]])"
      ]
     },
     "execution_count": 12,
     "metadata": {},
     "output_type": "execute_result"
    }
   ],
   "source": [
    "ii = np.identity(2)\n",
    "ii"
   ]
  },
  {
   "cell_type": "code",
   "execution_count": 13,
   "id": "1eb1c8c4",
   "metadata": {},
   "outputs": [
    {
     "data": {
      "text/plain": [
       "array([[1, 0, 0],\n",
       "       [0, 1, 0],\n",
       "       [0, 0, 1]])"
      ]
     },
     "execution_count": 13,
     "metadata": {},
     "output_type": "execute_result"
    }
   ],
   "source": [
    "ii = np.identity(3,dtype='int')\n",
    "ii"
   ]
  },
  {
   "cell_type": "code",
   "execution_count": 14,
   "id": "4f5163ec",
   "metadata": {},
   "outputs": [
    {
     "data": {
      "text/plain": [
       "array([[1, 0, 0, 0],\n",
       "       [0, 1, 0, 0],\n",
       "       [0, 0, 1, 0],\n",
       "       [0, 0, 0, 1]])"
      ]
     },
     "execution_count": 14,
     "metadata": {},
     "output_type": "execute_result"
    }
   ],
   "source": [
    "it = np.identity(4,dtype='int')\n",
    "it"
   ]
  },
  {
   "cell_type": "markdown",
   "id": "e7f2e372",
   "metadata": {},
   "source": [
    "# 4. Create a numpy array with shape 2x5 that has all the elements as zero."
   ]
  },
  {
   "cell_type": "code",
   "execution_count": 15,
   "id": "8f4de8ee",
   "metadata": {},
   "outputs": [
    {
     "data": {
      "text/plain": [
       "array([[0., 0., 0., 0., 0.],\n",
       "       [0., 0., 0., 0., 0.]])"
      ]
     },
     "execution_count": 15,
     "metadata": {},
     "output_type": "execute_result"
    }
   ],
   "source": [
    "a1 = np.zeros([2,5])\n",
    "a1"
   ]
  },
  {
   "cell_type": "code",
   "execution_count": 16,
   "id": "cedbbf1b",
   "metadata": {},
   "outputs": [
    {
     "data": {
      "text/plain": [
       "array([[0, 0, 0, 0, 0],\n",
       "       [0, 0, 0, 0, 0]])"
      ]
     },
     "execution_count": 16,
     "metadata": {},
     "output_type": "execute_result"
    }
   ],
   "source": [
    "a1 = np.zeros([2,5],dtype='int')\n",
    "a1"
   ]
  },
  {
   "cell_type": "markdown",
   "id": "a4230e71",
   "metadata": {},
   "source": [
    "# 5. Create a numpy array that has the shape 3x5 and all the elements are 5"
   ]
  },
  {
   "cell_type": "code",
   "execution_count": 17,
   "id": "6e095057",
   "metadata": {},
   "outputs": [
    {
     "data": {
      "text/plain": [
       "array([[5, 5, 5, 5, 5],\n",
       "       [5, 5, 5, 5, 5],\n",
       "       [5, 5, 5, 5, 5]])"
      ]
     },
     "execution_count": 17,
     "metadata": {},
     "output_type": "execute_result"
    }
   ],
   "source": [
    "a2 = np.full((3,5), 5, dtype = int)\n",
    "a2"
   ]
  },
  {
   "cell_type": "markdown",
   "id": "429c9223",
   "metadata": {},
   "source": [
    "# 6. Create a numpy array with random intergers in the range 0-100, and sample size should be 25"
   ]
  },
  {
   "cell_type": "code",
   "execution_count": 21,
   "id": "33d2a589",
   "metadata": {},
   "outputs": [
    {
     "data": {
      "text/plain": [
       "array([22, 18, 99,  9, 87, 83, 81,  5, 77, 68, 90, 88, 34, 91, 30, 88, 98,\n",
       "       57, 97, 76, 68, 64, 32, 90, 14])"
      ]
     },
     "execution_count": 21,
     "metadata": {},
     "output_type": "execute_result"
    }
   ],
   "source": [
    "rr = np.random.randint(0,101,size=25)\n",
    "rr"
   ]
  },
  {
   "cell_type": "code",
   "execution_count": 19,
   "id": "7a8eb635",
   "metadata": {},
   "outputs": [
    {
     "data": {
      "text/plain": [
       "25"
      ]
     },
     "execution_count": 19,
     "metadata": {},
     "output_type": "execute_result"
    }
   ],
   "source": [
    "len(rr)"
   ]
  },
  {
   "cell_type": "markdown",
   "id": "3d23d2f0",
   "metadata": {},
   "source": [
    "# 7. Create a numpy array with a shape 3x3 that has all elements as 1"
   ]
  },
  {
   "cell_type": "code",
   "execution_count": 23,
   "id": "8bc32bf3",
   "metadata": {},
   "outputs": [
    {
     "data": {
      "text/plain": [
       "array([[1, 1, 1],\n",
       "       [1, 1, 1]])"
      ]
     },
     "execution_count": 23,
     "metadata": {},
     "output_type": "execute_result"
    }
   ],
   "source": [
    "s = np.ones((2,3), dtype='int')\n",
    "s"
   ]
  },
  {
   "cell_type": "markdown",
   "id": "854b559c",
   "metadata": {},
   "source": [
    "# 8. Create a numpy array in the shape 2x3 with random integers in the range 0-100.\n",
    "\n",
    "# Reshape the array in the shape 3x2 and print the updated shape of the resultant array."
   ]
  },
  {
   "cell_type": "code",
   "execution_count": 27,
   "id": "a3a1a933",
   "metadata": {},
   "outputs": [
    {
     "data": {
      "text/plain": [
       "array([[13, 88, 16],\n",
       "       [59, 42, 32]])"
      ]
     },
     "execution_count": 27,
     "metadata": {},
     "output_type": "execute_result"
    }
   ],
   "source": [
    "Rs = np.random.randint(0,101,(2,3))\n",
    "Rs"
   ]
  },
  {
   "cell_type": "code",
   "execution_count": 28,
   "id": "bddd4c99",
   "metadata": {},
   "outputs": [
    {
     "data": {
      "text/plain": [
       "array([[13, 88],\n",
       "       [16, 59],\n",
       "       [42, 32]])"
      ]
     },
     "execution_count": 28,
     "metadata": {},
     "output_type": "execute_result"
    }
   ],
   "source": [
    "rss = Rs.reshape(3,2)\n",
    "rss"
   ]
  },
  {
   "cell_type": "markdown",
   "id": "b8ae6930",
   "metadata": {},
   "source": [
    "# 9. 1.Create a random array, with the range 0-1000, with a size 50 and step \n",
    "2. Perform thefollowing operations on the same.\n"
   ]
  },
  {
   "cell_type": "markdown",
   "id": "3e31c69b",
   "metadata": {},
   "source": [
    "a. Print the first ten elements of the array.\n",
    "b. Print the last ten elements of the array\n",
    "c. Print the elements from the indexes 10-25\n",
    "d. Print the element at the index 22\n",
    "e. Print the array using negative indexing.\n",
    "f. Print the last ten elements of the array, using negative indexing."
   ]
  },
  {
   "cell_type": "code",
   "execution_count": 34,
   "id": "3fdf2401",
   "metadata": {},
   "outputs": [
    {
     "data": {
      "text/plain": [
       "array([955, 739, 252, 597, 385, 497, 363, 847, 308, 265, 599,  84, 331,\n",
       "       853, 394, 552, 457,  51, 858,  99, 839, 711,  64, 443, 567, 671,\n",
       "       826, 912, 626, 619, 940, 913, 656, 541, 874, 640, 542, 150, 189,\n",
       "       522, 114, 604, 233, 625, 277, 213, 276, 623, 916, 949])"
      ]
     },
     "execution_count": 34,
     "metadata": {},
     "output_type": "execute_result"
    }
   ],
   "source": [
    "np.random.seed()       # to save the random number\n",
    "arr1 = np.random.randint(0,1001,size=50)\n",
    "arr1"
   ]
  },
  {
   "cell_type": "code",
   "execution_count": 33,
   "id": "3cbd7a6c",
   "metadata": {},
   "outputs": [
    {
     "data": {
      "text/plain": [
       "50"
      ]
     },
     "execution_count": 33,
     "metadata": {},
     "output_type": "execute_result"
    }
   ],
   "source": [
    "len(arr1)"
   ]
  },
  {
   "cell_type": "code",
   "execution_count": 37,
   "id": "5e496a88",
   "metadata": {},
   "outputs": [
    {
     "data": {
      "text/plain": [
       "array([955, 739, 252, 597, 385, 497, 363, 847, 308, 265])"
      ]
     },
     "execution_count": 37,
     "metadata": {},
     "output_type": "execute_result"
    }
   ],
   "source": [
    "#a\n",
    "arr1[:10]"
   ]
  },
  {
   "cell_type": "code",
   "execution_count": 38,
   "id": "722d0166",
   "metadata": {},
   "outputs": [
    {
     "data": {
      "text/plain": [
       "array([114, 604, 233, 625, 277, 213, 276, 623, 916, 949])"
      ]
     },
     "execution_count": 38,
     "metadata": {},
     "output_type": "execute_result"
    }
   ],
   "source": [
    "#b\n",
    "arr1[40:]"
   ]
  },
  {
   "cell_type": "code",
   "execution_count": 39,
   "id": "07b28e08",
   "metadata": {},
   "outputs": [
    {
     "data": {
      "text/plain": [
       "array([599,  84, 331, 853, 394, 552, 457,  51, 858,  99, 839, 711,  64,\n",
       "       443, 567, 671])"
      ]
     },
     "execution_count": 39,
     "metadata": {},
     "output_type": "execute_result"
    }
   ],
   "source": [
    "#c\n",
    "arr1[10:26]"
   ]
  },
  {
   "cell_type": "code",
   "execution_count": 40,
   "id": "f246a0ff",
   "metadata": {},
   "outputs": [
    {
     "data": {
      "text/plain": [
       "64"
      ]
     },
     "execution_count": 40,
     "metadata": {},
     "output_type": "execute_result"
    }
   ],
   "source": [
    "#d\n",
    "arr1[22]"
   ]
  },
  {
   "cell_type": "code",
   "execution_count": 43,
   "id": "c50cfc19",
   "metadata": {},
   "outputs": [
    {
     "data": {
      "text/plain": [
       "array([955, 739, 252, 597, 385, 497, 363, 847, 308, 265, 599,  84, 331,\n",
       "       853, 394, 552, 457,  51, 858,  99, 839, 711,  64, 443, 567, 671,\n",
       "       826, 912, 626, 619, 940, 913, 656, 541, 874, 640, 542, 150, 189,\n",
       "       522, 114, 604, 233, 625, 277, 213, 276, 623, 916, 949])"
      ]
     },
     "execution_count": 43,
     "metadata": {},
     "output_type": "execute_result"
    }
   ],
   "source": [
    "#e\n",
    "arr1[-50:]"
   ]
  },
  {
   "cell_type": "code",
   "execution_count": 45,
   "id": "e1fcf79f",
   "metadata": {},
   "outputs": [
    {
     "data": {
      "text/plain": [
       "array([839, 711,  64, 443, 567, 671, 826, 912, 626, 619, 940, 913, 656,\n",
       "       541, 874, 640, 542, 150, 189, 522, 114, 604, 233, 625])"
      ]
     },
     "execution_count": 45,
     "metadata": {},
     "output_type": "execute_result"
    }
   ],
   "source": [
    "#f\n",
    "arr1[-30:-6]"
   ]
  },
  {
   "cell_type": "markdown",
   "id": "508eee52",
   "metadata": {},
   "source": [
    "## 10. Given a numpy array that has values = [1,2,3,4,5]. Perform the following operations.\n",
    "a. Insert the element 6 at the end of the array.\n",
    "b. Insert the element 10 at the beginning of the array.\n",
    "c. Insert the element 30, before 4.\n",
    "d. Update the element 5 as 50.\n",
    "e. Delete the element 50 in the updated array.\n",
    "f. Create a function to search for the element 30.\n",
    "g. Sort the array in ascending order."
   ]
  },
  {
   "cell_type": "code",
   "execution_count": 46,
   "id": "2cd0077d",
   "metadata": {},
   "outputs": [
    {
     "data": {
      "text/plain": [
       "array([1, 2, 3, 4, 5])"
      ]
     },
     "execution_count": 46,
     "metadata": {},
     "output_type": "execute_result"
    }
   ],
   "source": [
    "a1 = np.array([1,2,3,4,5])\n",
    "a1"
   ]
  },
  {
   "cell_type": "code",
   "execution_count": 48,
   "id": "8dce6f55",
   "metadata": {},
   "outputs": [
    {
     "data": {
      "text/plain": [
       "array([1, 2, 3, 4, 5, 6])"
      ]
     },
     "execution_count": 48,
     "metadata": {},
     "output_type": "execute_result"
    }
   ],
   "source": [
    "#a\n",
    "a1 = np.append(a1,6)\n",
    "a1"
   ]
  },
  {
   "cell_type": "code",
   "execution_count": 49,
   "id": "17467e04",
   "metadata": {},
   "outputs": [
    {
     "data": {
      "text/plain": [
       "array([10,  1,  2,  3,  4,  5,  6])"
      ]
     },
     "execution_count": 49,
     "metadata": {},
     "output_type": "execute_result"
    }
   ],
   "source": [
    "#b\n",
    "a1 = np.insert(a1, 0, 10)\n",
    "a1"
   ]
  },
  {
   "cell_type": "code",
   "execution_count": 50,
   "id": "65b599ef",
   "metadata": {},
   "outputs": [
    {
     "data": {
      "text/plain": [
       "array([10,  1,  2,  3, 30,  4,  5,  6])"
      ]
     },
     "execution_count": 50,
     "metadata": {},
     "output_type": "execute_result"
    }
   ],
   "source": [
    "#c\n",
    "a1 = np.insert(a1, 4, 30)\n",
    "a1"
   ]
  },
  {
   "cell_type": "code",
   "execution_count": 51,
   "id": "b37f928f",
   "metadata": {},
   "outputs": [],
   "source": [
    "#d\n",
    "a1[6]=50"
   ]
  },
  {
   "cell_type": "code",
   "execution_count": 52,
   "id": "16a8d4c4",
   "metadata": {},
   "outputs": [
    {
     "data": {
      "text/plain": [
       "array([10,  1,  2,  3, 30,  4, 50,  6])"
      ]
     },
     "execution_count": 52,
     "metadata": {},
     "output_type": "execute_result"
    }
   ],
   "source": [
    "a1"
   ]
  },
  {
   "cell_type": "code",
   "execution_count": 53,
   "id": "b618dc7b",
   "metadata": {},
   "outputs": [],
   "source": [
    "#e\n",
    "a1 = np.delete(a1,6)"
   ]
  },
  {
   "cell_type": "code",
   "execution_count": 54,
   "id": "33fbf575",
   "metadata": {},
   "outputs": [
    {
     "data": {
      "text/plain": [
       "array([10,  1,  2,  3, 30,  4,  6])"
      ]
     },
     "execution_count": 54,
     "metadata": {},
     "output_type": "execute_result"
    }
   ],
   "source": [
    "a1"
   ]
  },
  {
   "cell_type": "code",
   "execution_count": 55,
   "id": "b0ed51dd",
   "metadata": {},
   "outputs": [],
   "source": [
    "#f\n",
    "def find_30(a1):\n",
    "    for i in range(len(a1)):\n",
    "        if a1[i]==30:\n",
    "            print(i)"
   ]
  },
  {
   "cell_type": "code",
   "execution_count": 56,
   "id": "27990fdf",
   "metadata": {},
   "outputs": [
    {
     "name": "stdout",
     "output_type": "stream",
     "text": [
      "4\n"
     ]
    }
   ],
   "source": [
    "find_30(a1)"
   ]
  },
  {
   "cell_type": "code",
   "execution_count": 58,
   "id": "8ddcdbb3",
   "metadata": {},
   "outputs": [
    {
     "data": {
      "text/plain": [
       "(array([4], dtype=int64),)"
      ]
     },
     "execution_count": 58,
     "metadata": {},
     "output_type": "execute_result"
    }
   ],
   "source": [
    "np.where(a1==30)"
   ]
  },
  {
   "cell_type": "code",
   "execution_count": 59,
   "id": "64b81ae2",
   "metadata": {},
   "outputs": [
    {
     "data": {
      "text/plain": [
       "array([ 1,  2,  3,  4,  6, 10, 30])"
      ]
     },
     "execution_count": 59,
     "metadata": {},
     "output_type": "execute_result"
    }
   ],
   "source": [
    "#g\n",
    "np.sort(a1)"
   ]
  },
  {
   "cell_type": "code",
   "execution_count": 60,
   "id": "feb3561d",
   "metadata": {},
   "outputs": [
    {
     "data": {
      "text/plain": [
       "array([30, 10,  6,  4,  3,  2,  1])"
      ]
     },
     "execution_count": 60,
     "metadata": {},
     "output_type": "execute_result"
    }
   ],
   "source": [
    "np.sort(a1)[::-1]"
   ]
  },
  {
   "cell_type": "code",
   "execution_count": null,
   "id": "ea767dd2",
   "metadata": {},
   "outputs": [],
   "source": []
  }
 ],
 "metadata": {
  "kernelspec": {
   "display_name": "Python 3 (ipykernel)",
   "language": "python",
   "name": "python3"
  },
  "language_info": {
   "codemirror_mode": {
    "name": "ipython",
    "version": 3
   },
   "file_extension": ".py",
   "mimetype": "text/x-python",
   "name": "python",
   "nbconvert_exporter": "python",
   "pygments_lexer": "ipython3",
   "version": "3.11.5"
  }
 },
 "nbformat": 4,
 "nbformat_minor": 5
}
