{
 "cells": [
  {
   "cell_type": "code",
   "execution_count": 2,
   "id": "8cc45a66",
   "metadata": {},
   "outputs": [],
   "source": [
    "import os"
   ]
  },
  {
   "cell_type": "code",
   "execution_count": 3,
   "id": "2284a80e",
   "metadata": {},
   "outputs": [
    {
     "data": {
      "text/plain": [
       "['man_5_security.ipynb',\n",
       " 'ipython.ipynb',\n",
       " '.ipynb_checkpoints',\n",
       " 'man_4_regex.ipynb',\n",
       " 'Untitled.ipynb',\n",
       " 'man_6_OS.ipynb',\n",
       " 'man_1_base.ipynb',\n",
       " 'man_2_bash.ipynb',\n",
       " 'man_3_file.ipynb',\n",
       " 'print_time.py']"
      ]
     },
     "execution_count": 3,
     "metadata": {},
     "output_type": "execute_result"
    }
   ],
   "source": [
    "# Вывод содержимого каталога\n",
    "os.listdir('.')"
   ]
  },
  {
   "cell_type": "code",
   "execution_count": 4,
   "id": "1cd810a3",
   "metadata": {},
   "outputs": [],
   "source": [
    "# Переименование файла или каталога\n",
    "# os.rename('old_name', 'new_name')"
   ]
  },
  {
   "cell_type": "code",
   "execution_count": 5,
   "id": "202a13ef",
   "metadata": {},
   "outputs": [],
   "source": [
    "#  Изменение прав доступа файла или каталога\n",
    "# os.chmod('my_script.py', 0o777)"
   ]
  },
  {
   "cell_type": "code",
   "execution_count": 6,
   "id": "f7316d78",
   "metadata": {},
   "outputs": [],
   "source": [
    "# Создание каталога\n",
    "# os.mkdir('/tmp/holding')"
   ]
  },
  {
   "cell_type": "code",
   "execution_count": 7,
   "id": "98200444",
   "metadata": {},
   "outputs": [],
   "source": [
    "# Рекурсивное создание каталога\n",
    "# os.makedirs('/Users/kbehrman/tmp/scripts/devops')"
   ]
  },
  {
   "cell_type": "code",
   "execution_count": null,
   "id": "12820868",
   "metadata": {},
   "outputs": [],
   "source": [
    "# Удаление файла\n",
    "# os.remove('my_script.py')"
   ]
  },
  {
   "cell_type": "code",
   "execution_count": null,
   "id": "822c7042",
   "metadata": {},
   "outputs": [],
   "source": [
    "# Удаление отдельного каталога\n",
    "# os.rmdir('/tmp/holding') "
   ]
  },
  {
   "cell_type": "code",
   "execution_count": 8,
   "id": "66f2bd27",
   "metadata": {},
   "outputs": [],
   "source": [
    "# Удаление дерева каталогов, начиная с конечного каталога и далее по дереву. \n",
    "# Операция прекращается на первом же непустом каталоге\n",
    "# os.removedirs('/Users/kbehrman/tmp/scripts/devops')"
   ]
  },
  {
   "cell_type": "code",
   "execution_count": 10,
   "id": "3e81139a",
   "metadata": {},
   "outputs": [
    {
     "data": {
      "text/plain": [
       "os.stat_result(st_mode=33204, st_ino=917542, st_dev=64768, st_nlink=1, st_uid=1000, st_gid=1000, st_size=5266, st_atime=1704111353, st_mtime=1704111353, st_ctime=1704111353)"
      ]
     },
     "execution_count": 10,
     "metadata": {},
     "output_type": "execute_result"
    }
   ],
   "source": [
    "# Получение статистики файла или каталога, включающей st_mode, тип файла \n",
    "# и права доступа, а также st_atime — время последнего обращения к данному \n",
    "# элементу.\n",
    "os.stat('man_6_OS.ipynb')"
   ]
  },
  {
   "cell_type": "markdown",
   "id": "fb884428",
   "metadata": {},
   "source": [
    "### Управление файлами и каталогами с помощью os.path"
   ]
  },
  {
   "cell_type": "code",
   "execution_count": 12,
   "id": "12895e6b",
   "metadata": {},
   "outputs": [
    {
     "data": {
      "text/plain": [
       "'/home/tooks/study/data_science/devop/jupiter'"
      ]
     },
     "execution_count": 12,
     "metadata": {},
     "output_type": "execute_result"
    }
   ],
   "source": [
    "# Получаем текущий рабочий каталог\n",
    "current_dir = os.getcwd()\n",
    "current_dir"
   ]
  },
  {
   "cell_type": "code",
   "execution_count": 13,
   "id": "318ae40d",
   "metadata": {},
   "outputs": [
    {
     "data": {
      "text/plain": [
       "('/home/tooks/study/data_science/devop', 'jupiter')"
      ]
     },
     "execution_count": 13,
     "metadata": {},
     "output_type": "execute_result"
    }
   ],
   "source": [
    "# os.path.split отделяет конечный уровень пути от родительского пути\n",
    "os.path.split(current_dir)"
   ]
  },
  {
   "cell_type": "code",
   "execution_count": 14,
   "id": "140fdc4b",
   "metadata": {},
   "outputs": [
    {
     "data": {
      "text/plain": [
       "'/home/tooks/study/data_science/devop'"
      ]
     },
     "execution_count": 14,
     "metadata": {},
     "output_type": "execute_result"
    }
   ],
   "source": [
    "# os.path.dirname возвращает родительский путь.\n",
    "os.path.dirname(current_dir)"
   ]
  },
  {
   "cell_type": "code",
   "execution_count": 15,
   "id": "00db2a4b",
   "metadata": {},
   "outputs": [
    {
     "data": {
      "text/plain": [
       "'jupiter'"
      ]
     },
     "execution_count": 15,
     "metadata": {},
     "output_type": "execute_result"
    }
   ],
   "source": [
    "# os.path.basename возвращает название конечного каталога\n",
    "os.path.basename(current_dir)"
   ]
  },
  {
   "cell_type": "code",
   "execution_count": 17,
   "id": "967ebe0f",
   "metadata": {},
   "outputs": [
    {
     "name": "stdout",
     "output_type": "stream",
     "text": [
      "/home/tooks/study/data_science/devop\n",
      "/home/tooks/study/data_science\n",
      "/home/tooks/study\n",
      "/home/tooks\n",
      "/home\n",
      "/\n"
     ]
    }
   ],
   "source": [
    "# обход дерева каталогов\n",
    "while os.path.basename(current_dir):\n",
    "    current_dir=os.path.dirname(current_dir)\n",
    "    print(current_dir)"
   ]
  },
  {
   "cell_type": "code",
   "execution_count": 18,
   "id": "55e5cd62",
   "metadata": {},
   "outputs": [],
   "source": [
    "# Пример\n",
    "# поиск всех файлов настроек rc по путям заданным в переменной file\n",
    "# в file заносится путь относительно действующего рабочего каталога,\n",
    "# а не абслютный путь путь"
   ]
  },
  {
   "cell_type": "code",
   "execution_count": 42,
   "id": "b485a3bb",
   "metadata": {},
   "outputs": [],
   "source": [
    "# Метод find_rc\n",
    "def find_rc(rc_name=\".examplerc\"):\n",
    "    \n",
    "    # Проверяем переменную среды\n",
    "    var_name = \"EXAMPLERC_DIR\"\n",
    "    # Проверяем, существует ли такая переменная в активной среде\n",
    "    if var_name in os.environ:\n",
    "        print ('var_name', var_name)    \n",
    "        # Формируем путь с указанием названия переменной среды. Он будет выглядеть  $EXAMPLERC_DIR/.examplerc. \n",
    "        var_path = os.path.join(f\"${var_name}\", rc_name)\n",
    "            \n",
    "        # Дополняем переменную среды для вставки ее значения в формируемый путь\n",
    "        config_path = os.path.expandvars(var_path)\n",
    "        print(f\"Checking {config_path}\")\n",
    "            \n",
    "        # Проверяем, существует ли такой файл\n",
    "        if os.path.exists(config_path):\n",
    "            print(config_path)\n",
    "            return config_path\n",
    "        else: \n",
    "            print('переменная в активной среде не существует')\n",
    "    \n",
    "    # Ищем в рабочем каталоге\n",
    "    # Формируем путь на основе рабочего каталога.\n",
    "    config_path = os.path.join(os.getcwd(), rc_name)\n",
    "    print(f\"Checking {config_path}\")\n",
    "    if os.path.exists(config_path):\n",
    "        return config_path\n",
    "    \n",
    "    # Ищем в домашнем каталоге пользователя\n",
    "    # Получаем путь к домашнему каталогу пользователя с помощью функции expanduser\n",
    "    home_dir = os.path.expanduser(\"~/\")\n",
    "    config_path = os.path.join(home_dir, rc_name)\n",
    "    print(f\"Checking {config_path}\")\n",
    "    if os.path.exists(config_path):\n",
    "        return config_path\n",
    "    \n",
    "    # Ищем в каталоге выполняемого файла\n",
    "    # Дополняем хранящийся в file относительный путь до абсолютного\n",
    "    # file, значение которой Python автоматически задает при запуске кода Python из файла\n",
    "    \n",
    "    #file_path = os.path.abspath(__file__)\n",
    "    file_path = os.path.abspath('/home/tooks/study/data_science/devop/jupiter/man_6_OS.ipynb')\n",
    "    \n",
    "    # Получаем путь к содержащему текущий файл каталогу с помощью dirname\n",
    "    \n",
    "    parent_path = os.path.dirname(file_path)\n",
    "    config_path = os.path.join(parent_path, rc_name)\n",
    "    print(f\"Checking {config_path}\")\n",
    "    if os.path.exists(config_path):\n",
    "        return config_path\n",
    "    print(f\"File {rc_name} has not been found\")\n",
    "    "
   ]
  },
  {
   "cell_type": "code",
   "execution_count": 43,
   "id": "e6ce5969",
   "metadata": {},
   "outputs": [
    {
     "name": "stdout",
     "output_type": "stream",
     "text": [
      "Checking /home/tooks/study/data_science/devop/jupiter/.examplerc\n",
      "Checking /home/tooks/.examplerc\n",
      "Checking /home/tooks/study/data_science/devop/jupiter/.examplerc\n",
      "File .examplerc has not been found\n"
     ]
    }
   ],
   "source": [
    "\n",
    "find_rc()"
   ]
  },
  {
   "cell_type": "code",
   "execution_count": 44,
   "id": "5f273054",
   "metadata": {},
   "outputs": [],
   "source": [
    "# Пример \n",
    "# выполним с помощью \n",
    "# path обход дерева каталогов и выведем информацию о размере и последнем \n",
    "# времени доступа ко всем содержащимся в них файлам"
   ]
  },
  {
   "cell_type": "code",
   "execution_count": 52,
   "id": "c1e4da96",
   "metadata": {},
   "outputs": [
    {
     "name": "stdout",
     "output_type": "stream",
     "text": [
      "Checking: /home/tooks/study/data_science/devop\n",
      "Checking: /home/tooks/study/data_science/devop/jupiter\n",
      "File: /home/tooks/study/data_science/devop/jupiter/print_time.py\n",
      "\tlast accessed: 1702220013.3149514\n",
      "\tsize: 76\n"
     ]
    }
   ],
   "source": [
    "#!/usr/bin/env python\n",
    "#import fire\n",
    "import os\n",
    "def walk_path(parent_path):\n",
    "    print(f\"Checking: {parent_path}\")\n",
    "\n",
    "    # os.listdir возвращает содержимое каталога\n",
    "    childs = os.listdir(parent_path)\n",
    "    for child in childs:\n",
    "    \n",
    "    #  Формируем полный путь элемента, находящегося в родительском каталоге\n",
    "        child_path = os.path.join(parent_path, child)\n",
    "        \n",
    "    #  Проверяем, не соответствует ли этот путь файлу\n",
    "    if os.path.isfile(child_path):\n",
    "            \n",
    "        # Получаем время последнего обращения к данному файлу\n",
    "        last_access = os.path.getatime(child_path)\n",
    "            \n",
    "        # Получаем размер данного файла\n",
    "        size = os.path.getsize(child_path)\n",
    "        print(f\"File: {child_path}\")\n",
    "        print(f\"\\tlast accessed: {last_access}\")\n",
    "        print(f\"\\tsize: {size}\")\n",
    "    elif os.path.isdir(child_path):\n",
    "        walk_path(child_path)\n",
    "\n",
    "if __name__ == '__main__':\n",
    "    #fire.Fire()\n",
    "    walk_path('/home/tooks/study/data_science/devop')"
   ]
  },
  {
   "cell_type": "code",
   "execution_count": null,
   "id": "0cc687a7",
   "metadata": {},
   "outputs": [],
   "source": []
  }
 ],
 "metadata": {
  "kernelspec": {
   "display_name": "Python 3 (ipykernel)",
   "language": "python",
   "name": "python3"
  },
  "language_info": {
   "codemirror_mode": {
    "name": "ipython",
    "version": 3
   },
   "file_extension": ".py",
   "mimetype": "text/x-python",
   "name": "python",
   "nbconvert_exporter": "python",
   "pygments_lexer": "ipython3",
   "version": "3.11.5"
  }
 },
 "nbformat": 4,
 "nbformat_minor": 5
}
