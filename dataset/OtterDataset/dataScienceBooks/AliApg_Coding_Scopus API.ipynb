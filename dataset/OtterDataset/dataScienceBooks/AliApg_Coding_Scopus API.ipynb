{
 "cells": [
  {
   "cell_type": "code",
   "execution_count": 1,
   "metadata": {},
   "outputs": [],
   "source": [
    "import json\n",
    "import requests\n",
    "import warnings\n"
   ]
  },
  {
   "cell_type": "markdown",
   "metadata": {},
   "source": [
    "# pybliometrics"
   ]
  },
  {
   "cell_type": "markdown",
   "metadata": {},
   "source": [
    "Enter your API key(s)"
   ]
  },
  {
   "cell_type": "code",
   "execution_count": 2,
   "metadata": {},
   "outputs": [
    {
     "name": "stdout",
     "output_type": "stream",
     "text": [
      "Creating config file at C:\\Users\\AliApg\\.config\\pybliometrics.cfg with default paths...\n"
     ]
    },
    {
     "name": "stdout",
     "output_type": "stream",
     "text": [
      "Configuration file successfully created at C:\\Users\\AliApg\\.config\\pybliometrics.cfg\n",
      "For details see https://pybliometrics.rtfd.io/en/stable/configuration.html.\n",
      "5227c64c7de74597d4c2c75d6eb5bc16\n"
     ]
    }
   ],
   "source": [
    "from pybliometrics import scopus\n",
    "\n",
    "# Needs input for the first run, to create the config file\n",
    "\n",
    "scopus.utils.constants.CONFIG_FILE\n",
    "\n",
    "print(scopus.utils.config['Authentication']['APIKey'])"
   ]
  },
  {
   "cell_type": "code",
   "execution_count": 3,
   "metadata": {},
   "outputs": [
    {
     "name": "stderr",
     "output_type": "stream",
     "text": [
      "C:\\Users\\AliApg\\AppData\\Local\\Temp\\ipykernel_68952\\3988203531.py:6: UserWarning: The requestor is not authorized to access the requested view or fields of the resource\n",
      "  warnings.warn(str(err))\n"
     ]
    }
   ],
   "source": [
    "try:\n",
    "    author_results = scopus.AuthorRetrieval(7004212771)\n",
    "    print(author_results)\n",
    "\n",
    "except Exception as err:\n",
    "    warnings.warn(str(err))\n"
   ]
  },
  {
   "cell_type": "code",
   "execution_count": 35,
   "metadata": {},
   "outputs": [
    {
     "name": "stderr",
     "output_type": "stream",
     "text": [
      "C:\\Users\\AliApg\\AppData\\Local\\Temp\\ipykernel_68952\\1810647757.py:8: UserWarning: Found 96,651 matches.  The query fails to return more than 5000 entries.  Change your query such that it returns fewer entries.\n",
      "  warnings.warn(str(err))\n"
     ]
    }
   ],
   "source": [
    "try:\n",
    "    # results = scopus.ScopusSearch(\"KEY(nlp)\")\n",
    "    results = scopus.ScopusSearch(\"NLP\", subscriber=False)\n",
    "\n",
    "    print(f'{results.get_results_size()} results were found!\\n\\n',results, sep='')\n",
    "\n",
    "except Exception as err:\n",
    "    warnings.warn(str(err))\n"
   ]
  },
  {
   "cell_type": "code",
   "execution_count": 26,
   "metadata": {},
   "outputs": [
    {
     "name": "stdout",
     "output_type": "stream",
     "text": [
      "[True]\n",
      "[True]\n",
      "[True]\n",
      "[True]\n",
      "[]\n",
      "[True]\n",
      "[True]\n",
      "[True]\n",
      "[True]\n",
      "[]\n"
     ]
    }
   ],
   "source": [
    "a = '''2-s2.0-85129252816\n",
    "2-s2.0-85162105000\n",
    "2-s2.0-85154025314\n",
    "2-s2.0-85152003122\n",
    "2-s2.0-85151146663\n",
    "2-s2.0-85134911178\n",
    "2-s2.0-85132821689\n",
    "2-s2.0-85130418556\n",
    "2-s2.0-85122805619\n",
    "2-s2.0-85123435934\n",
    "2-s2.0-85148419013\n",
    "2-s2.0-85113431172\n",
    "2-s2.0-85119472934\n",
    "2-s2.0-85108690885\n",
    "2-s2.0-85072528498\n",
    "2-s2.0-85126716062\n",
    "2-s2.0-85125851265\n",
    "2-s2.0-85124008870\n",
    "2-s2.0-85103509107\n",
    "2-s2.0-85101779605\n",
    "2-s2.0-85095864117\n",
    "2-s2.0-85084481741\n",
    "2-s2.0-85098232302\n",
    "2-s2.0-85082009615\n",
    "2-s2.0-85077293806\n",
    "2-s2.0-85077458726\n",
    "2-s2.0-85070876987\n",
    "2-s2.0-85064582151\n",
    "2-s2.0-85047401887\n",
    "2-s2.0-85046349764\n",
    "2-s2.0-85029379569'''.split('\\n')\n",
    "\n",
    "a = '''2-s2.0-85129252816\n",
    "2-s2.0-85154025314\n",
    "2-s2.0-85130418556\n",
    "2-s2.0-85125851265\n",
    "2-s2.0-85095864117\n",
    "2-s2.0-85084481741\n",
    "2-s2.0-85098232302\n",
    "2-s2.0-85077293806\n",
    "2-s2.0-85070876987\n",
    "2-s2.0-85046349764'''.split('\\n')\n",
    "\n",
    "b = '''2-s2.0-85129252816\n",
    "2-s2.0-85162105000\n",
    "2-s2.0-85154025314\n",
    "2-s2.0-85152003122\n",
    "2-s2.0-85134911178\n",
    "2-s2.0-85132821689\n",
    "2-s2.0-85130418556\n",
    "2-s2.0-85123435934\n",
    "2-s2.0-85148419013\n",
    "2-s2.0-85113431172\n",
    "2-s2.0-85108690885\n",
    "2-s2.0-85072528498\n",
    "2-s2.0-85126716062\n",
    "2-s2.0-85125851265\n",
    "2-s2.0-85103509107\n",
    "2-s2.0-85084481741\n",
    "2-s2.0-85098232302\n",
    "2-s2.0-85082009615\n",
    "2-s2.0-85077293806\n",
    "2-s2.0-85070876987\n",
    "2-s2.0-85128492821\n",
    "2-s2.0-85029379569'''.split()\n",
    "\n",
    "for al in a:\n",
    "    bl = [True for by in b if al==by]\n",
    "    print(bl)"
   ]
  },
  {
   "cell_type": "markdown",
   "metadata": {},
   "source": [
    "# NO lib"
   ]
  },
  {
   "cell_type": "code",
   "execution_count": 5,
   "metadata": {},
   "outputs": [],
   "source": [
    "# API_KEY = '0a8e79cfa41aeded29d60f49ab30d67c'  # API key 1\n",
    "API_KEY = '5227c64c7de74597d4c2c75d6eb5bc16'    # API key 2\n",
    "\n",
    "# API_KEY = '2486a63b5d616aa4de0576feb95e99a5'  # your API key\n"
   ]
  },
  {
   "cell_type": "code",
   "execution_count": 8,
   "metadata": {},
   "outputs": [
    {
     "name": "stdout",
     "output_type": "stream",
     "text": [
      "{\n",
      "    \"service-error\": {\n",
      "        \"status\": {\n",
      "            \"statusCode\": \"AUTHORIZATION_ERROR\",\n",
      "            \"statusText\": \"The requestor is not authorized to access the requested view or fields of the resource\"\n",
      "        }\n",
      "    }\n",
      "}\n"
     ]
    }
   ],
   "source": [
    "scopus_id = 'SCOPUS_ID:85153301600'\n",
    "\n",
    "resp = requests.get(\"http://api.elsevier.com/content/author?author_id=7004212771&view=metrics\",\n",
    "# resp = requests.get(f\"https://api.elsevier.com/content/abstract/citation-count/{scopus_id}\",\n",
    "                    headers={'Accept':'application/json',\n",
    "                             'X-ELS-APIKey': API_KEY})\n",
    "\n",
    "print(json.dumps(resp.json(),\n",
    "                #  sort_keys=True,\n",
    "                 indent=4, separators=(',', ': ')))\n"
   ]
  },
  {
   "cell_type": "code",
   "execution_count": 7,
   "metadata": {},
   "outputs": [
    {
     "name": "stdout",
     "output_type": "stream",
     "text": [
      ",\n",
      "A comparison of gold and molybdenum nanoparticles on TiO2(1 1 0) 1 × 2 reconstructed single crystal surfaces,\n",
      "Journal: Surface Science, Volume: 526, Article number: 323-331, (2003-03-01).\n",
      "doi:10.1016/S0039-6028(02)02679-1 (cited 33 times).\n",
      "\n"
     ]
    }
   ],
   "source": [
    "def get_scopus_info(SCOPUS_ID):\n",
    "    url = f\"http://api.elsevier.com/content/abstract/scopus_id/{SCOPUS_ID}\"\\\n",
    "    \"?field=authors,title,publicationName,volume,issueIdentifier,prism:pageRange\"\\\n",
    "    \",coverDate,article-number,doi,citedby-count,prism:aggregationType\"\n",
    "\n",
    "    resp = requests.get(url,\n",
    "                    headers={'Accept':'application/json',\n",
    "                             'X-ELS-APIKey': API_KEY})\n",
    "\n",
    "    # print(json.dumps(resp.json(),\n",
    "    #              sort_keys=True,\n",
    "    #              indent=4, separators=(',', ': ')))\n",
    "\n",
    "    results = json.loads(resp.text.encode('utf-8'))\n",
    "\n",
    "    ARR = 'abstracts-retrieval-response'\n",
    "    try:\n",
    "        authors=', '.join([au['ce:indexed-name']\n",
    "                           for au in results[ARR]['authors']['author']])\n",
    "    except Exception:\n",
    "        authors= ''\n",
    "\n",
    "    title=results[ARR]['coredata']['dc:title']\n",
    "    journal=results[ARR]['coredata']['prism:publicationName']\n",
    "    volume=results[ARR]['coredata']['prism:volume']\n",
    "    articlenum=(results[ARR]['coredata'].get('prism:pageRange') or\n",
    "                results[ARR]['coredata'].get('article-number'))\n",
    "    date=results[ARR]['coredata']['prism:coverDate']\n",
    "    doi=f\"doi:{results[ARR]['coredata']['prism:doi']}\"\n",
    "    cites=int(results[ARR]['coredata']['citedby-count'])\n",
    "\n",
    "    return f'{authors},\\n{title},\\nJournal: {journal}, Volume: {volume}, '\\\n",
    "    f'Article number: {articlenum}, ({date}).\\n{doi} (cited {cites} times).\\n'\n",
    "\n",
    "print(get_scopus_info('SCOPUS_ID:0037368024'))"
   ]
  }
 ],
 "metadata": {
  "kernelspec": {
   "display_name": "Python 3",
   "language": "python",
   "name": "python3"
  },
  "language_info": {
   "codemirror_mode": {
    "name": "ipython",
    "version": 3
   },
   "file_extension": ".py",
   "mimetype": "text/x-python",
   "name": "python",
   "nbconvert_exporter": "python",
   "pygments_lexer": "ipython3",
   "version": "3.10.7"
  },
  "orig_nbformat": 4
 },
 "nbformat": 4,
 "nbformat_minor": 2
}
