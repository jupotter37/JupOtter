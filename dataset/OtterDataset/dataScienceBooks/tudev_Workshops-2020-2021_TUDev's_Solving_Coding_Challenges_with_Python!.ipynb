{
  "nbformat": 4,
  "nbformat_minor": 0,
  "metadata": {
    "colab": {
      "name": "TUDev's Solving Coding Challenges with Python!.ipynb",
      "provenance": [],
      "collapsed_sections": []
    },
    "kernelspec": {
      "name": "python3",
      "display_name": "Python 3"
    }
  },
  "cells": [
    {
      "cell_type": "markdown",
      "metadata": {
        "id": "bJ9Rh0FqZvg7"
      },
      "source": [
        "# <center>**TUDev's Solving Coding Challenges with Python!**</center>"
      ]
    },
    {
      "cell_type": "markdown",
      "metadata": {
        "id": "kSyg1lWobHPb"
      },
      "source": [
        "**Coding challenges are great not only to hone your computer science skills, but to develop your problem solving skills in general. In many of these challenges, there are multiples ways to solve the problems. These solutions also have varying degrees of efficiency, some will be faster while other will be more memory efficient. You will run into these tradeoffs in industry and academia, which is why it's great to get started now!**"
      ]
    },
    {
      "cell_type": "markdown",
      "metadata": {
        "id": "hJii8Fgbb9-C"
      },
      "source": [
        "**In this workshop we will tackle problems from LeetCode, HackerRank and Project Euler. Let's get started with a relatively easy problem to warm up!**"
      ]
    },
    {
      "cell_type": "code",
      "metadata": {
        "id": "V90bLRXkuSEN",
        "outputId": "d43bc99e-112f-4f5c-86e6-25d66bbf3993",
        "colab": {
          "base_uri": "https://localhost:8080/"
        }
      },
      "source": [
        "#timeit measures the execution time of python code\n",
        "#memory_profiler measures the memory used for python code\n",
        "\n",
        "!pip install memory_profiler\n",
        "%load_ext memory_profiler"
      ],
      "execution_count": null,
      "outputs": [
        {
          "output_type": "stream",
          "text": [
            "Collecting memory_profiler\n",
            "  Downloading https://files.pythonhosted.org/packages/8f/fd/d92b3295657f8837e0177e7b48b32d6651436f0293af42b76d134c3bb489/memory_profiler-0.58.0.tar.gz\n",
            "Requirement already satisfied: psutil in /usr/local/lib/python3.6/dist-packages (from memory_profiler) (5.4.8)\n",
            "Building wheels for collected packages: memory-profiler\n",
            "  Building wheel for memory-profiler (setup.py) ... \u001b[?25l\u001b[?25hdone\n",
            "  Created wheel for memory-profiler: filename=memory_profiler-0.58.0-cp36-none-any.whl size=30181 sha256=1a00c7d35780945b37875ef13b1c59c77b5608c3791a960a9c6a702722890648\n",
            "  Stored in directory: /root/.cache/pip/wheels/02/e4/0b/aaab481fc5dd2a4ea59e78bc7231bb6aae7635ca7ee79f8ae5\n",
            "Successfully built memory-profiler\n",
            "Installing collected packages: memory-profiler\n",
            "Successfully installed memory-profiler-0.58.0\n"
          ],
          "name": "stdout"
        }
      ]
    },
    {
      "cell_type": "markdown",
      "metadata": {
        "id": "QPpAT1j4cZfn"
      },
      "source": [
        "# <center>[**HackerRank - If-Else Challenge**](https://www.hackerrank.com/challenges/py-if-else/problem)</center>\n",
        "\n",
        "### <center>**Task**</center>\n",
        "\n",
        " Given an integer, $n$ , perform the following conditional actions:\n",
        "\n",
        "\n",
        "*   If $n$ is odd, print **Weird**\n",
        "*   If $n$ is even and in the inclusive range of **2** to **5**, print **Not Weird**\n",
        "*   If $n$ is even and in the inclusive range of **6** to **20**, print **Weird**\n",
        "*   If $n$ is even and greater than **20**, print **Not Weird**\n",
        "\n",
        "<br/>\n",
        "\n",
        "### <center>**Input Format**</center>\n",
        "A single line containing a positive integer, $n$.\n",
        "\n",
        "<br/>\n",
        "\n",
        "### <center>**Constraints**</center>\n",
        "$1 \\leq n \\leq 100$\n",
        "\n",
        "<br/>\n",
        "\n",
        "### <center>**Output Format**</center>\n",
        "Print **Weird** if the number is weird. Otherwise, print **Not Weird**.\n"
      ]
    },
    {
      "cell_type": "code",
      "metadata": {
        "id": "4d-8IKP5bPwU",
        "outputId": "fc66d8d4-0398-4764-c35a-a1314d419a38",
        "colab": {
          "base_uri": "https://localhost:8080/"
        }
      },
      "source": [
        "#the first iteration of our code\n",
        "#%%timeit\n",
        "#%%memit\n",
        "#this will take the input\n",
        "if __name__ == '__main__':\n",
        "    n = int(input().strip())\n",
        "\n",
        "    #our solution\n",
        "    if n % 2 == 0 and n in range(2, 6):\n",
        "      print('Not Weird')\n",
        "    elif n in range(6, 21):\n",
        "      print('Weird')\n",
        "    elif n % 2 != 0 and n >= 7:\n",
        "      print('Weird')\n",
        "    elif n % 2 == 0 and n > 20:\n",
        "      print(\"Not Weird\")\n",
        "    else:\n",
        "      print('Weird')"
      ],
      "execution_count": null,
      "outputs": [
        {
          "output_type": "stream",
          "text": [
            "5\n",
            "Weird\n"
          ],
          "name": "stdout"
        }
      ]
    },
    {
      "cell_type": "code",
      "metadata": {
        "id": "B4RUC6TFhFC5",
        "outputId": "990b8605-d76a-4136-f55b-39bac32fbc42",
        "colab": {
          "base_uri": "https://localhost:8080/"
        }
      },
      "source": [
        "#second iteration\n",
        "#%%timeit\n",
        "#%%memit\n",
        "if __name__ == '__main__':\n",
        "    n = int(input().strip())\n",
        "\n",
        "    #our solution\n",
        "    if n % 2 == 0 and n in range(2, 6) or n % 2 == 0 and n > 20:\n",
        "      print('Not Weird')\n",
        "    elif n in range(6, 21) or n % 2 != 0 and n >= 7:\n",
        "      print('Weird')\n",
        "    else:\n",
        "      print('Weird')"
      ],
      "execution_count": null,
      "outputs": [
        {
          "output_type": "stream",
          "text": [
            "5\n",
            "Weird\n"
          ],
          "name": "stdout"
        }
      ]
    },
    {
      "cell_type": "markdown",
      "metadata": {
        "id": "RC4-i2h0qn4H"
      },
      "source": [
        "# Great! Let's try a LeetCode challenge!\n",
        "# <center>[**LeetCode - Number of Steps to Reduce a Number to Zero**](https://leetcode.com/problems/number-of-steps-to-reduce-a-number-to-zero/)</center>\n",
        "\n",
        "### <center>**Task**</center>\n",
        "Given a non-negative integer num, return the number of steps to reduce it to zero. If the current number is even, you have to divide it by 2, otherwise, you have to subtract 1 from it.\n",
        "\n",
        "### **Example 1**:\n",
        "**Input:** num = 14\n",
        "\n",
        "**Output:** 6\n",
        "\n",
        "**Explanation:**\n",
        "\n",
        "Step 1) 14 is even; divide by 2 and obtain 7.\n",
        "\n",
        "Step 2) 7 is odd; subtract 1 and obtain 6.\n",
        "\n",
        "Step 3) 6 is even; divide by 2 and obtain 3.\n",
        "\n",
        "Step 4) 3 is odd; subtract 1 and obtain 2.\n",
        "\n",
        "Step 5) 2 is even; divide by 2 and obtain 1. \n",
        "\n",
        "Step 6) 1 is odd; subtract 1 and obtain 0.\n",
        "\n",
        "<br/>\n",
        "\n",
        "### **Example 2**:\n",
        "**Input:** num = 8\n",
        "\n",
        "**Output:** 4\n",
        "\n",
        "<br/>\n",
        "\n",
        "### **Example 3**:\n",
        "**Input:** num = 123\n",
        "\n",
        "**Output:** 12\n",
        "\n",
        "### **Constraints:**\n",
        "\n",
        "\n",
        "*   $0 \\leq num \\leq 10^6$\n"
      ]
    },
    {
      "cell_type": "code",
      "metadata": {
        "id": "qwIRz_8YkyFa",
        "outputId": "fc436edf-fabf-4557-d054-16388e78913b",
        "colab": {
          "base_uri": "https://localhost:8080/"
        }
      },
      "source": [
        "#first iteration\n",
        "\n",
        "def numberOfSteps(num):\n",
        "  count = 0\n",
        "  while num > 0:\n",
        "    if num % 2 == 0:\n",
        "      num = num/2\n",
        "      count += 1\n",
        "    else:\n",
        "      if num % 2 != 0:\n",
        "        num = num - 1\n",
        "        count += 1\n",
        "  return count\n",
        "\n",
        "#check to see if our function answers the example questions correctly\n",
        "\n",
        "print(numberOfSteps(14),numberOfSteps(8), numberOfSteps(123))\n",
        "\n",
        "#%timeit numberOfSteps(50)\n",
        "#%memit numberOfSteps(50)"
      ],
      "execution_count": null,
      "outputs": [
        {
          "output_type": "stream",
          "text": [
            "6 4 12\n",
            "1000000 loops, best of 3: 1.59 µs per loop\n",
            "peak memory: 106.36 MiB, increment: 0.08 MiB\n"
          ],
          "name": "stdout"
        }
      ]
    },
    {
      "cell_type": "code",
      "metadata": {
        "id": "5ops5LBPkyMf",
        "outputId": "48beefd5-26f9-438c-f022-a60cae087f6f",
        "colab": {
          "base_uri": "https://localhost:8080/"
        }
      },
      "source": [
        "#the first iteration had unnecessary if-statement, after we drop those our code runs faster\n",
        "\n",
        "def numberOfSteps(num):\n",
        "  count = 0\n",
        "  while num > 0:\n",
        "    if num % 2 == 0:\n",
        "      num = num/2\n",
        "      count += 1\n",
        "    else:\n",
        "        num = num - 1\n",
        "        count += 1\n",
        "  return count\n",
        "\n",
        "\n",
        "print(numberOfSteps(14),numberOfSteps(8), numberOfSteps(123))\n",
        "\n",
        "#%timeit numberOfSteps(50)\n",
        "#%memit numberOfSteps(50)\n"
      ],
      "execution_count": null,
      "outputs": [
        {
          "output_type": "stream",
          "text": [
            "6 4 12\n"
          ],
          "name": "stdout"
        }
      ]
    },
    {
      "cell_type": "markdown",
      "metadata": {
        "id": "olKebH10_JhF"
      },
      "source": [
        "# <center>**[LeetCode - Palindrome Number](https://leetcode.com/submissions/detail/370682551/)**</center>\n",
        "\n",
        "### <center>**Task**</center>\n",
        "Determine whether an integer is a palindrome. An integer is a palindrome when it reads the same backward as forward.\n",
        "\n",
        "Follow up: Could you solve it without converting the integer to a string?\n",
        "\n",
        "### **Example 1**:\n",
        "\n",
        "**Input:** x = 121\n",
        "\n",
        "**Output:** True\n",
        "\n",
        "<br/>\n",
        "\n",
        "### **Example 2**:\n",
        "\n",
        "**Input:** x = -121\n",
        "\n",
        "**Output:** False\n",
        "\n",
        "**Explanation:** From left to right, it reads -121. From right to left, it becomes 121-. Therefore it is not a palindrome.\n",
        "\n",
        "<br/>\n",
        "\n",
        "### **Example 3**:\n",
        "\n",
        "**Input:** x = 10\n",
        "\n",
        "**Output:** False\n",
        "\n",
        "**Explanation:** Reads 01 from right to left. Therefore it is not a palindrome.\n",
        "\n",
        "<br/>\n",
        "\n",
        "### **Example 4**:\n",
        "\n",
        "**Input:** x = -101\n",
        "\n",
        "**Output:** False\n",
        "\n",
        "### **Constraints**\n",
        "*   $-2^{31} \\leq x \\leq 2^{31}-1$\n",
        "\n"
      ]
    },
    {
      "cell_type": "code",
      "metadata": {
        "id": "aFleYY2xkySQ",
        "outputId": "e8499947-4501-4931-df48-0de164519999",
        "colab": {
          "base_uri": "https://localhost:8080/"
        }
      },
      "source": [
        "def isPalindrome(x):\n",
        "    x = str(x)\n",
        "    if x == x[::-1]:\n",
        "        return True\n",
        "    else:\n",
        "        return False\n",
        "\n",
        "print(isPalindrome(121))\n",
        "print(isPalindrome(-121))\n",
        "print(isPalindrome(10))\n",
        "print(isPalindrome(-101))\n",
        "\n",
        "#%timeit isPalindrome(121)\n",
        "#%memit isPalindrome(121)"
      ],
      "execution_count": null,
      "outputs": [
        {
          "output_type": "stream",
          "text": [
            "True\n",
            "False\n",
            "False\n",
            "False\n",
            "peak memory: 157.80 MiB, increment: 0.00 MiB\n"
          ],
          "name": "stdout"
        }
      ]
    },
    {
      "cell_type": "markdown",
      "metadata": {
        "id": "QyuMA1QrDX_S"
      },
      "source": [
        "# <center>**[LeetCode - Create Target Array in the Given Order](https://leetcode.com/problems/create-target-array-in-the-given-order/)**</center>\n",
        "\n",
        "### <center>**Task**</center>\n",
        "Given two arrays of integers nums and index. Your task is to create a *target* array under the following rules:\n",
        "\n",
        "\n",
        "\n",
        "*   Initially target array is empty.\n",
        "*   From left to right read nums[i] and index[i], insert at index index[i] the value nums[i] in target array.\n",
        "*   Repeat the previous step until there are no elements to read in nums and index.\n",
        "\n",
        "Return the target array.\n",
        "\n",
        "It is guaranteed that the insertion operations will be valid.\n",
        "\n",
        "### **Example 1**:\n",
        "\n",
        "**Input:** nums = [0,1,2,3,4], index = [0,1,2,2,1]\n",
        "\n",
        "**Output:** [0,4,1,3,2]\n",
        "\n",
        "**Explanation:**\n",
        "\n",
        "| nums  | index  | target  |\n",
        "|---|---|---|\n",
        "| 0  |  0 | [0]  |\n",
        "| 1  |  1 | [0,1]  |\n",
        "| 2  |   2| [0,1,2]  |\n",
        "|  3 |  2 | [0,1,3,2]  |\n",
        "|  4 |  1 | [0,4,1,3,2]  |\n",
        "\n",
        "\n",
        "### **Example 2**:\n",
        "\n",
        "**Input:** nums = [1,2,3,4,0], index = [0,1,2,3,0]\n",
        "\n",
        "**Output:** [0,1,2,3,4]\n",
        "\n",
        "**Explanation:**\n",
        "\n",
        "| nums  | index  | target  |\n",
        "|---|---|---|\n",
        "| 1  |  0 | [1]  |\n",
        "| 2  |  1 | [1,2]  |\n",
        "| 3  |   2| [1,2,3]  |\n",
        "|  4 |  3 | [1,2,3,4]  |\n",
        "|  0 |  0 | [0,1,2,3,4]  |\n",
        "\n",
        "### **Example 3**:\n",
        "\n",
        "**Input:** nums = [1], index = [0]\n",
        "\n",
        "**Output:** [1]\n",
        "\n",
        "### **Constraints**:\n",
        "\n",
        "\n",
        "*   1 <= nums.length, index.length <= 100\n",
        "*   nums.length == index.length\n",
        "*   0 <= nums[i] <= 100\n",
        "*   0 <= index[i] <= i\n"
      ]
    },
    {
      "cell_type": "code",
      "metadata": {
        "id": "hlo3Z5raB5RN",
        "outputId": "4f803451-8389-4981-eb98-7447674d4547",
        "colab": {
          "base_uri": "https://localhost:8080/"
        }
      },
      "source": [
        "def createTargetArray(nums, index):\n",
        "        z = []\n",
        "        for x,y in zip(index,nums):\n",
        "            z.insert(x,y)\n",
        "        return z\n",
        "\n",
        "print(createTargetArray([0,1,2,3,4], [0,1,2,2,1]))\n",
        "print(createTargetArray([1,2,3,4,0], [0,1,2,3,0]))\n",
        "print(createTargetArray([1], [0]))\n",
        "\n",
        "#%timeit createTargetArray([0,1,2,3,4], [0,1,2,2,1])\n",
        "#%memit createTargetArray([0,1,2,3,4], [0,1,2,2,1])"
      ],
      "execution_count": null,
      "outputs": [
        {
          "output_type": "stream",
          "text": [
            "[0, 4, 1, 3, 2]\n",
            "[0, 1, 2, 3, 4]\n",
            "[1]\n"
          ],
          "name": "stdout"
        }
      ]
    },
    {
      "cell_type": "markdown",
      "metadata": {
        "id": "0b-X9uNaJ_2O"
      },
      "source": [
        "# <center>**Finally let's try a question from Project Euler**<center/>\n",
        "\n",
        "# <center>**[Project Euler - Multiples of 3 and 5](https://projecteuler.net/problem=1)**<center/>\n",
        "\n",
        "\n",
        "### <center>**Task**</center>\n",
        "\n",
        "If we list all the natural numbers below 10 that are multiples of 3 or 5, we get 3, 5, 6 and 9. The sum of these multiples is 23.\n",
        "\n",
        "Find the sum of all the multiples of 3 or 5 below 1000.\n"
      ]
    },
    {
      "cell_type": "code",
      "metadata": {
        "id": "sbU4DV5gKAQR",
        "outputId": "13c68ff8-0f97-45a5-b228-8e2c58be6fb8",
        "colab": {
          "base_uri": "https://localhost:8080/"
        }
      },
      "source": [
        "sum([i for i in range(1,1000) if i % 5 == 0 or i % 3 == 0])"
      ],
      "execution_count": null,
      "outputs": [
        {
          "output_type": "execute_result",
          "data": {
            "text/plain": [
              "233168"
            ]
          },
          "metadata": {
            "tags": []
          },
          "execution_count": 11
        }
      ]
    },
    {
      "cell_type": "markdown",
      "metadata": {
        "id": "GXntMGukky1M"
      },
      "source": [
        "# **Programming Challenge Sites**\n",
        "\n",
        "*   [**LeetCode**](https://leetcode.com/)\n",
        "*   [**HackerRank**](https://www.hackerrank.com)\n",
        "*   [**Project Euler**](https://projecteuler.net/)\n",
        "*   [**CodingBat Python**](https://codingbat.com/python)"
      ]
    },
    {
      "cell_type": "markdown",
      "metadata": {
        "id": "8GNGClKhvYjd"
      },
      "source": [
        "# **Resources to improve your coding efficiency!**\n",
        "\n",
        "## **Textbook**\n",
        "*   [**Python Data Science Handbook by Jake VanderPlas**](https://www.oreilly.com/library/view/python-data-science/9781491912126/)\n",
        "\n",
        "## **Website**\n",
        "*   [**Google Colaboratory - Profiling and Timing Code**](https://colab.research.google.com/github/jakevdp/PythonDataScienceHandbook/blob/master/notebooks/01.07-Timing-and-Profiling.ipynb#scrollTo=1hqjyXDIuZJF)\n",
        "\n",
        "## **YouTube**\n",
        "*   [**How to solve coding interview problems by TechLead**](https://www.youtube.com/watch?v=dIrS31CCITM&t=510s&ab_channel=TechLead)\n",
        "*   [**Time space tradeoff by Khan Academy Labs**](https://www.youtube.com/watch?v=9YRw0Yk7N8c&ab_channel=KhanAcademyLabs) (A real world example of how NASA had to deal with a Space-Time Problem)\n",
        "\n",
        "\n",
        "\n",
        "## **Article**\n",
        "\n",
        "*   [**Getting the best of both worlds : Space-time trade-offs in algorithms by Amogh Singhal**](https://medium.com/hackernoon/getting-the-best-of-both-worlds-space-time-trade-offs-in-algorithms-b62116aaf3ef)\n",
        "\n",
        "\n",
        "\n",
        "\n"
      ]
    },
    {
      "cell_type": "markdown",
      "metadata": {
        "id": "Ayzv02brKLgB"
      },
      "source": [
        "<br/>\n",
        "\n",
        "# **Feel free to connect with me on [YouTube](https://www.youtube.com/channel/UCPuDxI3xb_ryUUMfkm0jsRA), [LinkedIn](https://www.linkedin.com/in/adrian-dolinay-frm-96a289106/), [Twitter](https://twitter.com/DolinayG) and [GitHub](https://github.com/ad17171717). Happy coding!**"
      ]
    }
  ]
}