{
 "cells": [
  {
   "metadata": {
    "pycharm": {
     "name": "#%% md\n"
    }
   },
   "cell_type": "markdown",
   "source": [
    "# Kaggle DS and ML Survey 2020"
   ]
  },
  {
   "cell_type": "markdown",
   "source": [
    "%%HTML\n",
    "<style type=\"text/css\">\n",
    "\n",
    "div.h2 {\n",
    "    background-color: firebrick; \n",
    "    color: white; \n",
    "    padding: 8px; \n",
    "    padding-right: 300px; \n",
    "    font-size: 24px; \n",
    "    max-width: 1500px; \n",
    "    margin-top: 50px;\n",
    "    margin-bottom:4px;\n",
    "}\n",
    "\n",
    "</style>"
   ],
   "metadata": {
    "collapsed": false,
    "pycharm": {
     "name": "#%% md\n"
    }
   }
  },
  {
   "metadata": {
    "pycharm": {
     "name": "#%% md\n"
    }
   },
   "cell_type": "markdown",
   "source": [
    "![](https://www.gammanalytics.com/assets/img/services/DataScience.png)"
   ]
  },
  {
   "metadata": {
    "pycharm": {
     "name": "#%% md\n"
    }
   },
   "cell_type": "markdown",
   "source": [
    "Image: https://www.gammanalytics.com"
   ]
  },
  {
   "cell_type": "markdown",
   "source": [
    "%%HTML\n",
    "<style type=\"text/css\">\n",
    "\n",
    "div.h3 {\n",
    "    background-color: dodgerblue; \n",
    "    color: white; \n",
    "    padding: 8px; \n",
    "    padding-right: 300px; \n",
    "    font-size: 20px; \n",
    "    max-width: 1500px; \n",
    "    margin-top: 50px;\n",
    "    margin-bottom:4px;\n",
    "}\n",
    "\n",
    "</style>"
   ],
   "metadata": {
    "collapsed": false,
    "pycharm": {
     "name": "#%% md\n"
    }
   }
  },
  {
   "metadata": {
    "pycharm": {
     "name": "#%% md\n"
    }
   },
   "cell_type": "markdown",
   "source": [
    "<div class=h2>Overview</div>"
   ]
  },
  {
   "metadata": {
    "pycharm": {
     "name": "#%% md\n"
    }
   },
   "cell_type": "markdown",
   "source": [
    "This year, 20,036 Kaggle users told us how they learn and level up, which tools they’re using, and what they recommend. The results include raw numbers about who is working with data, what’s happening with machine learning in different industries, and the best ways for new data scientists to break into the field."
   ]
  },
  {
   "metadata": {
    "pycharm": {
     "name": "#%% md\n"
    }
   },
   "cell_type": "markdown",
   "source": [
    "<div class=h2>Key Results</div>"
   ]
  },
  {
   "metadata": {
    "pycharm": {
     "name": "#%% md\n"
    }
   },
   "cell_type": "markdown",
   "source": [
    "### Here are a few of the top takeaways from this year’s results."
   ]
  },
  {
   "metadata": {
    "pycharm": {
     "name": "#%% md\n"
    }
   },
   "cell_type": "markdown",
   "source": [
    "* Python, the fastest-growing major programming language, is the most used programming language on the survey, followed by SQL, which is standing as the second most used language.\n",
    "* The overwhelming majority of respondents are still men, although this situation is slowly changing.\n",
    "* Around half of respondents reside in Asia. This fact makes Asia the continent with the highest number of Kaggle users.\n",
    "* The most prevailing occupation role is student and the most common degrees respondents have are master's and bachelor's degrees.\n",
    "* India is on top of the countries on the survey, followed by the USA, while countries like Ghana and Ireland are among the ones that have the lowest number of respondents.\n",
    "* When thinking about work experience, we can see that more than half of respondents have experience of less than 5 years.\n",
    "* Respondents were asked about their age. The data indicates that Kaggle users are mostly people in the age from 18 to 30."
   ]
  },
  {
   "metadata": {
    "trusted": true,
    "_kg_hide-output": true,
    "_kg_hide-input": true,
    "pycharm": {
     "name": "#%%\n"
    }
   },
   "cell_type": "code",
   "source": [
    "pip install --upgrade pip"
   ],
   "execution_count": null,
   "outputs": []
  },
  {
   "metadata": {
    "trusted": true,
    "_kg_hide-output": true,
    "_kg_hide-input": true,
    "pycharm": {
     "name": "#%%\n"
    }
   },
   "cell_type": "code",
   "source": [
    "pip install seaborn --upgrade"
   ],
   "execution_count": null,
   "outputs": []
  },
  {
   "metadata": {
    "_kg_hide-output": true,
    "trusted": true,
    "_kg_hide-input": true,
    "pycharm": {
     "name": "#%%\n"
    }
   },
   "cell_type": "code",
   "source": [
    "!pip install pycountry_convert"
   ],
   "execution_count": null,
   "outputs": []
  },
  {
   "metadata": {
    "trusted": true,
    "_kg_hide-input": true,
    "_kg_hide-output": true,
    "pycharm": {
     "name": "#%%\n"
    }
   },
   "cell_type": "code",
   "source": [
    "import pandas as pd\n",
    "import numpy as np\n",
    "import matplotlib.pyplot as plt\n",
    "%matplotlib inline\n",
    "import seaborn as sns\n",
    "print('Seaborn version', sns.__version__)\n",
    "import os\n",
    "%config InlineBackend.figure_format = 'retina'\n",
    "plt.style.use('ggplot')\n",
    "import warnings\n",
    "warnings.filterwarnings('ignore')\n",
    "import pycountry\n",
    "import pycountry_convert as pc\n",
    "from plotly.offline import init_notebook_mode, iplot\n",
    "import plotly.graph_objs as go\n",
    "import plotly.offline as py\n",
    "import textwrap"
   ],
   "execution_count": null,
   "outputs": []
  },
  {
   "metadata": {
    "trusted": true,
    "_kg_hide-input": true,
    "pycharm": {
     "name": "#%%\n"
    }
   },
   "cell_type": "code",
   "source": [
    "data = pd.read_csv(\"../input/kaggle-survey-2020/kaggle_survey_2020_responses.csv\")\n",
    "data.head()"
   ],
   "execution_count": null,
   "outputs": []
  },
  {
   "metadata": {
    "trusted": true,
    "_kg_hide-input": true,
    "pycharm": {
     "name": "#%%\n"
    }
   },
   "cell_type": "code",
   "source": [
    "questions = data.iloc[0, :].T\n",
    "data = data.iloc[1:, :]"
   ],
   "execution_count": null,
   "outputs": []
  },
  {
   "metadata": {
    "pycharm": {
     "name": "#%% md\n"
    }
   },
   "cell_type": "markdown",
   "source": [
    "<div class=h2>Kagglers Profile</div>"
   ]
  },
  {
   "metadata": {
    "pycharm": {
     "name": "#%% md\n"
    }
   },
   "cell_type": "markdown",
   "source": [
    "### What we know about Kaggle users"
   ]
  },
  {
   "metadata": {
    "_kg_hide-input": true,
    "_kg_hide-output": true,
    "trusted": true,
    "pycharm": {
     "name": "#%%\n"
    }
   },
   "cell_type": "code",
   "source": [
    "data['Time from Start to Finish (seconds)'].median()/60"
   ],
   "execution_count": null,
   "outputs": []
  },
  {
   "metadata": {
    "pycharm": {
     "name": "#%% md\n"
    }
   },
   "cell_type": "markdown",
   "source": [
    "<div class=h2>Geography</div>"
   ]
  },
  {
   "metadata": {
    "trusted": true,
    "_kg_hide-input": true,
    "_kg_hide-output": true,
    "pycharm": {
     "name": "#%%\n"
    }
   },
   "cell_type": "code",
   "source": [
    "Map=data.Q3.value_counts().to_frame()\n",
    "def alpha3code(column):\n",
    "    CODE=[]\n",
    "    for country in column:\n",
    "      if country !='Other': \n",
    "        try:\n",
    "            code=pycountry.countries.search_fuzzy(country)[0].alpha_3\n",
    "           # .alpha_3 means 3-letter country code \n",
    "           # .alpha_2 means 2-letter country code\n",
    "            CODE.append(code)\n",
    "        except:\n",
    "            CODE.append('None')\n",
    "      else:\n",
    "        CODE.append('Other')\n",
    "    return CODE\n",
    "# create a column for code \n",
    "Map['CODE']=alpha3code(Map.index)\n",
    "Map.head()"
   ],
   "execution_count": null,
   "outputs": []
  },
  {
   "metadata": {
    "trusted": true,
    "_kg_hide-input": true,
    "_kg_hide-output": true,
    "pycharm": {
     "name": "#%%\n"
    }
   },
   "cell_type": "code",
   "source": [
    "import geopandas\n",
    "from geopandas import GeoDataFrame\n",
    "world = geopandas.read_file(geopandas.datasets.get_path('naturalearth_lowres'))\n",
    "# rename the columns so that we can merge with our data\n",
    "world.columns=['pop_est', 'continent', 'name', 'CODE', 'gdp_md_est', 'geometry']\n",
    "# then merge with our data \n",
    "merge=pd.merge(Map,world, how='right', on='CODE')\n",
    "# merge['Q3'] = merge['Q3'].fillna(0)\n",
    "merge = GeoDataFrame(merge).sort_values(by='Q3',ascending=False)\n",
    "location=pd.read_csv('https://raw.githubusercontent.com/melanieshi0120/COVID-19_global_time_series_panel_data/master/data/countries_latitude_longitude.csv')\n",
    "merge=merge.merge(location,on='name').reset_index()\n",
    "merge.head()"
   ],
   "execution_count": null,
   "outputs": []
  },
  {
   "metadata": {
    "trusted": true,
    "_kg_hide-input": true,
    "pycharm": {
     "name": "#%%\n"
    }
   },
   "cell_type": "code",
   "source": [
    "x=pd.array(merge[merge.name==\"Egypt\"].latitude)[0]\n",
    "merge['latitude'] = merge['latitude'].replace( x,26.8357675)\n",
    "merge['longitude'] = merge['longitude'].replace([-78.183406],30.7956597)"
   ],
   "execution_count": null,
   "outputs": []
  },
  {
   "metadata": {
    "trusted": true,
    "_kg_hide-input": true,
    "pycharm": {
     "name": "#%%\n"
    }
   },
   "cell_type": "code",
   "source": [
    "merge.plot(column='Q3', scheme=\"quantiles\",\n",
    "           figsize=(30, 25), cmap='Reds',\n",
    "           legend=True, missing_kwds={'color': 'grey',\n",
    "           \"hatch\": \"\",\n",
    "           \"label\": \"Missing values\"} )\n",
    "plt.title('2020 Participants',fontsize=30, weight='bold')\n",
    "# add countries names and numbers \n",
    "for i in range(0,20):\n",
    "    plt.text(float(merge.longitude[i]), float(merge.latitude[i]),\n",
    "             \"{}\\n{}\".format(merge.name[i], int(merge.Q3[i])), size=10)"
   ],
   "execution_count": null,
   "outputs": []
  },
  {
   "metadata": {
    "pycharm": {
     "name": "#%% md\n"
    }
   },
   "cell_type": "markdown",
   "source": [
    "The median time spent on the survey for qualified responses was 10.43 minutes. Unfortunately, the survey data contains missing values. This unanticipated limitation should be kept in mind when interpreting survey results."
   ]
  },
  {
   "metadata": {
    "trusted": true,
    "_kg_hide-input": true,
    "pycharm": {
     "name": "#%%\n"
    }
   },
   "cell_type": "code",
   "source": [
    "data['Q3'].replace({'United States of America':\n",
    "                   'USA', 'Viet Nam': 'Vietnam',\n",
    "                   'United Kingdom of Great Britain and Northern Ireland': 'UK',\n",
    "                   'Iran, Islamic Republic of...': 'Iran'}, inplace=True)"
   ],
   "execution_count": null,
   "outputs": []
  },
  {
   "metadata": {
    "trusted": true,
    "_kg_hide-input": true,
    "_kg_hide-output": true,
    "pycharm": {
     "name": "#%%\n"
    }
   },
   "cell_type": "code",
   "source": [
    "data['Q3'].unique()"
   ],
   "execution_count": null,
   "outputs": []
  },
  {
   "metadata": {
    "_kg_hide-input": true,
    "_kg_hide-output": true,
    "trusted": true,
    "pycharm": {
     "name": "#%%\n"
    }
   },
   "cell_type": "code",
   "source": [
    "data['Q3'].count()"
   ],
   "execution_count": null,
   "outputs": []
  },
  {
   "metadata": {
    "_kg_hide-input": true,
    "_kg_hide-output": true,
    "trusted": true,
    "pycharm": {
     "name": "#%%\n"
    }
   },
   "cell_type": "code",
   "source": [
    "data['Q3'].value_counts()"
   ],
   "execution_count": null,
   "outputs": []
  },
  {
   "metadata": {
    "pycharm": {
     "name": "#%% md\n"
    }
   },
   "cell_type": "markdown",
   "source": [
    "<div class=h3>Continents</div>"
   ]
  },
  {
   "metadata": {
    "trusted": true,
    "_kg_hide-input": true,
    "pycharm": {
     "name": "#%%\n"
    }
   },
   "cell_type": "code",
   "source": [
    "countries = np.asarray(data[\"Q3\"])\n",
    "# Continent_code to Continent_names\n",
    "continents = {\n",
    "    'NA': 'North America',\n",
    "    'SA': 'South America', \n",
    "    'AS': 'Asia',\n",
    "    'OC': 'Australia',\n",
    "    'AF': 'Africa',\n",
    "    'EU' : 'Europe',\n",
    "    'na' : 'Others'\n",
    "}\n",
    "\n",
    "# Defininng Function for getting continent code for country.\n",
    "def country_to_continent_code(country):\n",
    "    try:\n",
    "        return pc.country_alpha2_to_continent_code(pc.country_name_to_country_alpha2(country))\n",
    "    except :\n",
    "        return 'na'\n",
    "    \n",
    "#Collecting Continent Information\n",
    "data.insert(2,\"continent\", [continents[country_to_continent_code(country)] for country in countries[:]])"
   ],
   "execution_count": null,
   "outputs": []
  },
  {
   "metadata": {
    "trusted": true,
    "_kg_hide-input": true,
    "pycharm": {
     "name": "#%%\n"
    }
   },
   "cell_type": "code",
   "source": [
    "df_continents = data.groupby([\"continent\"]).sum()"
   ],
   "execution_count": null,
   "outputs": []
  },
  {
   "metadata": {
    "trusted": true,
    "_kg_hide-input": true,
    "pycharm": {
     "name": "#%%\n"
    }
   },
   "cell_type": "code",
   "source": [
    "continents = data['continent'].value_counts().sort_values(ascending=False)\n",
    "plt.figure(figsize=(15,6))\n",
    "color = ['dodgerblue' if (x < max(continents)) else 'firebrick' for x in continents]\n",
    "ax = sns.countplot(x=\"continent\", data=data, order=continents.index, palette=color, saturation=1)\n",
    "plt.xticks(rotation=0, fontsize=15)\n",
    "for p in ax.patches:\n",
    "    width, height = p.get_width(), p.get_height()\n",
    "    x, y = p.get_xy() \n",
    "    ax.annotate(\"{:.2f}%\".format((p.get_height())*100/len(data['continent'])),\n",
    "                (x + width/2, y + height/2), ha='center', va='center',fontsize=12)"
   ],
   "execution_count": null,
   "outputs": []
  },
  {
   "metadata": {
    "pycharm": {
     "name": "#%% md\n"
    }
   },
   "cell_type": "markdown",
   "source": [
    "About 50% of respondents currently reside in Asia, and about 15% of respondents currently reside in Europe. These are the continents with the highest number of respondents."
   ]
  },
  {
   "metadata": {
    "pycharm": {
     "name": "#%% md\n"
    }
   },
   "cell_type": "markdown",
   "source": [
    "<div class=h3>Countries</div>"
   ]
  },
  {
   "metadata": {
    "trusted": true,
    "_kg_hide-input": true,
    "pycharm": {
     "name": "#%%\n"
    }
   },
   "cell_type": "code",
   "source": [
    "countries = data['Q3'].value_counts()\n",
    "plt.figure(figsize=(10, 30))\n",
    "color = ['dodgerblue' if (y < max(countries)) else 'firebrick' for y in countries]\n",
    "ax= sns.countplot(y=\"Q3\", data=data, order=countries.index, palette=color, saturation=1)\n",
    "plt.ylabel('country')\n",
    "plt.yticks(fontsize=15)\n",
    "for p in ax.patches:\n",
    "    width, height = p.get_width(), p.get_height()\n",
    "    x, y = p.get_xy() \n",
    "    ax.annotate(\"{:.2f}%\".format((p.get_width())*100/len(data['Q3'])),\n",
    "                (x + width/2, y + height/2), ha='left', va='center',fontsize=12)"
   ],
   "execution_count": null,
   "outputs": []
  },
  {
   "metadata": {
    "pycharm": {
     "name": "#%% md\n"
    }
   },
   "cell_type": "markdown",
   "source": [
    "More than 29% of Kagglers are from India, and more than 11% of Kagglers are from the USA. Countries like Belarus, Ireland and Ghana are the least represented among kagglers."
   ]
  },
  {
   "metadata": {
    "pycharm": {
     "name": "#%% md\n"
    }
   },
   "cell_type": "markdown",
   "source": [
    "<div class=h2>Demographics</div>"
   ]
  },
  {
   "metadata": {
    "pycharm": {
     "name": "#%% md\n"
    }
   },
   "cell_type": "markdown",
   "source": [
    "<div class=h3>Gender</div>"
   ]
  },
  {
   "metadata": {
    "trusted": true,
    "_kg_hide-input": true,
    "pycharm": {
     "name": "#%%\n"
    }
   },
   "cell_type": "code",
   "source": [
    "colors = ['firebrick', 'dodgerblue', 'black', 'yellow', 'olive'] \n",
    "counts = data['Q2'].value_counts(sort=True)\n",
    "labels = counts.index\n",
    "values = counts.values\n",
    "pie = go.Pie(labels=labels, values=values, marker=dict(colors=colors, line=dict(color='#000000', width=1)))\n",
    "fig = go.Figure(data=[pie])\n",
    "py.iplot(fig)"
   ],
   "execution_count": null,
   "outputs": []
  },
  {
   "metadata": {
    "pycharm": {
     "name": "#%% md\n"
    }
   },
   "cell_type": "markdown",
   "source": [
    "Respondents were asked about their gender identity, and it turned out that globally about 80% of respondents are men. This year more than 19% of survey respondents are women, a little bit up from on last year's survey. This represents improvement in this area, but the continued low proportion points to problems with inclusion in the tech industry in general and on Kaggle in particular."
   ]
  },
  {
   "metadata": {
    "pycharm": {
     "name": "#%% md\n"
    }
   },
   "cell_type": "markdown",
   "source": [
    "<div class=h3>Age</div>"
   ]
  },
  {
   "metadata": {
    "trusted": true,
    "_kg_hide-input": true,
    "pycharm": {
     "name": "#%%\n"
    }
   },
   "cell_type": "code",
   "source": [
    "age = data['Q1'].value_counts()\n",
    "plt.figure(figsize=(15,6))\n",
    "color = ['dodgerblue' if (x < max(age)) else 'firebrick' for x in age]\n",
    "ax= sns.countplot(x=\"Q1\", data=data, order=age.index, palette=color, saturation=1)\n",
    "plt.xlabel('age')\n",
    "plt.xticks(rotation=0, fontsize=15)\n",
    "for p in ax.patches:\n",
    "    width, height = p.get_width(), p.get_height()\n",
    "    x, y = p.get_xy() \n",
    "    ax.annotate(\"{:.2f}%\".format((p.get_height())*100/len(data['Q1'])),\n",
    "                (x + width/2, y + height/2), ha='center', va='center',fontsize=12)"
   ],
   "execution_count": null,
   "outputs": []
  },
  {
   "metadata": {
    "pycharm": {
     "name": "#%% md\n"
    }
   },
   "cell_type": "markdown",
   "source": [
    "About three-fourths of the people who took the survey are younger than 35."
   ]
  },
  {
   "metadata": {
    "pycharm": {
     "name": "#%% md\n"
    }
   },
   "cell_type": "markdown",
   "source": [
    "<div class=h3>Education</div>"
   ]
  },
  {
   "metadata": {
    "trusted": true,
    "_kg_hide-input": true,
    "pycharm": {
     "name": "#%%\n"
    }
   },
   "cell_type": "code",
   "source": [
    "education = data['Q4'].value_counts()\n",
    "plt.figure(figsize=(10, 10))\n",
    "color = ['dodgerblue' if (y < max(education)) else 'firebrick' for y in education]\n",
    "ax= sns.countplot(y=\"Q4\", data=data, order=education.index, palette=color, saturation=1)\n",
    "max_width = 20\n",
    "ax.set_yticklabels(textwrap.fill(y.get_text(), max_width) for y in ax.get_yticklabels())\n",
    "plt.ylabel('education')\n",
    "plt.yticks(rotation=0, fontsize=15)\n",
    "for p in ax.patches:\n",
    "    width, height = p.get_width(), p.get_height()\n",
    "    x, y = p.get_xy() \n",
    "    ax.annotate(\"{:.2f}%\".format((p.get_width())*100/len(data['Q4'])),\n",
    "                (x + width/2, y + height/2), ha='left', va='center', fontsize=12)"
   ],
   "execution_count": null,
   "outputs": []
  },
  {
   "metadata": {
    "pycharm": {
     "name": "#%% md\n"
    }
   },
   "cell_type": "markdown",
   "source": [
    "Worldwide, more than three-fourths of respondents have the equivalent of a bachelor's degree or higher. However, it is not that rare to find accomplished professionals who have not completed a degree."
   ]
  },
  {
   "metadata": {
    "pycharm": {
     "name": "#%% md\n"
    }
   },
   "cell_type": "markdown",
   "source": [
    "<div class=h3>Current Job Role</div>"
   ]
  },
  {
   "metadata": {
    "trusted": true,
    "_kg_hide-input": true,
    "pycharm": {
     "name": "#%%\n"
    }
   },
   "cell_type": "code",
   "source": [
    "job_role = data['Q5'].value_counts()\n",
    "plt.figure(figsize=(10, 10))\n",
    "color = ['dodgerblue' if (y < max(job_role)) else 'firebrick' for y in job_role]\n",
    "ax= sns.countplot(y=\"Q5\", data=data, order=job_role.index, palette=color, saturation=1)\n",
    "max_width = 20\n",
    "ax.set_yticklabels(textwrap.fill(y.get_text(), max_width) for y in ax.get_yticklabels())\n",
    "plt.ylabel('job role')\n",
    "plt.yticks(rotation=0, fontsize=15)\n",
    "for p in ax.patches:\n",
    "    width, height = p.get_width(), p.get_height()\n",
    "    x, y = p.get_xy() \n",
    "    ax.annotate(\"{:.2f}%\".format((p.get_width())*100/len(data['Q5'])),\n",
    "                (x + width/2, y + height/2), ha='left', va='center',fontsize=12)"
   ],
   "execution_count": null,
   "outputs": []
  },
  {
   "metadata": {
    "pycharm": {
     "name": "#%% md\n"
    }
   },
   "cell_type": "markdown",
   "source": [
    "Almost 26% of all respondents are Students. Among professionals, more than 13% of respondents are Data Scientists, and about 10% of respondents are Software Engineers."
   ]
  },
  {
   "metadata": {
    "pycharm": {
     "name": "#%% md\n"
    }
   },
   "cell_type": "markdown",
   "source": [
    "<div class=h3>Code Experience</div>"
   ]
  },
  {
   "metadata": {
    "trusted": true,
    "_kg_hide-input": true,
    "pycharm": {
     "name": "#%%\n"
    }
   },
   "cell_type": "code",
   "source": [
    "experience = data['Q6'].value_counts()\n",
    "plt.figure(figsize=(15, 6))\n",
    "color = ['dodgerblue' if (x < max(experience)) else 'firebrick' for x in experience]\n",
    "ax= sns.countplot(x=\"Q6\", data=data, order=experience.index, palette=color, saturation=1)\n",
    "max_width = 20\n",
    "ax.set_xticklabels(textwrap.fill(x.get_text(), max_width) for x in ax.get_xticklabels())\n",
    "plt.xlabel('code experience')\n",
    "plt.xticks(rotation=0, fontsize=15)\n",
    "for p in ax.patches:\n",
    "    width, height = p.get_width(), p.get_height()\n",
    "    x, y = p.get_xy() \n",
    "    ax.annotate(\"{:.2f}%\".format((p.get_height())*100/len(data['Q5'])),\n",
    "                (x + width/2, y + height/2), ha='center', va='center',fontsize=12)"
   ],
   "execution_count": null,
   "outputs": []
  },
  {
   "metadata": {
    "pycharm": {
     "name": "#%% md\n"
    }
   },
   "cell_type": "markdown",
   "source": [
    "Over 60% of respondents have less than five years of professional coding experience."
   ]
  },
  {
   "metadata": {
    "pycharm": {
     "name": "#%% md\n"
    }
   },
   "cell_type": "markdown",
   "source": [
    "<div class=h3>Compensation</div>"
   ]
  },
  {
   "metadata": {
    "trusted": true,
    "_kg_hide-input": true,
    "pycharm": {
     "name": "#%%\n"
    }
   },
   "cell_type": "code",
   "source": [
    "compensation = data['Q24'].value_counts()\n",
    "plt.figure(figsize=(10, 15))\n",
    "color = ['dodgerblue' if (y < max(compensation)) else 'firebrick' for y in compensation]\n",
    "ax= sns.countplot(y=\"Q24\", data=data, order=compensation.index, palette=color, saturation=1)\n",
    "max_width = 20\n",
    "ax.set_yticklabels(textwrap.fill(y.get_text(), max_width) for y in ax.get_yticklabels())\n",
    "plt.ylabel('compensation')\n",
    "plt.yticks(rotation=0, fontsize=15)\n",
    "for p in ax.patches:\n",
    "    width, height = p.get_width(), p.get_height()\n",
    "    x, y = p.get_xy() \n",
    "    ax.annotate(\"{:.2f}%\".format((p.get_width())*100/len(data['Q24'])),\n",
    "                (x + width/2, y + height/2), ha='left', va='center',fontsize=12)"
   ],
   "execution_count": null,
   "outputs": []
  },
  {
   "metadata": {
    "pycharm": {
     "name": "#%% md\n"
    }
   },
   "cell_type": "markdown",
   "source": [
    "Respondents were asked about their compensation, and the majority of people who answered this question, makes less than 1000 USD a year."
   ]
  },
  {
   "metadata": {
    "pycharm": {
     "name": "#%% md\n"
    }
   },
   "cell_type": "markdown",
   "source": [
    "<div class=h2>Technology</div>"
   ]
  },
  {
   "metadata": {
    "pycharm": {
     "name": "#%% md\n"
    }
   },
   "cell_type": "markdown",
   "source": [
    "<div class=h3>Programming Languages Used on a Regular Basis</div>"
   ]
  },
  {
   "metadata": {
    "trusted": true,
    "_kg_hide-input": true,
    "pycharm": {
     "name": "#%%\n"
    }
   },
   "cell_type": "code",
   "source": [
    "df = data[[i for i in data.columns if 'Q7' in i]]\n",
    "df_all = pd.Series(dtype='int')\n",
    "for i in df.columns:\n",
    "    df_all[df[i].value_counts().index[0]] = df[i].count()\n",
    "df_all = df_all.sort_values(ascending=True)\n",
    "color = ['dodgerblue' if (y<max(df_all)) else 'firebrick' for y in df_all]\n",
    "plt.figure(figsize=(10, 10))\n",
    "ax = df_all.plot(kind='barh', color=color, alpha=1, width=0.8)\n",
    "for p in ax.patches:\n",
    "    width, height = p.get_width(), p.get_height()\n",
    "    x, y = p.get_xy() \n",
    "    ax.annotate(\"{:.2f}%\".format((p.get_width())*100/len(data[[i for i in data.columns if 'Q7' in i]])),\n",
    "                (x + width/2, y + height/2), ha='left', va='center', fontsize=12)\n",
    "plt.yticks(fontsize=15)\n",
    "plt.ylabel('programming languages')"
   ],
   "execution_count": null,
   "outputs": []
  },
  {
   "metadata": {
    "pycharm": {
     "name": "#%% md\n"
    }
   },
   "cell_type": "markdown",
   "source": [
    "Python is the most commonly used programming language. This year, Python was used on a regular basis by almost 80% of respondents. Python is the fastest-growing major programming language today. SQL was used by almost 38% of respondents, and it is the second most commonly used programming language. R is the third most commonly used programming language, and it is preferred by over 20% of respondents. Swift and Julia are the least used programming languages."
   ]
  },
  {
   "metadata": {
    "pycharm": {
     "name": "#%% md\n"
    }
   },
   "cell_type": "markdown",
   "source": [
    "<div class=h3>Programming Languages Recommended for Aspiring Data Scientists</div>"
   ]
  },
  {
   "metadata": {
    "_kg_hide-input": true,
    "trusted": true,
    "pycharm": {
     "name": "#%%\n"
    }
   },
   "cell_type": "code",
   "source": [
    "experience = data['Q8'].value_counts()\n",
    "plt.figure(figsize=(10, 10))\n",
    "color = ['dodgerblue' if (y < max(experience)) else 'firebrick' for y in experience]\n",
    "ax= sns.countplot(y=\"Q8\", data=data, order=experience.index, palette=color, saturation=1)\n",
    "plt.ylabel('programming languages')\n",
    "plt.yticks(fontsize=15)\n",
    "for p in ax.patches:\n",
    "    width, height = p.get_width(), p.get_height()\n",
    "    x, y = p.get_xy() \n",
    "    ax.annotate(\"{:.2f}%\".format((p.get_width())*100/len(data['Q8'])),\n",
    "                (x + width/2, y + height/2), ha='left', va='center',fontsize=12)"
   ],
   "execution_count": null,
   "outputs": []
  },
  {
   "metadata": {
    "pycharm": {
     "name": "#%% md\n"
    }
   },
   "cell_type": "markdown",
   "source": [
    "Globally, over 70% of respondents recommend Python for aspiring Data Scientists, while over 6% of respondents recommend R. SQL is recommended by less than 5% of respondents."
   ]
  },
  {
   "metadata": {
    "pycharm": {
     "name": "#%% md\n"
    }
   },
   "cell_type": "markdown",
   "source": [
    "<div class=h3>Computing Platforms</div>"
   ]
  },
  {
   "metadata": {
    "_kg_hide-input": true,
    "trusted": true,
    "pycharm": {
     "name": "#%%\n"
    }
   },
   "cell_type": "code",
   "source": [
    "experience = data['Q11'].value_counts()\n",
    "plt.figure(figsize=(15,6))\n",
    "color = ['dodgerblue' if (x < max(experience)) else 'firebrick' for x in experience]\n",
    "ax= sns.countplot(x=\"Q11\", data=data, order=experience.index, palette=color, saturation=1)\n",
    "max_width = 20\n",
    "ax.set_xticklabels(textwrap.fill(x.get_text(), max_width) for x in ax.get_xticklabels())\n",
    "plt.xlabel('computing platform')\n",
    "plt.xticks(rotation=0, fontsize=15)\n",
    "for p in ax.patches:\n",
    "    width, height = p.get_width(), p.get_height()\n",
    "    x, y = p.get_xy() \n",
    "    ax.annotate(\"{:.2f}%\".format((p.get_height())*100/len(data['Q11'])),\n",
    "                (x + width/2, y + height/2), ha='center', va='center',fontsize=12)"
   ],
   "execution_count": null,
   "outputs": []
  },
  {
   "metadata": {
    "pycharm": {
     "name": "#%% md\n"
    }
   },
   "cell_type": "markdown",
   "source": [
    "Respondents were asked what computing platforms they use for work. Over 60% say they mainly use a personal computer or laptop, about 12% use a cloud computing platform, and over 4% use a deep learning work station."
   ]
  },
  {
   "metadata": {
    "pycharm": {
     "name": "#%% md\n"
    }
   },
   "cell_type": "markdown",
   "source": [
    "<div class=h3>Hardware Accelerators</div>"
   ]
  },
  {
   "metadata": {
    "trusted": true,
    "_kg_hide-input": true,
    "pycharm": {
     "name": "#%%\n"
    }
   },
   "cell_type": "code",
   "source": [
    "df = data[[i for i in data.columns if 'Q12' in i]]\n",
    "df_all = pd.Series(dtype='int')\n",
    "for i in df.columns:\n",
    "    df_all[df[i].value_counts().index[0]] = df[i].count()\n",
    "df_all = df_all.sort_values(ascending=False)\n",
    "color = ['dodgerblue' if (x<max(df_all)) else 'firebrick' for x in df_all]\n",
    "plt.figure(figsize=(15, 6))\n",
    "ax = df_all.plot(kind='bar', color=color, alpha=1, width=0.8)\n",
    "for p in ax.patches:\n",
    "    width, height = p.get_width(), p.get_height()\n",
    "    x, y = p.get_xy() \n",
    "    ax.annotate(\"{:.2f}%\".format((p.get_height())*100/len(data[[i for i in data.columns if 'Q12' in i]])),\n",
    "                (x + width/2, y + height/2), ha='center', va='center', fontsize=12)\n",
    "plt.xticks(rotation=0, fontsize=15)\n",
    "plt.xlabel('hardware accelerators')"
   ],
   "execution_count": null,
   "outputs": []
  },
  {
   "metadata": {
    "pycharm": {
     "name": "#%% md\n"
    }
   },
   "cell_type": "markdown",
   "source": [
    "When asked how about using hardware accelerators such as GPU or TPU, about 40% of respondents say they are not using any such technology today. Those who are using hardware accelerators most commonly prefer GPUs, and only about 5% of respondents use TPUs."
   ]
  },
  {
   "metadata": {
    "pycharm": {
     "name": "#%% md\n"
    }
   },
   "cell_type": "markdown",
   "source": [
    "<div class=h3>Usage of TPUs</div>"
   ]
  },
  {
   "metadata": {
    "_kg_hide-input": true,
    "trusted": true,
    "pycharm": {
     "name": "#%%\n"
    }
   },
   "cell_type": "code",
   "source": [
    "experience = data['Q13'].value_counts()\n",
    "plt.figure(figsize=(15,6))\n",
    "color = ['dodgerblue' if (x < max(experience)) else 'firebrick' for x in experience]\n",
    "ax= sns.countplot(x=\"Q13\", data=data, order=experience.index, palette=color, saturation=1)\n",
    "plt.xlabel('number of times')\n",
    "plt.xticks(rotation=0, fontsize=15)\n",
    "for p in ax.patches:\n",
    "    width, height = p.get_width(), p.get_height()\n",
    "    x, y = p.get_xy() \n",
    "    ax.annotate(\"{:.2f}%\".format((p.get_height())*100/len(data['Q13'])),\n",
    "                (x + width/2, y + height/2), ha='center', va='center',fontsize=12)"
   ],
   "execution_count": null,
   "outputs": []
  },
  {
   "metadata": {
    "pycharm": {
     "name": "#%% md\n"
    }
   },
   "cell_type": "markdown",
   "source": [
    "Over 60% of respondents never use TPUs."
   ]
  },
  {
   "metadata": {
    "pycharm": {
     "name": "#%% md\n"
    }
   },
   "cell_type": "markdown",
   "source": [
    "<div class=h3>Machine Learning Algorithms</div>"
   ]
  },
  {
   "metadata": {
    "trusted": true,
    "_kg_hide-input": true,
    "pycharm": {
     "name": "#%%\n"
    }
   },
   "cell_type": "code",
   "source": [
    "df = data[[i for i in data.columns if 'Q17' in i]]\n",
    "df_all = pd.Series(dtype='int')\n",
    "for i in df.columns:\n",
    "    df_all[df[i].value_counts().index[0]] = df[i].count()\n",
    "df_all = df_all.sort_values(ascending=True)\n",
    "color = ['dodgerblue' if (y<max(df_all)) else 'firebrick' for y in df_all]\n",
    "plt.figure(figsize=(10, 10))\n",
    "ax = df_all.plot(kind='barh', color=color, alpha=1, width=0.8)\n",
    "max_width = 20\n",
    "ax.set_yticklabels(textwrap.fill(y.get_text(), max_width) for y in ax.get_yticklabels())\n",
    "for p in ax.patches:\n",
    "    width, height = p.get_width(), p.get_height()\n",
    "    x, y = p.get_xy() \n",
    "    ax.annotate(\"{:.2f}%\".format((p.get_width())*100/len(data[[i for i in data.columns if 'Q17' in i]])),\n",
    "                (x + width/2, y + height/2), ha='left', va='center', fontsize=12)\n",
    "plt.yticks(fontsize=15)\n",
    "plt.ylabel('algorithms')"
   ],
   "execution_count": null,
   "outputs": []
  },
  {
   "metadata": {
    "pycharm": {
     "name": "#%% md\n"
    }
   },
   "cell_type": "markdown",
   "source": [
    "When it comes to machine learning algorithms, more than half of respondents use Linear or Logistic Regression, and around 45% use Decision Trees or Random Forests."
   ]
  },
  {
   "metadata": {
    "pycharm": {
     "name": "#%% md\n"
    }
   },
   "cell_type": "markdown",
   "source": [
    "<div class=h3>Favorite Integrated Development Environments (IDEs)</div>"
   ]
  },
  {
   "metadata": {
    "trusted": true,
    "_kg_hide-input": true,
    "pycharm": {
     "name": "#%%\n"
    }
   },
   "cell_type": "code",
   "source": [
    "df = data[[i for i in data.columns if 'Q9' in i]]\n",
    "df_all = pd.Series(dtype='int')\n",
    "for i in df.columns:\n",
    "    df_all[df[i].value_counts().index[0]] = df[i].count()\n",
    "df_all = df_all.sort_values(ascending=True)\n",
    "color = ['dodgerblue' if (y<max(df_all)) else 'firebrick' for y in df_all]\n",
    "plt.figure(figsize=(10, 10))\n",
    "ax = df_all.plot(kind='barh', color=color, alpha=1, width=0.8)\n",
    "max_width = 20\n",
    "ax.set_yticklabels(textwrap.fill(y.get_text(), max_width) for y in ax.get_yticklabels())\n",
    "for p in ax.patches:\n",
    "    width, height = p.get_width(), p.get_height()\n",
    "    x, y = p.get_xy() \n",
    "    ax.annotate(\"{:.2f}%\".format((p.get_width())*100/len(data[[i for i in data.columns if 'Q9' in i]])),\n",
    "                (x + width/2, y + height/2), ha='left', va='center', fontsize=12)\n",
    "plt.yticks(fontsize=15)\n",
    "plt.ylabel('favorite ides')"
   ],
   "execution_count": null,
   "outputs": []
  },
  {
   "metadata": {
    "pycharm": {
     "name": "#%% md\n"
    }
   },
   "cell_type": "markdown",
   "source": [
    "Jupiter is the most loved integrated environment for development, with both Visual Studio Code and Pycharm also highly loved this year. Vim/Emacs and MATLAB are the least loved IDEs."
   ]
  },
  {
   "metadata": {
    "pycharm": {
     "name": "#%% md\n"
    }
   },
   "cell_type": "markdown",
   "source": [
    "<div class=h3>Most Hosted Notebooks</div>"
   ]
  },
  {
   "metadata": {
    "trusted": true,
    "_kg_hide-input": true,
    "pycharm": {
     "name": "#%%\n"
    }
   },
   "cell_type": "code",
   "source": [
    "df = data[[i for i in data.columns if 'Q10' in i]]\n",
    "df_all = pd.Series(dtype='int')\n",
    "for i in df.columns:\n",
    "    df_all[df[i].value_counts().index[0]] = df[i].count()\n",
    "df_all = df_all.sort_values(ascending=True)\n",
    "color = ['dodgerblue' if (y<max(df_all)) else 'firebrick' for y in df_all]\n",
    "plt.figure(figsize=(10, 15))\n",
    "ax = df_all.plot(kind='barh', color=color, alpha=1, width=0.8)\n",
    "max_width = 20\n",
    "ax.set_yticklabels(textwrap.fill(y.get_text(), max_width) for y in ax.get_yticklabels())\n",
    "for p in ax.patches:\n",
    "    width, height = p.get_width(), p.get_height()\n",
    "    x, y = p.get_xy() \n",
    "    ax.annotate(\"{:.2f}%\".format((p.get_width())*100/len(data[[i for i in data.columns if 'Q10' in i]])),\n",
    "                (x + width/2, y + height/2), ha='left', va='center', fontsize=12)\n",
    "plt.yticks(fontsize=15)\n",
    "plt.ylabel('notebooks')"
   ],
   "execution_count": null,
   "outputs": []
  },
  {
   "metadata": {
    "pycharm": {
     "name": "#%% md\n"
    }
   },
   "cell_type": "markdown",
   "source": [
    "Colab Notebooks are the most commonly used notebooks. However, the difference between the number of respondents who use Colab Notebooks and the number of respondents who use Kaggle Notebooks is less than 2%, and a good amount of people use none."
   ]
  },
  {
   "metadata": {
    "pycharm": {
     "name": "#%% md\n"
    }
   },
   "cell_type": "markdown",
   "source": [
    "<div class=h3>Visualization Libraries</div>"
   ]
  },
  {
   "metadata": {
    "trusted": true,
    "_kg_hide-input": true,
    "pycharm": {
     "name": "#%%\n"
    }
   },
   "cell_type": "code",
   "source": [
    "df = data[[i for i in data.columns if 'Q14' in i]]\n",
    "df_all = pd.Series(dtype='int')\n",
    "for i in df.columns:\n",
    "    df_all[df[i].value_counts().index[0]] = df[i].count()\n",
    "df_all = df_all.sort_values(ascending=True)\n",
    "color = ['dodgerblue' if (y<max(df_all)) else 'firebrick' for y in df_all]\n",
    "plt.figure(figsize=(10, 10))\n",
    "ax = df_all.plot(kind='barh', color=color, alpha=1, width=0.8)\n",
    "for p in ax.patches:\n",
    "    width, height = p.get_width(), p.get_height()\n",
    "    x, y = p.get_xy() \n",
    "    ax.annotate(\"{:.2f}%\".format((p.get_width())*100/len(data[[i for i in data.columns if 'Q14' in i]])),\n",
    "                (x + width/2, y + height/2), ha='left', va='center', fontsize=12)\n",
    "plt.yticks(fontsize=15)\n",
    "plt.ylabel('visualization tools')"
   ],
   "execution_count": null,
   "outputs": []
  },
  {
   "metadata": {
    "pycharm": {
     "name": "#%% md\n"
    }
   },
   "cell_type": "markdown",
   "source": [
    "Matplotlib is the number one visualization library kagglers use for work, followed by Seaborn. The third spot is about evenly split between Plotly and Ggplot. Altair is the least popular visualization library on the survey."
   ]
  },
  {
   "metadata": {
    "pycharm": {
     "name": "#%% md\n"
    }
   },
   "cell_type": "markdown",
   "source": [
    "<div class=h3>Machine Learning Frameworks</div>"
   ]
  },
  {
   "metadata": {
    "trusted": true,
    "_kg_hide-input": true,
    "pycharm": {
     "name": "#%%\n"
    }
   },
   "cell_type": "code",
   "source": [
    "df = data[[i for i in data.columns if 'Q16' in i]]\n",
    "df_all = pd.Series(dtype='int')\n",
    "for i in df.columns:\n",
    "    df_all[df[i].value_counts().index[0]] = df[i].count()\n",
    "df_all = df_all.sort_values(ascending=True)\n",
    "color = ['dodgerblue' if (y<max(df_all)) else 'firebrick' for y in df_all]\n",
    "plt.figure(figsize=(10, 10))\n",
    "ax = df_all.plot(kind='barh', color=color, alpha=1, width=0.8)\n",
    "for p in ax.patches:\n",
    "    width, height = p.get_width(), p.get_height()\n",
    "    x, y = p.get_xy() \n",
    "    ax.annotate(\"{:.2f}%\".format((p.get_width())*100/len(data[[i for i in data.columns if 'Q16' in i]])),\n",
    "                (x + width/2, y + height/2), ha='left', va='center', fontsize=12)\n",
    "plt.yticks(fontsize=15)\n",
    "plt.ylabel('ml frameworks')"
   ],
   "execution_count": null,
   "outputs": []
  },
  {
   "metadata": {
    "pycharm": {
     "name": "#%% md\n"
    }
   },
   "cell_type": "markdown",
   "source": [
    "Scikit-learn is a dominant player among machine learning frameworks this year, followed by Tensorflow and Keras."
   ]
  },
  {
   "metadata": {
    "pycharm": {
     "name": "#%% md\n"
    }
   },
   "cell_type": "markdown",
   "source": [
    "<div class=h3>Machine Learning Experience</div>"
   ]
  },
  {
   "metadata": {
    "trusted": true,
    "_kg_hide-input": true,
    "pycharm": {
     "name": "#%%\n"
    }
   },
   "cell_type": "code",
   "source": [
    "ml_experience = data['Q15'].value_counts()\n",
    "plt.figure(figsize=(10, 10))\n",
    "color = ['dodgerblue' if (y < max(ml_experience)) else 'firebrick' for y in ml_experience]\n",
    "ax= sns.countplot(y=\"Q15\", data=data, order=ml_experience.index, palette=color, saturation=1)\n",
    "max_width = 20\n",
    "ax.set_yticklabels(textwrap.fill(y.get_text(), max_width) for y in ax.get_yticklabels())\n",
    "plt.ylabel('ml experience')\n",
    "plt.yticks(fontsize=15)\n",
    "for p in ax.patches:\n",
    "    width, height = p.get_width(), p.get_height()\n",
    "    x, y = p.get_xy() \n",
    "    ax.annotate(\"{:.2f}%\".format((p.get_width())*100/len(data['Q15'])),\n",
    "                (x + width/2, y + height/2), ha='left', va='center',fontsize=12)"
   ],
   "execution_count": null,
   "outputs": []
  },
  {
   "metadata": {
    "pycharm": {
     "name": "#%% md\n"
    }
   },
   "cell_type": "markdown",
   "source": [
    "About half of respondents have less than two years of machine learning experience."
   ]
  },
  {
   "metadata": {
    "pycharm": {
     "name": "#%% md\n"
    }
   },
   "cell_type": "markdown",
   "source": [
    "<div class=h3>Computer Vision Methods</div>"
   ]
  },
  {
   "metadata": {
    "trusted": true,
    "_kg_hide-input": true,
    "pycharm": {
     "name": "#%%\n"
    }
   },
   "cell_type": "code",
   "source": [
    "df = data[[i for i in data.columns if 'Q18' in i]]\n",
    "df_all = pd.Series(dtype='int')\n",
    "for i in df.columns:\n",
    "    df_all[df[i].value_counts().index[0]] = df[i].count()\n",
    "df_all = df_all.sort_values(ascending=True)\n",
    "color = ['dodgerblue' if (y<max(df_all)) else 'firebrick' for y in df_all]\n",
    "plt.figure(figsize=(10, 15))\n",
    "ax = df_all.plot(kind='barh', color=color, alpha=1, width=0.8)\n",
    "max_width = 20\n",
    "ax.set_yticklabels(textwrap.fill(y.get_text(), max_width) for y in ax.get_yticklabels())\n",
    "for p in ax.patches:\n",
    "    width, height = p.get_width(), p.get_height()\n",
    "    x, y = p.get_xy() \n",
    "    ax.annotate(\"{:.2f}%\".format((p.get_width())*100/len(data[[i for i in data.columns if 'Q18' in i]])),\n",
    "                (x + width/2, y + height/2), ha='left', va='center', fontsize=12)\n",
    "plt.yticks(fontsize=15)\n",
    "plt.ylabel('cv methods')"
   ],
   "execution_count": null,
   "outputs": []
  },
  {
   "metadata": {
    "pycharm": {
     "name": "#%% md\n"
    }
   },
   "cell_type": "markdown",
   "source": [
    "Respondents were asked what computer vision methods they use the most, and Image classification and General purpose image/video tools were the most common answers."
   ]
  },
  {
   "metadata": {
    "pycharm": {
     "name": "#%% md\n"
    }
   },
   "cell_type": "markdown",
   "source": [
    "<div class=h3>Natural Language Processing (NLP) Methods</div>"
   ]
  },
  {
   "metadata": {
    "trusted": true,
    "_kg_hide-input": true,
    "pycharm": {
     "name": "#%%\n"
    }
   },
   "cell_type": "code",
   "source": [
    "df = data[[i for i in data.columns if 'Q19' in i]]\n",
    "df_all = pd.Series(dtype='int')\n",
    "for i in df.columns:\n",
    "    df_all[df[i].value_counts().index[0]] = df[i].count()\n",
    "df_all = df_all.sort_values(ascending=True)\n",
    "color = ['dodgerblue' if (y<max(df_all)) else 'firebrick' for y in df_all]\n",
    "plt.figure(figsize=(10, 10))\n",
    "ax = df_all.plot(kind='barh', color=color, alpha=1, width=0.8)\n",
    "max_width = 20\n",
    "ax.set_yticklabels(textwrap.fill(y.get_text(), max_width) for y in ax.get_yticklabels())\n",
    "for p in ax.patches:\n",
    "    width, height = p.get_width(), p.get_height()\n",
    "    x, y = p.get_xy() \n",
    "    ax.annotate(\"{:.2f}%\".format((p.get_width())*100/len(data[[i for i in data.columns if 'Q19' in i]])),\n",
    "                (x + width/2, y + height/2), ha='left', va='center', fontsize=12)\n",
    "plt.yticks(fontsize=15)\n",
    "plt.ylabel('nlp methods')"
   ],
   "execution_count": null,
   "outputs": []
  },
  {
   "metadata": {
    "pycharm": {
     "name": "#%% md\n"
    }
   },
   "cell_type": "markdown",
   "source": [
    "Word embeddings/vectors are the most popular NLP methods."
   ]
  },
  {
   "metadata": {
    "pycharm": {
     "name": "#%% md\n"
    }
   },
   "cell_type": "markdown",
   "source": [
    "<div class=h3>Cloud Computing Platforms</div>"
   ]
  },
  {
   "metadata": {
    "trusted": true,
    "_kg_hide-input": true,
    "pycharm": {
     "name": "#%%\n"
    }
   },
   "cell_type": "code",
   "source": [
    "df = data[[i for i in data.columns if 'Q26' in i]]\n",
    "df_all = pd.Series(dtype='int')\n",
    "for i in df.columns:\n",
    "    df_all[df[i].value_counts().index[0]] = df[i].count()\n",
    "df_all = df_all.sort_values(ascending=True)\n",
    "color = ['dodgerblue' if (y<max(df_all)) else 'firebrick' for y in df_all]\n",
    "plt.figure(figsize=(10, 10))\n",
    "ax = df_all.plot(kind='barh', color=color, alpha=1, width=0.8)\n",
    "max_width = 20\n",
    "ax.set_yticklabels(textwrap.fill(y.get_text(), max_width) for y in ax.get_yticklabels())\n",
    "for p in ax.patches:\n",
    "    width, height = p.get_width(), p.get_height()\n",
    "    x, y = p.get_xy() \n",
    "    ax.annotate(\"{:.2f}%\".format((p.get_width())*100/len(data[[i for i in data.columns if 'Q26' in i]])),\n",
    "                (x + width/2, y + height/2), ha='left', va='center', fontsize=12)\n",
    "plt.yticks(fontsize=15)\n",
    "plt.ylabel('cloud computing platforms')"
   ],
   "execution_count": null,
   "outputs": []
  },
  {
   "metadata": {
    "pycharm": {
     "name": "#%% md\n"
    }
   },
   "cell_type": "markdown",
   "source": [
    "The most common cloud computing platforms for respondents are Amazon Web Services, Google Cloud Platform and Microsoft Azure."
   ]
  },
  {
   "metadata": {
    "pycharm": {
     "name": "#%% md\n"
    }
   },
   "cell_type": "markdown",
   "source": [
    "<div class=h3>Cloud Computing Products</div>"
   ]
  },
  {
   "metadata": {
    "trusted": true,
    "_kg_hide-input": true,
    "pycharm": {
     "name": "#%%\n"
    }
   },
   "cell_type": "code",
   "source": [
    "df = data[[i for i in data.columns if 'Q27' in i]]\n",
    "df_all = pd.Series(dtype='int')\n",
    "for i in df.columns:\n",
    "    df_all[df[i].value_counts().index[0]] = df[i].count()\n",
    "df_all = df_all.sort_values(ascending=True)\n",
    "color = ['dodgerblue' if (y<max(df_all)) else 'firebrick' for y in df_all]\n",
    "plt.figure(figsize=(10, 10))\n",
    "ax = df_all.plot(kind='barh', color=color, alpha=1, width=0.8)\n",
    "max_width = 20\n",
    "ax.set_yticklabels(textwrap.fill(y.get_text(), max_width) for y in ax.get_yticklabels())\n",
    "for p in ax.patches:\n",
    "    width, height = p.get_width(), p.get_height()\n",
    "    x, y = p.get_xy() \n",
    "    ax.annotate(\"{:.2f}%\".format((p.get_width())*100/len(data[[i for i in data.columns if 'Q27' in i]])),\n",
    "                (x + width/2, y + height/2), ha='left', va='center', fontsize=12)\n",
    "plt.yticks(fontsize=15)\n",
    "plt.ylabel('cloud computing products')"
   ],
   "execution_count": null,
   "outputs": []
  },
  {
   "metadata": {
    "pycharm": {
     "name": "#%% md\n"
    }
   },
   "cell_type": "markdown",
   "source": [
    "Google Cloud Compute Engine is the most used cloud computing product."
   ]
  },
  {
   "metadata": {
    "pycharm": {
     "name": "#%% md\n"
    }
   },
   "cell_type": "markdown",
   "source": [
    "<div class=h3>Machine Learning Products</div>"
   ]
  },
  {
   "metadata": {
    "trusted": true,
    "_kg_hide-input": true,
    "pycharm": {
     "name": "#%%\n"
    }
   },
   "cell_type": "code",
   "source": [
    "df = data[[i for i in data.columns if 'Q28' in i]]\n",
    "df_all = pd.Series(dtype='int')\n",
    "for i in df.columns:\n",
    "    df_all[df[i].value_counts().index[0]] = df[i].count()\n",
    "df_all = df_all.sort_values(ascending=True)\n",
    "color = ['dodgerblue' if (y<max(df_all)) else 'firebrick' for y in df_all]\n",
    "plt.figure(figsize=(10, 10))\n",
    "ax = df_all.plot(kind='barh', color=color, alpha=1, width=0.8)\n",
    "max_width = 20\n",
    "ax.set_yticklabels(textwrap.fill(y.get_text(), max_width) for y in ax.get_yticklabels())\n",
    "for p in ax.patches:\n",
    "    width, height = p.get_width(), p.get_height()\n",
    "    x, y = p.get_xy() \n",
    "    ax.annotate(\"{:.2f}%\".format((p.get_width())*100/len(data[[i for i in data.columns if 'Q28' in i]])),\n",
    "                (x + width/2, y + height/2), ha='left', va='center', fontsize=12)\n",
    "plt.yticks(fontsize=15)\n",
    "plt.ylabel('ml products')"
   ],
   "execution_count": null,
   "outputs": []
  },
  {
   "metadata": {
    "pycharm": {
     "name": "#%% md\n"
    }
   },
   "cell_type": "markdown",
   "source": [
    "Google Cloud AI Platform/Google Cloud ML Engine is the most broadly used of the machine learning products."
   ]
  },
  {
   "metadata": {
    "pycharm": {
     "name": "#%% md\n"
    }
   },
   "cell_type": "markdown",
   "source": [
    "<div class=h3>Big Data Products Used on a Regular Basis</div>"
   ]
  },
  {
   "metadata": {
    "trusted": true,
    "_kg_hide-input": true,
    "pycharm": {
     "name": "#%%\n"
    }
   },
   "cell_type": "code",
   "source": [
    "df = data[[i for i in data.columns if 'Q29' in i]]\n",
    "df_all = pd.Series(dtype='int')\n",
    "for i in df.columns:\n",
    "    df_all[df[i].value_counts().index[0]] = df[i].count()\n",
    "df_all = df_all.sort_values(ascending=True)\n",
    "color = ['dodgerblue' if (y<max(df_all)) else 'firebrick' for y in df_all]\n",
    "plt.figure(figsize=(10, 15))\n",
    "ax = df_all.plot(kind='barh', color=color, alpha=1, width=0.8)\n",
    "max_width = 20\n",
    "ax.set_yticklabels(textwrap.fill(y.get_text(), max_width) for y in ax.get_yticklabels())\n",
    "for p in ax.patches:\n",
    "    width, height = p.get_width(), p.get_height()\n",
    "    x, y = p.get_xy() \n",
    "    ax.annotate(\"{:.2f}%\".format((p.get_width())*100/len(data[[i for i in data.columns if 'Q29' in i]])),\n",
    "                (x + width/2, y + height/2), ha='left', va='center', fontsize=12)\n",
    "plt.yticks(fontsize=15)\n",
    "plt.ylabel('big data products')"
   ],
   "execution_count": null,
   "outputs": []
  },
  {
   "metadata": {
    "pycharm": {
     "name": "#%% md\n"
    }
   },
   "cell_type": "markdown",
   "source": [
    "MySQL is the most popular database used on a regular basis. MongoDB has taken the second spot."
   ]
  },
  {
   "metadata": {
    "pycharm": {
     "name": "#%% md\n"
    }
   },
   "cell_type": "markdown",
   "source": [
    "<div class=h3>Big Data Products Used Most Often</div>"
   ]
  },
  {
   "metadata": {
    "_kg_hide-input": true,
    "trusted": true,
    "pycharm": {
     "name": "#%%\n"
    }
   },
   "cell_type": "code",
   "source": [
    "experience = data['Q30'].value_counts()\n",
    "plt.figure(figsize=(10, 15))\n",
    "color = ['dodgerblue' if (y < max(experience)) else 'firebrick' for y in experience]\n",
    "ax= sns.countplot(y=\"Q30\", data=data, order=experience.index, palette=color, saturation=1)\n",
    "max_width = 20\n",
    "ax.set_yticklabels(textwrap.fill(y.get_text(), max_width) for y in ax.get_yticklabels())\n",
    "plt.ylabel('big data products')\n",
    "plt.yticks(fontsize=15)\n",
    "for p in ax.patches:\n",
    "    width, height = p.get_width(), p.get_height()\n",
    "    x, y = p.get_xy() \n",
    "    ax.annotate(\"{:.2f}%\".format((p.get_width())*100/len(data['Q30'])),\n",
    "                (x + width/2, y + height/2), ha='left', va='center',fontsize=12)"
   ],
   "execution_count": null,
   "outputs": []
  },
  {
   "metadata": {
    "pycharm": {
     "name": "#%% md\n"
    }
   },
   "cell_type": "markdown",
   "source": [
    "MySQL is the most commonly used database. PostgreSQL has taken the second spot, edging ahead of Microsoft SQL Server."
   ]
  },
  {
   "metadata": {
    "pycharm": {
     "name": "#%% md\n"
    }
   },
   "cell_type": "markdown",
   "source": [
    "<div class=h3>Business Intelligence Tools Used on a Regular Basis</div>"
   ]
  },
  {
   "metadata": {
    "trusted": true,
    "_kg_hide-input": true,
    "pycharm": {
     "name": "#%%\n"
    }
   },
   "cell_type": "code",
   "source": [
    "df = data[[i for i in data.columns if 'Q31' in i]]\n",
    "df_all = pd.Series(dtype='int')\n",
    "for i in df.columns:\n",
    "    df_all[df[i].value_counts().index[0]] = df[i].count()\n",
    "df_all = df_all.sort_values(ascending=True)\n",
    "color = ['dodgerblue' if (y<max(df_all)) else 'firebrick' for y in df_all]\n",
    "plt.figure(figsize=(10, 10))\n",
    "ax = df_all.plot(kind='barh', color=color, alpha=1, width=0.8)\n",
    "max_width = 20\n",
    "ax.set_yticklabels(textwrap.fill(y.get_text(), max_width) for y in ax.get_yticklabels())\n",
    "for p in ax.patches:\n",
    "    width, height = p.get_width(), p.get_height()\n",
    "    x, y = p.get_xy() \n",
    "    ax.annotate(\"{:.2f}%\".format((p.get_width())*100/len(data[[i for i in data.columns if 'Q31' in i]])),\n",
    "                (x + width/2, y + height/2), ha='left', va='center', fontsize=12)\n",
    "plt.yticks(fontsize=15)\n",
    "plt.ylabel('business ntelligence tools')"
   ],
   "execution_count": null,
   "outputs": []
  },
  {
   "metadata": {
    "pycharm": {
     "name": "#%% md\n"
    }
   },
   "cell_type": "markdown",
   "source": [
    "About 19% of respondents use Tableau on a regular basis, and about 16% use Microsoft Power BI."
   ]
  },
  {
   "metadata": {
    "pycharm": {
     "name": "#%% md\n"
    }
   },
   "cell_type": "markdown",
   "source": [
    "<div class=h3>Business Intelligence Tools Used Most Often</div>"
   ]
  },
  {
   "metadata": {
    "_kg_hide-input": true,
    "trusted": true,
    "pycharm": {
     "name": "#%%\n"
    }
   },
   "cell_type": "code",
   "source": [
    "experience = data['Q32'].value_counts()\n",
    "plt.figure(figsize=(10, 10))\n",
    "color = ['dodgerblue' if (y < max(experience)) else 'firebrick' for y in experience]\n",
    "ax= sns.countplot(y=\"Q32\", data=data, order=experience.index, palette=color, saturation=1)\n",
    "max_width = 20\n",
    "ax.set_yticklabels(textwrap.fill(y.get_text(), max_width) for y in ax.get_yticklabels())\n",
    "plt.ylabel('visualization software')\n",
    "plt.yticks(fontsize=15)\n",
    "for p in ax.patches:\n",
    "    width, height = p.get_width(), p.get_height()\n",
    "    x, y = p.get_xy() \n",
    "    ax.annotate(\"{:.2f}%\".format((p.get_width())*100/len(data['Q32'])),\n",
    "                (x + width/2, y + height/2), ha='left', va='center',fontsize=12)"
   ],
   "execution_count": null,
   "outputs": []
  },
  {
   "metadata": {
    "pycharm": {
     "name": "#%% md\n"
    }
   },
   "cell_type": "markdown",
   "source": [
    "Tableau and Microsoft Power BI are business iintelligence tools that are also used most often."
   ]
  },
  {
   "metadata": {
    "pycharm": {
     "name": "#%% md\n"
    }
   },
   "cell_type": "markdown",
   "source": [
    "<div class=h3>Atomated Machine Learning Tools</div>"
   ]
  },
  {
   "metadata": {
    "trusted": true,
    "_kg_hide-input": true,
    "pycharm": {
     "name": "#%%\n"
    }
   },
   "cell_type": "code",
   "source": [
    "df = data[[i for i in data.columns if 'Q33' in i]]\n",
    "df_all = pd.Series(dtype='int')\n",
    "for i in df.columns:\n",
    "    df_all[df[i].value_counts().index[0]] = df[i].count()\n",
    "df_all = df_all.sort_values(ascending=True)\n",
    "color = ['dodgerblue' if (y<max(df_all)) else 'firebrick' for y in df_all]\n",
    "plt.figure(figsize=(10, 15))\n",
    "ax = df_all.plot(kind='barh', color=color, alpha=1, width=0.8)\n",
    "max_width = 20\n",
    "ax.set_yticklabels(textwrap.fill(y.get_text(), max_width) for y in ax.get_yticklabels())\n",
    "for p in ax.patches:\n",
    "    width, height = p.get_width(), p.get_height()\n",
    "    x, y = p.get_xy() \n",
    "    ax.annotate(\"{:.2f}%\".format((p.get_width())*100/len(data[[i for i in data.columns if 'Q33' in i]])),\n",
    "                (x + width/2, y + height/2), ha='left', va='center', fontsize=12)\n",
    "plt.yticks(fontsize=15)\n",
    "plt.ylabel('automated ml tools')"
   ],
   "execution_count": null,
   "outputs": []
  },
  {
   "metadata": {
    "pycharm": {
     "name": "#%% md\n"
    }
   },
   "cell_type": "markdown",
   "source": [
    "Most respondents on the survey say they are not using any automated machine learning tools, and the most common used are Automated model selection and Automation of full ML pipelines."
   ]
  },
  {
   "metadata": {
    "pycharm": {
     "name": "#%% md\n"
    }
   },
   "cell_type": "markdown",
   "source": [
    "<div class=h3>Automated Machine Learning Tools Used on a Regular Basis</div>"
   ]
  },
  {
   "metadata": {
    "trusted": true,
    "_kg_hide-input": true,
    "pycharm": {
     "name": "#%%\n"
    }
   },
   "cell_type": "code",
   "source": [
    "df = data[[i for i in data.columns if 'Q34' in i]]\n",
    "df_all = pd.Series(dtype='int')\n",
    "for i in df.columns:\n",
    "    df_all[df[i].value_counts().index[0]] = df[i].count()\n",
    "df_all = df_all.sort_values(ascending=True)\n",
    "color = ['dodgerblue' if (y<max(df_all)) else 'firebrick' for y in df_all]\n",
    "plt.figure(figsize=(10, 10))\n",
    "ax = df_all.plot(kind='barh', color=color, alpha=1, width=0.8)\n",
    "max_width = 20\n",
    "ax.set_yticklabels(textwrap.fill(y.get_text(), max_width) for y in ax.get_yticklabels())\n",
    "for p in ax.patches:\n",
    "    width, height = p.get_width(), p.get_height()\n",
    "    x, y = p.get_xy() \n",
    "    ax.annotate(\"{:.2f}%\".format((p.get_width())*100/len(data[[i for i in data.columns if 'Q34' in i]])),\n",
    "                (x + width/2, y + height/2), ha='left', va='center', fontsize=12)\n",
    "plt.yticks(fontsize=15)\n",
    "plt.ylabel('automated ml tools')"
   ],
   "execution_count": null,
   "outputs": []
  },
  {
   "metadata": {
    "pycharm": {
     "name": "#%% md\n"
    }
   },
   "cell_type": "markdown",
   "source": [
    "Auto-Sklearn, Google Cloud AutoML and Auto-Keras are the most commonly used automated ML tools."
   ]
  },
  {
   "metadata": {
    "pycharm": {
     "name": "#%% md\n"
    }
   },
   "cell_type": "markdown",
   "source": [
    "<div class=h3>Tools to Help Machine Learning Experiments</div>"
   ]
  },
  {
   "metadata": {
    "trusted": true,
    "_kg_hide-input": true,
    "pycharm": {
     "name": "#%%\n"
    }
   },
   "cell_type": "code",
   "source": [
    "df = data[[i for i in data.columns if 'Q35' in i]]\n",
    "df_all = pd.Series(dtype='int')\n",
    "for i in df.columns:\n",
    "    df_all[df[i].value_counts().index[0]] = df[i].count()\n",
    "df_all = df_all.sort_values(ascending=True)\n",
    "color = ['dodgerblue' if (y<max(df_all)) else 'firebrick' for y in df_all]\n",
    "plt.figure(figsize=(10, 10))\n",
    "ax = df_all.plot(kind='barh', color=color, alpha=1, width=0.8)\n",
    "for p in ax.patches:\n",
    "    width, height = p.get_width(), p.get_height()\n",
    "    x, y = p.get_xy() \n",
    "    ax.annotate(\"{:.2f}%\".format((p.get_width())*100/len(data[[i for i in data.columns if 'Q35' in i]])),\n",
    "                (x + width/2, y + height/2), ha='left', va='center', fontsize=12)\n",
    "plt.yticks(fontsize=15)\n",
    "plt.ylabel('tools for ml experiments')"
   ],
   "execution_count": null,
   "outputs": []
  },
  {
   "metadata": {
    "pycharm": {
     "name": "#%% md\n"
    }
   },
   "cell_type": "markdown",
   "source": [
    "About 40% of respondents do not use any tools to help ML experiments."
   ]
  },
  {
   "metadata": {
    "pycharm": {
     "name": "#%% md\n"
    }
   },
   "cell_type": "markdown",
   "source": [
    "<div class=h3>Platforms to Share Applications</div>"
   ]
  },
  {
   "metadata": {
    "_kg_hide-input": true,
    "trusted": true,
    "pycharm": {
     "name": "#%%\n"
    }
   },
   "cell_type": "code",
   "source": [
    "df = data[[i for i in data.columns if 'Q36' in i]]\n",
    "df_all = pd.Series(dtype='int')\n",
    "for i in df.columns:\n",
    "    df_all[df[i].value_counts().index[0]] = df[i].count()\n",
    "df_all = df_all.sort_values(ascending=True)\n",
    "color = ['dodgerblue' if (y<max(df_all)) else 'firebrick' for y in df_all]\n",
    "plt.figure(figsize=(10, 10))\n",
    "ax = df_all.plot(kind='barh', color=color, alpha=1, width=0.8)\n",
    "max_width = 20\n",
    "ax.set_yticklabels(textwrap.fill(y.get_text(), max_width) for y in ax.get_yticklabels())\n",
    "for p in ax.patches:\n",
    "    width, height = p.get_width(), p.get_height()\n",
    "    x, y = p.get_xy() \n",
    "    ax.annotate(\"{:.2f}%\".format((p.get_width())*100/len(data[[i for i in data.columns if 'Q36' in i]])),\n",
    "                (x + width/2, y + height/2), ha='left', va='center', fontsize=12)\n",
    "plt.yticks(fontsize=15)\n",
    "plt.ylabel('platforms to share apps')"
   ],
   "execution_count": null,
   "outputs": []
  },
  {
   "metadata": {
    "pycharm": {
     "name": "#%% md\n"
    }
   },
   "cell_type": "markdown",
   "source": [
    "Respondents were asked what social platforms they use to share or deploy their data analysis or machine learning applications, and Github was the most common answer."
   ]
  },
  {
   "metadata": {
    "pycharm": {
     "name": "#%% md\n"
    }
   },
   "cell_type": "markdown",
   "source": [
    "<div class=h3>Platforms for Data Science Courses</div>"
   ]
  },
  {
   "metadata": {
    "_kg_hide-input": true,
    "trusted": true,
    "pycharm": {
     "name": "#%%\n"
    }
   },
   "cell_type": "code",
   "source": [
    "df = data[[i for i in data.columns if 'Q37' in i]]\n",
    "df_all = pd.Series(dtype='int')\n",
    "for i in df.columns:\n",
    "    df_all[df[i].value_counts().index[0]] = df[i].count()\n",
    "df_all = df_all.sort_values(ascending=True)\n",
    "color = ['dodgerblue' if (y<max(df_all)) else 'firebrick' for y in df_all]\n",
    "plt.figure(figsize=(10, 15))\n",
    "ax = df_all.plot(kind='barh', color=color, alpha=1, width=0.8)\n",
    "max_width = 20\n",
    "ax.set_yticklabels(textwrap.fill(y.get_text(), max_width) for y in ax.get_yticklabels())\n",
    "for p in ax.patches:\n",
    "    width, height = p.get_width(), p.get_height()\n",
    "    x, y = p.get_xy() \n",
    "    ax.annotate(\"{:.2f}%\".format((p.get_width())*100/len(data[[i for i in data.columns if 'Q37' in i]])),\n",
    "                (x + width/2, y + height/2), ha='left', va='center', fontsize=12)\n",
    "plt.yticks(fontsize=15)\n",
    "plt.ylabel('platforms for courses')"
   ],
   "execution_count": null,
   "outputs": []
  },
  {
   "metadata": {
    "pycharm": {
     "name": "#%% md\n"
    }
   },
   "cell_type": "markdown",
   "source": [
    "There are many online platforms people use to learn Data Science. The most common choices this year for respondents were Coursera, Kaggle Learn Courses and Udemy."
   ]
  },
  {
   "metadata": {
    "pycharm": {
     "name": "#%% md\n"
    }
   },
   "cell_type": "markdown",
   "source": [
    "<div class=h3>Primary Tools at Work</div>"
   ]
  },
  {
   "metadata": {
    "_kg_hide-input": true,
    "trusted": true,
    "pycharm": {
     "name": "#%%\n"
    }
   },
   "cell_type": "code",
   "source": [
    "experience = data['Q38'].value_counts()\n",
    "plt.figure(figsize=(10, 10))\n",
    "color = ['dodgerblue' if (y < max(experience)) else 'firebrick' for y in experience]\n",
    "ax= sns.countplot(y=\"Q38\", data=data, order=experience.index, palette=color, saturation=1)\n",
    "max_width = 20\n",
    "ax.set_yticklabels(textwrap.fill(y.get_text(), max_width) for y in ax.get_yticklabels())\n",
    "plt.ylabel('primart tools at work')\n",
    "plt.yticks(fontsize=15)\n",
    "for p in ax.patches:\n",
    "    width, height = p.get_width(), p.get_height()\n",
    "    x, y = p.get_xy() \n",
    "    ax.annotate(\"{:.2f}%\".format((p.get_width())*100/len(data['Q38'])),\n",
    "                (x + width/2, y + height/2), ha='left', va='center',fontsize=12)"
   ],
   "execution_count": null,
   "outputs": []
  },
  {
   "metadata": {
    "pycharm": {
     "name": "#%% md\n"
    }
   },
   "cell_type": "markdown",
   "source": [
    "Over half of respondents use local development environment and basic statistical software as primary tools at work."
   ]
  },
  {
   "metadata": {
    "pycharm": {
     "name": "#%% md\n"
    }
   },
   "cell_type": "markdown",
   "source": [
    "<div class=h3>Favorite Data Science Media Sources</div>"
   ]
  },
  {
   "metadata": {
    "_kg_hide-input": true,
    "trusted": true,
    "pycharm": {
     "name": "#%%\n"
    }
   },
   "cell_type": "code",
   "source": [
    "df = data[[i for i in data.columns if 'Q39' in i]]\n",
    "df_all = pd.Series(dtype='int')\n",
    "for i in df.columns:\n",
    "    df_all[df[i].value_counts().index[0]] = df[i].count()\n",
    "df_all = df_all.sort_values(ascending=True)\n",
    "color = ['dodgerblue' if (y<max(df_all)) else 'firebrick' for y in df_all]\n",
    "plt.figure(figsize=(10, 15))\n",
    "ax = df_all.plot(kind='barh', color=color, alpha=1, width=0.8)\n",
    "max_width = 20\n",
    "ax.set_yticklabels(textwrap.fill(y.get_text(), max_width) for y in ax.get_yticklabels())\n",
    "for p in ax.patches:\n",
    "    width, height = p.get_width(), p.get_height()\n",
    "    x, y = p.get_xy() \n",
    "    ax.annotate(\"{:.2f}%\".format((p.get_width())*100/len(data[[i for i in data.columns if 'Q39' in i]])),\n",
    "                (x + width/2, y + height/2), ha='left', va='center', fontsize=12)\n",
    "plt.yticks(fontsize=15)\n",
    "plt.ylabel('favorite media sources')"
   ],
   "execution_count": null,
   "outputs": []
  },
  {
   "metadata": {
    "pycharm": {
     "name": "#%% md\n"
    }
   },
   "cell_type": "markdown",
   "source": [
    "Kaggle is the most loved Data Science media source among respondents, followed close behind by Youtube and blogs. Podcasts and Slack communities are the the least loved Data Science media sources."
   ]
  },
  {
   "metadata": {
    "pycharm": {
     "name": "#%% md\n"
    }
   },
   "cell_type": "markdown",
   "source": [
    "<div class=h2>Company Information</div>"
   ]
  },
  {
   "metadata": {
    "pycharm": {
     "name": "#%% md\n"
    }
   },
   "cell_type": "markdown",
   "source": [
    "<div class=h3>Company Size</div>"
   ]
  },
  {
   "metadata": {
    "_kg_hide-input": true,
    "trusted": true,
    "pycharm": {
     "name": "#%%\n"
    }
   },
   "cell_type": "code",
   "source": [
    "experience = data['Q20'].value_counts()\n",
    "plt.figure(figsize=(15, 6))\n",
    "color = ['dodgerblue' if (x < max(experience)) else 'firebrick' for x in experience]\n",
    "ax= sns.countplot(x=\"Q20\", data=data, order=experience.index, palette=color, saturation=1)\n",
    "max_width = 20\n",
    "ax.set_xticklabels(textwrap.fill(x.get_text(), max_width) for x in ax.get_xticklabels())\n",
    "plt.xlabel('company size')\n",
    "plt.xticks(rotation=0, fontsize=15)\n",
    "for p in ax.patches:\n",
    "    width, height = p.get_width(), p.get_height()\n",
    "    x, y = p.get_xy() \n",
    "    ax.annotate(\"{:.2f}%\".format((p.get_height())*100/len(data['Q20'])),\n",
    "                (x + width/2, y + height/2), ha='center', va='center',fontsize=12)"
   ],
   "execution_count": null,
   "outputs": []
  },
  {
   "metadata": {
    "pycharm": {
     "name": "#%% md\n"
    }
   },
   "cell_type": "markdown",
   "source": [
    "Kagglers work in companies of all sizes, from small to large enterprise organizations. About 30% work at small companies and more than 20% work at large companies."
   ]
  },
  {
   "metadata": {
    "pycharm": {
     "name": "#%% md\n"
    }
   },
   "cell_type": "markdown",
   "source": [
    "<div class=h3>Activities at Work</div>"
   ]
  },
  {
   "metadata": {
    "trusted": true,
    "_kg_hide-input": true,
    "pycharm": {
     "name": "#%%\n"
    }
   },
   "cell_type": "code",
   "source": [
    "df = data[[i for i in data.columns if 'Q23' in i]]\n",
    "df_all = pd.Series(dtype='int')\n",
    "for i in df.columns:\n",
    "    df_all[df[i].value_counts().index[0]] = df[i].count()\n",
    "df_all = df_all.sort_values(ascending=True)\n",
    "color = ['dodgerblue' if (y<max(df_all)) else 'firebrick' for y in df_all]\n",
    "plt.figure(figsize=(10, 15))\n",
    "ax = df_all.plot(kind='barh', color=color, alpha=1, width=0.8)\n",
    "max_width = 20\n",
    "ax.set_yticklabels(textwrap.fill(y.get_text(), max_width) for y in ax.get_yticklabels())\n",
    "for p in ax.patches:\n",
    "    width, height = p.get_width(), p.get_height()\n",
    "    x,y = p.get_xy() \n",
    "    ax.annotate(\"{:.2f}%\".format((p.get_width())*100/len(data[[i for i in data.columns if 'Q23' in i]])),\n",
    "                (x + width/2, y + height/2), ha='left', va='center', fontsize=12)\n",
    "plt.yticks(fontsize=15)\n",
    "plt.ylabel('activities')"
   ],
   "execution_count": null,
   "outputs": []
  },
  {
   "metadata": {
    "pycharm": {
     "name": "#%% md\n"
    }
   },
   "cell_type": "markdown",
   "source": [
    "Different types of organizations apply different sets of activities when considering work. Over 30% of respondents analyze and understand data to influence product or business decisions."
   ]
  },
  {
   "metadata": {
    "pycharm": {
     "name": "#%% md\n"
    }
   },
   "cell_type": "markdown",
   "source": [
    "<div class=h3>People Responsible for Data Science at Work</div>"
   ]
  },
  {
   "metadata": {
    "_kg_hide-input": true,
    "trusted": true,
    "pycharm": {
     "name": "#%%\n"
    }
   },
   "cell_type": "code",
   "source": [
    "experience = data['Q21'].value_counts()\n",
    "plt.figure(figsize=(15,6))\n",
    "color = ['dodgerblue' if (x < max(experience)) else 'firebrick' for x in experience]\n",
    "ax= sns.countplot(x=\"Q21\", data=data, order=experience.index, palette=color, saturation=1)\n",
    "plt.xlabel('people responsible for ds')\n",
    "plt.xticks(rotation=0, fontsize=15)\n",
    "for p in ax.patches:\n",
    "    width, height = p.get_width(), p.get_height()\n",
    "    x, y = p.get_xy() \n",
    "    ax.annotate(\"{:.2f}%\".format((p.get_height())*100/len(data['Q21'])),\n",
    "                (x + width/2, y + height/2), ha='center', va='center',fontsize=12)"
   ],
   "execution_count": null,
   "outputs": []
  },
  {
   "metadata": {
    "pycharm": {
     "name": "#%% md\n"
    }
   },
   "cell_type": "markdown",
   "source": [
    "Over 40% of respondents say that there are less than 10 people responsible for Data Science at their organization."
   ]
  },
  {
   "metadata": {
    "pycharm": {
     "name": "#%% md\n"
    }
   },
   "cell_type": "markdown",
   "source": [
    "<div class=h3>Machine Learning Incorporation at the Company</div>"
   ]
  },
  {
   "metadata": {
    "_kg_hide-input": true,
    "trusted": true,
    "pycharm": {
     "name": "#%%\n"
    }
   },
   "cell_type": "code",
   "source": [
    "experience = data['Q22'].value_counts()\n",
    "plt.figure(figsize=(10, 10))\n",
    "color = ['dodgerblue' if (y < max(experience)) else 'firebrick' for y in experience]\n",
    "ax= sns.countplot(y=\"Q22\", data=data, order=experience.index, palette=color, saturation=1)\n",
    "max_width = 20\n",
    "ax.set_yticklabels(textwrap.fill(y.get_text(), max_width) for y in ax.get_yticklabels())\n",
    "plt.ylabel('ml incorporation')\n",
    "plt.yticks(fontsize=15)\n",
    "for p in ax.patches:\n",
    "    width, height = p.get_width(), p.get_height()\n",
    "    x, y = p.get_xy() \n",
    "    ax.annotate(\"{:.2f}%\".format((p.get_width())*100/len(data['Q22'])),\n",
    "                (x + width/2, y + height/2), ha='left', va='center',fontsize=12)"
   ],
   "execution_count": null,
   "outputs": []
  },
  {
   "metadata": {
    "pycharm": {
     "name": "#%% md\n"
    }
   },
   "cell_type": "markdown",
   "source": [
    "Less than 20% of respondents say that their companies are using ML methods (including putting models into production), and over 20% say their companies are not using ML methods."
   ]
  },
  {
   "metadata": {
    "pycharm": {
     "name": "#%% md\n"
    }
   },
   "cell_type": "markdown",
   "source": [
    "<div class=h3>Money Spent on Machine Learning</div>"
   ]
  },
  {
   "metadata": {
    "_kg_hide-input": true,
    "trusted": true,
    "pycharm": {
     "name": "#%%\n"
    }
   },
   "cell_type": "code",
   "source": [
    "experience = data['Q25'].value_counts()\n",
    "plt.figure(figsize=(15,6))\n",
    "color = ['dodgerblue' if (x < max(experience)) else 'firebrick' for x in experience]\n",
    "ax= sns.countplot(x=\"Q25\", data=data, order=experience.index, palette=color, saturation=1)\n",
    "max_width = 20\n",
    "ax.set_xticklabels(textwrap.fill(x.get_text(), max_width) for x in ax.get_xticklabels())\n",
    "plt.xlabel('money spent on ml')\n",
    "plt.xticks(rotation=0, fontsize=15)\n",
    "for p in ax.patches:\n",
    "    width, height = p.get_width(), p.get_height()\n",
    "    x, y = p.get_xy() \n",
    "    ax.annotate(\"{:.2f}%\".format((p.get_height())*100/len(data['Q25'])),\n",
    "                (x + width/2, y + height/2), ha='center', va='center',fontsize=12)"
   ],
   "execution_count": null,
   "outputs": []
  },
  {
   "metadata": {
    "pycharm": {
     "name": "#%% md\n"
    }
   },
   "cell_type": "markdown",
   "source": [
    "Most respondents on the survey say their organizations are not spending any money on ML."
   ]
  },
  {
   "metadata": {
    "pycharm": {
     "name": "#%% md\n"
    }
   },
   "cell_type": "markdown",
   "source": [
    "# Thanks for reading! ☺"
   ]
  }
 ],
 "metadata": {
  "kernelspec": {
   "language": "python",
   "display_name": "Python 3",
   "name": "python3"
  },
  "language_info": {
   "pygments_lexer": "ipython3",
   "nbconvert_exporter": "python",
   "version": "3.6.4",
   "file_extension": ".py",
   "codemirror_mode": {
    "name": "ipython",
    "version": 3
   },
   "name": "python",
   "mimetype": "text/x-python"
  }
 },
 "nbformat": 4,
 "nbformat_minor": 4
}