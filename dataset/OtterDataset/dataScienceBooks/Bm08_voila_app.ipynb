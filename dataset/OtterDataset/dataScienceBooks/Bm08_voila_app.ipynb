{
 "cells": [
  {
   "cell_type": "code",
   "execution_count": 36,
   "id": "alike-practitioner",
   "metadata": {},
   "outputs": [],
   "source": [
    "import pandas as pd\n",
    "pd.set_option('display.max_rows', 3000)\n",
    "import numpy as np\n",
    "import matplotlib.pyplot as plt\n",
    "from datetime import timedelta\n",
    "from statsmodels.tsa.statespace import sarimax\n",
    "\n",
    "raw_excel_data = pd.read_csv('E:/DataScience(Project)/delhi.csv')\n",
    "df_complex=raw_excel_data.copy()\n",
    "\n",
    "df_complex.set_index(\"date\", inplace=True)\n",
    "df=df_complex.copy()\n"
   ]
  },
  {
   "cell_type": "code",
   "execution_count": 37,
   "id": "dated-logic",
   "metadata": {},
   "outputs": [],
   "source": [
    "import pickle"
   ]
  },
  {
   "cell_type": "code",
   "execution_count": 38,
   "id": "finnish-torture",
   "metadata": {},
   "outputs": [],
   "source": [
    "# create SARIMAX model with previously determined lags\n",
    "sar_m = sarimax.SARIMAX(df.values,\n",
    "                        trend='n', \n",
    "                        order=(1,0,1), \n",
    "                        seasonal_order=(1, 1, 1, 24), \n",
    "                        simple_differencing=False).fit()"
   ]
  },
  {
   "cell_type": "code",
   "execution_count": 39,
   "id": "about-action",
   "metadata": {},
   "outputs": [],
   "source": [
    "pickle.dump(sar_m, open('model.pkl','wb'))"
   ]
  },
  {
   "cell_type": "code",
   "execution_count": 40,
   "id": "regular-platinum",
   "metadata": {},
   "outputs": [],
   "source": [
    "model = pickle.load(open('model.pkl','rb'))"
   ]
  },
  {
   "cell_type": "code",
   "execution_count": 41,
   "id": "stock-grenada",
   "metadata": {},
   "outputs": [],
   "source": [
    " model = model.forecast(steps=24)"
   ]
  },
  {
   "cell_type": "code",
   "execution_count": 42,
   "id": "southern-tongue",
   "metadata": {},
   "outputs": [],
   "source": [
    "import ipywidgets as w\n",
    "from IPython.display import display\n",
    "#import ipydatetime as t\n",
    "lbl=w.Label(value='')\n",
    "\n",
    "textbox=w.Text(\"Air Quality (Short-Term) Forecasting\")\n",
    "date=w.DatePicker(description=\"Select Date\")\n",
    "time=w.Dropdown(\n",
    "    options=[('00:00',0),('01:00',1),( '02:00',2),( '03:00',3),( '04:00',4),( '05:00',5),( '06:00',6),( '07:00',7),( '08:00',8)\n",
    "             ,('09:00',9),( '10:00',10),( '11:00',11),( '12:00',12),( '13:00',13),( '14:00',14),( '15:00',15),( '16:00',16)\n",
    "             ,( '17:00',17),('18:00',18),( '19:00',19),( '20:00',20),( '21:00',21),( '22:00',22),( '23:00',23) ],value=0, description='Select Time',    disabled=False)\n",
    "predict=w.Button(description='Predict',disabled=False, button_style='', tooltip='Predict')\n",
    "output = w.Output()\n",
    "def on_button_clicked(b):\n",
    "    with output:\n",
    "        lbl.value=str(model.item(time.value))\n",
    "\n"
   ]
  },
  {
   "cell_type": "code",
   "execution_count": 43,
   "id": "executive-caution",
   "metadata": {},
   "outputs": [
    {
     "data": {
      "application/vnd.jupyter.widget-view+json": {
       "model_id": "d4c4871dd48b4b9a849f4d6a227b783d",
       "version_major": 2,
       "version_minor": 0
      },
      "text/plain": [
       "Text(value='Air Quality (Short-Term) Forecasting')"
      ]
     },
     "metadata": {},
     "output_type": "display_data"
    },
    {
     "data": {
      "application/vnd.jupyter.widget-view+json": {
       "model_id": "1e8aaf10d1bb473a93cc4a67d75c6353",
       "version_major": 2,
       "version_minor": 0
      },
      "text/plain": [
       "Dropdown(description='Select Time', options=(('00:00', 0), ('01:00', 1), ('02:00', 2), ('03:00', 3), ('04:00',…"
      ]
     },
     "metadata": {},
     "output_type": "display_data"
    },
    {
     "data": {
      "application/vnd.jupyter.widget-view+json": {
       "model_id": "d37a85733f4b4984a23a5eb1c66820ab",
       "version_major": 2,
       "version_minor": 0
      },
      "text/plain": [
       "Button(description='Predict', style=ButtonStyle(), tooltip='Predict')"
      ]
     },
     "metadata": {},
     "output_type": "display_data"
    },
    {
     "data": {
      "application/vnd.jupyter.widget-view+json": {
       "model_id": "afa4dc6f3fe04926bf09ba6c8853902b",
       "version_major": 2,
       "version_minor": 0
      },
      "text/plain": [
       "Output()"
      ]
     },
     "metadata": {},
     "output_type": "display_data"
    },
    {
     "data": {
      "application/vnd.jupyter.widget-view+json": {
       "model_id": "d019c8b10a7d4eee9891ef1fa9b5a9c2",
       "version_major": 2,
       "version_minor": 0
      },
      "text/plain": [
       "Label(value='')"
      ]
     },
     "metadata": {},
     "output_type": "display_data"
    }
   ],
   "source": [
    "predict.on_click(on_button_clicked)\n",
    "display(textbox,time,predict,output,lbl)"
   ]
  },
  {
   "cell_type": "code",
   "execution_count": null,
   "id": "exclusive-kennedy",
   "metadata": {},
   "outputs": [],
   "source": []
  }
 ],
 "metadata": {
  "kernelspec": {
   "display_name": "Python 3",
   "language": "python",
   "name": "python3"
  },
  "language_info": {
   "codemirror_mode": {
    "name": "ipython",
    "version": 3
   },
   "file_extension": ".py",
   "mimetype": "text/x-python",
   "name": "python",
   "nbconvert_exporter": "python",
   "pygments_lexer": "ipython3",
   "version": "3.8.3"
  }
 },
 "nbformat": 4,
 "nbformat_minor": 5
}
