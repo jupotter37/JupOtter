{
 "cells": [
  {
   "cell_type": "markdown",
   "id": "68d089da-1c30-4885-b847-dab4955bfec0",
   "metadata": {},
   "source": [
    "## Setting up the database"
   ]
  },
  {
   "cell_type": "code",
   "execution_count": 10,
   "id": "8cae4f12-04b8-49b1-9594-70bf365273e8",
   "metadata": {},
   "outputs": [
    {
     "name": "stdout",
     "output_type": "stream",
     "text": [
      "('B424209', 'Arunima', 'CS')\n",
      "('J029942', 'Sachin', 'CS')\n",
      "('B083093', 'Tammy', 'ECE')\n",
      "('C0942809', 'Stuart', 'Civil')\n",
      "('J5059024', 'Bob', 'ECE')\n"
     ]
    }
   ],
   "source": [
    "import sqlite3\n",
    "connection  = sqlite3.connect(\"example.db\")\n",
    "cursor = connection.cursor()\n",
    "table = \"\"\"\n",
    "            CREATE TABLE STUDENT(ID VARCHAR(10), NAME VARCHAR(30), SUBJECT VARCHAR(30))\n",
    "         \"\"\"\n",
    "queries = [\"\"\"INSERT INTO STUDENT VALUES(\"B424209\", \"Arunima\", \"CS\")\"\"\",\n",
    "            \"\"\"INSERT INTO STUDENT VALUES(\"J029942\", \"Sachin\", \"CS\")\"\"\",\n",
    "            \"\"\"INSERT INTO STUDENT VALUES(\"B083093\", \"Tammy\", \"ECE\")\"\"\",\n",
    "            \"\"\"INSERT INTO STUDENT VALUES(\"C0942809\", \"Stuart\", \"Civil\")\"\"\",\n",
    "            \"\"\"INSERT INTO STUDENT VALUES(\"J5059024\", \"Bob\", \"ECE\")\"\"\"]\n",
    "cursor.execute(table)\n",
    "for q in queries:\n",
    "    cursor.execute(q)\n",
    "\n",
    "display = \"\"\"\n",
    "            SELECT * FROM STUDENT\n",
    "          \"\"\"\n",
    "data = cursor.execute(display)\n",
    "for d in data:\n",
    "    print(d)\n",
    "    \n",
    "connection.commit()\n",
    "connection.close()"
   ]
  },
  {
   "cell_type": "markdown",
   "id": "22584e3d-5184-4004-9843-9418f9f3fb2f",
   "metadata": {},
   "source": [
    "## Using GEMINI LLM"
   ]
  },
  {
   "cell_type": "code",
   "execution_count": 13,
   "id": "3bd44ede-31ed-42ac-801f-52c9a4e4a1d6",
   "metadata": {},
   "outputs": [],
   "source": [
    "import google.generativeai as genai\n",
    "import os\n",
    "\n",
    "genai.configure(api_key = \"\")\n",
    "model = genai.GenerativeModel('gemini-pro')"
   ]
  },
  {
   "cell_type": "code",
   "execution_count": 29,
   "id": "4d723d9a-1fee-4d2b-954a-475ec21fcbdc",
   "metadata": {},
   "outputs": [
    {
     "data": {
      "text/plain": [
       "<google.generativeai.types.generation_types.GenerateContentResponse at 0x1d563436f90>"
      ]
     },
     "execution_count": 29,
     "metadata": {},
     "output_type": "execute_result"
    }
   ],
   "source": [
    "question = \"Can you tell me the number of people who have taken CS as subject\"\n",
    "prompt=\"\"\"\n",
    "    You are an expert in converting English questions to SQL query!\n",
    "    The SQL database has the name STUDENT and has the following columns - ID,NAME, SUBJECT\n",
    "    \\n\\nFor example,\\nExample 1 - How many entries of records are present?, \n",
    "    the SQL command will be something like this SELECT COUNT(*) FROM STUDENT ;\n",
    "    \\nExample 2 - Tell me all the students studying in Data Science class?, \n",
    "    the SQL command will be something like this SELECT * FROM STUDENT \n",
    "    where CLASS=\"Data Science\"; \n",
    "    also the sql code should not have ``` in beginning or end and sql word in output\n",
    "\n",
    "    \"\"\"\n",
    "\n",
    "sql_query = model.generate_content([question,prompt])\n",
    "sql_query"
   ]
  },
  {
   "cell_type": "code",
   "execution_count": 22,
   "id": "8eb1aa49-bc88-434a-9501-6399c2a84747",
   "metadata": {},
   "outputs": [
    {
     "data": {
      "text/plain": [
       "'SELECT COUNT(*) FROM STUDENT WHERE SUBJECT=\"CS\";'"
      ]
     },
     "execution_count": 22,
     "metadata": {},
     "output_type": "execute_result"
    }
   ],
   "source": [
    "sql_query.text"
   ]
  },
  {
   "cell_type": "code",
   "execution_count": 31,
   "id": "d8f8e5fd-83bf-4206-bb91-28374462dd1d",
   "metadata": {},
   "outputs": [
    {
     "name": "stdout",
     "output_type": "stream",
     "text": [
      "(2,)\n"
     ]
    }
   ],
   "source": [
    "import sqlite3\n",
    "connection = sqlite3.connect(\"example.db\")\n",
    "cursor = connection.cursor()\n",
    "ans = cursor.execute(sql_query.text)\n",
    "for rows in ans:\n",
    "    print(rows)"
   ]
  },
  {
   "cell_type": "markdown",
   "id": "7aee8a23-5398-43e3-8581-d53597028eb2",
   "metadata": {},
   "source": [
    "## Using OpenAI"
   ]
  },
  {
   "cell_type": "code",
   "execution_count": 40,
   "id": "bf35d9c9-575e-43ff-9627-d9c6075c7329",
   "metadata": {},
   "outputs": [
    {
     "data": {
      "text/plain": [
       "'SELECT COUNT(*) \\nFROM STUDENT \\nWHERE SUBJECT = \"CS\"'"
      ]
     },
     "execution_count": 40,
     "metadata": {},
     "output_type": "execute_result"
    }
   ],
   "source": [
    "from langchain_openai import ChatOpenAI\n",
    "from langchain.chains import create_sql_query_chain\n",
    "os.environ[\"OPENAI_API_KEY\"] = \"\"\n",
    "from langchain_community.utilities import SQLDatabase\n",
    "\n",
    "db = SQLDatabase.from_uri(\"sqlite:///example.db\")\n",
    "llm = ChatOpenAI()\n",
    "chain = create_sql_query_chain(llm,db)\n",
    "sql_query = chain.invoke({\"question\":question})\n",
    "sql_query"
   ]
  },
  {
   "cell_type": "code",
   "execution_count": 41,
   "id": "c50231c0-6c38-4a4a-9be6-78b860fe6d65",
   "metadata": {},
   "outputs": [
    {
     "data": {
      "text/plain": [
       "'[(2,)]'"
      ]
     },
     "execution_count": 41,
     "metadata": {},
     "output_type": "execute_result"
    }
   ],
   "source": [
    "db.run(sql_query)"
   ]
  }
 ],
 "metadata": {
  "kernelspec": {
   "display_name": "Python 3 (ipykernel)",
   "language": "python",
   "name": "python3"
  },
  "language_info": {
   "codemirror_mode": {
    "name": "ipython",
    "version": 3
   },
   "file_extension": ".py",
   "mimetype": "text/x-python",
   "name": "python",
   "nbconvert_exporter": "python",
   "pygments_lexer": "ipython3",
   "version": "3.8.0"
  }
 },
 "nbformat": 4,
 "nbformat_minor": 5
}
