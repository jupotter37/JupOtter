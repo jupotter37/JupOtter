{
 "cells": [
  {
   "cell_type": "code",
   "execution_count": 19,
   "metadata": {},
   "outputs": [],
   "source": [
    "from symfit import variables, Parameter, ODEModel, D, Fit, parameters\n",
    "import numpy as np\n",
    "import matplotlib.pyplot as plt\n",
    "from time import time\n",
    "from scipy.optimize import curve_fit\n",
    "from scipy.integrate import odeint\n",
    "from symfit.contrib.interactive_guess import InteractiveGuess2D\n",
    "\n",
    "from time import time as start_time\n",
    "\n",
    "%matplotlib tk"
   ]
  },
  {
   "cell_type": "code",
   "execution_count": 20,
   "metadata": {},
   "outputs": [],
   "source": [
    "file = 'kineticfile.txt'\n",
    "data = np.genfromtxt(file)\n",
    "time = data[:, 0][1:]/1000\n",
    "cd = data[:, 1][1:]\n",
    "cdHe = data[:, 3][1:]\n",
    "cdHe2 = data[:, 4][1:]\n",
    "cdHe3 = data[:, 5][1:]\n",
    "cdHe4 = data[:, 6][1:]\n",
    "He = 1.768e14\n",
    "\n",
    "total = cd+cdHe+cdHe2+cdHe3+cdHe4\n"
   ]
  },
  {
   "cell_type": "code",
   "execution_count": 21,
   "metadata": {},
   "outputs": [],
   "source": [
    "#plt.style.use()\n",
    "\n",
    "fig, ax = plt.subplots(figsize = (14, 5), dpi = 100)\n",
    "\n",
    "ax.plot(time, total,'k', label = 'Total')\n",
    "ax.plot(time, cd, lw=1, label = 'CD+')\n",
    "ax.plot(time, cdHe, lw=1, label = 'CDHe+')\n",
    "ax.plot(time, cdHe2, lw=1, label = 'CDHe2+')\n",
    "ax.plot(time, cdHe3, lw=1, label = 'CDHe3+')\n",
    "ax.plot(time, cdHe4, lw=1, label = 'CDHe4+')\n",
    "\n",
    "ax.set_xlim(left = 0)\n",
    "ax.set_yscale('log')\n",
    "ax.legend()\n",
    "ax.grid()\n",
    "\n",
    "\n",
    "plt.show()\n",
    "#plt.close()"
   ]
  },
  {
   "cell_type": "code",
   "execution_count": null,
   "metadata": {},
   "outputs": [],
   "source": []
  },
  {
   "cell_type": "code",
   "execution_count": 22,
   "metadata": {},
   "outputs": [
    {
     "data": {
      "text/plain": [
       "['bmh',\n",
       " 'classic',\n",
       " 'dark_background',\n",
       " 'fast',\n",
       " 'fivethirtyeight',\n",
       " 'ggplot',\n",
       " 'grayscale',\n",
       " 'seaborn-bright',\n",
       " 'seaborn-colorblind',\n",
       " 'seaborn-dark-palette',\n",
       " 'seaborn-dark',\n",
       " 'seaborn-darkgrid',\n",
       " 'seaborn-deep',\n",
       " 'seaborn-muted',\n",
       " 'seaborn-notebook',\n",
       " 'seaborn-paper',\n",
       " 'seaborn-pastel',\n",
       " 'seaborn-poster',\n",
       " 'seaborn-talk',\n",
       " 'seaborn-ticks',\n",
       " 'seaborn-white',\n",
       " 'seaborn-whitegrid',\n",
       " 'seaborn',\n",
       " 'Solarize_Light2',\n",
       " 'tableau-colorblind10',\n",
       " '_classic_test',\n",
       " 'ieee',\n",
       " 'no-latex',\n",
       " 'science',\n",
       " 'subfigure']"
      ]
     },
     "execution_count": 22,
     "metadata": {},
     "output_type": "execute_result"
    }
   ],
   "source": [
    "plt.style.available"
   ]
  },
  {
   "cell_type": "markdown",
   "metadata": {},
   "source": [
    "# Rate Equations"
   ]
  },
  {
   "cell_type": "markdown",
   "metadata": {},
   "source": [
    "$$\\frac{d(CD^+)}{dt} = -[(k31) * CD^+ * He^2] + [(kCID1) * CDHe^+ * He] $$ \n",
    "$$\\frac{d(CDHe^+)}{dt} = -[(k32) * CDHe^+ * He^2] + [(kCID2) * CDHe2^+ * He] + [(k31) * CD^+ * He^2] - [(kCID1) * CDHe^+ * He] $$ \n",
    "$$\\frac{d(CDHe2^+)}{dt} = -[(k33) * CDHe2^+ * He^2] + [(kCID3) * CDHe3^+ * He] + [(k32) * CDHe^+ * He^2] - [(kCID2) * CDHe2^+ * He] $$\n",
    "$$\\frac{d(CDHe3^+)}{dt} = -[(k34) * CDHe3^+ * He^2] + [(kCID4) * CDHe4^+ * He] + [(k33) * CDHe2^+ * He^2] - [(kCID3) * CDHe3^+ * He] $$ \n",
    "$$\\frac{d(CDHe4^+)}{dt} = [(k34) * CD^+ * He^2] - [(kCID4) * CDHe^+ * He] $$ \n"
   ]
  },
  {
   "cell_type": "markdown",
   "metadata": {},
   "source": [
    "### Rate Constants to fit K31, K32, K33, K34, KCID1, KCID2, KCID3, KCID4"
   ]
  },
  {
   "cell_type": "code",
   "execution_count": 23,
   "metadata": {},
   "outputs": [
    {
     "name": "stdout",
     "output_type": "stream",
     "text": [
      "kmin: 1e-30 kmax: 1e-29\n",
      "kcid_min: 1e-15 kcid_max: 1e-14\n"
     ]
    }
   ],
   "source": [
    "CD, CDHe, CDHe2, CDHe3, CDHe4, t = variables('CD, CDHe, CDHe2, CDHe3, CDHe4, t')\n",
    "#k31, k32, k33, k34, kCID1, kCID2, kCID3, kCID4 = parameters('k31, k32, k33, k34, kCID1, kCID2, kCID3, kCID4')\n",
    "\n",
    "kmin, kcid_min = 1e-30, 1e-15\n",
    "kmax, kcid_max = 1e-29, 1e-14\n",
    "\n",
    "print(f'kmin: {kmin} kmax: {kmax}\\nkcid_min: {kcid_min} kcid_max: {kcid_max}')\n",
    "\n",
    "k31 = Parameter('k31', min=kmin, max=kmax)\n",
    "k32 = Parameter('k32', min=kmin, max=kmax)\n",
    "k33 = Parameter('k33', min=kmin, max=kmax)\n",
    "k34 = Parameter('k34', min=kmin, max=kmax)\n",
    "\n",
    "kCID1 = Parameter('kCID1', min=kcid_min, max=kcid_max)\n",
    "kCID2 = Parameter('kCID2', min=kcid_min, max=kcid_max)\n",
    "kCID3 = Parameter('kCID3', min=kcid_min, max=kcid_max)\n",
    "kCID4 = Parameter('kCID4', min=kcid_min, max=kcid_max)\n",
    "\n",
    "\n",
    "initial_cond = {\n",
    "    t: 0,\n",
    "    CD: cd[0],\n",
    "    CDHe: 0,\n",
    "    CDHe2: 0,\n",
    "    CDHe3: 0,\n",
    "    CDHe4: 0\n",
    "}\n",
    "\n",
    "r31 = k31*CD*He**2\n",
    "rcid1 = kCID1*CDHe*He\n",
    "\n",
    "r32 = k32*CDHe*He**2\n",
    "rcid2 = kCID2*CDHe2*He\n",
    "\n",
    "r33 = k33*CDHe2*He**2\n",
    "rcid3 = kCID3*CDHe3*He\n",
    "\n",
    "r34 = k34*CDHe3*He**2\n",
    "rcid4 = kCID4*CDHe4*He\n",
    "\n",
    "rate_model = {\n",
    "    D(CD, t): -r31+rcid1,\n",
    "    D(CDHe, t): -r32+rcid2+r31-rcid1,\n",
    "    D(CDHe2, t): -r33+rcid3+r32-rcid2,\n",
    "    D(CDHe3, t): -r34+rcid4+r33-rcid3,\n",
    "    D(CDHe4, t): +r34-rcid4\n",
    "}\n",
    "\n",
    "ode_model = ODEModel(rate_model, initial=initial_cond)\n",
    "\n",
    "# Generate some data\n",
    "tdata = np.linspace(0, 3, 1000)"
   ]
  },
  {
   "cell_type": "code",
   "execution_count": 24,
   "metadata": {},
   "outputs": [],
   "source": [
    "#guess = InteractiveGuess2D(ode_model, t=time, CD=cd, CDHe=cdHe, CDHe2=cdHe2, CDHe3=cdHe3, CDHe4=cdHe4)\n",
    "#guess.execute()"
   ]
  },
  {
   "cell_type": "code",
   "execution_count": 25,
   "metadata": {},
   "outputs": [
    {
     "name": "stderr",
     "output_type": "stream",
     "text": [
      "C:\\ProgramData\\Anaconda3\\lib\\site-packages\\scipy\\integrate\\odepack.py:247: ODEintWarning: Repeated convergence failures (perhaps bad Jacobian or tolerances). Run with full_output = 1 to get quantitative information.\n",
      "  warnings.warn(warning_msg, ODEintWarning)\n",
      "C:\\ProgramData\\Anaconda3\\lib\\site-packages\\scipy\\integrate\\odepack.py:247: ODEintWarning: Excess work done on this call (perhaps wrong Dfun type). Run with full_output = 1 to get quantitative information.\n",
      "  warnings.warn(warning_msg, ODEintWarning)\n"
     ]
    },
    {
     "name": "stdout",
     "output_type": "stream",
     "text": [
      "Time taken: 2.416018009185791 s\n",
      "\n",
      "Parameter Value        Standard Deviation\n",
      "k31       1.000000e-29 None\n",
      "k32       1.000000e-29 None\n",
      "k33       1.000000e-29 None\n",
      "k34       1.000000e-29 None\n",
      "kCID1     1.000000e-14 None\n",
      "kCID2     1.000000e-14 None\n",
      "kCID3     1.000000e-14 None\n",
      "kCID4     1.000000e-14 None\n",
      "Fitting status message: b'CONVERGENCE: NORM_OF_PROJECTED_GRADIENT_<=_PGTOL'\n",
      "Number of iterations:   9\n",
      "Regression Coefficient: -9.195065433669399\n",
      "\n",
      "Parameters: OrderedDict([('k31', 1e-29), ('k32', 1e-29), ('k33', 1e-29), ('k34', 1e-29), ('kCID1', 1e-14), ('kCID2', 1e-14), ('kCID3', 1e-14), ('kCID4', 1e-14)])\n"
     ]
    }
   ],
   "source": [
    "# with Fit\n",
    "t0 = start_time()\n",
    "\n",
    "fit = Fit(ode_model, t=time, CD=cd, CDHe=cdHe, CDHe2=cdHe2, CDHe3=cdHe3, CDHe4=cdHe4)\n",
    "fit_result = fit.execute()\n",
    "\n",
    "t1 = start_time()\n",
    "print(f'Time taken: {t1-t0} s')\n",
    "\n",
    "CD, CDHe, CDHe2, CDHe3, CDHe4 = ode_model(t=tdata, **fit_result.params)\n",
    "\n",
    "print(fit_result)\n",
    "print(f'Parameters: {fit_result.params}' )"
   ]
  },
  {
   "cell_type": "code",
   "execution_count": 26,
   "metadata": {},
   "outputs": [
    {
     "name": "stdout",
     "output_type": "stream",
     "text": [
      "Parameters: OrderedDict([('k31', 1e-29), ('k32', 1e-29), ('k33', 1e-29), ('k34', 1e-29), ('kCID1', 1e-14), ('kCID2', 1e-14), ('kCID3', 1e-14), ('kCID4', 1e-14)])\n",
      "\n",
      "Parameter Value        Standard Deviation\n",
      "k31       1.000000e-29 None\n",
      "k32       1.000000e-29 None\n",
      "k33       1.000000e-29 None\n",
      "k34       1.000000e-29 None\n",
      "kCID1     1.000000e-14 None\n",
      "kCID2     1.000000e-14 None\n",
      "kCID3     1.000000e-14 None\n",
      "kCID4     1.000000e-14 None\n",
      "Fitting status message: b'CONVERGENCE: NORM_OF_PROJECTED_GRADIENT_<=_PGTOL'\n",
      "Number of iterations:   9\n",
      "Regression Coefficient: -9.195065433669399\n",
      "\n"
     ]
    },
    {
     "data": {
      "text/plain": [
       "<symfit.core.fit.ODEModel at 0x1d73e853160>"
      ]
     },
     "execution_count": 26,
     "metadata": {},
     "output_type": "execute_result"
    }
   ],
   "source": [
    "print(f'Parameters: {fit_result.params}' )\n",
    "print(fit_result)\n",
    "fit_result.model"
   ]
  },
  {
   "cell_type": "code",
   "execution_count": 27,
   "metadata": {},
   "outputs": [],
   "source": [
    "# Eval the normal way. (without fit)\n",
    "CD, CDHe, CDHe2, CDHe3, CDHe4 = ode_model(t=tdata, k31=2.7e-30, k32=6e-30, k33=32e-30, k34=15e-28, kCID1=1.9e-15, kCID2=4e-15, kCID3=24e-15, kCID4=15e-14)\n",
    "\n",
    "\n",
    "# with Fit\n",
    "#ode_model = ODEModel(rate_model, initial=initial_cond)\n",
    "\n",
    "#fit = Fit(ode_model, t=time, CD=cd, CDHe-cdHe, CDHe2=cdHe2, CDHe3=cdHe3, CDHe4=cdHe4)\n",
    "#fit_result = fit.execute()\n",
    "\n",
    "#CD, CDHe, CDHe2, CDHe3, CDHe4 = ode_model(t=tdata, **fit_result.params)\n",
    "\n",
    "######################################################################################################################################################################\n",
    "\n",
    "fig2, ax2 = plt.subplots(figsize = (14, 5), dpi = 100)\n",
    "\n",
    "ax2.plot(tdata, CD, label = 'CD+')\n",
    "ax2.plot(time, cd, '.', label = 'CD+_exp')\n",
    "\n",
    "ax2.plot(tdata, CDHe, label = 'CDHe+')\n",
    "ax2.plot(time, cdHe, '.', label = 'CDHe+_exp')\n",
    "\n",
    "ax2.plot(tdata, CDHe2, label = 'CDHe2+')\n",
    "ax2.plot(time, cdHe2, '.', label = 'CDHe2+_exp')\n",
    "\n",
    "ax2.plot(tdata, CDHe3, label = 'CDHe3+')\n",
    "ax2.plot(time, cdHe3, '.', label = 'CDHe3+_exp')\n",
    "\n",
    "ax2.plot(tdata, CDHe4, label = 'CDHe4+')\n",
    "ax2.plot(time, cdHe4, '.', label = 'CDHe4+_exp')\n",
    "\n",
    "ax2.set_yscale('log')\n",
    "ax2.set_xlabel('Time (s)')\n",
    "ax2.set_ylabel('Counts')\n",
    "ax2.set_title('Ternary Reactions rate')\n",
    "ax2.legend()\n",
    "ax2.grid()\n",
    "\n",
    "plt.show()\n",
    "#plt.close()"
   ]
  },
  {
   "cell_type": "code",
   "execution_count": null,
   "metadata": {},
   "outputs": [],
   "source": []
  },
  {
   "cell_type": "code",
   "execution_count": null,
   "metadata": {},
   "outputs": [],
   "source": []
  },
  {
   "cell_type": "code",
   "execution_count": null,
   "metadata": {},
   "outputs": [],
   "source": []
  },
  {
   "cell_type": "code",
   "execution_count": null,
   "metadata": {},
   "outputs": [],
   "source": []
  },
  {
   "cell_type": "code",
   "execution_count": null,
   "metadata": {},
   "outputs": [],
   "source": []
  },
  {
   "cell_type": "code",
   "execution_count": null,
   "metadata": {},
   "outputs": [],
   "source": []
  },
  {
   "cell_type": "code",
   "execution_count": null,
   "metadata": {},
   "outputs": [],
   "source": []
  },
  {
   "cell_type": "code",
   "execution_count": null,
   "metadata": {},
   "outputs": [],
   "source": []
  },
  {
   "cell_type": "code",
   "execution_count": null,
   "metadata": {},
   "outputs": [],
   "source": []
  },
  {
   "cell_type": "code",
   "execution_count": null,
   "metadata": {},
   "outputs": [],
   "source": []
  },
  {
   "cell_type": "code",
   "execution_count": null,
   "metadata": {},
   "outputs": [],
   "source": []
  },
  {
   "cell_type": "code",
   "execution_count": null,
   "metadata": {},
   "outputs": [],
   "source": []
  },
  {
   "cell_type": "code",
   "execution_count": null,
   "metadata": {},
   "outputs": [],
   "source": []
  },
  {
   "cell_type": "code",
   "execution_count": null,
   "metadata": {},
   "outputs": [],
   "source": []
  }
 ],
 "metadata": {
  "kernelspec": {
   "display_name": "Python 3",
   "language": "python",
   "name": "python3"
  },
  "language_info": {
   "codemirror_mode": {
    "name": "ipython",
    "version": 3
   },
   "file_extension": ".py",
   "mimetype": "text/x-python",
   "name": "python",
   "nbconvert_exporter": "python",
   "pygments_lexer": "ipython3",
   "version": "3.7.3"
  }
 },
 "nbformat": 4,
 "nbformat_minor": 2
}
