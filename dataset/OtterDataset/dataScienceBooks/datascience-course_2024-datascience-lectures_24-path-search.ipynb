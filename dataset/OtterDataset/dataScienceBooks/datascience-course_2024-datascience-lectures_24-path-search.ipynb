{
 "cells": [
  {
   "cell_type": "markdown",
   "metadata": {},
   "source": [
    "# Introduction to Data Science – Networks (Path Search)\n",
    "*COMP 5360 / MATH 4100, University of Utah, http://datasciencecourse.net/* \n",
    "\n",
    "This is a continuation of how to work with graphs in Python using the [NetworkX](networkx.github.io) library. Here we focus on understand Path Search Algorithms."
   ]
  },
  {
   "cell_type": "code",
   "execution_count": null,
   "metadata": {},
   "outputs": [],
   "source": [
    "import networkx as nx\n",
    "import matplotlib.pyplot as plt\n",
    "%matplotlib inline\n",
    "plt.rcParams['figure.figsize'] = (10, 6)\n",
    "plt.style.use('ggplot')"
   ]
  },
  {
   "cell_type": "markdown",
   "metadata": {},
   "source": [
    "We'll also import the Les Miserable network again"
   ]
  },
  {
   "cell_type": "code",
   "execution_count": null,
   "metadata": {},
   "outputs": [],
   "source": [
    "# Read the graph file\n",
    "lesmis = nx.read_gml('lesmis.gml')\n",
    "# Plot the nodes\n",
    "lesmis.nodes()"
   ]
  },
  {
   "cell_type": "markdown",
   "metadata": {},
   "source": [
    "## Path Search\n",
    "\n",
    "Path search, and in particular shortest path search is an important problem. It answers questions such as \n",
    " * how do I get as quickly as possible from A to B in a road network\n",
    " * how to best rout a data package that delivers the next second of your Netflix movie\n",
    " * who can I talk to to get an introduction to Person B\n",
    " * etc.\n",
    " \n",
    "There are two major types of path search algorithms: \n",
    "\n",
    "1. Algorithms that operate only on the topology, i.e., only the \"distance\" is relevant\n",
    "2. Algorithms that also consider edge weights, i.e., they minimize a \"cost\"\n",
    "\n",
    "For the above scenarios, edge weights make a lot of sense: I might give a different weight to an edge that is an Interstate, for example, as I will be able to travel faster. "
   ]
  },
  {
   "cell_type": "markdown",
   "metadata": {},
   "source": [
    "![](bread.png)"
   ]
  },
  {
   "cell_type": "markdown",
   "metadata": {},
   "source": [
    "### Breadth First Seach\n",
    "\n",
    "Breadth first search is a simple algorithm that solves the single-source shortest path problem, i.e., it calculates the shortest path from one source to all other nodes in the network. \n",
    "\n",
    "The algorithm works as follows:\n",
    "\n",
    "1. Label source node 0\n",
    "2. Find neighbors, label 1, put in queue\n",
    "3. Take node labeled n (1 for first step) out of queue. Find its unlabeled neighbors. Label them n+1 and put in queue\n",
    "4. Repeat 3 until found node (if only the exact path is relevant)  or no nodes left (when looking for all shortest paths)\n",
    "5. The distance between start and end node is the label of the end node.\n",
    "\n",
    "Let's look at the path from Boulatruelle to Napoleon:"
   ]
  },
  {
   "cell_type": "code",
   "execution_count": null,
   "metadata": {},
   "outputs": [],
   "source": [
    "path = nx.shortest_path(lesmis,source=\"Boulatruelle\",target=\"Marius\")\n",
    "path"
   ]
  },
  {
   "cell_type": "markdown",
   "metadata": {},
   "source": [
    "And the path from Perpetue to Napoleon:"
   ]
  },
  {
   "cell_type": "code",
   "execution_count": null,
   "metadata": {},
   "outputs": [],
   "source": [
    "path = nx.shortest_path(lesmis,source=\"Perpetue\",target=\"Napoleon\")\n",
    "path"
   ]
  },
  {
   "cell_type": "markdown",
   "metadata": {},
   "source": [
    "### Dijkstra's Algorithm\n",
    "\n",
    "[Dijkstra's algoritm](https://en.wikipedia.org/wiki/Dijkstra%27s_algorithm) is the go-to algorithm for finding paths in a weigthed graph.\n",
    "\n",
    "Let the node at which we are starting be called the initial node. Let the distance of node Y be the distance from the initial node to Y. Dijkstra's algorithm will assign some initial distance values and will try to improve them step by step.\n",
    "1. Assign to every node a tentative distance value: set it to zero for our initial node and to infinity for all other nodes.\n",
    "2. Set the initial node as current. Mark all other nodes unvisited. Create a set of all the unvisited nodes called the unvisited set.\n",
    "3. For the current node, consider all of its unvisited neighbors and calculate their tentative distances. Compare the newly calculated tentative distance to the current assigned value and assign the smaller one. For example, if the current node A is marked with a distance of 6, and the edge connecting it with a neighbor B has length 2, then the distance to B (through A) will be 6 + 2 = 8. If B was previously marked with a distance greater than 8 then change it to 8. Otherwise, keep the current value.\n",
    "4. When we are done considering all of the neighbors of the current node, mark the current node as visited and remove it from the unvisited set. A visited node will never be checked again.\n",
    "5. If the destination node has been marked visited (when planning a route between two specific nodes) or if the smallest tentative distance among the nodes in the unvisited set is infinity (when planning a complete traversal; occurs when there is no connection between the initial node and remaining unvisited nodes), then stop. The algorithm has finished.\n",
    "6. Otherwise, select the unvisited node that is marked with the smallest tentative distance, set it as the new \"current node\", and go back to step 3.\n",
    "\n",
    "Here' is an animation for Dijkstra's Algorithm from Wikipedia (we'll go through this in class):\n",
    "\n",
    "![](Dijkstra_Animation.gif)\n",
    "\n",
    "Here is an illustration of Dijkstra's Algorithm for a motion planning task:\n",
    "\n",
    "![](Dijkstras_progress_animation.gif)"
   ]
  },
  {
   "cell_type": "markdown",
   "metadata": {},
   "source": [
    "Our Les Miserables dataset actually comes with edge weights. The weight describes the number of co-occurrences of the characters. Now, let's look at the values:"
   ]
  },
  {
   "cell_type": "code",
   "execution_count": null,
   "metadata": {
    "scrolled": true
   },
   "outputs": [],
   "source": [
    "lesmis.edges(data=True)"
   ]
  },
  {
   "cell_type": "markdown",
   "metadata": {},
   "source": [
    "We can draw the graph with these weights."
   ]
  },
  {
   "cell_type": "code",
   "execution_count": null,
   "metadata": {},
   "outputs": [],
   "source": [
    "plt.rcParams['figure.figsize'] = (10, 15)\n",
    "\n",
    "pos = nx.spring_layout(lesmis)\n",
    "\n",
    "# Use edge weights in line drawing\n",
    "edge_widths = [1.0 * x[2]['value'] for x in lesmis.edges(data=True)]\n",
    "\n",
    "nx.draw(lesmis, pos=pos)\n",
    "nx.draw_networkx(lesmis, pos=pos, width=edge_widths)\n",
    "plt.show()"
   ]
  },
  {
   "cell_type": "markdown",
   "metadata": {},
   "source": [
    "That was nasty, let's try color."
   ]
  },
  {
   "cell_type": "code",
   "execution_count": null,
   "metadata": {},
   "outputs": [],
   "source": [
    "plt.rcParams['figure.figsize'] = (10, 15)\n",
    "\n",
    "pos = nx.spring_layout(lesmis)\n",
    "\n",
    "# Use edge weights in line drawing\n",
    "edge_colors = [ x[2]['value'] / 31.0 for x in lesmis.edges(data=True)]\n",
    "\n",
    "nx.draw(lesmis, pos=pos)\n",
    "nx.draw_networkx(lesmis, pos=pos, edge_color=edge_colors, width=2.0, edge_cmap=plt.cm.YlOrRd)\n",
    "plt.show()"
   ]
  },
  {
   "cell_type": "markdown",
   "metadata": {},
   "source": [
    "First we run the algorithm without weights:"
   ]
  },
  {
   "cell_type": "code",
   "execution_count": null,
   "metadata": {},
   "outputs": [],
   "source": [
    "path = nx.dijkstra_path(lesmis, source=\"Perpetue\", target=\"Napoleon\")\n",
    "path"
   ]
  },
  {
   "cell_type": "markdown",
   "metadata": {},
   "source": [
    "And then we run it with the weights, to have a comparison:"
   ]
  },
  {
   "cell_type": "code",
   "execution_count": null,
   "metadata": {},
   "outputs": [],
   "source": [
    "weighted_path = nx.dijkstra_path(lesmis, source=\"Perpetue\", target=\"Napoleon\", weight=\"value\")\n",
    "weighted_path"
   ]
  },
  {
   "cell_type": "markdown",
   "metadata": {},
   "source": [
    "We can calculate the relative weights of these paths:"
   ]
  },
  {
   "cell_type": "code",
   "execution_count": null,
   "metadata": {},
   "outputs": [],
   "source": [
    "def getPathCost(path):\n",
    "    length = len(path)\n",
    "    weight = 0\n",
    "    for i in range(length-1):\n",
    "        attributes = lesmis[path[i]][path[i+1]]\n",
    "        weight += attributes[\"value\"]\n",
    "        print(path[i], path[i+1], attributes)\n",
    "    print(\"Weight:\", weight)\n",
    "    \n",
    "print(\"Shortest Path\")\n",
    "getPathCost(path)\n",
    "\n",
    "print(\"\\n ==== \\n\")\n",
    "\n",
    "print(\"Weighted Path\")    \n",
    "getPathCost(weighted_path)\n"
   ]
  },
  {
   "cell_type": "markdown",
   "metadata": {},
   "source": [
    "### The A* Algorithm - Path Finding using Heuristics"
   ]
  },
  {
   "cell_type": "markdown",
   "metadata": {},
   "source": [
    "Dijkstra is a great general algorithm, but it can be slow. \n",
    "\n",
    "If we know more about the network we're working with, we can use a more efficient algorithm that takes this information into account. For example, in motion planning and in route planning on a map, we know where the target point is located spatially, relative to the source point. We can take this information into account by using a heuristic function to refine the search. \n",
    "\n",
    "The [A* algorithm](https://en.wikipedia.org/wiki/A*_search_algorithm) is such an algorithm. It's based on Djikstra's algorithm, but uses a heuristic function to guide it's search into the right direction. A* is an informed search algorithm, or a best-first search, meaning that it solves problems by searching among all possible paths to the solution (goal) for the one that incurs the smallest cost (least distance traveled, shortest time, etc.), and among these paths it first considers the ones that appear to lead most quickly to the solution. \n",
    "\n",
    "At each step of the algorithm, A* evaluates which is the best paths to follow\n",
    "\n",
    "See the following example:\n",
    "\n",
    "![](Astar_progress_animation.gif)\n",
    "\n",
    "While [NetworkX](https://networkx.readthedocs.io/en/stable/reference/algorithms.shortest_paths.html#module-networkx.algorithms.shortest_paths.astar) provides an implementation of the A* algorithm, we are not able to define a meaningful heuristic function for the Les Miserables graph, so we can't use it on this graph."
   ]
  }
 ],
 "metadata": {
  "anaconda-cloud": {},
  "kernelspec": {
   "display_name": "Python 3 (ipykernel)",
   "language": "python",
   "name": "python3"
  },
  "language_info": {
   "codemirror_mode": {
    "name": "ipython",
    "version": 3
   },
   "file_extension": ".py",
   "mimetype": "text/x-python",
   "name": "python",
   "nbconvert_exporter": "python",
   "pygments_lexer": "ipython3",
   "version": "3.9.6"
  }
 },
 "nbformat": 4,
 "nbformat_minor": 1
}
