{
 "cells": [
  {
   "cell_type": "markdown",
   "metadata": {},
   "source": [
    "## Assignment 1: Introduction to the SQL environment in the Jupyter Notebook"
   ]
  },
  {
   "cell_type": "markdown",
   "metadata": {},
   "source": [
    "From 1999 to 2015 [Jon Stewart](https://en.wikipedia.org/wiki/Jon_Stewart) hosted [The Daily Show](https://en.wikipedia.org/wiki/The_Daily_Show).  The lists of guests that appreared on that show is available in a CSV file\n",
    "\n",
    "Each entry has the form:\n",
    "\n",
    "```2015,actor,4/15/15,Acting,Billy Crystal\n",
    "```\n",
    "\n",
    "The SQL file `jon_load.sql` defines the following table and loads the contents of the file into that table. Open `jon_load.sql` file in your favorite editor and examine its contents.  Be sure not to change anything.\n",
    "\n",
    "The following simple SQL queries determine some statistics about the list of daily show guests.\n",
    "\n",
    "Evaluate each cell by pressing Shift-enter.  If it takes a little while (few seconds) for a cell to execute you will see a *.  Also, if you see a warning message show up with a pink bankground, you can ignore it.  IPython is made up of many independently developed components and sometimes the current versions of all components may not be in sync.\n",
    "\n",
    "At this point in the course you are not expected to understand how each query works, but you should be able to make a reasonable guess as to what is going on"
   ]
  },
  {
   "cell_type": "code",
   "execution_count": null,
   "metadata": {},
   "outputs": [],
   "source": []
  },
  {
   "cell_type": "markdown",
   "metadata": {},
   "source": [
    "_Load the Jupyter notebook extension with supports the execution of SQL scripts_. If you get a warning message in pink box, just re-evaluate the cell again (shift-enter) and it will go away."
   ]
  },
  {
   "cell_type": "code",
   "execution_count": 2,
   "metadata": {
    "scrolled": false
   },
   "outputs": [],
   "source": [
    "%load_ext sql"
   ]
  },
  {
   "cell_type": "markdown",
   "metadata": {},
   "source": [
    "**Connect to the postgres database 'postgres' as the user 'isdb'**"
   ]
  },
  {
   "cell_type": "code",
   "execution_count": 3,
   "metadata": {
    "scrolled": true
   },
   "outputs": [
    {
     "data": {
      "text/plain": [
       "'Connected: isdb@postgres'"
      ]
     },
     "execution_count": 3,
     "metadata": {},
     "output_type": "execute_result"
    }
   ],
   "source": [
    "%sql postgresql://isdb@localhost/postgres"
   ]
  },
  {
   "cell_type": "markdown",
   "metadata": {},
   "source": [
    "**[Q] How many guests appeared on Daily Show during Jon Stewart's tenure?**\n",
    "Each cell can either have executable Python or SQL code.  If SQL code, then the first line of the line needs to start with `%%sql`"
   ]
  },
  {
   "cell_type": "code",
   "execution_count": 4,
   "metadata": {},
   "outputs": [
    {
     "name": "stdout",
     "output_type": "stream",
     "text": [
      " * postgresql://isdb@localhost/postgres\n",
      "1 rows affected.\n"
     ]
    },
    {
     "data": {
      "text/html": [
       "<table>\n",
       "    <tr>\n",
       "        <th>count</th>\n",
       "    </tr>\n",
       "    <tr>\n",
       "        <td>2693</td>\n",
       "    </tr>\n",
       "</table>"
      ],
      "text/plain": [
       "[(2693,)]"
      ]
     },
     "execution_count": 4,
     "metadata": {},
     "output_type": "execute_result"
    }
   ],
   "source": [
    "%%sql \n",
    "\n",
    "SELECT COUNT(*) \n",
    "  FROM Daily_Show_Guests;"
   ]
  },
  {
   "cell_type": "markdown",
   "metadata": {},
   "source": [
    "**[Q] Who was the very first guest?**"
   ]
  },
  {
   "cell_type": "code",
   "execution_count": 5,
   "metadata": {},
   "outputs": [
    {
     "name": "stdout",
     "output_type": "stream",
     "text": [
      " * postgresql://isdb@localhost/postgres\n",
      "1 rows affected.\n"
     ]
    },
    {
     "data": {
      "text/html": [
       "<table>\n",
       "    <tr>\n",
       "        <th>year</th>\n",
       "        <th>job_title</th>\n",
       "        <th>date_of_appearance</th>\n",
       "        <th>profession</th>\n",
       "        <th>name</th>\n",
       "    </tr>\n",
       "    <tr>\n",
       "        <td>1999</td>\n",
       "        <td>Actor</td>\n",
       "        <td>1999-01-11</td>\n",
       "        <td>Acting</td>\n",
       "        <td>Michael J. Fox</td>\n",
       "    </tr>\n",
       "</table>"
      ],
      "text/plain": [
       "[(1999, 'Actor', datetime.date(1999, 1, 11), 'Acting', 'Michael J. Fox')]"
      ]
     },
     "execution_count": 5,
     "metadata": {},
     "output_type": "execute_result"
    }
   ],
   "source": [
    "%%sql\n",
    "\n",
    "SELECT *\n",
    "    FROM Daily_show_Guests\n",
    "ORDER BY date_of_appearance ASC\n",
    "   LIMIT 1;"
   ]
  },
  {
   "cell_type": "markdown",
   "metadata": {},
   "source": [
    "**[Q] Who was the very last guest?**\n",
    "\n",
    "Copy the above SQL code into the below and cell and tweak it a little.  Don't forget the `%%sql`"
   ]
  },
  {
   "cell_type": "code",
   "execution_count": 6,
   "metadata": {},
   "outputs": [
    {
     "name": "stdout",
     "output_type": "stream",
     "text": [
      " * postgresql://isdb@localhost/postgres\n",
      "1 rows affected.\n"
     ]
    },
    {
     "data": {
      "text/html": [
       "<table>\n",
       "    <tr>\n",
       "        <th>year</th>\n",
       "        <th>job_title</th>\n",
       "        <th>date_of_appearance</th>\n",
       "        <th>profession</th>\n",
       "        <th>name</th>\n",
       "    </tr>\n",
       "    <tr>\n",
       "        <td>2015</td>\n",
       "        <td>Comedian</td>\n",
       "        <td>2015-08-05</td>\n",
       "        <td>Comedy</td>\n",
       "        <td>Louis C.K.</td>\n",
       "    </tr>\n",
       "</table>"
      ],
      "text/plain": [
       "[(2015, 'Comedian', datetime.date(2015, 8, 5), 'Comedy', 'Louis C.K.')]"
      ]
     },
     "execution_count": 6,
     "metadata": {},
     "output_type": "execute_result"
    }
   ],
   "source": [
    "%%sql\n",
    "\n",
    "SELECT *\n",
    "    FROM Daily_show_Guests\n",
    "ORDER BY date_of_appearance DESC\n",
    "   LIMIT 1;"
   ]
  },
  {
   "cell_type": "markdown",
   "metadata": {},
   "source": [
    "**[Q] What were the professions of the guests?**"
   ]
  },
  {
   "cell_type": "code",
   "execution_count": 7,
   "metadata": {},
   "outputs": [
    {
     "name": "stdout",
     "output_type": "stream",
     "text": [
      " * postgresql://isdb@localhost/postgres\n",
      "17 rows affected.\n"
     ]
    },
    {
     "data": {
      "text/html": [
       "<table>\n",
       "    <tr>\n",
       "        <th>profession</th>\n",
       "    </tr>\n",
       "    <tr>\n",
       "        <td>Academic</td>\n",
       "    </tr>\n",
       "    <tr>\n",
       "        <td>Acting</td>\n",
       "    </tr>\n",
       "    <tr>\n",
       "        <td>Advocacy</td>\n",
       "    </tr>\n",
       "    <tr>\n",
       "        <td>Athletics</td>\n",
       "    </tr>\n",
       "    <tr>\n",
       "        <td>Business</td>\n",
       "    </tr>\n",
       "    <tr>\n",
       "        <td>Clergy</td>\n",
       "    </tr>\n",
       "    <tr>\n",
       "        <td>Comedy</td>\n",
       "    </tr>\n",
       "    <tr>\n",
       "        <td>Consultant</td>\n",
       "    </tr>\n",
       "    <tr>\n",
       "        <td>Government</td>\n",
       "    </tr>\n",
       "    <tr>\n",
       "        <td>Media</td>\n",
       "    </tr>\n",
       "    <tr>\n",
       "        <td>Military</td>\n",
       "    </tr>\n",
       "    <tr>\n",
       "        <td>Misc</td>\n",
       "    </tr>\n",
       "    <tr>\n",
       "        <td>Musician</td>\n",
       "    </tr>\n",
       "    <tr>\n",
       "        <td>NA</td>\n",
       "    </tr>\n",
       "    <tr>\n",
       "        <td>Political Aide</td>\n",
       "    </tr>\n",
       "    <tr>\n",
       "        <td>Politician</td>\n",
       "    </tr>\n",
       "    <tr>\n",
       "        <td>Science</td>\n",
       "    </tr>\n",
       "</table>"
      ],
      "text/plain": [
       "[('Academic',),\n",
       " ('Acting',),\n",
       " ('Advocacy',),\n",
       " ('Athletics',),\n",
       " ('Business',),\n",
       " ('Clergy',),\n",
       " ('Comedy',),\n",
       " ('Consultant',),\n",
       " ('Government',),\n",
       " ('Media',),\n",
       " ('Military',),\n",
       " ('Misc',),\n",
       " ('Musician',),\n",
       " ('NA',),\n",
       " ('Political Aide',),\n",
       " ('Politician',),\n",
       " ('Science',)]"
      ]
     },
     "execution_count": 7,
     "metadata": {},
     "output_type": "execute_result"
    }
   ],
   "source": [
    "%%sql \n",
    "\n",
    "  SELECT DISTINCT profession \n",
    "    FROM Daily_Show_Guests \n",
    "ORDER BY profession;"
   ]
  },
  {
   "cell_type": "code",
   "execution_count": null,
   "metadata": {},
   "outputs": [],
   "source": []
  },
  {
   "cell_type": "markdown",
   "metadata": {},
   "source": [
    "**[Q] List all the US Senators who appeared as guests on the show?**"
   ]
  },
  {
   "cell_type": "code",
   "execution_count": 8,
   "metadata": {},
   "outputs": [
    {
     "name": "stdout",
     "output_type": "stream",
     "text": [
      " * postgresql://isdb@localhost/postgres\n",
      "50 rows affected.\n"
     ]
    },
    {
     "data": {
      "text/html": [
       "<table>\n",
       "    <tr>\n",
       "        <th>name</th>\n",
       "        <th>job_title</th>\n",
       "        <th>date_of_appearance</th>\n",
       "    </tr>\n",
       "    <tr>\n",
       "        <td>Bernie Sanders</td>\n",
       "        <td>US senator</td>\n",
       "        <td>2011-04-27</td>\n",
       "    </tr>\n",
       "    <tr>\n",
       "        <td>Bob Menendez</td>\n",
       "        <td>US senator</td>\n",
       "        <td>2009-11-02</td>\n",
       "    </tr>\n",
       "    <tr>\n",
       "        <td>Charles Schumer</td>\n",
       "        <td>US senator</td>\n",
       "        <td>2014-06-11</td>\n",
       "    </tr>\n",
       "    <tr>\n",
       "        <td>Charles Schumer</td>\n",
       "        <td>US senator</td>\n",
       "        <td>2002-08-05</td>\n",
       "    </tr>\n",
       "    <tr>\n",
       "        <td>Charles Schumer</td>\n",
       "        <td>US senator</td>\n",
       "        <td>2002-12-16</td>\n",
       "    </tr>\n",
       "    <tr>\n",
       "        <td>Chuck Schumer</td>\n",
       "        <td>US senator</td>\n",
       "        <td>2008-08-06</td>\n",
       "    </tr>\n",
       "    <tr>\n",
       "        <td>Cory Booker</td>\n",
       "        <td>US senator</td>\n",
       "        <td>2012-12-12</td>\n",
       "    </tr>\n",
       "    <tr>\n",
       "        <td>Dick Durbin</td>\n",
       "        <td>US senator</td>\n",
       "        <td>2011-08-04</td>\n",
       "    </tr>\n",
       "    <tr>\n",
       "        <td>Elizabeth Warren</td>\n",
       "        <td>US senator</td>\n",
       "        <td>2009-04-15</td>\n",
       "    </tr>\n",
       "    <tr>\n",
       "        <td>Elizabeth Warren</td>\n",
       "        <td>US senator</td>\n",
       "        <td>2014-04-22</td>\n",
       "    </tr>\n",
       "    <tr>\n",
       "        <td>Elizabeth Warren</td>\n",
       "        <td>US senator</td>\n",
       "        <td>2011-04-26</td>\n",
       "    </tr>\n",
       "    <tr>\n",
       "        <td>Elizabeth Warren</td>\n",
       "        <td>US senator</td>\n",
       "        <td>2010-01-26</td>\n",
       "    </tr>\n",
       "    <tr>\n",
       "        <td>Elizabeth Warren</td>\n",
       "        <td>US senator</td>\n",
       "        <td>2015-04-09</td>\n",
       "    </tr>\n",
       "    <tr>\n",
       "        <td>Elizabeth Warren</td>\n",
       "        <td>US senator</td>\n",
       "        <td>2012-01-24</td>\n",
       "    </tr>\n",
       "    <tr>\n",
       "        <td>John McCain</td>\n",
       "        <td>US senator</td>\n",
       "        <td>2002-03-19</td>\n",
       "    </tr>\n",
       "    <tr>\n",
       "        <td>John McCain</td>\n",
       "        <td>US senator</td>\n",
       "        <td>2002-11-05</td>\n",
       "    </tr>\n",
       "    <tr>\n",
       "        <td>John McCain</td>\n",
       "        <td>US senator</td>\n",
       "        <td>2006-07-24</td>\n",
       "    </tr>\n",
       "    <tr>\n",
       "        <td>John McCain</td>\n",
       "        <td>US senator</td>\n",
       "        <td>2001-07-26</td>\n",
       "    </tr>\n",
       "    <tr>\n",
       "        <td>John McCain</td>\n",
       "        <td>US senator</td>\n",
       "        <td>2008-05-07</td>\n",
       "    </tr>\n",
       "    <tr>\n",
       "        <td>Sen. Barack Obama</td>\n",
       "        <td>US senator</td>\n",
       "        <td>2007-08-22</td>\n",
       "    </tr>\n",
       "    <tr>\n",
       "        <td>Sen. Barack Obama</td>\n",
       "        <td>US senator</td>\n",
       "        <td>2005-11-07</td>\n",
       "    </tr>\n",
       "    <tr>\n",
       "        <td>Sen. Barbara Boxer</td>\n",
       "        <td>US senator</td>\n",
       "        <td>2005-11-01</td>\n",
       "    </tr>\n",
       "    <tr>\n",
       "        <td>Sen. Charles Schumer</td>\n",
       "        <td>US senator</td>\n",
       "        <td>2004-11-03</td>\n",
       "    </tr>\n",
       "    <tr>\n",
       "        <td>Sen. Charles Schumer</td>\n",
       "        <td>US senator</td>\n",
       "        <td>2004-03-15</td>\n",
       "    </tr>\n",
       "    <tr>\n",
       "        <td>Sen. Christopher Dodd</td>\n",
       "        <td>US senator</td>\n",
       "        <td>2007-03-12</td>\n",
       "    </tr>\n",
       "    <tr>\n",
       "        <td>Sen. Chuck Schumer</td>\n",
       "        <td>US senator</td>\n",
       "        <td>2007-01-25</td>\n",
       "    </tr>\n",
       "    <tr>\n",
       "        <td>Sen. Chuck Schumer</td>\n",
       "        <td>US senator</td>\n",
       "        <td>2005-09-29</td>\n",
       "    </tr>\n",
       "    <tr>\n",
       "        <td>Sen. Hillary Clinton</td>\n",
       "        <td>US senator</td>\n",
       "        <td>2003-10-08</td>\n",
       "    </tr>\n",
       "    <tr>\n",
       "        <td>Sen. Joe Biden</td>\n",
       "        <td>US senator</td>\n",
       "        <td>2007-01-31</td>\n",
       "    </tr>\n",
       "    <tr>\n",
       "        <td>Sen. Joe Biden</td>\n",
       "        <td>US senator</td>\n",
       "        <td>2007-08-08</td>\n",
       "    </tr>\n",
       "    <tr>\n",
       "        <td>Sen. Joe Biden</td>\n",
       "        <td>US senator</td>\n",
       "        <td>2004-07-28</td>\n",
       "    </tr>\n",
       "    <tr>\n",
       "        <td>Sen. Joe Biden</td>\n",
       "        <td>US senator</td>\n",
       "        <td>2005-08-02</td>\n",
       "    </tr>\n",
       "    <tr>\n",
       "        <td>Sen. Joe Lieberman</td>\n",
       "        <td>US senator</td>\n",
       "        <td>2005-01-20</td>\n",
       "    </tr>\n",
       "    <tr>\n",
       "        <td>Sen. John Edwards</td>\n",
       "        <td>US senator</td>\n",
       "        <td>2005-10-05</td>\n",
       "    </tr>\n",
       "    <tr>\n",
       "        <td>Sen. John Edwards</td>\n",
       "        <td>US senator</td>\n",
       "        <td>2003-09-15</td>\n",
       "    </tr>\n",
       "    <tr>\n",
       "        <td>Sen. John Kerry</td>\n",
       "        <td>US senator</td>\n",
       "        <td>2007-03-26</td>\n",
       "    </tr>\n",
       "    <tr>\n",
       "        <td>Sen. John McCain</td>\n",
       "        <td>US senator</td>\n",
       "        <td>2007-04-24</td>\n",
       "    </tr>\n",
       "    <tr>\n",
       "        <td>Sen. John McCain</td>\n",
       "        <td>US senator</td>\n",
       "        <td>2004-09-02</td>\n",
       "    </tr>\n",
       "    <tr>\n",
       "        <td>Sen. John McCain</td>\n",
       "        <td>US senator</td>\n",
       "        <td>2004-05-10</td>\n",
       "    </tr>\n",
       "    <tr>\n",
       "        <td>Sen. John McCain</td>\n",
       "        <td>US senator</td>\n",
       "        <td>2007-08-16</td>\n",
       "    </tr>\n",
       "    <tr>\n",
       "        <td>Sen. John McCain</td>\n",
       "        <td>US senator</td>\n",
       "        <td>2004-01-21</td>\n",
       "    </tr>\n",
       "    <tr>\n",
       "        <td>Sen. John McCain</td>\n",
       "        <td>US senator</td>\n",
       "        <td>2005-11-08</td>\n",
       "    </tr>\n",
       "    <tr>\n",
       "        <td>Sen. Rick Santorum</td>\n",
       "        <td>US senator</td>\n",
       "        <td>2005-07-25</td>\n",
       "    </tr>\n",
       "    <tr>\n",
       "        <td>Sen. Tom Coburn</td>\n",
       "        <td>US senator</td>\n",
       "        <td>2012-05-02</td>\n",
       "    </tr>\n",
       "    <tr>\n",
       "        <td>Sen. Tom Daschle</td>\n",
       "        <td>US senator</td>\n",
       "        <td>2003-12-02</td>\n",
       "    </tr>\n",
       "    <tr>\n",
       "        <td>Sen. Trent Lott</td>\n",
       "        <td>US senator</td>\n",
       "        <td>2005-08-24</td>\n",
       "    </tr>\n",
       "    <tr>\n",
       "        <td>Sen. Zell Miller</td>\n",
       "        <td>US senator</td>\n",
       "        <td>2003-12-10</td>\n",
       "    </tr>\n",
       "    <tr>\n",
       "        <td>Senator Bob Dole, part 1</td>\n",
       "        <td>US senator</td>\n",
       "        <td>1999-12-07</td>\n",
       "    </tr>\n",
       "    <tr>\n",
       "        <td>Senator Bob Dole, part 2</td>\n",
       "        <td>US senator</td>\n",
       "        <td>1999-12-08</td>\n",
       "    </tr>\n",
       "    <tr>\n",
       "        <td>Senator Russ Feingold</td>\n",
       "        <td>US senator</td>\n",
       "        <td>2006-03-22</td>\n",
       "    </tr>\n",
       "</table>"
      ],
      "text/plain": [
       "[('Bernie Sanders', 'US senator', datetime.date(2011, 4, 27)),\n",
       " ('Bob Menendez', 'US senator', datetime.date(2009, 11, 2)),\n",
       " ('Charles Schumer', 'US senator', datetime.date(2014, 6, 11)),\n",
       " ('Charles Schumer', 'US senator', datetime.date(2002, 8, 5)),\n",
       " ('Charles Schumer', 'US senator', datetime.date(2002, 12, 16)),\n",
       " ('Chuck Schumer', 'US senator', datetime.date(2008, 8, 6)),\n",
       " ('Cory Booker', 'US senator', datetime.date(2012, 12, 12)),\n",
       " ('Dick Durbin', 'US senator', datetime.date(2011, 8, 4)),\n",
       " ('Elizabeth Warren', 'US senator', datetime.date(2009, 4, 15)),\n",
       " ('Elizabeth Warren', 'US senator', datetime.date(2014, 4, 22)),\n",
       " ('Elizabeth Warren', 'US senator', datetime.date(2011, 4, 26)),\n",
       " ('Elizabeth Warren', 'US senator', datetime.date(2010, 1, 26)),\n",
       " ('Elizabeth Warren', 'US senator', datetime.date(2015, 4, 9)),\n",
       " ('Elizabeth Warren', 'US senator', datetime.date(2012, 1, 24)),\n",
       " ('John McCain', 'US senator', datetime.date(2002, 3, 19)),\n",
       " ('John McCain', 'US senator', datetime.date(2002, 11, 5)),\n",
       " ('John McCain', 'US senator', datetime.date(2006, 7, 24)),\n",
       " ('John McCain', 'US senator', datetime.date(2001, 7, 26)),\n",
       " ('John McCain', 'US senator', datetime.date(2008, 5, 7)),\n",
       " ('Sen. Barack Obama', 'US senator', datetime.date(2007, 8, 22)),\n",
       " ('Sen. Barack Obama', 'US senator', datetime.date(2005, 11, 7)),\n",
       " ('Sen. Barbara Boxer', 'US senator', datetime.date(2005, 11, 1)),\n",
       " ('Sen. Charles Schumer', 'US senator', datetime.date(2004, 11, 3)),\n",
       " ('Sen. Charles Schumer', 'US senator', datetime.date(2004, 3, 15)),\n",
       " ('Sen. Christopher Dodd', 'US senator', datetime.date(2007, 3, 12)),\n",
       " ('Sen. Chuck Schumer', 'US senator', datetime.date(2007, 1, 25)),\n",
       " ('Sen. Chuck Schumer', 'US senator', datetime.date(2005, 9, 29)),\n",
       " ('Sen. Hillary Clinton', 'US senator', datetime.date(2003, 10, 8)),\n",
       " ('Sen. Joe Biden', 'US senator', datetime.date(2007, 1, 31)),\n",
       " ('Sen. Joe Biden', 'US senator', datetime.date(2007, 8, 8)),\n",
       " ('Sen. Joe Biden', 'US senator', datetime.date(2004, 7, 28)),\n",
       " ('Sen. Joe Biden', 'US senator', datetime.date(2005, 8, 2)),\n",
       " ('Sen. Joe Lieberman', 'US senator', datetime.date(2005, 1, 20)),\n",
       " ('Sen. John Edwards', 'US senator', datetime.date(2005, 10, 5)),\n",
       " ('Sen. John Edwards', 'US senator', datetime.date(2003, 9, 15)),\n",
       " ('Sen. John Kerry', 'US senator', datetime.date(2007, 3, 26)),\n",
       " ('Sen. John McCain', 'US senator', datetime.date(2007, 4, 24)),\n",
       " ('Sen. John McCain', 'US senator', datetime.date(2004, 9, 2)),\n",
       " ('Sen. John McCain', 'US senator', datetime.date(2004, 5, 10)),\n",
       " ('Sen. John McCain', 'US senator', datetime.date(2007, 8, 16)),\n",
       " ('Sen. John McCain', 'US senator', datetime.date(2004, 1, 21)),\n",
       " ('Sen. John McCain', 'US senator', datetime.date(2005, 11, 8)),\n",
       " ('Sen. Rick Santorum', 'US senator', datetime.date(2005, 7, 25)),\n",
       " ('Sen. Tom Coburn', 'US senator', datetime.date(2012, 5, 2)),\n",
       " ('Sen. Tom Daschle', 'US senator', datetime.date(2003, 12, 2)),\n",
       " ('Sen. Trent Lott', 'US senator', datetime.date(2005, 8, 24)),\n",
       " ('Sen. Zell Miller', 'US senator', datetime.date(2003, 12, 10)),\n",
       " ('Senator Bob Dole, part 1', 'US senator', datetime.date(1999, 12, 7)),\n",
       " ('Senator Bob Dole, part 2', 'US senator', datetime.date(1999, 12, 8)),\n",
       " ('Senator Russ Feingold', 'US senator', datetime.date(2006, 3, 22))]"
      ]
     },
     "execution_count": 8,
     "metadata": {},
     "output_type": "execute_result"
    }
   ],
   "source": [
    "%%sql\n",
    "\n",
    "  SELECT name, job_title, date_of_appearance\n",
    "    FROM Daily_Show_Guests\n",
    "   WHERE job_title = 'US senator'\n",
    "ORDER BY name;"
   ]
  },
  {
   "cell_type": "code",
   "execution_count": 9,
   "metadata": {},
   "outputs": [
    {
     "name": "stdout",
     "output_type": "stream",
     "text": [
      " * postgresql://isdb@localhost/postgres\n",
      "27 rows affected.\n"
     ]
    },
    {
     "data": {
      "text/html": [
       "<table>\n",
       "    <tr>\n",
       "        <th>name</th>\n",
       "    </tr>\n",
       "    <tr>\n",
       "        <td>Bernie Sanders</td>\n",
       "    </tr>\n",
       "    <tr>\n",
       "        <td>Bob Menendez</td>\n",
       "    </tr>\n",
       "    <tr>\n",
       "        <td>Charles Schumer</td>\n",
       "    </tr>\n",
       "    <tr>\n",
       "        <td>Chuck Schumer</td>\n",
       "    </tr>\n",
       "    <tr>\n",
       "        <td>Cory Booker</td>\n",
       "    </tr>\n",
       "    <tr>\n",
       "        <td>Dick Durbin</td>\n",
       "    </tr>\n",
       "    <tr>\n",
       "        <td>Elizabeth Warren</td>\n",
       "    </tr>\n",
       "    <tr>\n",
       "        <td>John McCain</td>\n",
       "    </tr>\n",
       "    <tr>\n",
       "        <td>Sen. Barack Obama</td>\n",
       "    </tr>\n",
       "    <tr>\n",
       "        <td>Sen. Barbara Boxer</td>\n",
       "    </tr>\n",
       "    <tr>\n",
       "        <td>Sen. Charles Schumer</td>\n",
       "    </tr>\n",
       "    <tr>\n",
       "        <td>Sen. Christopher Dodd</td>\n",
       "    </tr>\n",
       "    <tr>\n",
       "        <td>Sen. Chuck Schumer</td>\n",
       "    </tr>\n",
       "    <tr>\n",
       "        <td>Sen. Hillary Clinton</td>\n",
       "    </tr>\n",
       "    <tr>\n",
       "        <td>Sen. Joe Biden</td>\n",
       "    </tr>\n",
       "    <tr>\n",
       "        <td>Sen. Joe Lieberman</td>\n",
       "    </tr>\n",
       "    <tr>\n",
       "        <td>Sen. John Edwards</td>\n",
       "    </tr>\n",
       "    <tr>\n",
       "        <td>Sen. John Kerry</td>\n",
       "    </tr>\n",
       "    <tr>\n",
       "        <td>Sen. John McCain</td>\n",
       "    </tr>\n",
       "    <tr>\n",
       "        <td>Sen. Rick Santorum</td>\n",
       "    </tr>\n",
       "    <tr>\n",
       "        <td>Sen. Tom Coburn</td>\n",
       "    </tr>\n",
       "    <tr>\n",
       "        <td>Sen. Tom Daschle</td>\n",
       "    </tr>\n",
       "    <tr>\n",
       "        <td>Sen. Trent Lott</td>\n",
       "    </tr>\n",
       "    <tr>\n",
       "        <td>Sen. Zell Miller</td>\n",
       "    </tr>\n",
       "    <tr>\n",
       "        <td>Senator Bob Dole, part 1</td>\n",
       "    </tr>\n",
       "    <tr>\n",
       "        <td>Senator Bob Dole, part 2</td>\n",
       "    </tr>\n",
       "    <tr>\n",
       "        <td>Senator Russ Feingold</td>\n",
       "    </tr>\n",
       "</table>"
      ],
      "text/plain": [
       "[('Bernie Sanders',),\n",
       " ('Bob Menendez',),\n",
       " ('Charles Schumer',),\n",
       " ('Chuck Schumer',),\n",
       " ('Cory Booker',),\n",
       " ('Dick Durbin',),\n",
       " ('Elizabeth Warren',),\n",
       " ('John McCain',),\n",
       " ('Sen. Barack Obama',),\n",
       " ('Sen. Barbara Boxer',),\n",
       " ('Sen. Charles Schumer',),\n",
       " ('Sen. Christopher Dodd',),\n",
       " ('Sen. Chuck Schumer',),\n",
       " ('Sen. Hillary Clinton',),\n",
       " ('Sen. Joe Biden',),\n",
       " ('Sen. Joe Lieberman',),\n",
       " ('Sen. John Edwards',),\n",
       " ('Sen. John Kerry',),\n",
       " ('Sen. John McCain',),\n",
       " ('Sen. Rick Santorum',),\n",
       " ('Sen. Tom Coburn',),\n",
       " ('Sen. Tom Daschle',),\n",
       " ('Sen. Trent Lott',),\n",
       " ('Sen. Zell Miller',),\n",
       " ('Senator Bob Dole, part 1',),\n",
       " ('Senator Bob Dole, part 2',),\n",
       " ('Senator Russ Feingold',)]"
      ]
     },
     "execution_count": 9,
     "metadata": {},
     "output_type": "execute_result"
    }
   ],
   "source": [
    "%%sql\n",
    "\n",
    "SELECT distinct name\n",
    "    FROM Daily_Show_Guests\n",
    "   WHERE job_title = 'US senator'\n",
    "ORDER BY name;"
   ]
  },
  {
   "cell_type": "code",
   "execution_count": null,
   "metadata": {},
   "outputs": [],
   "source": []
  }
 ],
 "metadata": {
  "kernelspec": {
   "display_name": "Python 3",
   "language": "python",
   "name": "python3"
  },
  "language_info": {
   "codemirror_mode": {
    "name": "ipython",
    "version": 3
   },
   "file_extension": ".py",
   "mimetype": "text/x-python",
   "name": "python",
   "nbconvert_exporter": "python",
   "pygments_lexer": "ipython3",
   "version": "3.7.3"
  }
 },
 "nbformat": 4,
 "nbformat_minor": 1
}
