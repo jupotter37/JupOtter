{
  "nbformat": 4,
  "nbformat_minor": 0,
  "metadata": {
    "colab": {
      "provenance": []
    },
    "kernelspec": {
      "name": "python3",
      "display_name": "Python 3"
    },
    "language_info": {
      "name": "python"
    }
  },
  "cells": [
    {
      "cell_type": "markdown",
      "source": [
        "###`Problem 1:` Combine two lists index-wise(columns wise)\n",
        "\n",
        "Write a program to add two lists index-wise Create a new list that contains the 0th index item from both the list, then the 1st index item, and so on till the last element. any leftover items will get added at the end of the new list.\n",
        "\n",
        "`Given List:`\n",
        "```\n",
        "list1 = [\"M\", \"na\", \"i\", \"Kh\"]\n",
        "list2 = [\"y\", \"me\", \"s\", \"an\"]\n",
        "```\n",
        "\n",
        "`Output:`\n",
        "```\n",
        "[['M','y'], ['na', me'], ['i', 's'], ['Kh', 'an']]\n",
        "```"
      ],
      "metadata": {
        "id": "kLZ_vCeE0lsM"
      }
    },
    {
      "cell_type": "code",
      "source": [
        "list1 = [\"M\", \"na\", \"i\", \"Kh\"]\n",
        "list2 = [\"y\", \"me\", \"s\", \"an\"]\n",
        "x = (list(zip(list1,list2)))\n",
        "list_final = []\n",
        "for i in x:\n",
        "  l = ['','']\n",
        "  l[0] = i[0]\n",
        "  l[1] = i[1]\n",
        "  list_final.append(l)\n",
        "print(list_final)\n",
        "\n",
        "\n"
      ],
      "metadata": {
        "id": "cDO3Yv6p0nnG",
        "outputId": "0e2b21be-ffea-40d2-85b1-68f8a49409c8",
        "colab": {
          "base_uri": "https://localhost:8080/"
        }
      },
      "execution_count": 1,
      "outputs": [
        {
          "output_type": "stream",
          "name": "stdout",
          "text": [
            "[['M', 'y'], ['na', 'me'], ['i', 's'], ['Kh', 'an']]\n"
          ]
        }
      ]
    },
    {
      "cell_type": "markdown",
      "source": [
        "### `Problem 2:` Add new item to list after a specified item\n",
        "Write a program to add item 7000 after 6000 in the following Python List\n",
        "```\n",
        "list1 = [10, 20, [300, 400, [5000, 6000], 500], 30, 40]\n",
        "```\n",
        "`Output:`\n",
        "```\n",
        "[10, 20, [300, 400, [5000, 6000, 7000], 500], 30, 40]\n",
        "```"
      ],
      "metadata": {
        "id": "bnRwRgf_0qLu"
      }
    },
    {
      "cell_type": "code",
      "source": [
        "list1 = [10, 20, [300, 400, [5000, 6000], 500], 30, 40]\n",
        "print(list1)\n",
        "list1[2][2].append(7000)\n",
        "print(list1)"
      ],
      "metadata": {
        "id": "yW5lLPns00q9",
        "outputId": "2b70c9ff-a801-434c-f7e9-c4a5079124cb",
        "colab": {
          "base_uri": "https://localhost:8080/"
        }
      },
      "execution_count": 2,
      "outputs": [
        {
          "output_type": "stream",
          "name": "stdout",
          "text": [
            "[10, 20, [300, 400, [5000, 6000], 500], 30, 40]\n",
            "[10, 20, [300, 400, [5000, 6000, 7000], 500], 30, 40]\n"
          ]
        }
      ]
    },
    {
      "cell_type": "markdown",
      "source": [
        "###`Problem 3:` Update no of items available\n",
        "\n",
        "Suppose you are given a list of candy and another list of same size representing no of items of respective candy.\n",
        "\n",
        "i.e -  \n",
        "```\n",
        "candy_list = ['Jelly Belly','Kit Kat','Double Bubble','Milky Way','Three Musketeers']\n",
        "no_of_items = [10,20,34,74,32]\n",
        "```\n",
        "\n",
        "Write a program to show no. of items of each candy type.\n",
        "\n",
        "`Output:`\n",
        "\n",
        "```\n",
        "Jelly Belly-10\n",
        "Kit Kat-20\n",
        "Double Bubble-34\n",
        "Milky Way-74\n",
        "Three Musketeers-32\n",
        "\n",
        "```"
      ],
      "metadata": {
        "id": "w7fC8oHk02fH"
      }
    },
    {
      "cell_type": "code",
      "source": [
        "candy_list = ['Jelly Belly','Kit Kat','Double Bubble','Milky Way','Three Musketeers']\n",
        "no_of_items = [10,20,34,74,32]\n",
        "\n",
        "for i in range(len(candy_list)):\n",
        "  print(candy_list[i],\"-\",no_of_items[i])\n"
      ],
      "metadata": {
        "id": "gg5JEX1a09q8",
        "outputId": "3e73a50f-b47a-4184-b997-64bbf9197544",
        "colab": {
          "base_uri": "https://localhost:8080/"
        }
      },
      "execution_count": 3,
      "outputs": [
        {
          "output_type": "stream",
          "name": "stdout",
          "text": [
            "Jelly Belly - 10\n",
            "Kit Kat - 20\n",
            "Double Bubble - 34\n",
            "Milky Way - 74\n",
            "Three Musketeers - 32\n"
          ]
        }
      ]
    },
    {
      "cell_type": "markdown",
      "source": [
        "###`Problem 4:` Running Sum on list\n",
        "Write a program to print a list after performing running sum on it.\n",
        "\n",
        "i.e:\n",
        "\n",
        "`Input:`\n",
        "```\n",
        "list1 = [1,2,3,4,5,6]\n",
        "```\n",
        "`Output:`\n",
        "```\n",
        "[1,3,6,10,15,21]\n",
        "```"
      ],
      "metadata": {
        "id": "mFGZAvnB1D3N"
      }
    },
    {
      "cell_type": "code",
      "source": [
        "l = []\n",
        "list1 = [1,2,3,4,5,6]\n",
        "for i in range(len(list1)):\n",
        "  sum = 0\n",
        "  for j in range(0,i+1):\n",
        "    sum += list1[j]\n",
        "  l.append(sum)\n",
        "print(l)\n"
      ],
      "metadata": {
        "id": "8LPS6DaD1FTs",
        "outputId": "020e3fe7-cde1-4ff9-f6bd-92bedaa73cdd",
        "colab": {
          "base_uri": "https://localhost:8080/"
        }
      },
      "execution_count": 4,
      "outputs": [
        {
          "output_type": "stream",
          "name": "stdout",
          "text": [
            "[1, 3, 6, 10, 15, 21]\n"
          ]
        }
      ]
    },
    {
      "cell_type": "markdown",
      "source": [
        "###`Problem 5:` You are given a list of integers. You are asked to make a list by running through elements of the list by adding all elements greater and itself.\n",
        "\n",
        "i.e. Say given list is `[2,4,6,10,1]`\n",
        "resultant list will be `[22,20,10,23]`.\n",
        "\n",
        "For 1st element `2` ->> these are greater `(4+6+10)` values and `2` itself so on adding becomes `22`.\n",
        "\n",
        "For 2nd element `4` ->> greater elements are `(6, 10)` and `4` itself, so on adding `20`\n",
        "\n",
        "like wise for all other elememts.\n",
        "\n",
        "`[2,4,6,10,1]`-->`[22,20,16,10,23]`\n",
        "\n",
        "\n"
      ],
      "metadata": {
        "id": "2ztcZ-EW1HEU"
      }
    },
    {
      "cell_type": "code",
      "source": [
        "list1 = [2,4,6,10,1]\n",
        "l = []\n",
        "for i in range(len(list1)):\n",
        "  sum = 0\n",
        "  for j in range(len(list1)):\n",
        "    if(list1[j]>=list1[i]):\n",
        "      sum += list1[j]\n",
        "  l.append(sum)\n",
        "print(l)"
      ],
      "metadata": {
        "id": "UJuWqzj31UD2",
        "outputId": "03975a73-6dc3-414b-bae8-3ae9797510a4",
        "colab": {
          "base_uri": "https://localhost:8080/"
        }
      },
      "execution_count": 5,
      "outputs": [
        {
          "output_type": "stream",
          "name": "stdout",
          "text": [
            "[22, 20, 16, 10, 23]\n"
          ]
        }
      ]
    },
    {
      "cell_type": "markdown",
      "source": [
        "###`Problem 6:` Find list of common unique items from two list. and show in increasing order\n",
        "\n",
        "`Input`\n",
        "\n",
        "```\n",
        "num1 = [23,45,67,78,89,34]\n",
        "num2 = [34,89,55,56,39,67]\n",
        "```\n",
        "\n",
        "`Output:`\n",
        "```\n",
        "[34, 67, 89]\n",
        "```\n"
      ],
      "metadata": {
        "id": "c9H6tYTx1ZYo"
      }
    },
    {
      "cell_type": "code",
      "source": [
        "num1 = [23,45,67,78,89,34]\n",
        "num2 = [34,89,55,56,39,67]\n",
        "l = []\n",
        "for i in range(len(num1)):\n",
        "    curr_elem = num1[i]\n",
        "    if curr_elem  in num2:\n",
        "      l.append(curr_elem)\n",
        "l.sort()\n",
        "print(l)\n"
      ],
      "metadata": {
        "id": "dDxdi7eE1e1W",
        "outputId": "4849b83f-2cf1-4de9-f65f-e7853042d753",
        "colab": {
          "base_uri": "https://localhost:8080/"
        }
      },
      "execution_count": 6,
      "outputs": [
        {
          "output_type": "stream",
          "name": "stdout",
          "text": [
            "[34, 67, 89]\n"
          ]
        }
      ]
    },
    {
      "cell_type": "markdown",
      "source": [
        "###`Problem 7:` Sort a list of alphanumeric strings based on product value of numeric character in it. If in any string there is no numeric character take it's product value as 1.\n",
        "\n",
        "`Input:`\n",
        "```\n",
        "['1ac21', '23fg', '456', '098d','1','kls']\n",
        "```\n",
        "\n",
        "`Output:`\n",
        "```\n",
        "['456', '23fg', '1ac21', '1', 'kls', '098d']\n",
        "\n",
        "```"
      ],
      "metadata": {
        "id": "i3Izok2i1gRD"
      }
    },
    {
      "cell_type": "code",
      "source": [
        "l = ['1ac21', '23fg', '456', '098d','1','kls']\n",
        "res = []\n",
        "for i in l:\n",
        "  prod = 1\n",
        "  for j in i:\n",
        "    if(j.isnumeric()):\n",
        "      prod *= int(j)\n",
        "  res.append(prod)\n",
        "print(res)\n",
        "x = list(zip(l,res))\n",
        "[y[0] for y in sorted(x,reverse=True)]"
      ],
      "metadata": {
        "id": "eiXSanG11oq6",
        "outputId": "e5873066-0f31-42c3-abea-b7ea89128b54",
        "colab": {
          "base_uri": "https://localhost:8080/"
        }
      },
      "execution_count": 7,
      "outputs": [
        {
          "output_type": "stream",
          "name": "stdout",
          "text": [
            "[2, 6, 120, 0, 1, 1]\n"
          ]
        },
        {
          "output_type": "execute_result",
          "data": {
            "text/plain": [
              "['kls', '456', '23fg', '1ac21', '1', '098d']"
            ]
          },
          "metadata": {},
          "execution_count": 7
        }
      ]
    },
    {
      "cell_type": "markdown",
      "source": [
        "`Problem 8:` Split String of list on K character.\n",
        "\n",
        "**Example :**\n",
        "\n",
        "Input:\n",
        "```bash\n",
        "['CampusX is a channel', 'for data-science', 'aspirants.']\n",
        "```\n",
        "\n",
        "Output:\n",
        "```bash\n",
        "['CampusX', 'is', 'a', 'channel', 'for', 'data-science', 'aspirants.']\n",
        "```"
      ],
      "metadata": {
        "id": "McMaNSpB1zJB"
      }
    },
    {
      "cell_type": "code",
      "source": [
        "l = ['CampusX is a channel', 'for data-science', 'aspirants.']\n",
        "list_out = []\n",
        "for i in l:\n",
        "  for j in i.split():\n",
        "    list_out.append(j)\n",
        "list_out"
      ],
      "metadata": {
        "id": "rLg6AUhf14wI",
        "outputId": "d2ee91bf-a9db-432d-a11d-9f949b3731a8",
        "colab": {
          "base_uri": "https://localhost:8080/"
        }
      },
      "execution_count": 8,
      "outputs": [
        {
          "output_type": "execute_result",
          "data": {
            "text/plain": [
              "['CampusX', 'is', 'a', 'channel', 'for', 'data-science', 'aspirants.']"
            ]
          },
          "metadata": {},
          "execution_count": 8
        }
      ]
    },
    {
      "cell_type": "markdown",
      "source": [
        "### `Problem 9:` Convert Character Matrix to single String using string comprehension.\n",
        "\n",
        "**Example 1:**\n",
        "\n",
        "Input:\n",
        "```bash\n",
        "[['c', 'a', 'm', 'p', 'u', 'x'], ['i', 's'], ['b', 'e', 's', 't'], ['c', 'h', 'a', 'n', 'n', 'e', 'l']]\n",
        "```\n",
        "\n",
        "Output:\n",
        "```bash\n",
        "campux is best channel\n",
        "```"
      ],
      "metadata": {
        "id": "ebqIC0Xa16dG"
      }
    },
    {
      "cell_type": "code",
      "source": [
        "l = [['c', 'a', 'm', 'p', 'u', 'x'], ['i', 's'], ['b', 'e', 's', 't'], ['c', 'h', 'a', 'n', 'n', 'e', 'l']]\n",
        "final_str = \"\"\n",
        "for i in l:\n",
        "  s = \"\"\n",
        "  for j in i:\n",
        "    s += j\n",
        "  final_str += s + \" \"\n",
        "print(final_str)"
      ],
      "metadata": {
        "id": "KLKxzyZf2BLr",
        "outputId": "03f31a53-e40f-40d8-a0d5-65abf23f8755",
        "colab": {
          "base_uri": "https://localhost:8080/"
        }
      },
      "execution_count": 9,
      "outputs": [
        {
          "output_type": "stream",
          "name": "stdout",
          "text": [
            "campux is best channel \n"
          ]
        }
      ]
    },
    {
      "cell_type": "markdown",
      "source": [
        "### `Problem 10:` Add Space between Potential Words.\n",
        "\n",
        "**Example:**\n",
        "\n",
        "Input:\n",
        "\n",
        "```bash\n",
        "['campusxIs', 'bestFor', 'dataScientist']\n",
        "```\n",
        "\n",
        "Output:\n",
        "```bash\n",
        "['campusx Is', 'best For', 'data Scientist']\n",
        "```"
      ],
      "metadata": {
        "id": "0v1Z3Snp2DAm"
      }
    },
    {
      "cell_type": "code",
      "source": [
        "l = ['campusxIs', 'bestFor', 'dataScientist']\n",
        "list_out = []\n",
        "for i in l:\n",
        "  s = \"\"\n",
        "  for j in i:\n",
        "    if(j.isupper()):\n",
        "      s  += \" \"+j\n",
        "    else:\n",
        "      s += j\n",
        "  list_out.append(s)\n",
        "print(list_out)\n"
      ],
      "metadata": {
        "id": "pltvqSXa2IxP",
        "outputId": "e7ecbf4e-8b6d-42d3-8722-6075f29df2e5",
        "colab": {
          "base_uri": "https://localhost:8080/"
        }
      },
      "execution_count": 10,
      "outputs": [
        {
          "output_type": "stream",
          "name": "stdout",
          "text": [
            "['campusx Is', 'best For', 'data Scientist']\n"
          ]
        }
      ]
    },
    {
      "cell_type": "markdown",
      "source": [
        "### `Problem 11:` Write a program that can perform union operation on 2 lists\n",
        "\n",
        "**Example:**\n",
        "\n",
        "Input:\n",
        "\n",
        "```bash\n",
        "[1,2,3,4,5,1]\n",
        "[2,3,5,7,8]\n",
        "```\n",
        "\n",
        "Output:\n",
        "```bash\n",
        "[1,2,3,4,5,7,8]\n",
        "```"
      ],
      "metadata": {
        "id": "tnmBk1M52KXW"
      }
    },
    {
      "cell_type": "code",
      "source": [
        "l1 = [1,2,3,4,5,1]\n",
        "l2  = [2,3,5,7,8]\n",
        "l3 = []\n",
        "for i in l1:\n",
        "  if i not in l3:\n",
        "    l3.append(i)\n",
        "\n",
        "for i in l2:\n",
        "  if i not in l3:\n",
        "    l3.append(i)\n",
        "print(l3)"
      ],
      "metadata": {
        "id": "u0AgIToU2-Ht",
        "colab": {
          "base_uri": "https://localhost:8080/"
        },
        "outputId": "cc88f1e9-e74d-4c53-ac51-0d06e4d5115b"
      },
      "execution_count": 11,
      "outputs": [
        {
          "output_type": "stream",
          "name": "stdout",
          "text": [
            "[1, 2, 3, 4, 5, 7, 8]\n"
          ]
        }
      ]
    },
    {
      "cell_type": "markdown",
      "source": [
        "### `Problem 12:` Write a program that can find the max number of each row of a matrix\n",
        "\n",
        "**Example:**\n",
        "\n",
        "Input:\n",
        "\n",
        "```bash\n",
        "[[1,2,3],[4,5,6],[7,8,9]]\n",
        "```\n",
        "\n",
        "Output:\n",
        "```bash\n",
        "[3,6,9]\n",
        "```"
      ],
      "metadata": {
        "id": "Yt8x67Ch3Ow1"
      }
    },
    {
      "cell_type": "code",
      "source": [
        "l = [[1,2,3],[4,5,6],[7,8,9]]\n",
        "list_out = []\n",
        "for i in l:\n",
        "  list_out.append(max(i))\n",
        "print(list_out)"
      ],
      "metadata": {
        "id": "7QopAaAI3noh",
        "colab": {
          "base_uri": "https://localhost:8080/"
        },
        "outputId": "89967e05-b697-41b8-f8d1-4dc39d7a8ec6"
      },
      "execution_count": 12,
      "outputs": [
        {
          "output_type": "stream",
          "name": "stdout",
          "text": [
            "[3, 6, 9]\n"
          ]
        }
      ]
    }
  ]
}


