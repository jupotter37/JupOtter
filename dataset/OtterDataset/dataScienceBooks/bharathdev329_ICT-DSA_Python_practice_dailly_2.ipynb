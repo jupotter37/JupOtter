{
  "nbformat": 4,
  "nbformat_minor": 0,
  "metadata": {
    "colab": {
      "provenance": [],
      "authorship_tag": "ABX9TyPH60Kh1RShVAxcr/pQ7TsL",
      "include_colab_link": true
    },
    "kernelspec": {
      "name": "python3",
      "display_name": "Python 3"
    },
    "language_info": {
      "name": "python"
    }
  },
  "cells": [
    {
      "cell_type": "markdown",
      "metadata": {
        "id": "view-in-github",
        "colab_type": "text"
      },
      "source": [
        "<a href=\"https://colab.research.google.com/github/bharathdev329/ICT-DSA/blob/main/Python_practice_dailly_2.ipynb\" target=\"_parent\"><img src=\"https://colab.research.google.com/assets/colab-badge.svg\" alt=\"Open In Colab\"/></a>"
      ]
    },
    {
      "cell_type": "markdown",
      "source": [
        "1.Given the string \"Hello, World!\", extract and print the substring \"Hello\"."
      ],
      "metadata": {
        "id": "yK7uo5eNenFJ"
      }
    },
    {
      "cell_type": "code",
      "execution_count": 2,
      "metadata": {
        "colab": {
          "base_uri": "https://localhost:8080/"
        },
        "id": "CaE09a-dedbX",
        "outputId": "3af731c9-4424-41ed-b443-0218baa4878a"
      },
      "outputs": [
        {
          "output_type": "stream",
          "name": "stdout",
          "text": [
            "Hello\n"
          ]
        }
      ],
      "source": [
        "print('Hello World!'[0:5])"
      ]
    },
    {
      "cell_type": "markdown",
      "source": [
        "2. Given the string \"Python is fun\", extract and print the substring \"is\"."
      ],
      "metadata": {
        "id": "ltatQ4QvfAC7"
      }
    },
    {
      "cell_type": "code",
      "source": [
        "print(\"Python is fun\"[7:9])"
      ],
      "metadata": {
        "colab": {
          "base_uri": "https://localhost:8080/"
        },
        "id": "gYae_v26e5Qr",
        "outputId": "0e31ba37-1be0-43de-f2d8-73eaccd5fa6d"
      },
      "execution_count": 3,
      "outputs": [
        {
          "output_type": "stream",
          "name": "stdout",
          "text": [
            "is\n"
          ]
        }
      ]
    },
    {
      "cell_type": "markdown",
      "source": [
        "3. Given the string \"Programming\", extract and print the substring \"gram\" using slicing indices."
      ],
      "metadata": {
        "id": "LBQceQH_fOdl"
      }
    },
    {
      "cell_type": "code",
      "source": [
        "print(\"Programming\"[3:7])"
      ],
      "metadata": {
        "colab": {
          "base_uri": "https://localhost:8080/"
        },
        "id": "WyS7WHmkfLyK",
        "outputId": "7105222f-8441-4872-eb60-1f88a429c3ce"
      },
      "execution_count": 4,
      "outputs": [
        {
          "output_type": "stream",
          "name": "stdout",
          "text": [
            "gram\n"
          ]
        }
      ]
    },
    {
      "cell_type": "markdown",
      "source": [
        "4. Given the string \"abcdefgh\", use slicing to print only the characters at even indices."
      ],
      "metadata": {
        "id": "RglxhMOafcqW"
      }
    },
    {
      "cell_type": "code",
      "source": [
        "print(\"abcdefgh\"[::2])"
      ],
      "metadata": {
        "colab": {
          "base_uri": "https://localhost:8080/"
        },
        "id": "IDnEjxSvfZTF",
        "outputId": "17cdbcbc-1cef-4e0c-dc4b-d96a3ef30528"
      },
      "execution_count": 5,
      "outputs": [
        {
          "output_type": "stream",
          "name": "stdout",
          "text": [
            "aceg\n"
          ]
        }
      ]
    },
    {
      "cell_type": "markdown",
      "source": [
        "5. Given the string \"abcdefg\", use negative indices to extract and print the substring \"efg\"."
      ],
      "metadata": {
        "id": "j1FIBnKwfkU2"
      }
    },
    {
      "cell_type": "code",
      "source": [
        "print(\"abcdefg\"[-3:])"
      ],
      "metadata": {
        "colab": {
          "base_uri": "https://localhost:8080/"
        },
        "id": "rHK5abbwfjN7",
        "outputId": "757613c0-3075-403c-90f5-48e1fa9d6d00"
      },
      "execution_count": 8,
      "outputs": [
        {
          "output_type": "stream",
          "name": "stdout",
          "text": [
            "efg\n"
          ]
        }
      ]
    },
    {
      "cell_type": "markdown",
      "source": [
        "6. Given the string \"Data Science\", use negative indices to extract and print the last three characters."
      ],
      "metadata": {
        "id": "pTjXLDGvgLYD"
      }
    },
    {
      "cell_type": "code",
      "source": [
        "print(\"Data Science\"[-3:])"
      ],
      "metadata": {
        "colab": {
          "base_uri": "https://localhost:8080/"
        },
        "id": "IbS1cDFmf-lL",
        "outputId": "80b8a4b8-db79-40c8-ed00-2bf663111290"
      },
      "execution_count": 9,
      "outputs": [
        {
          "output_type": "stream",
          "name": "stdout",
          "text": [
            "nce\n"
          ]
        }
      ]
    },
    {
      "cell_type": "markdown",
      "source": [
        "7. Given the string \"abcdefghij\", use slicing with a step to print every second character."
      ],
      "metadata": {
        "id": "UMVKApeSgSxj"
      }
    },
    {
      "cell_type": "code",
      "source": [
        "print(\"abcdefghij\"[::2])"
      ],
      "metadata": {
        "colab": {
          "base_uri": "https://localhost:8080/"
        },
        "id": "oi61B2rtgQTs",
        "outputId": "2a57eacb-8d16-49d3-e6dd-48343021f23e"
      },
      "execution_count": 10,
      "outputs": [
        {
          "output_type": "stream",
          "name": "stdout",
          "text": [
            "acegi\n"
          ]
        }
      ]
    },
    {
      "cell_type": "markdown",
      "source": [
        "8. Given the string \"1234567890\", use slicing with a step to print the odd digits."
      ],
      "metadata": {
        "id": "H64cm7gigcTk"
      }
    },
    {
      "cell_type": "code",
      "source": [
        "print(\"1234567890\"[0::2])"
      ],
      "metadata": {
        "colab": {
          "base_uri": "https://localhost:8080/"
        },
        "id": "BQ6_8YE2gYo8",
        "outputId": "8c2c9ba0-ad78-409a-e86e-bae448f5c214"
      },
      "execution_count": 12,
      "outputs": [
        {
          "output_type": "stream",
          "name": "stdout",
          "text": [
            "13579\n"
          ]
        }
      ]
    },
    {
      "cell_type": "markdown",
      "source": [
        "9. Given the string \"Hello\", use slicing to print the string in reverse order."
      ],
      "metadata": {
        "id": "c4963Qqegq5O"
      }
    },
    {
      "cell_type": "code",
      "source": [
        "print(\"Hello\"[::-1])"
      ],
      "metadata": {
        "colab": {
          "base_uri": "https://localhost:8080/"
        },
        "id": "9tB-ieKxgjW-",
        "outputId": "af333577-b854-4d3e-db64-d7f36d32c9e1"
      },
      "execution_count": 13,
      "outputs": [
        {
          "output_type": "stream",
          "name": "stdout",
          "text": [
            "olleH\n"
          ]
        }
      ]
    },
    {
      "cell_type": "markdown",
      "source": [
        "10. Given the string \"abcdefghijk\", extract and print the substring \"acegik\" using slicing."
      ],
      "metadata": {
        "id": "Gpn7uVtFg3AW"
      }
    },
    {
      "cell_type": "code",
      "source": [
        "print(\"abcdefghijk\"[0::2])"
      ],
      "metadata": {
        "colab": {
          "base_uri": "https://localhost:8080/"
        },
        "id": "bEs4zW2ogzIG",
        "outputId": "2350e7b5-f6a1-4420-fd1d-95a5e179e073"
      },
      "execution_count": 14,
      "outputs": [
        {
          "output_type": "stream",
          "name": "stdout",
          "text": [
            "acegik\n"
          ]
        }
      ]
    },
    {
      "cell_type": "markdown",
      "source": [
        "11. Write a program to find sum of all elements in a list of integers."
      ],
      "metadata": {
        "id": "J2Y8MnDPhA5P"
      }
    },
    {
      "cell_type": "code",
      "source": [
        "x=[1,2,3,4,5,6,7,8,9]\n",
        "print(sum(x))"
      ],
      "metadata": {
        "colab": {
          "base_uri": "https://localhost:8080/"
        },
        "id": "m2PbUaPvg_VA",
        "outputId": "d76caecd-9cb1-4deb-dd40-a794c501e201"
      },
      "execution_count": 15,
      "outputs": [
        {
          "output_type": "stream",
          "name": "stdout",
          "text": [
            "45\n"
          ]
        }
      ]
    },
    {
      "cell_type": "markdown",
      "source": [
        "12. Input a sentence as a string.\n",
        "\n",
        "a) Print its length\n",
        "\n",
        "b) Print the first half of string"
      ],
      "metadata": {
        "id": "7ORSlvNChLsC"
      }
    },
    {
      "cell_type": "code",
      "source": [
        "s=input(\"Enter a sentence: \")\n",
        "print(len(s))\n",
        "print(s[:len(s)//2])"
      ],
      "metadata": {
        "colab": {
          "base_uri": "https://localhost:8080/"
        },
        "id": "TRqZZQDfhIzx",
        "outputId": "abe28ddd-469b-4f23-b07f-47911a86edc7"
      },
      "execution_count": 16,
      "outputs": [
        {
          "output_type": "stream",
          "name": "stdout",
          "text": [
            "Enter a sentence: abcdef\n",
            "6\n",
            "abc\n"
          ]
        }
      ]
    },
    {
      "cell_type": "markdown",
      "source": [
        "13. Write a program to enter a tuple of integers as (78,45,32,19,82,77,40,39). Change the third value in the tuple to 100"
      ],
      "metadata": {
        "id": "-7UuouzyhifD"
      }
    },
    {
      "cell_type": "code",
      "source": [
        "num= (78,45,32,19,82,77,40,39)\n",
        "l=list(num)\n",
        "l[2]=100\n",
        "num=tuple(l)\n",
        "print(num)"
      ],
      "metadata": {
        "colab": {
          "base_uri": "https://localhost:8080/"
        },
        "id": "LU18wAMHhe6E",
        "outputId": "b5b59154-b09e-4aa4-d87c-29cf1d0daa02"
      },
      "execution_count": 17,
      "outputs": [
        {
          "output_type": "stream",
          "name": "stdout",
          "text": [
            "(78, 45, 100, 19, 82, 77, 40, 39)\n"
          ]
        }
      ]
    },
    {
      "cell_type": "markdown",
      "source": [
        "14. Consider a list\n",
        "listA=[19,32,10,55,31,32,94,29,10,65,77,40,40]\n",
        "\n",
        "(a) Delete the first occurrence of 32\n",
        "\n",
        "(b) Delete all occurrences of 40\n",
        "\n",
        "(c) Delete the value at index=5\n",
        "\n",
        "(d) Modify the value at index=9 as 300\n",
        "\n",
        "(e) Add 200 at index=2\n",
        "\n",
        "(f) Print the final list with its length, maximum value and sum of all elements"
      ],
      "metadata": {
        "id": "5WBUfMvziFS3"
      }
    },
    {
      "cell_type": "code",
      "source": [
        "listA=[19,32,10,55,31,32,94,29,10,65,77,40,40]\n",
        "listA.remove(32)\n",
        "\n",
        "while 40 in listA:\n",
        "  listA.remove(40)\n",
        "  print(listA)\n",
        "\n",
        "del listA[5]\n",
        "print(listA)\n",
        "\n",
        "listA[7]=300\n",
        "print(listA)\n",
        "\n",
        "listA[2]=200\n",
        "print(listA)\n",
        "\n",
        "print(len(listA))\n",
        "print(max(listA))\n",
        "print(sum(listA))\n"
      ],
      "metadata": {
        "colab": {
          "base_uri": "https://localhost:8080/"
        },
        "id": "XL0c9wH4h_ZF",
        "outputId": "3b831884-1687-4bea-e91f-8d92ad59c9b2"
      },
      "execution_count": 27,
      "outputs": [
        {
          "output_type": "stream",
          "name": "stdout",
          "text": [
            "[19, 10, 55, 31, 32, 94, 29, 10, 65, 77, 40]\n",
            "[19, 10, 55, 31, 32, 94, 29, 10, 65, 77]\n",
            "[19, 10, 55, 31, 32, 29, 10, 65, 77]\n",
            "[19, 10, 55, 31, 32, 29, 10, 300, 77]\n",
            "[19, 10, 200, 31, 32, 29, 10, 300, 77]\n",
            "9\n",
            "300\n",
            "708\n"
          ]
        }
      ]
    },
    {
      "cell_type": "markdown",
      "source": [
        "5. Consider a string ”The day has been long”.\n",
        "\n",
        "(a) Delete the value at index =4\n",
        "\n",
        "(b) Print the string 4 times in a single line with space between each repetition\n",
        "\n",
        "(c) Print the string 3 times in a new line each time\n",
        "\n",
        "(d) Modify the string at index 7 as ’A’\n",
        "\n",
        "(e) Print the string from index 4 to 15\n",
        "\n",
        "(f) Print the final string with its length"
      ],
      "metadata": {
        "id": "ZiQwvZt7jhOY"
      }
    },
    {
      "cell_type": "code",
      "source": [
        "a= list(\"The day has been long\")\n",
        "\n",
        "del a[4]\n",
        "print(a)\n",
        "\n",
        "string1 = \"\".join(a)\n",
        "print((string1 + \" \") * 4)\n",
        "\n",
        "print((string1 + \"\\n\") * 3)\n",
        "\n",
        "list1 = list(string1)\n",
        "list1[7] = 'A'\n",
        "\n",
        "string1 = \"\".join(list1)\n",
        "print(string1[4:16])\n",
        "\n",
        "print(\"Final string: \", string1)\n",
        "print(\"Length of the final string: \", len(string1))\n",
        "\n"
      ],
      "metadata": {
        "colab": {
          "base_uri": "https://localhost:8080/"
        },
        "id": "BtSzax_TiRI5",
        "outputId": "4f6e0286-3b12-45b6-939a-9d3ef1741d17"
      },
      "execution_count": 41,
      "outputs": [
        {
          "output_type": "stream",
          "name": "stdout",
          "text": [
            "['T', 'h', 'e', ' ', 'a', 'y', ' ', 'h', 'a', 's', ' ', 'b', 'e', 'e', 'n', ' ', 'l', 'o', 'n', 'g']\n",
            "The ay has been long The ay has been long The ay has been long The ay has been long \n",
            "The ay has been long\n",
            "The ay has been long\n",
            "The ay has been long\n",
            "\n",
            "ay Aas been \n",
            "Final string:  The ay Aas been long\n",
            "Length of the final string:  20\n"
          ]
        }
      ]
    },
    {
      "cell_type": "code",
      "source": [],
      "metadata": {
        "id": "hM9r07p_jvNo"
      },
      "execution_count": null,
      "outputs": []
    }
  ]
}