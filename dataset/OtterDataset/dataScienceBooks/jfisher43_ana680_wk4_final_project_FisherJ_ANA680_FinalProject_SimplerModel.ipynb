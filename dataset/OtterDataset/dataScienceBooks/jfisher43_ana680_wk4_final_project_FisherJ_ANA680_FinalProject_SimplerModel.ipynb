{
 "cells": [
  {
   "cell_type": "markdown",
   "metadata": {},
   "source": [
    "James Fisher\n",
    "9/1/2024\n",
    "ANA680\n",
    "\n",
    "Final Project: Predicting Medicare Provider Use of Annual Wellness Visits\n",
    "\n",
    "In this Notebook, I simplify the model a bit, reducing its accuracy by a couple percent (still 72.8%) but dramatically reducing the pkl file from over 1.1GB to under 75MB."
   ]
  },
  {
   "cell_type": "code",
   "execution_count": 1,
   "metadata": {},
   "outputs": [],
   "source": [
    "#import libraries\n",
    "import pandas as pd\n",
    "import numpy as np\n",
    "from sklearn.preprocessing import StandardScaler, LabelEncoder\n",
    "from sklearn.ensemble import RandomForestClassifier\n",
    "from sklearn.metrics import accuracy_score as accuracy\n",
    "from sklearn.metrics import confusion_matrix\n",
    "from sklearn.model_selection import GridSearchCV\n",
    "import pickle as pkl\n",
    "\n"
   ]
  },
  {
   "cell_type": "code",
   "execution_count": 2,
   "metadata": {},
   "outputs": [],
   "source": [
    "#import data\n",
    "data = pd.read_csv('C:/Users/unkno/Desktop/MS Data Science/Class 9 - ANA680/Week 4/fp/prepared_data.csv')\n",
    "\n",
    "##temporary\n",
    "#drop rows where Rndrng_Prvdr_State_Abrvtn is 'PR', 'GU', 'VI', 'MP', 'AS', 'MH', 'PW', 'FM', 'AS', 'DC' because these are not US states\n",
    "data = data[~data.Rndrng_Prvdr_State_Abrvtn.isin(['PR', 'GU', 'VI', 'MP', 'AS', 'MH', 'PW', 'FM', 'AS', 'DC', 'AA', 'AE', 'AP', 'XX', 'ZZ'])]\n"
   ]
  },
  {
   "cell_type": "code",
   "execution_count": 3,
   "metadata": {},
   "outputs": [],
   "source": [
    "#simplify the data by randomly sampling 5% of the data\n",
    "data = data.sample(frac=0.05, random_state=66)\n",
    "\n",
    "data = data[['Rndrng_Prvdr_Gndr', 'Tot_Srvcs', 'Tot_Benes', 'Med_Tot_Benes', 'Med_Tot_Srvcs',\n",
    "       'Bene_Avg_Risk_Scre', 'has_MD', 'Bene_Feml_Cnt', 'Tot_HCPCS_Cds',\n",
    "       'Tot_Mdcr_Pymt_Amt', 'is_NP', 'Tot_Sbmtd_Chrg', 'Bene_Male_Cnt']]"
   ]
  },
  {
   "cell_type": "code",
   "execution_count": 4,
   "metadata": {},
   "outputs": [
    {
     "name": "stdout",
     "output_type": "stream",
     "text": [
      "Index(['Rndrng_Prvdr_Gndr', 'Tot_Srvcs', 'Tot_Benes', 'Med_Tot_Benes',\n",
      "       'Med_Tot_Srvcs', 'Bene_Avg_Risk_Scre', 'has_MD', 'Bene_Feml_Cnt',\n",
      "       'Tot_HCPCS_Cds', 'Tot_Mdcr_Pymt_Amt', 'is_NP', 'Tot_Sbmtd_Chrg',\n",
      "       'Bene_Male_Cnt'],\n",
      "      dtype='object')\n",
      "        Rndrng_Prvdr_Gndr  Tot_Srvcs  Tot_Benes  Med_Tot_Benes  Med_Tot_Srvcs  \\\n",
      "675206                  0      341.0        303          303.0          341.0   \n",
      "772164                  0      525.0        280          280.0          525.0   \n",
      "540112                  0      654.0        151          151.0          566.0   \n",
      "252305                  0      598.0         52           52.0          598.0   \n",
      "47309                   0     3635.0        307          307.0         3635.0   \n",
      "\n",
      "        Bene_Avg_Risk_Scre  has_MD  Bene_Feml_Cnt  Tot_HCPCS_Cds  \\\n",
      "675206              1.6488       1          157.0             21   \n",
      "772164              2.3284       1          141.0             28   \n",
      "540112              1.2990       0          100.0             72   \n",
      "252305              1.0785       0           20.0              2   \n",
      "47309               0.9118       0          193.0             12   \n",
      "\n",
      "        Tot_Mdcr_Pymt_Amt  is_NP  Tot_Sbmtd_Chrg  Bene_Male_Cnt  \n",
      "675206           38247.61      0       265875.00          146.0  \n",
      "772164           44925.97      0       250739.00          139.0  \n",
      "540112           48811.02      0       224347.88           51.0  \n",
      "252305           16882.24      0        49380.00           32.0  \n",
      "47309            75160.19      0       224720.00          114.0  \n"
     ]
    }
   ],
   "source": [
    "#recode so that M = 0 and F = 1 for Rndrng_Prvdr_Gndr (provider gender)\n",
    "data['Rndrng_Prvdr_Gndr'] = data['Rndrng_Prvdr_Gndr'].replace('M', 0)\n",
    "data['Rndrng_Prvdr_Gndr'] = data['Rndrng_Prvdr_Gndr'].replace('F', 1)\n",
    "\n",
    "#replace NaN values with 0 (no services rendered, values were NaN on import because they were blank in the original data)\n",
    "data.fillna(0, inplace=True)\n",
    "\n",
    "#print columns\n",
    "print(data.columns)\n",
    "\n",
    "#print head\n",
    "print(data.head())"
   ]
  },
  {
   "cell_type": "code",
   "execution_count": 5,
   "metadata": {},
   "outputs": [],
   "source": [
    "#split data into target and features\n",
    "from sklearn.model_selection import train_test_split\n",
    "X = data.drop('Rndrng_Prvdr_Gndr', axis=1)\n",
    "y = data['Rndrng_Prvdr_Gndr']\n",
    "\n",
    "#flatten y into a 1D array\n",
    "y = y.to_numpy().ravel()\n",
    "\n",
    "#split data into training and testing\n",
    "X_train, X_test, y_train, y_test = train_test_split(X, y, test_size=0.2, random_state=66)"
   ]
  },
  {
   "cell_type": "code",
   "execution_count": 6,
   "metadata": {},
   "outputs": [],
   "source": [
    "##FEATURE VARIABLE ENCODING & SCALING\n",
    "[['Rndrng_Prvdr_Gndr', 'Tot_Srvcs', 'Tot_Benes', 'Med_Tot_Benes', 'Med_Tot_Srvcs',\n",
    "       'Bene_Avg_Risk_Scre', 'has_MD', 'Bene_Feml_Cnt', 'Tot_HCPCS_Cds',\n",
    "       'Tot_Mdcr_Pymt_Amt', 'is_NP', 'Tot_Sbmtd_Chrg', 'Bene_Male_Cnt']]\n",
    "#identify continuous and categorical variables in joined dataset\n",
    "continuous_features = ['Tot_HCPCS_Cds', 'Tot_Benes', 'Tot_Srvcs', 'Tot_Sbmtd_Chrg', 'Tot_Mdcr_Pymt_Amt', \n",
    "                       'Med_Tot_Benes', 'Med_Tot_Srvcs', 'Bene_Feml_Cnt', 'Bene_Male_Cnt', 'Bene_Avg_Risk_Scre']\n",
    "categorical_features = ['has_MD', 'is_NP']\n",
    "#'Rndrng_Prvdr_Gndr' (categorical) is target variable\n",
    "\n",
    "#initialize scaler and encoder\n",
    "scaler = StandardScaler()\n",
    "label_encoders = {feature: LabelEncoder() for feature in categorical_features}\n",
    "\n",
    "#scale continuous features\n",
    "X_train_continuous = scaler.fit_transform(X_train[continuous_features])\n",
    "X_test_continuous = scaler.transform(X_test[continuous_features])\n",
    "\n",
    "#encode categorical features\n",
    "X_train_categorical = X_train[categorical_features].copy()\n",
    "X_test_categorical = X_test[categorical_features].copy()\n",
    "\n",
    "for feature in categorical_features:\n",
    "    X_train_categorical[feature] = label_encoders[feature].fit_transform(X_train[feature])\n",
    "    X_test_categorical[feature] = label_encoders[feature].transform(X_test[feature])\n",
    "\n",
    "#concatenate processed continuous and categorical features back together\n",
    "X_train_processed = pd.concat([pd.DataFrame(X_train_continuous, columns=continuous_features),\n",
    "                               X_train_categorical.reset_index(drop=True)], axis=1)\n",
    "\n",
    "X_test_processed = pd.concat([pd.DataFrame(X_test_continuous, columns=continuous_features),\n",
    "                              X_test_categorical.reset_index(drop=True)], axis=1)\n"
   ]
  },
  {
   "cell_type": "code",
   "execution_count": 7,
   "metadata": {},
   "outputs": [
    {
     "name": "stdout",
     "output_type": "stream",
     "text": [
      "(32614, 12)\n",
      "(8154, 12)\n",
      "(32614,)\n",
      "(8154,)\n"
     ]
    }
   ],
   "source": [
    "#compare number of columns in training and testing data\n",
    "print(X_train.shape)\n",
    "print(X_test.shape)\n",
    "print(y_train.shape)\n",
    "print(y_test.shape)\n"
   ]
  },
  {
   "cell_type": "code",
   "execution_count": 11,
   "metadata": {},
   "outputs": [
    {
     "data": {
      "text/html": [
       "<style>#sk-container-id-2 {color: black;}#sk-container-id-2 pre{padding: 0;}#sk-container-id-2 div.sk-toggleable {background-color: white;}#sk-container-id-2 label.sk-toggleable__label {cursor: pointer;display: block;width: 100%;margin-bottom: 0;padding: 0.3em;box-sizing: border-box;text-align: center;}#sk-container-id-2 label.sk-toggleable__label-arrow:before {content: \"▸\";float: left;margin-right: 0.25em;color: #696969;}#sk-container-id-2 label.sk-toggleable__label-arrow:hover:before {color: black;}#sk-container-id-2 div.sk-estimator:hover label.sk-toggleable__label-arrow:before {color: black;}#sk-container-id-2 div.sk-toggleable__content {max-height: 0;max-width: 0;overflow: hidden;text-align: left;background-color: #f0f8ff;}#sk-container-id-2 div.sk-toggleable__content pre {margin: 0.2em;color: black;border-radius: 0.25em;background-color: #f0f8ff;}#sk-container-id-2 input.sk-toggleable__control:checked~div.sk-toggleable__content {max-height: 200px;max-width: 100%;overflow: auto;}#sk-container-id-2 input.sk-toggleable__control:checked~label.sk-toggleable__label-arrow:before {content: \"▾\";}#sk-container-id-2 div.sk-estimator input.sk-toggleable__control:checked~label.sk-toggleable__label {background-color: #d4ebff;}#sk-container-id-2 div.sk-label input.sk-toggleable__control:checked~label.sk-toggleable__label {background-color: #d4ebff;}#sk-container-id-2 input.sk-hidden--visually {border: 0;clip: rect(1px 1px 1px 1px);clip: rect(1px, 1px, 1px, 1px);height: 1px;margin: -1px;overflow: hidden;padding: 0;position: absolute;width: 1px;}#sk-container-id-2 div.sk-estimator {font-family: monospace;background-color: #f0f8ff;border: 1px dotted black;border-radius: 0.25em;box-sizing: border-box;margin-bottom: 0.5em;}#sk-container-id-2 div.sk-estimator:hover {background-color: #d4ebff;}#sk-container-id-2 div.sk-parallel-item::after {content: \"\";width: 100%;border-bottom: 1px solid gray;flex-grow: 1;}#sk-container-id-2 div.sk-label:hover label.sk-toggleable__label {background-color: #d4ebff;}#sk-container-id-2 div.sk-serial::before {content: \"\";position: absolute;border-left: 1px solid gray;box-sizing: border-box;top: 0;bottom: 0;left: 50%;z-index: 0;}#sk-container-id-2 div.sk-serial {display: flex;flex-direction: column;align-items: center;background-color: white;padding-right: 0.2em;padding-left: 0.2em;position: relative;}#sk-container-id-2 div.sk-item {position: relative;z-index: 1;}#sk-container-id-2 div.sk-parallel {display: flex;align-items: stretch;justify-content: center;background-color: white;position: relative;}#sk-container-id-2 div.sk-item::before, #sk-container-id-2 div.sk-parallel-item::before {content: \"\";position: absolute;border-left: 1px solid gray;box-sizing: border-box;top: 0;bottom: 0;left: 50%;z-index: -1;}#sk-container-id-2 div.sk-parallel-item {display: flex;flex-direction: column;z-index: 1;position: relative;background-color: white;}#sk-container-id-2 div.sk-parallel-item:first-child::after {align-self: flex-end;width: 50%;}#sk-container-id-2 div.sk-parallel-item:last-child::after {align-self: flex-start;width: 50%;}#sk-container-id-2 div.sk-parallel-item:only-child::after {width: 0;}#sk-container-id-2 div.sk-dashed-wrapped {border: 1px dashed gray;margin: 0 0.4em 0.5em 0.4em;box-sizing: border-box;padding-bottom: 0.4em;background-color: white;}#sk-container-id-2 div.sk-label label {font-family: monospace;font-weight: bold;display: inline-block;line-height: 1.2em;}#sk-container-id-2 div.sk-label-container {text-align: center;}#sk-container-id-2 div.sk-container {/* jupyter's `normalize.less` sets `[hidden] { display: none; }` but bootstrap.min.css set `[hidden] { display: none !important; }` so we also need the `!important` here to be able to override the default hidden behavior on the sphinx rendered scikit-learn.org. See: https://github.com/scikit-learn/scikit-learn/issues/21755 */display: inline-block !important;position: relative;}#sk-container-id-2 div.sk-text-repr-fallback {display: none;}</style><div id=\"sk-container-id-2\" class=\"sk-top-container\"><div class=\"sk-text-repr-fallback\"><pre>RandomForestClassifier(max_depth=20, min_samples_leaf=2, min_samples_split=10,\n",
       "                       n_estimators=200, n_jobs=-1, random_state=66)</pre><b>In a Jupyter environment, please rerun this cell to show the HTML representation or trust the notebook. <br />On GitHub, the HTML representation is unable to render, please try loading this page with nbviewer.org.</b></div><div class=\"sk-container\" hidden><div class=\"sk-item\"><div class=\"sk-estimator sk-toggleable\"><input class=\"sk-toggleable__control sk-hidden--visually\" id=\"sk-estimator-id-2\" type=\"checkbox\" checked><label for=\"sk-estimator-id-2\" class=\"sk-toggleable__label sk-toggleable__label-arrow\">RandomForestClassifier</label><div class=\"sk-toggleable__content\"><pre>RandomForestClassifier(max_depth=20, min_samples_leaf=2, min_samples_split=10,\n",
       "                       n_estimators=200, n_jobs=-1, random_state=66)</pre></div></div></div></div></div>"
      ],
      "text/plain": [
       "RandomForestClassifier(max_depth=20, min_samples_leaf=2, min_samples_split=10,\n",
       "                       n_estimators=200, n_jobs=-1, random_state=66)"
      ]
     },
     "execution_count": 11,
     "metadata": {},
     "output_type": "execute_result"
    }
   ],
   "source": [
    "#initialize and fit Random Forest model\n",
    "model = RandomForestClassifier(max_depth=20, min_samples_leaf=2, min_samples_split=10, n_estimators=200, random_state=66, n_jobs=-1)\n",
    "model.fit(X_train_processed, y_train)"
   ]
  },
  {
   "cell_type": "code",
   "execution_count": 12,
   "metadata": {},
   "outputs": [
    {
     "name": "stdout",
     "output_type": "stream",
     "text": [
      "Accuracy: 0.7281089036055923\n",
      "[[3551  941]\n",
      " [1276 2386]]\n"
     ]
    }
   ],
   "source": [
    "#predict on test data\n",
    "y_pred = model.predict(X_test_processed)\n",
    "\n",
    "#calculate accuracy\n",
    "acc = accuracy(y_test, y_pred)\n",
    "print(f'Accuracy: {acc}')\n",
    "\n",
    "#confusion matrix\n",
    "cm = confusion_matrix(y_test, y_pred)\n",
    "print(cm)"
   ]
  },
  {
   "cell_type": "markdown",
   "metadata": {},
   "source": [
    "A 20% sample of the total data resulted in < 1% reduction in predictive power of the model."
   ]
  },
  {
   "cell_type": "markdown",
   "metadata": {},
   "source": [
    "One observation: Use of any specific preventive care procedure or immunization was not in the top 12 features on which this model was focused."
   ]
  },
  {
   "cell_type": "code",
   "execution_count": 13,
   "metadata": {},
   "outputs": [],
   "source": [
    "#save the model\n",
    "pkl.dump(model, open('simpler_model.pkl', 'wb'))"
   ]
  }
 ],
 "metadata": {
  "kernelspec": {
   "display_name": "Python 3",
   "language": "python",
   "name": "python3"
  },
  "language_info": {
   "codemirror_mode": {
    "name": "ipython",
    "version": 3
   },
   "file_extension": ".py",
   "mimetype": "text/x-python",
   "name": "python",
   "nbconvert_exporter": "python",
   "pygments_lexer": "ipython3",
   "version": "3.11.5"
  }
 },
 "nbformat": 4,
 "nbformat_minor": 2
}
