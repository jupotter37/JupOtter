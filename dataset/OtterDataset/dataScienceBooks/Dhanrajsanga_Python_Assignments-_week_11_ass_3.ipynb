{
 "cells": [
  {
   "cell_type": "code",
   "execution_count": 1,
   "id": "fef5ff2f-272d-4fac-9ba5-543a3a5859b1",
   "metadata": {},
   "outputs": [],
   "source": [
    "# Q1: What is Estimation Statistics? Explain point estimate and interval estimate."
   ]
  },
  {
   "cell_type": "code",
   "execution_count": 2,
   "id": "9a300fab-8bc6-430f-a35b-b1a54b499fd7",
   "metadata": {},
   "outputs": [],
   "source": [
    "# **Estimation Statistics:**\n",
    "\n",
    "# Estimation in statistics involves using sample data to make inferences about population parameters. It provides a way to estimate \n",
    "# unknown population parameters based on observed sample statistics. There are two main types of estimation: point estimation and interval estimation.\n",
    "\n",
    "# 1. **Point Estimate:**\n",
    "#    - A point estimate is a single value that is used to estimate a population parameter. It provides a specific and concise estimate \n",
    "#     of the parameter based on the sample data. Common point estimates include the sample mean (\\(\\bar{X}\\)) for estimating the \n",
    "#     population mean (\\(\\mu\\)), the sample proportion (\\(p\\)) for estimating the population proportion (\\(P\\)), and the sample \n",
    "#     standard deviation (\\(s\\)) for estimating the population standard deviation (\\(\\sigma\\)).\n",
    "\n",
    "#    - **Example:**\n",
    "#      - If you calculate the average height of a sample of students and find it to be 165 cm, then 165 cm is a point estimate of the\n",
    "#     average height of the entire student population.\n",
    "\n",
    "# 2. **Interval Estimate:**\n",
    "#    - An interval estimate provides a range within which the true population parameter is likely to lie. It accounts for the inherent\n",
    "#     uncertainty in estimation by giving a range rather than a single point. The interval estimate is expressed in the form of a confidenc\n",
    "#     e interval, which includes both a point estimate and a margin of error.\n",
    "\n",
    "#    - **Confidence Interval:**\n",
    "#      - A confidence interval is a range of values constructed around a point estimate, indicating the level of confidence that the true \n",
    "#     parameter falls within that interval. Common confidence levels are 90%, 95%, and 99%. The confidence interval is calculated based \n",
    "#     on the standard error of the point estimate and the critical value from the appropriate distribution \n",
    "#     (usually the t-distribution for small samples and the z-distribution for large samples).\n",
    "\n",
    "#    - **Example:**\n",
    "#      - If you calculate a 95% confidence interval for the average height of students and obtain [160 cm, 170 cm], \n",
    "#     this means you are 95% confident that the true average height of the student population falls within this range.\n",
    "\n",
    "# In summary, estimation in statistics involves using sample data to make educated guesses about population parameters. \n",
    "# Point estimates provide a single value as the best guess, while interval estimates provide a range that reflects the\n",
    "# uncertainty associated with the estimation process. Confidence intervals are a common form of interval estimation, \n",
    "# and they indicate the level of confidence in the estimated range."
   ]
  },
  {
   "cell_type": "code",
   "execution_count": 3,
   "id": "836ffcdf-99ef-4a2f-8c58-ebf0c16572ee",
   "metadata": {},
   "outputs": [],
   "source": [
    "# Q2. Write a Python function to estimate the population mean using a sample mean and standard\n",
    "# deviation."
   ]
  },
  {
   "cell_type": "code",
   "execution_count": 4,
   "id": "80b10bd7-7338-4df1-ae56-608d74271b4f",
   "metadata": {},
   "outputs": [
    {
     "name": "stdout",
     "output_type": "stream",
     "text": [
      "Point Estimate: 65.8\n",
      "95% Confidence Interval: (64.35863353722934, 67.24136646277066)\n"
     ]
    }
   ],
   "source": [
    "import math\n",
    "\n",
    "def estimate_population_mean(sample_mean, sample_std_dev, sample_size):\n",
    "    # Calculate the standard error of the mean\n",
    "    standard_error = sample_std_dev / math.sqrt(sample_size)\n",
    "    \n",
    "    # Calculate the margin of error (using a z-score for a desired confidence level)\n",
    "    # For a 95% confidence level, the z-score is approximately 1.96\n",
    "    z_score = 1.96\n",
    "    margin_of_error = z_score * standard_error\n",
    "    \n",
    "    # Calculate the confidence interval\n",
    "    lower_bound = sample_mean - margin_of_error\n",
    "    upper_bound = sample_mean + margin_of_error\n",
    "    \n",
    "    # Return the point estimate and the confidence interval\n",
    "    return {\n",
    "        'point_estimate': sample_mean,\n",
    "        'confidence_interval': (lower_bound, upper_bound)\n",
    "    }\n",
    "\n",
    "sample_mean = 65.8\n",
    "sample_std_dev = 5.2\n",
    "sample_size = 50\n",
    "\n",
    "result = estimate_population_mean(sample_mean, sample_std_dev, sample_size)\n",
    "print(\"Point Estimate:\", result['point_estimate'])\n",
    "print(\"95% Confidence Interval:\", result['confidence_interval'])\n"
   ]
  },
  {
   "cell_type": "code",
   "execution_count": 6,
   "id": "8752b107-9c70-4a58-97f1-d0da355e0b2c",
   "metadata": {},
   "outputs": [],
   "source": [
    "# Q3: What is Hypothesis testing? Why is it used? State the importance of Hypothesis testing."
   ]
  },
  {
   "cell_type": "code",
   "execution_count": 7,
   "id": "d3832c5f-12a2-45a0-880a-f8321db6f135",
   "metadata": {},
   "outputs": [],
   "source": [
    "# **Hypothesis Testing:**\n",
    "\n",
    "# Hypothesis testing is a statistical method used to make inferences about population parameters based on sample data. \n",
    "# It involves formulating a hypothesis about the population parameter, collecting data, and then assessing whether the evidence \n",
    "# from the sample provides enough support to reject or not reject the stated hypothesis.\n",
    "\n",
    "# The process typically involves two competing hypotheses:\n",
    "\n",
    "# 1. **Null Hypothesis (\\(H_0\\)):**\n",
    "#    - It represents the default assumption, often stating that there is no effect, no difference, or no change in the population parameter. \n",
    "#     It is the hypothesis that researchers aim to test against.\n",
    "\n",
    "# 2. **Alternative Hypothesis (\\(H_1\\) or \\(H_a\\)):**\n",
    "#    - It represents the claim or hypothesis that researchers want to support. It asserts the presence of an effect, a difference, or a change \n",
    "#     in the population parameter.\n",
    "\n",
    "# The goal of hypothesis testing is to assess the strength of the evidence from the sample data and make a decision about whether there \n",
    "# is enough evidence to reject the null hypothesis in favor of the alternative hypothesis.\n",
    "\n",
    "# **Importance of Hypothesis Testing:**\n",
    "\n",
    "# 1. **Scientific Inquiry:**\n",
    "#    - Hypothesis testing is fundamental to the scientific method. It allows researchers to systematically test hypotheses, make conclusions \n",
    "#     based on evidence, and contribute to the body of scientific knowledge.\n",
    "\n",
    "# 2. **Decision-Making in Business:**\n",
    "#    - In business and industry, hypothesis testing is used to make informed decisions. For example, it might be used to assess the \n",
    "#     effectiveness of a new marketing strategy, the impact of a process improvement, or the performance of a new product.\n",
    "\n",
    "# 3. **Medical and Pharmaceutical Research:**\n",
    "#    - In medical and pharmaceutical research, hypothesis testing is crucial for evaluating the effectiveness of new drugs, medical \n",
    "#     treatments, or interventions. It helps determine whether a treatment has a statistically significant impact.\n",
    "\n",
    "# 4. **Quality Control and Process Improvement:**\n",
    "#    - In manufacturing and quality control, hypothesis testing is used to assess whether changes to a production process result in a \n",
    "#     significant improvement or to identify factors that contribute to defects.\n",
    "\n",
    "# 5. **Policy Evaluation:**\n",
    "#    - Hypothesis testing is applied in social sciences and policy research to evaluate the effectiveness of policies and interventions. \n",
    "#     Researchers use hypothesis testing to draw conclusions about the impact of interventions on outcomes.\n",
    "\n",
    "# 6. **Legal and Regulatory Compliance:**\n",
    "#    - In legal contexts, hypothesis testing is sometimes used to assess whether there is enough evidence to support a claim or accusation. \n",
    "#     It plays a role in ensuring fair and evidence-based legal decisions.\n",
    "\n",
    "# 7. **Educational Research:**\n",
    "#    - In education, hypothesis testing is applied to evaluate the effectiveness of teaching methods, educational interventions, or curriculum changes.\n",
    "\n",
    "# 8. **Environmental and Scientific Studies:**\n",
    "#    - In environmental studies and scientific research, hypothesis testing is used to assess the impact of environmental changes, climate\n",
    "#     variations, or other ecological factors.\n",
    "\n",
    "# In summary, hypothesis testing is a powerful tool for making data-driven decisions, drawing conclusions from sample data, and contributing \n",
    "# to evidence-based knowledge across various fields. It provides a systematic and objective way to assess the strength of evidence in favor \n",
    "# of alternative hypotheses.\n"
   ]
  },
  {
   "cell_type": "code",
   "execution_count": 8,
   "id": "7b42f009-fd4b-4fdc-98d2-216161634fbe",
   "metadata": {},
   "outputs": [],
   "source": [
    "# Q4. Create a hypothesis that states whether the average weight of male college students is greater than\n",
    "# the average weight of female college students."
   ]
  },
  {
   "cell_type": "code",
   "execution_count": 9,
   "id": "0b7f69e7-55a3-4378-854f-d9f9c570a4dd",
   "metadata": {},
   "outputs": [],
   "source": [
    "# **Null Hypothesis (\\(H_0\\)):**\n",
    "# The null hypothesis states that there is no difference in the average weight between male and female college students. \n",
    "# Mathematically, it can be expressed as:\n",
    "\n",
    "# \\[ H_0: \\mu_{\\text{male}} = \\mu_{\\text{female}} \\]\n",
    "\n",
    "# where:\n",
    "# - \\( \\mu_{\\text{male}} \\) is the population mean weight of male college students,\n",
    "# - \\( \\mu_{\\text{female}} \\) is the population mean weight of female college students.\n",
    "\n",
    "# **Alternative Hypothesis (\\(H_1\\) or \\(H_a\\)):**\n",
    "# The alternative hypothesis asserts that the average weight of male college students is greater than the average weight \n",
    "# of female college students. Mathematically, it can be expressed as:\n",
    "\n",
    "# \\[ H_1: \\mu_{\\text{male}} > \\mu_{\\text{female}} \\]\n",
    "\n",
    "# **Explanation:**\n",
    "# These hypotheses are formulated based on the assumption that the average weight of male and female college students might be \n",
    "# different. The null hypothesis suggests that any observed difference is due to random variation, while the alternative hypothesis \n",
    "# suggests a real, significant difference with males having a greater average weight.\n",
    "\n",
    "# To test these hypotheses, one would collect a sample of male and female college students, measure their weights, and conduct statistical\n",
    "# analysis to determine whether the evidence supports rejecting the null hypothesis in favor of the alternative hypothesis."
   ]
  },
  {
   "cell_type": "code",
   "execution_count": 10,
   "id": "bced6225-8568-4ff1-9b33-c30a61665575",
   "metadata": {},
   "outputs": [],
   "source": [
    "# Q5. Write a Python script to conduct a hypothesis test on the difference between two population means,\n",
    "# given a sample from each population."
   ]
  },
  {
   "cell_type": "code",
   "execution_count": 11,
   "id": "9fcaa05f-8a16-42b9-b4c2-8c83b77f420f",
   "metadata": {},
   "outputs": [
    {
     "name": "stdout",
     "output_type": "stream",
     "text": [
      "Reject the null hypothesis. There is enough evidence to suggest a significant difference.\n",
      "T-Statistic: 5.249223545067117\n",
      "P-Value: 0.00020982267624544497\n"
     ]
    }
   ],
   "source": [
    "import scipy.stats as stats\n",
    "\n",
    "def two_sample_t_test(sample1, sample2, alpha=0.05):\n",
    "    # Perform a two-sample t-test\n",
    "    t_statistic, p_value = stats.ttest_ind(sample1, sample2, equal_var=False)\n",
    "    \n",
    "    # Compare p-value to the significance level\n",
    "    if p_value < alpha:\n",
    "        print(f\"Reject the null hypothesis. There is enough evidence to suggest a significant difference.\")\n",
    "    else:\n",
    "        print(\"Fail to reject the null hypothesis. The difference is not statistically significant.\")\n",
    "    \n",
    "    # Return the results\n",
    "    return {\n",
    "        't_statistic': t_statistic,\n",
    "        'p_value': p_value\n",
    "    }\n",
    "\n",
    "# Example usage:\n",
    "male_weights = [75, 80, 85, 78, 82, 79, 81]\n",
    "female_weights = [65, 70, 75, 72, 68, 71, 74]\n",
    "\n",
    "result = two_sample_t_test(male_weights, female_weights)\n",
    "print(\"T-Statistic:\", result['t_statistic'])\n",
    "print(\"P-Value:\", result['p_value'])\n"
   ]
  },
  {
   "cell_type": "code",
   "execution_count": 12,
   "id": "c67d8d6b-469e-464a-a87d-1fa9459259e6",
   "metadata": {},
   "outputs": [],
   "source": [
    "# Q6: What is a null and alternative hypothesis? Give some examples."
   ]
  },
  {
   "cell_type": "code",
   "execution_count": 13,
   "id": "cb67914a-6b32-4295-930c-00b8f12ffaff",
   "metadata": {},
   "outputs": [],
   "source": [
    "# **Null Hypothesis (\\(H_0\\)):**\n",
    "# The null hypothesis is a statement of no effect or no difference. It is a default assumption that there is no change\n",
    "# , no effect, or no relationship in the population being studied. The null hypothesis is denoted by \\(H_0\\).\n",
    "\n",
    "# **Examples of Null Hypotheses:**\n",
    "# 1. \\(H_0: \\mu = 50\\): The average score of students on a test is 50.\n",
    "# 2. \\(H_0: \\sigma^2 = 25\\): The variance of a manufacturing process is 25.\n",
    "# 3. \\(H_0: p = 0.5\\): The probability of success in a coin flip is 0.5.\n",
    "\n",
    "# **Alternative Hypothesis (\\(H_1\\) or \\(H_a\\)):**\n",
    "# The alternative hypothesis contradicts the null hypothesis. It represents the claim or assertion that there is an effect,\n",
    "# a difference, or a relationship in the population. The alternative hypothesis is denoted by \\(H_1\\) or \\(H_a\\).\n",
    "\n",
    "# **Examples of Alternative Hypotheses:**\n",
    "# 1. \\(H_1: \\mu \\neq 50\\): The average score of students on a test is not equal to 50.\n",
    "# 2. \\(H_1: \\sigma^2 > 25\\): The variance of a manufacturing process is greater than 25.\n",
    "# 3. \\(H_1: p \\neq 0.5\\): The probability of success in a coin flip is not equal to 0.5.\n",
    "\n",
    "# **Combined Examples:**\n",
    "# 1. \\(H_0: \\mu = 100\\) vs. \\(H_1: \\mu \\neq 100\\): Testing if the population mean is equal to 100.\n",
    "# 2. \\(H_0: \\sigma = 10\\) vs. \\(H_1: \\sigma > 10\\): Testing if the population standard deviation is greater than 10.\n",
    "# 3. \\(H_0: \\mu_1 = \\mu_2\\) vs. \\(H_1: \\mu_1 \\neq \\mu_2\\): Testing if the means of two populations are equal.\n",
    "\n",
    "# In hypothesis testing, the goal is to assess the evidence provided by sample data and make a decision about whether to\n",
    "# reject the null hypothesis in favor of the alternative hypothesis. The decision is based on statistical tests and the\n",
    "# comparison of observed data to what would be expected under the null hypothesis."
   ]
  },
  {
   "cell_type": "code",
   "execution_count": 14,
   "id": "c167b29d-8168-47b8-923d-d17ce24c1581",
   "metadata": {},
   "outputs": [],
   "source": [
    "# Q7: Write down the steps involved in hypothesis testing."
   ]
  },
  {
   "cell_type": "code",
   "execution_count": 15,
   "id": "d477d322-cc83-4e40-a271-d188a750a5a3",
   "metadata": {},
   "outputs": [],
   "source": [
    "# **Steps Involved in Hypothesis Testing:**\n",
    "\n",
    "# Hypothesis testing involves a series of steps to systematically evaluate evidence from sample data and make decisions about population parameters. \n",
    "# Here are the general steps:\n",
    "\n",
    "# 1. **Formulate Hypotheses:**\n",
    "#    - State the null hypothesis (\\(H_0\\)) and the alternative hypothesis (\\(H_1\\) or \\(H_a\\)). Define the population parameter of interest and \n",
    "#     specify the direction of the expected effect (if applicable).\n",
    "\n",
    "    \n",
    "# 2. **Choose Significance Level (\\(\\alpha\\)):**\n",
    "#    - Select the significance level (\\(\\alpha\\)), commonly set to 0.05. It represents the probability of making a Type I error \n",
    "#     (rejecting a true null hypothesis).\n",
    "\n",
    "# 3. **Collect Data:**\n",
    "#    - Gather data through appropriate sampling methods. Ensure that the sample is representative of the population under study.\n",
    "\n",
    "# 4. **Perform Statistical Test:**\n",
    "#    - Choose the appropriate statistical test based on the type of data and the hypotheses being tested. Common tests include t-tests, \n",
    "#     chi-square tests, ANOVA, etc.\n",
    "\n",
    "# 5. **Calculate Test Statistic:**\n",
    "#    - Compute the test statistic using the sample data. This involves comparing the observed data to what would be expected under \n",
    "#     the assumption that the null hypothesis is true.\n",
    "\n",
    "# 6. **Determine Critical Region:**\n",
    "#    - Identify the critical region(s) in the distribution of the test statistic under the null hypothesis. This corresponds to the \n",
    "#     values that would lead to rejection of the null hypothesis.\n",
    "\n",
    "# 7. **Make a Decision:**\n",
    "#    - Compare the calculated test statistic to the critical value(s). If the test statistic falls in the critical region, reject the \n",
    "#     null hypothesis. If it falls outside the critical region, fail to reject the null hypothesis.\n",
    "\n",
    "# 8. **Calculate P-Value:**\n",
    "#    - If using the p-value approach, calculate the p-value associated with the test statistic. The p-value is the probability of obtaining\n",
    "#     a test statistic as extreme or more extreme than the one observed, assuming the null hypothesis is true.\n",
    "\n",
    "# 9. **Make a Decision Based on P-Value:**\n",
    "#    - Compare the p-value to the significance level (\\(\\alpha\\)). If the p-value is less than or equal to \\(\\alpha\\), reject the null\n",
    "#     hypothesis. If the p-value is greater than \\(\\alpha\\), fail to reject the null hypothesis.\n",
    "\n",
    "# 10. **Draw Conclusions:**\n",
    "#     - Based on the decision made, draw conclusions about the population parameter. If the null hypothesis is rejected, support the \n",
    "#     alternative hypothesis and make relevant interpretations.\n",
    "\n",
    "# 11. **Report Results:**\n",
    "#     - Clearly communicate the results, including the test statistic, critical values, p-value, and the decision made. Provide context\n",
    "#     and practical significance when discussing the findings.\n",
    "\n",
    "# 12. **Consider Limitations:**\n",
    "#     - Acknowledge any limitations of the study, potential sources of bias, or assumptions made during the hypothesis testing process.\n",
    "\n",
    "# Following these steps ensures a systematic and rigorous approach to hypothesis testing, helping researchers draw valid conclusions \n",
    "# based on statistical evidence."
   ]
  },
  {
   "cell_type": "code",
   "execution_count": 16,
   "id": "407a3846-dfd7-434f-839a-0efa14950751",
   "metadata": {},
   "outputs": [],
   "source": [
    "# Q8. Define p-value and explain its significance in hypothesis testing."
   ]
  },
  {
   "cell_type": "code",
   "execution_count": 17,
   "id": "39df0d89-f0e8-485d-bb2a-30b2e0eb3710",
   "metadata": {},
   "outputs": [],
   "source": [
    "# **P-Value Definition:**\n",
    "\n",
    "# The p-value, or probability value, is a measure that helps assess the strength of the evidence against the null hypothesis in hypothesis testing. \n",
    "# It quantifies the probability of obtaining a test statistic as extreme or more extreme than the one observed in the sample, assuming that the null\n",
    "# hypothesis is true.\n",
    "\n",
    "# **Significance of P-Value in Hypothesis Testing:**\n",
    "\n",
    "# 1. **Decision Rule:**\n",
    "#    - The p-value is compared to the chosen significance level (\\(\\alpha\\)) to make a decision about the null hypothesis. If the p-value is \n",
    "#     less than or equal to \\(\\alpha\\), the null hypothesis is rejected. If the p-value is greater than \\(\\alpha\\), the null hypothesis is not rejected\n",
    "\n",
    "# 2. **Strength of Evidence:**\n",
    "#    - A smaller p-value indicates stronger evidence against the null hypothesis. If the p-value is very small, it suggests that the observed \n",
    "#     data is unlikely to occur under the assumption that the null hypothesis is true. This strengthens the case for rejecting the null hypothesis.\n",
    "\n",
    "# 3. **Interpretation:**\n",
    "#    - A p-value can be interpreted as the probability of obtaining the observed results (or more extreme) if the null hypothesis is true. \n",
    "#     For example, a p-value of 0.05 means that, under the null hypothesis, there is a 5% chance of observing results as extreme or more extreme \n",
    "#     than the ones in the sample.\n",
    "\n",
    "# 4. **Decision Consistency:**\n",
    "#    - The p-value provides consistency in decision-making across different studies and tests. Researchers can use a predefined significance\n",
    "#     level (\\(\\alpha\\)) and compare p-values to make decisions consistently, allowing for better reproducibility and comparability of results.\n",
    "\n",
    "# 5. **Quantifying Uncertainty:**\n",
    "#    - The p-value quantifies the uncertainty associated with the decision-making process in hypothesis testing. It acknowledges that, even \n",
    "#     if the null hypothesis is true, random sampling variability could lead to observed data that appears unusual.\n",
    "\n",
    "# 6. **Sensitivity Analysis:**\n",
    "#    - Sensitivity analysis can be performed by considering different significance levels. Researchers can assess how the conclusions might \n",
    "#     change under varying levels of stringency (e.g., \\(\\alpha = 0.01\\) or \\(\\alpha = 0.10\\)).\n",
    "\n",
    "# 7. **Comparing Studies:**\n",
    "#    - Researchers can compare studies by examining the p-values obtained in different experiments or analyses. Lower p-values suggest \n",
    "#     stronger evidence against the null hypothesis, contributing to the cumulative body of scientific knowledge.\n",
    "\n",
    "# 8. **Guide to Decision-Making:**\n",
    "#    - The p-value serves as a guide to decision-making but should not be the sole criterion. Researchers should also consider the context,\n",
    "#     practical significance, study design, and potential biases when interpreting the results.\n",
    "\n",
    "# In summary, the p-value plays a crucial role in hypothesis testing by providing a standardized measure of evidence against the null\n",
    "# hypothesis. It aids researchers in making decisions about whether to reject or fail to reject the null hypothesis based on the observed data."
   ]
  },
  {
   "cell_type": "code",
   "execution_count": 18,
   "id": "1a2bb1de-916d-49cb-8df3-2ea524a8e9c3",
   "metadata": {},
   "outputs": [],
   "source": [
    "# Q9. Generate a Student's t-distribution plot using Python's matplotlib library, with the degrees of freedom\n",
    "# parameter set to 10."
   ]
  },
  {
   "cell_type": "code",
   "execution_count": 19,
   "id": "95dc7c7b-4af9-4abb-9258-0bea459b412d",
   "metadata": {},
   "outputs": [
    {
     "data": {
      "image/png": "[encoded data removed]",
      "text/plain": [
       "<Figure size 800x600 with 1 Axes>"
      ]
     },
     "metadata": {},
     "output_type": "display_data"
    }
   ],
   "source": [
    "import numpy as np\n",
    "import matplotlib.pyplot as plt\n",
    "from scipy.stats import t\n",
    "\n",
    "# Set degrees of freedom\n",
    "degrees_of_freedom = 10\n",
    "\n",
    "# Generate x values\n",
    "x_values = np.linspace(-4, 4, 1000)\n",
    "\n",
    "# Calculate probability density function (PDF) values for the t-distribution\n",
    "pdf_values = t.pdf(x_values, df=degrees_of_freedom)\n",
    "\n",
    "# Plot the t-distribution\n",
    "plt.figure(figsize=(8, 6))\n",
    "plt.plot(x_values, pdf_values, label=f\"t-distribution (df={degrees_of_freedom})\", color='blue')\n",
    "plt.title(\"Student's t-Distribution Plot\")\n",
    "plt.xlabel(\"x\")\n",
    "plt.ylabel(\"Probability Density Function (PDF)\")\n",
    "plt.legend()\n",
    "plt.grid(True)\n",
    "plt.show()\n"
   ]
  },
  {
   "cell_type": "code",
   "execution_count": 22,
   "id": "cdf98834-84ef-4c69-9047-0cf73354a174",
   "metadata": {},
   "outputs": [],
   "source": [
    "# Q10. Write a Python program to calculate the two-sample t-test for independent samples, given two\n",
    "# random samples of equal size and a null hypothesis that the population means are equal."
   ]
  },
  {
   "cell_type": "code",
   "execution_count": 23,
   "id": "71a3ecda-f830-49d8-b01d-f8eb1b625cbb",
   "metadata": {},
   "outputs": [
    {
     "name": "stdout",
     "output_type": "stream",
     "text": [
      "Reject the null hypothesis. There is enough evidence to suggest a significant difference.\n",
      "T-Statistic: -2.3981151520102415\n",
      "P-Value: 0.019717941865758228\n"
     ]
    }
   ],
   "source": [
    "import numpy as np\n",
    "from scipy.stats import ttest_ind\n",
    "\n",
    "def two_sample_t_test(sample1, sample2, alpha=0.05):\n",
    "    # Perform a two-sample t-test\n",
    "    t_statistic, p_value = ttest_ind(sample1, sample2)\n",
    "    \n",
    "    # Compare p-value to the significance level\n",
    "    if p_value < alpha:\n",
    "        print(f\"Reject the null hypothesis. There is enough evidence to suggest a significant difference.\")\n",
    "    else:\n",
    "        print(\"Fail to reject the null hypothesis. The difference is not statistically significant.\")\n",
    "    \n",
    "    # Return the results\n",
    "    return {\n",
    "        't_statistic': t_statistic,\n",
    "        'p_value': p_value\n",
    "    }\n",
    "\n",
    "np.random.seed(42)  # Set seed for reproducibility\n",
    "sample_size = 30\n",
    "sample1 = np.random.normal(loc=50, scale=10, size=sample_size)\n",
    "sample2 = np.random.normal(loc=55, scale=10, size=sample_size)\n",
    "\n",
    "result = two_sample_t_test(sample1, sample2)\n",
    "print(\"T-Statistic:\", result['t_statistic'])\n",
    "print(\"P-Value:\", result['p_value'])\n"
   ]
  },
  {
   "cell_type": "code",
   "execution_count": 24,
   "id": "597b908e-8a2c-49df-ba11-71b89b3e6228",
   "metadata": {},
   "outputs": [],
   "source": [
    "# Q11: What is Student’s t distribution? When to use the t-Distribution."
   ]
  },
  {
   "cell_type": "code",
   "execution_count": 25,
   "id": "313f0ecb-332b-4e6b-9d5c-eeea118c34f0",
   "metadata": {},
   "outputs": [],
   "source": [
    "# **Student's t-Distribution:**\n",
    "\n",
    "# Student's t-distribution, often referred to simply as the t-distribution, is a probability distribution that arises in statistical hypothesis\n",
    "# testing when the sample size is small and the population standard deviation is unknown. It is named after William Sealy Gosset, who published \n",
    "# under the pseudonym \"Student.\"\n",
    "\n",
    "# The t-distribution is similar in shape to the normal distribution but has heavier tails. As the sample size increases, the t-distribution \n",
    "# approaches the normal distribution. The t-distribution is characterized by a single parameter: degrees of freedom (\\(df\\)). \n",
    "# The degrees of freedom depend on the sample size and play a crucial role in shaping the distribution.\n",
    "\n",
    "# **When to Use the t-Distribution:**\n",
    "\n",
    "# The t-distribution is used in the following situations:\n",
    "\n",
    "# 1. **Small Sample Sizes:**\n",
    "#    - When dealing with small sample sizes (typically \\(n < 30\\)), the t-distribution is more appropriate than the normal distribution \n",
    "#     for making inferences about population parameters. This is because it accounts for the increased uncertainty associated with estimating\n",
    "#     the population standard deviation from a small sample.\n",
    "\n",
    "# 2. **Unknown Population Standard Deviation:**\n",
    "#    - When the population standard deviation (\\(\\sigma\\)) is unknown, and the sample standard deviation (\\(s\\)) is used as an estimate, \n",
    "#     the t-distribution is used for hypothesis testing and constructing confidence intervals.\n",
    "\n",
    "# 3. **Hypothesis Testing and Confidence Intervals:**\n",
    "#    - In scenarios where hypothesis testing or the construction of confidence intervals involves the population mean (\\(\\mu\\)), and the \n",
    "#     sample size is small with an unknown population standard deviation, the t-distribution is employed.\n",
    "\n",
    "# 4. **Quality Control and Process Monitoring:**\n",
    "#    - In quality control and process monitoring, especially when dealing with small sample sizes, the t-distribution is used to assess \n",
    "#     variations and make decisions about the stability of a process.\n",
    "\n",
    "# 5. **Education and Psychological Testing:**\n",
    "#    - In educational and psychological research, the t-distribution is frequently used when working with small samples, such as comparing \n",
    "#     the means of two groups or assessing the statistical significance of an intervention.\n",
    "\n",
    "# 6. **Financial and Economic Studies:**\n",
    "#    - In finance and economics, where sample sizes may be limited, the t-distribution is applied in analyses involving means, variances,\n",
    "#     or testing hypotheses about financial data.\n",
    "\n",
    "# **Key Characteristics of the t-Distribution:**\n",
    "\n",
    "# - **Symmetry:** Like the normal distribution, the t-distribution is symmetric.\n",
    "\n",
    "\n",
    "# - **Shape:** The shape of the t-distribution is determined by the degrees of freedom. As the degrees of freedom increase, the t-distribution \n",
    "# approaches the shape of the normal distribution.\n",
    "# - **Heavier Tails:** Compared to the normal distribution, the t-distribution has heavier tails, reflecting greater uncertainty in estimating \n",
    "# population parameters from small samples.\n",
    "\n",
    "# In summary, the t-distribution is a crucial tool in statistics, particularly when working with small sample sizes and unknown population\n",
    "# standard deviations. It provides a more accurate distribution for making inferences in such situations, ensuring that statistical analyses \n",
    "# are appropriate and reliable."
   ]
  },
  {
   "cell_type": "code",
   "execution_count": 26,
   "id": "8f9ee48a-4d11-4bdb-8532-591d8d7596e2",
   "metadata": {},
   "outputs": [],
   "source": [
    "# Q12: What is t-statistic? State the formula for t-statistic."
   ]
  },
  {
   "cell_type": "code",
   "execution_count": 27,
   "id": "e145b47f-adf8-4fb4-a5f1-524fb06b59ba",
   "metadata": {},
   "outputs": [],
   "source": [
    "# **T-Statistic:**\n",
    "\n",
    "# The t-statistic is a measure that quantifies the difference between the sample mean and the population mean in terms of standard errors. \n",
    "# It is commonly used in hypothesis testing to assess whether the observed difference is statistically significant. \n",
    "# The t-statistic is especially relevant when the sample size is small, and the population standard deviation is unknown.\n",
    "\n",
    "# **Formula for T-Statistic:**\n",
    "\n",
    "# The formula for the t-statistic is given by:\n",
    "\n",
    "# \\[ t = \\frac{\\bar{X} - \\mu}{\\frac{s}{\\sqrt{n}}} \\]\n",
    "\n",
    "# Where:\n",
    "# - \\( \\bar{X} \\) is the sample mean.\n",
    "# - \\( \\mu \\) is the population mean under the null hypothesis.\n",
    "# - \\( s \\) is the sample standard deviation.\n",
    "# - \\( n \\) is the sample size.\n",
    "\n",
    "# The numerator (\\( \\bar{X} - \\mu \\)) represents the observed difference between the sample mean and the hypothesized population mean. \n",
    "# The denominator (\\( \\frac{s}{\\sqrt{n}} \\)) standardizes this difference by considering the variability in the sample mean,\n",
    "# with \\( s \\) being the sample standard deviation and \\( \\sqrt{n} \\) representing the square root of the sample size.\n",
    "\n",
    "\n",
    "# The t-statistic follows a t-distribution with \\( n-1 \\) degrees of freedom.\n",
    "\n",
    "# **Interpretation:**\n",
    "# - A larger absolute value of the t-statistic suggests a greater difference between the sample mean and the population mean.\n",
    "# - The t-statistic is compared to critical values or p-values to determine whether the observed difference is statistically significant.\n",
    "\n",
    "# In hypothesis testing, the t-statistic is used to make decisions about rejecting or failing to reject the null hypothesis.\n",
    "# If the absolute value of the t-statistic is large enough, it suggests that the observed difference is unlikely to have occurred \n",
    "# by random chance alone, leading to the rejection of the null hypothesis."
   ]
  },
  {
   "cell_type": "code",
   "execution_count": 28,
   "id": "cd33b90f-0141-4286-9653-32feee79250b",
   "metadata": {},
   "outputs": [],
   "source": [
    "# Q13. A coffee shop owner wants to estimate the average daily revenue for their shop. They take a random\n",
    "# sample of 50 days and find the sample mean revenue to be $500 with a standard deviation of $50.\n",
    "# Estimate the population mean revenue with a 95% confidence interval."
   ]
  },
  {
   "cell_type": "code",
   "execution_count": 29,
   "id": "a29fc46c-3be2-4b0d-8dfb-2b331df492ec",
   "metadata": {},
   "outputs": [
    {
     "name": "stdout",
     "output_type": "stream",
     "text": [
      "95% Confidence Interval: ($486.14, $513.86)\n"
     ]
    }
   ],
   "source": [
    "import math\n",
    "\n",
    "# Given data\n",
    "sample_mean = 500\n",
    "sample_std_dev = 50\n",
    "sample_size = 50\n",
    "confidence_level = 0.95\n",
    "\n",
    "# Calculate the standard error of the mean\n",
    "standard_error = sample_std_dev / math.sqrt(sample_size)\n",
    "\n",
    "# Calculate the margin of error using the Z-score for a 95% confidence interval\n",
    "z_score = 1.96\n",
    "margin_of_error = z_score * standard_error\n",
    "\n",
    "# Calculate the confidence interval\n",
    "lower_bound = sample_mean - margin_of_error\n",
    "upper_bound = sample_mean + margin_of_error\n",
    "\n",
    "# Display the results\n",
    "print(f\"95% Confidence Interval: (${lower_bound:.2f}, ${upper_bound:.2f})\")\n"
   ]
  },
  {
   "cell_type": "code",
   "execution_count": 30,
   "id": "4a9f5020-5256-4b61-a209-378ccf87522e",
   "metadata": {},
   "outputs": [],
   "source": [
    "# Q14. A researcher hypothesizes that a new drug will decrease blood pressure by 10 mmHg. They conduct a\n",
    "# clinical trial with 100 patients and find that the sample mean decrease in blood pressure is 8 mmHg with a\n",
    "# standard deviation of 3 mmHg. Test the hypothesis with a significance level of 0.05."
   ]
  },
  {
   "cell_type": "code",
   "execution_count": 31,
   "id": "939d08ae-90e7-40e2-964b-13b54021eb0a",
   "metadata": {},
   "outputs": [
    {
     "name": "stdout",
     "output_type": "stream",
     "text": [
      "Reject the null hypothesis. There is enough evidence to suggest a significant effect.\n",
      "T-Statistic: -6.67\n",
      "Critical Value: 1.98\n"
     ]
    }
   ],
   "source": [
    "import math\n",
    "from scipy.stats import t\n",
    "\n",
    "# Given data\n",
    "sample_mean = 8\n",
    "hypothesized_mean = 10\n",
    "sample_std_dev = 3\n",
    "sample_size = 100\n",
    "significance_level = 0.05\n",
    "\n",
    "# Calculate the standard error of the mean\n",
    "standard_error = sample_std_dev / math.sqrt(sample_size)\n",
    "\n",
    "# Calculate the t-statistic\n",
    "t_statistic = (sample_mean - hypothesized_mean) / standard_error\n",
    "\n",
    "# Degrees of freedom for a one-sample t-test\n",
    "degrees_of_freedom = sample_size - 1\n",
    "\n",
    "# Calculate the critical value for a two-tailed test\n",
    "critical_value = t.ppf(1 - significance_level / 2, df=degrees_of_freedom)\n",
    "\n",
    "# Test the hypothesis\n",
    "if abs(t_statistic) > critical_value:\n",
    "    print(\"Reject the null hypothesis. There is enough evidence to suggest a significant effect.\")\n",
    "else:\n",
    "    print(\"Fail to reject the null hypothesis. The effect is not statistically significant.\")\n",
    "\n",
    "# Output the t-statistic and critical value for reference\n",
    "print(f\"T-Statistic: {t_statistic:.2f}\")\n",
    "print(f\"Critical Value: {critical_value:.2f}\")\n"
   ]
  },
  {
   "cell_type": "code",
   "execution_count": 32,
   "id": "0dd1435f-addc-404b-b96b-fd01aa3a1157",
   "metadata": {},
   "outputs": [],
   "source": [
    "# Q15. An electronics company produces a certain type of product with a mean weight of 5 pounds and a\n",
    "# standard deviation of 0.5 pounds. A random sample of 25 products is taken, and the sample mean weight\n",
    "# is found to be 4.8 pounds. Test the hypothesis that the true mean weight of the products is less than 5\n",
    "# pounds with a significance level of 0.01."
   ]
  },
  {
   "cell_type": "code",
   "execution_count": 33,
   "id": "74f122d2-9ca1-4954-9731-07fc0d28ce43",
   "metadata": {},
   "outputs": [
    {
     "name": "stdout",
     "output_type": "stream",
     "text": [
      "Fail to reject the null hypothesis. The evidence is not sufficient to conclude that the true mean weight is less than 5 pounds.\n",
      "T-Statistic: -2.00\n",
      "Critical Value: -2.49\n"
     ]
    }
   ],
   "source": [
    "import math\n",
    "from scipy.stats import t\n",
    "\n",
    "# Given data\n",
    "hypothesized_mean = 5\n",
    "sample_mean = 4.8\n",
    "sample_std_dev = 0.5\n",
    "sample_size = 25\n",
    "significance_level = 0.01\n",
    "\n",
    "# Calculate the standard error of the mean\n",
    "standard_error = sample_std_dev / math.sqrt(sample_size)\n",
    "\n",
    "# Calculate the t-statistic\n",
    "t_statistic = (sample_mean - hypothesized_mean) / standard_error\n",
    "\n",
    "# Degrees of freedom for a one-sample t-test\n",
    "degrees_of_freedom = sample_size - 1\n",
    "\n",
    "# Calculate the critical value for a one-tailed test (left tail)\n",
    "critical_value = t.ppf(significance_level, df=degrees_of_freedom)\n",
    "\n",
    "# Test the hypothesis\n",
    "if t_statistic < critical_value:\n",
    "    print(\"Reject the null hypothesis. There is enough evidence to suggest the true mean weight is less than 5 pounds.\")\n",
    "else:\n",
    "    print(\"Fail to reject the null hypothesis. The evidence is not sufficient to conclude that the true mean weight is less than 5 pounds.\")\n",
    "\n",
    "# Output the t-statistic and critical value for reference\n",
    "print(f\"T-Statistic: {t_statistic:.2f}\")\n",
    "print(f\"Critical Value: {critical_value:.2f}\")\n"
   ]
  },
  {
   "cell_type": "code",
   "execution_count": 34,
   "id": "eb2e88c8-b57e-4fd9-ad17-571016c2f201",
   "metadata": {},
   "outputs": [],
   "source": [
    "# Q16. Two groups of students are given different study materials to prepare for a test. The first group (n1 =\n",
    "# 30) has a mean score of 80 with a standard deviation of 10, and the second group (n2 = 40) has a mean\n",
    "# score of 75 with a standard deviation of 8. Test the hypothesis that the population means for the two\n",
    "# groups are equal with a significance level of 0.01."
   ]
  },
  {
   "cell_type": "code",
   "execution_count": 35,
   "id": "03b65ff2-1302-4886-a04d-8fc16fba5241",
   "metadata": {},
   "outputs": [
    {
     "name": "stdout",
     "output_type": "stream",
     "text": [
      "Fail to reject the null hypothesis. The evidence is not sufficient to conclude that the population means are different.\n",
      "T-Statistic: 2.25\n",
      "Critical Value: 2.65\n"
     ]
    }
   ],
   "source": [
    "import math\n",
    "from scipy.stats import t\n",
    "\n",
    "# Given data for Group 1\n",
    "mean_group1 = 80\n",
    "std_dev_group1 = 10\n",
    "sample_size_group1 = 30\n",
    "\n",
    "# Given data for Group 2\n",
    "mean_group2 = 75\n",
    "std_dev_group2 = 8\n",
    "sample_size_group2 = 40\n",
    "\n",
    "# Significance level\n",
    "significance_level = 0.01\n",
    "\n",
    "# Calculate the t-statistic\n",
    "t_statistic = (mean_group1 - mean_group2) / math.sqrt((std_dev_group1**2 / sample_size_group1) + (std_dev_group2**2 / sample_size_group2))\n",
    "\n",
    "# Degrees of freedom for a two-sample t-test\n",
    "degrees_of_freedom = sample_size_group1 + sample_size_group2 - 2\n",
    "\n",
    "# Calculate the critical value for a two-tailed test\n",
    "critical_value = t.ppf(1 - significance_level / 2, df=degrees_of_freedom)\n",
    "\n",
    "# Test the hypothesis\n",
    "if abs(t_statistic) > critical_value:\n",
    "    print(\"Reject the null hypothesis. There is enough evidence to suggest that the population means are not equal.\")\n",
    "else:\n",
    "    print(\"Fail to reject the null hypothesis. The evidence is not sufficient to conclude that the population means are different.\")\n",
    "\n",
    "# Output the t-statistic and critical value for reference\n",
    "print(f\"T-Statistic: {t_statistic:.2f}\")\n",
    "print(f\"Critical Value: {critical_value:.2f}\")\n"
   ]
  },
  {
   "cell_type": "code",
   "execution_count": 36,
   "id": "19d8bf60-9bf6-4076-af9c-60b84279d4c6",
   "metadata": {},
   "outputs": [],
   "source": [
    "# Q17. A marketing company wants to estimate the average number of ads watched by viewers during a TV\n",
    "# program. They take a random sample of 50 viewers and find that the sample mean is 4 with a standard\n",
    "# deviation of 1.5. Estimate the population mean with a 99% confidence interval."
   ]
  },
  {
   "cell_type": "code",
   "execution_count": 37,
   "id": "5494f371-e944-441a-a12e-1ded1ef796e3",
   "metadata": {},
   "outputs": [
    {
     "name": "stdout",
     "output_type": "stream",
     "text": [
      "99% Confidence Interval: (3.45, 4.55)\n"
     ]
    }
   ],
   "source": [
    "import math\n",
    "\n",
    "# Given data\n",
    "sample_mean = 4\n",
    "sample_std_dev = 1.5\n",
    "sample_size = 50\n",
    "confidence_level = 0.99\n",
    "\n",
    "# Calculate the standard error of the mean\n",
    "standard_error = sample_std_dev / math.sqrt(sample_size)\n",
    "\n",
    "# Calculate the margin of error using the Z-score for a 99% confidence interval\n",
    "z_score = 2.576\n",
    "margin_of_error = z_score * standard_error\n",
    "\n",
    "# Calculate the confidence interval\n",
    "lower_bound = sample_mean - margin_of_error\n",
    "upper_bound = sample_mean + margin_of_error\n",
    "\n",
    "# Display the results\n",
    "print(f\"99% Confidence Interval: ({lower_bound:.2f}, {upper_bound:.2f})\")\n"
   ]
  },
  {
   "cell_type": "code",
   "execution_count": null,
   "id": "6dddd6de-8685-4aa5-ae1b-3ad8a7ee223a",
   "metadata": {},
   "outputs": [],
   "source": []
  }
 ],
 "metadata": {
  "kernelspec": {
   "display_name": "Python 3 (ipykernel)",
   "language": "python",
   "name": "python3"
  },
  "language_info": {
   "codemirror_mode": {
    "name": "ipython",
    "version": 3
   },
   "file_extension": ".py",
   "mimetype": "text/x-python",
   "name": "python",
   "nbconvert_exporter": "python",
   "pygments_lexer": "ipython3",
   "version": "3.10.8"
  }
 },
 "nbformat": 4,
 "nbformat_minor": 5
}
