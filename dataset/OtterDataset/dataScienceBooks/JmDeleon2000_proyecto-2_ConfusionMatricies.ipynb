{
 "cells": [
  {
   "cell_type": "code",
   "execution_count": 1,
   "metadata": {},
   "outputs": [],
   "source": [
    "import pandas as pd\n",
    "from tensorflow import keras\n",
    "import numpy as np\n",
    "import matplotlib.pyplot as plt\n",
    "from PIL import Image\n",
    "from sklearn import metrics"
   ]
  },
  {
   "cell_type": "code",
   "execution_count": 3,
   "metadata": {},
   "outputs": [
    {
     "data": {
      "text/html": [
       "<div>\n",
       "<style scoped>\n",
       "    .dataframe tbody tr th:only-of-type {\n",
       "        vertical-align: middle;\n",
       "    }\n",
       "\n",
       "    .dataframe tbody tr th {\n",
       "        vertical-align: top;\n",
       "    }\n",
       "\n",
       "    .dataframe thead th {\n",
       "        text-align: right;\n",
       "    }\n",
       "</style>\n",
       "<table border=\"1\" class=\"dataframe\">\n",
       "  <thead>\n",
       "    <tr style=\"text-align: right;\">\n",
       "      <th></th>\n",
       "      <th>image_id</th>\n",
       "      <th>label</th>\n",
       "    </tr>\n",
       "  </thead>\n",
       "  <tbody>\n",
       "    <tr>\n",
       "      <th>0</th>\n",
       "      <td>006388_0</td>\n",
       "      <td>CE</td>\n",
       "    </tr>\n",
       "    <tr>\n",
       "      <th>1</th>\n",
       "      <td>008e5c_0</td>\n",
       "      <td>CE</td>\n",
       "    </tr>\n",
       "    <tr>\n",
       "      <th>2</th>\n",
       "      <td>00c058_0</td>\n",
       "      <td>LAA</td>\n",
       "    </tr>\n",
       "    <tr>\n",
       "      <th>3</th>\n",
       "      <td>01adc5_0</td>\n",
       "      <td>LAA</td>\n",
       "    </tr>\n",
       "    <tr>\n",
       "      <th>4</th>\n",
       "      <td>026c97_0</td>\n",
       "      <td>CE</td>\n",
       "    </tr>\n",
       "  </tbody>\n",
       "</table>\n",
       "</div>"
      ],
      "text/plain": [
       "   image_id label\n",
       "0  006388_0    CE\n",
       "1  008e5c_0    CE\n",
       "2  00c058_0   LAA\n",
       "3  01adc5_0   LAA\n",
       "4  026c97_0    CE"
      ]
     },
     "execution_count": 3,
     "metadata": {},
     "output_type": "execute_result"
    }
   ],
   "source": [
    "df = pd.read_csv('data/train.csv').dropna()\n",
    "df.drop(columns=['center_id', 'patient_id', 'image_num'], inplace=True)\n",
    "df.head()"
   ]
  },
  {
   "cell_type": "code",
   "execution_count": 4,
   "metadata": {},
   "outputs": [
    {
     "data": {
      "text/plain": [
       "547"
      ]
     },
     "execution_count": 4,
     "metadata": {},
     "output_type": "execute_result"
    }
   ],
   "source": [
    "CE_count = df.where(df['label'] == 'CE').count()[0]\n",
    "CE_count"
   ]
  },
  {
   "cell_type": "code",
   "execution_count": 5,
   "metadata": {},
   "outputs": [
    {
     "data": {
      "text/plain": [
       "207"
      ]
     },
     "execution_count": 5,
     "metadata": {},
     "output_type": "execute_result"
    }
   ],
   "source": [
    "LAA_count = df.where(df['label'] == 'LAA').count()[0]\n",
    "LAA_count"
   ]
  },
  {
   "cell_type": "code",
   "execution_count": 6,
   "metadata": {},
   "outputs": [
    {
     "data": {
      "text/plain": [
       "207"
      ]
     },
     "execution_count": 6,
     "metadata": {},
     "output_type": "execute_result"
    }
   ],
   "source": [
    "cutoff = CE_count if CE_count < LAA_count else LAA_count\n",
    "cutoff"
   ]
  },
  {
   "cell_type": "code",
   "execution_count": 7,
   "metadata": {},
   "outputs": [],
   "source": [
    "CE = df.where(df['label'] == 'CE').dropna().head(cutoff)\n",
    "LAA = df.where(df['label'] == 'LAA').dropna().head(cutoff)"
   ]
  },
  {
   "cell_type": "code",
   "execution_count": 8,
   "metadata": {},
   "outputs": [
    {
     "data": {
      "text/html": [
       "<div>\n",
       "<style scoped>\n",
       "    .dataframe tbody tr th:only-of-type {\n",
       "        vertical-align: middle;\n",
       "    }\n",
       "\n",
       "    .dataframe tbody tr th {\n",
       "        vertical-align: top;\n",
       "    }\n",
       "\n",
       "    .dataframe thead th {\n",
       "        text-align: right;\n",
       "    }\n",
       "</style>\n",
       "<table border=\"1\" class=\"dataframe\">\n",
       "  <thead>\n",
       "    <tr style=\"text-align: right;\">\n",
       "      <th></th>\n",
       "      <th>image_id</th>\n",
       "      <th>label</th>\n",
       "    </tr>\n",
       "  </thead>\n",
       "  <tbody>\n",
       "    <tr>\n",
       "      <th>0</th>\n",
       "      <td>006388_0</td>\n",
       "      <td>CE</td>\n",
       "    </tr>\n",
       "    <tr>\n",
       "      <th>1</th>\n",
       "      <td>008e5c_0</td>\n",
       "      <td>CE</td>\n",
       "    </tr>\n",
       "    <tr>\n",
       "      <th>4</th>\n",
       "      <td>026c97_0</td>\n",
       "      <td>CE</td>\n",
       "    </tr>\n",
       "    <tr>\n",
       "      <th>6</th>\n",
       "      <td>029c68_0</td>\n",
       "      <td>CE</td>\n",
       "    </tr>\n",
       "    <tr>\n",
       "      <th>7</th>\n",
       "      <td>032f10_0</td>\n",
       "      <td>CE</td>\n",
       "    </tr>\n",
       "    <tr>\n",
       "      <th>...</th>\n",
       "      <td>...</td>\n",
       "      <td>...</td>\n",
       "    </tr>\n",
       "    <tr>\n",
       "      <th>740</th>\n",
       "      <td>fd684f_0</td>\n",
       "      <td>LAA</td>\n",
       "    </tr>\n",
       "    <tr>\n",
       "      <th>745</th>\n",
       "      <td>fde9ba_0</td>\n",
       "      <td>LAA</td>\n",
       "    </tr>\n",
       "    <tr>\n",
       "      <th>750</th>\n",
       "      <td>fe9bec_0</td>\n",
       "      <td>LAA</td>\n",
       "    </tr>\n",
       "    <tr>\n",
       "      <th>752</th>\n",
       "      <td>ffec5c_0</td>\n",
       "      <td>LAA</td>\n",
       "    </tr>\n",
       "    <tr>\n",
       "      <th>753</th>\n",
       "      <td>ffec5c_1</td>\n",
       "      <td>LAA</td>\n",
       "    </tr>\n",
       "  </tbody>\n",
       "</table>\n",
       "<p>414 rows × 2 columns</p>\n",
       "</div>"
      ],
      "text/plain": [
       "     image_id label\n",
       "0    006388_0    CE\n",
       "1    008e5c_0    CE\n",
       "4    026c97_0    CE\n",
       "6    029c68_0    CE\n",
       "7    032f10_0    CE\n",
       "..        ...   ...\n",
       "740  fd684f_0   LAA\n",
       "745  fde9ba_0   LAA\n",
       "750  fe9bec_0   LAA\n",
       "752  ffec5c_0   LAA\n",
       "753  ffec5c_1   LAA\n",
       "\n",
       "[414 rows x 2 columns]"
      ]
     },
     "execution_count": 8,
     "metadata": {},
     "output_type": "execute_result"
    }
   ],
   "source": [
    "data = pd.concat([CE, LAA]).dropna()\n",
    "data.head(cutoff*2)"
   ]
  },
  {
   "cell_type": "code",
   "execution_count": 9,
   "metadata": {},
   "outputs": [
    {
     "data": {
      "text/plain": [
       "(414, 512, 512)"
      ]
     },
     "execution_count": 9,
     "metadata": {},
     "output_type": "execute_result"
    }
   ],
   "source": [
    "images = np.array([np.array(Image.open(f'jpgs/{img_id}.jpg')) for img_id in data['image_id']])\n",
    "images.shape"
   ]
  },
  {
   "cell_type": "code",
   "execution_count": 10,
   "metadata": {},
   "outputs": [],
   "source": [
    "enc_labels = np.zeros(shape=(414, 2))\n",
    "for i, label in enumerate(data['label']):\n",
    "    enc_labels[i][1 if label == 'CE' else 0] = 1"
   ]
  },
  {
   "cell_type": "code",
   "execution_count": 2,
   "metadata": {},
   "outputs": [
    {
     "ename": "NameError",
     "evalue": "name 'images' is not defined",
     "output_type": "error",
     "traceback": [
      "\u001b[1;31m---------------------------------------------------------------------------\u001b[0m",
      "\u001b[1;31mNameError\u001b[0m                                 Traceback (most recent call last)",
      "\u001b[1;32md:\\deUvG\\Data_Science\\proyecto-2\\ConfusionMatricies.ipynb Cell 10\u001b[0m in \u001b[0;36m<cell line: 2>\u001b[1;34m()\u001b[0m\n\u001b[0;32m      <a href='vscode-notebook-cell:/d%3A/deUvG/Data_Science/proyecto-2/ConfusionMatricies.ipynb#X12sZmlsZQ%3D%3D?line=0'>1</a>\u001b[0m modelv1 \u001b[39m=\u001b[39m keras\u001b[39m.\u001b[39mmodels\u001b[39m.\u001b[39mload_model(\u001b[39m'\u001b[39m\u001b[39mconvNN_save_at_25.h5\u001b[39m\u001b[39m'\u001b[39m) \n\u001b[1;32m----> <a href='vscode-notebook-cell:/d%3A/deUvG/Data_Science/proyecto-2/ConfusionMatricies.ipynb#X12sZmlsZQ%3D%3D?line=1'>2</a>\u001b[0m prediction \u001b[39m=\u001b[39m modelv1\u001b[39m.\u001b[39mpredict(images)\n",
      "\u001b[1;31mNameError\u001b[0m: name 'images' is not defined"
     ]
    }
   ],
   "source": [
    "modelv1 = keras.models.load_model('convNN_save_at_25.h5') \n",
    "prediction = modelv1.predict(images)"
   ]
  },
  {
   "cell_type": "code",
   "execution_count": 12,
   "metadata": {},
   "outputs": [],
   "source": [
    "predicted_labels=['CE' if np.argmax(i) == 1 else 'LAA' for i in prediction]"
   ]
  },
  {
   "cell_type": "code",
   "execution_count": 13,
   "metadata": {},
   "outputs": [
    {
     "data": {
      "text/plain": [
       "0.8478260869565217"
      ]
     },
     "execution_count": 13,
     "metadata": {},
     "output_type": "execute_result"
    }
   ],
   "source": [
    "metrics.accuracy_score(y_true=data['label'], y_pred=predicted_labels)"
   ]
  },
  {
   "cell_type": "code",
   "execution_count": 14,
   "metadata": {},
   "outputs": [
    {
     "data": {
      "image/png": "[encoded data removed]",
      "text/plain": [
       "<Figure size 640x480 with 2 Axes>"
      ]
     },
     "metadata": {},
     "output_type": "display_data"
    },
    {
     "data": {
      "image/png": "[encoded data removed]",
      "text/plain": [
       "<Figure size 640x480 with 2 Axes>"
      ]
     },
     "metadata": {},
     "output_type": "display_data"
    }
   ],
   "source": [
    "cf = metrics.multilabel_confusion_matrix(y_true=data['label'], y_pred=predicted_labels, labels=['CE', 'LAA'])\n",
    "for i, v in enumerate(cf):\n",
    "    disp = metrics.ConfusionMatrixDisplay(v).plot()\n",
    "    plt.title(f'{i}')"
   ]
  },
  {
   "cell_type": "code",
   "execution_count": 19,
   "metadata": {},
   "outputs": [
    {
     "name": "stdout",
     "output_type": "stream",
     "text": [
      "13/13 [==============================] - 6s 424ms/step\n"
     ]
    }
   ],
   "source": [
    "modelv2 = keras.models.load_model('convNNv2_save_at_25.h5') \n",
    "prediction = modelv2.predict(images)"
   ]
  },
  {
   "cell_type": "code",
   "execution_count": 20,
   "metadata": {},
   "outputs": [],
   "source": [
    "predicted_labels=['CE' if np.argmax(i) == 1 else 'LAA' for i in prediction]"
   ]
  },
  {
   "cell_type": "code",
   "execution_count": 21,
   "metadata": {},
   "outputs": [
    {
     "data": {
      "text/plain": [
       "0.5"
      ]
     },
     "execution_count": 21,
     "metadata": {},
     "output_type": "execute_result"
    }
   ],
   "source": [
    "metrics.accuracy_score(y_true=data['label'], y_pred=predicted_labels)"
   ]
  },
  {
   "cell_type": "code",
   "execution_count": 1,
   "metadata": {},
   "outputs": [
    {
     "ename": "NameError",
     "evalue": "name 'metrics' is not defined",
     "output_type": "error",
     "traceback": [
      "\u001b[1;31m---------------------------------------------------------------------------\u001b[0m",
      "\u001b[1;31mNameError\u001b[0m                                 Traceback (most recent call last)",
      "\u001b[1;32md:\\UVG\\2022\\Semestre 2 2022\\Data science\\Proyecto 2\\proyecto-2\\ConfusionMatricies.ipynb Celda 17\u001b[0m in \u001b[0;36m<module>\u001b[1;34m\u001b[0m\n\u001b[1;32m----> <a href='vscode-notebook-cell:/d%3A/UVG/2022/Semestre%202%202022/Data%20science/Proyecto%202/proyecto-2/ConfusionMatricies.ipynb#X22sZmlsZQ%3D%3D?line=0'>1</a>\u001b[0m cf \u001b[39m=\u001b[39m metrics\u001b[39m.\u001b[39mmultilabel_confusion_matrix(y_true\u001b[39m=\u001b[39mdata[\u001b[39m'\u001b[39m\u001b[39mlabel\u001b[39m\u001b[39m'\u001b[39m], y_pred\u001b[39m=\u001b[39mpredicted_labels, labels\u001b[39m=\u001b[39m[\u001b[39m'\u001b[39m\u001b[39mCE\u001b[39m\u001b[39m'\u001b[39m, \u001b[39m'\u001b[39m\u001b[39mLAA\u001b[39m\u001b[39m'\u001b[39m])\n\u001b[0;32m      <a href='vscode-notebook-cell:/d%3A/UVG/2022/Semestre%202%202022/Data%20science/Proyecto%202/proyecto-2/ConfusionMatricies.ipynb#X22sZmlsZQ%3D%3D?line=1'>2</a>\u001b[0m \u001b[39mfor\u001b[39;00m i, v \u001b[39min\u001b[39;00m \u001b[39menumerate\u001b[39m(cf):\n\u001b[0;32m      <a href='vscode-notebook-cell:/d%3A/UVG/2022/Semestre%202%202022/Data%20science/Proyecto%202/proyecto-2/ConfusionMatricies.ipynb#X22sZmlsZQ%3D%3D?line=2'>3</a>\u001b[0m     disp \u001b[39m=\u001b[39m metrics\u001b[39m.\u001b[39mConfusionMatrixDisplay(v)\u001b[39m.\u001b[39mplot()\n",
      "\u001b[1;31mNameError\u001b[0m: name 'metrics' is not defined"
     ]
    }
   ],
   "source": [
    "cf = metrics.multilabel_confusion_matrix(y_true=data['label'], y_pred=predicted_labels, labels=['CE', 'LAA'])\n",
    "for i, v in enumerate(cf):\n",
    "    disp = metrics.ConfusionMatrixDisplay(v).plot()\n",
    "    plt.title(f'{i}')"
   ]
  },
  {
   "cell_type": "code",
   "execution_count": 1,
   "metadata": {},
   "outputs": [
    {
     "name": "stdout",
     "output_type": "stream",
     "text": [
      "Se selecciono una archivo\n",
      "D:/deUvG/Data_Science/proyecto-2/jpgs/0b7cc8_0.jpg\n",
      "Boton 1 presionado\n",
      "Enviare este file al modelo 1 : D:/deUvG/Data_Science/proyecto-2/jpgs/0b7cc8_0.jpg\n"
     ]
    },
    {
     "ename": "NameError",
     "evalue": "name 'filename' is not defined",
     "output_type": "error",
     "traceback": [
      "\u001b[1;31m---------------------------------------------------------------------------\u001b[0m",
      "\u001b[1;31mNameError\u001b[0m                                 Traceback (most recent call last)",
      "\u001b[1;32md:\\deUvG\\Data_Science\\proyecto-2\\ConfusionMatricies.ipynb Cell 18\u001b[0m in \u001b[0;36m<cell line: 80>\u001b[1;34m()\u001b[0m\n\u001b[0;32m     <a href='vscode-notebook-cell:/d%3A/deUvG/Data_Science/proyecto-2/ConfusionMatricies.ipynb#X23sZmlsZQ%3D%3D?line=83'>84</a>\u001b[0m \t\u001b[39mprint\u001b[39m(\u001b[39m\"\u001b[39m\u001b[39mBoton 1 presionado\u001b[39m\u001b[39m\"\u001b[39m)\n\u001b[0;32m     <a href='vscode-notebook-cell:/d%3A/deUvG/Data_Science/proyecto-2/ConfusionMatricies.ipynb#X23sZmlsZQ%3D%3D?line=84'>85</a>\u001b[0m \t\u001b[39mprint\u001b[39m(\u001b[39m\"\u001b[39m\u001b[39mEnviare este file al modelo 1 : \u001b[39m\u001b[39m\"\u001b[39m \u001b[39m+\u001b[39mglobalfile)\n\u001b[1;32m---> <a href='vscode-notebook-cell:/d%3A/deUvG/Data_Science/proyecto-2/ConfusionMatricies.ipynb#X23sZmlsZQ%3D%3D?line=85'>86</a>\u001b[0m \tmakeprediction(filename)\n\u001b[0;32m     <a href='vscode-notebook-cell:/d%3A/deUvG/Data_Science/proyecto-2/ConfusionMatricies.ipynb#X23sZmlsZQ%3D%3D?line=86'>87</a>\u001b[0m \tmywindow[\u001b[39m\"\u001b[39m\u001b[39m-OUTPUT-\u001b[39m\u001b[39m\"\u001b[39m]\u001b[39m.\u001b[39mupdate(\u001b[39m\"\u001b[39m\u001b[39mresultado del modelo1\u001b[39m\u001b[39m\"\u001b[39m) \n\u001b[0;32m     <a href='vscode-notebook-cell:/d%3A/deUvG/Data_Science/proyecto-2/ConfusionMatricies.ipynb#X23sZmlsZQ%3D%3D?line=87'>88</a>\u001b[0m \u001b[39mif\u001b[39;00m event \u001b[39m==\u001b[39m button2text :\n",
      "\u001b[1;31mNameError\u001b[0m: name 'filename' is not defined"
     ]
    },
    {
     "ename": "",
     "evalue": "",
     "output_type": "error",
     "traceback": [
      "\u001b[1;31mThe Kernel crashed while executing code in the the current cell or a previous cell. Please review the code in the cell(s) to identify a possible cause of the failure. Click <a href='https://aka.ms/vscodeJupyterKernelCrash'>here</a> for more info. View Jupyter <a href='command:jupyter.viewOutput'>log</a> for further details."
     ]
    }
   ],
   "source": [
    "import PySimpleGUI as sg\n",
    "import os.path\n",
    "from PIL import Image\n",
    "import pandas as pd\n",
    "from tensorflow import keras\n",
    "import numpy as np\n",
    "import matplotlib.pyplot as plt\n",
    "from PIL import Image\n",
    "from sklearn import metrics\n",
    "\n",
    "modelv1 = keras.models.load_model('convNN_save_at_25.h5') \n",
    "modelv2 = keras.models.load_model('convNNv2_25.h5') \n",
    "\n",
    "\n",
    "\n",
    "\n",
    "\n",
    "# im1 = Image.open(\"./example.jpg\")\n",
    "\n",
    "# im1.show()\n",
    "color_base= '#2776c1'\n",
    "color_fondo_secundario= '#70a7db'\n",
    "color_secundario= '#fb8300'\n",
    "button1text= \"Classify Using model 1\"\n",
    "button2text= \"Classify Using model 2\"\n",
    "globalfile=\"\"\n",
    "\n",
    "# demoImage= Image.open(globalfile)\n",
    "def makeprediction(filename):\n",
    "\tprediction = modelv1.predict(Image.open(filename))\n",
    "\tprint(prediction)\n",
    "\n",
    "\n",
    "\n",
    "\n",
    "\n",
    "\n",
    "layout1 = [\n",
    "\t[\n",
    "\tsg.Text(\"Seleccionar Imagen\"),\n",
    "\tsg.In(size = (21,1), enable_events=True, key=\"-FILE-\" ,background_color=color_fondo_secundario),\n",
    "\t# sg.FolderBrowse(),\n",
    "\tsg.FileBrowse(key=\"-FILE-\"),\n",
    "\n",
    "\t],[sg.HSeparator()],\n",
    "\t[sg.Image(key=\"-IMAGE-\")]\n",
    "\t\n",
    "\t\n",
    "]\n",
    "\n",
    "layout2 = [\n",
    "\t[sg.Text(\"Seleccionar el modelo\")],\n",
    "\t# [sg.Text(\"Seleccionar el modelo\" , key=\"filename\")],\n",
    "\t[sg.Text(\"Modelo 1: 85% Accuracy\")],\n",
    "\t[sg.Button(button1text)],\n",
    "\t[sg.Text(\"Modelo 2: 52% Accuracy\")],\n",
    "\t[sg.Button(button2text)],\n",
    "\n",
    "\t[sg.Text(\"OUTPUT:\")],\n",
    "\t[sg.Text(\"\",key=\"-OUTPUT-\")],\n",
    "\n",
    "\n",
    "\n",
    "\n",
    "\t]\t\n",
    "\n",
    "layout = [\n",
    "\t[\n",
    "\t\tsg.Column(layout1),\n",
    "\t\tsg.VSeparator(),\n",
    "\t\tsg.Column(layout2)\n",
    "\n",
    "\t]\n",
    "\n",
    "\n",
    "]\n",
    "\n",
    "mywindow = sg.Window(title=\"Classifier\", layout=layout, margins=(100,50) , background_color=color_base)\n",
    "\n",
    "while True:\n",
    "\tevent, values = mywindow.read()\n",
    "\n",
    "\tif event == button1text:\n",
    "\t\tprint(\"Boton 1 presionado\")\n",
    "\t\tprint(\"Enviare este file al modelo 1 : \" +globalfile)\n",
    "\t\tmakeprediction(globalfile)\n",
    "\t\tmywindow[\"-OUTPUT-\"].update(\"resultado del modelo1\") \n",
    "\tif event == button2text :\n",
    "\t\tprint(\"Boton 2 presionado\")\n",
    "\t\tprint(\"Enviare este file al modelo 2 : \" +globalfile)\n",
    "\t\tmywindow[\"-OUTPUT-\"].update(\"resultado del modelo2\") \n",
    "\n",
    "\n",
    "\tif event == \"-FILE-\" :\n",
    "\t\tprint(\"Se selecciono una archivo\")\n",
    "\t\tfile= values[\"-FILE-\"]\n",
    "\t\tprint(file)\n",
    "\t\tglobalfile=file\n",
    "\t\tdemoImage= Image.open(globalfile)\n",
    "\t\tdemoImage.save(\"demo.png\")\n",
    "\t\t#mywindow[\"filename\"].update(file)\n",
    "\t\tmywindow[\"-IMAGE-\"].update(filename=\"demo.png\")\n",
    "\n",
    "\n",
    "\n",
    "\tif event == sg.WIN_CLOSED:\n",
    "\t\tbreak\n",
    "\n",
    "\tif event == \"-FOLDER-\":\n",
    "\t\tfolder = values [\"-FOLDER-\"]\n",
    "\t\ttry:\n",
    "\t\t\tfile_list = os.listdir(folder)\n",
    "\t\texcept:\n",
    "\t\t\tfile_list= []\n",
    "\n",
    "\t\tfnames = [\n",
    "\t\t\tf \n",
    "\t\t\tfor f in file_list\n",
    "\t\t\tif os.path.isfile(os.path.join(folder ,f)) and f.lower().endswith((\".png\",\".gif\"))\n",
    "\t\t]\n",
    "\t\tmywindow[\"-FILE_LIST-\"].update(fnames)\n",
    "\tif event ==\"-FILE_LIST-\":\n",
    "\t\ttry:\n",
    "\t\t\tfilename=os.path.join (values[\"-FOLDER-\"], values[\"-FILE_LIST-\"][0])\n",
    "\t\t\tfilename = values[\"-FILE-\"]\n",
    "\t\t\t#mywindow[\"filename\"].update(filename)\n",
    "\t\t\tmywindow[\"-IMAGE-\"].update(filename=filename)\n",
    "\t\texcept:\n",
    "\t\t\tpass\n",
    "\n",
    "\n",
    "\n",
    "mywindow.close()"
   ]
  },
  {
   "cell_type": "code",
   "execution_count": null,
   "metadata": {},
   "outputs": [],
   "source": []
  }
 ],
 "metadata": {
  "kernelspec": {
   "display_name": "Python 3.10.8 64-bit (microsoft store)",
   "language": "python",
   "name": "python3"
  },
  "language_info": {
   "codemirror_mode": {
    "name": "ipython",
    "version": 3
   },
   "file_extension": ".py",
   "mimetype": "text/x-python",
   "name": "python",
   "nbconvert_exporter": "python",
   "pygments_lexer": "ipython3",
   "version": "3.10.8"
  },
  "orig_nbformat": 4,
  "vscode": {
   "interpreter": {
    "hash": "0dd6fa3abc8b5e7149b352393c5164f57b1cec79d3e0f994a3fd8126332678a6"
   }
  }
 },
 "nbformat": 4,
 "nbformat_minor": 2
}
