{
 "cells": [
  {
   "cell_type": "code",
   "execution_count": 1,
   "metadata": {},
   "outputs": [
    {
     "name": "stdout",
     "output_type": "stream",
     "text": [
      "AssignmentPython4-IfElse\n",
      "************************\n",
      "\n"
     ]
    }
   ],
   "source": [
    "#AssignmentPython4-IfElse\n",
    "Header = \"AssignmentPython4-IfElse\"\n",
    "print(Header + \"\\n\" + \"*\"*len(Header)+\"\\n\")"
   ]
  },
  {
   "cell_type": "code",
   "execution_count": 5,
   "metadata": {},
   "outputs": [
    {
     "name": "stdout",
     "output_type": "stream",
     "text": [
      "\n",
      "Task1: WAP to input 2 numbers and check whether the first is divisible by the second:\n",
      "--------------------------------------------------------------------------------------\n",
      "Enter Number1:8\n",
      "Enter Number2:2\n",
      "True\n"
     ]
    }
   ],
   "source": [
    "'''\n",
    "Task1: WAP to input 2 numbers and check whether the first is divisible by the second and print true or\n",
    "false depending on the divisibility.\n",
    "'''\n",
    "Task = \"\\nTask1: WAP to input 2 numbers and check whether the first is divisible by the second:\"\n",
    "print(Task + \"\\n\" + \"-\"*len(Task))\n",
    "\n",
    "Num1 = int(input(\"Enter Number1:\"))\n",
    "Num2 = int(input(\"Enter Number2:\"))\n",
    "\n",
    "if(Num1%Num2 == 0):\n",
    "    print(True)\n",
    "else:\n",
    "    print(False)"
   ]
  },
  {
   "cell_type": "code",
   "execution_count": 16,
   "metadata": {},
   "outputs": [
    {
     "name": "stdout",
     "output_type": "stream",
     "text": [
      "\n",
      "Task2: In the palindrome example, make the code case insensitive:\n",
      "------------------------------------------------------------------\n",
      "Enter a string: Naman\n",
      "Yes.\n"
     ]
    }
   ],
   "source": [
    "'''\n",
    "Task2: In the palindrome example, make the code case insensitive.\n",
    "i.e. Naman should also be treated as a palindrome (HINT: first convert to either upper or lower case).\n",
    "'''\n",
    "Task = \"\\nTask2: In the palindrome example, make the code case insensitive:\"\n",
    "print(Task + \"\\n\" + \"-\"*len(Task))\n",
    "\n",
    "Str = input(\"Enter a string: \").lower()\n",
    "rStr = Str[::-1]\n",
    "if(Str == rStr):\n",
    "    print(\"Yes.\")\n",
    "else:\n",
    "    print(\"No.\")"
   ]
  },
  {
   "cell_type": "code",
   "execution_count": 26,
   "metadata": {},
   "outputs": [
    {
     "name": "stdout",
     "output_type": "stream",
     "text": [
      "\n",
      "Task3: WAP to input the sides of a triangle and print equilateral, isosceles or scalene:\n",
      "-----------------------------------------------------------------------------------------\n",
      "Enter Side1:8\n",
      "Enter Side2:5\n",
      "Enter Side3:3\n",
      "Scalene triangle.\n"
     ]
    }
   ],
   "source": [
    "'''\n",
    "Task3: WAP to input the sides of a triangle and print whether equilateral(all sides equal), isosceles\n",
    "(2 sides equal), or scalene (no sides equal).\n",
    "'''\n",
    "Task = \"\\nTask3: WAP to input the sides of a triangle and print equilateral, isosceles or scalene:\"\n",
    "print(Task + \"\\n\" + \"-\"*len(Task))\n",
    "\n",
    "Side1 = int(input(\"Enter Side1:\"))\n",
    "Side2 = int(input(\"Enter Side2:\"))\n",
    "Side3 = int(input(\"Enter Side3:\"))\n",
    "\n",
    "if(Side1 == Side2 == Side3):\n",
    "    print(\"Equilateral triangle.\")\n",
    "elif(Side1 == Side2 or Side1 == Side3 or Side2 == Side3):\n",
    "    print(\"Isosceles triangle.\")\n",
    "else:\n",
    "    print(\"Scalene triangle.\")\n",
    "\n"
   ]
  },
  {
   "cell_type": "code",
   "execution_count": 28,
   "metadata": {},
   "outputs": [
    {
     "name": "stdout",
     "output_type": "stream",
     "text": [
      "\n",
      "Task4: WAP to input a number and print if it is even or odd:\n",
      "-------------------------------------------------------------\n",
      "Enter a number: 8\n",
      "Even\n"
     ]
    }
   ],
   "source": [
    "'''\n",
    "Task4: WAP to input a number and print if it is even or odd.\n",
    "'''\n",
    "Task = \"\\nTask4: WAP to input a number and print if it is even or odd:\"\n",
    "print(Task + \"\\n\" + \"-\"*len(Task))\n",
    "\n",
    "Num = int(input(\"Enter a number: \"))\n",
    "if(Num%2 == 0):\n",
    "    print(\"Even\")\n",
    "else:\n",
    "    print(\"Odd\")\n"
   ]
  },
  {
   "cell_type": "code",
   "execution_count": 41,
   "metadata": {},
   "outputs": [
    {
     "name": "stdout",
     "output_type": "stream",
     "text": [
      "\n",
      "Task5: WAP to input age and print the respective text depending on the age ranges as present in the table:\n",
      "-----------------------------------------------------------------------------------------------------------\n",
      "Enter age: 45\n",
      "Adult.\n"
     ]
    }
   ],
   "source": [
    "'''\n",
    "Task5: WAP to input age and print the respective text depending on the age ranges as present in the table.\n",
    "'''\n",
    "Task = \"\\nTask5: WAP to input age and print the respective text depending on the age ranges as present in the table:\"\n",
    "print(Task + \"\\n\" + \"-\"*len(Task))\n",
    "\n",
    "Age = int(input(\"Enter age: \"))\n",
    "\n",
    "if(Age >= 0 and Age<=12):\n",
    "    print(\"Child.\")\n",
    "elif(Age >= 13 and Age<=17):\n",
    "    print(\"Teen.\")\n",
    "elif(Age >= 18 and Age<=50):\n",
    "    print(\"Adult.\")\n",
    "elif(Age >= 51 and Age<=100):\n",
    "    print(\"Senior Citizen.\")\n",
    "elif(Age >100):\n",
    "    print(\"Contratulations.\")\n",
    "else:\n",
    "    print(\"Invalid age.\")\n"
   ]
  },
  {
   "cell_type": "code",
   "execution_count": 51,
   "metadata": {},
   "outputs": [
    {
     "name": "stdout",
     "output_type": "stream",
     "text": [
      "\n",
      "Task6: WAP to input year and print whether leap year or not:\n",
      "-------------------------------------------------------------\n",
      "Enter year:2020\n",
      "Leap year\n"
     ]
    }
   ],
   "source": [
    "'''\n",
    "Task6: WAP to input year (check if user enters valid year. Should be 4-digit number and should not be negative)\n",
    "and print whether leap year or not. (If really interested in why you also have to check the divisibility by 400\n",
    "just google the exact time it takes for the earth to revolve around the sub).\n",
    "'''\n",
    "Task = \"\\nTask6: WAP to input year and print whether leap year or not:\"\n",
    "print(Task + \"\\n\" + \"-\"*len(Task))\n",
    "\n",
    "Year = int(input(\"Enter year:\"))\n",
    "\n",
    "if(Year < 1000 or Year > 9999):\n",
    "    print(\"Enter valid year(YYYY).\")\n",
    "else:\n",
    "    if(Year%400 == 0):\n",
    "        print(\"Leap year.\")\n",
    "    elif(Year%100 == 0):\n",
    "        print(\"Not a leap year.\")\n",
    "    elif(Year%4 == 0):\n",
    "        print(\"Leap year\")\n",
    "    else:\n",
    "        print(\"Not a leap year.\")\n"
   ]
  },
  {
   "cell_type": "code",
   "execution_count": 53,
   "metadata": {},
   "outputs": [
    {
     "name": "stdout",
     "output_type": "stream",
     "text": [
      "\n",
      "Task7: WAP to input a string and convert it to Upper Case or lower case:\n",
      "-------------------------------------------------------------------------\n",
      "Enter a string:Jaideep\n",
      "JAIDEEP\n"
     ]
    }
   ],
   "source": [
    "'''\n",
    "Task7: WAP to input a string and convert it to Upper Case\n",
    "if number of characters is odd and convert to lower case otherwise.\n",
    "'''\n",
    "Task = \"\\nTask7: WAP to input a string and convert it to Upper Case or lower case:\"\n",
    "print(Task + \"\\n\" + \"-\"*len(Task))\n",
    "\n",
    "Str = input(\"Enter a string:\")\n",
    "if(len(Str)%2 != 0):\n",
    "    print(Str.upper()) #Odd\n",
    "else:\n",
    "    print(Str.lower())\n"
   ]
  },
  {
   "cell_type": "code",
   "execution_count": 60,
   "metadata": {},
   "outputs": [
    {
     "name": "stdout",
     "output_type": "stream",
     "text": [
      "\n",
      "Task8: WAP to input a string and print Veg or Non-Veg:\n",
      "-------------------------------------------------------\n",
      "Enter a string:Chicken Egg\n",
      "Non-Veg.\n"
     ]
    }
   ],
   "source": [
    "'''\n",
    "Task8: WAP to input a string and print Veg if the string doesn’t contain the word egg.\n",
    "Otherwise print Non-Veg. As usual eggs can be both big and small.\n",
    "'''\n",
    "Task = \"\\nTask8: WAP to input a string and print Veg or Non-Veg:\"\n",
    "print(Task + \"\\n\" + \"-\"*len(Task))\n",
    "\n",
    "Str = input(\"Enter a string:\")\n",
    "\n",
    "if(Str.lower().find(\"egg\") > 0):\n",
    "    print(\"Non-Veg.\")\n",
    "else:\n",
    "    print(\"Veg.\")\n"
   ]
  },
  {
   "cell_type": "code",
   "execution_count": 67,
   "metadata": {},
   "outputs": [
    {
     "name": "stdout",
     "output_type": "stream",
     "text": [
      "\n",
      "Task9: Give output of:\n",
      "-----------------------\n",
      "True\n",
      "True\n",
      "Weird !!\n",
      "[4, 3, 2, 1]\n"
     ]
    }
   ],
   "source": [
    "'''\n",
    "Task9: Give output of.\n",
    "'''\n",
    "Task = \"\\nTask9: Give output of:\"\n",
    "print(Task + \"\\n\" + \"-\"*len(Task))\n",
    "\n",
    "if not 1:\n",
    "    print(\"False\")\n",
    "else:\n",
    "    print(\"True\")\n",
    "\n",
    "if 1:\n",
    "    print(\"True\")\n",
    "else:\n",
    "    print(\"False\")\n",
    "\n",
    "if 'a' > 'A':\n",
    "    print('Weird !!')\n",
    "else:\n",
    "    print('Makes Sense')\n",
    "\n",
    "a = [1,2,3,4]\n",
    "if(1 > 1):\n",
    "    a = a[::-1]\n",
    "else:\n",
    "    a = a[-1::-1]\n",
    "print(a)\n"
   ]
  },
  {
   "cell_type": "code",
   "execution_count": 80,
   "metadata": {},
   "outputs": [
    {
     "name": "stdout",
     "output_type": "stream",
     "text": [
      "\n",
      "Task10: WAP to input marks in 5 subjects and print the grade:\n",
      "--------------------------------------------------------------\n",
      "Enter Marks in English: 100\n",
      "Enter Marks in Hindi: 99\n",
      "Enter Marks in Maths: 100\n",
      "Enter Marks in Science: 100\n",
      "Enter Marks in Social Science: 98\n",
      "Percentage =  99.4\n",
      "Grade-A.\n"
     ]
    }
   ],
   "source": [
    "'''\n",
    "Task10: WAP to input marks in 5 subjects and print the grade as per following logic: \n",
    "% between 90-100 Grade-A\n",
    "% between 80 - 89 Grade-B\n",
    "% between 60 - 79 Grade-C\n",
    "% < 60 Grade-F.\n",
    "'''\n",
    "Task = \"\\nTask10: WAP to input marks in 5 subjects and print the grade:\"\n",
    "print(Task + \"\\n\" + \"-\"*len(Task))\n",
    "\n",
    "English = int(input(\"Enter Marks in English: \"))\n",
    "Hindi = int(input(\"Enter Marks in Hindi: \"))\n",
    "Maths = int(input(\"Enter Marks in Maths: \"))\n",
    "Science = int(input(\"Enter Marks in Science: \"))\n",
    "SScience = int(input(\"Enter Marks in Social Science: \"))\n",
    "\n",
    "Percentage = ((English+Hindi+Maths+Science+SScience)/500)*100\n",
    "print(\"Percentage = \", Percentage)\n",
    "\n",
    "if(Percentage >= 90 and Percentage<=100):\n",
    "    print(\"Grade-A.\")\n",
    "elif(Percentage >= 80 and Percentage<=89):\n",
    "    print(\"Grade-B.\")\n",
    "elif(Percentage >= 60 and Percentage<=79):\n",
    "    print(\"Grade-C.\")\n",
    "elif(Percentage<=60):\n",
    "    print(\"Grade-F.\")\n",
    "else:\n",
    "    print(\"Marks entered are wrong.\")\n"
   ]
  },
  {
   "cell_type": "code",
   "execution_count": 85,
   "metadata": {},
   "outputs": [
    {
     "name": "stdout",
     "output_type": "stream",
     "text": [
      "\n",
      "Task11: WAP to input age and salary and calculate Tax as per tax rates:\n",
      "------------------------------------------------------------------------\n",
      "Enter age:68\n",
      "Enter salary:560000\n",
      "Tax = 8%.\n"
     ]
    }
   ],
   "source": [
    "'''\n",
    "Task11: WAP to input age and salary and calculate Tax as per tax rates.\n",
    "'''\n",
    "Task = \"\\nTask11: WAP to input age and salary and calculate Tax as per tax rates:\"\n",
    "print(Task + \"\\n\" + \"-\"*len(Task))\n",
    "\n",
    "Age = int(input(\"Enter age:\"))\n",
    "Salary = int(input(\"Enter salary:\"))\n",
    "\n",
    "if(Age > 0 and Age < 60):\n",
    "    if(Salary >= 0 and Salary <= 250000):\n",
    "        print(\"Tax = 0.\")\n",
    "    elif(Salary >= 250001 and Salary <= 500000):\n",
    "        print(\"Tax = 5%.\")\n",
    "    elif(Salary >= 500001 and Salary <= 1000000):\n",
    "        print(\"Tax = 10%.\")\n",
    "    elif(Salary > 1000000):\n",
    "        print(\"Tax = 15%.\")\n",
    "    else:\n",
    "        print(\"Invalid Salary.\")\n",
    "elif(Age >= 60):\n",
    "    if(Salary >= 0 and Salary <= 250000):\n",
    "        print(\"Tax = 0.\")\n",
    "    elif(Salary >= 250001 and Salary <= 500000):\n",
    "        print(\"Tax = 3%.\")\n",
    "    elif(Salary >= 500001 and Salary <= 1000000):\n",
    "        print(\"Tax = 8%.\")\n",
    "    elif(Salary > 1000000):\n",
    "        print(\"Tax = 12%.\")\n",
    "    else:\n",
    "        print(\"Invalid Salary.\")\n",
    "else:\n",
    "    print(\"Invalid Age.\")\n"
   ]
  },
  {
   "cell_type": "code",
   "execution_count": 89,
   "metadata": {},
   "outputs": [
    {
     "name": "stdout",
     "output_type": "stream",
     "text": [
      "\n",
      "Task12: Try each of the below statements separately on the python interpreter and guess the output:\n",
      "----------------------------------------------------------------------------------------------------\n",
      "10\n",
      "10\n",
      "10\n",
      "OMG\n"
     ]
    }
   ],
   "source": [
    "'''\n",
    "Task12: Try each of the below statements separately (remember difference between statement and expression)\n",
    "on the python interpreter and guess the output before trying:\n",
    "print( 20 if not 1 == 1 else 10)\n",
    "print( 30 if not 1 == 1 else 20 if 'a' < 'A' else 10)\n",
    "print( 40 if not 1 == 1 else 30 if 'a' < 'A' else 20 if '' else 10)\n",
    "print( 'No' if not 1 == 1 else ('No' if 'a' < 'A' else ('OMG' if 'oh!!' else 'No')))\n",
    "'''\n",
    "Task = \"\\nTask12: Try each of the below statements separately on the python interpreter and guess the output:\"\n",
    "print(Task + \"\\n\" + \"-\"*len(Task))\n",
    "\n",
    "print( 20 if not 1 == 1 else 10)\n",
    "print( 30 if not 1 == 1 else 20 if 'a' < 'A' else 10)\n",
    "print( 40 if not 1 == 1 else 30 if 'a' < 'A' else 20 if '' else 10)\n",
    "print( 'No' if not 1 == 1 else ('No' if 'a' < 'A' else ('OMG' if 'oh!!' else 'No')))"
   ]
  },
  {
   "cell_type": "code",
   "execution_count": 6,
   "metadata": {},
   "outputs": [
    {
     "name": "stdout",
     "output_type": "stream",
     "text": [
      "\n",
      "Task13: WAF: bmi() that takes the weight in kg and height in cm of a person, calculates and returns the BMI:\n",
      "-------------------------------------------------------------------------------------------------------------\n",
      "Enter weight(Kg):78\n",
      "Enter weight(cm):150\n",
      "BMI = 34.666666666666664\n",
      "Obese Class I (Moderately obese).\n"
     ]
    }
   ],
   "source": [
    "'''\n",
    "Task13: WAF: bmi() that takes the weight in kg and height in cm of a person, calculates and returns the BMI.\n",
    "Write code that calls this function after taking height and weight as inputs and then prints underweight, normal, \n",
    "overweight or obese depending on the value of BMI. Refer this link for the ranges:\n",
    "https://en.wikipedia.org/wiki/Body_mass_index\n",
    "'''\n",
    "Task = \"\\nTask13: WAF: bmi() that takes the weight in kg and height in cm of a person, calculates and returns the BMI:\"\n",
    "print(Task + \"\\n\" + \"-\"*len(Task))\n",
    "\n",
    "def bmi(Weight, Height):\n",
    "    return Weight/pow((Height/100), 2)\n",
    "\n",
    "Weight = int(input(\"Enter weight(Kg):\"))\n",
    "Height = int(input(\"Enter weight(cm):\"))\n",
    "BMI = bmi(Weight, Height)\n",
    "print(\"BMI =\", BMI)\n",
    "\n",
    "if(BMI < 15):\n",
    "    print(\"Very severely underweight.\")\n",
    "elif(BMI >= 15 and BMI < 16):\n",
    "    print(\"Severely underweight.\")\n",
    "elif(BMI >= 16 and BMI < 18.5):\n",
    "    print(\"Underweight.\")\n",
    "elif(BMI >= 18.5 and BMI < 25):\n",
    "    print(\"Normal (healthy weight).\")\n",
    "elif(BMI >= 25 and BMI < 30):\n",
    "    print(\"Overweight.\")\n",
    "elif(BMI >= 30 and BMI < 35):\n",
    "    print(\"Obese Class I (Moderately obese).\")\n",
    "elif(BMI >= 35 and BMI < 40):\n",
    "    print(\"Obese Class II (Severely obese).\")\n",
    "elif(BMI >= 40):\n",
    "    print(\"Obese Class III (Very severely obese).\")\n"
   ]
  },
  {
   "cell_type": "code",
   "execution_count": 12,
   "metadata": {},
   "outputs": [
    {
     "name": "stdout",
     "output_type": "stream",
     "text": [
      "\n",
      "Task14: Take input of age of 3 people by user and determine oldest and youngest among them:\n",
      "--------------------------------------------------------------------------------------------\n",
      "Enter age of Person 1:33\n",
      "Enter age of Person 2:33\n",
      "Enter age of Person 3:54\n",
      "Oldest = 54 \tYoungest = 33\n"
     ]
    }
   ],
   "source": [
    "'''\n",
    "Task14: Take input of age of 3 people by user and determine oldest and youngest among them.\n",
    "'''\n",
    "Task = \"\\nTask14: Take input of age of 3 people by user and determine oldest and youngest among them:\"\n",
    "print(Task + \"\\n\" + \"-\"*len(Task))\n",
    "\n",
    "Person1 = int(input(\"Enter age of Person 1:\"))\n",
    "Person2 = int(input(\"Enter age of Person 2:\"))\n",
    "Person3 = int(input(\"Enter age of Person 3:\"))\n",
    "\n",
    "Oldest = Youngest = Person1\n",
    "if(Person2 > Oldest):\n",
    "    Oldest = Person2\n",
    "elif(Person2 < Youngest):\n",
    "    Youngest = Person2\n",
    "\n",
    "if(Person3 > Oldest):\n",
    "    Oldest = Person3\n",
    "elif(Person3 < Youngest):\n",
    "    Youngest = Person3\n",
    "\n",
    "print(\"Oldest =\", Oldest, \"\\tYoungest =\", Youngest)\n"
   ]
  },
  {
   "cell_type": "code",
   "execution_count": 15,
   "metadata": {},
   "outputs": [
    {
     "name": "stdout",
     "output_type": "stream",
     "text": [
      "\n",
      "Task15: WAP to input a number and check if number is divisible by both 5 and 7:\n",
      "--------------------------------------------------------------------------------\n",
      "Enter a number:35\n",
      "Number is divisible by both 5 and 7.\n"
     ]
    }
   ],
   "source": [
    "'''\n",
    "Task15: WAP to input a number and check if number is divisible by both 5 and 7.\n",
    "'''\n",
    "Task = \"\\nTask15: WAP to input a number and check if number is divisible by both 5 and 7:\"\n",
    "print(Task + \"\\n\" + \"-\"*len(Task))\n",
    "\n",
    "Number = int(input(\"Enter a number:\"))\n",
    "if(Number%5 == 0 and Number%7 == 0):\n",
    "    print(\"Number is divisible by both 5 and 7.\")\n",
    "else:\n",
    "    print(\"Number is not divisible by both 5 or 7 or both.\")\n"
   ]
  },
  {
   "cell_type": "code",
   "execution_count": null,
   "metadata": {},
   "outputs": [],
   "source": []
  }
 ],
 "metadata": {
  "kernelspec": {
   "display_name": "Python 3",
   "language": "python",
   "name": "python3"
  },
  "language_info": {
   "codemirror_mode": {
    "name": "ipython",
    "version": 3
   },
   "file_extension": ".py",
   "mimetype": "text/x-python",
   "name": "python",
   "nbconvert_exporter": "python",
   "pygments_lexer": "ipython3",
   "version": "3.8.3"
  }
 },
 "nbformat": 4,
 "nbformat_minor": 4
}
