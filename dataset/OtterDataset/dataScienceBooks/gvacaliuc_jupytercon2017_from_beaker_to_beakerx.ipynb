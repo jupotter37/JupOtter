{
 "cells": [
  {
   "cell_type": "markdown",
   "metadata": {},
   "source": [
    "## [Beaker to BeakerX](https://conferences.oreilly.com/jupyter/jup-ny/public/schedule/detail/60072)\n",
    "\n",
    "A talk by Matt Greenwood (Two Sigma) explaining the shift from Beaker Notebook to BeakerX (Beaker Jupyter Extensions). "
   ]
  },
  {
   "cell_type": "markdown",
   "metadata": {},
   "source": [
    "### Background of Matt\n",
    "\n",
    "* began with a brief description of Two Sigma: Quantitative Investment Management\n",
    "* has background in Physics and Math\n",
    "* found that there's a propensity for mistakes in math / science because it's so compartmentalized or individualized"
   ]
  },
  {
   "cell_type": "markdown",
   "metadata": {},
   "source": [
    "brings up a similar point as Wes McKinney did in his keynote, the fact that people that \"speak different languages\" often find it hard to collaborate.\n",
    "\n",
    "#### What we need for data analysis:\n",
    "* discoverable data\n",
    "* data analysis / modeling\n",
    "* scalable + distributed compute\n",
    "* publication + collaboration"
   ]
  },
  {
   "cell_type": "markdown",
   "metadata": {},
   "source": [
    "* 'language matters': a notebook isn't expressed in one form or language. Examples:\n",
    "    * text\n",
    "    * image\n",
    "    * computer languages\n",
    "* argues that a notebook requires a polyglot platform so that you can express yourself in the best ways\n",
    "* original beaker provides a seamless way to transfer data from different programming languages\n",
    "    * however, it is quite limited and it's not like you can just arbitrarily throw data around\n",
    "* the separation of beaker and jupyter rendered beaker unable to keep up since there was such a community around Jupyter\n",
    "* beaker couldn't keep up with all the features jupyter had been able to add on\n",
    "* beaker pivoted from a separate application, and take the best of beaker to jupyter through extensions"
   ]
  },
  {
   "cell_type": "markdown",
   "metadata": {},
   "source": [
    "#### What does BeakerX add to Jupyter?\n",
    "\n",
    "* Java Kernel\n",
    "* Data Discovery\n",
    "    * ??\n",
    "* A bit of publication / collaboration\n",
    "    * \"we want to create the open science and interactive publications of the future\""
   ]
  },
  {
   "cell_type": "markdown",
   "metadata": {},
   "source": [
    "#### Impressive Demo\n",
    "\n",
    "* showed getting data from the data discovery thing, had some pretty cool things that were 'Two Sigma-y', for example it provided a code snippet that could be used to download the dataset.  For the internal storage at TS they had similar things."
   ]
  }
 ],
 "metadata": {
  "kernelspec": {
   "display_name": "Python3.5 ML",
   "language": "python",
   "name": "pythonml"
  },
  "language_info": {
   "codemirror_mode": {
    "name": "ipython",
    "version": 3
   },
   "file_extension": ".py",
   "mimetype": "text/x-python",
   "name": "python",
   "nbconvert_exporter": "python",
   "pygments_lexer": "ipython3",
   "version": "3.5.2"
  }
 },
 "nbformat": 4,
 "nbformat_minor": 2
}
