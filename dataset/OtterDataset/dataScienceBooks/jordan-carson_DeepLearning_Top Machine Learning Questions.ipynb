{
 "cells": [
  {
   "cell_type": "markdown",
   "metadata": {},
   "source": [
    "## What is Regularization?\n",
    "\n",
    "In Machine Learning, models are trained on a subset of data aka training data. The goal is to compute the the target of each training example from the training data. \n",
    "\n",
    "Now, overfitting happens when model learns signal as well as noise in the training data and wouldn't perform well on new data which the model wasn't trained on/ hasn't seen. \n",
    "\n",
    "There are a few ways you can avoid overfitting your model on training data like cross-validation sampling, reducing the number of features, pruning, and regularization. \n",
    "\n",
    "**Regularization** basically adds a penalty as model complexity increases. \n",
    "\n",
    "1. L1 - Lasso, which stands for \"Least Absolute Shrinkage and Selection Operator\" - adds \"_absolute value of magnitude_\" of coefficient as penalty term to the loss function.\n",
    "\n",
    "\n",
    "\n",
    "$$ \\lambda \\sum_{j=1}^p \\left| \\ \\beta_j \\ \\right|$$\n",
    "\n",
    "2. L2 - Ridge Adds a \"squared magnitude\" of coefficient as penalty term to the loss function. \n",
    "\n",
    "$$ \\lambda \\sum_{j=1}^p \\beta_{j}^2 $$\n",
    "\n",
    "**Penalizes the use of parameters by adding a term proportional to the sum of magnitudes of each parameters to the cost function during optimization, whereas l2 (ridge) will add a term proportional to the sum of squares. **\n",
    "\n",
    "**What is the effect of using one over the other?**\n",
    "It will explain that L1 will drive unimportant parameters to exactly 0 during the optimization process, whereas L2 will drive unimportant parameters close to zero. \n",
    "\n",
    "A regression model that uses L1 Regularization technique is called **Lasso Regression** and a model that uses L2 is called **Ridge Regression**. \n",
    "\n",
    "The key difference is the penalty term. And the difference between these techniques is that lasso shrinks the less important features coefficients to zero thus, removing some feature altogether. So, this works well for **feature selection / engineering** in case we have a huge number of features. \n",
    "\n",
    "**Let's understand how penalizing the loss function helps simplify the model**\n",
    "\n",
    "The loss function is the sum of squared differences between the actual value and the predicted value. \n",
    "\n",
    "$$L(x, y) = \\sum_{i=1}^n (y_i - f(x_i))^2$$\n",
    "\n",
    "As the degree of the input features increases the model becomes complex and tries to fit all the data points as shown below. When we penalize certain weights and make them too small, it makes the terms negligible and helps simplify the model. \n",
    "\n",
    "**What if the input variables have an impact on the output?**\n",
    "To ensure we take into account the input variables, we penalize all the weights by making them small. This also makes the model simpler and less prone to overfitting. \n",
    "\n",
    "$$L(x, y) = \\sum_{i=1}^n (y_i - f(x_i))^2 + \\lambda $$\n",
    "\n",
    "## What's the trade-off between bias and variance. \n",
    "\n",
    "**Bias** is the difference between the average prediction of our model and the correct value we are trying to predict. Model with high bias pays very little attention to the training data and oversimplifies the model. It always leads to high error on training and test data. \n",
    "\n",
    "**Variance** is the variability of model prediction for a given data point or a value which tells us spread of our data. Model with high variance pays a lot of attention to training data and does not generalize on the data which it hasn't seen before. As a result, these models perform very well on the training data but have a high error rate on the test data. \n",
    "\n",
    "Predictive models have a tradeoff between bias (how well the model fits the data) and variance (how much the model changes based on changes in the inputs). Simpler models are stable (low variance) but they don't get close to the truth (high bias). More complex models are more prone to being overfit (high variance) but they are expressive enough to get closer to the truth (low bias). The best model usually lies somewhere in the middle. \n",
    "\n",
    "$$ Total Error = Bias^2 + Variance + Irreducible Error $$\n",
    "\n",
    "\n",
    "## Fourier Transformation\n",
    "\n",
    "A Fourier Transform is a generic method to decompose generic functions into a superposition of symmetric functions. For example, if you are given a smoothie, it's how we find the recipe. The Fourier transform finds the set of cycle speeds, amplitudes and phases to match any time signal. A Fourier transform converts a signal from time to frequency domain - its a very common way to extract features from audio signals or other time series such as sensor data. \n",
    "\n",
    "## Whats F1 Score, and how do you use it?\n",
    "\n",
    "The F1 score is a measure of a model's performance. It is a weighted average of the precision and recall of a model, with results tending to 1 being the best, and those tending to 0 being the worst. You would use it in classification tests where true negative's do not matter much.\n",
    "\n"
   ]
  },
  {
   "cell_type": "code",
   "execution_count": 9,
   "metadata": {},
   "outputs": [
    {
     "data": {
      "image/png": "[encoded data removed]",
      "text/plain": [
       "<matplotlib.figure.Figure at 0x11a131cc0>"
      ]
     },
     "metadata": {},
     "output_type": "display_data"
    }
   ],
   "source": [
    "# Example: 1\n",
    "import matplotlib.pyplot as plt\n",
    "import numpy as np\n",
    "\n",
    "bias = np.array([9, 7, 5, 4, 3, 2.5, 2, 1.5, 1.4, 1.1, 1.0])\n",
    "variance = np.array([1.0, 1.1, 1.4, 1.5, 2, 2.5, 3, 4, 5, 7, 9])\n",
    "totalerror = np.array([10, 8, 6, 5, 4, 3.8, 4, 5, 6, 8, 10])\n",
    "plt.plot(bias, label='Bias')\n",
    "plt.plot(variance, label='Variance')\n",
    "plt.plot(totalerror, label= 'Total Error')\n",
    "plt.axvline(x=5, label='Optimal Balance')\n",
    "plt.ylabel('Error')\n",
    "plt.xlabel('Algo Complexity')\n",
    "plt.legend(frameon=False)\n",
    "plt.title('Bias-Variance Tradeoff')\n",
    "plt.show()\n"
   ]
  },
  {
   "cell_type": "markdown",
   "metadata": {},
   "source": [
    "# [Data Science Interview Questions](https://www.youtube.com/watch?v=5JZsSNLXXuE)"
   ]
  },
  {
   "cell_type": "markdown",
   "metadata": {},
   "source": [
    "## You have two buckets, one of 3 liters and other of 5 liters. you are expected to measure exactly 4 liters how will you complete this task?\n",
    "\n",
    "#### Note: There is no third bucket.\n",
    "\n",
    "Fill in the 5ltr bucket and empty it in the 3ltr bucket. You are now left with 2 liter in th 5 liter bucket. \n",
    "\n",
    "Empty the 3 liter bucket and pour the contents of the 5 liter bucket in it, so the 3 liter bucket now has 2 liters. \n",
    "\n",
    "Fill the 5 liter bucket again and pour the water in the 3 liter bucket. Recall this already has 2 liters of water in it from step 2. \n",
    "You now have 4 liters in the 5 liter bucket. \n",
    "\n"
   ]
  },
  {
   "cell_type": "markdown",
   "metadata": {},
   "source": [
    "## Supvervised Learning vs Unsupervised Learning?\n",
    "\n",
    "Supervised learning uses known and labeled data as input, and also have a feedback mechanism. popular ones are logistic regression, SVM.\n",
    "\n",
    "Unsupervised learning uses unlabeled data as input, and has no feedback mechanism, popular ones are k-means clustering, hiearchical clustering, and apriori algorithm. "
   ]
  },
  {
   "cell_type": "markdown",
   "metadata": {},
   "source": [
    "## How is logistic regression done?\n",
    "\n",
    "Logistic regression measures the relationship between the dependent variables (our label, what we want to predict) and the one or more independent variables (our features), by estimating probabilities using its underlying logistic function (sigmoid). \n",
    "\n",
    "$$ p = \\frac{1}{1 + e ^{-y}} $$"
   ]
  },
  {
   "cell_type": "markdown",
   "metadata": {
    "collapsed": true
   },
   "source": [
    "## What are recommender systems?\n",
    "\n",
    "A recommender system predicts the 'rating' "
   ]
  },
  {
   "cell_type": "markdown",
   "metadata": {},
   "source": [
    "## How to find the RMSE and MSE in linear regression model?\n",
    "\n",
    "RMSE and MSE are the two of the most common measures of accuracy for a linear regression. \n",
    "\n",
    "**RMSE** indicates the Root Mean Square Error\n",
    "\n",
    "**MSE** indices the Mean Square Error\n",
    "\n",
    "$$ RMSE = \\sqrt \\frac{\\sum_{i=1}^n \\left( Predicted_{i} - Actual_{i} \\right)^2}{N} $$\n",
    "\n",
    "$$ MSE = \\frac{1}{N} \\sum_{i=n}^N \\left( Predicted_{i} - Actual_{i} \\right)^2 $$\n",
    "\n",
    "These are the two formulas for calculating the accuracy of a linear regression. "
   ]
  },
  {
   "cell_type": "markdown",
   "metadata": {},
   "source": [
    "## If it rains on saturday with a probability of 0.6, and it rains on sunday with a probability of 0.2, what is the probability that it rains this weekend?\n",
    "\n",
    "So what is the probability of it not raining. calculate the probability of it not raining on saturday with the probability of it not raining on sunday. \n",
    "\n",
    "$$ \\text{Total Probability} - (\\text{Probability that it will not rain on Saturday}) \\cap (\\text{Probability that it will not rain on Sunday}) $$\n",
    "\n",
    "\n",
    "$$ 1 - (1 - 0.6)(1 - 0.2) = 0.68 $$"
   ]
  },
  {
   "cell_type": "markdown",
   "metadata": {},
   "source": [
    "## How can you select k for k-means?\n",
    "\n",
    "K is the number of different groupings. We use something called the \"elbow\" method to select k for k-means.\n",
    "\n",
    "The ideas of the elbow method is to run k-means clustering on the dataset where 'k' is the number of clusters. \n",
    "\n",
    "Within sum of squares is defined as the sum of the squared distance between each member of the cluster and its centroid. \n",
    "\n",
    "if you plot the (WSS) over the number of clusters, there should be a point on the line where the slope eventually flattens out. This is called the 'elbow point'.\n",
    "\n",
    "Sum of Squared Residuals is the distance of points from the center of their clusters. Candidates with experience working with clusters will often mention the **silhouette** metric, because we want a way to track both cluster density and separation rule of thumb is to target silhouette scores >0.2.\n",
    "\n",
    "There is also a gap statistic, Intiution lies in comparing how the k-clustering performs on a given data set with how it performs on a \"random\" set of data points distributed evenly across a region of the feature space. "
   ]
  },
  {
   "cell_type": "markdown",
   "metadata": {},
   "source": [
    "## What is the significance of p-value?\n",
    "\n",
    "A p-value typically $\\leq$ 0.05 indicates strong evidence against the null hypothesis, so you reject the null hypothesis. \n",
    "\n",
    "A p-value typically $\\gt $ 0.05 indicates weak evidence against the null hypothesis, so you fail to reject the null hypothesis\n",
    "\n",
    "A p-value cutoff 0.05 considered to be marginal, and could go either way.\n",
    "\n",
    "If a null hypothesis is true it doesn't mean the hypothesis is true it means theres a high correlation that it's probably true."
   ]
  },
  {
   "cell_type": "markdown",
   "metadata": {},
   "source": [
    "## How can outlier values be treated?\n",
    "\n",
    "1. You can drop outliers only if its a garbage value\n",
    "\n",
    "Example: Height of an adult = abc ft. this cannot be true as height cannot be a string value, in this case we can remove this outlier.\n",
    "\n",
    "2. If the outliers have extreme values, they can be removed \n",
    "\n",
    "Example, if all the data points are clusered between 0 and 10 but one point lies at 100, then we can remove this point.\n",
    "\n",
    "If you cannot drop outliers, you can try the following:\n",
    "\n",
    "1. Try a different model, Data detected as outliers by a linear model can be fit by a non-linear model. So, be sure you are choosing the right model.\n",
    "\n",
    "2. Try normalizing the data. This way the extreme data points are pulled to a similar range.\n",
    "\n",
    "3. You can use algorithms which are less affected by outliers, example random forest. "
   ]
  },
  {
   "cell_type": "markdown",
   "metadata": {},
   "source": [
    "## How can you say that a time series data is stationary?\n",
    "\n",
    "We can say that a time-series is stationary when the variance and mean of the series is constant with time. "
   ]
  },
  {
   "cell_type": "markdown",
   "metadata": {},
   "source": [
    "## How can you calculate accuracy using confusion matrix?\n",
    "\n",
    "confusion matrixes are so useful when you're taking that first look at data. \n",
    "\n",
    "So you have your total data that we're looking at, and you have your predicted values and your actual values and your predicted P and your actual P. What this shows a matrix of the total predicted values versus the actual values, and shows the true positives, false positives, true negatives, and false negatives. \n",
    "\n",
    "This is so important because is someone is being diagnosed with say cancer, or is my nuclear reactor going to blow up, the false positives become so important. \n",
    "\n",
    "These are also technically referred to as type I error and type II error respectively. \n",
    "\n",
    "**So which error would you say is more serious?** A False positive (type I error) when you reject a true null hypothesis - or a false negative (type II error) when you accept a false null hypothesis?\n",
    "\n",
    "So the proper scientific approach is to form a null hypothesis in a way that makes you try to reject it, giving me the positive resut. So, let's say I want to see if this particular article is performing better than the average of the other articles I have posted. "
   ]
  },
  {
   "cell_type": "markdown",
   "metadata": {},
   "source": [
    "## Write the equation and calculate precision and recall rate.\n",
    "\n",
    "Continuing from this example, \n",
    "\n",
    "Precision = (True Positive) / (True Positive + False Negative) \n",
    "\n",
    "Recall Rate = (True Positive) / True Postitive + False Negative)"
   ]
  },
  {
   "cell_type": "markdown",
   "metadata": {},
   "source": [
    "## If a drawer contains 12 red socks, 16 blue socks and 20 white socks, how many must you pull out to be sure of a matching pair?\n",
    "\n",
    "So theres a lot of extra information in this question, the key is to count the number of colors. \n",
    "\n",
    "An example: \n",
    "If we pick out white first, then blue second, then red, there are no pairs yet. But the fourth pick will be 100% guaranted to be a pair since theres only 3 colors. so its the number of colors + 1.\n"
   ]
  },
  {
   "cell_type": "markdown",
   "metadata": {},
   "source": [
    "## Which machine learning algorithm can be used for imputing missing values of both categorical and continuous variables?\n",
    "\n",
    "The answer is K-Nearest neighbors, because it can compute the nearest and if it doesn't have the value it just computes a nearest neighboar based on all the other features. "
   ]
  },
  {
   "cell_type": "markdown",
   "metadata": {},
   "source": [
    "## Given a box of matches and two ropes, not necessarily identical, measure a period of 45 minutes\n",
    "\n",
    "#### Note: the ropes are not uniform in nature and the rope takes exactly 60 minutes to completely burn out.\n",
    "\n",
    "We have two ropes A and B. \n",
    "\n",
    "- Light A from both the ends and B from one end.\n",
    "\n",
    "- When A is finished burning we know that 30 minutes have elapsed and b has 30 minutes remaining. \n",
    "\n",
    "- Now, light the other end of B also so that remaining part of B will burn taking 15 minutes to burn. \n",
    "\n",
    "- Thus we have got 30 + 15 = 45 minutes"
   ]
  },
  {
   "cell_type": "markdown",
   "metadata": {},
   "source": [
    "## What is the entropy of the target variable?\n",
    "\n",
    "$$ \\left[ \\begin{array}\n",
    "     00, 0, 0, 1, 1, 1, 1, 1 \\\\\n",
    "   \\end{array}\\right]\n",
    "   $$\n",
    "   \n",
    "$$ Entropy = I(p, n) = \\frac{p}{p+n} \\times \\log_2 \\left( \\frac{p}{p+n} \\right) - \\frac{n}{p+n} \\times \\log_2 \\left( \\frac{n}{p+n} \\right)$$\n",
    "\n",
    "$$ = -\\frac{5}{8} \\ \\log \\left(\\frac{5}{8} \\right) + \\frac{3}{8} \\ \\log \\left( \\frac{3}{8} \\right)$$"
   ]
  },
  {
   "cell_type": "markdown",
   "metadata": {
    "collapsed": true
   },
   "source": [
    "\n",
    "## Todo\n",
    "```sql\n",
    "SELECT *\n",
    "FROM Customers\n",
    "```"
   ]
  },
  {
   "cell_type": "code",
   "execution_count": null,
   "metadata": {
    "collapsed": true
   },
   "outputs": [],
   "source": []
  }
 ],
 "metadata": {
  "kernelspec": {
   "display_name": "Python 3",
   "language": "python",
   "name": "python3"
  },
  "language_info": {
   "codemirror_mode": {
    "name": "ipython",
    "version": 3
   },
   "file_extension": ".py",
   "mimetype": "text/x-python",
   "name": "python",
   "nbconvert_exporter": "python",
   "pygments_lexer": "ipython3",
   "version": "3.6.8"
  }
 },
 "nbformat": 4,
 "nbformat_minor": 2
}
