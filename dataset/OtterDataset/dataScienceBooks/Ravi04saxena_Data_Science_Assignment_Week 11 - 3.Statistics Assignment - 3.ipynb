{
 "cells": [
  {
   "cell_type": "markdown",
   "id": "fc3ce19f",
   "metadata": {},
   "source": [
    "### Q1: What is Estimation Statistics? Explain point estimate and interval estimate.\n",
    "### Sol:-Estimation in Statistics:\n",
    "Estimation in statistics refers to the process of making inferences or predictions about a population parameter (such as the mean, proportion, or variance) based on sample data. Estimation is a crucial part of inferential statistics, where we use the sample to make conclusions about the population as a whole.\n",
    "\n",
    "There are two main types of estimation methods:\n",
    "\n",
    "1. Point Estimation\n",
    "2. Interval Estimation\n",
    "\n",
    "##### 1.Point Estimate:\n",
    "A point estimate is a single value or statistic that serves as the best guess or approximation of a population parameter. It is calculated from sample data and represents our best estimate of the true population parameter.\n",
    "\n",
    "* Example of Point Estimates:\n",
    "                 _\n",
    "  * The sample mean (X) is the point estimate for the population mean (μ).\n",
    "                           ^ \n",
    "  * The sample proportion (p) is the point estimate for the population proportion (p).\n",
    "\n",
    "* Advantages:\n",
    "  * Simple to compute.\n",
    "  * Provides a direct estimate of the population parameter.\n",
    "\n",
    "* Disadvantages:\n",
    "  * Provides no information about the variability or uncertainty in the estimate.\n",
    "  * A point estimate alone does not indicate how close or far the estimate might be from the true population parameter.\n",
    "\n",
    "* Example: Suppose we want to estimate the average height of all students in a school. We take a random sample of 50 students and find that the sample mean height is 160 cm. The point estimate of the population mean height is 160 cm.\n",
    "\n",
    "##### 2. Interval Estimate:\n",
    "An interval estimate provides a range of values within which the population parameter is likely to fall, accompanied by a certain level of confidence (confidence level). This interval is known as the confidence interval.\n",
    "\n",
    "The interval estimate is expressed as:\n",
    "      \n",
    "      Point estimate ± Margin of error\n",
    "\n",
    "Or more formally:\n",
    "     \n",
    "      [Lower bound,Upper bound]\n",
    "\n",
    "The confidence level (e.g., 90%, 95%, 99%) indicates the degree of certainty we have that the true population parameter lies within this interval. A 95% confidence interval, for instance, means that we are 95% confident that the true population parameter lies within the interval.\n",
    "\n",
    "* Example of Interval Estimates:\n",
    "  * A 95% confidence interval for the population mean could be [150,170], meaning we are 95% confident the true mean lies between 150 cm and 170 cm.\n",
    "\n",
    "* Advantages:\n",
    "  * Provides a range of plausible values, reflecting the uncertainty in the estimate.\n",
    "  * The confidence level gives a clear understanding of the likelihood that the interval contains the true parameter.\n",
    "\n",
    "* Disadvantages:\n",
    "  * More complex to compute than a point estimate.\n",
    "  * The width of the interval depends on the sample size and variability, so larger samples are often needed for narrower (more precise) intervals."
   ]
  },
  {
   "cell_type": "code",
   "execution_count": null,
   "id": "289150f9",
   "metadata": {},
   "outputs": [],
   "source": []
  },
  {
   "cell_type": "markdown",
   "id": "b1ff44ad",
   "metadata": {},
   "source": [
    "### Q2. Write a Python function to estimate the population mean using a sample mean and standard deviation.\n",
    "### Sol:- "
   ]
  },
  {
   "cell_type": "code",
   "execution_count": 1,
   "id": "5a9eec2c",
   "metadata": {},
   "outputs": [
    {
     "name": "stdout",
     "output_type": "stream",
     "text": [
      "95% Confidence Interval for the population mean: (46.42, 53.58)\n"
     ]
    }
   ],
   "source": [
    "import math\n",
    "from scipy import stats\n",
    "\n",
    "def estimate_population_mean(sample_mean, sample_std, sample_size, confidence_level=0.95):\n",
    "    \"\"\"\n",
    "    Estimate the population mean with a confidence interval.\n",
    "\n",
    "    Args:\n",
    "    sample_mean (float): The sample mean.\n",
    "    sample_std (float): The sample standard deviation.\n",
    "    sample_size (int): The size of the sample.\n",
    "    confidence_level (float): The confidence level (default is 0.95 for a 95% confidence interval).\n",
    "\n",
    "    Returns:\n",
    "    tuple: Lower and upper bounds of the confidence interval.\n",
    "    \"\"\"\n",
    "    \n",
    "    # Calculate the z-score (or t-score for small sample sizes)\n",
    "    alpha = 1 - confidence_level\n",
    "    z_score = stats.norm.ppf(1 - alpha/2)  # Z-score for the standard normal distribution\n",
    "    \n",
    "    # Standard error of the mean (SEM)\n",
    "    standard_error = sample_std/math.sqrt(sample_size)\n",
    "    \n",
    "    # Confidence interval calculation\n",
    "    margin_of_error = z_score * standard_error\n",
    "    lower_bound = sample_mean - margin_of_error\n",
    "    upper_bound = sample_mean + margin_of_error\n",
    "    \n",
    "    return lower_bound, upper_bound\n",
    "\n",
    "# Example usage:\n",
    "sample_mean = 50\n",
    "sample_std = 10\n",
    "sample_size = 30\n",
    "confidence_level = 0.95\n",
    "\n",
    "lower_bound, upper_bound = estimate_population_mean(sample_mean, sample_std, sample_size, confidence_level)\n",
    "print(f\"95% Confidence Interval for the population mean: ({lower_bound:.2f}, {upper_bound:.2f})\")\n"
   ]
  },
  {
   "cell_type": "code",
   "execution_count": null,
   "id": "f99bfc2f",
   "metadata": {},
   "outputs": [],
   "source": []
  },
  {
   "cell_type": "markdown",
   "id": "4b857ecd",
   "metadata": {},
   "source": [
    "### Q3: What is Hypothesis testing? Why is it used? State the importance of Hypothesis testing.\n",
    "### Sol:- \n",
    "#### Hypothesis testing is a statistical method used to make decisions or inferences about a population parameter based on sample data. It involves formulating an assumption (called a hypothesis) and then determining whether there is enough evidence in the sample data to reject or fail to reject that assumption.\n",
    "\n",
    "Hypothesis testing helps answer questions like:\n",
    "\n",
    "* Is the average height of men in a city different from 175 cm?\n",
    "* Does a new drug have a different effect than an existing drug?\n",
    "\n",
    "#### The Process of Hypothesis Testing:\n",
    "1. Formulate Hypotheses:\n",
    "   * Null Hypothesis (H(0)) : This is a statement of no effect or no difference. It assumes that any observed difference is due to random variation.\n",
    "     * Example: H(0) : \"The average height of men in the city is 175 cm.\"\n",
    "   * Alternative Hypothesis (H(1)  or H(a)) ): This is a statement that contradicts the null hypothesis. It proposes that there is a real effect or difference.\n",
    "     * Example: H(a) : \"The average height of men in the city is not 175 cm.\"\n",
    "\n",
    "\n",
    "2. Set Significance Level (α):\n",
    "   * The significance level is the probability of rejecting the null hypothesis when it is actually true. Common choices are 0.05 (5%) or 0.01 (1%). It represents the risk we are willing to take to reject H(0).\n",
    "\n",
    "\n",
    "3. Collect Data and Calculate a Test Statistic:\n",
    "   * Based on the sample data, calculate a test statistic (such as the z-score or t-score) that measures how far the sample data deviates from what we would expect under the null hypothesis.\n",
    "\n",
    "\n",
    "4. Determine the P-Value or Compare with Critical Value:\n",
    "   * P-value: The probability of observing the test statistic or something more extreme if H(0)  is true. A small p-value (typically less than α) suggests that the null hypothesis is unlikely and should be rejected.\n",
    "\n",
    "   * Critical Value: Compare the test statistic to a critical value (based on the significance level) to decide whether to reject H(0).\n",
    "\n",
    "5. Make a Decision:\n",
    "   * Reject H(0) : If the p-value is less than α, or if the test statistic falls in the critical region, we reject the null hypothesis in favor of the alternative.\n",
    "\n",
    "   * Fail to Reject H(0) : If the p-value is greater than α, or the test statistic does not exceed the critical value, we fail to reject the null hypothesis (but we do not \"accept\" it as true, we just lack enough evidence to reject it).\n",
    "\n",
    "##### Why is Hypothesis Testing Used?\n",
    "1. Decision-Making Tool:\n",
    "* Hypothesis testing provides a structured framework for making objective decisions based on data. It is widely used in fields such as science, medicine, business, and engineering to make informed decisions.\n",
    "\n",
    "2. Assessing Evidence:\n",
    "* It helps assess whether the observed data provides sufficient evidence to support a claim or assumption about a population parameter.\n",
    "\n",
    "3. Comparing Groups:\n",
    "* Hypothesis testing is useful for comparing groups (e.g., comparing the means of two different populations, testing the effectiveness of a new treatment, or comparing proportions in different groups).\n",
    "\n",
    "4. Quality Control:\n",
    "*  industrial applications, hypothesis testing is used to ensure the quality of processes or products by determining if the variation observed is due to random chance or an actual problem with the process.\n",
    "\n",
    "##### Importance of Hypothesis Testing:\n",
    "1. Provides a Framework for Research:\n",
    "* Hypothesis testing offers a formal approach to testing ideas and theories, guiding researchers in making conclusions based on data. It ensures that conclusions are not drawn from random chance or anecdotal evidence.\n",
    "\n",
    "2. Objective Decision-Making:\n",
    "* Hypothesis testing reduces subjectivity by relying on statistical evidence. Decisions are made based on data rather than intuition, leading to more reliable and valid conclusions.\n",
    "\n",
    "3. Error Minimization:\n",
    "* By setting a significance level (α), researchers control the probability of making a Type I error (incorrectly rejecting the null hypothesis). This helps manage the risk of making wrong decisions.\n",
    "\n",
    "4. Supports Evidence-Based Practices:\n",
    "* In fields like medicine, hypothesis testing ensures that treatments and interventions are adopted based on solid evidence. For example, clinical trials use hypothesis testing to determine whether a new drug is effective.\n",
    "\n",
    "5. Guides Experimentation and Research:\n",
    "* It helps in determining whether further investigation or experiments are necessary. If the null hypothesis is rejected, it may lead to new research directions or further testing.\n",
    "\n",
    "##### Example of Hypothesis Testing:\n",
    "Suppose we want to test if a new teaching method improves students' test scores compared to the traditional method. The hypotheses could be:\n",
    "* Null Hypothesis (H (0)): There is no difference in the average test scores between the two teaching methods.\n",
    "* Alternative Hypothesis (H(a ): The new teaching method leads to higher average test scores.\n",
    "\n",
    "After collecting test scores from both groups and conducting a statistical test, we find a p-value of 0.02. If our significance level is 0.05, we reject the null hypothesis and conclude that the new method likely improves test scores.\n",
    "\n",
    "##### Key Terms:\n",
    "* Type I Error (False Positive): Rejecting the null hypothesis when it is actually true.\n",
    "* Type II Error (False Negative): Failing to reject the null hypothesis when the alternative hypothesis is true.\n",
    "* P-value: The probability of observing the sample data (or something more extreme) under the assumption that the null hypothesis is true."
   ]
  },
  {
   "cell_type": "code",
   "execution_count": null,
   "id": "d9cd6481",
   "metadata": {},
   "outputs": [],
   "source": []
  },
  {
   "cell_type": "markdown",
   "id": "5f0b249c",
   "metadata": {},
   "source": [
    "### Q4. Create a hypothesis that states whether the average weight of male college students is greater than the average weight of female college students.\n",
    "### Sol:- Hypothesis:\n",
    "\n",
    "* Null Hypothesis (H₀): The average weight of male college students is equal to or less than the average weight of female college students.\n",
    "  * H(0) : μ(male) ≤ μ(female)\n",
    "\n",
    "* Alternative Hypothesis (H₁): The average weight of male college students is greater than the average weight of female college students.\n",
    "  * H (1) : μ(male) > μ(female)\n",
    "\n",
    "Where μ (male) represents the average weight of male college students, and μ(female) represents the average weight of female college students.\n",
    "\n",
    "This hypothesis can be tested using a one-tailed t-test comparing the means of two independent groups (male and female college students)."
   ]
  },
  {
   "cell_type": "code",
   "execution_count": null,
   "id": "529e79d8",
   "metadata": {},
   "outputs": [],
   "source": []
  },
  {
   "cell_type": "markdown",
   "id": "20e20c91",
   "metadata": {},
   "source": [
    "### Q5. Write a Python script to conduct a hypothesis test on the difference between two population means, given a sample from each population.\n",
    "### Sol:- "
   ]
  },
  {
   "cell_type": "code",
   "execution_count": 4,
   "id": "bf3498ad",
   "metadata": {},
   "outputs": [
    {
     "name": "stdout",
     "output_type": "stream",
     "text": [
      "Mean weight (male): 86.20\n",
      "Mean weight (female): 70.40\n",
      "T-statistic: 7.8565\n",
      "P-value: 0.0000\n",
      "Reject the null hypothesis: There is significant evidence that the average weight of male college students is greater than that of female college students.\n"
     ]
    }
   ],
   "source": [
    "import numpy as np\n",
    "import scipy.stats as stats\n",
    "\n",
    "# Sample weights for male and female college students\n",
    "male_weights = np.array([78, 85, 90, 82, 88, 95, 83, 89, 92, 80])\n",
    "female_weights = np.array([65, 68, 70, 72, 75, 69, 73, 74, 71, 67])\n",
    "\n",
    "# Calculate the means of both samples\n",
    "mean_male = np.mean(male_weights)\n",
    "mean_female = np.mean(female_weights)\n",
    "\n",
    "# Calculate the standard deviation of both samples\n",
    "std_male = np.std(male_weights, ddof=1)  # ddof=1 for sample standard deviation\n",
    "std_female = np.std(female_weights, ddof=1)\n",
    "\n",
    "# Number of observations in both samples\n",
    "n_male = len(male_weights)\n",
    "n_female = len(female_weights)\n",
    "\n",
    "# Perform a two-sample t-test (equal_var=False assumes unequal variances)\n",
    "t_stat, p_value = stats.ttest_ind(male_weights, female_weights, equal_var=False, alternative='greater')\n",
    "\n",
    "# Output results\n",
    "print(f\"Mean weight (male): {mean_male:.2f}\")\n",
    "print(f\"Mean weight (female): {mean_female:.2f}\")\n",
    "print(f\"T-statistic: {t_stat:.4f}\")\n",
    "print(f\"P-value: {p_value:.4f}\")\n",
    "\n",
    "# Significance level (alpha)\n",
    "alpha = 0.05\n",
    "\n",
    "if p_value < alpha:\n",
    "    print(\"Reject the null hypothesis: There is significant evidence that the average weight of male college students is greater than that of female college students.\")\n",
    "else:\n",
    "    print(\"Fail to reject the null hypothesis : There is no significant evidence that the average weight of male college students is greater than that of female college students.\")\n"
   ]
  },
  {
   "cell_type": "code",
   "execution_count": null,
   "id": "597467b9",
   "metadata": {},
   "outputs": [],
   "source": []
  },
  {
   "cell_type": "markdown",
   "id": "f45f2dde",
   "metadata": {},
   "source": [
    "### Q6: What is a null and alternative hypothesis? Give some examples.\n",
    "### Sol:- The null hypothesis (H₀) and the alternative hypothesis (H₁ or Ha) are two competing statements used in hypothesis testing to draw conclusions from data:\n",
    "##### 1. Null Hypothesis (H₀):\n",
    "The null hypothesis is a statement that assumes no effect, no difference, or no relationship between variables in the population. It represents the status quo or baseline, suggesting that any observed difference is due to random chance or natural variation.\n",
    "\n",
    "##### 2. Alternative Hypothesis (H₁ or Ha):\n",
    "The alternative hypothesis is a statement that contradicts the null hypothesis. It suggests that there is a statistically significant effect, difference, or relationship between variables. This is what researchers aim to support through evidence.\n",
    "\n",
    "##### Key Points:\n",
    "* In hypothesis testing, you start by assuming the null hypothesis is true.\n",
    "* You then use sample data to test whether there is enough evidence to reject the null hypothesis in favor of the alternative hypothesis.\n",
    "* If the evidence is strong enough (i.e., the p-value is below a pre-set significance level, usually 0.05), you reject the null hypothesis.\n",
    "\n",
    "##### Example:-\n",
    "* Weight of Male and Female College Students\n",
    "  * Null Hypothesis (H₀): The average weight of male college students is less than or equal to the average weight of female college students.\n",
    "    * H₀ : μ(male) ≤ μ(female)\n",
    " \n",
    "  * Alternative Hypothesis (H₁): The average weight of male college students is greater than the average weight of female college students.\n",
    "    * H₁ : μ(male) > μ(female)"
   ]
  },
  {
   "cell_type": "code",
   "execution_count": null,
   "id": "d2c9b8a1",
   "metadata": {},
   "outputs": [],
   "source": []
  },
  {
   "cell_type": "markdown",
   "id": "6dbb7f17",
   "metadata": {},
   "source": [
    "### Q7: Write down the steps involved in hypothesis testing.\n",
    "### Sol:- Steps in Hypothesis Testing:\n",
    "* State the null and alternative hypotheses.\n",
    "* Set the significance level (α).\n",
    "* Choose the appropriate test statistic.\n",
    "* Collect data and compute the test statistic.\n",
    "* Determine the P-value or critical value.\n",
    "* Make a decision to reject or fail to reject H₀.\n",
    "* Interpret the results in the context of the research.\n",
    "\n",
    "This systematic process helps in making data-driven decisions and understanding whether the observed effect is statistically significant or due to random chance."
   ]
  },
  {
   "cell_type": "code",
   "execution_count": null,
   "id": "1db5ae05",
   "metadata": {},
   "outputs": [],
   "source": []
  },
  {
   "cell_type": "markdown",
   "id": "754ed1a5",
   "metadata": {},
   "source": [
    "### Q8. Define p-value and explain its significance in hypothesis testing.\n",
    "### Sol:- \n",
    "#### P-value: Definition\n",
    "##### The p-value (probability value) in statistics measures the probability of obtaining test results at least as extreme as the observed results, under the assumption that the null hypothesis is true. It quantifies the evidence against the null hypothesis (the default assumption that there is no effect or difference).\n",
    "\n",
    "#### Significance in Hypothesis Testing\n",
    "In hypothesis testing, the p-value helps to determine whether the observed data deviate significantly from the expectation under the null hypothesis. Here's how it works:\n",
    "\n",
    "1. Null Hypothesis (H₀): The assumption that there is no significant effect or difference in the population. For example, no difference between two treatment groups.\n",
    "\n",
    "2. Alternative Hypothesis (H₁): The assumption that there is a significant effect or difference. This is what you aim to provide evidence for.\n",
    "\n",
    "3. P-value Interpretation:\n",
    "   * Low p-value (≤ significance level, typically 0.05): Strong evidence against the null hypothesis. In this case, you reject  the null hypothesis and conclude that the observed effect is statistically significant.\n",
    "   * High p-value (> significance level): Weak evidence against the null hypothesis. In this case, you fail to reject the null hypothesis, meaning that the observed effect could plausibly be due to random chance.\n",
    "\n",
    "#### Significance Level (α)\n",
    "\n",
    "The significance level (α), typically set at 0.05, is the threshold at which you decide whether to reject the null hypothesis. If the p-value is smaller than or equal to α, the result is considered statistically significant.\n",
    "\n",
    "#### Example\n",
    "\n",
    "Imagine you are testing whether a new drug is more effective than a placebo. The null hypothesis (H₀) is that there is no difference in effectiveness between the drug and the placebo. After conducting the test, you calculate a p-value of 0.02. Since this p-value is below the commonly used significance level of 0.05, you would reject the null hypothesis and conclude that the drug likely has a statistically significant effect.\n",
    "\n",
    "#### Cautions on Interpretation\n",
    "* P-value is not the probability that H₀ is true: It only tells you how consistent the data are with H₀, not the probability that the hypothesis is true.\n",
    "* Statistical significance is not practical significance: A low p-value does not necessarily mean the effect is practically important, especially in large samples where small differences can become statistically significant."
   ]
  },
  {
   "cell_type": "code",
   "execution_count": null,
   "id": "5acde46f",
   "metadata": {},
   "outputs": [],
   "source": []
  },
  {
   "cell_type": "markdown",
   "id": "39938317",
   "metadata": {},
   "source": [
    "### Q9. Generate a Student's t-distribution plot using Python's matplotlib library, with the degrees of freedom parameter set to 10.\n",
    "### Sol:- "
   ]
  },
  {
   "cell_type": "code",
   "execution_count": 1,
   "id": "f73d5e8c",
   "metadata": {},
   "outputs": [
    {
     "data": {
      "image/png": "[encoded data removed]",
      "text/plain": [
       "<Figure size 800x500 with 1 Axes>"
      ]
     },
     "metadata": {},
     "output_type": "display_data"
    }
   ],
   "source": [
    "import numpy as np\n",
    "import matplotlib.pyplot as plt\n",
    "from scipy.stats import t\n",
    "\n",
    "# Parameters\n",
    "df = 10  # Degrees of freedom\n",
    "x = np.linspace(-5, 5, 1000)  # x values for the plot\n",
    "\n",
    "# Compute the t-distribution PDF\n",
    "t_dist = t.pdf(x, df)\n",
    "\n",
    "# Create the plot\n",
    "plt.figure(figsize=(8, 5))\n",
    "plt.plot(x, t_dist, label=f\"t-distribution (df={df})\", color='blue')\n",
    "plt.title(f\"Student's t-Distribution with {df} Degrees of Freedom\")\n",
    "plt.xlabel('x')\n",
    "plt.ylabel('Probability Density')\n",
    "plt.grid(True)\n",
    "plt.legend()\n",
    "plt.show()\n"
   ]
  },
  {
   "cell_type": "code",
   "execution_count": null,
   "id": "924afcd2",
   "metadata": {},
   "outputs": [],
   "source": []
  },
  {
   "cell_type": "markdown",
   "id": "1285fea6",
   "metadata": {},
   "source": [
    "### Q10. Write a Python program to calculate the two-sample t-test for independent samples, given two random samples of equal size and a null hypothesis that the population means are equal.\n",
    "### Sol:- "
   ]
  },
  {
   "cell_type": "code",
   "execution_count": 2,
   "id": "549d7ac0",
   "metadata": {},
   "outputs": [
    {
     "name": "stdout",
     "output_type": "stream",
     "text": [
      "Sample 1 mean: 48.12\n",
      "Sample 2 mean: 53.79\n",
      "t-statistic: -2.3981\n",
      "p-value: 0.0197\n",
      "Reject the null hypothesis (the means are significantly different).\n"
     ]
    }
   ],
   "source": [
    "import numpy as np\n",
    "from scipy import stats\n",
    "\n",
    "# Generate two random samples of equal size\n",
    "np.random.seed(42)  # For reproducibility\n",
    "sample1 = np.random.normal(loc=50, scale=10, size=30)  # Sample 1: Mean=50, SD=10\n",
    "sample2 = np.random.normal(loc=55, scale=10, size=30)  # Sample 2: Mean=55, SD=10\n",
    "\n",
    "# Perform a two-sample t-test for independent samples\n",
    "t_statistic, p_value = stats.ttest_ind(sample1, sample2)\n",
    "\n",
    "# Output the results\n",
    "print(f\"Sample 1 mean: {np.mean(sample1):.2f}\")\n",
    "print(f\"Sample 2 mean: {np.mean(sample2):.2f}\")\n",
    "print(f\"t-statistic: {t_statistic:.4f}\")\n",
    "print(f\"p-value: {p_value:.4f}\")\n",
    "\n",
    "# Interpret the result\n",
    "alpha = 0.05  # Significance level\n",
    "if p_value < alpha:\n",
    "    print(\"Reject the null hypothesis (the means are significantly different).\")\n",
    "else:\n",
    "    print(\"Fail to reject the null hypothesis (the means are not significantly different).\")\n"
   ]
  },
  {
   "cell_type": "code",
   "execution_count": null,
   "id": "6d4a52ad",
   "metadata": {},
   "outputs": [],
   "source": []
  },
  {
   "cell_type": "markdown",
   "id": "b86a2914",
   "metadata": {},
   "source": [
    "### Q11: What is Student’s t distribution? When to use the t-Distribution.\n",
    "### Sol:- Definition :- \n",
    "##### Student's t-distribution is a type of probability distribution that is symmetric and bell-shaped, like the normal distribution, but has heavier tails. It is used when estimating population parameters (such as the mean) for small sample sizes and when the population standard deviation is unknown. The t-distribution was developed by William Sealy Gosset under the pseudonym \"Student.\"\n",
    "\n",
    "##### The t-distribution is determined by a parameter called degrees of freedom (df), which depends on the sample size. As the degrees of freedom increase (larger sample size), the t-distribution approaches the normal distribution.\n",
    "\n",
    "#### Key Characteristics of the t-Distribution:\n",
    "* Symmetry: Like the normal distribution, it is symmetric around the mean.\n",
    "* Heavier Tails: Compared to the normal distribution, the t-distribution has fatter tails, meaning there is more probability in the extremes (far from the mean). This reflects greater uncertainty for small sample sizes.\n",
    "* Degrees of Freedom (df): The shape of the t-distribution is influenced by the degrees of freedom. As the df increases (usually with larger samples), the t-distribution becomes closer to the standard normal distribution.\n",
    "\n",
    "#### When to Use the t-Distribution:\n",
    "The t-distribution is mainly used in the following situations:\n",
    "\n",
    "1. Small Sample Sizes (n < 30): When you have a small sample size and need to estimate the mean of a population, the t-distribution is preferred over the normal distribution because small samples have more variability. This extra variability is reflected in the heavier tails of the t-distribution.\n",
    "\n",
    "2. Unknown Population Standard Deviation (σ): If the population standard deviation is unknown and has to be estimated from the sample data, the t-distribution should be used. This is common in real-world scenarios since the true population standard deviation is rarely known.\n",
    "\n",
    "3. Hypothesis Testing:\n",
    "   * One-sample t-test: To test if the mean of a sample is different from a known value when the population standard deviation is unknown.\n",
    "   * Two-sample t-test: To test whether the means of two independent samples are significantly different when the population standard deviations are unknown.\n",
    "   * Paired t-test: For comparing means of two related or paired samples.\n",
    "\n",
    "4. Confidence Intervals for Small Samples: The t-distribution is also used to calculate confidence intervals for a population mean when the sample size is small and the population standard deviation is unknown.\n",
    "\n",
    "#### Summary:\n",
    "* Use the t-distribution when sample sizes are small and/or when the population standard deviation is unknown.\n",
    "* As the sample size increases, the t-distribution converges to the normal distribution."
   ]
  },
  {
   "cell_type": "code",
   "execution_count": null,
   "id": "33cebd5f",
   "metadata": {},
   "outputs": [],
   "source": []
  },
  {
   "cell_type": "markdown",
   "id": "0f8587ed",
   "metadata": {},
   "source": [
    "### Q12: What is t-statistic? State the formula for t-statistic.\n",
    "### Sol:- \n",
    "#### The t-statistic (or t-value) is a ratio that compares the difference between the sample mean and the population mean (or another sample mean) relative to the variability in the data (measured by the standard error). It is used in hypothesis testing to determine if the observed difference is statistically significant.\n",
    "\n",
    "#### The t-statistic is commonly used in t-tests, which are designed for situations where the population standard deviation is unknown, and the sample size is small. The larger the absolute value of the t-statistic, the greater the evidence against the null hypothesis.\n",
    "\n",
    "Formula for the t-Statistic\n",
    "There are different forms of the t-statistic depending on the type of t-test being performed. Below are formulas for common scenarios.\n",
    "\n",
    "##### 1. One-Sample t-Test\n",
    "                                                   \n",
    "This test is used to determine if the sample mean x(bar) is significantly different from a known population mean (μ).\n",
    "                 \n",
    "Formula:     t= (x(bar)−μ)/(s/sqrt(n))\n",
    " \n",
    "Where:\n",
    "\n",
    "* x(bar) = sample mean\n",
    "* μ = population mean (or hypothesized value of the population mean)\n",
    "* s = sample standard deviation\n",
    "* n = sample size\n",
    "* 𝑠/sqrt(n) = standard error of the mean\n",
    "\n",
    "##### 2. Two-Sample t-Test (Independent Samples)\n",
    "This test compares the means of two independent samples to see if they are significantly different from each other.\n",
    "                   \n",
    "Formula: 𝑡 =  (x(bar)(1)-x(bar)(2))/sqrt((s(1)^2/n(1))+(s(2)^2/n(2))\n",
    " \n",
    "Where:\n",
    "\n",
    "* (x(bar)(1)-x(bar)(2)= means of the two samples\n",
    "* s(1)^2, s(2)^2 = variances of the two samples\n",
    "* n(1), n(2) = sample sizes of the two groups\n",
    "* sqrt((s(1)^2/n(1))+(s(2)^2/n(2)) = standard error of the difference between the two means\n",
    "\n",
    "##### 3. Paired t-Test\n",
    "A paired t-test is used when there are two related samples, or repeated measurements on the same subjects (e.g., before and after treatment).\n",
    "\n",
    "Formula:  𝑡 = d(bar)/(s(d)/sqrt(n))\n",
    "\n",
    "Where:\n",
    "\n",
    "* d(bar) = mean of the differences between paired observations\n",
    "* s(d)= standard deviation of the differences\n",
    "* n = number of pairs\n",
    "* (s(d)/sqrt(n)) = standard error of the mean of the differences\n",
    "\n",
    "#### Interpreting the t-Statistic:\n",
    "* A large absolute t-value indicates that the sample mean is far from the population mean, suggesting strong evidence against the null hypothesis.\n",
    "* A small absolute t-value indicates that the sample mean is close to the population mean, suggesting weak evidence against the null hypothesis.\n",
    "\n",
    "The t-statistic is compared to a critical value from the t-distribution based on the degrees of freedom and the chosen significance level (\n",
    "𝛼\n",
    "α). If the absolute t-statistic is greater than the critical value, you reject the null hypothesis. Otherwise, you fail to reject it."
   ]
  },
  {
   "cell_type": "code",
   "execution_count": null,
   "id": "aa8ba2f6",
   "metadata": {},
   "outputs": [],
   "source": []
  },
  {
   "cell_type": "markdown",
   "id": "ba17d2a0",
   "metadata": {},
   "source": [
    "### Q13. A coffee shop owner wants to estimate the average daily revenue for their shop. They take a random sample of 50 days and find the sample mean revenue to be 500 dollar with a standard deviation of 50 dollar. Estimate the population mean revenue with a 95% confidence interval.\n",
    "### Sol:- "
   ]
  },
  {
   "cell_type": "code",
   "execution_count": 3,
   "id": "ca48d2dd",
   "metadata": {},
   "outputs": [
    {
     "name": "stdout",
     "output_type": "stream",
     "text": [
      "95% confidence interval for the population mean revenue: ($485.79, $514.21)\n"
     ]
    }
   ],
   "source": [
    "import numpy as np\n",
    "from scipy import stats\n",
    "\n",
    "# Given data\n",
    "sample_mean = 500  # Sample mean revenue\n",
    "sample_std = 50    # Sample standard deviation\n",
    "n = 50             # Sample size\n",
    "confidence_level = 0.95  # 95% confidence level\n",
    "\n",
    "# Standard error of the mean\n",
    "std_error = sample_std / np.sqrt(n)\n",
    "\n",
    "# t-critical value for 95% confidence level and n-1 degrees of freedom\n",
    "t_critical = stats.t.ppf((1 + confidence_level)/2, df=n-1)\n",
    "\n",
    "# Margin of error\n",
    "margin_of_error = t_critical * std_error\n",
    "\n",
    "# Confidence interval\n",
    "lower_bound = sample_mean - margin_of_error\n",
    "upper_bound = sample_mean + margin_of_error\n",
    "\n",
    "print(f\"95% confidence interval for the population mean revenue: (${lower_bound:.2f}, ${upper_bound:.2f})\")\n"
   ]
  },
  {
   "cell_type": "code",
   "execution_count": null,
   "id": "5dd40839",
   "metadata": {},
   "outputs": [],
   "source": []
  },
  {
   "cell_type": "markdown",
   "id": "3e32d084",
   "metadata": {},
   "source": [
    "### Q14. A researcher hypothesizes that a new drug will decrease blood pressure by 10 mmHg. They conduct a clinical trial with 100 patients and find that the sample mean decrease in blood pressure is 8 mmHg with a standard deviation of 3 mmHg. Test the hypothesis with a significance level of 0.05.\n",
    "### Sol:- \n",
    "To test the researcher's hypothesis that the new drug will decrease blood pressure by 10 mmHg (the hypothesized mean), we can perform a one-sample t-test. The null hypothesis (H(0 ) is that the true mean decrease in blood pressure is 10 mmHg. The alternative hypothesis (H(1) is that the mean decrease is different from 10 mmHg."
   ]
  },
  {
   "cell_type": "code",
   "execution_count": 4,
   "id": "485f27f6",
   "metadata": {},
   "outputs": [
    {
     "name": "stdout",
     "output_type": "stream",
     "text": [
      "t-statistic: -6.6667\n",
      "t-critical (two-tailed): ±1.9842\n",
      "p-value: 0.0000\n",
      "Reject the null hypothesis: The mean decrease in blood pressure is significantly different from 10 mmHg.\n"
     ]
    }
   ],
   "source": [
    "import numpy as np\n",
    "from scipy import stats\n",
    "\n",
    "# Given data\n",
    "sample_mean = 8        # Sample mean decrease in blood pressure\n",
    "hypothesized_mean = 10  # Hypothesized mean decrease in blood pressure\n",
    "sample_std = 3         # Sample standard deviation\n",
    "n = 100                # Sample size\n",
    "alpha = 0.05           # Significance level\n",
    "\n",
    "# Calculate the standard error\n",
    "std_error = sample_std / np.sqrt(n)\n",
    "\n",
    "# Calculate the t-statistic\n",
    "t_statistic = (sample_mean - hypothesized_mean) / std_error\n",
    "\n",
    "# Calculate the critical t-value for a two-tailed test\n",
    "t_critical = stats.t.ppf(1 - alpha/2, df=n-1)\n",
    "\n",
    "# Calculate the p-value for the t-statistic\n",
    "p_value = 2 * (1 - stats.t.cdf(np.abs(t_statistic), df=n-1))\n",
    "\n",
    "# Output the results\n",
    "print(f\"t-statistic: {t_statistic:.4f}\")\n",
    "print(f\"t-critical (two-tailed): ±{t_critical:.4f}\")\n",
    "print(f\"p-value: {p_value:.4f}\")\n",
    "\n",
    "# Decision based on p-value\n",
    "if p_value < alpha:\n",
    "    print(\"Reject the null hypothesis: The mean decrease in blood pressure is significantly different from 10 mmHg.\")\n",
    "else:\n",
    "    print(\"Fail to reject the null hypothesis: The mean decrease in blood pressure is not significantly different from 10 mmHg.\")\n"
   ]
  },
  {
   "cell_type": "code",
   "execution_count": null,
   "id": "c9bbe5b8",
   "metadata": {},
   "outputs": [],
   "source": []
  },
  {
   "cell_type": "markdown",
   "id": "67da9c27",
   "metadata": {},
   "source": [
    "### Q15. An electronics company produces a certain type of product with a mean weight of 5 pounds and a standard deviation of 0.5 pounds. A random sample of 25 products is taken, and the sample mean weight is found to be 4.8 pounds. Test the hypothesis that the true mean weight of the products is less than 5 pounds with a significance level of 0.01.\n",
    "### Sol:- \n",
    "##### In this case, we are conducting a one-sample t-test to test the hypothesis that the true mean weight of the products is less than 5 pounds. This is a one-tailed test because the alternative hypothesis specifies a direction (less than).\n",
    "\n",
    "The hypotheses are:\n",
    "* Null Hypothesis (H(0 ) : The true mean weight is 5 pounds. (μ=5)\n",
    "* Alternative Hypothesis (H(1) : The true mean weight is less than 5 pounds. (μ<5)\n",
    "\n",
    "We will calculate the t-statistic and compare it to the critical value for a one-tailed test at a significance level of 0.01."
   ]
  },
  {
   "cell_type": "code",
   "execution_count": 5,
   "id": "4f6f5f7b",
   "metadata": {},
   "outputs": [
    {
     "name": "stdout",
     "output_type": "stream",
     "text": [
      "t-statistic: -2.0000\n",
      "t-critical (one-tailed, left-tailed): -2.4922\n",
      "p-value: 0.0285\n",
      "Fail to reject the null hypothesis: There is not enough evidence to suggest the true mean weight is less than 5 pounds.\n"
     ]
    }
   ],
   "source": [
    "import numpy as np\n",
    "from scipy import stats\n",
    "\n",
    "# Given data\n",
    "sample_mean = 4.8          # Sample mean weight\n",
    "hypothesized_mean = 5       # Hypothesized mean weight (null hypothesis)\n",
    "population_std = 0.5        # Population standard deviation\n",
    "n = 25                     # Sample size\n",
    "alpha = 0.01               # Significance level (0.01)\n",
    "\n",
    "# Calculate the standard error\n",
    "std_error = population_std / np.sqrt(n)\n",
    "\n",
    "# Calculate the t-statistic\n",
    "t_statistic = (sample_mean - hypothesized_mean) / std_error\n",
    "\n",
    "# Calculate the critical t-value for a one-tailed test (left-tailed)\n",
    "t_critical = stats.t.ppf(alpha, df=n-1)\n",
    "\n",
    "# Calculate the p-value for the t-statistic\n",
    "p_value = stats.t.cdf(t_statistic, df=n-1)\n",
    "\n",
    "# Output the results\n",
    "print(f\"t-statistic: {t_statistic:.4f}\")\n",
    "print(f\"t-critical (one-tailed, left-tailed): {t_critical:.4f}\")\n",
    "print(f\"p-value: {p_value:.4f}\")\n",
    "\n",
    "# Decision based on p-value\n",
    "if p_value < alpha:\n",
    "    print(\"Reject the null hypothesis: The true mean weight is less than 5 pounds.\")\n",
    "else:\n",
    "    print(\"Fail to reject the null hypothesis: There is not enough evidence to suggest the true mean weight is less than 5 pounds.\")\n"
   ]
  },
  {
   "cell_type": "code",
   "execution_count": null,
   "id": "bffc4a78",
   "metadata": {},
   "outputs": [],
   "source": []
  },
  {
   "cell_type": "markdown",
   "id": "e9983d1e",
   "metadata": {},
   "source": [
    "### Q16. Two groups of students are given different study materials to prepare for a test. The first group (n1 = 30) has a mean score of 80 with a standard deviation of 10, and the second group (n2 = 40) has a mean score of 75 with a standard deviation of 8. Test the hypothesis that the population means for the two groups are equal with a significance level of 0.01.\n",
    "### Sol:- \n",
    "To test the hypothesis that the population means for the two groups are equal, we can perform a two-sample t-test. The null hypothesis (H (0) states that the means of the two groups are equal, while the alternative hypothesis (H(1) states that they are not equal.\n",
    "\n",
    "##### Hypotheses:\n",
    "* Null Hypothesis (H(0): The means of the two groups are equal. (μ(1) = μ(2))\n",
    "* Alternative Hypothesis (H(1): The means of the two groups are not equal. (μ(1) ≠ μ (2))"
   ]
  },
  {
   "cell_type": "code",
   "execution_count": 6,
   "id": "6b77456e",
   "metadata": {},
   "outputs": [
    {
     "name": "stdout",
     "output_type": "stream",
     "text": [
      "t-statistic: 2.2511\n",
      "t-critical (two-tailed): ±2.6696\n",
      "p-value: 0.0285\n",
      "Fail to reject the null hypothesis: There is not enough evidence to suggest a significant difference between the means of the two groups.\n"
     ]
    }
   ],
   "source": [
    "import numpy as np\n",
    "from scipy import stats\n",
    "\n",
    "# Given data\n",
    "n1 = 30                # Sample size for group 1\n",
    "mean1 = 80             # Mean score for group 1\n",
    "std1 = 10              # Standard deviation for group 1\n",
    "\n",
    "n2 = 40                # Sample size for group 2\n",
    "mean2 = 75             # Mean score for group 2\n",
    "std2 = 8               # Standard deviation for group 2\n",
    "\n",
    "alpha = 0.01           # Significance level\n",
    "\n",
    "# Calculate the t-statistic\n",
    "t_statistic = (mean1 - mean2) / np.sqrt((std1**2 / n1) + (std2**2 / n2))\n",
    "\n",
    "# Calculate the degrees of freedom using Welch's approximation\n",
    "df = ((std1**2 / n1 + std2**2 / n2) ** 2) / \\\n",
    "     ((std1**2 / n1) ** 2 / (n1 - 1) + (std2**2 / n2) ** 2 / (n2 - 1))\n",
    "\n",
    "# Calculate the critical t-value for a two-tailed test\n",
    "t_critical = stats.t.ppf(1 - alpha / 2, df)\n",
    "\n",
    "# Calculate the p-value for the t-statistic\n",
    "p_value = 2 * (1 - stats.t.cdf(np.abs(t_statistic), df))\n",
    "\n",
    "# Output the results\n",
    "print(f\"t-statistic: {t_statistic:.4f}\")\n",
    "print(f\"t-critical (two-tailed): ±{t_critical:.4f}\")\n",
    "print(f\"p-value: {p_value:.4f}\")\n",
    "\n",
    "# Decision based on p-value\n",
    "if p_value < alpha:\n",
    "    print(\"Reject the null hypothesis: There is a significant difference between the means of the two groups.\")\n",
    "else:\n",
    "    print(\"Fail to reject the null hypothesis: There is not enough evidence to suggest a significant difference between the means of the two groups.\")\n"
   ]
  },
  {
   "cell_type": "code",
   "execution_count": null,
   "id": "b0a1427b",
   "metadata": {},
   "outputs": [],
   "source": []
  },
  {
   "cell_type": "markdown",
   "id": "e01e3932",
   "metadata": {},
   "source": [
    "### Q17. A marketing company wants to estimate the average number of ads watched by viewers during a TV program. They take a random sample of 50 viewers and find that the sample mean is 4 with a standard deviation of 1.5. Estimate the population mean with a 99% confidence interval.\n",
    "### Sol:- "
   ]
  },
  {
   "cell_type": "code",
   "execution_count": 7,
   "id": "bd36ffe4",
   "metadata": {},
   "outputs": [
    {
     "name": "stdout",
     "output_type": "stream",
     "text": [
      "99% confidence interval for the population mean: ($3.43, $4.57)\n"
     ]
    }
   ],
   "source": [
    "import numpy as np\n",
    "from scipy import stats\n",
    "\n",
    "# Given data\n",
    "sample_mean = 4          # Sample mean number of ads watched\n",
    "sample_std = 1.5         # Sample standard deviation\n",
    "n = 50                   # Sample size\n",
    "confidence_level = 0.99  # 99% confidence level\n",
    "\n",
    "# Calculate the standard error of the mean\n",
    "std_error = sample_std / np.sqrt(n)\n",
    "\n",
    "# Get the t-critical value for a 99% confidence level\n",
    "t_critical = stats.t.ppf((1 + confidence_level) / 2, df=n-1)\n",
    "\n",
    "# Calculate the margin of error\n",
    "margin_of_error = t_critical * std_error\n",
    "\n",
    "# Calculate the confidence interval\n",
    "lower_bound = sample_mean - margin_of_error\n",
    "upper_bound = sample_mean + margin_of_error\n",
    "\n",
    "# Output the results\n",
    "print(f\"99% confidence interval for the population mean: (${lower_bound:.2f}, ${upper_bound:.2f})\")\n"
   ]
  },
  {
   "cell_type": "code",
   "execution_count": null,
   "id": "7e1656fa",
   "metadata": {},
   "outputs": [],
   "source": []
  }
 ],
 "metadata": {
  "kernelspec": {
   "display_name": "Python 3 (ipykernel)",
   "language": "python",
   "name": "python3"
  },
  "language_info": {
   "codemirror_mode": {
    "name": "ipython",
    "version": 3
   },
   "file_extension": ".py",
   "mimetype": "text/x-python",
   "name": "python",
   "nbconvert_exporter": "python",
   "pygments_lexer": "ipython3",
   "version": "3.10.9"
  }
 },
 "nbformat": 4,
 "nbformat_minor": 5
}
