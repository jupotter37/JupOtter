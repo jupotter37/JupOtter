{
 "cells": [
  {
   "cell_type": "markdown",
   "id": "779a9769",
   "metadata": {},
   "source": [
    "### Assignment-07 (Module_in_Python)\n",
    "- Change the notebook name with your name and Roll Number.\n",
    "- Try this as your own, no chatgpt (it's for your learning)\n",
    "- after completing the assignment, submit this book on google class room."
   ]
  },
  {
   "cell_type": "markdown",
   "id": "46e7a5c0",
   "metadata": {},
   "source": [
    "Explain the difference between import module and from module import *. Provide an example for each.\n"
   ]
  },
  {
   "cell_type": "code",
   "execution_count": 5,
   "id": "3e218580",
   "metadata": {},
   "outputs": [
    {
     "data": {
      "text/plain": [
       "5.0"
      ]
     },
     "execution_count": 5,
     "metadata": {},
     "output_type": "execute_result"
    }
   ],
   "source": [
    "'''If I do\n",
    "import math\n",
    "Ill have to use its functions using math.sqrt\n",
    "BUT\n",
    "from module import *\n",
    "any function can be used without doing this math dot thing\n",
    "'''\n",
    "import math\n",
    "math.sqrt(25)"
   ]
  },
  {
   "cell_type": "code",
   "execution_count": 6,
   "id": "8a0092c0",
   "metadata": {},
   "outputs": [
    {
     "data": {
      "text/plain": [
       "5.0"
      ]
     },
     "execution_count": 6,
     "metadata": {},
     "output_type": "execute_result"
    }
   ],
   "source": [
    "from math import *\n",
    "sqrt(25)"
   ]
  },
  {
   "cell_type": "markdown",
   "id": "935bbfe7",
   "metadata": {},
   "source": [
    "What is an alias, and how can it be used while importing a module? Provide an example.\n"
   ]
  },
  {
   "cell_type": "code",
   "execution_count": 7,
   "id": "944a369c",
   "metadata": {},
   "outputs": [
    {
     "data": {
      "text/plain": [
       "5.0"
      ]
     },
     "execution_count": 7,
     "metadata": {},
     "output_type": "execute_result"
    }
   ],
   "source": [
    "import math as m\n",
    "m.sqrt(25)\n"
   ]
  },
  {
   "cell_type": "markdown",
   "id": "1e1d37c8",
   "metadata": {},
   "source": [
    "Demonstrate the use of the importlib module to import a module dynamically."
   ]
  },
  {
   "cell_type": "code",
   "execution_count": 9,
   "id": "cd334b12",
   "metadata": {},
   "outputs": [
    {
     "name": "stdout",
     "output_type": "stream",
     "text": [
      "Error: Module 'greet' not found.\n"
     ]
    }
   ],
   "source": [
    "#name of the file is let's just say greet.py\n",
    "def greet(name):\n",
    "    print(f\"Hello, {name}!\")\n",
    "    \n",
    "import importlib\n",
    "\n",
    "def main():\n",
    "    module_name = \"greet\"\n",
    "    try:\n",
    "        example_module = importlib.import_module(module_name)\n",
    "        example_module.greet(\"Hamza\")\n",
    "    except ImportError:\n",
    "        print(f\"Error: Module '{module_name}' not found.\")\n",
    "\n",
    "if __name__ == \"__main__\":\n",
    "    main()\n",
    "\n",
    "    "
   ]
  },
  {
   "cell_type": "markdown",
   "id": "520b6194",
   "metadata": {},
   "source": [
    "Implement a function that takes an angle in degrees and converts it to radians using the math module."
   ]
  },
  {
   "cell_type": "code",
   "execution_count": 14,
   "id": "944626ba",
   "metadata": {},
   "outputs": [
    {
     "data": {
      "text/plain": [
       "0.7853981633974483"
      ]
     },
     "execution_count": 14,
     "metadata": {},
     "output_type": "execute_result"
    }
   ],
   "source": [
    "def foo(angle):\n",
    "    return math.radians(angle)\n",
    "foo(180)"
   ]
  },
  {
   "cell_type": "markdown",
   "id": "b81395fe",
   "metadata": {},
   "source": [
    "Create a program that simulates the rolling of a six-sided die using the random module."
   ]
  },
  {
   "cell_type": "code",
   "execution_count": 20,
   "id": "f5698b8a",
   "metadata": {},
   "outputs": [
    {
     "name": "stdout",
     "output_type": "stream",
     "text": [
      "Roll number 0-- --6\n",
      "Roll number 1-- --1\n",
      "Roll number 2-- --3\n",
      "Roll number 3-- --2\n",
      "Roll number 4-- --2\n",
      "Roll number 5-- --3\n"
     ]
    }
   ],
   "source": [
    "import random\n",
    "for _ in range(6):\n",
    "    print(f'Roll number {_}-- --{random.randint(1,6)}')"
   ]
  },
  {
   "cell_type": "markdown",
   "id": "aefd02a7",
   "metadata": {},
   "source": [
    "Implement a timer function that measures the execution time of a piece of code using the time module."
   ]
  },
  {
   "cell_type": "code",
   "execution_count": 26,
   "id": "b779c39c",
   "metadata": {},
   "outputs": [
    {
     "name": "stdout",
     "output_type": "stream",
     "text": [
      "0.0\n"
     ]
    }
   ],
   "source": [
    "import time\n",
    "\n",
    "ts = time.time()\n",
    "\n",
    "a = [x for x in range(10)]\n",
    "\n",
    "time = time.time() - ts\n",
    "\n",
    "print(time)"
   ]
  },
  {
   "cell_type": "markdown",
   "id": "6d6cdae3",
   "metadata": {},
   "source": [
    "Write a function that calculates the difference in days between two given dates using the datetime module."
   ]
  },
  {
   "cell_type": "code",
   "execution_count": 36,
   "id": "65c3ce92",
   "metadata": {},
   "outputs": [
    {
     "name": "stdout",
     "output_type": "stream",
     "text": [
      "10\n"
     ]
    }
   ],
   "source": [
    "from datetime import datetime\n",
    "\n",
    "def get_diff(date1, date2):\n",
    "    \n",
    "    obj1 = datetime.strptime(date1, \"%Y-%m-%d\")\n",
    "    obj2 = datetime.strptime(date2, \"%Y-%m-%d\")\n",
    "    \n",
    "    return abs((obj1 - obj2).days)\n",
    "\n",
    "print(get_diff('2024-04-12','2024-04-02'))"
   ]
  },
  {
   "cell_type": "markdown",
   "id": "729111d8",
   "metadata": {},
   "source": [
    "Implement a program that checks if a given year is a leap year using the calendar module."
   ]
  },
  {
   "cell_type": "code",
   "execution_count": 37,
   "id": "067716aa",
   "metadata": {},
   "outputs": [
    {
     "name": "stdout",
     "output_type": "stream",
     "text": [
      "2024 is a leap year.\n"
     ]
    }
   ],
   "source": [
    "import calendar\n",
    "\n",
    "def is_leap_year(year):\n",
    "    return calendar.isleap(year)\n",
    "\n",
    "year = 2024\n",
    "if is_leap_year(year):\n",
    "    print(f\"{year} is a leap year.\")\n",
    "else:\n",
    "    print(f\"{year} is not a leap year.\")\n"
   ]
  },
  {
   "cell_type": "markdown",
   "id": "8c4f73f2",
   "metadata": {},
   "source": [
    "Create a program that checks if a specific file exists in a given directory using the os module."
   ]
  },
  {
   "cell_type": "code",
   "execution_count": 45,
   "id": "f62123d1",
   "metadata": {},
   "outputs": [
    {
     "name": "stdout",
     "output_type": "stream",
     "text": [
      "The file 'Hamza_19_Assignment_07_Module_in_Python.ipynb' exists in the directory 'D:\\5th Semester\\Data Science'.\n"
     ]
    }
   ],
   "source": [
    "import os\n",
    "\n",
    "def file_exists_in_directory(directory, filename):\n",
    "    \n",
    "    file_path = os.path.join(directory, filename)\n",
    "    \n",
    "    return os.path.exists(file_path)\n",
    "\n",
    "# Example usage:\n",
    "directory = r\"D:\\5th Semester\\Data Science\"\n",
    "filename = \"Hamza_19_Assignment_07_Module_in_Python.ipynb\"\n",
    "\n",
    "if file_exists_in_directory(directory, filename):\n",
    "    print(f\"The file '{filename}' exists in the directory '{directory}'.\")\n",
    "else:\n",
    "    print(f\"The file '{filename}' does not exist in the directory '{directory}'.\")\n"
   ]
  },
  {
   "cell_type": "markdown",
   "id": "c1b34e47",
   "metadata": {},
   "source": [
    "Write a program that uses threading to perform parallel execution of three tasks."
   ]
  },
  {
   "cell_type": "code",
   "execution_count": 53,
   "id": "954bcf1d",
   "metadata": {},
   "outputs": [
    {
     "name": "stdout",
     "output_type": "stream",
     "text": [
      "Square: 100\n",
      "Cube: 1000\n",
      "Number: 10\n",
      "Done!\n"
     ]
    }
   ],
   "source": [
    "\n",
    "import threading\n",
    " \n",
    " \n",
    "def print_cube(num):\n",
    "    print(\"Cube: {}\" .format(num * num * num))\n",
    " \n",
    "def print_square(num):\n",
    "    print(\"Square: {}\" .format(num * num))\n",
    " \n",
    "def print_num(num):\n",
    "    print('Number: {}'.format(num))\n",
    "if __name__ ==\"__main__\":\n",
    "    t1 = threading.Thread(target=print_square, args=(10,))\n",
    "    t2 = threading.Thread(target=print_cube, args=(10,))\n",
    "    t3 = threading.Thread(target=print_num, args=(10,))\n",
    " \n",
    "    t1.start()\n",
    "    t2.start()\n",
    "    t3.start()\n",
    " \n",
    "    t1.join()\n",
    "    t2.join()\n",
    "    t3.join()\n",
    " \n",
    "    print(\"Done!\")"
   ]
  },
  {
   "cell_type": "markdown",
   "id": "0fdd3e7c",
   "metadata": {},
   "source": [
    "Implement a program that downloads an image from a URL using the urllib module."
   ]
  },
  {
   "cell_type": "code",
   "execution_count": 54,
   "id": "950950d9",
   "metadata": {},
   "outputs": [],
   "source": []
  },
  {
   "cell_type": "code",
   "execution_count": 58,
   "id": "37bfc97d",
   "metadata": {},
   "outputs": [
    {
     "ename": "HTTPError",
     "evalue": "HTTP Error 403: Forbidden",
     "output_type": "error",
     "traceback": [
      "\u001b[1;31m---------------------------------------------------------------------------\u001b[0m",
      "\u001b[1;31mHTTPError\u001b[0m                                 Traceback (most recent call last)",
      "Cell \u001b[1;32mIn[58], line 2\u001b[0m\n\u001b[0;32m      1\u001b[0m \u001b[38;5;28;01mimport\u001b[39;00m \u001b[38;5;21;01murllib\u001b[39;00m\u001b[38;5;21;01m.\u001b[39;00m\u001b[38;5;21;01mrequest\u001b[39;00m\n\u001b[1;32m----> 2\u001b[0m urllib\u001b[38;5;241m.\u001b[39mrequest\u001b[38;5;241m.\u001b[39murlretrieve(\u001b[38;5;124m\"\u001b[39m\u001b[38;5;124mhttp://www.gunnerkrigg.com//comics/00000001.jpg\u001b[39m\u001b[38;5;124m\"\u001b[39m, \u001b[38;5;124m\"\u001b[39m\u001b[38;5;124m00000001.jpg\u001b[39m\u001b[38;5;124m\"\u001b[39m)\n",
      "File \u001b[1;32m~\\anaconda3\\Lib\\urllib\\request.py:241\u001b[0m, in \u001b[0;36murlretrieve\u001b[1;34m(url, filename, reporthook, data)\u001b[0m\n\u001b[0;32m    224\u001b[0m \u001b[38;5;250m\u001b[39m\u001b[38;5;124;03m\"\"\"\u001b[39;00m\n\u001b[0;32m    225\u001b[0m \u001b[38;5;124;03mRetrieve a URL into a temporary location on disk.\u001b[39;00m\n\u001b[0;32m    226\u001b[0m \n\u001b[1;32m   (...)\u001b[0m\n\u001b[0;32m    237\u001b[0m \u001b[38;5;124;03mdata file as well as the resulting HTTPMessage object.\u001b[39;00m\n\u001b[0;32m    238\u001b[0m \u001b[38;5;124;03m\"\"\"\u001b[39;00m\n\u001b[0;32m    239\u001b[0m url_type, path \u001b[38;5;241m=\u001b[39m _splittype(url)\n\u001b[1;32m--> 241\u001b[0m \u001b[38;5;28;01mwith\u001b[39;00m contextlib\u001b[38;5;241m.\u001b[39mclosing(urlopen(url, data)) \u001b[38;5;28;01mas\u001b[39;00m fp:\n\u001b[0;32m    242\u001b[0m     headers \u001b[38;5;241m=\u001b[39m fp\u001b[38;5;241m.\u001b[39minfo()\n\u001b[0;32m    244\u001b[0m     \u001b[38;5;66;03m# Just return the local path and the \"headers\" for file://\u001b[39;00m\n\u001b[0;32m    245\u001b[0m     \u001b[38;5;66;03m# URLs. No sense in performing a copy unless requested.\u001b[39;00m\n",
      "File \u001b[1;32m~\\anaconda3\\Lib\\urllib\\request.py:216\u001b[0m, in \u001b[0;36murlopen\u001b[1;34m(url, data, timeout, cafile, capath, cadefault, context)\u001b[0m\n\u001b[0;32m    214\u001b[0m \u001b[38;5;28;01melse\u001b[39;00m:\n\u001b[0;32m    215\u001b[0m     opener \u001b[38;5;241m=\u001b[39m _opener\n\u001b[1;32m--> 216\u001b[0m \u001b[38;5;28;01mreturn\u001b[39;00m opener\u001b[38;5;241m.\u001b[39mopen(url, data, timeout)\n",
      "File \u001b[1;32m~\\anaconda3\\Lib\\urllib\\request.py:525\u001b[0m, in \u001b[0;36mOpenerDirector.open\u001b[1;34m(self, fullurl, data, timeout)\u001b[0m\n\u001b[0;32m    523\u001b[0m \u001b[38;5;28;01mfor\u001b[39;00m processor \u001b[38;5;129;01min\u001b[39;00m \u001b[38;5;28mself\u001b[39m\u001b[38;5;241m.\u001b[39mprocess_response\u001b[38;5;241m.\u001b[39mget(protocol, []):\n\u001b[0;32m    524\u001b[0m     meth \u001b[38;5;241m=\u001b[39m \u001b[38;5;28mgetattr\u001b[39m(processor, meth_name)\n\u001b[1;32m--> 525\u001b[0m     response \u001b[38;5;241m=\u001b[39m meth(req, response)\n\u001b[0;32m    527\u001b[0m \u001b[38;5;28;01mreturn\u001b[39;00m response\n",
      "File \u001b[1;32m~\\anaconda3\\Lib\\urllib\\request.py:634\u001b[0m, in \u001b[0;36mHTTPErrorProcessor.http_response\u001b[1;34m(self, request, response)\u001b[0m\n\u001b[0;32m    631\u001b[0m \u001b[38;5;66;03m# According to RFC 2616, \"2xx\" code indicates that the client's\u001b[39;00m\n\u001b[0;32m    632\u001b[0m \u001b[38;5;66;03m# request was successfully received, understood, and accepted.\u001b[39;00m\n\u001b[0;32m    633\u001b[0m \u001b[38;5;28;01mif\u001b[39;00m \u001b[38;5;129;01mnot\u001b[39;00m (\u001b[38;5;241m200\u001b[39m \u001b[38;5;241m<\u001b[39m\u001b[38;5;241m=\u001b[39m code \u001b[38;5;241m<\u001b[39m \u001b[38;5;241m300\u001b[39m):\n\u001b[1;32m--> 634\u001b[0m     response \u001b[38;5;241m=\u001b[39m \u001b[38;5;28mself\u001b[39m\u001b[38;5;241m.\u001b[39mparent\u001b[38;5;241m.\u001b[39merror(\n\u001b[0;32m    635\u001b[0m         \u001b[38;5;124m'\u001b[39m\u001b[38;5;124mhttp\u001b[39m\u001b[38;5;124m'\u001b[39m, request, response, code, msg, hdrs)\n\u001b[0;32m    637\u001b[0m \u001b[38;5;28;01mreturn\u001b[39;00m response\n",
      "File \u001b[1;32m~\\anaconda3\\Lib\\urllib\\request.py:563\u001b[0m, in \u001b[0;36mOpenerDirector.error\u001b[1;34m(self, proto, *args)\u001b[0m\n\u001b[0;32m    561\u001b[0m \u001b[38;5;28;01mif\u001b[39;00m http_err:\n\u001b[0;32m    562\u001b[0m     args \u001b[38;5;241m=\u001b[39m (\u001b[38;5;28mdict\u001b[39m, \u001b[38;5;124m'\u001b[39m\u001b[38;5;124mdefault\u001b[39m\u001b[38;5;124m'\u001b[39m, \u001b[38;5;124m'\u001b[39m\u001b[38;5;124mhttp_error_default\u001b[39m\u001b[38;5;124m'\u001b[39m) \u001b[38;5;241m+\u001b[39m orig_args\n\u001b[1;32m--> 563\u001b[0m     \u001b[38;5;28;01mreturn\u001b[39;00m \u001b[38;5;28mself\u001b[39m\u001b[38;5;241m.\u001b[39m_call_chain(\u001b[38;5;241m*\u001b[39margs)\n",
      "File \u001b[1;32m~\\anaconda3\\Lib\\urllib\\request.py:496\u001b[0m, in \u001b[0;36mOpenerDirector._call_chain\u001b[1;34m(self, chain, kind, meth_name, *args)\u001b[0m\n\u001b[0;32m    494\u001b[0m \u001b[38;5;28;01mfor\u001b[39;00m handler \u001b[38;5;129;01min\u001b[39;00m handlers:\n\u001b[0;32m    495\u001b[0m     func \u001b[38;5;241m=\u001b[39m \u001b[38;5;28mgetattr\u001b[39m(handler, meth_name)\n\u001b[1;32m--> 496\u001b[0m     result \u001b[38;5;241m=\u001b[39m func(\u001b[38;5;241m*\u001b[39margs)\n\u001b[0;32m    497\u001b[0m     \u001b[38;5;28;01mif\u001b[39;00m result \u001b[38;5;129;01mis\u001b[39;00m \u001b[38;5;129;01mnot\u001b[39;00m \u001b[38;5;28;01mNone\u001b[39;00m:\n\u001b[0;32m    498\u001b[0m         \u001b[38;5;28;01mreturn\u001b[39;00m result\n",
      "File \u001b[1;32m~\\anaconda3\\Lib\\urllib\\request.py:643\u001b[0m, in \u001b[0;36mHTTPDefaultErrorHandler.http_error_default\u001b[1;34m(self, req, fp, code, msg, hdrs)\u001b[0m\n\u001b[0;32m    642\u001b[0m \u001b[38;5;28;01mdef\u001b[39;00m \u001b[38;5;21mhttp_error_default\u001b[39m(\u001b[38;5;28mself\u001b[39m, req, fp, code, msg, hdrs):\n\u001b[1;32m--> 643\u001b[0m     \u001b[38;5;28;01mraise\u001b[39;00m HTTPError(req\u001b[38;5;241m.\u001b[39mfull_url, code, msg, hdrs, fp)\n",
      "\u001b[1;31mHTTPError\u001b[0m: HTTP Error 403: Forbidden"
     ]
    }
   ],
   "source": [
    "import urllib.request\n",
    "urllib.request.urlretrieve(\"http://www.gunnerkrigg.com//comics/00000001.jpg\", \"img.jpg\")"
   ]
  },
  {
   "cell_type": "code",
   "execution_count": null,
   "id": "6c0b8ce5",
   "metadata": {},
   "outputs": [],
   "source": []
  }
 ],
 "metadata": {
  "kernelspec": {
   "display_name": "Python 3 (ipykernel)",
   "language": "python",
   "name": "python3"
  },
  "language_info": {
   "codemirror_mode": {
    "name": "ipython",
    "version": 3
   },
   "file_extension": ".py",
   "mimetype": "text/x-python",
   "name": "python",
   "nbconvert_exporter": "python",
   "pygments_lexer": "ipython3",
   "version": "3.11.5"
  }
 },
 "nbformat": 4,
 "nbformat_minor": 5
}
