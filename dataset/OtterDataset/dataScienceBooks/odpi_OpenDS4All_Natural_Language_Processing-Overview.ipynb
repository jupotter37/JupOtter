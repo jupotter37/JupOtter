{
  "nbformat": 4,
  "nbformat_minor": 0,
  "metadata": {
    "kernelspec": {
      "display_name": "Python 3",
      "language": "python",
      "name": "python3"
    },
    "language_info": {
      "codemirror_mode": {
        "name": "ipython",
        "version": 3
      },
      "file_extension": ".py",
      "mimetype": "text/x-python",
      "name": "python",
      "nbconvert_exporter": "python",
      "pygments_lexer": "ipython3",
      "version": "3.8.10"
    },
    "colab": {
      "name": "NLP_Word_prediction_RNN.ipynb",
      "provenance": [],
      "include_colab_link": true
    },
    "accelerator": "GPU"
  },
  "cells": [
    {
      "cell_type": "markdown",
      "metadata": {
        "id": "view-in-github",
        "colab_type": "text"
      },
      "source": [
        "<a href=\"https://colab.research.google.com/github/Erikellerx/rcos_open-data-science-for-all/blob/main/NLP_Word_prediction_RNN.ipynb\" target=\"_parent\"><img src=\"https://colab.research.google.com/assets/colab-badge.svg\" alt=\"Open In Colab\"/></a>"
      ]
    },
    {
      "cell_type": "code",
      "metadata": {
        "scrolled": false,
        "id": "Hk7f690MsoWl"
      },
      "source": [
        "import tensorflow as tf\n",
        "from tensorflow.keras.preprocessing.text import Tokenizer\n",
        "from tensorflow.keras.layers import Embedding, LSTM, Dense, SimpleRNN \n",
        "from tensorflow.keras.models import Sequential\n",
        "from tensorflow.keras.utils import to_categorical\n",
        "from tensorflow.keras.optimizers import Adam\n",
        "import pickle\n",
        "import numpy as np\n",
        "import os"
      ],
      "execution_count": 4,
      "outputs": []
    },
    {
      "cell_type": "markdown",
      "metadata": {
        "scrolled": true,
        "id": "trzWOlFQsoWl"
      },
      "source": [
        "# NLP\n",
        "This model is a simple demo on how to apply RNN into NLP. \n",
        "Overall, this program will predict next word based on the previous word and this model will give a general idea on how NLP works. "
      ]
    },
    {
      "cell_type": "markdown",
      "metadata": {
        "id": "aFDLMnmLsoWl"
      },
      "source": [
        "Check if your pc is supported with GPU. If not, CUDA and cuDNN are required to download"
      ]
    },
    {
      "cell_type": "code",
      "metadata": {
        "scrolled": true,
        "id": "1GOdoSZtsoWm",
        "colab": {
          "base_uri": "https://localhost:8080/"
        },
        "outputId": "6967b3e2-3595-4360-9380-48a07e53452b"
      },
      "source": [
        "tf.config.list_physical_devices('GPU')"
      ],
      "execution_count": 5,
      "outputs": [
        {
          "output_type": "execute_result",
          "data": {
            "text/plain": [
              "[PhysicalDevice(name='/physical_device:GPU:0', device_type='GPU')]"
            ]
          },
          "metadata": {
            "tags": []
          },
          "execution_count": 5
        }
      ]
    },
    {
      "cell_type": "markdown",
      "metadata": {
        "id": "DAfdohN8soWm"
      },
      "source": [
        "# Getting the data\n",
        "We need data to perform our learning. In this case, I download a book from Project Gutenberg. "
      ]
    },
    {
      "cell_type": "code",
      "metadata": {
        "id": "AxMJ-YR_soWm",
        "colab": {
          "base_uri": "https://localhost:8080/"
        },
        "outputId": "0733e10f-e0a5-492a-a459-3f78cc065e44"
      },
      "source": [
        "\n",
        "\n",
        "file = open(\"book.txt\", \"r\", encoding = \"utf8\")\n",
        "lines = []\n",
        "\n",
        "for i in file:\n",
        "    lines.append(i)\n",
        "    \n",
        "lines[:5]"
      ],
      "execution_count": 6,
      "outputs": [
        {
          "output_type": "execute_result",
          "data": {
            "text/plain": [
              "['\\n',\n",
              " '\\n',\n",
              " \"A deep shudder shook Jay Wales. He wished now he hadn't had to come\\n\",\n",
              " 'back here to Earth this last time. He wanted to remember the old world\\n',\n",
              " 'of man as it had been, not as it was now in its dying hour.\\n']"
            ]
          },
          "metadata": {
            "tags": []
          },
          "execution_count": 6
        }
      ]
    },
    {
      "cell_type": "markdown",
      "metadata": {
        "id": "rLPNrds_soWn"
      },
      "source": [
        "# Preprocessing\n",
        "Clearning the data: Since there are some part that we don't want in our module such as \\n or (). We need to erase them before sending them into the model. "
      ]
    },
    {
      "cell_type": "code",
      "metadata": {
        "id": "PgbWHWa-soWn",
        "colab": {
          "base_uri": "https://localhost:8080/",
          "height": 52
        },
        "outputId": "cbcbb90b-0333-4c2c-fcaf-3d232bc1101f"
      },
      "source": [
        "raw_data = \"\"\n",
        "for each in lines:\n",
        "    raw_data = ' '.join(lines)\n",
        "    \n",
        "raw_data = raw_data.replace('\\n', '').replace('\\r', '').replace('\\ufeff', '').replace('(','').replace(')','')\n",
        "raw_data[:500]    \n"
      ],
      "execution_count": 7,
      "outputs": [
        {
          "output_type": "execute_result",
          "data": {
            "application/vnd.google.colaboratory.intrinsic+json": {
              "type": "string"
            },
            "text/plain": [
              "'  A deep shudder shook Jay Wales. He wished now he hadn\\'t had to come back here to Earth this last time. He wanted to remember the old world of man as it had been, not as it was now in its dying hour.  \"It seems impossible that it will really happen,\" said Hollenberg, the docket captain.  He wasn\\'t looking at Earth. He was looking beyond it at the glittering stars.  Wales looked too. He knew where to look. He saw the faint little spark of light far across the Solar System.  A spark, a pinpoint, '"
            ]
          },
          "metadata": {
            "tags": []
          },
          "execution_count": 7
        }
      ]
    },
    {
      "cell_type": "markdown",
      "metadata": {
        "id": "FdYLv4vUsoWn"
      },
      "source": [
        "# Tokenization\n",
        "This process is to help convert text into numerical sequences.\"tokenizer1.pk1\" is stored which help to convert back from numberical sequences to text after the prediction"
      ]
    },
    {
      "cell_type": "code",
      "metadata": {
        "id": "Vb2h30qmsoWo",
        "colab": {
          "base_uri": "https://localhost:8080/"
        },
        "outputId": "d9f99fdb-8d02-4a3b-e3e1-60cd98db3cf4"
      },
      "source": [
        "tokenizer = Tokenizer()\n",
        "tokenizer.fit_on_texts([raw_data])\n",
        "\n",
        "pickle.dump(tokenizer, open('tokenizer1.pkl', 'wb'))\n",
        "\n",
        "sequence_data = tokenizer.texts_to_sequences([raw_data])[0]\n",
        "sequence_data[:20]"
      ],
      "execution_count": 8,
      "outputs": [
        {
          "output_type": "execute_result",
          "data": {
            "text/plain": [
              "[6,\n",
              " 581,\n",
              " 1702,\n",
              " 437,\n",
              " 108,\n",
              " 11,\n",
              " 5,\n",
              " 1158,\n",
              " 31,\n",
              " 5,\n",
              " 330,\n",
              " 13,\n",
              " 4,\n",
              " 103,\n",
              " 46,\n",
              " 34,\n",
              " 4,\n",
              " 40,\n",
              " 32,\n",
              " 137]"
            ]
          },
          "metadata": {
            "tags": []
          },
          "execution_count": 8
        }
      ]
    },
    {
      "cell_type": "markdown",
      "metadata": {
        "id": "7I54ZeqFsoWo"
      },
      "source": [
        "Since we predict based on previous word. We need to bind connection between two word such as \"I\" and \"am\". "
      ]
    },
    {
      "cell_type": "code",
      "metadata": {
        "id": "xi1Q1O2GsoWo",
        "colab": {
          "base_uri": "https://localhost:8080/"
        },
        "outputId": "c25741f0-5d99-44a3-c596-949ed9fc3926"
      },
      "source": [
        "vocab_size = len(tokenizer.word_index) + 1\n",
        "sequences = []\n",
        "\n",
        "for i in range(1, len(sequence_data)):\n",
        "    words = sequence_data[i-1:i+1]\n",
        "    sequences.append(words)\n",
        "    \n",
        "print(\"The Length of sequences are: \", len(sequences))\n",
        "sequences = np.array(sequences)\n",
        "\n",
        "print(vocab_size)\n",
        "sequences[:10]"
      ],
      "execution_count": 9,
      "outputs": [
        {
          "output_type": "stream",
          "text": [
            "The Length of sequences are:  24212\n",
            "3468\n"
          ],
          "name": "stdout"
        },
        {
          "output_type": "execute_result",
          "data": {
            "text/plain": [
              "array([[   6,  581],\n",
              "       [ 581, 1702],\n",
              "       [1702,  437],\n",
              "       [ 437,  108],\n",
              "       [ 108,   11],\n",
              "       [  11,    5],\n",
              "       [   5, 1158],\n",
              "       [1158,   31],\n",
              "       [  31,    5],\n",
              "       [   5,  330]])"
            ]
          },
          "metadata": {
            "tags": []
          },
          "execution_count": 9
        }
      ]
    },
    {
      "cell_type": "code",
      "metadata": {
        "id": "Aeo134FTsoWo"
      },
      "source": [
        "Input = []\n",
        "Output = []\n",
        "\n",
        "for i in sequences:\n",
        "    Input.append(i[0])\n",
        "    Output.append(i[1])\n",
        "    \n",
        "Input = np.array(Input)\n",
        "Output = np.array(Output)"
      ],
      "execution_count": 10,
      "outputs": []
    },
    {
      "cell_type": "code",
      "metadata": {
        "scrolled": true,
        "id": "yXqAXVsRsoWp",
        "colab": {
          "base_uri": "https://localhost:8080/"
        },
        "outputId": "a334a1f5-ad29-4073-f16d-d826386c3400"
      },
      "source": [
        "Output = to_categorical(Output, num_classes=vocab_size)\n",
        "Output[:5]"
      ],
      "execution_count": 11,
      "outputs": [
        {
          "output_type": "execute_result",
          "data": {
            "text/plain": [
              "array([[0., 0., 0., ..., 0., 0., 0.],\n",
              "       [0., 0., 0., ..., 0., 0., 0.],\n",
              "       [0., 0., 0., ..., 0., 0., 0.],\n",
              "       [0., 0., 0., ..., 0., 0., 0.],\n",
              "       [0., 0., 0., ..., 0., 0., 0.]], dtype=float32)"
            ]
          },
          "metadata": {
            "tags": []
          },
          "execution_count": 11
        }
      ]
    },
    {
      "cell_type": "markdown",
      "metadata": {
        "id": "8YwU3GiusoWp"
      },
      "source": [
        "# Create the Model"
      ]
    },
    {
      "cell_type": "code",
      "metadata": {
        "scrolled": true,
        "id": "sReFDY5MsoWp",
        "colab": {
          "base_uri": "https://localhost:8080/"
        },
        "outputId": "8cb093cc-fcbf-4fe6-ca30-7d6abe30a32d"
      },
      "source": [
        "model = Sequential()\n",
        "model.add(Embedding(vocab_size, 10, input_length=1))\n",
        "model.add(LSTM(50))\n",
        "model.add(Dense(vocab_size, activation=\"softmax\"))\n",
        "model.summary()"
      ],
      "execution_count": 12,
      "outputs": [
        {
          "output_type": "stream",
          "text": [
            "Model: \"sequential\"\n",
            "_________________________________________________________________\n",
            "Layer (type)                 Output Shape              Param #   \n",
            "=================================================================\n",
            "embedding (Embedding)        (None, 1, 10)             34680     \n",
            "_________________________________________________________________\n",
            "lstm (LSTM)                  (None, 50)                12200     \n",
            "_________________________________________________________________\n",
            "dense (Dense)                (None, 3468)              176868    \n",
            "=================================================================\n",
            "Total params: 223,748\n",
            "Trainable params: 223,748\n",
            "Non-trainable params: 0\n",
            "_________________________________________________________________\n"
          ],
          "name": "stdout"
        }
      ]
    },
    {
      "cell_type": "code",
      "metadata": {
        "colab": {
          "base_uri": "https://localhost:8080/",
          "height": 369
        },
        "id": "VDNbShcF07nH",
        "outputId": "3d2f4a31-6618-402d-ea75-ab4133009880"
      },
      "source": [
        "\n",
        "from tensorflow import keras\n",
        "from keras.utils.vis_utils import plot_model\n",
        "\n",
        "keras.utils.plot_model(model, to_file='model.png', show_layer_names=True)"
      ],
      "execution_count": 13,
      "outputs": [
        {
          "output_type": "execute_result",
          "data": {
            "image/png": "[encoded data removed]",
            "text/plain": [
              "<IPython.core.display.Image object>"
            ]
          },
          "metadata": {
            "tags": []
          },
          "execution_count": 13
        }
      ]
    },
    {
      "cell_type": "code",
      "metadata": {
        "id": "hdKAJtjgsoWp"
      },
      "source": [
        "from tensorflow.keras.callbacks import ModelCheckpoint\n",
        "from tensorflow.keras.callbacks import ReduceLROnPlateau\n",
        "from tensorflow.keras.callbacks import TensorBoard\n",
        "\n",
        "checkpoint = ModelCheckpoint(\"my_model.h5\", monitor='loss', verbose=1,\n",
        "    save_best_only=True, mode='auto')\n",
        "\n",
        "reduce = ReduceLROnPlateau(monitor='loss', factor=0.2, patience=3, min_lr=0.0001, verbose = 1)\n",
        "\n",
        "logdir='logsmy_model'\n",
        "tensorboard_Visualization = TensorBoard(log_dir=logdir)"
      ],
      "execution_count": 14,
      "outputs": []
    },
    {
      "cell_type": "code",
      "metadata": {
        "id": "m5wbaEbGsoWp"
      },
      "source": [
        "model.compile(loss=\"categorical_crossentropy\", optimizer='adam',metrics=['acc'])"
      ],
      "execution_count": 15,
      "outputs": []
    },
    {
      "cell_type": "code",
      "metadata": {
        "scrolled": true,
        "id": "oQ9JvxUvsoWq",
        "colab": {
          "base_uri": "https://localhost:8080/"
        },
        "outputId": "a1813366-ee3e-435d-b5d4-720a1a08a4a1"
      },
      "source": [
        "history = model.fit(Input, Output, epochs=20, batch_size=64, callbacks=[checkpoint, reduce, tensorboard_Visualization])"
      ],
      "execution_count": 16,
      "outputs": [
        {
          "output_type": "stream",
          "text": [
            "Epoch 1/20\n",
            "379/379 [==============================] - 11s 7ms/step - loss: 7.2100 - acc: 0.0574\n",
            "\n",
            "Epoch 00001: loss improved from inf to 7.20999, saving model to my_model.h5\n",
            "Epoch 2/20\n",
            "379/379 [==============================] - 2s 6ms/step - loss: 6.3433 - acc: 0.0588\n",
            "\n",
            "Epoch 00002: loss improved from 7.20999 to 6.34326, saving model to my_model.h5\n",
            "Epoch 3/20\n",
            "379/379 [==============================] - 2s 6ms/step - loss: 6.2712 - acc: 0.0588\n",
            "\n",
            "Epoch 00003: loss improved from 6.34326 to 6.27118, saving model to my_model.h5\n",
            "Epoch 4/20\n",
            "379/379 [==============================] - 2s 6ms/step - loss: 6.2348 - acc: 0.0589\n",
            "\n",
            "Epoch 00004: loss improved from 6.27118 to 6.23484, saving model to my_model.h5\n",
            "Epoch 5/20\n",
            "379/379 [==============================] - 2s 6ms/step - loss: 6.2096 - acc: 0.0589\n",
            "\n",
            "Epoch 00005: loss improved from 6.23484 to 6.20962, saving model to my_model.h5\n",
            "Epoch 6/20\n",
            "379/379 [==============================] - 2s 6ms/step - loss: 6.1846 - acc: 0.0590\n",
            "\n",
            "Epoch 00006: loss improved from 6.20962 to 6.18456, saving model to my_model.h5\n",
            "Epoch 7/20\n",
            "379/379 [==============================] - 2s 6ms/step - loss: 6.1487 - acc: 0.0601\n",
            "\n",
            "Epoch 00007: loss improved from 6.18456 to 6.14867, saving model to my_model.h5\n",
            "Epoch 8/20\n",
            "379/379 [==============================] - 2s 6ms/step - loss: 6.0816 - acc: 0.0606\n",
            "\n",
            "Epoch 00008: loss improved from 6.14867 to 6.08164, saving model to my_model.h5\n",
            "Epoch 9/20\n",
            "379/379 [==============================] - 2s 6ms/step - loss: 6.0067 - acc: 0.0645\n",
            "\n",
            "Epoch 00009: loss improved from 6.08164 to 6.00670, saving model to my_model.h5\n",
            "Epoch 10/20\n",
            "379/379 [==============================] - 2s 6ms/step - loss: 5.9401 - acc: 0.0685\n",
            "\n",
            "Epoch 00010: loss improved from 6.00670 to 5.94005, saving model to my_model.h5\n",
            "Epoch 11/20\n",
            "379/379 [==============================] - 2s 6ms/step - loss: 5.8653 - acc: 0.0795\n",
            "\n",
            "Epoch 00011: loss improved from 5.94005 to 5.86531, saving model to my_model.h5\n",
            "Epoch 12/20\n",
            "379/379 [==============================] - 2s 6ms/step - loss: 5.7848 - acc: 0.0829\n",
            "\n",
            "Epoch 00012: loss improved from 5.86531 to 5.78475, saving model to my_model.h5\n",
            "Epoch 13/20\n",
            "379/379 [==============================] - 2s 6ms/step - loss: 5.7020 - acc: 0.0885\n",
            "\n",
            "Epoch 00013: loss improved from 5.78475 to 5.70198, saving model to my_model.h5\n",
            "Epoch 14/20\n",
            "379/379 [==============================] - 2s 6ms/step - loss: 5.6064 - acc: 0.1021\n",
            "\n",
            "Epoch 00014: loss improved from 5.70198 to 5.60638, saving model to my_model.h5\n",
            "Epoch 15/20\n",
            "379/379 [==============================] - 2s 6ms/step - loss: 5.4999 - acc: 0.1158\n",
            "\n",
            "Epoch 00015: loss improved from 5.60638 to 5.49993, saving model to my_model.h5\n",
            "Epoch 16/20\n",
            "379/379 [==============================] - 2s 6ms/step - loss: 5.3917 - acc: 0.1256\n",
            "\n",
            "Epoch 00016: loss improved from 5.49993 to 5.39173, saving model to my_model.h5\n",
            "Epoch 17/20\n",
            "379/379 [==============================] - 2s 6ms/step - loss: 5.2904 - acc: 0.1323\n",
            "\n",
            "Epoch 00017: loss improved from 5.39173 to 5.29038, saving model to my_model.h5\n",
            "Epoch 18/20\n",
            "379/379 [==============================] - 2s 6ms/step - loss: 5.1992 - acc: 0.1393\n",
            "\n",
            "Epoch 00018: loss improved from 5.29038 to 5.19924, saving model to my_model.h5\n",
            "Epoch 19/20\n",
            "379/379 [==============================] - 2s 6ms/step - loss: 5.1202 - acc: 0.1477\n",
            "\n",
            "Epoch 00019: loss improved from 5.19924 to 5.12020, saving model to my_model.h5\n",
            "Epoch 20/20\n",
            "379/379 [==============================] - 2s 6ms/step - loss: 5.0487 - acc: 0.1499\n",
            "\n",
            "Epoch 00020: loss improved from 5.12020 to 5.04874, saving model to my_model.h5\n"
          ],
          "name": "stdout"
        }
      ]
    },
    {
      "cell_type": "code",
      "metadata": {
        "id": "l0GeD6o1soWq",
        "colab": {
          "base_uri": "https://localhost:8080/",
          "height": 545
        },
        "outputId": "13f15a55-ebe7-40c1-9959-b2936c36a3cb"
      },
      "source": [
        "import matplotlib.pyplot as plt\n",
        "acc = history.history['acc']\n",
        "\n",
        "loss = history.history['loss']\n",
        "\n",
        "epochs = range(1, len(acc) + 1)\n",
        "plt.plot(epochs, acc, 'bo', label='Training acc')\n",
        "\n",
        "plt.title('Training accuracy')\n",
        "plt.legend()\n",
        "plt.figure()\n",
        "plt.plot(epochs, loss, 'bo', label='Training loss')\n",
        "\n",
        "plt.title('Training loss')\n",
        "plt.legend()\n",
        "plt.show()"
      ],
      "execution_count": 17,
      "outputs": [
        {
          "output_type": "display_data",
          "data": {
            "image/png": "[encoded data removed]",
            "text/plain": [
              "<Figure size 432x288 with 1 Axes>"
            ]
          },
          "metadata": {
            "tags": [],
            "needs_background": "light"
          }
        },
        {
          "output_type": "display_data",
          "data": {
            "image/png": "[encoded data removed]",
            "text/plain": [
              "<Figure size 432x288 with 1 Axes>"
            ]
          },
          "metadata": {
            "tags": [],
            "needs_background": "light"
          }
        }
      ]
    },
    {
      "cell_type": "markdown",
      "metadata": {
        "id": "I3LXdYfWsoWq"
      },
      "source": [
        "# Scripts\n",
        "A small example on how to use the model. "
      ]
    },
    {
      "cell_type": "code",
      "metadata": {
        "scrolled": true,
        "id": "KRjwL6jZsoWq"
      },
      "source": [
        "from tensorflow.keras.models import load_model\n",
        "import numpy as np\n",
        "import pickle\n",
        "\n",
        "# Load the model and tokenizer\n",
        "\n",
        "model = load_model('my_model.h5')\n",
        "tokenizer = pickle.load(open('tokenizer1.pkl', 'rb'))\n",
        "\n",
        "def Predict_Next_Words(model, tokenizer, text):\n",
        "\n",
        "    sequence = tokenizer.texts_to_sequences([text])[0]\n",
        "    sequence = np.array(sequence)\n",
        "    \n",
        "\n",
        "    preds = model.predict_classes(sequence,batch_size=3)\n",
        "    predicted_word = \"\"\n",
        "\n",
        "    for key, value in tokenizer.word_index.items():\n",
        "        if value == preds:\n",
        "            predicted_word += key\n",
        "            \n",
        "\n",
        "    \n",
        "    return predicted_word\n",
        "\n",
        "\n"
      ],
      "execution_count": 18,
      "outputs": []
    },
    {
      "cell_type": "code",
      "metadata": {
        "scrolled": true,
        "id": "iX1t6xRYsoWq",
        "colab": {
          "base_uri": "https://localhost:8080/"
        },
        "outputId": "5630bf13-d8fa-4933-be42-3da6250ae69d"
      },
      "source": [
        "while(True):\n",
        "\n",
        "    text = input(\"Enter your input: \")\n",
        "    \n",
        "    if text == \"stop\":\n",
        "        print(\"Bye\")\n",
        "        break\n",
        "    \n",
        "    else:\n",
        "        try:\n",
        "            print(Predict_Next_Words(model, tokenizer, text))\n",
        "        except:\n",
        "            continue\n"
      ],
      "execution_count": 20,
      "outputs": [
        {
          "output_type": "stream",
          "text": [
            "Enter your input: We\n"
          ],
          "name": "stdout"
        },
        {
          "output_type": "stream",
          "text": [
            "/usr/local/lib/python3.7/dist-packages/tensorflow/python/keras/engine/sequential.py:455: UserWarning: `model.predict_classes()` is deprecated and will be removed after 2021-01-01. Please use instead:* `np.argmax(model.predict(x), axis=-1)`,   if your model does multi-class classification   (e.g. if it uses a `softmax` last-layer activation).* `(model.predict(x) > 0.5).astype(\"int32\")`,   if your model does binary classification   (e.g. if it uses a `sigmoid` last-layer activation).\n",
            "  warnings.warn('`model.predict_classes()` is deprecated and '\n"
          ],
          "name": "stderr"
        },
        {
          "output_type": "stream",
          "text": [
            "know\n",
            "Enter your input: how\n",
            "to\n",
            "Enter your input: get\n",
            "to\n",
            "Enter your input: let\n",
            "the\n",
            "Enter your input: stop\n",
            "Bye\n"
          ],
          "name": "stdout"
        }
      ]
    },
    {
      "cell_type": "code",
      "metadata": {
        "id": "l9UN4m-6soWr"
      },
      "source": [
        ""
      ],
      "execution_count": null,
      "outputs": []
    },
    {
      "cell_type": "code",
      "metadata": {
        "id": "Pti6X5U-soWr"
      },
      "source": [
        ""
      ],
      "execution_count": null,
      "outputs": []
    },
    {
      "cell_type": "code",
      "metadata": {
        "id": "K8Ms6sqfsoWr"
      },
      "source": [
        ""
      ],
      "execution_count": null,
      "outputs": []
    }
  ]
}