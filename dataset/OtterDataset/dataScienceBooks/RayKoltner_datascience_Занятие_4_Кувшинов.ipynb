{
  "cells": [
    {
      "cell_type": "markdown",
      "metadata": {
        "id": "view-in-github",
        "colab_type": "text"
      },
      "source": [
        "<a href=\"https://colab.research.google.com/github/RayKoltner/datascience/blob/main/%D0%97%D0%B0%D0%BD%D1%8F%D1%82%D0%B8%D0%B5_4_%D0%9A%D1%83%D0%B2%D1%88%D0%B8%D0%BD%D0%BE%D0%B2.ipynb\" target=\"_parent\"><img src=\"https://colab.research.google.com/assets/colab-badge.svg\" alt=\"Open In Colab\"/></a>"
      ]
    },
    {
      "cell_type": "markdown",
      "metadata": {
        "id": "-JjjtqixDhfI"
      },
      "source": [
        "# Анализ и обработка результатов\n",
        "\n",
        "В анализе данных важно наглядное представление результатов, чтобы их мог оценить заказчик. Это бизнес, где на кону громадный трафик, серверные мощности, личное время многотысячной аудитории. И одновременно это исследование.\n",
        "\n",
        "Как в настоящей экспериментальной науке, ответ непредсказуем. Его точность зависит от умелого владения статистическими методами и от качества исходных данных. Перед тем, как начинать считать, проверьте, грамотно ли ваши данные подготовлены.\n",
        "\n",
        "# Группировка данных\n",
        "\n",
        "Слово «анализ» означает разбор, рассмотрение с разных сторон. Анализ данных начинают с разделения их на группы по какому-нибудь признаку. Эта операция называется группировка данных. Она помогает изучить материал более подробно, чтобы затем перейти к поиску взаимосвязей между отдельными группами.\n",
        "\n",
        "\n",
        "Группировка оправданна, если данные чётко делятся по значимому признаку, а полученные группы близки к теме задачи. Например, когда есть данные обо всех покупках в супермаркете, можно смело заниматься группировкой. Так можно установить время наплыва покупателей и решить проблему пиковых нагрузок. Или посчитать средний чек — обычно для магазинов это ключевая метрика.\n",
        "\n",
        "\n",
        "Стадии группировки хорошо укладываются в словесную формулу **split-apply-combine**:\n",
        "\n",
        "•\tразделить, **split** — разбиение на группы по определённому критерию;\n",
        "\n",
        "•\tприменить, **apply** — применение какого-либо метода к каждой группе в отдельности, например, подсчёт численности группы методом count() или суммирование вызовом sum();\n",
        "\n",
        "•\tобъединить, **combine** — сведение результатов в новую структуру данных, в зависимости от условий разделения и выполнения метода это бывает DataFrame и Series.\n",
        "\n",
        "На картинке изображен принцип **split-apply-combine** для таблицы с экзопланетами. Посмотрим, как вообще идут дела с поиском экзопланет. Сначала данные делят по группам, где каждая группа — это год. Потом метод **count()** подсчитывает численность каждой группы. В итоге получаем новую структуру данных с группами, где каждая содержит год и число открытых за этот год экзопланет.\n",
        "\n",
        "![image.png](attachment:image.png)\n",
        "\n",
        "В Рandas для группировки данных есть метод **groupby()**. Он принимает как аргумент название столбца, по которому нужно группировать. В случае с делением экзопланет по годам открытия:\n",
        "\n",
        "**print(exoplanet.groupby('discovered'))**\n",
        "\n",
        "**<pandas.core.groupby.DataFrameGroupBy object at 0x7fc1e1ca3400>**\n",
        "\n",
        "\n",
        "Применение метода **groupby()** к объекту типа DataFrame приводит к созданию объекта особого типа — **DataFrameGroupBy**. Это сгруппированные данные. Если применить к ним какой-нибудь метод Pandas, они станут новой структурой данных типа **DataFrame** или **Series**.\n",
        "Подсчитаем сгруппированные по годам экзопланеты методом **count()**:\n",
        "\n",
        "Если нужно сравнить наблюдения по одному показателю, метод применяют к **DataFrameGroupBy** с указанием на один столбец. Нас в первую очередь интересует радиус экзопланет: мы ищем другую Землю. Давайте получим таблицу с единственным столбцом 'radius':\n",
        "\n",
        "**exo_number = exoplanet.groupby('discovered')['radius'].count()**\n",
        "\n",
        "**print(exo_number)**\n",
        "\n",
        "Получили Series, где по годам открытия расписано количество экзопланет, для которых удалось установить радиус.\n",
        "\n",
        "Посмотрим, как меняется средний радиус открытых экзопланет год от года. Для этого надо сложить радиусы планет, открытых за определённый год, и поделить на их количество (которое мы уже нашли).\n",
        "\n",
        "Сумма радиусов считается методом **sum()**:\n",
        "\n",
        "**exo_radius_sum = exoplanet.groupby('discovered')['radius'].sum()**\n",
        "\n",
        "\n",
        "**print(exo_radius_sum)**\n",
        "\n",
        "\n",
        "\n",
        "## Задача\n",
        "Вашему вниманию предлагается датасет с обзором показателей самоубийств с 1985 по 2016 год — Сравнение социально-экономической информации с показателями самоубийств по годам и странам.\n",
        "\n",
        "Столбцами этой таблицы являются: страна, год, пол, возрастная группа, количество самоубийств, население, уровень самоубийств, сводный ключ по стране за год, ИЧР (индекс человеческого развития) за год, ВВП за год, ВВП на душу населения, поколение (на основе среднего по возрастной группе).\n",
        "\n",
        "1. Загрузите таблицу master, содержащую данные о самоубийствах. Выведите на экран таблицу и оцените данные, обратите внимание на названия столбцов, переименуйте их, если это необходимо.\n",
        "\n",
        "2. Убедитесь в том, что данные прошли предподготовку.  Пропущенные и неопределённые значения выявляет метод isna(), а суммарное количество таких значений — метод sum().\n",
        "\n",
        "3. Сгруппируйте DataFrame по столбцу country, сохраните полученный результат в переменной country_grouping.\n",
        "\n",
        "4. Посчитайте количество случаев самоубийств по странам, которые были совершены, методом **sum()**, указав, что выбираем один столбец suicides_no.\n",
        "\n",
        "Сохраните результат в переменной country_sum и выведите первые 30 строк этой таблицы.\n",
        "\n"
      ]
    },
    {
      "cell_type": "code",
      "execution_count": 7,
      "metadata": {
        "scrolled": true,
        "id": "_WBiV_-gDhfM",
        "outputId": "b0a7d0b1-e008-48f1-a1fb-93633a7abd8b",
        "colab": {
          "base_uri": "https://localhost:8080/"
        }
      },
      "outputs": [
        {
          "output_type": "stream",
          "name": "stdout",
          "text": [
            "<class 'pandas.core.frame.DataFrame'>\n",
            "RangeIndex: 27820 entries, 0 to 27819\n",
            "Data columns (total 12 columns):\n",
            " #   Column              Non-Null Count  Dtype  \n",
            "---  ------              --------------  -----  \n",
            " 0   country             27820 non-null  object \n",
            " 1   year                27820 non-null  int64  \n",
            " 2   sex                 27820 non-null  object \n",
            " 3   age                 27820 non-null  object \n",
            " 4   suicides_no         27820 non-null  int64  \n",
            " 5   population          27820 non-null  int64  \n",
            " 6   suicides/100k pop   27820 non-null  float64\n",
            " 7   country-year        27820 non-null  object \n",
            " 8   HDI for year        8364 non-null   float64\n",
            " 9    gdp_for_year ($)   27820 non-null  object \n",
            " 10  gdp_per_capita ($)  27820 non-null  int64  \n",
            " 11  generation          27820 non-null  object \n",
            "dtypes: float64(2), int64(4), object(6)\n",
            "memory usage: 2.5+ MB\n",
            "None\n"
          ]
        }
      ],
      "source": [
        "import pandas as pd\n",
        "\n",
        "master = pd.read_csv(\"https://raw.githubusercontent.com/RayKoltner/datascience/refs/heads/main/master.csv\")\n",
        "print(master.info())"
      ]
    },
    {
      "cell_type": "code",
      "source": [
        "master = master.set_axis(labels = ['country', 'year', 'sex', 'age', 'suicides_number', 'population', 'suicides_per_100k', 'country-year', 'hdi_for_year', 'gdp_per_year($)', 'gdp_per_capita($)', 'generation'], axis = 'columns')\n",
        "print(master.columns)"
      ],
      "metadata": {
        "id": "3BIhWyXpH0J4",
        "outputId": "4434ea39-0b68-4b9e-c5c6-175f7cafafbd",
        "colab": {
          "base_uri": "https://localhost:8080/"
        }
      },
      "execution_count": 8,
      "outputs": [
        {
          "output_type": "stream",
          "name": "stdout",
          "text": [
            "Index(['country', 'year', 'sex', 'age', 'suicides_number', 'population',\n",
            "       'suicides_per_100k', 'country-year', 'hdi_for_year', 'gdp_per_year($)',\n",
            "       'gdp_per_capita($)', 'generation'],\n",
            "      dtype='object')\n"
          ]
        }
      ]
    },
    {
      "cell_type": "code",
      "source": [
        "print(master.isna().sum())"
      ],
      "metadata": {
        "id": "6_0iYXMjJqhT",
        "outputId": "c88eef82-3565-43a6-a582-bdcb005a8ba9",
        "colab": {
          "base_uri": "https://localhost:8080/"
        }
      },
      "execution_count": 9,
      "outputs": [
        {
          "output_type": "stream",
          "name": "stdout",
          "text": [
            "country                  0\n",
            "year                     0\n",
            "sex                      0\n",
            "age                      0\n",
            "suicides_number          0\n",
            "population               0\n",
            "suicides_per_100k        0\n",
            "country-year             0\n",
            "hdi_for_year         19456\n",
            "gdp_per_year($)          0\n",
            "gdp_per_capita($)        0\n",
            "generation               0\n",
            "dtype: int64\n"
          ]
        }
      ]
    },
    {
      "cell_type": "code",
      "source": [
        "master = master.dropna(axis = \"columns\")\n",
        "print(master.isna().sum())"
      ],
      "metadata": {
        "colab": {
          "base_uri": "https://localhost:8080/"
        },
        "id": "CmQyLRZkLIXK",
        "outputId": "9bd1782a-cc4d-4ddb-b116-1430d561df67"
      },
      "execution_count": 10,
      "outputs": [
        {
          "output_type": "stream",
          "name": "stdout",
          "text": [
            "country              0\n",
            "year                 0\n",
            "sex                  0\n",
            "age                  0\n",
            "suicides_number      0\n",
            "population           0\n",
            "suicides_per_100k    0\n",
            "country-year         0\n",
            "gdp_per_year($)      0\n",
            "gdp_per_capita($)    0\n",
            "generation           0\n",
            "dtype: int64\n"
          ]
        }
      ]
    },
    {
      "cell_type": "code",
      "source": [
        "country_grouping = master.groupby(\"country\")\n",
        "country_sum = country_grouping[\"suicides_number\"].sum()\n",
        "print(country_sum.head(30))"
      ],
      "metadata": {
        "colab": {
          "base_uri": "https://localhost:8080/"
        },
        "id": "JkuVATdqKXH0",
        "outputId": "8e0c2207-2f3a-4f65-b038-c42d7301677c"
      },
      "execution_count": 4,
      "outputs": [
        {
          "output_type": "stream",
          "name": "stdout",
          "text": [
            "country\n",
            "Albania                     1970\n",
            "Antigua and Barbuda           11\n",
            "Argentina                  82219\n",
            "Armenia                     1905\n",
            "Aruba                        101\n",
            "Australia                  70111\n",
            "Austria                    50073\n",
            "Azerbaijan                  1656\n",
            "Bahamas                       93\n",
            "Bahrain                      463\n",
            "Barbados                     177\n",
            "Belarus                    59892\n",
            "Belgium                    62761\n",
            "Belize                       348\n",
            "Bosnia and Herzegovina       318\n",
            "Brazil                    226613\n",
            "Bulgaria                   36388\n",
            "Cabo Verde                    42\n",
            "Canada                    107561\n",
            "Chile                      40895\n",
            "Colombia                   53080\n",
            "Costa Rica                  6792\n",
            "Croatia                    18429\n",
            "Cuba                       41418\n",
            "Cyprus                       412\n",
            "Czech Republic             43687\n",
            "Denmark                    15297\n",
            "Dominica                       0\n",
            "Ecuador                    20660\n",
            "El Salvador                11683\n",
            "Name: suicides_number, dtype: int64\n"
          ]
        }
      ]
    },
    {
      "cell_type": "markdown",
      "metadata": {
        "id": "7zP-7xFwDhfN"
      },
      "source": [
        "# Сортировка данных\n",
        "\n",
        "\n",
        "Поиск необычного в группе — что среди планет, что среди меломанов — это прежде всего поиск чемпионов: объектов с выдающимися показателями по разным статьям. Как всю таблицу, так и отдельные группы изучают, сортируя строки по какому-либо столбцу.\n",
        "\n",
        "В Pandas для этой операции есть метод **sort_values()**. У него два аргумента:\n",
        "\n",
        "• **by = 'имя столбца'** — имя столбца, по которому нужно сортировать;\n",
        "\n",
        "• **ascending:** по умолчанию True. Для сортировки по убыванию установите значение False.\n",
        "\n",
        "![image.png](attachment:image.png)\n",
        "\n",
        "\n",
        "Среди экзопланет интересны близкие по размерам к Земле. Есть ли такие? Отсортируем список по радиусу в порядке возрастания. Тогда в голове таблицы окажутся самые малые, на которых гравитация не прижмёт нас к полу.\n",
        "\n",
        "**print(exoplanet.sort_values(by='radius').head(30))**\n",
        "\n",
        "Оказывается, некоторые из уже открытых экзопланет по размерам близки не то что к Земле, но уже и к Луне! Получим список экзопланет с радиусом меньше земного. Смотрите, как логический оператор (здесь это <) задействуется в отборе элементов столбца. Дальше нам этот приём не раз понадобится.\n",
        "\n",
        "**print(exoplanet[exoplanet['radius'] < 1])**\n",
        "\n",
        "Но и этот список такой длинный, что изучать его лучше по частям. Экзопланеты, близкие по размерам к Земле, за последнее десятилетие открывали нередко. Можно изучать список открытых за каждый год. Например, для 2014 года (вновь обратите внимание на работу логического оператора, теперь это ==):\n",
        "\n",
        "**print(exoplanet[exoplanet['discovered'] == 2014])**\n",
        "\n",
        "А чтобы не тратить время на лишнее, поставим оба условия сразу. Для этого в Pandas есть логический оператор &, подобный оператору and языка Python. Напомним, его смысл на русском языке можно передать словами «и ещё»:\n",
        "\n",
        "**exo_small_14 = exoplanet[ (exoplanet['radius']<1) & (exoplanet['discovered']==2014)]**\n",
        "\n",
        "**print(exo_small_14)**\n",
        "\n",
        "Отсортируем результат в порядке убывания радиуса.\n",
        "\n",
        "**print(exo_small_14.sort_values(by = 'radius', ascending = False))**\n",
        "\n",
        "\n",
        "\n"
      ]
    },
    {
      "cell_type": "markdown",
      "metadata": {
        "id": "xG_2UyNqDhfN"
      },
      "source": [
        "## Задача\n",
        "1. Выделим пятерки стран с самым низким и самым высоким уровнем самоубийств в мире."
      ]
    },
    {
      "cell_type": "code",
      "execution_count": null,
      "metadata": {
        "id": "VF8lmWEUDhfO",
        "outputId": "e8ab3d24-9c45-4f12-b55d-90105bc2804f",
        "colab": {
          "base_uri": "https://localhost:8080/"
        }
      },
      "outputs": [
        {
          "output_type": "stream",
          "name": "stdout",
          "text": [
            "country\n",
            "Dominica                  0\n",
            "Saint Kitts and Nevis     0\n",
            "San Marino                4\n",
            "Antigua and Barbuda      11\n",
            "Maldives                 20\n",
            "Name: suicides_number, dtype: int64\n"
          ]
        }
      ],
      "source": [
        "# С самым низким уровнем\n",
        "print(country_sum.sort_values().head(5))"
      ]
    },
    {
      "cell_type": "code",
      "execution_count": null,
      "metadata": {
        "scrolled": true,
        "id": "37czAJFsDhfO",
        "outputId": "f179a07b-6e03-44dc-c8c7-48b4b1585b22",
        "colab": {
          "base_uri": "https://localhost:8080/"
        }
      },
      "outputs": [
        {
          "output_type": "stream",
          "name": "stdout",
          "text": [
            "country\n",
            "Russian Federation    1209742\n",
            "United States         1034013\n",
            "Japan                  806902\n",
            "France                 329127\n",
            "Ukraine                319950\n",
            "Name: suicides_number, dtype: int64\n"
          ]
        }
      ],
      "source": [
        "# С самым высоким уровнем\n",
        "print(country_sum.sort_values(ascending=False).head(5))"
      ]
    },
    {
      "cell_type": "markdown",
      "metadata": {
        "id": "gQChO59yDhfO"
      },
      "source": [
        "2. Исследуйте распределение количества суидидов по гендерному признаку. Найдите лидеров и антилидеров по количеству самоубийств среди женщин. Повторяется ли картина по сравнению с предыдущим исследованием?"
      ]
    },
    {
      "cell_type": "code",
      "execution_count": null,
      "metadata": {
        "id": "NQoE93ldDhfO",
        "outputId": "ad889309-e256-49f4-ef56-052777955cf9",
        "colab": {
          "base_uri": "https://localhost:8080/"
        }
      },
      "outputs": [
        {
          "output_type": "stream",
          "name": "stdout",
          "text": [
            "Среди мужчин:\n",
            "Самый низкий уровень:\n",
            " country\n",
            "Dominica                  0\n",
            "Saint Kitts and Nevis     0\n",
            "San Marino                4\n",
            "Antigua and Barbuda      10\n",
            "Maldives                 14\n",
            "Name: suicides_number, dtype: int64\n",
            "Самый высокий уровень:\n",
            " country\n",
            "Russian Federation    995412\n",
            "United States         820216\n",
            "Japan                 555272\n",
            "Ukraine               258573\n",
            "France                239708\n",
            "Name: suicides_number, dtype: int64\n"
          ]
        }
      ],
      "source": [
        "#Youre code is here\n",
        "country_sum_men = master[master['sex'] == 'male'].groupby('country')['suicides_number'].sum()\n",
        "\n",
        "print(\"Среди мужчин:\\nСамый низкий уровень:\\n\", country_sum_men.sort_values().head(5))\n",
        "print(\"Самый высокий уровень:\\n\", country_sum_men.sort_values(ascending=False).head(5))"
      ]
    },
    {
      "cell_type": "code",
      "source": [
        "#Youre code is here\n",
        "country_sum_women = master[master['sex'] == 'female'].groupby('country')['suicides_number'].sum()\n",
        "\n",
        "print(\"Среди женщин:\\nСамый низкий уровень:\\n\", country_sum_women.sort_values().head(5))\n",
        "print(\"Самый высокий уровень:\\n\", country_sum_women.sort_values(ascending=False).head(5))"
      ],
      "metadata": {
        "id": "CL98HuxvOCmk",
        "outputId": "ce55f9bf-286a-46b8-be7f-a1fc2826a1e9",
        "colab": {
          "base_uri": "https://localhost:8080/"
        }
      },
      "execution_count": 11,
      "outputs": [
        {
          "output_type": "stream",
          "name": "stdout",
          "text": [
            "Среди женщин:\n",
            "Самый низкий уровень:\n",
            " country\n",
            "Oman                     0\n",
            "San Marino               0\n",
            "Dominica                 0\n",
            "Saint Kitts and Nevis    0\n",
            "Antigua and Barbuda      1\n",
            "Name: suicides_number, dtype: int64\n",
            "Самый высокий уровень:\n",
            " country\n",
            "Japan                 251630\n",
            "Russian Federation    214330\n",
            "United States         213797\n",
            "France                 89419\n",
            "Republic of Korea      82615\n",
            "Name: suicides_number, dtype: int64\n"
          ]
        }
      ]
    },
    {
      "cell_type": "markdown",
      "metadata": {
        "id": "hpQ_IkU_DhfO"
      },
      "source": [
        "# Описательная статистика\n",
        "\n",
        "Чтобы представить себе среднестатистического самоубийцу, понадобится описательная статистика.\n",
        "\n",
        "Из её показателей для количественного описания данных в нашей задаче нужны четыре меры — максимум, минимум, медиана и среднее.\n",
        "\n",
        "Наибольшее и наименьшее обычно вычисляют только по одному признаку. Например, можно получить минимальное и максимальное значение уровня самоубийств (количество самоубийств на 100 тыс.населения) (столбец 'suicides/100k pop'). Для поиска максимума вызывают метод max(), примененный к этому столбцу:\n",
        "\n",
        "print(master['suicides/100k pop'].max())\n"
      ]
    },
    {
      "cell_type": "code",
      "execution_count": null,
      "metadata": {
        "id": "dnGYAmHlDhfO",
        "outputId": "024a79d6-861e-4d5c-fa35-f5c20f1a3d61",
        "colab": {
          "base_uri": "https://localhost:8080/"
        }
      },
      "outputs": [
        {
          "output_type": "stream",
          "name": "stdout",
          "text": [
            "224.97\n"
          ]
        }
      ],
      "source": [
        "print(master['suicides_per_100k'].max())"
      ]
    },
    {
      "cell_type": "markdown",
      "metadata": {
        "id": "RfPqpQOpDhfP"
      },
      "source": [
        "Самый высокий показатель оказался 224.97 самоубийств на 100 тыс.населения. Интересно, в какой стране такая ситуация.\n",
        "\n",
        "Запросим из master строку с максимальным значением, прибегнув к логической индексации с условием\n",
        "\n",
        "**master['suicides/100k pop'] == master['suicides/100k pop'].max()**"
      ]
    },
    {
      "cell_type": "code",
      "execution_count": null,
      "metadata": {
        "id": "4YrF-qK9DhfP",
        "outputId": "b7105bd9-dfc8-4b66-dc72-618f3286c0a8",
        "colab": {
          "base_uri": "https://localhost:8080/"
        }
      },
      "outputs": [
        {
          "output_type": "stream",
          "name": "stdout",
          "text": [
            "1258    Aruba\n",
            "Name: country, dtype: object\n"
          ]
        }
      ],
      "source": [
        "print(master[master['suicides_per_100k'] == master['suicides_per_100k'].max()]['country'])"
      ]
    },
    {
      "cell_type": "markdown",
      "metadata": {
        "id": "7q-dPAOKDhfP"
      },
      "source": [
        "Минимальное значение — ищут методом **min()**. Нам интересно установить случаи, когда уровень суицидов минимальный, но не нулевой.\n",
        "\n",
        "Вот как мы создаём выборку  и находим в ней минимальное значение:\n",
        "\n",
        "**master_drop_null = master[master['suicides/100k pop'] != 0]**\n",
        "\n",
        "**print(master_drop_null['suicides/100k pop'].min())**\n"
      ]
    },
    {
      "cell_type": "code",
      "execution_count": null,
      "metadata": {
        "id": "9rkMrgUcDhfP",
        "outputId": "024d5312-32a6-4c7e-d4a4-229b572e46bf",
        "colab": {
          "base_uri": "https://localhost:8080/"
        }
      },
      "outputs": [
        {
          "output_type": "stream",
          "name": "stdout",
          "text": [
            "0.02\n"
          ]
        }
      ],
      "source": [
        "master_drop_null = master[master['suicides_per_100k'] != 0]\n",
        "\n",
        "print(master_drop_null['suicides_per_100k'].min())"
      ]
    },
    {
      "cell_type": "markdown",
      "metadata": {
        "id": "i06jkMCsDhfP"
      },
      "source": [
        "Получим название самой \"счастливой\" страны. Как и при поиске максимума, воспользуемся условием и логической индексацией"
      ]
    },
    {
      "cell_type": "code",
      "execution_count": null,
      "metadata": {
        "id": "eUP0oxI7DhfP",
        "outputId": "22f99b55-4f3e-445f-c206-0573c20e79ca",
        "colab": {
          "base_uri": "https://localhost:8080/"
        }
      },
      "outputs": [
        {
          "output_type": "stream",
          "name": "stdout",
          "text": [
            "23347    South Africa\n",
            "23371    South Africa\n",
            "23479    South Africa\n",
            "25060        Thailand\n",
            "25061        Thailand\n",
            "Name: country, dtype: object\n"
          ]
        }
      ],
      "source": [
        "print(master_drop_null[master_drop_null['suicides_per_100k'] == master_drop_null['suicides_per_100k'].min()]['country'])"
      ]
    },
    {
      "cell_type": "markdown",
      "metadata": {
        "id": "vXe-VCUVDhfP"
      },
      "source": [
        "Результат вывода — две страны, которые соответствуют минимальному значению.\n",
        "На основе полученных данных можно сделать вывод, что число совершенных самоубийств на 100 тыс. населения  находится в диапазоне от 0,02 до 224.97 секунд, не включая пропущенные.\n",
        "\n",
        "Это знание пригодится, чтобы разобраться с медианой и средним арифметическим.\n",
        "\n",
        "Среднее и медиана оценивают значения в центре выборки. Если тех строк, где число с большим количеством самоубийц, столько же, сколько тех, где это число мало — среднее подойдет. Но когда есть оторванные от основной массы лидеры, их результаты сильно смещают значение среднего вверх. Вот почему оценивать в этом случае лучше медианой.\n",
        "\n",
        "![image.png](attachment:image.png)\n",
        "\n",
        "В геометрии медиана делит фигуру на две равные по площади. В статистике она делит выборку пополам: в одной половине значения меньше медианного, в другой больше. Логично, что для определения медианы список обязательно должен быть отсортирован — либо по возрастанию, либо по убыванию.\n",
        "Когда количество значений нечётное, медиана будет равна тому значению, которое оказалось ровно посередине отсортированного набора. Если же количество данных чётное, то медиана рассчитывается как среднее арифметическое двух соседних чисел в середине набора.\n",
        "\n"
      ]
    },
    {
      "cell_type": "markdown",
      "metadata": {
        "id": "XODS8_A_DhfP"
      },
      "source": [
        "В Pandas есть метод **median()**, который считает медиану. По аналогии с **min()** и **max()** его можно применять ко всей таблице, к отдельному столбцу или к сгруппированным данным. Теперь применим медиану ко всем значениям времени прослушивания в нашей таблице, исключив нулевые:\n",
        "\n"
      ]
    },
    {
      "cell_type": "code",
      "execution_count": null,
      "metadata": {
        "id": "t8M99G-FDhfP",
        "outputId": "781b5cfa-a953-4e0b-bb33-1fa353c930cb",
        "colab": {
          "base_uri": "https://localhost:8080/"
        }
      },
      "outputs": [
        {
          "output_type": "stream",
          "name": "stdout",
          "text": [
            "42.0\n"
          ]
        }
      ],
      "source": [
        "print(master_drop_null['suicides_number'].median())"
      ]
    },
    {
      "cell_type": "markdown",
      "metadata": {
        "id": "i7BgtaKpDhfP"
      },
      "source": [
        "Чтобы убедиться, что лидеры действительно смещают средний показатель вверх, найдём среднее арифметическое всех этих значений методом mean():"
      ]
    },
    {
      "cell_type": "code",
      "execution_count": null,
      "metadata": {
        "id": "WYcUqLgTDhfP",
        "outputId": "3385d6ae-d3e2-408b-924a-d9775dd4af36",
        "colab": {
          "base_uri": "https://localhost:8080/"
        }
      },
      "outputs": [
        {
          "output_type": "stream",
          "name": "stdout",
          "text": [
            "286.69102340796127\n"
          ]
        }
      ],
      "source": [
        "print(master_drop_null['suicides_number'].mean())"
      ]
    },
    {
      "cell_type": "code",
      "execution_count": null,
      "metadata": {
        "id": "KLhbxsq5DhfP"
      },
      "outputs": [],
      "source": []
    }
  ],
  "metadata": {
    "kernelspec": {
      "display_name": "Python 3 (ipykernel)",
      "language": "python",
      "name": "python3"
    },
    "language_info": {
      "codemirror_mode": {
        "name": "ipython",
        "version": 3
      },
      "file_extension": ".py",
      "mimetype": "text/x-python",
      "name": "python",
      "nbconvert_exporter": "python",
      "pygments_lexer": "ipython3",
      "version": "3.9.12"
    },
    "colab": {
      "provenance": [],
      "include_colab_link": true
    }
  },
  "nbformat": 4,
  "nbformat_minor": 0
}