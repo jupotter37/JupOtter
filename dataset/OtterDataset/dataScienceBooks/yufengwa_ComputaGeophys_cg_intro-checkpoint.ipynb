{
 "cells": [
  {
   "cell_type": "markdown",
   "metadata": {
    "slideshow": {
     "slide_type": "slide"
    }
   },
   "source": [
    "<h1><center>计算地球物理-简介</center></h1>\n",
    "\n",
    "[<center><img src=\"./figs/mars_movie_frameshot.png\" style=\"float: center; height:330px\" /><center>](https://geodynamics.org/cig/news/research-highlights/february-2019/)\n",
    "\n",
    "<div style=\"clear: both\"></div>\n",
    "<center>汪宇锋</center>\n",
    "<div style=\"clear: both\"></div>\n",
    "<center>地球物理与空间信息学院</center>\n",
    "<div style=\"clear: both\"></div>\n",
    "<center>2021年12月</center>"
   ]
  },
  {
   "cell_type": "markdown",
   "metadata": {
    "slideshow": {
     "slide_type": "slide"
    }
   },
   "source": [
    "## 什么是计算地球物理\n",
    "\n",
    "<br/>\n",
    "<font size=6.5>\n",
    "    \n",
    "- 地球物理学：是通过定量物理方法研究地球的自然科学，它通常使用地震波、重力、电磁、地热和放射能等物理方法；\n",
    "- 应用地球物理：使用地震、重力、磁、电和电磁等的方法来寻找石油、天然气、矿石、水等等具有经济开发价值的物体；\n",
    "- 固体地球物理：主要是研究地球内部结构及其起源、演化并預測其发展；\n",
    "- 计算地球物理：地球物理场数值模拟、地球动力学、地球物理数据处理等。\n",
    "    </font>"
   ]
  },
  {
   "cell_type": "markdown",
   "metadata": {
    "slideshow": {
     "slide_type": "slide"
    }
   },
   "source": [
    "## 计算地球物理实践\n",
    "\n",
    "<table>\n",
    "  <tr>\n",
    "    <td><img src=\"./figs/bm1.png\"  height:220px\" /></td>\n",
    "    <td><img src=\"./figs/bm2.png\"  height:220px\" /></td> \n",
    "  </tr>\n",
    " </table>\n",
    "        \n",
    "    \n",
    "[BLACK MAGIC IN GEOPHYSICAL PROSPECTING](https://library.seg.org/doi/epdf/10.1190/1.1437076)\n",
    "\n"
   ]
  },
  {
   "cell_type": "markdown",
   "metadata": {
    "slideshow": {
     "slide_type": "slide"
    }
   },
   "source": [
    "## 计算地球物理实践\n",
    "<br/>\n",
    "<font size=6.5>\n",
    "    \n",
    "地球物理学家通常会面临着一个挑战，当采用成熟的商业软件进行地球物理数据处理时，往往注重于流程而不清楚软件背后的具体算法实现，本课程就是让学生理解并动手实现这些算法，地球物理研究通常是如下模式：\n",
    "\n",
    "$$ \n",
    "\\boxed{\\begin{array}{c}\\mathrm{Field}\\\\\\mathrm{Geophysical}\\\\\\mathrm{Data}\\end{array}}\n",
    "\\Longrightarrow \n",
    "\\boxed{\\begin{array}{c}\\mathrm{Magic\\,Black}\\\\\\mathrm{Box\\,of\\, Geophysical}\\\\\\mathrm{Data\\,Processing}\\end{array}}\n",
    "\\Longrightarrow \n",
    "\\boxed{\\begin{array}{c}\\mathrm{Top-notch}\\\\\\mathrm{Geophysical}\\\\\\mathrm{Result}\\end{array}}\n",
    "$$\n",
    "        </font>\n"
   ]
  },
  {
   "cell_type": "markdown",
   "metadata": {
    "slideshow": {
     "slide_type": "slide"
    }
   },
   "source": [
    "## Python and Beyond\n",
    "<br/>\n",
    "<font size=6.5>\n",
    "    \n",
    "- strip away some of the **magic black box** nature of how students are commonly introduced to geophysical computing, and to provide a better conceptual idea of what is going on when software is applied to tackle geophysical problems； \n",
    "\n",
    "- not to \"reinvent the wheel\" on absolutely every algorithm because this would take far too long and one would never finish finding solutions to the problem at hand；\n",
    "\n",
    "- focus on the **Python** language and leverage its open-source, diverse and well-validated computational toolkits including **Numpy** and **Scipy** as well as the strong plotting library **Matplotlib**.  \n",
    "    </font>\n"
   ]
  },
  {
   "cell_type": "markdown",
   "metadata": {
    "slideshow": {
     "slide_type": "slide"
    }
   },
   "source": [
    "## [Open-Source Software](https://en.wikipedia.org/wiki/Comparison_of_free_geophysics_software)\n",
    "\n",
    "<center><img src=\"./figs/opengeo.png\" style=\"float: center; height:600px\" /><center>\n",
    "\n"
   ]
  },
  {
   "cell_type": "markdown",
   "metadata": {
    "slideshow": {
     "slide_type": "slide"
    }
   },
   "source": [
    "## 开源研究\n",
    "<br/>\n",
    "\n",
    "<table>\n",
    "  <tr>\n",
    "    <td><img src=\"./figs/unixart.png\" width=\"1000\" /></td>\n",
    "    <td>“Abandoning the habit of secrecy in favor of process transparency and peer review was the crucial step by which alchemy became chemistry. In the same way, it is beginning to appear that open-source development may signal the long-awaited maturation of software development as a discipline.” <br/>\n",
    "        -- Eric Raymond </td>\n",
    "  </tr>\n",
    " </table>\n"
   ]
  },
  {
   "cell_type": "markdown",
   "metadata": {
    "slideshow": {
     "slide_type": "subslide"
    }
   },
   "source": [
    "## 开源研究\n",
    "<br/>\n",
    "\n",
    "<table>\n",
    "  <tr>\n",
    "    <td><img src=\"./figs/claerbout.jpg\" width=\"1000\" /></td>\n",
    "    <td>“An article about computational science in a scientific publication is not the scholarship itself, it is merely advertising of the scholarship. The actual scholarship is the complete software development environment and the complete set of instructions which generated the figures.” <br/>\n",
    "        -- Jon Claerbout </td>\n",
    "  </tr>\n",
    " </table>\n"
   ]
  },
  {
   "cell_type": "markdown",
   "metadata": {
    "slideshow": {
     "slide_type": "subslide"
    }
   },
   "source": [
    "## 开源研究\n",
    "<br/>\n",
    "\n",
    "<table>\n",
    "  <tr>\n",
    "    <td><img src=\"./figs/Harold.jpeg\" width=\"800\" /></td>\n",
    "    <td>“We want ideas, and in particular programs, that work in one place to work elsewhere. One form of objectivity is that published science must work elsewhere than just in the author's laboratory or even just in the author's imagination; this requirement is called reproducibility.” <br/>\n",
    "        -- Harold Thimbleby </td>\n",
    "  </tr>\n",
    " </table>\n"
   ]
  },
  {
   "cell_type": "markdown",
   "metadata": {
    "slideshow": {
     "slide_type": "subslide"
    }
   },
   "source": [
    "## 开源研究\n",
    "<br/>\n",
    "\n",
    "<table>\n",
    "  <tr>\n",
    "    <td><img src=\"./figs/donoho.jpeg\" width=\"1500\" /></td>\n",
    "    <td>“Scientific computation is emerging as absolutely central to the scientific method, but the prevalence of very relaxed practices is leading to a credibility crisis. Reproducible computational research, in which all details of computations—code and data—are made conveniently available to others, is a necessary response to this crisis. The authors review their approach to reproducible research and describe how it has evolved over time, discussing the arguments for and against working reproducibly.” <br/>\n",
    "        -- David L. Donoho </td>\n",
    "  </tr>\n",
    " </table>\n"
   ]
  },
  {
   "cell_type": "markdown",
   "metadata": {
    "slideshow": {
     "slide_type": "subslide"
    }
   },
   "source": [
    "## 开源研究\n",
    "<br/>\n",
    "\n",
    "<table>\n",
    "  <tr>\n",
    "    <td><img src=\"./figs/fomel.jpeg\" width=\"2000\" /></td>\n",
    "    <td>“Despite our poor ability to get new adherents to the philosophy of reproducible research, we continued producing maybe 800 pages a year of documents in signal and image processing, steadily honing our skills at doing so. Although I always made the claim (which was true) that reproducibility was essential to pass wisdom on to the next generation, our experience was always that the most likely recipient would be the author herself at a later stage of life.” <br/>\n",
    "        -- Sergey Fomel, 2009 </td>\n",
    "  </tr>\n",
    " </table>\n"
   ]
  },
  {
   "cell_type": "markdown",
   "metadata": {
    "slideshow": {
     "slide_type": "slide"
    }
   },
   "source": [
    "## [Madagascar](https://www.reproducibility.org)\n",
    "<br/>\n",
    "\n",
    "\n",
    "<center><img src=\"./figs/madagascar.jpg\" width=\"800\" /></center>\n"
   ]
  },
  {
   "cell_type": "markdown",
   "metadata": {
    "slideshow": {
     "slide_type": "subslide"
    }
   },
   "source": [
    "## [Madagascar](https://www.reproducibility.org)\n",
    "<br/>\n",
    "\n",
    "<table>\n",
    "  <tr>\n",
    "    <td><img src=\"./figs/pyramid1.jpg\" width=\"400\" /></td>\n",
    "    <td><img src=\"./figs/pyramid2.jpg\" width=\"400\" /></td>\n",
    "    <td><img src=\"./figs/pyramid3.jpg\" width=\"450\" /></td>\n",
    "  </tr>\n",
    " </table>\n"
   ]
  },
  {
   "cell_type": "markdown",
   "metadata": {
    "slideshow": {
     "slide_type": "subslide"
    }
   },
   "source": [
    "## [Madagascar安装](https://www.reproducibility.org/wiki/Installation)\n",
    "<br/>\n",
    "\n",
    "- `git clone https://github.com/ahay/src RSFSRC`\n",
    "- `./configure --prefix=/directory/where/you/want/madagascar/installed`\n",
    "- `make install`\n",
    "- `source ~/RSFSRC/share/madagascar/etc/env.sh`\n",
    "- `export DATAPATH=~/RSFDATA/`\n",
    "\n"
   ]
  },
  {
   "cell_type": "markdown",
   "metadata": {
    "slideshow": {
     "slide_type": "slide"
    }
   },
   "source": [
    "## 高性能计算\n",
    "<br/>\n",
    "<font size=6.5>\n",
    "    \n",
    "- Python may not be the optimal language when dealing with large-scale 3D geophysical computing problems, it is highly desirable to develop **parallel computing** solutions. \n",
    "\n",
    "- In this course we will begin to explore these more advanced concepts using the **OpenMP, MPI and CUDA**. \n",
    "\n",
    "- We hope this course will assist students in designing better geophysical computing solutions for read-world problems that will facilitate achievement of the student's geophysical research and data processing goals.\n",
    "    </font>"
   ]
  },
  {
   "cell_type": "code",
   "execution_count": 1,
   "metadata": {
    "slideshow": {
     "slide_type": "subslide"
    }
   },
   "outputs": [
    {
     "name": "stderr",
     "output_type": "stream",
     "text": [
      "/Users/wangyufeng/opt/anaconda3/lib/python3.8/site-packages/IPython/core/display.py:724: UserWarning: Consider using IPython.display.IFrame instead\n",
      "  warnings.warn(\"Consider using IPython.display.IFrame instead\")\n"
     ]
    },
    {
     "data": {
      "text/html": [
       "<iframe width=\"560\" height=\"315\" src=\"https://www.youtube-nocookie.com/embed/1wOxSfESmsY\" title=\"YouTube video player\" frameborder=\"0\" allow=\"accelerometer; autoplay; clipboard-write; encrypted-media; gyroscope; picture-in-picture\" allowfullscreen></iframe>"
      ],
      "text/plain": [
       "<IPython.core.display.HTML object>"
      ]
     },
     "execution_count": 1,
     "metadata": {},
     "output_type": "execute_result"
    }
   ],
   "source": [
    "from IPython.display import HTML\n",
    "HTML('<iframe width=\"560\" height=\"315\" src=\"https://www.youtube-nocookie.com/embed/1wOxSfESmsY\" title=\"YouTube video player\" frameborder=\"0\" allow=\"accelerometer; autoplay; clipboard-write; encrypted-media; gyroscope; picture-in-picture\" allowfullscreen></iframe>')"
   ]
  },
  {
   "cell_type": "markdown",
   "metadata": {
    "slideshow": {
     "slide_type": "slide"
    }
   },
   "source": [
    "## 课程内容\n",
    "\n",
    "<font size=6>\n",
    "    \n",
    "* 计算地球物理的基础: \n",
    "    * **Linux工作环境和远程服务器**\n",
    "    * **地球物理高性能并行计算**\n",
    "      \n",
    "* 数值计算方法求解偏微分方程: \n",
    "    * **偏微分方程与数值离散**\n",
    "    * **椭圆型偏微分方程与数值计算**\n",
    "    * **抛物型偏微分方程与数值计算**\n",
    "    * **双曲型偏微分方程与数值计算** \n",
    "    \n",
    "* 计算地球物理方法的应用\n",
    "    * **地球物理线性反演问题**\n",
    "    </font>"
   ]
  },
  {
   "cell_type": "markdown",
   "metadata": {
    "slideshow": {
     "slide_type": "slide"
    }
   },
   "source": [
    "# 参考资料\n",
    "<br/>\n",
    "<font size=5>\n",
    "    \n",
    "* [**Madagascar**](https://reproducibility.org/wiki/Main_Page) is an open-source software package for multidimensional data analysis and reproducible computational experiments.\n",
    "* [**SeismicUnix**](https://en.wikipedia.org/wiki/Seismic_Unix) is an open source seismic utilities package which was supported by the Center for Wave Phenomena (CWP) at the Colorado School of Mines (CSM). \n",
    "* [**CIG**](https://geodynamics.org/cig/) is a community-driven organization that advances Earth science by developing and disseminating software for geophysics and related fields.\n",
    "* [**COMPUTATIONAL SEISMOLOGY: A PRACTICAL INTRODUCTION**](http://www.computational-seismology.org/) is an introductory text to a range of numerical methods used today to simulate time-dependent processes in Earth science, physics, engineering, and many other fields.\n",
    "* [**GPGN535**](https://github.com/jshragge/GPGN535) This course develops the principles of geophysical computing in the context of simulating and validating numerical solutions to the types of partial differential equations commonly found in geophysical investigations.\n",
    "    </font>"
   ]
  },
  {
   "cell_type": "markdown",
   "metadata": {
    "slideshow": {
     "slide_type": "slide"
    }
   },
   "source": [
    "# 下节课预告\n",
    "\n",
    "\n",
    "<center><img src=\"./figs/linux_variants.png\" style=\"float: center; height:400px\" /><center>"
   ]
  }
 ],
 "metadata": {
  "celltoolbar": "Slideshow",
  "kernelspec": {
   "display_name": "Python 3 (ipykernel)",
   "language": "python",
   "name": "python3"
  },
  "language_info": {
   "codemirror_mode": {
    "name": "ipython",
    "version": 3
   },
   "file_extension": ".py",
   "mimetype": "text/x-python",
   "name": "python",
   "nbconvert_exporter": "python",
   "pygments_lexer": "ipython3",
   "version": "3.8.8"
  },
  "toc": {
   "base_numbering": 1,
   "nav_menu": {},
   "number_sections": true,
   "sideBar": true,
   "skip_h1_title": false,
   "title_cell": "Table of Contents",
   "title_sidebar": "Contents",
   "toc_cell": false,
   "toc_position": {},
   "toc_section_display": true,
   "toc_window_display": false
  }
 },
 "nbformat": 4,
 "nbformat_minor": 2
}
