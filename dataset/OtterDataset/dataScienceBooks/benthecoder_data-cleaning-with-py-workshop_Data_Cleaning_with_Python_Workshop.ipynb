{
  "nbformat": 4,
  "nbformat_minor": 0,
  "metadata": {
    "colab": {
      "name": "Data Cleaning with Python Workshop.ipynb",
      "provenance": [],
      "collapsed_sections": []
    },
    "kernelspec": {
      "name": "python3",
      "display_name": "Python 3"
    },
    "language_info": {
      "name": "python"
    }
  },
  "cells": [
    {
      "cell_type": "markdown",
      "metadata": {
        "id": "QNIdiGfl7W3U"
      },
      "source": [
        "# Data Cleaning with Python workshop\n",
        "\n",
        "by: Benedict Neo\n",
        "date: 19/07/2021"
      ]
    },
    {
      "cell_type": "markdown",
      "metadata": {
        "id": "rDIALHauqzGu"
      },
      "source": [
        "## Load libraries"
      ]
    },
    {
      "cell_type": "code",
      "metadata": {
        "id": "MY3TiCty7uVP"
      },
      "source": [
        "import pandas as pd\n",
        "import numpy as np\n",
        "import matplotlib.pyplot as plt\n",
        "import seaborn as sns\n",
        "\n",
        "# make plot show up without plt.show()\n",
        "%matplotlib inline\n",
        "\n",
        "# plot configurations\n",
        "plt.rcParams[\"figure.figsize\"] = (10, 8) \n",
        "plt.style.use('fivethirtyeight')\n",
        "\n",
        "# date time library\n",
        "import datetime as dt"
      ],
      "execution_count": null,
      "outputs": []
    },
    {
      "cell_type": "markdown",
      "metadata": {
        "id": "cU1SjmwuzUU5"
      },
      "source": [
        "## Helper functions"
      ]
    },
    {
      "cell_type": "code",
      "metadata": {
        "id": "UlXnUV9Wy0OK"
      },
      "source": [
        "def missing_cols(df):\n",
        "    '''\n",
        "    prints out columns with its amount of missing values with its %\n",
        "\n",
        "    eg. column_A => 100 [10%]\n",
        "    \n",
        "    the above means column_A has 100 missing values, 10% of the entire column \n",
        "    '''\n",
        "\n",
        "    total = 0\n",
        "    for col in df.columns:\n",
        "        missing_vals = df[col].isnull().sum()\n",
        "        # mean = sum / total\n",
        "        pct = df[col].isnull().mean() * 100 \n",
        "        if missing_vals != 0:\n",
        "          print('{} => {} [{}%]'.format(col, df[col].isnull().sum(), round(pct, 2)))\n",
        "        total += missing_vals\n",
        "    \n",
        "    if total == 0:\n",
        "        print(\"no missing values left 🎉 \")\n",
        "\n",
        "def get_memory(df):\n",
        "  \"\"\" prints out size of data frame in MB \"\"\"\n",
        "  print(f\"{round(df.memory_usage().sum() / 1000000, 2)} MB\")"
      ],
      "execution_count": null,
      "outputs": []
    },
    {
      "cell_type": "markdown",
      "metadata": {
        "id": "qnGfIdZqq3KF"
      },
      "source": [
        "## Load data"
      ]
    },
    {
      "cell_type": "code",
      "metadata": {
        "id": "Tr3ZGVo7vu3a"
      },
      "source": [
        "# data from github repo: https://github.com/benthecoder/data-cleaning-with-py-workshop\n",
        "url = 'https://raw.githubusercontent.com/benthecoder/data-cleaning-with-py-workshop/main/dirty_AB_NYC_2019.csv'\n",
        "\n",
        "df = pd.read_csv(url)"
      ],
      "execution_count": null,
      "outputs": []
    },
    {
      "cell_type": "markdown",
      "metadata": {
        "id": "aRqQRaKTq4Y2"
      },
      "source": [
        "### data frame shape \n"
      ]
    },
    {
      "cell_type": "code",
      "metadata": {
        "id": "TOND6uRpT-PF",
        "colab": {
          "base_uri": "https://localhost:8080/"
        },
        "outputId": "0abda99f-0cb3-48bc-f9df-67c2f460c51c"
      },
      "source": [
        "df.shape # (no. of rows, no. of columns)"
      ],
      "execution_count": null,
      "outputs": [
        {
          "output_type": "execute_result",
          "data": {
            "text/plain": [
              "(48896, 16)"
            ]
          },
          "metadata": {
            "tags": []
          },
          "execution_count": 4
        }
      ]
    },
    {
      "cell_type": "markdown",
      "metadata": {
        "id": "D7nH_as11OaG"
      },
      "source": [
        "### data frame summary"
      ]
    },
    {
      "cell_type": "code",
      "metadata": {
        "id": "qGSud0K31NWM",
        "colab": {
          "base_uri": "https://localhost:8080/"
        },
        "outputId": "76ff36ea-c62a-4026-8b8d-5d227daff414"
      },
      "source": [
        "df.info()"
      ],
      "execution_count": null,
      "outputs": [
        {
          "output_type": "stream",
          "text": [
            "<class 'pandas.core.frame.DataFrame'>\n",
            "RangeIndex: 48896 entries, 0 to 48895\n",
            "Data columns (total 16 columns):\n",
            " #   Column                          Non-Null Count  Dtype  \n",
            "---  ------                          --------------  -----  \n",
            " 0   id                              48896 non-null  int64  \n",
            " 1   NAME                            48880 non-null  object \n",
            " 2   host id                         48896 non-null  int64  \n",
            " 3   host name                       48875 non-null  object \n",
            " 4   neighbourhood group             48896 non-null  object \n",
            " 5   neighbourhood                   48896 non-null  object \n",
            " 6   latitude                        48896 non-null  float64\n",
            " 7   longitude                       48896 non-null  float64\n",
            " 8   room type                       48896 non-null  object \n",
            " 9   price                           48896 non-null  object \n",
            " 10  minimum nights                  48896 non-null  int64  \n",
            " 11  number of reviews               48896 non-null  int64  \n",
            " 12  last review                     38844 non-null  object \n",
            " 13  reviews per month               38844 non-null  float64\n",
            " 14  calculated host listings count  48896 non-null  int64  \n",
            " 15  availability 365                48896 non-null  int64  \n",
            "dtypes: float64(3), int64(6), object(7)\n",
            "memory usage: 6.0+ MB\n"
          ],
          "name": "stdout"
        }
      ]
    },
    {
      "cell_type": "markdown",
      "metadata": {
        "id": "YsJJwoxuSGGb"
      },
      "source": [
        "### data frame data types"
      ]
    },
    {
      "cell_type": "code",
      "metadata": {
        "id": "gL1MHJNm13VG",
        "colab": {
          "base_uri": "https://localhost:8080/"
        },
        "outputId": "028fa2f4-9e6e-464f-c7cb-993486fda4c4"
      },
      "source": [
        "df.dtypes"
      ],
      "execution_count": null,
      "outputs": [
        {
          "output_type": "execute_result",
          "data": {
            "text/plain": [
              "id                                  int64\n",
              "NAME                               object\n",
              "host id                             int64\n",
              "host name                          object\n",
              "neighbourhood group                object\n",
              "neighbourhood                      object\n",
              "latitude                          float64\n",
              "longitude                         float64\n",
              "room type                          object\n",
              "price                              object\n",
              "minimum nights                      int64\n",
              "number of reviews                   int64\n",
              "last review                        object\n",
              "reviews per month                 float64\n",
              "calculated host listings count      int64\n",
              "availability 365                    int64\n",
              "dtype: object"
            ]
          },
          "metadata": {
            "tags": []
          },
          "execution_count": 7
        }
      ]
    },
    {
      "cell_type": "markdown",
      "metadata": {
        "id": "eQROr2FMsy5t"
      },
      "source": [
        "### First 5 rows of data"
      ]
    },
    {
      "cell_type": "code",
      "metadata": {
        "id": "TeSPCN8QrFcP",
        "colab": {
          "base_uri": "https://localhost:8080/",
          "height": 464
        },
        "outputId": "39f942ad-f44c-497c-a449-57950c6ff40c"
      },
      "source": [
        "df.head()"
      ],
      "execution_count": null,
      "outputs": [
        {
          "output_type": "execute_result",
          "data": {
            "text/html": [
              "<div>\n",
              "<style scoped>\n",
              "    .dataframe tbody tr th:only-of-type {\n",
              "        vertical-align: middle;\n",
              "    }\n",
              "\n",
              "    .dataframe tbody tr th {\n",
              "        vertical-align: top;\n",
              "    }\n",
              "\n",
              "    .dataframe thead th {\n",
              "        text-align: right;\n",
              "    }\n",
              "</style>\n",
              "<table border=\"1\" class=\"dataframe\">\n",
              "  <thead>\n",
              "    <tr style=\"text-align: right;\">\n",
              "      <th></th>\n",
              "      <th>id</th>\n",
              "      <th>NAME</th>\n",
              "      <th>host id</th>\n",
              "      <th>host name</th>\n",
              "      <th>neighbourhood group</th>\n",
              "      <th>neighbourhood</th>\n",
              "      <th>latitude</th>\n",
              "      <th>longitude</th>\n",
              "      <th>room type</th>\n",
              "      <th>price</th>\n",
              "      <th>minimum nights</th>\n",
              "      <th>number of reviews</th>\n",
              "      <th>last review</th>\n",
              "      <th>reviews per month</th>\n",
              "      <th>calculated host listings count</th>\n",
              "      <th>availability 365</th>\n",
              "    </tr>\n",
              "  </thead>\n",
              "  <tbody>\n",
              "    <tr>\n",
              "      <th>0</th>\n",
              "      <td>2539</td>\n",
              "      <td>Clean &amp; quiet apt home by the park</td>\n",
              "      <td>2787</td>\n",
              "      <td>John</td>\n",
              "      <td>Brooklyn</td>\n",
              "      <td>Kensington</td>\n",
              "      <td>40.64749</td>\n",
              "      <td>-73.97237</td>\n",
              "      <td>Private room</td>\n",
              "      <td>$149</td>\n",
              "      <td>1</td>\n",
              "      <td>9</td>\n",
              "      <td>2018-10-19</td>\n",
              "      <td>0.21</td>\n",
              "      <td>6</td>\n",
              "      <td>365</td>\n",
              "    </tr>\n",
              "    <tr>\n",
              "      <th>1</th>\n",
              "      <td>2595</td>\n",
              "      <td>Skylit Midtown Castle</td>\n",
              "      <td>2845</td>\n",
              "      <td>Jennifer</td>\n",
              "      <td>Manhattan</td>\n",
              "      <td>Midtown</td>\n",
              "      <td>40.75362</td>\n",
              "      <td>-73.98377</td>\n",
              "      <td>Entire home/apt</td>\n",
              "      <td>$225</td>\n",
              "      <td>1</td>\n",
              "      <td>45</td>\n",
              "      <td>2019-05-21</td>\n",
              "      <td>0.38</td>\n",
              "      <td>2</td>\n",
              "      <td>355</td>\n",
              "    </tr>\n",
              "    <tr>\n",
              "      <th>2</th>\n",
              "      <td>3647</td>\n",
              "      <td>THE VILLAGE OF HARLEM....NEW YORK !</td>\n",
              "      <td>4632</td>\n",
              "      <td>Elisabeth</td>\n",
              "      <td>Manhattan</td>\n",
              "      <td>Harlem</td>\n",
              "      <td>40.80902</td>\n",
              "      <td>-73.94190</td>\n",
              "      <td>Private room</td>\n",
              "      <td>$150</td>\n",
              "      <td>3</td>\n",
              "      <td>0</td>\n",
              "      <td>NaN</td>\n",
              "      <td>NaN</td>\n",
              "      <td>1</td>\n",
              "      <td>365</td>\n",
              "    </tr>\n",
              "    <tr>\n",
              "      <th>3</th>\n",
              "      <td>3831</td>\n",
              "      <td>Cozy Entire Floor of Brownstone</td>\n",
              "      <td>4869</td>\n",
              "      <td>LisaRoxanne</td>\n",
              "      <td>Brooklyn</td>\n",
              "      <td>Clinton Hill</td>\n",
              "      <td>40.68514</td>\n",
              "      <td>-73.95976</td>\n",
              "      <td>Entire home/apt</td>\n",
              "      <td>$89</td>\n",
              "      <td>1</td>\n",
              "      <td>270</td>\n",
              "      <td>2019-07-05</td>\n",
              "      <td>4.64</td>\n",
              "      <td>1</td>\n",
              "      <td>194</td>\n",
              "    </tr>\n",
              "    <tr>\n",
              "      <th>4</th>\n",
              "      <td>5022</td>\n",
              "      <td>Entire Apt: Spacious Studio/Loft by central park</td>\n",
              "      <td>7192</td>\n",
              "      <td>Laura</td>\n",
              "      <td>Manhattan</td>\n",
              "      <td>East Harlem</td>\n",
              "      <td>40.79851</td>\n",
              "      <td>-73.94399</td>\n",
              "      <td>Entire home/apt</td>\n",
              "      <td>$80</td>\n",
              "      <td>10</td>\n",
              "      <td>9</td>\n",
              "      <td>2018-11-19</td>\n",
              "      <td>0.10</td>\n",
              "      <td>1</td>\n",
              "      <td>0</td>\n",
              "    </tr>\n",
              "  </tbody>\n",
              "</table>\n",
              "</div>"
            ],
            "text/plain": [
              "     id  ... availability 365\n",
              "0  2539  ...              365\n",
              "1  2595  ...              355\n",
              "2  3647  ...              365\n",
              "3  3831  ...              194\n",
              "4  5022  ...                0\n",
              "\n",
              "[5 rows x 16 columns]"
            ]
          },
          "metadata": {
            "tags": []
          },
          "execution_count": 8
        }
      ]
    },
    {
      "cell_type": "markdown",
      "metadata": {
        "id": "224xqj_zlQDX"
      },
      "source": [
        "### First row of data"
      ]
    },
    {
      "cell_type": "code",
      "metadata": {
        "id": "xBIJrpFkh3Bz",
        "colab": {
          "base_uri": "https://localhost:8080/",
          "height": 272
        },
        "outputId": "98d8846f-622b-49ba-dfeb-7eafbc68ee00"
      },
      "source": [
        "df.head(n=1)"
      ],
      "execution_count": null,
      "outputs": [
        {
          "output_type": "execute_result",
          "data": {
            "text/html": [
              "<div>\n",
              "<style scoped>\n",
              "    .dataframe tbody tr th:only-of-type {\n",
              "        vertical-align: middle;\n",
              "    }\n",
              "\n",
              "    .dataframe tbody tr th {\n",
              "        vertical-align: top;\n",
              "    }\n",
              "\n",
              "    .dataframe thead th {\n",
              "        text-align: right;\n",
              "    }\n",
              "</style>\n",
              "<table border=\"1\" class=\"dataframe\">\n",
              "  <thead>\n",
              "    <tr style=\"text-align: right;\">\n",
              "      <th></th>\n",
              "      <th>id</th>\n",
              "      <th>NAME</th>\n",
              "      <th>host id</th>\n",
              "      <th>host name</th>\n",
              "      <th>neighbourhood group</th>\n",
              "      <th>neighbourhood</th>\n",
              "      <th>latitude</th>\n",
              "      <th>longitude</th>\n",
              "      <th>room type</th>\n",
              "      <th>price</th>\n",
              "      <th>minimum nights</th>\n",
              "      <th>number of reviews</th>\n",
              "      <th>last review</th>\n",
              "      <th>reviews per month</th>\n",
              "      <th>calculated host listings count</th>\n",
              "      <th>availability 365</th>\n",
              "    </tr>\n",
              "  </thead>\n",
              "  <tbody>\n",
              "    <tr>\n",
              "      <th>0</th>\n",
              "      <td>2539</td>\n",
              "      <td>Clean &amp; quiet apt home by the park</td>\n",
              "      <td>2787</td>\n",
              "      <td>John</td>\n",
              "      <td>Brooklyn</td>\n",
              "      <td>Kensington</td>\n",
              "      <td>40.64749</td>\n",
              "      <td>-73.97237</td>\n",
              "      <td>Private room</td>\n",
              "      <td>$149</td>\n",
              "      <td>1</td>\n",
              "      <td>9</td>\n",
              "      <td>2018-10-19</td>\n",
              "      <td>0.21</td>\n",
              "      <td>6</td>\n",
              "      <td>365</td>\n",
              "    </tr>\n",
              "  </tbody>\n",
              "</table>\n",
              "</div>"
            ],
            "text/plain": [
              "     id  ... availability 365\n",
              "0  2539  ...              365\n",
              "\n",
              "[1 rows x 16 columns]"
            ]
          },
          "metadata": {
            "tags": []
          },
          "execution_count": 9
        }
      ]
    },
    {
      "cell_type": "markdown",
      "metadata": {
        "id": "p7lzC3RP2JIx"
      },
      "source": [
        "### Last five rows of data"
      ]
    },
    {
      "cell_type": "code",
      "metadata": {
        "id": "b1KxzMxD0i8I",
        "colab": {
          "base_uri": "https://localhost:8080/",
          "height": 516
        },
        "outputId": "70f58600-72b3-49ee-a78d-c56f465a748b"
      },
      "source": [
        "df.tail()"
      ],
      "execution_count": null,
      "outputs": [
        {
          "output_type": "execute_result",
          "data": {
            "text/html": [
              "<div>\n",
              "<style scoped>\n",
              "    .dataframe tbody tr th:only-of-type {\n",
              "        vertical-align: middle;\n",
              "    }\n",
              "\n",
              "    .dataframe tbody tr th {\n",
              "        vertical-align: top;\n",
              "    }\n",
              "\n",
              "    .dataframe thead th {\n",
              "        text-align: right;\n",
              "    }\n",
              "</style>\n",
              "<table border=\"1\" class=\"dataframe\">\n",
              "  <thead>\n",
              "    <tr style=\"text-align: right;\">\n",
              "      <th></th>\n",
              "      <th>id</th>\n",
              "      <th>NAME</th>\n",
              "      <th>host id</th>\n",
              "      <th>host name</th>\n",
              "      <th>neighbourhood group</th>\n",
              "      <th>neighbourhood</th>\n",
              "      <th>latitude</th>\n",
              "      <th>longitude</th>\n",
              "      <th>room type</th>\n",
              "      <th>price</th>\n",
              "      <th>minimum nights</th>\n",
              "      <th>number of reviews</th>\n",
              "      <th>last review</th>\n",
              "      <th>reviews per month</th>\n",
              "      <th>calculated host listings count</th>\n",
              "      <th>availability 365</th>\n",
              "    </tr>\n",
              "  </thead>\n",
              "  <tbody>\n",
              "    <tr>\n",
              "      <th>48891</th>\n",
              "      <td>36484665</td>\n",
              "      <td>Charming one bedroom - newly renovated rowhouse</td>\n",
              "      <td>8232441</td>\n",
              "      <td>Sabrina</td>\n",
              "      <td>Brooklyn</td>\n",
              "      <td>Bedford-Stuyvesant</td>\n",
              "      <td>40.67853</td>\n",
              "      <td>-73.94995</td>\n",
              "      <td>Private room</td>\n",
              "      <td>$70</td>\n",
              "      <td>2</td>\n",
              "      <td>0</td>\n",
              "      <td>NaN</td>\n",
              "      <td>NaN</td>\n",
              "      <td>2</td>\n",
              "      <td>9</td>\n",
              "    </tr>\n",
              "    <tr>\n",
              "      <th>48892</th>\n",
              "      <td>36485057</td>\n",
              "      <td>Affordable room in Bushwick/East Williamsburg</td>\n",
              "      <td>6570630</td>\n",
              "      <td>Marisol</td>\n",
              "      <td>Brooklyn</td>\n",
              "      <td>Bushwick</td>\n",
              "      <td>40.70184</td>\n",
              "      <td>-73.93317</td>\n",
              "      <td>Private room</td>\n",
              "      <td>$40</td>\n",
              "      <td>4</td>\n",
              "      <td>0</td>\n",
              "      <td>NaN</td>\n",
              "      <td>NaN</td>\n",
              "      <td>2</td>\n",
              "      <td>36</td>\n",
              "    </tr>\n",
              "    <tr>\n",
              "      <th>48893</th>\n",
              "      <td>36485431</td>\n",
              "      <td>Sunny Studio at Historical Neighborhood</td>\n",
              "      <td>23492952</td>\n",
              "      <td>Ilgar &amp; Aysel</td>\n",
              "      <td>Manhattan</td>\n",
              "      <td>Harlem</td>\n",
              "      <td>40.81475</td>\n",
              "      <td>-73.94867</td>\n",
              "      <td>Entire home/apt</td>\n",
              "      <td>$115</td>\n",
              "      <td>10</td>\n",
              "      <td>0</td>\n",
              "      <td>NaN</td>\n",
              "      <td>NaN</td>\n",
              "      <td>1</td>\n",
              "      <td>27</td>\n",
              "    </tr>\n",
              "    <tr>\n",
              "      <th>48894</th>\n",
              "      <td>36485609</td>\n",
              "      <td>43rd St. Time Square-cozy single bed</td>\n",
              "      <td>30985759</td>\n",
              "      <td>Taz</td>\n",
              "      <td>Manhattan</td>\n",
              "      <td>Hell's Kitchen</td>\n",
              "      <td>40.75751</td>\n",
              "      <td>-73.99112</td>\n",
              "      <td>Shared room</td>\n",
              "      <td>$55</td>\n",
              "      <td>1</td>\n",
              "      <td>0</td>\n",
              "      <td>NaN</td>\n",
              "      <td>NaN</td>\n",
              "      <td>6</td>\n",
              "      <td>2</td>\n",
              "    </tr>\n",
              "    <tr>\n",
              "      <th>48895</th>\n",
              "      <td>36487245</td>\n",
              "      <td>Trendy duplex in the very heart of Hell's Kitchen</td>\n",
              "      <td>68119814</td>\n",
              "      <td>Christophe</td>\n",
              "      <td>Manhattan</td>\n",
              "      <td>Hell's Kitchen</td>\n",
              "      <td>40.76404</td>\n",
              "      <td>-73.98933</td>\n",
              "      <td>Private room</td>\n",
              "      <td>$90</td>\n",
              "      <td>7</td>\n",
              "      <td>0</td>\n",
              "      <td>NaN</td>\n",
              "      <td>NaN</td>\n",
              "      <td>1</td>\n",
              "      <td>23</td>\n",
              "    </tr>\n",
              "  </tbody>\n",
              "</table>\n",
              "</div>"
            ],
            "text/plain": [
              "             id  ... availability 365\n",
              "48891  36484665  ...                9\n",
              "48892  36485057  ...               36\n",
              "48893  36485431  ...               27\n",
              "48894  36485609  ...                2\n",
              "48895  36487245  ...               23\n",
              "\n",
              "[5 rows x 16 columns]"
            ]
          },
          "metadata": {
            "tags": []
          },
          "execution_count": 10
        }
      ]
    },
    {
      "cell_type": "markdown",
      "metadata": {
        "id": "ICmjbOlN1HeM"
      },
      "source": [
        "### Randomly sample rows"
      ]
    },
    {
      "cell_type": "code",
      "metadata": {
        "id": "i3yP7FR50KdZ",
        "colab": {
          "base_uri": "https://localhost:8080/",
          "height": 516
        },
        "outputId": "7b6c9eb3-a3ea-4350-b191-11355cb2c4d4"
      },
      "source": [
        "df.sample(n = 5)"
      ],
      "execution_count": null,
      "outputs": [
        {
          "output_type": "execute_result",
          "data": {
            "text/html": [
              "<div>\n",
              "<style scoped>\n",
              "    .dataframe tbody tr th:only-of-type {\n",
              "        vertical-align: middle;\n",
              "    }\n",
              "\n",
              "    .dataframe tbody tr th {\n",
              "        vertical-align: top;\n",
              "    }\n",
              "\n",
              "    .dataframe thead th {\n",
              "        text-align: right;\n",
              "    }\n",
              "</style>\n",
              "<table border=\"1\" class=\"dataframe\">\n",
              "  <thead>\n",
              "    <tr style=\"text-align: right;\">\n",
              "      <th></th>\n",
              "      <th>id</th>\n",
              "      <th>NAME</th>\n",
              "      <th>host id</th>\n",
              "      <th>host name</th>\n",
              "      <th>neighbourhood group</th>\n",
              "      <th>neighbourhood</th>\n",
              "      <th>latitude</th>\n",
              "      <th>longitude</th>\n",
              "      <th>room type</th>\n",
              "      <th>price</th>\n",
              "      <th>minimum nights</th>\n",
              "      <th>number of reviews</th>\n",
              "      <th>last review</th>\n",
              "      <th>reviews per month</th>\n",
              "      <th>calculated host listings count</th>\n",
              "      <th>availability 365</th>\n",
              "    </tr>\n",
              "  </thead>\n",
              "  <tbody>\n",
              "    <tr>\n",
              "      <th>26928</th>\n",
              "      <td>21325658</td>\n",
              "      <td>Room for rent</td>\n",
              "      <td>154375347</td>\n",
              "      <td>Stan</td>\n",
              "      <td>Manhattan</td>\n",
              "      <td>Kips Bay</td>\n",
              "      <td>40.74524</td>\n",
              "      <td>-73.97995</td>\n",
              "      <td>Private room</td>\n",
              "      <td>$75</td>\n",
              "      <td>4</td>\n",
              "      <td>1</td>\n",
              "      <td>2017-10-28</td>\n",
              "      <td>0.05</td>\n",
              "      <td>1</td>\n",
              "      <td>0</td>\n",
              "    </tr>\n",
              "    <tr>\n",
              "      <th>14945</th>\n",
              "      <td>11872337</td>\n",
              "      <td>Spacious loft apt, with plenty of light</td>\n",
              "      <td>3803638</td>\n",
              "      <td>Shai</td>\n",
              "      <td>Brooklyn</td>\n",
              "      <td>Bedford-Stuyvesant</td>\n",
              "      <td>40.69178</td>\n",
              "      <td>-73.95917</td>\n",
              "      <td>Entire home/apt</td>\n",
              "      <td>$99</td>\n",
              "      <td>3</td>\n",
              "      <td>35</td>\n",
              "      <td>2019-07-01</td>\n",
              "      <td>0.90</td>\n",
              "      <td>1</td>\n",
              "      <td>39</td>\n",
              "    </tr>\n",
              "    <tr>\n",
              "      <th>2942</th>\n",
              "      <td>1702032</td>\n",
              "      <td>The Top-Notch Top-Floor</td>\n",
              "      <td>8986314</td>\n",
              "      <td>Stephen</td>\n",
              "      <td>Brooklyn</td>\n",
              "      <td>Greenpoint</td>\n",
              "      <td>40.73370</td>\n",
              "      <td>-73.95427</td>\n",
              "      <td>Private room</td>\n",
              "      <td>$90</td>\n",
              "      <td>1</td>\n",
              "      <td>0</td>\n",
              "      <td>NaN</td>\n",
              "      <td>NaN</td>\n",
              "      <td>1</td>\n",
              "      <td>0</td>\n",
              "    </tr>\n",
              "    <tr>\n",
              "      <th>43084</th>\n",
              "      <td>33431709</td>\n",
              "      <td>Shared apartment by the Central Park</td>\n",
              "      <td>251852817</td>\n",
              "      <td>Owen</td>\n",
              "      <td>Manhattan</td>\n",
              "      <td>East Harlem</td>\n",
              "      <td>40.80073</td>\n",
              "      <td>-73.94328</td>\n",
              "      <td>Shared room</td>\n",
              "      <td>$45</td>\n",
              "      <td>1</td>\n",
              "      <td>17</td>\n",
              "      <td>2019-06-30</td>\n",
              "      <td>5.10</td>\n",
              "      <td>7</td>\n",
              "      <td>72</td>\n",
              "    </tr>\n",
              "    <tr>\n",
              "      <th>47575</th>\n",
              "      <td>35807411</td>\n",
              "      <td>Beautiful private room in 3br apartment!</td>\n",
              "      <td>2367604</td>\n",
              "      <td>Sagi</td>\n",
              "      <td>Queens</td>\n",
              "      <td>Ridgewood</td>\n",
              "      <td>40.70694</td>\n",
              "      <td>-73.91552</td>\n",
              "      <td>Private room</td>\n",
              "      <td>$50</td>\n",
              "      <td>1</td>\n",
              "      <td>0</td>\n",
              "      <td>NaN</td>\n",
              "      <td>NaN</td>\n",
              "      <td>1</td>\n",
              "      <td>67</td>\n",
              "    </tr>\n",
              "  </tbody>\n",
              "</table>\n",
              "</div>"
            ],
            "text/plain": [
              "             id  ... availability 365\n",
              "26928  21325658  ...                0\n",
              "14945  11872337  ...               39\n",
              "2942    1702032  ...                0\n",
              "43084  33431709  ...               72\n",
              "47575  35807411  ...               67\n",
              "\n",
              "[5 rows x 16 columns]"
            ]
          },
          "metadata": {
            "tags": []
          },
          "execution_count": 11
        }
      ]
    },
    {
      "cell_type": "markdown",
      "metadata": {
        "id": "rv4r9ebssu7k"
      },
      "source": [
        "## Rename columns"
      ]
    },
    {
      "cell_type": "code",
      "metadata": {
        "id": "AzpGRpLSrH5V",
        "colab": {
          "base_uri": "https://localhost:8080/"
        },
        "outputId": "c4062234-3279-498c-8cb7-5f2477236c08"
      },
      "source": [
        "# show columns of dataframe\n",
        "df.columns"
      ],
      "execution_count": null,
      "outputs": [
        {
          "output_type": "execute_result",
          "data": {
            "text/plain": [
              "Index(['id', 'NAME', 'host id', 'host name', 'neighbourhood group',\n",
              "       'neighbourhood', 'latitude', 'longitude', 'room type', 'price',\n",
              "       'minimum nights', 'number of reviews', 'last review',\n",
              "       'reviews per month', 'calculated host listings count',\n",
              "       'availability 365'],\n",
              "      dtype='object')"
            ]
          },
          "metadata": {
            "tags": []
          },
          "execution_count": 12
        }
      ]
    },
    {
      "cell_type": "code",
      "metadata": {
        "id": "c1mUuiiL23m-",
        "colab": {
          "base_uri": "https://localhost:8080/"
        },
        "outputId": "80e37819-a8c1-4ec1-b8b4-d335a3b41dc4"
      },
      "source": [
        "df.columns.to_list() # turn into list"
      ],
      "execution_count": null,
      "outputs": [
        {
          "output_type": "execute_result",
          "data": {
            "text/plain": [
              "['id',\n",
              " 'NAME',\n",
              " 'host id',\n",
              " 'host name',\n",
              " 'neighbourhood group',\n",
              " 'neighbourhood',\n",
              " 'latitude',\n",
              " 'longitude',\n",
              " 'room type',\n",
              " 'price',\n",
              " 'minimum nights',\n",
              " 'number of reviews',\n",
              " 'last review',\n",
              " 'reviews per month',\n",
              " 'calculated host listings count',\n",
              " 'availability 365']"
            ]
          },
          "metadata": {
            "tags": []
          },
          "execution_count": 14
        }
      ]
    },
    {
      "cell_type": "markdown",
      "metadata": {
        "id": "3RTkBBQD7bM4"
      },
      "source": [
        "### string methods"
      ]
    },
    {
      "cell_type": "code",
      "metadata": {
        "id": "ZcEfyftBtW1L",
        "colab": {
          "base_uri": "https://localhost:8080/"
        },
        "outputId": "b09d1e6d-dcce-4b86-dcdd-abae387703f9"
      },
      "source": [
        "# replace whitespace with underscore '_'\n",
        "df.columns = df.columns.str.replace(' ', \"_\")\n",
        "\n",
        "# lower case column names\n",
        "df.columns = df.columns.str.lower() \n",
        "\n",
        "df.columns"
      ],
      "execution_count": null,
      "outputs": [
        {
          "output_type": "execute_result",
          "data": {
            "text/plain": [
              "Index(['id', 'name', 'host_id', 'host_name', 'neighbourhood_group',\n",
              "       'neighbourhood', 'latitude', 'longitude', 'room_type', 'price',\n",
              "       'minimum_nights', 'number_of_reviews', 'last_review',\n",
              "       'reviews_per_month', 'calculated_host_listings_count',\n",
              "       'availability_365'],\n",
              "      dtype='object')"
            ]
          },
          "metadata": {
            "tags": []
          },
          "execution_count": 15
        }
      ]
    },
    {
      "cell_type": "markdown",
      "metadata": {
        "id": "MxqIUh3c7eBn"
      },
      "source": [
        "### pandas rename"
      ]
    },
    {
      "cell_type": "code",
      "metadata": {
        "id": "_-U4o250tGAL",
        "colab": {
          "base_uri": "https://localhost:8080/"
        },
        "outputId": "db038763-aa03-458f-b017-9c1e5de43934"
      },
      "source": [
        "# {'original_name' : 'new_name'}\n",
        "new_names = {'name':'listing_name', \n",
        "             'latitude':'lat', \n",
        "             'longitude':'long'}\n",
        "\n",
        "df.rename(columns = new_names).columns # only returning output\n",
        "\n",
        "# without inplace=True, not updating our dataframe\n",
        "df.columns"
      ],
      "execution_count": null,
      "outputs": [
        {
          "output_type": "execute_result",
          "data": {
            "text/plain": [
              "Index(['id', 'name', 'host_id', 'host_name', 'neighbourhood_group',\n",
              "       'neighbourhood', 'latitude', 'longitude', 'room_type', 'price',\n",
              "       'minimum_nights', 'number_of_reviews', 'last_review',\n",
              "       'reviews_per_month', 'calculated_host_listings_count',\n",
              "       'availability_365'],\n",
              "      dtype='object')"
            ]
          },
          "metadata": {
            "tags": []
          },
          "execution_count": 20
        }
      ]
    },
    {
      "cell_type": "markdown",
      "metadata": {
        "id": "gwSif4Vr7h_e"
      },
      "source": [
        "### inplace = True\n",
        "\n",
        "- updates the data frame itself instead of returning an output"
      ]
    },
    {
      "cell_type": "code",
      "metadata": {
        "id": "KQdWE2D9xD7Q",
        "colab": {
          "base_uri": "https://localhost:8080/"
        },
        "outputId": "34668d61-fe3e-42f6-f7d9-8266066407c1"
      },
      "source": [
        "df.rename(columns = new_names, inplace = True)\n",
        "df.columns"
      ],
      "execution_count": null,
      "outputs": [
        {
          "output_type": "execute_result",
          "data": {
            "text/plain": [
              "Index(['id', 'listing_name', 'host_id', 'host_name', 'neighbourhood_group',\n",
              "       'neighbourhood', 'lat', 'long', 'room_type', 'price', 'minimum_nights',\n",
              "       'number_of_reviews', 'last_review', 'reviews_per_month',\n",
              "       'calculated_host_listings_count', 'availability_365'],\n",
              "      dtype='object')"
            ]
          },
          "metadata": {
            "tags": []
          },
          "execution_count": 21
        }
      ]
    },
    {
      "cell_type": "markdown",
      "metadata": {
        "id": "xw3pKMAaBtul"
      },
      "source": [
        "A cool library for data cleaning is pyjanitor which provides easy implementations for many data cleaning tasks, check it out [here](https://pyjanitor.readthedocs.io/)"
      ]
    },
    {
      "cell_type": "markdown",
      "metadata": {
        "id": "mkvN-xoLydRd"
      },
      "source": [
        "## Remove labels from values\n",
        "\n",
        "- dollar sign -> Mixture of string and integer\n",
        "- cause problems when filling in missing values or converting data types\n",
        "- remove dollar sign and labels similar\n",
        "\n"
      ]
    },
    {
      "cell_type": "code",
      "metadata": {
        "id": "NshgknrzkmYE",
        "colab": {
          "base_uri": "https://localhost:8080/"
        },
        "outputId": "bf74dae5-9302-458f-b936-df32b166058d"
      },
      "source": [
        "# grab the price column\n",
        "df['price']"
      ],
      "execution_count": null,
      "outputs": [
        {
          "output_type": "execute_result",
          "data": {
            "text/plain": [
              "0        $149\n",
              "1        $225\n",
              "2        $150\n",
              "3         $89\n",
              "4         $80\n",
              "         ... \n",
              "48891     $70\n",
              "48892     $40\n",
              "48893    $115\n",
              "48894     $55\n",
              "48895     $90\n",
              "Name: price, Length: 48896, dtype: object"
            ]
          },
          "metadata": {
            "tags": []
          },
          "execution_count": 22
        }
      ]
    },
    {
      "cell_type": "code",
      "metadata": {
        "id": "FXEyBl9FydFm",
        "colab": {
          "base_uri": "https://localhost:8080/"
        },
        "outputId": "84d74da9-9818-44a2-d1f3-b64f492e3c7e"
      },
      "source": [
        "df['price'] = df['price'].str.replace(\"$\", \"\")\n",
        "df['price'].head(3)"
      ],
      "execution_count": null,
      "outputs": [
        {
          "output_type": "execute_result",
          "data": {
            "text/plain": [
              "0    149\n",
              "1    225\n",
              "2    150\n",
              "Name: price, dtype: object"
            ]
          },
          "metadata": {
            "tags": []
          },
          "execution_count": 23
        }
      ]
    },
    {
      "cell_type": "code",
      "metadata": {
        "id": "CUu8PJSPJatP",
        "colab": {
          "base_uri": "https://localhost:8080/"
        },
        "outputId": "dadf4026-8982-4117-df47-c8cb30abecc9"
      },
      "source": [
        "# check price column data type\n",
        "df['price'].dtype"
      ],
      "execution_count": null,
      "outputs": [
        {
          "output_type": "execute_result",
          "data": {
            "text/plain": [
              "dtype('O')"
            ]
          },
          "metadata": {
            "tags": []
          },
          "execution_count": 24
        }
      ]
    },
    {
      "cell_type": "markdown",
      "metadata": {
        "id": "S3rssiXpJcjv"
      },
      "source": [
        "## Converting data types\n",
        "\n",
        "![dtypes](https://external-content.duckduckgo.com/iu/?u=https%3A%2F%2Fcdn-images-1.medium.com%2Fmax%2F2000%2F1*wrXMq7iTWih7lsBBRQFxXg.png&f=1&nofb=1)\n",
        "\n",
        "[Overview here](https://pbpython.com/pandas_dtypes.html)"
      ]
    },
    {
      "cell_type": "markdown",
      "metadata": {
        "id": "r7HsAlNPT8Ym"
      },
      "source": [
        "### Converting to numeric"
      ]
    },
    {
      "cell_type": "code",
      "metadata": {
        "id": "-WGXOfXdJhpf",
        "colab": {
          "base_uri": "https://localhost:8080/"
        },
        "outputId": "cf8fec81-73b9-423c-f8a0-67ec4d01f3ec"
      },
      "source": [
        "df['price'] = pd.to_numeric(df['price'])\n",
        "df['price'].dtype"
      ],
      "execution_count": null,
      "outputs": [
        {
          "output_type": "execute_result",
          "data": {
            "text/plain": [
              "dtype('int64')"
            ]
          },
          "metadata": {
            "tags": []
          },
          "execution_count": 25
        }
      ]
    },
    {
      "cell_type": "code",
      "metadata": {
        "id": "3RsfaehAm-U1",
        "colab": {
          "base_uri": "https://localhost:8080/",
          "height": 134
        },
        "outputId": "b383b099-c302-4eb9-9b58-7a47ed327b9f"
      },
      "source": [
        "df.head(1)"
      ],
      "execution_count": null,
      "outputs": [
        {
          "output_type": "execute_result",
          "data": {
            "text/html": [
              "<div>\n",
              "<style scoped>\n",
              "    .dataframe tbody tr th:only-of-type {\n",
              "        vertical-align: middle;\n",
              "    }\n",
              "\n",
              "    .dataframe tbody tr th {\n",
              "        vertical-align: top;\n",
              "    }\n",
              "\n",
              "    .dataframe thead th {\n",
              "        text-align: right;\n",
              "    }\n",
              "</style>\n",
              "<table border=\"1\" class=\"dataframe\">\n",
              "  <thead>\n",
              "    <tr style=\"text-align: right;\">\n",
              "      <th></th>\n",
              "      <th>id</th>\n",
              "      <th>listing_name</th>\n",
              "      <th>host_id</th>\n",
              "      <th>host_name</th>\n",
              "      <th>neighbourhood_group</th>\n",
              "      <th>neighbourhood</th>\n",
              "      <th>lat</th>\n",
              "      <th>long</th>\n",
              "      <th>room_type</th>\n",
              "      <th>price</th>\n",
              "      <th>minimum_nights</th>\n",
              "      <th>number_of_reviews</th>\n",
              "      <th>last_review</th>\n",
              "      <th>reviews_per_month</th>\n",
              "      <th>calculated_host_listings_count</th>\n",
              "      <th>availability_365</th>\n",
              "    </tr>\n",
              "  </thead>\n",
              "  <tbody>\n",
              "    <tr>\n",
              "      <th>0</th>\n",
              "      <td>2539</td>\n",
              "      <td>Clean &amp; quiet apt home by the park</td>\n",
              "      <td>2787</td>\n",
              "      <td>John</td>\n",
              "      <td>Brooklyn</td>\n",
              "      <td>Kensington</td>\n",
              "      <td>40.64749</td>\n",
              "      <td>-73.97237</td>\n",
              "      <td>Private room</td>\n",
              "      <td>149</td>\n",
              "      <td>1</td>\n",
              "      <td>9</td>\n",
              "      <td>2018-10-19</td>\n",
              "      <td>0.21</td>\n",
              "      <td>6</td>\n",
              "      <td>365</td>\n",
              "    </tr>\n",
              "  </tbody>\n",
              "</table>\n",
              "</div>"
            ],
            "text/plain": [
              "     id  ... availability_365\n",
              "0  2539  ...              365\n",
              "\n",
              "[1 rows x 16 columns]"
            ]
          },
          "metadata": {
            "tags": []
          },
          "execution_count": 26
        }
      ]
    },
    {
      "cell_type": "code",
      "metadata": {
        "id": "wRM5ckGF9j52",
        "colab": {
          "base_uri": "https://localhost:8080/"
        },
        "outputId": "90905b7a-c209-40c1-8dc8-a7019443b24e"
      },
      "source": [
        "# view dtype of all columns\n",
        "df.dtypes"
      ],
      "execution_count": null,
      "outputs": [
        {
          "output_type": "execute_result",
          "data": {
            "text/plain": [
              "id                                  int64\n",
              "listing_name                       object\n",
              "host_id                             int64\n",
              "host_name                          object\n",
              "neighbourhood_group                object\n",
              "neighbourhood                      object\n",
              "lat                               float64\n",
              "long                              float64\n",
              "room_type                          object\n",
              "price                               int64\n",
              "minimum_nights                      int64\n",
              "number_of_reviews                   int64\n",
              "last_review                        object\n",
              "reviews_per_month                 float64\n",
              "calculated_host_listings_count      int64\n",
              "availability_365                    int64\n",
              "dtype: object"
            ]
          },
          "metadata": {
            "tags": []
          },
          "execution_count": 27
        }
      ]
    },
    {
      "cell_type": "markdown",
      "metadata": {
        "id": "K-Ez79xJUQq5"
      },
      "source": [
        "### Convert to category\n",
        "\n",
        "- `neighbourhood_group`\n",
        "- `neighbourhood`\n",
        "- `room_type`\n",
        "\n",
        "Guidelines for conversion\n",
        "- to reduce memory and increase performance with operations related to categorical data\n",
        "- make sure data is clean before converting it\n",
        "\n",
        "[More on this](https://pbpython.com/pandas_dtypes_cat.html)"
      ]
    },
    {
      "cell_type": "code",
      "metadata": {
        "id": "1a-ZFG9gVwWp",
        "colab": {
          "base_uri": "https://localhost:8080/"
        },
        "outputId": "af235688-5108-4d55-d4f8-d0cb89fb6fac"
      },
      "source": [
        "# check unique values in categorical column\n",
        "df['neighbourhood_group'].unique()"
      ],
      "execution_count": null,
      "outputs": [
        {
          "output_type": "execute_result",
          "data": {
            "text/plain": [
              "array(['Brooklyn', 'Manhattan', 'brookln', 'manhatan', 'Queens',\n",
              "       'Staten Island', 'Bronx'], dtype=object)"
            ]
          },
          "metadata": {
            "tags": []
          },
          "execution_count": 28
        }
      ]
    },
    {
      "cell_type": "code",
      "metadata": {
        "id": "rylmsc8TV--f",
        "colab": {
          "base_uri": "https://localhost:8080/"
        },
        "outputId": "b4901b38-38e1-469d-d4f9-ca2100974fe7"
      },
      "source": [
        "# show amount of categories in column\n",
        "len(df['neighbourhood'].unique())"
      ],
      "execution_count": null,
      "outputs": [
        {
          "output_type": "execute_result",
          "data": {
            "text/plain": [
              "221"
            ]
          },
          "metadata": {
            "tags": []
          },
          "execution_count": 29
        }
      ]
    },
    {
      "cell_type": "code",
      "metadata": {
        "id": "NvIgpAc_WBfY",
        "colab": {
          "base_uri": "https://localhost:8080/"
        },
        "outputId": "9da5fdca-1495-40fa-b4c7-0185db4299e9"
      },
      "source": [
        "df['room_type'].unique()"
      ],
      "execution_count": null,
      "outputs": [
        {
          "output_type": "execute_result",
          "data": {
            "text/plain": [
              "array(['Private room', 'Entire home/apt', 'Shared room'], dtype=object)"
            ]
          },
          "metadata": {
            "tags": []
          },
          "execution_count": 30
        }
      ]
    },
    {
      "cell_type": "code",
      "metadata": {
        "id": "SxpBjB17WEex",
        "colab": {
          "base_uri": "https://localhost:8080/"
        },
        "outputId": "68e395a8-93ff-40e0-d4d1-a4c63354af09"
      },
      "source": [
        "get_memory(df)"
      ],
      "execution_count": null,
      "outputs": [
        {
          "output_type": "stream",
          "text": [
            "6.26 MB\n"
          ],
          "name": "stdout"
        }
      ]
    },
    {
      "cell_type": "code",
      "metadata": {
        "id": "7ftAbmnHWDhn"
      },
      "source": [
        "# for categorical data with small amounts of categories, converting them to \n",
        "# dtype category can save memory and make some operations more efficient \n",
        "\n",
        "df['room_type'] = df['room_type'].astype('category')"
      ],
      "execution_count": null,
      "outputs": []
    },
    {
      "cell_type": "code",
      "metadata": {
        "id": "IzLjlr3Vn7lo",
        "colab": {
          "base_uri": "https://localhost:8080/"
        },
        "outputId": "2817fcb9-12db-4df6-94e8-c79e6b54475f"
      },
      "source": [
        "df['room_type'].dtype"
      ],
      "execution_count": null,
      "outputs": [
        {
          "output_type": "execute_result",
          "data": {
            "text/plain": [
              "CategoricalDtype(categories=['Entire home/apt', 'Private room', 'Shared room'], ordered=False)"
            ]
          },
          "metadata": {
            "tags": []
          },
          "execution_count": 33
        }
      ]
    },
    {
      "cell_type": "code",
      "metadata": {
        "id": "3Q2DRCaLWQvR",
        "colab": {
          "base_uri": "https://localhost:8080/"
        },
        "outputId": "3fc03b0e-f743-4948-e78e-ef2c2cea46be"
      },
      "source": [
        "df['room_type'].unique()"
      ],
      "execution_count": null,
      "outputs": [
        {
          "output_type": "execute_result",
          "data": {
            "text/plain": [
              "['Private room', 'Entire home/apt', 'Shared room']\n",
              "Categories (3, object): ['Private room', 'Entire home/apt', 'Shared room']"
            ]
          },
          "metadata": {
            "tags": []
          },
          "execution_count": 34
        }
      ]
    },
    {
      "cell_type": "code",
      "metadata": {
        "id": "wAJdthzvWStD",
        "colab": {
          "base_uri": "https://localhost:8080/"
        },
        "outputId": "1fe707b9-c803-4be2-db5a-5724a4fd951f"
      },
      "source": [
        "get_memory(df)"
      ],
      "execution_count": null,
      "outputs": [
        {
          "output_type": "stream",
          "text": [
            "5.92 MB\n"
          ],
          "name": "stdout"
        }
      ]
    },
    {
      "cell_type": "markdown",
      "metadata": {
        "id": "N2xWoHsmW0ii"
      },
      "source": [
        "### Convert to datetime "
      ]
    },
    {
      "cell_type": "code",
      "metadata": {
        "id": "9ZCa4f-vW01Z",
        "colab": {
          "base_uri": "https://localhost:8080/"
        },
        "outputId": "fe596587-8ab1-417b-99d4-d6e69fcc52e3"
      },
      "source": [
        "df['last_review'].head(3)"
      ],
      "execution_count": null,
      "outputs": [
        {
          "output_type": "execute_result",
          "data": {
            "text/plain": [
              "0    2018-10-19\n",
              "1    2019-05-21\n",
              "2           NaN\n",
              "Name: last_review, dtype: object"
            ]
          },
          "metadata": {
            "tags": []
          },
          "execution_count": 36
        }
      ]
    },
    {
      "cell_type": "code",
      "metadata": {
        "id": "9ra-p4VkW9H2",
        "colab": {
          "base_uri": "https://localhost:8080/"
        },
        "outputId": "ed393fab-6096-44db-f184-29c573a7c12c"
      },
      "source": [
        "df['last_review'] = pd.to_datetime(df['last_review'], format = \"%Y-%m-%d\")\n",
        "df['last_review'].dtype"
      ],
      "execution_count": null,
      "outputs": [
        {
          "output_type": "execute_result",
          "data": {
            "text/plain": [
              "dtype('<M8[ns]')"
            ]
          },
          "metadata": {
            "tags": []
          },
          "execution_count": 37
        }
      ]
    },
    {
      "cell_type": "markdown",
      "metadata": {
        "id": "JdEe7hDl6-KW"
      },
      "source": [
        "Refer to https://strftime.org/ for a list of date formats"
      ]
    },
    {
      "cell_type": "code",
      "metadata": {
        "id": "fvyzwQxvW_S6",
        "colab": {
          "base_uri": "https://localhost:8080/"
        },
        "outputId": "75f8c7eb-249a-4700-91c1-d1371835577f"
      },
      "source": [
        "df.dtypes"
      ],
      "execution_count": null,
      "outputs": [
        {
          "output_type": "execute_result",
          "data": {
            "text/plain": [
              "id                                         int64\n",
              "listing_name                              object\n",
              "host_id                                    int64\n",
              "host_name                                 object\n",
              "neighbourhood_group                       object\n",
              "neighbourhood                             object\n",
              "lat                                      float64\n",
              "long                                     float64\n",
              "room_type                               category\n",
              "price                                      int64\n",
              "minimum_nights                             int64\n",
              "number_of_reviews                          int64\n",
              "last_review                       datetime64[ns]\n",
              "reviews_per_month                        float64\n",
              "calculated_host_listings_count             int64\n",
              "availability_365                           int64\n",
              "dtype: object"
            ]
          },
          "metadata": {
            "tags": []
          },
          "execution_count": 38
        }
      ]
    },
    {
      "cell_type": "code",
      "metadata": {
        "id": "RDAyDuGyY0BX",
        "colab": {
          "base_uri": "https://localhost:8080/"
        },
        "outputId": "5feb0ad5-e9f9-4313-cd7a-08a8e3e59c4f"
      },
      "source": [
        "df['last_review'].head(3)"
      ],
      "execution_count": null,
      "outputs": [
        {
          "output_type": "execute_result",
          "data": {
            "text/plain": [
              "0   2018-10-19\n",
              "1   2019-05-21\n",
              "2          NaT\n",
              "Name: last_review, dtype: datetime64[ns]"
            ]
          },
          "metadata": {
            "tags": []
          },
          "execution_count": 39
        }
      ]
    },
    {
      "cell_type": "markdown",
      "metadata": {
        "id": "CECVg8UcXIM1"
      },
      "source": [
        "### Changing numeric types\n",
        "\n",
        "ex: changing int types (int8 | int16 | int32 | int64)\n",
        "\n",
        "- the numbers stands for bit\n",
        "- int8 can store integers from -128 to 127.\n",
        "- int16 can store integers from -32768 to 32767.\n",
        "- int64 can store integers from -9223372036854775808 to 9223372036854775807."
      ]
    },
    {
      "cell_type": "code",
      "metadata": {
        "id": "RMfY9ASzXN7C",
        "colab": {
          "base_uri": "https://localhost:8080/"
        },
        "outputId": "f9344306-ae8f-4195-baab-d08d38c1cc2c"
      },
      "source": [
        "# get maximum from column\n",
        "df['minimum_nights'].max()"
      ],
      "execution_count": null,
      "outputs": [
        {
          "output_type": "execute_result",
          "data": {
            "text/plain": [
              "1250"
            ]
          },
          "metadata": {
            "tags": []
          },
          "execution_count": 40
        }
      ]
    },
    {
      "cell_type": "code",
      "metadata": {
        "id": "Am-7WBcioHSr",
        "colab": {
          "base_uri": "https://localhost:8080/"
        },
        "outputId": "31ae4260-acf9-4209-eec4-873591db0eb7"
      },
      "source": [
        "# get minimum from column\n",
        "df['minimum_nights'].min()"
      ],
      "execution_count": null,
      "outputs": [
        {
          "output_type": "execute_result",
          "data": {
            "text/plain": [
              "1"
            ]
          },
          "metadata": {
            "tags": []
          },
          "execution_count": 41
        }
      ]
    },
    {
      "cell_type": "code",
      "metadata": {
        "id": "Nm-jBdCNXu0X",
        "colab": {
          "base_uri": "https://localhost:8080/"
        },
        "outputId": "e9edae3d-ba7c-41de-8931-bb4c18f09dfb"
      },
      "source": [
        "df['minimum_nights'].dtype"
      ],
      "execution_count": null,
      "outputs": [
        {
          "output_type": "execute_result",
          "data": {
            "text/plain": [
              "dtype('int64')"
            ]
          },
          "metadata": {
            "tags": []
          },
          "execution_count": 42
        }
      ]
    },
    {
      "cell_type": "code",
      "metadata": {
        "id": "gKOJXk1tXrxH",
        "colab": {
          "base_uri": "https://localhost:8080/"
        },
        "outputId": "454b40b7-52e8-44df-b459-1dce4c22a947"
      },
      "source": [
        "get_memory(df)"
      ],
      "execution_count": null,
      "outputs": [
        {
          "output_type": "stream",
          "text": [
            "5.92 MB\n"
          ],
          "name": "stdout"
        }
      ]
    },
    {
      "cell_type": "code",
      "metadata": {
        "id": "z_rvRWciXnlX",
        "colab": {
          "base_uri": "https://localhost:8080/"
        },
        "outputId": "c38bb6ad-c55a-4490-c134-f4b83468c706"
      },
      "source": [
        "df['minimum_nights'] = df['minimum_nights'].astype('int16')\n",
        "df['minimum_nights'].dtype"
      ],
      "execution_count": null,
      "outputs": [
        {
          "output_type": "execute_result",
          "data": {
            "text/plain": [
              "dtype('int16')"
            ]
          },
          "metadata": {
            "tags": []
          },
          "execution_count": 44
        }
      ]
    },
    {
      "cell_type": "code",
      "metadata": {
        "id": "I4mQDpNPXtzI",
        "colab": {
          "base_uri": "https://localhost:8080/"
        },
        "outputId": "ad5a8709-5ca4-4fa2-dae5-99c99d89eabb"
      },
      "source": [
        "get_memory(df)"
      ],
      "execution_count": null,
      "outputs": [
        {
          "output_type": "stream",
          "text": [
            "5.62 MB\n"
          ],
          "name": "stdout"
        }
      ]
    },
    {
      "cell_type": "markdown",
      "metadata": {
        "id": "8diBhfloR-PO"
      },
      "source": [
        "## Missing data"
      ]
    },
    {
      "cell_type": "markdown",
      "metadata": {
        "id": "6SZHaxDq514h"
      },
      "source": [
        "### Checking which columns have missing data"
      ]
    },
    {
      "cell_type": "code",
      "metadata": {
        "id": "CeWJizLm0tJD",
        "colab": {
          "base_uri": "https://localhost:8080/",
          "height": 222
        },
        "outputId": "8085b428-056b-413e-b83d-03fc4bbe237e"
      },
      "source": [
        "df.isnull().head()"
      ],
      "execution_count": null,
      "outputs": [
        {
          "output_type": "execute_result",
          "data": {
            "text/html": [
              "<div>\n",
              "<style scoped>\n",
              "    .dataframe tbody tr th:only-of-type {\n",
              "        vertical-align: middle;\n",
              "    }\n",
              "\n",
              "    .dataframe tbody tr th {\n",
              "        vertical-align: top;\n",
              "    }\n",
              "\n",
              "    .dataframe thead th {\n",
              "        text-align: right;\n",
              "    }\n",
              "</style>\n",
              "<table border=\"1\" class=\"dataframe\">\n",
              "  <thead>\n",
              "    <tr style=\"text-align: right;\">\n",
              "      <th></th>\n",
              "      <th>id</th>\n",
              "      <th>listing_name</th>\n",
              "      <th>host_id</th>\n",
              "      <th>host_name</th>\n",
              "      <th>neighbourhood_group</th>\n",
              "      <th>neighbourhood</th>\n",
              "      <th>lat</th>\n",
              "      <th>long</th>\n",
              "      <th>room_type</th>\n",
              "      <th>price</th>\n",
              "      <th>minimum_nights</th>\n",
              "      <th>number_of_reviews</th>\n",
              "      <th>last_review</th>\n",
              "      <th>reviews_per_month</th>\n",
              "      <th>calculated_host_listings_count</th>\n",
              "      <th>availability_365</th>\n",
              "    </tr>\n",
              "  </thead>\n",
              "  <tbody>\n",
              "    <tr>\n",
              "      <th>0</th>\n",
              "      <td>False</td>\n",
              "      <td>False</td>\n",
              "      <td>False</td>\n",
              "      <td>False</td>\n",
              "      <td>False</td>\n",
              "      <td>False</td>\n",
              "      <td>False</td>\n",
              "      <td>False</td>\n",
              "      <td>False</td>\n",
              "      <td>False</td>\n",
              "      <td>False</td>\n",
              "      <td>False</td>\n",
              "      <td>False</td>\n",
              "      <td>False</td>\n",
              "      <td>False</td>\n",
              "      <td>False</td>\n",
              "    </tr>\n",
              "    <tr>\n",
              "      <th>1</th>\n",
              "      <td>False</td>\n",
              "      <td>False</td>\n",
              "      <td>False</td>\n",
              "      <td>False</td>\n",
              "      <td>False</td>\n",
              "      <td>False</td>\n",
              "      <td>False</td>\n",
              "      <td>False</td>\n",
              "      <td>False</td>\n",
              "      <td>False</td>\n",
              "      <td>False</td>\n",
              "      <td>False</td>\n",
              "      <td>False</td>\n",
              "      <td>False</td>\n",
              "      <td>False</td>\n",
              "      <td>False</td>\n",
              "    </tr>\n",
              "    <tr>\n",
              "      <th>2</th>\n",
              "      <td>False</td>\n",
              "      <td>False</td>\n",
              "      <td>False</td>\n",
              "      <td>False</td>\n",
              "      <td>False</td>\n",
              "      <td>False</td>\n",
              "      <td>False</td>\n",
              "      <td>False</td>\n",
              "      <td>False</td>\n",
              "      <td>False</td>\n",
              "      <td>False</td>\n",
              "      <td>False</td>\n",
              "      <td>True</td>\n",
              "      <td>True</td>\n",
              "      <td>False</td>\n",
              "      <td>False</td>\n",
              "    </tr>\n",
              "    <tr>\n",
              "      <th>3</th>\n",
              "      <td>False</td>\n",
              "      <td>False</td>\n",
              "      <td>False</td>\n",
              "      <td>False</td>\n",
              "      <td>False</td>\n",
              "      <td>False</td>\n",
              "      <td>False</td>\n",
              "      <td>False</td>\n",
              "      <td>False</td>\n",
              "      <td>False</td>\n",
              "      <td>False</td>\n",
              "      <td>False</td>\n",
              "      <td>False</td>\n",
              "      <td>False</td>\n",
              "      <td>False</td>\n",
              "      <td>False</td>\n",
              "    </tr>\n",
              "    <tr>\n",
              "      <th>4</th>\n",
              "      <td>False</td>\n",
              "      <td>False</td>\n",
              "      <td>False</td>\n",
              "      <td>False</td>\n",
              "      <td>False</td>\n",
              "      <td>False</td>\n",
              "      <td>False</td>\n",
              "      <td>False</td>\n",
              "      <td>False</td>\n",
              "      <td>False</td>\n",
              "      <td>False</td>\n",
              "      <td>False</td>\n",
              "      <td>False</td>\n",
              "      <td>False</td>\n",
              "      <td>False</td>\n",
              "      <td>False</td>\n",
              "    </tr>\n",
              "  </tbody>\n",
              "</table>\n",
              "</div>"
            ],
            "text/plain": [
              "      id  listing_name  ...  calculated_host_listings_count  availability_365\n",
              "0  False         False  ...                           False             False\n",
              "1  False         False  ...                           False             False\n",
              "2  False         False  ...                           False             False\n",
              "3  False         False  ...                           False             False\n",
              "4  False         False  ...                           False             False\n",
              "\n",
              "[5 rows x 16 columns]"
            ]
          },
          "metadata": {
            "tags": []
          },
          "execution_count": 46
        }
      ]
    },
    {
      "cell_type": "markdown",
      "metadata": {
        "id": "mBuixie550PE"
      },
      "source": [
        "### summing the missing values"
      ]
    },
    {
      "cell_type": "code",
      "metadata": {
        "id": "6-U38oSr1fkA",
        "colab": {
          "base_uri": "https://localhost:8080/"
        },
        "outputId": "c2355cdb-c57d-4309-a746-29bf8535496d"
      },
      "source": [
        "# True = 1, False = 0\n",
        "df.isnull().sum()"
      ],
      "execution_count": null,
      "outputs": [
        {
          "output_type": "execute_result",
          "data": {
            "text/plain": [
              "id                                    0\n",
              "listing_name                         16\n",
              "host_id                               0\n",
              "host_name                            21\n",
              "neighbourhood_group                   0\n",
              "neighbourhood                         0\n",
              "lat                                   0\n",
              "long                                  0\n",
              "room_type                             0\n",
              "price                                 0\n",
              "minimum_nights                        0\n",
              "number_of_reviews                     0\n",
              "last_review                       10052\n",
              "reviews_per_month                 10052\n",
              "calculated_host_listings_count        0\n",
              "availability_365                      0\n",
              "dtype: int64"
            ]
          },
          "metadata": {
            "tags": []
          },
          "execution_count": 47
        }
      ]
    },
    {
      "cell_type": "markdown",
      "metadata": {
        "id": "BCXNOb5P5yJ1"
      },
      "source": [
        "### percentage of missing data"
      ]
    },
    {
      "cell_type": "code",
      "metadata": {
        "id": "FxubuiY-4uyk",
        "colab": {
          "base_uri": "https://localhost:8080/"
        },
        "outputId": "369e659d-65b0-4c03-da1e-506ce9222a1c"
      },
      "source": [
        "missing_cols(df)"
      ],
      "execution_count": null,
      "outputs": [
        {
          "output_type": "stream",
          "text": [
            "listing_name => 16 [0.03%]\n",
            "host_name => 21 [0.04%]\n",
            "last_review => 10052 [20.56%]\n",
            "reviews_per_month => 10052 [20.56%]\n"
          ],
          "name": "stdout"
        }
      ]
    },
    {
      "cell_type": "code",
      "metadata": {
        "id": "cpepkgCG5qHL",
        "colab": {
          "base_uri": "https://localhost:8080/",
          "height": 404
        },
        "outputId": "c12f652f-5a73-4c3c-f5b6-49d5a5dc67fc"
      },
      "source": [
        "sns.heatmap(df.isnull(), yticklabels=False, cmap='viridis', cbar=False);"
      ],
      "execution_count": null,
      "outputs": [
        {
          "output_type": "display_data",
          "data": {
            "image/png": "[encoded data removed]",
            "text/plain": [
              "<Figure size 432x288 with 1 Axes>"
            ]
          },
          "metadata": {
            "tags": [],
            "needs_background": "light"
          }
        }
      ]
    },
    {
      "cell_type": "markdown",
      "metadata": {
        "id": "yhgUL5yW7K8n"
      },
      "source": [
        "### How to deal with missing data?\n",
        "\n",
        "Dealing with missing data is not simple task, you have need to consider why the data is missing in the first place, and domain knowledge to know what to impute. \n",
        "\n",
        "There also isn't a specific threshold for what percentage of missing data is accepted, it depends on the data.\n",
        "\n",
        "If you mess it up, you will introduce bias to your data.  \n",
        "\n",
        "\n",
        "#### Techniques \n",
        "1. Drop feature \n",
        "1. Drop the rows\n",
        "1. Impute missing values (manually or automatically)\n",
        "\n",
        "More information\n",
        "- Read this [article](https://towardsdatascience.com/how-to-handle-missing-data-8646b18db0d4) to go deeper into this topic\n",
        "\n",
        "- A paper on \"The prevention and handling of the missing data\" ([Link](https://www.ncbi.nlm.nih.gov/pmc/articles/PMC3668100/))"
      ]
    },
    {
      "cell_type": "code",
      "metadata": {
        "id": "kgqwkvE8yAS7"
      },
      "source": [
        "# copying original data set is good practice when you're experimenting with things\n",
        "# so you don't have to run all the cells before when you mess up something\n",
        "\n",
        "df_ori = df.copy()"
      ],
      "execution_count": null,
      "outputs": []
    },
    {
      "cell_type": "markdown",
      "metadata": {
        "id": "clL4rrdm3pjq"
      },
      "source": [
        "#### Dropping columns with missing values\n",
        "\n",
        "- usually worst strategy unless it has a lot of missing data (over 80 or 90%), or feature is not useful"
      ]
    },
    {
      "cell_type": "code",
      "metadata": {
        "id": "tqudL93ZF_La"
      },
      "source": [
        "# Create list of columns you want to drop\n",
        "colsToDrop = ['id','host_name','host_id']\n",
        "\n",
        "# axis = 1 / 'columns' stands for column\n",
        "# axis = 0 / 'index' stands for row\n",
        "df.drop(colsToDrop, axis = 'columns', inplace = True)"
      ],
      "execution_count": null,
      "outputs": []
    },
    {
      "cell_type": "code",
      "metadata": {
        "id": "FCy89KB8DDGy",
        "colab": {
          "base_uri": "https://localhost:8080/"
        },
        "outputId": "a1640f32-8c99-421c-92c4-fc03e1f2ebe3"
      },
      "source": [
        "missing_cols(df)"
      ],
      "execution_count": null,
      "outputs": [
        {
          "output_type": "stream",
          "text": [
            "listing_name => 16 [0.03%]\n",
            "last_review => 10052 [20.56%]\n",
            "reviews_per_month => 10052 [20.56%]\n"
          ],
          "name": "stdout"
        }
      ]
    },
    {
      "cell_type": "code",
      "metadata": {
        "id": "bzHz3X0REVt6",
        "colab": {
          "base_uri": "https://localhost:8080/"
        },
        "outputId": "4de70ccd-0548-4763-9517-16ab2f5bc450"
      },
      "source": [
        "print(df.shape)"
      ],
      "execution_count": null,
      "outputs": [
        {
          "output_type": "stream",
          "text": [
            "(48896, 13)\n"
          ],
          "name": "stdout"
        }
      ]
    },
    {
      "cell_type": "markdown",
      "metadata": {
        "id": "Adv4-ZqH8w3T"
      },
      "source": [
        "#### Remove rows with missing values\n",
        "- Losing even more information (from other columns), so not the best method"
      ]
    },
    {
      "cell_type": "code",
      "metadata": {
        "id": "eJgf68aiR-9Z",
        "colab": {
          "base_uri": "https://localhost:8080/"
        },
        "outputId": "ea8f4c86-aaf5-4154-891f-82f27966c483"
      },
      "source": [
        "print(df.shape) \n",
        "print(df.dropna().shape)"
      ],
      "execution_count": null,
      "outputs": [
        {
          "output_type": "stream",
          "text": [
            "(48896, 13)\n",
            "(38838, 13)\n"
          ],
          "name": "stdout"
        }
      ]
    },
    {
      "cell_type": "markdown",
      "metadata": {
        "id": "Lhu8RMKg80Bb"
      },
      "source": [
        "#### Impute missing values\n",
        "\n",
        "\n",
        "- A constant value related to the data, such as 0 for `number_of_reviews`, or \"None\" for `listing_name`.\n",
        "- The value before or after the data point (backward fill, forward fill)\n",
        "- Summary statistics such as mean, median or mode value for the column.\n",
        "- A value estimated by algorithms or ML models like KNN.\n",
        "\n",
        "> More detailed imputation techniques in this [article](https://towardsdatascience.com/6-different-ways-to-compensate-for-missing-values-data-imputation-with-examples-6022d9ca0779)  "
      ]
    },
    {
      "cell_type": "markdown",
      "metadata": {
        "id": "-D2-91B8F89Z"
      },
      "source": [
        "##### Imputing manually with pandas fillna"
      ]
    },
    {
      "cell_type": "code",
      "metadata": {
        "id": "r6W_-LfYpYud",
        "colab": {
          "base_uri": "https://localhost:8080/"
        },
        "outputId": "d54ad18e-0fe3-4727-80aa-f4a593731105"
      },
      "source": [
        "df['reviews_per_month'].head(3)"
      ],
      "execution_count": null,
      "outputs": [
        {
          "output_type": "execute_result",
          "data": {
            "text/plain": [
              "0    0.21\n",
              "1    0.38\n",
              "2     NaN\n",
              "Name: reviews_per_month, dtype: float64"
            ]
          },
          "metadata": {
            "tags": []
          },
          "execution_count": 55
        }
      ]
    },
    {
      "cell_type": "code",
      "metadata": {
        "id": "ZGBTxmgFpVqm",
        "colab": {
          "base_uri": "https://localhost:8080/"
        },
        "outputId": "daa56219-2f54-4275-fad7-39db6f53b5eb"
      },
      "source": [
        "df['listing_name'].head(3)"
      ],
      "execution_count": null,
      "outputs": [
        {
          "output_type": "execute_result",
          "data": {
            "text/plain": [
              "0     Clean & quiet apt home by the park\n",
              "1                  Skylit Midtown Castle\n",
              "2    THE VILLAGE OF HARLEM....NEW YORK !\n",
              "Name: listing_name, dtype: object"
            ]
          },
          "metadata": {
            "tags": []
          },
          "execution_count": 56
        }
      ]
    },
    {
      "cell_type": "code",
      "metadata": {
        "id": "49AIRebyFW4-",
        "colab": {
          "base_uri": "https://localhost:8080/"
        },
        "outputId": "4543b8e9-dd5a-4f88-a715-079edcf080bc"
      },
      "source": [
        "# {\"column_name\" : \"value_to_replace\"}\n",
        "missing_vals_replace = {'reviews_per_month': 0,\n",
        "                        'listing_name':'None'}\n",
        "\n",
        "df.fillna(value = missing_vals_replace).head(3)['reviews_per_month']"
      ],
      "execution_count": null,
      "outputs": [
        {
          "output_type": "execute_result",
          "data": {
            "text/plain": [
              "0    0.21\n",
              "1    0.38\n",
              "2    0.00\n",
              "Name: reviews_per_month, dtype: float64"
            ]
          },
          "metadata": {
            "tags": []
          },
          "execution_count": 57
        }
      ]
    },
    {
      "cell_type": "code",
      "metadata": {
        "id": "QP1jjR-dvxNX",
        "colab": {
          "base_uri": "https://localhost:8080/"
        },
        "outputId": "6344bcf0-1b1d-4cd3-bfee-9a52d1bb8ac4"
      },
      "source": [
        "# mean of reviews_per_month\n",
        "reviews_mean = df['reviews_per_month'].mean()\n",
        "print(reviews_mean)\n",
        "\n",
        "df.fillna(value = {'reviews_per_month' : reviews_mean}).head(3)['reviews_per_month']"
      ],
      "execution_count": null,
      "outputs": [
        {
          "output_type": "stream",
          "text": [
            "1.3731963752445946\n"
          ],
          "name": "stdout"
        },
        {
          "output_type": "execute_result",
          "data": {
            "text/plain": [
              "0    0.210000\n",
              "1    0.380000\n",
              "2    1.373196\n",
              "Name: reviews_per_month, dtype: float64"
            ]
          },
          "metadata": {
            "tags": []
          },
          "execution_count": 58
        }
      ]
    },
    {
      "cell_type": "code",
      "metadata": {
        "id": "GxIZSbBAwNNS",
        "colab": {
          "base_uri": "https://localhost:8080/"
        },
        "outputId": "a5e2d7cc-f044-4921-fef3-6fc1eef96edb"
      },
      "source": [
        "# median of reviews_per_month\n",
        "reviews_median = df['reviews_per_month'].median()\n",
        "print(reviews_median)\n",
        "\n",
        "df.fillna(value = {'reviews_per_month' : reviews_median}).head(3)['reviews_per_month']"
      ],
      "execution_count": null,
      "outputs": [
        {
          "output_type": "stream",
          "text": [
            "0.72\n"
          ],
          "name": "stdout"
        },
        {
          "output_type": "execute_result",
          "data": {
            "text/plain": [
              "0    0.21\n",
              "1    0.38\n",
              "2    0.72\n",
              "Name: reviews_per_month, dtype: float64"
            ]
          },
          "metadata": {
            "tags": []
          },
          "execution_count": 59
        }
      ]
    },
    {
      "cell_type": "markdown",
      "metadata": {
        "id": "RnHolWGVF_7Q"
      },
      "source": [
        "##### Imputing with bfill and ffill\n",
        "\n",
        "bfill\n",
        "- bfill stands for backwards fill\n",
        "- means filling in missing value with value after it (fill it backwards)\n",
        "\n",
        "ffill\n",
        "- ffill stands for forward fill\n",
        "- means filling in missing value with value before it (fill it forwards)\n"
      ]
    },
    {
      "cell_type": "code",
      "metadata": {
        "id": "OG7XJpVM3e3F",
        "colab": {
          "base_uri": "https://localhost:8080/"
        },
        "outputId": "43538a6b-1f6a-486b-f4fe-8a1b36dca113"
      },
      "source": [
        "df['reviews_per_month'].head()"
      ],
      "execution_count": null,
      "outputs": [
        {
          "output_type": "execute_result",
          "data": {
            "text/plain": [
              "0    0.21\n",
              "1    0.38\n",
              "2     NaN\n",
              "3    4.64\n",
              "4    0.10\n",
              "Name: reviews_per_month, dtype: float64"
            ]
          },
          "metadata": {
            "tags": []
          },
          "execution_count": 60
        }
      ]
    },
    {
      "cell_type": "code",
      "metadata": {
        "id": "XEDzyORYGdwc",
        "colab": {
          "base_uri": "https://localhost:8080/"
        },
        "outputId": "306492c8-faaf-4377-9b31-5339e56e70f4"
      },
      "source": [
        "# imputing with bfill\n",
        "df['reviews_per_month'].bfill().head()"
      ],
      "execution_count": null,
      "outputs": [
        {
          "output_type": "execute_result",
          "data": {
            "text/plain": [
              "0    0.21\n",
              "1    0.38\n",
              "2    4.64\n",
              "3    4.64\n",
              "4    0.10\n",
              "Name: reviews_per_month, dtype: float64"
            ]
          },
          "metadata": {
            "tags": []
          },
          "execution_count": 61
        }
      ]
    },
    {
      "cell_type": "code",
      "metadata": {
        "id": "Rx8X58MTxeGa",
        "colab": {
          "base_uri": "https://localhost:8080/"
        },
        "outputId": "9cc289f0-225c-41f7-fe90-e43f9268f764"
      },
      "source": [
        "# imputing with ffill\n",
        "df['reviews_per_month'].ffill().head()"
      ],
      "execution_count": null,
      "outputs": [
        {
          "output_type": "execute_result",
          "data": {
            "text/plain": [
              "0    0.21\n",
              "1    0.38\n",
              "2    0.38\n",
              "3    4.64\n",
              "4    0.10\n",
              "Name: reviews_per_month, dtype: float64"
            ]
          },
          "metadata": {
            "tags": []
          },
          "execution_count": 62
        }
      ]
    },
    {
      "cell_type": "code",
      "metadata": {
        "id": "3DsEn64K4Fw6",
        "colab": {
          "base_uri": "https://localhost:8080/"
        },
        "outputId": "1cfec98d-2971-46cb-e21e-e7297284d1b8"
      },
      "source": [
        "df['last_review'].head()"
      ],
      "execution_count": null,
      "outputs": [
        {
          "output_type": "execute_result",
          "data": {
            "text/plain": [
              "0   2018-10-19\n",
              "1   2019-05-21\n",
              "2          NaT\n",
              "3   2019-07-05\n",
              "4   2018-11-19\n",
              "Name: last_review, dtype: datetime64[ns]"
            ]
          },
          "metadata": {
            "tags": []
          },
          "execution_count": 63
        }
      ]
    },
    {
      "cell_type": "code",
      "metadata": {
        "id": "L56VXmBR4Cy3",
        "colab": {
          "base_uri": "https://localhost:8080/"
        },
        "outputId": "35ea5dcc-3318-4011-a048-b3aee695e319"
      },
      "source": [
        "df['last_review'].ffill().head()"
      ],
      "execution_count": null,
      "outputs": [
        {
          "output_type": "execute_result",
          "data": {
            "text/plain": [
              "0   2018-10-19\n",
              "1   2019-05-21\n",
              "2   2019-05-21\n",
              "3   2019-07-05\n",
              "4   2018-11-19\n",
              "Name: last_review, dtype: datetime64[ns]"
            ]
          },
          "metadata": {
            "tags": []
          },
          "execution_count": 64
        }
      ]
    },
    {
      "cell_type": "code",
      "metadata": {
        "id": "1jVYer4q3yQ2",
        "colab": {
          "base_uri": "https://localhost:8080/",
          "height": 264
        },
        "outputId": "b0efb1da-a7ce-4776-d8ab-e008da5ed1c2"
      },
      "source": [
        " # ffill entire data frame\n",
        " df.ffill().head(3)"
      ],
      "execution_count": null,
      "outputs": [
        {
          "output_type": "execute_result",
          "data": {
            "text/html": [
              "<div>\n",
              "<style scoped>\n",
              "    .dataframe tbody tr th:only-of-type {\n",
              "        vertical-align: middle;\n",
              "    }\n",
              "\n",
              "    .dataframe tbody tr th {\n",
              "        vertical-align: top;\n",
              "    }\n",
              "\n",
              "    .dataframe thead th {\n",
              "        text-align: right;\n",
              "    }\n",
              "</style>\n",
              "<table border=\"1\" class=\"dataframe\">\n",
              "  <thead>\n",
              "    <tr style=\"text-align: right;\">\n",
              "      <th></th>\n",
              "      <th>listing_name</th>\n",
              "      <th>neighbourhood_group</th>\n",
              "      <th>neighbourhood</th>\n",
              "      <th>lat</th>\n",
              "      <th>long</th>\n",
              "      <th>room_type</th>\n",
              "      <th>price</th>\n",
              "      <th>minimum_nights</th>\n",
              "      <th>number_of_reviews</th>\n",
              "      <th>last_review</th>\n",
              "      <th>reviews_per_month</th>\n",
              "      <th>calculated_host_listings_count</th>\n",
              "      <th>availability_365</th>\n",
              "    </tr>\n",
              "  </thead>\n",
              "  <tbody>\n",
              "    <tr>\n",
              "      <th>0</th>\n",
              "      <td>Clean &amp; quiet apt home by the park</td>\n",
              "      <td>Brooklyn</td>\n",
              "      <td>Kensington</td>\n",
              "      <td>40.64749</td>\n",
              "      <td>-73.97237</td>\n",
              "      <td>Private room</td>\n",
              "      <td>149</td>\n",
              "      <td>1</td>\n",
              "      <td>9</td>\n",
              "      <td>2018-10-19</td>\n",
              "      <td>0.21</td>\n",
              "      <td>6</td>\n",
              "      <td>365</td>\n",
              "    </tr>\n",
              "    <tr>\n",
              "      <th>1</th>\n",
              "      <td>Skylit Midtown Castle</td>\n",
              "      <td>Manhattan</td>\n",
              "      <td>Midtown</td>\n",
              "      <td>40.75362</td>\n",
              "      <td>-73.98377</td>\n",
              "      <td>Entire home/apt</td>\n",
              "      <td>225</td>\n",
              "      <td>1</td>\n",
              "      <td>45</td>\n",
              "      <td>2019-05-21</td>\n",
              "      <td>0.38</td>\n",
              "      <td>2</td>\n",
              "      <td>355</td>\n",
              "    </tr>\n",
              "    <tr>\n",
              "      <th>2</th>\n",
              "      <td>THE VILLAGE OF HARLEM....NEW YORK !</td>\n",
              "      <td>Manhattan</td>\n",
              "      <td>Harlem</td>\n",
              "      <td>40.80902</td>\n",
              "      <td>-73.94190</td>\n",
              "      <td>Private room</td>\n",
              "      <td>150</td>\n",
              "      <td>3</td>\n",
              "      <td>0</td>\n",
              "      <td>2019-05-21</td>\n",
              "      <td>0.38</td>\n",
              "      <td>1</td>\n",
              "      <td>365</td>\n",
              "    </tr>\n",
              "  </tbody>\n",
              "</table>\n",
              "</div>"
            ],
            "text/plain": [
              "                          listing_name  ... availability_365\n",
              "0   Clean & quiet apt home by the park  ...              365\n",
              "1                Skylit Midtown Castle  ...              355\n",
              "2  THE VILLAGE OF HARLEM....NEW YORK !  ...              365\n",
              "\n",
              "[3 rows x 13 columns]"
            ]
          },
          "metadata": {
            "tags": []
          },
          "execution_count": 66
        }
      ]
    },
    {
      "cell_type": "code",
      "metadata": {
        "id": "MNsDy7BQ8G2B",
        "colab": {
          "base_uri": "https://localhost:8080/"
        },
        "outputId": "80a27c72-8d91-4659-a0d9-bf6405037a96"
      },
      "source": [
        "missing_vals_replace = {'reviews_per_month':0,\n",
        "                        'listing_name':'None'}\n",
        "\n",
        "df.fillna(missing_vals_replace, inplace = True)\n",
        "\n",
        "missing_cols(df)"
      ],
      "execution_count": null,
      "outputs": [
        {
          "output_type": "stream",
          "text": [
            "last_review => 10052 [20.56%]\n"
          ],
          "name": "stdout"
        }
      ]
    },
    {
      "cell_type": "markdown",
      "metadata": {
        "id": "MDgdfoxEZz7c"
      },
      "source": [
        "I leave date column empty because it makes more sense to leave it empty, and I don't want to introduce bias to it. this is a different case for time series data, as it's a must to impute missing values or analysis on the data won't work since it's cumulative"
      ]
    },
    {
      "cell_type": "markdown",
      "metadata": {
        "id": "5WrQ12BDFTh0"
      },
      "source": [
        "## Explode Date column"
      ]
    },
    {
      "cell_type": "code",
      "metadata": {
        "id": "qqlorLHyFU24",
        "colab": {
          "base_uri": "https://localhost:8080/"
        },
        "outputId": "284ea66e-bb5b-40b3-e307-0de3aba54169"
      },
      "source": [
        "df['last_review'].head()"
      ],
      "execution_count": null,
      "outputs": [
        {
          "output_type": "execute_result",
          "data": {
            "text/plain": [
              "0   2018-10-19\n",
              "1   2019-05-21\n",
              "2          NaT\n",
              "3   2019-07-05\n",
              "4   2018-11-19\n",
              "Name: last_review, dtype: datetime64[ns]"
            ]
          },
          "metadata": {
            "tags": []
          },
          "execution_count": 68
        }
      ]
    },
    {
      "cell_type": "code",
      "metadata": {
        "id": "mqt3bKAvC4wf"
      },
      "source": [
        "# Int64 are pandas data types that can handle missing values\n",
        "df['year'] = df['last_review'].dt.year.astype('Int64')\n",
        "df['month'] = df['last_review'].dt.month.astype('Int64')\n",
        "df['day'] = df['last_review'].dt.day.astype('Int64')"
      ],
      "execution_count": null,
      "outputs": []
    },
    {
      "cell_type": "code",
      "metadata": {
        "id": "b8aHeHpxC5JG",
        "colab": {
          "base_uri": "https://localhost:8080/",
          "height": 264
        },
        "outputId": "39b5019f-c8a6-48fc-d62e-cbf3b5454a0c"
      },
      "source": [
        "df.head(3)"
      ],
      "execution_count": null,
      "outputs": [
        {
          "output_type": "execute_result",
          "data": {
            "text/html": [
              "<div>\n",
              "<style scoped>\n",
              "    .dataframe tbody tr th:only-of-type {\n",
              "        vertical-align: middle;\n",
              "    }\n",
              "\n",
              "    .dataframe tbody tr th {\n",
              "        vertical-align: top;\n",
              "    }\n",
              "\n",
              "    .dataframe thead th {\n",
              "        text-align: right;\n",
              "    }\n",
              "</style>\n",
              "<table border=\"1\" class=\"dataframe\">\n",
              "  <thead>\n",
              "    <tr style=\"text-align: right;\">\n",
              "      <th></th>\n",
              "      <th>listing_name</th>\n",
              "      <th>neighbourhood_group</th>\n",
              "      <th>neighbourhood</th>\n",
              "      <th>lat</th>\n",
              "      <th>long</th>\n",
              "      <th>room_type</th>\n",
              "      <th>price</th>\n",
              "      <th>minimum_nights</th>\n",
              "      <th>number_of_reviews</th>\n",
              "      <th>last_review</th>\n",
              "      <th>reviews_per_month</th>\n",
              "      <th>calculated_host_listings_count</th>\n",
              "      <th>availability_365</th>\n",
              "      <th>year</th>\n",
              "      <th>month</th>\n",
              "      <th>day</th>\n",
              "    </tr>\n",
              "  </thead>\n",
              "  <tbody>\n",
              "    <tr>\n",
              "      <th>0</th>\n",
              "      <td>Clean &amp; quiet apt home by the park</td>\n",
              "      <td>Brooklyn</td>\n",
              "      <td>Kensington</td>\n",
              "      <td>40.64749</td>\n",
              "      <td>-73.97237</td>\n",
              "      <td>Private room</td>\n",
              "      <td>149</td>\n",
              "      <td>1</td>\n",
              "      <td>9</td>\n",
              "      <td>2018-10-19</td>\n",
              "      <td>0.21</td>\n",
              "      <td>6</td>\n",
              "      <td>365</td>\n",
              "      <td>2018</td>\n",
              "      <td>10</td>\n",
              "      <td>19</td>\n",
              "    </tr>\n",
              "    <tr>\n",
              "      <th>1</th>\n",
              "      <td>Skylit Midtown Castle</td>\n",
              "      <td>Manhattan</td>\n",
              "      <td>Midtown</td>\n",
              "      <td>40.75362</td>\n",
              "      <td>-73.98377</td>\n",
              "      <td>Entire home/apt</td>\n",
              "      <td>225</td>\n",
              "      <td>1</td>\n",
              "      <td>45</td>\n",
              "      <td>2019-05-21</td>\n",
              "      <td>0.38</td>\n",
              "      <td>2</td>\n",
              "      <td>355</td>\n",
              "      <td>2019</td>\n",
              "      <td>5</td>\n",
              "      <td>21</td>\n",
              "    </tr>\n",
              "    <tr>\n",
              "      <th>2</th>\n",
              "      <td>THE VILLAGE OF HARLEM....NEW YORK !</td>\n",
              "      <td>Manhattan</td>\n",
              "      <td>Harlem</td>\n",
              "      <td>40.80902</td>\n",
              "      <td>-73.94190</td>\n",
              "      <td>Private room</td>\n",
              "      <td>150</td>\n",
              "      <td>3</td>\n",
              "      <td>0</td>\n",
              "      <td>NaT</td>\n",
              "      <td>0.00</td>\n",
              "      <td>1</td>\n",
              "      <td>365</td>\n",
              "      <td>&lt;NA&gt;</td>\n",
              "      <td>&lt;NA&gt;</td>\n",
              "      <td>&lt;NA&gt;</td>\n",
              "    </tr>\n",
              "  </tbody>\n",
              "</table>\n",
              "</div>"
            ],
            "text/plain": [
              "                          listing_name neighbourhood_group  ... month   day\n",
              "0   Clean & quiet apt home by the park            Brooklyn  ...    10    19\n",
              "1                Skylit Midtown Castle           Manhattan  ...     5    21\n",
              "2  THE VILLAGE OF HARLEM....NEW YORK !           Manhattan  ...  <NA>  <NA>\n",
              "\n",
              "[3 rows x 16 columns]"
            ]
          },
          "metadata": {
            "tags": []
          },
          "execution_count": 70
        }
      ]
    },
    {
      "cell_type": "markdown",
      "metadata": {
        "id": "HlW5jIRlpP94"
      },
      "source": [
        "## Data Inconsistencies"
      ]
    },
    {
      "cell_type": "markdown",
      "metadata": {
        "id": "y-3wzMUizrNk"
      },
      "source": [
        "### out of range data"
      ]
    },
    {
      "cell_type": "markdown",
      "metadata": {
        "id": "gw3cxFoAE5vN"
      },
      "source": [
        "#### Are the values in the column `availability_365` within 365 ?"
      ]
    },
    {
      "cell_type": "code",
      "metadata": {
        "id": "d61QIuo_EIIs",
        "colab": {
          "base_uri": "https://localhost:8080/"
        },
        "outputId": "063e2270-0eed-408f-c946-c44c21003943"
      },
      "source": [
        "# show statistics of a column\n",
        "df['availability_365'].describe()"
      ],
      "execution_count": null,
      "outputs": [
        {
          "output_type": "execute_result",
          "data": {
            "text/plain": [
              "count    48896.000000\n",
              "mean       112.779021\n",
              "std        131.621931\n",
              "min          0.000000\n",
              "25%          0.000000\n",
              "50%         45.000000\n",
              "75%        227.000000\n",
              "max        365.000000\n",
              "Name: availability_365, dtype: float64"
            ]
          },
          "metadata": {
            "tags": []
          },
          "execution_count": 71
        }
      ]
    },
    {
      "cell_type": "markdown",
      "metadata": {
        "id": "k1WsQak9p07G"
      },
      "source": [
        "##### Assert keyword"
      ]
    },
    {
      "cell_type": "code",
      "metadata": {
        "id": "CThHaPSKyPz3"
      },
      "source": [
        "assert 1 + 1 == 2"
      ],
      "execution_count": null,
      "outputs": []
    },
    {
      "cell_type": "code",
      "metadata": {
        "id": "nGswVZYLycK1",
        "colab": {
          "base_uri": "https://localhost:8080/",
          "height": 169
        },
        "outputId": "248d4f18-857c-4eb9-e4c2-764288d436e1"
      },
      "source": [
        "assert 1 + 1 == 3"
      ],
      "execution_count": null,
      "outputs": [
        {
          "output_type": "error",
          "ename": "AssertionError",
          "evalue": "ignored",
          "traceback": [
            "\u001b[0;31m---------------------------------------------------------------------------\u001b[0m",
            "\u001b[0;31mAssertionError\u001b[0m                            Traceback (most recent call last)",
            "\u001b[0;32m<ipython-input-73-8a19892df295>\u001b[0m in \u001b[0;36m<module>\u001b[0;34m()\u001b[0m\n\u001b[0;32m----> 1\u001b[0;31m \u001b[0;32massert\u001b[0m \u001b[0;36m1\u001b[0m \u001b[0;34m+\u001b[0m \u001b[0;36m1\u001b[0m \u001b[0;34m==\u001b[0m \u001b[0;36m3\u001b[0m\u001b[0;34m\u001b[0m\u001b[0;34m\u001b[0m\u001b[0m\n\u001b[0m",
            "\u001b[0;31mAssertionError\u001b[0m: "
          ]
        }
      ]
    },
    {
      "cell_type": "code",
      "metadata": {
        "id": "Mx4pJDv5EgZx"
      },
      "source": [
        "assert df['availability_365'].max() <= 365"
      ],
      "execution_count": null,
      "outputs": []
    },
    {
      "cell_type": "code",
      "metadata": {
        "id": "fL8C8dp7x3iK"
      },
      "source": [
        "assert df['availability_365'].min() >= 0"
      ],
      "execution_count": null,
      "outputs": []
    },
    {
      "cell_type": "markdown",
      "metadata": {
        "id": "MynRqMVPE2jm"
      },
      "source": [
        "#### Are lat and long coords valid coordinates?\n",
        "\n",
        "- The latitude must be a number between -90 and 90 and the longitude between -180 and 180\n",
        "\n",
        "Since you know the lat and long coords are for new york, you can ask the question whether the coords are within NYC itself"
      ]
    },
    {
      "cell_type": "code",
      "metadata": {
        "id": "aHpgiaG5EtJI",
        "colab": {
          "base_uri": "https://localhost:8080/"
        },
        "outputId": "3faa323e-c731-468e-a7e1-aee4d528618e"
      },
      "source": [
        "df['lat'].describe()"
      ],
      "execution_count": null,
      "outputs": [
        {
          "output_type": "execute_result",
          "data": {
            "text/plain": [
              "count    48896.000000\n",
              "mean        40.728948\n",
              "std          0.054530\n",
              "min         40.499790\n",
              "25%         40.690098\n",
              "50%         40.723070\n",
              "75%         40.763112\n",
              "max         40.913060\n",
              "Name: lat, dtype: float64"
            ]
          },
          "metadata": {
            "tags": []
          },
          "execution_count": 76
        }
      ]
    },
    {
      "cell_type": "code",
      "metadata": {
        "id": "-6DS2up7EyVL",
        "colab": {
          "base_uri": "https://localhost:8080/"
        },
        "outputId": "8932b2a5-22ae-4f49-d2b6-2e686ee495d3"
      },
      "source": [
        "df['long'].describe()"
      ],
      "execution_count": null,
      "outputs": [
        {
          "output_type": "execute_result",
          "data": {
            "text/plain": [
              "count    48896.000000\n",
              "mean       -73.952170\n",
              "std          0.046156\n",
              "min        -74.244420\n",
              "25%        -73.983070\n",
              "50%        -73.955680\n",
              "75%        -73.936278\n",
              "max        -73.712990\n",
              "Name: long, dtype: float64"
            ]
          },
          "metadata": {
            "tags": []
          },
          "execution_count": 77
        }
      ]
    },
    {
      "cell_type": "markdown",
      "metadata": {
        "id": "GlfmZvrSFX2g"
      },
      "source": [
        "The best way to make sure is to plot them out\n",
        "\n",
        "Check out this [kaggle notebook](https://www.kaggle.com/dgomonov/data-exploration-on-nyc-airbnb/notebook) which does an analysis including plotting a new york city map containing these coordinates"
      ]
    },
    {
      "cell_type": "markdown",
      "metadata": {
        "id": "187ZH4tkzjO1"
      },
      "source": [
        "### Categorical data inconsistency\n",
        "\n",
        "- caused by human error (wrong spelling, different case categories)"
      ]
    },
    {
      "cell_type": "code",
      "metadata": {
        "id": "zYlP3mKFFi8R",
        "colab": {
          "base_uri": "https://localhost:8080/"
        },
        "outputId": "4cd84cd2-d5ae-4098-dec3-0fd5438309da"
      },
      "source": [
        "# show categories\n",
        "df['neighbourhood_group'].unique()"
      ],
      "execution_count": null,
      "outputs": [
        {
          "output_type": "execute_result",
          "data": {
            "text/plain": [
              "array(['Brooklyn', 'Manhattan', 'brookln', 'manhatan', 'Queens',\n",
              "       'Staten Island', 'Bronx'], dtype=object)"
            ]
          },
          "metadata": {
            "tags": []
          },
          "execution_count": 78
        }
      ]
    },
    {
      "cell_type": "code",
      "metadata": {
        "id": "0itOIHybFuDV",
        "colab": {
          "base_uri": "https://localhost:8080/"
        },
        "outputId": "3bb98faf-feda-4a82-fcbe-88f44a2b37e1"
      },
      "source": [
        "wrong_spelling = ['brookln', 'manhatan']\n",
        "right_spelling = ['Brooklyn', 'Manhattan']\n",
        "\n",
        "# replace the wrong spelling with right spelling\n",
        "df['neighbourhood_group'].replace(to_replace = wrong_spelling, \n",
        "                                  value = right_spelling, \n",
        "                                  inplace = True)\n",
        "\n",
        "# changing values removes the category date type\n",
        "df['neighbourhood_group'].unique()"
      ],
      "execution_count": null,
      "outputs": [
        {
          "output_type": "execute_result",
          "data": {
            "text/plain": [
              "array(['Brooklyn', 'Manhattan', 'Queens', 'Staten Island', 'Bronx'],\n",
              "      dtype=object)"
            ]
          },
          "metadata": {
            "tags": []
          },
          "execution_count": 79
        }
      ]
    },
    {
      "cell_type": "markdown",
      "metadata": {
        "id": "Cfda1EoxGX5f"
      },
      "source": [
        "Usually it isn't so easy to deal with these value consistency since there could be hundreds of categories like the neighborhood column which has over 200 types, there are two ways to deal with this issue\n",
        "\n",
        "1. Preprocess the text (lowercase, strip whitespace)\n",
        "1. Use fuzzy matching to find similar words, and replace them. ([example](https://www.kaggle.com/rtatman/data-cleaning-challenge-inconsistent-data-entry/?scriptVersionId=3012975&cellId=14))"
      ]
    },
    {
      "cell_type": "markdown",
      "metadata": {
        "id": "6AbUg11Czf4N"
      },
      "source": [
        "### Duplicate rows"
      ]
    },
    {
      "cell_type": "code",
      "metadata": {
        "id": "MMoaHQzVFvTJ",
        "colab": {
          "base_uri": "https://localhost:8080/"
        },
        "outputId": "7d7cca70-d8ea-482c-8d08-7b5cade820c5"
      },
      "source": [
        "# are there any duplicate rows?\n",
        "df.duplicated().any()"
      ],
      "execution_count": null,
      "outputs": [
        {
          "output_type": "execute_result",
          "data": {
            "text/plain": [
              "True"
            ]
          },
          "metadata": {
            "tags": []
          },
          "execution_count": 81
        }
      ]
    },
    {
      "cell_type": "code",
      "metadata": {
        "id": "FOgQDNd31Pic",
        "colab": {
          "base_uri": "https://localhost:8080/"
        },
        "outputId": "904b0785-0d13-4364-9f05-062a2a1ee078"
      },
      "source": [
        "# how many rows are duplicated?\n",
        "df.duplicated().sum()"
      ],
      "execution_count": null,
      "outputs": [
        {
          "output_type": "execute_result",
          "data": {
            "text/plain": [
              "1"
            ]
          },
          "metadata": {
            "tags": []
          },
          "execution_count": 82
        }
      ]
    },
    {
      "cell_type": "code",
      "metadata": {
        "id": "WnSpnT3LHqCX",
        "colab": {
          "base_uri": "https://localhost:8080/",
          "height": 117
        },
        "outputId": "22073972-f5ae-4a19-e043-097ce223f9fc"
      },
      "source": [
        "# show me the duplicated row\n",
        "df[df.duplicated()]"
      ],
      "execution_count": null,
      "outputs": [
        {
          "output_type": "execute_result",
          "data": {
            "text/html": [
              "<div>\n",
              "<style scoped>\n",
              "    .dataframe tbody tr th:only-of-type {\n",
              "        vertical-align: middle;\n",
              "    }\n",
              "\n",
              "    .dataframe tbody tr th {\n",
              "        vertical-align: top;\n",
              "    }\n",
              "\n",
              "    .dataframe thead th {\n",
              "        text-align: right;\n",
              "    }\n",
              "</style>\n",
              "<table border=\"1\" class=\"dataframe\">\n",
              "  <thead>\n",
              "    <tr style=\"text-align: right;\">\n",
              "      <th></th>\n",
              "      <th>listing_name</th>\n",
              "      <th>neighbourhood_group</th>\n",
              "      <th>neighbourhood</th>\n",
              "      <th>lat</th>\n",
              "      <th>long</th>\n",
              "      <th>room_type</th>\n",
              "      <th>price</th>\n",
              "      <th>minimum_nights</th>\n",
              "      <th>number_of_reviews</th>\n",
              "      <th>last_review</th>\n",
              "      <th>reviews_per_month</th>\n",
              "      <th>calculated_host_listings_count</th>\n",
              "      <th>availability_365</th>\n",
              "      <th>year</th>\n",
              "      <th>month</th>\n",
              "      <th>day</th>\n",
              "    </tr>\n",
              "  </thead>\n",
              "  <tbody>\n",
              "    <tr>\n",
              "      <th>7</th>\n",
              "      <td>BlissArtsSpace!</td>\n",
              "      <td>Brooklyn</td>\n",
              "      <td>Bedford-Stuyvesant</td>\n",
              "      <td>40.68688</td>\n",
              "      <td>-73.95596</td>\n",
              "      <td>Private room</td>\n",
              "      <td>60</td>\n",
              "      <td>45</td>\n",
              "      <td>49</td>\n",
              "      <td>2017-10-05</td>\n",
              "      <td>0.4</td>\n",
              "      <td>1</td>\n",
              "      <td>0</td>\n",
              "      <td>2017</td>\n",
              "      <td>10</td>\n",
              "      <td>5</td>\n",
              "    </tr>\n",
              "  </tbody>\n",
              "</table>\n",
              "</div>"
            ],
            "text/plain": [
              "      listing_name neighbourhood_group       neighbourhood  ...  year  month day\n",
              "7  BlissArtsSpace!            Brooklyn  Bedford-Stuyvesant  ...  2017     10   5\n",
              "\n",
              "[1 rows x 16 columns]"
            ]
          },
          "metadata": {
            "tags": []
          },
          "execution_count": 83
        }
      ]
    },
    {
      "cell_type": "code",
      "metadata": {
        "id": "ZXrYdnkLH7cH"
      },
      "source": [
        "df.drop_duplicates(inplace = True)"
      ],
      "execution_count": null,
      "outputs": []
    },
    {
      "cell_type": "code",
      "metadata": {
        "id": "zxGOl13bH9r5",
        "colab": {
          "base_uri": "https://localhost:8080/"
        },
        "outputId": "340e0560-98ee-4df2-903c-dcb3d055afe5"
      },
      "source": [
        "df.duplicated().any()"
      ],
      "execution_count": null,
      "outputs": [
        {
          "output_type": "execute_result",
          "data": {
            "text/plain": [
              "False"
            ]
          },
          "metadata": {
            "tags": []
          },
          "execution_count": 85
        }
      ]
    },
    {
      "cell_type": "markdown",
      "metadata": {
        "id": "i1NjHgTqGcDW"
      },
      "source": [
        "## Outliers\n",
        "\n",
        "What?\n",
        "- data point that is far from other observations in our data\n",
        "- it arises from to erorrs in data collection or due to the influence of various factors on data\n",
        "- when there are outliers which indicates erroneous or abnormal data then we can either remove them or correct them.\n",
        "\n",
        "How to detect?\n",
        "- with boxplots and histograms\n",
        "- statistical methods like IQR, skewness, etc.\n",
        "\n",
        "> To choose the best way to handle outliers one must have a good domain knowledge and information about where the data come from and what they mean ; it also depends on what analysis one is planning to perform.\n",
        "\n",
        "More about data cleaning and outliers\n",
        "- https://www.pluralsight.com/guides/cleaning-up-data-from-outliers\n",
        "- https://towardsdatascience.com/ways-to-detect-and-remove-the-outliers-404d16608dba \n",
        "- https://www.kaggle.com/rtatman/data-cleaning-challenge-scale-and-normalize-data\n",
        "- https://aakada.wordpress.com/2019/02/24/how-to-deal-with-outliers-using-python-pandas/"
      ]
    },
    {
      "cell_type": "markdown",
      "metadata": {
        "id": "Ic6LsF6SK7ZH"
      },
      "source": [
        "### Continuous data"
      ]
    },
    {
      "cell_type": "code",
      "metadata": {
        "id": "GIHKrCTGKme7",
        "colab": {
          "base_uri": "https://localhost:8080/"
        },
        "outputId": "67b75d67-6e32-414e-dcdf-401addce8143"
      },
      "source": [
        "df['price'].describe()"
      ],
      "execution_count": null,
      "outputs": [
        {
          "output_type": "execute_result",
          "data": {
            "text/plain": [
              "count    48895.000000\n",
              "mean       152.720687\n",
              "std        240.154170\n",
              "min          0.000000\n",
              "25%         69.000000\n",
              "50%        106.000000\n",
              "75%        175.000000\n",
              "max      10000.000000\n",
              "Name: price, dtype: float64"
            ]
          },
          "metadata": {
            "tags": []
          },
          "execution_count": 86
        }
      ]
    },
    {
      "cell_type": "markdown",
      "metadata": {
        "id": "UdSu0JmBk4kl"
      },
      "source": [
        "#### plotting a histogram"
      ]
    },
    {
      "cell_type": "code",
      "metadata": {
        "id": "SXfHX1RlH_YV",
        "colab": {
          "base_uri": "https://localhost:8080/",
          "height": 262
        },
        "outputId": "ea242c1e-f140-44a2-d5b1-f7721bd7342d"
      },
      "source": [
        "df['price'].hist(bins=100);"
      ],
      "execution_count": null,
      "outputs": [
        {
          "output_type": "display_data",
          "data": {
            "image/png": "[encoded data removed]",
            "text/plain": [
              "<Figure size 432x288 with 1 Axes>"
            ]
          },
          "metadata": {
            "tags": [],
            "needs_background": "light"
          }
        }
      ]
    },
    {
      "cell_type": "markdown",
      "metadata": {
        "id": "RGsZE_VSk7mX"
      },
      "source": [
        "#### Plotting a boxplot\n",
        "\n",
        "![boxplot](https://external-content.duckduckgo.com/iu/?u=https%3A%2F%2Fwww.simplypsychology.org%2Fboxplot-outliers.png&f=1&nofb=1)"
      ]
    },
    {
      "cell_type": "code",
      "metadata": {
        "id": "w6BhZklcKapy",
        "colab": {
          "base_uri": "https://localhost:8080/",
          "height": 262
        },
        "outputId": "8e5f7da9-d6f4-477e-abf8-8d28e192ab51"
      },
      "source": [
        "df.boxplot(column=['price']);"
      ],
      "execution_count": null,
      "outputs": [
        {
          "output_type": "display_data",
          "data": {
            "image/png": "[encoded data removed]",
            "text/plain": [
              "<Figure size 432x288 with 1 Axes>"
            ]
          },
          "metadata": {
            "tags": [],
            "needs_background": "light"
          }
        }
      ]
    },
    {
      "cell_type": "markdown",
      "metadata": {
        "id": "mNkP5rDTK_k6"
      },
      "source": [
        "### Categorical data"
      ]
    },
    {
      "cell_type": "code",
      "metadata": {
        "id": "xxEpHiH8LJoR",
        "colab": {
          "base_uri": "https://localhost:8080/"
        },
        "outputId": "9f1b07da-a984-4c08-80c5-dfbb1fdd280d"
      },
      "source": [
        "df['neighbourhood_group'].unique()"
      ],
      "execution_count": null,
      "outputs": [
        {
          "output_type": "execute_result",
          "data": {
            "text/plain": [
              "array(['Brooklyn', 'Manhattan', 'Queens', 'Staten Island', 'Bronx'],\n",
              "      dtype=object)"
            ]
          },
          "metadata": {
            "tags": []
          },
          "execution_count": 89
        }
      ]
    },
    {
      "cell_type": "markdown",
      "metadata": {
        "id": "_iO-gaf8lAXx"
      },
      "source": [
        "#### Plotting a bar plot\n",
        "\n"
      ]
    },
    {
      "cell_type": "code",
      "metadata": {
        "id": "qGLHQVndqlcb",
        "colab": {
          "base_uri": "https://localhost:8080/"
        },
        "outputId": "2d60c760-0484-49e4-8fe0-352e885ba100"
      },
      "source": [
        "# count of each category\n",
        "df['neighbourhood_group'].value_counts()"
      ],
      "execution_count": null,
      "outputs": [
        {
          "output_type": "execute_result",
          "data": {
            "text/plain": [
              "Manhattan        21661\n",
              "Brooklyn         20104\n",
              "Queens            5666\n",
              "Bronx             1091\n",
              "Staten Island      373\n",
              "Name: neighbourhood_group, dtype: int64"
            ]
          },
          "metadata": {
            "tags": []
          },
          "execution_count": 90
        }
      ]
    },
    {
      "cell_type": "code",
      "metadata": {
        "id": "boxVhFGHJAiN",
        "colab": {
          "base_uri": "https://localhost:8080/",
          "height": 317
        },
        "outputId": "2a2db6ec-43e5-445b-82ae-18c0b76c3d74"
      },
      "source": [
        "# plot a bar plot from value counts\n",
        "df['neighbourhood_group'].value_counts().plot.bar();"
      ],
      "execution_count": null,
      "outputs": [
        {
          "output_type": "display_data",
          "data": {
            "image/png": "[encoded data removed]",
            "text/plain": [
              "<Figure size 432x288 with 1 Axes>"
            ]
          },
          "metadata": {
            "tags": [],
            "needs_background": "light"
          }
        }
      ]
    },
    {
      "cell_type": "code",
      "metadata": {
        "id": "P5w1ZdY9K1c8",
        "colab": {
          "base_uri": "https://localhost:8080/"
        },
        "outputId": "be43d30c-c131-4e70-8713-49e514b76ef5"
      },
      "source": [
        "other_index = df['neighbourhood_group'].value_counts()[2:].index\n",
        "\n",
        "# grab the indexes of the other categories, and tell pandas to change them \n",
        "# to 'Other'\n",
        "df.loc[df['neighbourhood_group'].isin(other_index), 'neighbourhood_group'] = 'Other'\n",
        "\n",
        "df['neighbourhood_group'].value_counts()"
      ],
      "execution_count": null,
      "outputs": [
        {
          "output_type": "execute_result",
          "data": {
            "text/plain": [
              "Manhattan    21661\n",
              "Brooklyn     20104\n",
              "Other         7130\n",
              "Name: neighbourhood_group, dtype: int64"
            ]
          },
          "metadata": {
            "tags": []
          },
          "execution_count": 92
        }
      ]
    },
    {
      "cell_type": "code",
      "metadata": {
        "id": "C8XR5J-vM6vM",
        "colab": {
          "base_uri": "https://localhost:8080/",
          "height": 306
        },
        "outputId": "7b0e6948-e453-48f5-f60b-6d1c7cd144ab"
      },
      "source": [
        "df['neighbourhood_group'].value_counts().plot.bar();"
      ],
      "execution_count": null,
      "outputs": [
        {
          "output_type": "display_data",
          "data": {
            "image/png": "[encoded data removed]",
            "text/plain": [
              "<Figure size 432x288 with 1 Axes>"
            ]
          },
          "metadata": {
            "tags": [],
            "needs_background": "light"
          }
        }
      ]
    },
    {
      "cell_type": "code",
      "metadata": {
        "id": "bV_Yq2ELq8WQ"
      },
      "source": [
        "df['neighbourhood_group'] = df['neighbourhood_group'].astype('category')"
      ],
      "execution_count": null,
      "outputs": []
    },
    {
      "cell_type": "markdown",
      "metadata": {
        "id": "Vjdr-1ucvVE3"
      },
      "source": [
        "## Save final cleaned dataset"
      ]
    },
    {
      "cell_type": "code",
      "metadata": {
        "id": "Xl8rTrkZvVw9"
      },
      "source": [
        "df.to_csv(\"clean_AB_NYC_2019.csv\")"
      ],
      "execution_count": null,
      "outputs": []
    },
    {
      "cell_type": "code",
      "metadata": {
        "id": "Rnly-n_lePhH"
      },
      "source": [
        ""
      ],
      "execution_count": null,
      "outputs": []
    }
  ]
}