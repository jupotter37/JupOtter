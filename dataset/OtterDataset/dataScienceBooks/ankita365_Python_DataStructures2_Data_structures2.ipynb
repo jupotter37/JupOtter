{
  "nbformat": 4,
  "nbformat_minor": 0,
  "metadata": {
    "colab": {
      "provenance": []
    },
    "kernelspec": {
      "name": "python3",
      "display_name": "Python 3"
    },
    "language_info": {
      "name": "python"
    }
  },
  "cells": [
    {
      "cell_type": "code",
      "execution_count": null,
      "metadata": {
        "id": "lLN9_1HjY7ai",
        "colab": {
          "base_uri": "https://localhost:8080/"
        },
        "outputId": "89481367-c3e6-42a2-f60d-5d199ca082b5"
      },
      "outputs": [
        {
          "output_type": "stream",
          "name": "stdout",
          "text": [
            "Enter a string: APPLE\n",
            "The reverse of the string APPLE is ELPPA\n"
          ]
        }
      ],
      "source": [
        "#1. Write a code to reverse a string\n",
        "str=input(\"Enter a string: \")\n",
        "rev=str[::-1]\n",
        "print(f\"The reverse of the string {str} is {rev}\")"
      ]
    },
    {
      "cell_type": "code",
      "source": [
        "#2. Write a code to count the number of vowels in a string\n",
        "str=input(\"Enter a string: \")\n",
        "count=0\n",
        "for i in str:\n",
        "  if (i==\"A\")or(i==\"E\")or(i==\"I\")or(i==\"O\")or(i==\"U\")or(i==\"a\")or(i==\"e\")or(i==\"i\")or(i==\"o\")or(i==\"u\"):\n",
        "    count=count+1\n",
        "print(f\"The number of vowels in the string {str} is {count}\")"
      ],
      "metadata": {
        "colab": {
          "base_uri": "https://localhost:8080/"
        },
        "id": "EuryuSc6fNxw",
        "outputId": "da6bda78-db43-494c-ac2a-b9af26bdf641"
      },
      "execution_count": null,
      "outputs": [
        {
          "output_type": "stream",
          "name": "stdout",
          "text": [
            "Enter a string: Pineapple\n",
            "The number of vowels in the string Pineapple is 4\n"
          ]
        }
      ]
    },
    {
      "cell_type": "code",
      "source": [
        "#3. Write a code to check if a given string is a palindrome or not.\n",
        "str=input(\"Enter a string: \")\n",
        "if(str==str[::-1]):\n",
        "  print(\"Palindrome\")\n",
        "else:\n",
        "  print(\"NOT Palindrome\")"
      ],
      "metadata": {
        "colab": {
          "base_uri": "https://localhost:8080/"
        },
        "id": "sZ7pfiDvgLVq",
        "outputId": "ab91295f-18b6-42c4-e5ab-4bfaf2cb6a9b"
      },
      "execution_count": null,
      "outputs": [
        {
          "output_type": "stream",
          "name": "stdout",
          "text": [
            "Enter a string: TENET\n",
            "Palindrome\n"
          ]
        }
      ]
    },
    {
      "cell_type": "code",
      "source": [
        "#4. Write a code to check if two given strings are anagrams of each other\n",
        "str=input(\"Enter a string: \")\n",
        "str1=input(\"Enter another string: \")\n",
        "if(sorted(str)==sorted(str1)):\n",
        "  print(\"The strings are anagrams of each other.\")\n",
        "else:\n",
        "  print(\"The strings are not anagrams of each other.\")"
      ],
      "metadata": {
        "colab": {
          "base_uri": "https://localhost:8080/"
        },
        "id": "_QM_zvXTzoln",
        "outputId": "72613f85-c42e-4b85-b992-3d1335ce9aee"
      },
      "execution_count": null,
      "outputs": [
        {
          "output_type": "stream",
          "name": "stdout",
          "text": [
            "Enter a string: silent\n",
            "Enter another string: listen\n",
            "The strings are anagrams of each other.\n"
          ]
        }
      ]
    },
    {
      "cell_type": "code",
      "source": [
        "#5. Write a code to find all occurrences of a given substring within another string.\n",
        "str=input(\"Enter a string: \")\n",
        "sub=input(\"Enter the substring to be searched: \")\n",
        "x=0\n",
        "s={}\n",
        "s=set(s)\n",
        "for i in str:\n",
        "  count=str.find(sub,x,len(str))\n",
        "  if count>=0:\n",
        "    s.add(count)\n",
        "  x=x+len(sub)\n",
        "print(\"The substring is present at \",s,\" positions of the string\")"
      ],
      "metadata": {
        "colab": {
          "base_uri": "https://localhost:8080/"
        },
        "id": "zycUObDO3AGi",
        "outputId": "480f6c2c-e77b-41c3-d701-ba9ffe41a4b5"
      },
      "execution_count": null,
      "outputs": [
        {
          "output_type": "stream",
          "name": "stdout",
          "text": [
            "Enter a string: johny johny yes papa\n",
            "Enter the substring to be searched: johny\n",
            "The substring is present at  {0, 6}  positions of the string\n"
          ]
        }
      ]
    },
    {
      "cell_type": "code",
      "source": [
        "#Q6. Write a code to perform basic string compression using the count of repeated characters\n",
        "str=input(\"Enter a string:\")\n",
        "count=0\n",
        "lis=[]\n",
        "for i in str:\n",
        "  if i not in lis: print(i,end=\"\")\n",
        "  for j in str:\n",
        "    if i in lis: break;\n",
        "    if i==j: count=count+1\n",
        "  if count>1: print(f\"{count}\",end=\"\")\n",
        "  count=0\n",
        "  lis.append(i)\n",
        "\n"
      ],
      "metadata": {
        "colab": {
          "base_uri": "https://localhost:8080/"
        },
        "id": "nz5NQlmQim77",
        "outputId": "7b9c9385-6f8f-49cc-98ef-4d5566b0600e"
      },
      "execution_count": null,
      "outputs": [
        {
          "output_type": "stream",
          "name": "stdout",
          "text": [
            "Enter a string:aabbffttaaa\n",
            "a5b2f2t2"
          ]
        }
      ]
    },
    {
      "cell_type": "code",
      "source": [
        "#7. Write a code to determine if a string has all unique characters\n",
        "str=input(\"Enter a string: \")\n",
        "count=0\n",
        "for i in str:\n",
        "  for j in str:\n",
        "    if i==j:\n",
        "      count=count+1\n",
        "  if count>1: break\n",
        "  count=0\n",
        "if count<1: print(\"The string has all unique characters\")\n",
        "else: print(\"The string does NOT have all unique characters\")"
      ],
      "metadata": {
        "colab": {
          "base_uri": "https://localhost:8080/"
        },
        "id": "UIEdA9u5ZLYS",
        "outputId": "ce18087c-40ed-48d3-ef0d-10e054b2cada"
      },
      "execution_count": null,
      "outputs": [
        {
          "output_type": "stream",
          "name": "stdout",
          "text": [
            "Enter a string: apple\n",
            "The string does NOT have all unique characters\n"
          ]
        }
      ]
    },
    {
      "cell_type": "code",
      "source": [
        "#8. Write a code to convert a given string to uppercase or lowercase\n",
        "str=input(\"Enter a string: \")\n",
        "print(str.upper())\n",
        "print(str.lower())"
      ],
      "metadata": {
        "colab": {
          "base_uri": "https://localhost:8080/"
        },
        "id": "pEief8D6b3sW",
        "outputId": "6d445cfa-48cf-4bac-bfc0-29ddd7edc3e2"
      },
      "execution_count": null,
      "outputs": [
        {
          "output_type": "stream",
          "name": "stdout",
          "text": [
            "Enter a string: PwSkills\n",
            "PWSKILLS\n",
            "pwskills\n"
          ]
        }
      ]
    },
    {
      "cell_type": "code",
      "source": [
        "#9. Write a code to count the number of words in a string\n",
        "str= input(\"Enter a string: \")\n",
        "lis=str.split(\" \")\n",
        "print(\"The number of words in the string is: \", len(lis))"
      ],
      "metadata": {
        "colab": {
          "base_uri": "https://localhost:8080/"
        },
        "id": "qAZ3AZyDcpY4",
        "outputId": "a8dea5c7-a6f0-4fb3-b866-f313d7340085"
      },
      "execution_count": null,
      "outputs": [
        {
          "output_type": "stream",
          "name": "stdout",
          "text": [
            "Enter a string: I am learning data science from Pwskills.\n",
            "The number of words in the string is:  7\n"
          ]
        }
      ]
    },
    {
      "cell_type": "code",
      "source": [
        "#10.  Write a code to concatenate two strings without using the + operator.\n",
        "str=input(\"Enter the 1st string: \")\n",
        "str1=input(\"Enter the 2nd string: \")\n",
        "concat=\" \".join([str,str1])\n",
        "print(\"The concatenated string is: \",concat)"
      ],
      "metadata": {
        "colab": {
          "base_uri": "https://localhost:8080/"
        },
        "id": "BILwS7BWeIL2",
        "outputId": "85969197-3009-4950-e801-97efcd81f5ce"
      },
      "execution_count": null,
      "outputs": [
        {
          "output_type": "stream",
          "name": "stdout",
          "text": [
            "Enter the 1st string: Welcome to\n",
            "Enter the 2nd string: Pwskills\n",
            "The concatenated string is:  Welcome to Pwskills\n"
          ]
        }
      ]
    },
    {
      "cell_type": "code",
      "source": [
        "#11. Write a code to remove all occurrences of a specific element from a list\n",
        "lis=[11,23,45,67,23,23,\"Apple\",\"Mango\"]\n",
        "l=[]\n",
        "item=int(input(\"Enter the item to be removed: \"))\n",
        "for i in lis:\n",
        "  if item!=i: l.append(i)\n",
        "print(l)"
      ],
      "metadata": {
        "colab": {
          "base_uri": "https://localhost:8080/"
        },
        "id": "c4wXFMmifbXI",
        "outputId": "b454a7ba-9d37-46f9-9c9b-97c3e21e0016"
      },
      "execution_count": null,
      "outputs": [
        {
          "output_type": "stream",
          "name": "stdout",
          "text": [
            "Enter the item to be removed: 23\n",
            "[11, 45, 67, 'Apple', 'Mango']\n"
          ]
        }
      ]
    },
    {
      "cell_type": "code",
      "source": [
        "#12. Implement a code to find the second largest number in a given list of integers\n",
        "lis=[12,23,95,86,22,56,45]\n",
        "max2=lis[0]\n",
        "for j in lis:\n",
        "  if j>max2 and j!=max(lis):\n",
        "    max2=j\n",
        "print(\"The second largest number in the given list is: \",max2)"
      ],
      "metadata": {
        "colab": {
          "base_uri": "https://localhost:8080/"
        },
        "id": "FFPu5DEzi8Bj",
        "outputId": "ffdf9de8-c7d9-49fe-c908-aa090c2d3129"
      },
      "execution_count": null,
      "outputs": [
        {
          "output_type": "stream",
          "name": "stdout",
          "text": [
            "The second largest number in the given list is:  86\n"
          ]
        }
      ]
    },
    {
      "cell_type": "code",
      "source": [
        "#13. Create a code to count the occurrences of each element in a list and return a dictionary with elements as\n",
        "#keys and their counts as values\n",
        "lis=[11,23,45,67,45,45,23,11,23,23,67,45,\"Apple\",\"Mango\",\"Apple\"]\n",
        "l=[]\n",
        "counter=[]\n",
        "dic={}\n",
        "count=0\n",
        "for i in lis:\n",
        "  for j in lis:\n",
        "    if j==i : count=count+1\n",
        "  dic[i]=count\n",
        "  count=0\n",
        "print(dic)\n",
        "\n"
      ],
      "metadata": {
        "id": "ZMjiqkREp8fO",
        "colab": {
          "base_uri": "https://localhost:8080/"
        },
        "outputId": "03cac673-7b8b-4b3f-d1e2-1be01c8a6d1e"
      },
      "execution_count": null,
      "outputs": [
        {
          "output_type": "stream",
          "name": "stdout",
          "text": [
            "{11: 2, 23: 4, 45: 4, 67: 2, 'Apple': 2, 'Mango': 1}\n"
          ]
        }
      ]
    },
    {
      "cell_type": "code",
      "source": [
        "#14. Write a code to reverse a list in-place without using any built-in reverse functions\n",
        "lis=[11,23,45,67,45,45,23,11,23,23,67,45,\"Apple\",\"Mango\",\"Apple\"]\n",
        "l=[]\n",
        "x=-1\n",
        "for i in range(0,len(lis)):\n",
        "  l.append(lis[x])\n",
        "  x=x-1\n",
        "print(\"The reversed list is: \")\n",
        "print(l)\n"
      ],
      "metadata": {
        "colab": {
          "base_uri": "https://localhost:8080/"
        },
        "id": "TIKRPvbKxBhe",
        "outputId": "1bb007d4-8726-4639-8ff2-69314fbf79c3"
      },
      "execution_count": null,
      "outputs": [
        {
          "output_type": "stream",
          "name": "stdout",
          "text": [
            "The reversed list is: \n",
            "['Apple', 'Mango', 'Apple', 45, 67, 23, 23, 11, 23, 45, 45, 67, 45, 23, 11]\n"
          ]
        }
      ]
    },
    {
      "cell_type": "code",
      "source": [
        "#15. Implement a code to find and remove duplicates from a list while preserving the original order of\n",
        "#elements\n",
        "lis=[11,23,45,67,45,45,23,11,23,23,67,45,\"Apple\",\"Mango\",\"Apple\"]\n",
        "l=[]\n",
        "for i in lis:\n",
        "  if i not in l:\n",
        "    l.append(i)\n",
        "print(l)"
      ],
      "metadata": {
        "colab": {
          "base_uri": "https://localhost:8080/"
        },
        "id": "ZRV0ZNS8yMuP",
        "outputId": "f8005748-08f8-48bf-ead2-dfe7bc7aa9e1"
      },
      "execution_count": null,
      "outputs": [
        {
          "output_type": "stream",
          "name": "stdout",
          "text": [
            "[11, 23, 45, 67, 'Apple', 'Mango']\n"
          ]
        }
      ]
    },
    {
      "cell_type": "code",
      "source": [
        "#16. Create a code to check if a given list is sorted (either in ascending or descending order) or not\n",
        "lis=[11,22,33,44,55,66]\n",
        "lis1=[600,500,400,300,200,100]\n",
        "for i in range(len(lis)-1):\n",
        "  if lis[i]<lis[i+1]: res= True\n",
        "  else:\n",
        "    res= False\n",
        "    break\n",
        "for i in range(len(lis1)-1):\n",
        "  if lis1[i]>lis1[i+1]: res1= True\n",
        "  else:\n",
        "    res1= False\n",
        "    break\n",
        "if res==True: print(lis,\" is in ascending order.\")\n",
        "if res1==True: print(lis1,\" is in descending order.\")"
      ],
      "metadata": {
        "colab": {
          "base_uri": "https://localhost:8080/"
        },
        "id": "2oYxybuPV5fs",
        "outputId": "611e6931-9be3-4d37-bddb-51e73ca9b21a"
      },
      "execution_count": null,
      "outputs": [
        {
          "output_type": "stream",
          "name": "stdout",
          "text": [
            "[11, 22, 33, 44, 55, 66]  is in ascending order.\n",
            "[600, 500, 400, 300, 200, 100]  is in descending order.\n"
          ]
        }
      ]
    },
    {
      "cell_type": "code",
      "source": [
        "#17.  Write a code to merge two sorted lists into a single sorted list\n",
        "lis=[11,22,33,44,55]\n",
        "lis1=[12,35,58,98,100]\n",
        "l=lis+lis1\n",
        "print(sorted(l))\n"
      ],
      "metadata": {
        "colab": {
          "base_uri": "https://localhost:8080/"
        },
        "id": "ljsnqQJ1atJE",
        "outputId": "ebb8ed59-ea45-4571-c7d7-05d62c21955a"
      },
      "execution_count": null,
      "outputs": [
        {
          "output_type": "stream",
          "name": "stdout",
          "text": [
            "[11, 12, 22, 33, 35, 44, 55, 58, 98, 100]\n"
          ]
        }
      ]
    },
    {
      "cell_type": "code",
      "source": [
        "#18. Implement a code to find the intersection of two given lists\n",
        "lis=[11,22,33,44,55,66]\n",
        "lis1=[12,23,33,66,55,49,50]\n",
        "inter=[]\n",
        "for i in lis:\n",
        "  if i in lis1: inter.append(i)\n",
        "print(\"Intersection: \",inter)"
      ],
      "metadata": {
        "colab": {
          "base_uri": "https://localhost:8080/"
        },
        "id": "KnMbj-Sz1IYQ",
        "outputId": "02ccf7c6-15c0-46ee-d319-dde42ec7f28b"
      },
      "execution_count": null,
      "outputs": [
        {
          "output_type": "stream",
          "name": "stdout",
          "text": [
            "Intersection:  [33, 55, 66]\n"
          ]
        }
      ]
    },
    {
      "cell_type": "code",
      "source": [
        "#19.  Create a code to find the union of two lists without duplicates\n",
        "lis=[11,22,33,44,55,66]\n",
        "lis1=[12,23,33,66,55,49,50]\n",
        "l=lis+lis1\n",
        "union=[]\n",
        "for i in l:\n",
        "  if i not in union: union.append(i)\n",
        "print(\"The union of two lists without intersection is: \",union)"
      ],
      "metadata": {
        "colab": {
          "base_uri": "https://localhost:8080/"
        },
        "id": "QOXQMvpV2kOg",
        "outputId": "397472a6-3306-45a5-d028-c66dae5372ef"
      },
      "execution_count": null,
      "outputs": [
        {
          "output_type": "stream",
          "name": "stdout",
          "text": [
            "The union of two lists without intersection is:  [11, 22, 33, 44, 55, 66, 12, 23, 49, 50]\n"
          ]
        }
      ]
    },
    {
      "cell_type": "code",
      "source": [
        "#20. Write a code to shuffle a given list randomly without using any built-in shuffle functions\n",
        "lis=[11,22,33,44,55,66]\n",
        "l=set(lis)\n",
        "print(\"The shuffled list: \",l)"
      ],
      "metadata": {
        "colab": {
          "base_uri": "https://localhost:8080/"
        },
        "id": "VN0cdDwQ9wan",
        "outputId": "c5a224f0-45da-4bd5-f79d-58dd91a5a614"
      },
      "execution_count": null,
      "outputs": [
        {
          "output_type": "stream",
          "name": "stdout",
          "text": [
            "The shuffled list:  {33, 66, 11, 44, 22, 55}\n"
          ]
        }
      ]
    },
    {
      "cell_type": "code",
      "source": [
        "#21. Write a code that takes two tuples and returns a new tuple containing elements that are\n",
        "#common to both input tuples.\n",
        "\n",
        "tup1=(12,34,56,78,91)\n",
        "tup2=(11,34,78,83,95)\n",
        "lis=[]\n",
        "for i in tup1:\n",
        "  if i in tup2: lis.append(i)\n",
        "new_tup=tuple(lis)\n",
        "print(lis)"
      ],
      "metadata": {
        "id": "kEpJowK1CEuY",
        "colab": {
          "base_uri": "https://localhost:8080/"
        },
        "outputId": "a182864c-3b6e-4c8b-fc4b-ae8857e7f8d9"
      },
      "execution_count": null,
      "outputs": [
        {
          "output_type": "stream",
          "name": "stdout",
          "text": [
            "[34, 78]\n"
          ]
        }
      ]
    },
    {
      "cell_type": "code",
      "source": [
        "#22. Create a code that prompts the user to enter two sets of integers separated by commas. Then, print the\n",
        "#intersection of these two sets\n",
        "set1=(input(\"Enter a set of integers separated by commas: \"))\n",
        "set2=(input(\"Enter another set of integers separated by commas: \"))\n",
        "set1=set(set1.split(','))\n",
        "set2=set(set2.split(','))\n",
        "inter=set1 & set2\n",
        "print(\"The intersection of the sets is: \", inter)\n"
      ],
      "metadata": {
        "colab": {
          "base_uri": "https://localhost:8080/"
        },
        "id": "aY4I9XPIRGyD",
        "outputId": "bffbf9bb-45ef-44f6-f1d5-ba62fc42a554"
      },
      "execution_count": null,
      "outputs": [
        {
          "output_type": "stream",
          "name": "stdout",
          "text": [
            "Enter a set of integers separated by commas: 1,2,3,4,5,6\n",
            "Enter another set of integers separated by commas: 4,5,6,7,8,9\n",
            "The intersection of the sets is:  {'4', '6', '5'}\n"
          ]
        }
      ]
    },
    {
      "cell_type": "code",
      "source": [
        "#23. Write a code to concatenate two tuples. The function should take two tuples as input and return a new\n",
        "#tuple containing elements from both input tuples\n",
        "\n",
        "def concat(tup1,tup2):\n",
        "  tup3=tup1+tup2\n",
        "  return tup3\n",
        "\n",
        "tuple1=(11,22,33,44)\n",
        "tuple2=(55,66,77,88,99)\n",
        "print(concat(tuple1,tuple2))"
      ],
      "metadata": {
        "colab": {
          "base_uri": "https://localhost:8080/"
        },
        "id": "PaSXIYjUhKWS",
        "outputId": "cfae04fe-2be9-49ce-fc54-b94e0f53f606"
      },
      "execution_count": null,
      "outputs": [
        {
          "output_type": "stream",
          "name": "stdout",
          "text": [
            "(11, 22, 33, 44, 55, 66, 77, 88, 99)\n"
          ]
        }
      ]
    },
    {
      "cell_type": "code",
      "source": [
        "#24. Develop a code that prompts the user to input two sets of strings. Then, print the elements that are\n",
        "#present in the first set but not in the second set\n",
        "\n",
        "set1=input(\"Enter the first set of strings separated by comma: \")\n",
        "set2=input(\"Enter the second set of strings separated by comma: \")\n",
        "set1=set1.split(',')\n",
        "set2=set2.split(',')\n",
        "set1,set2=set(set1),set(set2)\n",
        "new_set=set1-set2\n",
        "print(\"The elements that are present in the first set and not in the second set are: \", new_set)"
      ],
      "metadata": {
        "colab": {
          "base_uri": "https://localhost:8080/"
        },
        "id": "_fVVy2-1iSwQ",
        "outputId": "fbab149d-6863-414f-f823-e563c68871e5"
      },
      "execution_count": null,
      "outputs": [
        {
          "output_type": "stream",
          "name": "stdout",
          "text": [
            "Enter the first set of strings separated by comma: apple,banana,mango,carrot,cabbage\n",
            "Enter the second set of strings separated by comma: tomato,potato,onion,carrot,cabbage\n",
            "The elements that are present in the first set and not in the second set are:  {'apple', 'mango', 'banana'}\n"
          ]
        }
      ]
    },
    {
      "cell_type": "code",
      "source": [
        "#25.  Create a code that takes a tuple and two integers as input. The function should return a new tuple\n",
        "#containing elements from the original tuple within the specified range of indices\n",
        "\n",
        "tup=input(\"Enter elements separated by comma: \")\n",
        "num1=int(input(\"Enter a number: \"))\n",
        "num2=int(input(\"Enter another number: \"))\n",
        "tup=tup.split(',')\n",
        "tup=tuple(tup)\n",
        "for i in range(num1,num2):\n",
        "  print(tup[i],end=\",\")\n"
      ],
      "metadata": {
        "colab": {
          "base_uri": "https://localhost:8080/"
        },
        "id": "qYxzbq07jmpI",
        "outputId": "b53844ca-84e0-4af0-fdd5-5de71e45f57c"
      },
      "execution_count": null,
      "outputs": [
        {
          "output_type": "stream",
          "name": "stdout",
          "text": [
            "Enter elements separated by comma: 11,22,33,44,55,66,77,88,99\n",
            "Enter a number: 1\n",
            "Enter another number: 6\n",
            "22,33,44,55,66,"
          ]
        }
      ]
    },
    {
      "cell_type": "code",
      "source": [
        "#26. Write a code that prompts the user to input two sets of characters. Then, print the union of these two sets\n",
        "\n",
        "set1=input(\"Enter the first set of characters separated by comma: \")\n",
        "set2=input(\"Enter the second set of characters separated by comma: \")\n",
        "set1=set1.split(',')\n",
        "set2=set2.split(',')\n",
        "set1,set2=set(set1),set(set2)\n",
        "new_set=set1 | set2\n",
        "print(\"The union of the two sets are: \", new_set)\n"
      ],
      "metadata": {
        "colab": {
          "base_uri": "https://localhost:8080/"
        },
        "id": "XBKmdAjgkySU",
        "outputId": "ee7991ab-75c6-440c-a840-de2b1dcc8963"
      },
      "execution_count": null,
      "outputs": [
        {
          "output_type": "stream",
          "name": "stdout",
          "text": [
            "Enter the first set of characters separated by comma: D,a,t,a\n",
            "Enter the second set of characters separated by comma: S,c,i,e,n,c,e\n",
            "The union of the two sets are:  {'c', 'S', 'n', 'i', 't', 'D', 'e', 'a'}\n"
          ]
        }
      ]
    },
    {
      "cell_type": "code",
      "source": [
        "#27. Develop a code that takes a tuple of integers as input. The function should return the maximum and\n",
        "#minimum values from the tuple using tuple unpacking\n",
        "\n",
        "\n",
        "tup=[]\n",
        "length=int(input(\"Enter the length of the tuple: \"))\n",
        "for i in range(0,length):\n",
        "  tup.append(int(input(\"Enter an integer: \")))\n",
        "tup=tuple(tup)\n",
        "print(tup)\n",
        "print(\"Maximum value: \",max(tup))\n",
        "print(\"Minimum value: \",min(tup))\n"
      ],
      "metadata": {
        "colab": {
          "base_uri": "https://localhost:8080/"
        },
        "id": "ylHhyIR4lo1y",
        "outputId": "e988bcc1-9262-4a44-a38c-bc9fea98de26"
      },
      "execution_count": 38,
      "outputs": [
        {
          "output_type": "stream",
          "name": "stdout",
          "text": [
            "Enter the length of the tuple: 5\n",
            "Enter an integer: 11\n",
            "Enter an integer: 22\n",
            "Enter an integer: 33\n",
            "Enter an integer: 44\n",
            "Enter an integer: 55\n",
            "(11, 22, 33, 44, 55)\n",
            "Maximum value:  55\n",
            "Minimum value:  11\n"
          ]
        }
      ]
    },
    {
      "cell_type": "code",
      "source": [
        "#28. Create a code that defines two sets of integers. Then, print the union, intersection, and difference of these\n",
        "#two sets.\n",
        "set1={11,22,33,44,55,66}\n",
        "set2={44,55,66,77,88,99}\n",
        "print(\"The union of the two sets are: \",(set1|set2))\n",
        "print(\"The intesection of the two sets are: \",(set1&set2))\n",
        "print(\"The difference of the two sets are: \",(set1-set2))"
      ],
      "metadata": {
        "colab": {
          "base_uri": "https://localhost:8080/"
        },
        "id": "_c8pDoPXs2F9",
        "outputId": "c6c1bccf-4d30-4ca1-884a-1eaeed7d5446"
      },
      "execution_count": null,
      "outputs": [
        {
          "output_type": "stream",
          "name": "stdout",
          "text": [
            "The union of the two sets are:  {33, 66, 99, 11, 44, 77, 22, 55, 88}\n",
            "The intesection of the two sets are:  {66, 44, 55}\n",
            "The difference of the two sets are:  {33, 11, 22}\n"
          ]
        }
      ]
    },
    {
      "cell_type": "code",
      "source": [
        "#29.Write a code that takes a tuple and an element as input. The function should return the count of\n",
        "#occurrences of the given element in the tuple.\n",
        "\n",
        "tup=input(\"Enter a tuple of elements separated by comma: \")\n",
        "item=input(\"Enter an element: \")\n",
        "tup=tup.split(',')\n",
        "tup=tuple(tup)\n",
        "count=0\n",
        "for i in tup:\n",
        "  if item==i: count=count+1\n",
        "print(f\"{item} is present {count} times in the given tuple\")"
      ],
      "metadata": {
        "colab": {
          "base_uri": "https://localhost:8080/"
        },
        "id": "bEPYaFxTtjjv",
        "outputId": "d9bfed4e-5ddc-4c10-e76b-d17ebe7d0aef"
      },
      "execution_count": null,
      "outputs": [
        {
          "output_type": "stream",
          "name": "stdout",
          "text": [
            "Enter a tuple of elements separated by comma: 11,22,33,44,22,55,66,22,22,77,22\n",
            "Enter an element: 22\n",
            "22 is present 5 times in the given tuple\n"
          ]
        }
      ]
    },
    {
      "cell_type": "code",
      "source": [
        "#30.  Develop a code that prompts the user to input two sets of strings. Then, print the symmetric difference of\n",
        "#these two sets.\n",
        "\n",
        "set1=input(\"Enter a set of strings separated by commas: \")\n",
        "set2=input(\"Enter a second set of strings separated by commas: \")\n",
        "set1=set1.split(',')\n",
        "set2=set2.split(',')\n",
        "set1=set(set1)\n",
        "set2=set(set2)\n",
        "print(\"The symmetric difference of the two given sets is: \", (set1^set2))\n"
      ],
      "metadata": {
        "colab": {
          "base_uri": "https://localhost:8080/"
        },
        "id": "_JZFsmsEz_n-",
        "outputId": "7a062b71-7d47-463e-ae65-14957b27eee6"
      },
      "execution_count": null,
      "outputs": [
        {
          "output_type": "stream",
          "name": "stdout",
          "text": [
            "Enter a set of strings separated by commas: Apple,Mango,Banana,Carrot,Cabbage\n",
            "Enter a second set of strings separated by commas: Tomato,Potato,Onion,Carrot,Cabbage\n",
            "The symmetric difference of the two given sets is:  {'Tomato', 'Potato', 'Onion', 'Banana', 'Mango', 'Apple'}\n"
          ]
        }
      ]
    },
    {
      "cell_type": "code",
      "source": [
        "#31. Write a code that takes a list of words as input and returns a dictionary where the keys are unique words\n",
        "#and the values are the frequencies of those words in the input list\n",
        "\n",
        "lis= input(\"Enter elements of a list separated by comma: \")\n",
        "lis=lis.split(',')\n",
        "dict={}\n",
        "count=0\n",
        "for i in lis:\n",
        "  for j in lis:\n",
        "    if (i==j): count=count+1\n",
        "  dict[i]=count\n",
        "  count=0\n",
        "print(dict)\n"
      ],
      "metadata": {
        "colab": {
          "base_uri": "https://localhost:8080/"
        },
        "id": "hOdffT9x69ys",
        "outputId": "33c6810e-3082-451f-d4ae-cef6f4092af0"
      },
      "execution_count": null,
      "outputs": [
        {
          "output_type": "stream",
          "name": "stdout",
          "text": [
            "Enter elements of a list separated by comma: apple,mango,mango,apple,apple,banana,apple\n",
            "{'apple': 4, 'mango': 2, 'banana': 1}\n"
          ]
        }
      ]
    },
    {
      "cell_type": "code",
      "source": [
        "#32.  Write a code that takes two dictionaries as input and merges them into a single dictionary. If there are\n",
        "#common keys, the values should be added together\n",
        "dict1={}\n",
        "dict2={}\n",
        "len1=int(input(\"Enter the length of the first dictionary: \"))\n",
        "for i in range(0,len1):\n",
        "  key=input(\"Enter key: \")\n",
        "  value=int(input(\"Enter value: \"))\n",
        "  dict1[key]=value\n",
        "print(\"The first dictionary is: \",dict1)\n",
        "len2=int(input(\"Enter the length of the second dictionary: \"))\n",
        "for i in range(0,len2):\n",
        "  key=input(\"Enter key: \")\n",
        "  value=int(input(\"Enter value: \"))\n",
        "  dict2[key]=value\n",
        "print(\"The second dictionary is: \",dict2)\n",
        "dict3={}\n",
        "x=0\n",
        "key1=dict1.keys()\n",
        "key2=dict2.keys()\n",
        "for i in key1:\n",
        "  if i in key2: dict2[i]=dict1[i]+dict2[i]\n",
        "dict3=dict1|dict2\n",
        "print(\"The merged dictionary is: \", dict3)"
      ],
      "metadata": {
        "id": "Hvrv9uKR9SGK",
        "colab": {
          "base_uri": "https://localhost:8080/"
        },
        "outputId": "4350b46a-65f9-4aac-8129-e22f1617ac80"
      },
      "execution_count": null,
      "outputs": [
        {
          "output_type": "stream",
          "name": "stdout",
          "text": [
            "Enter the length of the first dictionary: 4\n",
            "Enter key: A\n",
            "Enter value: 3\n",
            "Enter key: B\n",
            "Enter value: 4\n",
            "Enter key: C\n",
            "Enter value: 5\n",
            "Enter key: D\n",
            "Enter value: 6\n",
            "The first dictionary is:  {'A': 3, 'B': 4, 'C': 5, 'D': 6}\n",
            "Enter the length of the second dictionary: 3\n",
            "Enter key: E\n",
            "Enter value: 7\n",
            "Enter key: A\n",
            "Enter value: 6\n",
            "Enter key: B\n",
            "Enter value: 2\n",
            "The second dictionary is:  {'E': 7, 'A': 6, 'B': 2}\n",
            "The merged dictionary is:  {'A': 9, 'B': 6, 'C': 5, 'D': 6, 'E': 7}\n"
          ]
        }
      ]
    },
    {
      "cell_type": "code",
      "source": [
        "#33. Write a code to access a value in a nested dictionary. The function should take the dictionary and a list of\n",
        "#keys as input, and return the corresponding value. If any of the keys do not exist in the dictionary, the\n",
        "#function should return None\n",
        "def access_value(dic,lis):\n",
        "  d={}\n",
        "  for i in lis:\n",
        "    if i in dic:d[i]=dic[i]\n",
        "    else: d[i]:None\n",
        "  return d\n",
        "employee_records = {\n",
        "    'E001': {'name': 'John Doe', 'department': 'Engineering', 'salary': 75000},\n",
        "    'E002': {'name': 'Jane Smith', 'department': 'Marketing', 'salary': 65000},\n",
        "    'E003': {'name': 'David Lee', 'department': 'Finance', 'salary': 80000}\n",
        "}\n",
        "lis=['E003','E001']\n",
        "access_value(employee_records,lis)\n"
      ],
      "metadata": {
        "id": "C46tSWYBpj2R",
        "colab": {
          "base_uri": "https://localhost:8080/"
        },
        "outputId": "251fec2b-150d-426d-b9db-65401a25ae02"
      },
      "execution_count": 23,
      "outputs": [
        {
          "output_type": "execute_result",
          "data": {
            "text/plain": [
              "{'E003': {'name': 'David Lee', 'department': 'Finance', 'salary': 80000},\n",
              " 'E001': {'name': 'John Doe', 'department': 'Engineering', 'salary': 75000}}"
            ]
          },
          "metadata": {},
          "execution_count": 23
        }
      ]
    },
    {
      "cell_type": "code",
      "source": [
        "#34. Write a code that takes a dictionary as input and returns a sorted version of it based on the values. You\n",
        "#can choose whether to sort in ascending or descending order\n",
        "\n",
        "dic={}\n",
        "length=int(input(\"Enter the length of the  dictionary: \"))\n",
        "for i in range(0,length):   #The values of the dictionary are in integer form to be sorted\n",
        "  key=input(\"Enter key: \")\n",
        "  value=int(input(\"Enter value: \"))\n",
        "  dic[key]=value\n",
        "print(\"The dictionary is: \",dic)\n",
        "d={}\n",
        "for i in dic:  #reversing the keys and values of 'dic' and forming a new dictionary 'd'\n",
        "  key=dic[i]\n",
        "  value=i\n",
        "  d[key]=value #sorting the values of 'd'; which is now the keys of 'd'\n",
        "d1=sorted(d)\n",
        "new={}\n",
        "for i in d1: #final result in dictionary 'new'\n",
        "  key=d[i]\n",
        "  value=i\n",
        "  new[key]=value\n",
        "print(new)\n",
        "print(\"The sorted dictionary according to values: \",new)"
      ],
      "metadata": {
        "colab": {
          "base_uri": "https://localhost:8080/"
        },
        "id": "iF47bkSDrxE6",
        "outputId": "f97abe98-1de6-4483-f890-a8d527adc7d9"
      },
      "execution_count": 51,
      "outputs": [
        {
          "output_type": "stream",
          "name": "stdout",
          "text": [
            "Enter the length of the  dictionary: 5\n",
            "Enter key: A\n",
            "Enter value: 25\n",
            "Enter key: B\n",
            "Enter value: 12\n",
            "Enter key: C\n",
            "Enter value: 45\n",
            "Enter key: D\n",
            "Enter value: 34\n",
            "Enter key: E\n",
            "Enter value: 65\n",
            "The dictionary is:  {'A': 25, 'B': 12, 'C': 45, 'D': 34, 'E': 65}\n",
            "{'B': 12, 'A': 25, 'D': 34, 'C': 45, 'E': 65}\n",
            "The sorted dictionary according to values:  {'B': 12, 'A': 25, 'D': 34, 'C': 45, 'E': 65}\n"
          ]
        }
      ]
    },
    {
      "cell_type": "code",
      "source": [
        "#35.Write a code that inverts a dictionary, swapping keys and values. Ensure that the inverted dictionary\n",
        "#correctly handles cases where multiple keys have the same value by storing the keys as a list in the\n",
        "#inverted dictionary\n",
        "\n",
        "\n",
        "dic={'A':25,'B':12,'C':45,'D':34,'E':65,'F':34,'G':12,'H':12,'I':45}\n",
        "d={}\n",
        "l_key=[]\n",
        "l=[]\n",
        "for i in dic:\n",
        "  key=dic[i]\n",
        "  value=i\n",
        "  if key in l_key:\n",
        "    l=[]\n",
        "    for j in dic:\n",
        "      if dic[i]==dic[j]:\n",
        "        l.append(j)\n",
        "    d[key]=l\n",
        "  else:\n",
        "    d[key]=value\n",
        "  l_key.append(dic[i])\n",
        "print(d)\n"
      ],
      "metadata": {
        "colab": {
          "base_uri": "https://localhost:8080/"
        },
        "id": "o4DS9-9hw8qW",
        "outputId": "6ef08fa0-5bef-49a7-ba7e-55f80eb9ebfc"
      },
      "execution_count": 34,
      "outputs": [
        {
          "output_type": "stream",
          "name": "stdout",
          "text": [
            "{25: 'A', 12: ['B', 'G', 'H'], 45: ['C', 'I'], 34: ['D', 'F'], 65: 'E'}\n"
          ]
        }
      ]
    }
  ]
}