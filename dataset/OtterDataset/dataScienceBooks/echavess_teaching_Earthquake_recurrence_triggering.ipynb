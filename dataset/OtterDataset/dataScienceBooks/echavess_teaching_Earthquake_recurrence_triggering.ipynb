{
 "cells": [
  {
   "cell_type": "markdown",
   "metadata": {},
   "source": [
    "# Earthquake Clustering and Triggering\n",
    "\n",
    "\n",
    "One of the major unsolved problems in earthquake science and seismic hazard is understanding why earthquakes in a region seem to be 'clustered' in both time and space.The implication, therefore, is that the earthquakes are either A) triggering one another, or B) responding to some larger signal.\n",
    "\n",
    "It's more reasonable to consider that the first earthquake may have perturbed the other faults enough to cause them to rupture shortly thereafter. After several decades of research into this phenomenon, the tectonics and seismological community generally recognizes that 'coseismic stress changes' can induce seismicity on other faults. Coseismic stress changes are modifications of the balance of forces promoting and resisting earthquakes on faults, caused by deformation of the crust during and after an earthquake.  These are typically calculated in terms of the [Coulomb stress change][csc], which is the change in shear stress promoting fault slip minus the change in frictional strength resisting slip.\n",
    "\n",
    "Coulomb stress changes are frequently shown to correlate with seismicity following an earthquake, and it makes sense theoretically that increasing the forces promoting fault slip or decreasing the resistance (or both) should promote earthquakes. However, Coulomb stress changes are typically very small relative to the stress released during an earthquake (often 0.1% to 1%), so it's not at all clear how they could be a significant trigger of earthquakes.\n",
    "\n",
    "Earthquakes in general are a fairly difficult topic to study. They are brief and unplanned, making them hard to capture. They start thousands of meters underneath the surface, and may not reach the surface at all, making direct observation difficult. They don't last long and they're incredibly violent, so when they do hit you're better off running for cover than grabbing your camera. So understanding the conditions under which a small perturbation like a coseismic stress change can drastically affect a much larger system can hopefully tell us a lot about the system that we can't infer directly.\n",
    "\n",
    "We'll explore some ideas about earthquake triggering using mathematical and statistical physics to try and replicate some of the basic observations of earthquake clustering. If we're successful, we'll have learned a bit about earthquakes, and in the future we'll work on further clarifying the physics of the process, as well as demonstrating how earthquake clustering and related phenomena affect societal risk and vulnerability.\n",
    "\n",
    "[csc]: https://en.wikipedia.org/wiki/Coulomb_stress_transfer"
   ]
  },
  {
   "cell_type": "markdown",
   "metadata": {
    "collapsed": true
   },
   "source": [
    "### Stress and the earthquake cycle\n",
    "\n",
    "Faults go through a cyclic process of loading (in which shear stress accumulates on the fault) and unloading (in which shear stress is released during an earthquake), which is often referred to as 'the earthquake cycle'. The loading portion of the cycle is very slow, hundreds to tens of thousands of years, while the earthquakes last seconds.\n",
    "\n",
    "Because we don't have a lot of evidence for tectonic plates speeding up and slowing down over earthquake cycle timescales, it's often assumed that the increase in stress (due to plate tectonic processes loading the faults) is linear. This has lead to a view of the earthquake cycle that looks like this, which we'll call the ['sawtooth pattern'.][csc] \n",
    "\n",
    "[csc]: https://en.wikipedia.org/wiki/Sawtooth_wave"
   ]
  },
  {
   "cell_type": "markdown",
   "metadata": {
    "collapsed": true
   },
   "source": [
    "However, there is a problem with this simple model of the earthquake cycle. As pointed out by several researchers (including [Gomberg et al. (1998)][gb98] and [Scholz (2010)][s10]), if the 'phase' of the earthquake cycle (shear stress divided by frictional strength) increases linearly, then the an earthquake can only trigger another earthquake via a small coseismic perturbation (say 1% of the total stress cycle) if the second fault is already >99% of the way through its cycle. This is inconsistent with evidence of earthquake clusters on faults with very different recurrence intervals, for example faults around Seattle, Washington ([Sherrod and Gomberg, 2014][sg14]).\n",
    "\n",
    "Therefore, something about the loading cycle must be nonlinear. Gomberg et al. (1998) suggest that the frictional strength of faults changes throughout the earthquake cycle. This is possible and supported by laboratory friction experiments which show that faults strengthen with time after failure.\n",
    "\n",
    "Scholz (2010), on the other hand, suggests that the stress loading on the fault is nonlinear due to viscoelastic relaxation in the lower crust and upper mantle below the faults, and that this effect is much larger than time-dependent changes in frictional strength.\n",
    "\n",
    "[gb98]: http://onlinelibrary.wiley.com/doi/10.1029/98JB01125/full\n",
    "[s10]: http://www.bssaonline.org/content/100/3/901.full.pdf\n",
    "[sg14]: http://onlinelibrary.wiley.com/doi/10.1002/2013JB010635/full"
   ]
  },
  {
   "cell_type": "markdown",
   "metadata": {
    "collapsed": true
   },
   "source": [
    "## Simulating fault interaction and clustering\n",
    "\n",
    "In this post, we will make some models of faults that interact over the earthquake cycle. We'll look at the effects of fault reloading, and of how differences in earthquake recurrence intervals on interacting faults affect the amount of clustering.\n",
    "\n",
    "We will keep the models pretty basic at this point, and not bring in much realistic geophyics. In the future, once we know a little better what to focus on, we can start bringing in more complexities and realism.  For now, though, we'll keep it simple.\n",
    "\n",
    "Please note that this post is done in a [Jupyter notebook] and can be [downloaded][] and executed on your computer if you have the basic scientific Python packages.\n",
    "\n",
    "First, let's import the important modules."
   ]
  },
  {
   "cell_type": "code",
   "execution_count": null,
   "metadata": {},
   "outputs": [],
   "source": [
    "%matplotlib inline\n",
    "%config InlineBackend.figure_format = 'retina'"
   ]
  },
  {
   "cell_type": "code",
   "execution_count": null,
   "metadata": {},
   "outputs": [],
   "source": [
    "import numpy as np\n",
    "import matplotlib.pyplot as plt"
   ]
  },
  {
   "cell_type": "markdown",
   "metadata": {
    "collapsed": true
   },
   "source": [
    "Now, we're going to make a simple `Fault` class that does a couple of things. It has some intrinsic characteristics (the recurrence interval), and some changing characteristics (the `phase` of the fault, or where it is in the earthquake cycle). The fault loads progressively with time, either linearly or nonlinearly, and when the phase reaches about 1 (there is some randomness; it is the earth after all), an earthquake occurs and the phase drops down to zero.  When the earthquake occurs, it sends a little push of 0.01 phase units to other faults."
   ]
  },
  {
   "cell_type": "code",
   "execution_count": null,
   "metadata": {},
   "outputs": [],
   "source": [
    "class Fault(object):\n",
    "    def __init__(self, nat_rec_int, n_yrs=int(1e5), start_phase=0., other_faults=list()):\n",
    "        self.phase = start_phase\n",
    "        self.phase_time_series = np.zeros(n_yrs)\n",
    "        self.phase_max = 1.\n",
    "        self.eq_list = []\n",
    "        self.nat_rec_int = nat_rec_int\n",
    "        self.dp = 1 / self.nat_rec_int\n",
    "        self.other_faults = [other_faults]\n",
    "        self.load_constant = 5 / self.nat_rec_int\n",
    "        self.elapsed_time = 0.\n",
    "        \n",
    "    def linear_advance(self, year):\n",
    "        self.phase += self.dp\n",
    "        self.phase_time_series[year] = self.phase\n",
    "        \n",
    "        if self.phase > self.phase_max:\n",
    "            self.earthquake(year)\n",
    "            self.phase_max = 1 + np.random.normal() * 0.05\n",
    "            \n",
    "    def nonlinear_advance(self, year):\n",
    "        self.phase += nl_load(self.elapsed_time, self.nat_rec_int) \n",
    "        self.phase_time_series[year] = self.phase\n",
    "        \n",
    "        self.elapsed_time += 1.\n",
    "        \n",
    "        if self.phase > self.phase_max:\n",
    "            self.earthquake(year)\n",
    "            self.phase_max = 1 + np.random.normal() * 0.05\n",
    "            \n",
    "    def eq_advance(self, year, push=0.01):\n",
    "        self.phase += push\n",
    "        \n",
    "        if self.phase > 1:\n",
    "            self.earthquake(year)\n",
    "        \n",
    "    def earthquake(self, year):\n",
    "        self.eq_list.append(year)\n",
    "        \n",
    "        self.elapsed_time = 0.\n",
    "        self.phase = 0.\n",
    "        \n",
    "        if len(self.other_faults) > 0:\n",
    "            for fault in self.other_faults:\n",
    "                fault.eq_advance(year)\n",
    "                \n",
    "                \n",
    "def nl_load(elapsed_time, nat_rec=100):\n",
    "    load_const = 5 / nat_rec\n",
    "    lin_load = 1 / nat_rec\n",
    "    \n",
    "    nl = 2/3 * load_const * np.exp(-load_const * elapsed_time)\n",
    "    lin = 1/3 * lin_load\n",
    "    \n",
    "    return nl + lin"
   ]
  },
  {
   "cell_type": "markdown",
   "metadata": {},
   "source": [
    "(Hopefully that wasn't too bad, the code is self-explanatory, and the lack of comments doesn't bother you. Sorry! But right now I just want to focus on the science, not the code.)"
   ]
  },
  {
   "cell_type": "markdown",
   "metadata": {},
   "source": [
    "### Linear fault reloading\n",
    "\n",
    "Our first experiment will be looking at two faults that load linearly, and have somewhat different recurrence intervals (400 and 700 years, respectively). Other than the recurrence intervals, they're identical.\n",
    "\n",
    "When each fault ruptures, it affects the other one, pushing its phase forward by 0.01.\n",
    "\n",
    "Let's simulate 1,000,000 years of the earthquake cycle:"
   ]
  },
  {
   "cell_type": "code",
   "execution_count": null,
   "metadata": {},
   "outputs": [],
   "source": [
    "# experiment setup\n",
    "\n",
    "n_yrs = int(1e6)\n",
    "yrs = np.arange(n_yrs, dtype=int)\n",
    "\n",
    "fault1 = Fault(400, n_yrs=n_yrs)\n",
    "fault2 = Fault(700, n_yrs=n_yrs)\n",
    "\n",
    "fault1.other_faults = [fault2]\n",
    "fault2.other_faults = [fault1]"
   ]
  },
  {
   "cell_type": "code",
   "execution_count": null,
   "metadata": {},
   "outputs": [],
   "source": [
    "# Now start the clock\n",
    "\n",
    "for yr in yrs:\n",
    "    fault1.linear_advance(yr)\n",
    "    fault2.linear_advance(yr)"
   ]
  },
  {
   "cell_type": "markdown",
   "metadata": {},
   "source": [
    "Now let's look at part of the history:"
   ]
  },
  {
   "cell_type": "code",
   "execution_count": null,
   "metadata": {},
   "outputs": [],
   "source": [
    "plt.figure(figsize=(10,5))\n",
    "\n",
    "plt.plot(yrs[:5000], fault1.phase_time_series[:5000], \n",
    "         label='fault1')\n",
    "plt.plot(yrs[:5000], fault2.phase_time_series[:5000], \n",
    "         label='fault1')\n",
    "\n",
    "plt.legend(loc='best')\n",
    "\n",
    "plt.xlabel('years')\n",
    "plt.ylabel('phase')\n",
    "\n",
    "plt.show()"
   ]
  },
  {
   "cell_type": "markdown",
   "metadata": {},
   "source": [
    "So it looks like the earthquakes overlap a little bit, sometimes, but in general it doesn't look like the faults have a dramatic effect on one another.\n",
    "\n",
    "One way to tell is to look at the time difference between the events; if there is a high frequency of small times between events, this is a sign of clustering."
   ]
  },
  {
   "cell_type": "code",
   "execution_count": null,
   "metadata": {},
   "outputs": [],
   "source": [
    "plt.hist(np.diff(np.sort(fault1.eq_list + fault2.eq_list)), \n",
    "         bins=20, normed=True)\n",
    "\n",
    "plt.xlabel('time between ruptures')\n",
    "plt.ylabel('relative freq.')\n",
    "\n",
    "plt.title('Earthquake recurrence times, two linear faults')\n",
    "\n",
    "plt.show()"
   ]
  },
  {
   "cell_type": "markdown",
   "metadata": {},
   "source": [
    "Well, that's not very promising for the linear loading model.\n",
    "\n",
    "\n",
    "### Nonlinear fault reloading\n",
    "\n",
    "Let's try a nonlinear loading pattern and see what happens.  Here is the nonlinear loading function; it's 1/3 linear (representing tectonic stress increase throughout the crust, which is probably linear) and 2/3 nonlinear (exponentially-decreasing), representing viscoelastic relaxation of the lower crust and upper mantle. (This is not meant to accurately represent the physics involved--we'll save that for a later post.)"
   ]
  },
  {
   "cell_type": "code",
   "execution_count": null,
   "metadata": {},
   "outputs": [],
   "source": [
    "cycle_len = 400\n",
    "cycle = np.arange(cycle_len)\n",
    "\n",
    "plt.plot(cycle, np.cumsum(nl_load(cycle, cycle_len)))\n",
    "\n",
    "plt.xlabel('years')\n",
    "plt.ylabel('phase')\n",
    "plt.title('Nonlinear loading function, 400 year EQ cycle')\n",
    "\n",
    "plt.show()"
   ]
  },
  {
   "cell_type": "markdown",
   "metadata": {},
   "source": [
    "Ok, so let's run the experiment again, changing only the loading functions of the fault:"
   ]
  },
  {
   "cell_type": "code",
   "execution_count": null,
   "metadata": {},
   "outputs": [],
   "source": [
    "n_yrs = int(1e6)\n",
    "yrs = np.arange(n_yrs, dtype=int)\n",
    "\n",
    "fault3 = Fault(400, n_yrs=n_yrs)\n",
    "fault4 = Fault(700, n_yrs=n_yrs)\n",
    "\n",
    "fault3.other_faults = [fault4]\n",
    "fault4.other_faults = [fault3]"
   ]
  },
  {
   "cell_type": "code",
   "execution_count": null,
   "metadata": {},
   "outputs": [],
   "source": [
    "for yr in yrs:\n",
    "    fault3.nonlinear_advance(yr)\n",
    "    fault4.nonlinear_advance(yr)"
   ]
  },
  {
   "cell_type": "markdown",
   "metadata": {},
   "source": [
    "Now let's look at the beginning of the time series.  Fault 3 is on top, Fault 4 is on bottom.  When Fault 3 has an earthquake, it's a red line Fault 4's time series, and vice versa."
   ]
  },
  {
   "cell_type": "code",
   "execution_count": null,
   "metadata": {},
   "outputs": [],
   "source": [
    "f, (ax0, ax1) = plt.subplots(2, sharex=True, figsize=(14,5))\n",
    "\n",
    "yr_lim = 10000\n",
    "\n",
    "ax0.plot(yrs[:yr_lim], fault3.phase_time_series[:yr_lim])\n",
    "ax0.set_ylabel('fault 3 phase')\n",
    "for eq in fault4.eq_list:\n",
    "    if eq < yr_lim:\n",
    "        ax0.axvline(eq, color='r')\n",
    "                             \n",
    "ax1.plot(yrs[:yr_lim], fault4.phase_time_series[:yr_lim])\n",
    "ax1.set_ylabel('fault 4 phase')\n",
    "for eq in fault3.eq_list:\n",
    "    if eq < yr_lim:\n",
    "        ax1.axvline(eq, color='r')                            \n",
    "        \n",
    "plt.xlabel('years')\n",
    "plt.show()"
   ]
  },
  {
   "cell_type": "markdown",
   "metadata": {},
   "source": [
    "It looks like the earthquakes coincide a bit more here.  Again, let's look at a histogram of the time between earthquakes and see if there is a spike at very low values:"
   ]
  },
  {
   "cell_type": "code",
   "execution_count": null,
   "metadata": {},
   "outputs": [],
   "source": [
    "plt.hist(np.diff(np.sort(fault3.eq_list + fault4.eq_list)), bins=25)\n",
    "\n",
    "plt.xlabel('time between ruptures')\n",
    "plt.ylabel('relative freq.')\n",
    "\n",
    "plt.title('Earthquake recurrence times, two nonlinear faults')\n",
    "\n",
    "plt.show()"
   ]
  },
  {
   "cell_type": "markdown",
   "metadata": {},
   "source": [
    "That's pretty dramatic; we're definitely seeing clusters. I think that this is particularly impressive given that the faults only change each others' phase *by 1%*.\n",
    "\n",
    "One of the interesting things about this type of interaction between oscillating objects is that given nonlinear reloading and *relatively* similar oscillation periods (earthquake recurrence intervals in this case), they should progressively become more synchronized with time. This means that it's not super important how out of phase they were in the beginning, sync will eventually occur.\n",
    "\n",
    "Let's look at the end of the time series we just ran and see if the faults appear more synchronized:"
   ]
  },
  {
   "cell_type": "code",
   "execution_count": null,
   "metadata": {},
   "outputs": [],
   "source": [
    "f, (ax0, ax1) = plt.subplots(2, sharex=True, figsize=(14,5))\n",
    "\n",
    "yr_lim = 10000\n",
    "\n",
    "ax0.plot(yrs[-yr_lim:], fault3.phase_time_series[-yr_lim:])\n",
    "ax0.set_ylabel('fault 3 phase')\n",
    "for eq in fault4.eq_list:\n",
    "    if eq > (1e6 - yr_lim):\n",
    "        ax0.axvline(eq, color='r')\n",
    "                             \n",
    "ax1.plot(yrs[-yr_lim:], fault4.phase_time_series[-yr_lim:])\n",
    "ax1.set_ylabel('fault 4 phase')\n",
    "for eq in fault3.eq_list:\n",
    "    #if eq < yr_lim:\n",
    "    if eq > (1e6 - yr_lim):\n",
    "        ax1.axvline(eq, color='r')                            \n",
    "        \n",
    "plt.xlabel('years')\n",
    "plt.show()"
   ]
  },
  {
   "cell_type": "markdown",
   "metadata": {},
   "source": [
    "And indeed they do, at least at a simple glance."
   ]
  },
  {
   "cell_type": "markdown",
   "metadata": {},
   "source": [
    "### Effects of recurrence intervals\n",
    "\n",
    "The existing literature on the topic (both by Scholz and by the mathematicians and statistical physicists who developed these concepts in the late 20th century) is largely concerned with more or less perfect synchronization. In this blog post, I've only been seeking to reproduce earthquake clusters some of the time, rather than all the time.\n",
    "\n",
    "However, even with very different slip rates (400 and 700 years) we saw that the two faults in the last experiment became more synchronized with time.  The research on the topic suggests that, all else equal, oscillators with more similar periods (i.e. faults with more similar recurrence intervals) will have an easier time becoming synchronized.\n",
    "\n",
    "Let's adjust the recurrence intervals a bit and see what happens.  Now we have faults with a 10% different recurrence interval:"
   ]
  },
  {
   "cell_type": "code",
   "execution_count": null,
   "metadata": {},
   "outputs": [],
   "source": [
    "fault5 = Fault(500, n_yrs=n_yrs)\n",
    "fault6 = Fault(550, n_yrs=n_yrs)\n",
    "\n",
    "fault5.other_faults = [fault6]\n",
    "fault6.other_faults = [fault5]"
   ]
  },
  {
   "cell_type": "code",
   "execution_count": null,
   "metadata": {},
   "outputs": [],
   "source": [
    "for yr in yrs:\n",
    "    fault5.nonlinear_advance(yr)\n",
    "    fault6.nonlinear_advance(yr)"
   ]
  },
  {
   "cell_type": "code",
   "execution_count": null,
   "metadata": {},
   "outputs": [],
   "source": [
    "f, (ax0, ax1) = plt.subplots(2, sharex=True, figsize=(16,5))\n",
    "\n",
    "yr_lim = 10000\n",
    "\n",
    "ax0.plot(yrs[-yr_lim:], fault5.phase_time_series[-yr_lim:])\n",
    "ax0.set_ylabel('fault 5 phase')\n",
    "for eq in fault6.eq_list:\n",
    "    if eq > (1e6 - yr_lim):\n",
    "        ax0.axvline(eq, color='r')\n",
    "                             \n",
    "ax1.plot(yrs[-yr_lim:], fault6.phase_time_series[-yr_lim:])\n",
    "ax1.set_ylabel('fault 6 phase')\n",
    "for eq in fault5.eq_list:\n",
    "    #if eq < yr_lim:\n",
    "    if eq > (1e6 - yr_lim):\n",
    "        ax1.axvline(eq, color='r')                            \n",
    "        \n",
    "plt.xlabel('years')\n",
    "plt.show()"
   ]
  },
  {
   "cell_type": "markdown",
   "metadata": {},
   "source": [
    "Well, this is definitely far more synchronization that we've seen, but it's still not perfect. I'm going to claim this is because of the randomness involved in the earthquake threshold (it's not perfectly 1), but I'm not sure. Maybe in the future I will investigate."
   ]
  },
  {
   "cell_type": "markdown",
   "metadata": {},
   "source": [
    "### More faults\n",
    "\n",
    "For our last experiment, let's look to see what happens with more faults, of very different recurrence intervals.  This more accurately characterizes many regions, as earthquakes tend to occur on a few highly active faults and the other regional faults are subsidiary. These systems often display clusters as well."
   ]
  },
  {
   "cell_type": "code",
   "execution_count": null,
   "metadata": {},
   "outputs": [],
   "source": [
    "fault01 = Fault(1000, n_yrs=n_yrs)\n",
    "fault02 = Fault(5500, n_yrs=n_yrs)\n",
    "fault03 = Fault(800, n_yrs=n_yrs)\n",
    "fault04 = Fault(1750, n_yrs=n_yrs)\n",
    "\n",
    "fault01.other_faults = [fault02, fault03, fault04]\n",
    "fault02.other_faults = [fault01, fault03, fault04]\n",
    "fault03.other_faults = [fault01, fault02, fault04]\n",
    "fault04.other_faults = [fault01, fault03, fault02]"
   ]
  },
  {
   "cell_type": "code",
   "execution_count": null,
   "metadata": {},
   "outputs": [],
   "source": [
    "for yr in yrs:\n",
    "    fault01.nonlinear_advance(yr)\n",
    "    fault02.nonlinear_advance(yr)\n",
    "    fault03.nonlinear_advance(yr)\n",
    "    fault04.nonlinear_advance(yr)"
   ]
  },
  {
   "cell_type": "code",
   "execution_count": null,
   "metadata": {},
   "outputs": [],
   "source": [
    "plt.hist(np.diff(np.sort(fault01.eq_list + fault02.eq_list + fault03.eq_list + fault04.eq_list)), bins=25)\n",
    "plt.show()"
   ]
  },
  {
   "cell_type": "markdown",
   "metadata": {
    "collapsed": true
   },
   "source": [
    "This is the most clustered yet, despite the large range of recurrence intervals present."
   ]
  },
  {
   "cell_type": "markdown",
   "metadata": {},
   "source": [
    "## Summary\n",
    "\n",
    "The simple numerical experiments we've done illustrate a few important things:\n",
    "1. *Very small perturbations to faults can cause earthquake clusters*.  This means that we can't rule out Coulomb stress changes as a cause, despite their miniscule magnitude.\n",
    "1. *Earthquake clustering is inconsistent with linear stress reloading on faults.* This means that elastic, and therefore linear, models of fault systems will fail to capture important fault interactions. The exact source of nonlinearity (i.e. time or phase dependence of some sort) is still unclear, although viscoelastic relaxation in the lower crust and upper mantle is a likely candidate. Modeling these systems is quite challenging, but needs to be done.\n",
    "2. *Even faults with very different slip rates can still sometimes rupture synchronously.* Clusters are ubiquitous but not the rule in instrumental and paleoseismic datasets. Very different faults can, and do, talk to each other but it takes very similar faults to march completely in step.\n",
    "3. *More faults in a region means more clustered seismicity.*  This is a big one especially for hazard analysis--the potential for ongoing seismicity in an area, even with very slow faults, is quite high after an earthquake.\n",
    "\n",
    "These results are quite encouraging, demonstrating that we can reproduce important seismic phenomena with some simple models, and we can home in on the important factors (nonlinear reloading) and ignore others (recurrence interval discrepancies, the small magnitude of Coulomb stress changes) in continued work on fault interaction and clustering."
   ]
  }
 ],
 "metadata": {
  "anaconda-cloud": {},
  "kernelspec": {
   "display_name": "Python 3",
   "language": "python",
   "name": "python3"
  },
  "language_info": {
   "codemirror_mode": {
    "name": "ipython",
    "version": 3
   },
   "file_extension": ".py",
   "mimetype": "text/x-python",
   "name": "python",
   "nbconvert_exporter": "python",
   "pygments_lexer": "ipython3",
   "version": "3.7.3"
  }
 },
 "nbformat": 4,
 "nbformat_minor": 1
}
