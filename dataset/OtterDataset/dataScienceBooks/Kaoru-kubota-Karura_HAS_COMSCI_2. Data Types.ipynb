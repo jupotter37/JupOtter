{
  "nbformat": 4,
  "nbformat_minor": 0,
  "metadata": {
    "colab": {
      "provenance": []
    },
    "kernelspec": {
      "name": "python3",
      "display_name": "Python 3"
    },
    "language_info": {
      "name": "python"
    }
  },
  "cells": [
    {
      "cell_type": "markdown",
      "source": [
        "\n",
        "### **Data Types Introduction**\n",
        "\n",
        "- **What are Data Types?**\n",
        "    - In computer science, a data type is a classification that specifies which type of value a variable can hold. Think of it as a label for the kind of data (e.g., numbers, texts, true/false values) we're dealing with.\n",
        "    - For instance, if we label something as a 'text' type, it means the variable will hold textual information like names, addresses, etc.\n",
        "\n",
        "#### **Why Do We Need Different Data Types?**\n",
        "1. **Efficiency:** Different data types use different amounts of memory. By choosing the right data type, we ensure our programs run efficiently.\n",
        "2. **Precision:** Some tasks require precision. For instance, financial calculations might need decimal values instead of whole numbers.\n",
        "3. **Clarity:** Using the right data type makes the code more readable and understandable.\n",
        "4. **Error Prevention:** Certain operations are only valid for specific data types. Having the right type can prevent errors. For example, you wouldn't want to accidentally add someone's name to their age.\n",
        "\n",
        "---\n",
        "\n",
        "### **Integers and Floats**\n",
        "\n",
        "#### **Definition and Examples of Integers and Floats**\n",
        "- **Integers:**\n",
        "    - These are whole numbers that can be positive, negative, or zero. They do not have decimal points.\n",
        "    - Examples: -3, -2, -1, 0, 1, 2, 3, ...\n",
        "- **Floats:**\n",
        "    - Also known as floating-point numbers, these are numbers that have a decimal point.\n",
        "    - They can represent real numbers (both rational and irrational numbers).\n",
        "    - Examples: -3.5, 0.0, 2.71, 3.14, ...\n",
        "\n",
        "#### **The Difference Between the Two**\n",
        "1. **Representation:** Integers are whole numbers without a decimal point, while floats have a decimal point.\n",
        "2. **Memory:** Floats typically require more memory than integers due to the precision they carry.\n",
        "3. **Operations:** Some operations might yield different results. For instance, dividing two integers might truncate the result, whereas dividing two floats will retain the decimal portion.\n",
        "\n",
        "#### **Practice: Create Variables of Integer and Float Types and Perform Basic Arithmetic Operations**\n",
        "1. **Creating Variables:**\n",
        "```python\n",
        "int_variable = 5\n",
        "float_variable = 5.5\n",
        "```\n",
        "2. **Arithmetic Operations:**\n",
        "    - **Addition:** `int_variable + 3` will result in `8`, but `float_variable + 3` will result in `8.5`.\n",
        "    - **Division:** `int_variable / 2` might differ in some languages in its result compared to `float_variable / 2`. In Python 3, both will return a float, but in some languages, integer division truncates the result.\n",
        "    - **Multiplication:** `int_variable * 2` will result in `10`, and `float_variable * 2` will result in `11.0`.\n",
        "\n",
        "3. **Experimentation:** Create your own integer and float variables and experiment with various arithmetic operations to observe the outcomes.\n",
        "\n",
        "---\n"
      ],
      "metadata": {
        "id": "LBu00G47APLR"
      }
    },
    {
      "cell_type": "code",
      "source": [
        "#Experiment with integers and floats in this cell\n",
        "\n",
        "\n"
      ],
      "metadata": {
        "id": "LCcqz0c-EMxq"
      },
      "execution_count": null,
      "outputs": []
    },
    {
      "cell_type": "markdown",
      "source": [
        "**1. Coffee Shop Calculator**\n",
        "   \n",
        "**Objective:** Calculate the total cost of items ordered at a coffee shop.\n",
        "\n",
        "- **Instructions:**\n",
        "   - Imagine you're visiting your favorite coffee shop.\n",
        "   - Use the `input()` function to ask the user to specify the number of espressos, lattes, and muffins they'd like to \"buy\". Convert these to integer values.\n",
        "   - Similarly, take user input for the prices of each item and convert these to float values.\n",
        "   - Write a program to calculate and display the total cost.\n",
        "\n",
        "---"
      ],
      "metadata": {
        "id": "bBnOPo9OEAEW"
      }
    },
    {
      "cell_type": "code",
      "source": [
        "#Your code for exercise 1 in here\n",
        "def mainmenu():\n",
        "     #メインメニュー表示\n",
        "     print(\"1.espressos：$3　,\\n\"\"2.lattes：$3.5　,\\n\"\"3.muffins：$3.25　,\")\n",
        "def drinkmenu():\n",
        "     #ドリンクメニュー表示\n",
        "     print(\"1.cola：$1　,\\n\"\"2.orange juice：$0.85　,\\n\"\"3.Green tea：$0.9\")\n",
        "def mainorder(a,b,c):\n",
        "     #メインオーダーの注文取り\n",
        "     n1=0;n2=0;n3=0;ko1=0;ko2=0;ko3=0\n",
        "     mono=int(input(\"please type the number of you want＞＞＞\"))\n",
        "     if mono==1:\n",
        "           ko1=kosuu()\n",
        "           n1=a*ko1\n",
        "     elif mono==2:\n",
        "           ko2=kosuu()\n",
        "           n2=b*ko2\n",
        "     elif mono==3:\n",
        "           ko3=kosuu()\n",
        "           n3=c*ko3\n",
        "     else:\n",
        "           print(\"This number is not exist\")\n",
        "     return n1,n2,n3,ko1,ko2,ko3\n",
        "def drinkorder(a,b,c):\n",
        "     #ドリンクオーダーの注文取り\n",
        "     n1=0;n2=0;n3=0;ko1=0;ko2=0;ko3=0\n",
        "     mono=int(input(\"please type the number of you want＞＞＞\"))\n",
        "     if mono==1:\n",
        "           ko1=kosuu()\n",
        "           n1=a*ko1\n",
        "     elif mono==2:\n",
        "           ko2=kosuu()\n",
        "           n2=b*ko2\n",
        "     elif mono==3:\n",
        "           ko3=kosuu()\n",
        "           n3=c*ko3\n",
        "     else:\n",
        "           print(\"This number is not exist\")\n",
        "     return n1,n2,n3,ko1,ko2,ko3\n",
        "def kosuu():\n",
        "     #個数確認（メインとドリンク共通）\n",
        "     kosuu=int(input(\"Type how many do you want＞＞＞\"))\n",
        "     return kosuu\n",
        "def exit():\n",
        "     #ご注文は以上ですかチェック\n",
        "     ex=int(input(\"Do you prefer someting else\\n\"\n",
        "                  \"yes/1　no/2＞＞＞\"))\n",
        "     return ex\n",
        "def drinkneed():\n",
        "     #ドリンクもいるかチェック(１と２以外の数字で再問)\n",
        "     drinkneed = int(input(\"Do you prefer some drink?\\n\"\n",
        "                           \"yes/１　no/２＞＞＞\"))\n",
        "     return drinkneed\n",
        "#=====================【初期データ】========================================\n",
        "#追加注文確認用フラグ\n",
        "mexit=0;dexit=0\n",
        "#商品の単価\n",
        "m1p=3;m2p=3.5;m3p=3.25;d1p=1;d2p=0.85;d3p=0.9\n",
        "#各商品の会計値段\n",
        "m1n=0;m2n=0;m3n=0;d1n=0;d2n=0;d3n=0\n",
        "#各商品の注文個数\n",
        "m1ko=0;m2ko=0;m3ko=0;d1ko=0;d2ko=0;d3ko=0\n",
        "\n",
        "#=====================【以下本体】=================================\n",
        "#挨拶\n",
        "print(\"Welcome to Grecery(?) store\\n\"\n",
        "     \"Please look at the menu and select a number\\n\")\n",
        "#メインメニューの注文\n",
        "while mexit<2:\n",
        "     mainmenu()\n",
        "     m1u,m2u,m3u,mk1u,mk2u,mk3u=mainorder(m1p,m2p,m3p)\n",
        "     m1n=m1n+m1u;m2n=m2n+m2u;m3n=m3n+m3u\n",
        "     m1ko=m1ko+mk1u;m2ko=m2ko+mk2u;m3ko=m3ko+mk3u\n",
        "     mexit=exit()\n",
        "#ドリンクメニューの注文\n",
        "print(\"Your main food order confirmed\")\n",
        "# dneed=drinkneed()\n",
        "# while dneed < 1 or dneed > 2:\n",
        "#      print(\"Please try again\")\n",
        "#      dneed = drinkneed()\n",
        "# if dneed==1:\n",
        "#      print(\"Will going to show the drink menu.\\n\")\n",
        "#      while dexit<2:\n",
        "#            drinkmenu()\n",
        "#            d1u,d2u,d3u,d1ku,d2ku,d3ku=drinkorder(d1p,d2p,d3p)\n",
        "#            d1n=d1n+d1u;d2n=d2n+d2u;d3n=d3n+d3u\n",
        "#            d1ko=d1ko+d1ku;d2ko=d2ko+d2ku;d3ko=d3ko+d3ku\n",
        "#            dexit=exit()\n",
        "# else:\n",
        "# print(\"Your order has been received.\")\n",
        "print(\"Your order has been received.\\n\")\n",
        "#会計へ\n",
        "if m1ko>0:\n",
        "     print(\"espressos：\",m1ko)\n",
        "if m2ko>0:\n",
        "     print(\"lattes：\",m2ko)\n",
        "if m3ko>0:\n",
        "     print(\"muffins：\",m3ko)\n",
        "if d1ko>0:\n",
        "     print(\"cola:\",d1ko)\n",
        "if d2ko>0:\n",
        "     print(\"Orange juice:\",d2ko)\n",
        "if d3ko>0:\n",
        "     print(\"Green tea\",d3ko)\n",
        "print(\"\\n\")\n",
        "goukei=m1n+m2n+m3n+d1n+d2n+d3n\n",
        "print(\"The price is $\",goukei)\n",
        "input(\"Press any key to finish\")"
      ],
      "metadata": {
        "id": "ymdlxypHEeHA",
        "colab": {
          "base_uri": "https://localhost:8080/",
          "height": 469
        },
        "outputId": "c83ec731-8107-489a-d202-d8d2dc74684b"
      },
      "execution_count": null,
      "outputs": [
        {
          "name": "stdout",
          "output_type": "stream",
          "text": [
            "Welcome to Grecery(?) store\n",
            "Please look at the menu and select a number\n",
            "\n",
            "1.espressos：$3　,\n",
            "2.lattes：$3.5　,\n",
            "3.muffins：$3.25　,\n",
            "please type the number of you want＞＞＞2\n",
            "Type how many do you want＞＞＞5\n",
            "Do you prefer someting else\n",
            "yes/1　no/2＞＞＞1\n",
            "1.espressos：$3　,\n",
            "2.lattes：$3.5　,\n",
            "3.muffins：$3.25　,\n",
            "please type the number of you want＞＞＞1\n",
            "Type how many do you want＞＞＞0\n",
            "Do you prefer someting else\n",
            "yes/1　no/2＞＞＞2\n",
            "Your main food order confirmed\n",
            "Your order has been received.\n",
            "\n",
            "lattes： 5\n",
            "\n",
            "\n",
            "The price is $ 17.5\n",
            "Press any key to finish\n"
          ]
        },
        {
          "output_type": "execute_result",
          "data": {
            "text/plain": [
              "''"
            ],
            "application/vnd.google.colaboratory.intrinsic+json": {
              "type": "string"
            }
          },
          "metadata": {},
          "execution_count": 1
        }
      ]
    },
    {
      "cell_type": "markdown",
      "source": [
        "**2. Rocket Launch Countdown**\n",
        "   \n",
        "**Objective:** Simulate a rocket launch countdown.\n",
        "\n",
        "- **Instructions:**\n",
        "   - Use the `input()` function to ask the user for a starting countdown number and convert it to an integer.\n",
        "   - Write a loop that subtracts 1 from the variable and prints the current countdown number each iteration.\n",
        "   - Add a delay (using time.sleep in Python) of 0.5 seconds between each countdown number.\n",
        "\n",
        "---\n"
      ],
      "metadata": {
        "id": "5cn16bvxEiz5"
      }
    },
    {
      "cell_type": "code",
      "source": [
        "#Your code for exercise 2 in here\n",
        "import time\n",
        "\n",
        "timer = input ('Type the timer time:')\n",
        "print(\"Timer has set \", timer, \"seconds\")\n",
        "timer = int(timer)\n",
        "time.sleep(0.5)\n",
        "print(\"ledy\")\n",
        "time.sleep(1)\n",
        "print(\"go\")\n",
        "\n",
        "while timer > 0:\n",
        "    print(timer)\n",
        "    time.sleep(1)\n",
        "    timer = timer - 1\n",
        "\n",
        "\n",
        "print(\"It is time now!\")\n",
        "\n"
      ],
      "metadata": {
        "id": "ys1WJFJWEncP",
        "colab": {
          "base_uri": "https://localhost:8080/"
        },
        "outputId": "09122d89-a4b1-4aea-dca9-60f5cc39b824"
      },
      "execution_count": null,
      "outputs": [
        {
          "output_type": "stream",
          "name": "stdout",
          "text": [
            "Type the timer time:10\n",
            "Timer has set  10 seconds\n",
            "ledy\n",
            "go\n",
            "10\n",
            "9\n",
            "8\n",
            "7\n",
            "6\n",
            "5\n",
            "4\n",
            "3\n",
            "2\n",
            "1\n",
            "It is time now!\n"
          ]
        }
      ]
    },
    {
      "cell_type": "markdown",
      "source": [
        "**3. Your Weight on Other Planets**\n",
        "   \n",
        "**Objective:** Find out how much you'd weigh on different planets based on their gravity.\n",
        "\n",
        "- **Instructions:**\n",
        "   - Use the `input()` function to ask the user for their weight on Earth and convert this to a float.\n",
        "   - Create float variables for the gravity factor of different planets (e.g., Mars is about 0.38 of Earth's gravity).\n",
        "   - Calculate and display how much they'd weigh on each of these planets.\n",
        "\n",
        "---"
      ],
      "metadata": {
        "id": "_4CLsHIKEsGa"
      }
    },
    {
      "cell_type": "code",
      "source": [
        "#Exercise 3\n",
        "Earth = 1\n",
        "Mars = 0.38\n",
        "Jupiter = 300\n",
        "Saturn = 100\n",
        "\n",
        "weight = input ('type your weight in Kg: ')\n",
        "print(\"Your weight in the Earth is\", weight, \"kg\")\n",
        "print(\"\")\n",
        "weight = float(weight)\n",
        "\n",
        "Earth = weight\n",
        "Mars = weight*Mars\n",
        "Jupiter =weight*Jupiter\n",
        "Saturn = weight*Saturn\n",
        "print(\"Earth weight\", weight, \"kg\")\n",
        "print(\"Mars weight\", Mars, \"kg\")\n",
        "print(\"Jupiter weight\", Jupiter, \"kg\")\n",
        "print(\"Saturn wiehgt\", Saturn, \"kg\")"
      ],
      "metadata": {
        "id": "2CGVY3iiEvR9",
        "colab": {
          "base_uri": "https://localhost:8080/"
        },
        "outputId": "732f5e42-64fa-4ec6-caa9-798da5a45e81"
      },
      "execution_count": null,
      "outputs": [
        {
          "output_type": "stream",
          "name": "stdout",
          "text": [
            "type your weight in Kg: 100\n",
            "Your weight in the Earth is 100 kg\n",
            "\n",
            "Earth weight 100.0 kg\n",
            "Mars weight 38.0 kg\n",
            "Jupiter weight 30000.0 kg\n",
            "Saturn wiehgt 10000.0 kg\n"
          ]
        }
      ]
    },
    {
      "cell_type": "markdown",
      "source": [
        "**4. Pizza Party Calculator**\n",
        "   \n",
        "**Objective:** Calculate the cost per slice of pizza.\n",
        "\n",
        "- **Instructions:**\n",
        "   - Use the `input()` function to ask the user how many pizzas they bought and the total cost. Convert these values appropriately (integer for number of pizzas, float for cost).\n",
        "   - Ask the user to specify how many slices each pizza has and convert this to an integer.\n",
        "   - Calculate and display the cost per slice.\n",
        "\n",
        "---"
      ],
      "metadata": {
        "id": "iSGrrgiNExxp"
      }
    },
    {
      "cell_type": "code",
      "source": [
        "#Exercise 4\n",
        "# pizza = 140\n",
        "\n",
        "# slice = input('How many slice of pizza do you want?')\n",
        "# cost = int(slice)\n",
        "# cost = cost * pizza\n",
        "\n",
        "# print(\"Total cost of the\", slice, \"of the pizza is NTD\", cost)\n",
        "\n",
        "total = input ('what is the total cost of pizza?')\n",
        "total = int(total)\n",
        "\n",
        "slice = input('How many slice did you buy?')\n",
        "slice = int(slice)\n",
        "\n",
        "print(\"Each slice of the pizza cost is NTD\",total/slice)"
      ],
      "metadata": {
        "id": "QFiXisVwE0ZR",
        "colab": {
          "base_uri": "https://localhost:8080/"
        },
        "outputId": "db879eaf-25fc-4293-ea93-34b0c04b1ba4"
      },
      "execution_count": 2,
      "outputs": [
        {
          "output_type": "stream",
          "name": "stdout",
          "text": [
            "what is the total cost of pizza?1000\n",
            "How many slice did you buy?10\n",
            "Each slice of the pizza cost is NTD 100.0\n"
          ]
        }
      ]
    },
    {
      "cell_type": "markdown",
      "source": [
        "\n",
        "**5. Travel Budget Calculator**\n",
        "   \n",
        "**Objective:** Calculate the total budget required for a trip.\n",
        "\n",
        "- **Instructions:**\n",
        "   - Imagine you're planning a trip to your dream destination.\n",
        "   - Use the `input()` function to ask the user for the number of days they plan to stay and convert this to an integer.\n",
        "   - Ask the user to specify the estimated daily expenses for food, accommodation, and sightseeing. Convert these to float values.\n",
        "   - Write a program to calculate and display the total estimated cost for the trip.\n",
        "\n",
        "---"
      ],
      "metadata": {
        "id": "bgTECsKHE3CF"
      }
    },
    {
      "cell_type": "code",
      "source": [
        "#Exercise 5\n",
        "import time\n",
        "print (\"Imagine you're planning a trip to your dream destination.\")\n",
        "time.sleep(2)\n",
        "print (\"How ever you need to pay fee to the trip\")\n",
        "time.sleep(2)\n",
        "print (\"Let's calculate how many cost do we need to go to the Trip!\")\n",
        "time.sleep(2)\n",
        "\n",
        "days = input(\"How many day do you go to the trip?  \")\n",
        "food = input(\"How many food fee do you need?  \")\n",
        "acc = input(\"How many accommodation fee do you need?  \")\n",
        "sig = input(\"How many sightseeing fee do you need?  \")\n",
        "\n",
        "print (\"So you go to\", days, \"day, spend\", food, \"for the food, spend\", acc, \"for the accommodation, \\nand spend\", sig, \"for the sight seeing fee\")\n",
        "\n",
        "days = float(days)\n",
        "food = float(food)\n",
        "acc = float(acc)\n",
        "sig = float(sig)\n",
        "\n",
        "cost = food+acc+sig\n",
        "cost = cost*days\n",
        "\n",
        "time.sleep(4)\n",
        "\n",
        "print(\"So the total cost of the trip is\", cost)"
      ],
      "metadata": {
        "id": "sT4Q-aYuE4jM",
        "colab": {
          "base_uri": "https://localhost:8080/",
          "height": 447
        },
        "outputId": "51b2a415-8eb0-4e6f-bb3f-b17ca24db10c"
      },
      "execution_count": null,
      "outputs": [
        {
          "output_type": "stream",
          "name": "stdout",
          "text": [
            "Imagine you're planning a trip to your dream destination.\n",
            "How ever you need to pay fee to the trip\n",
            "Let's calculate how many cost do we need to go to the Trip!\n"
          ]
        },
        {
          "output_type": "error",
          "ename": "KeyboardInterrupt",
          "evalue": "ignored",
          "traceback": [
            "\u001b[0;31m---------------------------------------------------------------------------\u001b[0m",
            "\u001b[0;31mKeyboardInterrupt\u001b[0m                         Traceback (most recent call last)",
            "\u001b[0;32m<ipython-input-1-efe048f469c9>\u001b[0m in \u001b[0;36m<cell line: 10>\u001b[0;34m()\u001b[0m\n\u001b[1;32m      8\u001b[0m \u001b[0mtime\u001b[0m\u001b[0;34m.\u001b[0m\u001b[0msleep\u001b[0m\u001b[0;34m(\u001b[0m\u001b[0;36m2\u001b[0m\u001b[0;34m)\u001b[0m\u001b[0;34m\u001b[0m\u001b[0;34m\u001b[0m\u001b[0m\n\u001b[1;32m      9\u001b[0m \u001b[0;34m\u001b[0m\u001b[0m\n\u001b[0;32m---> 10\u001b[0;31m \u001b[0mdays\u001b[0m \u001b[0;34m=\u001b[0m \u001b[0minput\u001b[0m\u001b[0;34m(\u001b[0m\u001b[0;34m\"How many day do you go to the trip?  \"\u001b[0m\u001b[0;34m)\u001b[0m\u001b[0;34m\u001b[0m\u001b[0;34m\u001b[0m\u001b[0m\n\u001b[0m\u001b[1;32m     11\u001b[0m \u001b[0mfood\u001b[0m \u001b[0;34m=\u001b[0m \u001b[0minput\u001b[0m\u001b[0;34m(\u001b[0m\u001b[0;34m\"How many food fee do you need?  \"\u001b[0m\u001b[0;34m)\u001b[0m\u001b[0;34m\u001b[0m\u001b[0;34m\u001b[0m\u001b[0m\n\u001b[1;32m     12\u001b[0m \u001b[0macc\u001b[0m \u001b[0;34m=\u001b[0m \u001b[0minput\u001b[0m\u001b[0;34m(\u001b[0m\u001b[0;34m\"How many accommodation fee do you need?  \"\u001b[0m\u001b[0;34m)\u001b[0m\u001b[0;34m\u001b[0m\u001b[0;34m\u001b[0m\u001b[0m\n",
            "\u001b[0;32m/usr/local/lib/python3.10/dist-packages/ipykernel/kernelbase.py\u001b[0m in \u001b[0;36mraw_input\u001b[0;34m(self, prompt)\u001b[0m\n\u001b[1;32m    849\u001b[0m                 \u001b[0;34m\"raw_input was called, but this frontend does not support input requests.\"\u001b[0m\u001b[0;34m\u001b[0m\u001b[0;34m\u001b[0m\u001b[0m\n\u001b[1;32m    850\u001b[0m             )\n\u001b[0;32m--> 851\u001b[0;31m         return self._input_request(str(prompt),\n\u001b[0m\u001b[1;32m    852\u001b[0m             \u001b[0mself\u001b[0m\u001b[0;34m.\u001b[0m\u001b[0m_parent_ident\u001b[0m\u001b[0;34m,\u001b[0m\u001b[0;34m\u001b[0m\u001b[0;34m\u001b[0m\u001b[0m\n\u001b[1;32m    853\u001b[0m             \u001b[0mself\u001b[0m\u001b[0;34m.\u001b[0m\u001b[0m_parent_header\u001b[0m\u001b[0;34m,\u001b[0m\u001b[0;34m\u001b[0m\u001b[0;34m\u001b[0m\u001b[0m\n",
            "\u001b[0;32m/usr/local/lib/python3.10/dist-packages/ipykernel/kernelbase.py\u001b[0m in \u001b[0;36m_input_request\u001b[0;34m(self, prompt, ident, parent, password)\u001b[0m\n\u001b[1;32m    893\u001b[0m             \u001b[0;32mexcept\u001b[0m \u001b[0mKeyboardInterrupt\u001b[0m\u001b[0;34m:\u001b[0m\u001b[0;34m\u001b[0m\u001b[0;34m\u001b[0m\u001b[0m\n\u001b[1;32m    894\u001b[0m                 \u001b[0;31m# re-raise KeyboardInterrupt, to truncate traceback\u001b[0m\u001b[0;34m\u001b[0m\u001b[0;34m\u001b[0m\u001b[0m\n\u001b[0;32m--> 895\u001b[0;31m                 \u001b[0;32mraise\u001b[0m \u001b[0mKeyboardInterrupt\u001b[0m\u001b[0;34m(\u001b[0m\u001b[0;34m\"Interrupted by user\"\u001b[0m\u001b[0;34m)\u001b[0m \u001b[0;32mfrom\u001b[0m \u001b[0;32mNone\u001b[0m\u001b[0;34m\u001b[0m\u001b[0;34m\u001b[0m\u001b[0m\n\u001b[0m\u001b[1;32m    896\u001b[0m             \u001b[0;32mexcept\u001b[0m \u001b[0mException\u001b[0m \u001b[0;32mas\u001b[0m \u001b[0me\u001b[0m\u001b[0;34m:\u001b[0m\u001b[0;34m\u001b[0m\u001b[0;34m\u001b[0m\u001b[0m\n\u001b[1;32m    897\u001b[0m                 \u001b[0mself\u001b[0m\u001b[0;34m.\u001b[0m\u001b[0mlog\u001b[0m\u001b[0;34m.\u001b[0m\u001b[0mwarning\u001b[0m\u001b[0;34m(\u001b[0m\u001b[0;34m\"Invalid Message:\"\u001b[0m\u001b[0;34m,\u001b[0m \u001b[0mexc_info\u001b[0m\u001b[0;34m=\u001b[0m\u001b[0;32mTrue\u001b[0m\u001b[0;34m)\u001b[0m\u001b[0;34m\u001b[0m\u001b[0;34m\u001b[0m\u001b[0m\n",
            "\u001b[0;31mKeyboardInterrupt\u001b[0m: Interrupted by user"
          ]
        }
      ]
    }
  ]
}
