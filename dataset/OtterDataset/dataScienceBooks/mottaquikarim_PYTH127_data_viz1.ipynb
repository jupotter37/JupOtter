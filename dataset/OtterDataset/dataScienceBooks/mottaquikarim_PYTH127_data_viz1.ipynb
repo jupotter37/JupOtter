{
 "cells": [
  {
   "cell_type": "markdown",
   "metadata": {},
   "source": [
    "[![Open In Colab](https://colab.research.google.com/assets/colab-badge.svg)](https://colab.research.google.com/github/mottaquikarim/pycontent/blob/master/.out/topics/data_viz1.ipynb)"
   ]
  },
  {
   "cell_type": "markdown",
   "metadata": {},
   "source": [
    "# Data Visualization I: Intro to Plotting Libraries\n",
    "\n",
    "## Objectives\n",
    "\n",
    "In this lesson, we'll discuss what plotting capabilities are available with Pandas, Matplotlib, and Seaborn. We'll combine a cherry-picking of features that will allow you to create common plots with elegance, but relative ease. Here is a summary of points we'll cover:\n",
    "\n",
    "* A review of qualitative data viz best practices\n",
    "* The anatomy of a plot and the building blocks of data visualizations\n",
    "* Styling with Seaborn\n",
    "\n",
    "## Review \n",
    "\n",
    "Below is a brief review of the key points about data visualization & storytelling from the \"Data Science Foundations\" section.\n",
    "\n",
    "* Visualizations serve to quickly explain features and conclusions about data to your stakeholders.\n",
    "* As such, they should be *simple*, *uncluttered*, and *clearly labeled*. Less is more.\n",
    "* Visual considerations include position, color, order, & size.\n",
    "* The best visualizations tell a story about the data by illustrating key points supporting your thesis and conclusions.\n",
    "* Most importantly, *consider your audience* when crafting your story.\n",
    "* The chart type you select should accurately represent the variables you are pulling from data in a way that is clearly readable for your audience.\n",
    "\n",
    "## Intro to Plotting Libraries\n",
    "\n",
    "Let's start with where the different libraries fit in:\n",
    "\n",
    "* Matplotlib is the foundational data viz library in Python. Plotting functionality in other libraries is built on top of Matplotlib. Matplotlib is vastly flexible, but also quite complex. \n",
    "* Pandas plotting capabilities are limited to the basics. Pandas provides a way to plot using your Series or DataFrame object as a base. (We'll explain that shortly). Any bells and whistles require you to incorporate Matplotlib.\n",
    "* Seaborn specializes in statistical visualizations. It simplifies the creation of a collection of statistical plots, but it lacks some of the customization options that Matplotlib provides.\n"
   ]
  },
  {
   "cell_type": "code",
   "execution_count": null,
   "metadata": {},
   "outputs": [],
   "source": [
    "import numpy as np\n",
    "import pandas as pd\n",
    "\n",
    "import matplotlib.pyplot as plt\n",
    "%matplotlib inline\n",
    "import seaborn as sns\n",
    "\n",
    "print('import successful')"
   ]
  },
  {
   "cell_type": "markdown",
   "metadata": {},
   "source": [
    "\n",
    "**`%matplotlib inline`** is specific to Jupyter Notebooks & Colab. It tells Python to draw the figure inline with the code as opposed to making it available only as a downloadable .png file.\n",
    "\n",
    "## Anatomy of a Plot\n",
    "\n",
    "The underlying elements of a plot:\n",
    "\n",
    "<img src=\"https://raw.githubusercontent.com/mottaquikarim/pycontent/master/content/images/fig_map_realpython.png\" width=\"400px\"/>\n",
    "\n",
    "[image source](https://realpython.com/python-matplotlib-guide/#the-matplotlib-object-hierarchy)\n",
    "\n",
    "* The **Figure** encompasses the axes as well as all its accompanying parts, i.e. the title, the legend, axis labels, etc.\n",
    "* If you have a grid/matrix of graphs in a single figure, we call each cell in the grid a **Subplot**. \n",
    "* When you create a subplot, it automatically creates an **Axes** object. This is where the data actually gets graphed.\n",
    "* Spines refer to the outlines of the axes (bottom (x-axis), left (y-axis), top, and right)\n",
    "* **Ticks** are the periodic marks on the x and y axes.\n",
    "* You should also include a **Title** and **Labels** for the x and y axes. \n",
    "* A **Legend** (not pictured above) is used to define  different colors or shapes on a single graph as different categories or segments of data.\n",
    "\n",
    "With Matplotlib, many of the above objects must be created manually BEFORE plotting the data. With Pandas and Seaborn, often the figure, axes, and even the labels are created implicitly when you plot the data. \n",
    "\n",
    "### Plot Anatomy Examples\n",
    "\n",
    "1. Here is how you would create a figure object with a custom size using Matplotlib. Notice how it does not print any sort of visual object. That's because it doesn't have any axes objects on it yet.\n"
   ]
  },
  {
   "cell_type": "code",
   "execution_count": null,
   "metadata": {},
   "outputs": [],
   "source": [
    "fig = plt.figure(figsize=(7,7))"
   ]
  },
  {
   "cell_type": "markdown",
   "metadata": {},
   "source": [
    "\n",
    "2. `plt.subplots()` creates a figure object with some number of subplot/axes objects. Its default args are `nrows=1, ncols=1`, so the below code creates only a single subplot/axes object. Using the tuple unpacking syntax below allows you to access the figure and axes objects individually. \n"
   ]
  },
  {
   "cell_type": "code",
   "execution_count": null,
   "metadata": {},
   "outputs": [],
   "source": [
    "fig, ax = plt.subplots() # default args are nrows=1, ncols=1"
   ]
  },
  {
   "cell_type": "markdown",
   "metadata": {},
   "source": [
    "\n",
    "3. This creates a 2x2 grid of axes objects on a single figure:\n"
   ]
  },
  {
   "cell_type": "code",
   "execution_count": null,
   "metadata": {},
   "outputs": [],
   "source": [
    "fig, ax = plt.subplots(nrows=2, ncols=2)"
   ]
  },
  {
   "cell_type": "markdown",
   "metadata": {},
   "source": [
    "\n",
    "4. You can pass the `figsize` parameters to `plt.subplots()`...\n"
   ]
  },
  {
   "cell_type": "code",
   "execution_count": null,
   "metadata": {},
   "outputs": [],
   "source": [
    "fig, ax = plt.subplots(figsize=(9, 6))"
   ]
  },
  {
   "cell_type": "markdown",
   "metadata": {},
   "source": [
    "\n",
    "5. ... Note that it changes the size of the whole figure, not each subplot. \n"
   ]
  },
  {
   "cell_type": "code",
   "execution_count": null,
   "metadata": {},
   "outputs": [],
   "source": [
    "fig, ax = plt.subplots(nrows=2, ncols=2, figsize=(9, 6))"
   ]
  },
  {
   "cell_type": "markdown",
   "metadata": {},
   "source": [
    "\n",
    "Various functions for plotting data can infer other descriptive plot elements like the title, labels, and the legend. When possible, they implicitly add those to the plot. However, they also have their own dedicated Matplotlib functions. You can combine these with Pandas and Seaborn plots to add some customization. The main ones you'll use are:\n",
    "\n",
    "* `plt.title()`\n",
    "* `fig.suptitle()` -- adds a title to the overall figure if there's more than one subplot (i.e. supertitle)\n",
    "* `plt.xlabel()`\n",
    "* `plt.ylabel()`\n",
    "* `plt.legend()` or `<axes>.legend()`\n",
    "* `plt.savefig('image_name.png', transparent=False)`\n",
    "\n",
    "## Setting Figure Styles with Seaborn\n",
    "\n",
    "To help illustrate style examples without loading a dataset, we've copied a function that creates a sine wave graph from the [Seaborn Aesthetics Tutorial](https://seaborn.pydata.org/tutorial/aesthetics.html).\n"
   ]
  },
  {
   "cell_type": "code",
   "execution_count": null,
   "metadata": {},
   "outputs": [],
   "source": [
    "def sinplot(flip=1):\n",
    "    x = np.linspace(0, 14, 100)\n",
    "    for i in range(1, 7):\n",
    "        plt.plot(x, np.sin(x + i * .5) * (7 - i) * flip)\n",
    "\n",
    "sinplot()"
   ]
  },
  {
   "cell_type": "markdown",
   "metadata": {},
   "source": [
    "\n",
    "### Color Palettes\n",
    "\n",
    "* `sns.color_palette()` -- create a `_ColorPalette` object\n",
    "\n",
    "This function can accept pre-existing Seaborn color palette, like any of the ones found [here](https://seaborn.pydata.org/tutorial/color_palettes.html), or a list of HEX colors in string format (e.g. '#3399FF').\n"
   ]
  },
  {
   "cell_type": "code",
   "execution_count": null,
   "metadata": {},
   "outputs": [],
   "source": [
    "BrBG = sns.color_palette('BrBG') # pre-existing palette\n",
    "\n",
    "cpal = ['dodgerblue', '#2ecc71', '#bb64ed', '#ffd13b', 'xkcd:tangerine', '#fa62b7']\n",
    "\n",
    "print(type(BrBG))"
   ]
  },
  {
   "cell_type": "markdown",
   "metadata": {},
   "source": [
    "\n",
    "* `sns.palplot()` -- prints an image of whatever color palette is passed to it\n",
    "\n",
    "Depending on how many colors a certain plot needs, it will pull them in the order you see here. \n"
   ]
  },
  {
   "cell_type": "code",
   "execution_count": null,
   "metadata": {},
   "outputs": [],
   "source": [
    "sns.palplot(cpal)"
   ]
  },
  {
   "cell_type": "markdown",
   "metadata": {},
   "source": [
    "\n",
    "* `sns.setpalette()` -- pass a `_ColorPalette` object to use it with all the plots you subsequently create\n"
   ]
  },
  {
   "cell_type": "code",
   "execution_count": null,
   "metadata": {},
   "outputs": [],
   "source": [
    "sns.set_palette(BrBG)\n",
    "sinplot()"
   ]
  },
  {
   "cell_type": "markdown",
   "metadata": {},
   "source": [
    "\n",
    "### Axes Styles\n",
    "\n",
    "* `sns.set_style(style='ticks')` -- apply a preset \"style\" to axes objects\n",
    "\n",
    "Options include `ticks` (default), `darkgrid`, `whitegrid`, `dark`, or `white`.\n"
   ]
  },
  {
   "cell_type": "code",
   "execution_count": null,
   "metadata": {},
   "outputs": [],
   "source": [
    "sns.set_style('whitegrid')\n",
    "sinplot()"
   ]
  },
  {
   "cell_type": "markdown",
   "metadata": {},
   "source": [
    "\n",
    "* `sns.set_context(context='notebook', font_scale=1)`\n",
    "\n",
    "In order of relative size, the four preset context styles are `paper`, `notebook` (default), `talk`, and `poster`. You can separately scale the font-size and line spacing using the `font_scale` parameter.\n"
   ]
  },
  {
   "cell_type": "code",
   "execution_count": null,
   "metadata": {},
   "outputs": [],
   "source": [
    "sns.set_context('talk', font_scale=1.5)\n",
    "sinplot()"
   ]
  },
  {
   "cell_type": "markdown",
   "metadata": {},
   "source": [
    "\n",
    "### Combining Style Settings\n",
    "\n",
    "You can customize all the styling settings at once using `sns.set()`. Calling this function with no parameters *resets* all the settings to their defaults:\n"
   ]
  },
  {
   "cell_type": "code",
   "execution_count": null,
   "metadata": {},
   "outputs": [],
   "source": [
    "sns.set()\n",
    "sinplot()"
   ]
  },
  {
   "cell_type": "markdown",
   "metadata": {},
   "source": [
    "\n",
    "These are the default arguments for the most commonly used parameters in this function:\n",
    "\n",
    "* `sns.set(context='notebook', style='darkgrid', palette='deep', font='sans-serif', font_scale=1, color_codes=True, rc=None)`\n",
    "\n",
    "Below, we apply and preview a mix of styles that will suit the visualizations in the **next** lesson.\n"
   ]
  },
  {
   "cell_type": "code",
   "execution_count": null,
   "metadata": {},
   "outputs": [],
   "source": [
    "sns.set(context='notebook', style='ticks', palette=cpal, font_scale=1.2, \n",
    "\trc={'lines.linewidth': 1.75, 'figure.figsize': (9, 6)})\n",
    "\n",
    "sinplot()"
   ]
  }
 ],
 "metadata": {},
 "nbformat": 4,
 "nbformat_minor": 2
}
