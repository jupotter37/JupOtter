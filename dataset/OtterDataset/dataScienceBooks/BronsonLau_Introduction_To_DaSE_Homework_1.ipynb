{
 "cells": [
  {
   "cell_type": "markdown",
   "metadata": {},
   "source": [
    "1. 编写Python程序，打印\"数据科学与工程导论\"，并使用 print(chr(0x2605)) 语句将星星包围起来。"
   ]
  },
  {
   "cell_type": "code",
   "execution_count": null,
   "metadata": {},
   "outputs": [],
   "source": [
    "#1 \n",
    "print(chr(0x2605) + \" 数据科学与工程导论 \" + chr(0x2605))"
   ]
  },
  {
   "cell_type": "markdown",
   "metadata": {},
   "source": [
    "#### 1\n",
    "###### 输出：\n",
    "###### ★ 数据科学与工程导论 ★"
   ]
  },
  {
   "cell_type": "markdown",
   "metadata": {},
   "source": [
    "2. 写一个 Python 程序，输入 x, y, z 这三个数，将这三个数从小到大使用 print 函数打印出来。"
   ]
  },
  {
   "cell_type": "code",
   "execution_count": null,
   "metadata": {},
   "outputs": [],
   "source": [
    "#2\n",
    "X = input(\"Enter a number X: \")\n",
    "Y = input(\"Enter a number Y: \")\n",
    "Z = input(\"Enter a number Z: \")\n",
    "\n",
    "numbers = [X, Y, Z]\n",
    "\n",
    "numbers.sort()\n",
    "\n",
    "for number in numbers:\n",
    "    print(number)\n"
   ]
  },
  {
   "cell_type": "markdown",
   "metadata": {},
   "source": [
    "#### 2\n",
    "###### 输入：5 6 1\n",
    "###### 输出：\n",
    "1\n",
    "5\n",
    "6"
   ]
  },
  {
   "cell_type": "markdown",
   "metadata": {},
   "source": [
    "3. 写一个 Python 程序，有 w, x, y, z 四个数，将这四个数从大到小使用 print 函数打印出来。"
   ]
  },
  {
   "cell_type": "code",
   "execution_count": null,
   "metadata": {},
   "outputs": [],
   "source": [
    "#3\n",
    "W = input(\"Enter a number W: \")\n",
    "X = input(\"Enter a number X: \")\n",
    "Y = input(\"Enter a number Y: \")\n",
    "Z = input(\"Enter a number Z: \")\n",
    "\n",
    "\n",
    "numbers = [W, X, Y, Z]\n",
    "\n",
    "numbers.sort(reverse=True)\n",
    "\n",
    "for number in numbers:\n",
    "    print(number)"
   ]
  },
  {
   "cell_type": "markdown",
   "metadata": {},
   "source": [
    "#### 3\n",
    "###### 输入：6 3 8 1\n",
    "###### 输出：\n",
    "8\n",
    "6\n",
    "3\n",
    "1"
   ]
  },
  {
   "cell_type": "markdown",
   "metadata": {},
   "source": [
    "4. 写一个 Python 程序，输出 1-100 中的所有奇数。"
   ]
  },
  {
   "cell_type": "code",
   "execution_count": null,
   "metadata": {},
   "outputs": [],
   "source": [
    "#4\n",
    "for number in range(1, 101):\n",
    "    if number % 2 ==1:\n",
    "        print(number)"
   ]
  },
  {
   "cell_type": "markdown",
   "metadata": {},
   "source": [
    "#### 4\n",
    "###### 输出：\n",
    "1\n",
    "3\n",
    "5\n",
    "7\n",
    "9\n",
    "11\n",
    "13\n",
    "15\n",
    "17\n",
    "19\n",
    "21\n",
    "23\n",
    "25\n",
    "27\n",
    "29\n",
    "31\n",
    "33\n",
    "35\n",
    "37\n",
    "39\n",
    "41\n",
    "43\n",
    "45\n",
    "47\n",
    "49\n",
    "...\n",
    "93\n",
    "95\n",
    "97\n",
    "99"
   ]
  },
  {
   "cell_type": "markdown",
   "metadata": {},
   "source": [
    "5. 写一个 Python 程序，用 for 循环，求解 1 到 100 的和。"
   ]
  },
  {
   "cell_type": "code",
   "execution_count": null,
   "metadata": {},
   "outputs": [],
   "source": [
    "#5\n",
    "count = 0\n",
    "for number in range(1, 101):\n",
    "    count += number\n",
    "    \n",
    "print(count)"
   ]
  },
  {
   "cell_type": "markdown",
   "metadata": {},
   "source": [
    "#### 5\n",
    "###### 输出：5050"
   ]
  },
  {
   "cell_type": "markdown",
   "metadata": {},
   "source": [
    "6. 写一个 Python 程序，分别用 for 和 while 循环实现对一个给定序列的倒排序输出。例如，给定 L=[1,2,3,4,5]，输出为 [5,4,3,2,1]。"
   ]
  },
  {
   "cell_type": "code",
   "execution_count": null,
   "metadata": {},
   "outputs": [],
   "source": [
    "#6  while\n",
    "\n",
    "L = [1, 2, 3, 4, 5]\n",
    "\n",
    "reversed_list_while = []\n",
    "\n",
    "i = len(L) - 1\n",
    "while i >= 0:\n",
    "    reversed_list_while.append(L[i])\n",
    "    i -= 1\n",
    "    \n",
    "print(reversed_list_while)    "
   ]
  },
  {
   "cell_type": "code",
   "execution_count": null,
   "metadata": {},
   "outputs": [],
   "source": [
    "#6  for\n",
    "\n",
    "L = [1, 2, 3, 4, 5] #假设有这个列表\n",
    "\n",
    "reversed_list_for = []\n",
    "\n",
    "for i in range(len(L) - 1, -1, -1):\n",
    "    reversed_list_for.append(L[i])\n",
    "\n",
    "print(reversed_list_for)"
   ]
  },
  {
   "cell_type": "markdown",
   "metadata": {},
   "source": [
    "#### 6\n",
    "###### 输出：[5, 4, 3, 2, 1]"
   ]
  },
  {
   "cell_type": "markdown",
   "metadata": {},
   "source": [
    "7. 写一个 Python 程序，判断一个输入的字符串 S 是否包含由两个或两个以上连续出现的相同字符组成的字符串。例如，abccccda 中就包含 cccc 这个由 4 个连续字符组成的字符串。"
   ]
  },
  {
   "cell_type": "code",
   "execution_count": null,
   "metadata": {},
   "outputs": [],
   "source": [
    "#7\n",
    "def has_consecutive_chars(s):\n",
    "    max_count = 1  \n",
    "    current_count = 1  \n",
    "    \n",
    "    for i in range(1, len(s)):\n",
    "        if s[i] == s[i - 1]:  \n",
    "            current_count += 1  \n",
    "            if current_count >= 2:  \n",
    "                return True\n",
    "        else:\n",
    "            current_count = 1 \n",
    "            \n",
    "    return False\n",
    "\n",
    "s = input(\"请输入字符串：\")\n",
    "\n",
    "if has_consecutive_chars(s):\n",
    "    print(\"是\")\n",
    "else:\n",
    "    print(\"否\")"
   ]
  },
  {
   "cell_type": "markdown",
   "metadata": {},
   "source": [
    "#### 7\n",
    "###### 输入1：gzduflsdblidbv\n",
    "###### 输出1：否\n",
    "\n",
    "###### 输入2：dasugdlasodd\n",
    "###### 输出2：是"
   ]
  },
  {
   "cell_type": "markdown",
   "metadata": {},
   "source": [
    "8. 写一个 Python 程序，输入一个字符串 S，去掉其中所有的空格后输出。例如，“DataScience and Engineering”，去掉空格后为“DataScienceandEngineering”。"
   ]
  },
  {
   "cell_type": "code",
   "execution_count": null,
   "metadata": {},
   "outputs": [],
   "source": [
    "#8\n",
    "def remove_spaces(s):\n",
    "    return s.replace(\" \", \"\")\n",
    "\n",
    "S = input(\"请输入字符串 S: \")\n",
    "\n",
    "outcome = remove_spaces(S)\n",
    "print(outcome)"
   ]
  },
  {
   "cell_type": "markdown",
   "metadata": {},
   "source": [
    "#### 8\n",
    "###### 输入：HEY STOP THERE\n",
    "###### 输出：HEYSTOPTHERE"
   ]
  },
  {
   "cell_type": "markdown",
   "metadata": {},
   "source": [
    "9. 请设计一个求 3 次方根的算法（不允许直接调用求方根的函数），并给出对应的 Python 程序。\n",
    "采用牛顿迭代法求解，迭代过程数学公式表示为：\n",
    "$ x_{n+1}=x_n-\\frac{f(x_n)}{f^{\\prime}(x_n)}$"
   ]
  },
  {
   "cell_type": "code",
   "execution_count": null,
   "metadata": {},
   "outputs": [],
   "source": [
    "#9 \n",
    "def cube_root_newton(a, buttom=1e-7, top=1000):\n",
    "    if a == 0:\n",
    "        return 0\n",
    "    \n",
    "    x = a / 3.0\n",
    "    \n",
    "    for _ in range(top):\n",
    "        \n",
    "        x_new = x - (x**3 - a) / (3 * x**2)\n",
    "        \n",
    "        \n",
    "        if abs(x_new - x) < buttom:\n",
    "            return x_new\n",
    "        \n",
    "        x = x_new\n",
    "    \n",
    "   \n",
    "    return x\n",
    "\n",
    "a = float(input(\"请输入一个数: \"))\n",
    "result = cube_root_newton(a)\n",
    "print(f\"答案是: {result}\")"
   ]
  },
  {
   "cell_type": "markdown",
   "metadata": {},
   "source": [
    "#### 9\n",
    "###### 输入：1000\n",
    "###### 输出：答案是: 10.0"
   ]
  },
  {
   "cell_type": "markdown",
   "metadata": {},
   "source": [
    "10. 写一个 Python 程序，给定一个常数 n（n>0），求 n 的阶乘，即 n!=1×2×...×(n-1)×n。例如，4!=24，5!=120。"
   ]
  },
  {
   "cell_type": "code",
   "execution_count": null,
   "metadata": {},
   "outputs": [],
   "source": [
    "#10\n",
    "\n",
    "n = int(input(\"请输入一个整数：\"))\n",
    "answer = 1\n",
    "\n",
    "for i in range (n , 1 , -1):\n",
    "    answer *= i\n",
    "\n",
    "print(answer)"
   ]
  },
  {
   "cell_type": "markdown",
   "metadata": {},
   "source": [
    "#### 10\n",
    "###### 输入：5\n",
    "###### 输出：120"
   ]
  }
 ],
 "metadata": {
  "language_info": {
   "name": "python"
  }
 },
 "nbformat": 4,
 "nbformat_minor": 2
}
