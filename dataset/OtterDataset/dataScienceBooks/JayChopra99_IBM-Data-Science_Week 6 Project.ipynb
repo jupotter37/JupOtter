{
  "metadata": {
    "kernelspec": {
      "name": "python",
      "display_name": "Python (Pyodide)",
      "language": "python"
    },
    "language_info": {
      "codemirror_mode": {
        "name": "python",
        "version": 3
      },
      "file_extension": ".py",
      "mimetype": "text/x-python",
      "name": "python",
      "nbconvert_exporter": "python",
      "pygments_lexer": "ipython3",
      "version": "3.8"
    }
  },
  "nbformat_minor": 5,
  "nbformat": 4,
  "cells": [
    {
      "cell_type": "markdown",
      "source": "# Jay Chopra's Project",
      "metadata": {},
      "id": "fbb03391-5484-479d-b160-038822e2d247"
    },
    {
      "cell_type": "markdown",
      "source": "##### Exercise 3:",
      "metadata": {},
      "id": "50ccbfd6-1b71-4861-a8f0-c9f8abb09f60"
    },
    {
      "cell_type": "markdown",
      "source": "Hello, this is my Jupyter Notebook project that I am doing for the IBM Data Science Course. I am new to the data science scene, so there is alot of learning to do",
      "metadata": {},
      "id": "64685f0e-7dd8-47d2-b93b-f2c68fdc9971"
    },
    {
      "cell_type": "markdown",
      "source": "##### Exercise 4:",
      "metadata": {},
      "id": "f5252b33-0c1d-4c64-bed3-cb857baffecb"
    },
    {
      "cell_type": "markdown",
      "source": "There are a lot of Data Science languages, but here is a small list of them: Python, SQL, R, Ruby\n\n",
      "metadata": {},
      "id": "2387e549-6f38-4d1a-b770-28c5030a68c3"
    },
    {
      "cell_type": "markdown",
      "source": "##### Exercise 5:",
      "metadata": {},
      "id": "d970c198-cf6d-493d-8f50-1ac2f5406875"
    },
    {
      "cell_type": "markdown",
      "source": "Here is a list of Data Science Libaries: Pandas, NumPy, Tensorflow, Matplotlib",
      "metadata": {},
      "id": "357947fc-86cf-4e8d-b03d-00c4366bf86e"
    },
    {
      "cell_type": "markdown",
      "source": "##### Exercise 6:",
      "metadata": {},
      "id": "15d82661-b650-4b4f-bc0a-c27335e9711d"
    },
    {
      "cell_type": "markdown",
      "source": "|Data Science Tools|\n|------------------|\n|Apache Spark|\n|Tableau|\n|Python|\n|Excel|\n|PowerBI|",
      "metadata": {},
      "id": "0c609568-66a6-4ed2-8d89-11415007f0cc"
    },
    {
      "cell_type": "markdown",
      "source": "# Arithmetic expression examples",
      "metadata": {},
      "id": "5e93be43-4d1d-4e05-bc7c-25275f09ac3a"
    },
    {
      "cell_type": "markdown",
      "source": "##### Exercise 7:",
      "metadata": {},
      "id": "82b6f72a-32fe-4f54-9611-682dd3d90561"
    },
    {
      "cell_type": "code",
      "source": "code = compile(\"5 + 4\", \"<string>\", \"eval\")\neval(code)\n",
      "metadata": {
        "trusted": true
      },
      "execution_count": 16,
      "outputs": [
        {
          "execution_count": 16,
          "output_type": "execute_result",
          "data": {
            "text/plain": "9"
          },
          "metadata": {}
        }
      ],
      "id": "99bedce5-1965-4373-a7fc-0c54473eb3a0"
    },
    {
      "cell_type": "markdown",
      "source": "##### Exercise 8:",
      "metadata": {},
      "id": "04342f82-7d67-4f75-91b5-9be296acb9fc"
    },
    {
      "cell_type": "code",
      "source": "(4*4)+5\n",
      "metadata": {
        "trusted": true
      },
      "execution_count": 6,
      "outputs": [
        {
          "execution_count": 6,
          "output_type": "execute_result",
          "data": {
            "text/plain": "21"
          },
          "metadata": {}
        }
      ],
      "id": "42842a2c-a560-48fb-8b32-ecf8eeae311b"
    },
    {
      "cell_type": "markdown",
      "source": "##### Exercise 9:",
      "metadata": {},
      "id": "9f5feec1-0966-4b76-9404-2a3a0a80ae49"
    },
    {
      "cell_type": "code",
      "source": "Hours = 5\nMinutes = 60 * Hours\nprint(str(Hours) + \" Hours is equal to \" + str(Minutes) + \" Minutes\")",
      "metadata": {
        "trusted": true
      },
      "execution_count": 22,
      "outputs": [
        {
          "name": "stdout",
          "text": "5 Hours is equal to 300 Minutes\n",
          "output_type": "stream"
        }
      ],
      "id": "6dfaed45-4bd1-4b6f-a014-85ce34b8f10e"
    },
    {
      "cell_type": "markdown",
      "source": "##### Exercise 10:",
      "metadata": {},
      "id": "b04b9aab-e4bb-47d0-9b01-48a1f71fcb8d"
    },
    {
      "cell_type": "markdown",
      "source": "Below the introduction cell created in Exercise 3, insert a new markdown cell to list the objectives that this notebook covered (i.e. some of the key takeaways from the course). In this new cell start with an introductory line titled: Objectives: in bold font. Then using an unordered list (bullets) indicate 3 to 5 items covered in this notebook, such as List popular languages for Data Science.",
      "metadata": {},
      "id": "edf6c564-13c3-475f-bc09-e0d27f1d0174"
    },
    {
      "cell_type": "markdown",
      "source": "#### Author:",
      "metadata": {},
      "id": "79f0e00c-7b7f-42c4-bd6e-6ef7301c7926"
    },
    {
      "cell_type": "markdown",
      "source": "Jay Chopra",
      "metadata": {},
      "id": "e380e091-c144-4d96-90a5-720b84ca6b43"
    },
    {
      "cell_type": "code",
      "source": "",
      "metadata": {},
      "execution_count": null,
      "outputs": [],
      "id": "32609055-652f-4d5e-8d31-de471c57cdda"
    }
  ]
}