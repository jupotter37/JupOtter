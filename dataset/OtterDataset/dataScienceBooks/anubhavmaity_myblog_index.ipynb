{
 "cells": [
  {
   "cell_type": "raw",
   "id": "dc03c028-72be-41b4-9911-5ae2edc6e2f6",
   "metadata": {},
   "source": [
    "---\n",
    "title: \"Movie Genre Predictions with Hugging Face Transformers\"\n",
    "description: \"My attempt on the Movie Genre Predictions competition\"\n",
    "author: \"Anubhav Maity\"\n",
    "date: \"09/06/2023\"\n",
    "draft: false\n",
    "---"
   ]
  },
  {
   "cell_type": "markdown",
   "id": "47cda271-48b9-497e-b019-454d8e6e2da7",
   "metadata": {},
   "source": [
    "# Movie Genre Predictions with Hugging Face Transformers"
   ]
  },
  {
   "cell_type": "markdown",
   "id": "8348af03-88c2-46ef-87e2-a0f8468922c8",
   "metadata": {},
   "source": [
    "I just finished [Part 1](https://huggingface.co/learn/nlp-course/chapter1/1) of Hugging Face NLP course and wanted to put my new skills to the test. I stumbled upon a Hugging Face competition called [Movie Genre Prediction](https://huggingface.co/spaces/competitions/movie-genre-prediction), where the challenge is to guess the movie genre based on the synopsis and title. In this blog post, I'll share my journey and findings. Let's dive in!"
   ]
  },
  {
   "cell_type": "markdown",
   "id": "870e98db-5a17-4807-b4f4-8957e22a0ef7",
   "metadata": {},
   "source": [
    "Lets install the following packages by uncommenting the following code if not installed already"
   ]
  },
  {
   "cell_type": "code",
   "execution_count": 1,
   "id": "039253e3-9407-4fa1-bcc8-0d7849084cd1",
   "metadata": {},
   "outputs": [],
   "source": [
    "# !pip install datasets\n",
    "# !pip install transformers -U\n",
    "# !pip install huggingface_hub\n",
    "# !pip install rich\n",
    "# !pip install accelerate -U\n",
    "# !pip install evaluate"
   ]
  },
  {
   "cell_type": "markdown",
   "id": "f388328a-6fca-4644-b669-a4993bbad10c",
   "metadata": {},
   "source": [
    "Following are the steps to create hugging face credentials token which be needed when using `notebook_login` below\n",
    "\n",
    "1. **Create a Hugging Face account (if you don't have one)**: If you don't already have an account on the Hugging Face website, you'll need to create one. Visit the Hugging Face website (https://huggingface.co/) and sign up for an account.\n",
    "2. **Log in to your Hugging Face account**: Use your credentials to log in to your Hugging Face account.\n",
    "3. **Generate an API token**: Hugging Face provides API tokens for authentication. To generate an API token, go to your account settings on the Hugging Face website. You can usually find this in your account dashboard or profile settings.\n",
    "4. **Generate the token**: Once you're in your account settings, look for an option related to API tokens or credentials. You should find an option to generate a new token. Click on it, and the system will generate a unique API token for you.\n",
    "5. **Copy the API token**: Once the token is generated, you'll typically see it displayed on the screen. It might be a long string of characters. Copy this token to your clipboard.\n",
    "6. **Store the token securely**: API tokens are sensitive credentials, so it's essential to store them securely. You should never share your API token publicly or expose it in your code repositories.\n",
    "\n",
    "Now, you have your Hugging Face API token, which you can use for authentication when making requests to the Hugging Face API or accessing resources on the Hugging Face Model Hub."
   ]
  },
  {
   "cell_type": "code",
   "execution_count": 2,
   "id": "ed975a61-db6a-434e-ad0a-968f44999d85",
   "metadata": {},
   "outputs": [
    {
     "data": {
      "application/vnd.jupyter.widget-view+json": {
       "model_id": "a57d3d82e3d64d4ca2656450d761f581",
       "version_major": 2,
       "version_minor": 0
      },
      "text/plain": [
       "VBox(children=(HTML(value='<center> <img\\nsrc=https://huggingface.co/front/assets/huggingface_logo-noborder.sv…"
      ]
     },
     "metadata": {},
     "output_type": "display_data"
    }
   ],
   "source": [
    "from huggingface_hub import notebook_login\n",
    "\n",
    "notebook_login()"
   ]
  },
  {
   "cell_type": "markdown",
   "id": "e063f07e-a3a8-423f-ae8c-157600970fe1",
   "metadata": {},
   "source": [
    "Lets import the following pacakges"
   ]
  },
  {
   "cell_type": "code",
   "execution_count": 3,
   "id": "227a809e-ff69-4235-b171-9360edea2cde",
   "metadata": {
    "tags": []
   },
   "outputs": [],
   "source": [
    "from transformers import TrainingArguments, Trainer, AutoTokenizer, AutoModelForSequenceClassification\n",
    "from datasets import load_dataset, Dataset\n",
    "from collections import Counter\n",
    "import evaluate\n",
    "import numpy as np\n",
    "from rich import print\n",
    "import pandas as pd"
   ]
  },
  {
   "cell_type": "markdown",
   "id": "c027fd4d-a994-4040-8840-0b3372e166f0",
   "metadata": {},
   "source": [
    "## Datasets"
   ]
  },
  {
   "cell_type": "markdown",
   "id": "92901d05-e7eb-4bbd-a4a0-cdbadd550153",
   "metadata": {},
   "source": [
    "We will be using the `datadrivenscience/movie-genre-prediction` competition dataset for model training. You can read more about the competition [here](https://huggingface.co/spaces/competitions/movie-genre-prediction) and the dataset [here](https://huggingface.co/datasets/datadrivenscience/movie-genre-prediction). "
   ]
  },
  {
   "cell_type": "code",
   "execution_count": 4,
   "id": "d4111ad0-371c-4f2e-a13e-22435c6a493c",
   "metadata": {},
   "outputs": [
    {
     "data": {
      "text/plain": [
       "DatasetDict({\n",
       "    train: Dataset({\n",
       "        features: ['id', 'movie_name', 'synopsis', 'genre'],\n",
       "        num_rows: 54000\n",
       "    })\n",
       "    test: Dataset({\n",
       "        features: ['id', 'movie_name', 'synopsis', 'genre'],\n",
       "        num_rows: 36000\n",
       "    })\n",
       "})"
      ]
     },
     "execution_count": 4,
     "metadata": {},
     "output_type": "execute_result"
    }
   ],
   "source": [
    "dataset = load_dataset(\"datadrivenscience/movie-genre-prediction\"); dataset"
   ]
  },
  {
   "cell_type": "markdown",
   "id": "5974a7f0-2068-4094-9c42-789ac8e93b2b",
   "metadata": {
    "tags": []
   },
   "source": [
    "The dataset has `train` and `test` splits with following features\n",
    "- id\n",
    "- movie name\n",
    "- synopsis\n",
    "- genre"
   ]
  },
  {
   "cell_type": "code",
   "execution_count": 5,
   "id": "acdc19ca-295a-40bb-9b24-5900639fe8a5",
   "metadata": {},
   "outputs": [
    {
     "data": {
      "text/html": [
       "<pre style=\"white-space:pre;overflow-x:auto;line-height:normal;font-family:Menlo,'DejaVu Sans Mono',consolas,'Courier New',monospace\"><span style=\"font-weight: bold\">{</span>\n",
       "    <span style=\"color: #008000; text-decoration-color: #008000\">'id'</span>: <span style=\"font-weight: bold\">[</span><span style=\"color: #008080; text-decoration-color: #008080; font-weight: bold\">44978</span>, <span style=\"color: #008080; text-decoration-color: #008080; font-weight: bold\">50185</span>, <span style=\"color: #008080; text-decoration-color: #008080; font-weight: bold\">34131</span><span style=\"font-weight: bold\">]</span>,\n",
       "    <span style=\"color: #008000; text-decoration-color: #008000\">'movie_name'</span>: <span style=\"font-weight: bold\">[</span><span style=\"color: #008000; text-decoration-color: #008000\">'Super Me'</span>, <span style=\"color: #008000; text-decoration-color: #008000\">'Entity Project'</span>, <span style=\"color: #008000; text-decoration-color: #008000\">'Behavioral Family Therapy for Serious Psychiatric Disorders'</span><span style=\"font-weight: bold\">]</span>,\n",
       "    <span style=\"color: #008000; text-decoration-color: #008000\">'synopsis'</span>: <span style=\"font-weight: bold\">[</span>\n",
       "        <span style=\"color: #008000; text-decoration-color: #008000\">'A young scriptwriter starts bringing valuable objects back from his short nightmares of being chased by a </span>\n",
       "<span style=\"color: #008000; text-decoration-color: #008000\">demon. Selling them makes him rich.'</span>,\n",
       "        <span style=\"color: #008000; text-decoration-color: #008000\">'A director and her friends renting a haunted house to capture paranormal events in order to prove it and </span>\n",
       "<span style=\"color: #008000; text-decoration-color: #008000\">become popular.'</span>,\n",
       "        <span style=\"color: #008000; text-decoration-color: #008000\">'This is an educational video for families and family therapists that describes the Behavioral Family </span>\n",
       "<span style=\"color: #008000; text-decoration-color: #008000\">Therapy approach to dealing with serious psychiatric illnesses.'</span>\n",
       "    <span style=\"font-weight: bold\">]</span>,\n",
       "    <span style=\"color: #008000; text-decoration-color: #008000\">'genre'</span>: <span style=\"font-weight: bold\">[</span><span style=\"color: #008000; text-decoration-color: #008000\">'fantasy'</span>, <span style=\"color: #008000; text-decoration-color: #008000\">'horror'</span>, <span style=\"color: #008000; text-decoration-color: #008000\">'family'</span><span style=\"font-weight: bold\">]</span>\n",
       "<span style=\"font-weight: bold\">}</span>\n",
       "</pre>\n"
      ],
      "text/plain": [
       "\u001b[1m{\u001b[0m\n",
       "    \u001b[32m'id'\u001b[0m: \u001b[1m[\u001b[0m\u001b[1;36m44978\u001b[0m, \u001b[1;36m50185\u001b[0m, \u001b[1;36m34131\u001b[0m\u001b[1m]\u001b[0m,\n",
       "    \u001b[32m'movie_name'\u001b[0m: \u001b[1m[\u001b[0m\u001b[32m'Super Me'\u001b[0m, \u001b[32m'Entity Project'\u001b[0m, \u001b[32m'Behavioral Family Therapy for Serious Psychiatric Disorders'\u001b[0m\u001b[1m]\u001b[0m,\n",
       "    \u001b[32m'synopsis'\u001b[0m: \u001b[1m[\u001b[0m\n",
       "        \u001b[32m'A young scriptwriter starts bringing valuable objects back from his short nightmares of being chased by a \u001b[0m\n",
       "\u001b[32mdemon. Selling them makes him rich.'\u001b[0m,\n",
       "        \u001b[32m'A director and her friends renting a haunted house to capture paranormal events in order to prove it and \u001b[0m\n",
       "\u001b[32mbecome popular.'\u001b[0m,\n",
       "        \u001b[32m'This is an educational video for families and family therapists that describes the Behavioral Family \u001b[0m\n",
       "\u001b[32mTherapy approach to dealing with serious psychiatric illnesses.'\u001b[0m\n",
       "    \u001b[1m]\u001b[0m,\n",
       "    \u001b[32m'genre'\u001b[0m: \u001b[1m[\u001b[0m\u001b[32m'fantasy'\u001b[0m, \u001b[32m'horror'\u001b[0m, \u001b[32m'family'\u001b[0m\u001b[1m]\u001b[0m\n",
       "\u001b[1m}\u001b[0m\n"
      ]
     },
     "metadata": {},
     "output_type": "display_data"
    }
   ],
   "source": [
    "print(dataset['train'][:3])"
   ]
  },
  {
   "cell_type": "markdown",
   "id": "823a6604-cdd8-493e-b196-06e400acbf00",
   "metadata": {},
   "source": [
    "Above we have sliced and printed 3 rows of training dataset"
   ]
  },
  {
   "cell_type": "code",
   "execution_count": 6,
   "id": "6e4f0843-8e88-44ef-880f-0c91c0385ea6",
   "metadata": {},
   "outputs": [
    {
     "data": {
      "text/plain": [
       "{'action',\n",
       " 'adventure',\n",
       " 'crime',\n",
       " 'family',\n",
       " 'fantasy',\n",
       " 'horror',\n",
       " 'mystery',\n",
       " 'romance',\n",
       " 'scifi',\n",
       " 'thriller'}"
      ]
     },
     "execution_count": 6,
     "metadata": {},
     "output_type": "execute_result"
    }
   ],
   "source": [
    "labels = set(dataset['train']['genre'])\n",
    "num_labels = len(labels)\n",
    "labels"
   ]
  },
  {
   "cell_type": "markdown",
   "id": "8cbb75f7-98f4-49e6-80f9-8c107c7fe106",
   "metadata": {
    "tags": []
   },
   "source": [
    "There are 10 genres, \n",
    "- action\n",
    "- adventure\n",
    "- crime\n",
    "- family\n",
    "- fantasy\n",
    "- horror\n",
    "- mystery\n",
    "- romance\n",
    "- scifi\n",
    "- thriller"
   ]
  },
  {
   "cell_type": "code",
   "execution_count": 7,
   "id": "61271746-95a6-42d8-958c-8f29ce69178d",
   "metadata": {},
   "outputs": [
    {
     "data": {
      "text/html": [
       "<pre style=\"white-space:pre;overflow-x:auto;line-height:normal;font-family:Menlo,'DejaVu Sans Mono',consolas,'Courier New',monospace\"><span style=\"color: #800080; text-decoration-color: #800080; font-weight: bold\">Counter</span><span style=\"font-weight: bold\">({</span>\n",
       "    <span style=\"color: #008000; text-decoration-color: #008000\">'fantasy'</span>: <span style=\"color: #008080; text-decoration-color: #008080; font-weight: bold\">5400</span>,\n",
       "    <span style=\"color: #008000; text-decoration-color: #008000\">'horror'</span>: <span style=\"color: #008080; text-decoration-color: #008080; font-weight: bold\">5400</span>,\n",
       "    <span style=\"color: #008000; text-decoration-color: #008000\">'family'</span>: <span style=\"color: #008080; text-decoration-color: #008080; font-weight: bold\">5400</span>,\n",
       "    <span style=\"color: #008000; text-decoration-color: #008000\">'scifi'</span>: <span style=\"color: #008080; text-decoration-color: #008080; font-weight: bold\">5400</span>,\n",
       "    <span style=\"color: #008000; text-decoration-color: #008000\">'action'</span>: <span style=\"color: #008080; text-decoration-color: #008080; font-weight: bold\">5400</span>,\n",
       "    <span style=\"color: #008000; text-decoration-color: #008000\">'crime'</span>: <span style=\"color: #008080; text-decoration-color: #008080; font-weight: bold\">5400</span>,\n",
       "    <span style=\"color: #008000; text-decoration-color: #008000\">'adventure'</span>: <span style=\"color: #008080; text-decoration-color: #008080; font-weight: bold\">5400</span>,\n",
       "    <span style=\"color: #008000; text-decoration-color: #008000\">'mystery'</span>: <span style=\"color: #008080; text-decoration-color: #008080; font-weight: bold\">5400</span>,\n",
       "    <span style=\"color: #008000; text-decoration-color: #008000\">'romance'</span>: <span style=\"color: #008080; text-decoration-color: #008080; font-weight: bold\">5400</span>,\n",
       "    <span style=\"color: #008000; text-decoration-color: #008000\">'thriller'</span>: <span style=\"color: #008080; text-decoration-color: #008080; font-weight: bold\">5400</span>\n",
       "<span style=\"font-weight: bold\">})</span>\n",
       "</pre>\n"
      ],
      "text/plain": [
       "\u001b[1;35mCounter\u001b[0m\u001b[1m(\u001b[0m\u001b[1m{\u001b[0m\n",
       "    \u001b[32m'fantasy'\u001b[0m: \u001b[1;36m5400\u001b[0m,\n",
       "    \u001b[32m'horror'\u001b[0m: \u001b[1;36m5400\u001b[0m,\n",
       "    \u001b[32m'family'\u001b[0m: \u001b[1;36m5400\u001b[0m,\n",
       "    \u001b[32m'scifi'\u001b[0m: \u001b[1;36m5400\u001b[0m,\n",
       "    \u001b[32m'action'\u001b[0m: \u001b[1;36m5400\u001b[0m,\n",
       "    \u001b[32m'crime'\u001b[0m: \u001b[1;36m5400\u001b[0m,\n",
       "    \u001b[32m'adventure'\u001b[0m: \u001b[1;36m5400\u001b[0m,\n",
       "    \u001b[32m'mystery'\u001b[0m: \u001b[1;36m5400\u001b[0m,\n",
       "    \u001b[32m'romance'\u001b[0m: \u001b[1;36m5400\u001b[0m,\n",
       "    \u001b[32m'thriller'\u001b[0m: \u001b[1;36m5400\u001b[0m\n",
       "\u001b[1m}\u001b[0m\u001b[1m)\u001b[0m\n"
      ]
     },
     "metadata": {},
     "output_type": "display_data"
    }
   ],
   "source": [
    "labels_count = Counter(dataset['train']['genre']); print(labels_count)"
   ]
  },
  {
   "cell_type": "markdown",
   "id": "ef086ba3-e499-4930-891c-820f33d7b4d6",
   "metadata": {},
   "source": [
    "Looks like the labels are evenly sampled, everyone has count of 5400. Thats good."
   ]
  },
  {
   "cell_type": "code",
   "execution_count": 8,
   "id": "0e15b3f3-e438-4a76-8ae2-6d6f7f7e5d9e",
   "metadata": {},
   "outputs": [],
   "source": [
    "dataset = dataset.rename_column('genre', 'labels')"
   ]
  },
  {
   "cell_type": "code",
   "execution_count": 9,
   "id": "f40e2a9d-a0ba-4950-99bf-3b9cfdd1ca10",
   "metadata": {},
   "outputs": [
    {
     "data": {
      "application/vnd.jupyter.widget-view+json": {
       "model_id": "311f01ad8916472499aa7815152cfe43",
       "version_major": 2,
       "version_minor": 0
      },
      "text/plain": [
       "Casting to class labels:   0%|          | 0/54000 [00:00<?, ? examples/s]"
      ]
     },
     "metadata": {},
     "output_type": "display_data"
    },
    {
     "data": {
      "application/vnd.jupyter.widget-view+json": {
       "model_id": "ef5a39a1b0724acba564b35edddfe9b7",
       "version_major": 2,
       "version_minor": 0
      },
      "text/plain": [
       "Casting to class labels:   0%|          | 0/36000 [00:00<?, ? examples/s]"
      ]
     },
     "metadata": {},
     "output_type": "display_data"
    }
   ],
   "source": [
    "dataset = dataset.class_encode_column(\"labels\")"
   ]
  },
  {
   "cell_type": "markdown",
   "id": "cfe5029f-4cb8-4cdc-a624-b903308be77b",
   "metadata": {},
   "source": [
    "In the above steps we rename the column `genre` to `labels` to mark the `genre` as target variable\n",
    "\n",
    "Then we convert the `labels` to `ClassLabel` type"
   ]
  },
  {
   "cell_type": "code",
   "execution_count": 16,
   "id": "9fbaef68-28a4-48cb-ae39-48f15b16fc65",
   "metadata": {},
   "outputs": [
    {
     "data": {
      "text/plain": [
       "ClassLabel(names=['action', 'adventure', 'crime', 'family', 'fantasy', 'horror', 'mystery', 'romance', 'scifi', 'thriller'], id=None)"
      ]
     },
     "execution_count": 16,
     "metadata": {},
     "output_type": "execute_result"
    }
   ],
   "source": [
    "dataset['train'].features['labels']"
   ]
  },
  {
   "cell_type": "markdown",
   "id": "7574c6de-ed6e-4ece-ba49-d31d16ec0582",
   "metadata": {},
   "source": [
    "Converting `labels` to the `ClassLabel` type in the Hugging Face library helps with:\n",
    "\n",
    "- Consistency: It makes your labels work smoothly with the library's tools and models.\n",
    "- Number Conversion: It turns text labels into numbers, which some models need.\n",
    "- Easy Mapping: It simplifies translating between text labels and numbers."
   ]
  },
  {
   "cell_type": "markdown",
   "id": "035af54d-6204-4dbe-9954-10563c1e3b3d",
   "metadata": {},
   "source": [
    "## Remove Duplicates"
   ]
  },
  {
   "cell_type": "markdown",
   "id": "58418a4d-fc0c-4da1-9f5e-e92789056028",
   "metadata": {},
   "source": [
    "I could not find a bettery way to remove duplicates than converting to pandas, removing duplicates and converting back to hugging face dataset."
   ]
  },
  {
   "cell_type": "code",
   "execution_count": 17,
   "id": "a1e6aa00-2c6b-49d8-8060-1e63c2df18f0",
   "metadata": {},
   "outputs": [],
   "source": [
    "train_df = pd.DataFrame(dataset['train']) # converting to pandas"
   ]
  },
  {
   "cell_type": "code",
   "execution_count": 18,
   "id": "d24965fc-27e8-4f7a-8b9d-1d15cec53358",
   "metadata": {},
   "outputs": [],
   "source": [
    "train_df = train_df.drop_duplicates(['movie_name', 'synopsis']) # Removes duplicates based on `movie_name` and `synopsis` attributes"
   ]
  },
  {
   "cell_type": "code",
   "execution_count": 19,
   "id": "4bf6f659-8072-4b0a-a843-91c3085da969",
   "metadata": {},
   "outputs": [],
   "source": [
    "ds = Dataset.from_pandas(train_df) # converting back to dataset"
   ]
  },
  {
   "cell_type": "code",
   "execution_count": 20,
   "id": "7cfc5cc4-7971-4fe2-b3d5-6dcab4502677",
   "metadata": {},
   "outputs": [
    {
     "data": {
      "text/plain": [
       "Value(dtype='int64', id=None)"
      ]
     },
     "execution_count": 20,
     "metadata": {},
     "output_type": "execute_result"
    }
   ],
   "source": [
    "ds.features['labels']"
   ]
  },
  {
   "cell_type": "markdown",
   "id": "d25d001e-7987-41d9-8b88-857158718d5c",
   "metadata": {},
   "source": [
    "When converting a dataset from pandas, it creates the label type as `Value`. However, we will need to subsequently convert it to `ClassLabel`."
   ]
  },
  {
   "cell_type": "code",
   "execution_count": 13,
   "id": "ad916549-1736-46bd-b95d-2ee2cc008967",
   "metadata": {},
   "outputs": [
    {
     "data": {
      "application/vnd.jupyter.widget-view+json": {
       "model_id": "8bebc0eac8f94a1aa25710e003d2372b",
       "version_major": 2,
       "version_minor": 0
      },
      "text/plain": [
       "Stringifying the column:   0%|          | 0/46344 [00:00<?, ? examples/s]"
      ]
     },
     "metadata": {},
     "output_type": "display_data"
    },
    {
     "data": {
      "application/vnd.jupyter.widget-view+json": {
       "model_id": "9cb61bed42ce4c3480003d12f07e659c",
       "version_major": 2,
       "version_minor": 0
      },
      "text/plain": [
       "Casting to class labels:   0%|          | 0/46344 [00:00<?, ? examples/s]"
      ]
     },
     "metadata": {},
     "output_type": "display_data"
    },
    {
     "data": {
      "text/plain": [
       "Dataset({\n",
       "    features: ['id', 'movie_name', 'synopsis', 'labels', '__index_level_0__'],\n",
       "    num_rows: 46344\n",
       "})"
      ]
     },
     "execution_count": 13,
     "metadata": {},
     "output_type": "execute_result"
    }
   ],
   "source": [
    "ds = ds.class_encode_column(\"labels\"); ds # "
   ]
  },
  {
   "cell_type": "markdown",
   "id": "e888d1e3-9a72-4d16-a61a-0c012f3c7dea",
   "metadata": {
    "tags": []
   },
   "source": [
    "## Tokenization"
   ]
  },
  {
   "cell_type": "code",
   "execution_count": 14,
   "id": "191d778a-5c9a-41d2-973e-345ec99153c1",
   "metadata": {},
   "outputs": [],
   "source": [
    "checkpoint = \"bert-base-uncased\""
   ]
  },
  {
   "cell_type": "markdown",
   "id": "990c8069-2c10-49f9-b4b0-125769b814b9",
   "metadata": {},
   "source": [
    "A checkpoint is a saved model state, including its architecture and trained weights, which can be used for various NLP tasks and fine-tuning. "
   ]
  },
  {
   "cell_type": "code",
   "execution_count": 15,
   "id": "a07961a0-36c3-4706-b3f2-78ccdb764dfb",
   "metadata": {},
   "outputs": [
    {
     "data": {
      "text/plain": [
       "{'input_ids': [101, 3185, 6907, 20932, 2007, 17662, 2227, 19081, 102], 'token_type_ids': [0, 0, 0, 0, 0, 0, 0, 0, 0], 'attention_mask': [1, 1, 1, 1, 1, 1, 1, 1, 1]}"
      ]
     },
     "execution_count": 15,
     "metadata": {},
     "output_type": "execute_result"
    }
   ],
   "source": [
    "tokenizer = AutoTokenizer.from_pretrained(checkpoint)\n",
    "tokenizer('Movie Genre Predictions with Hugging Face Transformers')"
   ]
  },
  {
   "cell_type": "markdown",
   "id": "8b364ac8-fb89-4d9c-907e-3d428fbd6f27",
   "metadata": {},
   "source": [
    "Above we load the tokenizer and use it on a sentence. Loading a checkpoint of a tokenizer associated with a pretrained language model is necessary to maintain consistency in the tokenization process. This ensures that your input text is processed in a way that aligns with the model's pre-existing knowledge and allows you to use the pretrained model effectively"
   ]
  },
  {
   "cell_type": "markdown",
   "id": "8a0dbf02-bdba-457d-afc3-3804d5299444",
   "metadata": {},
   "source": [
    "What is `attention_mask`?\n",
    "> Sometimes, we want to tell the computer which parts of the sentence are important and which are not. The attention mask is like a spotlight. It's a list of 1s and 0s, where 1 means \"pay attention\" and 0 means \"ignore.\" For our sentence, it could be [1, 1, 1, 1, 1] because we want the computer to pay attention to all tokens."
   ]
  },
  {
   "cell_type": "markdown",
   "id": "3db4d1b3-b31a-400a-b501-d49ec647db35",
   "metadata": {},
   "source": [
    "What is `token_type_ids`?\n",
    "> If you have multiple sentences, you'd want the computer to know which sentence each token belongs to. Token Type IDs help with that. For one sentence, it's all 0s. If you had two sentences, the first sentence would have 0s, and the second sentence would have 1s."
   ]
  },
  {
   "cell_type": "markdown",
   "id": "7f36bc3d-717f-4a6f-a673-5fbf71b5bba0",
   "metadata": {
    "tags": []
   },
   "source": [
    "Let's break down the process of creating `input_ids` below into following steps:\n",
    "\n",
    "#### 1. Tokenize: \n",
    "\n",
    "Imagine you have a sentence, \"Hugging Face is awesome!\" To help a computer understand it, you first split it into smaller parts, like words: [\"Hugging\", \"Face\", \"is\", \"awesome\", \"!\"]. These smaller parts are called tokens.\n"
   ]
  },
  {
   "cell_type": "markdown",
   "id": "5f8500f2-8fd9-45d8-96c7-634edcb9c62a",
   "metadata": {},
   "source": [
    "We can tokenize the synopsis of the first row of training set"
   ]
  },
  {
   "cell_type": "code",
   "execution_count": 16,
   "id": "16cf025f-f925-4b7b-97bf-33bee28be2e3",
   "metadata": {},
   "outputs": [
    {
     "data": {
      "text/plain": [
       "'A young scriptwriter starts bringing valuable objects back from his short nightmares of being chased by a demon. Selling them makes him rich.'"
      ]
     },
     "execution_count": 16,
     "metadata": {},
     "output_type": "execute_result"
    }
   ],
   "source": [
    "dataset['train'][0]['synopsis']"
   ]
  },
  {
   "cell_type": "code",
   "execution_count": 17,
   "id": "23da130b-c383-4b9a-aaa9-8190384ea62d",
   "metadata": {},
   "outputs": [
    {
     "data": {
      "text/plain": [
       "['a',\n",
       " 'young',\n",
       " 'script',\n",
       " '##writer',\n",
       " 'starts',\n",
       " 'bringing',\n",
       " 'valuable',\n",
       " 'objects',\n",
       " 'back',\n",
       " 'from',\n",
       " 'his',\n",
       " 'short',\n",
       " 'nightmares',\n",
       " 'of',\n",
       " 'being',\n",
       " 'chased',\n",
       " 'by',\n",
       " 'a',\n",
       " 'demon',\n",
       " '.',\n",
       " 'selling',\n",
       " 'them',\n",
       " 'makes',\n",
       " 'him',\n",
       " 'rich',\n",
       " '.']"
      ]
     },
     "execution_count": 17,
     "metadata": {},
     "output_type": "execute_result"
    }
   ],
   "source": [
    "tokens = tokenizer.tokenize(dataset['train'][0]['synopsis']); tokens"
   ]
  },
  {
   "cell_type": "markdown",
   "id": "53ace5a4-6b73-46b4-bc9f-f2aa6934431d",
   "metadata": {
    "tags": []
   },
   "source": [
    "#### 2. Conversion to IDs: \n",
    "\n",
    "Computers prefer numbers, so we need to convert these tokens into unique numbers. Each token gets a special ID. For example, \"Hugging\" might be ID 101, \"Face\" might be ID 102, and so on. The sentence becomes a list of IDs: [101, 102, 103, 104, 105]."
   ]
  },
  {
   "cell_type": "code",
   "execution_count": 18,
   "id": "90ba066a-0b8a-4130-933a-19b2aaa04416",
   "metadata": {
    "tags": []
   },
   "outputs": [
    {
     "data": {
      "text/plain": [
       "[1037,\n",
       " 2402,\n",
       " 5896,\n",
       " 15994,\n",
       " 4627,\n",
       " 5026,\n",
       " 7070,\n",
       " 5200,\n",
       " 2067,\n",
       " 2013,\n",
       " 2010,\n",
       " 2460,\n",
       " 15446,\n",
       " 1997,\n",
       " 2108,\n",
       " 13303,\n",
       " 2011,\n",
       " 1037,\n",
       " 5698,\n",
       " 1012,\n",
       " 4855,\n",
       " 2068,\n",
       " 3084,\n",
       " 2032,\n",
       " 4138,\n",
       " 1012]"
      ]
     },
     "execution_count": 18,
     "metadata": {},
     "output_type": "execute_result"
    }
   ],
   "source": [
    "ids = tokenizer.convert_tokens_to_ids(tokens); ids"
   ]
  },
  {
   "cell_type": "markdown",
   "id": "1f133c74-2f80-429e-a134-464f97627736",
   "metadata": {},
   "source": [
    "In summary, Hugging Face tokenization takes your text, breaks it into tokens (smaller parts), gives each token a unique ID, creates an attention mask to say what's important, and token type IDs to track different sentences if needed. "
   ]
  },
  {
   "cell_type": "code",
   "execution_count": 19,
   "id": "bda7613e-36d2-4134-9f6e-779e17a26e0e",
   "metadata": {},
   "outputs": [],
   "source": [
    "ds = ds.train_test_split(test_size=0.2, stratify_by_column=\"labels\")"
   ]
  },
  {
   "cell_type": "markdown",
   "id": "189ff5ef-7ecf-4b53-937f-072b59e1a583",
   "metadata": {},
   "source": [
    "The above code splits a dataset (`ds`) into two parts: a training set and a testing set. \n",
    "\n",
    "- The `test_size=0.2` means that 20% of the data will be used for testing, and the remaining 80% for training.\n",
    "- `stratify_by_column=\"labels\"` means that the split will ensure both the training and testing sets have a similar distribution of labels (class proportions) as in the original dataset. This is useful for maintaining balance in classification tasks."
   ]
  },
  {
   "cell_type": "code",
   "execution_count": 20,
   "id": "6d1b3a6f-ce9f-46a6-b7c4-6c2fc8479e25",
   "metadata": {},
   "outputs": [
    {
     "data": {
      "text/plain": [
       "DatasetDict({\n",
       "    train: Dataset({\n",
       "        features: ['id', 'movie_name', 'synopsis', 'labels', '__index_level_0__'],\n",
       "        num_rows: 37075\n",
       "    })\n",
       "    test: Dataset({\n",
       "        features: ['id', 'movie_name', 'synopsis', 'labels', '__index_level_0__'],\n",
       "        num_rows: 9269\n",
       "    })\n",
       "})"
      ]
     },
     "execution_count": 20,
     "metadata": {},
     "output_type": "execute_result"
    }
   ],
   "source": [
    "ds"
   ]
  },
  {
   "cell_type": "code",
   "execution_count": 21,
   "id": "6a28e84e-15cd-4053-87fd-4bfac60cf6bc",
   "metadata": {},
   "outputs": [],
   "source": [
    "def tokenize(sample):\n",
    "    sample['text'] = list(map(lambda x: ': '.join(x), zip(sample['movie_name'], sample['synopsis']))) \n",
    "    return tokenizer(sample['text'], truncation=True)"
   ]
  },
  {
   "cell_type": "code",
   "execution_count": 22,
   "id": "e4bb7ff0-0c25-4d4b-9956-a18a1e5d424e",
   "metadata": {},
   "outputs": [
    {
     "data": {
      "application/vnd.jupyter.widget-view+json": {
       "model_id": "d443ceb11cb44e05ba47fb7c66d18dc5",
       "version_major": 2,
       "version_minor": 0
      },
      "text/plain": [
       "Map:   0%|          | 0/37075 [00:00<?, ? examples/s]"
      ]
     },
     "metadata": {},
     "output_type": "display_data"
    },
    {
     "data": {
      "application/vnd.jupyter.widget-view+json": {
       "model_id": "bd47d996dca94dd2ab84e3647e2770aa",
       "version_major": 2,
       "version_minor": 0
      },
      "text/plain": [
       "Map:   0%|          | 0/9269 [00:00<?, ? examples/s]"
      ]
     },
     "metadata": {},
     "output_type": "display_data"
    },
    {
     "data": {
      "text/plain": [
       "DatasetDict({\n",
       "    train: Dataset({\n",
       "        features: ['id', 'movie_name', 'synopsis', 'labels', '__index_level_0__', 'text', 'input_ids', 'token_type_ids', 'attention_mask'],\n",
       "        num_rows: 37075\n",
       "    })\n",
       "    test: Dataset({\n",
       "        features: ['id', 'movie_name', 'synopsis', 'labels', '__index_level_0__', 'text', 'input_ids', 'token_type_ids', 'attention_mask'],\n",
       "        num_rows: 9269\n",
       "    })\n",
       "})"
      ]
     },
     "execution_count": 22,
     "metadata": {},
     "output_type": "execute_result"
    }
   ],
   "source": [
    "tokenized_ds = ds.map(tokenize, batched=True); tokenized_ds"
   ]
  },
  {
   "cell_type": "markdown",
   "id": "271c0a6a-a578-48a9-b7b9-ed0c83c8ebdb",
   "metadata": {},
   "source": [
    "The above code defines a tokenize function that combines text from two columns, `movie_name` and `synopsis`, and then tokenizes the combined `text` using a tokenizer.\n",
    "\n",
    "- sample[`text`] is created by joining `movie_name` and `synopsis` with a colon and space.\n",
    "- The tokenizer is applied to the `text` column with truncation enabled.\n",
    "\n",
    "After defining the function, it's applied to a dataset (`ds`) using `.map()` to tokenize the text in batches, and the result is stored in `tokenized_ds`."
   ]
  },
  {
   "cell_type": "markdown",
   "id": "67f286be-753a-4952-a8b1-b57535b6279e",
   "metadata": {},
   "source": [
    "## Training"
   ]
  },
  {
   "cell_type": "code",
   "execution_count": 23,
   "id": "604d8042-3dc8-4446-ac90-49c96fae0bb4",
   "metadata": {
    "tags": []
   },
   "outputs": [],
   "source": [
    "training_args = TrainingArguments('movie-genre-predictions', \n",
    "                                  evaluation_strategy = 'epoch',\n",
    "                                  per_device_train_batch_size = 32,\n",
    "                                  per_device_eval_batch_size = 64,\n",
    "                                  save_strategy = 'epoch',\n",
    "                                  push_to_hub = True, \n",
    "                                  learning_rate = 1e-5\n",
    "                                 )"
   ]
  },
  {
   "cell_type": "markdown",
   "id": "8786fcbc-1430-4d60-9e56-2caffc2f7db8",
   "metadata": {},
   "source": [
    "The above code sets up the configuration for training a Hugging Face model, for a movie genre prediction task. Let's break it down step by step:\n",
    "\n",
    "1. `TrainingArguments`: This is a special object or data structure that holds various settings and options for training a machine learning model.\n",
    "\n",
    "2. `'movie-genre-predictions'`: It's naming the training process or giving it a unique name. It's like giving a name to a file so you can easily identify it later.\n",
    "\n",
    "3. `evaluation_strategy = 'epoch'`: This line specifies how often the model's performance should be evaluated. In this case, it's set to `epoch`, which means after every complete pass through the training data. An epoch is like a full round of training.\n",
    "\n",
    "4. `per_device_train_batch_size = 32`: This indicates how many examples or data points should be processed at once on each  processing unit during training. It's set to 32, so 32 data points will be processed together in parallel.\n",
    "\n",
    "5. `per_device_eval_batch_size = 64`: Similar to the previous line, but this one specifies the batch size for evaluation (measuring how well the model is doing). It's set to 64, so 64 examples will be evaluated at once.\n",
    "\n",
    "6. `save_strategy = 'epoch'`: This determines when the model's checkpoints (saves of the model's progress) should be saved. Again, it's set to `epoch`, meaning after each training round.\n",
    "\n",
    "7. `push_to_hub = True`: This is likely specific to the Hugging Face Transformers library. If set to `True`, it means that the model checkpoints will be pushed or uploaded to the Hugging Face Model Hub, a place to store and share models.\n",
    "\n",
    "8. `learning_rate`: This is like a step size or a pace setter for a machine learning model when it's trying to learn from data. Imagine you're trying to find the lowest point in a hilly area by taking small steps downhill. The learning rate determines how big or small those steps should be.\n",
    "\n",
    "In simple terms, this code is configuring how a machine learning model should be trained for movie genre prediction. It sets up details like when to check how well the model is doing, how much data to process at a time, and where to save the model's progress. It also says that the model checkpoints should be uploaded to the Hugging Face Model Hub.\n",
    "\n",
    "You may see more details about `TrainingArguments` [here](https://huggingface.co/docs/transformers/main_classes/trainer#transformers.TrainingArguments)"
   ]
  },
  {
   "cell_type": "code",
   "execution_count": 24,
   "id": "c0592780-f405-4279-bd5d-da570ed52d2b",
   "metadata": {},
   "outputs": [
    {
     "name": "stderr",
     "output_type": "stream",
     "text": [
      "Some weights of BertForSequenceClassification were not initialized from the model checkpoint at bert-base-uncased and are newly initialized: ['classifier.bias', 'classifier.weight']\n",
      "You should probably TRAIN this model on a down-stream task to be able to use it for predictions and inference.\n"
     ]
    }
   ],
   "source": [
    "model = AutoModelForSequenceClassification.from_pretrained(checkpoint, num_labels = num_labels)"
   ]
  },
  {
   "cell_type": "markdown",
   "id": "4b9219e3-fd7a-44e9-aea6-cdb3900850a1",
   "metadata": {},
   "source": [
    "Above we load the model for `Sequence Classification` of 10 labels"
   ]
  },
  {
   "cell_type": "code",
   "execution_count": 25,
   "id": "25a92a5b-0b66-4ef2-9c34-9938d7455bb8",
   "metadata": {},
   "outputs": [],
   "source": [
    "clf_metrics = evaluate.load(\"accuracy\")"
   ]
  },
  {
   "cell_type": "markdown",
   "id": "59e240a4-8fdc-4a68-9610-b9930f239aaa",
   "metadata": {},
   "source": [
    "The `evaluate` library provides the metrics on which to evaluate the validation set. Above I have choosen `accuracy` as the metrics (The `accuracy` metric is used in the competition too)"
   ]
  },
  {
   "cell_type": "code",
   "execution_count": 26,
   "id": "af4c62ac-82e6-47ff-9762-3f8d3da26182",
   "metadata": {},
   "outputs": [],
   "source": [
    "def compute_metrics(batch):\n",
    "    logits, labels = batch\n",
    "    predictions = np.argmax(logits, axis=-1) # finds the position (index) of the highest value in a NumPy array and returns that index as an integer.\n",
    "    return clf_metrics.compute(predictions=predictions, references=labels)"
   ]
  },
  {
   "cell_type": "markdown",
   "id": "76afcf7a-da47-445f-a3b4-7f92ed5fc9f0",
   "metadata": {},
   "source": [
    "I have defined `compute_metrics` to compute the metrics after each epoch on validation set"
   ]
  },
  {
   "cell_type": "code",
   "execution_count": 27,
   "id": "f564fcb1-834d-44e6-8f8e-0a8dc8f953dc",
   "metadata": {},
   "outputs": [],
   "source": [
    "trainer = Trainer(model, \n",
    "                  args = training_args,\n",
    "                  train_dataset = tokenized_ds['train'],\n",
    "                  eval_dataset = tokenized_ds['test'], \n",
    "                  tokenizer = tokenizer,\n",
    "                  compute_metrics = compute_metrics\n",
    "                 )"
   ]
  },
  {
   "cell_type": "markdown",
   "id": "ba81f0fd-3edd-4a89-952e-86f4f4ec2957",
   "metadata": {},
   "source": [
    "The `Trainer` function in Hugging Face simplifies the process of fine-tuning pre-trained NLP models for specific tasks. It handles data loading, training, evaluation, and model saving, making it easier to customize and use these models for various NLP tasks."
   ]
  },
  {
   "cell_type": "code",
   "execution_count": 28,
   "id": "c05b6ab3-9ba1-4279-a4d9-ebed21fa5649",
   "metadata": {},
   "outputs": [
    {
     "name": "stderr",
     "output_type": "stream",
     "text": [
      "You're using a BertTokenizerFast tokenizer. Please note that with a fast tokenizer, using the `__call__` method is faster than using a method to encode the text followed by a call to the `pad` method to get a padded encoding.\n"
     ]
    },
    {
     "data": {
      "text/html": [
       "\n",
       "    <div>\n",
       "      \n",
       "      <progress value='3477' max='3477' style='width:300px; height:20px; vertical-align: middle;'></progress>\n",
       "      [3477/3477 09:27, Epoch 3/3]\n",
       "    </div>\n",
       "    <table border=\"1\" class=\"dataframe\">\n",
       "  <thead>\n",
       " <tr style=\"text-align: left;\">\n",
       "      <th>Epoch</th>\n",
       "      <th>Training Loss</th>\n",
       "      <th>Validation Loss</th>\n",
       "      <th>Accuracy</th>\n",
       "    </tr>\n",
       "  </thead>\n",
       "  <tbody>\n",
       "    <tr>\n",
       "      <td>1</td>\n",
       "      <td>1.664900</td>\n",
       "      <td>1.585141</td>\n",
       "      <td>0.446542</td>\n",
       "    </tr>\n",
       "    <tr>\n",
       "      <td>2</td>\n",
       "      <td>1.522100</td>\n",
       "      <td>1.557735</td>\n",
       "      <td>0.456576</td>\n",
       "    </tr>\n",
       "    <tr>\n",
       "      <td>3</td>\n",
       "      <td>1.422900</td>\n",
       "      <td>1.559032</td>\n",
       "      <td>0.458733</td>\n",
       "    </tr>\n",
       "  </tbody>\n",
       "</table><p>"
      ],
      "text/plain": [
       "<IPython.core.display.HTML object>"
      ]
     },
     "metadata": {},
     "output_type": "display_data"
    },
    {
     "data": {
      "text/plain": [
       "TrainOutput(global_step=3477, training_loss=1.5756116926858643, metrics={'train_runtime': 568.5141, 'train_samples_per_second': 195.642, 'train_steps_per_second': 6.116, 'total_flos': 3706787213357172.0, 'train_loss': 1.5756116926858643, 'epoch': 3.0})"
      ]
     },
     "execution_count": 28,
     "metadata": {},
     "output_type": "execute_result"
    }
   ],
   "source": [
    "trainer.train() # the model is training"
   ]
  },
  {
   "cell_type": "code",
   "execution_count": 36,
   "id": "96a10f48-07e6-4136-afa2-f539b6d9aeac",
   "metadata": {},
   "outputs": [
    {
     "data": {
      "text/plain": [
       "'https://huggingface.co/anubhavmaity/movie-genre-predictions/tree/main/'"
      ]
     },
     "execution_count": 36,
     "metadata": {},
     "output_type": "execute_result"
    }
   ],
   "source": [
    "trainer.push_to_hub()"
   ]
  },
  {
   "cell_type": "markdown",
   "id": "286badae-91c0-4690-beee-d737360e7a08",
   "metadata": {},
   "source": [
    "The above code pushes the model to model hub and creates the model card. The model card is [here](https://huggingface.co/anubhavmaity/movie-genre-predictions)"
   ]
  },
  {
   "cell_type": "markdown",
   "id": "2ed534b6-5573-47eb-9a77-0af5f1f4619d",
   "metadata": {},
   "source": [
    "## Submitting to the competition"
   ]
  },
  {
   "cell_type": "code",
   "execution_count": 29,
   "id": "4d764911-b57f-48dc-9b74-acec22794020",
   "metadata": {},
   "outputs": [],
   "source": [
    "tokenized_test_ds = dataset[\"test\"].map(tokenize, batched=True)"
   ]
  },
  {
   "cell_type": "markdown",
   "id": "40cd1b65-9435-4420-9e44-7655101c9fb2",
   "metadata": {},
   "source": [
    "We apply the same tokenization method to the test dataset as we did for the training dataset above."
   ]
  },
  {
   "cell_type": "code",
   "execution_count": 30,
   "id": "1aa98b8e-ddc1-45cd-abde-e0149951bd8d",
   "metadata": {},
   "outputs": [
    {
     "data": {
      "text/html": [],
      "text/plain": [
       "<IPython.core.display.HTML object>"
      ]
     },
     "metadata": {},
     "output_type": "display_data"
    }
   ],
   "source": [
    "test_logits = trainer.predict(tokenized_test_ds)"
   ]
  },
  {
   "cell_type": "code",
   "execution_count": 31,
   "id": "8e251bde-d37b-467f-9c45-bd11e12d7756",
   "metadata": {},
   "outputs": [
    {
     "data": {
      "text/plain": [
       "(36000, 10)"
      ]
     },
     "execution_count": 31,
     "metadata": {},
     "output_type": "execute_result"
    }
   ],
   "source": [
    "test_logits.predictions.shape"
   ]
  },
  {
   "cell_type": "markdown",
   "id": "f705a598-4e0f-4d81-af69-c6b868609dda",
   "metadata": {},
   "source": [
    "The predict function on `tokenized_dataset` throws out logits"
   ]
  },
  {
   "cell_type": "code",
   "execution_count": 32,
   "id": "aa38ef3f-4a77-4d51-abbd-66f8c0864917",
   "metadata": {},
   "outputs": [],
   "source": [
    "test_predictions = np.argmax(test_logits.predictions, axis=-1)"
   ]
  },
  {
   "cell_type": "markdown",
   "id": "1e600b5e-e3a6-435f-b802-fd4f3da68967",
   "metadata": {},
   "source": [
    "We get the index with the highest value along the last dimension"
   ]
  },
  {
   "cell_type": "code",
   "execution_count": 33,
   "id": "4393732b-a6de-4234-b80a-156a14cbcc00",
   "metadata": {},
   "outputs": [],
   "source": [
    "predicted_genre = dataset[\"train\"].features[\"labels\"].int2str(test_predictions)"
   ]
  },
  {
   "cell_type": "markdown",
   "id": "b293042a-ca2e-427c-9764-96ac6ec3bc3b",
   "metadata": {},
   "source": [
    "Here we convert the index to corresponding genre"
   ]
  },
  {
   "cell_type": "code",
   "execution_count": 34,
   "id": "a0545cfd-fb95-4de0-9320-dbd3b92c47fe",
   "metadata": {},
   "outputs": [],
   "source": [
    "df = pd.DataFrame({'id':tokenized_test_ds['id'],\n",
    "                  'genre': predicted_genre})   # creating dataframe with `id` and `genre` as columns for submission"
   ]
  },
  {
   "cell_type": "code",
   "execution_count": 35,
   "id": "28e653e7-4389-4f82-ba78-0089d9a6b7df",
   "metadata": {},
   "outputs": [],
   "source": [
    "df.to_csv('submission.csv')"
   ]
  },
  {
   "cell_type": "markdown",
   "id": "a27eed1b-46c0-45a9-93ef-46f7ff3d805d",
   "metadata": {},
   "source": [
    "Submitting the `submission.csv` got me the following score\n",
    "- Public Score: 0.4176\n",
    "- Private Score: 0.4162\n",
    "\n",
    "which ranks me around 27th rank. The 1st rank has accuracy of 0.4456 and 0.4412 in the public and private leaderboard respectively\n",
    "\n",
    "\n",
    "We can improve the score by using following strategies\n",
    "1. Training with a bigger architecture\n",
    "2. Training for more epochs\n",
    "3. Ensembling with other models"
   ]
  },
  {
   "cell_type": "code",
   "execution_count": null,
   "id": "59a849eb-4c81-4cad-8642-f02d317068d4",
   "metadata": {},
   "outputs": [],
   "source": []
  }
 ],
 "metadata": {
  "kernelspec": {
   "display_name": "transformers-course",
   "language": "python",
   "name": "transformers-course"
  },
  "language_info": {
   "codemirror_mode": {
    "name": "ipython",
    "version": 3
   },
   "file_extension": ".py",
   "mimetype": "text/x-python",
   "name": "python",
   "nbconvert_exporter": "python",
   "pygments_lexer": "ipython3",
   "version": "3.9.17"
  }
 },
 "nbformat": 4,
 "nbformat_minor": 5
}
