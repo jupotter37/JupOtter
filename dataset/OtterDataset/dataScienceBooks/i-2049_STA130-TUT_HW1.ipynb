{
 "cells": [
  {
   "cell_type": "code",
   "execution_count": 5,
   "id": "3abc441c",
   "metadata": {},
   "outputs": [
    {
     "name": "stdout",
     "output_type": "stream",
     "text": [
      "Pregnancies                   0\n",
      "Glucose                       5\n",
      "BloodPressure                35\n",
      "SkinThickness               227\n",
      "Insulin                     374\n",
      "BMI                          11\n",
      "DiabetesPedigreeFunction      0\n",
      "Age                           0\n",
      "Outcome                       0\n",
      "dtype: int64\n"
     ]
    }
   ],
   "source": [
    "import pandas as pd\n",
    "\n",
    "# Load the dataset\n",
    "url = 'https://raw.githubusercontent.com/jbrownlee/Datasets/master/pima-indians-diabetes.data.csv'\n",
    "column_names = ['Pregnancies', 'Glucose', 'BloodPressure', 'SkinThickness', 'Insulin', 'BMI', 'DiabetesPedigreeFunction', 'Age', 'Outcome']\n",
    "df = pd.read_csv(url, names=column_names)\n",
    "\n",
    "# Replace 0 with NaN in columns where 0 indicates missing values\n",
    "df[['Glucose', 'BloodPressure', 'SkinThickness', 'Insulin', 'BMI']] = df[['Glucose', 'BloodPressure', 'SkinThickness', 'Insulin', 'BMI']].replace(0, pd.NA)\n",
    "\n",
    "# Check for missing values\n",
    "missing_values_count = df.isnull().sum()\n",
    "\n",
    "print(missing_values_count)\n"
   ]
  },
  {
   "cell_type": "markdown",
   "id": "2d62c885",
   "metadata": {},
   "source": [
    "\n",
    "**Summary of Interaction:**\n",
    "https://chatgpt.com/share/15a05e67-4ad7-4992-bfed-60af77423861\n",
    "\n",
    "In this interaction, I was tasked with finding an interesting dataset that contains missing values and is available online as a CSV file. After searching, I identified two datasets that meet these criteria:\n",
    "\n",
    "1. **New York City Squirrel Census**: A fun and detailed dataset about squirrel observations in Central Park, available [here](https://github.com/rfordatascience/tidytuesday/blob/master/data/2019/2019-10-29/squirrel_data.csv). The dataset has missing values and various behavioral observations of squirrels.\n",
    "   \n",
    "2. **Pima Indians Diabetes dataset**: A medical dataset that contains records of health data related to diabetes, where missing values are indicated by zeros in certain fields like plasma glucose concentration and BMI. This dataset is available [here](https://raw.githubusercontent.com/jbrownlee/Datasets/master/pima-indians-diabetes.data.csv) and is commonly used in machine learning projects.\n",
    "\n",
    "Following this, I provided Python code using Pandas to load the Pima Indians Diabetes dataset, replace zeros with missing values (`NaN`), and count the number of missing values in each column. The provided code helps identify incomplete data for further analysis or imputation.\n",
    "\n",
    "\n"
   ]
  }
 ],
 "metadata": {
  "kernelspec": {
   "display_name": "Python 3 (ipykernel)",
   "language": "python",
   "name": "python3"
  },
  "language_info": {
   "codemirror_mode": {
    "name": "ipython",
    "version": 3
   },
   "file_extension": ".py",
   "mimetype": "text/x-python",
   "name": "python",
   "nbconvert_exporter": "python",
   "pygments_lexer": "ipython3",
   "version": "3.11.6"
  }
 },
 "nbformat": 4,
 "nbformat_minor": 5
}
