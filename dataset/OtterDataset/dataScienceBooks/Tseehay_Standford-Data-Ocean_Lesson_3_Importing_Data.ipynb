{
 "cells": [
  {
   "cell_type": "markdown",
   "id": "884c204c",
   "metadata": {
    "id": "884c204c"
   },
   "source": [
    "<img src=\"materials/images/introduction-to-r-programming-cover.png\"/>"
   ]
  },
  {
   "cell_type": "markdown",
   "id": "eae7842d-3143-4460-af05-16161c663658",
   "metadata": {
    "id": "eae7842d-3143-4460-af05-16161c663658",
    "tags": []
   },
   "source": [
    "\n",
    "# 👋 Welcome, before you start\n",
    "<br>\n",
    "\n",
    "### 📚 Module overview\n",
    "\n",
    "R is a statistical programming language that is very effective for computation and high-level graphics. It is commonly used for data analytics and data science.\n",
    "\n",
    "We are going through five lessons in this module:\n",
    "\n",
    "- [**Lesson 1: R Basic Data Types**](Lesson_1_R_Basic_Data_Types.ipynb)\n",
    "\n",
    "- [**Lesson 2: R Data Structures**](Lesson_2_R_Data_Structures.ipynb)\n",
    "\n",
    "- <font color=#E98300>**Lesson 3: Importing Data**</font>    `📍You are here.`\n",
    "\n",
    "- [**Lesson 4: Conditionals and Loops**](Lesson_4_Conditionals_and_Loops.ipynb)\n",
    "\n",
    "- [**Lesson 5: Functions**](Lesson_5_Functions.ipynb)\n",
    "\n",
    "</br>\n",
    "\n",
    "### ✅ Exercises\n",
    "We encourage you to try the exercise questions in this module, and use the [**solutions to the exercises**](Exercise_solutions.ipynb) to help you study.\n",
    "\n",
    "</br>\n",
    "\n",
    "<div class=\"alert alert-block alert-info\">\n",
    "<h3>⌨️ Keyboard shortcut</h3>\n",
    "\n",
    "These common shortcut could save your time going through this notebook:\n",
    "- Run the current cell: **`Enter + Shift`**.\n",
    "- Add a cell above the current cell: Press **`A`**.\n",
    "- Add a cell below the current cell: Press **`B`**.\n",
    "- Change a code cell to markdown cell: Select the cell, and then press **`M`**.\n",
    "- Delete a cell: Press **`D`** twice.\n",
    "\n",
    "Need more help with keyboard shortcut? Press **`H`** to look it up.\n",
    "</div>"
   ]
  },
  {
   "cell_type": "markdown",
   "id": "4a685263-adc3-49aa-a4c1-94b82737ae64",
   "metadata": {
    "id": "4a685263-adc3-49aa-a4c1-94b82737ae64"
   },
   "source": [
    "---"
   ]
  },
  {
   "cell_type": "markdown",
   "id": "15f6dc98",
   "metadata": {
    "id": "15f6dc98"
   },
   "source": [
    "# Lesson 3: Importing Data\n",
    "\n",
    "Data can be formatted in various ways so we use parsers to import the data as a data frame.\n",
    "\n",
    "\n",
    "`🕒 This module should take about 10 minutes to complete.`\n",
    "\n",
    "`✍️ This notebook is written using R.`"
   ]
  },
  {
   "cell_type": "markdown",
   "id": "ebf5dd38",
   "metadata": {
    "id": "ebf5dd38"
   },
   "source": [
    "### csv file\n",
    "Comma separated values (csv) is a common way that data can be formatted. To import a csv file, read.csv() is used. The name of the file is passed in and the dataset will be imported as a data frame.\n",
    "\n",
    "For example:"
   ]
  },
  {
   "cell_type": "code",
   "execution_count": 2,
   "id": "8738b402",
   "metadata": {
    "id": "8738b402"
   },
   "outputs": [],
   "source": [
    "df <- read.csv(\"data/heart_disease.csv\")"
   ]
  },
  {
   "cell_type": "markdown",
   "id": "198dfbca",
   "metadata": {
    "id": "198dfbca"
   },
   "source": [
    "<div class=\"alert alert-block alert-success\">\n",
    "<b>Note:</b> Comma Separated Values (CSV) is one of the most common file formats for storing data, and CSV files are supported by nearly all data upload interfaces.\n",
    "</div>"
   ]
  },
  {
   "cell_type": "markdown",
   "id": "1e7a033a",
   "metadata": {
    "id": "1e7a033a"
   },
   "source": [
    "#### head()\n",
    "The head() function displays the first six rows (by default):"
   ]
  },
  {
   "cell_type": "code",
   "execution_count": 3,
   "id": "75010ec9",
   "metadata": {
    "id": "75010ec9"
   },
   "outputs": [
    {
     "data": {
      "text/html": [
       "<table class=\"dataframe\">\n",
       "<caption>A data.frame: 6 × 8</caption>\n",
       "<thead>\n",
       "\t<tr><th></th><th scope=col>age</th><th scope=col>sex</th><th scope=col>chest_pain</th><th scope=col>rest_bp</th><th scope=col>chol</th><th scope=col>max_hr</th><th scope=col>st_depr</th><th scope=col>target</th></tr>\n",
       "\t<tr><th></th><th scope=col>&lt;int&gt;</th><th scope=col>&lt;chr&gt;</th><th scope=col>&lt;int&gt;</th><th scope=col>&lt;int&gt;</th><th scope=col>&lt;int&gt;</th><th scope=col>&lt;int&gt;</th><th scope=col>&lt;dbl&gt;</th><th scope=col>&lt;chr&gt;</th></tr>\n",
       "</thead>\n",
       "<tbody>\n",
       "\t<tr><th scope=row>1</th><td>63</td><td>Female</td><td>3</td><td>145</td><td>233</td><td>150</td><td>2.3</td><td>Yes</td></tr>\n",
       "\t<tr><th scope=row>2</th><td>37</td><td>Female</td><td>2</td><td>130</td><td>250</td><td>187</td><td>3.5</td><td>Yes</td></tr>\n",
       "\t<tr><th scope=row>3</th><td>41</td><td>Male  </td><td>1</td><td>130</td><td>204</td><td>172</td><td>1.4</td><td>Yes</td></tr>\n",
       "\t<tr><th scope=row>4</th><td>56</td><td>Female</td><td>1</td><td>120</td><td>236</td><td>178</td><td>0.8</td><td>Yes</td></tr>\n",
       "\t<tr><th scope=row>5</th><td>57</td><td>Male  </td><td>0</td><td>120</td><td>354</td><td>163</td><td>0.6</td><td>Yes</td></tr>\n",
       "\t<tr><th scope=row>6</th><td>57</td><td>Female</td><td>0</td><td>140</td><td>192</td><td>148</td><td>0.4</td><td>Yes</td></tr>\n",
       "</tbody>\n",
       "</table>\n"
      ],
      "text/latex": [
       "A data.frame: 6 × 8\n",
       "\\begin{tabular}{r|llllllll}\n",
       "  & age & sex & chest\\_pain & rest\\_bp & chol & max\\_hr & st\\_depr & target\\\\\n",
       "  & <int> & <chr> & <int> & <int> & <int> & <int> & <dbl> & <chr>\\\\\n",
       "\\hline\n",
       "\t1 & 63 & Female & 3 & 145 & 233 & 150 & 2.3 & Yes\\\\\n",
       "\t2 & 37 & Female & 2 & 130 & 250 & 187 & 3.5 & Yes\\\\\n",
       "\t3 & 41 & Male   & 1 & 130 & 204 & 172 & 1.4 & Yes\\\\\n",
       "\t4 & 56 & Female & 1 & 120 & 236 & 178 & 0.8 & Yes\\\\\n",
       "\t5 & 57 & Male   & 0 & 120 & 354 & 163 & 0.6 & Yes\\\\\n",
       "\t6 & 57 & Female & 0 & 140 & 192 & 148 & 0.4 & Yes\\\\\n",
       "\\end{tabular}\n"
      ],
      "text/markdown": [
       "\n",
       "A data.frame: 6 × 8\n",
       "\n",
       "| <!--/--> | age &lt;int&gt; | sex &lt;chr&gt; | chest_pain &lt;int&gt; | rest_bp &lt;int&gt; | chol &lt;int&gt; | max_hr &lt;int&gt; | st_depr &lt;dbl&gt; | target &lt;chr&gt; |\n",
       "|---|---|---|---|---|---|---|---|---|\n",
       "| 1 | 63 | Female | 3 | 145 | 233 | 150 | 2.3 | Yes |\n",
       "| 2 | 37 | Female | 2 | 130 | 250 | 187 | 3.5 | Yes |\n",
       "| 3 | 41 | Male   | 1 | 130 | 204 | 172 | 1.4 | Yes |\n",
       "| 4 | 56 | Female | 1 | 120 | 236 | 178 | 0.8 | Yes |\n",
       "| 5 | 57 | Male   | 0 | 120 | 354 | 163 | 0.6 | Yes |\n",
       "| 6 | 57 | Female | 0 | 140 | 192 | 148 | 0.4 | Yes |\n",
       "\n"
      ],
      "text/plain": [
       "  age sex    chest_pain rest_bp chol max_hr st_depr target\n",
       "1 63  Female 3          145     233  150    2.3     Yes   \n",
       "2 37  Female 2          130     250  187    3.5     Yes   \n",
       "3 41  Male   1          130     204  172    1.4     Yes   \n",
       "4 56  Female 1          120     236  178    0.8     Yes   \n",
       "5 57  Male   0          120     354  163    0.6     Yes   \n",
       "6 57  Female 0          140     192  148    0.4     Yes   "
      ]
     },
     "metadata": {},
     "output_type": "display_data"
    }
   ],
   "source": [
    "head(df)"
   ]
  },
  {
   "cell_type": "code",
   "execution_count": 5,
   "id": "765e3566",
   "metadata": {
    "id": "765e3566"
   },
   "outputs": [
    {
     "data": {
      "text/html": [
       "<table class=\"dataframe\">\n",
       "<caption>A data.frame: 15 × 8</caption>\n",
       "<thead>\n",
       "\t<tr><th></th><th scope=col>age</th><th scope=col>sex</th><th scope=col>chest_pain</th><th scope=col>rest_bp</th><th scope=col>chol</th><th scope=col>max_hr</th><th scope=col>st_depr</th><th scope=col>target</th></tr>\n",
       "\t<tr><th></th><th scope=col>&lt;int&gt;</th><th scope=col>&lt;chr&gt;</th><th scope=col>&lt;int&gt;</th><th scope=col>&lt;int&gt;</th><th scope=col>&lt;int&gt;</th><th scope=col>&lt;int&gt;</th><th scope=col>&lt;dbl&gt;</th><th scope=col>&lt;chr&gt;</th></tr>\n",
       "</thead>\n",
       "<tbody>\n",
       "\t<tr><th scope=row>1</th><td>63</td><td>Female</td><td>3</td><td>145</td><td>233</td><td>150</td><td>2.3</td><td>Yes</td></tr>\n",
       "\t<tr><th scope=row>2</th><td>37</td><td>Female</td><td>2</td><td>130</td><td>250</td><td>187</td><td>3.5</td><td>Yes</td></tr>\n",
       "\t<tr><th scope=row>3</th><td>41</td><td>Male  </td><td>1</td><td>130</td><td>204</td><td>172</td><td>1.4</td><td>Yes</td></tr>\n",
       "\t<tr><th scope=row>4</th><td>56</td><td>Female</td><td>1</td><td>120</td><td>236</td><td>178</td><td>0.8</td><td>Yes</td></tr>\n",
       "\t<tr><th scope=row>5</th><td>57</td><td>Male  </td><td>0</td><td>120</td><td>354</td><td>163</td><td>0.6</td><td>Yes</td></tr>\n",
       "\t<tr><th scope=row>6</th><td>57</td><td>Female</td><td>0</td><td>140</td><td>192</td><td>148</td><td>0.4</td><td>Yes</td></tr>\n",
       "\t<tr><th scope=row>7</th><td>56</td><td>Male  </td><td>1</td><td>140</td><td>294</td><td>153</td><td>1.3</td><td>Yes</td></tr>\n",
       "\t<tr><th scope=row>8</th><td>44</td><td>Female</td><td>1</td><td>120</td><td>263</td><td>173</td><td>0.0</td><td>Yes</td></tr>\n",
       "\t<tr><th scope=row>9</th><td>52</td><td>Female</td><td>2</td><td>172</td><td>199</td><td>162</td><td>0.5</td><td>Yes</td></tr>\n",
       "\t<tr><th scope=row>10</th><td>57</td><td>Female</td><td>2</td><td>150</td><td>168</td><td>174</td><td>1.6</td><td>Yes</td></tr>\n",
       "\t<tr><th scope=row>11</th><td>54</td><td>Female</td><td>0</td><td>140</td><td>239</td><td>160</td><td>1.2</td><td>Yes</td></tr>\n",
       "\t<tr><th scope=row>12</th><td>48</td><td>Male  </td><td>2</td><td>130</td><td>275</td><td>139</td><td>0.2</td><td>Yes</td></tr>\n",
       "\t<tr><th scope=row>13</th><td>49</td><td>Female</td><td>1</td><td>130</td><td>266</td><td>171</td><td>0.6</td><td>Yes</td></tr>\n",
       "\t<tr><th scope=row>14</th><td>64</td><td>Female</td><td>3</td><td>110</td><td>211</td><td>144</td><td>1.8</td><td>Yes</td></tr>\n",
       "\t<tr><th scope=row>15</th><td>58</td><td>Male  </td><td>3</td><td>150</td><td>283</td><td>162</td><td>1.0</td><td>Yes</td></tr>\n",
       "</tbody>\n",
       "</table>\n"
      ],
      "text/latex": [
       "A data.frame: 15 × 8\n",
       "\\begin{tabular}{r|llllllll}\n",
       "  & age & sex & chest\\_pain & rest\\_bp & chol & max\\_hr & st\\_depr & target\\\\\n",
       "  & <int> & <chr> & <int> & <int> & <int> & <int> & <dbl> & <chr>\\\\\n",
       "\\hline\n",
       "\t1 & 63 & Female & 3 & 145 & 233 & 150 & 2.3 & Yes\\\\\n",
       "\t2 & 37 & Female & 2 & 130 & 250 & 187 & 3.5 & Yes\\\\\n",
       "\t3 & 41 & Male   & 1 & 130 & 204 & 172 & 1.4 & Yes\\\\\n",
       "\t4 & 56 & Female & 1 & 120 & 236 & 178 & 0.8 & Yes\\\\\n",
       "\t5 & 57 & Male   & 0 & 120 & 354 & 163 & 0.6 & Yes\\\\\n",
       "\t6 & 57 & Female & 0 & 140 & 192 & 148 & 0.4 & Yes\\\\\n",
       "\t7 & 56 & Male   & 1 & 140 & 294 & 153 & 1.3 & Yes\\\\\n",
       "\t8 & 44 & Female & 1 & 120 & 263 & 173 & 0.0 & Yes\\\\\n",
       "\t9 & 52 & Female & 2 & 172 & 199 & 162 & 0.5 & Yes\\\\\n",
       "\t10 & 57 & Female & 2 & 150 & 168 & 174 & 1.6 & Yes\\\\\n",
       "\t11 & 54 & Female & 0 & 140 & 239 & 160 & 1.2 & Yes\\\\\n",
       "\t12 & 48 & Male   & 2 & 130 & 275 & 139 & 0.2 & Yes\\\\\n",
       "\t13 & 49 & Female & 1 & 130 & 266 & 171 & 0.6 & Yes\\\\\n",
       "\t14 & 64 & Female & 3 & 110 & 211 & 144 & 1.8 & Yes\\\\\n",
       "\t15 & 58 & Male   & 3 & 150 & 283 & 162 & 1.0 & Yes\\\\\n",
       "\\end{tabular}\n"
      ],
      "text/markdown": [
       "\n",
       "A data.frame: 15 × 8\n",
       "\n",
       "| <!--/--> | age &lt;int&gt; | sex &lt;chr&gt; | chest_pain &lt;int&gt; | rest_bp &lt;int&gt; | chol &lt;int&gt; | max_hr &lt;int&gt; | st_depr &lt;dbl&gt; | target &lt;chr&gt; |\n",
       "|---|---|---|---|---|---|---|---|---|\n",
       "| 1 | 63 | Female | 3 | 145 | 233 | 150 | 2.3 | Yes |\n",
       "| 2 | 37 | Female | 2 | 130 | 250 | 187 | 3.5 | Yes |\n",
       "| 3 | 41 | Male   | 1 | 130 | 204 | 172 | 1.4 | Yes |\n",
       "| 4 | 56 | Female | 1 | 120 | 236 | 178 | 0.8 | Yes |\n",
       "| 5 | 57 | Male   | 0 | 120 | 354 | 163 | 0.6 | Yes |\n",
       "| 6 | 57 | Female | 0 | 140 | 192 | 148 | 0.4 | Yes |\n",
       "| 7 | 56 | Male   | 1 | 140 | 294 | 153 | 1.3 | Yes |\n",
       "| 8 | 44 | Female | 1 | 120 | 263 | 173 | 0.0 | Yes |\n",
       "| 9 | 52 | Female | 2 | 172 | 199 | 162 | 0.5 | Yes |\n",
       "| 10 | 57 | Female | 2 | 150 | 168 | 174 | 1.6 | Yes |\n",
       "| 11 | 54 | Female | 0 | 140 | 239 | 160 | 1.2 | Yes |\n",
       "| 12 | 48 | Male   | 2 | 130 | 275 | 139 | 0.2 | Yes |\n",
       "| 13 | 49 | Female | 1 | 130 | 266 | 171 | 0.6 | Yes |\n",
       "| 14 | 64 | Female | 3 | 110 | 211 | 144 | 1.8 | Yes |\n",
       "| 15 | 58 | Male   | 3 | 150 | 283 | 162 | 1.0 | Yes |\n",
       "\n"
      ],
      "text/plain": [
       "   age sex    chest_pain rest_bp chol max_hr st_depr target\n",
       "1  63  Female 3          145     233  150    2.3     Yes   \n",
       "2  37  Female 2          130     250  187    3.5     Yes   \n",
       "3  41  Male   1          130     204  172    1.4     Yes   \n",
       "4  56  Female 1          120     236  178    0.8     Yes   \n",
       "5  57  Male   0          120     354  163    0.6     Yes   \n",
       "6  57  Female 0          140     192  148    0.4     Yes   \n",
       "7  56  Male   1          140     294  153    1.3     Yes   \n",
       "8  44  Female 1          120     263  173    0.0     Yes   \n",
       "9  52  Female 2          172     199  162    0.5     Yes   \n",
       "10 57  Female 2          150     168  174    1.6     Yes   \n",
       "11 54  Female 0          140     239  160    1.2     Yes   \n",
       "12 48  Male   2          130     275  139    0.2     Yes   \n",
       "13 49  Female 1          130     266  171    0.6     Yes   \n",
       "14 64  Female 3          110     211  144    1.8     Yes   \n",
       "15 58  Male   3          150     283  162    1.0     Yes   "
      ]
     },
     "metadata": {},
     "output_type": "display_data"
    }
   ],
   "source": [
    "# Display the first 15 rows:\n",
    "\n",
    "head(df, 15)"
   ]
  },
  {
   "cell_type": "markdown",
   "id": "fdb13c89",
   "metadata": {
    "id": "fdb13c89"
   },
   "source": [
    "#### tail()\n",
    "The tail() function displays the last six rows (by default):"
   ]
  },
  {
   "cell_type": "code",
   "execution_count": 4,
   "id": "46de6c3f",
   "metadata": {
    "id": "46de6c3f"
   },
   "outputs": [
    {
     "data": {
      "text/html": [
       "<table class=\"dataframe\">\n",
       "<caption>A data.frame: 6 × 8</caption>\n",
       "<thead>\n",
       "\t<tr><th></th><th scope=col>age</th><th scope=col>sex</th><th scope=col>chest_pain</th><th scope=col>rest_bp</th><th scope=col>chol</th><th scope=col>max_hr</th><th scope=col>st_depr</th><th scope=col>target</th></tr>\n",
       "\t<tr><th></th><th scope=col>&lt;int&gt;</th><th scope=col>&lt;chr&gt;</th><th scope=col>&lt;int&gt;</th><th scope=col>&lt;int&gt;</th><th scope=col>&lt;int&gt;</th><th scope=col>&lt;int&gt;</th><th scope=col>&lt;dbl&gt;</th><th scope=col>&lt;chr&gt;</th></tr>\n",
       "</thead>\n",
       "<tbody>\n",
       "\t<tr><th scope=row>298</th><td>59</td><td>Female</td><td>0</td><td>164</td><td>176</td><td> 90</td><td>1.0</td><td>No</td></tr>\n",
       "\t<tr><th scope=row>299</th><td>57</td><td>Male  </td><td>0</td><td>140</td><td>241</td><td>123</td><td>0.2</td><td>No</td></tr>\n",
       "\t<tr><th scope=row>300</th><td>45</td><td>Female</td><td>3</td><td>110</td><td>264</td><td>132</td><td>1.2</td><td>No</td></tr>\n",
       "\t<tr><th scope=row>301</th><td>68</td><td>Female</td><td>0</td><td>144</td><td>193</td><td>141</td><td>3.4</td><td>No</td></tr>\n",
       "\t<tr><th scope=row>302</th><td>57</td><td>Female</td><td>0</td><td>130</td><td>131</td><td>115</td><td>1.2</td><td>No</td></tr>\n",
       "\t<tr><th scope=row>303</th><td>57</td><td>Male  </td><td>1</td><td>130</td><td>236</td><td>174</td><td>0.0</td><td>No</td></tr>\n",
       "</tbody>\n",
       "</table>\n"
      ],
      "text/latex": [
       "A data.frame: 6 × 8\n",
       "\\begin{tabular}{r|llllllll}\n",
       "  & age & sex & chest\\_pain & rest\\_bp & chol & max\\_hr & st\\_depr & target\\\\\n",
       "  & <int> & <chr> & <int> & <int> & <int> & <int> & <dbl> & <chr>\\\\\n",
       "\\hline\n",
       "\t298 & 59 & Female & 0 & 164 & 176 &  90 & 1.0 & No\\\\\n",
       "\t299 & 57 & Male   & 0 & 140 & 241 & 123 & 0.2 & No\\\\\n",
       "\t300 & 45 & Female & 3 & 110 & 264 & 132 & 1.2 & No\\\\\n",
       "\t301 & 68 & Female & 0 & 144 & 193 & 141 & 3.4 & No\\\\\n",
       "\t302 & 57 & Female & 0 & 130 & 131 & 115 & 1.2 & No\\\\\n",
       "\t303 & 57 & Male   & 1 & 130 & 236 & 174 & 0.0 & No\\\\\n",
       "\\end{tabular}\n"
      ],
      "text/markdown": [
       "\n",
       "A data.frame: 6 × 8\n",
       "\n",
       "| <!--/--> | age &lt;int&gt; | sex &lt;chr&gt; | chest_pain &lt;int&gt; | rest_bp &lt;int&gt; | chol &lt;int&gt; | max_hr &lt;int&gt; | st_depr &lt;dbl&gt; | target &lt;chr&gt; |\n",
       "|---|---|---|---|---|---|---|---|---|\n",
       "| 298 | 59 | Female | 0 | 164 | 176 |  90 | 1.0 | No |\n",
       "| 299 | 57 | Male   | 0 | 140 | 241 | 123 | 0.2 | No |\n",
       "| 300 | 45 | Female | 3 | 110 | 264 | 132 | 1.2 | No |\n",
       "| 301 | 68 | Female | 0 | 144 | 193 | 141 | 3.4 | No |\n",
       "| 302 | 57 | Female | 0 | 130 | 131 | 115 | 1.2 | No |\n",
       "| 303 | 57 | Male   | 1 | 130 | 236 | 174 | 0.0 | No |\n",
       "\n"
      ],
      "text/plain": [
       "    age sex    chest_pain rest_bp chol max_hr st_depr target\n",
       "298 59  Female 0          164     176   90    1.0     No    \n",
       "299 57  Male   0          140     241  123    0.2     No    \n",
       "300 45  Female 3          110     264  132    1.2     No    \n",
       "301 68  Female 0          144     193  141    3.4     No    \n",
       "302 57  Female 0          130     131  115    1.2     No    \n",
       "303 57  Male   1          130     236  174    0.0     No    "
      ]
     },
     "metadata": {},
     "output_type": "display_data"
    }
   ],
   "source": [
    "tail(df)"
   ]
  },
  {
   "cell_type": "markdown",
   "id": "1a7a491a",
   "metadata": {
    "id": "1a7a491a"
   },
   "source": [
    "#### unique()\n",
    "The unique() function will display the unique values within a column:"
   ]
  },
  {
   "cell_type": "code",
   "execution_count": 6,
   "id": "e42c9405",
   "metadata": {
    "id": "e42c9405"
   },
   "outputs": [
    {
     "data": {
      "text/html": [
       "<style>\n",
       ".list-inline {list-style: none; margin:0; padding: 0}\n",
       ".list-inline>li {display: inline-block}\n",
       ".list-inline>li:not(:last-child)::after {content: \"\\00b7\"; padding: 0 .5ex}\n",
       "</style>\n",
       "<ol class=list-inline><li>'Female'</li><li>'Male'</li></ol>\n"
      ],
      "text/latex": [
       "\\begin{enumerate*}\n",
       "\\item 'Female'\n",
       "\\item 'Male'\n",
       "\\end{enumerate*}\n"
      ],
      "text/markdown": [
       "1. 'Female'\n",
       "2. 'Male'\n",
       "\n",
       "\n"
      ],
      "text/plain": [
       "[1] \"Female\" \"Male\"  "
      ]
     },
     "metadata": {},
     "output_type": "display_data"
    }
   ],
   "source": [
    "unique(df$sex)"
   ]
  },
  {
   "cell_type": "markdown",
   "id": "4b83356d",
   "metadata": {
    "id": "4b83356d"
   },
   "source": [
    "#### table()\n",
    "The table() function will display the count of each unique value within a column:"
   ]
  },
  {
   "cell_type": "code",
   "execution_count": 7,
   "id": "bdb86fd9",
   "metadata": {
    "id": "bdb86fd9"
   },
   "outputs": [
    {
     "data": {
      "text/plain": [
       "\n",
       "Female   Male \n",
       "   207     96 "
      ]
     },
     "metadata": {},
     "output_type": "display_data"
    }
   ],
   "source": [
    "# Count the frequency of each category in a column/vector:\n",
    "\n",
    "table(df$sex)"
   ]
  },
  {
   "cell_type": "markdown",
   "id": "a727b14d",
   "metadata": {
    "id": "a727b14d"
   },
   "source": [
    "<div class=\"alert alert-block alert-success\">\n",
    "<b>Keep in mind:</b> Each column requested with \"$\" is a vector, so any function that can be applied to a vector can also be applied to a column (e.g., table(), length(), mean(), sort() ).\n",
    "</div>"
   ]
  },
  {
   "cell_type": "markdown",
   "id": "44dad679",
   "metadata": {
    "id": "44dad679"
   },
   "source": [
    "### Table format\n",
    "\n",
    "Another way that we can import data is by using read.table(). This reads a file in table format and creates a data frame from it. We can set its `sep` parameter to indicate how the data is separated (e.g., sep=\",\" for comma separated values). Setting the `header` parameter to TRUE indicates that the first row contains the names of the columns.\n",
    "\n",
    "For example:"
   ]
  },
  {
   "cell_type": "code",
   "execution_count": 8,
   "id": "b2c235a1",
   "metadata": {
    "id": "b2c235a1"
   },
   "outputs": [],
   "source": [
    "df_table <- read.table(\"data/heart_disease.csv\", sep=\",\", header=TRUE, )"
   ]
  },
  {
   "cell_type": "code",
   "execution_count": 9,
   "id": "756c3353",
   "metadata": {
    "id": "756c3353"
   },
   "outputs": [
    {
     "data": {
      "text/html": [
       "<table class=\"dataframe\">\n",
       "<caption>A data.frame: 6 × 8</caption>\n",
       "<thead>\n",
       "\t<tr><th></th><th scope=col>age</th><th scope=col>sex</th><th scope=col>chest_pain</th><th scope=col>rest_bp</th><th scope=col>chol</th><th scope=col>max_hr</th><th scope=col>st_depr</th><th scope=col>target</th></tr>\n",
       "\t<tr><th></th><th scope=col>&lt;int&gt;</th><th scope=col>&lt;chr&gt;</th><th scope=col>&lt;int&gt;</th><th scope=col>&lt;int&gt;</th><th scope=col>&lt;int&gt;</th><th scope=col>&lt;int&gt;</th><th scope=col>&lt;dbl&gt;</th><th scope=col>&lt;chr&gt;</th></tr>\n",
       "</thead>\n",
       "<tbody>\n",
       "\t<tr><th scope=row>1</th><td>63</td><td>Female</td><td>3</td><td>145</td><td>233</td><td>150</td><td>2.3</td><td>Yes</td></tr>\n",
       "\t<tr><th scope=row>2</th><td>37</td><td>Female</td><td>2</td><td>130</td><td>250</td><td>187</td><td>3.5</td><td>Yes</td></tr>\n",
       "\t<tr><th scope=row>3</th><td>41</td><td>Male  </td><td>1</td><td>130</td><td>204</td><td>172</td><td>1.4</td><td>Yes</td></tr>\n",
       "\t<tr><th scope=row>4</th><td>56</td><td>Female</td><td>1</td><td>120</td><td>236</td><td>178</td><td>0.8</td><td>Yes</td></tr>\n",
       "\t<tr><th scope=row>5</th><td>57</td><td>Male  </td><td>0</td><td>120</td><td>354</td><td>163</td><td>0.6</td><td>Yes</td></tr>\n",
       "\t<tr><th scope=row>6</th><td>57</td><td>Female</td><td>0</td><td>140</td><td>192</td><td>148</td><td>0.4</td><td>Yes</td></tr>\n",
       "</tbody>\n",
       "</table>\n"
      ],
      "text/latex": [
       "A data.frame: 6 × 8\n",
       "\\begin{tabular}{r|llllllll}\n",
       "  & age & sex & chest\\_pain & rest\\_bp & chol & max\\_hr & st\\_depr & target\\\\\n",
       "  & <int> & <chr> & <int> & <int> & <int> & <int> & <dbl> & <chr>\\\\\n",
       "\\hline\n",
       "\t1 & 63 & Female & 3 & 145 & 233 & 150 & 2.3 & Yes\\\\\n",
       "\t2 & 37 & Female & 2 & 130 & 250 & 187 & 3.5 & Yes\\\\\n",
       "\t3 & 41 & Male   & 1 & 130 & 204 & 172 & 1.4 & Yes\\\\\n",
       "\t4 & 56 & Female & 1 & 120 & 236 & 178 & 0.8 & Yes\\\\\n",
       "\t5 & 57 & Male   & 0 & 120 & 354 & 163 & 0.6 & Yes\\\\\n",
       "\t6 & 57 & Female & 0 & 140 & 192 & 148 & 0.4 & Yes\\\\\n",
       "\\end{tabular}\n"
      ],
      "text/markdown": [
       "\n",
       "A data.frame: 6 × 8\n",
       "\n",
       "| <!--/--> | age &lt;int&gt; | sex &lt;chr&gt; | chest_pain &lt;int&gt; | rest_bp &lt;int&gt; | chol &lt;int&gt; | max_hr &lt;int&gt; | st_depr &lt;dbl&gt; | target &lt;chr&gt; |\n",
       "|---|---|---|---|---|---|---|---|---|\n",
       "| 1 | 63 | Female | 3 | 145 | 233 | 150 | 2.3 | Yes |\n",
       "| 2 | 37 | Female | 2 | 130 | 250 | 187 | 3.5 | Yes |\n",
       "| 3 | 41 | Male   | 1 | 130 | 204 | 172 | 1.4 | Yes |\n",
       "| 4 | 56 | Female | 1 | 120 | 236 | 178 | 0.8 | Yes |\n",
       "| 5 | 57 | Male   | 0 | 120 | 354 | 163 | 0.6 | Yes |\n",
       "| 6 | 57 | Female | 0 | 140 | 192 | 148 | 0.4 | Yes |\n",
       "\n"
      ],
      "text/plain": [
       "  age sex    chest_pain rest_bp chol max_hr st_depr target\n",
       "1 63  Female 3          145     233  150    2.3     Yes   \n",
       "2 37  Female 2          130     250  187    3.5     Yes   \n",
       "3 41  Male   1          130     204  172    1.4     Yes   \n",
       "4 56  Female 1          120     236  178    0.8     Yes   \n",
       "5 57  Male   0          120     354  163    0.6     Yes   \n",
       "6 57  Female 0          140     192  148    0.4     Yes   "
      ]
     },
     "metadata": {},
     "output_type": "display_data"
    }
   ],
   "source": [
    "# Preview the data imported via read.table():\n",
    "\n",
    "head(df_table)"
   ]
  },
  {
   "cell_type": "markdown",
   "id": "6ef19379",
   "metadata": {
    "id": "6ef19379"
   },
   "source": [
    "---"
   ]
  },
  {
   "cell_type": "markdown",
   "id": "47aeb7ae",
   "metadata": {
    "id": "47aeb7ae"
   },
   "source": [
    "# 🌟 Ready for the next one?\n",
    "<br>\n",
    "\n",
    "- [**Lesson 4: Conditionals and Loops**](Lesson_4_Conditionals_and_Loops.ipynb)\n",
    "\n",
    "- [**Lesson 5: Functions**](Lesson_5_Functions.ipynb)"
   ]
  },
  {
   "cell_type": "markdown",
   "id": "a078eea4",
   "metadata": {
    "id": "a078eea4"
   },
   "source": [
    "---"
   ]
  },
  {
   "cell_type": "markdown",
   "id": "6417d0b1",
   "metadata": {
    "id": "6417d0b1"
   },
   "source": [
    "# Contributions & acknowledgment"
   ]
  },
  {
   "cell_type": "markdown",
   "id": "f8a28fa0",
   "metadata": {
    "id": "f8a28fa0"
   },
   "source": [
    "Thanks Antony Ross for contributing the content for this notebook."
   ]
  },
  {
   "cell_type": "markdown",
   "id": "d366f518",
   "metadata": {
    "id": "d366f518"
   },
   "source": [
    "---"
   ]
  },
  {
   "cell_type": "markdown",
   "id": "8e2cf8c6",
   "metadata": {
    "id": "8e2cf8c6"
   },
   "source": [
    "Copyright (c) 2022 Stanford Data Ocean (SDO)\n",
    "\n",
    "All rights reserved."
   ]
  }
 ],
 "metadata": {
  "colab": {
   "provenance": []
  },
  "kernelspec": {
   "display_name": "R",
   "language": "R",
   "name": "ir"
  },
  "language_info": {
   "codemirror_mode": "r",
   "file_extension": ".r",
   "mimetype": "text/x-r-source",
   "name": "R",
   "pygments_lexer": "r",
   "version": "4.2.2"
  }
 },
 "nbformat": 4,
 "nbformat_minor": 5
}
