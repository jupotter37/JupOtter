{
 "cells": [
  {
   "attachments": {},
   "cell_type": "markdown",
   "id": "6e064687",
   "metadata": {},
   "source": [
    "# OOP exercises "
   ]
  },
  {
   "attachments": {},
   "cell_type": "markdown",
   "id": "f1f7fed8",
   "metadata": {},
   "source": [
    "## Bank Account\n",
    "\n",
    "Create a `BankAccount` class that has:\n",
    "\n",
    "- Attributes: owner, balance\n",
    "- Methods: deposit(amount), withdraw(amount), get_balance()\n",
    "\n",
    "1. Implement the behavior of their mehotds.\n",
    "2. Make sure they work as you would expect.\n",
    "\n",
    "**Note**: The withdraw method should check if there's enough balance to perform the action."
   ]
  },
  {
   "cell_type": "code",
   "execution_count": 6,
   "id": "26c691ff",
   "metadata": {},
   "outputs": [],
   "source": [
    "class BankAccount:\n",
    "    def __init__(self, owner, balance = 0):\n",
    "        self.owner = owner\n",
    "        self.balance = balance\n",
    "\n",
    "    def deposit(self, amount):\n",
    "        self.balance = self.balance + amount\n",
    "    \n",
    "    def get_balance(self):\n",
    "        return self.balance\n",
    "    \n",
    "    def withdraw(self, amount):\n",
    "        if self.balance - amount < 0:\n",
    "            return f\"You don't have enought money\"\n",
    "        else:\n",
    "            self.balance = self.balance - amount    "
   ]
  },
  {
   "cell_type": "code",
   "execution_count": 7,
   "id": "1d38db3c",
   "metadata": {},
   "outputs": [
    {
     "name": "stdout",
     "output_type": "stream",
     "text": [
      "John's balance: $1500\n",
      "Jane's balance: $400\n"
     ]
    }
   ],
   "source": [
    "# Example usage\n",
    "\n",
    "# Create accounts\n",
    "john_account = BankAccount(\"John\", 1000)\n",
    "jane_account = BankAccount(\"Jane\", 500)\n",
    "\n",
    "# Transactions\n",
    "john_account.deposit(500)\n",
    "jane_account.withdraw(100)\n",
    "\n",
    "# Display balances\n",
    "print(f\"{john_account.owner}'s balance: ${john_account.balance}\")\n",
    "print(f\"{jane_account.owner}'s balance: ${jane_account.balance}\")"
   ]
  },
  {
   "attachments": {},
   "cell_type": "markdown",
   "id": "650e4cfa",
   "metadata": {},
   "source": [
    "## Circle and Rectangle\n",
    "\n",
    "Create a `Circle` class with:\n",
    "- Attributes: radius\n",
    "- Methods: area(), circumference()\n",
    "\n",
    "Create a `Rectangle` class with:\n",
    "- Attributes: length, width\n",
    "- Methods: area(), perimeter()\n",
    "\n",
    "1. Implement the behavior of their mehotds.\n",
    "2. Make sure they work as you would expect."
   ]
  },
  {
   "cell_type": "code",
   "execution_count": 14,
   "id": "64acfdda",
   "metadata": {},
   "outputs": [],
   "source": [
    "import math\n",
    "\n",
    "class Circle:\n",
    "    def __init__(self, radius):\n",
    "        self.radius = radius\n",
    "\n",
    "    def area(self):\n",
    "        return math.pi * self.radius ** 2\n",
    "    \n",
    "    def circumference(self):\n",
    "        return 2 * math.pi * self.radius\n",
    "\n",
    "class Rectangle:\n",
    "    def __init__(self, length, width):\n",
    "        self.length = length\n",
    "        self.width = width\n",
    "\n",
    "    def area(self):\n",
    "        return self.length * self.width\n",
    "    \n",
    "    def perimeter(self):\n",
    "        return 2 * self.length + 2 * self.width"
   ]
  },
  {
   "cell_type": "code",
   "execution_count": 16,
   "id": "512fa498",
   "metadata": {},
   "outputs": [
    {
     "name": "stdout",
     "output_type": "stream",
     "text": [
      "Circle's area: 78.54\n",
      "Circle's circumference: 31.42\n",
      "Rectangle's area: 50\n",
      "Rectangle's perimeter: 30\n"
     ]
    }
   ],
   "source": [
    "# Example usage\n",
    "\n",
    "# Create shapes\n",
    "circle = Circle(5)  # Radius of 5\n",
    "rectangle = Rectangle(10, 5)  # Width of 10, height of 5\n",
    "\n",
    "# Calculate and display areas\n",
    "print(f\"Circle's area: {circle.area():.2f}\")\n",
    "print(f\"Circle's circumference: {circle.circumference():.2f}\")\n",
    "print(f\"Rectangle's area: {rectangle.area()}\")\n",
    "print(f\"Rectangle's perimeter: {rectangle.perimeter()}\")"
   ]
  },
  {
   "cell_type": "code",
   "execution_count": 15,
   "id": "cfbc2ab8",
   "metadata": {},
   "outputs": [
    {
     "name": "stdout",
     "output_type": "stream",
     "text": [
      "Circle's area: 78.54\n",
      "Circle's circumference: 31.42\n",
      "Rectangle's area: 50\n",
      "Rectangle's perimeter: 30\n"
     ]
    }
   ],
   "source": [
    "# Create shapes\n",
    "circle = Circle(5)  # Radius of 5\n",
    "rectangle = Rectangle(10, 5)  # Width of 10, height of 5\n",
    "\n",
    "# Calculate and display areas\n",
    "print(f\"Circle's area: {circle.area():.2f}\")\n",
    "print(f\"Circle's circumference: {circle.circumference():.2f}\")\n",
    "print(f\"Rectangle's area: {rectangle.area()}\")\n",
    "print(f\"Rectangle's perimeter: {rectangle.perimeter()}\")"
   ]
  },
  {
   "attachments": {},
   "cell_type": "markdown",
   "id": "b2142d09",
   "metadata": {},
   "source": [
    "## Shopping Cart\n",
    "\n",
    "Design a simple shopping cart system with:\n",
    "\n",
    "A `Product` class that has:\n",
    "- Attributes: product_id, product_name, product_price\n",
    "- Method: display_product_info()\n",
    "\n",
    "A `ShoppingCart` class that has:\n",
    "- Attribute: products (a list to store added products)\n",
    "- Methods: add_product(product, num_items), remove_product(product_id), total_cost()\n",
    "\n",
    "1. Implement the behavior of their mehotds.\n",
    "2. Make sure they work as you would expect."
   ]
  },
  {
   "cell_type": "code",
   "execution_count": 18,
   "id": "aa09ecf2",
   "metadata": {},
   "outputs": [],
   "source": [
    "class Product:\n",
    "    def __init__(self, id, name, price):\n",
    "        self.id = id\n",
    "        self.name = name\n",
    "        self.price = price\n",
    "    \n",
    "    def display_product_info(self):\n",
    "        return f\"id = {self.id}, name = {self.name}, price = {self.price}\"\n",
    "    \n",
    "class ShoppingCart:\n",
    "    def __init__(self):\n",
    "        self.products = []\n",
    "\n",
    "    def add_product(self, product, num_items):\n",
    "        for i in range(0, num_items):\n",
    "            self.products.append(product)\n",
    "\n",
    "    def remove_product(self, id):\n",
    "        for prod in self.products:\n",
    "            if id == prod.id:\n",
    "                self.products.remove(prod.id)\n",
    "                print(f\"{prod} removed\")\n",
    "\n",
    "    def total_cost(self):\n",
    "        total = 0\n",
    "        for prod in self.products:\n",
    "            total += prod.price\n",
    "        return total"
   ]
  },
  {
   "cell_type": "code",
   "execution_count": 24,
   "id": "79a8cc7f",
   "metadata": {},
   "outputs": [
    {
     "name": "stdout",
     "output_type": "stream",
     "text": [
      "Total cost: 2.90€\n"
     ]
    }
   ],
   "source": [
    "# Example usage\n",
    "\n",
    "# Create products\n",
    "apple = Product(1, \"Apple\", 0.5)\n",
    "banana = Product(2, \"Banana\", 0.3)\n",
    "\n",
    "# Create cart and add items\n",
    "cart = ShoppingCart()\n",
    "cart.add_product(apple, 4)  # 4 apples\n",
    "cart.add_product(banana, 3)  # 3 bananas\n",
    "\n",
    "# Display total cost\n",
    "print(f\"Total cost: {cart.total_cost():.2f}€\")"
   ]
  },
  {
   "cell_type": "code",
   "execution_count": 19,
   "id": "060824e9",
   "metadata": {},
   "outputs": [
    {
     "name": "stdout",
     "output_type": "stream",
     "text": [
      "Total cost: 2.90€\n"
     ]
    }
   ],
   "source": [
    "# Create products\n",
    "apple = Product(1, \"Apple\", 0.5)\n",
    "banana = Product(2, \"Banana\", 0.3)\n",
    "\n",
    "# Create cart and add items\n",
    "cart = ShoppingCart()\n",
    "cart.add_product(apple, 4)  # 4 apples\n",
    "cart.add_product(banana, 3)  # 3 bananas\n",
    "\n",
    "# Display total cost\n",
    "print(f\"Total cost: {cart.total_cost():.2f}€\")"
   ]
  },
  {
   "attachments": {},
   "cell_type": "markdown",
   "id": "4511a306",
   "metadata": {},
   "source": [
    "## Flight Booking System\n",
    "\n",
    "Create two classes `Passenger` and `Flight`:\n",
    "- The `Passenger` class should have details like `name` and `passport_number`.\n",
    "- The `Flight` class should have details like `flight_number`, `origin`, `destination`, and `passengers` (a list of Passenger objects).\n",
    "\n",
    "**External Logic**: Write a function `book_flight(flight, passenger)` that adds a passenger to a flight. Ensure that the same passenger (check by passport number) cannot be added twice."
   ]
  },
  {
   "cell_type": "code",
   "execution_count": 35,
   "id": "2b0f9a03",
   "metadata": {},
   "outputs": [],
   "source": [
    "class Passenger:\n",
    "    def __init__(self, name, passaport):\n",
    "        self.name = name\n",
    "        self.passaport_number = passaport\n",
    "\n",
    "class Flight:\n",
    "    def __init__(self, flight_number, origin, destination):\n",
    "        self.passengers = []\n",
    "        self.flight_number = flight_number\n",
    "        self.origin = origin\n",
    "        self.destination = destination\n",
    "\n",
    "\n",
    "def book_flight(flight, passenger):\n",
    "    if passenger in flight.passengers:\n",
    "        are_in = True\n",
    "    else:\n",
    "        are_in = False\n",
    "    if are_in:\n",
    "        print(\"Passenger already booked!\")\n",
    "    else:\n",
    "        flight.passengers.append(passenger)"
   ]
  },
  {
   "cell_type": "code",
   "execution_count": 4,
   "id": "84b11a08",
   "metadata": {},
   "outputs": [
    {
     "name": "stdout",
     "output_type": "stream",
     "text": [
      "Passenger already booked!\n",
      "Flight FL001 from NYC to LA has the following passengers:\n",
      "John Doe\n",
      "Jane Smith\n"
     ]
    }
   ],
   "source": [
    "# Example usage\n",
    "\n",
    "# Create passengers and flights\n",
    "john = Passenger(\"John Doe\", \"P12345\")\n",
    "jane = Passenger(\"Jane Smith\", \"P67890\")\n",
    "flight1 = Flight(\"FL001\", \"NYC\", \"LA\")\n",
    "\n",
    "# Book flights\n",
    "book_flight(flight1, john)\n",
    "book_flight(flight1, jane)\n",
    "book_flight(flight1, john)  # Should print \"Passenger already booked!\"\n",
    "\n",
    "# Display flight details\n",
    "print(f\"Flight {flight1.flight_number} from {flight1.origin} to {flight1.destination} has the following passengers:\")\n",
    "for passenger in flight1.passengers:\n",
    "    print(passenger.name)"
   ]
  },
  {
   "cell_type": "code",
   "execution_count": 36,
   "id": "ebfc2a04",
   "metadata": {},
   "outputs": [
    {
     "name": "stdout",
     "output_type": "stream",
     "text": [
      "Passenger already booked!\n",
      "Flight FL001 from NYC to LA has the following passengers:\n",
      "John Doe\n",
      "Jane Smith\n"
     ]
    }
   ],
   "source": [
    "# Create passengers and flights\n",
    "john = Passenger(\"John Doe\", \"P12345\")\n",
    "jane = Passenger(\"Jane Smith\", \"P67890\")\n",
    "flight1 = Flight(\"FL001\", \"NYC\", \"LA\")\n",
    "\n",
    "# Book flights\n",
    "book_flight(flight1, john)\n",
    "book_flight(flight1, jane)\n",
    "book_flight(flight1, john)  # Should print \"Passenger already booked!\"\n",
    "\n",
    "# Display flight details\n",
    "print(f\"Flight {flight1.flight_number} from {flight1.origin} to {flight1.destination} has the following passengers:\")\n",
    "for passenger in flight1.passengers:\n",
    "    print(passenger.name)"
   ]
  },
  {
   "attachments": {},
   "cell_type": "markdown",
   "id": "134d8d15",
   "metadata": {},
   "source": [
    "## Sports League\n",
    "\n",
    "Design classes: `Team` and `Player`.\n",
    "- The `Player` class should have attributes like `name`, `position`, and `performance_score`. \n",
    "- The `Team` class should have an attribute for `team_name` and a list of `Player` objects.\n",
    "\n",
    "**External Logic**: Write a function `best_player(team)` that goes through the list of players in a team and returns the player with the highest performance_score."
   ]
  },
  {
   "cell_type": "code",
   "execution_count": 37,
   "id": "62821f27",
   "metadata": {},
   "outputs": [],
   "source": [
    "class Player:\n",
    "    def __init__(self, name = \"\", position = \"\", performance_score = 0):\n",
    "        self.name = name\n",
    "        self.position = position\n",
    "        self.performance_score = performance_score\n",
    "    \n",
    "class Team:\n",
    "    def __init__(self, name):\n",
    "        self.name = name\n",
    "        self.players = []\n",
    "\n",
    "def best_player(team):\n",
    "    max = 0\n",
    "    for i in team.players:\n",
    "        if i.performance_score > max:\n",
    "            max = i.performance_score\n",
    "            best = i\n",
    "    return best"
   ]
  },
  {
   "cell_type": "code",
   "execution_count": 27,
   "id": "daef95f7",
   "metadata": {},
   "outputs": [
    {
     "name": "stdout",
     "output_type": "stream",
     "text": [
      "The best player in Alpha is Leo with a score of 95.\n"
     ]
    }
   ],
   "source": [
    "# Example usage\n",
    "\n",
    "# Create players and a team\n",
    "leo = Player(\"Leo\", \"Forward\", 95)\n",
    "mike = Player(\"Mike\", \"Defender\", 80)\n",
    "teamA = Team(\"Alpha\")\n",
    "teamA.players.extend([leo, mike])\n",
    "\n",
    "# Find the best player\n",
    "star = best_player(teamA)\n",
    "print(f\"The best player in {teamA.team_name} is {star.name} with a score of {star.performance_score}.\")"
   ]
  },
  {
   "cell_type": "code",
   "execution_count": 39,
   "id": "e47acae1",
   "metadata": {},
   "outputs": [
    {
     "name": "stdout",
     "output_type": "stream",
     "text": [
      "The best player in Alpha is Leo with a score of 95.\n"
     ]
    }
   ],
   "source": [
    "# Create players and a team\n",
    "leo = Player(\"Leo\", \"Forward\", 95)\n",
    "mike = Player(\"Mike\", \"Defender\", 80)\n",
    "teamA = Team(\"Alpha\")\n",
    "teamA.players.extend([leo, mike])\n",
    "\n",
    "# Find the best player\n",
    "star = best_player(teamA)\n",
    "print(f\"The best player in {teamA.name} is {star.name} with a score of {star.performance_score}.\")"
   ]
  },
  {
   "attachments": {},
   "cell_type": "markdown",
   "id": "5c71e8fe",
   "metadata": {},
   "source": [
    "## School Management\n",
    "\n",
    "Design classes: `Student` and `Course`.\n",
    "- The `Student` class should have attributes like `student_id`, `name`, and `enrolled_courses` (a list of Course objects).\n",
    "- The `Course` class should represent subjects like Mathematics, Science, etc., with attributes `course_name` and `course_code`.\n",
    "\n",
    "**External Logic**: Create a function `is_enrolled(student, course_code)` that checks if a student is enrolled in a specific course using the course code."
   ]
  },
  {
   "cell_type": "code",
   "execution_count": 57,
   "id": "068ce91c",
   "metadata": {},
   "outputs": [],
   "source": [
    "class Student:\n",
    "    def __init__(self, student_id, name):\n",
    "        self.student_id = student_id\n",
    "        self.name = name\n",
    "        self.enrolled_courses = []\n",
    "\n",
    "class Course:\n",
    "    def __init__(self, course_name, course_code):\n",
    "        self.course_name = course_name\n",
    "        self.course_code = course_code\n",
    "\n",
    "def is_enrolled(student, course_code):\n",
    "    for cour in student.enrolled_courses:\n",
    "        if cour.course_code == course_code:\n",
    "            return True\n",
    "    return False    "
   ]
  },
  {
   "cell_type": "code",
   "execution_count": 30,
   "id": "cabcc68c",
   "metadata": {
    "scrolled": true
   },
   "outputs": [
    {
     "name": "stdout",
     "output_type": "stream",
     "text": [
      "Is Alice enrolled in MATH101? Yes\n",
      "Is Bob enrolled in ENG101? Yes\n",
      "Is Bob enrolled in ENG101? No\n"
     ]
    }
   ],
   "source": [
    "# Example usage\n",
    "\n",
    "# Enroll students to courses\n",
    "math = Course(\"Mathematics\", \"MATH_1\")\n",
    "english = Course(\"English\", \"ENG_1\")\n",
    "alice = Student(1, \"Alice\")\n",
    "bob = Student(2, \"Bob\")\n",
    "\n",
    "alice.enrolled_courses.append(math)\n",
    "bob.enrolled_courses.extend([math, english])\n",
    "\n",
    "# Check enrollment\n",
    "print(f\"Is Alice enrolled in MATH101? {'Yes' if is_enrolled(alice, 'MATH_1') else 'No'}\")\n",
    "print(f\"Is Bob enrolled in ENG101? {'Yes' if is_enrolled(bob, 'ENG_1') else 'No'}\")\n",
    "print(f\"Is Bob enrolled in ENG101? {'Yes' if is_enrolled(bob, 'ENG_3') else 'No'}\")"
   ]
  },
  {
   "cell_type": "code",
   "execution_count": 58,
   "id": "5603d2ce",
   "metadata": {},
   "outputs": [
    {
     "name": "stdout",
     "output_type": "stream",
     "text": [
      "Is Alice enrolled in MATH101? Yes\n",
      "Is Bob enrolled in ENG101? Yes\n",
      "Is Bob enrolled in ENG101? No\n"
     ]
    }
   ],
   "source": [
    "# Enroll students to courses\n",
    "math = Course(\"Mathematics\", \"MATH_1\")\n",
    "english = Course(\"English\", \"ENG_1\")\n",
    "alice = Student(1, \"Alice\")\n",
    "bob = Student(2, \"Bob\")\n",
    "\n",
    "alice.enrolled_courses.append(math)\n",
    "bob.enrolled_courses.extend([math, english])\n",
    "\n",
    "# Check enrollment\n",
    "print(f\"Is Alice enrolled in MATH101? {'Yes' if is_enrolled(alice, 'MATH_1') else 'No'}\")\n",
    "print(f\"Is Bob enrolled in ENG101? {'Yes' if is_enrolled(bob, 'ENG_1') else 'No'}\")\n",
    "print(f\"Is Bob enrolled in ENG101? {'Yes' if is_enrolled(bob, 'ENG_3') else 'No'}\")"
   ]
  },
  {
   "attachments": {},
   "cell_type": "markdown",
   "id": "4efc0ae2",
   "metadata": {},
   "source": [
    "## Robot Dance Party\n",
    "\n",
    "In a future where robots are as common as smartphones, you decide to host a robot dance party. You want a simple system to manage and control your robot dancers.\n",
    "\n",
    "**Robot Dancer:**\n",
    "\n",
    "Each robot has:\n",
    "- A Robot ID (unique identifier).\n",
    "- A name.\n",
    "- A dance_move (e.g., \"Moonwalk\", \"Robot Wave\", \"Circuit Salsa\").\n",
    "Robots can dance, which should print their dance move in a fun format.\n",
    "\n",
    "**Dance Floor:**\n",
    "\n",
    "The dance floor can:\n",
    "- Add robots.\n",
    "- Command all robots to start_dancing.\n",
    "- Display a list of all robots and their dance moves.\n",
    "\n",
    "**Your Task:**\n",
    "\n",
    "Design an Object-Oriented Program to simulate your robot dance party. The focus is on adding robot dancers and making them dance in unison."
   ]
  },
  {
   "cell_type": "code",
   "execution_count": 78,
   "id": "8d2f3bee",
   "metadata": {},
   "outputs": [],
   "source": [
    "import copy"
   ]
  },
  {
   "cell_type": "code",
   "execution_count": 111,
   "id": "e168cc78",
   "metadata": {},
   "outputs": [
    {
     "data": {
      "text/plain": [
       "1"
      ]
     },
     "execution_count": 111,
     "metadata": {},
     "output_type": "execute_result"
    }
   ],
   "source": [
    "a = [1, 2, 3]\n",
    "b = a[0]\n",
    "a[0] = 5\n",
    "b"
   ]
  },
  {
   "cell_type": "code",
   "execution_count": 107,
   "id": "dc17ab9a",
   "metadata": {},
   "outputs": [],
   "source": [
    "class RobotDancer:\n",
    "    robot_id = 0\n",
    "    \n",
    "    def __init__(self, id,name, dance_move):\n",
    "        RobotDancer.robot_id +=1\n",
    "        self.id = RobotDancer.robot_id\n",
    "        self.name = name\n",
    "        self.dance_move = dance_move\n",
    "\n",
    "class DanceFloor:\n",
    "    def __init__(self):\n",
    "        self.robots = []\n",
    "\n",
    "    def add_robot(self,rob):\n",
    "        self.robots.append(rob)\n",
    "    \n",
    "    def start_dancing(self):\n",
    "        for ro in self.robots:\n",
    "            print(f\"{ro.name} is doing the {ro.dance_move}!\")\n",
    "\n",
    "    def display_robots(self):\n",
    "        print(\"--- Robots on the Dance Floor ---\")\n",
    "        for ro in self.robots:\n",
    "            print(f\"{ro.name} - Dance Move: {ro.dance_move}\")"
   ]
  },
  {
   "cell_type": "code",
   "execution_count": 108,
   "id": "0835962c",
   "metadata": {},
   "outputs": [],
   "source": [
    "# Example usage\n",
    "\n",
    "# Robot Dancers\n",
    "r2d2 = RobotDancer(1, \"R2D2\", \"Moonwalk\")\n",
    "wall_e = RobotDancer(2, \"Wall-E\", \"Robot Wave\")\n",
    "bender = RobotDancer(3, \"Bender\", \"Circuit Salsa\")\n"
   ]
  },
  {
   "cell_type": "code",
   "execution_count": 110,
   "id": "67d13ef5",
   "metadata": {},
   "outputs": [
    {
     "data": {
      "text/plain": [
       "3"
      ]
     },
     "execution_count": 110,
     "metadata": {},
     "output_type": "execute_result"
    }
   ],
   "source": [
    "bender.id"
   ]
  },
  {
   "cell_type": "code",
   "execution_count": 61,
   "id": "75ffeb31",
   "metadata": {},
   "outputs": [],
   "source": [
    "class RobotDancer:\n",
    "    #robot_id = 0\n",
    "    def __init__(self, id,name, dance_move):\n",
    "        #RobotDancer.robot_id +=1    #para que sea unico\n",
    "        #self.id += RobotDancer.robot_id\n",
    "        self.id = id\n",
    "        self.name = name\n",
    "        self.dance_move = dance_move\n",
    "\n",
    "class DanceFloor:\n",
    "    def __init__(self):\n",
    "        self.robots = []\n",
    "\n",
    "    def add_robot(self,rob):\n",
    "        self.robots.append(rob)\n",
    "    \n",
    "    def start_dancing(self):\n",
    "        for ro in self.robots:\n",
    "            print(f\"{ro.name} is doing the {ro.dance_move}!\")\n",
    "\n",
    "    def display_robots(self):\n",
    "        print(\"--- Robots on the Dance Floor ---\")\n",
    "        for ro in self.robots:\n",
    "            print(f\"{ro.name} - Dance Move: {ro.dance_move}\")"
   ]
  },
  {
   "cell_type": "code",
   "execution_count": 56,
   "id": "3b5ed275",
   "metadata": {},
   "outputs": [
    {
     "name": "stdout",
     "output_type": "stream",
     "text": [
      "R2D2 is doing the Moonwalk!\n",
      "Wall-E is doing the Robot Wave!\n",
      "Bender is doing the Circuit Salsa!\n",
      "\n",
      "--- Robots on the Dance Floor ---\n",
      "R2D2 - Dance Move: Moonwalk\n",
      "Wall-E - Dance Move: Robot Wave\n",
      "Bender - Dance Move: Circuit Salsa\n"
     ]
    }
   ],
   "source": [
    "# Example usage\n",
    "\n",
    "# Robot Dancers\n",
    "r2d2 = RobotDancer(1, \"R2D2\", \"Moonwalk\")\n",
    "wall_e = RobotDancer(2, \"Wall-E\", \"Robot Wave\")\n",
    "bender = RobotDancer(3, \"Bender\", \"Circuit Salsa\")\n",
    "\n",
    "# Dance Floor Setup\n",
    "dance_floor = DanceFloor()\n",
    "dance_floor.add_robot(r2d2)\n",
    "dance_floor.add_robot(wall_e)\n",
    "dance_floor.add_robot(bender)\n",
    "\n",
    "# Party Time!\n",
    "dance_floor.start_dancing()\n",
    "dance_floor.display_robots()"
   ]
  },
  {
   "cell_type": "code",
   "execution_count": 62,
   "id": "64537c01",
   "metadata": {},
   "outputs": [
    {
     "name": "stdout",
     "output_type": "stream",
     "text": [
      "R2D2 is doing the Moonwalk!\n",
      "Wall-E is doing the Robot Wave!\n",
      "Bender is doing the Circuit Salsa!\n",
      "--- Robots on the Dance Floor ---\n",
      "R2D2 - Dance Move: Moonwalk\n",
      "Wall-E - Dance Move: Robot Wave\n",
      "Bender - Dance Move: Circuit Salsa\n"
     ]
    }
   ],
   "source": [
    "# Robot Dancers\n",
    "r2d2 = RobotDancer(1, \"R2D2\", \"Moonwalk\")\n",
    "wall_e = RobotDancer(2, \"Wall-E\", \"Robot Wave\")\n",
    "bender = RobotDancer(3, \"Bender\", \"Circuit Salsa\")\n",
    "\n",
    "# Dance Floor Setup\n",
    "dance_floor = DanceFloor()\n",
    "dance_floor.add_robot(r2d2)\n",
    "dance_floor.add_robot(wall_e)\n",
    "dance_floor.add_robot(bender)\n",
    "\n",
    "# Party Time!\n",
    "dance_floor.start_dancing()\n",
    "dance_floor.display_robots()"
   ]
  },
  {
   "attachments": {},
   "cell_type": "markdown",
   "id": "ce0bd52a",
   "metadata": {},
   "source": [
    "## Inventory Management System for a Retail Store\n",
    "\n",
    "You're working for a local store named \"MiniMart.\" The store needs a simple system to manage its inventory.\n",
    "\n",
    "**Products:**\n",
    "\n",
    "Each product has:\n",
    "- A Product ID (unique identifier).\n",
    "    - A name.\n",
    "    - A price.\n",
    "    - A quantity indicating the number of items in stock.\n",
    "- Products can be sold, reducing their quantity.\n",
    "- Products can be restocked, increasing their quantity.\n",
    "\n",
    "**Sales Reports:**\n",
    "\n",
    "The system should generate sales reports which show:\n",
    "- Total revenue for a given period.\n",
    "- Products that are low in stock and might need restocking soon.\n",
    "\n",
    "**Your Task:**\n",
    "\n",
    "Design an Object-Oriented Program that helps \"MiniMart\" track their products, manage sales, and generate reports based on stock levels."
   ]
  },
  {
   "cell_type": "code",
   "execution_count": 7,
   "id": "fbb344be",
   "metadata": {},
   "outputs": [],
   "source": [
    "class Product:\n",
    "    #product_id = 0\n",
    "    def __init__(self, id, name, price, quantity):\n",
    "        #Product.product_id +=1    #para que sea unico\n",
    "        #self.id += Product.product_id\n",
    "        self.id = id\n",
    "        self.name = name\n",
    "        self.price = price\n",
    "        self.quantity = quantity\n",
    "\n",
    "    def sold(self, quantity):\n",
    "            self.quantity -= quantity\n",
    "\n",
    "    def restocked(self, quantity):\n",
    "            self.quantity += quantity\n",
    "\n",
    "class MiniMart:\n",
    "    def __init__(self):\n",
    "        self.products = []\n",
    "        self.sell_products = []\n",
    "    \n",
    "    def add_product(self, prod):\n",
    "        are_in = False\n",
    "        for produ in self.products:\n",
    "            if prod.name == produ.name:\n",
    "                produ.name.restocked(prod.quantity)\n",
    "                are_in = True\n",
    "        if not are_in:   \n",
    "            self.products.append(prod)\n",
    "\n",
    "    def sell_product(self, position, quant_sell):\n",
    "        self.products[position - 1].sold(quant_sell)\n",
    "        self.sell_products.append([position, quant_sell])\n",
    "    \n",
    "    def generate_sales_report(self):\n",
    "        total = 0\n",
    "        l = []\n",
    "        for prod in self.products:\n",
    "            for pr in self.sell_products:\n",
    "                if pr[0] == prod.id:\n",
    "                    total += prod.price * pr[1]\n",
    "            if prod.quantity < 5:\n",
    "                l.append(prod)\n",
    "        print(f\"Total revenue: {total}€\\nProducts low in stock:\")\n",
    "        for prod in l:\n",
    "            print(f\"     - {prod.name}, Remaining Stock: {prod.quantity}\")\n",
    "\n",
    "\n",
    "        "
   ]
  },
  {
   "cell_type": "code",
   "execution_count": 8,
   "id": "329c2130",
   "metadata": {},
   "outputs": [
    {
     "name": "stdout",
     "output_type": "stream",
     "text": [
      "Total revenue: 14.5€\n",
      "Products low in stock:\n",
      "     - Orange, Remaining Stock: 3\n"
     ]
    }
   ],
   "source": [
    "# Products\n",
    "apple = Product(1, \"Apple\", 0.5, 100)\n",
    "banana = Product(2, \"Banana\", 0.3, 50)\n",
    "orange = Product(3, \"Orange\", 0.75, 5)\n",
    "\n",
    "# MiniMart System\n",
    "store = MiniMart()\n",
    "store.add_product(apple)\n",
    "store.add_product(banana)\n",
    "store.add_product(orange)\n",
    "\n",
    "store.sell_product(1, 20)\n",
    "store.sell_product(2, 10)\n",
    "store.sell_product(3, 2)\n",
    "\n",
    "store.generate_sales_report()"
   ]
  },
  {
   "cell_type": "code",
   "execution_count": 52,
   "id": "ce725464",
   "metadata": {},
   "outputs": [
    {
     "name": "stdout",
     "output_type": "stream",
     "text": [
      "Total revenue: 14.5€\n",
      "Products low in stock:\n",
      "\t- Orange, Remaining Stock: 3\n"
     ]
    }
   ],
   "source": [
    "# Example usage\n",
    "\n",
    "# Products\n",
    "apple = Product(1, \"Apple\", 0.5, 100)\n",
    "banana = Product(2, \"Banana\", 0.3, 50)\n",
    "orange = Product(3, \"Orange\", 0.75, 5)\n",
    "\n",
    "# MiniMart System\n",
    "store = MiniMart()\n",
    "store.add_product(apple)\n",
    "store.add_product(banana)\n",
    "store.add_product(orange)\n",
    "\n",
    "store.sell_product(1, 20)\n",
    "store.sell_product(2, 10)\n",
    "store.sell_product(3, 2)\n",
    "\n",
    "store.generate_sales_report()"
   ]
  },
  {
   "attachments": {},
   "cell_type": "markdown",
   "id": "ebc83e26",
   "metadata": {},
   "source": [
    "## Alien Zoo Management System\n",
    "\n",
    "You've been hired as the lead programmer for the first-ever intergalactic zoo! Your job is to create a system to manage the different alien species and their needs.\n",
    "\n",
    "**Alien Species:**\n",
    "\n",
    "- Each alien species has:\n",
    "    - A Species ID (unique identifier).\n",
    "    - A name.\n",
    "    - A diet (e.g., \"Cosmic Grass\", \"Pluto Pears\").\n",
    "    - A population indicating the number of individuals in the zoo.\n",
    "- Alien species can feed, which should print what they are eating.\n",
    "- Alien species can breed, increasing their population.\n",
    "\n",
    "**Zookeepers:**\n",
    "\n",
    "- Each zookeeper has:\n",
    "    - A Zookeeper ID (unique identifier).\n",
    "    - A name.\n",
    "    - A list of species they are responsible for.\n",
    "- Zookeepers can feed all their assigned alien species.\n",
    "- Zookeepers can encourage_breeding for all their assigned species, which increases the population of those species.\n",
    "\n",
    "**Zoo Management System:**\n",
    "\n",
    "- The system should keep track of all alien species and zookeepers.\n",
    "- The system should be able to generate a zoo report showing all species, their diets, and populations.\n",
    "\n",
    "**Your Task:**\n",
    "\n",
    "Design an Object-Oriented Program that manages the alien zoo. The system should be able to handle feeding, breeding, assigning zookeepers, and generating a zoo report."
   ]
  },
  {
   "cell_type": "code",
   "execution_count": 24,
   "id": "a50e6819",
   "metadata": {},
   "outputs": [],
   "source": [
    "class AlienSpecies:\n",
    "    def __init__(self, id, name, diet, population):\n",
    "        self.id = id\n",
    "        self.name = name\n",
    "        self.diet = diet\n",
    "        self.population = population\n",
    "\n",
    "    def feed(self):\n",
    "        print(f\"Feeding {self.name} with {self.diet}.\")\n",
    "\n",
    "    def breeding(self):\n",
    "        self.population += 1\n",
    "        print(f\"{self.name} are breeding!\")\n",
    "\n",
    "class Zookeeper:\n",
    "    def __init__(self, id, name):\n",
    "        self.id = id\n",
    "        self.name = name\n",
    "        self.species_responsable = []\n",
    "\n",
    "    def feed_all_species(self):\n",
    "        for ani in self.species_responsable:\n",
    "            ani.feed()\n",
    "\n",
    "    def encourage_breeding(self):\n",
    "        for ani in self.species_responsable:\n",
    "            ani.breeding()\n",
    "\n",
    "    def assign_species(self, ali):\n",
    "        self.species_responsable.append(ali)\n",
    "        \n",
    "\n",
    "class AlienZoo:\n",
    "    def __init__(self):\n",
    "        self.animals = []\n",
    "        self.zookeepers = []\n",
    "\n",
    "    def add_species(self, alien):\n",
    "        self.animals.append(alien)\n",
    "\n",
    "    def hire_zookeeper(self, person):\n",
    "        self.zookeepers.append(person)\n",
    "\n",
    "    def generate_zoo_report(self):\n",
    "        print(\"--- Alien Zoo Report ---\")\n",
    "        for ali in self.animals:\n",
    "            print(f\"Species: {ali.name}, Diet: {ali.diet}, Population: {ali.population}\")\n",
    "    "
   ]
  },
  {
   "cell_type": "code",
   "execution_count": 25,
   "id": "893d83ea",
   "metadata": {},
   "outputs": [
    {
     "name": "stdout",
     "output_type": "stream",
     "text": [
      "Feeding Zogglonian with Cosmic Grass.\n",
      "Feeding Fluffian with Pluto Pears.\n",
      "Zogglonian are breeding!\n",
      "Fluffian are breeding!\n",
      "--- Alien Zoo Report ---\n",
      "Species: Zogglonian, Diet: Cosmic Grass, Population: 6\n",
      "Species: Fluffian, Diet: Pluto Pears, Population: 4\n"
     ]
    }
   ],
   "source": [
    "# Alien Species\n",
    "zogglonian = AlienSpecies(1, \"Zogglonian\", \"Cosmic Grass\", 5)\n",
    "fluffian = AlienSpecies(2, \"Fluffian\", \"Pluto Pears\", 3)\n",
    "\n",
    "# Zookeepers\n",
    "jane = Zookeeper(1, \"Jane Doe\")\n",
    "john = Zookeeper(2, \"John Smith\")\n",
    "\n",
    "jane.assign_species(zogglonian)\n",
    "john.assign_species(fluffian)\n",
    "\n",
    "# Alien Zoo System\n",
    "zoo = AlienZoo()\n",
    "zoo.add_species(zogglonian)\n",
    "zoo.add_species(fluffian)\n",
    "zoo.hire_zookeeper(jane)\n",
    "zoo.hire_zookeeper(john)\n",
    "\n",
    "# Some actions\n",
    "jane.feed_all_species()\n",
    "john.feed_all_species()\n",
    "jane.encourage_breeding()\n",
    "john.encourage_breeding()\n",
    "\n",
    "zoo.generate_zoo_report()"
   ]
  },
  {
   "cell_type": "code",
   "execution_count": 54,
   "id": "7f7995db",
   "metadata": {},
   "outputs": [
    {
     "name": "stdout",
     "output_type": "stream",
     "text": [
      "Feeding Zogglonians with Cosmic Grass.\n",
      "Feeding Fluffians with Pluto Pears.\n",
      "Zogglonians are breeding!\n",
      "Fluffians are breeding!\n",
      "\n",
      "--- Alien Zoo Report ---\n",
      "Species: Zogglonian, Diet: Cosmic Grass, Population: 6\n",
      "Species: Fluffian, Diet: Pluto Pears, Population: 4\n"
     ]
    }
   ],
   "source": [
    "# Alien Species\n",
    "zogglonian = AlienSpecies(1, \"Zogglonian\", \"Cosmic Grass\", 5)\n",
    "fluffian = AlienSpecies(2, \"Fluffian\", \"Pluto Pears\", 3)\n",
    "\n",
    "# Zookeepers\n",
    "jane = Zookeeper(1, \"Jane Doe\")\n",
    "john = Zookeeper(2, \"John Smith\")\n",
    "\n",
    "jane.assign_species(zogglonian)\n",
    "john.assign_species(fluffian)\n",
    "\n",
    "# Alien Zoo System\n",
    "zoo = AlienZoo()\n",
    "zoo.add_species(zogglonian)\n",
    "zoo.add_species(fluffian)\n",
    "zoo.hire_zookeeper(jane)\n",
    "zoo.hire_zookeeper(john)\n",
    "\n",
    "# Some actions\n",
    "jane.feed_all_species()\n",
    "john.feed_all_species()\n",
    "jane.encourage_breeding()\n",
    "john.encourage_breeding()\n",
    "\n",
    "zoo.generate_zoo_report()"
   ]
  },
  {
   "attachments": {},
   "cell_type": "markdown",
   "id": "d68ba9a8",
   "metadata": {},
   "source": [
    "## Potion Brewing System\n",
    "\n",
    "In the mystical land of Altheria, wizards brew various magical potions. Your task is to create a system to manage the brewing and storage of these potions.\n",
    "\n",
    "**Potion Ingredients:**\n",
    "\n",
    "Each ingredient has:\n",
    "- A name.\n",
    "- A potency level (integer), indicating how strong it is.\n",
    "\n",
    "**Potions:**\n",
    "\n",
    "Each potion has:\n",
    "- A name.\n",
    "- A list of ingredients required to brew it.\n",
    "- A method to calculate its strength, which is the sum of the potency levels of its ingredients.\n",
    "\n",
    "**Wizards:**\n",
    "\n",
    "Every wizard has:\n",
    "- A name.\n",
    "- A potion cabinet where they store brewed potions.\n",
    "- The ability to brew a potion if they have all the required ingredients.\n",
    "- A method to drink a potion, which removes it from their cabinet.\n",
    "\n",
    "**Your Task:**\n",
    "\n",
    "Design an Object-Oriented Program that lets wizards brew, store, and drink potions. Ensure that a potion can only be brewed if the wizard has all the required ingredients, and a potion can only be drunk if it's in the wizard's cabinet."
   ]
  },
  {
   "cell_type": "code",
   "execution_count": null,
   "id": "ba0eac37",
   "metadata": {},
   "outputs": [],
   "source": [
    "class Ingredient:\n",
    "    def __init__(self, name, lvl):\n",
    "        self.name = name\n",
    "        self.lvl = lvl\n",
    "    \n",
    "class Potion:\n",
    "    def __init__(self, name, ingredients):\n",
    "        self.name = name\n",
    "        self.ingredients = ingredients\n",
    "        self.lvl = None\n",
    "\n",
    "    def strength(self):\n",
    "        sum = 0\n",
    "        for ing in self.ingredients:\n",
    "            sum += ing.lvl\n",
    "        self.lvl = sum\n",
    "\n",
    "class Wizard:\n",
    "    def __init__(self, name):\n",
    "        self.name = name\n",
    "        self.ingredients = []\n",
    "        self.potions = []\n",
    "\n",
    "    def add_ingredient(self, ingre):\n",
    "        self.ingredients.append(ingre)\n",
    "\n",
    "    def brew(self, potio):\n",
    "        for ing in self.ingredients:\n",
    "            if ing in potio.ingredients:\n",
    "                self.ingredients.remove(ing)\n",
    "\n",
    "    "
   ]
  },
  {
   "cell_type": "code",
   "execution_count": null,
   "id": "0680863a",
   "metadata": {},
   "outputs": [],
   "source": []
  },
  {
   "cell_type": "code",
   "execution_count": 37,
   "id": "a6cebc15",
   "metadata": {},
   "outputs": [
    {
     "name": "stdout",
     "output_type": "stream",
     "text": [
      "Merlin has brewed Elixir!\n",
      "Merlin drank Elixir!\n",
      "Ingredients left: [].\n"
     ]
    }
   ],
   "source": [
    "# Example usage\n",
    "\n",
    "herb = Ingredient(\"Herb\", 5)\n",
    "crystal = Ingredient(\"Crystal\", 10)\n",
    "\n",
    "elixir = Potion(\"Elixir\", [herb, crystal])\n",
    "\n",
    "merlin = Wizard(\"Merlin\")\n",
    "merlin.add_ingredient(herb)\n",
    "merlin.add_ingredient(crystal)\n",
    "\n",
    "merlin.brew(elixir)\n",
    "merlin.drink(elixir)\n",
    "\n",
    "print(f\"Ingredients left: {merlin.ingredients}.\")"
   ]
  },
  {
   "attachments": {},
   "cell_type": "markdown",
   "id": "606eb72b",
   "metadata": {},
   "source": [
    "## Galactic Trade System\n",
    "\n",
    "You're a software developer for the Galactic Council. The Council oversees trade among various planets and is in need of an automated system to handle this massive trade network.\n",
    "\n",
    "**Planets:**\n",
    "\n",
    "Every planet has:\n",
    "- A name.\n",
    "- Galactic coordinates (x, y, z) to locate its position in space.\n",
    "- A list of resources they sell, including the resource's name, its weight per unit, and its price per unit on that planet.\n",
    "\n",
    "**Spaceships:**\n",
    "\n",
    "Spaceships are used for trading and have:\n",
    "- A name.\n",
    "- A captain's name.\n",
    "- A storage capacity, which is a limit on the total weight they can carry.\n",
    "- An inventory where they store resources bought from planets.\n",
    "\n",
    "**Trading:**\n",
    "\n",
    "A spaceship travels to a planet using a `visit` method.\n",
    "Once on a planet, a spaceship can:\n",
    "- Buy a resource if:\n",
    "    - The resource is available in the planet's marketplace.\n",
    "    - The spaceship has enough free space in terms of weight capacity.\n",
    "- Sell a resource from its inventory.\n",
    "\n",
    "After any trading activity, the spaceship's inventory weight should be updated accordingly.\n",
    "The spaceship can check the total value of its inventory based on the current prices of the planet it's visiting.\n",
    "\n",
    "**Your Task:**\n",
    "\n",
    "Design an Object-Oriented Program to simulate this interstellar trade. Ensure that trading rules are enforced, such as checking a spaceship's capacity before a purchase, or ensuring a resource is in a spaceship's inventory before it can be sold."
   ]
  },
  {
   "cell_type": "code",
   "execution_count": null,
   "id": "2bd49838",
   "metadata": {},
   "outputs": [],
   "source": []
  },
  {
   "cell_type": "code",
   "execution_count": 32,
   "id": "bd228aa7",
   "metadata": {},
   "outputs": [
    {
     "name": "stdout",
     "output_type": "stream",
     "text": [
      "Value of Falcon's inventory on Alderaan: 3000\n",
      "Value of Falcon's inventory on Bespin: 2700\n"
     ]
    }
   ],
   "source": [
    "# Example usage\n",
    "\n",
    "planetA = Planet(\"Alderaan\", 100, 250, 75)\n",
    "planetB = Planet(\"Bespin\", 300, 500, 200)\n",
    "\n",
    "gold = Resource(\"Gold\", 10)\n",
    "silver = Resource(\"Silver\", 5)\n",
    "\n",
    "planetA.add_resource(gold, 1000)  # Price of gold on Alderaan is 1000\n",
    "planetA.add_resource(silver, 500) # Price of silver on Alderaan is 500\n",
    "planetB.add_resource(gold, 900)   # Price of gold on Bespin is 900\n",
    "\n",
    "falcon = Spaceship(\"Millennium Falcon\", \"Han Solo\", 5000)\n",
    "\n",
    "falcon.visit_planet(planetA)\n",
    "falcon.buy_resource(gold, 3) # Buys 3 units of gold\n",
    "print(f\"Value of Falcon's inventory on Alderaan: {falcon.inventory_value()}\")\n",
    "\n",
    "falcon.visit_planet(planetB)\n",
    "print(f\"Value of Falcon's inventory on Bespin: {falcon.inventory_value()}\")"
   ]
  },
  {
   "attachments": {},
   "cell_type": "markdown",
   "id": "642fa90a",
   "metadata": {},
   "source": [
    "## More...\n",
    "\n",
    "If someone arrives here, you can take the exercises from the functions lesson (Tic-Tac-Toe, Hangman, Blackjack) and develop them in an OOP fashion."
   ]
  }
 ],
 "metadata": {
  "kernelspec": {
   "display_name": "Python 3 (ipykernel)",
   "language": "python",
   "name": "python3"
  },
  "language_info": {
   "codemirror_mode": {
    "name": "ipython",
    "version": 3
   },
   "file_extension": ".py",
   "mimetype": "text/x-python",
   "name": "python",
   "nbconvert_exporter": "python",
   "pygments_lexer": "ipython3",
   "version": "3.11.4"
  },
  "toc": {
   "base_numbering": 1,
   "nav_menu": {},
   "number_sections": true,
   "sideBar": true,
   "skip_h1_title": false,
   "title_cell": "Table of Contents",
   "title_sidebar": "Contents",
   "toc_cell": false,
   "toc_position": {},
   "toc_section_display": true,
   "toc_window_display": true
  },
  "varInspector": {
   "cols": {
    "lenName": 16,
    "lenType": 16,
    "lenVar": 40
   },
   "kernels_config": {
    "python": {
     "delete_cmd_postfix": "",
     "delete_cmd_prefix": "del ",
     "library": "var_list.py",
     "varRefreshCmd": "print(var_dic_list())"
    },
    "r": {
     "delete_cmd_postfix": ") ",
     "delete_cmd_prefix": "rm(",
     "library": "var_list.r",
     "varRefreshCmd": "cat(var_dic_list()) "
    }
   },
   "types_to_exclude": [
    "module",
    "function",
    "builtin_function_or_method",
    "instance",
    "_Feature"
   ],
   "window_display": false
  }
 },
 "nbformat": 4,
 "nbformat_minor": 5
}
