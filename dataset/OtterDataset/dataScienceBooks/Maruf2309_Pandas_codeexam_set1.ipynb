{
 "cells": [
  {
   "cell_type": "markdown",
   "metadata": {},
   "source": [
    "# Coding Test : Set1"
   ]
  },
  {
   "cell_type": "markdown",
   "metadata": {},
   "source": [
    "Maruf Hossain"
   ]
  },
  {
   "cell_type": "markdown",
   "metadata": {},
   "source": [
    "##### Import Necssary Libraries"
   ]
  },
  {
   "cell_type": "code",
   "execution_count": 1,
   "metadata": {},
   "outputs": [],
   "source": [
    "import pandas as pd\n",
    "import numpy as np\n",
    "import warnings as wr\n",
    "wr.filterwarnings('ignore')\n",
    "import matplotlib.pyplot as plt\n",
    "import seaborn as sns"
   ]
  },
  {
   "cell_type": "markdown",
   "metadata": {},
   "source": [
    "## Question 1 :  Python Fundamentals and Control Structures "
   ]
  },
  {
   "cell_type": "markdown",
   "metadata": {},
   "source": [
    "**Question 1: Python Fundamentals and Control Structures (15 Marks)**\n",
    "- *(a) Conditional Statements and Loops (8 Marks)*\n",
    "- Write a Python script that prompts the user to enter a list of integers separated by spaces. The script should then:\n",
    "- Print all the even numbers in the list.\n",
    "- Calculate and print the sum of all odd numbers in the list."
   ]
  },
  {
   "cell_type": "code",
   "execution_count": 2,
   "metadata": {},
   "outputs": [
    {
     "name": "stdout",
     "output_type": "stream",
     "text": [
      "List of Integers : 10 15 20 25 30\n",
      "Even Numbers : 10 20 30\n",
      "Sum of Odd Numbers  40\n"
     ]
    }
   ],
   "source": [
    "# User input for taking list of integers\n",
    "input_number = input(\"Enter a list of Integers seperated by spaces:\")\n",
    "\n",
    "# convert input into  list & store in number variable\n",
    "numbers = list(map(int, input_number.split()))   # since space consided as str\n",
    "\n",
    "# Seperating odd & enven numbers\n",
    "even_numbers = [num for num in numbers if num % 2 == 0] \n",
    "odd_numbers = [num for num in numbers if num % 2!=0]\n",
    "\n",
    "# Calculate sum of odd numbers from odd variable\n",
    "sum_of_odd_numbers = sum(odd_numbers)\n",
    "\n",
    "# Print list of integer (user input)\n",
    "print(\"List of Integers :\", input_number)\n",
    "\n",
    "# Print All the even numbers\n",
    "print(\"Even Numbers :\", \" \".join(map(str, even_numbers)))\n",
    "\n",
    "# Print Sum of Odd Numbers\n",
    "print(\"Sum of Odd Numbers \", sum_of_odd_numbers)"
   ]
  },
  {
   "cell_type": "markdown",
   "metadata": {},
   "source": [
    "# Question 2: Data Structures in Python"
   ]
  },
  {
   "cell_type": "code",
   "execution_count": null,
   "metadata": {},
   "outputs": [],
   "source": []
  },
  {
   "cell_type": "markdown",
   "metadata": {},
   "source": [
    "# Question 3: NumPy Array Operations"
   ]
  },
  {
   "cell_type": "markdown",
   "metadata": {},
   "source": [
    "**Part (a) Array Creation and Manipulation**\n",
    "- Create a NumPy array A of shape (3, 5) containing random integers between 10 and 50:\n",
    "- Compute the mean, median, and standard deviation of the array:\n",
    "- Normalize the array so that all values are between 0 and 1:"
   ]
  },
  {
   "cell_type": "code",
   "execution_count": 3,
   "metadata": {},
   "outputs": [
    {
     "name": "stdout",
     "output_type": "stream",
     "text": [
      "Original Array:\n",
      " [[34 11 18 10 25]\n",
      " [30 42 20 30 18]\n",
      " [40 32 49 33 34]]\n",
      "Mean:\n",
      " 28.4\n",
      "Median:\n",
      " 30.0\n",
      "Standard Deviation :\n",
      " 10.910545357588685\n",
      "Normalized Value :\n",
      " [[0.61538462 0.02564103 0.20512821 0.         0.38461538]\n",
      " [0.51282051 0.82051282 0.25641026 0.51282051 0.20512821]\n",
      " [0.76923077 0.56410256 1.         0.58974359 0.61538462]]\n"
     ]
    }
   ],
   "source": [
    "# Create numby array\n",
    "x = np.random.randint(10, 50, size=(3,5))\n",
    "# Comupute mean, median & Standard Deviation\n",
    "mean_of_a = np.mean(x)\n",
    "median_of_a = np.median(x)\n",
    "std_of_a = np.std(x)\n",
    "\n",
    "# Normalization (need to cal min & max first)\n",
    "x_min = x.min()\n",
    "x_max = x.max()\n",
    "\n",
    "x_normalized = (x - x_min) / (x_max - x_min)  # var over range\n",
    "\n",
    "# Printing Results\n",
    "print(\"Original Array:\\n\", x)\n",
    "print(\"Mean:\\n\", mean_of_a)\n",
    "print(\"Median:\\n\", median_of_a)\n",
    "print(\"Standard Deviation :\\n\", std_of_a)\n",
    "print(\"Normalized Value :\\n\", x_normalized)\n"
   ]
  },
  {
   "cell_type": "markdown",
   "metadata": {},
   "source": [
    "**(b) Broadcasting and Mathematical Operations**"
   ]
  },
  {
   "cell_type": "code",
   "execution_count": 4,
   "metadata": {},
   "outputs": [],
   "source": [
    "X = np.array([1, 2, 3])\n",
    "Y = np.array([[10], [20], [30]])"
   ]
  },
  {
   "cell_type": "markdown",
   "metadata": {},
   "source": [
    "- Use broadcasting to perform element-wise multiplication to produce a (3, 3) array\n",
    "- Explain how broadcasting works in this context"
   ]
  },
  {
   "cell_type": "markdown",
   "metadata": {},
   "source": [
    "**Answer:**"
   ]
  },
  {
   "cell_type": "code",
   "execution_count": 5,
   "metadata": {},
   "outputs": [
    {
     "name": "stdout",
     "output_type": "stream",
     "text": [
      "1D array X:\n",
      " [1 2 3]\n",
      "2D array :\n",
      " [[10]\n",
      " [20]\n",
      " [30]]\n"
     ]
    }
   ],
   "source": [
    "# lets see the array first\n",
    "print(\"1D array X:\\n\",X )\n",
    "print(\"2D array :\\n\",Y)"
   ]
  },
  {
   "cell_type": "code",
   "execution_count": 6,
   "metadata": {},
   "outputs": [
    {
     "name": "stdout",
     "output_type": "stream",
     "text": [
      "Result Element wise Multiplication :\n",
      " [[10 20 30]\n",
      " [20 40 60]\n",
      " [30 60 90]]\n"
     ]
    }
   ],
   "source": [
    "# Element wise Multiplication\n",
    "result = X * Y \n",
    "print(\"Result Element wise Multiplication :\\n\", result)"
   ]
  },
  {
   "cell_type": "markdown",
   "metadata": {},
   "source": [
    "**Explation of how Broadcasting works here**"
   ]
  },
  {
   "cell_type": "markdown",
   "metadata": {},
   "source": [
    "Pandas Broadcasting allow to perform mathmatical operations over different shapes, here x is 1D (shape(3,1)) broadcast to shape (3,3) by repeating its elements accross columns, while Array y or 2D (shape(3,1)) broadcast to shape(3,3) by repeating rows. Its kind of both compatiablity regardless shapes"
   ]
  },
  {
   "cell_type": "markdown",
   "metadata": {},
   "source": [
    "# Question 4: Data Analysis with Pandas"
   ]
  },
  {
   "cell_type": "markdown",
   "metadata": {},
   "source": [
    "**(a) Data Loading and Basic Operations**\n",
    "- Load the dataset into a Pandas DataFrame. (2 Marks)\n",
    "- Display the first five rows and get basic statistics of numerical columns. (3 Marks)\n",
    "- Filter the DataFrame to show employees who joined after January 1, 2020, and belong to the\n",
    "'Data Science' department."
   ]
  },
  {
   "cell_type": "markdown",
   "metadata": {},
   "source": [
    "**Answer**"
   ]
  },
  {
   "cell_type": "code",
   "execution_count": 7,
   "metadata": {},
   "outputs": [
    {
     "data": {
      "text/html": [
       "<div>\n",
       "<style scoped>\n",
       "    .dataframe tbody tr th:only-of-type {\n",
       "        vertical-align: middle;\n",
       "    }\n",
       "\n",
       "    .dataframe tbody tr th {\n",
       "        vertical-align: top;\n",
       "    }\n",
       "\n",
       "    .dataframe thead th {\n",
       "        text-align: right;\n",
       "    }\n",
       "</style>\n",
       "<table border=\"1\" class=\"dataframe\">\n",
       "  <thead>\n",
       "    <tr style=\"text-align: right;\">\n",
       "      <th></th>\n",
       "      <th>EmployeeID</th>\n",
       "      <th>Name</th>\n",
       "      <th>Department</th>\n",
       "      <th>Salary</th>\n",
       "      <th>JoiningDate</th>\n",
       "    </tr>\n",
       "  </thead>\n",
       "  <tbody>\n",
       "    <tr>\n",
       "      <th>0</th>\n",
       "      <td>1</td>\n",
       "      <td>John Doe</td>\n",
       "      <td>Data Science</td>\n",
       "      <td>75000.0</td>\n",
       "      <td>2021-03-15</td>\n",
       "    </tr>\n",
       "    <tr>\n",
       "      <th>1</th>\n",
       "      <td>2</td>\n",
       "      <td>Jane Smith</td>\n",
       "      <td>Marketing</td>\n",
       "      <td>65000.0</td>\n",
       "      <td>2019-11-10</td>\n",
       "    </tr>\n",
       "    <tr>\n",
       "      <th>2</th>\n",
       "      <td>3</td>\n",
       "      <td>Bob Johnson</td>\n",
       "      <td>Data Science</td>\n",
       "      <td>80000.0</td>\n",
       "      <td>2022-06-01</td>\n",
       "    </tr>\n",
       "    <tr>\n",
       "      <th>3</th>\n",
       "      <td>4</td>\n",
       "      <td>Alice Williams</td>\n",
       "      <td>Human Resources</td>\n",
       "      <td>NaN</td>\n",
       "      <td>2020-01-20</td>\n",
       "    </tr>\n",
       "    <tr>\n",
       "      <th>4</th>\n",
       "      <td>5</td>\n",
       "      <td>Chris Brown</td>\n",
       "      <td>Engineering</td>\n",
       "      <td>90000.0</td>\n",
       "      <td>2018-05-30</td>\n",
       "    </tr>\n",
       "    <tr>\n",
       "      <th>5</th>\n",
       "      <td>6</td>\n",
       "      <td>Emily Davis</td>\n",
       "      <td>Data Science</td>\n",
       "      <td>70000.0</td>\n",
       "      <td>2023-02-15</td>\n",
       "    </tr>\n",
       "    <tr>\n",
       "      <th>6</th>\n",
       "      <td>7</td>\n",
       "      <td>Michael Wilson</td>\n",
       "      <td>Sales</td>\n",
       "      <td>50000.0</td>\n",
       "      <td>2017-07-01</td>\n",
       "    </tr>\n",
       "  </tbody>\n",
       "</table>\n",
       "</div>"
      ],
      "text/plain": [
       "   EmployeeID            Name       Department   Salary JoiningDate\n",
       "0           1        John Doe     Data Science  75000.0  2021-03-15\n",
       "1           2      Jane Smith        Marketing  65000.0  2019-11-10\n",
       "2           3     Bob Johnson     Data Science  80000.0  2022-06-01\n",
       "3           4  Alice Williams  Human Resources      NaN  2020-01-20\n",
       "4           5     Chris Brown      Engineering  90000.0  2018-05-30\n",
       "5           6     Emily Davis     Data Science  70000.0  2023-02-15\n",
       "6           7  Michael Wilson            Sales  50000.0  2017-07-01"
      ]
     },
     "execution_count": 7,
     "metadata": {},
     "output_type": "execute_result"
    }
   ],
   "source": [
    "# Load the dataset\n",
    "file_path = \"E:/M60/boi_dl/Exam/Exam 01/Set 01/employees.csv\"\n",
    "df = pd.read_csv(file_path)\n",
    "df"
   ]
  },
  {
   "cell_type": "code",
   "execution_count": 8,
   "metadata": {},
   "outputs": [
    {
     "name": "stdout",
     "output_type": "stream",
     "text": [
      "First Five Rows :\n",
      "    EmployeeID            Name       Department   Salary JoiningDate\n",
      "0           1        John Doe     Data Science  75000.0  2021-03-15\n",
      "1           2      Jane Smith        Marketing  65000.0  2019-11-10\n",
      "2           3     Bob Johnson     Data Science  80000.0  2022-06-01\n",
      "3           4  Alice Williams  Human Resources      NaN  2020-01-20\n",
      "4           5     Chris Brown      Engineering  90000.0  2018-05-30\n",
      "Basic Statistics of Numerial Columns :\n",
      "        EmployeeID        Salary\n",
      "count    7.000000      6.000000\n",
      "mean     4.000000  71666.666667\n",
      "std      2.160247  13662.601021\n",
      "min      1.000000  50000.000000\n",
      "25%      2.500000  66250.000000\n",
      "50%      4.000000  72500.000000\n",
      "75%      5.500000  78750.000000\n",
      "max      7.000000  90000.000000\n"
     ]
    }
   ],
   "source": [
    "# Display the first five rows and get basic statistics of numerical columns.\n",
    "print(\"First Five Rows :\\n\", df.head())\n",
    "print(\"Basic Statistics of Numerial Columns :\\n\", df.describe())"
   ]
  },
  {
   "cell_type": "code",
   "execution_count": 9,
   "metadata": {},
   "outputs": [
    {
     "name": "stdout",
     "output_type": "stream",
     "text": [
      "<class 'pandas.core.frame.DataFrame'>\n",
      "RangeIndex: 7 entries, 0 to 6\n",
      "Data columns (total 5 columns):\n",
      " #   Column       Non-Null Count  Dtype  \n",
      "---  ------       --------------  -----  \n",
      " 0   EmployeeID   7 non-null      int64  \n",
      " 1   Name         7 non-null      object \n",
      " 2   Department   7 non-null      object \n",
      " 3   Salary       6 non-null      float64\n",
      " 4   JoiningDate  7 non-null      object \n",
      "dtypes: float64(1), int64(1), object(3)\n",
      "memory usage: 408.0+ bytes\n"
     ]
    }
   ],
   "source": [
    "# Working\n",
    "df.info()\n",
    "\n",
    "# Joining Date is object, so before operation of this col need to convert into datatime first"
   ]
  },
  {
   "cell_type": "code",
   "execution_count": 10,
   "metadata": {},
   "outputs": [
    {
     "name": "stdout",
     "output_type": "stream",
     "text": [
      "<class 'pandas.core.frame.DataFrame'>\n",
      "RangeIndex: 7 entries, 0 to 6\n",
      "Data columns (total 5 columns):\n",
      " #   Column       Non-Null Count  Dtype         \n",
      "---  ------       --------------  -----         \n",
      " 0   EmployeeID   7 non-null      int64         \n",
      " 1   Name         7 non-null      object        \n",
      " 2   Department   7 non-null      object        \n",
      " 3   Salary       6 non-null      float64       \n",
      " 4   JoiningDate  7 non-null      datetime64[ns]\n",
      "dtypes: datetime64[ns](1), float64(1), int64(1), object(2)\n",
      "memory usage: 408.0+ bytes\n"
     ]
    }
   ],
   "source": [
    "# Working 1\n",
    "df['JoiningDate'] = pd.to_datetime(df['JoiningDate']) \n",
    "df.info()"
   ]
  },
  {
   "cell_type": "code",
   "execution_count": 11,
   "metadata": {},
   "outputs": [
    {
     "name": "stdout",
     "output_type": "stream",
     "text": [
      "Filter DataFrame-Result :\n",
      "    EmployeeID         Name    Department   Salary JoiningDate\n",
      "0           1     John Doe  Data Science  75000.0  2021-03-15\n",
      "2           3  Bob Johnson  Data Science  80000.0  2022-06-01\n",
      "5           6  Emily Davis  Data Science  70000.0  2023-02-15\n"
     ]
    }
   ],
   "source": [
    "# Filter employees who joined after January 1, 2020, and belong to the 'Data Science' dept.\n",
    "# 2 Filters\n",
    "filtered_df = df[(df['JoiningDate'] > '2020-01-01') & (df['Department']=='Data Science')]\n",
    "print(\"Filter DataFrame-Result :\\n\", filtered_df)\n"
   ]
  },
  {
   "cell_type": "markdown",
   "metadata": {},
   "source": [
    "**(b) Data Aggregation and Grouping**"
   ]
  },
  {
   "cell_type": "code",
   "execution_count": 12,
   "metadata": {},
   "outputs": [
    {
     "name": "stdout",
     "output_type": "stream",
     "text": [
      "Average Salary of Each Dept :\n",
      " Department\n",
      "Data Science       75000.0\n",
      "Engineering        90000.0\n",
      "Human Resources        NaN\n",
      "Marketing          65000.0\n",
      "Sales              50000.0\n",
      "Name: Salary, dtype: float64\n"
     ]
    }
   ],
   "source": [
    "# Calculate the average salary for each department\n",
    "average_salary = df.groupby(\"Department\")['Salary'].mean()\n",
    "print(\"Average Salary of Each Dept :\\n\", average_salary)"
   ]
  },
  {
   "cell_type": "code",
   "execution_count": 13,
   "metadata": {},
   "outputs": [
    {
     "name": "stdout",
     "output_type": "stream",
     "text": [
      "Dept with height Employee : Data Science\n",
      "Number of Employees with this Dept. : 3\n"
     ]
    }
   ],
   "source": [
    "# Identify the department with the highest number of employees\n",
    "dept_head_count = df['Department'].value_counts()\n",
    "max_department = dept_head_count.idxmax() \n",
    "\n",
    "print(\"Dept with height Employee :\", max_department)\n",
    "print(\"Number of Employees with this Dept. :\", dept_head_count[max_department])"
   ]
  },
  {
   "cell_type": "code",
   "execution_count": 14,
   "metadata": {},
   "outputs": [
    {
     "data": {
      "text/html": [
       "<div>\n",
       "<style scoped>\n",
       "    .dataframe tbody tr th:only-of-type {\n",
       "        vertical-align: middle;\n",
       "    }\n",
       "\n",
       "    .dataframe tbody tr th {\n",
       "        vertical-align: top;\n",
       "    }\n",
       "\n",
       "    .dataframe thead th {\n",
       "        text-align: right;\n",
       "    }\n",
       "</style>\n",
       "<table border=\"1\" class=\"dataframe\">\n",
       "  <thead>\n",
       "    <tr style=\"text-align: right;\">\n",
       "      <th></th>\n",
       "      <th>EmployeeID</th>\n",
       "      <th>Name</th>\n",
       "      <th>Department</th>\n",
       "      <th>Salary</th>\n",
       "      <th>JoiningDate</th>\n",
       "    </tr>\n",
       "  </thead>\n",
       "  <tbody>\n",
       "    <tr>\n",
       "      <th>0</th>\n",
       "      <td>1</td>\n",
       "      <td>John Doe</td>\n",
       "      <td>Data Science</td>\n",
       "      <td>75000.0</td>\n",
       "      <td>2021-03-15</td>\n",
       "    </tr>\n",
       "    <tr>\n",
       "      <th>1</th>\n",
       "      <td>2</td>\n",
       "      <td>Jane Smith</td>\n",
       "      <td>Marketing</td>\n",
       "      <td>65000.0</td>\n",
       "      <td>2019-11-10</td>\n",
       "    </tr>\n",
       "    <tr>\n",
       "      <th>2</th>\n",
       "      <td>3</td>\n",
       "      <td>Bob Johnson</td>\n",
       "      <td>Data Science</td>\n",
       "      <td>80000.0</td>\n",
       "      <td>2022-06-01</td>\n",
       "    </tr>\n",
       "    <tr>\n",
       "      <th>3</th>\n",
       "      <td>4</td>\n",
       "      <td>Alice Williams</td>\n",
       "      <td>Human Resources</td>\n",
       "      <td>NaN</td>\n",
       "      <td>2020-01-20</td>\n",
       "    </tr>\n",
       "    <tr>\n",
       "      <th>4</th>\n",
       "      <td>5</td>\n",
       "      <td>Chris Brown</td>\n",
       "      <td>Engineering</td>\n",
       "      <td>90000.0</td>\n",
       "      <td>2018-05-30</td>\n",
       "    </tr>\n",
       "    <tr>\n",
       "      <th>5</th>\n",
       "      <td>6</td>\n",
       "      <td>Emily Davis</td>\n",
       "      <td>Data Science</td>\n",
       "      <td>70000.0</td>\n",
       "      <td>2023-02-15</td>\n",
       "    </tr>\n",
       "    <tr>\n",
       "      <th>6</th>\n",
       "      <td>7</td>\n",
       "      <td>Michael Wilson</td>\n",
       "      <td>Sales</td>\n",
       "      <td>50000.0</td>\n",
       "      <td>2017-07-01</td>\n",
       "    </tr>\n",
       "  </tbody>\n",
       "</table>\n",
       "</div>"
      ],
      "text/plain": [
       "   EmployeeID            Name       Department   Salary JoiningDate\n",
       "0           1        John Doe     Data Science  75000.0  2021-03-15\n",
       "1           2      Jane Smith        Marketing  65000.0  2019-11-10\n",
       "2           3     Bob Johnson     Data Science  80000.0  2022-06-01\n",
       "3           4  Alice Williams  Human Resources      NaN  2020-01-20\n",
       "4           5     Chris Brown      Engineering  90000.0  2018-05-30\n",
       "5           6     Emily Davis     Data Science  70000.0  2023-02-15\n",
       "6           7  Michael Wilson            Sales  50000.0  2017-07-01"
      ]
     },
     "execution_count": 14,
     "metadata": {},
     "output_type": "execute_result"
    }
   ],
   "source": [
    "df"
   ]
  },
  {
   "cell_type": "markdown",
   "metadata": {},
   "source": [
    "**(c) Handling Missing Data**"
   ]
  },
  {
   "cell_type": "code",
   "execution_count": 15,
   "metadata": {},
   "outputs": [
    {
     "name": "stdout",
     "output_type": "stream",
     "text": [
      "Number of Missing Values : 1\n"
     ]
    }
   ],
   "source": [
    "# Find missing values in salary col\n",
    "missing_salaries_count = df['Salary'].isnull().sum()\n",
    "print(\"Number of Missing Values :\", missing_salaries_count)"
   ]
  },
  {
   "cell_type": "markdown",
   "metadata": {},
   "source": [
    "For missing imputation(medain) need to calculate for aggreation"
   ]
  },
  {
   "cell_type": "code",
   "execution_count": 16,
   "metadata": {},
   "outputs": [
    {
     "data": {
      "text/plain": [
       "72500.0"
      ]
     },
     "execution_count": 16,
     "metadata": {},
     "output_type": "execute_result"
    }
   ],
   "source": [
    "median_salary = df['Salary'].median()\n",
    "median_salary"
   ]
  },
  {
   "cell_type": "code",
   "execution_count": 17,
   "metadata": {},
   "outputs": [
    {
     "name": "stdout",
     "output_type": "stream",
     "text": [
      "Missing Impute by Median :\n",
      " 0    75000.0\n",
      "1    65000.0\n",
      "2    80000.0\n",
      "3    72500.0\n",
      "4    90000.0\n",
      "5    70000.0\n",
      "6    50000.0\n",
      "Name: Salary, dtype: float64\n"
     ]
    }
   ],
   "source": [
    "# Impute the missing salaries with the median salary of the respective department.\n",
    "df['Salary'] = df['Salary'].fillna(median_salary)\n",
    "print(\"Missing Impute by Median :\\n\", df['Salary'])"
   ]
  },
  {
   "cell_type": "markdown",
   "metadata": {},
   "source": [
    "# Question 5: Data Visualization with Matplotlib and Seaborn"
   ]
  },
  {
   "cell_type": "code",
   "execution_count": 18,
   "metadata": {},
   "outputs": [
    {
     "data": {
      "text/html": [
       "<div>\n",
       "<style scoped>\n",
       "    .dataframe tbody tr th:only-of-type {\n",
       "        vertical-align: middle;\n",
       "    }\n",
       "\n",
       "    .dataframe tbody tr th {\n",
       "        vertical-align: top;\n",
       "    }\n",
       "\n",
       "    .dataframe thead th {\n",
       "        text-align: right;\n",
       "    }\n",
       "</style>\n",
       "<table border=\"1\" class=\"dataframe\">\n",
       "  <thead>\n",
       "    <tr style=\"text-align: right;\">\n",
       "      <th></th>\n",
       "      <th>EmployeeID</th>\n",
       "      <th>Name</th>\n",
       "      <th>Department</th>\n",
       "      <th>Salary</th>\n",
       "      <th>JoiningDate</th>\n",
       "    </tr>\n",
       "  </thead>\n",
       "  <tbody>\n",
       "    <tr>\n",
       "      <th>0</th>\n",
       "      <td>1</td>\n",
       "      <td>John Doe</td>\n",
       "      <td>Data Science</td>\n",
       "      <td>75000.0</td>\n",
       "      <td>2021-03-15</td>\n",
       "    </tr>\n",
       "    <tr>\n",
       "      <th>1</th>\n",
       "      <td>2</td>\n",
       "      <td>Jane Smith</td>\n",
       "      <td>Marketing</td>\n",
       "      <td>65000.0</td>\n",
       "      <td>2019-11-10</td>\n",
       "    </tr>\n",
       "    <tr>\n",
       "      <th>2</th>\n",
       "      <td>3</td>\n",
       "      <td>Bob Johnson</td>\n",
       "      <td>Data Science</td>\n",
       "      <td>80000.0</td>\n",
       "      <td>2022-06-01</td>\n",
       "    </tr>\n",
       "    <tr>\n",
       "      <th>3</th>\n",
       "      <td>4</td>\n",
       "      <td>Alice Williams</td>\n",
       "      <td>Human Resources</td>\n",
       "      <td>72500.0</td>\n",
       "      <td>2020-01-20</td>\n",
       "    </tr>\n",
       "    <tr>\n",
       "      <th>4</th>\n",
       "      <td>5</td>\n",
       "      <td>Chris Brown</td>\n",
       "      <td>Engineering</td>\n",
       "      <td>90000.0</td>\n",
       "      <td>2018-05-30</td>\n",
       "    </tr>\n",
       "    <tr>\n",
       "      <th>5</th>\n",
       "      <td>6</td>\n",
       "      <td>Emily Davis</td>\n",
       "      <td>Data Science</td>\n",
       "      <td>70000.0</td>\n",
       "      <td>2023-02-15</td>\n",
       "    </tr>\n",
       "    <tr>\n",
       "      <th>6</th>\n",
       "      <td>7</td>\n",
       "      <td>Michael Wilson</td>\n",
       "      <td>Sales</td>\n",
       "      <td>50000.0</td>\n",
       "      <td>2017-07-01</td>\n",
       "    </tr>\n",
       "  </tbody>\n",
       "</table>\n",
       "</div>"
      ],
      "text/plain": [
       "   EmployeeID            Name       Department   Salary JoiningDate\n",
       "0           1        John Doe     Data Science  75000.0  2021-03-15\n",
       "1           2      Jane Smith        Marketing  65000.0  2019-11-10\n",
       "2           3     Bob Johnson     Data Science  80000.0  2022-06-01\n",
       "3           4  Alice Williams  Human Resources  72500.0  2020-01-20\n",
       "4           5     Chris Brown      Engineering  90000.0  2018-05-30\n",
       "5           6     Emily Davis     Data Science  70000.0  2023-02-15\n",
       "6           7  Michael Wilson            Sales  50000.0  2017-07-01"
      ]
     },
     "execution_count": 18,
     "metadata": {},
     "output_type": "execute_result"
    }
   ],
   "source": [
    "df"
   ]
  },
  {
   "cell_type": "markdown",
   "metadata": {},
   "source": [
    "**(a) Matplotlib Visualization**"
   ]
  },
  {
   "cell_type": "code",
   "execution_count": 19,
   "metadata": {},
   "outputs": [
    {
     "data": {
      "image/png": "[encoded data removed]",
      "text/plain": [
       "<Figure size 1000x600 with 1 Axes>"
      ]
     },
     "metadata": {},
     "output_type": "display_data"
    }
   ],
   "source": [
    "# Data\n",
    "departments = ['Data Science', 'Marketing', 'Human Resources', 'Engineering', 'Sales']\n",
    "num_employees = [3, 1, 1, 1, 1]\n",
    "\n",
    "# bar chart\n",
    "plt.figure(figsize=(10, 6))\n",
    "plt.bar(departments, num_employees, color=['blue', 'green', 'red', 'purple', 'orange'])\n",
    "\n",
    "# Printing\n",
    "plt.xlabel('Department')\n",
    "plt.ylabel('Number of Employees')\n",
    "plt.title('Number of Employees in Each Department')\n",
    "plt.show()\n"
   ]
  },
  {
   "cell_type": "markdown",
   "metadata": {},
   "source": [
    "# Question 6: Hands-On Project"
   ]
  },
  {
   "cell_type": "markdown",
   "metadata": {},
   "source": [
    "**Tasks:**\n",
    "- Load the dataset into a Pandas DataFrame. (2 Marks)\n",
    "- Convert the 'Date' column to datetime objects and set it as the index. (3 Marks)\n",
    "- Resample the data to get monthly total revenue and plot it using Matplotlib. (5 Marks)\n",
    "- Identify the top 3 products with the highest total sales revenue and visualize the results using a\n",
    "- Seaborn bar plot. (5 Marks)"
   ]
  },
  {
   "cell_type": "markdown",
   "metadata": {},
   "source": [
    "**Answer**"
   ]
  },
  {
   "cell_type": "code",
   "execution_count": 20,
   "metadata": {},
   "outputs": [
    {
     "data": {
      "text/html": [
       "<div>\n",
       "<style scoped>\n",
       "    .dataframe tbody tr th:only-of-type {\n",
       "        vertical-align: middle;\n",
       "    }\n",
       "\n",
       "    .dataframe tbody tr th {\n",
       "        vertical-align: top;\n",
       "    }\n",
       "\n",
       "    .dataframe thead th {\n",
       "        text-align: right;\n",
       "    }\n",
       "</style>\n",
       "<table border=\"1\" class=\"dataframe\">\n",
       "  <thead>\n",
       "    <tr style=\"text-align: right;\">\n",
       "      <th></th>\n",
       "      <th>Date</th>\n",
       "      <th>ProductID</th>\n",
       "      <th>QuantitySold</th>\n",
       "      <th>Revenue</th>\n",
       "    </tr>\n",
       "  </thead>\n",
       "  <tbody>\n",
       "    <tr>\n",
       "      <th>0</th>\n",
       "      <td>2024-01-01</td>\n",
       "      <td>101</td>\n",
       "      <td>20</td>\n",
       "      <td>2000</td>\n",
       "    </tr>\n",
       "    <tr>\n",
       "      <th>1</th>\n",
       "      <td>2024-01-01</td>\n",
       "      <td>102</td>\n",
       "      <td>15</td>\n",
       "      <td>1500</td>\n",
       "    </tr>\n",
       "    <tr>\n",
       "      <th>2</th>\n",
       "      <td>2024-01-02</td>\n",
       "      <td>103</td>\n",
       "      <td>10</td>\n",
       "      <td>1000</td>\n",
       "    </tr>\n",
       "    <tr>\n",
       "      <th>3</th>\n",
       "      <td>2024-01-02</td>\n",
       "      <td>101</td>\n",
       "      <td>25</td>\n",
       "      <td>2500</td>\n",
       "    </tr>\n",
       "    <tr>\n",
       "      <th>4</th>\n",
       "      <td>2024-01-03</td>\n",
       "      <td>104</td>\n",
       "      <td>30</td>\n",
       "      <td>3000</td>\n",
       "    </tr>\n",
       "    <tr>\n",
       "      <th>5</th>\n",
       "      <td>2024-01-03</td>\n",
       "      <td>102</td>\n",
       "      <td>5</td>\n",
       "      <td>500</td>\n",
       "    </tr>\n",
       "    <tr>\n",
       "      <th>6</th>\n",
       "      <td>2024-02-01</td>\n",
       "      <td>103</td>\n",
       "      <td>35</td>\n",
       "      <td>3500</td>\n",
       "    </tr>\n",
       "    <tr>\n",
       "      <th>7</th>\n",
       "      <td>2024-02-01</td>\n",
       "      <td>104</td>\n",
       "      <td>20</td>\n",
       "      <td>2000</td>\n",
       "    </tr>\n",
       "    <tr>\n",
       "      <th>8</th>\n",
       "      <td>2024-02-02</td>\n",
       "      <td>101</td>\n",
       "      <td>10</td>\n",
       "      <td>1000</td>\n",
       "    </tr>\n",
       "    <tr>\n",
       "      <th>9</th>\n",
       "      <td>2024-02-03</td>\n",
       "      <td>105</td>\n",
       "      <td>40</td>\n",
       "      <td>4000</td>\n",
       "    </tr>\n",
       "  </tbody>\n",
       "</table>\n",
       "</div>"
      ],
      "text/plain": [
       "         Date  ProductID  QuantitySold  Revenue\n",
       "0  2024-01-01        101            20     2000\n",
       "1  2024-01-01        102            15     1500\n",
       "2  2024-01-02        103            10     1000\n",
       "3  2024-01-02        101            25     2500\n",
       "4  2024-01-03        104            30     3000\n",
       "5  2024-01-03        102             5      500\n",
       "6  2024-02-01        103            35     3500\n",
       "7  2024-02-01        104            20     2000\n",
       "8  2024-02-02        101            10     1000\n",
       "9  2024-02-03        105            40     4000"
      ]
     },
     "execution_count": 20,
     "metadata": {},
     "output_type": "execute_result"
    }
   ],
   "source": [
    "# Load the dataset\n",
    "file_path = \"E:/M60/boi_dl/Exam/Exam 01/Set 01/sales_data.csv\"\n",
    "df1 = pd.read_csv(file_path)\n",
    "df1"
   ]
  },
  {
   "cell_type": "code",
   "execution_count": 21,
   "metadata": {},
   "outputs": [
    {
     "name": "stdout",
     "output_type": "stream",
     "text": [
      "<class 'pandas.core.frame.DataFrame'>\n",
      "RangeIndex: 10 entries, 0 to 9\n",
      "Data columns (total 4 columns):\n",
      " #   Column        Non-Null Count  Dtype \n",
      "---  ------        --------------  ----- \n",
      " 0   Date          10 non-null     object\n",
      " 1   ProductID     10 non-null     int64 \n",
      " 2   QuantitySold  10 non-null     int64 \n",
      " 3   Revenue       10 non-null     int64 \n",
      "dtypes: int64(3), object(1)\n",
      "memory usage: 448.0+ bytes\n"
     ]
    }
   ],
   "source": [
    "df1.info()"
   ]
  },
  {
   "cell_type": "code",
   "execution_count": 22,
   "metadata": {},
   "outputs": [],
   "source": [
    "# Convert Date\n",
    "df1['Date'] = pd.to_datetime(df1['Date'])\n",
    "# setting Date as index\n",
    "df1.set_index('Date', inplace=True)"
   ]
  },
  {
   "cell_type": "code",
   "execution_count": 23,
   "metadata": {},
   "outputs": [
    {
     "data": {
      "text/html": [
       "<div>\n",
       "<style scoped>\n",
       "    .dataframe tbody tr th:only-of-type {\n",
       "        vertical-align: middle;\n",
       "    }\n",
       "\n",
       "    .dataframe tbody tr th {\n",
       "        vertical-align: top;\n",
       "    }\n",
       "\n",
       "    .dataframe thead th {\n",
       "        text-align: right;\n",
       "    }\n",
       "</style>\n",
       "<table border=\"1\" class=\"dataframe\">\n",
       "  <thead>\n",
       "    <tr style=\"text-align: right;\">\n",
       "      <th></th>\n",
       "      <th>ProductID</th>\n",
       "      <th>QuantitySold</th>\n",
       "      <th>Revenue</th>\n",
       "    </tr>\n",
       "    <tr>\n",
       "      <th>Date</th>\n",
       "      <th></th>\n",
       "      <th></th>\n",
       "      <th></th>\n",
       "    </tr>\n",
       "  </thead>\n",
       "  <tbody>\n",
       "    <tr>\n",
       "      <th>2024-01-01</th>\n",
       "      <td>101</td>\n",
       "      <td>20</td>\n",
       "      <td>2000</td>\n",
       "    </tr>\n",
       "    <tr>\n",
       "      <th>2024-01-01</th>\n",
       "      <td>102</td>\n",
       "      <td>15</td>\n",
       "      <td>1500</td>\n",
       "    </tr>\n",
       "    <tr>\n",
       "      <th>2024-01-02</th>\n",
       "      <td>103</td>\n",
       "      <td>10</td>\n",
       "      <td>1000</td>\n",
       "    </tr>\n",
       "    <tr>\n",
       "      <th>2024-01-02</th>\n",
       "      <td>101</td>\n",
       "      <td>25</td>\n",
       "      <td>2500</td>\n",
       "    </tr>\n",
       "    <tr>\n",
       "      <th>2024-01-03</th>\n",
       "      <td>104</td>\n",
       "      <td>30</td>\n",
       "      <td>3000</td>\n",
       "    </tr>\n",
       "  </tbody>\n",
       "</table>\n",
       "</div>"
      ],
      "text/plain": [
       "            ProductID  QuantitySold  Revenue\n",
       "Date                                        \n",
       "2024-01-01        101            20     2000\n",
       "2024-01-01        102            15     1500\n",
       "2024-01-02        103            10     1000\n",
       "2024-01-02        101            25     2500\n",
       "2024-01-03        104            30     3000"
      ]
     },
     "execution_count": 23,
     "metadata": {},
     "output_type": "execute_result"
    }
   ],
   "source": [
    "df1.head()"
   ]
  },
  {
   "cell_type": "code",
   "execution_count": 24,
   "metadata": {},
   "outputs": [
    {
     "data": {
      "image/png": "[encoded data removed]",
      "text/plain": [
       "<Figure size 800x600 with 1 Axes>"
      ]
     },
     "metadata": {},
     "output_type": "display_data"
    }
   ],
   "source": [
    "# Remame month, montly freq as M\n",
    "monthly_revenue = df1['Revenue'].resample('M').sum()  \n",
    "\n",
    "# Bar char - Sales data\n",
    "plt.figure(figsize=(8,6))\n",
    "monthly_revenue.plot(kind='bar') \n",
    "plt.title(\"Monthly Sales Revenue\")\n",
    "plt.xlabel('Month')\n",
    "plt.ylabel(\"Revenue\")\n",
    "plt.show()"
   ]
  },
  {
   "cell_type": "markdown",
   "metadata": {},
   "source": [
    "**Identify the top 3 products with the highest total sales revenue and visualize the results using a\n",
    "Seaborn bar plot.**"
   ]
  },
  {
   "cell_type": "code",
   "execution_count": 25,
   "metadata": {},
   "outputs": [
    {
     "data": {
      "text/html": [
       "<div>\n",
       "<style scoped>\n",
       "    .dataframe tbody tr th:only-of-type {\n",
       "        vertical-align: middle;\n",
       "    }\n",
       "\n",
       "    .dataframe tbody tr th {\n",
       "        vertical-align: top;\n",
       "    }\n",
       "\n",
       "    .dataframe thead th {\n",
       "        text-align: right;\n",
       "    }\n",
       "</style>\n",
       "<table border=\"1\" class=\"dataframe\">\n",
       "  <thead>\n",
       "    <tr style=\"text-align: right;\">\n",
       "      <th></th>\n",
       "      <th>ProductID</th>\n",
       "      <th>QuantitySold</th>\n",
       "      <th>Revenue</th>\n",
       "    </tr>\n",
       "    <tr>\n",
       "      <th>Date</th>\n",
       "      <th></th>\n",
       "      <th></th>\n",
       "      <th></th>\n",
       "    </tr>\n",
       "  </thead>\n",
       "  <tbody>\n",
       "    <tr>\n",
       "      <th>2024-01-01</th>\n",
       "      <td>101</td>\n",
       "      <td>20</td>\n",
       "      <td>2000</td>\n",
       "    </tr>\n",
       "    <tr>\n",
       "      <th>2024-01-01</th>\n",
       "      <td>102</td>\n",
       "      <td>15</td>\n",
       "      <td>1500</td>\n",
       "    </tr>\n",
       "  </tbody>\n",
       "</table>\n",
       "</div>"
      ],
      "text/plain": [
       "            ProductID  QuantitySold  Revenue\n",
       "Date                                        \n",
       "2024-01-01        101            20     2000\n",
       "2024-01-01        102            15     1500"
      ]
     },
     "execution_count": 25,
     "metadata": {},
     "output_type": "execute_result"
    }
   ],
   "source": [
    "df1.head(2)"
   ]
  },
  {
   "cell_type": "code",
   "execution_count": 26,
   "metadata": {},
   "outputs": [
    {
     "data": {
      "image/png": "[encoded data removed]",
      "text/plain": [
       "<Figure size 800x600 with 1 Axes>"
      ]
     },
     "metadata": {},
     "output_type": "display_data"
    }
   ],
   "source": [
    "product_revenue = df1.groupby('ProductID')['Revenue'].sum() # taking revenue from product id\n",
    "top_three_product = product_revenue.nlargest(3)\n",
    "\n",
    "# Plotting\n",
    "plt.figure(figsize=(8,6))\n",
    "sns.barplot(x=top_three_product.index, y=top_three_product.values)\n",
    "plt.title(\"Top Three Product Sales Revenue\")\n",
    "plt.xlabel('Product ID')\n",
    "plt.ylabel(\"Revenue\")\n",
    "plt.show()"
   ]
  },
  {
   "cell_type": "markdown",
   "metadata": {},
   "source": [
    "# Question 7: Capstone Coding Challenge (Bonus Question - Optional)"
   ]
  },
  {
   "cell_type": "markdown",
   "metadata": {},
   "source": [
    "**Data Analysis and Visualization**"
   ]
  },
  {
   "cell_type": "code",
   "execution_count": 27,
   "metadata": {},
   "outputs": [
    {
     "data": {
      "text/html": [
       "<div>\n",
       "<style scoped>\n",
       "    .dataframe tbody tr th:only-of-type {\n",
       "        vertical-align: middle;\n",
       "    }\n",
       "\n",
       "    .dataframe tbody tr th {\n",
       "        vertical-align: top;\n",
       "    }\n",
       "\n",
       "    .dataframe thead th {\n",
       "        text-align: right;\n",
       "    }\n",
       "</style>\n",
       "<table border=\"1\" class=\"dataframe\">\n",
       "  <thead>\n",
       "    <tr style=\"text-align: right;\">\n",
       "      <th></th>\n",
       "      <th>Date</th>\n",
       "      <th>Temperature</th>\n",
       "      <th>Humidity</th>\n",
       "      <th>WindSpeed</th>\n",
       "    </tr>\n",
       "  </thead>\n",
       "  <tbody>\n",
       "    <tr>\n",
       "      <th>0</th>\n",
       "      <td>2024-01-01</td>\n",
       "      <td>25</td>\n",
       "      <td>60</td>\n",
       "      <td>10</td>\n",
       "    </tr>\n",
       "    <tr>\n",
       "      <th>1</th>\n",
       "      <td>2024-01-02</td>\n",
       "      <td>24</td>\n",
       "      <td>62</td>\n",
       "      <td>12</td>\n",
       "    </tr>\n",
       "    <tr>\n",
       "      <th>2</th>\n",
       "      <td>2024-01-03</td>\n",
       "      <td>23</td>\n",
       "      <td>65</td>\n",
       "      <td>11</td>\n",
       "    </tr>\n",
       "    <tr>\n",
       "      <th>3</th>\n",
       "      <td>2024-01-04</td>\n",
       "      <td>22</td>\n",
       "      <td>63</td>\n",
       "      <td>14</td>\n",
       "    </tr>\n",
       "    <tr>\n",
       "      <th>4</th>\n",
       "      <td>2024-01-05</td>\n",
       "      <td>21</td>\n",
       "      <td>61</td>\n",
       "      <td>13</td>\n",
       "    </tr>\n",
       "    <tr>\n",
       "      <th>5</th>\n",
       "      <td>2024-01-06</td>\n",
       "      <td>20</td>\n",
       "      <td>60</td>\n",
       "      <td>12</td>\n",
       "    </tr>\n",
       "    <tr>\n",
       "      <th>6</th>\n",
       "      <td>2024-01-07</td>\n",
       "      <td>19</td>\n",
       "      <td>58</td>\n",
       "      <td>15</td>\n",
       "    </tr>\n",
       "    <tr>\n",
       "      <th>7</th>\n",
       "      <td>2024-01-08</td>\n",
       "      <td>20</td>\n",
       "      <td>59</td>\n",
       "      <td>14</td>\n",
       "    </tr>\n",
       "    <tr>\n",
       "      <th>8</th>\n",
       "      <td>2024-01-09</td>\n",
       "      <td>21</td>\n",
       "      <td>60</td>\n",
       "      <td>13</td>\n",
       "    </tr>\n",
       "    <tr>\n",
       "      <th>9</th>\n",
       "      <td>2024-01-10</td>\n",
       "      <td>22</td>\n",
       "      <td>62</td>\n",
       "      <td>12</td>\n",
       "    </tr>\n",
       "  </tbody>\n",
       "</table>\n",
       "</div>"
      ],
      "text/plain": [
       "         Date  Temperature  Humidity  WindSpeed\n",
       "0  2024-01-01           25        60         10\n",
       "1  2024-01-02           24        62         12\n",
       "2  2024-01-03           23        65         11\n",
       "3  2024-01-04           22        63         14\n",
       "4  2024-01-05           21        61         13\n",
       "5  2024-01-06           20        60         12\n",
       "6  2024-01-07           19        58         15\n",
       "7  2024-01-08           20        59         14\n",
       "8  2024-01-09           21        60         13\n",
       "9  2024-01-10           22        62         12"
      ]
     },
     "execution_count": 27,
     "metadata": {},
     "output_type": "execute_result"
    }
   ],
   "source": [
    "# Load the dataset\n",
    "file_path = \"E:/M60/boi_dl/Exam/Exam 01/Set 01/weather_data.csv\"\n",
    "df2 = pd.read_csv(file_path)\n",
    "df2"
   ]
  },
  {
   "cell_type": "code",
   "execution_count": 28,
   "metadata": {},
   "outputs": [
    {
     "data": {
      "text/html": [
       "<div>\n",
       "<style scoped>\n",
       "    .dataframe tbody tr th:only-of-type {\n",
       "        vertical-align: middle;\n",
       "    }\n",
       "\n",
       "    .dataframe tbody tr th {\n",
       "        vertical-align: top;\n",
       "    }\n",
       "\n",
       "    .dataframe thead th {\n",
       "        text-align: right;\n",
       "    }\n",
       "</style>\n",
       "<table border=\"1\" class=\"dataframe\">\n",
       "  <thead>\n",
       "    <tr style=\"text-align: right;\">\n",
       "      <th></th>\n",
       "      <th>Date</th>\n",
       "      <th>Temperature</th>\n",
       "      <th>Humidity</th>\n",
       "      <th>WindSpeed</th>\n",
       "      <th>7_day_moving_avg</th>\n",
       "    </tr>\n",
       "  </thead>\n",
       "  <tbody>\n",
       "    <tr>\n",
       "      <th>0</th>\n",
       "      <td>2024-01-01</td>\n",
       "      <td>25</td>\n",
       "      <td>60</td>\n",
       "      <td>10</td>\n",
       "      <td>NaN</td>\n",
       "    </tr>\n",
       "    <tr>\n",
       "      <th>1</th>\n",
       "      <td>2024-01-02</td>\n",
       "      <td>24</td>\n",
       "      <td>62</td>\n",
       "      <td>12</td>\n",
       "      <td>NaN</td>\n",
       "    </tr>\n",
       "    <tr>\n",
       "      <th>2</th>\n",
       "      <td>2024-01-03</td>\n",
       "      <td>23</td>\n",
       "      <td>65</td>\n",
       "      <td>11</td>\n",
       "      <td>NaN</td>\n",
       "    </tr>\n",
       "    <tr>\n",
       "      <th>3</th>\n",
       "      <td>2024-01-04</td>\n",
       "      <td>22</td>\n",
       "      <td>63</td>\n",
       "      <td>14</td>\n",
       "      <td>NaN</td>\n",
       "    </tr>\n",
       "    <tr>\n",
       "      <th>4</th>\n",
       "      <td>2024-01-05</td>\n",
       "      <td>21</td>\n",
       "      <td>61</td>\n",
       "      <td>13</td>\n",
       "      <td>NaN</td>\n",
       "    </tr>\n",
       "    <tr>\n",
       "      <th>5</th>\n",
       "      <td>2024-01-06</td>\n",
       "      <td>20</td>\n",
       "      <td>60</td>\n",
       "      <td>12</td>\n",
       "      <td>NaN</td>\n",
       "    </tr>\n",
       "    <tr>\n",
       "      <th>6</th>\n",
       "      <td>2024-01-07</td>\n",
       "      <td>19</td>\n",
       "      <td>58</td>\n",
       "      <td>15</td>\n",
       "      <td>22.000000</td>\n",
       "    </tr>\n",
       "    <tr>\n",
       "      <th>7</th>\n",
       "      <td>2024-01-08</td>\n",
       "      <td>20</td>\n",
       "      <td>59</td>\n",
       "      <td>14</td>\n",
       "      <td>21.285714</td>\n",
       "    </tr>\n",
       "    <tr>\n",
       "      <th>8</th>\n",
       "      <td>2024-01-09</td>\n",
       "      <td>21</td>\n",
       "      <td>60</td>\n",
       "      <td>13</td>\n",
       "      <td>20.857143</td>\n",
       "    </tr>\n",
       "    <tr>\n",
       "      <th>9</th>\n",
       "      <td>2024-01-10</td>\n",
       "      <td>22</td>\n",
       "      <td>62</td>\n",
       "      <td>12</td>\n",
       "      <td>20.714286</td>\n",
       "    </tr>\n",
       "  </tbody>\n",
       "</table>\n",
       "</div>"
      ],
      "text/plain": [
       "         Date  Temperature  Humidity  WindSpeed  7_day_moving_avg\n",
       "0  2024-01-01           25        60         10               NaN\n",
       "1  2024-01-02           24        62         12               NaN\n",
       "2  2024-01-03           23        65         11               NaN\n",
       "3  2024-01-04           22        63         14               NaN\n",
       "4  2024-01-05           21        61         13               NaN\n",
       "5  2024-01-06           20        60         12               NaN\n",
       "6  2024-01-07           19        58         15         22.000000\n",
       "7  2024-01-08           20        59         14         21.285714\n",
       "8  2024-01-09           21        60         13         20.857143\n",
       "9  2024-01-10           22        62         12         20.714286"
      ]
     },
     "execution_count": 28,
     "metadata": {},
     "output_type": "execute_result"
    }
   ],
   "source": [
    "# Calculating the 7-day moving average\n",
    "df2['7_day_moving_avg'] = df2['Temperature'].rolling(window=7).mean()\n",
    "df2"
   ]
  },
  {
   "cell_type": "code",
   "execution_count": 29,
   "metadata": {},
   "outputs": [
    {
     "data": {
      "image/png": "[encoded data removed]",
      "text/plain": [
       "<Figure size 800x600 with 1 Axes>"
      ]
     },
     "metadata": {},
     "output_type": "display_data"
    }
   ],
   "source": [
    "# Plotting 'Temperature' and '7_day_moving_avg' columns\n",
    "plt.figure(figsize=(8, 6))\n",
    "plt.plot(df2.index, df2['Temperature'], label='Original Temperature')\n",
    "plt.plot(df2.index, df2['7_day_moving_avg'], label='7-Day Moving Average', linewidth=2)\n",
    "plt.title('Temperature and 7-Day Moving Average')\n",
    "plt.xlabel('Date')\n",
    "plt.ylabel('Temperature')\n",
    "plt.legend()\n",
    "plt.show()\n"
   ]
  }
 ],
 "metadata": {
  "kernelspec": {
   "display_name": "Python 3",
   "language": "python",
   "name": "python3"
  },
  "language_info": {
   "codemirror_mode": {
    "name": "ipython",
    "version": 3
   },
   "file_extension": ".py",
   "mimetype": "text/x-python",
   "name": "python",
   "nbconvert_exporter": "python",
   "pygments_lexer": "ipython3",
   "version": "3.10.6"
  },
  "orig_nbformat": 4
 },
 "nbformat": 4,
 "nbformat_minor": 2
}
