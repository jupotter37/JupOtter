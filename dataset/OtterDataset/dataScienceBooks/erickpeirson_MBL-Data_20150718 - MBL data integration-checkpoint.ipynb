{
 "metadata": {
  "name": "",
  "signature": "sha256:685bf21cf2beff2dc85449d5a74b774a574e5d7f57c1618a333d76c68ddf132b"
 },
 "nbformat": 3,
 "nbformat_minor": 0,
 "worksheets": [
  {
   "cells": [
    {
     "cell_type": "code",
     "collapsed": false,
     "input": [
      "import pandas as pd\n",
      "import os\n",
      "from unidecode import unidecode\n",
      "from uuid import uuid4\n",
      "from collections import Counter\n",
      "import string\n",
      "import re\n",
      "import numpy as np\n",
      "import Levenshtein"
     ],
     "language": "python",
     "metadata": {},
     "outputs": [],
     "prompt_number": 136
    },
    {
     "cell_type": "code",
     "collapsed": false,
     "input": [
      "def strip_punctuation(s):\n",
      "    exclude = set(string.punctuation)\n",
      "    s = ''.join(ch for ch in s if ch not in exclude)\n",
      "    return s"
     ],
     "language": "python",
     "metadata": {},
     "outputs": [],
     "prompt_number": 2
    },
    {
     "cell_type": "code",
     "collapsed": false,
     "input": [
      "def strip_clean(obj):\n",
      "    try:\n",
      "        return obj.strip().lower().replace('.', '')\n",
      "    except AttributeError:\n",
      "        return ''"
     ],
     "language": "python",
     "metadata": {},
     "outputs": [],
     "prompt_number": 3
    },
    {
     "cell_type": "code",
     "collapsed": false,
     "input": [
      "def strip_nopunc(obj):\n",
      "    try:\n",
      "        return obj.lower().strip()\n",
      "    except AttributeError:\n",
      "        return ''"
     ],
     "language": "python",
     "metadata": {},
     "outputs": [],
     "prompt_number": 4
    },
    {
     "cell_type": "markdown",
     "metadata": {},
     "source": [
      "# Cleaning logic"
     ]
    },
    {
     "cell_type": "code",
     "collapsed": false,
     "input": [
      "institutions_lookup = {}\n",
      "institution_ids = {}"
     ],
     "language": "python",
     "metadata": {},
     "outputs": [],
     "prompt_number": 5
    },
    {
     "cell_type": "code",
     "collapsed": false,
     "input": [
      "def cleaned_institutions(inames):\n",
      "    return unidecode(unicode(inames)            # The value of the 'Affiliation' field is\n",
      "                         .strip()               #  stripped padding whitespace (e.g. spaces),\n",
      "                         .lower()               #  and converted to lowercase.\n",
      "                         .replace('&', 'and')   # Ampersands are converted to 'and', and\n",
      "                         .replace('-', ' '))    #  hyphens are interpreted as spaces."
     ],
     "language": "python",
     "metadata": {},
     "outputs": [],
     "prompt_number": 6
    },
    {
     "cell_type": "code",
     "collapsed": false,
     "input": [
      "def cleaned_person(last, first):\n",
      "    lastname = unidecode(strip_clean(unicode(last)))\n",
      "    firstname = strip_clean(' '.join([ n.strip(' ') for n \n",
      "                                      in re.split('\\.|\\W+', unidecode(strip_clean(unicode(first)))) \n",
      "                                      if n != '' ]).strip().replace('.',''))\n",
      "    return lastname, firstname"
     ],
     "language": "python",
     "metadata": {},
     "outputs": [],
     "prompt_number": 7
    },
    {
     "cell_type": "code",
     "collapsed": false,
     "input": [
      "def normalized_person(last, first):\n",
      "    \"\"\"\n",
      "    Generates a normalized representation of a personal name.\n",
      "    \"\"\"\n",
      "            \n",
      "    name = cleaned_person(last, first)\n",
      "    if name in person_map:\n",
      "        normed_name = person_map[name]\n",
      "    else:\n",
      "        normed_name = name\n",
      "    if normed_name not in person_ids:\n",
      "        uri = 'http://history.archives.mbl.edu/concepts/person/{0}'.format(uuid4())\n",
      "        person_ids[normed_name] = uri\n",
      "    else:\n",
      "        uri = person_ids[normed_name]\n",
      "    return normed_name, uri"
     ],
     "language": "python",
     "metadata": {},
     "outputs": [],
     "prompt_number": 8
    },
    {
     "cell_type": "code",
     "collapsed": false,
     "input": [
      "def normalized_institutions(inames):\n",
      "    \"\"\"\n",
      "    Generates a normalized representation of an institutional name.\n",
      "    \"\"\"\n",
      "    anames = []\n",
      "    affs = cleaned_institutions(inames)\n",
      "\n",
      "    # The 'Affiliation' field can contain multiple institutions, separated by a slash ('/').\n",
      "    for aff in affs.split('/'):\n",
      "        # All punctuation is removed, and double-spaces are converted to single.     \n",
      "        aff = strip_punctuation(aff.strip()).replace('  ',' ')  \n",
      "        aff = ' '.join([ word for word          # One source of variation in names it the\n",
      "                        in aff.split(' ')       #  inclusion of 'the'. We simply remove\n",
      "                        if word != 'the'] )     #  'the' from all names.\n",
      "        \n",
      "        if aff in institutions_lookup:          # In a previous step, we generated aggregation\n",
      "            aff = institutions_lookup[aff]      #  rules for some names. If there were multiple\n",
      "                                                #  similar names, this retrieves the most likely.\n",
      "        anames.append(aff)\n",
      "        \n",
      "        if aff not in institution_ids:\n",
      "            uri = 'http://history.archives.mbl.edu/concepts/institution/{0}'.format(uuid4())\n",
      "            institution_ids[aff] = uri            \n",
      "    return anames "
     ],
     "language": "python",
     "metadata": {},
     "outputs": [],
     "prompt_number": 9
    },
    {
     "cell_type": "code",
     "collapsed": false,
     "input": [
      "def get_location_uri(location):\n",
      "    if location == '' or pd.isnull(location):\n",
      "        return\n",
      "    if location not in location_ids:\n",
      "        uri = 'http://history.archives.mbl.edu/concepts/location/{0}'.format(uuid4())  \n",
      "        location_ids[location] = uri\n",
      "    else:\n",
      "        uri = location_ids[location]\n",
      "    return uri"
     ],
     "language": "python",
     "metadata": {},
     "outputs": [],
     "prompt_number": 10
    },
    {
     "cell_type": "code",
     "collapsed": false,
     "input": [
      "def get_coursegroup_uri(coursegroup):\n",
      "    if coursegroup not in coursegroup_ids:\n",
      "        uri = 'http://history.archives.mbl.edu/concepts/coursegroup/{0}'.format(uuid4())  \n",
      "        coursegroup_ids[coursegroup] = uri\n",
      "    else:\n",
      "        uri = coursegroup_ids[coursegroup]\n",
      "    return uri"
     ],
     "language": "python",
     "metadata": {},
     "outputs": [],
     "prompt_number": 11
    },
    {
     "cell_type": "code",
     "collapsed": false,
     "input": [
      "def get_course_uri(cname):\n",
      "    if cname not in course_ids:\n",
      "        uri = 'http://history.archives.mbl.edu/concepts/course/{0}'.format(uuid4())  \n",
      "        course_ids[cname] = uri\n",
      "    else:\n",
      "        uri = course_ids[cname]\n",
      "    return uri"
     ],
     "language": "python",
     "metadata": {},
     "outputs": [],
     "prompt_number": 12
    },
    {
     "cell_type": "code",
     "collapsed": false,
     "input": [
      "def clean_coursename(cname):\n",
      "    return cname.strip().lower().replace('&', 'and').replace('1', 'i').replace('2', 'ii')"
     ],
     "language": "python",
     "metadata": {},
     "outputs": [],
     "prompt_number": 13
    },
    {
     "cell_type": "code",
     "collapsed": false,
     "input": [
      "def normalize_coursename(cname):\n",
      "    cname = clean_coursename(unidecode(cname))\n",
      "    \n",
      "    if cname in course_map:\n",
      "        cname = course_map[cname]\n",
      "    if cname in coursegroup_map:\n",
      "        group = coursegroup_map[cname]\n",
      "    else:\n",
      "        group = cname\n",
      "    return cname, group"
     ],
     "language": "python",
     "metadata": {},
     "outputs": [],
     "prompt_number": 14
    },
    {
     "cell_type": "markdown",
     "metadata": {},
     "source": [
      "# Load authority files"
     ]
    },
    {
     "cell_type": "code",
     "collapsed": false,
     "input": [
      "apath = '/Users/erickpeirson/Projects/MBL-Data/Authority Files/'\n",
      "courseAuthority = pd.read_csv(os.path.join(apath, 'course.csv'))\n",
      "courseGroupAuthority = pd.read_csv(os.path.join(apath, 'coursegroup.csv'))\n",
      "institutionAuthority = pd.read_csv(os.path.join(apath, 'institution.csv'))\n",
      "locationAuthority = pd.read_csv(os.path.join(apath, 'location.csv'))\n",
      "personAuthority = pd.read_csv(os.path.join(apath, 'person.csv'))"
     ],
     "language": "python",
     "metadata": {},
     "outputs": [],
     "prompt_number": 15
    },
    {
     "cell_type": "code",
     "collapsed": false,
     "input": [
      "courseAuthority[:5]"
     ],
     "language": "python",
     "metadata": {},
     "outputs": [
      {
       "html": [
        "<div style=\"max-width:1500px;overflow:auto;\">\n",
        "<table border=\"1\" class=\"dataframe\">\n",
        "  <thead>\n",
        "    <tr style=\"text-align: right;\">\n",
        "      <th></th>\n",
        "      <th>Course Name</th>\n",
        "      <th>Course URI</th>\n",
        "    </tr>\n",
        "  </thead>\n",
        "  <tbody>\n",
        "    <tr>\n",
        "      <th>0</th>\n",
        "      <td>Embryology 1919</td>\n",
        "      <td>http://history.archives.mbl.edu/concepts/cours...</td>\n",
        "    </tr>\n",
        "    <tr>\n",
        "      <th>1</th>\n",
        "      <td>Embryology 1918</td>\n",
        "      <td>http://history.archives.mbl.edu/concepts/cours...</td>\n",
        "    </tr>\n",
        "    <tr>\n",
        "      <th>2</th>\n",
        "      <td>Zoology 1952</td>\n",
        "      <td>http://history.archives.mbl.edu/concepts/cours...</td>\n",
        "    </tr>\n",
        "    <tr>\n",
        "      <th>3</th>\n",
        "      <td>Zoology 1953</td>\n",
        "      <td>http://history.archives.mbl.edu/concepts/cours...</td>\n",
        "    </tr>\n",
        "    <tr>\n",
        "      <th>4</th>\n",
        "      <td>Zoology 1954</td>\n",
        "      <td>http://history.archives.mbl.edu/concepts/cours...</td>\n",
        "    </tr>\n",
        "  </tbody>\n",
        "</table>\n",
        "</div>"
       ],
       "metadata": {},
       "output_type": "pyout",
       "prompt_number": 16,
       "text": [
        "       Course Name                                         Course URI\n",
        "0  Embryology 1919  http://history.archives.mbl.edu/concepts/cours...\n",
        "1  Embryology 1918  http://history.archives.mbl.edu/concepts/cours...\n",
        "2     Zoology 1952  http://history.archives.mbl.edu/concepts/cours...\n",
        "3     Zoology 1953  http://history.archives.mbl.edu/concepts/cours...\n",
        "4     Zoology 1954  http://history.archives.mbl.edu/concepts/cours..."
       ]
      }
     ],
     "prompt_number": 16
    },
    {
     "cell_type": "code",
     "collapsed": false,
     "input": [
      "personAuthority[:5]"
     ],
     "language": "python",
     "metadata": {},
     "outputs": [
      {
       "html": [
        "<div style=\"max-width:1500px;overflow:auto;\">\n",
        "<table border=\"1\" class=\"dataframe\">\n",
        "  <thead>\n",
        "    <tr style=\"text-align: right;\">\n",
        "      <th></th>\n",
        "      <th>Last Name</th>\n",
        "      <th>First Name</th>\n",
        "      <th>Person URI</th>\n",
        "    </tr>\n",
        "  </thead>\n",
        "  <tbody>\n",
        "    <tr>\n",
        "      <th>0</th>\n",
        "      <td>Sunley</td>\n",
        "      <td>Daniel</td>\n",
        "      <td>http://history.archives.mbl.edu/concepts/perso...</td>\n",
        "    </tr>\n",
        "    <tr>\n",
        "      <th>1</th>\n",
        "      <td>Delmar</td>\n",
        "      <td>Mario</td>\n",
        "      <td>http://history.archives.mbl.edu/concepts/perso...</td>\n",
        "    </tr>\n",
        "    <tr>\n",
        "      <th>2</th>\n",
        "      <td>Bray</td>\n",
        "      <td>Dennis</td>\n",
        "      <td>http://history.archives.mbl.edu/concepts/perso...</td>\n",
        "    </tr>\n",
        "    <tr>\n",
        "      <th>3</th>\n",
        "      <td>Mumm</td>\n",
        "      <td>Jeffrey</td>\n",
        "      <td>http://history.archives.mbl.edu/concepts/perso...</td>\n",
        "    </tr>\n",
        "    <tr>\n",
        "      <th>4</th>\n",
        "      <td>Taylor</td>\n",
        "      <td>Martha</td>\n",
        "      <td>http://history.archives.mbl.edu/concepts/perso...</td>\n",
        "    </tr>\n",
        "  </tbody>\n",
        "</table>\n",
        "</div>"
       ],
       "metadata": {},
       "output_type": "pyout",
       "prompt_number": 17,
       "text": [
        "  Last Name First Name                                         Person URI\n",
        "0    Sunley     Daniel  http://history.archives.mbl.edu/concepts/perso...\n",
        "1    Delmar      Mario  http://history.archives.mbl.edu/concepts/perso...\n",
        "2      Bray     Dennis  http://history.archives.mbl.edu/concepts/perso...\n",
        "3      Mumm    Jeffrey  http://history.archives.mbl.edu/concepts/perso...\n",
        "4    Taylor     Martha  http://history.archives.mbl.edu/concepts/perso..."
       ]
      }
     ],
     "prompt_number": 17
    },
    {
     "cell_type": "code",
     "collapsed": false,
     "input": [
      "personLookup = dict(zip(zip(personAuthority['Last Name'].values, personAuthority['First Name'].values), \n",
      "                        personAuthority['Person URI'].values))"
     ],
     "language": "python",
     "metadata": {},
     "outputs": [],
     "prompt_number": 18
    },
    {
     "cell_type": "code",
     "collapsed": false,
     "input": [
      "cleaned_names = [cleaned_person(last, first) for last, first in zip(personAuthority['Last Name'], personAuthority['First Name'])]"
     ],
     "language": "python",
     "metadata": {},
     "outputs": [],
     "prompt_number": 19
    },
    {
     "cell_type": "code",
     "collapsed": false,
     "input": [
      "person_ids = dict(zip(cleaned_names, personAuthority['Person URI'].values))"
     ],
     "language": "python",
     "metadata": {},
     "outputs": [],
     "prompt_number": 20
    },
    {
     "cell_type": "code",
     "collapsed": false,
     "input": [
      "institutionAuthority[:5]"
     ],
     "language": "python",
     "metadata": {},
     "outputs": [
      {
       "html": [
        "<div style=\"max-width:1500px;overflow:auto;\">\n",
        "<table border=\"1\" class=\"dataframe\">\n",
        "  <thead>\n",
        "    <tr style=\"text-align: right;\">\n",
        "      <th></th>\n",
        "      <th>Institution</th>\n",
        "      <th>Institution URI</th>\n",
        "    </tr>\n",
        "  </thead>\n",
        "  <tbody>\n",
        "    <tr>\n",
        "      <th>0</th>\n",
        "      <td>St Luc Hospital</td>\n",
        "      <td>http://history.archives.mbl.edu/concepts/insti...</td>\n",
        "    </tr>\n",
        "    <tr>\n",
        "      <th>1</th>\n",
        "      <td>New England Institute For Medical Research</td>\n",
        "      <td>http://history.archives.mbl.edu/concepts/insti...</td>\n",
        "    </tr>\n",
        "    <tr>\n",
        "      <th>2</th>\n",
        "      <td>Station Biologique</td>\n",
        "      <td>http://history.archives.mbl.edu/concepts/insti...</td>\n",
        "    </tr>\n",
        "    <tr>\n",
        "      <th>3</th>\n",
        "      <td>Albany College Of Pharmacy</td>\n",
        "      <td>http://history.archives.mbl.edu/concepts/insti...</td>\n",
        "    </tr>\n",
        "    <tr>\n",
        "      <th>4</th>\n",
        "      <td>New York College Of Medicine And Believue Hosp...</td>\n",
        "      <td>http://history.archives.mbl.edu/concepts/insti...</td>\n",
        "    </tr>\n",
        "  </tbody>\n",
        "</table>\n",
        "</div>"
       ],
       "metadata": {},
       "output_type": "pyout",
       "prompt_number": 21,
       "text": [
        "                                         Institution  \\\n",
        "0                                    St Luc Hospital   \n",
        "1         New England Institute For Medical Research   \n",
        "2                                 Station Biologique   \n",
        "3                         Albany College Of Pharmacy   \n",
        "4  New York College Of Medicine And Believue Hosp...   \n",
        "\n",
        "                                     Institution URI  \n",
        "0  http://history.archives.mbl.edu/concepts/insti...  \n",
        "1  http://history.archives.mbl.edu/concepts/insti...  \n",
        "2  http://history.archives.mbl.edu/concepts/insti...  \n",
        "3  http://history.archives.mbl.edu/concepts/insti...  \n",
        "4  http://history.archives.mbl.edu/concepts/insti...  "
       ]
      }
     ],
     "prompt_number": 21
    },
    {
     "cell_type": "code",
     "collapsed": false,
     "input": [
      "inormed = [cleaned_institutions(i)[0] for i in institutionAuthority.Institution.values]"
     ],
     "language": "python",
     "metadata": {},
     "outputs": [],
     "prompt_number": 22
    },
    {
     "cell_type": "code",
     "collapsed": false,
     "input": [
      "institutions_lookup = dict(zip(inormed, inormed))"
     ],
     "language": "python",
     "metadata": {},
     "outputs": [],
     "prompt_number": 23
    },
    {
     "cell_type": "code",
     "collapsed": false,
     "input": [
      "institution_ids = dict(zip(inormed, institutionAuthority['Institution URI'].values))"
     ],
     "language": "python",
     "metadata": {},
     "outputs": [],
     "prompt_number": 24
    },
    {
     "cell_type": "code",
     "collapsed": false,
     "input": [
      "locationAuthority[:5]"
     ],
     "language": "python",
     "metadata": {},
     "outputs": [
      {
       "html": [
        "<div style=\"max-width:1500px;overflow:auto;\">\n",
        "<table border=\"1\" class=\"dataframe\">\n",
        "  <thead>\n",
        "    <tr style=\"text-align: right;\">\n",
        "      <th></th>\n",
        "      <th>Location</th>\n",
        "      <th>Location URI</th>\n",
        "    </tr>\n",
        "  </thead>\n",
        "  <tbody>\n",
        "    <tr>\n",
        "      <th>0</th>\n",
        "      <td>catawissa, pa</td>\n",
        "      <td>http://history.archives.mbl.edu/concepts/locat...</td>\n",
        "    </tr>\n",
        "    <tr>\n",
        "      <th>1</th>\n",
        "      <td>warsaw, ny</td>\n",
        "      <td>http://history.archives.mbl.edu/concepts/locat...</td>\n",
        "    </tr>\n",
        "    <tr>\n",
        "      <th>2</th>\n",
        "      <td>chile</td>\n",
        "      <td>http://history.archives.mbl.edu/concepts/locat...</td>\n",
        "    </tr>\n",
        "    <tr>\n",
        "      <th>3</th>\n",
        "      <td>trenton, nj</td>\n",
        "      <td>http://history.archives.mbl.edu/concepts/locat...</td>\n",
        "    </tr>\n",
        "    <tr>\n",
        "      <th>4</th>\n",
        "      <td>copenhagen, denmark</td>\n",
        "      <td>http://history.archives.mbl.edu/concepts/locat...</td>\n",
        "    </tr>\n",
        "  </tbody>\n",
        "</table>\n",
        "</div>"
       ],
       "metadata": {},
       "output_type": "pyout",
       "prompt_number": 25,
       "text": [
        "              Location                                       Location URI\n",
        "0        catawissa, pa  http://history.archives.mbl.edu/concepts/locat...\n",
        "1           warsaw, ny  http://history.archives.mbl.edu/concepts/locat...\n",
        "2                chile  http://history.archives.mbl.edu/concepts/locat...\n",
        "3          trenton, nj  http://history.archives.mbl.edu/concepts/locat...\n",
        "4  copenhagen, denmark  http://history.archives.mbl.edu/concepts/locat..."
       ]
      }
     ],
     "prompt_number": 25
    },
    {
     "cell_type": "code",
     "collapsed": false,
     "input": [
      "location_ids = dict(zip([strip_nopunc(v) for v in locationAuthority['Location'].values], locationAuthority['Location URI']))"
     ],
     "language": "python",
     "metadata": {},
     "outputs": [],
     "prompt_number": 26
    },
    {
     "cell_type": "code",
     "collapsed": false,
     "input": [
      "courseAuthority[:5]"
     ],
     "language": "python",
     "metadata": {},
     "outputs": [
      {
       "html": [
        "<div style=\"max-width:1500px;overflow:auto;\">\n",
        "<table border=\"1\" class=\"dataframe\">\n",
        "  <thead>\n",
        "    <tr style=\"text-align: right;\">\n",
        "      <th></th>\n",
        "      <th>Course Name</th>\n",
        "      <th>Course URI</th>\n",
        "    </tr>\n",
        "  </thead>\n",
        "  <tbody>\n",
        "    <tr>\n",
        "      <th>0</th>\n",
        "      <td>Embryology 1919</td>\n",
        "      <td>http://history.archives.mbl.edu/concepts/cours...</td>\n",
        "    </tr>\n",
        "    <tr>\n",
        "      <th>1</th>\n",
        "      <td>Embryology 1918</td>\n",
        "      <td>http://history.archives.mbl.edu/concepts/cours...</td>\n",
        "    </tr>\n",
        "    <tr>\n",
        "      <th>2</th>\n",
        "      <td>Zoology 1952</td>\n",
        "      <td>http://history.archives.mbl.edu/concepts/cours...</td>\n",
        "    </tr>\n",
        "    <tr>\n",
        "      <th>3</th>\n",
        "      <td>Zoology 1953</td>\n",
        "      <td>http://history.archives.mbl.edu/concepts/cours...</td>\n",
        "    </tr>\n",
        "    <tr>\n",
        "      <th>4</th>\n",
        "      <td>Zoology 1954</td>\n",
        "      <td>http://history.archives.mbl.edu/concepts/cours...</td>\n",
        "    </tr>\n",
        "  </tbody>\n",
        "</table>\n",
        "</div>"
       ],
       "metadata": {},
       "output_type": "pyout",
       "prompt_number": 96,
       "text": [
        "       Course Name                                         Course URI\n",
        "0  Embryology 1919  http://history.archives.mbl.edu/concepts/cours...\n",
        "1  Embryology 1918  http://history.archives.mbl.edu/concepts/cours...\n",
        "2     Zoology 1952  http://history.archives.mbl.edu/concepts/cours...\n",
        "3     Zoology 1953  http://history.archives.mbl.edu/concepts/cours...\n",
        "4     Zoology 1954  http://history.archives.mbl.edu/concepts/cours..."
       ]
      }
     ],
     "prompt_number": 96
    },
    {
     "cell_type": "code",
     "collapsed": false,
     "input": [
      "course_ids = dict(zip([strip_nopunc(v) for v in courseAuthority['Course Name'].values], courseAuthority['Course URI']))"
     ],
     "language": "python",
     "metadata": {},
     "outputs": [],
     "prompt_number": 97
    },
    {
     "cell_type": "code",
     "collapsed": false,
     "input": [
      "courseGroupAuthority[:5]"
     ],
     "language": "python",
     "metadata": {},
     "outputs": [
      {
       "html": [
        "<div style=\"max-width:1500px;overflow:auto;\">\n",
        "<table border=\"1\" class=\"dataframe\">\n",
        "  <thead>\n",
        "    <tr style=\"text-align: right;\">\n",
        "      <th></th>\n",
        "      <th>Course Group</th>\n",
        "      <th>Course Group URI</th>\n",
        "    </tr>\n",
        "  </thead>\n",
        "  <tbody>\n",
        "    <tr>\n",
        "      <th>0</th>\n",
        "      <td>Botanical Museum Development</td>\n",
        "      <td>http://history.archives.mbl.edu/concepts/cours...</td>\n",
        "    </tr>\n",
        "    <tr>\n",
        "      <th>1</th>\n",
        "      <td>Research Program In History Of Biology</td>\n",
        "      <td>http://history.archives.mbl.edu/concepts/cours...</td>\n",
        "    </tr>\n",
        "    <tr>\n",
        "      <th>2</th>\n",
        "      <td>Small Computers In Biomedical Research</td>\n",
        "      <td>http://history.archives.mbl.edu/concepts/cours...</td>\n",
        "    </tr>\n",
        "    <tr>\n",
        "      <th>3</th>\n",
        "      <td>Biomedical Informatics 2</td>\n",
        "      <td>http://history.archives.mbl.edu/concepts/cours...</td>\n",
        "    </tr>\n",
        "    <tr>\n",
        "      <th>4</th>\n",
        "      <td>Microbiology</td>\n",
        "      <td>http://history.archives.mbl.edu/concepts/cours...</td>\n",
        "    </tr>\n",
        "  </tbody>\n",
        "</table>\n",
        "</div>"
       ],
       "metadata": {},
       "output_type": "pyout",
       "prompt_number": 98,
       "text": [
        "                             Course Group  \\\n",
        "0            Botanical Museum Development   \n",
        "1  Research Program In History Of Biology   \n",
        "2  Small Computers In Biomedical Research   \n",
        "3                Biomedical Informatics 2   \n",
        "4                            Microbiology   \n",
        "\n",
        "                                    Course Group URI  \n",
        "0  http://history.archives.mbl.edu/concepts/cours...  \n",
        "1  http://history.archives.mbl.edu/concepts/cours...  \n",
        "2  http://history.archives.mbl.edu/concepts/cours...  \n",
        "3  http://history.archives.mbl.edu/concepts/cours...  \n",
        "4  http://history.archives.mbl.edu/concepts/cours...  "
       ]
      }
     ],
     "prompt_number": 98
    },
    {
     "cell_type": "code",
     "collapsed": false,
     "input": [
      "coursegroup_ids = dict(zip([clean_coursename(v) for v in courseGroupAuthority['Course Group'].values], courseGroupAuthority['Course Group URI']))"
     ],
     "language": "python",
     "metadata": {},
     "outputs": [],
     "prompt_number": 99
    },
    {
     "cell_type": "markdown",
     "metadata": {},
     "source": [
      "# Load existing cleaned data\n",
      "See ``'./Code/MBL Course and Investigator Data.ipynb'`` for cleaning/disambiguation procedure."
     ]
    },
    {
     "cell_type": "code",
     "collapsed": false,
     "input": [
      "datapath = '/Users/erickpeirson/Projects/MBL-Data/Cleaned Data/'"
     ],
     "language": "python",
     "metadata": {},
     "outputs": [],
     "prompt_number": 31
    },
    {
     "cell_type": "code",
     "collapsed": false,
     "input": [
      "affiliations = pd.read_csv(os.path.join(datapath, 'cleaned_affiliations.csv'))"
     ],
     "language": "python",
     "metadata": {},
     "outputs": [],
     "prompt_number": 32
    },
    {
     "cell_type": "code",
     "collapsed": false,
     "input": [
      "affiliations[:5]"
     ],
     "language": "python",
     "metadata": {},
     "outputs": [
      {
       "html": [
        "<div style=\"max-width:1500px;overflow:auto;\">\n",
        "<table border=\"1\" class=\"dataframe\">\n",
        "  <thead>\n",
        "    <tr style=\"text-align: right;\">\n",
        "      <th></th>\n",
        "      <th>Institution URI</th>\n",
        "      <th>Last Name</th>\n",
        "      <th>Year</th>\n",
        "      <th>First Name</th>\n",
        "      <th>Person URI</th>\n",
        "      <th>Position</th>\n",
        "      <th>Institution</th>\n",
        "    </tr>\n",
        "  </thead>\n",
        "  <tbody>\n",
        "    <tr>\n",
        "      <th>0</th>\n",
        "      <td>http://history.archives.mbl.edu/concepts/insti...</td>\n",
        "      <td>Gardiner</td>\n",
        "      <td>1888</td>\n",
        "      <td>Edward G</td>\n",
        "      <td>http://history.archives.mbl.edu/concepts/perso...</td>\n",
        "      <td>NaN</td>\n",
        "      <td>Institute Of Technology</td>\n",
        "    </tr>\n",
        "    <tr>\n",
        "      <th>1</th>\n",
        "      <td>http://history.archives.mbl.edu/concepts/insti...</td>\n",
        "      <td>Jordan</td>\n",
        "      <td>1888</td>\n",
        "      <td>Edwin O</td>\n",
        "      <td>http://history.archives.mbl.edu/concepts/perso...</td>\n",
        "      <td>NaN</td>\n",
        "      <td>Institute Of Technology</td>\n",
        "    </tr>\n",
        "    <tr>\n",
        "      <th>2</th>\n",
        "      <td>http://history.archives.mbl.edu/concepts/insti...</td>\n",
        "      <td>Washburn</td>\n",
        "      <td>1888</td>\n",
        "      <td>F L</td>\n",
        "      <td>http://history.archives.mbl.edu/concepts/perso...</td>\n",
        "      <td>NaN</td>\n",
        "      <td>University Of Michigan</td>\n",
        "    </tr>\n",
        "    <tr>\n",
        "      <th>3</th>\n",
        "      <td>http://history.archives.mbl.edu/concepts/insti...</td>\n",
        "      <td>Clapp</td>\n",
        "      <td>1888</td>\n",
        "      <td>Cornelia Maria</td>\n",
        "      <td>http://history.archives.mbl.edu/concepts/perso...</td>\n",
        "      <td>NaN</td>\n",
        "      <td>Mt Holyoke Seminary And College</td>\n",
        "    </tr>\n",
        "    <tr>\n",
        "      <th>4</th>\n",
        "      <td>http://history.archives.mbl.edu/concepts/insti...</td>\n",
        "      <td>O'Grady</td>\n",
        "      <td>1888</td>\n",
        "      <td>Marcella I</td>\n",
        "      <td>http://history.archives.mbl.edu/concepts/perso...</td>\n",
        "      <td>NaN</td>\n",
        "      <td>Bryn Mawr College</td>\n",
        "    </tr>\n",
        "  </tbody>\n",
        "</table>\n",
        "</div>"
       ],
       "metadata": {},
       "output_type": "pyout",
       "prompt_number": 33,
       "text": [
        "                                     Institution URI Last Name  Year  \\\n",
        "0  http://history.archives.mbl.edu/concepts/insti...  Gardiner  1888   \n",
        "1  http://history.archives.mbl.edu/concepts/insti...    Jordan  1888   \n",
        "2  http://history.archives.mbl.edu/concepts/insti...  Washburn  1888   \n",
        "3  http://history.archives.mbl.edu/concepts/insti...     Clapp  1888   \n",
        "4  http://history.archives.mbl.edu/concepts/insti...   O'Grady  1888   \n",
        "\n",
        "       First Name                                         Person URI Position  \\\n",
        "0        Edward G  http://history.archives.mbl.edu/concepts/perso...      NaN   \n",
        "1         Edwin O  http://history.archives.mbl.edu/concepts/perso...      NaN   \n",
        "2             F L  http://history.archives.mbl.edu/concepts/perso...      NaN   \n",
        "3  Cornelia Maria  http://history.archives.mbl.edu/concepts/perso...      NaN   \n",
        "4      Marcella I  http://history.archives.mbl.edu/concepts/perso...      NaN   \n",
        "\n",
        "                       Institution  \n",
        "0          Institute Of Technology  \n",
        "1          Institute Of Technology  \n",
        "2           University Of Michigan  \n",
        "3  Mt Holyoke Seminary And College  \n",
        "4                Bryn Mawr College  "
       ]
      }
     ],
     "prompt_number": 33
    },
    {
     "cell_type": "code",
     "collapsed": false,
     "input": [
      "attendance = pd.read_csv(os.path.join(datapath, 'cleaned_attendance.csv'))"
     ],
     "language": "python",
     "metadata": {},
     "outputs": [],
     "prompt_number": 34
    },
    {
     "cell_type": "code",
     "collapsed": false,
     "input": [
      "coursegroups = pd.read_csv(os.path.join(datapath, 'cleaned_coursegroups.csv'))"
     ],
     "language": "python",
     "metadata": {},
     "outputs": [],
     "prompt_number": 125
    },
    {
     "cell_type": "code",
     "collapsed": false,
     "input": [
      "investigators = pd.read_csv(os.path.join(datapath, 'cleaned_investigators.csv'))"
     ],
     "language": "python",
     "metadata": {},
     "outputs": [],
     "prompt_number": 36
    },
    {
     "cell_type": "code",
     "collapsed": false,
     "input": [
      "locations = pd.read_csv(os.path.join(datapath, 'cleaned_locations.csv'))"
     ],
     "language": "python",
     "metadata": {},
     "outputs": [],
     "prompt_number": 37
    },
    {
     "cell_type": "markdown",
     "metadata": {},
     "source": [
      "# Load and integrate Wes' updated data\n",
      "Located in ``'./Original Data/Wes - Updated'``."
     ]
    },
    {
     "cell_type": "code",
     "collapsed": false,
     "input": [
      "wdpath = '/Users/erickpeirson/Projects/MBL-Data/Original Data/Wes - Updated/'"
     ],
     "language": "python",
     "metadata": {},
     "outputs": [],
     "prompt_number": 38
    },
    {
     "cell_type": "code",
     "collapsed": false,
     "input": [
      "investigators_2012 = pd.read_csv(os.path.join(wdpath, 'MBL INVESTIGATOR WES 2012.csv'), encoding='utf-8')\n",
      "investigators_2013 = pd.read_csv(os.path.join(wdpath, 'MBL INVESTIGATOR WES 2013.csv'), encoding='utf-8')\n",
      "attendance_2009 = pd.read_csv(os.path.join(wdpath, 'MBL COURSE LIST WES 2009.csv'), encoding='utf-8')\n",
      "attendance_2010 = pd.read_csv(os.path.join(wdpath, 'MBL COURSE LIST WES 2010.csv'), encoding='utf-8')\n",
      "attendance_2011 = pd.read_csv(os.path.join(wdpath, 'MBL COURSE LIST WES 2011.csv'), encoding='utf-8')\n",
      "attendance_2012 = pd.read_csv(os.path.join(wdpath, 'MBL COURSE LIST WES 2012.csv'), encoding='utf-8')\n",
      "attendance_2013 = pd.read_csv(os.path.join(wdpath, 'MBL COURSE LIST WES 2013.csv'), encoding='utf-8')"
     ],
     "language": "python",
     "metadata": {},
     "outputs": [],
     "prompt_number": 39
    },
    {
     "cell_type": "code",
     "collapsed": false,
     "input": [
      "withNames = [attendance_2009, attendance_2010, attendance_2011, attendance_2012, attendance_2013, investigators_2012, investigators_2013]"
     ],
     "language": "python",
     "metadata": {},
     "outputs": [],
     "prompt_number": 41
    },
    {
     "cell_type": "code",
     "collapsed": false,
     "input": [
      "personal_names = set([])\n",
      "f_personal_names = Counter()\n",
      "personal_affiliations = {}"
     ],
     "language": "python",
     "metadata": {},
     "outputs": [],
     "prompt_number": 42
    },
    {
     "cell_type": "code",
     "collapsed": false,
     "input": [
      "withCourses = [attendance_2009, attendance_2010, attendance_2011, attendance_2012, attendance_2013]\n",
      "courseYears = [2009, 2010, 2011, 2012, 2013]"
     ],
     "language": "python",
     "metadata": {},
     "outputs": [],
     "prompt_number": 43
    },
    {
     "cell_type": "code",
     "collapsed": false,
     "input": [
      "for df in [affiliations] + withNames:    \n",
      "    last, first = zip(*[cleaned_person(l, f) for l, f in zip(df['Last Name'].values, df['First Name'].values)])\n",
      "    \n",
      "    if 'Affiliation' in df.columns:\n",
      "        affs = [normalized_institutions(inst) for inst in df['Affiliation'].values]\n",
      "    elif 'Institution' in df.columns:\n",
      "        affs = [normalized_institutions(inst) for inst in df['Institution'].values]\n",
      "    names = zip(last, first)\n",
      "    \n",
      "    personal_names |= set(names)\n",
      "    for n,v in Counter(names).items():\n",
      "        f_personal_names[n] += v\n",
      "    \n",
      "    for name, aff in zip(names, affs):\n",
      "        if name not in personal_affiliations:\n",
      "            personal_affiliations[name] = set([])\n",
      "        for affiliation in aff:  \n",
      "            personal_affiliations[name].add(affiliation)"
     ],
     "language": "python",
     "metadata": {},
     "outputs": [],
     "prompt_number": 44
    },
    {
     "cell_type": "code",
     "collapsed": false,
     "input": [
      "personal_names_list = list(personal_names)\n",
      "N_names = len(personal_names)\n",
      "by_last = {}\n",
      "for i in xrange(N_names):\n",
      "    lastname, firstname = personal_names_list[i]\n",
      "    if lastname not in by_last:\n",
      "        by_last[lastname] = set([])\n",
      "    by_last[lastname].add(firstname)    # The surname of A is identical to the surname of B"
     ],
     "language": "python",
     "metadata": {},
     "outputs": [],
     "prompt_number": 45
    },
    {
     "cell_type": "code",
     "collapsed": false,
     "input": [
      "person_map = {}\n",
      "for last, firsts in by_last.iteritems():    # We assume that surnames are not misspelled.\n",
      "    N_firsts = len(firsts)                  #  This is not strictly true, but it is not\n",
      "    if N_firsts > 1:                        #  quite clear how to proceed otherwise.\n",
      "        lfirsts = list(firsts)              # Consider cases in which two names, I and J,\n",
      "        for i in xrange(N_firsts):          #  have a common surname.\n",
      "            iname = lfirsts[i]\n",
      "            inames = iname.split(' ')\n",
      "            iinits = [f[0] for f in inames ]\n",
      "            \n",
      "            for j in xrange(i+1, N_firsts):     \n",
      "                jname = lfirsts[j]\n",
      "                jnames = jname.split(' ')\n",
      "                jinits = [f[0] for f in jnames ]\n",
      "\n",
      "                # For each such pair, I and J, we compare the X parts of their forenames,\n",
      "                #  where X is the minimum number of forename parts for I and J.\n",
      "                match = True               \n",
      "                for x in xrange(min( [len(inames), len(jnames)] )):\n",
      "                    # If the x part if either forename is an initial, we evaluate\n",
      "                    #  only the first character of the two parts.\n",
      "                    if len(inames[x]) == 1 or len(jnames[x]) == 1:\n",
      "                        if iinits[x] != jinits[x]:\n",
      "                            match = False\n",
      "                    # Otherwise, the x part of the two forenames must be identical.\n",
      "                    else:\n",
      "                        if inames[x] != jnames[x]:\n",
      "                            match = False\n",
      "                if match:     \n",
      "                    # If the forenames of I and J match, as described above, we check\n",
      "                    # to see whether they share at least one institutional affiliation.\n",
      "                    shared = personal_affiliations[(last, iname)] & personal_affiliations[(last, jname)]\n",
      "                    if len(shared) > 0:\n",
      "                        # If they share at least one institutional affiliation, then\n",
      "                        #  we believe that I and J both refer to the same person.\n",
      "                        if len(iname) > len(jname):    # Use the longest name (most complete).\n",
      "                            key = jname\n",
      "                            alt = iname\n",
      "                        else:\n",
      "                            key = iname\n",
      "                            alt = jname\n",
      "                        if (last, alt) in person_map:\n",
      "                            top = False\n",
      "                            while not top:\n",
      "                                try:\n",
      "                                    alt = person_map[(last,alt)][1]\n",
      "                                except KeyError:\n",
      "                                    top = True\n",
      "                        person_map[(last, key)] = (last, alt)      \n",
      "                        \n",
      "    # If the conditions above are not satisfied, then we lack sufficient evidence to\n",
      "    #  assert that the names I and J refer to the same person.\n",
      "print len(person_map)"
     ],
     "language": "python",
     "metadata": {},
     "outputs": [
      {
       "output_type": "stream",
       "stream": "stdout",
       "text": [
        "47\n"
       ]
      }
     ],
     "prompt_number": 46
    },
    {
     "cell_type": "code",
     "collapsed": false,
     "input": [
      "loc = [get_location_uri(l) for l in attendance_2011['Location'].values]"
     ],
     "language": "python",
     "metadata": {},
     "outputs": [],
     "prompt_number": 47
    },
    {
     "cell_type": "code",
     "collapsed": false,
     "input": [
      "attendance[:5]"
     ],
     "language": "python",
     "metadata": {},
     "outputs": [
      {
       "html": [
        "<div style=\"max-width:1500px;overflow:auto;\">\n",
        "<table border=\"1\" class=\"dataframe\">\n",
        "  <thead>\n",
        "    <tr style=\"text-align: right;\">\n",
        "      <th></th>\n",
        "      <th>Year</th>\n",
        "      <th>Last Name</th>\n",
        "      <th>Person URI</th>\n",
        "      <th>Course Name</th>\n",
        "      <th>First Name</th>\n",
        "      <th>Role</th>\n",
        "      <th>Course URI</th>\n",
        "    </tr>\n",
        "  </thead>\n",
        "  <tbody>\n",
        "    <tr>\n",
        "      <th>0</th>\n",
        "      <td>1890</td>\n",
        "      <td>Mcmurrich</td>\n",
        "      <td>http://history.archives.mbl.edu/concepts/perso...</td>\n",
        "      <td>Coelenterates 1890</td>\n",
        "      <td>J Playfair</td>\n",
        "      <td>Instructor</td>\n",
        "      <td>http://history.archives.mbl.edu/concepts/cours...</td>\n",
        "    </tr>\n",
        "    <tr>\n",
        "      <th>1</th>\n",
        "      <td>1891</td>\n",
        "      <td>Setchell</td>\n",
        "      <td>http://history.archives.mbl.edu/concepts/perso...</td>\n",
        "      <td>Botany 1891</td>\n",
        "      <td>William Albert</td>\n",
        "      <td>Instructor</td>\n",
        "      <td>http://history.archives.mbl.edu/concepts/cours...</td>\n",
        "    </tr>\n",
        "    <tr>\n",
        "      <th>2</th>\n",
        "      <td>1891</td>\n",
        "      <td>Rankin</td>\n",
        "      <td>http://history.archives.mbl.edu/concepts/perso...</td>\n",
        "      <td>Zoology 1891</td>\n",
        "      <td>Walter M</td>\n",
        "      <td>Instructor</td>\n",
        "      <td>http://history.archives.mbl.edu/concepts/cours...</td>\n",
        "    </tr>\n",
        "    <tr>\n",
        "      <th>3</th>\n",
        "      <td>1891</td>\n",
        "      <td>Bumpus</td>\n",
        "      <td>http://history.archives.mbl.edu/concepts/perso...</td>\n",
        "      <td>Zoology 1891</td>\n",
        "      <td>Hermon C</td>\n",
        "      <td>Instructor</td>\n",
        "      <td>http://history.archives.mbl.edu/concepts/cours...</td>\n",
        "    </tr>\n",
        "    <tr>\n",
        "      <th>4</th>\n",
        "      <td>1891</td>\n",
        "      <td>Mcmurrich</td>\n",
        "      <td>http://history.archives.mbl.edu/concepts/perso...</td>\n",
        "      <td>Zoology 1891</td>\n",
        "      <td>J Playfair</td>\n",
        "      <td>Instructor</td>\n",
        "      <td>http://history.archives.mbl.edu/concepts/cours...</td>\n",
        "    </tr>\n",
        "  </tbody>\n",
        "</table>\n",
        "</div>"
       ],
       "metadata": {},
       "output_type": "pyout",
       "prompt_number": 48,
       "text": [
        "   Year  Last Name                                         Person URI  \\\n",
        "0  1890  Mcmurrich  http://history.archives.mbl.edu/concepts/perso...   \n",
        "1  1891   Setchell  http://history.archives.mbl.edu/concepts/perso...   \n",
        "2  1891     Rankin  http://history.archives.mbl.edu/concepts/perso...   \n",
        "3  1891     Bumpus  http://history.archives.mbl.edu/concepts/perso...   \n",
        "4  1891  Mcmurrich  http://history.archives.mbl.edu/concepts/perso...   \n",
        "\n",
        "          Course Name      First Name        Role  \\\n",
        "0  Coelenterates 1890      J Playfair  Instructor   \n",
        "1         Botany 1891  William Albert  Instructor   \n",
        "2        Zoology 1891        Walter M  Instructor   \n",
        "3        Zoology 1891        Hermon C  Instructor   \n",
        "4        Zoology 1891      J Playfair  Instructor   \n",
        "\n",
        "                                          Course URI  \n",
        "0  http://history.archives.mbl.edu/concepts/cours...  \n",
        "1  http://history.archives.mbl.edu/concepts/cours...  \n",
        "2  http://history.archives.mbl.edu/concepts/cours...  \n",
        "3  http://history.archives.mbl.edu/concepts/cours...  \n",
        "4  http://history.archives.mbl.edu/concepts/cours...  "
       ]
      }
     ],
     "prompt_number": 48
    },
    {
     "cell_type": "code",
     "collapsed": false,
     "input": [
      "def mean(seq):\n",
      "    return float(sum(seq))/len(seq)"
     ],
     "language": "python",
     "metadata": {},
     "outputs": [],
     "prompt_number": 49
    },
    {
     "cell_type": "code",
     "collapsed": false,
     "input": [
      "course_names = set([])\n",
      "f_course_names = Counter()\n",
      "\n",
      "for df in withCourses:\n",
      "    name = [clean_coursename(c) for c in df['Course Name'].values]\n",
      "    course_names |= set(name)\n",
      "    for n in name:\n",
      "        f_course_names[n] += 1\n",
      "\n",
      "print len(course_names)\n",
      "\n",
      "distances = []\n",
      "course_names_list = list(course_names)\n",
      "for i in xrange(len(course_names_list)):\n",
      "    for j in xrange(i+1, len(course_names_list)):\n",
      "        a = course_names_list[i]\n",
      "        b = course_names_list[j]\n",
      "        d = Levenshtein.distance(a,b)\n",
      "        dnorm = float(d)/mean([float(len(a)), float(len(b))])\n",
      "        distances.append( (i,j,d, dnorm) )\n",
      "        \n",
      "for d in distances:\n",
      "    if d[3] < 0.17:\n",
      "        a = course_names_list[d[0]]\n",
      "        b = course_names_list[d[1]]\n",
      "        dnorm = d[3]\n",
      "\n",
      "        print d[3], d[2]\n",
      "        print f_course_names[a], '\\t', a\n",
      "        print f_course_names[b], '\\t', b   \n",
      "        print '-'*40        "
     ],
     "language": "python",
     "metadata": {},
     "outputs": [
      {
       "output_type": "stream",
       "stream": "stdout",
       "text": [
        "38\n",
        "0.0571428571429 2\n",
        "244 \tzebrafish development and genetics\n",
        "57 \tzebrafish developmental and genetics\n",
        "----------------------------------------\n",
        "0.0224719101124 1\n",
        "111 \tanalystical and quantitative light microscopy\n",
        "165 \tanalytical and quantitative light microscopy\n",
        "----------------------------------------\n",
        "0.0141843971631 1\n",
        "154 \tstrategies and techniques for analyzing microbial population structures\n",
        "90 \tstrategies and techniques for analyzing microbial population structure\n",
        "----------------------------------------\n",
        "0.161290322581 10\n",
        "97 \tembryology: concepts and techniques in modern development\n",
        "173 \tembryology: concepts and techniques in modern developmental biology\n",
        "----------------------------------------\n",
        "0.0792079207921 4\n",
        "40 \tsummer program in neuroscience, ethics $ survival\n",
        "151 \tsummer program in neuroscience, ethics, and survival\n",
        "----------------------------------------\n",
        "0.0869565217391 2\n",
        "137 \tbiomedical informatics i\n",
        "90 \tbiomedical informatics\n",
        "----------------------------------------\n",
        "0.0408163265306 1\n",
        "137 \tbiomedical informatics i\n",
        "93 \tbiomedical informatics ii\n",
        "----------------------------------------\n",
        "0.127659574468 3\n",
        "90 \tbiomedical informatics\n",
        "93 \tbiomedical informatics ii\n",
        "----------------------------------------\n"
       ]
      }
     ],
     "prompt_number": 50
    },
    {
     "cell_type": "code",
     "collapsed": false,
     "input": [
      "# The course_map handles typographical errors in the dataset. There are remarkably\n",
      "#  few typos. We specify the appropriate spellings manually, below.\n",
      "course_map = { \n",
      "    'optimal microscopy': 'optical microscopy',\n",
      "    'optimal microscopy and imaging in the biomedical sciences': 'optical microscopy and imaging in the biomedical sciences',\n",
      "    'nasa planetary biology inernship': 'nasa planetary biology internship',\n",
      "    'summer program in neuroscience, ethics $ survival': 'summer program in neuroscience, ethics and survival',\n",
      "    'spines--summer program in neuroscience, ethics and survival': 'summer program in neuroscience, ethics and survival',\n",
      "    'physiology: modern cell biology using microscopic, biochemical and computational approaches': 'physiology: modern cell biology using microscopic, biochemical, and computational approaches',\n",
      "    'physiology: cell and molecular biology': 'physiology: cellular and molecular biology',\n",
      "    'parthogenesis of neuroimmunologic diseases': 'pathogenesis of neuroimmunologic diseases',\n",
      "    'zebrafish developmental and genetics': 'zebrafish development and genetics',\n",
      "    'analystical and quantitative light microscopy': 'analytical and quantitative light microscopy',\n",
      "    'strategies and techniques for analyzing microbial population structure': 'strategies and techniques for analyzing microbial population structures',\n",
      "    'embryology: concepts and techniques in modern development': 'embryology: concepts and techniques in modern developmental biology',\n",
      "    'summer program in neuroscience, ethics $ survival': 'summer program in neuroscience, ethics, and survival',\n",
      "}\n",
      "\n",
      "# If two courses share the same name, then we generally consider them to belong to the \n",
      "#  same course group. For example, the 'Ecology' course in 1934 (say) belongs to the\n",
      "#  same group (or series) as the 'Ecology' course in 1965 (say).\n",
      "#\n",
      "# In some cases, however, courses with slightly (or perhaps very) different names\n",
      "#  may belong to the same group. For example, an Embryology course might have some\n",
      "#  subtitle, like: \"Embryology: Some great new theme for this course\". Or they might\n",
      "#  be numbered, like \"Biomedical informatics I\" and \"Biomedical informatics II\".\n",
      "#\n",
      "# The coursegroup_map handles the latter cases. Keys are specific course names that\n",
      "#  occur in the dataset, and values are the group names that should be used.\n",
      "#  Some of these mappings are given manually, based on inspection of the dataset.\n",
      "#  Other mappings are generated by looking for colons (':') in course names; the\n",
      "#  part of the name before the colon is assumed to be the proper group name.\n",
      "\n",
      "coursegroup_map = { \n",
      "    'small computers in biomedical research, i': 'small computers in biomedical research',\n",
      "    'small computers in biomedical research, ii': 'small computers in biomedical research',\n",
      "    'medical informatics': 'biomedical informatics',\n",
      "    'medical informatics i': 'biomedical informatics',\n",
      "    'medical informatics ii': 'biomedical informatics',\n",
      "    'biomedical informatics i': 'biomedical informatics',\n",
      "    'biomedical informatics ii': 'biomedical informatics',\n",
      "    'advanced workshop on recombinant dna methodology': 'workshop on recombinant dna methodology',\n",
      "    'basic workshop on recombinant dna methodology': 'workshop on recombinant dna methodology',\n",
      "    'biomedical informatics ii': 'biomedical informatics',\n",
      "    'biomedical informatics i': 'biomedical informatics',\n",
      "    'biomedical informatics': 'biomedical informatics',\n",
      "    'biomedical informatics (fall)': 'biomedical informatics',\n",
      "    'biomedical informatics (spring)': 'biomedical informatics',\n",
      "    'optical microscopy and imaging in the biomedical sciences': 'optical microscopy',\n",
      "    'gene regulatory networks for development': 'gene regulatory networks'\n",
      "}"
     ],
     "language": "python",
     "metadata": {},
     "outputs": [],
     "prompt_number": 76
    },
    {
     "cell_type": "code",
     "collapsed": false,
     "input": [
      "for cname in list(course_names):   # Here we look for course names with subtitles,\n",
      "    parts = cname.split(':')       #  characterized by a colon (':') in their names.\n",
      "    if len(parts) > 1:\n",
      "        coursegroup_map.update({cname:parts[0]})\n",
      "print len(coursegroup_map)"
     ],
     "language": "python",
     "metadata": {},
     "outputs": [
      {
       "output_type": "stream",
       "stream": "stdout",
       "text": [
        "17\n"
       ]
      }
     ],
     "prompt_number": 77
    },
    {
     "cell_type": "code",
     "collapsed": false,
     "input": [
      "coursegroup = []\n",
      "role = []\n",
      "cname = []\n",
      "year = []\n",
      "name = []\n",
      "aff = []\n",
      "loc = []\n",
      "position = []\n",
      "for df, years in zip(withCourses, courseYears):\n",
      "    role += [strip_clean(r) for r in df['Role']]\n",
      "    cname_this, coursegroup_this = zip(*[normalize_coursename(c.lower()) for c in df['Course Name'].values])\n",
      "    coursegroup += coursegroup_this\n",
      "    cname += cname_this\n",
      "    year += [years]*len(cname_this)\n",
      "    name += zip(df['Last Name'], df['First Name'])\n",
      "    aff += [normalized_institutions(i) for i in df['Affiliation']]\n",
      "    loc += [strip_nopunc(l) for l in df['Location'].values]\n",
      "    position += [strip_clean(p) for p in df['Position at Affiliation'].values]\n",
      "    \n",
      "cname = ['{0} {1}'.format(c, y).title() for c, y in zip(cname, year)]\n",
      "course_uri = [get_course_uri(c.lower()) for c in cname]\n",
      "coursegroup_uri = [get_coursegroup_uri(c) for c in coursegroup]\n",
      "name, name_uri = zip(*[normalized_person(n[0], n[1]) for n in name])\n",
      "coursegroup = [c.title() for c in coursegroup]\n",
      "lastname, firstname = zip(*name)\n",
      "lastname = [n.title() for n in lastname]\n",
      "firstname = [n.title() for n in firstname]\n",
      "role = [r.title() for r in role]\n",
      "position = [p.title() for p in position]\n",
      "aff_uris = [[institution_ids[i] for i in ai] for ai in aff]\n",
      "loc_uris = [get_location_uri(l) for l in loc]\n",
      "aff = [[a.title() for a in ai] for ai in aff]"
     ],
     "language": "python",
     "metadata": {},
     "outputs": [],
     "prompt_number": 100
    },
    {
     "cell_type": "code",
     "collapsed": false,
     "input": [
      "Counter([len(a) for a in aff])"
     ],
     "language": "python",
     "metadata": {},
     "outputs": [
      {
       "metadata": {},
       "output_type": "pyout",
       "prompt_number": 101,
       "text": [
        "Counter({1: 6490, 2: 182, 3: 3})"
       ]
      }
     ],
     "prompt_number": 101
    },
    {
     "cell_type": "code",
     "collapsed": false,
     "input": [
      "attendance_wes = pd.DataFrame(data=zip(year, lastname, name_uri, cname, firstname, role, course_uri),\n",
      "                              columns=['Year', 'Last Name', 'Person URI', 'Course Name', 'First Name', \n",
      "                                       'Role', 'Course URI'])"
     ],
     "language": "python",
     "metadata": {},
     "outputs": [],
     "prompt_number": 102
    },
    {
     "cell_type": "code",
     "collapsed": false,
     "input": [
      "attendance_wes[:5]"
     ],
     "language": "python",
     "metadata": {},
     "outputs": [
      {
       "html": [
        "<div style=\"max-width:1500px;overflow:auto;\">\n",
        "<table border=\"1\" class=\"dataframe\">\n",
        "  <thead>\n",
        "    <tr style=\"text-align: right;\">\n",
        "      <th></th>\n",
        "      <th>Year</th>\n",
        "      <th>Last Name</th>\n",
        "      <th>Person URI</th>\n",
        "      <th>Course Name</th>\n",
        "      <th>First Name</th>\n",
        "      <th>Role</th>\n",
        "      <th>Course URI</th>\n",
        "    </tr>\n",
        "  </thead>\n",
        "  <tbody>\n",
        "    <tr>\n",
        "      <th>0</th>\n",
        "      <td>2009</td>\n",
        "      <td>Elmendorf</td>\n",
        "      <td>http://history.archives.mbl.edu/concepts/perso...</td>\n",
        "      <td>Biology Of Parasitism 2009</td>\n",
        "      <td>Heidi</td>\n",
        "      <td>Course Director</td>\n",
        "      <td>http://history.archives.mbl.edu/concepts/cours...</td>\n",
        "    </tr>\n",
        "    <tr>\n",
        "      <th>1</th>\n",
        "      <td>2009</td>\n",
        "      <td>Goldberg</td>\n",
        "      <td>http://history.archives.mbl.edu/concepts/perso...</td>\n",
        "      <td>Biology Of Parasitism 2009</td>\n",
        "      <td>Daniel</td>\n",
        "      <td>Course Director</td>\n",
        "      <td>http://history.archives.mbl.edu/concepts/cours...</td>\n",
        "    </tr>\n",
        "    <tr>\n",
        "      <th>2</th>\n",
        "      <td>2009</td>\n",
        "      <td>Belkaid</td>\n",
        "      <td>http://history.archives.mbl.edu/concepts/perso...</td>\n",
        "      <td>Biology Of Parasitism 2009</td>\n",
        "      <td>Yasmine</td>\n",
        "      <td>Faculty</td>\n",
        "      <td>http://history.archives.mbl.edu/concepts/cours...</td>\n",
        "    </tr>\n",
        "    <tr>\n",
        "      <th>3</th>\n",
        "      <td>2009</td>\n",
        "      <td>Deitsch</td>\n",
        "      <td>http://history.archives.mbl.edu/concepts/perso...</td>\n",
        "      <td>Biology Of Parasitism 2009</td>\n",
        "      <td>Kirk</td>\n",
        "      <td>Faculty</td>\n",
        "      <td>http://history.archives.mbl.edu/concepts/cours...</td>\n",
        "    </tr>\n",
        "    <tr>\n",
        "      <th>4</th>\n",
        "      <td>2009</td>\n",
        "      <td>Heiges</td>\n",
        "      <td>http://history.archives.mbl.edu/concepts/perso...</td>\n",
        "      <td>Biology Of Parasitism 2009</td>\n",
        "      <td>Mark</td>\n",
        "      <td>Faculty</td>\n",
        "      <td>http://history.archives.mbl.edu/concepts/cours...</td>\n",
        "    </tr>\n",
        "  </tbody>\n",
        "</table>\n",
        "</div>"
       ],
       "metadata": {},
       "output_type": "pyout",
       "prompt_number": 103,
       "text": [
        "   Year  Last Name                                         Person URI  \\\n",
        "0  2009  Elmendorf  http://history.archives.mbl.edu/concepts/perso...   \n",
        "1  2009   Goldberg  http://history.archives.mbl.edu/concepts/perso...   \n",
        "2  2009    Belkaid  http://history.archives.mbl.edu/concepts/perso...   \n",
        "3  2009    Deitsch  http://history.archives.mbl.edu/concepts/perso...   \n",
        "4  2009     Heiges  http://history.archives.mbl.edu/concepts/perso...   \n",
        "\n",
        "                  Course Name First Name             Role  \\\n",
        "0  Biology Of Parasitism 2009      Heidi  Course Director   \n",
        "1  Biology Of Parasitism 2009     Daniel  Course Director   \n",
        "2  Biology Of Parasitism 2009    Yasmine          Faculty   \n",
        "3  Biology Of Parasitism 2009       Kirk          Faculty   \n",
        "4  Biology Of Parasitism 2009       Mark          Faculty   \n",
        "\n",
        "                                          Course URI  \n",
        "0  http://history.archives.mbl.edu/concepts/cours...  \n",
        "1  http://history.archives.mbl.edu/concepts/cours...  \n",
        "2  http://history.archives.mbl.edu/concepts/cours...  \n",
        "3  http://history.archives.mbl.edu/concepts/cours...  \n",
        "4  http://history.archives.mbl.edu/concepts/cours...  "
       ]
      }
     ],
     "prompt_number": 103
    },
    {
     "cell_type": "code",
     "collapsed": false,
     "input": [
      "# Location URI,Last Name,Person URI,First Name,Location,Year\n",
      "locations_raw = []\n",
      "for i in xrange(len(loc)):\n",
      "    if loc[i] != '' and loc[i] is not None and loc_uris[i] is not None:\n",
      "        locations_raw.append((loc_uris[i], lastname[i], name_uri[i], firstname[i], loc[i], year[i]))\n",
      "locations_wes = pd.DataFrame(data=locations_raw,\n",
      "                             columns=['Location URI', 'Last Name', 'Person URI', 'First Name', 'Location', 'Year'])"
     ],
     "language": "python",
     "metadata": {},
     "outputs": [],
     "prompt_number": 104
    },
    {
     "cell_type": "code",
     "collapsed": false,
     "input": [
      "locations_wes[:5]"
     ],
     "language": "python",
     "metadata": {},
     "outputs": [
      {
       "html": [
        "<div style=\"max-width:1500px;overflow:auto;\">\n",
        "<table border=\"1\" class=\"dataframe\">\n",
        "  <thead>\n",
        "    <tr style=\"text-align: right;\">\n",
        "      <th></th>\n",
        "      <th>Location URI</th>\n",
        "      <th>Last Name</th>\n",
        "      <th>Person URI</th>\n",
        "      <th>First Name</th>\n",
        "      <th>Location</th>\n",
        "      <th>Year</th>\n",
        "    </tr>\n",
        "  </thead>\n",
        "  <tbody>\n",
        "    <tr>\n",
        "      <th>0</th>\n",
        "      <td>http://history.archives.mbl.edu/concepts/locat...</td>\n",
        "      <td>Pell</td>\n",
        "      <td>http://history.archives.mbl.edu/concepts/perso...</td>\n",
        "      <td>Jonathan</td>\n",
        "      <td>denver</td>\n",
        "      <td>2009</td>\n",
        "    </tr>\n",
        "    <tr>\n",
        "      <th>1</th>\n",
        "      <td>http://history.archives.mbl.edu/concepts/locat...</td>\n",
        "      <td>Bryan</td>\n",
        "      <td>http://history.archives.mbl.edu/concepts/perso...</td>\n",
        "      <td>Susan</td>\n",
        "      <td>irvine</td>\n",
        "      <td>2009</td>\n",
        "    </tr>\n",
        "    <tr>\n",
        "      <th>2</th>\n",
        "      <td>http://history.archives.mbl.edu/concepts/locat...</td>\n",
        "      <td>Gardiner</td>\n",
        "      <td>http://history.archives.mbl.edu/concepts/perso...</td>\n",
        "      <td>David</td>\n",
        "      <td>irvine</td>\n",
        "      <td>2009</td>\n",
        "    </tr>\n",
        "    <tr>\n",
        "      <th>3</th>\n",
        "      <td>http://history.archives.mbl.edu/concepts/locat...</td>\n",
        "      <td>Levine</td>\n",
        "      <td>http://history.archives.mbl.edu/concepts/perso...</td>\n",
        "      <td>Michael</td>\n",
        "      <td>berkeley</td>\n",
        "      <td>2009</td>\n",
        "    </tr>\n",
        "    <tr>\n",
        "      <th>4</th>\n",
        "      <td>http://history.archives.mbl.edu/concepts/locat...</td>\n",
        "      <td>Grieco</td>\n",
        "      <td>http://history.archives.mbl.edu/concepts/perso...</td>\n",
        "      <td>Theresa</td>\n",
        "      <td>berkeley</td>\n",
        "      <td>2009</td>\n",
        "    </tr>\n",
        "  </tbody>\n",
        "</table>\n",
        "</div>"
       ],
       "metadata": {},
       "output_type": "pyout",
       "prompt_number": 105,
       "text": [
        "                                        Location URI Last Name  \\\n",
        "0  http://history.archives.mbl.edu/concepts/locat...      Pell   \n",
        "1  http://history.archives.mbl.edu/concepts/locat...     Bryan   \n",
        "2  http://history.archives.mbl.edu/concepts/locat...  Gardiner   \n",
        "3  http://history.archives.mbl.edu/concepts/locat...    Levine   \n",
        "4  http://history.archives.mbl.edu/concepts/locat...    Grieco   \n",
        "\n",
        "                                          Person URI First Name  Location  \\\n",
        "0  http://history.archives.mbl.edu/concepts/perso...   Jonathan    denver   \n",
        "1  http://history.archives.mbl.edu/concepts/perso...      Susan    irvine   \n",
        "2  http://history.archives.mbl.edu/concepts/perso...      David    irvine   \n",
        "3  http://history.archives.mbl.edu/concepts/perso...    Michael  berkeley   \n",
        "4  http://history.archives.mbl.edu/concepts/perso...    Theresa  berkeley   \n",
        "\n",
        "   Year  \n",
        "0  2009  \n",
        "1  2009  \n",
        "2  2009  \n",
        "3  2009  \n",
        "4  2009  "
       ]
      }
     ],
     "prompt_number": 105
    },
    {
     "cell_type": "code",
     "collapsed": false,
     "input": [
      "affiliations_raw = []\n",
      "for i in xrange(len(aff)):\n",
      "    a = aff[i]\n",
      "    for x in xrange(len(a)):\n",
      "        affiliations_raw.append((aff_uris[i][x], lastname[i], year[i], firstname[i], name_uri[i], position[i], aff[i][x]))"
     ],
     "language": "python",
     "metadata": {},
     "outputs": [],
     "prompt_number": 106
    },
    {
     "cell_type": "code",
     "collapsed": false,
     "input": [
      "# Institution URI,Last Name,Year,First Name,Person URI,Position,Institution\n",
      "affiliations_wes = pd.DataFrame(data=affiliations_raw, \n",
      "                                 columns=['Institution URI', 'Last Name', 'Year', 'First Name', \n",
      "                                          'Person URI', 'Position', 'Institution'])"
     ],
     "language": "python",
     "metadata": {},
     "outputs": [],
     "prompt_number": 107
    },
    {
     "cell_type": "code",
     "collapsed": false,
     "input": [
      "role = []\n",
      "year = []\n",
      "name = []\n",
      "aff = []\n",
      "loc = []\n",
      "for df, years in zip([investigators_2012, investigators_2013], [2012, 2013]):\n",
      "    role += [strip_clean(r) for r in df['Role']]\n",
      "    year += [years]*len(role)\n",
      "    name += zip(df['Last Name'], df['First Name'])\n",
      "    aff += [normalized_institutions(i) for i in df['Affiliation']]\n",
      "    loc += [strip_nopunc(l) for l in df['Location'].values]\n",
      "    \n",
      "name, name_uri = zip(*[normalized_person(n[0], n[1]) for n in name])\n",
      "lastname, firstname = zip(*name)\n",
      "lastname = [n.title() for n in lastname]\n",
      "firstname = [n.title() for n in firstname]\n",
      "role = [r.title() for r in role]\n",
      "aff_uris = [[institution_ids[i] for i in ai] for ai in aff]\n",
      "loc_uris = [get_location_uri(l) for l in loc]\n",
      "aff = [[a.title() for a in ai] for ai in aff]\n",
      "position = ['']*len(aff)"
     ],
     "language": "python",
     "metadata": {},
     "outputs": [],
     "prompt_number": 108
    },
    {
     "cell_type": "code",
     "collapsed": false,
     "input": [
      "affiliations_raw = []\n",
      "for i in xrange(len(aff)):\n",
      "    a = aff[i]\n",
      "    for x in xrange(len(a)):\n",
      "        affiliations_raw.append((aff_uris[i][x], lastname[i], year[i], firstname[i], name_uri[i], position[i], aff[i][x]))"
     ],
     "language": "python",
     "metadata": {},
     "outputs": [],
     "prompt_number": 109
    },
    {
     "cell_type": "code",
     "collapsed": false,
     "input": [
      "print len(affiliations_wes),\n",
      "affiliations_wes = affiliations_wes.append(pd.DataFrame(data=affiliations_raw, \n",
      "                                           columns=['Institution URI', 'Last Name', 'Year', 'First Name', \n",
      "                                                  'Person URI', 'Position', 'Institution']))\n",
      "print len(affiliations_wes)"
     ],
     "language": "python",
     "metadata": {},
     "outputs": [
      {
       "output_type": "stream",
       "stream": "stdout",
       "text": [
        "6863 7243\n"
       ]
      }
     ],
     "prompt_number": 110
    },
    {
     "cell_type": "code",
     "collapsed": false,
     "input": [
      "affiliations_wes[:5]"
     ],
     "language": "python",
     "metadata": {},
     "outputs": [
      {
       "html": [
        "<div style=\"max-width:1500px;overflow:auto;\">\n",
        "<table border=\"1\" class=\"dataframe\">\n",
        "  <thead>\n",
        "    <tr style=\"text-align: right;\">\n",
        "      <th></th>\n",
        "      <th>Institution URI</th>\n",
        "      <th>Last Name</th>\n",
        "      <th>Year</th>\n",
        "      <th>First Name</th>\n",
        "      <th>Person URI</th>\n",
        "      <th>Position</th>\n",
        "      <th>Institution</th>\n",
        "    </tr>\n",
        "  </thead>\n",
        "  <tbody>\n",
        "    <tr>\n",
        "      <th>0</th>\n",
        "      <td>http://history.archives.mbl.edu/concepts/insti...</td>\n",
        "      <td>Elmendorf</td>\n",
        "      <td>2009</td>\n",
        "      <td>Heidi</td>\n",
        "      <td>http://history.archives.mbl.edu/concepts/perso...</td>\n",
        "      <td></td>\n",
        "      <td>Georgetown University</td>\n",
        "    </tr>\n",
        "    <tr>\n",
        "      <th>1</th>\n",
        "      <td>http://history.archives.mbl.edu/concepts/insti...</td>\n",
        "      <td>Goldberg</td>\n",
        "      <td>2009</td>\n",
        "      <td>Daniel</td>\n",
        "      <td>http://history.archives.mbl.edu/concepts/perso...</td>\n",
        "      <td></td>\n",
        "      <td>Washington University In St Louis School Of Me...</td>\n",
        "    </tr>\n",
        "    <tr>\n",
        "      <th>2</th>\n",
        "      <td>http://history.archives.mbl.edu/concepts/insti...</td>\n",
        "      <td>Belkaid</td>\n",
        "      <td>2009</td>\n",
        "      <td>Yasmine</td>\n",
        "      <td>http://history.archives.mbl.edu/concepts/perso...</td>\n",
        "      <td></td>\n",
        "      <td>National Institutes Of Health</td>\n",
        "    </tr>\n",
        "    <tr>\n",
        "      <th>3</th>\n",
        "      <td>http://history.archives.mbl.edu/concepts/insti...</td>\n",
        "      <td>Deitsch</td>\n",
        "      <td>2009</td>\n",
        "      <td>Kirk</td>\n",
        "      <td>http://history.archives.mbl.edu/concepts/perso...</td>\n",
        "      <td></td>\n",
        "      <td>Weill Medical College Of Cornell University</td>\n",
        "    </tr>\n",
        "    <tr>\n",
        "      <th>4</th>\n",
        "      <td>http://history.archives.mbl.edu/concepts/insti...</td>\n",
        "      <td>Heiges</td>\n",
        "      <td>2009</td>\n",
        "      <td>Mark</td>\n",
        "      <td>http://history.archives.mbl.edu/concepts/perso...</td>\n",
        "      <td></td>\n",
        "      <td>University Of Georgia</td>\n",
        "    </tr>\n",
        "  </tbody>\n",
        "</table>\n",
        "</div>"
       ],
       "metadata": {},
       "output_type": "pyout",
       "prompt_number": 111,
       "text": [
        "                                     Institution URI  Last Name  Year  \\\n",
        "0  http://history.archives.mbl.edu/concepts/insti...  Elmendorf  2009   \n",
        "1  http://history.archives.mbl.edu/concepts/insti...   Goldberg  2009   \n",
        "2  http://history.archives.mbl.edu/concepts/insti...    Belkaid  2009   \n",
        "3  http://history.archives.mbl.edu/concepts/insti...    Deitsch  2009   \n",
        "4  http://history.archives.mbl.edu/concepts/insti...     Heiges  2009   \n",
        "\n",
        "  First Name                                         Person URI Position  \\\n",
        "0      Heidi  http://history.archives.mbl.edu/concepts/perso...            \n",
        "1     Daniel  http://history.archives.mbl.edu/concepts/perso...            \n",
        "2    Yasmine  http://history.archives.mbl.edu/concepts/perso...            \n",
        "3       Kirk  http://history.archives.mbl.edu/concepts/perso...            \n",
        "4       Mark  http://history.archives.mbl.edu/concepts/perso...            \n",
        "\n",
        "                                         Institution  \n",
        "0                              Georgetown University  \n",
        "1  Washington University In St Louis School Of Me...  \n",
        "2                      National Institutes Of Health  \n",
        "3        Weill Medical College Of Cornell University  \n",
        "4                              University Of Georgia  "
       ]
      }
     ],
     "prompt_number": 111
    },
    {
     "cell_type": "code",
     "collapsed": false,
     "input": [
      "investigators_wes = pd.DataFrame(data=zip(lastname, name_uri, firstname, role, year, ['']*len(year)),\n",
      "                                 columns=['Last Name', 'Person URI', 'First Name', 'Role', 'Year', 'Subject'])"
     ],
     "language": "python",
     "metadata": {},
     "outputs": [],
     "prompt_number": 112
    },
    {
     "cell_type": "code",
     "collapsed": false,
     "input": [
      "investigators_wes[:5]"
     ],
     "language": "python",
     "metadata": {},
     "outputs": [
      {
       "html": [
        "<div style=\"max-width:1500px;overflow:auto;\">\n",
        "<table border=\"1\" class=\"dataframe\">\n",
        "  <thead>\n",
        "    <tr style=\"text-align: right;\">\n",
        "      <th></th>\n",
        "      <th>Last Name</th>\n",
        "      <th>Person URI</th>\n",
        "      <th>First Name</th>\n",
        "      <th>Role</th>\n",
        "      <th>Year</th>\n",
        "      <th>Subject</th>\n",
        "    </tr>\n",
        "  </thead>\n",
        "  <tbody>\n",
        "    <tr>\n",
        "      <th>0</th>\n",
        "      <td>Goldman</td>\n",
        "      <td>http://history.archives.mbl.edu/concepts/perso...</td>\n",
        "      <td>Robert</td>\n",
        "      <td>Director</td>\n",
        "      <td>2012</td>\n",
        "      <td></td>\n",
        "    </tr>\n",
        "    <tr>\n",
        "      <th>1</th>\n",
        "      <td>Akkin</td>\n",
        "      <td>http://history.archives.mbl.edu/concepts/perso...</td>\n",
        "      <td>Taner</td>\n",
        "      <td>Investigator</td>\n",
        "      <td>2012</td>\n",
        "      <td></td>\n",
        "    </tr>\n",
        "    <tr>\n",
        "      <th>2</th>\n",
        "      <td>Andersen</td>\n",
        "      <td>http://history.archives.mbl.edu/concepts/perso...</td>\n",
        "      <td>Bruce</td>\n",
        "      <td>Investigator</td>\n",
        "      <td>2012</td>\n",
        "      <td></td>\n",
        "    </tr>\n",
        "    <tr>\n",
        "      <th>3</th>\n",
        "      <td>Armstrong</td>\n",
        "      <td>http://history.archives.mbl.edu/concepts/perso...</td>\n",
        "      <td>Peter</td>\n",
        "      <td>Investigator</td>\n",
        "      <td>2012</td>\n",
        "      <td></td>\n",
        "    </tr>\n",
        "    <tr>\n",
        "      <th>4</th>\n",
        "      <td>Augustine</td>\n",
        "      <td>http://history.archives.mbl.edu/concepts/perso...</td>\n",
        "      <td>George</td>\n",
        "      <td>Investigator</td>\n",
        "      <td>2012</td>\n",
        "      <td></td>\n",
        "    </tr>\n",
        "  </tbody>\n",
        "</table>\n",
        "</div>"
       ],
       "metadata": {},
       "output_type": "pyout",
       "prompt_number": 113,
       "text": [
        "   Last Name                                         Person URI First Name  \\\n",
        "0    Goldman  http://history.archives.mbl.edu/concepts/perso...     Robert   \n",
        "1      Akkin  http://history.archives.mbl.edu/concepts/perso...      Taner   \n",
        "2   Andersen  http://history.archives.mbl.edu/concepts/perso...      Bruce   \n",
        "3  Armstrong  http://history.archives.mbl.edu/concepts/perso...      Peter   \n",
        "4  Augustine  http://history.archives.mbl.edu/concepts/perso...     George   \n",
        "\n",
        "           Role  Year Subject  \n",
        "0      Director  2012          \n",
        "1  Investigator  2012          \n",
        "2  Investigator  2012          \n",
        "3  Investigator  2012          \n",
        "4  Investigator  2012          "
       ]
      }
     ],
     "prompt_number": 113
    },
    {
     "cell_type": "code",
     "collapsed": false,
     "input": [
      "# Location URI,Last Name,Person URI,First Name,Location,Year\n",
      "locations_raw = []\n",
      "for i in xrange(len(loc)):\n",
      "    if loc[i] != '' and loc[i] is not None and loc_uris[i] is not None:\n",
      "        locations_raw.append((loc_uris[i], lastname[i], name_uri[i], firstname[i], loc[i], year[i]))\n",
      "print len(locations_wes),\n",
      "locations_wes = locations_wes.append(pd.DataFrame(data=locations_raw,\n",
      "                                     columns=['Location URI', 'Last Name', 'Person URI', 'First Name', 'Location', 'Year']))\n",
      "print len(locations_wes)"
     ],
     "language": "python",
     "metadata": {},
     "outputs": [
      {
       "output_type": "stream",
       "stream": "stdout",
       "text": [
        "435 555\n"
       ]
      }
     ],
     "prompt_number": 114
    },
    {
     "cell_type": "code",
     "collapsed": false,
     "input": [
      "int('Biomedical Informatics 2012'[-4:])"
     ],
     "language": "python",
     "metadata": {},
     "outputs": [
      {
       "metadata": {},
       "output_type": "pyout",
       "prompt_number": 115,
       "text": [
        "2012"
       ]
      }
     ],
     "prompt_number": 115
    },
    {
     "cell_type": "code",
     "collapsed": false,
     "input": [
      "cg_raw = []\n",
      "for c, cg in dict(zip(cname, coursegroup)).items():\n",
      "    y = int(c[-4:])\n",
      "    curi = get_course_uri(c.lower())\n",
      "    cguri = get_coursegroup_uri(cg.lower())\n",
      "    cg_raw.append((y, curi, cguri, cg, c))"
     ],
     "language": "python",
     "metadata": {},
     "outputs": [],
     "prompt_number": 120
    },
    {
     "cell_type": "code",
     "collapsed": false,
     "input": [
      "coursegroups_wes = pd.DataFrame(data=cg_raw, columns=['Year', 'Course URI', 'Course Group URI', 'Course Group', 'Course Name'])"
     ],
     "language": "python",
     "metadata": {},
     "outputs": [],
     "prompt_number": 126
    },
    {
     "cell_type": "code",
     "collapsed": false,
     "input": [
      "coursegroups_wes[:5]"
     ],
     "language": "python",
     "metadata": {},
     "outputs": [
      {
       "html": [
        "<div style=\"max-width:1500px;overflow:auto;\">\n",
        "<table border=\"1\" class=\"dataframe\">\n",
        "  <thead>\n",
        "    <tr style=\"text-align: right;\">\n",
        "      <th></th>\n",
        "      <th>Year</th>\n",
        "      <th>Course URI</th>\n",
        "      <th>Course Group URI</th>\n",
        "      <th>Course Group</th>\n",
        "      <th>Course Name</th>\n",
        "    </tr>\n",
        "  </thead>\n",
        "  <tbody>\n",
        "    <tr>\n",
        "      <th>0</th>\n",
        "      <td>2012</td>\n",
        "      <td>http://history.archives.mbl.edu/concepts/cours...</td>\n",
        "      <td>http://history.archives.mbl.edu/concepts/cours...</td>\n",
        "      <td>Biomedical Informatics</td>\n",
        "      <td>Biomedical Informatics 2012</td>\n",
        "    </tr>\n",
        "    <tr>\n",
        "      <th>1</th>\n",
        "      <td>2010</td>\n",
        "      <td>http://history.archives.mbl.edu/concepts/cours...</td>\n",
        "      <td>http://history.archives.mbl.edu/concepts/cours...</td>\n",
        "      <td>Biology Of Parasitism</td>\n",
        "      <td>Biology Of Parasitism 2010</td>\n",
        "    </tr>\n",
        "    <tr>\n",
        "      <th>2</th>\n",
        "      <td>2009</td>\n",
        "      <td>http://history.archives.mbl.edu/concepts/cours...</td>\n",
        "      <td>http://history.archives.mbl.edu/concepts/cours...</td>\n",
        "      <td>Biomedical Informatics</td>\n",
        "      <td>Biomedical Informatics I 2009</td>\n",
        "    </tr>\n",
        "    <tr>\n",
        "      <th>3</th>\n",
        "      <td>2009</td>\n",
        "      <td>http://history.archives.mbl.edu/concepts/cours...</td>\n",
        "      <td>http://history.archives.mbl.edu/concepts/cours...</td>\n",
        "      <td>Workshop On Molecular Evolution</td>\n",
        "      <td>Workshop On Molecular Evolution 2009</td>\n",
        "    </tr>\n",
        "    <tr>\n",
        "      <th>4</th>\n",
        "      <td>2009</td>\n",
        "      <td>http://history.archives.mbl.edu/concepts/cours...</td>\n",
        "      <td>http://history.archives.mbl.edu/concepts/cours...</td>\n",
        "      <td>Biomedical Informatics</td>\n",
        "      <td>Biomedical Informatics Ii 2009</td>\n",
        "    </tr>\n",
        "  </tbody>\n",
        "</table>\n",
        "</div>"
       ],
       "metadata": {},
       "output_type": "pyout",
       "prompt_number": 127,
       "text": [
        "   Year                                         Course URI  \\\n",
        "0  2012  http://history.archives.mbl.edu/concepts/cours...   \n",
        "1  2010  http://history.archives.mbl.edu/concepts/cours...   \n",
        "2  2009  http://history.archives.mbl.edu/concepts/cours...   \n",
        "3  2009  http://history.archives.mbl.edu/concepts/cours...   \n",
        "4  2009  http://history.archives.mbl.edu/concepts/cours...   \n",
        "\n",
        "                                    Course Group URI  \\\n",
        "0  http://history.archives.mbl.edu/concepts/cours...   \n",
        "1  http://history.archives.mbl.edu/concepts/cours...   \n",
        "2  http://history.archives.mbl.edu/concepts/cours...   \n",
        "3  http://history.archives.mbl.edu/concepts/cours...   \n",
        "4  http://history.archives.mbl.edu/concepts/cours...   \n",
        "\n",
        "                      Course Group                           Course Name  \n",
        "0           Biomedical Informatics           Biomedical Informatics 2012  \n",
        "1            Biology Of Parasitism            Biology Of Parasitism 2010  \n",
        "2           Biomedical Informatics         Biomedical Informatics I 2009  \n",
        "3  Workshop On Molecular Evolution  Workshop On Molecular Evolution 2009  \n",
        "4           Biomedical Informatics        Biomedical Informatics Ii 2009  "
       ]
      }
     ],
     "prompt_number": 127
    },
    {
     "cell_type": "code",
     "collapsed": false,
     "input": [
      "coursegroups[:5]"
     ],
     "language": "python",
     "metadata": {},
     "outputs": [
      {
       "html": [
        "<div style=\"max-width:1500px;overflow:auto;\">\n",
        "<table border=\"1\" class=\"dataframe\">\n",
        "  <thead>\n",
        "    <tr style=\"text-align: right;\">\n",
        "      <th></th>\n",
        "      <th>Year</th>\n",
        "      <th>Course URI</th>\n",
        "      <th>Course Group URI</th>\n",
        "      <th>Course Group</th>\n",
        "      <th>Course Name</th>\n",
        "    </tr>\n",
        "  </thead>\n",
        "  <tbody>\n",
        "    <tr>\n",
        "      <th>0</th>\n",
        "      <td>1890</td>\n",
        "      <td>http://history.archives.mbl.edu/concepts/cours...</td>\n",
        "      <td>http://history.archives.mbl.edu/concepts/cours...</td>\n",
        "      <td>Coelenterates</td>\n",
        "      <td>Coelenterates 1890</td>\n",
        "    </tr>\n",
        "    <tr>\n",
        "      <th>1</th>\n",
        "      <td>1891</td>\n",
        "      <td>http://history.archives.mbl.edu/concepts/cours...</td>\n",
        "      <td>http://history.archives.mbl.edu/concepts/cours...</td>\n",
        "      <td>Botany</td>\n",
        "      <td>Botany 1891</td>\n",
        "    </tr>\n",
        "    <tr>\n",
        "      <th>2</th>\n",
        "      <td>1891</td>\n",
        "      <td>http://history.archives.mbl.edu/concepts/cours...</td>\n",
        "      <td>http://history.archives.mbl.edu/concepts/cours...</td>\n",
        "      <td>Zoology</td>\n",
        "      <td>Zoology 1891</td>\n",
        "    </tr>\n",
        "    <tr>\n",
        "      <th>3</th>\n",
        "      <td>1892</td>\n",
        "      <td>http://history.archives.mbl.edu/concepts/cours...</td>\n",
        "      <td>http://history.archives.mbl.edu/concepts/cours...</td>\n",
        "      <td>Botany</td>\n",
        "      <td>Botany 1892</td>\n",
        "    </tr>\n",
        "    <tr>\n",
        "      <th>4</th>\n",
        "      <td>1892</td>\n",
        "      <td>http://history.archives.mbl.edu/concepts/cours...</td>\n",
        "      <td>http://history.archives.mbl.edu/concepts/cours...</td>\n",
        "      <td>Embryology</td>\n",
        "      <td>Embryology 1892</td>\n",
        "    </tr>\n",
        "  </tbody>\n",
        "</table>\n",
        "</div>"
       ],
       "metadata": {},
       "output_type": "pyout",
       "prompt_number": 128,
       "text": [
        "   Year                                         Course URI  \\\n",
        "0  1890  http://history.archives.mbl.edu/concepts/cours...   \n",
        "1  1891  http://history.archives.mbl.edu/concepts/cours...   \n",
        "2  1891  http://history.archives.mbl.edu/concepts/cours...   \n",
        "3  1892  http://history.archives.mbl.edu/concepts/cours...   \n",
        "4  1892  http://history.archives.mbl.edu/concepts/cours...   \n",
        "\n",
        "                                    Course Group URI   Course Group  \\\n",
        "0  http://history.archives.mbl.edu/concepts/cours...  Coelenterates   \n",
        "1  http://history.archives.mbl.edu/concepts/cours...         Botany   \n",
        "2  http://history.archives.mbl.edu/concepts/cours...        Zoology   \n",
        "3  http://history.archives.mbl.edu/concepts/cours...         Botany   \n",
        "4  http://history.archives.mbl.edu/concepts/cours...     Embryology   \n",
        "\n",
        "          Course Name  \n",
        "0  Coelenterates 1890  \n",
        "1         Botany 1891  \n",
        "2        Zoology 1891  \n",
        "3         Botany 1892  \n",
        "4     Embryology 1892  "
       ]
      }
     ],
     "prompt_number": 128
    },
    {
     "cell_type": "code",
     "collapsed": false,
     "input": [
      "affiliations_combined = affiliations.append(affiliations_wes)\n",
      "attendance_combined = attendance.append(attendance_wes)\n",
      "coursegroups_combined = coursegroups.append(coursegroups_wes)\n",
      "investigators_combined = investigators.append(investigators_wes)\n",
      "locations_combined = locations.append(locations_wes)"
     ],
     "language": "python",
     "metadata": {},
     "outputs": [],
     "prompt_number": 129
    },
    {
     "cell_type": "code",
     "collapsed": false,
     "input": [
      "print len(affiliations), len(affiliations_combined)\n",
      "print len(attendance), len(attendance_combined)\n",
      "print len(coursegroups), len(coursegroups_combined)\n",
      "print len(investigators), len(investigators_combined)\n",
      "print len(locations), len(locations_combined)"
     ],
     "language": "python",
     "metadata": {},
     "outputs": [
      {
       "output_type": "stream",
       "stream": "stdout",
       "text": [
        "52500 59743\n",
        "46909 53584\n",
        "1095 1201\n",
        "7996 8374\n",
        "47248 47803\n"
       ]
      }
     ],
     "prompt_number": 132
    },
    {
     "cell_type": "markdown",
     "metadata": {},
     "source": [
      "# Summary"
     ]
    },
    {
     "cell_type": "code",
     "collapsed": false,
     "input": [
      "import matplotlib.pyplot as plt"
     ],
     "language": "python",
     "metadata": {},
     "outputs": [],
     "prompt_number": 144
    },
    {
     "cell_type": "code",
     "collapsed": false,
     "input": [
      "%pylab inline"
     ],
     "language": "python",
     "metadata": {},
     "outputs": [
      {
       "output_type": "stream",
       "stream": "stdout",
       "text": [
        "Populating the interactive namespace from numpy and matplotlib\n"
       ]
      },
      {
       "output_type": "stream",
       "stream": "stderr",
       "text": [
        "WARNING: pylab import has clobbered these variables: ['f', 'mean']\n",
        "`%matplotlib` prevents importing * from pylab and numpy\n"
       ]
      }
     ],
     "prompt_number": 152
    },
    {
     "cell_type": "code",
     "collapsed": false,
     "input": [
      "locations_finite = locations_combined[pd.notnull(locations_combined['Location'])]"
     ],
     "language": "python",
     "metadata": {},
     "outputs": [],
     "prompt_number": 140
    },
    {
     "cell_type": "code",
     "collapsed": false,
     "input": [
      "plt.bar(locations_finite.Year.value_counts().index, locations_finite.Year.value_counts().values)"
     ],
     "language": "python",
     "metadata": {},
     "outputs": [
      {
       "metadata": {},
       "output_type": "pyout",
       "prompt_number": 153,
       "text": [
        "<Container object of 119 artists>"
       ]
      },
      {
       "metadata": {},
       "output_type": "display_data",
       "png": "[encoded data removed]",
       "text": [
        "<matplotlib.figure.Figure at 0x115e302d0>"
       ]
      }
     ],
     "prompt_number": 153
    },
    {
     "cell_type": "code",
     "collapsed": false,
     "input": [
      "plt.bar(attendance_combined.Year.value_counts().index, attendance_combined.Year.value_counts().values)"
     ],
     "language": "python",
     "metadata": {},
     "outputs": [
      {
       "metadata": {},
       "output_type": "pyout",
       "prompt_number": 154,
       "text": [
        "<Container object of 122 artists>"
       ]
      },
      {
       "metadata": {},
       "output_type": "display_data",
       "png": "[encoded data removed]",
       "text": [
        "<matplotlib.figure.Figure at 0x1140a3490>"
       ]
      }
     ],
     "prompt_number": 154
    },
    {
     "cell_type": "code",
     "collapsed": false,
     "input": [
      "plt.bar(affiliations_combined.Year.value_counts().index, affiliations_combined.Year.value_counts().values)"
     ],
     "language": "python",
     "metadata": {},
     "outputs": [
      {
       "metadata": {},
       "output_type": "pyout",
       "prompt_number": 155,
       "text": [
        "<Container object of 124 artists>"
       ]
      },
      {
       "metadata": {},
       "output_type": "display_data",
       "png": "[encoded data removed]",
       "text": [
        "<matplotlib.figure.Figure at 0x116487450>"
       ]
      }
     ],
     "prompt_number": 155
    },
    {
     "cell_type": "code",
     "collapsed": false,
     "input": [],
     "language": "python",
     "metadata": {},
     "outputs": []
    }
   ],
   "metadata": {}
  }
 ]
}