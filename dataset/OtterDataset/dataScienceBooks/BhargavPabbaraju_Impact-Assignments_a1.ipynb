{
 "cells": [
  {
   "cell_type": "markdown",
   "id": "d33b51c3-7905-4bf7-95ca-ba00a7159112",
   "metadata": {},
   "source": [
    "# Q1. Create one variable containing following type of data:"
   ]
  },
  {
   "cell_type": "code",
   "execution_count": null,
   "id": "cd2061a1-1d01-438d-bdb6-d4d4cb29a476",
   "metadata": {},
   "outputs": [],
   "source": [
    "#(i) string\n",
    "name = 'bhargav'"
   ]
  },
  {
   "cell_type": "code",
   "execution_count": 7,
   "id": "40dff9ed-6911-438a-9eb7-eef03ce6ff8c",
   "metadata": {},
   "outputs": [],
   "source": [
    "#(ii) list\n",
    "courses = ['data science' , 'full stack' , 'data analytics' , 'C++']"
   ]
  },
  {
   "cell_type": "code",
   "execution_count": 4,
   "id": "6bd65540-c242-49c4-89a0-f0e89bb05a81",
   "metadata": {},
   "outputs": [],
   "source": [
    "#(iii) float\n",
    "pi = 3.14"
   ]
  },
  {
   "cell_type": "code",
   "execution_count": 5,
   "id": "3bb7927c-d7b2-4189-9992-9f42eec707d8",
   "metadata": {},
   "outputs": [],
   "source": [
    "#(iv) tuple\n",
    "point = (200,250)"
   ]
  },
  {
   "cell_type": "markdown",
   "id": "922065c0-a65e-48cb-b07c-4a5aad8d1f2d",
   "metadata": {},
   "source": [
    "# Q2. Given are some following variables containing data:"
   ]
  },
  {
   "cell_type": "markdown",
   "id": "2e767a5b-d784-4a0e-b108-7e50575b9178",
   "metadata": {},
   "source": [
    "## (i) var1 = ‘ ‘\n",
    "The type will be string"
   ]
  },
  {
   "cell_type": "markdown",
   "id": "0ed7a399-14fa-4a77-81ab-e462d5307037",
   "metadata": {},
   "source": [
    "## (ii) var2 = ‘[ DS , ML , Python]’\n",
    "The type will be string"
   ]
  },
  {
   "cell_type": "markdown",
   "id": "7fae876b-0d05-4c5d-ba71-1d0ef3f664cb",
   "metadata": {},
   "source": [
    "## (iii) var3 = [ ‘DS’ , ’ML’ , ‘Python’ ]\n",
    "The type will be list"
   ]
  },
  {
   "cell_type": "markdown",
   "id": "abea4d0f-6421-472c-b34c-afb8e2898695",
   "metadata": {},
   "source": [
    "## (iv) var4 = 1.\n",
    "The type will be float"
   ]
  },
  {
   "cell_type": "markdown",
   "id": "36ad4b74-97bd-41a1-86be-e149c5a32d14",
   "metadata": {},
   "source": [
    "# Q3. Explain the use of the following operators using an example:\n",
    "(i) / - This is a floating point division operator , a/b gives the quotient when a is divided by b including decimal values"
   ]
  },
  {
   "cell_type": "code",
   "execution_count": 8,
   "id": "22207ecc-61a5-49e8-a6f0-ab0fca985569",
   "metadata": {},
   "outputs": [
    {
     "data": {
      "text/plain": [
       "1.5"
      ]
     },
     "execution_count": 8,
     "metadata": {},
     "output_type": "execute_result"
    }
   ],
   "source": [
    "#Example:\n",
    "3/2"
   ]
  },
  {
   "cell_type": "markdown",
   "id": "081d2dd8-f9ed-4553-bd9c-31b74461427e",
   "metadata": {},
   "source": [
    "(ii) % - This is the modulus operator , a%b gives the remainder when a is divided by b"
   ]
  },
  {
   "cell_type": "code",
   "execution_count": 9,
   "id": "64678149-f542-4d5b-8f6e-007eff955944",
   "metadata": {},
   "outputs": [
    {
     "data": {
      "text/plain": [
       "2"
      ]
     },
     "execution_count": 9,
     "metadata": {},
     "output_type": "execute_result"
    }
   ],
   "source": [
    "#Example:\n",
    "5%3"
   ]
  },
  {
   "cell_type": "markdown",
   "id": "e3ce6d83-3bca-430b-af83-250875e95812",
   "metadata": {},
   "source": [
    "(iii) // - This is the integer division operator , a//b gives the quotient when a is divided by b but ignores decimal values"
   ]
  },
  {
   "cell_type": "code",
   "execution_count": 13,
   "id": "258a8879-2132-4b8f-85ca-e6f5e953bf88",
   "metadata": {},
   "outputs": [
    {
     "data": {
      "text/plain": [
       "8"
      ]
     },
     "execution_count": 13,
     "metadata": {},
     "output_type": "execute_result"
    }
   ],
   "source": [
    "#Example:\n",
    "2**3"
   ]
  },
  {
   "cell_type": "markdown",
   "id": "8ad712d2-3f58-48fa-8996-6eb11ea2c83e",
   "metadata": {},
   "source": [
    "(iv) ** - This is the exponent operator , a**b gives the value of a raised to the power of b"
   ]
  },
  {
   "cell_type": "code",
   "execution_count": 13,
   "id": "2d38a95a",
   "metadata": {},
   "outputs": [
    {
     "data": {
      "text/plain": [
       "8"
      ]
     },
     "execution_count": 13,
     "metadata": {},
     "output_type": "execute_result"
    }
   ],
   "source": [
    "#Example:\n",
    "2**3"
   ]
  },
  {
   "cell_type": "markdown",
   "id": "3e4ce8f1-c527-416c-b35a-de71cde03639",
   "metadata": {},
   "source": [
    "# Q4. Create a list of length 10 of your choice containing multiple types of data. Using for loop print the element and its data type."
   ]
  },
  {
   "cell_type": "code",
   "execution_count": 14,
   "id": "98612803-15dc-4ca7-bb21-68e075a3e030",
   "metadata": {},
   "outputs": [
    {
     "data": {
      "text/plain": [
       "10"
      ]
     },
     "execution_count": 14,
     "metadata": {},
     "output_type": "execute_result"
    }
   ],
   "source": [
    "a = [1,'abc',2,3.5,1+3j,True,(9,0),{1,2},{1:2,2:3},[12,13,14]]\n",
    "len(a)"
   ]
  },
  {
   "cell_type": "code",
   "execution_count": 18,
   "id": "b491c869-28db-4475-a380-5cc3261e084d",
   "metadata": {},
   "outputs": [
    {
     "name": "stdout",
     "output_type": "stream",
     "text": [
      "1 <class 'int'>\n",
      "abc <class 'str'>\n",
      "2 <class 'int'>\n",
      "3.5 <class 'float'>\n",
      "(1+3j) <class 'complex'>\n",
      "True <class 'bool'>\n",
      "(9, 0) <class 'tuple'>\n",
      "{1, 2} <class 'set'>\n",
      "{1: 2, 2: 3} <class 'dict'>\n",
      "[12, 13, 14] <class 'list'>\n"
     ]
    }
   ],
   "source": [
    "for i in a:\n",
    "    print(i,type(i))"
   ]
  },
  {
   "cell_type": "markdown",
   "id": "e16bc671-d189-45de-9637-c7ea0d70961b",
   "metadata": {},
   "source": [
    "# Q5. Using a while loop, verify if the number A is purely divisible by number B and if so then how many times it can be divisible."
   ]
  },
  {
   "cell_type": "code",
   "execution_count": 23,
   "id": "0a211e99-d723-497c-b366-b8c10df83405",
   "metadata": {},
   "outputs": [
    {
     "name": "stdin",
     "output_type": "stream",
     "text": [
      "Enter a 625\n",
      "Enter b 5\n"
     ]
    },
    {
     "name": "stdout",
     "output_type": "stream",
     "text": [
      "625 is divisible by 5 4 times\n"
     ]
    }
   ],
   "source": [
    "a=int(input('Enter a'))\n",
    "b=int(input('Enter b'))\n",
    "times = 0\n",
    "v=a\n",
    "while a>0:\n",
    "    if a%b==0:\n",
    "        a=a//b\n",
    "        times+=1\n",
    "    else:\n",
    "        break\n",
    "        \n",
    "if times>0:\n",
    "    print(v,'is divisible by',b,times,'times')\n",
    "else:\n",
    "    print(v,'is not divisible by',b)"
   ]
  },
  {
   "cell_type": "markdown",
   "id": "bb428dec-cd91-49b6-8a70-0a8875edda92",
   "metadata": {},
   "source": [
    "# Q6. Create a list containing 25 int type data. Using for loop and if-else condition print if the element is divisible by 3 or not."
   ]
  },
  {
   "cell_type": "code",
   "execution_count": 24,
   "id": "b11e067d-cec1-4d9c-a5b9-ef752289bd18",
   "metadata": {},
   "outputs": [
    {
     "name": "stdout",
     "output_type": "stream",
     "text": [
      "The list has 25 numbers\n",
      "31 is not divisible by 3\n",
      "76 is not divisible by 3\n",
      "62 is not divisible by 3\n",
      "23 is not divisible by 3\n",
      "28 is not divisible by 3\n",
      "68 is not divisible by 3\n",
      "50 is not divisible by 3\n",
      "17 is not divisible by 3\n",
      "38 is not divisible by 3\n",
      "66 is divisible by 3\n",
      "37 is not divisible by 3\n",
      "55 is not divisible by 3\n",
      "77 is not divisible by 3\n",
      "40 is not divisible by 3\n",
      "56 is not divisible by 3\n",
      "29 is not divisible by 3\n",
      "96 is divisible by 3\n",
      "58 is not divisible by 3\n",
      "4 is not divisible by 3\n",
      "20 is not divisible by 3\n",
      "32 is not divisible by 3\n",
      "100 is not divisible by 3\n",
      "73 is not divisible by 3\n",
      "72 is divisible by 3\n",
      "89 is not divisible by 3\n"
     ]
    }
   ],
   "source": [
    "a = [31,76,62,23,28,68,50,17,38,66,37,55,77,40,56,29,96,58,4,20,32,100,73,72,89]\n",
    "print('The list has',len(a),'numbers')\n",
    "for i in a:\n",
    "    if i%3==0:\n",
    "        print(i,'is divisible by 3')\n",
    "    else:\n",
    "        print(i,'is not divisible by 3')\n",
    "    "
   ]
  },
  {
   "cell_type": "markdown",
   "id": "9310c6d7-b7f0-4740-a32c-f95df16f6810",
   "metadata": {},
   "source": [
    "# Q7. What do you understand about mutable and immutable data types? Give examples for both showing this property.\n",
    "\n",
    "Mutable data types means their values can be modified at anytime. For example , list are mutable.\n",
    "Immutable data types means their values cannot be modified in place once assigned. They can be e For example, strings and tuples are immutable."
   ]
  },
  {
   "cell_type": "code",
   "execution_count": 25,
   "id": "501de2f6-06e3-4e8e-a07b-c8f76eb4706e",
   "metadata": {},
   "outputs": [
    {
     "name": "stdout",
     "output_type": "stream",
     "text": [
      "[1, 2, 3, 4]\n",
      "[5, 2, 3, 4]\n"
     ]
    }
   ],
   "source": [
    "#Example For Mutable\n",
    "a=[1,2,3,4]\n",
    "print(a)\n",
    "a[0]=5\n",
    "print(a)"
   ]
  },
  {
   "cell_type": "code",
   "execution_count": 26,
   "id": "88adf3e5-dd54-448f-b823-730ba0fe4d7b",
   "metadata": {},
   "outputs": [
    {
     "name": "stdout",
     "output_type": "stream",
     "text": [
      "(1, 2, 3, 4)\n"
     ]
    },
    {
     "ename": "TypeError",
     "evalue": "'tuple' object does not support item assignment",
     "output_type": "error",
     "traceback": [
      "\u001b[0;31m---------------------------------------------------------------------------\u001b[0m",
      "\u001b[0;31mTypeError\u001b[0m                                 Traceback (most recent call last)",
      "Cell \u001b[0;32mIn[26], line 4\u001b[0m\n\u001b[1;32m      2\u001b[0m a\u001b[38;5;241m=\u001b[39m(\u001b[38;5;241m1\u001b[39m,\u001b[38;5;241m2\u001b[39m,\u001b[38;5;241m3\u001b[39m,\u001b[38;5;241m4\u001b[39m)\n\u001b[1;32m      3\u001b[0m \u001b[38;5;28mprint\u001b[39m(a)\n\u001b[0;32m----> 4\u001b[0m \u001b[43ma\u001b[49m\u001b[43m[\u001b[49m\u001b[38;5;241;43m0\u001b[39;49m\u001b[43m]\u001b[49m\u001b[38;5;241m=\u001b[39m\u001b[38;5;241m5\u001b[39m\n",
      "\u001b[0;31mTypeError\u001b[0m: 'tuple' object does not support item assignment"
     ]
    }
   ],
   "source": [
    "#Example For Immutable\n",
    "a=(1,2,3,4)\n",
    "print(a)\n",
    "a[0]=5"
   ]
  },
  {
   "cell_type": "code",
   "execution_count": null,
   "id": "49051e6c-87e6-47df-9afd-4a17399713b3",
   "metadata": {},
   "outputs": [],
   "source": []
  }
 ],
 "metadata": {
  "kernelspec": {
   "display_name": "Python 3 (ipykernel)",
   "language": "python",
   "name": "python3"
  },
  "language_info": {
   "codemirror_mode": {
    "name": "ipython",
    "version": 3
   },
   "file_extension": ".py",
   "mimetype": "text/x-python",
   "name": "python",
   "nbconvert_exporter": "python",
   "pygments_lexer": "ipython3",
   "version": "3.10.8"
  }
 },
 "nbformat": 4,
 "nbformat_minor": 5
}
