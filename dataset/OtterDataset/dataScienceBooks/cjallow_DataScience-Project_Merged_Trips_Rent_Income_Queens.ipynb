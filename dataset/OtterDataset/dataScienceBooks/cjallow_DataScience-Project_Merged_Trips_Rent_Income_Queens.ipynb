{
 "cells": [
  {
   "cell_type": "code",
   "execution_count": 1,
   "metadata": {
    "collapsed": true
   },
   "outputs": [],
   "source": [
    "# special IPython command to prepare the notebook for matplotlib\n",
    "%matplotlib inline \n",
    "\n",
    "import numpy as np\n",
    "import pandas as pd\n",
    "import matplotlib.pyplot as plt\n",
    "import geopandas as gpd\n",
    "from shapely import geometry as geom\n",
    "import plotly.plotly as py\n",
    "\n",
    "#added this because it's indicated as useful but not imported\n",
    "import urllib\n",
    "from zipfile import ZipFile\n",
    "from io import BytesIO\n",
    "import os\n",
    "import json\n",
    "from bs4 import BeautifulSoup as bs\n",
    "import re\n",
    "\n",
    "from matplotlib import animation, rc\n",
    "from IPython.display import display, HTML"
   ]
  },
  {
   "cell_type": "code",
   "execution_count": 2,
   "metadata": {
    "collapsed": false
   },
   "outputs": [],
   "source": [
    "QN_Trip11 = pd.read_csv('data/QN_Trips11.csv',keep_default_na=False, na_values=[\"\"],index_col=0)\n",
    "QN_Trip11.reset_index(drop=True, inplace=True)\n",
    "\n",
    "QN_Trip12 = pd.read_csv('data/QN_Trips12.csv',keep_default_na=False, na_values=[\"\"],index_col=0)\n",
    "QN_Trip12.reset_index(drop=True, inplace=True)\n",
    "\n",
    "QN_Trip13 = pd.read_csv('data/QN_Trips13.csv',keep_default_na=False, na_values=[\"\"],index_col=0)\n",
    "QN_Trip13.reset_index(drop=True, inplace=True)\n",
    "\n",
    "\n",
    "QN_Trip14 = pd.read_csv('data/QN_Trips14.csv',keep_default_na=False, na_values=[\"\"],index_col=0)\n",
    "QN_Trip14.reset_index(drop=True, inplace=True)\n",
    "\n",
    "QN_trips = [QN_Trip11,QN_Trip12,QN_Trip13,QN_Trip14]\n",
    "Trips = pd.concat(QN_trips)"
   ]
  },
  {
   "cell_type": "code",
   "execution_count": 3,
   "metadata": {
    "collapsed": false
   },
   "outputs": [
    {
     "data": {
      "text/html": [
       "<div>\n",
       "<table border=\"1\" class=\"dataframe\">\n",
       "  <thead>\n",
       "    <tr style=\"text-align: right;\">\n",
       "      <th></th>\n",
       "      <th>trips</th>\n",
       "      <th>ZIP</th>\n",
       "      <th>year</th>\n",
       "    </tr>\n",
       "  </thead>\n",
       "  <tbody>\n",
       "    <tr>\n",
       "      <th>0</th>\n",
       "      <td>167</td>\n",
       "      <td>11372</td>\n",
       "      <td>2011</td>\n",
       "    </tr>\n",
       "    <tr>\n",
       "      <th>1</th>\n",
       "      <td>7</td>\n",
       "      <td>11004</td>\n",
       "      <td>2011</td>\n",
       "    </tr>\n",
       "    <tr>\n",
       "      <th>2</th>\n",
       "      <td>0</td>\n",
       "      <td>11040</td>\n",
       "      <td>2011</td>\n",
       "    </tr>\n",
       "    <tr>\n",
       "      <th>3</th>\n",
       "      <td>8</td>\n",
       "      <td>11426</td>\n",
       "      <td>2011</td>\n",
       "    </tr>\n",
       "    <tr>\n",
       "      <th>4</th>\n",
       "      <td>20</td>\n",
       "      <td>11365</td>\n",
       "      <td>2011</td>\n",
       "    </tr>\n",
       "  </tbody>\n",
       "</table>\n",
       "</div>"
      ],
      "text/plain": [
       "   trips    ZIP  year\n",
       "0    167  11372  2011\n",
       "1      7  11004  2011\n",
       "2      0  11040  2011\n",
       "3      8  11426  2011\n",
       "4     20  11365  2011"
      ]
     },
     "execution_count": 3,
     "metadata": {},
     "output_type": "execute_result"
    }
   ],
   "source": [
    "Trips.head()"
   ]
  },
  {
   "cell_type": "code",
   "execution_count": 4,
   "metadata": {
    "collapsed": true
   },
   "outputs": [],
   "source": [
    "Trips.to_csv('data/QN_Trips.csv')"
   ]
  },
  {
   "cell_type": "code",
   "execution_count": 5,
   "metadata": {
    "collapsed": true
   },
   "outputs": [],
   "source": [
    "#income_df = pd.read_csv('data/incomeDF.csv',index_col=0, keep_default_na=False, na_values=[\"\"])"
   ]
  },
  {
   "cell_type": "code",
   "execution_count": 6,
   "metadata": {
    "collapsed": true
   },
   "outputs": [],
   "source": [
    "def test_function(df,year):\n",
    "    if year == 2014:\n",
    "        df[df.year] = 2014 \n",
    "    elif year == 2013:\n",
    "        df[df.year] = 2013\n",
    "    elif year == 2012:\n",
    "        df[df.year] = 2012\n",
    "    elif year == 2011:\n",
    "        df[df.year] = 2011\n",
    "    else:\n",
    "        return\n",
    "    return df"
   ]
  },
  {
   "cell_type": "code",
   "execution_count": 7,
   "metadata": {
    "collapsed": true
   },
   "outputs": [],
   "source": [
    "QN_Merged = pd.read_csv('data/QN_merged.csv',index_col=0, keep_default_na=False, na_values=[\"\"])"
   ]
  },
  {
   "cell_type": "code",
   "execution_count": 8,
   "metadata": {
    "collapsed": false
   },
   "outputs": [
    {
     "data": {
      "text/html": [
       "<div>\n",
       "<table border=\"1\" class=\"dataframe\">\n",
       "  <thead>\n",
       "    <tr style=\"text-align: right;\">\n",
       "      <th></th>\n",
       "      <th>total</th>\n",
       "      <th>0</th>\n",
       "      <th>10</th>\n",
       "      <th>15</th>\n",
       "      <th>20</th>\n",
       "      <th>25</th>\n",
       "      <th>30</th>\n",
       "      <th>35</th>\n",
       "      <th>40</th>\n",
       "      <th>45</th>\n",
       "      <th>...</th>\n",
       "      <th>200</th>\n",
       "      <th>ZIP</th>\n",
       "      <th>year</th>\n",
       "      <th>State</th>\n",
       "      <th>CountyName</th>\n",
       "      <th>rent0</th>\n",
       "      <th>rent1</th>\n",
       "      <th>rent2</th>\n",
       "      <th>rent3</th>\n",
       "      <th>rent4</th>\n",
       "    </tr>\n",
       "  </thead>\n",
       "  <tbody>\n",
       "    <tr>\n",
       "      <th>0</th>\n",
       "      <td>9059</td>\n",
       "      <td>244</td>\n",
       "      <td>161</td>\n",
       "      <td>156</td>\n",
       "      <td>331</td>\n",
       "      <td>232</td>\n",
       "      <td>177</td>\n",
       "      <td>397</td>\n",
       "      <td>230</td>\n",
       "      <td>247</td>\n",
       "      <td>...</td>\n",
       "      <td>1062</td>\n",
       "      <td>11001</td>\n",
       "      <td>2011</td>\n",
       "      <td>36</td>\n",
       "      <td>Queens County</td>\n",
       "      <td>1300</td>\n",
       "      <td>1390</td>\n",
       "      <td>1570</td>\n",
       "      <td>1950</td>\n",
       "      <td>2150</td>\n",
       "    </tr>\n",
       "    <tr>\n",
       "      <th>1</th>\n",
       "      <td>5131</td>\n",
       "      <td>149</td>\n",
       "      <td>221</td>\n",
       "      <td>163</td>\n",
       "      <td>130</td>\n",
       "      <td>252</td>\n",
       "      <td>271</td>\n",
       "      <td>165</td>\n",
       "      <td>109</td>\n",
       "      <td>199</td>\n",
       "      <td>...</td>\n",
       "      <td>244</td>\n",
       "      <td>11004</td>\n",
       "      <td>2011</td>\n",
       "      <td>36</td>\n",
       "      <td>Queens County</td>\n",
       "      <td>1130</td>\n",
       "      <td>1200</td>\n",
       "      <td>1360</td>\n",
       "      <td>1690</td>\n",
       "      <td>1870</td>\n",
       "    </tr>\n",
       "    <tr>\n",
       "      <th>2</th>\n",
       "      <td>1356</td>\n",
       "      <td>22</td>\n",
       "      <td>42</td>\n",
       "      <td>85</td>\n",
       "      <td>76</td>\n",
       "      <td>74</td>\n",
       "      <td>54</td>\n",
       "      <td>34</td>\n",
       "      <td>68</td>\n",
       "      <td>39</td>\n",
       "      <td>...</td>\n",
       "      <td>141</td>\n",
       "      <td>11005</td>\n",
       "      <td>2011</td>\n",
       "      <td>36</td>\n",
       "      <td>Queens County</td>\n",
       "      <td>1180</td>\n",
       "      <td>1260</td>\n",
       "      <td>1420</td>\n",
       "      <td>1760</td>\n",
       "      <td>1950</td>\n",
       "    </tr>\n",
       "    <tr>\n",
       "      <th>3</th>\n",
       "      <td>13438</td>\n",
       "      <td>230</td>\n",
       "      <td>313</td>\n",
       "      <td>281</td>\n",
       "      <td>509</td>\n",
       "      <td>499</td>\n",
       "      <td>219</td>\n",
       "      <td>455</td>\n",
       "      <td>380</td>\n",
       "      <td>344</td>\n",
       "      <td>...</td>\n",
       "      <td>1701</td>\n",
       "      <td>11040</td>\n",
       "      <td>2011</td>\n",
       "      <td>36</td>\n",
       "      <td>Queens County</td>\n",
       "      <td>1440</td>\n",
       "      <td>1530</td>\n",
       "      <td>1730</td>\n",
       "      <td>2140</td>\n",
       "      <td>2370</td>\n",
       "    </tr>\n",
       "    <tr>\n",
       "      <th>4</th>\n",
       "      <td>9910</td>\n",
       "      <td>1306</td>\n",
       "      <td>732</td>\n",
       "      <td>481</td>\n",
       "      <td>740</td>\n",
       "      <td>601</td>\n",
       "      <td>513</td>\n",
       "      <td>392</td>\n",
       "      <td>431</td>\n",
       "      <td>382</td>\n",
       "      <td>...</td>\n",
       "      <td>303</td>\n",
       "      <td>11101</td>\n",
       "      <td>2011</td>\n",
       "      <td>36</td>\n",
       "      <td>Queens County</td>\n",
       "      <td>1120</td>\n",
       "      <td>1190</td>\n",
       "      <td>1350</td>\n",
       "      <td>1670</td>\n",
       "      <td>1850</td>\n",
       "    </tr>\n",
       "  </tbody>\n",
       "</table>\n",
       "<p>5 rows × 26 columns</p>\n",
       "</div>"
      ],
      "text/plain": [
       "   total     0   10   15   20   25   30   35   40   45  ...     200    ZIP  \\\n",
       "0   9059   244  161  156  331  232  177  397  230  247  ...    1062  11001   \n",
       "1   5131   149  221  163  130  252  271  165  109  199  ...     244  11004   \n",
       "2   1356    22   42   85   76   74   54   34   68   39  ...     141  11005   \n",
       "3  13438   230  313  281  509  499  219  455  380  344  ...    1701  11040   \n",
       "4   9910  1306  732  481  740  601  513  392  431  382  ...     303  11101   \n",
       "\n",
       "   year  State     CountyName  rent0  rent1  rent2  rent3  rent4  \n",
       "0  2011     36  Queens County   1300   1390   1570   1950   2150  \n",
       "1  2011     36  Queens County   1130   1200   1360   1690   1870  \n",
       "2  2011     36  Queens County   1180   1260   1420   1760   1950  \n",
       "3  2011     36  Queens County   1440   1530   1730   2140   2370  \n",
       "4  2011     36  Queens County   1120   1190   1350   1670   1850  \n",
       "\n",
       "[5 rows x 26 columns]"
      ]
     },

     "execution_count": 8,
     "metadata": {},
     "output_type": "execute_result"
    }
   ],
   "source": [
    "QN_Merged.head()"
   ]
  },
  {
   "cell_type": "code",

   "execution_count": 9,

   "metadata": {
    "collapsed": true
   },
   "outputs": [],
   "source": [
    "QN_Trips_Rent_Income = pd.merge(Trips,QN_Merged,how = \"inner\", on =['ZIP', 'year'])"
   ]
  },
  {
   "cell_type": "code",

   "execution_count": 10,
   "metadata": {
    "collapsed": false
   },
   "outputs": [
    {
     "data": {
      "text/html": [
       "<div>\n",
       "<table border=\"1\" class=\"dataframe\">\n",
       "  <thead>\n",
       "    <tr style=\"text-align: right;\">\n",
       "      <th></th>\n",
       "      <th>trips</th>\n",
       "      <th>ZIP</th>\n",
       "      <th>year</th>\n",
       "      <th>total</th>\n",
       "      <th>0</th>\n",
       "      <th>10</th>\n",
       "      <th>15</th>\n",
       "      <th>20</th>\n",
       "      <th>25</th>\n",
       "      <th>30</th>\n",
       "      <th>...</th>\n",
       "      <th>125</th>\n",
       "      <th>150</th>\n",
       "      <th>200</th>\n",
       "      <th>State</th>\n",
       "      <th>CountyName</th>\n",
       "      <th>rent0</th>\n",
       "      <th>rent1</th>\n",
       "      <th>rent2</th>\n",
       "      <th>rent3</th>\n",
       "      <th>rent4</th>\n",
       "    </tr>\n",
       "  </thead>\n",
       "  <tbody>\n",
       "    <tr>\n",
       "      <th>0</th>\n",
       "      <td>167</td>\n",
       "      <td>11372</td>\n",
       "      <td>2011</td>\n",
       "      <td>24068</td>\n",
       "      <td>2016</td>\n",
       "      <td>958</td>\n",
       "      <td>1437</td>\n",
       "      <td>1243</td>\n",
       "      <td>1467</td>\n",
       "      <td>1746</td>\n",
       "      <td>...</td>\n",
       "      <td>874</td>\n",
       "      <td>655</td>\n",
       "      <td>600</td>\n",
       "      <td>36</td>\n",
       "      <td>Queens County</td>\n",
       "      <td>1100</td>\n",
       "      <td>1180</td>\n",
       "      <td>1330</td>\n",
       "      <td>1650</td>\n",
       "      <td>1820</td>\n",
       "    </tr>\n",
       "    <tr>\n",
       "      <th>1</th>\n",
       "      <td>7</td>\n",
       "      <td>11004</td>\n",
       "      <td>2011</td>\n",
       "      <td>5131</td>\n",
       "      <td>149</td>\n",
       "      <td>221</td>\n",
       "      <td>163</td>\n",
       "      <td>130</td>\n",
       "      <td>252</td>\n",
       "      <td>271</td>\n",
       "      <td>...</td>\n",
       "      <td>614</td>\n",
       "      <td>476</td>\n",
       "      <td>244</td>\n",
       "      <td>36</td>\n",
       "      <td>Queens County</td>\n",
       "      <td>1130</td>\n",
       "      <td>1200</td>\n",
       "      <td>1360</td>\n",
       "      <td>1690</td>\n",
       "      <td>1870</td>\n",
       "    </tr>\n",
       "    <tr>\n",
       "      <th>2</th>\n",
       "      <td>0</td>\n",
       "      <td>11040</td>\n",
       "      <td>2011</td>\n",
       "      <td>13438</td>\n",
       "      <td>230</td>\n",
       "      <td>313</td>\n",
       "      <td>281</td>\n",
       "      <td>509</td>\n",
       "      <td>499</td>\n",
       "      <td>219</td>\n",
       "      <td>...</td>\n",
       "      <td>1426</td>\n",
       "      <td>1822</td>\n",
       "      <td>1701</td>\n",
       "      <td>36</td>\n",
       "      <td>Queens County</td>\n",
       "      <td>1440</td>\n",
       "      <td>1530</td>\n",
       "      <td>1730</td>\n",
       "      <td>2140</td>\n",
       "      <td>2370</td>\n",
       "    </tr>\n",
       "    <tr>\n",
       "      <th>3</th>\n",
       "      <td>8</td>\n",
       "      <td>11426</td>\n",
       "      <td>2011</td>\n",
       "      <td>6018</td>\n",
       "      <td>163</td>\n",
       "      <td>89</td>\n",
       "      <td>181</td>\n",
       "      <td>141</td>\n",
       "      <td>225</td>\n",
       "      <td>181</td>\n",
       "      <td>...</td>\n",
       "      <td>485</td>\n",
       "      <td>557</td>\n",
       "      <td>383</td>\n",
       "      <td>36</td>\n",
       "      <td>Queens County</td>\n",
       "      <td>1180</td>\n",
       "      <td>1260</td>\n",
       "      <td>1420</td>\n",
       "      <td>1760</td>\n",
       "      <td>1950</td>\n",
       "    </tr>\n",
       "    <tr>\n",
       "      <th>4</th>\n",
       "      <td>20</td>\n",
       "      <td>11365</td>\n",
       "      <td>2011</td>\n",
       "      <td>15106</td>\n",
       "      <td>972</td>\n",
       "      <td>713</td>\n",
       "      <td>712</td>\n",
       "      <td>886</td>\n",
       "      <td>665</td>\n",
       "      <td>812</td>\n",
       "      <td>...</td>\n",
       "      <td>786</td>\n",
       "      <td>876</td>\n",
       "      <td>561</td>\n",
       "      <td>36</td>\n",
       "      <td>Queens County</td>\n",
       "      <td>1210</td>\n",
       "      <td>1290</td>\n",
       "      <td>1460</td>\n",
       "      <td>1810</td>\n",
       "      <td>2000</td>\n",
       "    </tr>\n",
       "  </tbody>\n",
       "</table>\n",
       "<p>5 rows × 27 columns</p>\n",
       "</div>"
      ],
      "text/plain": [
       "   trips    ZIP  year  total     0   10    15    20    25    30  ...     125  \\\n",
       "0    167  11372  2011  24068  2016  958  1437  1243  1467  1746  ...     874   \n",
       "1      7  11004  2011   5131   149  221   163   130   252   271  ...     614   \n",
       "2      0  11040  2011  13438   230  313   281   509   499   219  ...    1426   \n",
       "3      8  11426  2011   6018   163   89   181   141   225   181  ...     485   \n",
       "4     20  11365  2011  15106   972  713   712   886   665   812  ...     786   \n",
       "\n",
       "    150   200  State     CountyName  rent0  rent1  rent2  rent3  rent4  \n",
       "0   655   600     36  Queens County   1100   1180   1330   1650   1820  \n",
       "1   476   244     36  Queens County   1130   1200   1360   1690   1870  \n",
       "2  1822  1701     36  Queens County   1440   1530   1730   2140   2370  \n",
       "3   557   383     36  Queens County   1180   1260   1420   1760   1950  \n",
       "4   876   561     36  Queens County   1210   1290   1460   1810   2000  \n",
       "\n",
       "[5 rows x 27 columns]"
      ]
     },
     "execution_count": 10,
     "metadata": {},
     "output_type": "execute_result"
    }
   ],
   "source": [
    "QN_Trips_Rent_Income.head()"
   ]
  },
  {
   "cell_type": "code",
   "execution_count": 11,
   "metadata": {
    "collapsed": true
   },
   "outputs": [],
   "source": [
    "QN_Trips_Rent_Income.to_csv('data/QN_final.csv')"
   ]
  },
  {
   "cell_type": "code",
   "execution_count": 14,
   "metadata": {
    "collapsed": false
   },
   "outputs": [
    {
     "data": {
      "text/plain": [
       "264"
      ]
     },
     "execution_count": 14,
     "metadata": {},
     "output_type": "execute_result"
    }
   ],
   "source": [
    "len(QN_Trips_Rent_Income)"
   ]
  },
  {
   "cell_type": "code",
   "execution_count": null,
   "metadata": {
    "collapsed": true
   },
   "outputs": [],
   "source": []
  }
 ],
 "metadata": {
  "anaconda-cloud": {},
  "kernelspec": {
   "display_name": "Python [DataScience-Project]",
   "language": "python",
   "name": "Python [DataScience-Project]"
  },
  "language_info": {
   "codemirror_mode": {
    "name": "ipython",
    "version": 3
   },
   "file_extension": ".py",
   "mimetype": "text/x-python",
   "name": "python",
   "nbconvert_exporter": "python",
   "pygments_lexer": "ipython3",
   "version": "3.5.2"
  }
 },
 "nbformat": 4,
 "nbformat_minor": 1
}
