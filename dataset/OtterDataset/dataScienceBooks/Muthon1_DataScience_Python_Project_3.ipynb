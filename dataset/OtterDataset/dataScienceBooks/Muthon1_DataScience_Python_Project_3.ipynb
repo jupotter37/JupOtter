{
  "nbformat": 4,
  "nbformat_minor": 0,
  "metadata": {
    "colab": {
      "provenance": [],
      "authorship_tag": "ABX9TyOiOWLRG44glA6oPDSGjRUK",
      "include_colab_link": true
    },
    "kernelspec": {
      "name": "python3",
      "display_name": "Python 3"
    },
    "language_info": {
      "name": "python"
    }
  },
  "cells": [
    {
      "cell_type": "markdown",
      "metadata": {
        "id": "view-in-github",
        "colab_type": "text"
      },
      "source": [
        "<a href=\"https://colab.research.google.com/github/Muthon1/DataScience/blob/main/Python_Project_3.ipynb\" target=\"_parent\"><img src=\"https://colab.research.google.com/assets/colab-badge.svg\" alt=\"Open In Colab\"/></a>"
      ]
    },
    {
      "cell_type": "code",
      "source": [
        "import random\n",
        "import time\n",
        "\n",
        "# Display multiple-choice questions to the user\n",
        "questions = [\n",
        "    {\"question\": \"What is the capital of Kenya?\", \"choices\": [\"A) Nairobi\", \"B) Kisumu\", \"C) Nakuru\", \"D) Mombasa\"], \"answer\": \"A\"},\n",
        "    {\"question\": \"What is the largest planet in our solar system?\", \"choices\": [\"A) Earth\", \"B) Mars\", \"C) Jupiter\", \"D) Venus\"], \"answer\": \"C\"},\n",
        "    {\"question\": \"Who wrote 'Think Big'?\", \"choices\": [\"A) Charles Dickens\", \"B) Dr. Carson\", \"C) Mark Twain\", \"D) Jane Austen\"], \"answer\": \"B\"}\n",
        "]\n",
        "\n",
        "# Shuffle questions for replayability\n",
        "random.shuffle(questions)\n",
        "\n",
        "# Keep track of the user's score throughout the quiz\n",
        "score = 0\n",
        "total_questions = len(questions)\n",
        "\n",
        "def ask_question(question):\n",
        "    print(question['question'])\n",
        "    for choice in question['choices']:\n",
        "        print(choice)\n",
        "    answer = input(\"Enter the letter of your answer: \").strip().upper()\n",
        "    return answer == question['answer']\n",
        "\n",
        "# Game loop\n",
        "for q in questions:\n",
        "    if ask_question(q):\n",
        "        print(\"Correct!\\n\")\n",
        "        score += 1\n",
        "    else:\n",
        "        print(f\"Wrong! The correct answer was {q['answer']}.\\n\")\n",
        "\n",
        "# Display the final score at the end of the quiz\n",
        "print(f\"Quiz Complete! Your final score is {score}/{total_questions}.\")\n"
      ],
      "metadata": {
        "colab": {
          "base_uri": "https://localhost:8080/"
        },
        "id": "re7Lz4JFY8Ri",
        "outputId": "d7139a0f-fa38-4253-fc9a-f29dde71054b"
      },
      "execution_count": 1,
      "outputs": [
        {
          "output_type": "stream",
          "name": "stdout",
          "text": [
            "What is the largest planet in our solar system?\n",
            "A) Earth\n",
            "B) Mars\n",
            "C) Jupiter\n",
            "D) Venus\n",
            "Enter the letter of your answer: c\n",
            "Correct!\n",
            "\n",
            "What is the capital of Kenya?\n",
            "A) Nairobi\n",
            "B) Kisumu\n",
            "C) Nakuru\n",
            "D) Mombasa\n",
            "Enter the letter of your answer: B\n",
            "Wrong! The correct answer was A.\n",
            "\n",
            "Who wrote 'Think Big'?\n",
            "A) Charles Dickens\n",
            "B) Dr. Carson\n",
            "C) Mark Twain\n",
            "D) Jane Austen\n",
            "Enter the letter of your answer: B\n",
            "Correct!\n",
            "\n",
            "Quiz Complete! Your final score is 2/3.\n"
          ]
        }
      ]
    },
    {
      "cell_type": "code",
      "source": [
        "# Implement a timer for each question to add a time-based challenge\n",
        "import threading\n",
        "\n",
        "def timed_input(question, choices, time_limit=10):\n",
        "    answer = [None]\n",
        "\n",
        "    def get_input():\n",
        "# Show the question and choices, then prompt for the answer\n",
        "        print(f\"{question}\")\n",
        "        for choice in choices:\n",
        "            print(choice)\n",
        "        answer[0] = input(\"Enter the letter of your answer: \")\n",
        "\n",
        "# Start the input thread and set the timer\n",
        "    thread = threading.Thread(target=get_input)\n",
        "    thread.start()\n",
        "    thread.join(time_limit)\n",
        "\n",
        "# If time's up, stop waiting for the input\n",
        "    if thread.is_alive():\n",
        "        print(\"\\nTime's up!\")\n",
        "        thread.join()  # Clean up the thread\n",
        "    return answer[0]\n",
        "\n",
        "# Example usage with a question\n",
        "question = \"What is the capital of Kenya?\"\n",
        "choices = [\"A) Nairobi\", \"B) Nakuru\", \"C) Kisumu\", \"D) Mombasa\"]\n",
        "answer = timed_input(question, choices, 5)\n",
        "\n",
        "if answer is None:\n",
        "    print(\"No answer provided.\")\n",
        "else:\n",
        "    print(f\"You answered: {answer}\")\n"
      ],
      "metadata": {
        "colab": {
          "base_uri": "https://localhost:8080/"
        },
        "id": "pTlf6N8KdM33",
        "outputId": "ee834055-09d3-4b6d-e5e1-d16de5ea34a8"
      },
      "execution_count": 7,
      "outputs": [
        {
          "output_type": "stream",
          "name": "stdout",
          "text": [
            "What is the capital of Kenya?\n",
            "A) Nairobi\n",
            "B) Nakuru\n",
            "C) Kisumu\n",
            "D) Mombasa\n",
            "\n",
            "Time's up!\n",
            "Enter the letter of your answer: A\n",
            "You answered: A\n"
          ]
        }
      ]
    },
    {
      "cell_type": "code",
      "source": [
        "import tkinter as tk\n",
        "from tkinter import messagebox\n",
        "import threading\n",
        "\n",
        "class QuizApp:\n",
        "    def __init__(self, root):\n",
        "        self.root = root\n",
        "        self.root.title(\"Interactive Python Quiz\")\n",
        "\n",
        "# Question data\n",
        "        self.questions = [\n",
        "    {\"question\": \"What is the capital of Kenya?\", \"choices\": [\"A) Nairobi\", \"B) Kisumu\", \"C) Nakuru\", \"D) Mombasa\"], \"answer\": \"A\"},\n",
        "    {\"question\": \"What is the largest planet in our solar system?\", \"choices\": [\"A) Earth\", \"B) Mars\", \"C) Jupiter\", \"D) Venus\"], \"answer\": \"C\"},\n",
        "    {\"question\": \"Who wrote 'Think Big'?\", \"choices\": [\"A) Charles Dickens\", \"B) Dr. Carson\", \"C) Mark Twain\", \"D) Jane Austen\"], \"answer\": \"B\"}\n",
        "]\n",
        "\n",
        "        self.current_question = 0\n",
        "        self.score = 0\n",
        "        self.time_left = 10\n",
        "        self.timer_thread = None\n",
        "\n",
        "# Create widgets\n",
        "        self.question_label = tk.Label(self.root, text=\"\", font=(\"Arial\", 14), wraplength=400, justify=\"left\")\n",
        "        self.question_label.pack(pady=20)\n",
        "\n",
        "        self.choice_buttons = []\n",
        "        for i in range(4):\n",
        "            button = tk.Button(self.root, text=\"\", width=30, command=lambda idx=i: self.check_answer(idx))\n",
        "            button.pack(pady=5)\n",
        "            self.choice_buttons.append(button)\n",
        "\n",
        "        self.timer_label = tk.Label(self.root, text=f\"Time left: {self.time_left}\", font=(\"Arial\", 12))\n",
        "        self.timer_label.pack(pady=10)\n",
        "\n",
        "        self.next_button = tk.Button(self.root, text=\"Next\", command=self.load_next_question)\n",
        "        self.next_button.pack(pady=20)\n",
        "        self.next_button.config(state=\"disabled\")\n",
        "\n",
        "# Load the first question\n",
        "        self.load_question()\n",
        "\n",
        "    def load_question(self):\n",
        "        if self.current_question < len(self.questions):\n",
        "            question_data = self.questions[self.current_question]\n",
        "            self.question_label.config(text=question_data[\"question\"])\n",
        "\n",
        "            for i, choice in enumerate(question_data[\"choices\"]):\n",
        "                self.choice_buttons[i].config(text=choice)\n",
        "\n",
        "            self.time_left = 10\n",
        "            self.update_timer()\n",
        "            self.start_timer()\n",
        "        else:\n",
        "            self.end_quiz()\n",
        "\n",
        "    def check_answer(self, idx):\n",
        "        selected_answer = self.choice_buttons[idx].cget(\"text\")[0]  # Get the letter (A, B, C, D)\n",
        "        correct_answer = self.questions[self.current_question][\"answer\"]\n",
        "\n",
        "        if selected_answer == correct_answer:\n",
        "            self.score += 1\n",
        "            messagebox.showinfo(\"Correct!\", \"That's the correct answer!\")\n",
        "        else:\n",
        "            messagebox.showerror(\"Wrong!\", f\"The correct answer was {correct_answer}.\")\n",
        "\n",
        "        self.next_button.config(state=\"normal\")\n",
        "\n",
        "    def load_next_question(self):\n",
        "        self.current_question += 1\n",
        "        self.next_button.config(state=\"disabled\")\n",
        "        self.load_question()\n",
        "\n",
        "    def start_timer(self):\n",
        "        if self.timer_thread:\n",
        "            self.root.after_cancel(self.timer_thread)\n",
        "        self.timer_thread = self.root.after(1000, self.update_timer)\n",
        "\n",
        "    def update_timer(self):\n",
        "        if self.time_left > 0:\n",
        "            self.time_left -= 1\n",
        "            self.timer_label.config(text=f\"Time left: {self.time_left}\")\n",
        "            self.start_timer()\n",
        "        else:\n",
        "            messagebox.showerror(\"Time's up!\", \"You ran out of time!\")\n",
        "            self.next_button.config(state=\"normal\")\n",
        "\n",
        "    def end_quiz(self):\n",
        "        messagebox.showinfo(\"Quiz Complete\", f\"Your final score is: {self.score}/{len(self.questions)}\")\n",
        "        self.root.quit()\n",
        "\n",
        "# Create the GUI application\n",
        "root = tk.Tk()\n",
        "app = QuizApp(root)\n",
        "root.mainloop()\n"
      ],
      "metadata": {
        "colab": {
          "base_uri": "https://localhost:8080/",
          "height": 332
        },
        "id": "Cxyav076fk93",
        "outputId": "55b03c45-f015-4f56-c960-cd399882ad5e"
      },
      "execution_count": 8,
      "outputs": [
        {
          "output_type": "error",
          "ename": "TclError",
          "evalue": "no display name and no $DISPLAY environment variable",
          "traceback": [
            "\u001b[0;31m---------------------------------------------------------------------------\u001b[0m",
            "\u001b[0;31mTclError\u001b[0m                                  Traceback (most recent call last)",
            "\u001b[0;32m<ipython-input-8-afdb2cae862b>\u001b[0m in \u001b[0;36m<cell line: 92>\u001b[0;34m()\u001b[0m\n\u001b[1;32m     90\u001b[0m \u001b[0;34m\u001b[0m\u001b[0m\n\u001b[1;32m     91\u001b[0m \u001b[0;31m# Create the GUI application\u001b[0m\u001b[0;34m\u001b[0m\u001b[0;34m\u001b[0m\u001b[0m\n\u001b[0;32m---> 92\u001b[0;31m \u001b[0mroot\u001b[0m \u001b[0;34m=\u001b[0m \u001b[0mtk\u001b[0m\u001b[0;34m.\u001b[0m\u001b[0mTk\u001b[0m\u001b[0;34m(\u001b[0m\u001b[0;34m)\u001b[0m\u001b[0;34m\u001b[0m\u001b[0;34m\u001b[0m\u001b[0m\n\u001b[0m\u001b[1;32m     93\u001b[0m \u001b[0mapp\u001b[0m \u001b[0;34m=\u001b[0m \u001b[0mQuizApp\u001b[0m\u001b[0;34m(\u001b[0m\u001b[0mroot\u001b[0m\u001b[0;34m)\u001b[0m\u001b[0;34m\u001b[0m\u001b[0;34m\u001b[0m\u001b[0m\n\u001b[1;32m     94\u001b[0m \u001b[0mroot\u001b[0m\u001b[0;34m.\u001b[0m\u001b[0mmainloop\u001b[0m\u001b[0;34m(\u001b[0m\u001b[0;34m)\u001b[0m\u001b[0;34m\u001b[0m\u001b[0;34m\u001b[0m\u001b[0m\n",
            "\u001b[0;32m/usr/lib/python3.10/tkinter/__init__.py\u001b[0m in \u001b[0;36m__init__\u001b[0;34m(self, screenName, baseName, className, useTk, sync, use)\u001b[0m\n\u001b[1;32m   2297\u001b[0m                 \u001b[0mbaseName\u001b[0m \u001b[0;34m=\u001b[0m \u001b[0mbaseName\u001b[0m \u001b[0;34m+\u001b[0m \u001b[0mext\u001b[0m\u001b[0;34m\u001b[0m\u001b[0;34m\u001b[0m\u001b[0m\n\u001b[1;32m   2298\u001b[0m         \u001b[0minteractive\u001b[0m \u001b[0;34m=\u001b[0m \u001b[0;32mFalse\u001b[0m\u001b[0;34m\u001b[0m\u001b[0;34m\u001b[0m\u001b[0m\n\u001b[0;32m-> 2299\u001b[0;31m         \u001b[0mself\u001b[0m\u001b[0;34m.\u001b[0m\u001b[0mtk\u001b[0m \u001b[0;34m=\u001b[0m \u001b[0m_tkinter\u001b[0m\u001b[0;34m.\u001b[0m\u001b[0mcreate\u001b[0m\u001b[0;34m(\u001b[0m\u001b[0mscreenName\u001b[0m\u001b[0;34m,\u001b[0m \u001b[0mbaseName\u001b[0m\u001b[0;34m,\u001b[0m \u001b[0mclassName\u001b[0m\u001b[0;34m,\u001b[0m \u001b[0minteractive\u001b[0m\u001b[0;34m,\u001b[0m \u001b[0mwantobjects\u001b[0m\u001b[0;34m,\u001b[0m \u001b[0museTk\u001b[0m\u001b[0;34m,\u001b[0m \u001b[0msync\u001b[0m\u001b[0;34m,\u001b[0m \u001b[0muse\u001b[0m\u001b[0;34m)\u001b[0m\u001b[0;34m\u001b[0m\u001b[0;34m\u001b[0m\u001b[0m\n\u001b[0m\u001b[1;32m   2300\u001b[0m         \u001b[0;32mif\u001b[0m \u001b[0museTk\u001b[0m\u001b[0;34m:\u001b[0m\u001b[0;34m\u001b[0m\u001b[0;34m\u001b[0m\u001b[0m\n\u001b[1;32m   2301\u001b[0m             \u001b[0mself\u001b[0m\u001b[0;34m.\u001b[0m\u001b[0m_loadtk\u001b[0m\u001b[0;34m(\u001b[0m\u001b[0;34m)\u001b[0m\u001b[0;34m\u001b[0m\u001b[0;34m\u001b[0m\u001b[0m\n",
            "\u001b[0;31mTclError\u001b[0m: no display name and no $DISPLAY environment variable"
          ]
        }
      ]
    }
  ]
}