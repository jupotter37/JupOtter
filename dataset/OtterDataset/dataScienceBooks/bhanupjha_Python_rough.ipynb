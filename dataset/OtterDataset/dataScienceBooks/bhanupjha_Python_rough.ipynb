{
 "cells": [
  {
   "cell_type": "markdown",
   "metadata": {},
   "source": [
    "Write a python program that makes a positive integer as input and prints the sum of all even \n",
    "numbers from 1 to that integer "
   ]
  },
  {
   "cell_type": "code",
   "execution_count": 2,
   "metadata": {},
   "outputs": [
    {
     "name": "stdout",
     "output_type": "stream",
     "text": [
      "it is an even no.\n"
     ]
    }
   ],
   "source": [
    "num = int(input(\"Enter positive integer: \"))\n",
    "sum = 0\n",
    "for i in range(sum, num + 1):\n",
    "    if num % 2 == 0:\n",
    "        sum = i"
   ]
  },
  {
   "cell_type": "code",
   "execution_count": 68,
   "metadata": {},
   "outputs": [
    {
     "name": "stdout",
     "output_type": "stream",
     "text": [
      "24\n"
     ]
    }
   ],
   "source": [
    "num = int(input(\"Enter the no. \"))\n",
    "result = 1\n",
    "for i in range(1, num + 1):\n",
    "    result = result * i\n",
    "\n",
    "print (result)"
   ]
  },
  {
   "cell_type": "markdown",
   "metadata": {},
   "source": [
    "Write a program to find the sum of only positive\n",
    "numbers in the list"
   ]
  },
  {
   "cell_type": "code",
   "execution_count": 67,
   "metadata": {},
   "outputs": [
    {
     "name": "stdout",
     "output_type": "stream",
     "text": [
      "21\n"
     ]
    }
   ],
   "source": [
    "list = [1,2,5,7,-2,6,-3,-1]\n",
    "sum = 0\n",
    "for i in  list:\n",
    "    if i > 0:\n",
    "        sum += i\n",
    "print(sum)          "
   ]
  },
  {
   "cell_type": "markdown",
   "metadata": {},
   "source": [
    "Given a list of names , print each name except the\n",
    "names starts with ‘A’"
   ]
  },
  {
   "cell_type": "code",
   "execution_count": 56,
   "metadata": {},
   "outputs": [
    {
     "name": "stdout",
     "output_type": "stream",
     "text": [
      "Bhanu\n"
     ]
    }
   ],
   "source": [
    "list = [\"Aman\", \"Ayush\", \"Bhanu\"]\n",
    "for i in list:\n",
    "    if  i[0] == 'A':\n",
    "      continue\n",
    "    print(i)"
   ]
  },
  {
   "cell_type": "markdown",
   "metadata": {},
   "source": [
    "Write a program that takes a list of numbers prints\n",
    "the numbers until it encounters a negative number"
   ]
  },
  {
   "cell_type": "code",
   "execution_count": 43,
   "metadata": {},
   "outputs": [
    {
     "name": "stdout",
     "output_type": "stream",
     "text": [
      "1\n",
      "2\n",
      "4\n",
      "6\n"
     ]
    }
   ],
   "source": [
    "list = [1,2,4,6,-7,-6]\n",
    "for i in list:\n",
    "  if  i < 0:\n",
    "    break\n",
    "    \n",
    "  print(i)  "
   ]
  },
  {
   "cell_type": "markdown",
   "metadata": {},
   "source": [
    "list = [1 , 2 , 3 , 4 , 5 , 6]\n",
    "print(list[-1:0:-2])"
   ]
  },
  {
   "cell_type": "code",
   "execution_count": 31,
   "metadata": {},
   "outputs": [
    {
     "name": "stdout",
     "output_type": "stream",
     "text": [
      "[6, 4, 2]\n"
     ]
    }
   ],
   "source": [
    "list = [1,2,3,4,5,6]\n",
    "print(list[-1:0:-2])"
   ]
  },
  {
   "cell_type": "markdown",
   "metadata": {},
   "source": [
    "Given a string “science”\n",
    "print the reverse of this string ."
   ]
  },
  {
   "cell_type": "code",
   "execution_count": 30,
   "metadata": {},
   "outputs": [
    {
     "name": "stdout",
     "output_type": "stream",
     "text": [
      "ecneics\n"
     ]
    }
   ],
   "source": [
    "str = \"science\"\n",
    "l1 = str[::-1]\n",
    "print(l1)"
   ]
  },
  {
   "cell_type": "markdown",
   "metadata": {},
   "source": [
    "Given a list of integers, write a program to print a new list\n",
    "containing only the elements at even positions (2nd, 4th, 6th,\n",
    "etc.)."
   ]
  },
  {
   "cell_type": "code",
   "execution_count": 24,
   "metadata": {},
   "outputs": [
    {
     "name": "stdout",
     "output_type": "stream",
     "text": [
      "[4, 5, 3]\n"
     ]
    }
   ],
   "source": [
    "list = [1,4,7,5,9,3]\n",
    "x = list[1::2]\n",
    "print(x)"
   ]
  },
  {
   "cell_type": "markdown",
   "metadata": {},
   "source": [
    "Write a program to remove the first and last elements from a\n",
    "list and print them"
   ]
  },
  {
   "cell_type": "code",
   "execution_count": 21,
   "metadata": {},
   "outputs": [
    {
     "name": "stdout",
     "output_type": "stream",
     "text": [
      "[4, 56, 4]\n"
     ]
    }
   ],
   "source": [
    "list = [1,4,56,4,3]\n",
    "l1 = list[1:len(list)-1]\n",
    "print(l1)"
   ]
  },
  {
   "cell_type": "markdown",
   "metadata": {},
   "source": [
    "Create a dictionary representing a shopping cart with items and\n",
    "their prices. Calculate the total cost of the items in the cart.\n",
    "cart = {”pen” : 10 ,“toothpaste” : 40 ,“brush” : 20 ,“chocolate” : 20 ,“coke” : 60}"
   ]
  },
  {
   "cell_type": "code",
   "execution_count": 64,
   "metadata": {},
   "outputs": [
    {
     "name": "stdout",
     "output_type": "stream",
     "text": [
      "150\n"
     ]
    }
   ],
   "source": [
    "cart = {\"pen\" : 10 ,\"toothpaste\" : 40 ,\"brush\" : 20 ,\"chocolate\" : 20 ,\"coke\": 60}\n",
    "\n",
    "sum = 0\n",
    "for price in cart.values():\n",
    "    sum = sum + price\n",
    "print(sum)    "
   ]
  },
  {
   "cell_type": "code",
   "execution_count": null,
   "metadata": {},
   "outputs": [],
   "source": [
    "# def p_palindrome(str):\n",
    "#     n = len(str)\n",
    "\n",
    "# string1 = input()\n",
    "# for i in range(string1,):\n"
   ]
  },
  {
   "cell_type": "markdown",
   "metadata": {},
   "source": [
    "checking prime or not"
   ]
  },
  {
   "cell_type": "code",
   "execution_count": 87,
   "metadata": {},
   "outputs": [
    {
     "data": {
      "text/plain": [
       "False"
      ]
     },
     "execution_count": 87,
     "metadata": {},
     "output_type": "execute_result"
    }
   ],
   "source": [
    "# def prime_num(n):\n",
    "#     if n % 1 and n % n:\n",
    "#         return True\n",
    "#     else:\n",
    "#       return False    \n",
    "\n",
    "# num = int(input(\"enter the number: \"))\n",
    "# prime_num(num)"
   ]
  },
  {
   "cell_type": "code",
   "execution_count": 76,
   "metadata": {},
   "outputs": [
    {
     "name": "stdout",
     "output_type": "stream",
     "text": [
      "24\n"
     ]
    }
   ],
   "source": [
    "# num = int(input(\"Enter the no. \"))\n",
    "# def calculate_factorial(n):\n",
    "#      result = 1\n",
    "#      for i in range(1, n + 1):\n",
    "#         return result * i\n",
    "#         return result * i\n",
    "     \n",
    "# print (result)\n"
   ]
  },
  {
   "cell_type": "code",
   "execution_count": 4,
   "metadata": {},
   "outputs": [],
   "source": [
    "# num1 = int(input(\"Enter the first no: \"))\n",
    "# op = input(\"Enter operator(+,-,*,/): \")\n",
    "# num2 = int(input(\"Enter the second number: \"))\n",
    "# # return result\n",
    "\n",
    "\n",
    "# def calculate(num1,num2,op):\n",
    "#     if op == '+':\n",
    "#         result = num1 + num2\n",
    "#     elif op == '-':\n",
    "#         result = num1 - num2\n",
    "#     elif op == '*':\n",
    "#         result = num1 * num2\n",
    "#     elif op == '/':\n",
    "#         result = num1/num2\n",
    "                    "
   ]
  },
  {
   "cell_type": "code",
   "execution_count": 88,
   "metadata": {},
   "outputs": [
    {
     "name": "stdout",
     "output_type": "stream",
     "text": [
      "set()\n"
     ]
    }
   ],
   "source": [
    "# def remove_duplicates(list1):\n",
    "#     newset = set()\n",
    "#     for i in range([0],[9]):\n",
    "\n",
    "#     return newset\n",
    "\n",
    "# list1 = [1,2,3,4,2,3,1,2,3,4]\n",
    "# print(remove_duplicates(list1))"
   ]
  }
 ],
 "metadata": {
  "kernelspec": {
   "display_name": "Python 3",
   "language": "python",
   "name": "python3"
  },
  "language_info": {
   "codemirror_mode": {
    "name": "ipython",
    "version": 3
   },
   "file_extension": ".py",
   "mimetype": "text/x-python",
   "name": "python",
   "nbconvert_exporter": "python",
   "pygments_lexer": "ipython3",
   "version": "3.11.4"
  }
 },
 "nbformat": 4,
 "nbformat_minor": 2
}
