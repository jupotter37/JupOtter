{
 "cells": [
  {
   "cell_type": "markdown",
   "metadata": {
    "collapsed": true,
    "pycharm": {
     "name": "#%% md\n"
    }
   },
   "source": [
    "# Практическое задание"
   ]
  },
  {
   "cell_type": "markdown",
   "source": [
    "Перевести ваш спарсенный json в формат csv таблицу через pandas\n",
    "\n",
    "Для hh.ru:\n",
    "\n",
    "* Сгруппируйте вакансии по направлениями (DS, DE, Software Engenering, etc.)\n",
    "* Какая средняя и медианная зарплата по группам вакансий?\n",
    "* Какая средняя и медианная зарплата по каждому региону?\n",
    "* Какая самая высокооплачиваемая из групп вакансий, исходя из их средних зарплат?\n",
    "* Какое процентное соотношение каждого региона по вакансиям от всех вакансий?\n",
    "* Какая корреляция уровня опыта от зарплаты?\n",
    "* Сколько должностей в наборе данных?\n",
    "* Какие 10 наиболее часто встречающихся должностей?"
   ],
   "metadata": {
    "collapsed": false,
    "pycharm": {
     "name": "#%% md\n"
    }
   }
  },
  {
   "cell_type": "markdown",
   "source": [
    "### Импортируем библиотеки"
   ],
   "metadata": {
    "collapsed": false,
    "pycharm": {
     "name": "#%% md\n"
    }
   }
  },
  {
   "cell_type": "code",
   "execution_count": 1,
   "outputs": [],
   "source": [
    "import json\n",
    "import nltk\n",
    "import numpy as np\n",
    "import pandas as pd\n",
    "import re\n",
    "\n",
    "from nltk.stem.snowball import SnowballStemmer\n",
    "from sklearn.cluster import KMeans\n",
    "from sklearn.feature_extraction.text import TfidfVectorizer"
   ],
   "metadata": {
    "collapsed": false,
    "pycharm": {
     "name": "#%%\n"
    }
   }
  },
  {
   "cell_type": "markdown",
   "source": [
    "### Загрузка json файлов"
   ],
   "metadata": {
    "collapsed": false,
    "pycharm": {
     "name": "#%% md\n"
    }
   }
  },
  {
   "cell_type": "code",
   "execution_count": 2,
   "outputs": [],
   "source": [
    "with open('../0_data_between3And6.json', 'r', encoding='utf-8') as file:\n",
    "    data_between3And6 = json.load(file)\n",
    "with open('../1_data_between1And3.json', 'r', encoding='utf-8') as file:\n",
    "    data_between1And3 = json.load(file)\n",
    "with open('../2_data_noExperience.json', 'r', encoding='utf-8') as file:\n",
    "    data_noExperience = json.load(file)\n",
    "with open('../3_data_moreThan6.json', 'r', encoding='utf-8') as file:\n",
    "    data_moreThan6 = json.load(file)"
   ],
   "metadata": {
    "collapsed": false,
    "pycharm": {
     "name": "#%%\n"
    }
   }
  },
  {
   "cell_type": "code",
   "execution_count": 3,
   "outputs": [],
   "source": [
    "data_list = []\n",
    "for i in data_between3And6['data']:\n",
    "    data_list.append([i['title'], i['work experience'], i['salary'], i['region']])\n",
    "for i in data_between1And3['data']:\n",
    "    data_list.append([i['title'], i['work experience'], i['salary'], i['region']])\n",
    "for i in data_noExperience['data']:\n",
    "    data_list.append([i['title'], i['work experience'], i['salary'], i['region']])\n",
    "for i in data_moreThan6['data']:\n",
    "    data_list.append([i['title'], i['work experience'], i['salary'], i['region']])"
   ],
   "metadata": {
    "collapsed": false,
    "pycharm": {
     "name": "#%%\n"
    }
   }
  },
  {
   "cell_type": "markdown",
   "source": [
    "### Создание датафрейма"
   ],
   "metadata": {
    "collapsed": false,
    "pycharm": {
     "name": "#%% md\n"
    }
   }
  },
  {
   "cell_type": "code",
   "execution_count": 4,
   "outputs": [],
   "source": [
    "columns = data_moreThan6['data'][0].keys()"
   ],
   "metadata": {
    "collapsed": false,
    "pycharm": {
     "name": "#%%\n"
    }
   }
  },
  {
   "cell_type": "code",
   "execution_count": 5,
   "outputs": [],
   "source": [
    "df = pd.DataFrame(data_list, columns=columns)"
   ],
   "metadata": {
    "collapsed": false,
    "pycharm": {
     "name": "#%%\n"
    }
   }
  },
  {
   "cell_type": "code",
   "execution_count": 6,
   "outputs": [
    {
     "data": {
      "text/plain": "                                   title work experience             salary  \\\n0  Backend разработчик со знанием Python   От 3 до 6 лет  2 500 – 3 000 USD   \n1  Backend разработчик со знанием Python   От 3 до 6 лет  2 500 – 3 000 USD   \n2  Backend разработчик со знанием Python   От 3 до 6 лет  2 500 – 3 000 USD   \n3                    Backend разработчик   От 3 до 6 лет  2 500 – 3 000 USD   \n4  Backend разработчик со знанием Python   От 3 до 6 лет  2 500 – 3 000 USD   \n\n    region  \n0   Алматы  \n1     Баку  \n2   Бишкек  \n3    Минск  \n4  Ташкент  ",
      "text/html": "<div>\n<style scoped>\n    .dataframe tbody tr th:only-of-type {\n        vertical-align: middle;\n    }\n\n    .dataframe tbody tr th {\n        vertical-align: top;\n    }\n\n    .dataframe thead th {\n        text-align: right;\n    }\n</style>\n<table border=\"1\" class=\"dataframe\">\n  <thead>\n    <tr style=\"text-align: right;\">\n      <th></th>\n      <th>title</th>\n      <th>work experience</th>\n      <th>salary</th>\n      <th>region</th>\n    </tr>\n  </thead>\n  <tbody>\n    <tr>\n      <th>0</th>\n      <td>Backend разработчик со знанием Python</td>\n      <td>От 3 до 6 лет</td>\n      <td>2 500 – 3 000 USD</td>\n      <td>Алматы</td>\n    </tr>\n    <tr>\n      <th>1</th>\n      <td>Backend разработчик со знанием Python</td>\n      <td>От 3 до 6 лет</td>\n      <td>2 500 – 3 000 USD</td>\n      <td>Баку</td>\n    </tr>\n    <tr>\n      <th>2</th>\n      <td>Backend разработчик со знанием Python</td>\n      <td>От 3 до 6 лет</td>\n      <td>2 500 – 3 000 USD</td>\n      <td>Бишкек</td>\n    </tr>\n    <tr>\n      <th>3</th>\n      <td>Backend разработчик</td>\n      <td>От 3 до 6 лет</td>\n      <td>2 500 – 3 000 USD</td>\n      <td>Минск</td>\n    </tr>\n    <tr>\n      <th>4</th>\n      <td>Backend разработчик со знанием Python</td>\n      <td>От 3 до 6 лет</td>\n      <td>2 500 – 3 000 USD</td>\n      <td>Ташкент</td>\n    </tr>\n  </tbody>\n</table>\n</div>"
     },
     "execution_count": 6,
     "metadata": {},
     "output_type": "execute_result"
    }
   ],
   "source": [
    "df.head()"
   ],
   "metadata": {
    "collapsed": false,
    "pycharm": {
     "name": "#%%\n"
    }
   }
  },
  {
   "cell_type": "markdown",
   "source": [
    "### Исследуем датафрейм"
   ],
   "metadata": {
    "collapsed": false,
    "pycharm": {
     "name": "#%% md\n"
    }
   }
  },
  {
   "cell_type": "code",
   "execution_count": 7,
   "outputs": [
    {
     "data": {
      "text/plain": "<bound method DataFrame.info of                                                   title work experience  \\\n0                 Backend разработчик со знанием Python   От 3 до 6 лет   \n1                 Backend разработчик со знанием Python   От 3 до 6 лет   \n2                 Backend разработчик со знанием Python   От 3 до 6 лет   \n3                                   Backend разработчик   От 3 до 6 лет   \n4                 Backend разработчик со знанием Python   От 3 до 6 лет   \n...                                                 ...             ...   \n4695               Senior System Engineer (Admins Team)     Более 6 лет   \n4696               Senior System Engineer (Admins Team)     Более 6 лет   \n4697                                    DevOps Engineer     Более 6 лет   \n4698  Senior/Lead Software Engineer (.NET), Relocati...     Более 6 лет   \n4699                    Risk Assurance Services Manager     Более 6 лет   \n\n                 salary   region  \n0     2 500 – 3 000 USD   Алматы  \n1     2 500 – 3 000 USD     Баку  \n2     2 500 – 3 000 USD   Бишкек  \n3     2 500 – 3 000 USD    Минск  \n4     2 500 – 3 000 USD  Ташкент  \n...                 ...      ...  \n4695       от 3 300 USD    Чехия  \n4696       от 3 300 USD  Армения  \n4697  3 700 – 4 700 USD    Минск  \n4698  3 000 – 5 500 USD  Армения  \n4699               None  Ташкент  \n\n[4700 rows x 4 columns]>"
     },
     "execution_count": 7,
     "metadata": {},
     "output_type": "execute_result"
    }
   ],
   "source": [
    "df.info"
   ],
   "metadata": {
    "collapsed": false,
    "pycharm": {
     "name": "#%%\n"
    }
   }
  },
  {
   "cell_type": "code",
   "execution_count": 8,
   "outputs": [
    {
     "data": {
      "text/plain": "                                   title work experience          salary  \\\ncount                               4700            4700            1636   \nunique                              2057               4             362   \ntop     Специалист технической поддержки   От 3 до 6 лет  от 15 000 руб.   \nfreq                                 133            2000             415   \n\n        region  \ncount     4700  \nunique     195  \ntop     Москва  \nfreq      1980  ",
      "text/html": "<div>\n<style scoped>\n    .dataframe tbody tr th:only-of-type {\n        vertical-align: middle;\n    }\n\n    .dataframe tbody tr th {\n        vertical-align: top;\n    }\n\n    .dataframe thead th {\n        text-align: right;\n    }\n</style>\n<table border=\"1\" class=\"dataframe\">\n  <thead>\n    <tr style=\"text-align: right;\">\n      <th></th>\n      <th>title</th>\n      <th>work experience</th>\n      <th>salary</th>\n      <th>region</th>\n    </tr>\n  </thead>\n  <tbody>\n    <tr>\n      <th>count</th>\n      <td>4700</td>\n      <td>4700</td>\n      <td>1636</td>\n      <td>4700</td>\n    </tr>\n    <tr>\n      <th>unique</th>\n      <td>2057</td>\n      <td>4</td>\n      <td>362</td>\n      <td>195</td>\n    </tr>\n    <tr>\n      <th>top</th>\n      <td>Специалист технической поддержки</td>\n      <td>От 3 до 6 лет</td>\n      <td>от 15 000 руб.</td>\n      <td>Москва</td>\n    </tr>\n    <tr>\n      <th>freq</th>\n      <td>133</td>\n      <td>2000</td>\n      <td>415</td>\n      <td>1980</td>\n    </tr>\n  </tbody>\n</table>\n</div>"
     },
     "execution_count": 8,
     "metadata": {},
     "output_type": "execute_result"
    }
   ],
   "source": [
    "df.describe()"
   ],
   "metadata": {
    "collapsed": false,
    "pycharm": {
     "name": "#%%\n"
    }
   }
  },
  {
   "cell_type": "markdown",
   "source": [
    "### Сгруппируйте вакансии по направлениями (DS, DE, Software Engenering, etc.)"
   ],
   "metadata": {
    "collapsed": false,
    "pycharm": {
     "name": "#%% md\n"
    }
   }
  },
  {
   "cell_type": "code",
   "execution_count": 9,
   "outputs": [
    {
     "data": {
      "text/plain": "0    Backend разработчик со знанием Python\n1    Backend разработчик со знанием Python\n2    Backend разработчик со знанием Python\n3                      Backend разработчик\n4    Backend разработчик со знанием Python\nName: title, dtype: object"
     },
     "execution_count": 9,
     "metadata": {},
     "output_type": "execute_result"
    }
   ],
   "source": [
    "titles = df['title']\n",
    "titles.head()"
   ],
   "metadata": {
    "collapsed": false,
    "pycharm": {
     "name": "#%%\n"
    }
   }
  },
  {
   "cell_type": "code",
   "execution_count": 10,
   "outputs": [],
   "source": [
    "stemmer_rus = SnowballStemmer(language='russian')\n",
    "stemmer_eng = SnowballStemmer(language='english')\n",
    "\n",
    "def token_and_stem(text):\n",
    "    tokens = [word for sent in nltk.sent_tokenize(text) for word in nltk.word_tokenize(sent)]\n",
    "    filtered_tokens_rus = []\n",
    "    filtered_tokens_eng = []\n",
    "    for token in tokens:\n",
    "        if re.search('[а-яА-Я]', token):\n",
    "            filtered_tokens_rus.append(token)\n",
    "    for token in tokens:\n",
    "        if re.search('[a-zA-Z]', token):\n",
    "            filtered_tokens_rus.append(token)\n",
    "    stems_rus = [stemmer_rus.stem(t) for t in filtered_tokens_rus]\n",
    "    stems_eng = [stemmer_eng.stem(t) for t in filtered_tokens_eng]\n",
    "    stems = stems_rus + stems_eng\n",
    "    return stems"
   ],
   "metadata": {
    "collapsed": false,
    "pycharm": {
     "name": "#%%\n"
    }
   }
  },
  {
   "cell_type": "code",
   "execution_count": 11,
   "outputs": [],
   "source": [
    "stopwords = nltk.corpus.stopwords.words('russian')\n",
    "stopwords.extend(['что', 'это', 'так', 'вот', 'быть', 'как', 'в', 'к', 'на', 'со', 'senior', 'middle', 'middle+', 'ведущий', 'главный'])\n",
    "\n",
    "n_featur=200000\n",
    "tfidf_vectorizer = TfidfVectorizer(max_df=0.95, max_features=10000,\n",
    "                                 min_df=0.01, stop_words=stopwords,\n",
    "                                 use_idf=True, tokenizer=token_and_stem, ngram_range=(1,3))"
   ],
   "metadata": {
    "collapsed": false,
    "pycharm": {
     "name": "#%%\n"
    }
   }
  },
  {
   "cell_type": "code",
   "execution_count": 12,
   "outputs": [
    {
     "name": "stderr",
     "output_type": "stream",
     "text": [
      "d:\\python\\de\\1.1\\venv\\lib\\site-packages\\sklearn\\feature_extraction\\text.py:404: UserWarning: Your stop_words may be inconsistent with your preprocessing. Tokenizing the stop words generated tokens ['бол', 'больш', 'будт', 'быт', 'вед', 'ведущ', 'впроч', 'всег', 'всегд', 'главн', 'даж', 'друг', 'е', 'ег', 'ем', 'есл', 'ест', 'ещ', 'зач', 'зде', 'ил', 'иногд', 'когд', 'конечн', 'куд', 'лучш', 'межд', 'мен', 'мног', 'мо', 'можн', 'нег', 'нельз', 'нибуд', 'никогд', 'нич', 'опя', 'посл', 'пот', 'почт', 'разв', 'сво', 'себ', 'совс', 'теб', 'тепер', 'тог', 'тогд', 'тож', 'тольк', 'хорош', 'хот', 'чег', 'чут', 'эт'] not in stop_words.\n",
      "  warnings.warn(\n"
     ]
    },
    {
     "name": "stdout",
     "output_type": "stream",
     "text": [
      "CPU times: total: 922 ms\n",
      "Wall time: 933 ms\n"
     ]
    }
   ],
   "source": [
    "%%time\n",
    "tfidf_matrix = tfidf_vectorizer.fit_transform(titles)"
   ],
   "metadata": {
    "collapsed": false,
    "pycharm": {
     "name": "#%%\n"
    }
   }
  },
  {
   "cell_type": "code",
   "execution_count": 13,
   "outputs": [
    {
     "data": {
      "text/plain": "<4700x81 sparse matrix of type '<class 'numpy.float64'>'\n\twith 13723 stored elements in Compressed Sparse Row format>"
     },
     "execution_count": 13,
     "metadata": {},
     "output_type": "execute_result"
    }
   ],
   "source": [
    "type(tfidf_matrix)\n",
    "tfidf_matrix"
   ],
   "metadata": {
    "collapsed": false,
    "pycharm": {
     "name": "#%%\n"
    }
   }
  },
  {
   "cell_type": "code",
   "execution_count": 14,
   "outputs": [
    {
     "data": {
      "text/plain": "(4700, 81)"
     },
     "execution_count": 14,
     "metadata": {},
     "output_type": "execute_result"
    }
   ],
   "source": [
    "tfidf_matrix.shape"
   ],
   "metadata": {
    "collapsed": false,
    "pycharm": {
     "name": "#%%\n"
    }
   }
  },
  {
   "cell_type": "code",
   "execution_count": 15,
   "outputs": [],
   "source": [
    "num_clusters = 25\n",
    "km = KMeans(n_clusters=num_clusters)"
   ],
   "metadata": {
    "collapsed": false,
    "pycharm": {
     "name": "#%%\n"
    }
   }
  },
  {
   "cell_type": "code",
   "execution_count": 16,
   "outputs": [
    {
     "name": "stdout",
     "output_type": "stream",
     "text": [
      "CPU times: total: 2.72 s\n",
      "Wall time: 502 ms\n"
     ]
    },
    {
     "data": {
      "text/plain": "KMeans(n_clusters=25)",
      "text/html": "<style>#sk-container-id-1 {color: black;background-color: white;}#sk-container-id-1 pre{padding: 0;}#sk-container-id-1 div.sk-toggleable {background-color: white;}#sk-container-id-1 label.sk-toggleable__label {cursor: pointer;display: block;width: 100%;margin-bottom: 0;padding: 0.3em;box-sizing: border-box;text-align: center;}#sk-container-id-1 label.sk-toggleable__label-arrow:before {content: \"▸\";float: left;margin-right: 0.25em;color: #696969;}#sk-container-id-1 label.sk-toggleable__label-arrow:hover:before {color: black;}#sk-container-id-1 div.sk-estimator:hover label.sk-toggleable__label-arrow:before {color: black;}#sk-container-id-1 div.sk-toggleable__content {max-height: 0;max-width: 0;overflow: hidden;text-align: left;background-color: #f0f8ff;}#sk-container-id-1 div.sk-toggleable__content pre {margin: 0.2em;color: black;border-radius: 0.25em;background-color: #f0f8ff;}#sk-container-id-1 input.sk-toggleable__control:checked~div.sk-toggleable__content {max-height: 200px;max-width: 100%;overflow: auto;}#sk-container-id-1 input.sk-toggleable__control:checked~label.sk-toggleable__label-arrow:before {content: \"▾\";}#sk-container-id-1 div.sk-estimator input.sk-toggleable__control:checked~label.sk-toggleable__label {background-color: #d4ebff;}#sk-container-id-1 div.sk-label input.sk-toggleable__control:checked~label.sk-toggleable__label {background-color: #d4ebff;}#sk-container-id-1 input.sk-hidden--visually {border: 0;clip: rect(1px 1px 1px 1px);clip: rect(1px, 1px, 1px, 1px);height: 1px;margin: -1px;overflow: hidden;padding: 0;position: absolute;width: 1px;}#sk-container-id-1 div.sk-estimator {font-family: monospace;background-color: #f0f8ff;border: 1px dotted black;border-radius: 0.25em;box-sizing: border-box;margin-bottom: 0.5em;}#sk-container-id-1 div.sk-estimator:hover {background-color: #d4ebff;}#sk-container-id-1 div.sk-parallel-item::after {content: \"\";width: 100%;border-bottom: 1px solid gray;flex-grow: 1;}#sk-container-id-1 div.sk-label:hover label.sk-toggleable__label {background-color: #d4ebff;}#sk-container-id-1 div.sk-serial::before {content: \"\";position: absolute;border-left: 1px solid gray;box-sizing: border-box;top: 0;bottom: 0;left: 50%;z-index: 0;}#sk-container-id-1 div.sk-serial {display: flex;flex-direction: column;align-items: center;background-color: white;padding-right: 0.2em;padding-left: 0.2em;position: relative;}#sk-container-id-1 div.sk-item {position: relative;z-index: 1;}#sk-container-id-1 div.sk-parallel {display: flex;align-items: stretch;justify-content: center;background-color: white;position: relative;}#sk-container-id-1 div.sk-item::before, #sk-container-id-1 div.sk-parallel-item::before {content: \"\";position: absolute;border-left: 1px solid gray;box-sizing: border-box;top: 0;bottom: 0;left: 50%;z-index: -1;}#sk-container-id-1 div.sk-parallel-item {display: flex;flex-direction: column;z-index: 1;position: relative;background-color: white;}#sk-container-id-1 div.sk-parallel-item:first-child::after {align-self: flex-end;width: 50%;}#sk-container-id-1 div.sk-parallel-item:last-child::after {align-self: flex-start;width: 50%;}#sk-container-id-1 div.sk-parallel-item:only-child::after {width: 0;}#sk-container-id-1 div.sk-dashed-wrapped {border: 1px dashed gray;margin: 0 0.4em 0.5em 0.4em;box-sizing: border-box;padding-bottom: 0.4em;background-color: white;}#sk-container-id-1 div.sk-label label {font-family: monospace;font-weight: bold;display: inline-block;line-height: 1.2em;}#sk-container-id-1 div.sk-label-container {text-align: center;}#sk-container-id-1 div.sk-container {/* jupyter's `normalize.less` sets `[hidden] { display: none; }` but bootstrap.min.css set `[hidden] { display: none !important; }` so we also need the `!important` here to be able to override the default hidden behavior on the sphinx rendered scikit-learn.org. See: https://github.com/scikit-learn/scikit-learn/issues/21755 */display: inline-block !important;position: relative;}#sk-container-id-1 div.sk-text-repr-fallback {display: none;}</style><div id=\"sk-container-id-1\" class=\"sk-top-container\"><div class=\"sk-text-repr-fallback\"><pre>KMeans(n_clusters=25)</pre><b>In a Jupyter environment, please rerun this cell to show the HTML representation or trust the notebook. <br />On GitHub, the HTML representation is unable to render, please try loading this page with nbviewer.org.</b></div><div class=\"sk-container\" hidden><div class=\"sk-item\"><div class=\"sk-estimator sk-toggleable\"><input class=\"sk-toggleable__control sk-hidden--visually\" id=\"sk-estimator-id-1\" type=\"checkbox\" checked><label for=\"sk-estimator-id-1\" class=\"sk-toggleable__label sk-toggleable__label-arrow\">KMeans</label><div class=\"sk-toggleable__content\"><pre>KMeans(n_clusters=25)</pre></div></div></div></div></div>"
     },
     "execution_count": 16,
     "metadata": {},
     "output_type": "execute_result"
    }
   ],
   "source": [
    "%%time\n",
    "km.fit(tfidf_matrix)"
   ],
   "metadata": {
    "collapsed": false,
    "pycharm": {
     "name": "#%%\n"
    }
   }
  },
  {
   "cell_type": "code",
   "execution_count": 17,
   "outputs": [
    {
     "name": "stdout",
     "output_type": "stream",
     "text": [
      "CPU times: total: 2.64 s\n",
      "Wall time: 448 ms\n"
     ]
    }
   ],
   "source": [
    "%%time\n",
    "idx = km.fit(tfidf_matrix)\n",
    "clusters = km.labels_.tolist()"
   ],
   "metadata": {
    "collapsed": false,
    "pycharm": {
     "name": "#%%\n"
    }
   }
  },
  {
   "cell_type": "code",
   "execution_count": 18,
   "outputs": [],
   "source": [
    "clusterkm = km.labels_.tolist()\n",
    "frame = pd.DataFrame(titles)\n",
    "out = {'title': titles, 'cluster': clusterkm}\n",
    "frame = pd.DataFrame(out, columns = ['title', 'cluster'])"
   ],
   "metadata": {
    "collapsed": false,
    "pycharm": {
     "name": "#%%\n"
    }
   }
  },
  {
   "cell_type": "code",
   "execution_count": 19,
   "outputs": [
    {
     "data": {
      "text/plain": "                                      title  cluster\n15                       Разработчик Python        0\n16                       Разработчик Python        0\n25    Разработчик Python (Senior/Principal)        0\n35                       Python разработчик        0\n41               Старший Python разработчик        0\n...                                     ...      ...\n3893              Python Junior разработчик        0\n4489                     Разработчик Python        0\n4499              Senior Python разработчик        0\n4515                     Python разработчик        0\n4529   Senior Python разработчик (back-end)        0\n\n[180 rows x 2 columns]",
      "text/html": "<div>\n<style scoped>\n    .dataframe tbody tr th:only-of-type {\n        vertical-align: middle;\n    }\n\n    .dataframe tbody tr th {\n        vertical-align: top;\n    }\n\n    .dataframe thead th {\n        text-align: right;\n    }\n</style>\n<table border=\"1\" class=\"dataframe\">\n  <thead>\n    <tr style=\"text-align: right;\">\n      <th></th>\n      <th>title</th>\n      <th>cluster</th>\n    </tr>\n  </thead>\n  <tbody>\n    <tr>\n      <th>15</th>\n      <td>Разработчик Python</td>\n      <td>0</td>\n    </tr>\n    <tr>\n      <th>16</th>\n      <td>Разработчик Python</td>\n      <td>0</td>\n    </tr>\n    <tr>\n      <th>25</th>\n      <td>Разработчик Python (Senior/Principal)</td>\n      <td>0</td>\n    </tr>\n    <tr>\n      <th>35</th>\n      <td>Python разработчик</td>\n      <td>0</td>\n    </tr>\n    <tr>\n      <th>41</th>\n      <td>Старший Python разработчик</td>\n      <td>0</td>\n    </tr>\n    <tr>\n      <th>...</th>\n      <td>...</td>\n      <td>...</td>\n    </tr>\n    <tr>\n      <th>3893</th>\n      <td>Python Junior разработчик</td>\n      <td>0</td>\n    </tr>\n    <tr>\n      <th>4489</th>\n      <td>Разработчик Python</td>\n      <td>0</td>\n    </tr>\n    <tr>\n      <th>4499</th>\n      <td>Senior Python разработчик</td>\n      <td>0</td>\n    </tr>\n    <tr>\n      <th>4515</th>\n      <td>Python разработчик</td>\n      <td>0</td>\n    </tr>\n    <tr>\n      <th>4529</th>\n      <td>Senior Python разработчик (back-end)</td>\n      <td>0</td>\n    </tr>\n  </tbody>\n</table>\n<p>180 rows × 2 columns</p>\n</div>"
     },
     "execution_count": 19,
     "metadata": {},
     "output_type": "execute_result"
    }
   ],
   "source": [
    "frame[frame.cluster.eq(0)]"
   ],
   "metadata": {
    "collapsed": false,
    "pycharm": {
     "name": "#%%\n"
    }
   }
  },
  {
   "cell_type": "code",
   "execution_count": 20,
   "outputs": [
    {
     "data": {
      "text/plain": "                                                  title  cluster\n618                         Senior QA Engineer (Python)        1\n678                 Senior QA engineer / тестировщик ПО        1\n774               Senior QA engineer (to Serbia/Canada)        1\n780               Senior QA engineer (to Serbia/Canada)        1\n813                                  QA Middle Engineer        1\n...                                                 ...      ...\n3669                                QA Engineer API/Web        1\n3696                                QA Engineer API/Web        1\n3752  Тестировщик ПО (QA Engineer с уклоном в автома...        1\n3797                                 QA middle engineer        1\n4556                                 Senior QA Engineer        1\n\n[68 rows x 2 columns]",
      "text/html": "<div>\n<style scoped>\n    .dataframe tbody tr th:only-of-type {\n        vertical-align: middle;\n    }\n\n    .dataframe tbody tr th {\n        vertical-align: top;\n    }\n\n    .dataframe thead th {\n        text-align: right;\n    }\n</style>\n<table border=\"1\" class=\"dataframe\">\n  <thead>\n    <tr style=\"text-align: right;\">\n      <th></th>\n      <th>title</th>\n      <th>cluster</th>\n    </tr>\n  </thead>\n  <tbody>\n    <tr>\n      <th>618</th>\n      <td>Senior QA Engineer (Python)</td>\n      <td>1</td>\n    </tr>\n    <tr>\n      <th>678</th>\n      <td>Senior QA engineer / тестировщик ПО</td>\n      <td>1</td>\n    </tr>\n    <tr>\n      <th>774</th>\n      <td>Senior QA engineer (to Serbia/Canada)</td>\n      <td>1</td>\n    </tr>\n    <tr>\n      <th>780</th>\n      <td>Senior QA engineer (to Serbia/Canada)</td>\n      <td>1</td>\n    </tr>\n    <tr>\n      <th>813</th>\n      <td>QA Middle Engineer</td>\n      <td>1</td>\n    </tr>\n    <tr>\n      <th>...</th>\n      <td>...</td>\n      <td>...</td>\n    </tr>\n    <tr>\n      <th>3669</th>\n      <td>QA Engineer API/Web</td>\n      <td>1</td>\n    </tr>\n    <tr>\n      <th>3696</th>\n      <td>QA Engineer API/Web</td>\n      <td>1</td>\n    </tr>\n    <tr>\n      <th>3752</th>\n      <td>Тестировщик ПО (QA Engineer с уклоном в автома...</td>\n      <td>1</td>\n    </tr>\n    <tr>\n      <th>3797</th>\n      <td>QA middle engineer</td>\n      <td>1</td>\n    </tr>\n    <tr>\n      <th>4556</th>\n      <td>Senior QA Engineer</td>\n      <td>1</td>\n    </tr>\n  </tbody>\n</table>\n<p>68 rows × 2 columns</p>\n</div>"
     },
     "execution_count": 20,
     "metadata": {},
     "output_type": "execute_result"
    }
   ],
   "source": [
    "frame[frame.cluster.eq(1)]"
   ],
   "metadata": {
    "collapsed": false,
    "pycharm": {
     "name": "#%%\n"
    }
   }
  },
  {
   "cell_type": "code",
   "execution_count": 21,
   "outputs": [
    {
     "data": {
      "text/plain": "                                                  title  cluster\n101   R&D Программист Python (Computer Graphics prod...        2\n118                   Программист С++ (Middle / Senior)        2\n129   R&D Программист Python (Computer Graphics prod...        2\n150         Программист разработчик SQL (SQL Developer)        2\n160                  Программист С/С++ (Embedded Linux)        2\n...                                                 ...      ...\n4473                             Начинающий программист        2\n4477                             Начинающий программист        2\n4605                              Программист C (Linux)        2\n4672                  Инженер-электронщик / программист        2\n4674                                Ведущий программист        2\n\n[254 rows x 2 columns]",
      "text/html": "<div>\n<style scoped>\n    .dataframe tbody tr th:only-of-type {\n        vertical-align: middle;\n    }\n\n    .dataframe tbody tr th {\n        vertical-align: top;\n    }\n\n    .dataframe thead th {\n        text-align: right;\n    }\n</style>\n<table border=\"1\" class=\"dataframe\">\n  <thead>\n    <tr style=\"text-align: right;\">\n      <th></th>\n      <th>title</th>\n      <th>cluster</th>\n    </tr>\n  </thead>\n  <tbody>\n    <tr>\n      <th>101</th>\n      <td>R&amp;D Программист Python (Computer Graphics prod...</td>\n      <td>2</td>\n    </tr>\n    <tr>\n      <th>118</th>\n      <td>Программист С++ (Middle / Senior)</td>\n      <td>2</td>\n    </tr>\n    <tr>\n      <th>129</th>\n      <td>R&amp;D Программист Python (Computer Graphics prod...</td>\n      <td>2</td>\n    </tr>\n    <tr>\n      <th>150</th>\n      <td>Программист разработчик SQL (SQL Developer)</td>\n      <td>2</td>\n    </tr>\n    <tr>\n      <th>160</th>\n      <td>Программист С/С++ (Embedded Linux)</td>\n      <td>2</td>\n    </tr>\n    <tr>\n      <th>...</th>\n      <td>...</td>\n      <td>...</td>\n    </tr>\n    <tr>\n      <th>4473</th>\n      <td>Начинающий программист</td>\n      <td>2</td>\n    </tr>\n    <tr>\n      <th>4477</th>\n      <td>Начинающий программист</td>\n      <td>2</td>\n    </tr>\n    <tr>\n      <th>4605</th>\n      <td>Программист C (Linux)</td>\n      <td>2</td>\n    </tr>\n    <tr>\n      <th>4672</th>\n      <td>Инженер-электронщик / программист</td>\n      <td>2</td>\n    </tr>\n    <tr>\n      <th>4674</th>\n      <td>Ведущий программист</td>\n      <td>2</td>\n    </tr>\n  </tbody>\n</table>\n<p>254 rows × 2 columns</p>\n</div>"
     },
     "execution_count": 21,
     "metadata": {},
     "output_type": "execute_result"
    }
   ],
   "source": [
    "frame[frame.cluster.eq(2)]"
   ],
   "metadata": {
    "collapsed": false,
    "pycharm": {
     "name": "#%%\n"
    }
   }
  },
  {
   "cell_type": "code",
   "execution_count": 22,
   "outputs": [
    {
     "data": {
      "text/plain": "                                                  title  cluster\n9                             Python developer (Middle)        3\n12                            Python developer (Senior)        3\n19                            Python Developer (Remote)        3\n20                                     Python Developer        3\n23                                Python Developer + ML        3\n...                                                 ...      ...\n4518  Middle+/Senior Python Developer / Python разра...        3\n4520                    Senior Python developer (MLOps)        3\n4521                            Senior python developer        3\n4536  Senior / Lead Python developer (Private Aviati...        3\n4554                            Senior Python Developer        3\n\n[298 rows x 2 columns]",
      "text/html": "<div>\n<style scoped>\n    .dataframe tbody tr th:only-of-type {\n        vertical-align: middle;\n    }\n\n    .dataframe tbody tr th {\n        vertical-align: top;\n    }\n\n    .dataframe thead th {\n        text-align: right;\n    }\n</style>\n<table border=\"1\" class=\"dataframe\">\n  <thead>\n    <tr style=\"text-align: right;\">\n      <th></th>\n      <th>title</th>\n      <th>cluster</th>\n    </tr>\n  </thead>\n  <tbody>\n    <tr>\n      <th>9</th>\n      <td>Python developer (Middle)</td>\n      <td>3</td>\n    </tr>\n    <tr>\n      <th>12</th>\n      <td>Python developer (Senior)</td>\n      <td>3</td>\n    </tr>\n    <tr>\n      <th>19</th>\n      <td>Python Developer (Remote)</td>\n      <td>3</td>\n    </tr>\n    <tr>\n      <th>20</th>\n      <td>Python Developer</td>\n      <td>3</td>\n    </tr>\n    <tr>\n      <th>23</th>\n      <td>Python Developer + ML</td>\n      <td>3</td>\n    </tr>\n    <tr>\n      <th>...</th>\n      <td>...</td>\n      <td>...</td>\n    </tr>\n    <tr>\n      <th>4518</th>\n      <td>Middle+/Senior Python Developer / Python разра...</td>\n      <td>3</td>\n    </tr>\n    <tr>\n      <th>4520</th>\n      <td>Senior Python developer (MLOps)</td>\n      <td>3</td>\n    </tr>\n    <tr>\n      <th>4521</th>\n      <td>Senior python developer</td>\n      <td>3</td>\n    </tr>\n    <tr>\n      <th>4536</th>\n      <td>Senior / Lead Python developer (Private Aviati...</td>\n      <td>3</td>\n    </tr>\n    <tr>\n      <th>4554</th>\n      <td>Senior Python Developer</td>\n      <td>3</td>\n    </tr>\n  </tbody>\n</table>\n<p>298 rows × 2 columns</p>\n</div>"
     },
     "execution_count": 22,
     "metadata": {},
     "output_type": "execute_result"
    }
   ],
   "source": [
    "frame[frame.cluster.eq(3)]"
   ],
   "metadata": {
    "collapsed": false,
    "pycharm": {
     "name": "#%%\n"
    }
   }
  },
  {
   "cell_type": "code",
   "execution_count": 23,
   "outputs": [
    {
     "data": {
      "text/plain": "                                                  title  cluster\n6     Разработчик Solidity/Разработчик Rust/Разработ...        4\n27                                  Backend-разработчик        4\n33                             Ведущий Python-developer        4\n37                                   Data-аналитик (ML)        4\n38                  Python Django разработчик, удаленно        4\n...                                                 ...      ...\n4673                           RTL-разработчик (Senior)        4\n4677     Старший специалист по верификации RTL (Senior)        4\n4689  Group Manager (Advanced Technologies and Perfo...        4\n4694             CTO / Chief technical officer Robo Dev        4\n4699                    Risk Assurance Services Manager        4\n\n[960 rows x 2 columns]",
      "text/html": "<div>\n<style scoped>\n    .dataframe tbody tr th:only-of-type {\n        vertical-align: middle;\n    }\n\n    .dataframe tbody tr th {\n        vertical-align: top;\n    }\n\n    .dataframe thead th {\n        text-align: right;\n    }\n</style>\n<table border=\"1\" class=\"dataframe\">\n  <thead>\n    <tr style=\"text-align: right;\">\n      <th></th>\n      <th>title</th>\n      <th>cluster</th>\n    </tr>\n  </thead>\n  <tbody>\n    <tr>\n      <th>6</th>\n      <td>Разработчик Solidity/Разработчик Rust/Разработ...</td>\n      <td>4</td>\n    </tr>\n    <tr>\n      <th>27</th>\n      <td>Backend-разработчик</td>\n      <td>4</td>\n    </tr>\n    <tr>\n      <th>33</th>\n      <td>Ведущий Python-developer</td>\n      <td>4</td>\n    </tr>\n    <tr>\n      <th>37</th>\n      <td>Data-аналитик (ML)</td>\n      <td>4</td>\n    </tr>\n    <tr>\n      <th>38</th>\n      <td>Python Django разработчик, удаленно</td>\n      <td>4</td>\n    </tr>\n    <tr>\n      <th>...</th>\n      <td>...</td>\n      <td>...</td>\n    </tr>\n    <tr>\n      <th>4673</th>\n      <td>RTL-разработчик (Senior)</td>\n      <td>4</td>\n    </tr>\n    <tr>\n      <th>4677</th>\n      <td>Старший специалист по верификации RTL (Senior)</td>\n      <td>4</td>\n    </tr>\n    <tr>\n      <th>4689</th>\n      <td>Group Manager (Advanced Technologies and Perfo...</td>\n      <td>4</td>\n    </tr>\n    <tr>\n      <th>4694</th>\n      <td>CTO / Chief technical officer Robo Dev</td>\n      <td>4</td>\n    </tr>\n    <tr>\n      <th>4699</th>\n      <td>Risk Assurance Services Manager</td>\n      <td>4</td>\n    </tr>\n  </tbody>\n</table>\n<p>960 rows × 2 columns</p>\n</div>"
     },
     "execution_count": 23,
     "metadata": {},
     "output_type": "execute_result"
    }
   ],
   "source": [
    "frame[frame.cluster.eq(4)]"
   ],
   "metadata": {
    "collapsed": false,
    "pycharm": {
     "name": "#%%\n"
    }
   }
  },
  {
   "cell_type": "code",
   "execution_count": 24,
   "outputs": [
    {
     "data": {
      "text/plain": "                                                 title  cluster\n11                             Разработчик C# / Python        5\n13    Python разработчик (личный кабинет пользователя)        5\n17                   Python разработчик (дистанционно)        5\n22                           Python/Django разработчик        5\n26                   Python разработчик (дистанционно)        5\n...                                                ...      ...\n4527                                   Разработчик С++        5\n4560                           Senior .Net разработчик        5\n4566                           Senior .Net разработчик        5\n4607                                   С++ разработчик        5\n4639                                   С++ разработчик        5\n\n[340 rows x 2 columns]",
      "text/html": "<div>\n<style scoped>\n    .dataframe tbody tr th:only-of-type {\n        vertical-align: middle;\n    }\n\n    .dataframe tbody tr th {\n        vertical-align: top;\n    }\n\n    .dataframe thead th {\n        text-align: right;\n    }\n</style>\n<table border=\"1\" class=\"dataframe\">\n  <thead>\n    <tr style=\"text-align: right;\">\n      <th></th>\n      <th>title</th>\n      <th>cluster</th>\n    </tr>\n  </thead>\n  <tbody>\n    <tr>\n      <th>11</th>\n      <td>Разработчик C# / Python</td>\n      <td>5</td>\n    </tr>\n    <tr>\n      <th>13</th>\n      <td>Python разработчик (личный кабинет пользователя)</td>\n      <td>5</td>\n    </tr>\n    <tr>\n      <th>17</th>\n      <td>Python разработчик (дистанционно)</td>\n      <td>5</td>\n    </tr>\n    <tr>\n      <th>22</th>\n      <td>Python/Django разработчик</td>\n      <td>5</td>\n    </tr>\n    <tr>\n      <th>26</th>\n      <td>Python разработчик (дистанционно)</td>\n      <td>5</td>\n    </tr>\n    <tr>\n      <th>...</th>\n      <td>...</td>\n      <td>...</td>\n    </tr>\n    <tr>\n      <th>4527</th>\n      <td>Разработчик С++</td>\n      <td>5</td>\n    </tr>\n    <tr>\n      <th>4560</th>\n      <td>Senior .Net разработчик</td>\n      <td>5</td>\n    </tr>\n    <tr>\n      <th>4566</th>\n      <td>Senior .Net разработчик</td>\n      <td>5</td>\n    </tr>\n    <tr>\n      <th>4607</th>\n      <td>С++ разработчик</td>\n      <td>5</td>\n    </tr>\n    <tr>\n      <th>4639</th>\n      <td>С++ разработчик</td>\n      <td>5</td>\n    </tr>\n  </tbody>\n</table>\n<p>340 rows × 2 columns</p>\n</div>"
     },
     "execution_count": 24,
     "metadata": {},
     "output_type": "execute_result"
    }
   ],
   "source": [
    "frame[frame.cluster.eq(5)]"
   ],
   "metadata": {
    "collapsed": false,
    "pycharm": {
     "name": "#%%\n"
    }
   }
  },
  {
   "cell_type": "code",
   "execution_count": 25,
   "outputs": [
    {
     "data": {
      "text/plain": "                                                  title  cluster\n3911  Специалист службы поддержки с техническими зна...        6\n3912  Специалист службы поддержки с техническими зна...        6\n3913  Специалист службы поддержки с техническими зна...        6\n3914  Специалист службы поддержки с техническими зна...        6\n3961  Специалист службы поддержки с техническими зна...        6\n...                                                 ...      ...\n4439  Специалист службы поддержки с техническими зна...        6\n4440  Специалист службы поддержки с техническими зна...        6\n4441  Специалист службы поддержки с техническими зна...        6\n4442  Специалист службы поддержки с техническими зна...        6\n4443  Специалист службы поддержки с техническими зна...        6\n\n[285 rows x 2 columns]",
      "text/html": "<div>\n<style scoped>\n    .dataframe tbody tr th:only-of-type {\n        vertical-align: middle;\n    }\n\n    .dataframe tbody tr th {\n        vertical-align: top;\n    }\n\n    .dataframe thead th {\n        text-align: right;\n    }\n</style>\n<table border=\"1\" class=\"dataframe\">\n  <thead>\n    <tr style=\"text-align: right;\">\n      <th></th>\n      <th>title</th>\n      <th>cluster</th>\n    </tr>\n  </thead>\n  <tbody>\n    <tr>\n      <th>3911</th>\n      <td>Специалист службы поддержки с техническими зна...</td>\n      <td>6</td>\n    </tr>\n    <tr>\n      <th>3912</th>\n      <td>Специалист службы поддержки с техническими зна...</td>\n      <td>6</td>\n    </tr>\n    <tr>\n      <th>3913</th>\n      <td>Специалист службы поддержки с техническими зна...</td>\n      <td>6</td>\n    </tr>\n    <tr>\n      <th>3914</th>\n      <td>Специалист службы поддержки с техническими зна...</td>\n      <td>6</td>\n    </tr>\n    <tr>\n      <th>3961</th>\n      <td>Специалист службы поддержки с техническими зна...</td>\n      <td>6</td>\n    </tr>\n    <tr>\n      <th>...</th>\n      <td>...</td>\n      <td>...</td>\n    </tr>\n    <tr>\n      <th>4439</th>\n      <td>Специалист службы поддержки с техническими зна...</td>\n      <td>6</td>\n    </tr>\n    <tr>\n      <th>4440</th>\n      <td>Специалист службы поддержки с техническими зна...</td>\n      <td>6</td>\n    </tr>\n    <tr>\n      <th>4441</th>\n      <td>Специалист службы поддержки с техническими зна...</td>\n      <td>6</td>\n    </tr>\n    <tr>\n      <th>4442</th>\n      <td>Специалист службы поддержки с техническими зна...</td>\n      <td>6</td>\n    </tr>\n    <tr>\n      <th>4443</th>\n      <td>Специалист службы поддержки с техническими зна...</td>\n      <td>6</td>\n    </tr>\n  </tbody>\n</table>\n<p>285 rows × 2 columns</p>\n</div>"
     },
     "execution_count": 25,
     "metadata": {},
     "output_type": "execute_result"
    }
   ],
   "source": [
    "frame[frame.cluster.eq(6)]"
   ],
   "metadata": {
    "collapsed": false,
    "pycharm": {
     "name": "#%%\n"
    }
   }
  },
  {
   "cell_type": "code",
   "execution_count": 26,
   "outputs": [
    {
     "data": {
      "text/plain": "                                                  title  cluster\n300   Инженер-Программист (отдела функционального те...        7\n318                          Инженер-программист Python        7\n387                          Инженер-программист Python        7\n476   Ведущий инженер-программист (разрабатывающее п...        7\n553   Инженер-программист встраиваемых систем / Midd...        7\n...                                                 ...      ...\n4455                                Инженер-программист        7\n4467                                Инженер-программист        7\n4553                   Инженер-программист (Full Stack)        7\n4578  Ведущий инженер-программист по разработке сете...        7\n4598  Ведущий инженер-программист по разработке сете...        7\n\n[165 rows x 2 columns]",
      "text/html": "<div>\n<style scoped>\n    .dataframe tbody tr th:only-of-type {\n        vertical-align: middle;\n    }\n\n    .dataframe tbody tr th {\n        vertical-align: top;\n    }\n\n    .dataframe thead th {\n        text-align: right;\n    }\n</style>\n<table border=\"1\" class=\"dataframe\">\n  <thead>\n    <tr style=\"text-align: right;\">\n      <th></th>\n      <th>title</th>\n      <th>cluster</th>\n    </tr>\n  </thead>\n  <tbody>\n    <tr>\n      <th>300</th>\n      <td>Инженер-Программист (отдела функционального те...</td>\n      <td>7</td>\n    </tr>\n    <tr>\n      <th>318</th>\n      <td>Инженер-программист Python</td>\n      <td>7</td>\n    </tr>\n    <tr>\n      <th>387</th>\n      <td>Инженер-программист Python</td>\n      <td>7</td>\n    </tr>\n    <tr>\n      <th>476</th>\n      <td>Ведущий инженер-программист (разрабатывающее п...</td>\n      <td>7</td>\n    </tr>\n    <tr>\n      <th>553</th>\n      <td>Инженер-программист встраиваемых систем / Midd...</td>\n      <td>7</td>\n    </tr>\n    <tr>\n      <th>...</th>\n      <td>...</td>\n      <td>...</td>\n    </tr>\n    <tr>\n      <th>4455</th>\n      <td>Инженер-программист</td>\n      <td>7</td>\n    </tr>\n    <tr>\n      <th>4467</th>\n      <td>Инженер-программист</td>\n      <td>7</td>\n    </tr>\n    <tr>\n      <th>4553</th>\n      <td>Инженер-программист (Full Stack)</td>\n      <td>7</td>\n    </tr>\n    <tr>\n      <th>4578</th>\n      <td>Ведущий инженер-программист по разработке сете...</td>\n      <td>7</td>\n    </tr>\n    <tr>\n      <th>4598</th>\n      <td>Ведущий инженер-программист по разработке сете...</td>\n      <td>7</td>\n    </tr>\n  </tbody>\n</table>\n<p>165 rows × 2 columns</p>\n</div>"
     },
     "execution_count": 26,
     "metadata": {},
     "output_type": "execute_result"
    }
   ],
   "source": [
    "frame[frame.cluster.eq(7)]"
   ],
   "metadata": {
    "collapsed": false,
    "pycharm": {
     "name": "#%%\n"
    }
   }
  },
  {
   "cell_type": "code",
   "execution_count": 27,
   "outputs": [
    {
     "data": {
      "text/plain": "                                                  title  cluster\n8                      Python-разработчик (Django, DRF)        8\n10                                   Python-разработчик        8\n31                         Fullstack Python-разработчик        8\n34                         Fullstack Python-разработчик        8\n42                            Senior Python-разработчик        8\n...                                                 ...      ...\n4500  Middle/Senior Python-разработчик в команду Доб...        8\n4501  Middle/Senior Python-разработчик в команду Доб...        8\n4502  Middle/Senior Python-разработчик в команду Доб...        8\n4504  Middle/Senior Python-разработчик в команду Доб...        8\n4508  Middle/Senior Python-разработчик в команду Доб...        8\n\n[99 rows x 2 columns]",
      "text/html": "<div>\n<style scoped>\n    .dataframe tbody tr th:only-of-type {\n        vertical-align: middle;\n    }\n\n    .dataframe tbody tr th {\n        vertical-align: top;\n    }\n\n    .dataframe thead th {\n        text-align: right;\n    }\n</style>\n<table border=\"1\" class=\"dataframe\">\n  <thead>\n    <tr style=\"text-align: right;\">\n      <th></th>\n      <th>title</th>\n      <th>cluster</th>\n    </tr>\n  </thead>\n  <tbody>\n    <tr>\n      <th>8</th>\n      <td>Python-разработчик (Django, DRF)</td>\n      <td>8</td>\n    </tr>\n    <tr>\n      <th>10</th>\n      <td>Python-разработчик</td>\n      <td>8</td>\n    </tr>\n    <tr>\n      <th>31</th>\n      <td>Fullstack Python-разработчик</td>\n      <td>8</td>\n    </tr>\n    <tr>\n      <th>34</th>\n      <td>Fullstack Python-разработчик</td>\n      <td>8</td>\n    </tr>\n    <tr>\n      <th>42</th>\n      <td>Senior Python-разработчик</td>\n      <td>8</td>\n    </tr>\n    <tr>\n      <th>...</th>\n      <td>...</td>\n      <td>...</td>\n    </tr>\n    <tr>\n      <th>4500</th>\n      <td>Middle/Senior Python-разработчик в команду Доб...</td>\n      <td>8</td>\n    </tr>\n    <tr>\n      <th>4501</th>\n      <td>Middle/Senior Python-разработчик в команду Доб...</td>\n      <td>8</td>\n    </tr>\n    <tr>\n      <th>4502</th>\n      <td>Middle/Senior Python-разработчик в команду Доб...</td>\n      <td>8</td>\n    </tr>\n    <tr>\n      <th>4504</th>\n      <td>Middle/Senior Python-разработчик в команду Доб...</td>\n      <td>8</td>\n    </tr>\n    <tr>\n      <th>4508</th>\n      <td>Middle/Senior Python-разработчик в команду Доб...</td>\n      <td>8</td>\n    </tr>\n  </tbody>\n</table>\n<p>99 rows × 2 columns</p>\n</div>"
     },
     "execution_count": 27,
     "metadata": {},
     "output_type": "execute_result"
    }
   ],
   "source": [
    "frame[frame.cluster.eq(8)]"
   ],
   "metadata": {
    "collapsed": false,
    "pycharm": {
     "name": "#%%\n"
    }
   }
  },
  {
   "cell_type": "code",
   "execution_count": 28,
   "outputs": [
    {
     "data": {
      "text/plain": "                                                  title  cluster\n142                                       Data Engineer        9\n278                      Data Engineer (middle+/senior)        9\n549                       Data Engineer (ETL Developer)        9\n566                                       Data engineer        9\n612   Разработчик курса/методист/преподаватель по Da...        9\n...                                                 ...      ...\n4617                Data Science Эксперт в Yandex Cloud        9\n4627                      Senior Manager Data Analytics        9\n4645                Data Science Эксперт в Yandex Cloud        9\n4675                                Архитектор Big Data        9\n4688                      Senior Manager Data Analytics        9\n\n[107 rows x 2 columns]",
      "text/html": "<div>\n<style scoped>\n    .dataframe tbody tr th:only-of-type {\n        vertical-align: middle;\n    }\n\n    .dataframe tbody tr th {\n        vertical-align: top;\n    }\n\n    .dataframe thead th {\n        text-align: right;\n    }\n</style>\n<table border=\"1\" class=\"dataframe\">\n  <thead>\n    <tr style=\"text-align: right;\">\n      <th></th>\n      <th>title</th>\n      <th>cluster</th>\n    </tr>\n  </thead>\n  <tbody>\n    <tr>\n      <th>142</th>\n      <td>Data Engineer</td>\n      <td>9</td>\n    </tr>\n    <tr>\n      <th>278</th>\n      <td>Data Engineer (middle+/senior)</td>\n      <td>9</td>\n    </tr>\n    <tr>\n      <th>549</th>\n      <td>Data Engineer (ETL Developer)</td>\n      <td>9</td>\n    </tr>\n    <tr>\n      <th>566</th>\n      <td>Data engineer</td>\n      <td>9</td>\n    </tr>\n    <tr>\n      <th>612</th>\n      <td>Разработчик курса/методист/преподаватель по Da...</td>\n      <td>9</td>\n    </tr>\n    <tr>\n      <th>...</th>\n      <td>...</td>\n      <td>...</td>\n    </tr>\n    <tr>\n      <th>4617</th>\n      <td>Data Science Эксперт в Yandex Cloud</td>\n      <td>9</td>\n    </tr>\n    <tr>\n      <th>4627</th>\n      <td>Senior Manager Data Analytics</td>\n      <td>9</td>\n    </tr>\n    <tr>\n      <th>4645</th>\n      <td>Data Science Эксперт в Yandex Cloud</td>\n      <td>9</td>\n    </tr>\n    <tr>\n      <th>4675</th>\n      <td>Архитектор Big Data</td>\n      <td>9</td>\n    </tr>\n    <tr>\n      <th>4688</th>\n      <td>Senior Manager Data Analytics</td>\n      <td>9</td>\n    </tr>\n  </tbody>\n</table>\n<p>107 rows × 2 columns</p>\n</div>"
     },
     "execution_count": 28,
     "metadata": {},
     "output_type": "execute_result"
    }
   ],
   "source": [
    "frame[frame.cluster.eq(9)]"
   ],
   "metadata": {
    "collapsed": false,
    "pycharm": {
     "name": "#%%\n"
    }
   }
  },
  {
   "cell_type": "code",
   "execution_count": 29,
   "outputs": [
    {
     "data": {
      "text/plain": "                                                  title  cluster\n812                       Инженер технической поддержки       10\n1685  Специалист по техническому сопровождению инфор...       10\n1745  PHP- разработчик с функциями технической подде...       10\n2701                      Инженер технической поддержки       10\n2738  Специалист технической поддержки приложений дл...       10\n...                                                 ...      ...\n4268                   Специалист технической поддержки       10\n4464  Специалист технической поддержки Yandex.SupportAl       10\n4465  Специалист технической поддержки Yandex.SupportAl       10\n4466  Специалист технической поддержки Yandex.SupportAl       10\n4471           Инженер технической поддержки (Wireless)       10\n\n[165 rows x 2 columns]",
      "text/html": "<div>\n<style scoped>\n    .dataframe tbody tr th:only-of-type {\n        vertical-align: middle;\n    }\n\n    .dataframe tbody tr th {\n        vertical-align: top;\n    }\n\n    .dataframe thead th {\n        text-align: right;\n    }\n</style>\n<table border=\"1\" class=\"dataframe\">\n  <thead>\n    <tr style=\"text-align: right;\">\n      <th></th>\n      <th>title</th>\n      <th>cluster</th>\n    </tr>\n  </thead>\n  <tbody>\n    <tr>\n      <th>812</th>\n      <td>Инженер технической поддержки</td>\n      <td>10</td>\n    </tr>\n    <tr>\n      <th>1685</th>\n      <td>Специалист по техническому сопровождению инфор...</td>\n      <td>10</td>\n    </tr>\n    <tr>\n      <th>1745</th>\n      <td>PHP- разработчик с функциями технической подде...</td>\n      <td>10</td>\n    </tr>\n    <tr>\n      <th>2701</th>\n      <td>Инженер технической поддержки</td>\n      <td>10</td>\n    </tr>\n    <tr>\n      <th>2738</th>\n      <td>Специалист технической поддержки приложений дл...</td>\n      <td>10</td>\n    </tr>\n    <tr>\n      <th>...</th>\n      <td>...</td>\n      <td>...</td>\n    </tr>\n    <tr>\n      <th>4268</th>\n      <td>Специалист технической поддержки</td>\n      <td>10</td>\n    </tr>\n    <tr>\n      <th>4464</th>\n      <td>Специалист технической поддержки Yandex.SupportAl</td>\n      <td>10</td>\n    </tr>\n    <tr>\n      <th>4465</th>\n      <td>Специалист технической поддержки Yandex.SupportAl</td>\n      <td>10</td>\n    </tr>\n    <tr>\n      <th>4466</th>\n      <td>Специалист технической поддержки Yandex.SupportAl</td>\n      <td>10</td>\n    </tr>\n    <tr>\n      <th>4471</th>\n      <td>Инженер технической поддержки (Wireless)</td>\n      <td>10</td>\n    </tr>\n  </tbody>\n</table>\n<p>165 rows × 2 columns</p>\n</div>"
     },
     "execution_count": 29,
     "metadata": {},
     "output_type": "execute_result"
    }
   ],
   "source": [
    "frame[frame.cluster.eq(10)]"
   ],
   "metadata": {
    "collapsed": false,
    "pycharm": {
     "name": "#%%\n"
    }
   }
  },
  {
   "cell_type": "code",
   "execution_count": 30,
   "outputs": [
    {
     "data": {
      "text/plain": "                                                  title  cluster\n439                              Senior Python Engineer       11\n474   Backend Engineer (Kotlin/C++/Python) at Joompa...       11\n491   Backend Engineer (Kotlin/C++/Python) at Joompa...       11\n519                              Senior Python Engineer       11\n532                       Software Engineer C++ /Python       11\n...                                                 ...      ...\n4687     Senior C++ Browser Engineer (relocation to EU)       11\n4693               Senior Software Engineer (Linux/С++)       11\n4695               Senior System Engineer (Admins Team)       11\n4696               Senior System Engineer (Admins Team)       11\n4698  Senior/Lead Software Engineer (.NET), Relocati...       11\n\n[158 rows x 2 columns]",
      "text/html": "<div>\n<style scoped>\n    .dataframe tbody tr th:only-of-type {\n        vertical-align: middle;\n    }\n\n    .dataframe tbody tr th {\n        vertical-align: top;\n    }\n\n    .dataframe thead th {\n        text-align: right;\n    }\n</style>\n<table border=\"1\" class=\"dataframe\">\n  <thead>\n    <tr style=\"text-align: right;\">\n      <th></th>\n      <th>title</th>\n      <th>cluster</th>\n    </tr>\n  </thead>\n  <tbody>\n    <tr>\n      <th>439</th>\n      <td>Senior Python Engineer</td>\n      <td>11</td>\n    </tr>\n    <tr>\n      <th>474</th>\n      <td>Backend Engineer (Kotlin/C++/Python) at Joompa...</td>\n      <td>11</td>\n    </tr>\n    <tr>\n      <th>491</th>\n      <td>Backend Engineer (Kotlin/C++/Python) at Joompa...</td>\n      <td>11</td>\n    </tr>\n    <tr>\n      <th>519</th>\n      <td>Senior Python Engineer</td>\n      <td>11</td>\n    </tr>\n    <tr>\n      <th>532</th>\n      <td>Software Engineer C++ /Python</td>\n      <td>11</td>\n    </tr>\n    <tr>\n      <th>...</th>\n      <td>...</td>\n      <td>...</td>\n    </tr>\n    <tr>\n      <th>4687</th>\n      <td>Senior C++ Browser Engineer (relocation to EU)</td>\n      <td>11</td>\n    </tr>\n    <tr>\n      <th>4693</th>\n      <td>Senior Software Engineer (Linux/С++)</td>\n      <td>11</td>\n    </tr>\n    <tr>\n      <th>4695</th>\n      <td>Senior System Engineer (Admins Team)</td>\n      <td>11</td>\n    </tr>\n    <tr>\n      <th>4696</th>\n      <td>Senior System Engineer (Admins Team)</td>\n      <td>11</td>\n    </tr>\n    <tr>\n      <th>4698</th>\n      <td>Senior/Lead Software Engineer (.NET), Relocati...</td>\n      <td>11</td>\n    </tr>\n  </tbody>\n</table>\n<p>158 rows × 2 columns</p>\n</div>"
     },
     "execution_count": 30,
     "metadata": {},
     "output_type": "execute_result"
    }
   ],
   "source": [
    "frame[frame.cluster.eq(11)]"
   ],
   "metadata": {
    "collapsed": false,
    "pycharm": {
     "name": "#%%\n"
    }
   }
  },
  {
   "cell_type": "code",
   "execution_count": 31,
   "outputs": [
    {
     "data": {
      "text/plain": "                                                  title  cluster\n87    Pipeline developer / Пайплайн разработчик (Pyt...       12\n123                                   Pyth‎on Developer       12\n215        Фулл-стек разработчик / Full-stack developer       12\n223                                  Back-End developer       12\n232                                         R Developer       12\n...                                                 ...      ...\n4637                         Frontend developer (react)       12\n4663              Senior Frontend Developer (Vue, Nuxt)       12\n4665                               Full-Stack Developer       12\n4691                               Full-stack Developer       12\n4692                         Senior Fullstack Developer       12\n\n[307 rows x 2 columns]",
      "text/html": "<div>\n<style scoped>\n    .dataframe tbody tr th:only-of-type {\n        vertical-align: middle;\n    }\n\n    .dataframe tbody tr th {\n        vertical-align: top;\n    }\n\n    .dataframe thead th {\n        text-align: right;\n    }\n</style>\n<table border=\"1\" class=\"dataframe\">\n  <thead>\n    <tr style=\"text-align: right;\">\n      <th></th>\n      <th>title</th>\n      <th>cluster</th>\n    </tr>\n  </thead>\n  <tbody>\n    <tr>\n      <th>87</th>\n      <td>Pipeline developer / Пайплайн разработчик (Pyt...</td>\n      <td>12</td>\n    </tr>\n    <tr>\n      <th>123</th>\n      <td>Pyth‎on Developer</td>\n      <td>12</td>\n    </tr>\n    <tr>\n      <th>215</th>\n      <td>Фулл-стек разработчик / Full-stack developer</td>\n      <td>12</td>\n    </tr>\n    <tr>\n      <th>223</th>\n      <td>Back-End developer</td>\n      <td>12</td>\n    </tr>\n    <tr>\n      <th>232</th>\n      <td>R Developer</td>\n      <td>12</td>\n    </tr>\n    <tr>\n      <th>...</th>\n      <td>...</td>\n      <td>...</td>\n    </tr>\n    <tr>\n      <th>4637</th>\n      <td>Frontend developer (react)</td>\n      <td>12</td>\n    </tr>\n    <tr>\n      <th>4663</th>\n      <td>Senior Frontend Developer (Vue, Nuxt)</td>\n      <td>12</td>\n    </tr>\n    <tr>\n      <th>4665</th>\n      <td>Full-Stack Developer</td>\n      <td>12</td>\n    </tr>\n    <tr>\n      <th>4691</th>\n      <td>Full-stack Developer</td>\n      <td>12</td>\n    </tr>\n    <tr>\n      <th>4692</th>\n      <td>Senior Fullstack Developer</td>\n      <td>12</td>\n    </tr>\n  </tbody>\n</table>\n<p>307 rows × 2 columns</p>\n</div>"
     },
     "execution_count": 31,
     "metadata": {},
     "output_type": "execute_result"
    }
   ],
   "source": [
    "frame[frame.cluster.eq(12)]"
   ],
   "metadata": {
    "collapsed": false,
    "pycharm": {
     "name": "#%%\n"
    }
   }
  },
  {
   "cell_type": "code",
   "execution_count": 32,
   "outputs": [
    {
     "data": {
      "text/plain": "                                                  title  cluster\n673         Системный инженер (системный администратор)       13\n728                          Ведущий системный аналитик       13\n754                                Системный архитектор       13\n818   Системный аналитик (ИТ-разработка и консалтинг...       13\n829                                Системный архитектор       13\n834                                  Системный аналитик       13\n854                                  Системный аналитик       13\n855   Системный аналитик (ИТ-разработка и консалтинг...       13\n893                         Системный Архитектор (Wink)       13\n1032                          Системный аналитик (Wink)       13\n1109           Системный аналитик (Рекламная платформа)       13\n1155                Системный администратор/Программист       13\n1383           Системный аналитик (Рекламная платформа)       13\n1416           Системный аналитик (Рекламная платформа)       13\n1640  Системный аналитик (консультант/партнер) по Da...       13\n1811            Системный аналитик (Графовая платформа)       13\n1837            Системный аналитик (Графовая платформа)       13\n1936                       Системный аналитик ( Senior)       13\n2562             Системный аналитик продукта Naumen SAM       13\n2793                     Системный администратор_ОАЭППО       13\n2847                                 Системный аналитик       13\n2859                                 Системный аналитик       13\n2861                       Системный аналитик Почтоматы       13\n2912         Системный аналитик (применение моделей ML)       13\n3068                         Старший системный аналитик       13\n3095         Системный аналитик (применение моделей ML)       13\n3105                         Старший системный аналитик       13\n3249             Системный аналитик DWH в Тинькофф Азия       13\n3252             Системный аналитик DWH в Тинькофф Азия       13\n3257             Системный аналитик DWH в Тинькофф Азия       13\n3259             Системный аналитик DWH в Тинькофф Азия       13\n3260             Системный аналитик DWH в Тинькофф Азия       13\n3265             Системный аналитик DWH в Тинькофф Азия       13\n3268             Системный аналитик DWH в Тинькофф Азия       13\n3269             Системный аналитик DWH в Тинькофф Азия       13\n3270             Системный аналитик DWH в Тинькофф Азия       13\n3275                             Системный аналитик DWH       13\n3363                             Системный аналитик DWH       13\n3378                         Системный аналитик (Халва)       13\n3379                     Системный администратор/Devops       13\n3410                                 Системный аналитик       13\n3437                                 Системный аналитик       13\n3443                            Системный аналитик (DS)       13\n3446         Системный аналитик продукта Видеоаналитика       13\n3450                                 Системный аналитик       13\n3488                                 Системный аналитик       13\n3610                                 Системный аналитик       13\n3635               Системный аналитик/Разработчик (SQL)       13\n3679                   Системный аналитик Киберразведки       13\n3706                    Системный аналитик DWH (Hadoop)       13\n3726                    Системный аналитик DWH (Hadoop)       13\n3753                                 Системный аналитик       13\n3796                         Старший системный аналитик       13\n3809                          Системный аналитик (Ключ)       13\n3812                   Системный аналитик (проект Ключ)       13\n3846             Системный аналитик проектов Naumen SMP       13\n3848             Системный аналитик проектов Naumen SMP       13\n3927                   Junior/Middle системный аналитик       13\n4676                         Ведущий системный аналитик       13",
      "text/html": "<div>\n<style scoped>\n    .dataframe tbody tr th:only-of-type {\n        vertical-align: middle;\n    }\n\n    .dataframe tbody tr th {\n        vertical-align: top;\n    }\n\n    .dataframe thead th {\n        text-align: right;\n    }\n</style>\n<table border=\"1\" class=\"dataframe\">\n  <thead>\n    <tr style=\"text-align: right;\">\n      <th></th>\n      <th>title</th>\n      <th>cluster</th>\n    </tr>\n  </thead>\n  <tbody>\n    <tr>\n      <th>673</th>\n      <td>Системный инженер (системный администратор)</td>\n      <td>13</td>\n    </tr>\n    <tr>\n      <th>728</th>\n      <td>Ведущий системный аналитик</td>\n      <td>13</td>\n    </tr>\n    <tr>\n      <th>754</th>\n      <td>Системный архитектор</td>\n      <td>13</td>\n    </tr>\n    <tr>\n      <th>818</th>\n      <td>Системный аналитик (ИТ-разработка и консалтинг...</td>\n      <td>13</td>\n    </tr>\n    <tr>\n      <th>829</th>\n      <td>Системный архитектор</td>\n      <td>13</td>\n    </tr>\n    <tr>\n      <th>834</th>\n      <td>Системный аналитик</td>\n      <td>13</td>\n    </tr>\n    <tr>\n      <th>854</th>\n      <td>Системный аналитик</td>\n      <td>13</td>\n    </tr>\n    <tr>\n      <th>855</th>\n      <td>Системный аналитик (ИТ-разработка и консалтинг...</td>\n      <td>13</td>\n    </tr>\n    <tr>\n      <th>893</th>\n      <td>Системный Архитектор (Wink)</td>\n      <td>13</td>\n    </tr>\n    <tr>\n      <th>1032</th>\n      <td>Системный аналитик (Wink)</td>\n      <td>13</td>\n    </tr>\n    <tr>\n      <th>1109</th>\n      <td>Системный аналитик (Рекламная платформа)</td>\n      <td>13</td>\n    </tr>\n    <tr>\n      <th>1155</th>\n      <td>Системный администратор/Программист</td>\n      <td>13</td>\n    </tr>\n    <tr>\n      <th>1383</th>\n      <td>Системный аналитик (Рекламная платформа)</td>\n      <td>13</td>\n    </tr>\n    <tr>\n      <th>1416</th>\n      <td>Системный аналитик (Рекламная платформа)</td>\n      <td>13</td>\n    </tr>\n    <tr>\n      <th>1640</th>\n      <td>Системный аналитик (консультант/партнер) по Da...</td>\n      <td>13</td>\n    </tr>\n    <tr>\n      <th>1811</th>\n      <td>Системный аналитик (Графовая платформа)</td>\n      <td>13</td>\n    </tr>\n    <tr>\n      <th>1837</th>\n      <td>Системный аналитик (Графовая платформа)</td>\n      <td>13</td>\n    </tr>\n    <tr>\n      <th>1936</th>\n      <td>Системный аналитик ( Senior)</td>\n      <td>13</td>\n    </tr>\n    <tr>\n      <th>2562</th>\n      <td>Системный аналитик продукта Naumen SAM</td>\n      <td>13</td>\n    </tr>\n    <tr>\n      <th>2793</th>\n      <td>Системный администратор_ОАЭППО</td>\n      <td>13</td>\n    </tr>\n    <tr>\n      <th>2847</th>\n      <td>Системный аналитик</td>\n      <td>13</td>\n    </tr>\n    <tr>\n      <th>2859</th>\n      <td>Системный аналитик</td>\n      <td>13</td>\n    </tr>\n    <tr>\n      <th>2861</th>\n      <td>Системный аналитик Почтоматы</td>\n      <td>13</td>\n    </tr>\n    <tr>\n      <th>2912</th>\n      <td>Системный аналитик (применение моделей ML)</td>\n      <td>13</td>\n    </tr>\n    <tr>\n      <th>3068</th>\n      <td>Старший системный аналитик</td>\n      <td>13</td>\n    </tr>\n    <tr>\n      <th>3095</th>\n      <td>Системный аналитик (применение моделей ML)</td>\n      <td>13</td>\n    </tr>\n    <tr>\n      <th>3105</th>\n      <td>Старший системный аналитик</td>\n      <td>13</td>\n    </tr>\n    <tr>\n      <th>3249</th>\n      <td>Системный аналитик DWH в Тинькофф Азия</td>\n      <td>13</td>\n    </tr>\n    <tr>\n      <th>3252</th>\n      <td>Системный аналитик DWH в Тинькофф Азия</td>\n      <td>13</td>\n    </tr>\n    <tr>\n      <th>3257</th>\n      <td>Системный аналитик DWH в Тинькофф Азия</td>\n      <td>13</td>\n    </tr>\n    <tr>\n      <th>3259</th>\n      <td>Системный аналитик DWH в Тинькофф Азия</td>\n      <td>13</td>\n    </tr>\n    <tr>\n      <th>3260</th>\n      <td>Системный аналитик DWH в Тинькофф Азия</td>\n      <td>13</td>\n    </tr>\n    <tr>\n      <th>3265</th>\n      <td>Системный аналитик DWH в Тинькофф Азия</td>\n      <td>13</td>\n    </tr>\n    <tr>\n      <th>3268</th>\n      <td>Системный аналитик DWH в Тинькофф Азия</td>\n      <td>13</td>\n    </tr>\n    <tr>\n      <th>3269</th>\n      <td>Системный аналитик DWH в Тинькофф Азия</td>\n      <td>13</td>\n    </tr>\n    <tr>\n      <th>3270</th>\n      <td>Системный аналитик DWH в Тинькофф Азия</td>\n      <td>13</td>\n    </tr>\n    <tr>\n      <th>3275</th>\n      <td>Системный аналитик DWH</td>\n      <td>13</td>\n    </tr>\n    <tr>\n      <th>3363</th>\n      <td>Системный аналитик DWH</td>\n      <td>13</td>\n    </tr>\n    <tr>\n      <th>3378</th>\n      <td>Системный аналитик (Халва)</td>\n      <td>13</td>\n    </tr>\n    <tr>\n      <th>3379</th>\n      <td>Системный администратор/Devops</td>\n      <td>13</td>\n    </tr>\n    <tr>\n      <th>3410</th>\n      <td>Системный аналитик</td>\n      <td>13</td>\n    </tr>\n    <tr>\n      <th>3437</th>\n      <td>Системный аналитик</td>\n      <td>13</td>\n    </tr>\n    <tr>\n      <th>3443</th>\n      <td>Системный аналитик (DS)</td>\n      <td>13</td>\n    </tr>\n    <tr>\n      <th>3446</th>\n      <td>Системный аналитик продукта Видеоаналитика</td>\n      <td>13</td>\n    </tr>\n    <tr>\n      <th>3450</th>\n      <td>Системный аналитик</td>\n      <td>13</td>\n    </tr>\n    <tr>\n      <th>3488</th>\n      <td>Системный аналитик</td>\n      <td>13</td>\n    </tr>\n    <tr>\n      <th>3610</th>\n      <td>Системный аналитик</td>\n      <td>13</td>\n    </tr>\n    <tr>\n      <th>3635</th>\n      <td>Системный аналитик/Разработчик (SQL)</td>\n      <td>13</td>\n    </tr>\n    <tr>\n      <th>3679</th>\n      <td>Системный аналитик Киберразведки</td>\n      <td>13</td>\n    </tr>\n    <tr>\n      <th>3706</th>\n      <td>Системный аналитик DWH (Hadoop)</td>\n      <td>13</td>\n    </tr>\n    <tr>\n      <th>3726</th>\n      <td>Системный аналитик DWH (Hadoop)</td>\n      <td>13</td>\n    </tr>\n    <tr>\n      <th>3753</th>\n      <td>Системный аналитик</td>\n      <td>13</td>\n    </tr>\n    <tr>\n      <th>3796</th>\n      <td>Старший системный аналитик</td>\n      <td>13</td>\n    </tr>\n    <tr>\n      <th>3809</th>\n      <td>Системный аналитик (Ключ)</td>\n      <td>13</td>\n    </tr>\n    <tr>\n      <th>3812</th>\n      <td>Системный аналитик (проект Ключ)</td>\n      <td>13</td>\n    </tr>\n    <tr>\n      <th>3846</th>\n      <td>Системный аналитик проектов Naumen SMP</td>\n      <td>13</td>\n    </tr>\n    <tr>\n      <th>3848</th>\n      <td>Системный аналитик проектов Naumen SMP</td>\n      <td>13</td>\n    </tr>\n    <tr>\n      <th>3927</th>\n      <td>Junior/Middle системный аналитик</td>\n      <td>13</td>\n    </tr>\n    <tr>\n      <th>4676</th>\n      <td>Ведущий системный аналитик</td>\n      <td>13</td>\n    </tr>\n  </tbody>\n</table>\n</div>"
     },
     "execution_count": 32,
     "metadata": {},
     "output_type": "execute_result"
    }
   ],
   "source": [
    "frame[frame.cluster.eq(13)]"
   ],
   "metadata": {
    "collapsed": false,
    "pycharm": {
     "name": "#%%\n"
    }
   }
  },
  {
   "cell_type": "code",
   "execution_count": 33,
   "outputs": [
    {
     "data": {
      "text/plain": "                                      title  cluster\n0     Backend разработчик со знанием Python       14\n1     Backend разработчик со знанием Python       14\n2     Backend разработчик со знанием Python       14\n3                       Backend разработчик       14\n4     Backend разработчик со знанием Python       14\n...                                     ...      ...\n4498      Senior backend developer (Python)       14\n4503        Lead backend developer (Python)       14\n4519  Python Backend Engineer (ML Platform)       14\n4535      Senior Backend Developer (Python)       14\n4661        Senior Backend Developer (Rust)       14\n\n[135 rows x 2 columns]",
      "text/html": "<div>\n<style scoped>\n    .dataframe tbody tr th:only-of-type {\n        vertical-align: middle;\n    }\n\n    .dataframe tbody tr th {\n        vertical-align: top;\n    }\n\n    .dataframe thead th {\n        text-align: right;\n    }\n</style>\n<table border=\"1\" class=\"dataframe\">\n  <thead>\n    <tr style=\"text-align: right;\">\n      <th></th>\n      <th>title</th>\n      <th>cluster</th>\n    </tr>\n  </thead>\n  <tbody>\n    <tr>\n      <th>0</th>\n      <td>Backend разработчик со знанием Python</td>\n      <td>14</td>\n    </tr>\n    <tr>\n      <th>1</th>\n      <td>Backend разработчик со знанием Python</td>\n      <td>14</td>\n    </tr>\n    <tr>\n      <th>2</th>\n      <td>Backend разработчик со знанием Python</td>\n      <td>14</td>\n    </tr>\n    <tr>\n      <th>3</th>\n      <td>Backend разработчик</td>\n      <td>14</td>\n    </tr>\n    <tr>\n      <th>4</th>\n      <td>Backend разработчик со знанием Python</td>\n      <td>14</td>\n    </tr>\n    <tr>\n      <th>...</th>\n      <td>...</td>\n      <td>...</td>\n    </tr>\n    <tr>\n      <th>4498</th>\n      <td>Senior backend developer (Python)</td>\n      <td>14</td>\n    </tr>\n    <tr>\n      <th>4503</th>\n      <td>Lead backend developer (Python)</td>\n      <td>14</td>\n    </tr>\n    <tr>\n      <th>4519</th>\n      <td>Python Backend Engineer (ML Platform)</td>\n      <td>14</td>\n    </tr>\n    <tr>\n      <th>4535</th>\n      <td>Senior Backend Developer (Python)</td>\n      <td>14</td>\n    </tr>\n    <tr>\n      <th>4661</th>\n      <td>Senior Backend Developer (Rust)</td>\n      <td>14</td>\n    </tr>\n  </tbody>\n</table>\n<p>135 rows × 2 columns</p>\n</div>"
     },
     "execution_count": 33,
     "metadata": {},
     "output_type": "execute_result"
    }
   ],
   "source": [
    "frame[frame.cluster.eq(14)]"
   ],
   "metadata": {
    "collapsed": false,
    "pycharm": {
     "name": "#%%\n"
    }
   }
  },
  {
   "cell_type": "code",
   "execution_count": 34,
   "outputs": [
    {
     "data": {
      "text/plain": "                                            title  cluster\n514                         Linux DevOps Engineer       15\n517                         Linux DevOps Engineer       15\n575                                        DevOps       15\n576                 Senior DevOps Engineer (Yepp)       15\n579   DevOps engineer \\ Девопс инженер (удалённо)       15\n...                                           ...      ...\n4572                       Senior Devops Engineer       15\n4584                  Solution Architect (DevOps)       15\n4585                  Solution Architect (DevOps)       15\n4657                                  Lead DevOps       15\n4697                              DevOps Engineer       15\n\n[186 rows x 2 columns]",
      "text/html": "<div>\n<style scoped>\n    .dataframe tbody tr th:only-of-type {\n        vertical-align: middle;\n    }\n\n    .dataframe tbody tr th {\n        vertical-align: top;\n    }\n\n    .dataframe thead th {\n        text-align: right;\n    }\n</style>\n<table border=\"1\" class=\"dataframe\">\n  <thead>\n    <tr style=\"text-align: right;\">\n      <th></th>\n      <th>title</th>\n      <th>cluster</th>\n    </tr>\n  </thead>\n  <tbody>\n    <tr>\n      <th>514</th>\n      <td>Linux DevOps Engineer</td>\n      <td>15</td>\n    </tr>\n    <tr>\n      <th>517</th>\n      <td>Linux DevOps Engineer</td>\n      <td>15</td>\n    </tr>\n    <tr>\n      <th>575</th>\n      <td>DevOps</td>\n      <td>15</td>\n    </tr>\n    <tr>\n      <th>576</th>\n      <td>Senior DevOps Engineer (Yepp)</td>\n      <td>15</td>\n    </tr>\n    <tr>\n      <th>579</th>\n      <td>DevOps engineer \\ Девопс инженер (удалённо)</td>\n      <td>15</td>\n    </tr>\n    <tr>\n      <th>...</th>\n      <td>...</td>\n      <td>...</td>\n    </tr>\n    <tr>\n      <th>4572</th>\n      <td>Senior Devops Engineer</td>\n      <td>15</td>\n    </tr>\n    <tr>\n      <th>4584</th>\n      <td>Solution Architect (DevOps)</td>\n      <td>15</td>\n    </tr>\n    <tr>\n      <th>4585</th>\n      <td>Solution Architect (DevOps)</td>\n      <td>15</td>\n    </tr>\n    <tr>\n      <th>4657</th>\n      <td>Lead DevOps</td>\n      <td>15</td>\n    </tr>\n    <tr>\n      <th>4697</th>\n      <td>DevOps Engineer</td>\n      <td>15</td>\n    </tr>\n  </tbody>\n</table>\n<p>186 rows × 2 columns</p>\n</div>"
     },
     "execution_count": 34,
     "metadata": {},
     "output_type": "execute_result"
    }
   ],
   "source": [
    "frame[frame.cluster.eq(15)]"
   ],
   "metadata": {
    "collapsed": false,
    "pycharm": {
     "name": "#%%\n"
    }
   }
  },
  {
   "cell_type": "code",
   "execution_count": 35,
   "outputs": [
    {
     "data": {
      "text/plain": "                                  title  cluster\n144         Automation QA (Java\\Python)       16\n530              Automation QA (Python)       16\n531     QA Automation engineer (Python)       16\n557       Senior QA Automation (Python)       16\n563   Тестировщик (Automation engineer)       16\n...                                 ...      ...\n4681     Senior QA Automaton (Limassol)       16\n4682     Senior QA Automaton (Limassol)       16\n4683     Senior QA Automaton (Limassol)       16\n4684     Senior QA Automaton (Limassol)       16\n4685     Senior QA Automaton (Limassol)       16\n\n[95 rows x 2 columns]",
      "text/html": "<div>\n<style scoped>\n    .dataframe tbody tr th:only-of-type {\n        vertical-align: middle;\n    }\n\n    .dataframe tbody tr th {\n        vertical-align: top;\n    }\n\n    .dataframe thead th {\n        text-align: right;\n    }\n</style>\n<table border=\"1\" class=\"dataframe\">\n  <thead>\n    <tr style=\"text-align: right;\">\n      <th></th>\n      <th>title</th>\n      <th>cluster</th>\n    </tr>\n  </thead>\n  <tbody>\n    <tr>\n      <th>144</th>\n      <td>Automation QA (Java\\Python)</td>\n      <td>16</td>\n    </tr>\n    <tr>\n      <th>530</th>\n      <td>Automation QA (Python)</td>\n      <td>16</td>\n    </tr>\n    <tr>\n      <th>531</th>\n      <td>QA Automation engineer (Python)</td>\n      <td>16</td>\n    </tr>\n    <tr>\n      <th>557</th>\n      <td>Senior QA Automation (Python)</td>\n      <td>16</td>\n    </tr>\n    <tr>\n      <th>563</th>\n      <td>Тестировщик (Automation engineer)</td>\n      <td>16</td>\n    </tr>\n    <tr>\n      <th>...</th>\n      <td>...</td>\n      <td>...</td>\n    </tr>\n    <tr>\n      <th>4681</th>\n      <td>Senior QA Automaton (Limassol)</td>\n      <td>16</td>\n    </tr>\n    <tr>\n      <th>4682</th>\n      <td>Senior QA Automaton (Limassol)</td>\n      <td>16</td>\n    </tr>\n    <tr>\n      <th>4683</th>\n      <td>Senior QA Automaton (Limassol)</td>\n      <td>16</td>\n    </tr>\n    <tr>\n      <th>4684</th>\n      <td>Senior QA Automaton (Limassol)</td>\n      <td>16</td>\n    </tr>\n    <tr>\n      <th>4685</th>\n      <td>Senior QA Automaton (Limassol)</td>\n      <td>16</td>\n    </tr>\n  </tbody>\n</table>\n<p>95 rows × 2 columns</p>\n</div>"
     },
     "execution_count": 35,
     "metadata": {},
     "output_type": "execute_result"
    }
   ],
   "source": [
    "frame[frame.cluster.eq(16)]"
   ],
   "metadata": {
    "collapsed": false,
    "pycharm": {
     "name": "#%%\n"
    }
   }
  },
  {
   "cell_type": "code",
   "execution_count": 36,
   "outputs": [
    {
     "data": {
      "text/plain": "                                          title  cluster\n5           Senior Data Scientist / ML Engineer       17\n489             Data scientist / ML разработчик       17\n545                       Middle Data Scientist       17\n585                       Senior Data Scientist       17\n606                       Data Scientist (Core)       17\n...                                         ...      ...\n3762                             Data scientist       17\n3819                             Data Scientist       17\n4539                   Team lead Data Scientist       17\n4540  Старший математик \\ Senior Data scientist       17\n4648                   DSP Researcher Scientist       17\n\n[63 rows x 2 columns]",
      "text/html": "<div>\n<style scoped>\n    .dataframe tbody tr th:only-of-type {\n        vertical-align: middle;\n    }\n\n    .dataframe tbody tr th {\n        vertical-align: top;\n    }\n\n    .dataframe thead th {\n        text-align: right;\n    }\n</style>\n<table border=\"1\" class=\"dataframe\">\n  <thead>\n    <tr style=\"text-align: right;\">\n      <th></th>\n      <th>title</th>\n      <th>cluster</th>\n    </tr>\n  </thead>\n  <tbody>\n    <tr>\n      <th>5</th>\n      <td>Senior Data Scientist / ML Engineer</td>\n      <td>17</td>\n    </tr>\n    <tr>\n      <th>489</th>\n      <td>Data scientist / ML разработчик</td>\n      <td>17</td>\n    </tr>\n    <tr>\n      <th>545</th>\n      <td>Middle Data Scientist</td>\n      <td>17</td>\n    </tr>\n    <tr>\n      <th>585</th>\n      <td>Senior Data Scientist</td>\n      <td>17</td>\n    </tr>\n    <tr>\n      <th>606</th>\n      <td>Data Scientist (Core)</td>\n      <td>17</td>\n    </tr>\n    <tr>\n      <th>...</th>\n      <td>...</td>\n      <td>...</td>\n    </tr>\n    <tr>\n      <th>3762</th>\n      <td>Data scientist</td>\n      <td>17</td>\n    </tr>\n    <tr>\n      <th>3819</th>\n      <td>Data Scientist</td>\n      <td>17</td>\n    </tr>\n    <tr>\n      <th>4539</th>\n      <td>Team lead Data Scientist</td>\n      <td>17</td>\n    </tr>\n    <tr>\n      <th>4540</th>\n      <td>Старший математик \\ Senior Data scientist</td>\n      <td>17</td>\n    </tr>\n    <tr>\n      <th>4648</th>\n      <td>DSP Researcher Scientist</td>\n      <td>17</td>\n    </tr>\n  </tbody>\n</table>\n<p>63 rows × 2 columns</p>\n</div>"
     },
     "execution_count": 36,
     "metadata": {},
     "output_type": "execute_result"
    }
   ],
   "source": [
    "frame[frame.cluster.eq(17)]"
   ],
   "metadata": {
    "collapsed": false,
    "pycharm": {
     "name": "#%%\n"
    }
   }
  },
  {
   "cell_type": "code",
   "execution_count": 37,
   "outputs": [
    {
     "data": {
      "text/plain": "                                     title  cluster\n559                            Аналитик BI       18\n887                           Аналитик ЦФТ       18\n895                               Аналитик       18\n913                           Аналитик ЦФТ       18\n918   Аналитик по распознаванию киберугроз       18\n...                                    ...      ...\n3999                       Аналитик данных       18\n4003                          Аналитик SQL       18\n4051                          Аналитик SQL       18\n4074                 Младший аналитик (IT)       18\n4121                 Младший аналитик (IT)       18\n\n[116 rows x 2 columns]",
      "text/html": "<div>\n<style scoped>\n    .dataframe tbody tr th:only-of-type {\n        vertical-align: middle;\n    }\n\n    .dataframe tbody tr th {\n        vertical-align: top;\n    }\n\n    .dataframe thead th {\n        text-align: right;\n    }\n</style>\n<table border=\"1\" class=\"dataframe\">\n  <thead>\n    <tr style=\"text-align: right;\">\n      <th></th>\n      <th>title</th>\n      <th>cluster</th>\n    </tr>\n  </thead>\n  <tbody>\n    <tr>\n      <th>559</th>\n      <td>Аналитик BI</td>\n      <td>18</td>\n    </tr>\n    <tr>\n      <th>887</th>\n      <td>Аналитик ЦФТ</td>\n      <td>18</td>\n    </tr>\n    <tr>\n      <th>895</th>\n      <td>Аналитик</td>\n      <td>18</td>\n    </tr>\n    <tr>\n      <th>913</th>\n      <td>Аналитик ЦФТ</td>\n      <td>18</td>\n    </tr>\n    <tr>\n      <th>918</th>\n      <td>Аналитик по распознаванию киберугроз</td>\n      <td>18</td>\n    </tr>\n    <tr>\n      <th>...</th>\n      <td>...</td>\n      <td>...</td>\n    </tr>\n    <tr>\n      <th>3999</th>\n      <td>Аналитик данных</td>\n      <td>18</td>\n    </tr>\n    <tr>\n      <th>4003</th>\n      <td>Аналитик SQL</td>\n      <td>18</td>\n    </tr>\n    <tr>\n      <th>4051</th>\n      <td>Аналитик SQL</td>\n      <td>18</td>\n    </tr>\n    <tr>\n      <th>4074</th>\n      <td>Младший аналитик (IT)</td>\n      <td>18</td>\n    </tr>\n    <tr>\n      <th>4121</th>\n      <td>Младший аналитик (IT)</td>\n      <td>18</td>\n    </tr>\n  </tbody>\n</table>\n<p>116 rows × 2 columns</p>\n</div>"
     },
     "execution_count": 37,
     "metadata": {},
     "output_type": "execute_result"
    }
   ],
   "source": [
    "frame[frame.cluster.eq(18)]"
   ],
   "metadata": {
    "collapsed": false,
    "pycharm": {
     "name": "#%%\n"
    }
   }
  },
  {
   "cell_type": "code",
   "execution_count": 38,
   "outputs": [
    {
     "data": {
      "text/plain": "                                         title  cluster\n7                           Программист Python       19\n18                  Программист Python, Django       19\n66                          Программист Python       19\n79                  Ведущий программист Python       19\n103                Программист Python (middle)       19\n113                         Программист Python       19\n125                         Программист Python       19\n155                Программист Python (middle)       19\n174                  Senior Python Программист       19\n182                 Ведущий программист Python       19\n195                  Senior Python Программист       19\n225   Python developer (системный программист)       19\n320                         Программист Python       19\n323                 Ведущий программист Python       19\n334                 Ведущий программист Python       19\n338                         Программист Python       19\n353                 Ведущий программист Python       19\n357                 Ведущий программист Python       19\n358                         Программист Python       19\n381                 Ведущий программист Python       19\n385                         Программист Python       19\n403                 Ведущий программист Python       19\n434                  Программист Python Senior       19\n505         Программист Python / Senior / Lead       19\n1063        Программист Python / Senior / Lead       19\n2008                        Программист Python       19\n2012               Python программист (Django)       19\n2014                        Программист Python       19\n2024                        Программист Python       19\n2029                        Программист Python       19\n2054                        Программист Python       19\n2058  Инженер-разработчик (программист Python)       19\n2071                        Программист Python       19\n2078                        Программист Python       19\n2088                        Python программист       19\n2090                        Программист Python       19\n2093                        Программист Python       19\n2130                        Программист Python       19\n2146                        Программист Python       19\n2148                        Программист Python       19\n2153                        Программист Python       19\n2156                 Программист Python Middle       19\n2179                        Программист Python       19\n2191                        Программист Python       19\n2203                 Программист Python Middle       19\n2207                        Программист Python       19\n2249                        Программист Python       19\n2259                        Программист Python       19\n2292                        Программист Python       19\n2325       Программист middle python developer       19\n2493                        Программист Python       19\n2497                        Программист Python       19\n2504               Программист Python (Django)       19\n2506       Программист Python Junior (Jun-Mid)       19\n2512                        Программист Python       19\n3919                        Программист Python       19\n4486                        Программист Python       19\n4487               Программист Python (Senior)       19",
      "text/html": "<div>\n<style scoped>\n    .dataframe tbody tr th:only-of-type {\n        vertical-align: middle;\n    }\n\n    .dataframe tbody tr th {\n        vertical-align: top;\n    }\n\n    .dataframe thead th {\n        text-align: right;\n    }\n</style>\n<table border=\"1\" class=\"dataframe\">\n  <thead>\n    <tr style=\"text-align: right;\">\n      <th></th>\n      <th>title</th>\n      <th>cluster</th>\n    </tr>\n  </thead>\n  <tbody>\n    <tr>\n      <th>7</th>\n      <td>Программист Python</td>\n      <td>19</td>\n    </tr>\n    <tr>\n      <th>18</th>\n      <td>Программист Python, Django</td>\n      <td>19</td>\n    </tr>\n    <tr>\n      <th>66</th>\n      <td>Программист Python</td>\n      <td>19</td>\n    </tr>\n    <tr>\n      <th>79</th>\n      <td>Ведущий программист Python</td>\n      <td>19</td>\n    </tr>\n    <tr>\n      <th>103</th>\n      <td>Программист Python (middle)</td>\n      <td>19</td>\n    </tr>\n    <tr>\n      <th>113</th>\n      <td>Программист Python</td>\n      <td>19</td>\n    </tr>\n    <tr>\n      <th>125</th>\n      <td>Программист Python</td>\n      <td>19</td>\n    </tr>\n    <tr>\n      <th>155</th>\n      <td>Программист Python (middle)</td>\n      <td>19</td>\n    </tr>\n    <tr>\n      <th>174</th>\n      <td>Senior Python Программист</td>\n      <td>19</td>\n    </tr>\n    <tr>\n      <th>182</th>\n      <td>Ведущий программист Python</td>\n      <td>19</td>\n    </tr>\n    <tr>\n      <th>195</th>\n      <td>Senior Python Программист</td>\n      <td>19</td>\n    </tr>\n    <tr>\n      <th>225</th>\n      <td>Python developer (системный программист)</td>\n      <td>19</td>\n    </tr>\n    <tr>\n      <th>320</th>\n      <td>Программист Python</td>\n      <td>19</td>\n    </tr>\n    <tr>\n      <th>323</th>\n      <td>Ведущий программист Python</td>\n      <td>19</td>\n    </tr>\n    <tr>\n      <th>334</th>\n      <td>Ведущий программист Python</td>\n      <td>19</td>\n    </tr>\n    <tr>\n      <th>338</th>\n      <td>Программист Python</td>\n      <td>19</td>\n    </tr>\n    <tr>\n      <th>353</th>\n      <td>Ведущий программист Python</td>\n      <td>19</td>\n    </tr>\n    <tr>\n      <th>357</th>\n      <td>Ведущий программист Python</td>\n      <td>19</td>\n    </tr>\n    <tr>\n      <th>358</th>\n      <td>Программист Python</td>\n      <td>19</td>\n    </tr>\n    <tr>\n      <th>381</th>\n      <td>Ведущий программист Python</td>\n      <td>19</td>\n    </tr>\n    <tr>\n      <th>385</th>\n      <td>Программист Python</td>\n      <td>19</td>\n    </tr>\n    <tr>\n      <th>403</th>\n      <td>Ведущий программист Python</td>\n      <td>19</td>\n    </tr>\n    <tr>\n      <th>434</th>\n      <td>Программист Python Senior</td>\n      <td>19</td>\n    </tr>\n    <tr>\n      <th>505</th>\n      <td>Программист Python / Senior / Lead</td>\n      <td>19</td>\n    </tr>\n    <tr>\n      <th>1063</th>\n      <td>Программист Python / Senior / Lead</td>\n      <td>19</td>\n    </tr>\n    <tr>\n      <th>2008</th>\n      <td>Программист Python</td>\n      <td>19</td>\n    </tr>\n    <tr>\n      <th>2012</th>\n      <td>Python программист (Django)</td>\n      <td>19</td>\n    </tr>\n    <tr>\n      <th>2014</th>\n      <td>Программист Python</td>\n      <td>19</td>\n    </tr>\n    <tr>\n      <th>2024</th>\n      <td>Программист Python</td>\n      <td>19</td>\n    </tr>\n    <tr>\n      <th>2029</th>\n      <td>Программист Python</td>\n      <td>19</td>\n    </tr>\n    <tr>\n      <th>2054</th>\n      <td>Программист Python</td>\n      <td>19</td>\n    </tr>\n    <tr>\n      <th>2058</th>\n      <td>Инженер-разработчик (программист Python)</td>\n      <td>19</td>\n    </tr>\n    <tr>\n      <th>2071</th>\n      <td>Программист Python</td>\n      <td>19</td>\n    </tr>\n    <tr>\n      <th>2078</th>\n      <td>Программист Python</td>\n      <td>19</td>\n    </tr>\n    <tr>\n      <th>2088</th>\n      <td>Python программист</td>\n      <td>19</td>\n    </tr>\n    <tr>\n      <th>2090</th>\n      <td>Программист Python</td>\n      <td>19</td>\n    </tr>\n    <tr>\n      <th>2093</th>\n      <td>Программист Python</td>\n      <td>19</td>\n    </tr>\n    <tr>\n      <th>2130</th>\n      <td>Программист Python</td>\n      <td>19</td>\n    </tr>\n    <tr>\n      <th>2146</th>\n      <td>Программист Python</td>\n      <td>19</td>\n    </tr>\n    <tr>\n      <th>2148</th>\n      <td>Программист Python</td>\n      <td>19</td>\n    </tr>\n    <tr>\n      <th>2153</th>\n      <td>Программист Python</td>\n      <td>19</td>\n    </tr>\n    <tr>\n      <th>2156</th>\n      <td>Программист Python Middle</td>\n      <td>19</td>\n    </tr>\n    <tr>\n      <th>2179</th>\n      <td>Программист Python</td>\n      <td>19</td>\n    </tr>\n    <tr>\n      <th>2191</th>\n      <td>Программист Python</td>\n      <td>19</td>\n    </tr>\n    <tr>\n      <th>2203</th>\n      <td>Программист Python Middle</td>\n      <td>19</td>\n    </tr>\n    <tr>\n      <th>2207</th>\n      <td>Программист Python</td>\n      <td>19</td>\n    </tr>\n    <tr>\n      <th>2249</th>\n      <td>Программист Python</td>\n      <td>19</td>\n    </tr>\n    <tr>\n      <th>2259</th>\n      <td>Программист Python</td>\n      <td>19</td>\n    </tr>\n    <tr>\n      <th>2292</th>\n      <td>Программист Python</td>\n      <td>19</td>\n    </tr>\n    <tr>\n      <th>2325</th>\n      <td>Программист middle python developer</td>\n      <td>19</td>\n    </tr>\n    <tr>\n      <th>2493</th>\n      <td>Программист Python</td>\n      <td>19</td>\n    </tr>\n    <tr>\n      <th>2497</th>\n      <td>Программист Python</td>\n      <td>19</td>\n    </tr>\n    <tr>\n      <th>2504</th>\n      <td>Программист Python (Django)</td>\n      <td>19</td>\n    </tr>\n    <tr>\n      <th>2506</th>\n      <td>Программист Python Junior (Jun-Mid)</td>\n      <td>19</td>\n    </tr>\n    <tr>\n      <th>2512</th>\n      <td>Программист Python</td>\n      <td>19</td>\n    </tr>\n    <tr>\n      <th>3919</th>\n      <td>Программист Python</td>\n      <td>19</td>\n    </tr>\n    <tr>\n      <th>4486</th>\n      <td>Программист Python</td>\n      <td>19</td>\n    </tr>\n    <tr>\n      <th>4487</th>\n      <td>Программист Python (Senior)</td>\n      <td>19</td>\n    </tr>\n  </tbody>\n</table>\n</div>"
     },
     "execution_count": 38,
     "metadata": {},
     "output_type": "execute_result"
    }
   ],
   "source": [
    "frame[frame.cluster.eq(19)]"
   ],
   "metadata": {
    "collapsed": false,
    "pycharm": {
     "name": "#%%\n"
    }
   }
  },
  {
   "cell_type": "code",
   "execution_count": 39,
   "outputs": [
    {
     "data": {
      "text/plain": "                                                  title  cluster\n138                                    Team Lead Python       20\n166   Python Team Lead / Руководитель backend разраб...       20\n185   Python Team Lead / Руководитель backend разраб...       20\n186                                    Python Team Lead       20\n197                                    Python Team Lead       20\n...                                                 ...      ...\n4644            Ведущий инженер-схемотехник (team lead)       20\n4667                  Team Lead DevOps (Infrastructure)       20\n4668                  Team Lead DevOps (Infrastructure)       20\n4670            Team Lead DevOps (DataOps Team) - Spain       20\n4690                                          Arch Lead       20\n\n[132 rows x 2 columns]",
      "text/html": "<div>\n<style scoped>\n    .dataframe tbody tr th:only-of-type {\n        vertical-align: middle;\n    }\n\n    .dataframe tbody tr th {\n        vertical-align: top;\n    }\n\n    .dataframe thead th {\n        text-align: right;\n    }\n</style>\n<table border=\"1\" class=\"dataframe\">\n  <thead>\n    <tr style=\"text-align: right;\">\n      <th></th>\n      <th>title</th>\n      <th>cluster</th>\n    </tr>\n  </thead>\n  <tbody>\n    <tr>\n      <th>138</th>\n      <td>Team Lead Python</td>\n      <td>20</td>\n    </tr>\n    <tr>\n      <th>166</th>\n      <td>Python Team Lead / Руководитель backend разраб...</td>\n      <td>20</td>\n    </tr>\n    <tr>\n      <th>185</th>\n      <td>Python Team Lead / Руководитель backend разраб...</td>\n      <td>20</td>\n    </tr>\n    <tr>\n      <th>186</th>\n      <td>Python Team Lead</td>\n      <td>20</td>\n    </tr>\n    <tr>\n      <th>197</th>\n      <td>Python Team Lead</td>\n      <td>20</td>\n    </tr>\n    <tr>\n      <th>...</th>\n      <td>...</td>\n      <td>...</td>\n    </tr>\n    <tr>\n      <th>4644</th>\n      <td>Ведущий инженер-схемотехник (team lead)</td>\n      <td>20</td>\n    </tr>\n    <tr>\n      <th>4667</th>\n      <td>Team Lead DevOps (Infrastructure)</td>\n      <td>20</td>\n    </tr>\n    <tr>\n      <th>4668</th>\n      <td>Team Lead DevOps (Infrastructure)</td>\n      <td>20</td>\n    </tr>\n    <tr>\n      <th>4670</th>\n      <td>Team Lead DevOps (DataOps Team) - Spain</td>\n      <td>20</td>\n    </tr>\n    <tr>\n      <th>4690</th>\n      <td>Arch Lead</td>\n      <td>20</td>\n    </tr>\n  </tbody>\n</table>\n<p>132 rows × 2 columns</p>\n</div>"
     },
     "execution_count": 39,
     "metadata": {},
     "output_type": "execute_result"
    }
   ],
   "source": [
    "frame[frame.cluster.eq(20)]"
   ],
   "metadata": {
    "collapsed": false,
    "pycharm": {
     "name": "#%%\n"
    }
   }
  },
  {
   "cell_type": "code",
   "execution_count": 40,
   "outputs": [
    {
     "data": {
      "text/plain": "                                                  title  cluster\n490   Инженер по автоматизированному тестированию (B...       21\n540   Инженер по автоматизированному тестированию (B...       21\n555                                      DevOps инженер       21\n584                                      DevOps инженер       21\n590      Системный администратор Linux / DevOps инженер       21\n...                                                 ...      ...\n4559                         DevOps инженер (Openstack)       21\n4562                                 DevOps\\SRE инженер       21\n4563                                 DevOps\\SRE инженер       21\n4565                                 DevOps\\SRE инженер       21\n4636                                     DevOps инженер       21\n\n[268 rows x 2 columns]",
      "text/html": "<div>\n<style scoped>\n    .dataframe tbody tr th:only-of-type {\n        vertical-align: middle;\n    }\n\n    .dataframe tbody tr th {\n        vertical-align: top;\n    }\n\n    .dataframe thead th {\n        text-align: right;\n    }\n</style>\n<table border=\"1\" class=\"dataframe\">\n  <thead>\n    <tr style=\"text-align: right;\">\n      <th></th>\n      <th>title</th>\n      <th>cluster</th>\n    </tr>\n  </thead>\n  <tbody>\n    <tr>\n      <th>490</th>\n      <td>Инженер по автоматизированному тестированию (B...</td>\n      <td>21</td>\n    </tr>\n    <tr>\n      <th>540</th>\n      <td>Инженер по автоматизированному тестированию (B...</td>\n      <td>21</td>\n    </tr>\n    <tr>\n      <th>555</th>\n      <td>DevOps инженер</td>\n      <td>21</td>\n    </tr>\n    <tr>\n      <th>584</th>\n      <td>DevOps инженер</td>\n      <td>21</td>\n    </tr>\n    <tr>\n      <th>590</th>\n      <td>Системный администратор Linux / DevOps инженер</td>\n      <td>21</td>\n    </tr>\n    <tr>\n      <th>...</th>\n      <td>...</td>\n      <td>...</td>\n    </tr>\n    <tr>\n      <th>4559</th>\n      <td>DevOps инженер (Openstack)</td>\n      <td>21</td>\n    </tr>\n    <tr>\n      <th>4562</th>\n      <td>DevOps\\SRE инженер</td>\n      <td>21</td>\n    </tr>\n    <tr>\n      <th>4563</th>\n      <td>DevOps\\SRE инженер</td>\n      <td>21</td>\n    </tr>\n    <tr>\n      <th>4565</th>\n      <td>DevOps\\SRE инженер</td>\n      <td>21</td>\n    </tr>\n    <tr>\n      <th>4636</th>\n      <td>DevOps инженер</td>\n      <td>21</td>\n    </tr>\n  </tbody>\n</table>\n<p>268 rows × 2 columns</p>\n</div>"
     },
     "execution_count": 40,
     "metadata": {},
     "output_type": "execute_result"
    }
   ],
   "source": [
    "frame[frame.cluster.eq(21)]"
   ],
   "metadata": {
    "collapsed": false,
    "pycharm": {
     "name": "#%%\n"
    }
   }
  },
  {
   "cell_type": "code",
   "execution_count": 41,
   "outputs": [
    {
     "data": {
      "text/plain": "                                                  title  cluster\n179           Software research engineer (Java, Python)       22\n208           Software research engineer (Java, Python)       22\n534   Преподаватель IT курсов для взрослых (Python, ...       22\n621                 Программист Java (embedded-системы)       22\n675                                    Программист Java       22\n677               Senior Java разработчик (Hospitality)       22\n739                                    Программист Java       22\n752                                    Программист Java       22\n844               Senior Java разработчик (Hospitality)       22\n884                             Java Developer (middle)       22\n897             Senior Java developer (POS Hospitality)       22\n900                     QA Auto Engineer (java, python)       22\n909                             Java Developer (middle)       22\n1449  Senior Java developer (Big Data) (Georgia / Eu...       22\n1515                                   Java разработчик       22\n1542  Senior Java developer (Big Data) (Georgia / Eu...       22\n1562         Middle+\\Senior Java Developer (Ингосстрах)       22\n1584                    Java Developer (Middle+/Senior)       22\n1602                       Программист-разработчик Java       22\n1604                       Программист-разработчик Java       22\n1612                    Java Developer (Middle+/Senior)       22\n1620               Java разработчик / BigData developer       22\n1625            Java developer (онлайн-кинотеатр Movix)       22\n1706                        Lead/ Senior Java Developer       22\n1714         Middle+\\Senior Java Developer (Ингосстрах)       22\n1744                    Java разработчик Middle+/Senior       22\n1761  Программист встраиваемых систем / Embedded Dev...       22\n1766                                     Java Developer       22\n1791  Программист встраиваемых систем / Embedded Dev...       22\n1796                                     Java Developer       22\n1831                            Middle Java разработчик       22\n1913  Программист встраиваемых систем / Embedded Dev...       22\n1917                                     Java Developer       22\n1938  Разработчик Java (разработка авиационных произ...       22\n2406                           Инженер-разработчик Java       22\n2461                                     Java developer       22\n2522                    Java разработчик Naumen Erudite       22\n2580                                     Java developer       22\n2665                         Java developer SberGeoData       22\n2684                         Java developer SberGeoData       22\n2750        Разработчик Java (интеграционная платформа)       22\n2807                                   Разработчик Java       22\n2959                                   Java разработчик       22\n3016                            Middle Java разработчик       22\n3036                            Middle Java разработчик       22\n3159                                   Java разработчик       22\n3244  Инженер-программист (написание кодов программ ...       22\n3370          Junior/Middle Java developer (Montenegro)       22\n3408                                   Java Разработчик       22\n3604                            Middle Java разработчик       22\n3608                            Senior Java разработчик       22\n3749                                     Java developer       22\n3940       Преподаватель Программирования Java в IT-Куб       22\n4019       Преподаватель Программирования Java в IT-Куб       22\n4653   Senior java разработчик в команду Risk Decisions       22\n4660                Тимлид в команду разработки на Java       22\n4669                Senior Java developer в команду SRE       22\n4671           Senior Fullstack developer (Java, Kafka)       22",
      "text/html": "<div>\n<style scoped>\n    .dataframe tbody tr th:only-of-type {\n        vertical-align: middle;\n    }\n\n    .dataframe tbody tr th {\n        vertical-align: top;\n    }\n\n    .dataframe thead th {\n        text-align: right;\n    }\n</style>\n<table border=\"1\" class=\"dataframe\">\n  <thead>\n    <tr style=\"text-align: right;\">\n      <th></th>\n      <th>title</th>\n      <th>cluster</th>\n    </tr>\n  </thead>\n  <tbody>\n    <tr>\n      <th>179</th>\n      <td>Software research engineer (Java, Python)</td>\n      <td>22</td>\n    </tr>\n    <tr>\n      <th>208</th>\n      <td>Software research engineer (Java, Python)</td>\n      <td>22</td>\n    </tr>\n    <tr>\n      <th>534</th>\n      <td>Преподаватель IT курсов для взрослых (Python, ...</td>\n      <td>22</td>\n    </tr>\n    <tr>\n      <th>621</th>\n      <td>Программист Java (embedded-системы)</td>\n      <td>22</td>\n    </tr>\n    <tr>\n      <th>675</th>\n      <td>Программист Java</td>\n      <td>22</td>\n    </tr>\n    <tr>\n      <th>677</th>\n      <td>Senior Java разработчик (Hospitality)</td>\n      <td>22</td>\n    </tr>\n    <tr>\n      <th>739</th>\n      <td>Программист Java</td>\n      <td>22</td>\n    </tr>\n    <tr>\n      <th>752</th>\n      <td>Программист Java</td>\n      <td>22</td>\n    </tr>\n    <tr>\n      <th>844</th>\n      <td>Senior Java разработчик (Hospitality)</td>\n      <td>22</td>\n    </tr>\n    <tr>\n      <th>884</th>\n      <td>Java Developer (middle)</td>\n      <td>22</td>\n    </tr>\n    <tr>\n      <th>897</th>\n      <td>Senior Java developer (POS Hospitality)</td>\n      <td>22</td>\n    </tr>\n    <tr>\n      <th>900</th>\n      <td>QA Auto Engineer (java, python)</td>\n      <td>22</td>\n    </tr>\n    <tr>\n      <th>909</th>\n      <td>Java Developer (middle)</td>\n      <td>22</td>\n    </tr>\n    <tr>\n      <th>1449</th>\n      <td>Senior Java developer (Big Data) (Georgia / Eu...</td>\n      <td>22</td>\n    </tr>\n    <tr>\n      <th>1515</th>\n      <td>Java разработчик</td>\n      <td>22</td>\n    </tr>\n    <tr>\n      <th>1542</th>\n      <td>Senior Java developer (Big Data) (Georgia / Eu...</td>\n      <td>22</td>\n    </tr>\n    <tr>\n      <th>1562</th>\n      <td>Middle+\\Senior Java Developer (Ингосстрах)</td>\n      <td>22</td>\n    </tr>\n    <tr>\n      <th>1584</th>\n      <td>Java Developer (Middle+/Senior)</td>\n      <td>22</td>\n    </tr>\n    <tr>\n      <th>1602</th>\n      <td>Программист-разработчик Java</td>\n      <td>22</td>\n    </tr>\n    <tr>\n      <th>1604</th>\n      <td>Программист-разработчик Java</td>\n      <td>22</td>\n    </tr>\n    <tr>\n      <th>1612</th>\n      <td>Java Developer (Middle+/Senior)</td>\n      <td>22</td>\n    </tr>\n    <tr>\n      <th>1620</th>\n      <td>Java разработчик / BigData developer</td>\n      <td>22</td>\n    </tr>\n    <tr>\n      <th>1625</th>\n      <td>Java developer (онлайн-кинотеатр Movix)</td>\n      <td>22</td>\n    </tr>\n    <tr>\n      <th>1706</th>\n      <td>Lead/ Senior Java Developer</td>\n      <td>22</td>\n    </tr>\n    <tr>\n      <th>1714</th>\n      <td>Middle+\\Senior Java Developer (Ингосстрах)</td>\n      <td>22</td>\n    </tr>\n    <tr>\n      <th>1744</th>\n      <td>Java разработчик Middle+/Senior</td>\n      <td>22</td>\n    </tr>\n    <tr>\n      <th>1761</th>\n      <td>Программист встраиваемых систем / Embedded Dev...</td>\n      <td>22</td>\n    </tr>\n    <tr>\n      <th>1766</th>\n      <td>Java Developer</td>\n      <td>22</td>\n    </tr>\n    <tr>\n      <th>1791</th>\n      <td>Программист встраиваемых систем / Embedded Dev...</td>\n      <td>22</td>\n    </tr>\n    <tr>\n      <th>1796</th>\n      <td>Java Developer</td>\n      <td>22</td>\n    </tr>\n    <tr>\n      <th>1831</th>\n      <td>Middle Java разработчик</td>\n      <td>22</td>\n    </tr>\n    <tr>\n      <th>1913</th>\n      <td>Программист встраиваемых систем / Embedded Dev...</td>\n      <td>22</td>\n    </tr>\n    <tr>\n      <th>1917</th>\n      <td>Java Developer</td>\n      <td>22</td>\n    </tr>\n    <tr>\n      <th>1938</th>\n      <td>Разработчик Java (разработка авиационных произ...</td>\n      <td>22</td>\n    </tr>\n    <tr>\n      <th>2406</th>\n      <td>Инженер-разработчик Java</td>\n      <td>22</td>\n    </tr>\n    <tr>\n      <th>2461</th>\n      <td>Java developer</td>\n      <td>22</td>\n    </tr>\n    <tr>\n      <th>2522</th>\n      <td>Java разработчик Naumen Erudite</td>\n      <td>22</td>\n    </tr>\n    <tr>\n      <th>2580</th>\n      <td>Java developer</td>\n      <td>22</td>\n    </tr>\n    <tr>\n      <th>2665</th>\n      <td>Java developer SberGeoData</td>\n      <td>22</td>\n    </tr>\n    <tr>\n      <th>2684</th>\n      <td>Java developer SberGeoData</td>\n      <td>22</td>\n    </tr>\n    <tr>\n      <th>2750</th>\n      <td>Разработчик Java (интеграционная платформа)</td>\n      <td>22</td>\n    </tr>\n    <tr>\n      <th>2807</th>\n      <td>Разработчик Java</td>\n      <td>22</td>\n    </tr>\n    <tr>\n      <th>2959</th>\n      <td>Java разработчик</td>\n      <td>22</td>\n    </tr>\n    <tr>\n      <th>3016</th>\n      <td>Middle Java разработчик</td>\n      <td>22</td>\n    </tr>\n    <tr>\n      <th>3036</th>\n      <td>Middle Java разработчик</td>\n      <td>22</td>\n    </tr>\n    <tr>\n      <th>3159</th>\n      <td>Java разработчик</td>\n      <td>22</td>\n    </tr>\n    <tr>\n      <th>3244</th>\n      <td>Инженер-программист (написание кодов программ ...</td>\n      <td>22</td>\n    </tr>\n    <tr>\n      <th>3370</th>\n      <td>Junior/Middle Java developer (Montenegro)</td>\n      <td>22</td>\n    </tr>\n    <tr>\n      <th>3408</th>\n      <td>Java Разработчик</td>\n      <td>22</td>\n    </tr>\n    <tr>\n      <th>3604</th>\n      <td>Middle Java разработчик</td>\n      <td>22</td>\n    </tr>\n    <tr>\n      <th>3608</th>\n      <td>Senior Java разработчик</td>\n      <td>22</td>\n    </tr>\n    <tr>\n      <th>3749</th>\n      <td>Java developer</td>\n      <td>22</td>\n    </tr>\n    <tr>\n      <th>3940</th>\n      <td>Преподаватель Программирования Java в IT-Куб</td>\n      <td>22</td>\n    </tr>\n    <tr>\n      <th>4019</th>\n      <td>Преподаватель Программирования Java в IT-Куб</td>\n      <td>22</td>\n    </tr>\n    <tr>\n      <th>4653</th>\n      <td>Senior java разработчик в команду Risk Decisions</td>\n      <td>22</td>\n    </tr>\n    <tr>\n      <th>4660</th>\n      <td>Тимлид в команду разработки на Java</td>\n      <td>22</td>\n    </tr>\n    <tr>\n      <th>4669</th>\n      <td>Senior Java developer в команду SRE</td>\n      <td>22</td>\n    </tr>\n    <tr>\n      <th>4671</th>\n      <td>Senior Fullstack developer (Java, Kafka)</td>\n      <td>22</td>\n    </tr>\n  </tbody>\n</table>\n</div>"
     },
     "execution_count": 41,
     "metadata": {},
     "output_type": "execute_result"
    }
   ],
   "source": [
    "frame[frame.cluster.eq(22)]"
   ],
   "metadata": {
    "collapsed": false,
    "pycharm": {
     "name": "#%%\n"
    }
   }
  },
  {
   "cell_type": "code",
   "execution_count": 42,
   "outputs": [
    {
     "data": {
      "text/plain": "                                              title  cluster\n71                     Data Analyst (middle/senior)       23\n210                          Data analyst (Tableau)       23\n568   Старший аналитик данных / Senior Data Analyst       23\n588                          Data analyst (Tableau)       23\n620                          Senior Product Analyst       23\n...                                             ...      ...\n4459                            Senior Data Analyst       23\n4530          Data Analyst - NLP (to Canada/Serbia)       23\n4533          Data Analyst - NLP (to Canada/Serbia)       23\n4624                             Senior Geo analyst       23\n4631             Senior Scoring Risk analyst Mexico       23\n\n[94 rows x 2 columns]",
      "text/html": "<div>\n<style scoped>\n    .dataframe tbody tr th:only-of-type {\n        vertical-align: middle;\n    }\n\n    .dataframe tbody tr th {\n        vertical-align: top;\n    }\n\n    .dataframe thead th {\n        text-align: right;\n    }\n</style>\n<table border=\"1\" class=\"dataframe\">\n  <thead>\n    <tr style=\"text-align: right;\">\n      <th></th>\n      <th>title</th>\n      <th>cluster</th>\n    </tr>\n  </thead>\n  <tbody>\n    <tr>\n      <th>71</th>\n      <td>Data Analyst (middle/senior)</td>\n      <td>23</td>\n    </tr>\n    <tr>\n      <th>210</th>\n      <td>Data analyst (Tableau)</td>\n      <td>23</td>\n    </tr>\n    <tr>\n      <th>568</th>\n      <td>Старший аналитик данных / Senior Data Analyst</td>\n      <td>23</td>\n    </tr>\n    <tr>\n      <th>588</th>\n      <td>Data analyst (Tableau)</td>\n      <td>23</td>\n    </tr>\n    <tr>\n      <th>620</th>\n      <td>Senior Product Analyst</td>\n      <td>23</td>\n    </tr>\n    <tr>\n      <th>...</th>\n      <td>...</td>\n      <td>...</td>\n    </tr>\n    <tr>\n      <th>4459</th>\n      <td>Senior Data Analyst</td>\n      <td>23</td>\n    </tr>\n    <tr>\n      <th>4530</th>\n      <td>Data Analyst - NLP (to Canada/Serbia)</td>\n      <td>23</td>\n    </tr>\n    <tr>\n      <th>4533</th>\n      <td>Data Analyst - NLP (to Canada/Serbia)</td>\n      <td>23</td>\n    </tr>\n    <tr>\n      <th>4624</th>\n      <td>Senior Geo analyst</td>\n      <td>23</td>\n    </tr>\n    <tr>\n      <th>4631</th>\n      <td>Senior Scoring Risk analyst Mexico</td>\n      <td>23</td>\n    </tr>\n  </tbody>\n</table>\n<p>94 rows × 2 columns</p>\n</div>"
     },
     "execution_count": 42,
     "metadata": {},
     "output_type": "execute_result"
    }
   ],
   "source": [
    "frame[frame.cluster.eq(23)]"
   ],
   "metadata": {
    "collapsed": false,
    "pycharm": {
     "name": "#%%\n"
    }
   }
  },
  {
   "cell_type": "code",
   "execution_count": 43,
   "outputs": [
    {
     "data": {
      "text/plain": "                                                  title  cluster\n260   Backend Разработчик Golang, PHP / Python (mid+...       24\n611                    Senior Python / Golang developer       24\n630                                  Golang Разработчик       24\n720                                  Golang Разработчик       24\n721                                  Golang разработчик       24\n732                                  Golang Разработчик       24\n745                                  Golang Разработчик       24\n763                             Senior Golang Developer       24\n872                      Middle/Senior Golang Developer       24\n1035           Senior golang developer [3Сlick Закупки]       24\n1062                            Senior Golang developer       24\n1127                            Senior Golang developer       24\n1153                     Middle/Senior Golang Developer       24\n1243           Senior golang developer [3Сlick Закупки]       24\n1500                  Senior Software Engineer (Golang)       24\n1591               Senior Golang Developer (MTS Travel)       24\n1617               Senior Golang Developer (MTS Travel)       24\n1687                     Middle/Senior Golang Developer       24\n1945                  Senior Golang Developer (Hotcore)       24\n1951                   Senior Python / Golang developer       24\n2173             Младший разработчик Golang, Ozon Fresh       24\n2182             Младший разработчик Golang, Ozon Fresh       24\n2240                          Бэкэнд-разработчик Golang       24\n2444        Full Stack Golang Developer (Кипр, Ларнака)       24\n2467        Специалист по разработке на Golang (middle)       24\n2553        Специалист по разработке на Golang (middle)       24\n2597                     Разработчик golang, Ozon Fresh       24\n2872        Full Stack Golang Developer (Кипр, Ларнака)       24\n3006               Разработчик ПО на Golang (SberInfra)       24\n3024               Разработчик ПО на Golang (SberInfra)       24\n3172               Разработчик ПО на Golang (SberInfra)       24\n3186               Разработчик ПО на Golang (SberInfra)       24\n3305             Senior Golang разработчик [MTS Travel]       24\n3308  Разработчик Golang (Личный кабинет, Путь совер...       24\n3389  Разработчик Golang (Личный кабинет, Путь совер...       24\n3507             Ведущий разработчик Golang, Ozon Fresh       24\n3511                     Разработчик Golang, Ozon Fresh       24\n3513                     Разработчик Golang, Ozon Fresh       24\n3514                     Разработчик Golang, Ozon Fresh       24\n3515                     Разработчик Golang, Ozon Fresh       24\n3516                     Разработчик Golang, Ozon Fresh       24\n3517                     Разработчик Golang, Ozon Fresh       24\n3561                     Разработчик Golang, Ozon Fresh       24\n3563                     Разработчик Golang, Ozon Fresh       24\n3564                     Разработчик Golang, Ozon Fresh       24\n3566                     Разработчик Golang, Ozon Fresh       24\n3567             Ведущий разработчик Golang, Ozon Fresh       24\n3583             Ведущий разработчик Golang, Ozon Fresh       24\n4608           Golang Backend Engineer (Dubai / Cyprus)       24\n4640           Golang Backend Engineer (Dubai / Cyprus)       24",
      "text/html": "<div>\n<style scoped>\n    .dataframe tbody tr th:only-of-type {\n        vertical-align: middle;\n    }\n\n    .dataframe tbody tr th {\n        vertical-align: top;\n    }\n\n    .dataframe thead th {\n        text-align: right;\n    }\n</style>\n<table border=\"1\" class=\"dataframe\">\n  <thead>\n    <tr style=\"text-align: right;\">\n      <th></th>\n      <th>title</th>\n      <th>cluster</th>\n    </tr>\n  </thead>\n  <tbody>\n    <tr>\n      <th>260</th>\n      <td>Backend Разработчик Golang, PHP / Python (mid+...</td>\n      <td>24</td>\n    </tr>\n    <tr>\n      <th>611</th>\n      <td>Senior Python / Golang developer</td>\n      <td>24</td>\n    </tr>\n    <tr>\n      <th>630</th>\n      <td>Golang Разработчик</td>\n      <td>24</td>\n    </tr>\n    <tr>\n      <th>720</th>\n      <td>Golang Разработчик</td>\n      <td>24</td>\n    </tr>\n    <tr>\n      <th>721</th>\n      <td>Golang разработчик</td>\n      <td>24</td>\n    </tr>\n    <tr>\n      <th>732</th>\n      <td>Golang Разработчик</td>\n      <td>24</td>\n    </tr>\n    <tr>\n      <th>745</th>\n      <td>Golang Разработчик</td>\n      <td>24</td>\n    </tr>\n    <tr>\n      <th>763</th>\n      <td>Senior Golang Developer</td>\n      <td>24</td>\n    </tr>\n    <tr>\n      <th>872</th>\n      <td>Middle/Senior Golang Developer</td>\n      <td>24</td>\n    </tr>\n    <tr>\n      <th>1035</th>\n      <td>Senior golang developer [3Сlick Закупки]</td>\n      <td>24</td>\n    </tr>\n    <tr>\n      <th>1062</th>\n      <td>Senior Golang developer</td>\n      <td>24</td>\n    </tr>\n    <tr>\n      <th>1127</th>\n      <td>Senior Golang developer</td>\n      <td>24</td>\n    </tr>\n    <tr>\n      <th>1153</th>\n      <td>Middle/Senior Golang Developer</td>\n      <td>24</td>\n    </tr>\n    <tr>\n      <th>1243</th>\n      <td>Senior golang developer [3Сlick Закупки]</td>\n      <td>24</td>\n    </tr>\n    <tr>\n      <th>1500</th>\n      <td>Senior Software Engineer (Golang)</td>\n      <td>24</td>\n    </tr>\n    <tr>\n      <th>1591</th>\n      <td>Senior Golang Developer (MTS Travel)</td>\n      <td>24</td>\n    </tr>\n    <tr>\n      <th>1617</th>\n      <td>Senior Golang Developer (MTS Travel)</td>\n      <td>24</td>\n    </tr>\n    <tr>\n      <th>1687</th>\n      <td>Middle/Senior Golang Developer</td>\n      <td>24</td>\n    </tr>\n    <tr>\n      <th>1945</th>\n      <td>Senior Golang Developer (Hotcore)</td>\n      <td>24</td>\n    </tr>\n    <tr>\n      <th>1951</th>\n      <td>Senior Python / Golang developer</td>\n      <td>24</td>\n    </tr>\n    <tr>\n      <th>2173</th>\n      <td>Младший разработчик Golang, Ozon Fresh</td>\n      <td>24</td>\n    </tr>\n    <tr>\n      <th>2182</th>\n      <td>Младший разработчик Golang, Ozon Fresh</td>\n      <td>24</td>\n    </tr>\n    <tr>\n      <th>2240</th>\n      <td>Бэкэнд-разработчик Golang</td>\n      <td>24</td>\n    </tr>\n    <tr>\n      <th>2444</th>\n      <td>Full Stack Golang Developer (Кипр, Ларнака)</td>\n      <td>24</td>\n    </tr>\n    <tr>\n      <th>2467</th>\n      <td>Специалист по разработке на Golang (middle)</td>\n      <td>24</td>\n    </tr>\n    <tr>\n      <th>2553</th>\n      <td>Специалист по разработке на Golang (middle)</td>\n      <td>24</td>\n    </tr>\n    <tr>\n      <th>2597</th>\n      <td>Разработчик golang, Ozon Fresh</td>\n      <td>24</td>\n    </tr>\n    <tr>\n      <th>2872</th>\n      <td>Full Stack Golang Developer (Кипр, Ларнака)</td>\n      <td>24</td>\n    </tr>\n    <tr>\n      <th>3006</th>\n      <td>Разработчик ПО на Golang (SberInfra)</td>\n      <td>24</td>\n    </tr>\n    <tr>\n      <th>3024</th>\n      <td>Разработчик ПО на Golang (SberInfra)</td>\n      <td>24</td>\n    </tr>\n    <tr>\n      <th>3172</th>\n      <td>Разработчик ПО на Golang (SberInfra)</td>\n      <td>24</td>\n    </tr>\n    <tr>\n      <th>3186</th>\n      <td>Разработчик ПО на Golang (SberInfra)</td>\n      <td>24</td>\n    </tr>\n    <tr>\n      <th>3305</th>\n      <td>Senior Golang разработчик [MTS Travel]</td>\n      <td>24</td>\n    </tr>\n    <tr>\n      <th>3308</th>\n      <td>Разработчик Golang (Личный кабинет, Путь совер...</td>\n      <td>24</td>\n    </tr>\n    <tr>\n      <th>3389</th>\n      <td>Разработчик Golang (Личный кабинет, Путь совер...</td>\n      <td>24</td>\n    </tr>\n    <tr>\n      <th>3507</th>\n      <td>Ведущий разработчик Golang, Ozon Fresh</td>\n      <td>24</td>\n    </tr>\n    <tr>\n      <th>3511</th>\n      <td>Разработчик Golang, Ozon Fresh</td>\n      <td>24</td>\n    </tr>\n    <tr>\n      <th>3513</th>\n      <td>Разработчик Golang, Ozon Fresh</td>\n      <td>24</td>\n    </tr>\n    <tr>\n      <th>3514</th>\n      <td>Разработчик Golang, Ozon Fresh</td>\n      <td>24</td>\n    </tr>\n    <tr>\n      <th>3515</th>\n      <td>Разработчик Golang, Ozon Fresh</td>\n      <td>24</td>\n    </tr>\n    <tr>\n      <th>3516</th>\n      <td>Разработчик Golang, Ozon Fresh</td>\n      <td>24</td>\n    </tr>\n    <tr>\n      <th>3517</th>\n      <td>Разработчик Golang, Ozon Fresh</td>\n      <td>24</td>\n    </tr>\n    <tr>\n      <th>3561</th>\n      <td>Разработчик Golang, Ozon Fresh</td>\n      <td>24</td>\n    </tr>\n    <tr>\n      <th>3563</th>\n      <td>Разработчик Golang, Ozon Fresh</td>\n      <td>24</td>\n    </tr>\n    <tr>\n      <th>3564</th>\n      <td>Разработчик Golang, Ozon Fresh</td>\n      <td>24</td>\n    </tr>\n    <tr>\n      <th>3566</th>\n      <td>Разработчик Golang, Ozon Fresh</td>\n      <td>24</td>\n    </tr>\n    <tr>\n      <th>3567</th>\n      <td>Ведущий разработчик Golang, Ozon Fresh</td>\n      <td>24</td>\n    </tr>\n    <tr>\n      <th>3583</th>\n      <td>Ведущий разработчик Golang, Ozon Fresh</td>\n      <td>24</td>\n    </tr>\n    <tr>\n      <th>4608</th>\n      <td>Golang Backend Engineer (Dubai / Cyprus)</td>\n      <td>24</td>\n    </tr>\n    <tr>\n      <th>4640</th>\n      <td>Golang Backend Engineer (Dubai / Cyprus)</td>\n      <td>24</td>\n    </tr>\n  </tbody>\n</table>\n</div>"
     },
     "execution_count": 43,
     "metadata": {},
     "output_type": "execute_result"
    }
   ],
   "source": [
    "frame[frame.cluster.eq(24)]"
   ],
   "metadata": {
    "collapsed": false,
    "pycharm": {
     "name": "#%%\n"
    }
   }
  },
  {
   "cell_type": "code",
   "execution_count": 44,
   "outputs": [
    {
     "data": {
      "text/plain": "                                               title work experience  \\\n0              Backend разработчик со знанием Python   От 3 до 6 лет   \n1              Backend разработчик со знанием Python   От 3 до 6 лет   \n2              Backend разработчик со знанием Python   От 3 до 6 лет   \n3                                Backend разработчик   От 3 до 6 лет   \n4              Backend разработчик со знанием Python   От 3 до 6 лет   \n5                Senior Data Scientist / ML Engineer   От 3 до 6 лет   \n6  Разработчик Solidity/Разработчик Rust/Разработ...   От 3 до 6 лет   \n7                                 Программист Python   От 3 до 6 лет   \n8                   Python-разработчик (Django, DRF)   От 3 до 6 лет   \n9                          Python developer (Middle)   От 3 до 6 лет   \n\n                   salary           region  category  \n0       2 500 – 3 000 USD           Алматы        14  \n1       2 500 – 3 000 USD             Баку        14  \n2       2 500 – 3 000 USD           Бишкек        14  \n3       2 500 – 3 000 USD            Минск        14  \n4       2 500 – 3 000 USD          Ташкент        14  \n5                    None           Москва        17  \n6         от 600 000 руб.           Москва         4  \n7   80 000 – 220 000 руб.           Москва        19  \n8   60 000 – 150 000 руб.           Москва         8  \n9  300 000 – 360 000 руб.  Санкт-Петербург         3  ",
      "text/html": "<div>\n<style scoped>\n    .dataframe tbody tr th:only-of-type {\n        vertical-align: middle;\n    }\n\n    .dataframe tbody tr th {\n        vertical-align: top;\n    }\n\n    .dataframe thead th {\n        text-align: right;\n    }\n</style>\n<table border=\"1\" class=\"dataframe\">\n  <thead>\n    <tr style=\"text-align: right;\">\n      <th></th>\n      <th>title</th>\n      <th>work experience</th>\n      <th>salary</th>\n      <th>region</th>\n      <th>category</th>\n    </tr>\n  </thead>\n  <tbody>\n    <tr>\n      <th>0</th>\n      <td>Backend разработчик со знанием Python</td>\n      <td>От 3 до 6 лет</td>\n      <td>2 500 – 3 000 USD</td>\n      <td>Алматы</td>\n      <td>14</td>\n    </tr>\n    <tr>\n      <th>1</th>\n      <td>Backend разработчик со знанием Python</td>\n      <td>От 3 до 6 лет</td>\n      <td>2 500 – 3 000 USD</td>\n      <td>Баку</td>\n      <td>14</td>\n    </tr>\n    <tr>\n      <th>2</th>\n      <td>Backend разработчик со знанием Python</td>\n      <td>От 3 до 6 лет</td>\n      <td>2 500 – 3 000 USD</td>\n      <td>Бишкек</td>\n      <td>14</td>\n    </tr>\n    <tr>\n      <th>3</th>\n      <td>Backend разработчик</td>\n      <td>От 3 до 6 лет</td>\n      <td>2 500 – 3 000 USD</td>\n      <td>Минск</td>\n      <td>14</td>\n    </tr>\n    <tr>\n      <th>4</th>\n      <td>Backend разработчик со знанием Python</td>\n      <td>От 3 до 6 лет</td>\n      <td>2 500 – 3 000 USD</td>\n      <td>Ташкент</td>\n      <td>14</td>\n    </tr>\n    <tr>\n      <th>5</th>\n      <td>Senior Data Scientist / ML Engineer</td>\n      <td>От 3 до 6 лет</td>\n      <td>None</td>\n      <td>Москва</td>\n      <td>17</td>\n    </tr>\n    <tr>\n      <th>6</th>\n      <td>Разработчик Solidity/Разработчик Rust/Разработ...</td>\n      <td>От 3 до 6 лет</td>\n      <td>от 600 000 руб.</td>\n      <td>Москва</td>\n      <td>4</td>\n    </tr>\n    <tr>\n      <th>7</th>\n      <td>Программист Python</td>\n      <td>От 3 до 6 лет</td>\n      <td>80 000 – 220 000 руб.</td>\n      <td>Москва</td>\n      <td>19</td>\n    </tr>\n    <tr>\n      <th>8</th>\n      <td>Python-разработчик (Django, DRF)</td>\n      <td>От 3 до 6 лет</td>\n      <td>60 000 – 150 000 руб.</td>\n      <td>Москва</td>\n      <td>8</td>\n    </tr>\n    <tr>\n      <th>9</th>\n      <td>Python developer (Middle)</td>\n      <td>От 3 до 6 лет</td>\n      <td>300 000 – 360 000 руб.</td>\n      <td>Санкт-Петербург</td>\n      <td>3</td>\n    </tr>\n  </tbody>\n</table>\n</div>"
     },
     "execution_count": 44,
     "metadata": {},
     "output_type": "execute_result"
    }
   ],
   "source": [
    "df['category'] = frame['cluster']\n",
    "df.head(10)"
   ],
   "metadata": {
    "collapsed": false,
    "pycharm": {
     "name": "#%%\n"
    }
   }
  },
  {
   "cell_type": "code",
   "execution_count": 45,
   "outputs": [
    {
     "data": {
      "text/plain": "                                                  title work experience  \\\n4690                                          Arch Lead     Более 6 лет   \n4691                               Full-stack Developer     Более 6 лет   \n4692                         Senior Fullstack Developer     Более 6 лет   \n4693               Senior Software Engineer (Linux/С++)     Более 6 лет   \n4694             CTO / Chief technical officer Robo Dev     Более 6 лет   \n4695               Senior System Engineer (Admins Team)     Более 6 лет   \n4696               Senior System Engineer (Admins Team)     Более 6 лет   \n4697                                    DevOps Engineer     Более 6 лет   \n4698  Senior/Lead Software Engineer (.NET), Relocati...     Более 6 лет   \n4699                    Risk Assurance Services Manager     Более 6 лет   \n\n                      salary   region  category  \n4690                    None   Москва        20  \n4691            от 6 500 USD   Москва        12  \n4692                    None   Москва        12  \n4693                    None   Москва        11  \n4694  300 000 – 350 000 руб.   Москва         4  \n4695            от 3 300 USD    Чехия        11  \n4696            от 3 300 USD  Армения        11  \n4697       3 700 – 4 700 USD    Минск        15  \n4698       3 000 – 5 500 USD  Армения        11  \n4699                    None  Ташкент         4  ",
      "text/html": "<div>\n<style scoped>\n    .dataframe tbody tr th:only-of-type {\n        vertical-align: middle;\n    }\n\n    .dataframe tbody tr th {\n        vertical-align: top;\n    }\n\n    .dataframe thead th {\n        text-align: right;\n    }\n</style>\n<table border=\"1\" class=\"dataframe\">\n  <thead>\n    <tr style=\"text-align: right;\">\n      <th></th>\n      <th>title</th>\n      <th>work experience</th>\n      <th>salary</th>\n      <th>region</th>\n      <th>category</th>\n    </tr>\n  </thead>\n  <tbody>\n    <tr>\n      <th>4690</th>\n      <td>Arch Lead</td>\n      <td>Более 6 лет</td>\n      <td>None</td>\n      <td>Москва</td>\n      <td>20</td>\n    </tr>\n    <tr>\n      <th>4691</th>\n      <td>Full-stack Developer</td>\n      <td>Более 6 лет</td>\n      <td>от 6 500 USD</td>\n      <td>Москва</td>\n      <td>12</td>\n    </tr>\n    <tr>\n      <th>4692</th>\n      <td>Senior Fullstack Developer</td>\n      <td>Более 6 лет</td>\n      <td>None</td>\n      <td>Москва</td>\n      <td>12</td>\n    </tr>\n    <tr>\n      <th>4693</th>\n      <td>Senior Software Engineer (Linux/С++)</td>\n      <td>Более 6 лет</td>\n      <td>None</td>\n      <td>Москва</td>\n      <td>11</td>\n    </tr>\n    <tr>\n      <th>4694</th>\n      <td>CTO / Chief technical officer Robo Dev</td>\n      <td>Более 6 лет</td>\n      <td>300 000 – 350 000 руб.</td>\n      <td>Москва</td>\n      <td>4</td>\n    </tr>\n    <tr>\n      <th>4695</th>\n      <td>Senior System Engineer (Admins Team)</td>\n      <td>Более 6 лет</td>\n      <td>от 3 300 USD</td>\n      <td>Чехия</td>\n      <td>11</td>\n    </tr>\n    <tr>\n      <th>4696</th>\n      <td>Senior System Engineer (Admins Team)</td>\n      <td>Более 6 лет</td>\n      <td>от 3 300 USD</td>\n      <td>Армения</td>\n      <td>11</td>\n    </tr>\n    <tr>\n      <th>4697</th>\n      <td>DevOps Engineer</td>\n      <td>Более 6 лет</td>\n      <td>3 700 – 4 700 USD</td>\n      <td>Минск</td>\n      <td>15</td>\n    </tr>\n    <tr>\n      <th>4698</th>\n      <td>Senior/Lead Software Engineer (.NET), Relocati...</td>\n      <td>Более 6 лет</td>\n      <td>3 000 – 5 500 USD</td>\n      <td>Армения</td>\n      <td>11</td>\n    </tr>\n    <tr>\n      <th>4699</th>\n      <td>Risk Assurance Services Manager</td>\n      <td>Более 6 лет</td>\n      <td>None</td>\n      <td>Ташкент</td>\n      <td>4</td>\n    </tr>\n  </tbody>\n</table>\n</div>"
     },
     "execution_count": 45,
     "metadata": {},
     "output_type": "execute_result"
    }
   ],
   "source": [
    "df.tail(10)"
   ],
   "metadata": {
    "collapsed": false,
    "pycharm": {
     "name": "#%%\n"
    }
   }
  },
  {
   "cell_type": "code",
   "execution_count": 46,
   "outputs": [],
   "source": [
    "category_name = {\n",
    "    0:'Разработчик Python',\n",
    "    1:'QA engineer',\n",
    "    2:'C++',\n",
    "    3:'Python developer',\n",
    "    4:'Другое',\n",
    "    5:'Разработчик',\n",
    "    6:'Специалист службы поддержки',\n",
    "    7:'Инженер-программист',\n",
    "    8:'Python разработчик',\n",
    "    9:'Data Engineer',\n",
    "    10:'Специалист технической поддержки',\n",
    "    11:'Engineer',\n",
    "    12:'Developer',\n",
    "    13:'Системный аналитик',\n",
    "    14:'Backend разработчик',\n",
    "    15:'DevOps engineer',\n",
    "    16:'QA Automation Engineer',\n",
    "    17:'Data Scientist',\n",
    "    18:'Аналитик',\n",
    "    19:'Программист',\n",
    "    20:'Тимлид',\n",
    "    21:'Инженер',\n",
    "    22:'Java',\n",
    "    23:'Data Analyst',\n",
    "    24:'Golang разработчик'\n",
    "}"
   ],
   "metadata": {
    "collapsed": false,
    "pycharm": {
     "name": "#%%\n"
    }
   }
  },
  {
   "cell_type": "code",
   "execution_count": 47,
   "outputs": [
    {
     "data": {
      "text/plain": "                                   title work experience             salary  \\\n0  Backend разработчик со знанием Python   От 3 до 6 лет  2 500 – 3 000 USD   \n1  Backend разработчик со знанием Python   От 3 до 6 лет  2 500 – 3 000 USD   \n2  Backend разработчик со знанием Python   От 3 до 6 лет  2 500 – 3 000 USD   \n3                    Backend разработчик   От 3 до 6 лет  2 500 – 3 000 USD   \n4  Backend разработчик со знанием Python   От 3 до 6 лет  2 500 – 3 000 USD   \n\n    region  category        category_name  \n0   Алматы        14  Backend разработчик  \n1     Баку        14  Backend разработчик  \n2   Бишкек        14  Backend разработчик  \n3    Минск        14  Backend разработчик  \n4  Ташкент        14  Backend разработчик  ",
      "text/html": "<div>\n<style scoped>\n    .dataframe tbody tr th:only-of-type {\n        vertical-align: middle;\n    }\n\n    .dataframe tbody tr th {\n        vertical-align: top;\n    }\n\n    .dataframe thead th {\n        text-align: right;\n    }\n</style>\n<table border=\"1\" class=\"dataframe\">\n  <thead>\n    <tr style=\"text-align: right;\">\n      <th></th>\n      <th>title</th>\n      <th>work experience</th>\n      <th>salary</th>\n      <th>region</th>\n      <th>category</th>\n      <th>category_name</th>\n    </tr>\n  </thead>\n  <tbody>\n    <tr>\n      <th>0</th>\n      <td>Backend разработчик со знанием Python</td>\n      <td>От 3 до 6 лет</td>\n      <td>2 500 – 3 000 USD</td>\n      <td>Алматы</td>\n      <td>14</td>\n      <td>Backend разработчик</td>\n    </tr>\n    <tr>\n      <th>1</th>\n      <td>Backend разработчик со знанием Python</td>\n      <td>От 3 до 6 лет</td>\n      <td>2 500 – 3 000 USD</td>\n      <td>Баку</td>\n      <td>14</td>\n      <td>Backend разработчик</td>\n    </tr>\n    <tr>\n      <th>2</th>\n      <td>Backend разработчик со знанием Python</td>\n      <td>От 3 до 6 лет</td>\n      <td>2 500 – 3 000 USD</td>\n      <td>Бишкек</td>\n      <td>14</td>\n      <td>Backend разработчик</td>\n    </tr>\n    <tr>\n      <th>3</th>\n      <td>Backend разработчик</td>\n      <td>От 3 до 6 лет</td>\n      <td>2 500 – 3 000 USD</td>\n      <td>Минск</td>\n      <td>14</td>\n      <td>Backend разработчик</td>\n    </tr>\n    <tr>\n      <th>4</th>\n      <td>Backend разработчик со знанием Python</td>\n      <td>От 3 до 6 лет</td>\n      <td>2 500 – 3 000 USD</td>\n      <td>Ташкент</td>\n      <td>14</td>\n      <td>Backend разработчик</td>\n    </tr>\n  </tbody>\n</table>\n</div>"
     },
     "execution_count": 47,
     "metadata": {},
     "output_type": "execute_result"
    }
   ],
   "source": [
    "df['category_name'] = df['category'].map(category_name)\n",
    "df.head()"
   ],
   "metadata": {
    "collapsed": false,
    "pycharm": {
     "name": "#%%\n"
    }
   }
  },
  {
   "cell_type": "markdown",
   "source": [
    "### Какая средняя и медианная зарплата по группам вакансий?"
   ],
   "metadata": {
    "collapsed": false,
    "pycharm": {
     "name": "#%% md\n"
    }
   }
  },
  {
   "cell_type": "code",
   "execution_count": 48,
   "outputs": [
    {
     "data": {
      "text/plain": "                                               title work experience  \\\n0              Backend разработчик со знанием Python   От 3 до 6 лет   \n1              Backend разработчик со знанием Python   От 3 до 6 лет   \n2              Backend разработчик со знанием Python   От 3 до 6 лет   \n3                                Backend разработчик   От 3 до 6 лет   \n4              Backend разработчик со знанием Python   От 3 до 6 лет   \n5                Senior Data Scientist / ML Engineer   От 3 до 6 лет   \n6  Разработчик Solidity/Разработчик Rust/Разработ...   От 3 до 6 лет   \n7                                 Программист Python   От 3 до 6 лет   \n8                   Python-разработчик (Django, DRF)   От 3 до 6 лет   \n9                          Python developer (Middle)   От 3 до 6 лет   \n\n                   salary           region  category        category_name  \n0       2 500 – 3 000 USD           Алматы        14  Backend разработчик  \n1       2 500 – 3 000 USD             Баку        14  Backend разработчик  \n2       2 500 – 3 000 USD           Бишкек        14  Backend разработчик  \n3       2 500 – 3 000 USD            Минск        14  Backend разработчик  \n4       2 500 – 3 000 USD          Ташкент        14  Backend разработчик  \n5                    None           Москва        17       Data Scientist  \n6         от 600 000 руб.           Москва         4               Другое  \n7   80 000 – 220 000 руб.           Москва        19          Программист  \n8   60 000 – 150 000 руб.           Москва         8   Python разработчик  \n9  300 000 – 360 000 руб.  Санкт-Петербург         3     Python developer  ",
      "text/html": "<div>\n<style scoped>\n    .dataframe tbody tr th:only-of-type {\n        vertical-align: middle;\n    }\n\n    .dataframe tbody tr th {\n        vertical-align: top;\n    }\n\n    .dataframe thead th {\n        text-align: right;\n    }\n</style>\n<table border=\"1\" class=\"dataframe\">\n  <thead>\n    <tr style=\"text-align: right;\">\n      <th></th>\n      <th>title</th>\n      <th>work experience</th>\n      <th>salary</th>\n      <th>region</th>\n      <th>category</th>\n      <th>category_name</th>\n    </tr>\n  </thead>\n  <tbody>\n    <tr>\n      <th>0</th>\n      <td>Backend разработчик со знанием Python</td>\n      <td>От 3 до 6 лет</td>\n      <td>2 500 – 3 000 USD</td>\n      <td>Алматы</td>\n      <td>14</td>\n      <td>Backend разработчик</td>\n    </tr>\n    <tr>\n      <th>1</th>\n      <td>Backend разработчик со знанием Python</td>\n      <td>От 3 до 6 лет</td>\n      <td>2 500 – 3 000 USD</td>\n      <td>Баку</td>\n      <td>14</td>\n      <td>Backend разработчик</td>\n    </tr>\n    <tr>\n      <th>2</th>\n      <td>Backend разработчик со знанием Python</td>\n      <td>От 3 до 6 лет</td>\n      <td>2 500 – 3 000 USD</td>\n      <td>Бишкек</td>\n      <td>14</td>\n      <td>Backend разработчик</td>\n    </tr>\n    <tr>\n      <th>3</th>\n      <td>Backend разработчик</td>\n      <td>От 3 до 6 лет</td>\n      <td>2 500 – 3 000 USD</td>\n      <td>Минск</td>\n      <td>14</td>\n      <td>Backend разработчик</td>\n    </tr>\n    <tr>\n      <th>4</th>\n      <td>Backend разработчик со знанием Python</td>\n      <td>От 3 до 6 лет</td>\n      <td>2 500 – 3 000 USD</td>\n      <td>Ташкент</td>\n      <td>14</td>\n      <td>Backend разработчик</td>\n    </tr>\n    <tr>\n      <th>5</th>\n      <td>Senior Data Scientist / ML Engineer</td>\n      <td>От 3 до 6 лет</td>\n      <td>None</td>\n      <td>Москва</td>\n      <td>17</td>\n      <td>Data Scientist</td>\n    </tr>\n    <tr>\n      <th>6</th>\n      <td>Разработчик Solidity/Разработчик Rust/Разработ...</td>\n      <td>От 3 до 6 лет</td>\n      <td>от 600 000 руб.</td>\n      <td>Москва</td>\n      <td>4</td>\n      <td>Другое</td>\n    </tr>\n    <tr>\n      <th>7</th>\n      <td>Программист Python</td>\n      <td>От 3 до 6 лет</td>\n      <td>80 000 – 220 000 руб.</td>\n      <td>Москва</td>\n      <td>19</td>\n      <td>Программист</td>\n    </tr>\n    <tr>\n      <th>8</th>\n      <td>Python-разработчик (Django, DRF)</td>\n      <td>От 3 до 6 лет</td>\n      <td>60 000 – 150 000 руб.</td>\n      <td>Москва</td>\n      <td>8</td>\n      <td>Python разработчик</td>\n    </tr>\n    <tr>\n      <th>9</th>\n      <td>Python developer (Middle)</td>\n      <td>От 3 до 6 лет</td>\n      <td>300 000 – 360 000 руб.</td>\n      <td>Санкт-Петербург</td>\n      <td>3</td>\n      <td>Python developer</td>\n    </tr>\n  </tbody>\n</table>\n</div>"
     },
     "execution_count": 48,
     "metadata": {},
     "output_type": "execute_result"
    }
   ],
   "source": [
    "df.head(10)"
   ],
   "metadata": {
    "collapsed": false,
    "pycharm": {
     "name": "#%%\n"
    }
   }
  },
  {
   "cell_type": "code",
   "execution_count": 49,
   "outputs": [
    {
     "data": {
      "text/plain": "array(['2 500 – 3 000 USD', None, 'от 600 000 руб.',\n       '80 000 – 220 000 руб.', '60 000 – 150 000 руб.',\n       '300 000 – 360 000 руб.', '120 000 – 190 000 руб.',\n       '300 000 – 500 000 руб.', '360 000 – 480 000 руб.',\n       '150 000 – 150 000 руб.', 'до 300 000 руб.', 'до 200 000 руб.',\n       'от 110 000 руб.', '200 000 – 350 000 руб.', 'от 150 000 руб.',\n       '280 000 – 340 000 руб.', 'от 3 500 USD', '150 000 – 200 000 руб.',\n       '220 000 – 340 000 руб.', '200 000 – 300 000 руб.',\n       '180 000 – 250 000 руб.', 'до 400 000 руб.', 'от 200 000 руб.',\n       '3 000 – 5 000 USD', '200 000 – 400 000 руб.', '5 000 – 7 000 EUR',\n       '100 000 – 250 000 руб.', '2 500 – 3 500 USD', 'до 250 000 руб.',\n       '220 000 – 300 000 руб.', 'от 225 000 руб.', 'до 7 000 USD',\n       'до 4 000 USD', 'до 220 000 руб.', 'до 6 000 USD',\n       'от 250 000 руб.', '40 000 – 80 000 руб.', 'до 50 000 000 сум',\n       'от 180 000 руб.', '4 000 – 5 700 EUR', 'от 140 000 руб.',\n       'от 120 000 руб.', '180 000 – 280 000 руб.',\n       '90 000 – 150 000 руб.', '400 000 – 900 000 KZT',\n       '400 000 – 450 000 руб.', '140 000 – 180 000 руб.',\n       '1 500 – 3 500 EUR', '210 000 – 300 000 руб.', 'от 170 000 руб.',\n       '140 000 – 200 000 руб.', 'до 350 000 руб.', 'до 240 500 руб.',\n       '130 000 – 180 000 руб.', '4 000 – 4 000 USD',\n       '231 000 – 380 000 руб.', 'от 2 500 USD', '60 000 – 120 000 руб.',\n       '5 000 – 5 500 USD', '4 000 – 4 500 EUR', '70 000 – 110 000 руб.',\n       '180 000 – 280 000 KZT', '80 000 – 120 000 руб.', 'от 6 500 USD',\n       '150 000 – 250 000 руб.', '2 000 – 4 000 USD',\n       '150 000 – 210 000 руб.', 'от 300 000 руб.', 'от 240 000 руб.',\n       'от 600 000 KZT', '190 000 – 250 000 руб.',\n       '200 000 – 210 000 руб.', 'до 183 429 руб.', 'от 230 000 руб.',\n       'от 80 000 руб.', '180 000 – 300 000 руб.',\n       '250 000 – 300 000 руб.', 'от 50 000 руб.', 'от 330 000 руб.',\n       '4 500 – 6 000 EUR', '2 500 – 4 500 USD', '80 000 – 200 000 руб.',\n       '120 000 – 220 000 руб.', '500 000 – 800 000 KZT',\n       'от 60 000 руб.', '2 500 – 5 000 USD', '800 – 1 500 USD',\n       'от 100 000 руб.', '400 000 – 700 000 руб.',\n       '70 000 – 120 000 руб.', '5 000 – 8 500 EUR', 'до 5 500 USD',\n       '180 000 – 230 000 руб.', '80 000 – 160 000 руб.',\n       'от 400 000 руб.', '300 000 – 350 000 руб.', 'от 1 200 000 KZT',\n       'от 5 000 USD', 'до 330 000 руб.', 'от 3 000 EUR',\n       '150 000 – 180 000 руб.', '300 000 – 450 000 руб.',\n       '150 000 – 230 000 руб.', '180 000 – 220 000 руб.',\n       '270 000 – 300 000 руб.', '100 000 – 130 000 руб.', 'до 5 000 USD',\n       'до 170 000 руб.', '2 000 – 3 500 USD', 'от 380 000 руб.',\n       '100 000 – 100 000 руб.', 'от 360 000 руб.', '4 500 – 6 000 USD',\n       '2 000 – 4 500 EUR', 'от 4 000 EUR', 'от 90 000 руб.',\n       'от 190 000 руб.', 'от 3 000 USD', '78 000 – 78 000 руб.',\n       'от 5 000 EUR', '70 000 – 150 000 руб.', '138 000 – 160 000 руб.',\n       '80 000 – 190 000 руб.', '80 000 – 150 000 руб.',\n       '75 000 – 140 000 руб.', '250 000 – 300 000 KZT',\n       '100 000 – 170 000 руб.', 'от 4 500 EUR', '300 000 – 380 000 руб.',\n       'до 110 000 руб.', 'от 8 000 USD', '80 000 – 100 000 руб.',\n       '120 000 – 180 000 руб.', '220 000 – 250 000 руб.',\n       '4 000 – 5 000 EUR', '60 000 – 70 000 руб.',\n       '100 000 – 150 000 руб.', '230 000 – 380 000 руб.',\n       'от 85 000 руб.', '150 000 – 300 000 руб.', 'до 150 000 руб.',\n       '4 900 – 6 000 EUR', '150 000 – 170 000 руб.',\n       '150 000 – 221 000 руб.', '800 000 – 1 350 000 KZT',\n       '35 000 – 60 000 руб.', '120 000 – 250 000 руб.', 'от 2 000 USD',\n       '200 000 – 260 000 руб.', '6 000 – 9 000 USD',\n       '76 967 – 76 967 руб.', 'от 350 000 руб.', 'от 5 500 EUR',\n       '90 000 – 130 000 руб.', 'от 4 000 USD', 'от 130 000 руб.',\n       '150 000 – 220 000 руб.', '160 000 – 230 000 руб.',\n       'до 140 000 руб.', '3 000 – 4 500 USD', '90 000 – 120 000 руб.',\n       '200 000 – 250 000 руб.', 'до 4 800 USD', '250 000 – 350 000 руб.',\n       'от 38 000 руб.', 'до 4 900 EUR', '160 000 – 300 000 руб.',\n       '355 000 – 520 000 руб.', '70 000 – 100 000 руб.',\n       '125 000 – 225 000 руб.', 'до 420 000 руб.',\n       '290 000 – 360 000 руб.', '20 000 – 250 000 руб.',\n       'до 240 000 руб.', '2 500 – 4 000 USD', 'от 3 500 EUR',\n       '100 000 – 200 000 руб.', '1 000 – 2 000 USD',\n       '60 000 – 100 000 руб.', 'от 70 000 руб.', '50 000 – 80 000 руб.',\n       '100 000 – 120 000 руб.', '100 000 – 400 000 руб.',\n       '250 000 – 330 000 руб.', '40 000 – 50 000 руб.',\n       '130 000 – 250 000 руб.', '70 000 – 90 000 руб.',\n       'от 135 000 руб.', '105 – 215 000 руб.', 'от 160 000 руб.',\n       '160 000 – 210 000 руб.', '100 000 – 190 000 руб.',\n       '600 000 – 750 000 KZT', 'от 40 000 руб.', 'до 80 000 руб.',\n       '180 000 – 210 000 руб.', 'до 100 000 руб.',\n       '50 000 – 70 000 руб.', '210 000 – 230 000 руб.',\n       '30 000 – 120 000 руб.', '160 000 – 240 000 руб.',\n       '45 000 – 120 000 руб.', '125 000 – 243 000 руб.',\n       '300 000 – 600 000 KZT', '2 000 – 3 200 USD',\n       '135 000 – 135 000 руб.', '250 000 – 400 000 KZT', 'от 1 500 USD',\n       '30 000 – 60 000 руб.', '55 000 – 200 000 руб.', 'от 200 000 KZT',\n       'до 1 000 000 KZT', '125 000 – 220 000 руб.',\n       '120 000 – 240 000 руб.', '120 000 – 150 000 руб.',\n       '1 500 – 4 000 USD', '150 000 – 500 000 KZT',\n       '60 000 – 140 000 руб.', 'от 127 500 руб.', '35 000 – 65 000 руб.',\n       '30 000 – 80 000 руб.', '45 000 – 50 000 руб.',\n       '115 000 – 220 000 руб.', '15 000 – 20 000 руб.',\n       'до 120 000 руб.', '3 000 – 4 000 EUR', '50 000 – 75 000 руб.',\n       'от 75 000 руб.', '80 000 – 110 000 руб.',\n       '3 500 – 6 000 бел.\\xa0руб.', '3 500 – 5 500 USD',\n       '4 000 – 6 000 USD', 'от 210 000 руб.', '60 000 – 200 000 руб.',\n       '70 000 – 140 000 руб.', '40 000 – 100 000 руб.',\n       '50 000 – 200 000 руб.', 'до 280 000 руб.', 'от 30 000 руб.',\n       '100 000 – 140 000 руб.', '40 000 – 70 000 руб.',\n       '25 000 – 55 000 руб.', '20 000 – 40 000 руб.', 'до 70 000 руб.',\n       '400 000 – 700 000 KZT', '40 000 – 120 000 руб.',\n       '300 000 – 550 000 KZT', 'от 56 000 руб.', '45 000 – 70 000 руб.',\n       'до 3 000 USD', '53 000 – 75 000 руб.', 'от 65 000 руб.',\n       'до 90 000 руб.', '90 000 – 117 800 руб.', 'от 53 700 руб.',\n       '40 000 – 60 000 руб.', '30 000 – 45 000 руб.',\n       '40 000 – 90 000 руб.', '900 000 – 1 200 000 KZT',\n       'до 235 000 руб.', '138 000 – 138 000 руб.',\n       '100 000 – 215 000 руб.', '50 000 – 65 000 руб.',\n       '159 471 – 224 546 руб.', '1 700 – 2 300 EUR',\n       '850 000 – 1 150 000 KZT', 'до 39 800 руб.',\n       '75 000 – 100 000 руб.', '150 000 – 190 000 руб.',\n       '120 000 – 120 000 руб.', '24 000 – 50 000 руб.',\n       'до 190 000 руб.', '120 000 – 200 000 руб.',\n       '53 600 – 53 600 руб.', 'от 175 000 руб.',\n       '100 000 – 160 000 руб.', 'от 2 500 EUR', 'до 2 000 USD',\n       '1 000 – 3 000 USD', '2 000 – 5 000 USD', '105 000 – 215 000 руб.',\n       'до 160 000 руб.', '24 000 – 56 000 руб.', '45 000 – 90 000 руб.',\n       '2 000 – 3 000 EUR', '90 000 – 110 000 руб.',\n       '30 000 – 40 000 руб.', '65 000 – 200 000 руб.',\n       '46 000 – 92 000 руб.', '100 000 – 220 000 руб.', 'от 45 000 руб.',\n       '50 000 – 60 000 руб.', '3 000 – 4 000 USD', 'от 125 000 руб.',\n       'от 95 000 руб.', '160 000 – 200 000 руб.', 'от 105 135 руб.',\n       '47 000 – 112 000 руб.', '120 000 – 160 000 руб.',\n       'от 35 000 руб.', '80 000 – 180 000 руб.', '30 000 – 50 000 руб.',\n       'от 57 500 руб.', 'до 95 000 руб.', '60 000 – 60 000 руб.',\n       '20 000 – 20 000 руб.', '150 000 – 250 000 KZT',\n       '230 000 – 260 000 KZT', 'от 1 000 бел.\\xa0руб.',\n       'от 2 000 бел.\\xa0руб.', '30 000 – 90 000 руб.', 'до 10 000 EUR',\n       '60 000 – 80 000 руб.', '55 000 – 75 000 руб.',\n       '18 000 – 36 000 руб.', 'от 15 000 руб.', 'до 60 000 руб.',\n       'от 37 000 руб.', '45 000 – 60 000 руб.', '25 000 – 70 000 руб.',\n       '140 000 – 170 000 руб.', '30 000 – 70 000 руб.',\n       '25 000 – 40 000 руб.', '44 000 – 54 000 руб.', 'от 183 000 KZT',\n       '24 000 – 64 000 руб.', '50 000 – 130 000 руб.',\n       '25 000 – 50 000 руб.', 'до 45 000 руб.', '15 000 – 25 000 руб.',\n       'от 25 000 руб.', 'от 10 000 руб.', '31 500 – 31 500 руб.',\n       'от 28 000 руб.', 'от 24 400 руб.', '25 000 – 45 000 руб.',\n       'от 24 000 руб.', '15 000 – 65 000 руб.', '150 000 – 150 000 KZT',\n       'от 6 000 USD', '300 000 – 400 000 руб.', '7 000 – 9 000 USD',\n       '250 000 – 270 000 руб.', '30 000 – 100 000 руб.',\n       'от 1 500 000 KZT', 'от 7 000 USD', '5 000 – 6 000 USD',\n       '5 500 – 8 000 USD', '5 000 – 9 000 USD', '6 500 – 8 500 USD',\n       '5 000 – 7 500 EUR', '140 000 – 220 000 руб.',\n       '6 600 – 7 900 руб.', '5 000 – 6 500 USD', 'от 9 500 USD',\n       '3 100 – 5 165 EUR', '4 000 – 4 500 USD', '6 000 – 7 000 EUR',\n       'от 1 000 USD', 'от 250 000 KZT', 'от 3 300 USD',\n       '3 700 – 4 700 USD', '3 000 – 5 500 USD'], dtype=object)"
     },
     "execution_count": 49,
     "metadata": {},
     "output_type": "execute_result"
    }
   ],
   "source": [
    "df.salary.unique()"
   ],
   "metadata": {
    "collapsed": false,
    "pycharm": {
     "name": "#%%\n"
    }
   }
  },
  {
   "cell_type": "code",
   "execution_count": 50,
   "outputs": [
    {
     "data": {
      "text/plain": "3064"
     },
     "execution_count": 50,
     "metadata": {},
     "output_type": "execute_result"
    }
   ],
   "source": [
    "df['salary'].isnull().sum()"
   ],
   "metadata": {
    "collapsed": false,
    "pycharm": {
     "name": "#%%\n"
    }
   }
  },
  {
   "cell_type": "code",
   "execution_count": 51,
   "outputs": [
    {
     "data": {
      "text/plain": "{'USD': 122, 'руб.': 1396, 'EUR': 82, 'сум': 2, 'KZT': 30, 'бел.руб.': 4}"
     },
     "execution_count": 51,
     "metadata": {},
     "output_type": "execute_result"
    }
   ],
   "source": [
    "currencies = {}\n",
    "for i in df.salary:\n",
    "    if i is not None:\n",
    "        cur = i.split(' ')[-1]\n",
    "        cur = cur.replace('\\xa0', '')\n",
    "        if cur not in currencies:\n",
    "            currencies[cur] = 1\n",
    "        else:\n",
    "            currencies[cur] = currencies[cur] + 1\n",
    "currencies"
   ],
   "metadata": {
    "collapsed": false,
    "pycharm": {
     "name": "#%%\n"
    }
   }
  },
  {
   "cell_type": "code",
   "execution_count": 52,
   "outputs": [],
   "source": [
    "exchange_rate = {\n",
    "    'USD': 58.18,\n",
    "    'руб.': 1,\n",
    "    'EUR': 56,\n",
    "    'сум': 0.00527,\n",
    "    'KZT': 0.1219,\n",
    "    'бел.руб.': 23.46\n",
    "}"
   ],
   "metadata": {
    "collapsed": false,
    "pycharm": {
     "name": "#%%\n"
    }
   }
  },
  {
   "cell_type": "code",
   "execution_count": 53,
   "outputs": [],
   "source": [
    "salary_from_national_currency = []\n",
    "salary_from = []\n",
    "salary_to_national_currency = []\n",
    "salary_to = []\n",
    "currency = []\n",
    "for i in df.salary:\n",
    "    if i is None:\n",
    "        salary_from.append(None)\n",
    "        salary_from_national_currency.append(None)\n",
    "        salary_to.append(None)\n",
    "        salary_to_national_currency.append(None)\n",
    "    else:\n",
    "        cur = i.split(' ')[-1]\n",
    "        cur = cur.replace('\\xa0', '')\n",
    "        currency.append(cur)\n",
    "        string = i.replace('\\xa0', '').replace(' ', '').rstrip(cur)\n",
    "        if '–' in string:\n",
    "            _from, _to = list(map(int,string.split('–')))\n",
    "            salary_from_national_currency.append(_from)\n",
    "            salary_to_national_currency.append(_to)\n",
    "            salary_from.append(_from*exchange_rate[cur])\n",
    "            salary_to.append(_to*exchange_rate[cur])\n",
    "        elif 'до' in string:\n",
    "            _to = int(string.lstrip('до'))\n",
    "            salary_from_national_currency.append(_to)\n",
    "            salary_to_national_currency.append(_to)\n",
    "            salary_from.append(_to*exchange_rate[cur])\n",
    "            salary_to.append(_to*exchange_rate[cur])\n",
    "        elif 'от' in string:\n",
    "            _from = int(string.lstrip('от'))\n",
    "            salary_from_national_currency.append(_from)\n",
    "            salary_to_national_currency.append(_from)\n",
    "            salary_from.append(_from*exchange_rate[cur])\n",
    "            salary_to.append(_from*exchange_rate[cur])\n",
    "        else:\n",
    "            salary_from.append(None)\n",
    "            salary_from_national_currency.append(None)\n",
    "            salary_to.append(None)\n",
    "            salary_to_national_currency.append(None)"
   ],
   "metadata": {
    "collapsed": false,
    "pycharm": {
     "name": "#%%\n"
    }
   }
  },
  {
   "cell_type": "code",
   "execution_count": 54,
   "outputs": [
    {
     "data": {
      "text/plain": "                                                  title work experience  \\\n0                 Backend разработчик со знанием Python   От 3 до 6 лет   \n1                 Backend разработчик со знанием Python   От 3 до 6 лет   \n2                 Backend разработчик со знанием Python   От 3 до 6 лет   \n3                                   Backend разработчик   От 3 до 6 лет   \n4                 Backend разработчик со знанием Python   От 3 до 6 лет   \n...                                                 ...             ...   \n4695               Senior System Engineer (Admins Team)     Более 6 лет   \n4696               Senior System Engineer (Admins Team)     Более 6 лет   \n4697                                    DevOps Engineer     Более 6 лет   \n4698  Senior/Lead Software Engineer (.NET), Relocati...     Более 6 лет   \n4699                    Risk Assurance Services Manager     Более 6 лет   \n\n                 salary   region  category        category_name  from_RUB  \\\n0     2 500 – 3 000 USD   Алматы        14  Backend разработчик  145450.0   \n1     2 500 – 3 000 USD     Баку        14  Backend разработчик  145450.0   \n2     2 500 – 3 000 USD   Бишкек        14  Backend разработчик  145450.0   \n3     2 500 – 3 000 USD    Минск        14  Backend разработчик  145450.0   \n4     2 500 – 3 000 USD  Ташкент        14  Backend разработчик  145450.0   \n...                 ...      ...       ...                  ...       ...   \n4695       от 3 300 USD    Чехия        11             Engineer  191994.0   \n4696       от 3 300 USD  Армения        11             Engineer  191994.0   \n4697  3 700 – 4 700 USD    Минск        15      DevOps engineer  215266.0   \n4698  3 000 – 5 500 USD  Армения        11             Engineer  174540.0   \n4699               None  Ташкент         4               Другое       NaN   \n\n        to_RUB  from_local_cur  to_local_cur       RUB  \n0     174540.0          2500.0        3000.0  159995.0  \n1     174540.0          2500.0        3000.0  159995.0  \n2     174540.0          2500.0        3000.0  159995.0  \n3     174540.0          2500.0        3000.0  159995.0  \n4     174540.0          2500.0        3000.0  159995.0  \n...        ...             ...           ...       ...  \n4695  191994.0          3300.0        3300.0  191994.0  \n4696  191994.0          3300.0        3300.0  191994.0  \n4697  273446.0          3700.0        4700.0  244356.0  \n4698  319990.0          3000.0        5500.0  247265.0  \n4699       NaN             NaN           NaN       NaN  \n\n[4700 rows x 11 columns]",
      "text/html": "<div>\n<style scoped>\n    .dataframe tbody tr th:only-of-type {\n        vertical-align: middle;\n    }\n\n    .dataframe tbody tr th {\n        vertical-align: top;\n    }\n\n    .dataframe thead th {\n        text-align: right;\n    }\n</style>\n<table border=\"1\" class=\"dataframe\">\n  <thead>\n    <tr style=\"text-align: right;\">\n      <th></th>\n      <th>title</th>\n      <th>work experience</th>\n      <th>salary</th>\n      <th>region</th>\n      <th>category</th>\n      <th>category_name</th>\n      <th>from_RUB</th>\n      <th>to_RUB</th>\n      <th>from_local_cur</th>\n      <th>to_local_cur</th>\n      <th>RUB</th>\n    </tr>\n  </thead>\n  <tbody>\n    <tr>\n      <th>0</th>\n      <td>Backend разработчик со знанием Python</td>\n      <td>От 3 до 6 лет</td>\n      <td>2 500 – 3 000 USD</td>\n      <td>Алматы</td>\n      <td>14</td>\n      <td>Backend разработчик</td>\n      <td>145450.0</td>\n      <td>174540.0</td>\n      <td>2500.0</td>\n      <td>3000.0</td>\n      <td>159995.0</td>\n    </tr>\n    <tr>\n      <th>1</th>\n      <td>Backend разработчик со знанием Python</td>\n      <td>От 3 до 6 лет</td>\n      <td>2 500 – 3 000 USD</td>\n      <td>Баку</td>\n      <td>14</td>\n      <td>Backend разработчик</td>\n      <td>145450.0</td>\n      <td>174540.0</td>\n      <td>2500.0</td>\n      <td>3000.0</td>\n      <td>159995.0</td>\n    </tr>\n    <tr>\n      <th>2</th>\n      <td>Backend разработчик со знанием Python</td>\n      <td>От 3 до 6 лет</td>\n      <td>2 500 – 3 000 USD</td>\n      <td>Бишкек</td>\n      <td>14</td>\n      <td>Backend разработчик</td>\n      <td>145450.0</td>\n      <td>174540.0</td>\n      <td>2500.0</td>\n      <td>3000.0</td>\n      <td>159995.0</td>\n    </tr>\n    <tr>\n      <th>3</th>\n      <td>Backend разработчик</td>\n      <td>От 3 до 6 лет</td>\n      <td>2 500 – 3 000 USD</td>\n      <td>Минск</td>\n      <td>14</td>\n      <td>Backend разработчик</td>\n      <td>145450.0</td>\n      <td>174540.0</td>\n      <td>2500.0</td>\n      <td>3000.0</td>\n      <td>159995.0</td>\n    </tr>\n    <tr>\n      <th>4</th>\n      <td>Backend разработчик со знанием Python</td>\n      <td>От 3 до 6 лет</td>\n      <td>2 500 – 3 000 USD</td>\n      <td>Ташкент</td>\n      <td>14</td>\n      <td>Backend разработчик</td>\n      <td>145450.0</td>\n      <td>174540.0</td>\n      <td>2500.0</td>\n      <td>3000.0</td>\n      <td>159995.0</td>\n    </tr>\n    <tr>\n      <th>...</th>\n      <td>...</td>\n      <td>...</td>\n      <td>...</td>\n      <td>...</td>\n      <td>...</td>\n      <td>...</td>\n      <td>...</td>\n      <td>...</td>\n      <td>...</td>\n      <td>...</td>\n      <td>...</td>\n    </tr>\n    <tr>\n      <th>4695</th>\n      <td>Senior System Engineer (Admins Team)</td>\n      <td>Более 6 лет</td>\n      <td>от 3 300 USD</td>\n      <td>Чехия</td>\n      <td>11</td>\n      <td>Engineer</td>\n      <td>191994.0</td>\n      <td>191994.0</td>\n      <td>3300.0</td>\n      <td>3300.0</td>\n      <td>191994.0</td>\n    </tr>\n    <tr>\n      <th>4696</th>\n      <td>Senior System Engineer (Admins Team)</td>\n      <td>Более 6 лет</td>\n      <td>от 3 300 USD</td>\n      <td>Армения</td>\n      <td>11</td>\n      <td>Engineer</td>\n      <td>191994.0</td>\n      <td>191994.0</td>\n      <td>3300.0</td>\n      <td>3300.0</td>\n      <td>191994.0</td>\n    </tr>\n    <tr>\n      <th>4697</th>\n      <td>DevOps Engineer</td>\n      <td>Более 6 лет</td>\n      <td>3 700 – 4 700 USD</td>\n      <td>Минск</td>\n      <td>15</td>\n      <td>DevOps engineer</td>\n      <td>215266.0</td>\n      <td>273446.0</td>\n      <td>3700.0</td>\n      <td>4700.0</td>\n      <td>244356.0</td>\n    </tr>\n    <tr>\n      <th>4698</th>\n      <td>Senior/Lead Software Engineer (.NET), Relocati...</td>\n      <td>Более 6 лет</td>\n      <td>3 000 – 5 500 USD</td>\n      <td>Армения</td>\n      <td>11</td>\n      <td>Engineer</td>\n      <td>174540.0</td>\n      <td>319990.0</td>\n      <td>3000.0</td>\n      <td>5500.0</td>\n      <td>247265.0</td>\n    </tr>\n    <tr>\n      <th>4699</th>\n      <td>Risk Assurance Services Manager</td>\n      <td>Более 6 лет</td>\n      <td>None</td>\n      <td>Ташкент</td>\n      <td>4</td>\n      <td>Другое</td>\n      <td>NaN</td>\n      <td>NaN</td>\n      <td>NaN</td>\n      <td>NaN</td>\n      <td>NaN</td>\n    </tr>\n  </tbody>\n</table>\n<p>4700 rows × 11 columns</p>\n</div>"
     },
     "execution_count": 54,
     "metadata": {},
     "output_type": "execute_result"
    }
   ],
   "source": [
    "df_salary_category = df.copy(deep=True)\n",
    "df_salary_category['from_RUB'] = salary_from\n",
    "df_salary_category['to_RUB'] = salary_to\n",
    "df_salary_category['from_local_cur'] = salary_from_national_currency\n",
    "df_salary_category['to_local_cur'] = salary_to_national_currency\n",
    "df_salary_category['RUB'] = (df_salary_category['from_RUB']+df_salary_category['to_RUB'])//2\n",
    "df_salary_category"
   ],
   "metadata": {
    "collapsed": false,
    "pycharm": {
     "name": "#%%\n"
    }
   }
  },
  {
   "cell_type": "code",
   "execution_count": 55,
   "outputs": [
    {
     "data": {
      "text/plain": "132691.0770171149"
     },
     "execution_count": 55,
     "metadata": {},
     "output_type": "execute_result"
    }
   ],
   "source": [
    "df_salary_category.RUB.mean()"
   ],
   "metadata": {
    "collapsed": false,
    "pycharm": {
     "name": "#%%\n"
    }
   }
  },
  {
   "cell_type": "code",
   "execution_count": 56,
   "outputs": [
    {
     "data": {
      "text/plain": "                                    RUB                                \\\n                                  count           mean            std   \ncategory_name                                                           \nBackend разработчик                63.0  202010.000000   94542.634029   \nC++                               111.0  122297.783784   78769.018792   \nData Analyst                       20.0  215855.750000   91118.171613   \nData Engineer                      26.0  283642.192308   82391.293789   \nData Scientist                     11.0  230909.090909  102122.920586   \nDevOps engineer                    56.0  298921.178571   78596.366006   \nDeveloper                          83.0  190779.469880  101126.781155   \nEngineer                           40.0  265901.150000   85230.825326   \nGolang разработчик                  5.0  178090.000000   95258.151882   \nJava                               13.0  203669.230769   84675.068985   \nPython developer                  105.0  220705.200000   92138.783924   \nPython разработчик                 22.0  184545.454545  101757.286985   \nQA Automation Engineer             19.0  173807.052632   68672.613821   \nQA engineer                        11.0  176319.545455   70116.543143   \nАналитик                           16.0  130000.000000   52788.887720   \nДругое                            256.0  136987.375000   97561.532491   \nИнженер                            89.0  156185.393258   54204.420632   \nИнженер-программист                87.0  124437.678161   76098.722494   \nПрограммист                        29.0  166174.206897   70064.775797   \nРазработчик                        70.0  137256.214286   63275.385376   \nРазработчик Python                 47.0  187472.340426  101651.774621   \nСистемный аналитик                  9.0  183888.888889  105142.099613   \nСпециалист службы поддержки       285.0   15000.000000       0.000000   \nСпециалист технической поддержки  154.0   20929.870130   22138.146565   \nТимлид                              9.0  339777.777778   81356.895494   \n\n                                                                           \\\n                                       min       25%       50%        75%   \ncategory_name                                                               \nBackend разработчик                24380.0  150000.0  200000.0  271600.00   \nC++                                17500.0   62500.0  103900.0  168750.00   \nData Analyst                       95000.0  168000.0  200000.0  214538.75   \nData Engineer                      76967.0  236065.0  336000.0  336000.00   \nData Scientist                    120000.0  150000.0  170000.0  325000.00   \nDevOps engineer                   159995.0  252000.0  280000.0  314083.75   \nDeveloper                          18285.0  118180.0  170000.0  250000.00   \nEngineer                          159995.0  196000.0  239992.5  300497.50   \nGolang разработчик                 45000.0  145450.0  196000.0  196000.00   \nJava                               60000.0  170000.0  190000.0  290900.00   \nPython developer                    7250.0  165000.0  232720.0  275000.00   \nPython разработчик                 40000.0  110000.0  155000.0  268750.00   \nQA Automation Engineer            100000.0  120000.0  140000.0  231360.00   \nQA engineer                       100000.0  115950.0  174540.0  196000.00   \nАналитик                           60000.0  103750.0  120000.0  151250.00   \nДругое                             10000.0   56875.0  125000.0  183821.75   \nИнженер                            85000.0  120000.0  135000.0  200000.00   \nИнженер-программист                17500.0   67500.0  105000.0  188504.00   \nПрограммист                        45000.0  107552.0  180000.0  225000.00   \nРазработчик                        20000.0  108125.0  125950.0  157500.00   \nРазработчик Python                 30000.0  110000.0  150000.0  250000.00   \nСистемный аналитик                 50000.0  120000.0  170000.0  175000.00   \nСпециалист службы поддержки        15000.0   15000.0   15000.0   15000.00   \nСпециалист технической поддержки   15000.0   15000.0   15000.0   15000.00   \nТимлид                            205000.0  350000.0  360000.0  364000.00   \n\n                                            \n                                       max  \ncategory_name                               \nBackend разработчик               465440.0  \nC++                               550000.0  \nData Analyst                      407260.0  \nData Engineer                     400000.0  \nData Scientist                    400000.0  \nDevOps engineer                   465440.0  \nDeveloper                         560000.0  \nEngineer                          465440.0  \nGolang разработчик                308000.0  \nJava                              300000.0  \nPython developer                  436350.0  \nPython разработчик                400000.0  \nQA Automation Engineer            300000.0  \nQA engineer                       334535.0  \nАналитик                          240000.0  \nДругое                            600000.0  \nИнженер                           290900.0  \nИнженер-программист               300000.0  \nПрограммист                       300000.0  \nРазработчик                       400000.0  \nРазработчик Python                378170.0  \nСистемный аналитик                400000.0  \nСпециалист службы поддержки        15000.0  \nСпециалист технической поддержки  150000.0  \nТимлид                            425000.0  ",
      "text/html": "<div>\n<style scoped>\n    .dataframe tbody tr th:only-of-type {\n        vertical-align: middle;\n    }\n\n    .dataframe tbody tr th {\n        vertical-align: top;\n    }\n\n    .dataframe thead tr th {\n        text-align: left;\n    }\n\n    .dataframe thead tr:last-of-type th {\n        text-align: right;\n    }\n</style>\n<table border=\"1\" class=\"dataframe\">\n  <thead>\n    <tr>\n      <th></th>\n      <th colspan=\"8\" halign=\"left\">RUB</th>\n    </tr>\n    <tr>\n      <th></th>\n      <th>count</th>\n      <th>mean</th>\n      <th>std</th>\n      <th>min</th>\n      <th>25%</th>\n      <th>50%</th>\n      <th>75%</th>\n      <th>max</th>\n    </tr>\n    <tr>\n      <th>category_name</th>\n      <th></th>\n      <th></th>\n      <th></th>\n      <th></th>\n      <th></th>\n      <th></th>\n      <th></th>\n      <th></th>\n    </tr>\n  </thead>\n  <tbody>\n    <tr>\n      <th>Backend разработчик</th>\n      <td>63.0</td>\n      <td>202010.000000</td>\n      <td>94542.634029</td>\n      <td>24380.0</td>\n      <td>150000.0</td>\n      <td>200000.0</td>\n      <td>271600.00</td>\n      <td>465440.0</td>\n    </tr>\n    <tr>\n      <th>C++</th>\n      <td>111.0</td>\n      <td>122297.783784</td>\n      <td>78769.018792</td>\n      <td>17500.0</td>\n      <td>62500.0</td>\n      <td>103900.0</td>\n      <td>168750.00</td>\n      <td>550000.0</td>\n    </tr>\n    <tr>\n      <th>Data Analyst</th>\n      <td>20.0</td>\n      <td>215855.750000</td>\n      <td>91118.171613</td>\n      <td>95000.0</td>\n      <td>168000.0</td>\n      <td>200000.0</td>\n      <td>214538.75</td>\n      <td>407260.0</td>\n    </tr>\n    <tr>\n      <th>Data Engineer</th>\n      <td>26.0</td>\n      <td>283642.192308</td>\n      <td>82391.293789</td>\n      <td>76967.0</td>\n      <td>236065.0</td>\n      <td>336000.0</td>\n      <td>336000.00</td>\n      <td>400000.0</td>\n    </tr>\n    <tr>\n      <th>Data Scientist</th>\n      <td>11.0</td>\n      <td>230909.090909</td>\n      <td>102122.920586</td>\n      <td>120000.0</td>\n      <td>150000.0</td>\n      <td>170000.0</td>\n      <td>325000.00</td>\n      <td>400000.0</td>\n    </tr>\n    <tr>\n      <th>DevOps engineer</th>\n      <td>56.0</td>\n      <td>298921.178571</td>\n      <td>78596.366006</td>\n      <td>159995.0</td>\n      <td>252000.0</td>\n      <td>280000.0</td>\n      <td>314083.75</td>\n      <td>465440.0</td>\n    </tr>\n    <tr>\n      <th>Developer</th>\n      <td>83.0</td>\n      <td>190779.469880</td>\n      <td>101126.781155</td>\n      <td>18285.0</td>\n      <td>118180.0</td>\n      <td>170000.0</td>\n      <td>250000.00</td>\n      <td>560000.0</td>\n    </tr>\n    <tr>\n      <th>Engineer</th>\n      <td>40.0</td>\n      <td>265901.150000</td>\n      <td>85230.825326</td>\n      <td>159995.0</td>\n      <td>196000.0</td>\n      <td>239992.5</td>\n      <td>300497.50</td>\n      <td>465440.0</td>\n    </tr>\n    <tr>\n      <th>Golang разработчик</th>\n      <td>5.0</td>\n      <td>178090.000000</td>\n      <td>95258.151882</td>\n      <td>45000.0</td>\n      <td>145450.0</td>\n      <td>196000.0</td>\n      <td>196000.00</td>\n      <td>308000.0</td>\n    </tr>\n    <tr>\n      <th>Java</th>\n      <td>13.0</td>\n      <td>203669.230769</td>\n      <td>84675.068985</td>\n      <td>60000.0</td>\n      <td>170000.0</td>\n      <td>190000.0</td>\n      <td>290900.00</td>\n      <td>300000.0</td>\n    </tr>\n    <tr>\n      <th>Python developer</th>\n      <td>105.0</td>\n      <td>220705.200000</td>\n      <td>92138.783924</td>\n      <td>7250.0</td>\n      <td>165000.0</td>\n      <td>232720.0</td>\n      <td>275000.00</td>\n      <td>436350.0</td>\n    </tr>\n    <tr>\n      <th>Python разработчик</th>\n      <td>22.0</td>\n      <td>184545.454545</td>\n      <td>101757.286985</td>\n      <td>40000.0</td>\n      <td>110000.0</td>\n      <td>155000.0</td>\n      <td>268750.00</td>\n      <td>400000.0</td>\n    </tr>\n    <tr>\n      <th>QA Automation Engineer</th>\n      <td>19.0</td>\n      <td>173807.052632</td>\n      <td>68672.613821</td>\n      <td>100000.0</td>\n      <td>120000.0</td>\n      <td>140000.0</td>\n      <td>231360.00</td>\n      <td>300000.0</td>\n    </tr>\n    <tr>\n      <th>QA engineer</th>\n      <td>11.0</td>\n      <td>176319.545455</td>\n      <td>70116.543143</td>\n      <td>100000.0</td>\n      <td>115950.0</td>\n      <td>174540.0</td>\n      <td>196000.00</td>\n      <td>334535.0</td>\n    </tr>\n    <tr>\n      <th>Аналитик</th>\n      <td>16.0</td>\n      <td>130000.000000</td>\n      <td>52788.887720</td>\n      <td>60000.0</td>\n      <td>103750.0</td>\n      <td>120000.0</td>\n      <td>151250.00</td>\n      <td>240000.0</td>\n    </tr>\n    <tr>\n      <th>Другое</th>\n      <td>256.0</td>\n      <td>136987.375000</td>\n      <td>97561.532491</td>\n      <td>10000.0</td>\n      <td>56875.0</td>\n      <td>125000.0</td>\n      <td>183821.75</td>\n      <td>600000.0</td>\n    </tr>\n    <tr>\n      <th>Инженер</th>\n      <td>89.0</td>\n      <td>156185.393258</td>\n      <td>54204.420632</td>\n      <td>85000.0</td>\n      <td>120000.0</td>\n      <td>135000.0</td>\n      <td>200000.00</td>\n      <td>290900.0</td>\n    </tr>\n    <tr>\n      <th>Инженер-программист</th>\n      <td>87.0</td>\n      <td>124437.678161</td>\n      <td>76098.722494</td>\n      <td>17500.0</td>\n      <td>67500.0</td>\n      <td>105000.0</td>\n      <td>188504.00</td>\n      <td>300000.0</td>\n    </tr>\n    <tr>\n      <th>Программист</th>\n      <td>29.0</td>\n      <td>166174.206897</td>\n      <td>70064.775797</td>\n      <td>45000.0</td>\n      <td>107552.0</td>\n      <td>180000.0</td>\n      <td>225000.00</td>\n      <td>300000.0</td>\n    </tr>\n    <tr>\n      <th>Разработчик</th>\n      <td>70.0</td>\n      <td>137256.214286</td>\n      <td>63275.385376</td>\n      <td>20000.0</td>\n      <td>108125.0</td>\n      <td>125950.0</td>\n      <td>157500.00</td>\n      <td>400000.0</td>\n    </tr>\n    <tr>\n      <th>Разработчик Python</th>\n      <td>47.0</td>\n      <td>187472.340426</td>\n      <td>101651.774621</td>\n      <td>30000.0</td>\n      <td>110000.0</td>\n      <td>150000.0</td>\n      <td>250000.00</td>\n      <td>378170.0</td>\n    </tr>\n    <tr>\n      <th>Системный аналитик</th>\n      <td>9.0</td>\n      <td>183888.888889</td>\n      <td>105142.099613</td>\n      <td>50000.0</td>\n      <td>120000.0</td>\n      <td>170000.0</td>\n      <td>175000.00</td>\n      <td>400000.0</td>\n    </tr>\n    <tr>\n      <th>Специалист службы поддержки</th>\n      <td>285.0</td>\n      <td>15000.000000</td>\n      <td>0.000000</td>\n      <td>15000.0</td>\n      <td>15000.0</td>\n      <td>15000.0</td>\n      <td>15000.00</td>\n      <td>15000.0</td>\n    </tr>\n    <tr>\n      <th>Специалист технической поддержки</th>\n      <td>154.0</td>\n      <td>20929.870130</td>\n      <td>22138.146565</td>\n      <td>15000.0</td>\n      <td>15000.0</td>\n      <td>15000.0</td>\n      <td>15000.00</td>\n      <td>150000.0</td>\n    </tr>\n    <tr>\n      <th>Тимлид</th>\n      <td>9.0</td>\n      <td>339777.777778</td>\n      <td>81356.895494</td>\n      <td>205000.0</td>\n      <td>350000.0</td>\n      <td>360000.0</td>\n      <td>364000.00</td>\n      <td>425000.0</td>\n    </tr>\n  </tbody>\n</table>\n</div>"
     },
     "execution_count": 56,
     "metadata": {},
     "output_type": "execute_result"
    }
   ],
   "source": [
    "df_salary_category[['category_name', 'RUB']].groupby('category_name').describe()"
   ],
   "metadata": {
    "collapsed": false,
    "pycharm": {
     "name": "#%%\n"
    }
   }
  },
  {
   "cell_type": "code",
   "execution_count": 57,
   "outputs": [
    {
     "data": {
      "text/plain": "                                            RUB\ncategory_name                                  \nBackend разработчик               202010.000000\nC++                               122297.783784\nData Analyst                      215855.750000\nData Engineer                     283642.192308\nData Scientist                    230909.090909\nDevOps engineer                   298921.178571\nDeveloper                         190779.469880\nEngineer                          265901.150000\nGolang разработчик                178090.000000\nJava                              203669.230769\nPython developer                  220705.200000\nPython разработчик                184545.454545\nQA Automation Engineer            173807.052632\nQA engineer                       176319.545455\nАналитик                          130000.000000\nДругое                            136987.375000\nИнженер                           156185.393258\nИнженер-программист               124437.678161\nПрограммист                       166174.206897\nРазработчик                       137256.214286\nРазработчик Python                187472.340426\nСистемный аналитик                183888.888889\nСпециалист службы поддержки        15000.000000\nСпециалист технической поддержки   20929.870130\nТимлид                            339777.777778",
      "text/html": "<div>\n<style scoped>\n    .dataframe tbody tr th:only-of-type {\n        vertical-align: middle;\n    }\n\n    .dataframe tbody tr th {\n        vertical-align: top;\n    }\n\n    .dataframe thead th {\n        text-align: right;\n    }\n</style>\n<table border=\"1\" class=\"dataframe\">\n  <thead>\n    <tr style=\"text-align: right;\">\n      <th></th>\n      <th>RUB</th>\n    </tr>\n    <tr>\n      <th>category_name</th>\n      <th></th>\n    </tr>\n  </thead>\n  <tbody>\n    <tr>\n      <th>Backend разработчик</th>\n      <td>202010.000000</td>\n    </tr>\n    <tr>\n      <th>C++</th>\n      <td>122297.783784</td>\n    </tr>\n    <tr>\n      <th>Data Analyst</th>\n      <td>215855.750000</td>\n    </tr>\n    <tr>\n      <th>Data Engineer</th>\n      <td>283642.192308</td>\n    </tr>\n    <tr>\n      <th>Data Scientist</th>\n      <td>230909.090909</td>\n    </tr>\n    <tr>\n      <th>DevOps engineer</th>\n      <td>298921.178571</td>\n    </tr>\n    <tr>\n      <th>Developer</th>\n      <td>190779.469880</td>\n    </tr>\n    <tr>\n      <th>Engineer</th>\n      <td>265901.150000</td>\n    </tr>\n    <tr>\n      <th>Golang разработчик</th>\n      <td>178090.000000</td>\n    </tr>\n    <tr>\n      <th>Java</th>\n      <td>203669.230769</td>\n    </tr>\n    <tr>\n      <th>Python developer</th>\n      <td>220705.200000</td>\n    </tr>\n    <tr>\n      <th>Python разработчик</th>\n      <td>184545.454545</td>\n    </tr>\n    <tr>\n      <th>QA Automation Engineer</th>\n      <td>173807.052632</td>\n    </tr>\n    <tr>\n      <th>QA engineer</th>\n      <td>176319.545455</td>\n    </tr>\n    <tr>\n      <th>Аналитик</th>\n      <td>130000.000000</td>\n    </tr>\n    <tr>\n      <th>Другое</th>\n      <td>136987.375000</td>\n    </tr>\n    <tr>\n      <th>Инженер</th>\n      <td>156185.393258</td>\n    </tr>\n    <tr>\n      <th>Инженер-программист</th>\n      <td>124437.678161</td>\n    </tr>\n    <tr>\n      <th>Программист</th>\n      <td>166174.206897</td>\n    </tr>\n    <tr>\n      <th>Разработчик</th>\n      <td>137256.214286</td>\n    </tr>\n    <tr>\n      <th>Разработчик Python</th>\n      <td>187472.340426</td>\n    </tr>\n    <tr>\n      <th>Системный аналитик</th>\n      <td>183888.888889</td>\n    </tr>\n    <tr>\n      <th>Специалист службы поддержки</th>\n      <td>15000.000000</td>\n    </tr>\n    <tr>\n      <th>Специалист технической поддержки</th>\n      <td>20929.870130</td>\n    </tr>\n    <tr>\n      <th>Тимлид</th>\n      <td>339777.777778</td>\n    </tr>\n  </tbody>\n</table>\n</div>"
     },
     "execution_count": 57,
     "metadata": {},
     "output_type": "execute_result"
    }
   ],
   "source": [
    "df_salary_category_mean = pd.pivot_table(df_salary_category[['category_name', 'RUB']], index=['category_name'])\n",
    "df_salary_category_mean"
   ],
   "metadata": {
    "collapsed": false,
    "pycharm": {
     "name": "#%%\n"
    }
   }
  },
  {
   "cell_type": "code",
   "execution_count": 58,
   "outputs": [
    {
     "data": {
      "text/plain": "                                    median\n                                       RUB\ncategory_name                             \nBackend разработчик               200000.0\nC++                               103900.0\nData Analyst                      200000.0\nData Engineer                     336000.0\nData Scientist                    170000.0\nDevOps engineer                   280000.0\nDeveloper                         170000.0\nEngineer                          239992.5\nGolang разработчик                196000.0\nJava                              190000.0\nPython developer                  232720.0\nPython разработчик                155000.0\nQA Automation Engineer            140000.0\nQA engineer                       174540.0\nАналитик                          120000.0\nДругое                            125000.0\nИнженер                           135000.0\nИнженер-программист               105000.0\nПрограммист                       180000.0\nРазработчик                       125950.0\nРазработчик Python                150000.0\nСистемный аналитик                170000.0\nСпециалист службы поддержки        15000.0\nСпециалист технической поддержки   15000.0\nТимлид                            360000.0",
      "text/html": "<div>\n<style scoped>\n    .dataframe tbody tr th:only-of-type {\n        vertical-align: middle;\n    }\n\n    .dataframe tbody tr th {\n        vertical-align: top;\n    }\n\n    .dataframe thead tr th {\n        text-align: left;\n    }\n\n    .dataframe thead tr:last-of-type th {\n        text-align: right;\n    }\n</style>\n<table border=\"1\" class=\"dataframe\">\n  <thead>\n    <tr>\n      <th></th>\n      <th>median</th>\n    </tr>\n    <tr>\n      <th></th>\n      <th>RUB</th>\n    </tr>\n    <tr>\n      <th>category_name</th>\n      <th></th>\n    </tr>\n  </thead>\n  <tbody>\n    <tr>\n      <th>Backend разработчик</th>\n      <td>200000.0</td>\n    </tr>\n    <tr>\n      <th>C++</th>\n      <td>103900.0</td>\n    </tr>\n    <tr>\n      <th>Data Analyst</th>\n      <td>200000.0</td>\n    </tr>\n    <tr>\n      <th>Data Engineer</th>\n      <td>336000.0</td>\n    </tr>\n    <tr>\n      <th>Data Scientist</th>\n      <td>170000.0</td>\n    </tr>\n    <tr>\n      <th>DevOps engineer</th>\n      <td>280000.0</td>\n    </tr>\n    <tr>\n      <th>Developer</th>\n      <td>170000.0</td>\n    </tr>\n    <tr>\n      <th>Engineer</th>\n      <td>239992.5</td>\n    </tr>\n    <tr>\n      <th>Golang разработчик</th>\n      <td>196000.0</td>\n    </tr>\n    <tr>\n      <th>Java</th>\n      <td>190000.0</td>\n    </tr>\n    <tr>\n      <th>Python developer</th>\n      <td>232720.0</td>\n    </tr>\n    <tr>\n      <th>Python разработчик</th>\n      <td>155000.0</td>\n    </tr>\n    <tr>\n      <th>QA Automation Engineer</th>\n      <td>140000.0</td>\n    </tr>\n    <tr>\n      <th>QA engineer</th>\n      <td>174540.0</td>\n    </tr>\n    <tr>\n      <th>Аналитик</th>\n      <td>120000.0</td>\n    </tr>\n    <tr>\n      <th>Другое</th>\n      <td>125000.0</td>\n    </tr>\n    <tr>\n      <th>Инженер</th>\n      <td>135000.0</td>\n    </tr>\n    <tr>\n      <th>Инженер-программист</th>\n      <td>105000.0</td>\n    </tr>\n    <tr>\n      <th>Программист</th>\n      <td>180000.0</td>\n    </tr>\n    <tr>\n      <th>Разработчик</th>\n      <td>125950.0</td>\n    </tr>\n    <tr>\n      <th>Разработчик Python</th>\n      <td>150000.0</td>\n    </tr>\n    <tr>\n      <th>Системный аналитик</th>\n      <td>170000.0</td>\n    </tr>\n    <tr>\n      <th>Специалист службы поддержки</th>\n      <td>15000.0</td>\n    </tr>\n    <tr>\n      <th>Специалист технической поддержки</th>\n      <td>15000.0</td>\n    </tr>\n    <tr>\n      <th>Тимлид</th>\n      <td>360000.0</td>\n    </tr>\n  </tbody>\n</table>\n</div>"
     },
     "execution_count": 58,
     "metadata": {},
     "output_type": "execute_result"
    }
   ],
   "source": [
    "df_salary_category_median = pd.pivot_table(df_salary_category[['category_name', 'RUB']], index=['category_name'], aggfunc=[np.median])\n",
    "df_salary_category_median"
   ],
   "metadata": {
    "collapsed": false,
    "pycharm": {
     "name": "#%%\n"
    }
   }
  },
  {
   "cell_type": "code",
   "execution_count": 59,
   "outputs": [
    {
     "name": "stderr",
     "output_type": "stream",
     "text": [
      "C:\\Users\\litvinov_ny\\AppData\\Local\\Temp\\ipykernel_11300\\3081404117.py:1: FutureWarning: merging between different levels is deprecated and will be removed in a future version. (1 levels on the left, 2 on the right)\n",
      "  df_salary_category_mean_median = pd.merge(df_salary_category_mean, df_salary_category_median, left_index=True,right_index=True )\n"
     ]
    },
    {
     "data": {
      "text/plain": "                                            RUB  (median, RUB)\ncategory_name                                                 \nBackend разработчик               202010.000000       200000.0\nC++                               122297.783784       103900.0\nData Analyst                      215855.750000       200000.0\nData Engineer                     283642.192308       336000.0\nData Scientist                    230909.090909       170000.0\nDevOps engineer                   298921.178571       280000.0\nDeveloper                         190779.469880       170000.0\nEngineer                          265901.150000       239992.5\nGolang разработчик                178090.000000       196000.0\nJava                              203669.230769       190000.0\nPython developer                  220705.200000       232720.0\nPython разработчик                184545.454545       155000.0\nQA Automation Engineer            173807.052632       140000.0\nQA engineer                       176319.545455       174540.0\nАналитик                          130000.000000       120000.0\nДругое                            136987.375000       125000.0\nИнженер                           156185.393258       135000.0\nИнженер-программист               124437.678161       105000.0\nПрограммист                       166174.206897       180000.0\nРазработчик                       137256.214286       125950.0\nРазработчик Python                187472.340426       150000.0\nСистемный аналитик                183888.888889       170000.0\nСпециалист службы поддержки        15000.000000        15000.0\nСпециалист технической поддержки   20929.870130        15000.0\nТимлид                            339777.777778       360000.0",
      "text/html": "<div>\n<style scoped>\n    .dataframe tbody tr th:only-of-type {\n        vertical-align: middle;\n    }\n\n    .dataframe tbody tr th {\n        vertical-align: top;\n    }\n\n    .dataframe thead th {\n        text-align: right;\n    }\n</style>\n<table border=\"1\" class=\"dataframe\">\n  <thead>\n    <tr style=\"text-align: right;\">\n      <th></th>\n      <th>RUB</th>\n      <th>(median, RUB)</th>\n    </tr>\n    <tr>\n      <th>category_name</th>\n      <th></th>\n      <th></th>\n    </tr>\n  </thead>\n  <tbody>\n    <tr>\n      <th>Backend разработчик</th>\n      <td>202010.000000</td>\n      <td>200000.0</td>\n    </tr>\n    <tr>\n      <th>C++</th>\n      <td>122297.783784</td>\n      <td>103900.0</td>\n    </tr>\n    <tr>\n      <th>Data Analyst</th>\n      <td>215855.750000</td>\n      <td>200000.0</td>\n    </tr>\n    <tr>\n      <th>Data Engineer</th>\n      <td>283642.192308</td>\n      <td>336000.0</td>\n    </tr>\n    <tr>\n      <th>Data Scientist</th>\n      <td>230909.090909</td>\n      <td>170000.0</td>\n    </tr>\n    <tr>\n      <th>DevOps engineer</th>\n      <td>298921.178571</td>\n      <td>280000.0</td>\n    </tr>\n    <tr>\n      <th>Developer</th>\n      <td>190779.469880</td>\n      <td>170000.0</td>\n    </tr>\n    <tr>\n      <th>Engineer</th>\n      <td>265901.150000</td>\n      <td>239992.5</td>\n    </tr>\n    <tr>\n      <th>Golang разработчик</th>\n      <td>178090.000000</td>\n      <td>196000.0</td>\n    </tr>\n    <tr>\n      <th>Java</th>\n      <td>203669.230769</td>\n      <td>190000.0</td>\n    </tr>\n    <tr>\n      <th>Python developer</th>\n      <td>220705.200000</td>\n      <td>232720.0</td>\n    </tr>\n    <tr>\n      <th>Python разработчик</th>\n      <td>184545.454545</td>\n      <td>155000.0</td>\n    </tr>\n    <tr>\n      <th>QA Automation Engineer</th>\n      <td>173807.052632</td>\n      <td>140000.0</td>\n    </tr>\n    <tr>\n      <th>QA engineer</th>\n      <td>176319.545455</td>\n      <td>174540.0</td>\n    </tr>\n    <tr>\n      <th>Аналитик</th>\n      <td>130000.000000</td>\n      <td>120000.0</td>\n    </tr>\n    <tr>\n      <th>Другое</th>\n      <td>136987.375000</td>\n      <td>125000.0</td>\n    </tr>\n    <tr>\n      <th>Инженер</th>\n      <td>156185.393258</td>\n      <td>135000.0</td>\n    </tr>\n    <tr>\n      <th>Инженер-программист</th>\n      <td>124437.678161</td>\n      <td>105000.0</td>\n    </tr>\n    <tr>\n      <th>Программист</th>\n      <td>166174.206897</td>\n      <td>180000.0</td>\n    </tr>\n    <tr>\n      <th>Разработчик</th>\n      <td>137256.214286</td>\n      <td>125950.0</td>\n    </tr>\n    <tr>\n      <th>Разработчик Python</th>\n      <td>187472.340426</td>\n      <td>150000.0</td>\n    </tr>\n    <tr>\n      <th>Системный аналитик</th>\n      <td>183888.888889</td>\n      <td>170000.0</td>\n    </tr>\n    <tr>\n      <th>Специалист службы поддержки</th>\n      <td>15000.000000</td>\n      <td>15000.0</td>\n    </tr>\n    <tr>\n      <th>Специалист технической поддержки</th>\n      <td>20929.870130</td>\n      <td>15000.0</td>\n    </tr>\n    <tr>\n      <th>Тимлид</th>\n      <td>339777.777778</td>\n      <td>360000.0</td>\n    </tr>\n  </tbody>\n</table>\n</div>"
     },
     "execution_count": 59,
     "metadata": {},
     "output_type": "execute_result"
    }
   ],
   "source": [
    "df_salary_category_mean_median = pd.merge(df_salary_category_mean, df_salary_category_median, left_index=True,right_index=True )\n",
    "df_salary_category_mean_median"
   ],
   "metadata": {
    "collapsed": false,
    "pycharm": {
     "name": "#%%\n"
    }
   }
  },
  {
   "cell_type": "markdown",
   "source": [
    "### Какая средняя и медианная зарплата по каждому региону?"
   ],
   "metadata": {
    "collapsed": false,
    "pycharm": {
     "name": "#%% md\n"
    }
   }
  },
  {
   "cell_type": "code",
   "execution_count": 60,
   "outputs": [
    {
     "data": {
      "text/plain": "                                               title work experience  \\\n0              Backend разработчик со знанием Python   От 3 до 6 лет   \n1              Backend разработчик со знанием Python   От 3 до 6 лет   \n2              Backend разработчик со знанием Python   От 3 до 6 лет   \n3                                Backend разработчик   От 3 до 6 лет   \n4              Backend разработчик со знанием Python   От 3 до 6 лет   \n5                Senior Data Scientist / ML Engineer   От 3 до 6 лет   \n6  Разработчик Solidity/Разработчик Rust/Разработ...   От 3 до 6 лет   \n7                                 Программист Python   От 3 до 6 лет   \n8                   Python-разработчик (Django, DRF)   От 3 до 6 лет   \n9                          Python developer (Middle)   От 3 до 6 лет   \n\n                   salary           region  category        category_name  \n0       2 500 – 3 000 USD           Алматы        14  Backend разработчик  \n1       2 500 – 3 000 USD             Баку        14  Backend разработчик  \n2       2 500 – 3 000 USD           Бишкек        14  Backend разработчик  \n3       2 500 – 3 000 USD            Минск        14  Backend разработчик  \n4       2 500 – 3 000 USD          Ташкент        14  Backend разработчик  \n5                    None           Москва        17       Data Scientist  \n6         от 600 000 руб.           Москва         4               Другое  \n7   80 000 – 220 000 руб.           Москва        19          Программист  \n8   60 000 – 150 000 руб.           Москва         8   Python разработчик  \n9  300 000 – 360 000 руб.  Санкт-Петербург         3     Python developer  ",
      "text/html": "<div>\n<style scoped>\n    .dataframe tbody tr th:only-of-type {\n        vertical-align: middle;\n    }\n\n    .dataframe tbody tr th {\n        vertical-align: top;\n    }\n\n    .dataframe thead th {\n        text-align: right;\n    }\n</style>\n<table border=\"1\" class=\"dataframe\">\n  <thead>\n    <tr style=\"text-align: right;\">\n      <th></th>\n      <th>title</th>\n      <th>work experience</th>\n      <th>salary</th>\n      <th>region</th>\n      <th>category</th>\n      <th>category_name</th>\n    </tr>\n  </thead>\n  <tbody>\n    <tr>\n      <th>0</th>\n      <td>Backend разработчик со знанием Python</td>\n      <td>От 3 до 6 лет</td>\n      <td>2 500 – 3 000 USD</td>\n      <td>Алматы</td>\n      <td>14</td>\n      <td>Backend разработчик</td>\n    </tr>\n    <tr>\n      <th>1</th>\n      <td>Backend разработчик со знанием Python</td>\n      <td>От 3 до 6 лет</td>\n      <td>2 500 – 3 000 USD</td>\n      <td>Баку</td>\n      <td>14</td>\n      <td>Backend разработчик</td>\n    </tr>\n    <tr>\n      <th>2</th>\n      <td>Backend разработчик со знанием Python</td>\n      <td>От 3 до 6 лет</td>\n      <td>2 500 – 3 000 USD</td>\n      <td>Бишкек</td>\n      <td>14</td>\n      <td>Backend разработчик</td>\n    </tr>\n    <tr>\n      <th>3</th>\n      <td>Backend разработчик</td>\n      <td>От 3 до 6 лет</td>\n      <td>2 500 – 3 000 USD</td>\n      <td>Минск</td>\n      <td>14</td>\n      <td>Backend разработчик</td>\n    </tr>\n    <tr>\n      <th>4</th>\n      <td>Backend разработчик со знанием Python</td>\n      <td>От 3 до 6 лет</td>\n      <td>2 500 – 3 000 USD</td>\n      <td>Ташкент</td>\n      <td>14</td>\n      <td>Backend разработчик</td>\n    </tr>\n    <tr>\n      <th>5</th>\n      <td>Senior Data Scientist / ML Engineer</td>\n      <td>От 3 до 6 лет</td>\n      <td>None</td>\n      <td>Москва</td>\n      <td>17</td>\n      <td>Data Scientist</td>\n    </tr>\n    <tr>\n      <th>6</th>\n      <td>Разработчик Solidity/Разработчик Rust/Разработ...</td>\n      <td>От 3 до 6 лет</td>\n      <td>от 600 000 руб.</td>\n      <td>Москва</td>\n      <td>4</td>\n      <td>Другое</td>\n    </tr>\n    <tr>\n      <th>7</th>\n      <td>Программист Python</td>\n      <td>От 3 до 6 лет</td>\n      <td>80 000 – 220 000 руб.</td>\n      <td>Москва</td>\n      <td>19</td>\n      <td>Программист</td>\n    </tr>\n    <tr>\n      <th>8</th>\n      <td>Python-разработчик (Django, DRF)</td>\n      <td>От 3 до 6 лет</td>\n      <td>60 000 – 150 000 руб.</td>\n      <td>Москва</td>\n      <td>8</td>\n      <td>Python разработчик</td>\n    </tr>\n    <tr>\n      <th>9</th>\n      <td>Python developer (Middle)</td>\n      <td>От 3 до 6 лет</td>\n      <td>300 000 – 360 000 руб.</td>\n      <td>Санкт-Петербург</td>\n      <td>3</td>\n      <td>Python developer</td>\n    </tr>\n  </tbody>\n</table>\n</div>"
     },
     "execution_count": 60,
     "metadata": {},
     "output_type": "execute_result"
    }
   ],
   "source": [
    "df.head(10)"
   ],
   "metadata": {
    "collapsed": false,
    "pycharm": {
     "name": "#%%\n"
    }
   }
  },
  {
   "cell_type": "code",
   "execution_count": 61,
   "outputs": [
    {
     "data": {
      "text/plain": "array(['2 500 – 3 000 USD', None, 'от 600 000 руб.',\n       '80 000 – 220 000 руб.', '60 000 – 150 000 руб.',\n       '300 000 – 360 000 руб.', '120 000 – 190 000 руб.',\n       '300 000 – 500 000 руб.', '360 000 – 480 000 руб.',\n       '150 000 – 150 000 руб.', 'до 300 000 руб.', 'до 200 000 руб.',\n       'от 110 000 руб.', '200 000 – 350 000 руб.', 'от 150 000 руб.',\n       '280 000 – 340 000 руб.', 'от 3 500 USD', '150 000 – 200 000 руб.',\n       '220 000 – 340 000 руб.', '200 000 – 300 000 руб.',\n       '180 000 – 250 000 руб.', 'до 400 000 руб.', 'от 200 000 руб.',\n       '3 000 – 5 000 USD', '200 000 – 400 000 руб.', '5 000 – 7 000 EUR',\n       '100 000 – 250 000 руб.', '2 500 – 3 500 USD', 'до 250 000 руб.',\n       '220 000 – 300 000 руб.', 'от 225 000 руб.', 'до 7 000 USD',\n       'до 4 000 USD', 'до 220 000 руб.', 'до 6 000 USD',\n       'от 250 000 руб.', '40 000 – 80 000 руб.', 'до 50 000 000 сум',\n       'от 180 000 руб.', '4 000 – 5 700 EUR', 'от 140 000 руб.',\n       'от 120 000 руб.', '180 000 – 280 000 руб.',\n       '90 000 – 150 000 руб.', '400 000 – 900 000 KZT',\n       '400 000 – 450 000 руб.', '140 000 – 180 000 руб.',\n       '1 500 – 3 500 EUR', '210 000 – 300 000 руб.', 'от 170 000 руб.',\n       '140 000 – 200 000 руб.', 'до 350 000 руб.', 'до 240 500 руб.',\n       '130 000 – 180 000 руб.', '4 000 – 4 000 USD',\n       '231 000 – 380 000 руб.', 'от 2 500 USD', '60 000 – 120 000 руб.',\n       '5 000 – 5 500 USD', '4 000 – 4 500 EUR', '70 000 – 110 000 руб.',\n       '180 000 – 280 000 KZT', '80 000 – 120 000 руб.', 'от 6 500 USD',\n       '150 000 – 250 000 руб.', '2 000 – 4 000 USD',\n       '150 000 – 210 000 руб.', 'от 300 000 руб.', 'от 240 000 руб.',\n       'от 600 000 KZT', '190 000 – 250 000 руб.',\n       '200 000 – 210 000 руб.', 'до 183 429 руб.', 'от 230 000 руб.',\n       'от 80 000 руб.', '180 000 – 300 000 руб.',\n       '250 000 – 300 000 руб.', 'от 50 000 руб.', 'от 330 000 руб.',\n       '4 500 – 6 000 EUR', '2 500 – 4 500 USD', '80 000 – 200 000 руб.',\n       '120 000 – 220 000 руб.', '500 000 – 800 000 KZT',\n       'от 60 000 руб.', '2 500 – 5 000 USD', '800 – 1 500 USD',\n       'от 100 000 руб.', '400 000 – 700 000 руб.',\n       '70 000 – 120 000 руб.', '5 000 – 8 500 EUR', 'до 5 500 USD',\n       '180 000 – 230 000 руб.', '80 000 – 160 000 руб.',\n       'от 400 000 руб.', '300 000 – 350 000 руб.', 'от 1 200 000 KZT',\n       'от 5 000 USD', 'до 330 000 руб.', 'от 3 000 EUR',\n       '150 000 – 180 000 руб.', '300 000 – 450 000 руб.',\n       '150 000 – 230 000 руб.', '180 000 – 220 000 руб.',\n       '270 000 – 300 000 руб.', '100 000 – 130 000 руб.', 'до 5 000 USD',\n       'до 170 000 руб.', '2 000 – 3 500 USD', 'от 380 000 руб.',\n       '100 000 – 100 000 руб.', 'от 360 000 руб.', '4 500 – 6 000 USD',\n       '2 000 – 4 500 EUR', 'от 4 000 EUR', 'от 90 000 руб.',\n       'от 190 000 руб.', 'от 3 000 USD', '78 000 – 78 000 руб.',\n       'от 5 000 EUR', '70 000 – 150 000 руб.', '138 000 – 160 000 руб.',\n       '80 000 – 190 000 руб.', '80 000 – 150 000 руб.',\n       '75 000 – 140 000 руб.', '250 000 – 300 000 KZT',\n       '100 000 – 170 000 руб.', 'от 4 500 EUR', '300 000 – 380 000 руб.',\n       'до 110 000 руб.', 'от 8 000 USD', '80 000 – 100 000 руб.',\n       '120 000 – 180 000 руб.', '220 000 – 250 000 руб.',\n       '4 000 – 5 000 EUR', '60 000 – 70 000 руб.',\n       '100 000 – 150 000 руб.', '230 000 – 380 000 руб.',\n       'от 85 000 руб.', '150 000 – 300 000 руб.', 'до 150 000 руб.',\n       '4 900 – 6 000 EUR', '150 000 – 170 000 руб.',\n       '150 000 – 221 000 руб.', '800 000 – 1 350 000 KZT',\n       '35 000 – 60 000 руб.', '120 000 – 250 000 руб.', 'от 2 000 USD',\n       '200 000 – 260 000 руб.', '6 000 – 9 000 USD',\n       '76 967 – 76 967 руб.', 'от 350 000 руб.', 'от 5 500 EUR',\n       '90 000 – 130 000 руб.', 'от 4 000 USD', 'от 130 000 руб.',\n       '150 000 – 220 000 руб.', '160 000 – 230 000 руб.',\n       'до 140 000 руб.', '3 000 – 4 500 USD', '90 000 – 120 000 руб.',\n       '200 000 – 250 000 руб.', 'до 4 800 USD', '250 000 – 350 000 руб.',\n       'от 38 000 руб.', 'до 4 900 EUR', '160 000 – 300 000 руб.',\n       '355 000 – 520 000 руб.', '70 000 – 100 000 руб.',\n       '125 000 – 225 000 руб.', 'до 420 000 руб.',\n       '290 000 – 360 000 руб.', '20 000 – 250 000 руб.',\n       'до 240 000 руб.', '2 500 – 4 000 USD', 'от 3 500 EUR',\n       '100 000 – 200 000 руб.', '1 000 – 2 000 USD',\n       '60 000 – 100 000 руб.', 'от 70 000 руб.', '50 000 – 80 000 руб.',\n       '100 000 – 120 000 руб.', '100 000 – 400 000 руб.',\n       '250 000 – 330 000 руб.', '40 000 – 50 000 руб.',\n       '130 000 – 250 000 руб.', '70 000 – 90 000 руб.',\n       'от 135 000 руб.', '105 – 215 000 руб.', 'от 160 000 руб.',\n       '160 000 – 210 000 руб.', '100 000 – 190 000 руб.',\n       '600 000 – 750 000 KZT', 'от 40 000 руб.', 'до 80 000 руб.',\n       '180 000 – 210 000 руб.', 'до 100 000 руб.',\n       '50 000 – 70 000 руб.', '210 000 – 230 000 руб.',\n       '30 000 – 120 000 руб.', '160 000 – 240 000 руб.',\n       '45 000 – 120 000 руб.', '125 000 – 243 000 руб.',\n       '300 000 – 600 000 KZT', '2 000 – 3 200 USD',\n       '135 000 – 135 000 руб.', '250 000 – 400 000 KZT', 'от 1 500 USD',\n       '30 000 – 60 000 руб.', '55 000 – 200 000 руб.', 'от 200 000 KZT',\n       'до 1 000 000 KZT', '125 000 – 220 000 руб.',\n       '120 000 – 240 000 руб.', '120 000 – 150 000 руб.',\n       '1 500 – 4 000 USD', '150 000 – 500 000 KZT',\n       '60 000 – 140 000 руб.', 'от 127 500 руб.', '35 000 – 65 000 руб.',\n       '30 000 – 80 000 руб.', '45 000 – 50 000 руб.',\n       '115 000 – 220 000 руб.', '15 000 – 20 000 руб.',\n       'до 120 000 руб.', '3 000 – 4 000 EUR', '50 000 – 75 000 руб.',\n       'от 75 000 руб.', '80 000 – 110 000 руб.',\n       '3 500 – 6 000 бел.\\xa0руб.', '3 500 – 5 500 USD',\n       '4 000 – 6 000 USD', 'от 210 000 руб.', '60 000 – 200 000 руб.',\n       '70 000 – 140 000 руб.', '40 000 – 100 000 руб.',\n       '50 000 – 200 000 руб.', 'до 280 000 руб.', 'от 30 000 руб.',\n       '100 000 – 140 000 руб.', '40 000 – 70 000 руб.',\n       '25 000 – 55 000 руб.', '20 000 – 40 000 руб.', 'до 70 000 руб.',\n       '400 000 – 700 000 KZT', '40 000 – 120 000 руб.',\n       '300 000 – 550 000 KZT', 'от 56 000 руб.', '45 000 – 70 000 руб.',\n       'до 3 000 USD', '53 000 – 75 000 руб.', 'от 65 000 руб.',\n       'до 90 000 руб.', '90 000 – 117 800 руб.', 'от 53 700 руб.',\n       '40 000 – 60 000 руб.', '30 000 – 45 000 руб.',\n       '40 000 – 90 000 руб.', '900 000 – 1 200 000 KZT',\n       'до 235 000 руб.', '138 000 – 138 000 руб.',\n       '100 000 – 215 000 руб.', '50 000 – 65 000 руб.',\n       '159 471 – 224 546 руб.', '1 700 – 2 300 EUR',\n       '850 000 – 1 150 000 KZT', 'до 39 800 руб.',\n       '75 000 – 100 000 руб.', '150 000 – 190 000 руб.',\n       '120 000 – 120 000 руб.', '24 000 – 50 000 руб.',\n       'до 190 000 руб.', '120 000 – 200 000 руб.',\n       '53 600 – 53 600 руб.', 'от 175 000 руб.',\n       '100 000 – 160 000 руб.', 'от 2 500 EUR', 'до 2 000 USD',\n       '1 000 – 3 000 USD', '2 000 – 5 000 USD', '105 000 – 215 000 руб.',\n       'до 160 000 руб.', '24 000 – 56 000 руб.', '45 000 – 90 000 руб.',\n       '2 000 – 3 000 EUR', '90 000 – 110 000 руб.',\n       '30 000 – 40 000 руб.', '65 000 – 200 000 руб.',\n       '46 000 – 92 000 руб.', '100 000 – 220 000 руб.', 'от 45 000 руб.',\n       '50 000 – 60 000 руб.', '3 000 – 4 000 USD', 'от 125 000 руб.',\n       'от 95 000 руб.', '160 000 – 200 000 руб.', 'от 105 135 руб.',\n       '47 000 – 112 000 руб.', '120 000 – 160 000 руб.',\n       'от 35 000 руб.', '80 000 – 180 000 руб.', '30 000 – 50 000 руб.',\n       'от 57 500 руб.', 'до 95 000 руб.', '60 000 – 60 000 руб.',\n       '20 000 – 20 000 руб.', '150 000 – 250 000 KZT',\n       '230 000 – 260 000 KZT', 'от 1 000 бел.\\xa0руб.',\n       'от 2 000 бел.\\xa0руб.', '30 000 – 90 000 руб.', 'до 10 000 EUR',\n       '60 000 – 80 000 руб.', '55 000 – 75 000 руб.',\n       '18 000 – 36 000 руб.', 'от 15 000 руб.', 'до 60 000 руб.',\n       'от 37 000 руб.', '45 000 – 60 000 руб.', '25 000 – 70 000 руб.',\n       '140 000 – 170 000 руб.', '30 000 – 70 000 руб.',\n       '25 000 – 40 000 руб.', '44 000 – 54 000 руб.', 'от 183 000 KZT',\n       '24 000 – 64 000 руб.', '50 000 – 130 000 руб.',\n       '25 000 – 50 000 руб.', 'до 45 000 руб.', '15 000 – 25 000 руб.',\n       'от 25 000 руб.', 'от 10 000 руб.', '31 500 – 31 500 руб.',\n       'от 28 000 руб.', 'от 24 400 руб.', '25 000 – 45 000 руб.',\n       'от 24 000 руб.', '15 000 – 65 000 руб.', '150 000 – 150 000 KZT',\n       'от 6 000 USD', '300 000 – 400 000 руб.', '7 000 – 9 000 USD',\n       '250 000 – 270 000 руб.', '30 000 – 100 000 руб.',\n       'от 1 500 000 KZT', 'от 7 000 USD', '5 000 – 6 000 USD',\n       '5 500 – 8 000 USD', '5 000 – 9 000 USD', '6 500 – 8 500 USD',\n       '5 000 – 7 500 EUR', '140 000 – 220 000 руб.',\n       '6 600 – 7 900 руб.', '5 000 – 6 500 USD', 'от 9 500 USD',\n       '3 100 – 5 165 EUR', '4 000 – 4 500 USD', '6 000 – 7 000 EUR',\n       'от 1 000 USD', 'от 250 000 KZT', 'от 3 300 USD',\n       '3 700 – 4 700 USD', '3 000 – 5 500 USD'], dtype=object)"
     },
     "execution_count": 61,
     "metadata": {},
     "output_type": "execute_result"
    }
   ],
   "source": [
    "df.salary.unique()"
   ],
   "metadata": {
    "collapsed": false,
    "pycharm": {
     "name": "#%%\n"
    }
   }
  },
  {
   "cell_type": "code",
   "execution_count": 62,
   "outputs": [
    {
     "data": {
      "text/plain": "3064"
     },
     "execution_count": 62,
     "metadata": {},
     "output_type": "execute_result"
    }
   ],
   "source": [
    "df['salary'].isnull().sum()"
   ],
   "metadata": {
    "collapsed": false,
    "pycharm": {
     "name": "#%%\n"
    }
   }
  },
  {
   "cell_type": "code",
   "execution_count": 63,
   "outputs": [
    {
     "data": {
      "text/plain": "                                                  title work experience  \\\n0                 Backend разработчик со знанием Python   От 3 до 6 лет   \n1                 Backend разработчик со знанием Python   От 3 до 6 лет   \n2                 Backend разработчик со знанием Python   От 3 до 6 лет   \n3                                   Backend разработчик   От 3 до 6 лет   \n4                 Backend разработчик со знанием Python   От 3 до 6 лет   \n...                                                 ...             ...   \n4695               Senior System Engineer (Admins Team)     Более 6 лет   \n4696               Senior System Engineer (Admins Team)     Более 6 лет   \n4697                                    DevOps Engineer     Более 6 лет   \n4698  Senior/Lead Software Engineer (.NET), Relocati...     Более 6 лет   \n4699                    Risk Assurance Services Manager     Более 6 лет   \n\n                 salary   region  category        category_name  from_RUB  \\\n0     2 500 – 3 000 USD   Алматы        14  Backend разработчик  145450.0   \n1     2 500 – 3 000 USD     Баку        14  Backend разработчик  145450.0   \n2     2 500 – 3 000 USD   Бишкек        14  Backend разработчик  145450.0   \n3     2 500 – 3 000 USD    Минск        14  Backend разработчик  145450.0   \n4     2 500 – 3 000 USD  Ташкент        14  Backend разработчик  145450.0   \n...                 ...      ...       ...                  ...       ...   \n4695       от 3 300 USD    Чехия        11             Engineer  191994.0   \n4696       от 3 300 USD  Армения        11             Engineer  191994.0   \n4697  3 700 – 4 700 USD    Минск        15      DevOps engineer  215266.0   \n4698  3 000 – 5 500 USD  Армения        11             Engineer  174540.0   \n4699               None  Ташкент         4               Другое       NaN   \n\n        to_RUB  from_local_cur  to_local_cur       RUB  \n0     174540.0          2500.0        3000.0  159995.0  \n1     174540.0          2500.0        3000.0  159995.0  \n2     174540.0          2500.0        3000.0  159995.0  \n3     174540.0          2500.0        3000.0  159995.0  \n4     174540.0          2500.0        3000.0  159995.0  \n...        ...             ...           ...       ...  \n4695  191994.0          3300.0        3300.0  191994.0  \n4696  191994.0          3300.0        3300.0  191994.0  \n4697  273446.0          3700.0        4700.0  244356.0  \n4698  319990.0          3000.0        5500.0  247265.0  \n4699       NaN             NaN           NaN       NaN  \n\n[4700 rows x 11 columns]",
      "text/html": "<div>\n<style scoped>\n    .dataframe tbody tr th:only-of-type {\n        vertical-align: middle;\n    }\n\n    .dataframe tbody tr th {\n        vertical-align: top;\n    }\n\n    .dataframe thead th {\n        text-align: right;\n    }\n</style>\n<table border=\"1\" class=\"dataframe\">\n  <thead>\n    <tr style=\"text-align: right;\">\n      <th></th>\n      <th>title</th>\n      <th>work experience</th>\n      <th>salary</th>\n      <th>region</th>\n      <th>category</th>\n      <th>category_name</th>\n      <th>from_RUB</th>\n      <th>to_RUB</th>\n      <th>from_local_cur</th>\n      <th>to_local_cur</th>\n      <th>RUB</th>\n    </tr>\n  </thead>\n  <tbody>\n    <tr>\n      <th>0</th>\n      <td>Backend разработчик со знанием Python</td>\n      <td>От 3 до 6 лет</td>\n      <td>2 500 – 3 000 USD</td>\n      <td>Алматы</td>\n      <td>14</td>\n      <td>Backend разработчик</td>\n      <td>145450.0</td>\n      <td>174540.0</td>\n      <td>2500.0</td>\n      <td>3000.0</td>\n      <td>159995.0</td>\n    </tr>\n    <tr>\n      <th>1</th>\n      <td>Backend разработчик со знанием Python</td>\n      <td>От 3 до 6 лет</td>\n      <td>2 500 – 3 000 USD</td>\n      <td>Баку</td>\n      <td>14</td>\n      <td>Backend разработчик</td>\n      <td>145450.0</td>\n      <td>174540.0</td>\n      <td>2500.0</td>\n      <td>3000.0</td>\n      <td>159995.0</td>\n    </tr>\n    <tr>\n      <th>2</th>\n      <td>Backend разработчик со знанием Python</td>\n      <td>От 3 до 6 лет</td>\n      <td>2 500 – 3 000 USD</td>\n      <td>Бишкек</td>\n      <td>14</td>\n      <td>Backend разработчик</td>\n      <td>145450.0</td>\n      <td>174540.0</td>\n      <td>2500.0</td>\n      <td>3000.0</td>\n      <td>159995.0</td>\n    </tr>\n    <tr>\n      <th>3</th>\n      <td>Backend разработчик</td>\n      <td>От 3 до 6 лет</td>\n      <td>2 500 – 3 000 USD</td>\n      <td>Минск</td>\n      <td>14</td>\n      <td>Backend разработчик</td>\n      <td>145450.0</td>\n      <td>174540.0</td>\n      <td>2500.0</td>\n      <td>3000.0</td>\n      <td>159995.0</td>\n    </tr>\n    <tr>\n      <th>4</th>\n      <td>Backend разработчик со знанием Python</td>\n      <td>От 3 до 6 лет</td>\n      <td>2 500 – 3 000 USD</td>\n      <td>Ташкент</td>\n      <td>14</td>\n      <td>Backend разработчик</td>\n      <td>145450.0</td>\n      <td>174540.0</td>\n      <td>2500.0</td>\n      <td>3000.0</td>\n      <td>159995.0</td>\n    </tr>\n    <tr>\n      <th>...</th>\n      <td>...</td>\n      <td>...</td>\n      <td>...</td>\n      <td>...</td>\n      <td>...</td>\n      <td>...</td>\n      <td>...</td>\n      <td>...</td>\n      <td>...</td>\n      <td>...</td>\n      <td>...</td>\n    </tr>\n    <tr>\n      <th>4695</th>\n      <td>Senior System Engineer (Admins Team)</td>\n      <td>Более 6 лет</td>\n      <td>от 3 300 USD</td>\n      <td>Чехия</td>\n      <td>11</td>\n      <td>Engineer</td>\n      <td>191994.0</td>\n      <td>191994.0</td>\n      <td>3300.0</td>\n      <td>3300.0</td>\n      <td>191994.0</td>\n    </tr>\n    <tr>\n      <th>4696</th>\n      <td>Senior System Engineer (Admins Team)</td>\n      <td>Более 6 лет</td>\n      <td>от 3 300 USD</td>\n      <td>Армения</td>\n      <td>11</td>\n      <td>Engineer</td>\n      <td>191994.0</td>\n      <td>191994.0</td>\n      <td>3300.0</td>\n      <td>3300.0</td>\n      <td>191994.0</td>\n    </tr>\n    <tr>\n      <th>4697</th>\n      <td>DevOps Engineer</td>\n      <td>Более 6 лет</td>\n      <td>3 700 – 4 700 USD</td>\n      <td>Минск</td>\n      <td>15</td>\n      <td>DevOps engineer</td>\n      <td>215266.0</td>\n      <td>273446.0</td>\n      <td>3700.0</td>\n      <td>4700.0</td>\n      <td>244356.0</td>\n    </tr>\n    <tr>\n      <th>4698</th>\n      <td>Senior/Lead Software Engineer (.NET), Relocati...</td>\n      <td>Более 6 лет</td>\n      <td>3 000 – 5 500 USD</td>\n      <td>Армения</td>\n      <td>11</td>\n      <td>Engineer</td>\n      <td>174540.0</td>\n      <td>319990.0</td>\n      <td>3000.0</td>\n      <td>5500.0</td>\n      <td>247265.0</td>\n    </tr>\n    <tr>\n      <th>4699</th>\n      <td>Risk Assurance Services Manager</td>\n      <td>Более 6 лет</td>\n      <td>None</td>\n      <td>Ташкент</td>\n      <td>4</td>\n      <td>Другое</td>\n      <td>NaN</td>\n      <td>NaN</td>\n      <td>NaN</td>\n      <td>NaN</td>\n      <td>NaN</td>\n    </tr>\n  </tbody>\n</table>\n<p>4700 rows × 11 columns</p>\n</div>"
     },
     "execution_count": 63,
     "metadata": {},
     "output_type": "execute_result"
    }
   ],
   "source": [
    "df_salary_regions = df.copy(deep=True)\n",
    "df_salary_regions['from_RUB'] = salary_from\n",
    "df_salary_regions['to_RUB'] = salary_to\n",
    "df_salary_regions['from_local_cur'] = salary_from_national_currency\n",
    "df_salary_regions['to_local_cur'] = salary_to_national_currency\n",
    "df_salary_regions['RUB'] = (df_salary_regions['from_RUB']+df_salary_regions['to_RUB'])//2\n",
    "df_salary_regions"
   ],
   "metadata": {
    "collapsed": false,
    "pycharm": {
     "name": "#%%\n"
    }
   }
  },
  {
   "cell_type": "code",
   "execution_count": 64,
   "outputs": [
    {
     "data": {
      "text/plain": "132691.0770171149"
     },
     "execution_count": 64,
     "metadata": {},
     "output_type": "execute_result"
    }
   ],
   "source": [
    "df_salary_regions.RUB.mean()"
   ],
   "metadata": {
    "collapsed": false,
    "pycharm": {
     "name": "#%%\n"
    }
   }
  },
  {
   "cell_type": "code",
   "execution_count": 65,
   "outputs": [
    {
     "data": {
      "text/plain": "               RUB                                                          \\\n             count           mean           std      min      25%      50%   \nregion                                                                       \nАбакан         4.0   31750.000000  14614.490526  15000.0  21750.0  34000.0   \nАктау          1.0   58180.000000           NaN  58180.0  58180.0  58180.0   \nАлматы        25.0  108898.120000  82635.731709  18285.0  29865.0  82282.0   \nАльметьевск    1.0   15000.000000           NaN  15000.0  15000.0  15000.0   \nАрзамас        2.0   15000.000000      0.000000  15000.0  15000.0  15000.0   \n...            ...            ...           ...      ...      ...      ...   \nЭлектросталь   1.0   15000.000000           NaN  15000.0  15000.0  15000.0   \nЭлиста         1.0   15000.000000           NaN  15000.0  15000.0  15000.0   \nЭнгельс        1.0   15000.000000           NaN  15000.0  15000.0  15000.0   \nЯкутск         0.0            NaN           NaN      NaN      NaN      NaN   \nЯрославль     19.0   96126.315789  75834.526306  15000.0  19700.0  90000.0   \n\n                                  \n                   75%       max  \nregion                            \nАбакан         44000.0   44000.0  \nАктау          58180.0   58180.0  \nАлматы        159995.0  305445.0  \nАльметьевск    15000.0   15000.0  \nАрзамас        15000.0   15000.0  \n...                ...       ...  \nЭлектросталь   15000.0   15000.0  \nЭлиста         15000.0   15000.0  \nЭнгельс        15000.0   15000.0  \nЯкутск             NaN       NaN  \nЯрославль     167500.0  225000.0  \n\n[195 rows x 8 columns]",
      "text/html": "<div>\n<style scoped>\n    .dataframe tbody tr th:only-of-type {\n        vertical-align: middle;\n    }\n\n    .dataframe tbody tr th {\n        vertical-align: top;\n    }\n\n    .dataframe thead tr th {\n        text-align: left;\n    }\n\n    .dataframe thead tr:last-of-type th {\n        text-align: right;\n    }\n</style>\n<table border=\"1\" class=\"dataframe\">\n  <thead>\n    <tr>\n      <th></th>\n      <th colspan=\"8\" halign=\"left\">RUB</th>\n    </tr>\n    <tr>\n      <th></th>\n      <th>count</th>\n      <th>mean</th>\n      <th>std</th>\n      <th>min</th>\n      <th>25%</th>\n      <th>50%</th>\n      <th>75%</th>\n      <th>max</th>\n    </tr>\n    <tr>\n      <th>region</th>\n      <th></th>\n      <th></th>\n      <th></th>\n      <th></th>\n      <th></th>\n      <th></th>\n      <th></th>\n      <th></th>\n    </tr>\n  </thead>\n  <tbody>\n    <tr>\n      <th>Абакан</th>\n      <td>4.0</td>\n      <td>31750.000000</td>\n      <td>14614.490526</td>\n      <td>15000.0</td>\n      <td>21750.0</td>\n      <td>34000.0</td>\n      <td>44000.0</td>\n      <td>44000.0</td>\n    </tr>\n    <tr>\n      <th>Актау</th>\n      <td>1.0</td>\n      <td>58180.000000</td>\n      <td>NaN</td>\n      <td>58180.0</td>\n      <td>58180.0</td>\n      <td>58180.0</td>\n      <td>58180.0</td>\n      <td>58180.0</td>\n    </tr>\n    <tr>\n      <th>Алматы</th>\n      <td>25.0</td>\n      <td>108898.120000</td>\n      <td>82635.731709</td>\n      <td>18285.0</td>\n      <td>29865.0</td>\n      <td>82282.0</td>\n      <td>159995.0</td>\n      <td>305445.0</td>\n    </tr>\n    <tr>\n      <th>Альметьевск</th>\n      <td>1.0</td>\n      <td>15000.000000</td>\n      <td>NaN</td>\n      <td>15000.0</td>\n      <td>15000.0</td>\n      <td>15000.0</td>\n      <td>15000.0</td>\n      <td>15000.0</td>\n    </tr>\n    <tr>\n      <th>Арзамас</th>\n      <td>2.0</td>\n      <td>15000.000000</td>\n      <td>0.000000</td>\n      <td>15000.0</td>\n      <td>15000.0</td>\n      <td>15000.0</td>\n      <td>15000.0</td>\n      <td>15000.0</td>\n    </tr>\n    <tr>\n      <th>...</th>\n      <td>...</td>\n      <td>...</td>\n      <td>...</td>\n      <td>...</td>\n      <td>...</td>\n      <td>...</td>\n      <td>...</td>\n      <td>...</td>\n    </tr>\n    <tr>\n      <th>Электросталь</th>\n      <td>1.0</td>\n      <td>15000.000000</td>\n      <td>NaN</td>\n      <td>15000.0</td>\n      <td>15000.0</td>\n      <td>15000.0</td>\n      <td>15000.0</td>\n      <td>15000.0</td>\n    </tr>\n    <tr>\n      <th>Элиста</th>\n      <td>1.0</td>\n      <td>15000.000000</td>\n      <td>NaN</td>\n      <td>15000.0</td>\n      <td>15000.0</td>\n      <td>15000.0</td>\n      <td>15000.0</td>\n      <td>15000.0</td>\n    </tr>\n    <tr>\n      <th>Энгельс</th>\n      <td>1.0</td>\n      <td>15000.000000</td>\n      <td>NaN</td>\n      <td>15000.0</td>\n      <td>15000.0</td>\n      <td>15000.0</td>\n      <td>15000.0</td>\n      <td>15000.0</td>\n    </tr>\n    <tr>\n      <th>Якутск</th>\n      <td>0.0</td>\n      <td>NaN</td>\n      <td>NaN</td>\n      <td>NaN</td>\n      <td>NaN</td>\n      <td>NaN</td>\n      <td>NaN</td>\n      <td>NaN</td>\n    </tr>\n    <tr>\n      <th>Ярославль</th>\n      <td>19.0</td>\n      <td>96126.315789</td>\n      <td>75834.526306</td>\n      <td>15000.0</td>\n      <td>19700.0</td>\n      <td>90000.0</td>\n      <td>167500.0</td>\n      <td>225000.0</td>\n    </tr>\n  </tbody>\n</table>\n<p>195 rows × 8 columns</p>\n</div>"
     },
     "execution_count": 65,
     "metadata": {},
     "output_type": "execute_result"
    }
   ],
   "source": [
    "df_salary_regions[['region', 'RUB']].groupby('region').describe()"
   ],
   "metadata": {
    "collapsed": false,
    "pycharm": {
     "name": "#%%\n"
    }
   }
  },
  {
   "cell_type": "code",
   "execution_count": 66,
   "outputs": [
    {
     "data": {
      "text/plain": "                        RUB\nregion                     \nАбакан         31750.000000\nАктау          58180.000000\nАлматы        108898.120000\nАльметьевск    15000.000000\nАрзамас        15000.000000\n...                     ...\nЩелково        33333.333333\nЭлектросталь   15000.000000\nЭлиста         15000.000000\nЭнгельс        15000.000000\nЯрославль      96126.315789\n\n[174 rows x 1 columns]",
      "text/html": "<div>\n<style scoped>\n    .dataframe tbody tr th:only-of-type {\n        vertical-align: middle;\n    }\n\n    .dataframe tbody tr th {\n        vertical-align: top;\n    }\n\n    .dataframe thead th {\n        text-align: right;\n    }\n</style>\n<table border=\"1\" class=\"dataframe\">\n  <thead>\n    <tr style=\"text-align: right;\">\n      <th></th>\n      <th>RUB</th>\n    </tr>\n    <tr>\n      <th>region</th>\n      <th></th>\n    </tr>\n  </thead>\n  <tbody>\n    <tr>\n      <th>Абакан</th>\n      <td>31750.000000</td>\n    </tr>\n    <tr>\n      <th>Актау</th>\n      <td>58180.000000</td>\n    </tr>\n    <tr>\n      <th>Алматы</th>\n      <td>108898.120000</td>\n    </tr>\n    <tr>\n      <th>Альметьевск</th>\n      <td>15000.000000</td>\n    </tr>\n    <tr>\n      <th>Арзамас</th>\n      <td>15000.000000</td>\n    </tr>\n    <tr>\n      <th>...</th>\n      <td>...</td>\n    </tr>\n    <tr>\n      <th>Щелково</th>\n      <td>33333.333333</td>\n    </tr>\n    <tr>\n      <th>Электросталь</th>\n      <td>15000.000000</td>\n    </tr>\n    <tr>\n      <th>Элиста</th>\n      <td>15000.000000</td>\n    </tr>\n    <tr>\n      <th>Энгельс</th>\n      <td>15000.000000</td>\n    </tr>\n    <tr>\n      <th>Ярославль</th>\n      <td>96126.315789</td>\n    </tr>\n  </tbody>\n</table>\n<p>174 rows × 1 columns</p>\n</div>"
     },
     "execution_count": 66,
     "metadata": {},
     "output_type": "execute_result"
    }
   ],
   "source": [
    "pd.pivot_table(df_salary_regions[['region', 'RUB']], index=['region'])"
   ],
   "metadata": {
    "collapsed": false,
    "pycharm": {
     "name": "#%%\n"
    }
   }
  },
  {
   "cell_type": "code",
   "execution_count": 67,
   "outputs": [
    {
     "data": {
      "text/plain": "               median\n                  RUB\nregion               \nАбакан        34000.0\nАктау         58180.0\nАлматы        82282.0\nАльметьевск   15000.0\nАрзамас       15000.0\n...               ...\nЩелково       15000.0\nЭлектросталь  15000.0\nЭлиста        15000.0\nЭнгельс       15000.0\nЯрославль     90000.0\n\n[174 rows x 1 columns]",
      "text/html": "<div>\n<style scoped>\n    .dataframe tbody tr th:only-of-type {\n        vertical-align: middle;\n    }\n\n    .dataframe tbody tr th {\n        vertical-align: top;\n    }\n\n    .dataframe thead tr th {\n        text-align: left;\n    }\n\n    .dataframe thead tr:last-of-type th {\n        text-align: right;\n    }\n</style>\n<table border=\"1\" class=\"dataframe\">\n  <thead>\n    <tr>\n      <th></th>\n      <th>median</th>\n    </tr>\n    <tr>\n      <th></th>\n      <th>RUB</th>\n    </tr>\n    <tr>\n      <th>region</th>\n      <th></th>\n    </tr>\n  </thead>\n  <tbody>\n    <tr>\n      <th>Абакан</th>\n      <td>34000.0</td>\n    </tr>\n    <tr>\n      <th>Актау</th>\n      <td>58180.0</td>\n    </tr>\n    <tr>\n      <th>Алматы</th>\n      <td>82282.0</td>\n    </tr>\n    <tr>\n      <th>Альметьевск</th>\n      <td>15000.0</td>\n    </tr>\n    <tr>\n      <th>Арзамас</th>\n      <td>15000.0</td>\n    </tr>\n    <tr>\n      <th>...</th>\n      <td>...</td>\n    </tr>\n    <tr>\n      <th>Щелково</th>\n      <td>15000.0</td>\n    </tr>\n    <tr>\n      <th>Электросталь</th>\n      <td>15000.0</td>\n    </tr>\n    <tr>\n      <th>Элиста</th>\n      <td>15000.0</td>\n    </tr>\n    <tr>\n      <th>Энгельс</th>\n      <td>15000.0</td>\n    </tr>\n    <tr>\n      <th>Ярославль</th>\n      <td>90000.0</td>\n    </tr>\n  </tbody>\n</table>\n<p>174 rows × 1 columns</p>\n</div>"
     },
     "execution_count": 67,
     "metadata": {},
     "output_type": "execute_result"
    }
   ],
   "source": [
    "pd.pivot_table(df_salary_regions[['region', 'RUB']], index=['region'], aggfunc=[np.median])"
   ],
   "metadata": {
    "collapsed": false,
    "pycharm": {
     "name": "#%%\n"
    }
   }
  },
  {
   "cell_type": "markdown",
   "source": [
    "### Какая самая высокооплачиваемая из групп вакансий, исходя из их средних зарплат?"
   ],
   "metadata": {
    "collapsed": false,
    "pycharm": {
     "name": "#%% md\n"
    }
   }
  },
  {
   "cell_type": "code",
   "execution_count": 68,
   "outputs": [
    {
     "data": {
      "text/plain": "                                            RUB\ncategory_name                                  \nТимлид                            339777.777778\nDevOps engineer                   298921.178571\nData Engineer                     283642.192308\nEngineer                          265901.150000\nData Scientist                    230909.090909\nPython developer                  220705.200000\nData Analyst                      215855.750000\nJava                              203669.230769\nBackend разработчик               202010.000000\nDeveloper                         190779.469880\nРазработчик Python                187472.340426\nPython разработчик                184545.454545\nСистемный аналитик                183888.888889\nGolang разработчик                178090.000000\nQA engineer                       176319.545455\nQA Automation Engineer            173807.052632\nПрограммист                       166174.206897\nИнженер                           156185.393258\nРазработчик                       137256.214286\nДругое                            136987.375000\nАналитик                          130000.000000\nИнженер-программист               124437.678161\nC++                               122297.783784\nСпециалист технической поддержки   20929.870130\nСпециалист службы поддержки        15000.000000",
      "text/html": "<div>\n<style scoped>\n    .dataframe tbody tr th:only-of-type {\n        vertical-align: middle;\n    }\n\n    .dataframe tbody tr th {\n        vertical-align: top;\n    }\n\n    .dataframe thead th {\n        text-align: right;\n    }\n</style>\n<table border=\"1\" class=\"dataframe\">\n  <thead>\n    <tr style=\"text-align: right;\">\n      <th></th>\n      <th>RUB</th>\n    </tr>\n    <tr>\n      <th>category_name</th>\n      <th></th>\n    </tr>\n  </thead>\n  <tbody>\n    <tr>\n      <th>Тимлид</th>\n      <td>339777.777778</td>\n    </tr>\n    <tr>\n      <th>DevOps engineer</th>\n      <td>298921.178571</td>\n    </tr>\n    <tr>\n      <th>Data Engineer</th>\n      <td>283642.192308</td>\n    </tr>\n    <tr>\n      <th>Engineer</th>\n      <td>265901.150000</td>\n    </tr>\n    <tr>\n      <th>Data Scientist</th>\n      <td>230909.090909</td>\n    </tr>\n    <tr>\n      <th>Python developer</th>\n      <td>220705.200000</td>\n    </tr>\n    <tr>\n      <th>Data Analyst</th>\n      <td>215855.750000</td>\n    </tr>\n    <tr>\n      <th>Java</th>\n      <td>203669.230769</td>\n    </tr>\n    <tr>\n      <th>Backend разработчик</th>\n      <td>202010.000000</td>\n    </tr>\n    <tr>\n      <th>Developer</th>\n      <td>190779.469880</td>\n    </tr>\n    <tr>\n      <th>Разработчик Python</th>\n      <td>187472.340426</td>\n    </tr>\n    <tr>\n      <th>Python разработчик</th>\n      <td>184545.454545</td>\n    </tr>\n    <tr>\n      <th>Системный аналитик</th>\n      <td>183888.888889</td>\n    </tr>\n    <tr>\n      <th>Golang разработчик</th>\n      <td>178090.000000</td>\n    </tr>\n    <tr>\n      <th>QA engineer</th>\n      <td>176319.545455</td>\n    </tr>\n    <tr>\n      <th>QA Automation Engineer</th>\n      <td>173807.052632</td>\n    </tr>\n    <tr>\n      <th>Программист</th>\n      <td>166174.206897</td>\n    </tr>\n    <tr>\n      <th>Инженер</th>\n      <td>156185.393258</td>\n    </tr>\n    <tr>\n      <th>Разработчик</th>\n      <td>137256.214286</td>\n    </tr>\n    <tr>\n      <th>Другое</th>\n      <td>136987.375000</td>\n    </tr>\n    <tr>\n      <th>Аналитик</th>\n      <td>130000.000000</td>\n    </tr>\n    <tr>\n      <th>Инженер-программист</th>\n      <td>124437.678161</td>\n    </tr>\n    <tr>\n      <th>C++</th>\n      <td>122297.783784</td>\n    </tr>\n    <tr>\n      <th>Специалист технической поддержки</th>\n      <td>20929.870130</td>\n    </tr>\n    <tr>\n      <th>Специалист службы поддержки</th>\n      <td>15000.000000</td>\n    </tr>\n  </tbody>\n</table>\n</div>"
     },
     "execution_count": 68,
     "metadata": {},
     "output_type": "execute_result"
    }
   ],
   "source": [
    "df_salary_category_mean.sort_values('RUB', ascending=False)"
   ],
   "metadata": {
    "collapsed": false,
    "pycharm": {
     "name": "#%%\n"
    }
   }
  },
  {
   "cell_type": "code",
   "execution_count": 69,
   "outputs": [
    {
     "data": {
      "text/plain": "                         RUB\ncategory_name               \nТимлид         339777.777778",
      "text/html": "<div>\n<style scoped>\n    .dataframe tbody tr th:only-of-type {\n        vertical-align: middle;\n    }\n\n    .dataframe tbody tr th {\n        vertical-align: top;\n    }\n\n    .dataframe thead th {\n        text-align: right;\n    }\n</style>\n<table border=\"1\" class=\"dataframe\">\n  <thead>\n    <tr style=\"text-align: right;\">\n      <th></th>\n      <th>RUB</th>\n    </tr>\n    <tr>\n      <th>category_name</th>\n      <th></th>\n    </tr>\n  </thead>\n  <tbody>\n    <tr>\n      <th>Тимлид</th>\n      <td>339777.777778</td>\n    </tr>\n  </tbody>\n</table>\n</div>"
     },
     "execution_count": 69,
     "metadata": {},
     "output_type": "execute_result"
    }
   ],
   "source": [
    "df_salary_category_mean[df_salary_category_mean.RUB == max(df_salary_category_mean.RUB)]"
   ],
   "metadata": {
    "collapsed": false,
    "pycharm": {
     "name": "#%%\n"
    }
   }
  },
  {
   "cell_type": "markdown",
   "source": [
    "### Какое процентное соотношение каждого региона по вакансиям от всех вакансий?"
   ],
   "metadata": {
    "collapsed": false,
    "pycharm": {
     "name": "#%% md\n"
    }
   }
  },
  {
   "cell_type": "code",
   "execution_count": 70,
   "outputs": [
    {
     "data": {
      "text/plain": "                                   title work experience             salary  \\\n0  Backend разработчик со знанием Python   От 3 до 6 лет  2 500 – 3 000 USD   \n1  Backend разработчик со знанием Python   От 3 до 6 лет  2 500 – 3 000 USD   \n2  Backend разработчик со знанием Python   От 3 до 6 лет  2 500 – 3 000 USD   \n3                    Backend разработчик   От 3 до 6 лет  2 500 – 3 000 USD   \n4  Backend разработчик со знанием Python   От 3 до 6 лет  2 500 – 3 000 USD   \n\n    region  category        category_name  \n0   Алматы        14  Backend разработчик  \n1     Баку        14  Backend разработчик  \n2   Бишкек        14  Backend разработчик  \n3    Минск        14  Backend разработчик  \n4  Ташкент        14  Backend разработчик  ",
      "text/html": "<div>\n<style scoped>\n    .dataframe tbody tr th:only-of-type {\n        vertical-align: middle;\n    }\n\n    .dataframe tbody tr th {\n        vertical-align: top;\n    }\n\n    .dataframe thead th {\n        text-align: right;\n    }\n</style>\n<table border=\"1\" class=\"dataframe\">\n  <thead>\n    <tr style=\"text-align: right;\">\n      <th></th>\n      <th>title</th>\n      <th>work experience</th>\n      <th>salary</th>\n      <th>region</th>\n      <th>category</th>\n      <th>category_name</th>\n    </tr>\n  </thead>\n  <tbody>\n    <tr>\n      <th>0</th>\n      <td>Backend разработчик со знанием Python</td>\n      <td>От 3 до 6 лет</td>\n      <td>2 500 – 3 000 USD</td>\n      <td>Алматы</td>\n      <td>14</td>\n      <td>Backend разработчик</td>\n    </tr>\n    <tr>\n      <th>1</th>\n      <td>Backend разработчик со знанием Python</td>\n      <td>От 3 до 6 лет</td>\n      <td>2 500 – 3 000 USD</td>\n      <td>Баку</td>\n      <td>14</td>\n      <td>Backend разработчик</td>\n    </tr>\n    <tr>\n      <th>2</th>\n      <td>Backend разработчик со знанием Python</td>\n      <td>От 3 до 6 лет</td>\n      <td>2 500 – 3 000 USD</td>\n      <td>Бишкек</td>\n      <td>14</td>\n      <td>Backend разработчик</td>\n    </tr>\n    <tr>\n      <th>3</th>\n      <td>Backend разработчик</td>\n      <td>От 3 до 6 лет</td>\n      <td>2 500 – 3 000 USD</td>\n      <td>Минск</td>\n      <td>14</td>\n      <td>Backend разработчик</td>\n    </tr>\n    <tr>\n      <th>4</th>\n      <td>Backend разработчик со знанием Python</td>\n      <td>От 3 до 6 лет</td>\n      <td>2 500 – 3 000 USD</td>\n      <td>Ташкент</td>\n      <td>14</td>\n      <td>Backend разработчик</td>\n    </tr>\n  </tbody>\n</table>\n</div>"
     },
     "execution_count": 70,
     "metadata": {},
     "output_type": "execute_result"
    }
   ],
   "source": [
    "df.head()"
   ],
   "metadata": {
    "collapsed": false,
    "pycharm": {
     "name": "#%%\n"
    }
   }
  },
  {
   "cell_type": "code",
   "execution_count": 71,
   "outputs": [
    {
     "data": {
      "text/plain": "Москва             1980\nСанкт-Петербург     637\nНовосибирск         162\nНижний Новгород     127\nЕкатеринбург        126\nName: region, dtype: int64"
     },
     "execution_count": 71,
     "metadata": {},
     "output_type": "execute_result"
    }
   ],
   "source": [
    "df['region'].value_counts().head()"
   ],
   "metadata": {
    "collapsed": false,
    "pycharm": {
     "name": "#%%\n"
    }
   }
  },
  {
   "cell_type": "code",
   "execution_count": 72,
   "outputs": [],
   "source": [
    "region_count = df['region'].value_counts().to_dict()"
   ],
   "metadata": {
    "collapsed": false,
    "pycharm": {
     "name": "#%%\n"
    }
   }
  },
  {
   "cell_type": "code",
   "execution_count": 73,
   "outputs": [
    {
     "data": {
      "text/plain": "{'Москва': 1980,\n 'Санкт-Петербург': 637,\n 'Новосибирск': 162,\n 'Нижний Новгород': 127,\n 'Екатеринбург': 126,\n 'Минск': 88,\n 'Казань': 84,\n 'Алматы': 74,\n 'Самара': 61,\n 'Тбилиси': 57,\n 'Краснодар': 53,\n 'Нур-Султан': 49,\n 'Томск': 44,\n 'Ростов-на-Дону': 44,\n 'Пермь': 44,\n 'Ташкент': 44,\n 'Уфа': 39,\n 'Кипр': 39,\n 'Челябинск': 32,\n 'Воронеж': 32,\n 'Волгоград': 28,\n 'Омск': 27,\n 'Красноярск': 26,\n 'Армения': 25,\n 'Калининград': 25,\n 'Ярославль': 24,\n 'Ижевск': 23,\n 'Саратов': 22,\n 'Владивосток': 19,\n 'Рязань': 18,\n 'Зеленоград': 18,\n 'Сочи': 16,\n 'Иркутск': 16,\n 'Тюмень': 16,\n 'Тула': 16,\n 'Пенза': 13,\n 'Кемерово': 13,\n 'Хабаровск': 13,\n 'Севастополь': 11,\n 'Ульяновск': 11,\n 'Йошкар-Ола': 11,\n 'Таганрог': 9,\n 'Оренбург': 9,\n 'Белгород': 9,\n 'Сербия': 9,\n 'Батуми': 8,\n 'Набережные Челны': 8,\n 'Магнитогорск': 8,\n 'Люберцы': 8,\n 'Вологда': 8,\n 'Тольятти': 8,\n 'Болгария': 8,\n 'Химки': 7,\n 'Тверь': 7,\n 'Иваново (Ивановская область)': 7,\n 'Череповец': 7,\n 'Саранск': 7,\n 'Симферополь': 7,\n 'Брянск': 7,\n 'Смоленск': 7,\n 'Польша': 6,\n 'Киров (Кировская область)': 6,\n 'Кострома': 6,\n 'Ставрополь': 6,\n 'Орел': 6,\n 'Барнаул': 6,\n 'Обнинск': 6,\n 'Балашиха': 6,\n 'Великий Новгород': 6,\n 'Керчь': 5,\n 'Баку': 5,\n 'Волжский (Волгоградская область)': 5,\n 'Курск': 5,\n 'Караганда': 5,\n 'Мытищи': 5,\n 'Ковров': 5,\n 'Махачкала': 5,\n 'Бишкек': 5,\n 'Якутск': 5,\n 'Иннополис': 5,\n 'Петрозаводск': 5,\n 'Чебоксары': 5,\n 'Витебск': 5,\n 'Долгопрудный': 4,\n 'Ессентуки': 4,\n 'Калуга': 4,\n 'Нальчик': 4,\n 'Подольск (Московская область)': 4,\n 'Раменское': 4,\n 'Астрахань': 4,\n 'Новочебоксарск': 4,\n 'Грозный': 4,\n 'Мурманск': 4,\n 'Тамбов': 4,\n 'Абакан': 4,\n 'Пушкино (Московская область)': 4,\n 'Муром': 4,\n 'Истра': 4,\n 'Курган': 4,\n 'Турция': 4,\n 'Гродно': 4,\n 'Липецк': 4,\n 'Владимир': 3,\n 'Литва': 3,\n 'Щелково': 3,\n 'Армавир': 3,\n 'Владикавказ': 3,\n 'Кишинёв': 3,\n 'Назрань': 3,\n 'Нижний Тагил': 3,\n 'Одинцово': 3,\n 'Реутов': 3,\n 'Новороссийск': 3,\n 'Павлодар': 3,\n 'Новочеркасск': 3,\n 'Покровское (городской округ Истра)': 3,\n 'Нижнекамск': 3,\n 'Псков': 3,\n 'Сургут': 3,\n 'Арзамас': 2,\n 'Старый Оскол': 2,\n 'Бийск': 2,\n 'Майкоп': 2,\n 'Каспийск': 2,\n 'Салават': 2,\n 'Пятигорск': 2,\n 'Елец': 2,\n 'Черкесск': 2,\n 'Канада': 2,\n 'Артем': 2,\n 'Волгодонск': 2,\n 'Дубна': 2,\n 'Новомосковск (Тульская область)': 2,\n 'Актау': 2,\n 'Королев': 2,\n 'Бердск': 2,\n 'Фергана': 2,\n 'Прокопьевск': 1,\n 'Новокуйбышевск': 1,\n 'Зеленодольск (Республика Татарстан)': 1,\n 'Шахты': 1,\n 'Нефтекамск': 1,\n 'Камышин': 1,\n 'Новошахтинск': 1,\n 'ОАЭ': 1,\n 'Новокузнецк': 1,\n 'Рубцовск': 1,\n 'Стерлитамак': 1,\n 'Кисловодск': 1,\n 'Красногорск': 1,\n 'Хасавюрт': 1,\n 'Саяногорск': 1,\n 'Орехово-Зуево': 1,\n 'Сергиев Посад': 1,\n 'Каменск-Уральский': 1,\n 'Дмитров': 1,\n 'Кутаиси': 1,\n 'Евпатория': 1,\n 'Октябрьский (Республика Башкортостан)': 1,\n 'Первоуральск': 1,\n 'Венгрия': 1,\n 'Дзержинск (Нижегородская область)': 1,\n 'Клин': 1,\n 'Саров': 1,\n 'Коломна': 1,\n 'Костомукша': 1,\n 'Сертолово': 1,\n 'Черноголовка': 1,\n 'Улан-Удэ': 1,\n 'Гомель': 1,\n 'Копейск': 1,\n 'Финляндия': 1,\n 'Румыния': 1,\n 'Архангельск': 1,\n 'Боржоми': 1,\n 'Латвия': 1,\n 'Атырау': 1,\n 'Коканд': 1,\n 'Ухта': 1,\n 'Северск (Томская область)': 1,\n 'Новый Уренгой': 1,\n 'Дербент': 1,\n 'Невинномысск': 1,\n 'Ногинск': 1,\n 'Железногорск (Курская область)': 1,\n 'Миасс': 1,\n 'Электросталь': 1,\n 'Элиста': 1,\n 'Альметьевск': 1,\n 'Березники': 1,\n 'Златоуст': 1,\n 'Серпухов': 1,\n 'Энгельс': 1,\n 'Батайск': 1,\n 'Чехия': 1}"
     },
     "execution_count": 73,
     "metadata": {},
     "output_type": "execute_result"
    }
   ],
   "source": [
    "region_count"
   ],
   "metadata": {
    "collapsed": false,
    "pycharm": {
     "name": "#%%\n"
    }
   }
  },
  {
   "cell_type": "code",
   "execution_count": 74,
   "outputs": [
    {
     "data": {
      "text/plain": "4700"
     },
     "execution_count": 74,
     "metadata": {},
     "output_type": "execute_result"
    }
   ],
   "source": [
    "total = df.title.count()\n",
    "total"
   ],
   "metadata": {
    "collapsed": false,
    "pycharm": {
     "name": "#%%\n"
    }
   }
  },
  {
   "cell_type": "code",
   "execution_count": 75,
   "outputs": [],
   "source": [
    "df_percentage_regions = df.copy(deep=True)\n",
    "df_percentage_regions['percentage region'] = df['region'].map(region_count) / total * 100"
   ],
   "metadata": {
    "collapsed": false,
    "pycharm": {
     "name": "#%%\n"
    }
   }
  },
  {
   "cell_type": "code",
   "execution_count": 76,
   "outputs": [
    {
     "data": {
      "text/plain": "                                               title work experience  \\\n0              Backend разработчик со знанием Python   От 3 до 6 лет   \n1              Backend разработчик со знанием Python   От 3 до 6 лет   \n2              Backend разработчик со знанием Python   От 3 до 6 лет   \n3                                Backend разработчик   От 3 до 6 лет   \n4              Backend разработчик со знанием Python   От 3 до 6 лет   \n5                Senior Data Scientist / ML Engineer   От 3 до 6 лет   \n6  Разработчик Solidity/Разработчик Rust/Разработ...   От 3 до 6 лет   \n7                                 Программист Python   От 3 до 6 лет   \n8                   Python-разработчик (Django, DRF)   От 3 до 6 лет   \n9                          Python developer (Middle)   От 3 до 6 лет   \n\n                   salary           region  category        category_name  \\\n0       2 500 – 3 000 USD           Алматы        14  Backend разработчик   \n1       2 500 – 3 000 USD             Баку        14  Backend разработчик   \n2       2 500 – 3 000 USD           Бишкек        14  Backend разработчик   \n3       2 500 – 3 000 USD            Минск        14  Backend разработчик   \n4       2 500 – 3 000 USD          Ташкент        14  Backend разработчик   \n5                    None           Москва        17       Data Scientist   \n6         от 600 000 руб.           Москва         4               Другое   \n7   80 000 – 220 000 руб.           Москва        19          Программист   \n8   60 000 – 150 000 руб.           Москва         8   Python разработчик   \n9  300 000 – 360 000 руб.  Санкт-Петербург         3     Python developer   \n\n   percentage region  \n0           1.574468  \n1           0.106383  \n2           0.106383  \n3           1.872340  \n4           0.936170  \n5          42.127660  \n6          42.127660  \n7          42.127660  \n8          42.127660  \n9          13.553191  ",
      "text/html": "<div>\n<style scoped>\n    .dataframe tbody tr th:only-of-type {\n        vertical-align: middle;\n    }\n\n    .dataframe tbody tr th {\n        vertical-align: top;\n    }\n\n    .dataframe thead th {\n        text-align: right;\n    }\n</style>\n<table border=\"1\" class=\"dataframe\">\n  <thead>\n    <tr style=\"text-align: right;\">\n      <th></th>\n      <th>title</th>\n      <th>work experience</th>\n      <th>salary</th>\n      <th>region</th>\n      <th>category</th>\n      <th>category_name</th>\n      <th>percentage region</th>\n    </tr>\n  </thead>\n  <tbody>\n    <tr>\n      <th>0</th>\n      <td>Backend разработчик со знанием Python</td>\n      <td>От 3 до 6 лет</td>\n      <td>2 500 – 3 000 USD</td>\n      <td>Алматы</td>\n      <td>14</td>\n      <td>Backend разработчик</td>\n      <td>1.574468</td>\n    </tr>\n    <tr>\n      <th>1</th>\n      <td>Backend разработчик со знанием Python</td>\n      <td>От 3 до 6 лет</td>\n      <td>2 500 – 3 000 USD</td>\n      <td>Баку</td>\n      <td>14</td>\n      <td>Backend разработчик</td>\n      <td>0.106383</td>\n    </tr>\n    <tr>\n      <th>2</th>\n      <td>Backend разработчик со знанием Python</td>\n      <td>От 3 до 6 лет</td>\n      <td>2 500 – 3 000 USD</td>\n      <td>Бишкек</td>\n      <td>14</td>\n      <td>Backend разработчик</td>\n      <td>0.106383</td>\n    </tr>\n    <tr>\n      <th>3</th>\n      <td>Backend разработчик</td>\n      <td>От 3 до 6 лет</td>\n      <td>2 500 – 3 000 USD</td>\n      <td>Минск</td>\n      <td>14</td>\n      <td>Backend разработчик</td>\n      <td>1.872340</td>\n    </tr>\n    <tr>\n      <th>4</th>\n      <td>Backend разработчик со знанием Python</td>\n      <td>От 3 до 6 лет</td>\n      <td>2 500 – 3 000 USD</td>\n      <td>Ташкент</td>\n      <td>14</td>\n      <td>Backend разработчик</td>\n      <td>0.936170</td>\n    </tr>\n    <tr>\n      <th>5</th>\n      <td>Senior Data Scientist / ML Engineer</td>\n      <td>От 3 до 6 лет</td>\n      <td>None</td>\n      <td>Москва</td>\n      <td>17</td>\n      <td>Data Scientist</td>\n      <td>42.127660</td>\n    </tr>\n    <tr>\n      <th>6</th>\n      <td>Разработчик Solidity/Разработчик Rust/Разработ...</td>\n      <td>От 3 до 6 лет</td>\n      <td>от 600 000 руб.</td>\n      <td>Москва</td>\n      <td>4</td>\n      <td>Другое</td>\n      <td>42.127660</td>\n    </tr>\n    <tr>\n      <th>7</th>\n      <td>Программист Python</td>\n      <td>От 3 до 6 лет</td>\n      <td>80 000 – 220 000 руб.</td>\n      <td>Москва</td>\n      <td>19</td>\n      <td>Программист</td>\n      <td>42.127660</td>\n    </tr>\n    <tr>\n      <th>8</th>\n      <td>Python-разработчик (Django, DRF)</td>\n      <td>От 3 до 6 лет</td>\n      <td>60 000 – 150 000 руб.</td>\n      <td>Москва</td>\n      <td>8</td>\n      <td>Python разработчик</td>\n      <td>42.127660</td>\n    </tr>\n    <tr>\n      <th>9</th>\n      <td>Python developer (Middle)</td>\n      <td>От 3 до 6 лет</td>\n      <td>300 000 – 360 000 руб.</td>\n      <td>Санкт-Петербург</td>\n      <td>3</td>\n      <td>Python developer</td>\n      <td>13.553191</td>\n    </tr>\n  </tbody>\n</table>\n</div>"
     },
     "execution_count": 76,
     "metadata": {},
     "output_type": "execute_result"
    }
   ],
   "source": [
    "df_percentage_regions.head(10)"
   ],
   "metadata": {
    "collapsed": false,
    "pycharm": {
     "name": "#%%\n"
    }
   }
  },
  {
   "cell_type": "code",
   "execution_count": 77,
   "outputs": [
    {
     "data": {
      "text/plain": "region                     percentage region\nМосква                     42.127660            1980\nСанкт-Петербург            13.553191             637\nНовосибирск                3.446809              162\nНижний Новгород            2.702128              127\nЕкатеринбург               2.680851              126\n                                                ... \nСеверск (Томская область)  0.021277                1\nГомель                     0.021277                1\nСергиев Посад              0.021277                1\nСерпухов                   0.021277                1\nКопейск                    0.021277                1\nLength: 195, dtype: int64"
     },
     "execution_count": 77,
     "metadata": {},
     "output_type": "execute_result"
    }
   ],
   "source": [
    "df_percentage_regions[['region', 'percentage region']].value_counts()"
   ],
   "metadata": {
    "collapsed": false,
    "pycharm": {
     "name": "#%%\n"
    }
   }
  },
  {
   "cell_type": "markdown",
   "source": [
    "### Какая корреляция уровня опыта от зарплаты?"
   ],
   "metadata": {
    "collapsed": false,
    "pycharm": {
     "name": "#%% md\n"
    }
   }
  },
  {
   "cell_type": "code",
   "execution_count": 78,
   "outputs": [
    {
     "data": {
      "text/plain": "  work experience       RUB\n0   От 3 до 6 лет  159995.0\n1   От 3 до 6 лет  159995.0\n2   От 3 до 6 лет  159995.0\n3   От 3 до 6 лет  159995.0\n4   От 3 до 6 лет  159995.0",
      "text/html": "<div>\n<style scoped>\n    .dataframe tbody tr th:only-of-type {\n        vertical-align: middle;\n    }\n\n    .dataframe tbody tr th {\n        vertical-align: top;\n    }\n\n    .dataframe thead th {\n        text-align: right;\n    }\n</style>\n<table border=\"1\" class=\"dataframe\">\n  <thead>\n    <tr style=\"text-align: right;\">\n      <th></th>\n      <th>work experience</th>\n      <th>RUB</th>\n    </tr>\n  </thead>\n  <tbody>\n    <tr>\n      <th>0</th>\n      <td>От 3 до 6 лет</td>\n      <td>159995.0</td>\n    </tr>\n    <tr>\n      <th>1</th>\n      <td>От 3 до 6 лет</td>\n      <td>159995.0</td>\n    </tr>\n    <tr>\n      <th>2</th>\n      <td>От 3 до 6 лет</td>\n      <td>159995.0</td>\n    </tr>\n    <tr>\n      <th>3</th>\n      <td>От 3 до 6 лет</td>\n      <td>159995.0</td>\n    </tr>\n    <tr>\n      <th>4</th>\n      <td>От 3 до 6 лет</td>\n      <td>159995.0</td>\n    </tr>\n  </tbody>\n</table>\n</div>"
     },
     "execution_count": 78,
     "metadata": {},
     "output_type": "execute_result"
    }
   ],
   "source": [
    "df_cor = pd.DataFrame(df_salary_regions, columns=['work experience', 'RUB'])\n",
    "df_cor.head()"
   ],
   "metadata": {
    "collapsed": false,
    "pycharm": {
     "name": "#%%\n"
    }
   }
  },
  {
   "cell_type": "code",
   "execution_count": 79,
   "outputs": [
    {
     "data": {
      "text/plain": "   work experience       RUB\n0                2  159995.0\n1                2  159995.0\n2                2  159995.0\n3                2  159995.0\n4                2  159995.0",
      "text/html": "<div>\n<style scoped>\n    .dataframe tbody tr th:only-of-type {\n        vertical-align: middle;\n    }\n\n    .dataframe tbody tr th {\n        vertical-align: top;\n    }\n\n    .dataframe thead th {\n        text-align: right;\n    }\n</style>\n<table border=\"1\" class=\"dataframe\">\n  <thead>\n    <tr style=\"text-align: right;\">\n      <th></th>\n      <th>work experience</th>\n      <th>RUB</th>\n    </tr>\n  </thead>\n  <tbody>\n    <tr>\n      <th>0</th>\n      <td>2</td>\n      <td>159995.0</td>\n    </tr>\n    <tr>\n      <th>1</th>\n      <td>2</td>\n      <td>159995.0</td>\n    </tr>\n    <tr>\n      <th>2</th>\n      <td>2</td>\n      <td>159995.0</td>\n    </tr>\n    <tr>\n      <th>3</th>\n      <td>2</td>\n      <td>159995.0</td>\n    </tr>\n    <tr>\n      <th>4</th>\n      <td>2</td>\n      <td>159995.0</td>\n    </tr>\n  </tbody>\n</table>\n</div>"
     },
     "execution_count": 79,
     "metadata": {},
     "output_type": "execute_result"
    }
   ],
   "source": [
    "df_cor =df_cor.replace({'work experience': {'Нет опыта':0,'От 1 года до 3 лет':1,'От 3 до 6 лет':2,'Более 6 лет':3}})\n",
    "df_cor.head()"
   ],
   "metadata": {
    "collapsed": false,
    "pycharm": {
     "name": "#%%\n"
    }
   }
  },
  {
   "cell_type": "code",
   "execution_count": 80,
   "outputs": [
    {
     "data": {
      "text/plain": "                 work experience      RUB\nwork experience          1.00000  0.74834\nRUB                      0.74834  1.00000",
      "text/html": "<div>\n<style scoped>\n    .dataframe tbody tr th:only-of-type {\n        vertical-align: middle;\n    }\n\n    .dataframe tbody tr th {\n        vertical-align: top;\n    }\n\n    .dataframe thead th {\n        text-align: right;\n    }\n</style>\n<table border=\"1\" class=\"dataframe\">\n  <thead>\n    <tr style=\"text-align: right;\">\n      <th></th>\n      <th>work experience</th>\n      <th>RUB</th>\n    </tr>\n  </thead>\n  <tbody>\n    <tr>\n      <th>work experience</th>\n      <td>1.00000</td>\n      <td>0.74834</td>\n    </tr>\n    <tr>\n      <th>RUB</th>\n      <td>0.74834</td>\n      <td>1.00000</td>\n    </tr>\n  </tbody>\n</table>\n</div>"
     },
     "execution_count": 80,
     "metadata": {},
     "output_type": "execute_result"
    }
   ],
   "source": [
    "df_cor.corr()"
   ],
   "metadata": {
    "collapsed": false,
    "pycharm": {
     "name": "#%%\n"
    }
   }
  },
  {
   "cell_type": "code",
   "execution_count": 81,
   "outputs": [
    {
     "data": {
      "text/plain": "0.7483399266868055"
     },
     "execution_count": 81,
     "metadata": {},
     "output_type": "execute_result"
    }
   ],
   "source": [
    "df_cor.corr().loc['work experience', 'RUB']"
   ],
   "metadata": {
    "collapsed": false,
    "pycharm": {
     "name": "#%%\n"
    }
   }
  },
  {
   "cell_type": "markdown",
   "source": [
    "### Сколько должностей в наборе данных?"
   ],
   "metadata": {
    "collapsed": false,
    "pycharm": {
     "name": "#%% md\n"
    }
   }
  },
  {
   "cell_type": "code",
   "execution_count": 82,
   "outputs": [
    {
     "data": {
      "text/plain": "2057"
     },
     "execution_count": 82,
     "metadata": {},
     "output_type": "execute_result"
    }
   ],
   "source": [
    "df['title'].nunique()"
   ],
   "metadata": {
    "collapsed": false,
    "pycharm": {
     "name": "#%%\n"
    }
   }
  },
  {
   "cell_type": "markdown",
   "source": [
    "### Какие 10 наиболее часто встречающихся должностей?"
   ],
   "metadata": {
    "collapsed": false,
    "pycharm": {
     "name": "#%% md\n"
    }
   }
  },
  {
   "cell_type": "code",
   "execution_count": 83,
   "outputs": [
    {
     "data": {
      "text/plain": "title                                                                 \nСпециалист технической поддержки                                          133\nСпециалист службы поддержки с техническими знаниями                        87\nСпециалист службы поддержки с техническими знаниями в Яндекс Поиск         83\nPython Developer                                                           48\nСпециалист службы поддержки с техническими знаниями (Умные устройства)     46\nИнженер-программист                                                        41\nProgramming Team Lead (С++)                                                37\nРазработчик Python                                                         35\nСпециалист службы поддержки с техническими знаниями (Контест)              32\nПрограммист Python                                                         32\ndtype: int64"
     },
     "execution_count": 83,
     "metadata": {},
     "output_type": "execute_result"
    }
   ],
   "source": [
    "df[['title']].value_counts().head(10)"
   ],
   "metadata": {
    "collapsed": false,
    "pycharm": {
     "name": "#%%\n"
    }
   }
  }
 ],
 "metadata": {
  "kernelspec": {
   "display_name": "Python 3",
   "language": "python",
   "name": "python3"
  },
  "language_info": {
   "codemirror_mode": {
    "name": "ipython",
    "version": 2
   },
   "file_extension": ".py",
   "mimetype": "text/x-python",
   "name": "python",
   "nbconvert_exporter": "python",
   "pygments_lexer": "ipython2",
   "version": "2.7.6"
  }
 },
 "nbformat": 4,
 "nbformat_minor": 0
}