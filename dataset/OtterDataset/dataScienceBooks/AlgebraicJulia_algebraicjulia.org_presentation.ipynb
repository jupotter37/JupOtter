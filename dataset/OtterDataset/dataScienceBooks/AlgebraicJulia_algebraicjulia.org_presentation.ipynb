{
 "cells": [
  {
   "cell_type": "markdown",
   "id": "coordinate-mustang",
   "metadata": {},
   "source": [
    "# C-sets for data analysis: graphs, relational data, and conjunctive queries\n",
    "\n",
    "**Evan Patterson**  \n",
    "[Topos Institute](https://topos.institute/)\n",
    "\n",
    "**Category Theory and Applications Meetup**  \n",
    "January 20, 2021"
   ]
  },
  {
   "cell_type": "markdown",
   "id": "interstate-efficiency",
   "metadata": {},
   "source": [
    "## Introduction\n",
    "\n",
    "Some common classes of data processing tools:\n",
    "\n",
    "1. **Data frames**, aka **data tables**\n",
    "  - `data.frame` in R (originally S)\n",
    "  - [pandas](https://pandas.pydata.org/) in Python\n",
    "  - [DataFrames.jl](https://github.com/JuliaData/DataFrames.jl) and others in Julia\n",
    "2. **Graphs** for graph analytics\n",
    "  - [NetworkX](https://networkx.org/) in Python\n",
    "  - [LightGraphs.jl](https://github.com/JuliaGraphs/LightGraphs.jl) in Julia\n",
    "3. **Relational databases**\n",
    "  - Best known through SQL databases\n",
    "  - Also in logic programming, e.g. Prolog\n",
    "\n",
    "These classes are often considered to be disjoint:\n",
    "\n",
    "- Different data structures\n",
    "- Different environments: embedded/in-memory vs standalone systems\n",
    "\n",
    "But **category theory** suggests a unifying framework:\n",
    "\n",
    "- Mathematics is now pretty well understood (Spivak, Wisnesky, and others)\n",
    "- *In this talk*, an implementation in the Julia package [Catlab.jl](https://github.com/AlgebraicJulia/Catlab.jl)"
   ]
  },
  {
   "cell_type": "markdown",
   "id": "dutch-element",
   "metadata": {},
   "source": [
    "## Graphs and C-sets\n",
    "\n",
    "The unifying framework is *$\\mathcal{C}$-sets*, aka *copresheaves* or *set-valued functors*.\n",
    "\n",
    "**Definition**. Given a small category $\\mathcal{C}$, a *$\\mathcal{C}$-set* is a functor $X: \\mathcal{C} \\to \\mathbf{Set}$.\n",
    "\n",
    "**Interpretation** ([Spivak 2012](https://doi.org/10.1016/j.ic.2012.05.001), [Spivak 2014](https://mitpress.mit.edu/books/category-theory-sciences)):\n",
    "\n",
    "- category $\\mathcal{C}$ is a *schema*\n",
    "- functor $\\mathcal{C} \\to \\mathbf{Set}$ is instance data, i.e., a database on that schema "
   ]
  },
  {
   "cell_type": "markdown",
   "id": "fresh-registration",
   "metadata": {},
   "source": [
    "**Example**: The *schema for graphs* is\n",
    "\n",
    "$$\\mathcal{C} = \\{E \\rightrightarrows V\\}$$"
   ]
  },
  {
   "cell_type": "code",
   "execution_count": 1,
   "id": "norwegian-fleet",
   "metadata": {},
   "outputs": [],
   "source": [
    "using Catlab, Catlab.CategoricalAlgebra\n",
    "\n",
    "@present SchemaGraphs(FreeSchema) begin\n",
    "    V::Ob\n",
    "    E::Ob\n",
    "    src::Hom(E,V)\n",
    "    tgt::Hom(E,V)\n",
    "end;"
   ]
  },
  {
   "cell_type": "markdown",
   "id": "unlikely-oxide",
   "metadata": {},
   "source": [
    "This object is a *presentation* of a category, which keeps track of\n",
    "\n",
    "- generators (in this case, two object generators and two morphism generators)\n",
    "- relations, i.e. equations (in this case, none)"
   ]
  },
  {
   "cell_type": "code",
   "execution_count": 2,
   "id": "southeast-belle",
   "metadata": {},
   "outputs": [
    {
     "data": {
      "text/plain": [
       "2-element Array{Catlab.Theories.FreeSchema.Hom{:generator},1}:\n",
       " src\n",
       " tgt"
      ]
     },
     "execution_count": 2,
     "metadata": {},
     "output_type": "execute_result"
    }
   ],
   "source": [
    "generators(SchemaGraphs, :Hom)"
   ]
  },
  {
   "cell_type": "markdown",
   "id": "portable-morrison",
   "metadata": {},
   "source": [
    "To translate the presentation into a Julia type for a data structure, use `CSetType`:\n",
    "\n",
    "```julia\n",
    "const Graph = CSetType(SchemaGraphs, index=[:src,:tgt])\n",
    "```\n",
    "\n",
    "**Note**: We won't run this line because it is a copy-paste from `Catlab.Graphs`."
   ]
  },
  {
   "cell_type": "code",
   "execution_count": 3,
   "id": "incident-wednesday",
   "metadata": {},
   "outputs": [
    {
     "data": {
      "text/html": [
       "<div class=\"c-set\">\n",
       "<span class=\"c-set-summary\">CSet with elements V = 1:4, E = 1:3</span>\n",
       "<table>\n",
       "  <tr class = \"header headerLastRow\">\n",
       "    <th class = rowNumber>E</th>\n",
       "    <th style = \"text-align: right; \">src</th>\n",
       "    <th style = \"text-align: right; \">tgt</th>\n",
       "  </tr>\n",
       "  <tr>\n",
       "    <td class = rowNumber>1</td>\n",
       "    <td style = \"text-align: right; \">1</td>\n",
       "    <td style = \"text-align: right; \">2</td>\n",
       "  </tr>\n",
       "  <tr>\n",
       "    <td class = rowNumber>2</td>\n",
       "    <td style = \"text-align: right; \">2</td>\n",
       "    <td style = \"text-align: right; \">3</td>\n",
       "  </tr>\n",
       "  <tr>\n",
       "    <td class = rowNumber>3</td>\n",
       "    <td style = \"text-align: right; \">2</td>\n",
       "    <td style = \"text-align: right; \">4</td>\n",
       "  </tr>\n",
       "</table>\n",
       "</div>\n"
      ],
      "text/plain": [
       "CSet with elements V = 1:4, E = 1:3\n",
       "┌───┬─────┬─────┐\n",
       "│\u001b[1m E \u001b[0m│\u001b[1m src \u001b[0m│\u001b[1m tgt \u001b[0m│\n",
       "├───┼─────┼─────┤\n",
       "│ 1 │   1 │   2 │\n",
       "│ 2 │   2 │   3 │\n",
       "│ 3 │   2 │   4 │\n",
       "└───┴─────┴─────┘\n"
      ]
     },
     "execution_count": 3,
     "metadata": {},
     "output_type": "execute_result"
    }
   ],
   "source": [
    "using Catlab.Graphs\n",
    "\n",
    "g = Graph()\n",
    "add_parts!(g, :V, 4)\n",
    "add_parts!(g, :E, 3, src=[1,2,2], tgt=[2,3,4])\n",
    "g"
   ]
  },
  {
   "cell_type": "code",
   "execution_count": 4,
   "id": "designing-protein",
   "metadata": {},
   "outputs": [
    {
     "data": {
      "image/svg+xml": [
       "<?xml version=\"1.0\" encoding=\"UTF-8\" standalone=\"no\"?>\n",
       "<!DOCTYPE svg PUBLIC \"-//W3C//DTD SVG 1.1//EN\"\n",
       " \"http://www.w3.org/Graphics/SVG/1.1/DTD/svg11.dtd\">\n",
       "<!-- Generated by graphviz version 2.44.1 (20200629.0846)\n",
       " -->\n",
       "<!-- Title: G Pages: 1 -->\n",
       "<svg width=\"91pt\" height=\"34pt\"\n",
       " viewBox=\"0.00 0.00 90.80 33.60\" xmlns=\"http://www.w3.org/2000/svg\" xmlns:xlink=\"http://www.w3.org/1999/xlink\">\n",
       "<g id=\"graph0\" class=\"graph\" transform=\"scale(1 1) rotate(0) translate(4 29.6)\">\n",
       "<title>G</title>\n",
       "<polygon fill=\"white\" stroke=\"transparent\" points=\"-4,4 -4,-29.6 86.8,-29.6 86.8,4 -4,4\"/>\n",
       "<!-- n1 -->\n",
       "<g id=\"node1\" class=\"node\">\n",
       "<title>n1</title>\n",
       "<ellipse fill=\"black\" stroke=\"black\" cx=\"1.8\" cy=\"-12.8\" rx=\"1.8\" ry=\"1.8\"/>\n",
       "</g>\n",
       "<!-- n2 -->\n",
       "<g id=\"node2\" class=\"node\">\n",
       "<title>n2</title>\n",
       "<ellipse fill=\"black\" stroke=\"black\" cx=\"41.4\" cy=\"-12.8\" rx=\"1.8\" ry=\"1.8\"/>\n",
       "</g>\n",
       "<!-- n1&#45;&gt;n2 -->\n",
       "<g id=\"edge1\" class=\"edge\">\n",
       "<title>n1&#45;&gt;n2</title>\n",
       "<path fill=\"none\" stroke=\"black\" d=\"M3.73,-12.8C7.85,-12.8 24.64,-12.8 34.01,-12.8\"/>\n",
       "<polygon fill=\"black\" stroke=\"black\" points=\"34.06,-14.55 39.06,-12.8 34.06,-11.05 34.06,-14.55\"/>\n",
       "</g>\n",
       "<!-- n3 -->\n",
       "<g id=\"node3\" class=\"node\">\n",
       "<title>n3</title>\n",
       "<ellipse fill=\"black\" stroke=\"black\" cx=\"81\" cy=\"-23.8\" rx=\"1.8\" ry=\"1.8\"/>\n",
       "</g>\n",
       "<!-- n2&#45;&gt;n3 -->\n",
       "<g id=\"edge2\" class=\"edge\">\n",
       "<title>n2&#45;&gt;n3</title>\n",
       "<path fill=\"none\" stroke=\"black\" d=\"M43.33,-13.07C47.45,-14.28 64.24,-19.19 73.61,-21.93\"/>\n",
       "<polygon fill=\"black\" stroke=\"black\" points=\"73.37,-23.68 78.66,-23.41 74.35,-20.32 73.37,-23.68\"/>\n",
       "</g>\n",
       "<!-- n4 -->\n",
       "<g id=\"node4\" class=\"node\">\n",
       "<title>n4</title>\n",
       "<ellipse fill=\"black\" stroke=\"black\" cx=\"81\" cy=\"-1.8\" rx=\"1.8\" ry=\"1.8\"/>\n",
       "</g>\n",
       "<!-- n2&#45;&gt;n4 -->\n",
       "<g id=\"edge3\" class=\"edge\">\n",
       "<title>n2&#45;&gt;n4</title>\n",
       "<path fill=\"none\" stroke=\"black\" d=\"M43.33,-12.53C47.45,-11.32 64.24,-6.41 73.61,-3.67\"/>\n",
       "<polygon fill=\"black\" stroke=\"black\" points=\"74.35,-5.28 78.66,-2.19 73.37,-1.92 74.35,-5.28\"/>\n",
       "</g>\n",
       "</g>\n",
       "</svg>\n"
      ],
      "text/plain": [
       "Catlab.Graphics.Graphviz.Graph(\"G\", true, \"dot\", Catlab.Graphics.Graphviz.Statement[Catlab.Graphics.Graphviz.Node(\"n1\", OrderedCollections.OrderedDict{Symbol,Union{String, Catlab.Graphics.Graphviz.Html}}(:label => \"\")), Catlab.Graphics.Graphviz.Node(\"n2\", OrderedCollections.OrderedDict{Symbol,Union{String, Catlab.Graphics.Graphviz.Html}}(:label => \"\")), Catlab.Graphics.Graphviz.Node(\"n3\", OrderedCollections.OrderedDict{Symbol,Union{String, Catlab.Graphics.Graphviz.Html}}(:label => \"\")), Catlab.Graphics.Graphviz.Node(\"n4\", OrderedCollections.OrderedDict{Symbol,Union{String, Catlab.Graphics.Graphviz.Html}}(:label => \"\")), Catlab.Graphics.Graphviz.Edge(Catlab.Graphics.Graphviz.NodeID[Catlab.Graphics.Graphviz.NodeID(\"n1\", \"\", \"\"), Catlab.Graphics.Graphviz.NodeID(\"n2\", \"\", \"\")], OrderedCollections.OrderedDict{Symbol,Union{String, Catlab.Graphics.Graphviz.Html}}()), Catlab.Graphics.Graphviz.Edge(Catlab.Graphics.Graphviz.NodeID[Catlab.Graphics.Graphviz.NodeID(\"n2\", \"\", \"\"), Catlab.Graphics.Graphviz.NodeID(\"n3\", \"\", \"\")], OrderedCollections.OrderedDict{Symbol,Union{String, Catlab.Graphics.Graphviz.Html}}()), Catlab.Graphics.Graphviz.Edge(Catlab.Graphics.Graphviz.NodeID[Catlab.Graphics.Graphviz.NodeID(\"n2\", \"\", \"\"), Catlab.Graphics.Graphviz.NodeID(\"n4\", \"\", \"\")], OrderedCollections.OrderedDict{Symbol,Union{String, Catlab.Graphics.Graphviz.Html}}())], OrderedCollections.OrderedDict{Symbol,Union{String, Catlab.Graphics.Graphviz.Html}}(:rankdir => \"LR\"), OrderedCollections.OrderedDict{Symbol,Union{String, Catlab.Graphics.Graphviz.Html}}(:height => \"0.05\",:margin => \"0\",:shape => \"point\",:width => \"0.05\"), OrderedCollections.OrderedDict{Symbol,Union{String, Catlab.Graphics.Graphviz.Html}}(:arrowsize => \"0.5\"))"
      ]
     },
     "execution_count": 4,
     "metadata": {},
     "output_type": "execute_result"
    }
   ],
   "source": [
    "using Catlab.Graphics\n",
    "\n",
    "to_graphviz(g)"
   ]
  },
  {
   "cell_type": "code",
   "execution_count": 5,
   "id": "revolutionary-grass",
   "metadata": {},
   "outputs": [
    {
     "data": {
      "image/svg+xml": [
       "<?xml version=\"1.0\" encoding=\"UTF-8\" standalone=\"no\"?>\n",
       "<!DOCTYPE svg PUBLIC \"-//W3C//DTD SVG 1.1//EN\"\n",
       " \"http://www.w3.org/Graphics/SVG/1.1/DTD/svg11.dtd\">\n",
       "<!-- Generated by graphviz version 2.44.1 (20200629.0846)\n",
       " -->\n",
       "<!-- Title: G Pages: 1 -->\n",
       "<svg width=\"158pt\" height=\"68pt\"\n",
       " viewBox=\"0.00 0.00 157.64 68.21\" xmlns=\"http://www.w3.org/2000/svg\" xmlns:xlink=\"http://www.w3.org/1999/xlink\">\n",
       "<g id=\"graph0\" class=\"graph\" transform=\"scale(1 1) rotate(0) translate(4 64.21)\">\n",
       "<title>G</title>\n",
       "<polygon fill=\"white\" stroke=\"transparent\" points=\"-4,4 -4,-64.21 153.64,-64.21 153.64,4 -4,4\"/>\n",
       "<!-- n1 -->\n",
       "<g id=\"node1\" class=\"node\">\n",
       "<title>n1</title>\n",
       "<ellipse fill=\"none\" stroke=\"black\" cx=\"10.61\" cy=\"-29.61\" rx=\"10.71\" ry=\"10.71\"/>\n",
       "<text text-anchor=\"middle\" x=\"10.61\" y=\"-25.91\" font-family=\"Times,serif\" font-size=\"14.00\">1</text>\n",
       "</g>\n",
       "<!-- n2 -->\n",
       "<g id=\"node2\" class=\"node\">\n",
       "<title>n2</title>\n",
       "<ellipse fill=\"none\" stroke=\"black\" cx=\"74.82\" cy=\"-29.61\" rx=\"10.71\" ry=\"10.71\"/>\n",
       "<text text-anchor=\"middle\" x=\"74.82\" y=\"-25.91\" font-family=\"Times,serif\" font-size=\"14.00\">2</text>\n",
       "</g>\n",
       "<!-- n1&#45;&gt;n2 -->\n",
       "<g id=\"edge1\" class=\"edge\">\n",
       "<title>n1&#45;&gt;n2</title>\n",
       "<path fill=\"none\" stroke=\"black\" d=\"M21.33,-29.61C31.4,-29.61 47.28,-29.61 58.94,-29.61\"/>\n",
       "<polygon fill=\"black\" stroke=\"black\" points=\"58.96,-31.36 63.96,-29.61 58.96,-27.86 58.96,-31.36\"/>\n",
       "<text text-anchor=\"middle\" x=\"42.71\" y=\"-33.41\" font-family=\"Times,serif\" font-size=\"14.00\">1</text>\n",
       "</g>\n",
       "<!-- n3 -->\n",
       "<g id=\"node3\" class=\"node\">\n",
       "<title>n3</title>\n",
       "<ellipse fill=\"none\" stroke=\"black\" cx=\"139.03\" cy=\"-49.61\" rx=\"10.71\" ry=\"10.71\"/>\n",
       "<text text-anchor=\"middle\" x=\"139.03\" y=\"-45.91\" font-family=\"Times,serif\" font-size=\"14.00\">3</text>\n",
       "</g>\n",
       "<!-- n2&#45;&gt;n3 -->\n",
       "<g id=\"edge2\" class=\"edge\">\n",
       "<title>n2&#45;&gt;n3</title>\n",
       "<path fill=\"none\" stroke=\"black\" d=\"M85.27,-32.64C95.41,-35.9 111.64,-41.12 123.43,-44.91\"/>\n",
       "<polygon fill=\"black\" stroke=\"black\" points=\"123.2,-46.68 128.5,-46.54 124.27,-43.34 123.2,-46.68\"/>\n",
       "<text text-anchor=\"middle\" x=\"106.93\" y=\"-43.41\" font-family=\"Times,serif\" font-size=\"14.00\">2</text>\n",
       "</g>\n",
       "<!-- n4 -->\n",
       "<g id=\"node4\" class=\"node\">\n",
       "<title>n4</title>\n",
       "<ellipse fill=\"none\" stroke=\"black\" cx=\"139.03\" cy=\"-10.61\" rx=\"10.71\" ry=\"10.71\"/>\n",
       "<text text-anchor=\"middle\" x=\"139.03\" y=\"-6.91\" font-family=\"Times,serif\" font-size=\"14.00\">4</text>\n",
       "</g>\n",
       "<!-- n2&#45;&gt;n4 -->\n",
       "<g id=\"edge3\" class=\"edge\">\n",
       "<title>n2&#45;&gt;n4</title>\n",
       "<path fill=\"none\" stroke=\"black\" d=\"M83.52,-23.42C88.79,-19.56 96.12,-14.9 103.43,-12.61 109.67,-10.64 116.85,-9.99 123.05,-9.88\"/>\n",
       "<polygon fill=\"black\" stroke=\"black\" points=\"123.39,-11.63 128.41,-9.92 123.42,-8.13 123.39,-11.63\"/>\n",
       "<text text-anchor=\"middle\" x=\"106.93\" y=\"-16.41\" font-family=\"Times,serif\" font-size=\"14.00\">3</text>\n",
       "</g>\n",
       "</g>\n",
       "</svg>\n"
      ],
      "text/plain": [
       "Catlab.Graphics.Graphviz.Graph(\"G\", true, \"dot\", Catlab.Graphics.Graphviz.Statement[Catlab.Graphics.Graphviz.Node(\"n1\", OrderedCollections.OrderedDict{Symbol,Union{String, Catlab.Graphics.Graphviz.Html}}(:label => \"1\")), Catlab.Graphics.Graphviz.Node(\"n2\", OrderedCollections.OrderedDict{Symbol,Union{String, Catlab.Graphics.Graphviz.Html}}(:label => \"2\")), Catlab.Graphics.Graphviz.Node(\"n3\", OrderedCollections.OrderedDict{Symbol,Union{String, Catlab.Graphics.Graphviz.Html}}(:label => \"3\")), Catlab.Graphics.Graphviz.Node(\"n4\", OrderedCollections.OrderedDict{Symbol,Union{String, Catlab.Graphics.Graphviz.Html}}(:label => \"4\")), Catlab.Graphics.Graphviz.Edge(Catlab.Graphics.Graphviz.NodeID[Catlab.Graphics.Graphviz.NodeID(\"n1\", \"\", \"\"), Catlab.Graphics.Graphviz.NodeID(\"n2\", \"\", \"\")], OrderedCollections.OrderedDict{Symbol,Union{String, Catlab.Graphics.Graphviz.Html}}(:label => \"1\")), Catlab.Graphics.Graphviz.Edge(Catlab.Graphics.Graphviz.NodeID[Catlab.Graphics.Graphviz.NodeID(\"n2\", \"\", \"\"), Catlab.Graphics.Graphviz.NodeID(\"n3\", \"\", \"\")], OrderedCollections.OrderedDict{Symbol,Union{String, Catlab.Graphics.Graphviz.Html}}(:label => \"2\")), Catlab.Graphics.Graphviz.Edge(Catlab.Graphics.Graphviz.NodeID[Catlab.Graphics.Graphviz.NodeID(\"n2\", \"\", \"\"), Catlab.Graphics.Graphviz.NodeID(\"n4\", \"\", \"\")], OrderedCollections.OrderedDict{Symbol,Union{String, Catlab.Graphics.Graphviz.Html}}(:label => \"3\"))], OrderedCollections.OrderedDict{Symbol,Union{String, Catlab.Graphics.Graphviz.Html}}(:rankdir => \"LR\"), OrderedCollections.OrderedDict{Symbol,Union{String, Catlab.Graphics.Graphviz.Html}}(:height => \"0.05\",:margin => \"0\",:shape => \"circle\",:width => \"0.05\"), OrderedCollections.OrderedDict{Symbol,Union{String, Catlab.Graphics.Graphviz.Html}}(:arrowsize => \"0.5\"))"
      ]
     },
     "execution_count": 5,
     "metadata": {},
     "output_type": "execute_result"
    }
   ],
   "source": [
    "to_graphviz(g, node_labels=true, edge_labels=true)"
   ]
  },
  {
   "cell_type": "markdown",
   "id": "considerable-consistency",
   "metadata": {},
   "source": [
    "Catlab includes helper functions for graphs, but they just wrap the C-sets API."
   ]
  },
  {
   "cell_type": "code",
   "execution_count": 6,
   "id": "based-vitamin",
   "metadata": {},
   "outputs": [
    {
     "data": {
      "text/plain": [
       "true"
      ]
     },
     "execution_count": 6,
     "metadata": {},
     "output_type": "execute_result"
    }
   ],
   "source": [
    "h = Graph()\n",
    "add_vertices!(h, 4)\n",
    "add_edges!(h, [1,2,2], [2,3,4])\n",
    "g == h"
   ]
  },
  {
   "cell_type": "markdown",
   "id": "increasing-feedback",
   "metadata": {},
   "source": [
    "### C-sets API\n",
    "\n",
    "The core API for C-sets is simple:\n",
    "\n",
    "- `add_part(s)!` and `rem_part(s)!`: add and remove parts\n",
    "- `subpart` and `set_subpart(s)!` (also indexing notation): get/set subparts\n",
    "- `incident`: inverse images of subparts, using indices if available\n",
    "\n",
    "Illustrated below in context of `Graphs` API:"
   ]
  },
  {
   "cell_type": "code",
   "execution_count": 7,
   "id": "worst-authentication",
   "metadata": {},
   "outputs": [
    {
     "data": {
      "text/plain": [
       "true"
      ]
     },
     "execution_count": 7,
     "metadata": {},
     "output_type": "execute_result"
    }
   ],
   "source": [
    "subpart(g, 1, :tgt) == tgt(g, 1) # Target vertex of edge 1."
   ]
  },
  {
   "cell_type": "code",
   "execution_count": 8,
   "id": "incident-communist",
   "metadata": {},
   "outputs": [
    {
     "data": {
      "text/plain": [
       "2-element Array{Int64,1}:\n",
       " 2\n",
       " 3"
      ]
     },
     "execution_count": 8,
     "metadata": {},
     "output_type": "execute_result"
    }
   ],
   "source": [
    "incident(g, 2, :src) # Edges having vertex 2 as source."
   ]
  },
  {
   "cell_type": "markdown",
   "id": "dressed-investing",
   "metadata": {},
   "source": [
    "Inverse images needed for efficient graph traversals:"
   ]
  },
  {
   "cell_type": "code",
   "execution_count": 9,
   "id": "naked-jewelry",
   "metadata": {},
   "outputs": [
    {
     "data": {
      "text/plain": [
       "true"
      ]
     },
     "execution_count": 9,
     "metadata": {},
     "output_type": "execute_result"
    }
   ],
   "source": [
    "outneighbors(g, 2) == [ tgt(g, e) for e in incident(g, 2, :src) ]"
   ]
  },
  {
   "cell_type": "markdown",
   "id": "smooth-concert",
   "metadata": {},
   "source": [
    "### C-sets implementation\n",
    "\n",
    "In Catlab, a $\\mathcal{C}$-set consists of two things, tables and indices."
   ]
  },
  {
   "cell_type": "code",
   "execution_count": 10,
   "id": "seasonal-firmware",
   "metadata": {},
   "outputs": [
    {
     "data": {
      "text/plain": [
       "(:V, :E)"
      ]
     },
     "execution_count": 10,
     "metadata": {},
     "output_type": "execute_result"
    }
   ],
   "source": [
    "keys(tables(g))"
   ]
  },
  {
   "cell_type": "markdown",
   "id": "cloudy-paraguay",
   "metadata": {},
   "source": [
    "In a graph, $V$-table is trivial (zero columns) and $E$ has two columns:"
   ]
  },
  {
   "cell_type": "code",
   "execution_count": 11,
   "id": "guilty-category",
   "metadata": {},
   "outputs": [
    {
     "data": {
      "text/plain": [
       "Table with 2 columns and 3 rows:\n",
       "     src  tgt\n",
       "   ┌─────────\n",
       " 1 │ 1    2\n",
       " 2 │ 2    3\n",
       " 3 │ 2    4"
      ]
     },
     "execution_count": 11,
     "metadata": {},
     "output_type": "execute_result"
    }
   ],
   "source": [
    "tables(g)[:E]"
   ]
  },
  {
   "cell_type": "markdown",
   "id": "raising-personal",
   "metadata": {},
   "source": [
    "Indices are private and are controlled by `index` keyword to `CSetType`:\n",
    "\n",
    "```julia\n",
    "const Graph = CSetType(SchemaGraphs, index=[:src,:tgt])\n",
    "```"
   ]
  },
  {
   "cell_type": "code",
   "execution_count": 12,
   "id": "formed-ottawa",
   "metadata": {},
   "outputs": [
    {
     "data": {
      "text/plain": [
       "4-element view(::Array{Array{Int64,1},1}, :) with eltype Array{Int64,1}:\n",
       " [1]\n",
       " [2, 3]\n",
       " []\n",
       " []"
      ]
     },
     "execution_count": 12,
     "metadata": {},
     "output_type": "execute_result"
    }
   ],
   "source": [
    "incident(g, :, :src)"
   ]
  },
  {
   "cell_type": "markdown",
   "id": "understanding-bible",
   "metadata": {},
   "source": [
    "Such indices generalize the [adjacency list](https://en.wikipedia.org/wiki/Adjacency_list) representation of a graph."
   ]
  },
  {
   "cell_type": "markdown",
   "id": "african-diabetes",
   "metadata": {},
   "source": [
    "### Graphs and beyond\n",
    "\n",
    "Following are $\\mathcal{C}$-sets for suitable $\\mathcal{C}$:\n",
    "\n",
    "- \"undirected\" graphs: symmetric graphs and half-edge graphs\n",
    "- reflexive graphs\n",
    "- bipartite graphs\n",
    "- wiring diagrams, directed and undirected, via `Catlab.WiringDiagrams`\n",
    "- whole-grain Petri nets ([Kock 2020](https://arxiv.org/abs/2005.05108)), via [AlgebraicPetri.jl](https://github.com/AlgebraicJulia/AlgebraicPetri.jl)\n",
    "- *coming soon*: simplicial sets, via [CombinatorialSpaces.jl](https://github.com/AlgebraicJulia/CombinatorialSpaces.jl)"
   ]
  },
  {
   "cell_type": "markdown",
   "id": "geological-platinum",
   "metadata": {},
   "source": [
    "## Data frames and attributed C-sets\n",
    "\n",
    "A **data frame** (or **data table**) with $k$ columns and $n$ rows can be regarded as a *multispan* in $\\mathbf{Set}$ with $k$ legs and apex $[n] := \\{1,2,\\dots,n\\}$."
   ]
  },
  {
   "cell_type": "code",
   "execution_count": 13,
   "id": "lyric-intelligence",
   "metadata": {
    "jupyter": {
     "source_hidden": true
    }
   },
   "outputs": [
    {
     "data": {
      "image/svg+xml": [
       "<?xml version=\"1.0\" encoding=\"UTF-8\"?>\n",
       "<svg xmlns=\"http://www.w3.org/2000/svg\" xmlns:xlink=\"http://www.w3.org/1999/xlink\" width=\"313.547pt\" height=\"77.441pt\" viewBox=\"0 0 313.547 77.441\" version=\"1.1\">\n",
       "<defs>\n",
       "<g>\n",
       "<symbol overflow=\"visible\" id=\"glyph-1611121169999028-0-0\">\n",
       "<path style=\"stroke:none;\" d=\"\"/>\n",
       "</symbol>\n",
       "<symbol overflow=\"visible\" id=\"glyph-1611121169999028-0-1\">\n",
       "<path style=\"stroke:none;\" d=\"M 3.8125 3.734375 L 3.8125 3.140625 L 2.359375 3.140625 L 2.359375 -10.609375 L 3.8125 -10.609375 L 3.8125 -11.203125 L 1.765625 -11.203125 L 1.765625 3.734375 Z M 3.8125 3.734375 \"/>\n",
       "</symbol>\n",
       "<symbol overflow=\"visible\" id=\"glyph-1611121169999028-0-2\">\n",
       "<path style=\"stroke:none;\" d=\"M 2.375 -11.203125 L 0.328125 -11.203125 L 0.328125 -10.609375 L 1.78125 -10.609375 L 1.78125 3.140625 L 0.328125 3.140625 L 0.328125 3.734375 L 2.375 3.734375 Z M 2.375 -11.203125 \"/>\n",
       "</symbol>\n",
       "<symbol overflow=\"visible\" id=\"glyph-1611121169999028-1-0\">\n",
       "<path style=\"stroke:none;\" d=\"\"/>\n",
       "</symbol>\n",
       "<symbol overflow=\"visible\" id=\"glyph-1611121169999028-1-1\">\n",
       "<path style=\"stroke:none;\" d=\"M 1.3125 -0.875 C 1.265625 -0.65625 1.1875 -0.3125 1.1875 -0.234375 C 1.1875 0.03125 1.390625 0.171875 1.609375 0.171875 C 1.796875 0.171875 2.0625 0.046875 2.171875 -0.25 C 2.1875 -0.28125 2.359375 -0.984375 2.453125 -1.359375 L 2.78125 -2.703125 C 2.875 -3.03125 2.953125 -3.359375 3.03125 -3.703125 C 3.09375 -3.953125 3.21875 -4.390625 3.21875 -4.453125 C 3.453125 -4.921875 4.25 -6.28125 5.65625 -6.28125 C 6.328125 -6.28125 6.46875 -5.71875 6.46875 -5.234375 C 6.46875 -4.296875 5.734375 -2.390625 5.5 -1.75 C 5.359375 -1.40625 5.34375 -1.21875 5.34375 -1.0625 C 5.34375 -0.359375 5.875 0.171875 6.578125 0.171875 C 7.984375 0.171875 8.53125 -2.015625 8.53125 -2.140625 C 8.53125 -2.28125 8.390625 -2.28125 8.34375 -2.28125 C 8.203125 -2.28125 8.203125 -2.234375 8.125 -2.015625 C 7.828125 -1 7.328125 -0.171875 6.609375 -0.171875 C 6.34375 -0.171875 6.25 -0.3125 6.25 -0.65625 C 6.25 -1.03125 6.375 -1.390625 6.515625 -1.71875 C 6.796875 -2.515625 7.421875 -4.15625 7.421875 -5 C 7.421875 -6 6.78125 -6.609375 5.703125 -6.609375 C 4.359375 -6.609375 3.625 -5.640625 3.375 -5.296875 C 3.296875 -6.140625 2.6875 -6.609375 2 -6.609375 C 1.3125 -6.609375 1.03125 -6.015625 0.875 -5.75 C 0.640625 -5.25 0.4375 -4.359375 0.4375 -4.296875 C 0.4375 -4.15625 0.578125 -4.15625 0.609375 -4.15625 C 0.765625 -4.15625 0.78125 -4.171875 0.859375 -4.5 C 1.125 -5.5625 1.421875 -6.28125 1.953125 -6.28125 C 2.25 -6.28125 2.421875 -6.078125 2.421875 -5.59375 C 2.421875 -5.265625 2.375 -5.109375 2.1875 -4.328125 Z M 1.3125 -0.875 \"/>\n",
       "</symbol>\n",
       "<symbol overflow=\"visible\" id=\"glyph-1611121169999028-1-2\">\n",
       "<path style=\"stroke:none;\" d=\"M 2.671875 -1.71875 C 2.078125 -0.71875 1.5 -0.515625 0.84375 -0.46875 C 0.65625 -0.453125 0.515625 -0.453125 0.515625 -0.171875 C 0.515625 -0.078125 0.59375 0 0.71875 0 C 1.125 0 1.578125 -0.046875 2 -0.046875 C 2.5 -0.046875 3.015625 0 3.5 0 C 3.578125 0 3.78125 0 3.78125 -0.28125 C 3.78125 -0.453125 3.640625 -0.46875 3.546875 -0.46875 C 3.203125 -0.5 2.84375 -0.609375 2.84375 -0.984375 C 2.84375 -1.171875 2.921875 -1.328125 3.046875 -1.53125 L 4.1875 -3.453125 L 7.9375 -3.453125 C 7.96875 -3.140625 8.171875 -1.109375 8.171875 -0.953125 C 8.171875 -0.515625 7.390625 -0.46875 7.09375 -0.46875 C 6.890625 -0.46875 6.734375 -0.46875 6.734375 -0.171875 C 6.734375 0 6.921875 0 6.953125 0 C 7.5625 0 8.203125 -0.046875 8.8125 -0.046875 C 9.1875 -0.046875 10.125 0 10.5 0 C 10.59375 0 10.765625 0 10.765625 -0.296875 C 10.765625 -0.46875 10.625 -0.46875 10.421875 -0.46875 C 9.5 -0.46875 9.5 -0.5625 9.453125 -1 L 8.546875 -10.34375 C 8.515625 -10.640625 8.515625 -10.6875 8.265625 -10.6875 C 8.015625 -10.6875 7.96875 -10.59375 7.875 -10.4375 Z M 4.46875 -3.90625 L 7.40625 -8.84375 L 7.890625 -3.90625 Z M 4.46875 -3.90625 \"/>\n",
       "</symbol>\n",
       "<symbol overflow=\"visible\" id=\"glyph-1611121169999028-1-3\">\n",
       "<path style=\"stroke:none;\" d=\"M 2.875 -0.796875 C 2.875 -1.21875 2.515625 -1.578125 2.078125 -1.578125 C 1.640625 -1.578125 1.28125 -1.21875 1.28125 -0.796875 C 1.28125 -0.359375 1.640625 0 2.078125 0 C 2.515625 0 2.875 -0.359375 2.875 -0.796875 Z M 2.875 -0.796875 \"/>\n",
       "</symbol>\n",
       "<symbol overflow=\"visible\" id=\"glyph-1611121169999028-2-0\">\n",
       "<path style=\"stroke:none;\" d=\"\"/>\n",
       "</symbol>\n",
       "<symbol overflow=\"visible\" id=\"glyph-1611121169999028-2-1\">\n",
       "<path style=\"stroke:none;\" d=\"M 3.5 -6.640625 C 3.5 -6.9375 3.484375 -6.9375 3.1875 -6.9375 C 2.515625 -6.28125 1.5625 -6.265625 1.140625 -6.265625 L 1.140625 -5.890625 C 1.390625 -5.890625 2.078125 -5.890625 2.65625 -6.1875 L 2.65625 -0.859375 C 2.65625 -0.515625 2.65625 -0.375 1.609375 -0.375 L 1.21875 -0.375 L 1.21875 0 C 1.40625 -0.015625 2.6875 -0.046875 3.078125 -0.046875 C 3.390625 -0.046875 4.71875 -0.015625 4.9375 0 L 4.9375 -0.375 L 4.546875 -0.375 C 3.5 -0.375 3.5 -0.515625 3.5 -0.859375 Z M 3.5 -6.640625 \"/>\n",
       "</symbol>\n",
       "<symbol overflow=\"visible\" id=\"glyph-1611121169999028-2-2\">\n",
       "<path style=\"stroke:none;\" d=\"M 5.28125 -1.90625 L 4.921875 -1.90625 C 4.890625 -1.671875 4.78125 -1.0625 4.65625 -0.953125 C 4.5625 -0.890625 3.765625 -0.890625 3.609375 -0.890625 L 1.6875 -0.890625 C 2.796875 -1.859375 3.15625 -2.15625 3.78125 -2.640625 C 4.5625 -3.265625 5.28125 -3.90625 5.28125 -4.90625 C 5.28125 -6.171875 4.171875 -6.9375 2.828125 -6.9375 C 1.53125 -6.9375 0.65625 -6.03125 0.65625 -5.0625 C 0.65625 -4.53125 1.109375 -4.484375 1.21875 -4.484375 C 1.46875 -4.484375 1.765625 -4.65625 1.765625 -5.03125 C 1.765625 -5.234375 1.6875 -5.59375 1.15625 -5.59375 C 1.46875 -6.328125 2.1875 -6.5625 2.671875 -6.5625 C 3.71875 -6.5625 4.265625 -5.75 4.265625 -4.90625 C 4.265625 -4 3.609375 -3.265625 3.28125 -2.890625 L 0.765625 -0.40625 C 0.65625 -0.3125 0.65625 -0.296875 0.65625 0 L 4.96875 0 Z M 5.28125 -1.90625 \"/>\n",
       "</symbol>\n",
       "<symbol overflow=\"visible\" id=\"glyph-1611121169999028-3-0\">\n",
       "<path style=\"stroke:none;\" d=\"\"/>\n",
       "</symbol>\n",
       "<symbol overflow=\"visible\" id=\"glyph-1611121169999028-3-1\">\n",
       "<path style=\"stroke:none;\" d=\"M 3.265625 -6.9375 C 3.28125 -6.96875 3.3125 -7.09375 3.3125 -7.109375 C 3.3125 -7.15625 3.265625 -7.25 3.140625 -7.25 C 2.9375 -7.25 2.0625 -7.171875 1.8125 -7.15625 C 1.71875 -7.140625 1.578125 -7.125 1.578125 -6.90625 C 1.578125 -6.765625 1.71875 -6.765625 1.84375 -6.765625 C 2.359375 -6.765625 2.359375 -6.6875 2.359375 -6.609375 C 2.359375 -6.53125 2.328125 -6.46875 2.3125 -6.375 L 0.84375 -0.453125 C 0.78125 -0.265625 0.78125 -0.25 0.78125 -0.234375 C 0.78125 -0.078125 0.90625 0.109375 1.140625 0.109375 C 1.421875 0.109375 1.5625 -0.109375 1.625 -0.328125 C 1.640625 -0.375 2.09375 -2.21875 2.125 -2.359375 C 2.875 -2.296875 3.46875 -2.046875 3.46875 -1.5 C 3.46875 -1.453125 3.46875 -1.40625 3.453125 -1.296875 C 3.40625 -1.140625 3.40625 -1.09375 3.40625 -0.96875 C 3.40625 -0.234375 4.015625 0.109375 4.515625 0.109375 C 5.53125 0.109375 5.84375 -1.484375 5.84375 -1.5 C 5.84375 -1.625 5.703125 -1.625 5.671875 -1.625 C 5.53125 -1.625 5.515625 -1.578125 5.46875 -1.375 C 5.34375 -0.9375 5.0625 -0.1875 4.546875 -0.1875 C 4.265625 -0.1875 4.1875 -0.453125 4.1875 -0.734375 C 4.1875 -0.90625 4.1875 -0.9375 4.25 -1.203125 C 4.25 -1.234375 4.296875 -1.40625 4.296875 -1.53125 C 4.296875 -2.453125 3.046875 -2.609375 2.609375 -2.640625 C 2.90625 -2.828125 3.296875 -3.171875 3.46875 -3.328125 C 4 -3.828125 4.53125 -4.3125 5.109375 -4.3125 C 5.234375 -4.3125 5.375 -4.28125 5.453125 -4.1875 C 5 -4.109375 4.90625 -3.75 4.90625 -3.59375 C 4.90625 -3.359375 5.09375 -3.203125 5.328125 -3.203125 C 5.609375 -3.203125 5.921875 -3.4375 5.921875 -3.875 C 5.921875 -4.21875 5.671875 -4.609375 5.125 -4.609375 C 4.53125 -4.609375 3.984375 -4.1875 3.453125 -3.6875 C 3.015625 -3.265625 2.671875 -2.953125 2.234375 -2.765625 Z M 3.265625 -6.9375 \"/>\n",
       "</symbol>\n",
       "<symbol overflow=\"visible\" id=\"glyph-1611121169999028-4-0\">\n",
       "<path style=\"stroke:none;\" d=\"\"/>\n",
       "</symbol>\n",
       "<symbol overflow=\"visible\" id=\"glyph-1611121169999028-4-1\">\n",
       "<path style=\"stroke:none;\" d=\"M 7.78125 -2.359375 C 7.9375 -2.359375 8.203125 -2.359375 8.203125 -2.609375 C 8.203125 -2.875 7.953125 -2.875 7.78125 -2.875 L 1.546875 -2.875 C 1.375 -2.875 1.125 -2.875 1.125 -2.625 C 1.125 -2.359375 1.375 -2.359375 1.546875 -2.359375 Z M 7.78125 -2.359375 \"/>\n",
       "</symbol>\n",
       "</g>\n",
       "</defs>\n",
       "<g id=\"surface1\">\n",
       "<g style=\"fill:rgb(0%,0%,0%);fill-opacity:1;\">\n",
       "  <use xlink:href=\"#glyph-1611121169999028-0-1\" x=\"139.8405\" y=\"16.683\"/>\n",
       "</g>\n",
       "<g style=\"fill:rgb(0%,0%,0%);fill-opacity:1;\">\n",
       "  <use xlink:href=\"#glyph-1611121169999028-1-1\" x=\"143.991\" y=\"16.683\"/>\n",
       "</g>\n",
       "<g style=\"fill:rgb(0%,0%,0%);fill-opacity:1;\">\n",
       "  <use xlink:href=\"#glyph-1611121169999028-0-2\" x=\"152.961\" y=\"16.683\"/>\n",
       "</g>\n",
       "<g style=\"fill:rgb(0%,0%,0%);fill-opacity:1;\">\n",
       "  <use xlink:href=\"#glyph-1611121169999028-1-2\" x=\"6.441\" y=\"68.4795\"/>\n",
       "</g>\n",
       "<g style=\"fill:rgb(0%,0%,0%);fill-opacity:1;\">\n",
       "  <use xlink:href=\"#glyph-1611121169999028-2-1\" x=\"17.649\" y=\"70.7205\"/>\n",
       "</g>\n",
       "<g style=\"fill:rgb(0%,0%,0%);fill-opacity:1;\">\n",
       "  <use xlink:href=\"#glyph-1611121169999028-1-2\" x=\"73.0995\" y=\"68.4795\"/>\n",
       "</g>\n",
       "<g style=\"fill:rgb(0%,0%,0%);fill-opacity:1;\">\n",
       "  <use xlink:href=\"#glyph-1611121169999028-2-2\" x=\"84.3075\" y=\"70.7205\"/>\n",
       "</g>\n",
       "<g style=\"fill:rgb(0%,0%,0%);fill-opacity:1;\">\n",
       "  <use xlink:href=\"#glyph-1611121169999028-1-3\" x=\"139.7595\" y=\"68.4795\"/>\n",
       "</g>\n",
       "<g style=\"fill:rgb(0%,0%,0%);fill-opacity:1;\">\n",
       "  <use xlink:href=\"#glyph-1611121169999028-1-3\" x=\"146.391629\" y=\"68.4795\"/>\n",
       "</g>\n",
       "<g style=\"fill:rgb(0%,0%,0%);fill-opacity:1;\">\n",
       "  <use xlink:href=\"#glyph-1611121169999028-1-3\" x=\"153.038703\" y=\"68.4795\"/>\n",
       "</g>\n",
       "<g style=\"fill:rgb(0%,0%,0%);fill-opacity:1;\">\n",
       "  <use xlink:href=\"#glyph-1611121169999028-1-2\" x=\"205.941\" y=\"68.4795\"/>\n",
       "</g>\n",
       "<g style=\"fill:rgb(0%,0%,0%);fill-opacity:1;\">\n",
       "  <use xlink:href=\"#glyph-1611121169999028-3-1\" x=\"217.149\" y=\"70.7205\"/>\n",
       "</g>\n",
       "<g style=\"fill:rgb(0%,0%,0%);fill-opacity:1;\">\n",
       "  <use xlink:href=\"#glyph-1611121169999028-4-1\" x=\"223.7535\" y=\"70.7205\"/>\n",
       "</g>\n",
       "<g style=\"fill:rgb(0%,0%,0%);fill-opacity:1;\">\n",
       "  <use xlink:href=\"#glyph-1611121169999028-2-1\" x=\"233.094\" y=\"70.7205\"/>\n",
       "</g>\n",
       "<g style=\"fill:rgb(0%,0%,0%);fill-opacity:1;\">\n",
       "  <use xlink:href=\"#glyph-1611121169999028-1-2\" x=\"288.546\" y=\"68.4795\"/>\n",
       "</g>\n",
       "<g style=\"fill:rgb(0%,0%,0%);fill-opacity:1;\">\n",
       "  <use xlink:href=\"#glyph-1611121169999028-3-1\" x=\"299.754\" y=\"70.7205\"/>\n",
       "</g>\n",
       "<path style=\"fill:none;stroke-width:0.39848;stroke-linecap:butt;stroke-linejoin:miter;stroke:rgb(0%,0%,0%);stroke-opacity:1;stroke-miterlimit:10;\" d=\"M -15.781625 13.194208 L -83.417042 -13.136521 \" transform=\"matrix(1.5,0,0,-1.5,156.774,38.721)\"/>\n",
       "<path style=\"fill:none;stroke-width:0.39848;stroke-linecap:round;stroke-linejoin:round;stroke:rgb(0%,0%,0%);stroke-opacity:1;stroke-miterlimit:10;\" d=\"M -2.071237 2.391442 C -1.69376 0.956163 -0.85081 0.278685 -0.000441041 0.000748506 C -0.849517 -0.277954 -1.694415 -0.955123 -2.071393 -2.390143 \" transform=\"matrix(-1.39776,0.544125,0.544125,1.39776,31.37007,58.53435)\"/>\n",
       "<path style=\"fill:none;stroke-width:0.39848;stroke-linecap:butt;stroke-linejoin:miter;stroke:rgb(0%,0%,0%);stroke-opacity:1;stroke-miterlimit:10;\" d=\"M -15.781625 9.191604 L -39.034229 -8.946417 \" transform=\"matrix(1.5,0,0,-1.5,156.774,38.721)\"/>\n",
       "<path style=\"fill:none;stroke-width:0.39848;stroke-linecap:round;stroke-linejoin:round;stroke:rgb(0%,0%,0%);stroke-opacity:1;stroke-miterlimit:10;\" d=\"M -2.071857 2.392186 C -1.692215 0.95658 -0.849668 0.27954 -0.000622197 0.000374366 C -0.849314 -0.278911 -1.693539 -0.954715 -2.070833 -2.391082 \" transform=\"matrix(-1.182705,0.92256,0.92256,1.182705,97.9872,52.32435)\"/>\n",
       "<path style=\"fill:none;stroke-width:0.39848;stroke-linecap:butt;stroke-linejoin:miter;stroke:rgb(0%,0%,0%);stroke-opacity:1;stroke-miterlimit:10;\" d=\"M 4.718375 10.045771 L 32.012646 -8.954229 \" transform=\"matrix(1.5,0,0,-1.5,156.774,38.721)\"/>\n",
       "<path style=\"fill:none;stroke-width:0.39848;stroke-linecap:round;stroke-linejoin:round;stroke:rgb(0%,0%,0%);stroke-opacity:1;stroke-miterlimit:10;\" d=\"M -2.071307 2.390946 C -1.694187 0.955828 -0.848296 0.278599 -0.000308508 -0.000522441 C -0.850803 -0.278453 -1.692517 -0.956438 -2.071083 -2.390883 \" transform=\"matrix(1.23102,0.85698,0.85698,-1.23102,205.03989,52.32384)\"/>\n",
       "<path style=\"fill:none;stroke-width:0.39848;stroke-linecap:butt;stroke-linejoin:miter;stroke:rgb(0%,0%,0%);stroke-opacity:1;stroke-miterlimit:10;\" d=\"M 4.718375 13.629104 L 82.978792 -13.519333 \" transform=\"matrix(1.5,0,0,-1.5,156.774,38.721)\"/>\n",
       "<path style=\"fill:none;stroke-width:0.39848;stroke-linecap:round;stroke-linejoin:round;stroke:rgb(0%,0%,0%);stroke-opacity:1;stroke-miterlimit:10;\" d=\"M -2.071023 2.39015 C -1.694476 0.955072 -0.850279 0.277632 0.00141223 -0.000269568 C -0.850096 -0.279121 -1.692629 -0.957312 -2.072178 -2.390056 \" transform=\"matrix(1.417095,0.491595,0.491595,-1.417095,281.525475,59.09658)\"/>\n",
       "</g>\n",
       "</svg>\n",
       "\n"
      ],
      "text/plain": [
       "TikzPicture(\"&& {[n]} \\\\arrow[dll] \\\\arrow[dl] \\\\arrow[dr] \\\\arrow[drr] && \\\\\\\\\\nA_1 & A_2 & \\\\dots & A_{k-1} & A_k\", \"\", \"\\\\usepackage{tikz-cd}\\\\usepackage{amsmath,amssymb}\", \"tikzcd\", \"1.5\", \"1.5\", true, true)"
      ]
     },
     "execution_count": 13,
     "metadata": {},
     "output_type": "execute_result"
    }
   ],
   "source": [
    "using TikzPictures\n",
    "\n",
    "# XXX: Hack to increase size by scaling.\n",
    "TikzPictures.write_adjustbox_options(tex::IO, tp::TikzPicture) =\n",
    "    println(tex, \"\\\\begin{adjustbox}{scale=$(tp.width)}\")\n",
    "\n",
    "TikzCD(tex::AbstractString) = TikzPicture(\n",
    "    tex, width=\"1.5\", height=\"1.5\", environment=\"tikzcd\",\n",
    "    preamble=raw\"\\usepackage{tikz-cd}\\usepackage{amsmath,amssymb}\")\n",
    "\n",
    "TikzCD(raw\"\"\"\n",
    "    && {[n]} \\arrow[dll] \\arrow[dl] \\arrow[dr] \\arrow[drr] && \\\\\n",
    "    A_1 & A_2 & \\dots & A_{k-1} & A_k\"\"\")"
   ]
  },
  {
   "cell_type": "markdown",
   "id": "discrete-comfort",
   "metadata": {},
   "source": [
    "Can incorporate data attributes into $\\mathcal{C}$-sets by\n",
    "\n",
    "- just adding more objects and morphisms to $\\mathcal{C}$, or\n",
    "- extending the formalism beyond categories and functors  \n",
    "  ([Schultz, Spivak, Vasilakopoulou, Wisnesky 2017](http://www.tac.mta.ca/tac/volumes/32/16/32-16abs.html))\n",
    "\n",
    "The former is simpler but the latter is more faithful to computer implementations, including Catlab's implementation of *attributed $\\mathcal{C}$-sets*."
   ]
  },
  {
   "cell_type": "markdown",
   "id": "silver-bullet",
   "metadata": {},
   "source": [
    "### Example: weighted graphs"
   ]
  },
  {
   "cell_type": "code",
   "execution_count": 14,
   "id": "occupational-parking",
   "metadata": {},
   "outputs": [],
   "source": [
    "@present SchemaWeightedGraphs <: SchemaGraphs begin\n",
    "    Weight::Data\n",
    "    weight::Attr(E,Weight)\n",
    "end;"
   ]
  },
  {
   "cell_type": "markdown",
   "id": "mathematical-actress",
   "metadata": {},
   "source": [
    "Now would run\n",
    "\n",
    "```julia\n",
    "const WeightedGraph = ACSetType(SchemaWeightedGraphs,\n",
    "                                index=[:src,:tgt])\n",
    "```\n",
    "\n",
    "but again, this is built into `Catlab.Graphs`."
   ]
  },
  {
   "cell_type": "code",
   "execution_count": 15,
   "id": "valued-graph",
   "metadata": {},
   "outputs": [
    {
     "data": {
      "text/html": [
       "<div class=\"c-set\">\n",
       "<span class=\"c-set-summary\">ACSet with elements V = 1:4, E = 1:3</span>\n",
       "<table>\n",
       "  <tr class = \"header headerLastRow\">\n",
       "    <th class = rowNumber>E</th>\n",
       "    <th style = \"text-align: right; \">src</th>\n",
       "    <th style = \"text-align: right; \">tgt</th>\n",
       "    <th style = \"text-align: right; \">weight</th>\n",
       "  </tr>\n",
       "  <tr>\n",
       "    <td class = rowNumber>1</td>\n",
       "    <td style = \"text-align: right; \">1</td>\n",
       "    <td style = \"text-align: right; \">2</td>\n",
       "    <td style = \"text-align: right; \">0.5</td>\n",
       "  </tr>\n",
       "  <tr>\n",
       "    <td class = rowNumber>2</td>\n",
       "    <td style = \"text-align: right; \">2</td>\n",
       "    <td style = \"text-align: right; \">3</td>\n",
       "    <td style = \"text-align: right; \">1.5</td>\n",
       "  </tr>\n",
       "  <tr>\n",
       "    <td class = rowNumber>3</td>\n",
       "    <td style = \"text-align: right; \">2</td>\n",
       "    <td style = \"text-align: right; \">4</td>\n",
       "    <td style = \"text-align: right; \">1.5</td>\n",
       "  </tr>\n",
       "</table>\n",
       "</div>\n"
      ],
      "text/plain": [
       "ACSet with elements V = 1:4, E = 1:3\n",
       "┌───┬─────┬─────┬────────┐\n",
       "│\u001b[1m E \u001b[0m│\u001b[1m src \u001b[0m│\u001b[1m tgt \u001b[0m│\u001b[1m weight \u001b[0m│\n",
       "├───┼─────┼─────┼────────┤\n",
       "│ 1 │   1 │   2 │    0.5 │\n",
       "│ 2 │   2 │   3 │    1.5 │\n",
       "│ 3 │   2 │   4 │    1.5 │\n",
       "└───┴─────┴─────┴────────┘\n"
      ]
     },
     "execution_count": 15,
     "metadata": {},
     "output_type": "execute_result"
    }
   ],
   "source": [
    "g = WeightedGraph{Float64}()\n",
    "add_vertices!(g, 4)\n",
    "add_edges!(g, [1,2,2], [2,3,4], weight=[0.5, 1.5, 1.5])\n",
    "g"
   ]
  },
  {
   "cell_type": "code",
   "execution_count": 16,
   "id": "specified-fifteen",
   "metadata": {},
   "outputs": [
    {
     "data": {
      "text/plain": [
       "3-element Array{Float64,1}:\n",
       " 0.5\n",
       " 1.5\n",
       " 1.5"
      ]
     },
     "execution_count": 16,
     "metadata": {},
     "output_type": "execute_result"
    }
   ],
   "source": [
    "g[:weight]"
   ]
  },
  {
   "cell_type": "code",
   "execution_count": 17,
   "id": "distributed-kenya",
   "metadata": {},
   "outputs": [
    {
     "data": {
      "text/plain": [
       "3-element Array{Float64,1}:\n",
       " 0.5\n",
       " 1.5\n",
       " 2.5"
      ]
     },
     "execution_count": 17,
     "metadata": {},
     "output_type": "execute_result"
    }
   ],
   "source": [
    "g[3,:weight] = 2.5\n",
    "\n",
    "g[:weight]"
   ]
  },
  {
   "cell_type": "markdown",
   "id": "accurate-converter",
   "metadata": {},
   "source": [
    "### Technical note: static vs dynamic in Julia\n",
    "\n",
    "In Julia, data tables ([Tables.jl](https://github.com/JuliaData/Tables.jl) interface) can be:\n",
    "\n",
    "- **static**, with column spec fully typed, e.g. [TypedTables.jl](https://github.com/JuliaData/TypedTables.jl) and [StructArrays.jl](https://github.com/JuliaArrays/StructArrays.jl), or\n",
    "- **dynamic**, with columns dependent on the instance, e.g. [DataFrames.jl](https://github.com/JuliaData/DataFrames.jl)\n",
    "\n",
    "Leads to *compile-time* vs *runtime* tradeoff."
   ]
  },
  {
   "cell_type": "markdown",
   "id": "eight-shopping",
   "metadata": {},
   "source": [
    "Catlab's implementation of attributed $\\mathcal{C}$-sets is statically typed:\n",
    "\n",
    "- Schema is fully encoded in Julia type\n",
    "- Accessors and mutators are [`@generated` functions](https://docs.julialang.org/en/v1/manual/metaprogramming/#Generated-functions)\n",
    "- Pro: Very fast data structures, effectively hand-coded\n",
    "- Con: Will not scale well with large schemas\n",
    "\n",
    "Dynamic $\\mathcal{C}$-sets are a possibility for the future."
   ]
  },
  {
   "cell_type": "markdown",
   "id": "familiar-details",
   "metadata": {},
   "source": [
    "## A simple relational dataset: longitudinal data\n",
    "\n",
    "[Sitka](https://stat.ethz.ch/R-manual/R-devel/library/MASS/html/Sitka.html) dataset from the R package [MASS](https://cran.r-project.org/package=MASS):\n",
    "\n",
    "- Size measurements of Sitka spruce trees, in treatment (`ozone`) and control (`control`) groups\n",
    "- Longitudinal data: repeated measurements over time"
   ]
  },
  {
   "cell_type": "code",
   "execution_count": 18,
   "id": "straight-division",
   "metadata": {},
   "outputs": [
    {
     "data": {
      "text/html": [
       "<table class=\"data-frame\"><thead><tr><th></th><th>size</th><th>time</th><th>tree</th><th>treat</th></tr><tr><th></th><th>Float64</th><th>Int64</th><th>Int64</th><th>Cat…</th></tr></thead><tbody><p>395 rows × 4 columns</p><tr><th>1</th><td>4.51</td><td>152</td><td>1</td><td>ozone</td></tr><tr><th>2</th><td>4.98</td><td>174</td><td>1</td><td>ozone</td></tr><tr><th>3</th><td>5.41</td><td>201</td><td>1</td><td>ozone</td></tr><tr><th>4</th><td>5.9</td><td>227</td><td>1</td><td>ozone</td></tr><tr><th>5</th><td>6.15</td><td>258</td><td>1</td><td>ozone</td></tr><tr><th>6</th><td>4.24</td><td>152</td><td>2</td><td>ozone</td></tr><tr><th>7</th><td>4.2</td><td>174</td><td>2</td><td>ozone</td></tr><tr><th>8</th><td>4.68</td><td>201</td><td>2</td><td>ozone</td></tr><tr><th>9</th><td>4.92</td><td>227</td><td>2</td><td>ozone</td></tr><tr><th>10</th><td>4.96</td><td>258</td><td>2</td><td>ozone</td></tr><tr><th>&vellip;</th><td>&vellip;</td><td>&vellip;</td><td>&vellip;</td><td>&vellip;</td></tr></tbody></table>"
      ],
      "text/latex": [
       "\\begin{tabular}{r|cccc}\n",
       "\t& size & time & tree & treat\\\\\n",
       "\t\\hline\n",
       "\t& Float64 & Int64 & Int64 & Cat…\\\\\n",
       "\t\\hline\n",
       "\t1 & 4.51 & 152 & 1 & ozone \\\\\n",
       "\t2 & 4.98 & 174 & 1 & ozone \\\\\n",
       "\t3 & 5.41 & 201 & 1 & ozone \\\\\n",
       "\t4 & 5.9 & 227 & 1 & ozone \\\\\n",
       "\t5 & 6.15 & 258 & 1 & ozone \\\\\n",
       "\t6 & 4.24 & 152 & 2 & ozone \\\\\n",
       "\t7 & 4.2 & 174 & 2 & ozone \\\\\n",
       "\t8 & 4.68 & 201 & 2 & ozone \\\\\n",
       "\t9 & 4.92 & 227 & 2 & ozone \\\\\n",
       "\t10 & 4.96 & 258 & 2 & ozone \\\\\n",
       "\t$\\dots$ & $\\dots$ & $\\dots$ & $\\dots$ & $\\dots$ \\\\\n",
       "\\end{tabular}\n"
      ],
      "text/plain": [
       "\u001b[1m395×4 DataFrame\u001b[0m\n",
       "\u001b[1m Row \u001b[0m│\u001b[1m size    \u001b[0m\u001b[1m time  \u001b[0m\u001b[1m tree  \u001b[0m\u001b[1m treat   \u001b[0m\n",
       "\u001b[1m     \u001b[0m│\u001b[90m Float64 \u001b[0m\u001b[90m Int64 \u001b[0m\u001b[90m Int64 \u001b[0m\u001b[90m Cat…    \u001b[0m\n",
       "─────┼────────────────────────────────\n",
       "   1 │    4.51    152      1  ozone\n",
       "  ⋮  │    ⋮       ⋮      ⋮       ⋮\n",
       "\u001b[31m                      394 rows omitted\u001b[0m"
      ]
     },
     "metadata": {},
     "output_type": "display_data"
    }
   ],
   "source": [
    "using DataFrames\n",
    "import RDatasets\n",
    "\n",
    "sitka_df = RDatasets.dataset(\"MASS\", \"Sitka\")\n",
    "rename!(lowercase, sitka_df)\n",
    "mapcols!(sitka_df) do col\n",
    "    # Convert's R 32-bit integers to native integers.\n",
    "    eltype(col) == Int32 ? collect(Int, col) : col\n",
    "end\n",
    "\n",
    "withenv(\"LINES\" => 10) do; display(sitka_df) end"
   ]
  },
  {
   "cell_type": "markdown",
   "id": "flush-percentage",
   "metadata": {},
   "source": [
    "As a multispan, the Sitka data frame looks like:"
   ]
  },
  {
   "cell_type": "code",
   "execution_count": 19,
   "id": "biblical-baptist",
   "metadata": {
    "jupyter": {
     "source_hidden": true
    }
   },
   "outputs": [
    {
     "data": {
      "image/svg+xml": [
       "<?xml version=\"1.0\" encoding=\"UTF-8\"?>\n",
       "<svg xmlns=\"http://www.w3.org/2000/svg\" xmlns:xlink=\"http://www.w3.org/1999/xlink\" width=\"344.98pt\" height=\"76.652pt\" viewBox=\"0 0 344.98 76.652\" version=\"1.1\">\n",
       "<defs>\n",
       "<g>\n",
       "<symbol overflow=\"visible\" id=\"glyph-1611121169999029-0-0\">\n",
       "<path style=\"stroke:none;\" d=\"\"/>\n",
       "</symbol>\n",
       "<symbol overflow=\"visible\" id=\"glyph-1611121169999029-0-1\">\n",
       "<path style=\"stroke:none;\" d=\"M 3.8125 3.734375 L 3.8125 3.140625 L 2.359375 3.140625 L 2.359375 -10.609375 L 3.8125 -10.609375 L 3.8125 -11.203125 L 1.765625 -11.203125 L 1.765625 3.734375 Z M 3.8125 3.734375 \"/>\n",
       "</symbol>\n",
       "<symbol overflow=\"visible\" id=\"glyph-1611121169999029-0-2\">\n",
       "<path style=\"stroke:none;\" d=\"M 2.375 -11.203125 L 0.328125 -11.203125 L 0.328125 -10.609375 L 1.78125 -10.609375 L 1.78125 3.140625 L 0.328125 3.140625 L 0.328125 3.734375 L 2.375 3.734375 Z M 2.375 -11.203125 \"/>\n",
       "</symbol>\n",
       "<symbol overflow=\"visible\" id=\"glyph-1611121169999029-1-0\">\n",
       "<path style=\"stroke:none;\" d=\"\"/>\n",
       "</symbol>\n",
       "<symbol overflow=\"visible\" id=\"glyph-1611121169999029-1-1\">\n",
       "<path style=\"stroke:none;\" d=\"M 1.3125 -0.875 C 1.265625 -0.65625 1.1875 -0.3125 1.1875 -0.234375 C 1.1875 0.03125 1.390625 0.171875 1.609375 0.171875 C 1.796875 0.171875 2.0625 0.046875 2.171875 -0.25 C 2.1875 -0.28125 2.359375 -0.984375 2.453125 -1.359375 L 2.78125 -2.703125 C 2.875 -3.03125 2.953125 -3.359375 3.03125 -3.703125 C 3.09375 -3.953125 3.21875 -4.390625 3.21875 -4.453125 C 3.453125 -4.921875 4.25 -6.28125 5.65625 -6.28125 C 6.328125 -6.28125 6.46875 -5.71875 6.46875 -5.234375 C 6.46875 -4.296875 5.734375 -2.390625 5.5 -1.75 C 5.359375 -1.40625 5.34375 -1.21875 5.34375 -1.0625 C 5.34375 -0.359375 5.875 0.171875 6.578125 0.171875 C 7.984375 0.171875 8.53125 -2.015625 8.53125 -2.140625 C 8.53125 -2.28125 8.390625 -2.28125 8.34375 -2.28125 C 8.203125 -2.28125 8.203125 -2.234375 8.125 -2.015625 C 7.828125 -1 7.328125 -0.171875 6.609375 -0.171875 C 6.34375 -0.171875 6.25 -0.3125 6.25 -0.65625 C 6.25 -1.03125 6.375 -1.390625 6.515625 -1.71875 C 6.796875 -2.515625 7.421875 -4.15625 7.421875 -5 C 7.421875 -6 6.78125 -6.609375 5.703125 -6.609375 C 4.359375 -6.609375 3.625 -5.640625 3.375 -5.296875 C 3.296875 -6.140625 2.6875 -6.609375 2 -6.609375 C 1.3125 -6.609375 1.03125 -6.015625 0.875 -5.75 C 0.640625 -5.25 0.4375 -4.359375 0.4375 -4.296875 C 0.4375 -4.15625 0.578125 -4.15625 0.609375 -4.15625 C 0.765625 -4.15625 0.78125 -4.171875 0.859375 -4.5 C 1.125 -5.5625 1.421875 -6.28125 1.953125 -6.28125 C 2.25 -6.28125 2.421875 -6.078125 2.421875 -5.59375 C 2.421875 -5.265625 2.375 -5.109375 2.1875 -4.328125 Z M 1.3125 -0.875 \"/>\n",
       "</symbol>\n",
       "<symbol overflow=\"visible\" id=\"glyph-1611121169999029-2-0\">\n",
       "<path style=\"stroke:none;\" d=\"\"/>\n",
       "</symbol>\n",
       "<symbol overflow=\"visible\" id=\"glyph-1611121169999029-2-1\">\n",
       "<path style=\"stroke:none;\" d=\"M 4 -4.6875 L 4.546875 -4.6875 L 6.78125 -1.21875 C 6.9375 -0.984375 7.296875 -0.40625 7.453125 -0.171875 C 7.5625 0 7.609375 0 7.953125 0 L 10.015625 0 C 10.28125 0 10.5 0 10.5 -0.265625 C 10.5 -0.390625 10.40625 -0.5 10.28125 -0.515625 C 9.71875 -0.640625 9 -1.625 8.640625 -2.109375 C 8.53125 -2.25 7.78125 -3.234375 6.78125 -4.859375 C 8.109375 -5.09375 9.390625 -5.65625 9.390625 -7.4375 C 9.390625 -9.515625 7.203125 -10.234375 5.4375 -10.234375 L 0.75 -10.234375 C 0.484375 -10.234375 0.234375 -10.234375 0.234375 -9.96875 C 0.234375 -9.703125 0.515625 -9.703125 0.640625 -9.703125 C 1.5 -9.703125 1.5625 -9.609375 1.5625 -8.859375 L 1.5625 -1.375 C 1.5625 -0.625 1.5 -0.515625 0.640625 -0.515625 C 0.515625 -0.515625 0.234375 -0.515625 0.234375 -0.265625 C 0.234375 0 0.484375 0 0.75 0 L 4.84375 0 C 5.109375 0 5.328125 0 5.328125 -0.265625 C 5.328125 -0.515625 5.078125 -0.515625 4.921875 -0.515625 C 4.0625 -0.515625 4 -0.640625 4 -1.375 Z M 6.890625 -5.421875 C 7.296875 -5.96875 7.34375 -6.765625 7.34375 -7.421875 C 7.34375 -8.140625 7.265625 -8.9375 6.78125 -9.546875 C 7.390625 -9.40625 8.875 -8.953125 8.875 -7.4375 C 8.875 -6.46875 8.421875 -5.703125 6.890625 -5.421875 Z M 4 -8.90625 C 4 -9.21875 4 -9.703125 4.921875 -9.703125 C 6.203125 -9.703125 6.828125 -9.1875 6.828125 -7.421875 C 6.828125 -5.5 6.359375 -5.21875 4 -5.21875 Z M 1.96875 -0.515625 C 2.09375 -0.796875 2.09375 -1.203125 2.09375 -1.34375 L 2.09375 -8.890625 C 2.09375 -9.03125 2.09375 -9.4375 1.96875 -9.703125 L 3.671875 -9.703125 C 3.484375 -9.46875 3.484375 -9.171875 3.484375 -8.953125 L 3.484375 -1.34375 C 3.484375 -1.1875 3.484375 -0.796875 3.59375 -0.515625 Z M 5.15625 -4.6875 C 5.265625 -4.703125 5.3125 -4.71875 5.4375 -4.71875 C 5.65625 -4.71875 5.984375 -4.75 6.21875 -4.78125 C 6.4375 -4.421875 8.046875 -1.765625 9.296875 -0.515625 L 7.84375 -0.515625 Z M 5.15625 -4.6875 \"/>\n",
       "</symbol>\n",
       "<symbol overflow=\"visible\" id=\"glyph-1611121169999029-2-2\">\n",
       "<path style=\"stroke:none;\" d=\"M 1.671875 -8.890625 L 1.671875 -1.59375 C 1.671875 -0.8125 1.546875 -0.53125 0.796875 -0.515625 C 0.625 -0.515625 0.375 -0.515625 0.375 -0.265625 C 0.375 0 0.609375 0 0.875 0 L 3.203125 0 C 3.46875 0 3.6875 0 3.6875 -0.265625 C 3.6875 -0.515625 3.453125 -0.515625 3.234375 -0.515625 C 2.421875 -0.53125 2.296875 -0.84375 2.296875 -1.625 L 2.296875 -8.46875 L 8.75 0.0625 C 8.890625 0.234375 8.96875 0.28125 9.0625 0.28125 C 9.328125 0.28125 9.328125 0.046875 9.328125 -0.203125 L 9.328125 -8.65625 C 9.328125 -9.484375 9.453125 -9.6875 10.140625 -9.703125 C 10.234375 -9.703125 10.484375 -9.71875 10.484375 -9.96875 C 10.484375 -10.234375 10.265625 -10.234375 10 -10.234375 L 7.8125 -10.234375 C 7.546875 -10.234375 7.296875 -10.234375 7.296875 -9.96875 C 7.296875 -9.703125 7.578125 -9.703125 7.734375 -9.703125 C 8.578125 -9.6875 8.6875 -9.390625 8.6875 -8.609375 L 8.6875 -3.921875 L 4.1875 -10.015625 C 4.03125 -10.234375 3.984375 -10.234375 3.640625 -10.234375 L 1.046875 -10.234375 C 0.78125 -10.234375 0.546875 -10.234375 0.546875 -9.96875 C 0.546875 -9.734375 0.78125 -9.703125 0.859375 -9.703125 C 1.265625 -9.671875 1.546875 -9.421875 1.703125 -9.25 C 1.671875 -9.125 1.671875 -9.09375 1.671875 -8.890625 Z M 8.796875 -0.765625 L 2.296875 -9.34375 C 2.15625 -9.53125 2.15625 -9.5625 1.984375 -9.703125 L 3.765625 -9.703125 L 8.796875 -2.90625 Z M 8.796875 -0.765625 \"/>\n",
       "</symbol>\n",
       "<symbol overflow=\"visible\" id=\"glyph-1611121169999029-3-0\">\n",
       "<path style=\"stroke:none;\" d=\"\"/>\n",
       "</symbol>\n",
       "<symbol overflow=\"visible\" id=\"glyph-1611121169999029-3-1\">\n",
       "<path style=\"stroke:none;\" d=\"M 3.453125 -6.328125 C 3.453125 -6.546875 3.453125 -6.859375 3.78125 -7.15625 C 4.09375 -7.421875 4.5 -7.515625 4.90625 -7.546875 C 5.046875 -7.5625 5.125 -7.5625 5.125 -7.6875 C 5.125 -7.84375 5.015625 -7.84375 4.859375 -7.84375 C 3.75 -7.84375 2.65625 -7.375 2.640625 -6.515625 L 2.640625 -4.0625 C 2.640625 -3.796875 2.640625 -3.453125 2.296875 -3.15625 C 2.046875 -2.953125 1.71875 -2.796875 1.1875 -2.765625 C 1.0625 -2.75 0.984375 -2.75 0.984375 -2.609375 C 0.984375 -2.484375 1.078125 -2.484375 1.15625 -2.46875 C 2.40625 -2.390625 2.640625 -1.65625 2.640625 -1.375 L 2.640625 1.09375 C 2.640625 1.375 2.640625 1.84375 3.203125 2.1875 C 3.78125 2.578125 4.59375 2.609375 4.859375 2.609375 C 5.015625 2.609375 5.125 2.609375 5.125 2.46875 C 5.125 2.328125 5.03125 2.328125 4.9375 2.328125 C 3.96875 2.265625 3.5625 1.796875 3.484375 1.40625 C 3.453125 1.3125 3.453125 1.234375 3.453125 1.09375 L 3.453125 -1.109375 C 3.453125 -1.40625 3.453125 -1.78125 3.1875 -2.0625 C 3.046875 -2.203125 2.796875 -2.453125 2.21875 -2.609375 C 2.640625 -2.734375 3.328125 -3.015625 3.453125 -3.71875 C 3.453125 -3.78125 3.453125 -3.8125 3.453125 -4.140625 Z M 3.453125 -6.328125 \"/>\n",
       "</symbol>\n",
       "<symbol overflow=\"visible\" id=\"glyph-1611121169999029-3-2\">\n",
       "<path style=\"stroke:none;\" d=\"M 3.453125 -1.15625 C 3.453125 -1.4375 3.453125 -1.765625 3.8125 -2.0625 C 4.0625 -2.265625 4.390625 -2.4375 4.90625 -2.46875 C 5.03125 -2.484375 5.125 -2.484375 5.125 -2.609375 C 5.125 -2.75 5.03125 -2.75 4.9375 -2.765625 C 3.703125 -2.84375 3.46875 -3.5625 3.453125 -3.859375 L 3.453125 -6.3125 C 3.453125 -6.59375 3.453125 -7.0625 2.90625 -7.421875 C 2.328125 -7.796875 1.5 -7.84375 1.25 -7.84375 C 1.09375 -7.84375 0.984375 -7.84375 0.984375 -7.6875 C 0.984375 -7.5625 1.078125 -7.546875 1.15625 -7.546875 C 2.140625 -7.5 2.546875 -7.03125 2.625 -6.640625 C 2.640625 -6.53125 2.640625 -6.453125 2.640625 -6.3125 L 2.640625 -4.125 C 2.640625 -3.8125 2.640625 -3.4375 2.921875 -3.15625 C 3.0625 -3.015625 3.296875 -2.765625 3.890625 -2.609375 C 3.46875 -2.5 2.765625 -2.21875 2.65625 -1.5 C 2.640625 -1.4375 2.640625 -1.421875 2.640625 -1.09375 L 2.640625 1.109375 C 2.640625 1.3125 2.640625 1.625 2.328125 1.921875 C 2 2.1875 1.609375 2.296875 1.203125 2.328125 C 1.0625 2.328125 0.984375 2.328125 0.984375 2.46875 C 0.984375 2.609375 1.09375 2.609375 1.25 2.609375 C 2.359375 2.609375 3.453125 2.140625 3.453125 1.296875 Z M 3.453125 -1.15625 \"/>\n",
       "</symbol>\n",
       "<symbol overflow=\"visible\" id=\"glyph-1611121169999029-4-0\">\n",
       "<path style=\"stroke:none;\" d=\"\"/>\n",
       "</symbol>\n",
       "<symbol overflow=\"visible\" id=\"glyph-1611121169999029-4-1\">\n",
       "<path style=\"stroke:none;\" d=\"M 4.96875 -2.265625 C 4.96875 -3.53125 3.984375 -4.59375 2.765625 -4.59375 C 1.5625 -4.59375 0.578125 -3.53125 0.578125 -2.265625 C 0.578125 -0.953125 1.578125 0.046875 2.765625 0.046875 C 3.96875 0.046875 4.96875 -0.953125 4.96875 -2.265625 Z M 2.765625 -0.640625 C 2.015625 -0.640625 1.375 -1.375 1.375 -2.328125 C 1.375 -3.234375 2.03125 -3.90625 2.765625 -3.90625 C 3.515625 -3.90625 4.171875 -3.234375 4.171875 -2.328125 C 4.171875 -1.375 3.515625 -0.640625 2.765625 -0.640625 Z M 2.765625 -0.640625 \"/>\n",
       "</symbol>\n",
       "<symbol overflow=\"visible\" id=\"glyph-1611121169999029-4-2\">\n",
       "<path style=\"stroke:none;\" d=\"M 4.828125 -3.75 C 4.984375 -3.90625 4.984375 -3.984375 4.984375 -4.125 C 4.984375 -4.5 4.71875 -4.5 4.53125 -4.5 L 0.984375 -4.5 C 0.65625 -4.5 0.515625 -4.4375 0.515625 -4.0625 L 0.515625 -3.5625 C 0.515625 -3.359375 0.515625 -3.109375 0.921875 -3.109375 C 1.3125 -3.109375 1.3125 -3.359375 1.3125 -3.5625 L 1.3125 -3.8125 L 3.78125 -3.8125 L 0.5 -0.75 C 0.34375 -0.609375 0.34375 -0.515625 0.34375 -0.390625 C 0.34375 0 0.609375 0 0.796875 0 L 4.5625 0 C 4.90625 0 5.015625 -0.078125 5.015625 -0.453125 L 5.015625 -1.0625 C 5.015625 -1.25 5.015625 -1.5 4.625 -1.5 C 4.21875 -1.5 4.21875 -1.25 4.21875 -1.0625 L 4.21875 -0.6875 L 1.546875 -0.6875 Z M 4.828125 -3.75 \"/>\n",
       "</symbol>\n",
       "<symbol overflow=\"visible\" id=\"glyph-1611121169999029-4-3\">\n",
       "<path style=\"stroke:none;\" d=\"M 4.546875 -3.046875 C 4.546875 -4.09375 4.03125 -4.5625 3.171875 -4.5625 C 2.390625 -4.5625 1.890625 -4.140625 1.78125 -4.03125 C 1.78125 -4.34375 1.75 -4.5 1.34375 -4.5 L 0.5625 -4.5 C 0.390625 -4.5 0.109375 -4.5 0.109375 -4.15625 C 0.109375 -3.8125 0.390625 -3.8125 0.5625 -3.8125 L 1 -3.8125 L 1 -0.6875 L 0.5625 -0.6875 C 0.390625 -0.6875 0.109375 -0.6875 0.109375 -0.34375 C 0.109375 0 0.390625 0 0.5625 0 L 2.21875 0 C 2.390625 0 2.671875 0 2.671875 -0.34375 C 2.671875 -0.6875 2.390625 -0.6875 2.21875 -0.6875 L 1.78125 -0.6875 L 1.78125 -2.484375 C 1.78125 -3.484375 2.59375 -3.875 3.109375 -3.875 C 3.59375 -3.875 3.75 -3.640625 3.75 -3.015625 L 3.75 -0.6875 L 3.40625 -0.6875 C 3.25 -0.6875 2.953125 -0.6875 2.953125 -0.34375 C 2.953125 0 3.25 0 3.40625 0 L 4.96875 0 C 5.140625 0 5.421875 0 5.421875 -0.34375 C 5.421875 -0.6875 5.140625 -0.6875 4.96875 -0.6875 L 4.546875 -0.6875 Z M 4.546875 -3.046875 \"/>\n",
       "</symbol>\n",
       "<symbol overflow=\"visible\" id=\"glyph-1611121169999029-4-4\">\n",
       "<path style=\"stroke:none;\" d=\"M 4.46875 -1.96875 C 4.65625 -1.96875 4.90625 -1.96875 4.90625 -2.359375 C 4.90625 -3.609375 4.203125 -4.59375 2.859375 -4.59375 C 1.5625 -4.59375 0.546875 -3.546875 0.546875 -2.265625 C 0.546875 -1.03125 1.59375 0.046875 3.015625 0.046875 C 4.453125 0.046875 4.90625 -0.875 4.90625 -1.125 C 4.90625 -1.359375 4.734375 -1.453125 4.515625 -1.453125 C 4.34375 -1.453125 4.234375 -1.4375 4.125 -1.21875 C 3.921875 -0.734375 3.40625 -0.640625 3.078125 -0.640625 C 2.3125 -0.640625 1.546875 -1.140625 1.375 -1.96875 Z M 1.390625 -2.640625 C 1.546875 -3.375 2.15625 -3.90625 2.859375 -3.90625 C 3.796875 -3.90625 4.03125 -3.171875 4.09375 -2.640625 Z M 1.390625 -2.640625 \"/>\n",
       "</symbol>\n",
       "<symbol overflow=\"visible\" id=\"glyph-1611121169999029-4-5\">\n",
       "<path style=\"stroke:none;\" d=\"M 4.90625 -1.125 C 4.90625 -1.359375 4.734375 -1.453125 4.515625 -1.453125 C 4.375 -1.453125 4.21875 -1.453125 4.125 -1.21875 C 3.9375 -0.75 3.515625 -0.640625 3.140625 -0.640625 C 2.28125 -0.640625 1.546875 -1.34375 1.546875 -2.265625 C 1.546875 -2.796875 1.875 -3.90625 3.203125 -3.90625 C 3.515625 -3.90625 3.6875 -3.875 3.75 -3.875 C 3.78125 -3.859375 3.78125 -3.84375 3.78125 -3.75 C 3.8125 -3.453125 4.03125 -3.265625 4.28125 -3.265625 C 4.59375 -3.265625 4.796875 -3.5 4.796875 -3.78125 C 4.796875 -4.59375 3.703125 -4.59375 3.234375 -4.59375 C 1.375 -4.59375 0.75 -3.140625 0.75 -2.265625 C 0.75 -1 1.75 0.046875 3.09375 0.046875 C 4.578125 0.046875 4.90625 -0.953125 4.90625 -1.125 Z M 4.90625 -1.125 \"/>\n",
       "</symbol>\n",
       "<symbol overflow=\"visible\" id=\"glyph-1611121169999029-4-6\">\n",
       "<path style=\"stroke:none;\" d=\"M 2.390625 -3.8125 L 4.0625 -3.8125 C 4.21875 -3.8125 4.5 -3.8125 4.5 -4.15625 C 4.5 -4.5 4.21875 -4.5 4.0625 -4.5 L 2.390625 -4.5 L 2.390625 -5.34375 C 2.390625 -5.546875 2.390625 -5.796875 1.984375 -5.796875 C 1.59375 -5.796875 1.59375 -5.53125 1.59375 -5.34375 L 1.59375 -4.5 L 0.71875 -4.5 C 0.5625 -4.5 0.265625 -4.5 0.265625 -4.15625 C 0.265625 -3.8125 0.546875 -3.8125 0.703125 -3.8125 L 1.59375 -3.8125 L 1.59375 -1.4375 C 1.59375 -0.296875 2.390625 0.046875 3.109375 0.046875 C 4.0625 0.046875 4.75 -0.609375 4.75 -1.359375 C 4.75 -1.71875 4.4375 -1.71875 4.34375 -1.71875 C 4.078125 -1.71875 3.96875 -1.609375 3.953125 -1.34375 C 3.9375 -0.921875 3.546875 -0.640625 3.15625 -0.640625 C 2.390625 -0.640625 2.390625 -1.21875 2.390625 -1.453125 Z M 2.390625 -3.8125 \"/>\n",
       "</symbol>\n",
       "<symbol overflow=\"visible\" id=\"glyph-1611121169999029-4-7\">\n",
       "<path style=\"stroke:none;\" d=\"M 2.359375 -1.90625 C 2.359375 -3.046875 3.171875 -3.875 4.1875 -3.875 C 4.21875 -3.453125 4.5 -3.375 4.671875 -3.375 C 4.9375 -3.375 5.15625 -3.5625 5.15625 -3.875 C 5.15625 -4.125 4.96875 -4.5625 4.15625 -4.5625 C 3.1875 -4.5625 2.625 -4 2.359375 -3.75 L 2.359375 -4.0625 C 2.359375 -4.40625 2.265625 -4.5 1.90625 -4.5 L 0.78125 -4.5 C 0.625 -4.5 0.3125 -4.5 0.3125 -4.15625 C 0.3125 -3.8125 0.625 -3.8125 0.78125 -3.8125 L 1.5625 -3.8125 L 1.5625 -0.6875 L 0.78125 -0.6875 C 0.625 -0.6875 0.3125 -0.6875 0.3125 -0.34375 C 0.3125 0 0.625 0 0.78125 0 L 3.46875 0 C 3.640625 0 3.921875 0 3.921875 -0.34375 C 3.921875 -0.6875 3.640625 -0.6875 3.46875 -0.6875 L 2.359375 -0.6875 Z M 2.359375 -1.90625 \"/>\n",
       "</symbol>\n",
       "<symbol overflow=\"visible\" id=\"glyph-1611121169999029-4-8\">\n",
       "<path style=\"stroke:none;\" d=\"M 3.171875 -5.9375 C 3.171875 -6.296875 3.0625 -6.390625 2.71875 -6.390625 L 1.0625 -6.390625 C 0.90625 -6.390625 0.609375 -6.390625 0.609375 -6.046875 C 0.609375 -5.703125 0.921875 -5.703125 1.0625 -5.703125 L 2.375 -5.703125 L 2.375 -0.6875 L 1.0625 -0.6875 C 0.90625 -0.6875 0.609375 -0.6875 0.609375 -0.34375 C 0.609375 0 0.921875 0 1.0625 0 L 4.46875 0 C 4.625 0 4.9375 0 4.9375 -0.34375 C 4.9375 -0.6875 4.625 -0.6875 4.46875 -0.6875 L 3.171875 -0.6875 Z M 3.171875 -5.9375 \"/>\n",
       "</symbol>\n",
       "<symbol overflow=\"visible\" id=\"glyph-1611121169999029-5-0\">\n",
       "<path style=\"stroke:none;\" d=\"\"/>\n",
       "</symbol>\n",
       "<symbol overflow=\"visible\" id=\"glyph-1611121169999029-5-1\">\n",
       "<path style=\"stroke:none;\" d=\"M 2.203125 -0.171875 C 2.203125 0.40625 2.09375 1.078125 1.390625 1.75 C 1.34375 1.78125 1.3125 1.8125 1.3125 1.875 C 1.3125 1.9375 1.40625 2.015625 1.46875 2.015625 C 1.609375 2.015625 2.5 1.1875 2.5 -0.0625 C 2.5 -0.703125 2.25 -1.203125 1.765625 -1.203125 C 1.421875 -1.203125 1.171875 -0.9375 1.171875 -0.609375 C 1.171875 -0.265625 1.40625 0 1.78125 0 C 2.03125 0 2.1875 -0.171875 2.203125 -0.171875 Z M 2.203125 -0.171875 \"/>\n",
       "</symbol>\n",
       "<symbol overflow=\"visible\" id=\"glyph-1611121169999029-6-0\">\n",
       "<path style=\"stroke:none;\" d=\"\"/>\n",
       "</symbol>\n",
       "<symbol overflow=\"visible\" id=\"glyph-1611121169999029-6-1\">\n",
       "<path style=\"stroke:none;\" d=\"M 3.96875 -4.390625 C 3.96875 -4.5625 3.96875 -4.65625 3.8125 -4.65625 C 3.765625 -4.65625 3.75 -4.65625 3.609375 -4.53125 C 3.578125 -4.53125 3.484375 -4.4375 3.421875 -4.375 C 3.109375 -4.59375 2.703125 -4.65625 2.328125 -4.65625 C 0.828125 -4.65625 0.46875 -3.875 0.46875 -3.359375 C 0.46875 -3.015625 0.609375 -2.75 0.875 -2.546875 C 1.265625 -2.1875 1.65625 -2.125 2.3125 -2.015625 C 2.828125 -1.921875 3.671875 -1.78125 3.671875 -1.078125 C 3.671875 -0.671875 3.390625 -0.1875 2.390625 -0.1875 C 1.390625 -0.1875 1.03125 -0.84375 0.84375 -1.5625 C 0.8125 -1.6875 0.796875 -1.734375 0.640625 -1.734375 C 0.46875 -1.734375 0.46875 -1.65625 0.46875 -1.453125 L 0.46875 -0.171875 C 0.46875 0.015625 0.46875 0.109375 0.609375 0.109375 C 0.703125 0.109375 0.90625 -0.109375 1.125 -0.34375 C 1.578125 0.078125 2.140625 0.109375 2.390625 0.109375 C 3.75 0.109375 4.25 -0.625 4.25 -1.375 C 4.25 -1.765625 4.078125 -2.078125 3.8125 -2.328125 C 3.40625 -2.703125 2.921875 -2.78125 2.5625 -2.84375 C 1.71875 -2.984375 1.046875 -3.109375 1.046875 -3.671875 C 1.046875 -4 1.328125 -4.40625 2.328125 -4.40625 C 3.53125 -4.40625 3.578125 -3.5625 3.609375 -3.265625 C 3.609375 -3.140625 3.75 -3.140625 3.78125 -3.140625 C 3.96875 -3.140625 3.96875 -3.21875 3.96875 -3.421875 Z M 3.96875 -4.390625 \"/>\n",
       "</symbol>\n",
       "<symbol overflow=\"visible\" id=\"glyph-1611121169999029-6-2\">\n",
       "<path style=\"stroke:none;\" d=\"M 2.203125 -6.453125 C 2.203125 -6.75 1.953125 -7.046875 1.59375 -7.046875 C 1.28125 -7.046875 1 -6.796875 1 -6.453125 C 1 -6.078125 1.3125 -5.84375 1.59375 -5.84375 C 1.9375 -5.84375 2.203125 -6.109375 2.203125 -6.453125 Z M 0.609375 -4.5 L 0.609375 -4.125 C 1.28125 -4.125 1.375 -4.0625 1.375 -3.546875 L 1.375 -0.828125 C 1.375 -0.375 1.265625 -0.375 0.578125 -0.375 L 0.578125 0 C 0.609375 0 1.34375 -0.046875 1.75 -0.046875 C 2.125 -0.046875 2.5 -0.03125 2.859375 0 L 2.859375 -0.375 C 2.265625 -0.375 2.15625 -0.375 2.15625 -0.8125 L 2.15625 -4.609375 Z M 0.609375 -4.5 \"/>\n",
       "</symbol>\n",
       "<symbol overflow=\"visible\" id=\"glyph-1611121169999029-6-3\">\n",
       "<path style=\"stroke:none;\" d=\"M 4.609375 -4.140625 C 4.6875 -4.234375 4.703125 -4.265625 4.703125 -4.34375 C 4.703125 -4.5 4.578125 -4.5 4.40625 -4.5 L 0.6875 -4.5 L 0.5625 -2.765625 L 0.921875 -2.765625 C 1 -3.859375 1.234375 -4.21875 2.421875 -4.21875 L 3.65625 -4.21875 L 0.5 -0.390625 C 0.40625 -0.28125 0.40625 -0.234375 0.40625 -0.1875 C 0.40625 0 0.515625 0 0.703125 0 L 4.546875 0 L 4.734375 -2.03125 L 4.375 -2.03125 C 4.28125 -0.8125 4.0625 -0.328125 2.75 -0.328125 L 1.46875 -0.328125 Z M 4.609375 -4.140625 \"/>\n",
       "</symbol>\n",
       "<symbol overflow=\"visible\" id=\"glyph-1611121169999029-6-4\">\n",
       "<path style=\"stroke:none;\" d=\"M 4.59375 -2.390625 C 4.8125 -2.390625 4.890625 -2.390625 4.890625 -2.609375 C 4.890625 -3.53125 4.375 -4.65625 2.828125 -4.65625 C 1.453125 -4.65625 0.40625 -3.578125 0.40625 -2.296875 C 0.40625 -0.96875 1.5625 0.109375 2.953125 0.109375 C 4.375 0.109375 4.890625 -1.03125 4.890625 -1.25 C 4.890625 -1.296875 4.875 -1.40625 4.71875 -1.40625 C 4.578125 -1.40625 4.5625 -1.34375 4.53125 -1.234375 C 4.203125 -0.390625 3.40625 -0.234375 3.03125 -0.234375 C 2.546875 -0.234375 2.0625 -0.453125 1.75 -0.84375 C 1.375 -1.34375 1.359375 -1.96875 1.359375 -2.390625 Z M 1.375 -2.65625 C 1.484375 -4.125 2.421875 -4.375 2.828125 -4.375 C 4.109375 -4.375 4.15625 -2.921875 4.15625 -2.65625 Z M 1.375 -2.65625 \"/>\n",
       "</symbol>\n",
       "<symbol overflow=\"visible\" id=\"glyph-1611121169999029-6-5\">\n",
       "<path style=\"stroke:none;\" d=\"M 2.09375 -4.125 L 3.734375 -4.125 L 3.734375 -4.5 L 2.09375 -4.5 L 2.09375 -6.421875 L 1.75 -6.421875 C 1.734375 -5.484375 1.3125 -4.453125 0.296875 -4.421875 L 0.296875 -4.125 L 1.28125 -4.125 L 1.28125 -1.3125 C 1.28125 -0.140625 2.15625 0.109375 2.734375 0.109375 C 3.4375 0.109375 3.921875 -0.484375 3.921875 -1.3125 L 3.921875 -1.890625 L 3.5625 -1.890625 L 3.5625 -1.328125 C 3.5625 -0.609375 3.234375 -0.234375 2.828125 -0.234375 C 2.09375 -0.234375 2.09375 -1.109375 2.09375 -1.296875 Z M 2.09375 -4.125 \"/>\n",
       "</symbol>\n",
       "<symbol overflow=\"visible\" id=\"glyph-1611121169999029-6-6\">\n",
       "<path style=\"stroke:none;\" d=\"M 8.59375 -3.171875 C 8.59375 -4.078125 8.140625 -4.609375 7.03125 -4.609375 C 6.203125 -4.609375 5.640625 -4.15625 5.359375 -3.640625 C 5.140625 -4.375 4.578125 -4.609375 3.8125 -4.609375 C 2.953125 -4.609375 2.40625 -4.140625 2.109375 -3.59375 L 2.09375 -3.59375 L 2.09375 -4.609375 L 0.5625 -4.5 L 0.5625 -4.125 C 1.265625 -4.125 1.34375 -4.046875 1.34375 -3.53125 L 1.34375 -0.828125 C 1.34375 -0.375 1.25 -0.375 0.5625 -0.375 L 0.5625 0 C 0.578125 0 1.3125 -0.046875 1.75 -0.046875 C 2.140625 -0.046875 2.859375 -0.015625 2.953125 0 L 2.953125 -0.375 C 2.28125 -0.375 2.171875 -0.375 2.171875 -0.828125 L 2.171875 -2.703125 C 2.171875 -3.8125 3.046875 -4.3125 3.734375 -4.3125 C 4.46875 -4.3125 4.5625 -3.75 4.5625 -3.203125 L 4.5625 -0.828125 C 4.5625 -0.375 4.453125 -0.375 3.78125 -0.375 L 3.78125 0 C 3.796875 0 4.53125 -0.046875 4.96875 -0.046875 C 5.359375 -0.046875 6.078125 -0.015625 6.171875 0 L 6.171875 -0.375 C 5.484375 -0.375 5.390625 -0.375 5.390625 -0.828125 L 5.390625 -2.703125 C 5.390625 -3.8125 6.25 -4.3125 6.9375 -4.3125 C 7.671875 -4.3125 7.765625 -3.75 7.765625 -3.203125 L 7.765625 -0.828125 C 7.765625 -0.375 7.65625 -0.375 6.984375 -0.375 L 6.984375 0 C 7 0 7.734375 -0.046875 8.171875 -0.046875 C 8.5625 -0.046875 9.28125 -0.015625 9.375 0 L 9.375 -0.375 C 8.703125 -0.375 8.59375 -0.375 8.59375 -0.828125 Z M 8.59375 -3.171875 \"/>\n",
       "</symbol>\n",
       "<symbol overflow=\"visible\" id=\"glyph-1611121169999029-6-7\">\n",
       "<path style=\"stroke:none;\" d=\"M 2.078125 -2.390625 C 2.078125 -3.265625 2.484375 -4.3125 3.484375 -4.3125 C 3.390625 -4.25 3.296875 -4.109375 3.296875 -3.9375 C 3.296875 -3.59375 3.578125 -3.453125 3.78125 -3.453125 C 4.03125 -3.453125 4.25 -3.625 4.25 -3.9375 C 4.25 -4.296875 3.921875 -4.609375 3.421875 -4.609375 C 2.90625 -4.609375 2.328125 -4.28125 2.015625 -3.484375 L 2 -3.484375 L 2 -4.609375 L 0.515625 -4.5 L 0.515625 -4.125 C 1.21875 -4.125 1.296875 -4.046875 1.296875 -3.53125 L 1.296875 -0.828125 C 1.296875 -0.375 1.1875 -0.375 0.515625 -0.375 L 0.515625 0 C 0.5625 0 1.28125 -0.046875 1.703125 -0.046875 C 2.15625 -0.046875 2.609375 -0.015625 3.0625 0 L 3.0625 -0.375 L 2.859375 -0.375 C 2.078125 -0.375 2.078125 -0.484375 2.078125 -0.84375 Z M 2.078125 -2.390625 \"/>\n",
       "</symbol>\n",
       "<symbol overflow=\"visible\" id=\"glyph-1611121169999029-6-8\">\n",
       "<path style=\"stroke:none;\" d=\"M 4.65625 -2.796875 C 4.65625 -3.359375 4.65625 -3.75 4.1875 -4.140625 C 3.75 -4.5 3.25 -4.65625 2.640625 -4.65625 C 1.640625 -4.65625 0.9375 -4.28125 0.9375 -3.640625 C 0.9375 -3.3125 1.171875 -3.140625 1.4375 -3.140625 C 1.71875 -3.140625 1.9375 -3.34375 1.9375 -3.625 C 1.9375 -3.8125 1.84375 -4.03125 1.5625 -4.109375 C 1.9375 -4.375 2.546875 -4.375 2.609375 -4.375 C 3.203125 -4.375 3.84375 -3.984375 3.84375 -3.109375 L 3.84375 -2.78125 C 3.265625 -2.765625 2.578125 -2.734375 1.8125 -2.453125 C 0.875 -2.09375 0.578125 -1.53125 0.578125 -1.0625 C 0.578125 -0.15625 1.65625 0.109375 2.40625 0.109375 C 3.234375 0.109375 3.734375 -0.359375 3.953125 -0.78125 C 4 -0.34375 4.28125 0.046875 4.75 0.046875 C 4.78125 0.046875 5.796875 0.046875 5.796875 -0.9375 L 5.796875 -1.515625 L 5.4375 -1.515625 L 5.4375 -0.953125 C 5.4375 -0.84375 5.4375 -0.34375 5.046875 -0.34375 C 4.65625 -0.34375 4.65625 -0.84375 4.65625 -0.96875 Z M 3.84375 -1.46875 C 3.84375 -0.46875 2.953125 -0.1875 2.484375 -0.1875 C 1.953125 -0.1875 1.453125 -0.546875 1.453125 -1.0625 C 1.453125 -1.625 1.953125 -2.4375 3.84375 -2.515625 Z M 3.84375 -1.46875 \"/>\n",
       "</symbol>\n",
       "</g>\n",
       "</defs>\n",
       "<g id=\"surface1\">\n",
       "<g style=\"fill:rgb(0%,0%,0%);fill-opacity:1;\">\n",
       "  <use xlink:href=\"#glyph-1611121169999029-0-1\" x=\"125.5215\" y=\"16.6825\"/>\n",
       "</g>\n",
       "<g style=\"fill:rgb(0%,0%,0%);fill-opacity:1;\">\n",
       "  <use xlink:href=\"#glyph-1611121169999029-1-1\" x=\"129.672\" y=\"16.6825\"/>\n",
       "</g>\n",
       "<g style=\"fill:rgb(0%,0%,0%);fill-opacity:1;\">\n",
       "  <use xlink:href=\"#glyph-1611121169999029-0-2\" x=\"138.642\" y=\"16.6825\"/>\n",
       "</g>\n",
       "<g style=\"fill:rgb(0%,0%,0%);fill-opacity:1;\">\n",
       "  <use xlink:href=\"#glyph-1611121169999029-2-1\" x=\"6.441\" y=\"68.5615\"/>\n",
       "</g>\n",
       "<g style=\"fill:rgb(0%,0%,0%);fill-opacity:1;\">\n",
       "  <use xlink:href=\"#glyph-1611121169999029-2-2\" x=\"65.9805\" y=\"68.5615\"/>\n",
       "</g>\n",
       "<g style=\"fill:rgb(0%,0%,0%);fill-opacity:1;\">\n",
       "  <use xlink:href=\"#glyph-1611121169999029-2-2\" x=\"191.5395\" y=\"68.5615\"/>\n",
       "</g>\n",
       "<g style=\"fill:rgb(0%,0%,0%);fill-opacity:1;\">\n",
       "  <use xlink:href=\"#glyph-1611121169999029-3-1\" x=\"251.0805\" y=\"68.5615\"/>\n",
       "</g>\n",
       "<g style=\"fill:rgb(0%,0%,0%);fill-opacity:1;\">\n",
       "  <use xlink:href=\"#glyph-1611121169999029-4-1\" x=\"257.2035\" y=\"68.5615\"/>\n",
       "  <use xlink:href=\"#glyph-1611121169999029-4-2\" x=\"262.76131\" y=\"68.5615\"/>\n",
       "  <use xlink:href=\"#glyph-1611121169999029-4-1\" x=\"268.31912\" y=\"68.5615\"/>\n",
       "  <use xlink:href=\"#glyph-1611121169999029-4-3\" x=\"273.876929\" y=\"68.5615\"/>\n",
       "  <use xlink:href=\"#glyph-1611121169999029-4-4\" x=\"279.434739\" y=\"68.5615\"/>\n",
       "</g>\n",
       "<g style=\"fill:rgb(0%,0%,0%);fill-opacity:1;\">\n",
       "  <use xlink:href=\"#glyph-1611121169999029-5-1\" x=\"284.9895\" y=\"68.5615\"/>\n",
       "</g>\n",
       "<g style=\"fill:rgb(0%,0%,0%);fill-opacity:1;\">\n",
       "  <use xlink:href=\"#glyph-1611121169999029-4-5\" x=\"293.5155\" y=\"68.5615\"/>\n",
       "  <use xlink:href=\"#glyph-1611121169999029-4-1\" x=\"299.07331\" y=\"68.5615\"/>\n",
       "  <use xlink:href=\"#glyph-1611121169999029-4-3\" x=\"304.63112\" y=\"68.5615\"/>\n",
       "  <use xlink:href=\"#glyph-1611121169999029-4-6\" x=\"310.188929\" y=\"68.5615\"/>\n",
       "  <use xlink:href=\"#glyph-1611121169999029-4-7\" x=\"315.746739\" y=\"68.5615\"/>\n",
       "  <use xlink:href=\"#glyph-1611121169999029-4-1\" x=\"321.304549\" y=\"68.5615\"/>\n",
       "  <use xlink:href=\"#glyph-1611121169999029-4-8\" x=\"326.862359\" y=\"68.5615\"/>\n",
       "</g>\n",
       "<g style=\"fill:rgb(0%,0%,0%);fill-opacity:1;\">\n",
       "  <use xlink:href=\"#glyph-1611121169999029-3-2\" x=\"332.4165\" y=\"68.5615\"/>\n",
       "</g>\n",
       "<path style=\"fill:none;stroke-width:0.39848;stroke-linecap:butt;stroke-linejoin:miter;stroke:rgb(0%,0%,0%);stroke-opacity:1;stroke-miterlimit:10;\" d=\"M -35.8055 12.576708 L -98.646646 -14.082146 \" transform=\"matrix(1.5,0,0,-1.5,172.4895,38.326)\"/>\n",
       "<path style=\"fill:none;stroke-width:0.39848;stroke-linecap:round;stroke-linejoin:round;stroke:rgb(0%,0%,0%);stroke-opacity:1;stroke-miterlimit:10;\" d=\"M -2.071629 2.39208 C -1.693623 0.955887 -0.849581 0.278153 -0.000166847 -0.000156435 C -0.850956 -0.278555 -1.693096 -0.956669 -2.072527 -2.391199 \" transform=\"matrix(-1.38084,0.585795,0.585795,1.38084,24.245955,59.56672)\"/>\n",
       "<g style=\"fill:rgb(0%,0%,0%);fill-opacity:1;\">\n",
       "  <use xlink:href=\"#glyph-1611121169999029-6-1\" x=\"49.113\" y=\"36.0535\"/>\n",
       "  <use xlink:href=\"#glyph-1611121169999029-6-2\" x=\"53.847547\" y=\"36.0535\"/>\n",
       "  <use xlink:href=\"#glyph-1611121169999029-6-3\" x=\"57.230561\" y=\"36.0535\"/>\n",
       "  <use xlink:href=\"#glyph-1611121169999029-6-4\" x=\"62.543589\" y=\"36.0535\"/>\n",
       "</g>\n",
       "<path style=\"fill:none;stroke-width:0.39848;stroke-linecap:butt;stroke-linejoin:miter;stroke:rgb(0%,0%,0%);stroke-opacity:1;stroke-miterlimit:10;\" d=\"M -35.8055 8.451708 L -59.011229 -10.727979 \" transform=\"matrix(1.5,0,0,-1.5,172.4895,38.326)\"/>\n",
       "<path style=\"fill:none;stroke-width:0.39848;stroke-linecap:round;stroke-linejoin:round;stroke:rgb(0%,0%,0%);stroke-opacity:1;stroke-miterlimit:10;\" d=\"M -2.072197 2.390443 C -1.693628 0.955782 -0.850606 0.27926 -0.000841306 -0.000758854 C -0.84936 -0.279269 -1.693274 -0.956905 -2.071311 -2.391274 \" transform=\"matrix(-1.15611,0.955575,0.955575,1.15611,83.74194,54.60715)\"/>\n",
       "<g style=\"fill:rgb(0%,0%,0%);fill-opacity:1;\">\n",
       "  <use xlink:href=\"#glyph-1611121169999029-6-5\" x=\"104.667\" y=\"50.7775\"/>\n",
       "  <use xlink:href=\"#glyph-1611121169999029-6-2\" x=\"109.33669\" y=\"50.7775\"/>\n",
       "  <use xlink:href=\"#glyph-1611121169999029-6-6\" x=\"112.719705\" y=\"50.7775\"/>\n",
       "  <use xlink:href=\"#glyph-1611121169999029-6-4\" x=\"122.537142\" y=\"50.7775\"/>\n",
       "</g>\n",
       "<path style=\"fill:none;stroke-width:0.39848;stroke-linecap:butt;stroke-linejoin:miter;stroke:rgb(0%,0%,0%);stroke-opacity:1;stroke-miterlimit:10;\" d=\"M -15.3055 8.451708 L 7.900229 -10.727979 \" transform=\"matrix(1.5,0,0,-1.5,172.4895,38.326)\"/>\n",
       "<path style=\"fill:none;stroke-width:0.39848;stroke-linecap:round;stroke-linejoin:round;stroke:rgb(0%,0%,0%);stroke-opacity:1;stroke-miterlimit:10;\" d=\"M -2.072733 2.390099 C -1.694695 0.95573 -0.850782 0.278094 -0.000255469 0.00124307 C -0.85002 -0.278776 -1.693042 -0.955297 -2.071611 -2.389958 \" transform=\"matrix(1.15611,0.955575,0.955575,-1.15611,184.56942,54.60715)\"/>\n",
       "<g style=\"fill:rgb(0%,0%,0%);fill-opacity:1;\">\n",
       "  <use xlink:href=\"#glyph-1611121169999029-6-5\" x=\"143.6805\" y=\"50.176\"/>\n",
       "  <use xlink:href=\"#glyph-1611121169999029-6-7\" x=\"148.35019\" y=\"50.176\"/>\n",
       "  <use xlink:href=\"#glyph-1611121169999029-6-4\" x=\"153.01988\" y=\"50.176\"/>\n",
       "  <use xlink:href=\"#glyph-1611121169999029-6-4\" x=\"158.332908\" y=\"50.176\"/>\n",
       "</g>\n",
       "<path style=\"fill:none;stroke-width:0.39848;stroke-linecap:butt;stroke-linejoin:miter;stroke:rgb(0%,0%,0%);stroke-opacity:1;stroke-miterlimit:10;\" d=\"M -15.3055 13.610562 L 60.772625 -10.954542 \" transform=\"matrix(1.5,0,0,-1.5,172.4895,38.326)\"/>\n",
       "<path style=\"fill:none;stroke-width:0.39848;stroke-linecap:round;stroke-linejoin:round;stroke:rgb(0%,0%,0%);stroke-opacity:1;stroke-miterlimit:10;\" d=\"M -2.071709 2.390367 C -1.693211 0.955447 -0.850499 0.27795 0.0000927978 -0.000192468 C -0.850818 -0.280423 -1.69394 -0.957685 -2.071453 -2.390424 \" transform=\"matrix(1.4274,0.460905,0.460905,-1.4274,263.93355,54.851245)\"/>\n",
       "<g style=\"fill:rgb(0%,0%,0%);fill-opacity:1;\">\n",
       "  <use xlink:href=\"#glyph-1611121169999029-6-5\" x=\"210.3945\" y=\"32.908\"/>\n",
       "  <use xlink:href=\"#glyph-1611121169999029-6-7\" x=\"215.06419\" y=\"32.908\"/>\n",
       "  <use xlink:href=\"#glyph-1611121169999029-6-4\" x=\"219.73388\" y=\"32.908\"/>\n",
       "  <use xlink:href=\"#glyph-1611121169999029-6-8\" x=\"225.046908\" y=\"32.908\"/>\n",
       "  <use xlink:href=\"#glyph-1611121169999029-6-5\" x=\"231.003273\" y=\"32.908\"/>\n",
       "</g>\n",
       "</g>\n",
       "</svg>\n",
       "\n"
      ],
      "text/plain": [
       "TikzPicture(\"&& {[n]} \\\\arrow[dll, \\\"\\\\mathrm{size}\\\"'] \\\\arrow[dl, \\\"\\\\mathrm{time}\\\"]\\n    \\\\arrow[dr, \\\"\\\\mathrm{tree}\\\"'] \\\\arrow[drr, \\\"\\\\mathrm{treat}\\\"] && \\\\\\\\\\n  \\\\mathbb{R} & \\\\mathbb{N} & &\\n  \\\\mathbb{N} & \\\\scriptstyle\\\\{\\\\mathtt{ozone},\\\\ \\\\mathtt{control}\\\\}\", \"\", \"\\\\usepackage{tikz-cd}\\\\usepackage{amsmath,amssymb}\", \"tikzcd\", \"1.5\", \"1.5\", true, true)"
      ]
     },
     "execution_count": 19,
     "metadata": {},
     "output_type": "execute_result"
    }
   ],
   "source": [
    "TikzCD(raw\"\"\"\n",
    "    && {[n]} \\arrow[dll, \"\\mathrm{size}\"'] \\arrow[dl, \"\\mathrm{time}\"]\n",
    "        \\arrow[dr, \"\\mathrm{tree}\"'] \\arrow[drr, \"\\mathrm{treat}\"] && \\\\\n",
    "      \\mathbb{R} & \\mathbb{N} & &\n",
    "      \\mathbb{N} & \\scriptstyle\\{\\mathtt{ozone},\\ \\mathtt{control}\\}\"\"\")"
   ]
  },
  {
   "cell_type": "markdown",
   "id": "sophisticated-reviewer",
   "metadata": {},
   "source": [
    "Structurally, the Sitka dataset has:\n",
    "\n",
    "- Two-level structure:\n",
    "  1. *trees*, each with a set of\n",
    "  2. *measurements*\n",
    "- Data attributes at both levels\n",
    "\n",
    "Ignoring attributes, the schema is\n",
    "\n",
    "$$ \\mathcal{C} = \\{\\mathrm{Tree} \\leftarrow \\mathrm{Measurement}\\} $$\n",
    "\n",
    "The complete schema and corresponding Julia type are as follows."
   ]
  },
  {
   "cell_type": "code",
   "execution_count": 20,
   "id": "spectacular-norman",
   "metadata": {},
   "outputs": [],
   "source": [
    "@present SitkaSchema(FreeSchema) begin\n",
    "  (Numerical, Time, Treatment)::Data\n",
    "\n",
    "  Tree::Ob\n",
    "  treat::Attr(Tree, Treatment)\n",
    "  \n",
    "  Measurement::Ob\n",
    "  tree::Hom(Measurement, Tree)\n",
    "  size::Attr(Measurement, Numerical)\n",
    "  time::Attr(Measurement, Time)\n",
    "end\n",
    "\n",
    "const SitkaData = ACSetType(SitkaSchema, index=[:tree]);"
   ]
  },
  {
   "cell_type": "markdown",
   "id": "outstanding-comment",
   "metadata": {},
   "source": [
    "Transfer Sitka data from `DataFrame` to `ACSet`.\n",
    "\n",
    "*Step 1*: Add the trees and measurements."
   ]
  },
  {
   "cell_type": "code",
   "execution_count": 21,
   "id": "stopped-moment",
   "metadata": {},
   "outputs": [
    {
     "data": {
      "text/plain": [
       "(Tree = 79, Measurement = 395)"
      ]
     },
     "execution_count": 21,
     "metadata": {},
     "output_type": "execute_result"
    }
   ],
   "source": [
    "sitka = SitkaData{Float64,Int,String}()\n",
    "\n",
    "trees = unique!(sort(sitka_df.tree))\n",
    "@assert trees == 1:last(trees)\n",
    "add_parts!(sitka, :Tree, length(trees))\n",
    "add_parts!(sitka, :Measurement, nrow(sitka_df),\n",
    "           tree=sitka_df.tree, size=sitka_df.size, time=sitka_df.time)\n",
    "\n",
    "map(length, tables(sitka))"
   ]
  },
  {
   "cell_type": "markdown",
   "id": "extensive-train",
   "metadata": {},
   "source": [
    "*Step 2*: Assign treatment to each tree, checking for data consistency."
   ]
  },
  {
   "cell_type": "code",
   "execution_count": 22,
   "id": "sought-therapy",
   "metadata": {},
   "outputs": [
    {
     "data": {
      "text/html": [
       "<table class=\"data-frame\"><thead><tr><th></th><th>treat</th></tr><tr><th></th><th>String</th></tr></thead><tbody><p>79 rows × 1 columns</p><tr><th>1</th><td>ozone</td></tr><tr><th>2</th><td>ozone</td></tr><tr><th>3</th><td>ozone</td></tr><tr><th>4</th><td>ozone</td></tr><tr><th>5</th><td>ozone</td></tr><tr><th>6</th><td>ozone</td></tr><tr><th>7</th><td>ozone</td></tr><tr><th>8</th><td>ozone</td></tr><tr><th>9</th><td>ozone</td></tr><tr><th>10</th><td>ozone</td></tr><tr><th>&vellip;</th><td>&vellip;</td></tr></tbody></table>"
      ],
      "text/latex": [
       "\\begin{tabular}{r|c}\n",
       "\t& treat\\\\\n",
       "\t\\hline\n",
       "\t& String\\\\\n",
       "\t\\hline\n",
       "\t1 & ozone \\\\\n",
       "\t2 & ozone \\\\\n",
       "\t3 & ozone \\\\\n",
       "\t4 & ozone \\\\\n",
       "\t5 & ozone \\\\\n",
       "\t6 & ozone \\\\\n",
       "\t7 & ozone \\\\\n",
       "\t8 & ozone \\\\\n",
       "\t9 & ozone \\\\\n",
       "\t10 & ozone \\\\\n",
       "\t$\\dots$ & $\\dots$ \\\\\n",
       "\\end{tabular}\n"
      ],
      "text/plain": [
       "\u001b[1m79×1 DataFrame\u001b[0m\n",
       "\u001b[1m Row \u001b[0m│\u001b[1m treat   \u001b[0m\n",
       "\u001b[1m     \u001b[0m│\u001b[90m String  \u001b[0m\n",
       "─────┼─────────\n",
       "   1 │ ozone\n",
       "  ⋮  │    ⋮\n",
       "\u001b[31m78 rows omitted\u001b[0m"
      ]
     },
     "metadata": {},
     "output_type": "display_data"
    },
    {
     "data": {
      "text/html": [
       "<table class=\"data-frame\"><thead><tr><th></th><th>tree</th><th>size</th><th>time</th></tr><tr><th></th><th>Int64</th><th>Float64</th><th>Int64</th></tr></thead><tbody><p>395 rows × 3 columns</p><tr><th>1</th><td>1</td><td>4.51</td><td>152</td></tr><tr><th>2</th><td>1</td><td>4.98</td><td>174</td></tr><tr><th>3</th><td>1</td><td>5.41</td><td>201</td></tr><tr><th>4</th><td>1</td><td>5.9</td><td>227</td></tr><tr><th>5</th><td>1</td><td>6.15</td><td>258</td></tr><tr><th>6</th><td>2</td><td>4.24</td><td>152</td></tr><tr><th>7</th><td>2</td><td>4.2</td><td>174</td></tr><tr><th>8</th><td>2</td><td>4.68</td><td>201</td></tr><tr><th>9</th><td>2</td><td>4.92</td><td>227</td></tr><tr><th>10</th><td>2</td><td>4.96</td><td>258</td></tr><tr><th>&vellip;</th><td>&vellip;</td><td>&vellip;</td><td>&vellip;</td></tr></tbody></table>"
      ],
      "text/latex": [
       "\\begin{tabular}{r|ccc}\n",
       "\t& tree & size & time\\\\\n",
       "\t\\hline\n",
       "\t& Int64 & Float64 & Int64\\\\\n",
       "\t\\hline\n",
       "\t1 & 1 & 4.51 & 152 \\\\\n",
       "\t2 & 1 & 4.98 & 174 \\\\\n",
       "\t3 & 1 & 5.41 & 201 \\\\\n",
       "\t4 & 1 & 5.9 & 227 \\\\\n",
       "\t5 & 1 & 6.15 & 258 \\\\\n",
       "\t6 & 2 & 4.24 & 152 \\\\\n",
       "\t7 & 2 & 4.2 & 174 \\\\\n",
       "\t8 & 2 & 4.68 & 201 \\\\\n",
       "\t9 & 2 & 4.92 & 227 \\\\\n",
       "\t10 & 2 & 4.96 & 258 \\\\\n",
       "\t$\\dots$ & $\\dots$ & $\\dots$ & $\\dots$ \\\\\n",
       "\\end{tabular}\n"
      ],
      "text/plain": [
       "\u001b[1m395×3 DataFrame\u001b[0m\n",
       "\u001b[1m Row \u001b[0m│\u001b[1m tree  \u001b[0m\u001b[1m size    \u001b[0m\u001b[1m time  \u001b[0m\n",
       "\u001b[1m     \u001b[0m│\u001b[90m Int64 \u001b[0m\u001b[90m Float64 \u001b[0m\u001b[90m Int64 \u001b[0m\n",
       "─────┼───────────────────────\n",
       "   1 │     1     4.51    152\n",
       "  ⋮  │   ⋮       ⋮       ⋮\n",
       "\u001b[31m             394 rows omitted\u001b[0m"
      ]
     },
     "metadata": {},
     "output_type": "display_data"
    }
   ],
   "source": [
    "for tree in trees\n",
    "    measurements = incident(sitka, tree, :tree) # Uses `tree` index.\n",
    "    sitka[tree, :treat] = only(unique(sitka_df.treat[measurements]))\n",
    "end\n",
    "\n",
    "withenv(\"LINES\" => 10) do\n",
    "    foreach(display∘DataFrame, tables(sitka))\n",
    "end"
   ]
  },
  {
   "cell_type": "markdown",
   "id": "western-uruguay",
   "metadata": {},
   "source": [
    "This first example of a *conjunctive query* recovers the original table:"
   ]
  },
  {
   "cell_type": "code",
   "execution_count": 23,
   "id": "contained-spiritual",
   "metadata": {},
   "outputs": [
    {
     "data": {
      "text/plain": [
       "true"
      ]
     },
     "execution_count": 23,
     "metadata": {},
     "output_type": "execute_result"
    }
   ],
   "source": [
    "using Catlab.WiringDiagrams, Catlab.Programs\n",
    "\n",
    "select_all = @relation (size=size, time=time, tree=t, treat=treat) begin\n",
    "  Tree(_id=t, treat=treat)\n",
    "  Measurement(tree=t, size=size, time=time)\n",
    "end\n",
    "\n",
    "query(sitka, select_all, table_type=DataFrame) == sitka_df"
   ]
  },
  {
   "cell_type": "markdown",
   "id": "extensive-tract",
   "metadata": {},
   "source": [
    "We'll see a lot more examples later."
   ]
  },
  {
   "cell_type": "markdown",
   "id": "useful-corrections",
   "metadata": {},
   "source": [
    "## Another relational dataset: mutagenesis dataset"
   ]
  },
  {
   "cell_type": "markdown",
   "id": "geological-damage",
   "metadata": {},
   "source": [
    "[mutagenesis](https://web.archive.org/web/20180925162806/http://www.cs.ox.ac.uk/activities/machlearn/mutagenesis.html) dataset from the [Relational Dataset Repository](https://relational.fit.cvut.cz/dataset/Mutagenesis):\n",
    "\n",
    "- From study on mutagenicity of certain chemical compounds\n",
    "- Three-level structure:\n",
    "  1. *molecules*, which contain\n",
    "  2. *atoms*, which are connected by\n",
    "  3. *bonds*\n",
    "- Data attributes at all three levels\n",
    "\n",
    "Ignoring attributes, the schema is\n",
    "\n",
    "$$ \\mathcal{C} = \\{\\mathrm{Molecule} \\leftarrow \\mathrm{Atom} \\leftleftarrows \\mathrm{Bonds}\\} $$\n",
    "\n",
    "The complete schema and Julia type are:"
   ]
  },
  {
   "cell_type": "code",
   "execution_count": 24,
   "id": "alleged-uncertainty",
   "metadata": {},
   "outputs": [],
   "source": [
    "@present MutagenesisSchema(FreeSchema) begin\n",
    "  (Indicator, Categorical, Name, Numerical)::Data\n",
    "  \n",
    "  Molecule::Ob\n",
    "  molecule_id::Attr(Molecule, Name)\n",
    "  (ind1, inda)::Attr(Molecule, Indicator)\n",
    "  (logp, lumo)::Attr(Molecule, Numerical)\n",
    "  mutagenic::Attr(Molecule, Indicator)\n",
    "  \n",
    "  Atom::Ob\n",
    "  molecule::Hom(Atom, Molecule)\n",
    "  atom_id::Attr(Atom, Name)\n",
    "  atom_type::Attr(Atom, Categorical)\n",
    "  element::Attr(Atom, Name)\n",
    "  charge::Attr(Atom, Numerical)\n",
    "  \n",
    "  Bond::Ob\n",
    "  (atom1, atom2)::Hom(Bond, Atom)\n",
    "  bond_type::Attr(Bond, Categorical)\n",
    "end\n",
    "\n",
    "const MutagenesisData = ACSetType(MutagenesisSchema, \n",
    "  index=[:atom1, :atom2, :molecule],\n",
    "  unique_index=[:atom_id, :molecule_id]);"
   ]
  },
  {
   "cell_type": "markdown",
   "id": "critical-party",
   "metadata": {},
   "source": [
    "Now we load the data from a SQL database where it is stored.\n",
    "\n",
    "**Note**: In future work, we should automate both conversions:\n",
    "\n",
    "- SQL schema $\\to$ `Schema` presentation\n",
    "- SQL database $\\to$ `AttributedCSet`"
   ]
  },
  {
   "cell_type": "code",
   "execution_count": 25,
   "id": "indirect-validity",
   "metadata": {},
   "outputs": [
    {
     "data": {
      "text/plain": [
       "(Molecule = 188, Atom = 4893, Bond = 5243)"
      ]
     },
     "execution_count": 25,
     "metadata": {},
     "output_type": "execute_result"
    }
   ],
   "source": [
    "using MySQL\n",
    "using NamedTupleTools: delete\n",
    "\n",
    "mutagenesis = MutagenesisData{Bool,Int,String,Float64}()\n",
    "\n",
    "db = DBInterface.connect(MySQL.Connection, \"relational.fit.cvut.cz\",\n",
    "                         \"guest\", \"relational\", db=\"mutagenesis\")\n",
    "for row in DBInterface.execute(db, \"SELECT * FROM molecule;\")\n",
    "  tuple = NamedTuple(row)\n",
    "  add_part!(mutagenesis, :Molecule, merge(tuple, (\n",
    "    mutagenic = row.mutagenic == \"yes\",\n",
    "  )))\n",
    "end\n",
    "for row in DBInterface.execute(db, \"SELECT * FROM atom;\")\n",
    "  tuple = delete(NamedTuple(row), :molecule_id, :type)\n",
    "  add_part!(mutagenesis, :Atom, merge(tuple, (\n",
    "    molecule = incident(mutagenesis, row.molecule_id, :molecule_id),\n",
    "    atom_type = row.type,\n",
    "  )))\n",
    "end\n",
    "for row in DBInterface.execute(db, \"SELECT * from bond;\")\n",
    "  tuple = delete(NamedTuple(row), :atom1_id, :atom2_id, :type)\n",
    "  add_part!(mutagenesis, :Bond, merge(tuple, (\n",
    "    atom1 = incident(mutagenesis, row.atom1_id, :atom_id),\n",
    "    atom2 = incident(mutagenesis, row.atom2_id, :atom_id),\n",
    "    bond_type = row.type,\n",
    "  )))\n",
    "end\n",
    "close(db)\n",
    "\n",
    "map(length, tables(mutagenesis))"
   ]
  },
  {
   "cell_type": "code",
   "execution_count": 26,
   "id": "mathematical-spirituality",
   "metadata": {},
   "outputs": [
    {
     "data": {
      "text/html": [
       "<table class=\"data-frame\"><thead><tr><th></th><th>molecule_id</th><th>ind1</th><th>inda</th><th>logp</th><th>lumo</th><th>mutagenic</th></tr><tr><th></th><th>String</th><th>Bool</th><th>Bool</th><th>Float64</th><th>Float64</th><th>Bool</th></tr></thead><tbody><p>188 rows × 6 columns</p><tr><th>1</th><td>d1</td><td>1</td><td>0</td><td>4.23</td><td>-1.246</td><td>1</td></tr><tr><th>2</th><td>d10</td><td>1</td><td>0</td><td>4.62</td><td>-1.387</td><td>1</td></tr><tr><th>3</th><td>d100</td><td>0</td><td>0</td><td>2.68</td><td>-1.034</td><td>0</td></tr><tr><th>4</th><td>d101</td><td>1</td><td>0</td><td>6.26</td><td>-1.598</td><td>1</td></tr><tr><th>5</th><td>d102</td><td>1</td><td>0</td><td>2.4</td><td>-3.172</td><td>1</td></tr><tr><th>6</th><td>d103</td><td>1</td><td>0</td><td>4.69</td><td>-1.487</td><td>1</td></tr><tr><th>7</th><td>d104</td><td>1</td><td>0</td><td>6.26</td><td>-1.546</td><td>1</td></tr><tr><th>8</th><td>d105</td><td>1</td><td>0</td><td>1.84</td><td>-1.749</td><td>1</td></tr><tr><th>9</th><td>d106</td><td>1</td><td>0</td><td>4.34</td><td>-1.607</td><td>1</td></tr><tr><th>10</th><td>d107</td><td>1</td><td>0</td><td>4.18</td><td>-2.791</td><td>1</td></tr><tr><th>&vellip;</th><td>&vellip;</td><td>&vellip;</td><td>&vellip;</td><td>&vellip;</td><td>&vellip;</td><td>&vellip;</td></tr></tbody></table>"
      ],
      "text/latex": [
       "\\begin{tabular}{r|cccccc}\n",
       "\t& molecule\\_id & ind1 & inda & logp & lumo & mutagenic\\\\\n",
       "\t\\hline\n",
       "\t& String & Bool & Bool & Float64 & Float64 & Bool\\\\\n",
       "\t\\hline\n",
       "\t1 & d1 & 1 & 0 & 4.23 & -1.246 & 1 \\\\\n",
       "\t2 & d10 & 1 & 0 & 4.62 & -1.387 & 1 \\\\\n",
       "\t3 & d100 & 0 & 0 & 2.68 & -1.034 & 0 \\\\\n",
       "\t4 & d101 & 1 & 0 & 6.26 & -1.598 & 1 \\\\\n",
       "\t5 & d102 & 1 & 0 & 2.4 & -3.172 & 1 \\\\\n",
       "\t6 & d103 & 1 & 0 & 4.69 & -1.487 & 1 \\\\\n",
       "\t7 & d104 & 1 & 0 & 6.26 & -1.546 & 1 \\\\\n",
       "\t8 & d105 & 1 & 0 & 1.84 & -1.749 & 1 \\\\\n",
       "\t9 & d106 & 1 & 0 & 4.34 & -1.607 & 1 \\\\\n",
       "\t10 & d107 & 1 & 0 & 4.18 & -2.791 & 1 \\\\\n",
       "\t$\\dots$ & $\\dots$ & $\\dots$ & $\\dots$ & $\\dots$ & $\\dots$ & $\\dots$ \\\\\n",
       "\\end{tabular}\n"
      ],
      "text/plain": [
       "\u001b[1m188×6 DataFrame\u001b[0m\n",
       "\u001b[1m Row \u001b[0m│\u001b[1m molecule_id \u001b[0m\u001b[1m ind1  \u001b[0m\u001b[1m inda  \u001b[0m\u001b[1m logp    \u001b[0m\u001b[1m lumo    \u001b[0m\u001b[1m mutagenic \u001b[0m\n",
       "\u001b[1m     \u001b[0m│\u001b[90m String      \u001b[0m\u001b[90m Bool  \u001b[0m\u001b[90m Bool  \u001b[0m\u001b[90m Float64 \u001b[0m\u001b[90m Float64 \u001b[0m\u001b[90m Bool      \u001b[0m\n",
       "─────┼────────────────────────────────────────────────────────\n",
       "   1 │ d1            true  false     4.23   -1.246       true\n",
       "  ⋮  │      ⋮         ⋮      ⋮       ⋮        ⋮         ⋮\n",
       "\u001b[31m                                              187 rows omitted\u001b[0m"
      ]
     },
     "metadata": {},
     "output_type": "display_data"
    },
    {
     "data": {
      "text/html": [
       "<table class=\"data-frame\"><thead><tr><th></th><th>molecule</th><th>atom_id</th><th>atom_type</th><th>element</th><th>charge</th></tr><tr><th></th><th>Int64</th><th>String</th><th>Int64</th><th>String</th><th>Float64</th></tr></thead><tbody><p>4,893 rows × 5 columns</p><tr><th>1</th><td>3</td><td>d100_1</td><td>22</td><td>c</td><td>-0.128</td></tr><tr><th>2</th><td>3</td><td>d100_10</td><td>3</td><td>h</td><td>0.132</td></tr><tr><th>3</th><td>3</td><td>d100_11</td><td>29</td><td>c</td><td>0.002</td></tr><tr><th>4</th><td>3</td><td>d100_12</td><td>22</td><td>c</td><td>-0.128</td></tr><tr><th>5</th><td>3</td><td>d100_13</td><td>22</td><td>c</td><td>-0.128</td></tr><tr><th>6</th><td>3</td><td>d100_14</td><td>22</td><td>c</td><td>-0.128</td></tr><tr><th>7</th><td>3</td><td>d100_15</td><td>22</td><td>c</td><td>0.202</td></tr><tr><th>8</th><td>3</td><td>d100_16</td><td>22</td><td>c</td><td>-0.128</td></tr><tr><th>9</th><td>3</td><td>d100_17</td><td>3</td><td>h</td><td>0.132</td></tr><tr><th>10</th><td>3</td><td>d100_18</td><td>3</td><td>h</td><td>0.132</td></tr><tr><th>&vellip;</th><td>&vellip;</td><td>&vellip;</td><td>&vellip;</td><td>&vellip;</td><td>&vellip;</td></tr></tbody></table>"
      ],
      "text/latex": [
       "\\begin{tabular}{r|ccccc}\n",
       "\t& molecule & atom\\_id & atom\\_type & element & charge\\\\\n",
       "\t\\hline\n",
       "\t& Int64 & String & Int64 & String & Float64\\\\\n",
       "\t\\hline\n",
       "\t1 & 3 & d100\\_1 & 22 & c & -0.128 \\\\\n",
       "\t2 & 3 & d100\\_10 & 3 & h & 0.132 \\\\\n",
       "\t3 & 3 & d100\\_11 & 29 & c & 0.002 \\\\\n",
       "\t4 & 3 & d100\\_12 & 22 & c & -0.128 \\\\\n",
       "\t5 & 3 & d100\\_13 & 22 & c & -0.128 \\\\\n",
       "\t6 & 3 & d100\\_14 & 22 & c & -0.128 \\\\\n",
       "\t7 & 3 & d100\\_15 & 22 & c & 0.202 \\\\\n",
       "\t8 & 3 & d100\\_16 & 22 & c & -0.128 \\\\\n",
       "\t9 & 3 & d100\\_17 & 3 & h & 0.132 \\\\\n",
       "\t10 & 3 & d100\\_18 & 3 & h & 0.132 \\\\\n",
       "\t$\\dots$ & $\\dots$ & $\\dots$ & $\\dots$ & $\\dots$ & $\\dots$ \\\\\n",
       "\\end{tabular}\n"
      ],
      "text/plain": [
       "\u001b[1m4893×5 DataFrame\u001b[0m\n",
       "\u001b[1m  Row \u001b[0m│\u001b[1m molecule \u001b[0m\u001b[1m atom_id \u001b[0m\u001b[1m atom_type \u001b[0m\u001b[1m element \u001b[0m\u001b[1m charge  \u001b[0m\n",
       "\u001b[1m      \u001b[0m│\u001b[90m Int64    \u001b[0m\u001b[90m String  \u001b[0m\u001b[90m Int64     \u001b[0m\u001b[90m String  \u001b[0m\u001b[90m Float64 \u001b[0m\n",
       "──────┼────────────────────────────────────────────────\n",
       "    1 │        3  d100_1          22  c         -0.128\n",
       "  ⋮   │    ⋮         ⋮         ⋮         ⋮        ⋮\n",
       "\u001b[31m                                      4892 rows omitted\u001b[0m"
      ]
     },
     "metadata": {},
     "output_type": "display_data"
    },
    {
     "data": {
      "text/html": [
       "<table class=\"data-frame\"><thead><tr><th></th><th>atom1</th><th>atom2</th><th>bond_type</th></tr><tr><th></th><th>Int64</th><th>Int64</th><th>Int64</th></tr></thead><tbody><p>5,243 rows × 3 columns</p><tr><th>1</th><td>1</td><td>12</td><td>7</td></tr><tr><th>2</th><td>1</td><td>24</td><td>1</td></tr><tr><th>3</th><td>3</td><td>4</td><td>7</td></tr><tr><th>4</th><td>4</td><td>5</td><td>7</td></tr><tr><th>5</th><td>4</td><td>9</td><td>1</td></tr><tr><th>6</th><td>5</td><td>6</td><td>7</td></tr><tr><th>7</th><td>5</td><td>10</td><td>1</td></tr><tr><th>8</th><td>6</td><td>7</td><td>7</td></tr><tr><th>9</th><td>6</td><td>11</td><td>1</td></tr><tr><th>10</th><td>7</td><td>8</td><td>7</td></tr><tr><th>&vellip;</th><td>&vellip;</td><td>&vellip;</td><td>&vellip;</td></tr></tbody></table>"
      ],
      "text/latex": [
       "\\begin{tabular}{r|ccc}\n",
       "\t& atom1 & atom2 & bond\\_type\\\\\n",
       "\t\\hline\n",
       "\t& Int64 & Int64 & Int64\\\\\n",
       "\t\\hline\n",
       "\t1 & 1 & 12 & 7 \\\\\n",
       "\t2 & 1 & 24 & 1 \\\\\n",
       "\t3 & 3 & 4 & 7 \\\\\n",
       "\t4 & 4 & 5 & 7 \\\\\n",
       "\t5 & 4 & 9 & 1 \\\\\n",
       "\t6 & 5 & 6 & 7 \\\\\n",
       "\t7 & 5 & 10 & 1 \\\\\n",
       "\t8 & 6 & 7 & 7 \\\\\n",
       "\t9 & 6 & 11 & 1 \\\\\n",
       "\t10 & 7 & 8 & 7 \\\\\n",
       "\t$\\dots$ & $\\dots$ & $\\dots$ & $\\dots$ \\\\\n",
       "\\end{tabular}\n"
      ],
      "text/plain": [
       "\u001b[1m5243×3 DataFrame\u001b[0m\n",
       "\u001b[1m  Row \u001b[0m│\u001b[1m atom1 \u001b[0m\u001b[1m atom2 \u001b[0m\u001b[1m bond_type \u001b[0m\n",
       "\u001b[1m      \u001b[0m│\u001b[90m Int64 \u001b[0m\u001b[90m Int64 \u001b[0m\u001b[90m Int64     \u001b[0m\n",
       "──────┼─────────────────────────\n",
       "    1 │     1     12          7\n",
       "  ⋮   │   ⋮      ⋮        ⋮\n",
       "\u001b[31m               5242 rows omitted\u001b[0m"
      ]
     },
     "metadata": {},
     "output_type": "display_data"
    }
   ],
   "source": [
    "withenv(\"LINES\" => 10) do\n",
    "    foreach(display∘DataFrame, tables(mutagenesis))\n",
    "end"
   ]
  },
  {
   "cell_type": "markdown",
   "id": "spoken-latin",
   "metadata": {},
   "source": [
    "### Underlying graph of mutagenesis data\n",
    "\n",
    "The mutagenesis dataset is essentially an indexed collection of graphs.\n",
    "\n",
    "Can easily extract a graph using **functorial data migration** (\"$\\Delta$ migration functor\"):"
   ]
  },
  {
   "cell_type": "code",
   "execution_count": 27,
   "id": "super-establishment",
   "metadata": {},
   "outputs": [
    {
     "data": {
      "text/plain": [
       "(V = 4893, E = 5243)"
      ]
     },
     "execution_count": 27,
     "metadata": {},
     "output_type": "execute_result"
    }
   ],
   "source": [
    "mutagenesis_graph = Graph(mutagenesis,\n",
    "    Dict(:V => :Atom, :E => :Bond),\n",
    "    Dict(:src => :atom1, :tgt => :atom2))\n",
    "\n",
    "(V = nv(mutagenesis_graph), E = ne(mutagenesis_graph))"
   ]
  },
  {
   "cell_type": "markdown",
   "id": "polyphonic-sword",
   "metadata": {},
   "source": [
    "Connected components of graph correspond to molecules:"
   ]
  },
  {
   "cell_type": "code",
   "execution_count": 28,
   "id": "fuzzy-greene",
   "metadata": {},
   "outputs": [
    {
     "data": {
      "text/plain": [
       "188"
      ]
     },
     "execution_count": 28,
     "metadata": {},
     "output_type": "execute_result"
    }
   ],
   "source": [
    "components = connected_components(mutagenesis_graph)\n",
    "length(components)"
   ]
  },
  {
   "cell_type": "markdown",
   "id": "egyptian-neighbor",
   "metadata": {},
   "source": [
    "Mainly useful for routines that expect to receive a graph as input."
   ]
  },
  {
   "cell_type": "markdown",
   "id": "attempted-dynamics",
   "metadata": {},
   "source": [
    "## Conjunctive queries on C-sets\n",
    "\n",
    "Conjunctive queries are:\n",
    "\n",
    "- useful class of SQL queries in practice\n",
    "- important in relational database theory\n",
    "- the queries corresponding to [regular logic](https://ncatlab.org/nlab/show/regular+logic) ($\\exists, \\wedge, \\top$)\n",
    "- have a graphical syntax via undirected wiring diagrams  \n",
    "  ([Spivak 2013](https://arxiv.org/abs/1305.0297), [Fong & Spivak 2018](https://arxiv.org/abs/1812.05765))"
   ]
  },
  {
   "cell_type": "markdown",
   "id": "approximate-constitution",
   "metadata": {},
   "source": [
    "In Catlab, conjunctive queries are:\n",
    "\n",
    "- represented by undirected wiring diagrams\n",
    "- most easily created using the `@relation` macro\n",
    "- executable against any attributed $\\mathcal{C}$-set\n",
    "\n",
    "Will be explained by example."
   ]
  },
  {
   "cell_type": "markdown",
   "id": "occasional-curtis",
   "metadata": {},
   "source": [
    "### Conjunctive queries on mutagenesis data\n",
    "\n",
    "First query:\n",
    "\n",
    "> Find bonds between atoms that belong to the same molecule.\n",
    "\n",
    "**Note**: This should be all of the bonds!"
   ]
  },
  {
   "cell_type": "code",
   "execution_count": 29,
   "id": "painted-midnight",
   "metadata": {},
   "outputs": [
    {
     "data": {
      "image/svg+xml": [
       "<?xml version=\"1.0\" encoding=\"UTF-8\" standalone=\"no\"?>\n",
       "<!DOCTYPE svg PUBLIC \"-//W3C//DTD SVG 1.1//EN\"\n",
       " \"http://www.w3.org/Graphics/SVG/1.1/DTD/svg11.dtd\">\n",
       "<!-- Generated by graphviz version 2.44.1 (20200629.0846)\n",
       " -->\n",
       "<!-- Title: G Pages: 1 -->\n",
       "<svg width=\"142pt\" height=\"159pt\"\n",
       " viewBox=\"0.00 0.00 142.12 158.61\" xmlns=\"http://www.w3.org/2000/svg\" xmlns:xlink=\"http://www.w3.org/1999/xlink\">\n",
       "<g id=\"graph0\" class=\"graph\" transform=\"scale(1 1) rotate(0) translate(4 154.61)\">\n",
       "<title>G</title>\n",
       "<polygon fill=\"white\" stroke=\"transparent\" points=\"-4,4 -4,-154.61 138.12,-154.61 138.12,4 -4,4\"/>\n",
       "<!-- n1 -->\n",
       "<g id=\"box1\" class=\"node\">\n",
       "<title>n1</title>\n",
       "<ellipse fill=\"none\" stroke=\"black\" cx=\"44.51\" cy=\"-88.95\" rx=\"22.24\" ry=\"18\"/>\n",
       "<text text-anchor=\"middle\" x=\"44.51\" y=\"-85.25\" font-family=\"Serif\" font-size=\"14.00\">Bond</text>\n",
       "</g>\n",
       "<!-- n5 -->\n",
       "<!-- junction -->\n",
       "<g id=\"junction1\" class=\"node\">\n",
       "<title>n5</title>\n",
       "<ellipse fill=\"black\" stroke=\"black\" cx=\"20.49\" cy=\"-119.23\" rx=\"2.5\" ry=\"2.5\"/>\n",
       "<text text-anchor=\"middle\" x=\"14.49\" y=\"-125.53\" font-family=\"Serif\" font-size=\"14.00\">b</text>\n",
       "</g>\n",
       "<!-- n1&#45;&#45;n5 -->\n",
       "<g id=\"edge1\" class=\"edge\">\n",
       "<title>n1&#45;&#45;n5</title>\n",
       "<path fill=\"none\" stroke=\"black\" d=\"M32.22,-104.44C28.34,-109.33 24.5,-114.17 22.32,-116.92\"/>\n",
       "</g>\n",
       "<!-- n6 -->\n",
       "<!-- junction -->\n",
       "<g id=\"junction2\" class=\"node\">\n",
       "<title>n6</title>\n",
       "<ellipse fill=\"black\" stroke=\"black\" cx=\"85.64\" cy=\"-91.38\" rx=\"2.5\" ry=\"2.5\"/>\n",
       "<text text-anchor=\"middle\" x=\"76.64\" y=\"-97.68\" font-family=\"Serif\" font-size=\"14.00\">a1</text>\n",
       "</g>\n",
       "<!-- n1&#45;&#45;n6 -->\n",
       "<g id=\"edge3\" class=\"edge\">\n",
       "<title>n1&#45;&#45;n6</title>\n",
       "<path fill=\"none\" stroke=\"black\" d=\"M67,-90.28C73.3,-90.65 79.36,-91.01 82.78,-91.21\"/>\n",
       "</g>\n",
       "<!-- n7 -->\n",
       "<!-- junction -->\n",
       "<g id=\"junction3\" class=\"node\">\n",
       "<title>n7</title>\n",
       "<ellipse fill=\"black\" stroke=\"black\" cx=\"32.28\" cy=\"-49.63\" rx=\"2.5\" ry=\"2.5\"/>\n",
       "<text text-anchor=\"middle\" x=\"23.28\" y=\"-55.93\" font-family=\"Serif\" font-size=\"14.00\">a2</text>\n",
       "</g>\n",
       "<!-- n1&#45;&#45;n7 -->\n",
       "<g id=\"edge5\" class=\"edge\">\n",
       "<title>n1&#45;&#45;n7</title>\n",
       "<path fill=\"none\" stroke=\"black\" d=\"M38.97,-71.13C36.69,-63.82 34.31,-56.16 33.09,-52.26\"/>\n",
       "</g>\n",
       "<!-- n2 -->\n",
       "<g id=\"box2\" class=\"node\">\n",
       "<title>n2</title>\n",
       "<ellipse fill=\"none\" stroke=\"black\" cx=\"110.58\" cy=\"-59.9\" rx=\"23.59\" ry=\"18\"/>\n",
       "<text text-anchor=\"middle\" x=\"110.58\" y=\"-56.2\" font-family=\"Serif\" font-size=\"14.00\">Atom</text>\n",
       "</g>\n",
       "<!-- n2&#45;&#45;n6 -->\n",
       "<g id=\"edge4\" class=\"edge\">\n",
       "<title>n2&#45;&#45;n6</title>\n",
       "<path fill=\"none\" stroke=\"black\" d=\"M98.11,-75.64C93.82,-81.05 89.53,-86.46 87.27,-89.32\"/>\n",
       "</g>\n",
       "<!-- n8 -->\n",
       "<!-- junction -->\n",
       "<g id=\"junction4\" class=\"node\">\n",
       "<title>n8</title>\n",
       "<ellipse fill=\"black\" stroke=\"black\" cx=\"97.47\" cy=\"-21.55\" rx=\"2.5\" ry=\"2.5\"/>\n",
       "<text text-anchor=\"middle\" x=\"88.97\" y=\"-27.85\" font-family=\"Serif\" font-size=\"14.00\">m</text>\n",
       "</g>\n",
       "<!-- n2&#45;&#45;n8 -->\n",
       "<g id=\"edge7\" class=\"edge\">\n",
       "<title>n2&#45;&#45;n8</title>\n",
       "<path fill=\"none\" stroke=\"black\" d=\"M104.48,-42.07C102.13,-35.19 99.7,-28.07 98.4,-24.29\"/>\n",
       "</g>\n",
       "<!-- n3 -->\n",
       "<g id=\"box3\" class=\"node\">\n",
       "<title>n3</title>\n",
       "<ellipse fill=\"none\" stroke=\"black\" cx=\"57.09\" cy=\"-18\" rx=\"23.59\" ry=\"18\"/>\n",
       "<text text-anchor=\"middle\" x=\"57.09\" y=\"-14.3\" font-family=\"Serif\" font-size=\"14.00\">Atom</text>\n",
       "</g>\n",
       "<!-- n3&#45;&#45;n7 -->\n",
       "<g id=\"edge6\" class=\"edge\">\n",
       "<title>n3&#45;&#45;n7</title>\n",
       "<path fill=\"none\" stroke=\"black\" d=\"M44.97,-33.45C40.64,-38.97 36.27,-44.55 33.95,-47.5\"/>\n",
       "</g>\n",
       "<!-- n3&#45;&#45;n8 -->\n",
       "<g id=\"edge8\" class=\"edge\">\n",
       "<title>n3&#45;&#45;n8</title>\n",
       "<path fill=\"none\" stroke=\"black\" d=\"M80.58,-20.07C86.41,-20.58 91.86,-21.06 94.92,-21.33\"/>\n",
       "</g>\n",
       "<!-- n4 -->\n",
       "<!-- n4&#45;&#45;n5 -->\n",
       "<g id=\"edge2\" class=\"edge\">\n",
       "<title>n4&#45;&#45;n5</title>\n",
       "<path fill=\"none\" stroke=\"black\" d=\"M0.99,-149.35C3.5,-145.48 14.8,-128.01 18.96,-121.6\"/>\n",
       "</g>\n",
       "</g>\n",
       "</svg>\n"
      ],
      "text/plain": [
       "Catlab.Graphics.Graphviz.Graph(\"G\", false, \"neato\", Catlab.Graphics.Graphviz.Statement[Catlab.Graphics.Graphviz.Node(\"n1\", OrderedCollections.OrderedDict{Symbol,Union{String, Catlab.Graphics.Graphviz.Html}}(:id => \"box1\",:label => \"Bond\")), Catlab.Graphics.Graphviz.Node(\"n2\", OrderedCollections.OrderedDict{Symbol,Union{String, Catlab.Graphics.Graphviz.Html}}(:id => \"box2\",:label => \"Atom\")), Catlab.Graphics.Graphviz.Node(\"n3\", OrderedCollections.OrderedDict{Symbol,Union{String, Catlab.Graphics.Graphviz.Html}}(:id => \"box3\",:label => \"Atom\")), Catlab.Graphics.Graphviz.Node(\"n4\", OrderedCollections.OrderedDict{Symbol,Union{String, Catlab.Graphics.Graphviz.Html}}(:height => \"0\",:id => \"outer1\",:label => \"\",:margin => \"0\",:shape => \"none\",:style => \"invis\",:width => \"0\")), Catlab.Graphics.Graphviz.Node(\"n5\", OrderedCollections.OrderedDict{Symbol,Union{String, Catlab.Graphics.Graphviz.Html}}(:comment => \"junction\",:fillcolor => \"black\",:height => \"0.075\",:id => \"junction1\",:label => \"\",:shape => \"circle\",:style => \"filled\",:width => \"0.075\",:xlabel => \"b\")), Catlab.Graphics.Graphviz.Node(\"n6\", OrderedCollections.OrderedDict{Symbol,Union{String, Catlab.Graphics.Graphviz.Html}}(:comment => \"junction\",:fillcolor => \"black\",:height => \"0.075\",:id => \"junction2\",:label => \"\",:shape => \"circle\",:style => \"filled\",:width => \"0.075\",:xlabel => \"a1\")), Catlab.Graphics.Graphviz.Node(\"n7\", OrderedCollections.OrderedDict{Symbol,Union{String, Catlab.Graphics.Graphviz.Html}}(:comment => \"junction\",:fillcolor => \"black\",:height => \"0.075\",:id => \"junction3\",:label => \"\",:shape => \"circle\",:style => \"filled\",:width => \"0.075\",:xlabel => \"a2\")), Catlab.Graphics.Graphviz.Node(\"n8\", OrderedCollections.OrderedDict{Symbol,Union{String, Catlab.Graphics.Graphviz.Html}}(:comment => \"junction\",:fillcolor => \"black\",:height => \"0.075\",:id => \"junction4\",:label => \"\",:shape => \"circle\",:style => \"filled\",:width => \"0.075\",:xlabel => \"m\")), Catlab.Graphics.Graphviz.Edge(Catlab.Graphics.Graphviz.NodeID[Catlab.Graphics.Graphviz.NodeID(\"n1\", \"\", \"\"), Catlab.Graphics.Graphviz.NodeID(\"n5\", \"\", \"\")], OrderedCollections.OrderedDict{Symbol,Union{String, Catlab.Graphics.Graphviz.Html}}()), Catlab.Graphics.Graphviz.Edge(Catlab.Graphics.Graphviz.NodeID[Catlab.Graphics.Graphviz.NodeID(\"n4\", \"\", \"\"), Catlab.Graphics.Graphviz.NodeID(\"n5\", \"\", \"\")], OrderedCollections.OrderedDict{Symbol,Union{String, Catlab.Graphics.Graphviz.Html}}()), Catlab.Graphics.Graphviz.Edge(Catlab.Graphics.Graphviz.NodeID[Catlab.Graphics.Graphviz.NodeID(\"n1\", \"\", \"\"), Catlab.Graphics.Graphviz.NodeID(\"n6\", \"\", \"\")], OrderedCollections.OrderedDict{Symbol,Union{String, Catlab.Graphics.Graphviz.Html}}()), Catlab.Graphics.Graphviz.Edge(Catlab.Graphics.Graphviz.NodeID[Catlab.Graphics.Graphviz.NodeID(\"n2\", \"\", \"\"), Catlab.Graphics.Graphviz.NodeID(\"n6\", \"\", \"\")], OrderedCollections.OrderedDict{Symbol,Union{String, Catlab.Graphics.Graphviz.Html}}()), Catlab.Graphics.Graphviz.Edge(Catlab.Graphics.Graphviz.NodeID[Catlab.Graphics.Graphviz.NodeID(\"n1\", \"\", \"\"), Catlab.Graphics.Graphviz.NodeID(\"n7\", \"\", \"\")], OrderedCollections.OrderedDict{Symbol,Union{String, Catlab.Graphics.Graphviz.Html}}()), Catlab.Graphics.Graphviz.Edge(Catlab.Graphics.Graphviz.NodeID[Catlab.Graphics.Graphviz.NodeID(\"n3\", \"\", \"\"), Catlab.Graphics.Graphviz.NodeID(\"n7\", \"\", \"\")], OrderedCollections.OrderedDict{Symbol,Union{String, Catlab.Graphics.Graphviz.Html}}()), Catlab.Graphics.Graphviz.Edge(Catlab.Graphics.Graphviz.NodeID[Catlab.Graphics.Graphviz.NodeID(\"n2\", \"\", \"\"), Catlab.Graphics.Graphviz.NodeID(\"n8\", \"\", \"\")], OrderedCollections.OrderedDict{Symbol,Union{String, Catlab.Graphics.Graphviz.Html}}()), Catlab.Graphics.Graphviz.Edge(Catlab.Graphics.Graphviz.NodeID[Catlab.Graphics.Graphviz.NodeID(\"n3\", \"\", \"\"), Catlab.Graphics.Graphviz.NodeID(\"n8\", \"\", \"\")], OrderedCollections.OrderedDict{Symbol,Union{String, Catlab.Graphics.Graphviz.Html}}())], OrderedCollections.OrderedDict{Symbol,Union{String, Catlab.Graphics.Graphviz.Html}}(:fontname => \"Serif\"), OrderedCollections.OrderedDict{Symbol,Union{String, Catlab.Graphics.Graphviz.Html}}(:fontname => \"Serif\",:shape => \"ellipse\",:margin => \"0.05,0.025\",:width => \"0.5\",:height => \"0.5\"), OrderedCollections.OrderedDict{Symbol,Union{String, Catlab.Graphics.Graphviz.Html}}(:fontname => \"Serif\",:len => \"0.5\"))"
      ]
     },
     "execution_count": 29,
     "metadata": {},
     "output_type": "execute_result"
    }
   ],
   "source": [
    "bond_within_molecule = @relation (Bond=b) begin\n",
    "  Bond(_id=b, atom1=a1, atom2=a2)\n",
    "  Atom(_id=a1, molecule=m)\n",
    "  Atom(_id=a2, molecule=m)\n",
    "end\n",
    "\n",
    "to_graphviz(bond_within_molecule,\n",
    "            box_labels=:name, junction_labels=:variable)"
   ]
  },
  {
   "cell_type": "code",
   "execution_count": 30,
   "id": "bibliographic-michael",
   "metadata": {},
   "outputs": [
    {
     "data": {
      "text/plain": [
       "true"
      ]
     },
     "execution_count": 30,
     "metadata": {},
     "output_type": "execute_result"
    }
   ],
   "source": [
    "result = query(mutagenesis, bond_within_molecule)\n",
    "length(result) == nparts(mutagenesis, :Bond)"
   ]
  },
  {
   "cell_type": "markdown",
   "id": "authentic-savage",
   "metadata": {},
   "source": [
    "**Aside**: It would be good practice to add this constraint to the schema as a relation:\n",
    "\n",
    "```julia\n",
    "@present MutagenesisSchema(FreeSchema) begin\n",
    "  [...]\n",
    "  \n",
    "  compose(atom1, molecule) == compose(atom2, molecule)\n",
    "end\n",
    "```"
   ]
  },
  {
   "cell_type": "markdown",
   "id": "homeless-invite",
   "metadata": {},
   "source": [
    "**Question**: Is the underlying graph really symmetric?\n",
    "\n",
    "Formulate as query:\n",
    "\n",
    "> Find pairs of atoms with bonds going in both directions."
   ]
  },
  {
   "cell_type": "code",
   "execution_count": 31,
   "id": "natural-characterization",
   "metadata": {},
   "outputs": [
    {
     "data": {
      "text/plain": [
       "0"
      ]
     },
     "execution_count": 31,
     "metadata": {},
     "output_type": "execute_result"
    }
   ],
   "source": [
    "symmetric_pairs = @relation (atom1=a1, atom2=a2) begin\n",
    "  Bond(atom1=a1, atom2=a2)\n",
    "  Bond(atom1=a2, atom2=a1)\n",
    "end\n",
    "\n",
    "length(query(mutagenesis, symmetric_pairs))"
   ]
  },
  {
   "cell_type": "markdown",
   "id": "married-selection",
   "metadata": {},
   "source": [
    "**Answer**: No, in fact, there are not any symmetric edge pairs."
   ]
  },
  {
   "cell_type": "markdown",
   "id": "optimum-formation",
   "metadata": {},
   "source": [
    "Let's look at paths in the molecular graphs.\n",
    "\n",
    "First, formulate in graph constructed above:\n",
    "\n",
    "> Find all directed paths of length 2."
   ]
  },
  {
   "cell_type": "code",
   "execution_count": 32,
   "id": "present-tribune",
   "metadata": {},
   "outputs": [
    {
     "data": {
      "image/svg+xml": [
       "<?xml version=\"1.0\" encoding=\"UTF-8\" standalone=\"no\"?>\n",
       "<!DOCTYPE svg PUBLIC \"-//W3C//DTD SVG 1.1//EN\"\n",
       " \"http://www.w3.org/Graphics/SVG/1.1/DTD/svg11.dtd\">\n",
       "<!-- Generated by graphviz version 2.44.1 (20200629.0846)\n",
       " -->\n",
       "<!-- Title: G Pages: 1 -->\n",
       "<svg width=\"187pt\" height=\"135pt\"\n",
       " viewBox=\"0.00 0.00 186.89 134.75\" xmlns=\"http://www.w3.org/2000/svg\" xmlns:xlink=\"http://www.w3.org/1999/xlink\">\n",
       "<g id=\"graph0\" class=\"graph\" transform=\"scale(1 1) rotate(0) translate(4 130.75)\">\n",
       "<title>G</title>\n",
       "<polygon fill=\"white\" stroke=\"transparent\" points=\"-4,4 -4,-130.75 182.89,-130.75 182.89,4 -4,4\"/>\n",
       "<!-- n1 -->\n",
       "<g id=\"box1\" class=\"node\">\n",
       "<title>n1</title>\n",
       "<ellipse fill=\"none\" stroke=\"black\" cx=\"45.04\" cy=\"-58.91\" rx=\"18\" ry=\"18\"/>\n",
       "<text text-anchor=\"middle\" x=\"45.04\" y=\"-55.21\" font-family=\"Serif\" font-size=\"14.00\">E</text>\n",
       "</g>\n",
       "<!-- n6 -->\n",
       "<!-- junction -->\n",
       "<g id=\"junction1\" class=\"node\">\n",
       "<title>n6</title>\n",
       "<ellipse fill=\"black\" stroke=\"black\" cx=\"21.68\" cy=\"-30.15\" rx=\"2.5\" ry=\"2.5\"/>\n",
       "<text text-anchor=\"middle\" x=\"12.18\" y=\"-36.45\" font-family=\"Serif\" font-size=\"14.00\">v1</text>\n",
       "</g>\n",
       "<!-- n1&#45;&#45;n6 -->\n",
       "<g id=\"edge1\" class=\"edge\">\n",
       "<title>n1&#45;&#45;n6</title>\n",
       "<path fill=\"none\" stroke=\"black\" d=\"M33.63,-44.87C29.56,-39.85 25.44,-34.77 23.26,-32.09\"/>\n",
       "</g>\n",
       "<!-- n7 -->\n",
       "<!-- junction -->\n",
       "<g id=\"junction2\" class=\"node\">\n",
       "<title>n7</title>\n",
       "<ellipse fill=\"black\" stroke=\"black\" cx=\"67.04\" cy=\"-91.33\" rx=\"2.5\" ry=\"2.5\"/>\n",
       "<text text-anchor=\"middle\" x=\"57.54\" y=\"-97.63\" font-family=\"Serif\" font-size=\"14.00\">v2</text>\n",
       "</g>\n",
       "<!-- n1&#45;&#45;n7 -->\n",
       "<g id=\"edge3\" class=\"edge\">\n",
       "<title>n1&#45;&#45;n7</title>\n",
       "<path fill=\"none\" stroke=\"black\" d=\"M55.27,-73.98C59.22,-79.8 63.3,-85.82 65.47,-89.01\"/>\n",
       "</g>\n",
       "<!-- n2 -->\n",
       "<g id=\"box2\" class=\"node\">\n",
       "<title>n2</title>\n",
       "<ellipse fill=\"none\" stroke=\"black\" cx=\"106.19\" cy=\"-93.23\" rx=\"18\" ry=\"18\"/>\n",
       "<text text-anchor=\"middle\" x=\"106.19\" y=\"-89.53\" font-family=\"Serif\" font-size=\"14.00\">E</text>\n",
       "</g>\n",
       "<!-- n2&#45;&#45;n7 -->\n",
       "<g id=\"edge4\" class=\"edge\">\n",
       "<title>n2&#45;&#45;n7</title>\n",
       "<path fill=\"none\" stroke=\"black\" d=\"M87.99,-92.35C80.8,-92 73.37,-91.64 69.59,-91.45\"/>\n",
       "</g>\n",
       "<!-- n8 -->\n",
       "<!-- junction -->\n",
       "<g id=\"junction3\" class=\"node\">\n",
       "<title>n8</title>\n",
       "<ellipse fill=\"black\" stroke=\"black\" cx=\"143.04\" cy=\"-97.39\" rx=\"2.5\" ry=\"2.5\"/>\n",
       "<text text-anchor=\"middle\" x=\"133.54\" y=\"-103.69\" font-family=\"Serif\" font-size=\"14.00\">v3</text>\n",
       "</g>\n",
       "<!-- n2&#45;&#45;n8 -->\n",
       "<g id=\"edge6\" class=\"edge\">\n",
       "<title>n2&#45;&#45;n8</title>\n",
       "<path fill=\"none\" stroke=\"black\" d=\"M124.18,-95.26C130.61,-95.99 137.11,-96.72 140.55,-97.11\"/>\n",
       "</g>\n",
       "<!-- n3 -->\n",
       "<!-- n3&#45;&#45;n6 -->\n",
       "<g id=\"edge2\" class=\"edge\">\n",
       "<title>n3&#45;&#45;n6</title>\n",
       "<path fill=\"none\" stroke=\"black\" d=\"M1.02,-1.23C3.67,-4.94 15.66,-21.71 20.06,-27.87\"/>\n",
       "</g>\n",
       "<!-- n4 -->\n",
       "<!-- n4&#45;&#45;n7 -->\n",
       "<g id=\"edge5\" class=\"edge\">\n",
       "<title>n4&#45;&#45;n7</title>\n",
       "<path fill=\"none\" stroke=\"black\" d=\"M47.82,-125.39C50.33,-120.94 61.87,-100.5 65.76,-93.61\"/>\n",
       "</g>\n",
       "<!-- n5 -->\n",
       "<!-- n5&#45;&#45;n8 -->\n",
       "<g id=\"edge7\" class=\"edge\">\n",
       "<title>n5&#45;&#45;n8</title>\n",
       "<path fill=\"none\" stroke=\"black\" d=\"M177.52,-106.05C173.1,-104.94 153.1,-99.92 145.75,-98.07\"/>\n",
       "</g>\n",
       "</g>\n",
       "</svg>\n"
      ],
      "text/plain": [
       "Catlab.Graphics.Graphviz.Graph(\"G\", false, \"neato\", Catlab.Graphics.Graphviz.Statement[Catlab.Graphics.Graphviz.Node(\"n1\", OrderedCollections.OrderedDict{Symbol,Union{String, Catlab.Graphics.Graphviz.Html}}(:id => \"box1\",:label => \"E\")), Catlab.Graphics.Graphviz.Node(\"n2\", OrderedCollections.OrderedDict{Symbol,Union{String, Catlab.Graphics.Graphviz.Html}}(:id => \"box2\",:label => \"E\")), Catlab.Graphics.Graphviz.Node(\"n3\", OrderedCollections.OrderedDict{Symbol,Union{String, Catlab.Graphics.Graphviz.Html}}(:height => \"0\",:id => \"outer1\",:label => \"\",:margin => \"0\",:shape => \"none\",:style => \"invis\",:width => \"0\")), Catlab.Graphics.Graphviz.Node(\"n4\", OrderedCollections.OrderedDict{Symbol,Union{String, Catlab.Graphics.Graphviz.Html}}(:height => \"0\",:id => \"outer2\",:label => \"\",:margin => \"0\",:shape => \"none\",:style => \"invis\",:width => \"0\")), Catlab.Graphics.Graphviz.Node(\"n5\", OrderedCollections.OrderedDict{Symbol,Union{String, Catlab.Graphics.Graphviz.Html}}(:height => \"0\",:id => \"outer3\",:label => \"\",:margin => \"0\",:shape => \"none\",:style => \"invis\",:width => \"0\")), Catlab.Graphics.Graphviz.Node(\"n6\", OrderedCollections.OrderedDict{Symbol,Union{String, Catlab.Graphics.Graphviz.Html}}(:comment => \"junction\",:fillcolor => \"black\",:height => \"0.075\",:id => \"junction1\",:label => \"\",:shape => \"circle\",:style => \"filled\",:width => \"0.075\",:xlabel => \"v1\")), Catlab.Graphics.Graphviz.Node(\"n7\", OrderedCollections.OrderedDict{Symbol,Union{String, Catlab.Graphics.Graphviz.Html}}(:comment => \"junction\",:fillcolor => \"black\",:height => \"0.075\",:id => \"junction2\",:label => \"\",:shape => \"circle\",:style => \"filled\",:width => \"0.075\",:xlabel => \"v2\")), Catlab.Graphics.Graphviz.Node(\"n8\", OrderedCollections.OrderedDict{Symbol,Union{String, Catlab.Graphics.Graphviz.Html}}(:comment => \"junction\",:fillcolor => \"black\",:height => \"0.075\",:id => \"junction3\",:label => \"\",:shape => \"circle\",:style => \"filled\",:width => \"0.075\",:xlabel => \"v3\")), Catlab.Graphics.Graphviz.Edge(Catlab.Graphics.Graphviz.NodeID[Catlab.Graphics.Graphviz.NodeID(\"n1\", \"\", \"\"), Catlab.Graphics.Graphviz.NodeID(\"n6\", \"\", \"\")], OrderedCollections.OrderedDict{Symbol,Union{String, Catlab.Graphics.Graphviz.Html}}()), Catlab.Graphics.Graphviz.Edge(Catlab.Graphics.Graphviz.NodeID[Catlab.Graphics.Graphviz.NodeID(\"n3\", \"\", \"\"), Catlab.Graphics.Graphviz.NodeID(\"n6\", \"\", \"\")], OrderedCollections.OrderedDict{Symbol,Union{String, Catlab.Graphics.Graphviz.Html}}()), Catlab.Graphics.Graphviz.Edge(Catlab.Graphics.Graphviz.NodeID[Catlab.Graphics.Graphviz.NodeID(\"n1\", \"\", \"\"), Catlab.Graphics.Graphviz.NodeID(\"n7\", \"\", \"\")], OrderedCollections.OrderedDict{Symbol,Union{String, Catlab.Graphics.Graphviz.Html}}()), Catlab.Graphics.Graphviz.Edge(Catlab.Graphics.Graphviz.NodeID[Catlab.Graphics.Graphviz.NodeID(\"n2\", \"\", \"\"), Catlab.Graphics.Graphviz.NodeID(\"n7\", \"\", \"\")], OrderedCollections.OrderedDict{Symbol,Union{String, Catlab.Graphics.Graphviz.Html}}()), Catlab.Graphics.Graphviz.Edge(Catlab.Graphics.Graphviz.NodeID[Catlab.Graphics.Graphviz.NodeID(\"n4\", \"\", \"\"), Catlab.Graphics.Graphviz.NodeID(\"n7\", \"\", \"\")], OrderedCollections.OrderedDict{Symbol,Union{String, Catlab.Graphics.Graphviz.Html}}()), Catlab.Graphics.Graphviz.Edge(Catlab.Graphics.Graphviz.NodeID[Catlab.Graphics.Graphviz.NodeID(\"n2\", \"\", \"\"), Catlab.Graphics.Graphviz.NodeID(\"n8\", \"\", \"\")], OrderedCollections.OrderedDict{Symbol,Union{String, Catlab.Graphics.Graphviz.Html}}()), Catlab.Graphics.Graphviz.Edge(Catlab.Graphics.Graphviz.NodeID[Catlab.Graphics.Graphviz.NodeID(\"n5\", \"\", \"\"), Catlab.Graphics.Graphviz.NodeID(\"n8\", \"\", \"\")], OrderedCollections.OrderedDict{Symbol,Union{String, Catlab.Graphics.Graphviz.Html}}())], OrderedCollections.OrderedDict{Symbol,Union{String, Catlab.Graphics.Graphviz.Html}}(:fontname => \"Serif\"), OrderedCollections.OrderedDict{Symbol,Union{String, Catlab.Graphics.Graphviz.Html}}(:fontname => \"Serif\",:shape => \"ellipse\",:margin => \"0.05,0.025\",:width => \"0.5\",:height => \"0.5\"), OrderedCollections.OrderedDict{Symbol,Union{String, Catlab.Graphics.Graphviz.Html}}(:fontname => \"Serif\",:len => \"0.5\"))"
      ]
     },
     "execution_count": 32,
     "metadata": {},
     "output_type": "execute_result"
    }
   ],
   "source": [
    "paths2 = @relation (vert1=v1, vert2=v2, vert3=v3) begin\n",
    "  E(src=v1, tgt=v2)\n",
    "  E(src=v2, tgt=v3)\n",
    "end\n",
    "\n",
    "to_graphviz(paths2, box_labels=:name, junction_labels=:variable)"
   ]
  },
  {
   "cell_type": "code",
   "execution_count": 33,
   "id": "focal-wealth",
   "metadata": {},
   "outputs": [
    {
     "data": {
      "text/plain": [
       "Table with 3 columns and 5539 rows:\n",
       "     vert1  vert2  vert3\n",
       "   ┌────────────────────\n",
       " 1 │ 1      12     20\n",
       " 2 │ 1      12     25\n",
       " 3 │ 3      4      5\n",
       " 4 │ 3      4      9\n",
       " 5 │ 4      5      6\n",
       " 6 │ 4      5      10\n",
       " 7 │ 5      6      7\n",
       " 8 │ 5      6      11\n",
       " ⋮ │   ⋮      ⋮      ⋮"
      ]
     },
     "metadata": {},
     "output_type": "display_data"
    }
   ],
   "source": [
    "result = query(mutagenesis_graph, paths2)\n",
    "\n",
    "withenv(\"LINES\" => 15) do; display(result) end"
   ]
  },
  {
   "cell_type": "markdown",
   "id": "postal-craft",
   "metadata": {},
   "source": [
    "But better to formulate against original data, where more expressive queries are possible, e.g.\n",
    "\n",
    "> Find all directed paths from a carbon atom to a nitrogen atom to\n",
    "another carbon atom.\n",
    "\n",
    "This also illustrates the use of *query parameters*."
   ]
  },
  {
   "cell_type": "code",
   "execution_count": 34,
   "id": "smaller-astrology",
   "metadata": {},
   "outputs": [
    {
     "data": {
      "image/svg+xml": [
       "<?xml version=\"1.0\" encoding=\"UTF-8\" standalone=\"no\"?>\n",
       "<!DOCTYPE svg PUBLIC \"-//W3C//DTD SVG 1.1//EN\"\n",
       " \"http://www.w3.org/Graphics/SVG/1.1/DTD/svg11.dtd\">\n",
       "<!-- Generated by graphviz version 2.44.1 (20200629.0846)\n",
       " -->\n",
       "<!-- Title: G Pages: 1 -->\n",
       "<svg width=\"358pt\" height=\"183pt\"\n",
       " viewBox=\"0.00 0.00 357.79 183.00\" xmlns=\"http://www.w3.org/2000/svg\" xmlns:xlink=\"http://www.w3.org/1999/xlink\">\n",
       "<g id=\"graph0\" class=\"graph\" transform=\"scale(1 1) rotate(0) translate(4 179)\">\n",
       "<title>G</title>\n",
       "<polygon fill=\"white\" stroke=\"transparent\" points=\"-4,4 -4,-179 353.79,-179 353.79,4 -4,4\"/>\n",
       "<!-- n1 -->\n",
       "<g id=\"box1\" class=\"node\">\n",
       "<title>n1</title>\n",
       "<ellipse fill=\"none\" stroke=\"black\" cx=\"127.72\" cy=\"-68.23\" rx=\"22.24\" ry=\"18\"/>\n",
       "<text text-anchor=\"middle\" x=\"127.72\" y=\"-64.53\" font-family=\"Serif\" font-size=\"14.00\">Bond</text>\n",
       "</g>\n",
       "<!-- n9 -->\n",
       "<!-- junction -->\n",
       "<g id=\"junction1\" class=\"node\">\n",
       "<title>n9</title>\n",
       "<ellipse fill=\"black\" stroke=\"black\" cx=\"88.04\" cy=\"-59.93\" rx=\"2.5\" ry=\"2.5\"/>\n",
       "<text text-anchor=\"middle\" x=\"79.04\" y=\"-66.23\" font-family=\"Serif\" font-size=\"14.00\">a1</text>\n",
       "</g>\n",
       "<!-- n1&#45;&#45;n9 -->\n",
       "<g id=\"edge1\" class=\"edge\">\n",
       "<title>n1&#45;&#45;n9</title>\n",
       "<path fill=\"none\" stroke=\"black\" d=\"M106.02,-63.69C99.94,-62.42 94.1,-61.19 90.8,-60.5\"/>\n",
       "</g>\n",
       "<!-- n10 -->\n",
       "<!-- junction -->\n",
       "<g id=\"junction2\" class=\"node\">\n",
       "<title>n10</title>\n",
       "<ellipse fill=\"black\" stroke=\"black\" cx=\"168.82\" cy=\"-76.33\" rx=\"2.5\" ry=\"2.5\"/>\n",
       "<text text-anchor=\"middle\" x=\"159.82\" y=\"-82.63\" font-family=\"Serif\" font-size=\"14.00\">a2</text>\n",
       "</g>\n",
       "<!-- n1&#45;&#45;n10 -->\n",
       "<g id=\"edge4\" class=\"edge\">\n",
       "<title>n1&#45;&#45;n10</title>\n",
       "<path fill=\"none\" stroke=\"black\" d=\"M149.71,-72.56C156.43,-73.89 162.94,-75.17 166.35,-75.84\"/>\n",
       "</g>\n",
       "<!-- n2 -->\n",
       "<g id=\"box2\" class=\"node\">\n",
       "<title>n2</title>\n",
       "<ellipse fill=\"none\" stroke=\"black\" cx=\"209.71\" cy=\"-67.02\" rx=\"22.24\" ry=\"18\"/>\n",
       "<text text-anchor=\"middle\" x=\"209.71\" y=\"-63.32\" font-family=\"Serif\" font-size=\"14.00\">Bond</text>\n",
       "</g>\n",
       "<!-- n2&#45;&#45;n10 -->\n",
       "<g id=\"edge5\" class=\"edge\">\n",
       "<title>n2&#45;&#45;n10</title>\n",
       "<path fill=\"none\" stroke=\"black\" d=\"M187.83,-72C181.14,-73.52 174.66,-75 171.27,-75.77\"/>\n",
       "</g>\n",
       "<!-- n11 -->\n",
       "<!-- junction -->\n",
       "<g id=\"junction3\" class=\"node\">\n",
       "<title>n11</title>\n",
       "<ellipse fill=\"black\" stroke=\"black\" cx=\"247.87\" cy=\"-52.77\" rx=\"2.5\" ry=\"2.5\"/>\n",
       "<text text-anchor=\"middle\" x=\"238.87\" y=\"-59.07\" font-family=\"Serif\" font-size=\"14.00\">a3</text>\n",
       "</g>\n",
       "<!-- n2&#45;&#45;n11 -->\n",
       "<g id=\"edge8\" class=\"edge\">\n",
       "<title>n2&#45;&#45;n11</title>\n",
       "<path fill=\"none\" stroke=\"black\" d=\"M230.13,-59.4C236.08,-57.17 241.86,-55.01 245.13,-53.79\"/>\n",
       "</g>\n",
       "<!-- n3 -->\n",
       "<g id=\"box3\" class=\"node\">\n",
       "<title>n3</title>\n",
       "<ellipse fill=\"none\" stroke=\"black\" cx=\"64.93\" cy=\"-27.09\" rx=\"23.59\" ry=\"18\"/>\n",
       "<text text-anchor=\"middle\" x=\"64.93\" y=\"-23.39\" font-family=\"Serif\" font-size=\"14.00\">Atom</text>\n",
       "</g>\n",
       "<!-- n3&#45;&#45;n9 -->\n",
       "<g id=\"edge2\" class=\"edge\">\n",
       "<title>n3&#45;&#45;n9</title>\n",
       "<path fill=\"none\" stroke=\"black\" d=\"M76.22,-43.12C80.25,-48.85 84.32,-54.65 86.48,-57.71\"/>\n",
       "</g>\n",
       "<!-- n12 -->\n",
       "<!-- junction -->\n",
       "<g id=\"junction4\" class=\"node\">\n",
       "<title>n12</title>\n",
       "<ellipse fill=\"black\" stroke=\"black\" cx=\"36.5\" cy=\"-2.5\" rx=\"2.5\" ry=\"2.5\"/>\n",
       "<text text-anchor=\"middle\" x=\"17\" y=\"-8.8\" font-family=\"Serif\" font-size=\"14.00\">elem1</text>\n",
       "</g>\n",
       "<!-- n3&#45;&#45;n12 -->\n",
       "<g id=\"edge11\" class=\"edge\">\n",
       "<title>n3&#45;&#45;n12</title>\n",
       "<path fill=\"none\" stroke=\"black\" d=\"M49.05,-13.36C44.78,-9.66 40.71,-6.14 38.42,-4.16\"/>\n",
       "</g>\n",
       "<!-- n4 -->\n",
       "<g id=\"box4\" class=\"node\">\n",
       "<title>n4</title>\n",
       "<ellipse fill=\"none\" stroke=\"black\" cx=\"169.12\" cy=\"-118.34\" rx=\"23.59\" ry=\"18\"/>\n",
       "<text text-anchor=\"middle\" x=\"169.12\" y=\"-114.64\" font-family=\"Serif\" font-size=\"14.00\">Atom</text>\n",
       "</g>\n",
       "<!-- n4&#45;&#45;n10 -->\n",
       "<g id=\"edge6\" class=\"edge\">\n",
       "<title>n4&#45;&#45;n10</title>\n",
       "<path fill=\"none\" stroke=\"black\" d=\"M168.99,-100.28C168.93,-92.1 168.87,-83.3 168.84,-79\"/>\n",
       "</g>\n",
       "<!-- n13 -->\n",
       "<!-- junction -->\n",
       "<g id=\"junction5\" class=\"node\">\n",
       "<title>n13</title>\n",
       "<ellipse fill=\"black\" stroke=\"black\" cx=\"168.58\" cy=\"-157.5\" rx=\"2.5\" ry=\"2.5\"/>\n",
       "<text text-anchor=\"middle\" x=\"149.08\" y=\"-163.8\" font-family=\"Serif\" font-size=\"14.00\">elem2</text>\n",
       "</g>\n",
       "<!-- n4&#45;&#45;n13 -->\n",
       "<g id=\"edge12\" class=\"edge\">\n",
       "<title>n4&#45;&#45;n13</title>\n",
       "<path fill=\"none\" stroke=\"black\" d=\"M168.87,-136.55C168.77,-143.74 168.67,-151.17 168.62,-154.96\"/>\n",
       "</g>\n",
       "<!-- n5 -->\n",
       "<g id=\"box5\" class=\"node\">\n",
       "<title>n5</title>\n",
       "<ellipse fill=\"none\" stroke=\"black\" cx=\"282.82\" cy=\"-71.98\" rx=\"23.59\" ry=\"18\"/>\n",
       "<text text-anchor=\"middle\" x=\"282.82\" y=\"-68.28\" font-family=\"Serif\" font-size=\"14.00\">Atom</text>\n",
       "</g>\n",
       "<!-- n5&#45;&#45;n11 -->\n",
       "<g id=\"edge9\" class=\"edge\">\n",
       "<title>n5&#45;&#45;n11</title>\n",
       "<path fill=\"none\" stroke=\"black\" d=\"M263.3,-61.25C258.05,-58.37 253.04,-55.62 250.22,-54.07\"/>\n",
       "</g>\n",
       "<!-- n14 -->\n",
       "<!-- junction -->\n",
       "<g id=\"junction6\" class=\"node\">\n",
       "<title>n14</title>\n",
       "<ellipse fill=\"black\" stroke=\"black\" cx=\"318.29\" cy=\"-84.03\" rx=\"2.5\" ry=\"2.5\"/>\n",
       "<text text-anchor=\"middle\" x=\"332.79\" y=\"-90.33\" font-family=\"Serif\" font-size=\"14.00\">elem3</text>\n",
       "</g>\n",
       "<!-- n5&#45;&#45;n14 -->\n",
       "<g id=\"edge13\" class=\"edge\">\n",
       "<title>n5&#45;&#45;n14</title>\n",
       "<path fill=\"none\" stroke=\"black\" d=\"M304.68,-79.41C309.24,-80.96 313.42,-82.37 315.91,-83.22\"/>\n",
       "</g>\n",
       "<!-- n6 -->\n",
       "<!-- n6&#45;&#45;n9 -->\n",
       "<g id=\"edge3\" class=\"edge\">\n",
       "<title>n6&#45;&#45;n9</title>\n",
       "<path fill=\"none\" stroke=\"black\" d=\"M60.4,-88.42C64.01,-84.69 80.6,-67.6 86.19,-61.83\"/>\n",
       "</g>\n",
       "<!-- n7 -->\n",
       "<!-- n7&#45;&#45;n10 -->\n",
       "<g id=\"edge7\" class=\"edge\">\n",
       "<title>n7&#45;&#45;n10</title>\n",
       "<path fill=\"none\" stroke=\"black\" d=\"M168.26,-37.28C168.32,-41.65 168.66,-65.56 168.78,-73.65\"/>\n",
       "</g>\n",
       "<!-- n8 -->\n",
       "<!-- n8&#45;&#45;n11 -->\n",
       "<g id=\"edge10\" class=\"edge\">\n",
       "<title>n8&#45;&#45;n11</title>\n",
       "<path fill=\"none\" stroke=\"black\" d=\"M261.32,-14.88C259.81,-19.12 251.58,-42.33 248.79,-50.18\"/>\n",
       "</g>\n",
       "</g>\n",
       "</svg>\n"
      ],
      "text/plain": [
       "Catlab.Graphics.Graphviz.Graph(\"G\", false, \"neato\", Catlab.Graphics.Graphviz.Statement[Catlab.Graphics.Graphviz.Node(\"n1\", OrderedCollections.OrderedDict{Symbol,Union{String, Catlab.Graphics.Graphviz.Html}}(:id => \"box1\",:label => \"Bond\")), Catlab.Graphics.Graphviz.Node(\"n2\", OrderedCollections.OrderedDict{Symbol,Union{String, Catlab.Graphics.Graphviz.Html}}(:id => \"box2\",:label => \"Bond\")), Catlab.Graphics.Graphviz.Node(\"n3\", OrderedCollections.OrderedDict{Symbol,Union{String, Catlab.Graphics.Graphviz.Html}}(:id => \"box3\",:label => \"Atom\")), Catlab.Graphics.Graphviz.Node(\"n4\", OrderedCollections.OrderedDict{Symbol,Union{String, Catlab.Graphics.Graphviz.Html}}(:id => \"box4\",:label => \"Atom\")), Catlab.Graphics.Graphviz.Node(\"n5\", OrderedCollections.OrderedDict{Symbol,Union{String, Catlab.Graphics.Graphviz.Html}}(:id => \"box5\",:label => \"Atom\")), Catlab.Graphics.Graphviz.Node(\"n6\", OrderedCollections.OrderedDict{Symbol,Union{String, Catlab.Graphics.Graphviz.Html}}(:height => \"0\",:id => \"outer1\",:label => \"\",:margin => \"0\",:shape => \"none\",:style => \"invis\",:width => \"0\")), Catlab.Graphics.Graphviz.Node(\"n7\", OrderedCollections.OrderedDict{Symbol,Union{String, Catlab.Graphics.Graphviz.Html}}(:height => \"0\",:id => \"outer2\",:label => \"\",:margin => \"0\",:shape => \"none\",:style => \"invis\",:width => \"0\")), Catlab.Graphics.Graphviz.Node(\"n8\", OrderedCollections.OrderedDict{Symbol,Union{String, Catlab.Graphics.Graphviz.Html}}(:height => \"0\",:id => \"outer3\",:label => \"\",:margin => \"0\",:shape => \"none\",:style => \"invis\",:width => \"0\")), Catlab.Graphics.Graphviz.Node(\"n9\", OrderedCollections.OrderedDict{Symbol,Union{String, Catlab.Graphics.Graphviz.Html}}(:comment => \"junction\",:fillcolor => \"black\",:height => \"0.075\",:id => \"junction1\",:label => \"\",:shape => \"circle\",:style => \"filled\",:width => \"0.075\",:xlabel => \"a1\")), Catlab.Graphics.Graphviz.Node(\"n10\", OrderedCollections.OrderedDict{Symbol,Union{String, Catlab.Graphics.Graphviz.Html}}(:comment => \"junction\",:fillcolor => \"black\",:height => \"0.075\",:id => \"junction2\",:label => \"\",:shape => \"circle\",:style => \"filled\",:width => \"0.075\",:xlabel => \"a2\"))  …  Catlab.Graphics.Graphviz.Edge(Catlab.Graphics.Graphviz.NodeID[Catlab.Graphics.Graphviz.NodeID(\"n1\", \"\", \"\"), Catlab.Graphics.Graphviz.NodeID(\"n10\", \"\", \"\")], OrderedCollections.OrderedDict{Symbol,Union{String, Catlab.Graphics.Graphviz.Html}}()), Catlab.Graphics.Graphviz.Edge(Catlab.Graphics.Graphviz.NodeID[Catlab.Graphics.Graphviz.NodeID(\"n2\", \"\", \"\"), Catlab.Graphics.Graphviz.NodeID(\"n10\", \"\", \"\")], OrderedCollections.OrderedDict{Symbol,Union{String, Catlab.Graphics.Graphviz.Html}}()), Catlab.Graphics.Graphviz.Edge(Catlab.Graphics.Graphviz.NodeID[Catlab.Graphics.Graphviz.NodeID(\"n4\", \"\", \"\"), Catlab.Graphics.Graphviz.NodeID(\"n10\", \"\", \"\")], OrderedCollections.OrderedDict{Symbol,Union{String, Catlab.Graphics.Graphviz.Html}}()), Catlab.Graphics.Graphviz.Edge(Catlab.Graphics.Graphviz.NodeID[Catlab.Graphics.Graphviz.NodeID(\"n7\", \"\", \"\"), Catlab.Graphics.Graphviz.NodeID(\"n10\", \"\", \"\")], OrderedCollections.OrderedDict{Symbol,Union{String, Catlab.Graphics.Graphviz.Html}}()), Catlab.Graphics.Graphviz.Edge(Catlab.Graphics.Graphviz.NodeID[Catlab.Graphics.Graphviz.NodeID(\"n2\", \"\", \"\"), Catlab.Graphics.Graphviz.NodeID(\"n11\", \"\", \"\")], OrderedCollections.OrderedDict{Symbol,Union{String, Catlab.Graphics.Graphviz.Html}}()), Catlab.Graphics.Graphviz.Edge(Catlab.Graphics.Graphviz.NodeID[Catlab.Graphics.Graphviz.NodeID(\"n5\", \"\", \"\"), Catlab.Graphics.Graphviz.NodeID(\"n11\", \"\", \"\")], OrderedCollections.OrderedDict{Symbol,Union{String, Catlab.Graphics.Graphviz.Html}}()), Catlab.Graphics.Graphviz.Edge(Catlab.Graphics.Graphviz.NodeID[Catlab.Graphics.Graphviz.NodeID(\"n8\", \"\", \"\"), Catlab.Graphics.Graphviz.NodeID(\"n11\", \"\", \"\")], OrderedCollections.OrderedDict{Symbol,Union{String, Catlab.Graphics.Graphviz.Html}}()), Catlab.Graphics.Graphviz.Edge(Catlab.Graphics.Graphviz.NodeID[Catlab.Graphics.Graphviz.NodeID(\"n3\", \"\", \"\"), Catlab.Graphics.Graphviz.NodeID(\"n12\", \"\", \"\")], OrderedCollections.OrderedDict{Symbol,Union{String, Catlab.Graphics.Graphviz.Html}}()), Catlab.Graphics.Graphviz.Edge(Catlab.Graphics.Graphviz.NodeID[Catlab.Graphics.Graphviz.NodeID(\"n4\", \"\", \"\"), Catlab.Graphics.Graphviz.NodeID(\"n13\", \"\", \"\")], OrderedCollections.OrderedDict{Symbol,Union{String, Catlab.Graphics.Graphviz.Html}}()), Catlab.Graphics.Graphviz.Edge(Catlab.Graphics.Graphviz.NodeID[Catlab.Graphics.Graphviz.NodeID(\"n5\", \"\", \"\"), Catlab.Graphics.Graphviz.NodeID(\"n14\", \"\", \"\")], OrderedCollections.OrderedDict{Symbol,Union{String, Catlab.Graphics.Graphviz.Html}}())], OrderedCollections.OrderedDict{Symbol,Union{String, Catlab.Graphics.Graphviz.Html}}(:fontname => \"Serif\"), OrderedCollections.OrderedDict{Symbol,Union{String, Catlab.Graphics.Graphviz.Html}}(:fontname => \"Serif\",:shape => \"ellipse\",:margin => \"0.05,0.025\",:width => \"0.5\",:height => \"0.5\"), OrderedCollections.OrderedDict{Symbol,Union{String, Catlab.Graphics.Graphviz.Html}}(:fontname => \"Serif\",:len => \"0.5\"))"
      ]
     },
     "execution_count": 34,
     "metadata": {},
     "output_type": "execute_result"
    }
   ],
   "source": [
    "paths2 = @relation (atom1=a1, atom2=a2, atom3=a3) begin\n",
    "  Bond(atom1=a1, atom2=a2)\n",
    "  Bond(atom1=a2, atom2=a3)\n",
    "  Atom(_id=a1, element=elem1)\n",
    "  Atom(_id=a2, element=elem2)\n",
    "  Atom(_id=a3, element=elem3)\n",
    "end\n",
    "\n",
    "to_graphviz(paths2, box_labels=:name, junction_labels=:variable)"
   ]
  },
  {
   "cell_type": "code",
   "execution_count": 35,
   "id": "agricultural-creation",
   "metadata": {},
   "outputs": [
    {
     "data": {
      "text/plain": [
       "Table with 3 columns and 41 rows:\n",
       "     atom1  atom2  atom3\n",
       "   ┌────────────────────\n",
       " 1 │ 163    164    165\n",
       " 2 │ 169    170    163\n",
       " 3 │ 620    624    608\n",
       " 4 │ 768    769    787\n",
       " 5 │ 786    766    767\n",
       " 6 │ 1105   1104   1086\n",
       " 7 │ 1315   1319   1320\n",
       " 8 │ 1316   1321   1320\n",
       " ⋮ │   ⋮      ⋮      ⋮"
      ]
     },
     "metadata": {},
     "output_type": "display_data"
    }
   ],
   "source": [
    "result = query(mutagenesis, paths2,\n",
    "               (elem1=\"c\", elem2=\"n\", elem3=\"c\"))\n",
    "\n",
    "withenv(\"LINES\" => 15) do; display(result) end"
   ]
  },
  {
   "cell_type": "markdown",
   "id": "pharmaceutical-parish",
   "metadata": {},
   "source": [
    "The results table is much smaller than before."
   ]
  },
  {
   "cell_type": "markdown",
   "id": "intelligent-cutting",
   "metadata": {},
   "source": [
    "## Conclusion\n",
    "\n",
    "- Graphs, data frames, and relational databases are often treated as inhabiting separate universes\n",
    "- But they don't have to!\n",
    "- Category theory provides the mathematics to build unified tools\n",
    "- We are implementing them in [Catlab.jl](https://github.com/AlgebraicJulia/Catlab.jl)\n",
    "\n",
    "### Acknowledgments\n",
    "\n",
    "Contributors to Catlab and other AlgebraicJulia projects:\n",
    "\n",
    "- Andrew Baas\n",
    "- James Fairbanks\n",
    "- Micah Halter\n",
    "- Sophie Libkind \n",
    "- Owen Lynch\n",
    "\n",
    "### Resources\n",
    "\n",
    "Second half of talk based on recent blog post:\n",
    "\n",
    "> [C-sets for data analysis: relational data and conjunctive queries](https://www.algebraicjulia.org/blog/post/2020/12/cset-conjunctive-queries/)  \n",
    "> December 28, 2020\n",
    "\n",
    "Blog post also discusses equivalence between:\n",
    "\n",
    "- conjunctive queries on relational databases\n",
    "- finite limits in $\\mathbf{FinSet}$\n",
    "\n",
    "For additional topics, see the AlgebraicJulia [website](https://www.algebraicjulia.org/) and [blog](https://www.algebraicjulia.org/blog/).\n",
    "\n",
    "Talk to us at #catlab.jl channel in [Julia Zulip](https://julialang.zulipchat.com/)!"
   ]
  }
 ],
 "metadata": {
  "kernelspec": {
   "display_name": "Julia 1.5.3",
   "language": "julia",
   "name": "julia-1.5"
  },
  "language_info": {
   "file_extension": ".jl",
   "mimetype": "application/julia",
   "name": "julia",
   "version": "1.5.3"
  }
 },
 "nbformat": 4,
 "nbformat_minor": 5
}
