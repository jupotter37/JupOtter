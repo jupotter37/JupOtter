{
 "cells": [
  {
   "cell_type": "markdown",
   "metadata": {},
   "source": [
    "# Background\n",
    "\n",
    "Before diving into learning regular expression syntax, let's spend a little time understanding what regular expressions are, what benefits they offer us, and what kinds of problems we can solve with them.\n",
    "\n",
    "[This workshop](#section 1)<br>\n",
    "\n",
    "[What are regular expressions?](#section 2)<br>\n",
    "\n",
    "[Why use regular expressions?](#section 3)<br>\n",
    "\n",
    "### Time\n",
    "- Teaching: 20 minutes\n",
    "- Exercises: 5 minutes"
   ]
  },
  {
   "cell_type": "markdown",
   "metadata": {},
   "source": [
    "## This workshop<a id='section 1'></a>\n",
    "\n",
    "In this workshop, we're going to focus on **using regular expressions to solve real world problems**. Regular expressions can be found in all modern programming languages and many text editing software tools. For paedological and practical purposes, we'll be using Python. But remember that most of what you learn in this workshop will carry across to any environment in which regular expressions are available."
   ]
  },
  {
   "cell_type": "markdown",
   "metadata": {},
   "source": [
    "## What are regular expressions?<a id='section 2'></a>\n",
    "\n",
    "Regular expressions are of both theoretical and practical interest in computer science. For the theoretical side, see the [Wikipedia page on regular expressions](https://en.wikipedia.org/wiki/Regular_expression) and [on regular langauges](https://en.wikipedia.org/wiki/Regular_language). For our purposes, a regular expression is a sequence of characters that defines a search pattern. We can use regular expressions to find particular patterns in text data. The text data could be an English sentence, or e-mail addresses, or TeX commands, Python source code, or anything you like. Once we've found a particular pattern, we can optionally replace it with some other text. **In this way, regular expressions are really just advanced \"find and replace\" techniques.**\n",
    "\n",
    "Here are some tasks you can achieve easily and quickly with regular expressions:\n",
    "\n",
    "* Extract all words within parentheses in a text file\n",
    "* Find all products on a webpage that cost over \\$250\n",
    "* Replace swear words with family-friendly alternatives\n",
    "* Extract all the dates and times in a document\n",
    "* Locate all the phone numbers in a series of emails\n",
    "* Find all words regardless of whether they are singular or plural, or past, present or future tense.\n",
    "\n",
    "**What are some situations in your work where regular expressions would be useful?**\n",
    "\n",
    "In general, we use regular expressions when we know have a large corpus of text data, and we know the data we want to extract follows specific rules.\n",
    "\n",
    "Here are some example regular expressions:\n",
    "\n",
    "* `(.*)`\n",
    "* `family|ies`\n",
    "* `fu+c?k`\n",
    "* `n|a|b`\n",
    "* `one`\n",
    "* `$\\d+`\n",
    "* `after.$`\n",
    "* `the (\\w)er .*, the (\\w)er .*`\n",
    "\n",
    "We can think of regular expressions as a tiny, highly specialized programming language. This \"tiny, highly specialized programming language\" is available in Python, R, C, Excel, Microsoft Word, Google Docs, vim, emacs, notepad++, etc. To use regular expressions, we have to learn their syntax, just like you did when you learnt Python or R syntax. In fact, **learning to use regular expressions is 95% learning the syntax.** You can learn the whole syntax for regular expressions in a few hours, although becoming proficient will probably take a few hours of practice. The awesome thing about regular expressions is that their syntax is almost entirely identical across different programming languages. All the patterns we wrote above match the same patterns regardless of where you're using them. In this workshop, we'll be using Python. **But bear in mind, the regular expression syntax we learn today isn't unique to Python.**\n",
    "\n",
    "Another way to think about regular expressions is that they define a set of strings. For example, it might be the set of all possible URLs, or the set of all possible social security numbers. In a sense, you can think of the regular expression like this:\n",
    "\n",
    "`\\d{3}-\\d{2}-\\d{4}` = `{123-45-6789, 123-45-6780, 123-45-6781, ...}`\n",
    "\n",
    "Regular expressions are useful because they are a concise way of representing the set of strings you care about. We can use the regular expression above to search for any strings in our data that are in that set. Another way to say that is that we search for strings in our data that **match the regular expression**.\n",
    "\n",
    "\n",
    "One last note on terminology. Regular expressions are also called regexes, regex patterns or REs."
   ]
  },
  {
   "cell_type": "markdown",
   "metadata": {},
   "source": [
    "## Why use regular expresions?<a id='section 3'></a>\n",
    "\n",
    "To get a feel for why regular expressions are so useful, let's consider what text processing looks like without them. Let's try to find phone numbers."
   ]
  },
  {
   "cell_type": "code",
   "execution_count": 1,
   "metadata": {},
   "outputs": [],
   "source": [
    "def is_phone_number(text):\n",
    "    '''Return True if `text` is a valid US phone number.\n",
    "    \n",
    "    A phone number in the US is a string of digits with a 3-digit Area Code, \n",
    "    followed by hyphen, a group of three digits, another hyphen and a group \n",
    "    of four digits.'''\n",
    "    # Test the length of the string\n",
    "    if len(text)!= 12:\n",
    "        return False\n",
    "    # Test that the first three characters are digits\n",
    "    for i in range(3): \n",
    "        if not text[i].isnumeric():\n",
    "            return False\n",
    "    # Test that the fourth character is a '-'\n",
    "    if text[3] != '-':\n",
    "        return False\n",
    "    # Test that the next three characters are digits\n",
    "    for i in range(4,7):\n",
    "        if not text[i].isnumeric():\n",
    "            return False\n",
    "    # Test that the next character is a '-'\n",
    "    if text[7] != '-':\n",
    "        return False\n",
    "    # Test that the last four characters are digits\n",
    "    for i in range(8,12): \n",
    "        if not text[i].isnumeric():\n",
    "            return False\n",
    "    # If we didn't fail any of the above tests, it's a valid US phone number\n",
    "    return True"
   ]
  },
  {
   "cell_type": "markdown",
   "metadata": {},
   "source": [
    "Let's use our new function on a test string."
   ]
  },
  {
   "cell_type": "code",
   "execution_count": 2,
   "metadata": {},
   "outputs": [
    {
     "data": {
      "text/plain": [
       "True"
      ]
     },
     "execution_count": 2,
     "metadata": {},
     "output_type": "execute_result"
    }
   ],
   "source": [
    "test_string = '510-654-1220'\n",
    "is_phone_number(test_string)"
   ]
  },
  {
   "cell_type": "code",
   "execution_count": 3,
   "metadata": {},
   "outputs": [
    {
     "data": {
      "text/plain": [
       "False"
      ]
     },
     "execution_count": 3,
     "metadata": {},
     "output_type": "execute_result"
    }
   ],
   "source": [
    "test_string = 'this is not a phone number'\n",
    "is_phone_number(test_string)"
   ]
  },
  {
   "cell_type": "code",
   "execution_count": 5,
   "metadata": {},
   "outputs": [
    {
     "data": {
      "text/plain": [
       "False"
      ]
     },
     "execution_count": 5,
     "metadata": {},
     "output_type": "execute_result"
    }
   ],
   "source": [
    "test_string = '415-677-211' # missing final digit\n",
    "is_phone_number(test_string)"
   ]
  },
  {
   "cell_type": "markdown",
   "metadata": {},
   "source": [
    "Now we want to find all the phone numbers in a message. We can do that by looping through every substring of length 12 in our message, and using our is_phone_number function above."
   ]
  },
  {
   "cell_type": "code",
   "execution_count": 8,
   "metadata": {},
   "outputs": [
    {
     "name": "stdout",
     "output_type": "stream",
     "text": [
      "Phone number found: 409-223-8952\n",
      "Phone number found: 409-888-8498\n"
     ]
    }
   ],
   "source": [
    "message = 'Call me at 409-223-8952 tomorrow. 409-888-8498 is my office'\n",
    "for i in range (len(message)):\n",
    "    chunk = message[i:i+12]\n",
    "    if is_phone_number(chunk):\n",
    "        print('Phone number found: '+ chunk)"
   ]
  },
  {
   "cell_type": "markdown",
   "metadata": {},
   "source": [
    "This definitely works. But there's so much overhead! Regular expressions allow us to be much more concise. Here's how we could do the same thing with regular expressions. In Python, we need to import the re module in order to use regular expressions. The regular expression for this example is assigned to the variable `phone_number_pattern`. The pattern is: \"three digits followed by a '-', followed by three digits, followed by '-', followed by four digits\". This is **a lot** easier to understand than our `is_phone_number` function."
   ]
  },
  {
   "cell_type": "code",
   "execution_count": 9,
   "metadata": {},
   "outputs": [
    {
     "name": "stdout",
     "output_type": "stream",
     "text": [
      "Phone number found: 409-223-8952\n",
      "Phone number found: 409-888-8498\n"
     ]
    }
   ],
   "source": [
    "import re\n",
    "phone_number_pattern = '\\d{3}-\\d{3}-\\d{4}'\n",
    "for number in re.findall(phone_number_pattern, message):\n",
    "    print('Phone number found: '+ number)"
   ]
  },
  {
   "cell_type": "markdown",
   "metadata": {},
   "source": [
    "### Challenge\n",
    "\n",
    "_What are some problems with our regular expression defined above? Will it find all valid US phone numbers? Hint: Do people always write their phone number in exactly the format used above?_\n",
    "\n",
    "### Solution\n",
    "This won't work if people don't write the dashes, omit the area code, or use any spaces between the digits.\n",
    "In general, this simple regular expression is a brittle approach. By that, we mean that it will break (i.e. not work when we want it to) quite easily."
   ]
  },
  {
   "cell_type": "markdown",
   "metadata": {},
   "source": [
    "In summary, we're interested in learning how to use regular expressions because:\n",
    "\n",
    "> _To master regular expressions is to master your data_ (Friedl 2006: xvii)"
   ]
  }
 ],
 "metadata": {
  "anaconda-cloud": {},
  "kernelspec": {
   "display_name": "Python 3",
   "language": "python",
   "name": "python3"
  },
  "language_info": {
   "codemirror_mode": {
    "name": "ipython",
    "version": 3
   },
   "file_extension": ".py",
   "mimetype": "text/x-python",
   "name": "python",
   "nbconvert_exporter": "python",
   "pygments_lexer": "ipython3",
   "version": "3.6.1"
  }
 },
 "nbformat": 4,
 "nbformat_minor": 1
}
