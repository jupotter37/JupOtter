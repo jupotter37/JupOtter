{
 "cells": [
  {
   "cell_type": "markdown",
   "metadata": {},
   "source": [
    "### **Code to extract trips between two locations**"
   ]
  },
  {
   "cell_type": "markdown",
   "metadata": {},
   "source": [
    "Split into three parts:\n",
    "1. The first part includes breaking down the bigger file into smaller chunks (`TRIP_DETAIL`)\n",
    "2. Finding numberplate passing through location1 and location 2 on the same date (done using `platedate`)\n",
    "3. Using those platedates to filter out trips between the two locations\n",
    "\n",
    "**Note**: Since I've broken down TRIP_DETAIL into smaller files, we need to run the code for each file "
   ]
  },
  {
   "cell_type": "code",
   "execution_count": null,
   "metadata": {},
   "outputs": [],
   "source": [
    "\n",
    "%%capture\n",
    "import pandas as pd\n",
    "# import modin.pandas as pd\n",
    "import numpy as np\n",
    "import math\n",
    "import seaborn as sns\n",
    "import matplotlib.pyplot as plt\n",
    "import vaex # https://vaex.io/docs/index.html\n",
    "import pathlib\n",
    "from pathlib import *\n",
    "import os\n",
    "import pickle\n",
    "# import cufflinks as cf\n",
    "# import chart_studio.plotly as py\n",
    "import seaborn as sns\n",
    "import plotly.express as px\n",
    "%matplotlib inline\n",
    "from plotly.offline import download_plotlyjs, init_notebook_mode,plot,iplot\n",
    "\n",
    "init_notebook_mode(connected=True)\n",
    "import dask.dataframe as dd\n",
    "from dask.diagnostics import ProgressBar"
   ]
  },
  {
   "cell_type": "markdown",
   "metadata": {},
   "source": [
    "### **Part I**"
   ]
  },
  {
   "cell_type": "code",
   "execution_count": null,
   "metadata": {},
   "outputs": [],
   "source": [
    "##TODO -> Create functions for repetitive tasks\n",
    "\n",
    "# ,skiprows=range(3, 260000000)\n",
    "# Input the csv\n",
    "# Extracting a subset of 1000000 rows by default\n",
    "def load_data(dir_name,base_filename):\n",
    "    complete_path=os.path.join(dir_name, base_filename + \".\" + \"csv\")\n",
    "    # df=pd.read_csv(complete_path,sep=';',encoding= 'unicode_escape',nrows=10000,engine='c',infer_datetime_format=True,usecols=['Trip_Summary_Id','Numberplate','Point_time-stamp','Latitude',\n",
    "    #                                                                                                                           'Longitude','Meters_travelled','Time_elapsed','Point_speed','Number_of_lanes',\n",
    "    #                                                                                                                           'Road_type','Road_class','Road_form','Speed_restriction','TNO_Time-stamp'])\n",
    "    # df = pd.concat((chunk for chunk in pd.read_csv(complete_path,sep=';',nrows=5000000,encoding= 'unicode_escape',engine='c',infer_datetime_format=True,chunksize=1000000,low_memory=False,usecols=['Numberplate','Latitude',\n",
    "    #                                                                                                                           'Longitude','Meters_travelled','Time_elapsed','Point_speed','Number_of_lanes',\n",
    "    #                                                                                                                           'Road_type','Road_class','Speed_restriction','TNO_Time-stamp'])))\n",
    "    \n",
    "    df = pd.concat((chunk for chunk in pd.read_csv(complete_path,sep=';',nrows=20000000,encoding= 'unicode_escape',engine='c',infer_datetime_format=True,chunksize=1000000,low_memory=False)))\n",
    "    return df\n",
    "\n",
    "# Dropping the first and last row of csv (\"------\")\n",
    "def drop_first_row(df):\n",
    "    df=df.iloc[1:]\n",
    "    df=df[:-1]\n",
    "    return df\n",
    "\n",
    "def resetIndex(df):\n",
    "    return df.reset_index()\n",
    "\n",
    "\n",
    "##TODO -> Rewrite this function\n",
    "\n",
    "def cast_to_correct_dtype(df):\n",
    "    \n",
    "    if 'Id' in df.columns:\n",
    "        df['Id'] = df['Id'].astype('int')\n",
    "        \n",
    "    if 'AOS_position_Id' in df.columns:\n",
    "        df['AOS_position_Id'] = df['AOS_position_Id'].astype('int')\n",
    "    \n",
    "    if 'Acceleration_x' in df.columns:\n",
    "        df['Acceleration_x'] = df['Acceleration_x'].astype('float')\n",
    "        \n",
    "    if 'Acceleration_y' in df.columns:\n",
    "        df['Acceleration_y'] = df['Acceleration_y'].astype('float')\n",
    "        \n",
    "    if 'TNO_Valid' in df.columns:\n",
    "        df['TNO_Valid'] = df['TNO_Valid'].astype('int')\n",
    "    \n",
    "    if 'Latitude' in df.columns:\n",
    "        df['Latitude'] = df['Latitude'].astype('float')\n",
    "        \n",
    "    if 'Longitude' in df.columns:\n",
    "        df['Longitude'] = df['Longitude'].astype('float')\n",
    "        \n",
    "    if 'Event/action_speed' in df.columns:\n",
    "        df['Event/action_speed'] = df['Event/action_speed'].astype('int')\n",
    "        \n",
    "    if 'Event/action_type' in df.columns:\n",
    "        df['Event/action_type'] = df['Event/action_type'].astype('int')    \n",
    "        \n",
    "    if 'Number_of_lanes' in df.columns:\n",
    "        df['Number_of_lanes'] = df['Number_of_lanes'].astype('int')\n",
    "        \n",
    "    if 'Road_class' in df.columns:\n",
    "        df['Road_class'] = df['Road_class'].astype('int')\n",
    "        \n",
    "    if 'Road_type' in df.columns:\n",
    "        df['Road_type'] = df['Road_type'].astype('int')\n",
    "        \n",
    "    if 'Crash_position_Id' in df.columns:\n",
    "        df['Crash_position_Id']=df['Crash_position_Id'].astype('int')\n",
    "        \n",
    "    if 'Crash_position_Id' in df.columns:\n",
    "        df['Crash_position_Id'] = df['Crash_position_Id'].astype('int')\n",
    "        \n",
    "    if 'Point_speed' in df.columns:\n",
    "        df['Point_speed'] = df['Point_speed'].astype('float')\n",
    "        \n",
    "    if 'Average_speed_fpp' in df.columns:\n",
    "        df['Average_speed_fpp'] = df['Average_speed_fpp'].astype('float')  \n",
    "        \n",
    "    if 'Average_Speed' in df.columns:\n",
    "        df['Average_Speed'] = df['Average_Speed'].astype('float')        \n",
    "\n",
    "    if 'Maximum_speed' in df.columns:\n",
    "        df['Maximum_speed'] = df['Maximum_speed'].astype('float')     \n",
    "        \n",
    "    if 'Meters_travelled' in df.columns:\n",
    "        df['Meters_travelled'] = df['Meters_travelled'].astype('int')  \n",
    "\n",
    "    if 'Road_form' in df.columns:\n",
    "        df['Road_form'] = df['Road_form'].astype('int') \n",
    "        \n",
    "    if 'Speed_restriction' in df.columns:\n",
    "        df['Speed_restriction'] = df['Speed_restriction'].astype('int') \n",
    "        \n",
    "    if 'Crash_speed' in df.columns:\n",
    "        df['Crash_speed'] = df['Crash_speed'].astype('int')\n",
    "        \n",
    "    if 'Maximum_acceleration' in df.columns:\n",
    "        df['Maximum_acceleration'] = df['Maximum_acceleration'].astype('float')\n",
    "        \n",
    "    if 'Numberplate' in df.columns:\n",
    "        df['Numberplate']=df['Numberplate'].astype('str')\n",
    "        \n",
    "\n",
    "    return df\n",
    "\n",
    "            \n",
    "\n",
    "## Handling date time related fields\n",
    "\n",
    "def cast_date_time(df):\n",
    "    if 'AOS_event/action_time' in df.columns:\n",
    "        df['AOS_event/action_time']=pd.datetime(df['AOS_event/action_time'],errors='coerce')\n",
    "        df['AOS_event/action_time_hour']=df['AOS_event/action_time'].dt.hour\n",
    "    \n",
    "    if 'TNO_Trip-start' in df.columns:\n",
    "        df['TNO_Trip-start'] = pd.to_datetime(df['TNO_Trip-start'],errors='coerce')\n",
    "        df['TNO_Trip-start_hour'] = df['TNO_Trip-start'].dt.hour\n",
    "        \n",
    "    if 'TNO_Trip-end' in df.columns:\n",
    "        df['TNO_Trip-end'] = pd.to_datetime(df['TNO_Trip-end'],errors='coerce')\n",
    "        \n",
    "    if 'Position_time' in df.columns:\n",
    "        df['Position_time'] = pd.to_datetime(df['Position_time'],errors='coerce')\n",
    "\n",
    "    if 'TNO_Time-stamp' in df.columns:\n",
    "        df['TNO_Time-stamp'] = pd.to_datetime(df['TNO_Time-stamp'],errors='coerce')\n",
    "        df['TNO_Time-stamp_hour'] = df['TNO_Time-stamp'].dt.hour\n",
    "        \n",
    "    return df\n",
    "\n",
    "## Converting Time Stamps to datetime\n",
    "\n",
    "def date_and_time_columns(df):\n",
    "    if 'AOS_event/action_time' in df.columns:\n",
    "        df['AOS Trip Date']=df['AOS_event/action_time'].dt.date\n",
    "        df['AOS Event Time']=df['AOS_event/action_time'].dt.time\n",
    "        df['AOS Trip Hour']=df['AOS_event/action_time'].dt.hour\n",
    "    \n",
    "    \n",
    "    if 'TNO_Time-stamp' in df.columns:\n",
    "        df['TNO Trip Date'] = df['TNO_Time-stamp'].dt.date\n",
    "        df['TNO Trip Time'] = df['TNO_Time-stamp'].dt.time\n",
    "        df['TNO Trip Hour']=df['TNO_Time-stamp'].dt.hour\n",
    "        # df['TNO Trip Hour'] = df['TNO Trip Time'].dt.hour\n",
    "    return df\n",
    "\n",
    "def Time_of_the_day(x):\n",
    "    if (x > 4) and (x <= 8):\n",
    "        return 'Early Morning'\n",
    "    elif (x > 8) and (x < 12 ):\n",
    "        return 'Morning'\n",
    "    elif (x >= 12) and (x <= 16):\n",
    "        return'Noon'\n",
    "    elif (x > 16) and (x <= 20) :\n",
    "        return 'Evening'\n",
    "    elif (x > 20) and (x <= 24):\n",
    "        return'Night'\n",
    "    elif (x <= 4):\n",
    "        return'Late Night'\n",
    "    \n",
    "    \n",
    "def rename_some_stuff(df):\n",
    "    if 'Event/action_type' in df.columns:\n",
    "        df[\"Event type Rename\"]=df[\"Event/action_type\"].replace({0: 'Headway Warning = OFF', 1: 'Headway Warning (long)', 2: 'Headway Warning (medium)'\n",
    "                                                                                 ,3: 'Headway Warning (short)',10:'Lane Departure Warning = OFF',11:'Left Lane Departure Warning = ON'\n",
    "                                                                                 ,12:'Right Lane Departure Warning = ON',13:'Left and Right Lane Departure Warning = ON'\n",
    "                                                                                 ,20:' Indicators = OFF',21:'Left Indicator = ON',22:'Right Indicator = ON',23:'Left and Right Indicator = ON'\n",
    "                                                                                 ,40:'Brakes = OFF',41:'Brakes = ON'})\n",
    "        \n",
    "    if 'Road_type' in df.columns:\n",
    "        df[\"Road_type_Rename\"]=df[\"Road_type\"].replace({0: \"Urban\", 1: \"Motorway\",2:\"Extra Urban\",3:\"Unavailable\"})\n",
    "        \n",
    "    return df\n",
    "\n",
    "def detect_overspeeding_count(df):\n",
    "    # create a list of our conditions\n",
    "    # if 'Event/action_speed' and 'Speed_restriction' in df.columns:\n",
    "    #     conditions = [(df['Event/action_speed']> df['Speed_restriction'])]\n",
    "    #     # # create a list of the values we want to assign for each condition\n",
    "    #     values = [1]\n",
    "    #     # create a new column and use np.select to assign values to it using our lists as arguments\n",
    "    #     df['Overspeeding_event'] = np.select(conditions, values)\n",
    "        \n",
    "    # return df\n",
    "\n",
    "    if 'Point_speed' and 'Speed_restriction' in df.columns:\n",
    "        conditions = [(df['Point_speed']> df['Speed_restriction'])]\n",
    "        # # create a list of the values we want to assign for each condition\n",
    "        values = [1]\n",
    "        # create a new column and use np.select to assign values to it using our lists as arguments\n",
    "        df['Overspeeding_event'] = np.select(conditions, values)\n",
    "        \n",
    "    return df\n",
    "\n",
    "def some_processing(df):\n",
    "    if 'Meters_travelled' in df.columns:\n",
    "        df['KmTravelled']=df['Meters_travelled']/1000\n",
    "    return df"
   ]
  },
  {
   "cell_type": "code",
   "execution_count": null,
   "metadata": {},
   "outputs": [],
   "source": [
    "df20M=pd.read_pickle(r'D:\\AOS FOT\\Octo\\pickle_files\\Complete_data_Trip_detail\\TRIP_DETAIL_20M.pkl')\n",
    "df20M\n",
    "# df20M['Speed_restriction'].unique()"
   ]
  },
  {
   "cell_type": "code",
   "execution_count": null,
   "metadata": {},
   "outputs": [],
   "source": [
    "a=df20M['Admin_area'].value_counts()"
   ]
  },
  {
   "cell_type": "markdown",
   "metadata": {},
   "source": [
    "#### Saving a TRIP_DETAIL/AOS_DETAIL files as smaller pkl files and CSVs  "
   ]
  },
  {
   "cell_type": "code",
   "execution_count": null,
   "metadata": {},
   "outputs": [],
   "source": [
    "# pd.read_csv(r'D:\\AOS FOT\\Octo\\CSV Export\\AOS_SUMMARY\\AOS_SUMMARY.csv',nrows=200000,error_bad_lines=False,delimiter=';')"
   ]
  },
  {
   "cell_type": "code",
   "execution_count": null,
   "metadata": {},
   "outputs": [],
   "source": [
    "%%capture\n",
    "df_TRIP_DETAIL = (load_data(\"D:\\AOS FOT\\Octo\\CSV Export\\AOS_SUMMARY\",\"AOS_SUMMARY\")\n",
    "                                      .pipe(drop_first_row)\n",
    "                                      .pipe(resetIndex)\n",
    "                                      .pipe(cast_to_correct_dtype)\n",
    "                                      .pipe(cast_date_time) # TODO some error here that needs to be resolved later\n",
    "                                      .pipe(date_and_time_columns)\n",
    "                                      .pipe(rename_some_stuff)\n",
    "                                      .pipe(detect_overspeeding_count))\n",
    "\n",
    "df_TRIP_DETAIL['AOS_event/action_time'] = pd.to_datetime(df_TRIP_DETAIL['AOS_event/action_time'], format= '%H:%M:%S', errors='ignore')\n",
    "df_TRIP_DETAIL.info\n",
    "# df_TRIP_DETAIL['AOS_event/action_time']=pd.datetime(df_TRIP_DETAIL['AOS_event/action_time'])\n",
    "# df_TRIP_DETAIL['AOS_event/action_date']=df_TRIP_DETAIL['AOS_event/action_time'].dt.date\n",
    "# df_TRIP_DETAIL['Part of Day'] = df_TRIP_DETAIL['AOS_event/action_time'].apply(Time_of_the_day)\n",
    "df_TRIP_DETAIL['AOS_event/action_date_str'] = df_TRIP_DETAIL['AOS_event/action_date'].apply(lambda x: str(x))\n",
    "df_TRIP_DETAIL['platedate'] = df_TRIP_DETAIL['Numberplate'] + df_TRIP_DETAIL['AOS_event/action_date_str'] # Adding platedate is important cause that's how we'll filter trips later\n",
    "df_TRIP_DETAIL.info(verbose=False, memory_usage=\"deep\")"
   ]
  },
  {
   "cell_type": "code",
   "execution_count": null,
   "metadata": {},
   "outputs": [],
   "source": [
    "df_TRIP_DETAIL.info()"
   ]
  },
  {
   "cell_type": "markdown",
   "metadata": {},
   "source": [
    "### Saving dataframe as pickle file and CSV\n",
    "\n",
    "Note: You don't need to do all these steps I can share the saved files with you directly if you want"
   ]
  },
  {
   "cell_type": "code",
   "execution_count": null,
   "metadata": {},
   "outputs": [],
   "source": [
    "df_TRIP_DETAIL.to_pickle(r'D:\\AOS FOT\\Octo\\pickle_files\\Complete_data_aos_summary\\AOS_SUMMARY_80M.pkl')"
   ]
  },
  {
   "cell_type": "code",
   "execution_count": null,
   "metadata": {},
   "outputs": [],
   "source": [
    "df_TRIP_DETAIL.to_csv(r'D:\\AOS FOT\\Octo\\CSV Export\\TRIP_DETAIL\\split_data\\AOS_SUMMARY_80M.csv')"
   ]
  },
  {
   "cell_type": "markdown",
   "metadata": {},
   "source": [
    "### Reading Pickle Files"
   ]
  },
  {
   "cell_type": "code",
   "execution_count": null,
   "metadata": {},
   "outputs": [],
   "source": [
    "df_TRIP_DETAIL_10M=pd.read_pickle(r'D:\\AOS FOT\\Octo\\pickle_files\\Complete_data_Trip_detail\\TRIP_DETAIL_20M.pkl')\n",
    "df_TRIP_DETAIL_10M"
   ]
  },
  {
   "cell_type": "code",
   "execution_count": null,
   "metadata": {},
   "outputs": [],
   "source": [
    "a=df_TRIP_DETAIL_10M['Admin_area'].value_counts()\n",
    "a"
   ]
  },
  {
   "cell_type": "code",
   "execution_count": null,
   "metadata": {},
   "outputs": [],
   "source": [
    "df_TRIP_DETAIL_10M = df_TRIP_DETAIL_10M.drop(df_TRIP_DETAIL_10M[df_TRIP_DETAIL_10M['Point_speed']==0].index)"
   ]
  },
  {
   "cell_type": "code",
   "execution_count": null,
   "metadata": {},
   "outputs": [],
   "source": [
    "df_TRIP_DETAIL_10M_mway = df_TRIP_DETAIL_10M[df_TRIP_DETAIL_10M['Road_type_Rename']=='Motorway']"
   ]
  },
  {
   "cell_type": "code",
   "execution_count": null,
   "metadata": {},
   "outputs": [],
   "source": [
    "df_TRIP_DETAIL_10M_mway = df_TRIP_DETAIL_10M_mway.drop(df_TRIP_DETAIL_10M_mway[df_TRIP_DETAIL_10M_mway['Point_speed']>150].index)"
   ]
  },
  {
   "cell_type": "code",
   "execution_count": null,
   "metadata": {},
   "outputs": [],
   "source": [
    "import seaborn as sns\n",
    "# tips = sns.load_dataset(\"tips\")\n",
    "ax = sns.boxplot(x=df_TRIP_DETAIL_10M_mway[\"Point_speed\"])"
   ]
  },
  {
   "cell_type": "code",
   "execution_count": null,
   "metadata": {},
   "outputs": [],
   "source": [
    "df_TRIP_DETAIL_10M_mway_grouped=df_TRIP_DETAIL_10M_mway.groupby('Numberplate').mean() \n",
    "# df_TRIP_DETAIL_10M_mway_grouped"
   ]
  },
  {
   "cell_type": "code",
   "execution_count": null,
   "metadata": {},
   "outputs": [],
   "source": [
    "import seaborn as sns\n",
    "# tips = sns.load_dataset(\"tips\")\n",
    "ax = sns.boxplot(x=df_TRIP_DETAIL_10M_mway_grouped[\"Point_speed\"])"
   ]
  },
  {
   "cell_type": "code",
   "execution_count": null,
   "metadata": {},
   "outputs": [],
   "source": []
  },
  {
   "cell_type": "code",
   "execution_count": null,
   "metadata": {},
   "outputs": [],
   "source": [
    "df_AOS_SUMMARY_20M=pd.read_pickle(r'D:\\AOS FOT\\Octo\\pickle_files\\Complete_data_aos_summary\\aos_summary_20M.pkl')\n",
    "df_AOS_SUMMARY_20M.columns"
   ]
  },
  {
   "cell_type": "code",
   "execution_count": null,
   "metadata": {},
   "outputs": [],
   "source": [
    "df_AOS_SUMMARY_20M"
   ]
  },
  {
   "cell_type": "markdown",
   "metadata": {},
   "source": [
    "### **Part II**"
   ]
  },
  {
   "cell_type": "markdown",
   "metadata": {},
   "source": [
    "### Extracting Common Platedates\n",
    "\n",
    "- In this step we'll extract the `platedate` that passed through `area_list = ['start_location','end_location']` on the same day.\n",
    "\n",
    "- We'll save these values as a list and use it later to extract trips."
   ]
  },
  {
   "cell_type": "code",
   "execution_count": null,
   "metadata": {},
   "outputs": [],
   "source": [
    "location1='Utrecht' # Define Location 1 here\n",
    "location2='Eindhoven' # Define Location 2 here"
   ]
  },
  {
   "cell_type": "code",
   "execution_count": null,
   "metadata": {},
   "outputs": [],
   "source": [
    "import dask.dataframe as dd\n",
    "from dask.diagnostics import ProgressBar\n",
    "\n",
    "\n",
    "\n",
    "area_list = [location1,location2] # We can change these values to any start and end location\n",
    "df = dd.read_csv(r'D:\\AOS FOT\\Octo\\CSV Export\\TRIP_DETAIL\\TRIP_DETAIL.csv',delimiter=';', encoding='unicode_escape', usecols=['Id', 'TNO_Time-stamp', 'Numberplate', 'Admin_area'])\n",
    "\n",
    "df = df[df['Admin_area'].isin(area_list)]\n",
    "with ProgressBar():\n",
    "    df = df.compute()\n",
    "    \n",
    "df['platedate'] = df['Numberplate'] + df['TNO_Time-stamp'].str[:10]"
   ]
  },
  {
   "cell_type": "code",
   "execution_count": null,
   "metadata": {},
   "outputs": [],
   "source": [
    "## Casting `TNO_Time-stamp` to correct dtype\n",
    "df['TNO_Time-stamp'] = pd.to_datetime(df['TNO_Time-stamp'],errors='coerce')\n",
    "def date_and_time_columns(df):\n",
    "    if 'TNO_Time-stamp' in df.columns:\n",
    "        df['TNO Trip Date'] = df['TNO_Time-stamp'].dt.date\n",
    "    return df\n",
    "\n",
    "df=date_and_time_columns(df)\n",
    "df['TNO_date_str'] = df['TNO Trip Date'].apply(lambda x: str(x))"
   ]
  },
  {
   "cell_type": "code",
   "execution_count": null,
   "metadata": {},
   "outputs": [],
   "source": [
    "df_location1=df[(df['Admin_area']==location1)] # We can replace these locations to anything else\n",
    "df_location2=df[(df['Admin_area']==location2)]\n",
    "\n",
    "df_location1=cast_to_correct_dtype(df_location1)\n",
    "df_location2=cast_to_correct_dtype(df_location2)"
   ]
  },
  {
   "cell_type": "code",
   "execution_count": null,
   "metadata": {},
   "outputs": [],
   "source": [
    "common_utrecht_leek_numberplate=(np.intersect1d(df_location1['Numberplate'], df_location2['Numberplate']))\n",
    "common_utrecht_leek_platedate=(np.intersect1d(df_location1['platedate'], df_location2['platedate']))\n",
    "# common_utrecht_leek_numberplate"
   ]
  },
  {
   "cell_type": "code",
   "execution_count": null,
   "metadata": {},
   "outputs": [],
   "source": [
    "# Saving common platedate list as pkl file\n",
    "\n",
    "with open(\"common_utrecht_eindhoven_numberplate\", \"wb\") as fp:   #Pickling\n",
    "    pickle.dump(common_utrecht_leek_numberplate, fp)\n",
    "    \n",
    "with open(\"common_utrecht_eindhoven_platedate\", \"wb\") as fp:   #Pickling\n",
    "    pickle.dump(common_utrecht_leek_platedate, fp)"
   ]
  },
  {
   "cell_type": "code",
   "execution_count": null,
   "metadata": {},
   "outputs": [],
   "source": [
    "df_utrecht_points = df_location1[df_location1['Numberplate'].isin(common_utrecht_leek_numberplate)]\n",
    "df_leek_points = df_location2[df_location2['Numberplate'].isin(common_utrecht_leek_numberplate)]\n",
    "# df_utrecht_points"
   ]
  },
  {
   "cell_type": "markdown",
   "metadata": {},
   "source": [
    "### **Part III**"
   ]
  },
  {
   "cell_type": "code",
   "execution_count": null,
   "metadata": {},
   "outputs": [],
   "source": [
    "\n",
    "%%capture\n",
    "import pandas as pd\n",
    "# import modin.pandas as pd\n",
    "import numpy as np\n",
    "import math\n",
    "import seaborn as sns\n",
    "import matplotlib.pyplot as plt\n",
    "# import vaex # https://vaex.io/docs/index.html\n",
    "import pathlib\n",
    "from pathlib import *\n",
    "import os\n",
    "import pickle\n",
    "# import cufflinks as cf\n",
    "# import chart_studio.plotly as py\n",
    "import seaborn as sns\n",
    "import plotly.express as px\n",
    "%matplotlib inline\n",
    "from plotly.offline import download_plotlyjs, init_notebook_mode,plot,iplot\n",
    "\n",
    "init_notebook_mode(connected=True)\n",
    "import dask.dataframe as dd\n",
    "from dask.diagnostics import ProgressBar"
   ]
  },
  {
   "cell_type": "code",
   "execution_count": null,
   "metadata": {},
   "outputs": [],
   "source": [
    "#### Common platedate - loading pkl file\n",
    "with open(\"common_utrecht_eindhoven_platedate\", \"rb\") as fp:\n",
    "    common_utrecht_leek_platedate = pickle.load(fp)\n",
    "    \n",
    "with open(\"common_utrecht_eindhoven_numberplate\", \"rb\") as fp:\n",
    "    common_utrecht_leek_numberplate = pickle.load(fp)"
   ]
  },
  {
   "cell_type": "markdown",
   "metadata": {},
   "source": [
    "Same Numberplates Other Locations within NL"
   ]
  },
  {
   "cell_type": "code",
   "execution_count": null,
   "metadata": {},
   "outputs": [],
   "source": [
    "len(common_utrecht_leek_platedate)"
   ]
  },
  {
   "cell_type": "code",
   "execution_count": null,
   "metadata": {},
   "outputs": [],
   "source": [
    "# df = dd.read_csv(r'D:\\AOS FOT\\Octo\\CSV Export\\AOS_SUMMARY\\split_data\\aos_summary_20M.csv',assume_missing=True,on_bad_lines='skip') # AOS SUMMARY\n",
    "\n",
    "df = dd.read_csv(r'D:\\AOS FOT\\Octo\\CSV Export\\TRIP_DETAIL\\split_data\\df20M.csv',assume_missing=True,on_bad_lines='skip') # TRIP DETAIL\n",
    "\n",
    "\n",
    "## Extracting all datapoints that pass through location1 and location 2 from TRIP_DETAIL \n",
    "df = df[df['platedate'].isin(common_utrecht_leek_platedate)]\n",
    "with ProgressBar():\n",
    "    df_trip_utrecht_leek = df.compute()\n",
    "    \n",
    "df_trip_utrecht_leek['Numberplate_copy'] = df_trip_utrecht_leek['Numberplate']\n",
    "df_trip_utrecht_leek['platedate_copy'] = df_trip_utrecht_leek['platedate']\n",
    "# len(df_trip_utrecht_leek['platedate_copy'].unique())"
   ]
  },
  {
   "cell_type": "code",
   "execution_count": null,
   "metadata": {},
   "outputs": [],
   "source": [
    "# Function to extract indi dataframes (for each numberplate)\n",
    "def dataframe_unique_numberplates(df):\n",
    "    dfs = {}\n",
    "    for platedate in df['platedate'].unique():\n",
    "        try:\n",
    "            dfs[platedate] = df.assign(**{platedate: df['platedate'].eq(platedate).astype(int)}).drop(columns='platedate')\n",
    "        except:\n",
    "            pass\n",
    "        \n",
    "    return dfs\n",
    "\n",
    "df_trip_utrecht_leek=dataframe_unique_numberplates(df_trip_utrecht_leek)\n",
    "# len(df_trip_utrecht_leek)\n",
    "# df_trip_utrecht_leek.keys()\n",
    "df_trip_utrecht_leek_keys=df_trip_utrecht_leek.keys()\n",
    "# # df_trip_utrecht_leek_keys\n",
    "df_trip_utrecht_leek_keys_list = list(df_trip_utrecht_leek.keys())\n",
    "# print((df_trip_utrecht_leek_keys_list[0]))\n",
    "# df_trip_utrecht_leek_keys"
   ]
  },
  {
   "cell_type": "code",
   "execution_count": null,
   "metadata": {},
   "outputs": [],
   "source": [
    "print(type(df_trip_utrecht_leek))"
   ]
  },
  {
   "cell_type": "code",
   "execution_count": null,
   "metadata": {},
   "outputs": [],
   "source": [
    "# @TODO ->  replace this key with a list of keys and run a for loop and save dfs dynamically\n",
    "\n",
    "def extracting_df_per_numberplate(df,key):\n",
    "    \n",
    "    df=df.get(key)\n",
    "    # df=df.get(df_trip_utrecht_leek_keys_list[0])\n",
    "    df = df.drop(df[df[key]==0].index)\n",
    "    return df\n",
    "# df_utrecht_leek_1=extracting_df_per_numberplate(df_trip_utrecht_leek,df_trip_utrecht_leek_keys_list[0])"
   ]
  },
  {
   "cell_type": "code",
   "execution_count": null,
   "metadata": {},
   "outputs": [],
   "source": [
    "# Filter trips between start and end location (right now we include trips from Location1 to Location2 and back).\n",
    "# If you only want trips one way just comment the else statement\n",
    "\n",
    "def extract_trip_between_start_end_location(df,start_location,end_location):\n",
    "    df.drop(['index'],axis=1,inplace=True)\n",
    "    df.reset_index(inplace=True)\n",
    "    \n",
    "    start_location_first_index=(df[df['Admin_area']==start_location].index)[0]\n",
    "    end_location_first_index=(df[df['Admin_area']==end_location].index)[0]\n",
    "    \n",
    "    if start_location_first_index>end_location_first_index:\n",
    "        df=df[end_location_first_index:start_location_first_index]\n",
    "        return df\n",
    "        \n",
    "    else:\n",
    "        df=df[start_location_first_index:end_location_first_index]\n",
    "        return df"
   ]
  },
  {
   "cell_type": "code",
   "execution_count": null,
   "metadata": {},
   "outputs": [],
   "source": [
    "location1='Utrecht' # Define Location 1 here\n",
    "location2='Eindhoven' # Define Location 2 here"
   ]
  },
  {
   "cell_type": "code",
   "execution_count": null,
   "metadata": {},
   "outputs": [],
   "source": [
    "## saving the dataframes as a list.\n",
    "list_of_unique_dataframes=list()\n",
    "for i in df_trip_utrecht_leek_keys_list:\n",
    "    try:\n",
    "        unique_dfs=extracting_df_per_numberplate(df_trip_utrecht_leek,i)\n",
    "        unique_dfs_trip=extract_trip_between_start_end_location(unique_dfs,location1,location2) #location1,location2\n",
    "        list_of_unique_dataframes.append(unique_dfs_trip)\n",
    "    except:\n",
    "        pass\n",
    "# list_of_unique_dataframes"
   ]
  },
  {
   "cell_type": "code",
   "execution_count": null,
   "metadata": {},
   "outputs": [],
   "source": [
    "df_utrecht_leek_filtered = pd.concat(list_of_unique_dataframes) #concatenating list to form dataframe\n",
    "\n",
    "df_utrecht_leek_filtered=df_utrecht_leek_filtered.loc[:,~df_utrecht_leek_filtered.columns.str.startswith('B')] # dropping extra columns that start with B (platedate names)\n",
    "df_utrecht_leek_filtered=df_utrecht_leek_filtered.loc[:,~df_utrecht_leek_filtered.columns.str.startswith('N')]# dropping extra columns that start with N (platedate names)\n",
    "df_utrecht_leek_filtered"
   ]
  },
  {
   "cell_type": "code",
   "execution_count": null,
   "metadata": {},
   "outputs": [],
   "source": [
    "# fig = px.scatter_mapbox(df_utrecht_leek_filtered,lat=\"Latitude\",lon=\"Longitude\",title=\"Utrecht-Leek  111 Trips (71 Trucks)\")\n",
    "\n",
    "# fig.update_layout(mapbox_style=\"open-street-map\",margin={\"r\":0.75,\"t\":25,\"l\":0,\"b\":0},title_x=0.5)\n",
    "# # fig.update_layout()\n",
    "# fig.show()"
   ]
  },
  {
   "cell_type": "code",
   "execution_count": null,
   "metadata": {},
   "outputs": [],
   "source": [
    "import glob\n",
    "import os\n",
    "\n",
    "path=r'D:\\AOS FOT\\Octo\\pickle_files\\utrecht_eindhoven\\trip_detail'\n",
    "all_files = glob.glob(os.path.join(path, \"*.pkl\"))\n",
    "\n",
    "df_utrecht_leek_filtered = pd.concat((pd.read_pickle(f) for f in all_files), ignore_index=True)"
   ]
  },
  {
   "cell_type": "code",
   "execution_count": null,
   "metadata": {},
   "outputs": [],
   "source": [
    "df_utrecht_leek_filtered.to_pickle(r'D:\\AOS FOT\\Octo\\pickle_files\\utrecht_eindhoven\\trip_detail_utrecht_eindhoven_20M.pkl')"
   ]
  },
  {
   "cell_type": "markdown",
   "metadata": {},
   "source": [
    "Extracting platedates that pass through the same road and plugging them into complete dataframe to extract trips"
   ]
  },
  {
   "cell_type": "code",
   "execution_count": null,
   "metadata": {},
   "outputs": [],
   "source": [
    "groupby_numberplate_utrecht_leek = df_utrecht_leek_filtered.groupby(\"platedate_copy\")[\"KmTravelled\"].sum()\n",
    "groupby_numberplate_utrecht_leek"
   ]
  },
  {
   "cell_type": "code",
   "execution_count": null,
   "metadata": {},
   "outputs": [],
   "source": [
    "#grouping df based on platedate_copy \n",
    "# (Note:Here you need to manually check the range of distance that's common and add that to next step so that we can extract the same road)\n",
    "\n",
    "df_utrecht_leek_filtered_grouped=df_utrecht_leek_filtered.groupby('platedate_copy').sum() \n",
    "df_utrecht_leek_filtered_grouped\n",
    "\n",
    "rslt_df = df_utrecht_leek_filtered_grouped.loc[(df_utrecht_leek_filtered_grouped['KmTravelled'] >= 70) & (df_utrecht_leek_filtered_grouped['KmTravelled'] <=90)] #Road 1 - (Utrecht-Eindhoven)\n",
    "\n",
    "\n",
    "# rslt_df = df_utrecht_leek_filtered_grouped.loc[(df_utrecht_leek_filtered_grouped['KmTravelled'] >= 150) & (df_utrecht_leek_filtered_grouped['KmTravelled'] <=180)] #Road 1 - (Utrecht to Leek - Highway A27-A6-A7)\n",
    "# rslt_df = df_utrecht_leek_filtered_grouped.loc[(df_utrecht_leek_filtered_grouped['KmTravelled'] >= 180) & (df_utrecht_leek_filtered_grouped['KmTravelled'] <=220)] #Road 2 - (Utrecht to Leek - Highway A28)\n",
    "\n",
    "rslt_df=rslt_df.reset_index()\n",
    "platedate_copy_same_road=rslt_df['platedate_copy']\n",
    "platedate_copy_same_road # List of platedates that pass through the same road"
   ]
  },
  {
   "cell_type": "code",
   "execution_count": null,
   "metadata": {},
   "outputs": [],
   "source": [
    "df=pd.read_csv(r\"D:\\AOS FOT\\Octo\\CSV Export\\Individual Clustering Motorway\\df_grp_aos_trip_detail_utrecht_leek_highway.csv\")"
   ]
  },
  {
   "cell_type": "code",
   "execution_count": null,
   "metadata": {},
   "outputs": [],
   "source": [
    "df = df_utrecht_leek_filtered[df_utrecht_leek_filtered['platedate_copy'].isin(platedate_copy_same_road)] # Extract complete df\n",
    "df"
   ]
  },
  {
   "cell_type": "code",
   "execution_count": null,
   "metadata": {},
   "outputs": [],
   "source": [
    "df['Numberplate'] = df['platedate_copy'].str[0:6]"
   ]
  },
  {
   "cell_type": "code",
   "execution_count": null,
   "metadata": {},
   "outputs": [],
   "source": [
    "list_of_numberplate=list(df['Numberplate'])\n",
    "len(list_of_numberplate)"
   ]
  },
  {
   "cell_type": "code",
   "execution_count": null,
   "metadata": {},
   "outputs": [],
   "source": [
    "import dask.dataframe as dd\n",
    "from dask.diagnostics import ProgressBar\n",
    "\n",
    "\n",
    "\n",
    "# area_list = [location1,location2] # We can change these values to any start and end location\n",
    "df = dd.read_csv(r'D:\\AOS FOT\\Octo\\CSV Export\\TRIP_DETAIL\\TRIP_DETAIL.csv',delimiter=';', encoding='unicode_escape')\n",
    "\n",
    "df = df[df['Numberplate'].isin(list_of_numberplate)]\n",
    "df = df[df['Road_type']==1] #Motorway only trips\n",
    "with ProgressBar():\n",
    "    df = df.compute()\n",
    "    \n",
    "df['platedate'] = df['Numberplate'] + df['TNO_Time-stamp'].str[:10]"
   ]
  },
  {
   "cell_type": "code",
   "execution_count": null,
   "metadata": {},
   "outputs": [],
   "source": [
    "df.to_csv(r\"D:\\AOS FOT\\Octo\\pickle_files\\utrecht_leek\\df_complete_aos_within_netherlands_motorways_utrecht_leek.csv\")"
   ]
  },
  {
   "cell_type": "code",
   "execution_count": null,
   "metadata": {},
   "outputs": [],
   "source": [
    "\n",
    "from shapely.geometry import Point, Polygon\n",
    "\n",
    "# Create a Polygon\n",
    "# coords_rotte = [(51.977901, 4.467480), (51.918861, 4.417012), (51.874370, 4.513485), (51.930857, 4.570123)]\n",
    "\n",
    "coords_nl_belgium_de = [(51.319810, 3.199518), (51.141676, 4.044834), (51.151092, 4.433142), (51.160870, 4.911878),(51.119796, 5.379190),(50.916492, 5.347477),(50.732720, 5.558885),(50.646984, 5.868460),(50.682498, 6.225990),(50.774220, 6.788565\n",
    "\n",
    "),(51.090741, 6.993645),(51.366330, 7.097475),(51.706392, 7.281298),(52.086558, 7.481535),(52.401805, 7.644418),(52.863343, 7.731970),(53.276982, 7.739262),(53.781184, 7.597500),(53.531285, 5.602048),(53.350568, 4.873847),(53.126881, 4.628008),(52.855526, 4.454778),(52.527262, 4.287084),(52.171565, 4.004032),(51.879936, 3.720315),(51.601678, 3.373136),\n",
    "                (51.388379, 3.063189)]\n",
    "poly_nl_belgium_de = Polygon(coords_nl_belgium_de)\n",
    "poly_nl_belgium_de"
   ]
  },
  {
   "cell_type": "code",
   "execution_count": null,
   "metadata": {},
   "outputs": [],
   "source": [
    "# initialize list of lists\n",
    "from shapely.geometry import Point, Polygon\n",
    "coords_nl_belgium_de = [(51.319810, 3.199518), (51.141676, 4.044834), (51.151092, 4.433142), (51.160870, 4.911878),(51.119796, 5.379190),(50.916492, 5.347477),(50.732720, 5.558885),(50.646984, 5.868460),(50.682498, 6.225990),(50.774220, 6.788565\n",
    "\n",
    "),(51.090741, 6.993645),(51.366330, 7.097475),(51.706392, 7.281298),(52.086558, 7.481535),(52.401805, 7.644418),(52.863343, 7.731970),(53.276982, 7.739262),(53.781184, 7.597500),(53.531285, 5.602048),(53.350568, 4.873847),(53.126881, 4.628008),(52.855526, 4.454778),(52.527262, 4.287084),(52.171565, 4.004032),(51.879936, 3.720315),(51.601678, 3.373136),\n",
    "                (51.388379, 3.063189)]\n",
    "# Create the pandas DataFrame\n",
    "df_poly_nl_belgium_de = pd.DataFrame(coords_nl_belgium_de, columns=['Lat', 'Lon'])\n",
    "# print dataframe.\n",
    "# df_poly_nl_belgium_de"
   ]
  },
  {
   "cell_type": "code",
   "execution_count": null,
   "metadata": {},
   "outputs": [],
   "source": [
    "polygon = Polygon([tuple(x) for x in df_poly_nl_belgium_de[['Lat', 'Lon']].to_numpy()])\n",
    "df['Within_NL'] = df.apply(lambda x: polygon.contains(Point(x['Latitude'], x['Longitude'])), axis=1)"
   ]
  },
  {
   "cell_type": "code",
   "execution_count": null,
   "metadata": {},
   "outputs": [],
   "source": [
    "df_inter_city_trip_detail = df.drop(df[df['Within_NL']==False].index)\n",
    "df_inter_city_trip_detail"
   ]
  },
  {
   "cell_type": "code",
   "execution_count": null,
   "metadata": {},
   "outputs": [],
   "source": [
    "df_inter_city_trip_detail.to_csv(r\"D:\\AOS FOT\\Octo\\pickle_files\\utrecht_leek\\df_complete_td_within_netherlands_motorways_utrecht_leek.csv\")"
   ]
  },
  {
   "cell_type": "code",
   "execution_count": null,
   "metadata": {},
   "outputs": [],
   "source": [
    "df['Numberplate'] = df['platedate_copy'].str[0:6]"
   ]
  },
  {
   "cell_type": "code",
   "execution_count": null,
   "metadata": {},
   "outputs": [],
   "source": [
    "len(df['platedate_copy'].unique())"
   ]
  },
  {
   "cell_type": "code",
   "execution_count": null,
   "metadata": {},
   "outputs": [],
   "source": [
    "fig = px.scatter_mapbox(df[df['Numberplate']=='BVSG72'],lat=\"Latitude\",lon=\"Longitude\",title=\"Utrecht-Leek  111 Trips (71 Trucks)\",color=\"Numberplate\")\n",
    "\n",
    "fig.update_layout(mapbox_style=\"open-street-map\",margin={\"r\":0.75,\"t\":25,\"l\":0,\"b\":0},title_x=0.5)\n",
    "# fig.update_layout()\n",
    "fig.show()"
   ]
  },
  {
   "cell_type": "code",
   "execution_count": null,
   "metadata": {},
   "outputs": [],
   "source": [
    "def pre_processing(df):\n",
    "    # df = df.drop(df[df['Average_speed_fpp']==0].index) # Dropping rows where driver is still \n",
    "    df['Numberplate_copy'] = df['Numberplate'] # creating copy of numberplate\n",
    "    # df['platedate_copy'] = df['platedate'] # creating copy of platedate\n",
    "    return df\n",
    "\n",
    "def creating_grps(df):\n",
    "    \"\"\"This function will split df into two groups to calculate mean speed \n",
    "    and total distance travelled by each numberplate in Urban areas within that city\"\"\"\n",
    "    \n",
    "    df_groupby_mean = df.groupby(['Numberplate']).mean()\n",
    "    df_groupby_mean.reset_index(inplace=True)\n",
    "    \n",
    "    df_groupby_sum = df.groupby(['Numberplate']).sum()\n",
    "    df_groupby_sum.reset_index(inplace=True)\n",
    "    \n",
    "    return df_groupby_mean,df_groupby_sum\n",
    "\n",
    "def dropping_columns_mean(df):\n",
    "    df=df.drop(['Unnamed: 0', 'index', 'Id', 'Header_Id',\n",
    "             'Trip_Summary_Id', 'Latitude', 'Longitude', 'Status',\n",
    "             'Meters_travelled', 'Time_elapsed','Average_speed_fpp',\n",
    "             'Point_AOS_headway', 'Road_type', 'Road_class',\n",
    "             'Road_form', 'Speed_restriction', 'TNO_Valid', 'TNO_Day',\n",
    "             'TNO_Area_Valid', 'TNO_Time_elapsed', 'TNO_Average_speed',\n",
    "             'TNO_Time-stamp_hour', 'TNO Trip Hour','Overspeeding_event',\n",
    "             'KmTravelled'], axis = 1)\n",
    "    return df \n",
    "\n",
    "def dropping_columns_sum(df):\n",
    "    df=df.drop(['Unnamed: 0', 'index', 'Id', 'Header_Id',\n",
    "             'Trip_Summary_Id', 'Latitude', 'Longitude', 'Status',\n",
    "             'Meters_travelled', 'Time_elapsed', 'Average_speed_fpp',\n",
    "             'Point_AOS_headway','Road_type', 'Road_class',\n",
    "             'Road_form', 'Speed_restriction', 'TNO_Valid', 'TNO_Day',\n",
    "             'TNO_Area_Valid', 'TNO_Time_elapsed', 'TNO_Average_speed',\n",
    "             'TNO_Time-stamp_hour', 'TNO Trip Hour','Point_speed'], axis = 1)\n",
    "    return df"
   ]
  },
  {
   "cell_type": "code",
   "execution_count": null,
   "metadata": {},
   "outputs": [],
   "source": [
    "df_groupby_mean,df_groupby_sum = (df.pipe(pre_processing).pipe(creating_grps))\n",
    "df_groupby_sum=dropping_columns_sum(df_groupby_sum)\n",
    "df_groupby_mean=dropping_columns_mean(df_groupby_mean)\n",
    "\n",
    "\n",
    "def merge(df_groupby_sum,df_groupby_mean):\n",
    "    df = pd.merge(df_groupby_mean,df_groupby_sum, on='Numberplate', how='outer') #here Numberplate is common column\n",
    "    df=df.rename(columns={'Point_speed': 'Point_speed_mean_intra_city',\n",
    "                   'Overspeeding_event': 'Overspeeding_event_sum_intra_city',\n",
    "                   'KmTravelled': 'KmTravelled_sum_intra_city'})\n",
    "    df['norm_overspeeding']=df['Overspeeding_event_sum_intra_city']/df['KmTravelled_sum_intra_city']\n",
    "    return df\n",
    "    \n",
    "df_city_grouped_trip_detail=merge(df_groupby_sum,df_groupby_mean)\n",
    "df_city_grouped_trip_detail"
   ]
  },
  {
   "cell_type": "code",
   "execution_count": null,
   "metadata": {},
   "outputs": [],
   "source": [
    "len(df['Numberplate'].unique())"
   ]
  },
  {
   "cell_type": "code",
   "execution_count": null,
   "metadata": {},
   "outputs": [],
   "source": [
    "fig = px.scatter_mapbox(df,lat=\"Latitude\",lon=\"Longitude\",title=\"Utrecht-Leek  111 Trips (71 Trucks)\")\n",
    "\n",
    "fig.update_layout(mapbox_style=\"open-street-map\",margin={\"r\":0.75,\"t\":25,\"l\":0,\"b\":0},title_x=0.5)\n",
    "# fig.update_layout()\n",
    "fig.show()"
   ]
  },
  {
   "cell_type": "markdown",
   "metadata": {},
   "source": [
    "### **Trip Analysis** "
   ]
  },
  {
   "cell_type": "code",
   "execution_count": null,
   "metadata": {},
   "outputs": [],
   "source": [
    "import glob\n",
    "import os\n",
    "\n",
    "path=r'D:\\AOS FOT\\Octo\\pickle_files\\utrecht_leek\\trips_road_1'\n",
    "all_files = glob.glob(os.path.join(path, \"*.pkl\"))\n",
    "\n",
    "df = pd.concat((pd.read_pickle(f) for f in all_files), ignore_index=True)\n",
    "df"
   ]
  },
  {
   "cell_type": "code",
   "execution_count": null,
   "metadata": {},
   "outputs": [],
   "source": [
    "df"
   ]
  },
  {
   "cell_type": "code",
   "execution_count": null,
   "metadata": {},
   "outputs": [],
   "source": [
    "df = df.drop(df[df['Numberplate']=='BTHN95'].index)\n",
    "df = df.drop(df[df['Numberplate']=='BVFP92'].index)\n",
    "df = df.drop(df[df['Numberplate']=='BTDS93'].index)\n",
    "df = df.drop(df[df['Numberplate']=='BTFX65'].index)\n",
    "df = df.drop(df[df['Numberplate']=='BTFX64'].index)\n",
    "df = df.drop(df[df['Numberplate']=='BTFT45'].index)\n",
    "# df = df.drop(df[df['Numberplate']=='BTHN95'].index)\n",
    "\n",
    "\n",
    "fig = px.scatter_mapbox(df,lat=\"Latitude\",lon=\"Longitude\",color =\"Numberplate\",title=\"Utrecht-Leek  111 Trips (71 Trucks)\")\n",
    "\n",
    "fig.update_layout(mapbox_style=\"open-street-map\",margin={\"r\":0.75,\"t\":25,\"l\":0,\"b\":0},title_x=0.5)\n",
    "# fig.update_layout()\n",
    "fig.show()"
   ]
  },
  {
   "cell_type": "code",
   "execution_count": null,
   "metadata": {},
   "outputs": [],
   "source": [
    "df=df.loc[:,~df.columns.str.startswith('B')]\n",
    "df=df.loc[:,~df.columns.str.startswith('N')]\n",
    "df\n",
    "# df_mean=df.groupby('platedate_copy').mean()\n",
    "# df_mean"
   ]
  },
  {
   "cell_type": "code",
   "execution_count": null,
   "metadata": {},
   "outputs": [],
   "source": [
    "df['Numberplate'] = df['platedate_copy'].str[0:6]\n",
    "df"
   ]
  },
  {
   "cell_type": "code",
   "execution_count": null,
   "metadata": {},
   "outputs": [],
   "source": [
    "len(df['Numberplate'].unique())"
   ]
  },
  {
   "cell_type": "code",
   "execution_count": null,
   "metadata": {},
   "outputs": [],
   "source": [
    "df.to_csv(r\"D:\\AOS FOT\\Octo\\CSV Export\\Individual Clustering Motorway\\TripDetail\\Utrecht_Leek\\utrecht_leek_motorway_td.csv\")"
   ]
  },
  {
   "cell_type": "code",
   "execution_count": null,
   "metadata": {},
   "outputs": [],
   "source": [
    "ax=sns.displot(data=df_mean, x=\"Point_speed\", kde=True,palette=\"Set2\")\n",
    "plt.xlabel('Mean Speed (km/h)')\n",
    "plt.ylabel('Count')\n",
    "plt.title('Distribution of Mean Speed of Trucks : Utrecht - Leek')\n"
   ]
  },
  {
   "cell_type": "code",
   "execution_count": null,
   "metadata": {},
   "outputs": [],
   "source": [
    "plt.figure(figsize=(10,5))\n",
    "flierprops = dict(marker='o', markerfacecolor='None', markersize=10,  markeredgecolor='black')\n",
    "\n",
    "ax = sns.boxplot(data=df_mean, x=\"Point_speed\",palette=\"Set2\",orient=\"v\",width=0.8,flierprops=flierprops)\n",
    "ax = sns.swarmplot(x=\"Point_speed\", data=df_mean, color=\".3\")\n",
    "# notation indicating an outlier\n",
    "ax.annotate('Outlier', xy=(89.2,0), xytext=(89,-0.2), fontsize=14,\n",
    "            arrowprops=dict(arrowstyle='->', ec='grey', lw=2), bbox = dict(boxstyle=\"round\", fc=\"0.8\"))\n",
    "\n",
    "# xtick, label, and title\n",
    "# plt.xticks(fontsize=14)\n",
    "\n",
    "plt.xlabel('Point Speed (km/h)')\n",
    "plt.title('Distribution of Mean Speed of Trucks (Utrecht-Leek)')"
   ]
  },
  {
   "cell_type": "code",
   "execution_count": null,
   "metadata": {},
   "outputs": [],
   "source": [
    "dfs = [y for x, y in df.groupby('platedate_copy', as_index=False)] # Splitting bigger dataframe into smaller dataframes using unique platedates \n",
    "\n",
    "for i in range(len(dfs)):\n",
    "    dfs[i]['KmTravelled_cumsum'] = dfs[i]['KmTravelled'].cumsum()\n",
    "dfs_cumsum = pd.concat(dfs)"
   ]
  },
  {
   "cell_type": "code",
   "execution_count": null,
   "metadata": {},
   "outputs": [],
   "source": [
    "plt.figure(figsize=(20,10))\n",
    "sns.set_theme()\n",
    "dfs_cumsum = dfs_cumsum.drop(dfs_cumsum[dfs_cumsum['Meters_travelled']==0].index)\n",
    "\n",
    "sns.lineplot(x='KmTravelled_cumsum',y='Point_speed',data=dfs_cumsum[dfs_cumsum['platedate_copy']=='BNZF662009-05-19'],linewidth=3,label=\"Highest Mean Speed\",color='mediumslateblue')\n",
    "sns.lineplot(x='KmTravelled_cumsum',y='Point_speed',data=dfs_cumsum[dfs_cumsum['platedate_copy']=='BNZF662009-01-20'],linewidth=3,color='red')\n",
    "\n",
    "sns.lineplot(x='KmTravelled_cumsum',y='Point_speed',data=dfs_cumsum[dfs_cumsum['platedate_copy']=='BSLJ402008-12-06'],linewidth=3,color='coral')\n",
    "sns.lineplot(x='KmTravelled_cumsum',y='Point_speed',data=dfs_cumsum[dfs_cumsum['platedate_copy']=='BSLJ402009-02-21'],linewidth=3,label=\"Lowest Mean Speed\",color=\"mediumseagreen\")\n",
    "\n",
    "    \n",
    "txt=(r\"Vehicle Speed for drivers who drove the same route between Utrecht and Leek on the same road.\"\n",
    "           \"\\n\"  # Newline: the backslash is interpreted as usual\n",
    "           r\"The purple line represents the driver with highest mean speed among all trips. The green on the other hand represents the lowest mean speed.\"\n",
    "           \"\\n\" \n",
    "           r\"Note : The green and orange represent the drivers that had the lower than average speed among all trips (Note:Same number plate possibly same driver (?))\"\n",
    "            \"\\n\" \n",
    "           r\"The purple and red represent the drivers that had the higher than average speed among all trips (Note:Same number plate possibly same driver (?))\")\n",
    "\n",
    "plt.figtext(0.5, -0.03, txt, wrap=True, horizontalalignment='center', fontsize=14)\n",
    "plt.xlabel(\"Distance Travelled (km)\", fontsize=14)\n",
    "plt.ylabel(\"Point Speed (km/h)\",fontsize=14)\n"
   ]
  },
  {
   "cell_type": "code",
   "execution_count": null,
   "metadata": {},
   "outputs": [],
   "source": [
    "### Calculating Outliers\n",
    "\n",
    "def mod_outlier(df):\n",
    "    df1 = df.copy()\n",
    "    df = df._get_numeric_data()\n",
    "\n",
    "\n",
    "    q1 = df.quantile(0.25)\n",
    "    q3 = df.quantile(0.75)\n",
    "\n",
    "    iqr = q3 - q1\n",
    "\n",
    "    lower_bound = q1 -(1.5 * iqr) \n",
    "    upper_bound = q3 +(1.5 * iqr)\n",
    "\n",
    "\n",
    "    for col in col_vals:\n",
    "        for i in range(0,len(df[col])):\n",
    "            if df[col][i] < lower_bound[col]:            \n",
    "                df[col][i] = lower_bound[col]\n",
    "\n",
    "            if df[col][i] > upper_bound[col]:            \n",
    "                df[col][i] = upper_bound[col]    \n",
    "\n",
    "\n",
    "    for col in col_vals:\n",
    "        df1[col] = df[col]\n",
    "\n",
    "    return(df1)\n",
    "\n",
    "# df = mod_outlier(df) # call function\n"
   ]
  },
  {
   "cell_type": "markdown",
   "metadata": {},
   "source": [
    "#### **Extract Top 10% etc**\n",
    "\n",
    "https://stackoverflow.com/questions/56710407/how-to-return-top-n-percent-of-pandas-dataframe-by-grouping"
   ]
  },
  {
   "cell_type": "code",
   "execution_count": null,
   "metadata": {},
   "outputs": [],
   "source": [
    "x_largest=df_mean.nlargest(round(len(df_mean)/20), 'Point_speed')\n",
    "x_largest.reset_index(inplace=True)\n",
    "x_largest_platedate_copy=x_largest['platedate_copy']\n",
    "x_largest_platedate_copy_list=x_largest_platedate_copy.tolist()\n",
    "dfs_cumsum_top_10 = dfs_cumsum[dfs_cumsum['platedate_copy'].isin(x_largest_platedate_copy_list)]\n"
   ]
  },
  {
   "cell_type": "code",
   "execution_count": null,
   "metadata": {},
   "outputs": [],
   "source": [
    "x_smallest=df_mean.nsmallest(round(len(df_mean)/20), 'Point_speed')\n",
    "x_smallest.reset_index(inplace=True)\n",
    "x_smallest_platedate_copy=x_smallest['platedate_copy']\n",
    "x_smallest_platedate_copy_list=x_smallest_platedate_copy.tolist()\n",
    "dfs_cumsum_bottom_10 = dfs_cumsum[dfs_cumsum['platedate_copy'].isin(x_smallest_platedate_copy_list)]"
   ]
  },
  {
   "cell_type": "code",
   "execution_count": null,
   "metadata": {},
   "outputs": [],
   "source": [
    "plt.figure(figsize=(20,10))\n",
    "sns.set_theme()\n",
    "dfs_cumsum_top_10 = dfs_cumsum_top_10.drop(dfs_cumsum_top_10[dfs_cumsum_top_10['Meters_travelled']==0].index)\n",
    "dfs_cumsum_bottom_10 = dfs_cumsum_bottom_10.drop(dfs_cumsum_bottom_10[dfs_cumsum_bottom_10['Meters_travelled']==0].index)\n",
    "\n",
    "# sns.lineplot(x='KmTravelled_cumsum',y='Point_speed',data=dfs_cumsum_top_10,hue='platedate_copy',linewidth=2.5,legend=False)\n",
    "sns.lineplot(x='KmTravelled_cumsum',y='Point_speed',data=dfs_cumsum_bottom_10,hue='platedate_copy',linewidth=2.5,legend=False)\n",
    "\n",
    "# sns.lineplot(x='KmTravelled_cumsum',y='Point_speed',data=dfs_cumsum[dfs_cumsum['platedate_copy']=='BNZF662009-05-19'],linewidth=3,label=\"Highest Mean Speed\",color='mediumslateblue')\n",
    "# sns.lineplot(x='KmTravelled_cumsum',y='Point_speed',data=dfs_cumsum[dfs_cumsum['platedate_copy']=='BNZF662009-01-20'],linewidth=3,color='red')\n",
    "\n",
    "# sns.lineplot(x='KmTravelled_cumsum',y='Point_speed',data=dfs_cumsum[dfs_cumsum['platedate_copy']=='BSLJ402008-12-06'],linewidth=3,color='coral')\n",
    "# sns.lineplot(x='KmTravelled_cumsum',y='Point_speed',data=dfs_cumsum[dfs_cumsum['platedate_copy']=='BSLJ402009-02-21'],linewidth=3,label=\"Lowest Mean Speed\",color=\"mediumseagreen\")\n",
    "\n",
    "    \n",
    "# txt=(r\"Vehicle Speed for drivers who drove the same route between Utrecht and Leek on the same road.\"\n",
    "#            \"\\n\"  # Newline: the backslash is interpreted as usual\n",
    "#            r\"The purple line represents the driver with highest mean speed among all trips. The green on the other hand represents the lowest mean speed.\"\n",
    "#            \"\\n\" \n",
    "#            r\"Note : The green and orange represent the drivers that had the lower than average speed among all trips (Note:Same number plate possibly same driver (?))\"\n",
    "#             \"\\n\" \n",
    "#            r\"The purple and red represent the drivers that had the higher than average speed among all trips (Note:Same number plate possibly same driver (?))\")\n",
    "\n",
    "# plt.figtext(0.5, -0.03, txt, wrap=True, horizontalalignment='center', fontsize=14)\n",
    "plt.xlabel(\"Distance Travelled (km)\", fontsize=14)\n",
    "plt.ylabel(\"Point Speed (km/h)\",fontsize=14)\n"
   ]
  },
  {
   "cell_type": "markdown",
   "metadata": {},
   "source": [
    "### Dropping all zero point speed"
   ]
  },
  {
   "cell_type": "code",
   "execution_count": null,
   "metadata": {},
   "outputs": [],
   "source": [
    "df_drop_zero = df.drop(df[df['Point_speed']==0].index)\n",
    "df_mean_wo_zero=df_drop_zero.groupby('platedate_copy').mean()"
   ]
  },
  {
   "cell_type": "code",
   "execution_count": null,
   "metadata": {},
   "outputs": [],
   "source": [
    "x_largest=df_mean_wo_zero.nlargest(round(len(df_mean)/10), 'Point_speed')\n",
    "x_largest.reset_index(inplace=True)\n",
    "x_largest_platedate_copy=x_largest['platedate_copy']\n",
    "x_largest_platedate_copy_list=x_largest_platedate_copy.tolist()\n",
    "x_largest_mean=x_largest.groupby('platedate_copy').mean()\n",
    "x_largest_mean['Type']='Top 10% Drivers'\n",
    "# dfs_cumsum_top_10 = dfs_cumsum[dfs_cumsum['platedate_copy'].isin(x_largest_platedate_copy_list)]\n"
   ]
  },
  {
   "cell_type": "code",
   "execution_count": null,
   "metadata": {},
   "outputs": [],
   "source": [
    "x_smallest=df_mean_wo_zero.nsmallest(round(len(df_mean)/10), 'Point_speed')\n",
    "x_smallest.reset_index(inplace=True)\n",
    "x_smallest_platedate_copy=x_smallest['platedate_copy']\n",
    "x_smallest_platedate_copy_list=x_smallest_platedate_copy.tolist()\n",
    "x_smallest_mean=x_smallest.groupby('platedate_copy').mean()\n",
    "x_smallest_mean['Type']='Bottom 10% Drivers'\n",
    "# dfs_cumsum_bottom_10 = dfs_cumsum[dfs_cumsum['platedate_copy'].isin(x_smallest_platedate_copy_list)]"
   ]
  },
  {
   "cell_type": "code",
   "execution_count": null,
   "metadata": {},
   "outputs": [],
   "source": [
    "df_mean_wo_zero['Point_speed'].median()"
   ]
  },
  {
   "cell_type": "code",
   "execution_count": null,
   "metadata": {},
   "outputs": [],
   "source": [
    "df_mean_wo_zero.reset_index(inplace=True)\n",
    "df_mean_wo_zero"
   ]
  },
  {
   "cell_type": "code",
   "execution_count": null,
   "metadata": {},
   "outputs": [],
   "source": [
    "x_median_vals = df_mean_wo_zero.loc[(df_mean_wo_zero['Point_speed'] >= 81.1) & (df_mean_wo_zero['Point_speed'] <=81.4)] #Road 1"
   ]
  },
  {
   "cell_type": "code",
   "execution_count": null,
   "metadata": {},
   "outputs": [],
   "source": []
  },
  {
   "cell_type": "code",
   "execution_count": null,
   "metadata": {},
   "outputs": [],
   "source": [
    "x_median_platedate_copy=x_median_vals['platedate_copy']\n",
    "x_median_platedate_copy_list=x_median_platedate_copy.tolist()\n",
    "# x_median_vals=x_median_vals.groupby('platedate_copy').mean()\n",
    "x_median_vals['Type']='Mid 10% Drivers'\n",
    "x_median_vals.reset_index(inplace=True)"
   ]
  },
  {
   "cell_type": "code",
   "execution_count": null,
   "metadata": {},
   "outputs": [],
   "source": [
    "bottom_top_10=pd.concat([x_largest_mean, x_median_vals,x_smallest_mean])\n",
    "bottom_top_10"
   ]
  },
  {
   "cell_type": "code",
   "execution_count": null,
   "metadata": {},
   "outputs": [],
   "source": [
    "# plt.figure(figsize=(10,5))\n",
    "sns.set_theme()\n",
    "\n",
    "\n",
    "flierprops = dict(marker='o', markerfacecolor='None', markersize=10,  markeredgecolor='black')\n",
    "\n",
    "ax = sns.boxplot(data=bottom_top_10, x=\"Type\",y=\"Point_speed\",palette=\"Set2\",orient=\"v\",width=0.8,flierprops=flierprops)\n",
    "ax = sns.swarmplot(x=\"Type\",y=\"Point_speed\", data=bottom_top_10, color=\".3\")\n",
    "\n",
    "plt.xlabel('Numberplates')\n",
    "plt.ylabel('Mean Point Speed (km/h)')\n",
    "plt.title('Speed of Trucks (Same Route : Utrecht-Leek)')"
   ]
  },
  {
   "cell_type": "markdown",
   "metadata": {},
   "source": [
    "#### Checking if the drivers same drivers are slow/overspeed on other routes"
   ]
  },
  {
   "cell_type": "code",
   "execution_count": null,
   "metadata": {},
   "outputs": [],
   "source": [
    "list_of_drivers_high_mean_speed=[]\n",
    "for i in x_largest_platedate_copy_list:\n",
    "    numberplate=i[:6]\n",
    "    list_of_drivers_high_mean_speed.append(numberplate)\n",
    "    \n"
   ]
  },
  {
   "cell_type": "code",
   "execution_count": null,
   "metadata": {},
   "outputs": [],
   "source": [
    "list_of_drivers_middle_speed=[]\n",
    "for i in x_median_platedate_copy_list:\n",
    "    numberplate=i[:6]\n",
    "    list_of_drivers_middle_speed.append(numberplate)\n",
    "    \n",
    "list_of_drivers_middle_speed"
   ]
  },
  {
   "cell_type": "code",
   "execution_count": null,
   "metadata": {},
   "outputs": [],
   "source": [
    "(list_of_drivers_high_mean_speed)"
   ]
  },
  {
   "cell_type": "markdown",
   "metadata": {},
   "source": [
    "### AOS Summary and Trip Detail of drivers overspeeding on Utrecht Leek Highway"
   ]
  },
  {
   "cell_type": "code",
   "execution_count": null,
   "metadata": {},
   "outputs": [],
   "source": [
    "df = dd.read_csv(r'D:\\AOS FOT\\Octo\\CSV Export\\TRIP_DETAIL\\split_data\\df20M.csv',assume_missing=True, usecols=['Id', 'TNO_Time-stamp', 'Numberplate', 'Admin_area','Point_speed','Road_type_Rename'])\n",
    "\n",
    "## Extracting all datapoints that pass through location1 and location 2 from TRIP_DETAIL \n",
    "\n",
    "df = df[df['Numberplate'].isin(list_of_drivers_high_mean_speed)]\n",
    "with ProgressBar():\n",
    "    df_trip_detail_utrecht_leek = df.compute()\n",
    "# len(df_trip_utrecht_leek['platedate_copy'].unique())"
   ]
  },
  {
   "cell_type": "code",
   "execution_count": null,
   "metadata": {},
   "outputs": [],
   "source": [
    "df = dd.read_csv(r'D:\\AOS FOT\\Octo\\CSV Export\\TRIP_DETAIL\\split_data\\df20M.csv',assume_missing=True, usecols=['Id', 'TNO_Time-stamp', 'Numberplate', 'Admin_area','Point_speed','Road_type_Rename'])\n",
    "\n",
    "## Extracting all datapoints that pass through location1 and location 2 from TRIP_DETAIL \n",
    "\n",
    "df = df[df['Road_type_Rename'].isin(Road_type_Rename)]\n",
    "with ProgressBar():\n",
    "    df_aos_summary_utrecht_leek = df.compute()\n",
    "# len(df_trip_utrecht_leek['platedate_copy'].unique())"
   ]
  },
  {
   "cell_type": "code",
   "execution_count": null,
   "metadata": {},
   "outputs": [],
   "source": [
    "df=df[df['Numberplate']=='BNZF66']\n",
    "fig = px.scatter_mapbox(df,lat=\"Latitude\",lon=\"Longitude\",color =\"Numberplate\",title=\"Utrecht-Leek  111 Trips (71 Trucks)\")\n",
    "\n",
    "fig.update_layout(mapbox_style=\"open-street-map\",margin={\"r\":0.75,\"t\":25,\"l\":0,\"b\":0},title_x=0.5)\n",
    "# fig.update_layout()\n",
    "fig.show()"
   ]
  },
  {
   "cell_type": "markdown",
   "metadata": {},
   "source": [
    "### Speed on Motorway"
   ]
  },
  {
   "cell_type": "code",
   "execution_count": null,
   "metadata": {},
   "outputs": [],
   "source": [
    "df = dd.read_csv(r'D:\\AOS FOT\\Octo\\CSV Export\\TRIP_DETAIL\\split_data\\df20M.csv',assume_missing=True, usecols=['Id', 'TNO_Time-stamp', 'Numberplate', 'Admin_area','Point_speed','Road_type_Rename'])\n",
    "\n",
    "## Extracting all datapoints that pass through location1 and location 2 from TRIP_DETAIL \n",
    "Road_type_Rename=['Motorway']\n",
    "df = df.drop(df[df['Point_speed']==0].index)\n",
    "df = df.drop(df[df['Point_speed']>150].index)\n",
    "df = df[df['Road_type_Rename'].isin(Road_type_Rename)]\n",
    "with ProgressBar():\n",
    "    df = df.compute()\n",
    "# len(df_trip_utrecht_leek['platedate_copy'].unique())"
   ]
  },
  {
   "cell_type": "code",
   "execution_count": null,
   "metadata": {},
   "outputs": [],
   "source": [
    "df"
   ]
  },
  {
   "cell_type": "code",
   "execution_count": null,
   "metadata": {},
   "outputs": [],
   "source": [
    "df = df.drop(df[df['Point_speed']==0].index)"
   ]
  },
  {
   "cell_type": "code",
   "execution_count": null,
   "metadata": {},
   "outputs": [],
   "source": [
    "df = df.drop(df[df['Point_speed']>150].index)"
   ]
  },
  {
   "cell_type": "code",
   "execution_count": null,
   "metadata": {},
   "outputs": [],
   "source": [
    "ax = sns.boxplot(x=\"Point_speed\", hue='Road_type_Rename', data=df)"
   ]
  },
  {
   "cell_type": "code",
   "execution_count": null,
   "metadata": {},
   "outputs": [],
   "source": [
    "list_of_drivers_lowest_mean_speed=[]\n",
    "for i in x_smallest_platedate_copy_list:\n",
    "    numberplate=i[:6]\n",
    "    list_of_drivers_lowest_mean_speed.append(numberplate)"
   ]
  },
  {
   "cell_type": "markdown",
   "metadata": {},
   "source": [
    "#### Extracting data for top 10% drivers"
   ]
  },
  {
   "cell_type": "code",
   "execution_count": null,
   "metadata": {},
   "outputs": [],
   "source": [
    "import dask.dataframe as dd\n",
    "from dask.diagnostics import ProgressBar\n",
    "\n",
    "\n",
    "# area_list = ['Utrecht','Leek']\n",
    "# df = dd.read_csv(r'D:\\AOS FOT\\Octo\\CSV Export\\TRIP_DETAIL\\split_data\\df20M.csv',delimiter=';', encoding='unicode_escape',usecols=['Id', 'TNO_Time-stamp', 'Numberplate', 'Admin_area','Point_speed','Latitude','Longitude'],low_memory=False)\n",
    "\n",
    "df = dd.read_csv(r'D:\\AOS FOT\\Octo\\CSV Export\\TRIP_DETAIL\\TRIP_DETAIL.csv',delimiter=';', encoding='unicode_escape')\n",
    "# df\n",
    "df = df[df['Numberplate'].isin(list_of_drivers_middle_speed)]\n",
    "with ProgressBar():\n",
    "    df = df.compute()"
   ]
  },
  {
   "cell_type": "code",
   "execution_count": null,
   "metadata": {},
   "outputs": [],
   "source": [
    "df.to_pickle(r'D:\\AOS FOT\\Octo\\pickle_files\\utrecht_leek\\complete_df_mid_10_percent_drivers.pkl')"
   ]
  },
  {
   "cell_type": "code",
   "execution_count": null,
   "metadata": {},
   "outputs": [],
   "source": [
    "df['Numberplate'].unique()"
   ]
  },
  {
   "cell_type": "code",
   "execution_count": null,
   "metadata": {},
   "outputs": [],
   "source": [
    "df.columns"
   ]
  },
  {
   "cell_type": "code",
   "execution_count": null,
   "metadata": {},
   "outputs": [],
   "source": [
    "import dask.dataframe as dd\n",
    "from dask.diagnostics import ProgressBar\n",
    "\n",
    "\n",
    "df = dd.read_csv(r'D:\\AOS FOT\\Octo\\CSV Export\\TRIP_DETAIL\\TRIP_DETAIL.csv',delimiter=';', encoding='unicode_escape')\n",
    "# df = df.reset_index()\n",
    "\n",
    "# df = dd.read_csv(r'D:\\AOS FOT\\Octo\\CSV Export\\TRIP_DETAIL\\TRIP_DETAIL.csv',assume_missing=True)\n",
    "# df\n",
    "df = df[df['Numberplate'].isin(list_of_drivers_lowest_mean_speed)]\n",
    "with ProgressBar():\n",
    "    df = df.compute()"
   ]
  },
  {
   "cell_type": "code",
   "execution_count": null,
   "metadata": {},
   "outputs": [],
   "source": [
    "df.to_pickle(r'D:\\AOS FOT\\Octo\\pickle_files\\utrecht_leek\\list_of_drivers_lowest_mean_speed.pkl')"
   ]
  },
  {
   "cell_type": "code",
   "execution_count": null,
   "metadata": {},
   "outputs": [],
   "source": [
    "len(list_of_drivers_lowest_mean_speed)"
   ]
  },
  {
   "cell_type": "markdown",
   "metadata": {},
   "source": [
    "#### Reading Pickle Files"
   ]
  },
  {
   "cell_type": "code",
   "execution_count": null,
   "metadata": {},
   "outputs": [],
   "source": [
    "df_top_Drivers=pd.read_pickle(r'D:\\AOS FOT\\Octo\\pickle_files\\utrecht_leek\\complete_df_top_10_percent_drivers.pkl')\n",
    "df_top_Drivers=cast_to_correct_dtype(df_top_Drivers)\n",
    "df_top_Drivers=rename_some_stuff(df_top_Drivers)"
   ]
  },
  {
   "cell_type": "code",
   "execution_count": null,
   "metadata": {},
   "outputs": [],
   "source": [
    "# df_bottom=pd.read_pickle(r'D:\\AOS FOT\\Octo\\pickle_files\\utrecht_leek\\complete_df_bottom_10_percent_drivers.pkl')\n",
    "# df=df.reindex()\n",
    "# df_bottom=cast_to_correct_dtype(df_bottom)\n",
    "# df_bottom=rename_some_stuff(df_bottom)"
   ]
  },
  {
   "cell_type": "code",
   "execution_count": null,
   "metadata": {},
   "outputs": [],
   "source": [
    "complete_df_top_10_percent_drivers_urban=df_top_Drivers[df_top_Drivers['Road_type']==0]\n",
    "complete_df_top_10_percent_drivers_motorway=df_top_Drivers[df_top_Drivers['Road_type']==1]"
   ]
  },
  {
   "cell_type": "code",
   "execution_count": null,
   "metadata": {},
   "outputs": [],
   "source": [
    "complete_df_top_10_percent_drivers_motorway_grouped=complete_df_top_10_percent_drivers_urban.groupby(\"Numberplate\").mean()\n",
    "complete_df_top_10_percent_drivers_motorway_grouped['Type']=\"Top 10%\"\n",
    "complete_df_top_10_percent_drivers_motorway_grouped.reset_index(inplace=True)"
   ]
  },
  {
   "cell_type": "code",
   "execution_count": null,
   "metadata": {},
   "outputs": [],
   "source": [
    "df_bottom_Drivers=pd.read_pickle(r'D:\\AOS FOT\\Octo\\pickle_files\\utrecht_leek\\complete_df_bottom_10_percent_drivers.pkl')\n",
    "df_bottom_Drivers=cast_to_correct_dtype(df_bottom_Drivers)\n",
    "df_bottom_Drivers=rename_some_stuff(df_bottom_Drivers)"
   ]
  },
  {
   "cell_type": "code",
   "execution_count": null,
   "metadata": {},
   "outputs": [],
   "source": [
    "complete_df_bottom_10_percent_drivers_urban=df_bottom_Drivers[df_bottom_Drivers['Road_type']==0]\n",
    "complete_df_bottom_10_percent_drivers_motorway=df_bottom_Drivers[df_bottom_Drivers['Road_type']==1]"
   ]
  },
  {
   "cell_type": "code",
   "execution_count": null,
   "metadata": {},
   "outputs": [],
   "source": [
    "complete_df_bottom_10_percent_drivers_motorway_grouped=complete_df_bottom_10_percent_drivers_urban.groupby(\"Numberplate\").mean()\n",
    "complete_df_bottom_10_percent_drivers_motorway_grouped['Type']=\"Bottom 10 %\"\n",
    "complete_df_bottom_10_percent_drivers_motorway_grouped.reset_index(inplace=True)"
   ]
  },
  {
   "cell_type": "code",
   "execution_count": null,
   "metadata": {},
   "outputs": [],
   "source": [
    "df_mid_Drivers=pd.read_pickle(r'D:\\AOS FOT\\Octo\\pickle_files\\utrecht_leek\\complete_df_mid_10_percent_drivers.pkl')\n",
    "df_mid_Drivers=cast_to_correct_dtype(df_mid_Drivers)\n",
    "df_mid_Drivers=rename_some_stuff(df_mid_Drivers)"
   ]
  },
  {
   "cell_type": "code",
   "execution_count": null,
   "metadata": {},
   "outputs": [],
   "source": [
    "complete_df_mid_10_percent_drivers_urban=df_mid_Drivers[df_mid_Drivers['Road_type']==0]\n",
    "complete_df_mid_10_percent_drivers_motorway=df_mid_Drivers[df_mid_Drivers['Road_type']==1]"
   ]
  },
  {
   "cell_type": "code",
   "execution_count": null,
   "metadata": {},
   "outputs": [],
   "source": [
    "complete_df_mid_10_percent_drivers_motorway_grouped=complete_df_mid_10_percent_drivers_urban.groupby(\"Numberplate\").mean()\n",
    "complete_df_mid_10_percent_drivers_motorway_grouped['Type']=\"Mid 10 %\"\n",
    "complete_df_mid_10_percent_drivers_motorway_grouped.reset_index(inplace=True)"
   ]
  },
  {
   "cell_type": "code",
   "execution_count": null,
   "metadata": {},
   "outputs": [],
   "source": [
    "complete_df_mid_10_percent_drivers_motorway_grouped"
   ]
  },
  {
   "cell_type": "code",
   "execution_count": null,
   "metadata": {},
   "outputs": [],
   "source": [
    "list=[complete_df_top_10_percent_drivers_motorway_grouped,complete_df_mid_10_percent_drivers_motorway_grouped,complete_df_bottom_10_percent_drivers_motorway_grouped]\n",
    "list=pd.concat(list)\n",
    "# list"
   ]
  },
  {
   "cell_type": "code",
   "execution_count": null,
   "metadata": {},
   "outputs": [],
   "source": [
    "# plt.figure(figsize=(10,5))\n",
    "sns.set_theme()\n",
    "\n",
    "flierprops = dict(marker='o', markerfacecolor='None', markersize=10,  markeredgecolor='black')\n",
    "\n",
    "ax = sns.boxplot(data=list, x=\"Type\",y=\"Point_speed\",palette=\"Set2\",orient=\"v\",width=0.8,flierprops=flierprops)\n",
    "ax = sns.swarmplot(x=\"Type\",y=\"Point_speed\", data=list, color=\".3\")\n",
    "\n",
    "plt.xlabel('Numberplates')\n",
    "plt.ylabel('Mean Point Speed (km/h)')\n",
    "plt.title('Mean speed of groups in Urban Areas (All Trips)')\n",
    "\n"
   ]
  },
  {
   "cell_type": "code",
   "execution_count": null,
   "metadata": {},
   "outputs": [],
   "source": [
    "import seaborn as sns\n",
    "sns.set_theme(style=\"whitegrid\")\n",
    "tips = sns.load_dataset(\"tips\")\n",
    "ax = sns.boxplot(x=df[\"Point_speed\"])"
   ]
  },
  {
   "cell_type": "code",
   "execution_count": null,
   "metadata": {},
   "outputs": [],
   "source": []
  },
  {
   "cell_type": "code",
   "execution_count": null,
   "metadata": {},
   "outputs": [],
   "source": [
    "df.columns"
   ]
  },
  {
   "cell_type": "markdown",
   "metadata": {},
   "source": [
    "### Utrecht Leek Road 1 and Road 2 Analysis"
   ]
  },
  {
   "cell_type": "markdown",
   "metadata": {},
   "source": [
    "### Road 1"
   ]
  },
  {
   "cell_type": "code",
   "execution_count": null,
   "metadata": {},
   "outputs": [],
   "source": [
    "import glob\n",
    "import os\n",
    "\n",
    "path=r'D:\\AOS FOT\\Octo\\pickle_files\\utrecht_leek\\trips_road_1'\n",
    "all_files = glob.glob(os.path.join(path, \"*.pkl\"))\n",
    "\n",
    "df_road1 = pd.concat((pd.read_pickle(f) for f in all_files), ignore_index=True)\n",
    "df_road1=df_road1.loc[:,~df_road1.columns.str.startswith('B')]\n",
    "df_road1=df_road1.loc[:,~df_road1.columns.str.startswith('N')]\n",
    "df_road1['Numberplate'] = df_road1['platedate_copy'].str[:6]\n",
    "# df_mean=df.groupby('platedate_copy').mean()\n",
    "# df_mean\n",
    "df_road1.columns"
   ]
  },
  {
   "cell_type": "markdown",
   "metadata": {},
   "source": [
    "#### Road 2"
   ]
  },
  {
   "cell_type": "code",
   "execution_count": null,
   "metadata": {},
   "outputs": [],
   "source": [
    "path=r'D:\\AOS FOT\\Octo\\pickle_files\\utrecht_leek\\trips_road_2'\n",
    "all_files = glob.glob(os.path.join(path, \"*.pkl\"))\n",
    "\n",
    "df_road2 = pd.concat((pd.read_pickle(f) for f in all_files), ignore_index=True)\n",
    "df_road2=df_road2.loc[:,~df_road2.columns.str.startswith('B')]\n",
    "df_road2=df_road2.loc[:,~df_road2.columns.str.startswith('N')]\n",
    "df_road2['Numberplate'] = df_road2['platedate_copy'].str[:6]\n",
    "# df_road2"
   ]
  },
  {
   "cell_type": "code",
   "execution_count": null,
   "metadata": {},
   "outputs": [],
   "source": [
    "len(df_road1['Numberplate'].unique())"
   ]
  },
  {
   "cell_type": "code",
   "execution_count": null,
   "metadata": {},
   "outputs": [],
   "source": [
    "df=df_road1\n",
    "df = df.drop(df[df['Numberplate']=='BTHN95'].index)\n",
    "df = df.drop(df[df['Numberplate']=='BVFP92'].index)\n",
    "df = df.drop(df[df['Numberplate']=='BTDS93'].index)\n",
    "df = df.drop(df[df['Numberplate']=='BTFX65'].index)\n",
    "df = df.drop(df[df['Numberplate']=='BTFX64'].index)\n",
    "df = df.drop(df[df['Numberplate']=='BTFT45'].index)\n",
    "df = df.drop(df[df['Numberplate']=='BTHN95'].index)\n",
    "\n",
    "\n",
    "fig = px.scatter_mapbox(df,lat=\"Latitude\",lon=\"Longitude\",color =\"Numberplate\",title=\"Utrecht-Leek 131 Trips (82 Trucks) - Road 1\")\n",
    "\n",
    "fig.update_layout(mapbox_style=\"open-street-map\",margin={\"r\":0.75,\"t\":25,\"l\":0,\"b\":0},title_x=0.5)\n",
    "# fig.update_layout()\n",
    "fig.show()"
   ]
  },
  {
   "cell_type": "code",
   "execution_count": null,
   "metadata": {},
   "outputs": [],
   "source": [
    "df=df_road2\n",
    "# df = df.drop(df[df['Numberplate']=='BSLJ40'].index)\n",
    "# df = df.drop(df[df['Numberplate']=='BRHL10'].index)\n",
    "# df = df.drop(df[df['Numberplate']=='BTFT45'].index)\n",
    "# df = df.drop(df[df['Numberplate']=='BTFX65'].index)\n",
    "# df = df.drop(df[df['Numberplate']=='BTFX64'].index)\n",
    "# df = df.drop(df[df['Numberplate']=='BTFT45'].index)\n",
    "# df = df.drop(df[df['Numberplate']=='BTD09'].index)\n",
    "\n",
    "# df = df.drop(df[df['Numberplate']=='NNB298'].index)\n",
    "# df = df.drop(df[df['Numberplate']=='BSNF22'].index)\n",
    "# df = df.drop(df[df['Numberplate']=='BTDB31'].index)\n",
    "# df = df.drop(df[df['Numberplate']=='BSLJ40'].index)\n",
    "# df = df.drop(df[df['Numberplate']=='BSBJ50'].index)\n",
    "\n",
    "# df = df.drop(df[df['Numberplate']=='BTND09'].index)\n",
    "# df = df.drop(df[df['Numberplate']=='BRVV06'].index)\n",
    "# df = df.drop(df[df['Numberplate']=='BSVH17'].index)\n",
    "# df = df.drop(df[df['Numberplate']=='BTND05'].index)\n",
    "# df = df.drop(df[df['Numberplate']=='BVFP93'].index)\n",
    "# df = df.drop(df[df['Numberplate']=='BTDB37'].index)\n",
    "# df = df.drop(df[df['Numberplate']=='BRJF18'].index)\n",
    "# df = df.drop(df[df['Numberplate']=='NNB288'].index)\n",
    "# df = df.drop(df[df['Numberplate']=='BRVZ288'].index)\n",
    "# df = df.drop(df[df['Numberplate']=='BJSP23'].index)            \n",
    "# df = df.drop(df[df['Numberplate']=='BTDB33'].index) \n",
    "# df = df.drop(df[df['Numberplate']=='BNSL21'].index) \n",
    "\n",
    "fig = px.scatter_mapbox(df,lat=\"Latitude\",lon=\"Longitude\",color =\"Numberplate\",title=\"Utrecht-Leek 131 Trips (82 Trucks) - Road 1\")\n",
    "\n",
    "fig.update_layout(mapbox_style=\"open-street-map\",margin={\"r\":0.75,\"t\":25,\"l\":0,\"b\":0},title_x=0.5)\n",
    "# fig.update_layout()\n",
    "fig.show()"
   ]
  },
  {
   "cell_type": "markdown",
   "metadata": {},
   "source": [
    "### Global Comaprison - Irrespective of location"
   ]
  },
  {
   "cell_type": "markdown",
   "metadata": {},
   "source": [
    "All trips of a drivers who oversped on Highway between Utrecht and Leek"
   ]
  },
  {
   "cell_type": "code",
   "execution_count": null,
   "metadata": {},
   "outputs": [],
   "source": [
    "df=pd.read_pickle(r'D:\\AOS FOT\\Octo\\pickle_files\\utrecht_leek\\complete_df_top_10_percent_drivers.pkl')\n",
    "df=cast_to_correct_dtype(df)\n",
    "df=rename_some_stuff(df)"
   ]
  },
  {
   "cell_type": "markdown",
   "metadata": {},
   "source": [
    "Extracting trips for one driver"
   ]
  },
  {
   "cell_type": "code",
   "execution_count": null,
   "metadata": {},
   "outputs": [],
   "source": [
    "df_trip_detail_overspeeding_driver1=df[df['Numberplate']==list_of_drivers_high_mean_speed[0]]\n",
    "df_trip_detail_overspeeding_driver1.head()"
   ]
  },
  {
   "cell_type": "markdown",
   "metadata": {},
   "source": [
    "#### Extracting AOS Summary for that driver"
   ]
  },
  {
   "cell_type": "code",
   "execution_count": null,
   "metadata": {},
   "outputs": [],
   "source": [
    "\n",
    "fig = px.scatter_mapbox(aos_summary_overspeeding_driver1,lat=\"Latitude\",lon=\"Longitude\",color =\"Event type Rename\",title=\"AOS Events- Numberplate : BNZF66 \")\n",
    "\n",
    "fig.update_layout(mapbox_style=\"open-street-map\",margin={\"r\":0.75,\"t\":25,\"l\":0,\"b\":0},title_x=0.5)\n",
    "# fig.update_layout()\n",
    "fig.show()"
   ]
  },
  {
   "cell_type": "code",
   "execution_count": null,
   "metadata": {},
   "outputs": [],
   "source": [
    "df=pd.read_pickle(r'D:\\AOS FOT\\Octo\\pickle_files\\utrecht_leek\\trip_detail_overspeeding_drivers\\trip_detail_overspeeding_driver1.pkl')\n",
    "df['Point_speed'].mean()"
   ]
  },
  {
   "cell_type": "code",
   "execution_count": null,
   "metadata": {},
   "outputs": [],
   "source": [
    "df_no_zero = df.drop(df[(df['Point_speed']==0)].index)\n",
    "df_no_zero"
   ]
  },
  {
   "cell_type": "code",
   "execution_count": null,
   "metadata": {},
   "outputs": [],
   "source": [
    "df_no_zero['Point_speed'].mean()"
   ]
  },
  {
   "cell_type": "code",
   "execution_count": null,
   "metadata": {},
   "outputs": [],
   "source": [
    "df_no_zero.columns"
   ]
  },
  {
   "cell_type": "code",
   "execution_count": null,
   "metadata": {},
   "outputs": [],
   "source": [
    "df_no_zero['KmTravelled'].sum()"
   ]
  },
  {
   "cell_type": "code",
   "execution_count": null,
   "metadata": {},
   "outputs": [],
   "source": [
    "fig = px.scatter_mapbox(df_no_zero,lat=\"Latitude\",lon=\"Longitude\",color =\"Point_speed\",title=\"All trips of overspeeding driver (BNZF66)\")\n",
    "\n",
    "fig.update_layout(mapbox_style=\"open-street-map\",margin={\"r\":0.75,\"t\":25,\"l\":0,\"b\":0},title_x=0.5)\n",
    "# fig.update_layout()\n",
    "fig.show()"
   ]
  },
  {
   "cell_type": "code",
   "execution_count": null,
   "metadata": {},
   "outputs": [],
   "source": [
    "aos_summary_overspeeding_driver1=pd.read_pickle(r'D:\\AOS FOT\\Octo\\pickle_files\\utrecht_leek\\aos_summary_overspeeding_drivers\\aos_summary_overspeeding_driver1.pkl')\n",
    "normalized_events_driver1=aos_summary_overspeeding_driver1['Event type Rename'].value_counts()/df_no_zero['KmTravelled'].sum()\n",
    "normalized_events_driver1"
   ]
  },
  {
   "cell_type": "code",
   "execution_count": null,
   "metadata": {},
   "outputs": [],
   "source": [
    "fig = px.scatter_mapbox(aos_summary_overspeeding_driver1,lat=\"Latitude\",lon=\"Longitude\",color =\"Event type Rename\",title=\"All Events Recorded for driver (BNZF66)\")\n",
    "\n",
    "fig.update_layout(mapbox_style=\"open-street-map\",margin={\"r\":0.75,\"t\":25,\"l\":0,\"b\":0},title_x=0.5)\n",
    "# fig.update_layout()\n",
    "fig.show()"
   ]
  },
  {
   "cell_type": "code",
   "execution_count": null,
   "metadata": {},
   "outputs": [],
   "source": [
    "normalized_events_driver1=normalized_events_driver1.to_frame() \n",
    "normalized_events_driver1"
   ]
  },
  {
   "cell_type": "code",
   "execution_count": null,
   "metadata": {},
   "outputs": [],
   "source": [
    "normalized_events_driver1 = normalized_events_driver1.stack().reset_index()\n",
    "sns.histplot(data=normalized_events_driver1,x=0)"
   ]
  },
  {
   "cell_type": "markdown",
   "metadata": {},
   "source": [
    "### AOS SUMMARY of drivers that oversped on Utrecht-Leek Highway"
   ]
  },
  {
   "cell_type": "code",
   "execution_count": null,
   "metadata": {},
   "outputs": [],
   "source": [
    "import dask.dataframe as dd\n",
    "from dask.diagnostics import ProgressBar\n",
    "\n",
    "\n",
    "# list_of_drivers_lowest_mean_speed=list_of_drivers_lowest_mean_speed\n",
    "# area_list = [location1,location2] # We can change these values to any start and end location\n",
    "df = dd.read_csv(r'D:\\AOS FOT\\Octo\\CSV Export\\TRIP_DETAIL\\TRIP_DETAIL.csv',delimiter=';', encoding='unicode_escape')\n",
    "\n",
    "df = df[df['Numberplate'].isin(list_of_drivers_lowest_mean_speed)]\n",
    "with ProgressBar():\n",
    "    df = df.compute()\n",
    "    \n",
    "df['platedate'] = df['Numberplate'] + df['TNO_Time-stamp'].str[:10]"
   ]
  },
  {
   "cell_type": "code",
   "execution_count": null,
   "metadata": {},
   "outputs": [],
   "source": [
    "df=pd.read_pickle(r'D:\\AOS FOT\\Octo\\pickle_files\\utrecht_leek\\df_aos_summary_overspeeding.pkl')"
   ]
  },
  {
   "cell_type": "code",
   "execution_count": null,
   "metadata": {},
   "outputs": [],
   "source": [
    "df_aos_summary_overspeeding_drivers = df.pipe(drop_first_row).pipe(resetIndex).pipe(cast_to_correct_dtype).pipe(rename_some_stuff).pipe(detect_overspeeding_count)\n",
    "df_aos_summary_overspeeding_drivers.columns"
   ]
  },
  {
   "cell_type": "code",
   "execution_count": null,
   "metadata": {},
   "outputs": [],
   "source": [
    "groupby_numberplate_overspeeding_drivers = df_aos_summary_overspeeding_drivers.groupby(['Numberplate', 'Event type Rename']).sum()\n",
    "groupby_numberplate_overspeeding_drivers=groupby_numberplate_overspeeding_drivers.reset_index()\n",
    "groupby_numberplate_overspeeding_drivers"
   ]
  },
  {
   "cell_type": "code",
   "execution_count": null,
   "metadata": {},
   "outputs": [],
   "source": [
    "df_trip_detail_overspeeding_drivers=pd.read_pickle(r'D:\\AOS FOT\\Octo\\pickle_files\\utrecht_leek\\complete_df_top_10_percent_drivers.pkl')\n",
    "df_trip_detail_overspeeding_drivers=df_trip_detail_overspeeding_drivers.pipe(drop_first_row).pipe(resetIndex).pipe(cast_to_correct_dtype).pipe(rename_some_stuff).pipe(detect_overspeeding_count)"
   ]
  },
  {
   "cell_type": "code",
   "execution_count": null,
   "metadata": {},
   "outputs": [],
   "source": [
    "groupby_numberplate_overspeeding_drivers_trip_detail = df_trip_detail_overspeeding_drivers.groupby(['Numberplate']).sum()\n",
    "groupby_numberplate_overspeeding_drivers_trip_detail=groupby_numberplate_overspeeding_drivers_trip_detail.reset_index()\n",
    "groupby_numberplate_overspeeding_drivers_trip_detail['KM_travelled']=groupby_numberplate_overspeeding_drivers_trip_detail['Meters_travelled']/1000\n",
    "groupby_numberplate_overspeeding_drivers_trip_detail['Overspeeding_event_by_distance_travelled']=groupby_numberplate_overspeeding_drivers_trip_detail['Overspeeding_event']/groupby_numberplate_overspeeding_drivers_trip_detail['KM_travelled']\n",
    "groupby_numberplate_overspeeding_drivers_trip_detail"
   ]
  },
  {
   "cell_type": "code",
   "execution_count": null,
   "metadata": {},
   "outputs": [],
   "source": [
    "sns.set_theme(style=\"whitegrid\", palette=\"pastel\")\n",
    "\n",
    "ax=sns.barplot(data=groupby_numberplate_overspeeding_drivers_trip_detail,x=\"Numberplate\",y=\"Overspeeding_event_by_distance_travelled\")\n",
    "ax.tick_params(axis='x', rotation=45)\n",
    "plt.title(r\"Normalized Overspeeding Count of drivers\" \"\\n\" r\"that oversped on Utrecht Leek Highway\")\n",
    "ax.set_ylabel(r'$\\dfrac{Over \\ speeding \\ Event}{Total \\ Distance \\ Covered \\ (km)}$')"
   ]
  },
  {
   "cell_type": "code",
   "execution_count": null,
   "metadata": {},
   "outputs": [],
   "source": [
    "df_trip_detail_lowpeeding_drivers=pd.read_pickle(r'D:\\AOS FOT\\Octo\\pickle_files\\utrecht_leek\\complete_df_bottom_10_percent_drivers.pkl')\n",
    "df_trip_detail_lowspeeding_drivers=df_trip_detail_lowpeeding_drivers.pipe(drop_first_row).pipe(resetIndex).pipe(cast_to_correct_dtype).pipe(rename_some_stuff).pipe(detect_overspeeding_count)"
   ]
  },
  {
   "cell_type": "code",
   "execution_count": null,
   "metadata": {},
   "outputs": [],
   "source": [
    "groupby_numberplate_lowspeeding_drivers_trip_detail=df_trip_detail_lowspeeding_drivers.groupby(\"Numberplate\").sum()\n",
    "groupby_numberplate_lowspeeding_drivers_trip_detail=groupby_numberplate_lowspeeding_drivers_trip_detail.reset_index()\n",
    "groupby_numberplate_lowspeeding_drivers_trip_detail['KM_travelled']=groupby_numberplate_lowspeeding_drivers_trip_detail['Meters_travelled']/1000\n",
    "groupby_numberplate_lowspeeding_drivers_trip_detail['Overspeeding_event_by_distance_travelled']=groupby_numberplate_lowspeeding_drivers_trip_detail['Overspeeding_event']/groupby_numberplate_lowspeeding_drivers_trip_detail['KM_travelled']\n",
    "groupby_numberplate_lowspeeding_drivers_trip_detail"
   ]
  },
  {
   "cell_type": "code",
   "execution_count": null,
   "metadata": {},
   "outputs": [],
   "source": [
    "df_trip_detail_midpeeding_drivers=pd.read_pickle(r'D:\\AOS FOT\\Octo\\pickle_files\\utrecht_leek\\complete_df_mid_10_percent_drivers.pkl')\n",
    "df_trip_detail_midpeeding_drivers=df_trip_detail_midpeeding_drivers.pipe(drop_first_row).pipe(resetIndex).pipe(cast_to_correct_dtype).pipe(rename_some_stuff).pipe(detect_overspeeding_count)"
   ]
  },
  {
   "cell_type": "code",
   "execution_count": null,
   "metadata": {},
   "outputs": [],
   "source": [
    "groupby_numberplate_midpeeding_drivers=df_trip_detail_midpeeding_drivers.groupby(\"Numberplate\").sum()\n",
    "groupby_numberplate_midpeeding_drivers=groupby_numberplate_midpeeding_drivers.reset_index()\n",
    "groupby_numberplate_midpeeding_drivers['KM_travelled']=groupby_numberplate_midpeeding_drivers['Meters_travelled']/1000\n",
    "groupby_numberplate_midpeeding_drivers['Overspeeding_event_by_distance_travelled']=groupby_numberplate_midpeeding_drivers['Overspeeding_event']/groupby_numberplate_midpeeding_drivers['KM_travelled']\n",
    "groupby_numberplate_midpeeding_drivers"
   ]
  },
  {
   "cell_type": "code",
   "execution_count": null,
   "metadata": {},
   "outputs": [],
   "source": [
    "groupby_numberplate_midpeeding_drivers['Type']=\"Mid 10%\""
   ]
  },
  {
   "cell_type": "code",
   "execution_count": null,
   "metadata": {},
   "outputs": [],
   "source": [
    "# groupby_numberplate_lowspeeding_drivers_trip_detail['UniqueNumberplate']=groupby_numberplate_lowspeeding_drivers_trip_detail.groupby('Numberplate').ngroup()\n",
    "groupby_numberplate_lowspeeding_drivers_trip_detail['Type']=\"Bottom 10%\""
   ]
  },
  {
   "cell_type": "code",
   "execution_count": null,
   "metadata": {},
   "outputs": [],
   "source": [
    "# groupby_numberplate_overspeeding_drivers_trip_detail['UniqueNumberplate']=groupby_numberplate_overspeeding_drivers_trip_detail.groupby('Numberplate').ngroup()\n",
    "groupby_numberplate_overspeeding_drivers_trip_detail['Type']=\"Top 10%\""
   ]
  },
  {
   "cell_type": "code",
   "execution_count": null,
   "metadata": {},
   "outputs": [],
   "source": [
    "list=[groupby_numberplate_overspeeding_drivers_trip_detail,groupby_numberplate_midpeeding_drivers,groupby_numberplate_lowspeeding_drivers_trip_detail]\n",
    "df_top_bottom=pd.concat(list)\n",
    "df_top_bottom['UniqueNumberplate']=df_top_bottom.groupby('Numberplate').ngroup()"
   ]
  },
  {
   "cell_type": "code",
   "execution_count": null,
   "metadata": {},
   "outputs": [],
   "source": [
    "df_top_bottom.reset_index(inplace=True)"
   ]
  },
  {
   "cell_type": "code",
   "execution_count": null,
   "metadata": {},
   "outputs": [],
   "source": [
    "# plt.figure(figsize=(10,5))\n",
    "sns.set_theme()\n",
    "flierprops = dict(marker='o', markerfacecolor='None', markersize=2,  markeredgecolor='black')\n",
    "\n",
    "ax = sns.boxplot(data=df_top_bottom, x=\"Type\",y=\"Overspeeding_event_by_distance_travelled\",palette=\"Set2\",orient=\"v\",width=0.8,flierprops=flierprops)\n",
    "ax = sns.swarmplot(x=\"Type\",y=\"Overspeeding_event_by_distance_travelled\", data=df_top_bottom, color=\".3\")\n",
    "\n",
    "plt.xlabel('Group')\n",
    "plt.ylabel(r'$\\dfrac{Over \\ speeding \\ Event}{Total \\ Distance \\ Covered \\ (km)}$')\n",
    "plt.title(r\"Normalized Overspeeding Count of drivers\" \"\\n\" r\" on Utrecht Leek Highway\")\n"
   ]
  },
  {
   "cell_type": "code",
   "execution_count": null,
   "metadata": {},
   "outputs": [],
   "source": [
    "# sns.set_theme(style=\"whitegrid\", palette=\"pastel\")\n",
    "\n",
    "ax=sns.boxplot(data=df_top_bottom,y=\"Overspeeding_event_by_distance_travelled\",x=\"Type\")\n",
    "# ax.tick_params(axis='x', rotation=45)\n",
    "plt.title(r\"Normalized Overspeeding Count of drivers\" \"\\n\" r\" on Utrecht Leek Highway\")\n",
    "ax.set_ylabel(r'$\\dfrac{Over \\ speeding \\ Event}{Total \\ Distance \\ Covered \\ (km)}$')"
   ]
  },
  {
   "cell_type": "code",
   "execution_count": null,
   "metadata": {},
   "outputs": [],
   "source": [
    "groupby_numberplate_overspeeding_drivers_headway_warning=groupby_numberplate_overspeeding_drivers[groupby_numberplate_overspeeding_drivers['Event type Rename']=='Headway Warning (long)']\n",
    "sns.histplot(data=groupby_numberplate_overspeeding_drivers_headway_warning, x=\"Numberplate\", y=\"Overspeeding_event\")"
   ]
  },
  {
   "cell_type": "code",
   "execution_count": null,
   "metadata": {},
   "outputs": [],
   "source": [
    "groupby_numberplate_overspeeding_drivers"
   ]
  },
  {
   "cell_type": "markdown",
   "metadata": {},
   "source": [
    "#### Grouped Data based on Numberplates"
   ]
  },
  {
   "cell_type": "code",
   "execution_count": null,
   "metadata": {},
   "outputs": [],
   "source": [
    "\n",
    "%%capture\n",
    "import pandas as pd\n",
    "# import modin.pandas as pd\n",
    "import numpy as np\n",
    "import math\n",
    "import seaborn as sns\n",
    "import matplotlib.pyplot as plt\n",
    "# import vaex # https://vaex.io/docs/index.html\n",
    "import pathlib\n",
    "from pathlib import *\n",
    "import os\n",
    "import pickle\n",
    "# import cufflinks as cf\n",
    "# import chart_studio.plotly as py\n",
    "import seaborn as sns\n",
    "import plotly.express as px\n",
    "%matplotlib inline\n",
    "from plotly.offline import download_plotlyjs, init_notebook_mode,plot,iplot\n",
    "\n",
    "init_notebook_mode(connected=True)\n",
    "import dask.dataframe as dd\n",
    "from dask.diagnostics import ProgressBar"
   ]
  },
  {
   "cell_type": "code",
   "execution_count": null,
   "metadata": {},
   "outputs": [],
   "source": [
    "import glob\n",
    "import os\n",
    "\n",
    "path=r'D:\\AOS FOT\\Octo\\pickle_files\\utrecht_leek\\grouped_numberplates_sum'\n",
    "all_files = glob.glob(os.path.join(path, \"*.pkl\"))\n",
    "\n",
    "df_grouped_complete = pd.concat((pd.read_pickle(f) for f in all_files), ignore_index=True)\n",
    "df_grouped_complete"
   ]
  },
  {
   "cell_type": "code",
   "execution_count": null,
   "metadata": {},
   "outputs": [],
   "source": [
    "df_grouped_complete=df_grouped_complete.groupby(\"Numberplate\").sum()\n",
    "df_grouped_complete['Overspeeding_event_by_distance_travelled']=df_grouped_complete['Overspeeding_event']/df_grouped_complete['KmTravelled']"
   ]
  },
  {
   "cell_type": "code",
   "execution_count": null,
   "metadata": {},
   "outputs": [],
   "source": [
    "df_grouped_complete['Overspeeding_event_by_distance_travelled']=df_grouped_complete['Overspeeding_event']/df_grouped_complete['KmTravelled']"
   ]
  },
  {
   "cell_type": "code",
   "execution_count": null,
   "metadata": {},
   "outputs": [],
   "source": [
    "df_grouped_complete"
   ]
  },
  {
   "cell_type": "code",
   "execution_count": null,
   "metadata": {},
   "outputs": [],
   "source": [
    "plt.figure(figsize=(10,5))\n",
    "flierprops = dict(marker='o', markerfacecolor='None', markersize=10,  markeredgecolor='black')\n",
    "\n",
    "ax = sns.boxplot(data=df_grouped_complete, x=\"Overspeeding_event_by_distance_travelled\",palette=\"Set2\",orient=\"v\",width=0.8,flierprops=flierprops)\n",
    "# ax = sns.swarmplot(x=\"Overspeeding_event_by_distance_travelled\", data=df_grouped_complete, color=\".3\")\n",
    "# notation indicating an outlier\n",
    "# ax.annotate('Outlier', xy=(89.2,0), xytext=(89,-0.2), fontsize=14,\n",
    "#             arrowprops=dict(arrowstyle='->', ec='grey', lw=2), bbox = dict(boxstyle=\"round\", fc=\"0.8\"))\n",
    "\n",
    "# xtick, label, and title\n",
    "# plt.xticks(fontsize=14)\n",
    "\n",
    "plt.xlabel(r'$\\dfrac{Over \\ speeding \\ Event}{Total \\ Distance \\ Covered \\ (km)}$')\n",
    "plt.title('Normalized Overspeeding Events for all Numberplates')"
   ]
  },
  {
   "cell_type": "code",
   "execution_count": null,
   "metadata": {},
   "outputs": [],
   "source": [
    "x_largest=df_grouped_complete.nlargest(round(len(df_grouped_complete)/20), 'Overspeeding_event_by_distance_travelled')\n",
    "x_largest.reset_index(inplace=True)\n",
    "x_largest['Type']=\"Top 10% Drivers\"\n"
   ]
  },
  {
   "cell_type": "code",
   "execution_count": null,
   "metadata": {},
   "outputs": [],
   "source": [
    "x_smallest=df_grouped_complete.nsmallest(round(len(df_grouped_complete)/20), 'Overspeeding_event_by_distance_travelled')\n",
    "x_smallest.reset_index(inplace=True)\n",
    "x_smallest['Type']=\"Bottom 10% Drivers\"\n"
   ]
  },
  {
   "cell_type": "code",
   "execution_count": null,
   "metadata": {},
   "outputs": [],
   "source": [
    "df_grouped_complete['Overspeeding_event_by_distance_travelled'].median()"
   ]
  },
  {
   "cell_type": "code",
   "execution_count": null,
   "metadata": {},
   "outputs": [],
   "source": [
    "x_mid = df_grouped_complete.loc[(df_grouped_complete['Overspeeding_event_by_distance_travelled'] >= 0.1216) & (df_grouped_complete['Overspeeding_event_by_distance_travelled'] <=0.1325)] #Road 1\n",
    "x_mid['Type']=\"Mid 10% Drivers\"\n",
    "x_mid.reset_index(inplace=True)\n",
    "# len(rslt_df)"
   ]
  },
  {
   "cell_type": "code",
   "execution_count": null,
   "metadata": {},
   "outputs": [],
   "source": [
    "df_list=[x_largest,x_mid,x_smallest]\n",
    "df=pd.concat(df_list)"
   ]
  },
  {
   "cell_type": "code",
   "execution_count": null,
   "metadata": {},
   "outputs": [],
   "source": [
    "# plt.figure(figsize=(10,5))\n",
    "sns.set_theme()\n",
    "\n",
    "flierprops = dict(marker='o', markerfacecolor='None', markersize=8,  markeredgecolor='black')\n",
    "\n",
    "ax = sns.boxplot(data=df, x=\"Type\",y=\"Overspeeding_event_by_distance_travelled\",palette=\"Set2\",orient=\"v\",width=0.8,flierprops=flierprops)\n",
    "ax = sns.swarmplot(x=\"Type\",y=\"Overspeeding_event_by_distance_travelled\", data=df, color=\".3\")\n",
    "\n",
    "plt.xlabel('Drivers')\n",
    "plt.ylabel(r'$\\dfrac{Over \\ speeding \\ Event}{Total \\ Distance \\ Covered \\ (km)}$')\n",
    "plt.title('Normalized Overspeeding Events - Entire Dataset')"
   ]
  },
  {
   "cell_type": "markdown",
   "metadata": {},
   "source": [
    "https://github.com/khuyentran1401/Data-science/blob/master/visualization/statsannotation_example.ipynb"
   ]
  },
  {
   "cell_type": "markdown",
   "metadata": {},
   "source": [
    "Checking if drivers that have higher overspeeding events also have high mean speed"
   ]
  },
  {
   "cell_type": "code",
   "execution_count": null,
   "metadata": {},
   "outputs": [],
   "source": [
    "list_of_x_largest=list(x_largest['Numberplate'])\n",
    "list_of_x_mid=list(x_mid['Numberplate'])\n",
    "list_of_x_smallest=list(x_smallest['Numberplate'])\n",
    "# list_of_x_largest"
   ]
  },
  {
   "cell_type": "markdown",
   "metadata": {},
   "source": [
    "### Extracting Trip Detail for drivers with high normalized overspeeding count"
   ]
  },
  {
   "cell_type": "code",
   "execution_count": null,
   "metadata": {},
   "outputs": [],
   "source": [
    "import dask.dataframe as dd\n",
    "from dask.diagnostics import ProgressBar\n",
    "\n",
    "df = dd.read_csv(r'D:\\AOS FOT\\Octo\\CSV Export\\AOS_SUMMARY\\AOS_SUMMARY.csv',delimiter=';', encoding='unicode_escape')\n",
    "\n",
    "df = df[df['Numberplate'].isin(list_of_x_smallest)]\n",
    "# df = df[df['Point_speed']==0]\n",
    "with ProgressBar():\n",
    "    df_aos_summary_overspeeding = df.compute()\n",
    "    \n",
    "df_aos_summary_overspeeding['platedate'] = df_aos_summary_overspeeding['Numberplate'] + df_aos_summary_overspeeding['TNO_Time-stamp'].str[:10]"
   ]
  },
  {
   "cell_type": "code",
   "execution_count": null,
   "metadata": {},
   "outputs": [],
   "source": [
    "df_aos_summary_overspeeding.to_csv(r'D:\\AOS FOT\\Octo\\pickle_files\\utrecht_leek\\df_aos_summary_bottom_drivers.csv')"
   ]
  },
  {
   "cell_type": "code",
   "execution_count": null,
   "metadata": {},
   "outputs": [],
   "source": [
    "import dask.dataframe as dd\n",
    "from dask.diagnostics import ProgressBar\n",
    "\n",
    "df = dd.read_csv(r'D:\\AOS FOT\\Octo\\CSV Export\\AOS_SUMMARY\\AOS_SUMMARY.csv',delimiter=';', encoding='unicode_escape')\n",
    "\n",
    "df = df[df['Numberplate'].isin(list_of_x_mid)]\n",
    "# df = df[df['Point_speed']==0]\n",
    "with ProgressBar():\n",
    "    df_aos_summary_overspeeding = df.compute()\n",
    "    \n",
    "df_aos_summary_overspeeding['platedate'] = df_aos_summary_overspeeding['Numberplate'] + df_aos_summary_overspeeding['TNO_Time-stamp'].str[:10]"
   ]
  },
  {
   "cell_type": "code",
   "execution_count": null,
   "metadata": {},
   "outputs": [],
   "source": [
    "df_aos_summary_overspeeding.to_csv(r'D:\\AOS FOT\\Octo\\pickle_files\\utrecht_leek\\df_aos_summary_mid_drivers.csv')"
   ]
  },
  {
   "cell_type": "code",
   "execution_count": null,
   "metadata": {},
   "outputs": [],
   "source": [
    "# df_aos_summary_overspeeding.to_pickle(r'D:\\AOS FOT\\Octo\\pickle_files\\utrecht_leek\\df_aos_summary_overspeeding.pkl')"
   ]
  },
  {
   "cell_type": "code",
   "execution_count": null,
   "metadata": {},
   "outputs": [],
   "source": [
    "all_trips_detail_of_drivers_that_have_high_normalized_overspeeding_event=pd.read_csv(r'D:\\AOS FOT\\Octo\\pickle_files\\utrecht_leek\\all_trips_detail_of_drivers_that_have_high_normalized_overspeeding_event.csv', encoding='unicode_escape',nrows=30000000)\n",
    "all_trips_detail_of_drivers_that_have_high_normalized_overspeeding_event = all_trips_detail_of_drivers_that_have_high_normalized_overspeeding_event.drop(all_trips_detail_of_drivers_that_have_high_normalized_overspeeding_event[all_trips_detail_of_drivers_that_have_high_normalized_overspeeding_event['Point_speed']==0].index)\n",
    "all_trips_detail_of_drivers_that_have_high_normalized_overspeeding_event=all_trips_detail_of_drivers_that_have_high_normalized_overspeeding_event[all_trips_detail_of_drivers_that_have_high_normalized_overspeeding_event['Road_type']==0]\n"
   ]
  },
  {
   "cell_type": "code",
   "execution_count": null,
   "metadata": {},
   "outputs": [],
   "source": [
    "mean_speed_of_high_overspeed_normalized=all_trips_detail_of_drivers_that_have_high_normalized_overspeeding_event.groupby(\"Numberplate\").mean()\n",
    "mean_speed_of_high_overspeed_normalized=mean_speed_of_high_overspeed_normalized.reset_index()\n",
    "mean_speed_of_high_overspeed_normalized.to_pickle(r'D:\\AOS FOT\\Octo\\pickle_files\\utrecht_leek\\mean_speed_of_high_overspeed_normalized_drivers_urban.pkl')"
   ]
  },
  {
   "cell_type": "code",
   "execution_count": null,
   "metadata": {},
   "outputs": [],
   "source": [
    "sum_of_high_overspeed_normalized=all_trips_detail_of_drivers_that_have_high_normalized_overspeeding_event.groupby(\"Numberplate\").sum()\n",
    "sum_of_high_overspeed_normalized=sum_of_high_overspeed_normalized.reset_index()\n",
    "sum_of_high_overspeed_normalized.to_pickle(r'D:\\AOS FOT\\Octo\\pickle_files\\utrecht_leek\\sum_of_high_overspeed_normalized_urban.pkl')"
   ]
  },
  {
   "cell_type": "markdown",
   "metadata": {},
   "source": [
    "### Plotting"
   ]
  },
  {
   "cell_type": "code",
   "execution_count": null,
   "metadata": {},
   "outputs": [],
   "source": [
    "mean_speed_of_high_overspeed_normalized=pd.read_pickle(r'D:\\AOS FOT\\Octo\\pickle_files\\utrecht_leek\\mean_speed_of_high_overspeed_normalized_drivers_urban.pkl')\n",
    "mean_speed_of_high_overspeed_normalized"
   ]
  },
  {
   "cell_type": "code",
   "execution_count": null,
   "metadata": {},
   "outputs": [],
   "source": [
    "mean_speed_of_high_overspeed_normalized.drop(['Unnamed: 0', 'Id', 'Header_Id', 'Trip_Summary_Id',\n",
    "       'Latitude', 'Longitude', 'Status', 'Meters_travelled', 'Time_elapsed', 'Average_speed_fpp', 'Point_AOS_headway',\n",
    "       'Number_of_lanes', 'Road_type', 'Road_class', 'Road_form',\n",
    "       'Speed_restriction', 'TNO_Valid', 'TNO_Day', 'TNO_Area_Valid',\n",
    "       'TNO_Time_elapsed', 'TNO_Average_speed'], axis = 1, inplace = True) "
   ]
  },
  {
   "cell_type": "code",
   "execution_count": null,
   "metadata": {},
   "outputs": [],
   "source": [
    "mean_speed_of_high_overspeed_normalized"
   ]
  },
  {
   "cell_type": "code",
   "execution_count": null,
   "metadata": {},
   "outputs": [],
   "source": [
    "x_largest.columns"
   ]
  },
  {
   "cell_type": "code",
   "execution_count": null,
   "metadata": {},
   "outputs": [],
   "source": [
    "x_largest.drop(['index', 'Id', 'Latitude', 'Longitude',\n",
    "       'Meters_travelled', 'Average_speed_fpp', 'Number_of_lanes', 'Road_type',\n",
    "       'Road_class', 'Road_form', 'Speed_restriction', 'TNO_Valid',\n",
    "       'TNO_Time-stamp_hour', 'TNO Trip Hour', 'Overspeeding_event',\n",
    "       'KmTravelled', 'Type'], axis = 1, inplace = True) "
   ]
  },
  {
   "cell_type": "code",
   "execution_count": null,
   "metadata": {},
   "outputs": [],
   "source": [
    "x_smallest_drivers_small=list(x_smallest['Numberplate'])"
   ]
  },
  {
   "cell_type": "markdown",
   "metadata": {},
   "source": [
    "#### Merging columns together"
   ]
  },
  {
   "cell_type": "code",
   "execution_count": null,
   "metadata": {},
   "outputs": [],
   "source": [
    "df_outer = pd.merge(x_largest, mean_speed_of_high_overspeed_normalized, on='Numberplate', how='outer')\n",
    "df_outer"
   ]
  },
  {
   "cell_type": "code",
   "execution_count": null,
   "metadata": {},
   "outputs": [],
   "source": [
    "sns.kdeplot(data=df_outer,x=\"Overspeeding_event_by_distance_travelled\",y=\"Point_speed_y\")\n",
    "plt.title(\"Point Speed vs Normalized Overspeeding Events of drivers (Top 10%)\")\n",
    "plt.ylabel(\"Mean Point Speed (km/h)\")\n",
    "plt.xlabel(r'$\\dfrac{Over \\ speeding \\ Event}{Total \\ Distance \\ Covered \\ (km)}$')"
   ]
  },
  {
   "cell_type": "code",
   "execution_count": null,
   "metadata": {},
   "outputs": [],
   "source": [
    "x_smallest_drivers_small"
   ]
  },
  {
   "cell_type": "markdown",
   "metadata": {},
   "source": [
    "**AOS Summary of drivers with High/Low Normalized Overspeeding Event**"
   ]
  },
  {
   "cell_type": "code",
   "execution_count": null,
   "metadata": {},
   "outputs": [],
   "source": [
    "df_bottom_overspeed_Drivers=pd.read__pickle(r'D:\\AOS FOT\\Octo\\pickle_files\\utrecht_leek\\df_aos_summary_low_speeding.pkl')"
   ]
  },
  {
   "cell_type": "code",
   "execution_count": null,
   "metadata": {},
   "outputs": [],
   "source": [
    "complete_df_bottom_10_percent_drivers=pd.read_pickle(r'D:\\AOS FOT\\Octo\\pickle_files\\utrecht_leek\\complete_df_bottom_10_percent_drivers.pkl')\n",
    "sum_speed_of_low_speed_normalized_trip_detail=complete_df_bottom_10_percent_drivers.groupby(\"Numberplate\").sum()"
   ]
  },
  {
   "cell_type": "code",
   "execution_count": null,
   "metadata": {},
   "outputs": [],
   "source": [
    "### Normalizing events values with distance\n",
    "\n",
    "sum_high_overspeed_normalized=pd.read_pickle(r'D:\\AOS FOT\\Octo\\pickle_files\\utrecht_leek\\sum_speed_of_high_overspeed_normalized_trip_detail.pkl')\n",
    "sum_high_overspeed_normalized['Km_travelled']=sum_high_overspeed_normalized['Meters_travelled']/1000\n",
    "# sum_high_overspeed_normalized=sum_high_overspeed_normalized[sum_high_overspeed_normalized['Road_type']==0]\n",
    "\n",
    "\n",
    "sum_high_overspeed_normalized.drop(['Unnamed: 0', 'Id', 'Header_Id', 'Trip_Summary_Id',\n",
    "       'Latitude', 'Longitude', 'Status', 'Meters_travelled', 'Time_elapsed',\n",
    "       'Point_speed', 'Average_speed_fpp', 'Point_AOS_headway',\n",
    "       'Number_of_lanes', 'Road_type', 'Road_class', 'Road_form',\n",
    "       'Speed_restriction', 'TNO_Valid', 'TNO_Day', 'TNO_Area_Valid',\n",
    "       'TNO_Time_elapsed', 'TNO_Average_speed',], axis = 1, inplace = True)\n",
    "sum_high_overspeed_normalized"
   ]
  },
  {
   "cell_type": "code",
   "execution_count": null,
   "metadata": {},
   "outputs": [],
   "source": [
    "aos_summary_overspeeding=pd.read_csv(r'D:\\AOS FOT\\Octo\\pickle_files\\utrecht_leek\\df_aos_summary_overspeeding.csv')\n",
    "aos_summary_overspeeding=rename_some_stuff(aos_summary_overspeeding)\n",
    "# aos_summary_overspeeding_groupby=aos_summary_overspeeding.groupby(\"Numberplate\").sum()\n",
    "# aos_summary_overspeeding_groupby"
   ]
  },
  {
   "cell_type": "code",
   "execution_count": null,
   "metadata": {},
   "outputs": [],
   "source": [
    "aos_summary_overspeeding.columns"
   ]
  },
  {
   "cell_type": "code",
   "execution_count": null,
   "metadata": {},
   "outputs": [],
   "source": [
    "aos_summary_overspeeding_groupby=aos_summary_overspeeding.groupby([\"Numberplate\",\"Event type Rename\"]).count()\n",
    "aos_summary_overspeeding_groupby"
   ]
  },
  {
   "cell_type": "code",
   "execution_count": null,
   "metadata": {},
   "outputs": [],
   "source": [
    "aos_summary_overspeeding_groupby=aos_summary_overspeeding_groupby.reset_index()"
   ]
  },
  {
   "cell_type": "code",
   "execution_count": null,
   "metadata": {},
   "outputs": [],
   "source": [
    "aos_summary_overspeeding_groupby.columns"
   ]
  },
  {
   "cell_type": "code",
   "execution_count": null,
   "metadata": {},
   "outputs": [],
   "source": [
    "# aos_summary_overspeeding_groupby_headway_warning=aos_summary_overspeeding_groupby[aos_summary_overspeeding_groupby['Event type Rename']=='Headway Warning (long)']\n",
    "aos_summary_overspeeding_groupby.drop(['Unnamed: 0', 'Id', 'Header_Id',\n",
    "       'AOS_event/action_date', 'AOS_event/action_time',\n",
    "       'Latitude', 'Longitude', 'Event/action_speed', 'Number_of_lanes',\n",
    "       'Road_type', 'Road_class', 'Road_form', 'Speed_restriction',\n",
    "       'Admin_area', 'IMEI', 'VoucherID', 'TNO_Time-stamp', 'TNO_Valid',\n",
    "       'TNO_Day', 'TNO_Area_Valid', 'platedate', 'Road_type_Rename'], axis = 1, inplace = True)"
   ]
  },
  {
   "cell_type": "code",
   "execution_count": null,
   "metadata": {},
   "outputs": [],
   "source": [
    "aos_summary_overspeeding_groupby['Event type Rename'].unique()"
   ]
  },
  {
   "cell_type": "code",
   "execution_count": null,
   "metadata": {},
   "outputs": [],
   "source": [
    "aos_summary_overspeeding_groupby_headway_warning=aos_summary_overspeeding_groupby[aos_summary_overspeeding_groupby['Event type Rename']=='Headway Warning (long)']\n",
    "aos_summary_overspeeding_groupby_headway_warning_medium=aos_summary_overspeeding_groupby[aos_summary_overspeeding_groupby['Event type Rename']=='Headway Warning (medium)']\n",
    "aos_summary_overspeeding_groupby_headway_warning_short=aos_summary_overspeeding_groupby[aos_summary_overspeeding_groupby['Event type Rename']=='Headway Warning (short)']\n",
    "aos_summary_overspeeding_groupby_headway_warning_off=aos_summary_overspeeding_groupby[aos_summary_overspeeding_groupby['Event type Rename']=='Headway Warning = OFF']\n",
    "aos_summary_overspeeding_groupby_lane_departure_warning_off=aos_summary_overspeeding_groupby[aos_summary_overspeeding_groupby['Event type Rename']=='Lane Departure Warning = OFF']\n",
    "aos_summary_overspeeding_groupby_lane_departure_warning_on=aos_summary_overspeeding_groupby[aos_summary_overspeeding_groupby['Event type Rename']=='Left Lane Departure Warning = ON']\n",
    "aos_summary_overspeeding_groupby_right_lane_on=aos_summary_overspeeding_groupby[aos_summary_overspeeding_groupby['Event type Rename']=='Right Lane Departure Warning = ON']\n",
    "aos_summary_overspeeding_groupby_indicator_off=aos_summary_overspeeding_groupby[aos_summary_overspeeding_groupby['Event type Rename']=='Indicators = OFF']\n",
    "aos_summary_overspeeding_groupby_brakes_on=aos_summary_overspeeding_groupby[aos_summary_overspeeding_groupby['Event type Rename']=='Brakes = ON']\n",
    "\n",
    "\n",
    "\n",
    "aos_summary_overspeeding_groupby_headway_warning_list_numberplate=list(aos_summary_overspeeding_groupby_brakes_on['Numberplate'])"
   ]
  },
  {
   "cell_type": "code",
   "execution_count": null,
   "metadata": {},
   "outputs": [],
   "source": [
    "df_grouped_complete.reset_index(inplace=True)"
   ]
  },
  {
   "cell_type": "code",
   "execution_count": null,
   "metadata": {},
   "outputs": [],
   "source": [
    "\n",
    "df_grouped_complete = df_grouped_complete[df_grouped_complete['Numberplate'].isin(aos_summary_overspeeding_groupby_headway_warning_list_numberplate)]"
   ]
  },
  {
   "cell_type": "code",
   "execution_count": null,
   "metadata": {},
   "outputs": [],
   "source": [
    "df_grouped_complete.drop(['index', 'Id', 'Latitude', 'Longitude',\n",
    "       'Meters_travelled', 'Point_speed', 'Average_speed_fpp',\n",
    "       'Number_of_lanes', 'Road_type', 'Road_class', 'Road_form',\n",
    "       'Speed_restriction', 'TNO_Valid', 'TNO_Time-stamp_hour',\n",
    "       'TNO Trip Hour', 'Overspeeding_event'], axis = 1, inplace = True)"
   ]
  },
  {
   "cell_type": "code",
   "execution_count": null,
   "metadata": {},
   "outputs": [],
   "source": [
    "df_grouped_complete"
   ]
  },
  {
   "cell_type": "code",
   "execution_count": null,
   "metadata": {},
   "outputs": [],
   "source": [
    "aos_summary_overspeeding_groupby_brakes_on"
   ]
  },
  {
   "cell_type": "code",
   "execution_count": null,
   "metadata": {},
   "outputs": [],
   "source": [
    "df_outer = pd.merge(df_grouped_complete, aos_summary_overspeeding_groupby_brakes_on, on='Numberplate', how='outer')\n",
    "df_outer['Event/action_type_distance_travelled']=df_outer['Event/action_type']/df_outer['KmTravelled']\n",
    "df_outer"
   ]
  },
  {
   "cell_type": "code",
   "execution_count": null,
   "metadata": {},
   "outputs": [],
   "source": [
    "sns.boxplot(data=df_outer[\"Event/action_type_distance_travelled\"])"
   ]
  },
  {
   "cell_type": "code",
   "execution_count": null,
   "metadata": {},
   "outputs": [],
   "source": [
    "sns.kdeplot(data=df_outer[\"Event/action_type_distance_travelled\"])"
   ]
  },
  {
   "cell_type": "code",
   "execution_count": null,
   "metadata": {},
   "outputs": [],
   "source": [
    "df_outer[df_outer['Event/action_type_distance_travelled']>6]['Numberplate']"
   ]
  },
  {
   "cell_type": "markdown",
   "metadata": {},
   "source": [
    "#### Event vs AOS"
   ]
  },
  {
   "cell_type": "code",
   "execution_count": null,
   "metadata": {},
   "outputs": [],
   "source": [
    "df_outer"
   ]
  },
  {
   "cell_type": "code",
   "execution_count": null,
   "metadata": {},
   "outputs": [],
   "source": [
    "# df_outer = df_outer.drop(df_outer[df_outer['Numberplate']=='BSFP34'].index)\n",
    "sns.set_theme()\n",
    "sns.axes_style(\"darkgrid\")\n",
    "sns.kdeplot(data=df_outer,x=\"Event/action_type_distance_travelled\",y=\"Overspeeding_event_by_distance_travelled\", palette=\"crest\")\n",
    "plt.xlabel(r'$\\dfrac{Brakes=ON \\ Event}{Total \\ Distance \\ Covered \\ (km)}$')\n",
    "plt.ylabel(r'$\\dfrac{Overspeeding \\ Event}{Total \\ Distance \\ Covered \\ (km)}$')\n",
    "plt.title(r\"$Normalized \\ Overspeeding \\ Event \\ vs \\ Braking \\ Event$\" \"\\n\" r\"$Numberplates (Top\\ 10\\% \\ - \\ Normalized \\ Overspeeding \\ Event)$\" \"\\n\" r\"$Correlation \\ Coefficient = 0.437$\")"
   ]
  },
  {
   "cell_type": "code",
   "execution_count": null,
   "metadata": {},
   "outputs": [],
   "source": [
    "# calculate Pearson's correlation\n",
    "from scipy.stats import spearmanr\n",
    "corr, _ = spearmanr(df_outer['Event/action_type_distance_travelled'], df_outer['Overspeeding_event_by_distance_travelled'])\n",
    "print('Spearman correlation: %.3f' % corr)"
   ]
  },
  {
   "cell_type": "markdown",
   "metadata": {},
   "source": [
    "**Distance Covered by each Numberplate**"
   ]
  },
  {
   "cell_type": "code",
   "execution_count": null,
   "metadata": {},
   "outputs": [],
   "source": [
    "import glob\n",
    "import os\n",
    "\n",
    "path=r'D:\\AOS FOT\\Octo\\pickle_files\\utrecht_leek\\grouped_numberplates_sum'\n",
    "all_files = glob.glob(os.path.join(path, \"*.pkl\"))\n",
    "\n",
    "df_grouped_complete = pd.concat((pd.read_pickle(f) for f in all_files), ignore_index=True)\n",
    "df_grouped_complete_trip_detail = df_grouped_complete.drop(df_grouped_complete[df_grouped_complete['Meters_travelled']==0].index)"
   ]
  },
  {
   "cell_type": "code",
   "execution_count": null,
   "metadata": {},
   "outputs": [],
   "source": [
    "df_grouped_complete_trip_detail=df_grouped_complete_trip_detail.groupby(\"Numberplate\").sum()\n",
    "df_grouped_complete_trip_detail['Overspeeding_event_by_distance_travelled']=df_grouped_complete_trip_detail['Overspeeding_event']/df_grouped_complete_trip_detail['KmTravelled']\n",
    "df_grouped_complete_trip_detail.reset_index(inplace=True)"
   ]
  },
  {
   "cell_type": "code",
   "execution_count": null,
   "metadata": {},
   "outputs": [],
   "source": [
    "df_grouped_complete_trip_detail.drop(['index', 'Id', 'Latitude', 'Longitude',\n",
    "       'Meters_travelled', 'Point_speed', 'Average_speed_fpp',\n",
    "       'Number_of_lanes', 'Road_type', 'Road_class', 'Road_form',\n",
    "       'Speed_restriction', 'TNO_Valid', 'TNO_Time-stamp_hour',\n",
    "       'TNO Trip Hour'], axis = 1, inplace = True)\n",
    "df_grouped_complete_trip_detail"
   ]
  },
  {
   "cell_type": "markdown",
   "metadata": {},
   "source": [
    "#### AOS Event Sum per Numberplate"
   ]
  },
  {
   "cell_type": "code",
   "execution_count": null,
   "metadata": {},
   "outputs": [],
   "source": [
    "aos_count_events=pd.read_pickle(r'D:\\AOS FOT\\Octo\\pickle_files\\utrecht_leek\\aos_summary_grouped\\aos_count_events_complete.pkl')\n",
    "aos_count_events['Event type Rename'].unique()\n"
   ]
  },
  {
   "cell_type": "code",
   "execution_count": null,
   "metadata": {},
   "outputs": [],
   "source": [
    "aos_count_events_headway_long=aos_count_events[aos_count_events['Event type Rename']=='Headway Warning (long)']\n",
    "aos_count_events_headway_long.drop(['Event type Rename'], axis = 1, inplace = True)\n",
    "aos_count_events_headway_long.rename(columns={'Event/action_type': 'Count_headway_warning_long_count'},inplace=True, errors='raise')\n",
    "aos_count_events_headway_long\n"
   ]
  },
  {
   "cell_type": "code",
   "execution_count": null,
   "metadata": {},
   "outputs": [],
   "source": [
    "df_outer = pd.merge(df_grouped_complete_trip_detail, aos_count_events_headway_long, on='Numberplate', how='outer')\n",
    "df_outer['Event/action_type_distance_travelled']=df_outer['Count_headway_warning_long_count']/df_outer['KmTravelled']\n",
    "df_outer"
   ]
  },
  {
   "cell_type": "code",
   "execution_count": null,
   "metadata": {},
   "outputs": [],
   "source": [
    "sns.set_style('whitegrid')\n",
    "plt.figure(figsize=(10,5))\n",
    "# sns.set_context('talk')\n",
    "sns.set_palette(['#62C370', '#FFD166', '#EF476F'])\n",
    "\n",
    "\n",
    "# sns.set_theme()\n",
    "flierprops = dict(marker='o', markerfacecolor='None', markersize=6,  markeredgecolor='black')\n",
    "\n",
    "ax = sns.boxplot(data=df_outer, x=\"Overspeeding_event_by_distance_travelled\",palette=\"Set2\",orient=\"v\",width=0.8,flierprops=flierprops)\n",
    "# ax = sns.swarmplot(data=df_outer,x=\"Overspeeding_event_by_distance_travelled\", color=\".3\")\n",
    "\n",
    "# plt.xlabel('Drivers')\n",
    "plt.xlabel(r'$\\dfrac{Over \\ speeding \\ Event}{Total \\ Distance \\ Covered \\ (km)}$')\n",
    "plt.title('Normalized Overspeeding Events - Entire Dataset')"
   ]
  },
  {
   "cell_type": "code",
   "execution_count": null,
   "metadata": {},
   "outputs": [],
   "source": [
    "x_largest=df_outer.nlargest(round(len(df_outer)/20), 'Overspeeding_event_by_distance_travelled')\n",
    "x_largest.reset_index(inplace=True)\n",
    "x_largest['Type']=\"Top 10% Drivers\""
   ]
  },
  {
   "cell_type": "code",
   "execution_count": null,
   "metadata": {},
   "outputs": [],
   "source": [
    "x_smallest=df_outer.nsmallest(round(len(df_outer)/20), 'Overspeeding_event_by_distance_travelled')\n",
    "x_smallest.reset_index(inplace=True)\n",
    "x_smallest['Type']=\"Bottom 10% Drivers\"\n",
    "df_list=[x_smallest,x_largest]\n",
    "df=pd.concat(df_list)"
   ]
  },
  {
   "cell_type": "code",
   "execution_count": null,
   "metadata": {},
   "outputs": [],
   "source": [
    "plt.figure(figsize=(10,5))\n",
    "flierprops = dict(marker='o', markerfacecolor='None', markersize=2,  markeredgecolor='black')\n",
    "df = df.drop(df[df.KmTravelled < 100].index)\n",
    "\n",
    "ax = sns.boxplot(data=df, x=\"Type\",y=\"Overspeeding_event_by_distance_travelled\",palette=\"Set2\",orient=\"v\",width=0.8,flierprops=flierprops)\n",
    "ax = sns.swarmplot(x=\"Type\",y=\"Overspeeding_event_by_distance_travelled\", data=df, color=\".3\")\n",
    "\n",
    "plt.xlabel('Drivers')\n",
    "plt.ylabel(r'$\\dfrac{Over \\ speeding \\ Event}{Total \\ Distance \\ Covered \\ (km)}$')\n",
    "plt.title('Normalized Overspeeding Events - Entire Dataset')"
   ]
  },
  {
   "cell_type": "code",
   "execution_count": null,
   "metadata": {},
   "outputs": [],
   "source": [
    "# aos_summary_overspeeding_driver1=pd.read_pickle(r'D:\\AOS FOT\\Octo\\pickle_files\\utrecht_leek\\aos_summary_overspeeding_drivers\\aos_summary_overspeeding_driver1.pkl')\n",
    "# normalized_events_driver1=aos_summary_overspeeding_driver1['Event type Rename'].value_counts()/df_no_zero['KmTravelled'].sum()\n",
    "# normalized_events_driver1"
   ]
  },
  {
   "cell_type": "markdown",
   "metadata": {},
   "source": [
    "### Drivers with high overspeeding event count"
   ]
  },
  {
   "cell_type": "code",
   "execution_count": null,
   "metadata": {},
   "outputs": [],
   "source": [
    "list_of_drivers_low_speed=list(x_smallest['Numberplate'])\n",
    "list_of_drivers_high_speed=list(x_largest['Numberplate'])"
   ]
  },
  {
   "cell_type": "code",
   "execution_count": null,
   "metadata": {},
   "outputs": [],
   "source": [
    "# import dask.dataframe as dd\n",
    "# from dask.diagnostics import ProgressBar\n",
    "\n",
    "\n",
    "# df = dd.read_csv(r'D:\\AOS FOT\\Octo\\CSV Export\\TRIP_DETAIL\\TRIP_DETAIL.csv',delimiter=';', encoding='unicode_escape')\n",
    "\n",
    "# df = df[df['Numberplate'].isin(list_of_drivers_low_speed)]\n",
    "# with ProgressBar():\n",
    "#     df_low_overspeed_trip_detail = df.compute()\n",
    "    \n",
    "# df['platedate'] = df['Numberplate'] + df['TNO_Time-stamp'].str[:10]"
   ]
  },
  {
   "cell_type": "code",
   "execution_count": null,
   "metadata": {},
   "outputs": [],
   "source": [
    "df_trip_detail_lowpeeding_drivers=pd.read_pickle(r'D:\\AOS FOT\\Octo\\pickle_files\\utrecht_leek\\complete_df_bottom_10_percent_drivers.pkl')\n"
   ]
  },
  {
   "cell_type": "code",
   "execution_count": null,
   "metadata": {},
   "outputs": [],
   "source": [
    "df_trip_detail_lowpeeding_drivers_motorway=df_trip_detail_lowpeeding_drivers[df_trip_detail_lowpeeding_drivers['Road_type']==1]"
   ]
  },
  {
   "cell_type": "code",
   "execution_count": null,
   "metadata": {},
   "outputs": [],
   "source": [
    "df_trip_detail_lowpeeding_drivers_urbnan=df_trip_detail_lowpeeding_drivers[df_trip_detail_lowpeeding_drivers['Road_type']==0]"
   ]
  },
  {
   "cell_type": "code",
   "execution_count": null,
   "metadata": {},
   "outputs": [],
   "source": [
    "df_trip_detail_high_speed=pd.read_pickle(r'D:\\AOS FOT\\Octo\\pickle_files\\utrecht_leek\\mean_speed_of_high_overspeed_normalized_drivers.pkl')\n",
    "df_trip_detail_high_speed.columns"
   ]
  },
  {
   "cell_type": "code",
   "execution_count": null,
   "metadata": {},
   "outputs": [],
   "source": [
    "df_trip_detail_low_speed=pd.read_pickle(r'D:\\AOS FOT\\Octo\\pickle_files\\utrecht_leek\\df_low_overspeed_trip_detail.pkl')\n",
    "df_trip_detail_low_speed.columns"
   ]
  },
  {
   "cell_type": "code",
   "execution_count": null,
   "metadata": {},
   "outputs": [],
   "source": [
    "df_trip_detail_lowpeeding_drivers_urbnan_grp=df_trip_detail_lowpeeding_drivers_urbnan.groupby(\"Numberplate\").mean()\n",
    "df_trip_detail_lowpeeding_drivers_urbnan_grp.reset_index(inplace=True)"
   ]
  },
  {
   "cell_type": "code",
   "execution_count": null,
   "metadata": {},
   "outputs": [],
   "source": [
    "df_trip_detail_lowpeeding_drivers_urbnan_grp.columns"
   ]
  },
  {
   "cell_type": "code",
   "execution_count": null,
   "metadata": {},
   "outputs": [],
   "source": [
    "df_trip_detail_lowpeeding_drivers_urbnan_grp.drop(['Id', 'Header_Id', 'Trip_Summary_Id',\n",
    "       'Latitude', 'Longitude', 'Status', 'Meters_travelled', 'Time_elapsed','Average_speed_fpp', 'Point_AOS_headway',\n",
    "       'Number_of_lanes', 'Road_type', 'Road_class', 'Road_form',\n",
    "       'Speed_restriction', 'TNO_Valid', 'TNO_Day', 'TNO_Area_Valid',\n",
    "       'TNO_Time_elapsed', 'TNO_Average_speed'], axis = 1, inplace = True) \n"
   ]
  },
  {
   "cell_type": "code",
   "execution_count": null,
   "metadata": {},
   "outputs": [],
   "source": [
    "df_trip_detail_lowpeeding_drivers_urbnan_grp['Type']=\"Low Normalized Overspeeding Count - Urban\"\n",
    "df_trip_detail_lowpeeding_drivers_urbnan_grp"
   ]
  },
  {
   "cell_type": "code",
   "execution_count": null,
   "metadata": {},
   "outputs": [],
   "source": []
  },
  {
   "cell_type": "code",
   "execution_count": null,
   "metadata": {},
   "outputs": [],
   "source": [
    "df_trip_detail_low_speed_grouped.drop([ 'Speed_restriction', 'Meters_travelled'], axis = 1, inplace = True)\n",
    "df_trip_detail_low_speed_grouped['Type']=\"Low Normalized Overspeeding Count\"\n",
    "df_trip_detail_low_speed_grouped"
   ]
  },
  {
   "cell_type": "code",
   "execution_count": null,
   "metadata": {},
   "outputs": [],
   "source": [
    "list_of_dfs=[df_trip_detail_lowpeeding_drivers_urbnan_grp,df_trip_detail_high_speed]\n",
    "list_of_dfs=pd.concat(list_of_dfs)\n",
    "list_of_dfs"
   ]
  },
  {
   "cell_type": "code",
   "execution_count": null,
   "metadata": {},
   "outputs": [],
   "source": [
    "\n",
    "# x_largest.drop(['index','Count_headway_warning_long_count', 'Event/action_type_distance_travelled', 'Type'], axis = 1, inplace = True) \n",
    "x_largest['Type']=\"High Normalized Overspeeding Count\""
   ]
  },
  {
   "cell_type": "code",
   "execution_count": null,
   "metadata": {},
   "outputs": [],
   "source": [
    "# x_smallest.drop(['index','Count_headway_warning_long_count', 'Event/action_type_distance_travelled', 'Type'], axis = 1, inplace = True) \n",
    "x_smallest['Type']=\"Low Normalized Overspeeding Count\""
   ]
  },
  {
   "cell_type": "code",
   "execution_count": null,
   "metadata": {},
   "outputs": [],
   "source": [
    "list_of_dfs_big_small=[x_smallest,x_largest]\n",
    "list_of_dfs_big_small=pd.concat(list_of_dfs_big_small)\n",
    "list_of_dfs_big_small"
   ]
  },
  {
   "cell_type": "code",
   "execution_count": null,
   "metadata": {},
   "outputs": [],
   "source": [
    "df_outer = pd.merge(list_of_dfs, list_of_dfs_big_small, on='Numberplate', how='outer')\n",
    "df_outer"
   ]
  },
  {
   "cell_type": "code",
   "execution_count": null,
   "metadata": {},
   "outputs": [],
   "source": [
    "df_outer = df_outer.drop(df_outer[df_outer['KmTravelled'] < 100].index)\n",
    "\n",
    "sns.scatterplot(x=df_outer['Overspeeding_event_by_distance_travelled'],y=df_outer['Point_speed'],s=60,hue=df_outer[\"Type_y\"])\n",
    "plt.ylabel(r\"$Mean \\ Point \\ Speed \\ (km/h)$\")\n",
    "plt.xlabel(r'$\\dfrac{Over \\ speeding \\ Event}{Total \\ Distance \\ Covered \\ (km)}$')\n",
    "plt.title(r\"$Mean \\ Point \\ Speed \\ vs \\ Normalized \\ Over \\ Speeding \\ Event$\")"
   ]
  },
  {
   "cell_type": "code",
   "execution_count": null,
   "metadata": {},
   "outputs": [],
   "source": [
    "# calculate Pearson's correlation\n",
    "from scipy.stats import spearmanr\n",
    "corr, _ = spearmanr(x_largest['Overspeeding_event_by_distance_travelled'],df_trip_detail_high_speed['Point_speed'])\n",
    "print('Spearman correlation: %.3f' % corr)"
   ]
  },
  {
   "cell_type": "code",
   "execution_count": null,
   "metadata": {},
   "outputs": [],
   "source": [
    "x_smallest_drop = x_smallest.drop(x_smallest[x_smallest['Overspeeding_event_by_distance_travelled']<0.005].index)\n",
    "\n",
    "sns.scatterplot(x=x_smallest_drop['Overspeeding_event_by_distance_travelled'],y=df_trip_detail_low_speed_grouped['Point_speed'],s=60)\n",
    "plt.ylabel(r\"$Mean \\ Point \\ Speed \\ (km/h)$\")\n",
    "plt.xlabel(r'$\\dfrac{Over \\ speeding \\ Event}{Total \\ Distance \\ Covered \\ (km)}$')\n",
    "plt.title(r\"$Correlation \\ Coefficient = -0.128$\")"
   ]
  },
  {
   "cell_type": "code",
   "execution_count": null,
   "metadata": {},
   "outputs": [],
   "source": [
    "df_trip_detail_high_speed"
   ]
  },
  {
   "cell_type": "code",
   "execution_count": null,
   "metadata": {},
   "outputs": [],
   "source": [
    "all_trips_detail_of_drivers_that_have_high_normalized_overspeeding_event=pd.read_csv(r'D:\\AOS FOT\\Octo\\pickle_files\\utrecht_leek\\all_trips_detail_of_drivers_that_have_high_normalized_overspeeding_event.csv',nrows=20000000)\n",
    "all_trips_detail_of_drivers_that_have_high_normalized_overspeeding_event"
   ]
  },
  {
   "cell_type": "code",
   "execution_count": null,
   "metadata": {},
   "outputs": [],
   "source": [
    "df_trip_detail_lowpeeding_drivers['Road_type'].value_counts()/len(df_trip_detail_lowpeeding_drivers)*100"
   ]
  },
  {
   "cell_type": "code",
   "execution_count": null,
   "metadata": {},
   "outputs": [],
   "source": []
  },
  {
   "cell_type": "code",
   "execution_count": null,
   "metadata": {},
   "outputs": [],
   "source": [
    "d = {'Road Type':['Motorway', 'Urban', 'Extra Urban', 'Other'],\n",
    "        'Percentage':[59.57, 34.25, 5.97, 0.20]}\n",
    "pd.DataFrame(data=d)"
   ]
  },
  {
   "cell_type": "code",
   "execution_count": null,
   "metadata": {},
   "outputs": [],
   "source": [
    "df_low_overspeed_trip_detail=pd.read_csv(r'D:\\AOS FOT\\Octo\\pickle_files\\utrecht_leek\\df_low_overspeed_trip_detail.csv',nrows=20000000)\n",
    "df_low_overspeed_trip_detail"
   ]
  },
  {
   "cell_type": "code",
   "execution_count": null,
   "metadata": {},
   "outputs": [],
   "source": [
    "(df_low_overspeed_trip_detail['Road_type'].value_counts())/len(df_low_overspeed_trip_detail)*100"
   ]
  },
  {
   "cell_type": "code",
   "execution_count": null,
   "metadata": {},
   "outputs": [],
   "source": []
  },
  {
   "cell_type": "code",
   "execution_count": null,
   "metadata": {},
   "outputs": [],
   "source": [
    "# calculate Pearson's correlation\n",
    "from scipy.stats import spearmanr\n",
    "corr, _ = spearmanr(x_smallest_drop['Overspeeding_event_by_distance_travelled'],df_trip_detail_low_speed_grouped['Point_speed'])\n",
    "print('Spearman correlation: %.3f' % corr)"
   ]
  },
  {
   "cell_type": "markdown",
   "metadata": {},
   "source": [
    "#### Entire Dataset (Mean Speed vs Overspeeding Count)"
   ]
  },
  {
   "cell_type": "code",
   "execution_count": null,
   "metadata": {},
   "outputs": [],
   "source": [
    "# df_trip_detail=pd.read_pickle(r'D:\\AOS FOT\\Octo\\pickle_files\\utrecht_leek\\df_trip_detail_for_grouping.pkl')\n",
    "# df_trip_detail"
   ]
  },
  {
   "cell_type": "code",
   "execution_count": null,
   "metadata": {},
   "outputs": [],
   "source": [
    "# dfReading the pickle file and assigning it to the variable df_trip_detail.\n",
    "# # _trip_detail_groupby_sum=df_trip_detail.groupby(\"Numberplate\").sum()\n",
    "# df_trip_detail_groupby_mean=df_trip_detail.groupby(\"Numberplate\").mean()"
   ]
  },
  {
   "cell_type": "markdown",
   "metadata": {},
   "source": [
    "### Overspeeding Event based on Type of Road"
   ]
  },
  {
   "cell_type": "markdown",
   "metadata": {},
   "source": [
    "### Split the entire dataset based on type of road"
   ]
  },
  {
   "cell_type": "code",
   "execution_count": null,
   "metadata": {},
   "outputs": [],
   "source": [
    "complete_df_top_10_percent_drivers_urban=df[df['Road_type']==0]\n",
    "complete_df_top_10_percent_drivers_motorway=df[df['Road_type']==1]"
   ]
  },
  {
   "cell_type": "code",
   "execution_count": null,
   "metadata": {},
   "outputs": [],
   "source": [
    "df = dd.read_csv(r'D:\\AOS FOT\\Octo\\CSV Export\\TRIP_DETAIL\\TRIP_DETAIL.csv',delimiter=';', encoding='unicode_escape')\n",
    "\n",
    "## Extracting all datapoints that pass through location1 and location 2 from TRIP_DETAIL \n",
    "# complete_df_top_10_percent_drivers_motorway=df[df['Road_type']==1]\n",
    "df = df[df['Road_type']==1]\n",
    "with ProgressBar():\n",
    "    df__trip_detail_motorway_20M = df.compute()\n",
    "# len(df_trip_utrecht_leek['platedate_copy'].unique())"
   ]
  },
  {
   "cell_type": "markdown",
   "metadata": {},
   "source": [
    "## **Splitting Entire Dataset into Urban and Motorway**"
   ]
  },
  {
   "cell_type": "markdown",
   "metadata": {},
   "source": [
    "#### Extracting Urban Area - Trip Detail"
   ]
  },
  {
   "cell_type": "code",
   "execution_count": null,
   "metadata": {},
   "outputs": [],
   "source": [
    "\n",
    "%%capture\n",
    "import pandas as pd\n",
    "# import modin.pandas as pd\n",
    "import numpy as np\n",
    "import math\n",
    "import seaborn as sns\n",
    "import matplotlib.pyplot as plt\n",
    "# import vaex # https://vaex.io/docs/index.html\n",
    "import pathlib\n",
    "from pathlib import *\n",
    "import os\n",
    "import pickle\n",
    "# import cufflinks as cf\n",
    "# import chart_studio.plotly as py\n",
    "import seaborn as sns\n",
    "import plotly.express as px\n",
    "%matplotlib inline\n",
    "from plotly.offline import download_plotlyjs, init_notebook_mode,plot,iplot\n",
    "\n",
    "init_notebook_mode(connected=True)\n",
    "import dask.dataframe as dd\n",
    "from dask.diagnostics import ProgressBar"
   ]
  },
  {
   "cell_type": "markdown",
   "metadata": {},
   "source": [
    "### **Mean speed of drivers in diff Urban areas**"
   ]
  },
  {
   "cell_type": "markdown",
   "metadata": {},
   "source": [
    "#### **Amsterdam**"
   ]
  },
  {
   "cell_type": "code",
   "execution_count": null,
   "metadata": {},
   "outputs": [],
   "source": [
    "import dask.dataframe as dd\n",
    "from dask.diagnostics import ProgressBar\n",
    "\n",
    "\n",
    "# area_list = ['Utrecht','Leek']\n",
    "# df = dd.read_csv(r'D:\\AOS FOT\\Octo\\CSV Export\\TRIP_DETAIL\\split_data\\df20M.csv',delimiter=';', encoding='unicode_escape',usecols=['Id', 'TNO_Time-stamp', 'Numberplate', 'Admin_area','Point_speed','Latitude','Longitude'],low_memory=False)\n",
    "\n",
    "df = dd.read_csv(r'D:\\AOS FOT\\Octo\\CSV Export\\AOS_SUMMARY\\split_data\\aos_summary_140M.csv', encoding='unicode_escape',low_memory=False,assume_missing=True)\n",
    "# df\n",
    "df = df[df['Admin_area']=='Rotterdam']\n",
    "with ProgressBar():\n",
    "    df = df.compute()"
   ]
  },
  {
   "cell_type": "code",
   "execution_count": null,
   "metadata": {},
   "outputs": [],
   "source": [
    "df.to_csv(r'D:\\AOS FOT\\Octo\\CSV Export\\AOS_SUMMARY\\split_data\\Urban\\Rotterdam\\AOS_SUMMARY_140M_urban_rotterdam.csv')"
   ]
  },
  {
   "cell_type": "code",
   "execution_count": null,
   "metadata": {},
   "outputs": [],
   "source": [
    "df.to_pickle(r'D:\\AOS FOT\\Octo\\pickle_files\\Complete_data_aos_summary\\Urban\\Rotterdam\\AOS_SUMMARY_140M_urban_rotterdam.pkl')"
   ]
  },
  {
   "cell_type": "code",
   "execution_count": null,
   "metadata": {},
   "outputs": [],
   "source": [
    "import dask.dataframe as dd\n",
    "from dask.diagnostics import ProgressBar\n",
    "\n",
    "\n",
    "# area_list = ['Utrecht','Leek']\n",
    "# df = dd.read_csv(r'D:\\AOS FOT\\Octo\\CSV Export\\TRIP_DETAIL\\split_data\\df20M.csv',delimiter=';', encoding='unicode_escape',usecols=['Id', 'TNO_Time-stamp', 'Numberplate', 'Admin_area','Point_speed','Latitude','Longitude'],low_memory=False)\n",
    "\n",
    "df = dd.read_csv(r'D:\\AOS FOT\\Octo\\CSV Export\\AOS_SUMMARY\\split_data\\aos_summary_120M.csv', encoding='unicode_escape',low_memory=False,assume_missing=True)\n",
    "# df\n",
    "df = df[df['Admin_area']=='Rotterdam']\n",
    "with ProgressBar():\n",
    "    df = df.compute()"
   ]
  },
  {
   "cell_type": "code",
   "execution_count": null,
   "metadata": {},
   "outputs": [],
   "source": [
    "df.to_csv(r'D:\\AOS FOT\\Octo\\CSV Export\\AOS_SUMMARY\\split_data\\Urban\\Rotterdam\\AOS_SUMMARY_120M_urban_rotterdam.csv')"
   ]
  },
  {
   "cell_type": "code",
   "execution_count": null,
   "metadata": {},
   "outputs": [],
   "source": [
    "df.to_pickle(r'D:\\AOS FOT\\Octo\\pickle_files\\Complete_data_aos_summary\\Urban\\Rotterdam\\AOS_SUMMARY_120M_urban_rotterdam.pkl')"
   ]
  },
  {
   "cell_type": "code",
   "execution_count": null,
   "metadata": {},
   "outputs": [],
   "source": [
    "import dask.dataframe as dd\n",
    "from dask.diagnostics import ProgressBar\n",
    "\n",
    "\n",
    "# area_list = ['Utrecht','Leek']\n",
    "# df = dd.read_csv(r'D:\\AOS FOT\\Octo\\CSV Export\\TRIP_DETAIL\\split_data\\df20M.csv',delimiter=';', encoding='unicode_escape',usecols=['Id', 'TNO_Time-stamp', 'Numberplate', 'Admin_area','Point_speed','Latitude','Longitude'],low_memory=False)\n",
    "\n",
    "df = dd.read_csv(r'D:\\AOS FOT\\Octo\\CSV Export\\TRIP_DETAIL\\split_data\\Urban\\df_trip_detail_240M_urban.csv', encoding='unicode_escape',low_memory=False)\n",
    "# df\n",
    "df = df[df['Admin_area']=='Zwolle']\n",
    "with ProgressBar():\n",
    "    df = df.compute()"
   ]
  },
  {
   "cell_type": "code",
   "execution_count": null,
   "metadata": {},
   "outputs": [],
   "source": [
    "df.to_csv(r'D:\\AOS FOT\\Octo\\CSV Export\\TRIP_DETAIL\\split_data\\Urban\\Zwolle\\TRIP_DETAIL_240M_urban_zwolle.csv')"
   ]
  },
  {
   "cell_type": "code",
   "execution_count": null,
   "metadata": {},
   "outputs": [],
   "source": [
    "df.to_pickle(r'D:\\AOS FOT\\Octo\\pickle_files\\Complete_data_Trip_detail\\Urban\\Zwolle\\TRIP_DETAIL_240M_urban_zwolle.pkl')"
   ]
  },
  {
   "cell_type": "markdown",
   "metadata": {},
   "source": [
    "### Filtering data"
   ]
  },
  {
   "cell_type": "code",
   "execution_count": null,
   "metadata": {},
   "outputs": [],
   "source": [
    "import glob\n",
    "import os\n",
    "\n",
    "path=r'D:\\AOS FOT\\Octo\\pickle_files\\Complete_data_Trip_detail\\Urban\\Zwolle'\n",
    "all_files = glob.glob(os.path.join(path, \"*.pkl\"))\n",
    "\n",
    "df_ams = pd.concat((pd.read_pickle(f) for f in all_files), ignore_index=True)"
   ]
  },
  {
   "cell_type": "code",
   "execution_count": null,
   "metadata": {},
   "outputs": [],
   "source": [
    "df_ams_fil = df_ams.drop(df_ams[df_ams['Average_speed_fpp']==0].index)\n",
    "df_ams_fil['Numberplate_copy'] = df_ams_fil['Numberplate']\n",
    "df_ams_fil['platedate_copy'] = df_ams_fil['platedate']"
   ]
  },
  {
   "cell_type": "code",
   "execution_count": null,
   "metadata": {},
   "outputs": [],
   "source": [
    "df_ams_fil.columns"
   ]
  },
  {
   "cell_type": "code",
   "execution_count": null,
   "metadata": {},
   "outputs": [],
   "source": [
    "df_ams_fil"
   ]
  },
  {
   "cell_type": "code",
   "execution_count": null,
   "metadata": {},
   "outputs": [],
   "source": [
    "df_ams_fil_numberplate_groupby_mean = df_ams_fil.groupby(['Numberplate']).mean()\n",
    "df_ams_fil_numberplate_groupby_mean.reset_index(inplace=True)\n",
    "df_ams_fil_numberplate_groupby_sum = df_ams_fil.groupby(['Numberplate']).sum()\n",
    "df_ams_fil_numberplate_groupby_sum.reset_index(inplace=True)\n"
   ]
  },
  {
   "cell_type": "markdown",
   "metadata": {},
   "source": [
    "#### Dropping columns that are not present in both"
   ]
  },
  {
   "cell_type": "code",
   "execution_count": null,
   "metadata": {},
   "outputs": [],
   "source": [
    "df_ams_fil_numberplate_groupby_mean.drop(['Unnamed: 0.1', 'Unnamed: 0', 'index', 'Id', 'Header_Id',\n",
    "       'Trip_Summary_Id', 'Latitude', 'Longitude', 'Status',\n",
    "       'Meters_travelled', 'Time_elapsed','Average_speed_fpp',\n",
    "       'Point_AOS_headway', 'Number_of_lanes', 'Road_type', 'Road_class',\n",
    "       'Road_form', 'Speed_restriction', 'TNO_Valid', 'TNO_Day',\n",
    "       'TNO_Area_Valid', 'TNO_Time_elapsed', 'TNO_Average_speed',\n",
    "       'TNO_Time-stamp_hour', 'TNO Trip Hour','Overspeeding_event',\n",
    "       'KmTravelled'], axis = 1, inplace = True) \n"
   ]
  },
  {
   "cell_type": "code",
   "execution_count": null,
   "metadata": {},
   "outputs": [],
   "source": [
    "df_ams_fil_numberplate_groupby_sum.drop(['Unnamed: 0.1', 'Unnamed: 0', 'index', 'Id', 'Header_Id',\n",
    "       'Trip_Summary_Id', 'Latitude', 'Longitude', 'Status',\n",
    "       'Meters_travelled', 'Time_elapsed', 'Point_speed', 'Average_speed_fpp',\n",
    "       'Point_AOS_headway', 'Number_of_lanes', 'Road_type', 'Road_class',\n",
    "       'Road_form', 'Speed_restriction', 'TNO_Valid', 'TNO_Day',\n",
    "       'TNO_Area_Valid', 'TNO_Time_elapsed', 'TNO_Average_speed',\n",
    "       'TNO_Time-stamp_hour', 'TNO Trip Hour'], axis = 1, inplace = True) \n"
   ]
  },
  {
   "cell_type": "code",
   "execution_count": null,
   "metadata": {},
   "outputs": [],
   "source": [
    "df_ams_grouped = pd.merge(df_ams_fil_numberplate_groupby_mean, df_ams_fil_numberplate_groupby_sum, on='Numberplate', how='outer') #here id is common column\n",
    "df_ams_grouped['norm_overspeeding']=df_ams_grouped['Overspeeding_event']/df_ams_grouped['KmTravelled']\n",
    "df_ams_grouped"
   ]
  },
  {
   "cell_type": "code",
   "execution_count": null,
   "metadata": {},
   "outputs": [],
   "source": [
    "sns.scatterplot(data=df_ams_grouped[df_ams_grouped['KmTravelled']<200],y=\"Point_speed\",x=\"norm_overspeeding\")"
   ]
  },
  {
   "cell_type": "code",
   "execution_count": null,
   "metadata": {},
   "outputs": [],
   "source": [
    "df_ams_grouped['KmTravelled'].median()"
   ]
  },
  {
   "cell_type": "code",
   "execution_count": null,
   "metadata": {},
   "outputs": [],
   "source": [
    "df=df_ams_grouped[df_ams_grouped['KmTravelled']<2000]"
   ]
  },
  {
   "cell_type": "code",
   "execution_count": null,
   "metadata": {},
   "outputs": [],
   "source": [
    "sns.boxplot(data=df,x='KmTravelled')\n",
    "plt.title('Total Distance Covered by different Numberplates over all trips')"
   ]
  },
  {
   "cell_type": "code",
   "execution_count": null,
   "metadata": {},
   "outputs": [],
   "source": []
  },
  {
   "cell_type": "code",
   "execution_count": null,
   "metadata": {},
   "outputs": [],
   "source": [
    "import glob\n",
    "import os\n",
    "\n",
    "path=r'D:\\AOS FOT\\Octo\\pickle_files\\Complete_data_aos_summary\\Urban\\Zwolle'\n",
    "all_files = glob.glob(os.path.join(path, \"*.pkl\"))\n",
    "\n",
    "df_ams_aos = pd.concat((pd.read_pickle(f) for f in all_files), ignore_index=True)\n",
    "df_ams_aos_urban=df_ams_aos[df_ams_aos['Road_type_Rename']=='Urban']\n",
    "# df_ams_aos_urban"
   ]
  },
  {
   "cell_type": "code",
   "execution_count": null,
   "metadata": {},
   "outputs": [],
   "source": [
    "df_ams_aos_urban_ground=df_ams_aos_urban.groupby(['Numberplate','Event type Rename']).size().unstack(fill_value=0)\n",
    "df_ams_aos_urban_ground.reset_index(inplace=True)\n",
    "df_ams_aos_urban_ground.columns"
   ]
  },
  {
   "cell_type": "code",
   "execution_count": null,
   "metadata": {},
   "outputs": [],
   "source": [
    "df_ams_grouped_trip_aos = pd.merge(df_ams_grouped, df_ams_aos_urban_ground, on='Numberplate', how='outer') #here id is common column\n",
    "# df_ams_grouped['norm_overspeeding']=df_ams_grouped['Overspeeding_event']/df_ams_grouped['KmTravelled']\n",
    "df_ams_grouped_trip_aos"
   ]
  },
  {
   "cell_type": "code",
   "execution_count": null,
   "metadata": {},
   "outputs": [],
   "source": [
    "df_ams_grouped_trip_aos_drop_nan = df_ams_grouped_trip_aos.dropna(axis = 0, how = 'any')\n",
    "df_ams_grouped_trip_aos_drop_nan"
   ]
  },
  {
   "cell_type": "code",
   "execution_count": null,
   "metadata": {},
   "outputs": [],
   "source": [
    "df_ams_grouped_trip_aos_drop_nan.columns"
   ]
  },
  {
   "cell_type": "code",
   "execution_count": null,
   "metadata": {},
   "outputs": [],
   "source": [
    "%%capture\n",
    "df_ams_grouped_trip_aos_drop_nan = df_ams_grouped_trip_aos.dropna(axis = 0, how = 'any')\n",
    "df_ams_grouped_trip_aos_drop_nan\n",
    "\n",
    "df_ams_grouped_trip_aos_drop_nan['norm_Indicators = OFF']=df_ams_grouped_trip_aos_drop_nan[' Indicators = OFF']/df_ams_grouped_trip_aos_drop_nan['KmTravelled']\n",
    "df_ams_grouped_trip_aos_drop_nan['norm_brakes = OFF']=df_ams_grouped_trip_aos_drop_nan['Brakes = OFF']/df_ams_grouped_trip_aos_drop_nan['KmTravelled']\n",
    "df_ams_grouped_trip_aos_drop_nan['norm_brakes = ON']=df_ams_grouped_trip_aos_drop_nan['Brakes = ON']/df_ams_grouped_trip_aos_drop_nan['KmTravelled']\n",
    "df_ams_grouped_trip_aos_drop_nan['norm_headway_warning(long)']=df_ams_grouped_trip_aos_drop_nan['Headway Warning (long)']/df_ams_grouped_trip_aos_drop_nan['KmTravelled']\n",
    "df_ams_grouped_trip_aos_drop_nan['norm_headway_warning(medium)']=df_ams_grouped_trip_aos_drop_nan['Headway Warning (medium)']/df_ams_grouped_trip_aos_drop_nan['KmTravelled']\n",
    "df_ams_grouped_trip_aos_drop_nan['norm_headway_warning(short)']=df_ams_grouped_trip_aos_drop_nan['Headway Warning (short)']/df_ams_grouped_trip_aos_drop_nan['KmTravelled']\n",
    "df_ams_grouped_trip_aos_drop_nan['norm_Headway Warning = OFF']=df_ams_grouped_trip_aos_drop_nan['Headway Warning = OFF']/df_ams_grouped_trip_aos_drop_nan['KmTravelled']\n",
    "df_ams_grouped_trip_aos_drop_nan['norm_Lane Departure Warning = OFF']=df_ams_grouped_trip_aos_drop_nan['Lane Departure Warning = OFF']/df_ams_grouped_trip_aos_drop_nan['KmTravelled']\n",
    "df_ams_grouped_trip_aos_drop_nan['norm_Left Indicator = ON']=df_ams_grouped_trip_aos_drop_nan['Left Indicator = ON']/df_ams_grouped_trip_aos_drop_nan['KmTravelled']\n",
    "df_ams_grouped_trip_aos_drop_nan['norm_Left Lane Departure Warning = ON']=df_ams_grouped_trip_aos_drop_nan['Left Lane Departure Warning = ON']/df_ams_grouped_trip_aos_drop_nan['KmTravelled']\n",
    "df_ams_grouped_trip_aos_drop_nan['norm_Left and Right Indicator = ON']=df_ams_grouped_trip_aos_drop_nan['Left and Right Indicator = ON']/df_ams_grouped_trip_aos_drop_nan['KmTravelled']\n",
    "df_ams_grouped_trip_aos_drop_nan['norm_Right Indicator = ON']=df_ams_grouped_trip_aos_drop_nan['Right Indicator = ON']/df_ams_grouped_trip_aos_drop_nan['KmTravelled']\n",
    "df_ams_grouped_trip_aos_drop_nan['norm_Right Lane Departure Warning = ON']=df_ams_grouped_trip_aos_drop_nan['Right Lane Departure Warning = ON']/df_ams_grouped_trip_aos_drop_nan['KmTravelled']\n"
   ]
  },
  {
   "cell_type": "code",
   "execution_count": null,
   "metadata": {},
   "outputs": [],
   "source": [
    "sns.boxplot(df_ams_grouped_trip_aos_drop_nan[\"Point_speed\"])"
   ]
  },
  {
   "cell_type": "code",
   "execution_count": null,
   "metadata": {},
   "outputs": [],
   "source": [
    "sns.scatterplot(y=df_ams_grouped_trip_aos_drop_nan[\"norm_brakes = ON\"],x=df_ams_grouped_trip_aos_drop_nan[\"Point_speed\"])"
   ]
  },
  {
   "cell_type": "markdown",
   "metadata": {},
   "source": [
    "### Splitting Dataset into Top/Mid/Bottom groups"
   ]
  },
  {
   "cell_type": "code",
   "execution_count": null,
   "metadata": {},
   "outputs": [],
   "source": [
    "df_ams_grouped_trip_aos_drop_nan"
   ]
  },
  {
   "cell_type": "code",
   "execution_count": null,
   "metadata": {},
   "outputs": [],
   "source": [
    "df_ams_grouped_trip_aos_drop_nan[[' Indicators = OFF', 'Brakes = OFF', 'Brakes = ON',\n",
    "       'Headway Warning (long)', 'Headway Warning (medium)',\n",
    "       'Headway Warning (short)', 'Headway Warning = OFF',\n",
    "       'Lane Departure Warning = OFF', 'Left Indicator = ON',\n",
    "       'Left Lane Departure Warning = ON', 'Left and Right Indicator = ON',\n",
    "       'Right Indicator = ON', 'Right Lane Departure Warning = ON']].div(df_ams_grouped_trip_aos_drop_nan['KmTravelled'], axis=0)"
   ]
  },
  {
   "cell_type": "code",
   "execution_count": null,
   "metadata": {},
   "outputs": [],
   "source": [
    "sns.histplot(data=df_ams_grouped_trip_aos_drop_nan, x=\"KmTravelled\", kde=True,stat=\"probability\")\n",
    "plt.xlabel(\"Distance Travelled (km)\")\n",
    "plt.title(\"Distance Covered by each Numberplate in Ams (Urban)\")\n",
    "plt.ylabel(\"Relative Frequency\")"
   ]
  },
  {
   "cell_type": "code",
   "execution_count": null,
   "metadata": {},
   "outputs": [],
   "source": [
    "sns.kdeplot(data=df_ams_grouped_trip_aos_drop_nan, x=\"KmTravelled\")\n",
    "plt.xlabel(\"Distance Travelled (km)\")\n",
    "plt.title(\"Distance Covered by each Numberplate in Ams (Urban)\")\n",
    "# plt.ylabel(\"Relative Frequency\")"
   ]
  },
  {
   "cell_type": "markdown",
   "metadata": {},
   "source": [
    "#### Detecting Outliers"
   ]
  },
  {
   "cell_type": "code",
   "execution_count": null,
   "metadata": {},
   "outputs": [],
   "source": [
    "def remove_outlier_IQR(df):\n",
    "    Q1=df.quantile(0.25)\n",
    "    Q3=df.quantile(0.75)\n",
    "    IQR=Q3-Q1\n",
    "    df_final=df[~((df<(Q1-1.5*IQR)) | (df>(Q3+1.5*IQR)))]\n",
    "    return df_final"
   ]
  },
  {
   "cell_type": "code",
   "execution_count": null,
   "metadata": {},
   "outputs": [],
   "source": [
    "rem_df_ams_grp_km_travelled=remove_outlier_IQR(df_ams_grouped_trip_aos_drop_nan[\"KmTravelled\"])\n",
    "len(rem_df_ams_grp_km_travelled)"
   ]
  },
  {
   "cell_type": "code",
   "execution_count": null,
   "metadata": {},
   "outputs": [],
   "source": [
    "sns.histplot(rem_df_ams_grp_km_travelled,kde=True)\n",
    "plt.xlabel(\"Distance Travelled (km)\")\n",
    "plt.title(\"Distance Covered by each Numberplate in Ams (Urban)\")"
   ]
  },
  {
   "cell_type": "markdown",
   "metadata": {},
   "source": [
    "#### Removing bottom 10% of data cause that will not be accurate representation of a drivers behaviour"
   ]
  },
  {
   "cell_type": "code",
   "execution_count": null,
   "metadata": {},
   "outputs": [],
   "source": [
    "x_smallest_ams_urban=df_ams_grouped_trip_aos_drop_nan.nsmallest(round(len(df_ams_grouped_trip_aos_drop_nan)/10),'KmTravelled')\n",
    "x_smallest_ams_urban.reset_index(inplace=True)\n",
    "# x_smallest_ams_urban\n",
    "\n",
    "x_smallest_ams_urban_numberplate=x_smallest_ams_urban['Numberplate']"
   ]
  },
  {
   "cell_type": "code",
   "execution_count": null,
   "metadata": {},
   "outputs": [],
   "source": [
    "x_smallest_ams_urban_numberplate"
   ]
  },
  {
   "cell_type": "code",
   "execution_count": null,
   "metadata": {},
   "outputs": [],
   "source": [
    "x_largest_ams_urban=df_ams_grouped_trip_aos_drop_nan.nlargest(round(len(df_ams_grouped_trip_aos_drop_nan)/20),'KmTravelled')\n",
    "x_largest_ams_urban.reset_index(inplace=True)\n",
    "# x_largest_ams_urban\n",
    "x_largest_ams_urban_numberplate=x_largest_ams_urban['Numberplate']"
   ]
  },
  {
   "cell_type": "code",
   "execution_count": null,
   "metadata": {},
   "outputs": [],
   "source": [
    "x_largest_ams_urban_numberplate"
   ]
  },
  {
   "cell_type": "code",
   "execution_count": null,
   "metadata": {},
   "outputs": [],
   "source": [
    "df = df_ams_grouped_trip_aos_drop_nan[~df_ams_grouped_trip_aos_drop_nan['Numberplate'].isin(x_largest_ams_urban_numberplate)]\n",
    "df = df[~df['Numberplate'].isin(x_smallest_ams_urban_numberplate)]\n",
    "df"
   ]
  },
  {
   "cell_type": "code",
   "execution_count": null,
   "metadata": {},
   "outputs": [],
   "source": [
    "df['KmTravelled'].min()"
   ]
  },
  {
   "cell_type": "code",
   "execution_count": null,
   "metadata": {},
   "outputs": [],
   "source": [
    "sns.histplot(df['KmTravelled'],kde=True)\n",
    "plt.xlabel(\"Distance Travelled (km)\")\n",
    "plt.title(\"Distance Covered by each Numberplate in Ams (Urban)\")"
   ]
  },
  {
   "cell_type": "markdown",
   "metadata": {},
   "source": [
    "#### Splitting grp into top/mid/bottom based on Overspeeding"
   ]
  },
  {
   "cell_type": "code",
   "execution_count": null,
   "metadata": {},
   "outputs": [],
   "source": [
    "df.columns"
   ]
  },
  {
   "cell_type": "code",
   "execution_count": null,
   "metadata": {},
   "outputs": [],
   "source": [
    "x_smallest_ams_urban_overspeeding=df.nsmallest(round(len(df)/10),'norm_overspeeding')\n",
    "x_smallest_ams_urban_overspeeding.reset_index(inplace=True)\n",
    "# x_smallest_ams_urban\n",
    "x_smallest_ams_urban_overspeeding_numberplate=x_smallest_ams_urban_overspeeding['Numberplate']"
   ]
  },
  {
   "cell_type": "code",
   "execution_count": null,
   "metadata": {},
   "outputs": [],
   "source": [
    "x_largest_ams_urban_overspeeding=df.nlargest(round(len(df)/10),'norm_overspeeding')\n",
    "x_largest_ams_urban_overspeeding.reset_index(inplace=True)\n",
    "# x_smallest_ams_urban\n",
    "x_largest_ams_urban_overspeeding_numberplate=x_largest_ams_urban_overspeeding['Numberplate']"
   ]
  },
  {
   "cell_type": "code",
   "execution_count": null,
   "metadata": {},
   "outputs": [],
   "source": [
    "len(x_largest_ams_urban_overspeeding_numberplate)"
   ]
  },
  {
   "cell_type": "code",
   "execution_count": null,
   "metadata": {},
   "outputs": [],
   "source": [
    "df['norm_overspeeding'].median()"
   ]
  },
  {
   "cell_type": "code",
   "execution_count": null,
   "metadata": {},
   "outputs": [],
   "source": [
    "x_median_vals = df.loc[(df['norm_overspeeding'] >= 0.0298) & (df['norm_overspeeding'] <=0.0342)] #Road 1\n",
    "len(x_median_vals)"
   ]
  },
  {
   "cell_type": "code",
   "execution_count": null,
   "metadata": {},
   "outputs": [],
   "source": [
    "x_median_vals = df.loc[(df['norm_overspeeding'] >= 0.0298) & (df['norm_overspeeding'] <=0.0342)] #Road 1\n",
    "x_median_vals.reset_index(inplace=True)\n",
    "x_median_ams_urban_overspeeding_numberplate=x_median_vals['Numberplate']"
   ]
  },
  {
   "cell_type": "markdown",
   "metadata": {},
   "source": [
    "### Extracting All trips of overspeeding drivers - Largest"
   ]
  },
  {
   "cell_type": "code",
   "execution_count": null,
   "metadata": {},
   "outputs": [],
   "source": [
    "import dask.dataframe as dd\n",
    "from dask.diagnostics import ProgressBar\n",
    "\n",
    "\n",
    "df = dd.read_csv(r'D:\\AOS FOT\\Octo\\CSV Export\\AOS_SUMMARY\\AOS_SUMMARY.csv',encoding='unicode_escape',delimiter=';')\n",
    "\n",
    "df = df[df['Road_type']==0]\n",
    "df = df[df['Numberplate'].isin(x_median_ams_urban_overspeeding_numberplate)]\n",
    "with ProgressBar():\n",
    "    df = df.compute()\n",
    "    \n",
    "df['platedate'] = df['Numberplate'] + df['TNO_Time-stamp'].str[:10]\n",
    "\n",
    "# df.to_csv(r'D:\\AOS FOT\\Octo\\CSV Export\\TRIP_DETAIL\\split_data\\Urban\\Amsterdam\\Complete Trip Detail Drivers Norm Overspeeding Amsterdam\\Bottom\\df_complete_trip_detail_260M.csv')"
   ]
  },
  {
   "cell_type": "code",
   "execution_count": null,
   "metadata": {},
   "outputs": [],
   "source": [
    "df.to_csv(r'D:\\AOS FOT\\Octo\\CSV Export\\TRIP_DETAIL\\split_data\\Urban\\Zwolle\\Complete AOS Summary Drivers Norm Overspeeding Zwolle\\df_complete_aos_summary_overspeeding_zwolle_mid.csv')"
   ]
  },
  {
   "cell_type": "code",
   "execution_count": null,
   "metadata": {},
   "outputs": [],
   "source": [
    "import dask.dataframe as dd\n",
    "from dask.diagnostics import ProgressBar\n",
    "\n",
    "\n",
    "df = dd.read_csv(r'D:\\AOS FOT\\Octo\\CSV Export\\AOS_SUMMARY\\AOS_SUMMARY.csv',encoding='unicode_escape',delimiter=';')\n",
    "\n",
    "df = df[df['Road_type']==0]\n",
    "df = df[df['Numberplate'].isin(x_largest_ams_urban_overspeeding_numberplate)]\n",
    "with ProgressBar():\n",
    "    df = df.compute()\n",
    "    \n",
    "df['platedate'] = df['Numberplate'] + df['TNO_Time-stamp'].str[:10]\n",
    "\n",
    "# df.to_csv(r'D:\\AOS FOT\\Octo\\CSV Export\\TRIP_DETAIL\\split_data\\Urban\\Amsterdam\\Complete Trip Detail Drivers Norm Overspeeding Amsterdam\\Bottom\\df_complete_trip_detail_260M.csv')"
   ]
  },
  {
   "cell_type": "code",
   "execution_count": null,
   "metadata": {},
   "outputs": [],
   "source": [
    "df.to_csv(r'D:\\AOS FOT\\Octo\\CSV Export\\TRIP_DETAIL\\split_data\\Urban\\Zwolle\\Complete AOS Summary Drivers Norm Overspeeding Zwolle\\df_complete_aos_summary_overspeeding_zwolle_top.csv')"
   ]
  },
  {
   "cell_type": "code",
   "execution_count": null,
   "metadata": {},
   "outputs": [],
   "source": [
    "import dask.dataframe as dd\n",
    "from dask.diagnostics import ProgressBar\n",
    "\n",
    "\n",
    "df = dd.read_csv(r'D:\\AOS FOT\\Octo\\CSV Export\\AOS_SUMMARY\\AOS_SUMMARY.csv',encoding='unicode_escape',delimiter=';')\n",
    "\n",
    "df = df[df['Road_type']==0]\n",
    "df = df[df['Numberplate'].isin(x_smallest_ams_urban_overspeeding_numberplate)]\n",
    "with ProgressBar():\n",
    "    df = df.compute()\n",
    "    \n",
    "df['platedate'] = df['Numberplate'] + df['TNO_Time-stamp'].str[:10]\n",
    "\n",
    "# df.to_csv(r'D:\\AOS FOT\\Octo\\CSV Export\\TRIP_DETAIL\\split_data\\Urban\\Amsterdam\\Complete Trip Detail Drivers Norm Overspeeding Amsterdam\\Bottom\\df_complete_trip_detail_260M.csv')"
   ]
  },
  {
   "cell_type": "code",
   "execution_count": null,
   "metadata": {},
   "outputs": [],
   "source": [
    "df.to_csv(r'D:\\AOS FOT\\Octo\\CSV Export\\TRIP_DETAIL\\split_data\\Urban\\Zwolle\\Complete AOS Summary Drivers Norm Overspeeding Zwolle\\df_complete_aos_summary_overspeeding_zwolle_bottom.csv')"
   ]
  },
  {
   "cell_type": "code",
   "execution_count": null,
   "metadata": {},
   "outputs": [],
   "source": []
  },
  {
   "cell_type": "code",
   "execution_count": null,
   "metadata": {},
   "outputs": [],
   "source": []
  }
 ],
 "metadata": {
  "kernelspec": {
   "display_name": "Python 3",
   "language": "python",
   "name": "python3"
  },
  "language_info": {
   "codemirror_mode": {
    "name": "ipython",
    "version": 3
   },
   "file_extension": ".py",
   "mimetype": "text/x-python",
   "name": "python",
   "nbconvert_exporter": "python",
   "pygments_lexer": "ipython3",
   "version": "3.8.15"
  },
  "vscode": {
   "interpreter": {
    "hash": "a2cfa282833ad131b813daadc2d579e64b9e3379708ebc6d12c1926855f4c941"
   }
  }
 },
 "nbformat": 4,
 "nbformat_minor": 2
}
