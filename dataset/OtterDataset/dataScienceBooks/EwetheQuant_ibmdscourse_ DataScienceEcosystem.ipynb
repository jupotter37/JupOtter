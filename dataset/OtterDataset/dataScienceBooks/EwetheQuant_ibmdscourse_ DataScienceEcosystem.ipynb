{
 "cells": [
  {
   "cell_type": "markdown",
   "id": "fa582039-0a1b-45e9-bf55-910b8a8b28ff",
   "metadata": {},
   "source": [
    "# Data Science Tools and Ecosystem"
   ]
  },
  {
   "cell_type": "markdown",
   "id": "c20f76e5-f3a4-4406-bf6c-b49ac48ca05a",
   "metadata": {},
   "source": [
    "In this notebook, Data Science Tools and Ecosystem are summarized"
   ]
  },
  {
   "cell_type": "markdown",
   "id": "7fe65f1b-fc4a-4426-948c-0ea1906f500d",
   "metadata": {},
   "source": [
    "**Objectives:**\n",
    "- List popular languages for Data Science\n",
    "- List IDEs used in Data Science\n",
    "- Perform an arithmetic operation"
   ]
  },
  {
   "cell_type": "markdown",
   "id": "d775cf7e-812d-4d75-957d-bc34f2046d41",
   "metadata": {},
   "source": [
    "Some of the popular languages that Data Scientists use are:\n",
    "\n",
    "1. Python\n",
    "2. R\n",
    "3. Rust"
   ]
  },
  {
   "cell_type": "markdown",
   "id": "48bafed5-fab5-4047-97da-3d8c0740879a",
   "metadata": {},
   "source": [
    "Some of the commonly used libraries used by Data Scientists include:\n",
    "\n",
    "1. Pandas\n",
    "2. NumPy\n",
    "3. Scikit-learn\n",
    "4. keras\n",
    "5. TensorFlow\n",
    "6. PyTorch"
   ]
  },
  {
   "cell_type": "markdown",
   "id": "f7eb6bd1-bffe-492d-b668-7debd4afd365",
   "metadata": {},
   "source": [
    "|Data Science Tool|\n",
    "|-|\n",
    "|JupyterLab|\n",
    "|PyCharm|\n",
    "|MS Visual Studio|\n",
    "|R Studio|"
   ]
  },
  {
   "cell_type": "markdown",
   "id": "632d3af0-7daa-4124-87b3-fda14c479cd7",
   "metadata": {},
   "source": [
    "### Below are a few examples of evaluating arithmetic expressions in Python"
   ]
  },
  {
   "cell_type": "code",
   "execution_count": 1,
   "id": "750fff37-ee51-4c5a-aa62-980d17febf70",
   "metadata": {},
   "outputs": [
    {
     "data": {
      "text/plain": [
       "17"
      ]
     },
     "execution_count": 1,
     "metadata": {},
     "output_type": "execute_result"
    }
   ],
   "source": [
    "#  This a simple arithmetic expression to multiply then add integers\n",
    "(3*4)+5"
   ]
  },
  {
   "cell_type": "code",
   "execution_count": 2,
   "id": "a61e31ca-0c5f-4843-9bb0-6c447d18853c",
   "metadata": {},
   "outputs": [
    {
     "data": {
      "text/plain": [
       "3.3333333333333335"
      ]
     },
     "execution_count": 2,
     "metadata": {},
     "output_type": "execute_result"
    }
   ],
   "source": [
    "# This will convert 200 minutes to hours by diving by 60\n",
    "\n",
    "200 / 60"
   ]
  },
  {
   "cell_type": "markdown",
   "id": "c6593412-111c-4304-99a8-b17a5603ea29",
   "metadata": {},
   "source": [
    "## Author\n",
    "Ewelike ALAEKWE"
   ]
  },
  {
   "cell_type": "code",
   "execution_count": null,
   "id": "08f946f1-fa9e-4493-8c2f-8163cabf7d89",
   "metadata": {},
   "outputs": [],
   "source": []
  }
 ],
 "metadata": {
  "kernelspec": {
   "display_name": "Python 3 (ipykernel)",
   "language": "python",
   "name": "python3"
  },
  "language_info": {
   "codemirror_mode": {
    "name": "ipython",
    "version": 3
   },
   "file_extension": ".py",
   "mimetype": "text/x-python",
   "name": "python",
   "nbconvert_exporter": "python",
   "pygments_lexer": "ipython3",
   "version": "3.11.1"
  }
 },
 "nbformat": 4,
 "nbformat_minor": 5
}
