{
  "nbformat": 4,
  "nbformat_minor": 0,
  "metadata": {
    "colab": {
      "provenance": [],
      "authorship_tag": "ABX9TyP9SYZTRSGJIjy0rEl8EsL6",
      "include_colab_link": true
    },
    "kernelspec": {
      "name": "python3",
      "display_name": "Python 3"
    },
    "language_info": {
      "name": "python"
    }
  },
  "cells": [
    {
      "cell_type": "markdown",
      "metadata": {
        "id": "view-in-github",
        "colab_type": "text"
      },
      "source": [
        "<a href=\"https://colab.research.google.com/github/chrischibueze/Name-entity-recognition-The-Data-City/blob/main/NER.ipynb\" target=\"_parent\"><img src=\"https://colab.research.google.com/assets/colab-badge.svg\" alt=\"Open In Colab\"/></a>"
      ]
    },
    {
      "cell_type": "markdown",
      "source": [
        "Named entity recognition (NER) is a natural language processing technique for identifying and classifying named entities in text. Named entities are typically people, organizations, locations, dates, times, and quantities.\n",
        "\n",
        "An important thing about NER models is that their ability to understand Named Entities depends on the data they have been trained on"
      ],
      "metadata": {
        "id": "9J6blgyb2bra"
      }
    },
    {
      "cell_type": "markdown",
      "source": [
        "# Examples 1\n",
        "\n",
        "```\n",
        "# This is formatted as code\n",
        "```\n",
        "\n"
      ],
      "metadata": {
        "id": "kmXEjuutYxjJ"
      }
    },
    {
      "cell_type": "code",
      "source": [
        "import spacy"
      ],
      "metadata": {
        "id": "cVdAZ6Ru27GF"
      },
      "execution_count": 45,
      "outputs": []
    },
    {
      "cell_type": "code",
      "source": [
        "nlp = spacy.load(\"en_core_web_sm\")"
      ],
      "metadata": {
        "id": "Fh-gCN3svRoY"
      },
      "execution_count": 46,
      "outputs": []
    },
    {
      "cell_type": "code",
      "source": [
        "text = (\"When Sebastian Thrun started working on self-driving cars at \"\n",
        "        \"Google in 2007, few people outside of the company took him \"\n",
        "        \"seriously. “I can tell you very senior CEOs of major American \"\n",
        "        \"car companies would shake my hand and turn away because I wasn’t \"\n",
        "        \"worth talking to,” said Thrun, in an interview with Recode earlier \"\n",
        "        \"this week.HOuse address 1-3 Newdigate street nottingham NG7 4FD\")\n",
        "doc = nlp(text)"
      ],
      "metadata": {
        "id": "GqDpePTTvXRQ"
      },
      "execution_count": 47,
      "outputs": []
    },
    {
      "cell_type": "code",
      "source": [
        "# Analyze syntax\n",
        "print(\"Noun phrases:\", [chunk.text for chunk in doc.noun_chunks])\n",
        "print(\"Verbs:\", [token.lemma_ for token in doc if token.pos_ == \"VERB\"])"
      ],
      "metadata": {
        "colab": {
          "base_uri": "https://localhost:8080/"
        },
        "id": "ypox7wmBvZ0k",
        "outputId": "2ace5a2d-e38f-4266-9156-f88ae27e4004"
      },
      "execution_count": 48,
      "outputs": [
        {
          "output_type": "stream",
          "name": "stdout",
          "text": [
            "Noun phrases: ['Sebastian Thrun', 'self-driving cars', 'Google', 'few people', 'the company', 'him', 'I', 'you', 'very senior CEOs', 'major American car companies', 'my hand', 'I', 'Thrun', 'an interview', 'Recode', 'HOuse address']\n",
            "Verbs: ['start', 'work', 'drive', 'take', 'tell', 'shake', 'turn', 'talk', 'say']\n"
          ]
        }
      ]
    },
    {
      "cell_type": "markdown",
      "source": [
        "# Example 2"
      ],
      "metadata": {
        "id": "drMtgX2VY4kG"
      }
    },
    {
      "cell_type": "code",
      "source": [
        "# Find named entities, phrases and concepts\n",
        "for entity in doc.ents:\n",
        "    print(entity.text, entity.label_)"
      ],
      "metadata": {
        "colab": {
          "base_uri": "https://localhost:8080/"
        },
        "id": "QcJmFzd6vcJ3",
        "outputId": "0844bc1b-4827-4625-9573-c49a053e8a39"
      },
      "execution_count": 40,
      "outputs": [
        {
          "output_type": "stream",
          "name": "stdout",
          "text": [
            "Sebastian Thrun PERSON\n",
            "Google ORG\n",
            "2007 DATE\n",
            "American NORP\n",
            "Thrun PERSON\n",
            "Recode ORG\n",
            "earlier this week DATE\n",
            "HOuse ORG\n",
            "1 CARDINAL\n",
            "Newdigate ORG\n"
          ]
        }
      ]
    },
    {
      "cell_type": "markdown",
      "source": [
        "# Example 3"
      ],
      "metadata": {
        "id": "qvi123pKY8iW"
      }
    },
    {
      "cell_type": "code",
      "source": [
        "from spacy.tokens import Doc\n",
        "\n",
        "words = [\"hello\", \"world\", \"!\"]\n",
        "spaces = [True, True, True]\n",
        "doc = Doc(nlp.vocab, words=words, spaces=spaces)\n",
        "doc"
      ],
      "metadata": {
        "id": "e25D_iaGvlV7",
        "colab": {
          "base_uri": "https://localhost:8080/"
        },
        "outputId": "bd583a3c-3640-46a6-9dd1-fdbb8d005796"
      },
      "execution_count": 36,
      "outputs": [
        {
          "output_type": "execute_result",
          "data": {
            "text/plain": [
              "hello world ! "
            ]
          },
          "metadata": {},
          "execution_count": 36
        }
      ]
    },
    {
      "cell_type": "markdown",
      "source": [
        "# Example 4"
      ],
      "metadata": {
        "id": "FFp3MZZvZC4Y"
      }
    },
    {
      "cell_type": "code",
      "source": [
        "from spacy.tokenizer import Tokenizer"
      ],
      "metadata": {
        "id": "E0zBfShuPiOg"
      },
      "execution_count": 41,
      "outputs": []
    },
    {
      "cell_type": "code",
      "source": [
        "import re\n",
        "\n",
        "def split_joined_words(text):\n",
        "    # Define a regular expression pattern to split words\n",
        "    pattern = r'([a-z])([A-Z])'\n",
        "    return re.sub(pattern, r'\\1 \\2', text)\n",
        "\n",
        "# Example input: \"HelloWorldThisIsAnExample\"\n",
        "joined_text = \"theDataCity\"\n",
        "split_text = split_joined_words(joined_text)\n",
        "\n",
        "print(split_text)  # Output: \"Hello World This Is An Example\"\n"
      ],
      "metadata": {
        "colab": {
          "base_uri": "https://localhost:8080/"
        },
        "id": "gj3GLOmQMiHb",
        "outputId": "280b1910-55f8-4c59-e359-e8b0181cd62b"
      },
      "execution_count": 42,
      "outputs": [
        {
          "output_type": "stream",
          "name": "stdout",
          "text": [
            "the Data City\n"
          ]
        }
      ]
    },
    {
      "cell_type": "markdown",
      "source": [
        "# Example 5"
      ],
      "metadata": {
        "id": "EAFp1IkPZr4e"
      }
    },
    {
      "cell_type": "markdown",
      "source": [
        "# Example 7"
      ],
      "metadata": {
        "id": "2I7KM54nZ6gX"
      }
    },
    {
      "cell_type": "code",
      "source": [
        "import requests\n",
        "\n",
        "# Fetch the content from the URL\n",
        "url = \"http://thedatacity.com\"\n",
        "response = requests.get(url)\n",
        "content = response.text\n",
        "\n",
        "# Process the content using spaCy\n",
        "doc = nlp(content)\n"
      ],
      "metadata": {
        "id": "t9lBDg6s3o1L"
      },
      "execution_count": null,
      "outputs": []
    },
    {
      "cell_type": "code",
      "source": [
        "# Extract named entities\n",
        "named_entities = []\n",
        "for ent in doc.ents:\n",
        "    named_entities.append((ent.text, ent.label_))"
      ],
      "metadata": {
        "id": "UbD0D_kd3o4l"
      },
      "execution_count": null,
      "outputs": []
    },
    {
      "cell_type": "code",
      "source": [
        "# Print the extracted named entities\n",
        "for text, label in named_entities:\n",
        "    print(f\"Text: {text}, Label: {label}\")"
      ],
      "metadata": {
        "colab": {
          "base_uri": "https://localhost:8080/"
        },
        "id": "b17vMTZF3o7R",
        "outputId": "cabdf18a-c2e3-4deb-dc29-02dc4b00b1df"
      },
      "execution_count": null,
      "outputs": [
        {
          "output_type": "stream",
          "name": "stdout",
          "text": [
            "Text: GB, Label: GPE\n",
            "Text: href=\"https://thedatacity.com, Label: ORG\n",
            "Text: max, Label: PERSON\n",
            "Text: Data City, Label: GPE\n",
            "Text: UK&#039;s, Label: NORP\n",
            "Text: sectors &amp, Label: ORG\n",
            "Text: equiv=\"X-UA-Compatible, Label: ORG\n",
            "Text: href=\"https://thedatacity.com, Label: ORG\n",
            "Text: href=\"https://thedatacity.com, Label: ORG\n",
            "Text: max, Label: PERSON\n",
            "Text: max-snippet:-1, Label: PERSON\n",
            "Text: max, Label: PERSON\n",
            "Text: dataLayer, Label: PERSON\n",
            "Text: UK, Label: GPE\n",
            "Text: cluster &amp, Label: ORG\n",
            "Text: 5, Label: CARDINAL\n",
            "Text: 350, Label: CARDINAL\n",
            "Text: Data City, Label: GPE\n",
            "Text: UK&#039;s, Label: NORP\n",
            "Text: sectors &, Label: ORG\n",
            "Text: UK, Label: GPE\n",
            "Text: cluster &amp, Label: ORG\n",
            "Text: 5, Label: CARDINAL\n",
            "Text: 350, Label: CARDINAL\n",
            "Text: Data City, Label: GPE\n",
            "Text: UK, Label: GPE\n",
            "Text: sectors & companies\",\"isPartOf\":{\"@id\":\"https://thedatacity.com/#website\"},\"datePublished\":\"2021-05-05T10:18:53, Label: ORG\n",
            "Text: UK, Label: GPE\n",
            "Text: cluster & company, Label: ORG\n",
            "Text: The Data City's, Label: GPE\n",
            "Text: 5, Label: CARDINAL\n",
            "Text: 350, Label: CARDINAL\n",
            "Text: hsq=_hsq||[];_hsq.push([\"setContentType\",\"standard-page\"]);</script, Label: PERSON\n",
            "Text: href=\"https://thedatacity.com, Label: ORG\n",
            "Text: 0 215 65.555, Label: CARDINAL\n",
            "Text: xlink=\"http://www.w3.org/1999, Label: ORG\n",
            "Text: fill=\"#fff, Label: PERSON\n",
            "Text: 11.147v46.392h2.33l-.017-19.947.789-.477V9.295zM6.293, Label: DATE\n",
            "Text: d=\"M0, Label: WORK_OF_ART\n",
            "Text: 7.513, Label: CARDINAL\n",
            "Text: 01-5.638, Label: DATE\n",
            "Text: 0-9.512-4.373-9.512-10.318s4.219-10.317, Label: CARDINAL\n",
            "Text: 9.512, Label: CARDINAL\n",
            "Text: 7.377, Label: CARDINAL\n",
            "Text: 015.638, Label: MONEY\n",
            "Text: 4.574, Label: CARDINAL\n",
            "Text: 0, Label: CARDINAL\n",
            "Text: 00-4.679-4.833, Label: DATE\n",
            "Text: 4.485, Label: CARDINAL\n",
            "Text: 0, Label: CARDINAL\n",
            "Text: 00-4.564, Label: CARDINAL\n",
            "Text: 2.953, Label: CARDINAL\n",
            "Text: 1.918, Label: CARDINAL\n",
            "Text: 4.909, Label: CARDINAL\n",
            "Text: 4.564, Label: CARDINAL\n",
            "Text: 4.909a4.617, Label: CARDINAL\n",
            "Text: 4.617, Label: CARDINAL\n",
            "Text: 0, Label: CARDINAL\n",
            "Text: 004.676, Label: CARDINAL\n",
            "Text: 47.719c0, Label: CARDINAL\n",
            "Text: 9.512, Label: CARDINAL\n",
            "Text: 7.377, Label: CARDINAL\n",
            "Text: 015.638 2.339v-1.8h6.137v19.561h-6.137v-1.8a7.513, Label: ORG\n",
            "Text: 7.513, Label: CARDINAL\n",
            "Text: 01-5.638, Label: DATE\n",
            "Text: 2.34c-5.293-.005-9.512-4.377-9.512, Label: CARDINAL\n",
            "Text: 4.574, Label: CARDINAL\n",
            "Text: 0, Label: CARDINAL\n",
            "Text: 00-4.679-4.833, Label: DATE\n",
            "Text: 4.485, Label: CARDINAL\n",
            "Text: 0, Label: CARDINAL\n",
            "Text: 00-4.565, Label: CARDINAL\n",
            "Text: 2.953, Label: CARDINAL\n",
            "Text: 1.918, Label: CARDINAL\n",
            "Text: 4.909, Label: CARDINAL\n",
            "Text: 4.565, Label: CARDINAL\n",
            "Text: 4.909a4.617, Label: CARDINAL\n",
            "Text: 4.617, Label: CARDINAL\n",
            "Text: 004.685, Label: CARDINAL\n",
            "Text: 56.848a12.3, Label: DATE\n",
            "Text: 12.3, Label: CARDINAL\n",
            "Text: 01-4.794.959c-4.756, Label: DATE\n",
            "Text: 1.807, Label: CARDINAL\n",
            "Text: 0, Label: CARDINAL\n",
            "Text: 002.033, Label: CARDINAL\n",
            "Text: 2.033, Label: CARDINAL\n",
            "Text: 4.142, Label: CARDINAL\n",
            "Text: 4.142, Label: CARDINAL\n",
            "Text: 0, Label: CARDINAL\n",
            "Text: 9.512, Label: CARDINAL\n",
            "Text: 7.377, Label: CARDINAL\n",
            "Text: 015.638 2.339v-1.8h6.137v19.561h-6.137v-1.8a7.513, Label: ORG\n",
            "Text: 7.513, Label: CARDINAL\n",
            "Text: 01-5.638, Label: DATE\n",
            "Text: 2.34c-5.293-.005-9.512-4.377-9.512, Label: CARDINAL\n",
            "Text: 4.574, Label: CARDINAL\n",
            "Text: 0, Label: CARDINAL\n",
            "Text: 00-4.679-4.833, Label: DATE\n",
            "Text: 4.485, Label: CARDINAL\n",
            "Text: 0, Label: CARDINAL\n",
            "Text: 00-4.564, Label: CARDINAL\n",
            "Text: 2.953, Label: CARDINAL\n",
            "Text: 1.918, Label: CARDINAL\n",
            "Text: 4.909, Label: CARDINAL\n",
            "Text: 4.564, Label: CARDINAL\n",
            "Text: 4.909a4.617, Label: CARDINAL\n",
            "Text: 4.617, Label: CARDINAL\n",
            "Text: 0, Label: CARDINAL\n",
            "Text: 004.683-4.909zM147.571, Label: CARDINAL\n",
            "Text: 0110.394-10.317c5.6, Label: CARDINAL\n",
            "Text: 9.052, Label: CARDINAL\n",
            "Text: 3.567, Label: CARDINAL\n",
            "Text: 1.611a4.079, Label: CARDINAL\n",
            "Text: 4.079, Label: CARDINAL\n",
            "Text: 0, Label: CARDINAL\n",
            "Text: 00-4.066-2.838c-2.723, Label: TIME\n",
            "Text: 0, Label: CARDINAL\n",
            "Text: 2.225, Label: CARDINAL\n",
            "Text: 4.871, Label: CARDINAL\n",
            "Text: 0, Label: CARDINAL\n",
            "Text: 2.608, Label: CARDINAL\n",
            "Text: 1.726, Label: CARDINAL\n",
            "Text: 4.947, Label: CARDINAL\n",
            "Text: 4.449, Label: CARDINAL\n",
            "Text: 4.947a4.024, Label: CARDINAL\n",
            "Text: 4.024, Label: MONEY\n",
            "Text: 004.066, Label: CARDINAL\n",
            "Text: 3.068, Label: CARDINAL\n",
            "Text: 4.181, Label: CARDINAL\n",
            "Text: 6.559, Label: CARDINAL\n",
            "Text: 6.559a10.122, Label: CARDINAL\n",
            "Text: 10.122, Label: CARDINAL\n",
            "Text: 01, Label: CARDINAL\n",
            "Text: 32.186a3.529, Label: CARDINAL\n",
            "Text: 3.529, Label: CARDINAL\n",
            "Text: 0, Label: CARDINAL\n",
            "Text: 113.529, Label: CARDINAL\n",
            "Text: 3.49, Label: CARDINAL\n",
            "Text: 3.472, Label: CARDINAL\n",
            "Text: 3.472, Label: CARDINAL\n",
            "Text: 01-3.529, Label: DATE\n",
            "Text: 56.848a12.3, Label: GPE\n",
            "Text: 12.3, Label: CARDINAL\n",
            "Text: 01-4.794.959c-4.756, Label: DATE\n",
            "Text: 1.807, Label: CARDINAL\n",
            "Text: 0, Label: CARDINAL\n",
            "Text: 002.033, Label: CARDINAL\n",
            "Text: 2.033, Label: CARDINAL\n",
            "Text: 4.142, Label: CARDINAL\n",
            "Text: 4.142, Label: CARDINAL\n",
            "Text: 27.616h-6.252l3.49-8.515.268-.039-.268.039-8.783, Label: CARDINAL\n",
            "Text: aria-label=\"Toggle Menu, Label: ORG\n",
            "Text: aria, Label: GPE\n",
            "Text: max-mega-menu, Label: PERSON\n",
            "Text: 0, Label: CARDINAL\n",
            "Text: VC & INVESTMENT</a></li><li, Label: ORG\n",
            "Text: COMPANIES</a></li></ul></li><li class=\"mega-menu, Label: PRODUCT\n",
            "Text: 2em;display, Label: CARDINAL\n",
            "Text: 3px;\">»</span></a></li></ul></li></ul></li></ul></li><li, Label: CARDINAL\n",
            "Text: verticals.</p></div></li></ul></li></ul></li><li class=\"mega-menu-row, Label: PERSON\n",
            "Text: Intelligence</a></li><li, Label: ORG\n",
            "Text: Economy</a></li></ul></li><li, Label: ORG\n",
            "Text: Zero</a></li><li class=\"mega-menu, Label: PERSON\n",
            "Text: Economy</a></li></ul></li></ul></li><li class=\"mega-menu-row, Label: PERSON\n",
            "Text: 2em;display, Label: CARDINAL\n",
            "Text: 3px;\">»</span></a></li></ul></li></ul></li></ul></li><li, Label: CARDINAL\n",
            "Text: href=\"https://thedatacity.com, Label: ORG\n",
            "Text: In</a></li><li, Label: ORG\n",
            "Text: item-44, Label: DATE\n",
            "Text: href=\"https://thedatacity.com, Label: ORG\n",
            "Text: href=\"https://thedatacity.com, Label: ORG\n",
            "Text: Release Notes</a></span><span, Label: PRODUCT\n",
            "Text: href=\"https://thedatacity.com, Label: ORG\n",
            "Text: href=\"https://thedatacity.com, Label: ORG\n",
            "Text: href=\"https://thedatacity.com, Label: ORG\n",
            "Text: href=\"https://thedatacity.com, Label: ORG\n",
            "Text: Top Artificial Intelligence, Label: ORG\n",
            "Text: href=\"https://thedatacity.com, Label: ORG\n",
            "Text: 038, Label: MONEY\n",
            "Text: The Data City for Local, Label: ORG\n",
            "Text: href=\"https://thedatacity.com, Label: ORG\n",
            "Text: href=\"https://thedatacity.com, Label: ORG\n",
            "Text: href=\"https://thedatacity.com, Label: ORG\n",
            "Text: Green Jobs, Label: PERSON\n",
            "Text: Skills, Label: ORG\n",
            "Text: href=\"https://thedatacity.com, Label: ORG\n",
            "Text: href=\"https://thedatacity.com, Label: ORG\n",
            "Text: aria-label=\"Next, Label: PERSON\n",
            "Text: 0.14879807692307692,0.2118756936736959, Label: PRODUCT\n",
            "Text: 0.303125,0.7012208657047724 0.2870192307692308,0.6925638179800222 0.056249999999999994,0.7482796892341843, Label: TIME\n",
            "Text: 0.8611778846153846,0.8214206437291898, Label: CARDINAL\n",
            "Text: 0.2782451923076923,0.9493895671476137, Label: CARDINAL\n",
            "Text: 1,0.8341842397336293z, Label: CARDINAL\n",
            "Text: UK&#8217;s, Label: NORP\n",
            "Text: 038, Label: MONEY\n",
            "Text: companies.</h1></header><div class=\"hero__description-cta\"><div, Label: LAW\n",
            "Text: UK, Label: GPE\n",
            "Text: over 5 million, Label: CARDINAL\n",
            "Text: 350, Label: CARDINAL\n",
            "Text: classifications.</p></div><div, Label: GPE\n",
            "Text: 776a72, Label: MONEY\n",
            "Text: https://thedatacity-images.azureedge.net/uploads/2021/06/homepage_hero-300x300.jpg 300w, Label: PERSON\n",
            "Text: 100w, Label: ORG\n",
            "Text: 600w, Label: PRODUCT\n",
            "Text: https://thedatacity-images.azureedge.net/uploads/2021/06/homepage_hero-1024x1024.jpg 1024w, Label: DATE\n",
            "Text: https://thedatacity-images.azureedge.net/uploads/2021/06/homepage_hero-150x150.jpg, Label: ORG\n",
            "Text: 150w, Label: PRODUCT\n",
            "Text: 768w, Label: PRODUCT\n",
            "Text: https://thedatacity-images.azureedge.net/uploads/2021/06/homepage_hero-640x640.jpg 640w, Label: ORG\n",
            "Text: https://thedatacity-images.azureedge.net/uploads/2021/06/homepage_hero-430x430.jpg, Label: ORG\n",
            "Text: 430w, Label: PRODUCT\n",
            "Text: 60w, Label: CARDINAL\n",
            "Text: 215w, Label: PRODUCT\n",
            "Text: 140w, Label: CARDINAL\n",
            "Text: https://thedatacity-images.azureedge.net/uploads/2021/06/homepage_hero-300x300.jpg 300w, Label: PERSON\n",
            "Text: 100w, Label: ORG\n",
            "Text: 600w, Label: PRODUCT\n",
            "Text: https://thedatacity-images.azureedge.net/uploads/2021/06/homepage_hero-1024x1024.jpg 1024w, Label: DATE\n",
            "Text: https://thedatacity-images.azureedge.net/uploads/2021/06/homepage_hero-150x150.jpg, Label: ORG\n",
            "Text: 150w, Label: PRODUCT\n",
            "Text: 768w, Label: PRODUCT\n",
            "Text: https://thedatacity-images.azureedge.net/uploads/2021/06/homepage_hero-640x640.jpg 640w, Label: ORG\n",
            "Text: https://thedatacity-images.azureedge.net/uploads/2021/06/homepage_hero-430x430.jpg, Label: ORG\n",
            "Text: 430w, Label: PRODUCT\n",
            "Text: 60w, Label: CARDINAL\n",
            "Text: 215w, Label: PRODUCT\n",
            "Text: 140w, Label: CARDINAL\n",
            "Text: 50vw, Label: ORDINAL\n",
            "Text: 776a72, Label: MONEY\n",
            "Text: 500w, Label: PRODUCT\n",
            "Text: 300w, Label: PRODUCT\n",
            "Text: 430w, Label: PRODUCT\n",
            "Text: 219w, Label: PRODUCT\n",
            "Text: 500w, Label: PRODUCT\n",
            "Text: 300w, Label: PRODUCT\n",
            "Text: 430w, Label: PRODUCT\n",
            "Text: 219w, Label: PRODUCT\n",
            "Text: height=\"225, Label: WORK_OF_ART\n",
            "Text: 600w, Label: PRODUCT\n",
            "Text: 300w, Label: MONEY\n",
            "Text: 430w, Label: PRODUCT\n",
            "Text: 160w, Label: CARDINAL\n",
            "Text: 600w, Label: PRODUCT\n",
            "Text: 300w, Label: MONEY\n",
            "Text: 430w, Label: PRODUCT\n",
            "Text: 160w, Label: CARDINAL\n",
            "Text: 600px, Label: ORG\n",
            "Text: 300w, Label: PRODUCT\n",
            "Text: 173w, Label: PRODUCT\n",
            "Text: 300w, Label: PRODUCT\n",
            "Text: 173w, Label: PRODUCT\n",
            "Text: 400px, Label: CARDINAL\n",
            "Text: 485w, Label: PRODUCT\n",
            "Text: 300w, Label: PRODUCT\n",
            "Text: 430w, Label: PRODUCT\n",
            "Text: 97w, Label: CARDINAL\n",
            "Text: 485w, Label: PRODUCT\n",
            "Text: 300w, Label: PRODUCT\n",
            "Text: 430w, Label: PRODUCT\n",
            "Text: 97w, Label: DATE\n",
            "Text: 485px, Label: GPE\n",
            "Text: 100vw, Label: GPE\n",
            "Text: 485px, Label: GPE\n",
            "Text: 300w, Label: PRODUCT\n",
            "Text: 768w, Label: NORP\n",
            "Text: 640w, Label: CARDINAL\n",
            "Text: 430w, Label: PRODUCT\n",
            "Text: 194w, Label: PRODUCT\n",
            "Text: 600w, Label: PRODUCT\n",
            "Text: 300w, Label: PRODUCT\n",
            "Text: 768w, Label: NORP\n",
            "Text: 640w, Label: CARDINAL\n",
            "Text: 430w, Label: PRODUCT\n",
            "Text: 194w, Label: PRODUCT\n",
            "Text: 600w, Label: PRODUCT\n",
            "Text: 1024px, Label: ORDINAL\n",
            "Text: 100vw, Label: GPE\n",
            "Text: 1024px, Label: ORG\n",
            "Text: 407w, Label: PRODUCT\n",
            "Text: 300w, Label: PRODUCT\n",
            "Text: 138w, Label: CARDINAL\n",
            "Text: 407w, Label: PRODUCT\n",
            "Text: 300w, Label: PRODUCT\n",
            "Text: 138w, Label: CARDINAL\n",
            "Text: 407px, Label: ORDINAL\n",
            "Text: 100vw, Label: GPE\n",
            "Text: 407px, Label: ORDINAL\n",
            "Text: SIC, Label: ORG\n",
            "Text: economy</h2></header><div, Label: PRODUCT\n",
            "Text: Buy Real Time Industrial Classifications, Label: PERSON\n",
            "Text: one, Label: CARDINAL\n",
            "Text: href=\"https://thedatacity.com, Label: ORG\n",
            "Text: height=\"550, Label: WORK_OF_ART\n",
            "Text: 640w, Label: PRODUCT\n",
            "Text: 300w, Label: PRODUCT\n",
            "Text: 430w, Label: PRODUCT\n",
            "Text: 70w, Label: DATE\n",
            "Text: height=\"550, Label: WORK_OF_ART\n",
            "Text: 640w, Label: PRODUCT\n",
            "Text: 300w, Label: PRODUCT\n",
            "Text: 430w, Label: PRODUCT\n",
            "Text: 70w, Label: CARDINAL\n",
            "Text: 640px, Label: ORG\n",
            "Text: href=\"https://thedatacity.com, Label: ORG\n",
            "Text: UK, Label: GPE\n",
            "Text: over 350, Label: CARDINAL\n",
            "Text: AgriTech, Label: ORG\n",
            "Text: href=\"https://thedatacity.com, Label: ORG\n",
            "Text: height=\"550, Label: WORK_OF_ART\n",
            "Text: 5e5f5d, Label: MONEY\n",
            "Text: 640w, Label: PRODUCT\n",
            "Text: 600w, Label: PRODUCT\n",
            "Text: 300w, Label: PRODUCT\n",
            "Text: 430w, Label: PRODUCT\n",
            "Text: 70w, Label: DATE\n",
            "Text: height=\"550, Label: WORK_OF_ART\n",
            "Text: 640w, Label: PRODUCT\n",
            "Text: 600w, Label: PRODUCT\n",
            "Text: 300w, Label: PRODUCT\n",
            "Text: 430w, Label: PRODUCT\n",
            "Text: 70w, Label: DATE\n",
            "Text: 640px, Label: ORG\n",
            "Text: 5e5f5d, Label: MONEY\n",
            "Text: href=\"https://thedatacity.com, Label: ORG\n",
            "Text: #038, Label: CARDINAL\n",
            "Text: over 5 million, Label: CARDINAL\n",
            "Text: href=\"https://thedatacity.com, Label: ORG\n",
            "Text: height=\"550, Label: WORK_OF_ART\n",
            "Text: Data-jpg.webp, Label: ORG\n",
            "Text: Data-jpg.webp, Label: ORG\n",
            "Text: 640w, Label: CARDINAL\n",
            "Text: 600w, Label: PRODUCT\n",
            "Text: 300w, Label: PRODUCT\n",
            "Text: 430w, Label: PRODUCT\n",
            "Text: https://thedatacity-images.azureedge.net/uploads/2021/06/Data-70x60.jpg 70w, Label: DATE\n",
            "Text: height=\"550, Label: WORK_OF_ART\n",
            "Text: Data-jpg.webp, Label: ORG\n",
            "Text: Data-jpg.webp, Label: ORG\n",
            "Text: 640w, Label: CARDINAL\n",
            "Text: 600w, Label: PRODUCT\n",
            "Text: 300w, Label: PRODUCT\n",
            "Text: 430w, Label: PRODUCT\n",
            "Text: https://thedatacity-images.azureedge.net/uploads/2021/06/Data-70x60.jpg 70w, Label: DATE\n",
            "Text: 640px, Label: ORG\n",
            "Text: href=\"https://thedatacity.com, Label: ORG\n",
            "Text: The Data City, Label: GPE\n",
            "Text: png;base64,iVBORw0KGgoAAAANSUhEUgAAAXEAAADMAQMAAAC/agH4AAAABlBMVEUAAAD///+l2Z/dAAAAAXRSTlMAQObYZgAAAAlwSFlzAAAOxAAADsQBlSsOGwAAAB9JREFUaN7twQEBAAAAgiD/r25IQAEAAAAAAAAAAPBoJkAAAVAAehgAAAAASUVORK5CYII=, Label: ORG\n",
            "Text: alt=, Label: WORK_OF_ART\n",
            "Text: /></noscript></div><div class=\"f1, Label: PRODUCT\n",
            "Text: class=\"f3, Label: ORG\n",
            "Text: png;base64,iVBORw0KGgoAAAANSUhEUgAAAXEAAADMAQMAAAC/agH4AAAABlBMVEUAAAD///+l2Z/dAAAAAXRSTlMAQObYZgAAAAlwSFlzAAAOxAAADsQBlSsOGwAAAB9JREFUaN7twQEBAAAAgiD/r25IQAEAAAAAAAAAAPBoJkAAAVAAehgAAAAASUVORK5CYII=, Label: ORG\n",
            "Text: alt=, Label: WORK_OF_ART\n",
            "Text: /></noscript></div><div class=\"f1, Label: PRODUCT\n",
            "Text: class=\"f3, Label: ORG\n",
            "Text: png;base64,iVBORw0KGgoAAAANSUhEUgAAAXEAAADMAQMAAAC/agH4AAAABlBMVEUAAAD///+l2Z/dAAAAAXRSTlMAQObYZgAAAAlwSFlzAAAOxAAADsQBlSsOGwAAAB9JREFUaN7twQEBAAAAgiD/r25IQAEAAAAAAAAAAPBoJkAAAVAAehgAAAAASUVORK5CYII=, Label: ORG\n",
            "Text: alt=, Label: WORK_OF_ART\n",
            "Text: /></noscript></div><div class=\"f1, Label: PRODUCT\n",
            "Text: class=\"f3, Label: ORG\n",
            "Text: 2560w, Label: DATE\n",
            "Text: 300w, Label: PRODUCT\n",
            "Text: 768w, Label: PRODUCT\n",
            "Text: 1536w, Label: DATE\n",
            "Text: https://thedatacity-images.azureedge.net/uploads/2023/01/the-data-city-jma-photography-16-1280x855.webp 1280w, Label: DATE\n",
            "Text: 640w, Label: PRODUCT\n",
            "Text: 430w, Label: PRODUCT\n",
            "Text: 90w, Label: DATE\n",
            "Text: 600w, Label: PRODUCT\n",
            "Text: 2560w, Label: DATE\n",
            "Text: 300w, Label: PRODUCT\n",
            "Text: 768w, Label: PRODUCT\n",
            "Text: 1536w, Label: DATE\n",
            "Text: https://thedatacity-images.azureedge.net/uploads/2023/01/the-data-city-jma-photography-16-1280x855.webp 1280w, Label: DATE\n",
            "Text: 640w, Label: PRODUCT\n",
            "Text: 430w, Label: PRODUCT\n",
            "Text: 90w, Label: DATE\n",
            "Text: 600w, Label: PRODUCT\n",
            "Text: 100vw, Label: GPE\n",
            "Text: weekly, Label: DATE\n",
            "Text: Wednesday, Label: DATE\n",
            "Text: morning, Label: TIME\n",
            "Text: weekly, Label: DATE\n",
            "Text: Whitehall, Label: ORG\n",
            "Text: Whitehaven</h2></header><div, Label: ORG\n",
            "Text: Central and Local Government, Label: ORG\n",
            "Text: Catapults, Private Equity, Label: ORG\n",
            "Text: Non-Governmental Organisations and Academics, Label: ORG\n",
            "Text: href=\"https://thedatacity.com, Label: ORG\n",
            "Text: city</span, Label: GPE\n",
            "Text: Latest news &, Label: ORG\n",
            "Text: #038, Label: CARDINAL\n",
            "Text: Data City, Label: GPE\n",
            "Text: aria-label=\"SIC, Label: ORG\n",
            "Text: height=\"255, Label: PERSON\n",
            "Text: height=\"255, Label: PERSON\n",
            "Text: href=\"https://thedatacity.com, Label: ORG\n",
            "Text: Latest Insight &, Label: ORG\n",
            "Text: aria-label=\"Next, Label: PERSON\n",
            "Text: Opening: Business Development Executive, Label: ORG\n",
            "Text: height=\"255, Label: PERSON\n",
            "Text: 488w, Label: PRODUCT\n",
            "Text: height=\"255, Label: PERSON\n",
            "Text: 488w, Label: PRODUCT\n",
            "Text: 533px, Label: CARDINAL\n",
            "Text: 100vw, Label: ORG\n",
            "Text: 533px, Label: LAW\n",
            "Text: href=\"https://thedatacity.com, Label: ORG\n",
            "Text: Role Opening: Business Development Executive </a></h3></article><article, Label: WORK_OF_ART\n",
            "Text: Explorer Release Notes, Label: PRODUCT\n",
            "Text: height=\"255, Label: PERSON\n",
            "Text: Data Explorer, Label: ORG\n",
            "Text: 533w, Label: PRODUCT\n",
            "Text: 488w, Label: PRODUCT\n",
            "Text: height=\"255, Label: PERSON\n",
            "Text: Data Explorer, Label: ORG\n",
            "Text: 533w, Label: PRODUCT\n",
            "Text: 488w, Label: PRODUCT\n",
            "Text: 533px, Label: CARDINAL\n",
            "Text: 100vw, Label: ORG\n",
            "Text: 533px, Label: LAW\n",
            "Text: href=\"https://thedatacity.com, Label: ORG\n",
            "Text: Innovation Communities, Label: ORG\n",
            "Text: height=\"255, Label: PERSON\n",
            "Text: height=\"255, Label: PERSON\n",
            "Text: Life Sciences</div><h3, Label: PERSON\n",
            "Text: href=\"https://thedatacity.com, Label: ORG\n",
            "Text: Uncovering Life Sciences&#8217, Label: WORK_OF_ART\n",
            "Text: Innovation Communities </a></h3></article><article, Label: ORG\n",
            "Text: height=\"255, Label: PERSON\n",
            "Text: Earth, Label: LOC\n",
            "Text: height=\"255, Label: PERSON\n",
            "Text: Earth, Label: LOC\n",
            "Text: Economy</div><h3, Label: ORG\n",
            "Text: href=\"https://thedatacity.com, Label: ORG\n",
            "Text: Reviewing the Space, Label: WORK_OF_ART\n",
            "Text: Innovation and Empowering Teams, Label: ORG\n",
            "Text: height=\"255, Label: PERSON\n",
            "Text: Data City, Label: GPE\n",
            "Text: height=\"255, Label: PERSON\n",
            "Text: Data City, Label: GPE\n",
            "Text: href=\"https://thedatacity.com, Label: ORG\n",
            "Text: UK, Label: GPE\n",
            "Text: Top Artificial Intelligence, Label: ORG\n",
            "Text: height=\"255, Label: PERSON\n",
            "Text: Top-AI-Hotspots, Label: ORG\n",
            "Text: height=\"255, Label: PERSON\n",
            "Text: Top-AI-Hotspots, Label: ORG\n",
            "Text: Insight</div><h3, Label: ORG\n",
            "Text: href=\"https://thedatacity.com, Label: ORG\n",
            "Text: UK, Label: GPE\n",
            "Text: Top Artificial Intelligence, Label: ORG\n",
            "Text: Dealroom &#038, Label: ORG\n",
            "Text: The Data City for Local Government, Label: ORG\n",
            "Text: height=\"255, Label: PERSON\n",
            "Text: height=\"255, Label: PERSON\n",
            "Text: href=\"https://thedatacity.com, Label: ORG\n",
            "Text: Introducing Dealroom &, Label: ORG\n",
            "Text: 038, Label: MONEY\n",
            "Text: The Data City for Local Government, Label: ORG\n",
            "Text: height=\"255, Label: PERSON\n",
            "Text: height=\"255, Label: PERSON\n",
            "Text: href=\"https://thedatacity.com, Label: ORG\n",
            "Text: Child Left Behind Charity Event, Label: WORK_OF_ART\n",
            "Text: height=\"255, Label: PERSON\n",
            "Text: FuO, Label: GPE\n",
            "Text: height=\"255, Label: PERSON\n",
            "Text: FuO, Label: GPE\n",
            "Text: href=\"https://thedatacity.com, Label: ORG\n",
            "Text: Green Jobs, Label: PERSON\n",
            "Text: Skills, Label: ORG\n",
            "Text: height=\"255, Label: PERSON\n",
            "Text: morning, Label: TIME\n",
            "Text: Colley Hill Reigate, Label: ORG\n",
            "Text: England, Label: GPE\n",
            "Text: height=\"255, Label: PERSON\n",
            "Text: morning, Label: TIME\n",
            "Text: Colley Hill Reigate, Label: ORG\n",
            "Text: England, Label: GPE\n",
            "Text: href=\"https://thedatacity.com, Label: ORG\n",
            "Text: Skills, Label: ORG\n",
            "Text: height=\"255, Label: PERSON\n",
            "Text: 43636e, Label: MONEY\n",
            "Text: height=\"255, Label: PERSON\n",
            "Text: 43636e, Label: MONEY\n",
            "Text: Economy</div><h3, Label: ORG\n",
            "Text: href=\"https://thedatacity.com, Label: ORG\n",
            "Text: Developing a Taxonomy for the Space Sector </a></h3></article><article, Label: WORK_OF_ART\n",
            "Text: the Investment Potential of Midlands Clusters, Label: ORG\n",
            "Text: Midlands Engine, Label: PERSON\n",
            "Text: height=\"255, Label: PERSON\n",
            "Text: Engine, Label: ORG\n",
            "Text: Blog Banner, Label: PERSON\n",
            "Text: Midlands-Engine-Report-Blog-Banner-533x255.webp, Label: ORG\n",
            "Text: height=\"255, Label: PERSON\n",
            "Text: Midlands-Engine-Report-Blog-Banner-533x255.webp, Label: ORG\n",
            "Text: Engine, Label: ORG\n",
            "Text: Blog Banner, Label: PERSON\n",
            "Text: href=\"https://thedatacity.com, Label: ORG\n",
            "Text: the Investment Potential of Midlands Clusters, Label: ORG\n",
            "Text: Midlands Engine, Label: PERSON\n",
            "Text: aria-label=\"Next, Label: PERSON\n",
            "Text: item\"></button></nav><div class=\"testimonial__items\"><div class=\"testimonial__item grid, Label: ORG\n",
            "Text: Greater Manchester, Label: PERSON\n",
            "Text: Andy Burnham</span, Label: PERSON\n",
            "Text: Stian Westlake</span, Label: PERSON\n",
            "Text: Royal Statistical, Label: ORG\n",
            "Text: the Data City, Label: FAC\n",
            "Text: James Lewis</span, Label: PERSON\n",
            "Text: the Data Explorer, Label: ORG\n",
            "Text: Christopher Steven</span, Label: PERSON\n",
            "Text: height=\"255, Label: PERSON\n",
            "Text: height=\"255, Label: PERSON\n",
            "Text: height=\"255, Label: PERSON\n",
            "Text: height=\"255, Label: PERSON\n",
            "Text: height=\"255, Label: PERSON\n",
            "Text: 533x255.jpg, Label: CARDINAL\n",
            "Text: https://thedatacity-images.azureedge.net/uploads/2021/06/the-data-city-jma-photography-2-488x233.jpg, Label: ORG\n",
            "Text: 488w, Label: PRODUCT\n",
            "Text: height=\"255, Label: PERSON\n",
            "Text: 533x255.jpg, Label: CARDINAL\n",
            "Text: https://thedatacity-images.azureedge.net/uploads/2021/06/the-data-city-jma-photography-2-488x233.jpg, Label: ORG\n",
            "Text: 488w, Label: PRODUCT\n",
            "Text: 533px, Label: CARDINAL\n",
            "Text: 100vw, Label: ORG\n",
            "Text: 533px, Label: LAW\n",
            "Text: height=\"255, Label: PERSON\n",
            "Text: 488w, Label: PRODUCT\n",
            "Text: height=\"255, Label: PERSON\n",
            "Text: 488w, Label: PRODUCT\n",
            "Text: 533px, Label: CARDINAL\n",
            "Text: 100vw, Label: ORG\n",
            "Text: 533px, Label: LAW\n",
            "Text: height=\"255, Label: PERSON\n",
            "Text: height=\"255, Label: PERSON\n",
            "Text: height=\"255, Label: PERSON\n",
            "Text: 488w, Label: PRODUCT\n",
            "Text: height=\"255, Label: PERSON\n",
            "Text: 488w, Label: PRODUCT\n",
            "Text: 533px, Label: CARDINAL\n",
            "Text: 100vw, Label: ORG\n",
            "Text: 533px, Label: LAW\n",
            "Text: height=\"255, Label: PERSON\n",
            "Text: 488w, Label: PRODUCT\n",
            "Text: height=\"255, Label: PERSON\n",
            "Text: 488w, Label: PRODUCT\n",
            "Text: 533px, Label: CARDINAL\n",
            "Text: 100vw, Label: ORG\n",
            "Text: 533px, Label: LAW\n",
            "Text: height=\"255, Label: PERSON\n",
            "Text: height=\"255, Label: PERSON\n",
            "Text: height=\"255, Label: PERSON\n",
            "Text: height=\"255, Label: PERSON\n",
            "Text: height=\"255, Label: PERSON\n",
            "Text: 533x255.jpg, Label: CARDINAL\n",
            "Text: https://thedatacity-images.azureedge.net/uploads/2021/06/the-data-city-jma-photography-2-488x233.jpg, Label: ORG\n",
            "Text: 488w, Label: PRODUCT\n",
            "Text: height=\"255, Label: PERSON\n",
            "Text: 533x255.jpg, Label: CARDINAL\n",
            "Text: https://thedatacity-images.azureedge.net/uploads/2021/06/the-data-city-jma-photography-2-488x233.jpg, Label: ORG\n",
            "Text: 488w, Label: PRODUCT\n",
            "Text: 533px, Label: CARDINAL\n",
            "Text: 100vw, Label: ORG\n",
            "Text: 533px, Label: LAW\n",
            "Text: height=\"255, Label: PERSON\n",
            "Text: height=\"255, Label: PERSON\n",
            "Text: 533px, Label: CARDINAL\n",
            "Text: 100vw, Label: ORG\n",
            "Text: 533px, Label: LAW\n",
            "Text: height=\"255, Label: PERSON\n",
            "Text: height=\"255, Label: PERSON\n",
            "Text: height=\"255, Label: PERSON\n",
            "Text: 488w, Label: PRODUCT\n",
            "Text: height=\"255, Label: PERSON\n",
            "Text: 488w, Label: PRODUCT\n",
            "Text: 533px, Label: CARDINAL\n",
            "Text: 100vw, Label: ORG\n",
            "Text: 533px, Label: LAW\n",
            "Text: height=\"255, Label: PERSON\n",
            "Text: 488w, Label: PRODUCT\n",
            "Text: height=\"255, Label: PERSON\n",
            "Text: 488w, Label: PRODUCT\n",
            "Text: 533px, Label: CARDINAL\n",
            "Text: 100vw, Label: ORG\n",
            "Text: 533px, Label: LAW\n",
            "Text: 0 215 65.555, Label: CARDINAL\n",
            "Text: xlink=\"http://www.w3.org/1999, Label: ORG\n",
            "Text: fill=\"#fff, Label: PERSON\n",
            "Text: 11.147v46.392h2.33l-.017-19.947.789-.477V9.295zM6.293, Label: DATE\n",
            "Text: d=\"M0, Label: WORK_OF_ART\n",
            "Text: 7.513, Label: CARDINAL\n",
            "Text: 01-5.638, Label: DATE\n",
            "Text: 0-9.512-4.373-9.512-10.318s4.219-10.317, Label: CARDINAL\n",
            "Text: 9.512, Label: CARDINAL\n",
            "Text: 7.377, Label: CARDINAL\n",
            "Text: 015.638, Label: MONEY\n",
            "Text: 4.574, Label: CARDINAL\n",
            "Text: 0, Label: CARDINAL\n",
            "Text: 00-4.679-4.833, Label: DATE\n",
            "Text: 4.485, Label: CARDINAL\n",
            "Text: 0, Label: CARDINAL\n",
            "Text: 00-4.564, Label: CARDINAL\n",
            "Text: 2.953, Label: CARDINAL\n",
            "Text: 1.918, Label: CARDINAL\n",
            "Text: 4.909, Label: CARDINAL\n",
            "Text: 4.564, Label: CARDINAL\n",
            "Text: 4.909a4.617, Label: CARDINAL\n",
            "Text: 4.617, Label: CARDINAL\n",
            "Text: 0, Label: CARDINAL\n",
            "Text: 004.676, Label: CARDINAL\n",
            "Text: 47.719c0, Label: CARDINAL\n",
            "Text: 9.512, Label: CARDINAL\n",
            "Text: 7.377, Label: CARDINAL\n",
            "Text: 015.638 2.339v-1.8h6.137v19.561h-6.137v-1.8a7.513, Label: ORG\n",
            "Text: 7.513, Label: CARDINAL\n",
            "Text: 01-5.638, Label: DATE\n",
            "Text: 2.34c-5.293-.005-9.512-4.377-9.512, Label: CARDINAL\n",
            "Text: 4.574, Label: CARDINAL\n",
            "Text: 0, Label: CARDINAL\n",
            "Text: 00-4.679-4.833, Label: DATE\n",
            "Text: 4.485, Label: CARDINAL\n",
            "Text: 0, Label: CARDINAL\n",
            "Text: 00-4.565, Label: CARDINAL\n",
            "Text: 2.953, Label: CARDINAL\n",
            "Text: 1.918, Label: CARDINAL\n",
            "Text: 4.909, Label: CARDINAL\n",
            "Text: 4.565, Label: CARDINAL\n",
            "Text: 4.909a4.617, Label: CARDINAL\n",
            "Text: 4.617, Label: CARDINAL\n",
            "Text: 004.685, Label: CARDINAL\n",
            "Text: 56.848a12.3, Label: DATE\n",
            "Text: 12.3, Label: CARDINAL\n",
            "Text: 01-4.794.959c-4.756, Label: DATE\n",
            "Text: 1.807, Label: CARDINAL\n",
            "Text: 0, Label: CARDINAL\n",
            "Text: 002.033, Label: CARDINAL\n",
            "Text: 2.033, Label: CARDINAL\n",
            "Text: 4.142, Label: CARDINAL\n",
            "Text: 4.142, Label: CARDINAL\n",
            "Text: 0, Label: CARDINAL\n",
            "Text: 9.512, Label: CARDINAL\n",
            "Text: 7.377, Label: CARDINAL\n",
            "Text: 015.638 2.339v-1.8h6.137v19.561h-6.137v-1.8a7.513, Label: ORG\n",
            "Text: 7.513, Label: CARDINAL\n",
            "Text: 01-5.638, Label: DATE\n",
            "Text: 2.34c-5.293-.005-9.512-4.377-9.512, Label: CARDINAL\n",
            "Text: 4.574, Label: CARDINAL\n",
            "Text: 0, Label: CARDINAL\n",
            "Text: 00-4.679-4.833, Label: DATE\n",
            "Text: 4.485, Label: CARDINAL\n",
            "Text: 0, Label: CARDINAL\n",
            "Text: 00-4.564, Label: CARDINAL\n",
            "Text: 2.953, Label: CARDINAL\n",
            "Text: 1.918, Label: CARDINAL\n",
            "Text: 4.909, Label: CARDINAL\n",
            "Text: 4.564, Label: CARDINAL\n",
            "Text: 4.909a4.617, Label: CARDINAL\n",
            "Text: 4.617, Label: CARDINAL\n",
            "Text: 0, Label: CARDINAL\n",
            "Text: 004.683-4.909zM147.571, Label: CARDINAL\n",
            "Text: 0110.394-10.317c5.6, Label: CARDINAL\n",
            "Text: 9.052, Label: CARDINAL\n",
            "Text: 3.567, Label: CARDINAL\n",
            "Text: 1.611a4.079, Label: CARDINAL\n",
            "Text: 4.079, Label: CARDINAL\n",
            "Text: 0, Label: CARDINAL\n",
            "Text: 00-4.066-2.838c-2.723, Label: TIME\n",
            "Text: 0, Label: CARDINAL\n",
            "Text: 2.225, Label: CARDINAL\n",
            "Text: 4.871, Label: CARDINAL\n",
            "Text: 0, Label: CARDINAL\n",
            "Text: 2.608, Label: CARDINAL\n",
            "Text: 1.726, Label: CARDINAL\n",
            "Text: 4.947, Label: CARDINAL\n",
            "Text: 4.449, Label: CARDINAL\n",
            "Text: 4.947a4.024, Label: CARDINAL\n",
            "Text: 4.024, Label: MONEY\n",
            "Text: 004.066, Label: CARDINAL\n",
            "Text: 3.068, Label: CARDINAL\n",
            "Text: 4.181, Label: CARDINAL\n",
            "Text: 6.559, Label: CARDINAL\n",
            "Text: 6.559a10.122, Label: CARDINAL\n",
            "Text: 10.122, Label: CARDINAL\n",
            "Text: 01, Label: CARDINAL\n",
            "Text: 32.186a3.529, Label: CARDINAL\n",
            "Text: 3.529, Label: CARDINAL\n",
            "Text: 0, Label: CARDINAL\n",
            "Text: 113.529, Label: CARDINAL\n",
            "Text: 3.49, Label: CARDINAL\n",
            "Text: 3.472, Label: CARDINAL\n",
            "Text: 3.472, Label: CARDINAL\n",
            "Text: 01-3.529, Label: DATE\n",
            "Text: 56.848a12.3, Label: GPE\n",
            "Text: 12.3, Label: CARDINAL\n",
            "Text: 01-4.794.959c-4.756, Label: DATE\n",
            "Text: 1.807, Label: CARDINAL\n",
            "Text: 0, Label: CARDINAL\n",
            "Text: 002.033, Label: CARDINAL\n",
            "Text: 2.033, Label: CARDINAL\n",
            "Text: 4.142, Label: CARDINAL\n",
            "Text: 4.142, Label: CARDINAL\n",
            "Text: 27.616h-6.252l3.49-8.515.268-.039-.268.039-8.783, Label: CARDINAL\n",
            "Text: The Data City, Label: GPE\n",
            "Text: col-6, Label: GPE\n",
            "Text: Quick Links</h2><div, Label: ORG\n",
            "Text: -item-8977, Label: DATE\n",
            "Text: href=\"https://thedatacity.com, Label: ORG\n",
            "Text: href=\"https://thedatacity.com, Label: ORG\n",
            "Text: href=\"https://thedatacity.com/reports/\">Reports</a></li><li id=\"menu-item-48, Label: ORG\n",
            "Text: href=\"https://thedatacity.com, Label: ORG\n",
            "Text: href=\"https://thedatacity.com, Label: ORG\n",
            "Text: href=\"https://thedatacity.com, Label: ORG\n",
            "Text: href=\"https://twitter.com, Label: ORG\n",
            "Text: The Data City, Label: GPE\n",
            "Text: Linked, Label: GPE\n",
            "Text: col-10, Label: ORG\n",
            "Text: span-7 bt\"><div class=\"site-footer__newsletter\"><h2, Label: PERSON\n",
            "Text: monthly, Label: DATE\n",
            "Text: window.hsFormsOnReady, Label: NORP\n",
            "Text: window.hsFormsOnReady||[];window.hsFormsOnReady.push(()=>{hbspt.forms.create({portalId:7138585,formId:\"37976e4e-6813-4629-8d75-56fe1b0da2e4\",target:\"#hbspt-form-1692267626000-0568787345\",region:\"\",})});</script, Label: DATE\n",
            "Text: Legal</h2><div, Label: ORG\n",
            "Text: href=\"https://thedatacity.com, Label: ORG\n",
            "Text: href=\"https://thedatacity.com, Label: ORG\n",
            "Text: -item-7873, Label: DATE\n",
            "Text: href=\"https://thedatacity.com, Label: ORG\n",
            "Text: span-16, Label: PERSON\n",
            "Text: 2023 Data City Innovations Ltd, Label: ORG\n",
            "Text: defer id=\"hs, Label: PERSON\n"
          ]
        }
      ]
    },
    {
      "cell_type": "markdown",
      "source": [
        "# Example 8"
      ],
      "metadata": {
        "id": "TnxFwBDRc2sg"
      }
    },
    {
      "cell_type": "code",
      "source": [
        "from bs4 import BeautifulSoup\n",
        "\n",
        "# Load the spaCy model\n",
        "nlp = spacy.load(\"en_core_web_sm\")\n",
        "\n",
        "# Fetch the HTML content from the URL\n",
        "url = \"http://thedatacity.com\"\n",
        "response = requests.get(url)\n",
        "html_content = response.text\n",
        "\n",
        "# Parse the HTML content to extract the text\n",
        "soup = BeautifulSoup(html_content, \"html.parser\")\n",
        "text = soup.get_text()\n",
        "\n",
        "# Process the text with spaCy NER\n",
        "doc = nlp(text)\n",
        "\n",
        "# Extract named entities\n",
        "named_entities = []\n",
        "for ent in doc.ents:\n",
        "    named_entities.append((ent.text, ent.label_))\n",
        "\n",
        "# Print the named entities\n",
        "for entity, label in named_entities:\n",
        "    print(f\"Entity: {entity}, Label: {label}\")"
      ],
      "metadata": {
        "colab": {
          "base_uri": "https://localhost:8080/"
        },
        "id": "NGmlN9TT3o-R",
        "outputId": "87ee5ae4-68a3-48bd-87b9-ac23a8032e81"
      },
      "execution_count": null,
      "outputs": [
        {
          "output_type": "stream",
          "name": "stdout",
          "text": [
            "Entity: Data City, Label: GPE\n",
            "Entity: UK, Label: GPE\n",
            "Entity: GOVERNMENTPE, Label: ORG\n",
            "Entity: VC & INVESTMENTB2B COMPANIESPlatformDirectoryGlobal PlatformAccreditationLocal Government Package, Label: ORG\n",
            "Entity: 350, Label: CARDINAL\n",
            "Entity: Real-Time Industrial Classifications &, Label: ORG\n",
            "Entity: Featured RTICsAdvanced ManufacturingAgriTechArtificial IntelligenceCryptocurrency EconomyImmersive, Label: PERSON\n",
            "Entity: ZeroQuantum, Label: ORG\n",
            "Entity: SIC, Label: ORG\n",
            "Entity: Role Opening: Business Development ExecutiveData Explorer Release NotesUncovering Life Sciences’ Innovation CommunitiesReviewing the Space Economy’s networkEmbracing Innovation and Empowering Teams The UK, Label: WORK_OF_ART\n",
            "Entity: Top Artificial Intelligence, Label: ORG\n",
            "Entity: Skills, Label: ORG\n",
            "Entity: Midlands Engine, Label: PERSON\n",
            "Entity: CityDiscover, Label: PRODUCT\n",
            "Entity: UK, Label: GPE\n",
            "Entity: UK, Label: GPE\n",
            "Entity: over 5 million, Label: CARDINAL\n",
            "Entity: 350, Label: CARDINAL\n",
            "Entity: SIC, Label: ORG\n",
            "Entity: one, Label: CARDINAL\n",
            "Entity: UK, Label: GPE\n",
            "Entity: over 350, Label: CARDINAL\n",
            "Entity: AgriTech, Label: ORG\n",
            "Entity: over 5 million, Label: CARDINAL\n",
            "Entity: UK, Label: GPE\n",
            "Entity: The Data City, Label: GPE\n",
            "Entity: 5   million, Label: CARDINAL\n",
            "Entity: weekly, Label: DATE\n",
            "Entity: Wednesday, Label: DATE\n",
            "Entity: morning, Label: TIME\n",
            "Entity: Book Your Place Our clientsA shared ambition, Label: WORK_OF_ART\n",
            "Entity: Whitehall, Label: ORG\n",
            "Entity: WhitehavenCentral and Local Government, Label: ORG\n",
            "Entity: Catapults, Private Equity, Label: ORG\n",
            "Entity: Non-Governmental Organisations and Academics, Label: ORG\n",
            "Entity: Latest news & insightThe Data City Blog  View, Label: ORG\n",
            "Entity: Latest Insight, Label: ORG\n",
            "Entity: Uncovering Life Sciences’ Innovation Communities     Space Economy  Reviewing the Space Economy’s, Label: ORG\n",
            "Entity: UK, Label: GPE\n",
            "Entity: Top Artificial Intelligence, Label: ORG\n",
            "Entity: Skills, Label: ORG\n",
            "Entity: Midlands Engine, Label: PERSON\n",
            "Entity: Greater Manchester, Label: PERSON\n",
            "Entity: Andy Burnham, Label: PERSON\n",
            "Entity: Greater Manchester, Label: PERSON\n",
            "Entity: Stian Westlake, Label: PERSON\n",
            "Entity: Royal Statistical Society, Label: ORG\n",
            "Entity: the Data City, Label: FAC\n",
            "Entity: James Lewis, Label: PERSON\n",
            "Entity: West Yorkshire, Label: PERSON\n",
            "Entity: the Data Explorer, Label: ORG\n",
            "Entity: Christopher Steven, Label: PERSON\n",
            "Entity: Optimat                               , Label: PERSON\n",
            "Entity: Us, Label: GPE\n",
            "Entity: The Data City, Label: GPE\n",
            "Entity: Quick LinksPlatform, Label: PERSON\n",
            "Entity: The Data City       Email Newsletter Sign, Label: ORG\n",
            "Entity: monthly, Label: DATE\n",
            "Entity: 2023, Label: DATE\n",
            "Entity: Data City Innovations Ltd, Label: ORG\n",
            "Entity: 10958787, Label: DATE\n"
          ]
        }
      ]
    },
    {
      "cell_type": "markdown",
      "source": [
        "# Example 9"
      ],
      "metadata": {
        "id": "eemGKL6bc-qX"
      }
    },
    {
      "cell_type": "code",
      "source": [
        "import spacy\n",
        "\n",
        "# Load the English language model\n",
        "nlp = spacy.load(\"en_core_web_sm\")\n",
        "\n",
        "# Define a custom tokenization rule to split combined words\n",
        "def custom_tokenizer(nlp):\n",
        "    infixes = nlp.Defaults.infixes + [r\"(?<=thedata)(?=city)\"]\n",
        "    infix_re = spacy.util.compile_infix_regex(infixes)\n",
        "    return spacy.tokenizer.Tokenizer(nlp.vocab, infix_finditer=infix_re.finditer)\n",
        "\n",
        "# Set the custom tokenizer\n",
        "nlp.tokenizer = custom_tokenizer(nlp)\n",
        "\n",
        "# Text to be tokenized\n",
        "text = \"thedatacity.com is a great company.\"\n",
        "\n",
        "# Process the text using the customized tokenizer\n",
        "doc = nlp(text)\n",
        "\n",
        "# Print the tokens\n",
        "for token in doc:\n",
        "    print(token.text)\n"
      ],
      "metadata": {
        "colab": {
          "base_uri": "https://localhost:8080/"
        },
        "id": "7a8gnKWf0mKh",
        "outputId": "4187862c-4735-47bb-ed09-99ff91269488"
      },
      "execution_count": null,
      "outputs": [
        {
          "output_type": "stream",
          "name": "stdout",
          "text": [
            "thedata\n",
            "city.com\n",
            "is\n",
            "a\n",
            "great\n",
            "company.\n"
          ]
        }
      ]
    },
    {
      "cell_type": "markdown",
      "source": [
        "# Example 10"
      ],
      "metadata": {
        "id": "nN1hO_sedEkQ"
      }
    },
    {
      "cell_type": "code",
      "source": [
        "import spacy\n",
        "\n",
        "# Load the spaCy model\n",
        "nlp = spacy.load(\"en_core_web_sm\")\n",
        "\n",
        "# Dataset of URLs\n",
        "dataset = [\n",
        "    \"https://www.linkedin.com\",\n",
        "    \"https://thedatacity.com\",\n",
        "    \"https://www.youtube.com\"\n",
        "]\n",
        "\n",
        "# Function to split URL parts using NER\n",
        "def split_url_parts(url):\n",
        "    doc = nlp(url)\n",
        "    split_parts = []\n",
        "    current_part = \"\"\n",
        "\n",
        "    for token in doc:\n",
        "        if token.ent_type_ == \"URL\" or token.is_punct:\n",
        "            if current_part:\n",
        "                split_parts.append(current_part)\n",
        "            current_part = \"\"\n",
        "        else:\n",
        "            current_part += token.text + \" \"\n",
        "\n",
        "    if current_part:\n",
        "        split_parts.append(current_part)\n",
        "\n",
        "    return split_parts\n",
        "\n",
        "# Process and print split URL parts\n",
        "for url in dataset:\n",
        "    split_parts = split_url_parts(url)\n",
        "    print(f\"Original URL: {url}\")\n",
        "    print(f\"Split URL Parts: {split_parts}\")\n",
        "    print()\n"
      ],
      "metadata": {
        "colab": {
          "base_uri": "https://localhost:8080/"
        },
        "id": "HQEfDOjfBev9",
        "outputId": "76022947-86f5-4674-df5d-e9ddbbba0772"
      },
      "execution_count": null,
      "outputs": [
        {
          "output_type": "stream",
          "name": "stdout",
          "text": [
            "Original URL: https://www.linkedin.com\n",
            "Split URL Parts: ['https://www.linkedin.com ']\n",
            "\n",
            "Original URL: https://thedatacity.com\n",
            "Split URL Parts: ['https://thedatacity.com ']\n",
            "\n",
            "Original URL: https://www.youtube.com\n",
            "Split URL Parts: ['https://www.youtube.com ']\n",
            "\n"
          ]
        }
      ]
    },
    {
      "cell_type": "markdown",
      "source": [
        "# Example *12*"
      ],
      "metadata": {
        "id": "AyihJdFHdH2i"
      }
    },
    {
      "cell_type": "code",
      "source": [
        "from flair.data import Sentence\n",
        "from flair.models import SequenceTagger\n",
        "\n",
        "# load tagger\n",
        "tagger = SequenceTagger.load(\"flair/ner-english\")\n",
        "\n",
        "# make example sentence\n",
        "sentence = Sentence(\"George Washington wenttoWashington\")\n",
        "\n",
        "# predict NER tags\n",
        "tagger.predict(sentence)\n",
        "\n",
        "# print sentence\n",
        "print(sentence)\n",
        "\n",
        "# print predicted NER spans\n",
        "print('The following NER tags are found:')\n",
        "# iterate over entities and print\n",
        "for entity in sentence.get_spans('ner'):\n",
        "    print(entity)"
      ],
      "metadata": {
        "colab": {
          "base_uri": "https://localhost:8080/"
        },
        "id": "n_X-FRPleeEP",
        "outputId": "9ac11855-6c32-48e4-ffdf-7e4141587755"
      },
      "execution_count": null,
      "outputs": [
        {
          "output_type": "stream",
          "name": "stdout",
          "text": [
            "2023-08-17 12:51:28,062 SequenceTagger predicts: Dictionary with 20 tags: <unk>, O, S-ORG, S-MISC, B-PER, E-PER, S-LOC, B-ORG, E-ORG, I-PER, S-PER, B-MISC, I-MISC, E-MISC, I-ORG, B-LOC, E-LOC, I-LOC, <START>, <STOP>\n",
            "Sentence[3]: \"George Washington wenttoWashington\" → [\"George Washington\"/PER]\n",
            "The following NER tags are found:\n",
            "Span[0:2]: \"George Washington\" → PER (0.9879)\n"
          ]
        }
      ]
    },
    {
      "cell_type": "markdown",
      "source": [
        "# Example"
      ],
      "metadata": {
        "id": "O8bExsO1faM7"
      }
    },
    {
      "cell_type": "code",
      "source": [
        "import re\n",
        "import spacy\n",
        "from spacy.tokenizer import Tokenizer\n",
        "\n",
        "special_cases = {\":)\": [{\"ORTH\": \":)\"}]}\n",
        "prefix_re = re.compile(r'''^[\\\\[\\\\(\"']''')\n",
        "infix_re = re.compile(r'''[-~]''')\n",
        "simple_url_re = re.compile(r'''^https?://''')\n",
        "\n",
        "def custom_tokenizer(nlp):\n",
        "    return Tokenizer(nlp.vocab, rules=special_cases,\n",
        "                                prefix_search=prefix_re.search,\n",
        "                                infix_finditer=infix_re.finditer,\n",
        "                                url_match=simple_url_re.match)\n",
        "\n",
        "nlp = spacy.load(\"en_core_web_sm\")\n",
        "nlp.tokenizer = custom_tokenizer(nlp)\n",
        "doc = nlp(\"hello-world. :)\")\n",
        "print([t.text for t in doc]) # ['hello', '-', 'world.', ':)']"
      ],
      "metadata": {
        "colab": {
          "base_uri": "https://localhost:8080/"
        },
        "id": "RO5BZLpokeaH",
        "outputId": "59b3ddb4-000b-481c-afd8-5077c3117833"
      },
      "execution_count": null,
      "outputs": [
        {
          "output_type": "stream",
          "name": "stdout",
          "text": [
            "['hello', '-', 'world.', ':)']\n"
          ]
        }
      ]
    },
    {
      "cell_type": "markdown",
      "source": [
        "# Example"
      ],
      "metadata": {
        "id": "mvrDm-4zfVca"
      }
    },
    {
      "cell_type": "code",
      "source": [
        "import spacy\n",
        "nlp = spacy.load(\"en_core_web_sm\")\n",
        "import en_core_web_sm\n",
        "nlp = en_core_web_sm.load()\n",
        "doc = nlp(\"This is a sentence.\")\n",
        "print([(w.text, w.pos_) for w in doc])"
      ],
      "metadata": {
        "id": "upOKY2-nc0Co",
        "outputId": "e6a8034c-67ff-4ee1-8301-629ac7924864",
        "colab": {
          "base_uri": "https://localhost:8080/"
        }
      },
      "execution_count": 68,
      "outputs": [
        {
          "output_type": "stream",
          "name": "stdout",
          "text": [
            "[('This', 'PRON'), ('is', 'AUX'), ('a', 'DET'), ('sentence', 'NOUN'), ('.', 'PUNCT')]\n"
          ]
        }
      ]
    },
    {
      "cell_type": "markdown",
      "source": [
        "# Example"
      ],
      "metadata": {
        "id": "M7rTUIDWdl88"
      }
    },
    {
      "cell_type": "code",
      "source": [
        "import spacy\n",
        "from spacy import displacy\n",
        "\n",
        "nlp = spacy.load(\"en_core_web_sm\")\n",
        "doc = nlp(\"Dialogflow, previously known as api.ai, is a chatbot framework provided by Google. Google acquired API.AI in 2016.\")\n",
        "\n",
        "for ent in doc.ents:\n",
        "    print(ent.text, ent.start_char, ent.end_char, ent.label_)"
      ],
      "metadata": {
        "colab": {
          "base_uri": "https://localhost:8080/"
        },
        "id": "CVKAPJPijNji",
        "outputId": "3ee59d81-756d-4a12-847c-3fad546a185e"
      },
      "execution_count": 69,
      "outputs": [
        {
          "output_type": "stream",
          "name": "stdout",
          "text": [
            "Google 75 81 ORG\n",
            "Google 83 89 ORG\n",
            "2016 109 113 DATE\n"
          ]
        }
      ]
    },
    {
      "cell_type": "markdown",
      "source": [
        "# Steps that i plan to take in the project."
      ],
      "metadata": {
        "id": "OD7LaW1wmz-1"
      }
    },
    {
      "cell_type": "code",
      "source": [
        "# I am going to be using Spacy for the process\n",
        "# SpaCy is an open-source library for advanced Natural Language Processing in Python.\n",
        "# SpaCy provides an exceptionally efficient statistical system for NER in python, which can assign labels to groups of tokens which are contiguous. It provides a default model which can recognize a wide range of named or numerical entities, which include person, organization, language, event etc.\n",
        "#  Apart from these default entities, spaCy also gives us the liberty to add arbitrary classes to the NER model, by training the model to update it with newer trained examples.\n"
      ],
      "metadata": {
        "id": "BvMuFBgGAfSS"
      },
      "execution_count": 2,
      "outputs": []
    },
    {
      "cell_type": "markdown",
      "source": [
        "# 1. I am going to use the redictLeads_enriched_sample_report_Dataset to train the model."
      ],
      "metadata": {
        "id": "B2aHHHBvf_Y1"
      }
    },
    {
      "cell_type": "markdown",
      "source": [
        "# 2. Load the dataset"
      ],
      "metadata": {
        "id": "Lj74Zoj6qEo1"
      }
    },
    {
      "cell_type": "markdown",
      "source": [
        "# 3. The Dataset will be converted to a Json file , then used to train the dataset."
      ],
      "metadata": {
        "id": "zIwQ4hgOloq4"
      }
    },
    {
      "cell_type": "markdown",
      "source": [
        "# 4. train the SpaCy model to incorporate for our own custom entities present in our dataset."
      ],
      "metadata": {
        "id": "1rk66uE6pVzg"
      }
    },
    {
      "cell_type": "markdown",
      "source": [
        "# a. Load the model\n",
        "# b. Add the new entity label\n",
        "# c. Loop over\n",
        "# d. Save"
      ],
      "metadata": {
        "id": "Zz-sLpD9qXxH"
      }
    },
    {
      "cell_type": "markdown",
      "source": [
        "# 5. Test"
      ],
      "metadata": {
        "id": "6MC31REsqyyR"
      }
    },
    {
      "cell_type": "code",
      "source": [],
      "metadata": {
        "id": "0avjhFWdrF2L"
      },
      "execution_count": null,
      "outputs": []
    }
  ]
}