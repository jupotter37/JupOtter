{
 "cells": [
  {
   "cell_type": "markdown",
   "id": "f82677dd",
   "metadata": {},
   "source": [
    "<h1>Chapitre 1</h1>\n",
    "<h2><mark>SNT, Python et Jupyter Notebook</mark></h2>"
   ]
  },
  {
   "cell_type": "markdown",
   "id": "c4cc1043",
   "metadata": {},
   "source": [
    "![img](https://www.publicdomainpictures.net/pictures/390000/velka/algorithm-infographic.jpg)"
   ]
  },
  {
   "cell_type": "markdown",
   "id": "2d70060d",
   "metadata": {},
   "source": [
    "Jupyter est une application web utilisée pour programmer dans plus de 40 langages de programmation, dont Python, Julia, Ruby, R, ou encore Scala2. C'est un projet communautaire dont l'objectif est de développer des logiciels libres, des formats ouverts et des services pour l'informatique interactive. "
   ]
  },
  {
   "cell_type": "markdown",
   "id": "9dd90cd4",
   "metadata": {},
   "source": [
    " Jupyter permet de réaliser des calepins ou notebooks, c'est-à-dire des programmes contenant à la fois du texte, simple ou enrichi typographiquement et sémantiquement grace au langage à balises simplifié Markdown, et du code, lignes sources et résultats d'exécution. "
   ]
  },
  {
   "cell_type": "markdown",
   "id": "0f6c9880",
   "metadata": {},
   "source": [
    "source : <i>Wikipédia</i>"
   ]
  },
  {
   "cell_type": "markdown",
   "id": "41afd531",
   "metadata": {},
   "source": [
    "<H2>Thématiques du programme de SNT</H2>\n",
    "<li>Internet</li>\n",
    "<li>Le Web</li>\n",
    "<li>Les réseaux sociaux</li>\n",
    "<li>Les données structurées et leur traitement</li>\n",
    "<li>Localisation, cartographie et mobilité</li>\n",
    "<li>Informatique embarquée et objets connectés</li>\n",
    "<li>La photographie numérique</li>"
   ]
  },
  {
   "cell_type": "markdown",
   "id": "09cca92a",
   "metadata": {},
   "source": [
    "<H2>Pour visiter ces 7 thématiques nous utiliserons un langage de Programmation: <b>Python</b>"
   ]
  },
  {
   "cell_type": "markdown",
   "id": "b5fc3a47",
   "metadata": {},
   "source": [
    "Contenus \n",
    "\n",
    "\n",
    "|Affectations, variables Séquences Instructions conditionnelles Boucles bornées et non bornées Définitions et appels de fonctions \n",
    "\n",
    "|Capacités attendues|\n",
    "Écrire et développer des programmes pour répondre à des problèmes et modéliser des phénomènes physiques, économiques et sociaux. | \n",
    "\n",
    "Exemples d’activités\n",
    "- Illustrer ces notions par des activités liées aux différents thèmes du programme. |"
   ]
  },
  {
   "cell_type": "markdown",
   "id": "318be9eb",
   "metadata": {},
   "source": [
    "![img](https://upload.wikimedia.org/wikipedia/commons/c/c3/Python-logo-notext.svg)"
   ]
  },
  {
   "cell_type": "markdown",
   "id": "6aa0f211",
   "metadata": {},
   "source": [
    "<h2>1.Introduction à Python et à la programmation"
   ]
  },
  {
   "cell_type": "markdown",
   "id": "142f8de5",
   "metadata": {},
   "source": [
    "<b>Algorithme :"
   ]
  },
  {
   "cell_type": "markdown",
   "id": "3692add0",
   "metadata": {},
   "source": [
    "Les premiers algorithmes dont on a retrouvé des descriptions datent des Babyloniens, au IIIe\n",
    "millénaire av. J.-C.. Ils décrivent des méthodes de calculs et des résolutions d’équations à l’aide\n",
    "d’exemples. Un algorithme célèbre est celui qui se trouve dans le livre 7 des Éléments d’Euclide, et\n",
    "appelé algorithme d’Euclide. Le mot « algorithme » vient du nom du mathématicien Al-Khwârizmî\n",
    "(latinisé au Moyen Âge en Algoritmi), qui, au IXe siècle écrivit le premier ouvrage systématique\n",
    "donnant des solutions aux équations linéaires et quadratiques. source : Wikipédia<br>\n",
    "Un algorithme est un ensemble d’instructions qui s’enchaînent dans un ordre logique et bien\n",
    "déterminé.\n",
    "On peut par exemple faire l’analogie avec un recette de cuisine ou une notice de montage de Légo"
   ]
  },
  {
   "cell_type": "markdown",
   "id": "1a6da81f",
   "metadata": {},
   "source": [
    "![img](https://upload.wikimedia.org/wikipedia/commons/thumb/3/3d/Al-Khwarizmi_sculpture_in_Khiva.jpg/800px-Al-Khwarizmi_sculpture_in_Khiva.jpg?20170611072001)"
   ]
  },
  {
   "cell_type": "markdown",
   "id": "8819dc4f",
   "metadata": {},
   "source": [
    "Un algorithme peut s’écrire :\n",
    "* en langage naturel (aussi appelé pseudo-code)\n",
    "* dans un langage de programmation (Python, JavaScript, C++, VBA, . . . ) Les instructions dans un\n",
    "algorithme font intervenir des quantités, qui sont appelées variables. Elles sont repérées par un nom\n",
    "et possèdent une valeur qui peut évoluer tout au long du programme.\n",
    "On distingue quatre types de variables :\n",
    "* entier (int, comme integer en anglais, correspondant aux nombres entiers)\n",
    "* flottant (float, correspondant aux nombres réels)\n",
    "* booléen (bool, d’après le mathématicien George Boole, correspondant aux deux états Vrai ou\n",
    "Faux)\n",
    "* chaîne de caractères (string, correspondant aux suites de caractères (texte), par exemple \"a12c4\")\n",
    "L’instruction d’affectation permet d’attribuer une valeur à une variable. Lorsque l’on veut donner\n",
    "une valeur à la variable X, on écrit alors X ← ... (on lit « X prend la valeur . . . »)."
   ]
  },
  {
   "cell_type": "markdown",
   "id": "caadf962",
   "metadata": {},
   "source": [
    "<b>Histoire de Python :"
   ]
  },
  {
   "cell_type": "markdown",
   "id": "e395d1ca",
   "metadata": {},
   "source": [
    "En 1989, le programmeur néerlandais <b>Guido van Rossum</b>\n",
    "participe aux développements de plusieurs langages de\n",
    "programmation au CWI d’Amsterdam. Lors d’une semaine\n",
    "de vacances durant les fêtes de Noël, il va créer son propre\n",
    "langage de programmation sur son ordinateur personnel. Il le\n",
    "nomme Python en référence à la série télévisée humoristique\n",
    "Monty Python’s Flying Circus dont il est fan. En une\n",
    "vingtaine d’années, Python s’est imposé comme le langage\n",
    "de programmation le plus utilisé dans le monde grâce à sa\n",
    "syntaxe simple et ses nombreuses applications."
   ]
  },
  {
   "cell_type": "markdown",
   "id": "93d3242f",
   "metadata": {},
   "source": [
    "![img](https://upload.wikimedia.org/wikipedia/commons/thumb/e/e2/Guido-portrait-2014-drc.jpg/1024px-Guido-portrait-2014-drc.jpg)"
   ]
  },
  {
   "cell_type": "markdown",
   "id": "f3c3f4ae",
   "metadata": {},
   "source": [
    "<i>Remarque :</i> Python est un langage multiplateformes et libre.<br>\n",
    "Il est utilisé au lycée en mathématiques, en sciences physiques et, en SNT et pour ceux qui<br>\n",
    "choisiront l’option : en NSI. Pour utiliser Python2 solutions sont possibles (parmi de nombreuses):<br>\n",
    "* Sur ordinateur, avec le logiciel Thonny :https://thonny.org\n",
    "* Sur le web, avec Google colab : https://colab.research.google.com"
   ]
  },
  {
   "cell_type": "markdown",
   "id": "04e77591",
   "metadata": {},
   "source": [
    "<h1>2. --- TRAVAUX PRATIQUES ---"
   ]
  },
  {
   "cell_type": "markdown",
   "id": "1495ca2b",
   "metadata": {},
   "source": [
    "![img](https://spx.hypotheses.org/files/2022/11/mshe-espace-numerisation-001-142582-520x245.jpg)"
   ]
  },
  {
   "cell_type": "markdown",
   "id": "3531d5bf",
   "metadata": {},
   "source": [
    "<b>Prise en main du notebook"
   ]
  },
  {
   "cell_type": "markdown",
   "id": "1db8d34a",
   "metadata": {},
   "source": [
    "<b>Exercice 1:</b> renommer votre notebook et effectuer une sauvegarde"
   ]
  },
  {
   "cell_type": "code",
   "execution_count": null,
   "id": "d43c8594",
   "metadata": {},
   "outputs": [],
   "source": [
    "# à faire valider par votre professeur (en cas de besoin)"
   ]
  },
  {
   "cell_type": "markdown",
   "id": "0b4d3f5b",
   "metadata": {},
   "source": [
    "<b>Exercice 2:</b>Exécuter le code ci-dessous en utilisant le bouton <mark><b>|> Exécuter</b></mark>"
   ]
  },
  {
   "cell_type": "code",
   "execution_count": 1,
   "id": "2b633429",
   "metadata": {},
   "outputs": [
    {
     "name": "stdout",
     "output_type": "stream",
     "text": [
      "Le contenu de la variable nommée variable est: Bonjour tout le monde !\n"
     ]
    }
   ],
   "source": [
    "# cette première ligne est un commentaire et elle n'est pas exéxutée par Python\n",
    "variable = \"Bonjour tout le monde !\"\n",
    "print(\"Le contenu de la variable nommée variable est: \" + variable)"
   ]
  },
  {
   "cell_type": "code",
   "execution_count": null,
   "id": "03f81035",
   "metadata": {},
   "outputs": [],
   "source": [
    "#############################################################################################\n",
    "# C'est ici que vous expliquez ce qu'il s'est passé avec python et ce que vous avez compris #\n",
    "#############################################################################################\n",
    "# Quand on a un # le code n'est pas exécuté, c'est un espace pour expliquer les choses\n",
    "# On a mis la phrase \"Bonjour tout le monde !\" dans la variable qui porte le nom \"variable\"\n",
    "# La fonnction print a affiché le texte \"Le contenu de la variable nommée variable est: \"\n",
    "# et aussi \"Bonjour tout le monde !\" car c'est la chaine de caractères qui est contenu dans variable"
   ]
  },
  {
   "cell_type": "markdown",
   "id": "9896e2ae",
   "metadata": {},
   "source": [
    "<b>Exercice 3:</b>Rédiger vous même votre code avec un commentaire, une variable et un affichage avec la fonction print"
   ]
  },
  {
   "cell_type": "code",
   "execution_count": 2,
   "id": "b60aea4b",
   "metadata": {},
   "outputs": [
    {
     "name": "stdout",
     "output_type": "stream",
     "text": [
      "Mon nom est:Marc\n"
     ]
    }
   ],
   "source": [
    "# Votre code ici !\n",
    "# ceci est un commentaire\n",
    "mon_nom = \"Marc\"\n",
    "print(\"Mon nom est:\" + mon_nom)"
   ]
  },
  {
   "cell_type": "markdown",
   "id": "3d85c78d",
   "metadata": {},
   "source": [
    "<b><i>Affectation :</b></i> L’affectation se code avec un = de la manière suivante : variable = valeur"
   ]
  },
  {
   "cell_type": "markdown",
   "id": "a55958d6",
   "metadata": {},
   "source": [
    "L' affectation d'une variable c'est attribuer une valeur durant l'exécution du programme. En python, on utilise l'opérateur d'affectation =. Alors Python demande au système d'exploitation de l'ordinateur (windows ou Mac-os ou encore Linux) de reserver une place dans sa mémoire vive."
   ]
  },
  {
   "cell_type": "markdown",
   "id": "ededc601",
   "metadata": {},
   "source": [
    "<b>Les bases de Python"
   ]
  },
  {
   "cell_type": "markdown",
   "id": "79909db1",
   "metadata": {},
   "source": [
    "<b>Exercice 3 :</b>Exécutez les lignes de codes ci-dessous :"
   ]
  },
  {
   "cell_type": "code",
   "execution_count": 1,
   "id": "af02a70f",
   "metadata": {},
   "outputs": [
    {
     "data": {
      "text/plain": [
       "str"
      ]
     },
     "execution_count": 1,
     "metadata": {},
     "output_type": "execute_result"
    }
   ],
   "source": [
    "variable_string = \"je suis une chaine de caractères\"\n",
    "type(variable_string)"
   ]
  },
  {
   "cell_type": "code",
   "execution_count": 2,
   "id": "d94c229a",
   "metadata": {},
   "outputs": [
    {
     "data": {
      "text/plain": [
       "int"
      ]
     },
     "execution_count": 2,
     "metadata": {},
     "output_type": "execute_result"
    }
   ],
   "source": [
    "variable_entier = 125\n",
    "type(variable_entier)"
   ]
  },
  {
   "cell_type": "code",
   "execution_count": 3,
   "id": "0103c36c",
   "metadata": {},
   "outputs": [
    {
     "data": {
      "text/plain": [
       "float"
      ]
     },
     "execution_count": 3,
     "metadata": {},
     "output_type": "execute_result"
    }
   ],
   "source": [
    "variable_decimale = 3.14\n",
    "type(variable_decimale)"
   ]
  },
  {
   "cell_type": "code",
   "execution_count": 4,
   "id": "837d7225",
   "metadata": {},
   "outputs": [
    {
     "data": {
      "text/plain": [
       "int"
      ]
     },
     "execution_count": 4,
     "metadata": {},
     "output_type": "execute_result"
    }
   ],
   "source": [
    "variable_entier = -125\n",
    "type(variable_entier)"
   ]
  },
  {
   "cell_type": "code",
   "execution_count": null,
   "id": "07524fa5",
   "metadata": {},
   "outputs": [],
   "source": [
    "#############################################################################################\n",
    "# C'est ici que vous expliquez ce qu'il s'est passé avec python et ce que vous avez compris #\n",
    "#############################################################################################\n",
    "# La fonction type nous renseigne sur le contenu des variables\n",
    "# On sait si la variable contient des nombres ou du texte (chaine de caractères)\n",
    "#"
   ]
  },
  {
   "cell_type": "markdown",
   "id": "9caf3ab4",
   "metadata": {},
   "source": [
    "<b>Exercice 4 :</b> Print est une sortie."
   ]
  },
  {
   "cell_type": "code",
   "execution_count": 5,
   "id": "a52af344",
   "metadata": {},
   "outputs": [
    {
     "name": "stdout",
     "output_type": "stream",
     "text": [
      "Help on built-in function print in module builtins:\n",
      "\n",
      "print(...)\n",
      "    print(value, ..., sep=' ', end='\\n', file=sys.stdout, flush=False)\n",
      "    \n",
      "    Prints the values to a stream, or to sys.stdout by default.\n",
      "    Optional keyword arguments:\n",
      "    file:  a file-like object (stream); defaults to the current sys.stdout.\n",
      "    sep:   string inserted between values, default a space.\n",
      "    end:   string appended after the last value, default a newline.\n",
      "    flush: whether to forcibly flush the stream.\n",
      "\n"
     ]
    }
   ],
   "source": [
    "# print est une fonction native de Python\n",
    "# lorsque l'on utilise la fonction print\n",
    "# Python demande au précesseur de votre ordinateur\n",
    "# de générer un sortie écran\n",
    "# la fonction help de python nous affiche son fichier d'aide\n",
    "\n",
    "help(print)"
   ]
  },
  {
   "cell_type": "code",
   "execution_count": 6,
   "id": "109795c6",
   "metadata": {},
   "outputs": [
    {
     "name": "stdout",
     "output_type": "stream",
     "text": [
      "quelque chosetra lala la lère !!!autre chosema ligne est finieune autre ligne*-*autre chose...hello !\n"
     ]
    }
   ],
   "source": [
    "print(\"quelque chose\", \"autre chose\", sep=\"tra lala la lère !!!\", end =\"ma ligne est finie\")\n",
    "print(\"une autre ligne\", \"autre chose\", sep=\"*-*\", end =\"...\")\n",
    "print(\"hello !\")\n",
    "      "
   ]
  },
  {
   "cell_type": "code",
   "execution_count": 7,
   "id": "81da6d39",
   "metadata": {},
   "outputs": [
    {
     "name": "stdout",
     "output_type": "stream",
     "text": [
      "une chose\n",
      "quelque chose\n",
      "autre chose\n"
     ]
    }
   ],
   "source": [
    "print(\"une chose\")\n",
    "print(\"quelque chose\")\n",
    "print(\"autre chose\")"
   ]
  },
  {
   "cell_type": "code",
   "execution_count": null,
   "id": "ffef977c",
   "metadata": {},
   "outputs": [],
   "source": [
    "#############################################################################################\n",
    "# C'est ici que vous expliquez ce qu'il s'est passé avec python et ce que vous avez compris #\n",
    "#############################################################################################\n",
    "#\n",
    "# On peut remplacer le retour à la ligne de la fonction print par autre chose (tout ce que l'on veut)\n",
    "#"
   ]
  },
  {
   "cell_type": "markdown",
   "id": "28635b2f",
   "metadata": {},
   "source": [
    "<b>Exercice 5 :</b>Les entrées"
   ]
  },
  {
   "cell_type": "code",
   "execution_count": 1,
   "id": "954e5095",
   "metadata": {},
   "outputs": [
    {
     "name": "stdout",
     "output_type": "stream",
     "text": [
      "entrez une valeur :Bonjour tout le monde\n"
     ]
    }
   ],
   "source": [
    "#Si on veut demander à l’utilisateur de rentrer des données, on peut utiliser l’instruction input.\n",
    "variable = input(\"entrez une valeur :\")"
   ]
  },
  {
   "cell_type": "code",
   "execution_count": 2,
   "id": "1b1f6ddf",
   "metadata": {},
   "outputs": [
    {
     "name": "stdout",
     "output_type": "stream",
     "text": [
      "Bonjour tout le monde\n"
     ]
    }
   ],
   "source": [
    "print(variable)"
   ]
  },
  {
   "cell_type": "code",
   "execution_count": 3,
   "id": "041e197f",
   "metadata": {},
   "outputs": [
    {
     "name": "stdout",
     "output_type": "stream",
     "text": [
      "que vaut l’entier n ?10\n",
      "donner la valeur de x : 20\n"
     ]
    }
   ],
   "source": [
    "#Lorsqu’il s’agit d’un nombre entier, il faut convertir ce qu’a rentré l’utilisateur grâce à\n",
    "#l’instruction int\n",
    "n = int(input(\"que vaut l’entier n ?\"))\n",
    "#Lorsqu’il s’agit d’un nombre décimal, il faut convertir ce qu’a rentré l’utilisateur grâce à\n",
    "#l’instruction float\n",
    "x = float(input(\"donner la valeur de x : \"))"
   ]
  },
  {
   "cell_type": "code",
   "execution_count": 4,
   "id": "b35f10f8",
   "metadata": {},
   "outputs": [
    {
     "name": "stdout",
     "output_type": "stream",
     "text": [
      "10\n"
     ]
    }
   ],
   "source": [
    "print(n)"
   ]
  },
  {
   "cell_type": "code",
   "execution_count": 5,
   "id": "c40b1fe2",
   "metadata": {},
   "outputs": [
    {
     "name": "stdout",
     "output_type": "stream",
     "text": [
      "20.0\n"
     ]
    }
   ],
   "source": [
    "print(x)"
   ]
  },
  {
   "cell_type": "code",
   "execution_count": null,
   "id": "eb9a0073",
   "metadata": {},
   "outputs": [],
   "source": [
    "#############################################################################################\n",
    "# C'est ici que vous expliquez ce qu'il s'est passé avec python et ce que vous avez compris #\n",
    "#############################################################################################\n",
    "# La fonction input sert à demander à l'utilisateur de taper au clavier quelquechose \n",
    "# et on valide avec entrer\n",
    "# La fonction int c'est pour tranformer la saisie en entier et float en nombre à virgules (rééls)\n",
    "# Un nombre réel désigne un nombre dont la représentation décimale contient un nombre fini \n",
    "# ou infini de chiffres après la virgule."
   ]
  },
  {
   "cell_type": "markdown",
   "id": "2b182d94",
   "metadata": {},
   "source": [
    "<b>Exercice 6 :</b> Rédiger votre programme avec une entrée utilisateur input et une sortie écran print"
   ]
  },
  {
   "cell_type": "code",
   "execution_count": 6,
   "id": "4f6ab29a",
   "metadata": {},
   "outputs": [
    {
     "name": "stdout",
     "output_type": "stream",
     "text": [
      "entrez un truc :coucou\n",
      "coucou\n"
     ]
    }
   ],
   "source": [
    "#votre code ici\n",
    "unnomdevariableaupif = input(\"entrez un truc :\")\n",
    "print(unnomdevariableaupif)"
   ]
  },
  {
   "cell_type": "markdown",
   "id": "6203b894",
   "metadata": {},
   "source": [
    "<b>Exercice 7 : </b> Programme impératif <br>Dans les deux premières lignes, le programme demande deux valeurs réelles\n",
    "à affecter aux variables X et Y.\n",
    "Dans les trois lignes qui suivent, il y a trois affectations successives.\n",
    "Enfin, dans les trois dernières lignes, le programme affiche les 3 nouvelles\n",
    "valeurs stockées dans les variables X, Y, Z."
   ]
  },
  {
   "cell_type": "code",
   "execution_count": 7,
   "id": "f0575638",
   "metadata": {},
   "outputs": [
    {
     "name": "stdout",
     "output_type": "stream",
     "text": [
      "entrer l’entier x ?10\n",
      "entrer l’entier y ?20\n",
      "x vaut 20\n",
      "y vaut 10\n",
      "z vaut 10\n"
     ]
    }
   ],
   "source": [
    "x = int(input(\"entrer l’entier x ?\"))\n",
    "y = int(input(\"entrer l’entier y ?\"))\n",
    "z=x\n",
    "x=y\n",
    "y=z\n",
    "print (\"x vaut\",x)\n",
    "print (\"y vaut\",y)\n",
    "print (\"z vaut\",z)"
   ]
  },
  {
   "cell_type": "code",
   "execution_count": null,
   "id": "7e3f4bb2",
   "metadata": {},
   "outputs": [],
   "source": [
    "#############################################################################################\n",
    "# C'est ici que vous expliquez ce qu'il s'est passé avec python et ce que vous avez compris #\n",
    "#############################################################################################\n",
    "#\n",
    "# On a inversé les valeurs de x et y en se servant de z comme mémoire temporaire\n",
    "#"
   ]
  },
  {
   "cell_type": "markdown",
   "id": "9d41e704",
   "metadata": {},
   "source": [
    "<b>Exercice 8 : </b> Les comparaisons"
   ]
  },
  {
   "cell_type": "code",
   "execution_count": 8,
   "id": "cd95434c",
   "metadata": {},
   "outputs": [],
   "source": [
    "#Pour conparer deux données, on peut utiliser == , <, > , <= et >=\n",
    "#On met bien deux égals en Python pour bien distnguer comparaison et affectation\n",
    "##################\n",
    "##  AFFECTATION ##\n",
    "##################\n",
    "a=10\n",
    "b=11\n",
    "c=8"
   ]
  },
  {
   "cell_type": "code",
   "execution_count": 9,
   "id": "dec18058",
   "metadata": {},
   "outputs": [
    {
     "data": {
      "text/plain": [
       "False"
      ]
     },
     "execution_count": 9,
     "metadata": {},
     "output_type": "execute_result"
    }
   ],
   "source": [
    "a == b"
   ]
  },
  {
   "cell_type": "code",
   "execution_count": 10,
   "id": "7265b2c6",
   "metadata": {},
   "outputs": [
    {
     "data": {
      "text/plain": [
       "False"
      ]
     },
     "execution_count": 10,
     "metadata": {},
     "output_type": "execute_result"
    }
   ],
   "source": [
    "b <= c"
   ]
  },
  {
   "cell_type": "code",
   "execution_count": 11,
   "id": "99bf1db4",
   "metadata": {},
   "outputs": [
    {
     "data": {
      "text/plain": [
       "True"
      ]
     },
     "execution_count": 11,
     "metadata": {},
     "output_type": "execute_result"
    }
   ],
   "source": [
    "b >= c"
   ]
  },
  {
   "cell_type": "code",
   "execution_count": 12,
   "id": "013230d3",
   "metadata": {},
   "outputs": [
    {
     "data": {
      "text/plain": [
       "False"
      ]
     },
     "execution_count": 12,
     "metadata": {},
     "output_type": "execute_result"
    }
   ],
   "source": [
    "a < c"
   ]
  },
  {
   "cell_type": "code",
   "execution_count": 13,
   "id": "6cb226ba",
   "metadata": {},
   "outputs": [
    {
     "data": {
      "text/plain": [
       "True"
      ]
     },
     "execution_count": 13,
     "metadata": {},
     "output_type": "execute_result"
    }
   ],
   "source": [
    "b > a"
   ]
  },
  {
   "cell_type": "markdown",
   "id": "8d91cd6e",
   "metadata": {},
   "source": [
    "<b>Exercice 9 : Python sait caluler"
   ]
  },
  {
   "cell_type": "markdown",
   "id": "37817c8d",
   "metadata": {},
   "source": [
    "<b><i>à faire: ajouter les commentaires à chaque ligne pour les expliquer"
   ]
  },
  {
   "cell_type": "code",
   "execution_count": 14,
   "id": "0b60cca8",
   "metadata": {},
   "outputs": [
    {
     "data": {
      "text/plain": [
       "20"
      ]
     },
     "execution_count": 14,
     "metadata": {},
     "output_type": "execute_result"
    }
   ],
   "source": [
    "#Python est une vrai machine à calculer\n",
    "a = 10\n",
    "b = 10\n",
    "a + b"
   ]
  },
  {
   "cell_type": "code",
   "execution_count": 15,
   "id": "23c68018",
   "metadata": {},
   "outputs": [
    {
     "data": {
      "text/plain": [
       "100"
      ]
     },
     "execution_count": 15,
     "metadata": {},
     "output_type": "execute_result"
    }
   ],
   "source": [
    "a * b # c'est a multiplié par b 10 x 10"
   ]
  },
  {
   "cell_type": "code",
   "execution_count": 16,
   "id": "f11a430c",
   "metadata": {},
   "outputs": [
    {
     "data": {
      "text/plain": [
       "10"
      ]
     },
     "execution_count": 16,
     "metadata": {},
     "output_type": "execute_result"
    }
   ],
   "source": [
    "a + b - a # c'est 10 + 10 - 10"
   ]
  },
  {
   "cell_type": "code",
   "execution_count": 17,
   "id": "4a47e4d2",
   "metadata": {},
   "outputs": [
    {
     "data": {
      "text/plain": [
       "20"
      ]
     },
     "execution_count": 17,
     "metadata": {},
     "output_type": "execute_result"
    }
   ],
   "source": [
    "2 * a # c'est 2 x 10 = 20"
   ]
  },
  {
   "cell_type": "code",
   "execution_count": 18,
   "id": "4a08b8fc",
   "metadata": {},
   "outputs": [
    {
     "data": {
      "text/plain": [
       "100"
      ]
     },
     "execution_count": 18,
     "metadata": {},
     "output_type": "execute_result"
    }
   ],
   "source": [
    "a**2 # c'est a au carré donc 10 x 10 = 100"
   ]
  },
  {
   "cell_type": "code",
   "execution_count": 19,
   "id": "15ad07d2",
   "metadata": {},
   "outputs": [
    {
     "data": {
      "text/plain": [
       "0"
      ]
     },
     "execution_count": 19,
     "metadata": {},
     "output_type": "execute_result"
    }
   ],
   "source": [
    "a%2 # modulo est le reste de la division euclidienne 10/2 donne 5 et reste zéro"
   ]
  },
  {
   "cell_type": "code",
   "execution_count": 20,
   "id": "a8918698",
   "metadata": {},
   "outputs": [
    {
     "data": {
      "text/plain": [
       "1.5"
      ]
     },
     "execution_count": 20,
     "metadata": {},
     "output_type": "execute_result"
    }
   ],
   "source": [
    "7.5%2"
   ]
  },
  {
   "cell_type": "code",
   "execution_count": 21,
   "id": "64099536",
   "metadata": {},
   "outputs": [
    {
     "data": {
      "text/plain": [
       "3.0"
      ]
     },
     "execution_count": 21,
     "metadata": {},
     "output_type": "execute_result"
    }
   ],
   "source": [
    "7.5 // 2"
   ]
  },
  {
   "cell_type": "markdown",
   "id": "ab94857f",
   "metadata": {},
   "source": [
    "<b>Exercice 10 : <b>Les tests"
   ]
  },
  {
   "cell_type": "code",
   "execution_count": 22,
   "id": "ca9b83b2",
   "metadata": {},
   "outputs": [
    {
     "name": "stdout",
     "output_type": "stream",
     "text": [
      "quelque_chose est bien vrai = True en anglais\n"
     ]
    }
   ],
   "source": [
    "#La condition, est souvent une comparaison entre deux valeurs.\n",
    "# Si quelque chose est vrai, alors on fait une certaine chose ...\n",
    "quelque_chose = True\n",
    "if quelque_chose == True :\n",
    "    print(\"quelque_chose est bien vrai = True en anglais\")\n",
    "#--- Le petit décalage montre que l'on entre dans la condition\n",
    "# ce petit décalage c'est l'indentation"
   ]
  },
  {
   "cell_type": "markdown",
   "id": "08db6d0d",
   "metadata": {},
   "source": [
    "Le but de l'indentation est de nous permettre de discerner plus facilement les différents éléments ou parties de code. <b> En python, </b><i>C'est OBLIGATOIRE</i>"
   ]
  },
  {
   "cell_type": "code",
   "execution_count": 23,
   "id": "ab4489ae",
   "metadata": {},
   "outputs": [
    {
     "name": "stdout",
     "output_type": "stream",
     "text": [
      "entrer l’entier x ?10\n",
      "entrer l’entier y ?15\n",
      "x est inférieur à y\n"
     ]
    }
   ],
   "source": [
    "x = int(input(\"entrer l’entier x ?\"))\n",
    "y = int(input(\"entrer l’entier y ?\"))\n",
    "if x<y :\n",
    "    print(\"x est inférieur à y\")\n",
    "else :\n",
    "    print(\"x est soit égal ou soit supérieur à y\")\n",
    "    \n"
   ]
  },
  {
   "cell_type": "code",
   "execution_count": 25,
   "id": "891135da",
   "metadata": {},
   "outputs": [
    {
     "name": "stdout",
     "output_type": "stream",
     "text": [
      "entrer l’entier x ?22\n",
      "entrer l’entier y ?12\n",
      "x est supérieur à y\n"
     ]
    }
   ],
   "source": [
    "x = int(input(\"entrer l’entier x ?\"))\n",
    "y = int(input(\"entrer l’entier y ?\"))\n",
    "if x<y :\n",
    "    print(\"x est inférieur à y\")\n",
    "elif x>y :\n",
    "    print(\"x est supérieur à y\")"
   ]
  },
  {
   "cell_type": "markdown",
   "id": "3f455968",
   "metadata": {},
   "source": [
    "<b>à faire : </b><i>Proposez un code où l'on teste les valeurs de x et y pour afficher si x==y , si x<y ou si x>y</i>"
   ]
  },
  {
   "cell_type": "code",
   "execution_count": 26,
   "id": "51f7c387",
   "metadata": {},
   "outputs": [
    {
     "name": "stdout",
     "output_type": "stream",
     "text": [
      "x est différent de y\n"
     ]
    }
   ],
   "source": [
    "# votre code ici\n",
    "x=12\n",
    "y=22\n",
    "if x==y :\n",
    "    print(\"x est = à y\")\n",
    "else :\n",
    "    print(\"x est différent de y\")"
   ]
  },
  {
   "cell_type": "markdown",
   "id": "97ad77a9",
   "metadata": {},
   "source": [
    "<b>exercice 11 : </b>Proposer un programme pour calculer l'imc en demandant le poids et la taille<br> I M C = M / T ^2 , avec M la masse corporelle (en kilogrammes) et T la stature (en mètres)1. L'IMC s'exprime en kg/m2. <i>source: Wikipédia</i>"
   ]
  },
  {
   "cell_type": "markdown",
   "id": "6d356d4d",
   "metadata": {},
   "source": [
    "<caption>Interprétation de l’IMC\n",
    "</caption>\n",
    "<tbody><tr>\n",
    "<th scope=\"col\">IMC (<abbr class=\"abbr\" title=\"kilogramme par mètre carré\">kg/m<sup>2</sup></abbr>)\n",
    "</th>\n",
    "<th scope=\"col\">Interprétation\n",
    "</th></tr>\n",
    "<tr>\n",
    "<th scope=\"row\">moins de 16,5\n",
    "</th>\n",
    "<td>dénutrition\n",
    "</td></tr>\n",
    "<tr>\n",
    "<th scope=\"row\">16,5 à 18,5<sup>-</sup>\n",
    "</th>\n",
    "<td><a href=\"/wiki/Maigreur\" title=\"Maigreur\">maigreur</a>\n",
    "</td></tr>\n",
    "<tr>\n",
    "<th scope=\"row\">18,5 à 25<sup>-</sup>\n",
    "</th>\n",
    "<td><a href=\"/wiki/Poids_normal\" class=\"mw-redirect\" title=\"Poids normal\">poids normal</a>\n",
    "</td></tr>\n",
    "<tr>\n",
    "<th scope=\"row\">25 à 30<sup>-</sup>\n",
    "</th>\n",
    "<td><a href=\"/wiki/Surpoids\" title=\"Surpoids\">surpoids</a>\n",
    "</td></tr>\n",
    "<tr>\n",
    "<th scope=\"row\">30 à 35<sup>-</sup>\n",
    "</th>\n",
    "<td><a href=\"/wiki/Ob%C3%A9sit%C3%A9\" title=\"Obésité\">obésité</a> modérée\n",
    "</td></tr>\n",
    "<tr>\n",
    "<th scope=\"row\">35 à 40<sup>-</sup>\n",
    "</th>\n",
    "<td>obésité sévère\n",
    "</td></tr>\n",
    "<tr>\n",
    "<th scope=\"row\">40 et plus\n",
    "</th>\n",
    "<td>obésité morbide ou massive\n",
    "</td>"
   ]
  },
  {
   "cell_type": "code",
   "execution_count": 33,
   "id": "f4f97919",
   "metadata": {},
   "outputs": [
    {
     "name": "stdout",
     "output_type": "stream",
     "text": [
      "entrer votre poids ?81\n",
      "entrer votre taille ?1.70\n",
      "surpoids\n"
     ]
    }
   ],
   "source": [
    "# votre code ici\n",
    "M = float(input(\"entrer votre poids ?\"))\n",
    "T = float(input(\"entrer votre taille ?\"))\n",
    "IMC = M / T**2\n",
    "if IMC < 16.5 :\n",
    "    print(\"dénutrition\")\n",
    "elif IMC < 18.5 :\n",
    "    print(\"maigreur\")\n",
    "elif IMC < 25 :\n",
    "    print(\"poids normal\")\n",
    "elif IMC < 30 :\n",
    "    print(\"surpoids\")\n",
    "elif IMC < 35 :\n",
    "    print(\"obésité modérée \")\n",
    "elif IMC < 40 :\n",
    "    print(\"obésité sévère \")\n",
    "else:\n",
    "    print(\"obésité morbide ou massive \")\n",
    "    "
   ]
  },
  {
   "cell_type": "markdown",
   "id": "d246dfe3",
   "metadata": {},
   "source": [
    "<b>Les boucles"
   ]
  },
  {
   "cell_type": "markdown",
   "id": "bc27f254",
   "metadata": {},
   "source": [
    "<b>Exercice 12: </b>La boucle conditionnelle non bornée While :<br>\n",
    "Les boucles permettent de répéter des blocs d'instructions.\n",
    "Lorsqu'on ne connaît pas le nombre de répétitions à effectuer, on utilise la boucle while associée à\n",
    "une variable de contrôle.Attention à bien vérifier que votre boucle finira par se terminer sinon votre\n",
    "programme rentrera dans une boucle infinie, et il faudra obligatoirement le stopper."
   ]
  },
  {
   "cell_type": "code",
   "execution_count": 34,
   "id": "c18492c4",
   "metadata": {},
   "outputs": [
    {
     "name": "stdout",
     "output_type": "stream",
     "text": [
      "entrer l’entier x ?2\n",
      "vous avez entré: 2\n",
      "entrez 12 si vous voulez sortir de la boucle while\n",
      "entrer l’entier x ?4\n",
      "vous avez entré: 4\n",
      "entrez 12 si vous voulez sortir de la boucle while\n",
      "entrer l’entier x ?12\n",
      "vous avez entré: 12\n"
     ]
    }
   ],
   "source": [
    "x=0\n",
    "while x != 12 :\n",
    "    x = int(input(\"entrer l’entier x ?\"))\n",
    "    print (\"vous avez entré:\",x)\n",
    "    if x != 12:\n",
    "        print (\"entrez 12 si vous voulez sortir de la boucle while\")"
   ]
  },
  {
   "cell_type": "code",
   "execution_count": 35,
   "id": "1576276d",
   "metadata": {},
   "outputs": [
    {
     "name": "stdout",
     "output_type": "stream",
     "text": [
      "x= 10\n",
      "x= 9\n",
      "x= 8\n",
      "x= 7\n",
      "x= 6\n",
      "x= 5\n",
      "x= 4\n",
      "x= 3\n",
      "x= 2\n",
      "x= 1\n",
      "x= 0\n"
     ]
    }
   ],
   "source": [
    "x = 10\n",
    "while x >= 0 :\n",
    "    print (\"x=\",x)\n",
    "    x = x - 1"
   ]
  },
  {
   "cell_type": "markdown",
   "id": "86ca48ec",
   "metadata": {},
   "source": [
    "<b>exercice 13 : </b>La boucle bornée for"
   ]
  },
  {
   "cell_type": "markdown",
   "id": "7af3fe2d",
   "metadata": {},
   "source": [
    "Lorsqu'on connaît le nombre de répétitions à effectuer, on utilise la boucle for associée à la fonction\n",
    "range()."
   ]
  },
  {
   "cell_type": "code",
   "execution_count": 36,
   "id": "e6c7092a",
   "metadata": {},
   "outputs": [
    {
     "name": "stdout",
     "output_type": "stream",
     "text": [
      "Bonjour numéro 3\n",
      "Bonjour numéro 4\n",
      "Bonjour numéro 5\n",
      "Bonjour numéro 6\n",
      "Bonjour numéro 7\n",
      "Bonjour numéro 8\n",
      "Bonjour numéro 9\n",
      "Bonjour numéro 10\n"
     ]
    }
   ],
   "source": [
    "print (\"Bonjour numéro 3\")\n",
    "print (\"Bonjour numéro 4\")\n",
    "print (\"Bonjour numéro 5\")\n",
    "print (\"Bonjour numéro 6\")\n",
    "print (\"Bonjour numéro 7\")\n",
    "print (\"Bonjour numéro 8\")\n",
    "print (\"Bonjour numéro 9\")\n",
    "print (\"Bonjour numéro 10\")"
   ]
  },
  {
   "cell_type": "code",
   "execution_count": 37,
   "id": "d848fde2",
   "metadata": {},
   "outputs": [
    {
     "name": "stdout",
     "output_type": "stream",
     "text": [
      "Bonjour numéro 3\n",
      "Bonjour numéro 4\n",
      "Bonjour numéro 5\n",
      "Bonjour numéro 6\n",
      "Bonjour numéro 7\n",
      "Bonjour numéro 8\n",
      "Bonjour numéro 9\n",
      "Bonjour numéro 10\n"
     ]
    }
   ],
   "source": [
    "# on remarque que pour aller jusque 10, on doit écrire le paramètre 11 dans la fonction range\n",
    "for i in range (3,11):\n",
    "    print(\"Bonjour numéro\",i)"
   ]
  },
  {
   "cell_type": "code",
   "execution_count": 38,
   "id": "3c898b92",
   "metadata": {},
   "outputs": [
    {
     "data": {
      "text/plain": [
       "range(3, 11)"
      ]
     },
     "execution_count": 38,
     "metadata": {},
     "output_type": "execute_result"
    }
   ],
   "source": [
    "range(3,11)"
   ]
  },
  {
   "cell_type": "code",
   "execution_count": null,
   "id": "479c921e",
   "metadata": {},
   "outputs": [],
   "source": [
    "#############################################################################################\n",
    "# C'est ici que vous expliquez ce qu'il s'est passé avec python et ce que vous avez compris #\n",
    "#############################################################################################\n",
    "# Le code est plus court quand on utilise une boucle\n",
    "# La boucle while se termine quand on entre la bonne réponse\n",
    "# La boucle for se termine après un certain nombre de répétition fixé à l'avance."
   ]
  },
  {
   "cell_type": "markdown",
   "id": "f4e85cc6",
   "metadata": {},
   "source": [
    "<b>exercice 14 : </b>Compléter les programme ci-dessous permettant de réaliser une caisse enregitreuse"
   ]
  },
  {
   "cell_type": "markdown",
   "id": "d4951dc9",
   "metadata": {},
   "source": [
    "On souhaite écrire un programme se comportant comme un caisse enregistreuse. Le programme\n",
    "demande d’abord le nombre d’articles achetés. Puis il demande le prix de chaque article et affiche le\n",
    "sous-total au fur et à mesure."
   ]
  },
  {
   "cell_type": "raw",
   "id": "d46b16d2",
   "metadata": {},
   "source": [
    "combien d articles ? : 3\n",
    "- Article numéro 1\n",
    "- prix ? : 5\n",
    "-----> Sous-total : 5.0\n",
    "- Article numéro 2\n",
    "- prix ? : 100\n",
    "-----> Sous-total : 105.0\n",
    "- Article numéro 3\n",
    "- prix ? : 52\n",
    "-----> Sous-total : 157.0\n",
    "Merci de votre Visite. A payer : 157.0"
   ]
  },
  {
   "cell_type": "code",
   "execution_count": 44,
   "id": "1b4135be",
   "metadata": {},
   "outputs": [
    {
     "name": "stdout",
     "output_type": "stream",
     "text": [
      "combien d'articles ? : 3\n",
      "Article numéro 1\n",
      "prix ?5\n",
      "=====> Sous-total :  5.0\n",
      "Article numéro 2\n",
      "prix ?100\n",
      "=====> Sous-total :  105.0\n",
      "Article numéro 3\n",
      "prix ?52\n",
      "=====> Sous-total :  157.0\n",
      "Merci de votre Visite. A payer : 157.0\n"
     ]
    }
   ],
   "source": [
    "nombre = int(input(\"combien d'articles ? : \"))\n",
    "soustotal = 0\n",
    "for n in range (1 , nombre + 1) :\n",
    "    print('Article numéro ' + str(n))\n",
    "    prix = float(input(\"prix ?\"))\n",
    "    soustotal = soustotal + prix\n",
    "    print(\"=====> Sous-total : \", soustotal)\n",
    "print (\"Merci de votre Visite. A payer : \" + str(soustotal))"
   ]
  },
  {
   "cell_type": "markdown",
   "id": "b6b3bdee",
   "metadata": {},
   "source": [
    "<b>exercice 15 : </b> Les fonctions :<br>\n",
    "Il arrive qu’un programme ait besoin d’utiliser plusieurs fois le même morceau de code. Il serait\n",
    "fastidieux de devoir le recopier plusieurs fois à l’identique. Pour simplifier la tâche, on écrit ce que\n",
    "l’on appelle une procédure. Elle contient le morceau de code en question. Une fois la procédure\n",
    "définie, on l’appelle autant de fois que nécessaire dans le programme."
   ]
  },
  {
   "cell_type": "markdown",
   "id": "91db982e",
   "metadata": {},
   "source": [
    "Les fonctions peuvent renvoyer une valeur grâce au mot-clé <b>return."
   ]
  },
  {
   "cell_type": "markdown",
   "id": "d9dbda15",
   "metadata": {},
   "source": [
    "<i>Remarques : Une fonction sans retour de donnée est une procédure. Il n’est pas possible de\n",
    "retourner plusieurs données."
   ]
  },
  {
   "cell_type": "code",
   "execution_count": 45,
   "id": "1708073b",
   "metadata": {},
   "outputs": [],
   "source": [
    "# le mot clé def sert à définir une fonction\n",
    "def routine():\n",
    "    print(\"voici une routine\")"
   ]
  },
  {
   "cell_type": "code",
   "execution_count": 46,
   "id": "c2d3cafe",
   "metadata": {},
   "outputs": [
    {
     "name": "stdout",
     "output_type": "stream",
     "text": [
      "voici une routine\n",
      "voici une routine\n",
      "voici une routine\n"
     ]
    }
   ],
   "source": [
    "routine()\n",
    "routine()\n",
    "routine()"
   ]
  },
  {
   "cell_type": "code",
   "execution_count": 47,
   "id": "381e8707",
   "metadata": {},
   "outputs": [
    {
     "name": "stdout",
     "output_type": "stream",
     "text": [
      "voici une routine\n",
      "voici une routine\n",
      "voici une routine\n"
     ]
    }
   ],
   "source": [
    "for i in range (3):\n",
    "    routine()"
   ]
  },
  {
   "cell_type": "code",
   "execution_count": 48,
   "id": "a18351cf",
   "metadata": {},
   "outputs": [
    {
     "data": {
      "text/plain": [
       "20"
      ]
     },
     "execution_count": 48,
     "metadata": {},
     "output_type": "execute_result"
    }
   ],
   "source": [
    "def unefonction(a,b):\n",
    "    return a + b - 15\n",
    "    \n",
    "unefonction(25,10)"
   ]
  },
  {
   "cell_type": "code",
   "execution_count": 49,
   "id": "b958629f",
   "metadata": {},
   "outputs": [
    {
     "name": "stdout",
     "output_type": "stream",
     "text": [
      "pour x =  0 y =  5\n",
      "pour x =  1 y =  7\n",
      "pour x =  2 y =  9\n",
      "pour x =  3 y =  11\n",
      "pour x =  4 y =  13\n",
      "pour x =  5 y =  15\n",
      "pour x =  6 y =  17\n",
      "pour x =  7 y =  19\n",
      "pour x =  8 y =  21\n",
      "pour x =  9 y =  23\n",
      "pour x =  10 y =  25\n",
      "pour x =  11 y =  27\n",
      "pour x =  12 y =  29\n",
      "pour x =  13 y =  31\n",
      "pour x =  14 y =  33\n",
      "pour x =  15 y =  35\n",
      "pour x =  16 y =  37\n",
      "pour x =  17 y =  39\n",
      "pour x =  18 y =  41\n",
      "pour x =  19 y =  43\n"
     ]
    }
   ],
   "source": [
    "def fonction_2x_plus5(x_passe_en_parametre):\n",
    "    \"\"\" Fonction qui retourne y=2x+5 \"\"\"\n",
    "    return 2 * x_passe_en_parametre + 5\n",
    "\n",
    "for x in range (20) :\n",
    "    print (\"pour x = \",x ,\"y = \", fonction_2x_plus5(x))"
   ]
  },
  {
   "cell_type": "code",
   "execution_count": 50,
   "id": "dc4227d3",
   "metadata": {},
   "outputs": [
    {
     "name": "stdout",
     "output_type": "stream",
     "text": [
      "mineur\n",
      "majeur\n"
     ]
    }
   ],
   "source": [
    "def fonction_majeur(age):\n",
    "    if age < 18 :\n",
    "        return \"mineur\"\n",
    "    else:\n",
    "        return \"majeur\"\n",
    "    \n",
    "print (fonction_majeur(12))\n",
    "print (fonction_majeur(18))"
   ]
  },
  {
   "cell_type": "markdown",
   "id": "8826f4c7",
   "metadata": {},
   "source": [
    "<b><u>à faire : </b></u>Coder une fonction qui retourne le prix d'une place de cinéma en fonction de l'age. 6€ si < 12ans , 8€ si < 17 ans et 12€ sinon."
   ]
  },
  {
   "cell_type": "code",
   "execution_count": 8,
   "id": "77d0c8f9",
   "metadata": {},
   "outputs": [
    {
     "name": "stdout",
     "output_type": "stream",
     "text": [
      "pour 5 ans, le prix est:\n",
      "6€\n",
      "pour 15 ans, le prix est:\n",
      "8€\n",
      "pour 25 ans, le prix est:\n",
      "12€\n"
     ]
    }
   ],
   "source": [
    "# votre code ici\n",
    "def prix_cinema(age):\n",
    "    if age < 12 :\n",
    "        print(\"6€\")\n",
    "    elif age < 17 :\n",
    "        print(\"8€\")\n",
    "    else:\n",
    "        print(\"12€\")\n",
    "        \n",
    "print(\"pour 5 ans, le prix est:\")\n",
    "prix_cinema(5)\n",
    "\n",
    "print(\"pour 15 ans, le prix est:\")\n",
    "prix_cinema(15)\n",
    "\n",
    "print(\"pour 25 ans, le prix est:\")\n",
    "prix_cinema(25)"
   ]
  },
  {
   "cell_type": "markdown",
   "id": "c6df03d7",
   "metadata": {},
   "source": [
    "![img](https://cdn.pixabay.com/photo/2012/04/11/17/29/toolbox-29058_960_720.png)"
   ]
  },
  {
   "cell_type": "markdown",
   "id": "9ea7d539",
   "metadata": {},
   "source": [
    "<b>Conclusion : </b>Vous avez maintenant une petite boite à outils pour commencer à programmer. Biensûr cette boite va s'enrichir petit à petit et tout au long de l'année. Nous allons parler d'internet, du WEB, des réseaux sociaux, des données en général et aussi de la photo et du GPS. Nous aurons besoin d'ajouter de nouveaux outils et même des nouveaux langages comme le HTML et le CSS qui vont vous servir à créer vos propres pages web et même notre site Web..."
   ]
  },
  {
   "cell_type": "markdown",
   "id": "2de5fe14",
   "metadata": {},
   "source": [
    "<H1>Rappel: ce travail est noté ET vous devez le montrer à votre professeur afin d'obtenir votre note."
   ]
  },
  {
   "cell_type": "code",
   "execution_count": null,
   "id": "0bdab8b7",
   "metadata": {},
   "outputs": [],
   "source": []
  }
 ],
 "metadata": {
  "kernelspec": {
   "display_name": "Python 3 (ipykernel)",
   "language": "python",
   "name": "python3"
  },
  "language_info": {
   "codemirror_mode": {
    "name": "ipython",
    "version": 3
   },
   "file_extension": ".py",
   "mimetype": "text/x-python",
   "name": "python",
   "nbconvert_exporter": "python",
   "pygments_lexer": "ipython3",
   "version": "3.8.10"
  }
 },
 "nbformat": 4,
 "nbformat_minor": 5
}
