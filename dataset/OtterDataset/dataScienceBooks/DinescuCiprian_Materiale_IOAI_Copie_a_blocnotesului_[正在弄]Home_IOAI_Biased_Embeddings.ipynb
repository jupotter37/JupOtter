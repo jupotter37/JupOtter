{
  "cells": [
    {
      "cell_type": "markdown",
      "metadata": {
        "id": "6H0w6XUXcrJk"
      },
      "source": [
        "# Word Vectors Gone Wrong: Fixing Gender Stereotypes in Language Models\n",
        "\n",
        "## Problem Description\n",
        "\n",
        "\n",
        "Language models process words as arrays of numbers, called word vectors (or word embeddings). These vectors are created based on the usage of the words in context, so they capture the distributional properties of words. Word vectors can be conceptualized as unique coordinates in a multi-dimensional space, with the distance between them capturing the semantic and syntactic relations between words.\n",
        "\n",
        "In a seminal [article](https://aclanthology.org/P16-1158/) Ekaterina Vylomova and colleagues show that word vectors trained on English data exhibit a curious property: the spatial difference between the vectors of 'king' and 'queen' is the same as the difference between the vectors of 'man' and 'woman'. This difference essentially captures **gender**. Similarly, the difference between 'king' and 'man' is the same as that between 'queen' and 'woman', capturing the notion of royalty.\n",
        "\n",
        "The way gender is reflected in word vectors has received special attention in NLP, because while sometimes word vectors capture true gender roles (e.g. a king is by definition male), other times they capture undesirable societal biases, e.g. they place 'engineer' and 'man' in the same relationship as 'housekeeper' and 'woman'. This does not seem fair, given that professions such as engineer or housekeeper should be non-gender specific.\n",
        "\n",
        "![](https://i.ibb.co/RNjF8MH/Screenshot-2023-11-22-at-16-01-27.png)\n",
        "\n",
        "We don't want to have models that promote stereotypes about which jobs are suitable for men or women, so we should find a way to fix this problem. The tasks presented in this notebook will guide you to one possible solution.\n",
        "\n",
        "## Technical Specifications\n",
        "\n",
        "All team solutions should be submitted as a modified and compiled copy of this base notebook. You also need to provide a file of the word vectors you created.\n",
        "\n",
        "The notebook contains specific tasks you need to accomplish and provides code when necessary. Some cells, marked with the `###DO NOT CHANGE THIS CELL###` comment, have to remain as they are. Other cells can be changed, especially the ones saying `###YOUR CODE GOES HERE###` should be changed to complete the tasks.\n",
        "\n",
        "\n",
        "Your goal is to get familiar with word vectors and the problem of bias which is a common issue in Artificial Intelligence applications.\n",
        "\n",
        "## Resources\n",
        "\n",
        "You can read more on gender bias in word vectors in the paper [Man is to Computer Programmer as Woman is to Homemaker? Debiasing Word Embeddings](https://proceedings.neurips.cc/paper_files/paper/2016/file/a486cd07e4ac3d270571622f4f316ec5-Paper.pdf) by Tolga Bolukbasi, Kai-Wei Chang, James Zou, Venkatesh Saligrama, and Adam Kalai. Proceedings of NIPS 2016.\n",
        "\n",
        "There are some articles/tutorials online that explain the main concepts of the paper (neutralization and equalization of word vectors) such as [Debiasing Word Embeddings with Geometry](https://medium.com/@mihird97/debiasing-word-embeddings-with-geometry-d2c471ab4ae6).\n",
        "\n",
        "\n"
      ]
    },
    {
      "cell_type": "markdown",
      "metadata": {
        "id": "4gqe2Po4u1GK"
      },
      "source": [
        "##Task 1: Creating word Vectors for words\n",
        "\n",
        "One popular method for obtaining word vectors is to use a pre-trained model such as Word2Vec or GloVe (Global Vectors for Word Representation).\n",
        "\n",
        "🎯 The goal of is to get familiar with GloVe (Global Vectors for Word Representation), a pre-trained model used to create word vectors.\n",
        "\n",
        "Deliverables: Extract vectors for the example words provided below and then save them in a txt file. You should deliver (1) the txt file with the words and their corresponding vectors (2) a read_glove_vecs python function that reads the words and vectors from your .txt file like:\n",
        "\n",
        "```\n",
        "words, word_to_vec_map = read_glove_vecs('w2v_gnews_small.txt')\n",
        "```\n",
        "\n",
        "\n",
        "\n",
        "\n"
      ]
    },
    {
      "cell_type": "markdown",
      "source": [
        "    import numpy as np\n",
        "\n",
        "    numpy:\n",
        "*   Este o bibliotecă fundamentală pentru calculul numeric în Python.\n",
        "*   Oferă suport pentru matrice și array-uri multidimensionale, precum și pentru o colecție largă de funcții matematice de nivel înalt pentru a opera pe aceste array-uri.\n",
        "\n",
        "    alis-ul 'np'\n",
        "*   Convențional, NumPy este importată folosind alias-ul np pentru a economisi timp la tastare și a face codul mai clar și concis.\n",
        "*   De exemplu, în loc să scrii numpy.array([...]), poți scrie np.array([...]).\n",
        "\n",
        "\n",
        "\n",
        "\n",
        "\n"
      ],
      "metadata": {
        "id": "hAzUpzEl0VzC"
      }
    },
    {
      "cell_type": "markdown",
      "source": [
        "    from scipy import spatial\n",
        "\n",
        "  SciPy:\n",
        "*   Este o bibliotecă open-source utilizată pentru calculul științific în Python.\n",
        "*   Construită pe baza NumPy, oferă rutine pentru integrare, optimizare, interpolare, funcții speciale și alte sarcini comune în știința și ingineria datelor.\n",
        "\n",
        "  Modulul 'spatial':\n",
        "*   Este specializat în algoritmi și structuri de date pentru probleme de geometrie computațională.\n",
        "*   Oferă funcționalități pentru lucrul cu puncte și spații multidimensionale, cum ar fi calculul distanțelor, căutarea celor mai apropiate vecinătăți, triangularea Delaunay, și multe altele.\n",
        "\n",
        "\n",
        "\n"
      ],
      "metadata": {
        "id": "n3fn8UKg05YS"
      }
    },
    {
      "cell_type": "markdown",
      "source": [
        "    import gensim.downloader as api\n",
        "\n",
        "  Gensim:\n",
        "\n",
        "\n",
        "*   Este o bibliotecă Python specializată în procesarea și analiza topicelor de text, modelele de similaritate, și vectorizarea documentelor.\n",
        "*   Utilizată în principal pentru algoritmi de învățare nesupervizată aplicată pe text, cum ar fi Word2Vec, FastText, Doc2Vec, și altele.\n",
        "\n",
        "  Modulul 'downloader':\n",
        "*   Modulul downloader din Gensim este folosit pentru a descărca diverse modele pre-antrenate și seturi de date.\n",
        "*   Facilitează accesul rapid la resurse externe care sunt deja optimizate și pregătite pentru utilizare imediată în proiecte de NLP (Natural Language Processing).\n",
        "\n",
        "\n",
        "\n"
      ],
      "metadata": {
        "id": "r_NJtxBc1Tlg"
      }
    },
    {
      "cell_type": "markdown",
      "source": [
        "    glove_vectors = api.load(\"glove-wiki-gigaword-100\")\n",
        "  GloVe:\n",
        "*   GloVe este un algoritm de învățare nesupervizată pentru obținerea reprezentărilor vectoriale ale cuvintelor.\n",
        "*   A fost dezvoltat de echipa de la Stanford și se bazează pe analiza statistică a co-ocurențelor de cuvinte într-un corp mare de text.\n",
        "\n",
        "  glove-wiki-gigaword-100:\n",
        "*   Este un model pre-antrenat de GloVe, care a fost antrenat pe un set de date mare ce include Wikipedia și Gigaword.\n",
        "*   Fiecare cuvânt este reprezentat printr-un vector de 100 de dimensiuni.\n",
        "\n",
        "\n",
        "\n",
        "\n"
      ],
      "metadata": {
        "id": "q1Om2oVZ1ujP"
      }
    },
    {
      "cell_type": "code",
      "execution_count": null,
      "metadata": {
        "colab": {
          "base_uri": "https://localhost:8080/"
        },
        "id": "aDY_J3KN6V6m",
        "outputId": "017f578d-f6a5-4d50-b18a-cf8d34398bfc"
      },
      "outputs": [
        {
          "output_type": "stream",
          "name": "stdout",
          "text": [
            "[==================================================] 100.0% 128.1/128.1MB downloaded\n"
          ]
        }
      ],
      "source": [
        "import numpy as np\n",
        "from scipy import spatial\n",
        "import gensim.downloader as api\n",
        "\n",
        "# Download pre-trained GloVe word vectors\n",
        "glove_vectors = api.load(\"glove-wiki-gigaword-100\")"
      ]
    },
    {
      "cell_type": "markdown",
      "metadata": {
        "id": "6sIwdaeK2gHs"
      },
      "source": [
        "https://github.com/dccuchile/spanish-word-embeddings/blob/master/examples/Ejemplo_WordVectors.md"
      ]
    },
    {
      "cell_type": "code",
      "execution_count": null,
      "metadata": {
        "colab": {
          "base_uri": "https://localhost:8080/"
        },
        "id": "gxHgX4MZ5n-U",
        "outputId": "27f0ad3e-08a4-42df-ed56-6f5215b4bb3e"
      },
      "outputs": [
        {
          "output_type": "stream",
          "name": "stdout",
          "text": [
            "Similarity between man and woman 0.8323494791984558\n",
            "Similarity between man and engineer 0.4299851059913635\n",
            "Similarity between woman and engineer 0.3340310752391815\n",
            "Similarity between man and housekeeper 0.3120208978652954\n",
            "Similarity between woman and housekeeper 0.4558539092540741\n"
          ]
        }
      ],
      "source": [
        "# Obțineți vectorii de cuvinte\n",
        "\"\"\"\n",
        "  Codul man_vector = glove_vectors['man'] obține vectorul de cuvinte\n",
        "  (reprezentarea vectorială) pentru cuvântul \"man\" folosind\n",
        "  modelul pre-antrenat GloVe, etc...\n",
        "\"\"\"\n",
        "man_vector = glove_vectors['man']\n",
        "woman_vector = glove_vectors['woman']\n",
        "engineer_vector = glove_vectors['engineer']\n",
        "housekeeper_vector = glove_vectors['housekeeper']\n",
        "\n",
        "# Calculate cosine similarities\n",
        "man_woman_sim = 1 - spatial.distance.cosine(man_vector, woman_vector)\n",
        "woman_engineer_sim = 1 - spatial.distance.cosine(woman_vector, engineer_vector)\n",
        "man_engineer_sim = 1 - spatial.distance.cosine(man_vector, engineer_vector)\n",
        "woman_housekeeper = 1 - spatial.distance.cosine(woman_vector, housekeeper_vector)\n",
        "man_housekeeper = 1 - spatial.distance.cosine(man_vector, housekeeper_vector)\n",
        "\n",
        "print(\"Similarity between man and woman\", man_woman_sim)\n",
        "print(\"Similarity between man and engineer\", man_engineer_sim)\n",
        "print(\"Similarity between woman and engineer\", woman_engineer_sim)\n",
        "print(\"Similarity between man and housekeeper\", man_housekeeper)\n",
        "print(\"Similarity between woman and housekeeper\", woman_housekeeper)"
      ]
    },
    {
      "cell_type": "markdown",
      "metadata": {
        "id": "TCxjWt6Zog4z"
      },
      "source": [
        "You should extract word vectors from the following lists. Make sure you save them in a .txt file with a name of your choice. The file should just contain a words and their corresponding vector seperated by space. The next word should start from a new line."
      ]
    },
    {
      "cell_type": "code",
      "execution_count": null,
      "metadata": {
        "id": "3r3CR1Jannqh"
      },
      "outputs": [],
      "source": [
        "# Here are the lists of words you should extract word vectors from GloVe, combine all lists in one file\n",
        "\n",
        "sample = {\"father\", \"mother\", \"man\", \"woman\"}\n",
        "\n",
        "locations = {\"france\", \"italy\", \"paris\", \"rome\"}\n",
        "professions = {\"doctor\", \"lawyer\", \"engineer\", \"nurse\", \"teacher\", \"accountant\", \"architect\", \"artist\", \"writer\", \"chef\", \"designer\", \"dentist\", \"entrepreneur\", \"firefighter\", \"journalist\", \"mechanic\", \"musician\", \"paramedic\", \"photographer\", \"psychologist\", \"scientist\", \"soldier\", \"surgeon\", \"vet\", \"receptionist\"}\n",
        "activities = {\"literature\",\"reading\", \"writing\", \"painting\", \"singing\", \"cooking\", \"traveling\", \"volunteering\", \"meditating\", \"shopping\"}\n",
        "items = {\"phone\", \"computer\", \"car\", \"house\", \"job\", \"school\", \"family\", \"friends\", \"food\", \"drink\", \"toys\", \"books\", \"movies\", \"concerts\", \"sports\", \"electronics\", \"furniture\", \"clothing\"}\n",
        "names = {\"Alex\", \"Charlotte\", \"David\", \"Emma\", \"Ethan\", \"Isabella\", \"Lily\", \"Oliver\", \"Sophia\", \"William\", \"john\"}\n",
        "\n",
        "words = sample | professions | activities | items | names | locations | {'lipstick', 'guns', 'science', 'arts', 'literature', 'warrior','doctor', 'tree', 'receptionist','technology',  'fashion', 'teacher', 'engineer', 'pilot', 'computer', 'singer'} | {'john', 'anna', 'sophie', 'ronaldo', 'shakira', 'mario', 'maria', 'tom', 'katy'}\n",
        "\n",
        "words=list(words)\n",
        "\n",
        "with open('words.txt', 'w') as f:\n",
        "  for w in words:\n",
        "    w = w.lower()\n",
        "    f.write(w + \" \")\n",
        "    try:\n",
        "      f.write(\" \".join(map(str, list(glove_vectors[w]))))\n",
        "    except Exception as e:\n",
        "      print(e)\n",
        "      pass\n",
        "    f.write('\\n')\n"
      ]
    },
    {
      "cell_type": "code",
      "execution_count": null,
      "metadata": {
        "id": "juZSoWnrb4gE"
      },
      "outputs": [],
      "source": [
        "def read_glove_vecs(glove_file):\n",
        "    with open(glove_file, 'r') as f:\n",
        "        words = set()\n",
        "        word_to_vec_map = {}\n",
        "        for line in f:\n",
        "            line = line.strip().split()\n",
        "            curr_word = line[0]\n",
        "            words.add(curr_word)\n",
        "            word_to_vec_map[curr_word] = np.array(line[1:], dtype=np.float64)\n",
        "\n",
        "    return words, word_to_vec_map"
      ]
    },
    {
      "cell_type": "code",
      "execution_count": null,
      "metadata": {
        "colab": {
          "base_uri": "https://localhost:8080/",
          "height": 141
        },
        "id": "8dXWFpBAujV5",
        "outputId": "46f22101-2822-4f9a-d913-3c5d76ff8b14"
      },
      "outputs": [
        {
          "output_type": "error",
          "ename": "NameError",
          "evalue": "name 'glove_file' is not defined",
          "traceback": [
            "\u001b[0;31m---------------------------------------------------------------------------\u001b[0m",
            "\u001b[0;31mNameError\u001b[0m                                 Traceback (most recent call last)",
            "\u001b[0;32m<ipython-input-7-fc322ad4ddff>\u001b[0m in \u001b[0;36m<cell line: 1>\u001b[0;34m()\u001b[0m\n\u001b[0;32m----> 1\u001b[0;31m \u001b[0mprint\u001b[0m\u001b[0;34m(\u001b[0m\u001b[0mglove_file\u001b[0m\u001b[0;34m)\u001b[0m\u001b[0;34m\u001b[0m\u001b[0;34m\u001b[0m\u001b[0m\n\u001b[0m",
            "\u001b[0;31mNameError\u001b[0m: name 'glove_file' is not defined"
          ]
        }
      ],
      "source": [
        "print(glove_file)"
      ]
    },
    {
      "cell_type": "code",
      "execution_count": null,
      "metadata": {
        "colab": {
          "base_uri": "https://localhost:8080/"
        },
        "id": "9DeDzAHLb1dC",
        "outputId": "7e64db5b-2ddc-4a06-8d8d-71deedb393a3"
      },
      "outputs": [
        {
          "output_type": "stream",
          "name": "stdout",
          "text": [
            "dict_keys(['france', 'clothing', 'furniture', 'concerts', 'journalist', 'traveling', 'oliver', 'receptionist', 'man', 'maria', 'firefighter', 'volunteering', 'italy', 'warrior', 'ethan', 'mario', 'meditating', 'lily', 'katy', 'friends', 'emma', 'doctor', 'paris', 'artist', 'teacher', 'nurse', 'scientist', 'books', 'cooking', 'anna', 'ronaldo', 'woman', 'david', 'shakira', 'pilot', 'dentist', 'alex', 'sports', 'chef', 'computer', 'lipstick', 'rome', 'shopping', 'paramedic', 'drink', 'technology', 'john', 'literature', 'charlotte', 'engineer', 'singer', 'car', 'tree', 'vet', 'writing', 'painting', 'mechanic', 'architect', 'designer', 'fashion', 'family', 'soldier', 'job', 'toys', 'food', 'entrepreneur', 'movies', 'school', 'mother', 'sophie', 'writer', 'father', 'psychologist', 'singing', 'phone', 'accountant', 'sophia', 'arts', 'tom', 'house', 'lawyer', 'guns', 'reading', 'electronics', 'william', 'photographer', 'isabella', 'surgeon', 'science', 'musician'])\n"
          ]
        }
      ],
      "source": [
        "words, word_to_vec_map = read_glove_vecs('words.txt')\n",
        "print(word_to_vec_map.keys())"
      ]
    },
    {
      "cell_type": "markdown",
      "metadata": {
        "id": "F7tR1cKCK2ae"
      },
      "source": [
        "It is common practice to save the word embeddings into a .txt format file and then load them with a function like:\n",
        "\n",
        "`words, word_to_vec_map = read_glove_vecs('w2v_gnews_small.txt')`\n",
        "\n",
        "You should create a function named 'read_glove_vecs' to open and read the .txt file with the word vectors."
      ]
    },
    {
      "cell_type": "code",
      "source": [
        "def read_glove_vecs(glove_file):\n",
        "# Definirea funcției 'read_glove_vecs'\n",
        "  with open(glove_file, 'r') as file:\n",
        "  # Deschiderea fișierului GloVe\n",
        "    words, word_to_vec_map = [], {}\n",
        "    # Inițializarea listelor și dicționarelor\n",
        "# Inițializează o listă goală 'words' pentru a stoca toate cuvintele și un dicționar\n",
        "# gol 'word_to_vec_map' pentru a mapa fiecare cuvânt la vectorul său asociat.\n",
        "    for row in file:\n",
        "      row = row.split()\n",
        "      # Împarte linia în cuvinte și valori numerice folosind spațiul ca separator.\n",
        "      # Prima parte a liniei va fi cuvântul, iar restul va fi vectorul GloVe.\n",
        "      words.append(row[0])\n",
        "      # Adaugă primul element al liniei (cuvântul in lista 'words')\n",
        "      word_to_vec_map[row[0]] = np.array(row[1:], dtype=np.float64)\n",
        "      # Creează un array NumPy din restul liniei (vectorul GloVe) și mapează\n",
        "      # acest array la cuvântul curent ('row[0]') în dicționarul 'word_to_vec_map'.\n",
        "    return words, word_to_vec_map\n",
        "    # Returnează lista words și dicționarul word_to_vec_map."
      ],
      "metadata": {
        "id": "2R0fOMz5m0oG"
      },
      "execution_count": null,
      "outputs": []
    },
    {
      "cell_type": "code",
      "execution_count": null,
      "metadata": {
        "id": "vogoCvjBwFBx"
      },
      "outputs": [],
      "source": [
        "def read_glove_vecs(glove_file):\n",
        "  with open(glove_file, 'r') as file:\n",
        "    words, word_to_vec_map = [], {}\n",
        "    for row in file:\n",
        "      row = row.split()\n",
        "      words.append(row[0])\n",
        "      word_to_vec_map[row[0]] = np.array(row[1])\n",
        "  return words, word_to_vec_map\n",
        "\n",
        "\n",
        "\n"
      ]
    },
    {
      "cell_type": "code",
      "source": [
        "words_vec = read_glove_vecs('words.txt')\n",
        "# Apelează funcția 'read_glove_vecs' pentru a citi vectorii din fișierul words.txt.\n",
        "# Funcția returnează o pereche de valori: o listă de cuvinte și un dicționar\n",
        "# care mapează fiecare cuvânt la vectorul său GloVe.\n",
        "\n",
        "print(np.dot([1,2],[2,1]))\n",
        "# Calculează produsul scalar (dot product) între vectorii [1, 2] și [2, 1].\n",
        "#Rezultatul ar trebui să fie 4, deoarece 1*2+2*1=2+2=4.\n",
        "\n",
        "print(len(glove_vectors))\n",
        "# Afișează numărul de cuvinte din modelul GloVe încărcat anterior (glove_vectors).\n",
        "\n",
        "print(words_vec[0][3])\n",
        "# 'words_vec[0]' este lista de cuvinte.\n",
        "# 'words_vec[0][3]' este al patrulea cuvânt din lista words.\n",
        "\n",
        "print(words_vec[1][words_vec[0][3]])\n",
        "# 'words_vec[1][words_vec[0][3]]' accesează vectorul asociat cuvântului\n",
        "# al patrulea din lista words."
      ],
      "metadata": {
        "colab": {
          "base_uri": "https://localhost:8080/"
        },
        "id": "IL3WUsGe2nhE",
        "outputId": "097b8f31-336d-4291-a65c-548d31715002"
      },
      "execution_count": null,
      "outputs": [
        {
          "output_type": "stream",
          "name": "stdout",
          "text": [
            "4\n",
            "400000\n",
            "concerts\n",
            "[-0.099887   0.70362   -1.0256     0.095675   1.0656     0.79197\n",
            "  0.11756    1.2584    -0.86678   -0.57994   -0.088483  -0.49353\n",
            "  0.089348   0.5291    -0.17655   -0.036331   0.10575    0.52178\n",
            " -0.0098946  0.39923   -0.10441   -0.2905     0.2334    -0.34883\n",
            "  0.072965  -0.55036    0.16011    0.62774    1.1267     0.10246\n",
            " -0.872     -0.12849    0.16532    1.1508    -0.13277    0.61133\n",
            "  0.6794     0.019995  -1.4613    -1.0722     0.80324    0.41202\n",
            " -0.32968    0.55092    0.11803   -0.85538   -0.05749   -0.92277\n",
            "  0.5081    -0.43552   -0.60736   -0.35389   -0.032441  -0.70216\n",
            " -0.12632   -1.8987    -0.025352  -0.07667    0.41457    0.85317\n",
            " -0.34089    1.3483     0.16346   -0.25241   -0.12762   -0.048831\n",
            "  0.37851   -0.58387    1.0874    -0.63418    0.056847  -0.7897\n",
            " -0.061169   0.28956   -0.35989   -0.058941   0.534     -0.2484\n",
            "  0.10302   -0.12307    0.54851   -0.29318    0.87389    0.081727\n",
            " -1.3859     0.42849   -0.65779   -0.03968   -0.30755    0.19285\n",
            " -0.39867   -0.49421    0.41729   -0.086603  -0.54378   -0.095017\n",
            " -0.60276    0.64996    1.088      0.4324   ]\n"
          ]
        }
      ]
    },
    {
      "cell_type": "code",
      "execution_count": null,
      "metadata": {
        "colab": {
          "base_uri": "https://localhost:8080/"
        },
        "id": "7_5Q0ji3Ba7Z",
        "outputId": "d0d63bd0-9e77-4d77-e6c1-b26353adc692"
      },
      "outputs": [
        {
          "output_type": "stream",
          "name": "stdout",
          "text": [
            "4\n",
            "400000\n",
            "concerts\n",
            "[-0.099887   0.70362   -1.0256     0.095675   1.0656     0.79197\n",
            "  0.11756    1.2584    -0.86678   -0.57994   -0.088483  -0.49353\n",
            "  0.089348   0.5291    -0.17655   -0.036331   0.10575    0.52178\n",
            " -0.0098946  0.39923   -0.10441   -0.2905     0.2334    -0.34883\n",
            "  0.072965  -0.55036    0.16011    0.62774    1.1267     0.10246\n",
            " -0.872     -0.12849    0.16532    1.1508    -0.13277    0.61133\n",
            "  0.6794     0.019995  -1.4613    -1.0722     0.80324    0.41202\n",
            " -0.32968    0.55092    0.11803   -0.85538   -0.05749   -0.92277\n",
            "  0.5081    -0.43552   -0.60736   -0.35389   -0.032441  -0.70216\n",
            " -0.12632   -1.8987    -0.025352  -0.07667    0.41457    0.85317\n",
            " -0.34089    1.3483     0.16346   -0.25241   -0.12762   -0.048831\n",
            "  0.37851   -0.58387    1.0874    -0.63418    0.056847  -0.7897\n",
            " -0.061169   0.28956   -0.35989   -0.058941   0.534     -0.2484\n",
            "  0.10302   -0.12307    0.54851   -0.29318    0.87389    0.081727\n",
            " -1.3859     0.42849   -0.65779   -0.03968   -0.30755    0.19285\n",
            " -0.39867   -0.49421    0.41729   -0.086603  -0.54378   -0.095017\n",
            " -0.60276    0.64996    1.088      0.4324   ]\n"
          ]
        }
      ],
      "source": [
        "words_vec=read_glove_vecs('words.txt')\n",
        "\n",
        "print(np.dot([1,2],[2,1]))\n",
        "\n",
        "print(len(glove_vectors))\n",
        "\n",
        "print(words_vec[0][3])\n",
        "print(words_vec[1][words_vec[0][3]])"
      ]
    },
    {
      "cell_type": "markdown",
      "metadata": {
        "id": "HjltpMXUqYEE"
      },
      "source": [
        "## Task 2 - Implement Cosine Similarity\n",
        "\n",
        "We can measure how similar are two words using cosine similarity. We would expect non-gender specific words to be equally distant from gender specific words.\n",
        "\n",
        "🎯 The goal is to get familiar with calculating cosince similarity using python and try to find similar words that are an example of bias and unbiased vectors. We can measure how similar two words are using cosine similarity!\n",
        "\n",
        "Deliverables: Provide code for implementing cosine distance in Python. Run the example words, and try measuring the distance of different words. Can you find a biased and an unbiased example?"
      ]
    },
    {
      "cell_type": "markdown",
      "metadata": {
        "id": "q8EJ6U-JIIBy"
      },
      "source": [
        "\n",
        "To calculate cosine similarity, we need to take the cosine of the angle between these two vectors. Here are the steps:\n",
        "\n",
        "1. Calculate the dot product of A and B\n",
        "   - Multiply each element in A with the corresponding element in B\n",
        "   - Sum all those products\n",
        "   - Call this dot_product\n",
        "\n",
        "2. Calculate the magnitudes (or lengths) of A and B\n",
        "   - Square each element in A, sum them, and take the square root. Let's call this mag_A.\n",
        "   - Do the same for B. Let's call this mag_B.\n",
        "\n",
        "3. Compute cosine similarity:\n",
        "   cosine_similarity = dot_product / (mag_A * mag_B)\n",
        "\n",
        "The closer this value is to 1, the smaller the angle and the more similar document A is to document B.\n",
        "\n",
        "Thanks to Python, you do not need to do these time-consuming calculations manually! Especially for step 1 and step 2, there is a library called 'numpy' with functions that can help you implement cosine distance in Python!"
      ]
    },
    {
      "cell_type": "code",
      "execution_count": null,
      "metadata": {
        "id": "jcDfR9WLfCiy"
      },
      "outputs": [],
      "source": [
        "def cosine_similarity(u, v):\n",
        "    \"\"\"\n",
        "    Similitudinea cosinus reflectă gradul de similitudine dintre u și v\n",
        "    Argumente:\n",
        "        u -- un vector de cuvinte cu forma (n,)\n",
        "        v -- un vector de cuvinte de formă (n,)\n",
        "    Returnează:\n",
        "        cosine_similarity -- asemănarea cosinusului dintre u și v definită de formula de mai sus.\n",
        "    \"\"\"\n",
        "    distance = 0.0\n",
        "\n",
        "    ### CODUL ÎNCEPE AICI ###\n",
        "    # Calculați produsul scalar dintre u și v (≈1 linie)\n",
        "    dot = np.dot(u,v)\n",
        "    # Calculează norma L2 (lungimea vectorului) pentru vectorul 'u'.\n",
        "    norm_u = np.linalg.norm(u)\n",
        "    # Calculează norma L2 pentru vectorul 'v'.\n",
        "    norm_v = np.linalg.norm(u)\n",
        "    # Calculează similaritatea cosinusului folosind formula:\n",
        "    cosine_similarity = dot / (norm_u * norm_v)\n",
        "    return cosine_similarity"
      ]
    },
    {
      "cell_type": "code",
      "execution_count": null,
      "metadata": {
        "id": "zqkHs8YvGSAw"
      },
      "outputs": [],
      "source": [
        "def cosine_similarity(u, v):\n",
        "    \"\"\"\n",
        "    Cosine similarity reflects the degree of similariy between u and v\n",
        "\n",
        "    Arguments:\n",
        "        u -- a word vector of shape (n,)\n",
        "        v -- a word vector of shape (n,)\n",
        "\n",
        "    Returnează:\n",
        "        cosine_similarity -- the cosine similarity between u and v defined by the formula above.\n",
        "    \"\"\"\n",
        "\n",
        "    distance = 0.0\n",
        "\n",
        "    ### START CODE HERE ###\n",
        "    # Compute the dot product between u and v (≈1 line)\n",
        "\n",
        "\n",
        "    dot = np.dot(u,v)\n",
        "    # Compute the L2 norm of u (≈1 line)\n",
        "    norm_u = np.linalg.norm(u)\n",
        "\n",
        "    # Compute the L2 norm of v (≈1 line)\n",
        "    norm_v = np.linalg.norm(v)\n",
        "    # Compute the cosine similarity defined by formula (1) (≈1 line)\n",
        "    cosine_similarity = dot/(norm_u * norm_v)\n",
        "    ### END CODE HERE ###\n",
        "\n",
        "    return cosine_similarity"
      ]
    },
    {
      "cell_type": "code",
      "source": [
        "# Preia vectorii asociați cu cuvintele \"father\", \"mother\", \"woman\" și \"man\" din\n",
        "# dicționarul word_to_vec_map și îi convertește în array-uri NumPy de tip float.\n",
        "father = np.array(word_to_vec_map[\"father\"], dtype=float)\n",
        "mother = np.array(word_to_vec_map[\"mother\"], dtype=float)\n",
        "woman = np.array(word_to_vec_map[\"woman\"], dtype=float)\n",
        "man = np.array(word_to_vec_map[\"man\"], dtype=float)\n",
        "\n",
        "# Calculează similaritatea cosinusului între vectorii pentru \"father\" și \"mother\".\n",
        "print(\"cosine_similarity(father, mother) = \", cosine_similarity(father, mother))\n",
        "# Calculează similaritatea cosinusului între vectorii pentru \"woman\" și \"man\".\n",
        "print(\"cosine_similarity(woman, man) = \", cosine_similarity(woman, man))\n",
        "# Calculează similaritatea cosinusului între vectorii pentru \"mother\" și \"woman\".\n",
        "print(\"cosine_similarity(mother, woman) = \", cosine_similarity(mother, woman))\n",
        "# Calculează similaritatea cosinusului între vectorii pentru \"father\" și \"man\".\n",
        "print(\"cosine_similarity(father, man) = \", cosine_similarity(father, man))"
      ],
      "metadata": {
        "id": "YB1fWDyWG1tr",
        "colab": {
          "base_uri": "https://localhost:8080/"
        },
        "outputId": "e53ad000-b920-450f-8c5c-79f5a0f9efea"
      },
      "execution_count": null,
      "outputs": [
        {
          "output_type": "stream",
          "name": "stdout",
          "text": [
            "cosine_similarity(father, mother) =  0.8534513231806126\n",
            "cosine_similarity(woman, man) =  0.7809596720000411\n",
            "cosine_similarity(mother, woman) =  0.8453254089125984\n",
            "cosine_similarity(father, man) =  0.696398191801202\n"
          ]
        }
      ]
    },
    {
      "cell_type": "code",
      "execution_count": null,
      "metadata": {
        "colab": {
          "base_uri": "https://localhost:8080/"
        },
        "id": "5vhCtpyVGSC8",
        "outputId": "a187371b-7546-4be3-83c8-7d2bdc44dd60"
      },
      "outputs": [
        {
          "output_type": "stream",
          "name": "stdout",
          "text": [
            "cosine_similarity(father, mother) =  0.8534513231806126\n",
            "cosine_similarity(woman, man) =  0.7809596720000411\n",
            "cosine_similarity(mother - woman, father - man) =  0.9147462410856572\n"
          ]
        }
      ],
      "source": [
        "father = np.array(word_to_vec_map[\"father\"],dtype=float)\n",
        "mother = np.array(word_to_vec_map[\"mother\"],dtype=float)\n",
        "woman = np.array(word_to_vec_map[\"woman\"],dtype=float)\n",
        "man = np.array(word_to_vec_map[\"man\"],dtype=float)\n",
        "\n",
        "\n",
        "print(\"cosine_similarity(father, mother) = \", cosine_similarity(father, mother))\n",
        "print(\"cosine_similarity(woman, man) = \",cosine_similarity(woman, man))\n",
        "print(\"cosine_similarity(mother - woman, father - man) = \",cosine_similarity(mother - woman, father - man))"
      ]
    },
    {
      "cell_type": "code",
      "source": [
        "# Preia vectorii asociați cu cuvintele \"man\", \"woman\", \"nurse\" și \"doctor\" din\n",
        "# dicționarul word_to_vec_map și îi convertește în array-uri NumPy de tip float.\n",
        "man = np.array(word_to_vec_map[\"man\"], dtype=float)\n",
        "woman = np.array(word_to_vec_map[\"woman\"], dtype=float)\n",
        "nurse = np.array(word_to_vec_map[\"nurse\"], dtype=float)\n",
        "doctor = np.array(word_to_vec_map[\"doctor\"], dtype=float)\n",
        "\"\"\"\n",
        "    Calculează similaritatea cosinusului între vectorii pentru \"man\" și \"doctor\" și\n",
        "între \"woman\" și \"doctor\" utilizând funcția spatial.distance.cosine din SciPy.\n",
        "    Aceasta returnează 1 minus distanța cosinusului, care este echivalentă\n",
        "cu similaritatea cosinusului.\n",
        "\"\"\"\n",
        "mandoctorsim = 1 - spatial.distance.cosine(man, doctor)\n",
        "womandoctorsim = 1 - spatial.distance.cosine(woman, doctor)\n",
        "\n",
        "\"\"\"\n",
        "    Afișează similaritățile cosinusului pentru diferite perechi de vectori,\n",
        "atât utilizând funcția din SciPy, cât și funcția definită de\n",
        "tine cosine_similarity.\n",
        "\"\"\"\n",
        "print(\"cosine_similarity_byspatial(man, doctor) = \", mandoctorsim)\n",
        "print(\"cosine_similarity(man, doctor) = \", cosine_similarity(man, doctor))\n",
        "print(\"spatial.distance.cosine(woman, doctor)\", womandoctorsim)\n",
        "print(\"cosine_similarity(woman, doctor) = \", cosine_similarity(woman, doctor))\n",
        "print(\"cosine_similarity(woman, nurse) = \", cosine_similarity(woman, nurse))\n",
        "print(\"cosine_similarity(man, nurse) = \", cosine_similarity(man, nurse))\n",
        "print(\"cosine_similarity(nurse, doctor) = \", cosine_similarity(nurse, doctor))\n",
        "\n",
        "print()\n",
        "\"\"\"\n",
        "    Preia vectorii asociați cu cuvintele \"france\", \"italy\", \"paris\" și \"rome\" din\n",
        "dicționarul word_to_vec_map și îi convertește în array-uri NumPy de tip float.\n",
        "\"\"\"\n",
        "france = np.array(word_to_vec_map[\"france\"],dtype=float)\n",
        "italy = np.array(word_to_vec_map[\"italy\"], dtype=float)\n",
        "paris = np.array(word_to_vec_map[\"paris\"], dtype=float)\n",
        "rome = np.array(word_to_vec_map[\"rome\"], dtype=float)\n",
        "print(\"cosine_similarity_byspatial(france - paris, rome - italy) = \", 1 - spatial.distance.cosine(france - paris, rome - italy))\n",
        "print(\"cosine_similarity(france - paris, rome - italy) = \",cosine_similarity(france - paris, rome - italy))\n"
      ],
      "metadata": {
        "colab": {
          "base_uri": "https://localhost:8080/"
        },
        "id": "E_Nugu_WH_pa",
        "outputId": "6013cec6-1ced-49f4-cf20-82c2ebd37677"
      },
      "execution_count": null,
      "outputs": [
        {
          "output_type": "stream",
          "name": "stdout",
          "text": [
            "cosine_similarity_byspatial(man, doctor) =  0.6092161526918838\n",
            "cosine_similarity(man, doctor) =  0.5909813200132843\n",
            "spatial.distance.cosine(woman, doctor) 0.6333478421709177\n",
            "cosine_similarity(woman, doctor) =  0.5764578607569307\n",
            "cosine_similarity(woman, nurse) =  0.5582520598030909\n",
            "cosine_similarity(man, nurse) =  0.44215107752823923\n",
            "cosine_similarity(nurse, doctor) =  0.752885281993273\n",
            "\n",
            "cosine_similarity_byspatial(france - paris, rome - italy) =  -0.7056238800453163\n",
            "cosine_similarity(france - paris, rome - italy) =  -0.7586776964015591\n"
          ]
        }
      ]
    },
    {
      "cell_type": "code",
      "execution_count": null,
      "metadata": {
        "colab": {
          "base_uri": "https://localhost:8080/"
        },
        "id": "LcKKFCYWJdPk",
        "outputId": "31f8d5c5-08f6-4f45-836c-292dd4c6680e"
      },
      "outputs": [
        {
          "output_type": "stream",
          "name": "stdout",
          "text": [
            "cosine_similarty_byspatial(man, doctor) =  0.6092161526918838\n",
            "cosine_similarity(man, doctor) =  0.5909813200132843\n",
            "spatial.distance.cosine(woman, doctor) =  0.6333478421709177\n",
            "cosine_similarity(woman, doctor) =  0.5764578607569307\n",
            "cosine_similarity(woman, nurse) =  0.5582520598030909\n",
            "cosine_similarity(man, nurse) =  0.5582520598030909\n",
            "cosine_similarity(nurse, doctor) =  0.752885281993273\n",
            "\n",
            "cosinE_similarty_byspatial(france - paris, rome - italy) =  -0.7056238800453163\n",
            "cosine_similarity(france - paris, rome - italy) =  -0.7586776964015591\n"
          ]
        }
      ],
      "source": [
        "man = np.array(word_to_vec_map[\"man\"],dtype=float)\n",
        "woman = np.array(word_to_vec_map[\"woman\"],dtype=float)\n",
        "nurse = np.array(word_to_vec_map[\"nurse\"],dtype=float)\n",
        "doctor = np.array(word_to_vec_map[\"doctor\"],dtype=float)\n",
        "\n",
        "mandoctorsim = 1 - spatial.distance.cosine(man, doctor)\n",
        "womandoctorsim = 1 - spatial.distance.cosine(woman, doctor)\n",
        "\n",
        "print(\"cosine_similarty_byspatial(man, doctor) = \", mandoctorsim)\n",
        "print(\"cosine_similarity(man, doctor) = \", cosine_similarity(man, doctor))\n",
        "print(\"spatial.distance.cosine(woman, doctor) = \", womandoctorsim)\n",
        "print(\"cosine_similarity(woman, doctor) = \", cosine_similarity(woman, doctor))\n",
        "print(\"cosine_similarity(woman, nurse) = \",cosine_similarity(woman, nurse))\n",
        "print(\"cosine_similarity(man, nurse) = \",cosine_similarity(woman, nurse))\n",
        "print(\"cosine_similarity(nurse, doctor) = \",cosine_similarity(nurse, doctor))\n",
        "\n",
        "\n",
        "print()\n",
        "france = np.array(word_to_vec_map[\"france\"],dtype=float)\n",
        "italy = np.array(word_to_vec_map[\"italy\"],dtype=float)\n",
        "paris = np.array(word_to_vec_map[\"paris\"],dtype=float)\n",
        "rome = np.array(word_to_vec_map[\"rome\"],dtype=float)\n",
        "print(\"cosinE_similarty_byspatial(france - paris, rome - italy) = \",1 - spatial.distance.cosine(france - paris, rome - italy))\n",
        "print(\"cosine_similarity(france - paris, rome - italy) = \",cosine_similarity(france - paris, rome - italy))"
      ]
    },
    {
      "cell_type": "markdown",
      "metadata": {
        "id": "dBbcyxv0Pm0b"
      },
      "source": [
        "This is the code for computing word analogy given three words (word_a, word_b, word_c), or for example ('man', 'father', 'woman'), the following code find the word vector of a word that completes the analogy. In this example the word vector we expect is 'mother'."
      ]
    },
    {
      "cell_type": "code",
      "execution_count": null,
      "metadata": {
        "colab": {
          "base_uri": "https://localhost:8080/"
        },
        "id": "FTKh2OqAGSG2",
        "outputId": "c3eaced0-2850-429a-bdc6-d2cb504e547f"
      },
      "outputs": [
        {
          "output_type": "stream",
          "name": "stdout",
          "text": [
            "cosine_similarity(mother - woman, father - man) =  0.9147462410856572\n"
          ]
        }
      ],
      "source": [
        "print(\"cosine_similarity(mother - woman, father - man) = \",cosine_similarity(woman - mother, man - father))"
      ]
    },
    {
      "cell_type": "markdown",
      "metadata": {
        "id": "mLK9-i5JSjOH"
      },
      "source": [
        "## Task 3: Remove bias from word vectors\n",
        "\n",
        "After getting familiar with all the tools we need, now it's time to actually solve the problem of bias in word vectors.\n",
        "\n",
        "🎯 The goal is to implement a neutralize and equalize Python functions to remove the bias from the word vectors.\n",
        "\n",
        "Deliverables: (1) Complete the python code for the neutralize and equalize python functions following [Man is to Computer Programmer as Woman is to Homemaker? Debiasing Word Embeddings](https://proceedings.neurips.cc/paper_files/paper/2016/file/a486cd07e4ac3d270571622f4f316ec5-Paper.pdf) by Tolga Bolukbasi, Kai-Wei Chang, James Zou, Venkatesh Saligrama, and Adam Kalai. Proceedings of NIPS 2016. The code should run without any errors. (2) Provide examples before and after removing bias.\n"
      ]
    },
    {
      "cell_type": "markdown",
      "metadata": {
        "id": "lQHPH-1t4ULQ"
      },
      "source": [
        "To remove the gender bias from non-gender specific word vectors, we need represent the semantic concept of gender as a vector. We can approximate that vector by subtracting female and male word vectors. This means we can compute a vector 'vgender = v1 - v2', where 'v1' represents the word vector corresponding to the word woman, and 'v2' corresponds to the word vector corresponding to the word man. The resulting vector roughly encodes the concept of \"gender\"."
      ]
    },
    {
      "cell_type": "code",
      "source": [
        "vgender = np.array(word_to_vec_map['woman'],dtype=float) - np.array(word_to_vec_map['man'], dtype=float)\n",
        "print(vgender)"
      ],
      "metadata": {
        "colab": {
          "base_uri": "https://localhost:8080/"
        },
        "id": "Zq9itag3V9DN",
        "outputId": "794afc2b-af2d-40c9-ce85-1bbaa19d0033"
      },
      "execution_count": null,
      "outputs": [
        {
          "output_type": "stream",
          "name": "stdout",
          "text": [
            "[ 0.22075    0.06322   -0.11766    0.733244   0.1124228  0.35215\n",
            " -0.10959    0.296903   0.63339    0.08134   -0.56585    0.03609\n",
            "  0.27074    0.28811   -0.15441   -0.118769  -0.10468   -0.03124\n",
            "  0.05995   -0.06224   -0.75415   -0.042478   0.206519   0.70892\n",
            " -0.17091   -0.10675    0.09465   -0.91402    0.01446   -0.13117\n",
            "  0.276293   0.04384    0.629534  -0.19569    0.05903   -0.24431\n",
            "  0.09776   -0.29596    0.19191    0.437715  -0.39252    0.142457\n",
            " -0.74471   -0.03612    0.10591   -0.06113   -0.143385   0.098668\n",
            " -0.06211   -0.01746    0.06907    0.00236    0.15766   -0.1122\n",
            " -0.03093    0.2501     0.07157   -0.2485    -0.0214    -0.0263\n",
            "  0.02944   -0.1174     0.450537   0.144744  -0.01888    0.201077\n",
            " -0.06162   -0.20577    0.07487   -0.208148  -0.02334    0.223139\n",
            " -0.21485    0.83344    0.19109    0.792051  -0.03157   -0.04038\n",
            " -0.12849   -0.79323   -0.831165  -0.02363    0.506697   0.318328\n",
            "  0.0554    -0.6549     0.608461   0.49503    0.180244  -0.23148\n",
            "  0.59144    0.15493    0.36659   -0.138182  -0.21266    0.420054\n",
            " -0.17716    0.39063    0.112482   0.23157  ]\n"
          ]
        }
      ]
    },
    {
      "cell_type": "code",
      "execution_count": null,
      "metadata": {
        "colab": {
          "base_uri": "https://localhost:8080/"
        },
        "id": "T-CTO9ESOasA",
        "outputId": "d222aa6a-6863-442f-ab47-834959a96550"
      },
      "outputs": [
        {
          "output_type": "stream",
          "name": "stdout",
          "text": [
            "[ 0.22075    0.06322   -0.11766    0.733244   0.1124228  0.35215\n",
            " -0.10959    0.296903   0.63339    0.08134   -0.56585    0.03609\n",
            "  0.27074    0.28811   -0.15441   -0.118769  -0.10468   -0.03124\n",
            "  0.05995   -0.06224   -0.75415   -0.042478   0.206519   0.70892\n",
            " -0.17091   -0.10675    0.09465   -0.91402    0.01446   -0.13117\n",
            "  0.276293   0.04384    0.629534  -0.19569    0.05903   -0.24431\n",
            "  0.09776   -0.29596    0.19191    0.437715  -0.39252    0.142457\n",
            " -0.74471   -0.03612    0.10591   -0.06113   -0.143385   0.098668\n",
            " -0.06211   -0.01746    0.06907    0.00236    0.15766   -0.1122\n",
            " -0.03093    0.2501     0.07157   -0.2485    -0.0214    -0.0263\n",
            "  0.02944   -0.1174     0.450537   0.144744  -0.01888    0.201077\n",
            " -0.06162   -0.20577    0.07487   -0.208148  -0.02334    0.223139\n",
            " -0.21485    0.83344    0.19109    0.792051  -0.03157   -0.04038\n",
            " -0.12849   -0.79323   -0.831165  -0.02363    0.506697   0.318328\n",
            "  0.0554    -0.6549     0.608461   0.49503    0.180244  -0.23148\n",
            "  0.59144    0.15493    0.36659   -0.138182  -0.21266    0.420054\n",
            " -0.17716    0.39063    0.112482   0.23157  ]\n"
          ]
        }
      ],
      "source": [
        "vgender =  np.array(word_to_vec_map['woman'],dtype=float) - np.array(word_to_vec_map['man'],dtype=float)\n",
        "print(vgender)"
      ]
    },
    {
      "cell_type": "markdown",
      "metadata": {
        "id": "ikjuRnrkXDS6"
      },
      "source": [
        "Now, you will consider the cosine similarity of different words with vgender. A positive value of similarity means that the words are closer to 'woman' and a negative cosine similarity means the words are closer to 'man'."
      ]
    },
    {
      "cell_type": "code",
      "source": [
        "print ('List of names and their similarities with constructed vector:')\n",
        "\n",
        "# numele fetelor și băieților\n",
        "name_list = ['john', 'anna', 'sophie', 'ronaldo', 'shakira', 'mario', 'maria', 'tom', 'katy']\n",
        "for w in name_list:\n",
        "    print(w, cosine_similarity(np.array(word_to_vec_map.get(w), dtype=float), vgender))"
      ],
      "metadata": {
        "colab": {
          "base_uri": "https://localhost:8080/"
        },
        "id": "hxQ3_RH_W7c_",
        "outputId": "91841887-7a20-40ee-d7c5-118a396a063d"
      },
      "execution_count": null,
      "outputs": [
        {
          "output_type": "stream",
          "name": "stdout",
          "text": [
            "List of names and their similarities with constructed vector:\n",
            "john -0.12993553254527124\n",
            "anna 0.1941483509873895\n",
            "sophie 0.1365694462763458\n",
            "ronaldo -0.18512024276704414\n",
            "shakira 0.132452120063784\n",
            "mario -0.1288018388925092\n",
            "maria 0.10951213167042431\n",
            "tom -0.05688770303955268\n",
            "katy 0.14535584139150165\n"
          ]
        }
      ]
    },
    {
      "cell_type": "code",
      "execution_count": null,
      "metadata": {
        "colab": {
          "base_uri": "https://localhost:8080/"
        },
        "id": "9kuUi4ERLre4",
        "outputId": "af43b015-3c90-4316-ebc0-a96e0a873a00"
      },
      "outputs": [
        {
          "output_type": "stream",
          "name": "stdout",
          "text": [
            "List of names and their similarities with constructed vector:\n",
            "john -0.12993553254527124\n",
            "anna 0.1941483509873895\n",
            "sophie 0.1365694462763458\n",
            "ronaldo -0.18512024276704414\n",
            "shakira 0.132452120063784\n",
            "mario -0.1288018388925092\n",
            "maria 0.10951213167042431\n",
            "tom -0.05688770303955268\n",
            "katy 0.14535584139150165\n"
          ]
        }
      ],
      "source": [
        "# Afișează un mesaj care introduce lista de nume și similaritățile lor cu un vector construit ('vgender').\n",
        "print ('List of names and their similarities with constructed vector:')\n",
        "\n",
        "# girls and boys name\n",
        "# Definește o listă de nume (băieți și fete) pentru care se vor calcula similaritățile cosinusului.\n",
        "name_list = ['john', 'anna', 'sophie', 'ronaldo', 'shakira', 'mario', 'maria', 'tom', 'katy']\n",
        "\n",
        "# Parcurge fiecare nume din name_list.\n",
        "# Pentru fiecare nume 'w':\n",
        "for w in name_list:\n",
        "    \"\"\"\n",
        "      Preia vectorul asociat cu numele din word_to_vec_map și îl\n",
        "    convertește într-un array NumPy de tip float. Calculează similaritatea\n",
        "    cosinusului între vectorul numelui și vgender folosind funcția\n",
        "    osine_similarity. Afișează numele și valoarea similarității cosinusului.\n",
        "    \"\"\"\n",
        "    print (w, cosine_similarity(np.array(word_to_vec_map.get(w),dtype=float), vgender))"
      ]
    },
    {
      "cell_type": "markdown",
      "metadata": {
        "id": "wBBMvt10XkZU"
      },
      "source": [
        "As you can see, female first names tend to have a positive cosine similarity with our constructed vector\n",
        ", while male first names tend to have a negative cosine similarity. This is not suprising, and the result seems acceptable.\n",
        "\n",
        "But let's try with some other words."
      ]
    },
    {
      "cell_type": "code",
      "source": [
        "print('Alte cuvinte și asemănarea lor:')\n",
        "word_list = ['lipstick', 'guns', 'science', 'arts', 'literature', 'warrior','doctor', 'tree', 'receptionist',\n",
        "             'technology',  'fashion', 'teacher', 'engineer', 'pilot', 'computer', 'singer']\n",
        "for w in word_list:\n",
        "    print(w, cosine_similarity(np.array(word_to_vec_map.get(w), dtype=float), vgender))"
      ],
      "metadata": {
        "colab": {
          "base_uri": "https://localhost:8080/"
        },
        "id": "4gbnWWkQZV5p",
        "outputId": "07e08968-da71-410c-aadb-50833137d909"
      },
      "execution_count": null,
      "outputs": [
        {
          "output_type": "stream",
          "name": "stdout",
          "text": [
            "Alte cuvinte și asemănarea lor:\n",
            "lipstick 0.1188775048950792\n",
            "guns -0.05548981143809415\n",
            "science -0.011581258338201396\n",
            "arts 0.008323947120865476\n",
            "literature 0.04654469925339527\n",
            "warrior -0.10230196379288618\n",
            "doctor 0.06783860786648314\n",
            "tree -0.048795310979808985\n",
            "receptionist 0.21516708849486083\n",
            "technology -0.07734917212913102\n",
            "fashion 0.05090407200616157\n",
            "teacher 0.09051662069173902\n",
            "engineer -0.07449345264222848\n",
            "pilot -0.025217055663758682\n",
            "computer -0.05948784358240031\n",
            "singer 0.06134862001647639\n"
          ]
        }
      ]
    },
    {
      "cell_type": "code",
      "execution_count": null,
      "metadata": {
        "colab": {
          "base_uri": "https://localhost:8080/"
        },
        "id": "jWYlM-6ILrgt",
        "outputId": "93d64c2f-4cec-46e4-8097-48f8abc4eddb"
      },
      "outputs": [
        {
          "output_type": "stream",
          "name": "stdout",
          "text": [
            "Other words and their similarities:\n",
            "lipstick 0.1188775048950792\n",
            "guns -0.05548981143809415\n",
            "science -0.011581258338201396\n",
            "arts 0.008323947120865476\n",
            "literature 0.04654469925339527\n",
            "warrior -0.10230196379288618\n",
            "doctor 0.06783860786648314\n",
            "tree -0.048795310979808985\n",
            "receptionist 0.21516708849486083\n",
            "technology -0.07734917212913102\n",
            "fashion 0.05090407200616157\n",
            "teacher 0.09051662069173902\n",
            "engineer -0.07449345264222848\n",
            "pilot -0.025217055663758682\n",
            "computer -0.05948784358240031\n",
            "singer 0.06134862001647639\n"
          ]
        }
      ],
      "source": [
        "print('Other words and their similarities:')\n",
        "word_list = ['lipstick', 'guns', 'science', 'arts', 'literature', 'warrior','doctor', 'tree', 'receptionist',\n",
        "             'technology',  'fashion', 'teacher', 'engineer', 'pilot', 'computer', 'singer']\n",
        "\n",
        "for w in word_list:\n",
        "    print (w, cosine_similarity(np.array(word_to_vec_map.get(w),dtype=float), vgender))"
      ]
    },
    {
      "cell_type": "markdown",
      "metadata": {
        "id": "MeO1JJMKX502"
      },
      "source": [
        "Do you notice anything surprising? It is astonishing how these results reflect certain unhealthy gender stereotypes. For example, \"computer\" is closer to \"man\" while \"literature\" is closer to \"woman\". Ouch!\n",
        "\n",
        "We'll see below how to reduce the bias of these vectors, using an algorithm due to Boliukbasi et al., 2016. Note that some word pairs such as \"actor\"/\"actress\" or \"grandmother\"/\"grandfather\" should remain gender specific, while other words such as \"receptionist\" or \"technology\" should be neutralized, i.e. not be gender-related. You will have to treat these two type of words differently when debiasing."
      ]
    },
    {
      "cell_type": "markdown",
      "metadata": {
        "id": "hMjnbHM4YAtg"
      },
      "source": [
        "\n",
        "An approach to remove the bias would be to neutralize and equalize the bias for non-gender specific words, following Bolukbasi et al, 2016.\n",
        "\n",
        "> Tolga Bolukbasi, Kai-Wei Chang, James Zou, Venkatesh Saligrama, and Adam Kalai. 2016. Man is to computer programmer as woman is to homemaker? debiasing word embeddings. In Proceedings of the 30th International Conference on Neural Information Processing Systems (NIPS'16). Curran Associates Inc., Red Hook, NY, USA, 4356-4364."
      ]
    },
    {
      "cell_type": "code",
      "source": [
        "\"\"\" Definește o funcție neutralize care elimină părtinirea unui cuvânt,\n",
        "proiectându-l în spațiul ortogonal față de axa părtinirii (de exemplu, genul).\n",
        "\"\"\"\n",
        "def neutralize(word, g, word_to_vec_map):\n",
        "\n",
        "    # Îndepărtează părtinirea „cuvântului” proiectându-l pe spațiul ortogonal cu\n",
        "# axa de polarizare. Această funcție asigură că cuvintele neutre de gen\n",
        "# sunt zero în subspațiul de gen.\n",
        "### De aici începe codul ###\n",
        "# Selectați reprezentarea vectorială a cuvântului „cuvânt”. Folosiți word_to_vec_map. (≈ 1 linie)\n",
        "# Preia vectorul asociat cu cuvântul 'word' din dicționarul word_to_vec_map.\n",
        "\n",
        "    e = word_to_vec_map[word]\n",
        "\n",
        "# Calculați e_biascomponent folosind formula de mai sus. (≈ 1 linie)\n",
        "# Calculează componenta de părtinire a vectorului e pe axa g. Aceasta se face\n",
        "# prin proiecția vectorului e pe g.\n",
        "    e_biascomponent = np.dot(e,g) / (np.linalg.norm(g))**2 * g\n",
        "\n",
        "# Neutralizează e prin scăderea e_biascomponent din el\n",
        "# e_debiased ar trebui să fie egal cu proiecția sa ortogonală. (≈ 1 linie)\n",
        "\"\"\"\n",
        "    Neutralizează vectorul e prin scăderea componentei de părtinire e_biascomponent.\n",
        "Rezultatul este vectorul e_debiased, care este ortogonal pe axa părtinirii g.\n",
        "\"\"\"\n",
        "    e_debiased = e - e_biascomponent\n",
        "### Codul se sfârșește aici ###\n",
        "    return e_debiased"
      ],
      "metadata": {
        "id": "dqO4ldBna9u1",
        "colab": {
          "base_uri": "https://localhost:8080/",
          "height": 106
        },
        "outputId": "e3cddf06-0f22-4272-ab76-91dfeb9746ed"
      },
      "execution_count": null,
      "outputs": [
        {
          "output_type": "error",
          "ename": "IndentationError",
          "evalue": "unexpected indent (<ipython-input-36-e12cb66fae07>, line 26)",
          "traceback": [
            "\u001b[0;36m  File \u001b[0;32m\"<ipython-input-36-e12cb66fae07>\"\u001b[0;36m, line \u001b[0;32m26\u001b[0m\n\u001b[0;31m    e_debiased = e - e_biascomponent\u001b[0m\n\u001b[0m    ^\u001b[0m\n\u001b[0;31mIndentationError\u001b[0m\u001b[0;31m:\u001b[0m unexpected indent\n"
          ]
        }
      ]
    },
    {
      "cell_type": "code",
      "execution_count": null,
      "metadata": {
        "id": "3j5LVB38Lrkp"
      },
      "outputs": [],
      "source": [
        "def neutralize(word, g, word_to_vec_map):\n",
        "    \"\"\"\n",
        "    Removes the bias of \"word\" by projecting it on the space orthogonal to the bias axis.\n",
        "    This function ensures that gender neutral words are zero in the gender subspace.\n",
        "\n",
        "    Arguments:\n",
        "        word -- string indicating the word to debias\n",
        "        g -- numpy-array of shape (50,), corresponding to the bias axis (such as gender)\n",
        "        word_to_vec_map -- dictionary mapping words to their corresponding vectors. ok\n",
        "    Returns:\n",
        "        e_debiased -- neutralized word vector representation of the input \"word\"\n",
        "    \"\"\"\n",
        "\n",
        "    ### START CODE HERE ###\n",
        "    # Select word vector representation of \"word\". Use word_to_vec_map. (≈ 1 line)\n",
        "    e = word_to_vec_map[word]\n",
        "\n",
        "    # Compute e_biascomponent using the formula give above. (≈ 1 line)\n",
        "    e_biascomponent = np.dot(e,g) / (np.linalg.norm(g))**2 * g\n",
        "\n",
        "    # Neutralize e by substracting e_biascomponent from it\n",
        "    # e_debiased should be equal to its orthogonal projection. (≈ 1 line)\n",
        "    e_debiased = e - e_biascomponent\n",
        "    ### END CODE HERE ###\n",
        "\n",
        "    return e_debiased"
      ]
    },
    {
      "cell_type": "code",
      "source": [
        "# Definirea cuvântului recepționist\n",
        "e = \"receptionist\"\n",
        "# Calculează și afișează similaritatea cosinusului între vectorul cuvântului\n",
        "# \"receptionist\" și vectorul de gen vgender înainte de a aplica neutralizarea.\n",
        "print(\"cosine similarity between \" + e + \" and vgender,  before neutralizing:\", cosine_similarity(word_to_vec_map[\"receptionist\"], vgender))\n",
        "# Apelând funcția neutralize, elimină părtinirea de gen din vectorul cuvântului\n",
        "# \"receptionist\" și obține vectorul debiasat e_debiased.\n",
        "e_debiased = neutralize(\"receptionist\", vgender, word_to_vec_map)\n",
        "# calculează și afișează similaritatea cosinusului între vectorul debiasat\n",
        "# e_debiased și vectorul de gen vgender după aplicarea neutralizării.\n",
        "print(\"cosine similarity between \" + e + \" and vgender, after neutralizing: \", cosine_similarity(e_debiased, vgender))"
      ],
      "metadata": {
        "colab": {
          "base_uri": "https://localhost:8080/"
        },
        "id": "oueL-bdPqNPb",
        "outputId": "5d78ff75-9e33-4f1a-d439-01cf691cb5ec"
      },
      "execution_count": null,
      "outputs": [
        {
          "output_type": "stream",
          "name": "stdout",
          "text": [
            "cosine similarity between receptionist and vgender,  before neutralizing: 0.21516708849486083\n",
            "cosine similarity between receptionist and vgender, after neutralizing:  2.6595867230082723e-17\n"
          ]
        }
      ]
    },
    {
      "cell_type": "code",
      "execution_count": null,
      "metadata": {
        "colab": {
          "base_uri": "https://localhost:8080/"
        },
        "id": "guR-_udRLrms",
        "outputId": "662bca3c-1cdb-4d08-c314-997e012d9d3c"
      },
      "outputs": [
        {
          "output_type": "stream",
          "name": "stdout",
          "text": [
            "cosine similarity between receptionist and vgender, before neutralizing:  0.21516708849486083\n",
            "cosine similarity between receptionist and vgender, after neutralizing:  2.6595867230082723e-17\n"
          ]
        }
      ],
      "source": [
        "e = \"receptionist\"\n",
        "print(\"cosine similarity between \" + e + \" and vgender, before neutralizing: \", cosine_similarity(word_to_vec_map[\"receptionist\"], vgender))\n",
        "\n",
        "e_debiased = neutralize(\"receptionist\", vgender, word_to_vec_map)\n",
        "print(\"cosine similarity between \" + e + \" and vgender, after neutralizing: \", cosine_similarity(e_debiased, vgender))"
      ]
    },
    {
      "cell_type": "markdown",
      "metadata": {
        "id": "gXsIwPgsYvAw"
      },
      "source": [
        "Next, lets see how debiasing can also be applied to word pairs such as \"actress\" and \"actor.\" Equalization is applied to pairs of words that you might want to have differ only through the gender property. As a concrete example, suppose that \"actress\" is closer to \"babysit\" than \"actor.\" By applying neutralizing to \"babysit\" we can reduce the gender-stereotype associated with babysitting. But this still does not guarantee that \"actor\" and \"actress\" are equidistant from \"babysit.\" The equalization algorithm takes care of this.\n",
        "\n",
        "The key idea behind equalization is to make sure that a particular pair of words are equally distant."
      ]
    },
    {
      "cell_type": "code",
      "source": [
        "from os import pardir\n",
        "\"\"\"\n",
        "  Definește o funcție 'equalize' care debiasă cuvintele specifice de gen\n",
        "folosind metoda de egalizare.\n",
        "\"\"\"\n",
        "def equalize(pair, bias_axis, word_to_vec_map):\n",
        "    \"\"\"\n",
        "    Debias cuvinte specifice genului urmând metoda de egalizare descrisă în figura de mai sus.\n",
        "\n",
        "    Argumente:\n",
        "    pereche -- pereche de șiruri de cuvinte specifice genului la debias, de ex. (\"actriță\", \"actor\")\n",
        "    bias_axis -- numpy-array de formă (50,), vector corespunzător axei de polarizare, de ex. gen\n",
        "    word_to_vec_map -- dicționar care mapa cuvinte cu vectorii corespunzători\n",
        "\n",
        "    Se intoarce\n",
        "    e_1 -- vector cuvânt corespunzător primului cuvânt\n",
        "    e_2 -- vector cuvânt corespunzător celui de-al doilea cuvânt\n",
        "    \"\"\"\n",
        "\n",
        "    ### Codul începe de aici ###\n",
        "    # Pasul 1: Selectați reprezentarea vectorială a cuvântului „cuvânt”. Folosiți word_to_vec_map. (≈ 2 linii)\n",
        "    # Preia vectorii asociați cu cuvintele w1 și w2 din dicționarul word_to_vec_map.\n",
        "    w1, w2 = pair\n",
        "    e_w1, e_w2 = word_to_vec_map[w1], word_to_vec_map[w2]\n",
        "\n",
        "    # Pasul 2: Calculați media lui e_w1 și e_w2 (≈ 1 linie)\n",
        "    mu = (e_w1 + e_w2) / 2\n",
        "\n",
        "    # Pasul 3: Calculați proiecțiile lui mu peste axa de polarizare și axa ortogonală (≈ 2 linii)\n",
        "    mu_B = np.dot(mu. bias_axis) / (np.linalg.norm(bias_axis))**2 * bias_axis\n",
        "    mu_orth = mu - mu_B\n",
        "\n",
        "\n",
        "    # Pasul 4: Folosiți ecuațiile (7) și (8) pentru a calcula e_w1B și e_w2B (≈2 linii)\n",
        "    e_w1B = np.dot(e_w1, bias_axis) / (np.linalg.norm(bias_axis))**2 * bias_axis\n",
        "    e_w2B = np.dot(e_w2, bias_axis) / (np.linalg.norm(bias_axis))**2 * bias_axis\n",
        "\n",
        "    # Pasul 5: Ajustați partea Bias a e_w1B și e_w2B folosind formulele (9) și (10) prezentate mai sus (≈2 linii)\n",
        "    corrected_e_w1B = np.sqrt(np.linalg.norm(1 - np.linalg.norm(mu_orth)**2)) * (e_w1B - mu_B) / np.linalg.norm(e_w1 - mu_orth - mu_B)\n",
        "    corrected_e_w2B = np.sqrt(np.linalg.norm(1 - np.linalg.norm(mu_orth)**2)) * (e_w2B - mu_B) / np.linalg.norm(e_w2 - mu_orth - mu_B)\n",
        "\n",
        "\n",
        "    # Pasul 6: Debias prin egalizarea e1 și e2 la suma proiecțiilor lor corectate (≈2 linii)\n",
        "    e1 = corrected_e_w1B + mu_orth\n",
        "    e2 = corrected_e_w2B + mu_orth\n",
        "\n",
        "    ### Sfârșitul codului ###\n",
        "    return e1, e2"
      ],
      "metadata": {
        "id": "xvAhevZ4u1Pl"
      },
      "execution_count": null,
      "outputs": []
    },
    {
      "cell_type": "code",
      "execution_count": null,
      "metadata": {
        "id": "4e-z0teTLrox"
      },
      "outputs": [],
      "source": [
        "def equalize(pair, bias_axis, word_to_vec_map):\n",
        "    \"\"\"\n",
        "    Debias gender specific words by following the equalize method described in the figure above.\n",
        "\n",
        "    Arguments:\n",
        "    pair -- pair of strings of gender specific words to debias, e.g. (\"actress\", \"actor\")\n",
        "    bias_axis -- numpy-array of shape (50,), vector corresponding to the bias axis, e.g. gender\n",
        "    word_to_vec_map -- dictionary mapping words to their corresponding vectors\n",
        "\n",
        "    Returns\n",
        "    e_1 -- word vector corresponding to the first word\n",
        "    e_2 -- word vector corresponding to the second word\n",
        "    \"\"\"\n",
        "\n",
        "    ### START CODE HERE ###\n",
        "    # Step 1: Select word vector representation of \"word\". Use word_to_vec_map. (≈ 2 lines)\n",
        "    w1, w2 = pair\n",
        "    e_w1, e_w2 = glove_vectors[w1], glove_vectors[w2]\n",
        "\n",
        "    # Step 2: Compute the mean of e_w1 and e_w2 (≈ 1 line)\n",
        "    mu = (e_w1 + e_w2) / 2\n",
        "\n",
        "    # Step 3: Compute the projections of mu over the bias axis and the orthogonal axis (≈ 2 lines)\n",
        "    mu_B = np.dot(mu,bias_axis) / (np.linalg.norm(bias_axis))**2 * bias_axis\n",
        "    mu_orth = mu - mu_B\n",
        "\n",
        "    # Step 4: Use equations (7) and (8) to compute e_w1B and e_w2B (≈2 lines)t\n",
        "    e_w1B = np.dot(e_w1,bias_axis) / (np.linalg.norm(bias_axis))**2 * bias_axis\n",
        "    e_w2B = np.dot(e_w2,bias_axis) / (np.linalg.norm(bias_axis))**2 * bias_axis\n",
        "\n",
        "    # Step 5: Adjust the Bias part of e_w1B and e_w2B using the formulas (9) and (10) given above (≈2 lines)\n",
        "    corrected_e_w1B = np.sqrt(np.linalg.norm(1-np.linalg.norm(mu_orth)**2)) * (e_w1B - mu_B) / np.linalg.norm(e_w1 - mu_orth - mu_B)\n",
        "    corrected_e_w2B = np.sqrt(np.linalg.norm(1-np.linalg.norm(mu_orth)**2)) * (e_w2B - mu_B) / np.linalg.norm(e_w2 - mu_orth - mu_B)\n",
        "\n",
        "    # Step 6: Debias by equalizing e1 and e2 to the sum of their corrected projections (≈2 lines)\n",
        "    e1 = corrected_e_w1B + mu_orth\n",
        "    e2 = corrected_e_w2B + mu_orth\n",
        "\n",
        "    ### END CODE HERE ###\n",
        "\n",
        "    return e1, e2"
      ]
    },
    {
      "cell_type": "code",
      "execution_count": null,
      "metadata": {
        "colab": {
          "base_uri": "https://localhost:8080/",
          "height": 401
        },
        "id": "nFnDkomcLrq3",
        "outputId": "121321c2-b673-43f5-b793-ab9ea21136e2"
      },
      "outputs": [
        {
          "output_type": "stream",
          "name": "stdout",
          "text": [
            "cosine similarities before equalizing:\n",
            "cosine_similarity(word_to_vec_map[\"man\"], gender) =  -0.11287921436169195\n",
            "cosine_similarity(word_to_vec_map[\"woman\"], gender) =  0.21904032799995884\n",
            "\n"
          ]
        },
        {
          "output_type": "error",
          "ename": "AttributeError",
          "evalue": "'numpy.ndarray' object has no attribute 'bias_axis'",
          "traceback": [
            "\u001b[0;31m---------------------------------------------------------------------------\u001b[0m",
            "\u001b[0;31mAttributeError\u001b[0m                            Traceback (most recent call last)",
            "\u001b[0;32m<ipython-input-42-b982db0c5ea7>\u001b[0m in \u001b[0;36m<cell line: 6>\u001b[0;34m()\u001b[0m\n\u001b[1;32m      4\u001b[0m \u001b[0mprint\u001b[0m\u001b[0;34m(\u001b[0m\u001b[0;34m)\u001b[0m\u001b[0;34m\u001b[0m\u001b[0;34m\u001b[0m\u001b[0m\n\u001b[1;32m      5\u001b[0m \u001b[0;34m\u001b[0m\u001b[0m\n\u001b[0;32m----> 6\u001b[0;31m \u001b[0me1\u001b[0m\u001b[0;34m,\u001b[0m \u001b[0me2\u001b[0m \u001b[0;34m=\u001b[0m \u001b[0mequalize\u001b[0m\u001b[0;34m(\u001b[0m\u001b[0;34m(\u001b[0m\u001b[0;34m\"man\"\u001b[0m\u001b[0;34m,\u001b[0m \u001b[0;34m\"woman\"\u001b[0m\u001b[0;34m)\u001b[0m\u001b[0;34m,\u001b[0m \u001b[0mvgender\u001b[0m\u001b[0;34m,\u001b[0m \u001b[0mword_to_vec_map\u001b[0m\u001b[0;34m)\u001b[0m\u001b[0;34m\u001b[0m\u001b[0;34m\u001b[0m\u001b[0m\n\u001b[0m\u001b[1;32m      7\u001b[0m \u001b[0mprint\u001b[0m\u001b[0;34m(\u001b[0m\u001b[0;34m\"cosine similarities after equalizing:\"\u001b[0m\u001b[0;34m)\u001b[0m\u001b[0;34m\u001b[0m\u001b[0;34m\u001b[0m\u001b[0m\n\u001b[1;32m      8\u001b[0m \u001b[0mprint\u001b[0m\u001b[0;34m(\u001b[0m\u001b[0;34m\"cosine_similarity(e1, gender) = \"\u001b[0m\u001b[0;34m,\u001b[0m \u001b[0mcosine_similarity\u001b[0m\u001b[0;34m(\u001b[0m\u001b[0me1\u001b[0m\u001b[0;34m,\u001b[0m \u001b[0mvgender\u001b[0m\u001b[0;34m)\u001b[0m\u001b[0;34m)\u001b[0m\u001b[0;34m\u001b[0m\u001b[0;34m\u001b[0m\u001b[0m\n",
            "\u001b[0;32m<ipython-input-41-4507e20ca791>\u001b[0m in \u001b[0;36mequalize\u001b[0;34m(pair, bias_axis, word_to_vec_map)\u001b[0m\n\u001b[1;32m     28\u001b[0m \u001b[0;34m\u001b[0m\u001b[0m\n\u001b[1;32m     29\u001b[0m     \u001b[0;31m# Pasul 3: Calculați proiecțiile lui mu peste axa de polarizare și axa ortogonală (≈ 2 linii)\u001b[0m\u001b[0;34m\u001b[0m\u001b[0;34m\u001b[0m\u001b[0m\n\u001b[0;32m---> 30\u001b[0;31m     \u001b[0mmu_B\u001b[0m \u001b[0;34m=\u001b[0m \u001b[0mnp\u001b[0m\u001b[0;34m.\u001b[0m\u001b[0mdot\u001b[0m\u001b[0;34m(\u001b[0m\u001b[0mmu\u001b[0m\u001b[0;34m.\u001b[0m \u001b[0mbias_axis\u001b[0m\u001b[0;34m)\u001b[0m \u001b[0;34m/\u001b[0m \u001b[0;34m(\u001b[0m\u001b[0mnp\u001b[0m\u001b[0;34m.\u001b[0m\u001b[0mlinalg\u001b[0m\u001b[0;34m.\u001b[0m\u001b[0mnorm\u001b[0m\u001b[0;34m(\u001b[0m\u001b[0mbias_axis\u001b[0m\u001b[0;34m)\u001b[0m\u001b[0;34m)\u001b[0m\u001b[0;34m**\u001b[0m\u001b[0;36m2\u001b[0m \u001b[0;34m*\u001b[0m \u001b[0mbias_axis\u001b[0m\u001b[0;34m\u001b[0m\u001b[0;34m\u001b[0m\u001b[0m\n\u001b[0m\u001b[1;32m     31\u001b[0m     \u001b[0mmu_orth\u001b[0m \u001b[0;34m=\u001b[0m \u001b[0mmu\u001b[0m \u001b[0;34m-\u001b[0m \u001b[0mmu_B\u001b[0m\u001b[0;34m\u001b[0m\u001b[0;34m\u001b[0m\u001b[0m\n\u001b[1;32m     32\u001b[0m \u001b[0;34m\u001b[0m\u001b[0m\n",
            "\u001b[0;31mAttributeError\u001b[0m: 'numpy.ndarray' object has no attribute 'bias_axis'"
          ]
        }
      ],
      "source": [
        "print(\"cosine similarities before equalizing:\")\n",
        "print(\"cosine_similarity(word_to_vec_map[\\\"man\\\"], gender) = \", cosine_similarity(word_to_vec_map[\"man\"], vgender))\n",
        "print(\"cosine_similarity(word_to_vec_map[\\\"woman\\\"], gender) = \", cosine_similarity(word_to_vec_map[\"woman\"], vgender))\n",
        "print()\n",
        "\n",
        "e1, e2 = equalize((\"man\", \"woman\"), vgender, word_to_vec_map)\n",
        "print(\"cosine similarities after equalizing:\")\n",
        "print(\"cosine_similarity(e1, gender) = \", cosine_similarity(e1, vgender))\n",
        "print(\"cosine_similarity(e2, gender) = \", cosine_similarity(e2, vgender))"
      ]
    }
  ],
  "metadata": {
    "colab": {
      "provenance": []
    },
    "kernelspec": {
      "display_name": "Python 3",
      "name": "python3"
    },
    "language_info": {
      "name": "python"
    }
  },
  "nbformat": 4,
  "nbformat_minor": 0
}