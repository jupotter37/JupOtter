{
  "cells": [
    {
      "cell_type": "markdown",
      "metadata": {
        "id": "DyAjEw4OHmDb"
      },
      "source": [
        "# **Music Recommendation System**"
      ]
    },
    {
      "cell_type": "markdown",
      "metadata": {
        "id": "FMCaC7Q_tq1m"
      },
      "source": [
        "## **Problem Definition**\n",
        "\n",
        "### **The Context:**\n",
        "\n",
        " - Why is this problem important to solve?\n",
        "\n",
        "### **The objective:**\n",
        "\n",
        " - What is the intended goal?\n",
        "\n",
        "### **The key questions:**\n",
        "\n",
        "- What are the key questions that need to be answered?\n",
        "\n",
        "### **The problem formulation**:\n",
        "\n",
        "- What is it that we are trying to solve using data science?"
      ]
    },
    {
      "cell_type": "markdown",
      "metadata": {
        "id": "BVUiyhYTHS1t"
      },
      "source": [
        "## **Data Dictionary**\n",
        "\n",
        "The core data is the Taste Profile Subset released by the Echo Nest as part of the Million Song Dataset. There are two files in this dataset. The first file contains the details about the song id, titles, release, artist name, and the year of release. The second file contains the user id, song id, and the play count of users.\n",
        "\n",
        "**song_data**\n",
        "\n",
        "- song_id - A unique id given to every song\n",
        "- title - Title of the song\n",
        "- Release - Name of the released album\n",
        "- Artist_name - Name of the artist\n",
        "- year - Year of release\n",
        "\n",
        "**count_data**\n",
        "\n",
        "- user _id - A unique id given to the user\n",
        "- song_id - A unique id given to the song\n",
        "- play_count - Number of times the song was played\n",
        "\n",
        "## **Data Source**\n",
        "http://millionsongdataset.com/"
      ]
    },
    {
      "cell_type": "markdown",
      "metadata": {
        "id": "NRJtXkTrHxMQ"
      },
      "source": [
        "### **Importing Libraries and the Dataset**"
      ]
    },
    {
      "cell_type": "code",
      "execution_count": null,
      "metadata": {
        "id": "6SRzOPXI2Efn",
        "colab": {
          "base_uri": "https://localhost:8080/"
        },
        "outputId": "b7c6002a-6841-4ea6-d87f-3c69b162c4cb"
      },
      "outputs": [
        {
          "output_type": "stream",
          "name": "stdout",
          "text": [
            "Mounted at /content/drive\n"
          ]
        }
      ],
      "source": [
        "# Mounting the drive\n",
        "from google.colab import drive\n",
        "drive.mount('/content/drive')"
      ]
    },
    {
      "cell_type": "code",
      "execution_count": null,
      "metadata": {
        "id": "R4YvKrpzId3K"
      },
      "outputs": [],
      "source": [
        "# Used to ignore the warning given as output of the code\n",
        "import warnings\n",
        "warnings.filterwarnings('ignore')\n",
        "\n",
        "# Basic libraries of python for numeric and dataframe computations\n",
        "import numpy as np\n",
        "import pandas as pd\n",
        "\n",
        "# Basic library for data visualization\n",
        "import matplotlib.pyplot as plt\n",
        "\n",
        "# Slightly advanced library for data visualization\n",
        "import seaborn as sns\n",
        "\n",
        "# To compute the cosine similarity between two vectors\n",
        "from sklearn.metrics.pairwise import cosine_similarity\n",
        "\n",
        "# A dictionary output that does not raise a key error\n",
        "from collections import defaultdict\n",
        "\n",
        "# A performance metrics in sklearn\n",
        "from sklearn.metrics import mean_squared_error\n"
      ]
    },
    {
      "cell_type": "markdown",
      "metadata": {
        "id": "bUGKX140wf-S"
      },
      "source": [
        "### **Load the dataset**"
      ]
    },
    {
      "cell_type": "code",
      "execution_count": null,
      "metadata": {
        "id": "si6ulhIYImck"
      },
      "outputs": [],
      "source": [
        "# Importing the datasets\n",
        "count_df = pd.read_csv('/content/drive/MyDrive/00.capstone/count_data.csv')\n",
        "song_df = pd.read_csv('/content/drive/MyDrive/00.capstone/song_data.csv')"
      ]
    },
    {
      "cell_type": "markdown",
      "metadata": {
        "id": "12TKB2M7XyC6"
      },
      "source": [
        "### **Understanding the data by viewing a few observations**"
      ]
    },
    {
      "cell_type": "code",
      "execution_count": null,
      "metadata": {
        "id": "GCLzBuYiXlPM",
        "colab": {
          "base_uri": "https://localhost:8080/"
        },
        "outputId": "05d9274d-c29d-43b7-a95b-7a503d4cbba8"
      },
      "outputs": [
        {
          "output_type": "stream",
          "name": "stdout",
          "text": [
            "   Unnamed: 0                                   user_id             song_id  \\\n",
            "0           0  b80344d063b5ccb3212f76538f3d9e43d87dca9e  SOAKIMP12A8C130995   \n",
            "1           1  b80344d063b5ccb3212f76538f3d9e43d87dca9e  SOBBMDR12A8C13253B   \n",
            "2           2  b80344d063b5ccb3212f76538f3d9e43d87dca9e  SOBXHDL12A81C204C0   \n",
            "3           3  b80344d063b5ccb3212f76538f3d9e43d87dca9e  SOBYHAJ12A6701BF1D   \n",
            "4           4  b80344d063b5ccb3212f76538f3d9e43d87dca9e  SODACBL12A8C13C273   \n",
            "5           5  b80344d063b5ccb3212f76538f3d9e43d87dca9e  SODDNQT12A6D4F5F7E   \n",
            "6           6  b80344d063b5ccb3212f76538f3d9e43d87dca9e  SODXRTY12AB0180F3B   \n",
            "7           7  b80344d063b5ccb3212f76538f3d9e43d87dca9e  SOFGUAY12AB017B0A8   \n",
            "8           8  b80344d063b5ccb3212f76538f3d9e43d87dca9e  SOFRQTD12A81C233C0   \n",
            "9           9  b80344d063b5ccb3212f76538f3d9e43d87dca9e  SOHQWYZ12A6D4FA701   \n",
            "\n",
            "   play_count  \n",
            "0           1  \n",
            "1           2  \n",
            "2           1  \n",
            "3           1  \n",
            "4           1  \n",
            "5           5  \n",
            "6           1  \n",
            "7           1  \n",
            "8           1  \n",
            "9           1  \n"
          ]
        }
      ],
      "source": [
        "# Display first 10 records of count_df data\n",
        "print(count_df.head(10))\n"
      ]
    },
    {
      "cell_type": "code",
      "execution_count": null,
      "metadata": {
        "id": "tV1ed0ApXpu3",
        "colab": {
          "base_uri": "https://localhost:8080/"
        },
        "outputId": "cedb397b-6555-4b3d-f72f-b68aadc98949"
      },
      "outputs": [
        {
          "output_type": "stream",
          "name": "stdout",
          "text": [
            "              song_id                                              title  \\\n",
            "0  SOQMMHC12AB0180CB8                                       Silent Night   \n",
            "1  SOVFVAK12A8C1350D9                                        Tanssi vaan   \n",
            "2  SOGTUKN12AB017F4F1                                  No One Could Ever   \n",
            "3  SOBNYVR12A8C13558C                                      Si Vos Querés   \n",
            "4  SOHSBXH12A8C13B0DF                                   Tangle Of Aspens   \n",
            "5  SOZVAPQ12A8C13B63C  Symphony No. 1 G minor \"Sinfonie Serieuse\"/All...   \n",
            "6  SOQVRHI12A6D4FB2D7                                   We Have Got Love   \n",
            "7  SOEYRFT12AB018936C                                  2 Da Beat Ch'yall   \n",
            "8  SOPMIYT12A6D4F851E                                            Goodbye   \n",
            "9  SOJCFMH12A8C13B0C2                         Mama_ mama can't you see ?   \n",
            "\n",
            "                                release  \\\n",
            "0                 Monster Ballads X-Mas   \n",
            "1                           Karkuteillä   \n",
            "2                                Butter   \n",
            "3                               De Culo   \n",
            "4  Rene Ablaze Presents Winter Sessions   \n",
            "5      Berwald: Symphonies Nos. 1/2/3/4   \n",
            "6             Strictly The Best Vol. 34   \n",
            "7                               Da Bomb   \n",
            "8                             Danny Boy   \n",
            "9  March to cadence with the US marines   \n",
            "\n",
            "                                      artist_name  year  \n",
            "0                                Faster Pussy cat  2003  \n",
            "1                                Karkkiautomaatti  1995  \n",
            "2                                  Hudson Mohawke  2006  \n",
            "3                                     Yerba Brava  2003  \n",
            "4                                      Der Mystic     0  \n",
            "5                                David Montgomery     0  \n",
            "6                              Sasha / Turbulence     0  \n",
            "7                                      Kris Kross  1993  \n",
            "8                                    Joseph Locke     0  \n",
            "9  The Sun Harbor's Chorus-Documentary Recordings     0  \n"
          ]
        }
      ],
      "source": [
        "# Display first 10 records of song_df data\n",
        "print(song_df.head(10))"
      ]
    },
    {
      "cell_type": "markdown",
      "metadata": {
        "id": "bvKb5FHcXzcN"
      },
      "source": [
        "### **Let us check the data types and and missing values of each column**"
      ]
    },
    {
      "cell_type": "code",
      "execution_count": null,
      "metadata": {
        "id": "yyoHc_cnX19J",
        "colab": {
          "base_uri": "https://localhost:8080/"
        },
        "outputId": "cae70b43-852b-4604-e092-6b9abd58872d"
      },
      "outputs": [
        {
          "output_type": "stream",
          "name": "stdout",
          "text": [
            "<class 'pandas.core.frame.DataFrame'>\n",
            "RangeIndex: 2000000 entries, 0 to 1999999\n",
            "Data columns (total 4 columns):\n",
            " #   Column      Dtype \n",
            "---  ------      ----- \n",
            " 0   Unnamed: 0  int64 \n",
            " 1   user_id     object\n",
            " 2   song_id     object\n",
            " 3   play_count  int64 \n",
            "dtypes: int64(2), object(2)\n",
            "memory usage: 61.0+ MB\n"
          ]
        }
      ],
      "source": [
        "# Display info of count_df\n",
        "count_df.info()"
      ]
    },
    {
      "cell_type": "code",
      "execution_count": null,
      "metadata": {
        "id": "rz3zDx_LX42y",
        "colab": {
          "base_uri": "https://localhost:8080/"
        },
        "outputId": "417fbbb3-61be-41fb-ffd2-0fe44243922c"
      },
      "outputs": [
        {
          "output_type": "stream",
          "name": "stdout",
          "text": [
            "<class 'pandas.core.frame.DataFrame'>\n",
            "RangeIndex: 1000000 entries, 0 to 999999\n",
            "Data columns (total 5 columns):\n",
            " #   Column       Non-Null Count    Dtype \n",
            "---  ------       --------------    ----- \n",
            " 0   song_id      1000000 non-null  object\n",
            " 1   title        999985 non-null   object\n",
            " 2   release      999995 non-null   object\n",
            " 3   artist_name  1000000 non-null  object\n",
            " 4   year         1000000 non-null  int64 \n",
            "dtypes: int64(1), object(4)\n",
            "memory usage: 38.1+ MB\n"
          ]
        }
      ],
      "source": [
        "# Display info of song_df\n",
        "song_df.info()"
      ]
    },
    {
      "cell_type": "markdown",
      "metadata": {
        "id": "Ze2TlWxpYadn"
      },
      "source": [
        "#### **Observations and Insights:_____________**\n"
      ]
    },
    {
      "cell_type": "code",
      "execution_count": null,
      "metadata": {
        "id": "oTeurvID2T9U",
        "colab": {
          "base_uri": "https://localhost:8080/",
          "height": 423
        },
        "outputId": "dab016e2-6c01-4c17-f00a-35e8ceeb8bb9"
      },
      "outputs": [
        {
          "output_type": "execute_result",
          "data": {
            "text/plain": [
              "                                          user_id             song_id  \\\n",
              "0        b80344d063b5ccb3212f76538f3d9e43d87dca9e  SOAKIMP12A8C130995   \n",
              "1        b80344d063b5ccb3212f76538f3d9e43d87dca9e  SOBBMDR12A8C13253B   \n",
              "2        b80344d063b5ccb3212f76538f3d9e43d87dca9e  SOBXHDL12A81C204C0   \n",
              "3        b80344d063b5ccb3212f76538f3d9e43d87dca9e  SOBYHAJ12A6701BF1D   \n",
              "4        b80344d063b5ccb3212f76538f3d9e43d87dca9e  SODACBL12A8C13C273   \n",
              "...                                           ...                 ...   \n",
              "1999995  d8bfd4ec88f0f3773a9e022e3c1a0f1d3b7b6a92  SOJEYPO12AAA8C6B0E   \n",
              "1999996  d8bfd4ec88f0f3773a9e022e3c1a0f1d3b7b6a92  SOJJYDE12AF729FC16   \n",
              "1999997  d8bfd4ec88f0f3773a9e022e3c1a0f1d3b7b6a92  SOJKQSF12A6D4F5EE9   \n",
              "1999998  d8bfd4ec88f0f3773a9e022e3c1a0f1d3b7b6a92  SOJUXGA12AC961885C   \n",
              "1999999  d8bfd4ec88f0f3773a9e022e3c1a0f1d3b7b6a92  SOJYOLS12A8C13C06F   \n",
              "\n",
              "         play_count                           title  \\\n",
              "0                 1                        The Cove   \n",
              "1                 2                 Entre Dos Aguas   \n",
              "2                 1                        Stronger   \n",
              "3                 1                  Constellations   \n",
              "4                 1                    Learn To Fly   \n",
              "...             ...                             ...   \n",
              "1999995           2       Ignorance (Album Version)   \n",
              "1999996           4          Two Is Better Than One   \n",
              "1999997           3  What I've Done (Album Version)   \n",
              "1999998           1                              Up   \n",
              "1999999           1      Soil_ Soil (Album Version)   \n",
              "\n",
              "                               release  \\\n",
              "0                   Thicker Than Water   \n",
              "1                  Flamenco Para Niños   \n",
              "2                           Graduation   \n",
              "3                    In Between Dreams   \n",
              "4        There Is Nothing Left To Lose   \n",
              "...                                ...   \n",
              "1999995                      Ignorance   \n",
              "1999996                     Love Drunk   \n",
              "1999997                 What I've Done   \n",
              "1999998                      My Worlds   \n",
              "1999999                        The Con   \n",
              "\n",
              "                                    artist_name  year  \n",
              "0                                  Jack Johnson     0  \n",
              "1                                 Paco De Lucia  1976  \n",
              "2                                    Kanye West  2007  \n",
              "3                                  Jack Johnson  2005  \n",
              "4                                  Foo Fighters  1999  \n",
              "...                                         ...   ...  \n",
              "1999995                                Paramore     0  \n",
              "1999996  Boys Like Girls featuring Taylor Swift  2009  \n",
              "1999997                             Linkin Park  2007  \n",
              "1999998                           Justin Bieber  2010  \n",
              "1999999                          Tegan And Sara  2007  \n",
              "\n",
              "[2000000 rows x 7 columns]"
            ],
            "text/html": [
              "\n",
              "  <div id=\"df-b3cf1c6e-fbf2-457d-b0e3-9acf134ecaf8\" class=\"colab-df-container\">\n",
              "    <div>\n",
              "<style scoped>\n",
              "    .dataframe tbody tr th:only-of-type {\n",
              "        vertical-align: middle;\n",
              "    }\n",
              "\n",
              "    .dataframe tbody tr th {\n",
              "        vertical-align: top;\n",
              "    }\n",
              "\n",
              "    .dataframe thead th {\n",
              "        text-align: right;\n",
              "    }\n",
              "</style>\n",
              "<table border=\"1\" class=\"dataframe\">\n",
              "  <thead>\n",
              "    <tr style=\"text-align: right;\">\n",
              "      <th></th>\n",
              "      <th>user_id</th>\n",
              "      <th>song_id</th>\n",
              "      <th>play_count</th>\n",
              "      <th>title</th>\n",
              "      <th>release</th>\n",
              "      <th>artist_name</th>\n",
              "      <th>year</th>\n",
              "    </tr>\n",
              "  </thead>\n",
              "  <tbody>\n",
              "    <tr>\n",
              "      <th>0</th>\n",
              "      <td>b80344d063b5ccb3212f76538f3d9e43d87dca9e</td>\n",
              "      <td>SOAKIMP12A8C130995</td>\n",
              "      <td>1</td>\n",
              "      <td>The Cove</td>\n",
              "      <td>Thicker Than Water</td>\n",
              "      <td>Jack Johnson</td>\n",
              "      <td>0</td>\n",
              "    </tr>\n",
              "    <tr>\n",
              "      <th>1</th>\n",
              "      <td>b80344d063b5ccb3212f76538f3d9e43d87dca9e</td>\n",
              "      <td>SOBBMDR12A8C13253B</td>\n",
              "      <td>2</td>\n",
              "      <td>Entre Dos Aguas</td>\n",
              "      <td>Flamenco Para Niños</td>\n",
              "      <td>Paco De Lucia</td>\n",
              "      <td>1976</td>\n",
              "    </tr>\n",
              "    <tr>\n",
              "      <th>2</th>\n",
              "      <td>b80344d063b5ccb3212f76538f3d9e43d87dca9e</td>\n",
              "      <td>SOBXHDL12A81C204C0</td>\n",
              "      <td>1</td>\n",
              "      <td>Stronger</td>\n",
              "      <td>Graduation</td>\n",
              "      <td>Kanye West</td>\n",
              "      <td>2007</td>\n",
              "    </tr>\n",
              "    <tr>\n",
              "      <th>3</th>\n",
              "      <td>b80344d063b5ccb3212f76538f3d9e43d87dca9e</td>\n",
              "      <td>SOBYHAJ12A6701BF1D</td>\n",
              "      <td>1</td>\n",
              "      <td>Constellations</td>\n",
              "      <td>In Between Dreams</td>\n",
              "      <td>Jack Johnson</td>\n",
              "      <td>2005</td>\n",
              "    </tr>\n",
              "    <tr>\n",
              "      <th>4</th>\n",
              "      <td>b80344d063b5ccb3212f76538f3d9e43d87dca9e</td>\n",
              "      <td>SODACBL12A8C13C273</td>\n",
              "      <td>1</td>\n",
              "      <td>Learn To Fly</td>\n",
              "      <td>There Is Nothing Left To Lose</td>\n",
              "      <td>Foo Fighters</td>\n",
              "      <td>1999</td>\n",
              "    </tr>\n",
              "    <tr>\n",
              "      <th>...</th>\n",
              "      <td>...</td>\n",
              "      <td>...</td>\n",
              "      <td>...</td>\n",
              "      <td>...</td>\n",
              "      <td>...</td>\n",
              "      <td>...</td>\n",
              "      <td>...</td>\n",
              "    </tr>\n",
              "    <tr>\n",
              "      <th>1999995</th>\n",
              "      <td>d8bfd4ec88f0f3773a9e022e3c1a0f1d3b7b6a92</td>\n",
              "      <td>SOJEYPO12AAA8C6B0E</td>\n",
              "      <td>2</td>\n",
              "      <td>Ignorance (Album Version)</td>\n",
              "      <td>Ignorance</td>\n",
              "      <td>Paramore</td>\n",
              "      <td>0</td>\n",
              "    </tr>\n",
              "    <tr>\n",
              "      <th>1999996</th>\n",
              "      <td>d8bfd4ec88f0f3773a9e022e3c1a0f1d3b7b6a92</td>\n",
              "      <td>SOJJYDE12AF729FC16</td>\n",
              "      <td>4</td>\n",
              "      <td>Two Is Better Than One</td>\n",
              "      <td>Love Drunk</td>\n",
              "      <td>Boys Like Girls featuring Taylor Swift</td>\n",
              "      <td>2009</td>\n",
              "    </tr>\n",
              "    <tr>\n",
              "      <th>1999997</th>\n",
              "      <td>d8bfd4ec88f0f3773a9e022e3c1a0f1d3b7b6a92</td>\n",
              "      <td>SOJKQSF12A6D4F5EE9</td>\n",
              "      <td>3</td>\n",
              "      <td>What I've Done (Album Version)</td>\n",
              "      <td>What I've Done</td>\n",
              "      <td>Linkin Park</td>\n",
              "      <td>2007</td>\n",
              "    </tr>\n",
              "    <tr>\n",
              "      <th>1999998</th>\n",
              "      <td>d8bfd4ec88f0f3773a9e022e3c1a0f1d3b7b6a92</td>\n",
              "      <td>SOJUXGA12AC961885C</td>\n",
              "      <td>1</td>\n",
              "      <td>Up</td>\n",
              "      <td>My Worlds</td>\n",
              "      <td>Justin Bieber</td>\n",
              "      <td>2010</td>\n",
              "    </tr>\n",
              "    <tr>\n",
              "      <th>1999999</th>\n",
              "      <td>d8bfd4ec88f0f3773a9e022e3c1a0f1d3b7b6a92</td>\n",
              "      <td>SOJYOLS12A8C13C06F</td>\n",
              "      <td>1</td>\n",
              "      <td>Soil_ Soil (Album Version)</td>\n",
              "      <td>The Con</td>\n",
              "      <td>Tegan And Sara</td>\n",
              "      <td>2007</td>\n",
              "    </tr>\n",
              "  </tbody>\n",
              "</table>\n",
              "<p>2000000 rows × 7 columns</p>\n",
              "</div>\n",
              "    <div class=\"colab-df-buttons\">\n",
              "\n",
              "  <div class=\"colab-df-container\">\n",
              "    <button class=\"colab-df-convert\" onclick=\"convertToInteractive('df-b3cf1c6e-fbf2-457d-b0e3-9acf134ecaf8')\"\n",
              "            title=\"Convert this dataframe to an interactive table.\"\n",
              "            style=\"display:none;\">\n",
              "\n",
              "  <svg xmlns=\"http://www.w3.org/2000/svg\" height=\"24px\" viewBox=\"0 -960 960 960\">\n",
              "    <path d=\"M120-120v-720h720v720H120Zm60-500h600v-160H180v160Zm220 220h160v-160H400v160Zm0 220h160v-160H400v160ZM180-400h160v-160H180v160Zm440 0h160v-160H620v160ZM180-180h160v-160H180v160Zm440 0h160v-160H620v160Z\"/>\n",
              "  </svg>\n",
              "    </button>\n",
              "\n",
              "  <style>\n",
              "    .colab-df-container {\n",
              "      display:flex;\n",
              "      gap: 12px;\n",
              "    }\n",
              "\n",
              "    .colab-df-convert {\n",
              "      background-color: #E8F0FE;\n",
              "      border: none;\n",
              "      border-radius: 50%;\n",
              "      cursor: pointer;\n",
              "      display: none;\n",
              "      fill: #1967D2;\n",
              "      height: 32px;\n",
              "      padding: 0 0 0 0;\n",
              "      width: 32px;\n",
              "    }\n",
              "\n",
              "    .colab-df-convert:hover {\n",
              "      background-color: #E2EBFA;\n",
              "      box-shadow: 0px 1px 2px rgba(60, 64, 67, 0.3), 0px 1px 3px 1px rgba(60, 64, 67, 0.15);\n",
              "      fill: #174EA6;\n",
              "    }\n",
              "\n",
              "    .colab-df-buttons div {\n",
              "      margin-bottom: 4px;\n",
              "    }\n",
              "\n",
              "    [theme=dark] .colab-df-convert {\n",
              "      background-color: #3B4455;\n",
              "      fill: #D2E3FC;\n",
              "    }\n",
              "\n",
              "    [theme=dark] .colab-df-convert:hover {\n",
              "      background-color: #434B5C;\n",
              "      box-shadow: 0px 1px 3px 1px rgba(0, 0, 0, 0.15);\n",
              "      filter: drop-shadow(0px 1px 2px rgba(0, 0, 0, 0.3));\n",
              "      fill: #FFFFFF;\n",
              "    }\n",
              "  </style>\n",
              "\n",
              "    <script>\n",
              "      const buttonEl =\n",
              "        document.querySelector('#df-b3cf1c6e-fbf2-457d-b0e3-9acf134ecaf8 button.colab-df-convert');\n",
              "      buttonEl.style.display =\n",
              "        google.colab.kernel.accessAllowed ? 'block' : 'none';\n",
              "\n",
              "      async function convertToInteractive(key) {\n",
              "        const element = document.querySelector('#df-b3cf1c6e-fbf2-457d-b0e3-9acf134ecaf8');\n",
              "        const dataTable =\n",
              "          await google.colab.kernel.invokeFunction('convertToInteractive',\n",
              "                                                    [key], {});\n",
              "        if (!dataTable) return;\n",
              "\n",
              "        const docLinkHtml = 'Like what you see? Visit the ' +\n",
              "          '<a target=\"_blank\" href=https://colab.research.google.com/notebooks/data_table.ipynb>data table notebook</a>'\n",
              "          + ' to learn more about interactive tables.';\n",
              "        element.innerHTML = '';\n",
              "        dataTable['output_type'] = 'display_data';\n",
              "        await google.colab.output.renderOutput(dataTable, element);\n",
              "        const docLink = document.createElement('div');\n",
              "        docLink.innerHTML = docLinkHtml;\n",
              "        element.appendChild(docLink);\n",
              "      }\n",
              "    </script>\n",
              "  </div>\n",
              "\n",
              "\n",
              "<div id=\"df-c368642d-f267-4384-85e5-e7a760785616\">\n",
              "  <button class=\"colab-df-quickchart\" onclick=\"quickchart('df-c368642d-f267-4384-85e5-e7a760785616')\"\n",
              "            title=\"Suggest charts\"\n",
              "            style=\"display:none;\">\n",
              "\n",
              "<svg xmlns=\"http://www.w3.org/2000/svg\" height=\"24px\"viewBox=\"0 0 24 24\"\n",
              "     width=\"24px\">\n",
              "    <g>\n",
              "        <path d=\"M19 3H5c-1.1 0-2 .9-2 2v14c0 1.1.9 2 2 2h14c1.1 0 2-.9 2-2V5c0-1.1-.9-2-2-2zM9 17H7v-7h2v7zm4 0h-2V7h2v10zm4 0h-2v-4h2v4z\"/>\n",
              "    </g>\n",
              "</svg>\n",
              "  </button>\n",
              "\n",
              "<style>\n",
              "  .colab-df-quickchart {\n",
              "      --bg-color: #E8F0FE;\n",
              "      --fill-color: #1967D2;\n",
              "      --hover-bg-color: #E2EBFA;\n",
              "      --hover-fill-color: #174EA6;\n",
              "      --disabled-fill-color: #AAA;\n",
              "      --disabled-bg-color: #DDD;\n",
              "  }\n",
              "\n",
              "  [theme=dark] .colab-df-quickchart {\n",
              "      --bg-color: #3B4455;\n",
              "      --fill-color: #D2E3FC;\n",
              "      --hover-bg-color: #434B5C;\n",
              "      --hover-fill-color: #FFFFFF;\n",
              "      --disabled-bg-color: #3B4455;\n",
              "      --disabled-fill-color: #666;\n",
              "  }\n",
              "\n",
              "  .colab-df-quickchart {\n",
              "    background-color: var(--bg-color);\n",
              "    border: none;\n",
              "    border-radius: 50%;\n",
              "    cursor: pointer;\n",
              "    display: none;\n",
              "    fill: var(--fill-color);\n",
              "    height: 32px;\n",
              "    padding: 0;\n",
              "    width: 32px;\n",
              "  }\n",
              "\n",
              "  .colab-df-quickchart:hover {\n",
              "    background-color: var(--hover-bg-color);\n",
              "    box-shadow: 0 1px 2px rgba(60, 64, 67, 0.3), 0 1px 3px 1px rgba(60, 64, 67, 0.15);\n",
              "    fill: var(--button-hover-fill-color);\n",
              "  }\n",
              "\n",
              "  .colab-df-quickchart-complete:disabled,\n",
              "  .colab-df-quickchart-complete:disabled:hover {\n",
              "    background-color: var(--disabled-bg-color);\n",
              "    fill: var(--disabled-fill-color);\n",
              "    box-shadow: none;\n",
              "  }\n",
              "\n",
              "  .colab-df-spinner {\n",
              "    border: 2px solid var(--fill-color);\n",
              "    border-color: transparent;\n",
              "    border-bottom-color: var(--fill-color);\n",
              "    animation:\n",
              "      spin 1s steps(1) infinite;\n",
              "  }\n",
              "\n",
              "  @keyframes spin {\n",
              "    0% {\n",
              "      border-color: transparent;\n",
              "      border-bottom-color: var(--fill-color);\n",
              "      border-left-color: var(--fill-color);\n",
              "    }\n",
              "    20% {\n",
              "      border-color: transparent;\n",
              "      border-left-color: var(--fill-color);\n",
              "      border-top-color: var(--fill-color);\n",
              "    }\n",
              "    30% {\n",
              "      border-color: transparent;\n",
              "      border-left-color: var(--fill-color);\n",
              "      border-top-color: var(--fill-color);\n",
              "      border-right-color: var(--fill-color);\n",
              "    }\n",
              "    40% {\n",
              "      border-color: transparent;\n",
              "      border-right-color: var(--fill-color);\n",
              "      border-top-color: var(--fill-color);\n",
              "    }\n",
              "    60% {\n",
              "      border-color: transparent;\n",
              "      border-right-color: var(--fill-color);\n",
              "    }\n",
              "    80% {\n",
              "      border-color: transparent;\n",
              "      border-right-color: var(--fill-color);\n",
              "      border-bottom-color: var(--fill-color);\n",
              "    }\n",
              "    90% {\n",
              "      border-color: transparent;\n",
              "      border-bottom-color: var(--fill-color);\n",
              "    }\n",
              "  }\n",
              "</style>\n",
              "\n",
              "  <script>\n",
              "    async function quickchart(key) {\n",
              "      const quickchartButtonEl =\n",
              "        document.querySelector('#' + key + ' button');\n",
              "      quickchartButtonEl.disabled = true;  // To prevent multiple clicks.\n",
              "      quickchartButtonEl.classList.add('colab-df-spinner');\n",
              "      try {\n",
              "        const charts = await google.colab.kernel.invokeFunction(\n",
              "            'suggestCharts', [key], {});\n",
              "      } catch (error) {\n",
              "        console.error('Error during call to suggestCharts:', error);\n",
              "      }\n",
              "      quickchartButtonEl.classList.remove('colab-df-spinner');\n",
              "      quickchartButtonEl.classList.add('colab-df-quickchart-complete');\n",
              "    }\n",
              "    (() => {\n",
              "      let quickchartButtonEl =\n",
              "        document.querySelector('#df-c368642d-f267-4384-85e5-e7a760785616 button');\n",
              "      quickchartButtonEl.style.display =\n",
              "        google.colab.kernel.accessAllowed ? 'block' : 'none';\n",
              "    })();\n",
              "  </script>\n",
              "</div>\n",
              "    </div>\n",
              "  </div>\n"
            ],
            "application/vnd.google.colaboratory.intrinsic+json": {
              "type": "dataframe",
              "variable_name": "df"
            }
          },
          "metadata": {},
          "execution_count": 12
        }
      ],
      "source": [
        "# Left merge count_df and song_df on \"song_id\". Drop duplicates from song_df data simultaneously\n",
        "song_df = song_df.drop_duplicates(subset=['song_id'])\n",
        "df = pd.merge(count_df, song_df, on=\"song_id\", how=\"left\")\n",
        "\n",
        "# Drop the column 'Unnamed: 0'\n",
        "df = df.drop(columns=['Unnamed: 0'])\n",
        "\n",
        "## Name the obtained dataframe as \"df\"\n",
        "df"
      ]
    },
    {
      "cell_type": "markdown",
      "metadata": {
        "id": "yWeY9ZT43XFX"
      },
      "source": [
        "**Think About It:** As the user_id and song_id are encrypted. Can they be encoded to numeric features?"
      ]
    },
    {
      "cell_type": "code",
      "execution_count": null,
      "metadata": {
        "id": "oxeoOVxh2T9U",
        "colab": {
          "base_uri": "https://localhost:8080/",
          "height": 562
        },
        "outputId": "4b1ff811-6a66-4ded-dd8c-3f844b2139d8"
      },
      "outputs": [
        {
          "output_type": "execute_result",
          "data": {
            "text/plain": [
              "                                          user_id             song_id  \\\n",
              "0        b80344d063b5ccb3212f76538f3d9e43d87dca9e  SOAKIMP12A8C130995   \n",
              "1        b80344d063b5ccb3212f76538f3d9e43d87dca9e  SOBBMDR12A8C13253B   \n",
              "2        b80344d063b5ccb3212f76538f3d9e43d87dca9e  SOBXHDL12A81C204C0   \n",
              "3        b80344d063b5ccb3212f76538f3d9e43d87dca9e  SOBYHAJ12A6701BF1D   \n",
              "4        b80344d063b5ccb3212f76538f3d9e43d87dca9e  SODACBL12A8C13C273   \n",
              "...                                           ...                 ...   \n",
              "1999995  d8bfd4ec88f0f3773a9e022e3c1a0f1d3b7b6a92  SOJEYPO12AAA8C6B0E   \n",
              "1999996  d8bfd4ec88f0f3773a9e022e3c1a0f1d3b7b6a92  SOJJYDE12AF729FC16   \n",
              "1999997  d8bfd4ec88f0f3773a9e022e3c1a0f1d3b7b6a92  SOJKQSF12A6D4F5EE9   \n",
              "1999998  d8bfd4ec88f0f3773a9e022e3c1a0f1d3b7b6a92  SOJUXGA12AC961885C   \n",
              "1999999  d8bfd4ec88f0f3773a9e022e3c1a0f1d3b7b6a92  SOJYOLS12A8C13C06F   \n",
              "\n",
              "         play_count                           title  \\\n",
              "0                 1                        The Cove   \n",
              "1                 2                 Entre Dos Aguas   \n",
              "2                 1                        Stronger   \n",
              "3                 1                  Constellations   \n",
              "4                 1                    Learn To Fly   \n",
              "...             ...                             ...   \n",
              "1999995           2       Ignorance (Album Version)   \n",
              "1999996           4          Two Is Better Than One   \n",
              "1999997           3  What I've Done (Album Version)   \n",
              "1999998           1                              Up   \n",
              "1999999           1      Soil_ Soil (Album Version)   \n",
              "\n",
              "                               release  \\\n",
              "0                   Thicker Than Water   \n",
              "1                  Flamenco Para Niños   \n",
              "2                           Graduation   \n",
              "3                    In Between Dreams   \n",
              "4        There Is Nothing Left To Lose   \n",
              "...                                ...   \n",
              "1999995                      Ignorance   \n",
              "1999996                     Love Drunk   \n",
              "1999997                 What I've Done   \n",
              "1999998                      My Worlds   \n",
              "1999999                        The Con   \n",
              "\n",
              "                                    artist_name  year  user_id_encoded  \\\n",
              "0                                  Jack Johnson     0            54961   \n",
              "1                                 Paco De Lucia  1976            54961   \n",
              "2                                    Kanye West  2007            54961   \n",
              "3                                  Jack Johnson  2005            54961   \n",
              "4                                  Foo Fighters  1999            54961   \n",
              "...                                         ...   ...              ...   \n",
              "1999995                                Paramore     0            64590   \n",
              "1999996  Boys Like Girls featuring Taylor Swift  2009            64590   \n",
              "1999997                             Linkin Park  2007            64590   \n",
              "1999998                           Justin Bieber  2010            64590   \n",
              "1999999                          Tegan And Sara  2007            64590   \n",
              "\n",
              "         song_id_encoded  \n",
              "0                    153  \n",
              "1                    413  \n",
              "2                    736  \n",
              "3                    750  \n",
              "4                   1188  \n",
              "...                  ...  \n",
              "1999995             3660  \n",
              "1999996             3736  \n",
              "1999997             3744  \n",
              "1999998             3893  \n",
              "1999999             3963  \n",
              "\n",
              "[2000000 rows x 9 columns]"
            ],
            "text/html": [
              "\n",
              "  <div id=\"df-e2ddd217-f462-4517-a144-651eb2cd4c7d\" class=\"colab-df-container\">\n",
              "    <div>\n",
              "<style scoped>\n",
              "    .dataframe tbody tr th:only-of-type {\n",
              "        vertical-align: middle;\n",
              "    }\n",
              "\n",
              "    .dataframe tbody tr th {\n",
              "        vertical-align: top;\n",
              "    }\n",
              "\n",
              "    .dataframe thead th {\n",
              "        text-align: right;\n",
              "    }\n",
              "</style>\n",
              "<table border=\"1\" class=\"dataframe\">\n",
              "  <thead>\n",
              "    <tr style=\"text-align: right;\">\n",
              "      <th></th>\n",
              "      <th>user_id</th>\n",
              "      <th>song_id</th>\n",
              "      <th>play_count</th>\n",
              "      <th>title</th>\n",
              "      <th>release</th>\n",
              "      <th>artist_name</th>\n",
              "      <th>year</th>\n",
              "      <th>user_id_encoded</th>\n",
              "      <th>song_id_encoded</th>\n",
              "    </tr>\n",
              "  </thead>\n",
              "  <tbody>\n",
              "    <tr>\n",
              "      <th>0</th>\n",
              "      <td>b80344d063b5ccb3212f76538f3d9e43d87dca9e</td>\n",
              "      <td>SOAKIMP12A8C130995</td>\n",
              "      <td>1</td>\n",
              "      <td>The Cove</td>\n",
              "      <td>Thicker Than Water</td>\n",
              "      <td>Jack Johnson</td>\n",
              "      <td>0</td>\n",
              "      <td>54961</td>\n",
              "      <td>153</td>\n",
              "    </tr>\n",
              "    <tr>\n",
              "      <th>1</th>\n",
              "      <td>b80344d063b5ccb3212f76538f3d9e43d87dca9e</td>\n",
              "      <td>SOBBMDR12A8C13253B</td>\n",
              "      <td>2</td>\n",
              "      <td>Entre Dos Aguas</td>\n",
              "      <td>Flamenco Para Niños</td>\n",
              "      <td>Paco De Lucia</td>\n",
              "      <td>1976</td>\n",
              "      <td>54961</td>\n",
              "      <td>413</td>\n",
              "    </tr>\n",
              "    <tr>\n",
              "      <th>2</th>\n",
              "      <td>b80344d063b5ccb3212f76538f3d9e43d87dca9e</td>\n",
              "      <td>SOBXHDL12A81C204C0</td>\n",
              "      <td>1</td>\n",
              "      <td>Stronger</td>\n",
              "      <td>Graduation</td>\n",
              "      <td>Kanye West</td>\n",
              "      <td>2007</td>\n",
              "      <td>54961</td>\n",
              "      <td>736</td>\n",
              "    </tr>\n",
              "    <tr>\n",
              "      <th>3</th>\n",
              "      <td>b80344d063b5ccb3212f76538f3d9e43d87dca9e</td>\n",
              "      <td>SOBYHAJ12A6701BF1D</td>\n",
              "      <td>1</td>\n",
              "      <td>Constellations</td>\n",
              "      <td>In Between Dreams</td>\n",
              "      <td>Jack Johnson</td>\n",
              "      <td>2005</td>\n",
              "      <td>54961</td>\n",
              "      <td>750</td>\n",
              "    </tr>\n",
              "    <tr>\n",
              "      <th>4</th>\n",
              "      <td>b80344d063b5ccb3212f76538f3d9e43d87dca9e</td>\n",
              "      <td>SODACBL12A8C13C273</td>\n",
              "      <td>1</td>\n",
              "      <td>Learn To Fly</td>\n",
              "      <td>There Is Nothing Left To Lose</td>\n",
              "      <td>Foo Fighters</td>\n",
              "      <td>1999</td>\n",
              "      <td>54961</td>\n",
              "      <td>1188</td>\n",
              "    </tr>\n",
              "    <tr>\n",
              "      <th>...</th>\n",
              "      <td>...</td>\n",
              "      <td>...</td>\n",
              "      <td>...</td>\n",
              "      <td>...</td>\n",
              "      <td>...</td>\n",
              "      <td>...</td>\n",
              "      <td>...</td>\n",
              "      <td>...</td>\n",
              "      <td>...</td>\n",
              "    </tr>\n",
              "    <tr>\n",
              "      <th>1999995</th>\n",
              "      <td>d8bfd4ec88f0f3773a9e022e3c1a0f1d3b7b6a92</td>\n",
              "      <td>SOJEYPO12AAA8C6B0E</td>\n",
              "      <td>2</td>\n",
              "      <td>Ignorance (Album Version)</td>\n",
              "      <td>Ignorance</td>\n",
              "      <td>Paramore</td>\n",
              "      <td>0</td>\n",
              "      <td>64590</td>\n",
              "      <td>3660</td>\n",
              "    </tr>\n",
              "    <tr>\n",
              "      <th>1999996</th>\n",
              "      <td>d8bfd4ec88f0f3773a9e022e3c1a0f1d3b7b6a92</td>\n",
              "      <td>SOJJYDE12AF729FC16</td>\n",
              "      <td>4</td>\n",
              "      <td>Two Is Better Than One</td>\n",
              "      <td>Love Drunk</td>\n",
              "      <td>Boys Like Girls featuring Taylor Swift</td>\n",
              "      <td>2009</td>\n",
              "      <td>64590</td>\n",
              "      <td>3736</td>\n",
              "    </tr>\n",
              "    <tr>\n",
              "      <th>1999997</th>\n",
              "      <td>d8bfd4ec88f0f3773a9e022e3c1a0f1d3b7b6a92</td>\n",
              "      <td>SOJKQSF12A6D4F5EE9</td>\n",
              "      <td>3</td>\n",
              "      <td>What I've Done (Album Version)</td>\n",
              "      <td>What I've Done</td>\n",
              "      <td>Linkin Park</td>\n",
              "      <td>2007</td>\n",
              "      <td>64590</td>\n",
              "      <td>3744</td>\n",
              "    </tr>\n",
              "    <tr>\n",
              "      <th>1999998</th>\n",
              "      <td>d8bfd4ec88f0f3773a9e022e3c1a0f1d3b7b6a92</td>\n",
              "      <td>SOJUXGA12AC961885C</td>\n",
              "      <td>1</td>\n",
              "      <td>Up</td>\n",
              "      <td>My Worlds</td>\n",
              "      <td>Justin Bieber</td>\n",
              "      <td>2010</td>\n",
              "      <td>64590</td>\n",
              "      <td>3893</td>\n",
              "    </tr>\n",
              "    <tr>\n",
              "      <th>1999999</th>\n",
              "      <td>d8bfd4ec88f0f3773a9e022e3c1a0f1d3b7b6a92</td>\n",
              "      <td>SOJYOLS12A8C13C06F</td>\n",
              "      <td>1</td>\n",
              "      <td>Soil_ Soil (Album Version)</td>\n",
              "      <td>The Con</td>\n",
              "      <td>Tegan And Sara</td>\n",
              "      <td>2007</td>\n",
              "      <td>64590</td>\n",
              "      <td>3963</td>\n",
              "    </tr>\n",
              "  </tbody>\n",
              "</table>\n",
              "<p>2000000 rows × 9 columns</p>\n",
              "</div>\n",
              "    <div class=\"colab-df-buttons\">\n",
              "\n",
              "  <div class=\"colab-df-container\">\n",
              "    <button class=\"colab-df-convert\" onclick=\"convertToInteractive('df-e2ddd217-f462-4517-a144-651eb2cd4c7d')\"\n",
              "            title=\"Convert this dataframe to an interactive table.\"\n",
              "            style=\"display:none;\">\n",
              "\n",
              "  <svg xmlns=\"http://www.w3.org/2000/svg\" height=\"24px\" viewBox=\"0 -960 960 960\">\n",
              "    <path d=\"M120-120v-720h720v720H120Zm60-500h600v-160H180v160Zm220 220h160v-160H400v160Zm0 220h160v-160H400v160ZM180-400h160v-160H180v160Zm440 0h160v-160H620v160ZM180-180h160v-160H180v160Zm440 0h160v-160H620v160Z\"/>\n",
              "  </svg>\n",
              "    </button>\n",
              "\n",
              "  <style>\n",
              "    .colab-df-container {\n",
              "      display:flex;\n",
              "      gap: 12px;\n",
              "    }\n",
              "\n",
              "    .colab-df-convert {\n",
              "      background-color: #E8F0FE;\n",
              "      border: none;\n",
              "      border-radius: 50%;\n",
              "      cursor: pointer;\n",
              "      display: none;\n",
              "      fill: #1967D2;\n",
              "      height: 32px;\n",
              "      padding: 0 0 0 0;\n",
              "      width: 32px;\n",
              "    }\n",
              "\n",
              "    .colab-df-convert:hover {\n",
              "      background-color: #E2EBFA;\n",
              "      box-shadow: 0px 1px 2px rgba(60, 64, 67, 0.3), 0px 1px 3px 1px rgba(60, 64, 67, 0.15);\n",
              "      fill: #174EA6;\n",
              "    }\n",
              "\n",
              "    .colab-df-buttons div {\n",
              "      margin-bottom: 4px;\n",
              "    }\n",
              "\n",
              "    [theme=dark] .colab-df-convert {\n",
              "      background-color: #3B4455;\n",
              "      fill: #D2E3FC;\n",
              "    }\n",
              "\n",
              "    [theme=dark] .colab-df-convert:hover {\n",
              "      background-color: #434B5C;\n",
              "      box-shadow: 0px 1px 3px 1px rgba(0, 0, 0, 0.15);\n",
              "      filter: drop-shadow(0px 1px 2px rgba(0, 0, 0, 0.3));\n",
              "      fill: #FFFFFF;\n",
              "    }\n",
              "  </style>\n",
              "\n",
              "    <script>\n",
              "      const buttonEl =\n",
              "        document.querySelector('#df-e2ddd217-f462-4517-a144-651eb2cd4c7d button.colab-df-convert');\n",
              "      buttonEl.style.display =\n",
              "        google.colab.kernel.accessAllowed ? 'block' : 'none';\n",
              "\n",
              "      async function convertToInteractive(key) {\n",
              "        const element = document.querySelector('#df-e2ddd217-f462-4517-a144-651eb2cd4c7d');\n",
              "        const dataTable =\n",
              "          await google.colab.kernel.invokeFunction('convertToInteractive',\n",
              "                                                    [key], {});\n",
              "        if (!dataTable) return;\n",
              "\n",
              "        const docLinkHtml = 'Like what you see? Visit the ' +\n",
              "          '<a target=\"_blank\" href=https://colab.research.google.com/notebooks/data_table.ipynb>data table notebook</a>'\n",
              "          + ' to learn more about interactive tables.';\n",
              "        element.innerHTML = '';\n",
              "        dataTable['output_type'] = 'display_data';\n",
              "        await google.colab.output.renderOutput(dataTable, element);\n",
              "        const docLink = document.createElement('div');\n",
              "        docLink.innerHTML = docLinkHtml;\n",
              "        element.appendChild(docLink);\n",
              "      }\n",
              "    </script>\n",
              "  </div>\n",
              "\n",
              "\n",
              "<div id=\"df-23064357-8849-484c-bb35-8adffa9fea1b\">\n",
              "  <button class=\"colab-df-quickchart\" onclick=\"quickchart('df-23064357-8849-484c-bb35-8adffa9fea1b')\"\n",
              "            title=\"Suggest charts\"\n",
              "            style=\"display:none;\">\n",
              "\n",
              "<svg xmlns=\"http://www.w3.org/2000/svg\" height=\"24px\"viewBox=\"0 0 24 24\"\n",
              "     width=\"24px\">\n",
              "    <g>\n",
              "        <path d=\"M19 3H5c-1.1 0-2 .9-2 2v14c0 1.1.9 2 2 2h14c1.1 0 2-.9 2-2V5c0-1.1-.9-2-2-2zM9 17H7v-7h2v7zm4 0h-2V7h2v10zm4 0h-2v-4h2v4z\"/>\n",
              "    </g>\n",
              "</svg>\n",
              "  </button>\n",
              "\n",
              "<style>\n",
              "  .colab-df-quickchart {\n",
              "      --bg-color: #E8F0FE;\n",
              "      --fill-color: #1967D2;\n",
              "      --hover-bg-color: #E2EBFA;\n",
              "      --hover-fill-color: #174EA6;\n",
              "      --disabled-fill-color: #AAA;\n",
              "      --disabled-bg-color: #DDD;\n",
              "  }\n",
              "\n",
              "  [theme=dark] .colab-df-quickchart {\n",
              "      --bg-color: #3B4455;\n",
              "      --fill-color: #D2E3FC;\n",
              "      --hover-bg-color: #434B5C;\n",
              "      --hover-fill-color: #FFFFFF;\n",
              "      --disabled-bg-color: #3B4455;\n",
              "      --disabled-fill-color: #666;\n",
              "  }\n",
              "\n",
              "  .colab-df-quickchart {\n",
              "    background-color: var(--bg-color);\n",
              "    border: none;\n",
              "    border-radius: 50%;\n",
              "    cursor: pointer;\n",
              "    display: none;\n",
              "    fill: var(--fill-color);\n",
              "    height: 32px;\n",
              "    padding: 0;\n",
              "    width: 32px;\n",
              "  }\n",
              "\n",
              "  .colab-df-quickchart:hover {\n",
              "    background-color: var(--hover-bg-color);\n",
              "    box-shadow: 0 1px 2px rgba(60, 64, 67, 0.3), 0 1px 3px 1px rgba(60, 64, 67, 0.15);\n",
              "    fill: var(--button-hover-fill-color);\n",
              "  }\n",
              "\n",
              "  .colab-df-quickchart-complete:disabled,\n",
              "  .colab-df-quickchart-complete:disabled:hover {\n",
              "    background-color: var(--disabled-bg-color);\n",
              "    fill: var(--disabled-fill-color);\n",
              "    box-shadow: none;\n",
              "  }\n",
              "\n",
              "  .colab-df-spinner {\n",
              "    border: 2px solid var(--fill-color);\n",
              "    border-color: transparent;\n",
              "    border-bottom-color: var(--fill-color);\n",
              "    animation:\n",
              "      spin 1s steps(1) infinite;\n",
              "  }\n",
              "\n",
              "  @keyframes spin {\n",
              "    0% {\n",
              "      border-color: transparent;\n",
              "      border-bottom-color: var(--fill-color);\n",
              "      border-left-color: var(--fill-color);\n",
              "    }\n",
              "    20% {\n",
              "      border-color: transparent;\n",
              "      border-left-color: var(--fill-color);\n",
              "      border-top-color: var(--fill-color);\n",
              "    }\n",
              "    30% {\n",
              "      border-color: transparent;\n",
              "      border-left-color: var(--fill-color);\n",
              "      border-top-color: var(--fill-color);\n",
              "      border-right-color: var(--fill-color);\n",
              "    }\n",
              "    40% {\n",
              "      border-color: transparent;\n",
              "      border-right-color: var(--fill-color);\n",
              "      border-top-color: var(--fill-color);\n",
              "    }\n",
              "    60% {\n",
              "      border-color: transparent;\n",
              "      border-right-color: var(--fill-color);\n",
              "    }\n",
              "    80% {\n",
              "      border-color: transparent;\n",
              "      border-right-color: var(--fill-color);\n",
              "      border-bottom-color: var(--fill-color);\n",
              "    }\n",
              "    90% {\n",
              "      border-color: transparent;\n",
              "      border-bottom-color: var(--fill-color);\n",
              "    }\n",
              "  }\n",
              "</style>\n",
              "\n",
              "  <script>\n",
              "    async function quickchart(key) {\n",
              "      const quickchartButtonEl =\n",
              "        document.querySelector('#' + key + ' button');\n",
              "      quickchartButtonEl.disabled = true;  // To prevent multiple clicks.\n",
              "      quickchartButtonEl.classList.add('colab-df-spinner');\n",
              "      try {\n",
              "        const charts = await google.colab.kernel.invokeFunction(\n",
              "            'suggestCharts', [key], {});\n",
              "      } catch (error) {\n",
              "        console.error('Error during call to suggestCharts:', error);\n",
              "      }\n",
              "      quickchartButtonEl.classList.remove('colab-df-spinner');\n",
              "      quickchartButtonEl.classList.add('colab-df-quickchart-complete');\n",
              "    }\n",
              "    (() => {\n",
              "      let quickchartButtonEl =\n",
              "        document.querySelector('#df-23064357-8849-484c-bb35-8adffa9fea1b button');\n",
              "      quickchartButtonEl.style.display =\n",
              "        google.colab.kernel.accessAllowed ? 'block' : 'none';\n",
              "    })();\n",
              "  </script>\n",
              "</div>\n",
              "    </div>\n",
              "  </div>\n"
            ],
            "application/vnd.google.colaboratory.intrinsic+json": {
              "type": "dataframe",
              "variable_name": "df"
            }
          },
          "metadata": {},
          "execution_count": 15
        }
      ],
      "source": [
        "# Apply label encoding for \"user_id\" and \"song_id\"\n",
        "from sklearn.preprocessing import LabelEncoder\n",
        "\n",
        "# Initialize the label encoders\n",
        "le_user = LabelEncoder()\n",
        "le_song = LabelEncoder()\n",
        "\n",
        "# Fit and transform the 'user_id' and 'song_id' columns\n",
        "df['user_id_encoded'] = le_user.fit_transform(df['user_id'])\n",
        "df['song_id_encoded'] = le_song.fit_transform(df['song_id'])\n",
        "df\n"
      ]
    },
    {
      "cell_type": "markdown",
      "metadata": {
        "id": "6Q9EFYwj35Ju"
      },
      "source": [
        "**Think About It:** As the data also contains users who have listened to very few songs and vice versa, is it required to filter the data so that it contains users who have listened to a good count of songs and vice versa?"
      ]
    },
    {
      "cell_type": "markdown",
      "metadata": {
        "id": "gcY5LKAQvk9J"
      },
      "source": [
        "A dataset of size 2000000 rows x 7 columns can be quite large and may require a lot of computing resources to process. This can lead to long processing times and can make it difficult to train and evaluate your model efficiently.\n",
        "In order to address this issue, it may be necessary to trim down your dataset to a more manageable size."
      ]
    },
    {
      "cell_type": "code",
      "execution_count": null,
      "metadata": {
        "id": "7GGH9TW0_9uX"
      },
      "outputs": [],
      "source": [
        "# Get the column containing the users\n",
        "users = df.user_id\n",
        "\n",
        "# Create a dictionary that maps users(listeners) to the number of songs that they have listened to\n",
        "playing_count = dict()\n",
        "\n",
        "for user in users:\n",
        "    # If we already have the user, just add 1 to their playing count\n",
        "    if user in playing_count:\n",
        "        playing_count[user] += 1\n",
        "\n",
        "    # Otherwise, set their playing count to 1\n",
        "    else:\n",
        "        playing_count[user] = 1"
      ]
    },
    {
      "cell_type": "code",
      "execution_count": null,
      "metadata": {
        "id": "-cc6mOK7_9uX"
      },
      "outputs": [],
      "source": [
        "# We want our users to have listened at least 90 songs\n",
        "SONG_COUNT_CUTOFF = 90\n",
        "\n",
        "# Create a list of users who need to be removed\n",
        "remove_users = []\n",
        "\n",
        "for user, num_songs in playing_count.items():\n",
        "\n",
        "    if num_songs < SONG_COUNT_CUTOFF:\n",
        "        remove_users.append(user)\n",
        "\n",
        "df = df.loc[ ~ df.user_id.isin(remove_users)]"
      ]
    },
    {
      "cell_type": "code",
      "execution_count": null,
      "metadata": {
        "id": "B5BS-Wk5_9uY"
      },
      "outputs": [],
      "source": [
        "# Get the column containing the songs\n",
        "songs = df.song_id\n",
        "\n",
        "# Create a dictionary that maps songs to its number of users(listeners)\n",
        "playing_count = dict()\n",
        "\n",
        "for song in songs:\n",
        "    # If we already have the song, just add 1 to their playing count\n",
        "    if song in playing_count:\n",
        "        playing_count[song] += 1\n",
        "\n",
        "    # Otherwise, set their playing count to 1\n",
        "    else:\n",
        "        playing_count[song] = 1"
      ]
    },
    {
      "cell_type": "code",
      "execution_count": null,
      "metadata": {
        "id": "_nCtGwGO_9uY"
      },
      "outputs": [],
      "source": [
        "# We want our song to be listened by atleast 120 users to be considred\n",
        "LISTENER_COUNT_CUTOFF = 120\n",
        "\n",
        "remove_songs = []\n",
        "\n",
        "for song, num_users in playing_count.items():\n",
        "    if num_users < LISTENER_COUNT_CUTOFF:\n",
        "        remove_songs.append(song)\n",
        "\n",
        "df_final= df.loc[ ~ df.song_id.isin(remove_songs)]"
      ]
    },
    {
      "cell_type": "markdown",
      "metadata": {
        "id": "a7TsW7G14ITt"
      },
      "source": [
        "Out of all the songs available, songs with play_count less than or equal to 5 are in almost 90% abundance. So for building the recommendation system let us consider only those songs."
      ]
    },
    {
      "cell_type": "code",
      "execution_count": null,
      "metadata": {
        "id": "8qaKeoMcGpad"
      },
      "outputs": [],
      "source": [
        "# Keep only records of songs with play_count less than or equal to (<=) 5\n",
        "df_final = df_final[df_final.play_count<=5]"
      ]
    },
    {
      "cell_type": "code",
      "execution_count": null,
      "metadata": {
        "id": "aL1JZ00o5JtQ",
        "colab": {
          "base_uri": "https://localhost:8080/"
        },
        "outputId": "c1f6bb13-9dc1-469d-c412-46fccfab7083"
      },
      "outputs": [
        {
          "output_type": "execute_result",
          "data": {
            "text/plain": [
              "(117876, 9)"
            ]
          },
          "metadata": {},
          "execution_count": 20
        }
      ],
      "source": [
        "# Check the shape of the data\n",
        "df_final.shape"
      ]
    },
    {
      "cell_type": "markdown",
      "metadata": {
        "id": "uZcr1Eke2T9W"
      },
      "source": [
        "## **Exploratory Data Analysis**"
      ]
    },
    {
      "cell_type": "markdown",
      "metadata": {
        "id": "ByuHmvWDeBJI"
      },
      "source": [
        "### **Let's check the total number of unique users, songs, artists in the data**"
      ]
    },
    {
      "cell_type": "markdown",
      "metadata": {
        "id": "DE_gukSJ2T9W"
      },
      "source": [
        "Total number of unique user id"
      ]
    },
    {
      "cell_type": "code",
      "execution_count": null,
      "metadata": {
        "id": "n5E24_Ec2T9W",
        "colab": {
          "base_uri": "https://localhost:8080/"
        },
        "outputId": "d17071a9-e6dd-4be5-e5d6-36e5ce5ad2e0"
      },
      "outputs": [
        {
          "output_type": "stream",
          "name": "stdout",
          "text": [
            "Total number of unique users: 3155\n"
          ]
        }
      ],
      "source": [
        "# Display total number of unique user_id\n",
        "unique_users = df_final['user_id'].nunique()\n",
        "print(\"Total number of unique users:\", unique_users)\n",
        "\n"
      ]
    },
    {
      "cell_type": "markdown",
      "metadata": {
        "id": "wV3BOTdJII-t"
      },
      "source": [
        "Total number of unique song id"
      ]
    },
    {
      "cell_type": "code",
      "execution_count": null,
      "metadata": {
        "id": "5SlpPkIE2T9W",
        "colab": {
          "base_uri": "https://localhost:8080/"
        },
        "outputId": "4e9e9153-d29a-4af7-b313-f6dd8095304b"
      },
      "outputs": [
        {
          "output_type": "stream",
          "name": "stdout",
          "text": [
            "Total number of unique songs: 563\n"
          ]
        }
      ],
      "source": [
        "# Display total number of unique song_id\n",
        "unique_songs = df_final['song_id'].nunique()\n",
        "print(\"Total number of unique songs:\", unique_songs)\n",
        "\n"
      ]
    },
    {
      "cell_type": "markdown",
      "metadata": {
        "id": "eGXPsCjXVpUW"
      },
      "source": [
        "Total number of unique artists"
      ]
    },
    {
      "cell_type": "code",
      "execution_count": null,
      "metadata": {
        "id": "qSVUwb8h2T9X",
        "colab": {
          "base_uri": "https://localhost:8080/"
        },
        "outputId": "fa88d82d-cec0-4997-ed63-19406d4334e3"
      },
      "outputs": [
        {
          "output_type": "stream",
          "name": "stdout",
          "text": [
            "Total number of unique artists: 232\n"
          ]
        }
      ],
      "source": [
        "# Display total number of unique artists\n",
        "unique_artists = df_final['artist_name'].nunique()\n",
        "print(\"Total number of unique artists:\", unique_artists)\n"
      ]
    },
    {
      "cell_type": "markdown",
      "metadata": {
        "id": "bvk-YAo-eGGW"
      },
      "source": [
        "#### **Observations and Insights:__________**\n"
      ]
    },
    {
      "cell_type": "markdown",
      "metadata": {
        "id": "rLdIfv22ISBK"
      },
      "source": [
        "### **Let's find out about the most interacted songs and interacted users**"
      ]
    },
    {
      "cell_type": "markdown",
      "metadata": {
        "id": "W3DyN_8atsCx"
      },
      "source": [
        "Most interacted songs"
      ]
    },
    {
      "cell_type": "code",
      "execution_count": null,
      "metadata": {
        "id": "qWDrvIFF2T9X",
        "colab": {
          "base_uri": "https://localhost:8080/"
        },
        "outputId": "0172c33f-ff2e-4e7d-96a6-3b2d0e13c15f"
      },
      "outputs": [
        {
          "output_type": "stream",
          "name": "stdout",
          "text": [
            "              song_id  total_play_count                           title\n",
            "0  SOAXGDH12A8C13F8A1              1634  Dog Days Are Over (Radio Edit)\n",
            "1  SOFRQTD12A81C233C0              1583                   Sehr kosmisch\n",
            "2  SOWCKVR12A8C142411              1463                    Use Somebody\n",
            "3  SONYKOW12AB01849C9              1427                         Secrets\n",
            "4  SOLFXKT12AB017E3E0              1291                       Fireflies\n"
          ]
        }
      ],
      "source": [
        "# Group by 'song_id' and sum the 'play_count', then sort in descending order\n",
        "most_interacted_songs = df_final.groupby('song_id')['play_count'].sum().reset_index(name='total_play_count').sort_values(by='total_play_count', ascending=False)\n",
        "\n",
        "# Merge to get song titles\n",
        "most_interacted_songs_with_title = pd.merge(most_interacted_songs, song_df[['song_id', 'title']], on='song_id')\n",
        "\n",
        "# Display the top results with titles\n",
        "print(most_interacted_songs_with_title.head())\n"
      ]
    },
    {
      "cell_type": "markdown",
      "metadata": {
        "id": "nnoXCc9zIV45"
      },
      "source": [
        "Most interacted users"
      ]
    },
    {
      "cell_type": "code",
      "execution_count": null,
      "metadata": {
        "id": "971EiBdf2T9X",
        "colab": {
          "base_uri": "https://localhost:8080/"
        },
        "outputId": "a6c7ec2a-e833-4387-afb7-f49fff37f11d"
      },
      "outputs": [
        {
          "output_type": "stream",
          "name": "stdout",
          "text": [
            "                                       user_id  unique_song_count\n",
            "2547  ce5c912bb8044f23fc0fc31bd986b8d0a7303db5                243\n",
            "661   34e191b5e3ac4d0b86b100e3325aa46c34998248                227\n",
            "1561  7c80116b2a5c6602ca60fc40ef932e12fd304a69                202\n",
            "398   2078b23380f2a80615fb9829621f7dc6cc6c7a82                184\n",
            "964   4e3398ef89d9c00975d0b0f5b7bc7b7f067c7902                177\n"
          ]
        }
      ],
      "source": [
        "# Group by 'user_id' and count unique 'song_id' values\n",
        "unique_song_interactions = df_final.groupby('user_id')['song_id'].nunique().reset_index(name='unique_song_count').sort_values(by='unique_song_count', ascending=False)\n",
        "\n",
        "# Display the users with the most unique song interactions\n",
        "print(unique_song_interactions.head())\n"
      ]
    },
    {
      "cell_type": "markdown",
      "metadata": {
        "id": "tPZRc1e-eyyO"
      },
      "source": [
        "#### **Observations and Insights:_______**\n"
      ]
    },
    {
      "cell_type": "markdown",
      "metadata": {
        "id": "joFF5zndX1Dk"
      },
      "source": [
        "Songs released on yearly basis"
      ]
    },
    {
      "cell_type": "code",
      "execution_count": null,
      "metadata": {
        "id": "bQp2iVMC2T9Y",
        "colab": {
          "base_uri": "https://localhost:8080/"
        },
        "outputId": "e7112492-ebd4-4eda-8720-f83cf924299e"
      },
      "outputs": [
        {
          "output_type": "stream",
          "name": "stdout",
          "text": [
            "    year  num_songs\n",
            "0      0     484284\n",
            "1   1922          6\n",
            "2   1924          5\n",
            "3   1925          7\n",
            "4   1926         19\n",
            "..   ...        ...\n",
            "85  2007      39340\n",
            "86  2008      34684\n",
            "87  2009      30966\n",
            "88  2010       9381\n",
            "89  2011          1\n",
            "\n",
            "[90 rows x 2 columns]\n"
          ]
        }
      ],
      "source": [
        "# Find out the number of songs released in a year, use the songs_df\n",
        "  # Hint: Use groupby function on the 'year' column\n",
        "  # Group by 'year' and count the number of songs\n",
        "songs_per_year = song_df.groupby('year').size().reset_index(name='num_songs')\n",
        "\n",
        "# Display the number of songs released each year\n",
        "print(songs_per_year)\n"
      ]
    },
    {
      "cell_type": "code",
      "execution_count": null,
      "metadata": {
        "id": "bZCkOiAB2T9Y",
        "colab": {
          "base_uri": "https://localhost:8080/",
          "height": 564
        },
        "outputId": "fdbbb21b-afb8-45cf-b67c-934fd44f2878"
      },
      "outputs": [
        {
          "output_type": "display_data",
          "data": {
            "text/plain": [
              "<Figure size 1000x600 with 1 Axes>"
            ],
            "image/png": "[encoded data removed]"
          },
          "metadata": {}
        }
      ],
      "source": [
        "import matplotlib.pyplot as plt\n",
        "\n",
        "# Assuming 'songs_per_year' is your DataFrame with 'year' and 'num_songs' columns\n",
        "# Filter to exclude years with no songs, if not already done\n",
        "songs_per_year_filtered = songs_per_year[songs_per_year.year > 0]\n",
        "\n",
        "# Set the figure size\n",
        "plt.figure(figsize=(10, 6))\n",
        "\n",
        "# Create a bar plot\n",
        "plt.bar(songs_per_year_filtered['year'], songs_per_year_filtered['num_songs'])\n",
        "\n",
        "# Set the x and y labels\n",
        "plt.xlabel('Year')\n",
        "plt.ylabel('Number of Titles Played')\n",
        "\n",
        "# Optionally, set a title for the plot\n",
        "plt.title('Number of Titles Played by Year')\n",
        "\n",
        "# Show the plot\n",
        "plt.show()\n"
      ]
    },
    {
      "cell_type": "markdown",
      "metadata": {
        "id": "VUcXc7ZYfaGl"
      },
      "source": [
        "#### **Observations and Insights:__________** #"
      ]
    },
    {
      "cell_type": "markdown",
      "metadata": {
        "id": "RtAjyDMioHCp"
      },
      "source": [
        "**Think About It:** What other insights can be drawn using exploratory data analysis?"
      ]
    },
    {
      "cell_type": "markdown",
      "metadata": {
        "id": "OWO4C8KsK_5e"
      },
      "source": [
        "Now that we have explored the data, let's apply different algorithms to build recommendation systems.\n",
        "\n",
        "**Note:** Use the shorter version of the data, i.e., the data after the cutoffs as used in Milestone 1."
      ]
    },
    {
      "cell_type": "markdown",
      "metadata": {
        "id": "9VThYg7voGIz"
      },
      "source": [
        "## Building various models"
      ]
    },
    {
      "cell_type": "markdown",
      "metadata": {
        "id": "Ituk9wA4Idib"
      },
      "source": [
        "### **Popularity-Based Recommendation Systems**"
      ]
    },
    {
      "cell_type": "markdown",
      "metadata": {
        "id": "462hsbxaI1ED"
      },
      "source": [
        "Let's take the count and sum of play counts of the songs and build the popularity recommendation systems based on the sum of play counts."
      ]
    },
    {
      "cell_type": "code",
      "execution_count": null,
      "metadata": {
        "id": "UXhBZlDE-jEu",
        "colab": {
          "base_uri": "https://localhost:8080/"
        },
        "outputId": "9113c362-5b73-49dc-ebef-c51c04d91f6b"
      },
      "outputs": [
        {
          "output_type": "stream",
          "name": "stdout",
          "text": [
            "              song_id  average_play_count\n",
            "0  SOABJBU12A8C13F63F            1.622642\n",
            "1  SOABJTC12A58A7DE0E            1.492424\n",
            "2  SOADJQJ12A8C141D38            1.729216\n",
            "3  SOADQPP12A67020C82            1.728070\n",
            "4  SOAFQGA12A8C1367FA            1.452174\n",
            "              song_id  play_frequency\n",
            "0  SOABJBU12A8C13F63F             265\n",
            "1  SOABJTC12A58A7DE0E             132\n",
            "2  SOADJQJ12A8C141D38             421\n",
            "3  SOADQPP12A67020C82             114\n",
            "4  SOAFQGA12A8C1367FA             115\n"
          ]
        }
      ],
      "source": [
        "# Calculating average play_count\n",
        "       # Hint: Use groupby function on the song_id column\n",
        "# Group by 'song_id' and calculate the average 'play_count'\n",
        "average_play_count_per_song = df_final.groupby('song_id')['play_count'].mean().reset_index(name='average_play_count')\n",
        "\n",
        "print(average_play_count_per_song.head())\n",
        "\n",
        "\n",
        "# Calculating the frequency a song is played\n",
        "      # Hint: Use groupby function on the song_id column\n",
        "# Group by 'song_id' and count the number of occurrences\n",
        "play_frequency_per_song = df_final.groupby('song_id').size().reset_index(name='play_frequency')\n",
        "\n",
        "print(play_frequency_per_song.head())\n"
      ]
    },
    {
      "cell_type": "code",
      "execution_count": null,
      "metadata": {
        "id": "v2XYdXvWdyys",
        "colab": {
          "base_uri": "https://localhost:8080/"
        },
        "outputId": "94c39116-31e5-4145-bf59-a7ff600604e8"
      },
      "outputs": [
        {
          "output_type": "stream",
          "name": "stdout",
          "text": [
            "              song_id  average_play_count  play_frequency\n",
            "0  SOABJBU12A8C13F63F            1.622642             265\n",
            "1  SOABJTC12A58A7DE0E            1.492424             132\n",
            "2  SOADJQJ12A8C141D38            1.729216             421\n",
            "3  SOADQPP12A67020C82            1.728070             114\n",
            "4  SOAFQGA12A8C1367FA            1.452174             115\n"
          ]
        }
      ],
      "source": [
        "# Making a dataframe with the average_count and play_freq\n",
        "# Merge the two dataframes on 'song_id'\n",
        "final_play = pd.merge(average_play_count_per_song, play_frequency_per_song, on='song_id')\n",
        "\n",
        "\n",
        "# Let us see the first five records of the final_play dataset\n",
        "# Display the first five records of the merged dataframe\n",
        "print(final_play.head())\n"
      ]
    },
    {
      "cell_type": "markdown",
      "metadata": {
        "id": "WnCT-A7RK_5g"
      },
      "source": [
        "Now, let's create a function to find the top n songs for a recommendation based on the average play count of song. We can also add a threshold for a minimum number of playcounts for a song to be considered for recommendation."
      ]
    },
    {
      "cell_type": "code",
      "source": [
        "# Merge to include song titles in the final_play DataFrame\n",
        "final_play_with_titles = pd.merge(final_play, song_df[['song_id', 'title']], on='song_id')\n"
      ],
      "metadata": {
        "id": "0UqGwdBf91YJ"
      },
      "execution_count": null,
      "outputs": []
    },
    {
      "cell_type": "code",
      "execution_count": null,
      "metadata": {
        "id": "QiT9FV3GNCrb"
      },
      "outputs": [],
      "source": [
        "# Build the function to find top n songs\n",
        "def recommend_top_n_songs(dataframe, n=10, sort_by='play_frequency'):\n",
        "    \"\"\"\n",
        "    Recommend the top n songs from the dataframe.\n",
        "\n",
        "    Parameters:\n",
        "    - dataframe: DataFrame containing song information and metrics.\n",
        "    - n: Number of top songs to return.\n",
        "    - sort_by: The column name to sort by ('play_frequency' or 'average_play_count').\n",
        "\n",
        "    Returns:\n",
        "    - top_n_songs: DataFrame containing the top n songs.\n",
        "    \"\"\"\n",
        "    # Sort the dataframe by the specified column in descending order\n",
        "    sorted_df = dataframe.sort_values(by=sort_by, ascending=False)\n",
        "\n",
        "    # Return the top n rows\n",
        "    top_n_songs = sorted_df.head(n)\n",
        "    return top_n_songs\n"
      ]
    },
    {
      "cell_type": "code",
      "source": [
        "def recommend_top_n_songs_with_titles(dataframe, n=10, sort_by='play_frequency'):\n",
        "    \"\"\"\n",
        "    Recommend the top n songs from the dataframe, including titles.\n",
        "\n",
        "    Parameters:\n",
        "    - dataframe: DataFrame containing song information, metrics, and titles.\n",
        "    - n: Number of top songs to return.\n",
        "    - sort_by: The column name to sort by ('play_frequency' or 'average_play_count').\n",
        "\n",
        "    Returns:\n",
        "    - top_n_songs: DataFrame containing the top n songs with titles.\n",
        "    \"\"\"\n",
        "    # Sort the dataframe by the specified column in descending order\n",
        "    sorted_df = dataframe.sort_values(by=sort_by, ascending=False)\n",
        "\n",
        "    # Return the top n rows\n",
        "    top_n_songs = sorted_df.head(n)\n",
        "    return top_n_songs\n"
      ],
      "metadata": {
        "id": "9WShxI5V9-CP"
      },
      "execution_count": null,
      "outputs": []
    },
    {
      "cell_type": "code",
      "execution_count": null,
      "metadata": {
        "id": "GpZt_BeXgz4F",
        "colab": {
          "base_uri": "https://localhost:8080/"
        },
        "outputId": "0cb2ca23-166f-4ab0-e657-61c8460de494"
      },
      "outputs": [
        {
          "output_type": "stream",
          "name": "stdout",
          "text": [
            "Top 10 Songs by Play Frequency:\n",
            "                song_id  average_play_count  play_frequency\n",
            "490  SOWCKVR12A8C142411            1.948069             751\n",
            "24   SOAXGDH12A8C13F8A1            2.184492             748\n",
            "136  SOFRQTD12A81C233C0            2.220196             713\n",
            "70   SOCVTLJ12A6310F0FD            1.817221             662\n",
            "229  SOKLRPJ12A8C13C3FE            1.930982             652\n",
            "309  SONYKOW12AB01849C9            2.309061             618\n",
            "248  SOLFXKT12AB017E3E0            2.119869             609\n",
            "347  SOPQLBY12A6310E992            1.760726             606\n",
            "356  SOPXKYD12A6D4FA876            1.758148             583\n",
            "84   SODJWHY12A8C142CCE            2.119298             570\n"
          ]
        }
      ],
      "source": [
        "# Recommend top 10 songs using the function defined above\n",
        "top_10_songs_by_frequency = recommend_top_n_songs(final_play, n=10, sort_by='play_frequency')\n",
        "\n",
        "print(\"Top 10 Songs by Play Frequency:\")\n",
        "print(top_10_songs_by_frequency)\n"
      ]
    },
    {
      "cell_type": "code",
      "source": [
        "top_10_songs_by_average_count = recommend_top_n_songs(final_play, n=10, sort_by='average_play_count')\n",
        "\n",
        "print(\"Top 10 Songs by Average Play Count:\")\n",
        "print(top_10_songs_by_average_count)"
      ],
      "metadata": {
        "colab": {
          "base_uri": "https://localhost:8080/"
        },
        "id": "oYdsQBVi9leq",
        "outputId": "3ba9873d-a6c5-45a8-c70d-12f5ee3bf074"
      },
      "execution_count": null,
      "outputs": [
        {
          "output_type": "stream",
          "name": "stdout",
          "text": [
            "Top 10 Songs by Average Play Count:\n",
            "                song_id  average_play_count  play_frequency\n",
            "403  SOSJSSU12A6D4F8F41            3.373832             107\n",
            "479  SOVIZNF12AF72A710A            2.625000              96\n",
            "363  SOQGSUC12A8C13B66D            2.578431             102\n",
            "559  SOZVVRE12A8C143150            2.486667             150\n",
            "309  SONYKOW12AB01849C9            2.309061             618\n",
            "317  SOOGNOZ12AAF3B2936            2.296296             108\n",
            "487  SOVWBYM12A6D4F8A22            2.235772             123\n",
            "136  SOFRQTD12A81C233C0            2.220196             713\n",
            "40   SOBRHVR12A8C133F35            2.218543             151\n",
            "37   SOBONKR12A58A7A7E0            2.217158             373\n"
          ]
        }
      ]
    },
    {
      "cell_type": "code",
      "source": [
        "# Recommend top 10 songs by play frequency, including their titles\n",
        "top_10_songs_by_frequency_with_titles = recommend_top_n_songs_with_titles(final_play_with_titles, n=10, sort_by='play_frequency')\n",
        "\n",
        "print(\"Top 10 Songs by Play Frequency (Including Titles):\")\n",
        "print(top_10_songs_by_frequency_with_titles[['title', 'play_frequency']])\n"
      ],
      "metadata": {
        "colab": {
          "base_uri": "https://localhost:8080/"
        },
        "id": "TCZc8TT-97eL",
        "outputId": "4cf8c96a-92a5-45be-9345-9b8ea32b1115"
      },
      "execution_count": null,
      "outputs": [
        {
          "output_type": "stream",
          "name": "stdout",
          "text": [
            "Top 10 Songs by Play Frequency (Including Titles):\n",
            "                              title  play_frequency\n",
            "490                    Use Somebody             751\n",
            "24   Dog Days Are Over (Radio Edit)             748\n",
            "136                   Sehr kosmisch             713\n",
            "70                           Clocks             662\n",
            "229                   The Scientist             652\n",
            "309                         Secrets             618\n",
            "248                       Fireflies             609\n",
            "347                Creep (Explicit)             606\n",
            "356                          Yellow             583\n",
            "84                 Hey_ Soul Sister             570\n"
          ]
        }
      ]
    },
    {
      "cell_type": "code",
      "source": [
        "# Recommend top 10 songs by average play count, including their titles\n",
        "top_10_songs_by_average_count_with_titles = recommend_top_n_songs_with_titles(final_play_with_titles, n=10, sort_by='average_play_count')\n",
        "\n",
        "print(\"Top 10 Songs by Average Play Count (Including Titles):\")\n",
        "print(top_10_songs_by_average_count_with_titles[['title', 'average_play_count']])\n"
      ],
      "metadata": {
        "colab": {
          "base_uri": "https://localhost:8080/"
        },
        "id": "fBoxYbVf-GQE",
        "outputId": "229288d0-2a5d-4dce-94e8-728f2f0cc358"
      },
      "execution_count": null,
      "outputs": [
        {
          "output_type": "stream",
          "name": "stdout",
          "text": [
            "Top 10 Songs by Average Play Count (Including Titles):\n",
            "                           title  average_play_count\n",
            "403        Victoria (LP Version)            3.373832\n",
            "479              The Big Gundown            2.625000\n",
            "363           Brave The Elements            2.578431\n",
            "559                  Greece 2000            2.486667\n",
            "309                      Secrets            2.309061\n",
            "317                 Transparency            2.296296\n",
            "487  Video Killed The Radio Star            2.235772\n",
            "136                Sehr kosmisch            2.220196\n",
            "40                     Luvstruck            2.218543\n",
            "37                You're The One            2.217158\n"
          ]
        }
      ]
    },
    {
      "cell_type": "markdown",
      "metadata": {
        "id": "gf13HrPPJeWT"
      },
      "source": [
        "### **User User Similarity-Based Collaborative Filtering**"
      ]
    },
    {
      "cell_type": "markdown",
      "metadata": {
        "id": "ROcEpduohdua"
      },
      "source": [
        "To build the user-user-similarity-based and subsequent models we will use the \"surprise\" library."
      ]
    },
    {
      "cell_type": "code",
      "execution_count": null,
      "metadata": {
        "id": "aKLrKn8IfGjk",
        "colab": {
          "base_uri": "https://localhost:8080/"
        },
        "outputId": "463b114c-34cc-4190-8506-91f5e70b9cfb"
      },
      "outputs": [
        {
          "output_type": "stream",
          "name": "stdout",
          "text": [
            "Collecting surprise\n",
            "  Downloading surprise-0.1-py2.py3-none-any.whl (1.8 kB)\n",
            "Collecting scikit-surprise (from surprise)\n",
            "  Downloading scikit-surprise-1.1.3.tar.gz (771 kB)\n",
            "\u001b[?25l     \u001b[90m━━━━━━━━━━━━━━━━━━━━━━━━━━━━━━━━━━━━━━━━\u001b[0m \u001b[32m0.0/772.0 kB\u001b[0m \u001b[31m?\u001b[0m eta \u001b[36m-:--:--\u001b[0m\r\u001b[2K     \u001b[91m━━━━━━━━━━━━━━\u001b[0m\u001b[91m╸\u001b[0m\u001b[90m━━━━━━━━━━━━━━━━━━━━━━━━━\u001b[0m \u001b[32m286.7/772.0 kB\u001b[0m \u001b[31m8.4 MB/s\u001b[0m eta \u001b[36m0:00:01\u001b[0m\r\u001b[2K     \u001b[90m━━━━━━━━━━━━━━━━━━━━━━━━━━━━━━━━━━━━━━━━\u001b[0m \u001b[32m772.0/772.0 kB\u001b[0m \u001b[31m14.5 MB/s\u001b[0m eta \u001b[36m0:00:00\u001b[0m\n",
            "\u001b[?25h  Preparing metadata (setup.py) ... \u001b[?25l\u001b[?25hdone\n",
            "Requirement already satisfied: joblib>=1.0.0 in /usr/local/lib/python3.10/dist-packages (from scikit-surprise->surprise) (1.3.2)\n",
            "Requirement already satisfied: numpy>=1.17.3 in /usr/local/lib/python3.10/dist-packages (from scikit-surprise->surprise) (1.25.2)\n",
            "Requirement already satisfied: scipy>=1.3.2 in /usr/local/lib/python3.10/dist-packages (from scikit-surprise->surprise) (1.11.4)\n",
            "Building wheels for collected packages: scikit-surprise\n",
            "  Building wheel for scikit-surprise (setup.py) ... \u001b[?25l\u001b[?25hdone\n",
            "  Created wheel for scikit-surprise: filename=scikit_surprise-1.1.3-cp310-cp310-linux_x86_64.whl size=3162740 sha256=0111ebd6ff5a1fb59be4dfe1e60df70577f5063b35734c6afb304bc51d59fc89\n",
            "  Stored in directory: /root/.cache/pip/wheels/a5/ca/a8/4e28def53797fdc4363ca4af740db15a9c2f1595ebc51fb445\n",
            "Successfully built scikit-surprise\n",
            "Installing collected packages: scikit-surprise, surprise\n",
            "Successfully installed scikit-surprise-1.1.3 surprise-0.1\n"
          ]
        }
      ],
      "source": [
        "# Install the surprise package using pip. Uncomment and run the below code to do the same\n",
        "\n",
        "!pip install surprise"
      ]
    },
    {
      "cell_type": "code",
      "execution_count": null,
      "metadata": {
        "id": "UJ1wEylUpexj"
      },
      "outputs": [],
      "source": [
        "# Import necessary libraries\n",
        "\n",
        "# To compute the accuracy of models\n",
        "from surprise import accuracy\n",
        "\n",
        "# This class is used to parse a file containing play_counts, data should be in structure - user; item; play_count\n",
        "from surprise.reader import Reader\n",
        "\n",
        "# Class for loading datasets\n",
        "from surprise.dataset import Dataset\n",
        "\n",
        "# For tuning model hyperparameters\n",
        "from surprise.model_selection import GridSearchCV\n",
        "\n",
        "# For splitting the data in train and test dataset\n",
        "from surprise.model_selection import train_test_split\n",
        "\n",
        "# For implementing similarity-based recommendation system\n",
        "from surprise.prediction_algorithms.knns import KNNBasic\n",
        "\n",
        "# For implementing matrix factorization based recommendation system\n",
        "from surprise.prediction_algorithms.matrix_factorization import SVD\n",
        "\n",
        "# For implementing KFold cross-validation\n",
        "from surprise.model_selection import KFold\n",
        "\n",
        "# For implementing clustering-based recommendation system\n",
        "from surprise import CoClustering\n"
      ]
    },
    {
      "cell_type": "markdown",
      "metadata": {
        "id": "jBW4BUhWTsnm"
      },
      "source": [
        "### Some useful functions"
      ]
    },
    {
      "cell_type": "markdown",
      "metadata": {
        "id": "ZhFa_4aHHchr"
      },
      "source": [
        "Below is the function to calculate precision@k and recall@k, RMSE, and F1_Score@k to evaluate the model performance."
      ]
    },
    {
      "cell_type": "markdown",
      "metadata": {
        "id": "ZOvOgjGWrMVV"
      },
      "source": [
        "**Think About It:** Which metric should be used for this problem to compare different models?"
      ]
    },
    {
      "cell_type": "code",
      "execution_count": null,
      "metadata": {
        "id": "Rxn-GahOTsnm"
      },
      "outputs": [],
      "source": [
        "def precision_recall_at_k(model, testset, k=30, threshold=1.5):\n",
        "    \"\"\"Return precision and recall at k metrics for each user\"\"\"\n",
        "\n",
        "    # First map the predictions to each user.\n",
        "    user_est_true = defaultdict(list)\n",
        "\n",
        "    #Making predictions on the test data\n",
        "    predictions = model.test(testset)\n",
        "\n",
        "    for uid, _, true_r, est, _ in predictions:\n",
        "        user_est_true[uid].append((est, true_r))\n",
        "\n",
        "    precisions = dict()\n",
        "    recalls = dict()\n",
        "    for uid, playing_count in user_est_true.items():\n",
        "\n",
        "        # Sort play count by estimated value\n",
        "        playing_count.sort(key=lambda x: x[0], reverse=True)\n",
        "\n",
        "        # Number of relevant items\n",
        "        n_rel = sum((true_r >= threshold) for (_, true_r) in playing_count)\n",
        "\n",
        "        # Number of recommended items in top k\n",
        "        n_rec_k = sum((est >= threshold) for (est, _) in playing_count[:k])\n",
        "\n",
        "        # Number of relevant and recommended items in top k\n",
        "        n_rel_and_rec_k = sum(((true_r >= threshold) and (est >= threshold))\n",
        "                              for (est, true_r) in playing_count[:k])\n",
        "\n",
        "        # Precision@K: Proportion of recommended items that are relevant\n",
        "        # When n_rec_k is 0, Precision is undefined. We here set Precision to 0 when n_rec_k is 0.\n",
        "\n",
        "        precisions[uid] = n_rel_and_rec_k / n_rec_k if n_rec_k != 0 else 0\n",
        "\n",
        "        # Recall@K: Proportion of relevant items that are recommended\n",
        "        # When n_rel is 0, Recall is undefined. We here set Recall to 0 when n_rel is 0.\n",
        "\n",
        "        recalls[uid] = n_rel_and_rec_k / n_rel if n_rel != 0 else 0\n",
        "\n",
        "    #Mean of all the predicted precisions are calculated.\n",
        "    precision = round((sum(prec for prec in precisions.values()) / len(precisions)),3)\n",
        "    #Mean of all the predicted recalls are calculated.\n",
        "    recall = round((sum(rec for rec in recalls.values()) / len(recalls)),3)\n",
        "\n",
        "    accuracy.rmse(predictions)\n",
        "    print('Precision: ', precision) #Command to print the overall precision\n",
        "    print('Recall: ', recall) #Command to print the overall recall\n",
        "    print('F_1 score: ', round((2*precision*recall)/(precision+recall),3)) # Formula to compute the F-1 score."
      ]
    },
    {
      "cell_type": "markdown",
      "metadata": {
        "id": "PcmLRxH4IjfG"
      },
      "source": [
        "**Think About It:** In the function precision_recall_at_k above the threshold value used is 1.5. How precision and recall are affected by changing the threshold? What is the intuition behind using the threshold value of 1.5?"
      ]
    },
    {
      "cell_type": "markdown",
      "metadata": {
        "id": "mqGCqKhv4IT3"
      },
      "source": [
        "Below we are loading the **dataset**, which is a **pandas dataframe**, into a **different format called `surprise.dataset.DatasetAutoFolds`** which is required by this library. To do this we will be **using the classes `Reader` and `Dataset`**\n",
        "\n",
        "You will also notice here that we read the dataset by providing a scale of ratings. However, as you would know, we do not have ratings data of the songs. In this case, we are going to use play_count as a proxy for ratings with the assumption that the more the user listens to a song, the higher the chance that they like the song"
      ]
    },
    {
      "cell_type": "code",
      "execution_count": null,
      "metadata": {
        "id": "rGfYDiOCpe4X"
      },
      "outputs": [],
      "source": [
        "# Instantiating Reader scale with expected rating scale\n",
        "# use rating scale (0, 5)\n",
        "reader = Reader(rating_scale=(0, 5))\n",
        "\n",
        "# Loading the dataset\n",
        "# Take only \"user_id\",\"song_id\", and \"play_count\"\n",
        "# Load the dataset from the DataFrame\n",
        "data = Dataset.load_from_df(df_final[['user_id', 'song_id', 'play_count']], reader)\n",
        "\n",
        "# Splitting the data into train and test dataset\n",
        "# Take test_size = 0.4, random_state = 42\n",
        "# Split the data into train and test sets\n",
        "trainset, testset = train_test_split(data, test_size=0.4, random_state=42)\n"
      ]
    },
    {
      "cell_type": "markdown",
      "metadata": {
        "id": "CuTmLjUP1aED"
      },
      "source": [
        "**Think About It:** How changing the test size would change the results and outputs?"
      ]
    },
    {
      "cell_type": "code",
      "execution_count": null,
      "metadata": {
        "id": "vO3FL7iape8A",
        "scrolled": false,
        "colab": {
          "base_uri": "https://localhost:8080/"
        },
        "outputId": "77f38b2f-22f9-4d57-febe-e526b2b7449b"
      },
      "outputs": [
        {
          "output_type": "stream",
          "name": "stdout",
          "text": [
            "Computing the cosine similarity matrix...\n",
            "Done computing similarity matrix.\n",
            "RMSE: 1.0878\n",
            "Precision:  0.396\n",
            "Recall:  0.692\n",
            "F_1 score:  0.504\n"
          ]
        }
      ],
      "source": [
        "# Build the default user-user-similarity model\n",
        "sim_options = {\n",
        "    'name': 'cosine',  # similarity measure\n",
        "    'user_based': True  # compute similarities between users\n",
        "}\n",
        "\n",
        "# KNN algorithm is used to find desired similar items\n",
        " # Use random_state = 1\n",
        "sim_user_user = KNNBasic(sim_options=sim_options, random_state=1, verbose=True)\n",
        "\n",
        "# Train the algorithm on the trainset, and predict play_count for the testset\n",
        "sim_user_user.fit(trainset)\n",
        "predictions = sim_user_user.test(testset)\n",
        "# Let us compute precision@k, recall@k, and f_1 score with k = 30\n",
        " # Use sim_user_user model\n",
        "precision_recall_at_k(sim_user_user, testset, k=30, threshold=1.5)"
      ]
    },
    {
      "cell_type": "markdown",
      "metadata": {
        "id": "mzcdlWmer6GA"
      },
      "source": [
        "**Observations and Insights:_________**"
      ]
    },
    {
      "cell_type": "code",
      "execution_count": null,
      "metadata": {
        "id": "Sxd23bZ9pe_x",
        "colab": {
          "base_uri": "https://localhost:8080/"
        },
        "outputId": "31692bcb-3bed-42d8-a1bb-6375633d9a33"
      },
      "outputs": [
        {
          "output_type": "stream",
          "name": "stdout",
          "text": [
            "Random user_id: 2de02e24abfe4d1eedd6c6f431bbea8d1df8391b\n",
            "Random song_id: SOKMHKY12AF72AB079\n"
          ]
        }
      ],
      "source": [
        "# Predicting play_count for a sample user with a listened song\n",
        "# Use any user id  and song_id\n",
        "# Select one random row from df_final\n",
        "random_row = df_final.sample(n=1)\n",
        "\n",
        "# Extract user_id and song_id from the random row\n",
        "random_user_id = random_row['user_id'].iloc[0]\n",
        "random_song_id = random_row['song_id'].iloc[0]\n",
        "\n",
        "print(f\"Random user_id: {random_user_id}\")\n",
        "print(f\"Random song_id: {random_song_id}\")\n"
      ]
    },
    {
      "cell_type": "code",
      "source": [
        "# Make a prediction for the user-song pair\n",
        "prediction = sim_user_user.predict(random_user_id, random_song_id)\n",
        "\n",
        "# The estimated 'rating' is the predicted play count for this user-song pair\n",
        "predicted_play_count = prediction.est\n",
        "\n",
        "print(f\"Predicted play count for user {random_user_id} and song {random_song_id}: {predicted_play_count}\")"
      ],
      "metadata": {
        "colab": {
          "base_uri": "https://localhost:8080/"
        },
        "id": "BXo7OOxaAHHs",
        "outputId": "5a85a207-30d9-4adb-f66d-d739dbba6ec2"
      },
      "execution_count": null,
      "outputs": [
        {
          "output_type": "stream",
          "name": "stdout",
          "text": [
            "Predicted play count for user 2de02e24abfe4d1eedd6c6f431bbea8d1df8391b and song SOKMHKY12AF72AB079: 1.7\n"
          ]
        }
      ]
    },
    {
      "cell_type": "code",
      "execution_count": null,
      "metadata": {
        "id": "PbFcBj1PpfEV",
        "colab": {
          "base_uri": "https://localhost:8080/"
        },
        "outputId": "3f1687d7-6589-4457-b6cd-e8afbe0c0d45"
      },
      "outputs": [
        {
          "output_type": "stream",
          "name": "stdout",
          "text": [
            "Sample user_id: e0dc9c4ddf5dfd341ab21610ca4563e88e901988\n",
            "Sample song_id (not listened by user): SOAUXEN12A81C23960\n",
            "Predicted play count for user e0dc9c4ddf5dfd341ab21610ca4563e88e901988 and song SOAUXEN12A81C23960: 1.7070591581131893\n"
          ]
        }
      ],
      "source": [
        "# Predicting play_count for a sample user with a song not-listened by the user\n",
        " #predict play_count for any sample user\n",
        "\n",
        "# Select a random user\n",
        "random_user = df_final['user_id'].sample(n=1).iloc[0]\n",
        "\n",
        "# Find songs that this user has not listened to\n",
        "listened_songs = set(df_final[df_final['user_id'] == random_user]['song_id'])\n",
        "all_songs = set(df_final['song_id'])\n",
        "not_listened_songs = all_songs - listened_songs\n",
        "\n",
        "# Pick a random song from the set of not listened songs\n",
        "import random\n",
        "random_song = random.sample(not_listened_songs, 1)[0]\n",
        "\n",
        "print(f\"Sample user_id: {random_user}\")\n",
        "print(f\"Sample song_id (not listened by user): {random_song}\")\n",
        "\n",
        "# Assuming 'sim_user_user' is your trained recommendation model\n",
        "prediction = sim_user_user.predict(random_user, random_song)\n",
        "\n",
        "# The estimated 'rating' is the predicted play count for this user-song pair\n",
        "predicted_play_count = prediction.est\n",
        "\n",
        "print(f\"Predicted play count for user {random_user} and song {random_song}: {predicted_play_count}\")\n"
      ]
    },
    {
      "cell_type": "markdown",
      "metadata": {
        "id": "P9EVM7DysC47"
      },
      "source": [
        "**Observations and Insights:_________**"
      ]
    },
    {
      "cell_type": "markdown",
      "metadata": {
        "id": "Lt1QBiylsIOm"
      },
      "source": [
        "Now, let's try to tune the model and see if we can improve the model performance."
      ]
    },
    {
      "cell_type": "code",
      "source": [
        "data = Dataset.load_from_df(df_final[['user_id', 'song_id', 'play_count']], reader)"
      ],
      "metadata": {
        "id": "F14hlBcDB2vW"
      },
      "execution_count": null,
      "outputs": []
    },
    {
      "cell_type": "code",
      "execution_count": null,
      "metadata": {
        "id": "T3diJPL7-tVw",
        "colab": {
          "base_uri": "https://localhost:8080/"
        },
        "outputId": "c47a23e2-28eb-4b0e-9dec-b5a5d2fa1bd4"
      },
      "outputs": [
        {
          "output_type": "stream",
          "name": "stdout",
          "text": [
            "Computing the cosine similarity matrix...\n",
            "Done computing similarity matrix.\n",
            "Computing the cosine similarity matrix...\n",
            "Done computing similarity matrix.\n",
            "Computing the cosine similarity matrix...\n",
            "Done computing similarity matrix.\n",
            "Computing the cosine similarity matrix...\n",
            "Done computing similarity matrix.\n",
            "Computing the cosine similarity matrix...\n",
            "Done computing similarity matrix.\n",
            "Computing the cosine similarity matrix...\n",
            "Done computing similarity matrix.\n",
            "Computing the pearson similarity matrix...\n",
            "Done computing similarity matrix.\n",
            "Computing the pearson similarity matrix...\n",
            "Done computing similarity matrix.\n",
            "Computing the pearson similarity matrix...\n",
            "Done computing similarity matrix.\n",
            "Computing the pearson similarity matrix...\n",
            "Done computing similarity matrix.\n",
            "Computing the pearson similarity matrix...\n",
            "Done computing similarity matrix.\n",
            "Computing the pearson similarity matrix...\n",
            "Done computing similarity matrix.\n",
            "Estimating biases using als...\n",
            "Computing the pearson_baseline similarity matrix...\n",
            "Done computing similarity matrix.\n",
            "Estimating biases using als...\n",
            "Computing the pearson_baseline similarity matrix...\n",
            "Done computing similarity matrix.\n",
            "Estimating biases using als...\n",
            "Computing the pearson_baseline similarity matrix...\n",
            "Done computing similarity matrix.\n",
            "Estimating biases using als...\n",
            "Computing the pearson_baseline similarity matrix...\n",
            "Done computing similarity matrix.\n",
            "Estimating biases using als...\n",
            "Computing the pearson_baseline similarity matrix...\n",
            "Done computing similarity matrix.\n",
            "Estimating biases using als...\n",
            "Computing the pearson_baseline similarity matrix...\n",
            "Done computing similarity matrix.\n",
            "Computing the cosine similarity matrix...\n",
            "Done computing similarity matrix.\n",
            "Computing the cosine similarity matrix...\n",
            "Done computing similarity matrix.\n",
            "Computing the cosine similarity matrix...\n",
            "Done computing similarity matrix.\n",
            "Computing the cosine similarity matrix...\n",
            "Done computing similarity matrix.\n",
            "Computing the cosine similarity matrix...\n",
            "Done computing similarity matrix.\n",
            "Computing the cosine similarity matrix...\n",
            "Done computing similarity matrix.\n",
            "Computing the pearson similarity matrix...\n",
            "Done computing similarity matrix.\n",
            "Computing the pearson similarity matrix...\n",
            "Done computing similarity matrix.\n",
            "Computing the pearson similarity matrix...\n",
            "Done computing similarity matrix.\n",
            "Computing the pearson similarity matrix...\n",
            "Done computing similarity matrix.\n",
            "Computing the pearson similarity matrix...\n",
            "Done computing similarity matrix.\n",
            "Computing the pearson similarity matrix...\n",
            "Done computing similarity matrix.\n",
            "Estimating biases using als...\n",
            "Computing the pearson_baseline similarity matrix...\n",
            "Done computing similarity matrix.\n",
            "Estimating biases using als...\n",
            "Computing the pearson_baseline similarity matrix...\n",
            "Done computing similarity matrix.\n",
            "Estimating biases using als...\n",
            "Computing the pearson_baseline similarity matrix...\n",
            "Done computing similarity matrix.\n",
            "Estimating biases using als...\n",
            "Computing the pearson_baseline similarity matrix...\n",
            "Done computing similarity matrix.\n",
            "Estimating biases using als...\n",
            "Computing the pearson_baseline similarity matrix...\n",
            "Done computing similarity matrix.\n",
            "Estimating biases using als...\n",
            "Computing the pearson_baseline similarity matrix...\n",
            "Done computing similarity matrix.\n",
            "Computing the cosine similarity matrix...\n",
            "Done computing similarity matrix.\n",
            "Computing the cosine similarity matrix...\n",
            "Done computing similarity matrix.\n",
            "Computing the cosine similarity matrix...\n",
            "Done computing similarity matrix.\n",
            "Computing the cosine similarity matrix...\n",
            "Done computing similarity matrix.\n",
            "Computing the cosine similarity matrix...\n",
            "Done computing similarity matrix.\n",
            "Computing the cosine similarity matrix...\n",
            "Done computing similarity matrix.\n",
            "Computing the pearson similarity matrix...\n",
            "Done computing similarity matrix.\n",
            "Computing the pearson similarity matrix...\n",
            "Done computing similarity matrix.\n",
            "Computing the pearson similarity matrix...\n",
            "Done computing similarity matrix.\n",
            "Computing the pearson similarity matrix...\n",
            "Done computing similarity matrix.\n",
            "Computing the pearson similarity matrix...\n",
            "Done computing similarity matrix.\n",
            "Computing the pearson similarity matrix...\n",
            "Done computing similarity matrix.\n",
            "Estimating biases using als...\n",
            "Computing the pearson_baseline similarity matrix...\n",
            "Done computing similarity matrix.\n",
            "Estimating biases using als...\n",
            "Computing the pearson_baseline similarity matrix...\n",
            "Done computing similarity matrix.\n",
            "Estimating biases using als...\n",
            "Computing the pearson_baseline similarity matrix...\n",
            "Done computing similarity matrix.\n",
            "Estimating biases using als...\n",
            "Computing the pearson_baseline similarity matrix...\n",
            "Done computing similarity matrix.\n",
            "Estimating biases using als...\n",
            "Computing the pearson_baseline similarity matrix...\n",
            "Done computing similarity matrix.\n",
            "Estimating biases using als...\n",
            "Computing the pearson_baseline similarity matrix...\n",
            "Done computing similarity matrix.\n",
            "Computing the cosine similarity matrix...\n",
            "Done computing similarity matrix.\n",
            "Computing the cosine similarity matrix...\n",
            "Done computing similarity matrix.\n",
            "Computing the cosine similarity matrix...\n",
            "Done computing similarity matrix.\n",
            "Computing the cosine similarity matrix...\n",
            "Done computing similarity matrix.\n",
            "Computing the cosine similarity matrix...\n",
            "Done computing similarity matrix.\n",
            "Computing the cosine similarity matrix...\n",
            "Done computing similarity matrix.\n",
            "Computing the pearson similarity matrix...\n",
            "Done computing similarity matrix.\n",
            "Computing the pearson similarity matrix...\n",
            "Done computing similarity matrix.\n",
            "Computing the pearson similarity matrix...\n",
            "Done computing similarity matrix.\n",
            "Computing the pearson similarity matrix...\n",
            "Done computing similarity matrix.\n",
            "Computing the pearson similarity matrix...\n",
            "Done computing similarity matrix.\n",
            "Computing the pearson similarity matrix...\n",
            "Done computing similarity matrix.\n",
            "Estimating biases using als...\n",
            "Computing the pearson_baseline similarity matrix...\n",
            "Done computing similarity matrix.\n",
            "Estimating biases using als...\n",
            "Computing the pearson_baseline similarity matrix...\n",
            "Done computing similarity matrix.\n",
            "Estimating biases using als...\n",
            "Computing the pearson_baseline similarity matrix...\n",
            "Done computing similarity matrix.\n",
            "Estimating biases using als...\n",
            "Computing the pearson_baseline similarity matrix...\n",
            "Done computing similarity matrix.\n",
            "Estimating biases using als...\n",
            "Computing the pearson_baseline similarity matrix...\n",
            "Done computing similarity matrix.\n",
            "Estimating biases using als...\n",
            "Computing the pearson_baseline similarity matrix...\n",
            "Done computing similarity matrix.\n",
            "Computing the cosine similarity matrix...\n",
            "Done computing similarity matrix.\n",
            "Computing the cosine similarity matrix...\n",
            "Done computing similarity matrix.\n",
            "Computing the cosine similarity matrix...\n",
            "Done computing similarity matrix.\n",
            "Computing the cosine similarity matrix...\n",
            "Done computing similarity matrix.\n",
            "Computing the cosine similarity matrix...\n",
            "Done computing similarity matrix.\n",
            "Computing the cosine similarity matrix...\n",
            "Done computing similarity matrix.\n",
            "Computing the pearson similarity matrix...\n",
            "Done computing similarity matrix.\n",
            "Computing the pearson similarity matrix...\n",
            "Done computing similarity matrix.\n",
            "Computing the pearson similarity matrix...\n",
            "Done computing similarity matrix.\n",
            "Computing the pearson similarity matrix...\n",
            "Done computing similarity matrix.\n",
            "Computing the pearson similarity matrix...\n",
            "Done computing similarity matrix.\n",
            "Computing the pearson similarity matrix...\n",
            "Done computing similarity matrix.\n",
            "Estimating biases using als...\n",
            "Computing the pearson_baseline similarity matrix...\n",
            "Done computing similarity matrix.\n",
            "Estimating biases using als...\n",
            "Computing the pearson_baseline similarity matrix...\n",
            "Done computing similarity matrix.\n",
            "Estimating biases using als...\n",
            "Computing the pearson_baseline similarity matrix...\n",
            "Done computing similarity matrix.\n",
            "Estimating biases using als...\n",
            "Computing the pearson_baseline similarity matrix...\n",
            "Done computing similarity matrix.\n",
            "Estimating biases using als...\n",
            "Computing the pearson_baseline similarity matrix...\n",
            "Done computing similarity matrix.\n",
            "Estimating biases using als...\n",
            "Computing the pearson_baseline similarity matrix...\n",
            "Done computing similarity matrix.\n",
            "Computing the cosine similarity matrix...\n",
            "Done computing similarity matrix.\n",
            "Computing the cosine similarity matrix...\n",
            "Done computing similarity matrix.\n",
            "Computing the cosine similarity matrix...\n",
            "Done computing similarity matrix.\n",
            "Computing the cosine similarity matrix...\n",
            "Done computing similarity matrix.\n",
            "Computing the cosine similarity matrix...\n",
            "Done computing similarity matrix.\n",
            "Computing the cosine similarity matrix...\n",
            "Done computing similarity matrix.\n",
            "Computing the pearson similarity matrix...\n",
            "Done computing similarity matrix.\n",
            "Computing the pearson similarity matrix...\n",
            "Done computing similarity matrix.\n",
            "Computing the pearson similarity matrix...\n",
            "Done computing similarity matrix.\n",
            "Computing the pearson similarity matrix...\n",
            "Done computing similarity matrix.\n",
            "Computing the pearson similarity matrix...\n",
            "Done computing similarity matrix.\n",
            "Computing the pearson similarity matrix...\n",
            "Done computing similarity matrix.\n",
            "Estimating biases using als...\n",
            "Computing the pearson_baseline similarity matrix...\n",
            "Done computing similarity matrix.\n",
            "Estimating biases using als...\n",
            "Computing the pearson_baseline similarity matrix...\n",
            "Done computing similarity matrix.\n",
            "Estimating biases using als...\n",
            "Computing the pearson_baseline similarity matrix...\n",
            "Done computing similarity matrix.\n",
            "Estimating biases using als...\n",
            "Computing the pearson_baseline similarity matrix...\n",
            "Done computing similarity matrix.\n",
            "Estimating biases using als...\n",
            "Computing the pearson_baseline similarity matrix...\n",
            "Done computing similarity matrix.\n",
            "Estimating biases using als...\n",
            "Computing the pearson_baseline similarity matrix...\n",
            "Done computing similarity matrix.\n",
            "Computing the cosine similarity matrix...\n",
            "Done computing similarity matrix.\n",
            "Computing the cosine similarity matrix...\n",
            "Done computing similarity matrix.\n",
            "Computing the cosine similarity matrix...\n",
            "Done computing similarity matrix.\n",
            "Computing the cosine similarity matrix...\n",
            "Done computing similarity matrix.\n",
            "Computing the cosine similarity matrix...\n",
            "Done computing similarity matrix.\n",
            "Computing the cosine similarity matrix...\n",
            "Done computing similarity matrix.\n",
            "Computing the pearson similarity matrix...\n",
            "Done computing similarity matrix.\n",
            "Computing the pearson similarity matrix...\n",
            "Done computing similarity matrix.\n",
            "Computing the pearson similarity matrix...\n",
            "Done computing similarity matrix.\n",
            "Computing the pearson similarity matrix...\n",
            "Done computing similarity matrix.\n",
            "Computing the pearson similarity matrix...\n",
            "Done computing similarity matrix.\n",
            "Computing the pearson similarity matrix...\n",
            "Done computing similarity matrix.\n",
            "Estimating biases using als...\n",
            "Computing the pearson_baseline similarity matrix...\n",
            "Done computing similarity matrix.\n",
            "Estimating biases using als...\n",
            "Computing the pearson_baseline similarity matrix...\n",
            "Done computing similarity matrix.\n",
            "Estimating biases using als...\n",
            "Computing the pearson_baseline similarity matrix...\n",
            "Done computing similarity matrix.\n",
            "Estimating biases using als...\n",
            "Computing the pearson_baseline similarity matrix...\n",
            "Done computing similarity matrix.\n",
            "Estimating biases using als...\n",
            "Computing the pearson_baseline similarity matrix...\n",
            "Done computing similarity matrix.\n",
            "Estimating biases using als...\n",
            "Computing the pearson_baseline similarity matrix...\n",
            "Done computing similarity matrix.\n",
            "Computing the cosine similarity matrix...\n",
            "Done computing similarity matrix.\n",
            "Computing the cosine similarity matrix...\n",
            "Done computing similarity matrix.\n",
            "Computing the cosine similarity matrix...\n",
            "Done computing similarity matrix.\n",
            "Computing the cosine similarity matrix...\n",
            "Done computing similarity matrix.\n",
            "Computing the cosine similarity matrix...\n",
            "Done computing similarity matrix.\n",
            "Computing the cosine similarity matrix...\n",
            "Done computing similarity matrix.\n",
            "Computing the pearson similarity matrix...\n",
            "Done computing similarity matrix.\n",
            "Computing the pearson similarity matrix...\n",
            "Done computing similarity matrix.\n",
            "Computing the pearson similarity matrix...\n",
            "Done computing similarity matrix.\n",
            "Computing the pearson similarity matrix...\n",
            "Done computing similarity matrix.\n",
            "Computing the pearson similarity matrix...\n",
            "Done computing similarity matrix.\n",
            "Computing the pearson similarity matrix...\n",
            "Done computing similarity matrix.\n",
            "Estimating biases using als...\n",
            "Computing the pearson_baseline similarity matrix...\n",
            "Done computing similarity matrix.\n",
            "Estimating biases using als...\n",
            "Computing the pearson_baseline similarity matrix...\n",
            "Done computing similarity matrix.\n",
            "Estimating biases using als...\n",
            "Computing the pearson_baseline similarity matrix...\n",
            "Done computing similarity matrix.\n",
            "Estimating biases using als...\n",
            "Computing the pearson_baseline similarity matrix...\n",
            "Done computing similarity matrix.\n",
            "Estimating biases using als...\n",
            "Computing the pearson_baseline similarity matrix...\n",
            "Done computing similarity matrix.\n",
            "Estimating biases using als...\n",
            "Computing the pearson_baseline similarity matrix...\n",
            "Done computing similarity matrix.\n",
            "Computing the cosine similarity matrix...\n",
            "Done computing similarity matrix.\n",
            "Computing the cosine similarity matrix...\n",
            "Done computing similarity matrix.\n",
            "Computing the cosine similarity matrix...\n",
            "Done computing similarity matrix.\n",
            "Computing the cosine similarity matrix...\n",
            "Done computing similarity matrix.\n",
            "Computing the cosine similarity matrix...\n",
            "Done computing similarity matrix.\n",
            "Computing the cosine similarity matrix...\n",
            "Done computing similarity matrix.\n",
            "Computing the pearson similarity matrix...\n",
            "Done computing similarity matrix.\n",
            "Computing the pearson similarity matrix...\n",
            "Done computing similarity matrix.\n",
            "Computing the pearson similarity matrix...\n",
            "Done computing similarity matrix.\n",
            "Computing the pearson similarity matrix...\n",
            "Done computing similarity matrix.\n",
            "Computing the pearson similarity matrix...\n",
            "Done computing similarity matrix.\n",
            "Computing the pearson similarity matrix...\n",
            "Done computing similarity matrix.\n",
            "Estimating biases using als...\n",
            "Computing the pearson_baseline similarity matrix...\n",
            "Done computing similarity matrix.\n",
            "Estimating biases using als...\n",
            "Computing the pearson_baseline similarity matrix...\n",
            "Done computing similarity matrix.\n",
            "Estimating biases using als...\n",
            "Computing the pearson_baseline similarity matrix...\n",
            "Done computing similarity matrix.\n",
            "Estimating biases using als...\n",
            "Computing the pearson_baseline similarity matrix...\n",
            "Done computing similarity matrix.\n",
            "Estimating biases using als...\n",
            "Computing the pearson_baseline similarity matrix...\n",
            "Done computing similarity matrix.\n",
            "Estimating biases using als...\n",
            "Computing the pearson_baseline similarity matrix...\n",
            "Done computing similarity matrix.\n",
            "Computing the cosine similarity matrix...\n",
            "Done computing similarity matrix.\n",
            "Computing the cosine similarity matrix...\n",
            "Done computing similarity matrix.\n",
            "Computing the cosine similarity matrix...\n",
            "Done computing similarity matrix.\n",
            "Computing the cosine similarity matrix...\n",
            "Done computing similarity matrix.\n",
            "Computing the cosine similarity matrix...\n",
            "Done computing similarity matrix.\n",
            "Computing the cosine similarity matrix...\n",
            "Done computing similarity matrix.\n",
            "Computing the pearson similarity matrix...\n",
            "Done computing similarity matrix.\n",
            "Computing the pearson similarity matrix...\n",
            "Done computing similarity matrix.\n",
            "Computing the pearson similarity matrix...\n",
            "Done computing similarity matrix.\n",
            "Computing the pearson similarity matrix...\n",
            "Done computing similarity matrix.\n",
            "Computing the pearson similarity matrix...\n",
            "Done computing similarity matrix.\n",
            "Computing the pearson similarity matrix...\n",
            "Done computing similarity matrix.\n",
            "Estimating biases using als...\n",
            "Computing the pearson_baseline similarity matrix...\n",
            "Done computing similarity matrix.\n",
            "Estimating biases using als...\n",
            "Computing the pearson_baseline similarity matrix...\n",
            "Done computing similarity matrix.\n",
            "Estimating biases using als...\n",
            "Computing the pearson_baseline similarity matrix...\n",
            "Done computing similarity matrix.\n",
            "Estimating biases using als...\n",
            "Computing the pearson_baseline similarity matrix...\n",
            "Done computing similarity matrix.\n",
            "Estimating biases using als...\n",
            "Computing the pearson_baseline similarity matrix...\n",
            "Done computing similarity matrix.\n",
            "Estimating biases using als...\n",
            "Computing the pearson_baseline similarity matrix...\n",
            "Done computing similarity matrix.\n",
            "Computing the cosine similarity matrix...\n",
            "Done computing similarity matrix.\n",
            "Computing the cosine similarity matrix...\n",
            "Done computing similarity matrix.\n",
            "Computing the cosine similarity matrix...\n",
            "Done computing similarity matrix.\n",
            "Computing the cosine similarity matrix...\n",
            "Done computing similarity matrix.\n",
            "Computing the cosine similarity matrix...\n",
            "Done computing similarity matrix.\n",
            "Computing the cosine similarity matrix...\n",
            "Done computing similarity matrix.\n",
            "Computing the pearson similarity matrix...\n",
            "Done computing similarity matrix.\n",
            "Computing the pearson similarity matrix...\n",
            "Done computing similarity matrix.\n",
            "Computing the pearson similarity matrix...\n",
            "Done computing similarity matrix.\n",
            "Computing the pearson similarity matrix...\n",
            "Done computing similarity matrix.\n",
            "Computing the pearson similarity matrix...\n",
            "Done computing similarity matrix.\n",
            "Computing the pearson similarity matrix...\n",
            "Done computing similarity matrix.\n",
            "Estimating biases using als...\n",
            "Computing the pearson_baseline similarity matrix...\n",
            "Done computing similarity matrix.\n",
            "Estimating biases using als...\n",
            "Computing the pearson_baseline similarity matrix...\n",
            "Done computing similarity matrix.\n",
            "Estimating biases using als...\n",
            "Computing the pearson_baseline similarity matrix...\n",
            "Done computing similarity matrix.\n",
            "Estimating biases using als...\n",
            "Computing the pearson_baseline similarity matrix...\n",
            "Done computing similarity matrix.\n",
            "Estimating biases using als...\n",
            "Computing the pearson_baseline similarity matrix...\n",
            "Done computing similarity matrix.\n",
            "Estimating biases using als...\n",
            "Computing the pearson_baseline similarity matrix...\n",
            "Done computing similarity matrix.\n",
            "Computing the cosine similarity matrix...\n",
            "Done computing similarity matrix.\n",
            "Computing the cosine similarity matrix...\n",
            "Done computing similarity matrix.\n",
            "Computing the cosine similarity matrix...\n",
            "Done computing similarity matrix.\n",
            "Computing the cosine similarity matrix...\n",
            "Done computing similarity matrix.\n",
            "Computing the cosine similarity matrix...\n",
            "Done computing similarity matrix.\n",
            "Computing the cosine similarity matrix...\n",
            "Done computing similarity matrix.\n",
            "Computing the pearson similarity matrix...\n",
            "Done computing similarity matrix.\n",
            "Computing the pearson similarity matrix...\n",
            "Done computing similarity matrix.\n",
            "Computing the pearson similarity matrix...\n",
            "Done computing similarity matrix.\n",
            "Computing the pearson similarity matrix...\n",
            "Done computing similarity matrix.\n",
            "Computing the pearson similarity matrix...\n",
            "Done computing similarity matrix.\n",
            "Computing the pearson similarity matrix...\n",
            "Done computing similarity matrix.\n",
            "Estimating biases using als...\n",
            "Computing the pearson_baseline similarity matrix...\n",
            "Done computing similarity matrix.\n",
            "Estimating biases using als...\n",
            "Computing the pearson_baseline similarity matrix...\n",
            "Done computing similarity matrix.\n",
            "Estimating biases using als...\n",
            "Computing the pearson_baseline similarity matrix...\n",
            "Done computing similarity matrix.\n",
            "Estimating biases using als...\n",
            "Computing the pearson_baseline similarity matrix...\n",
            "Done computing similarity matrix.\n",
            "Estimating biases using als...\n",
            "Computing the pearson_baseline similarity matrix...\n",
            "Done computing similarity matrix.\n",
            "Estimating biases using als...\n",
            "Computing the pearson_baseline similarity matrix...\n",
            "Done computing similarity matrix.\n",
            "Best RMSE score: 1.0449218073390731\n",
            "Best parameters: {'k': 40, 'min_k': 9, 'sim_options': {'name': 'pearson_baseline', 'user_based': True, 'min_support': 2}}\n"
          ]
        }
      ],
      "source": [
        "# Setting up parameter grid to tune the hyperparameters\n",
        "param_grid = {'k': [10, 20, 30, 40], 'min_k': [3, 6, 9],\n",
        "              'sim_options': {'name': [\"cosine\", 'pearson', \"pearson_baseline\"],\n",
        "                              'user_based': [True], \"min_support\": [2, 4]}\n",
        "              }\n",
        "\n",
        "# Performing 3-fold cross-validation to tune the hyperparameters\n",
        "gs = GridSearchCV(KNNBasic, param_grid, measures=['rmse'], cv=3)\n",
        "\n",
        "# Fitting the data\n",
        " # Use entire data for GridSearch\n",
        "gs.fit(data)\n",
        "\n",
        "\n",
        "# Best RMSE score\n",
        "# Print the best RMSE score\n",
        "print(f\"Best RMSE score: {gs.best_score['rmse']}\")\n",
        "\n",
        "\n",
        "# Combination of parameters that gave the best RMSE score\n",
        "# Print the combination of parameters that gave the best RMSE score\n",
        "print(f\"Best parameters: {gs.best_params['rmse']}\")\n",
        "\n"
      ]
    },
    {
      "cell_type": "code",
      "source": [
        "best_params = {\n",
        "    'k': 40,\n",
        "    'min_k': 9,\n",
        "    'sim_options': {\n",
        "        'name': 'pearson_baseline',\n",
        "        'user_based': True,\n",
        "        'min_support': 2\n",
        "    }\n",
        "}"
      ],
      "metadata": {
        "id": "fxRvCabJGZJM"
      },
      "execution_count": null,
      "outputs": []
    },
    {
      "cell_type": "code",
      "execution_count": null,
      "metadata": {
        "id": "PujRJA8X_JEJ",
        "colab": {
          "base_uri": "https://localhost:8080/"
        },
        "outputId": "9eede202-0807-475a-e054-7b549e275cfc"
      },
      "outputs": [
        {
          "output_type": "stream",
          "name": "stdout",
          "text": [
            "Estimating biases using als...\n",
            "Computing the pearson_baseline similarity matrix...\n",
            "Done computing similarity matrix.\n"
          ]
        },
        {
          "output_type": "execute_result",
          "data": {
            "text/plain": [
              "<surprise.prediction_algorithms.knns.KNNBasic at 0x7c81d65b4640>"
            ]
          },
          "metadata": {},
          "execution_count": 70
        }
      ],
      "source": [
        "# Train the best model found in above gridsearch\n",
        "# Initialize the best model\n",
        "best_model = KNNBasic(k=best_params['k'], min_k=best_params['min_k'],\n",
        "                      sim_options=best_params['sim_options'])\n",
        "\n",
        "# Since you're using the entire dataset to train, you can build a full trainset\n",
        "trainset = data.build_full_trainset()\n",
        "\n",
        "# Train the model\n",
        "best_model.fit(trainset)"
      ]
    },
    {
      "cell_type": "markdown",
      "metadata": {
        "id": "MH5OBZ7Nse6m"
      },
      "source": [
        "**Observations and Insights:_________**"
      ]
    },
    {
      "cell_type": "code",
      "execution_count": null,
      "metadata": {
        "id": "FgV63lHiq1TV",
        "colab": {
          "base_uri": "https://localhost:8080/"
        },
        "outputId": "ed63ae1e-388f-47d7-bad8-785c9a2b6072"
      },
      "outputs": [
        {
          "output_type": "stream",
          "name": "stdout",
          "text": [
            "user: 6958       item: 1671       r_ui = 2.00   est = 1.70   {'was_impossible': True, 'reason': 'User and/or item is unknown.'}\n",
            "Predicted play count for user 6958 and song 1671: 1.70\n",
            "Actual play count (r_ui): 2\n"
          ]
        }
      ],
      "source": [
        "# Predict the play count for a user who has listened to the song. Take user_id 6958, song_id 1671 and r_ui = 2\n",
        "# Convert user_id and song_id to string if they are numeric\n",
        "user_id_str = str(6958)\n",
        "song_id_str = str(1671)\n",
        "true_rating = 2  # This represents the actual play count the user has for this song\n",
        "\n",
        "# Make a prediction for the given user-song pair\n",
        "prediction = best_model.predict(user_id_str, song_id_str, r_ui=true_rating, verbose=True)\n",
        "\n",
        "# The estimated 'rating' is the predicted play count for this user-song pair\n",
        "predicted_play_count = prediction.est\n",
        "\n",
        "print(f\"Predicted play count for user {user_id_str} and song {song_id_str}: {predicted_play_count:.2f}\")\n",
        "print(f\"Actual play count (r_ui): {true_rating}\")\n"
      ]
    },
    {
      "cell_type": "code",
      "execution_count": null,
      "metadata": {
        "id": "HXO2Ztjhq1bN",
        "colab": {
          "base_uri": "https://localhost:8080/"
        },
        "outputId": "64d4eaf9-d0d8-4c8b-9112-b1eca749e035"
      },
      "outputs": [
        {
          "output_type": "stream",
          "name": "stdout",
          "text": [
            "Predicted play count for user 6958 and randomly selected unlistened song SOWCBKV12AC90732A6: 1.7000576877396587\n"
          ]
        }
      ],
      "source": [
        "import random\n",
        "\n",
        "# Predict the play count for a song that is not listened to by the user (with user_id 6958)\n",
        "listened_songs = set(df_final[df_final['user_id'] == '6958']['song_id'])\n",
        "all_songs = set(df_final['song_id'])\n",
        "not_listened_songs = all_songs - listened_songs\n",
        "\n",
        "\n",
        "random_song_not_listened = random.sample(not_listened_songs, 1)[0]\n",
        "\n",
        "# Assuming 'best_model' is your trained model\n",
        "prediction = best_model.predict('6958', random_song_not_listened)\n",
        "predicted_play_count = prediction.est\n",
        "\n",
        "print(f\"Predicted play count for user 6958 and randomly selected unlistened song {random_song_not_listened}: {predicted_play_count}\")\n"
      ]
    },
    {
      "cell_type": "markdown",
      "metadata": {
        "id": "SdpJ--8QWuzz"
      },
      "source": [
        "**Observations and Insights:______________**"
      ]
    },
    {
      "cell_type": "markdown",
      "metadata": {
        "id": "SQ9M4pplNbWS"
      },
      "source": [
        "**Think About It:** Along with making predictions on listened and unknown songs can we get 5 nearest neighbors (most similar) to a certain song?"
      ]
    },
    {
      "cell_type": "code",
      "execution_count": null,
      "metadata": {
        "id": "TbFle7cKmBJG",
        "colab": {
          "base_uri": "https://localhost:8080/"
        },
        "outputId": "f53554c2-d115-4e80-81ed-423cd15b0530"
      },
      "outputs": [
        {
          "output_type": "stream",
          "name": "stdout",
          "text": [
            "Computing the cosine similarity matrix...\n",
            "Done computing similarity matrix.\n"
          ]
        },
        {
          "output_type": "execute_result",
          "data": {
            "text/plain": [
              "<surprise.prediction_algorithms.knns.KNNBasic at 0x7c81d65b42e0>"
            ]
          },
          "metadata": {},
          "execution_count": 64
        }
      ],
      "source": [
        "# Use inner id 0\n",
        "from surprise import KNNBasic, Dataset, Reader\n",
        "\n",
        "# Example setup (adjust according to your actual setup)\n",
        "sim_options = {'name': 'cosine', 'user_based': False}  # item-based similarity\n",
        "model = KNNBasic(sim_options=sim_options)\n",
        "\n",
        "# Assuming 'data' is your dataset\n",
        "trainset = data.build_full_trainset()\n",
        "model.fit(trainset)\n",
        "\n"
      ]
    },
    {
      "cell_type": "code",
      "source": [
        "import numpy as np\n",
        "\n",
        "# Get the item-item similarity matrix\n",
        "similarity_matrix = model.compute_similarities()\n",
        "\n",
        "# Get the 5 nearest neighbors of the item with inner id 0\n",
        "# Note: Depending on the similarity measure, you might want to sort in descending order (for similarity)\n",
        "# or ascending order (for distance)\n",
        "nearest_neighbors = np.argsort(similarity_matrix[0])[-6:-1]  # Excludes the item itself\n",
        "\n",
        "print(f\"5 Nearest neighbors (inner ids) of the song with inner id 0: {nearest_neighbors}\")\n"
      ],
      "metadata": {
        "colab": {
          "base_uri": "https://localhost:8080/"
        },
        "id": "rmE8m2NEHnHP",
        "outputId": "41b81aba-976e-4017-ed03-cbc7fafe8de3"
      },
      "execution_count": null,
      "outputs": [
        {
          "output_type": "stream",
          "name": "stdout",
          "text": [
            "Computing the cosine similarity matrix...\n",
            "Done computing similarity matrix.\n",
            "5 Nearest neighbors (inner ids) of the song with inner id 0: [241 243 419 418 508]\n"
          ]
        }
      ]
    },
    {
      "cell_type": "markdown",
      "metadata": {
        "id": "U3ESobDynVNI"
      },
      "source": [
        "Below we will be implementing a function where the input parameters are:\n",
        "\n",
        "- data: A **song** dataset\n",
        "- user_id: A user-id **against which we want the recommendations**\n",
        "- top_n: The **number of songs we want to recommend**\n",
        "- algo: The algorithm we want to use **for predicting the play_count**\n",
        "- The output of the function is a **set of top_n items** recommended for the given user_id based on the given algorithm"
      ]
    },
    {
      "cell_type": "code",
      "execution_count": null,
      "metadata": {
        "id": "vW9V1Tk65HlY"
      },
      "outputs": [],
      "source": [
        "from collections import defaultdict\n",
        "\n",
        "def get_recommendations(data, user_id, top_n, algo):\n",
        "    \"\"\"\n",
        "    Recommend top N songs for a given user based on predicted play counts.\n",
        "\n",
        "    Parameters:\n",
        "    - data: DataFrame containing the song dataset with columns ['user_id', 'song_id', 'play_count'].\n",
        "    - user_id: The user ID for whom to make recommendations.\n",
        "    - top_n: The number of top recommendations to return.\n",
        "    - algo: The prediction algorithm object already trained.\n",
        "\n",
        "    Returns:\n",
        "    - top_n_recommendations: List of tuples with the top N recommended song IDs and their predicted play counts.\n",
        "    \"\"\"\n",
        "    # Creating an empty list to store the recommended song ids\n",
        "    recommendations = []\n",
        "\n",
        "    # Create a set of all song_ids\n",
        "    all_songs = set(data['song_id'])\n",
        "\n",
        "    # Find songs the user has interacted with\n",
        "    played_songs = set(data[data['user_id'] == user_id]['song_id'])\n",
        "\n",
        "    # Songs the user has not played yet\n",
        "    not_played_songs = all_songs - played_songs\n",
        "\n",
        "    # Predict play counts for songs not played by the user\n",
        "    for song_id in not_played_songs:\n",
        "        # Predicting the play count for those non played song ids by this user\n",
        "        predicted_play_count = algo.predict(user_id, song_id).est\n",
        "\n",
        "        # Appending the predicted play_counts along with song_id\n",
        "        recommendations.append((song_id, predicted_play_count))\n",
        "\n",
        "    # Sorting the predicted play_counts in descending order and take top N\n",
        "    recommendations.sort(key=lambda x: x[1], reverse=True)\n",
        "    top_n_recommendations = recommendations[:top_n]\n",
        "\n",
        "    return top_n_recommendations\n"
      ]
    },
    {
      "cell_type": "code",
      "source": [
        "import random\n",
        "\n",
        "# Assuming 'data' is your DataFrame containing user interactions\n",
        "random_user_id = random.choice(df_final['user_id'].unique())\n",
        "print(f\"Randomly selected user_id: {random_user_id}\")\n"
      ],
      "metadata": {
        "colab": {
          "base_uri": "https://localhost:8080/"
        },
        "id": "I3mGwqnEIT0p",
        "outputId": "cb060bfe-2e8a-4e81-98ae-5bcbae2e7182"
      },
      "execution_count": null,
      "outputs": [
        {
          "output_type": "stream",
          "name": "stdout",
          "text": [
            "Randomly selected user_id: 60a85d6d80cfea07e64ff556112ef845932e197b\n"
          ]
        }
      ]
    },
    {
      "cell_type": "code",
      "execution_count": null,
      "metadata": {
        "id": "qWbR85mI5Hrk",
        "colab": {
          "base_uri": "https://localhost:8080/"
        },
        "outputId": "5ebfb6ec-0970-4cfc-9676-a9ee147081ce"
      },
      "outputs": [
        {
          "output_type": "stream",
          "name": "stdout",
          "text": [
            "Top 5 recommended songs for user 60a85d6d80cfea07e64ff556112ef845932e197b:\n",
            "Song ID: SOIIYYX12A58A7BF1F, Predicted Play Count: 1.7336449888385648\n",
            "Song ID: SOHTQAS12A6701C7BA, Predicted Play Count: 1.7143769697066167\n",
            "Song ID: SOQHWMN12A6701E2D9, Predicted Play Count: 1.6799636397540045\n",
            "Song ID: SOKVZHI12A58A7A13E, Predicted Play Count: 1.6726449140232178\n",
            "Song ID: SOPREHY12AB01815F9, Predicted Play Count: 1.6606164311905278\n"
          ]
        }
      ],
      "source": [
        "# Make top 5 recommendations for any user_id with a similarity-based recommendation engine\n",
        "# Make top 5 recommendations\n",
        "top_5_recommendations = get_recommendations(df_final, random_user_id, 5, model)\n",
        "\n",
        "print(f\"Top 5 recommended songs for user {random_user_id}:\")\n",
        "for song_id, predicted_play_count in top_5_recommendations:\n",
        "    print(f\"Song ID: {song_id}, Predicted Play Count: {predicted_play_count}\")\n"
      ]
    },
    {
      "cell_type": "code",
      "execution_count": null,
      "metadata": {
        "id": "b5WfIX0Z6_q2",
        "colab": {
          "base_uri": "https://localhost:8080/"
        },
        "outputId": "0d5da6db-7324-43cc-d612-4d7899646536"
      },
      "outputs": [
        {
          "output_type": "stream",
          "name": "stdout",
          "text": [
            "              song_id  predicted_play_count\n",
            "0  SOIIYYX12A58A7BF1F              1.733645\n",
            "1  SOHTQAS12A6701C7BA              1.714377\n",
            "2  SOQHWMN12A6701E2D9              1.679964\n",
            "3  SOKVZHI12A58A7A13E              1.672645\n",
            "4  SOPREHY12AB01815F9              1.660616\n"
          ]
        }
      ],
      "source": [
        "# Building the dataframe for above recommendations with columns \"song_id\" and \"predicted_play_count\"\n",
        "import pandas as pd\n",
        "\n",
        "# Assuming top_5_recommendations contains your top 5 recommended song IDs and their predicted play counts\n",
        "top_5_df = pd.DataFrame(top_5_recommendations, columns=['song_id', 'predicted_play_count'])\n",
        "\n",
        "print(top_5_df)\n"
      ]
    },
    {
      "cell_type": "markdown",
      "metadata": {
        "id": "kyhThMOttWjj"
      },
      "source": [
        "**Observations and Insights:______________**"
      ]
    },
    {
      "cell_type": "markdown",
      "metadata": {
        "id": "ghwEJY2e7INB"
      },
      "source": [
        "### Correcting the play_counts and Ranking the above songs"
      ]
    },
    {
      "cell_type": "code",
      "execution_count": null,
      "metadata": {
        "id": "39Hs7ZbO9v3O"
      },
      "outputs": [],
      "source": [
        "def ranking_songs(recommendations, playing_count_df):\n",
        "    # Convert recommendations to DataFrame for easy handling\n",
        "    recommendations_df = pd.DataFrame(recommendations, columns=['song_id', 'predicted_play_count'])\n",
        "\n",
        "    # Ensure 'playing_count_df' is filtered correctly by 'song_id' present in 'recommendations_df'\n",
        "    ranked_songs = playing_count_df[playing_count_df['song_id'].isin(recommendations_df['song_id'])]\n",
        "\n",
        "    # Merge with the recommended songs to get predicted play_counts\n",
        "    ranked_songs = ranked_songs.merge(recommendations_df, on='song_id', how='inner')\n",
        "\n",
        "    # Correct play counts based on some logic\n",
        "    ranked_songs['corrected_play_count'] = ranked_songs['predicted_play_count'] - 1 / np.sqrt(ranked_songs['play_freq'])\n",
        "\n",
        "    # Sort the songs based on corrected play_counts in descending order\n",
        "    ranked_songs = ranked_songs.sort_values('corrected_play_count', ascending=False)\n",
        "\n",
        "    return ranked_songs\n"
      ]
    },
    {
      "cell_type": "markdown",
      "metadata": {
        "id": "zQvst41lOoMX"
      },
      "source": [
        "**Think About It:** In the above function to correct the predicted play_count a quantity 1/np.sqrt(n) is subtracted. What is the intuition behind it? Is it also possible to add this quantity instead of subtracting?"
      ]
    },
    {
      "cell_type": "code",
      "execution_count": null,
      "metadata": {
        "id": "xoiAL_vH8miC"
      },
      "outputs": [],
      "source": [
        "# Assuming playing_count is a dictionary\n",
        "playing_count_df = pd.DataFrame(list(playing_count.items()), columns=['song_id', 'play_freq'])\n"
      ]
    },
    {
      "cell_type": "code",
      "source": [
        "playing_count_df.head()"
      ],
      "metadata": {
        "colab": {
          "base_uri": "https://localhost:8080/",
          "height": 206
        },
        "id": "nd-RG23HOOEc",
        "outputId": "5feee10e-c05a-4340-e3de-3c7c29eebcc2"
      },
      "execution_count": null,
      "outputs": [
        {
          "output_type": "execute_result",
          "data": {
            "text/plain": [
              "              song_id  play_freq\n",
              "0  SOAARXR12A8C133D15         32\n",
              "1  SOACPBY12A8C13FEF9         59\n",
              "2  SOAKHOF12A8C13C72A         88\n",
              "3  SOAVIJW12AB018269B         96\n",
              "4  SOBDVAK12AC90759A2        143"
            ],
            "text/html": [
              "\n",
              "  <div id=\"df-80f2a061-7f01-4255-8d58-f904015a9e7d\" class=\"colab-df-container\">\n",
              "    <div>\n",
              "<style scoped>\n",
              "    .dataframe tbody tr th:only-of-type {\n",
              "        vertical-align: middle;\n",
              "    }\n",
              "\n",
              "    .dataframe tbody tr th {\n",
              "        vertical-align: top;\n",
              "    }\n",
              "\n",
              "    .dataframe thead th {\n",
              "        text-align: right;\n",
              "    }\n",
              "</style>\n",
              "<table border=\"1\" class=\"dataframe\">\n",
              "  <thead>\n",
              "    <tr style=\"text-align: right;\">\n",
              "      <th></th>\n",
              "      <th>song_id</th>\n",
              "      <th>play_freq</th>\n",
              "    </tr>\n",
              "  </thead>\n",
              "  <tbody>\n",
              "    <tr>\n",
              "      <th>0</th>\n",
              "      <td>SOAARXR12A8C133D15</td>\n",
              "      <td>32</td>\n",
              "    </tr>\n",
              "    <tr>\n",
              "      <th>1</th>\n",
              "      <td>SOACPBY12A8C13FEF9</td>\n",
              "      <td>59</td>\n",
              "    </tr>\n",
              "    <tr>\n",
              "      <th>2</th>\n",
              "      <td>SOAKHOF12A8C13C72A</td>\n",
              "      <td>88</td>\n",
              "    </tr>\n",
              "    <tr>\n",
              "      <th>3</th>\n",
              "      <td>SOAVIJW12AB018269B</td>\n",
              "      <td>96</td>\n",
              "    </tr>\n",
              "    <tr>\n",
              "      <th>4</th>\n",
              "      <td>SOBDVAK12AC90759A2</td>\n",
              "      <td>143</td>\n",
              "    </tr>\n",
              "  </tbody>\n",
              "</table>\n",
              "</div>\n",
              "    <div class=\"colab-df-buttons\">\n",
              "\n",
              "  <div class=\"colab-df-container\">\n",
              "    <button class=\"colab-df-convert\" onclick=\"convertToInteractive('df-80f2a061-7f01-4255-8d58-f904015a9e7d')\"\n",
              "            title=\"Convert this dataframe to an interactive table.\"\n",
              "            style=\"display:none;\">\n",
              "\n",
              "  <svg xmlns=\"http://www.w3.org/2000/svg\" height=\"24px\" viewBox=\"0 -960 960 960\">\n",
              "    <path d=\"M120-120v-720h720v720H120Zm60-500h600v-160H180v160Zm220 220h160v-160H400v160Zm0 220h160v-160H400v160ZM180-400h160v-160H180v160Zm440 0h160v-160H620v160ZM180-180h160v-160H180v160Zm440 0h160v-160H620v160Z\"/>\n",
              "  </svg>\n",
              "    </button>\n",
              "\n",
              "  <style>\n",
              "    .colab-df-container {\n",
              "      display:flex;\n",
              "      gap: 12px;\n",
              "    }\n",
              "\n",
              "    .colab-df-convert {\n",
              "      background-color: #E8F0FE;\n",
              "      border: none;\n",
              "      border-radius: 50%;\n",
              "      cursor: pointer;\n",
              "      display: none;\n",
              "      fill: #1967D2;\n",
              "      height: 32px;\n",
              "      padding: 0 0 0 0;\n",
              "      width: 32px;\n",
              "    }\n",
              "\n",
              "    .colab-df-convert:hover {\n",
              "      background-color: #E2EBFA;\n",
              "      box-shadow: 0px 1px 2px rgba(60, 64, 67, 0.3), 0px 1px 3px 1px rgba(60, 64, 67, 0.15);\n",
              "      fill: #174EA6;\n",
              "    }\n",
              "\n",
              "    .colab-df-buttons div {\n",
              "      margin-bottom: 4px;\n",
              "    }\n",
              "\n",
              "    [theme=dark] .colab-df-convert {\n",
              "      background-color: #3B4455;\n",
              "      fill: #D2E3FC;\n",
              "    }\n",
              "\n",
              "    [theme=dark] .colab-df-convert:hover {\n",
              "      background-color: #434B5C;\n",
              "      box-shadow: 0px 1px 3px 1px rgba(0, 0, 0, 0.15);\n",
              "      filter: drop-shadow(0px 1px 2px rgba(0, 0, 0, 0.3));\n",
              "      fill: #FFFFFF;\n",
              "    }\n",
              "  </style>\n",
              "\n",
              "    <script>\n",
              "      const buttonEl =\n",
              "        document.querySelector('#df-80f2a061-7f01-4255-8d58-f904015a9e7d button.colab-df-convert');\n",
              "      buttonEl.style.display =\n",
              "        google.colab.kernel.accessAllowed ? 'block' : 'none';\n",
              "\n",
              "      async function convertToInteractive(key) {\n",
              "        const element = document.querySelector('#df-80f2a061-7f01-4255-8d58-f904015a9e7d');\n",
              "        const dataTable =\n",
              "          await google.colab.kernel.invokeFunction('convertToInteractive',\n",
              "                                                    [key], {});\n",
              "        if (!dataTable) return;\n",
              "\n",
              "        const docLinkHtml = 'Like what you see? Visit the ' +\n",
              "          '<a target=\"_blank\" href=https://colab.research.google.com/notebooks/data_table.ipynb>data table notebook</a>'\n",
              "          + ' to learn more about interactive tables.';\n",
              "        element.innerHTML = '';\n",
              "        dataTable['output_type'] = 'display_data';\n",
              "        await google.colab.output.renderOutput(dataTable, element);\n",
              "        const docLink = document.createElement('div');\n",
              "        docLink.innerHTML = docLinkHtml;\n",
              "        element.appendChild(docLink);\n",
              "      }\n",
              "    </script>\n",
              "  </div>\n",
              "\n",
              "\n",
              "<div id=\"df-4ea408eb-a8a6-4d57-8890-0139d80a78a6\">\n",
              "  <button class=\"colab-df-quickchart\" onclick=\"quickchart('df-4ea408eb-a8a6-4d57-8890-0139d80a78a6')\"\n",
              "            title=\"Suggest charts\"\n",
              "            style=\"display:none;\">\n",
              "\n",
              "<svg xmlns=\"http://www.w3.org/2000/svg\" height=\"24px\"viewBox=\"0 0 24 24\"\n",
              "     width=\"24px\">\n",
              "    <g>\n",
              "        <path d=\"M19 3H5c-1.1 0-2 .9-2 2v14c0 1.1.9 2 2 2h14c1.1 0 2-.9 2-2V5c0-1.1-.9-2-2-2zM9 17H7v-7h2v7zm4 0h-2V7h2v10zm4 0h-2v-4h2v4z\"/>\n",
              "    </g>\n",
              "</svg>\n",
              "  </button>\n",
              "\n",
              "<style>\n",
              "  .colab-df-quickchart {\n",
              "      --bg-color: #E8F0FE;\n",
              "      --fill-color: #1967D2;\n",
              "      --hover-bg-color: #E2EBFA;\n",
              "      --hover-fill-color: #174EA6;\n",
              "      --disabled-fill-color: #AAA;\n",
              "      --disabled-bg-color: #DDD;\n",
              "  }\n",
              "\n",
              "  [theme=dark] .colab-df-quickchart {\n",
              "      --bg-color: #3B4455;\n",
              "      --fill-color: #D2E3FC;\n",
              "      --hover-bg-color: #434B5C;\n",
              "      --hover-fill-color: #FFFFFF;\n",
              "      --disabled-bg-color: #3B4455;\n",
              "      --disabled-fill-color: #666;\n",
              "  }\n",
              "\n",
              "  .colab-df-quickchart {\n",
              "    background-color: var(--bg-color);\n",
              "    border: none;\n",
              "    border-radius: 50%;\n",
              "    cursor: pointer;\n",
              "    display: none;\n",
              "    fill: var(--fill-color);\n",
              "    height: 32px;\n",
              "    padding: 0;\n",
              "    width: 32px;\n",
              "  }\n",
              "\n",
              "  .colab-df-quickchart:hover {\n",
              "    background-color: var(--hover-bg-color);\n",
              "    box-shadow: 0 1px 2px rgba(60, 64, 67, 0.3), 0 1px 3px 1px rgba(60, 64, 67, 0.15);\n",
              "    fill: var(--button-hover-fill-color);\n",
              "  }\n",
              "\n",
              "  .colab-df-quickchart-complete:disabled,\n",
              "  .colab-df-quickchart-complete:disabled:hover {\n",
              "    background-color: var(--disabled-bg-color);\n",
              "    fill: var(--disabled-fill-color);\n",
              "    box-shadow: none;\n",
              "  }\n",
              "\n",
              "  .colab-df-spinner {\n",
              "    border: 2px solid var(--fill-color);\n",
              "    border-color: transparent;\n",
              "    border-bottom-color: var(--fill-color);\n",
              "    animation:\n",
              "      spin 1s steps(1) infinite;\n",
              "  }\n",
              "\n",
              "  @keyframes spin {\n",
              "    0% {\n",
              "      border-color: transparent;\n",
              "      border-bottom-color: var(--fill-color);\n",
              "      border-left-color: var(--fill-color);\n",
              "    }\n",
              "    20% {\n",
              "      border-color: transparent;\n",
              "      border-left-color: var(--fill-color);\n",
              "      border-top-color: var(--fill-color);\n",
              "    }\n",
              "    30% {\n",
              "      border-color: transparent;\n",
              "      border-left-color: var(--fill-color);\n",
              "      border-top-color: var(--fill-color);\n",
              "      border-right-color: var(--fill-color);\n",
              "    }\n",
              "    40% {\n",
              "      border-color: transparent;\n",
              "      border-right-color: var(--fill-color);\n",
              "      border-top-color: var(--fill-color);\n",
              "    }\n",
              "    60% {\n",
              "      border-color: transparent;\n",
              "      border-right-color: var(--fill-color);\n",
              "    }\n",
              "    80% {\n",
              "      border-color: transparent;\n",
              "      border-right-color: var(--fill-color);\n",
              "      border-bottom-color: var(--fill-color);\n",
              "    }\n",
              "    90% {\n",
              "      border-color: transparent;\n",
              "      border-bottom-color: var(--fill-color);\n",
              "    }\n",
              "  }\n",
              "</style>\n",
              "\n",
              "  <script>\n",
              "    async function quickchart(key) {\n",
              "      const quickchartButtonEl =\n",
              "        document.querySelector('#' + key + ' button');\n",
              "      quickchartButtonEl.disabled = true;  // To prevent multiple clicks.\n",
              "      quickchartButtonEl.classList.add('colab-df-spinner');\n",
              "      try {\n",
              "        const charts = await google.colab.kernel.invokeFunction(\n",
              "            'suggestCharts', [key], {});\n",
              "      } catch (error) {\n",
              "        console.error('Error during call to suggestCharts:', error);\n",
              "      }\n",
              "      quickchartButtonEl.classList.remove('colab-df-spinner');\n",
              "      quickchartButtonEl.classList.add('colab-df-quickchart-complete');\n",
              "    }\n",
              "    (() => {\n",
              "      let quickchartButtonEl =\n",
              "        document.querySelector('#df-4ea408eb-a8a6-4d57-8890-0139d80a78a6 button');\n",
              "      quickchartButtonEl.style.display =\n",
              "        google.colab.kernel.accessAllowed ? 'block' : 'none';\n",
              "    })();\n",
              "  </script>\n",
              "</div>\n",
              "    </div>\n",
              "  </div>\n"
            ],
            "application/vnd.google.colaboratory.intrinsic+json": {
              "type": "dataframe",
              "variable_name": "playing_count_df",
              "summary": "{\n  \"name\": \"playing_count_df\",\n  \"rows\": 9999,\n  \"fields\": [\n    {\n      \"column\": \"song_id\",\n      \"properties\": {\n        \"dtype\": \"string\",\n        \"num_unique_values\": 9999,\n        \"samples\": [\n          \"SOOWNLO12A6D4F7A3C\",\n          \"SOGKWDL12A6D4F78E5\",\n          \"SOKGLXT12AB0184DCA\"\n        ],\n        \"semantic_type\": \"\",\n        \"description\": \"\"\n      }\n    },\n    {\n      \"column\": \"play_freq\",\n      \"properties\": {\n        \"dtype\": \"number\",\n        \"std\": 61,\n        \"min\": 1,\n        \"max\": 1002,\n        \"num_unique_values\": 353,\n        \"samples\": [\n          224,\n          101,\n          196\n        ],\n        \"semantic_type\": \"\",\n        \"description\": \"\"\n      }\n    }\n  ]\n}"
            }
          },
          "metadata": {},
          "execution_count": 89
        }
      ]
    },
    {
      "cell_type": "code",
      "source": [
        "ranked_songs_df = ranking_songs(top_5_recommendations, playing_count_df)\n",
        "\n",
        "# Display the ranked songs DataFrame\n",
        "print(ranked_songs_df)"
      ],
      "metadata": {
        "colab": {
          "base_uri": "https://localhost:8080/"
        },
        "id": "5Hyv5AE1No1K",
        "outputId": "1590be58-3614-4b81-b760-46cf347e5e89"
      },
      "execution_count": null,
      "outputs": [
        {
          "output_type": "stream",
          "name": "stdout",
          "text": [
            "              song_id  play_freq  predicted_play_count  corrected_play_count\n",
            "1  SOIIYYX12A58A7BF1F        126              1.733645              1.644558\n",
            "4  SOHTQAS12A6701C7BA        144              1.714377              1.631044\n",
            "2  SOKVZHI12A58A7A13E        203              1.672645              1.602459\n",
            "0  SOPREHY12AB01815F9        242              1.660616              1.596334\n",
            "3  SOQHWMN12A6701E2D9        131              1.679964              1.592593\n"
          ]
        }
      ]
    },
    {
      "cell_type": "markdown",
      "metadata": {
        "id": "KOwwGsH8toLG"
      },
      "source": [
        "**Observations and Insights:______________**"
      ]
    },
    {
      "cell_type": "markdown",
      "metadata": {
        "id": "QgbzJKk7Tsnr"
      },
      "source": [
        "### Item Item Similarity-based collaborative filtering recommendation systems"
      ]
    },
    {
      "cell_type": "code",
      "source": [
        "from surprise import KNNBasic, Reader, Dataset\n",
        "from surprise.model_selection import cross_validate, train_test_split"
      ],
      "metadata": {
        "id": "Z_VuNEp7PfV9"
      },
      "execution_count": null,
      "outputs": []
    },
    {
      "cell_type": "code",
      "execution_count": null,
      "metadata": {
        "id": "W5RMcdzjTsns",
        "scrolled": false
      },
      "outputs": [],
      "source": [
        "# Apply the item-item similarity collaborative filtering model with random_state = 1 and evaluate the model performance\n",
        "# Configure the algorithm for item-based collaborative filtering\n",
        "sim_options = {\n",
        "    'name': 'cosine',\n",
        "    'user_based': False,  # Compute similarities between items\n",
        "    'min_support': 5,  # Minimum number of common users for similarity to be considered\n",
        "}\n",
        "\n",
        "algo = KNNBasic(sim_options=sim_options, random_state=1)\n"
      ]
    },
    {
      "cell_type": "code",
      "source": [
        "# Perform cross-validation\n",
        "cross_validate(algo, data, measures=['RMSE', 'MAE'], cv=5, verbose=True)"
      ],
      "metadata": {
        "colab": {
          "base_uri": "https://localhost:8080/"
        },
        "id": "wskX6azSPcIT",
        "outputId": "2cc3e803-f17b-4958-b3b1-d28ac5e433bd"
      },
      "execution_count": null,
      "outputs": [
        {
          "output_type": "stream",
          "name": "stdout",
          "text": [
            "Computing the cosine similarity matrix...\n",
            "Done computing similarity matrix.\n",
            "Computing the cosine similarity matrix...\n",
            "Done computing similarity matrix.\n",
            "Computing the cosine similarity matrix...\n",
            "Done computing similarity matrix.\n",
            "Computing the cosine similarity matrix...\n",
            "Done computing similarity matrix.\n",
            "Computing the cosine similarity matrix...\n",
            "Done computing similarity matrix.\n",
            "Evaluating RMSE, MAE of algorithm KNNBasic on 5 split(s).\n",
            "\n",
            "                  Fold 1  Fold 2  Fold 3  Fold 4  Fold 5  Mean    Std     \n",
            "RMSE (testset)    1.0225  1.0288  1.0260  1.0189  1.0328  1.0258  0.0048  \n",
            "MAE (testset)     0.7544  0.7606  0.7583  0.7555  0.7656  0.7589  0.0040  \n",
            "Fit time          0.25    0.20    0.21    0.20    0.20    0.21    0.02    \n",
            "Test time         1.63    1.53    1.85    1.57    1.55    1.63    0.12    \n"
          ]
        },
        {
          "output_type": "execute_result",
          "data": {
            "text/plain": [
              "{'test_rmse': array([1.02250507, 1.02882157, 1.02597322, 1.01893838, 1.03281473]),\n",
              " 'test_mae': array([0.75441959, 0.76061902, 0.75829131, 0.75549836, 0.76558091]),\n",
              " 'fit_time': (0.254718542098999,\n",
              "  0.1991560459136963,\n",
              "  0.20646405220031738,\n",
              "  0.19956302642822266,\n",
              "  0.20071744918823242),\n",
              " 'test_time': (1.6250035762786865,\n",
              "  1.5287315845489502,\n",
              "  1.85371994972229,\n",
              "  1.574249267578125,\n",
              "  1.5481669902801514)}"
            ]
          },
          "metadata": {},
          "execution_count": 97
        }
      ]
    },
    {
      "cell_type": "code",
      "source": [
        "trainset, testset = train_test_split(data, test_size=0.2, random_state=1)\n",
        "\n",
        "# Train the algorithm on the trainset\n",
        "algo.fit(trainset)\n",
        "\n",
        "# Predict on the test set\n",
        "predictions = algo.test(testset)\n",
        "\n",
        "# Compute and print the RMSE\n",
        "accuracy.rmse(predictions)"
      ],
      "metadata": {
        "colab": {
          "base_uri": "https://localhost:8080/"
        },
        "id": "sAlv8r8LPlq5",
        "outputId": "95c02abd-44ce-4b4b-e087-91293032ac07"
      },
      "execution_count": null,
      "outputs": [
        {
          "output_type": "stream",
          "name": "stdout",
          "text": [
            "Computing the cosine similarity matrix...\n",
            "Done computing similarity matrix.\n",
            "RMSE: 1.0229\n"
          ]
        },
        {
          "output_type": "execute_result",
          "data": {
            "text/plain": [
              "1.0228574616083013"
            ]
          },
          "metadata": {},
          "execution_count": 98
        }
      ]
    },
    {
      "cell_type": "markdown",
      "metadata": {
        "id": "JfdIJ6XWunx0"
      },
      "source": [
        "**Observations and Insights:______________**"
      ]
    },
    {
      "cell_type": "code",
      "execution_count": null,
      "metadata": {
        "id": "5yILOxXRTsns",
        "colab": {
          "base_uri": "https://localhost:8080/"
        },
        "outputId": "57feaff5-21d8-485c-e422-132afc4932dc"
      },
      "outputs": [
        {
          "output_type": "stream",
          "name": "stdout",
          "text": [
            "Predicted play count for user 6958 and song 1671: 1.700031813361612\n"
          ]
        }
      ],
      "source": [
        "# Predicting play count for a sample user_id 6958 and song (with song_id 1671) listened to by the user\n",
        "# Convert user_id and song_id to the appropriate format if they are not strings\n",
        "user_id_str = str(6958)\n",
        "song_id_str = str(1671)\n",
        "\n",
        "# Use the trained model to predict the play count for the user-song pair\n",
        "prediction = algo.predict(user_id_str, song_id_str)\n",
        "\n",
        "# The estimated rating is the model's prediction for the play count\n",
        "predicted_play_count = prediction.est\n",
        "\n",
        "print(f\"Predicted play count for user {user_id_str} and song {song_id_str}: {predicted_play_count}\")"
      ]
    },
    {
      "cell_type": "code",
      "execution_count": null,
      "metadata": {
        "id": "jSn8oK3JZsTc",
        "colab": {
          "base_uri": "https://localhost:8080/"
        },
        "outputId": "216befbe-6f44-45e8-ad6c-45b739171eb0"
      },
      "outputs": [
        {
          "output_type": "stream",
          "name": "stdout",
          "text": [
            "Random user who has not listened to song 1671: 0b27fa6a9c8635b57c9ed765b6e8324870205c79\n"
          ]
        }
      ],
      "source": [
        "# Predict the play count for a user that has not listened to the song (with song_id 1671)\n",
        "listened_users = df_final[df_final['song_id'] == '1671']['user_id'].unique()\n",
        "\n",
        "all_users = df_final['user_id'].unique()\n",
        "not_listened_users = [user for user in all_users if user not in listened_users]\n",
        "\n",
        "random_user_not_listened = random.choice(not_listened_users)\n",
        "print(f\"Random user who has not listened to song 1671: {random_user_not_listened}\")\n"
      ]
    },
    {
      "cell_type": "code",
      "source": [
        "# Assuming 'algo' is your trained KNNBasic model for item-item similarity\n",
        "# Assuming 'song_id_str' is set to '1671' for the song of interest\n",
        "song_id_str = str(1671)\n",
        "\n",
        "# Let's choose a user who has not listened to song_id 1671\n",
        "# For demonstration, this is a hypothetical user_id; replace it with a real one from your dataset\n",
        "user_id_str = \"0b27fa6a9c8635b57c9ed765b6e8324870205c79\"\n",
        "\n",
        "# Use the trained model to predict the play count for the unseen user-song pair\n",
        "prediction = algo.predict(user_id_str, song_id_str)\n",
        "\n",
        "# The estimated rating is the model's prediction for the play count\n",
        "predicted_play_count = prediction.est\n",
        "\n",
        "print(f\"Predicted play count for user {user_id_str} and song {song_id_str}: {predicted_play_count}\")\n"
      ],
      "metadata": {
        "colab": {
          "base_uri": "https://localhost:8080/"
        },
        "id": "In_tqxoWQRPr",
        "outputId": "3ef5178e-739e-453b-b88d-5a9e9b0e9e8a"
      },
      "execution_count": null,
      "outputs": [
        {
          "output_type": "stream",
          "name": "stdout",
          "text": [
            "Predicted play count for user 0b27fa6a9c8635b57c9ed765b6e8324870205c79 and song 1671: 1.700031813361612\n"
          ]
        }
      ]
    },
    {
      "cell_type": "markdown",
      "metadata": {
        "id": "dxE9fJ8Dupby"
      },
      "source": [
        "**Observations and Insights:______________**"
      ]
    },
    {
      "cell_type": "code",
      "execution_count": null,
      "metadata": {
        "id": "f5bcZ3HgTsnt",
        "colab": {
          "base_uri": "https://localhost:8080/"
        },
        "outputId": "756c6c67-9411-4075-f9f8-71344037fadb"
      },
      "outputs": [
        {
          "output_type": "stream",
          "name": "stdout",
          "text": [
            "Best RMSE: 1.0242948800760245\n",
            "Best parameters: {'k': 30, 'min_k': 6, 'sim_options': {'name': 'pearson_baseline', 'user_based': False, 'min_support': 2}}\n"
          ]
        }
      ],
      "source": [
        "# Apply grid search for enhancing model performance\n",
        "\n",
        "# Setting up parameter grid to tune the hyperparameters\n",
        "param_grid = {'k': [10, 20, 30], 'min_k': [3, 6, 9],\n",
        "              'sim_options': {'name': [\"cosine\", 'pearson', \"pearson_baseline\"],\n",
        "                              'user_based': [False], \"min_support\": [2, 4]}\n",
        "              }\n",
        "\n",
        "# Performing 3-fold cross-validation to tune the hyperparameters\n",
        "gs = GridSearchCV(KNNBasic, param_grid, measures=['rmse'], cv=3, n_jobs=-1)\n",
        "# Fitting the data\n",
        "gs.fit(data)\n",
        "\n",
        "# Best RMSE score\n",
        "print(f\"Best RMSE: {gs.best_score['rmse']}\")\n",
        "\n",
        "# Extract the combination of parameters that gave the best RMSE score\n",
        "print(f\"Best parameters: {gs.best_params['rmse']}\")"
      ]
    },
    {
      "cell_type": "markdown",
      "metadata": {
        "id": "SXLxjLEQYvWk"
      },
      "source": [
        "**Think About It:** How do the parameters affect the performance of the model? Can we improve the performance of the model further? Check the list of hyperparameters [here](https://surprise.readthedocs.io/en/stable/knn_inspired.html)."
      ]
    },
    {
      "cell_type": "code",
      "execution_count": null,
      "metadata": {
        "id": "dSeiM1qeTsnt",
        "colab": {
          "base_uri": "https://localhost:8080/"
        },
        "outputId": "efbdd468-6ea0-4369-980a-7a1204beabe3"
      },
      "outputs": [
        {
          "output_type": "stream",
          "name": "stdout",
          "text": [
            "Estimating biases using als...\n",
            "Computing the pearson_baseline similarity matrix...\n",
            "Done computing similarity matrix.\n"
          ]
        },
        {
          "output_type": "execute_result",
          "data": {
            "text/plain": [
              "<surprise.prediction_algorithms.knns.KNNBasic at 0x7c822bcb0f40>"
            ]
          },
          "metadata": {},
          "execution_count": 103
        }
      ],
      "source": [
        "# Apply the best model found in the grid search\n",
        "# Best parameters from grid search\n",
        "best_sim_options = {\n",
        "    'name': 'pearson_baseline',\n",
        "    'user_based': False,\n",
        "    'min_support': 2\n",
        "}\n",
        "best_k = 30\n",
        "best_min_k = 6\n",
        "\n",
        "# Configure the model with the best parameters\n",
        "best_model = KNNBasic(k=best_k, min_k=best_min_k, sim_options=best_sim_options)\n",
        "\n",
        "# Load the full dataset for training\n",
        "trainset = data.build_full_trainset()\n",
        "\n",
        "# Train the best model\n",
        "best_model.fit(trainset)"
      ]
    },
    {
      "cell_type": "markdown",
      "metadata": {
        "id": "XxXelRIluvfh"
      },
      "source": [
        "**Observations and Insights:______________**"
      ]
    },
    {
      "cell_type": "code",
      "execution_count": null,
      "metadata": {
        "id": "gIBRRvdoTsnt",
        "colab": {
          "base_uri": "https://localhost:8080/"
        },
        "outputId": "c7adcac3-5e2f-4ef4-b1a0-1499627e4011"
      },
      "outputs": [
        {
          "output_type": "stream",
          "name": "stdout",
          "text": [
            "Predicted play count for user 6958 and song 1671: 1.7000576877396587\n"
          ]
        }
      ],
      "source": [
        "# Predict the play_count by a user(user_id 6958) for the song (song_id 1671)\n",
        "user_id = '6958'  # Replace with an actual user ID\n",
        "song_id = '1671'  # Replace with an actual song ID\n",
        "\n",
        "prediction = best_model.predict(user_id, song_id)\n",
        "print(f\"Predicted play count for user {user_id} and song {song_id}: {prediction.est}\")"
      ]
    },
    {
      "cell_type": "code",
      "execution_count": null,
      "metadata": {
        "id": "LNEgcI9PTsnu",
        "colab": {
          "base_uri": "https://localhost:8080/"
        },
        "outputId": "8d1e5184-4161-48ab-f577-350de229a087"
      },
      "outputs": [
        {
          "output_type": "stream",
          "name": "stdout",
          "text": [
            "Predicted play count for user 6958 and song 3232: 1.7000576877396587\n"
          ]
        }
      ],
      "source": [
        "# Predicting play count for a sample user_id 6958 with song_id 3232 which is not listened to by the user\n",
        "user_id = '6958'  # Replace with an actual user ID\n",
        "song_id = '3232'  # Replace with an actual song ID\n",
        "\n",
        "prediction = best_model.predict(user_id, song_id)\n",
        "print(f\"Predicted play count for user {user_id} and song {song_id}: {prediction.est}\")"
      ]
    },
    {
      "cell_type": "code",
      "source": [
        "from surprise.accuracy import rmse"
      ],
      "metadata": {
        "id": "6dx5g4zeSZoV"
      },
      "execution_count": null,
      "outputs": []
    },
    {
      "cell_type": "code",
      "source": [
        "# Predict on the test set\n",
        "predictions = best_model.test(testset)\n",
        "\n",
        "# Compute RMSE\n",
        "rmse(predictions)"
      ],
      "metadata": {
        "colab": {
          "base_uri": "https://localhost:8080/"
        },
        "id": "ybdeJlivSWkg",
        "outputId": "cef2cce8-6ee1-4b61-9e93-d3ad2e10beee"
      },
      "execution_count": null,
      "outputs": [
        {
          "output_type": "stream",
          "name": "stdout",
          "text": [
            "RMSE: 0.4743\n"
          ]
        },
        {
          "output_type": "execute_result",
          "data": {
            "text/plain": [
              "0.4743313238836268"
            ]
          },
          "metadata": {},
          "execution_count": 110
        }
      ]
    },
    {
      "cell_type": "markdown",
      "metadata": {
        "id": "yf3kDSepuwcw"
      },
      "source": [
        "**Observations and Insights:______________**"
      ]
    },
    {
      "cell_type": "code",
      "execution_count": null,
      "metadata": {
        "id": "ZRJS4oDFTsnu",
        "colab": {
          "base_uri": "https://localhost:8080/"
        },
        "outputId": "7ba463f3-f840-4ad9-8000-7fbb2c7166da"
      },
      "outputs": [
        {
          "output_type": "stream",
          "name": "stdout",
          "text": [
            "Computing the pearson_baseline similarity matrix...\n",
            "Done computing similarity matrix.\n",
            "Indices of the 5 most similar items to item 0: [371 286  15 489   7]\n",
            "Raw IDs of the 5 most similar items to item 0: ['SOBZFSZ12A8C13F2CA', 'SOSACAB12AB01876E4', 'SOFXJCS12A58A7DF02', 'SOCLANN12AC907598C', 'SODUANR12A6D4F5036']\n"
          ]
        }
      ],
      "source": [
        "# Find five most similar items to the item with inner id 0\n",
        "similarity_matrix = best_model.compute_similarities()\n",
        "\n",
        "# Retrieve the similarities for item with inner id 0\n",
        "similarities = similarity_matrix[0]\n",
        "\n",
        "# Get the top 5 most similar item indices (excluding the item itself)\n",
        "# Argsort returns indices that would sort an array, so we take the last 6 indices and skip the last one (the item itself)\n",
        "most_similar_indices = similarities.argsort()[-6:-1]\n",
        "\n",
        "# The above line picks the indices of the 5 most similar items, excluding the item itself which is the most similar\n",
        "print(\"Indices of the 5 most similar items to item 0:\", most_similar_indices)\n",
        "\n",
        "# If you want to translate these inner ids back to raw ids (the original ids in your dataset)\n",
        "most_similar_raw_ids = [best_model.trainset.to_raw_iid(inner_id) for inner_id in most_similar_indices]\n",
        "print(\"Raw IDs of the 5 most similar items to item 0:\", most_similar_raw_ids)"
      ]
    },
    {
      "cell_type": "code",
      "execution_count": null,
      "metadata": {
        "id": "rzoEbuZFTsnu"
      },
      "outputs": [],
      "source": [
        "# Making top 5 recommendations for any user_id  with item_item_similarity-based recommendation engine\n",
        "user_id = '6958'  # replace with the actual user ID you're interested in\n",
        "\n",
        "# Find items the user has interacted with\n",
        "user_items = set(df_final[df_final['user_id'] == user_id]['song_id'])\n",
        "\n",
        "# Find all unique items in the dataset\n",
        "all_items = set(df_final['song_id'])\n",
        "\n",
        "# Identify items not interacted with by the user\n",
        "items_to_predict = all_items - user_items"
      ]
    },
    {
      "cell_type": "code",
      "source": [
        "predictions = []\n",
        "for item_id in items_to_predict:\n",
        "    prediction = best_model.predict(user_id, item_id)\n",
        "    predictions.append((item_id, prediction.est))"
      ],
      "metadata": {
        "id": "ReNrOtMVUQbQ"
      },
      "execution_count": null,
      "outputs": []
    },
    {
      "cell_type": "code",
      "source": [
        "# Sort the predictions by estimated play count in descending order\n",
        "predictions.sort(key=lambda x: x[1], reverse=True)\n",
        "\n",
        "# Select top 5\n",
        "top_5_recommendations = predictions[:5]\n",
        "\n",
        "print(f\"Top 5 recommended items for user {user_id}:\")\n",
        "for item_id, predicted_play_count in top_5_recommendations:\n",
        "    print(f\"Item ID: {item_id}, Predicted Play Count: {predicted_play_count}\")\n"
      ],
      "metadata": {
        "colab": {
          "base_uri": "https://localhost:8080/"
        },
        "id": "BWj5hXAJUg4p",
        "outputId": "599cb552-ecbe-49c3-ae5c-c38d6e8f838b"
      },
      "execution_count": null,
      "outputs": [
        {
          "output_type": "stream",
          "name": "stdout",
          "text": [
            "Top 5 recommended items for user 6958:\n",
            "Item ID: SOBOUPA12A6D4F81F1, Predicted Play Count: 1.7000576877396587\n",
            "Item ID: SOKNWRZ12A8C13BF62, Predicted Play Count: 1.7000576877396587\n",
            "Item ID: SOONUTJ12A6701D7B4, Predicted Play Count: 1.7000576877396587\n",
            "Item ID: SOPCTBB12AF72A1B64, Predicted Play Count: 1.7000576877396587\n",
            "Item ID: SOYGHOJ12A6701FFBA, Predicted Play Count: 1.7000576877396587\n"
          ]
        }
      ]
    },
    {
      "cell_type": "code",
      "source": [
        "top_5_recommendations\n"
      ],
      "metadata": {
        "colab": {
          "base_uri": "https://localhost:8080/"
        },
        "id": "-tJmj13PUt3G",
        "outputId": "b19778ea-d2b2-473c-a2aa-32e8322fccaa"
      },
      "execution_count": null,
      "outputs": [
        {
          "output_type": "execute_result",
          "data": {
            "text/plain": [
              "[('SOBOUPA12A6D4F81F1', 1.7000576877396587),\n",
              " ('SOKNWRZ12A8C13BF62', 1.7000576877396587),\n",
              " ('SOONUTJ12A6701D7B4', 1.7000576877396587),\n",
              " ('SOPCTBB12AF72A1B64', 1.7000576877396587),\n",
              " ('SOYGHOJ12A6701FFBA', 1.7000576877396587)]"
            ]
          },
          "metadata": {},
          "execution_count": 120
        }
      ]
    },
    {
      "cell_type": "code",
      "execution_count": null,
      "metadata": {
        "id": "_kXVTiysTsnv",
        "colab": {
          "base_uri": "https://localhost:8080/"
        },
        "outputId": "814514f5-2631-4bc7-9dbf-37e0996af147"
      },
      "outputs": [
        {
          "output_type": "stream",
          "name": "stdout",
          "text": [
            "              song_id  predicted_play_count\n",
            "0  SOBOUPA12A6D4F81F1              1.700058\n",
            "1  SOKNWRZ12A8C13BF62              1.700058\n",
            "2  SOONUTJ12A6701D7B4              1.700058\n",
            "3  SOPCTBB12AF72A1B64              1.700058\n",
            "4  SOYGHOJ12A6701FFBA              1.700058\n"
          ]
        }
      ],
      "source": [
        "# Building the dataframe for above recommendations with columns \"song_id\" and \"predicted_play_count\"\n",
        "\n",
        "top_5_df = pd.DataFrame(top_5_recommendations, columns=['song_id', 'predicted_play_count'])\n",
        "\n",
        "print(top_5_df)"
      ]
    },
    {
      "cell_type": "code",
      "execution_count": null,
      "metadata": {
        "id": "7gewfmTATsnv",
        "colab": {
          "base_uri": "https://localhost:8080/"
        },
        "outputId": "b3cd5f0e-fd9d-4013-c6dd-062d357429cb"
      },
      "outputs": [
        {
          "output_type": "stream",
          "name": "stdout",
          "text": [
            "              song_id  play_freq  predicted_play_count  corrected_play_count\n",
            "4  SOBOUPA12A6D4F81F1        436              1.700058              1.652166\n",
            "2  SOYGHOJ12A6701FFBA        234              1.700058              1.634686\n",
            "1  SOPCTBB12AF72A1B64        229              1.700058              1.633976\n",
            "3  SOKNWRZ12A8C13BF62        225              1.700058              1.633391\n",
            "0  SOONUTJ12A6701D7B4        137              1.700058              1.614622\n"
          ]
        }
      ],
      "source": [
        "# Applying the ranking_songs function\n",
        "ranked_songs_df = ranking_songs(top_5_df, playing_count_df)\n",
        "\n",
        "# Display the ranked songs DataFrame\n",
        "print(ranked_songs_df)"
      ]
    },
    {
      "cell_type": "markdown",
      "metadata": {
        "id": "Ore9XTFgv5Np"
      },
      "source": [
        "**Observations and Insights:_________**"
      ]
    },
    {
      "cell_type": "markdown",
      "metadata": {
        "id": "rKgJpSA9vOOL"
      },
      "source": [
        "### Model Based Collaborative Filtering - Matrix Factorization"
      ]
    },
    {
      "cell_type": "markdown",
      "metadata": {
        "id": "hJynidJCw-ti"
      },
      "source": [
        "Model-based Collaborative Filtering is a **personalized recommendation system**, the recommendations are based on the past behavior of the user and it is not dependent on any additional information. We use **latent features** to find recommendations for each user."
      ]
    },
    {
      "cell_type": "code",
      "source": [
        "from surprise import SVD, Dataset, Reader\n",
        "from surprise.model_selection import cross_validate, train_test_split\n",
        "from surprise import accuracy\n"
      ],
      "metadata": {
        "id": "h6hixCf_VpSv"
      },
      "execution_count": null,
      "outputs": []
    },
    {
      "cell_type": "code",
      "source": [
        "# Define a Reader specifying the rating scale\n",
        "reader = Reader(rating_scale=(0,5))\n",
        "\n",
        "# Load the dataset from the DataFrame\n",
        "data = Dataset.load_from_df(df_final[['user_id', 'song_id', 'play_count']], reader)\n"
      ],
      "metadata": {
        "id": "t7WmhWNrVskn"
      },
      "execution_count": null,
      "outputs": []
    },
    {
      "cell_type": "code",
      "execution_count": null,
      "metadata": {
        "id": "07-2PT5Ssjqm"
      },
      "outputs": [],
      "source": [
        "# Build baseline model using svd\n",
        "trainset, testset = train_test_split(data, test_size=0.2, random_state=1)"
      ]
    },
    {
      "cell_type": "code",
      "source": [
        "# Initialize the SVD model\n",
        "svd = SVD(random_state=1)\n",
        "\n",
        "# Train the SVD model on the training set\n",
        "svd.fit(trainset)"
      ],
      "metadata": {
        "colab": {
          "base_uri": "https://localhost:8080/"
        },
        "id": "gt8daM1yWMkC",
        "outputId": "3d75d693-8133-4909-cf02-b7c2f5d682de"
      },
      "execution_count": null,
      "outputs": [
        {
          "output_type": "execute_result",
          "data": {
            "text/plain": [
              "<surprise.prediction_algorithms.matrix_factorization.SVD at 0x7c81dc97b3d0>"
            ]
          },
          "metadata": {},
          "execution_count": 127
        }
      ]
    },
    {
      "cell_type": "code",
      "source": [
        "# Test the model on the test set\n",
        "predictions = svd.test(testset)\n",
        "\n",
        "# Compute and print Root Mean Squared Error (RMSE)\n",
        "accuracy.rmse(predictions)"
      ],
      "metadata": {
        "colab": {
          "base_uri": "https://localhost:8080/"
        },
        "id": "hoCfEzZQWRYm",
        "outputId": "c12028ec-7bd6-4e43-d46e-a03f428af1c0"
      },
      "execution_count": null,
      "outputs": [
        {
          "output_type": "stream",
          "name": "stdout",
          "text": [
            "RMSE: 1.0106\n"
          ]
        },
        {
          "output_type": "execute_result",
          "data": {
            "text/plain": [
              "1.0105987841668604"
            ]
          },
          "metadata": {},
          "execution_count": 128
        }
      ]
    },
    {
      "cell_type": "code",
      "execution_count": null,
      "metadata": {
        "id": "yWIhfdxXsjqm",
        "colab": {
          "base_uri": "https://localhost:8080/"
        },
        "outputId": "c9e43f83-d8bf-4e75-a167-04feb9bd785f"
      },
      "outputs": [
        {
          "output_type": "stream",
          "name": "stdout",
          "text": [
            "Predicted play count for user 6958 and song 1671: 1.700031813361612\n",
            "Actual rating (r_ui): 2\n"
          ]
        }
      ],
      "source": [
        "# Making prediction for user (with user_id 6958) to song (with song_id 1671), take r_ui = 2\n",
        "# Assuming 'svd' is your trained SVD model\n",
        "\n",
        "# Convert user_id and song_id to the appropriate format (string) if they're not already\n",
        "user_id_str = str(6958)  # or directly \"6958\" if it's already a string\n",
        "song_id_str = str(1671)  # or directly \"1671\" if it's already a string\n",
        "r_ui = 2  # The actual rating provided by the user\n",
        "\n",
        "# Make a prediction\n",
        "prediction = svd.predict(user_id_str, song_id_str, r_ui=r_ui)\n",
        "\n",
        "# The estimated rating (predicted play count) is stored in 'est'\n",
        "predicted_play_count = prediction.est\n",
        "\n",
        "print(f\"Predicted play count for user {user_id_str} and song {song_id_str}: {predicted_play_count}\")\n",
        "print(f\"Actual rating (r_ui): {r_ui}\")\n"
      ]
    },
    {
      "cell_type": "code",
      "execution_count": null,
      "metadata": {
        "id": "APm-uMSvcAMf",
        "colab": {
          "base_uri": "https://localhost:8080/"
        },
        "outputId": "d537a281-18e8-4584-bf1d-aeee4e4048ab"
      },
      "outputs": [
        {
          "output_type": "stream",
          "name": "stdout",
          "text": [
            "Predicted play count for user 6958 and song 3232 (not previously listened to): 1.700031813361612\n"
          ]
        }
      ],
      "source": [
        "# Making a prediction for the user who has not listened to the song (song_id 3232)\n",
        "# Convert user_id and song_id to string if they are not already\n",
        "user_id_str = str(6958)  # Ensuring the user_id is in string format\n",
        "song_id_str = str(3232)  # The new song_id for the song not listened to by the user\n",
        "\n",
        "# Make a prediction using the trained SVD model\n",
        "prediction = svd.predict(user_id_str, song_id_str)\n",
        "\n",
        "# The estimated rating (predicted play count) is the model's guess for this user-item interaction\n",
        "predicted_play_count = prediction.est\n",
        "\n",
        "print(f\"Predicted play count for user {user_id_str} and song {song_id_str} (not previously listened to): {predicted_play_count}\")\n"
      ]
    },
    {
      "cell_type": "markdown",
      "metadata": {
        "id": "23tnRUJJxWTR"
      },
      "source": [
        "#### Improving matrix factorization based recommendation system by tuning its hyperparameters"
      ]
    },
    {
      "cell_type": "code",
      "execution_count": null,
      "metadata": {
        "id": "4bM81V_hvtwv",
        "colab": {
          "base_uri": "https://localhost:8080/"
        },
        "outputId": "bf4d27fc-85e6-44ba-c392-0239b2ecd7e1"
      },
      "outputs": [
        {
          "output_type": "stream",
          "name": "stdout",
          "text": [
            "Best RMSE: 1.0118225359617048\n",
            "Best parameters: {'n_epochs': 30, 'lr_all': 0.01, 'reg_all': 0.2}\n"
          ]
        }
      ],
      "source": [
        "# Set the parameter space to tune\n",
        "param_grid = {'n_epochs': [10, 20, 30], 'lr_all': [0.001, 0.005, 0.01],\n",
        "              'reg_all': [0.2, 0.4, 0.6]}\n",
        "\n",
        "# Assuming 'data' is your dataset loaded into a surprise Dataset object\n",
        "gs = GridSearchCV(SVD, param_grid, measures=['rmse'], cv=3)\n",
        "\n",
        "# Fit the data\n",
        "gs.fit(data)\n",
        "\n",
        "\n",
        "# Best RMSE score\n",
        "print(f\"Best RMSE: {gs.best_score['rmse']}\")\n",
        "\n",
        "# Combination of parameters that gave the best RMSE score\n",
        "print(f\"Best parameters: {gs.best_params['rmse']}\")\n"
      ]
    },
    {
      "cell_type": "markdown",
      "metadata": {
        "id": "aSgBRcL1xnVC"
      },
      "source": [
        "**Think About It**: How do the parameters affect the performance of the model? Can we improve the performance of the model further? Check the available hyperparameters [here](https://surprise.readthedocs.io/en/stable/matrix_factorization.html)."
      ]
    },
    {
      "cell_type": "code",
      "execution_count": null,
      "metadata": {
        "id": "TA_7xe-nnhuu",
        "colab": {
          "base_uri": "https://localhost:8080/"
        },
        "outputId": "8ac18c17-6c19-4925-dbca-93f0d6347d6d"
      },
      "outputs": [
        {
          "output_type": "execute_result",
          "data": {
            "text/plain": [
              "<surprise.prediction_algorithms.matrix_factorization.SVD at 0x7c81dc97aec0>"
            ]
          },
          "metadata": {},
          "execution_count": 135
        }
      ],
      "source": [
        "# Building the optimized SVD model using optimal hyperparameters\n",
        "# Example optimal hyperparameters\n",
        "optimal_n_epochs = 30\n",
        "optimal_lr_all = 0.01\n",
        "optimal_reg_all = 0.2\n",
        "\n",
        "# Initialize the SVD model with the optimal hyperparameters\n",
        "svd_algo_optimized = SVD(n_epochs=optimal_n_epochs, lr_all=optimal_lr_all, reg_all=optimal_reg_all, random_state=1)\n",
        "\n",
        "trainset = data.build_full_trainset()\n",
        "\n",
        "# Train the optimized model\n",
        "svd_algo_optimized.fit(trainset)"
      ]
    },
    {
      "cell_type": "markdown",
      "metadata": {
        "id": "l3t5JdBmxz8l"
      },
      "source": [
        "**Observations and Insights:_________**"
      ]
    },
    {
      "cell_type": "code",
      "execution_count": null,
      "metadata": {
        "id": "s6C1PAfboM8_",
        "colab": {
          "base_uri": "https://localhost:8080/"
        },
        "outputId": "e770e1c0-fef1-492b-d2da-0c7b365f1133"
      },
      "outputs": [
        {
          "output_type": "stream",
          "name": "stdout",
          "text": [
            "Predicted rating for user 6958 and item 1671: 1.7000576877396587\n"
          ]
        }
      ],
      "source": [
        "# Using svd_algo_optimized model to recommend for userId 6958 and song_id 1671\n",
        "# Making a prediction for a user and an item\n",
        "user_id = '6958'  # Replace with an actual user ID\n",
        "item_id = '1671'  # Replace with an actual item ID\n",
        "\n",
        "# Predict\n",
        "prediction = svd_algo_optimized.predict(user_id, item_id)\n",
        "print(f\"Predicted rating for user {user_id} and item {item_id}: {prediction.est}\")"
      ]
    },
    {
      "cell_type": "code",
      "execution_count": null,
      "metadata": {
        "id": "k1xjn3kOoQyg",
        "colab": {
          "base_uri": "https://localhost:8080/"
        },
        "outputId": "86d49aa0-53d5-44b7-8f08-b647a54ec572"
      },
      "outputs": [
        {
          "output_type": "stream",
          "name": "stdout",
          "text": [
            "Predicted play count for user 6958 and song 3232: 1.7000576877396587\n"
          ]
        }
      ],
      "source": [
        "# Using svd_algo_optimized model to recommend for userId 6958 and song_id 3232 with unknown baseline play_count\n",
        "user_id_str = str(6958)  # Ensuring the user_id is in string format\n",
        "song_id_str = str(3232)  # The song_id for the song not listened to by the user\n",
        "\n",
        "# Make a prediction for the specified user and song\n",
        "prediction = svd_algo_optimized.predict(user_id_str, song_id_str)\n",
        "\n",
        "# The estimated rating (predicted play count) is the model's guess for this user-item interaction\n",
        "predicted_play_count = prediction.est\n",
        "\n",
        "print(f\"Predicted play count for user {user_id_str} and song {song_id_str}: {predicted_play_count}\")\n"
      ]
    },
    {
      "cell_type": "markdown",
      "metadata": {
        "id": "Qm732Wuvy76R"
      },
      "source": [
        "**Observations and Insights:_________**"
      ]
    },
    {
      "cell_type": "code",
      "execution_count": null,
      "metadata": {
        "id": "1LGeE2EB_n90",
        "colab": {
          "base_uri": "https://localhost:8080/"
        },
        "outputId": "90f4e2e7-18a0-4362-b09c-8e3fd2e717cd"
      },
      "outputs": [
        {
          "output_type": "stream",
          "name": "stdout",
          "text": [
            "Top 5 Recommendations for User 6958:\n",
            "Song ID: SOSJSSU12A6D4F8F41, Predicted Play Count: 2.968341176355909\n",
            "Song ID: SOQGSUC12A8C13B66D, Predicted Play Count: 2.38044780145379\n",
            "Song ID: SOOGNOZ12AAF3B2936, Predicted Play Count: 2.297231787264374\n",
            "Song ID: SOVIZNF12AF72A710A, Predicted Play Count: 2.2890939844361675\n",
            "Song ID: SONYKOW12AB01849C9, Predicted Play Count: 2.2718514470796496\n"
          ]
        }
      ],
      "source": [
        "# Getting top 5 recommendations for user_id 6958 using \"svd_algo_optimized\" algorithm\n",
        "all_songs = set(df_final['song_id'])\n",
        "\n",
        "user_songs = set(df_final[df_final['user_id'] == '6958']['song_id'])\n",
        "\n",
        "songs_to_predict = all_songs - user_songs\n",
        "\n",
        "predictions = []\n",
        "for song_id in songs_to_predict:\n",
        "    prediction = svd_algo_optimized.predict('6958', song_id)\n",
        "    predictions.append((song_id, prediction.est))\n",
        "\n",
        "top_5_predictions = sorted(predictions, key=lambda x: x[1], reverse=True)[:5]\n",
        "print(\"Top 5 Recommendations for User 6958:\")\n",
        "for song_id, est_play_count in top_5_predictions:\n",
        "    print(f\"Song ID: {song_id}, Predicted Play Count: {est_play_count}\")\n"
      ]
    },
    {
      "cell_type": "code",
      "execution_count": null,
      "metadata": {
        "id": "6ngiGSJU818M",
        "colab": {
          "base_uri": "https://localhost:8080/"
        },
        "outputId": "55cda968-0801-4637-ed51-b7c0d34f7f0e"
      },
      "outputs": [
        {
          "output_type": "stream",
          "name": "stdout",
          "text": [
            "              Song ID  Predicted Play Count  Rank\n",
            "0  SOSJSSU12A6D4F8F41              2.968341   1.0\n",
            "1  SOQGSUC12A8C13B66D              2.380448   2.0\n",
            "2  SOOGNOZ12AAF3B2936              2.297232   3.0\n",
            "3  SOVIZNF12AF72A710A              2.289094   4.0\n",
            "4  SONYKOW12AB01849C9              2.271851   5.0\n"
          ]
        }
      ],
      "source": [
        "\n",
        "# Convert the list of recommendations to a DataFrame for better presentation and further analysis\n",
        "ranked_songs_df = pd.DataFrame(top_5_predictions, columns=['Song ID', 'Predicted Play Count'])\n",
        "ranked_songs_df['Rank'] = ranked_songs_df['Predicted Play Count'].rank(ascending=False)\n",
        "\n",
        "print(ranked_songs_df)\n"
      ]
    },
    {
      "cell_type": "markdown",
      "metadata": {
        "id": "SepUU1Efy_9Z"
      },
      "source": [
        "**Observations and Insights:_________**"
      ]
    },
    {
      "cell_type": "markdown",
      "metadata": {
        "id": "57b31de5"
      },
      "source": [
        "### Cluster Based Recommendation System"
      ]
    },
    {
      "cell_type": "markdown",
      "metadata": {
        "id": "9Xv2AZCszCdN"
      },
      "source": [
        "In **clustering-based recommendation systems**, we explore the **similarities and differences** in people's tastes in songs based on how they rate different songs. We cluster similar users together and recommend songs to a user based on play_counts from other users in the same cluster."
      ]
    },
    {
      "cell_type": "code",
      "execution_count": null,
      "metadata": {
        "id": "0c4b20e4",
        "colab": {
          "base_uri": "https://localhost:8080/"
        },
        "outputId": "b248aff5-3252-4162-8105-f4df5e94930f"
      },
      "outputs": [
        {
          "output_type": "stream",
          "name": "stdout",
          "text": [
            "Recommended songs for user 0b27fa6a9c8635b57c9ed765b6e8324870205c79: ['SONYKOW12AB01849C9', 'SOWCKVR12A8C142411', 'SOLFXKT12AB017E3E0', 'SODJWHY12A8C142CCE', 'SOKLRPJ12A8C13C3FE']\n"
          ]
        }
      ],
      "source": [
        "from sklearn.preprocessing import StandardScaler\n",
        "from sklearn.cluster import KMeans\n",
        "\n",
        "# Make baseline clustering model\n",
        "\n",
        "# Creating a user-song interaction matrix\n",
        "interaction_matrix = df_final.pivot_table(index='user_id', columns='song_id', values='play_count').fillna(0)\n",
        "\n",
        "scaler = StandardScaler()\n",
        "scaled_features = scaler.fit_transform(interaction_matrix)\n",
        "\n",
        "# Assuming we choose k after analysis\n",
        "k = 5  # Example value, adjust based on your analysis\n",
        "\n",
        "# Initializing and fitting the K-Means model\n",
        "kmeans = KMeans(n_clusters=k, random_state=1)\n",
        "clusters = kmeans.fit_predict(scaled_features)\n",
        "\n",
        "# Adding cluster labels back to the original user-item matrix\n",
        "interaction_matrix['cluster'] = clusters\n",
        "\n",
        "def recommend_songs_for_user(user_id, interaction_matrix, top_n=5):\n",
        "    # Find the cluster the user belongs to\n",
        "    user_cluster = interaction_matrix.loc[user_id, 'cluster']\n",
        "\n",
        "    # Filter users from the same cluster\n",
        "    similar_users = interaction_matrix[interaction_matrix['cluster'] == user_cluster]\n",
        "\n",
        "    # Aggregate play counts across similar users and sort\n",
        "    song_recommendations = similar_users.drop('cluster', axis=1).mean().sort_values(ascending=False)\n",
        "\n",
        "    # Filter out songs the user has already interacted with\n",
        "    known_songs = interaction_matrix.loc[user_id]\n",
        "    known_songs = known_songs[known_songs > 0].index.tolist()\n",
        "\n",
        "    recommendations = song_recommendations[~song_recommendations.index.isin(known_songs)]\n",
        "\n",
        "    return recommendations.head(top_n).index.tolist()\n",
        "\n",
        "# Example: Recommend songs for a user\n",
        "user_id = '0b27fa6a9c8635b57c9ed765b6e8324870205c79'  # Replace with an actual user ID\n",
        "recommended_songs = recommend_songs_for_user(user_id, interaction_matrix)\n",
        "print(f\"Recommended songs for user {user_id}: {recommended_songs}\")\n",
        "\n"
      ]
    },
    {
      "cell_type": "code",
      "source": [
        "df_final"
      ],
      "metadata": {
        "colab": {
          "base_uri": "https://localhost:8080/",
          "height": 510
        },
        "id": "qjXi3TcaaRmy",
        "outputId": "80c2c600-5238-4410-f224-ba2cff5f1719"
      },
      "execution_count": null,
      "outputs": [
        {
          "output_type": "execute_result",
          "data": {
            "text/plain": [
              "                                          user_id             song_id  \\\n",
              "200      17aa9f6dbdf753831da8f38c71b66b64373de613  SOBDVAK12AC90759A2   \n",
              "202      17aa9f6dbdf753831da8f38c71b66b64373de613  SOBIMTY12A6D4F931F   \n",
              "203      17aa9f6dbdf753831da8f38c71b66b64373de613  SOBKRVG12A8C133269   \n",
              "204      17aa9f6dbdf753831da8f38c71b66b64373de613  SOBUBLL12A58A795A8   \n",
              "205      17aa9f6dbdf753831da8f38c71b66b64373de613  SOBVKFF12A8C137A79   \n",
              "...                                           ...                 ...   \n",
              "1999734  9fb0717a34c90c91ce09ab460969a8a428d3ac87  SOXNZOW12AB017F756   \n",
              "1999736  9fb0717a34c90c91ce09ab460969a8a428d3ac87  SOXQYSC12A6310E908   \n",
              "1999745  9fb0717a34c90c91ce09ab460969a8a428d3ac87  SOYDTIW12A67ADAFC9   \n",
              "1999755  9fb0717a34c90c91ce09ab460969a8a428d3ac87  SOYQQAC12A6D4FD59E   \n",
              "1999765  9fb0717a34c90c91ce09ab460969a8a428d3ac87  SOZOIUU12A67ADFA39   \n",
              "\n",
              "         play_count                            title                release  \\\n",
              "200               1               Daisy And Prudence           Distillation   \n",
              "202               1  The Ballad of Michael Valentine                Sawdust   \n",
              "203               1        I Stand Corrected (Album)        Vampire Weekend   \n",
              "204               1            They Might Follow You            Tiny Vipers   \n",
              "205               1                       Monkey Man   You Know I'm No Good   \n",
              "...             ...                              ...                    ...   \n",
              "1999734           1                 Half Of My Heart         Battle Studies   \n",
              "1999736           1            Bitter Sweet Symphony  Bitter Sweet Symphony   \n",
              "1999745           2       The Police And The Private            Live It Out   \n",
              "1999755           1                     Just Friends          Back To Black   \n",
              "1999765           1             He Can Only Hold Her          Back To Black   \n",
              "\n",
              "             artist_name  year  user_id_encoded  song_id_encoded  \n",
              "200         Erin McKeown  2000             6958              447  \n",
              "202          The Killers  2004             6958              512  \n",
              "203      Vampire Weekend  2007             6958              549  \n",
              "204          Tiny Vipers  2007             6958              703  \n",
              "205        Amy Winehouse  2007             6958              719  \n",
              "...                  ...   ...              ...              ...  \n",
              "1999734       John Mayer     0            47786             9139  \n",
              "1999736        The Verve  1997            47786             9186  \n",
              "1999745           Metric  2005            47786             9351  \n",
              "1999755    Amy Winehouse  2006            47786             9543  \n",
              "1999765    Amy Winehouse  2006            47786             9847  \n",
              "\n",
              "[117876 rows x 9 columns]"
            ],
            "text/html": [
              "\n",
              "  <div id=\"df-5b2d2a90-ee63-41f5-97f9-4976de444647\" class=\"colab-df-container\">\n",
              "    <div>\n",
              "<style scoped>\n",
              "    .dataframe tbody tr th:only-of-type {\n",
              "        vertical-align: middle;\n",
              "    }\n",
              "\n",
              "    .dataframe tbody tr th {\n",
              "        vertical-align: top;\n",
              "    }\n",
              "\n",
              "    .dataframe thead th {\n",
              "        text-align: right;\n",
              "    }\n",
              "</style>\n",
              "<table border=\"1\" class=\"dataframe\">\n",
              "  <thead>\n",
              "    <tr style=\"text-align: right;\">\n",
              "      <th></th>\n",
              "      <th>user_id</th>\n",
              "      <th>song_id</th>\n",
              "      <th>play_count</th>\n",
              "      <th>title</th>\n",
              "      <th>release</th>\n",
              "      <th>artist_name</th>\n",
              "      <th>year</th>\n",
              "      <th>user_id_encoded</th>\n",
              "      <th>song_id_encoded</th>\n",
              "    </tr>\n",
              "  </thead>\n",
              "  <tbody>\n",
              "    <tr>\n",
              "      <th>200</th>\n",
              "      <td>17aa9f6dbdf753831da8f38c71b66b64373de613</td>\n",
              "      <td>SOBDVAK12AC90759A2</td>\n",
              "      <td>1</td>\n",
              "      <td>Daisy And Prudence</td>\n",
              "      <td>Distillation</td>\n",
              "      <td>Erin McKeown</td>\n",
              "      <td>2000</td>\n",
              "      <td>6958</td>\n",
              "      <td>447</td>\n",
              "    </tr>\n",
              "    <tr>\n",
              "      <th>202</th>\n",
              "      <td>17aa9f6dbdf753831da8f38c71b66b64373de613</td>\n",
              "      <td>SOBIMTY12A6D4F931F</td>\n",
              "      <td>1</td>\n",
              "      <td>The Ballad of Michael Valentine</td>\n",
              "      <td>Sawdust</td>\n",
              "      <td>The Killers</td>\n",
              "      <td>2004</td>\n",
              "      <td>6958</td>\n",
              "      <td>512</td>\n",
              "    </tr>\n",
              "    <tr>\n",
              "      <th>203</th>\n",
              "      <td>17aa9f6dbdf753831da8f38c71b66b64373de613</td>\n",
              "      <td>SOBKRVG12A8C133269</td>\n",
              "      <td>1</td>\n",
              "      <td>I Stand Corrected (Album)</td>\n",
              "      <td>Vampire Weekend</td>\n",
              "      <td>Vampire Weekend</td>\n",
              "      <td>2007</td>\n",
              "      <td>6958</td>\n",
              "      <td>549</td>\n",
              "    </tr>\n",
              "    <tr>\n",
              "      <th>204</th>\n",
              "      <td>17aa9f6dbdf753831da8f38c71b66b64373de613</td>\n",
              "      <td>SOBUBLL12A58A795A8</td>\n",
              "      <td>1</td>\n",
              "      <td>They Might Follow You</td>\n",
              "      <td>Tiny Vipers</td>\n",
              "      <td>Tiny Vipers</td>\n",
              "      <td>2007</td>\n",
              "      <td>6958</td>\n",
              "      <td>703</td>\n",
              "    </tr>\n",
              "    <tr>\n",
              "      <th>205</th>\n",
              "      <td>17aa9f6dbdf753831da8f38c71b66b64373de613</td>\n",
              "      <td>SOBVKFF12A8C137A79</td>\n",
              "      <td>1</td>\n",
              "      <td>Monkey Man</td>\n",
              "      <td>You Know I'm No Good</td>\n",
              "      <td>Amy Winehouse</td>\n",
              "      <td>2007</td>\n",
              "      <td>6958</td>\n",
              "      <td>719</td>\n",
              "    </tr>\n",
              "    <tr>\n",
              "      <th>...</th>\n",
              "      <td>...</td>\n",
              "      <td>...</td>\n",
              "      <td>...</td>\n",
              "      <td>...</td>\n",
              "      <td>...</td>\n",
              "      <td>...</td>\n",
              "      <td>...</td>\n",
              "      <td>...</td>\n",
              "      <td>...</td>\n",
              "    </tr>\n",
              "    <tr>\n",
              "      <th>1999734</th>\n",
              "      <td>9fb0717a34c90c91ce09ab460969a8a428d3ac87</td>\n",
              "      <td>SOXNZOW12AB017F756</td>\n",
              "      <td>1</td>\n",
              "      <td>Half Of My Heart</td>\n",
              "      <td>Battle Studies</td>\n",
              "      <td>John Mayer</td>\n",
              "      <td>0</td>\n",
              "      <td>47786</td>\n",
              "      <td>9139</td>\n",
              "    </tr>\n",
              "    <tr>\n",
              "      <th>1999736</th>\n",
              "      <td>9fb0717a34c90c91ce09ab460969a8a428d3ac87</td>\n",
              "      <td>SOXQYSC12A6310E908</td>\n",
              "      <td>1</td>\n",
              "      <td>Bitter Sweet Symphony</td>\n",
              "      <td>Bitter Sweet Symphony</td>\n",
              "      <td>The Verve</td>\n",
              "      <td>1997</td>\n",
              "      <td>47786</td>\n",
              "      <td>9186</td>\n",
              "    </tr>\n",
              "    <tr>\n",
              "      <th>1999745</th>\n",
              "      <td>9fb0717a34c90c91ce09ab460969a8a428d3ac87</td>\n",
              "      <td>SOYDTIW12A67ADAFC9</td>\n",
              "      <td>2</td>\n",
              "      <td>The Police And The Private</td>\n",
              "      <td>Live It Out</td>\n",
              "      <td>Metric</td>\n",
              "      <td>2005</td>\n",
              "      <td>47786</td>\n",
              "      <td>9351</td>\n",
              "    </tr>\n",
              "    <tr>\n",
              "      <th>1999755</th>\n",
              "      <td>9fb0717a34c90c91ce09ab460969a8a428d3ac87</td>\n",
              "      <td>SOYQQAC12A6D4FD59E</td>\n",
              "      <td>1</td>\n",
              "      <td>Just Friends</td>\n",
              "      <td>Back To Black</td>\n",
              "      <td>Amy Winehouse</td>\n",
              "      <td>2006</td>\n",
              "      <td>47786</td>\n",
              "      <td>9543</td>\n",
              "    </tr>\n",
              "    <tr>\n",
              "      <th>1999765</th>\n",
              "      <td>9fb0717a34c90c91ce09ab460969a8a428d3ac87</td>\n",
              "      <td>SOZOIUU12A67ADFA39</td>\n",
              "      <td>1</td>\n",
              "      <td>He Can Only Hold Her</td>\n",
              "      <td>Back To Black</td>\n",
              "      <td>Amy Winehouse</td>\n",
              "      <td>2006</td>\n",
              "      <td>47786</td>\n",
              "      <td>9847</td>\n",
              "    </tr>\n",
              "  </tbody>\n",
              "</table>\n",
              "<p>117876 rows × 9 columns</p>\n",
              "</div>\n",
              "    <div class=\"colab-df-buttons\">\n",
              "\n",
              "  <div class=\"colab-df-container\">\n",
              "    <button class=\"colab-df-convert\" onclick=\"convertToInteractive('df-5b2d2a90-ee63-41f5-97f9-4976de444647')\"\n",
              "            title=\"Convert this dataframe to an interactive table.\"\n",
              "            style=\"display:none;\">\n",
              "\n",
              "  <svg xmlns=\"http://www.w3.org/2000/svg\" height=\"24px\" viewBox=\"0 -960 960 960\">\n",
              "    <path d=\"M120-120v-720h720v720H120Zm60-500h600v-160H180v160Zm220 220h160v-160H400v160Zm0 220h160v-160H400v160ZM180-400h160v-160H180v160Zm440 0h160v-160H620v160ZM180-180h160v-160H180v160Zm440 0h160v-160H620v160Z\"/>\n",
              "  </svg>\n",
              "    </button>\n",
              "\n",
              "  <style>\n",
              "    .colab-df-container {\n",
              "      display:flex;\n",
              "      gap: 12px;\n",
              "    }\n",
              "\n",
              "    .colab-df-convert {\n",
              "      background-color: #E8F0FE;\n",
              "      border: none;\n",
              "      border-radius: 50%;\n",
              "      cursor: pointer;\n",
              "      display: none;\n",
              "      fill: #1967D2;\n",
              "      height: 32px;\n",
              "      padding: 0 0 0 0;\n",
              "      width: 32px;\n",
              "    }\n",
              "\n",
              "    .colab-df-convert:hover {\n",
              "      background-color: #E2EBFA;\n",
              "      box-shadow: 0px 1px 2px rgba(60, 64, 67, 0.3), 0px 1px 3px 1px rgba(60, 64, 67, 0.15);\n",
              "      fill: #174EA6;\n",
              "    }\n",
              "\n",
              "    .colab-df-buttons div {\n",
              "      margin-bottom: 4px;\n",
              "    }\n",
              "\n",
              "    [theme=dark] .colab-df-convert {\n",
              "      background-color: #3B4455;\n",
              "      fill: #D2E3FC;\n",
              "    }\n",
              "\n",
              "    [theme=dark] .colab-df-convert:hover {\n",
              "      background-color: #434B5C;\n",
              "      box-shadow: 0px 1px 3px 1px rgba(0, 0, 0, 0.15);\n",
              "      filter: drop-shadow(0px 1px 2px rgba(0, 0, 0, 0.3));\n",
              "      fill: #FFFFFF;\n",
              "    }\n",
              "  </style>\n",
              "\n",
              "    <script>\n",
              "      const buttonEl =\n",
              "        document.querySelector('#df-5b2d2a90-ee63-41f5-97f9-4976de444647 button.colab-df-convert');\n",
              "      buttonEl.style.display =\n",
              "        google.colab.kernel.accessAllowed ? 'block' : 'none';\n",
              "\n",
              "      async function convertToInteractive(key) {\n",
              "        const element = document.querySelector('#df-5b2d2a90-ee63-41f5-97f9-4976de444647');\n",
              "        const dataTable =\n",
              "          await google.colab.kernel.invokeFunction('convertToInteractive',\n",
              "                                                    [key], {});\n",
              "        if (!dataTable) return;\n",
              "\n",
              "        const docLinkHtml = 'Like what you see? Visit the ' +\n",
              "          '<a target=\"_blank\" href=https://colab.research.google.com/notebooks/data_table.ipynb>data table notebook</a>'\n",
              "          + ' to learn more about interactive tables.';\n",
              "        element.innerHTML = '';\n",
              "        dataTable['output_type'] = 'display_data';\n",
              "        await google.colab.output.renderOutput(dataTable, element);\n",
              "        const docLink = document.createElement('div');\n",
              "        docLink.innerHTML = docLinkHtml;\n",
              "        element.appendChild(docLink);\n",
              "      }\n",
              "    </script>\n",
              "  </div>\n",
              "\n",
              "\n",
              "<div id=\"df-e4af51e4-2a34-427f-9d0f-e09db49b667b\">\n",
              "  <button class=\"colab-df-quickchart\" onclick=\"quickchart('df-e4af51e4-2a34-427f-9d0f-e09db49b667b')\"\n",
              "            title=\"Suggest charts\"\n",
              "            style=\"display:none;\">\n",
              "\n",
              "<svg xmlns=\"http://www.w3.org/2000/svg\" height=\"24px\"viewBox=\"0 0 24 24\"\n",
              "     width=\"24px\">\n",
              "    <g>\n",
              "        <path d=\"M19 3H5c-1.1 0-2 .9-2 2v14c0 1.1.9 2 2 2h14c1.1 0 2-.9 2-2V5c0-1.1-.9-2-2-2zM9 17H7v-7h2v7zm4 0h-2V7h2v10zm4 0h-2v-4h2v4z\"/>\n",
              "    </g>\n",
              "</svg>\n",
              "  </button>\n",
              "\n",
              "<style>\n",
              "  .colab-df-quickchart {\n",
              "      --bg-color: #E8F0FE;\n",
              "      --fill-color: #1967D2;\n",
              "      --hover-bg-color: #E2EBFA;\n",
              "      --hover-fill-color: #174EA6;\n",
              "      --disabled-fill-color: #AAA;\n",
              "      --disabled-bg-color: #DDD;\n",
              "  }\n",
              "\n",
              "  [theme=dark] .colab-df-quickchart {\n",
              "      --bg-color: #3B4455;\n",
              "      --fill-color: #D2E3FC;\n",
              "      --hover-bg-color: #434B5C;\n",
              "      --hover-fill-color: #FFFFFF;\n",
              "      --disabled-bg-color: #3B4455;\n",
              "      --disabled-fill-color: #666;\n",
              "  }\n",
              "\n",
              "  .colab-df-quickchart {\n",
              "    background-color: var(--bg-color);\n",
              "    border: none;\n",
              "    border-radius: 50%;\n",
              "    cursor: pointer;\n",
              "    display: none;\n",
              "    fill: var(--fill-color);\n",
              "    height: 32px;\n",
              "    padding: 0;\n",
              "    width: 32px;\n",
              "  }\n",
              "\n",
              "  .colab-df-quickchart:hover {\n",
              "    background-color: var(--hover-bg-color);\n",
              "    box-shadow: 0 1px 2px rgba(60, 64, 67, 0.3), 0 1px 3px 1px rgba(60, 64, 67, 0.15);\n",
              "    fill: var(--button-hover-fill-color);\n",
              "  }\n",
              "\n",
              "  .colab-df-quickchart-complete:disabled,\n",
              "  .colab-df-quickchart-complete:disabled:hover {\n",
              "    background-color: var(--disabled-bg-color);\n",
              "    fill: var(--disabled-fill-color);\n",
              "    box-shadow: none;\n",
              "  }\n",
              "\n",
              "  .colab-df-spinner {\n",
              "    border: 2px solid var(--fill-color);\n",
              "    border-color: transparent;\n",
              "    border-bottom-color: var(--fill-color);\n",
              "    animation:\n",
              "      spin 1s steps(1) infinite;\n",
              "  }\n",
              "\n",
              "  @keyframes spin {\n",
              "    0% {\n",
              "      border-color: transparent;\n",
              "      border-bottom-color: var(--fill-color);\n",
              "      border-left-color: var(--fill-color);\n",
              "    }\n",
              "    20% {\n",
              "      border-color: transparent;\n",
              "      border-left-color: var(--fill-color);\n",
              "      border-top-color: var(--fill-color);\n",
              "    }\n",
              "    30% {\n",
              "      border-color: transparent;\n",
              "      border-left-color: var(--fill-color);\n",
              "      border-top-color: var(--fill-color);\n",
              "      border-right-color: var(--fill-color);\n",
              "    }\n",
              "    40% {\n",
              "      border-color: transparent;\n",
              "      border-right-color: var(--fill-color);\n",
              "      border-top-color: var(--fill-color);\n",
              "    }\n",
              "    60% {\n",
              "      border-color: transparent;\n",
              "      border-right-color: var(--fill-color);\n",
              "    }\n",
              "    80% {\n",
              "      border-color: transparent;\n",
              "      border-right-color: var(--fill-color);\n",
              "      border-bottom-color: var(--fill-color);\n",
              "    }\n",
              "    90% {\n",
              "      border-color: transparent;\n",
              "      border-bottom-color: var(--fill-color);\n",
              "    }\n",
              "  }\n",
              "</style>\n",
              "\n",
              "  <script>\n",
              "    async function quickchart(key) {\n",
              "      const quickchartButtonEl =\n",
              "        document.querySelector('#' + key + ' button');\n",
              "      quickchartButtonEl.disabled = true;  // To prevent multiple clicks.\n",
              "      quickchartButtonEl.classList.add('colab-df-spinner');\n",
              "      try {\n",
              "        const charts = await google.colab.kernel.invokeFunction(\n",
              "            'suggestCharts', [key], {});\n",
              "      } catch (error) {\n",
              "        console.error('Error during call to suggestCharts:', error);\n",
              "      }\n",
              "      quickchartButtonEl.classList.remove('colab-df-spinner');\n",
              "      quickchartButtonEl.classList.add('colab-df-quickchart-complete');\n",
              "    }\n",
              "    (() => {\n",
              "      let quickchartButtonEl =\n",
              "        document.querySelector('#df-e4af51e4-2a34-427f-9d0f-e09db49b667b button');\n",
              "      quickchartButtonEl.style.display =\n",
              "        google.colab.kernel.accessAllowed ? 'block' : 'none';\n",
              "    })();\n",
              "  </script>\n",
              "</div>\n",
              "    </div>\n",
              "  </div>\n"
            ],
            "application/vnd.google.colaboratory.intrinsic+json": {
              "type": "dataframe",
              "variable_name": "df_final"
            }
          },
          "metadata": {},
          "execution_count": 146
        }
      ]
    },
    {
      "cell_type": "code",
      "source": [
        "def decode_user_id(encoded_id, df):\n",
        "    \"\"\"\n",
        "    Decode an encoded user ID back to the original user ID.\n",
        "\n",
        "    :param encoded_id: The encoded user ID.\n",
        "    :param df: The DataFrame containing the mappings between original and encoded IDs.\n",
        "    :return: The original user ID.\n",
        "    \"\"\"\n",
        "    # Find the row in the DataFrame where user_id_encoded matches the encoded_id\n",
        "    original_id_row = df[df['user_id_encoded'] == encoded_id]\n",
        "\n",
        "    # Extract the original user_id\n",
        "    # Use .iloc[0] to get the first match, assuming unique encoding\n",
        "    if not original_id_row.empty:\n",
        "        return original_id_row['user_id'].iloc[0]\n",
        "    else:\n",
        "        return None  # Or handle the case where the mapping is not found\n",
        "\n",
        "def decode_song_id(encoded_id, df):\n",
        "    \"\"\"\n",
        "    Decode an encoded song ID back to the original song ID.\n",
        "\n",
        "    :param encoded_id: The encoded song ID.\n",
        "    :param df: The DataFrame containing the mappings between original and encoded IDs.\n",
        "    :return: The original song ID.\n",
        "    \"\"\"\n",
        "    # Find the row in the DataFrame where song_id_encoded matches the encoded_id\n",
        "    original_id_row = df[df['song_id_encoded'] == encoded_id]\n",
        "\n",
        "    # Extract the original song_id\n",
        "    # Use .iloc[0] to get the first match, assuming unique encoding\n",
        "    if not original_id_row.empty:\n",
        "        return original_id_row['song_id'].iloc[0]\n",
        "    else:\n",
        "        return None  # Or handle the case where the mapping is not found\n"
      ],
      "metadata": {
        "id": "3DiM9C_XaWZV"
      },
      "execution_count": null,
      "outputs": []
    },
    {
      "cell_type": "code",
      "source": [
        "# Example encoded IDs\n",
        "encoded_user_id = 6958\n",
        "encoded_song_id = 1671\n",
        "\n",
        "# Decoding\n",
        "original_user_id = decode_user_id(encoded_user_id, df_final)\n",
        "original_song_id = decode_song_id(encoded_song_id, df_final)\n",
        "\n",
        "print(f\"Original User ID: {original_user_id}\")\n",
        "print(f\"Original Song ID: {original_song_id}\")"
      ],
      "metadata": {
        "colab": {
          "base_uri": "https://localhost:8080/"
        },
        "id": "-qNBCsGUbwC-",
        "outputId": "fcb747ed-8738-491f-9d66-1366e3165b9e"
      },
      "execution_count": null,
      "outputs": [
        {
          "output_type": "stream",
          "name": "stdout",
          "text": [
            "Original User ID: 17aa9f6dbdf753831da8f38c71b66b64373de613\n",
            "Original Song ID: SOEGZHD12A8C13BF3D\n"
          ]
        }
      ]
    },
    {
      "cell_type": "code",
      "execution_count": null,
      "metadata": {
        "id": "11dbdc0f",
        "colab": {
          "base_uri": "https://localhost:8080/"
        },
        "outputId": "e6a125b6-e84a-4e47-ee3a-67847f46f928"
      },
      "outputs": [
        {
          "output_type": "stream",
          "name": "stdout",
          "text": [
            "Predicted play count for user 17aa9f6dbdf753831da8f38c71b66b64373de613 and song SOEGZHD12A8C13BF3D based on cluster: 0.3863546211820706\n"
          ]
        }
      ],
      "source": [
        "# Making prediction for user_id 6958 and song_id 1671\n",
        "# Find user's cluster\n",
        "user_cluster = interaction_matrix.loc[original_user_id, 'cluster']\n",
        "\n",
        "# Aggregate information about the song within this cluster\n",
        "cluster_interaction_matrix = interaction_matrix[interaction_matrix['cluster'] == user_cluster]\n",
        "\n",
        "# You might calculate the mean play count for the song within the cluster as a form of prediction\n",
        "if original_song_id in cluster_interaction_matrix.columns:\n",
        "    predicted_play_count = cluster_interaction_matrix[song_id].mean()\n",
        "    print(f\"Predicted play count for user {original_user_id} and song {original_song_id} based on cluster: {predicted_play_count}\")\n",
        "else:\n",
        "    print(f\"Song {original_song_id} not found within the user's cluster. Might be a new or less popular song within this cluster.\")"
      ]
    },
    {
      "cell_type": "code",
      "execution_count": null,
      "metadata": {
        "id": "dab1aaed",
        "colab": {
          "base_uri": "https://localhost:8080/"
        },
        "outputId": "e753ad21-a71e-47e6-caf5-6b5220dc29bf"
      },
      "outputs": [
        {
          "output_type": "stream",
          "name": "stdout",
          "text": [
            "Predicted interest for user 17aa9f6dbdf753831da8f38c71b66b64373de613 and song SOICNON12A8C140437: 0.07259024196747323\n"
          ]
        }
      ],
      "source": [
        "# Making prediction for user (userid 6958) for a song(song_id 3232) not listened to by the user\n",
        "# Assuming encoded_user_id = 6958 and encoded_song_id = 3232\n",
        "encoded_user_id = 6958\n",
        "encoded_song_id = 3232\n",
        "\n",
        "# Decoding to original IDs using the provided functions or direct DataFrame lookup\n",
        "original_user_id = decode_user_id(encoded_user_id, df_final)  # Implement this based on the actual DataFrame structure\n",
        "original_song_id = decode_song_id(encoded_song_id, df_final)  # Implement this based on the actual DataFrame structure\n",
        "\n",
        "# Assuming interaction_matrix includes clusters and mean play counts for songs\n",
        "user_cluster = interaction_matrix.loc[original_user_id, 'cluster']\n",
        "\n",
        "# Aggregate information about the song within this cluster\n",
        "cluster_interaction_matrix = interaction_matrix[interaction_matrix['cluster'] == user_cluster]\n",
        "\n",
        "# If song_id exists in the cluster_interaction_matrix, calculate the mean play count as prediction\n",
        "if original_song_id in cluster_interaction_matrix.columns:\n",
        "    predicted_interest = cluster_interaction_matrix[original_song_id].mean()\n",
        "    print(f\"Predicted interest for user {original_user_id} and song {original_song_id}: {predicted_interest}\")\n",
        "else:\n",
        "    print(f\"Song {original_song_id} might be new or not popular within the user's cluster. Unable to predict interest based on cluster data.\")\n"
      ]
    },
    {
      "cell_type": "markdown",
      "metadata": {
        "id": "c2fd66f5"
      },
      "source": [
        "#### Improving clustering-based recommendation system by tuning its hyper-parameters"
      ]
    },
    {
      "cell_type": "code",
      "source": [
        "from surprise import CoClustering"
      ],
      "metadata": {
        "id": "NxzJamhkdGa2"
      },
      "execution_count": null,
      "outputs": []
    },
    {
      "cell_type": "code",
      "execution_count": null,
      "metadata": {
        "id": "efe7d8e6",
        "colab": {
          "base_uri": "https://localhost:8080/"
        },
        "outputId": "45990ad3-ed68-4322-efac-9163d102a910"
      },
      "outputs": [
        {
          "output_type": "stream",
          "name": "stdout",
          "text": [
            "Best RMSE: 1.0596042321991384\n",
            "Best parameters: {'n_cltr_u': 5, 'n_cltr_i': 5, 'n_epochs': 10}\n"
          ]
        }
      ],
      "source": [
        "param_grid = {\n",
        "    'n_cltr_u': [5, 6, 7, 8],  # Number of user clusters\n",
        "    'n_cltr_i': [5, 6, 7, 8],  # Number of item clusters\n",
        "    'n_epochs': [10, 20, 30]   # Number of epochs\n",
        "}\n",
        "\n",
        "gs = GridSearchCV(CoClustering, param_grid, measures=['rmse'], cv=3)\n",
        "gs.fit(data)\n",
        "\n",
        "# Best RMSE score\n",
        "print(f\"Best RMSE: {gs.best_score['rmse']}\")\n",
        "\n",
        "# Best parameter set\n",
        "print(f\"Best parameters: {gs.best_params['rmse']}\")\n",
        "\n"
      ]
    },
    {
      "cell_type": "markdown",
      "metadata": {
        "id": "CS6aMVJLyj21"
      },
      "source": [
        "**Think About It**: How do the parameters affect the performance of the model? Can we improve the performance of the model further? Check the available hyperparameters [here](https://surprise.readthedocs.io/en/stable/co_clustering.html)."
      ]
    },
    {
      "cell_type": "code",
      "execution_count": null,
      "metadata": {
        "id": "5a7a8a30",
        "colab": {
          "base_uri": "https://localhost:8080/"
        },
        "outputId": "3f8b1a6e-204d-4784-c2f1-4976573a5eff"
      },
      "outputs": [
        {
          "output_type": "execute_result",
          "data": {
            "text/plain": [
              "<surprise.prediction_algorithms.co_clustering.CoClustering at 0x7c81e019ead0>"
            ]
          },
          "metadata": {},
          "execution_count": 155
        }
      ],
      "source": [
        "# Train the tuned Coclustering algorithm\n",
        "co_clustering_optimized = CoClustering(\n",
        "    n_cltr_u=gs.best_params['rmse']['n_cltr_u'],\n",
        "    n_cltr_i=gs.best_params['rmse']['n_cltr_i'],\n",
        "    n_epochs=gs.best_params['rmse']['n_epochs'],\n",
        "    random_state=1\n",
        ")\n",
        "\n",
        "# Prepare the full trainset and train the model\n",
        "trainset = data.build_full_trainset()\n",
        "co_clustering_optimized.fit(trainset)"
      ]
    },
    {
      "cell_type": "markdown",
      "metadata": {
        "id": "l-Jvce1gznKa"
      },
      "source": [
        "**Observations and Insights:_________**"
      ]
    },
    {
      "cell_type": "code",
      "execution_count": null,
      "metadata": {
        "id": "6ba5b26b",
        "colab": {
          "base_uri": "https://localhost:8080/"
        },
        "outputId": "032656eb-8f03-41e8-9093-855f792d9853"
      },
      "outputs": [
        {
          "output_type": "stream",
          "name": "stdout",
          "text": [
            "Predicted play count for user 17aa9f6dbdf753831da8f38c71b66b64373de613 and song SOEGZHD12A8C13BF3D: 1.5140267081203913\n"
          ]
        }
      ],
      "source": [
        "# Using co_clustering_optimized model to recommend for userId 6958 and song_id 1671\n",
        "user_id_str = '17aa9f6dbdf753831da8f38c71b66b64373de613'\n",
        "song_id_str = 'SOEGZHD12A8C13BF3D'\n",
        "\n",
        "# Use the model to predict the rating (or play count) for this user and song\n",
        "prediction = co_clustering_optimized.predict(user_id_str, song_id_str)\n",
        "\n",
        "# The estimated rating is in the 'est' attribute of the prediction object\n",
        "predicted_play_count = prediction.est\n",
        "\n",
        "print(f\"Predicted play count for user {user_id_str} and song {song_id_str}: {predicted_play_count}\")\n"
      ]
    },
    {
      "cell_type": "code",
      "execution_count": null,
      "metadata": {
        "id": "ec582940",
        "colab": {
          "base_uri": "https://localhost:8080/"
        },
        "outputId": "a5dbe7e5-8cca-4cf9-fd6c-c217d3eca4e8"
      },
      "outputs": [
        {
          "output_type": "stream",
          "name": "stdout",
          "text": [
            "Predicted play count for user 17aa9f6dbdf753831da8f38c71b66b64373de613 and song SOICNON12A8C140437: 1.694120604834006\n"
          ]
        }
      ],
      "source": [
        "# Use Co_clustering based optimized model to recommend for userId 6958 and song_id 3232 with unknown baseline play_count\n",
        "\n",
        "# Convert userId and songId to str if they're not in this format\n",
        "user_id_str = '17aa9f6dbdf753831da8f38c71b66b64373de613'\n",
        "song_id_str = 'SOICNON12A8C140437'  # Song ID for which the play count is unknown\n",
        "\n",
        "# Use the model to predict the play count for this user and song\n",
        "prediction = co_clustering_optimized.predict(user_id_str, song_id_str)\n",
        "\n",
        "# The estimated play count is in the 'est' attribute of the prediction object\n",
        "predicted_play_count = prediction.est\n",
        "\n",
        "print(f\"Predicted play count for user {user_id_str} and song {song_id_str}: {predicted_play_count}\")\n"
      ]
    },
    {
      "cell_type": "markdown",
      "metadata": {
        "id": "rjGUSMqrzoDH"
      },
      "source": [
        "**Observations and Insights:_________**"
      ]
    },
    {
      "cell_type": "markdown",
      "metadata": {
        "id": "df9e28ba"
      },
      "source": [
        "#### Implementing the recommendation algorithm based on optimized CoClustering model"
      ]
    },
    {
      "cell_type": "code",
      "execution_count": null,
      "metadata": {
        "id": "e0f36e15"
      },
      "outputs": [],
      "source": [
        "# Getting top 5 recommendations for user_id 6958 using \"Co-clustering based optimized\" algorithm\n",
        "# Placeholder for all unique items\n",
        "unique_items = set(df_final['song_id'].unique())\n",
        "\n",
        "# Placeholder for items already rated by user 6958\n",
        "items_rated_by_user = set(df_final[df_final['user_id'] == '6958']['song_id'].unique())\n",
        "\n",
        "# Items not yet rated by this user\n",
        "items_to_predict = unique_items - items_rated_by_user\n",
        "\n",
        "# Predict ratings for all items not interacted with by user 6958\n",
        "predictions = []\n",
        "for item_id in items_to_predict:\n",
        "    prediction = co_clustering_optimized.predict('6958', item_id)\n",
        "    predictions.append((item_id, prediction.est))\n",
        "\n",
        "# Sort the predictions by estimated play count, descending\n",
        "predictions.sort(key=lambda x: x[1], reverse=True)\n",
        "\n",
        "# Extract top 5 recommendations\n",
        "top_5_recommendations = predictions[:5]\n",
        "\n",
        "# Display the top 5 recommendations\n",
        "print(\"Top 5 Recommendations for user 6958:\")\n",
        "for item_id, predicted_play_count in top_5_recommendations:\n",
        "    print(f\"Song ID: {item_id}, Predicted Play Count: {predicted_play_count}\")\n"
      ]
    },
    {
      "cell_type": "markdown",
      "metadata": {
        "id": "f1696941"
      },
      "source": [
        "### Correcting the play_count and Ranking the above songs"
      ]
    },
    {
      "cell_type": "code",
      "execution_count": null,
      "metadata": {
        "id": "c186f13b",
        "scrolled": true
      },
      "outputs": [],
      "source": [
        "# Ranking songs based on the above recommendations\n",
        "import pandas as pd\n",
        "\n",
        "# Assuming top_5_recommendations is a list of tuples (song_id, predicted_play_count)\n",
        "# And assuming songs_df is your DataFrame containing song metadata\n",
        "top_5_df = pd.DataFrame(top_5_recommendations, columns=['song_id', 'predicted_play_count'])\n",
        "\n",
        "# Merge with the song metadata to get song titles or other relevant information\n",
        "top_5_with_metadata = pd.merge(top_5_df, songs_df, on='song_id', how='left')\n",
        "\n",
        "# Display the enhanced recommendations\n",
        "print(\"Top 5 Ranked Recommendations for user 6958:\")\n",
        "print(top_5_with_metadata[['song_id', 'title', 'predicted_play_count']])\n"
      ]
    },
    {
      "cell_type": "markdown",
      "metadata": {
        "id": "_uJ_nZjBzvKH"
      },
      "source": [
        "**Observations and Insights:_________**"
      ]
    },
    {
      "cell_type": "markdown",
      "metadata": {
        "id": "5U56oSNsR-F2"
      },
      "source": [
        "### Content Based Recommendation Systems"
      ]
    },
    {
      "cell_type": "markdown",
      "metadata": {
        "id": "9aTEqaOjhoEg"
      },
      "source": [
        "**Think About It:** So far we have only used the play_count of songs to find recommendations but we have other information/features on songs as well. Can we take those song features into account?"
      ]
    },
    {
      "cell_type": "code",
      "execution_count": null,
      "metadata": {
        "id": "UX826CsjR-F3"
      },
      "outputs": [],
      "source": [
        "# Concatenate the \"title\", \"release\", \"artist_name\" columns to create a different column named \"text\"\n",
        "df_final['text'] = df_final['title'].fillna('') + ' ' + df_final['release'].fillna('') + ' ' + df_final['artist_name'].fillna('')\n"
      ]
    },
    {
      "cell_type": "code",
      "execution_count": null,
      "metadata": {
        "id": "WdXw4U-wR-F4",
        "colab": {
          "base_uri": "https://localhost:8080/"
        },
        "outputId": "559b2745-2555-4a68-d25e-8e7c09fb9465"
      },
      "outputs": [
        {
          "output_type": "stream",
          "name": "stdout",
          "text": [
            "                                                                  user_id  \\\n",
            "title                                                                       \n",
            "Daisy And Prudence               17aa9f6dbdf753831da8f38c71b66b64373de613   \n",
            "The Ballad of Michael Valentine  17aa9f6dbdf753831da8f38c71b66b64373de613   \n",
            "I Stand Corrected (Album)        17aa9f6dbdf753831da8f38c71b66b64373de613   \n",
            "They Might Follow You            17aa9f6dbdf753831da8f38c71b66b64373de613   \n",
            "Monkey Man                       17aa9f6dbdf753831da8f38c71b66b64373de613   \n",
            "\n",
            "                                            song_id  play_count  \\\n",
            "title                                                             \n",
            "Daisy And Prudence               SOBDVAK12AC90759A2           1   \n",
            "The Ballad of Michael Valentine  SOBIMTY12A6D4F931F           1   \n",
            "I Stand Corrected (Album)        SOBKRVG12A8C133269           1   \n",
            "They Might Follow You            SOBUBLL12A58A795A8           1   \n",
            "Monkey Man                       SOBVKFF12A8C137A79           1   \n",
            "\n",
            "                                                                              text  \n",
            "title                                                                               \n",
            "Daisy And Prudence                    Daisy And Prudence Distillation Erin McKeown  \n",
            "The Ballad of Michael Valentine  The Ballad of Michael Valentine Sawdust The Ki...  \n",
            "I Stand Corrected (Album)        I Stand Corrected (Album) Vampire Weekend Vamp...  \n",
            "They Might Follow You                They Might Follow You Tiny Vipers Tiny Vipers  \n",
            "Monkey Man                           Monkey Man You Know I'm No Good Amy Winehouse  \n"
          ]
        }
      ],
      "source": [
        "# Select the columns 'user_id', 'song_id', 'play_count', 'title', 'text' from df_small data\n",
        "df_selected = df_final[['user_id', 'song_id', 'play_count', 'title', 'text']]\n",
        "\n",
        "# Drop the duplicates from the title column\n",
        "df_no_duplicates = df_selected.drop_duplicates(subset=['title'])\n",
        "\n",
        "\n",
        "# Set the title column as the index\n",
        "df_final_new = df_no_duplicates.set_index('title')\n",
        "\n",
        "\n",
        "# See the first 5 records of the df_small dataset\n",
        "print(df_final_new.head())"
      ]
    },
    {
      "cell_type": "code",
      "execution_count": null,
      "metadata": {
        "id": "qDcYHwZTR-F5",
        "colab": {
          "base_uri": "https://localhost:8080/"
        },
        "outputId": "1e6cba5b-63dd-468b-cd82-0aab0c1f4e49"
      },
      "outputs": [
        {
          "output_type": "stream",
          "name": "stdout",
          "text": [
            "0                 Daisy And Prudence\n",
            "1    The Ballad of Michael Valentine\n",
            "2          I Stand Corrected (Album)\n",
            "3              They Might Follow You\n",
            "4                         Monkey Man\n",
            "Name: title, dtype: object\n"
          ]
        }
      ],
      "source": [
        "# Create the series of indices from the data\n",
        "# Creating a Series from the index of df_final_new\n",
        "index_series = pd.Series(df_final_new.index)\n",
        "\n",
        "print(index_series.head())"
      ]
    },
    {
      "cell_type": "code",
      "execution_count": null,
      "metadata": {
        "id": "9UINF3Nwvwfr",
        "colab": {
          "base_uri": "https://localhost:8080/"
        },
        "outputId": "1b2c953d-bfa4-49fa-9a40-80fbff61ea25"
      },
      "outputs": [
        {
          "output_type": "stream",
          "name": "stderr",
          "text": [
            "[nltk_data] Downloading package punkt to /root/nltk_data...\n",
            "[nltk_data]   Unzipping tokenizers/punkt.zip.\n",
            "[nltk_data] Downloading package stopwords to /root/nltk_data...\n",
            "[nltk_data]   Unzipping corpora/stopwords.zip.\n",
            "[nltk_data] Downloading package wordnet to /root/nltk_data...\n"
          ]
        }
      ],
      "source": [
        "# Importing necessary packages to work with text data\n",
        "import nltk\n",
        "\n",
        "# Download punkt library\n",
        "nltk.download(\"punkt\")\n",
        "\n",
        "# Download stopwords library\n",
        "nltk.download(\"stopwords\")\n",
        "\n",
        "# Download wordnet\n",
        "nltk.download(\"wordnet\")\n",
        "\n",
        "# Import regular expression\n",
        "import re\n",
        "\n",
        "# Import word_tokenizer\n",
        "from nltk import word_tokenize\n",
        "\n",
        "# Import WordNetLemmatizer\n",
        "from nltk.stem import WordNetLemmatizer\n",
        "\n",
        "# Import stopwords\n",
        "from nltk.corpus import stopwords\n",
        "\n",
        "# Import CountVectorizer and TfidfVectorizer\n",
        "from sklearn.feature_extraction.text import CountVectorizer, TfidfVectorizer"
      ]
    },
    {
      "cell_type": "markdown",
      "metadata": {
        "id": "Jt2vitlnhoEg"
      },
      "source": [
        "We will create a **function to pre-process the text data:**"
      ]
    },
    {
      "cell_type": "code",
      "execution_count": null,
      "metadata": {
        "id": "j5QSSeUvR-F6"
      },
      "outputs": [],
      "source": [
        "# Create a function to tokenize the text\n",
        "def tokenize_text(text):\n",
        "    # Convert text to lowercase\n",
        "    text = text.lower()\n",
        "\n",
        "    # Remove non-alphabetic characters using regular expression\n",
        "    text = re.sub(r'[^a-z]', ' ', text)\n",
        "\n",
        "    # Tokenize text\n",
        "    tokens = word_tokenize(text)\n",
        "\n",
        "    # Initialize the WordNetLemmatizer\n",
        "    lemmatizer = WordNetLemmatizer()\n",
        "\n",
        "    # Lemmatize tokens and remove stopwords\n",
        "    tokens = [lemmatizer.lemmatize(token) for token in tokens if token not in stopwords.words('english')]\n",
        "\n",
        "    return tokens\n"
      ]
    },
    {
      "cell_type": "code",
      "source": [
        "sample_text = \"Here's an example sentence to be tokenized and lemmatized.\"\n",
        "tokens = tokenize_text(sample_text)\n",
        "print(tokens)"
      ],
      "metadata": {
        "colab": {
          "base_uri": "https://localhost:8080/"
        },
        "id": "TrSKYzsGg3Ev",
        "outputId": "17c886e1-1093-4314-8de5-f0a123baf6cc"
      },
      "execution_count": null,
      "outputs": [
        {
          "output_type": "stream",
          "name": "stdout",
          "text": [
            "['example', 'sentence', 'tokenized', 'lemmatized']\n"
          ]
        }
      ]
    },
    {
      "cell_type": "code",
      "execution_count": null,
      "metadata": {
        "id": "RI_onIGdR-F6"
      },
      "outputs": [],
      "source": [
        "# Create tfidf vectorizer\n",
        "# Initialize TF-IDF Vectorizer\n",
        "tfidf_vectorizer = TfidfVectorizer(\n",
        "    tokenizer=tokenize_text,  # Use the custom tokenize_text function if specific preprocessing is required\n",
        "    stop_words='english',  # Consider specifying stop words if not handled in the tokenizer\n",
        "    max_features=1000  # Limit the number of features to keep\n",
        ")\n",
        "\n",
        "# Fit_transfrom the above vectorizer on the text column and then convert the output into an array\n",
        "# Assuming 'text' is the column in df_final_new you want to vectorize\n",
        "tfidf_matrix = tfidf_vectorizer.fit_transform(df_final_new['text'])\n",
        "\n",
        "# Convert the TF-IDF matrix to an array if needed\n",
        "tfidf_array = tfidf_matrix.toarray()\n"
      ]
    },
    {
      "cell_type": "code",
      "execution_count": null,
      "metadata": {
        "id": "Beak6ODRR-F7"
      },
      "outputs": [],
      "source": [
        "# Compute the cosine similarity for the tfidf above output\n",
        "from sklearn.metrics.pairwise import cosine_similarity\n"
      ]
    },
    {
      "cell_type": "code",
      "source": [
        "# Compute cosine similarity matrix\n",
        "cosine_sim_matrix = cosine_similarity(tfidf_array, tfidf_array)\n"
      ],
      "metadata": {
        "id": "7GIY6_fChPpy"
      },
      "execution_count": null,
      "outputs": []
    },
    {
      "cell_type": "code",
      "source": [
        "# Example: Find the top 5 documents most similar to the first document\n",
        "# Get similarity scores for the first document with all others, including itself\n",
        "sim_scores = list(enumerate(cosine_sim_matrix[0]))\n",
        "\n",
        "# Sort the documents based on the similarity scores in descending order\n",
        "sim_scores_sorted = sorted(sim_scores, key=lambda x: x[1], reverse=True)\n",
        "\n",
        "# Exclude the first document itself and select the top 5 most similar documents\n",
        "top_similar_indices = [i for i, score in sim_scores_sorted[1:6]]\n",
        "\n",
        "# Retrieve the titles for the top 5 similar documents\n",
        "top_similar_titles = df_final_new.iloc[top_similar_indices].index\n",
        "\n",
        "# Print the indices and titles of the top 5 similar documents\n",
        "for idx, title in zip(top_similar_indices, top_similar_titles):\n",
        "    print(f\"Index: {idx}, Title: {title}\")\n",
        "\n"
      ],
      "metadata": {
        "colab": {
          "base_uri": "https://localhost:8080/"
        },
        "id": "0t_zK1m2hVS5",
        "outputId": "6658b1d4-7552-4741-b2b0-8daf77b7b45d"
      },
      "execution_count": null,
      "outputs": [
        {
          "output_type": "stream",
          "name": "stdout",
          "text": [
            "Index: 10, Title: You Mustn't Kick It Around\n",
            "Index: 309, Title: Blackbirds\n",
            "Index: 487, Title: Love In 2 Parts\n",
            "Index: 472, Title: La Petite Mort\n",
            "Index: 552, Title: Lullaby In Three/Four\n"
          ]
        }
      ]
    },
    {
      "cell_type": "markdown",
      "metadata": {
        "id": "3Jjo3UHKhoEh"
      },
      "source": [
        " Finally, let's create a function to find most similar songs to recommend for a given song."
      ]
    },
    {
      "cell_type": "code",
      "execution_count": null,
      "metadata": {
        "id": "upANOISkR-F8"
      },
      "outputs": [],
      "source": [
        "# Function that takes in song title as input and returns the top 10 recommended songs\n",
        "def recommendations(title, cosine_sim_matrix):\n",
        "    # Ensure the title exists in the DataFrame\n",
        "    if title not in df_final_new.index:\n",
        "        return \"Song title not found in the dataset.\"\n",
        "\n",
        "    # Getting the index of the song that matches the title\n",
        "    idx = df_final_new.index.get_loc(title)\n",
        "\n",
        "    # Creating a Series with the similarity scores in descending order\n",
        "    sim_scores = list(enumerate(cosine_sim_matrix[idx]))\n",
        "    sim_scores = sorted(sim_scores, key=lambda x: x[1], reverse=True)\n",
        "\n",
        "    # Getting the indexes of the 10 most similar songs (excluding itself)\n",
        "    top_indices = [i for i, score in sim_scores[1:11]]  # Exclude the first match, as it's the song itself\n",
        "\n",
        "    # Populating the list with the titles of the best 10 matching songs\n",
        "    top_10_similar_titles = df_final_new.iloc[top_indices].index.tolist()\n",
        "\n",
        "    return top_10_similar_titles"
      ]
    },
    {
      "cell_type": "markdown",
      "metadata": {
        "id": "o4EINBmkR-F8"
      },
      "source": [
        "Recommending 10 songs similar to Learn to Fly"
      ]
    },
    {
      "cell_type": "code",
      "execution_count": null,
      "metadata": {
        "id": "ohEK5dkVR-F8",
        "colab": {
          "base_uri": "https://localhost:8080/"
        },
        "outputId": "a6ac4ef7-5ea3-494a-bd28-29f580cc8b19"
      },
      "outputs": [
        {
          "output_type": "stream",
          "name": "stdout",
          "text": [
            "Top 10 recommended songs:\n",
            "The Pretender\n",
            "Everlong\n",
            "From Left To Right\n",
            "Lifespan Of A Fly\n",
            "Daisy And Prudence\n",
            "The Ballad of Michael Valentine\n",
            "I Stand Corrected (Album)\n",
            "They Might Follow You\n",
            "Monkey Man\n",
            "Bleeding Hearts\n"
          ]
        }
      ],
      "source": [
        "# Make the recommendation for the song with title 'Learn To Fly'\n",
        "song_title = \"Learn To Fly\"\n",
        "recommended_songs = recommendations(song_title, cosine_sim_matrix)\n",
        "\n",
        "print(\"Top 10 recommended songs:\")\n",
        "for song in recommended_songs:\n",
        "    print(song)"
      ]
    },
    {
      "cell_type": "markdown",
      "metadata": {
        "id": "UQ7iI5QJ0oem"
      },
      "source": [
        "**Observations and Insights:_________**"
      ]
    },
    {
      "cell_type": "markdown",
      "metadata": {
        "id": "73367782"
      },
      "source": [
        "## **Conclusion and Recommendations**"
      ]
    },
    {
      "cell_type": "markdown",
      "metadata": {
        "id": "N5BT7Ocwqf5x"
      },
      "source": [
        "**1. Comparison of various techniques and their relative performance based on chosen Metric (Measure of success)**:\n",
        "- How do different techniques perform? Which one is performing relatively better? Is there scope to improve the performance further?"
      ]
    },
    {
      "cell_type": "markdown",
      "metadata": {
        "id": "wjc6vTcoqp6v"
      },
      "source": [
        "**2. Refined insights**:\n",
        "- What are the most meaningful insights from the data relevant to the problem?"
      ]
    },
    {
      "cell_type": "markdown",
      "metadata": {
        "id": "hK6PMGUtoxVx"
      },
      "source": [
        "**3. Proposal for the final solution design:**\n",
        "- What model do you propose to be adopted? Why is this the best solution to adopt?"
      ]
    }
  ],
  "metadata": {
    "colab": {
      "provenance": [],
      "machine_shape": "hm"
    },
    "kernelspec": {
      "display_name": "Python 3",
      "name": "python3"
    },
    "language_info": {
      "codemirror_mode": {
        "name": "ipython",
        "version": 3
      },
      "file_extension": ".py",
      "mimetype": "text/x-python",
      "name": "python",
      "nbconvert_exporter": "python",
      "pygments_lexer": "ipython3",
      "version": "3.9.13"
    }
  },
  "nbformat": 4,
  "nbformat_minor": 0
}