{
 "cells": [
  {
   "cell_type": "markdown",
   "metadata": {},
   "source": [
    "#First task"
   ]
  },
  {
   "cell_type": "code",
   "execution_count": 2,
   "metadata": {},
   "outputs": [
    {
     "name": "stdout",
     "output_type": "stream",
     "text": [
      "Access Granted\n"
     ]
    }
   ],
   "source": [
    "users = {\n",
    "    \"user1\": \"password123\",\n",
    "    \"user2\": \"passw0rd\",\n",
    "    \"admin\": \"admin123\"\n",
    "}\n",
    "\n",
    "username = input(\"Enter your username: \")\n",
    "password = input(\"Enter your password: \")\n",
    "\n",
    "if username in users:\n",
    "    if users[username] == password:\n",
    "        print(\"Access Granted\")\n",
    "    else:\n",
    "        print(\"Incorrect password\")\n",
    "else:\n",
    "    print(\"Username not found\")\n"
   ]
  },
  {
   "cell_type": "markdown",
   "metadata": {},
   "source": [
    "#2nd Task"
   ]
  },
  {
   "cell_type": "code",
   "execution_count": 3,
   "metadata": {},
   "outputs": [
    {
     "name": "stdout",
     "output_type": "stream",
     "text": [
      "Pass\n"
     ]
    }
   ],
   "source": [
    "scores = {\n",
    "    \"Math\": 85,\n",
    "    \"Science\": 78,\n",
    "    \"English\": 90\n",
    "}\n",
    "\n",
    "passing_score = 60\n",
    "pass_status = True\n",
    "\n",
    "for subject, score in scores.items():\n",
    "    if score < passing_score:\n",
    "        pass_status = False\n",
    "        break\n",
    "\n",
    "if pass_status:\n",
    "    print(\"Pass\")\n",
    "else:\n",
    "    print(\"Fail\")\n"
   ]
  },
  {
   "cell_type": "markdown",
   "metadata": {},
   "source": [
    "#Third task"
   ]
  },
  {
   "cell_type": "code",
   "execution_count": 4,
   "metadata": {},
   "outputs": [
    {
     "name": "stdout",
     "output_type": "stream",
     "text": [
      "Purchase successful, change: $0.00\n"
     ]
    }
   ],
   "source": [
    "menu = {\n",
    "    \"Burger\": 5,\n",
    "    \"Pizza\": 8,\n",
    "    \"Salad\": 4\n",
    "}\n",
    "\n",
    "item = input(\"Enter the menu item: \")\n",
    "money = float(input(\"Enter the amount of money you have: \"))\n",
    "\n",
    "if item in menu:\n",
    "    if money >= menu[item]:\n",
    "        change = money - menu[item]\n",
    "        print(f\"Purchase successful, change: ${change:.2f}\")\n",
    "    else:\n",
    "        print(\"Insufficient funds\")\n",
    "else:\n",
    "    print(\"Item not available\")\n"
   ]
  },
  {
   "cell_type": "markdown",
   "metadata": {},
   "source": [
    "#4th Task"
   ]
  },
  {
   "cell_type": "code",
   "execution_count": 5,
   "metadata": {},
   "outputs": [
    {
     "name": "stdout",
     "output_type": "stream",
     "text": [
      "Book1 is available for borrowing.\n"
     ]
    }
   ],
   "source": [
    "library = {\n",
    "    \"Book1\": \"Available\",\n",
    "    \"Book2\": \"Borrowed\",\n",
    "    \"Book3\": \"Available\"\n",
    "}\n",
    "\n",
    "book = input(\"Enter the book title: \")\n",
    "\n",
    "if book in library:\n",
    "    if library[book] == \"Available\":\n",
    "        print(f\"{book} is available for borrowing.\")\n",
    "    else:\n",
    "        print(f\"Sorry, {book} is currently borrowed.\")\n",
    "else:\n",
    "    print(\"Book not found in library\")\n"
   ]
  },
  {
   "cell_type": "markdown",
   "metadata": {},
   "source": [
    "#5th task"
   ]
  },
  {
   "cell_type": "code",
   "execution_count": null,
   "metadata": {},
   "outputs": [],
   "source": [
    "capitals = {\n",
    "    \"France\": \"Paris\",\n",
    "    \"Japan\": \"Tokyo\",\n",
    "    \"Brazil\": \"Brasilia\"\n",
    "}\n",
    "\n",
    "country = input(\"Enter a country: \")\n",
    "\n",
    "if country in capitals:\n",
    "    print(f\"The capital of {country} is {capitals[country]}.\")\n",
    "else:\n",
    "    print(\"Country not found.\")\n"
   ]
  },
  {
   "cell_type": "markdown",
   "metadata": {},
   "source": [
    "#6th "
   ]
  },
  {
   "cell_type": "code",
   "execution_count": null,
   "metadata": {},
   "outputs": [],
   "source": [
    "score = int(input(\"Enter your score: \"))\n",
    "\n",
    "if score >= 90:\n",
    "    print(\"Grade: A\")\n",
    "elif score >= 80:\n",
    "    print(\"Grade: B\")\n",
    "elif score >= 70:\n",
    "    print(\"Grade: C\")\n",
    "elif score >= 60:\n",
    "    print(\"Grade: D\")\n",
    "else:\n",
    "    print(\"Grade: F\")\n"
   ]
  },
  {
   "cell_type": "markdown",
   "metadata": {},
   "source": [
    "#7th task"
   ]
  },
  {
   "cell_type": "code",
   "execution_count": null,
   "metadata": {},
   "outputs": [],
   "source": [
    "hour = int(input(\"Enter the hour (0-23): \"))\n",
    "\n",
    "if 5 <= hour < 12:\n",
    "    print(\"It's morning.\")\n",
    "elif 12 <= hour < 17:\n",
    "    print(\"It's afternoon.\")\n",
    "elif 17 <= hour < 21:\n",
    "    print(\"It's evening.\")\n",
    "else:\n",
    "    print(\"It's night.\")\n"
   ]
  },
  {
   "cell_type": "markdown",
   "metadata": {},
   "source": [
    "#8th"
   ]
  },
  {
   "cell_type": "code",
   "execution_count": null,
   "metadata": {},
   "outputs": [],
   "source": [
    "number = int(input(\"Enter a number: \"))\n",
    "\n",
    "if 0 <= number <= 10:\n",
    "    print(\"The number is in the range 0-10.\")\n",
    "elif 11 <= number <= 20:\n",
    "    print(\"The number is in the range 11-20.\")\n",
    "elif 21 <= number <= 30:\n",
    "    print(\"The number is in the range 21-30.\")\n",
    "else:\n",
    "    print(\"The number is outside the range.\")\n"
   ]
  },
  {
   "cell_type": "markdown",
   "metadata": {},
   "source": [
    "#9th"
   ]
  },
  {
   "cell_type": "code",
   "execution_count": null,
   "metadata": {},
   "outputs": [],
   "source": [
    "temperature = int(input(\"Enter the temperature in Celsius: \"))\n",
    "\n",
    "if temperature < 15:\n",
    "    print(\"It's Cold.\")\n",
    "    if temperature < 5:\n",
    "        print(\"It's Very Cold.\")\n",
    "    else:\n",
    "        print(\"It's Chilly.\")\n",
    "elif 15 <= temperature <= 25:\n",
    "    print(\"It's Warm.\")\n",
    "else:\n",
    "    print(\"It's Hot.\")\n"
   ]
  },
  {
   "cell_type": "markdown",
   "metadata": {},
   "source": [
    "#10th"
   ]
  },
  {
   "cell_type": "code",
   "execution_count": null,
   "metadata": {},
   "outputs": [],
   "source": [
    "number = int(input(\"Enter a number: \"))\n",
    "\n",
    "if number > 0:\n",
    "    print(\"The number is positive.\")\n",
    "    if number % 2 == 0:\n",
    "        print(\"The number is even.\")\n",
    "    else:\n",
    "        print(\"The number is odd.\")\n",
    "elif number < 0:\n",
    "    print(\"The number is negative.\")\n",
    "else:\n",
    "    print(\"The number is zero.\")\n"
   ]
  }
 ],
 "metadata": {
  "kernelspec": {
   "display_name": "Python 3",
   "language": "python",
   "name": "python3"
  },
  "language_info": {
   "codemirror_mode": {
    "name": "ipython",
    "version": 3
   },
   "file_extension": ".py",
   "mimetype": "text/x-python",
   "name": "python",
   "nbconvert_exporter": "python",
   "pygments_lexer": "ipython3",
   "version": "3.11.6"
  }
 },
 "nbformat": 4,
 "nbformat_minor": 2
}
