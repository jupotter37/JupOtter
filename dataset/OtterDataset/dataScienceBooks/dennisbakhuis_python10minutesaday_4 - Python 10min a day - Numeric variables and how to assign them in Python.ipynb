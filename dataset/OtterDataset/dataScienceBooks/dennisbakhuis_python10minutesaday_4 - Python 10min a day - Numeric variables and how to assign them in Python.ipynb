{
 "cells": [
  {
   "cell_type": "markdown",
   "metadata": {},
   "source": [
    "<img src=\"assets/jeremy-lapak-CVvFVQ_-oUg-unsplash.png\" alt=\"Python Envs\" style=\"display: block; margin: 0 auto\" />"
   ]
  },
  {
   "cell_type": "markdown",
   "metadata": {},
   "source": [
    "# Learning Python 10 minutes a day #4\n",
    "## Numeric variables and how to assign them in Python\n",
    "[Medium article link](https://towardsdatascience.com/learning-python-10-minutes-a-day-4-df06c3c2e6e8)"
   ]
  },
  {
   "cell_type": "markdown",
   "metadata": {},
   "source": [
    "This is a [series](https://python-10-minutes-a-day.rocks) of short 10 minute Python articles helping you to get started with Python. I try to post an article each day (no promises), starting from the very basics, going up to more complex idioms. Feel free to contact me on [LinkedIn](https://www.linkedin.com/in/dennisbakhuis/) for questions or requests on particular subjects of Python, you want to know about."
   ]
  },
  {
   "cell_type": "markdown",
   "metadata": {},
   "source": [
    "In this session we are going to discuss variable assignment and numbers. As you can remember from a few sessions before, Python is dynamically typed. This means that you do not have to assign a type to a variable, but that the type will be assigned automatically when the assignment takes place. If we assign a number without a dot, it will be assigned as type int (integer) and if it has a dot or decimal, it will be assigned as type float (floating point):"
   ]
  },
  {
   "cell_type": "code",
   "execution_count": null,
   "metadata": {},
   "outputs": [],
   "source": [
    "a = 5.2     # a float\n",
    "b = 2       # an integer \n",
    "\n",
    "print('add and subtract:', a + b, a - b)\n",
    "print('multiply and divide:', a * b, a / b)\n",
    "print('power:', 5**2)\n",
    "\n",
    "# Integers are converted to float automatically\n",
    "print('dividing two integers:', 3 / 4)"
   ]
  },
  {
   "cell_type": "markdown",
   "metadata": {},
   "source": [
    "A benefit of dynamically typed is that in general, you do not have to bother about type conversions. If needed, the value will be converted to type float. As almost all types in Python, the types int and float are immutable and after creation cannot be changed. When doing basic arithmetic operations, the input values are used to create a new instance, i.e. a new int or float value. If this replaces the reference (the variable) to the previous result, garbage collection will get rid of the object."
   ]
  },
  {
   "cell_type": "markdown",
   "metadata": {},
   "source": [
    "Of course it is possible to change the type explicitly. For example to change a float to a int, you can cast them using int(). However, this operation will truncate all decimals. If the value was 4.999, int(4.999) will return 4. If you want to round, you can use the builtin round() function. For rounding up (ceil) and rounding down (floor), you can import them from the standard library (more on imports in a later session). Be mindful when using truncation or rounding. In 1982 the Vancouver Stock Exchange accidentally used [truncation instead of rounding](https://en.wikipedia.org/wiki/Vancouver_Stock_Exchange), therefore, mysteriously reducing their index (money was vanishing). This type-casting is also used to convert text to values, however, be careful as the string should be a valid number."
   ]
  },
  {
   "cell_type": "code",
   "execution_count": null,
   "metadata": {},
   "outputs": [],
   "source": [
    "a = 4.76\n",
    "b = -3.5  # negative numbers start with a '-'\n",
    "\n",
    "# simple casting truncates \n",
    "print('using the int() will truncate the numbers:', int(a), int(b))\n",
    "\n",
    "# round() is a built-in method and requires no import\n",
    "print('round() rounds values up when > 0.5', round(a), round(b))\n",
    "print('round() rounds to the nearest even integer when exactly 0.5', round(1.5), round(2.5))\n",
    "print('you can provide the number of decimals:', round(1.2345, 2))\n",
    "\n",
    "# floor and ceil have to be imported\n",
    "from math import floor, ceil\n",
    "print('truncating is different from rounding down:', floor(a), floor(b))\n",
    "print('rounding up:', ceil(a), ceil(b))\n",
    "\n",
    "# converting text to float or int\n",
    "print('Converting text to numbers', int('12'), float('25.8'))"
   ]
  },
  {
   "cell_type": "markdown",
   "metadata": {},
   "source": [
    "We just saw the built-in method round, there are a couple more, namely the integer division, absolute value, the modulus, and complex numbers. These are less frequently used, but they deserve a short mention."
   ]
  },
  {
   "cell_type": "code",
   "execution_count": null,
   "metadata": {},
   "outputs": [],
   "source": [
    "# There is a integer division, also know as floor division\n",
    "print('integer divide returns the floor:', 7 // 3)\n",
    "print('be mindful when numbers are negative:', 7 // -3)\n",
    "print('floats return floored floats:', 2.0 // 1)\n",
    "\n",
    "# Absolute values ignores the negative sign\n",
    "print('Absolute values:', abs(-3), abs(4))\n",
    "\n",
    "# Modulus returns the remainder of a division\n",
    "print('Modulus:', 5 % 2)\n",
    "\n",
    "# If you need large numbers, you can use the exponent notation\n",
    "value = 1e12\n",
    "print('value:', value)\n",
    "\n",
    "# If you care, Python knows about complex numbers\n",
    "a = 1+1j\n",
    "print('Imaginary unit is:', (-1)**0.5)"
   ]
  },
  {
   "cell_type": "markdown",
   "metadata": {},
   "source": [
    "When using variables, they need to be assigned before you can use them. This is probably not surprising. What might be surprising is the way you can assign variables. You can chain multiple assignments or you can use a technique called tuple unpacking. The latter term will make more sense when we discuss tuples. The example below shows tuple unpacking and it is probably not to hard to understand."
   ]
  },
  {
   "cell_type": "code",
   "execution_count": null,
   "metadata": {},
   "outputs": [],
   "source": [
    "# This will raise an error\n",
    "print(this_variable_does_not_exist) \n",
    "\n",
    "# chain the assignment\n",
    "a = b = 0\n",
    "print('a:', a, 'b:', b )\n",
    "\n",
    "# Or assign multiple variable on one line (tuple unpacking)\n",
    "a, b = 1, 2\n",
    "print('a:', a, 'b:', b )"
   ]
  },
  {
   "cell_type": "markdown",
   "metadata": {},
   "source": [
    "An int value in Python is not bounded, i.e. you can store arbitrary large values in an int variable and it is only limited by the amount of memory in your system. This is different from many other languages where you are limited to 64 bits, if not using additional packages. A float is similar to the C implementation of a double, which is a 64 bit floating point variable. The limits are relatively large but if you need larger numbers or more precision, you can use the [decimal package](https://docs.python.org/3/library/decimal.html#decimal.Decimal) from the standard library. The float type also has special cases, which are on itself valid floats. For example, you can define infinity or -infinity as a float (a = float(‘infinity’)). Another special case is nan, which stands for ‘Not a Number’ and this is assigned when a number is not defined (if there is not an exception raised). NaNs are also often used for missing numbers. In future, we will spend some time handling NaNs as it can be tricky sometimes. These special cases are invoked by putting a string (which is case insensitive) in the built-in float class."
   ]
  },
  {
   "cell_type": "markdown",
   "metadata": {},
   "source": [
    "## Practice for today:\n",
    "1. In a new Notebook, assign various int and float values.\n",
    "2. Use the new variable to do a couple of calculations.\n",
    "3. Test all discussed rounding strategies.\n",
    "4. Calculate “1.2 - 1”. Explain why this is not a bug.\n",
    "5. Do you think it is weird that float(‘nan’) == float(‘nan’) is equal to False?"
   ]
  },
  {
   "cell_type": "markdown",
   "metadata": {},
   "source": [
    "If you have any questions, feel free to contact me through [LinkedIn](https://www.linkedin.com/in/dennisbakhuis/)."
   ]
  },
  {
   "cell_type": "code",
   "execution_count": null,
   "metadata": {},
   "outputs": [],
   "source": []
  }
 ],
 "metadata": {
  "kernelspec": {
   "display_name": "Python 3",
   "language": "python",
   "name": "python3"
  },
  "language_info": {
   "codemirror_mode": {
    "name": "ipython",
    "version": 3
   },
   "file_extension": ".py",
   "mimetype": "text/x-python",
   "name": "python",
   "nbconvert_exporter": "python",
   "pygments_lexer": "ipython3",
   "version": "3.7.7"
  }
 },
 "nbformat": 4,
 "nbformat_minor": 4
}
