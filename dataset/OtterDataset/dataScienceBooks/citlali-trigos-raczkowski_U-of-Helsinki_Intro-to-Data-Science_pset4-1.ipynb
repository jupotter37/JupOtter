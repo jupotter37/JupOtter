{
 "cells": [
  {
   "cell_type": "markdown",
   "metadata": {},
   "source": [
    "# Introduction to Data Science 2022\n",
    "## Week 4 exercises\n",
    "### Instructions\n",
    "For this week’s deep learning exercises we will use the CSC environment.\n",
    "Follow the instructions below to find and complete the exercises on CSC:\n",
    "- Start by going to the CSC notebooks. Choose the Haka login option and\n",
    "log in using your University credentials.\n",
    "- Fine the environment “Practical Deep Learning”, and press the start\n",
    "button to start a new session. After a few seconds, the option will\n",
    "appear to “Enter session”. This will open a new instance of a Jupyter\n",
    "environment in your browser.\n",
    "- Warning: each instance of the environment has a “lifetime” of 4\n",
    "hours. Remember to save and download the Jupyter notebook(s)\n",
    "you have been working on, before your progress is lost. You can\n",
    "then open a new instance of a Jupyter environment and re-upload your\n",
    "downloaded notebook(s) to keep working on them."
   ]
  },
  {
   "cell_type": "markdown",
   "metadata": {},
   "source": [
    "### Exercises\n",
    "We will work on two different approaches – two different neural networks that\n",
    "is – for a classification task on the Fashion MNIST data.\n",
    "Once you are in the “Practical Deep Learning” environment, open the folder\n",
    "and go to the directory /intro-to-dl/day1/. For each exercise, use the following\n",
    "notebook file:\n",
    "1. Multilayer Perceptron (MLP): Open the Jupyter notebook file “02-tf2-\n",
    "mnist-mlp.ipynb”.\n",
    "2. Convolutional Neural Network (CNN): Open the Jupyter notebook file\n",
    "“03-tf2-mnist-cnn.ipynb”.\n",
    "Follow the examples and complete the tasks using the Fashion MNIST\n",
    "dataset using:\n",
    "from tensorflow.keras.datasets import fashion_mnist\n",
    "data = fashion_mnist.load_data()\n",
    "In the “Parameter tuning” tasks, feel free to experiment with different\n",
    "parameters, optimizers and activation functions for your networks – you will\n",
    "find useful links in the notebooks. Finally, remember to download your two\n",
    "completed notebooks and upload them on Moodle."
   ]
  },
  {
   "cell_type": "markdown",
   "metadata": {},
   "source": [
    "# MNIST handwritten digits classification with MLPs\n",
    "\n",
    "In this notebook, we'll train a multi-layer perceptron model to classify MNIST digits using [TensorFlow](https://www.tensorflow.org/) (version $\\ge$ 2.0 required) with the [Keras API](https://www.tensorflow.org/guide/keras/overview).\n",
    "\n",
    "First, the needed imports."
   ]
  },
  {
   "cell_type": "code",
   "execution_count": 3,
   "metadata": {},
   "outputs": [
    {
     "name": "stderr",
     "output_type": "stream",
     "text": [
      "2022-09-28 16:20:20.523904: W tensorflow/stream_executor/platform/default/dso_loader.cc:64] Could not load dynamic library 'libcudart.so.11.0'; dlerror: libcudart.so.11.0: cannot open shared object file: No such file or directory\n",
      "2022-09-28 16:20:20.523960: I tensorflow/stream_executor/cuda/cudart_stub.cc:29] Ignore above cudart dlerror if you do not have a GPU set up on your machine.\n"
     ]
    },
    {
     "name": "stdout",
     "output_type": "stream",
     "text": [
      "Using Tensorflow version: 2.8.0, and Keras version: 2.8.0.\n"
     ]
    },
    {
     "name": "stderr",
     "output_type": "stream",
     "text": [
      "/tmp/ipykernel_647/1741857118.py:21: DeprecationWarning: distutils Version classes are deprecated. Use packaging.version instead.\n",
      "  assert(LV(tf.__version__) >= LV(\"2.0.0\"))\n"
     ]
    }
   ],
   "source": [
    "%matplotlib inline\n",
    "\n",
    "import os\n",
    "if not os.path.isfile('pml_utils.py'):\n",
    "  !wget https://raw.githubusercontent.com/csc-training/intro-to-dl/master/day1/pml_utils.py\n",
    "from pml_utils import show_failures\n",
    "\n",
    "import tensorflow as tf\n",
    "from tensorflow import keras\n",
    "from tensorflow.keras import layers\n",
    "from tensorflow.keras.utils import plot_model, to_categorical\n",
    "\n",
    "from distutils.version import LooseVersion as LV\n",
    "\n",
    "import numpy as np\n",
    "import matplotlib.pyplot as plt\n",
    "import seaborn as sns\n",
    "sns.set()\n",
    "\n",
    "print('Using Tensorflow version: {}, and Keras version: {}.'.format(tf.__version__, tf.keras.__version__))\n",
    "assert(LV(tf.__version__) >= LV(\"2.0.0\"))"
   ]
  },
  {
   "cell_type": "markdown",
   "metadata": {},
   "source": [
    "Let's check if we have GPU available."
   ]
  },
  {
   "cell_type": "code",
   "execution_count": 4,
   "metadata": {},
   "outputs": [
    {
     "name": "stdout",
     "output_type": "stream",
     "text": [
      "No GPU, using CPU instead.\n"
     ]
    },
    {
     "name": "stderr",
     "output_type": "stream",
     "text": [
      "2022-09-28 16:20:22.594879: W tensorflow/stream_executor/platform/default/dso_loader.cc:64] Could not load dynamic library 'libcuda.so.1'; dlerror: libcuda.so.1: cannot open shared object file: No such file or directory\n",
      "2022-09-28 16:20:22.594959: W tensorflow/stream_executor/cuda/cuda_driver.cc:269] failed call to cuInit: UNKNOWN ERROR (303)\n",
      "2022-09-28 16:20:22.595016: I tensorflow/stream_executor/cuda/cuda_diagnostics.cc:156] kernel driver does not appear to be running on this host (nb-sherry-the-dark-6b8c587574-vdtq7): /proc/driver/nvidia/version does not exist\n"
     ]
    }
   ],
   "source": [
    "gpus = tf.config.list_physical_devices('GPU')\n",
    "if len(gpus) > 0:\n",
    "    for gpu in gpus:\n",
    "        tf.config.experimental.set_memory_growth(gpu, True)\n",
    "    from tensorflow.python.client import device_lib\n",
    "    for d in device_lib.list_local_devices():\n",
    "        if d.device_type == 'GPU':\n",
    "            print('GPU', d.physical_device_desc)\n",
    "else:\n",
    "    print('No GPU, using CPU instead.')"
   ]
  },
  {
   "cell_type": "markdown",
   "metadata": {},
   "source": [
    "## MNIST data set\n",
    "\n",
    "Next we'll load the MNIST handwritten digits data set using TensorFlow's own tools.  First time we may have to download the data, which can take a while.\n",
    "\n",
    "#### Altenative: Fashion-MNIST\n",
    "\n",
    "Alternatively, MNIST can be replaced with Fashion-MNIST, which can be used as drop-in replacement for MNIST.   Fashion-MNIST contains images of 10 fashion categories:\n",
    "\n",
    "Label|Description|Label|Description\n",
    "--- | --- |--- | ---\n",
    "0|T-shirt/top|5|Sandal\n",
    "1|Trouser|6|Shirt\n",
    "2|Pullover|7|Sneaker\n",
    "3|Dress|8|Bag\n",
    "4|Coat|9|Ankle boot\n"
   ]
  },
  {
   "cell_type": "code",
   "execution_count": 5,
   "metadata": {},
   "outputs": [
    {
     "name": "stdout",
     "output_type": "stream",
     "text": [
      "\n",
      "MNIST data loaded: train: 60000 test: 10000\n",
      "X_train: (60000, 28, 28)\n",
      "y_train: (60000,)\n",
      "Y_train: (60000, 10)\n"
     ]
    }
   ],
   "source": [
    "from tensorflow.keras.datasets import mnist, fashion_mnist\n",
    "\n",
    "## MNIST:\n",
    "(X_train, y_train), (X_test, y_test) = mnist.load_data()\n",
    "## Fashion-MNIST:\n",
    "#(X_train, y_train), (X_test, y_test) = fashion_mnist.load_data()\n",
    "\n",
    "nb_classes = 10\n",
    "\n",
    "X_train = X_train.astype('float32')\n",
    "X_test = X_test.astype('float32')\n",
    "X_train /= 255.0\n",
    "X_test /= 255.0\n",
    "\n",
    "# one-hot encoding:\n",
    "Y_train = to_categorical(y_train, nb_classes)\n",
    "Y_test = to_categorical(y_test, nb_classes)\n",
    "\n",
    "print()\n",
    "print('MNIST data loaded: train:',len(X_train),'test:',len(X_test))\n",
    "print('X_train:', X_train.shape)\n",
    "print('y_train:', y_train.shape)\n",
    "print('Y_train:', Y_train.shape)"
   ]
  },
  {
   "cell_type": "markdown",
   "metadata": {},
   "source": [
    "The training data (`X_train`) is a 3rd-order tensor of size (60000, 28, 28), i.e. it consists of 60000 images of size 28x28 pixels. `y_train` is a 60000-dimensional vector containing the correct classes (\"0\", \"1\", ..., \"9\") for each training sample, and `Y_train` is a [one-hot](https://en.wikipedia.org/wiki/One-hot) encoding of `y_train`.\n",
    "\n",
    "Let's take a closer look. Here are the first 10 training digits (or fashion items for Fashion-MNIST):"
   ]
  },
  {
   "cell_type": "code",
   "execution_count": 6,
   "metadata": {},
   "outputs": [
    {
     "name": "stdout",
     "output_type": "stream",
     "text": [
      "Training sample 0 : class: 5 , one-hot encoded: [0. 0. 0. 0. 0. 1. 0. 0. 0. 0.]\n",
      "Training sample 1 : class: 0 , one-hot encoded: [1. 0. 0. 0. 0. 0. 0. 0. 0. 0.]\n",
      "Training sample 2 : class: 4 , one-hot encoded: [0. 0. 0. 0. 1. 0. 0. 0. 0. 0.]\n",
      "Training sample 3 : class: 1 , one-hot encoded: [0. 1. 0. 0. 0. 0. 0. 0. 0. 0.]\n",
      "Training sample 4 : class: 9 , one-hot encoded: [0. 0. 0. 0. 0. 0. 0. 0. 0. 1.]\n",
      "Training sample 5 : class: 2 , one-hot encoded: [0. 0. 1. 0. 0. 0. 0. 0. 0. 0.]\n",
      "Training sample 6 : class: 1 , one-hot encoded: [0. 1. 0. 0. 0. 0. 0. 0. 0. 0.]\n",
      "Training sample 7 : class: 3 , one-hot encoded: [0. 0. 0. 1. 0. 0. 0. 0. 0. 0.]\n",
      "Training sample 8 : class: 1 , one-hot encoded: [0. 1. 0. 0. 0. 0. 0. 0. 0. 0.]\n",
      "Training sample 9 : class: 4 , one-hot encoded: [0. 0. 0. 0. 1. 0. 0. 0. 0. 0.]\n"
     ]
    },
    {
     "data": {
      "image/png": "[encoded data removed]",
      "text/plain": [
       "<Figure size 720x72 with 10 Axes>"
      ]
     },
     "metadata": {},
     "output_type": "display_data"
    }
   ],
   "source": [
    "pltsize=1\n",
    "plt.figure(figsize=(10*pltsize, pltsize))\n",
    "\n",
    "for i in range(10):\n",
    "    plt.subplot(1,10,i+1)\n",
    "    plt.axis('off')\n",
    "    plt.imshow(X_train[i,:,:], cmap=\"gray\")\n",
    "    plt.title('Class: '+str(y_train[i]))\n",
    "    print('Training sample',i,': class:',y_train[i], ', one-hot encoded:', Y_train[i])"
   ]
  },
  {
   "cell_type": "markdown",
   "metadata": {},
   "source": [
    "## Multi-layer perceptron (MLP) network\n",
    "\n",
    "Let's create an MLP model that has multiple layers, non-linear activation functions, and optionally dropout layers for regularization.\n",
    "\n",
    "### Initialization\n",
    "\n",
    "We first create the `Input` of shape 28x28 to match the size of the input data. Then we use a `Flatten` layer to convert the 2D image data into vectors of size 784.\n",
    "\n",
    "We add a `Dense` layer that has 20 output nodes. The `Dense` layer connects each input to each output with some weight parameter and then passes the result through a ReLU non-linear activation function.\n",
    "\n",
    "The output of the last layer needs to be a softmaxed 10-dimensional vector to match the ground truth (`Y_train`).  This means that it will output 10 values between 0 and 1 which sum to 1, hence, together they can be interpreted as a probability distribution over our 10 classes.\n",
    "\n",
    "After all layers are created, we create the `Model` by specifying its inputs and outputs.\n",
    "\n",
    "Finally, we select *categorical crossentropy* as the loss function, select [*adam*](https://keras.io/api/optimizers/adam/) as the optimizer, add *accuracy* to the list of metrics to be evaluated, and `compile()` the model.  Adam is simply a an advanced version of stochastic gradient descent, note there are [several different options](https://keras.io/optimizers/) for the optimizer in Keras that we could use instead of *adam*."
   ]
  },
  {
   "cell_type": "code",
   "execution_count": 7,
   "metadata": {},
   "outputs": [
    {
     "name": "stdout",
     "output_type": "stream",
     "text": [
      "Model: \"mlp_model\"\n",
      "_________________________________________________________________\n",
      " Layer (type)                Output Shape              Param #   \n",
      "=================================================================\n",
      " input_1 (InputLayer)        [(None, 28, 28)]          0         \n",
      "                                                                 \n",
      " flatten (Flatten)           (None, 784)               0         \n",
      "                                                                 \n",
      " dense (Dense)               (None, 20)                15700     \n",
      "                                                                 \n",
      " dense_1 (Dense)             (None, 10)                210       \n",
      "                                                                 \n",
      "=================================================================\n",
      "Total params: 15,910\n",
      "Trainable params: 15,910\n",
      "Non-trainable params: 0\n",
      "_________________________________________________________________\n",
      "None\n"
     ]
    },
    {
     "name": "stderr",
     "output_type": "stream",
     "text": [
      "2022-09-28 16:20:26.197921: I tensorflow/core/platform/cpu_feature_guard.cc:151] This TensorFlow binary is optimized with oneAPI Deep Neural Network Library (oneDNN) to use the following CPU instructions in performance-critical operations:  AVX2 FMA\n",
      "To enable them in other operations, rebuild TensorFlow with the appropriate compiler flags.\n"
     ]
    }
   ],
   "source": [
    "# Model initialization:\n",
    "inputs = keras.Input(shape=(28, 28))\n",
    "x = layers.Flatten()(inputs)\n",
    "\n",
    "# A simple model:\n",
    "x = layers.Dense(units=20, activation=\"relu\")(x)\n",
    "\n",
    "# The last layer needs to be like this:\n",
    "outputs = layers.Dense(units=10, activation='softmax')(x)\n",
    "\n",
    "model = keras.Model(inputs=inputs, outputs=outputs,\n",
    "                    name=\"mlp_model\")\n",
    "model.compile(loss='categorical_crossentropy', \n",
    "              optimizer='adam', \n",
    "              metrics=['accuracy'])\n",
    "print(model.summary())"
   ]
  },
  {
   "cell_type": "markdown",
   "metadata": {},
   "source": [
    "The summary shows that there are 15,910 parameters in total in our model.\n",
    "\n",
    "For example for the first dense layer we have 785x20 = 15,700 parameters as the weight matrix is of size 785x20 (not 784, as there's an additional bias term).\n",
    "\n",
    "We can also draw a fancier graph of our model."
   ]
  },
  {
   "cell_type": "code",
   "execution_count": 8,
   "metadata": {
    "tags": []
   },
   "outputs": [
    {
     "data": {
      "image/png": "[encoded data removed]",
      "text/plain": [
       "<IPython.core.display.Image object>"
      ]
     },
     "execution_count": 8,
     "metadata": {},
     "output_type": "execute_result"
    }
   ],
   "source": [
    "plot_model(model, show_shapes=True)"
   ]
  },
  {
   "cell_type": "markdown",
   "metadata": {},
   "source": [
    "### Learning\n",
    "\n",
    "Next, we'll train our model.  Notice how the interface is similar to scikit-learn: we still call the `fit()` method on our model object.\n",
    "\n",
    "An *epoch* means one pass through the whole training data, we'll begin by running training for 10 epochs.\n",
    "\n",
    "You can run code below multiple times and it will continue the training process from where it left off.  If you want to start from scratch, re-initialize the model using the code a few cells ago. \n",
    "\n",
    "We use a batch size of 32, so the actual input will be 32x784 for each batch of 32 images."
   ]
  },
  {
   "cell_type": "code",
   "execution_count": 9,
   "metadata": {},
   "outputs": [
    {
     "name": "stdout",
     "output_type": "stream",
     "text": [
      "Epoch 1/10\n",
      "1875/1875 - 5s - loss: 0.4090 - accuracy: 0.8862 - 5s/epoch - 3ms/step\n",
      "Epoch 2/10\n",
      "1875/1875 - 5s - loss: 0.2231 - accuracy: 0.9350 - 5s/epoch - 3ms/step\n",
      "Epoch 3/10\n",
      "1875/1875 - 5s - loss: 0.1887 - accuracy: 0.9455 - 5s/epoch - 3ms/step\n",
      "Epoch 4/10\n",
      "1875/1875 - 5s - loss: 0.1678 - accuracy: 0.9509 - 5s/epoch - 3ms/step\n",
      "Epoch 5/10\n",
      "1875/1875 - 6s - loss: 0.1538 - accuracy: 0.9552 - 6s/epoch - 3ms/step\n",
      "Epoch 6/10\n",
      "1875/1875 - 5s - loss: 0.1420 - accuracy: 0.9581 - 5s/epoch - 2ms/step\n",
      "Epoch 7/10\n",
      "1875/1875 - 5s - loss: 0.1346 - accuracy: 0.9601 - 5s/epoch - 3ms/step\n",
      "Epoch 8/10\n",
      "1875/1875 - 5s - loss: 0.1274 - accuracy: 0.9621 - 5s/epoch - 3ms/step\n",
      "Epoch 9/10\n",
      "1875/1875 - 4s - loss: 0.1216 - accuracy: 0.9640 - 4s/epoch - 2ms/step\n",
      "Epoch 10/10\n",
      "1875/1875 - 4s - loss: 0.1179 - accuracy: 0.9648 - 4s/epoch - 2ms/step\n",
      "CPU times: user 1min 6s, sys: 14.8 s, total: 1min 21s\n",
      "Wall time: 49.5 s\n"
     ]
    }
   ],
   "source": [
    "%%time\n",
    "epochs = 10\n",
    "\n",
    "history = model.fit(X_train, Y_train, \n",
    "                    epochs=epochs, \n",
    "                    batch_size=32,\n",
    "                    verbose=2)"
   ]
  },
  {
   "cell_type": "markdown",
   "metadata": {},
   "source": [
    "Let's now see how the training progressed. \n",
    "\n",
    "* *Loss* is a function of the difference of the network output and the target values.  We are minimizing the loss function during training so it should decrease over time.\n",
    "* *Accuracy* is the classification accuracy for the training data.  It gives some indication of the real accuracy of the model but cannot be fully trusted, as it may have overfitted and just memorizes the training data."
   ]
  },
  {
   "cell_type": "code",
   "execution_count": 10,
   "metadata": {},
   "outputs": [
    {
     "data": {
      "image/png": "[encoded data removed]",
      "text/plain": [
       "<Figure size 720x216 with 2 Axes>"
      ]
     },
     "metadata": {},
     "output_type": "display_data"
    }
   ],
   "source": [
    "fig, (ax1, ax2) = plt.subplots(1, 2, figsize=(10,3))\n",
    "\n",
    "ax1.plot(history.epoch,history.history['loss'])\n",
    "ax1.set_title('loss')\n",
    "ax1.set_xlabel('epoch')\n",
    "\n",
    "ax2.plot(history.epoch,history.history['accuracy'])\n",
    "ax2.set_title('accuracy')\n",
    "ax2.set_xlabel('epoch');"
   ]
  },
  {
   "cell_type": "markdown",
   "metadata": {},
   "source": [
    "### Inference\n",
    "\n",
    "For a better measure of the quality of the model, let's see the model accuracy for the test data. "
   ]
  },
  {
   "cell_type": "code",
   "execution_count": 11,
   "metadata": {},
   "outputs": [
    {
     "name": "stdout",
     "output_type": "stream",
     "text": [
      "313/313 - 1s - loss: 0.1475 - accuracy: 0.9592 - 848ms/epoch - 3ms/step\n",
      "accuracy: 95.92%\n",
      "CPU times: user 1.06 s, sys: 162 ms, total: 1.22 s\n",
      "Wall time: 1.53 s\n"
     ]
    }
   ],
   "source": [
    "%%time\n",
    "scores = model.evaluate(X_test, Y_test, verbose=2)\n",
    "print(\"%s: %.2f%%\" % (model.metrics_names[1], scores[1]*100))"
   ]
  },
  {
   "cell_type": "markdown",
   "metadata": {},
   "source": [
    "We can now take a closer look at the results using the `show_failures()` helper function."
   ]
  },
  {
   "cell_type": "markdown",
   "metadata": {},
   "source": [
    "Here are the first 10 test digits the MLP classified to a wrong class:"
   ]
  },
  {
   "cell_type": "code",
   "execution_count": 12,
   "metadata": {},
   "outputs": [
    {
     "name": "stdout",
     "output_type": "stream",
     "text": [
      "Showing max 10 first failures. The predicted class is shown first and the correct class in parenthesis.\n"
     ]
    },
    {
     "data": {
      "image/png": "[encoded data removed]",
      "text/plain": [
       "<Figure size 720x72 with 10 Axes>"
      ]
     },
     "metadata": {},
     "output_type": "display_data"
    }
   ],
   "source": [
    "predictions = model.predict(X_test)\n",
    "\n",
    "show_failures(predictions, y_test, X_test)"
   ]
  },
  {
   "cell_type": "markdown",
   "metadata": {},
   "source": [
    "We can use `show_failures()` to inspect failures in more detail. For example, here are failures in which the true class was \"6\":"
   ]
  },
  {
   "cell_type": "code",
   "execution_count": 13,
   "metadata": {},
   "outputs": [
    {
     "name": "stdout",
     "output_type": "stream",
     "text": [
      "Showing max 10 first failures. The predicted class is shown first and the correct class in parenthesis.\n"
     ]
    },
    {
     "data": {
      "image/png": "[encoded data removed]",
      "text/plain": [
       "<Figure size 720x72 with 10 Axes>"
      ]
     },
     "metadata": {},
     "output_type": "display_data"
    }
   ],
   "source": [
    "show_failures(predictions, y_test, X_test, trueclass=6)"
   ]
  },
  {
   "cell_type": "markdown",
   "metadata": {},
   "source": [
    "We can also compute the confusion matrix to see which digits get mixed the most, and look at classification accuracies separately for each class:"
   ]
  },
  {
   "cell_type": "code",
   "execution_count": 14,
   "metadata": {},
   "outputs": [
    {
     "name": "stdout",
     "output_type": "stream",
     "text": [
      "Confusion matrix (rows: true classes; columns: predicted classes):\n",
      "\n",
      "[[ 960    0    4    1    3    4    6    1    1    0]\n",
      " [   0 1117    2    2    1    1    4    1    7    0]\n",
      " [   7    0 1001    4    3    1    1    6    8    1]\n",
      " [   1    1   12  963    0   11    2    6   11    3]\n",
      " [   2    0    6    0  953    3    7    1    2    8]\n",
      " [   2    1    1   10    3  853   13    0    7    2]\n",
      " [   4    2    4    0    7    8  930    0    3    0]\n",
      " [   2    3   23   10    7    1    2  964    4   12]\n",
      " [   6    3    5   13    6   12   13    2  907    7]\n",
      " [   8    6    1   12   21    7    0    6    4  944]]\n",
      "\n",
      "Classification accuracy for each class:\n",
      "\n",
      "0: 0.9796\n",
      "1: 0.9841\n",
      "2: 0.9700\n",
      "3: 0.9535\n",
      "4: 0.9705\n",
      "5: 0.9563\n",
      "6: 0.9708\n",
      "7: 0.9377\n",
      "8: 0.9312\n",
      "9: 0.9356\n"
     ]
    }
   ],
   "source": [
    "from sklearn.metrics import confusion_matrix\n",
    "\n",
    "print('Confusion matrix (rows: true classes; columns: predicted classes):'); print()\n",
    "cm=confusion_matrix(y_test, np.argmax(predictions, axis=1), labels=list(range(10)))\n",
    "print(cm); print()\n",
    "\n",
    "print('Classification accuracy for each class:'); print()\n",
    "for i,j in enumerate(cm.diagonal()/cm.sum(axis=1)): print(\"%d: %.4f\" % (i,j))"
   ]
  },
  {
   "cell_type": "markdown",
   "metadata": {},
   "source": [
    "## Task 1: Model with two dense layers\n",
    "\n",
    "Your task is to try the same problem as above, but with a more complex model. The new model should have **two dense layers**, each with:\n",
    "\n",
    "- 50 units\n",
    "- ReLU activation\n",
    "- each followed by a dropout layer with a rate of 0.2\n",
    "\n",
    "Dropout randomly sets a fraction of inputs to zero during training, which is one approach to regularization and can sometimes help to prevent overfitting.\n",
    "\n",
    "You can consult the Keras documentation at https://keras.io/.  For example, the Dense, Activation, and Dropout layers are described at https://keras.io/layers/core/.\n",
    "\n",
    "The code below is missing the model definition. You can copy any suitable layers from the example above."
   ]
  },
  {
   "cell_type": "code",
   "execution_count": 15,
   "metadata": {},
   "outputs": [],
   "source": [
    "ex1_inputs = keras.Input(shape=(28, 28))\n",
    "\n",
    "x = layers.Flatten()(ex1_inputs)\n",
    "x = layers.Dense(units=50, activation=\"relu\")(x)\n",
    "x = layers.Dropout(rate=0.2)(x)\n",
    "x = layers.Dense(units=50, activation=\"relu\")(x)\n",
    "x = layers.Dropout(rate=0.2)(x)\n",
    "\n",
    "ex1_outputs = layers.Dense(units=10, activation='softmax')(x)"
   ]
  },
  {
   "cell_type": "markdown",
   "metadata": {},
   "source": [
    "Execute cell to see the [example answer](https://raw.githubusercontent.com/csc-training/intro-to-dl/master/day1/solutions/tf2-mnist-mlp-example-answer.py). \n",
    "Note: in Google Colab you have to click and copy the answer manually."
   ]
  },
  {
   "cell_type": "code",
   "execution_count": null,
   "metadata": {},
   "outputs": [],
   "source": [
    "%load solutions/tf2-mnist-mlp-example-answer.py"
   ]
  },
  {
   "cell_type": "code",
   "execution_count": 16,
   "metadata": {},
   "outputs": [
    {
     "name": "stdout",
     "output_type": "stream",
     "text": [
      "Model: \"two_layer_mlp_model\"\n",
      "_________________________________________________________________\n",
      " Layer (type)                Output Shape              Param #   \n",
      "=================================================================\n",
      " input_2 (InputLayer)        [(None, 28, 28)]          0         \n",
      "                                                                 \n",
      " flatten_1 (Flatten)         (None, 784)               0         \n",
      "                                                                 \n",
      " dense_2 (Dense)             (None, 50)                39250     \n",
      "                                                                 \n",
      " dropout (Dropout)           (None, 50)                0         \n",
      "                                                                 \n",
      " dense_3 (Dense)             (None, 50)                2550      \n",
      "                                                                 \n",
      " dropout_1 (Dropout)         (None, 50)                0         \n",
      "                                                                 \n",
      " dense_4 (Dense)             (None, 10)                510       \n",
      "                                                                 \n",
      "=================================================================\n",
      "Total params: 42,310\n",
      "Trainable params: 42,310\n",
      "Non-trainable params: 0\n",
      "_________________________________________________________________\n",
      "None\n"
     ]
    }
   ],
   "source": [
    "assert ex1_outputs is not None, \"You need to write the missing model definition\"\n",
    "\n",
    "ex1_model = keras.Model(inputs=ex1_inputs, outputs=ex1_outputs,\n",
    "                        name=\"two_layer_mlp_model\")\n",
    "ex1_model.compile(loss='categorical_crossentropy', \n",
    "                  optimizer='adam', \n",
    "                  metrics=['accuracy'])\n",
    "print(ex1_model.summary())"
   ]
  },
  {
   "cell_type": "code",
   "execution_count": 17,
   "metadata": {},
   "outputs": [
    {
     "name": "stdout",
     "output_type": "stream",
     "text": [
      "Epoch 1/10\n",
      "1875/1875 - 7s - loss: 0.4548 - accuracy: 0.8612 - 7s/epoch - 4ms/step\n",
      "Epoch 2/10\n",
      "1875/1875 - 7s - loss: 0.2514 - accuracy: 0.9256 - 7s/epoch - 4ms/step\n",
      "Epoch 3/10\n",
      "1875/1875 - 6s - loss: 0.2019 - accuracy: 0.9394 - 6s/epoch - 3ms/step\n",
      "Epoch 4/10\n",
      "1875/1875 - 6s - loss: 0.1810 - accuracy: 0.9470 - 6s/epoch - 3ms/step\n",
      "Epoch 5/10\n",
      "1875/1875 - 7s - loss: 0.1665 - accuracy: 0.9496 - 7s/epoch - 4ms/step\n",
      "Epoch 6/10\n",
      "1875/1875 - 6s - loss: 0.1542 - accuracy: 0.9531 - 6s/epoch - 3ms/step\n",
      "Epoch 7/10\n",
      "1875/1875 - 6s - loss: 0.1444 - accuracy: 0.9553 - 6s/epoch - 3ms/step\n",
      "Epoch 8/10\n",
      "1875/1875 - 4s - loss: 0.1417 - accuracy: 0.9568 - 4s/epoch - 2ms/step\n",
      "Epoch 9/10\n",
      "1875/1875 - 4s - loss: 0.1371 - accuracy: 0.9582 - 4s/epoch - 2ms/step\n",
      "Epoch 10/10\n",
      "1875/1875 - 4s - loss: 0.1314 - accuracy: 0.9600 - 4s/epoch - 2ms/step\n",
      "CPU times: user 1min 33s, sys: 24.7 s, total: 1min 58s\n",
      "Wall time: 56.4 s\n"
     ]
    }
   ],
   "source": [
    "%%time\n",
    "ex1_epochs = 10\n",
    "ex1_history = ex1_model.fit(X_train, Y_train, \n",
    "                            epochs=epochs, \n",
    "                            batch_size=32,\n",
    "                            verbose=2)"
   ]
  },
  {
   "cell_type": "markdown",
   "metadata": {},
   "source": [
    "Let's plot the data to see how the training progressed. A big gap between training and validation accuracies would suggest overfitting."
   ]
  },
  {
   "cell_type": "code",
   "execution_count": 18,
   "metadata": {},
   "outputs": [
    {
     "data": {
      "image/png": "[encoded data removed]",
      "text/plain": [
       "<Figure size 720x216 with 2 Axes>"
      ]
     },
     "metadata": {},
     "output_type": "display_data"
    }
   ],
   "source": [
    "fig, (ax1, ax2) = plt.subplots(1, 2, figsize=(10,3))\n",
    "\n",
    "ax1.plot(history.epoch,history.history['loss'])\n",
    "ax1.set_title('loss')\n",
    "ax1.set_xlabel('epoch')\n",
    "\n",
    "ax2.plot(history.epoch,history.history['accuracy'])\n",
    "ax2.set_title('accuracy')\n",
    "ax2.set_xlabel('epoch');"
   ]
  },
  {
   "cell_type": "code",
   "execution_count": 19,
   "metadata": {},
   "outputs": [
    {
     "name": "stdout",
     "output_type": "stream",
     "text": [
      "313/313 - 1s - loss: 0.1012 - accuracy: 0.9700 - 709ms/epoch - 2ms/step\n",
      "accuracy: 97.00%\n"
     ]
    }
   ],
   "source": [
    "ex1_scores = ex1_model.evaluate(X_test, Y_test, verbose=2)\n",
    "print(\"%s: %.2f%%\" % (ex1_model.metrics_names[1], ex1_scores[1]*100))"
   ]
  },
  {
   "cell_type": "markdown",
   "metadata": {},
   "source": [
    "## Task 2: Model tuning\n",
    "\n",
    "Modify the MLP model.  Try to improve the classification accuracy, or experiment with the effects of different parameters.  If you are interested in the state-of-the-art performance on permutation invariant MNIST, see e.g. [this paper](https://arxiv.org/abs/1507.02672) by Aalto University / The Curious AI Company researchers.\n",
    "\n",
    "You can also consult the Keras documentation at https://keras.io/.  For example, the Dense, Activation, and Dropout layers are described at https://keras.io/layers/core/.\n",
    "\n",
    "<hr/>\n",
    "\n",
    "*Run this notebook in Google Colaboratory using [this link](https://colab.research.google.com/github/csc-training/intro-to-dl/blob/master/day1/02-tf2-mnist-mlp.ipynb).*"
   ]
  },
  {
   "cell_type": "code",
   "execution_count": 20,
   "metadata": {},
   "outputs": [
    {
     "name": "stdout",
     "output_type": "stream",
     "text": [
      "Model: \"two_layer_mlp_model\"\n",
      "_________________________________________________________________\n",
      " Layer (type)                Output Shape              Param #   \n",
      "=================================================================\n",
      " input_3 (InputLayer)        [(None, 28, 28)]          0         \n",
      "                                                                 \n",
      " flatten_2 (Flatten)         (None, 784)               0         \n",
      "                                                                 \n",
      " dense_5 (Dense)             (None, 50)                39250     \n",
      "                                                                 \n",
      " dropout_2 (Dropout)         (None, 50)                0         \n",
      "                                                                 \n",
      " dense_6 (Dense)             (None, 50)                2550      \n",
      "                                                                 \n",
      " dropout_3 (Dropout)         (None, 50)                0         \n",
      "                                                                 \n",
      " dense_7 (Dense)             (None, 50)                2550      \n",
      "                                                                 \n",
      " dropout_4 (Dropout)         (None, 50)                0         \n",
      "                                                                 \n",
      " dense_8 (Dense)             (None, 10)                510       \n",
      "                                                                 \n",
      "=================================================================\n",
      "Total params: 44,860\n",
      "Trainable params: 44,860\n",
      "Non-trainable params: 0\n",
      "_________________________________________________________________\n",
      "None\n"
     ]
    }
   ],
   "source": [
    "ex2_inputs = keras.Input(shape=(28, 28))\n",
    "\n",
    "# Adding in another similar layer\n",
    "x = layers.Flatten()(ex2_inputs)\n",
    "x = layers.Dense(units=50, activation=\"relu\")(x)\n",
    "x = layers.Dropout(rate=0.2)(x)\n",
    "x = layers.Dense(units=50, activation=\"relu\")(x)\n",
    "x = layers.Dropout(rate=0.2)(x)\n",
    "x = layers.Dense(units=50, activation=\"relu\")(x)\n",
    "x = layers.Dropout(rate=0.2)(x)\n",
    "\n",
    "ex2_outputs = layers.Dense(units=10, activation='softmax')(x)\n",
    "\n",
    "\n",
    "ex2_model = keras.Model(inputs=ex2_inputs, outputs=ex2_outputs,\n",
    "                        name=\"two_layer_mlp_model\")\n",
    "ex2_model.compile(loss='categorical_crossentropy', \n",
    "                  optimizer='adam', \n",
    "                  metrics=['accuracy'])\n",
    "print(ex2_model.summary())"
   ]
  },
  {
   "cell_type": "code",
   "execution_count": 21,
   "metadata": {},
   "outputs": [
    {
     "name": "stdout",
     "output_type": "stream",
     "text": [
      "Epoch 1/10\n",
      "1875/1875 - 5s - loss: 0.4995 - accuracy: 0.8454 - 5s/epoch - 3ms/step\n",
      "Epoch 2/10\n",
      "1875/1875 - 7s - loss: 0.2616 - accuracy: 0.9237 - 7s/epoch - 4ms/step\n",
      "Epoch 3/10\n",
      "1875/1875 - 7s - loss: 0.2172 - accuracy: 0.9367 - 7s/epoch - 4ms/step\n",
      "Epoch 4/10\n",
      "1875/1875 - 5s - loss: 0.1971 - accuracy: 0.9434 - 5s/epoch - 3ms/step\n",
      "Epoch 5/10\n",
      "1875/1875 - 5s - loss: 0.1811 - accuracy: 0.9456 - 5s/epoch - 3ms/step\n",
      "Epoch 6/10\n",
      "1875/1875 - 6s - loss: 0.1717 - accuracy: 0.9498 - 6s/epoch - 3ms/step\n",
      "Epoch 7/10\n",
      "1875/1875 - 7s - loss: 0.1591 - accuracy: 0.9529 - 7s/epoch - 4ms/step\n",
      "Epoch 8/10\n",
      "1875/1875 - 7s - loss: 0.1551 - accuracy: 0.9541 - 7s/epoch - 4ms/step\n",
      "Epoch 9/10\n",
      "1875/1875 - 7s - loss: 0.1483 - accuracy: 0.9565 - 7s/epoch - 4ms/step\n",
      "Epoch 10/10\n",
      "1875/1875 - 5s - loss: 0.1413 - accuracy: 0.9581 - 5s/epoch - 3ms/step\n",
      "CPU times: user 1min 47s, sys: 29.6 s, total: 2min 16s\n",
      "Wall time: 1min 1s\n"
     ]
    }
   ],
   "source": [
    "%%time\n",
    "ex2_epochs = 10\n",
    "ex2_history = ex2_model.fit(X_train, Y_train, \n",
    "                            epochs=epochs, \n",
    "                            batch_size=32,\n",
    "                            verbose=2)"
   ]
  },
  {
   "cell_type": "code",
   "execution_count": 22,
   "metadata": {},
   "outputs": [
    {
     "name": "stdout",
     "output_type": "stream",
     "text": [
      "313/313 - 1s - loss: 0.1006 - accuracy: 0.9716 - 787ms/epoch - 3ms/step\n",
      "accuracy: 97.16%\n"
     ]
    }
   ],
   "source": [
    "ex2_scores = ex2_model.evaluate(X_test, Y_test, verbose=2)\n",
    "print(\"%s: %.2f%%\" % (ex2_model.metrics_names[1], ex2_scores[1]*100))"
   ]
  },
  {
   "cell_type": "markdown",
   "metadata": {},
   "source": [
    "Comparing this second round to the first, we have that for the first we had: \n",
    "    - First: 313/313 - 1s - loss: 0.1012 - accuracy: 0.9700 - 709ms/epoch - 2ms/step accuracy: 97.00%\n",
    "    - Second: 313/313 - 1s - loss: 0.1006 - accuracy: 0.9716 - 787ms/epoch - 3ms/step\n",
    "accuracy: 97.16%\n",
    "  \n",
    "So there is a very slight increase in accuracy with the additional layer, although not by much. "
   ]
  }
 ],
 "metadata": {
  "kernelspec": {
   "display_name": "Python 3",
   "language": "python",
   "name": "python3"
  },
  "language_info": {
   "codemirror_mode": {
    "name": "ipython",
    "version": 3
   },
   "file_extension": ".py",
   "mimetype": "text/x-python",
   "name": "python",
   "nbconvert_exporter": "python",
   "pygments_lexer": "ipython3",
   "version": "3.8.8"
  },
  "vscode": {
   "interpreter": {
    "hash": "31f2aee4e71d21fbe5cf8b01ff0e069b9275f58929596ceb00d14d90e3e16cd6"
   }
  }
 },
 "nbformat": 4,
 "nbformat_minor": 4
}
