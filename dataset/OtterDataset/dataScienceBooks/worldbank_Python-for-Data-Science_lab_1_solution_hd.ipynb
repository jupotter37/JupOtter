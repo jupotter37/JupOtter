{
  "nbformat": 4,
  "nbformat_minor": 0,
  "metadata": {
    "kernelspec": {
      "display_name": "Python 3",
      "language": "python",
      "name": "python3"
    },
    "language_info": {
      "codemirror_mode": {
        "name": "ipython",
        "version": 3
      },
      "file_extension": ".py",
      "mimetype": "text/x-python",
      "name": "python",
      "nbconvert_exporter": "python",
      "pygments_lexer": "ipython3",
      "version": "3.7.3"
    },
    "colab": {
      "name": "lab_1.ipynb",
      "provenance": []
    }
  },
  "cells": [
    {
      "cell_type": "markdown",
      "metadata": {
        "id": "gt7HPt-rNGaY",
        "colab_type": "text"
      },
      "source": [
        "# Python for Data Science - Lab 1\n",
        "Work through the following exercises. Get through as many as you can in the time allotted.\n",
        "The box lists additional Python functionality that may help you.\n",
        "\n",
        "| Task | Python function |\n",
        "|----|----|\n",
        "| Import the code library 'random' | import random |\n",
        "| Generate random numbers | random.randint() |\n",
        "| Prompt the user for some text | my_variable = input() |\n"
      ]
    },
    {
      "cell_type": "markdown",
      "metadata": {
        "id": "R6SHjiPBNGac",
        "colab_type": "text"
      },
      "source": [
        "#### EXERCISE 1: String drills\n",
        "*Objective: Consolidate string manipulation, converting between data types where needed.*\n",
        "\n",
        "Combine these four variables into a single string and print it."
      ]
    },
    {
      "cell_type": "code",
      "metadata": {
        "id": "M__CPBKTNGae",
        "colab_type": "code",
        "colab": {}
      },
      "source": [
        "a = 'Welcome to '\n",
        "b = 'Python class '\n",
        "c = 'lab '\n",
        "d = 1"
      ],
      "execution_count": 0,
      "outputs": []
    },
    {
      "cell_type": "code",
      "metadata": {
        "id": "Dw-U86lqNGaj",
        "colab_type": "code",
        "colab": {
          "base_uri": "https://localhost:8080/",
          "height": 34
        },
        "outputId": "eeb669f7-5b7c-4bda-f5ef-150e0d9536a4"
      },
      "source": [
        "# YOUR CODE HERE\n",
        "z=a+b+c+str(2)\n",
        "z"
      ],
      "execution_count": 2,
      "outputs": [
        {
          "output_type": "execute_result",
          "data": {
            "text/plain": [
              "'Welcome to Python class lab 2'"
            ]
          },
          "metadata": {
            "tags": []
          },
          "execution_count": 2
        }
      ]
    },
    {
      "cell_type": "markdown",
      "metadata": {
        "id": "_AcMOTfPNGat",
        "colab_type": "text"
      },
      "source": [
        "#### EXERCISE 2a: Too many donuts?\n",
        "*Objective: handle strings and integers, test conditions using if.*\n",
        "\n",
        "Write a program that will:\n",
        "1. Define a variable 'donuts_eaten' and assign your choice of number to it.\n",
        "2. Print a string of the form 'Donuts consumed: `<count>`'. However if 10 or more donuts were eaten, then use the word 'many' instead of the actual count."
      ]
    },
    {
      "cell_type": "code",
      "metadata": {
        "id": "oHhkLidzNGau",
        "colab_type": "code",
        "colab": {
          "base_uri": "https://localhost:8080/",
          "height": 34
        },
        "outputId": "d82f40e5-401c-4048-cea3-9f305d6e8e63"
      },
      "source": [
        "# YOUR CODE HERE:\n",
        "\n",
        "donuts_eaten = 12\n",
        "\n",
        "response = donuts_eaten\n",
        "\n",
        "if donuts_eaten >= 10:\n",
        "    response = 'many'\n",
        "\n",
        "print('Donuts consumed: ', response)"
      ],
      "execution_count": 3,
      "outputs": [
        {
          "output_type": "stream",
          "text": [
            "Donuts consumed:  many\n"
          ],
          "name": "stdout"
        }
      ]
    },
    {
      "cell_type": "markdown",
      "metadata": {
        "id": "DjKsBfjINGay",
        "colab_type": "text"
      },
      "source": [
        "#### EXERCISE 2b: Age calculator\n",
        "*Objective: Define variables, do basic math, convert data types.*\n",
        "    \n",
        "Write a program that will:\n",
        "1. Define a variable 'birth_year'\n",
        "2. Define a variable 'current_year'\n",
        "3. Calculate the person's age from these two\n",
        "4. Print the output in format (\"You are x years old.\")"
      ]
    },
    {
      "cell_type": "code",
      "metadata": {
        "id": "ra0WNAbRNGaz",
        "colab_type": "code",
        "colab": {
          "base_uri": "https://localhost:8080/",
          "height": 34
        },
        "outputId": "0b15b569-d4e4-408a-987a-f6716df99ace"
      },
      "source": [
        "# YOUR CODE HERE:\n",
        "\n",
        "birth_year = 1956\n",
        "current_year = 2019\n",
        "\n",
        "age = current_year - birth_year\n",
        "\n",
        "print(\"You are {} years old.\".format(age))"
      ],
      "execution_count": 4,
      "outputs": [
        {
          "output_type": "stream",
          "text": [
            "You are 63 years old.\n"
          ],
          "name": "stdout"
        }
      ]
    },
    {
      "cell_type": "markdown",
      "metadata": {
        "id": "8gdnjyzBNGbF",
        "colab_type": "text"
      },
      "source": [
        "#### EXERCISE 2c: Higher or lower?\n",
        "*Objective: Test conditions, use a counter.*\n",
        "\n",
        "Write a program to:\n",
        "1. Generate a random number (kept secret from the user).\n",
        "2. Prompt the user \"Guess a number\" and record their input.\n",
        "3. Tell them if they were correct, too high, or too low.\n",
        "\n",
        "BONUS POINTS: limit the number of guesses to 5."
      ]
    },
    {
      "cell_type": "code",
      "metadata": {
        "id": "fIK_pHUYNGbG",
        "colab_type": "code",
        "colab": {
          "base_uri": "https://localhost:8080/",
          "height": 51
        },
        "outputId": "70115025-e3ba-44c0-d11a-b657e780d9e5"
      },
      "source": [
        "# YOUR CODE HERE:\n",
        "\n",
        "import random\n",
        "random_number = random.randint(0,10)\n",
        "\n",
        "user_guess = int(input('Guess a number: '))\n",
        "if user_guess > random_number:\n",
        "    print(\"Too high\")\n",
        "elif user_guess < random_number:\n",
        "    print(\"Too low\")\n",
        "else:\n",
        "    print(\"Correct\")"
      ],
      "execution_count": 5,
      "outputs": [
        {
          "output_type": "stream",
          "text": [
            "Guess a number: 9\n",
            "Too high\n"
          ],
          "name": "stdout"
        }
      ]
    },
    {
      "cell_type": "markdown",
      "metadata": {
        "id": "G8xGX0scNGbM",
        "colab_type": "text"
      },
      "source": [
        "#### EXERCISE 3: Tourist agency\n",
        "*Objective: Iterate through lists, use string formatting.*\n",
        "\n",
        "Write a program to print \"Welcome to beautiful {country}!\" for each country in the list."
      ]
    },
    {
      "cell_type": "code",
      "metadata": {
        "id": "9IbQvE2CNGbc",
        "colab_type": "code",
        "colab": {}
      },
      "source": [
        "country_list = ['Kazakhstan','Kenya', 'Kiribati', \"Korea (DPRK)\", 'Korea (ROC)', 'Kosovo', 'Kuwait', 'Kyrgyzstan']"
      ],
      "execution_count": 0,
      "outputs": []
    },
    {
      "cell_type": "code",
      "metadata": {
        "id": "E9Ro-qNiNGbh",
        "colab_type": "code",
        "colab": {
          "base_uri": "https://localhost:8080/",
          "height": 153
        },
        "outputId": "e1a5ca5d-43be-429a-932c-346335853338"
      },
      "source": [
        "# YOUR CODE HERE:\n",
        "\n",
        "for country in country_list:\n",
        "  print (\"Welcome to beautiful\", country, \"!\")"
      ],
      "execution_count": 8,
      "outputs": [
        {
          "output_type": "stream",
          "text": [
            "Welcome to beautiful Kazakhstan !\n",
            "Welcome to beautiful Kenya !\n",
            "Welcome to beautiful Kiribati !\n",
            "Welcome to beautiful Korea (DPRK) !\n",
            "Welcome to beautiful Korea (ROC) !\n",
            "Welcome to beautiful Kosovo !\n",
            "Welcome to beautiful Kuwait !\n",
            "Welcome to beautiful Kyrgyzstan !\n"
          ],
          "name": "stdout"
        }
      ]
    },
    {
      "cell_type": "markdown",
      "metadata": {
        "id": "mkay6bA4NGbm",
        "colab_type": "text"
      },
      "source": [
        "#### EXERCISE 4: Dog's dinner\n",
        "*Objective: Practice string manipulation*\n",
        "\n",
        "1. Define two strings, a and b.\n",
        "2. Your program should return a single string with a and b separated by a space, except swap the first 2 chars of each string.\n",
        "* eg. 'dog', 'dinner' -> 'dig donner'\n"
      ]
    },
    {
      "cell_type": "code",
      "metadata": {
        "id": "C2ZdJi_hNGbn",
        "colab_type": "code",
        "colab": {
          "base_uri": "https://localhost:8080/",
          "height": 34
        },
        "outputId": "199a6963-a207-4e8b-8d9f-6d64242daec5"
      },
      "source": [
        "# YOUR CODE HERE:\n",
        "\n",
        "a = 'dog'\n",
        "b = 'dinner'\n",
        "\n",
        "new_first_word = b[:2] + a[2:]\n",
        "new_second_word = a[:2] + b[2:]\n",
        "\n",
        "print(new_first_word + ' ' + new_second_word)"
      ],
      "execution_count": 9,
      "outputs": [
        {
          "output_type": "stream",
          "text": [
            "dig donner\n"
          ],
          "name": "stdout"
        }
      ]
    },
    {
      "cell_type": "markdown",
      "metadata": {
        "id": "U5N0v4CPNGbq",
        "colab_type": "text"
      },
      "source": [
        "#### EXERCISE 5: FizzBuzz\n",
        "*Objective: Get a job at Amazon! (they use it in software engineer interviews)*\n",
        "\n",
        "Write a script to:\n",
        "\n",
        "* Print out the numbers from 1 to 20 but replacing numbers with 'Fizz' if divisible by 3, 'Buzz' if divisible by '5', and 'FizzBuzz' if divisible by 3 and 5.\n",
        "\n",
        "Hint: the 'mod' operator, denoted %, is used to check divisibility. Example: 10 % 2 == 0."
      ]
    },
    {
      "cell_type": "code",
      "metadata": {
        "id": "iPzzfWE0NGbs",
        "colab_type": "code",
        "colab": {
          "base_uri": "https://localhost:8080/",
          "height": 357
        },
        "outputId": "405a4fcc-17c5-473b-b6ee-b057b35b0939"
      },
      "source": [
        "# YOUR CODE HERE:\n",
        "\n",
        "for n in range(1,21):\n",
        "    if n % 3 == 0 and n % 5 == 0:\n",
        "        print('FizzBuzz')\n",
        "    elif n % 3 == 0:\n",
        "        print('Fizz')\n",
        "    elif n % 5 == 0:\n",
        "        print('Buzz')\n",
        "    else:\n",
        "        print(n)"
      ],
      "execution_count": 10,
      "outputs": [
        {
          "output_type": "stream",
          "text": [
            "1\n",
            "2\n",
            "Fizz\n",
            "4\n",
            "Buzz\n",
            "Fizz\n",
            "7\n",
            "8\n",
            "Fizz\n",
            "Buzz\n",
            "11\n",
            "Fizz\n",
            "13\n",
            "14\n",
            "FizzBuzz\n",
            "16\n",
            "17\n",
            "Fizz\n",
            "19\n",
            "Buzz\n"
          ],
          "name": "stdout"
        }
      ]
    },
    {
      "cell_type": "code",
      "metadata": {
        "id": "loL7idkRR2mM",
        "colab_type": "code",
        "colab": {}
      },
      "source": [
        ""
      ],
      "execution_count": 0,
      "outputs": []
    }
  ]
}