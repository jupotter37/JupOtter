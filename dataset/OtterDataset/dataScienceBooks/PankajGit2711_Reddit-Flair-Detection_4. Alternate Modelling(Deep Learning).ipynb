{
 "cells": [
  {
   "cell_type": "code",
   "execution_count": 1,
   "metadata": {},
   "outputs": [],
   "source": [
    "import numpy as np\n",
    "import pandas as pd\n",
    "import matplotlib.pyplot as plt\n",
    "import tensorflow as tf\n",
    "from tensorflow.keras.preprocessing.text import Tokenizer\n",
    "from tensorflow.keras.preprocessing.sequence import pad_sequences\n",
    "from tensorflow.keras.models import Sequential\n",
    "from tensorflow.keras.layers import Embedding, SpatialDropout1D, LSTM, Dense"
   ]
  },
  {
   "cell_type": "code",
   "execution_count": 2,
   "metadata": {},
   "outputs": [
    {
     "data": {
      "text/html": [
       "<div>\n",
       "<style scoped>\n",
       "    .dataframe tbody tr th:only-of-type {\n",
       "        vertical-align: middle;\n",
       "    }\n",
       "\n",
       "    .dataframe tbody tr th {\n",
       "        vertical-align: top;\n",
       "    }\n",
       "\n",
       "    .dataframe thead th {\n",
       "        text-align: right;\n",
       "    }\n",
       "</style>\n",
       "<table border=\"1\" class=\"dataframe\">\n",
       "  <thead>\n",
       "    <tr style=\"text-align: right;\">\n",
       "      <th></th>\n",
       "      <th>RID</th>\n",
       "      <th>Title</th>\n",
       "      <th>URL</th>\n",
       "      <th>Score</th>\n",
       "      <th>Comment_Score</th>\n",
       "      <th>Author</th>\n",
       "      <th>Content</th>\n",
       "      <th>Adult</th>\n",
       "      <th>Flair</th>\n",
       "      <th>Length_Title</th>\n",
       "      <th>Length_Content</th>\n",
       "    </tr>\n",
       "  </thead>\n",
       "  <tbody>\n",
       "    <tr>\n",
       "      <th>0</th>\n",
       "      <td>g89s9t</td>\n",
       "      <td>Website find getting paid fairly comparing sal...</td>\n",
       "      <td>/r/india/comments/g89s9t/website_to_find_out_i...</td>\n",
       "      <td>2</td>\n",
       "      <td>0</td>\n",
       "      <td>ngranja19</td>\n",
       "      <td>nan</td>\n",
       "      <td>False</td>\n",
       "      <td>Business/Finance</td>\n",
       "      <td>84</td>\n",
       "      <td>0</td>\n",
       "    </tr>\n",
       "    <tr>\n",
       "      <th>1</th>\n",
       "      <td>g89rnl</td>\n",
       "      <td>Happy Akshaya Tritiya Akshaya Trititya 2020 Fe...</td>\n",
       "      <td>/r/india/comments/g89rnl/happy_akshaya_tritiya...</td>\n",
       "      <td>1</td>\n",
       "      <td>0</td>\n",
       "      <td>vaultuptechnologies</td>\n",
       "      <td>removed</td>\n",
       "      <td>False</td>\n",
       "      <td>AskIndia</td>\n",
       "      <td>74</td>\n",
       "      <td>7</td>\n",
       "    </tr>\n",
       "    <tr>\n",
       "      <th>2</th>\n",
       "      <td>g89ni7</td>\n",
       "      <td>A new turf war erupted Pakistan sponsored terr...</td>\n",
       "      <td>/r/india/comments/g89ni7/a_new_turf_war_has_er...</td>\n",
       "      <td>8</td>\n",
       "      <td>6</td>\n",
       "      <td>aviakki1</td>\n",
       "      <td>nan</td>\n",
       "      <td>False</td>\n",
       "      <td>Non-Political</td>\n",
       "      <td>166</td>\n",
       "      <td>0</td>\n",
       "    </tr>\n",
       "    <tr>\n",
       "      <th>3</th>\n",
       "      <td>g89j51</td>\n",
       "      <td>Special flights hospital beds Centre preps fly...</td>\n",
       "      <td>/r/india/comments/g89j51/special_flights_hospi...</td>\n",
       "      <td>13</td>\n",
       "      <td>6</td>\n",
       "      <td>silentr3b31</td>\n",
       "      <td>nan</td>\n",
       "      <td>False</td>\n",
       "      <td>Politics</td>\n",
       "      <td>75</td>\n",
       "      <td>0</td>\n",
       "    </tr>\n",
       "    <tr>\n",
       "      <th>4</th>\n",
       "      <td>g89iup</td>\n",
       "      <td>24 Vijayawada contract virus man hosts games h...</td>\n",
       "      <td>/r/india/comments/g89iup/24_in_vijayawada_cont...</td>\n",
       "      <td>65</td>\n",
       "      <td>8</td>\n",
       "      <td>drgnfly61</td>\n",
       "      <td>nan</td>\n",
       "      <td>False</td>\n",
       "      <td>Coronavirus</td>\n",
       "      <td>50</td>\n",
       "      <td>0</td>\n",
       "    </tr>\n",
       "  </tbody>\n",
       "</table>\n",
       "</div>"
      ],
      "text/plain": [
       "      RID                                              Title  \\\n",
       "0  g89s9t  Website find getting paid fairly comparing sal...   \n",
       "1  g89rnl  Happy Akshaya Tritiya Akshaya Trititya 2020 Fe...   \n",
       "2  g89ni7  A new turf war erupted Pakistan sponsored terr...   \n",
       "3  g89j51  Special flights hospital beds Centre preps fly...   \n",
       "4  g89iup  24 Vijayawada contract virus man hosts games h...   \n",
       "\n",
       "                                                 URL  Score  Comment_Score  \\\n",
       "0  /r/india/comments/g89s9t/website_to_find_out_i...      2              0   \n",
       "1  /r/india/comments/g89rnl/happy_akshaya_tritiya...      1              0   \n",
       "2  /r/india/comments/g89ni7/a_new_turf_war_has_er...      8              6   \n",
       "3  /r/india/comments/g89j51/special_flights_hospi...     13              6   \n",
       "4  /r/india/comments/g89iup/24_in_vijayawada_cont...     65              8   \n",
       "\n",
       "                Author  Content  Adult             Flair  Length_Title  \\\n",
       "0            ngranja19      nan  False  Business/Finance            84   \n",
       "1  vaultuptechnologies  removed  False          AskIndia            74   \n",
       "2             aviakki1      nan  False     Non-Political           166   \n",
       "3          silentr3b31      nan  False          Politics            75   \n",
       "4            drgnfly61      nan  False       Coronavirus            50   \n",
       "\n",
       "   Length_Content  \n",
       "0               0  \n",
       "1               7  \n",
       "2               0  \n",
       "3               0  \n",
       "4               0  "
      ]
     },
     "execution_count": 2,
     "metadata": {},
     "output_type": "execute_result"
    }
   ],
   "source": [
    "data = pd.read_csv(\"Cleaned Reddit Data AS.csv\")\n",
    "data.drop(\"Unnamed: 0\", axis=1, inplace=True)\n",
    "data.Title = data.Title.astype(str)\n",
    "data.Content = data.Content.astype(str)\n",
    "data.head()"
   ]
  },
  {
   "cell_type": "code",
   "execution_count": 3,
   "metadata": {},
   "outputs": [],
   "source": [
    "data.fillna(\"\", inplace=True)"
   ]
  },
  {
   "cell_type": "code",
   "execution_count": 4,
   "metadata": {},
   "outputs": [
    {
     "name": "stdout",
     "output_type": "stream",
     "text": [
      "<class 'pandas.core.frame.DataFrame'>\n",
      "RangeIndex: 21606 entries, 0 to 21605\n",
      "Data columns (total 11 columns):\n",
      "RID               21606 non-null object\n",
      "Title             21606 non-null object\n",
      "URL               21606 non-null object\n",
      "Score             21606 non-null int64\n",
      "Comment_Score     21606 non-null int64\n",
      "Author            21606 non-null object\n",
      "Content           21606 non-null object\n",
      "Adult             21606 non-null bool\n",
      "Flair             21606 non-null object\n",
      "Length_Title      21606 non-null int64\n",
      "Length_Content    21606 non-null int64\n",
      "dtypes: bool(1), int64(4), object(6)\n",
      "memory usage: 1.7+ MB\n"
     ]
    }
   ],
   "source": [
    "data.info()"
   ]
  },
  {
   "cell_type": "code",
   "execution_count": 5,
   "metadata": {},
   "outputs": [
    {
     "data": {
      "text/plain": [
       "array(['Business/Finance', 'AskIndia', 'Non-Political', 'Politics',\n",
       "       'Coronavirus', 'Policy/Economy', 'Food', 'Science/Technology',\n",
       "       'Photography', 'Scheduled', 'CAA-NRC-NPR', 'Sports'], dtype=object)"
      ]
     },
     "execution_count": 5,
     "metadata": {},
     "output_type": "execute_result"
    }
   ],
   "source": [
    "data['Flair'].unique()"
   ]
  },
  {
   "cell_type": "code",
   "execution_count": 6,
   "metadata": {},
   "outputs": [],
   "source": [
    "data.loc[data['Flair'] == 'Politics', 'Label'] = 0\n",
    "data.loc[data['Flair'] == 'Non-Political', 'Label'] = 1\n",
    "data.loc[data['Flair'] == 'Coronavirus', 'Label'] = 2\n",
    "data.loc[data['Flair'] == 'AskIndia', 'Label'] = 3\n",
    "data.loc[data['Flair'] == 'Policy/Economy', 'Label'] = 4\n",
    "data.loc[data['Flair'] == 'Business/Finance', 'Label'] = 5\n",
    "data.loc[data['Flair'] == 'AskIndia', 'Label'] = 6\n",
    "data.loc[data['Flair'] == 'Photography', 'Label'] = 7\n",
    "data.loc[data['Flair'] == 'CAA-NRC-NPR', 'Label'] = 8\n",
    "data.loc[data['Flair'] == 'Scheduled', 'Label'] = 9\n",
    "data.loc[data['Flair'] == 'Food', 'Label'] = 10\n",
    "data.loc[data['Flair'] == 'Sports', 'Label'] = 11\n",
    "data.loc[data['Flair'] == 'Science/Technology', 'Label'] = 12"
   ]
  },
  {
   "cell_type": "code",
   "execution_count": 7,
   "metadata": {},
   "outputs": [
    {
     "data": {
      "text/html": [
       "<div>\n",
       "<style scoped>\n",
       "    .dataframe tbody tr th:only-of-type {\n",
       "        vertical-align: middle;\n",
       "    }\n",
       "\n",
       "    .dataframe tbody tr th {\n",
       "        vertical-align: top;\n",
       "    }\n",
       "\n",
       "    .dataframe thead th {\n",
       "        text-align: right;\n",
       "    }\n",
       "</style>\n",
       "<table border=\"1\" class=\"dataframe\">\n",
       "  <thead>\n",
       "    <tr style=\"text-align: right;\">\n",
       "      <th></th>\n",
       "      <th>RID</th>\n",
       "      <th>Title</th>\n",
       "      <th>URL</th>\n",
       "      <th>Score</th>\n",
       "      <th>Comment_Score</th>\n",
       "      <th>Author</th>\n",
       "      <th>Content</th>\n",
       "      <th>Adult</th>\n",
       "      <th>Flair</th>\n",
       "      <th>Length_Title</th>\n",
       "      <th>Length_Content</th>\n",
       "      <th>Label</th>\n",
       "    </tr>\n",
       "  </thead>\n",
       "  <tbody>\n",
       "    <tr>\n",
       "      <th>0</th>\n",
       "      <td>g89s9t</td>\n",
       "      <td>Website find getting paid fairly comparing sal...</td>\n",
       "      <td>/r/india/comments/g89s9t/website_to_find_out_i...</td>\n",
       "      <td>2</td>\n",
       "      <td>0</td>\n",
       "      <td>ngranja19</td>\n",
       "      <td>nan</td>\n",
       "      <td>False</td>\n",
       "      <td>Business/Finance</td>\n",
       "      <td>84</td>\n",
       "      <td>0</td>\n",
       "      <td>5.0</td>\n",
       "    </tr>\n",
       "    <tr>\n",
       "      <th>1</th>\n",
       "      <td>g89rnl</td>\n",
       "      <td>Happy Akshaya Tritiya Akshaya Trititya 2020 Fe...</td>\n",
       "      <td>/r/india/comments/g89rnl/happy_akshaya_tritiya...</td>\n",
       "      <td>1</td>\n",
       "      <td>0</td>\n",
       "      <td>vaultuptechnologies</td>\n",
       "      <td>removed</td>\n",
       "      <td>False</td>\n",
       "      <td>AskIndia</td>\n",
       "      <td>74</td>\n",
       "      <td>7</td>\n",
       "      <td>6.0</td>\n",
       "    </tr>\n",
       "    <tr>\n",
       "      <th>2</th>\n",
       "      <td>g89ni7</td>\n",
       "      <td>A new turf war erupted Pakistan sponsored terr...</td>\n",
       "      <td>/r/india/comments/g89ni7/a_new_turf_war_has_er...</td>\n",
       "      <td>8</td>\n",
       "      <td>6</td>\n",
       "      <td>aviakki1</td>\n",
       "      <td>nan</td>\n",
       "      <td>False</td>\n",
       "      <td>Non-Political</td>\n",
       "      <td>166</td>\n",
       "      <td>0</td>\n",
       "      <td>1.0</td>\n",
       "    </tr>\n",
       "    <tr>\n",
       "      <th>3</th>\n",
       "      <td>g89j51</td>\n",
       "      <td>Special flights hospital beds Centre preps fly...</td>\n",
       "      <td>/r/india/comments/g89j51/special_flights_hospi...</td>\n",
       "      <td>13</td>\n",
       "      <td>6</td>\n",
       "      <td>silentr3b31</td>\n",
       "      <td>nan</td>\n",
       "      <td>False</td>\n",
       "      <td>Politics</td>\n",
       "      <td>75</td>\n",
       "      <td>0</td>\n",
       "      <td>0.0</td>\n",
       "    </tr>\n",
       "    <tr>\n",
       "      <th>4</th>\n",
       "      <td>g89iup</td>\n",
       "      <td>24 Vijayawada contract virus man hosts games h...</td>\n",
       "      <td>/r/india/comments/g89iup/24_in_vijayawada_cont...</td>\n",
       "      <td>65</td>\n",
       "      <td>8</td>\n",
       "      <td>drgnfly61</td>\n",
       "      <td>nan</td>\n",
       "      <td>False</td>\n",
       "      <td>Coronavirus</td>\n",
       "      <td>50</td>\n",
       "      <td>0</td>\n",
       "      <td>2.0</td>\n",
       "    </tr>\n",
       "  </tbody>\n",
       "</table>\n",
       "</div>"
      ],
      "text/plain": [
       "      RID                                              Title  \\\n",
       "0  g89s9t  Website find getting paid fairly comparing sal...   \n",
       "1  g89rnl  Happy Akshaya Tritiya Akshaya Trititya 2020 Fe...   \n",
       "2  g89ni7  A new turf war erupted Pakistan sponsored terr...   \n",
       "3  g89j51  Special flights hospital beds Centre preps fly...   \n",
       "4  g89iup  24 Vijayawada contract virus man hosts games h...   \n",
       "\n",
       "                                                 URL  Score  Comment_Score  \\\n",
       "0  /r/india/comments/g89s9t/website_to_find_out_i...      2              0   \n",
       "1  /r/india/comments/g89rnl/happy_akshaya_tritiya...      1              0   \n",
       "2  /r/india/comments/g89ni7/a_new_turf_war_has_er...      8              6   \n",
       "3  /r/india/comments/g89j51/special_flights_hospi...     13              6   \n",
       "4  /r/india/comments/g89iup/24_in_vijayawada_cont...     65              8   \n",
       "\n",
       "                Author  Content  Adult             Flair  Length_Title  \\\n",
       "0            ngranja19      nan  False  Business/Finance            84   \n",
       "1  vaultuptechnologies  removed  False          AskIndia            74   \n",
       "2             aviakki1      nan  False     Non-Political           166   \n",
       "3          silentr3b31      nan  False          Politics            75   \n",
       "4            drgnfly61      nan  False       Coronavirus            50   \n",
       "\n",
       "   Length_Content  Label  \n",
       "0               0    5.0  \n",
       "1               7    6.0  \n",
       "2               0    1.0  \n",
       "3               0    0.0  \n",
       "4               0    2.0  "
      ]
     },
     "execution_count": 7,
     "metadata": {},
     "output_type": "execute_result"
    }
   ],
   "source": [
    "data.head()"
   ]
  },
  {
   "cell_type": "code",
   "execution_count": 8,
   "metadata": {},
   "outputs": [],
   "source": [
    "x = data['Title'] + data['Content'] + data['URL']\n",
    "y = np.array(data['Label'])"
   ]
  },
  {
   "cell_type": "code",
   "execution_count": 9,
   "metadata": {},
   "outputs": [],
   "source": [
    "vocab_size = 5000\n",
    "embedding_dim = 64\n",
    "max_length = 200"
   ]
  },
  {
   "cell_type": "code",
   "execution_count": 10,
   "metadata": {},
   "outputs": [
    {
     "name": "stdout",
     "output_type": "stream",
     "text": [
      "Found 77671 unique tokens.\n"
     ]
    }
   ],
   "source": [
    "tokenizer = Tokenizer(num_words=vocab_size, filters='!\"#$%&()*+,-./:;<=>?@[\\\\]^_`{|}~\\t\\n', lower=True)\n",
    "tokenizer.fit_on_texts(x)\n",
    "sequences = tokenizer.texts_to_sequences(x)\n",
    "word_index = tokenizer.word_index\n",
    "print('Found %s unique tokens.' % len(word_index))"
   ]
  },
  {
   "cell_type": "code",
   "execution_count": 11,
   "metadata": {},
   "outputs": [],
   "source": [
    "X = pad_sequences(sequences, maxlen=max_length, padding='post')"
   ]
  },
  {
   "cell_type": "code",
   "execution_count": 12,
   "metadata": {},
   "outputs": [],
   "source": [
    "from sklearn.model_selection import train_test_split\n",
    "xtrain, xtest, ytrain, ytest = train_test_split(X, y, test_size=0.2)"
   ]
  },
  {
   "cell_type": "code",
   "execution_count": 13,
   "metadata": {},
   "outputs": [
    {
     "name": "stdout",
     "output_type": "stream",
     "text": [
      "(<class 'numpy.ndarray'>, <class 'numpy.ndarray'>, <class 'numpy.ndarray'>, <class 'numpy.ndarray'>)\n"
     ]
    }
   ],
   "source": [
    "print((type(xtrain), type(ytrain), type(xtest), type(ytest)))"
   ]
  },
  {
   "cell_type": "code",
   "execution_count": 14,
   "metadata": {},
   "outputs": [
    {
     "name": "stdout",
     "output_type": "stream",
     "text": [
      "Model: \"sequential\"\n",
      "_________________________________________________________________\n",
      "Layer (type)                 Output Shape              Param #   \n",
      "=================================================================\n",
      "embedding (Embedding)        (None, None, 64)          320000    \n",
      "_________________________________________________________________\n",
      "bidirectional (Bidirectional (None, 128)               66048     \n",
      "_________________________________________________________________\n",
      "dense (Dense)                (None, 64)                8256      \n",
      "_________________________________________________________________\n",
      "dense_1 (Dense)              (None, 13)                845       \n",
      "=================================================================\n",
      "Total params: 395,149\n",
      "Trainable params: 395,149\n",
      "Non-trainable params: 0\n",
      "_________________________________________________________________\n"
     ]
    }
   ],
   "source": [
    "model = tf.keras.Sequential([\n",
    "    tf.keras.layers.Embedding(vocab_size, embedding_dim),\n",
    "    tf.keras.layers.Bidirectional(tf.keras.layers.LSTM(embedding_dim)),\n",
    "    tf.keras.layers.Dense(embedding_dim, activation='relu'),\n",
    "    tf.keras.layers.Dense(13,activation='softmax')\n",
    "])\n",
    "model.summary()"
   ]
  },
  {
   "cell_type": "code",
   "execution_count": 15,
   "metadata": {},
   "outputs": [],
   "source": [
    "model.compile(loss='sparse_categorical_crossentropy', optimizer='adam', metrics=['accuracy'])"
   ]
  },
  {
   "cell_type": "code",
   "execution_count": 16,
   "metadata": {},
   "outputs": [
    {
     "name": "stdout",
     "output_type": "stream",
     "text": [
      "Train on 17284 samples, validate on 4322 samples\n",
      "Epoch 1/10\n",
      "17284/17284 [==============================] - 84s 5ms/sample - loss: 1.6384 - accuracy: 0.4464 - val_loss: 1.4721 - val_accuracy: 0.5104\n",
      "Epoch 2/10\n",
      "17284/17284 [==============================] - 75s 4ms/sample - loss: 1.3146 - accuracy: 0.5731 - val_loss: 1.3800 - val_accuracy: 0.5366\n",
      "Epoch 3/10\n",
      "17284/17284 [==============================] - 76s 4ms/sample - loss: 1.1218 - accuracy: 0.6324 - val_loss: 1.4120 - val_accuracy: 0.5287\n",
      "Epoch 4/10\n",
      "17284/17284 [==============================] - 77s 4ms/sample - loss: 0.9837 - accuracy: 0.6773 - val_loss: 1.4402 - val_accuracy: 0.5275\n",
      "Epoch 5/10\n",
      "17284/17284 [==============================] - 78s 5ms/sample - loss: 0.8774 - accuracy: 0.7080 - val_loss: 1.5384 - val_accuracy: 0.5180\n",
      "Epoch 6/10\n",
      "17284/17284 [==============================] - 78s 5ms/sample - loss: 0.7919 - accuracy: 0.7321 - val_loss: 1.6155 - val_accuracy: 0.5139\n",
      "Epoch 7/10\n",
      "17284/17284 [==============================] - 79s 5ms/sample - loss: 0.7097 - accuracy: 0.7604 - val_loss: 1.7701 - val_accuracy: 0.5069\n",
      "Epoch 8/10\n",
      "17284/17284 [==============================] - 78s 5ms/sample - loss: 0.6486 - accuracy: 0.7805 - val_loss: 1.9242 - val_accuracy: 0.5083\n",
      "Epoch 9/10\n",
      "17284/17284 [==============================] - 77s 4ms/sample - loss: 0.5825 - accuracy: 0.8018 - val_loss: 2.0307 - val_accuracy: 0.4995\n",
      "Epoch 10/10\n",
      "17284/17284 [==============================] - 78s 5ms/sample - loss: 0.5276 - accuracy: 0.8215 - val_loss: 2.2310 - val_accuracy: 0.4954\n"
     ]
    }
   ],
   "source": [
    "lstm_model = model.fit(xtrain, ytrain, epochs=10, validation_data=(xtest, ytest), verbose=1)"
   ]
  },
  {
   "cell_type": "code",
   "execution_count": 17,
   "metadata": {},
   "outputs": [],
   "source": [
    "def plot_graphs(lstm_model, string):\n",
    "    plt.plot(lstm_model.history[string])\n",
    "    plt.plot(lstm_model.history['val_'+string])\n",
    "    plt.xlabel(\"Epochs\")\n",
    "    plt.ylabel(string)\n",
    "    plt.legend([string, 'val_'+string])\n",
    "    plt.show()"
   ]
  },
  {
   "cell_type": "code",
   "execution_count": 18,
   "metadata": {},
   "outputs": [
    {
     "data": {
      "image/png": "[encoded data removed]",
      "text/plain": [
       "<Figure size 432x288 with 1 Axes>"
      ]
     },
     "metadata": {
      "needs_background": "light"
     },
     "output_type": "display_data"
    },
    {
     "data": {
      "image/png": "[encoded data removed]",
      "text/plain": [
       "<Figure size 432x288 with 1 Axes>"
      ]
     },
     "metadata": {
      "needs_background": "light"
     },
     "output_type": "display_data"
    }
   ],
   "source": [
    "plot_graphs(lstm_model, \"accuracy\")\n",
    "plot_graphs(lstm_model, \"loss\")"
   ]
  }
 ],
 "metadata": {
  "kernelspec": {
   "display_name": "Python 3",
   "language": "python",
   "name": "python3"
  },
  "language_info": {
   "codemirror_mode": {
    "name": "ipython",
    "version": 3
   },
   "file_extension": ".py",
   "mimetype": "text/x-python",
   "name": "python",
   "nbconvert_exporter": "python",
   "pygments_lexer": "ipython3",
   "version": "3.7.3"
  }
 },
 "nbformat": 4,
 "nbformat_minor": 2
}
