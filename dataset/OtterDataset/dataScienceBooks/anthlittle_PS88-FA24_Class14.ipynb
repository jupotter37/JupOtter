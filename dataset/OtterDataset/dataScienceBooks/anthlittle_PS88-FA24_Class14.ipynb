{
 "cells": [
  {
   "cell_type": "code",
   "execution_count": null,
   "id": "4275f323",
   "metadata": {},
   "outputs": [],
   "source": [
    "import numpy as np\n",
    "import pandas as pd\n",
    "import seaborn as sns\n",
    "import statsmodels.formula.api as smf\n",
    "import matplotlib.pyplot as plt\n",
    "%matplotlib inline"
   ]
  },
  {
   "cell_type": "markdown",
   "id": "daa88f67",
   "metadata": {},
   "source": [
    "# PS 88 Week 14: Practicalities\n",
    "\n",
    "This week we will develop some practical skills for the third part of the project, and any potential data work you do in the future. We will cover a lot of ground, and provide some links for futher reading along the way.\n",
    "\n",
    "As a running example, we will seek to replicate the first graphs I showed you in class, which plotted gun ownership and gun deaths across US states and different countries."
   ]
  },
  {
   "cell_type": "markdown",
   "id": "af93dc6e",
   "metadata": {},
   "source": [
    "## Part 1. Finding data\n",
    "\n",
    "There is no magical formula for finding data, though something close may be \"use google.\"\n",
    "\n",
    "A good formula if you are looking for one variable is to search for \"[description of variable] by [level of observation] data\". You may can also trying using \"table\" or \"csv\" instead of or in addition to \"data\". \n",
    "\n",
    "If you are interested in a particular time period/country/etc. you can add that to the search as well.\n",
    "\n",
    "For example, when I search for \"gun deaths by us state\" <a href=\"https://www.cdc.gov/nchs/pressroom/sosmap/firearm_mortality/firearm.htm\">this</a> is the first source that comes up.\n",
    "\n",
    "Follow the link and poke around a bit. Note it produces some maps, which is nice, but we want the raw data. Fortunately there is a \"Download Data (csv)\" button. Click that, which will download the file for you.\n",
    "\n",
    "If you go to the folder where downloads go, and double click on the file, it will probably try to open it in Excel or a text editor. \n",
    "\n",
    "Next we will put this on datahub so we can import it in a notebook. Before that, some more general tips:\n",
    "- We want to be sure that our data come from reliable sources. There are no absolute rules here, but a government site like the CDC is probably pretty trustworthy. If this was a serious research project we would want to consult multiple sources and check they are consistent, if possible. \n",
    "- A good source for political science data is <a href=\"https://www.icpsr.umich.edu/web/pages/\">ICPSR</a>.\n",
    "- If you are struggling to find data you are looking for, reach out to your professors or GSIs: we will often have a good sense of where to search or who to go ask."
   ]
  },
  {
   "cell_type": "markdown",
   "id": "808e7b94",
   "metadata": {},
   "source": [
    "## Part 2. Getting data on the datahub.\n",
    "\n",
    "You may have noticed that whenever we are working on notebooks there is a \"jupyterhub\" icon in the top left corner. This is a super valuable resources provided for members of the Berkeley community where we can use Python and other programming langauges through our browsers. It also makes it easy for me to share notebooks with you!\n",
    "\n",
    "As you may know, you have a \"personal\" datahub site that includes all of the files we have worked on in this class, and potentially some others from other classes you have taken. \n",
    "\n",
    "Open a new browser tab/winder and go to datahub.berkeley.edu. You should see a folder called \"PS-88-FA23\". If you click this, it will take you to a directory with all of the work we have done so far in class. Pause for a moment to be proud of all the work you have done!\n",
    "\n",
    "Now click on the \"week14\" folder. That folder should contain a file called Class14.ipynb: that is this file right here. There is also a folder called \"data\". If there isn't you can create one by clicking the \"New\" button in the top right and then going to \"folder\". Click the box next to \"Untitled Folder\" and then the \"Rename\" button.\n",
    "\n",
    "Click on the data folder, which has a few files we will use later. \n",
    "\n",
    "Now we want to upload the data file. There is a button near the top right called Upload. Click that, and then find the data file you just downloaded. This creates a little dialog box with the current name of the file \"data-table.csv\" (maybe with a number in parenthesis after table). This is pretty uninformative, so go into the box and rename it \"gundeaths.csv\". Then click the blue upload button. Now it is up!\n",
    "\n",
    "Any file you upload to datahub can be accessed by a notebook you are running on datahub. Though it is good practice to keep the data and the notebook that uses it in the same directory, or put the data files in a subdirectory.\n",
    "\n"
   ]
  },
  {
   "cell_type": "markdown",
   "id": "07d27724",
   "metadata": {},
   "source": [
    "## Part 3. Loading the data\n",
    "\n",
    "Now we are ready to run some code that will look familiar. We will use the `pd.read_csv` function. The only difference is that this time you were the one to put the data file where it needs to be! \n",
    "\n",
    "If you put the .csv file in the same directory as your notebook, you could load it up with `pd.read_csv(\"gundeaths.csv\")`. That is, by default this function will \"look\" for the data file in the same directory as the notebook. Since we put it in a folder called \"data\", we instead load it up with:"
   ]
  },
  {
   "cell_type": "code",
   "execution_count": null,
   "id": "902a0049",
   "metadata": {},
   "outputs": [],
   "source": [
    "gd = pd.read_csv(\"data/gundeaths.csv\")\n",
    "gd"
   ]
  },
  {
   "cell_type": "markdown",
   "id": "8a526807",
   "metadata": {},
   "source": [
    "Notice there are 500 rows here, corresponding to 10 years for of data for 50 states (no DC here, alas).\n",
    "\n",
    "The `DEATHS` column is a raw count of gun deaths, while `RATE` is the gun deaths per 100,000 residents (making some adjustments for differences in age, which we don't need to worry about). It will generally be better to work with these rates: if we don't adjust for population we may just find that there are more guns deaths in states with more guns just because both are correlated with population.\n",
    "\n",
    "We can do some general exploratory analysis on the trends of gun deaths by year:"
   ]
  },
  {
   "cell_type": "code",
   "execution_count": null,
   "id": "c96c2e4a",
   "metadata": {},
   "outputs": [],
   "source": [
    "sns.lineplot(x='YEAR', y='RATE', data=gd, ci=None)"
   ]
  },
  {
   "cell_type": "markdown",
   "id": "f0be5559",
   "metadata": {},
   "source": [
    "The reason the line is straight for a while is that there is a \"gap\" in the data from 2005 to 2014:"
   ]
  },
  {
   "cell_type": "code",
   "execution_count": null,
   "id": "ad69df88",
   "metadata": {},
   "outputs": [],
   "source": [
    "gd['YEAR'].value_counts()"
   ]
  },
  {
   "cell_type": "markdown",
   "id": "492cdc1b",
   "metadata": {},
   "source": [
    "**Plot the trends for some individual states by subsetting the data by state, i.e., change the `data=` argument to `data=gd[gd.STATE==X]` where X is a two letter postal code. If you make multiple plots, you can make a legend by adding a `label=X` argument to all lineplot calls, and then add `plt.legend()` at the end.**"
   ]
  },
  {
   "cell_type": "code",
   "execution_count": null,
   "id": "b3d959b4",
   "metadata": {},
   "outputs": [],
   "source": []
  },
  {
   "cell_type": "markdown",
   "id": "b9fe3a58",
   "metadata": {},
   "source": [
    "## Part 4: Merging on one variable"
   ]
  },
  {
   "cell_type": "markdown",
   "id": "14c68d42",
   "metadata": {},
   "source": [
    "Now we have one of our variables, and for multiple years. Let's see what we can find on gun ownership. Some quick googling turns up <a href=\"https://worldpopulationreview.com/state-rankings/gun-ownership-by-state\">this</a> site. Since I first found the data they added an annoying hurdle where you need to sign up for their newsletter to get the data. To spare you that, I put the data up on datahub for you, named \"gunowner2023.csv\". \n",
    "\n",
    "**Load up this data file using `pd.read_csv`, and name the dataframe `go`**"
   ]
  },
  {
   "cell_type": "code",
   "execution_count": null,
   "id": "c8a9627e",
   "metadata": {},
   "outputs": [],
   "source": []
  },
  {
   "cell_type": "markdown",
   "id": "89eda658",
   "metadata": {},
   "source": [
    "**Make a histogram of gun ownership rates**"
   ]
  },
  {
   "cell_type": "code",
   "execution_count": null,
   "id": "638bedd5",
   "metadata": {},
   "outputs": [],
   "source": []
  },
  {
   "cell_type": "markdown",
   "id": "1e9ff52a",
   "metadata": {},
   "source": [
    "Now we want to combine the gun ownership data with the gun homicide data. There are a few challenges here:\n",
    "- The gun ownership data is for 2023 and the gun homicide data has multiple years, ending in 2022. We will address this more later, but to keep things simple let's first try to get one dataframe that has the gun ownership data from 2023 and the gun homicide data from 2022. As we saw above, these tend to not dramatically change over time, so this will probably be reasonable to just get a sense of what the bivariate relationship looks like today.\n",
    "- A more practical problem is that these two data sources name the states in different ways: one uses two digit postal codes (\"CA\"), while the other has the full state name (\"California\"). Humans who know the US postal codes can figure out which corresponds to which, but we would rather have a computer do this for us, but because it is faster and less error prone.\n",
    "\n",
    "To solve the second problem, we are going to look for a third data set which provides a \"translation\" or \"crosswalk\" between the full state name and the two digit code. Googling \"state name abbreviations\" turns up <a href=\"https://worldpopulationreview.com/states/state-abbreviations\">this</a> site, which has a csv file that contains both the full name and the abbreviation, as we want. Again, so you don't need to sign up for an annoying newsletter, I've put this up in the data folder for you, with the name \"crosswalk.csv\".\n",
    "\n",
    "Now we can load it up:"
   ]
  },
  {
   "cell_type": "code",
   "execution_count": null,
   "id": "164467b8",
   "metadata": {},
   "outputs": [],
   "source": [
    "crosswalk = pd.read_csv(\"data/crosswalk.csv\")\n",
    "crosswalk"
   ]
  },
  {
   "cell_type": "markdown",
   "id": "f9cbc543",
   "metadata": {},
   "source": [
    "To keep things tidy, let's drop the \"abbrev\" column which has an abbreviation which doesn't show up in either dataframe we are using. "
   ]
  },
  {
   "cell_type": "code",
   "execution_count": null,
   "id": "b0108cab",
   "metadata": {},
   "outputs": [],
   "source": [
    "crosswalk = crosswalk.drop(\"abbrev\", axis=1)\n",
    "crosswalk.head()"
   ]
  },
  {
   "cell_type": "markdown",
   "id": "1ce69417",
   "metadata": {},
   "source": [
    "Now we are ready for our first merge, which will bring the two letter postal code into the gun ownership data (we could also start by merging the full name into the gun deaths data). \n",
    "\n",
    "Let's remind ourselves what the `go` dataframe looks like:"
   ]
  },
  {
   "cell_type": "code",
   "execution_count": null,
   "id": "0e86eb58",
   "metadata": {},
   "outputs": [],
   "source": [
    "go.head()"
   ]
  },
  {
   "cell_type": "markdown",
   "id": "a19f89fa",
   "metadata": {},
   "source": [
    "The simplest kinds of merges, like this one, correspond to cases where we have two dataframes where the rows correspond to the \"same thing\", here a state. Merging requires one or more variables to serve as a \"key\" which will tell us which rows correspond to the same case. To see what our key is, let's remind ourselves what the data frames look like:"
   ]
  },
  {
   "cell_type": "code",
   "execution_count": null,
   "id": "7402db81",
   "metadata": {},
   "outputs": [],
   "source": [
    "crosswalk.head()"
   ]
  },
  {
   "cell_type": "markdown",
   "id": "c55eb933",
   "metadata": {},
   "source": [
    "In merging our `go` dataframe with the `crosswalk` dataframe, our key will be the `State` variable, which corresponds to the full state name in both dataframes. Conveniently, it has the same column name in both dataframes; we will learn how to deal with the (very common) issue of different names later on. We will use the `pd.merge` function to combine the data from both columns, which in this case we can think of as adding the postal code to the gun ownership data. In general we will use four arguments when calling this function.\n",
    "- The first two arguments are the names of the two dataframes to merge. We will refer to the first one as the \"left\" dataframe and the second as the \"right\" dataframe.\n",
    "- Next we use an `on=` argument to say what column(s) we can use to indicate which rows belong together (the \"key(s)\").\n",
    "- Finally, we use a `how=` argument which tells us what \"kind\" of merge to do. We will see more examples later, but first we will do a \"left\" merge, which will typically treat the first dataframe we entered as the \"base\" data frame, and then add the data from the right dataframe when available. Overall, here is the syntax for our first merge:"
   ]
  },
  {
   "cell_type": "code",
   "execution_count": null,
   "id": "1ce6dce8",
   "metadata": {},
   "outputs": [],
   "source": [
    "mergel = pd.merge(go, crosswalk, on=\"state\", how=\"left\")\n",
    "mergel.head()"
   ]
  },
  {
   "cell_type": "markdown",
   "id": "c44ac9ee",
   "metadata": {},
   "source": [
    "Comparing across the \"State\" and \"Code\" variables, this seems to have worked! \n",
    "\n",
    "A good thing to check whenever doing a merge is the total number of rows/columns in the original and merged data files. We can do this with the `.shape` function."
   ]
  },
  {
   "cell_type": "code",
   "execution_count": null,
   "id": "41093e34",
   "metadata": {},
   "outputs": [],
   "source": [
    "go.shape"
   ]
  },
  {
   "cell_type": "markdown",
   "id": "d8b720ba",
   "metadata": {},
   "source": [
    "**Find the shape of the `crosswalk` data frame**"
   ]
  },
  {
   "cell_type": "code",
   "execution_count": null,
   "id": "481c04b0",
   "metadata": {},
   "outputs": [],
   "source": []
  },
  {
   "cell_type": "markdown",
   "id": "9c2357e5",
   "metadata": {},
   "source": [
    "This tells us that the gun ownership data file had 50 observations, while the crosswalk had 51. If you go and look at the crosswalk we can see why (if you can't already guess): the crosswalk also includes DC, while the gun ownership data does not. How did our \"left\" merge deal with this? \n",
    "\n",
    "**Check the shape of the merged dataframe**"
   ]
  },
  {
   "cell_type": "code",
   "execution_count": null,
   "id": "d8a31c5a",
   "metadata": {},
   "outputs": [],
   "source": []
  },
  {
   "cell_type": "markdown",
   "id": "64bb0cb3",
   "metadata": {},
   "source": [
    "Like the gun onwership (\"left\") dataframe, we only have 50 observations. This is because a \"left\" merge effectively says \"you can drop cases where we don't have data in the right dataframe\", which in this case means we don't create a row with DC because we have no gun ownership data. \n",
    "\n",
    "**What happens if we do a \"right\" merge by changing our \"how\" argument to `how=\"right\"`. Save this as `merger` and then check the shape.**"
   ]
  },
  {
   "cell_type": "code",
   "execution_count": null,
   "id": "4f464b3f",
   "metadata": {},
   "outputs": [],
   "source": []
  },
  {
   "cell_type": "markdown",
   "id": "e067edb1",
   "metadata": {},
   "source": [
    "Now we have 51 rows! Let's see what this looks like:"
   ]
  },
  {
   "cell_type": "code",
   "execution_count": null,
   "id": "4d05e2ad",
   "metadata": {},
   "outputs": [],
   "source": [
    "merger"
   ]
  },
  {
   "cell_type": "markdown",
   "id": "68bc84ce",
   "metadata": {},
   "source": [
    "Note this includes a row for DC, which includes the name and postal code -- the \"data\" from the crosswalk, or the right dataframe -- but no gun ownership data. Instead, we get a NaN, meaning there is no data. Sometimes it will be useful to have the \"larger\" dataframe with no data for some rows, but for our purposes we would just end up ignoring DC anyways since we don't have data on one of our key variables.\n",
    "\n",
    "There are other types of merges that are useful for other purposes (\"inner\" and \"outer\"), but left and right will be enough for us. It won't matter for what we do next, but let's stick with `mergel`, which doesn't add the DC row.\n",
    "\n",
    "Next, we want to bring in the gun death data. Let's remind ourselves what this looks like:"
   ]
  },
  {
   "cell_type": "code",
   "execution_count": null,
   "id": "79b3d6c8",
   "metadata": {},
   "outputs": [],
   "source": [
    "gd.head()"
   ]
  },
  {
   "cell_type": "markdown",
   "id": "cd8a85ff",
   "metadata": {},
   "source": [
    "A few things to note:\n",
    "- This dataframe also contains multiple years for each state. In the next line we will subset to the \"closest\" year to our gun ownership data, which is 2022. \n",
    "- The column names here are in all caps\n",
    "- There are a couple columns we don't need: `URL` which contains the source, and `DEATHS`, which is the raw count of gun deaths, while we want to look at the rate.\n",
    "\n",
    "We are going to take a few steps to clean this up before merging. First, let's create a new dataframe with just the 2021 data."
   ]
  },
  {
   "cell_type": "code",
   "execution_count": null,
   "id": "ddcad305",
   "metadata": {},
   "outputs": [],
   "source": [
    "gd2022 = gd[gd.YEAR == 2022]\n",
    "gd2022.shape"
   ]
  },
  {
   "cell_type": "markdown",
   "id": "87dd2379",
   "metadata": {},
   "source": [
    "Let's also drop the URL and also the year (the dataframe name already reminds us this is just for 2021). We can do this with the `.drop` function. Put the names of the variables to drop as an array (`[\"Var1\", \"Var2\"]`), and then also add an `axis=1` argument to indicate we are dropping columns."
   ]
  },
  {
   "cell_type": "code",
   "execution_count": null,
   "id": "34b78124",
   "metadata": {},
   "outputs": [],
   "source": [
    "gd2022 = gd2022.drop([\"URL\", \"YEAR\"], axis=1)"
   ]
  },
  {
   "cell_type": "code",
   "execution_count": null,
   "id": "0a42f11b",
   "metadata": {},
   "outputs": [],
   "source": [
    "gd2022.head()"
   ]
  },
  {
   "cell_type": "markdown",
   "id": "3b809892",
   "metadata": {},
   "source": [
    "Now we want to merge this with our `mergel` dataframe. Let's remind ourselves what this looks like:"
   ]
  },
  {
   "cell_type": "code",
   "execution_count": null,
   "id": "00124cdb",
   "metadata": {},
   "outputs": [],
   "source": [
    "mergel.head()"
   ]
  },
  {
   "cell_type": "markdown",
   "id": "5898dda0",
   "metadata": {},
   "source": [
    "The \"key\" we can use to identify each row within the two datafiles is the two letter postal code. But note this time it is named \"STATE\" in the gun death data and \"Code\" in the gun ownership data. We can do merges with key different column names, but I think it is tidier to first rename one of the columns to match the other. In this case, let's rename \"STATE\" to \"Code\" in the gun death data (since there is already a \"State\" variable in the gun ownership data).\n",
    "\n",
    "We can do this with the `rename` function applied to the dataframe. To just rename one variable, we use `df.rename({'OLDNAME':'NEWNAME'}, axis=1)`. Think of the argument in curly brackets as the \"dictionary\" telling us the mapping from old to new names. The `axis=1` argument clarifies that we are renaming columns and no rows. Let's first check that this works:"
   ]
  },
  {
   "cell_type": "code",
   "execution_count": null,
   "id": "b19510e7",
   "metadata": {},
   "outputs": [],
   "source": [
    "gd2022.rename({'STATE':\"code\"}, axis=1)"
   ]
  },
  {
   "cell_type": "code",
   "execution_count": null,
   "id": "20591633",
   "metadata": {},
   "outputs": [],
   "source": [
    "gd2022=gd2022.rename({'STATE':\"code\"}, axis=1)"
   ]
  },
  {
   "cell_type": "markdown",
   "id": "7f093291",
   "metadata": {},
   "source": [
    "I find it useful when doing things like renaming variables to fist just run a line of code like df.rename or df.drop, and see what the dataframe it produces looks like. When it returns what I want, then I edit the line of code to either create a new dataframe (df2 = df.rename...) or overwrite the first one (df=df.rename...)\n",
    "\n",
    "Now we are ready to merge the gun deaths and gun onwership data on the key \"code\". \n",
    "\n",
    "**Merge the `mergel` and `gd2022` dataframes on the key \"code\". After checking the result appears to work,  save it as `own_and_death`**"
   ]
  },
  {
   "cell_type": "code",
   "execution_count": null,
   "id": "402c6e9b",
   "metadata": {},
   "outputs": [],
   "source": []
  },
  {
   "cell_type": "markdown",
   "id": "96abfba8",
   "metadata": {},
   "source": [
    "We still have 50 observations, which is good. And we now have both gun ownership and gun deaths (`RATE`)"
   ]
  },
  {
   "cell_type": "code",
   "execution_count": null,
   "id": "06a28df2",
   "metadata": {},
   "outputs": [],
   "source": [
    "own_and_death.head()"
   ]
  },
  {
   "cell_type": "markdown",
   "id": "70453797",
   "metadata": {},
   "source": [
    "Finally, let's reward our hard work by making a scatterplot with gun ownership on the x axis and gun deaths on the y axis:"
   ]
  },
  {
   "cell_type": "code",
   "execution_count": null,
   "id": "de230148",
   "metadata": {},
   "outputs": [],
   "source": [
    "sns.scatterplot(x='gunOwnership',y=\"RATE\", data=own_and_death)"
   ]
  },
  {
   "cell_type": "markdown",
   "id": "e1da1f3d",
   "metadata": {},
   "source": [
    "Looks a lot like the graph I showed in the first lecture!"
   ]
  },
  {
   "cell_type": "markdown",
   "id": "5248994b",
   "metadata": {},
   "source": [
    "## Part 5. Merging on two variables"
   ]
  },
  {
   "cell_type": "markdown",
   "id": "faf6f7f4",
   "metadata": {},
   "source": [
    "There are at least two unsatisfying things about the analysis above. First, we only have one year of data for each state. Second, they aren't even from the same year.\n",
    "\n",
    "To rectify this, and learn some more about merging along the way, we will import some data on gun ownership for multiple years created by the Rand Corporation. (To tie together another theme of class, Rand was also an early hotbed of research on Game Theory in the mid 20th century.)\n",
    "\n",
    "The data come from <a href=\"https://www.rand.org/research/gun-policy/gun-ownership.html\">here</a> but are in an annoying format, so I cleaned it up and uploaded it to my Box drive and then made a publicly shareable link, which is a useful method for sharing."
   ]
  },
  {
   "cell_type": "code",
   "execution_count": null,
   "id": "bbf2e380",
   "metadata": {},
   "outputs": [],
   "source": [
    "rand_gunown = pd.read_csv(\"https://berkeley.box.com/shared/static/ptgqciox16mibfkcbs2af8ny85okmyyo.csv\")\n",
    "rand_gunown.shape"
   ]
  },
  {
   "cell_type": "markdown",
   "id": "788ce12f",
   "metadata": {},
   "source": [
    "There are lots of rows here and just three columns. Let's take a closer look:"
   ]
  },
  {
   "cell_type": "code",
   "execution_count": null,
   "id": "a124daae",
   "metadata": {},
   "outputs": [],
   "source": [
    "rand_gunown"
   ]
  },
  {
   "cell_type": "markdown",
   "id": "e408b04d",
   "metadata": {},
   "source": [
    "The \"HFR\" is an estimate of gun ownership, using some convoluted methods which we won't delve into. Note we have data for multiple years. Let's see which:"
   ]
  },
  {
   "cell_type": "code",
   "execution_count": null,
   "id": "cb143891",
   "metadata": {},
   "outputs": [],
   "source": [
    "rand_gunown['Year'].value_counts()"
   ]
  },
  {
   "cell_type": "markdown",
   "id": "4d3cbdf1",
   "metadata": {},
   "source": [
    "For some reason these are not sorted, but we have 1980-2016. \n",
    "\n",
    "**Let's remind ourselves about the gun death range by applying the `value_counts()` function to the `YEAR` column of `gd`.**"
   ]
  },
  {
   "cell_type": "code",
   "execution_count": null,
   "id": "dff62046",
   "metadata": {},
   "outputs": [],
   "source": []
  },
  {
   "cell_type": "markdown",
   "id": "247aff10",
   "metadata": {},
   "source": [
    "The overlap here is far from perfect, but it does give us four years with both gun onwership and gun death data. Let's combine these.\n",
    "\n",
    "Like before, our gun ownership and gun deaths data have different ways of identifying states, even though the column names match!"
   ]
  },
  {
   "cell_type": "code",
   "execution_count": null,
   "id": "72a7679a",
   "metadata": {},
   "outputs": [],
   "source": [
    "rand_gunown.head()"
   ]
  },
  {
   "cell_type": "code",
   "execution_count": null,
   "id": "e5505c7b",
   "metadata": {},
   "outputs": [],
   "source": [
    "gd.head()"
   ]
  },
  {
   "cell_type": "markdown",
   "id": "6fddafab",
   "metadata": {},
   "source": [
    "Let's start with the gun deaths and rename the `STATE` column to `code` to match our crosswalk. We also will get rid of the all caps for others."
   ]
  },
  {
   "cell_type": "code",
   "execution_count": null,
   "id": "e7202ca7",
   "metadata": {},
   "outputs": [],
   "source": [
    "gd_clean = gd.rename({\"YEAR\":\"Year\", \"STATE\":\"code\", \"RATE\":\"Deathrate\"}, axis=1)\n",
    "gd_clean"
   ]
  },
  {
   "cell_type": "markdown",
   "id": "850b3037",
   "metadata": {},
   "source": [
    "**To tidy things up a bit, drop the \"DEATHS\" and \"URL columns from `gd_clean`**"
   ]
  },
  {
   "cell_type": "code",
   "execution_count": null,
   "id": "a85f55dc",
   "metadata": {},
   "outputs": [],
   "source": []
  },
  {
   "cell_type": "markdown",
   "id": "b60fdde1",
   "metadata": {},
   "source": [
    "Let's remember what the crosswalk looks like:"
   ]
  },
  {
   "cell_type": "code",
   "execution_count": null,
   "id": "c63386c8",
   "metadata": {},
   "outputs": [],
   "source": [
    "crosswalk.head()"
   ]
  },
  {
   "cell_type": "markdown",
   "id": "aab93505",
   "metadata": {},
   "source": [
    "Now we can do a merge between our cleaned gun death dataframe and the crosswalk, using the \"Code\" as a key. \n",
    "\n",
    "Note an interesting difference between these two merges. The `gd_clean` has 350 entries because there are multiple years, while `crosswalk` just has 50 (well, 51, but DC is going to get dropped) entries. But if we input `gd_clean` as our first dataframe and use `how=left`, and `on=Code`, it will think of the `gd_clean` as a dataframe where each row corresponds to a state, where we happen to have multiple years of data. So for each row, we just pull the \"Code\" from the crosswalk."
   ]
  },
  {
   "cell_type": "code",
   "execution_count": null,
   "id": "1278d3f3",
   "metadata": {},
   "outputs": [],
   "source": [
    "gd_withcode = pd.merge(gd_clean, crosswalk, on=\"code\", how=\"left\")\n",
    "gd_withcode.shape"
   ]
  },
  {
   "cell_type": "code",
   "execution_count": null,
   "id": "16b62e84",
   "metadata": {},
   "outputs": [],
   "source": [
    "gd_withcode"
   ]
  },
  {
   "cell_type": "markdown",
   "id": "6aa06feb",
   "metadata": {},
   "source": [
    "Now we just need to clean up the `rand_gunown` a bit. In particular, let's rename `STATE` to `State`."
   ]
  },
  {
   "cell_type": "code",
   "execution_count": null,
   "id": "23bd6ec4",
   "metadata": {},
   "outputs": [],
   "source": [
    "rand_gunown = rand_gunown.rename({\"STATE\":\"state\"}, axis=1)"
   ]
  },
  {
   "cell_type": "markdown",
   "id": "8da6ee07",
   "metadata": {},
   "source": [
    "To combine these two dataframes, we need to use *two* keys, since we want to make sure we match the gun ownership/deaths by year and state. So our two keys will be the state name (`State`) and the year (`Year`). We can do this by inputting an array with both column names in the `on` argument. Let's do this is a left merge with `gd_withcode` as our left dataframe, which we can think of as \"adding\" the gun ownership to this data."
   ]
  },
  {
   "cell_type": "code",
   "execution_count": null,
   "id": "46c79770",
   "metadata": {},
   "outputs": [],
   "source": [
    "rand_gunown"
   ]
  },
  {
   "cell_type": "code",
   "execution_count": null,
   "id": "aec662b8",
   "metadata": {},
   "outputs": [],
   "source": [
    "sy_left = pd.merge(gd_withcode, rand_gunown, on=[\"state\", \"Year\"], how=\"left\")"
   ]
  },
  {
   "cell_type": "markdown",
   "id": "3e572bed",
   "metadata": {},
   "source": [
    "Let's compare the shape of our inputs and outputs:"
   ]
  },
  {
   "cell_type": "code",
   "execution_count": null,
   "id": "e8d6bfd1",
   "metadata": {},
   "outputs": [],
   "source": [
    "gd_withcode.shape, rand_gunown.shape, sy_left.shape"
   ]
  },
  {
   "cell_type": "markdown",
   "id": "c5269c3e",
   "metadata": {},
   "source": [
    "Note the shape matches our left dataframe. In this case, we can think of this as only including the years where we have gun deaths data. \n",
    "\n",
    "**Do a right merge on the same data frames, which will keep all cases where we have gun ownership but not gun deaths. Check the shape.**"
   ]
  },
  {
   "cell_type": "code",
   "execution_count": null,
   "id": "19df0748",
   "metadata": {},
   "outputs": [],
   "source": []
  },
  {
   "cell_type": "markdown",
   "id": "ebbf45c2",
   "metadata": {},
   "source": [
    "Just to see one more example, if we use `how=\"inner\"` the resulting dataframe will only include state-years where we have data on both gun ownership and gun deaths:"
   ]
  },
  {
   "cell_type": "code",
   "execution_count": null,
   "id": "d77068e1",
   "metadata": {},
   "outputs": [],
   "source": [
    "sy_inner = pd.merge(gd_withcode, rand_gunown, on=[\"state\", \"Year\"], how=\"inner\")\n",
    "sy_inner.shape"
   ]
  },
  {
   "cell_type": "markdown",
   "id": "d4629220",
   "metadata": {},
   "source": [
    "Which makes sense because there are four years of overlap, and 50 states per year."
   ]
  },
  {
   "cell_type": "markdown",
   "id": "98ac0bd1",
   "metadata": {},
   "source": [
    "Another useful diagnostic is to check how many NaN entries there are in our \"new\" data. For the left merge, this is the HFR variable."
   ]
  },
  {
   "cell_type": "code",
   "execution_count": null,
   "id": "088ca698",
   "metadata": {},
   "outputs": [],
   "source": [
    "sy_left.head()"
   ]
  },
  {
   "cell_type": "markdown",
   "id": "61824e93",
   "metadata": {},
   "source": [
    "The `isna()` function returns True for NaN and False otherwise. So we can sum up `sy_left.HFR.isna()` to  count how many NaNs are in the column."
   ]
  },
  {
   "cell_type": "code",
   "execution_count": null,
   "id": "2e84c539",
   "metadata": {},
   "outputs": [],
   "source": [
    "np.sum(sy_left.HFR.isna())"
   ]
  },
  {
   "cell_type": "markdown",
   "id": "345d2f57",
   "metadata": {},
   "source": [
    "So 6 years don't have gun ownership data."
   ]
  },
  {
   "cell_type": "markdown",
   "id": "ab3b6a16",
   "metadata": {},
   "source": [
    "We can also count NaN's by year with the `pd.crosstab` function:"
   ]
  },
  {
   "cell_type": "code",
   "execution_count": null,
   "id": "7ea83a29",
   "metadata": {},
   "outputs": [],
   "source": [
    "pd.crosstab(sy_left.Year, sy_left.HFR.isna())"
   ]
  },
  {
   "cell_type": "markdown",
   "id": "d1451bbb",
   "metadata": {},
   "source": [
    "We can now do a scatterplot with multiple years of data, with actual overlap in the year:"
   ]
  },
  {
   "cell_type": "code",
   "execution_count": null,
   "id": "acf4bfcc",
   "metadata": {},
   "outputs": [],
   "source": [
    "sns.scatterplot(x='HFR', y='Deathrate', data=sy_left)"
   ]
  },
  {
   "cell_type": "markdown",
   "id": "300f5bea",
   "metadata": {},
   "source": [
    "And run a regression"
   ]
  },
  {
   "cell_type": "code",
   "execution_count": null,
   "id": "b28a98ff",
   "metadata": {},
   "outputs": [],
   "source": [
    "smf.ols(\"Deathrate ~ HFR\", data=sy_left).fit().summary()"
   ]
  },
  {
   "cell_type": "markdown",
   "id": "435591ba",
   "metadata": {},
   "source": [
    "**Show that we get the same regression results using the `sy_inner` dataframe since `smf.ols` will drop cases with missing data (NaN) on any of the variables.**"
   ]
  },
  {
   "cell_type": "code",
   "execution_count": null,
   "id": "409c2d68",
   "metadata": {},
   "outputs": [],
   "source": []
  },
  {
   "cell_type": "markdown",
   "id": "f53743d5",
   "metadata": {},
   "source": [
    "**Run an analogous regression but add state fixed effects**"
   ]
  },
  {
   "cell_type": "code",
   "execution_count": null,
   "id": "a89503da",
   "metadata": {},
   "outputs": [],
   "source": []
  },
  {
   "cell_type": "code",
   "execution_count": null,
   "id": "a7fce6de",
   "metadata": {},
   "outputs": [],
   "source": []
  },
  {
   "cell_type": "markdown",
   "id": "36e9e678",
   "metadata": {},
   "source": [
    "This means that, even keeping fixed the fact that some states are generally more violent than others, higher gun ownership is still associated with more gun deaths. This could still be partly driven by reverse causation, but is stronger evidence than just looking one year at a time that there is something causal going on."
   ]
  },
  {
   "cell_type": "markdown",
   "id": "91a01816",
   "metadata": {},
   "source": [
    "## Part 6. Your turn"
   ]
  },
  {
   "cell_type": "markdown",
   "id": "0daa94d4",
   "metadata": {},
   "source": [
    "Now let's do the same exercise but by country (and just for one year).\n",
    "\n",
    "You can get data on gun ownership by country <a href=\"https://worldpopulationreview.com/country-rankings/gun-ownership-by-country\">here</a> and gun homicides <a href=\"https://worldpopulationreview.com/country-rankings/gun-deaths-by-country\">here</a>.\n",
    "\n",
    "So you don't have to sign up for their emails, here is a link to the <a href=\"https://berkeley.box.com/s/8fdflcgvlkrskj0fgi9fn3z51j1wl18d\">ownership</a> csv, and the <a href=\"https://berkeley.box.com/s/bh0qg7sgtg9oy0ixsw0098kjsoyegcxg\">homicides</a> csv. \n",
    "\n",
    "See if you can:\n",
    "- Download both in .csv format\n",
    "- Upload the .csv files to your datahub folder\n",
    "- Merge the two data files, using `.shape` to checking that the merge worked and how many countries have data from both files\n",
    "- Create a scatterplot with gun ownership on the x axis and gun deaths on the y axis.\n",
    "\n",
    "If you have time, create a new variable that indicates whether a country is in South America (either by merging in a new dataset of using the `isin()` function, and then make a graph that plots these in a different color. You can also see how excluding this region changes the results of a linear regression predicting gun deaths from gun ownership."
   ]
  },
  {
   "cell_type": "code",
   "execution_count": null,
   "id": "c7131d94",
   "metadata": {},
   "outputs": [],
   "source": []
  },
  {
   "cell_type": "markdown",
   "id": "79d66a71",
   "metadata": {},
   "source": [
    "## Part 7. Reshaping [OPTIONAL]"
   ]
  },
  {
   "cell_type": "markdown",
   "id": "9bfed527",
   "metadata": {},
   "source": [
    "A lot of time the data we find online does not come in the right \"shape\". For example, we want our data here to be in a format where each row corresponds to a country/year (or state/year), with columns telling us which country and year the row corresponds to, and then the relevant variables for our analysis. We often call this \"long\" format, because with lots of combinations of countries/years the dataframes tend to get long. \n",
    "\n",
    "However, it is common for data to be in \"wide\" format, where each row corresponds to a state, and then there are different columns telling us the data values for each year. While the data we found so far was not in this format, we can simulate what this looks like by first making a pivot table (using the state level gun death data)"
   ]
  },
  {
   "cell_type": "code",
   "execution_count": null,
   "id": "f1355ded",
   "metadata": {},
   "outputs": [],
   "source": [
    "gd_clean.head()"
   ]
  },
  {
   "cell_type": "code",
   "execution_count": null,
   "id": "99a2a732",
   "metadata": {},
   "outputs": [],
   "source": [
    "gd_wide = gd_clean.pivot(index='code', columns='Year', values='Deathrate')\n",
    "gd_wide"
   ]
  },
  {
   "cell_type": "markdown",
   "id": "e9835742",
   "metadata": {},
   "source": [
    "Another potential wide format would have years as rows and different states as columns.\n",
    "\n",
    "**Make a wide version where rows are years and columns are states**"
   ]
  },
  {
   "cell_type": "code",
   "execution_count": null,
   "id": "fd16ddfe",
   "metadata": {},
   "outputs": [],
   "source": []
  },
  {
   "cell_type": "markdown",
   "id": "a69d2433",
   "metadata": {},
   "source": [
    "This is kind of useful because we can make plots by state easily (not that it's super hard in long format, where we just subset to the state we want)."
   ]
  },
  {
   "cell_type": "code",
   "execution_count": null,
   "id": "c22a0ecb",
   "metadata": {},
   "outputs": [],
   "source": [
    "sns.lineplot(x=\"Year\", y=\"CO\", data=gd_wide2)"
   ]
  },
  {
   "cell_type": "markdown",
   "id": "8e0e22a7",
   "metadata": {},
   "source": [
    "Making the data as a pivot table creates a dataframe with some weird properties. If we had downloaded data as a .csv in wide format and then imported it we would get something more like this (don't worry about the details here)."
   ]
  },
  {
   "cell_type": "code",
   "execution_count": null,
   "id": "5a5dcbd7",
   "metadata": {},
   "outputs": [],
   "source": [
    "gd_widedf = pd.DataFrame(gd_wide.to_records())\n",
    "gd_widedf"
   ]
  },
  {
   "cell_type": "markdown",
   "id": "12fe5d99",
   "metadata": {},
   "source": [
    "To translate something like this back into \"long\" format, we can use the `pd.melt` function. This takes at least three arguments:\n",
    "- the wide dataframe\n",
    "- the variabe in the wide dataframe column name that identifies cases, as `idvars=`. Here this will be \"code\".\n",
    "- An array with the wide dataframe column names that have the data, which here are the years."
   ]
  },
  {
   "cell_type": "code",
   "execution_count": null,
   "id": "95ee4e4e",
   "metadata": {},
   "outputs": [],
   "source": [
    "gd_longagain = pd.melt(gd_widedf, id_vars=\"code\", value_vars=['2005', '2014', '2015', '2016', '2017', '2018', '2019'])\n",
    "gd_longagain"
   ]
  },
  {
   "cell_type": "markdown",
   "id": "bc1fba8d",
   "metadata": {},
   "source": [
    "A trick to make this a bit more consice is to create an array with the relevant columns:"
   ]
  },
  {
   "cell_type": "code",
   "execution_count": null,
   "id": "53a2e877",
   "metadata": {},
   "outputs": [],
   "source": [
    "gd_widedf.columns"
   ]
  },
  {
   "cell_type": "code",
   "execution_count": null,
   "id": "61ed7073",
   "metadata": {},
   "outputs": [],
   "source": [
    "datacols = gd_widedf.columns[1:10]\n",
    "datacols"
   ]
  },
  {
   "cell_type": "code",
   "execution_count": null,
   "id": "4436ab1e",
   "metadata": {},
   "outputs": [],
   "source": [
    "gd_longagain = pd.melt(gd_widedf, id_vars=\"code\", value_vars=datacols)\n",
    "gd_longagain"
   ]
  },
  {
   "cell_type": "markdown",
   "id": "2d41a693",
   "metadata": {},
   "source": [
    "Note to really get back to our original data frame we would need to rename the `variable` and `value` columns. We could do this with a `.rename`, or by redoing our `.melt` with `var_name` and `value_name` arguments added:"
   ]
  },
  {
   "cell_type": "code",
   "execution_count": null,
   "id": "b73ebfc3",
   "metadata": {},
   "outputs": [],
   "source": [
    "gd_longagain = pd.melt(gd_widedf, id_vars=\"code\", value_vars=datacols, \n",
    "                       var_name = \"Year\", value_name = \"Deathrate\")\n",
    "gd_longagain"
   ]
  },
  {
   "cell_type": "markdown",
   "id": "6631dd8f",
   "metadata": {},
   "source": [
    "**Recreate the long dataframe by melting the `gd_widedf2` dataframe.**"
   ]
  },
  {
   "cell_type": "code",
   "execution_count": null,
   "id": "cfe4d0ae",
   "metadata": {},
   "outputs": [],
   "source": []
  },
  {
   "cell_type": "code",
   "execution_count": null,
   "id": "2feee8fc",
   "metadata": {},
   "outputs": [],
   "source": []
  },
  {
   "cell_type": "code",
   "execution_count": null,
   "id": "aa599411",
   "metadata": {},
   "outputs": [],
   "source": []
  },
  {
   "cell_type": "code",
   "execution_count": null,
   "id": "8c6643d5",
   "metadata": {},
   "outputs": [],
   "source": []
  },
  {
   "cell_type": "markdown",
   "id": "019f884e",
   "metadata": {},
   "source": [
    "## Part 8. Lags [OPTIONAL]\n",
    "\n",
    "Another common thing we want to do when we have multiple years of data is create \"lagged\" versions of variables. For example, recall that one theory about gun ownership is that people tend to want to buy guns for safety. A good way to measure whether people feel the need to buy a gun is how dangerous one's country/state was in the recent past. A way we can measure this is with the gun death rate in the previous year. \n",
    "\n",
    "Let's first do this on our `sy_left` data."
   ]
  },
  {
   "cell_type": "code",
   "execution_count": null,
   "id": "fb4539c3",
   "metadata": {},
   "outputs": [],
   "source": [
    "sy_left.head()"
   ]
  },
  {
   "cell_type": "markdown",
   "id": "1bd3f5e8",
   "metadata": {},
   "source": [
    "As a first step, let's create a new variable to indicate the previous year:"
   ]
  },
  {
   "cell_type": "code",
   "execution_count": null,
   "id": "bdb5a872",
   "metadata": {},
   "outputs": [],
   "source": [
    "sy_left[\"lYear\"] = sy_left[\"Year\"] - 1\n",
    "sy_left.head()"
   ]
  },
  {
   "cell_type": "markdown",
   "id": "69a0954f",
   "metadata": {},
   "source": [
    "Now we are going to create a copy of the data frame to match with this. We are only going to want the Year/Code to match and the Deathrate/HFR to create the lagged data."
   ]
  },
  {
   "cell_type": "code",
   "execution_count": null,
   "id": "3d3bf852",
   "metadata": {},
   "outputs": [],
   "source": [
    "sy_lag = sy_left.drop(['lYear', \"state\"], axis=1)\n",
    "sy_lag"
   ]
  },
  {
   "cell_type": "markdown",
   "id": "4f436bf7",
   "metadata": {},
   "source": [
    "Now we rename the year/Deathrate/HFR to indicate these are going to be the lagged data."
   ]
  },
  {
   "cell_type": "code",
   "execution_count": null,
   "id": "5d85a912",
   "metadata": {},
   "outputs": [],
   "source": [
    "sy_lag= sy_lag.rename({\"Year\":\"lYear\", \"Deathrate\":\"lDeathrate\",\"HFR\":\"lHFR\"}, axis=1)\n",
    "sy_lag.head()"
   ]
  },
  {
   "cell_type": "markdown",
   "id": "44f45ac7",
   "metadata": {},
   "source": [
    "Here is a way to think about the current dataframe. If we are in Alabama, and \"last year\" is 2019, then the \"last year\" gun death rate was 22.2 out of 100,000. So if we do a merge between this and the original dataframe on \"Code\" and \"lyear\", we will add the last year death rate (and gun ownership) into the original."
   ]
  },
  {
   "cell_type": "markdown",
   "id": "f3a94eb5",
   "metadata": {},
   "source": [
    "Practically, by merging this into the original data file on the keys `lYear` and `code`, we will have the previous year data. \n",
    "\n",
    "**Do a left merge with `sy_left`, `sy_lag`, on `lYear` and `code`, and save it as `sy_withlag`**"
   ]
  },
  {
   "cell_type": "code",
   "execution_count": null,
   "id": "1255970e",
   "metadata": {},
   "outputs": [],
   "source": []
  },
  {
   "cell_type": "markdown",
   "id": "0ebf7a95",
   "metadata": {},
   "source": [
    "Let's see what years we get our lagged death rate data"
   ]
  },
  {
   "cell_type": "code",
   "execution_count": null,
   "id": "8310fd8a",
   "metadata": {},
   "outputs": [],
   "source": [
    "pd.crosstab(sy_withlag.Year, sy_withlag.lDeathrate.isna())"
   ]
  },
  {
   "cell_type": "markdown",
   "id": "ec21021e",
   "metadata": {},
   "source": [
    "This makes sense: in 2014 the previous year is 2013, and we don't have data for that. In 2005, the previous year is 2004, and again we don't have data for that year. In general we always lose our \"first\" year when getting lags, and sometimes more.\n",
    "\n",
    "Now do the same for the lagged gun ownership (HFR)"
   ]
  },
  {
   "cell_type": "code",
   "execution_count": null,
   "id": "7144df2b",
   "metadata": {},
   "outputs": [],
   "source": [
    "pd.crosstab(sy_withlag.Year, sy_withlag.lHFR.isna())"
   ]
  },
  {
   "cell_type": "markdown",
   "id": "fef02092",
   "metadata": {},
   "source": [
    "One test of the theory that gun ownership will be higher in dangerous places is to use gun ownership as the DV and lagged gun death rates as the DV:"
   ]
  },
  {
   "cell_type": "code",
   "execution_count": null,
   "id": "a70514f7",
   "metadata": {},
   "outputs": [],
   "source": [
    "smf.ols(\"HFR ~ lDeathrate\", data=sy_withlag).fit().summary()"
   ]
  },
  {
   "cell_type": "markdown",
   "id": "b2fc210a",
   "metadata": {},
   "source": [
    "However, this isn't a super informative test: the current year death rate and previous year are pretty highly correlated"
   ]
  },
  {
   "cell_type": "code",
   "execution_count": null,
   "id": "d1076abe",
   "metadata": {},
   "outputs": [],
   "source": [
    "sns.scatterplot(x=sy_withlag['lDeathrate'], y=sy_withlag['Deathrate'])"
   ]
  },
  {
   "cell_type": "markdown",
   "id": "9fe97ac8",
   "metadata": {},
   "source": [
    "**Show that the current year ownership and previous year ownership are also highly correlated.**"
   ]
  },
  {
   "cell_type": "code",
   "execution_count": null,
   "id": "69a66062",
   "metadata": {},
   "outputs": [],
   "source": []
  },
  {
   "cell_type": "markdown",
   "id": "155ffcff",
   "metadata": {},
   "source": [
    "As a result it's a bit tricky to know what is causing what here. It could be the case that current year ownership causes current year gun deaths (not vice versa), and we'd still see a positive correlation between previous year gun deaths and current year gun ownership.\n",
    "\n",
    "A more precise way to test this is by looking at the change in gun ownership. We can compute this for years where we have both the current and lagged data."
   ]
  },
  {
   "cell_type": "code",
   "execution_count": null,
   "id": "06e54d25",
   "metadata": {},
   "outputs": [],
   "source": [
    "sy_withlag['dHFR'] = sy_withlag['HFR'] - sy_withlag['lHFR']\n",
    "sy_withlag['dDeathrate'] = sy_withlag['Deathrate'] - sy_withlag['lDeathrate']"
   ]
  },
  {
   "cell_type": "code",
   "execution_count": null,
   "id": "a5d8a27e",
   "metadata": {},
   "outputs": [],
   "source": [
    "smf.ols(\"dHFR ~ lDeathrate\", data=sy_withlag).fit().summary()"
   ]
  },
  {
   "cell_type": "markdown",
   "id": "725346a4",
   "metadata": {},
   "source": [
    "There is no magic bullet, but it doesn't seem that gun ownership tends to go up in places that had more deaths in the previous year. "
   ]
  },
  {
   "cell_type": "code",
   "execution_count": null,
   "id": "4c366f0c",
   "metadata": {},
   "outputs": [],
   "source": []
  }
 ],
 "metadata": {
  "kernelspec": {
   "display_name": "Python 3 (ipykernel)",
   "language": "python",
   "name": "python3"
  },
  "language_info": {
   "codemirror_mode": {
    "name": "ipython",
    "version": 3
   },
   "file_extension": ".py",
   "mimetype": "text/x-python",
   "name": "python",
   "nbconvert_exporter": "python",
   "pygments_lexer": "ipython3",
   "version": "3.9.7"
  }
 },
 "nbformat": 4,
 "nbformat_minor": 5
}
