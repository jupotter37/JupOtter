{
 "cells": [
  {
   "cell_type": "raw",
   "id": "a5606fb6-a6e1-4033-b36a-55288a0c7a12",
   "metadata": {},
   "source": [
    "Q1. Which keyword is used to create a function? Create a function to return a list of odd numbers in the\n",
    "range of 1 to 25.\n",
    "ans:In Python, the keyword used to create a function is \"def\"."
   ]
  },
  {
   "cell_type": "code",
   "execution_count": 4,
   "id": "226e0514-8645-4fd4-8d89-1dfb37686fa1",
   "metadata": {},
   "outputs": [
    {
     "name": "stdout",
     "output_type": "stream",
     "text": [
      "[1, 3, 5, 7, 9, 11, 13, 15, 17, 19, 21, 23, 25]\n"
     ]
    }
   ],
   "source": [
    "def get_odd_numbers():\n",
    "    odd_numbers = []\n",
    "    for num in range(1, 26):\n",
    "        if num % 2 != 0:\n",
    "            odd_numbers.append(num)\n",
    "    return odd_numbers\n",
    "\n",
    "# Call the function\n",
    "result = get_odd_numbers()\n",
    "print(result)"
   ]
  },
  {
   "cell_type": "raw",
   "id": "01339a10-355b-43bc-a7e5-7fcb9ad66f5f",
   "metadata": {},
   "source": [
    "Q2. Why *args and **kwargs is used in some functions? Create a function each for *args and **kwargs to\n",
    "demonstrate their use."
   ]
  },
  {
   "cell_type": "raw",
   "id": "b205e8a6-4e40-4a82-9e23-ecd6e785f80a",
   "metadata": {},
   "source": [
    "ans:\n",
    "In Python, *args and **kwargs are used to pass a variable number of arguments to a function. They are often used when the number of arguments that a function needs to handle is not known in advance or when you want to provide a flexible way of passing arguments.\n",
    "\n",
    "The *args parameter allows a function to accept any number of positional arguments as a tuple. Here's an example function that demonstrates the use of *args:"
   ]
  },
  {
   "cell_type": "code",
   "execution_count": 5,
   "id": "3dee878a-ded9-47c6-8db0-f2eb56c129b0",
   "metadata": {},
   "outputs": [
    {
     "name": "stdout",
     "output_type": "stream",
     "text": [
      "Hello World!\n"
     ]
    }
   ],
   "source": [
    "def concatenate_strings(*args):\n",
    "    result = \"\"\n",
    "    for string in args:\n",
    "        result += string\n",
    "    return result\n",
    "\n",
    "# Call the function\n",
    "output = concatenate_strings(\"Hello\", \" \", \"World\", \"!\")\n",
    "print(output)\n"
   ]
  },
  {
   "cell_type": "raw",
   "id": "b81c7031-da02-4fa8-9e3a-aa280394c687",
   "metadata": {},
   "source": [
    "On the other hand, **kwargs allows a function to accept any number of keyword arguments as a dictionary. Here's an example function that demonstrates the use of **kwargs:"
   ]
  },
  {
   "cell_type": "code",
   "execution_count": 6,
   "id": "02bfb771-81b1-40ca-91f7-5890035603ec",
   "metadata": {},
   "outputs": [
    {
     "name": "stdout",
     "output_type": "stream",
     "text": [
      "name: John Doe\n",
      "age: 25\n",
      "major: Computer Science\n"
     ]
    }
   ],
   "source": [
    "def print_student_details(**kwargs):\n",
    "    for key, value in kwargs.items():\n",
    "        print(f\"{key}: {value}\")\n",
    "\n",
    "# Call the function\n",
    "print_student_details(name=\"John Doe\", age=25, major=\"Computer Science\")\n"
   ]
  },
  {
   "cell_type": "raw",
   "id": "bcd44d58-0ce7-4e01-b53d-f11c6fdee44c",
   "metadata": {},
   "source": [
    "3)What is an iterator in python? Name the method used to initialise the iterator object and the method\n",
    "used for iteration. Use these methods to print the first five elements of the given list [2, 4, 6, 8, 10, 12, 14, 16,\n",
    "18, 20]."
   ]
  },
  {
   "cell_type": "raw",
   "id": "a4d54177-f292-4eae-bc8c-4325b0e19810",
   "metadata": {},
   "source": [
    "In Python, an iterator is an object that implements the iterator protocol, which consists of the __iter__ method for initializing the iterator object and the __next__ method for iteration. An iterator allows you to iterate over elements of a container or sequence one at a time, providing a way to access elements sequentially without the need to load all of them into memory at once.\n",
    "\n",
    "To print the first five elements of the given list [2, 4, 6, 8, 10, 12, 14, 16, 18, 20] using an iterator, you can use the built-in iter() function to initialize the iterator object and the next() function to iterate and retrieve the next element."
   ]
  },
  {
   "cell_type": "code",
   "execution_count": 7,
   "id": "b00c5fdf-0b1d-414a-b256-1ba825c17e7f",
   "metadata": {},
   "outputs": [
    {
     "name": "stdout",
     "output_type": "stream",
     "text": [
      "2\n",
      "4\n",
      "6\n",
      "8\n",
      "10\n"
     ]
    }
   ],
   "source": [
    "my_list = [2, 4, 6, 8, 10, 12, 14, 16, 18, 20]\n",
    "\n",
    "# Initialize the iterator object\n",
    "my_iterator = iter(my_list)\n",
    "\n",
    "# Iterate and print the first five elements\n",
    "for _ in range(5):\n",
    "    element = next(my_iterator)\n",
    "    print(element)\n"
   ]
  },
  {
   "cell_type": "raw",
   "id": "9b4c9fe0-14c9-467a-a279-55d6a7eb354b",
   "metadata": {},
   "source": [
    "q4)What is a generator function in python? Why yield keyword is used? Give an example of a generator\n",
    "function."
   ]
  },
  {
   "cell_type": "raw",
   "id": "0c0555c3-da0c-4de4-aab9-5d6ad7050ba6",
   "metadata": {},
   "source": [
    "In Python, a generator function is a special type of function that returns an iterator object called a generator. Unlike regular functions that return a value and then exit, generator functions can pause their execution and later resume from where they left off. They are defined using the yield keyword instead of return.\n",
    "\n",
    "The yield keyword is used in generator functions to define points at which the function should pause and yield a value to the caller. When the function encounters a yield statement, it temporarily suspends its execution, saves its internal state, and returns the yielded value. The next time the generator is called, it resumes execution from where it left off, using the saved state."
   ]
  },
  {
   "cell_type": "code",
   "execution_count": 8,
   "id": "274902a1-2898-4d1e-b7e0-d127e8b40d00",
   "metadata": {},
   "outputs": [
    {
     "name": "stdout",
     "output_type": "stream",
     "text": [
      "0\n",
      "1\n",
      "1\n",
      "2\n",
      "3\n",
      "5\n",
      "8\n",
      "13\n",
      "21\n",
      "34\n"
     ]
    }
   ],
   "source": [
    "def fibonacci_generator():\n",
    "    a, b = 0, 1\n",
    "    while True:\n",
    "        yield a\n",
    "        a, b = b, a + b\n",
    "\n",
    "# Create a generator object\n",
    "fibonacci = fibonacci_generator()\n",
    "\n",
    "# Iterate and print the first 10 Fibonacci numbers\n",
    "for _ in range(10):\n",
    "    number = next(fibonacci)\n",
    "    print(number)\n"
   ]
  },
  {
   "cell_type": "raw",
   "id": "29591e76-b55e-4948-a382-c8da81054bb6",
   "metadata": {},
   "source": [
    "Q5. Create a generator function for prime numbers less than 1000. Use the next() method to print the\n",
    "first 20 prime numbers."
   ]
  },
  {
   "cell_type": "code",
   "execution_count": 9,
   "id": "fb6476fd-e0e1-44c5-b10a-e27dd3f2cbf9",
   "metadata": {},
   "outputs": [
    {
     "name": "stdout",
     "output_type": "stream",
     "text": [
      "2\n",
      "3\n",
      "5\n",
      "7\n",
      "11\n",
      "13\n",
      "17\n",
      "19\n",
      "23\n",
      "29\n",
      "31\n",
      "37\n",
      "41\n",
      "43\n",
      "47\n",
      "53\n",
      "59\n",
      "61\n",
      "67\n",
      "71\n"
     ]
    }
   ],
   "source": [
    "def prime_generator():\n",
    "    yield 2  # 2 is the first prime number\n",
    "    primes = [2]  # Store previously generated prime numbers\n",
    "    num = 3  # Start checking from 3\n",
    "\n",
    "    while num < 1000:\n",
    "        is_prime = True\n",
    "\n",
    "        for prime in primes:\n",
    "            if prime * prime > num:\n",
    "                break\n",
    "\n",
    "            if num % prime == 0:\n",
    "                is_prime = False\n",
    "                break\n",
    "\n",
    "        if is_prime:\n",
    "            primes.append(num)\n",
    "            yield num\n",
    "\n",
    "        num += 2  # Move to the next odd number\n",
    "\n",
    "# Create a generator object\n",
    "prime_gen = prime_generator()\n",
    "\n",
    "# Print the first 20 prime numbers\n",
    "for _ in range(20):\n",
    "    prime = next(prime_gen)\n",
    "    print(prime)\n"
   ]
  },
  {
   "cell_type": "code",
   "execution_count": null,
   "id": "65725746-cec7-47d6-9fc0-80e4433167b5",
   "metadata": {},
   "outputs": [],
   "source": []
  }
 ],
 "metadata": {
  "kernelspec": {
   "display_name": "Python 3 (ipykernel)",
   "language": "python",
   "name": "python3"
  },
  "language_info": {
   "codemirror_mode": {
    "name": "ipython",
    "version": 3
   },
   "file_extension": ".py",
   "mimetype": "text/x-python",
   "name": "python",
   "nbconvert_exporter": "python",
   "pygments_lexer": "ipython3",
   "version": "3.10.8"
  }
 },
 "nbformat": 4,
 "nbformat_minor": 5
}
