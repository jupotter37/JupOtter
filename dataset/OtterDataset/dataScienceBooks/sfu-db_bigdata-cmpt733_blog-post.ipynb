{
 "cells": [
  {
   "cell_type": "markdown",
   "metadata": {},
   "source": [
    "# SFU Big Data Blog Post "
   ]
  },
  {
   "cell_type": "markdown",
   "metadata": {},
   "source": [
    "## Motivation"
   ]
  },
  {
   "cell_type": "markdown",
   "metadata": {},
   "source": [
    "Data science is a fast-growing field. To catch up, data scientists have to keep learning, e.g., by reading/writing blog posts. Most data scientists have the habit of reading blog posts. However, very few data scientists have the habit of writing blog posts. There are many advantages to write blog posts. First, it can train your communication skills.  Second, it can help you gain a deep understanding of what you write. Third, it may make you become more well known in the data science community. \n",
    "\n",
    "Given these advantages, we created this [SFU Big Data Publication](https://medium.com/sfu-big-data) on Medium. We hope that through this exercise, you will get familiar with how to write an excellent blog post, and form the habit of writing blog posts regularly.  \n",
    "\n",
    "**Please note that this is a group (3-5 members) project (the same group as your final project).**\n"
   ]
  },
  {
   "cell_type": "markdown",
   "metadata": {},
   "source": [
    "## Step-by-step Instruction"
   ]
  },
  {
   "cell_type": "markdown",
   "metadata": {},
   "source": [
    " ### 1. What to write?"
   ]
  },
  {
   "attachments": {},
   "cell_type": "markdown",
   "metadata": {},
   "source": [
    "The first thing you need to do is to decide what to blog about. The main theme of the blog post is to **Dive into X**. In the past, we found that many students know something about everything but not everything about something. The purpose of \"Dive into X\" is to push you to go deeper into a tool or a topic.\n",
    "\n",
    "* [**X = Tool**]. There are many tools that you  need to know how to use as a data scientist. Please use the opportunity to learn one of them and dive into it. You are free to choose any tool related to [data science](https://github.com/academic/awesome-datascience) or [data engineering](https://github.com/igorbarinov/awesome-data-engineering). Example tools include [Airflow](https://airflow.apache.org/), [dbt](https://github.com/dbt-labs/dbt-core), [Delta Lake](https://delta.io/), [Kafka](https://kafka.apache.org/),  [Kubernetes](https://kubernetes.io/), and [Streamlit](https://streamlit.io/).\n",
    "\n",
    "\n",
    "* [**X = Topic**]. Pick up a technique/algorithm/concept and dive into it. You are free to choose any tool related to [data science](https://github.com/academic/awesome-datascience) or [data engineering](https://github.com/igorbarinov/awesome-data-engineering). Example topics include [AlphaFold](https://alphafold.ebi.ac.uk/), [GPT-3](https://en.wikipedia.org/wiki/GPT-3), [Lakehouse](http://cidrdb.org/cidr2021/papers/cidr2021_paper17.pdf), \n",
    "[Deepfake](https://en.wikipedia.org/wiki/Deepfake), and [Graph Convolutional Networks](https://tkipf.github.io/graph-convolutional-networks/). \n",
    "\n",
    "\n",
    "If you want to write a blog post about future tech trends (e.g., [Quantum Machine Learning: Future of AI](https://medium.com/me/stats/post/386fb77f59ca)), please make sure to get permission from me."
   ]
  },
  {
   "cell_type": "markdown",
   "metadata": {},
   "source": [
    "### 2. How to write?"
   ]
  },
  {
   "cell_type": "markdown",
   "metadata": {},
   "source": [
    "When deciding how to write your blog post, you should keep asking yourself the following two questions: \n",
    "\n",
    "* What can I do to make my blog post more attractive?\n",
    "* What can I do to make my blog post more easy to understand? \n",
    "\n",
    "For the first question, here are some tricks: (1) come up with an attractive blog title (see [this page](https://blog.hubspot.com/marketing/a-simple-formula-for-writing-kick-ass-titles-ht#sm.0000072w4nzrqmfn2vwd6y30afmyo) for some tips); (2) pay great attention to the first paragraph of your blog post (See [this page](https://problogger.com/10-tips-for-opening-your-next-blog-post/) for some tips); (2) add a couple of attractive images but make sure they are related to your blog post. \n",
    "\n",
    "For the second question, here are some tricks: (1) avoid using jargon (if you have to, please first explain them in simple words); (2) use examples and figures to illustrate complicate stuff; (3) leverage the power of analogies. \n",
    "\n",
    "As a test, answer these questions:\n",
    " * What if a kid asks you \"If you fall into a black hole, where do you go?\"\n",
    " * What if your roommate majored in Biology asks you that \"Can you teach me how to write SQL in less than an hour?\" \n",
    " \n",
    "Make sure to first think about the answers by yourself, and then watch [this video](https://www.youtube.com/watch?v=3J7T1xxUn7M) and read this [blog post](http://www.sohamkamani.com/blog/2016/07/07/a-beginners-guide-to-sql/).  \n",
    "\n",
    "I hope everyone can use the opportunity to train the skill of blog writing. Such skill is increasingly important in the data science community. "
   ]
  },
  {
   "cell_type": "markdown",
   "metadata": {},
   "source": [
    "### 3. How to submit?"
   ]
  },
  {
   "attachments": {},
   "cell_type": "markdown",
   "metadata": {},
   "source": [
    "You have to submit your blog post in **two places**:\n",
    "\n",
    "1. Please submit a blog post to [https://medium.com/sfu-big-data](https://medium.com/sfu-big-data). \n",
    "\n",
    " * Create an Medium account for your group and put your account information at this [spreadsheet](https://1sfu.sharepoint.com/:x:/r/teams/CMPT733-BigData2023-SFUTeams2/Shared%20Documents/General/Blog%20groups%20on%20medium.xlsx?d=w0fd224cc1911419dbb37aee80797f618&csf=1&web=1&e=aDTH3H). Please try to get this done before **Jan 20**. I will add you as a writer of the publication. \n",
    " * Follow this [link](https://help.medium.com/hc/en-us/articles/213904978-Add-draft-or-post-to-publication) to submit your post to the publication. Note that each group only needs to submit a single blog post. \n",
    "\n",
    "2. Please submit the URL of your blog post to the CourSys activity Blog Post.\n",
    "\n",
    "**Requirements**\n",
    "\n",
    "1. The length has to be 1500-3000 words\n",
    "2. It is due on Feb 10th at midnight\n",
    "3. It's OK if you accidentally blog about the same topic as other groups\n",
    "4. Please read this document carefully: [Improve Your Writing: The Quick and Painless Way](tips.pdf), and avoid common language errors.\n",
    "\n",
    "**Grading**\n",
    "\n",
    "We will grade your blog post based on its depth and popularity. \n",
    "\n",
    "- [**Depth**] (5 Points). You need to show the depth to your audience. You can assume that your audience has some basic knowledge about ML, Big Data, and Data Science. For example, they could be your classmates in the cohort. Your blog post should have 30% basic things and 70% advanced things. It's OK for non-technical people to understand only part of the blog post.\n",
    "\n",
    "- [**Popularity**] (5 Points). The popularity is measured by [Reads](https://help.medium.com/hc/en-us/articles/215108608-Your-stats) by March 28.  To get a high mark on this, you should not only write an attractive and easy-to-understand blog post, but also think about how to market your blog post. Here's some advice: [What makes an article popular on Medium? We analyzed 10,000+ data points to find out](https://medium.com/the-mission/after-10-000-data-points-we-figured-out-how-to-write-a-perfect-medium-post-58c41c314f6a), [This Is Why You Aren’t Successful Blogging On Medium](https://medium.com/the-mission/this-is-why-you-arent-successful-blogging-on-medium-7f849e1cda3e), [Going Viral: How I got 10k Views on Medium in 4 days](https://growandconvert.com/content-marketing/going-viral-medium/).\n",
    "\n",
    "<img src=\"popularity.png\" width=\"500\">\n",
    "\n",
    " \n",
    "**Plagiarism**\n",
    " * Your blog post will be put online. If you got caught for plagiarism, you would not only get zero marks but also get your reputation hurt a lot. So don't cheat!\n",
    " "
   ]
  },
  {
   "cell_type": "markdown",
   "metadata": {},
   "source": [
    "### 4. Learn from each other"
   ]
  },
  {
   "attachments": {},
   "cell_type": "markdown",
   "metadata": {},
   "source": [
    "In the weeks after submitting your post, please take a look at the posts from your fellow classmates. Feel free to rate or comment on them. This is a good opportunity to make friends."
   ]
  },
  {
   "cell_type": "markdown",
   "metadata": {},
   "source": []
  }
 ],
 "metadata": {
  "kernelspec": {
   "display_name": "Python 3",
   "language": "python",
   "name": "python3"
  },
  "language_info": {
   "codemirror_mode": {
    "name": "ipython",
    "version": 3
   },
   "file_extension": ".py",
   "mimetype": "text/x-python",
   "name": "python",
   "nbconvert_exporter": "python",
   "pygments_lexer": "ipython3",
   "version": "3.11.0 (main, Nov 15 2022, 05:43:36) [Clang 14.0.0 (clang-1400.0.29.202)]"
  },
  "vscode": {
   "interpreter": {
    "hash": "1a1af0ee75eeea9e2e1ee996c87e7a2b11a0bebd85af04bb136d915cefc0abce"
   }
  }
 },
 "nbformat": 4,
 "nbformat_minor": 1
}
