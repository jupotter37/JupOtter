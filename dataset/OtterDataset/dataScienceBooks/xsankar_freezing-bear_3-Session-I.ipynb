{
 "metadata": {
  "name": ""
 },
 "nbformat": 3,
 "nbformat_minor": 0,
 "worksheets": [
  {
   "cells": [
    {
     "cell_type": "heading",
     "level": 1,
     "metadata": {},
     "source": [
      "Session 1 : The Art of a Competition \u2013 DS London + Scikit-learn"
     ]
    },
    {
     "cell_type": "heading",
     "level": 2,
     "metadata": {},
     "source": [
      "Register & Download Data from [Kaggle](http://www.kaggle.com/c/data-science-london-scikit-learn)"
     ]
    },
    {
     "cell_type": "heading",
     "level": 2,
     "metadata": {},
     "source": [
      "#1 : SVM-Will"
     ]
    },
    {
     "cell_type": "code",
     "collapsed": false,
     "input": [
      "#imports\n",
      "import numpy as np\n",
      "print 'numpy:', np.__version__\n",
      "\n",
      "import scipy\n",
      "print 'scipy:', scipy.__version__\n",
      "\n",
      "import pandas as pd\n",
      "print 'pandas: ',pd.__version__\n",
      "\n",
      "import matplotlib\n",
      "print 'matplotlib:', matplotlib.__version__\n",
      "\n",
      "import sklearn\n",
      "print 'scikit-learn:', sklearn.__version__"
     ],
     "language": "python",
     "metadata": {},
     "outputs": []
    },
    {
     "cell_type": "code",
     "collapsed": false,
     "input": [
      "df_train_x = pd.read_csv('dsl/train.csv',header=None)\n",
      "df_train_y = pd.read_csv('dsl/trainLabels.csv',header=None)\n",
      "df_test = pd.read_csv('dsl/test.csv',header=None)"
     ],
     "language": "python",
     "metadata": {},
     "outputs": []
    },
    {
     "cell_type": "code",
     "collapsed": false,
     "input": [
      "df_train_x.head()"
     ],
     "language": "python",
     "metadata": {},
     "outputs": []
    },
    {
     "cell_type": "code",
     "collapsed": false,
     "input": [
      "df_train_y.head(2)"
     ],
     "language": "python",
     "metadata": {},
     "outputs": []
    },
    {
     "cell_type": "code",
     "collapsed": false,
     "input": [
      "df_test.head()"
     ],
     "language": "python",
     "metadata": {},
     "outputs": []
    },
    {
     "cell_type": "code",
     "collapsed": false,
     "input": [
      "df_train_x.shape"
     ],
     "language": "python",
     "metadata": {},
     "outputs": []
    },
    {
     "cell_type": "code",
     "collapsed": false,
     "input": [
      "df_test.shape"
     ],
     "language": "python",
     "metadata": {},
     "outputs": []
    },
    {
     "cell_type": "code",
     "collapsed": false,
     "input": [
      "df_train_y.shape"
     ],
     "language": "python",
     "metadata": {},
     "outputs": []
    },
    {
     "cell_type": "code",
     "collapsed": false,
     "input": [
      "clf_data = df_train_x.values\n",
      "clf_target = df_train_y.values\n",
      "clf_test = df_test.values"
     ],
     "language": "python",
     "metadata": {},
     "outputs": []
    },
    {
     "cell_type": "code",
     "collapsed": false,
     "input": [
      "from sklearn.svm import SVC\n",
      "clf = SVC() # kernel = 'rbf'\n",
      "clf = clf.fit(clf_data,clf_target)"
     ],
     "language": "python",
     "metadata": {},
     "outputs": []
    },
    {
     "cell_type": "code",
     "collapsed": false,
     "input": [
      "clf_test_predict = clf.predict(clf_test)\n",
      "df_test_1 = pd.DataFrame()\n",
      "df_test_1['Solution'] = clf_test_predict\n",
      "df_test_1['Id'] = range(1,9001)\n",
      "df_test_1[['Id','Solution']].to_csv('dsl/sub-01.csv', index=False, float_format=\"%f\")\n",
      "# Submit and you will still get 0.0.91282"
     ],
     "language": "python",
     "metadata": {},
     "outputs": []
    },
    {
     "cell_type": "code",
     "collapsed": false,
     "input": [
      "df_test_1.head(2)"
     ],
     "language": "python",
     "metadata": {},
     "outputs": []
    },
    {
     "cell_type": "heading",
     "level": 3,
     "metadata": {},
     "source": [
      "Let us see what the DataConversionWarning is all about"
     ]
    },
    {
     "cell_type": "code",
     "collapsed": false,
     "input": [
      "df_train_y.head()"
     ],
     "language": "python",
     "metadata": {},
     "outputs": []
    },
    {
     "cell_type": "code",
     "collapsed": false,
     "input": [
      "clf_target[0:5]"
     ],
     "language": "python",
     "metadata": {},
     "outputs": []
    },
    {
     "cell_type": "code",
     "collapsed": false,
     "input": [
      "clf_target = df_train_y[0].values"
     ],
     "language": "python",
     "metadata": {},
     "outputs": []
    },
    {
     "cell_type": "code",
     "collapsed": false,
     "input": [
      "clf_target[0:5]"
     ],
     "language": "python",
     "metadata": {},
     "outputs": []
    },
    {
     "cell_type": "code",
     "collapsed": false,
     "input": [
      "clf = clf.fit(clf_data,clf_target)\n",
      "clf_test_predict = clf.predict(clf_test)"
     ],
     "language": "python",
     "metadata": {},
     "outputs": []
    },
    {
     "cell_type": "heading",
     "level": 3,
     "metadata": {},
     "source": [
      "#2 : Score & Confusion Matrix"
     ]
    },
    {
     "cell_type": "code",
     "collapsed": false,
     "input": [
      "from sklearn import metrics\n",
      "from sklearn.cross_validation import train_test_split\n",
      "\n",
      "clf=SVC(C=10.0,gamma=.01,kernel='rbf',probability=True)\n",
      "#Split 80-20 train vs test data\n",
      "train_x, test_x, train_y, test_y = train_test_split(clf_data,clf_target, test_size=0.20, random_state=0)"
     ],
     "language": "python",
     "metadata": {},
     "outputs": []
    },
    {
     "cell_type": "code",
     "collapsed": false,
     "input": [
      "print (clf_data.shape,clf_target.shape)\n",
      "print (train_x.shape,train_y.shape)\n",
      "print (test_x.shape,test_y.shape)"
     ],
     "language": "python",
     "metadata": {},
     "outputs": []
    },
    {
     "cell_type": "code",
     "collapsed": false,
     "input": [
      "clf = clf.fit(train_x,train_y)\n",
      "predict_y = clf.predict(test_x)\n",
      "print (predict_y.shape)\n",
      "from sklearn.metrics import accuracy_score\n",
      "print (\"Accuracy = %.2f\" % (accuracy_score(test_y,predict_y)))"
     ],
     "language": "python",
     "metadata": {},
     "outputs": []
    },
    {
     "cell_type": "code",
     "collapsed": false,
     "input": [
      "model_score=clf.score(test_x,test_y)\n",
      "print (\"Model Score %.2f\" % (model_score))\n",
      "confusion_matrix = metrics.confusion_matrix(test_y,predict_y)\n",
      "print (\"Confusion Matrix \",confusion_matrix)"
     ],
     "language": "python",
     "metadata": {},
     "outputs": []
    },
    {
     "cell_type": "markdown",
     "metadata": {},
     "source": [
      "Cij = Known to be in i, predicted to be in j"
     ]
    },
    {
     "cell_type": "code",
     "collapsed": false,
     "input": [
      "from IPython.core.display import Image \n",
      "Image(filename='confusion_matrix.png') "
     ],
     "language": "python",
     "metadata": {},
     "outputs": []
    },
    {
     "cell_type": "code",
     "collapsed": false,
     "input": [
      "print (\"          Predicted\")\n",
      "print (\"         |  0 | 1  |\")\n",
      "print (\"         |----|----|\")\n",
      "print (\"       0 | %2d | %2d |\" % (confusion_matrix[0,0],confusion_matrix[0,1]))\n",
      "print (\"Actual   |----|----|\")\n",
      "print (\"       1 | %2d | %2d |\" % (confusion_matrix[1,0],confusion_matrix[1,1]))\n",
      "print (\"         |----|----|\")"
     ],
     "language": "python",
     "metadata": {},
     "outputs": []
    },
    {
     "cell_type": "heading",
     "level": 3,
     "metadata": {},
     "source": [
      "#3 : Unsupervised Feature Engineering; Now let us try some advanced techniques from the discussion board"
     ]
    },
    {
     "cell_type": "markdown",
     "metadata": {},
     "source": [
      "For example : http://www.kaggle.com/c/data-science-london-scikit-learn/forums/t/6528/solution-discussion\n",
      "\n",
      "Let us try pieces of the idea:\n",
      "\n",
      "* We will use PCA to reduce dimensions and then predict\n",
      "* Principal component analysis (PCA)\n",
      "* Linear dimensionality reduction using Singular Value Decomposition of the data and keeping only the most significant singular vectors to project the data to a lower dimensional space."
     ]
    },
    {
     "cell_type": "code",
     "collapsed": false,
     "input": [
      "%pylab --no-import-all inline\n",
      "from sklearn.decomposition import PCA\n",
      "pca = PCA()\n",
      "pca.fit(clf_data,clf_target)\n",
      "pd.DataFrame(pca.explained_variance_ratio_).plot(kind = 'bar')\n",
      "n_components = np.where(np.cumsum(pca.explained_variance_ratio_) >= 0.85)[0][0]\n",
      "print n_components"
     ],
     "language": "python",
     "metadata": {},
     "outputs": []
    },
    {
     "cell_type": "code",
     "collapsed": false,
     "input": [
      "pca = PCA(n_components=n_components)\n",
      "pca.fit(clf_data,clf_test)\n",
      "train_pca_X = pca.transform(clf_data)\n",
      "test_pca_X = pca.transform(clf_test)"
     ],
     "language": "python",
     "metadata": {},
     "outputs": []
    },
    {
     "cell_type": "code",
     "collapsed": false,
     "input": [
      "#Now us the transformed data to train & predict\n",
      "clf = SVC() # kernel = 'rbf'\n",
      "clf = clf.fit(train_pca_X,clf_target)\n",
      "clf_test_predict = clf.predict(test_pca_X )\n",
      "df_test_1 = pd.DataFrame(clf_test_predict)\n",
      "df_test_1['Solution'] = clf_test_predict\n",
      "df_test_1['Id'] = range(1,9001)\n",
      "df_test_1[['Id','Solution']].to_csv('dsl/sub-02.csv', index=False, float_format=\"%f\")\n",
      "# Submit and you shall see 0.91393 and a decent bump to 80th Rank ! PCA does work !"
     ],
     "language": "python",
     "metadata": {},
     "outputs": []
    },
    {
     "cell_type": "heading",
     "level": 3,
     "metadata": {},
     "source": [
      "_That is ALL Folks !_"
     ]
    },
    {
     "cell_type": "code",
     "collapsed": false,
     "input": [],
     "language": "python",
     "metadata": {},
     "outputs": []
    }
   ],
   "metadata": {}
  }
 ]
}