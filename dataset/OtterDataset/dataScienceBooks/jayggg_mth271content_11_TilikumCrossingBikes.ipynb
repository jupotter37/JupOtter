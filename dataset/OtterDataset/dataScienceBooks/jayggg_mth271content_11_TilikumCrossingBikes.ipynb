{
 "cells": [
  {
   "cell_type": "markdown",
   "metadata": {},
   "source": [
    "# <span style=\"color:rgb(106,127,16)\">Bikes on Tilikum Crossing</span>\n",
    "\n",
    "\n",
    "<div style=\"text-align: right\"><span style=\"color:rgb(106,127,16)\">May 1,  2020\n",
    "    </span></div>\n",
    "<br>\n",
    "\n",
    "\n"
   ]
  },
  {
   "cell_type": "markdown",
   "metadata": {},
   "source": [
    "\n",
    "A car-free bridge is still considered a ridiculous idea in many parts of our country. Portlanders beg to differ. Portland's newest bridge, the *Tilikum Crossing,* opened in 2015, and is highly multimodal,  allowing travel for pedestrians, bikes, electric scooters, trains, streetcars, and buses (but the modality of travel by personal car is missing). Bike lanes were not an afterthought, but rather an integral part of the bridge  design. One therefore expects to see a good amount of bike traffic on Tilikum.  \n",
    "\n",
    "\n",
    "In this activity, we examine the data collected by the bicycle counters on the Tilikum.  Portland is divided into east side and west side by the north-flowing Willamette river and the Tilikum connects the two sides with both eastbound and westbound lanes. Here is a photo of the bike counter (the black display, located in between the streetcar  and the  bike lane) on the bridge."
   ]
  },
  {
   "cell_type": "markdown",
   "metadata": {},
   "source": [
    "![Tilikum Bike Counter](../figs/TilikumStreecar.png)"
   ]
  },
  {
   "cell_type": "markdown",
   "metadata": {},
   "source": [
    "Portlanders  use the numbers displayed live on this little device to boast about Portland's bike scene in comparison to other cities. The data from the device can also be used in more complex ways. The goal of this lesson is to share the excitement of extracting knowledge or information from data - it is more fun than a Sherlock Holmes tale. In this activity, you get to be Mr. Holmes while you wrangle with the data and feel the thrill of uncovering  the following facts that even many of the locals don't know about.  $(a)$ Most of those who bike to work on Tilikum live on the east side. $(b)$ Recreational bikers on Tilikum prefer afternoon rides.  $(c)$ There are fewer bikers on the bridge after social distancing and they  appear to use the bridge during afternoons.\n",
    "\n",
    "Comparison with  Seattle's Fremont bridge bike counter data reveals more, as we shall see: $(a)$ there are fewer bikers on Portland's Tilikum than on Seattle's Fremont bridge in general.  $(b)$ During peak hours, bikers are distributed more evenly on Seattle's Fremont bridge travel lanes than on Tilikum.  $(c)$ The bike usage on both bridges have shifted to a recreational pattern after social distancing.\n"
   ]
  },
  {
   "cell_type": "markdown",
   "metadata": {},
   "source": [
    "The [BikePed Portal](http://bikeped.trec.pdx.edu) provides some of the data collected from the counter for the public, but currently only subsampled data can be  downloaded from there.  Here we shall instead use the full raw data set collected by the counters, which is not yet publicly downloadable. I gratefully acknowledge Dr. Tammy Lee and [TREC](https://trec.pdx.edu/) for making this data accessible. This activity is motivated by the material in [Working with Time Series](https://jakevdp.github.io/PythonDataScienceHandbook/03.11-working-with-time-series.html) section of [[JV-H]](https://jakevdp.github.io/PythonDataScienceHandbook/)."
   ]
  },
  {
   "cell_type": "code",
   "execution_count": null,
   "metadata": {},
   "outputs": [],
   "source": [
    "import pandas as pd\n",
    "import numpy as np\n",
    "import matplotlib.pyplot as plt\n",
    "import seaborn; seaborn.set()"
   ]
  },
  {
   "cell_type": "markdown",
   "metadata": {},
   "source": [
    "## Initial examination of the data\n",
    "\n"
   ]
  },
  {
   "cell_type": "markdown",
   "metadata": {},
   "source": [
    "As you have seen in previous activities, the first step in dealing with real data is data wrangling to make the data fit our tools. The case of this data is no different.  (If you haven't yet heard of Hadley Wickham's famous paper [Tidy Data](https://www.jstatsoft.org/article/view/v059i10), *J. Stat. Software,* I recommend you take a look. It begins with the sentence, \"A huge amount of effort is spent cleaning data to get it ready for analysis $\\ldots$\")"
   ]
  },
  {
   "cell_type": "code",
   "execution_count": null,
   "metadata": {},
   "outputs": [],
   "source": [
    "# metadata file (small file)\n",
    "tm = pd.read_csv('../../data_external/tilikum_metadata.csv')\n",
    "\n",
    "# data file (large file)\n",
    "td = pd.read_csv('../../data_external/tilikum_20200501.csv')\n",
    "td.head()"
   ]
  },
  {
   "cell_type": "code",
   "execution_count": null,
   "metadata": {},
   "outputs": [],
   "source": [
    "td.tail()"
   ]
  },
  {
   "cell_type": "markdown",
   "metadata": {},
   "source": [
    "Looking through first few (of the over 300,000) data entries above, and then examining the meta data file contents in `tm`, we conclude that `volume`  gives the bike counts. The volume is for 15-minute intervals as seen from `measure_period`. A quick check indicates that every data  entry has a starting and ending time that conforms to a 15-minute measurement."
   ]
  },
  {
   "cell_type": "code",
   "execution_count": null,
   "metadata": {},
   "outputs": [],
   "source": [
    "dif = pd.to_datetime(td['end_time']) - pd.to_datetime(td['start_time']) \n",
    "(dif == dif[0]).all()"
   ]
  },
  {
   "cell_type": "markdown",
   "metadata": {},
   "source": [
    "Therefore, let us rename `start_time` to just `time` and drop the redundant data in `end_time` and `measure_period` (as well as the `id`) columns. "
   ]
  },
  {
   "cell_type": "code",
   "execution_count": null,
   "metadata": {},
   "outputs": [],
   "source": [
    "td = td.rename(columns={'start_time':'time'}).drop(columns=['end_time', 'measure_period', 'id'])"
   ]
  },
  {
   "cell_type": "markdown",
   "metadata": {},
   "source": [
    "The meta data also tells us to expect three detectors and  three values of `flow_detector_id`. Here are a few entries from the meta data:"
   ]
  },
  {
   "cell_type": "code",
   "execution_count": null,
   "metadata": {},
   "outputs": [],
   "source": [
    "tm.T.loc[['detector_description', 'flow_detector_id', 'detector_make', 'detector_name', 'facility_description'], :]"
   ]
  },
  {
   "cell_type": "markdown",
   "metadata": {},
   "source": [
    "Although there are three values of `flow_detector_id` listed above, one of these values never seems to appear in the data file. You can check that it does not as follows:"
   ]
  },
  {
   "cell_type": "code",
   "execution_count": null,
   "metadata": {},
   "outputs": [],
   "source": [
    "(td.flow_detector_id==1904).sum()"
   ]
  },
  {
   "cell_type": "markdown",
   "metadata": {},
   "source": [
    "Therefore, going through the meta data again, we conclude that eastbound and westbound bikes pass through the flow detectors with id-numbers 1903 and 1905, respectively. \n",
    "\n",
    "The next step is to reshape the data into the form of a  time series. The `start_time` seems like a good candidate for indexing a time series. But it's  a red herring.  A closer look will tell you that the times are repeated in the data set. This is because there are distinct data entries for the eastbound and westbound volumes with the same time stamp. So we will make two data sets (since our data is not gigabytes long,  memory will not be an issue),  a `tE` for eastbound volume and `tW` for westbound volume.  "
   ]
  },
  {
   "cell_type": "code",
   "execution_count": null,
   "metadata": {},
   "outputs": [],
   "source": [
    "tE = td.loc[td['flow_detector_id']==1903, ['time', 'volume']]\n",
    "tE.index = pd.DatetimeIndex(pd.to_datetime(tE['time'])).tz_convert('US/Pacific')\n",
    "tE = tE.drop(columns=['time']).rename(columns={'volume':'Eastbound'})"
   ]
  },
  {
   "cell_type": "code",
   "execution_count": null,
   "metadata": {},
   "outputs": [],
   "source": [
    "tW = td.loc[td['flow_detector_id']==1905, ['time', 'volume']]\n",
    "tW.index = pd.DatetimeIndex(pd.to_datetime(tW['time'])).tz_convert('US/Pacific')\n",
    "tW = tW.drop(columns=['time']).rename(columns={'volume':'Westbound'})"
   ]
  },
  {
   "cell_type": "markdown",
   "metadata": {},
   "source": [
    "Note that we have now indexed eastbound and westbound data by time stamps, and  renamed `volume` to `Eastbound` and `Westbound` respectively in each case. \n",
    "\n",
    "\n",
    "We are now ready for a first look at the full time series. Let us consider the eastbound data first."
   ]
  },
  {
   "cell_type": "code",
   "execution_count": null,
   "metadata": {},
   "outputs": [],
   "source": [
    "tE.plot();"
   ]
  },
  {
   "cell_type": "markdown",
   "metadata": {},
   "source": [
    "Clearly, we have problems with this data. A spike of 7000 bikers passing through in 15 minutes, even for a bike-crazed city like Portland, just does not seem right. Zooming in, we find the situation even more disturbing, with a lot of zero readings before the spike: "
   ]
  },
  {
   "cell_type": "code",
   "execution_count": null,
   "metadata": {
    "scrolled": true
   },
   "outputs": [],
   "source": [
    "tE['2018-11-25':'2019-06-01'].plot();"
   ]
  },
  {
   "cell_type": "markdown",
   "metadata": {},
   "source": [
    "There are reports from [TriMet](https://trimet.org) of construction in 2018 and [city traffic advisories](https://www.portlandoregon.gov/transportation/article/728559) in 2019 that might all affect bike counter operation, but since the data set seems to have no means to indicate these outages,  we are forced to come up with some strategy ourselves for discarding the false-looking entries from the data. \n",
    "\n",
    "\n",
    "First,  exploiting `pandas`' ability to work with missing values, we declare the entries for the dates in the above plot to be missing. Note that missing data is not the same as zero data. When the bike counter is not working, the data should ideally be marked as missing, not zero. Since our suspicion is that outages might have resulted in defective counts, we shall effectively remove all data entries for these dates from the data set, as follows:"
   ]
  },
  {
   "cell_type": "code",
   "execution_count": null,
   "metadata": {},
   "outputs": [],
   "source": [
    "tE['2018-11-25':'2019-06-01'] = np.nan"
   ]
  },
  {
   "cell_type": "markdown",
   "metadata": {},
   "source": [
    "Next, we shall declare all entries with a volume of more than 1000 bikes per 15 minute to be a missing/defective value on both the westbound and eastbound data. "
   ]
  },
  {
   "cell_type": "code",
   "execution_count": null,
   "metadata": {},
   "outputs": [],
   "source": [
    "tE[tE > 1000] = np.nan\n",
    "tW[tW > 1000] = np.nan"
   ]
  },
  {
   "cell_type": "markdown",
   "metadata": {},
   "source": [
    "## Visualize cleaned up data\n",
    "\n",
    "After the preparations above, we are now ready to visualize. Let us merge the east and west two data sets on the same time stamp axis. "
   ]
  },
  {
   "cell_type": "code",
   "execution_count": null,
   "metadata": {},
   "outputs": [],
   "source": [
    "t = pd.merge(tE, tW, on='time')\n",
    "t.plot(alpha=0.7, style=['-',':']);"
   ]
  },
  {
   "cell_type": "markdown",
   "metadata": {},
   "source": [
    "Examining the above graph, we still see spikes that look unreasonably high in the beginning of the data, but they may actually be real because  at the official [opening of the bridge](https://www.oregonlive.com/multimedia/2015/08/tilikum_crossing_public_treate.html)  there were 30,000 to 40,000 people and at least 13,000 bikes milling around. Similarly, the other spikes may be real data. One can try to explain them, e.g.,  by consulting https://bikeportland.org/events/, from which you might conclude that the spike on August 25, 2019 is due to a [Green Loop](https://bikeportland.org/event/sunday-parkways-green-loop-downtown) event, and that large spike on June 29, 2019 might be due to all the people coming over for the World Naked Bike Ride; or was it some afterparty of Loud'n Lit event? I can't really tell.   We'll just leave it at that, and blame the remaining spikes on the groovy bike scene of Portland.\n",
    "\n",
    "\n",
    "The quarter-hour samples look too dense in the plot above. A better picture of the situation is obtained by extracting weekly counts of bikes in both directions from the data."
   ]
  },
  {
   "cell_type": "code",
   "execution_count": null,
   "metadata": {},
   "outputs": [],
   "source": [
    "t.resample('W').sum().plot(style=['-',':'], title='Weekly bike counts on Tilikum');"
   ]
  },
  {
   "cell_type": "markdown",
   "metadata": {},
   "source": [
    "## The pattern of use "
   ]
  },
  {
   "cell_type": "markdown",
   "metadata": {},
   "source": [
    "The Tilikum is being used both by people who commute to work using a bicycle as well as recreational bicycle users. We can understand more about this division among bikers by dividing the data into weekend and weekday entries.\n",
    "\n",
    "\n",
    "The only technical skills you need for this are `numpy.where` and an understanding of `pandas.Timestamp` objects.  (Please ensure you have  studied  [Working with Time Series section of [JV-H]](https://jakevdp.github.io/PythonDataScienceHandbook/03.11-working-with-time-series.html) before proceeding.)   Combined with a use of `pandas.groupby`, we can then extract the mean biker volumes for each 15-minute interval during the day. \n",
    "\n",
    "The result is the distribution plotted below. "
   ]
  },
  {
   "cell_type": "code",
   "execution_count": null,
   "metadata": {},
   "outputs": [],
   "source": [
    "def weekplot(d, onlyweekend=False, title=None):\n",
    "    weekend = np.where(d.index.weekday < 5, 'Weekday', 'Weekend')\n",
    "    by_time = d.groupby([weekend, d.index.time]).mean()\n",
    "    if onlyweekend: \n",
    "        if title is None: title = 'Bikes per 15-min during weekends'\n",
    "        by_time.loc['Weekend'].plot(title=title)\n",
    "    else:\n",
    "        if title is None: title = 'Bikes per 15-min during weekdays'\n",
    "        by_time.loc['Weekday'].plot(title=title)\n",
    "        \n",
    "weekplot(t)"
   ]
  },
  {
   "cell_type": "markdown",
   "metadata": {},
   "source": [
    "The hourly distribution is distinctly \"bimodal\". There is a group of westbound commuters (on their way to work) on the bridge in the morning, and a group (probably the same people) traveling eastbound after work. If you look closely, you will find that there are two slightly smaller bumps indicating that there are some (although many fewer) eastbound morning bikers and westbound evening bikers across the bridge. Yet, on the whole, the data leads us to the interesting conclusion that the overwhelming majority of the **bike commuters on the Tilikum live on the east side** and  commute to the west for work and return daily.\n",
    "\n",
    "Often the  purpose of understanding data is to guide policy and action. What might one do with the pattern we have just discovered? The current numbers are small enough not to pose a bike traffic problem. But envision a future where the bike counts will grow. If it grows maintaining the same lop-sided utilization pattern, what are the city's options to encourage optimal bridge usage? Bike traffic flow control modifications? Generation of more jobs on the east side? More residential zoning near the west end of the bridge? These are complex issues where an urban planner's expertise is needed. Nonetheless, I hope to have convinced you of the importance of going from data (clicks on a counter) to knowledge (patterns of use).\n",
    "\n",
    "\n",
    "\n",
    "Next, let us look at the non-commuter, recreational, use, assuming that they occur in the weekends. In sharp contrast to the  weekday distribution, below we find that the weekend distribution has just one peak."
   ]
  },
  {
   "cell_type": "code",
   "execution_count": null,
   "metadata": {},
   "outputs": [],
   "source": [
    "weekplot(t, onlyweekend=True)"
   ]
  },
  {
   "cell_type": "markdown",
   "metadata": {},
   "source": [
    "Both the eastbound and westbound lanes seem to find a good amount of use in the weekend. There is, most definitely, a preference for recreational riding in the afternoon. I suppose that is not a major surprise in Portland as afternoons are most often when we are given a reprieve from  the battleship gray of the cloud cover."
   ]
  },
  {
   "cell_type": "markdown",
   "metadata": {},
   "source": [
    "## Changes due to isolation"
   ]
  },
  {
   "cell_type": "markdown",
   "metadata": {},
   "source": [
    "As you know, on March 18, 2020, in-person instructional activities at all universities in Oregon were suspended, and  on March 23 our governor issued the [\"Stay Home, Save Lives\" executive order](https://govsite-assets.s3.amazonaws.com/jkAULYKcSh6DoDF8wBM0_EO%2020-12.pdf). Since the  Tilikum is near two major universities in Portland, we expect the weekday bike traffic to be impacted by these measures. Let us examine what the data tells us. "
   ]
  },
  {
   "cell_type": "code",
   "execution_count": null,
   "metadata": {},
   "outputs": [],
   "source": [
    "weekplot(t.loc[:'2020-03-17'], title='Before social distancing')"
   ]
  },
  {
   "cell_type": "code",
   "execution_count": null,
   "metadata": {},
   "outputs": [],
   "source": [
    "weekplot(t.loc['2020-03-17':], title='After social distancing')"
   ]
  },
  {
   "cell_type": "markdown",
   "metadata": {},
   "source": [
    "Clearly, the strong bimodal distribution has weakened considerably after we all started isolating ourselves. This perhaps comes as  no surprise, since both universities on the west side of Tilikum  have switched to remote classes. It makes sense that there are fewer westbound commuters in the morning.  What about the afternoon peak?  One could imagine various explanations for this: people isolating themselves all morning, getting restless in the afternoon, especially with such unusually good weather we were having in April, and deciding to take their bikes out for some fresh air. Whatever be the case, we can  summarize our conclusion from the data as follows:  **social distancing has changed the weekday bike use on Tilikum from a commuter to a recreational pattern.**    "
   ]
  },
  {
   "cell_type": "markdown",
   "metadata": {},
   "source": [
    "Of course, we can also compare the overall statistics before and after social distancing, but the results are too blunt to point out differences like the above.  From the statistics outputs below,  we see that the average number of bikers per quarter-hour in each direction has decreased by about 1:"
   ]
  },
  {
   "cell_type": "code",
   "execution_count": null,
   "metadata": {},
   "outputs": [],
   "source": [
    "t.loc[:'2020-03-17'].mean() - t.loc['2020-03-17':].mean()"
   ]
  },
  {
   "cell_type": "markdown",
   "metadata": {},
   "source": [
    "The data can also tell us the reduction in terms of number of bikers per week, although we should perhaps use it with some caution as  not enough weeks have passed after social distancing started to form a robust sample."
   ]
  },
  {
   "cell_type": "code",
   "execution_count": null,
   "metadata": {},
   "outputs": [],
   "source": [
    "t.loc[:'2020-03-17'].resample('W').sum().mean() - t.loc['2020-03-17':].resample('W').sum().mean()"
   ]
  },
  {
   "cell_type": "markdown",
   "metadata": {},
   "source": [
    "The westbound lane certainly seems to have suffered more reduction in traffic after social distancing, whichever way we slice it."
   ]
  },
  {
   "cell_type": "markdown",
   "metadata": {},
   "source": [
    "## Comparison with Seattle's Fremont bridge"
   ]
  },
  {
   "cell_type": "markdown",
   "metadata": {},
   "source": [
    "Although Portland claims to be the [first city](https://www.smartcitypdx.com/open-data-program) in the US to adopt the open data program, Seattle's open data program is something to envy.  Seattle's Fremont bridge bike counter data, even  way back  from 2012,  is readily available for anyone to download, thanks to their open data program (at the URL below).    Let's take a peek at their data."
   ]
  },
  {
   "cell_type": "code",
   "execution_count": null,
   "metadata": {},
   "outputs": [],
   "source": [
    "import os\n",
    "import shutil\n",
    "import urllib\n",
    "\n",
    "url = \"https://data.seattle.gov/api/views/65db-xm6k/rows.csv?accessType=DOWNLOAD\"\n",
    "f = \"../../data_external/Fremont_Bridge_Bicycle_Counter.csv\"\n",
    "\n",
    "if not os.path.isdir('../../data_external/'):\n",
    "    os.mkdir('../../data_external/')\n",
    "\n",
    "if not os.path.exists(f):\n",
    "    with open(f, 'wb') as fo:\n",
    "        r = urllib.request.urlopen(url)\n",
    "        shutil.copyfileobj(r, fo)"
   ]
  },
  {
   "cell_type": "code",
   "execution_count": null,
   "metadata": {},
   "outputs": [],
   "source": [
    "sd = pd.read_csv(f)\n",
    "sd.tail()"
   ]
  },
  {
   "cell_type": "markdown",
   "metadata": {},
   "source": [
    "Let's do some quick clean up and renaming. "
   ]
  },
  {
   "cell_type": "code",
   "execution_count": null,
   "metadata": {},
   "outputs": [],
   "source": [
    "sd = sd.rename(columns={'Date' : 'time', \n",
    "                        'Fremont Bridge East Sidewalk' : 'East', \n",
    "                        'Fremont Bridge West Sidewalk' : 'West'})\n",
    "sd.index = pd.to_datetime(sd.loc[:, 'time'])\n",
    "sd = sd.drop(columns=['time', 'Fremont Bridge Total'])\n",
    "sd.head()"
   ]
  },
  {
   "cell_type": "markdown",
   "metadata": {},
   "source": [
    "### Volume comparison"
   ]
  },
  {
   "cell_type": "markdown",
   "metadata": {},
   "source": [
    "Note that the Seattle data gives counts per hour, not counts per 15-minutes like the Tilikum data. To compare the general statistics, we should resample the Tilikum to get hourly counts. "
   ]
  },
  {
   "cell_type": "code",
   "execution_count": null,
   "metadata": {},
   "outputs": [],
   "source": [
    "th = t.resample('H').sum()\n",
    "th.describe()   # Portland's Tilikum"
   ]
  },
  {
   "cell_type": "code",
   "execution_count": null,
   "metadata": {},
   "outputs": [],
   "source": [
    "sd.describe()   # Seattle's Fremont"
   ]
  },
  {
   "cell_type": "markdown",
   "metadata": {},
   "source": [
    "The Tilikum data is spikier than Seattle's Fremont data (compare the `max` values in the above outputs), but the average volumes (`mean`) are clearly higher in Seattle. That the volume is higher in Seattle in even more clear if we plot weekly counts on both bridges on the same axis."
   ]
  },
  {
   "cell_type": "code",
   "execution_count": null,
   "metadata": {},
   "outputs": [],
   "source": [
    "sw = sd.resample('W').sum()\n",
    "tw = t.resample('W').sum()\n",
    "fig, axs = plt.subplots(1, 2, figsize=(13, 3), sharey=True)\n",
    "plt.subplots_adjust(wspace=0.05)\n",
    "sw.plot(ax=axs[0], title='Fremont bridge (Seattle) bikes/week'); \n",
    "tw.plot(ax=axs[1], title='Tilikum bridge (Portland) bikes/week');"
   ]
  },
  {
   "cell_type": "markdown",
   "metadata": {},
   "source": [
    "### Daily patterns"
   ]
  },
  {
   "cell_type": "markdown",
   "metadata": {},
   "source": [
    "There is a striking difference in the distribution of the average number of bikes/hour during weekdays on the two bridges."
   ]
  },
  {
   "cell_type": "code",
   "execution_count": null,
   "metadata": {},
   "outputs": [],
   "source": [
    "weekplot(sd, title='Fremont (Seattle) on weekdays (Bikes/hr)')\n",
    "weekplot(th, title='Tilikum (Portland) on weekdays (Bikes/hr)')"
   ]
  },
  {
   "cell_type": "markdown",
   "metadata": {},
   "source": [
    "The Fremont bridge has good bike traffic flow in both directions during the peak hours, unlike the Tilikum.  We conclude that **during peak hours, bikers are distributed more evenly on Seattle's Fremont bridge travel lanes than on Portland's Tilikum.**"
   ]
  },
  {
   "cell_type": "markdown",
   "metadata": {},
   "source": [
    "### Changes after social distancing"
   ]
  },
  {
   "cell_type": "code",
   "execution_count": null,
   "metadata": {},
   "outputs": [],
   "source": [
    "weekplot(sd['2020-03-17':], title='Fremont (Seattle): Weekdays after social distancing'); plt.ylabel('Bikes/hour');\n",
    "weekplot(th['2020-03-17':], title='Tilikum (Portland): Weekdays after social distancing'); plt.ylabel('Bikes/hour');"
   ]
  },
  {
   "cell_type": "markdown",
   "metadata": {},
   "source": [
    "Somewhat remarkably, despite all the above-seen differences, the weekday bike counts of both cities respond to social distancing in quite the same fashion: the bimodal weekday distribution of commuting to work has become a unimodal afternoon recreation pattern."
   ]
  },
  {
   "cell_type": "markdown",
   "metadata": {},
   "source": [
    "\n",
    "\n",
    "<hr>\n",
    "\n",
    "<span style=\"color:rgb(106,127,16); font-size:8pt\">Author:</span> [<span style=\"color:rgb(106,127,16); font-size:8pt\">Jay Gopalakrishnan</span>](http://web.pdx.edu/~gjay/) \n",
    "<br><span style=\"color:rgb(106,127,16); font-size:8pt\">License:</span> [<span style=\"color:rgb(106,127,16) ; font-size:8pt\">&copy;2020. CC-BY-SA</span>](https://creativecommons.org/licenses/by-sa/4.0/legalcode)\n",
    "<br><span style=\"color:rgb(106,127,16) ; font-size:8pt\">$\\ll$</span>[<span style=\"color:rgb(106,127,16) ; font-size:8pt\">Table of Contents</span>](./TOC.ipynb)\n",
    " \n",
    " \n",
    " "
   ]
  }
 ],
 "metadata": {
  "kernelspec": {
   "display_name": "Python 3",
   "language": "python",
   "name": "python3"
  },
  "language_info": {
   "codemirror_mode": {
    "name": "ipython",
    "version": 3
   },
   "file_extension": ".py",
   "mimetype": "text/x-python",
   "name": "python",
   "nbconvert_exporter": "python",
   "pygments_lexer": "ipython3",
   "version": "3.8.0"
  }
 },
 "nbformat": 4,
 "nbformat_minor": 2
}
