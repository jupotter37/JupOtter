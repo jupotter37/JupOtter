{
 "cells": [
  {
   "cell_type": "markdown",
   "metadata": {},
   "source": [
    "# TMDB Box Office Revenue Prediction\n"
   ]
  },
  {
   "cell_type": "markdown",
   "metadata": {},
   "source": [
    "## Table of Contents\n",
    "\n",
    "[GroupName](#GroupName)<br>\n",
    "[StudentNames](#StudentNames)<br>\n",
    "\n",
    "Data Science Workflow:<br>\n",
    "[Ask](#Ask)<br>\n",
    "[Acquire](#Acquire)<br>\n",
    "[Process](#Process)<br>\n",
    "[Model](#Model)<br>\n",
    "[Deliver](#Deliver)\n",
    "\n",
    "[Conclusion](#Conclusion)"
   ]
  },
  {
   "cell_type": "markdown",
   "metadata": {},
   "source": [
    "## GroupName\n",
    "\n",
    "<font size=\"3\">Sherlock Homies</font> "
   ]
  },
  {
   "cell_type": "markdown",
   "metadata": {},
   "source": [
    "## StudentNames\n",
    "\n",
    "    1) Akanksha .\n",
    "    2) Shreejaya Bharathan\n",
    "    3) Aakanksha Nallabothula Surya"
   ]
  },
  {
   "cell_type": "markdown",
   "metadata": {},
   "source": [
    "## Ask\n",
    "\n",
    "Can we predict a movie's worldwide box office revenue ?"
   ]
  },
  {
   "cell_type": "markdown",
   "metadata": {},
   "source": [
    "## Acquire\n",
    "\n",
    "The data is obtained from Kaggle: <a href=\"https://www.kaggle.com/c/tmdb-box-office-prediction/data\">https://www.kaggle.com/c/tmdb-box-office-prediction/data</a>"
   ]
  },
  {
   "cell_type": "code",
   "execution_count": 1,
   "metadata": {},
   "outputs": [],
   "source": [
    "import pandas as pd\n",
    "import numpy as np\n",
    "from collections import Counter\n",
    "from sklearn.model_selection import train_test_split\n",
    "from sklearn.ensemble import RandomForestRegressor\n",
    "from sklearn import metrics\n",
    "from sklearn.metrics import mean_squared_error, median_absolute_error\n",
    "from sklearn.metrics import r2_score\n",
    "from sklearn.linear_model import Ridge,Lasso\n",
    "from sklearn.ensemble import RandomForestRegressor\n",
    "from sklearn.neighbors import KNeighborsRegressor\n",
    "from sklearn.pipeline import Pipeline\n",
    "from sklearn.preprocessing import StandardScaler\n",
    "from sklearn.linear_model import LinearRegression, BayesianRidge\n",
    "from sklearn.isotonic import IsotonicRegression\n",
    "from sklearn import ensemble\n",
    "from sklearn.svm import SVR\n",
    "from sklearn.gaussian_process import GaussianProcessRegressor\n",
    "from xgboost import XGBRegressor\n",
    "from sklearn import impute\n",
    "from sklearn import preprocessing\n",
    "from sklearn import compose\n",
    "from sklearn.model_selection import RandomizedSearchCV\n",
    "from sklearn.model_selection import KFold, cross_val_score\n",
    "from rfpimp import *"
   ]
  },
  {
   "cell_type": "code",
   "execution_count": 2,
   "metadata": {},
   "outputs": [],
   "source": [
    "data = pd.read_csv('./data/tmdb-box-office-prediction/train.csv')"
   ]
  },
  {
   "cell_type": "markdown",
   "metadata": {},
   "source": [
    "## Process"
   ]
  },
  {
   "cell_type": "markdown",
   "metadata": {},
   "source": [
    "##### Columns chosen:  \n",
    "budget, genres, original_language, popularity, production_companies, release_Data, runtime, cast\n",
    "\n",
    "Target: revenue"
   ]
  },
  {
   "cell_type": "code",
   "execution_count": 3,
   "metadata": {},
   "outputs": [],
   "source": [
    "# Removing records which have less than 10_000 Revenue\n",
    "data = data.loc[data['revenue']>10_000]\n",
    "\n",
    "X = data[['budget', 'genres', 'original_language', 'popularity', 'production_companies', 'release_date', 'runtime']]\n",
    "y = data['revenue']"
   ]
  },
  {
   "cell_type": "markdown",
   "metadata": {},
   "source": [
    "#### Helper functions for preprocessings"
   ]
  },
  {
   "cell_type": "code",
   "execution_count": 4,
   "metadata": {},
   "outputs": [],
   "source": [
    "# Helper functions for preprocessing\n",
    "\n",
    "def get_age(df, col_name):\n",
    "    \"\"\" \n",
    "    Creates a column for age using a column consisting of dates\n",
    "    \n",
    "    Input: dataframe, input column name\n",
    "    Output : None, dataframe modifications done in place\n",
    "    \"\"\"\n",
    "    \n",
    "    df['current_day'] = pd.to_datetime('today')\n",
    "    df[col_name+'-age']  = (df['current_day'] - pd.to_datetime(df[col_name])).dt.days\n",
    "    df.drop(['current_day'],axis=1, inplace=True)\n",
    "    \n",
    "def get_genre_list (genres):\n",
    "    \"\"\" \n",
    "    Extract genres from the given string\n",
    "    \n",
    "    Input: String\n",
    "    Output : List of strings\n",
    "    \"\"\"\n",
    "    \n",
    "    res = []\n",
    "    if not genres or pd.isnull(genres):\n",
    "        return res\n",
    "    genres = genres.replace('[','').replace(']','')\n",
    "    genre_list = genres.split('},')\n",
    "    for item in genre_list:\n",
    "        res.append(int(item.split(',')[0].replace(\"{'id': \", '')))\n",
    "    return res\n",
    "\n",
    "def get_counts(df,col_name):\n",
    "    \"\"\"\n",
    "    Gets counts of elements from a flattened list of the given column in the dataframe\n",
    "    \n",
    "    Input: dataframe, column name\n",
    "    Output: Counter Object\n",
    "    \"\"\"\n",
    "    \n",
    "    x = []\n",
    "    for j in df[col_name]:\n",
    "        x.append(j)\n",
    "    return Counter(sum(x,[]))\n",
    "\n",
    "def get_unique(df,col_name):\n",
    "    \"\"\"\n",
    "    Gets list of unique elements from a flattened list of the given column in the dataframe\n",
    "    \n",
    "    Input: dataframe, column name\n",
    "    Output: List\n",
    "    \"\"\"\n",
    "    x = set()\n",
    "    for j in df[col_name]:\n",
    "        x = x.union(j)\n",
    "    return list(x)\n",
    "\n",
    "def n_hot_encode(df,col_name, val_list=None):\n",
    "    \"\"\"\n",
    "    Given a column consisting of lists of elements, creates columns for each unique element of the flattened list,\n",
    "    if particular element exists in the column for a row, the row entry for the column of that element is marked as 1\n",
    "    \n",
    "    eg:\n",
    "    if flattened list of genres = ['comedy', 'drama', 'thriller']\n",
    "    if row value = ['comedy', 'drama']\n",
    "    \n",
    "    for the given row,\n",
    "    genre_0 = 1, genre_1 = 1, genre_2 = 0 (column name genre_0 stands for comedy, genre_1 for drama, genre_2 for thriller)\n",
    "    \n",
    "    \n",
    "    Input: dataframe, column name, (optional) value list : list of unique element values to create new columns for\n",
    "    Output: None, dataframe modifications done in place\n",
    "    \"\"\"\n",
    "    \n",
    "    if(not val_list):\n",
    "        val_list = get_unique(df, col_name) \n",
    "    for i in range(len(val_list)):\n",
    "        df[col_name+str(i)] = 0\n",
    "    for index, row in df.iterrows():\n",
    "        for elm in df[col_name][index]:\n",
    "            if( elm in val_list):\n",
    "                df[col_name+str(val_list.index(elm))][index] = 1\n",
    "\n",
    "def get_prod_id_list(prod):\n",
    "    \"\"\" \n",
    "    Extract production company ID from the given string\n",
    "    \n",
    "    Input: String\n",
    "    Output : List of strings\n",
    "    \"\"\"\n",
    "    \n",
    "    res = []\n",
    "    if not prod or pd.isnull(prod):\n",
    "        return res\n",
    "    prod = prod.replace('[{','').replace('}]','')\n",
    "    prod_list = prod.split('},')\n",
    "    for item in prod_list:\n",
    "        res.append(int(item.split(',')[-1].replace(\"'id': \", '')))\n",
    "    return res\n",
    "\n",
    "def get_prod_list_names(prod):\n",
    "    \"\"\" \n",
    "    Extract production company names from the given string\n",
    "    \n",
    "    Input: String\n",
    "    Output : List of strings\n",
    "    \"\"\"\n",
    "    \n",
    "    res = []\n",
    "    if not prod or pd.isnull(prod):\n",
    "        return res\n",
    "    prod = prod.replace('[{','').replace('}]','')\n",
    "    prod_list = prod.split('},')\n",
    "    for item in prod_list:\n",
    "        res.append(int(item.split(',')[-1].replace(\"'name': \", '')))\n",
    "    return res\n",
    "\n",
    "def get_list_of_casts(df, col):\n",
    "    \"\"\" \n",
    "    Get list of cast members in all movies\n",
    "    \n",
    "    Input: dataframe, column name\n",
    "    Output : List of strings\n",
    "    \"\"\"\n",
    "    cast_list = []\n",
    "    for index, row in df.iterrows():\n",
    "        cast_dict_list = eval(df[col][index])\n",
    "        for idx in range(len(cast_dict_list)):\n",
    "            cast_list.append(cast_dict_list[idx]['name'])\n",
    "    return cast_list\n",
    "\n",
    "def create_popular_cast_counter(df, col, casts, n):\n",
    "    \"\"\"\n",
    "    Creates a column counting the number of popular cast memebers in movie\n",
    "    \n",
    "    \n",
    "    \"\"\"\n",
    "    most_popular = Counter(casts).most_common(n)\n",
    "    df['pop_cast'] = 0\n",
    "    for index, row in df.iterrows():\n",
    "        cast_dict_str = df[col][index]\n",
    "        for cast in most_popular:\n",
    "            if cast[0] in cast_dict_str:\n",
    "                df['pop_cast'][index] = df['pop_cast'][index] + 1\n",
    "\n",
    "def create_dump_month_identifier(df, col):\n",
    "    \"\"\"\n",
    "    Creates column to identify whether movie was released in a dump month\n",
    "    \n",
    "    Input: dataframe, column name\n",
    "    Output : None, dataframe modifications done in place\n",
    "    \"\"\"\n",
    "    df[col] = pd.to_datetime(df[col])\n",
    "    df[col+'_month'] = df[col].dt.month\n",
    "    df['dump_month_identifier'] = 0\n",
    "    for index, row in df.iterrows():\n",
    "        if df[col+'_month'][index] in [1,2,8,9]:\n",
    "            df['dump_month_identifier'][index] = 1   \n",
    "    df.drop([col+'_month'],axis=1,inplace=True)\n",
    "\n",
    "def create_language_order_dict(df, col_name):\n",
    "    \"\"\"\n",
    "    Creates a dictionary of genres and their position in a ranking by average revenue by language\n",
    "    \n",
    "    eg:\n",
    "    if comedy revenue = $134 million\n",
    "    if thriller revenue = $70 million\n",
    "    if action revenue = $85 million\n",
    "    \n",
    "    dictionary output:\n",
    "    {\n",
    "        \"comedy\": 0,\n",
    "        \"thriller\": 2,\n",
    "        \"action\": 1\n",
    "    }\n",
    "    \n",
    "    Input: dataframe, language column name\n",
    "    Output : dictionary of genres mapped with their positions\n",
    "    \"\"\"\n",
    "    \n",
    "    language_order = df.groupby([col_name]).mean().reset_index()[[col_name, 'revenue']].sort_values(by='revenue', ascending=False)\n",
    "    language_order_dict = {}\n",
    "    languages = list(language_order[col_name])\n",
    "    for i in range(len(languages)):\n",
    "        language_order_dict[languages[i]] = i\n",
    "    return language_order_dict\n",
    "\n",
    "def get_language_position(language):\n",
    "    \"\"\"\n",
    "    Returns position of given language in list of languages ordered by average revenue\n",
    "    \n",
    "    Input: language\n",
    "    Output : position of l\n",
    "    \"\"\"\n",
    "    language_order_dict = create_language_order_dict(data, 'original_language')\n",
    "    return language_order_dict[language]"
   ]
  },
  {
   "cell_type": "markdown",
   "metadata": {},
   "source": [
    "#### Preprocessing "
   ]
  },
  {
   "cell_type": "code",
   "execution_count": 5,
   "metadata": {},
   "outputs": [
    {
     "name": "stderr",
     "output_type": "stream",
     "text": [
      "/Users/aakanksha/miniconda3/envs/ml/lib/python3.7/site-packages/ipykernel_launcher.py:2: SettingWithCopyWarning: \n",
      "A value is trying to be set on a copy of a slice from a DataFrame.\n",
      "Try using .loc[row_indexer,col_indexer] = value instead\n",
      "\n",
      "See the caveats in the documentation: http://pandas.pydata.org/pandas-docs/stable/user_guide/indexing.html#returning-a-view-versus-a-copy\n",
      "  \n",
      "/Users/aakanksha/miniconda3/envs/ml/lib/python3.7/site-packages/ipykernel_launcher.py:77: SettingWithCopyWarning: \n",
      "A value is trying to be set on a copy of a slice from a DataFrame.\n",
      "Try using .loc[row_indexer,col_indexer] = value instead\n",
      "\n",
      "See the caveats in the documentation: http://pandas.pydata.org/pandas-docs/stable/user_guide/indexing.html#returning-a-view-versus-a-copy\n",
      "/Users/aakanksha/miniconda3/envs/ml/lib/python3.7/site-packages/ipykernel_launcher.py:81: SettingWithCopyWarning: \n",
      "A value is trying to be set on a copy of a slice from a DataFrame\n",
      "\n",
      "See the caveats in the documentation: http://pandas.pydata.org/pandas-docs/stable/user_guide/indexing.html#returning-a-view-versus-a-copy\n"
     ]
    }
   ],
   "source": [
    "#preprocess genres\n",
    "X['genre_list'] = X['genres'].apply(get_genre_list)\n",
    "n_hot_encode(X,'genre_list')\n",
    "X.drop(['genre_list','genres'], axis=1, inplace=True)\n",
    "\n",
    "#get age from release date\n",
    "get_age(X, 'release_date')\n",
    "#create_dump_month_identifier(X, 'release_date')\n",
    "X.drop(['release_date'],axis=1,inplace=True)\n",
    "\n",
    "#preprocess production companies\n",
    "X['prod_comp_list'] = X['production_companies'].apply(get_prod_id_list)\n",
    "val_list = [x[0] for x in get_counts(X,'prod_comp_list').most_common(20)]\n",
    "n_hot_encode(X,'prod_comp_list', val_list)\n",
    "X.drop(['production_companies', 'prod_comp_list'],axis=1,inplace=True)\n",
    "\n",
    "# Encoding original_language\n",
    "X['original_language'] = X['original_language'].apply(get_language_position)"
   ]
  },
  {
   "cell_type": "markdown",
   "metadata": {},
   "source": [
    "## Model\n",
    "\n",
    "Evaluation metric:<br>\n",
    "The response variable has skewed distribution, hence we preferred to choose a metric which is robust to outliers.\n",
    "Considered Median Absolute Error, R2_Score, and RMLSE as evaluation options.\n",
    "Selected Median Absolute Error as the north star metric because of the ease of its interpretability.\n",
    "\n",
    "\n",
    "### Baseline model: Ridge Regression"
   ]
  },
  {
   "cell_type": "markdown",
   "metadata": {},
   "source": [
    "#### model-metric - rmsle"
   ]
  },
  {
   "cell_type": "code",
   "execution_count": 6,
   "metadata": {},
   "outputs": [],
   "source": [
    "def rmlse(target_true, target_predicted):\n",
    "    \"\"\"\n",
    "    Root Mean Squared Logarithmic Error\n",
    "    Input: True response values, predicted response values\n",
    "    Output: The computed root mean squared logarithmic error\n",
    "    \"\"\"\n",
    "    assert len(target_true) == len(target_predicted), \"True and predicted targets need to be the same length\"\n",
    "    log_diff = np.log(target_predicted + 1) - np.log(target_true + 1)\n",
    "    return np.sqrt(np.mean(np.power(log_diff, 2)))"
   ]
  },
  {
   "cell_type": "markdown",
   "metadata": {},
   "source": [
    "#### Train-test-validation split"
   ]
  },
  {
   "cell_type": "code",
   "execution_count": 7,
   "metadata": {},
   "outputs": [],
   "source": [
    "X_train, X_test, y_train, y_test = train_test_split(X, y, test_size=0.30, random_state=42)\n",
    "X_test, X_val, y_test, y_val = train_test_split(X_test, y_test, test_size=0.2, random_state=42)"
   ]
  },
  {
   "cell_type": "markdown",
   "metadata": {},
   "source": [
    "#### Pipelines"
   ]
  },
  {
   "cell_type": "code",
   "execution_count": 8,
   "metadata": {},
   "outputs": [],
   "source": [
    "def make_pipelines(df_cols):\n",
    "    \"\"\"Creates pipeline for each of the following algorithms:\n",
    "    1. Ridge Regression\n",
    "    2. K-nearest Neighbors Regressor\n",
    "    3. BayesianRidge\n",
    "    4. Random Forest™\n",
    "    5. XGBoost\n",
    "    If appropriate, apply StandardScaler before the algorithm.\n",
    "    Use default hyperparameters.\n",
    "    If an algorithm takes random_state then random_state=42\n",
    "    - Create a numerical feature transformer.\n",
    "    - Create a preprocessor\n",
    "    - Create a pipeline for each of the above given algorithms with StandardScalar(if applied), and preprocessors.\n",
    "    Input: Dataframe columns\n",
    "    Output: A list of all the pipelines.\n",
    "    \"\"\"\n",
    "    numeric_features = list(df_cols)\n",
    "    numeric_transformer = Pipeline(steps=[('imputer', impute.SimpleImputer(strategy='median', missing_values=np.nan))])\n",
    "    preprocessor = compose.ColumnTransformer(transformers=[('num', numeric_transformer, numeric_features)])\n",
    "    pipelines = [Pipeline(steps=[('preprocessor', preprocessor),('scaler', preprocessing.StandardScaler()),('reg', Ridge(normalize = True))])]\n",
    "    pipelines.append(Pipeline(steps=[('preprocessor', preprocessor),('scaler', preprocessing.StandardScaler()),('reg', KNeighborsRegressor())]))\n",
    "    pipelines.append(Pipeline(steps=[('preprocessor', preprocessor),('scaler', preprocessing.StandardScaler()),('reg', BayesianRidge())]))\n",
    "    pipelines.append(Pipeline(steps=[('preprocessor', preprocessor),('reg', RandomForestRegressor(random_state = 42))]))\n",
    "    pipelines.append(Pipeline(steps=[('preprocessor', preprocessor),('xgb', XGBRegressor(seed = 42))]))\n",
    "    return pipelines"
   ]
  },
  {
   "cell_type": "code",
   "execution_count": 9,
   "metadata": {},
   "outputs": [],
   "source": [
    "def make_pipeline_model_eval(df_cols, regressor = None):\n",
    "    \"\"\"\n",
    "    - Create a numerical feature transformer.\n",
    "    - Create a preprocessor\n",
    "    - Create a pipeline for the given regressor with StandardScalar(if applied), and preprocessor.\n",
    "    Input: Dataframe columns\n",
    "    Output: A list of all the pipelines.\n",
    "    \"\"\"\n",
    "    numeric_transformer = Pipeline(steps=[('imputer', impute.SimpleImputer(strategy='median', missing_values=np.nan)), \\\n",
    "                                          ('scaler', preprocessing.StandardScaler())])\n",
    "    preprocessor = compose.ColumnTransformer(transformers=[('num', numeric_transformer, list(df_cols))])\n",
    "    pipeline = Pipeline(steps=[('preprocessor', preprocessor),('regressor', regressor)])\n",
    "    return pipeline"
   ]
  },
  {
   "cell_type": "code",
   "execution_count": 10,
   "metadata": {},
   "outputs": [
    {
     "name": "stderr",
     "output_type": "stream",
     "text": [
      "/Users/aakanksha/miniconda3/envs/ml/lib/python3.7/site-packages/sklearn/ensemble/forest.py:245: FutureWarning: The default value of n_estimators will change from 10 in version 0.20 to 100 in 0.22.\n",
      "  \"10 in version 0.20 to 100 in 0.22.\", FutureWarning)\n",
      "/Users/aakanksha/miniconda3/envs/ml/lib/python3.7/site-packages/xgboost/core.py:587: FutureWarning: Series.base is deprecated and will be removed in a future version\n",
      "  if getattr(data, 'base', None) is not None and \\\n"
     ]
    },
    {
     "name": "stdout",
     "output_type": "stream",
     "text": [
      "[00:05:21] WARNING: src/objective/regression_obj.cu:152: reg:linear is now deprecated in favor of reg:squarederror.\n",
      "\n",
      "For Ridge                 \n",
      " r2_score:0.39, rmlse:2.12, medae:28786175.8\n",
      "\n",
      "For KNeighborsRegressor   \n",
      " r2_score:0.34, rmlse:1.98, medae:24876906.8\n",
      "\n",
      "For BayesianRidge         \n",
      " r2_score:-0.01, rmlse:2.8, medae:57678196.83\n",
      "\n",
      "For RandomForestRegressor \n",
      " r2_score:0.2, rmlse:1.71, medae:22463927.3\n",
      "\n",
      "For XGBRegressor          \n",
      " r2_score:0.41, rmlse:1.89, medae:20140708.0\n"
     ]
    },
    {
     "name": "stderr",
     "output_type": "stream",
     "text": [
      "/Users/aakanksha/miniconda3/envs/ml/lib/python3.7/site-packages/ipykernel_launcher.py:8: RuntimeWarning: invalid value encountered in log\n",
      "  \n",
      "/Users/aakanksha/miniconda3/envs/ml/lib/python3.7/site-packages/ipykernel_launcher.py:8: RuntimeWarning: invalid value encountered in log\n",
      "  \n"
     ]
    }
   ],
   "source": [
    "pipelines = make_pipelines(X_train.columns)\n",
    "\n",
    "for pipe in pipelines:\n",
    "    pipe.fit(X_train, y_train)\n",
    "    \n",
    "for pipe in pipelines:\n",
    "    name = pipe.steps[-1][1].__class__.__name__.split('.')[-1]\n",
    "    y_pred = pipe.predict(X_val)\n",
    "    r2score = round(r2_score(y_val, y_pred), 2)\n",
    "    rmlse_score = round(rmlse(y_val, y_pred), 2)\n",
    "    medae_value = round(median_absolute_error(y_val,y_pred), 2)\n",
    "    print(f\"\\nFor {name:<22}\\n r2_score:{r2score}, rmlse:{rmlse_score}, medae:{medae_value}\")"
   ]
  },
  {
   "cell_type": "markdown",
   "metadata": {},
   "source": [
    "#### Hyperparameter Tuning"
   ]
  },
  {
   "cell_type": "code",
   "execution_count": 11,
   "metadata": {},
   "outputs": [],
   "source": [
    "# Limit the number of folds and samples\n",
    "cv=8\n",
    "n_iter=30"
   ]
  },
  {
   "cell_type": "code",
   "execution_count": 12,
   "metadata": {},
   "outputs": [],
   "source": [
    "def make_random_cv():\n",
    "    \"\"\"\n",
    "    Steps:\n",
    "    1. Define Estimator\n",
    "    2. Define hyperparameter search space\n",
    "    3. Instantiate RandomizedSearchCV\n",
    "    Output: RandomizedSearchCV object fit on the training data\n",
    "    \"\"\"\n",
    "    rdfr = RandomForestRegressor(random_state = 42)\n",
    "    \n",
    "    # Number of trees in random forest\n",
    "    n_estimators = [20,40,45,50,60,80,100,150,200, 300, 500, 600, 700, 800]\n",
    "    \n",
    "    # Number of features to consider at every split\n",
    "    max_features = ['auto', 'sqrt', 20, 25, 30, 35]\n",
    "    \n",
    "    # Maximum number of levels in tree\n",
    "    max_depth = [int(x) for x in np.linspace(10, 110, num = 11)]\n",
    "    max_depth.append(None)\n",
    "    \n",
    "    # Minimum number of samples required to split a node\n",
    "    min_samples_split = [2, 5, 10, 15]\n",
    "    \n",
    "    # Minimum number of samples required at each leaf node\n",
    "    min_samples_leaf = [1, 2, 4, 8, 10]\n",
    "    \n",
    "\n",
    "    hyperparameters = {'n_estimators': n_estimators,\n",
    "               'max_features': max_features,\n",
    "               'max_depth': max_depth,\n",
    "               'min_samples_split': min_samples_split,\n",
    "               'min_samples_leaf': min_samples_leaf}\n",
    "    \n",
    "    clf_random_cv = RandomizedSearchCV(rdfr, \n",
    "                              hyperparameters, \n",
    "                              cv=cv, \n",
    "                              n_iter=n_iter)\n",
    "    print(clf_random_cv)\n",
    "    return clf_random_cv"
   ]
  },
  {
   "cell_type": "code",
   "execution_count": 13,
   "metadata": {
    "scrolled": false
   },
   "outputs": [
    {
     "name": "stdout",
     "output_type": "stream",
     "text": [
      "RandomizedSearchCV(cv=8, error_score='raise-deprecating',\n",
      "                   estimator=RandomForestRegressor(bootstrap=True,\n",
      "                                                   criterion='mse',\n",
      "                                                   max_depth=None,\n",
      "                                                   max_features='auto',\n",
      "                                                   max_leaf_nodes=None,\n",
      "                                                   min_impurity_decrease=0.0,\n",
      "                                                   min_impurity_split=None,\n",
      "                                                   min_samples_leaf=1,\n",
      "                                                   min_samples_split=2,\n",
      "                                                   min_weight_fraction_leaf=0.0,\n",
      "                                                   n_estimators='warn',\n",
      "                                                   n_jobs=None, oob_score=False,\n",
      "                                                   random_sta...\n",
      "                   param_distributions={'max_depth': [10, 20, 30, 40, 50, 60,\n",
      "                                                      70, 80, 90, 100, 110,\n",
      "                                                      None],\n",
      "                                        'max_features': ['auto', 'sqrt', 20, 25,\n",
      "                                                         30, 35],\n",
      "                                        'min_samples_leaf': [1, 2, 4, 8, 10],\n",
      "                                        'min_samples_split': [2, 5, 10, 15],\n",
      "                                        'n_estimators': [20, 40, 45, 50, 60, 80,\n",
      "                                                         100, 150, 200, 300,\n",
      "                                                         500, 600, 700, 800]},\n",
      "                   pre_dispatch='2*n_jobs', random_state=None, refit=True,\n",
      "                   return_train_score=False, scoring=None, verbose=0)\n",
      "After parameter tuning, r2_score:0.45, rmlse:1.79, medae:19907364.0\n"
     ]
    }
   ],
   "source": [
    "#Metric values after parameter tuning\n",
    "cv = make_random_cv()\n",
    "final_model = make_pipeline_model_eval(X_train.columns, cv)\n",
    "final_model.fit(X_train,y_train)\n",
    "y_pred = final_model.predict(X_val)\n",
    "r2score = round(r2_score(y_val, y_pred),2)\n",
    "rmlse_score = round(rmlse(y_val, y_pred), 2)\n",
    "medae_value = round(median_absolute_error(y_val, y_pred), 2)\n",
    "print(f\"After parameter tuning, r2_score:{r2score}, rmlse:{rmlse_score}, medae:{medae_value}\")"
   ]
  },
  {
   "cell_type": "markdown",
   "metadata": {},
   "source": [
    "#### Visualizing feature importances"
   ]
  },
  {
   "cell_type": "code",
   "execution_count": 14,
   "metadata": {},
   "outputs": [
    {
     "data": {
      "image/png": "[encoded data removed]",
      "text/plain": [
       "<Figure size 288x714.24 with 1 Axes>"
      ]
     },
     "metadata": {
      "needs_background": "light"
     },
     "output_type": "display_data"
    }
   ],
   "source": [
    "imp = importances(final_model, X_test, y_test, n_samples=-1)\n",
    "viz = plot_importances(imp)\n",
    "viz.view()"
   ]
  },
  {
   "cell_type": "markdown",
   "metadata": {},
   "source": [
    "#### 5-fold cross validation\n"
   ]
  },
  {
   "cell_type": "code",
   "execution_count": 15,
   "metadata": {},
   "outputs": [],
   "source": [
    "accuracies = []\n",
    "medae = []\n",
    "def k_fold_validation():\n",
    "    kf = KFold(n_splits=5, shuffle=True, random_state=999)\n",
    "    for train_index, test_index in kf.split(X):\n",
    "        X_train, X_test = X.iloc[train_index], X.iloc[test_index]\n",
    "        y_train, y_test = y.iloc[train_index], y.iloc[test_index]\n",
    "        final_model.fit(X_train, y_train)\n",
    "        y_pred = final_model.predict(X_test)\n",
    "        medae_value = median_absolute_error(y_test, y_pred)\n",
    "        medae.append(medae_value)\n",
    "        accuracies.append(rmlse(y_test, y_pred))\n",
    "k_fold_validation()"
   ]
  },
  {
   "cell_type": "code",
   "execution_count": 16,
   "metadata": {},
   "outputs": [
    {
     "name": "stdout",
     "output_type": "stream",
     "text": [
      "[1.8824963233579066, 1.7074608873754467, 1.8864977194518948, 2.0781883736898323, 1.8233941686689172]\n",
      "[14727569.050459828, 18579167.424493216, 15100108.962681815, 21411352.52194899, 17398192.146986447]\n"
     ]
    }
   ],
   "source": [
    "print(accuracies)\n",
    "print(medae)"
   ]
  },
  {
   "cell_type": "markdown",
   "metadata": {},
   "source": [
    "## Deliver"
   ]
  },
  {
   "cell_type": "code",
   "execution_count": 17,
   "metadata": {},
   "outputs": [
    {
     "name": "stdout",
     "output_type": "stream",
     "text": [
      "Model performance on test data , r2_score:0.85, rmlse:1.68, medae:12984950.05\n"
     ]
    }
   ],
   "source": [
    "y_pred = final_model.predict(X_test)\n",
    "r2score = round(r2_score(y_test, y_pred),2)\n",
    "rmlse_score = round(rmlse(y_test, y_pred), 2)\n",
    "medae_value = round(median_absolute_error(y_test, y_pred), 2)\n",
    "print(f\"Model performance on test data , r2_score:{r2score}, rmlse:{rmlse_score}, medae:{medae_value}\")"
   ]
  },
  {
   "cell_type": "markdown",
   "metadata": {},
   "source": [
    "## Conclusion"
   ]
  },
  {
   "cell_type": "markdown",
   "metadata": {},
   "source": [
    "    * Random Forest performed best with the given dataset\n",
    "    * Model predictions have a median error of 12.98 million dollars on test set\n",
    "    \n",
    "    Since the prediction error is still quite high, to able to put this model in production we'd have to get more data and better features such as:\n",
    "    \n",
    "    Overall economy at the time of the movie release\n",
    "    Quality of the movie’s plot and other exogenous factors \n",
    "    Presence of streaming service like Amazon Prime, Netflix etc."
   ]
  }
 ],
 "metadata": {
  "kernelspec": {
   "display_name": "Python 3",
   "language": "python",
   "name": "python3"
  },
  "language_info": {
   "codemirror_mode": {
    "name": "ipython",
    "version": 3
   },
   "file_extension": ".py",
   "mimetype": "text/x-python",
   "name": "python",
   "nbconvert_exporter": "python",
   "pygments_lexer": "ipython3",
   "version": "3.7.4"
  }
 },
 "nbformat": 4,
 "nbformat_minor": 2
}
