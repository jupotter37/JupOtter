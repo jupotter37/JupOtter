{
 "cells": [
  {
   "cell_type": "markdown",
   "id": "64a23f40-50c5-4564-96a5-e6e61144b8ce",
   "metadata": {},
   "source": [
    "Exercício 1: Criar um Jupyter Notebook\n",
    "\n",
    "Crie um novo notebook Jupyter chamado DataScienceEcosystem.ipynb\n"
   ]
  },
  {
   "cell_type": "code",
   "execution_count": null,
   "id": "85a499cd-db24-460a-97f0-f2aa729a938a",
   "metadata": {},
   "outputs": [],
   "source": []
  },
  {
   "cell_type": "markdown",
   "id": "952c7049-6496-4ee4-94d0-2cd00ec501f7",
   "metadata": {},
   "source": [
    "Exercício 2: Criar uma célula markdown com o título do notebook\n",
    "\n",
    "Crie uma célula markdown com o título Data Science Tools and Ecosystem usando o estilo de cabeçalho H1.\n",
    "Tire uma captura de tela da célula markdown e nomeie-a como 2-title.png (As imagens podem ser salvas com a extensão .jpg ou .png.)\n",
    "\n",
    "<h1> Data Science Tools and Ecosystem\n"
   ]
  },
  {
   "cell_type": "markdown",
   "id": "1e738183-9057-48a9-b0d4-80c199efd1a7",
   "metadata": {},
   "source": []
  },
  {
   "cell_type": "markdown",
   "id": "ad430e29-6e7a-4b2e-9d56-43184e41de34",
   "metadata": {},
   "source": [
    "Exercício 3 - Criar uma célula markdown para uma introdução\n",
    "\n",
    "Escreva uma frase introdutória sobre o notebook, como a seguinte:\n",
    "\n",
    "Neste notebook, as Ferramentas e Ecossistema de Ciência de Dados são resumidos.\n",
    "Tire uma captura de tela da célula markdown e nomeie-a como 3-intro.png (As imagens podem ser salvas com a extensão .jpg ou .png.)\n",
    "\n",
    "<h1> Neste notebook, as Ferramentas e Ecossistema de Ciência de Dados são resumidos.\n"
   ]
  },
  {
   "cell_type": "code",
   "execution_count": null,
   "id": "74a3cefa-a07c-4885-97b3-a7d58d7a507a",
   "metadata": {},
   "outputs": [],
   "source": []
  },
  {
   "cell_type": "markdown",
   "id": "694aa46d-ee17-4094-9590-aafa929c27e6",
   "metadata": {},
   "source": [
    "Exercício 10 - Inserir uma célula markdown para listar Objetivos\n",
    "\n",
    "Abaixo da célula de introdução criada no Exercício 3, insira uma nova célula markdown para listar os objetivos que este notebook abordou (ou seja, alguns dos principais pontos abordados no curso). Nesta nova célula, comece com uma linha introdutória intitulada: Objetivos: em fonte negrito. Em seguida, usando uma lista não ordenada (bullets), indique de 3 a 5 itens abordados neste notebook, como Listar linguagens populares para Ciência de Dados.\n",
    "Tire uma captura de tela da célula markdown e nomeie-a como 10-objectives.png (As imagens podem ser salvas com a extensão .jpg ou .png.)\n",
    "\n",
    "**Objetivos:**\n",
    "- Criar um Jupyter Notebook\n",
    "- Inserir células de código e markdown\n",
    "    - resumir ferramentas e ecossisytemas de Ciência de Dados\n",
    "    - dar exemplo de algumas linguagens populares usadas em Ciências de Dados\n",
    "    - dar exemplos de bibliotecas comumente usadas por Cientistas de Dados\n",
    "    - avaliar algumas expressões aritméticas\n",
    "- Compartilhar seu notebook através do GitHub"
   ]
  },
  {
   "cell_type": "markdown",
   "id": "41a1ce29-8750-44da-8661-46b79d96bc98",
   "metadata": {},
   "source": [
    "Exercício 4 - Criar uma célula markdown para listar linguagens de ciência de dados\n",
    "\n",
    "Comece a célula com uma linha de visão geral, como:\n",
    "\n",
    "Algumas das linguagens populares que os Cientistas de Dados usam são:\n",
    "Em seguida, crie uma lista ordenada (ou seja, numerada) listando 3 (ou mais) linguagens comumente usadas para ciência de dados.\n",
    "Tire uma captura de tela da célula markdown e nomeie-a como 4-dslanguages.png (As imagens podem ser salvas com a extensão .jpg ou .png.)\n",
    "\n",
    "# Algumas das linguagens populares que os Cientistas de Dados usam são:\n",
    "1. Pyhon\n",
    "2. R\n",
    "3. Julia\n",
    "4. SQL\n",
    "5. Java\n",
    "6. C/C++\n",
    "7. JavaScript\n"
   ]
  },
  {
   "cell_type": "code",
   "execution_count": null,
   "id": "f825961d-f7db-49d3-b753-2abd24266d68",
   "metadata": {},
   "outputs": [],
   "source": []
  },
  {
   "cell_type": "markdown",
   "id": "c6efb8b1-7a0c-43b3-9980-d3a41e2b8c82",
   "metadata": {},
   "source": [
    "Exercício 5 - Criar uma célula markdown para listar bibliotecas de ciência de dados\n",
    "\n",
    "Adicione uma linha de visão geral à célula, como:\n",
    "\n",
    "Algumas das bibliotecas comumente usadas por Cientistas de Dados incluem:\n",
    "Abaixo desta linha, adicione uma lista ordenada listando 3 (ou mais) bibliotecas comumente usadas em ciência de dados.\n",
    "Tire uma captura de tela da célula markdown e nomeie-a como 5-dslibraries.png (As imagens podem ser salvas com a extensão .jpg ou .png.)\n",
    "\n",
    "# Algumas das bibliotecas comumente usadas por Cientistas de Dados incluem:\n",
    "1. Pandas\n",
    "2. Numpy\n",
    "3. Matplotlib\n",
    "4. Seaborn\n",
    "5. Keras\n",
    "6. Scikitlearn"
   ]
  },
  {
   "cell_type": "code",
   "execution_count": null,
   "id": "2fc928d7-8e64-4ec0-8ddd-41f10a865e7d",
   "metadata": {},
   "outputs": [],
   "source": []
  },
  {
   "cell_type": "markdown",
   "id": "f1811278-582f-45ec-82c9-6a5d8e796487",
   "metadata": {},
   "source": [
    "Exercício 6 - Criar uma célula markdown com uma tabela de ferramentas de Ciência de Dados\n",
    "\n",
    "Crie uma tabela de coluna única nesta célula, com a primeira linha contendo o cabeçalho Ferramentas de Ciência de Dados. As três linhas subsequentes na tabela devem indicar três ferramentas de ambiente de desenvolvimento de código aberto usadas em ciência de dados.\n",
    "\n",
    "Tire uma captura de tela da célula markdown e nomeie-a como 6-dstools.png (As imagens podem ser salvas com a extensão .jpg ou .png.)\n",
    "Dica: Consulte Laboratório: Usando Markdowns em Jupyter Notebooks para criar uma tabela.\n",
    "\n",
    "|Data Science Tool |\n",
    "| ------ |\n",
    "| MLFlow |\n",
    "| Hugging Face |\n",
    "| Pytorch |\n"
   ]
  },
  {
   "cell_type": "code",
   "execution_count": null,
   "id": "5d9676ca-432a-4358-891c-db8f30d47592",
   "metadata": {},
   "outputs": [],
   "source": []
  },
  {
   "cell_type": "markdown",
   "id": "769d7696-dd2c-4469-bb48-f76055349e3a",
   "metadata": {},
   "source": [
    "Exercício 7 - Criar uma célula markdown introduzindo exemplos de expressões aritméticas\n",
    "\n",
    "Adicione uma linha nesta célula com um cabeçalho de estilo H3 com texto como:\n",
    "\n",
    "Abaixo estão alguns exemplos de avaliação de expressões aritméticas em Python.\n",
    "Tire uma captura de tela da célula markdown e nomeie-a como 7-introarithmetic.png (As imagens podem ser salvas com a extensão .jpg ou .png.)\n",
    "\n",
    "\n",
    "<h3> Abaixo estão alguns exemplos de avaliação de expressões aritméticas em Python"
   ]
  },
  {
   "cell_type": "code",
   "execution_count": null,
   "id": "6b3c412b-0993-49d8-b7e3-c8303d7601cc",
   "metadata": {},
   "outputs": [],
   "source": []
  },
  {
   "cell_type": "markdown",
   "id": "c78e40be-dd77-4091-a19e-7ab8a7a0cde2",
   "metadata": {},
   "source": [
    "Exercício 8 - Criar uma célula de código para multiplicar e adicionar números\n",
    "\n",
    "Nesta célula de código, avalie a expressão (3*4)+5.\n",
    "Insira uma linha de comentário antes da expressão para explicar a operação, por exemplo, Esta é uma expressão aritmética simples para multiplicar e depois adicionar inteiros.\n",
    "Em seguida, execute a célula para garantir que a expressão retorne a saída esperada de 17.\n",
    "Tire uma captura de tela da célula de código com a saída e nomeie-a como 8-multiplyandaddintegers.png (As imagens podem ser salvas com a extensão .jpg ou .png.)\n"
   ]
  },
  {
   "cell_type": "code",
   "execution_count": 26,
   "id": "69bcf492-f053-4f6a-82b1-663ec2d9866c",
   "metadata": {},
   "outputs": [
    {
     "data": {
      "text/plain": [
       "17"
      ]
     },
     "execution_count": 26,
     "metadata": {},
     "output_type": "execute_result"
    }
   ],
   "source": [
    "#Esta é uma expressão aritmética simples para multiplicar e depois adicionar inteiros\n",
    "\n",
    "(3*4)+5"
   ]
  },
  {
   "cell_type": "code",
   "execution_count": null,
   "id": "855b2cbd-f66c-48e1-ab10-947d8e0d085d",
   "metadata": {},
   "outputs": [],
   "source": []
  },
  {
   "cell_type": "markdown",
   "id": "e371d21d-5297-49ac-a563-55218bfc462d",
   "metadata": {},
   "source": [
    "Exercício 9 - Criar uma célula de código para converter minutos em horas\n",
    "\n",
    "Nesta célula de código, escreva uma expressão que converta 200 minutos em horas.\n",
    "Insira uma linha de comentário antes da expressão para explicar a operação, por exemplo, Isto irá converter 200 minutos em horas dividindo por 60.\n",
    "Execute a célula para avaliar a expressão.\n",
    "Tire uma captura de tela da célula de código com a saída e nomeie-a como 9-hourstominutes.png (As imagens podem ser salvas com a extensão .jpg ou .png.)"
   ]
  },
  {
   "cell_type": "code",
   "execution_count": 31,
   "id": "d9f1bea8-98d4-452a-926e-634a61d60c73",
   "metadata": {},
   "outputs": [
    {
     "data": {
      "text/plain": [
       "3.33"
      ]
     },
     "execution_count": 31,
     "metadata": {},
     "output_type": "execute_result"
    }
   ],
   "source": [
    "# Isto irá converter 200 minutos em horas dividindo por 60\n",
    "round(200/60,2)"
   ]
  },
  {
   "cell_type": "code",
   "execution_count": null,
   "id": "86950248-33c0-4686-96fd-880c409790c3",
   "metadata": {},
   "outputs": [],
   "source": []
  },
  {
   "cell_type": "markdown",
   "id": "2eb605b2-dbaa-4f71-aee7-163162124bd4",
   "metadata": {},
   "source": [
    "Exercício 11 - Criar uma célula markdown para indicar o nome do Autor\n",
    "\n",
    "Nesta célula markdown, inclua o seguinte texto Autor em estilo de cabeçalho H2. Inclua seu nome como texto regular abaixo da palavra Autor.\n",
    "Tire uma captura de tela da célula markdown e nomeie-a como 11-authordetails.png (As imagens podem ser salvas com a extensão .jpg ou .png.)\n",
    "\n",
    "Nota: Salve e baixe o notebook.\n",
    "\n",
    "<h2> Autor:\n",
    "<h2> Romeu"
   ]
  },
  {
   "cell_type": "code",
   "execution_count": null,
   "id": "76dcf23f-7a60-4b8b-9156-f0acb5cdfd82",
   "metadata": {},
   "outputs": [],
   "source": []
  }
 ],
 "metadata": {
  "kernelspec": {
   "display_name": "Python 3 (ipykernel)",
   "language": "python",
   "name": "python3"
  },
  "language_info": {
   "codemirror_mode": {
    "name": "ipython",
    "version": 3
   },
   "file_extension": ".py",
   "mimetype": "text/x-python",
   "name": "python",
   "nbconvert_exporter": "python",
   "pygments_lexer": "ipython3",
   "version": "3.11.0"
  }
 },
 "nbformat": 4,
 "nbformat_minor": 5
}
