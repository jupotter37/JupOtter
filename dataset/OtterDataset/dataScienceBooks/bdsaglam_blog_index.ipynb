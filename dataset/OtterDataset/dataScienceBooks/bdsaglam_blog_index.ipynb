{
 "cells": [
  {
   "cell_type": "markdown",
   "metadata": {},
   "source": [
    "---\n",
    "badges: false\n",
    "categories: [computer-science]\n",
    "date: '2020-04-07'\n",
    "image: spinning.jpg\n",
    "title: Halting problem\n",
    "toc: false\n",
    "---"
   ]
  },
  {
   "cell_type": "markdown",
   "metadata": {},
   "source": [
    "[Halting problem](https://en.wikipedia.org/wiki/Halting_problem) was proved to be unsolvable by Alan Turing in his [seminal paper](https://academic.oup.com/plms/article-abstract/s2-42/1/230/1491926?redirectedFrom=fulltext), in 1936. It states that there cannot be a general algorithm to decide whether an arbitrary pair of computer program and input halts (finishes execution) or not.\n",
    "\n",
    "Surprisingly, the proof of such a bold statement is ingeniously simple.\n",
    "\n",
    "Proof by contradiction. \n",
    "\n",
    "Suppose that there exists a computer program H that solves halting problem. For a pair of computer program P and input I, H outputs true if P finished with I. Otherwise, it outputs false. How H can do this is not important for the sake of proof. In Python, H would be roughly such:\n",
    "\n",
    "```python\n",
    "def H(program, inpt):\n",
    "    # with some black magic\n",
    "    if program_halts_on_inpt:\n",
    "        return True\n",
    "    else:\n",
    "        return False\n",
    "```\n",
    "\n",
    "Now, having H, let's define another computer program G, which receives a computer program P. G copies P and asks H whether P halts on P. If H decides that P halts on P, G diabolically loops forever. If H decides otherwise, G halts. \n",
    "\n",
    "```python\n",
    "def G(program):\n",
    "    if H(program, program):\n",
    "        while True:\n",
    "            pass\n",
    "    else:\n",
    "        return\n",
    "```\n",
    "\n",
    "Now, the interesting part. Let's run G with G as input, i.e. call G(G). It calls H(G, G) and there are two possible outcomes.\n",
    "1. H decides that program G <u>halts</u> on input G and returns true. Then, inside G, first brach of `if` becomes active and G loops forever, i.e. does <u>not halt</u>.\n",
    "1. H decides that program G does <u>not halt</u> on input G and returns false. Then, inside G, `else` branch becomes active and G <u>halts</u>.\n",
    "\n",
    "This is a contradiction. Hence, H cannot exist. \n"
   ]
  }
 ],
 "metadata": {
  "kernelspec": {
   "display_name": "Python 3",
   "language": "python",
   "name": "python3"
  },
  "language_info": {
   "codemirror_mode": {
    "name": "ipython",
    "version": 3
   },
   "file_extension": ".py",
   "mimetype": "text/x-python",
   "name": "python",
   "nbconvert_exporter": "python",
   "pygments_lexer": "ipython3",
   "version": "3.7.4"
  }
 },
 "nbformat": 4,
 "nbformat_minor": 2
}
