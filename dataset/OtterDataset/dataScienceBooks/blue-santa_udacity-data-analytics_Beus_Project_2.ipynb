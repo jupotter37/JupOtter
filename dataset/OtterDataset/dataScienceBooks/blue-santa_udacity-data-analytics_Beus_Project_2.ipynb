{
 "cells": [
  {
   "cell_type": "markdown",
   "metadata": {},
   "source": [
    "# Bryan Beus: Project 2 - Observations on the TMBD Movie Database\n",
    "\n",
    "## Table of Contents\n",
    "<ul>\n",
    "<li><a href=\"#intro\">Introduction</a></li>\n",
    "<li><a href=\"#wrangling\">Data Wrangling</a></li>\n",
    "<li><a href=\"#eda\">Exploratory Data Analysis</a></li>\n",
    "<li><a href=\"#conclusions\">Conclusions</a></li>\n",
    "</ul>"
   ]
  },
  {
   "cell_type": "markdown",
   "metadata": {},
   "source": [
    "<a id='intro'></a>\n",
    "## Introduction\n",
    "\n",
    "The TMDB database provides data for analyzing movies. This dataset allows for the observation of film budgets, proceeds, cast and crew members, and more. \n",
    "\n",
    "The dataset itself is edited by Udacity. The original dataset came first from Kaggle, which in turn obtained the dataset from the TMDB API. \n",
    "\n",
    "Kaggle informs the user that there are some notable inaccuracies in the dataset. For example, when reporting proceeds for the film Avatar, the dataset undervalues the proceeds by 2 billion USD. While such inaccuracies may exist, for the purposes of this project, there is sufficient accuracy and information to perform calculations and draw general conclusions.\n",
    "\n",
    "### Questions for Analysis"
   ]
  },
  {
   "cell_type": "markdown",
   "metadata": {},
   "source": [
    "#### Q1: Cast Member Analysis\n",
    "\n",
    " * Which Cast Members Have the Highest Total Film Gross?\n",
    "\n",
    " * Which Cast Members Have the Lowest Total Film Gross?\n",
    "\n",
    " * Which Cast Members Have the Greatest Total Film Profit?\n",
    "\n",
    "#### Q2: What Cost per Film is Associated with the Highest Profit?\n",
    "\n",
    "#### Q3: How Much Does a Film Cost Per Minute on Average?\n",
    "\n",
    "#### Q4: Describe the Characteristics Associated with the Adventure Genre?"
   ]
  },
  {
   "cell_type": "markdown",
   "metadata": {},
   "source": [
    "### General Package Import"
   ]
  },
  {
   "cell_type": "code",
   "execution_count": 1,
   "metadata": {},
   "outputs": [],
   "source": [
    "import pandas as pd\n",
    "import numpy as np\n",
    "import matplotlib.pyplot as plt\n",
    "import seaborn as sns\n",
    "\n",
    "%matplotlib inline\n",
    "\n",
    "sns.set_style('darkgrid')"
   ]
  },
  {
   "cell_type": "markdown",
   "metadata": {},
   "source": [
    "<a id='wrangling'></a>\n",
    "## Data Wrangling"
   ]
  },
  {
   "cell_type": "code",
   "execution_count": 2,
   "metadata": {},
   "outputs": [],
   "source": [
    "df_original = pd.read_csv('tmdb-movies.csv')"
   ]
  },
  {
   "cell_type": "markdown",
   "metadata": {},
   "source": [
    "#### Perform Initial Observations on the Fresh Dataframe\n",
    "\n",
    "The following cells perform routine observations on the dataset, as outlined in the class lectures."
   ]
  },
  {
   "cell_type": "code",
   "execution_count": 3,
   "metadata": {},
   "outputs": [
    {
     "data": {
      "text/html": [
       "<div>\n",
       "<style scoped>\n",
       "    .dataframe tbody tr th:only-of-type {\n",
       "        vertical-align: middle;\n",
       "    }\n",
       "\n",
       "    .dataframe tbody tr th {\n",
       "        vertical-align: top;\n",
       "    }\n",
       "\n",
       "    .dataframe thead th {\n",
       "        text-align: right;\n",
       "    }\n",
       "</style>\n",
       "<table border=\"1\" class=\"dataframe\">\n",
       "  <thead>\n",
       "    <tr style=\"text-align: right;\">\n",
       "      <th></th>\n",
       "      <th>id</th>\n",
       "      <th>imdb_id</th>\n",
       "      <th>popularity</th>\n",
       "      <th>budget</th>\n",
       "      <th>revenue</th>\n",
       "      <th>original_title</th>\n",
       "      <th>cast</th>\n",
       "      <th>homepage</th>\n",
       "      <th>director</th>\n",
       "      <th>tagline</th>\n",
       "      <th>...</th>\n",
       "      <th>overview</th>\n",
       "      <th>runtime</th>\n",
       "      <th>genres</th>\n",
       "      <th>production_companies</th>\n",
       "      <th>release_date</th>\n",
       "      <th>vote_count</th>\n",
       "      <th>vote_average</th>\n",
       "      <th>release_year</th>\n",
       "      <th>budget_adj</th>\n",
       "      <th>revenue_adj</th>\n",
       "    </tr>\n",
       "  </thead>\n",
       "  <tbody>\n",
       "    <tr>\n",
       "      <th>0</th>\n",
       "      <td>135397</td>\n",
       "      <td>tt0369610</td>\n",
       "      <td>32.985763</td>\n",
       "      <td>150000000</td>\n",
       "      <td>1513528810</td>\n",
       "      <td>Jurassic World</td>\n",
       "      <td>Chris Pratt|Bryce Dallas Howard|Irrfan Khan|Vi...</td>\n",
       "      <td>http://www.jurassicworld.com/</td>\n",
       "      <td>Colin Trevorrow</td>\n",
       "      <td>The park is open.</td>\n",
       "      <td>...</td>\n",
       "      <td>Twenty-two years after the events of Jurassic ...</td>\n",
       "      <td>124</td>\n",
       "      <td>Action|Adventure|Science Fiction|Thriller</td>\n",
       "      <td>Universal Studios|Amblin Entertainment|Legenda...</td>\n",
       "      <td>6/9/15</td>\n",
       "      <td>5562</td>\n",
       "      <td>6.5</td>\n",
       "      <td>2015</td>\n",
       "      <td>1.379999e+08</td>\n",
       "      <td>1.392446e+09</td>\n",
       "    </tr>\n",
       "    <tr>\n",
       "      <th>1</th>\n",
       "      <td>76341</td>\n",
       "      <td>tt1392190</td>\n",
       "      <td>28.419936</td>\n",
       "      <td>150000000</td>\n",
       "      <td>378436354</td>\n",
       "      <td>Mad Max: Fury Road</td>\n",
       "      <td>Tom Hardy|Charlize Theron|Hugh Keays-Byrne|Nic...</td>\n",
       "      <td>http://www.madmaxmovie.com/</td>\n",
       "      <td>George Miller</td>\n",
       "      <td>What a Lovely Day.</td>\n",
       "      <td>...</td>\n",
       "      <td>An apocalyptic story set in the furthest reach...</td>\n",
       "      <td>120</td>\n",
       "      <td>Action|Adventure|Science Fiction|Thriller</td>\n",
       "      <td>Village Roadshow Pictures|Kennedy Miller Produ...</td>\n",
       "      <td>5/13/15</td>\n",
       "      <td>6185</td>\n",
       "      <td>7.1</td>\n",
       "      <td>2015</td>\n",
       "      <td>1.379999e+08</td>\n",
       "      <td>3.481613e+08</td>\n",
       "    </tr>\n",
       "  </tbody>\n",
       "</table>\n",
       "<p>2 rows × 21 columns</p>\n",
       "</div>"
      ],
      "text/plain": [
       "       id    imdb_id  popularity     budget     revenue      original_title  \\\n",
       "0  135397  tt0369610   32.985763  150000000  1513528810      Jurassic World   \n",
       "1   76341  tt1392190   28.419936  150000000   378436354  Mad Max: Fury Road   \n",
       "\n",
       "                                                cast  \\\n",
       "0  Chris Pratt|Bryce Dallas Howard|Irrfan Khan|Vi...   \n",
       "1  Tom Hardy|Charlize Theron|Hugh Keays-Byrne|Nic...   \n",
       "\n",
       "                        homepage         director             tagline  ...  \\\n",
       "0  http://www.jurassicworld.com/  Colin Trevorrow   The park is open.  ...   \n",
       "1    http://www.madmaxmovie.com/    George Miller  What a Lovely Day.  ...   \n",
       "\n",
       "                                            overview runtime  \\\n",
       "0  Twenty-two years after the events of Jurassic ...     124   \n",
       "1  An apocalyptic story set in the furthest reach...     120   \n",
       "\n",
       "                                      genres  \\\n",
       "0  Action|Adventure|Science Fiction|Thriller   \n",
       "1  Action|Adventure|Science Fiction|Thriller   \n",
       "\n",
       "                                production_companies release_date vote_count  \\\n",
       "0  Universal Studios|Amblin Entertainment|Legenda...       6/9/15       5562   \n",
       "1  Village Roadshow Pictures|Kennedy Miller Produ...      5/13/15       6185   \n",
       "\n",
       "   vote_average  release_year    budget_adj   revenue_adj  \n",
       "0           6.5          2015  1.379999e+08  1.392446e+09  \n",
       "1           7.1          2015  1.379999e+08  3.481613e+08  \n",
       "\n",
       "[2 rows x 21 columns]"
      ]
     },
     "execution_count": 3,
     "metadata": {},
     "output_type": "execute_result"
    }
   ],
   "source": [
    "df_original.head(2)"
   ]
  },
  {
   "cell_type": "code",
   "execution_count": 4,
   "metadata": {},
   "outputs": [
    {
     "data": {
      "text/plain": [
       "(10866, 21)"
      ]
     },
     "execution_count": 4,
     "metadata": {},
     "output_type": "execute_result"
    }
   ],
   "source": [
    "df_original.shape"
   ]
  },
  {
   "cell_type": "code",
   "execution_count": 5,
   "metadata": {},
   "outputs": [
    {
     "data": {
      "text/plain": [
       "id                        int64\n",
       "imdb_id                  object\n",
       "popularity              float64\n",
       "budget                    int64\n",
       "revenue                   int64\n",
       "original_title           object\n",
       "cast                     object\n",
       "homepage                 object\n",
       "director                 object\n",
       "tagline                  object\n",
       "keywords                 object\n",
       "overview                 object\n",
       "runtime                   int64\n",
       "genres                   object\n",
       "production_companies     object\n",
       "release_date             object\n",
       "vote_count                int64\n",
       "vote_average            float64\n",
       "release_year              int64\n",
       "budget_adj              float64\n",
       "revenue_adj             float64\n",
       "dtype: object"
      ]
     },
     "execution_count": 5,
     "metadata": {},
     "output_type": "execute_result"
    }
   ],
   "source": [
    "df_original.dtypes"
   ]
  },
  {
   "cell_type": "code",
   "execution_count": 6,
   "metadata": {},
   "outputs": [
    {
     "name": "stdout",
     "output_type": "stream",
     "text": [
      "<class 'pandas.core.frame.DataFrame'>\n",
      "RangeIndex: 10866 entries, 0 to 10865\n",
      "Data columns (total 21 columns):\n",
      " #   Column                Non-Null Count  Dtype  \n",
      "---  ------                --------------  -----  \n",
      " 0   id                    10866 non-null  int64  \n",
      " 1   imdb_id               10856 non-null  object \n",
      " 2   popularity            10866 non-null  float64\n",
      " 3   budget                10866 non-null  int64  \n",
      " 4   revenue               10866 non-null  int64  \n",
      " 5   original_title        10866 non-null  object \n",
      " 6   cast                  10790 non-null  object \n",
      " 7   homepage              2936 non-null   object \n",
      " 8   director              10822 non-null  object \n",
      " 9   tagline               8042 non-null   object \n",
      " 10  keywords              9373 non-null   object \n",
      " 11  overview              10862 non-null  object \n",
      " 12  runtime               10866 non-null  int64  \n",
      " 13  genres                10843 non-null  object \n",
      " 14  production_companies  9836 non-null   object \n",
      " 15  release_date          10866 non-null  object \n",
      " 16  vote_count            10866 non-null  int64  \n",
      " 17  vote_average          10866 non-null  float64\n",
      " 18  release_year          10866 non-null  int64  \n",
      " 19  budget_adj            10866 non-null  float64\n",
      " 20  revenue_adj           10866 non-null  float64\n",
      "dtypes: float64(4), int64(6), object(11)\n",
      "memory usage: 1.7+ MB\n"
     ]
    }
   ],
   "source": [
    "df_original.info()"
   ]
  },
  {
   "cell_type": "code",
   "execution_count": 7,
   "metadata": {},
   "outputs": [
    {
     "data": {
      "text/plain": [
       "id                      10865\n",
       "imdb_id                 10855\n",
       "popularity              10814\n",
       "budget                    557\n",
       "revenue                  4702\n",
       "original_title          10571\n",
       "cast                    10719\n",
       "homepage                 2896\n",
       "director                 5067\n",
       "tagline                  7997\n",
       "keywords                 8804\n",
       "overview                10847\n",
       "runtime                   247\n",
       "genres                   2039\n",
       "production_companies     7445\n",
       "release_date             5909\n",
       "vote_count               1289\n",
       "vote_average               72\n",
       "release_year               56\n",
       "budget_adj               2614\n",
       "revenue_adj              4840\n",
       "dtype: int64"
      ]
     },
     "execution_count": 7,
     "metadata": {},
     "output_type": "execute_result"
    }
   ],
   "source": [
    "df_original.nunique()"
   ]
  },
  {
   "cell_type": "code",
   "execution_count": 8,
   "metadata": {},
   "outputs": [
    {
     "data": {
      "text/html": [
       "<div>\n",
       "<style scoped>\n",
       "    .dataframe tbody tr th:only-of-type {\n",
       "        vertical-align: middle;\n",
       "    }\n",
       "\n",
       "    .dataframe tbody tr th {\n",
       "        vertical-align: top;\n",
       "    }\n",
       "\n",
       "    .dataframe thead th {\n",
       "        text-align: right;\n",
       "    }\n",
       "</style>\n",
       "<table border=\"1\" class=\"dataframe\">\n",
       "  <thead>\n",
       "    <tr style=\"text-align: right;\">\n",
       "      <th></th>\n",
       "      <th>id</th>\n",
       "      <th>popularity</th>\n",
       "      <th>budget</th>\n",
       "      <th>revenue</th>\n",
       "      <th>runtime</th>\n",
       "      <th>vote_count</th>\n",
       "      <th>vote_average</th>\n",
       "      <th>release_year</th>\n",
       "      <th>budget_adj</th>\n",
       "      <th>revenue_adj</th>\n",
       "    </tr>\n",
       "  </thead>\n",
       "  <tbody>\n",
       "    <tr>\n",
       "      <th>count</th>\n",
       "      <td>10866.000000</td>\n",
       "      <td>10866.000000</td>\n",
       "      <td>1.086600e+04</td>\n",
       "      <td>1.086600e+04</td>\n",
       "      <td>10866.000000</td>\n",
       "      <td>10866.000000</td>\n",
       "      <td>10866.000000</td>\n",
       "      <td>10866.000000</td>\n",
       "      <td>1.086600e+04</td>\n",
       "      <td>1.086600e+04</td>\n",
       "    </tr>\n",
       "    <tr>\n",
       "      <th>mean</th>\n",
       "      <td>66064.177434</td>\n",
       "      <td>0.646441</td>\n",
       "      <td>1.462570e+07</td>\n",
       "      <td>3.982332e+07</td>\n",
       "      <td>102.070863</td>\n",
       "      <td>217.389748</td>\n",
       "      <td>5.974922</td>\n",
       "      <td>2001.322658</td>\n",
       "      <td>1.755104e+07</td>\n",
       "      <td>5.136436e+07</td>\n",
       "    </tr>\n",
       "    <tr>\n",
       "      <th>std</th>\n",
       "      <td>92130.136561</td>\n",
       "      <td>1.000185</td>\n",
       "      <td>3.091321e+07</td>\n",
       "      <td>1.170035e+08</td>\n",
       "      <td>31.381405</td>\n",
       "      <td>575.619058</td>\n",
       "      <td>0.935142</td>\n",
       "      <td>12.812941</td>\n",
       "      <td>3.430616e+07</td>\n",
       "      <td>1.446325e+08</td>\n",
       "    </tr>\n",
       "    <tr>\n",
       "      <th>min</th>\n",
       "      <td>5.000000</td>\n",
       "      <td>0.000065</td>\n",
       "      <td>0.000000e+00</td>\n",
       "      <td>0.000000e+00</td>\n",
       "      <td>0.000000</td>\n",
       "      <td>10.000000</td>\n",
       "      <td>1.500000</td>\n",
       "      <td>1960.000000</td>\n",
       "      <td>0.000000e+00</td>\n",
       "      <td>0.000000e+00</td>\n",
       "    </tr>\n",
       "    <tr>\n",
       "      <th>25%</th>\n",
       "      <td>10596.250000</td>\n",
       "      <td>0.207583</td>\n",
       "      <td>0.000000e+00</td>\n",
       "      <td>0.000000e+00</td>\n",
       "      <td>90.000000</td>\n",
       "      <td>17.000000</td>\n",
       "      <td>5.400000</td>\n",
       "      <td>1995.000000</td>\n",
       "      <td>0.000000e+00</td>\n",
       "      <td>0.000000e+00</td>\n",
       "    </tr>\n",
       "    <tr>\n",
       "      <th>50%</th>\n",
       "      <td>20669.000000</td>\n",
       "      <td>0.383856</td>\n",
       "      <td>0.000000e+00</td>\n",
       "      <td>0.000000e+00</td>\n",
       "      <td>99.000000</td>\n",
       "      <td>38.000000</td>\n",
       "      <td>6.000000</td>\n",
       "      <td>2006.000000</td>\n",
       "      <td>0.000000e+00</td>\n",
       "      <td>0.000000e+00</td>\n",
       "    </tr>\n",
       "    <tr>\n",
       "      <th>75%</th>\n",
       "      <td>75610.000000</td>\n",
       "      <td>0.713817</td>\n",
       "      <td>1.500000e+07</td>\n",
       "      <td>2.400000e+07</td>\n",
       "      <td>111.000000</td>\n",
       "      <td>145.750000</td>\n",
       "      <td>6.600000</td>\n",
       "      <td>2011.000000</td>\n",
       "      <td>2.085325e+07</td>\n",
       "      <td>3.369710e+07</td>\n",
       "    </tr>\n",
       "    <tr>\n",
       "      <th>max</th>\n",
       "      <td>417859.000000</td>\n",
       "      <td>32.985763</td>\n",
       "      <td>4.250000e+08</td>\n",
       "      <td>2.781506e+09</td>\n",
       "      <td>900.000000</td>\n",
       "      <td>9767.000000</td>\n",
       "      <td>9.200000</td>\n",
       "      <td>2015.000000</td>\n",
       "      <td>4.250000e+08</td>\n",
       "      <td>2.827124e+09</td>\n",
       "    </tr>\n",
       "  </tbody>\n",
       "</table>\n",
       "</div>"
      ],
      "text/plain": [
       "                  id    popularity        budget       revenue       runtime  \\\n",
       "count   10866.000000  10866.000000  1.086600e+04  1.086600e+04  10866.000000   \n",
       "mean    66064.177434      0.646441  1.462570e+07  3.982332e+07    102.070863   \n",
       "std     92130.136561      1.000185  3.091321e+07  1.170035e+08     31.381405   \n",
       "min         5.000000      0.000065  0.000000e+00  0.000000e+00      0.000000   \n",
       "25%     10596.250000      0.207583  0.000000e+00  0.000000e+00     90.000000   \n",
       "50%     20669.000000      0.383856  0.000000e+00  0.000000e+00     99.000000   \n",
       "75%     75610.000000      0.713817  1.500000e+07  2.400000e+07    111.000000   \n",
       "max    417859.000000     32.985763  4.250000e+08  2.781506e+09    900.000000   \n",
       "\n",
       "         vote_count  vote_average  release_year    budget_adj   revenue_adj  \n",
       "count  10866.000000  10866.000000  10866.000000  1.086600e+04  1.086600e+04  \n",
       "mean     217.389748      5.974922   2001.322658  1.755104e+07  5.136436e+07  \n",
       "std      575.619058      0.935142     12.812941  3.430616e+07  1.446325e+08  \n",
       "min       10.000000      1.500000   1960.000000  0.000000e+00  0.000000e+00  \n",
       "25%       17.000000      5.400000   1995.000000  0.000000e+00  0.000000e+00  \n",
       "50%       38.000000      6.000000   2006.000000  0.000000e+00  0.000000e+00  \n",
       "75%      145.750000      6.600000   2011.000000  2.085325e+07  3.369710e+07  \n",
       "max     9767.000000      9.200000   2015.000000  4.250000e+08  2.827124e+09  "
      ]
     },
     "execution_count": 8,
     "metadata": {},
     "output_type": "execute_result"
    }
   ],
   "source": [
    "df_original.describe()"
   ]
  },
  {
   "cell_type": "markdown",
   "metadata": {},
   "source": [
    "#### Observations on Datset Properties and Initial Dataframe Cleaning\n",
    "\n",
    "The `id`, `imdb_id`, `homepage`, `director`, `tagline`, `keywords`, `overview`, `production_companies`, `release_date`, `vote_count`, and `vote_average` columns have data that is irrelevant to the analysis questions. Furthermore, the `budget` and `revenue` columns can be replaced by their inflation-adjusted equivalents, `budget_adj` and `revenue_adj`."
   ]
  },
  {
   "cell_type": "code",
   "execution_count": 9,
   "metadata": {},
   "outputs": [],
   "source": [
    "df_original.drop(columns=(['id', 'imdb_id', 'budget', 'revenue', 'homepage', 'director', 'tagline', 'keywords', 'overview', 'production_companies', 'release_date', 'vote_count', 'vote_average']), axis=1, inplace=True)"
   ]
  },
  {
   "cell_type": "code",
   "execution_count": 10,
   "metadata": {},
   "outputs": [
    {
     "data": {
      "text/html": [
       "<div>\n",
       "<style scoped>\n",
       "    .dataframe tbody tr th:only-of-type {\n",
       "        vertical-align: middle;\n",
       "    }\n",
       "\n",
       "    .dataframe tbody tr th {\n",
       "        vertical-align: top;\n",
       "    }\n",
       "\n",
       "    .dataframe thead th {\n",
       "        text-align: right;\n",
       "    }\n",
       "</style>\n",
       "<table border=\"1\" class=\"dataframe\">\n",
       "  <thead>\n",
       "    <tr style=\"text-align: right;\">\n",
       "      <th></th>\n",
       "      <th>popularity</th>\n",
       "      <th>original_title</th>\n",
       "      <th>cast</th>\n",
       "      <th>runtime</th>\n",
       "      <th>genres</th>\n",
       "      <th>release_year</th>\n",
       "      <th>budget_adj</th>\n",
       "      <th>revenue_adj</th>\n",
       "    </tr>\n",
       "  </thead>\n",
       "  <tbody>\n",
       "    <tr>\n",
       "      <th>0</th>\n",
       "      <td>32.985763</td>\n",
       "      <td>Jurassic World</td>\n",
       "      <td>Chris Pratt|Bryce Dallas Howard|Irrfan Khan|Vi...</td>\n",
       "      <td>124</td>\n",
       "      <td>Action|Adventure|Science Fiction|Thriller</td>\n",
       "      <td>2015</td>\n",
       "      <td>1.379999e+08</td>\n",
       "      <td>1.392446e+09</td>\n",
       "    </tr>\n",
       "    <tr>\n",
       "      <th>1</th>\n",
       "      <td>28.419936</td>\n",
       "      <td>Mad Max: Fury Road</td>\n",
       "      <td>Tom Hardy|Charlize Theron|Hugh Keays-Byrne|Nic...</td>\n",
       "      <td>120</td>\n",
       "      <td>Action|Adventure|Science Fiction|Thriller</td>\n",
       "      <td>2015</td>\n",
       "      <td>1.379999e+08</td>\n",
       "      <td>3.481613e+08</td>\n",
       "    </tr>\n",
       "  </tbody>\n",
       "</table>\n",
       "</div>"
      ],
      "text/plain": [
       "   popularity      original_title  \\\n",
       "0   32.985763      Jurassic World   \n",
       "1   28.419936  Mad Max: Fury Road   \n",
       "\n",
       "                                                cast  runtime  \\\n",
       "0  Chris Pratt|Bryce Dallas Howard|Irrfan Khan|Vi...      124   \n",
       "1  Tom Hardy|Charlize Theron|Hugh Keays-Byrne|Nic...      120   \n",
       "\n",
       "                                      genres  release_year    budget_adj  \\\n",
       "0  Action|Adventure|Science Fiction|Thriller          2015  1.379999e+08   \n",
       "1  Action|Adventure|Science Fiction|Thriller          2015  1.379999e+08   \n",
       "\n",
       "    revenue_adj  \n",
       "0  1.392446e+09  \n",
       "1  3.481613e+08  "
      ]
     },
     "execution_count": 10,
     "metadata": {},
     "output_type": "execute_result"
    }
   ],
   "source": [
    "df_original.head(2)"
   ]
  },
  {
   "cell_type": "markdown",
   "metadata": {},
   "source": [
    "#### Drop Any Rows Where Budget or Revenue are Zero\n",
    "All analysis questions take financial data into consideration, and explorations and observations on the data set show that some movies have missing budget and/or revenue value. These rows are unsuitable for this project and are removed in the following cells."
   ]
  },
  {
   "cell_type": "code",
   "execution_count": 11,
   "metadata": {},
   "outputs": [
    {
     "data": {
      "text/html": [
       "<div>\n",
       "<style scoped>\n",
       "    .dataframe tbody tr th:only-of-type {\n",
       "        vertical-align: middle;\n",
       "    }\n",
       "\n",
       "    .dataframe tbody tr th {\n",
       "        vertical-align: top;\n",
       "    }\n",
       "\n",
       "    .dataframe thead th {\n",
       "        text-align: right;\n",
       "    }\n",
       "</style>\n",
       "<table border=\"1\" class=\"dataframe\">\n",
       "  <thead>\n",
       "    <tr style=\"text-align: right;\">\n",
       "      <th></th>\n",
       "      <th>popularity</th>\n",
       "      <th>original_title</th>\n",
       "      <th>cast</th>\n",
       "      <th>runtime</th>\n",
       "      <th>genres</th>\n",
       "      <th>release_year</th>\n",
       "      <th>budget_adj</th>\n",
       "      <th>revenue_adj</th>\n",
       "    </tr>\n",
       "  </thead>\n",
       "  <tbody>\n",
       "    <tr>\n",
       "      <th>10461</th>\n",
       "      <td>0.188442</td>\n",
       "      <td>This Sporting Life</td>\n",
       "      <td>Richard Harris|Rachel Roberts|Alan Badel|Willi...</td>\n",
       "      <td>134</td>\n",
       "      <td>Drama</td>\n",
       "      <td>1963</td>\n",
       "      <td>0.0</td>\n",
       "      <td>0.000000e+00</td>\n",
       "    </tr>\n",
       "    <tr>\n",
       "      <th>10462</th>\n",
       "      <td>0.183514</td>\n",
       "      <td>McLintock!</td>\n",
       "      <td>John Wayne|Maureen O'Hara|Patrick Wayne|Stefan...</td>\n",
       "      <td>127</td>\n",
       "      <td>Comedy|Romance|Western</td>\n",
       "      <td>1963</td>\n",
       "      <td>0.0</td>\n",
       "      <td>0.000000e+00</td>\n",
       "    </tr>\n",
       "    <tr>\n",
       "      <th>10464</th>\n",
       "      <td>0.601084</td>\n",
       "      <td>X: The Man with the X-Ray Eyes</td>\n",
       "      <td>Ray Milland|Diana Van der Vlis|Harold J. Stone...</td>\n",
       "      <td>79</td>\n",
       "      <td>Horror|Science Fiction|Thriller</td>\n",
       "      <td>1963</td>\n",
       "      <td>0.0</td>\n",
       "      <td>0.000000e+00</td>\n",
       "    </tr>\n",
       "    <tr>\n",
       "      <th>10465</th>\n",
       "      <td>0.144419</td>\n",
       "      <td>Billy Liar</td>\n",
       "      <td>Tom Courtenay|Wilfred Pickles|Mona Washbourne|...</td>\n",
       "      <td>93</td>\n",
       "      <td>Romance|Comedy|Drama</td>\n",
       "      <td>1963</td>\n",
       "      <td>0.0</td>\n",
       "      <td>0.000000e+00</td>\n",
       "    </tr>\n",
       "    <tr>\n",
       "      <th>10466</th>\n",
       "      <td>0.142055</td>\n",
       "      <td>The Haunted Palace</td>\n",
       "      <td>Vincent Price|Debra Paget|Lon Chaney Jr.|Frank...</td>\n",
       "      <td>87</td>\n",
       "      <td>Horror</td>\n",
       "      <td>1963</td>\n",
       "      <td>0.0</td>\n",
       "      <td>0.000000e+00</td>\n",
       "    </tr>\n",
       "    <tr>\n",
       "      <th>...</th>\n",
       "      <td>...</td>\n",
       "      <td>...</td>\n",
       "      <td>...</td>\n",
       "      <td>...</td>\n",
       "      <td>...</td>\n",
       "      <td>...</td>\n",
       "      <td>...</td>\n",
       "      <td>...</td>\n",
       "    </tr>\n",
       "    <tr>\n",
       "      <th>10633</th>\n",
       "      <td>0.385313</td>\n",
       "      <td>The Way We Were</td>\n",
       "      <td>Barbra Streisand|Robert Redford|Bradford Dillm...</td>\n",
       "      <td>118</td>\n",
       "      <td>Drama|Romance</td>\n",
       "      <td>1973</td>\n",
       "      <td>0.0</td>\n",
       "      <td>2.210022e+08</td>\n",
       "    </tr>\n",
       "    <tr>\n",
       "      <th>10634</th>\n",
       "      <td>0.021941</td>\n",
       "      <td>VÃ©ritÃ©s et Mensonges</td>\n",
       "      <td>Orson Welles|Joseph Cotten|Oja Kodar|Elmyr de ...</td>\n",
       "      <td>89</td>\n",
       "      <td>Documentary</td>\n",
       "      <td>1973</td>\n",
       "      <td>0.0</td>\n",
       "      <td>0.000000e+00</td>\n",
       "    </tr>\n",
       "    <tr>\n",
       "      <th>10635</th>\n",
       "      <td>0.175339</td>\n",
       "      <td>The Offence</td>\n",
       "      <td>Sean Connery|Trevor Howard|Vivien Merchant|Ian...</td>\n",
       "      <td>112</td>\n",
       "      <td>Drama|Crime</td>\n",
       "      <td>1973</td>\n",
       "      <td>0.0</td>\n",
       "      <td>0.000000e+00</td>\n",
       "    </tr>\n",
       "    <tr>\n",
       "      <th>10636</th>\n",
       "      <td>0.162168</td>\n",
       "      <td>The Satanic Rites of Dracula</td>\n",
       "      <td>Christopher Lee|Peter Cushing|Michael Coles|Wi...</td>\n",
       "      <td>87</td>\n",
       "      <td>Horror</td>\n",
       "      <td>1973</td>\n",
       "      <td>0.0</td>\n",
       "      <td>0.000000e+00</td>\n",
       "    </tr>\n",
       "    <tr>\n",
       "      <th>10637</th>\n",
       "      <td>0.145079</td>\n",
       "      <td>Sssssss</td>\n",
       "      <td>Strother Martin|Dirk Benedict|Heather Menzies|...</td>\n",
       "      <td>99</td>\n",
       "      <td>Horror|Science Fiction</td>\n",
       "      <td>1973</td>\n",
       "      <td>0.0</td>\n",
       "      <td>0.000000e+00</td>\n",
       "    </tr>\n",
       "  </tbody>\n",
       "</table>\n",
       "<p>100 rows × 8 columns</p>\n",
       "</div>"
      ],
      "text/plain": [
       "       popularity                  original_title  \\\n",
       "10461    0.188442              This Sporting Life   \n",
       "10462    0.183514                      McLintock!   \n",
       "10464    0.601084  X: The Man with the X-Ray Eyes   \n",
       "10465    0.144419                      Billy Liar   \n",
       "10466    0.142055              The Haunted Palace   \n",
       "...           ...                             ...   \n",
       "10633    0.385313                 The Way We Were   \n",
       "10634    0.021941          VÃ©ritÃ©s et Mensonges   \n",
       "10635    0.175339                     The Offence   \n",
       "10636    0.162168    The Satanic Rites of Dracula   \n",
       "10637    0.145079                         Sssssss   \n",
       "\n",
       "                                                    cast  runtime  \\\n",
       "10461  Richard Harris|Rachel Roberts|Alan Badel|Willi...      134   \n",
       "10462  John Wayne|Maureen O'Hara|Patrick Wayne|Stefan...      127   \n",
       "10464  Ray Milland|Diana Van der Vlis|Harold J. Stone...       79   \n",
       "10465  Tom Courtenay|Wilfred Pickles|Mona Washbourne|...       93   \n",
       "10466  Vincent Price|Debra Paget|Lon Chaney Jr.|Frank...       87   \n",
       "...                                                  ...      ...   \n",
       "10633  Barbra Streisand|Robert Redford|Bradford Dillm...      118   \n",
       "10634  Orson Welles|Joseph Cotten|Oja Kodar|Elmyr de ...       89   \n",
       "10635  Sean Connery|Trevor Howard|Vivien Merchant|Ian...      112   \n",
       "10636  Christopher Lee|Peter Cushing|Michael Coles|Wi...       87   \n",
       "10637  Strother Martin|Dirk Benedict|Heather Menzies|...       99   \n",
       "\n",
       "                                genres  release_year  budget_adj   revenue_adj  \n",
       "10461                            Drama          1963         0.0  0.000000e+00  \n",
       "10462           Comedy|Romance|Western          1963         0.0  0.000000e+00  \n",
       "10464  Horror|Science Fiction|Thriller          1963         0.0  0.000000e+00  \n",
       "10465             Romance|Comedy|Drama          1963         0.0  0.000000e+00  \n",
       "10466                           Horror          1963         0.0  0.000000e+00  \n",
       "...                                ...           ...         ...           ...  \n",
       "10633                    Drama|Romance          1973         0.0  2.210022e+08  \n",
       "10634                      Documentary          1973         0.0  0.000000e+00  \n",
       "10635                      Drama|Crime          1973         0.0  0.000000e+00  \n",
       "10636                           Horror          1973         0.0  0.000000e+00  \n",
       "10637           Horror|Science Fiction          1973         0.0  0.000000e+00  \n",
       "\n",
       "[100 rows x 8 columns]"
      ]
     },
     "execution_count": 11,
     "metadata": {},
     "output_type": "execute_result"
    }
   ],
   "source": [
    "df_original.query('budget_adj < 1').iloc[-250:-150,:]"
   ]
  },
  {
   "cell_type": "code",
   "execution_count": 12,
   "metadata": {},
   "outputs": [
    {
     "data": {
      "text/plain": [
       "(10866, 8)"
      ]
     },
     "execution_count": 12,
     "metadata": {},
     "output_type": "execute_result"
    }
   ],
   "source": [
    "df_original.shape"
   ]
  },
  {
   "cell_type": "markdown",
   "metadata": {},
   "source": [
    "Before removing the cells, `10866` total rows are found in the dataframe."
   ]
  },
  {
   "cell_type": "code",
   "execution_count": 13,
   "metadata": {},
   "outputs": [],
   "source": [
    "df_original = df_original[~np.isclose(df_original['budget_adj'], 0)]"
   ]
  },
  {
   "cell_type": "code",
   "execution_count": 14,
   "metadata": {},
   "outputs": [
    {
     "data": {
      "text/plain": [
       "(5170, 8)"
      ]
     },
     "execution_count": 14,
     "metadata": {},
     "output_type": "execute_result"
    }
   ],
   "source": [
    "df_original.shape"
   ]
  },
  {
   "cell_type": "markdown",
   "metadata": {},
   "source": [
    "After removing all values that are approximately `0`, around half of all rows were removed, leaving `5170` rows."
   ]
  },
  {
   "cell_type": "code",
   "execution_count": 15,
   "metadata": {},
   "outputs": [],
   "source": [
    "df_original = df_original[~np.isclose(df_original['revenue_adj'], 0)]"
   ]
  },
  {
   "cell_type": "code",
   "execution_count": 16,
   "metadata": {},
   "outputs": [
    {
     "data": {
      "text/plain": [
       "(3855, 8)"
      ]
     },
     "execution_count": 16,
     "metadata": {},
     "output_type": "execute_result"
    }
   ],
   "source": [
    "df_original.shape"
   ]
  },
  {
   "cell_type": "markdown",
   "metadata": {},
   "source": [
    "After another round of removing rows, this time removing values of `0` for `revenue_adj`, `3855` rows remain for the dataset."
   ]
  },
  {
   "cell_type": "markdown",
   "metadata": {},
   "source": [
    "### Parsing Cells that Contain Multiple Data Values \n",
    "\n",
    "There are several columns containing cells that have strings that contain multiple data entries per cell. In these cells, the data is separated by `|` bars.\n",
    "\n",
    "The data within these cells is needed to answer the research questions. Separating out the data via a `split()` function may assist in performing calculations, but this must be done anew from the `df_original` dataframe for each analysis question to avoid confusion."
   ]
  },
  {
   "cell_type": "markdown",
   "metadata": {
    "collapsed": true
   },
   "source": [
    "### Create a Dataframe to Handle Q1: Cast Member Analysis\n",
    " * Which Cast Members Are Associated the Highest Grossing Films?\n",
    " * Cast Members Associated with the Lowest Grossing Films?\n",
    " * Cast Members Associated with the Greatest Profit per Film?\n",
    " \n",
    " Answering these questions relies only on the `original_title`, the `cast` list, the `budget_adj`, and the `revenue_adj` columns."
   ]
  },
  {
   "cell_type": "code",
   "execution_count": 17,
   "metadata": {},
   "outputs": [],
   "source": [
    "df_cast_pre = df_original[['original_title', 'cast', 'budget_adj', 'revenue_adj']].copy()"
   ]
  },
  {
   "cell_type": "markdown",
   "metadata": {},
   "source": [
    "#### Cleaning the Q1 Dataframe\n",
    "Now is the appropriate time to drop null and duplicated data for all rows that are pertinent to the cast-related analysis questions."
   ]
  },
  {
   "cell_type": "code",
   "execution_count": 18,
   "metadata": {},
   "outputs": [
    {
     "data": {
      "text/plain": [
       "original_title    0\n",
       "cast              4\n",
       "budget_adj        0\n",
       "revenue_adj       0\n",
       "dtype: int64"
      ]
     },
     "execution_count": 18,
     "metadata": {},
     "output_type": "execute_result"
    }
   ],
   "source": [
    "df_cast_pre.isnull().sum()"
   ]
  },
  {
   "cell_type": "code",
   "execution_count": 19,
   "metadata": {},
   "outputs": [],
   "source": [
    "df_cast_pre.dropna(inplace=True)"
   ]
  },
  {
   "cell_type": "code",
   "execution_count": 20,
   "metadata": {},
   "outputs": [
    {
     "data": {
      "text/plain": [
       "original_title    0\n",
       "cast              0\n",
       "budget_adj        0\n",
       "revenue_adj       0\n",
       "dtype: int64"
      ]
     },
     "execution_count": 20,
     "metadata": {},
     "output_type": "execute_result"
    }
   ],
   "source": [
    "df_cast_pre.isnull().sum()"
   ]
  },
  {
   "cell_type": "code",
   "execution_count": 21,
   "metadata": {},
   "outputs": [
    {
     "data": {
      "text/plain": [
       "1"
      ]
     },
     "execution_count": 21,
     "metadata": {},
     "output_type": "execute_result"
    }
   ],
   "source": [
    "df_cast_pre.duplicated().sum()"
   ]
  },
  {
   "cell_type": "code",
   "execution_count": 22,
   "metadata": {},
   "outputs": [],
   "source": [
    "df_cast_pre.drop_duplicates(inplace=True)"
   ]
  },
  {
   "cell_type": "code",
   "execution_count": 23,
   "metadata": {},
   "outputs": [
    {
     "data": {
      "text/plain": [
       "False"
      ]
     },
     "execution_count": 23,
     "metadata": {},
     "output_type": "execute_result"
    }
   ],
   "source": [
    "df_cast_pre.duplicated().sum().any()"
   ]
  },
  {
   "cell_type": "markdown",
   "metadata": {},
   "source": [
    "#### Separate Cast Members for Each Film"
   ]
  },
  {
   "cell_type": "code",
   "execution_count": 24,
   "metadata": {},
   "outputs": [
    {
     "data": {
      "text/plain": [
       "(3850, 4)"
      ]
     },
     "execution_count": 24,
     "metadata": {},
     "output_type": "execute_result"
    }
   ],
   "source": [
    "df_cast_pre.shape"
   ]
  },
  {
   "cell_type": "code",
   "execution_count": 25,
   "metadata": {},
   "outputs": [
    {
     "name": "stdout",
     "output_type": "stream",
     "text": [
      "progress: 13%\n",
      "progress: 26%\n",
      "progress: 39%\n",
      "progress: 52%\n",
      "progress: 65%\n",
      "progress: 78%\n",
      "progress: 91%\n",
      "progress: 100%\n",
      "Total Rows Calculated: 3850\n",
      "CPU times: user 47.4 s, sys: 110 ms, total: 47.5 s\n",
      "Wall time: 47.6 s\n"
     ]
    }
   ],
   "source": [
    "%%time\n",
    "# Create an empty copy of the dataframe to hold the rows with parsed cast member data\n",
    "df_cast = df_cast_pre[0:0].copy()\n",
    "\n",
    "# To avoid requiring jupyter to repeatedly query the df1 dataframe for length, store the value as a variable \n",
    "len_df_cast_pre = len(df_cast_pre)\n",
    "\n",
    "# For each row in the df_cast_pre dataframe:\n",
    "for i in range(len_df_cast_pre):\n",
    "    \n",
    "    # Capture the cast members as a separated list\n",
    "    cast_members = df_cast_pre.iloc[i,1]\n",
    "    cast_members = cast_members.split(\"|\")\n",
    "    \n",
    "    # For each cast member:\n",
    "    for j in range(len(cast_members)):\n",
    "        \n",
    "        # Add a row with the matching data for each cast member and film\n",
    "        df_cast.loc[len(df_cast)] = [df_cast_pre.iloc[i,0], cast_members[j], df_cast_pre.iloc[i,2], df_cast_pre.iloc[i, 3]]\n",
    "\n",
    "    # Print progress    \n",
    "    if (i + 1) % 500 == 0 or i + 1 == len_df_cast_pre:\n",
    "        print('progress: {:.0%}'.format((i + 1) / len_df_cast_pre))\n",
    "    if i + 1 == len_df_cast_pre:\n",
    "        print('Total Rows Calculated: {}'.format(i + 1))"
   ]
  },
  {
   "cell_type": "code",
   "execution_count": 26,
   "metadata": {},
   "outputs": [
    {
     "data": {
      "text/plain": [
       "(19196, 4)"
      ]
     },
     "execution_count": 26,
     "metadata": {},
     "output_type": "execute_result"
    }
   ],
   "source": [
    "df_cast.shape"
   ]
  },
  {
   "cell_type": "markdown",
   "metadata": {},
   "source": [
    "The `df_cast` dataframe is prepared for the analysis question regarding cast members and finances.\n",
    "\n",
    "### Create a Dataframe for Q2 (Finances) and Q3 (Finances and Runtime)\n",
    "\n",
    "The Q2 and Q3 database cannot have rows that bear repetitive data, unlike the Q1 dataframe above. \n",
    "\n",
    "A fresh dataframe derived from `df_original` is needed, and the usual data cleaning of null and duplicate values follows."
   ]
  },
  {
   "cell_type": "code",
   "execution_count": 27,
   "metadata": {},
   "outputs": [],
   "source": [
    "df_fin_run = df_original[['original_title', 'runtime', 'budget_adj', 'revenue_adj']].copy()"
   ]
  },
  {
   "cell_type": "code",
   "execution_count": 28,
   "metadata": {},
   "outputs": [
    {
     "data": {
      "text/plain": [
       "original_title    False\n",
       "runtime           False\n",
       "budget_adj        False\n",
       "revenue_adj       False\n",
       "dtype: bool"
      ]
     },
     "execution_count": 28,
     "metadata": {},
     "output_type": "execute_result"
    }
   ],
   "source": [
    "df_fin_run.isnull().any()"
   ]
  },
  {
   "cell_type": "code",
   "execution_count": 29,
   "metadata": {},
   "outputs": [
    {
     "data": {
      "text/plain": [
       "1"
      ]
     },
     "execution_count": 29,
     "metadata": {},
     "output_type": "execute_result"
    }
   ],
   "source": [
    "df_fin_run.duplicated().sum()"
   ]
  },
  {
   "cell_type": "code",
   "execution_count": 30,
   "metadata": {},
   "outputs": [],
   "source": [
    "df_fin_run.drop_duplicates(inplace=True)"
   ]
  },
  {
   "cell_type": "code",
   "execution_count": 31,
   "metadata": {},
   "outputs": [
    {
     "data": {
      "text/plain": [
       "(3854, 4)"
      ]
     },
     "execution_count": 31,
     "metadata": {},
     "output_type": "execute_result"
    }
   ],
   "source": [
    "df_fin_run.shape"
   ]
  },
  {
   "cell_type": "code",
   "execution_count": 32,
   "metadata": {},
   "outputs": [],
   "source": [
    "df_fin_run.reset_index(drop=True, inplace=True)"
   ]
  },
  {
   "cell_type": "markdown",
   "metadata": {},
   "source": [
    "Reseting the index is useful for finding the film with the highest profit.\n",
    "\n",
    "The `df_fin_run` dataframe is prepared for Q2 and Q3 analysis.\n",
    "\n",
    "### Create a Dataframe to Handle Q4's Adventure Genre Characteristics\n",
    "\n",
    "This dataframe takes into account essentially all available columns from the original dataframe, and uses the splitting code developed for the Q1 dataframe, but applies the code instead to the `genres` column. "
   ]
  },
  {
   "cell_type": "code",
   "execution_count": 33,
   "metadata": {},
   "outputs": [],
   "source": [
    "df_genres_pre = df_original.copy()"
   ]
  },
  {
   "cell_type": "code",
   "execution_count": 34,
   "metadata": {},
   "outputs": [
    {
     "data": {
      "text/plain": [
       "(3855, 8)"
      ]
     },
     "execution_count": 34,
     "metadata": {},
     "output_type": "execute_result"
    }
   ],
   "source": [
    "df_genres_pre.shape"
   ]
  },
  {
   "cell_type": "code",
   "execution_count": 35,
   "metadata": {},
   "outputs": [
    {
     "data": {
      "text/plain": [
       "popularity        0\n",
       "original_title    0\n",
       "cast              4\n",
       "runtime           0\n",
       "genres            0\n",
       "release_year      0\n",
       "budget_adj        0\n",
       "revenue_adj       0\n",
       "dtype: int64"
      ]
     },
     "execution_count": 35,
     "metadata": {},
     "output_type": "execute_result"
    }
   ],
   "source": [
    "df_genres_pre.isnull().sum()"
   ]
  },
  {
   "cell_type": "markdown",
   "metadata": {},
   "source": [
    "The `cast` and `director` columns are the only columns to have null values. The nature of the Q4 analysis question does not necessarily place primary importance on these two columns, and therefore no rows are dropped at this time."
   ]
  },
  {
   "cell_type": "code",
   "execution_count": 36,
   "metadata": {},
   "outputs": [
    {
     "data": {
      "text/plain": [
       "1"
      ]
     },
     "execution_count": 36,
     "metadata": {},
     "output_type": "execute_result"
    }
   ],
   "source": [
    "df_genres_pre.duplicated().sum()"
   ]
  },
  {
   "cell_type": "code",
   "execution_count": 37,
   "metadata": {},
   "outputs": [],
   "source": [
    "df_genres_pre.drop_duplicates(inplace=True)"
   ]
  },
  {
   "cell_type": "code",
   "execution_count": 38,
   "metadata": {},
   "outputs": [
    {
     "data": {
      "text/plain": [
       "False"
      ]
     },
     "execution_count": 38,
     "metadata": {},
     "output_type": "execute_result"
    }
   ],
   "source": [
    "df_genres_pre.duplicated().any()"
   ]
  },
  {
   "cell_type": "code",
   "execution_count": 39,
   "metadata": {},
   "outputs": [
    {
     "data": {
      "text/plain": [
       "(3854, 8)"
      ]
     },
     "execution_count": 39,
     "metadata": {},
     "output_type": "execute_result"
    }
   ],
   "source": [
    "df_genres_pre.shape"
   ]
  },
  {
   "cell_type": "code",
   "execution_count": 40,
   "metadata": {},
   "outputs": [
    {
     "data": {
      "text/html": [
       "<div>\n",
       "<style scoped>\n",
       "    .dataframe tbody tr th:only-of-type {\n",
       "        vertical-align: middle;\n",
       "    }\n",
       "\n",
       "    .dataframe tbody tr th {\n",
       "        vertical-align: top;\n",
       "    }\n",
       "\n",
       "    .dataframe thead th {\n",
       "        text-align: right;\n",
       "    }\n",
       "</style>\n",
       "<table border=\"1\" class=\"dataframe\">\n",
       "  <thead>\n",
       "    <tr style=\"text-align: right;\">\n",
       "      <th></th>\n",
       "      <th>popularity</th>\n",
       "      <th>original_title</th>\n",
       "      <th>cast</th>\n",
       "      <th>runtime</th>\n",
       "      <th>genres</th>\n",
       "      <th>release_year</th>\n",
       "      <th>budget_adj</th>\n",
       "      <th>revenue_adj</th>\n",
       "    </tr>\n",
       "  </thead>\n",
       "  <tbody>\n",
       "    <tr>\n",
       "      <th>0</th>\n",
       "      <td>32.985763</td>\n",
       "      <td>Jurassic World</td>\n",
       "      <td>Chris Pratt|Bryce Dallas Howard|Irrfan Khan|Vi...</td>\n",
       "      <td>124</td>\n",
       "      <td>Action|Adventure|Science Fiction|Thriller</td>\n",
       "      <td>2015</td>\n",
       "      <td>1.379999e+08</td>\n",
       "      <td>1.392446e+09</td>\n",
       "    </tr>\n",
       "  </tbody>\n",
       "</table>\n",
       "</div>"
      ],
      "text/plain": [
       "   popularity  original_title  \\\n",
       "0   32.985763  Jurassic World   \n",
       "\n",
       "                                                cast  runtime  \\\n",
       "0  Chris Pratt|Bryce Dallas Howard|Irrfan Khan|Vi...      124   \n",
       "\n",
       "                                      genres  release_year    budget_adj  \\\n",
       "0  Action|Adventure|Science Fiction|Thriller          2015  1.379999e+08   \n",
       "\n",
       "    revenue_adj  \n",
       "0  1.392446e+09  "
      ]
     },
     "execution_count": 40,
     "metadata": {},
     "output_type": "execute_result"
    }
   ],
   "source": [
    "df_genres_pre.head(1)"
   ]
  },
  {
   "cell_type": "code",
   "execution_count": 41,
   "metadata": {},
   "outputs": [
    {
     "data": {
      "text/plain": [
       "2015"
      ]
     },
     "execution_count": 41,
     "metadata": {},
     "output_type": "execute_result"
    }
   ],
   "source": [
    "df_genres_pre.iloc[0,5]"
   ]
  },
  {
   "cell_type": "markdown",
   "metadata": {},
   "source": [
    "Check that the `release_year` column does not contain inappropriate values, such as `0`."
   ]
  },
  {
   "cell_type": "code",
   "execution_count": 42,
   "metadata": {},
   "outputs": [
    {
     "data": {
      "text/plain": [
       "1960      5\n",
       "1962      7\n",
       "1964      7\n",
       "1966      5\n",
       "1968      9\n",
       "1970     11\n",
       "1972      8\n",
       "1974     13\n",
       "1976     15\n",
       "1978     17\n",
       "1980     23\n",
       "1982     26\n",
       "1984     42\n",
       "1986     48\n",
       "1988     57\n",
       "1990     53\n",
       "1992     53\n",
       "1994     62\n",
       "1996     86\n",
       "1998     92\n",
       "2000    106\n",
       "2002    127\n",
       "2004    147\n",
       "2006    169\n",
       "2008    167\n",
       "2010    178\n",
       "2012    158\n",
       "2014    165\n",
       "1961     10\n",
       "1963      6\n",
       "1965      5\n",
       "1967     13\n",
       "1969      4\n",
       "1971     13\n",
       "1973     12\n",
       "1975      9\n",
       "1977     19\n",
       "1979     16\n",
       "1981     30\n",
       "1983     31\n",
       "1985     41\n",
       "1987     46\n",
       "1989     51\n",
       "1991     50\n",
       "1993     72\n",
       "1995     81\n",
       "1997     90\n",
       "1999    116\n",
       "2001    121\n",
       "2003    121\n",
       "2005    163\n",
       "2007    165\n",
       "2009    174\n",
       "2011    199\n",
       "2013    180\n",
       "2015    160\n",
       "Name: release_year, dtype: int64"
      ]
     },
     "execution_count": 42,
     "metadata": {},
     "output_type": "execute_result"
    }
   ],
   "source": [
    "df_genres_pre['release_year'].value_counts(sort=False, ascending=True)"
   ]
  },
  {
   "cell_type": "markdown",
   "metadata": {},
   "source": [
    "Perform the same task on the `runtime` column; make sure that any values must be of a realistic runtime length for a film."
   ]
  },
  {
   "cell_type": "code",
   "execution_count": 43,
   "metadata": {},
   "outputs": [
    {
     "data": {
      "text/plain": [
       "26     1\n",
       "42     1\n",
       "62     1\n",
       "66     1\n",
       "72     2\n",
       "      ..\n",
       "197    2\n",
       "199    1\n",
       "201    1\n",
       "213    1\n",
       "219    1\n",
       "Name: runtime, Length: 139, dtype: int64"
      ]
     },
     "execution_count": 43,
     "metadata": {},
     "output_type": "execute_result"
    }
   ],
   "source": [
    "df_genres_pre['runtime'].value_counts(sort=False)"
   ]
  },
  {
   "cell_type": "markdown",
   "metadata": {},
   "source": [
    "The runtime values are all between `26` and `219`, and therefore are appropriate."
   ]
  },
  {
   "cell_type": "markdown",
   "metadata": {},
   "source": [
    "#### Split the `genres` Column Data by the | Delimiter"
   ]
  },
  {
   "cell_type": "code",
   "execution_count": 44,
   "metadata": {},
   "outputs": [],
   "source": [
    "# Create an empty copy of the dataframe to hold the rows with parsed cast member data\n",
    "df_genres = df_genres_pre[0:0].copy()"
   ]
  },
  {
   "cell_type": "code",
   "execution_count": 45,
   "metadata": {},
   "outputs": [
    {
     "data": {
      "text/html": [
       "<div>\n",
       "<style scoped>\n",
       "    .dataframe tbody tr th:only-of-type {\n",
       "        vertical-align: middle;\n",
       "    }\n",
       "\n",
       "    .dataframe tbody tr th {\n",
       "        vertical-align: top;\n",
       "    }\n",
       "\n",
       "    .dataframe thead th {\n",
       "        text-align: right;\n",
       "    }\n",
       "</style>\n",
       "<table border=\"1\" class=\"dataframe\">\n",
       "  <thead>\n",
       "    <tr style=\"text-align: right;\">\n",
       "      <th></th>\n",
       "      <th>popularity</th>\n",
       "      <th>original_title</th>\n",
       "      <th>cast</th>\n",
       "      <th>runtime</th>\n",
       "      <th>genres</th>\n",
       "      <th>release_year</th>\n",
       "      <th>budget_adj</th>\n",
       "      <th>revenue_adj</th>\n",
       "    </tr>\n",
       "  </thead>\n",
       "  <tbody>\n",
       "  </tbody>\n",
       "</table>\n",
       "</div>"
      ],
      "text/plain": [
       "Empty DataFrame\n",
       "Columns: [popularity, original_title, cast, runtime, genres, release_year, budget_adj, revenue_adj]\n",
       "Index: []"
      ]
     },
     "execution_count": 45,
     "metadata": {},
     "output_type": "execute_result"
    }
   ],
   "source": [
    "df_genres"
   ]
  },
  {
   "cell_type": "code",
   "execution_count": 46,
   "metadata": {},
   "outputs": [
    {
     "name": "stdout",
     "output_type": "stream",
     "text": [
      "Progress: 13%\n",
      "Progress: 26%\n",
      "Progress: 39%\n",
      "Progress: 52%\n",
      "Progress: 65%\n",
      "Progress: 78%\n",
      "Progress: 91%\n",
      "Progress: 100%\n",
      "Total Rows Calculated: 3854\n",
      "CPU times: user 46.3 s, sys: 19.9 ms, total: 46.3 s\n",
      "Wall time: 46.4 s\n"
     ]
    }
   ],
   "source": [
    "%%time\n",
    "\n",
    "# For efficiency, store the length value as a variable \n",
    "len_df_genres_pre = len(df_genres_pre)\n",
    "\n",
    "# For each row in the df_genres_pre dataframe:\n",
    "for i in range(len_df_genres_pre):\n",
    "    \n",
    "    # Capture the genres and split along the delimiter |\n",
    "    genres = df_genres_pre.iloc[i,4]\n",
    "    genres = genres.split(\"|\")\n",
    "    \n",
    "    # In the df_genres dataframe, add a new row with a single genre and its matching data:\n",
    "    for j in range(len(genres)):\n",
    "        df_genres.loc[len(df_genres)] = [df_genres_pre.iloc[i,0], df_genres_pre.iloc[i,1], df_genres_pre.iloc[i,2], df_genres_pre.iloc[i, 3], genres[j], df_genres_pre.iloc[i, 5], df_genres_pre.iloc[i, 6], df_genres_pre.iloc[i, 7]]\n",
    "\n",
    "    # Print progress\n",
    "    if (i + 1) % 500 == 0 or i + 1 == len_df_genres_pre:\n",
    "        print('Progress: {:.0%}'.format((i + 1) / len_df_genres_pre))\n",
    "    if i + 1 == len_df_genres_pre:\n",
    "        print('Total Rows Calculated: {}'.format(i + 1))"
   ]
  },
  {
   "cell_type": "code",
   "execution_count": 47,
   "metadata": {},
   "outputs": [
    {
     "data": {
      "text/plain": [
       "(10303, 8)"
      ]
     },
     "execution_count": 47,
     "metadata": {},
     "output_type": "execute_result"
    }
   ],
   "source": [
    "df_genres.shape"
   ]
  },
  {
   "cell_type": "code",
   "execution_count": 48,
   "metadata": {},
   "outputs": [
    {
     "data": {
      "text/html": [
       "<div>\n",
       "<style scoped>\n",
       "    .dataframe tbody tr th:only-of-type {\n",
       "        vertical-align: middle;\n",
       "    }\n",
       "\n",
       "    .dataframe tbody tr th {\n",
       "        vertical-align: top;\n",
       "    }\n",
       "\n",
       "    .dataframe thead th {\n",
       "        text-align: right;\n",
       "    }\n",
       "</style>\n",
       "<table border=\"1\" class=\"dataframe\">\n",
       "  <thead>\n",
       "    <tr style=\"text-align: right;\">\n",
       "      <th></th>\n",
       "      <th>popularity</th>\n",
       "      <th>original_title</th>\n",
       "      <th>cast</th>\n",
       "      <th>runtime</th>\n",
       "      <th>genres</th>\n",
       "      <th>release_year</th>\n",
       "      <th>budget_adj</th>\n",
       "      <th>revenue_adj</th>\n",
       "    </tr>\n",
       "  </thead>\n",
       "  <tbody>\n",
       "    <tr>\n",
       "      <th>0</th>\n",
       "      <td>32.985763</td>\n",
       "      <td>Jurassic World</td>\n",
       "      <td>Chris Pratt|Bryce Dallas Howard|Irrfan Khan|Vi...</td>\n",
       "      <td>124</td>\n",
       "      <td>Action</td>\n",
       "      <td>2015</td>\n",
       "      <td>1.379999e+08</td>\n",
       "      <td>1.392446e+09</td>\n",
       "    </tr>\n",
       "    <tr>\n",
       "      <th>1</th>\n",
       "      <td>32.985763</td>\n",
       "      <td>Jurassic World</td>\n",
       "      <td>Chris Pratt|Bryce Dallas Howard|Irrfan Khan|Vi...</td>\n",
       "      <td>124</td>\n",
       "      <td>Adventure</td>\n",
       "      <td>2015</td>\n",
       "      <td>1.379999e+08</td>\n",
       "      <td>1.392446e+09</td>\n",
       "    </tr>\n",
       "    <tr>\n",
       "      <th>2</th>\n",
       "      <td>32.985763</td>\n",
       "      <td>Jurassic World</td>\n",
       "      <td>Chris Pratt|Bryce Dallas Howard|Irrfan Khan|Vi...</td>\n",
       "      <td>124</td>\n",
       "      <td>Science Fiction</td>\n",
       "      <td>2015</td>\n",
       "      <td>1.379999e+08</td>\n",
       "      <td>1.392446e+09</td>\n",
       "    </tr>\n",
       "    <tr>\n",
       "      <th>3</th>\n",
       "      <td>32.985763</td>\n",
       "      <td>Jurassic World</td>\n",
       "      <td>Chris Pratt|Bryce Dallas Howard|Irrfan Khan|Vi...</td>\n",
       "      <td>124</td>\n",
       "      <td>Thriller</td>\n",
       "      <td>2015</td>\n",
       "      <td>1.379999e+08</td>\n",
       "      <td>1.392446e+09</td>\n",
       "    </tr>\n",
       "    <tr>\n",
       "      <th>4</th>\n",
       "      <td>28.419936</td>\n",
       "      <td>Mad Max: Fury Road</td>\n",
       "      <td>Tom Hardy|Charlize Theron|Hugh Keays-Byrne|Nic...</td>\n",
       "      <td>120</td>\n",
       "      <td>Action</td>\n",
       "      <td>2015</td>\n",
       "      <td>1.379999e+08</td>\n",
       "      <td>3.481613e+08</td>\n",
       "    </tr>\n",
       "    <tr>\n",
       "      <th>5</th>\n",
       "      <td>28.419936</td>\n",
       "      <td>Mad Max: Fury Road</td>\n",
       "      <td>Tom Hardy|Charlize Theron|Hugh Keays-Byrne|Nic...</td>\n",
       "      <td>120</td>\n",
       "      <td>Adventure</td>\n",
       "      <td>2015</td>\n",
       "      <td>1.379999e+08</td>\n",
       "      <td>3.481613e+08</td>\n",
       "    </tr>\n",
       "    <tr>\n",
       "      <th>6</th>\n",
       "      <td>28.419936</td>\n",
       "      <td>Mad Max: Fury Road</td>\n",
       "      <td>Tom Hardy|Charlize Theron|Hugh Keays-Byrne|Nic...</td>\n",
       "      <td>120</td>\n",
       "      <td>Science Fiction</td>\n",
       "      <td>2015</td>\n",
       "      <td>1.379999e+08</td>\n",
       "      <td>3.481613e+08</td>\n",
       "    </tr>\n",
       "    <tr>\n",
       "      <th>7</th>\n",
       "      <td>28.419936</td>\n",
       "      <td>Mad Max: Fury Road</td>\n",
       "      <td>Tom Hardy|Charlize Theron|Hugh Keays-Byrne|Nic...</td>\n",
       "      <td>120</td>\n",
       "      <td>Thriller</td>\n",
       "      <td>2015</td>\n",
       "      <td>1.379999e+08</td>\n",
       "      <td>3.481613e+08</td>\n",
       "    </tr>\n",
       "    <tr>\n",
       "      <th>8</th>\n",
       "      <td>13.112507</td>\n",
       "      <td>Insurgent</td>\n",
       "      <td>Shailene Woodley|Theo James|Kate Winslet|Ansel...</td>\n",
       "      <td>119</td>\n",
       "      <td>Adventure</td>\n",
       "      <td>2015</td>\n",
       "      <td>1.012000e+08</td>\n",
       "      <td>2.716190e+08</td>\n",
       "    </tr>\n",
       "    <tr>\n",
       "      <th>9</th>\n",
       "      <td>13.112507</td>\n",
       "      <td>Insurgent</td>\n",
       "      <td>Shailene Woodley|Theo James|Kate Winslet|Ansel...</td>\n",
       "      <td>119</td>\n",
       "      <td>Science Fiction</td>\n",
       "      <td>2015</td>\n",
       "      <td>1.012000e+08</td>\n",
       "      <td>2.716190e+08</td>\n",
       "    </tr>\n",
       "  </tbody>\n",
       "</table>\n",
       "</div>"
      ],
      "text/plain": [
       "   popularity      original_title  \\\n",
       "0   32.985763      Jurassic World   \n",
       "1   32.985763      Jurassic World   \n",
       "2   32.985763      Jurassic World   \n",
       "3   32.985763      Jurassic World   \n",
       "4   28.419936  Mad Max: Fury Road   \n",
       "5   28.419936  Mad Max: Fury Road   \n",
       "6   28.419936  Mad Max: Fury Road   \n",
       "7   28.419936  Mad Max: Fury Road   \n",
       "8   13.112507           Insurgent   \n",
       "9   13.112507           Insurgent   \n",
       "\n",
       "                                                cast  runtime  \\\n",
       "0  Chris Pratt|Bryce Dallas Howard|Irrfan Khan|Vi...      124   \n",
       "1  Chris Pratt|Bryce Dallas Howard|Irrfan Khan|Vi...      124   \n",
       "2  Chris Pratt|Bryce Dallas Howard|Irrfan Khan|Vi...      124   \n",
       "3  Chris Pratt|Bryce Dallas Howard|Irrfan Khan|Vi...      124   \n",
       "4  Tom Hardy|Charlize Theron|Hugh Keays-Byrne|Nic...      120   \n",
       "5  Tom Hardy|Charlize Theron|Hugh Keays-Byrne|Nic...      120   \n",
       "6  Tom Hardy|Charlize Theron|Hugh Keays-Byrne|Nic...      120   \n",
       "7  Tom Hardy|Charlize Theron|Hugh Keays-Byrne|Nic...      120   \n",
       "8  Shailene Woodley|Theo James|Kate Winslet|Ansel...      119   \n",
       "9  Shailene Woodley|Theo James|Kate Winslet|Ansel...      119   \n",
       "\n",
       "            genres  release_year    budget_adj   revenue_adj  \n",
       "0           Action          2015  1.379999e+08  1.392446e+09  \n",
       "1        Adventure          2015  1.379999e+08  1.392446e+09  \n",
       "2  Science Fiction          2015  1.379999e+08  1.392446e+09  \n",
       "3         Thriller          2015  1.379999e+08  1.392446e+09  \n",
       "4           Action          2015  1.379999e+08  3.481613e+08  \n",
       "5        Adventure          2015  1.379999e+08  3.481613e+08  \n",
       "6  Science Fiction          2015  1.379999e+08  3.481613e+08  \n",
       "7         Thriller          2015  1.379999e+08  3.481613e+08  \n",
       "8        Adventure          2015  1.012000e+08  2.716190e+08  \n",
       "9  Science Fiction          2015  1.012000e+08  2.716190e+08  "
      ]
     },
     "execution_count": 48,
     "metadata": {},
     "output_type": "execute_result"
    }
   ],
   "source": [
    "df_genres.head(10)"
   ]
  },
  {
   "cell_type": "markdown",
   "metadata": {},
   "source": [
    "Since Q4 concerns only the adventure genre, all rows that do not feature the `adventure` genre may be dropped. The `genres` column itself may also be dropped afterwards."
   ]
  },
  {
   "cell_type": "code",
   "execution_count": 49,
   "metadata": {},
   "outputs": [],
   "source": [
    "df_genres = df_genres.query('genres == \"Adventure\"').drop(axis=1, columns='genres')"
   ]
  },
  {
   "cell_type": "code",
   "execution_count": 50,
   "metadata": {},
   "outputs": [
    {
     "data": {
      "text/html": [
       "<div>\n",
       "<style scoped>\n",
       "    .dataframe tbody tr th:only-of-type {\n",
       "        vertical-align: middle;\n",
       "    }\n",
       "\n",
       "    .dataframe tbody tr th {\n",
       "        vertical-align: top;\n",
       "    }\n",
       "\n",
       "    .dataframe thead th {\n",
       "        text-align: right;\n",
       "    }\n",
       "</style>\n",
       "<table border=\"1\" class=\"dataframe\">\n",
       "  <thead>\n",
       "    <tr style=\"text-align: right;\">\n",
       "      <th></th>\n",
       "      <th>popularity</th>\n",
       "      <th>original_title</th>\n",
       "      <th>cast</th>\n",
       "      <th>runtime</th>\n",
       "      <th>release_year</th>\n",
       "      <th>budget_adj</th>\n",
       "      <th>revenue_adj</th>\n",
       "    </tr>\n",
       "  </thead>\n",
       "  <tbody>\n",
       "    <tr>\n",
       "      <th>1</th>\n",
       "      <td>32.985763</td>\n",
       "      <td>Jurassic World</td>\n",
       "      <td>Chris Pratt|Bryce Dallas Howard|Irrfan Khan|Vi...</td>\n",
       "      <td>124</td>\n",
       "      <td>2015</td>\n",
       "      <td>1.379999e+08</td>\n",
       "      <td>1.392446e+09</td>\n",
       "    </tr>\n",
       "    <tr>\n",
       "      <th>5</th>\n",
       "      <td>28.419936</td>\n",
       "      <td>Mad Max: Fury Road</td>\n",
       "      <td>Tom Hardy|Charlize Theron|Hugh Keays-Byrne|Nic...</td>\n",
       "      <td>120</td>\n",
       "      <td>2015</td>\n",
       "      <td>1.379999e+08</td>\n",
       "      <td>3.481613e+08</td>\n",
       "    </tr>\n",
       "    <tr>\n",
       "      <th>8</th>\n",
       "      <td>13.112507</td>\n",
       "      <td>Insurgent</td>\n",
       "      <td>Shailene Woodley|Theo James|Kate Winslet|Ansel...</td>\n",
       "      <td>119</td>\n",
       "      <td>2015</td>\n",
       "      <td>1.012000e+08</td>\n",
       "      <td>2.716190e+08</td>\n",
       "    </tr>\n",
       "    <tr>\n",
       "      <th>12</th>\n",
       "      <td>11.173104</td>\n",
       "      <td>Star Wars: The Force Awakens</td>\n",
       "      <td>Harrison Ford|Mark Hamill|Carrie Fisher|Adam D...</td>\n",
       "      <td>136</td>\n",
       "      <td>2015</td>\n",
       "      <td>1.839999e+08</td>\n",
       "      <td>1.902723e+09</td>\n",
       "    </tr>\n",
       "    <tr>\n",
       "      <th>20</th>\n",
       "      <td>9.110700</td>\n",
       "      <td>The Revenant</td>\n",
       "      <td>Leonardo DiCaprio|Tom Hardy|Will Poulter|Domhn...</td>\n",
       "      <td>156</td>\n",
       "      <td>2015</td>\n",
       "      <td>1.241999e+08</td>\n",
       "      <td>4.903142e+08</td>\n",
       "    </tr>\n",
       "    <tr>\n",
       "      <th>25</th>\n",
       "      <td>8.654359</td>\n",
       "      <td>Terminator Genisys</td>\n",
       "      <td>Arnold Schwarzenegger|Jason Clarke|Emilia Clar...</td>\n",
       "      <td>125</td>\n",
       "      <td>2015</td>\n",
       "      <td>1.425999e+08</td>\n",
       "      <td>4.053551e+08</td>\n",
       "    </tr>\n",
       "    <tr>\n",
       "      <th>27</th>\n",
       "      <td>7.667400</td>\n",
       "      <td>The Martian</td>\n",
       "      <td>Matt Damon|Jessica Chastain|Kristen Wiig|Jeff ...</td>\n",
       "      <td>141</td>\n",
       "      <td>2015</td>\n",
       "      <td>9.935996e+07</td>\n",
       "      <td>5.477497e+08</td>\n",
       "    </tr>\n",
       "    <tr>\n",
       "      <th>31</th>\n",
       "      <td>7.404165</td>\n",
       "      <td>Minions</td>\n",
       "      <td>Sandra Bullock|Jon Hamm|Michael Keaton|Allison...</td>\n",
       "      <td>91</td>\n",
       "      <td>2015</td>\n",
       "      <td>6.807997e+07</td>\n",
       "      <td>1.064192e+09</td>\n",
       "    </tr>\n",
       "    <tr>\n",
       "      <th>37</th>\n",
       "      <td>6.200282</td>\n",
       "      <td>Spectre</td>\n",
       "      <td>Daniel Craig|Christoph Waltz|LÃ©a Seydoux|Ralp...</td>\n",
       "      <td>148</td>\n",
       "      <td>2015</td>\n",
       "      <td>2.253999e+08</td>\n",
       "      <td>8.102203e+08</td>\n",
       "    </tr>\n",
       "    <tr>\n",
       "      <th>42</th>\n",
       "      <td>6.189369</td>\n",
       "      <td>Jupiter Ascending</td>\n",
       "      <td>Mila Kunis|Channing Tatum|Sean Bean|Eddie Redm...</td>\n",
       "      <td>124</td>\n",
       "      <td>2015</td>\n",
       "      <td>1.619199e+08</td>\n",
       "      <td>1.692686e+08</td>\n",
       "    </tr>\n",
       "  </tbody>\n",
       "</table>\n",
       "</div>"
      ],
      "text/plain": [
       "    popularity                original_title  \\\n",
       "1    32.985763                Jurassic World   \n",
       "5    28.419936            Mad Max: Fury Road   \n",
       "8    13.112507                     Insurgent   \n",
       "12   11.173104  Star Wars: The Force Awakens   \n",
       "20    9.110700                  The Revenant   \n",
       "25    8.654359            Terminator Genisys   \n",
       "27    7.667400                   The Martian   \n",
       "31    7.404165                       Minions   \n",
       "37    6.200282                       Spectre   \n",
       "42    6.189369             Jupiter Ascending   \n",
       "\n",
       "                                                 cast  runtime  release_year  \\\n",
       "1   Chris Pratt|Bryce Dallas Howard|Irrfan Khan|Vi...      124          2015   \n",
       "5   Tom Hardy|Charlize Theron|Hugh Keays-Byrne|Nic...      120          2015   \n",
       "8   Shailene Woodley|Theo James|Kate Winslet|Ansel...      119          2015   \n",
       "12  Harrison Ford|Mark Hamill|Carrie Fisher|Adam D...      136          2015   \n",
       "20  Leonardo DiCaprio|Tom Hardy|Will Poulter|Domhn...      156          2015   \n",
       "25  Arnold Schwarzenegger|Jason Clarke|Emilia Clar...      125          2015   \n",
       "27  Matt Damon|Jessica Chastain|Kristen Wiig|Jeff ...      141          2015   \n",
       "31  Sandra Bullock|Jon Hamm|Michael Keaton|Allison...       91          2015   \n",
       "37  Daniel Craig|Christoph Waltz|LÃ©a Seydoux|Ralp...      148          2015   \n",
       "42  Mila Kunis|Channing Tatum|Sean Bean|Eddie Redm...      124          2015   \n",
       "\n",
       "      budget_adj   revenue_adj  \n",
       "1   1.379999e+08  1.392446e+09  \n",
       "5   1.379999e+08  3.481613e+08  \n",
       "8   1.012000e+08  2.716190e+08  \n",
       "12  1.839999e+08  1.902723e+09  \n",
       "20  1.241999e+08  4.903142e+08  \n",
       "25  1.425999e+08  4.053551e+08  \n",
       "27  9.935996e+07  5.477497e+08  \n",
       "31  6.807997e+07  1.064192e+09  \n",
       "37  2.253999e+08  8.102203e+08  \n",
       "42  1.619199e+08  1.692686e+08  "
      ]
     },
     "execution_count": 50,
     "metadata": {},
     "output_type": "execute_result"
    }
   ],
   "source": [
    "df_genres.head(10)"
   ]
  },
  {
   "cell_type": "code",
   "execution_count": 51,
   "metadata": {},
   "outputs": [
    {
     "data": {
      "text/plain": [
       "(749, 7)"
      ]
     },
     "execution_count": 51,
     "metadata": {},
     "output_type": "execute_result"
    }
   ],
   "source": [
    "df_genres.shape"
   ]
  },
  {
   "cell_type": "markdown",
   "metadata": {},
   "source": [
    "The `df_genres` dataframe is now prepared for exploratory analysis."
   ]
  },
  {
   "cell_type": "markdown",
   "metadata": {},
   "source": [
    "<a id='eda'></a>\n",
    "## Exploratory Data Analysis\n",
    "\n",
    "### Q1: Cast Member Analysis\n",
    "\n",
    "#### Which Cast Members Have the Highest Total Film Gross?"
   ]
  },
  {
   "cell_type": "code",
   "execution_count": 52,
   "metadata": {},
   "outputs": [
    {
     "data": {
      "image/png": "[encoded data removed]",
      "text/plain": [
       "<Figure size 720x360 with 1 Axes>"
      ]
     },
     "metadata": {},
     "output_type": "display_data"
    }
   ],
   "source": [
    "df_cast.groupby('cast').revenue_adj.sum().sort_values(ascending=False).iloc[:10].plot(kind='bar', figsize=(10, 5));\n",
    "plt.xlabel('Cast Members')\n",
    "plt.ylabel('10\\'s of Billions $ USD')\n",
    "plt.ylim(0.6e10,1.5e10)\n",
    "plt.title('Top 10 Cast Members for Highest Total Film Gross')\n",
    "plt.show()"
   ]
  },
  {
   "cell_type": "markdown",
   "metadata": {},
   "source": [
    "The highest grossing film actor is Harrison Ford, followed by Tom Cruise and Tom Hanks. Other famous actors include the Harry Potter trio, Emma Watson, Daniel Radcliffe, and Rupert Grint. Bruce Willis rounds out the bottom of the list."
   ]
  },
  {
   "cell_type": "markdown",
   "metadata": {},
   "source": [
    "#### Which Cast Members Have the Lowest Total Film Gross?"
   ]
  },
  {
   "cell_type": "code",
   "execution_count": 53,
   "metadata": {},
   "outputs": [
    {
     "data": {
      "image/png": "[encoded data removed]",
      "text/plain": [
       "<Figure size 720x360 with 1 Axes>"
      ]
     },
     "metadata": {},
     "output_type": "display_data"
    }
   ],
   "source": [
    "df_cast.groupby('cast').revenue_adj.sum().sort_values(ascending=False).iloc[-10:].plot(kind='bar', figsize=(10, 5));\n",
    "plt.xlabel('Cast Members')\n",
    "plt.ylabel('$ USD')\n",
    "plt.ylim(0,15)\n",
    "plt.title('Bottom 10 Cast Members for Total Film Gross')\n",
    "plt.show()"
   ]
  },
  {
   "cell_type": "markdown",
   "metadata": {},
   "source": [
    "Shannen Doherty, of Little House on the Prairie, takes the lowest grossing place on the list. The second lowest spot goes to Jeremy London, of the film Mallrats."
   ]
  },
  {
   "cell_type": "markdown",
   "metadata": {},
   "source": [
    "#### Which Cast Members Have the Greatest Film Profit?"
   ]
  },
  {
   "cell_type": "code",
   "execution_count": 54,
   "metadata": {},
   "outputs": [
    {
     "data": {
      "image/png": "[encoded data removed]",
      "text/plain": [
       "<Figure size 720x360 with 1 Axes>"
      ]
     },
     "metadata": {},
     "output_type": "display_data"
    }
   ],
   "source": [
    "(df_cast.groupby('cast').revenue_adj.sum() - df_cast.groupby('cast').budget_adj.sum()).sort_values(ascending=False).iloc[:10].plot(kind='bar', figsize=(10, 5));\n",
    "plt.xlabel('Cast Members')\n",
    "plt.ylabel('10\\'s of Billions $ USD')\n",
    "plt.ylim(0.6e10,1.3e10)\n",
    "plt.title('Cast Members with the Greatest Total Film Profit')\n",
    "plt.show()"
   ]
  },
  {
   "cell_type": "markdown",
   "metadata": {},
   "source": [
    "The profit list shows some changes in comparison with the earlier chart that considered gross revenue only.\n",
    "\n",
    "The Star Wars trio, Harrison Ford, Carrie Fisher, and Mark Hamill are now all present. Bruce Willis drops off the list, replaced by Sean Connery. Johnny Depp also disappears from the list. "
   ]
  },
  {
   "cell_type": "markdown",
   "metadata": {},
   "source": [
    "#### Q2: What Cost per Film is Associated with the Highest Profit?"
   ]
  },
  {
   "cell_type": "markdown",
   "metadata": {},
   "source": [
    "The first calculation to perform is to find the film with the highest profit."
   ]
  },
  {
   "cell_type": "code",
   "execution_count": 55,
   "metadata": {},
   "outputs": [
    {
     "data": {
      "text/plain": [
       "325     2.750137e+09\n",
       "344     2.586237e+09\n",
       "1767    2.234714e+09\n",
       "3801    2.128036e+09\n",
       "3543    1.878643e+09\n",
       "dtype: float64"
      ]
     },
     "execution_count": 55,
     "metadata": {},
     "output_type": "execute_result"
    }
   ],
   "source": [
    "(df_fin_run.revenue_adj - df_fin_run.budget_adj).sort_values(ascending=False).iloc[:5]"
   ]
  },
  {
   "cell_type": "markdown",
   "metadata": {},
   "source": [
    "The film of index value `325` has the highest profit in this dataset."
   ]
  },
  {
   "cell_type": "code",
   "execution_count": 56,
   "metadata": {},
   "outputs": [
    {
     "data": {
      "text/plain": [
       "original_title      Star Wars\n",
       "runtime                   121\n",
       "budget_adj        3.95756e+07\n",
       "revenue_adj       2.78971e+09\n",
       "Name: 325, dtype: object"
      ]
     },
     "execution_count": 56,
     "metadata": {},
     "output_type": "execute_result"
    }
   ],
   "source": [
    "df_fin_run.iloc[325,:]"
   ]
  },
  {
   "cell_type": "markdown",
   "metadata": {},
   "source": [
    "Star Wars is the film with the highest profit.\n",
    "\n",
    "The cost of this film is `$39,575,600 USD`."
   ]
  },
  {
   "cell_type": "markdown",
   "metadata": {},
   "source": [
    "#### Q3: How Much Does a Film Cost Per Minute on Average?"
   ]
  },
  {
   "cell_type": "code",
   "execution_count": 57,
   "metadata": {},
   "outputs": [
    {
     "name": "stdout",
     "output_type": "stream",
     "text": [
      "Average cost per minute of film: USD $405053\n"
     ]
    }
   ],
   "source": [
    "print('Average cost per minute of film: USD ${}'.format(int(round(df_fin_run['budget_adj'].sum() / df_fin_run['runtime'].sum()))))"
   ]
  },
  {
   "cell_type": "markdown",
   "metadata": {},
   "source": [
    "#### Q4: Describe the Characteristics Associated with the Adventure Genre?"
   ]
  },
  {
   "cell_type": "markdown",
   "metadata": {},
   "source": [
    "For simplicity in reporting, create a `profit` column by subtracting the `budget_adj` column from the `revenue_adj` column."
   ]
  },
  {
   "cell_type": "code",
   "execution_count": 58,
   "metadata": {},
   "outputs": [],
   "source": [
    "df_genres['profit'] = df_genres['revenue_adj'] - df_genres['budget_adj']"
   ]
  },
  {
   "cell_type": "code",
   "execution_count": 59,
   "metadata": {},
   "outputs": [
    {
     "data": {
      "text/html": [
       "<div>\n",
       "<style scoped>\n",
       "    .dataframe tbody tr th:only-of-type {\n",
       "        vertical-align: middle;\n",
       "    }\n",
       "\n",
       "    .dataframe tbody tr th {\n",
       "        vertical-align: top;\n",
       "    }\n",
       "\n",
       "    .dataframe thead th {\n",
       "        text-align: right;\n",
       "    }\n",
       "</style>\n",
       "<table border=\"1\" class=\"dataframe\">\n",
       "  <thead>\n",
       "    <tr style=\"text-align: right;\">\n",
       "      <th></th>\n",
       "      <th>popularity</th>\n",
       "      <th>runtime</th>\n",
       "      <th>release_year</th>\n",
       "      <th>budget_adj</th>\n",
       "      <th>revenue_adj</th>\n",
       "      <th>profit</th>\n",
       "    </tr>\n",
       "  </thead>\n",
       "  <tbody>\n",
       "    <tr>\n",
       "      <th>count</th>\n",
       "      <td>749.000000</td>\n",
       "      <td>749.000000</td>\n",
       "      <td>749.000000</td>\n",
       "      <td>7.490000e+02</td>\n",
       "      <td>7.490000e+02</td>\n",
       "      <td>7.490000e+02</td>\n",
       "    </tr>\n",
       "    <tr>\n",
       "      <th>mean</th>\n",
       "      <td>1.867693</td>\n",
       "      <td>112.615487</td>\n",
       "      <td>2000.178905</td>\n",
       "      <td>8.125573e+07</td>\n",
       "      <td>2.714075e+08</td>\n",
       "      <td>1.901517e+08</td>\n",
       "    </tr>\n",
       "    <tr>\n",
       "      <th>std</th>\n",
       "      <td>2.537015</td>\n",
       "      <td>21.336408</td>\n",
       "      <td>12.183097</td>\n",
       "      <td>6.095203e+07</td>\n",
       "      <td>3.383062e+08</td>\n",
       "      <td>3.125942e+08</td>\n",
       "    </tr>\n",
       "    <tr>\n",
       "      <th>min</th>\n",
       "      <td>0.015727</td>\n",
       "      <td>42.000000</td>\n",
       "      <td>1960.000000</td>\n",
       "      <td>3.169887e+01</td>\n",
       "      <td>3.038360e+00</td>\n",
       "      <td>-4.139124e+08</td>\n",
       "    </tr>\n",
       "    <tr>\n",
       "      <th>25%</th>\n",
       "      <td>0.626782</td>\n",
       "      <td>97.000000</td>\n",
       "      <td>1993.000000</td>\n",
       "      <td>3.437812e+07</td>\n",
       "      <td>4.702760e+07</td>\n",
       "      <td>2.446863e+06</td>\n",
       "    </tr>\n",
       "    <tr>\n",
       "      <th>50%</th>\n",
       "      <td>1.172353</td>\n",
       "      <td>109.000000</td>\n",
       "      <td>2004.000000</td>\n",
       "      <td>6.675594e+07</td>\n",
       "      <td>1.445834e+08</td>\n",
       "      <td>7.032041e+07</td>\n",
       "    </tr>\n",
       "    <tr>\n",
       "      <th>75%</th>\n",
       "      <td>2.179727</td>\n",
       "      <td>126.000000</td>\n",
       "      <td>2009.000000</td>\n",
       "      <td>1.185353e+08</td>\n",
       "      <td>3.815299e+08</td>\n",
       "      <td>2.596231e+08</td>\n",
       "    </tr>\n",
       "    <tr>\n",
       "      <th>max</th>\n",
       "      <td>32.985763</td>\n",
       "      <td>216.000000</td>\n",
       "      <td>2015.000000</td>\n",
       "      <td>4.250000e+08</td>\n",
       "      <td>2.827124e+09</td>\n",
       "      <td>2.750137e+09</td>\n",
       "    </tr>\n",
       "  </tbody>\n",
       "</table>\n",
       "</div>"
      ],
      "text/plain": [
       "       popularity     runtime  release_year    budget_adj   revenue_adj  \\\n",
       "count  749.000000  749.000000    749.000000  7.490000e+02  7.490000e+02   \n",
       "mean     1.867693  112.615487   2000.178905  8.125573e+07  2.714075e+08   \n",
       "std      2.537015   21.336408     12.183097  6.095203e+07  3.383062e+08   \n",
       "min      0.015727   42.000000   1960.000000  3.169887e+01  3.038360e+00   \n",
       "25%      0.626782   97.000000   1993.000000  3.437812e+07  4.702760e+07   \n",
       "50%      1.172353  109.000000   2004.000000  6.675594e+07  1.445834e+08   \n",
       "75%      2.179727  126.000000   2009.000000  1.185353e+08  3.815299e+08   \n",
       "max     32.985763  216.000000   2015.000000  4.250000e+08  2.827124e+09   \n",
       "\n",
       "             profit  \n",
       "count  7.490000e+02  \n",
       "mean   1.901517e+08  \n",
       "std    3.125942e+08  \n",
       "min   -4.139124e+08  \n",
       "25%    2.446863e+06  \n",
       "50%    7.032041e+07  \n",
       "75%    2.596231e+08  \n",
       "max    2.750137e+09  "
      ]
     },
     "execution_count": 59,
     "metadata": {},
     "output_type": "execute_result"
    }
   ],
   "source": [
    "df_genres.describe()"
   ]
  },
  {
   "cell_type": "markdown",
   "metadata": {},
   "source": [
    "As provided in the response, Adventure films are generally not popular, with `75%` of the films receiving a low TMDB `popularity` score. The `max` popularity score, however, is highly popular. This film can be found using a `query()` command."
   ]
  },
  {
   "cell_type": "code",
   "execution_count": 60,
   "metadata": {},
   "outputs": [
    {
     "data": {
      "text/html": [
       "<div>\n",
       "<style scoped>\n",
       "    .dataframe tbody tr th:only-of-type {\n",
       "        vertical-align: middle;\n",
       "    }\n",
       "\n",
       "    .dataframe tbody tr th {\n",
       "        vertical-align: top;\n",
       "    }\n",
       "\n",
       "    .dataframe thead th {\n",
       "        text-align: right;\n",
       "    }\n",
       "</style>\n",
       "<table border=\"1\" class=\"dataframe\">\n",
       "  <thead>\n",
       "    <tr style=\"text-align: right;\">\n",
       "      <th></th>\n",
       "      <th>popularity</th>\n",
       "      <th>original_title</th>\n",
       "      <th>cast</th>\n",
       "      <th>runtime</th>\n",
       "      <th>release_year</th>\n",
       "      <th>budget_adj</th>\n",
       "      <th>revenue_adj</th>\n",
       "      <th>profit</th>\n",
       "    </tr>\n",
       "  </thead>\n",
       "  <tbody>\n",
       "    <tr>\n",
       "      <th>1</th>\n",
       "      <td>32.985763</td>\n",
       "      <td>Jurassic World</td>\n",
       "      <td>Chris Pratt|Bryce Dallas Howard|Irrfan Khan|Vi...</td>\n",
       "      <td>124</td>\n",
       "      <td>2015</td>\n",
       "      <td>1.379999e+08</td>\n",
       "      <td>1.392446e+09</td>\n",
       "      <td>1.254446e+09</td>\n",
       "    </tr>\n",
       "  </tbody>\n",
       "</table>\n",
       "</div>"
      ],
      "text/plain": [
       "   popularity  original_title  \\\n",
       "1   32.985763  Jurassic World   \n",
       "\n",
       "                                                cast  runtime  release_year  \\\n",
       "1  Chris Pratt|Bryce Dallas Howard|Irrfan Khan|Vi...      124          2015   \n",
       "\n",
       "     budget_adj   revenue_adj        profit  \n",
       "1  1.379999e+08  1.392446e+09  1.254446e+09  "
      ]
     },
     "execution_count": 60,
     "metadata": {},
     "output_type": "execute_result"
    }
   ],
   "source": [
    "df_genres.query('popularity >= 32')"
   ]
  },
  {
   "cell_type": "markdown",
   "metadata": {},
   "source": [
    "`Jurassic World` is the most popular Adventure film in the database.\n",
    "\n",
    "In terms of profitability, the majority of the Adventure films are profitable. From the `25%` percentile and upwards, profits are reported of at least `$2,446,863 USD`.\n",
    "\n",
    "Another characteristic to consider is the frequency of Adventure films over time, as well as the proportion Adventure films acquire of all films produced each year."
   ]
  },
  {
   "cell_type": "code",
   "execution_count": 61,
   "metadata": {},
   "outputs": [
    {
     "data": {
      "image/png": "[encoded data removed]",
      "text/plain": [
       "<Figure size 720x360 with 1 Axes>"
      ]
     },
     "metadata": {},
     "output_type": "display_data"
    }
   ],
   "source": [
    "df_genres.release_year.value_counts().sort_index().plot(kind='bar', figsize=(10,5));\n",
    "plt.xlabel('Year')\n",
    "plt.ylabel('No. of Adventure Films Released')\n",
    "plt.ylim(0, 40)\n",
    "plt.title('Frequency of Adventure Films Over Time')\n",
    "plt.show()"
   ]
  },
  {
   "cell_type": "markdown",
   "metadata": {},
   "source": [
    "The frequency of Adventure films is clearly increasing over time. However, this may be due to an increased number of films produced each year overall. To gain a clearer insight, the following graph shows the proportion of Adventure films out of all films."
   ]
  },
  {
   "cell_type": "code",
   "execution_count": 62,
   "metadata": {},
   "outputs": [
    {
     "data": {
      "image/png": "[encoded data removed]",
      "text/plain": [
       "<Figure size 720x360 with 1 Axes>"
      ]
     },
     "metadata": {},
     "output_type": "display_data"
    }
   ],
   "source": [
    "(df_genres.release_year.value_counts() / df_original.release_year.value_counts()).sort_index().plot(kind='bar', figsize=(10, 5));\n",
    "plt.xlabel('Year')\n",
    "plt.ylabel('Proportion')\n",
    "plt.ylim(0, 0.55)\n",
    "plt.title('Proportion Adventure Films Acquire Out of All Films Released Each Year')\n",
    "plt.show()"
   ]
  },
  {
   "cell_type": "markdown",
   "metadata": {},
   "source": [
    "There seems to be a slight decrease in Adventure films, proportionally speaking."
   ]
  },
  {
   "cell_type": "code",
   "execution_count": 63,
   "metadata": {},
   "outputs": [
    {
     "data": {
      "image/png": "[encoded data removed]",
      "text/plain": [
       "<Figure size 432x288 with 1 Axes>"
      ]
     },
     "metadata": {},
     "output_type": "display_data"
    }
   ],
   "source": [
    "df_genres_runtime_value_counts = df_genres['runtime'].value_counts().sort_index().to_frame(name='runtime_frequency')\n",
    "df_genres_runtime_value_counts['x'] = df_genres_runtime_value_counts.index\n",
    "plt.scatter(x=df_genres_runtime_value_counts['x'], y=df_genres_runtime_value_counts['runtime_frequency']);\n",
    "plt.title('Frequency of Runtime Length of Adventure Films')\n",
    "plt.xlabel('Runtime Length')\n",
    "plt.ylabel('Frequency of Runtime')\n",
    "plt.show()"
   ]
  },
  {
   "cell_type": "markdown",
   "metadata": {},
   "source": [
    "The Adventure film runtimes seem to cluster around two hours in length, with outliers as low as forty-five minutes and as high as four hours."
   ]
  },
  {
   "cell_type": "markdown",
   "metadata": {},
   "source": [
    "<a id='conclusions'></a>\n",
    "## Conclusions\n",
    "\n",
    "#### Project Limitations\n",
    "\n",
    "The project faces several limitations. Many rows in the dataset have missing revenue and budget values, and in this project a choice was made to drop all such rows. This greatly limits the information available for conducting accurate assessments. For example, the film `An American Tail` is a popular animated adventure film with `df_original` index value of `10479`. This film and several thousand others like it were excluded from the dataset due to their missing values, and this skews the project results.\n",
    "\n",
    "A different option to consider for future datasets with large numbers of missing values is to either input the median or mean value into missing data cells, or to use a package such as `missingpy` to rely on machine learning for inputting missing data. \n",
    "\n",
    "Another limitation is the age of the database, being already six years old at the time of this project. Recent films, such as the Marvel Avengers series, have set new records for film profitability. These films likely would create new results for many of the analysis questions.\n",
    "\n",
    "#### Analysis Question Summaries\n",
    "\n",
    "From Q1 analysis, the project discovered that `Harrison Ford` owns the top spot for both the highest gross film proceeds as well as for profit. `Shannen Doherty` owns the bottom spot for gross film revenue.\n",
    "\n",
    "In Q2, `Star Wars` has the highest profit of the database, with a cost of `$39,575,600 USD`.\n",
    "\n",
    "Q3 analysis showed that the average cost per minute of film is `$405053 USD`.\n",
    "\n",
    "Finally, in Q4, the project discovered several key characteristics of Adventure films. They tend to be unpopular, with the `75%` percentile and below reporting popularity scores of below `2.2`. However, they are generally profitable, with the `25%` percentile and above reporting profits of at least `$2,000,000 USD`.\n",
    "\n",
    "As shown in the above graphs, the frequency of Adventure films over time is generally increasing, but the proportion of adventure films out of all films released in any given year is slightly decreasing. \n",
    "\n",
    "Overall, the TMDB database proved useful for exploring capabilities of Jupyter Notebook and several of Anaconda's built-in features. "
   ]
  },
  {
   "cell_type": "code",
   "execution_count": null,
   "metadata": {},
   "outputs": [],
   "source": []
  }
 ],
 "metadata": {
  "kernelspec": {
   "display_name": "Python 3",
   "language": "python",
   "name": "python3"
  },
  "language_info": {
   "codemirror_mode": {
    "name": "ipython",
    "version": 3
   },
   "file_extension": ".py",
   "mimetype": "text/x-python",
   "name": "python",
   "nbconvert_exporter": "python",
   "pygments_lexer": "ipython3",
   "version": "3.8.3"
  }
 },
 "nbformat": 4,
 "nbformat_minor": 2
}
