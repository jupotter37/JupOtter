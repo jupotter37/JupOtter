{
 "cells": [
  {
   "cell_type": "code",
   "execution_count": 3,
   "metadata": {},
   "outputs": [
    {
     "name": "stdout",
     "output_type": "stream",
     "text": [
      "C:\\email\\2024-07-16/Portland 15 of 15 Alternative Fund - News Update.msg\n",
      "C:\\email\\2024-07-16/Portland Life Sciences Alternative Fund - News Update.msg\n"
     ]
    }
   ],
   "source": [
    "import win32com.client\n",
    "import datetime\n",
    "import os\n",
    "import re\n",
    "\n",
    "# # Connect with MS Outlook (Outlook must be open)\n",
    "outlook = win32com.client.Dispatch(\"Outlook.Application\").GetNamespace(\"MAPI\")\n",
    "\n",
    "# # Connect to the Inbox folder (6 corresponds to the Inbox folder)\n",
    "inbox = outlook.GetDefaultFolder(6)\n",
    "\n",
    "# Get today's date for filtering emails\n",
    "today_date = datetime.date.today()\n",
    "\n",
    "yesterday = datetime.date.today() - datetime.timedelta(days=1)\n",
    "\n",
    "# target_folder = output_dir / str(specific_date)\n",
    "# target_folder.mkdir(parents=True,exist_ok=True)\n",
    "\n",
    "# specific_date = datetime.date(2024, 1, 1)\n",
    "specific_date = today_date\n",
    "# Filter emails received today\n",
    "filtered_emails = [email for email in inbox.Items if email.ReceivedTime.date() == yesterday]\n",
    "\n",
    "for email in filtered_emails:\n",
    "    url = 'https://mailchi.mp/portlandic.com'\n",
    "    url_pattern = r\"https://mailchi.mp/portlandic.com\"\n",
    "    urls = re.findall(url_pattern, email.body)\n",
    "    if urls:\n",
    "        if \"[Test]\" in email.Subject:\n",
    "            print(f\"Skipping {email.Subject} as it's a test email.\")\n",
    "            continue\n",
    "\n",
    "        if \"FW\" in email.Subject:\n",
    "            print(f\"Skipping FW MESSAGES {email.Subject} as it's a forwarded email.\")\n",
    "            continue\n",
    "            \n",
    "        date_of_email = str(email.ReceivedTime).split(\" \")[0]\n",
    "        \n",
    "        specific_date = datetime.datetime.strptime(date_of_email, \"%Y-%m-%d\").date()\n",
    "        path = f'C:\\email\\\\{specific_date}'\n",
    "        # path = f'O:\\Sales\\Bulletins\\mailchimp bulletin\\{specific_date}'\n",
    "        try:\n",
    "            os.mkdir(path)\n",
    "            # print('Folder Created')\n",
    "        except:\n",
    "            # print('already Exists')\n",
    "            pass\n",
    "        # print(email)\n",
    "        modified_string = email.Subject\n",
    "        if ':' or '<' or '\"' or \"/\" or \"\\\\\" or \"|\" or \"?\" or \"*\" in email.subject:\n",
    "            modified_string = modified_string.replace(':', '-')\n",
    "        final_string = str(path) + f\"/{modified_string}.msg\"\n",
    "        print(final_string)\n",
    "\n",
    "        try:\n",
    "            pass\n",
    "            email.SaveAs(final_string)\n",
    "\n",
    "        except:\n",
    "            file_path = os.path.join(path, date_of_email)\n",
    "            # Create a new text file called \"example.txt\" and write some text into it\n",
    "            with open('file_path', 'a') as f:\n",
    "                f.write(f'not able to create file for the email : {email.Subject} \\n {email.body}')\n",
    "# Close the Outlook connection\n",
    "outlook = None\n"
   ]
  },
  {
   "cell_type": "code",
   "execution_count": null,
   "metadata": {},
   "outputs": [],
   "source": []
  }
 ],
 "metadata": {
  "kernelspec": {
   "display_name": ".venv",
   "language": "python",
   "name": "python3"
  },
  "language_info": {
   "codemirror_mode": {
    "name": "ipython",
    "version": 3
   },
   "file_extension": ".py",
   "mimetype": "text/x-python",
   "name": "python",
   "nbconvert_exporter": "python",
   "pygments_lexer": "ipython3",
   "version": "3.11.9"
  }
 },
 "nbformat": 4,
 "nbformat_minor": 2
}
