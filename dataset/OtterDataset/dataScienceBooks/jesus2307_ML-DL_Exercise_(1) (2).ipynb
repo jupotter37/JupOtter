{
  "nbformat": 4,
  "nbformat_minor": 0,
  "metadata": {
    "colab": {
      "provenance": []
    },
    "kernelspec": {
      "name": "python3",
      "display_name": "Python 3"
    },
    "language_info": {
      "name": "python"
    }
  },
  "cells": [
    {
      "cell_type": "markdown",
      "metadata": {
        "id": "view-in-github"
      },
      "source": [
        "<a href=\"https://colab.research.google.com/github/fpinell/mlsa/blob/main/notebooks/Exercise.ipynb\" target=\"_parent\"><img src=\"https://colab.research.google.com/assets/colab-badge.svg\" alt=\"Open In Colab\"/></a>"
      ]
    },
    {
      "cell_type": "markdown",
      "source": [
        "# Machine Learning for Software Analysis (MLSA)\n",
        "\n",
        "- ### University of Florence / IMT Lucca\n",
        "\n",
        "\n",
        "#### Fabio Pinelli\n",
        "<a href=\"mailto:fabio.pinelli@imtlucca.it\">fabio.pinelli@imtlucca.it</a><br/>\n",
        "IMT School for Advanced Studies Lucca<br/>\n",
        "2024/2025<br/>\n",
        "October, 17 2024"
      ],
      "metadata": {
        "id": "A9P-Bpl0bsNx"
      }
    },
    {
      "cell_type": "markdown",
      "source": [
        "# So far...\n",
        "\n",
        "... We saw an overview of different libraries and tools that can be used on Data Science projects:\n",
        " - Pandas\n",
        "  - data exploration\n",
        "  - data handling and modification\n",
        " - Matplotlib and seaborn\n",
        " - Scikit\n",
        "  + model\n",
        "    - unsupervised\n",
        "    - supervised\n",
        "  + pipeline\n",
        "  + metrics\n",
        "  \n"
      ],
      "metadata": {
        "id": "WZhxz8wqbyXi"
      }
    },
    {
      "cell_type": "markdown",
      "source": [
        "# Today...\n",
        "\n",
        "We will test/try what YOU have learned so far.\n",
        "\n",
        "- I'll provide you a dataset\n",
        "- You will try to provide a solution for the problem\n",
        "- If we are able, we will test your solutions, and we explore one."
      ],
      "metadata": {
        "id": "QvwAQxGAfOTl"
      }
    },
    {
      "cell_type": "markdown",
      "source": [
        "## The dataset\n",
        "\n",
        "The goal is to predict whether or not a passenger survived based on attributes such as their age, sex, passenger class, where they embarked and so on.\n",
        "\n",
        "You can find the dataset in the shared drive:\n",
        "[https://github.com/fpinell/mlsa/tree/main/data/titanic](https://github.com/fpinell/mlsa/tree/main/data/titanic)\n",
        "\n",
        "The dataset is already divided in training and test, the focus will be on the training.\n",
        "\n",
        "### Attributes\n",
        "\n",
        "- Survived: that's the target, 0 means the passenger did not survive, while 1 means he/she survived.\n",
        "- Pclass: passenger class.\n",
        "- Name, Sex, Age: self-explanatory\n",
        "- SibSp: how many siblings & spouses of the passenger aboard the Titanic.\n",
        "- Parch: how many children & parents of the passenger aboard the Titanic.\n",
        "- Ticket: ticket id\n",
        "- Fare: price paid (in pounds)\n",
        "- Cabin: passenger's cabin number\n",
        "- Embarked: where the passenger embarked the Titanic\n",
        "  + The Embarked attribute tells us where the passenger embarked:\n",
        "    * C=Cherbourg,\n",
        "    * Q=Queenstown,\n",
        "    * S=Southampton.\n",
        "\n",
        "### What you should do\n",
        "- You can work in team, with at most 2 members.\n",
        "- Read the dataset\n",
        "- Check the main \"peculiarieties\" of the columns\n",
        "- Build a ML pipeline (it's recommended to use the ```scikit Pipeline```)\n",
        "- Get the predictions\n",
        "- Save the predictions for the entire test set [your_team_name.csv]. You can put your name, it can be a fictious one.\n",
        "  - The format of the file:\n",
        "    - PassengerId, Prediction\n",
        "  - ``` python df_results[['PassengerId','Survived']].to_csv('/content/drive/fabio.csv',index=False) ```\n",
        "- Download the dataset and share it with me (if you want)\n",
        "\n",
        "- Then I can evaluate your results and keep updated your scores.\n",
        "\n",
        "\n",
        "### What I'll do\n",
        "  - Try to help you during the test\n",
        "  - Load your uploaded files and trying to evaluate your solution\n",
        "  - Explore a possible solution :-)  \n",
        "\n",
        "### Few tips\n",
        "\n",
        "- You are free to remove columns and rows\n",
        "- You are free to use any material available, don't copy existing solutions on internet, you need to test your skills\n",
        "- Small suggestion, don't use columns that might contain unique identifier for your model, e.g. PassengerId.\n",
        "- Be able to \"attach\" the PassengerID to your final predictions."
      ],
      "metadata": {
        "id": "6KT52H3xfrCJ"
      }
    },
    {
      "cell_type": "markdown",
      "source": [
        "## Cargar el Dataset"
      ],
      "metadata": {
        "id": "UTHzMTBa1EDa"
      }
    },
    {
      "cell_type": "code",
      "source": [
        "import pandas as pd\n",
        "\n",
        "# Cargar el conjunto de datos\n",
        "url = 'https://raw.githubusercontent.com/fpinell/mlsa/refs/heads/main/data/titanic/train_mlsa.csv'\n",
        "\n",
        "df = pd.read_csv(url)\n",
        "\n",
        "# Mostrar las primeras filas del conjunto de datos\n",
        "print(df.head())\n",
        "\n"
      ],
      "metadata": {
        "id": "mfIfGZ7vbwe1",
        "colab": {
          "base_uri": "https://localhost:8080/"
        },
        "outputId": "cb55debd-995b-43de-94bf-e5da216bd44b"
      },
      "execution_count": null,
      "outputs": [
        {
          "output_type": "stream",
          "name": "stdout",
          "text": [
            "   PassengerId  Survived  Pclass                            Name     Sex  \\\n",
            "0          104         0       3      Johansson, Mr. Gustaf Joel    male   \n",
            "1          350         0       3                Dimic, Mr. Jovan    male   \n",
            "2            8         0       3  Palsson, Master. Gosta Leonard    male   \n",
            "3          346         1       2   Brown, Miss. Amelia \"Mildred\"  female   \n",
            "4          653         0       3  Kalvik, Mr. Johannes Halvorsen    male   \n",
            "\n",
            "    Age  SibSp  Parch  Ticket     Fare Cabin Embarked  \n",
            "0  33.0      0      0    7540   8.6542   NaN        S  \n",
            "1  42.0      0      0  315088   8.6625   NaN        S  \n",
            "2   2.0      3      1  349909  21.0750   NaN        S  \n",
            "3  24.0      0      0  248733  13.0000   F33        S  \n",
            "4  21.0      0      0    8475   8.4333   NaN        S  \n"
          ]
        }
      ]
    },
    {
      "cell_type": "markdown",
      "source": [
        "## Preprocesamiento de los Datos"
      ],
      "metadata": {
        "id": "JryKMWgB1XO9"
      }
    },
    {
      "cell_type": "code",
      "source": [
        "#----------Mising Values\n",
        "\n",
        "# Comprobar los valores faltantes\n",
        "missing_values = df.isnull().sum()\n",
        "print(missing_values[missing_values > 0])\n",
        "\n",
        "# Opcional: calcular el porcentaje de valores faltantes\n",
        "missing_percentage = (missing_values / len(df)) * 100\n",
        "print(missing_percentage[missing_percentage > 0])\n",
        "\n",
        "#----------Duplicates\n",
        "# Comprobar si hay duplicados\n",
        "duplicates = df.duplicated().sum()\n",
        "print(f'Duplicados: {duplicates}')\n",
        "\n",
        "\n",
        "#--------Categorical Columns\n",
        "# Identificar columnas categóricas\n",
        "categorical_cols = df.select_dtypes(include=['object']).columns\n",
        "print(categorical_cols)\n",
        "\n",
        "# Revisar la distribución de las columnas categóricas\n",
        "for col in categorical_cols:\n",
        "    print(f'\\nDistribución de {col}:')\n",
        "    print(df[col].value_counts())\n",
        "\n",
        "\n",
        "#---------Data Distributions\n",
        "import matplotlib.pyplot as plt\n",
        "import seaborn as sns\n",
        "\n",
        "# Visualizar la distribución de 'Age' y 'Fare'\n",
        "plt.figure(figsize=(12, 5))\n",
        "\n",
        "plt.subplot(1, 2, 1)\n",
        "sns.histplot(df['Age'].dropna(), bins=30, kde=True)\n",
        "plt.title('Distribución de Edad')\n",
        "\n",
        "plt.subplot(1, 2, 2)\n",
        "sns.histplot(df['Fare'], bins=30, kde=True)\n",
        "plt.title('Distribución de Tarifa')\n",
        "\n",
        "plt.show()\n",
        "\n",
        "#-----Feature Engineering\n",
        "# Crear una nueva columna categórica para la edad\n",
        "df['Age_Category'] = pd.cut(df['Age'], bins=[0, 12, 18, 35, 60, 100], labels=['Infante', 'Adolescente', 'Adulto Joven', 'Adulto', 'Anciano'])\n",
        "\n",
        "# Ver la nueva columna\n",
        "print(df['Age_Category'].value_counts())\n",
        "\n"
      ],
      "metadata": {
        "colab": {
          "base_uri": "https://localhost:8080/",
          "height": 1000
        },
        "id": "IyGveVe71hQR",
        "outputId": "b175432f-023a-4c61-c8d1-8ac2b452335b"
      },
      "execution_count": null,
      "outputs": [
        {
          "output_type": "stream",
          "name": "stdout",
          "text": [
            "Age         157\n",
            "Cabin       612\n",
            "Embarked      2\n",
            "dtype: int64\n",
            "Age         19.848293\n",
            "Cabin       77.370417\n",
            "Embarked     0.252845\n",
            "dtype: float64\n",
            "Duplicados: 0\n",
            "Index(['Name', 'Sex', 'Ticket', 'Cabin', 'Embarked'], dtype='object')\n",
            "\n",
            "Distribución de Name:\n",
            "Name\n",
            "Johansson, Mr. Gustaf Joel                      1\n",
            "Doling, Mrs. John T (Ada Julia Bone)            1\n",
            "Hendekovic, Mr. Ignjac                          1\n",
            "Goldenberg, Mrs. Samuel L (Edwiga Grabowska)    1\n",
            "Risien, Mr. Samuel Beard                        1\n",
            "                                               ..\n",
            "Peter, Miss. Anna                               1\n",
            "Davies, Master. John Morgan Jr                  1\n",
            "Morley, Mr. William                             1\n",
            "Drazenoic, Mr. Jozef                            1\n",
            "Keane, Miss. Nora A                             1\n",
            "Name: count, Length: 791, dtype: int64\n",
            "\n",
            "Distribución de Sex:\n",
            "Sex\n",
            "male      510\n",
            "female    281\n",
            "Name: count, dtype: int64\n",
            "\n",
            "Distribución de Ticket:\n",
            "Ticket\n",
            "1601        6\n",
            "CA. 2343    6\n",
            "3101295     6\n",
            "347082      6\n",
            "CA 2144     6\n",
            "           ..\n",
            "349207      1\n",
            "693         1\n",
            "7267        1\n",
            "239854      1\n",
            "226593      1\n",
            "Name: count, Length: 618, dtype: int64\n",
            "\n",
            "Distribución de Cabin:\n",
            "Cabin\n",
            "B96 B98        4\n",
            "G6             4\n",
            "F33            3\n",
            "C23 C25 C27    3\n",
            "F2             3\n",
            "              ..\n",
            "A5             1\n",
            "C52            1\n",
            "B78            1\n",
            "D49            1\n",
            "E63            1\n",
            "Name: count, Length: 136, dtype: int64\n",
            "\n",
            "Distribución de Embarked:\n",
            "Embarked\n",
            "S    574\n",
            "C    152\n",
            "Q     63\n",
            "Name: count, dtype: int64\n"
          ]
        },
        {
          "output_type": "display_data",
          "data": {
            "text/plain": [
              "<Figure size 1200x500 with 2 Axes>"
            ],
            "image/png": "[encoded data removed]"
          },
          "metadata": {}
        },
        {
          "output_type": "stream",
          "name": "stdout",
          "text": [
            "Age_Category\n",
            "Adulto Joven    315\n",
            "Adulto          177\n",
            "Infante          63\n",
            "Adolescente      60\n",
            "Anciano          19\n",
            "Name: count, dtype: int64\n"
          ]
        }
      ]
    },
    {
      "cell_type": "markdown",
      "source": [
        "## Construcción de la Pipeline de Machine Learning"
      ],
      "metadata": {
        "id": "9u1WF-V219rT"
      }
    },
    {
      "cell_type": "code",
      "source": [
        "# Importar bibliotecas\n",
        "import pandas as pd\n",
        "from sklearn.model_selection import train_test_split\n",
        "from sklearn.ensemble import RandomForestClassifier\n",
        "from sklearn.pipeline import Pipeline\n",
        "from sklearn.preprocessing import OneHotEncoder\n",
        "from sklearn.impute import SimpleImputer  # Importar desde sklearn.impute\n",
        "from sklearn.compose import ColumnTransformer\n",
        "\n",
        "# Separar características y variable objetivo\n",
        "X = df.drop(['Survived', 'PassengerId', 'Name', 'Ticket', 'Cabin'], axis=1)\n",
        "y = df['Survived']\n",
        "\n",
        "# Dividir en conjunto de entrenamiento y prueba\n",
        "X_train, X_test, y_train, y_test = train_test_split(X, y, test_size=0.2, random_state=42)\n",
        "\n",
        "# Definir las columnas categóricas y numéricas\n",
        "categorical_features = ['Sex', 'Embarked']\n",
        "numerical_features = ['Age', 'SibSp', 'Parch', 'Fare', 'Pclass']\n",
        "\n",
        "# Crear el preprocesador\n",
        "preprocessor = ColumnTransformer(\n",
        "    transformers=[\n",
        "        ('num', SimpleImputer(strategy='mean'), numerical_features),\n",
        "        ('cat', OneHotEncoder(), categorical_features)\n",
        "    ])\n",
        "\n",
        "# Crear el pipeline\n",
        "pipeline = Pipeline(steps=[('preprocessor', preprocessor),\n",
        "                             ('classifier', RandomForestClassifier(random_state=42))])\n",
        "\n",
        "# Entrenar el modelo\n",
        "pipeline.fit(X_train, y_train)\n",
        "\n",
        "# Realizar predicciones\n",
        "predictions = pipeline.predict(X_test)\n",
        "\n",
        "# Mostrar algunas predicciones\n",
        "print(predictions)\n"
      ],
      "metadata": {
        "colab": {
          "base_uri": "https://localhost:8080/"
        },
        "id": "yFwKSNgJ2ELG",
        "outputId": "2edc353b-54bc-49ae-c335-18d2da6336b8"
      },
      "execution_count": null,
      "outputs": [
        {
          "output_type": "stream",
          "name": "stdout",
          "text": [
            "[0 1 0 0 0 1 0 0 0 1 0 0 1 0 1 1 1 1 0 0 0 0 0 1 1 0 0 0 1 0 0 0 1 0 1 0 0\n",
            " 1 0 1 1 0 1 0 0 1 0 0 0 1 0 1 0 0 0 1 1 0 0 1 0 1 0 0 0 1 0 0 1 1 0 1 0 0\n",
            " 0 1 1 0 1 0 0 0 0 0 0 1 0 0 0 0 0 0 1 0 1 0 0 1 1 1 0 0 0 0 0 0 0 0 1 0 0\n",
            " 1 0 1 0 1 0 0 0 1 0 1 0 1 0 1 0 1 0 1 1 0 0 0 1 1 0 1 1 0 0 1 0 1 0 0 0 0\n",
            " 0 0 0 1 0 1 0 1 1 1 0]\n"
          ]
        }
      ]
    },
    {
      "cell_type": "markdown",
      "source": [
        "## Predicciones en el Conjunto de Prueba"
      ],
      "metadata": {
        "id": "R3-MSY6i2Hn5"
      }
    },
    {
      "cell_type": "code",
      "source": [
        "# Realizar predicciones\n",
        "predictions = pipeline.predict(X_test)\n",
        "\n",
        "# Crear DataFrame con los resultados\n",
        "results = pd.DataFrame({\n",
        "    'PassengerId': X_test.index,\n",
        "    'Survived': predictions\n",
        "})\n",
        "\n",
        "# Guardar los resultados en CSV\n",
        "results.to_csv('titanic_predictions.csv', index=False)\n"
      ],
      "metadata": {
        "id": "lfS8Dzh1HAPB"
      },
      "execution_count": null,
      "outputs": []
    }
  ]
}