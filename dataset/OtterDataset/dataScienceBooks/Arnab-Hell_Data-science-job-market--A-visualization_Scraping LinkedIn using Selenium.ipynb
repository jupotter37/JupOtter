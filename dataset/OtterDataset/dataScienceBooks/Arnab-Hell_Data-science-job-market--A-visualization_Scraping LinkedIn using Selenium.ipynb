{
 "cells": [
  {
   "cell_type": "code",
   "execution_count": 1,
   "id": "a73aa711",
   "metadata": {},
   "outputs": [],
   "source": [
    "import os, sys\n",
    "import time\n",
    "import requests\n",
    "import pandas as pd"
   ]
  },
  {
   "cell_type": "code",
   "execution_count": 2,
   "id": "e283dd92",
   "metadata": {},
   "outputs": [
    {
     "name": "stdout",
     "output_type": "stream",
     "text": [
      "200\n"
     ]
    }
   ],
   "source": [
    "url= \"https://www.linkedin.com/jobs/search/?currentJobId=3563269974&geoId=92000000&keywords=data%20scientist&location=Worldwide&refresh=true\"\n",
    "user_agent = {'User-agent': 'Mozilla/5.0 (Windows NT 10.0; Win64; x64) AppleWebKit/537.36 (KHTML, like Gecko) Chrome/83.0.4103.97 Safari/537.36'}\n",
    "source = requests.get(url, headers=user_agent)\n",
    "print(source.status_code)"
   ]
  },
  {
   "cell_type": "code",
   "execution_count": 3,
   "id": "61bb2d07",
   "metadata": {},
   "outputs": [],
   "source": [
    "from selenium import webdriver\n",
    "from selenium.webdriver.common.by import By\n",
    "from webdriver_manager.chrome import ChromeDriverManager"
   ]
  },
  {
   "cell_type": "code",
   "execution_count": 4,
   "id": "9a3cc495",
   "metadata": {},
   "outputs": [],
   "source": [
    "page_url = \"https://www.linkedin.com/jobs/search?keywords=Data%20Scientist&location=India&geoId=102713980&trk=public_jobs_jobs-search-bar_search-submit&position=1&pageNum=0\"\n",
    "driver = webdriver.Chrome()\n",
    "driver.get(page_url)"
   ]
  },
  {
   "cell_type": "code",
   "execution_count": 5,
   "id": "bc3e80d6",
   "metadata": {},
   "outputs": [],
   "source": [
    "time.sleep(2)  # Allow 2 seconds for the web page to open\n",
    "scroll_pause_time = 3 # You can set your own pause time. My laptop is a bit slow so I use 1 sec\n",
    "screen_height = driver.execute_script(\"return window.screen.height;\")   # get the screen height of the web\n",
    "i = 1"
   ]
  },
  {
   "cell_type": "code",
   "execution_count": 24,
   "id": "5c633687",
   "metadata": {},
   "outputs": [],
   "source": [
    "while True:\n",
    "    # scroll one screen height each time\n",
    "    driver.execute_script(\"window.scrollTo(0, {screen_height}*{i});\".format(screen_height=screen_height, i=i))  \n",
    "    i += 1\n",
    "    time.sleep(scroll_pause_time)\n",
    "    # update scroll height each time after scrolled, as the scroll height can change after we scrolled the page\n",
    "    scroll_height = driver.execute_script(\"return document.body.scrollHeight;\")\n",
    "    button = driver.find_elements(By.XPATH, '//button')\n",
    "    #driver.execute_script(\"arguments[0].click();\", button[28])\n",
    "    j=0\n",
    "    for j in range(len(button)):\n",
    "        if button[j].text==\"See more jobs\":\n",
    "            button[j].click()\n",
    "            time.sleep(10)\n",
    "    # Break the loop when the height we need to scroll to is larger than the total scroll height\n",
    "    if (screen_height) * i > scroll_height:\n",
    "        break"
   ]
  },
  {
   "cell_type": "code",
   "execution_count": 25,
   "id": "888fee8a",
   "metadata": {},
   "outputs": [],
   "source": [
    "title = driver.find_elements(By.CLASS_NAME, 'base-search-card__title')\n",
    "company=driver.find_elements(By.CLASS_NAME, 'base-search-card__subtitle')\n",
    "location=driver.find_elements(By.CLASS_NAME, 'job-search-card__location')"
   ]
  },
  {
   "cell_type": "code",
   "execution_count": 26,
   "id": "995d4c6e",
   "metadata": {},
   "outputs": [
    {
     "data": {
      "text/plain": [
       "999"
      ]
     },
     "execution_count": 26,
     "metadata": {},
     "output_type": "execute_result"
    }
   ],
   "source": [
    "len(company)"
   ]
  },
  {
   "cell_type": "code",
   "execution_count": 31,
   "id": "8a5b8a4b",
   "metadata": {},
   "outputs": [],
   "source": [
    "title_list=[]\n",
    "company_list=[]\n",
    "location_list=[]\n",
    "for i in range(999):\n",
    "    title_list.append(title[i].text)\n",
    "    company_list.append(company[i].text)\n",
    "    location_list.append(location[i].text)"
   ]
  },
  {
   "cell_type": "code",
   "execution_count": 34,
   "id": "b17cd8d0",
   "metadata": {},
   "outputs": [
    {
     "data": {
      "text/plain": [
       "'Data Scientist - L2'"
      ]
     },
     "execution_count": 34,
     "metadata": {},
     "output_type": "execute_result"
    }
   ],
   "source": [
    "title_list[0]"
   ]
  },
  {
   "cell_type": "code",
   "execution_count": 32,
   "id": "5ac2e8d2",
   "metadata": {},
   "outputs": [
    {
     "name": "stderr",
     "output_type": "stream",
     "text": [
      "C:\\Users\\ASUS\\AppData\\Local\\Temp\\ipykernel_90892\\247677630.py:4: FutureWarning: The frame.append method is deprecated and will be removed from pandas in a future version. Use pandas.concat instead.\n",
      "  df_final=df_final.append(df)\n"
     ]
    }
   ],
   "source": [
    "df_final=pd.DataFrame()\n",
    "d={'job title': title_list, 'company': company_list, 'location': location_list}\n",
    "df=pd.DataFrame(d)\n",
    "df_final=df_final.append(df)\n",
    "df_final.reset_index(inplace = True)"
   ]
  },
  {
   "cell_type": "code",
   "execution_count": 35,
   "id": "a025087a",
   "metadata": {},
   "outputs": [
    {
     "data": {
      "text/html": [
       "<div>\n",
       "<style scoped>\n",
       "    .dataframe tbody tr th:only-of-type {\n",
       "        vertical-align: middle;\n",
       "    }\n",
       "\n",
       "    .dataframe tbody tr th {\n",
       "        vertical-align: top;\n",
       "    }\n",
       "\n",
       "    .dataframe thead th {\n",
       "        text-align: right;\n",
       "    }\n",
       "</style>\n",
       "<table border=\"1\" class=\"dataframe\">\n",
       "  <thead>\n",
       "    <tr style=\"text-align: right;\">\n",
       "      <th></th>\n",
       "      <th>index</th>\n",
       "      <th>job title</th>\n",
       "      <th>company</th>\n",
       "      <th>location</th>\n",
       "    </tr>\n",
       "  </thead>\n",
       "  <tbody>\n",
       "    <tr>\n",
       "      <th>0</th>\n",
       "      <td>0</td>\n",
       "      <td>Data Scientist - L2</td>\n",
       "      <td>Zeta</td>\n",
       "      <td>Bengaluru, Karnataka, India</td>\n",
       "    </tr>\n",
       "    <tr>\n",
       "      <th>1</th>\n",
       "      <td>1</td>\n",
       "      <td>Data Science work from home job/internship at ...</td>\n",
       "      <td>WN Infotech</td>\n",
       "      <td>India</td>\n",
       "    </tr>\n",
       "    <tr>\n",
       "      <th>2</th>\n",
       "      <td>2</td>\n",
       "      <td>Stanowisko ds. konta ubezpieczonego 44/2023/UB...</td>\n",
       "      <td>ZUS</td>\n",
       "      <td>West Bunghmun, Mizoram, India</td>\n",
       "    </tr>\n",
       "    <tr>\n",
       "      <th>3</th>\n",
       "      <td>3</td>\n",
       "      <td>Data Scientist</td>\n",
       "      <td>GeoIQ</td>\n",
       "      <td>Bengaluru, Karnataka, India</td>\n",
       "    </tr>\n",
       "    <tr>\n",
       "      <th>4</th>\n",
       "      <td>4</td>\n",
       "      <td>Data Science work from home job/internship at ...</td>\n",
       "      <td>Blackcoffer</td>\n",
       "      <td>India</td>\n",
       "    </tr>\n",
       "  </tbody>\n",
       "</table>\n",
       "</div>"
      ],
      "text/plain": [
       "   index                                          job title      company  \\\n",
       "0      0                                Data Scientist - L2         Zeta   \n",
       "1      1  Data Science work from home job/internship at ...  WN Infotech   \n",
       "2      2  Stanowisko ds. konta ubezpieczonego 44/2023/UB...          ZUS   \n",
       "3      3                                     Data Scientist        GeoIQ   \n",
       "4      4  Data Science work from home job/internship at ...  Blackcoffer   \n",
       "\n",
       "                        location  \n",
       "0    Bengaluru, Karnataka, India  \n",
       "1                          India  \n",
       "2  West Bunghmun, Mizoram, India  \n",
       "3    Bengaluru, Karnataka, India  \n",
       "4                          India  "
      ]
     },
     "execution_count": 35,
     "metadata": {},
     "output_type": "execute_result"
    }
   ],
   "source": [
    "df_final.head()"
   ]
  },
  {
   "cell_type": "code",
   "execution_count": 36,
   "id": "d905b8f5",
   "metadata": {},
   "outputs": [],
   "source": [
    "df_final.drop(['index'], axis=1, inplace=True)"
   ]
  },
  {
   "cell_type": "code",
   "execution_count": 37,
   "id": "1971375b",
   "metadata": {},
   "outputs": [
    {
     "data": {
      "text/html": [
       "<div>\n",
       "<style scoped>\n",
       "    .dataframe tbody tr th:only-of-type {\n",
       "        vertical-align: middle;\n",
       "    }\n",
       "\n",
       "    .dataframe tbody tr th {\n",
       "        vertical-align: top;\n",
       "    }\n",
       "\n",
       "    .dataframe thead th {\n",
       "        text-align: right;\n",
       "    }\n",
       "</style>\n",
       "<table border=\"1\" class=\"dataframe\">\n",
       "  <thead>\n",
       "    <tr style=\"text-align: right;\">\n",
       "      <th></th>\n",
       "      <th>job title</th>\n",
       "      <th>company</th>\n",
       "      <th>location</th>\n",
       "    </tr>\n",
       "  </thead>\n",
       "  <tbody>\n",
       "    <tr>\n",
       "      <th>0</th>\n",
       "      <td>Data Scientist - L2</td>\n",
       "      <td>Zeta</td>\n",
       "      <td>Bengaluru, Karnataka, India</td>\n",
       "    </tr>\n",
       "    <tr>\n",
       "      <th>1</th>\n",
       "      <td>Data Science work from home job/internship at ...</td>\n",
       "      <td>WN Infotech</td>\n",
       "      <td>India</td>\n",
       "    </tr>\n",
       "    <tr>\n",
       "      <th>2</th>\n",
       "      <td>Stanowisko ds. konta ubezpieczonego 44/2023/UB...</td>\n",
       "      <td>ZUS</td>\n",
       "      <td>West Bunghmun, Mizoram, India</td>\n",
       "    </tr>\n",
       "    <tr>\n",
       "      <th>3</th>\n",
       "      <td>Data Scientist</td>\n",
       "      <td>GeoIQ</td>\n",
       "      <td>Bengaluru, Karnataka, India</td>\n",
       "    </tr>\n",
       "    <tr>\n",
       "      <th>4</th>\n",
       "      <td>Data Science work from home job/internship at ...</td>\n",
       "      <td>Blackcoffer</td>\n",
       "      <td>India</td>\n",
       "    </tr>\n",
       "  </tbody>\n",
       "</table>\n",
       "</div>"
      ],
      "text/plain": [
       "                                           job title      company  \\\n",
       "0                                Data Scientist - L2         Zeta   \n",
       "1  Data Science work from home job/internship at ...  WN Infotech   \n",
       "2  Stanowisko ds. konta ubezpieczonego 44/2023/UB...          ZUS   \n",
       "3                                     Data Scientist        GeoIQ   \n",
       "4  Data Science work from home job/internship at ...  Blackcoffer   \n",
       "\n",
       "                        location  \n",
       "0    Bengaluru, Karnataka, India  \n",
       "1                          India  \n",
       "2  West Bunghmun, Mizoram, India  \n",
       "3    Bengaluru, Karnataka, India  \n",
       "4                          India  "
      ]
     },
     "execution_count": 37,
     "metadata": {},
     "output_type": "execute_result"
    }
   ],
   "source": [
    "df_final.head()"
   ]
  },
  {
   "cell_type": "code",
   "execution_count": 39,
   "id": "3623c7c6",
   "metadata": {},
   "outputs": [
    {
     "data": {
      "text/plain": [
       "(999, 3)"
      ]
     },
     "execution_count": 39,
     "metadata": {},
     "output_type": "execute_result"
    }
   ],
   "source": [
    "df_final.shape"
   ]
  },
  {
   "cell_type": "code",
   "execution_count": 40,
   "id": "dd1a96e8",
   "metadata": {},
   "outputs": [
    {
     "data": {
      "text/plain": [
       "job title    0\n",
       "company      0\n",
       "location     0\n",
       "dtype: int64"
      ]
     },
     "execution_count": 40,
     "metadata": {},
     "output_type": "execute_result"
    }
   ],
   "source": [
    "df_final.isnull().sum()"
   ]
  },
  {
   "cell_type": "code",
   "execution_count": 42,
   "id": "15755400",
   "metadata": {},
   "outputs": [],
   "source": [
    "df_final.to_csv('DataScience jobs in India.csv')"
   ]
  }
 ],
 "metadata": {
  "kernelspec": {
   "display_name": "Python 3 (ipykernel)",
   "language": "python",
   "name": "python3"
  },
  "language_info": {
   "codemirror_mode": {
    "name": "ipython",
    "version": 3
   },
   "file_extension": ".py",
   "mimetype": "text/x-python",
   "name": "python",
   "nbconvert_exporter": "python",
   "pygments_lexer": "ipython3",
   "version": "3.10.9"
  }
 },
 "nbformat": 4,
 "nbformat_minor": 5
}
