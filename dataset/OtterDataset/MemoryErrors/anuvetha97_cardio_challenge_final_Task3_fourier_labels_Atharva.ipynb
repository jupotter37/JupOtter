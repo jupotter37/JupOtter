{
  "cells": [
    {
      "cell_type": "code",
      "execution_count": null,
      "metadata": {
        "id": "kZa2emWbCqZq"
      },
      "outputs": [],
      "source": [
        "import glob, re, os\n",
        "import numpy as np\n",
        "import matplotlib.pyplot as plt\n",
        "from typing import List"
      ]
    },
    {
      "cell_type": "code",
      "execution_count": null,
      "metadata": {
        "id": "vejuTkeTCqZr"
      },
      "outputs": [],
      "source": [
        "%run cardiac_ml_tools.py"
      ]
    },
    {
      "cell_type": "code",
      "execution_count": null,
      "metadata": {
        "id": "iKuHuW4kCqZr",
        "outputId": "99690bcd-de0c-4af7-ebf9-a045ad6813b3"
      },
      "outputs": [
        {
          "name": "stdout",
          "output_type": "stream",
          "text": [
            "Number of file pairs: 16117\n",
            "Example of file pair:\n",
            "intracardiac_dataset/data_hearts_dd_0p2/pECGData_hearts_dd_0p2_volunteer.v10_pattern.0.npy\n",
            "intracardiac_dataset/data_hearts_dd_0p2/VmData_hearts_dd_0p2_volunteer.v10_pattern.0.npy\n"
          ]
        }
      ],
      "source": [
        "data_dirs = []\n",
        "regex = r'data_hearts_dd_0p2*'\n",
        "DIR='intracardiac_dataset/' # This should be the path to the intracardiac_dataset, it can be downloaded using data_science_challenge_2023/download_intracardiac_dataset.sh\n",
        "for x in os.listdir(DIR):\n",
        "    if re.match(regex, x):\n",
        "        data_dirs.append(DIR + x)\n",
        "file_pairs = read_data_dirs(data_dirs)\n",
        "print('Number of file pairs: {}'.format(len(file_pairs)))\n",
        "# example of file pair\n",
        "print(\"Example of file pair:\")\n",
        "print(\"{}\\n{}\".format(file_pairs[0][0], file_pairs[0][1]))\n"
      ]
    },
    {
      "cell_type": "code",
      "execution_count": null,
      "metadata": {
        "id": "EzKcM5aMCqZs"
      },
      "outputs": [],
      "source": [
        "import pandas as pd"
      ]
    },
    {
      "cell_type": "markdown",
      "metadata": {
        "id": "8IAhR_q3CqZs"
      },
      "source": [
        "I abondoned trying to split the data into dataframes: dataframes are too slow"
      ]
    },
    {
      "cell_type": "code",
      "execution_count": null,
      "metadata": {
        "id": "HdaVeTB5CqZs",
        "outputId": "12976994-0fe5-4fec-ff23-2ccea9c1d3ac"
      },
      "outputs": [
        {
          "name": "stderr",
          "output_type": "stream",
          "text": [
            "/tmp/job.2040380.hpc/ipykernel_3453958/671640152.py:34: ComplexWarning: Casting complex values to real discards the imaginary part\n",
            "  ActTime_np[i] = ActTime_label.reshape(-1, 1).T\n"
          ]
        }
      ],
      "source": [
        "#convert the entire file-pairs of lead-activation data to numpy array\n",
        "def normalize_data(data):\n",
        "  # Max-Min Normalization\n",
        "  data = (data - np.min(data)) / (np.max(data) - np.min(data))\n",
        "  return data\n",
        "n = len(file_pairs)\n",
        "\n",
        "pECG_np = np.zeros((n, 12, 500))\n",
        "ActTime_np = np.zeros((n, 75))\n",
        "for i in range(n):\n",
        "  pECGData = np.load(file_pairs[i][0])\n",
        "  pECGData = get_standard_leads(pECGData)\n",
        "  pECGData = pECGData.T\n",
        "  #normalise the data\n",
        "  for j in range(12):\n",
        "    pECGData[j] = normalize_data(pECGData[j])\n",
        "\n",
        "  pECGData = np.asarray(pECGData)\n",
        "  pECG_np[i] = pECGData\n",
        "  VmData = np.load(file_pairs[i][1])\n",
        "  ActTime = get_activation_time(VmData)\n",
        "\n",
        "  actTime_signal = ActTime.reshape(-1)\n",
        "\n",
        "  #compute fhat, PSD\n",
        "  n = len(actTime_signal)\n",
        "  f_hat = np.fft.fft(actTime_signal, n)\n",
        "  PSD = f_hat * np.conj(f_hat)/n\n",
        "\n",
        "  indices = PSD > 250\n",
        "  f_hat = f_hat * indices\n",
        "  ActTime_label = np.fft.ifft(f_hat)\n",
        "\n",
        "  ActTime_np[i] = ActTime_label.reshape(-1, 1).T\n",
        "  #call fft here\n",
        "\n",
        "\n",
        "pECG_np = pECG_np.reshape(len(pECG_np), -1)\n",
        "ActTime_np = ActTime_np.reshape(len(ActTime_np), -1)"
      ]
    },
    {
      "cell_type": "code",
      "execution_count": null,
      "metadata": {
        "id": "7trRBiLACqZt",
        "outputId": "8fa0cdc4-323c-4d5b-8358-55672bd24038"
      },
      "outputs": [
        {
          "data": {
            "text/plain": [
              "(16117, 6000)"
            ]
          },
          "execution_count": 6,
          "metadata": {},
          "output_type": "execute_result"
        }
      ],
      "source": [
        "pECG_np.shape"
      ]
    },
    {
      "cell_type": "code",
      "execution_count": null,
      "metadata": {
        "id": "jfGw9UNDCqZt",
        "outputId": "506bb914-8f57-4da4-a72b-a03e08a7597b"
      },
      "outputs": [
        {
          "data": {
            "text/plain": [
              "(16117, 75)"
            ]
          },
          "execution_count": 7,
          "metadata": {},
          "output_type": "execute_result"
        }
      ],
      "source": [
        "ActTime_np.shape"
      ]
    },
    {
      "cell_type": "markdown",
      "metadata": {
        "id": "3lxg1tZECqZt"
      },
      "source": [
        "Now that we havge loaded the input data and label data as numpy arrays, we will segment it into train-validation-test split"
      ]
    },
    {
      "cell_type": "code",
      "execution_count": null,
      "metadata": {
        "id": "Jxxa_aIeCqZt"
      },
      "outputs": [],
      "source": [
        "import torch\n",
        "import torch.nn as nn\n",
        "import torch.nn.functional as F\n",
        "import torch.optim as optim\n",
        "from sklearn.model_selection import train_test_split\n",
        "from sklearn.metrics import confusion_matrix\n",
        "import random"
      ]
    },
    {
      "cell_type": "code",
      "execution_count": null,
      "metadata": {
        "id": "lcz3zg-CCqZt"
      },
      "outputs": [],
      "source": [
        "device = torch.device(\"cuda:0\" if torch.cuda.is_available() else \"cpu\")"
      ]
    },
    {
      "cell_type": "code",
      "execution_count": null,
      "metadata": {
        "id": "ChJxDCqfCqZt"
      },
      "outputs": [],
      "source": [
        "X_train, X_test, y_train, y_test = train_test_split(pECG_np, ActTime_np, test_size=0.3, random_state=42)"
      ]
    },
    {
      "cell_type": "code",
      "execution_count": null,
      "metadata": {
        "id": "KZoNJpYoCqZu"
      },
      "outputs": [],
      "source": [
        "X_tt, X_val, y_tt, y_val = train_test_split(X_train,y_train, test_size=0.28, random_state=42)"
      ]
    },
    {
      "cell_type": "code",
      "execution_count": null,
      "metadata": {
        "id": "gA6Ze7CPCqZu"
      },
      "outputs": [],
      "source": [
        "X_train = torch.FloatTensor(X_tt).to(device)\n",
        "X_test = torch.FloatTensor(X_test).to(device)\n",
        "X_val = torch.FloatTensor(X_val).to(device)\n",
        "\n",
        "#labels are activation times\n",
        "y_train = torch.FloatTensor(y_tt).to(device)\n",
        "y_test = torch.FloatTensor(y_test).to(device)\n",
        "y_val = torch.FloatTensor(y_val).to(device)"
      ]
    },
    {
      "cell_type": "code",
      "execution_count": null,
      "metadata": {
        "id": "cgrSx1HBCqZu",
        "outputId": "c7e55af8-4844-4c5e-9803-77f2cab1cb14"
      },
      "outputs": [
        {
          "data": {
            "text/plain": [
              "tensor([18.3355, 15.0888,  6.2868, 11.8183,  3.9319, 14.3519, 22.2141, 38.1168,\n",
              "        45.5909, 29.7910, 21.3180,  3.3872,  5.6453,  1.5462,  5.0512, 13.9603,\n",
              "        10.1601, 13.6563,  1.2432,  5.0921,  1.2813,  1.8881, 13.3089, 18.2031,\n",
              "        27.8862, 10.4705,  7.6583,  8.3540, 10.7231,  8.8689,  0.2243, 25.9994,\n",
              "        42.1891, 45.1114, 16.0096, -6.2723,  2.8121,  9.8987, 25.6035, 27.4581,\n",
              "        46.3363, 50.0619, 32.2792, 19.8839, 15.5374, 39.1925, 38.1420, 32.8658,\n",
              "        23.1594, 14.8878, 11.8131, -1.8832, 16.4250, 31.9932, 43.5161, 34.0660,\n",
              "        26.4550, 45.1221, 46.0666, 39.5021, 12.0323,  8.1069, 13.7074,  8.1177,\n",
              "         8.5243,  7.3073, 33.1013, 39.2644, 37.1304, 32.1565, 30.5905, 43.2321,\n",
              "        34.1311, 33.7087, 22.2048], device='cuda:0')"
            ]
          },
          "execution_count": 13,
          "metadata": {},
          "output_type": "execute_result"
        }
      ],
      "source": [
        "y_test[0]"
      ]
    },
    {
      "cell_type": "markdown",
      "metadata": {
        "id": "UP7fXoziCqZu"
      },
      "source": [
        "Now that we've split up the data into a train-validation-test split, we will define a network architecture suitable for regression"
      ]
    },
    {
      "cell_type": "code",
      "execution_count": null,
      "metadata": {
        "id": "SzxLrKOHCqZu"
      },
      "outputs": [],
      "source": [
        "flatten = nn.Flatten()"
      ]
    },
    {
      "cell_type": "code",
      "execution_count": null,
      "metadata": {
        "id": "lStvL1WcCqZu"
      },
      "outputs": [],
      "source": [
        "#it's possible to lose more information this way, so it's better to plug the normalised data into a CNN\n",
        "\n",
        "class ConvNet(nn.Module):\n",
        "  def __init__(self, in_features=47968):\n",
        "    super().__init__()\n",
        "    self.conv1 = nn.Conv1d(1, 32, kernel_size=3, stride=1) #I think the features are simple enough\n",
        "    #output = (length-kernel_size)/stride + 1\n",
        "    self.pool1 = nn.MaxPool1d(2)\n",
        "    #going to try further reduction and some expansion, don't know why\n",
        "    self.conv2 = nn.Conv1d(32, 16, kernel_size=2, stride=1)\n",
        "    #2998\n",
        "    self.pool2 = nn.MaxPool1d(2)\n",
        "    #1499\n",
        "    self.dropout1 = nn.Dropout(0.3)\n",
        "    self.fc1 = nn.Linear(in_features, 256)\n",
        "    self.fc2 = nn.Linear(256, 128)\n",
        "    self.fc3 = nn.Linear(200, 128)\n",
        "    self.out = nn.Linear(128, 75)\n",
        "\n",
        "  def forward_prop(self, a):\n",
        "    a = self.conv1(a)\n",
        "    a = self.pool1(a)\n",
        "    a = self.pool2(a)\n",
        "    a = flatten(a)\n",
        "    a = self.dropout1(a)\n",
        "    a = F.relu(self.fc1(a))\n",
        "    a = F.relu(self.fc2(a))\n",
        "    #a = self.dropout2(a)\n",
        "    a = F.relu(self.fc3(a))\n",
        "    a = self.out(a)\n",
        "    return a"
      ]
    },
    {
      "cell_type": "markdown",
      "metadata": {
        "id": "iAjGMHkBCqZu"
      },
      "source": [
        "The new implementation of CNN 2 is:\n",
        "\n",
        "Convolution, max pooling, max pooling, convolution, max pooling, flatten + neural net architecture\n",
        "\n",
        "Old version:\n",
        "\n",
        "Convolution, max pooling, max pooling, flatten + neural net architecture"
      ]
    },
    {
      "cell_type": "code",
      "execution_count": null,
      "metadata": {
        "id": "APr6HBz0CqZu"
      },
      "outputs": [],
      "source": [
        "#it's possible to lose more information this way, so it's better to plug the normalised data into a CNN\n",
        "\n",
        "class ConvNet2(nn.Module):\n",
        "  #old in_features (before pooling + second convolution) = 47968, (after) new = 11984, newer (might revert) = 5984\n",
        "  #for batch, in_features = 374\n",
        "  #for all others, in_features = 5984\n",
        "  def __init__(self, in_features=5984):\n",
        "    super().__init__()\n",
        "    self.conv1 = nn.Conv1d(1, 32, kernel_size=3, stride=1)\n",
        "    self.pool = nn.MaxPool1d(2)\n",
        "    self.conv2 = nn.Conv1d(32, 16, kernel_size=1, stride=1)\n",
        "    self.dropout = nn.Dropout(0.3)\n",
        "    self.fc1 = nn.Linear(in_features, 256)\n",
        "    self.fc2 = nn.Linear(256, 200)\n",
        "    self.fc3 = nn.Linear(200, 128)\n",
        "    self.out = nn.Linear(128, 75)\n",
        "\n",
        "  def forward_prop(self, a):\n",
        "    a = self.conv1(a)\n",
        "    a = self.pool(a)\n",
        "    a = self.pool(a)\n",
        "    a = self.conv2(a)\n",
        "    a = self.pool(a)\n",
        "    a = self.pool(a)\n",
        "    a = flatten(a)\n",
        "    a = self.dropout(a)\n",
        "    a = F.relu(self.fc1(a))\n",
        "    a = self.dropout(a)\n",
        "    a = F.relu(self.fc2(a))\n",
        "    #a = self.dropout2(a)\n",
        "    a = F.relu(self.fc3(a))\n",
        "    a = self.out(a)\n",
        "    return a"
      ]
    },
    {
      "cell_type": "code",
      "execution_count": null,
      "metadata": {
        "id": "Ru8aIxswCqZu"
      },
      "outputs": [],
      "source": [
        "torch.manual_seed(41)\n",
        "#create an instance of out model\n",
        "model = ConvNet2()\n",
        "if torch.cuda.is_available():\n",
        "    model = model.cuda()"
      ]
    },
    {
      "cell_type": "code",
      "execution_count": null,
      "metadata": {
        "id": "20ZqYl26CqZu"
      },
      "outputs": [],
      "source": [
        "#using MSE since this is a regression problem\n",
        "loss_function = nn.MSELoss()\n",
        "#using an 'Adam' optimiser\n",
        "#previous rate = 0.001066, new rate = 0.001599, newer rate = 0.00199875, new (lr = 0.0034978125, weight_decay=0.00012),  new (lr=0.004197375, wd=15)\n",
        "#new lr = 0.002973140625, new weight decay = 0.000102, newer lr = 0.002824483594 weight decay = 0.00009384\n",
        "optimizer = torch.optim.Adam(model.parameters(), lr=0.002824483594, weight_decay=0.00009384)"
      ]
    },
    {
      "cell_type": "markdown",
      "metadata": {
        "id": "16b6vOQFCqZu"
      },
      "source": [
        "Now, let's perform learning"
      ]
    },
    {
      "cell_type": "code",
      "execution_count": null,
      "metadata": {
        "id": "FuK8bnE6CqZv"
      },
      "outputs": [],
      "source": [
        "from torch.utils.data import DataLoader, TensorDataset, RandomSampler\n",
        "from sklearn import metrics"
      ]
    },
    {
      "cell_type": "markdown",
      "metadata": {
        "id": "hwPRLlnpCqZv"
      },
      "source": [
        "To run data in batches and iterate across multiple batches, we create a data iterator for\n",
        "the data loader"
      ]
    },
    {
      "cell_type": "code",
      "execution_count": null,
      "metadata": {
        "id": "6uPs3gD1CqZv"
      },
      "outputs": [],
      "source": [
        "import math"
      ]
    },
    {
      "cell_type": "code",
      "execution_count": null,
      "metadata": {
        "id": "QuIB7patCqZv",
        "outputId": "064deed5-3fbe-4e4d-e085-770a049d3874"
      },
      "outputs": [
        {
          "name": "stdout",
          "output_type": "stream",
          "text": [
            "number of iterations per epoch is 43\n"
          ]
        }
      ],
      "source": [
        "num_epochs = 50\n",
        "dataset = TensorDataset(X_train, y_train)\n",
        "training_data_loader = DataLoader(dataset=dataset, batch_size=16, shuffle=True)\n",
        "\n",
        "#for batch-size of 16, the number of iterations through the new data_loader is\n",
        "print(\"number of iterations per epoch is\", math.ceil(len(training_data_loader)/12))"
      ]
    },
    {
      "cell_type": "code",
      "execution_count": null,
      "metadata": {
        "id": "DfpPS2aKCqZv"
      },
      "outputs": [],
      "source": [
        "import torch.multiprocessing as mp"
      ]
    },
    {
      "cell_type": "code",
      "execution_count": null,
      "metadata": {
        "id": "zpkK-Tu0CqZv",
        "outputId": "044e0064-9188-4520-85dc-8131bb807d3e"
      },
      "outputs": [
        {
          "data": {
            "text/plain": [
              "ConvNet2(\n",
              "  (conv1): Conv1d(1, 32, kernel_size=(3,), stride=(1,))\n",
              "  (pool): MaxPool1d(kernel_size=2, stride=2, padding=0, dilation=1, ceil_mode=False)\n",
              "  (conv2): Conv1d(32, 16, kernel_size=(1,), stride=(1,))\n",
              "  (dropout): Dropout(p=0.3, inplace=False)\n",
              "  (fc1): Linear(in_features=5984, out_features=256, bias=True)\n",
              "  (fc2): Linear(in_features=256, out_features=200, bias=True)\n",
              "  (fc3): Linear(in_features=200, out_features=128, bias=True)\n",
              "  (out): Linear(in_features=128, out_features=75, bias=True)\n",
              ")"
            ]
          },
          "execution_count": 23,
          "metadata": {},
          "output_type": "execute_result"
        }
      ],
      "source": [
        "model.share_memory()"
      ]
    },
    {
      "cell_type": "code",
      "execution_count": null,
      "metadata": {
        "id": "RxUSwABYCqZv",
        "outputId": "94c7cf6b-1c83-4b60-b7d2-ea0c78e63f8a"
      },
      "outputs": [
        {
          "name": "stdout",
          "output_type": "stream",
          "text": [
            "0, Running Loss: 559.6133249237781\n",
            "1, Running Loss: 310.65332157405345\n",
            "2, Running Loss: 301.25145397036096\n",
            "3, Running Loss: 280.53462408471296\n",
            "4, Running Loss: 271.4482929950624\n",
            "5, Running Loss: 265.06320301566535\n",
            "6, Running Loss: 260.6894777853658\n",
            "7, Running Loss: 254.19917327400267\n",
            "8, Running Loss: 251.88633487731454\n",
            "9, Running Loss: 242.45659343088707\n",
            "10, Running Loss: 233.76855365122398\n",
            "11, Running Loss: 230.5067066132553\n",
            "12, Running Loss: 224.1474253436712\n",
            "13, Running Loss: 219.3501036185918\n",
            "14, Running Loss: 213.61164232689563\n",
            "15, Running Loss: 206.32681146756872\n",
            "16, Running Loss: 203.99133799395224\n",
            "17, Running Loss: 198.70694573469987\n",
            "18, Running Loss: 193.06026081776056\n",
            "19, Running Loss: 189.745769365566\n",
            "20, Running Loss: 186.24493743115522\n",
            "21, Running Loss: 182.6773459667296\n",
            "22, Running Loss: 178.47603407431774\n",
            "23, Running Loss: 174.71403345723792\n",
            "24, Running Loss: 170.77833735848975\n",
            "25, Running Loss: 168.49408986249307\n",
            "26, Running Loss: 165.1142780424103\n",
            "27, Running Loss: 161.4375314637432\n",
            "28, Running Loss: 158.7698752636046\n",
            "29, Running Loss: 154.19394748417412\n",
            "30, Running Loss: 151.76876808526947\n",
            "31, Running Loss: 148.02267766937496\n",
            "32, Running Loss: 146.15681819465217\n",
            "33, Running Loss: 144.4478462549645\n",
            "34, Running Loss: 140.07782447995163\n",
            "35, Running Loss: 138.59618937875342\n",
            "36, Running Loss: 136.441675666749\n",
            "37, Running Loss: 133.83830512039304\n",
            "38, Running Loss: 132.815967454685\n",
            "39, Running Loss: 131.57671862324392\n",
            "40, Running Loss: 129.22312325004518\n",
            "41, Running Loss: 131.92777795115794\n",
            "42, Running Loss: 128.25594838960902\n",
            "43, Running Loss: 122.35811741145577\n",
            "44, Running Loss: 120.5191033506018\n",
            "45, Running Loss: 120.05935135788805\n",
            "46, Running Loss: 120.8117577935767\n",
            "47, Running Loss: 118.56591557330034\n",
            "48, Running Loss: 119.58414999143345\n",
            "49, Running Loss: 119.33583937667487\n"
          ]
        }
      ],
      "source": [
        "#regression models don't rely on accuracy, only how close the predicted data points are to the real value\n",
        "#def train(model, num_epochs, data_loader):\n",
        "losses = []\n",
        "for epoch in range(num_epochs):\n",
        "  model.train()\n",
        "  running_loss = 0.0\n",
        "  for i,(x, y) in enumerate(training_data_loader):\n",
        "    #forward prop\n",
        "    x = x.squeeze()\n",
        "    a = model.forward_prop(x.unsqueeze(1))\n",
        "\n",
        "\n",
        "    #now we get the mean square error\n",
        "    loss = loss_function(a, y)\n",
        "    running_loss += loss.item()\n",
        "\n",
        "    #backward prop\n",
        "    optimizer.zero_grad()\n",
        "    loss.backward()\n",
        "    optimizer.step()\n",
        "\n",
        "  print(f\"{epoch}, Running Loss: {running_loss/len(training_data_loader)}\")\n",
        "  losses.append(running_loss/len(training_data_loader))\n",
        "  #return model, losses"
      ]
    },
    {
      "cell_type": "code",
      "execution_count": null,
      "metadata": {
        "id": "WXJRk57aCqZv",
        "outputId": "b679b7d2-8a31-4e3c-cb6f-61425edd23bf"
      },
      "outputs": [
        {
          "data": {
            "image/png": "[encoded data removed]",
            "text/plain": [
              "<Figure size 640x480 with 1 Axes>"
            ]
          },
          "metadata": {},
          "output_type": "display_data"
        }
      ],
      "source": [
        "plt.plot(losses)\n",
        "plt.title(\"Running loss average over 50 epochs for model 3\")\n",
        "plt.show()"
      ]
    },
    {
      "cell_type": "code",
      "execution_count": null,
      "metadata": {
        "id": "SL0hWhI5CqZv"
      },
      "outputs": [],
      "source": [
        "validation_dataset = TensorDataset(X_val, y_val)\n",
        "validation_dl = DataLoader(dataset=validation_dataset, batch_size=12, shuffle=False)"
      ]
    },
    {
      "cell_type": "code",
      "execution_count": null,
      "metadata": {
        "id": "njSntWiVCqZv"
      },
      "outputs": [],
      "source": [
        "import random"
      ]
    },
    {
      "cell_type": "code",
      "execution_count": null,
      "metadata": {
        "id": "lp-IEkUOCqZv"
      },
      "outputs": [],
      "source": [
        "def test_validation_avgloss(model, dataloader, batch_size):\n",
        "    model.eval()\n",
        "    total_loss = 0.0\n",
        "    num_samples = 0\n",
        "    labels = []\n",
        "    predictions = []\n",
        "    with torch.no_grad():\n",
        "        for i, (x,y) in enumerate(dataloader):\n",
        "            a = model.forward_prop(x.unsqueeze(1))\n",
        "            loss = loss_function(a, y)\n",
        "            labels.append(y)\n",
        "            predictions.append(a)\n",
        "            num_samples += batch_size\n",
        "            total_loss += loss.item() * batch_size\n",
        "    average_loss = total_loss/num_samples\n",
        "    return average_loss"
      ]
    },
    {
      "cell_type": "code",
      "execution_count": null,
      "metadata": {
        "id": "9XDjUIWiCqZv",
        "outputId": "883e8162-5432-49bb-88cb-4e2b5ed12dfa"
      },
      "outputs": [
        {
          "name": "stdout",
          "output_type": "stream",
          "text": [
            "(Validation) Average loss:  108.57145401925752\n"
          ]
        }
      ],
      "source": [
        "validation_avgloss = test_validation_avgloss(model=model, dataloader=validation_dl, batch_size=12)\n",
        "\n",
        "print(\"(Validation) Average loss: \", validation_avgloss)"
      ]
    },
    {
      "cell_type": "markdown",
      "metadata": {
        "id": "yCR682IHCqZv"
      },
      "source": [
        "Feed X-test into the model and sample an output to graph"
      ]
    },
    {
      "cell_type": "code",
      "execution_count": null,
      "metadata": {
        "id": "5P23ZBTUCqZw",
        "outputId": "f68b241f-4d93-4abe-9404-e11008d5a20c"
      },
      "outputs": [
        {
          "data": {
            "image/png": "[encoded data removed]",
            "text/plain": [
              "<Figure size 640x480 with 1 Axes>"
            ]
          },
          "metadata": {},
          "output_type": "display_data"
        }
      ],
      "source": [
        "single_item_dl = DataLoader(dataset=validation_dl.dataset, batch_size=1, shuffle=True)\n",
        "random_batch = next(iter(single_item_dl))\n",
        "\n",
        "feature, label = random_batch\n",
        "feature = feature.T.squeeze(1)\n",
        "feature = feature.reshape(1,1, 6000)\n",
        "prediction = model.forward_prop(feature)\n",
        "\n",
        "label = label.cpu().detach().numpy().reshape(-1)\n",
        "prediction = prediction.cpu().detach().numpy().reshape(-1)\n",
        "\n",
        "plt.title(\"Predicted vs Label\")\n",
        "\n",
        "plt.plot(prediction, label=\"predicted\")\n",
        "plt.plot(label, label=\"actual\")\n",
        "plt.legend()\n",
        "plt.show()"
      ]
    },
    {
      "cell_type": "markdown",
      "metadata": {
        "id": "T1BF6LluCqZw"
      },
      "source": [
        "Now, let's do some fourrier analysis on this signal\n",
        "\n",
        "The first intention is that if we can apply a fourrier to the label itself and ask the model to learn the actual activation times as a wave"
      ]
    },
    {
      "cell_type": "markdown",
      "metadata": {
        "id": "AwzLmMZrCqZw"
      },
      "source": [
        "Let's take the label variable from the last cell, apply a fourier transform and plot the noisy graph and PSD graphs, and then undo the transform using the new frequencies to reconstruct the original"
      ]
    },
    {
      "cell_type": "markdown",
      "metadata": {
        "id": "QcibW-XuCqZw"
      },
      "source": [
        "Now let's graph the prominent frequencies"
      ]
    },
    {
      "cell_type": "markdown",
      "metadata": {
        "id": "HSLo5zhVCqZw"
      },
      "source": [
        "Now, let's undo the fft to reconstruct the image and see how close the reconstructed wave is to the actual label"
      ]
    },
    {
      "cell_type": "code",
      "execution_count": null,
      "metadata": {
        "id": "OrQrziKlCqZw"
      },
      "outputs": [],
      "source": [
        "test_dataset = TensorDataset(X_test, y_test)\n",
        "test_dl = DataLoader(dataset=test_dataset, batch_size=8, shuffle=False)"
      ]
    },
    {
      "cell_type": "code",
      "execution_count": null,
      "metadata": {
        "id": "H4uXXGdaCqZw",
        "outputId": "7443bc1c-3658-4624-a756-932732e10e16"
      },
      "outputs": [
        {
          "name": "stdout",
          "output_type": "stream",
          "text": [
            "(Test) Average loss:  104.987813164577\n"
          ]
        }
      ],
      "source": [
        "test_avgloss = test_validation_avgloss(model=model, dataloader=test_dl, batch_size=8)\n",
        "print(\"(Test) Average loss: \", test_avgloss)"
      ]
    },
    {
      "cell_type": "code",
      "execution_count": null,
      "metadata": {
        "id": "UuTFH0SgCqZw",
        "outputId": "6cacd351-b14a-48ad-f987-884bfac02352"
      },
      "outputs": [
        {
          "name": "stdout",
          "output_type": "stream",
          "text": [
            "torch.Size([4836, 6000])\n"
          ]
        },
        {
          "ename": "OutOfMemoryError",
          "evalue": "CUDA out of memory. Tried to allocate 1.73 GiB. GPU 0 has a total capacty of 11.91 GiB of which 1.64 GiB is free. Process 3439427 has 10.00 MiB memory in use. Including non-PyTorch memory, this process has 10.25 GiB memory in use. Of the allocated memory 9.91 GiB is allocated by PyTorch, and 25.96 MiB is reserved by PyTorch but unallocated. If reserved but unallocated memory is large try setting max_split_size_mb to avoid fragmentation.  See documentation for Memory Management and PYTORCH_CUDA_ALLOC_CONF",
          "output_type": "error",
          "traceback": [
            "\u001b[0;31m---------------------------------------------------------------------------\u001b[0m",
            "\u001b[0;31mOutOfMemoryError\u001b[0m                          Traceback (most recent call last)",
            "Cell \u001b[0;32mIn[33], line 3\u001b[0m\n\u001b[1;32m      1\u001b[0m x \u001b[38;5;241m=\u001b[39m X_test\u001b[38;5;241m.\u001b[39msqueeze(\u001b[38;5;241m0\u001b[39m)\n\u001b[1;32m      2\u001b[0m \u001b[38;5;28mprint\u001b[39m(x\u001b[38;5;241m.\u001b[39mshape)\n\u001b[0;32m----> 3\u001b[0m difference \u001b[38;5;241m=\u001b[39m \u001b[38;5;28mround\u001b[39m(np\u001b[38;5;241m.\u001b[39mmean(np\u001b[38;5;241m.\u001b[39mabs(y_test \u001b[38;5;241m-\u001b[39m \u001b[43mmodel\u001b[49m\u001b[38;5;241;43m.\u001b[39;49m\u001b[43mforward_prop\u001b[49m\u001b[43m(\u001b[49m\u001b[43mx\u001b[49m\u001b[38;5;241;43m.\u001b[39;49m\u001b[43munsqueeze\u001b[49m\u001b[43m(\u001b[49m\u001b[38;5;241;43m1\u001b[39;49m\u001b[43m)\u001b[49m\u001b[43m)\u001b[49m)), \u001b[38;5;241m2\u001b[39m)\n\u001b[1;32m      4\u001b[0m \u001b[38;5;28mprint\u001b[39m(\u001b[38;5;124m\"\u001b[39m\u001b[38;5;124m(Test) Mean absolute error: \u001b[39m\u001b[38;5;124m\"\u001b[39m, difference)\n",
            "Cell \u001b[0;32mIn[16], line 21\u001b[0m, in \u001b[0;36mConvNet2.forward_prop\u001b[0;34m(self, a)\u001b[0m\n\u001b[1;32m     19\u001b[0m a \u001b[38;5;241m=\u001b[39m \u001b[38;5;28mself\u001b[39m\u001b[38;5;241m.\u001b[39mconv1(a)\n\u001b[1;32m     20\u001b[0m a \u001b[38;5;241m=\u001b[39m \u001b[38;5;28mself\u001b[39m\u001b[38;5;241m.\u001b[39mpool(a)\n\u001b[0;32m---> 21\u001b[0m a \u001b[38;5;241m=\u001b[39m \u001b[38;5;28;43mself\u001b[39;49m\u001b[38;5;241;43m.\u001b[39;49m\u001b[43mpool\u001b[49m\u001b[43m(\u001b[49m\u001b[43ma\u001b[49m\u001b[43m)\u001b[49m\n\u001b[1;32m     22\u001b[0m a \u001b[38;5;241m=\u001b[39m \u001b[38;5;28mself\u001b[39m\u001b[38;5;241m.\u001b[39mconv2(a)\n\u001b[1;32m     23\u001b[0m a \u001b[38;5;241m=\u001b[39m \u001b[38;5;28mself\u001b[39m\u001b[38;5;241m.\u001b[39mpool(a)\n",
            "File \u001b[0;32m/usr/local/lib/python3.10/dist-packages/torch/nn/modules/module.py:1518\u001b[0m, in \u001b[0;36mModule._wrapped_call_impl\u001b[0;34m(self, *args, **kwargs)\u001b[0m\n\u001b[1;32m   1516\u001b[0m     \u001b[38;5;28;01mreturn\u001b[39;00m \u001b[38;5;28mself\u001b[39m\u001b[38;5;241m.\u001b[39m_compiled_call_impl(\u001b[38;5;241m*\u001b[39margs, \u001b[38;5;241m*\u001b[39m\u001b[38;5;241m*\u001b[39mkwargs)  \u001b[38;5;66;03m# type: ignore[misc]\u001b[39;00m\n\u001b[1;32m   1517\u001b[0m \u001b[38;5;28;01melse\u001b[39;00m:\n\u001b[0;32m-> 1518\u001b[0m     \u001b[38;5;28;01mreturn\u001b[39;00m \u001b[38;5;28;43mself\u001b[39;49m\u001b[38;5;241;43m.\u001b[39;49m\u001b[43m_call_impl\u001b[49m\u001b[43m(\u001b[49m\u001b[38;5;241;43m*\u001b[39;49m\u001b[43margs\u001b[49m\u001b[43m,\u001b[49m\u001b[43m \u001b[49m\u001b[38;5;241;43m*\u001b[39;49m\u001b[38;5;241;43m*\u001b[39;49m\u001b[43mkwargs\u001b[49m\u001b[43m)\u001b[49m\n",
            "File \u001b[0;32m/usr/local/lib/python3.10/dist-packages/torch/nn/modules/module.py:1527\u001b[0m, in \u001b[0;36mModule._call_impl\u001b[0;34m(self, *args, **kwargs)\u001b[0m\n\u001b[1;32m   1522\u001b[0m \u001b[38;5;66;03m# If we don't have any hooks, we want to skip the rest of the logic in\u001b[39;00m\n\u001b[1;32m   1523\u001b[0m \u001b[38;5;66;03m# this function, and just call forward.\u001b[39;00m\n\u001b[1;32m   1524\u001b[0m \u001b[38;5;28;01mif\u001b[39;00m \u001b[38;5;129;01mnot\u001b[39;00m (\u001b[38;5;28mself\u001b[39m\u001b[38;5;241m.\u001b[39m_backward_hooks \u001b[38;5;129;01mor\u001b[39;00m \u001b[38;5;28mself\u001b[39m\u001b[38;5;241m.\u001b[39m_backward_pre_hooks \u001b[38;5;129;01mor\u001b[39;00m \u001b[38;5;28mself\u001b[39m\u001b[38;5;241m.\u001b[39m_forward_hooks \u001b[38;5;129;01mor\u001b[39;00m \u001b[38;5;28mself\u001b[39m\u001b[38;5;241m.\u001b[39m_forward_pre_hooks\n\u001b[1;32m   1525\u001b[0m         \u001b[38;5;129;01mor\u001b[39;00m _global_backward_pre_hooks \u001b[38;5;129;01mor\u001b[39;00m _global_backward_hooks\n\u001b[1;32m   1526\u001b[0m         \u001b[38;5;129;01mor\u001b[39;00m _global_forward_hooks \u001b[38;5;129;01mor\u001b[39;00m _global_forward_pre_hooks):\n\u001b[0;32m-> 1527\u001b[0m     \u001b[38;5;28;01mreturn\u001b[39;00m \u001b[43mforward_call\u001b[49m\u001b[43m(\u001b[49m\u001b[38;5;241;43m*\u001b[39;49m\u001b[43margs\u001b[49m\u001b[43m,\u001b[49m\u001b[43m \u001b[49m\u001b[38;5;241;43m*\u001b[39;49m\u001b[38;5;241;43m*\u001b[39;49m\u001b[43mkwargs\u001b[49m\u001b[43m)\u001b[49m\n\u001b[1;32m   1529\u001b[0m \u001b[38;5;28;01mtry\u001b[39;00m:\n\u001b[1;32m   1530\u001b[0m     result \u001b[38;5;241m=\u001b[39m \u001b[38;5;28;01mNone\u001b[39;00m\n",
            "File \u001b[0;32m/usr/local/lib/python3.10/dist-packages/torch/nn/modules/pooling.py:92\u001b[0m, in \u001b[0;36mMaxPool1d.forward\u001b[0;34m(self, input)\u001b[0m\n\u001b[1;32m     91\u001b[0m \u001b[38;5;28;01mdef\u001b[39;00m \u001b[38;5;21mforward\u001b[39m(\u001b[38;5;28mself\u001b[39m, \u001b[38;5;28minput\u001b[39m: Tensor):\n\u001b[0;32m---> 92\u001b[0m     \u001b[38;5;28;01mreturn\u001b[39;00m \u001b[43mF\u001b[49m\u001b[38;5;241;43m.\u001b[39;49m\u001b[43mmax_pool1d\u001b[49m\u001b[43m(\u001b[49m\u001b[38;5;28;43minput\u001b[39;49m\u001b[43m,\u001b[49m\u001b[43m \u001b[49m\u001b[38;5;28;43mself\u001b[39;49m\u001b[38;5;241;43m.\u001b[39;49m\u001b[43mkernel_size\u001b[49m\u001b[43m,\u001b[49m\u001b[43m \u001b[49m\u001b[38;5;28;43mself\u001b[39;49m\u001b[38;5;241;43m.\u001b[39;49m\u001b[43mstride\u001b[49m\u001b[43m,\u001b[49m\n\u001b[1;32m     93\u001b[0m \u001b[43m                        \u001b[49m\u001b[38;5;28;43mself\u001b[39;49m\u001b[38;5;241;43m.\u001b[39;49m\u001b[43mpadding\u001b[49m\u001b[43m,\u001b[49m\u001b[43m \u001b[49m\u001b[38;5;28;43mself\u001b[39;49m\u001b[38;5;241;43m.\u001b[39;49m\u001b[43mdilation\u001b[49m\u001b[43m,\u001b[49m\u001b[43m \u001b[49m\u001b[43mceil_mode\u001b[49m\u001b[38;5;241;43m=\u001b[39;49m\u001b[38;5;28;43mself\u001b[39;49m\u001b[38;5;241;43m.\u001b[39;49m\u001b[43mceil_mode\u001b[49m\u001b[43m,\u001b[49m\n\u001b[1;32m     94\u001b[0m \u001b[43m                        \u001b[49m\u001b[43mreturn_indices\u001b[49m\u001b[38;5;241;43m=\u001b[39;49m\u001b[38;5;28;43mself\u001b[39;49m\u001b[38;5;241;43m.\u001b[39;49m\u001b[43mreturn_indices\u001b[49m\u001b[43m)\u001b[49m\n",
            "File \u001b[0;32m/usr/local/lib/python3.10/dist-packages/torch/_jit_internal.py:488\u001b[0m, in \u001b[0;36mboolean_dispatch.<locals>.fn\u001b[0;34m(*args, **kwargs)\u001b[0m\n\u001b[1;32m    486\u001b[0m     \u001b[38;5;28;01mreturn\u001b[39;00m if_true(\u001b[38;5;241m*\u001b[39margs, \u001b[38;5;241m*\u001b[39m\u001b[38;5;241m*\u001b[39mkwargs)\n\u001b[1;32m    487\u001b[0m \u001b[38;5;28;01melse\u001b[39;00m:\n\u001b[0;32m--> 488\u001b[0m     \u001b[38;5;28;01mreturn\u001b[39;00m \u001b[43mif_false\u001b[49m\u001b[43m(\u001b[49m\u001b[38;5;241;43m*\u001b[39;49m\u001b[43margs\u001b[49m\u001b[43m,\u001b[49m\u001b[43m \u001b[49m\u001b[38;5;241;43m*\u001b[39;49m\u001b[38;5;241;43m*\u001b[39;49m\u001b[43mkwargs\u001b[49m\u001b[43m)\u001b[49m\n",
            "File \u001b[0;32m/usr/local/lib/python3.10/dist-packages/torch/nn/functional.py:705\u001b[0m, in \u001b[0;36m_max_pool1d\u001b[0;34m(input, kernel_size, stride, padding, dilation, ceil_mode, return_indices)\u001b[0m\n\u001b[1;32m    703\u001b[0m \u001b[38;5;28;01mif\u001b[39;00m stride \u001b[38;5;129;01mis\u001b[39;00m \u001b[38;5;28;01mNone\u001b[39;00m:\n\u001b[1;32m    704\u001b[0m     stride \u001b[38;5;241m=\u001b[39m torch\u001b[38;5;241m.\u001b[39mjit\u001b[38;5;241m.\u001b[39mannotate(List[\u001b[38;5;28mint\u001b[39m], [])\n\u001b[0;32m--> 705\u001b[0m \u001b[38;5;28;01mreturn\u001b[39;00m \u001b[43mtorch\u001b[49m\u001b[38;5;241;43m.\u001b[39;49m\u001b[43mmax_pool1d\u001b[49m\u001b[43m(\u001b[49m\u001b[38;5;28;43minput\u001b[39;49m\u001b[43m,\u001b[49m\u001b[43m \u001b[49m\u001b[43mkernel_size\u001b[49m\u001b[43m,\u001b[49m\u001b[43m \u001b[49m\u001b[43mstride\u001b[49m\u001b[43m,\u001b[49m\u001b[43m \u001b[49m\u001b[43mpadding\u001b[49m\u001b[43m,\u001b[49m\u001b[43m \u001b[49m\u001b[43mdilation\u001b[49m\u001b[43m,\u001b[49m\u001b[43m \u001b[49m\u001b[43mceil_mode\u001b[49m\u001b[43m)\u001b[49m\n",
            "\u001b[0;31mOutOfMemoryError\u001b[0m: CUDA out of memory. Tried to allocate 1.73 GiB. GPU 0 has a total capacty of 11.91 GiB of which 1.64 GiB is free. Process 3439427 has 10.00 MiB memory in use. Including non-PyTorch memory, this process has 10.25 GiB memory in use. Of the allocated memory 9.91 GiB is allocated by PyTorch, and 25.96 MiB is reserved by PyTorch but unallocated. If reserved but unallocated memory is large try setting max_split_size_mb to avoid fragmentation.  See documentation for Memory Management and PYTORCH_CUDA_ALLOC_CONF"
          ]
        }
      ],
      "source": [
        "# x = X_test.squeeze(0)\n",
        "# print(x.shape)\n",
        "# difference = round(np.mean(np.abs(y_test - model.forward_prop(x.unsqueeze(1)))), 2)\n",
        "# print(\"(Test) Mean absolute error: \", difference)"
      ]
    }
  ],
  "metadata": {
    "kernelspec": {
      "display_name": "Python 3",
      "language": "python",
      "name": "python3"
    },
    "language_info": {
      "codemirror_mode": {
        "name": "ipython",
        "version": 3
      },
      "file_extension": ".py",
      "mimetype": "text/x-python",
      "name": "python",
      "nbconvert_exporter": "python",
      "pygments_lexer": "ipython3",
      "version": "3.10.12"
    },
    "colab": {
      "provenance": []
    }
  },
  "nbformat": 4,
  "nbformat_minor": 0
}