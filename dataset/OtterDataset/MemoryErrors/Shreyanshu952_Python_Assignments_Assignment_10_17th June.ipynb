{
 "cells": [
  {
   "cell_type": "markdown",
   "id": "1112bb2c-2b98-4f90-8297-3f7f658da389",
   "metadata": {},
   "source": [
    "Q1. What is the role of try and exception block?\n",
    "\n",
    "Ans.1. \n",
    "\n",
    "1) try block:\n",
    "\n",
    "The code within the try block contains the statements that may potentially raise an exception. It allows you to specify the section of code that you want to monitor for exceptions.\n",
    "\n",
    "2) except block:\n",
    "\n",
    "If an exception occurs within the try block, the corresponding except block(s) are executed. The except block allows you to define the actions or code that should be executed when a specific exception is raised. You can have multiple except blocks to handle different types of exceptions.\n",
    "\n",
    "The main role of try and except block is to make sure the program does not stop during execution due to the raise of an error."
   ]
  },
  {
   "cell_type": "markdown",
   "id": "da6e4c4c-397a-4e8c-a885-272975d394ba",
   "metadata": {},
   "source": [
    "Q2. What is the syntax for a basic try-except block?\n",
    "\n",
    "Ans.2.\n",
    "\n",
    "I have written the syntax in the below cell."
   ]
  },
  {
   "cell_type": "code",
   "execution_count": null,
   "id": "7e835bd7-681c-407d-b45c-75568bdff558",
   "metadata": {},
   "outputs": [],
   "source": [
    "try:\n",
    "    # Code that might raise an exception\n",
    "except:\n",
    "    # Code to handle the exception"
   ]
  },
  {
   "cell_type": "markdown",
   "id": "ecb35e03-3013-4056-ae7a-1ed4d9379399",
   "metadata": {},
   "source": [
    "Q3. What happens if an exception occurs inside a try block and there is no matching except block?\n",
    "\n",
    "Ans.3.\n",
    "\n",
    "If an exception occurs inside a try block and there is no matching except block, then the program will terminate with an error."
   ]
  },
  {
   "cell_type": "markdown",
   "id": "d5be9b4c-0ff6-4e40-9110-fd9f6c04534f",
   "metadata": {},
   "source": [
    "Q4. What is the difference between using a bare except block and specifying a specific exception type?\n",
    "\n",
    "Ans.4.\n",
    "\n",
    "Bare except block will handle all the exceptions raised by the code in the try block. \n",
    "\n",
    "The specific exception type will handle only the specified exception type.\n",
    "\n",
    "I have shown it in the below cell"
   ]
  },
  {
   "cell_type": "code",
   "execution_count": 2,
   "id": "850982d6-6335-4699-b3c4-9bc4bb743ba4",
   "metadata": {},
   "outputs": [
    {
     "name": "stdin",
     "output_type": "stream",
     "text": [
      "Please enter the numerator:  15\n",
      "Please enter the denominator:  2.3\n"
     ]
    },
    {
     "name": "stdout",
     "output_type": "stream",
     "text": [
      "Please enter valid integers for the numerator and denominator.\n",
      "\n"
     ]
    },
    {
     "name": "stdin",
     "output_type": "stream",
     "text": [
      "Please enter the numerator:  15\n",
      "Please enter the denominator:  0\n"
     ]
    },
    {
     "name": "stdout",
     "output_type": "stream",
     "text": [
      "There is an Error: Division by zero is not allowed.\n"
     ]
    }
   ],
   "source": [
    "# bare except block example\n",
    "\n",
    "#1 Here bare except block is there and value error is shown which is perfectly handled by except block.\n",
    "try:\n",
    "    n = int(input(\"Please enter the numerator: \"))\n",
    "    d = int(input(\"Please enter the denominator: \"))\n",
    "\n",
    "    result = n / d\n",
    "    print(\"Result:\", result)\n",
    "\n",
    "except:\n",
    "    print(\"Please enter valid integers for the numerator and denominator.\")\n",
    "    \n",
    "print()\n",
    "\n",
    "#2 Here bare except block is there and Zero Division Error error is shown which is again perfectly handled by except block.\n",
    "try:\n",
    "    n = int(input(\"Please enter the numerator: \"))\n",
    "    d = int(input(\"Please enter the denominator: \"))\n",
    "\n",
    "    result = n / d\n",
    "    print(\"Result:\", result)\n",
    "\n",
    "except:\n",
    "    print(\"There is an Error: Division by zero is not allowed.\")"
   ]
  },
  {
   "cell_type": "code",
   "execution_count": 3,
   "id": "77a9d0ba-95bf-4dbd-90e9-3f9c4bb1bcd2",
   "metadata": {},
   "outputs": [
    {
     "name": "stdin",
     "output_type": "stream",
     "text": [
      "Please enter the numerator:  15\n",
      "Please enter the denominator:  2.3\n"
     ]
    },
    {
     "name": "stdout",
     "output_type": "stream",
     "text": [
      "Please enter valid integers for the numerator and denominator.\n",
      "\n"
     ]
    },
    {
     "name": "stdin",
     "output_type": "stream",
     "text": [
      "Please enter the numerator:  15\n",
      "Please enter the denominator:  0\n"
     ]
    },
    {
     "ename": "ZeroDivisionError",
     "evalue": "division by zero",
     "output_type": "error",
     "traceback": [
      "\u001b[0;31m---------------------------------------------------------------------------\u001b[0m",
      "\u001b[0;31mZeroDivisionError\u001b[0m                         Traceback (most recent call last)",
      "Cell \u001b[0;32mIn [3], line 21\u001b[0m\n\u001b[1;32m     18\u001b[0m     n \u001b[38;5;241m=\u001b[39m \u001b[38;5;28mint\u001b[39m(\u001b[38;5;28minput\u001b[39m(\u001b[38;5;124m\"\u001b[39m\u001b[38;5;124mPlease enter the numerator: \u001b[39m\u001b[38;5;124m\"\u001b[39m))\n\u001b[1;32m     19\u001b[0m     d \u001b[38;5;241m=\u001b[39m \u001b[38;5;28mint\u001b[39m(\u001b[38;5;28minput\u001b[39m(\u001b[38;5;124m\"\u001b[39m\u001b[38;5;124mPlease enter the denominator: \u001b[39m\u001b[38;5;124m\"\u001b[39m))\n\u001b[0;32m---> 21\u001b[0m     result \u001b[38;5;241m=\u001b[39m \u001b[43mn\u001b[49m\u001b[43m \u001b[49m\u001b[38;5;241;43m/\u001b[39;49m\u001b[43m \u001b[49m\u001b[43md\u001b[49m\n\u001b[1;32m     22\u001b[0m     \u001b[38;5;28mprint\u001b[39m(\u001b[38;5;124m\"\u001b[39m\u001b[38;5;124mResult:\u001b[39m\u001b[38;5;124m\"\u001b[39m, result)\n\u001b[1;32m     24\u001b[0m \u001b[38;5;28;01mexcept\u001b[39;00m \u001b[38;5;167;01mValueError\u001b[39;00m:\n",
      "\u001b[0;31mZeroDivisionError\u001b[0m: division by zero"
     ]
    }
   ],
   "source": [
    "#  specifically named except block example\n",
    "\n",
    "#1 Here except block is named as value error and there is value error shown which is perfectly handled by except block.\n",
    "try:\n",
    "    n = int(input(\"Please enter the numerator: \"))\n",
    "    d = int(input(\"Please enter the denominator: \"))\n",
    "\n",
    "    result = n / d\n",
    "    print(\"Result:\", result)\n",
    "\n",
    "except ValueError:\n",
    "    print(\"Please enter valid integers for the numerator and denominator.\")\n",
    "    \n",
    "print()\n",
    "\n",
    "#2 Here except block is named as value error and there is Zero Division Error shown shown which is not handled by except block.\n",
    "try:\n",
    "    n = int(input(\"Please enter the numerator: \"))\n",
    "    d = int(input(\"Please enter the denominator: \"))\n",
    "\n",
    "    result = n / d\n",
    "    print(\"Result:\", result)\n",
    "\n",
    "except ValueError:\n",
    "    print(\"There is an Error: Division by zero is not allowed.\")"
   ]
  },
  {
   "cell_type": "markdown",
   "id": "c2ab9e8b-c383-4c9a-9141-24da44d8f4d4",
   "metadata": {},
   "source": [
    "Q5. Can you have nested try-except blocks in Python? If yes, then give an example.\n",
    "\n",
    "Ans.5.\n",
    "\n",
    "Yes we can have nested try and block in Python.\n",
    "\n",
    "I have shown an example in below cell"
   ]
  },
  {
   "cell_type": "code",
   "execution_count": 56,
   "id": "d36a2013-b00c-46c3-9657-e0076bb13a8d",
   "metadata": {},
   "outputs": [
    {
     "name": "stdin",
     "output_type": "stream",
     "text": [
      "Enter the numerator:  5\n",
      "Enter the denominator:  2.3\n"
     ]
    },
    {
     "name": "stdout",
     "output_type": "stream",
     "text": [
      "Invalid input. Please enter numeric values.\n"
     ]
    }
   ],
   "source": [
    "try:\n",
    "    \n",
    "    numerator = int(input(\"Enter the numerator: \"))\n",
    "    denominator = int(input(\"Enter the denominator: \"))\n",
    "    \n",
    "    try:\n",
    "        result = numerator / denominator\n",
    "        print(\"The division result is:\", result)\n",
    "        \n",
    "    except ZeroDivisionError:\n",
    "        print(\"Cannot divide by zero.\")\n",
    "        \n",
    "except ValueError:\n",
    "    print(\"Invalid input. Please enter numeric values.\")"
   ]
  },
  {
   "cell_type": "markdown",
   "id": "c1eec0d4-162c-4214-9adf-bfeb221b4879",
   "metadata": {},
   "source": [
    "Q6. Can we use multiple exception blocks, if yes then give an example.\n",
    "\n",
    "Ans.6.\n",
    "\n",
    "Yes we can use multiple excception blocks.\n",
    "\n",
    "I have shown an example in below cell."
   ]
  },
  {
   "cell_type": "code",
   "execution_count": 47,
   "id": "e9b1de74-1381-49f3-ad24-4f3f640654c0",
   "metadata": {},
   "outputs": [
    {
     "name": "stdin",
     "output_type": "stream",
     "text": [
      "Please enter the numerator:  5\n",
      "Please enter the denominator:  0\n"
     ]
    },
    {
     "name": "stdout",
     "output_type": "stream",
     "text": [
      "Division by zero is not allowed.\n"
     ]
    }
   ],
   "source": [
    "# Multiple exceptions\n",
    "\n",
    "try:\n",
    "    n = int(input(\"Please enter the numerator: \"))\n",
    "    d = int(input(\"Please enter the denominator: \"))\n",
    "\n",
    "    result = n / d\n",
    "    print(\"Result:\", result)\n",
    "\n",
    "except ValueError:\n",
    "    print(\"Please enter valid integers for the numerator and denominator.\")\n",
    "\n",
    "except ZeroDivisionError:\n",
    "    print(\"Division by zero is not allowed.\")"
   ]
  },
  {
   "cell_type": "markdown",
   "id": "97197d72-0f7f-4c96-ad7e-77fbee3cc728",
   "metadata": {},
   "source": [
    "Q7. Write the reason due to which following errors are raised:\n",
    "\n",
    "a. EOFError\n",
    "\n",
    "b. FloatingPointError\n",
    "\n",
    "c. IndexError\n",
    "\n",
    "d. MemoryError\n",
    "\n",
    "e. OverflowError\n",
    "\n",
    "f. TabError\n",
    "\n",
    "g. ValueError\n",
    "\n",
    "Ans.7.\n",
    "\n",
    "1) EOFError: Raised when the input() function hits the end-of-file condition. (End of file condition is when there is no more data to be read from the input).\n",
    "\n",
    "2) FloatingPointError: Raised when a floating point operation fails.\n",
    "\n",
    "3) IndexError: Raised when the index of a sequence is out of range.\n",
    "\n",
    "4) MemoryError: Raised when an operation runs out of memory.\n",
    "\n",
    "5) OverflowError: Raised when the result of an arithmetic operation is too large to be represented.\n",
    "\n",
    "6) TabError: Raised when indentation consists of tabs or spaces.\n",
    "\n",
    "7) ValueError: Raised when a built-in operation or function receives an argument that has the right type but an inappropriate value."
   ]
  },
  {
   "cell_type": "markdown",
   "id": "99abfc37-1233-45b5-a00b-7181702a1e9f",
   "metadata": {},
   "source": [
    "Q8. Write code for the following given scenario and add try-exception block to it.\n",
    "\n",
    "a. Program to divide two numbers\n",
    "\n",
    "b. Program to convert a string to an integer\n",
    "\n",
    "c. Program to access an element in a list\n",
    "\n",
    "d. Program to handle a specific exception\n",
    "\n",
    "e. Program to handle any exception\n",
    "\n",
    "Ans.8.\n",
    "\n",
    "I have shown them in below cells."
   ]
  },
  {
   "cell_type": "code",
   "execution_count": 48,
   "id": "59ea9fda-17af-47fb-ac3d-6d0f8705e2f8",
   "metadata": {},
   "outputs": [
    {
     "name": "stdin",
     "output_type": "stream",
     "text": [
      "Please enter the numerator:  25\n",
      "Please enter the denominator:  0\n"
     ]
    },
    {
     "name": "stdout",
     "output_type": "stream",
     "text": [
      "Division by zero is not allowed.\n"
     ]
    }
   ],
   "source": [
    "# Program to divide two numbers\n",
    "\n",
    "try:\n",
    "    n = int(input(\"Please enter the numerator: \"))\n",
    "    d = int(input(\"Please enter the denominator: \"))\n",
    "\n",
    "    result = n / d\n",
    "    print(\"Result:\", result)\n",
    "\n",
    "except ZeroDivisionError:\n",
    "    print(\"Division by zero is not allowed.\")"
   ]
  },
  {
   "cell_type": "code",
   "execution_count": 51,
   "id": "a2ac09b2-19d6-42b8-86d8-fc6121c3cecf",
   "metadata": {},
   "outputs": [
    {
     "name": "stdin",
     "output_type": "stream",
     "text": [
      "Enter the string shre\n"
     ]
    },
    {
     "name": "stdout",
     "output_type": "stream",
     "text": [
      "alphabetical strings can not be converted into strings\n"
     ]
    }
   ],
   "source": [
    "# Program to convert a string to an integer\n",
    "\n",
    "str1 = input(\"Enter the string\")\n",
    "\n",
    "try:\n",
    "    print(int(str1))\n",
    "except ValueError:\n",
    "    print(\"alphabetical strings can not be converted into strings\")"
   ]
  },
  {
   "cell_type": "code",
   "execution_count": 52,
   "id": "264d0864-eb4a-4f69-87d3-a1ba94d1acc4",
   "metadata": {},
   "outputs": [
    {
     "name": "stdout",
     "output_type": "stream",
     "text": [
      "Index in out of range. Cannot access the elements from the list\n"
     ]
    }
   ],
   "source": [
    "# Program to access an element in a list\n",
    "\n",
    "a = [1,2,3,4,5]\n",
    "\n",
    "try:\n",
    "    print(a[5])\n",
    "except IndexError:\n",
    "    print(\"Index in out of range. Cannot access the elements from the list\")"
   ]
  },
  {
   "cell_type": "code",
   "execution_count": 55,
   "id": "f13b50ce-0d10-4f26-8a0d-756428dfe744",
   "metadata": {},
   "outputs": [
    {
     "name": "stdin",
     "output_type": "stream",
     "text": [
      "Please enter the numerator:  2\n",
      "Please enter the denominator:  2.1\n"
     ]
    },
    {
     "name": "stdout",
     "output_type": "stream",
     "text": [
      "Please enter valid integers for the numerator and denominator.\n"
     ]
    }
   ],
   "source": [
    "# Program to handle a specific exception\n",
    "\n",
    "try:\n",
    "    n = int(input(\"Please enter the numerator: \"))\n",
    "    d = int(input(\"Please enter the denominator: \"))\n",
    "\n",
    "    result = n / d\n",
    "    print(\"Result:\", result)\n",
    "\n",
    "except ValueError:\n",
    "    print(\"Please enter valid integers for the numerator and denominator.\")"
   ]
  },
  {
   "cell_type": "code",
   "execution_count": 54,
   "id": "f8f2c1fd-0a28-4cd9-811a-173d99b88cce",
   "metadata": {},
   "outputs": [
    {
     "name": "stdin",
     "output_type": "stream",
     "text": [
      "Please enter the numerator:  5\n",
      "Please enter the denominator:  0\n"
     ]
    },
    {
     "name": "stdout",
     "output_type": "stream",
     "text": [
      "Error Occured\n"
     ]
    }
   ],
   "source": [
    "# Program to handle any exception\n",
    "\n",
    "try:\n",
    "    n = int(input(\"Please enter the numerator: \"))\n",
    "    d = int(input(\"Please enter the denominator: \"))\n",
    "\n",
    "    result = n / d\n",
    "    print(\"Result:\", result)\n",
    "\n",
    "except:\n",
    "    print(\"Error Occured\")"
   ]
  }
 ],
 "metadata": {
  "kernelspec": {
   "display_name": "Python 3 (ipykernel)",
   "language": "python",
   "name": "python3"
  },
  "language_info": {
   "codemirror_mode": {
    "name": "ipython",
    "version": 3
   },
   "file_extension": ".py",
   "mimetype": "text/x-python",
   "name": "python",
   "nbconvert_exporter": "python",
   "pygments_lexer": "ipython3",
   "version": "3.10.6"
  }
 },
 "nbformat": 4,
 "nbformat_minor": 5
}
