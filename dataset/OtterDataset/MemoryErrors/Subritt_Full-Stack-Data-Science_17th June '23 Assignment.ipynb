{
 "cells": [
  {
   "cell_type": "markdown",
   "id": "95b2793c-6312-4662-b2e9-b82bb973b7fc",
   "metadata": {},
   "source": [
    "# Python Assignment - 17th June '23 Assignment"
   ]
  },
  {
   "cell_type": "markdown",
   "id": "e28250db-4aa1-4fc0-acd5-572cc5247d9e",
   "metadata": {},
   "source": [
    "### 1. What is the role of try and exception block?\n",
    "\n",
    "The `try` and `except` blocks are used in Python to handle exceptions. <br /> The code within the `try` block is executed, and if an exception is raised, the code within the `except` block is executed instead of the code following the `try` block. This allows for graceful handling of errors and prevents the program from crashing."
   ]
  },
  {
   "cell_type": "markdown",
   "id": "00acc2d4-c786-408e-b18d-512a00fa51aa",
   "metadata": {},
   "source": [
    "### 2. What is the syntax for a basic try-except block?\n",
    "\n",
    "Here's the basic syntax for a `try`-`except` block in Python:\n",
    "\n",
    "```python\n",
    "try:\n",
    "    # code that may raise an exception\n",
    "except ExceptionType:\n",
    "    # code to handle the exception\n",
    "```\n",
    "\n",
    "In this syntax, we can replace `ExceptionType` with the specific type of exception to catch. If an exception of that type is raised in the `try` block, the code in the `except` block will be executed instead of the code following the `try` block. \n",
    "\n",
    "Multiple `except` blocks to handle different types of exceptions are also allowed, or a generic `except` block to catch any type of exception."
   ]
  },
  {
   "cell_type": "code",
   "execution_count": 4,
   "id": "14a90020-4110-4f97-91f0-34b15e586c74",
   "metadata": {},
   "outputs": [
    {
     "name": "stdin",
     "output_type": "stream",
     "text": [
      "Enter a number:  1\n",
      "Enter another number:  0\n"
     ]
    },
    {
     "name": "stdout",
     "output_type": "stream",
     "text": [
      "Error! Cannot divide by zero.\n"
     ]
    }
   ],
   "source": [
    "try:\n",
    "    num1 = int(input(\"Enter a number: \"))\n",
    "    num2 = int(input(\"Enter another number: \"))\n",
    "    result = num1 / num2\n",
    "    print(\"The result is:\", result)\n",
    "except ZeroDivisionError:\n",
    "    print(\"Error! Cannot divide by zero.\")\n",
    "except ValueError:\n",
    "    print(\"Error! Invalid input. Please enter a number.\")"
   ]
  },
  {
   "cell_type": "markdown",
   "id": "39f70e7b-bc52-48e6-98b8-76385ad1b415",
   "metadata": {},
   "source": [
    "### 3. What happens if an exception occurs inside a try block and there is no matching except block?\n",
    "\n",
    "If an exception occurs inside a `try` block and there is no matching `except` block, the exception will propagate up the call stack until it is caught by an `except` block that can handle it. If no such block is found, the program will terminate and display an error message. \n",
    "\n",
    "This can be problematic if we don't anticipate all possible exceptions that could be raised by the code in the `try` block, as it can lead to unexpected behavior and crashes. It's generally a good practice to include a generic `except` block at the end of your `try`-`except` blocks to catch any unexpected exceptions and handle them gracefully.\n",
    "\n",
    "```python\n",
    "try:\n",
    "    # some code that might raise an exception\n",
    "except ValueError:\n",
    "    # handle ValueError\n",
    "except TypeError:\n",
    "    # handle TypeError\n",
    "except:\n",
    "    # handle any other exceptions\n",
    "finally:\n",
    "    # code that will always run, regardless of whether an exception was raised or not\n",
    "```"
   ]
  },
  {
   "cell_type": "markdown",
   "id": "a3c0a3f0-eb6a-42af-9c83-aed4ad17cca9",
   "metadata": {},
   "source": [
    "### 4. What is the difference between using a bare except block and specifying a specific exception type?\n",
    "\n",
    "When handling exceptions in Python, we can either specify a specific exception type to catch, or use a bare `except` block to catch all exceptions. \n",
    "\n",
    "Using a specific exception type allows you to handle different exceptions in different ways. For example:\n",
    "\n",
    "```python\n",
    "try:\n",
    "    # some code that might raise an exception\n",
    "except TypeError:\n",
    "    # handle TypeError\n",
    "```\n",
    "\n",
    "In this example, the `try` block contains some code that might raise an exception. The `except` blocks catch specific exceptions.\n",
    "\n",
    "On the other hand, using a bare `except` block catches all exceptions, regardless of their type. For example:\n",
    "\n",
    "```python\n",
    "try:\n",
    "    # some code that might raise an exception\n",
    "except:\n",
    "    # handle any exception\n",
    "```\n",
    "\n",
    "In this example, the `except` block catches any exception that was raised in the `try` block, regardless of its type.\n",
    "\n",
    "It's generally recommended to avoid using a bare `except` block, as it can catch unexpected exceptions and make it harder to debug errors. It's better to catch specific exceptions and handle them appropriately."
   ]
  },
  {
   "cell_type": "markdown",
   "id": "e1cf536b-3e3f-4a64-8e06-f63fd62389ef",
   "metadata": {},
   "source": [
    "### 5. Can you have nested try-except blocks in Python? If yes, then give an example.\n",
    "\n",
    "Yes, we can have nested `try`-`except` blocks in Python. Here's an example:\n",
    "\n",
    "```python\n",
    "try:\n",
    "    # some code that might raise an exception\n",
    "    try:\n",
    "        # some more code that might raise an exception\n",
    "    except ValueError:\n",
    "        # handle ValueError from the nested try block\n",
    "except TypeError:\n",
    "    # handle TypeError from the outer try block\n",
    "```\n",
    "\n",
    "In this example, the outer `try` block contains some code that might raise a `TypeError`. The inner `try` block contains some more code that might raise a `ValueError`. If a `ValueError` is raised in the inner `try` block, it will be caught by the inner `except` block and handled appropriately. If a `TypeError` is raised in the outer `try` block, it will be caught by the outer `except` block and handled appropriately."
   ]
  },
  {
   "cell_type": "code",
   "execution_count": 7,
   "id": "0e09a7ab-f49c-4738-82e4-6bfebd6833d5",
   "metadata": {},
   "outputs": [
    {
     "name": "stdin",
     "output_type": "stream",
     "text": [
      "Enter a number:  as\n"
     ]
    },
    {
     "name": "stdout",
     "output_type": "stream",
     "text": [
      "Error: Invalid input\n"
     ]
    }
   ],
   "source": [
    "try:\n",
    "    x = int(input(\"Enter a number: \"))\n",
    "    try:\n",
    "        result = 100 / x\n",
    "        print(\"Result:\", result)\n",
    "    except ZeroDivisionError:\n",
    "        print(\"Error: Cannot divide by zero\")\n",
    "except ValueError:\n",
    "    print(\"Error: Invalid input\")"
   ]
  },
  {
   "cell_type": "markdown",
   "id": "c0924003-b7f7-4099-a423-ffb1d31508b9",
   "metadata": {},
   "source": [
    "In this example, the outer `try` block contains code that prompts the user to enter a number. If the user enters an invalid input (e.g. a string), a `ValueError` will be raised and caught by the outer `except` block. If the user enters a valid input, the inner `try` block will attempt to divide 100 by the input number. If the input number is zero, a `ZeroDivisionError` will be raised and caught by the inner `except` block. Otherwise, the result will be printed to the console."
   ]
  },
  {
   "cell_type": "markdown",
   "id": "aa779659-5c37-4cfe-b13f-2dc54dc5e04d",
   "metadata": {},
   "source": [
    "### 6. Can we use multiple exception blocks, if yes then give an example.\n",
    "\n",
    "Yes, we can use multiple `except` blocks to handle different types of exceptions. Here's an example:\n",
    "\n",
    "```python\n",
    "try:\n",
    "    # some code that might raise an exception\n",
    "except ValueError:\n",
    "    # handle ValueError\n",
    "except TypeError:\n",
    "    # handle TypeError\n",
    "except ZeroDivisionError:\n",
    "    # handle ZeroDivisionError\n",
    "```\n",
    "\n",
    "In this example, the `try` block contains some code that might raise an exception. There are three `except` blocks that catch specific exceptions (`ValueError`, `TypeError`, and `ZeroDivisionError`) and handle them appropriately. If an exception is raised that is not caught by any of these `except` blocks, it will propagate up the call stack until it is caught by an outer `try` block or the program terminates.\n",
    "\n",
    "We can also use a single `except` block to catch multiple types of exceptions:\n",
    "\n",
    "```python\n",
    "try:\n",
    "    # some code that might raise an exception\n",
    "except (ValueError, TypeError, ZeroDivisionError):\n",
    "    # handle any of these exceptions\n",
    "```\n",
    "\n",
    "In this example, the `except` block catches any of the specified exceptions (`ValueError`, `TypeError`, or `ZeroDivisionError`) and handles them appropriately."
   ]
  },
  {
   "cell_type": "code",
   "execution_count": 21,
   "id": "5d948473-0314-481e-abb2-961190e38f08",
   "metadata": {},
   "outputs": [
    {
     "name": "stdin",
     "output_type": "stream",
     "text": [
      "Enter a number:  0\n"
     ]
    },
    {
     "name": "stdout",
     "output_type": "stream",
     "text": [
      "Error: Cannot divide by zero\n"
     ]
    }
   ],
   "source": [
    "try:\n",
    "    x = int(input(\"Enter a number: \"))\n",
    "    result = 100 / x\n",
    "    print(\"Result:\", result)\n",
    "except ValueError:\n",
    "    print(\"Error: Invalid input\")\n",
    "except TypeError:\n",
    "    print(\"Error: Invalid type\")\n",
    "except ZeroDivisionError:\n",
    "    print(\"Error: Cannot divide by zero\")"
   ]
  },
  {
   "cell_type": "markdown",
   "id": "b6012ff1-2dff-4df9-a609-378f90b1101c",
   "metadata": {},
   "source": [
    "In this example, the `try` block contains code that prompts the user to enter a number. If the user enters an invalid input (e.g. a string), a `ValueError` will be raised and caught by the first `except` block. If the input is a valid type but cannot be used for division, a `TypeError` will be raised and caught by the second `except` block. If the input is valid but is zero, a `ZeroDivisionError` will be raised and caught by the third `except` block."
   ]
  },
  {
   "cell_type": "markdown",
   "id": "438ec2ce-5c81-4433-853c-6717236beb0a",
   "metadata": {},
   "source": [
    "### 7. Write the reason due to which following errors are raised:\n",
    "    a. EOFError\n",
    "    b. FloatingPointError\n",
    "    c. IndexError\n",
    "    d. MemoryError\n",
    "    e. OverflowError\n",
    "    f. TabError\n",
    "    g. ValueError\n",
    "\n",
    "\n",
    "a. `EOFError`: This error is raised when the `input()` function reaches the end of a file before it has read a complete line of input.\n",
    "\n",
    "b. `FloatingPointError`: This error is raised when a floating-point calculation fails to produce a valid result, such as when dividing by zero or taking the square root of a negative number.\n",
    "\n",
    "c. `IndexError`: This error is raised when an attempt is made to access an index that is out of range for a sequence (e.g. a list or tuple).\n",
    "\n",
    "d. `MemoryError`: This error is raised when Python runs out of memory to allocate for an object.\n",
    "\n",
    "e. `OverflowError`: This error is raised when a calculation produces a result that is too large to be represented as a finite value (e.g. when calculating the factorial of a large number).\n",
    "\n",
    "f. `TabError`: This error is raised when inconsistent use of tabs and spaces in indentation causes indentation errors.\n",
    "\n",
    "g. `ValueError`: This error is raised when a function or method receives an argument that has the correct type but an invalid value (e.g. passing a negative number to the `sqrt()` function)."
   ]
  },
  {
   "cell_type": "markdown",
   "id": "0d3f1036-bfb8-4ca8-a2e9-8da0d79036ae",
   "metadata": {},
   "source": [
    "### 8. Write code for the following given scenario and add try-exception block to it.\n",
    "    a. Program to divide two numbers\n",
    "    b. Program to convert a string to an integer\n",
    "    c. Program to access an element in a list\n",
    "    d. Program to handle a specific exception\n",
    "    e. Program to handle any exception"
   ]
  },
  {
   "cell_type": "code",
   "execution_count": 23,
   "id": "8f9de09a-2db0-459f-b2a4-7ed176a1cf83",
   "metadata": {},
   "outputs": [
    {
     "name": "stdin",
     "output_type": "stream",
     "text": [
      "Enter the first number:  0\n",
      "Enter the second number:  0\n"
     ]
    },
    {
     "name": "stdout",
     "output_type": "stream",
     "text": [
      "Error: Cannot divide by zero\n"
     ]
    },
    {
     "name": "stdin",
     "output_type": "stream",
     "text": [
      "Enter a string:  123\n"
     ]
    },
    {
     "name": "stdout",
     "output_type": "stream",
     "text": [
      "Integer value:  123\n"
     ]
    },
    {
     "name": "stdin",
     "output_type": "stream",
     "text": [
      "Enter the index of the element to access:  5\n"
     ]
    },
    {
     "name": "stdout",
     "output_type": "stream",
     "text": [
      "Error: Index out of range\n"
     ]
    },
    {
     "name": "stdin",
     "output_type": "stream",
     "text": [
      "Enter a number:  -1\n"
     ]
    },
    {
     "name": "stdout",
     "output_type": "stream",
     "text": [
      "Number must be positive\n"
     ]
    },
    {
     "name": "stdin",
     "output_type": "stream",
     "text": [
      "Enter the index of the element to access:  5\n"
     ]
    },
    {
     "name": "stdout",
     "output_type": "stream",
     "text": [
      "Error: list index out of range\n"
     ]
    }
   ],
   "source": [
    "# a. Program to divide two numbers\n",
    "try:\n",
    "    num1 = int(input(\"Enter the first number: \"))\n",
    "    num2 = int(input(\"Enter the second number: \"))\n",
    "    result = num1 / num2\n",
    "    print(\"Result: \", result)\n",
    "except ZeroDivisionError:\n",
    "    print(\"Error: Cannot divide by zero\")\n",
    "except ValueError:\n",
    "    print(\"Error: Invalid input\")\n",
    "\n",
    "# b. Program to convert a string to an integer\n",
    "try:\n",
    "    my_str = input(\"Enter a string: \")\n",
    "    my_int = int(my_str)\n",
    "    print(\"Integer value: \", my_int)\n",
    "except ValueError:\n",
    "    print(\"Error: Invalid input\")\n",
    "\n",
    "# c. Program to access an element in a list\n",
    "my_list = [1, 2, 3, 4, 5]\n",
    "try:\n",
    "    index = int(input(\"Enter the index of the element to access: \"))\n",
    "    element = my_list[index]\n",
    "    print(\"Element: \", element)\n",
    "except IndexError:\n",
    "    print(\"Error: Index out of range\")\n",
    "except ValueError:\n",
    "    print(\"Error: Invalid input\")\n",
    "\n",
    "# d. Program to handle a specific exception\n",
    "try:\n",
    "    x = int(input(\"Enter a number: \"))\n",
    "    if x < 0:\n",
    "        raise ValueError(\"Number must be positive\")\n",
    "    else:\n",
    "        print(\"Number is positive\")\n",
    "except ValueError as e:\n",
    "    print(e)\n",
    "\n",
    "# e. Program to handle any exception\n",
    "try:\n",
    "    my_list = [1, 2, 3, 4, 5]\n",
    "    index = int(input(\"Enter the index of the element to access: \"))\n",
    "    element = my_list[index]\n",
    "    print(\"Element: \", element)\n",
    "except Exception as e:\n",
    "    print(\"Error:\", e)"
   ]
  },
  {
   "cell_type": "code",
   "execution_count": null,
   "id": "85bee4b7-2343-4293-a2e8-d3f7dff4181d",
   "metadata": {},
   "outputs": [],
   "source": []
  },
  {
   "cell_type": "code",
   "execution_count": null,
   "id": "b432d422-4514-4bb4-b36d-0938d6d1db1c",
   "metadata": {},
   "outputs": [],
   "source": []
  }
 ],
 "metadata": {
  "kernelspec": {
   "display_name": "Python 3 (ipykernel)",
   "language": "python",
   "name": "python3"
  },
  "language_info": {
   "codemirror_mode": {
    "name": "ipython",
    "version": 3
   },
   "file_extension": ".py",
   "mimetype": "text/x-python",
   "name": "python",
   "nbconvert_exporter": "python",
   "pygments_lexer": "ipython3",
   "version": "3.10.6"
  }
 },
 "nbformat": 4,
 "nbformat_minor": 5
}
