{
 "cells": [
  {
   "cell_type": "code",
   "execution_count": 1,
   "metadata": {},
   "outputs": [
    {
     "name": "stderr",
     "output_type": "stream",
     "text": [
      "/data/seongilpark/conda_envs/ft/lib/python3.10/site-packages/tqdm/auto.py:21: TqdmWarning: IProgress not found. Please update jupyter and ipywidgets. See https://ipywidgets.readthedocs.io/en/stable/user_install.html\n",
      "  from .autonotebook import tqdm as notebook_tqdm\n",
      "/data/seongilpark/conda_envs/ft/lib/python3.10/site-packages/transformers/utils/hub.py:123: FutureWarning: Using `TRANSFORMERS_CACHE` is deprecated and will be removed in v5 of Transformers. Use `HF_HOME` instead.\n",
      "  warnings.warn(\n"
     ]
    }
   ],
   "source": [
    "from datasets import load_dataset\n",
    "import pandas as pd\n",
    "import json\n",
    "from datasets import Dataset, DatasetDict, concatenate_datasets\n",
    "import spacy\n",
    "import joblib"
   ]
  },
  {
   "cell_type": "code",
   "execution_count": null,
   "metadata": {},
   "outputs": [],
   "source": [
    "def sample_print(dataset, col, subset, n=5):\n",
    "    for i in range(n):\n",
    "        print(dataset[col][i])"
   ]
  },
  {
   "cell_type": "code",
   "execution_count": 20,
   "metadata": {},
   "outputs": [
    {
     "name": "stderr",
     "output_type": "stream",
     "text": [
      "Downloading readme: 100%|██████████| 435/435 [00:00<00:00, 2.29MB/s]\n",
      "Downloading data: 100%|██████████| 118M/118M [00:25<00:00, 4.54MB/s] \n",
      "Downloading data: 100%|██████████| 366M/366M [01:21<00:00, 4.52MB/s] \n",
      "Downloading data: 100%|██████████| 144M/144M [00:32<00:00, 4.37MB/s] \n",
      "Generating train split: 100%|██████████| 528863/528863 [00:02<00:00, 191790.19 examples/s]\n"
     ]
    }
   ],
   "source": [
    "dataset = load_dataset(\"Atipico1/mrqa_masked\", split=\"train\")"
   ]
  },
  {
   "cell_type": "code",
   "execution_count": 22,
   "metadata": {},
   "outputs": [],
   "source": [
    "df = pd.DataFrame(dataset)"
   ]
  },
  {
   "cell_type": "code",
   "execution_count": 32,
   "metadata": {},
   "outputs": [
    {
     "name": "stdout",
     "output_type": "stream",
     "text": [
      "[DOC] [TLE] President Gerald FordPresident Gerald Ford [PAR] Donald Trump [PAR] Key Dates [PAR] 1913 Born in Omaha, Nebraska. (His name then was Leslie Lynch King Jr. In 1916 he was adopted by his step father and his name was changed. [PAR] 1935 Gerald Ford graduated from the University of Michigan. [PAR] 1941 Ford graduated from the Yale Law School. [PAR] 1942 -46 He served in the Navy during WWII [PAR] 1948 Gerald Ford was elected to the U.S. House of Representatives. [PAR] 1964 Warren Commission which Ford served as a member concluded that there was no evidence of a conspiracy in the assassination of Kennedy. [PAR] 1972 Watergate break-in. [PAR] 1973 President Nixon appointed Ford as his Vice President. [PAR] 1974 Nixon resigned as President and Gerald Ford became President. [PAR] 1974 Ford pardoned Nixon. [PAR] 1976 Lost the presidential election to Jimmy Carter. [PAR] 1979 Ford published his memoir A Time to Heal. [PAR] 1980 Ford declined to serve as Reagan's vice president. [PAR] 1982 Betty and Gerald Ford open the Betty Ford Center. [PAR] 2001 Ex-President Ford receives the Profile in Courage Award form the John F. Kennedy Foundation. [PAR] 2006 Gerald Ford died. Surpassed Ronald Reagan as the nation's longest-lived president. [PAR] Gerald Rudolph. Ford [PAR] 38th President [PAR] Gerald was born in Omaha, Nebraska on July 14, 1913. [PAR] Gerald R. Ford Jr. was the only President born in Nebraska. He was also the only President that was a resident of Michigan. [PAR] He was named Leslie Lynch King, Jr. at birth. When his divorced mother remarried, he was adopted by his stepfather and named Gerald R. Ford after him. He was known as \"Jerry.\" President Ford didn't know he was adopted until he was 12 years old. A second source says 17 years old. [PAR] When his name was changed on December 3, 1935 his middle name was spelled Rudolf. However, Ford used the spelling Rudolph to give less of a German name. [PAR] Gerald Ford considered himself a Republican from a very young age.. [PAR] He was all city (Grand Rapids) and all state in football. He was the center on the University of Michigan Football Team. He also played linebacker. Ford was the MVP of the Michigan team. He was MVP on a team with a record of 1 and 7. [PAR] He then played on two national champion Michigan teams at center, but not as a starter. He was offered contracts to play football for the Detroit Lions and the Green Bay Packers. They offered to pay him $200 a game for a 14 game season. [PAR] Ford was one of three presidents who majored in economics while is college. George H. Bursh and Ronald Reagan were the others. [PAR] He married Elizabeth (Betty) Anne Bloomer on October 15, 1948. The next day they went to a University of Michigan football game as part of their Honeymoon. [PAR] Gerald Ford was the first President whose parents were divorced. [PAR] Ford was the first President to have been an Eagle Scout. [PAR] Gerald R. Ford once worked as a fashion model. Ford was a model for Cosmopolitan and Look magazines in the 1940's. [PAR] Ford studied law at Yale University. He graduated in the top third of his class. [PAR] Gerald enlisted in the Navy Reserves on April 20, 1942. [PAR] He served from 1942-1946 he served in the U.S. Navy during WW II. His ship took part in most of the major battles. (Wake Island, Okinawa, and the Philippines.) He was a decorated Naval officer. Gerald was awarded ten battle stars for naval battles in the pacific. [PAR] He is right-handed, but he wrote with his left hand. [PAR] He always signed his name Jerry Ford. [PAR] Ford smoked a pipe. [PAR] He won his first election to the House of Representatives in 1948 by getting 60% of the vote. That was his smallest margin of victory in his career as a Representative. He spent 24 years as a representative. [PAR] One of his professional goals was to became Speaker of the House. To reach that goal he worked to get a seat on the House Appropriations Committee. (Several Speakers of\n",
      "\n",
      "[DOC] [TLE] Missouri State Information Guide - EReferenceDeskMissouri State Guide: Colleges, Histories, Jobs, and Symbols [PAR] Capital: Jefferson City [PAR] August 10, 1821 (24th state) [PAR] Missouri is called the \"Show Me State,\" because its people have a reputation for believing only what they see. Its name is an Algonquin Indian term meaning     \"river of the big canoes.\" Originally home to a number of Indian tribes, the state entered the Union on August 10, 1821 as a slave state after an agreement known as the Missouri Compromise in which Maine was admitted as a free state. Today, more than half the population     lives in Missouri's two major cities--Kansas City and St. Louis. The dogwood is the Missouri state tree ,     the bluebird is the Missouri's state bird and the capital is Jefferson City. [PAR] Missouri State State Resources and State Information [PAR] Missouri Almanac: Facts and Figures, Economy, and Geography[DOC] [TLE] August 10, 1821 – Missouri is admitted as the 24th U.S. state.August 10, 1821 ï¿½ Missouri is admitted as the 24th U.S. state. - Democratic Underground [PAR] Sherman A1 (18,724 posts) [PAR] August 10, 1821 ï¿½ Missouri is admitted as the 24th U.S. state. [PAR] Missouri (see pronunciations)ï¿½nicknamed The Show-Me Stateï¿½is a U.S. state located in the Midwestern United States. Missouri is the 21st most extensive and the 18th most populous of the 50 United States. Missouri comprises 114 counties and the independent city of St. Louis. [PAR] The four largest urban areas are St. Louis, Kansas City, Springfield, and Columbia. Missouri's capital is Jefferson City. The land that is now Missouri was acquired from France as part of the Louisiana Purchase and became known as the Missouri Territory. Part of the Territory was admitted into the union as the 24th state on August 10, 1821. [PAR] Missouri's geography is highly varied. The northern part of the state lies in dissected till plains while the southern part lies in the Ozark Mountains (a dissected plateau), with the Missouri River dividing the two. The state lies at the intersection of the three greatest rivers of North America, with the confluence of the Mississippi and Missouri Rivers near St. Louis, and the confluence of the Ohio River with the Mississippi north of the Bootheel. The starting points of the Pony Express and Oregon Trail were both in Missouri. The mean center of United States population as of the 2010 Census is at the town of Plato in Texas County. [PAR] Ethnically, the majority of Missourians are of German descent.[DOC] [TLE] Missouri is the 24th State Admitted to the Union | World ...Missouri is the 24th State Admitted to the Union | World History Project [PAR] Missouri is the 24th State Admitted to the Union [PAR] On August 10, 1821, Missouri entered the Union as the twenty-fourth state. [PAR] Named after the Native American people who originally inhabited the land, Missouri was acquired by the U.S. as part of the 1803 Louisiana Purchase. At that time, the territory's occupants were mainly French settlers. After the War of 1812, American settlers poured into the region. [PAR] In 1818, the Speaker of the House of Representatives presented the first petition of the Territory of Missouri requesting statehood. The question of Missouri's admission as a slave or free state led statesman Henry Clay to devise the Missouri Compromise of 1820, admitting Missouri as a slave state while admitting Maine as a free state, and prohibiting slavery in Louisiana Territory north of the parallel 36º 30', Missouri's southern border. [PAR] This resolution proved temporary. Congress passed the Compromise of 1850, a series of laws that amended the Fugitive Slave Act, abolished the slave trade in Washington, D.C., and admitted California to the Union as a free state. The Compromise of 1850 also established territorial governments in Utah and New Mexico, but left the issue of slavery in the new territories to be decided by the local residents. In 1854, the Kansas-Nebraska Act served to abrogate the Missouri Compromise. And in 1857, as a part of the Dred Scott decision, the U.S. Supreme Court declared the compromise unconstitutional by ruling that Congress had no power to bar slavery from a territory,\n",
      "\n",
      "[DOC] [TLE] Charles Lindbergh (Aviator) - Pics, Videos, Dating, & NewsCharles Lindbergh (Aviator) - Pics, Videos, Dating, & News [PAR] Charles Lindbergh [PAR] Male [PAR] Born Feb 4, 1902 [PAR] Charles Augustus Lindbergh (nicknamed \"Slim\", \"Lucky Lindy\", and \"The Lone Eagle\") was an American aviator, author, inventor, explorer, and social activist. As a 25-year-old U.S. [PAR] related links [PAR] Lindbergh Links: Reinvention Has A Long History Along The Boulevard   Patch.Com [PAR] Google News - Aug 26, 2011 [PAR] 'On this anniversary of namesake <mark>Charles Lindbergh</mark>&#39;s death, we wanted to take a look at this road from our nine different perspectives. Each Patch editor has a different take on how Lindbergh touches that community. Drive along with us through our' [PAR] Group Rooted In Interest In Historic Events   Wilkes Barre Times Leader [PAR] Google News - Aug 21, 2011 [PAR] 'This medallion honoring pioneer aviator <mark>Charles Lindbergh</mark> is embedded in concrete near the front porch steps of the home of Fred Walters in Shavertown, Kingston Township. Lindbergh once visited the Wyoming Valley. Walters&#39; group did a presentation' [PAR] Fly In: Vintage Warbirds And A Lindbergh   Arizona Republic [PAR] Google News - Aug 20, 2011 [PAR] '20, 2011 12:00 AM Few pilots have garnered more fame than <mark>Charles Lindbergh</mark>. The celebrated aviator made the first solo non-stop flight across the Atlantic Ocean His grandson Erik Lindbergh will be a guest speaker at the seventh annual Thunder Over the' [PAR] French Connection In Little Falls Continues To Flourish   Brainerd Daily Dispatch [PAR] Google News - Aug 19, 2011 [PAR] 'The connection between Little Falls and LeBourget goes back to 1927 when Little Falls resident <mark>Charles Lindbergh</mark> landed his Spirit of St. Louis airplane at LeBourget Field, near Paris. The trip marked the world&#39;s first solo transatlantic flight' [PAR] Learn about the memorable moments in the evolution of Charles Lindbergh. [PAR] CHILDHOOD [PAR] …  [PAR] He was buried on the grounds of the Palapala Ho'omau Church in Kipahulu, Maui. Read Less [PAR] His epitaph, on a simple stone following the words \"Charles A. Lindbergh Born Michigan 1902 Died Maui 1974\", quotes Psalms 139:9: \" If I take the wings of the morning, and dwell in the uttermost parts of the sea... … Read More [PAR] C.A.L.\" On May 8, 1928 a statue was dedicated at the entrance to Le Bourget Airport in Paris honoring Lindbergh and his New York to Paris flight as well as Charles Nungesser and Francois Coli who attempted the same feat two weeks earlier in the other direction aboard L'Oiseau Blanc (The White Bird), disappearing without a trace.<br /><br /> In the United States, Terminal 1-Lindbergh at MinneapolisâSaint Paul International Airport was named after him, and a replica of the Spirit of St. Louis hangs there. Another such replica hangs in the great hall of the Missouri History Museum in St. Louis. The definitive oil painting of Lindbergh by St. Louisan Richard Krause entitled \"The Spirit Soars\" has been displayed there. San Diego's Lindbergh Field, which is also known as San Diego International Airport, was named after him and also displays a replica of the San Diego-built Ryan NYP Spirit of St. Louis. The airport in Winslow, Arizona has also been renamed Winslow-Lindbergh Regional. Lindbergh himself designed the airport in 1929 when it was built as a refueling point for the first coast-to-coast air service. Among the many airports and air facilities that bear his name, the airport in Little Falls, Minnesota, where he grew up, has been named Little Falls/Morrison County-Lindbergh Field. Read Less [PAR] Although born in Detroit, Michigan, on February 4, 1902, Lindbergh spent most of his childhood in Little Falls, Minnesota, and Washington, D.C. He was the third child of Charles August Lindbergh (birth name Carl MÃ¥nsson; 1859â1924) who had emigrated from Sweden to Melrose, Minnesota as an infant, and his only child with his second wife, Evangeline Lodge Land Lindbergh (1876â1954), of Detroit. … Read More [PAR] Charles' parents\n",
      "\n",
      "[DOC] [TLE] The Bodyguard (1992 film) - The Movies Wiki - WikiaThe Bodyguard (1992 film) | The Movies Wiki | Fandom powered by Wikia [PAR] The Bodyguard (1992 film) [PAR] $410,945,720 [2] [PAR] The Bodyguard is a 1992 American romantic thriller film starring Kevin Costner and Whitney Houston . Costner stars as a former Secret Service Agent-turned- bodyguard who is hired to protect Houston's character, a music star, from an unknown stalker. Lawrence Kasdan wrote the film in the 1970s, originally as a vehicle for Steve McQueen and Diana Ross . [3] It was directed by Mick Jackson . This film was Houston's acting debut. It was the second-highest-grossing film worldwide of 1992, right behind Aladdin . The soundtrack became the best-selling soundtrack of all time, selling more than 45 million copies worldwide. [4] [PAR] Contents [PAR] Edit [PAR] Rachel Marron ( Whitney Houston ) is an Oscar -nominated music and movie superstar who is being stalked and sent death threats. Frank Farmer ( Kevin Costner ) is a former Secret Service Special Agent who served as part of the presidential protection detail during the presidencies of Jimmy Carter and Ronald Reagan . Frank is haunted by the fact that he was off duty when Reagan was shot . He is now a highly successful private and professional bodyguard who protects corporate VIPs. He is hired by Rachel's manager, Bill Devaney ( Bill Cobbs ), to protect her after she receives a number of threats against her life, and a small bomb detonates in her dressing room. [5] [PAR] The film follows Rachel's singing career and family life. Frank is unsure about accepting the job because he sees Rachel as a spoiled diva who is oblivious to the threats, not knowing that Rachel's handlers had withheld the bomb in the dressing room from her. At first, Rachel looks upon Frank as paranoid, and his techniques intrusive. Rachel's bodyguard Tony ( Mike Starr ) also resents Frank's presence, leading to a fight in which Frank coldly and efficiently beats Tony. But at a concert where Rachel is performing a riot breaks out and Frank successfully escorts her to safety; as a result, Rachel falls in love with Frank. He initially tries to keep the relationship professional, but the two eventually sleep together. However, recognizing that their relationship may compromise his judgement, Frank breaks off the affair. Hurt, Rachel begins to push Frank's buttons by violating their security routines and attempting to sleep with his former Secret Service partner, Greg Portman ( Tomas Arana ). After she has personal contact with her stalker via a harassing phone call, Rachel realizes that she must put her trust in Frank ahead of her own desire for success. She finally recognizes the seriousness of the situation and cancels the rest of her tour. [PAR] Frank, Rachel, Rachel's driver Henry ( Christopher Birt ), Rachel's son Fletcher ( DeVaughn Nixon ), and her sister Nikki ( Michele Lamar Richards ) then travel to Frank's father's home, which is a large log cabin in the mountains by a lake. Frank's dad, Herb ( Ralph Waite ) is a semi-retired attorney who welcomes the group to his home. At the mountain retreat, Nikki attempts to seduce Frank, and becomes angry when her advances are refused. Fletcher is almost killed the next day, when a bomb explodes inside the boat he had been riding in moments before. After finding footprints around the cabin, and the automobiles sabotaged, they realize Rachel's stalker has followed them. [PAR] They lock down the house for the night, with plans to leave in the morning. It is revealed that Rachel's obsessive stalker and the person trying to kill her are not the same person, when an upset and drunken Nikki admits that in a drug-induced jealous fit she hired a hitman to kill Rachel, but the letters from the stalker began before. After Fletcher was almost killed, Nikki realized the hitman she hired would kill anyone to get to his target, including her nephew. However, she cannot call it off because she does not know the killer's identity. [PAR] The hitman breaks into the house; Nikki tries\n",
      "\n",
      "[DOC] [TLE] THE ARCHIES - SUGAR SUGAR - YouTubeTHE ARCHIES - SUGAR SUGAR - YouTube [PAR] THE ARCHIES - SUGAR SUGAR [PAR] Want to watch this again later? [PAR] Sign in to add this video to a playlist. [PAR] Need to report the video? [PAR] Sign in to report inappropriate content. [PAR] Rating is available when the video has been rented. [PAR] This feature is not available right now. Please try again later. [PAR] Uploaded on Oct 24, 2009 [PAR] Classics 60's 70's[DOC] [TLE] Sugar, Sugar\"Sugar, Sugar\" is a pop song written by Jeff Barry and Andy Kim.  It was originally recorded by the Archies, a bubblegum pop band formed by a group of fictional teenagers in the television cartoon series The Archie Show. It reached number one in the US on the Billboard Hot 100 chart in 1969 and stayed there for four weeks. It was also number one on the UK Singles chart in that same year for eight weeks. The song became a hit again in 1970 when rhythm and blues and soul singer Wilson Pickett took it back onto the charts. [PAR] The Archies version [PAR] Background [PAR] \"Sugar, Sugar\" by the Archies was produced by Jeff Barry, and the song was originally released on the album Everything's Archie. The album is the product of a group of studio musicians managed by Don Kirshner. Ron Dante's lead vocals were accompanied by those of Toni Wine (who sang the line \"I'm gonna make your life so sweet\"), and Andy Kim. Together they provided the voices of the Archies using multitracking. [PAR] The song was initially released in late May 1969, on the Calendar label (the same label as the two previous Archies singles), achieving moderate chart success in the early summer in some radio markets, and was re-released mid-July 1969, on the Kirshner label, whereby it then attained massive success nationwide by late summer/early fall. [PAR] Upon its initial release, Kirshner had promotion men play it for radio station execs without telling them the name of the group (due to the disappointing chart performance of the Archies' previous single, \"Feelin' So Good (S.k.o.o.b.y-D.o.o.)\", which only went to number 53 on the Billboard Hot 100 charts). Only after most of the DJs liked the song were they told that it was performed by a cartoon group. The Archies' hit wound up as one of the biggest (and most unexpected) number-one hits of the year, one of the biggest bubblegum hits of all time, in America thanks partly to association with the hit CBS-TV Saturday morning cartoon series. [PAR] \"Sugar, Sugar\" is also considered to be the most produced recording ever after the breakfast cereal company Post Cereal placed millions of the records on the back of their Super Sugar Crisp cereal boxes.  [PAR] In 2014, \"Sugar, Sugar\" was used in the documentary Fed Up during a montage demonstrating the correlation between the large qualities of sugar in processed foods and obesity in the United States. [PAR] The song is said to have been earlier offered to The Monkees, although songwriter Jeff Barry denies this.  Don Kirshner has said that Mike Nesmith put his fist through the wall of the Beverly Hills Hotel refusing to do \"Sugar, Sugar\".  However, the first incident took place in early 1967, whereas \"Sugar, Sugar\" was written in early 1969. Monkees archival expert Andrew Sandoval has suggested that the band may instead actually have been offered a tune called \"Sugar Man\", but with the passage of time the parties involved simply mis-remembered it as being \"Sugar, Sugar\", in large part because it made a better anecdote. Peter Tork claimed in an interview that the band were offered the song \"Sugar, Sugar\", despite Jeff Barry's denial of this. [PAR] Reception [PAR] The Archies' \"Sugar, Sugar\" was the 1969 number-one single of the year. A week after topping the RPM 100 national singles chart in Canada on September 13, 1969 (where it spent three weeks), it went on to spend four weeks at the top of the U.S.\n",
      "\n",
      "[DOC] [TLE] Otis Redding Biography (Singer/Songwriter) - infoplease.comOtis Redding Biography (Singer/Songwriter) [PAR] Birthplace: Dawson, Georgia [PAR] Best known as: Soul singer who did \"(Sittin' On) The Dock of the Bay\" [PAR] Otis Redding was a black soul singer who died in a plane crash in 1967, just before the release of what turned out to be his biggest hit, \"(Sittin' On) The Dock of the Bay.\"  Redding grew up in Macon, Georgia, where he became a hometown favorite because of his passionate performances.  In 1962 he recorded his own ballad, \"These Arms of Mine,\" a minor hit that gave him credibility as a recording artist.  Redding had more than a dozen hits on the R&B charts, but crossing over to mainstream pop proved more difficult, despite popular covers of Sam Cooke's \"Shake\" (1967) and The Rolling Stones' \"Satisfaction\" (1966).  His performance at the 1967 Monterey Pop Festival boosted his profile with white audiences and Redding was well on his way to becoming a superstar, as both a performer and songwriter (he wrote Aretha Franklin 's hit \"Respect\").  But on 10 December 1967 Redding's private plane crashed in Lake Monona outside Madison, Wisconsin, killing him and four members of his backing group.  His other hit songs include \"I've Been Loving You Too Long,\" \"I Can't Turn You Loose\" and \"Try a Little Tenderness.\" [PAR] Copyright © 1998-2017   by Who2?, LLC. All rights reserved.[DOC] [TLE] Otis Redding Biography (Singer/Songwriter) - Fact MonsterOtis Redding Biography (Singer/Songwriter) [PAR] Birthplace: Dawson, Georgia [PAR] Best known as: Soul singer who did \"(Sittin' On) The Dock of the Bay\" [PAR] Otis Redding was a black soul singer who died in a plane crash in 1967, just before the release of what turned out to be his biggest hit, \"(Sittin' On) The Dock of the Bay.\"  Redding grew up in Macon, Georgia, where he became a hometown favorite because of his passionate performances.  In 1962 he recorded his own ballad, \"These Arms of Mine,\" a minor hit that gave him credibility as a recording artist.  Redding had more than a dozen hits on the R&B charts, but crossing over to mainstream pop proved more difficult, despite popular covers of Sam Cooke's \"Shake\" (1967) and The Rolling Stones' \"Satisfaction\" (1966).  His performance at the 1967 Monterey Pop Festival boosted his profile with white audiences and Redding was well on his way to becoming a superstar, as both a performer and songwriter (he wrote Aretha Franklin 's hit \"Respect\").  But on 10 December 1967 Redding's private plane crashed in Lake Monona outside Madison, Wisconsin, killing him and four members of his backing group.  His other hit songs include \"I've Been Loving You Too Long,\" \"I Can't Turn You Loose\" and \"Try a Little Tenderness.\" [PAR] Copyright © 1998-2017   by Who2?, LLC. All rights reserved. [PAR] Advertisement [PAR] Advertisement[DOC] [TLE] Otis Redding biography | birthday, trivia | American ...Otis Redding biography | birthday, trivia |  Georgian American Singer | Who2 [PAR] Songwriter [PAR]   [PAR] Otis Redding was a black soul singer who died in a plane crash in 1967, just before the release of what turned out to be his biggest hit, “(Sittin’ On) The Dock of the Bay.” Redding grew up in Macon, Georgia, where he became a hometown favorite because of his passionate performances.  In 1962 he recorded his own ballad, “These Arms of Mine,” a minor hit that gave him credibility as a recording artist.  Redding had more than a dozen hits on the R&B charts, but crossing over to mainstream pop proved more difficult, despite popular covers of Sam Cooke’s “Shake” (1967) and The Rolling Stones’ “Satisfaction” (1966).  His performance at the 1967\n",
      "\n",
      "[DOC] [TLE] Royal Gala « Agroskaner – Fruits and Veg from PolandRoyal Gala « Agroskaner – Fruits and Veg from Poland [PAR] Paton [PAR] Royal Gala [PAR] Apples are fruits eaten across the globe. Similarly, different varieties of apple trees also come from all parts of the world and the Gala Royal variety is a perfect example for that. Although it comes from New Zealand, it is also successfully grown in Poland. That is why you will find also this variety in our offer of apples from Poland. [PAR] Among our offer of fruits and vegetables export exporting apples is definitely our biggest enterprise. Thanks to a wide selection of apple varieties we can meet the expectations of each client. That is why, apart from offering typically Polish varieties, we also have apples of foreign origin, which are also eagerly chosen by consumers. [PAR] Gala Royal is a winter variety which was initially grown only in home gardens. Production on a larger scale began in the 1960s. With time numerous mutations of this variety have been developed, however it is Gala Royal that is most commonly chosen. It also keeps very well. [PAR] Characteristics of the Gala Royal variety: [PAR] shape: medium-sized and conical, sometimes somewhat oval [PAR] skin: smooth with a bright orange blush. These apples may occasionally crack near the petiole, which is characteristic for this variety [PAR] flesh: very crisp and juicy [PAR] flavour: sweet and spicy vinous, unique and very characteristic. [PAR] We invite you to cooperation. We are ready to help you in choosing the best varieties of apples, meeting all your expectations and needs.[DOC] [TLE] 06 Wilton Gala - Virtual Orchard06 Wilton Gala [PAR] AgFirst Consultants Hawke’s Bay Ltd. [PAR] New Zealand [PAR] The Orchardist [PAR] 1997 70(5):13-15. [PAR] With harvest over, it is time to scrutinize the results we obtained from the 1996/97 crop. [PAR] Small [PAR] fruit size has been a major feature of this year ’s crop and will have knocked the cream off grower [PAR] returns. [PAR] Pricing signals over the years show us that to be in the money with this variety we need to be [PAR] growing a large proportion of the crop in the 110 and larger fruit size counts. [PAR] This means having [PAR] mean fruit size of around 115 and certainly no smaller than 120. [PAR] In fact, going on the 1996 [PAR] returns there is a difference in return of around NZ$3.50 (one $NZ equals approximately [PAR] $US .53) per carton between a crop averaging 115 and one averaging 130. [PAR] If you can shift the [PAR] size up to near 100 count then you can lift your average return by a further $3.50 per carton. [PAR] Undoubtedly some yield will be shed in shifting size up to the 100 count range, but you have to [PAR] consider the effect harvesting and packing costs have on your net on the tree return to put the [PAR] yield-by-return equation into perspective. [PAR] Picking and packing costs for an export carton are about NZ$4.60, excluding packaging [PAR] materials. [PAR] If we take NZ$4.60 off the return to give an on-tree value ready to pick, the 130 count [PAR] crop is worth only NZ$7 per export carton whereas the 115 count crop would be worth [PAR] NZ$10.50 and the 100 count crop NZ$14 per export carton. [PAR] Put another way, to match the value [PAR] of a 2000 export carton/hectare (809 cartons/acre) crop of 100 count average fruit size, you [PAR] would need 2666 cartons/hectare (1079 cartons/acre) export of 115 count and a massive [PAR] 4000 cartons/hectare (1619 cartons/acre) of export at 130 count average. [PAR] Growing large export crops of small Royal Gala apples is great if you want to assist the [PAR] government in reducing the unemployment, but is a difficult way to make a living compared to [PAR] thinking smart and growing half the crop of large-sized fruit. [PAR] Furthermore, from what I have seen of Royal Gala in South Africa and South America, our [PAR] competitive advantage with this variety lies in growing it big because they are quite capable of [PAR] meeting the market demand for small Royal Gala without our help. [PAR] SMALL FRUIT SIZE PROBLEM THIS YEAR [PAR] Sure, we\n",
      "\n",
      "[DOC] [TLE] Name of the Week post on Henry - British Baby NamesName of the Week - British Baby Names [PAR] British Baby Names [PAR] Henry was a solid Norman favourite [PAR] which retained its heights for a millennia. [PAR] Can refined and friendly Henry ever make it back into the top 10?   [PAR]   [PAR] Origin: [PAR] Henry originates from the Old Germanic name Heimerich, composed of the elements heim \"home\" and rīhhi \"ruler\". It was Latinised as Henricus, from which came the French Henri which was brought to Britain by the Normans and later Anglicised as Henry.  [PAR] Usage: [PAR] Henry's use in Britain dates from the time of the Norman Conquest. Five Henrys are listed in the Domesday Book of 1086, and William the Conqueror even named one of his sons Henry (who later became Henry I). [PAR] The name was consistently popular through the Middle Ages; Redmond's popularity ranking, for example, puts Henry in the high position of #6 in England from 1377-81.  [PAR] The sheer number of surnames derived from Henry attest to the name's popularity. Variants include Henry, Henryson, Harris, Harrison, Herries, Henrie, Henderson, Halkin, Hawke, Hawkins, Penry, Parry and MacEanruig. [PAR] Though it later became considered a pet-form of the Henry, Harry was traditionally its vernacular form in English. In other words, though Henry was written, \"Harry\" or \"Herry\" was the common pronunciation. The great popularity of Harris and Harrison, in particular, is strong evidence that \"Harry,\" not \"Henry,\" was the Middle English pronunciation of Henry. *   [PAR] The medieval choice of pet-form for Henry was Hal, Hann or Henn, with Halkin, Hankin and Henriot as diminutives.  [PAR] From the 12th to the 16th century, England had eight kings to bear the name Henry, making it the most successful English regnal name to date. Smith Bannister's popularity rankings show how little change the name's general popularity saw during this period: [PAR] 1538-49: #7; 1550-9: #6; 1560-9: #6; 1570-9: #6; 1580-9: #7; 1590-9: #7; 1600-9: #8; 1610-9: #7; 1620-9: #9; 1630-9: #8; 1640-9: #9; 1650-9: #11; 1660-9: #9; 1670-9: #11; 1680-9: #11; 1690-1700: #11.  [PAR] Indeed, the name's popularity fluctuated very little from the 11th to the early 20th century. In 1880 , Henry ranked #8 in England and Wales with 14,761 births. It fell slightly to #10 (12,332 births) in 1890  and #13 (11,059 births) in 1900 . [PAR] Henry, like so many other perennial favourite boys' names — such as James, William, Thomas, George — began to wane in the 1950s, reaching its lowest point in the 1970s in England and Wales. Then, in 1984, the Prince and Princess of Wales named their second son Prince Henry Charles Albert David \"Harry\". By 1994, no doubt, in part, thanks to this royal boost, Henry was back in the Top 100. It has been steadily rising since.  [PAR] 1904: #17[DOC] [TLE] Name of the Week - British Baby NamesName of the Week - British Baby Names [PAR] British Baby Names [PAR] An old-fashioned, quintessentially English name, [PAR] given a modern twist by a wizard, a prince and a popstar. [PAR]   [PAR] Origin: [PAR] Though Harry is generally considered to be a diminutive of Henry, it was originally Henry's standard English vernacular form.  [PAR] The name originally started out as the Old High German name Heimerich, composed of the elements heim \"home\" and rīhhi\n",
      "\n",
      "[DOC] [TLE] Dr. A. Michael Powell's Molecular Composition PageDr. A. Michael Powell's Molecular Composition Page [PAR] Raven et al. (1999), p. 17 [PAR] SUMMARY [PAR] Six chemical elements make up 99% of the weight of all living matter: carbon, hydrogen, oxygen, nitrogen, phosphorus, sulfur. [PAR] Water makes up more than half of all living matter and more than 90% of the weight of most plant tissues. [PAR] Organic molecules: Contain carbon; synthesized by living cells; probably 10,000 different kinds of organic molecules are found in each living plant and animal cell; about 5000 in each bacterial cell.There a four great classes of organic compounds (primary compounds): carbohydrates (composed of sugars), lipids (most contain fatty acids), proteins (composed of amino acids), and nucleic acids (DNA and RNA, made up of nucleotides). CARBOHYDRATES: the most abundant organic molecules in nature; the primary energy-storage molecules in living organisms; important part of cell structure.Carbohydrates (saccharides) are formed from small molecules known as sugars: there are three main kinds of carbohydrates, classified according to the number of sugar subunits they contain: Monosaccharides: one sugar molecule; examples include glyceraldehyde, ribose, glucose, and fructose (see p. 19 for molecular structure of monosaccharides). Disaccharides: two sugar subunits linked together; examples include sucrose (table sugar), maltose (malt sugar), and lactose (milk sugar). Polysaccharides: contain 1OO's or 1000's of sugar subunits linked together; examples include starch, cellulose, and glycogen.Polymers are macromolecules that are made up of many similar or identical subunits; each subunit is a monomer; polymerization is the stepwise linking of monomers into polymers.Monosaccharides function as building blocks and as sources of energy; monosaccharides are the simplest carbohydrates; they are made up of linked carbon atoms to which hydrogen and oxygen atoms are attached in the proportion of one carbon atom: two hydrogen atoms: one oxygen atom; different monosaccharide molecules may contain from 3 to 7 carbon atoms (see p. 19 for molecular structure); monosaccharides are hydrophilic (\"water-loving\"), or soluble in water; the monosaccharide glucose in the form in which sugar is transported in the circulatory system of vertebrate animals.The disaccharide sucrose is a transport form of sugar in plants; sucrose is hydrophilic; a disaccharide is synthesized when two monosaccharides are linked together; the linking to two sugars is called dehydration synthesis, a condensation reaction, where a molecule or water is removed and a new bond is formed between the two sugars; the reverse reaction, hydrolysis, occurs when a disaccharide (or polysaccharide) is split into its monosaccharide subunits when a water molecule in added between two sugars.Polysaccharides function as storage forms of energy or as structural materials; starch is the primary storage polysaccharide in plants; starch consists of chains of glucose molecules; starch is stored as starch grain is cells; glycogen is the common storage polysaccharide in prokaryotes, fungi, and animals; glycogen consists of chains of glucose molecules; fructans are the principal storage polysaccharides in leaves and stems (fructans are water-soluble); cellulose, a polysaccharide, is the principal component of plant cell walls; half of all the organic carbon in the biosphere is contained in cellulose; cellulose is the most abundant organic compound known; wood is about 50% cellulose; cotton fibers are nearly pure cellulose; only a few organisms can produce the enzyme cellulase, which hydrolyzes cellulose ( certain prokaryotes, protozoans, and fungi, and very few animals, such as silverfish); chitin is the principal structural component of fungal cell walls. LIPIDS: fats and fatlike substances; generally they are hydrophobic and thus insoluble in water; lipids serve as energy storage molecules (fats and oils), and as structural molecules in the case of phospholipids and waxes.Fats and oils are triglycerides that store energy; fats and oils contain about three times as much energy as in carbohydrates and proteins; in plants fats and oils often are stored in seeds and fruits.Each different fat or oil (triglycerides) consist of three fatty acid molecules bonded to one glycerol molecule (\n",
      "\n",
      "[DOC] [TLE] Don't miss Kentucky Opera's \"The Marriage of Figaro\" [\"the ...Don't miss Kentucky Opera's \"The Marriage of Figaro\" [\"the day of madness\"] Nov. 18-20 (The Kentucky Center for the Performing Arts) [PAR] Don't miss Kentucky Opera's \"The Marriage of Figaro\" [\"the day of madness\"] Nov. 18-20 [PAR] Kentucky Opera presents [PAR] Sung in Italian with English supertitles [PAR] Part of The Brown-Forman 2011/2012 Season [PAR] Tickets start at $28 [PAR] Online ticketing and details [PAR] The Marriage of Figaro, also known as \"The Day of Madness,\" is a comic opera in four acts, composed by Mozart. This brand new production marks the beginning of Kentucky Opera's \"Mozart Cycle.\" [PAR] TMoF is based on a stage comedy that was originally banned in Vienna for making fun of the aristocracy. Considered dangerous in the decade prior to the French Revolution, TMoF is one of Mozart's most successful compositions and his first collaboration with Da Ponte. Mozart and Da Ponte later created \"Don Giovanni\" and \"Cosi fan tutte.\" [PAR] TMoF has a famously complicated plot. This video takes you through the highlights in a clever fashion: [PAR]   [PAR] Did you get all that? Would you be able to keep up if someone was telling you the story in Italian? Never fear! That's the beauty of English supertitles displayed on LED signs that hang above the stage. If you are able to process subtitles while watching your favorite foreign film, you'll have no trouble enjoying the comedy and farce in \"The Marriage of Figaro\" while also soaking up the gorgeous music and attending to the supertitles. (If you've not been to an opera performance in the Brown Theatre before, you'll have to trust us on this one.) [PAR] Joseph Mechavich, Kentucky Opera's principal conductor and musical director, compares Beaumarchais, the playwright behind the story that fuels TMoF, as the Salman Rushdie or Danielle Steele of his time. In this video, Meckavich also introduces the lead vocalists in this production and discusses the set design. The video serves as a great introduction to what will certainly be a memorable production. Enjoy! [PAR]   [DOC] [TLE] Wolfgang Amadeus Mozart | Biography, Facts, & Works ...Wolfgang Amadeus Mozart | Biography, Facts, & Works | Britannica.com [PAR] Wolfgang Amadeus Mozart [PAR] Alternative Titles: Joannes Chrysostomus Wolfgangus Theophilus Mozart, Johann Chrysostom Wolfgang Amadeus Mozart [PAR] Wolfgang Amadeus Mozart [PAR] Johann Chrysostom Wolfgang Amadeus Mozart [PAR] Joannes Chrysostomus Wolfgangus Theophilus Mozart [PAR] born [PAR] Johann Sebastian Bach [PAR] Wolfgang Amadeus Mozart, in full Johann Chrysostom Wolfgang Amadeus Mozart, baptized as Johannes Chrysostomus Wolfgangus Theophilus Mozart (born January 27, 1756, Salzburg, archbishopric of Salzburg [Austria]—died December 5, 1791, Vienna), Austrian composer, widely recognized as one of the greatest composers in the history of Western music . With Haydn and Beethoven he brought to its height the achievement of the Viennese Classical school. Unlike any other composer in musical history, he wrote in all the musical genres of his day and excelled in every one. His taste, his command of form , and his range of expression have made him seem the most universal of all composers; yet, it may also be said that his music was written to accommodate the specific tastes of particular audiences. [PAR] Wolfgang Amadeus Mozart, oil on canvas by Barbara Krafft, 1819. [PAR] Archive Iconografico, S.A./Corbis [PAR] Early life and works [PAR] Mozart most commonly called himself Wolfgang Amadé or Wolfgang Gottlieb. His father, Leopold , came from a family of good standing (from which he was estranged), which included architects and bookbinders. Leopold was the author of a famous violin-playing manual, which was published in the very year of Mozart’s birth. His mother, Anna Maria Pertl, was born of a middle-class family active in local administration. Mozart and his sister Maria Anna (“Nannerl”) were the only two of their seven children to survive. [PAR] The Mozart family: Wolfgang Amadeus Mozart (seated at piano) with his sister Maria Anna (left) and … [PAR] Photos.com\n",
      "\n"
     ]
    }
   ],
   "source": [
    "subset_name = \"TriviaQA-web\"\n",
    "sample_contexts = df[df.subset==subset_name].sample(1000).context.tolist()[:10]\n",
    "for sample in sample_contexts:\n",
    "    print(sample)\n",
    "    print()"
   ]
  },
  {
   "cell_type": "code",
   "execution_count": 17,
   "metadata": {},
   "outputs": [],
   "source": [
    "df = joblib.load(\"/data/seongilpark/mrqa_df.joblib\")"
   ]
  },
  {
   "cell_type": "code",
   "execution_count": 19,
   "metadata": {},
   "outputs": [
    {
     "name": "stderr",
     "output_type": "stream",
     "text": [
      "Creating parquet from Arrow format: 100%|██████████| 178/178 [00:01<00:00, 130.13ba/s]\n",
      "Creating parquet from Arrow format: 100%|██████████| 178/178 [00:01<00:00, 124.89ba/s]\n",
      "Uploading the dataset shards: 100%|██████████| 2/2 [01:03<00:00, 31.61s/it]\n"
     ]
    },
    {
     "data": {
      "text/plain": [
       "CommitInfo(commit_url='https://huggingface.co/datasets/Atipico1/unique_contexts/commit/cd1fe65dce4ce9b29a47c88b75dedf0e0865df26', commit_message='Upload dataset', commit_description='', oid='cd1fe65dce4ce9b29a47c88b75dedf0e0865df26', pr_url=None, pr_revision=None, pr_num=None)"
      ]
     },
     "execution_count": 19,
     "metadata": {},
     "output_type": "execute_result"
    }
   ],
   "source": [
    "context = list(set(df[\"norm_context\"]))\n",
    "Dataset.from_dict({\"context\":context}).push_to_hub(\"Atipico1/unique_contexts\")"
   ]
  },
  {
   "cell_type": "code",
   "execution_count": 5,
   "metadata": {},
   "outputs": [
    {
     "data": {
      "text/plain": [
       "354604"
      ]
     },
     "execution_count": 5,
     "metadata": {},
     "output_type": "execute_result"
    }
   ],
   "source": [
    "contexts = list(set(df.norm_context.tolist()))\n",
    "len(contexts)"
   ]
  },
  {
   "cell_type": "code",
   "execution_count": 6,
   "metadata": {},
   "outputs": [],
   "source": [
    "ctx2doc = dict()"
   ]
  },
  {
   "cell_type": "code",
   "execution_count": 8,
   "metadata": {},
   "outputs": [
    {
     "name": "stderr",
     "output_type": "stream",
     "text": [
      "  0%|          | 0/710 [00:00<?, ?it/s]"
     ]
    },
    {
     "name": "stderr",
     "output_type": "stream",
     "text": [
      "  0%|          | 2/710 [00:52<5:07:36, 26.07s/it]\n"
     ]
    },
    {
     "ename": "KeyboardInterrupt",
     "evalue": "",
     "output_type": "error",
     "traceback": [
      "\u001b[0;31m---------------------------------------------------------------------------\u001b[0m",
      "\u001b[0;31mKeyboardInterrupt\u001b[0m                         Traceback (most recent call last)",
      "Cell \u001b[0;32mIn[8], line 5\u001b[0m\n\u001b[1;32m      3\u001b[0m \u001b[38;5;28;01mfor\u001b[39;00m i \u001b[38;5;129;01min\u001b[39;00m tqdm(\u001b[38;5;28mrange\u001b[39m(\u001b[38;5;241m0\u001b[39m, \u001b[38;5;28mlen\u001b[39m(contexts), BATCH_SIZE)):\n\u001b[1;32m      4\u001b[0m     batch \u001b[38;5;241m=\u001b[39m contexts[i:i\u001b[38;5;241m+\u001b[39mBATCH_SIZE]\n\u001b[0;32m----> 5\u001b[0m     docs \u001b[38;5;241m=\u001b[39m \u001b[38;5;28;43mlist\u001b[39;49m\u001b[43m(\u001b[49m\u001b[43mnlp\u001b[49m\u001b[38;5;241;43m.\u001b[39;49m\u001b[43mpipe\u001b[49m\u001b[43m(\u001b[49m\u001b[43mbatch\u001b[49m\u001b[43m,\u001b[49m\u001b[43m \u001b[49m\u001b[43mbatch_size\u001b[49m\u001b[38;5;241;43m=\u001b[39;49m\u001b[43mBATCH_SIZE\u001b[49m\u001b[43m)\u001b[49m\u001b[43m)\u001b[49m\n\u001b[1;32m      6\u001b[0m     \u001b[38;5;28;01mfor\u001b[39;00m ctx, doc \u001b[38;5;129;01min\u001b[39;00m \u001b[38;5;28mzip\u001b[39m(batch, docs):\n\u001b[1;32m      7\u001b[0m         ctx2doc[ctx] \u001b[38;5;241m=\u001b[39m {\u001b[38;5;124m\"\u001b[39m\u001b[38;5;124mdoc\u001b[39m\u001b[38;5;124m\"\u001b[39m:doc}\n",
      "File \u001b[0;32m/data/seongilpark/conda_envs/ft/lib/python3.10/site-packages/spacy/language.py:1618\u001b[0m, in \u001b[0;36mLanguage.pipe\u001b[0;34m(self, texts, as_tuples, batch_size, disable, component_cfg, n_process)\u001b[0m\n\u001b[1;32m   1616\u001b[0m     \u001b[38;5;28;01mfor\u001b[39;00m pipe \u001b[38;5;129;01min\u001b[39;00m pipes:\n\u001b[1;32m   1617\u001b[0m         docs \u001b[38;5;241m=\u001b[39m pipe(docs)\n\u001b[0;32m-> 1618\u001b[0m \u001b[38;5;28;01mfor\u001b[39;00m doc \u001b[38;5;129;01min\u001b[39;00m docs:\n\u001b[1;32m   1619\u001b[0m     \u001b[38;5;28;01myield\u001b[39;00m doc\n",
      "File \u001b[0;32m/data/seongilpark/conda_envs/ft/lib/python3.10/site-packages/spacy/util.py:1685\u001b[0m, in \u001b[0;36m_pipe\u001b[0;34m(docs, proc, name, default_error_handler, kwargs)\u001b[0m\n\u001b[1;32m   1675\u001b[0m \u001b[38;5;28;01mdef\u001b[39;00m \u001b[38;5;21m_pipe\u001b[39m(\n\u001b[1;32m   1676\u001b[0m     docs: Iterable[\u001b[38;5;124m\"\u001b[39m\u001b[38;5;124mDoc\u001b[39m\u001b[38;5;124m\"\u001b[39m],\n\u001b[1;32m   1677\u001b[0m     proc: \u001b[38;5;124m\"\u001b[39m\u001b[38;5;124mPipeCallable\u001b[39m\u001b[38;5;124m\"\u001b[39m,\n\u001b[0;32m   (...)\u001b[0m\n\u001b[1;32m   1682\u001b[0m     kwargs: Mapping[\u001b[38;5;28mstr\u001b[39m, Any],\n\u001b[1;32m   1683\u001b[0m ) \u001b[38;5;241m-\u001b[39m\u001b[38;5;241m>\u001b[39m Iterator[\u001b[38;5;124m\"\u001b[39m\u001b[38;5;124mDoc\u001b[39m\u001b[38;5;124m\"\u001b[39m]:\n\u001b[1;32m   1684\u001b[0m     \u001b[38;5;28;01mif\u001b[39;00m \u001b[38;5;28mhasattr\u001b[39m(proc, \u001b[38;5;124m\"\u001b[39m\u001b[38;5;124mpipe\u001b[39m\u001b[38;5;124m\"\u001b[39m):\n\u001b[0;32m-> 1685\u001b[0m         \u001b[38;5;28;01myield from\u001b[39;00m proc\u001b[38;5;241m.\u001b[39mpipe(docs, \u001b[38;5;241m*\u001b[39m\u001b[38;5;241m*\u001b[39mkwargs)\n\u001b[1;32m   1686\u001b[0m     \u001b[38;5;28;01melse\u001b[39;00m:\n\u001b[1;32m   1687\u001b[0m         \u001b[38;5;66;03m# We added some args for pipe that __call__ doesn't expect.\u001b[39;00m\n\u001b[1;32m   1688\u001b[0m         kwargs \u001b[38;5;241m=\u001b[39m \u001b[38;5;28mdict\u001b[39m(kwargs)\n",
      "File \u001b[0;32m/data/seongilpark/conda_envs/ft/lib/python3.10/site-packages/spacy/pipeline/transition_parser.pyx:245\u001b[0m, in \u001b[0;36mpipe\u001b[0;34m()\u001b[0m\n",
      "File \u001b[0;32m/data/seongilpark/conda_envs/ft/lib/python3.10/site-packages/spacy/util.py:1632\u001b[0m, in \u001b[0;36mminibatch\u001b[0;34m(items, size)\u001b[0m\n\u001b[1;32m   1630\u001b[0m \u001b[38;5;28;01mwhile\u001b[39;00m \u001b[38;5;28;01mTrue\u001b[39;00m:\n\u001b[1;32m   1631\u001b[0m     batch_size \u001b[38;5;241m=\u001b[39m \u001b[38;5;28mnext\u001b[39m(size_)\n\u001b[0;32m-> 1632\u001b[0m     batch \u001b[38;5;241m=\u001b[39m \u001b[38;5;28;43mlist\u001b[39;49m\u001b[43m(\u001b[49m\u001b[43mitertools\u001b[49m\u001b[38;5;241;43m.\u001b[39;49m\u001b[43mislice\u001b[49m\u001b[43m(\u001b[49m\u001b[43mitems\u001b[49m\u001b[43m,\u001b[49m\u001b[43m \u001b[49m\u001b[38;5;28;43mint\u001b[39;49m\u001b[43m(\u001b[49m\u001b[43mbatch_size\u001b[49m\u001b[43m)\u001b[49m\u001b[43m)\u001b[49m\u001b[43m)\u001b[49m\n\u001b[1;32m   1633\u001b[0m     \u001b[38;5;28;01mif\u001b[39;00m \u001b[38;5;28mlen\u001b[39m(batch) \u001b[38;5;241m==\u001b[39m \u001b[38;5;241m0\u001b[39m:\n\u001b[1;32m   1634\u001b[0m         \u001b[38;5;28;01mbreak\u001b[39;00m\n",
      "File \u001b[0;32m/data/seongilpark/conda_envs/ft/lib/python3.10/site-packages/spacy/util.py:1685\u001b[0m, in \u001b[0;36m_pipe\u001b[0;34m(docs, proc, name, default_error_handler, kwargs)\u001b[0m\n\u001b[1;32m   1675\u001b[0m \u001b[38;5;28;01mdef\u001b[39;00m \u001b[38;5;21m_pipe\u001b[39m(\n\u001b[1;32m   1676\u001b[0m     docs: Iterable[\u001b[38;5;124m\"\u001b[39m\u001b[38;5;124mDoc\u001b[39m\u001b[38;5;124m\"\u001b[39m],\n\u001b[1;32m   1677\u001b[0m     proc: \u001b[38;5;124m\"\u001b[39m\u001b[38;5;124mPipeCallable\u001b[39m\u001b[38;5;124m\"\u001b[39m,\n\u001b[0;32m   (...)\u001b[0m\n\u001b[1;32m   1682\u001b[0m     kwargs: Mapping[\u001b[38;5;28mstr\u001b[39m, Any],\n\u001b[1;32m   1683\u001b[0m ) \u001b[38;5;241m-\u001b[39m\u001b[38;5;241m>\u001b[39m Iterator[\u001b[38;5;124m\"\u001b[39m\u001b[38;5;124mDoc\u001b[39m\u001b[38;5;124m\"\u001b[39m]:\n\u001b[1;32m   1684\u001b[0m     \u001b[38;5;28;01mif\u001b[39;00m \u001b[38;5;28mhasattr\u001b[39m(proc, \u001b[38;5;124m\"\u001b[39m\u001b[38;5;124mpipe\u001b[39m\u001b[38;5;124m\"\u001b[39m):\n\u001b[0;32m-> 1685\u001b[0m         \u001b[38;5;28;01myield from\u001b[39;00m proc\u001b[38;5;241m.\u001b[39mpipe(docs, \u001b[38;5;241m*\u001b[39m\u001b[38;5;241m*\u001b[39mkwargs)\n\u001b[1;32m   1686\u001b[0m     \u001b[38;5;28;01melse\u001b[39;00m:\n\u001b[1;32m   1687\u001b[0m         \u001b[38;5;66;03m# We added some args for pipe that __call__ doesn't expect.\u001b[39;00m\n\u001b[1;32m   1688\u001b[0m         kwargs \u001b[38;5;241m=\u001b[39m \u001b[38;5;28mdict\u001b[39m(kwargs)\n",
      "File \u001b[0;32m/data/seongilpark/conda_envs/ft/lib/python3.10/site-packages/spacy/pipeline/pipe.pyx:55\u001b[0m, in \u001b[0;36mpipe\u001b[0;34m()\u001b[0m\n",
      "File \u001b[0;32m/data/seongilpark/conda_envs/ft/lib/python3.10/site-packages/spacy/util.py:1685\u001b[0m, in \u001b[0;36m_pipe\u001b[0;34m(docs, proc, name, default_error_handler, kwargs)\u001b[0m\n\u001b[1;32m   1675\u001b[0m \u001b[38;5;28;01mdef\u001b[39;00m \u001b[38;5;21m_pipe\u001b[39m(\n\u001b[1;32m   1676\u001b[0m     docs: Iterable[\u001b[38;5;124m\"\u001b[39m\u001b[38;5;124mDoc\u001b[39m\u001b[38;5;124m\"\u001b[39m],\n\u001b[1;32m   1677\u001b[0m     proc: \u001b[38;5;124m\"\u001b[39m\u001b[38;5;124mPipeCallable\u001b[39m\u001b[38;5;124m\"\u001b[39m,\n\u001b[0;32m   (...)\u001b[0m\n\u001b[1;32m   1682\u001b[0m     kwargs: Mapping[\u001b[38;5;28mstr\u001b[39m, Any],\n\u001b[1;32m   1683\u001b[0m ) \u001b[38;5;241m-\u001b[39m\u001b[38;5;241m>\u001b[39m Iterator[\u001b[38;5;124m\"\u001b[39m\u001b[38;5;124mDoc\u001b[39m\u001b[38;5;124m\"\u001b[39m]:\n\u001b[1;32m   1684\u001b[0m     \u001b[38;5;28;01mif\u001b[39;00m \u001b[38;5;28mhasattr\u001b[39m(proc, \u001b[38;5;124m\"\u001b[39m\u001b[38;5;124mpipe\u001b[39m\u001b[38;5;124m\"\u001b[39m):\n\u001b[0;32m-> 1685\u001b[0m         \u001b[38;5;28;01myield from\u001b[39;00m proc\u001b[38;5;241m.\u001b[39mpipe(docs, \u001b[38;5;241m*\u001b[39m\u001b[38;5;241m*\u001b[39mkwargs)\n\u001b[1;32m   1686\u001b[0m     \u001b[38;5;28;01melse\u001b[39;00m:\n\u001b[1;32m   1687\u001b[0m         \u001b[38;5;66;03m# We added some args for pipe that __call__ doesn't expect.\u001b[39;00m\n\u001b[1;32m   1688\u001b[0m         kwargs \u001b[38;5;241m=\u001b[39m \u001b[38;5;28mdict\u001b[39m(kwargs)\n",
      "File \u001b[0;32m/data/seongilpark/conda_envs/ft/lib/python3.10/site-packages/spacy/pipeline/pipe.pyx:57\u001b[0m, in \u001b[0;36mpipe\u001b[0;34m()\u001b[0m\n",
      "File \u001b[0;32m/data/seongilpark/conda_envs/ft/lib/python3.10/site-packages/spacy/pipeline/attributeruler.py:142\u001b[0m, in \u001b[0;36mAttributeRuler.__call__\u001b[0;34m(self, doc)\u001b[0m\n\u001b[1;32m    140\u001b[0m error_handler \u001b[38;5;241m=\u001b[39m \u001b[38;5;28mself\u001b[39m\u001b[38;5;241m.\u001b[39mget_error_handler()\n\u001b[1;32m    141\u001b[0m \u001b[38;5;28;01mtry\u001b[39;00m:\n\u001b[0;32m--> 142\u001b[0m     matches \u001b[38;5;241m=\u001b[39m \u001b[38;5;28;43mself\u001b[39;49m\u001b[38;5;241;43m.\u001b[39;49m\u001b[43mmatch\u001b[49m\u001b[43m(\u001b[49m\u001b[43mdoc\u001b[49m\u001b[43m)\u001b[49m\n\u001b[1;32m    143\u001b[0m     \u001b[38;5;28mself\u001b[39m\u001b[38;5;241m.\u001b[39mset_annotations(doc, matches)\n\u001b[1;32m    144\u001b[0m     \u001b[38;5;28;01mreturn\u001b[39;00m doc\n",
      "File \u001b[0;32m/data/seongilpark/conda_envs/ft/lib/python3.10/site-packages/spacy/pipeline/attributeruler.py:149\u001b[0m, in \u001b[0;36mAttributeRuler.match\u001b[0;34m(self, doc)\u001b[0m\n\u001b[1;32m    148\u001b[0m \u001b[38;5;28;01mdef\u001b[39;00m \u001b[38;5;21mmatch\u001b[39m(\u001b[38;5;28mself\u001b[39m, doc: Doc):\n\u001b[0;32m--> 149\u001b[0m     matches \u001b[38;5;241m=\u001b[39m \u001b[38;5;28;43mself\u001b[39;49m\u001b[38;5;241;43m.\u001b[39;49m\u001b[43mmatcher\u001b[49m\u001b[43m(\u001b[49m\u001b[43mdoc\u001b[49m\u001b[43m,\u001b[49m\u001b[43m \u001b[49m\u001b[43mallow_missing\u001b[49m\u001b[38;5;241;43m=\u001b[39;49m\u001b[38;5;28;43;01mTrue\u001b[39;49;00m\u001b[43m,\u001b[49m\u001b[43m \u001b[49m\u001b[43mas_spans\u001b[49m\u001b[38;5;241;43m=\u001b[39;49m\u001b[38;5;28;43;01mFalse\u001b[39;49;00m\u001b[43m)\u001b[49m\n\u001b[1;32m    150\u001b[0m     \u001b[38;5;66;03m# Sort by the attribute ID, so that later rules have precedence\u001b[39;00m\n\u001b[1;32m    151\u001b[0m     matches \u001b[38;5;241m=\u001b[39m [\n\u001b[1;32m    152\u001b[0m         (\u001b[38;5;28mint\u001b[39m(\u001b[38;5;28mself\u001b[39m\u001b[38;5;241m.\u001b[39mvocab\u001b[38;5;241m.\u001b[39mstrings[m_id]), m_id, s, e) \u001b[38;5;28;01mfor\u001b[39;00m m_id, s, e \u001b[38;5;129;01min\u001b[39;00m matches  \u001b[38;5;66;03m# type: ignore\u001b[39;00m\n\u001b[1;32m    153\u001b[0m     ]\n",
      "\u001b[0;31mKeyboardInterrupt\u001b[0m: "
     ]
    }
   ],
   "source": [
    "from tqdm.auto import tqdm\n",
    "BATCH_SIZE = 500\n",
    "for i in tqdm(range(0, len(contexts), BATCH_SIZE)):\n",
    "    batch = contexts[i:i+BATCH_SIZE]\n",
    "    docs = list(nlp.pipe(batch, batch_size=BATCH_SIZE))\n",
    "    for ctx, doc in zip(batch, docs):\n",
    "        ctx2doc[ctx] = {\"doc\":doc}"
   ]
  },
  {
   "cell_type": "code",
   "execution_count": null,
   "metadata": {},
   "outputs": [],
   "source": []
  },
  {
   "cell_type": "code",
   "execution_count": 2,
   "metadata": {},
   "outputs": [],
   "source": [
    "mrqa = load_dataset(\"mrqa\")\n",
    "train, test, valid = mrqa[\"train\"], mrqa[\"test\"], mrqa[\"validation\"]\n",
    "total = concatenate_datasets([train, test, valid])"
   ]
  },
  {
   "cell_type": "code",
   "execution_count": 4,
   "metadata": {},
   "outputs": [
    {
     "data": {
      "text/plain": [
       "Dataset({\n",
       "    features: ['subset', 'context', 'question', 'answers'],\n",
       "    num_rows: 584673\n",
       "})"
      ]
     },
     "execution_count": 4,
     "metadata": {},
     "output_type": "execute_result"
    }
   ],
   "source": [
    "subset = total.remove_columns([\"context_tokens\", \"qid\", \"question_tokens\", \"detected_answers\"])\n",
    "subset"
   ]
  },
  {
   "cell_type": "code",
   "execution_count": 6,
   "metadata": {},
   "outputs": [
    {
     "data": {
      "text/plain": [
       "'what are you doing'"
      ]
     },
     "execution_count": 6,
     "metadata": {},
     "output_type": "execute_result"
    }
   ],
   "source": [
    "from src.utils import normalize_answer\n",
    "normalize_answer(\"What are you Doing?? \")"
   ]
  },
  {
   "cell_type": "code",
   "execution_count": 5,
   "metadata": {},
   "outputs": [],
   "source": [
    "df = pd.DataFrame(subset)"
   ]
  },
  {
   "cell_type": "code",
   "execution_count": 7,
   "metadata": {},
   "outputs": [],
   "source": [
    "df[\"norm_q\"] = df[\"question\"].apply(normalize_answer)"
   ]
  },
  {
   "cell_type": "code",
   "execution_count": 20,
   "metadata": {},
   "outputs": [
    {
     "data": {
      "text/html": [
       "<div>\n",
       "<style scoped>\n",
       "    .dataframe tbody tr th:only-of-type {\n",
       "        vertical-align: middle;\n",
       "    }\n",
       "\n",
       "    .dataframe tbody tr th {\n",
       "        vertical-align: top;\n",
       "    }\n",
       "\n",
       "    .dataframe thead th {\n",
       "        text-align: right;\n",
       "    }\n",
       "</style>\n",
       "<table border=\"1\" class=\"dataframe\">\n",
       "  <thead>\n",
       "    <tr style=\"text-align: right;\">\n",
       "      <th></th>\n",
       "      <th>count</th>\n",
       "    </tr>\n",
       "    <tr>\n",
       "      <th>subset</th>\n",
       "      <th></th>\n",
       "    </tr>\n",
       "  </thead>\n",
       "  <tbody>\n",
       "    <tr>\n",
       "      <th>SearchQA</th>\n",
       "      <td>134364</td>\n",
       "    </tr>\n",
       "    <tr>\n",
       "      <th>NaturalQuestionsShort</th>\n",
       "      <td>116907</td>\n",
       "    </tr>\n",
       "    <tr>\n",
       "      <th>SQuAD</th>\n",
       "      <td>97095</td>\n",
       "    </tr>\n",
       "    <tr>\n",
       "      <th>HotpotQA</th>\n",
       "      <td>78829</td>\n",
       "    </tr>\n",
       "    <tr>\n",
       "      <th>NewsQA</th>\n",
       "      <td>78372</td>\n",
       "    </tr>\n",
       "    <tr>\n",
       "      <th>TriviaQA-web</th>\n",
       "      <td>69473</td>\n",
       "    </tr>\n",
       "    <tr>\n",
       "      <th>RelationExtraction</th>\n",
       "      <td>2948</td>\n",
       "    </tr>\n",
       "    <tr>\n",
       "      <th>BioASQ</th>\n",
       "      <td>1504</td>\n",
       "    </tr>\n",
       "    <tr>\n",
       "      <th>DROP</th>\n",
       "      <td>1503</td>\n",
       "    </tr>\n",
       "    <tr>\n",
       "      <th>TextbookQA</th>\n",
       "      <td>1503</td>\n",
       "    </tr>\n",
       "    <tr>\n",
       "      <th>DuoRC.ParaphraseRC</th>\n",
       "      <td>1501</td>\n",
       "    </tr>\n",
       "    <tr>\n",
       "      <th>RACE</th>\n",
       "      <td>674</td>\n",
       "    </tr>\n",
       "  </tbody>\n",
       "</table>\n",
       "</div>"
      ],
      "text/plain": [
       "                        count\n",
       "subset                       \n",
       "SearchQA               134364\n",
       "NaturalQuestionsShort  116907\n",
       "SQuAD                   97095\n",
       "HotpotQA                78829\n",
       "NewsQA                  78372\n",
       "TriviaQA-web            69473\n",
       "RelationExtraction       2948\n",
       "BioASQ                   1504\n",
       "DROP                     1503\n",
       "TextbookQA               1503\n",
       "DuoRC.ParaphraseRC       1501\n",
       "RACE                      674"
      ]
     },
     "execution_count": 20,
     "metadata": {},
     "output_type": "execute_result"
    }
   ],
   "source": [
    "df[\"subset\"].value_counts().to_frame()"
   ]
  },
  {
   "cell_type": "code",
   "execution_count": 9,
   "metadata": {},
   "outputs": [],
   "source": [
    "sub_df = df.drop_duplicates(subset=[\"norm_q\"])"
   ]
  },
  {
   "cell_type": "code",
   "execution_count": 10,
   "metadata": {},
   "outputs": [
    {
     "name": "stderr",
     "output_type": "stream",
     "text": [
      "/data/seongilpark/conda_envs/ft/lib/python3.10/site-packages/transformers/utils/hub.py:123: FutureWarning: Using `TRANSFORMERS_CACHE` is deprecated and will be removed in v5 of Transformers. Use `HF_HOME` instead.\n",
      "  warnings.warn(\n"
     ]
    }
   ],
   "source": [
    "questions = sub_df.question.tolist()\n"
   ]
  },
  {
   "cell_type": "code",
   "execution_count": 13,
   "metadata": {},
   "outputs": [
    {
     "name": "stderr",
     "output_type": "stream",
     "text": [
      "100%|██████████| 284/284 [58:37<00:00, 12.38s/it]\n"
     ]
    }
   ],
   "source": [
    "from tqdm.auto import tqdm\n",
    "from preprocess import masking\n",
    "BATCH_SIZE = 2000\n",
    "result = []\n",
    "for i in tqdm(range(0, len(questions), BATCH_SIZE)):\n",
    "    batch = questions[i : i + BATCH_SIZE]\n",
    "    docs = list(nlp.pipe(batch, batch_size=BATCH_SIZE))\n",
    "    masked_quries = [masking(doc) for doc in docs]\n",
    "    result.extend(masked_quries)"
   ]
  },
  {
   "cell_type": "code",
   "execution_count": 26,
   "metadata": {},
   "outputs": [
    {
     "data": {
      "text/html": [
       "<div>\n",
       "<style scoped>\n",
       "    .dataframe tbody tr th:only-of-type {\n",
       "        vertical-align: middle;\n",
       "    }\n",
       "\n",
       "    .dataframe tbody tr th {\n",
       "        vertical-align: top;\n",
       "    }\n",
       "\n",
       "    .dataframe thead th {\n",
       "        text-align: right;\n",
       "    }\n",
       "</style>\n",
       "<table border=\"1\" class=\"dataframe\">\n",
       "  <thead>\n",
       "    <tr style=\"text-align: right;\">\n",
       "      <th></th>\n",
       "      <th>subset</th>\n",
       "      <th>context</th>\n",
       "      <th>question</th>\n",
       "      <th>answers</th>\n",
       "      <th>masked_q</th>\n",
       "    </tr>\n",
       "  </thead>\n",
       "  <tbody>\n",
       "    <tr>\n",
       "      <th>0</th>\n",
       "      <td>SQuAD</td>\n",
       "      <td>Architecturally, the school has a Catholic cha...</td>\n",
       "      <td>To whom did the Virgin Mary allegedly appear i...</td>\n",
       "      <td>[Saint Bernadette Soubirous]</td>\n",
       "      <td>To whom did the Virgin Mary allegedly appear i...</td>\n",
       "    </tr>\n",
       "    <tr>\n",
       "      <th>1</th>\n",
       "      <td>SQuAD</td>\n",
       "      <td>Architecturally, the school has a Catholic cha...</td>\n",
       "      <td>What is in front of the Notre Dame Main Building?</td>\n",
       "      <td>[a copper statue of Christ]</td>\n",
       "      <td>What is in front of [MASK]?</td>\n",
       "    </tr>\n",
       "    <tr>\n",
       "      <th>2</th>\n",
       "      <td>SQuAD</td>\n",
       "      <td>Architecturally, the school has a Catholic cha...</td>\n",
       "      <td>The Basilica of the Sacred heart at Notre Dame...</td>\n",
       "      <td>[the Main Building]</td>\n",
       "      <td>[MASK] at [MASK] is beside to which structure?</td>\n",
       "    </tr>\n",
       "    <tr>\n",
       "      <th>3</th>\n",
       "      <td>SQuAD</td>\n",
       "      <td>Architecturally, the school has a Catholic cha...</td>\n",
       "      <td>What is the Grotto at Notre Dame?</td>\n",
       "      <td>[a Marian place of prayer and reflection]</td>\n",
       "      <td>What is the Grotto at [MASK]?</td>\n",
       "    </tr>\n",
       "    <tr>\n",
       "      <th>4</th>\n",
       "      <td>SQuAD</td>\n",
       "      <td>Architecturally, the school has a Catholic cha...</td>\n",
       "      <td>What sits on top of the Main Building at Notre...</td>\n",
       "      <td>[a golden statue of the Virgin Mary]</td>\n",
       "      <td>What sits on top of [MASK] at [MASK]?</td>\n",
       "    </tr>\n",
       "    <tr>\n",
       "      <th>...</th>\n",
       "      <td>...</td>\n",
       "      <td>...</td>\n",
       "      <td>...</td>\n",
       "      <td>...</td>\n",
       "      <td>...</td>\n",
       "    </tr>\n",
       "    <tr>\n",
       "      <th>528858</th>\n",
       "      <td>NaturalQuestionsShort</td>\n",
       "      <td>&lt;P&gt; Throughout the novel , Junior shares his d...</td>\n",
       "      <td>where does junior want to go to find hope</td>\n",
       "      <td>[off the rez]</td>\n",
       "      <td>where does junior want to go to find hope</td>\n",
       "    </tr>\n",
       "    <tr>\n",
       "      <th>528859</th>\n",
       "      <td>NaturalQuestionsShort</td>\n",
       "      <td>&lt;P&gt; Acceding to the throne in 1888 , he dismis...</td>\n",
       "      <td>what happened to germany 's leader after ww1</td>\n",
       "      <td>[he lost the support of the army , abdicated i...</td>\n",
       "      <td>what happened to [MASK] 's leader after [MASK]</td>\n",
       "    </tr>\n",
       "    <tr>\n",
       "      <th>528860</th>\n",
       "      <td>NaturalQuestionsShort</td>\n",
       "      <td>&lt;Table&gt; Michigan State -- Notre Dame football ...</td>\n",
       "      <td>when will notre dame played michigan state again</td>\n",
       "      <td>[2026]</td>\n",
       "      <td>when will [MASK] played [MASK] again</td>\n",
       "    </tr>\n",
       "    <tr>\n",
       "      <th>528861</th>\n",
       "      <td>NaturalQuestionsShort</td>\n",
       "      <td>&lt;P&gt; Due to Eric 's departure from the show at ...</td>\n",
       "      <td>who does eric end up with in that 70s show</td>\n",
       "      <td>[Donna]</td>\n",
       "      <td>who does [MASK] end up with in that [MASK] show</td>\n",
       "    </tr>\n",
       "    <tr>\n",
       "      <th>528862</th>\n",
       "      <td>NaturalQuestionsShort</td>\n",
       "      <td>&lt;Table&gt; Longest main - stem rivers of the Unit...</td>\n",
       "      <td>what is the longest river in the united states</td>\n",
       "      <td>[Missouri River]</td>\n",
       "      <td>what is the longest river in [MASK]</td>\n",
       "    </tr>\n",
       "  </tbody>\n",
       "</table>\n",
       "<p>528863 rows × 5 columns</p>\n",
       "</div>"
      ],
      "text/plain": [
       "                       subset  \\\n",
       "0                       SQuAD   \n",
       "1                       SQuAD   \n",
       "2                       SQuAD   \n",
       "3                       SQuAD   \n",
       "4                       SQuAD   \n",
       "...                       ...   \n",
       "528858  NaturalQuestionsShort   \n",
       "528859  NaturalQuestionsShort   \n",
       "528860  NaturalQuestionsShort   \n",
       "528861  NaturalQuestionsShort   \n",
       "528862  NaturalQuestionsShort   \n",
       "\n",
       "                                                  context  \\\n",
       "0       Architecturally, the school has a Catholic cha...   \n",
       "1       Architecturally, the school has a Catholic cha...   \n",
       "2       Architecturally, the school has a Catholic cha...   \n",
       "3       Architecturally, the school has a Catholic cha...   \n",
       "4       Architecturally, the school has a Catholic cha...   \n",
       "...                                                   ...   \n",
       "528858  <P> Throughout the novel , Junior shares his d...   \n",
       "528859  <P> Acceding to the throne in 1888 , he dismis...   \n",
       "528860  <Table> Michigan State -- Notre Dame football ...   \n",
       "528861  <P> Due to Eric 's departure from the show at ...   \n",
       "528862  <Table> Longest main - stem rivers of the Unit...   \n",
       "\n",
       "                                                 question  \\\n",
       "0       To whom did the Virgin Mary allegedly appear i...   \n",
       "1       What is in front of the Notre Dame Main Building?   \n",
       "2       The Basilica of the Sacred heart at Notre Dame...   \n",
       "3                       What is the Grotto at Notre Dame?   \n",
       "4       What sits on top of the Main Building at Notre...   \n",
       "...                                                   ...   \n",
       "528858          where does junior want to go to find hope   \n",
       "528859       what happened to germany 's leader after ww1   \n",
       "528860   when will notre dame played michigan state again   \n",
       "528861         who does eric end up with in that 70s show   \n",
       "528862     what is the longest river in the united states   \n",
       "\n",
       "                                                  answers  \\\n",
       "0                            [Saint Bernadette Soubirous]   \n",
       "1                             [a copper statue of Christ]   \n",
       "2                                     [the Main Building]   \n",
       "3               [a Marian place of prayer and reflection]   \n",
       "4                    [a golden statue of the Virgin Mary]   \n",
       "...                                                   ...   \n",
       "528858                                      [off the rez]   \n",
       "528859  [he lost the support of the army , abdicated i...   \n",
       "528860                                             [2026]   \n",
       "528861                                            [Donna]   \n",
       "528862                                   [Missouri River]   \n",
       "\n",
       "                                                 masked_q  \n",
       "0       To whom did the Virgin Mary allegedly appear i...  \n",
       "1                             What is in front of [MASK]?  \n",
       "2          [MASK] at [MASK] is beside to which structure?  \n",
       "3                           What is the Grotto at [MASK]?  \n",
       "4                   What sits on top of [MASK] at [MASK]?  \n",
       "...                                                   ...  \n",
       "528858          where does junior want to go to find hope  \n",
       "528859     what happened to [MASK] 's leader after [MASK]  \n",
       "528860               when will [MASK] played [MASK] again  \n",
       "528861    who does [MASK] end up with in that [MASK] show  \n",
       "528862                what is the longest river in [MASK]  \n",
       "\n",
       "[528863 rows x 5 columns]"
      ]
     },
     "execution_count": 26,
     "metadata": {},
     "output_type": "execute_result"
    }
   ],
   "source": [
    "new_df = sub_sub_df.drop(columns=[\"norm_q\", \"index\"])\n",
    "new_df"
   ]
  },
  {
   "cell_type": "code",
   "execution_count": 27,
   "metadata": {},
   "outputs": [
    {
     "name": "stdout",
     "output_type": "stream",
     "text": [
      "0\n"
     ]
    }
   ],
   "source": [
    "for i, row in new_df.iterrows():"
   ]
  },
  {
   "cell_type": "code",
   "execution_count": 30,
   "metadata": {},
   "outputs": [
    {
     "data": {
      "text/plain": [
       "Dataset({\n",
       "    features: ['subset', 'context', 'question', 'answers', 'masked_q'],\n",
       "    num_rows: 528863\n",
       "})"
      ]
     },
     "execution_count": 30,
     "metadata": {},
     "output_type": "execute_result"
    }
   ],
   "source": [
    "dataset = Dataset.from_pandas(new_df)\n",
    "dataset"
   ]
  },
  {
   "cell_type": "code",
   "execution_count": 31,
   "metadata": {},
   "outputs": [
    {
     "name": "stderr",
     "output_type": "stream",
     "text": [
      "Creating parquet from Arrow format: 100%|██████████| 177/177 [00:00<00:00, 240.79ba/s]\n",
      "Creating parquet from Arrow format: 100%|██████████| 177/177 [00:02<00:00, 86.09ba/s] \n",
      "Creating parquet from Arrow format: 100%|██████████| 177/177 [00:00<00:00, 215.81ba/s]\n",
      "Uploading the dataset shards: 100%|██████████| 3/3 [01:15<00:00, 25.07s/it]\n"
     ]
    },
    {
     "data": {
      "text/plain": [
       "CommitInfo(commit_url='https://huggingface.co/datasets/Atipico1/mrqa_masked/commit/e25e80b71f2928e9701d9beab1abcd704f6886a5', commit_message='Upload dataset', commit_description='', oid='e25e80b71f2928e9701d9beab1abcd704f6886a5', pr_url=None, pr_revision=None, pr_num=None)"
      ]
     },
     "execution_count": 31,
     "metadata": {},
     "output_type": "execute_result"
    }
   ],
   "source": [
    "dataset.push_to_hub(\"Atipico1/mrqa_masked\")"
   ]
  },
  {
   "cell_type": "code",
   "execution_count": 28,
   "metadata": {},
   "outputs": [
    {
     "data": {
      "text/plain": [
       "['/data/seongilpark/id2ctxs.joblib']"
      ]
     },
     "execution_count": 28,
     "metadata": {},
     "output_type": "execute_result"
    }
   ],
   "source": [
    "id2ctxs = dict()\n",
    "for i, row in new_df.iterrows():\n",
    "    id2ctxs[i] = row[\"context\"]\n",
    "import joblib\n",
    "joblib.dump(id2ctxs, \"/data/seongilpark/id2ctxs.joblib\")"
   ]
  },
  {
   "cell_type": "code",
   "execution_count": 78,
   "metadata": {},
   "outputs": [
    {
     "name": "stdout",
     "output_type": "stream",
     "text": [
      "PAR] Die Rhöner Säuwäntzt are a Skiffle-Bluesband from Eichenzell-Lütter in Hessen, Germany.\n"
     ]
    }
   ],
   "source": [
    "import re\n",
    "\n",
    "def preprocess_text(text, subset_name: str):\n",
    "    \"\"\"\n",
    "    This function removes all text between [TLE] and [SEP] including the markers themselves.\n",
    "    \"\"\"\n",
    "    if subset_name == \"NewsQA\":\n",
    "        start = text.find(\"--\")\n",
    "        end = start + 2\n",
    "        text = text[end:]\n",
    "    if subset_name == \"NaturalQuestionsShort\":\n",
    "        if \"<Table>\" in text:\n",
    "            return None\n",
    "    text = text.replace(\"<P>\", \"\")\n",
    "    text = text.replace(\"</P>\", \"\")\n",
    "    if text.strip().startswith(\"[PAR]\"):\n",
    "        start = text.find(\"[PAR]\")\n",
    "        end = start + len(\"[PAR]\")\n",
    "        text = text[end:]\n",
    "    if text.strip().startswith(\"[DOC]\"):\n",
    "        start = text.find(\"[DOC]\")\n",
    "        end = start + len(\"[DOC]\")\n",
    "        text = text[end:]\n",
    "    while \"[TLE]\" in text and \"[SEP]\" in text:\n",
    "        start = text.find(\"[TLE]\")\n",
    "        end = text.find(\"[SEP]\") + len(\"[SEP]\")\n",
    "        text = text[:start] + text[end:]\n",
    "    # Replace multiple spaces with a single space\n",
    "    text = re.sub('\\n+', '', text)\n",
    "    text = re.sub(' +', ' ', text)\n",
    "    return text\n",
    "\n",
    "# Example usage\n",
    "example_text = \"[PAR] [DOC] This is a test [TLE] remove this part\\n\\n\\n [SEP] and \\n\\n this [TLE] remove this part [SEP] remains.\"\n",
    "ex_text = \"[PAR] [TLE] Die Rhöner Säuwäntzt [SEP] Die Rhöner Säuwäntzt are a Skiffle-Bluesband from Eichenzell-Lütter in Hessen, Germany.\"\n",
    "result = preprocess_text(ex_text, \"NewsQA\")\n",
    "print(result)"
   ]
  },
  {
   "cell_type": "code",
   "execution_count": 73,
   "metadata": {},
   "outputs": [
    {
     "name": "stderr",
     "output_type": "stream",
     "text": [
      "528863it [01:31, 5763.61it/s]\n"
     ]
    }
   ],
   "source": [
    "for i, row in tqdm(new_df.iterrows()):\n",
    "    new_df.loc[i, \"norm_context\"] = preprocess_text(row[\"context\"], row[\"subset\"])"
   ]
  },
  {
   "cell_type": "code",
   "execution_count": 74,
   "metadata": {},
   "outputs": [
    {
     "data": {
      "text/plain": [
       "12180"
      ]
     },
     "execution_count": 74,
     "metadata": {},
     "output_type": "execute_result"
    }
   ],
   "source": [
    "new_df.norm_context.isna().sum()"
   ]
  },
  {
   "cell_type": "code",
   "execution_count": 75,
   "metadata": {},
   "outputs": [
    {
     "data": {
      "text/html": [
       "<div>\n",
       "<style scoped>\n",
       "    .dataframe tbody tr th:only-of-type {\n",
       "        vertical-align: middle;\n",
       "    }\n",
       "\n",
       "    .dataframe tbody tr th {\n",
       "        vertical-align: top;\n",
       "    }\n",
       "\n",
       "    .dataframe thead th {\n",
       "        text-align: right;\n",
       "    }\n",
       "</style>\n",
       "<table border=\"1\" class=\"dataframe\">\n",
       "  <thead>\n",
       "    <tr style=\"text-align: right;\">\n",
       "      <th></th>\n",
       "      <th>subset</th>\n",
       "      <th>context</th>\n",
       "      <th>question</th>\n",
       "      <th>answers</th>\n",
       "      <th>masked_q</th>\n",
       "      <th>norm_context</th>\n",
       "    </tr>\n",
       "  </thead>\n",
       "  <tbody>\n",
       "    <tr>\n",
       "      <th>0</th>\n",
       "      <td>SQuAD</td>\n",
       "      <td>Architecturally, the school has a Catholic cha...</td>\n",
       "      <td>To whom did the Virgin Mary allegedly appear i...</td>\n",
       "      <td>[Saint Bernadette Soubirous]</td>\n",
       "      <td>To whom did the Virgin Mary allegedly appear i...</td>\n",
       "      <td>Architecturally, the school has a Catholic cha...</td>\n",
       "    </tr>\n",
       "    <tr>\n",
       "      <th>1</th>\n",
       "      <td>SQuAD</td>\n",
       "      <td>Architecturally, the school has a Catholic cha...</td>\n",
       "      <td>What is in front of the Notre Dame Main Building?</td>\n",
       "      <td>[a copper statue of Christ]</td>\n",
       "      <td>What is in front of [MASK]?</td>\n",
       "      <td>Architecturally, the school has a Catholic cha...</td>\n",
       "    </tr>\n",
       "    <tr>\n",
       "      <th>2</th>\n",
       "      <td>SQuAD</td>\n",
       "      <td>Architecturally, the school has a Catholic cha...</td>\n",
       "      <td>The Basilica of the Sacred heart at Notre Dame...</td>\n",
       "      <td>[the Main Building]</td>\n",
       "      <td>[MASK] at [MASK] is beside to which structure?</td>\n",
       "      <td>Architecturally, the school has a Catholic cha...</td>\n",
       "    </tr>\n",
       "    <tr>\n",
       "      <th>3</th>\n",
       "      <td>SQuAD</td>\n",
       "      <td>Architecturally, the school has a Catholic cha...</td>\n",
       "      <td>What is the Grotto at Notre Dame?</td>\n",
       "      <td>[a Marian place of prayer and reflection]</td>\n",
       "      <td>What is the Grotto at [MASK]?</td>\n",
       "      <td>Architecturally, the school has a Catholic cha...</td>\n",
       "    </tr>\n",
       "    <tr>\n",
       "      <th>4</th>\n",
       "      <td>SQuAD</td>\n",
       "      <td>Architecturally, the school has a Catholic cha...</td>\n",
       "      <td>What sits on top of the Main Building at Notre...</td>\n",
       "      <td>[a golden statue of the Virgin Mary]</td>\n",
       "      <td>What sits on top of [MASK] at [MASK]?</td>\n",
       "      <td>Architecturally, the school has a Catholic cha...</td>\n",
       "    </tr>\n",
       "    <tr>\n",
       "      <th>...</th>\n",
       "      <td>...</td>\n",
       "      <td>...</td>\n",
       "      <td>...</td>\n",
       "      <td>...</td>\n",
       "      <td>...</td>\n",
       "      <td>...</td>\n",
       "    </tr>\n",
       "    <tr>\n",
       "      <th>528855</th>\n",
       "      <td>NaturalQuestionsShort</td>\n",
       "      <td>&lt;P&gt; In social relationships , an ex ( plural i...</td>\n",
       "      <td>what is the meaning of x girl friend</td>\n",
       "      <td>[a former sexual or romantic partner]</td>\n",
       "      <td>what is the meaning of x girl friend</td>\n",
       "      <td>In social relationships , an ex ( plural is e...</td>\n",
       "    </tr>\n",
       "    <tr>\n",
       "      <th>528857</th>\n",
       "      <td>NaturalQuestionsShort</td>\n",
       "      <td>&lt;P&gt; The film follows two families spending tim...</td>\n",
       "      <td>where does the great outdoors movie take place</td>\n",
       "      <td>[Wisconsin]</td>\n",
       "      <td>where does the great outdoors movie take place</td>\n",
       "      <td>The film follows two families spending time o...</td>\n",
       "    </tr>\n",
       "    <tr>\n",
       "      <th>528858</th>\n",
       "      <td>NaturalQuestionsShort</td>\n",
       "      <td>&lt;P&gt; Throughout the novel , Junior shares his d...</td>\n",
       "      <td>where does junior want to go to find hope</td>\n",
       "      <td>[off the rez]</td>\n",
       "      <td>where does junior want to go to find hope</td>\n",
       "      <td>Throughout the novel , Junior shares his drea...</td>\n",
       "    </tr>\n",
       "    <tr>\n",
       "      <th>528859</th>\n",
       "      <td>NaturalQuestionsShort</td>\n",
       "      <td>&lt;P&gt; Acceding to the throne in 1888 , he dismis...</td>\n",
       "      <td>what happened to germany 's leader after ww1</td>\n",
       "      <td>[he lost the support of the army , abdicated i...</td>\n",
       "      <td>what happened to [MASK] 's leader after [MASK]</td>\n",
       "      <td>Acceding to the throne in 1888 , he dismissed...</td>\n",
       "    </tr>\n",
       "    <tr>\n",
       "      <th>528861</th>\n",
       "      <td>NaturalQuestionsShort</td>\n",
       "      <td>&lt;P&gt; Due to Eric 's departure from the show at ...</td>\n",
       "      <td>who does eric end up with in that 70s show</td>\n",
       "      <td>[Donna]</td>\n",
       "      <td>who does [MASK] end up with in that [MASK] show</td>\n",
       "      <td>Due to Eric 's departure from the show at the...</td>\n",
       "    </tr>\n",
       "  </tbody>\n",
       "</table>\n",
       "<p>516683 rows × 6 columns</p>\n",
       "</div>"
      ],
      "text/plain": [
       "                       subset  \\\n",
       "0                       SQuAD   \n",
       "1                       SQuAD   \n",
       "2                       SQuAD   \n",
       "3                       SQuAD   \n",
       "4                       SQuAD   \n",
       "...                       ...   \n",
       "528855  NaturalQuestionsShort   \n",
       "528857  NaturalQuestionsShort   \n",
       "528858  NaturalQuestionsShort   \n",
       "528859  NaturalQuestionsShort   \n",
       "528861  NaturalQuestionsShort   \n",
       "\n",
       "                                                  context  \\\n",
       "0       Architecturally, the school has a Catholic cha...   \n",
       "1       Architecturally, the school has a Catholic cha...   \n",
       "2       Architecturally, the school has a Catholic cha...   \n",
       "3       Architecturally, the school has a Catholic cha...   \n",
       "4       Architecturally, the school has a Catholic cha...   \n",
       "...                                                   ...   \n",
       "528855  <P> In social relationships , an ex ( plural i...   \n",
       "528857  <P> The film follows two families spending tim...   \n",
       "528858  <P> Throughout the novel , Junior shares his d...   \n",
       "528859  <P> Acceding to the throne in 1888 , he dismis...   \n",
       "528861  <P> Due to Eric 's departure from the show at ...   \n",
       "\n",
       "                                                 question  \\\n",
       "0       To whom did the Virgin Mary allegedly appear i...   \n",
       "1       What is in front of the Notre Dame Main Building?   \n",
       "2       The Basilica of the Sacred heart at Notre Dame...   \n",
       "3                       What is the Grotto at Notre Dame?   \n",
       "4       What sits on top of the Main Building at Notre...   \n",
       "...                                                   ...   \n",
       "528855               what is the meaning of x girl friend   \n",
       "528857     where does the great outdoors movie take place   \n",
       "528858          where does junior want to go to find hope   \n",
       "528859       what happened to germany 's leader after ww1   \n",
       "528861         who does eric end up with in that 70s show   \n",
       "\n",
       "                                                  answers  \\\n",
       "0                            [Saint Bernadette Soubirous]   \n",
       "1                             [a copper statue of Christ]   \n",
       "2                                     [the Main Building]   \n",
       "3               [a Marian place of prayer and reflection]   \n",
       "4                    [a golden statue of the Virgin Mary]   \n",
       "...                                                   ...   \n",
       "528855              [a former sexual or romantic partner]   \n",
       "528857                                        [Wisconsin]   \n",
       "528858                                      [off the rez]   \n",
       "528859  [he lost the support of the army , abdicated i...   \n",
       "528861                                            [Donna]   \n",
       "\n",
       "                                                 masked_q  \\\n",
       "0       To whom did the Virgin Mary allegedly appear i...   \n",
       "1                             What is in front of [MASK]?   \n",
       "2          [MASK] at [MASK] is beside to which structure?   \n",
       "3                           What is the Grotto at [MASK]?   \n",
       "4                   What sits on top of [MASK] at [MASK]?   \n",
       "...                                                   ...   \n",
       "528855               what is the meaning of x girl friend   \n",
       "528857     where does the great outdoors movie take place   \n",
       "528858          where does junior want to go to find hope   \n",
       "528859     what happened to [MASK] 's leader after [MASK]   \n",
       "528861    who does [MASK] end up with in that [MASK] show   \n",
       "\n",
       "                                             norm_context  \n",
       "0       Architecturally, the school has a Catholic cha...  \n",
       "1       Architecturally, the school has a Catholic cha...  \n",
       "2       Architecturally, the school has a Catholic cha...  \n",
       "3       Architecturally, the school has a Catholic cha...  \n",
       "4       Architecturally, the school has a Catholic cha...  \n",
       "...                                                   ...  \n",
       "528855   In social relationships , an ex ( plural is e...  \n",
       "528857   The film follows two families spending time o...  \n",
       "528858   Throughout the novel , Junior shares his drea...  \n",
       "528859   Acceding to the throne in 1888 , he dismissed...  \n",
       "528861   Due to Eric 's departure from the show at the...  \n",
       "\n",
       "[516683 rows x 6 columns]"
      ]
     },
     "execution_count": 75,
     "metadata": {},
     "output_type": "execute_result"
    }
   ],
   "source": [
    "new_df = new_df.dropna(subset=[\"norm_context\"])\n",
    "new_df"
   ]
  },
  {
   "cell_type": "code",
   "execution_count": 86,
   "metadata": {},
   "outputs": [
    {
     "data": {
      "text/plain": [
       "['/data/seongilpark/mrqa_df.joblib']"
      ]
     },
     "execution_count": 86,
     "metadata": {},
     "output_type": "execute_result"
    }
   ],
   "source": [
    "import joblib\n",
    "joblib.dump(new_df, \"/data/seongilpark/mrqa_df.joblib\")"
   ]
  },
  {
   "cell_type": "code",
   "execution_count": 84,
   "metadata": {},
   "outputs": [],
   "source": [
    "new_df.to_json(\"/data/seongilpark/mrqa_masked.json\", orient=\"records\", lines=True)"
   ]
  },
  {
   "cell_type": "code",
   "execution_count": 85,
   "metadata": {},
   "outputs": [
    {
     "data": {
      "text/html": [
       "<div>\n",
       "<style scoped>\n",
       "    .dataframe tbody tr th:only-of-type {\n",
       "        vertical-align: middle;\n",
       "    }\n",
       "\n",
       "    .dataframe tbody tr th {\n",
       "        vertical-align: top;\n",
       "    }\n",
       "\n",
       "    .dataframe thead th {\n",
       "        text-align: right;\n",
       "    }\n",
       "</style>\n",
       "<table border=\"1\" class=\"dataframe\">\n",
       "  <thead>\n",
       "    <tr style=\"text-align: right;\">\n",
       "      <th></th>\n",
       "      <th>subset</th>\n",
       "      <th>context</th>\n",
       "      <th>question</th>\n",
       "      <th>answers</th>\n",
       "      <th>masked_q</th>\n",
       "      <th>norm_context</th>\n",
       "    </tr>\n",
       "  </thead>\n",
       "  <tbody>\n",
       "    <tr>\n",
       "      <th>0</th>\n",
       "      <td>SQuAD</td>\n",
       "      <td>Architecturally, the school has a Catholic cha...</td>\n",
       "      <td>To whom did the Virgin Mary allegedly appear i...</td>\n",
       "      <td>[Saint Bernadette Soubirous]</td>\n",
       "      <td>To whom did the Virgin Mary allegedly appear i...</td>\n",
       "      <td>Architecturally, the school has a Catholic cha...</td>\n",
       "    </tr>\n",
       "    <tr>\n",
       "      <th>1</th>\n",
       "      <td>SQuAD</td>\n",
       "      <td>Architecturally, the school has a Catholic cha...</td>\n",
       "      <td>What is in front of the Notre Dame Main Building?</td>\n",
       "      <td>[a copper statue of Christ]</td>\n",
       "      <td>What is in front of [MASK]?</td>\n",
       "      <td>Architecturally, the school has a Catholic cha...</td>\n",
       "    </tr>\n",
       "    <tr>\n",
       "      <th>2</th>\n",
       "      <td>SQuAD</td>\n",
       "      <td>Architecturally, the school has a Catholic cha...</td>\n",
       "      <td>The Basilica of the Sacred heart at Notre Dame...</td>\n",
       "      <td>[the Main Building]</td>\n",
       "      <td>[MASK] at [MASK] is beside to which structure?</td>\n",
       "      <td>Architecturally, the school has a Catholic cha...</td>\n",
       "    </tr>\n",
       "    <tr>\n",
       "      <th>3</th>\n",
       "      <td>SQuAD</td>\n",
       "      <td>Architecturally, the school has a Catholic cha...</td>\n",
       "      <td>What is the Grotto at Notre Dame?</td>\n",
       "      <td>[a Marian place of prayer and reflection]</td>\n",
       "      <td>What is the Grotto at [MASK]?</td>\n",
       "      <td>Architecturally, the school has a Catholic cha...</td>\n",
       "    </tr>\n",
       "    <tr>\n",
       "      <th>4</th>\n",
       "      <td>SQuAD</td>\n",
       "      <td>Architecturally, the school has a Catholic cha...</td>\n",
       "      <td>What sits on top of the Main Building at Notre...</td>\n",
       "      <td>[a golden statue of the Virgin Mary]</td>\n",
       "      <td>What sits on top of [MASK] at [MASK]?</td>\n",
       "      <td>Architecturally, the school has a Catholic cha...</td>\n",
       "    </tr>\n",
       "    <tr>\n",
       "      <th>...</th>\n",
       "      <td>...</td>\n",
       "      <td>...</td>\n",
       "      <td>...</td>\n",
       "      <td>...</td>\n",
       "      <td>...</td>\n",
       "      <td>...</td>\n",
       "    </tr>\n",
       "    <tr>\n",
       "      <th>516678</th>\n",
       "      <td>NaturalQuestionsShort</td>\n",
       "      <td>&lt;P&gt; In social relationships , an ex ( plural i...</td>\n",
       "      <td>what is the meaning of x girl friend</td>\n",
       "      <td>[a former sexual or romantic partner]</td>\n",
       "      <td>what is the meaning of x girl friend</td>\n",
       "      <td>In social relationships , an ex ( plural is e...</td>\n",
       "    </tr>\n",
       "    <tr>\n",
       "      <th>516679</th>\n",
       "      <td>NaturalQuestionsShort</td>\n",
       "      <td>&lt;P&gt; The film follows two families spending tim...</td>\n",
       "      <td>where does the great outdoors movie take place</td>\n",
       "      <td>[Wisconsin]</td>\n",
       "      <td>where does the great outdoors movie take place</td>\n",
       "      <td>The film follows two families spending time o...</td>\n",
       "    </tr>\n",
       "    <tr>\n",
       "      <th>516680</th>\n",
       "      <td>NaturalQuestionsShort</td>\n",
       "      <td>&lt;P&gt; Throughout the novel , Junior shares his d...</td>\n",
       "      <td>where does junior want to go to find hope</td>\n",
       "      <td>[off the rez]</td>\n",
       "      <td>where does junior want to go to find hope</td>\n",
       "      <td>Throughout the novel , Junior shares his drea...</td>\n",
       "    </tr>\n",
       "    <tr>\n",
       "      <th>516681</th>\n",
       "      <td>NaturalQuestionsShort</td>\n",
       "      <td>&lt;P&gt; Acceding to the throne in 1888 , he dismis...</td>\n",
       "      <td>what happened to germany 's leader after ww1</td>\n",
       "      <td>[he lost the support of the army , abdicated i...</td>\n",
       "      <td>what happened to [MASK] 's leader after [MASK]</td>\n",
       "      <td>Acceding to the throne in 1888 , he dismissed...</td>\n",
       "    </tr>\n",
       "    <tr>\n",
       "      <th>516682</th>\n",
       "      <td>NaturalQuestionsShort</td>\n",
       "      <td>&lt;P&gt; Due to Eric 's departure from the show at ...</td>\n",
       "      <td>who does eric end up with in that 70s show</td>\n",
       "      <td>[Donna]</td>\n",
       "      <td>who does [MASK] end up with in that [MASK] show</td>\n",
       "      <td>Due to Eric 's departure from the show at the...</td>\n",
       "    </tr>\n",
       "  </tbody>\n",
       "</table>\n",
       "<p>516683 rows × 6 columns</p>\n",
       "</div>"
      ],
      "text/plain": [
       "                       subset  \\\n",
       "0                       SQuAD   \n",
       "1                       SQuAD   \n",
       "2                       SQuAD   \n",
       "3                       SQuAD   \n",
       "4                       SQuAD   \n",
       "...                       ...   \n",
       "516678  NaturalQuestionsShort   \n",
       "516679  NaturalQuestionsShort   \n",
       "516680  NaturalQuestionsShort   \n",
       "516681  NaturalQuestionsShort   \n",
       "516682  NaturalQuestionsShort   \n",
       "\n",
       "                                                  context  \\\n",
       "0       Architecturally, the school has a Catholic cha...   \n",
       "1       Architecturally, the school has a Catholic cha...   \n",
       "2       Architecturally, the school has a Catholic cha...   \n",
       "3       Architecturally, the school has a Catholic cha...   \n",
       "4       Architecturally, the school has a Catholic cha...   \n",
       "...                                                   ...   \n",
       "516678  <P> In social relationships , an ex ( plural i...   \n",
       "516679  <P> The film follows two families spending tim...   \n",
       "516680  <P> Throughout the novel , Junior shares his d...   \n",
       "516681  <P> Acceding to the throne in 1888 , he dismis...   \n",
       "516682  <P> Due to Eric 's departure from the show at ...   \n",
       "\n",
       "                                                 question  \\\n",
       "0       To whom did the Virgin Mary allegedly appear i...   \n",
       "1       What is in front of the Notre Dame Main Building?   \n",
       "2       The Basilica of the Sacred heart at Notre Dame...   \n",
       "3                       What is the Grotto at Notre Dame?   \n",
       "4       What sits on top of the Main Building at Notre...   \n",
       "...                                                   ...   \n",
       "516678               what is the meaning of x girl friend   \n",
       "516679     where does the great outdoors movie take place   \n",
       "516680          where does junior want to go to find hope   \n",
       "516681       what happened to germany 's leader after ww1   \n",
       "516682         who does eric end up with in that 70s show   \n",
       "\n",
       "                                                  answers  \\\n",
       "0                            [Saint Bernadette Soubirous]   \n",
       "1                             [a copper statue of Christ]   \n",
       "2                                     [the Main Building]   \n",
       "3               [a Marian place of prayer and reflection]   \n",
       "4                    [a golden statue of the Virgin Mary]   \n",
       "...                                                   ...   \n",
       "516678              [a former sexual or romantic partner]   \n",
       "516679                                        [Wisconsin]   \n",
       "516680                                      [off the rez]   \n",
       "516681  [he lost the support of the army , abdicated i...   \n",
       "516682                                            [Donna]   \n",
       "\n",
       "                                                 masked_q  \\\n",
       "0       To whom did the Virgin Mary allegedly appear i...   \n",
       "1                             What is in front of [MASK]?   \n",
       "2          [MASK] at [MASK] is beside to which structure?   \n",
       "3                           What is the Grotto at [MASK]?   \n",
       "4                   What sits on top of [MASK] at [MASK]?   \n",
       "...                                                   ...   \n",
       "516678               what is the meaning of x girl friend   \n",
       "516679     where does the great outdoors movie take place   \n",
       "516680          where does junior want to go to find hope   \n",
       "516681     what happened to [MASK] 's leader after [MASK]   \n",
       "516682    who does [MASK] end up with in that [MASK] show   \n",
       "\n",
       "                                             norm_context  \n",
       "0       Architecturally, the school has a Catholic cha...  \n",
       "1       Architecturally, the school has a Catholic cha...  \n",
       "2       Architecturally, the school has a Catholic cha...  \n",
       "3       Architecturally, the school has a Catholic cha...  \n",
       "4       Architecturally, the school has a Catholic cha...  \n",
       "...                                                   ...  \n",
       "516678   In social relationships , an ex ( plural is e...  \n",
       "516679   The film follows two families spending time o...  \n",
       "516680   Throughout the novel , Junior shares his drea...  \n",
       "516681   Acceding to the throne in 1888 , he dismissed...  \n",
       "516682   Due to Eric 's departure from the show at the...  \n",
       "\n",
       "[516683 rows x 6 columns]"
      ]
     },
     "execution_count": 85,
     "metadata": {},
     "output_type": "execute_result"
    }
   ],
   "source": [
    "read_data = pd.read_json(\"/data/seongilpark/mrqa_masked.json\", orient=\"records\", lines=True)\n",
    "read_data"
   ]
  },
  {
   "cell_type": "code",
   "execution_count": 83,
   "metadata": {},
   "outputs": [
    {
     "ename": "AttributeError",
     "evalue": "'DataFrame' object has no attribute 'to_tsv'",
     "output_type": "error",
     "traceback": [
      "\u001b[0;31m---------------------------------------------------------------------------\u001b[0m",
      "\u001b[0;31mAttributeError\u001b[0m                            Traceback (most recent call last)",
      "Cell \u001b[0;32mIn[83], line 1\u001b[0m\n\u001b[0;32m----> 1\u001b[0m \u001b[43mnew_df\u001b[49m\u001b[38;5;241;43m.\u001b[39;49m\u001b[43mto_tsv\u001b[49m(\u001b[38;5;124m\"\u001b[39m\u001b[38;5;124m/data/seongilpark/mrqa_norm.tsv\u001b[39m\u001b[38;5;124m\"\u001b[39m, index\u001b[38;5;241m=\u001b[39m\u001b[38;5;28;01mFalse\u001b[39;00m)\n",
      "File \u001b[0;32m/data/seongilpark/conda_envs/ft/lib/python3.10/site-packages/pandas/core/generic.py:6204\u001b[0m, in \u001b[0;36mNDFrame.__getattr__\u001b[0;34m(self, name)\u001b[0m\n\u001b[1;32m   6197\u001b[0m \u001b[38;5;28;01mif\u001b[39;00m (\n\u001b[1;32m   6198\u001b[0m     name \u001b[38;5;129;01mnot\u001b[39;00m \u001b[38;5;129;01min\u001b[39;00m \u001b[38;5;28mself\u001b[39m\u001b[38;5;241m.\u001b[39m_internal_names_set\n\u001b[1;32m   6199\u001b[0m     \u001b[38;5;129;01mand\u001b[39;00m name \u001b[38;5;129;01mnot\u001b[39;00m \u001b[38;5;129;01min\u001b[39;00m \u001b[38;5;28mself\u001b[39m\u001b[38;5;241m.\u001b[39m_metadata\n\u001b[1;32m   6200\u001b[0m     \u001b[38;5;129;01mand\u001b[39;00m name \u001b[38;5;129;01mnot\u001b[39;00m \u001b[38;5;129;01min\u001b[39;00m \u001b[38;5;28mself\u001b[39m\u001b[38;5;241m.\u001b[39m_accessors\n\u001b[1;32m   6201\u001b[0m     \u001b[38;5;129;01mand\u001b[39;00m \u001b[38;5;28mself\u001b[39m\u001b[38;5;241m.\u001b[39m_info_axis\u001b[38;5;241m.\u001b[39m_can_hold_identifiers_and_holds_name(name)\n\u001b[1;32m   6202\u001b[0m ):\n\u001b[1;32m   6203\u001b[0m     \u001b[38;5;28;01mreturn\u001b[39;00m \u001b[38;5;28mself\u001b[39m[name]\n\u001b[0;32m-> 6204\u001b[0m \u001b[38;5;28;01mreturn\u001b[39;00m \u001b[38;5;28;43mobject\u001b[39;49m\u001b[38;5;241;43m.\u001b[39;49m\u001b[38;5;21;43m__getattribute__\u001b[39;49m\u001b[43m(\u001b[49m\u001b[38;5;28;43mself\u001b[39;49m\u001b[43m,\u001b[49m\u001b[43m \u001b[49m\u001b[43mname\u001b[49m\u001b[43m)\u001b[49m\n",
      "\u001b[0;31mAttributeError\u001b[0m: 'DataFrame' object has no attribute 'to_tsv'"
     ]
    }
   ],
   "source": [
    "new_df.(\"/data/seongilpark/mrqa_norm.tsv\", index=False)"
   ]
  },
  {
   "cell_type": "code",
   "execution_count": 81,
   "metadata": {},
   "outputs": [
    {
     "data": {
      "text/plain": [
       "354604"
      ]
     },
     "execution_count": 81,
     "metadata": {},
     "output_type": "execute_result"
    }
   ],
   "source": [
    "contexts = list(set(new_df.norm_context.tolist()))\n",
    "len(contexts)"
   ]
  },
  {
   "cell_type": "code",
   "execution_count": null,
   "metadata": {},
   "outputs": [],
   "source": []
  },
  {
   "cell_type": "code",
   "execution_count": null,
   "metadata": {},
   "outputs": [],
   "source": [
    "Dataset.from_pandas(new_df.drop(columns=[\"context\"]))"
   ]
  },
  {
   "cell_type": "code",
   "execution_count": 80,
   "metadata": {},
   "outputs": [
    {
     "data": {
      "text/plain": [
       "' One of the Marines shown in a famous World War II photograph raising the U.S. flag on Iwo Jima was posthumously awarded a certificate of U.S. citizenship on Tuesday.The Marine Corps War Memorial in Virginia depicts Strank and five others raising a flag on Iwo Jima.Sgt. Michael Strank, who was born in Czechoslovakia and came to the United States when he was 3, derived U.S. citizenship when his father was naturalized in 1935. However, U.S. Citizenship and Immigration Services recently discovered that Strank never was given citizenship papers.At a ceremony Tuesday at the Marine Corps Memorial -- which depicts the flag-raising -- in Arlington, Virginia, a certificate of citizenship was presented to Strank\\'s younger sister, Mary Pero.Strank and five other men became national icons when an Associated Press photographer captured the image of them planting an American flag on top of Mount Suribachi on February 23, 1945.Strank was killed in action on the island on March 1, 1945, less than a month before the battle between Japanese and U.S. forces there ended.Jonathan Scharfen, the acting director of CIS, presented the citizenship certificate Tuesday.He hailed Strank as \"a true American hero and a wonderful example of the remarkable contribution and sacrifices that immigrants have made to our great republic throughout its history.\"'"
      ]
     },
     "execution_count": 80,
     "metadata": {},
     "output_type": "execute_result"
    }
   ],
   "source": [
    "new_df[new_df.subset == \"NewsQA\"].norm_context.tolist()[10]"
   ]
  },
  {
   "cell_type": "code",
   "execution_count": 16,
   "metadata": {},
   "outputs": [
    {
     "data": {
      "text/html": [
       "<div>\n",
       "<style scoped>\n",
       "    .dataframe tbody tr th:only-of-type {\n",
       "        vertical-align: middle;\n",
       "    }\n",
       "\n",
       "    .dataframe tbody tr th {\n",
       "        vertical-align: top;\n",
       "    }\n",
       "\n",
       "    .dataframe thead th {\n",
       "        text-align: right;\n",
       "    }\n",
       "</style>\n",
       "<table border=\"1\" class=\"dataframe\">\n",
       "  <thead>\n",
       "    <tr style=\"text-align: right;\">\n",
       "      <th></th>\n",
       "      <th>subset</th>\n",
       "      <th>context</th>\n",
       "      <th>question</th>\n",
       "      <th>answers</th>\n",
       "      <th>norm_q</th>\n",
       "      <th>masked_q</th>\n",
       "    </tr>\n",
       "  </thead>\n",
       "  <tbody>\n",
       "    <tr>\n",
       "      <th>0</th>\n",
       "      <td>SQuAD</td>\n",
       "      <td>Architecturally, the school has a Catholic cha...</td>\n",
       "      <td>To whom did the Virgin Mary allegedly appear i...</td>\n",
       "      <td>[Saint Bernadette Soubirous]</td>\n",
       "      <td>to whom did virgin mary allegedly appear in 18...</td>\n",
       "      <td>To whom did the Virgin Mary allegedly appear i...</td>\n",
       "    </tr>\n",
       "    <tr>\n",
       "      <th>1</th>\n",
       "      <td>SQuAD</td>\n",
       "      <td>Architecturally, the school has a Catholic cha...</td>\n",
       "      <td>What is in front of the Notre Dame Main Building?</td>\n",
       "      <td>[a copper statue of Christ]</td>\n",
       "      <td>what is in front of notre dame main building</td>\n",
       "      <td>What is in front of [MASK]?</td>\n",
       "    </tr>\n",
       "    <tr>\n",
       "      <th>2</th>\n",
       "      <td>SQuAD</td>\n",
       "      <td>Architecturally, the school has a Catholic cha...</td>\n",
       "      <td>The Basilica of the Sacred heart at Notre Dame...</td>\n",
       "      <td>[the Main Building]</td>\n",
       "      <td>basilica of sacred heart at notre dame is besi...</td>\n",
       "      <td>[MASK] at [MASK] is beside to which structure?</td>\n",
       "    </tr>\n",
       "    <tr>\n",
       "      <th>3</th>\n",
       "      <td>SQuAD</td>\n",
       "      <td>Architecturally, the school has a Catholic cha...</td>\n",
       "      <td>What is the Grotto at Notre Dame?</td>\n",
       "      <td>[a Marian place of prayer and reflection]</td>\n",
       "      <td>what is grotto at notre dame</td>\n",
       "      <td>What is the Grotto at [MASK]?</td>\n",
       "    </tr>\n",
       "    <tr>\n",
       "      <th>4</th>\n",
       "      <td>SQuAD</td>\n",
       "      <td>Architecturally, the school has a Catholic cha...</td>\n",
       "      <td>What sits on top of the Main Building at Notre...</td>\n",
       "      <td>[a golden statue of the Virgin Mary]</td>\n",
       "      <td>what sits on top of main building at notre dame</td>\n",
       "      <td>What sits on top of [MASK] at [MASK]?</td>\n",
       "    </tr>\n",
       "    <tr>\n",
       "      <th>...</th>\n",
       "      <td>...</td>\n",
       "      <td>...</td>\n",
       "      <td>...</td>\n",
       "      <td>...</td>\n",
       "      <td>...</td>\n",
       "      <td>...</td>\n",
       "    </tr>\n",
       "    <tr>\n",
       "      <th>584658</th>\n",
       "      <td>NaturalQuestionsShort</td>\n",
       "      <td>&lt;P&gt; Throughout the novel , Junior shares his d...</td>\n",
       "      <td>where does junior want to go to find hope</td>\n",
       "      <td>[off the rez]</td>\n",
       "      <td>where does junior want to go to find hope</td>\n",
       "      <td>where does junior want to go to find hope</td>\n",
       "    </tr>\n",
       "    <tr>\n",
       "      <th>584660</th>\n",
       "      <td>NaturalQuestionsShort</td>\n",
       "      <td>&lt;P&gt; Acceding to the throne in 1888 , he dismis...</td>\n",
       "      <td>what happened to germany 's leader after ww1</td>\n",
       "      <td>[he lost the support of the army , abdicated i...</td>\n",
       "      <td>what happened to germany s leader after ww1</td>\n",
       "      <td>what happened to [MASK] 's leader after [MASK]</td>\n",
       "    </tr>\n",
       "    <tr>\n",
       "      <th>584663</th>\n",
       "      <td>NaturalQuestionsShort</td>\n",
       "      <td>&lt;Table&gt; Michigan State -- Notre Dame football ...</td>\n",
       "      <td>when will notre dame played michigan state again</td>\n",
       "      <td>[2026]</td>\n",
       "      <td>when will notre dame played michigan state again</td>\n",
       "      <td>when will [MASK] played [MASK] again</td>\n",
       "    </tr>\n",
       "    <tr>\n",
       "      <th>584665</th>\n",
       "      <td>NaturalQuestionsShort</td>\n",
       "      <td>&lt;P&gt; Due to Eric 's departure from the show at ...</td>\n",
       "      <td>who does eric end up with in that 70s show</td>\n",
       "      <td>[Donna]</td>\n",
       "      <td>who does eric end up with in that 70s show</td>\n",
       "      <td>who does [MASK] end up with in that [MASK] show</td>\n",
       "    </tr>\n",
       "    <tr>\n",
       "      <th>584669</th>\n",
       "      <td>NaturalQuestionsShort</td>\n",
       "      <td>&lt;Table&gt; Longest main - stem rivers of the Unit...</td>\n",
       "      <td>what is the longest river in the united states</td>\n",
       "      <td>[Missouri River]</td>\n",
       "      <td>what is longest river in united states</td>\n",
       "      <td>what is the longest river in [MASK]</td>\n",
       "    </tr>\n",
       "  </tbody>\n",
       "</table>\n",
       "<p>528863 rows × 6 columns</p>\n",
       "</div>"
      ],
      "text/plain": [
       "                       subset  \\\n",
       "0                       SQuAD   \n",
       "1                       SQuAD   \n",
       "2                       SQuAD   \n",
       "3                       SQuAD   \n",
       "4                       SQuAD   \n",
       "...                       ...   \n",
       "584658  NaturalQuestionsShort   \n",
       "584660  NaturalQuestionsShort   \n",
       "584663  NaturalQuestionsShort   \n",
       "584665  NaturalQuestionsShort   \n",
       "584669  NaturalQuestionsShort   \n",
       "\n",
       "                                                  context  \\\n",
       "0       Architecturally, the school has a Catholic cha...   \n",
       "1       Architecturally, the school has a Catholic cha...   \n",
       "2       Architecturally, the school has a Catholic cha...   \n",
       "3       Architecturally, the school has a Catholic cha...   \n",
       "4       Architecturally, the school has a Catholic cha...   \n",
       "...                                                   ...   \n",
       "584658  <P> Throughout the novel , Junior shares his d...   \n",
       "584660  <P> Acceding to the throne in 1888 , he dismis...   \n",
       "584663  <Table> Michigan State -- Notre Dame football ...   \n",
       "584665  <P> Due to Eric 's departure from the show at ...   \n",
       "584669  <Table> Longest main - stem rivers of the Unit...   \n",
       "\n",
       "                                                 question  \\\n",
       "0       To whom did the Virgin Mary allegedly appear i...   \n",
       "1       What is in front of the Notre Dame Main Building?   \n",
       "2       The Basilica of the Sacred heart at Notre Dame...   \n",
       "3                       What is the Grotto at Notre Dame?   \n",
       "4       What sits on top of the Main Building at Notre...   \n",
       "...                                                   ...   \n",
       "584658          where does junior want to go to find hope   \n",
       "584660       what happened to germany 's leader after ww1   \n",
       "584663   when will notre dame played michigan state again   \n",
       "584665         who does eric end up with in that 70s show   \n",
       "584669     what is the longest river in the united states   \n",
       "\n",
       "                                                  answers  \\\n",
       "0                            [Saint Bernadette Soubirous]   \n",
       "1                             [a copper statue of Christ]   \n",
       "2                                     [the Main Building]   \n",
       "3               [a Marian place of prayer and reflection]   \n",
       "4                    [a golden statue of the Virgin Mary]   \n",
       "...                                                   ...   \n",
       "584658                                      [off the rez]   \n",
       "584660  [he lost the support of the army , abdicated i...   \n",
       "584663                                             [2026]   \n",
       "584665                                            [Donna]   \n",
       "584669                                   [Missouri River]   \n",
       "\n",
       "                                                   norm_q  \\\n",
       "0       to whom did virgin mary allegedly appear in 18...   \n",
       "1            what is in front of notre dame main building   \n",
       "2       basilica of sacred heart at notre dame is besi...   \n",
       "3                            what is grotto at notre dame   \n",
       "4         what sits on top of main building at notre dame   \n",
       "...                                                   ...   \n",
       "584658          where does junior want to go to find hope   \n",
       "584660        what happened to germany s leader after ww1   \n",
       "584663   when will notre dame played michigan state again   \n",
       "584665         who does eric end up with in that 70s show   \n",
       "584669             what is longest river in united states   \n",
       "\n",
       "                                                 masked_q  \n",
       "0       To whom did the Virgin Mary allegedly appear i...  \n",
       "1                             What is in front of [MASK]?  \n",
       "2          [MASK] at [MASK] is beside to which structure?  \n",
       "3                           What is the Grotto at [MASK]?  \n",
       "4                   What sits on top of [MASK] at [MASK]?  \n",
       "...                                                   ...  \n",
       "584658          where does junior want to go to find hope  \n",
       "584660     what happened to [MASK] 's leader after [MASK]  \n",
       "584663               when will [MASK] played [MASK] again  \n",
       "584665    who does [MASK] end up with in that [MASK] show  \n",
       "584669                what is the longest river in [MASK]  \n",
       "\n",
       "[528863 rows x 6 columns]"
      ]
     },
     "execution_count": 16,
     "metadata": {},
     "output_type": "execute_result"
    }
   ],
   "source": [
    "sub_sub_df = sub_df.drop_duplicates(subset=[\"masked_q\"])\n",
    "sub_sub_df"
   ]
  },
  {
   "cell_type": "code",
   "execution_count": 23,
   "metadata": {},
   "outputs": [],
   "source": [
    "new_df = sub_sub_df.reset_index()"
   ]
  },
  {
   "cell_type": "code",
   "execution_count": 24,
   "metadata": {},
   "outputs": [],
   "source": [
    "new_df"
   ]
  },
  {
   "cell_type": "code",
   "execution_count": 3,
   "metadata": {},
   "outputs": [
    {
     "name": "stderr",
     "output_type": "stream",
     "text": [
      "/data/seongilpark/conda_envs/ft/lib/python3.10/site-packages/transformers/utils/hub.py:123: FutureWarning: Using `TRANSFORMERS_CACHE` is deprecated and will be removed in v5 of Transformers. Use `HF_HOME` instead.\n",
      "  warnings.warn(\n"
     ]
    }
   ],
   "source": [
    "from nltk.tokenize import sent_tokenize\n",
    "\n",
    "from src.utils import normalize_answer\n",
    "import spacy\n",
    "spacy.prefer_gpu(gpu_id=1)\n",
    "nlp = spacy.load(\"en_core_web_trf\")"
   ]
  },
  {
   "cell_type": "code",
   "execution_count": 4,
   "metadata": {},
   "outputs": [],
   "source": [
    "sample = train.shuffle().select(range(10000))"
   ]
  },
  {
   "cell_type": "code",
   "execution_count": 5,
   "metadata": {},
   "outputs": [
    {
     "name": "stderr",
     "output_type": "stream",
     "text": [
      " 50%|█████     | 5/10 [03:44<03:44, 44.97s/it]\n"
     ]
    },
    {
     "ename": "OutOfMemoryError",
     "evalue": "CUDA out of memory. Tried to allocate 366.00 MiB. GPU 1 has a total capacty of 23.45 GiB of which 151.69 MiB is free. Process 2202385 has 6.14 GiB memory in use. Including non-PyTorch memory, this process has 17.12 GiB memory in use. Of the allocated memory 13.43 GiB is allocated by PyTorch, and 3.24 GiB is reserved by PyTorch but unallocated. If reserved but unallocated memory is large try setting max_split_size_mb to avoid fragmentation.  See documentation for Memory Management and PYTORCH_CUDA_ALLOC_CONF",
     "output_type": "error",
     "traceback": [
      "\u001b[0;31m---------------------------------------------------------------------------\u001b[0m",
      "\u001b[0;31mOutOfMemoryError\u001b[0m                          Traceback (most recent call last)",
      "Cell \u001b[0;32mIn[5], line 7\u001b[0m\n\u001b[1;32m      5\u001b[0m batch \u001b[38;5;241m=\u001b[39m sample[i:i\u001b[38;5;241m+\u001b[39mbatch_size]\n\u001b[1;32m      6\u001b[0m docs \u001b[38;5;241m=\u001b[39m nlp\u001b[38;5;241m.\u001b[39mpipe(batch[\u001b[38;5;124m\"\u001b[39m\u001b[38;5;124mcontext\u001b[39m\u001b[38;5;124m\"\u001b[39m], batch_size\u001b[38;5;241m=\u001b[39mbatch_size)\n\u001b[0;32m----> 7\u001b[0m sents \u001b[38;5;241m=\u001b[39m [[sent\u001b[38;5;241m.\u001b[39mtext \u001b[38;5;28;01mfor\u001b[39;00m sent \u001b[38;5;129;01min\u001b[39;00m doc\u001b[38;5;241m.\u001b[39msents] \u001b[38;5;28;01mfor\u001b[39;00m doc \u001b[38;5;129;01min\u001b[39;00m docs]\n\u001b[1;32m      8\u001b[0m answers \u001b[38;5;241m=\u001b[39m batch[\u001b[38;5;124m\"\u001b[39m\u001b[38;5;124manswers\u001b[39m\u001b[38;5;124m\"\u001b[39m]\n\u001b[1;32m      9\u001b[0m \u001b[38;5;28;01mfor\u001b[39;00m sent, answer \u001b[38;5;129;01min\u001b[39;00m \u001b[38;5;28mzip\u001b[39m(sents, answers):\n",
      "Cell \u001b[0;32mIn[5], line 7\u001b[0m, in \u001b[0;36m<listcomp>\u001b[0;34m(.0)\u001b[0m\n\u001b[1;32m      5\u001b[0m batch \u001b[38;5;241m=\u001b[39m sample[i:i\u001b[38;5;241m+\u001b[39mbatch_size]\n\u001b[1;32m      6\u001b[0m docs \u001b[38;5;241m=\u001b[39m nlp\u001b[38;5;241m.\u001b[39mpipe(batch[\u001b[38;5;124m\"\u001b[39m\u001b[38;5;124mcontext\u001b[39m\u001b[38;5;124m\"\u001b[39m], batch_size\u001b[38;5;241m=\u001b[39mbatch_size)\n\u001b[0;32m----> 7\u001b[0m sents \u001b[38;5;241m=\u001b[39m [[sent\u001b[38;5;241m.\u001b[39mtext \u001b[38;5;28;01mfor\u001b[39;00m sent \u001b[38;5;129;01min\u001b[39;00m doc\u001b[38;5;241m.\u001b[39msents] \u001b[38;5;28;01mfor\u001b[39;00m doc \u001b[38;5;129;01min\u001b[39;00m docs]\n\u001b[1;32m      8\u001b[0m answers \u001b[38;5;241m=\u001b[39m batch[\u001b[38;5;124m\"\u001b[39m\u001b[38;5;124manswers\u001b[39m\u001b[38;5;124m\"\u001b[39m]\n\u001b[1;32m      9\u001b[0m \u001b[38;5;28;01mfor\u001b[39;00m sent, answer \u001b[38;5;129;01min\u001b[39;00m \u001b[38;5;28mzip\u001b[39m(sents, answers):\n",
      "File \u001b[0;32m/data/seongilpark/conda_envs/ft/lib/python3.10/site-packages/spacy/language.py:1618\u001b[0m, in \u001b[0;36mLanguage.pipe\u001b[0;34m(self, texts, as_tuples, batch_size, disable, component_cfg, n_process)\u001b[0m\n\u001b[1;32m   1616\u001b[0m     \u001b[38;5;28;01mfor\u001b[39;00m pipe \u001b[38;5;129;01min\u001b[39;00m pipes:\n\u001b[1;32m   1617\u001b[0m         docs \u001b[38;5;241m=\u001b[39m pipe(docs)\n\u001b[0;32m-> 1618\u001b[0m \u001b[38;5;28;01mfor\u001b[39;00m doc \u001b[38;5;129;01min\u001b[39;00m docs:\n\u001b[1;32m   1619\u001b[0m     \u001b[38;5;28;01myield\u001b[39;00m doc\n",
      "File \u001b[0;32m/data/seongilpark/conda_envs/ft/lib/python3.10/site-packages/spacy/util.py:1685\u001b[0m, in \u001b[0;36m_pipe\u001b[0;34m(docs, proc, name, default_error_handler, kwargs)\u001b[0m\n\u001b[1;32m   1675\u001b[0m \u001b[38;5;28;01mdef\u001b[39;00m \u001b[38;5;21m_pipe\u001b[39m(\n\u001b[1;32m   1676\u001b[0m     docs: Iterable[\u001b[38;5;124m\"\u001b[39m\u001b[38;5;124mDoc\u001b[39m\u001b[38;5;124m\"\u001b[39m],\n\u001b[1;32m   1677\u001b[0m     proc: \u001b[38;5;124m\"\u001b[39m\u001b[38;5;124mPipeCallable\u001b[39m\u001b[38;5;124m\"\u001b[39m,\n\u001b[0;32m   (...)\u001b[0m\n\u001b[1;32m   1682\u001b[0m     kwargs: Mapping[\u001b[38;5;28mstr\u001b[39m, Any],\n\u001b[1;32m   1683\u001b[0m ) \u001b[38;5;241m-\u001b[39m\u001b[38;5;241m>\u001b[39m Iterator[\u001b[38;5;124m\"\u001b[39m\u001b[38;5;124mDoc\u001b[39m\u001b[38;5;124m\"\u001b[39m]:\n\u001b[1;32m   1684\u001b[0m     \u001b[38;5;28;01mif\u001b[39;00m \u001b[38;5;28mhasattr\u001b[39m(proc, \u001b[38;5;124m\"\u001b[39m\u001b[38;5;124mpipe\u001b[39m\u001b[38;5;124m\"\u001b[39m):\n\u001b[0;32m-> 1685\u001b[0m         \u001b[38;5;28;01myield from\u001b[39;00m proc\u001b[38;5;241m.\u001b[39mpipe(docs, \u001b[38;5;241m*\u001b[39m\u001b[38;5;241m*\u001b[39mkwargs)\n\u001b[1;32m   1686\u001b[0m     \u001b[38;5;28;01melse\u001b[39;00m:\n\u001b[1;32m   1687\u001b[0m         \u001b[38;5;66;03m# We added some args for pipe that __call__ doesn't expect.\u001b[39;00m\n\u001b[1;32m   1688\u001b[0m         kwargs \u001b[38;5;241m=\u001b[39m \u001b[38;5;28mdict\u001b[39m(kwargs)\n",
      "File \u001b[0;32m/data/seongilpark/conda_envs/ft/lib/python3.10/site-packages/spacy/pipeline/transition_parser.pyx:245\u001b[0m, in \u001b[0;36mpipe\u001b[0;34m()\u001b[0m\n",
      "File \u001b[0;32m/data/seongilpark/conda_envs/ft/lib/python3.10/site-packages/spacy/util.py:1632\u001b[0m, in \u001b[0;36mminibatch\u001b[0;34m(items, size)\u001b[0m\n\u001b[1;32m   1630\u001b[0m \u001b[38;5;28;01mwhile\u001b[39;00m \u001b[38;5;28;01mTrue\u001b[39;00m:\n\u001b[1;32m   1631\u001b[0m     batch_size \u001b[38;5;241m=\u001b[39m \u001b[38;5;28mnext\u001b[39m(size_)\n\u001b[0;32m-> 1632\u001b[0m     batch \u001b[38;5;241m=\u001b[39m \u001b[38;5;28;43mlist\u001b[39;49m\u001b[43m(\u001b[49m\u001b[43mitertools\u001b[49m\u001b[38;5;241;43m.\u001b[39;49m\u001b[43mislice\u001b[49m\u001b[43m(\u001b[49m\u001b[43mitems\u001b[49m\u001b[43m,\u001b[49m\u001b[43m \u001b[49m\u001b[38;5;28;43mint\u001b[39;49m\u001b[43m(\u001b[49m\u001b[43mbatch_size\u001b[49m\u001b[43m)\u001b[49m\u001b[43m)\u001b[49m\u001b[43m)\u001b[49m\n\u001b[1;32m   1633\u001b[0m     \u001b[38;5;28;01mif\u001b[39;00m \u001b[38;5;28mlen\u001b[39m(batch) \u001b[38;5;241m==\u001b[39m \u001b[38;5;241m0\u001b[39m:\n\u001b[1;32m   1634\u001b[0m         \u001b[38;5;28;01mbreak\u001b[39;00m\n",
      "File \u001b[0;32m/data/seongilpark/conda_envs/ft/lib/python3.10/site-packages/spacy/util.py:1685\u001b[0m, in \u001b[0;36m_pipe\u001b[0;34m(docs, proc, name, default_error_handler, kwargs)\u001b[0m\n\u001b[1;32m   1675\u001b[0m \u001b[38;5;28;01mdef\u001b[39;00m \u001b[38;5;21m_pipe\u001b[39m(\n\u001b[1;32m   1676\u001b[0m     docs: Iterable[\u001b[38;5;124m\"\u001b[39m\u001b[38;5;124mDoc\u001b[39m\u001b[38;5;124m\"\u001b[39m],\n\u001b[1;32m   1677\u001b[0m     proc: \u001b[38;5;124m\"\u001b[39m\u001b[38;5;124mPipeCallable\u001b[39m\u001b[38;5;124m\"\u001b[39m,\n\u001b[0;32m   (...)\u001b[0m\n\u001b[1;32m   1682\u001b[0m     kwargs: Mapping[\u001b[38;5;28mstr\u001b[39m, Any],\n\u001b[1;32m   1683\u001b[0m ) \u001b[38;5;241m-\u001b[39m\u001b[38;5;241m>\u001b[39m Iterator[\u001b[38;5;124m\"\u001b[39m\u001b[38;5;124mDoc\u001b[39m\u001b[38;5;124m\"\u001b[39m]:\n\u001b[1;32m   1684\u001b[0m     \u001b[38;5;28;01mif\u001b[39;00m \u001b[38;5;28mhasattr\u001b[39m(proc, \u001b[38;5;124m\"\u001b[39m\u001b[38;5;124mpipe\u001b[39m\u001b[38;5;124m\"\u001b[39m):\n\u001b[0;32m-> 1685\u001b[0m         \u001b[38;5;28;01myield from\u001b[39;00m proc\u001b[38;5;241m.\u001b[39mpipe(docs, \u001b[38;5;241m*\u001b[39m\u001b[38;5;241m*\u001b[39mkwargs)\n\u001b[1;32m   1686\u001b[0m     \u001b[38;5;28;01melse\u001b[39;00m:\n\u001b[1;32m   1687\u001b[0m         \u001b[38;5;66;03m# We added some args for pipe that __call__ doesn't expect.\u001b[39;00m\n\u001b[1;32m   1688\u001b[0m         kwargs \u001b[38;5;241m=\u001b[39m \u001b[38;5;28mdict\u001b[39m(kwargs)\n",
      "File \u001b[0;32m/data/seongilpark/conda_envs/ft/lib/python3.10/site-packages/spacy/pipeline/pipe.pyx:55\u001b[0m, in \u001b[0;36mpipe\u001b[0;34m()\u001b[0m\n",
      "File \u001b[0;32m/data/seongilpark/conda_envs/ft/lib/python3.10/site-packages/spacy/util.py:1685\u001b[0m, in \u001b[0;36m_pipe\u001b[0;34m(docs, proc, name, default_error_handler, kwargs)\u001b[0m\n\u001b[1;32m   1675\u001b[0m \u001b[38;5;28;01mdef\u001b[39;00m \u001b[38;5;21m_pipe\u001b[39m(\n\u001b[1;32m   1676\u001b[0m     docs: Iterable[\u001b[38;5;124m\"\u001b[39m\u001b[38;5;124mDoc\u001b[39m\u001b[38;5;124m\"\u001b[39m],\n\u001b[1;32m   1677\u001b[0m     proc: \u001b[38;5;124m\"\u001b[39m\u001b[38;5;124mPipeCallable\u001b[39m\u001b[38;5;124m\"\u001b[39m,\n\u001b[0;32m   (...)\u001b[0m\n\u001b[1;32m   1682\u001b[0m     kwargs: Mapping[\u001b[38;5;28mstr\u001b[39m, Any],\n\u001b[1;32m   1683\u001b[0m ) \u001b[38;5;241m-\u001b[39m\u001b[38;5;241m>\u001b[39m Iterator[\u001b[38;5;124m\"\u001b[39m\u001b[38;5;124mDoc\u001b[39m\u001b[38;5;124m\"\u001b[39m]:\n\u001b[1;32m   1684\u001b[0m     \u001b[38;5;28;01mif\u001b[39;00m \u001b[38;5;28mhasattr\u001b[39m(proc, \u001b[38;5;124m\"\u001b[39m\u001b[38;5;124mpipe\u001b[39m\u001b[38;5;124m\"\u001b[39m):\n\u001b[0;32m-> 1685\u001b[0m         \u001b[38;5;28;01myield from\u001b[39;00m proc\u001b[38;5;241m.\u001b[39mpipe(docs, \u001b[38;5;241m*\u001b[39m\u001b[38;5;241m*\u001b[39mkwargs)\n\u001b[1;32m   1686\u001b[0m     \u001b[38;5;28;01melse\u001b[39;00m:\n\u001b[1;32m   1687\u001b[0m         \u001b[38;5;66;03m# We added some args for pipe that __call__ doesn't expect.\u001b[39;00m\n\u001b[1;32m   1688\u001b[0m         kwargs \u001b[38;5;241m=\u001b[39m \u001b[38;5;28mdict\u001b[39m(kwargs)\n",
      "File \u001b[0;32m/data/seongilpark/conda_envs/ft/lib/python3.10/site-packages/spacy/pipeline/pipe.pyx:55\u001b[0m, in \u001b[0;36mpipe\u001b[0;34m()\u001b[0m\n",
      "File \u001b[0;32m/data/seongilpark/conda_envs/ft/lib/python3.10/site-packages/spacy/util.py:1685\u001b[0m, in \u001b[0;36m_pipe\u001b[0;34m(docs, proc, name, default_error_handler, kwargs)\u001b[0m\n\u001b[1;32m   1675\u001b[0m \u001b[38;5;28;01mdef\u001b[39;00m \u001b[38;5;21m_pipe\u001b[39m(\n\u001b[1;32m   1676\u001b[0m     docs: Iterable[\u001b[38;5;124m\"\u001b[39m\u001b[38;5;124mDoc\u001b[39m\u001b[38;5;124m\"\u001b[39m],\n\u001b[1;32m   1677\u001b[0m     proc: \u001b[38;5;124m\"\u001b[39m\u001b[38;5;124mPipeCallable\u001b[39m\u001b[38;5;124m\"\u001b[39m,\n\u001b[0;32m   (...)\u001b[0m\n\u001b[1;32m   1682\u001b[0m     kwargs: Mapping[\u001b[38;5;28mstr\u001b[39m, Any],\n\u001b[1;32m   1683\u001b[0m ) \u001b[38;5;241m-\u001b[39m\u001b[38;5;241m>\u001b[39m Iterator[\u001b[38;5;124m\"\u001b[39m\u001b[38;5;124mDoc\u001b[39m\u001b[38;5;124m\"\u001b[39m]:\n\u001b[1;32m   1684\u001b[0m     \u001b[38;5;28;01mif\u001b[39;00m \u001b[38;5;28mhasattr\u001b[39m(proc, \u001b[38;5;124m\"\u001b[39m\u001b[38;5;124mpipe\u001b[39m\u001b[38;5;124m\"\u001b[39m):\n\u001b[0;32m-> 1685\u001b[0m         \u001b[38;5;28;01myield from\u001b[39;00m proc\u001b[38;5;241m.\u001b[39mpipe(docs, \u001b[38;5;241m*\u001b[39m\u001b[38;5;241m*\u001b[39mkwargs)\n\u001b[1;32m   1686\u001b[0m     \u001b[38;5;28;01melse\u001b[39;00m:\n\u001b[1;32m   1687\u001b[0m         \u001b[38;5;66;03m# We added some args for pipe that __call__ doesn't expect.\u001b[39;00m\n\u001b[1;32m   1688\u001b[0m         kwargs \u001b[38;5;241m=\u001b[39m \u001b[38;5;28mdict\u001b[39m(kwargs)\n",
      "File \u001b[0;32m/data/seongilpark/conda_envs/ft/lib/python3.10/site-packages/spacy/pipeline/transition_parser.pyx:245\u001b[0m, in \u001b[0;36mpipe\u001b[0;34m()\u001b[0m\n",
      "File \u001b[0;32m/data/seongilpark/conda_envs/ft/lib/python3.10/site-packages/spacy/util.py:1632\u001b[0m, in \u001b[0;36mminibatch\u001b[0;34m(items, size)\u001b[0m\n\u001b[1;32m   1630\u001b[0m \u001b[38;5;28;01mwhile\u001b[39;00m \u001b[38;5;28;01mTrue\u001b[39;00m:\n\u001b[1;32m   1631\u001b[0m     batch_size \u001b[38;5;241m=\u001b[39m \u001b[38;5;28mnext\u001b[39m(size_)\n\u001b[0;32m-> 1632\u001b[0m     batch \u001b[38;5;241m=\u001b[39m \u001b[38;5;28;43mlist\u001b[39;49m\u001b[43m(\u001b[49m\u001b[43mitertools\u001b[49m\u001b[38;5;241;43m.\u001b[39;49m\u001b[43mislice\u001b[49m\u001b[43m(\u001b[49m\u001b[43mitems\u001b[49m\u001b[43m,\u001b[49m\u001b[43m \u001b[49m\u001b[38;5;28;43mint\u001b[39;49m\u001b[43m(\u001b[49m\u001b[43mbatch_size\u001b[49m\u001b[43m)\u001b[49m\u001b[43m)\u001b[49m\u001b[43m)\u001b[49m\n\u001b[1;32m   1633\u001b[0m     \u001b[38;5;28;01mif\u001b[39;00m \u001b[38;5;28mlen\u001b[39m(batch) \u001b[38;5;241m==\u001b[39m \u001b[38;5;241m0\u001b[39m:\n\u001b[1;32m   1634\u001b[0m         \u001b[38;5;28;01mbreak\u001b[39;00m\n",
      "File \u001b[0;32m/data/seongilpark/conda_envs/ft/lib/python3.10/site-packages/spacy/util.py:1685\u001b[0m, in \u001b[0;36m_pipe\u001b[0;34m(docs, proc, name, default_error_handler, kwargs)\u001b[0m\n\u001b[1;32m   1675\u001b[0m \u001b[38;5;28;01mdef\u001b[39;00m \u001b[38;5;21m_pipe\u001b[39m(\n\u001b[1;32m   1676\u001b[0m     docs: Iterable[\u001b[38;5;124m\"\u001b[39m\u001b[38;5;124mDoc\u001b[39m\u001b[38;5;124m\"\u001b[39m],\n\u001b[1;32m   1677\u001b[0m     proc: \u001b[38;5;124m\"\u001b[39m\u001b[38;5;124mPipeCallable\u001b[39m\u001b[38;5;124m\"\u001b[39m,\n\u001b[0;32m   (...)\u001b[0m\n\u001b[1;32m   1682\u001b[0m     kwargs: Mapping[\u001b[38;5;28mstr\u001b[39m, Any],\n\u001b[1;32m   1683\u001b[0m ) \u001b[38;5;241m-\u001b[39m\u001b[38;5;241m>\u001b[39m Iterator[\u001b[38;5;124m\"\u001b[39m\u001b[38;5;124mDoc\u001b[39m\u001b[38;5;124m\"\u001b[39m]:\n\u001b[1;32m   1684\u001b[0m     \u001b[38;5;28;01mif\u001b[39;00m \u001b[38;5;28mhasattr\u001b[39m(proc, \u001b[38;5;124m\"\u001b[39m\u001b[38;5;124mpipe\u001b[39m\u001b[38;5;124m\"\u001b[39m):\n\u001b[0;32m-> 1685\u001b[0m         \u001b[38;5;28;01myield from\u001b[39;00m proc\u001b[38;5;241m.\u001b[39mpipe(docs, \u001b[38;5;241m*\u001b[39m\u001b[38;5;241m*\u001b[39mkwargs)\n\u001b[1;32m   1686\u001b[0m     \u001b[38;5;28;01melse\u001b[39;00m:\n\u001b[1;32m   1687\u001b[0m         \u001b[38;5;66;03m# We added some args for pipe that __call__ doesn't expect.\u001b[39;00m\n\u001b[1;32m   1688\u001b[0m         kwargs \u001b[38;5;241m=\u001b[39m \u001b[38;5;28mdict\u001b[39m(kwargs)\n",
      "File \u001b[0;32m/data/seongilpark/conda_envs/ft/lib/python3.10/site-packages/spacy/pipeline/trainable_pipe.pyx:73\u001b[0m, in \u001b[0;36mpipe\u001b[0;34m()\u001b[0m\n",
      "File \u001b[0;32m/data/seongilpark/conda_envs/ft/lib/python3.10/site-packages/spacy/util.py:1632\u001b[0m, in \u001b[0;36mminibatch\u001b[0;34m(items, size)\u001b[0m\n\u001b[1;32m   1630\u001b[0m \u001b[38;5;28;01mwhile\u001b[39;00m \u001b[38;5;28;01mTrue\u001b[39;00m:\n\u001b[1;32m   1631\u001b[0m     batch_size \u001b[38;5;241m=\u001b[39m \u001b[38;5;28mnext\u001b[39m(size_)\n\u001b[0;32m-> 1632\u001b[0m     batch \u001b[38;5;241m=\u001b[39m \u001b[38;5;28;43mlist\u001b[39;49m\u001b[43m(\u001b[49m\u001b[43mitertools\u001b[49m\u001b[38;5;241;43m.\u001b[39;49m\u001b[43mislice\u001b[49m\u001b[43m(\u001b[49m\u001b[43mitems\u001b[49m\u001b[43m,\u001b[49m\u001b[43m \u001b[49m\u001b[38;5;28;43mint\u001b[39;49m\u001b[43m(\u001b[49m\u001b[43mbatch_size\u001b[49m\u001b[43m)\u001b[49m\u001b[43m)\u001b[49m\u001b[43m)\u001b[49m\n\u001b[1;32m   1633\u001b[0m     \u001b[38;5;28;01mif\u001b[39;00m \u001b[38;5;28mlen\u001b[39m(batch) \u001b[38;5;241m==\u001b[39m \u001b[38;5;241m0\u001b[39m:\n\u001b[1;32m   1634\u001b[0m         \u001b[38;5;28;01mbreak\u001b[39;00m\n",
      "File \u001b[0;32m/data/seongilpark/conda_envs/ft/lib/python3.10/site-packages/spacy/util.py:1685\u001b[0m, in \u001b[0;36m_pipe\u001b[0;34m(docs, proc, name, default_error_handler, kwargs)\u001b[0m\n\u001b[1;32m   1675\u001b[0m \u001b[38;5;28;01mdef\u001b[39;00m \u001b[38;5;21m_pipe\u001b[39m(\n\u001b[1;32m   1676\u001b[0m     docs: Iterable[\u001b[38;5;124m\"\u001b[39m\u001b[38;5;124mDoc\u001b[39m\u001b[38;5;124m\"\u001b[39m],\n\u001b[1;32m   1677\u001b[0m     proc: \u001b[38;5;124m\"\u001b[39m\u001b[38;5;124mPipeCallable\u001b[39m\u001b[38;5;124m\"\u001b[39m,\n\u001b[0;32m   (...)\u001b[0m\n\u001b[1;32m   1682\u001b[0m     kwargs: Mapping[\u001b[38;5;28mstr\u001b[39m, Any],\n\u001b[1;32m   1683\u001b[0m ) \u001b[38;5;241m-\u001b[39m\u001b[38;5;241m>\u001b[39m Iterator[\u001b[38;5;124m\"\u001b[39m\u001b[38;5;124mDoc\u001b[39m\u001b[38;5;124m\"\u001b[39m]:\n\u001b[1;32m   1684\u001b[0m     \u001b[38;5;28;01mif\u001b[39;00m \u001b[38;5;28mhasattr\u001b[39m(proc, \u001b[38;5;124m\"\u001b[39m\u001b[38;5;124mpipe\u001b[39m\u001b[38;5;124m\"\u001b[39m):\n\u001b[0;32m-> 1685\u001b[0m         \u001b[38;5;28;01myield from\u001b[39;00m proc\u001b[38;5;241m.\u001b[39mpipe(docs, \u001b[38;5;241m*\u001b[39m\u001b[38;5;241m*\u001b[39mkwargs)\n\u001b[1;32m   1686\u001b[0m     \u001b[38;5;28;01melse\u001b[39;00m:\n\u001b[1;32m   1687\u001b[0m         \u001b[38;5;66;03m# We added some args for pipe that __call__ doesn't expect.\u001b[39;00m\n\u001b[1;32m   1688\u001b[0m         kwargs \u001b[38;5;241m=\u001b[39m \u001b[38;5;28mdict\u001b[39m(kwargs)\n",
      "File \u001b[0;32m/data/seongilpark/conda_envs/ft/lib/python3.10/site-packages/spacy_curated_transformers/pipeline/transformer.py:208\u001b[0m, in \u001b[0;36mCuratedTransformer.pipe\u001b[0;34m(self, stream, batch_size)\u001b[0m\n\u001b[1;32m    206\u001b[0m _install_extensions()\n\u001b[1;32m    207\u001b[0m \u001b[38;5;28;01mfor\u001b[39;00m batch \u001b[38;5;129;01min\u001b[39;00m minibatch(stream, batch_size):\n\u001b[0;32m--> 208\u001b[0m     preds \u001b[38;5;241m=\u001b[39m \u001b[38;5;28;43mself\u001b[39;49m\u001b[38;5;241;43m.\u001b[39;49m\u001b[43mpredict\u001b[49m\u001b[43m(\u001b[49m\u001b[43mbatch\u001b[49m\u001b[43m)\u001b[49m\n\u001b[1;32m    209\u001b[0m     \u001b[38;5;28mself\u001b[39m\u001b[38;5;241m.\u001b[39mset_annotations(batch, preds)\n\u001b[1;32m    210\u001b[0m     \u001b[38;5;28;01myield from\u001b[39;00m batch\n",
      "File \u001b[0;32m/data/seongilpark/conda_envs/ft/lib/python3.10/site-packages/spacy_curated_transformers/pipeline/transformer.py:240\u001b[0m, in \u001b[0;36mCuratedTransformer.predict\u001b[0;34m(self, docs)\u001b[0m\n\u001b[1;32m    238\u001b[0m \u001b[38;5;66;03m# To ensure that the model's internal state is always consistent with the pipe's.\u001b[39;00m\n\u001b[1;32m    239\u001b[0m \u001b[38;5;28mself\u001b[39m\u001b[38;5;241m.\u001b[39m_set_model_all_layer_outputs(\u001b[38;5;28mself\u001b[39m\u001b[38;5;241m.\u001b[39mall_layer_outputs)\n\u001b[0;32m--> 240\u001b[0m \u001b[38;5;28;01mreturn\u001b[39;00m \u001b[38;5;28;43mself\u001b[39;49m\u001b[38;5;241;43m.\u001b[39;49m\u001b[43mmodel\u001b[49m\u001b[38;5;241;43m.\u001b[39;49m\u001b[43mpredict\u001b[49m\u001b[43m(\u001b[49m\u001b[43mdocs\u001b[49m\u001b[43m)\u001b[49m\n",
      "File \u001b[0;32m/data/seongilpark/conda_envs/ft/lib/python3.10/site-packages/thinc/model.py:334\u001b[0m, in \u001b[0;36mModel.predict\u001b[0;34m(self, X)\u001b[0m\n\u001b[1;32m    330\u001b[0m \u001b[38;5;28;01mdef\u001b[39;00m \u001b[38;5;21mpredict\u001b[39m(\u001b[38;5;28mself\u001b[39m, X: InT) \u001b[38;5;241m-\u001b[39m\u001b[38;5;241m>\u001b[39m OutT:\n\u001b[1;32m    331\u001b[0m \u001b[38;5;250m    \u001b[39m\u001b[38;5;124;03m\"\"\"Call the model's `forward` function with `is_train=False`, and return\u001b[39;00m\n\u001b[1;32m    332\u001b[0m \u001b[38;5;124;03m    only the output, instead of the `(output, callback)` tuple.\u001b[39;00m\n\u001b[1;32m    333\u001b[0m \u001b[38;5;124;03m    \"\"\"\u001b[39;00m\n\u001b[0;32m--> 334\u001b[0m     \u001b[38;5;28;01mreturn\u001b[39;00m \u001b[38;5;28;43mself\u001b[39;49m\u001b[38;5;241;43m.\u001b[39;49m\u001b[43m_func\u001b[49m\u001b[43m(\u001b[49m\u001b[38;5;28;43mself\u001b[39;49m\u001b[43m,\u001b[49m\u001b[43m \u001b[49m\u001b[43mX\u001b[49m\u001b[43m,\u001b[49m\u001b[43m \u001b[49m\u001b[43mis_train\u001b[49m\u001b[38;5;241;43m=\u001b[39;49m\u001b[38;5;28;43;01mFalse\u001b[39;49;00m\u001b[43m)\u001b[49m[\u001b[38;5;241m0\u001b[39m]\n",
      "File \u001b[0;32m/data/seongilpark/conda_envs/ft/lib/python3.10/site-packages/spacy_curated_transformers/models/architectures.py:652\u001b[0m, in \u001b[0;36mtransformer_model_forward\u001b[0;34m(model, docs, is_train)\u001b[0m\n\u001b[1;32m    649\u001b[0m \u001b[38;5;28;01mdef\u001b[39;00m \u001b[38;5;21mtransformer_model_forward\u001b[39m(\n\u001b[1;32m    650\u001b[0m     model: TransformerModelT, docs: TransformerInT, is_train: \u001b[38;5;28mbool\u001b[39m\n\u001b[1;32m    651\u001b[0m ) \u001b[38;5;241m-\u001b[39m\u001b[38;5;241m>\u001b[39m Tuple[TransformerOutT, TransformerBackpropT]:\n\u001b[0;32m--> 652\u001b[0m     Y, backprop_layer \u001b[38;5;241m=\u001b[39m \u001b[43mmodel\u001b[49m\u001b[38;5;241;43m.\u001b[39;49m\u001b[43mlayers\u001b[49m\u001b[43m[\u001b[49m\u001b[38;5;241;43m0\u001b[39;49m\u001b[43m]\u001b[49m\u001b[43m(\u001b[49m\u001b[43mdocs\u001b[49m\u001b[43m,\u001b[49m\u001b[43m \u001b[49m\u001b[43mis_train\u001b[49m\u001b[38;5;241;43m=\u001b[39;49m\u001b[43mis_train\u001b[49m\u001b[43m)\u001b[49m\n\u001b[1;32m    654\u001b[0m     \u001b[38;5;28;01mdef\u001b[39;00m \u001b[38;5;21mbackprop\u001b[39m(dY):\n\u001b[1;32m    655\u001b[0m         backprop_layer(dY)\n",
      "File \u001b[0;32m/data/seongilpark/conda_envs/ft/lib/python3.10/site-packages/thinc/model.py:310\u001b[0m, in \u001b[0;36mModel.__call__\u001b[0;34m(self, X, is_train)\u001b[0m\n\u001b[1;32m    307\u001b[0m \u001b[38;5;28;01mdef\u001b[39;00m \u001b[38;5;21m__call__\u001b[39m(\u001b[38;5;28mself\u001b[39m, X: InT, is_train: \u001b[38;5;28mbool\u001b[39m) \u001b[38;5;241m-\u001b[39m\u001b[38;5;241m>\u001b[39m Tuple[OutT, Callable]:\n\u001b[1;32m    308\u001b[0m \u001b[38;5;250m    \u001b[39m\u001b[38;5;124;03m\"\"\"Call the model's `forward` function, returning the output and a\u001b[39;00m\n\u001b[1;32m    309\u001b[0m \u001b[38;5;124;03m    callback to compute the gradients via backpropagation.\"\"\"\u001b[39;00m\n\u001b[0;32m--> 310\u001b[0m     \u001b[38;5;28;01mreturn\u001b[39;00m \u001b[38;5;28;43mself\u001b[39;49m\u001b[38;5;241;43m.\u001b[39;49m\u001b[43m_func\u001b[49m\u001b[43m(\u001b[49m\u001b[38;5;28;43mself\u001b[39;49m\u001b[43m,\u001b[49m\u001b[43m \u001b[49m\u001b[43mX\u001b[49m\u001b[43m,\u001b[49m\u001b[43m \u001b[49m\u001b[43mis_train\u001b[49m\u001b[38;5;241;43m=\u001b[39;49m\u001b[43mis_train\u001b[49m\u001b[43m)\u001b[49m\n",
      "File \u001b[0;32m/data/seongilpark/conda_envs/ft/lib/python3.10/site-packages/spacy_curated_transformers/models/with_non_ws_tokens.py:72\u001b[0m, in \u001b[0;36mwith_non_ws_tokens_forward\u001b[0;34m(model, X, is_train)\u001b[0m\n\u001b[1;32m     70\u001b[0m inner: Model[Tok2PiecesInT, WsTokenAdapterOutT] \u001b[38;5;241m=\u001b[39m model\u001b[38;5;241m.\u001b[39mlayers[\u001b[38;5;241m0\u001b[39m]\n\u001b[1;32m     71\u001b[0m tokens, ws_counts \u001b[38;5;241m=\u001b[39m _filter_tokens(X)\n\u001b[0;32m---> 72\u001b[0m Y_no_ws, backprop_no_ws \u001b[38;5;241m=\u001b[39m \u001b[43minner\u001b[49m\u001b[43m(\u001b[49m\u001b[43mtokens\u001b[49m\u001b[43m,\u001b[49m\u001b[43m \u001b[49m\u001b[43mis_train\u001b[49m\u001b[43m)\u001b[49m\n\u001b[1;32m     74\u001b[0m \u001b[38;5;66;03m# Note: we modify the model outputs in-place. Since we are wrapping the\u001b[39;00m\n\u001b[1;32m     75\u001b[0m \u001b[38;5;66;03m# model, there should be no other consumers. Not sure yet if the same\u001b[39;00m\n\u001b[1;32m     76\u001b[0m \u001b[38;5;66;03m# applies to the gradient (e.g. consider summing two encoders of the\u001b[39;00m\n\u001b[1;32m     77\u001b[0m \u001b[38;5;66;03m# same width downstream.)\u001b[39;00m\n\u001b[1;32m     79\u001b[0m alignments \u001b[38;5;241m=\u001b[39m _create_alignments(model, Y_no_ws, ws_counts)\n",
      "File \u001b[0;32m/data/seongilpark/conda_envs/ft/lib/python3.10/site-packages/thinc/model.py:310\u001b[0m, in \u001b[0;36mModel.__call__\u001b[0;34m(self, X, is_train)\u001b[0m\n\u001b[1;32m    307\u001b[0m \u001b[38;5;28;01mdef\u001b[39;00m \u001b[38;5;21m__call__\u001b[39m(\u001b[38;5;28mself\u001b[39m, X: InT, is_train: \u001b[38;5;28mbool\u001b[39m) \u001b[38;5;241m-\u001b[39m\u001b[38;5;241m>\u001b[39m Tuple[OutT, Callable]:\n\u001b[1;32m    308\u001b[0m \u001b[38;5;250m    \u001b[39m\u001b[38;5;124;03m\"\"\"Call the model's `forward` function, returning the output and a\u001b[39;00m\n\u001b[1;32m    309\u001b[0m \u001b[38;5;124;03m    callback to compute the gradients via backpropagation.\"\"\"\u001b[39;00m\n\u001b[0;32m--> 310\u001b[0m     \u001b[38;5;28;01mreturn\u001b[39;00m \u001b[38;5;28;43mself\u001b[39;49m\u001b[38;5;241;43m.\u001b[39;49m\u001b[43m_func\u001b[49m\u001b[43m(\u001b[49m\u001b[38;5;28;43mself\u001b[39;49m\u001b[43m,\u001b[49m\u001b[43m \u001b[49m\u001b[43mX\u001b[49m\u001b[43m,\u001b[49m\u001b[43m \u001b[49m\u001b[43mis_train\u001b[49m\u001b[38;5;241;43m=\u001b[39;49m\u001b[43mis_train\u001b[49m\u001b[43m)\u001b[49m\n",
      "File \u001b[0;32m/data/seongilpark/conda_envs/ft/lib/python3.10/site-packages/thinc/layers/chain.py:54\u001b[0m, in \u001b[0;36mforward\u001b[0;34m(model, X, is_train)\u001b[0m\n\u001b[1;32m     52\u001b[0m callbacks \u001b[38;5;241m=\u001b[39m []\n\u001b[1;32m     53\u001b[0m \u001b[38;5;28;01mfor\u001b[39;00m layer \u001b[38;5;129;01min\u001b[39;00m model\u001b[38;5;241m.\u001b[39mlayers:\n\u001b[0;32m---> 54\u001b[0m     Y, inc_layer_grad \u001b[38;5;241m=\u001b[39m \u001b[43mlayer\u001b[49m\u001b[43m(\u001b[49m\u001b[43mX\u001b[49m\u001b[43m,\u001b[49m\u001b[43m \u001b[49m\u001b[43mis_train\u001b[49m\u001b[38;5;241;43m=\u001b[39;49m\u001b[43mis_train\u001b[49m\u001b[43m)\u001b[49m\n\u001b[1;32m     55\u001b[0m     callbacks\u001b[38;5;241m.\u001b[39mappend(inc_layer_grad)\n\u001b[1;32m     56\u001b[0m     X \u001b[38;5;241m=\u001b[39m Y\n",
      "File \u001b[0;32m/data/seongilpark/conda_envs/ft/lib/python3.10/site-packages/thinc/model.py:310\u001b[0m, in \u001b[0;36mModel.__call__\u001b[0;34m(self, X, is_train)\u001b[0m\n\u001b[1;32m    307\u001b[0m \u001b[38;5;28;01mdef\u001b[39;00m \u001b[38;5;21m__call__\u001b[39m(\u001b[38;5;28mself\u001b[39m, X: InT, is_train: \u001b[38;5;28mbool\u001b[39m) \u001b[38;5;241m-\u001b[39m\u001b[38;5;241m>\u001b[39m Tuple[OutT, Callable]:\n\u001b[1;32m    308\u001b[0m \u001b[38;5;250m    \u001b[39m\u001b[38;5;124;03m\"\"\"Call the model's `forward` function, returning the output and a\u001b[39;00m\n\u001b[1;32m    309\u001b[0m \u001b[38;5;124;03m    callback to compute the gradients via backpropagation.\"\"\"\u001b[39;00m\n\u001b[0;32m--> 310\u001b[0m     \u001b[38;5;28;01mreturn\u001b[39;00m \u001b[38;5;28;43mself\u001b[39;49m\u001b[38;5;241;43m.\u001b[39;49m\u001b[43m_func\u001b[49m\u001b[43m(\u001b[49m\u001b[38;5;28;43mself\u001b[39;49m\u001b[43m,\u001b[49m\u001b[43m \u001b[49m\u001b[43mX\u001b[49m\u001b[43m,\u001b[49m\u001b[43m \u001b[49m\u001b[43mis_train\u001b[49m\u001b[38;5;241;43m=\u001b[39;49m\u001b[43mis_train\u001b[49m\u001b[43m)\u001b[49m\n",
      "File \u001b[0;32m/data/seongilpark/conda_envs/ft/lib/python3.10/site-packages/spacy_curated_transformers/models/with_strided_spans.py:109\u001b[0m, in \u001b[0;36mwith_strided_spans_forward\u001b[0;34m(model, X, is_train)\u001b[0m\n\u001b[1;32m    107\u001b[0m outputs \u001b[38;5;241m=\u001b[39m []\n\u001b[1;32m    108\u001b[0m \u001b[38;5;28;01mfor\u001b[39;00m batch \u001b[38;5;129;01min\u001b[39;00m _split_spans(spans, batch_size):\n\u001b[0;32m--> 109\u001b[0m     output, bp \u001b[38;5;241m=\u001b[39m \u001b[43mtransformer\u001b[49m\u001b[43m(\u001b[49m\u001b[43mcast\u001b[49m\u001b[43m(\u001b[49m\u001b[43mTorchTransformerInT\u001b[49m\u001b[43m,\u001b[49m\u001b[43m \u001b[49m\u001b[43mbatch\u001b[49m\u001b[43m)\u001b[49m\u001b[43m,\u001b[49m\u001b[43m \u001b[49m\u001b[43mis_train\u001b[49m\u001b[38;5;241;43m=\u001b[39;49m\u001b[43mis_train\u001b[49m\u001b[43m)\u001b[49m\n\u001b[1;32m    110\u001b[0m     \u001b[38;5;28;01mif\u001b[39;00m \u001b[38;5;129;01mnot\u001b[39;00m \u001b[38;5;28misinstance\u001b[39m(output, TransformerModelOutput):\n\u001b[1;32m    111\u001b[0m         \u001b[38;5;28;01mraise\u001b[39;00m \u001b[38;5;167;01mValueError\u001b[39;00m(\n\u001b[1;32m    112\u001b[0m             Errors\u001b[38;5;241m.\u001b[39mE014\u001b[38;5;241m.\u001b[39mformat(model_name\u001b[38;5;241m=\u001b[39mmodel\u001b[38;5;241m.\u001b[39mname, input_type\u001b[38;5;241m=\u001b[39m\u001b[38;5;28mtype\u001b[39m(output))\n\u001b[1;32m    113\u001b[0m         )\n",
      "File \u001b[0;32m/data/seongilpark/conda_envs/ft/lib/python3.10/site-packages/thinc/model.py:310\u001b[0m, in \u001b[0;36mModel.__call__\u001b[0;34m(self, X, is_train)\u001b[0m\n\u001b[1;32m    307\u001b[0m \u001b[38;5;28;01mdef\u001b[39;00m \u001b[38;5;21m__call__\u001b[39m(\u001b[38;5;28mself\u001b[39m, X: InT, is_train: \u001b[38;5;28mbool\u001b[39m) \u001b[38;5;241m-\u001b[39m\u001b[38;5;241m>\u001b[39m Tuple[OutT, Callable]:\n\u001b[1;32m    308\u001b[0m \u001b[38;5;250m    \u001b[39m\u001b[38;5;124;03m\"\"\"Call the model's `forward` function, returning the output and a\u001b[39;00m\n\u001b[1;32m    309\u001b[0m \u001b[38;5;124;03m    callback to compute the gradients via backpropagation.\"\"\"\u001b[39;00m\n\u001b[0;32m--> 310\u001b[0m     \u001b[38;5;28;01mreturn\u001b[39;00m \u001b[38;5;28;43mself\u001b[39;49m\u001b[38;5;241;43m.\u001b[39;49m\u001b[43m_func\u001b[49m\u001b[43m(\u001b[49m\u001b[38;5;28;43mself\u001b[39;49m\u001b[43m,\u001b[49m\u001b[43m \u001b[49m\u001b[43mX\u001b[49m\u001b[43m,\u001b[49m\u001b[43m \u001b[49m\u001b[43mis_train\u001b[49m\u001b[38;5;241;43m=\u001b[39;49m\u001b[43mis_train\u001b[49m\u001b[43m)\u001b[49m\n",
      "File \u001b[0;32m/data/seongilpark/conda_envs/ft/lib/python3.10/site-packages/thinc/layers/pytorchwrapper.py:225\u001b[0m, in \u001b[0;36mforward\u001b[0;34m(model, X, is_train)\u001b[0m\n\u001b[1;32m    222\u001b[0m convert_outputs \u001b[38;5;241m=\u001b[39m model\u001b[38;5;241m.\u001b[39mattrs[\u001b[38;5;124m\"\u001b[39m\u001b[38;5;124mconvert_outputs\u001b[39m\u001b[38;5;124m\"\u001b[39m]\n\u001b[1;32m    224\u001b[0m Xtorch, get_dX \u001b[38;5;241m=\u001b[39m convert_inputs(model, X, is_train)\n\u001b[0;32m--> 225\u001b[0m Ytorch, torch_backprop \u001b[38;5;241m=\u001b[39m \u001b[43mmodel\u001b[49m\u001b[38;5;241;43m.\u001b[39;49m\u001b[43mshims\u001b[49m\u001b[43m[\u001b[49m\u001b[38;5;241;43m0\u001b[39;49m\u001b[43m]\u001b[49m\u001b[43m(\u001b[49m\u001b[43mXtorch\u001b[49m\u001b[43m,\u001b[49m\u001b[43m \u001b[49m\u001b[43mis_train\u001b[49m\u001b[43m)\u001b[49m\n\u001b[1;32m    226\u001b[0m Y, get_dYtorch \u001b[38;5;241m=\u001b[39m convert_outputs(model, (X, Ytorch), is_train)\n\u001b[1;32m    228\u001b[0m \u001b[38;5;28;01mdef\u001b[39;00m \u001b[38;5;21mbackprop\u001b[39m(dY: Any) \u001b[38;5;241m-\u001b[39m\u001b[38;5;241m>\u001b[39m Any:\n",
      "File \u001b[0;32m/data/seongilpark/conda_envs/ft/lib/python3.10/site-packages/thinc/shims/pytorch.py:97\u001b[0m, in \u001b[0;36mPyTorchShim.__call__\u001b[0;34m(self, inputs, is_train)\u001b[0m\n\u001b[1;32m     95\u001b[0m     \u001b[38;5;28;01mreturn\u001b[39;00m \u001b[38;5;28mself\u001b[39m\u001b[38;5;241m.\u001b[39mbegin_update(inputs)\n\u001b[1;32m     96\u001b[0m \u001b[38;5;28;01melse\u001b[39;00m:\n\u001b[0;32m---> 97\u001b[0m     \u001b[38;5;28;01mreturn\u001b[39;00m \u001b[38;5;28;43mself\u001b[39;49m\u001b[38;5;241;43m.\u001b[39;49m\u001b[43mpredict\u001b[49m\u001b[43m(\u001b[49m\u001b[43minputs\u001b[49m\u001b[43m)\u001b[49m, \u001b[38;5;28;01mlambda\u001b[39;00m a: \u001b[38;5;241m.\u001b[39m\u001b[38;5;241m.\u001b[39m\u001b[38;5;241m.\u001b[39m\n",
      "File \u001b[0;32m/data/seongilpark/conda_envs/ft/lib/python3.10/site-packages/thinc/shims/pytorch.py:115\u001b[0m, in \u001b[0;36mPyTorchShim.predict\u001b[0;34m(self, inputs)\u001b[0m\n\u001b[1;32m    113\u001b[0m \u001b[38;5;28;01mwith\u001b[39;00m torch\u001b[38;5;241m.\u001b[39mno_grad():\n\u001b[1;32m    114\u001b[0m     \u001b[38;5;28;01mwith\u001b[39;00m torch\u001b[38;5;241m.\u001b[39mcuda\u001b[38;5;241m.\u001b[39mamp\u001b[38;5;241m.\u001b[39mautocast(\u001b[38;5;28mself\u001b[39m\u001b[38;5;241m.\u001b[39m_mixed_precision):\n\u001b[0;32m--> 115\u001b[0m         outputs \u001b[38;5;241m=\u001b[39m \u001b[38;5;28;43mself\u001b[39;49m\u001b[38;5;241;43m.\u001b[39;49m\u001b[43m_model\u001b[49m\u001b[43m(\u001b[49m\u001b[38;5;241;43m*\u001b[39;49m\u001b[43minputs\u001b[49m\u001b[38;5;241;43m.\u001b[39;49m\u001b[43margs\u001b[49m\u001b[43m,\u001b[49m\u001b[43m \u001b[49m\u001b[38;5;241;43m*\u001b[39;49m\u001b[38;5;241;43m*\u001b[39;49m\u001b[43minputs\u001b[49m\u001b[38;5;241;43m.\u001b[39;49m\u001b[43mkwargs\u001b[49m\u001b[43m)\u001b[49m\n\u001b[1;32m    116\u001b[0m \u001b[38;5;28mself\u001b[39m\u001b[38;5;241m.\u001b[39m_model\u001b[38;5;241m.\u001b[39mtrain()\n\u001b[1;32m    117\u001b[0m \u001b[38;5;28;01mreturn\u001b[39;00m outputs\n",
      "File \u001b[0;32m/data/seongilpark/conda_envs/ft/lib/python3.10/site-packages/torch/nn/modules/module.py:1518\u001b[0m, in \u001b[0;36mModule._wrapped_call_impl\u001b[0;34m(self, *args, **kwargs)\u001b[0m\n\u001b[1;32m   1516\u001b[0m     \u001b[38;5;28;01mreturn\u001b[39;00m \u001b[38;5;28mself\u001b[39m\u001b[38;5;241m.\u001b[39m_compiled_call_impl(\u001b[38;5;241m*\u001b[39margs, \u001b[38;5;241m*\u001b[39m\u001b[38;5;241m*\u001b[39mkwargs)  \u001b[38;5;66;03m# type: ignore[misc]\u001b[39;00m\n\u001b[1;32m   1517\u001b[0m \u001b[38;5;28;01melse\u001b[39;00m:\n\u001b[0;32m-> 1518\u001b[0m     \u001b[38;5;28;01mreturn\u001b[39;00m \u001b[38;5;28;43mself\u001b[39;49m\u001b[38;5;241;43m.\u001b[39;49m\u001b[43m_call_impl\u001b[49m\u001b[43m(\u001b[49m\u001b[38;5;241;43m*\u001b[39;49m\u001b[43margs\u001b[49m\u001b[43m,\u001b[49m\u001b[43m \u001b[49m\u001b[38;5;241;43m*\u001b[39;49m\u001b[38;5;241;43m*\u001b[39;49m\u001b[43mkwargs\u001b[49m\u001b[43m)\u001b[49m\n",
      "File \u001b[0;32m/data/seongilpark/conda_envs/ft/lib/python3.10/site-packages/torch/nn/modules/module.py:1527\u001b[0m, in \u001b[0;36mModule._call_impl\u001b[0;34m(self, *args, **kwargs)\u001b[0m\n\u001b[1;32m   1522\u001b[0m \u001b[38;5;66;03m# If we don't have any hooks, we want to skip the rest of the logic in\u001b[39;00m\n\u001b[1;32m   1523\u001b[0m \u001b[38;5;66;03m# this function, and just call forward.\u001b[39;00m\n\u001b[1;32m   1524\u001b[0m \u001b[38;5;28;01mif\u001b[39;00m \u001b[38;5;129;01mnot\u001b[39;00m (\u001b[38;5;28mself\u001b[39m\u001b[38;5;241m.\u001b[39m_backward_hooks \u001b[38;5;129;01mor\u001b[39;00m \u001b[38;5;28mself\u001b[39m\u001b[38;5;241m.\u001b[39m_backward_pre_hooks \u001b[38;5;129;01mor\u001b[39;00m \u001b[38;5;28mself\u001b[39m\u001b[38;5;241m.\u001b[39m_forward_hooks \u001b[38;5;129;01mor\u001b[39;00m \u001b[38;5;28mself\u001b[39m\u001b[38;5;241m.\u001b[39m_forward_pre_hooks\n\u001b[1;32m   1525\u001b[0m         \u001b[38;5;129;01mor\u001b[39;00m _global_backward_pre_hooks \u001b[38;5;129;01mor\u001b[39;00m _global_backward_hooks\n\u001b[1;32m   1526\u001b[0m         \u001b[38;5;129;01mor\u001b[39;00m _global_forward_hooks \u001b[38;5;129;01mor\u001b[39;00m _global_forward_pre_hooks):\n\u001b[0;32m-> 1527\u001b[0m     \u001b[38;5;28;01mreturn\u001b[39;00m \u001b[43mforward_call\u001b[49m\u001b[43m(\u001b[49m\u001b[38;5;241;43m*\u001b[39;49m\u001b[43margs\u001b[49m\u001b[43m,\u001b[49m\u001b[43m \u001b[49m\u001b[38;5;241;43m*\u001b[39;49m\u001b[38;5;241;43m*\u001b[39;49m\u001b[43mkwargs\u001b[49m\u001b[43m)\u001b[49m\n\u001b[1;32m   1529\u001b[0m \u001b[38;5;28;01mtry\u001b[39;00m:\n\u001b[1;32m   1530\u001b[0m     result \u001b[38;5;241m=\u001b[39m \u001b[38;5;28;01mNone\u001b[39;00m\n",
      "File \u001b[0;32m/data/seongilpark/conda_envs/ft/lib/python3.10/site-packages/curated_transformers/models/curated_transformer.py:37\u001b[0m, in \u001b[0;36mCuratedTransformer.forward\u001b[0;34m(self, input_ids, attention_mask, token_type_ids)\u001b[0m\n\u001b[1;32m     27\u001b[0m \u001b[38;5;28;01mdef\u001b[39;00m \u001b[38;5;21mforward\u001b[39m(\n\u001b[1;32m     28\u001b[0m     \u001b[38;5;28mself\u001b[39m,\n\u001b[1;32m     29\u001b[0m     input_ids: Tensor,\n\u001b[1;32m     30\u001b[0m     attention_mask: Optional[AttentionMask] \u001b[38;5;241m=\u001b[39m \u001b[38;5;28;01mNone\u001b[39;00m,\n\u001b[1;32m     31\u001b[0m     token_type_ids: Optional[Tensor] \u001b[38;5;241m=\u001b[39m \u001b[38;5;28;01mNone\u001b[39;00m,\n\u001b[1;32m     32\u001b[0m ) \u001b[38;5;241m-\u001b[39m\u001b[38;5;241m>\u001b[39m PyTorchTransformerOutput:\n\u001b[1;32m     33\u001b[0m \u001b[38;5;250m    \u001b[39m\u001b[38;5;124;03m\"\"\"\u001b[39;00m\n\u001b[1;32m     34\u001b[0m \u001b[38;5;124;03m    Shapes:\u001b[39;00m\n\u001b[1;32m     35\u001b[0m \u001b[38;5;124;03m        input_ids, attention_mask, token_type_ids - (batch, seq_len)\u001b[39;00m\n\u001b[1;32m     36\u001b[0m \u001b[38;5;124;03m    \"\"\"\u001b[39;00m\n\u001b[0;32m---> 37\u001b[0m     \u001b[38;5;28;01mreturn\u001b[39;00m \u001b[38;5;28;43mself\u001b[39;49m\u001b[38;5;241;43m.\u001b[39;49m\u001b[43mcurated_encoder\u001b[49m\u001b[38;5;241;43m.\u001b[39;49m\u001b[43mforward\u001b[49m\u001b[43m(\u001b[49m\u001b[43minput_ids\u001b[49m\u001b[43m,\u001b[49m\u001b[43m \u001b[49m\u001b[43mattention_mask\u001b[49m\u001b[43m,\u001b[49m\u001b[43m \u001b[49m\u001b[43mtoken_type_ids\u001b[49m\u001b[43m)\u001b[49m\n",
      "File \u001b[0;32m/data/seongilpark/conda_envs/ft/lib/python3.10/site-packages/curated_transformers/models/roberta/encoder.py:51\u001b[0m, in \u001b[0;36mRobertaEncoder.forward\u001b[0;34m(self, input_ids, attention_mask, token_type_ids)\u001b[0m\n\u001b[1;32m     49\u001b[0m layer_outputs \u001b[38;5;241m=\u001b[39m []\n\u001b[1;32m     50\u001b[0m \u001b[38;5;28;01mfor\u001b[39;00m layer \u001b[38;5;129;01min\u001b[39;00m \u001b[38;5;28mself\u001b[39m\u001b[38;5;241m.\u001b[39mlayers:\n\u001b[0;32m---> 51\u001b[0m     layer_output \u001b[38;5;241m=\u001b[39m \u001b[43mlayer\u001b[49m\u001b[43m(\u001b[49m\u001b[43mlayer_output\u001b[49m\u001b[43m,\u001b[49m\u001b[43m \u001b[49m\u001b[43mattention_mask\u001b[49m\u001b[43m)\u001b[49m\n\u001b[1;32m     52\u001b[0m     layer_outputs\u001b[38;5;241m.\u001b[39mappend(layer_output)\n\u001b[1;32m     54\u001b[0m \u001b[38;5;28;01mreturn\u001b[39;00m PyTorchTransformerOutput(\n\u001b[1;32m     55\u001b[0m     embedding_output\u001b[38;5;241m=\u001b[39membeddings, layer_hidden_states\u001b[38;5;241m=\u001b[39mlayer_outputs\n\u001b[1;32m     56\u001b[0m )\n",
      "File \u001b[0;32m/data/seongilpark/conda_envs/ft/lib/python3.10/site-packages/torch/nn/modules/module.py:1518\u001b[0m, in \u001b[0;36mModule._wrapped_call_impl\u001b[0;34m(self, *args, **kwargs)\u001b[0m\n\u001b[1;32m   1516\u001b[0m     \u001b[38;5;28;01mreturn\u001b[39;00m \u001b[38;5;28mself\u001b[39m\u001b[38;5;241m.\u001b[39m_compiled_call_impl(\u001b[38;5;241m*\u001b[39margs, \u001b[38;5;241m*\u001b[39m\u001b[38;5;241m*\u001b[39mkwargs)  \u001b[38;5;66;03m# type: ignore[misc]\u001b[39;00m\n\u001b[1;32m   1517\u001b[0m \u001b[38;5;28;01melse\u001b[39;00m:\n\u001b[0;32m-> 1518\u001b[0m     \u001b[38;5;28;01mreturn\u001b[39;00m \u001b[38;5;28;43mself\u001b[39;49m\u001b[38;5;241;43m.\u001b[39;49m\u001b[43m_call_impl\u001b[49m\u001b[43m(\u001b[49m\u001b[38;5;241;43m*\u001b[39;49m\u001b[43margs\u001b[49m\u001b[43m,\u001b[49m\u001b[43m \u001b[49m\u001b[38;5;241;43m*\u001b[39;49m\u001b[38;5;241;43m*\u001b[39;49m\u001b[43mkwargs\u001b[49m\u001b[43m)\u001b[49m\n",
      "File \u001b[0;32m/data/seongilpark/conda_envs/ft/lib/python3.10/site-packages/torch/nn/modules/module.py:1527\u001b[0m, in \u001b[0;36mModule._call_impl\u001b[0;34m(self, *args, **kwargs)\u001b[0m\n\u001b[1;32m   1522\u001b[0m \u001b[38;5;66;03m# If we don't have any hooks, we want to skip the rest of the logic in\u001b[39;00m\n\u001b[1;32m   1523\u001b[0m \u001b[38;5;66;03m# this function, and just call forward.\u001b[39;00m\n\u001b[1;32m   1524\u001b[0m \u001b[38;5;28;01mif\u001b[39;00m \u001b[38;5;129;01mnot\u001b[39;00m (\u001b[38;5;28mself\u001b[39m\u001b[38;5;241m.\u001b[39m_backward_hooks \u001b[38;5;129;01mor\u001b[39;00m \u001b[38;5;28mself\u001b[39m\u001b[38;5;241m.\u001b[39m_backward_pre_hooks \u001b[38;5;129;01mor\u001b[39;00m \u001b[38;5;28mself\u001b[39m\u001b[38;5;241m.\u001b[39m_forward_hooks \u001b[38;5;129;01mor\u001b[39;00m \u001b[38;5;28mself\u001b[39m\u001b[38;5;241m.\u001b[39m_forward_pre_hooks\n\u001b[1;32m   1525\u001b[0m         \u001b[38;5;129;01mor\u001b[39;00m _global_backward_pre_hooks \u001b[38;5;129;01mor\u001b[39;00m _global_backward_hooks\n\u001b[1;32m   1526\u001b[0m         \u001b[38;5;129;01mor\u001b[39;00m _global_forward_hooks \u001b[38;5;129;01mor\u001b[39;00m _global_forward_pre_hooks):\n\u001b[0;32m-> 1527\u001b[0m     \u001b[38;5;28;01mreturn\u001b[39;00m \u001b[43mforward_call\u001b[49m\u001b[43m(\u001b[49m\u001b[38;5;241;43m*\u001b[39;49m\u001b[43margs\u001b[49m\u001b[43m,\u001b[49m\u001b[43m \u001b[49m\u001b[38;5;241;43m*\u001b[39;49m\u001b[38;5;241;43m*\u001b[39;49m\u001b[43mkwargs\u001b[49m\u001b[43m)\u001b[49m\n\u001b[1;32m   1529\u001b[0m \u001b[38;5;28;01mtry\u001b[39;00m:\n\u001b[1;32m   1530\u001b[0m     result \u001b[38;5;241m=\u001b[39m \u001b[38;5;28;01mNone\u001b[39;00m\n",
      "File \u001b[0;32m/data/seongilpark/conda_envs/ft/lib/python3.10/site-packages/curated_transformers/models/bert/layer.py:129\u001b[0m, in \u001b[0;36mBertEncoderLayer.forward\u001b[0;34m(self, x, attn_mask)\u001b[0m\n\u001b[1;32m    123\u001b[0m \u001b[38;5;28;01mdef\u001b[39;00m \u001b[38;5;21mforward\u001b[39m(\u001b[38;5;28mself\u001b[39m, x: Tensor, attn_mask: AttentionMask) \u001b[38;5;241m-\u001b[39m\u001b[38;5;241m>\u001b[39m Tensor:\n\u001b[1;32m    124\u001b[0m \u001b[38;5;250m    \u001b[39m\u001b[38;5;124;03m\"\"\"\u001b[39;00m\n\u001b[1;32m    125\u001b[0m \u001b[38;5;124;03m    Shapes:\u001b[39;00m\n\u001b[1;32m    126\u001b[0m \u001b[38;5;124;03m        x - (batch, seq_len, width)\u001b[39;00m\n\u001b[1;32m    127\u001b[0m \u001b[38;5;124;03m        attn_mask - (batch, seq_len)\u001b[39;00m\n\u001b[1;32m    128\u001b[0m \u001b[38;5;124;03m    \"\"\"\u001b[39;00m\n\u001b[0;32m--> 129\u001b[0m     attn_out \u001b[38;5;241m=\u001b[39m \u001b[38;5;28;43mself\u001b[39;49m\u001b[38;5;241;43m.\u001b[39;49m\u001b[43mmha\u001b[49m\u001b[43m(\u001b[49m\u001b[43mx\u001b[49m\u001b[43m,\u001b[49m\u001b[43m \u001b[49m\u001b[43mattn_mask\u001b[49m\u001b[43m)\u001b[49m\n\u001b[1;32m    130\u001b[0m     attn_out \u001b[38;5;241m=\u001b[39m \u001b[38;5;28mself\u001b[39m\u001b[38;5;241m.\u001b[39mattn_output_dropout(attn_out)\n\u001b[1;32m    131\u001b[0m     attn_out \u001b[38;5;241m=\u001b[39m \u001b[38;5;28mself\u001b[39m\u001b[38;5;241m.\u001b[39mattn_output_layernorm(x \u001b[38;5;241m+\u001b[39m attn_out)\n",
      "File \u001b[0;32m/data/seongilpark/conda_envs/ft/lib/python3.10/site-packages/torch/nn/modules/module.py:1518\u001b[0m, in \u001b[0;36mModule._wrapped_call_impl\u001b[0;34m(self, *args, **kwargs)\u001b[0m\n\u001b[1;32m   1516\u001b[0m     \u001b[38;5;28;01mreturn\u001b[39;00m \u001b[38;5;28mself\u001b[39m\u001b[38;5;241m.\u001b[39m_compiled_call_impl(\u001b[38;5;241m*\u001b[39margs, \u001b[38;5;241m*\u001b[39m\u001b[38;5;241m*\u001b[39mkwargs)  \u001b[38;5;66;03m# type: ignore[misc]\u001b[39;00m\n\u001b[1;32m   1517\u001b[0m \u001b[38;5;28;01melse\u001b[39;00m:\n\u001b[0;32m-> 1518\u001b[0m     \u001b[38;5;28;01mreturn\u001b[39;00m \u001b[38;5;28;43mself\u001b[39;49m\u001b[38;5;241;43m.\u001b[39;49m\u001b[43m_call_impl\u001b[49m\u001b[43m(\u001b[49m\u001b[38;5;241;43m*\u001b[39;49m\u001b[43margs\u001b[49m\u001b[43m,\u001b[49m\u001b[43m \u001b[49m\u001b[38;5;241;43m*\u001b[39;49m\u001b[38;5;241;43m*\u001b[39;49m\u001b[43mkwargs\u001b[49m\u001b[43m)\u001b[49m\n",
      "File \u001b[0;32m/data/seongilpark/conda_envs/ft/lib/python3.10/site-packages/torch/nn/modules/module.py:1527\u001b[0m, in \u001b[0;36mModule._call_impl\u001b[0;34m(self, *args, **kwargs)\u001b[0m\n\u001b[1;32m   1522\u001b[0m \u001b[38;5;66;03m# If we don't have any hooks, we want to skip the rest of the logic in\u001b[39;00m\n\u001b[1;32m   1523\u001b[0m \u001b[38;5;66;03m# this function, and just call forward.\u001b[39;00m\n\u001b[1;32m   1524\u001b[0m \u001b[38;5;28;01mif\u001b[39;00m \u001b[38;5;129;01mnot\u001b[39;00m (\u001b[38;5;28mself\u001b[39m\u001b[38;5;241m.\u001b[39m_backward_hooks \u001b[38;5;129;01mor\u001b[39;00m \u001b[38;5;28mself\u001b[39m\u001b[38;5;241m.\u001b[39m_backward_pre_hooks \u001b[38;5;129;01mor\u001b[39;00m \u001b[38;5;28mself\u001b[39m\u001b[38;5;241m.\u001b[39m_forward_hooks \u001b[38;5;129;01mor\u001b[39;00m \u001b[38;5;28mself\u001b[39m\u001b[38;5;241m.\u001b[39m_forward_pre_hooks\n\u001b[1;32m   1525\u001b[0m         \u001b[38;5;129;01mor\u001b[39;00m _global_backward_pre_hooks \u001b[38;5;129;01mor\u001b[39;00m _global_backward_hooks\n\u001b[1;32m   1526\u001b[0m         \u001b[38;5;129;01mor\u001b[39;00m _global_forward_hooks \u001b[38;5;129;01mor\u001b[39;00m _global_forward_pre_hooks):\n\u001b[0;32m-> 1527\u001b[0m     \u001b[38;5;28;01mreturn\u001b[39;00m \u001b[43mforward_call\u001b[49m\u001b[43m(\u001b[49m\u001b[38;5;241;43m*\u001b[39;49m\u001b[43margs\u001b[49m\u001b[43m,\u001b[49m\u001b[43m \u001b[49m\u001b[38;5;241;43m*\u001b[39;49m\u001b[38;5;241;43m*\u001b[39;49m\u001b[43mkwargs\u001b[49m\u001b[43m)\u001b[49m\n\u001b[1;32m   1529\u001b[0m \u001b[38;5;28;01mtry\u001b[39;00m:\n\u001b[1;32m   1530\u001b[0m     result \u001b[38;5;241m=\u001b[39m \u001b[38;5;28;01mNone\u001b[39;00m\n",
      "File \u001b[0;32m/data/seongilpark/conda_envs/ft/lib/python3.10/site-packages/curated_transformers/models/bert/layer.py:68\u001b[0m, in \u001b[0;36mBertSelfAttention.forward\u001b[0;34m(self, x, attn_mask)\u001b[0m\n\u001b[1;32m     65\u001b[0m v \u001b[38;5;241m=\u001b[39m \u001b[38;5;28mself\u001b[39m\u001b[38;5;241m.\u001b[39m_split_heads(v)\n\u001b[1;32m     67\u001b[0m \u001b[38;5;66;03m# (batch, seq_len, width)\u001b[39;00m\n\u001b[0;32m---> 68\u001b[0m attn \u001b[38;5;241m=\u001b[39m \u001b[38;5;28mself\u001b[39m\u001b[38;5;241m.\u001b[39m_combine_heads(\u001b[38;5;28;43mself\u001b[39;49m\u001b[38;5;241;43m.\u001b[39;49m\u001b[43mattention\u001b[49m\u001b[43m(\u001b[49m\u001b[43mk\u001b[49m\u001b[43m,\u001b[49m\u001b[43m \u001b[49m\u001b[43mq\u001b[49m\u001b[43m,\u001b[49m\u001b[43m \u001b[49m\u001b[43mv\u001b[49m\u001b[43m,\u001b[49m\u001b[43m \u001b[49m\u001b[43mattn_mask\u001b[49m\u001b[43m)\u001b[49m)\n\u001b[1;32m     69\u001b[0m out \u001b[38;5;241m=\u001b[39m \u001b[38;5;28mself\u001b[39m\u001b[38;5;241m.\u001b[39moutput(attn)\n\u001b[1;32m     71\u001b[0m \u001b[38;5;28;01mreturn\u001b[39;00m out\n",
      "File \u001b[0;32m/data/seongilpark/conda_envs/ft/lib/python3.10/site-packages/torch/nn/modules/module.py:1518\u001b[0m, in \u001b[0;36mModule._wrapped_call_impl\u001b[0;34m(self, *args, **kwargs)\u001b[0m\n\u001b[1;32m   1516\u001b[0m     \u001b[38;5;28;01mreturn\u001b[39;00m \u001b[38;5;28mself\u001b[39m\u001b[38;5;241m.\u001b[39m_compiled_call_impl(\u001b[38;5;241m*\u001b[39margs, \u001b[38;5;241m*\u001b[39m\u001b[38;5;241m*\u001b[39mkwargs)  \u001b[38;5;66;03m# type: ignore[misc]\u001b[39;00m\n\u001b[1;32m   1517\u001b[0m \u001b[38;5;28;01melse\u001b[39;00m:\n\u001b[0;32m-> 1518\u001b[0m     \u001b[38;5;28;01mreturn\u001b[39;00m \u001b[38;5;28;43mself\u001b[39;49m\u001b[38;5;241;43m.\u001b[39;49m\u001b[43m_call_impl\u001b[49m\u001b[43m(\u001b[49m\u001b[38;5;241;43m*\u001b[39;49m\u001b[43margs\u001b[49m\u001b[43m,\u001b[49m\u001b[43m \u001b[49m\u001b[38;5;241;43m*\u001b[39;49m\u001b[38;5;241;43m*\u001b[39;49m\u001b[43mkwargs\u001b[49m\u001b[43m)\u001b[49m\n",
      "File \u001b[0;32m/data/seongilpark/conda_envs/ft/lib/python3.10/site-packages/torch/nn/modules/module.py:1527\u001b[0m, in \u001b[0;36mModule._call_impl\u001b[0;34m(self, *args, **kwargs)\u001b[0m\n\u001b[1;32m   1522\u001b[0m \u001b[38;5;66;03m# If we don't have any hooks, we want to skip the rest of the logic in\u001b[39;00m\n\u001b[1;32m   1523\u001b[0m \u001b[38;5;66;03m# this function, and just call forward.\u001b[39;00m\n\u001b[1;32m   1524\u001b[0m \u001b[38;5;28;01mif\u001b[39;00m \u001b[38;5;129;01mnot\u001b[39;00m (\u001b[38;5;28mself\u001b[39m\u001b[38;5;241m.\u001b[39m_backward_hooks \u001b[38;5;129;01mor\u001b[39;00m \u001b[38;5;28mself\u001b[39m\u001b[38;5;241m.\u001b[39m_backward_pre_hooks \u001b[38;5;129;01mor\u001b[39;00m \u001b[38;5;28mself\u001b[39m\u001b[38;5;241m.\u001b[39m_forward_hooks \u001b[38;5;129;01mor\u001b[39;00m \u001b[38;5;28mself\u001b[39m\u001b[38;5;241m.\u001b[39m_forward_pre_hooks\n\u001b[1;32m   1525\u001b[0m         \u001b[38;5;129;01mor\u001b[39;00m _global_backward_pre_hooks \u001b[38;5;129;01mor\u001b[39;00m _global_backward_hooks\n\u001b[1;32m   1526\u001b[0m         \u001b[38;5;129;01mor\u001b[39;00m _global_forward_hooks \u001b[38;5;129;01mor\u001b[39;00m _global_forward_pre_hooks):\n\u001b[0;32m-> 1527\u001b[0m     \u001b[38;5;28;01mreturn\u001b[39;00m \u001b[43mforward_call\u001b[49m\u001b[43m(\u001b[49m\u001b[38;5;241;43m*\u001b[39;49m\u001b[43margs\u001b[49m\u001b[43m,\u001b[49m\u001b[43m \u001b[49m\u001b[38;5;241;43m*\u001b[39;49m\u001b[38;5;241;43m*\u001b[39;49m\u001b[43mkwargs\u001b[49m\u001b[43m)\u001b[49m\n\u001b[1;32m   1529\u001b[0m \u001b[38;5;28;01mtry\u001b[39;00m:\n\u001b[1;32m   1530\u001b[0m     result \u001b[38;5;241m=\u001b[39m \u001b[38;5;28;01mNone\u001b[39;00m\n",
      "File \u001b[0;32m/data/seongilpark/conda_envs/ft/lib/python3.10/site-packages/curated_transformers/models/attention.py:69\u001b[0m, in \u001b[0;36mScaledDotProductAttention.forward\u001b[0;34m(self, k, q, v, attn_mask)\u001b[0m\n\u001b[1;32m     66\u001b[0m batch, seq_len \u001b[38;5;241m=\u001b[39m attn_mask\u001b[38;5;241m.\u001b[39mshape\n\u001b[1;32m     67\u001b[0m attn_scores \u001b[38;5;241m+\u001b[39m\u001b[38;5;241m=\u001b[39m attn_mask\u001b[38;5;241m.\u001b[39mlogit_mask\u001b[38;5;241m.\u001b[39mview(batch, \u001b[38;5;241m1\u001b[39m, \u001b[38;5;241m1\u001b[39m, seq_len)\n\u001b[0;32m---> 69\u001b[0m attn_weights \u001b[38;5;241m=\u001b[39m \u001b[43mattn_scores\u001b[49m\u001b[38;5;241;43m.\u001b[39;49m\u001b[43msoftmax\u001b[49m\u001b[43m(\u001b[49m\u001b[43mdim\u001b[49m\u001b[38;5;241;43m=\u001b[39;49m\u001b[38;5;241;43m-\u001b[39;49m\u001b[38;5;241;43m1\u001b[39;49m\u001b[43m)\u001b[49m\n\u001b[1;32m     70\u001b[0m attn_values \u001b[38;5;241m=\u001b[39m \u001b[38;5;28mself\u001b[39m\u001b[38;5;241m.\u001b[39mdropout(attn_weights \u001b[38;5;241m@\u001b[39m v)\n\u001b[1;32m     72\u001b[0m \u001b[38;5;28;01mreturn\u001b[39;00m attn_values\n",
      "\u001b[0;31mOutOfMemoryError\u001b[0m: CUDA out of memory. Tried to allocate 366.00 MiB. GPU 1 has a total capacty of 23.45 GiB of which 151.69 MiB is free. Process 2202385 has 6.14 GiB memory in use. Including non-PyTorch memory, this process has 17.12 GiB memory in use. Of the allocated memory 13.43 GiB is allocated by PyTorch, and 3.24 GiB is reserved by PyTorch but unallocated. If reserved but unallocated memory is large try setting max_split_size_mb to avoid fragmentation.  See documentation for Memory Management and PYTORCH_CUDA_ALLOC_CONF"
     ]
    }
   ],
   "source": [
    "batch_size = 500\n",
    "cnt = 0\n",
    "spacy_answer_sents = []\n",
    "for i in tqdm(range(0, len(sample), batch_size)):\n",
    "    batch = sample[i:i+batch_size]\n",
    "    docs = nlp.pipe(batch[\"context\"], batch_size=batch_size)\n",
    "    sents = [[sent.text for sent in doc.sents] for doc in docs]\n",
    "    answers = batch[\"answers\"]\n",
    "    for sent, answer in zip(sents, answers):\n",
    "        sent_idx = -1\n",
    "        for a in answer:\n",
    "            if sent_idx != -1:\n",
    "                break\n",
    "            for idx, s in enumerate(sent):\n",
    "                if normalize_answer(a) in normalize_answer(s):\n",
    "                    sent_idx = idx\n",
    "                    spacy_answer_sents.append(s)\n",
    "                    break\n",
    "        if sent_idx == -1:\n",
    "            cnt += 1\n",
    "print(cnt)"
   ]
  },
  {
   "cell_type": "code",
   "execution_count": 11,
   "metadata": {},
   "outputs": [
    {
     "data": {
      "text/plain": [
       "['Jimmy Gilmer & the Fireballs had a hit with \"Sugar Shack\" & Nancy Sinatra with this sweet place',\n",
       " 'What club headquarters is located in the city of Lyon, that had a French former footballer who played as a winger or an attacking midfielder pass through the youth training center?',\n",
       " 'which actor was appealed too?',\n",
       " 'Little Miss Marker is a 1980 American comedy-drama film written and directed by Walter Bernstein, based on a short story by Damon Runyon, was an American newspaperman, and short story writer, born in which year?',\n",
       " 'What nationality is racing driver Felipe Massa?',\n",
       " 'How many times has the singer has been taken to a hospital?',\n",
       " 'In order for a genocide classification to happen, a major part of a group has to be what?',\n",
       " 'what was in the letter',\n",
       " \"(Jimmy of the Clue Crew reads from Temple Church in London.)  In this novel, Langdon's first London stop in his search for the holy grail is here at Temple Church\",\n",
       " \"Corfiotes are natives of this island that isn't far from Albania\"]"
      ]
     },
     "execution_count": 11,
     "metadata": {},
     "output_type": "execute_result"
    }
   ],
   "source": [
    "sample[\"question\"][:10]"
   ]
  },
  {
   "cell_type": "code",
   "execution_count": 10,
   "metadata": {},
   "outputs": [
    {
     "data": {
      "text/plain": [
       "['SUGAR TOWN - Nancy Sinatra View.',\n",
       " '[PAR] [TLE] Centre Tola Vologe [SEP] The Centre Tola Vologe is the training center and club headquarters of French football club Olympique Lyonnais.',\n",
       " 'A group of Nigerian rebels who wrote a letter to U.S. President George W. Bush, stating that they attacked two oil pipelines Monday, have asked for former President Jimmy Carter and actor George Clooney to help solve issues in the oil-rich Niger-delta.',\n",
       " '[PAR] [TLE] Damon Runyon [SEP] Alfred Damon Runyon (October 4, 1880 – December 10, 1946) was an American newspaperman and short story writer.',\n",
       " '[PAR] Brazilian race car driver Felipe Massa has an estimated net worth of $8 million in 2013.',\n",
       " 'A long convoy of police and a Los Angeles Fire Department ambulance transported the 26-year-old singer to the hospital after midnight, acting on what the Los Angeles Times reported was a \"mental evaluation hold.\"\\n\\n\\n\\nIt was the second hospitalization for Spears this month.',\n",
       " 'The definition upholds the centrality of intent, the multidimensional understanding of destroy, broadens the definition of group identity beyond that of the 1948 definition yet argues that a substantial part of a group has to be destroyed before it can be classified as genocide (dependent on relative group size).',\n",
       " 'The letter also calls for official apologies for beatings of university members and the unconditional release of detained students and faculty.',\n",
       " \"In this novel, \\nLangdon's first London stop in his search for the holy grail is <http://www.j-archive\\n.com/media/2007-02-26_J_07a.jpg> here at Temple Church | The Da Vinci Code \\n...\",\n",
       " '[DOC] [TLE] Corfu Walks With Hilary By Theresa Nicholas - Real Corfu']"
      ]
     },
     "execution_count": 10,
     "metadata": {},
     "output_type": "execute_result"
    }
   ],
   "source": [
    "\n",
    "spacy_answer_sents[:10]"
   ]
  },
  {
   "cell_type": "code",
   "execution_count": 9,
   "metadata": {},
   "outputs": [
    {
     "data": {
      "text/plain": [
       "[\"Up in your ... i ain't worried 'bout a \\nthing cuz i just hit me a lick i gotta fat ... you're just as sweet as can be ... SUGAR \\nSHACK - Jimmy Gilmer & The Fireballs ... SUGAR TOWN - Nancy Sinatra View.\",\n",
       " '[PAR] [TLE] Centre Tola Vologe [SEP] The Centre Tola Vologe is the training center and club headquarters of French football club Olympique Lyonnais.',\n",
       " 'LAGOS, Nigeria (CNN) -- A group of Nigerian rebels who wrote a letter to U.S. President George W. Bush, stating that they attacked two oil pipelines Monday, have asked for former President Jimmy Carter and actor George Clooney to help solve issues in the oil-rich Niger-delta.',\n",
       " '[PAR] [TLE] Damon Runyon [SEP] Alfred Damon Runyon (October 4, 1880 – December 10, 1946) was an American newspaperman and short story writer.',\n",
       " '[DOC] [TLE] Felipe Massa Net Worth - TheRicheststumbleupon [PAR] More StatsView More [PAR] About Felipe Massa [PAR] Brazilian race car driver Felipe Massa has an estimated net worth of $8 million in 2013.',\n",
       " 'It was the second hospitalization for Spears this month.',\n",
       " 'The definition upholds the centrality of intent, the multidimensional understanding of destroy, broadens the definition of group identity beyond that of the 1948 definition yet argues that a substantial part of a group has to be destroyed before it can be classified as genocide (dependent on relative group size).',\n",
       " 'The letter also calls for official apologies for beatings of university members and the unconditional release of detained students and faculty.',\n",
       " \"In this novel, \\nLangdon's first London stop in his search for the holy grail is <http://www.j-archive\\n.com/media/2007-02-26_J_07a.jpg> here at Temple Church | The Da Vinci Code \\n... Kelly of the Clue Crew reports from the canal in Regent's Park, London.)\",\n",
       " \"Approximately 148 historic village sites have been... [DOC] [TLE] Corfu Walks With Hilary By Theresa Nicholas - Real Corfu [PAR] This happens so often: the natives telling you the old paths go nowhere or don't \\nexist.\"]"
      ]
     },
     "execution_count": 9,
     "metadata": {},
     "output_type": "execute_result"
    }
   ],
   "source": [
    "nltk_answer_sents[:10]"
   ]
  },
  {
   "cell_type": "code",
   "execution_count": 8,
   "metadata": {},
   "outputs": [
    {
     "name": "stderr",
     "output_type": "stream",
     "text": [
      "100%|██████████| 10000/10000 [00:09<00:00, 1108.70it/s]"
     ]
    },
    {
     "name": "stdout",
     "output_type": "stream",
     "text": [
      "42\n"
     ]
    },
    {
     "name": "stderr",
     "output_type": "stream",
     "text": [
      "\n"
     ]
    }
   ],
   "source": [
    "cnt = 0\n",
    "nltk_answer_sents = []\n",
    "for row in tqdm(sample):\n",
    "    answers = row[\"answers\"]\n",
    "    sents = sent_tokenize(row[\"context\"])\n",
    "    sent_idx = -1\n",
    "    for answer in answers:\n",
    "        if sent_idx != -1:\n",
    "            break\n",
    "        for idx, sent in enumerate(sents):\n",
    "            if normalize_answer(answer.strip().lower()) in normalize_answer(sent.strip().lower()):\n",
    "                sent_idx = idx\n",
    "                nltk_answer_sents.append(sent)\n",
    "                break\n",
    "    if sent_idx == -1:\n",
    "        cnt += 1\n",
    "print(cnt)"
   ]
  },
  {
   "cell_type": "code",
   "execution_count": 32,
   "metadata": {},
   "outputs": [],
   "source": [
    "train = load_dataset(\"Atipico1/NQ-10k\", split=\"train\")\n",
    "test = load_dataset(\"Atipico1/NQ\", split=\"test\")"
   ]
  },
  {
   "cell_type": "code",
   "execution_count": 37,
   "metadata": {},
   "outputs": [
    {
     "name": "stderr",
     "output_type": "stream",
     "text": [
      "Downloading readme: 100%|██████████| 635/635 [00:00<00:00, 5.68MB/s]\n",
      "Downloading data: 100%|██████████| 19.8M/19.8M [00:02<00:00, 6.99MB/s]\n",
      "Downloading data: 100%|██████████| 7.19M/7.19M [00:01<00:00, 6.32MB/s]\n",
      "Generating train split: 100%|██████████| 10000/10000 [00:00<00:00, 107682.65 examples/s]\n",
      "Generating test split: 100%|██████████| 3610/3610 [00:00<00:00, 56912.43 examples/s]\n"
     ]
    }
   ],
   "source": [
    "dataset = load_dataset(\"Atipico1/NQ-10k\")"
   ]
  },
  {
   "cell_type": "code",
   "execution_count": 38,
   "metadata": {},
   "outputs": [
    {
     "data": {
      "text/plain": [
       "DatasetDict({\n",
       "    train: Dataset({\n",
       "        features: ['question', 'answers', 'ctxs'],\n",
       "        num_rows: 10000\n",
       "    })\n",
       "    test: Dataset({\n",
       "        features: ['question', 'answers', 'ctxs'],\n",
       "        num_rows: 3610\n",
       "    })\n",
       "})"
      ]
     },
     "execution_count": 38,
     "metadata": {},
     "output_type": "execute_result"
    }
   ],
   "source": [
    "dataset"
   ]
  },
  {
   "cell_type": "code",
   "execution_count": 35,
   "metadata": {},
   "outputs": [
    {
     "name": "stderr",
     "output_type": "stream",
     "text": [
      "Creating parquet from Arrow format: 100%|██████████| 10/10 [00:00<00:00, 48.95ba/s]\n",
      "Uploading the dataset shards: 100%|██████████| 1/1 [00:04<00:00,  4.91s/it]\n",
      "Creating parquet from Arrow format: 100%|██████████| 4/4 [00:00<00:00, 54.91ba/s]\n",
      "Uploading the dataset shards: 100%|██████████| 1/1 [00:02<00:00,  2.70s/it]\n",
      "README.md: 100%|██████████| 553/553 [00:00<00:00, 1.90MB/s]\n"
     ]
    },
    {
     "data": {
      "text/plain": [
       "CommitInfo(commit_url='https://huggingface.co/datasets/Atipico1/NQ-10k/commit/f8dc1d1786d9e352eeda939e3a56e142be3457ce', commit_message='Upload dataset', commit_description='', oid='f8dc1d1786d9e352eeda939e3a56e142be3457ce', pr_url=None, pr_revision=None, pr_num=None)"
      ]
     },
     "execution_count": 35,
     "metadata": {},
     "output_type": "execute_result"
    }
   ],
   "source": [
    "total = DatasetDict({'train': train, 'test': test})\n",
    "total.push_to_hub(\"Atipico1/NQ-10k\")"
   ]
  },
  {
   "cell_type": "code",
   "execution_count": 113,
   "metadata": {},
   "outputs": [
    {
     "data": {
      "text/html": [
       "<div>\n",
       "<style scoped>\n",
       "    .dataframe tbody tr th:only-of-type {\n",
       "        vertical-align: middle;\n",
       "    }\n",
       "\n",
       "    .dataframe tbody tr th {\n",
       "        vertical-align: top;\n",
       "    }\n",
       "\n",
       "    .dataframe thead th {\n",
       "        text-align: right;\n",
       "    }\n",
       "</style>\n",
       "<table border=\"1\" class=\"dataframe\">\n",
       "  <thead>\n",
       "    <tr style=\"text-align: right;\">\n",
       "      <th></th>\n",
       "      <th>id</th>\n",
       "      <th>subj</th>\n",
       "      <th>prop</th>\n",
       "      <th>obj</th>\n",
       "      <th>subj_id</th>\n",
       "      <th>prop_id</th>\n",
       "      <th>obj_id</th>\n",
       "      <th>s_aliases</th>\n",
       "      <th>o_aliases</th>\n",
       "      <th>s_uri</th>\n",
       "      <th>o_uri</th>\n",
       "      <th>s_wiki_title</th>\n",
       "      <th>o_wiki_title</th>\n",
       "      <th>s_pop</th>\n",
       "      <th>o_pop</th>\n",
       "      <th>question</th>\n",
       "      <th>possible_answers</th>\n",
       "    </tr>\n",
       "  </thead>\n",
       "  <tbody>\n",
       "    <tr>\n",
       "      <th>0</th>\n",
       "      <td>4222362</td>\n",
       "      <td>George Rankin</td>\n",
       "      <td>occupation</td>\n",
       "      <td>politician</td>\n",
       "      <td>1850297</td>\n",
       "      <td>22</td>\n",
       "      <td>2834605</td>\n",
       "      <td>[\"George James Rankin\"]</td>\n",
       "      <td>[\"political leader\",\"political figure\",\"polit....</td>\n",
       "      <td>http://www.wikidata.org/entity/Q5543720</td>\n",
       "      <td>http://www.wikidata.org/entity/Q82955</td>\n",
       "      <td>George Rankin</td>\n",
       "      <td>Politician</td>\n",
       "      <td>142</td>\n",
       "      <td>25692</td>\n",
       "      <td>What is George Rankin's occupation?</td>\n",
       "      <td>[\"politician\", \"political leader\", \"political ...</td>\n",
       "    </tr>\n",
       "  </tbody>\n",
       "</table>\n",
       "</div>"
      ],
      "text/plain": [
       "        id           subj        prop         obj  subj_id  prop_id   obj_id  \\\n",
       "0  4222362  George Rankin  occupation  politician  1850297       22  2834605   \n",
       "\n",
       "                 s_aliases                                          o_aliases  \\\n",
       "0  [\"George James Rankin\"]  [\"political leader\",\"political figure\",\"polit....   \n",
       "\n",
       "                                     s_uri  \\\n",
       "0  http://www.wikidata.org/entity/Q5543720   \n",
       "\n",
       "                                   o_uri   s_wiki_title o_wiki_title  s_pop  \\\n",
       "0  http://www.wikidata.org/entity/Q82955  George Rankin   Politician    142   \n",
       "\n",
       "   o_pop                             question  \\\n",
       "0  25692  What is George Rankin's occupation?   \n",
       "\n",
       "                                    possible_answers  \n",
       "0  [\"politician\", \"political leader\", \"political ...  "
      ]
     },
     "execution_count": 113,
     "metadata": {},
     "output_type": "execute_result"
    }
   ],
   "source": [
    "df = pd.read_csv('popQA.tsv', sep='\\t')\n",
    "df.head(1)"
   ]
  },
  {
   "cell_type": "code",
   "execution_count": 114,
   "metadata": {},
   "outputs": [],
   "source": [
    "with open(\"/home/seongilpark/finetune_rag/contriever_results.jsonl\", \"r\") as f:\n",
    "    results = [json.loads(line) for line in f.readlines()]"
   ]
  },
  {
   "cell_type": "code",
   "execution_count": 115,
   "metadata": {},
   "outputs": [
    {
     "data": {
      "text/html": [
       "<div>\n",
       "<style scoped>\n",
       "    .dataframe tbody tr th:only-of-type {\n",
       "        vertical-align: middle;\n",
       "    }\n",
       "\n",
       "    .dataframe tbody tr th {\n",
       "        vertical-align: top;\n",
       "    }\n",
       "\n",
       "    .dataframe thead th {\n",
       "        text-align: right;\n",
       "    }\n",
       "</style>\n",
       "<table border=\"1\" class=\"dataframe\">\n",
       "  <thead>\n",
       "    <tr style=\"text-align: right;\">\n",
       "      <th></th>\n",
       "      <th>id</th>\n",
       "      <th>question</th>\n",
       "      <th>answers</th>\n",
       "      <th>ctxs</th>\n",
       "    </tr>\n",
       "  </thead>\n",
       "  <tbody>\n",
       "    <tr>\n",
       "      <th>0</th>\n",
       "      <td>4222362</td>\n",
       "      <td>What is George Rankin's occupation?</td>\n",
       "      <td>[politician, political leader, political figur...</td>\n",
       "      <td>[{'id': '11701803', 'title': 'George Rankin', ...</td>\n",
       "    </tr>\n",
       "  </tbody>\n",
       "</table>\n",
       "</div>"
      ],
      "text/plain": [
       "        id                             question  \\\n",
       "0  4222362  What is George Rankin's occupation?   \n",
       "\n",
       "                                             answers  \\\n",
       "0  [politician, political leader, political figur...   \n",
       "\n",
       "                                                ctxs  \n",
       "0  [{'id': '11701803', 'title': 'George Rankin', ...  "
      ]
     },
     "execution_count": 115,
     "metadata": {},
     "output_type": "execute_result"
    }
   ],
   "source": [
    "pd.DataFrame(results).head(1)"
   ]
  },
  {
   "cell_type": "code",
   "execution_count": 116,
   "metadata": {},
   "outputs": [],
   "source": [
    "concat = pd.merge(df, pd.DataFrame(results), left_on='id', right_on='id').drop(columns=['question_y', \"answers\"]).rename(columns={'question_x': 'question', \"possible_answers\": \"answers\"})"
   ]
  },
  {
   "cell_type": "code",
   "execution_count": 127,
   "metadata": {},
   "outputs": [],
   "source": [
    "dataset = Dataset.from_pandas(concat)\n"
   ]
  },
  {
   "cell_type": "code",
   "execution_count": 128,
   "metadata": {},
   "outputs": [],
   "source": [
    "dataset = dataset.train_test_split(train_size=10_000, seed=42)"
   ]
  },
  {
   "cell_type": "code",
   "execution_count": 132,
   "metadata": {},
   "outputs": [
    {
     "name": "stdout",
     "output_type": "stream",
     "text": [
      "[{'hasanswer': False, 'id': '13995485', 'score': '1.6310263', 'text': 'Escape Artists Escape Artists Productions, LLC, commonly known as Escape Artists and distinct from Escape Artists, Inc. (pod caster), is an independently financed motion picture and television production company with a first look non-exclusive deal at Sony Pictures Entertainment, headed by partners Steve Tisch, Todd Black, and Jason Blumenthal. In 2001, Todd Black and Jason Blumenthal’s Black & Blu merged with the Steve Tisch Company to form Escape Artists. The first produced movie under the Escape Artists banner was \"A Knight\\'s Tale\", starring Heath Ledger in 2001. In the fall of 2005, Escape Artists released \"The Weather Man\", directed by', 'title': 'Escape Artists'}, {'hasanswer': False, 'id': '18332725', 'score': '1.6303782', 'text': 'Tommy Rettig, and Brian Keith. The announcers were Jack McCoy and Elliott Lewis. Escape (1950 TV series) Escape was a 30-minute live American dramatic anthology television series produced and directed for CBS by Wyllis Cooper. Narrated by William Conrad, the series was the television counterpart to a successful CBS Radio series of the same name (1947–54). There were a total of thirteen episodes airing on CBS from January 5, 1950 to March 30, 1950. According to \"The Complete Directory to Prime Time Network and Cable TV Shows 1946–Present\", the show\\'s stories \"depicted people attempting to deal with danger, the supernatural,', 'title': 'Escape (1950 TV series)'}, {'hasanswer': False, 'id': '19747413', 'score': '1.605309', 'text': \"for Best Documentary Series. Escape Or Die! Escape Or Die! was a Canadian reality television series produced by Farpoint Films that premiered in Canada in 2015 on OLN. Starring escape artist Dean Gunnarson, the series showed the behind-the-scenes preparations and escapes filmed in various locations around the world. The series featured Cary Tardi, Jeff Gunnarson, Ava Darrach-Gagnon, and John MacDonald as part of Dean's team that helped make the escapes happen and keep him safe. The show also featured appearances by magician and skeptic James Randi and Colombian magician Gustavo Lorgia. The series won a Golden Sheaf Award at the\", 'title': 'Escape Or Die!'}, {'hasanswer': False, 'id': '18332724', 'score': '1.6025474', 'text': 'Escape (1950 TV series) Escape was a 30-minute live American dramatic anthology television series produced and directed for CBS by Wyllis Cooper. Narrated by William Conrad, the series was the television counterpart to a successful CBS Radio series of the same name (1947–54). There were a total of thirteen episodes airing on CBS from January 5, 1950 to March 30, 1950. According to \"The Complete Directory to Prime Time Network and Cable TV Shows 1946–Present\", the show\\'s stories \"depicted people attempting to deal with danger, the supernatural, or some fantasized situation.\" Among its guest stars were Kim Stanley, Lee Marvin,', 'title': 'Escape (1950 TV series)'}, {'hasanswer': False, 'id': '20209950', 'score': '1.600534', 'text': 'maternal custody of Lily. The Escape (2016 film) The Escape is a 2016 American short action film produced by BMW to promote the car manufacturer\\'s 2017 5 Series. It was directed and co-written by Neill Blomkamp, and stars Clive Owen, Jon Bernthal, Dakota Fanning, and Vera Farmiga. The film, which continues the plot of BMW\\'s series of adverts titled \"The Hire\", was posted on BMW USA\\'s YouTube channel on October 23, 2016. The short was filmed over the course of one-and-a-half months during summer of 2016 in Toronto, Ontario. Visual effects were completed in September 2016, ready for release the', 'title': 'The Escape (2016 film)'}, {'hasanswer': False, 'id': '19747412', 'score': '1.5832835', 'text': \"Escape Or Die! Escape Or Die! was a Canadian reality television series produced by Farpoint Films that premiered in Canada in 2015 on OLN. Starring escape artist Dean Gunnarson, the series showed the behind-the-scenes preparations and escapes filmed in various locations around the world. The series featured Cary Tardi, Jeff Gunnarson, Ava Darrach-Gagnon, and John MacDonald as part of Dean's team that helped make the escapes happen and keep him safe. The show also featured appearances by magician and skeptic James Randi and Colombian magician Gustavo Lorgia. The series won a Golden Sheaf Award at the 2016 Yorkton Film Festival\", 'title': 'Escape Or Die!'}, {'hasanswer': False, 'id': '20209947', 'score': '1.5823195', 'text': 'The Escape (2016 film) The Escape is a 2016 American short action film produced by BMW to promote the car manufacturer\\'s 2017 5 Series. It was directed and co-written by Neill Blomkamp, and stars Clive Owen, Jon Bernthal, Dakota Fanning, and Vera Farmiga. The film, which continues the plot of BMW\\'s series of adverts titled \"The Hire\", was posted on BMW USA\\'s YouTube channel on October 23, 2016. The short was filmed over the course of one-and-a-half months during summer of 2016 in Toronto, Ontario. Visual effects were completed in September 2016, ready for release the following month. After the', 'title': 'The Escape (2016 film)'}, {'hasanswer': False, 'id': '3221706', 'score': '1.5800519', 'text': 'Escape from L.A. Escape from L.A. (also known as John Carpenter\\'s Escape from L.A. or Escape from Los Angeles) is a 1996 American post-apocalyptic action film co-written, co-scored, and directed by John Carpenter, co-written and produced by Debra Hill and Kurt Russell, with Russell also starring as Snake Plissken. A sequel to \"Escape from New York\", \"Escape from L.A.\" co-stars Steve Buscemi, Stacy Keach, Bruce Campbell, and Pam Grier. The film received mixed reception and was a box-office bomb. In 1998, Los Angeles has become immensely crime-ridden and decadent, ultimately being directly governed and patrolled by the recently created United', 'title': 'Escape from L.A.'}, {'hasanswer': False, 'id': '13995487', 'score': '1.5759735', 'text': 'project entitled, \"The Back-Up Plan\", directed by Alan Poul and starring Jennifer Lopez, was released through CBS Films in April 2010. The company\\'s production office is located in the Astaire Building on the Sony Pictures Studios lot in Culver City, California. Escape Artists Escape Artists Productions, LLC, commonly known as Escape Artists and distinct from Escape Artists, Inc. (pod caster), is an independently financed motion picture and television production company with a first look non-exclusive deal at Sony Pictures Entertainment, headed by partners Steve Tisch, Todd Black, and Jason Blumenthal. In 2001, Todd Black and Jason Blumenthal’s Black & Blu', 'title': 'Escape Artists'}, {'hasanswer': False, 'id': '2982116', 'score': '1.5689361', 'text': 'supplied by Del Castillo, organist Ivan Ditmars, Cy Feuer, Wilbur Hatch and Leith Stevens. The announcers were Paul Frees and Roy Rowan. A television counterpart aired on CBS TV for a few months during 1950. The program\\'s opening announcement—\"Tired of the everyday grind?\"—was employed as a slogan for the counterculture magazine, \"New Escapologist\". Escape (radio program) Escape was radio\\'s leading anthology series of high-adventure radio dramas, airing on CBS from July 7, 1947 to September 25, 1954. Since the program did not have a regular sponsor like \"Suspense\", it was subjected to frequent schedule shifts and lower production budgets, although', 'title': 'Escape (radio program)'}]\n"
     ]
    }
   ],
   "source": [
    "for row in dataset[\"train\"]:\n",
    "    print(row[\"ctxs\"])\n",
    "    break"
   ]
  },
  {
   "cell_type": "code",
   "execution_count": 129,
   "metadata": {},
   "outputs": [
    {
     "name": "stderr",
     "output_type": "stream",
     "text": [
      "Creating parquet from Arrow format: 100%|██████████| 10/10 [00:01<00:00,  7.10ba/s]\n",
      "Uploading the dataset shards: 100%|██████████| 1/1 [00:08<00:00,  8.61s/it]\n",
      "Creating parquet from Arrow format: 100%|██████████| 5/5 [00:00<00:00,  8.05ba/s]\n",
      "Uploading the dataset shards: 100%|██████████| 1/1 [00:04<00:00,  4.24s/it]\n"
     ]
    },
    {
     "data": {
      "text/plain": [
       "CommitInfo(commit_url='https://huggingface.co/datasets/Atipico1/popQA/commit/3586e3709ae7947c9629784cfc0705786eec7f0b', commit_message='Upload dataset', commit_description='', oid='3586e3709ae7947c9629784cfc0705786eec7f0b', pr_url=None, pr_revision=None, pr_num=None)"
      ]
     },
     "execution_count": 129,
     "metadata": {},
     "output_type": "execute_result"
    }
   ],
   "source": [
    "dataset.push_to_hub(\"Atipico1/popQA\")"
   ]
  },
  {
   "cell_type": "code",
   "execution_count": 18,
   "metadata": {},
   "outputs": [
    {
     "data": {
      "text/plain": [
       "[{'id': 679735,\n",
       "  'text': '\"Kodoku no Akatsuki\" (孤独のあかつき, \"The Solitude of Dawn\") (also known by its French title \"La Solitude de l\\'aube\") is a song by Japanese musician Ringo Sheena. It was released as one of the A-sides of her 14th single, along with the song \"Irohanihoheto\", released on May 27, 2013. The release date was the 15th anniversary of the release of Sheena\\'s debut single \"Kōfukuron\" in 1998.',\n",
       "  'hasanswer': False},\n",
       " {'id': 1944639,\n",
       "  'text': \"Doctor Who at the BBC Radiophonic Workshop Volume 1: The Early Years 1963–1969 was the first in a series of compilations of Doctor Who material recorded by the BBC Radiophonic Workshop. Compiled and remastered by Mark Ayres, the album features mostly sound effects and atmospheres from the first six years of the programme. Although some incidental music tracks do appear, most of the album's content is by original Doctor Who sound effects creator Brian Hodgson. The compilation also features three Radiophonic Workshop realisations of early Doctor Who composer Dudley Simpson's work. The compilation was the first release of Radiophonic Workshop material following the department's closure and was intended by archiver Ayres to be the beginning of a series covering the varied output of the department. The series was to have included material from other children's programmes such as Roger Limb's score from The Box of Delights as well as music from documentaries and radio, although only material related to Doctor Who has so far been released.\",\n",
       "  'hasanswer': False},\n",
       " {'id': 2940748,\n",
       "  'text': 'Solitude Mountain Resort is a ski resort located in the Big Cottonwood Canyon of the Wasatch Mountains, thirty miles southeast of Salt Lake City, Utah. With 66 trails, 1,200 acres (4.9 km2) and 2,047 feet (624 m) vertical, Solitude is one of the smaller ski resorts near Salt Lake City, along with its neighbor Brighton. It is a family-oriented mountain, with a wider range of beginner and intermediate slopes than other nearby ski resorts; 70% of its slopes are graded \"beginner\" or \"intermediate,\" the highest such ratio in the Salt Lake City area. Solitude was one of the first major US resorts to adopt an RFID lift ticket system, allowing lift lines to move more efficiently while reducing \"lift poaching\". It was followed by Alta Ski Area in 2007. Solitude is adjacent to Brighton Ski Resort near the top of Big Cottonwood Canyon. Solitude and Brighton offer a common \"Solbright Pass\" which provides access to both resorts for a nominal surcharge.',\n",
       "  'hasanswer': False},\n",
       " {'id': 664342,\n",
       "  'text': \"One Hundred Years of Solitude (Spanish: Cien años de soledad) is a 1967 novel by Colombian author Gabriel García Márquez that tells the multi-generational story of the Buendía family, whose patriarch, José Arcadio Buendía, founds the town of Macondo, the metaphoric Colombia. The magical realist style and thematic substance of One Hundred Years of Solitude established it as an important, representative novel of the literary Latin American Boom of the 1960s and 1970s, which was stylistically influenced by Modernism (European and North American) and the Cuban Vanguardia (Avant-Garde) literary movement. One Hundred Years of Solitude was first published in Spanish in 1967; it has been translated into thirty-seven languages and has sold more than 30 million copies. The novel remains widely acclaimed, and is considered García Márquez's masterpiece.\",\n",
       "  'hasanswer': False},\n",
       " {'id': 2949253,\n",
       "  'text': \"Space Vets was a 39-episode children's sci fi show about a motley crew of misfit intergalactic space vets. The concept was devised by Stephen Edmondson and Jerome Vincent, but the characters were created by writer Christopher Middleton, and most of the 39 episodes written by him, too. Music for the series was produced by former Doctor Who composer Dominic Glynn.\",\n",
       "  'hasanswer': False}]"
      ]
     },
     "execution_count": 18,
     "metadata": {},
     "output_type": "execute_result"
    }
   ],
   "source": [
    "new_dataset[\"train\"][\"ctxs\"][0]"
   ]
  },
  {
   "cell_type": "code",
   "execution_count": 14,
   "metadata": {},
   "outputs": [],
   "source": [
    "new_dataset = dataset.train_test_split(test_size=4282, seed=42)"
   ]
  },
  {
   "cell_type": "code",
   "execution_count": 16,
   "metadata": {},
   "outputs": [
    {
     "name": "stderr",
     "output_type": "stream",
     "text": [
      "Uploading the dataset shards:   0%|          | 0/1 [00:00<?, ?it/s]"
     ]
    },
    {
     "name": "stderr",
     "output_type": "stream",
     "text": [
      "Creating parquet from Arrow format: 100%|██████████| 10/10 [00:00<00:00, 35.27ba/s]\n",
      "Uploading the dataset shards: 100%|██████████| 1/1 [00:03<00:00,  3.15s/it]\n",
      "Creating parquet from Arrow format: 100%|██████████| 5/5 [00:00<00:00, 42.26ba/s]\n",
      "Uploading the dataset shards: 100%|██████████| 1/1 [00:02<00:00,  2.65s/it]\n"
     ]
    },
    {
     "data": {
      "text/plain": [
       "CommitInfo(commit_url='https://huggingface.co/datasets/Atipico1/PopQA/commit/08f0f594f1aa7342667bc6ed6c90368d048d3e76', commit_message='Upload dataset', commit_description='', oid='08f0f594f1aa7342667bc6ed6c90368d048d3e76', pr_url=None, pr_revision=None, pr_num=None)"
      ]
     },
     "execution_count": 16,
     "metadata": {},
     "output_type": "execute_result"
    }
   ],
   "source": [
    "new_dataset.push_to_hub(\"Atipico1/PopQA\")"
   ]
  },
  {
   "cell_type": "code",
   "execution_count": 19,
   "metadata": {},
   "outputs": [
    {
     "name": "stderr",
     "output_type": "stream",
     "text": [
      "/data/seongilpark/conda_envs/ft/lib/python3.10/site-packages/transformers/utils/hub.py:123: FutureWarning: Using `TRANSFORMERS_CACHE` is deprecated and will be removed in v5 of Transformers. Use `HF_HOME` instead.\n",
      "  warnings.warn(\n"
     ]
    }
   ],
   "source": [
    "from train import formatting_for_original"
   ]
  },
  {
   "cell_type": "code",
   "execution_count": 77,
   "metadata": {},
   "outputs": [
    {
     "name": "stderr",
     "output_type": "stream",
     "text": [
      "/data/seongilpark/conda_envs/ft/lib/python3.10/site-packages/huggingface_hub/repocard.py:105: UserWarning: Repo card metadata block was not found. Setting CardData to empty.\n",
      "  warnings.warn(\"Repo card metadata block was not found. Setting CardData to empty.\")\n"
     ]
    }
   ],
   "source": [
    "akari = load_dataset(\"akariasai/PopQA\")"
   ]
  },
  {
   "cell_type": "code",
   "execution_count": 79,
   "metadata": {},
   "outputs": [],
   "source": [
    "for row in akari[\"test\"]:\n",
    "    if not row[\"possible_answers\"]:\n",
    "        print(row[\"question\"])"
   ]
  },
  {
   "cell_type": "code",
   "execution_count": 80,
   "metadata": {},
   "outputs": [
    {
     "data": {
      "text/plain": [
       "DatasetDict({\n",
       "    test: Dataset({\n",
       "        features: ['id', 'subj', 'prop', 'obj', 'subj_id', 'prop_id', 'obj_id', 's_aliases', 'o_aliases', 's_uri', 'o_uri', 's_wiki_title', 'o_wiki_title', 's_pop', 'o_pop', 'question', 'possible_answers'],\n",
       "        num_rows: 14267\n",
       "    })\n",
       "})"
      ]
     },
     "execution_count": 80,
     "metadata": {},
     "output_type": "execute_result"
    }
   ],
   "source": [
    "akari"
   ]
  },
  {
   "cell_type": "code",
   "execution_count": 56,
   "metadata": {},
   "outputs": [],
   "source": [
    "import pandas as pd\n",
    "\n",
    "df_akari = pd.DataFrame(akari[\"test\"])\n",
    "dataset = load_dataset(\"Atipico1/PopQA\")\n",
    "df_hf_train = pd.DataFrame(dataset[\"train\"])\n",
    "df_hf_test = pd.DataFrame(dataset[\"test\"])\n",
    "new_df_hf_train = pd.merge(df_hf_train, df_akari, on=[\"id\"], how=\"left\")\n",
    "new_df_hf_train.drop(columns=[\"question_y\"], inplace=True)\n",
    "new_df_hf_train.rename(columns={\"question_x\": \"question\", \"possible_answers\":\"answers\"}, inplace=True)\n",
    "new_df_hf_test = pd.merge(df_hf_test, df_akari, on=[\"id\"], how=\"left\")\n",
    "new_df_hf_test.drop(columns=[\"question_y\"], inplace=True)\n",
    "new_df_hf_test.rename(columns={\"question_x\": \"question\", \"possible_answers\":\"answers\"}, inplace=True)"
   ]
  },
  {
   "cell_type": "code",
   "execution_count": 57,
   "metadata": {},
   "outputs": [],
   "source": [
    "from datasets import DatasetDict\n",
    "\n",
    "final = DatasetDict({\"train\": Dataset.from_pandas(new_df_hf_train), \"test\": Dataset.from_pandas(new_df_hf_test)})"
   ]
  },
  {
   "cell_type": "code",
   "execution_count": 59,
   "metadata": {},
   "outputs": [
    {
     "name": "stderr",
     "output_type": "stream",
     "text": [
      "Creating parquet from Arrow format: 100%|██████████| 10/10 [00:00<00:00, 112.77ba/s]\n",
      "Uploading the dataset shards: 100%|██████████| 1/1 [00:03<00:00,  3.17s/it]\n",
      "Creating parquet from Arrow format: 100%|██████████| 5/5 [00:00<00:00, 125.12ba/s]\n",
      "Uploading the dataset shards: 100%|██████████| 1/1 [00:03<00:00,  3.26s/it]\n"
     ]
    },
    {
     "data": {
      "text/plain": [
       "CommitInfo(commit_url='https://huggingface.co/datasets/Atipico1/PopQA/commit/4b229215976ff0e532df636ff94b60119d7cb674', commit_message='Upload dataset', commit_description='', oid='4b229215976ff0e532df636ff94b60119d7cb674', pr_url=None, pr_revision=None, pr_num=None)"
      ]
     },
     "execution_count": 59,
     "metadata": {},
     "output_type": "execute_result"
    }
   ],
   "source": [
    "final.push_to_hub(\"Atipico1/PopQA\")"
   ]
  },
  {
   "cell_type": "code",
   "execution_count": 81,
   "metadata": {},
   "outputs": [
    {
     "data": {
      "text/plain": [
       "DatasetDict({\n",
       "    train: Dataset({\n",
       "        features: ['id', 'question', 'ctxs', 'subj', 'prop', 'obj', 'subj_id', 'prop_id', 'obj_id', 's_aliases', 'o_aliases', 's_uri', 'o_uri', 's_wiki_title', 'o_wiki_title', 's_pop', 'o_pop', 'answers'],\n",
       "        num_rows: 10000\n",
       "    })\n",
       "    test: Dataset({\n",
       "        features: ['id', 'question', 'ctxs', 'subj', 'prop', 'obj', 'subj_id', 'prop_id', 'obj_id', 's_aliases', 'o_aliases', 's_uri', 'o_uri', 's_wiki_title', 'o_wiki_title', 's_pop', 'o_pop', 'answers'],\n",
       "        num_rows: 4282\n",
       "    })\n",
       "})"
      ]
     },
     "execution_count": 81,
     "metadata": {},
     "output_type": "execute_result"
    }
   ],
   "source": [
    "final"
   ]
  },
  {
   "cell_type": "code",
   "execution_count": 24,
   "metadata": {},
   "outputs": [],
   "source": [
    "dataset = load_dataset(\"Atipico1/popQA\")"
   ]
  },
  {
   "cell_type": "code",
   "execution_count": 25,
   "metadata": {},
   "outputs": [
    {
     "name": "stderr",
     "output_type": "stream",
     "text": [
      "Map:   0%|          | 0/4267 [00:00<?, ? examples/s]"
     ]
    },
    {
     "name": "stderr",
     "output_type": "stream",
     "text": [
      "Map: 100%|██████████| 4267/4267 [00:00<00:00, 6164.21 examples/s]\n"
     ]
    }
   ],
   "source": [
    "from ast import literal_eval\n",
    "dataset[\"train\"] = dataset[\"train\"].map(lambda x: {\"answers\": literal_eval(x[\"answers\"])})\n",
    "dataset[\"test\"] = dataset[\"test\"].map(lambda x: {\"answers\": literal_eval(x[\"answers\"])})"
   ]
  },
  {
   "cell_type": "code",
   "execution_count": 31,
   "metadata": {},
   "outputs": [
    {
     "name": "stderr",
     "output_type": "stream",
     "text": [
      "Creating parquet from Arrow format: 100%|██████████| 10/10 [00:00<00:00, 38.38ba/s]\n",
      "Uploading the dataset shards: 100%|██████████| 1/1 [00:05<00:00,  5.71s/it]\n",
      "Creating parquet from Arrow format: 100%|██████████| 5/5 [00:00<00:00, 47.30ba/s]\n",
      "Uploading the dataset shards: 100%|██████████| 1/1 [00:04<00:00,  4.63s/it]\n"
     ]
    },
    {
     "data": {
      "text/plain": [
       "CommitInfo(commit_url='https://huggingface.co/datasets/Atipico1/popQA/commit/39d1f9de940475fbf588c1d1c49f2fbabb49f477', commit_message='Upload dataset', commit_description='', oid='39d1f9de940475fbf588c1d1c49f2fbabb49f477', pr_url=None, pr_revision=None, pr_num=None)"
      ]
     },
     "execution_count": 31,
     "metadata": {},
     "output_type": "execute_result"
    }
   ],
   "source": [
    "dataset.push_to_hub(\"Atipico1/popQA\")"
   ]
  },
  {
   "cell_type": "code",
   "execution_count": 13,
   "metadata": {},
   "outputs": [],
   "source": [
    "from src.utils import normalize_question\n",
    "\n",
    "num_contexts = 5\n",
    "def formatting_for_original(example):\n",
    "    output_texts = []\n",
    "    for i in range(len(example['question'])):\n",
    "        q = normalize_question(example['question'][i])\n",
    "        if num_contexts == 0:\n",
    "            text = f\"### Q: {q}\\n### A: {example['answers'][i][0]}</s>\"\n",
    "        else:\n",
    "            ctxs = \"\\n\".join([f\"Doc {idx}: {ctx['text']}\" for idx, ctx in enumerate(example[\"ctxs\"][i][:num_contexts])])\n",
    "            text = f\"### Background:\\n{ctxs}\\n\\n### Q: {q}\\n### A: {example['answers'][i][0]}</s>\"\n",
    "        output_texts.append(text)\n",
    "    return output_texts\n",
    "output = formatting_for_original(dataset[:])"
   ]
  },
  {
   "cell_type": "code",
   "execution_count": 7,
   "metadata": {},
   "outputs": [
    {
     "name": "stderr",
     "output_type": "stream",
     "text": [
      "/data/seongilpark/conda_envs/ft/lib/python3.10/site-packages/transformers/utils/hub.py:123: FutureWarning: Using `TRANSFORMERS_CACHE` is deprecated and will be removed in v5 of Transformers. Use `HF_HOME` instead.\n",
      "  warnings.warn(\n"
     ]
    }
   ],
   "source": [
    "from transformers import AutoTokenizer\n",
    "tokenizer = AutoTokenizer.from_pretrained(\"meta-llama/Llama-2-7b-hf\")"
   ]
  },
  {
   "cell_type": "code",
   "execution_count": 138,
   "metadata": {},
   "outputs": [],
   "source": [
    "out = tokenizer(output, return_length=True)"
   ]
  },
  {
   "cell_type": "code",
   "execution_count": 139,
   "metadata": {},
   "outputs": [
    {
     "data": {
      "text/plain": [
       "1367"
      ]
     },
     "execution_count": 139,
     "metadata": {},
     "output_type": "execute_result"
    }
   ],
   "source": [
    "max(out['length'])"
   ]
  },
  {
   "cell_type": "code",
   "execution_count": 36,
   "metadata": {},
   "outputs": [
    {
     "data": {
      "text/plain": [
       "1536"
      ]
     },
     "execution_count": 36,
     "metadata": {},
     "output_type": "execute_result"
    }
   ],
   "source": [
    "1024+512"
   ]
  },
  {
   "cell_type": "code",
   "execution_count": null,
   "metadata": {},
   "outputs": [],
   "source": []
  }
 ],
 "metadata": {
  "kernelspec": {
   "display_name": "finetune",
   "language": "python",
   "name": "python3"
  },
  "language_info": {
   "codemirror_mode": {
    "name": "ipython",
    "version": 3
   },
   "file_extension": ".py",
   "mimetype": "text/x-python",
   "name": "python",
   "nbconvert_exporter": "python",
   "pygments_lexer": "ipython3",
   "version": "3.10.13"
  }
 },
 "nbformat": 4,
 "nbformat_minor": 2
}
