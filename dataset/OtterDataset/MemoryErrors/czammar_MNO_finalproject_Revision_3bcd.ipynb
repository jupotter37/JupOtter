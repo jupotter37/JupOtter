{
  "nbformat": 4,
  "nbformat_minor": 0,
  "metadata": {
    "colab": {
      "name": "Revision_3bcd.ipynb",
      "provenance": [],
      "collapsed_sections": []
    },
    "kernelspec": {
      "name": "python3",
      "display_name": "Python 3"
    },
    "accelerator": "GPU"
  },
  "cells": [
    {
      "cell_type": "markdown",
      "metadata": {
        "id": "Cuq9-5YMxZPQ",
        "colab_type": "text"
      },
      "source": [
        "# Revisión de código (Secciones 3bcd)\n",
        "\n",
        "Funciones a revisar: \n",
        "- formar_abc\n",
        "- delta\n",
        "- formar_omegas\n"
      ]
    },
    {
      "cell_type": "code",
      "metadata": {
        "id": "hM68phy00DcQ",
        "colab_type": "code",
        "colab": {}
      },
      "source": [
        "import cupy as cp\n",
        "\n",
        "def formar_vectores(mu, Sigma):\n",
        "  '''\n",
        "  Calcula las cantidades u = \\Sigma^{-1}  \\mu y v := \\Sigma^{-1} \\cdot 1 del problema de Markowitz\n",
        "\n",
        "  Args:\n",
        "    mu (cupy array, vector): valores medios esperados de activos (dimension n)\n",
        "    Sigma (cupy array, matriz): matriz de covarianzas asociada a activos (dimension n x n)\n",
        "\n",
        "  Return:\n",
        "    u (cupy array, escalar): vector dado por \\cdot Sigma^-1 \\cdot mu (dimension n)\n",
        "    v (cupy array, escalar): vector dado por Sigma^-1 \\cdot 1 (dimension n)\n",
        "  '''\n",
        "\n",
        "  # Vector auxiliar con entradas igual a 1\n",
        "  n = Sigma.shape[0]\n",
        "  ones_vector = cp.ones(n)\n",
        "\n",
        "  # Formamos vector \\cdot Sigma^-1 mu y Sigm^-1 1\n",
        "  # Nota: \n",
        "  #   1) u= Sigma^-1 \\cdot mu se obtiene resolviendo  Sigma u = mu\n",
        "  #   2) v= Sigma^-1 \\cdot 1 se obtiene resolviendo  Sigma v = 1\n",
        "\n",
        "  # Obtiene vectores de interes\n",
        "  u = cp.linalg.solve(Sigma, mu)\n",
        "  u = u.transpose()[0] # correcion de expresion de array\n",
        "  v = cp.linalg.solve(Sigma, ones_vector)\n",
        "\n",
        "  return u , v"
      ],
      "execution_count": 0,
      "outputs": []
    },
    {
      "cell_type": "markdown",
      "metadata": {
        "id": "BaTgcW36mleO",
        "colab_type": "text"
      },
      "source": [
        "# Explicación\n",
        "\n",
        "Las siguientes funciones son parte fundamental para obtener la ecuación de los pesos que minimicen la varianza del portafolio."
      ]
    },
    {
      "cell_type": "markdown",
      "metadata": {
        "id": "qN--ARnuGby9",
        "colab_type": "text"
      },
      "source": [
        "# Función a revisar : \n",
        "**formar_abc** (Sección 3.b)\n",
        "\n",
        "Suponemos que tenemos **n** activos, siendo $\\hat{\\mu} = \\hat{\\mu_{1}}, \\hat{\\mu_{2}}, .. \\hat{\\mu_{n}}$ el vector de rentornos esperados estimados y  $\\hat{\\sum_{nxn}}$ la matriz de varianzas y covarianzas esperada de dichos retornos.\n",
        "\n",
        "Dados los valores de $\\hat{\\mu}$ y $\\hat{\\sum_{nxn}}$, la siguiente función busca obtener tres valores denominados **A, B, C** donde:\n",
        "\n",
        "$$A := \\hat{\\mu}^T\\hat{\\Sigma}^{-1}\\hat{\\mu}$$\n",
        "\n",
        "$$B := 1^T\\hat{\\Sigma}^{-1}  1$$\n",
        "\n",
        "$$C := 1^T\\hat{\\Sigma}^{-1}\\hat{\\mu}$$\n",
        "\n",
        "Dada la función de la sección 3.a denominada **formar_vectores** donde: \n",
        "$$ u := \\hat{\\Sigma}^{-1} \\cdot \\hat{\\mu} $$\n",
        "\n",
        "$$ v := \\hat{\\Sigma}^{-1} \\cdot 1 $$\n",
        "\n",
        "La solución para obtener **A,B,C** es la siguiente:\n",
        "\n",
        "$$A := \\hat{\\mu}^T u$$\n",
        "\n",
        "$$B := 1^Tv$$\n",
        "\n",
        "$$C := 1^Tu$$\n",
        "\n",
        "**Nota**: los valores de A,B y C son escalares"
      ]
    },
    {
      "cell_type": "code",
      "metadata": {
        "id": "i37lNnsu0Dp9",
        "colab_type": "code",
        "colab": {}
      },
      "source": [
        "def formar_abc(mu, Sigma):\n",
        "  '''\n",
        "  Calcula las cantidades A, B y C del diagrama de flujo del problema de Markowitz\n",
        "\n",
        "  Args:\n",
        "    mu (cupy array, vector): valores medios esperados de activos (dimension n)\n",
        "    Sigma (cupy array, matriz): matriz de covarianzas asociada a activos (dimension n x n)\n",
        "\n",
        "  Return:\n",
        "    A (cupy array, escalar): escalar dado por mu^t \\cdot Sigma^-1 \\cdot mu\n",
        "    B (cupy array, escalar): escalar dado por 1^t \\cdot Sigma^-1 \\cdot 1\n",
        "    C (cupy array, escalar): escalar dado por 1^t \\cdot Sigma^-1 \\cdot mu\n",
        "  '''\n",
        "\n",
        "  # Vector auxiliar con entradas igual a 1\n",
        "  n = Sigma.shape[0]\n",
        "  ones_vector = cp.ones(n)\n",
        "\n",
        "  # Formamos vector \\cdot Sigma^-1 mu y Sigm^-1 1\n",
        "  # Nota: \n",
        "  #   1) u= Sigma^-1 \\cdot mu se obtiene resolviendo  Sigma u = mu\n",
        "  #   2) v= Sigma^-1 \\cdot 1 se obtiene resolviendo  Sigma v = 1\n",
        "\n",
        "  u, v = formar_vectores(mu, Sigma)\n",
        "\n",
        "  # Obtiene escalares de interes\n",
        "  A = mu.transpose()@u\n",
        "  B = ones_vector.transpose()@v\n",
        "  C = ones_vector.transpose()@u\n",
        "\n",
        "  return A, B, C"
      ],
      "execution_count": 0,
      "outputs": []
    },
    {
      "cell_type": "markdown",
      "metadata": {
        "id": "-ppA8M8sK8P9",
        "colab_type": "text"
      },
      "source": [
        "**1. Documentación**\n",
        "- La documentación expresa de manera concisa y breve el objetivo del código\n",
        "- Los argumentos de entrada son explicados y detallados correctamente mencionando sus dimensiones correspondientes.\n",
        "- Los argumentos de salida son expresados correctamente mostrando sus dimensiones y significados.\n",
        "\n",
        "\n",
        "**2. Cumplimiento de objetivos del código**\n",
        "- La función cumple con el objetivo devolviendo los escalares A,B y C que serán requeridos posteriormente. \n",
        "\n",
        "\n",
        "**3. Tests**\n",
        "\n",
        "**Objetivo 1**: Desempeño del código alterando el número de activos, es decir **n**"
      ]
    },
    {
      "cell_type": "markdown",
      "metadata": {
        "id": "WsqNeuFNPGZJ",
        "colab_type": "text"
      },
      "source": [
        "1. n = $10^2$"
      ]
    },
    {
      "cell_type": "code",
      "metadata": {
        "id": "wx4Mbi8WM6Kt",
        "colab_type": "code",
        "colab": {
          "base_uri": "https://localhost:8080/",
          "height": 68
        },
        "outputId": "0df32cd5-96ad-4a47-f294-e40a0565d0e2"
      },
      "source": [
        "n= 10**2\n",
        "Sigma=cp.random.rand(n, n)\n",
        "mu=cp.random.rand(n, 1)\n",
        "A,B,C = formar_abc(mu, Sigma)\n",
        "print(\"A = \",A)\n",
        "print(\"B = \",B)\n",
        "print(\"C = \",C)\n",
        "\n"
      ],
      "execution_count": 4,
      "outputs": [
        {
          "output_type": "stream",
          "text": [
            "A =  [2.02706907]\n",
            "B =  1.9141406813363295\n",
            "C =  2.8218915878694695\n"
          ],
          "name": "stdout"
        }
      ]
    },
    {
      "cell_type": "markdown",
      "metadata": {
        "id": "5QaZIhC5PJ_J",
        "colab_type": "text"
      },
      "source": [
        "2. n = $10^3$"
      ]
    },
    {
      "cell_type": "code",
      "metadata": {
        "id": "mcDyCNqhN_kM",
        "colab_type": "code",
        "colab": {
          "base_uri": "https://localhost:8080/",
          "height": 68
        },
        "outputId": "e02b9dfb-3103-41f3-ba1f-10c4e49d9cbe"
      },
      "source": [
        "n= 10**3\n",
        "Sigma=cp.random.rand(n, n)\n",
        "mu=cp.random.rand(n, 1)\n",
        "A,B,C = formar_abc(mu, Sigma)\n",
        "print(\"A = \",A)\n",
        "print(\"B = \",B)\n",
        "print(\"C = \",C)"
      ],
      "execution_count": 13,
      "outputs": [
        {
          "output_type": "stream",
          "text": [
            "A =  [-1635.3651061]\n",
            "B =  -1.225027905896697\n",
            "C =  123.5389049531505\n"
          ],
          "name": "stdout"
        }
      ]
    },
    {
      "cell_type": "markdown",
      "metadata": {
        "id": "RPFl1l8sPNmy",
        "colab_type": "text"
      },
      "source": [
        "3. n = $10^4$"
      ]
    },
    {
      "cell_type": "code",
      "metadata": {
        "id": "9NLLYwAeO7NR",
        "colab_type": "code",
        "colab": {
          "base_uri": "https://localhost:8080/",
          "height": 68
        },
        "outputId": "161132d2-bfbe-47f5-8227-2ece20f8ef74"
      },
      "source": [
        "n= 10**4\n",
        "Sigma=cp.random.rand(n, n)\n",
        "mu=cp.random.rand(n, 1)\n",
        "A,B,C = formar_abc(mu, Sigma)\n",
        "print(\"A = \",A)\n",
        "print(\"B = \",B)\n",
        "print(\"C = \",C)"
      ],
      "execution_count": 14,
      "outputs": [
        {
          "output_type": "stream",
          "text": [
            "A =  [-66.48767904]\n",
            "B =  1.9973144998778083\n",
            "C =  1.0972820249845583\n"
          ],
          "name": "stdout"
        }
      ]
    },
    {
      "cell_type": "markdown",
      "metadata": {
        "id": "4QZSPCAkPRgC",
        "colab_type": "text"
      },
      "source": [
        "4. n = $10^5$"
      ]
    },
    {
      "cell_type": "code",
      "metadata": {
        "id": "dQRgA57MO9hQ",
        "colab_type": "code",
        "colab": {
          "base_uri": "https://localhost:8080/",
          "height": 613
        },
        "outputId": "377a4cfc-d0f2-450b-b274-26fc031fa670"
      },
      "source": [
        "n= 10**5\n",
        "Sigma=cp.random.rand(n, n)\n",
        "mu=cp.random.rand(n, 1)\n",
        "A,B,C = formar_abc(mu, Sigma)\n",
        "print(\"A = \",A)\n",
        "print(\"B = \",B)\n",
        "print(\"C = \",C)"
      ],
      "execution_count": 15,
      "outputs": [
        {
          "output_type": "error",
          "ename": "OutOfMemoryError",
          "evalue": "ignored",
          "traceback": [
            "\u001b[0;31m---------------------------------------------------------------------------\u001b[0m",
            "\u001b[0;31mOutOfMemoryError\u001b[0m                          Traceback (most recent call last)",
            "\u001b[0;32m<ipython-input-15-81e0bcab7b94>\u001b[0m in \u001b[0;36m<module>\u001b[0;34m()\u001b[0m\n\u001b[1;32m      1\u001b[0m \u001b[0mn\u001b[0m\u001b[0;34m=\u001b[0m \u001b[0;36m10\u001b[0m\u001b[0;34m**\u001b[0m\u001b[0;36m5\u001b[0m\u001b[0;34m\u001b[0m\u001b[0;34m\u001b[0m\u001b[0m\n\u001b[0;32m----> 2\u001b[0;31m \u001b[0mSigma\u001b[0m\u001b[0;34m=\u001b[0m\u001b[0mcp\u001b[0m\u001b[0;34m.\u001b[0m\u001b[0mrandom\u001b[0m\u001b[0;34m.\u001b[0m\u001b[0mrand\u001b[0m\u001b[0;34m(\u001b[0m\u001b[0mn\u001b[0m\u001b[0;34m,\u001b[0m \u001b[0mn\u001b[0m\u001b[0;34m)\u001b[0m\u001b[0;34m\u001b[0m\u001b[0;34m\u001b[0m\u001b[0m\n\u001b[0m\u001b[1;32m      3\u001b[0m \u001b[0mmu\u001b[0m\u001b[0;34m=\u001b[0m\u001b[0mcp\u001b[0m\u001b[0;34m.\u001b[0m\u001b[0mrandom\u001b[0m\u001b[0;34m.\u001b[0m\u001b[0mrand\u001b[0m\u001b[0;34m(\u001b[0m\u001b[0mn\u001b[0m\u001b[0;34m,\u001b[0m \u001b[0;36m1\u001b[0m\u001b[0;34m)\u001b[0m\u001b[0;34m\u001b[0m\u001b[0;34m\u001b[0m\u001b[0m\n\u001b[1;32m      4\u001b[0m \u001b[0mA\u001b[0m\u001b[0;34m,\u001b[0m\u001b[0mB\u001b[0m\u001b[0;34m,\u001b[0m\u001b[0mC\u001b[0m \u001b[0;34m=\u001b[0m \u001b[0mformar_abc\u001b[0m\u001b[0;34m(\u001b[0m\u001b[0mmu\u001b[0m\u001b[0;34m,\u001b[0m \u001b[0mSigma\u001b[0m\u001b[0;34m)\u001b[0m\u001b[0;34m\u001b[0m\u001b[0;34m\u001b[0m\u001b[0m\n\u001b[1;32m      5\u001b[0m \u001b[0mprint\u001b[0m\u001b[0;34m(\u001b[0m\u001b[0;34m\"A = \"\u001b[0m\u001b[0;34m,\u001b[0m\u001b[0mA\u001b[0m\u001b[0;34m)\u001b[0m\u001b[0;34m\u001b[0m\u001b[0;34m\u001b[0m\u001b[0m\n",
            "\u001b[0;32m/usr/local/lib/python3.6/dist-packages/cupy/random/sample.py\u001b[0m in \u001b[0;36mrand\u001b[0;34m(*size, **kwarg)\u001b[0m\n\u001b[1;32m     45\u001b[0m         raise TypeError('rand() got unexpected keyword arguments %s'\n\u001b[1;32m     46\u001b[0m                         % ', '.join(kwarg.keys()))\n\u001b[0;32m---> 47\u001b[0;31m     \u001b[0;32mreturn\u001b[0m \u001b[0mrandom_sample\u001b[0m\u001b[0;34m(\u001b[0m\u001b[0msize\u001b[0m\u001b[0;34m=\u001b[0m\u001b[0msize\u001b[0m\u001b[0;34m,\u001b[0m \u001b[0mdtype\u001b[0m\u001b[0;34m=\u001b[0m\u001b[0mdtype\u001b[0m\u001b[0;34m)\u001b[0m\u001b[0;34m\u001b[0m\u001b[0;34m\u001b[0m\u001b[0m\n\u001b[0m\u001b[1;32m     48\u001b[0m \u001b[0;34m\u001b[0m\u001b[0m\n\u001b[1;32m     49\u001b[0m \u001b[0;34m\u001b[0m\u001b[0m\n",
            "\u001b[0;32m/usr/local/lib/python3.6/dist-packages/cupy/random/sample.py\u001b[0m in \u001b[0;36mrandom_sample\u001b[0;34m(size, dtype)\u001b[0m\n\u001b[1;32m    159\u001b[0m     \"\"\"\n\u001b[1;32m    160\u001b[0m     \u001b[0mrs\u001b[0m \u001b[0;34m=\u001b[0m \u001b[0mgenerator\u001b[0m\u001b[0;34m.\u001b[0m\u001b[0mget_random_state\u001b[0m\u001b[0;34m(\u001b[0m\u001b[0;34m)\u001b[0m\u001b[0;34m\u001b[0m\u001b[0;34m\u001b[0m\u001b[0m\n\u001b[0;32m--> 161\u001b[0;31m     \u001b[0;32mreturn\u001b[0m \u001b[0mrs\u001b[0m\u001b[0;34m.\u001b[0m\u001b[0mrandom_sample\u001b[0m\u001b[0;34m(\u001b[0m\u001b[0msize\u001b[0m\u001b[0;34m=\u001b[0m\u001b[0msize\u001b[0m\u001b[0;34m,\u001b[0m \u001b[0mdtype\u001b[0m\u001b[0;34m=\u001b[0m\u001b[0mdtype\u001b[0m\u001b[0;34m)\u001b[0m\u001b[0;34m\u001b[0m\u001b[0;34m\u001b[0m\u001b[0m\n\u001b[0m\u001b[1;32m    162\u001b[0m \u001b[0;34m\u001b[0m\u001b[0m\n\u001b[1;32m    163\u001b[0m \u001b[0;34m\u001b[0m\u001b[0m\n",
            "\u001b[0;32m/usr/local/lib/python3.6/dist-packages/cupy/random/generator.py\u001b[0m in \u001b[0;36mrandom_sample\u001b[0;34m(self, size, dtype)\u001b[0m\n\u001b[1;32m    538\u001b[0m \u001b[0;34m\u001b[0m\u001b[0m\n\u001b[1;32m    539\u001b[0m         \"\"\"\n\u001b[0;32m--> 540\u001b[0;31m         \u001b[0mout\u001b[0m \u001b[0;34m=\u001b[0m \u001b[0mself\u001b[0m\u001b[0;34m.\u001b[0m\u001b[0m_random_sample_raw\u001b[0m\u001b[0;34m(\u001b[0m\u001b[0msize\u001b[0m\u001b[0;34m,\u001b[0m \u001b[0mdtype\u001b[0m\u001b[0;34m)\u001b[0m\u001b[0;34m\u001b[0m\u001b[0;34m\u001b[0m\u001b[0m\n\u001b[0m\u001b[1;32m    541\u001b[0m         \u001b[0mRandomState\u001b[0m\u001b[0;34m.\u001b[0m\u001b[0m_mod1_kernel\u001b[0m\u001b[0;34m(\u001b[0m\u001b[0mout\u001b[0m\u001b[0;34m)\u001b[0m\u001b[0;34m\u001b[0m\u001b[0;34m\u001b[0m\u001b[0m\n\u001b[1;32m    542\u001b[0m         \u001b[0;32mreturn\u001b[0m \u001b[0mout\u001b[0m\u001b[0;34m\u001b[0m\u001b[0;34m\u001b[0m\u001b[0m\n",
            "\u001b[0;32m/usr/local/lib/python3.6/dist-packages/cupy/random/generator.py\u001b[0m in \u001b[0;36m_random_sample_raw\u001b[0;34m(self, size, dtype)\u001b[0m\n\u001b[1;32m    521\u001b[0m     \u001b[0;32mdef\u001b[0m \u001b[0m_random_sample_raw\u001b[0m\u001b[0;34m(\u001b[0m\u001b[0mself\u001b[0m\u001b[0;34m,\u001b[0m \u001b[0msize\u001b[0m\u001b[0;34m,\u001b[0m \u001b[0mdtype\u001b[0m\u001b[0;34m)\u001b[0m\u001b[0;34m:\u001b[0m\u001b[0;34m\u001b[0m\u001b[0;34m\u001b[0m\u001b[0m\n\u001b[1;32m    522\u001b[0m         \u001b[0mdtype\u001b[0m \u001b[0;34m=\u001b[0m \u001b[0m_check_and_get_dtype\u001b[0m\u001b[0;34m(\u001b[0m\u001b[0mdtype\u001b[0m\u001b[0;34m)\u001b[0m\u001b[0;34m\u001b[0m\u001b[0;34m\u001b[0m\u001b[0m\n\u001b[0;32m--> 523\u001b[0;31m         \u001b[0mout\u001b[0m \u001b[0;34m=\u001b[0m \u001b[0mcupy\u001b[0m\u001b[0;34m.\u001b[0m\u001b[0mempty\u001b[0m\u001b[0;34m(\u001b[0m\u001b[0msize\u001b[0m\u001b[0;34m,\u001b[0m \u001b[0mdtype\u001b[0m\u001b[0;34m=\u001b[0m\u001b[0mdtype\u001b[0m\u001b[0;34m)\u001b[0m\u001b[0;34m\u001b[0m\u001b[0;34m\u001b[0m\u001b[0m\n\u001b[0m\u001b[1;32m    524\u001b[0m         \u001b[0;32mif\u001b[0m \u001b[0mdtype\u001b[0m\u001b[0;34m.\u001b[0m\u001b[0mchar\u001b[0m \u001b[0;34m==\u001b[0m \u001b[0;34m'f'\u001b[0m\u001b[0;34m:\u001b[0m\u001b[0;34m\u001b[0m\u001b[0;34m\u001b[0m\u001b[0m\n\u001b[1;32m    525\u001b[0m             \u001b[0mfunc\u001b[0m \u001b[0;34m=\u001b[0m \u001b[0mcurand\u001b[0m\u001b[0;34m.\u001b[0m\u001b[0mgenerateUniform\u001b[0m\u001b[0;34m\u001b[0m\u001b[0;34m\u001b[0m\u001b[0m\n",
            "\u001b[0;32m/usr/local/lib/python3.6/dist-packages/cupy/creation/basic.py\u001b[0m in \u001b[0;36mempty\u001b[0;34m(shape, dtype, order)\u001b[0m\n\u001b[1;32m     20\u001b[0m \u001b[0;34m\u001b[0m\u001b[0m\n\u001b[1;32m     21\u001b[0m     \"\"\"\n\u001b[0;32m---> 22\u001b[0;31m     \u001b[0;32mreturn\u001b[0m \u001b[0mcupy\u001b[0m\u001b[0;34m.\u001b[0m\u001b[0mndarray\u001b[0m\u001b[0;34m(\u001b[0m\u001b[0mshape\u001b[0m\u001b[0;34m,\u001b[0m \u001b[0mdtype\u001b[0m\u001b[0;34m,\u001b[0m \u001b[0morder\u001b[0m\u001b[0;34m=\u001b[0m\u001b[0morder\u001b[0m\u001b[0;34m)\u001b[0m\u001b[0;34m\u001b[0m\u001b[0;34m\u001b[0m\u001b[0m\n\u001b[0m\u001b[1;32m     23\u001b[0m \u001b[0;34m\u001b[0m\u001b[0m\n\u001b[1;32m     24\u001b[0m \u001b[0;34m\u001b[0m\u001b[0m\n",
            "\u001b[0;32mcupy/core/core.pyx\u001b[0m in \u001b[0;36mcupy.core.core.ndarray.__init__\u001b[0;34m()\u001b[0m\n",
            "\u001b[0;32mcupy/cuda/memory.pyx\u001b[0m in \u001b[0;36mcupy.cuda.memory.alloc\u001b[0;34m()\u001b[0m\n",
            "\u001b[0;32mcupy/cuda/memory.pyx\u001b[0m in \u001b[0;36mcupy.cuda.memory.MemoryPool.malloc\u001b[0;34m()\u001b[0m\n",
            "\u001b[0;32mcupy/cuda/memory.pyx\u001b[0m in \u001b[0;36mcupy.cuda.memory.MemoryPool.malloc\u001b[0;34m()\u001b[0m\n",
            "\u001b[0;32mcupy/cuda/memory.pyx\u001b[0m in \u001b[0;36mcupy.cuda.memory.SingleDeviceMemoryPool.malloc\u001b[0;34m()\u001b[0m\n",
            "\u001b[0;32mcupy/cuda/memory.pyx\u001b[0m in \u001b[0;36mcupy.cuda.memory.SingleDeviceMemoryPool._malloc\u001b[0;34m()\u001b[0m\n",
            "\u001b[0;32mcupy/cuda/memory.pyx\u001b[0m in \u001b[0;36mcupy.cuda.memory._try_malloc\u001b[0;34m()\u001b[0m\n",
            "\u001b[0;31mOutOfMemoryError\u001b[0m: out of memory to allocate 80000000000 bytes (total 80800082944 bytes)"
          ]
        }
      ]
    },
    {
      "cell_type": "markdown",
      "metadata": {
        "id": "lOV4PtS5Palt",
        "colab_type": "text"
      },
      "source": [
        "**Objetivo 2:** Operaciones con A,B y C\n"
      ]
    },
    {
      "cell_type": "code",
      "metadata": {
        "id": "AJ9SRpoZPh79",
        "colab_type": "code",
        "colab": {
          "base_uri": "https://localhost:8080/",
          "height": 119
        },
        "outputId": "9a2eccc7-34f0-477e-e65d-2137f570c4ff"
      },
      "source": [
        "n= 10**4\n",
        "Sigma=cp.random.rand(n, n)\n",
        "mu=cp.random.rand(n, 1)\n",
        "A,B,C = formar_abc(mu, Sigma)\n",
        "print(\"A = \",A)\n",
        "print(\"B = \",B)\n",
        "print(\"C = \",C)\n",
        "\n",
        "print(\"A*B*C: \", A*B*C)\n",
        "print(\"A*B/C: \", A*B/C)\n",
        "print(\"A+B+C: \", A+B+C)"
      ],
      "execution_count": 18,
      "outputs": [
        {
          "output_type": "stream",
          "text": [
            "A =  [-39.80508806]\n",
            "B =  1.9681339127906536\n",
            "C =  1.829163084595848\n",
            "A*B*C:  [-143.29982559]\n",
            "A*B/C:  [-42.82928317]\n",
            "A+B+C:  [-36.00779107]\n"
          ],
          "name": "stdout"
        }
      ]
    },
    {
      "cell_type": "markdown",
      "metadata": {
        "id": "SI5xr9cqcs2o",
        "colab_type": "text"
      },
      "source": [
        "**Objetivo 3:** Desempeño con $\\hat{\\mu}_{i}$ de diferentes tamaños"
      ]
    },
    {
      "cell_type": "code",
      "metadata": {
        "id": "okKV2Uu0c0sV",
        "colab_type": "code",
        "colab": {
          "base_uri": "https://localhost:8080/",
          "height": 68
        },
        "outputId": "ab8df60f-b46d-41e8-8e10-1a22991a003c"
      },
      "source": [
        "n= 10**3\n",
        "rt = 10**18 #Tamaño del retorno esperado\n",
        "Sigma=cp.random.rand(n, n)\n",
        "mu=cp.random.rand(n, 1)*rt\n",
        "A,B,C = formar_abc(mu, Sigma)\n",
        "print(\"A = \",A)\n",
        "print(\"B = \",B)\n",
        "print(\"C = \",C)\n"
      ],
      "execution_count": 37,
      "outputs": [
        {
          "output_type": "stream",
          "text": [
            "A =  [-5.05578153e+36]\n",
            "B =  1.9888812380119054\n",
            "C =  3.6368303906023014e+17\n"
          ],
          "name": "stdout"
        }
      ]
    },
    {
      "cell_type": "code",
      "metadata": {
        "id": "0XugQcGJgQDF",
        "colab_type": "code",
        "colab": {
          "base_uri": "https://localhost:8080/",
          "height": 68
        },
        "outputId": "edba369b-e835-47c6-de32-b1ca871b120d"
      },
      "source": [
        "n= 10**3\n",
        "rt = 10**19 #Tamaño del retorno esperado\n",
        "Sigma=cp.random.rand(n, n)\n",
        "mu=cp.random.rand(n, 1)*rt\n",
        "A,B,C = formar_abc(mu, Sigma)\n",
        "print(\"A = \",A)\n",
        "print(\"B = \",B)\n",
        "print(\"C = \",C)"
      ],
      "execution_count": 38,
      "outputs": [
        {
          "output_type": "stream",
          "text": [
            "A =  [-1.13056086e+38]\n",
            "B =  1.9774140297964762\n",
            "C =  4.795454397622616e+18\n"
          ],
          "name": "stdout"
        }
      ]
    },
    {
      "cell_type": "code",
      "metadata": {
        "id": "5X4fWDyzgUmf",
        "colab_type": "code",
        "colab": {
          "base_uri": "https://localhost:8080/",
          "height": 68
        },
        "outputId": "1bc90c97-8322-4a2b-8c0b-7b75f544350b"
      },
      "source": [
        "n= 10**4\n",
        "rt = 10**19 #Tamaño del retorno esperado\n",
        "Sigma=cp.random.rand(n, n)\n",
        "mu=cp.random.rand(n, 1)*rt\n",
        "A,B,C = formar_abc(mu, Sigma)\n",
        "print(\"A = \",A)\n",
        "print(\"B = \",B)\n",
        "print(\"C = \",C)"
      ],
      "execution_count": 39,
      "outputs": [
        {
          "output_type": "stream",
          "text": [
            "A =  [1.03718642e+39]\n",
            "B =  1.9864997703065628\n",
            "C =  1.6106599823831794e+19\n"
          ],
          "name": "stdout"
        }
      ]
    },
    {
      "cell_type": "code",
      "metadata": {
        "id": "ssvxgjFqgfvH",
        "colab_type": "code",
        "colab": {
          "base_uri": "https://localhost:8080/",
          "height": 402
        },
        "outputId": "aad1cbae-e67e-4bdb-faf4-7bb107a6a1fc"
      },
      "source": [
        "n= 10**4\n",
        "rt = 10**20 #Tamaño del retorno esperado\n",
        "Sigma=cp.random.rand(n, n)\n",
        "mu=cp.random.rand(n, 1)*rt\n",
        "A,B,C = formar_abc(mu, Sigma)\n",
        "print(\"A = \",A)\n",
        "print(\"B = \",B)\n",
        "print(\"C = \",C)"
      ],
      "execution_count": 40,
      "outputs": [
        {
          "output_type": "error",
          "ename": "OverflowError",
          "evalue": "ignored",
          "traceback": [
            "\u001b[0;31m---------------------------------------------------------------------------\u001b[0m",
            "\u001b[0;31mOverflowError\u001b[0m                             Traceback (most recent call last)",
            "\u001b[0;32m<ipython-input-40-a266f35d59a2>\u001b[0m in \u001b[0;36m<module>\u001b[0;34m()\u001b[0m\n\u001b[1;32m      2\u001b[0m \u001b[0mrt\u001b[0m \u001b[0;34m=\u001b[0m \u001b[0;36m10\u001b[0m\u001b[0;34m**\u001b[0m\u001b[0;36m20\u001b[0m \u001b[0;31m#Tamaño del retorno esperado\u001b[0m\u001b[0;34m\u001b[0m\u001b[0;34m\u001b[0m\u001b[0m\n\u001b[1;32m      3\u001b[0m \u001b[0mSigma\u001b[0m\u001b[0;34m=\u001b[0m\u001b[0mcp\u001b[0m\u001b[0;34m.\u001b[0m\u001b[0mrandom\u001b[0m\u001b[0;34m.\u001b[0m\u001b[0mrand\u001b[0m\u001b[0;34m(\u001b[0m\u001b[0mn\u001b[0m\u001b[0;34m,\u001b[0m \u001b[0mn\u001b[0m\u001b[0;34m)\u001b[0m\u001b[0;34m\u001b[0m\u001b[0;34m\u001b[0m\u001b[0m\n\u001b[0;32m----> 4\u001b[0;31m \u001b[0mmu\u001b[0m\u001b[0;34m=\u001b[0m\u001b[0mcp\u001b[0m\u001b[0;34m.\u001b[0m\u001b[0mrandom\u001b[0m\u001b[0;34m.\u001b[0m\u001b[0mrand\u001b[0m\u001b[0;34m(\u001b[0m\u001b[0mn\u001b[0m\u001b[0;34m,\u001b[0m \u001b[0;36m1\u001b[0m\u001b[0;34m)\u001b[0m\u001b[0;34m*\u001b[0m\u001b[0mrt\u001b[0m\u001b[0;34m\u001b[0m\u001b[0;34m\u001b[0m\u001b[0m\n\u001b[0m\u001b[1;32m      5\u001b[0m \u001b[0mA\u001b[0m\u001b[0;34m,\u001b[0m\u001b[0mB\u001b[0m\u001b[0;34m,\u001b[0m\u001b[0mC\u001b[0m \u001b[0;34m=\u001b[0m \u001b[0mformar_abc\u001b[0m\u001b[0;34m(\u001b[0m\u001b[0mmu\u001b[0m\u001b[0;34m,\u001b[0m \u001b[0mSigma\u001b[0m\u001b[0;34m)\u001b[0m\u001b[0;34m\u001b[0m\u001b[0;34m\u001b[0m\u001b[0m\n\u001b[1;32m      6\u001b[0m \u001b[0mprint\u001b[0m\u001b[0;34m(\u001b[0m\u001b[0;34m\"A = \"\u001b[0m\u001b[0;34m,\u001b[0m\u001b[0mA\u001b[0m\u001b[0;34m)\u001b[0m\u001b[0;34m\u001b[0m\u001b[0;34m\u001b[0m\u001b[0m\n",
            "\u001b[0;32mcupy/core/core.pyx\u001b[0m in \u001b[0;36mcupy.core.core.ndarray.__mul__\u001b[0;34m()\u001b[0m\n",
            "\u001b[0;32mcupy/core/_kernel.pyx\u001b[0m in \u001b[0;36mcupy.core._kernel.ufunc.__call__\u001b[0;34m()\u001b[0m\n",
            "\u001b[0;32mcupy/core/_kernel.pyx\u001b[0m in \u001b[0;36mcupy.core._kernel._preprocess_args\u001b[0;34m()\u001b[0m\n",
            "\u001b[0;32mcupy/core/_scalar.pyx\u001b[0m in \u001b[0;36mcupy.core._scalar.convert_scalar\u001b[0;34m()\u001b[0m\n",
            "\u001b[0;32mcupy/core/_scalar.pyx\u001b[0m in \u001b[0;36mcupy.core._scalar._python_scalar_to_numpy_scalar\u001b[0;34m()\u001b[0m\n",
            "\u001b[0;31mOverflowError\u001b[0m: Python int too large to convert to C long"
          ]
        }
      ]
    },
    {
      "cell_type": "code",
      "metadata": {
        "id": "sAmUXaXwgkxj",
        "colab_type": "code",
        "colab": {
          "base_uri": "https://localhost:8080/",
          "height": 68
        },
        "outputId": "384c293a-d774-48f9-d6de-e0116400d023"
      },
      "source": [
        "n= 10**4\n",
        "rt = -10**18 #Tamaño del retorno esperado\n",
        "Sigma=cp.random.rand(n, n)\n",
        "mu=cp.random.rand(n, 1)*rt\n",
        "A,B,C = formar_abc(mu, Sigma)\n",
        "print(\"A = \",A)\n",
        "print(\"B = \",B)\n",
        "print(\"C = \",C)"
      ],
      "execution_count": 43,
      "outputs": [
        {
          "output_type": "stream",
          "text": [
            "A =  [1.63629331e+37]\n",
            "B =  1.9808794790036426\n",
            "C =  -5.317820939355341e+17\n"
          ],
          "name": "stdout"
        }
      ]
    },
    {
      "cell_type": "markdown",
      "metadata": {
        "id": "JNt4y4lsQL6v",
        "colab_type": "text"
      },
      "source": [
        "# Hallazgos\n",
        "\n",
        "1. La función es posible con un máximo de número de activos **n** de $10^4$, lo cuál esta relacionado con el tamaño máximo de $\\Sigma$ de ${10^4x10^4}$\n",
        "2. La función devuelve arrays con los cuales es posible realizar operaciones\n",
        "3. La función admite $\\hat{\\mu}_{i}$ de tamaño igual o menor a $10^{19}$ así como retornos esperados negativos."
      ]
    },
    {
      "cell_type": "markdown",
      "metadata": {
        "id": "XZkcae6ERV4I",
        "colab_type": "text"
      },
      "source": [
        "# Función a revisar : \n",
        "**delta** (Sección 3.c)\n",
        "\n",
        "Una vez obtenidos los valores A,B y C de la sección 3.b,\n",
        "se obtiene el valor $\\Delta$, donde:\n",
        "\n",
        "$$\\Delta = AB - C^2$$\n"
      ]
    },
    {
      "cell_type": "code",
      "metadata": {
        "id": "kX7BTsS80Dty",
        "colab_type": "code",
        "colab": {}
      },
      "source": [
        "def delta(A,B,C):\n",
        "  '''\n",
        "  Calcula las cantidad Delta = AB-C^2 del diagrama de flujo del problema de Markowitz\n",
        "\n",
        "  Args:\n",
        "    A (cupy array, escalar): escalar dado por mu^t \\cdot Sigma^-1 \\cdot mu\n",
        "    B (cupy array, escalar): escalar dado por 1^t \\cdot Sigma^-1 \\cdot 1\n",
        "    C (cupy array, escalar): escalar dado por 1^t \\cdot Sigma^-1 \\cdot mu\n",
        "\n",
        "  Return:\n",
        "    Delta (cupy array, escalar): escalar dado \\mu^t \\cdot \\Sigma^{-1} \\cdot \\mu\n",
        "  '''\n",
        "  Delta = A*B-C**2\n",
        "\n",
        "  return Delta"
      ],
      "execution_count": 0,
      "outputs": []
    },
    {
      "cell_type": "markdown",
      "metadata": {
        "id": "L-bWgj97Tkq8",
        "colab_type": "text"
      },
      "source": [
        "**1. Documentación**\n",
        "- La definición es correcta, breve y concisa\n",
        "- Los argumentos de entrada son definidos correctamente mostrando el tipo de argumento.\n",
        "- El argumento de salida es expresado correctamente mostrando el tipo y definición de este.\n",
        "\n",
        "\n",
        "**2. Cumplimiento de objetivos del código**\n",
        "\n",
        "El código devuelve un escalar el cual es denominado $\\Delta$ cumpliendo con su objetivo.\n",
        "\n",
        "**3. Tests**\n",
        "\n",
        "Anteriormente se observó que el número máximo de activos **n** debe ser de tamaño $10^4$ y $\\mu_{i}$ de tamaño máximo de $10^{18}$, el siguiente test es para comprobar que este siga siendo el número máximo y no un tamaño menor.\n"
      ]
    },
    {
      "cell_type": "code",
      "metadata": {
        "id": "XSZOx-GOY8mO",
        "colab_type": "code",
        "colab": {
          "base_uri": "https://localhost:8080/",
          "height": 34
        },
        "outputId": "40c74dd6-939f-40af-f844-5473de435095"
      },
      "source": [
        "n= 10**4\n",
        "rt = 10**18 #Tamaño del retorno esperado\n",
        "Sigma=cp.random.rand(n, n)\n",
        "mu=cp.random.rand(n, 1)*rt\n",
        "A,B,C = formar_abc(mu, Sigma)\n",
        "d = delta(A,B,C)\n",
        "print(\"Delta: \",d)\n"
      ],
      "execution_count": 45,
      "outputs": [
        {
          "output_type": "stream",
          "text": [
            "Delta:  [1.3425898e+38]\n"
          ],
          "name": "stdout"
        }
      ]
    },
    {
      "cell_type": "code",
      "metadata": {
        "id": "GvjXzDVJlgps",
        "colab_type": "code",
        "colab": {
          "base_uri": "https://localhost:8080/",
          "height": 34
        },
        "outputId": "d5453fbb-c31f-46bf-ec10-19b342f1cf2d"
      },
      "source": [
        "n= 10**4\n",
        "rt = -10**18 #Tamaño del retorno esperado\n",
        "Sigma=cp.random.rand(n, n)\n",
        "mu=cp.random.rand(n, 1)*rt\n",
        "A,B,C = formar_abc(mu, Sigma)\n",
        "d = delta(A,B,C)\n",
        "print(\"Delta: \",d)\n"
      ],
      "execution_count": 46,
      "outputs": [
        {
          "output_type": "stream",
          "text": [
            "Delta:  [-7.6719715e+37]\n"
          ],
          "name": "stdout"
        }
      ]
    },
    {
      "cell_type": "markdown",
      "metadata": {
        "id": "f-OuR2b6vY9J",
        "colab_type": "text"
      },
      "source": [
        "# Hallazgos\n",
        "\n",
        "El código obtiene el valor de $\\Delta$ adecuadamente para un número máximo de retornos de tamaño $10^4$ y para valores de $\\hat{\\mu_{i}}$ de tamaño máximo $10^{18}$, así como para $\\hat{\\mu_{i}}$ con valores negativos.\n"
      ]
    },
    {
      "cell_type": "markdown",
      "metadata": {
        "id": "gWPQnZP5wBkZ",
        "colab_type": "text"
      },
      "source": [
        "# Función a revisar:\n",
        "\n",
        "**formar_omegas** (Sección 3.d)\n",
        "\n",
        "En esta sección se obtendran dos ecalares auxiliares $w_{0}$ y $w_{1}$ denominados multiplicadores de lagrange, para encontrar los pesos que minimicen la varianza del portafolio dado cierto retorno $\\hat{r}$ esperado por el inversionista, de la siguiente manera:\n",
        "\n",
        "$$w_{0} = \\frac{1}{\\Delta}(\\hat{r} \\cdot B - C)$$\n",
        "\n",
        "$$w_{1} = \\frac{1}{\\Delta}(A - C \\cdot \\hat{r} )$$\n",
        "\n",
        "Se hará uso de las funciones anteriores de esta misma sección.\n",
        "\n"
      ]
    },
    {
      "cell_type": "code",
      "metadata": {
        "id": "2iqz7FzQssPh",
        "colab_type": "code",
        "colab": {}
      },
      "source": [
        "def formar_omegas(r, mu, Sigma):\n",
        "  '''\n",
        "  Calcula las cantidades w_o y w_1 del problema de Markowitz\n",
        "\n",
        "  Args:\n",
        "    mu (cupy array, vector): valores medios esperados de activos (dimension n)\n",
        "    Sigma (cupy array, matriz): matriz de covarianzas asociada a activos (dimension n x n)\n",
        "\n",
        "  Return:\n",
        "    w_0 (cupy array, matriz): matriz dada por \n",
        "          w_0 = \\frac{1}{\\Delta} (B \\Sigma^{-1} \\hat{\\mu}- C\\Sigma^{-1} 1) \n",
        "    w_1 (cupy array, vector): vector dado por \n",
        "         w_1 = \\frac{1}{\\Delta} (C \\Sigma^{-1} \\hat{\\mu}- A\\Sigma^{-1} 1)\n",
        "  '''\n",
        "  # Obtenemos u = Sigma^{-1} \\hat{\\mu}, v = \\Sigma^{-1} 1\n",
        "  u, v = formar_vectores(mu, Sigma)\n",
        "  # Escalares relevantes\n",
        "  A, B, C = formar_abc(mu, Sigma)\n",
        "  Delta = delta(A,B,C)\n",
        "  # Formamos w_0 y w_1\n",
        "  w_0 = (1/Delta)*(r*B-C)\n",
        "  w_1 = (1/Delta)*(A-C*r)\n",
        "\n",
        "  return w_0, w_1"
      ],
      "execution_count": 0,
      "outputs": []
    },
    {
      "cell_type": "markdown",
      "metadata": {
        "id": "_8KcZejQhj8-",
        "colab_type": "text"
      },
      "source": [
        "**1. Documentación**\n",
        "- La definición es correcta, breve y concisa\n",
        "- Los argumentos de entrada $\\hat{\\mu}$ y $\\hat{\\Sigma}$ son definidos correctamente mostrando el tipo de argumento. Hace **falta** detallar la entrada del argumento $\\hat{r}$\n",
        "- Los argumentos de salida son definidos correctamente, sin embargo son **escalares** no matrices\n",
        "\n",
        "**Sugerencia:** \n",
        "\n",
        "argm entrada faltante:\n",
        "\n",
        "- r (cupy array, escalar): escalar que denota el retorno esperado por el inversionista\n",
        "\n",
        "argm salida:\n",
        "\n",
        "- w_0 (cupy array, escalar): escalar dada por $w_0 = \\frac{1}{\\Delta} (B \\Sigma^{-1} \\hat{\\mu}- C\\Sigma^{-1} 1) $\n",
        "- w_1 (cupy array, escalar): escalar dado por  $w_1 = \\frac{1}{\\Delta} (C \\Sigma^{-1} \\hat{\\mu}- A\\Sigma^{-1} 1)$\n",
        "\n",
        "\n",
        "**2. Cumplimiento de objetivos del código**\n",
        "\n",
        "El código devuelve dos matrices $w_{0}$ y $w_{1}$ cumpliendo con el objetivo de la función.\n",
        "\n",
        "**3. Tests**\n",
        "\n",
        "**Objetivo 1:**\n",
        "\n",
        "Anteriormente se observó que el número máximo de activos **n** debe ser de tamaño $10^4$ y los valores de $\\hat{\\mu_{i}}$ de tamaño máximo de $10^{18}$, el siguiente test es para comprobar que este siga siendo el número máximo y no un tamaño menor.\n"
      ]
    },
    {
      "cell_type": "code",
      "metadata": {
        "id": "YnknzWHqdv5J",
        "colab_type": "code",
        "colab": {
          "base_uri": "https://localhost:8080/",
          "height": 51
        },
        "outputId": "ef7d7517-eab0-4257-fe76-2d5e7ed2ed38"
      },
      "source": [
        "n= 10**4\n",
        "r= 10 #retorno esperado del inversionista\n",
        "rt = 10**18 #Tamaño de mu_i\n",
        "Sigma=cp.random.rand(n, n)\n",
        "mu=cp.random.rand(n, 1)*rt\n",
        "# multiplicadores de lagrange\n",
        "w0,w1 = formar_omegas(r,mu,Sigma)\n",
        "print(\"w0= \", w0)\n",
        "print(\"w1= \", w1)"
      ],
      "execution_count": 10,
      "outputs": [
        {
          "output_type": "stream",
          "text": [
            "w0=  [-1.53296599e-21]\n",
            "w1=  [0.49726763]\n"
          ],
          "name": "stdout"
        }
      ]
    },
    {
      "cell_type": "markdown",
      "metadata": {
        "id": "uzT-9-yktgfW",
        "colab_type": "text"
      },
      "source": [
        "**Objetivo 2:** Probar el código con tamaños grandes del retorno esperado por el inversionista"
      ]
    },
    {
      "cell_type": "markdown",
      "metadata": {
        "id": "6m6Me8vct_fn",
        "colab_type": "text"
      },
      "source": [
        "1. $\\hat{r} = 10^{18}$"
      ]
    },
    {
      "cell_type": "code",
      "metadata": {
        "id": "i-yDbABVqsS7",
        "colab_type": "code",
        "colab": {
          "base_uri": "https://localhost:8080/",
          "height": 51
        },
        "outputId": "e216ddf4-5abb-4a8b-97ca-22b5835c384c"
      },
      "source": [
        "n= 10**4\n",
        "r= 10**18\n",
        "rt = 10**18 #Tamaño de mu_i\n",
        "Sigma=cp.random.rand(n, n)\n",
        "mu=cp.random.rand(n, 1)*rt\n",
        "# multiplicadores de lagrange\n",
        "w0,w1 = formar_omegas(r,mu,Sigma)\n",
        "print(\"w0= \", w0)\n",
        "print(\"w1= \", w1)"
      ],
      "execution_count": 12,
      "outputs": [
        {
          "output_type": "stream",
          "text": [
            "w0=  [-4.51189297e-21]\n",
            "w1=  [0.50847464]\n"
          ],
          "name": "stdout"
        }
      ]
    },
    {
      "cell_type": "code",
      "metadata": {
        "id": "yOUJjEbSucnh",
        "colab_type": "code",
        "colab": {
          "base_uri": "https://localhost:8080/",
          "height": 51
        },
        "outputId": "a2e17835-7ad4-4f0e-fc60-f97f77774cee"
      },
      "source": [
        "n= 10**4\n",
        "r= 10**19\n",
        "rt = 10**18 #Tamaño de mu_i\n",
        "Sigma=cp.random.rand(n, n)\n",
        "mu=cp.random.rand(n, 1)*rt\n",
        "# multiplicadores de lagrange\n",
        "w0,w1 = formar_omegas(r,mu,Sigma)\n",
        "print(\"w0= \", w0)\n",
        "print(\"w1= \", w1)"
      ],
      "execution_count": 13,
      "outputs": [
        {
          "output_type": "stream",
          "text": [
            "w0=  [-2.52303298e-19]\n",
            "w1=  [0.59587867]\n"
          ],
          "name": "stdout"
        }
      ]
    },
    {
      "cell_type": "code",
      "metadata": {
        "id": "xH_6DSqYy5xf",
        "colab_type": "code",
        "colab": {
          "base_uri": "https://localhost:8080/",
          "height": 521
        },
        "outputId": "72f9c658-ca31-43bb-b37a-9efa718aa1c8"
      },
      "source": [
        "n= 10**4\n",
        "r= 10**20\n",
        "rt = 10**18 #Tamaño de mu_i\n",
        "Sigma=cp.random.rand(n, n)\n",
        "mu=cp.random.rand(n, 1)*rt\n",
        "# multiplicadores de lagrange\n",
        "w0,w1 = formar_omegas(r,mu,Sigma)\n",
        "print(\"w0= \", w0)\n",
        "print(\"w1= \", w1)"
      ],
      "execution_count": 6,
      "outputs": [
        {
          "output_type": "error",
          "ename": "OverflowError",
          "evalue": "ignored",
          "traceback": [
            "\u001b[0;31m---------------------------------------------------------------------------\u001b[0m",
            "\u001b[0;31mOverflowError\u001b[0m                             Traceback (most recent call last)",
            "\u001b[0;32m<ipython-input-6-8dd9f8e57d91>\u001b[0m in \u001b[0;36m<module>\u001b[0;34m()\u001b[0m\n\u001b[1;32m      5\u001b[0m \u001b[0mmu\u001b[0m\u001b[0;34m=\u001b[0m\u001b[0mcp\u001b[0m\u001b[0;34m.\u001b[0m\u001b[0mrandom\u001b[0m\u001b[0;34m.\u001b[0m\u001b[0mrand\u001b[0m\u001b[0;34m(\u001b[0m\u001b[0mn\u001b[0m\u001b[0;34m,\u001b[0m \u001b[0;36m1\u001b[0m\u001b[0;34m)\u001b[0m\u001b[0;34m*\u001b[0m\u001b[0mrt\u001b[0m\u001b[0;34m\u001b[0m\u001b[0;34m\u001b[0m\u001b[0m\n\u001b[1;32m      6\u001b[0m \u001b[0;31m# multiplicadores de lagrange\u001b[0m\u001b[0;34m\u001b[0m\u001b[0;34m\u001b[0m\u001b[0;34m\u001b[0m\u001b[0m\n\u001b[0;32m----> 7\u001b[0;31m \u001b[0mw0\u001b[0m\u001b[0;34m,\u001b[0m\u001b[0mw1\u001b[0m \u001b[0;34m=\u001b[0m \u001b[0mformar_omegas\u001b[0m\u001b[0;34m(\u001b[0m\u001b[0mr\u001b[0m\u001b[0;34m,\u001b[0m\u001b[0mmu\u001b[0m\u001b[0;34m,\u001b[0m\u001b[0mSigma\u001b[0m\u001b[0;34m)\u001b[0m\u001b[0;34m\u001b[0m\u001b[0;34m\u001b[0m\u001b[0m\n\u001b[0m\u001b[1;32m      8\u001b[0m \u001b[0mprint\u001b[0m\u001b[0;34m(\u001b[0m\u001b[0;34m\"w0= \"\u001b[0m\u001b[0;34m,\u001b[0m \u001b[0mw0\u001b[0m\u001b[0;34m)\u001b[0m\u001b[0;34m\u001b[0m\u001b[0;34m\u001b[0m\u001b[0m\n\u001b[1;32m      9\u001b[0m \u001b[0mprint\u001b[0m\u001b[0;34m(\u001b[0m\u001b[0;34m\"w1= \"\u001b[0m\u001b[0;34m,\u001b[0m \u001b[0mw1\u001b[0m\u001b[0;34m)\u001b[0m\u001b[0;34m\u001b[0m\u001b[0;34m\u001b[0m\u001b[0m\n",
            "\u001b[0;32m<ipython-input-5-5c8aba692fbe>\u001b[0m in \u001b[0;36mformar_omegas\u001b[0;34m(r, mu, Sigma)\u001b[0m\n\u001b[1;32m     19\u001b[0m   \u001b[0mDelta\u001b[0m \u001b[0;34m=\u001b[0m \u001b[0mdelta\u001b[0m\u001b[0;34m(\u001b[0m\u001b[0mA\u001b[0m\u001b[0;34m,\u001b[0m\u001b[0mB\u001b[0m\u001b[0;34m,\u001b[0m\u001b[0mC\u001b[0m\u001b[0;34m)\u001b[0m\u001b[0;34m\u001b[0m\u001b[0;34m\u001b[0m\u001b[0m\n\u001b[1;32m     20\u001b[0m   \u001b[0;31m# Formamos w_0 y w_1\u001b[0m\u001b[0;34m\u001b[0m\u001b[0;34m\u001b[0m\u001b[0;34m\u001b[0m\u001b[0m\n\u001b[0;32m---> 21\u001b[0;31m   \u001b[0mw_0\u001b[0m \u001b[0;34m=\u001b[0m \u001b[0;34m(\u001b[0m\u001b[0;36m1\u001b[0m\u001b[0;34m/\u001b[0m\u001b[0mDelta\u001b[0m\u001b[0;34m)\u001b[0m\u001b[0;34m*\u001b[0m\u001b[0;34m(\u001b[0m\u001b[0mr\u001b[0m\u001b[0;34m*\u001b[0m\u001b[0mB\u001b[0m\u001b[0;34m-\u001b[0m\u001b[0mC\u001b[0m\u001b[0;34m)\u001b[0m\u001b[0;34m\u001b[0m\u001b[0;34m\u001b[0m\u001b[0m\n\u001b[0m\u001b[1;32m     22\u001b[0m   \u001b[0mw_1\u001b[0m \u001b[0;34m=\u001b[0m \u001b[0;34m(\u001b[0m\u001b[0;36m1\u001b[0m\u001b[0;34m/\u001b[0m\u001b[0mDelta\u001b[0m\u001b[0;34m)\u001b[0m\u001b[0;34m*\u001b[0m\u001b[0;34m(\u001b[0m\u001b[0mA\u001b[0m\u001b[0;34m-\u001b[0m\u001b[0mC\u001b[0m\u001b[0;34m*\u001b[0m\u001b[0mr\u001b[0m\u001b[0;34m)\u001b[0m\u001b[0;34m\u001b[0m\u001b[0;34m\u001b[0m\u001b[0m\n\u001b[1;32m     23\u001b[0m \u001b[0;34m\u001b[0m\u001b[0m\n",
            "\u001b[0;32mcupy/core/core.pyx\u001b[0m in \u001b[0;36mcupy.core.core.ndarray.__mul__\u001b[0;34m()\u001b[0m\n",
            "\u001b[0;32mcupy/core/_kernel.pyx\u001b[0m in \u001b[0;36mcupy.core._kernel.ufunc.__call__\u001b[0;34m()\u001b[0m\n",
            "\u001b[0;32mcupy/core/_kernel.pyx\u001b[0m in \u001b[0;36mcupy.core._kernel._preprocess_args\u001b[0;34m()\u001b[0m\n",
            "\u001b[0;32mcupy/core/_scalar.pyx\u001b[0m in \u001b[0;36mcupy.core._scalar.convert_scalar\u001b[0;34m()\u001b[0m\n",
            "\u001b[0;32mcupy/core/_scalar.pyx\u001b[0m in \u001b[0;36mcupy.core._scalar._python_scalar_to_numpy_scalar\u001b[0;34m()\u001b[0m\n",
            "\u001b[0;31mOverflowError\u001b[0m: Python int too large to convert to C long"
          ]
        }
      ]
    },
    {
      "cell_type": "markdown",
      "metadata": {
        "id": "fBNQWBsvzsmK",
        "colab_type": "text"
      },
      "source": [
        "# Hallazgos\n",
        "\n",
        "A continuación se detallan los valores posibles para el vector de retornos esperados $\\hat{\\mu}$, la matriz de covarianzas $\\hat{\\Sigma}$, el valor del retorno esperado del portafolio por el inversionista $\\hat{r}$  y el número de activos n:\n",
        "\n",
        "- $\\hat{\\mu}_{i}$, donde $i = 1,...,n$ valores positivos y negativos cuyo  tamaño debe ser menor o igual a $10^{18}$ \n",
        "\n",
        "- $\\hat{\\Sigma}$ de tamaño máximo: $\\hat{\\Sigma}_{10^4X10^4}$\n",
        "\n",
        "- n de tamaño máximo $10^4$, esto se deriva del tamaño máximo de $\\hat{\\Sigma}$ \n",
        "\n",
        "\n",
        "- $\\hat{r}$  tamaño máximo $10^{19}$\n",
        "\n",
        "\n",
        "**Nota**: Los tests fueron realizados en google colaboratory con GPU como entorno de ejecución, en una computadora con las siguientes características:\n",
        "\n",
        "- MacBook Pro (13-inch, 2019, Four Thunderbolt 3 ports)\n",
        "- Procesador: 2.4 GHz Intel Core i5 de cuatro núcleos\n",
        "- Memoria: 8 GB 2133 MHz LPDDR3"
      ]
    }
  ]
}