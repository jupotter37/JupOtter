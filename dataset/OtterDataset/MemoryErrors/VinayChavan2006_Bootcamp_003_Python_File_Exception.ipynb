{
  "cells": [
    {
      "cell_type": "markdown",
      "metadata": {
        "id": "lp-WUFh0nYWS"
      },
      "source": [
        "# Python Errors and Built-in Exceptions\n",
        "\n",
        "In this class, you will learn about different types of errors and exceptions that are built-in to Python. They are raised whenever the Python interpreter encounters errors.\n",
        "\n",
        "We can make certain mistakes while writing a program that lead to errors when we try to run it. A python program terminates as soon as it encounters an unhandled error. These errors can be broadly classified into two classes:\n",
        "\n",
        "1. Syntax errors\n",
        "2. Logical errors (Exceptions)"
      ]
    },
    {
      "cell_type": "markdown",
      "metadata": {
        "id": "K-EYp9ZenYWV"
      },
      "source": [
        "## 1. Python Syntax Errors\n",
        "\n",
        "Error caused by not following the proper structure (syntax) of the language is called **syntax error** or **parsing error**."
      ]
    },
    {
      "cell_type": "code",
      "execution_count": null,
      "metadata": {
        "ExecuteTime": {
          "end_time": "2021-06-18T15:39:26.584572Z",
          "start_time": "2021-06-18T15:39:26.566021Z"
        },
        "scrolled": false,
        "id": "-VXbKiScnYWV"
      },
      "outputs": [],
      "source": [
        "# Example 1:\n",
        "\n",
        "if a < 3"
      ]
    },
    {
      "cell_type": "markdown",
      "metadata": {
        "id": "UqiYd3yRnYWW"
      },
      "source": [
        "**Exaplanation:**\n",
        "\n",
        "As shown in the example, an arrow indicates where the parser ran into the syntax error.\n",
        "\n",
        "We can notice here that a colon **`:`** is missing in the **`if`** statement."
      ]
    },
    {
      "cell_type": "code",
      "execution_count": null,
      "metadata": {
        "scrolled": true,
        "id": "9xxWtoHVnYWX"
      },
      "outputs": [],
      "source": [
        "# Example 2:\n",
        "\n",
        "print 'hello world'"
      ]
    },
    {
      "cell_type": "markdown",
      "metadata": {
        "id": "HoBumHn0nYWX"
      },
      "source": [
        "**Exaplanation:**\n",
        "\n",
        "As you can see we made a syntax error because we forgot to enclose the string with parenthesis **`()`** and Python already suggests the solution. Let us fix it."
      ]
    },
    {
      "cell_type": "markdown",
      "metadata": {
        "id": "KHZhkZWenYWX"
      },
      "source": [
        "## 2. Python Logical Errors (Exceptions)\n",
        "\n",
        "Errors that occur at runtime (after passing the syntax test) are called **exceptions** or **logical errors**.\n",
        "\n",
        "For instance, they occur when we try to open a file(for reading) that does not exist (**`FileNotFoundError`**), try to divide a number by zero (**`ZeroDivisionError`**), or try to import a module that does not exist (**`ImportError`**).\n",
        "\n",
        "Whenever these types of runtime errors occur, Python creates an exception object. If not handled properly, it prints a traceback to that error along with some details about why that error occurred.\n",
        "\n",
        "Let's look at how Python treats these errors:"
      ]
    },
    {
      "cell_type": "code",
      "execution_count": null,
      "metadata": {
        "ExecuteTime": {
          "end_time": "2021-06-18T15:39:28.907309Z",
          "start_time": "2021-06-18T15:39:28.612394Z"
        },
        "id": "Ck_VC50dnYWX"
      },
      "outputs": [],
      "source": [
        "# Example 1: ZeroDivisionError\n",
        "\n",
        "1 / 0"
      ]
    },
    {
      "cell_type": "code",
      "execution_count": null,
      "metadata": {
        "ExecuteTime": {
          "end_time": "2021-06-18T15:39:32.662651Z",
          "start_time": "2021-06-18T15:39:32.644100Z"
        },
        "scrolled": true,
        "id": "hP0G8BQUnYWY"
      },
      "outputs": [],
      "source": [
        "# Example 2: FileNotFoundError\n",
        "\n",
        "open(\"imaginary.txt\")"
      ]
    },
    {
      "cell_type": "code",
      "execution_count": null,
      "metadata": {
        "ExecuteTime": {
          "end_time": "2021-06-18T15:39:32.662651Z",
          "start_time": "2021-06-18T15:39:32.644100Z"
        },
        "scrolled": false,
        "id": "lXHYYCdbnYWY"
      },
      "outputs": [],
      "source": [
        "# Example 3: ImportError\n",
        "\n",
        "from math import power"
      ]
    },
    {
      "cell_type": "markdown",
      "metadata": {
        "id": "_OfPOzEKnYWY"
      },
      "source": [
        "**Exaplanation:**\n",
        "\n",
        "There is no function called **`power`** in the **`math`** module, it goes with a different name: **`pow`**."
      ]
    },
    {
      "cell_type": "markdown",
      "metadata": {
        "id": "NVEOxTZJnYWZ"
      },
      "source": [
        "## 3. Python NameError\n",
        "\n",
        "We debugged the error by defining the variable name."
      ]
    },
    {
      "cell_type": "code",
      "execution_count": null,
      "metadata": {
        "ExecuteTime": {
          "end_time": "2021-06-18T15:39:28.907309Z",
          "start_time": "2021-06-18T15:39:28.612394Z"
        },
        "scrolled": true,
        "id": "4H6h5vSMnYWZ"
      },
      "outputs": [],
      "source": [
        "# Example 1:\n",
        "\n",
        "print(age)"
      ]
    },
    {
      "cell_type": "markdown",
      "metadata": {
        "id": "kTqX8OW9nYWZ"
      },
      "source": [
        "**Exaplanation:**\n",
        "\n",
        "As you can see from the message above, name **`age`** is not defined. Yes, it is true that we did not define an **`age`** variable but we were trying to print it out as if we had had declared it. Now, lets fix this by declaring it and assigning with a value."
      ]
    },
    {
      "cell_type": "markdown",
      "metadata": {
        "id": "SP1-sxKlnYWZ"
      },
      "source": [
        "## 4. Python IndexError\n",
        "\n",
        "We debugged the error by defining the variable name."
      ]
    },
    {
      "cell_type": "code",
      "execution_count": null,
      "metadata": {
        "ExecuteTime": {
          "end_time": "2021-06-18T15:39:28.907309Z",
          "start_time": "2021-06-18T15:39:28.612394Z"
        },
        "scrolled": false,
        "id": "ZmXO1w-MnYWZ"
      },
      "outputs": [],
      "source": [
        "# Example 1:\n",
        "\n",
        "numbers = [1, 2, 3, 4, 5]\n",
        "numbers[5]"
      ]
    },
    {
      "cell_type": "markdown",
      "metadata": {
        "id": "PKyzzeKtnYWZ"
      },
      "source": [
        "**Exaplanation:**\n",
        "\n",
        "In the example above, Python raised an **`IndexError`**, because the list has only indexes from 0 to 4 , so it was out of range."
      ]
    },
    {
      "cell_type": "markdown",
      "metadata": {
        "id": "HZaZPNc1nYWa"
      },
      "source": [
        "## 5. Python ModuleNotFoundError"
      ]
    },
    {
      "cell_type": "code",
      "execution_count": null,
      "metadata": {
        "ExecuteTime": {
          "end_time": "2021-06-18T15:39:28.907309Z",
          "start_time": "2021-06-18T15:39:28.612394Z"
        },
        "scrolled": true,
        "id": "fyiGUuGmnYWa"
      },
      "outputs": [],
      "source": [
        "# Example 1:\n",
        "\n",
        "import maths"
      ]
    },
    {
      "cell_type": "markdown",
      "metadata": {
        "id": "SGERd0l-nYWa"
      },
      "source": [
        "**Exaplanation:**\n",
        "\n",
        "In the example above, I added an extra **`s`** to math deliberately and **`ModuleNotFoundError`** was raised. Lets fix it by removing the extra **`s`** from math."
      ]
    },
    {
      "cell_type": "markdown",
      "metadata": {
        "id": "NzWxnP-WnYWa"
      },
      "source": [
        "## 6. Python AttributeError"
      ]
    },
    {
      "cell_type": "code",
      "execution_count": null,
      "metadata": {
        "ExecuteTime": {
          "end_time": "2021-06-18T15:39:28.907309Z",
          "start_time": "2021-06-18T15:39:28.612394Z"
        },
        "scrolled": true,
        "id": "2IuCe32ynYWa"
      },
      "outputs": [],
      "source": [
        "# Example 1:\n",
        "\n",
        "import math\n",
        "math.PI"
      ]
    },
    {
      "cell_type": "markdown",
      "metadata": {
        "id": "KtSBOE1TnYWa"
      },
      "source": [
        "**Exaplanation:**\n",
        "\n",
        "As you can see, I made a mistake again! Instead of **`pi`**, I tried to call a **`PI`** function from **`math`** module. It raised an **`AttributeError`**, it means, that the function does not exist in the module. Lets fix it by changing from **`PI`** to **`pi`**."
      ]
    },
    {
      "cell_type": "markdown",
      "metadata": {
        "id": "kZapSkcmnYWa"
      },
      "source": [
        "## 7. Python KeyError"
      ]
    },
    {
      "cell_type": "code",
      "execution_count": null,
      "metadata": {
        "ExecuteTime": {
          "end_time": "2021-06-18T15:39:28.907309Z",
          "start_time": "2021-06-18T15:39:28.612394Z"
        },
        "scrolled": true,
        "id": "jjknyh4hnYWa"
      },
      "outputs": [],
      "source": [
        "# Example 1:\n",
        "\n",
        "users = {'name':'Milaan', 'age':96, 'country':'England'}\n",
        "users['name']"
      ]
    },
    {
      "cell_type": "code",
      "execution_count": null,
      "metadata": {
        "id": "EMEhBWaTnYWb"
      },
      "outputs": [],
      "source": [
        "users['county']"
      ]
    },
    {
      "cell_type": "markdown",
      "metadata": {
        "id": "ihDfXNWVnYWb"
      },
      "source": [
        "**Exaplanation:**\n",
        "\n",
        "As you can see, there was a typo in the key used to get the dictionary value. so, this is a **`KeyError`** and the fix is quite straight forward. Let's do this!"
      ]
    },
    {
      "cell_type": "markdown",
      "metadata": {
        "id": "dVdMqA3MnYWb"
      },
      "source": [
        "## 8. Python TypeError"
      ]
    },
    {
      "cell_type": "code",
      "execution_count": null,
      "metadata": {
        "ExecuteTime": {
          "end_time": "2021-06-18T15:39:28.907309Z",
          "start_time": "2021-06-18T15:39:28.612394Z"
        },
        "scrolled": true,
        "id": "LmhEUIoTnYWb"
      },
      "outputs": [],
      "source": [
        "# Example 1:\n",
        "\n",
        "6 + '3'"
      ]
    },
    {
      "cell_type": "markdown",
      "metadata": {
        "id": "Be3BcTFPnYWb"
      },
      "source": [
        "**Exaplanation:**\n",
        "\n",
        "In the example above, a **`TypeError`** is raised because we cannot add a number to a string. First solution would be to convert the string to **int** or **float**. Another solution would be converting the number to a string (the result then would be '63'). Let us follow the first fix."
      ]
    },
    {
      "cell_type": "markdown",
      "metadata": {
        "id": "seQYb3KWnYWb"
      },
      "source": [
        "## 9. Python ValueError"
      ]
    },
    {
      "cell_type": "code",
      "execution_count": null,
      "metadata": {
        "id": "9Gvdqb37nYWb"
      },
      "outputs": [],
      "source": [
        "%% simulation\n",
        "\n",
        "0 **w** -> turnLeft(90) 0\n",
        "0 ***** -> forward(1) 0"
      ]
    },
    {
      "cell_type": "code",
      "execution_count": null,
      "metadata": {
        "ExecuteTime": {
          "end_time": "2021-06-18T15:39:28.907309Z",
          "start_time": "2021-06-18T15:39:28.612394Z"
        },
        "scrolled": true,
        "id": "1WFPJurXnYWb"
      },
      "outputs": [],
      "source": [
        "# Example 1:\n",
        "\n",
        "int('19a')"
      ]
    },
    {
      "cell_type": "markdown",
      "metadata": {
        "id": "nlc2LNb9nYWc"
      },
      "source": [
        "**Exaplanation:**\n",
        "\n",
        "In this case we cannot change the given string to a number, because of the **`a`** letter in it."
      ]
    },
    {
      "cell_type": "markdown",
      "metadata": {
        "id": "bCLu9DUynYWc"
      },
      "source": [
        "## Python Built-in Exceptions\n",
        "\n",
        "Illegal operations can raise exceptions. There are plenty of built-in exceptions in Python that are raised when corresponding errors occur. We can view all the built-in exceptions using the built-in **`local()`** function as follows:\n",
        "\n",
        "```python\n",
        "print(dir(locals()['__builtins__']))\n",
        "```\n",
        "\n",
        "**`locals()['__builtins__']`** will return a module of built-in exceptions, functions, and attributes. **`dir`** allows us to list these attributes as strings.\n",
        "\n",
        "Some of the common built-in exceptions in Python programming along with the error that cause them are listed below:\n",
        "\n",
        "| Exception | Cause of Error |\n",
        "|:----| :--- |\n",
        "| **`AssertionError`** |   Raised when an **`assert`** statement fails.   |\n",
        "| **`AttributeError`** |   Raised when attribute assignment or reference fails.   |\n",
        "| **`EOFError`** |   Raised when the **`input()`** function hits end-of-file condition.   |\n",
        "| **`FloatingPointError`** |   Raised when a floating point operation fails.   |\n",
        "| **`GeneratorExit`** |   Raise when a generator's **`close()`** method is called.   |\n",
        "| **`ImportError`** |   Raised when the imported module is not found.   |\n",
        "| **`IndexError`** |   Raised when the index of a sequence is out of range.   |\n",
        "| **`KeyError`** |   Raised when a key is not found in a dictionary.   |\n",
        "| **`KeyboardInterrupt`** |   Raised when the user hits the interrupt key (**`Ctrl+C`** or **`Delete`**).   |\n",
        "| **`MemoryError`** |   Raised when an operation runs out of memory.   |\n",
        "| **`NameError`** |   Raised when a variable is not found in local or global scope.   |\n",
        "| **`NotImplementedError`** |   Raised by abstract methods.   |\n",
        "| **`OSError`** |   Raised when system operation causes system related error.   |\n",
        "| **`OverflowError`** |   Raised when the result of an arithmetic operation is too large to be represented.   |\n",
        "| **`ReferenceError`** |   Raised when a weak reference proxy is used to access a garbage collected referent.   |\n",
        "| **`RuntimeError`** |   Raised when an error does not fall under any other category.   |\n",
        "| **`StopIteration`** |   Raised by **`next()`** function to indicate that there is no further item to be returned by iterator.   |\n",
        "| **`SyntaxError`** |   Raised by parser when syntax error is encountered.   |\n",
        "| **`IndentationError`** |   Raised when there is incorrect indentation.   |\n",
        "| **`TabError`** |   Raised when indentation consists of inconsistent tabs and spaces.   |\n",
        "| **`SystemError`** |   Raised when interpreter detects internal error.   |\n",
        "| **`SystemExit`** |   Raised by **`sys.exit()`** function.   |\n",
        "| **`TypeError`** |   Raised when a function or operation is applied to an object of incorrect type.   |\n",
        "| **`UnboundLocalError`** |   Raised when a reference is made to a local variable in a function or method, but no value has been bound to that variable.   |\n",
        "| **`UnicodeError`** |   Raised when a Unicode-related encoding or decoding error occurs.   |\n",
        "| **`UnicodeEncodeError`** |   Raised when a Unicode-related error occurs during encoding.   |\n",
        "| **`UnicodeDecodeError`** |   Raised when a Unicode-related error occurs during decoding.   |\n",
        "| **`UnicodeTranslateError`** |   Raised when a Unicode-related error occurs during translating.   |\n",
        "| **`ValueError`** |   Raised when a function gets an argument of correct type but improper value.   |\n",
        "| **`ZeroDivisionError`** |   Raised when the second operand of division or modulo operation is zero.   |"
      ]
    }
  ],
  "metadata": {
    "hide_input": false,
    "kernelspec": {
      "display_name": "Python 3",
      "language": "python",
      "name": "python3"
    },
    "language_info": {
      "codemirror_mode": {
        "name": "ipython",
        "version": 3
      },
      "file_extension": ".py",
      "mimetype": "text/x-python",
      "name": "python",
      "nbconvert_exporter": "python",
      "pygments_lexer": "ipython3",
      "version": "3.10.10"
    },
    "toc": {
      "base_numbering": 1,
      "nav_menu": {},
      "number_sections": true,
      "sideBar": true,
      "skip_h1_title": false,
      "title_cell": "Table of Contents",
      "title_sidebar": "Contents",
      "toc_cell": false,
      "toc_position": {},
      "toc_section_display": true,
      "toc_window_display": false
    },
    "varInspector": {
      "cols": {
        "lenName": 16,
        "lenType": 16,
        "lenVar": 40
      },
      "kernels_config": {
        "python": {
          "delete_cmd_postfix": "",
          "delete_cmd_prefix": "del ",
          "library": "var_list.py",
          "varRefreshCmd": "print(var_dic_list())"
        },
        "r": {
          "delete_cmd_postfix": ") ",
          "delete_cmd_prefix": "rm(",
          "library": "var_list.r",
          "varRefreshCmd": "cat(var_dic_list()) "
        }
      },
      "types_to_exclude": [
        "module",
        "function",
        "builtin_function_or_method",
        "instance",
        "_Feature"
      ],
      "window_display": false
    },
    "colab": {
      "provenance": []
    }
  },
  "nbformat": 4,
  "nbformat_minor": 0
}