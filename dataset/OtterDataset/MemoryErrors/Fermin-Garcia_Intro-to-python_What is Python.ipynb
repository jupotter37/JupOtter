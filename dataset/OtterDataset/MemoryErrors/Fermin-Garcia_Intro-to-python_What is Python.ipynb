{
 "cells": [
  {
   "cell_type": "markdown",
   "id": "5b3d9185-813f-4a87-8739-fb57d51d8de9",
   "metadata": {},
   "source": [
    "# Introduction:\n",
    "\n",
    "Python is an interpreted, object-oriented language with dynamic semantics.\n",
    "\n",
    "Now, what does any of that even mean? Lets break it down a bit more.\n",
    "\n",
    "what is an **object-oriented language** ?\n",
    "* What this means is that the programming paradigm bundles up data and fucntions into objects aiding in the modeling of real world scenerios. This make the code more  organized and reusable.\n",
    "\n",
    "**Dynamic Sentantics** in short change the behavior of your program while it's running, and its behavior can depend on its history or context.\n"
   ]
  },
  {
   "cell_type": "code",
   "execution_count": null,
   "id": "9563ca25-b9ee-4777-99b6-cb90671ab8ab",
   "metadata": {},
   "outputs": [],
   "source": []
  },
  {
   "cell_type": "markdown",
   "id": "34b8b29e-d0b8-4d37-9f7f-141e1416b192",
   "metadata": {},
   "source": [
    "# What is Python used for?\n",
    "\n",
    "While Python has many uses from web deployment, to AI appications. As data science stems from the ai aspect, we are going to be forcus on using Python for data analytics and data science methodologies.  "
   ]
  },
  {
   "cell_type": "code",
   "execution_count": null,
   "id": "78050a86-9c46-46a0-b8f6-fd4f19c952b9",
   "metadata": {},
   "outputs": [],
   "source": []
  },
  {
   "cell_type": "markdown",
   "id": "6cb51224-29d5-4e71-920f-7c97e44a2731",
   "metadata": {},
   "source": [
    "# Python, how do?? \n",
    "\n",
    "We are going to go over some basic steps on how to write python code. "
   ]
  },
  {
   "cell_type": "markdown",
   "id": "9b20673d-cc90-406d-a602-af214aeb7cb5",
   "metadata": {},
   "source": [
    "# PEP 8 or \"Python Rules\":\n",
    "While there is freedom when writing code, you can write your code however your heart desires. While that is the case there are sone standard practices when writing python code, sometimes refered to as PEP8. As we go along I will point out the rules for more information check out the `sources.txt`"
   ]
  },
  {
   "cell_type": "markdown",
   "id": "45270778-6d3a-4f74-8d57-93997e884065",
   "metadata": {},
   "source": [
    "# Comments:\n",
    "\n",
    "Comment are used to let the readers know what the code does. This helps you too so when you go back to a function you can remember what it was your doing... This happens more times than you would like to admit. \n",
    "\n",
    "* Comments are annotated with a `#`\n",
    "\n",
    "\n",
    "**PEP-08 ALERT** :\n",
    "* Always make priority of the keeping the comments up-to-date when the code changes. \n",
    "* Comments should be compelete sentences. The first letter capalized , unless it is and indentifier that begins woth a lowercase letter."
   ]
  },
  {
   "cell_type": "code",
   "execution_count": 1,
   "id": "7ca3ed8c-e6df-420b-98c2-fc8570fd1003",
   "metadata": {
    "tags": []
   },
   "outputs": [
    {
     "ename": "SyntaxError",
     "evalue": "invalid syntax (574118176.py, line 1)",
     "output_type": "error",
     "traceback": [
      "\u001b[0;36m  Cell \u001b[0;32mIn[1], line 1\u001b[0;36m\u001b[0m\n\u001b[0;31m    This is not a comment\u001b[0m\n\u001b[0m                  ^\u001b[0m\n\u001b[0;31mSyntaxError\u001b[0m\u001b[0;31m:\u001b[0m invalid syntax\n"
     ]
    }
   ],
   "source": [
    "This is not a comment\n",
    "\n",
    "#This is a comment. "
   ]
  },
  {
   "cell_type": "markdown",
   "id": "b4658873-96a5-4cfb-b1fd-64b499ac25c2",
   "metadata": {},
   "source": [
    "# Errors:\n",
    "\n",
    "You **WILL** get errors, **Do NOT let them discourage you!!!** Failure is part of the process when you hit an error, you will see a red box telling you what the error is and what is wrong. In the example above this is a syntax error, meaning the script is not formated to be interpted by python. In other, unprofessional terms. [Python doesnt know what the f*uck, you are saying. ](https://www.cnn.com/2021/01/26/health/swearing-benefits-wellness/index.html)\n",
    "\n",
    "Python has many different types of errors and often times, it is resourcful to read the error as it contains all the information needed to correct the error.\n",
    "\n",
    "For your refrence, here are some other types of errors and their meanings:\n",
    "\n",
    "| Exception Name           | Description                                                                                     |\n",
    "|--------------------------|-------------------------------------------------------------------------------------------------|\n",
    "| AssertionError           | Raised when the assert statement fails.                                                         |\n",
    "| AttributeError           | Raised on the attribute assignment or reference fails.                                          |\n",
    "| EOFError                 | Raised when the input() function hits the end-of-file condition.                                |\n",
    "| FloatingPointError       | Raised when a floating point operation fails.                                                   |\n",
    "| GeneratorExit            | Raised when a generator's close() method is called.                                             |\n",
    "| ImportError              | Raised when the imported module is not found.                                                   |\n",
    "| IndexError               | Raised when the index of a sequence is out of range.                                            |\n",
    "| KeyError                 | Raised when a key is not found in a dictionary.                                                 |\n",
    "| KeyboardInterrupt       | Raised when the user hits the interrupt key (Ctrl+c or delete).                                 |\n",
    "| MemoryError              | Raised when an operation runs out of memory.                                                    |\n",
    "| NameError                | Raised when a variable is not found in the local or global scope.                               |\n",
    "| NotImplementedError      | Raised by abstract methods.                                                                     |\n",
    "| OSError                  | Raised when a system operation causes a system-related error.                                   |\n",
    "| OverflowError            | Raised when the result of an arithmetic operation is too large to be represented.               |\n",
    "| ReferenceError           | Raised when a weak reference proxy is used to access a garbage collected referent.              |\n",
    "| RuntimeError             | Raised when an error does not fall under any other category.                                    |\n",
    "| StopIteration            | Raised by the next() function to indicate that there is no further item to be returned by the iterator. |\n",
    "| SyntaxError              | Raised by the parser when a syntax error is encountered.                                        |\n",
    "| IndentationError         | Raised when there is an incorrect indentation.                                                  |\n",
    "| TabError                 | Raised when the indentation consists of inconsistent tabs and spaces.                           |\n",
    "| SystemError              | Raised when the interpreter detects internal error.                                             |\n",
    "| SystemExit               | Raised by the sys.exit() function.                                                              |\n",
    "| TypeError                | Raised when a function or operation is applied to an object of an incorrect type.               |\n",
    "| UnboundLocalError        | Raised when a reference is made to a local variable in a function or method, but no value has been bound to that variable. |\n",
    "| UnicodeError             | Raised when a Unicode-related encoding or decoding error occurs.                                |\n",
    "| UnicodeEncodeError       | Raised when a Unicode-related error occurs during encoding.                                     |\n",
    "| UnicodeDecodeError       | Raised when a Unicode-related error occurs during decoding.                                     |\n",
    "| UnicodeTranslateError    | Raised when a Unicode-related error occurs during translation.                                  |\n",
    "| ValueError               | Raised when a function gets an argument of correct type but improper value.                     |\n",
    "| ZeroDivisionError        | Raised when the second operand of a division or module operation is zero.                       |\n"
   ]
  },
  {
   "cell_type": "code",
   "execution_count": 1,
   "id": "5879d53e-260e-4c98-b7f0-04255824fbb6",
   "metadata": {
    "tags": []
   },
   "outputs": [
    {
     "ename": "SyntaxError",
     "evalue": "invalid syntax (574118176.py, line 1)",
     "output_type": "error",
     "traceback": [
      "\u001b[0;36m  Cell \u001b[0;32mIn[1], line 1\u001b[0;36m\u001b[0m\n\u001b[0;31m    This is not a comment\u001b[0m\n\u001b[0m                  ^\u001b[0m\n\u001b[0;31mSyntaxError\u001b[0m\u001b[0;31m:\u001b[0m invalid syntax\n"
     ]
    }
   ],
   "source": [
    "# Your turn make fix this error by commenting the next line of code.\n",
    "\n",
    "This is not a comment\n",
    "\n",
    "# This is a comment. "
   ]
  },
  {
   "cell_type": "markdown",
   "id": "5d72654d-9118-4e84-a07a-591901b2192b",
   "metadata": {},
   "source": [
    "# Print Statments:\n",
    "A `print()` statement is a command used to display information to the user.... or realisticly used to troubleshoot your code *wink* *wink*\n",
    "\n",
    "Example of a print statement. \\\n",
    "`print(\"Hello, World\")`\n",
    "\n",
    "In the line below we will be write a print statement. We will print the string phrase hello, world.\n",
    "\n",
    "## **Defining a string**:\n",
    "In Python strings can be defined by either `\" YOUR STRING HERE!\"`  or `' YOUR STRING HERE'`.  Note the difference lies in the quptation marks. Strings can be represented by either single or double quotes. "
   ]
  },
  {
   "cell_type": "code",
   "execution_count": 2,
   "id": "29a8617f-998d-4e36-8922-ed48ec5da414",
   "metadata": {
    "tags": []
   },
   "outputs": [],
   "source": [
    "# Now write a line of code that will print the phrase 'Hello, World'. \n",
    "\n"
   ]
  },
  {
   "cell_type": "markdown",
   "id": "05fcb097-6e1b-4ed5-be00-f319838573e8",
   "metadata": {},
   "source": [
    "# Conclusion:\n",
    "\n",
    "In this notebook we discussed:\n",
    "\n",
    "* What is Python\n",
    "\n",
    "* Python applications and what we will focus on in this series. \n",
    "\n",
    "* Python standard practices and resources where to find them.\n",
    "\n",
    "* Discussed comments and listed example uses. \n",
    "\n",
    "* Reviewed and listed errors you may encounter.\n",
    "\n",
    "* Hello, World code challenge.\n",
    "**Solution:** `print(\"Hello, World\")`"
   ]
  },
  {
   "cell_type": "code",
   "execution_count": null,
   "id": "07feee16-f03c-4a27-84dc-4445a7cfd801",
   "metadata": {},
   "outputs": [],
   "source": []
  }
 ],
 "metadata": {
  "kernelspec": {
   "display_name": "Python 3 (ipykernel)",
   "language": "python",
   "name": "python3"
  },
  "language_info": {
   "codemirror_mode": {
    "name": "ipython",
    "version": 3
   },
   "file_extension": ".py",
   "mimetype": "text/x-python",
   "name": "python",
   "nbconvert_exporter": "python",
   "pygments_lexer": "ipython3",
   "version": "3.11.3"
  }
 },
 "nbformat": 4,
 "nbformat_minor": 5
}
