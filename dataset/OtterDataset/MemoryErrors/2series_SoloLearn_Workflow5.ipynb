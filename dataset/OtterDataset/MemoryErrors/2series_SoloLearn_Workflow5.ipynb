{
 "cells": [
  {
   "cell_type": "code",
   "execution_count": 1,
   "metadata": {},
   "outputs": [],
   "source": [
    "# None\n",
    "\n",
    "# The None object is used to represent the absence of a value. \n",
    "# It is similar to null in other programming languages. \n",
    "# Like other \"empty\" values, such as 0, [] and the empty string, it is False when converted to a Boolean variable. \n",
    "# When entered at the Python console, it is displayed as the empty string."
   ]
  },
  {
   "cell_type": "code",
   "execution_count": 2,
   "metadata": {},
   "outputs": [
    {
     "name": "stdout",
     "output_type": "stream",
     "text": [
      "Hi\n",
      "None\n"
     ]
    }
   ],
   "source": [
    "# None\n",
    "\n",
    "# The None object is returned by any function that doesn't explicitly return anything else.\n",
    "def some_func():\n",
    "    print('Hi')\n",
    "\n",
    "var = some_func()\n",
    "print(var)"
   ]
  },
  {
   "cell_type": "code",
   "execution_count": 3,
   "metadata": {},
   "outputs": [
    {
     "name": "stdout",
     "output_type": "stream",
     "text": [
      "\n",
      "1\n"
     ]
    }
   ],
   "source": [
    "foo = print()\n",
    "if foo == None:\n",
    "    print(1)\n",
    "else:\n",
    "    print(2)"
   ]
  },
  {
   "cell_type": "code",
   "execution_count": 4,
   "metadata": {},
   "outputs": [
    {
     "name": "stdout",
     "output_type": "stream",
     "text": [
      "24\n",
      "42\n"
     ]
    }
   ],
   "source": [
    "# Dictionaries\n",
    "\n",
    "# Dictionaries are data structures used to map arbitrary keys to values. \n",
    "# Lists can be thought of as dictionaries with integer keys within a certain range.\n",
    "# Dictionaries can be indexed in the same way as lists, using square brackets containing keys.\n",
    "# Example:\n",
    "\n",
    "ages = {\"Dave\": 24, \"Mary\": 42, \"John\": 58}\n",
    "print(ages[\"Dave\"])\n",
    "print(ages[\"Mary\"])"
   ]
  },
  {
   "cell_type": "code",
   "execution_count": 5,
   "metadata": {},
   "outputs": [],
   "source": [
    "# Each element in a dictionary is represented by a key:value pair."
   ]
  },
  {
   "cell_type": "code",
   "execution_count": 6,
   "metadata": {},
   "outputs": [
    {
     "name": "stdout",
     "output_type": "stream",
     "text": [
      "[255, 0, 0]\n"
     ]
    },
    {
     "ename": "KeyError",
     "evalue": "'yellow'",
     "output_type": "error",
     "traceback": [
      "\u001b[0;31m---------------------------------------------------------------------------\u001b[0m",
      "\u001b[0;31mKeyError\u001b[0m                                  Traceback (most recent call last)",
      "\u001b[0;32m<ipython-input-6-b778c51d5333>\u001b[0m in \u001b[0;36m<module>\u001b[0;34m()\u001b[0m\n\u001b[1;32m     11\u001b[0m \u001b[0;34m\u001b[0m\u001b[0m\n\u001b[1;32m     12\u001b[0m \u001b[0mprint\u001b[0m\u001b[0;34m(\u001b[0m\u001b[0mprimary\u001b[0m\u001b[0;34m[\u001b[0m\u001b[0;34m\"red\"\u001b[0m\u001b[0;34m]\u001b[0m\u001b[0;34m)\u001b[0m\u001b[0;34m\u001b[0m\u001b[0m\n\u001b[0;32m---> 13\u001b[0;31m \u001b[0mprint\u001b[0m\u001b[0;34m(\u001b[0m\u001b[0mprimary\u001b[0m\u001b[0;34m[\u001b[0m\u001b[0;34m\"yellow\"\u001b[0m\u001b[0;34m]\u001b[0m\u001b[0;34m)\u001b[0m\u001b[0;34m\u001b[0m\u001b[0m\n\u001b[0m",
      "\u001b[0;31mKeyError\u001b[0m: 'yellow'"
     ]
    }
   ],
   "source": [
    "# Dictionaries\n",
    "\n",
    "# Trying to index a key that isn't part of the dictionary returns a KeyError.\n",
    "# Example:\n",
    "    \n",
    "primary = {\n",
    "  \"red\": [255, 0, 0], \n",
    "  \"green\": [0, 255, 0], \n",
    "  \"blue\": [0, 0, 255], \n",
    "}\n",
    "\n",
    "print(primary[\"red\"])\n",
    "print(primary[\"yellow\"])"
   ]
  },
  {
   "cell_type": "code",
   "execution_count": null,
   "metadata": {},
   "outputs": [],
   "source": [
    "test = {}\n",
    "print(test[0])"
   ]
  },
  {
   "cell_type": "code",
   "execution_count": 7,
   "metadata": {},
   "outputs": [
    {
     "ename": "TypeError",
     "evalue": "unhashable type: 'list'",
     "output_type": "error",
     "traceback": [
      "\u001b[0;31m---------------------------------------------------------------------------\u001b[0m",
      "\u001b[0;31mTypeError\u001b[0m                                 Traceback (most recent call last)",
      "\u001b[0;32m<ipython-input-7-b309cd87d0af>\u001b[0m in \u001b[0;36m<module>\u001b[0;34m()\u001b[0m\n\u001b[1;32m      5\u001b[0m \u001b[0;31m# you've come across are lists and dictionaries.\u001b[0m\u001b[0;34m\u001b[0m\u001b[0;34m\u001b[0m\u001b[0m\n\u001b[1;32m      6\u001b[0m \u001b[0;31m# Trying to use a mutable object as a dictionary key causes a TypeError.\u001b[0m\u001b[0;34m\u001b[0m\u001b[0;34m\u001b[0m\u001b[0m\n\u001b[0;32m----> 7\u001b[0;31m \u001b[0mbad_dict\u001b[0m \u001b[0;34m=\u001b[0m \u001b[0;34m{\u001b[0m\u001b[0;34m[\u001b[0m\u001b[0;36m1\u001b[0m\u001b[0;34m,\u001b[0m \u001b[0;36m2\u001b[0m\u001b[0;34m,\u001b[0m \u001b[0;36m3\u001b[0m\u001b[0;34m]\u001b[0m\u001b[0;34m:\u001b[0m \u001b[0;34m'one two three'\u001b[0m\u001b[0;34m,\u001b[0m\u001b[0;34m}\u001b[0m\u001b[0;34m\u001b[0m\u001b[0m\n\u001b[0m",
      "\u001b[0;31mTypeError\u001b[0m: unhashable type: 'list'"
     ]
    }
   ],
   "source": [
    "# Dictionaries\n",
    "\n",
    "# Only immutable objects can be used as keys to dictionaries.\n",
    "# Immutable objects are those that can't be changed. So far, the only mutable objects \n",
    "# you've come across are lists and dictionaries. \n",
    "# Trying to use a mutable object as a dictionary key causes a TypeError.\n",
    "bad_dict = {[1, 2, 3]: 'one two three',}"
   ]
  },
  {
   "cell_type": "code",
   "execution_count": 8,
   "metadata": {},
   "outputs": [
    {
     "name": "stdout",
     "output_type": "stream",
     "text": [
      "{1: 1, 2: 4, 3: 9, 4: 16, 8: 64}\n"
     ]
    }
   ],
   "source": [
    "# Dictionaries\n",
    "\n",
    "# Just like lists, dictionary keys can be assigned to different values.\n",
    "# However, unlike lists, a new dictionary key can also be assigned a value,\n",
    "# not just ones that already exist.\n",
    "squares = {1: 1, 2: 4, 3: \"error\", 4: 16,}\n",
    "squares[8] = 64\n",
    "squares[3] = 9\n",
    "print(squares)"
   ]
  },
  {
   "cell_type": "code",
   "execution_count": 9,
   "metadata": {},
   "outputs": [
    {
     "name": "stdout",
     "output_type": "stream",
     "text": [
      "17\n"
     ]
    }
   ],
   "source": [
    "primes = {1:2,2:3,4:7,7:17}\n",
    "print(primes[primes[4]])"
   ]
  },
  {
   "cell_type": "code",
   "execution_count": 10,
   "metadata": {},
   "outputs": [
    {
     "name": "stdout",
     "output_type": "stream",
     "text": [
      "True\n",
      "False\n",
      "True\n"
     ]
    }
   ],
   "source": [
    "# Dictionaries\n",
    "\n",
    "# To determine whether a key is in a dictionary, you can use in and not in, just as you can for a list.\n",
    "# Example:\n",
    "    \n",
    "nums = {\n",
    "  1: \"one\",\n",
    "  2: \"two\",\n",
    "  3: \"three\",\n",
    "}\n",
    "print(1 in nums)\n",
    "print(\"three\" in nums)\n",
    "print(4 not in nums)"
   ]
  },
  {
   "cell_type": "code",
   "execution_count": 11,
   "metadata": {},
   "outputs": [
    {
     "ename": "NameError",
     "evalue": "name 'pairs' is not defined",
     "output_type": "error",
     "traceback": [
      "\u001b[0;31m---------------------------------------------------------------------------\u001b[0m",
      "\u001b[0;31mNameError\u001b[0m                                 Traceback (most recent call last)",
      "\u001b[0;32m<ipython-input-11-e1d4905a86c2>\u001b[0m in \u001b[0;36m<module>\u001b[0;34m()\u001b[0m\n\u001b[0;32m----> 1\u001b[0;31m \u001b[0;32mif\u001b[0m \u001b[0;36m112\u001b[0m \u001b[0;32min\u001b[0m \u001b[0mpairs\u001b[0m\u001b[0;34m:\u001b[0m\u001b[0;34m\u001b[0m\u001b[0m\n\u001b[0m\u001b[1;32m      2\u001b[0m     \u001b[0mprint\u001b[0m\u001b[0;34m(\u001b[0m\u001b[0;34m'Yes'\u001b[0m\u001b[0;34m)\u001b[0m\u001b[0;34m\u001b[0m\u001b[0m\n",
      "\u001b[0;31mNameError\u001b[0m: name 'pairs' is not defined"
     ]
    }
   ],
   "source": [
    "if 112 in pairs:\n",
    "    print('Yes')"
   ]
  },
  {
   "cell_type": "code",
   "execution_count": 12,
   "metadata": {},
   "outputs": [
    {
     "name": "stdout",
     "output_type": "stream",
     "text": [
      "[2, 3, 4]\n",
      "None\n",
      "not in dictionary\n"
     ]
    }
   ],
   "source": [
    "# Dictionaries\n",
    "\n",
    "# A useful dictionary method is get. It does the same thing as indexing, but if the key is not found in the dictionary it returns another specified value instead ('None', by default).\n",
    "# Example:\n",
    "pairs = {1: \"apple\",\n",
    "  \"orange\": [2, 3, 4], \n",
    "  True: False, \n",
    "  None: \"True\",\n",
    "}\n",
    "\n",
    "print(pairs.get(\"orange\"))\n",
    "print(pairs.get(7))\n",
    "print(pairs.get(12345, \"not in dictionary\"))"
   ]
  },
  {
   "cell_type": "code",
   "execution_count": 13,
   "metadata": {},
   "outputs": [
    {
     "name": "stdout",
     "output_type": "stream",
     "text": [
      "8\n"
     ]
    }
   ],
   "source": [
    "fib = {1:1,2:1,3:2,4:3}\n",
    "print(fib.get(4,0) + fib.get(7,5))"
   ]
  },
  {
   "cell_type": "code",
   "execution_count": 14,
   "metadata": {},
   "outputs": [],
   "source": [
    "# Tuples\n",
    "\n",
    "# Tuples are very similar to lists, except that they are immutable (they cannot be changed). \n",
    "# Also, they are created using parentheses, rather than square brackets. \n",
    "# Example:\n",
    "words = (\"spam\", \"eggs\", \"sausages\",)"
   ]
  },
  {
   "cell_type": "code",
   "execution_count": 15,
   "metadata": {},
   "outputs": [
    {
     "name": "stdout",
     "output_type": "stream",
     "text": [
      "one\n"
     ]
    }
   ],
   "source": [
    "# Tuples\n",
    "\n",
    "# Tuples can be created without the parentheses, by just separating the values with commas.\n",
    "# Example:\n",
    "my_tuple = \"one\", \"two\", \"three\"\n",
    "print(my_tuple[0])"
   ]
  },
  {
   "cell_type": "code",
   "execution_count": 16,
   "metadata": {},
   "outputs": [
    {
     "name": "stdout",
     "output_type": "stream",
     "text": [
      "(1, 2, 3)\n"
     ]
    }
   ],
   "source": [
    "tuple = (1,(1,2,3))\n",
    "print(tuple[1])"
   ]
  },
  {
   "cell_type": "code",
   "execution_count": 17,
   "metadata": {},
   "outputs": [
    {
     "name": "stdout",
     "output_type": "stream",
     "text": [
      "[4, 9, 16, 25]\n",
      "[9, 16, 25, 36, 49]\n",
      "[0]\n"
     ]
    }
   ],
   "source": [
    "# List Slices\n",
    "\n",
    "# List slices provide a more advanced way of retrieving values from a list.\n",
    "# Basic list slicing involves indexing a list with two colon-separated integers. This returns a new list containing all the values in the old list between the indices.\n",
    "# Example:\n",
    "\n",
    "squares = [0, 1, 4, 9, 16, 25, 36, 49, 64, 81]\n",
    "print(squares[2:6])\n",
    "print(squares[3:8])\n",
    "print(squares[0:1])"
   ]
  },
  {
   "cell_type": "code",
   "execution_count": 18,
   "metadata": {},
   "outputs": [],
   "source": [
    "# Like the arguments to range, the first index provided in a slice is included in the\n",
    "# result, but the second isn't."
   ]
  },
  {
   "cell_type": "code",
   "execution_count": 19,
   "metadata": {},
   "outputs": [
    {
     "name": "stdout",
     "output_type": "stream",
     "text": [
      "[16, 25, 36]\n"
     ]
    }
   ],
   "source": [
    "sqs = [0, 1, 4, 9, 16, 25, 36, 49, 64]\n",
    "print(sqs[4:7])"
   ]
  },
  {
   "cell_type": "code",
   "execution_count": 20,
   "metadata": {},
   "outputs": [
    {
     "name": "stdout",
     "output_type": "stream",
     "text": [
      "[0, 1, 4, 9, 16, 25, 36]\n",
      "[49, 64, 81]\n"
     ]
    }
   ],
   "source": [
    "# List Slices\n",
    "\n",
    "# If the first number in a slice is omitted, it is taken to be the start of the list.\n",
    "# If the second number is omitted, it is taken to be the end.\n",
    "# Example:\n",
    "\n",
    "squares = [0, 1, 4, 9, 16, 25, 36, 49, 64, 81]\n",
    "print(squares[:7])\n",
    "print(squares[7:])"
   ]
  },
  {
   "cell_type": "code",
   "execution_count": 21,
   "metadata": {},
   "outputs": [],
   "source": [
    "# Slicing can also be done on tuples."
   ]
  },
  {
   "cell_type": "code",
   "execution_count": 22,
   "metadata": {},
   "outputs": [],
   "source": [
    "list = ['a','b','c','d']\n",
    "a = list[0:2]"
   ]
  },
  {
   "cell_type": "code",
   "execution_count": 23,
   "metadata": {},
   "outputs": [
    {
     "name": "stdout",
     "output_type": "stream",
     "text": [
      "[0, 4, 16, 36, 64]\n",
      "[4, 25]\n"
     ]
    }
   ],
   "source": [
    "# List Slices\n",
    "\n",
    "# List slices can also have a third number, representing the step, to include only alternate values in the slice.\n",
    "squares = [0, 1, 4, 9, 16, 25, 36, 49, 64, 81]\n",
    "print(squares[::2])\n",
    "print(squares[2:8:3])"
   ]
  },
  {
   "cell_type": "code",
   "execution_count": 24,
   "metadata": {},
   "outputs": [
    {
     "name": "stdout",
     "output_type": "stream",
     "text": [
      "[1, 25, 81]\n"
     ]
    }
   ],
   "source": [
    "sqs = [0, 1, 4, 9, 16, 25, 36, 49, 64, 81]\n",
    "print(sqs[1::4])"
   ]
  },
  {
   "cell_type": "code",
   "execution_count": 25,
   "metadata": {},
   "outputs": [
    {
     "name": "stdout",
     "output_type": "stream",
     "text": [
      "[1, 4, 9, 16, 25, 36, 49, 64]\n"
     ]
    }
   ],
   "source": [
    "# List Slices\n",
    "\n",
    "# Negative values can be used in list slicing (and normal list indexing).\n",
    "# When negative values are used for the first and second values in a slice \n",
    "# (or a normal index), they count from the end of the list.\n",
    "\n",
    "squares = [0, 1, 4, 9, 16, 25, 36, 49, 64, 81]\n",
    "print(squares[1:-1])"
   ]
  },
  {
   "cell_type": "code",
   "execution_count": 26,
   "metadata": {},
   "outputs": [],
   "source": [
    "# If a negative value is used for the step, the slice is done backwards.\n",
    "# Using [::-1] as a slice is a common and idiomatic way to reverse a list."
   ]
  },
  {
   "cell_type": "code",
   "execution_count": 27,
   "metadata": {},
   "outputs": [
    {
     "name": "stdout",
     "output_type": "stream",
     "text": [
      "[49, 36]\n"
     ]
    }
   ],
   "source": [
    "sqs = [0, 1, 4, 9, 16, 25, 36, 49, 64, 81]\n",
    "print(sqs[7:5:-1])"
   ]
  },
  {
   "cell_type": "code",
   "execution_count": 28,
   "metadata": {},
   "outputs": [
    {
     "name": "stdout",
     "output_type": "stream",
     "text": [
      "[0, 1, 8, 27, 64]\n"
     ]
    }
   ],
   "source": [
    "# List Comprehensions\n",
    "\n",
    "# List comprehensions are a useful way of quickly creating lists whose contents obey a simple rule.\n",
    "# For example, we can do the following:\n",
    "\n",
    "# a list comprehension\n",
    "cubes = [i**3 for i in range(5)]\n",
    "\n",
    "print(cubes)"
   ]
  },
  {
   "cell_type": "code",
   "execution_count": 29,
   "metadata": {},
   "outputs": [],
   "source": [
    "nums = [i*2 for i in range(10)]"
   ]
  },
  {
   "cell_type": "code",
   "execution_count": 30,
   "metadata": {},
   "outputs": [
    {
     "name": "stdout",
     "output_type": "stream",
     "text": [
      "[0, 4, 16, 36, 64]\n"
     ]
    }
   ],
   "source": [
    "# List Comprehensions\n",
    "\n",
    "# A list comprehension can also contain an if statement to enforce a condition on values in the list.\n",
    "# Example:\n",
    "evens=[i**2 for i in range(10) if i**2 % 2 == 0]\n",
    "\n",
    "print(evens)"
   ]
  },
  {
   "cell_type": "code",
   "execution_count": null,
   "metadata": {},
   "outputs": [],
   "source": [
    "# List Comprehensions\n",
    "\n",
    "# Trying to create a list in a very extensive range will result in a MemoryError.\n",
    "# This code shows an example where the list comprehension runs out of memory.\n",
    "even = [2*i for i in range(10**100)]"
   ]
  },
  {
   "cell_type": "code",
   "execution_count": null,
   "metadata": {},
   "outputs": [],
   "source": [
    "# String Formatting\n",
    "\n",
    "# So far, to combine strings and non-strings, you've converted the non-strings to strings and added them. \n",
    "# String formatting provides a more powerful way to embed non-strings within strings. String formatting uses a string's format method to substitute a number of arguments in the string.\n",
    "# Example:\n",
    "\n",
    "# string formatting\n",
    "nums = [4, 5, 6]\n",
    "msg = \"Numbers: {0} {1} {2}\". format(nums[0], nums[1], nums[2])\n",
    "print(msg)"
   ]
  },
  {
   "cell_type": "code",
   "execution_count": null,
   "metadata": {},
   "outputs": [],
   "source": [
    "print(\"{0}{1}{0}\".format(\"abra\",\"cad\"))"
   ]
  },
  {
   "cell_type": "code",
   "execution_count": null,
   "metadata": {},
   "outputs": [],
   "source": [
    "# String Formatting\n",
    "\n",
    "# String formatting can also be done with named arguments.\n",
    "# Example:\n",
    "\n",
    "a = \"{x}, {y}\".format(x=5, y=12)\n",
    "print(a)"
   ]
  },
  {
   "cell_type": "code",
   "execution_count": null,
   "metadata": {},
   "outputs": [],
   "source": [
    "str = \"{c},{b},{a}\".format(a=5, b=9, c=7)\n",
    "print(str)"
   ]
  },
  {
   "cell_type": "code",
   "execution_count": null,
   "metadata": {},
   "outputs": [],
   "source": [
    "# String Functions\n",
    "\n",
    "# Python contains many useful built-in functions and methods to accomplish common tasks. \n",
    "# join - joins a list of strings with another string as a separator. \n",
    "# replace - replaces one substring in a string with another.\n",
    "# startswith and endswith - determine if there is a substring at the start and end of a string, respectively. \n",
    "# To change the case of a string, you can use lower and upper.\n",
    "# The method split is the opposite of join, turning a string with a certain separator into a list.\n",
    "# Some examples:\n",
    "\n",
    "print(\", \".join([\"spam\", \"eggs\", \"ham\"]))\n",
    "#prints \"spam, eggs, ham\"\n",
    "\n",
    "print(\"Hello ME\".replace(\"ME\", \"world\"))\n",
    "#prints \"Hello world\"\n",
    "\n",
    "print(\"This is a sentence.\".startswith(\"This\"))\n",
    "# prints \"True\"\n",
    "\n",
    "print(\"This is a sentence.\".endswith(\"sentence.\"))\n",
    "# prints \"True\"\n",
    "\n",
    "print(\"This is a sentence.\".upper())\n",
    "# prints \"THIS IS A SENTENCE.\"\n",
    "\n",
    "print(\"AN ALL CAPS SENTENCE\".lower())\n",
    "#prints \"an all caps sentence\"\n",
    "\n",
    "print(\"spam, eggs, ham\".split(\", \"))\n",
    "#prints \"['spam', 'eggs', 'ham']\""
   ]
  },
  {
   "cell_type": "code",
   "execution_count": null,
   "metadata": {},
   "outputs": [],
   "source": [
    "# Numeric Functions\n",
    "\n",
    "# To find the maximum or minimum of some numbers or a list, you can use max or min.\n",
    "# To find the distance of a number from zero (its absolute value), use abs.\n",
    "# To round a number to a certain number of decimal places, use round.\n",
    "# To find the total of a list, use sum.\n",
    "# Some examples:\n",
    "\n",
    "print(min(1, 2, 3, 4, 0, 2, 1))\n",
    "print(max([1, 4, 9, 2, 5, 6, 8]))\n",
    "print(abs(-99))\n",
    "print(abs(42))\n",
    "print(sum([1, 2, 3, 4, 5]))"
   ]
  },
  {
   "cell_type": "code",
   "execution_count": null,
   "metadata": {},
   "outputs": [],
   "source": [
    "a = min([sum([11, 22]]), max(abs(-30),2])\n",
    "print(a)"
   ]
  },
  {
   "cell_type": "code",
   "execution_count": null,
   "metadata": {},
   "outputs": [],
   "source": [
    "# List Functions\n",
    "\n",
    "# Often used in conditional statements, all and any take a list as an argument, and return True if all or any (respectively) of their arguments evaluate to True (and False otherwise). \n",
    "# The function enumerate can be used to iterate through the values and indices of a list simultaneously.\n",
    "# Example:\n",
    "\n",
    "nums = [55, 44, 33, 22, 11]\n",
    "\n",
    "if all([i > 5 for i in nums]):\n",
    "   print(\"All larger than 5\")\n",
    "\n",
    "if any([i % 2 == 0 for i in nums]):\n",
    "   print(\"At least one is even\")\n",
    "\n",
    "for v in enumerate(nums):\n",
    "   print(v)"
   ]
  },
  {
   "cell_type": "code",
   "execution_count": null,
   "metadata": {},
   "outputs": [],
   "source": [
    "nums = [-1, 2, -3, 4, -5]\n",
    "if all([ads(i) < 3 for i in nums]):\n",
    "    print(1)\n",
    "else:\n",
    "    print(2)"
   ]
  },
  {
   "cell_type": "code",
   "execution_count": null,
   "metadata": {},
   "outputs": [],
   "source": [
    "# Text Analyzer\n",
    "\n",
    "# This is an example project, showing a program that analyzes a sample file to find what percentage of the text each character occupies.\n",
    "# This section shows how a file could be open and read.\n",
    "\n",
    "filename = input(\"Enter a filename: \")\n",
    "\n",
    "with open(filename) as f:\n",
    "   text = f.read()\n",
    "\n",
    "print(text)"
   ]
  },
  {
   "cell_type": "code",
   "execution_count": null,
   "metadata": {},
   "outputs": [],
   "source": [
    "# Text Analyzer\n",
    "\n",
    "# This part of the program shows a function that counts how many times a character occurs in a string.\n",
    "\n",
    "def count_char(text, char):\n",
    "  count = 0\n",
    "  for c in text:\n",
    "    if c == char:\n",
    "      count += 1\n",
    "  return count"
   ]
  },
  {
   "cell_type": "code",
   "execution_count": null,
   "metadata": {},
   "outputs": [],
   "source": [
    "# Text Analyzer\n",
    "\n",
    "# The next part of the program finds what percentage of the text each character of the alphabet occupies.\n",
    "\n",
    "for char in \"abcdefghijklmnopqrstuvwxyz\":\n",
    "  perc = 100 * count_char(text, char) / len(text)\n",
    "  print(\"{0} - {1}%\".format(char, round(perc, 2)))\n"
   ]
  },
  {
   "cell_type": "code",
   "execution_count": null,
   "metadata": {},
   "outputs": [],
   "source": [
    "nums = (55, 44, 33, 22)\n",
    "print(max(min(nums[:2]),abs(-42)))"
   ]
  },
  {
   "cell_type": "code",
   "execution_count": null,
   "metadata": {},
   "outputs": [],
   "source": []
  }
 ],
 "metadata": {
  "kernelspec": {
   "display_name": "Python 3",
   "language": "python",
   "name": "python3"
  },
  "language_info": {
   "codemirror_mode": {
    "name": "ipython",
    "version": 3
   },
   "file_extension": ".py",
   "mimetype": "text/x-python",
   "name": "python",
   "nbconvert_exporter": "python",
   "pygments_lexer": "ipython3",
   "version": "3.6.4"
  }
 },
 "nbformat": 4,
 "nbformat_minor": 2
}
