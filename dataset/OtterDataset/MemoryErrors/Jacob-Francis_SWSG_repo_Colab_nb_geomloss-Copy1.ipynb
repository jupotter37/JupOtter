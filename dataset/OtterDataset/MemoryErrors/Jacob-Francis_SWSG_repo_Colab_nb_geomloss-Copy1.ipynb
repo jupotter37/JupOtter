{
 "cells": [
  {
   "cell_type": "markdown",
   "metadata": {
    "colab_type": "text",
    "id": "view-in-github"
   },
   "source": [
    "<a href=\"https://colab.research.google.com/github/Jacob-Francis/SWSG_repo/blob/main/Colab_nb.ipynb\" target=\"_parent\"><img src=\"https://colab.research.google.com/assets/colab-badge.svg\" alt=\"Open In Colab\"/></a>"
   ]
  },
  {
   "cell_type": "code",
   "execution_count": 1,
   "metadata": {
    "id": "gR60kvcRLafk"
   },
   "outputs": [],
   "source": [
    "import numpy as np\n",
    "import matplotlib.pyplot as plt\n",
    "from scipy.spatial.distance import cdist\n",
    "from matplotlib.animation import FuncAnimation"
   ]
  },
  {
   "cell_type": "code",
   "execution_count": 2,
   "metadata": {
    "colab": {
     "base_uri": "https://localhost:8080/"
    },
    "id": "O_19YAtkaq9D",
    "outputId": "1019175d-3ecc-46ad-d0fc-b8dde71a52b1"
   },
   "outputs": [],
   "source": [
    "#!apt-get install cuda=10.2.89-1\n",
    "# %matplotlib inline\n",
    "\n",
    "# !pip install pykeops[colab] > install.log\n",
    "# !pip install geomloss[full]\n",
    "# !apt-get install ffmpeg\n",
    "\n",
    "import torch\n",
    "import numpy as np\n",
    "from geomloss import SamplesLoss\n",
    "import matplotlib.pyplot as plt\n",
    "import matplotlib.animation as animation\n",
    "from IPython.display import HTML\n",
    "\n",
    "# Device configuration\n",
    "#pytorch.cuda.alloc.conf = expandable_segments\n",
    "device = torch.device('cuda' if torch.cuda.is_available() else 'cpu')\n",
    "torch.set_default_dtype(torch.float64)\n",
    "# torch.set_default_device(device)"
   ]
  },
  {
   "cell_type": "code",
   "execution_count": 3,
   "metadata": {
    "id": "ybT2lQ5Pamo9"
   },
   "outputs": [],
   "source": [
    "def Lloyds(f, N, k=10, Nsteps=3,scali=0.5, epsilon=0.01):\n",
    "\n",
    "    # Generate initial grid of points for x\n",
    "    grid_size = int(N**0.5)  # Assuming N is a perfect square\n",
    "    x = (torch.rand(N, 2,device=device)).detach().requires_grad_(True) # Random points in [-1, 1]\n",
    "    # Generate fine grid of points y with k*N points\n",
    "    fine_grid_size = int((k * N)**0.5)\n",
    "    y = torch.stack(torch.meshgrid(torch.linspace(0, 1, fine_grid_size,device=device),\n",
    "                                   torch.linspace(0, 1, fine_grid_size,device=device)), dim=-1).reshape(-1, 2)\n",
    "    y = y[:k * N]\n",
    "\n",
    "    # Compute weights b proportional to f(y)\n",
    "    b = f(y)\n",
    "    b /= b.sum()  # Normalize to make b a probability distribution\n",
    "\n",
    "    # Uniform weights for points x\n",
    "    a = torch.full((N,), 1 / N,device=device)\n",
    "\n",
    "    # Define the entropic OT loss function\n",
    "    loss_fn = SamplesLoss(\"sinkhorn\", p=2,scaling=scali, blur=epsilon**0.5)\n",
    "\n",
    "    # Iterative Lloyd's algorithm\n",
    "    for _ in range(Nsteps):\n",
    "        # Compute the transport map between x and (y, b)\n",
    "        loss = loss_fn(a,x,b, y)\n",
    "        grad = torch.autograd.grad(loss, x)[0]\n",
    "        x=x.clone().detach().requires_grad_(True)\n",
    "\n",
    "        # Move points in the direction of the gradient to minimize OT cost\n",
    "        with torch.no_grad():\n",
    "            x -= N * grad  # Adjust x by moving in gradient direction\n",
    "\n",
    "    return x.detach()  # Return points that fit the density function\n",
    "\n",
    "def init_gaussian(N, k=10, epsilon=0.001,Nsteps=3,scali=0.99,std=[0.2,0.2]):\n",
    "    def gaussian_density(points, mean=[0, 0], std=[0.1, 0.1]):\n",
    "        \"\"\"Evaluates a Gaussian function at given points.\"\"\"\n",
    "        dist = torch.distributions.MultivariateNormal(\n",
    "            torch.tensor(mean,device=device),\n",
    "            torch.diag(torch.tensor(std,device=device))**2\n",
    "        )\n",
    "        return torch.exp(dist.log_prob(points))\n",
    "    # Run Lloyd's algorithm\n",
    "    f = lambda y: gaussian_density(y, mean=[0.5, 0.5], std=[0.2, 0.2])  # Gaussian density function\n",
    "    points = Lloyds(f, N, k=k, Nsteps=Nsteps, epsilon=epsilon)\n",
    "    return points\n",
    "\n",
    "\n"
   ]
  },
  {
   "cell_type": "code",
   "execution_count": 4,
   "metadata": {},
   "outputs": [
    {
     "name": "stdout",
     "output_type": "stream",
     "text": [
      "\u001b[1m\u001b[37mnvidia6                   \u001b[m  Wed Nov 13 10:11:51 2024  \u001b[1m\u001b[30m550.90.07\u001b[m\r\n",
      "\u001b[36m[0]\u001b[m \u001b[34mNVIDIA GeForce RTX 3090\u001b[m |\u001b[1m\u001b[31m 68°C\u001b[m, \u001b[1m\u001b[32m100 %\u001b[m | \u001b[36m\u001b[1m\u001b[33m22547\u001b[m / \u001b[33m24576\u001b[m MB | \u001b[1m\u001b[30mzo122\u001b[m(\u001b[33m22090M\u001b[m) \u001b[1m\u001b[30mpc2222\u001b[m(\u001b[33m448M\u001b[m)\r\n",
      "\u001b[36m[1]\u001b[m \u001b[34mNVIDIA GeForce RTX 3090\u001b[m |\u001b[1m\u001b[31m 66°C\u001b[m, \u001b[1m\u001b[32m 59 %\u001b[m | \u001b[36m\u001b[1m\u001b[33m22622\u001b[m / \u001b[33m24576\u001b[m MB | \u001b[1m\u001b[30mzo122\u001b[m(\u001b[33m22614M\u001b[m)\r\n",
      "\u001b[36m[2]\u001b[m \u001b[34mNVIDIA GeForce RTX 3090\u001b[m |\u001b[1m\u001b[31m 56°C\u001b[m, \u001b[1m\u001b[32m100 %\u001b[m | \u001b[36m\u001b[1m\u001b[33m 2345\u001b[m / \u001b[33m24576\u001b[m MB | \u001b[1m\u001b[30mbjc121\u001b[m(\u001b[33m616M\u001b[m) \u001b[1m\u001b[30mbjc121\u001b[m(\u001b[33m616M\u001b[m) \u001b[1m\u001b[30mbjc121\u001b[m(\u001b[33m506M\u001b[m) \u001b[1m\u001b[30mbjc121\u001b[m(\u001b[33m592M\u001b[m)\r\n",
      "\u001b[36m[3]\u001b[m \u001b[34mNVIDIA GeForce RTX 3090\u001b[m |\u001b[1m\u001b[31m 69°C\u001b[m, \u001b[1m\u001b[32m100 %\u001b[m | \u001b[36m\u001b[1m\u001b[33m10761\u001b[m / \u001b[33m24576\u001b[m MB | \u001b[1m\u001b[30mhs2216\u001b[m(\u001b[33m6014M\u001b[m) \u001b[1m\u001b[30mma2522\u001b[m(\u001b[33m4736M\u001b[m)\r\n",
      "\u001b[36m[4]\u001b[m \u001b[34mNVIDIA GeForce RTX 3090\u001b[m |\u001b[1m\u001b[31m 60°C\u001b[m, \u001b[1m\u001b[32m100 %\u001b[m | \u001b[36m\u001b[1m\u001b[33m 5127\u001b[m / \u001b[33m24576\u001b[m MB | \u001b[1m\u001b[30mjjf817\u001b[m(\u001b[33m382M\u001b[m) \u001b[1m\u001b[30mma2522\u001b[m(\u001b[33m4736M\u001b[m)\r\n",
      "\u001b[36m[5]\u001b[m \u001b[31m((Unknown Error))      \u001b[m |\u001b[1m\u001b[30m  ?°C\u001b[m, \u001b[1m\u001b[30m  ? %\u001b[m | \u001b[36m\u001b[1m\u001b[30m    ?\u001b[m / \u001b[1m\u001b[30m    ?\u001b[m MB | (Not Supported)\r\n",
      "\u001b[36m[6]\u001b[m \u001b[34mNVIDIA GeForce RTX 3090\u001b[m |\u001b[1m\u001b[31m 64°C\u001b[m, \u001b[1m\u001b[32m100 %\u001b[m | \u001b[36m\u001b[1m\u001b[33m 9766\u001b[m / \u001b[33m24576\u001b[m MB | \u001b[1m\u001b[30mjz6422\u001b[m(\u001b[33m4472M\u001b[m) \u001b[1m\u001b[30mjjf817\u001b[m(\u001b[33m518M\u001b[m) \u001b[1m\u001b[30mma2522\u001b[m(\u001b[33m4736M\u001b[m)\r\n",
      "\u001b[36m[7]\u001b[m \u001b[34mNVIDIA GeForce RTX 3090\u001b[m |\u001b[1m\u001b[31m 62°C\u001b[m, \u001b[1m\u001b[32m100 %\u001b[m | \u001b[36m\u001b[1m\u001b[33m20398\u001b[m / \u001b[33m24576\u001b[m MB | \u001b[1m\u001b[30mjz6422\u001b[m(\u001b[33m7538M\u001b[m) \u001b[1m\u001b[30masl16\u001b[m(\u001b[33m8112M\u001b[m) \u001b[1m\u001b[30mma2522\u001b[m(\u001b[33m4736M\u001b[m)\r\n"
     ]
    }
   ],
   "source": [
    "! gpustat"
   ]
  },
  {
   "cell_type": "code",
   "execution_count": 13,
   "metadata": {
    "id": "uOXd3pmTLfvL"
   },
   "outputs": [],
   "source": [
    "# # Parameters\n",
    "# N = 20\n",
    "# N1 = 20  # testing shapes\n",
    "# M = 100\n",
    "# epsilon = 0.01\n",
    "\n",
    "# # Generate G\n",
    "# # G = np.stack([j.flatten() for j in np.meshgrid(\n",
    "# #     np.linspace(1/(2*N), 1 - 1/(2*N), N, endpoint=True),\n",
    "# #     np.linspace(1/(2*N), 1 - 1/(2*N), N, endpoint=True))], axis=-1)\n",
    "# G = init_gaussian(N*N,std=[0.3,0.3])\n",
    "# G = torch.Tensor(G).requires_grad_(True)\n",
    "\n",
    "# # Generate X in the desired format (N * N, 2)\n",
    "# X = np.stack([j.flatten() for j in np.meshgrid(\n",
    "#     np.linspace(1/(2*N1), 1 - 1/(2*N1), N, endpoint=True),\n",
    "#     np.linspace(1/(2*N1), 1 - 1/(2*N1), N, endpoint=True))], axis=-1)\n",
    "\n",
    "# X = torch.Tensor(X).requires_grad_(True).type_as\n",
    "# # Generate Y in the desired format (M * M, 2)\n",
    "# Y = np.stack([j.flatten() for j in np.meshgrid(\n",
    "#     np.linspace(1/(2*M), 1 - 1/(2*M), M, endpoint=True),\n",
    "#     np.linspace(1/(2*M), 1 - 1/(2*M), M, endpoint=True))], axis=-1)\n",
    "# Y = torch.Tensor(Y).requires_grad_(True)\n"
   ]
  },
  {
   "cell_type": "code",
   "execution_count": 14,
   "metadata": {},
   "outputs": [],
   "source": [
    "# N = 100\n",
    "# M = 10*N \n",
    "\n",
    "# debiase,scali,epsilon =False,0.99,0.001\n",
    "\n",
    "# #initialisations\n",
    "# grid_size = int(M ** 0.5)\n",
    "# grid = torch.linspace(0,1, grid_size)\n",
    "# y1, y2 = torch.meshgrid(grid, grid, indexing='ij')\n",
    "# Y = torch.stack([y1.flatten(), y2.flatten()], dim=1)[:M]\n",
    "\n",
    "# G = init_gaussian(N,std=[0.3,0.3])\n",
    "# Y = Y.type_as(G)\n",
    "# X = G.clone().requires_grad_(True)"
   ]
  },
  {
   "cell_type": "markdown",
   "metadata": {
    "id": "4kjhOcOITG0P"
   },
   "source": [
    "R here is the reference measuer, though everything so far is just uniformly weighted by the number of points"
   ]
  },
  {
   "cell_type": "code",
   "execution_count": 15,
   "metadata": {},
   "outputs": [],
   "source": [
    "loss = SamplesLoss('sinkhorn', p=2, blur=0.01)\n",
    "lr = 0.5\n",
    "sigma = 0.01\n"
   ]
  },
  {
   "cell_type": "code",
   "execution_count": 16,
   "metadata": {},
   "outputs": [],
   "source": [
    "\n",
    "def x_adaptation(G, X, Y, alpha, loss, Y_dense, sigma=0.01, tol=1e-2, ):\n",
    "    err = torch.inf\n",
    "    count = 0 \n",
    "    while err > tol:\n",
    "        # solve one W2 (G, X)\n",
    "        # L_gx = loss(G, X)\n",
    "        # [h_gx] = torch.autograd.grad(L_gx, [X])\n",
    "        h_gx = (X - G) / N\n",
    "        # solve W2 (X, Y)\n",
    "        L_xy = loss(torch.ones_like(X[:, 0]) / len(X[:,0]), X, alpha, Y)\n",
    "        L_yy = loss(torch.ones_like(Y_dense[:, 0])/ len(Y_dense[:,0]), Y_dense, alpha, Y)\n",
    "        [h_xy] = torch.autograd.grad(L_xy, [X])\n",
    "        [alpha_grad_1] = torch.autograd.grad(L_xy, [alpha])\n",
    "        [alpha_grad_2] = torch.autograd.grad(L_yy, [alpha])\n",
    "        \n",
    "        # update X\n",
    "        update = h_gx + h_xy/sigma\n",
    "        X = X - lr*N*update / (1 + 1/sigma)\n",
    "        \n",
    "        # update alpha\n",
    "        update = alpha_grad_2 + alpha_grad_1/sigma\n",
    "        alpha = alpha - lr*N*update / (1 + 1/sigma)\n",
    "\n",
    "        err = torch.linalg.norm(N*update / (1 + 1/sigma), ord=float('inf'))\n",
    "        count += 1\n",
    "    print(count, err)\n",
    "    return X,  alpha\n",
    "\n",
    "def g_speed(G, X, dt, J):\n",
    "    G = G + dt * (G - X.detach()) @-J\n",
    "    return G\n",
    "\n",
    "def x_guess(G, X, dt, J):\n",
    "    X = X + dt * (G - X.detach()) @-J\n",
    "    return X\n",
    "\n",
    "\n",
    "# Dyanmics\n",
    "\n",
    "\n",
    "# plt.figure(figsize=(8, 6))\n",
    "# plt.scatter(G[:, 0].cpu(), G[:, 1].cpu(), color='blue', label='G_i', alpha=0.7)\n",
    "# plt.scatter(Y[:, 0].cpu(), Y[:, 1].cpu(), color='green', s=10, label='Y_j', alpha=0.5)\n",
    "# plt.scatter(X[:, 0].detach().cpu(), X[:, 1].detach().cpu(), color='red', marker='x', s=80)\n",
    "# plt.legend()\n",
    "# plt.xlabel('X-axis')\n",
    "# plt.ylabel('Y-axis')\n",
    "# plt.show()"
   ]
  },
  {
   "cell_type": "code",
   "execution_count": 17,
   "metadata": {},
   "outputs": [],
   "source": [
    "# plt.figure(figsize=(8, 6))\n",
    "# plt.scatter(G[:, 0].cpu(), G[:, 1].cpu(), color='blue', label='G_i', alpha=0.7)\n",
    "# plt.scatter(Y[:, 0].cpu(), Y[:, 1].cpu(), color='green', s=10, label='Y_j', alpha=0.5)\n",
    "# plt.scatter(X[:, 0].detach().cpu(), X[:, 1].detach().cpu(), color='red', marker='x', s=80)\n",
    "# plt.legend()\n",
    "# plt.xlabel('X-axis')\n",
    "# plt.ylabel('Y-axis')\n",
    "# plt.show()"
   ]
  },
  {
   "cell_type": "code",
   "execution_count": 19,
   "metadata": {},
   "outputs": [],
   "source": [
    "\n",
    "# X = x_adaptation(G, X, Y, sigma=0.01, loss=loss)\n",
    "\n",
    "# # g_speed(G, X, dt, J)\n",
    "\n",
    "# # x_guess(G, X, dt, J)\n",
    "\n",
    "# plt.figure(figsize=(8, 6))\n",
    "# plt.scatter(G[:, 0].cpu(), G[:, 1].cpu(), color='blue', label='G_i', alpha=0.7)\n",
    "# plt.scatter(Y[:, 0].cpu(), Y[:, 1].cpu(), color='green', s=10, label='Y_j', alpha=0.5)\n",
    "# plt.scatter(X[:, 0].detach().cpu(), X[:, 1].detach().cpu(), color='red', marker='x', s=80)\n",
    "# plt.legend()\n",
    "# plt.xlabel('X-axis')\n",
    "# plt.ylabel('Y-axis')\n",
    "# plt.show()"
   ]
  },
  {
   "cell_type": "markdown",
   "metadata": {
    "id": "MWFS8bziRRh0"
   },
   "source": []
  },
  {
   "cell_type": "code",
   "execution_count": 20,
   "metadata": {},
   "outputs": [
    {
     "data": {
      "text/plain": [
       "40.0"
      ]
     },
     "execution_count": 20,
     "metadata": {},
     "output_type": "execute_result"
    }
   ],
   "source": [
    "2/0.05"
   ]
  },
  {
   "cell_type": "code",
   "execution_count": 22,
   "metadata": {
    "id": "tNkbW7E6bYPq"
   },
   "outputs": [
    {
     "ename": "OutOfMemoryError",
     "evalue": "CUDA out of memory. Tried to allocate 1.49 GiB (GPU 0; 23.68 GiB total capacity; 16.26 MiB already allocated; 1.30 GiB free; 22.00 MiB reserved in total by PyTorch) If reserved memory is >> allocated memory try setting max_split_size_mb to avoid fragmentation.  See documentation for Memory Management and PYTORCH_CUDA_ALLOC_CONF",
     "output_type": "error",
     "traceback": [
      "\u001b[0;31m---------------------------------------------------------------------------\u001b[0m",
      "\u001b[0;31mOutOfMemoryError\u001b[0m                          Traceback (most recent call last)",
      "Cell \u001b[0;32mIn[22], line 26\u001b[0m\n\u001b[1;32m     24\u001b[0m grid \u001b[38;5;241m=\u001b[39m torch\u001b[38;5;241m.\u001b[39mlinspace(\u001b[38;5;241m0\u001b[39m,\u001b[38;5;241m1\u001b[39m, grid_size)\n\u001b[1;32m     25\u001b[0m y1, y2 \u001b[38;5;241m=\u001b[39m torch\u001b[38;5;241m.\u001b[39mmeshgrid(grid, grid, indexing\u001b[38;5;241m=\u001b[39m\u001b[38;5;124m'\u001b[39m\u001b[38;5;124mij\u001b[39m\u001b[38;5;124m'\u001b[39m)\n\u001b[0;32m---> 26\u001b[0m Y_dense \u001b[38;5;241m=\u001b[39m \u001b[43mtorch\u001b[49m\u001b[38;5;241;43m.\u001b[39;49m\u001b[43mstack\u001b[49m\u001b[43m(\u001b[49m\u001b[43m[\u001b[49m\u001b[43my1\u001b[49m\u001b[38;5;241;43m.\u001b[39;49m\u001b[43mflatten\u001b[49m\u001b[43m(\u001b[49m\u001b[43m)\u001b[49m\u001b[43m,\u001b[49m\u001b[43m \u001b[49m\u001b[43my2\u001b[49m\u001b[38;5;241;43m.\u001b[39;49m\u001b[43mflatten\u001b[49m\u001b[43m(\u001b[49m\u001b[43m)\u001b[49m\u001b[43m]\u001b[49m\u001b[43m,\u001b[49m\u001b[43m \u001b[49m\u001b[43mdim\u001b[49m\u001b[38;5;241;43m=\u001b[39;49m\u001b[38;5;241;43m1\u001b[39;49m\u001b[43m)\u001b[49m\u001b[38;5;241;43m.\u001b[39;49m\u001b[43mtype_as\u001b[49m\u001b[43m(\u001b[49m\u001b[43mG\u001b[49m\u001b[43m)\u001b[49m\n",
      "\u001b[0;31mOutOfMemoryError\u001b[0m: CUDA out of memory. Tried to allocate 1.49 GiB (GPU 0; 23.68 GiB total capacity; 16.26 MiB already allocated; 1.30 GiB free; 22.00 MiB reserved in total by PyTorch) If reserved memory is >> allocated memory try setting max_split_size_mb to avoid fragmentation.  See documentation for Memory Management and PYTORCH_CUDA_ALLOC_CONF"
     ]
    }
   ],
   "source": [
    "dt = 0.2\n",
    "T = 1\n",
    "N = 100\n",
    "M = 100 \n",
    "\n",
    "loss = SamplesLoss('sinkhorn', p=2, blur=0.001, scaling=0.9)\n",
    "lr = 0.5\n",
    "\n",
    "#initialisations\n",
    "grid_size = M\n",
    "grid = torch.linspace(0,1, grid_size)\n",
    "y1, y2 = torch.meshgrid(grid, grid, indexing='ij')\n",
    "Y = torch.stack([y1.flatten(), y2.flatten()], dim=1)[:M]\n",
    "\n",
    "G = init_gaussian(N,std=[0.3,0.3])\n",
    "J = -1*torch.Tensor([[0, 1], [-1, 0 ]]).type_as(G)\n",
    "\n",
    "Y = Y.type_as(G)\n",
    "X = G.clone().requires_grad_(True)\n",
    "alpha = torch.ones_like(X[:,0]).requires_grad_(True)\n",
    "\n",
    "# Densee grid\n",
    "grid_size = 100**2\n",
    "grid = torch.linspace(0,1, grid_size)\n",
    "y1, y2 = torch.meshgrid(grid, grid, indexing='ij')\n",
    "Y_dense = torch.stack([y1.flatten(), y2.flatten()], dim=1).type_as(G)"
   ]
  },
  {
   "cell_type": "code",
   "execution_count": null,
   "metadata": {},
   "outputs": [],
   "source": [
    "# Set up the figure and axis for animation\n",
    "fig, ax = plt.subplots(figsize=(8, 6))\n",
    "ax = fig.add_subplot(131)\n",
    "ax1 = fig.add_subplot(132)\n",
    "ax2 = fig.add_subplot(133)\n",
    "\n",
    "# scat_G = ax.scatter(G[:, 0].cpu(), G[:, 1].cpu(), color='blue', label='G_i', alpha=0.7)\n",
    "# scat_Y = ax.scatter(Y[:, 0].cpu(), Y[:, 1].cpu(), color='green', s=5, label='Y_j', alpha=0.5)\n",
    "# scat_X = ax.scatter(X[:, 0].detach().cpu(), X[:, 1].detach().cpu(), color='red', marker='x', s=80)\n",
    "\n",
    "# Initialize the plot labels\n",
    "ax.legend()\n",
    "ax.set_xlabel('X-axis')\n",
    "ax.set_ylabel('Y-axis')\n",
    "\n",
    "# Update function for animation\n",
    "def anim_function(i):\n",
    "    global X, G, alpha\n",
    "    \n",
    "    ax.cla()\n",
    "    ax1.cla()\n",
    "    ax2.cla()\n",
    "    \n",
    "    ax.set(xlim=[-0.5, 1.5], ylim=[-0.5, 1.5])\n",
    "    ax.set_title((torch.linalg.norm(G-X)**2).item())\n",
    "    \n",
    "    # Update X and G\n",
    "    X, alpha = x_adaptation(G, X, Y, alpha=alpha, Y_dense=Y_dense, sigma=0.00001, loss=loss, tol=1e-5)\n",
    "    G = g_speed(G, X, dt, J)\n",
    "    X = x_guess(G, X, dt, J)\n",
    "    \n",
    "    # Update scatter plot data without clearing the figure\n",
    "    scat_G = ax.scatter(G[:, 0].cpu(), G[:, 1].cpu(), color='blue', label='G_i', alpha=0.7)\n",
    "    # scat_Y = ax.scatter(Y[:, 0].cpu(), Y[:, 1].cpu(), color='green', s=10, label='Y_j', alpha=0.5)\n",
    "    scat_X = ax1.scatter(X[:, 0].detach().cpu(), X[:, 1].detach().cpu(), color='red', s=10)\n",
    "    scat_X = ax2.scatter(Y[:, 0].detach().cpu(), Y[:, 1].detach().cpu(), c=alpha.detach().cpu(), s=10)\n",
    "\n",
    "    return scat_G, scat_X\n",
    "\n",
    "# Create the animation\n",
    "num_frames = int(T/dt)  # Number of frames for the GIF\n",
    "anim = FuncAnimation(fig, anim_function, frames=num_frames, interval=300, blit=True)\n",
    "\n",
    "# Save animation directly as a GIF using PillowWriter\n",
    "anim.save('new_alpha.gif')#, writer=PillowWriter(fps=3))  # Adjust fps as needed\n"
   ]
  }
 ],
 "metadata": {
  "colab": {
   "include_colab_link": true,
   "provenance": []
  },
  "kernelspec": {
   "display_name": "Python 3 (ipykernel)",
   "language": "python",
   "name": "python3"
  },
  "language_info": {
   "codemirror_mode": {
    "name": "ipython",
    "version": 3
   },
   "file_extension": ".py",
   "mimetype": "text/x-python",
   "name": "python",
   "nbconvert_exporter": "python",
   "pygments_lexer": "ipython3",
   "version": "3.10.12"
  }
 },
 "nbformat": 4,
 "nbformat_minor": 1
}
