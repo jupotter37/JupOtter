{
 "cells": [
  {
   "cell_type": "markdown",
   "metadata": {},
   "source": [
    "https://stackoverflow.com/questions/77473807/resampling-huge-pandas-dataframe-throws-arraymemoryerror/77477536#77477536"
   ]
  },
  {
   "cell_type": "code",
   "execution_count": 1,
   "metadata": {},
   "outputs": [
    {
     "data": {
      "text/plain": [
       "2000-01-01    0\n",
       "2000-01-02    1\n",
       "2000-01-03    2\n",
       "2000-01-04    3\n",
       "2000-01-05    4\n",
       "2000-01-06    5\n",
       "2000-01-07    6\n",
       "2000-01-08    7\n",
       "2000-01-09    8\n",
       "Freq: D, dtype: int64"
      ]
     },
     "execution_count": 1,
     "metadata": {},
     "output_type": "execute_result"
    }
   ],
   "source": [
    "import pandas as pd\n",
    "\n",
    "index = pd.date_range(\"1/1/2000\", periods=9, freq=\"D\")\n",
    "series = pd.Series(range(9), index=index)\n",
    "series"
   ]
  },
  {
   "cell_type": "code",
   "execution_count": 2,
   "metadata": {},
   "outputs": [],
   "source": [
    "# kernel dead due to out of memory\n",
    "# series.resample(\"1ms\").asfreq()"
   ]
  },
  {
   "cell_type": "code",
   "execution_count": 3,
   "metadata": {},
   "outputs": [
    {
     "data": {
      "text/plain": [
       "2000-01-01    0\n",
       "2000-01-02    1\n",
       "2000-01-03    2\n",
       "2000-01-04    3\n",
       "2000-01-05    4\n",
       "2000-01-06    5\n",
       "2000-01-07    6\n",
       "2000-01-08    7\n",
       "2000-01-09    8\n",
       "Freq: D, dtype: int64"
      ]
     },
     "execution_count": 3,
     "metadata": {},
     "output_type": "execute_result"
    }
   ],
   "source": [
    "series.resample(\"D\").apply(\n",
    "    lambda x: x.resample(\"1ms\").asfreq().interpolate().resample(\"1s\").asfreq()\n",
    ")"
   ]
  },
  {
   "cell_type": "code",
   "execution_count": 4,
   "metadata": {},
   "outputs": [
    {
     "data": {
      "text/plain": [
       "2000-01-01 00:00:00     0\n",
       "2000-01-01 00:30:00    []\n",
       "2000-01-01 01:00:00    []\n",
       "2000-01-01 01:30:00    []\n",
       "2000-01-01 02:00:00    []\n",
       "                       ..\n",
       "2000-01-08 22:00:00    []\n",
       "2000-01-08 22:30:00    []\n",
       "2000-01-08 23:00:00    []\n",
       "2000-01-08 23:30:00    []\n",
       "2000-01-09 00:00:00     8\n",
       "Freq: 30T, Length: 385, dtype: object"
      ]
     },
     "execution_count": 4,
     "metadata": {},
     "output_type": "execute_result"
    }
   ],
   "source": [
    "series.resample(\"30T\").apply(\n",
    "    lambda x: x.resample(\"1ms\").asfreq().interpolate().resample(\"1s\").asfreq()\n",
    ")"
   ]
  },
  {
   "cell_type": "code",
   "execution_count": null,
   "metadata": {},
   "outputs": [],
   "source": []
  }
 ],
 "metadata": {
  "kernelspec": {
   "display_name": "py310",
   "language": "python",
   "name": "python3"
  },
  "language_info": {
   "codemirror_mode": {
    "name": "ipython",
    "version": 3
   },
   "file_extension": ".py",
   "mimetype": "text/x-python",
   "name": "python",
   "nbconvert_exporter": "python",
   "pygments_lexer": "ipython3",
   "version": "3.10.9"
  }
 },
 "nbformat": 4,
 "nbformat_minor": 2
}
