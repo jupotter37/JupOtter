{
  "nbformat": 4,
  "nbformat_minor": 0,
  "metadata": {
    "kernelspec": {
      "name": "python3",
      "display_name": "Python 3"
    },
    "colab": {
      "name": "Revisión_4_Solver.ipynb",
      "provenance": []
    },
    "accelerator": "GPU"
  },
  "cells": [
    {
      "cell_type": "markdown",
      "metadata": {
        "id": "KKoyPqtNt32g",
        "colab_type": "text"
      },
      "source": [
        "# Revisión Solver de Markowitz\n",
        "\n",
        "\n",
        "\n",
        "\n",
        "\n",
        "**Código revisado**"
      ]
    },
    {
      "cell_type": "markdown",
      "metadata": {
        "id": "KbhHhINgI-6g",
        "colab_type": "text"
      },
      "source": [
        "## Librerias necesarias"
      ]
    },
    {
      "cell_type": "code",
      "metadata": {
        "id": "us7A92uGt32h",
        "colab_type": "code",
        "outputId": "94be9ded-66c5-47b8-ea87-66771e7bb9ca",
        "colab": {
          "base_uri": "https://localhost:8080/",
          "height": 237
        }
      },
      "source": [
        "#Librerias necesarias\n",
        "!curl https://colab.chainer.org/install | sh -"
      ],
      "execution_count": 1,
      "outputs": [
        {
          "output_type": "stream",
          "text": [
            "  % Total    % Received % Xferd  Average Speed   Time    Time     Time  Current\n",
            "                                 Dload  Upload   Total   Spent    Left  Speed\n",
            "\r  0     0    0     0    0     0      0      0 --:--:-- --:--:-- --:--:--     0\r100  1580  100  1580    0     0  22571      0 --:--:-- --:--:-- --:--:-- 22571\n",
            "+ apt -y -q install cuda-libraries-dev-10-0\n",
            "Reading package lists...\n",
            "Building dependency tree...\n",
            "Reading state information...\n",
            "cuda-libraries-dev-10-0 is already the newest version (10.0.130-1).\n",
            "0 upgraded, 0 newly installed, 0 to remove and 29 not upgraded.\n",
            "+ pip install -q cupy-cuda100  chainer \n",
            "+ set +ex\n",
            "Installation succeeded!\n"
          ],
          "name": "stdout"
        }
      ]
    },
    {
      "cell_type": "code",
      "metadata": {
        "id": "yjK1BEwxt32k",
        "colab_type": "code",
        "outputId": "54e78a85-0a13-4076-bec8-80a30cea4ef0",
        "colab": {
          "base_uri": "https://localhost:8080/",
          "height": 74
        }
      },
      "source": [
        "\n",
        "import cupy as cp\n",
        "import numpy as np\n",
        "import pandas as pd\n",
        "import fix_yahoo_finance as yf\n",
        "import datetime\n",
        "import matplotlib.pyplot as plt\n",
        "import seaborn as sns\n",
        "import time"
      ],
      "execution_count": 2,
      "outputs": [
        {
          "output_type": "stream",
          "text": [
            "/usr/local/lib/python3.6/dist-packages/statsmodels/tools/_testing.py:19: FutureWarning: pandas.util.testing is deprecated. Use the functions in the public API at pandas.testing instead.\n",
            "  import pandas.util.testing as tm\n"
          ],
          "name": "stderr"
        }
      ]
    },
    {
      "cell_type": "markdown",
      "metadata": {
        "id": "ORBhSiN8u4nI",
        "colab_type": "text"
      },
      "source": [
        "A continuación creamos un arreglo con las acciones que utilizaremos."
      ]
    },
    {
      "cell_type": "code",
      "metadata": {
        "id": "lM2y8ZwDuyhg",
        "colab_type": "code",
        "colab": {}
      },
      "source": [
        "stocks = ['COP','AMT','LIN','LMT','AMZN','WMT','JNJ','VTI','MSFT','GOOG','XOM','CCI','BHP.AX','UNP',\n",
        "'BABA','NSRGY','RHHBY','VOO','AAPL','FB','CVX','PLD','RIO.L','HON','HD','PG','UNH','BRK-A','V','0700.HK',\n",
        "'RDSA.AS','0688.HK','AI.PA','RTX','MC.PA','KO','PFE','JPM','005930.KS','VZ','RELIANCE.NS','DLR','2010.SR',\n",
        "'UPS','7203.T','PEP','MRK','1398.HK','MA','T']"
      ],
      "execution_count": 0,
      "outputs": []
    },
    {
      "cell_type": "code",
      "metadata": {
        "id": "TQ22lFfPuykI",
        "colab_type": "code",
        "colab": {}
      },
      "source": [
        "def extraer_datos_yahoo(stocks):\n",
        "  '''\n",
        "  Funcion para extraer datos de los portafolios de yahoo finance de 2015-01-01 a 2020-04-30\n",
        "  '''\n",
        "  df_c = yf.download(stocks, start='2015-01-01', end='2020-04-30').Close\n",
        "  base = df_c['AAPL'].dropna().to_frame()\n",
        "  for i in range(0,50):\n",
        "      base = base.join(df_c.iloc[:,i].to_frame(), lsuffix='_caller', rsuffix='_other')\n",
        "  base = base.drop(columns=['AAPL_caller'])\n",
        "  base = base.rename(columns={\"AAPL_other\": \"AAPL\"})\n",
        "  base = base.fillna(method='ffill')\n",
        "  base = base.fillna(method='bfill')\n",
        "  return base"
      ],
      "execution_count": 0,
      "outputs": []
    },
    {
      "cell_type": "code",
      "metadata": {
        "id": "_mI7mv3Juyml",
        "colab_type": "code",
        "outputId": "0659e6b1-58be-4b84-eba8-3301be96c8b5",
        "colab": {
          "base_uri": "https://localhost:8080/",
          "height": 35
        }
      },
      "source": [
        "datos = extraer_datos_yahoo(stocks)"
      ],
      "execution_count": 5,
      "outputs": [
        {
          "output_type": "stream",
          "text": [
            "[*********************100%***********************]  50 of 50 downloaded\n"
          ],
          "name": "stdout"
        }
      ]
    },
    {
      "cell_type": "markdown",
      "metadata": {
        "id": "1p5m_FBLIOBC",
        "colab_type": "text"
      },
      "source": [
        "Revisamos los filas de los datos"
      ]
    },
    {
      "cell_type": "code",
      "metadata": {
        "id": "LEWBJ-5Dt32o",
        "colab_type": "code",
        "outputId": "9b2048d8-19fa-4d6a-c64d-434431ec9834",
        "colab": {
          "base_uri": "https://localhost:8080/",
          "height": 475
        }
      },
      "source": [
        "datos"
      ],
      "execution_count": 6,
      "outputs": [
        {
          "output_type": "execute_result",
          "data": {
            "text/html": [
              "<div>\n",
              "<style scoped>\n",
              "    .dataframe tbody tr th:only-of-type {\n",
              "        vertical-align: middle;\n",
              "    }\n",
              "\n",
              "    .dataframe tbody tr th {\n",
              "        vertical-align: top;\n",
              "    }\n",
              "\n",
              "    .dataframe thead th {\n",
              "        text-align: right;\n",
              "    }\n",
              "</style>\n",
              "<table border=\"1\" class=\"dataframe\">\n",
              "  <thead>\n",
              "    <tr style=\"text-align: right;\">\n",
              "      <th></th>\n",
              "      <th>005930.KS</th>\n",
              "      <th>0688.HK</th>\n",
              "      <th>0700.HK</th>\n",
              "      <th>1398.HK</th>\n",
              "      <th>2010.SR</th>\n",
              "      <th>7203.T</th>\n",
              "      <th>AAPL</th>\n",
              "      <th>AI.PA</th>\n",
              "      <th>AMT</th>\n",
              "      <th>AMZN</th>\n",
              "      <th>BABA</th>\n",
              "      <th>BHP.AX</th>\n",
              "      <th>BRK-A</th>\n",
              "      <th>CCI</th>\n",
              "      <th>COP</th>\n",
              "      <th>CVX</th>\n",
              "      <th>DLR</th>\n",
              "      <th>FB</th>\n",
              "      <th>GOOG</th>\n",
              "      <th>HD</th>\n",
              "      <th>HON</th>\n",
              "      <th>JNJ</th>\n",
              "      <th>JPM</th>\n",
              "      <th>KO</th>\n",
              "      <th>LIN</th>\n",
              "      <th>LMT</th>\n",
              "      <th>MA</th>\n",
              "      <th>MC.PA</th>\n",
              "      <th>MRK</th>\n",
              "      <th>MSFT</th>\n",
              "      <th>NSRGY</th>\n",
              "      <th>PEP</th>\n",
              "      <th>PFE</th>\n",
              "      <th>PG</th>\n",
              "      <th>PLD</th>\n",
              "      <th>RDSA.AS</th>\n",
              "      <th>RELIANCE.NS</th>\n",
              "      <th>RHHBY</th>\n",
              "      <th>RIO.L</th>\n",
              "      <th>RTX</th>\n",
              "      <th>T</th>\n",
              "      <th>UNH</th>\n",
              "      <th>UNP</th>\n",
              "      <th>UPS</th>\n",
              "      <th>V</th>\n",
              "      <th>VOO</th>\n",
              "      <th>VTI</th>\n",
              "      <th>VZ</th>\n",
              "      <th>WMT</th>\n",
              "      <th>XOM</th>\n",
              "    </tr>\n",
              "    <tr>\n",
              "      <th>Date</th>\n",
              "      <th></th>\n",
              "      <th></th>\n",
              "      <th></th>\n",
              "      <th></th>\n",
              "      <th></th>\n",
              "      <th></th>\n",
              "      <th></th>\n",
              "      <th></th>\n",
              "      <th></th>\n",
              "      <th></th>\n",
              "      <th></th>\n",
              "      <th></th>\n",
              "      <th></th>\n",
              "      <th></th>\n",
              "      <th></th>\n",
              "      <th></th>\n",
              "      <th></th>\n",
              "      <th></th>\n",
              "      <th></th>\n",
              "      <th></th>\n",
              "      <th></th>\n",
              "      <th></th>\n",
              "      <th></th>\n",
              "      <th></th>\n",
              "      <th></th>\n",
              "      <th></th>\n",
              "      <th></th>\n",
              "      <th></th>\n",
              "      <th></th>\n",
              "      <th></th>\n",
              "      <th></th>\n",
              "      <th></th>\n",
              "      <th></th>\n",
              "      <th></th>\n",
              "      <th></th>\n",
              "      <th></th>\n",
              "      <th></th>\n",
              "      <th></th>\n",
              "      <th></th>\n",
              "      <th></th>\n",
              "      <th></th>\n",
              "      <th></th>\n",
              "      <th></th>\n",
              "      <th></th>\n",
              "      <th></th>\n",
              "      <th></th>\n",
              "      <th></th>\n",
              "      <th></th>\n",
              "      <th></th>\n",
              "      <th></th>\n",
              "    </tr>\n",
              "  </thead>\n",
              "  <tbody>\n",
              "    <tr>\n",
              "      <th>2015-01-02</th>\n",
              "      <td>26600.0</td>\n",
              "      <td>24.704800</td>\n",
              "      <td>112.800003</td>\n",
              "      <td>5.77</td>\n",
              "      <td>79.500000</td>\n",
              "      <td>7507.0</td>\n",
              "      <td>109.330002</td>\n",
              "      <td>89.786400</td>\n",
              "      <td>99.669998</td>\n",
              "      <td>308.519989</td>\n",
              "      <td>103.599998</td>\n",
              "      <td>27.603399</td>\n",
              "      <td>223600.0</td>\n",
              "      <td>79.510002</td>\n",
              "      <td>68.919998</td>\n",
              "      <td>112.580002</td>\n",
              "      <td>66.410004</td>\n",
              "      <td>78.449997</td>\n",
              "      <td>523.373108</td>\n",
              "      <td>103.430000</td>\n",
              "      <td>95.556229</td>\n",
              "      <td>104.519997</td>\n",
              "      <td>62.490002</td>\n",
              "      <td>42.139999</td>\n",
              "      <td>129.949997</td>\n",
              "      <td>193.309998</td>\n",
              "      <td>85.680000</td>\n",
              "      <td>130.850006</td>\n",
              "      <td>57.189999</td>\n",
              "      <td>46.759998</td>\n",
              "      <td>72.650002</td>\n",
              "      <td>94.440002</td>\n",
              "      <td>31.330000</td>\n",
              "      <td>90.440002</td>\n",
              "      <td>43.430000</td>\n",
              "      <td>27.750000</td>\n",
              "      <td>442.774994</td>\n",
              "      <td>33.910000</td>\n",
              "      <td>2970.0</td>\n",
              "      <td>72.397736</td>\n",
              "      <td>33.869999</td>\n",
              "      <td>100.779999</td>\n",
              "      <td>118.610001</td>\n",
              "      <td>110.379997</td>\n",
              "      <td>66.254997</td>\n",
              "      <td>188.399994</td>\n",
              "      <td>105.919998</td>\n",
              "      <td>46.959999</td>\n",
              "      <td>85.900002</td>\n",
              "      <td>92.830002</td>\n",
              "    </tr>\n",
              "    <tr>\n",
              "      <th>2015-01-05</th>\n",
              "      <td>26660.0</td>\n",
              "      <td>24.951799</td>\n",
              "      <td>113.500000</td>\n",
              "      <td>5.80</td>\n",
              "      <td>79.500000</td>\n",
              "      <td>7507.0</td>\n",
              "      <td>106.250000</td>\n",
              "      <td>87.005997</td>\n",
              "      <td>98.230003</td>\n",
              "      <td>302.190002</td>\n",
              "      <td>101.000000</td>\n",
              "      <td>27.547300</td>\n",
              "      <td>220980.0</td>\n",
              "      <td>79.000000</td>\n",
              "      <td>65.639999</td>\n",
              "      <td>108.080002</td>\n",
              "      <td>67.690002</td>\n",
              "      <td>77.190002</td>\n",
              "      <td>512.463013</td>\n",
              "      <td>101.260002</td>\n",
              "      <td>93.735291</td>\n",
              "      <td>103.790001</td>\n",
              "      <td>60.549999</td>\n",
              "      <td>42.139999</td>\n",
              "      <td>126.519997</td>\n",
              "      <td>189.289993</td>\n",
              "      <td>83.269997</td>\n",
              "      <td>127.050003</td>\n",
              "      <td>58.040001</td>\n",
              "      <td>46.330002</td>\n",
              "      <td>70.959999</td>\n",
              "      <td>93.730003</td>\n",
              "      <td>31.160000</td>\n",
              "      <td>90.010002</td>\n",
              "      <td>43.400002</td>\n",
              "      <td>26.615000</td>\n",
              "      <td>437.924988</td>\n",
              "      <td>34.029999</td>\n",
              "      <td>2883.5</td>\n",
              "      <td>71.189430</td>\n",
              "      <td>33.549999</td>\n",
              "      <td>99.120003</td>\n",
              "      <td>114.599998</td>\n",
              "      <td>108.169998</td>\n",
              "      <td>64.792503</td>\n",
              "      <td>185.089996</td>\n",
              "      <td>104.099998</td>\n",
              "      <td>46.570000</td>\n",
              "      <td>85.650002</td>\n",
              "      <td>90.290001</td>\n",
              "    </tr>\n",
              "    <tr>\n",
              "      <th>2015-01-06</th>\n",
              "      <td>25900.0</td>\n",
              "      <td>24.605900</td>\n",
              "      <td>120.000000</td>\n",
              "      <td>5.71</td>\n",
              "      <td>77.000000</td>\n",
              "      <td>7300.0</td>\n",
              "      <td>106.260002</td>\n",
              "      <td>86.279999</td>\n",
              "      <td>97.970001</td>\n",
              "      <td>295.290009</td>\n",
              "      <td>103.320000</td>\n",
              "      <td>26.267099</td>\n",
              "      <td>220450.0</td>\n",
              "      <td>78.849998</td>\n",
              "      <td>62.930000</td>\n",
              "      <td>108.029999</td>\n",
              "      <td>67.480003</td>\n",
              "      <td>76.150002</td>\n",
              "      <td>500.585632</td>\n",
              "      <td>100.949997</td>\n",
              "      <td>93.516014</td>\n",
              "      <td>103.279999</td>\n",
              "      <td>58.980000</td>\n",
              "      <td>42.459999</td>\n",
              "      <td>124.900002</td>\n",
              "      <td>188.399994</td>\n",
              "      <td>83.089996</td>\n",
              "      <td>125.599998</td>\n",
              "      <td>60.320000</td>\n",
              "      <td>45.650002</td>\n",
              "      <td>70.610001</td>\n",
              "      <td>93.019997</td>\n",
              "      <td>31.420000</td>\n",
              "      <td>89.599998</td>\n",
              "      <td>43.549999</td>\n",
              "      <td>26.514999</td>\n",
              "      <td>418.049988</td>\n",
              "      <td>33.900002</td>\n",
              "      <td>2944.5</td>\n",
              "      <td>70.182503</td>\n",
              "      <td>33.599998</td>\n",
              "      <td>98.919998</td>\n",
              "      <td>112.230003</td>\n",
              "      <td>107.459999</td>\n",
              "      <td>64.375000</td>\n",
              "      <td>183.270004</td>\n",
              "      <td>103.080002</td>\n",
              "      <td>47.040001</td>\n",
              "      <td>86.309998</td>\n",
              "      <td>89.809998</td>\n",
              "    </tr>\n",
              "    <tr>\n",
              "      <th>2015-01-07</th>\n",
              "      <td>26140.0</td>\n",
              "      <td>24.507099</td>\n",
              "      <td>124.400002</td>\n",
              "      <td>5.75</td>\n",
              "      <td>78.250000</td>\n",
              "      <td>7407.0</td>\n",
              "      <td>107.750000</td>\n",
              "      <td>86.669601</td>\n",
              "      <td>99.000000</td>\n",
              "      <td>298.420013</td>\n",
              "      <td>102.129997</td>\n",
              "      <td>26.267099</td>\n",
              "      <td>223480.0</td>\n",
              "      <td>80.500000</td>\n",
              "      <td>63.349998</td>\n",
              "      <td>107.940002</td>\n",
              "      <td>68.019997</td>\n",
              "      <td>76.150002</td>\n",
              "      <td>499.727997</td>\n",
              "      <td>104.410004</td>\n",
              "      <td>94.192909</td>\n",
              "      <td>105.559998</td>\n",
              "      <td>59.070000</td>\n",
              "      <td>42.990002</td>\n",
              "      <td>126.300003</td>\n",
              "      <td>190.830002</td>\n",
              "      <td>84.220001</td>\n",
              "      <td>125.699997</td>\n",
              "      <td>61.610001</td>\n",
              "      <td>46.230000</td>\n",
              "      <td>70.750000</td>\n",
              "      <td>95.739998</td>\n",
              "      <td>31.850000</td>\n",
              "      <td>90.070000</td>\n",
              "      <td>44.209999</td>\n",
              "      <td>26.870001</td>\n",
              "      <td>427.149994</td>\n",
              "      <td>33.990002</td>\n",
              "      <td>2962.5</td>\n",
              "      <td>70.943993</td>\n",
              "      <td>33.169998</td>\n",
              "      <td>99.930000</td>\n",
              "      <td>112.849998</td>\n",
              "      <td>108.459999</td>\n",
              "      <td>65.237503</td>\n",
              "      <td>185.559998</td>\n",
              "      <td>104.309998</td>\n",
              "      <td>46.189999</td>\n",
              "      <td>88.599998</td>\n",
              "      <td>90.720001</td>\n",
              "    </tr>\n",
              "    <tr>\n",
              "      <th>2015-01-08</th>\n",
              "      <td>26280.0</td>\n",
              "      <td>23.864799</td>\n",
              "      <td>127.300003</td>\n",
              "      <td>5.72</td>\n",
              "      <td>79.250000</td>\n",
              "      <td>7554.0</td>\n",
              "      <td>111.889999</td>\n",
              "      <td>90.317703</td>\n",
              "      <td>99.919998</td>\n",
              "      <td>300.459991</td>\n",
              "      <td>105.029999</td>\n",
              "      <td>26.519400</td>\n",
              "      <td>226680.0</td>\n",
              "      <td>81.769997</td>\n",
              "      <td>64.930000</td>\n",
              "      <td>110.410004</td>\n",
              "      <td>68.910004</td>\n",
              "      <td>78.180000</td>\n",
              "      <td>501.303680</td>\n",
              "      <td>106.720001</td>\n",
              "      <td>95.908974</td>\n",
              "      <td>106.389999</td>\n",
              "      <td>60.389999</td>\n",
              "      <td>43.509998</td>\n",
              "      <td>128.380005</td>\n",
              "      <td>195.130005</td>\n",
              "      <td>85.529999</td>\n",
              "      <td>129.649994</td>\n",
              "      <td>62.849998</td>\n",
              "      <td>47.590000</td>\n",
              "      <td>71.459999</td>\n",
              "      <td>97.480003</td>\n",
              "      <td>32.500000</td>\n",
              "      <td>91.099998</td>\n",
              "      <td>44.220001</td>\n",
              "      <td>27.495001</td>\n",
              "      <td>421.024994</td>\n",
              "      <td>34.279999</td>\n",
              "      <td>3027.5</td>\n",
              "      <td>72.152298</td>\n",
              "      <td>33.500000</td>\n",
              "      <td>104.699997</td>\n",
              "      <td>117.080002</td>\n",
              "      <td>110.410004</td>\n",
              "      <td>66.112503</td>\n",
              "      <td>188.820007</td>\n",
              "      <td>106.150002</td>\n",
              "      <td>47.180000</td>\n",
              "      <td>90.470001</td>\n",
              "      <td>92.230003</td>\n",
              "    </tr>\n",
              "    <tr>\n",
              "      <th>...</th>\n",
              "      <td>...</td>\n",
              "      <td>...</td>\n",
              "      <td>...</td>\n",
              "      <td>...</td>\n",
              "      <td>...</td>\n",
              "      <td>...</td>\n",
              "      <td>...</td>\n",
              "      <td>...</td>\n",
              "      <td>...</td>\n",
              "      <td>...</td>\n",
              "      <td>...</td>\n",
              "      <td>...</td>\n",
              "      <td>...</td>\n",
              "      <td>...</td>\n",
              "      <td>...</td>\n",
              "      <td>...</td>\n",
              "      <td>...</td>\n",
              "      <td>...</td>\n",
              "      <td>...</td>\n",
              "      <td>...</td>\n",
              "      <td>...</td>\n",
              "      <td>...</td>\n",
              "      <td>...</td>\n",
              "      <td>...</td>\n",
              "      <td>...</td>\n",
              "      <td>...</td>\n",
              "      <td>...</td>\n",
              "      <td>...</td>\n",
              "      <td>...</td>\n",
              "      <td>...</td>\n",
              "      <td>...</td>\n",
              "      <td>...</td>\n",
              "      <td>...</td>\n",
              "      <td>...</td>\n",
              "      <td>...</td>\n",
              "      <td>...</td>\n",
              "      <td>...</td>\n",
              "      <td>...</td>\n",
              "      <td>...</td>\n",
              "      <td>...</td>\n",
              "      <td>...</td>\n",
              "      <td>...</td>\n",
              "      <td>...</td>\n",
              "      <td>...</td>\n",
              "      <td>...</td>\n",
              "      <td>...</td>\n",
              "      <td>...</td>\n",
              "      <td>...</td>\n",
              "      <td>...</td>\n",
              "      <td>...</td>\n",
              "    </tr>\n",
              "    <tr>\n",
              "      <th>2020-04-23</th>\n",
              "      <td>52100.0</td>\n",
              "      <td>26.200001</td>\n",
              "      <td>411.600006</td>\n",
              "      <td>5.06</td>\n",
              "      <td>70.300003</td>\n",
              "      <td>6570.0</td>\n",
              "      <td>275.029999</td>\n",
              "      <td>117.599998</td>\n",
              "      <td>248.600006</td>\n",
              "      <td>2399.449951</td>\n",
              "      <td>205.240005</td>\n",
              "      <td>29.750000</td>\n",
              "      <td>278750.0</td>\n",
              "      <td>160.550003</td>\n",
              "      <td>36.180000</td>\n",
              "      <td>86.800003</td>\n",
              "      <td>148.529999</td>\n",
              "      <td>185.130005</td>\n",
              "      <td>1276.310059</td>\n",
              "      <td>202.320007</td>\n",
              "      <td>134.679993</td>\n",
              "      <td>155.509995</td>\n",
              "      <td>89.389999</td>\n",
              "      <td>45.070000</td>\n",
              "      <td>181.300003</td>\n",
              "      <td>376.730011</td>\n",
              "      <td>255.860001</td>\n",
              "      <td>348.649994</td>\n",
              "      <td>80.879997</td>\n",
              "      <td>171.419998</td>\n",
              "      <td>106.000000</td>\n",
              "      <td>130.259995</td>\n",
              "      <td>36.689999</td>\n",
              "      <td>119.400002</td>\n",
              "      <td>86.750000</td>\n",
              "      <td>16.521999</td>\n",
              "      <td>1370.900024</td>\n",
              "      <td>44.180000</td>\n",
              "      <td>3783.0</td>\n",
              "      <td>63.290001</td>\n",
              "      <td>29.500000</td>\n",
              "      <td>285.329987</td>\n",
              "      <td>152.289993</td>\n",
              "      <td>99.449997</td>\n",
              "      <td>166.380005</td>\n",
              "      <td>256.420013</td>\n",
              "      <td>139.550003</td>\n",
              "      <td>57.590000</td>\n",
              "      <td>128.529999</td>\n",
              "      <td>43.450001</td>\n",
              "    </tr>\n",
              "    <tr>\n",
              "      <th>2020-04-24</th>\n",
              "      <td>52100.0</td>\n",
              "      <td>26.100000</td>\n",
              "      <td>406.399994</td>\n",
              "      <td>5.06</td>\n",
              "      <td>70.300003</td>\n",
              "      <td>6543.0</td>\n",
              "      <td>282.970001</td>\n",
              "      <td>115.300003</td>\n",
              "      <td>244.610001</td>\n",
              "      <td>2410.219971</td>\n",
              "      <td>204.360001</td>\n",
              "      <td>30.540001</td>\n",
              "      <td>279460.0</td>\n",
              "      <td>161.610001</td>\n",
              "      <td>36.090000</td>\n",
              "      <td>87.010002</td>\n",
              "      <td>150.029999</td>\n",
              "      <td>190.070007</td>\n",
              "      <td>1279.310059</td>\n",
              "      <td>212.179993</td>\n",
              "      <td>135.520004</td>\n",
              "      <td>154.860001</td>\n",
              "      <td>90.709999</td>\n",
              "      <td>45.430000</td>\n",
              "      <td>181.470001</td>\n",
              "      <td>381.769989</td>\n",
              "      <td>258.760010</td>\n",
              "      <td>340.850006</td>\n",
              "      <td>81.430000</td>\n",
              "      <td>174.550003</td>\n",
              "      <td>109.220001</td>\n",
              "      <td>134.360001</td>\n",
              "      <td>37.380001</td>\n",
              "      <td>118.779999</td>\n",
              "      <td>89.040001</td>\n",
              "      <td>15.978000</td>\n",
              "      <td>1417.000000</td>\n",
              "      <td>45.060001</td>\n",
              "      <td>3750.0</td>\n",
              "      <td>63.430000</td>\n",
              "      <td>29.709999</td>\n",
              "      <td>291.290009</td>\n",
              "      <td>156.089996</td>\n",
              "      <td>100.180000</td>\n",
              "      <td>167.320007</td>\n",
              "      <td>260.140015</td>\n",
              "      <td>141.630005</td>\n",
              "      <td>57.930000</td>\n",
              "      <td>129.440002</td>\n",
              "      <td>43.730000</td>\n",
              "    </tr>\n",
              "    <tr>\n",
              "      <th>2020-04-27</th>\n",
              "      <td>52100.0</td>\n",
              "      <td>26.950001</td>\n",
              "      <td>413.000000</td>\n",
              "      <td>5.18</td>\n",
              "      <td>71.400002</td>\n",
              "      <td>6659.0</td>\n",
              "      <td>283.170013</td>\n",
              "      <td>117.699997</td>\n",
              "      <td>250.220001</td>\n",
              "      <td>2376.000000</td>\n",
              "      <td>203.690002</td>\n",
              "      <td>30.500000</td>\n",
              "      <td>281264.0</td>\n",
              "      <td>163.800003</td>\n",
              "      <td>37.150002</td>\n",
              "      <td>89.709999</td>\n",
              "      <td>154.229996</td>\n",
              "      <td>187.500000</td>\n",
              "      <td>1275.880005</td>\n",
              "      <td>217.759995</td>\n",
              "      <td>139.880005</td>\n",
              "      <td>154.289993</td>\n",
              "      <td>94.620003</td>\n",
              "      <td>46.779999</td>\n",
              "      <td>184.580002</td>\n",
              "      <td>378.570007</td>\n",
              "      <td>265.119995</td>\n",
              "      <td>350.950012</td>\n",
              "      <td>83.980003</td>\n",
              "      <td>174.050003</td>\n",
              "      <td>107.040001</td>\n",
              "      <td>134.460007</td>\n",
              "      <td>38.330002</td>\n",
              "      <td>117.449997</td>\n",
              "      <td>91.839996</td>\n",
              "      <td>16.250000</td>\n",
              "      <td>1429.750000</td>\n",
              "      <td>44.889999</td>\n",
              "      <td>3760.5</td>\n",
              "      <td>65.070000</td>\n",
              "      <td>30.540001</td>\n",
              "      <td>293.980011</td>\n",
              "      <td>158.960007</td>\n",
              "      <td>102.550003</td>\n",
              "      <td>171.759995</td>\n",
              "      <td>263.899994</td>\n",
              "      <td>144.139999</td>\n",
              "      <td>57.810001</td>\n",
              "      <td>128.300003</td>\n",
              "      <td>43.939999</td>\n",
              "    </tr>\n",
              "    <tr>\n",
              "      <th>2020-04-28</th>\n",
              "      <td>52100.0</td>\n",
              "      <td>27.900000</td>\n",
              "      <td>417.200012</td>\n",
              "      <td>5.25</td>\n",
              "      <td>71.300003</td>\n",
              "      <td>6685.0</td>\n",
              "      <td>278.579987</td>\n",
              "      <td>119.599998</td>\n",
              "      <td>243.529999</td>\n",
              "      <td>2314.080078</td>\n",
              "      <td>201.149994</td>\n",
              "      <td>30.490000</td>\n",
              "      <td>280600.0</td>\n",
              "      <td>161.259995</td>\n",
              "      <td>38.480000</td>\n",
              "      <td>89.910004</td>\n",
              "      <td>154.149994</td>\n",
              "      <td>182.910004</td>\n",
              "      <td>1233.670044</td>\n",
              "      <td>217.630005</td>\n",
              "      <td>142.759995</td>\n",
              "      <td>151.389999</td>\n",
              "      <td>95.290001</td>\n",
              "      <td>46.740002</td>\n",
              "      <td>186.880005</td>\n",
              "      <td>384.730011</td>\n",
              "      <td>264.600006</td>\n",
              "      <td>357.000000</td>\n",
              "      <td>81.180000</td>\n",
              "      <td>169.809998</td>\n",
              "      <td>106.459999</td>\n",
              "      <td>136.320007</td>\n",
              "      <td>37.910000</td>\n",
              "      <td>116.889999</td>\n",
              "      <td>89.589996</td>\n",
              "      <td>16.672001</td>\n",
              "      <td>1428.150024</td>\n",
              "      <td>45.279999</td>\n",
              "      <td>3772.0</td>\n",
              "      <td>65.389999</td>\n",
              "      <td>30.650000</td>\n",
              "      <td>288.359985</td>\n",
              "      <td>161.360001</td>\n",
              "      <td>96.430000</td>\n",
              "      <td>171.250000</td>\n",
              "      <td>262.679993</td>\n",
              "      <td>143.690002</td>\n",
              "      <td>57.830002</td>\n",
              "      <td>128.000000</td>\n",
              "      <td>44.970001</td>\n",
              "    </tr>\n",
              "    <tr>\n",
              "      <th>2020-04-29</th>\n",
              "      <td>52100.0</td>\n",
              "      <td>28.450001</td>\n",
              "      <td>417.000000</td>\n",
              "      <td>5.27</td>\n",
              "      <td>71.800003</td>\n",
              "      <td>6685.0</td>\n",
              "      <td>287.730011</td>\n",
              "      <td>120.150002</td>\n",
              "      <td>236.809998</td>\n",
              "      <td>2372.709961</td>\n",
              "      <td>206.699997</td>\n",
              "      <td>31.120001</td>\n",
              "      <td>284749.0</td>\n",
              "      <td>155.440002</td>\n",
              "      <td>42.209999</td>\n",
              "      <td>94.620003</td>\n",
              "      <td>148.610001</td>\n",
              "      <td>194.190002</td>\n",
              "      <td>1341.479980</td>\n",
              "      <td>221.809998</td>\n",
              "      <td>146.160004</td>\n",
              "      <td>150.240005</td>\n",
              "      <td>97.860001</td>\n",
              "      <td>47.119999</td>\n",
              "      <td>188.690002</td>\n",
              "      <td>387.910004</td>\n",
              "      <td>283.690002</td>\n",
              "      <td>359.799988</td>\n",
              "      <td>80.769997</td>\n",
              "      <td>177.429993</td>\n",
              "      <td>105.510002</td>\n",
              "      <td>133.360001</td>\n",
              "      <td>38.119999</td>\n",
              "      <td>117.080002</td>\n",
              "      <td>90.160004</td>\n",
              "      <td>17.280001</td>\n",
              "      <td>1426.949951</td>\n",
              "      <td>43.779999</td>\n",
              "      <td>3943.0</td>\n",
              "      <td>67.900002</td>\n",
              "      <td>31.430000</td>\n",
              "      <td>287.649994</td>\n",
              "      <td>163.050003</td>\n",
              "      <td>96.110001</td>\n",
              "      <td>181.789993</td>\n",
              "      <td>269.450012</td>\n",
              "      <td>147.759995</td>\n",
              "      <td>58.119999</td>\n",
              "      <td>123.599998</td>\n",
              "      <td>47.459999</td>\n",
              "    </tr>\n",
              "  </tbody>\n",
              "</table>\n",
              "<p>1340 rows × 50 columns</p>\n",
              "</div>"
            ],
            "text/plain": [
              "            005930.KS    0688.HK     0700.HK  ...         VZ         WMT        XOM\n",
              "Date                                          ...                                  \n",
              "2015-01-02    26600.0  24.704800  112.800003  ...  46.959999   85.900002  92.830002\n",
              "2015-01-05    26660.0  24.951799  113.500000  ...  46.570000   85.650002  90.290001\n",
              "2015-01-06    25900.0  24.605900  120.000000  ...  47.040001   86.309998  89.809998\n",
              "2015-01-07    26140.0  24.507099  124.400002  ...  46.189999   88.599998  90.720001\n",
              "2015-01-08    26280.0  23.864799  127.300003  ...  47.180000   90.470001  92.230003\n",
              "...               ...        ...         ...  ...        ...         ...        ...\n",
              "2020-04-23    52100.0  26.200001  411.600006  ...  57.590000  128.529999  43.450001\n",
              "2020-04-24    52100.0  26.100000  406.399994  ...  57.930000  129.440002  43.730000\n",
              "2020-04-27    52100.0  26.950001  413.000000  ...  57.810001  128.300003  43.939999\n",
              "2020-04-28    52100.0  27.900000  417.200012  ...  57.830002  128.000000  44.970001\n",
              "2020-04-29    52100.0  28.450001  417.000000  ...  58.119999  123.599998  47.459999\n",
              "\n",
              "[1340 rows x 50 columns]"
            ]
          },
          "metadata": {
            "tags": []
          },
          "execution_count": 6
        }
      ]
    },
    {
      "cell_type": "markdown",
      "metadata": {
        "id": "iwcmsNmoImTs",
        "colab_type": "text"
      },
      "source": [
        "## Funciones auxiliares\n"
      ]
    },
    {
      "cell_type": "code",
      "metadata": {
        "id": "Cwt8fFbbITDQ",
        "colab_type": "code",
        "colab": {}
      },
      "source": [
        "def calcular_rendimiento_vector(x):\n",
        "  \"\"\"\n",
        "  Función para calcular el rendimiento esperado\n",
        "\n",
        "  params:\n",
        "      x     vector de precios\n",
        "  \n",
        "  return:\n",
        "      r_est rendimiento esperado diario\n",
        "  \"\"\"\n",
        "\n",
        "  # Definimos precios iniciales y finales como arreglo alojado en la gpu\n",
        "  x_o = cp.asarray(x)\n",
        "  x_f = x_o[1:]\n",
        "\n",
        "  # Calculamos los rendimientos diarios\n",
        "  r = cp.log(x_f/x_o[:-1])\n",
        "\n",
        "  return r"
      ],
      "execution_count": 0,
      "outputs": []
    },
    {
      "cell_type": "code",
      "metadata": {
        "id": "IY-hBU-LIquO",
        "colab_type": "code",
        "colab": {}
      },
      "source": [
        "def calcular_rendimiento(X):\n",
        "  \"\"\"\n",
        "  Función para calcular el rendimiento esperado para un conjunto de acciones\n",
        "\n",
        "  params:\n",
        "      X      matriz mxn de precios, donde:\n",
        "             m es el número de observaciones y\n",
        "             n el número de acciones\n",
        "  \n",
        "  return:\n",
        "      r_est rvector de rendimientos esperados\n",
        "  \"\"\"\n",
        "  m,n = X.shape\n",
        "  r_est = cp.zeros(n)\n",
        "  X = cp.asarray(X)\n",
        "\n",
        "  for i in range(n):\n",
        "    r_est[i] = calcular_rendimiento_vector(X[:,i]).mean()\n",
        "\n",
        "  return 264*r_est"
      ],
      "execution_count": 0,
      "outputs": []
    },
    {
      "cell_type": "code",
      "metadata": {
        "id": "hjcUW7DPItbf",
        "colab_type": "code",
        "colab": {}
      },
      "source": [
        "def calcular_varianza(X):\n",
        "\n",
        "  \"\"\"\n",
        "  Función para calcular el la matriz de varianzas y covarianzas para un conjunto de acciones\n",
        "\n",
        "  params:\n",
        "      X      matriz mxn de precios, donde:\n",
        "             m es el número de observaciones y\n",
        "               n el número de acciones\n",
        "  \n",
        "  return:\n",
        "      S  matriz de varianzas y covarianzas\n",
        "  \"\"\"\n",
        "  m,n=X.shape\n",
        "  X = cp.asarray(X)\n",
        "\n",
        "  X_m = cp.zeros((m-1,n))\n",
        "\n",
        "  for i in range(n):\n",
        "    X_m[:,i] = calcular_rendimiento_vector(X[:,i]) - calcular_rendimiento_vector(X[:,i]).mean()\n",
        "\n",
        "  S = (cp.transpose(X_m)@X_m)/(m-2)\n",
        "\n",
        "  return S"
      ],
      "execution_count": 0,
      "outputs": []
    },
    {
      "cell_type": "markdown",
      "metadata": {
        "id": "tzPyHwaaI3EI",
        "colab_type": "text"
      },
      "source": [
        "## Solución del modelo de Markowitz"
      ]
    },
    {
      "cell_type": "code",
      "metadata": {
        "id": "XKz05FuwIwBv",
        "colab_type": "code",
        "colab": {}
      },
      "source": [
        "def formar_vectores(mu, Sigma):\n",
        "  '''\n",
        "  Calcula las cantidades u = \\Sigma^{-1}  \\mu y v := \\Sigma^{-1} \\cdot 1 del problema de Markowitz\n",
        "\n",
        "  Args:\n",
        "    mu (cupy array, vector): valores medios esperados de activos (dimension n)\n",
        "    Sigma (cupy array, matriz): matriz de covarianzas asociada a activos (dimension n x n)\n",
        "\n",
        "  Return:\n",
        "    u (cupy array, escalar): vector dado por \\cdot Sigma^-1 \\cdot mu (dimension n)\n",
        "    v (cupy array, escalar): vector dado por Sigma^-1 \\cdot 1 (dimension n)\n",
        "  '''\n",
        "\n",
        "  # Vector auxiliar con entradas igual a 1\n",
        "  n = Sigma.shape[0]\n",
        "  ones_vector = cp.ones(n)\n",
        "\n",
        "  # Formamos vector \\cdot Sigma^-1 mu y Sigm^-1 1\n",
        "  # Nota: \n",
        "  #   1) u= Sigma^-1 \\cdot mu se obtiene resolviendo  Sigma u = mu\n",
        "  #   2) v= Sigma^-1 \\cdot 1 se obtiene resolviendo  Sigma v = 1\n",
        "\n",
        "  # Obtiene vectores de interes\n",
        "  u = cp.linalg.solve(Sigma, mu)\n",
        "  u = u.transpose() # correcion de expresion de array\n",
        "  v = cp.linalg.solve(Sigma, ones_vector)\n",
        "\n",
        "  return u , v"
      ],
      "execution_count": 0,
      "outputs": []
    },
    {
      "cell_type": "code",
      "metadata": {
        "id": "-V4aw_96Jppv",
        "colab_type": "code",
        "colab": {}
      },
      "source": [
        "def formar_abc(mu, Sigma):\n",
        "  '''\n",
        "  Calcula las cantidades A, B y C del diagrama de flujo del problema de Markowitz\n",
        "\n",
        "  Args:\n",
        "    mu (cupy array, vector): valores medios esperados de activos (dimension n)\n",
        "    Sigma (cupy array, matriz): matriz de covarianzas asociada a activos (dimension n x n)\n",
        "\n",
        "  Return:\n",
        "    A (cupy array, escalar): escalar dado por mu^t \\cdot Sigma^-1 \\cdot mu\n",
        "    B (cupy array, escalar): escalar dado por 1^t \\cdot Sigma^-1 \\cdot 1\n",
        "    C (cupy array, escalar): escalar dado por 1^t \\cdot Sigma^-1 \\cdot mu\n",
        "  '''\n",
        "\n",
        "  # Vector auxiliar con entradas igual a 1\n",
        "  n = Sigma.shape[0]\n",
        "  ones_vector = cp.ones(n)\n",
        "\n",
        "  # Formamos vector \\cdot Sigma^-1 mu y Sigm^-1 1\n",
        "  # Nota: \n",
        "  #   1) u= Sigma^-1 \\cdot mu se obtiene resolviendo  Sigma u = mu\n",
        "  #   2) v= Sigma^-1 \\cdot 1 se obtiene resolviendo  Sigma v = 1\n",
        "\n",
        "  u, v = formar_vectores(mu, Sigma)\n",
        "\n",
        "  # Obtiene escalares de interes\n",
        "  A = mu.transpose()@u\n",
        "  B = ones_vector.transpose()@v\n",
        "  C = ones_vector.transpose()@u\n",
        "\n",
        "  return A, B, C"
      ],
      "execution_count": 0,
      "outputs": []
    },
    {
      "cell_type": "code",
      "metadata": {
        "id": "rOelvZUdJsRS",
        "colab_type": "code",
        "colab": {}
      },
      "source": [
        "def delta(A,B,C):\n",
        "  '''\n",
        "  Calcula las cantidad Delta = AB-C^2 del diagrama de flujo del problema de Markowitz\n",
        "\n",
        "  Args:\n",
        "    A (cupy array, escalar): escalar dado por mu^t \\cdot Sigma^-1 \\cdot mu\n",
        "    B (cupy array, escalar): escalar dado por 1^t \\cdot Sigma^-1 \\cdot 1\n",
        "    C (cupy array, escalar): escalar dado por 1^t \\cdot Sigma^-1 \\cdot mu\n",
        "\n",
        "  Return:\n",
        "    Delta (cupy array, escalar): escalar dado \\mu^t \\cdot \\Sigma^{-1} \\cdot \\mu\n",
        "  '''\n",
        "  Delta = A*B-C**2\n",
        "\n",
        "  return Delta"
      ],
      "execution_count": 0,
      "outputs": []
    },
    {
      "cell_type": "code",
      "metadata": {
        "id": "4kWLLJcwJvAH",
        "colab_type": "code",
        "colab": {}
      },
      "source": [
        "def formar_omegas(r, mu, Sigma):\n",
        "  '''\n",
        "  Calcula las cantidades w_o y w_ del problema de Markowitz\n",
        "\n",
        "  Args:\n",
        "    mu (cupy array, vector): valores medios esperados de activos (dimension n)\n",
        "    Sigma (cupy array, matriz): matriz de covarianzas asociada a activos (dimension n x n)\n",
        "\n",
        "  Return:\n",
        "    w_0 (cupy array, matriz): matriz dada por \n",
        "          w_0 = \\frac{1}{\\Delta} (B \\Sigma^{-1} \\hat{\\mu}- C\\Sigma^{-1} 1) \n",
        "    w_1 (cupy array, vector): vector dado por \n",
        "         w_1 = \\frac{1}{\\Delta} (C \\Sigma^{-1} \\hat{\\mu}- A\\Sigma^{-1} 1)\n",
        "  '''\n",
        "  # Obtenemos u = Sigma^{-1} \\hat{\\mu}, v = \\Sigma^{-1} 1\n",
        "  u, v = formar_vectores(mu, Sigma)\n",
        "  # Escalares relevantes\n",
        "  A, B, C = formar_abc(mu, Sigma)\n",
        "  Delta = delta(A,B,C)\n",
        "  # Formamos w_0 y w_1\n",
        "  w_0 = (1/Delta)*(r*B-C)\n",
        "  w_1 = (1/Delta)*(A-C*r)\n",
        "\n",
        "  return w_0, w_1\n"
      ],
      "execution_count": 0,
      "outputs": []
    },
    {
      "cell_type": "code",
      "metadata": {
        "id": "2p33b3N8JxjH",
        "colab_type": "code",
        "colab": {}
      },
      "source": [
        "def markowitz(r, mu, Sigma):\n",
        "  '''\n",
        "  Calcula las cantidades w_o y w_ del problema de Markowitz\n",
        "\n",
        "  Args:\n",
        "    mu (cupy array, vector): valores medios esperados de activos (dimension n)\n",
        "    Sigma (cupy array, matriz): matriz de covarianzas asociada a activos (dimension n x n)\n",
        "\n",
        "  Return:\n",
        "    w_0 (cupy array, matriz): matriz dada por \n",
        "          w_0 = \\frac{1}{\\Delta} (B \\Sigma^{-1} \\hat{\\mu}- C\\Sigma^{-1} 1) \n",
        "    w_1 (cupy array, vector): vector dado por \n",
        "         w_1 = \\frac{1}{\\Delta} (C \\Sigma^{-1} \\hat{\\mu}- A\\Sigma^{-1} 1)\n",
        "  '''\n",
        "  # Obtenemos u = Sigma^{-1} \\hat{\\mu}, v = \\Sigma^{-1} 1\n",
        "  u, v = formar_vectores(mu, Sigma)\n",
        "\n",
        "  # Formamos w_0 y w_1\n",
        "  w_0, w_1 = formar_omegas(r, mu, Sigma)\n",
        "\n",
        "  return w_0*u+w_1*v\n"
      ],
      "execution_count": 0,
      "outputs": []
    },
    {
      "cell_type": "markdown",
      "metadata": {
        "id": "pOrZSvs2J2tA",
        "colab_type": "text"
      },
      "source": [
        "## Revisón"
      ]
    },
    {
      "cell_type": "markdown",
      "metadata": {
        "id": "y4cFFndarfSm",
        "colab_type": "text"
      },
      "source": [
        "**1. Documentación**\n",
        "\n",
        "La Documentación expresa de manera clara, consica y breve lo que hace el código. De igual forma se explica de manera clara y concisa los argumentos de entrada y salida. La documentación es completa.\n",
        "\n",
        "**2. Cumplimiento de objetivos del código**\n",
        "\n",
        "La función cumple con el objetivo devolviendo una matriz y un vector de pesos w.\n",
        "\n",
        "**3. Test**\n",
        "\n",
        "Objetivo: verificar el desempeño del código con diferentes números de activos y rendimientos, y verificar que los pesos sumen 1.\n"
      ]
    },
    {
      "cell_type": "code",
      "metadata": {
        "id": "KFAWZpZxxpcI",
        "colab_type": "code",
        "colab": {}
      },
      "source": [
        "datos_1 = cp.random.uniform(1,1000,10**3).reshape(10**2,10)\n",
        "sigma_1 = calcular_varianza(datos_1)\n",
        "mu_1 = calcular_rendimiento(datos_1)\n",
        "r_11 = cp.mean(mu_1)**2\n",
        "r_12 = max(mu_1)"
      ],
      "execution_count": 0,
      "outputs": []
    },
    {
      "cell_type": "code",
      "metadata": {
        "id": "hJLAXPZCyLsS",
        "colab_type": "code",
        "colab": {}
      },
      "source": [
        "w_11 = markowitz(r_11,mu_1,sigma_1)\n",
        "w_12 = markowitz(r_12,mu_1,sigma_1)"
      ],
      "execution_count": 0,
      "outputs": []
    },
    {
      "cell_type": "markdown",
      "metadata": {
        "id": "EC0PyDMP1FUC",
        "colab_type": "text"
      },
      "source": [
        "Verificamos que la suma de las $\\sum w's=1$ y el error absoluto"
      ]
    },
    {
      "cell_type": "code",
      "metadata": {
        "id": "B1vb7UhHzYbf",
        "colab_type": "code",
        "outputId": "cb09b662-8602-417c-9af9-b32f4d212f99",
        "colab": {
          "base_uri": "https://localhost:8080/",
          "height": 35
        }
      },
      "source": [
        "sum(w_11)"
      ],
      "execution_count": 18,
      "outputs": [
        {
          "output_type": "execute_result",
          "data": {
            "text/plain": [
              "array(1.)"
            ]
          },
          "metadata": {
            "tags": []
          },
          "execution_count": 18
        }
      ]
    },
    {
      "cell_type": "code",
      "metadata": {
        "id": "HQU5wW93LxqN",
        "colab_type": "code",
        "outputId": "a66da6e5-0182-46c6-9777-136e91fa8fa1",
        "colab": {
          "base_uri": "https://localhost:8080/",
          "height": 35
        }
      },
      "source": [
        "abs((sum(w_11)-1)/sum(w_11))"
      ],
      "execution_count": 19,
      "outputs": [
        {
          "output_type": "execute_result",
          "data": {
            "text/plain": [
              "array(1.11022302e-16)"
            ]
          },
          "metadata": {
            "tags": []
          },
          "execution_count": 19
        }
      ]
    },
    {
      "cell_type": "code",
      "metadata": {
        "id": "1z8zH-tC1CRo",
        "colab_type": "code",
        "outputId": "54d5c790-ff36-470a-a212-68163322bb90",
        "colab": {
          "base_uri": "https://localhost:8080/",
          "height": 35
        }
      },
      "source": [
        "sum(w_12)"
      ],
      "execution_count": 20,
      "outputs": [
        {
          "output_type": "execute_result",
          "data": {
            "text/plain": [
              "array(1.)"
            ]
          },
          "metadata": {
            "tags": []
          },
          "execution_count": 20
        }
      ]
    },
    {
      "cell_type": "code",
      "metadata": {
        "id": "ErXtlDo4L6wZ",
        "colab_type": "code",
        "outputId": "36abaac9-72f6-4c11-b8c5-6f3811465ad4",
        "colab": {
          "base_uri": "https://localhost:8080/",
          "height": 35
        }
      },
      "source": [
        "abs((sum(w_12)-1)/sum(w_12))"
      ],
      "execution_count": 21,
      "outputs": [
        {
          "output_type": "execute_result",
          "data": {
            "text/plain": [
              "array(4.4408921e-16)"
            ]
          },
          "metadata": {
            "tags": []
          },
          "execution_count": 21
        }
      ]
    },
    {
      "cell_type": "markdown",
      "metadata": {
        "id": "KkVM-k3d1T-n",
        "colab_type": "text"
      },
      "source": [
        "Verificamos el error absoluto de $w^{t}\\mu = r$\n"
      ]
    },
    {
      "cell_type": "code",
      "metadata": {
        "id": "bOQyc3Gp3mm4",
        "colab_type": "code",
        "outputId": "770587e0-7440-42b0-d062-81c8cbc733e8",
        "colab": {
          "base_uri": "https://localhost:8080/",
          "height": 35
        }
      },
      "source": [
        "error_11 = abs(r_11 - w_11@mu_1)/r_11\n",
        "print(error_11)"
      ],
      "execution_count": 22,
      "outputs": [
        {
          "output_type": "stream",
          "text": [
            "6.155967883235464e-16\n"
          ],
          "name": "stdout"
        }
      ]
    },
    {
      "cell_type": "code",
      "metadata": {
        "id": "68ZafwYg3qfW",
        "colab_type": "code",
        "outputId": "73080355-423b-4103-81fc-488545b2c5d7",
        "colab": {
          "base_uri": "https://localhost:8080/",
          "height": 35
        }
      },
      "source": [
        "error_12 = abs(r_12 - w_12@mu_1)/r_12\n",
        "print(error_12)"
      ],
      "execution_count": 23,
      "outputs": [
        {
          "output_type": "stream",
          "text": [
            "1.2309415527669263e-16\n"
          ],
          "name": "stdout"
        }
      ]
    },
    {
      "cell_type": "code",
      "metadata": {
        "id": "f8sW8wLhzgP-",
        "colab_type": "code",
        "outputId": "13363878-448d-4f9c-8a77-dd8df89734c3",
        "colab": {
          "base_uri": "https://localhost:8080/",
          "height": 35
        }
      },
      "source": [
        "w_11@mu_1"
      ],
      "execution_count": 24,
      "outputs": [
        {
          "output_type": "execute_result",
          "data": {
            "text/plain": [
              "array(1.44279248)"
            ]
          },
          "metadata": {
            "tags": []
          },
          "execution_count": 24
        }
      ]
    },
    {
      "cell_type": "code",
      "metadata": {
        "id": "XHNvT0jl1dsp",
        "colab_type": "code",
        "outputId": "ea5a5293-09b8-4d75-9bae-e1fa5c5259c2",
        "colab": {
          "base_uri": "https://localhost:8080/",
          "height": 35
        }
      },
      "source": [
        "r_11"
      ],
      "execution_count": 25,
      "outputs": [
        {
          "output_type": "execute_result",
          "data": {
            "text/plain": [
              "array(1.44279248)"
            ]
          },
          "metadata": {
            "tags": []
          },
          "execution_count": 25
        }
      ]
    },
    {
      "cell_type": "code",
      "metadata": {
        "id": "BYpHM-Lu1otb",
        "colab_type": "code",
        "outputId": "c14b3f3f-a44c-4396-989a-ad9906dbe423",
        "colab": {
          "base_uri": "https://localhost:8080/",
          "height": 35
        }
      },
      "source": [
        "w_12@mu_1"
      ],
      "execution_count": 26,
      "outputs": [
        {
          "output_type": "execute_result",
          "data": {
            "text/plain": [
              "array(3.60771971)"
            ]
          },
          "metadata": {
            "tags": []
          },
          "execution_count": 26
        }
      ]
    },
    {
      "cell_type": "code",
      "metadata": {
        "id": "Zi3_vnWE1rOY",
        "colab_type": "code",
        "outputId": "826025ce-6889-43dd-cd94-c60662564c41",
        "colab": {
          "base_uri": "https://localhost:8080/",
          "height": 35
        }
      },
      "source": [
        "r_12"
      ],
      "execution_count": 27,
      "outputs": [
        {
          "output_type": "execute_result",
          "data": {
            "text/plain": [
              "array(3.60771971)"
            ]
          },
          "metadata": {
            "tags": []
          },
          "execution_count": 27
        }
      ]
    },
    {
      "cell_type": "markdown",
      "metadata": {
        "id": "VanPL-b_2TAY",
        "colab_type": "text"
      },
      "source": [
        "Ahora probamos con una matriz de $10^4 \\times 10^2$"
      ]
    },
    {
      "cell_type": "code",
      "metadata": {
        "id": "LQD9gF_02TLW",
        "colab_type": "code",
        "colab": {}
      },
      "source": [
        "datos_2 = cp.random.uniform(1,1000,10**6).reshape(10**4,10**2)\n",
        "sigma_2 = calcular_varianza(datos_2)\n",
        "mu_2 = calcular_rendimiento(datos_2)\n",
        "r_21 = cp.mean(mu_2)**2\n",
        "r_22 = max(mu_2)"
      ],
      "execution_count": 0,
      "outputs": []
    },
    {
      "cell_type": "code",
      "metadata": {
        "id": "UHKotCJr2htI",
        "colab_type": "code",
        "colab": {}
      },
      "source": [
        "w_21 = markowitz(r_21,mu_2,sigma_2)\n",
        "w_22 = markowitz(r_22,mu_2,sigma_2)"
      ],
      "execution_count": 0,
      "outputs": []
    },
    {
      "cell_type": "markdown",
      "metadata": {
        "id": "ZkZtCoQM2pfU",
        "colab_type": "text"
      },
      "source": [
        "Verificamos que la suma de las $\\sum w's=1$ y el error absoluto"
      ]
    },
    {
      "cell_type": "code",
      "metadata": {
        "id": "9ok-faJ-2qN3",
        "colab_type": "code",
        "outputId": "9df1f0bb-aed8-49cb-b17a-79b41956c6bc",
        "colab": {
          "base_uri": "https://localhost:8080/",
          "height": 35
        }
      },
      "source": [
        "sum(w_21)"
      ],
      "execution_count": 30,
      "outputs": [
        {
          "output_type": "execute_result",
          "data": {
            "text/plain": [
              "array(1.)"
            ]
          },
          "metadata": {
            "tags": []
          },
          "execution_count": 30
        }
      ]
    },
    {
      "cell_type": "code",
      "metadata": {
        "id": "-b3k2JrPMnlT",
        "colab_type": "code",
        "outputId": "f572ab9f-991b-40f3-b160-4c5f70ff15c6",
        "colab": {
          "base_uri": "https://localhost:8080/",
          "height": 35
        }
      },
      "source": [
        "abs((sum(w_21)-1)/sum(w_21))"
      ],
      "execution_count": 31,
      "outputs": [
        {
          "output_type": "execute_result",
          "data": {
            "text/plain": [
              "array(2.22044605e-16)"
            ]
          },
          "metadata": {
            "tags": []
          },
          "execution_count": 31
        }
      ]
    },
    {
      "cell_type": "code",
      "metadata": {
        "id": "7pEGcbsx2sYA",
        "colab_type": "code",
        "outputId": "979d2b15-4619-403f-e19b-5db7fc09c7d2",
        "colab": {
          "base_uri": "https://localhost:8080/",
          "height": 35
        }
      },
      "source": [
        "sum(w_22)"
      ],
      "execution_count": 32,
      "outputs": [
        {
          "output_type": "execute_result",
          "data": {
            "text/plain": [
              "array(1.)"
            ]
          },
          "metadata": {
            "tags": []
          },
          "execution_count": 32
        }
      ]
    },
    {
      "cell_type": "code",
      "metadata": {
        "id": "nY4ZvFsIMoGx",
        "colab_type": "code",
        "outputId": "64345b43-f6c4-4291-e2e0-997fc2581e81",
        "colab": {
          "base_uri": "https://localhost:8080/",
          "height": 35
        }
      },
      "source": [
        "abs((sum(w_22)-1)/sum(w_22))"
      ],
      "execution_count": 33,
      "outputs": [
        {
          "output_type": "execute_result",
          "data": {
            "text/plain": [
              "array(0.)"
            ]
          },
          "metadata": {
            "tags": []
          },
          "execution_count": 33
        }
      ]
    },
    {
      "cell_type": "markdown",
      "metadata": {
        "id": "hjlGc8w0M4Xn",
        "colab_type": "text"
      },
      "source": [
        "Verificamos el error absoluto de $w^{t}\\mu = r$"
      ]
    },
    {
      "cell_type": "code",
      "metadata": {
        "id": "1ld9pvRW2vdA",
        "colab_type": "code",
        "outputId": "4753994f-3ef8-4897-fe86-83f20cecd2b4",
        "colab": {
          "base_uri": "https://localhost:8080/",
          "height": 35
        }
      },
      "source": [
        "w_21@mu_2"
      ],
      "execution_count": 34,
      "outputs": [
        {
          "output_type": "execute_result",
          "data": {
            "text/plain": [
              "array(4.18727825e-05)"
            ]
          },
          "metadata": {
            "tags": []
          },
          "execution_count": 34
        }
      ]
    },
    {
      "cell_type": "code",
      "metadata": {
        "id": "tYsYGZbc296K",
        "colab_type": "code",
        "outputId": "4cd3e11b-c21c-4ba4-b58b-c6d9a0fab1ee",
        "colab": {
          "base_uri": "https://localhost:8080/",
          "height": 35
        }
      },
      "source": [
        "r_21"
      ],
      "execution_count": 35,
      "outputs": [
        {
          "output_type": "execute_result",
          "data": {
            "text/plain": [
              "array(4.18727825e-05)"
            ]
          },
          "metadata": {
            "tags": []
          },
          "execution_count": 35
        }
      ]
    },
    {
      "cell_type": "code",
      "metadata": {
        "id": "0OvkaaY63L6M",
        "colab_type": "code",
        "outputId": "e3301f65-e1b0-407f-9ac3-1a50aeab6446",
        "colab": {
          "base_uri": "https://localhost:8080/",
          "height": 35
        }
      },
      "source": [
        "error_21 = abs(r_21 - w_21@mu_2)/r_21\n",
        "print(error_21)"
      ],
      "execution_count": 36,
      "outputs": [
        {
          "output_type": "stream",
          "text": [
            "1.304348104457549e-13\n"
          ],
          "name": "stdout"
        }
      ]
    },
    {
      "cell_type": "code",
      "metadata": {
        "id": "iMyp2MGc3x90",
        "colab_type": "code",
        "outputId": "08442485-f9d8-4608-9060-85c1f21045a6",
        "colab": {
          "base_uri": "https://localhost:8080/",
          "height": 35
        }
      },
      "source": [
        "error_22 = abs(r_22 - w_22@mu_2)/r_22\n",
        "print(error_22)"
      ],
      "execution_count": 37,
      "outputs": [
        {
          "output_type": "stream",
          "text": [
            "3.770752517849849e-16\n"
          ],
          "name": "stdout"
        }
      ]
    },
    {
      "cell_type": "markdown",
      "metadata": {
        "id": "FL_A2LyT32SP",
        "colab_type": "text"
      },
      "source": [
        "Ahora probamos con una matriz de $10^5 \\times 10^3$\n",
        "\n"
      ]
    },
    {
      "cell_type": "code",
      "metadata": {
        "id": "HtbRZN_f32jS",
        "colab_type": "code",
        "colab": {}
      },
      "source": [
        "datos_3 = cp.random.uniform(1,1000,10**8).reshape(10**5,10**3)\n",
        "sigma_3 = calcular_varianza(datos_3)\n",
        "mu_3 = calcular_rendimiento(datos_3)\n",
        "r_31 = cp.mean(mu_3)**2\n",
        "r_32 = max(mu_3)"
      ],
      "execution_count": 0,
      "outputs": []
    },
    {
      "cell_type": "code",
      "metadata": {
        "id": "tFmaUdDV32s4",
        "colab_type": "code",
        "colab": {}
      },
      "source": [
        "w_31 = markowitz(r_31,mu_3,sigma_3)\n",
        "w_32 = markowitz(r_32,mu_3,sigma_3)"
      ],
      "execution_count": 0,
      "outputs": []
    },
    {
      "cell_type": "markdown",
      "metadata": {
        "id": "0QHVhrK1NE00",
        "colab_type": "text"
      },
      "source": [
        "Verificamos que la suma de las $\\sum w's=1$ y el error absoluto"
      ]
    },
    {
      "cell_type": "code",
      "metadata": {
        "id": "dRpg8ECG4VOW",
        "colab_type": "code",
        "outputId": "d5d3b471-8745-4ed8-ce6f-ca928e8c1f09",
        "colab": {
          "base_uri": "https://localhost:8080/",
          "height": 35
        }
      },
      "source": [
        "sum(w_31)"
      ],
      "execution_count": 40,
      "outputs": [
        {
          "output_type": "execute_result",
          "data": {
            "text/plain": [
              "array(1.)"
            ]
          },
          "metadata": {
            "tags": []
          },
          "execution_count": 40
        }
      ]
    },
    {
      "cell_type": "code",
      "metadata": {
        "id": "cJ8DKtoQ6hBi",
        "colab_type": "code",
        "outputId": "7154611d-d353-4c0d-8522-e34dd8d17452",
        "colab": {
          "base_uri": "https://localhost:8080/",
          "height": 35
        }
      },
      "source": [
        "abs(sum(w_31)-1)/sum(w_31)"
      ],
      "execution_count": 41,
      "outputs": [
        {
          "output_type": "execute_result",
          "data": {
            "text/plain": [
              "array(6.66133815e-16)"
            ]
          },
          "metadata": {
            "tags": []
          },
          "execution_count": 41
        }
      ]
    },
    {
      "cell_type": "code",
      "metadata": {
        "id": "2KucWs5o4Ybk",
        "colab_type": "code",
        "outputId": "e2711c46-9e0d-47ba-a2fd-e0ec504eccd9",
        "colab": {
          "base_uri": "https://localhost:8080/",
          "height": 35
        }
      },
      "source": [
        "sum(w_32)"
      ],
      "execution_count": 42,
      "outputs": [
        {
          "output_type": "execute_result",
          "data": {
            "text/plain": [
              "array(1.)"
            ]
          },
          "metadata": {
            "tags": []
          },
          "execution_count": 42
        }
      ]
    },
    {
      "cell_type": "markdown",
      "metadata": {
        "id": "SoN5lH1wNRy9",
        "colab_type": "text"
      },
      "source": [
        "Verificamos el error absoluto de $w^{t}\\mu = r$"
      ]
    },
    {
      "cell_type": "code",
      "metadata": {
        "id": "nN7Jf3R0323B",
        "colab_type": "code",
        "outputId": "4ccc198a-3940-465a-b0f8-1cbba1ececd5",
        "colab": {
          "base_uri": "https://localhost:8080/",
          "height": 35
        }
      },
      "source": [
        "error_31 = abs(r_31 - w_31@mu_3)/r_31\n",
        "print(error_31)"
      ],
      "execution_count": 43,
      "outputs": [
        {
          "output_type": "stream",
          "text": [
            "5.972565684253623e-12\n"
          ],
          "name": "stdout"
        }
      ]
    },
    {
      "cell_type": "code",
      "metadata": {
        "id": "AV2nyL9f37Dg",
        "colab_type": "code",
        "outputId": "4fc2aac4-c952-4c7d-b083-b5ad46b2242d",
        "colab": {
          "base_uri": "https://localhost:8080/",
          "height": 35
        }
      },
      "source": [
        "error_32 = abs(r_32 - w_32@mu_3)/r_32\n",
        "print(error_32)"
      ],
      "execution_count": 44,
      "outputs": [
        {
          "output_type": "stream",
          "text": [
            "1.2765462539881994e-16\n"
          ],
          "name": "stdout"
        }
      ]
    },
    {
      "cell_type": "markdown",
      "metadata": {
        "id": "unv5YKe244vn",
        "colab_type": "text"
      },
      "source": [
        "Ahora probamos con una matriz de $10^4 \\times 10^4$"
      ]
    },
    {
      "cell_type": "code",
      "metadata": {
        "id": "ZtKmbt9444BE",
        "colab_type": "code",
        "colab": {}
      },
      "source": [
        "datos_4 = cp.random.uniform(100,1000,10**8).reshape(10**4,10**4)\n",
        "sigma_4 = calcular_varianza(datos)\n",
        "mu_4 = calcular_rendimiento(datos)\n",
        "r_41 = cp.mean(mu_4)**2\n",
        "r_42 = max(mu_4)"
      ],
      "execution_count": 0,
      "outputs": []
    },
    {
      "cell_type": "code",
      "metadata": {
        "id": "aGELM1EL44Ly",
        "colab_type": "code",
        "colab": {}
      },
      "source": [
        "w_41 = markowitz(r_41,mu_4,sigma_4)\n",
        "w_42 = markowitz(r_42,mu_4,sigma_4)"
      ],
      "execution_count": 0,
      "outputs": []
    },
    {
      "cell_type": "markdown",
      "metadata": {
        "id": "ZNmJhXIANg0T",
        "colab_type": "text"
      },
      "source": [
        "Verificamos que  ∑w′s=1 y el error absoluto"
      ]
    },
    {
      "cell_type": "code",
      "metadata": {
        "id": "2i87sqXw6dIc",
        "colab_type": "code",
        "outputId": "e47e74b5-634a-40dc-f06a-3701503241eb",
        "colab": {
          "base_uri": "https://localhost:8080/",
          "height": 35
        }
      },
      "source": [
        "sum(w_41)"
      ],
      "execution_count": 47,
      "outputs": [
        {
          "output_type": "execute_result",
          "data": {
            "text/plain": [
              "array(1.)"
            ]
          },
          "metadata": {
            "tags": []
          },
          "execution_count": 47
        }
      ]
    },
    {
      "cell_type": "code",
      "metadata": {
        "id": "wKqQ_5fEK2wg",
        "colab_type": "code",
        "outputId": "a9deda7a-724e-45b2-e622-d8d710f2d18b",
        "colab": {
          "base_uri": "https://localhost:8080/",
          "height": 35
        }
      },
      "source": [
        "abs(sum(w_41)-1)/sum(w_41)"
      ],
      "execution_count": 48,
      "outputs": [
        {
          "output_type": "execute_result",
          "data": {
            "text/plain": [
              "array(4.4408921e-16)"
            ]
          },
          "metadata": {
            "tags": []
          },
          "execution_count": 48
        }
      ]
    },
    {
      "cell_type": "code",
      "metadata": {
        "id": "bDYprAfhNnqz",
        "colab_type": "code",
        "outputId": "a6714cf0-7c01-47de-88d2-10fcc26777bf",
        "colab": {
          "base_uri": "https://localhost:8080/",
          "height": 35
        }
      },
      "source": [
        "sum(w_42)"
      ],
      "execution_count": 49,
      "outputs": [
        {
          "output_type": "execute_result",
          "data": {
            "text/plain": [
              "array(1.)"
            ]
          },
          "metadata": {
            "tags": []
          },
          "execution_count": 49
        }
      ]
    },
    {
      "cell_type": "code",
      "metadata": {
        "id": "Ol1eHviPNn0h",
        "colab_type": "code",
        "outputId": "a003fc3b-7c52-445b-8339-b996f8d3e31c",
        "colab": {
          "base_uri": "https://localhost:8080/",
          "height": 35
        }
      },
      "source": [
        "abs(sum(w_42)-1)/sum(w_42)"
      ],
      "execution_count": 50,
      "outputs": [
        {
          "output_type": "execute_result",
          "data": {
            "text/plain": [
              "array(5.55111512e-16)"
            ]
          },
          "metadata": {
            "tags": []
          },
          "execution_count": 50
        }
      ]
    },
    {
      "cell_type": "markdown",
      "metadata": {
        "id": "qslkzYdbNtlZ",
        "colab_type": "text"
      },
      "source": [
        "Verificamos el error absoluto de $w^{t}\\mu = r$"
      ]
    },
    {
      "cell_type": "code",
      "metadata": {
        "id": "3HdIdwN-Ny6y",
        "colab_type": "code",
        "outputId": "23879e18-f741-4db8-e5be-86b73de29e73",
        "colab": {
          "base_uri": "https://localhost:8080/",
          "height": 35
        }
      },
      "source": [
        "error_41 = abs(r_41 - w_41@mu_4)/r_41\n",
        "print(error_41)"
      ],
      "execution_count": 51,
      "outputs": [
        {
          "output_type": "stream",
          "text": [
            "6.689301079114241e-14\n"
          ],
          "name": "stdout"
        }
      ]
    },
    {
      "cell_type": "code",
      "metadata": {
        "id": "MuMlWZhIN6JE",
        "colab_type": "code",
        "outputId": "54d82fc0-506f-45ac-8888-e9b3b21a7b5e",
        "colab": {
          "base_uri": "https://localhost:8080/",
          "height": 35
        }
      },
      "source": [
        "error_42 = abs(r_42 - w_42@mu_4)/r_42\n",
        "print(error_42)"
      ],
      "execution_count": 52,
      "outputs": [
        {
          "output_type": "stream",
          "text": [
            "1.2421353758545672e-15\n"
          ],
          "name": "stdout"
        }
      ]
    },
    {
      "cell_type": "code",
      "metadata": {
        "id": "2N_wpKnGTXHb",
        "colab_type": "code",
        "colab": {
          "base_uri": "https://localhost:8080/",
          "height": 35
        },
        "outputId": "2f2d0ad1-6e82-45aa-d635-c8c8360f1f55"
      },
      "source": [
        "r_41"
      ],
      "execution_count": 53,
      "outputs": [
        {
          "output_type": "execute_result",
          "data": {
            "text/plain": [
              "array(0.00793544)"
            ]
          },
          "metadata": {
            "tags": []
          },
          "execution_count": 53
        }
      ]
    },
    {
      "cell_type": "code",
      "metadata": {
        "id": "YtRAw2AXTXTM",
        "colab_type": "code",
        "colab": {
          "base_uri": "https://localhost:8080/",
          "height": 35
        },
        "outputId": "957f1df6-25a4-453c-e2a5-fc9a8a13b9be"
      },
      "source": [
        "w_41@mu_4"
      ],
      "execution_count": 54,
      "outputs": [
        {
          "output_type": "execute_result",
          "data": {
            "text/plain": [
              "array(0.00793544)"
            ]
          },
          "metadata": {
            "tags": []
          },
          "execution_count": 54
        }
      ]
    },
    {
      "cell_type": "code",
      "metadata": {
        "id": "Wzt8WgqeOGcF",
        "colab_type": "code",
        "outputId": "71e9ad17-cfa1-45fe-b826-1db56c7a5894",
        "colab": {
          "base_uri": "https://localhost:8080/",
          "height": 35
        }
      },
      "source": [
        "r_42"
      ],
      "execution_count": 56,
      "outputs": [
        {
          "output_type": "execute_result",
          "data": {
            "text/plain": [
              "array(0.40221088)"
            ]
          },
          "metadata": {
            "tags": []
          },
          "execution_count": 56
        }
      ]
    },
    {
      "cell_type": "code",
      "metadata": {
        "id": "yct19gaLOGo3",
        "colab_type": "code",
        "outputId": "38dc2edf-a871-4024-f9ae-a08595862be0",
        "colab": {
          "base_uri": "https://localhost:8080/",
          "height": 35
        }
      },
      "source": [
        "w_42@mu_4"
      ],
      "execution_count": 55,
      "outputs": [
        {
          "output_type": "execute_result",
          "data": {
            "text/plain": [
              "array(0.40221088)"
            ]
          },
          "metadata": {
            "tags": []
          },
          "execution_count": 55
        }
      ]
    },
    {
      "cell_type": "markdown",
      "metadata": {
        "id": "IPLhjA1pTpPw",
        "colab_type": "text"
      },
      "source": [
        "Ahora probamos con una matriz de $10^5 \\times 10^4$"
      ]
    },
    {
      "cell_type": "code",
      "metadata": {
        "id": "TzoKy4eITmCC",
        "colab_type": "code",
        "colab": {
          "base_uri": "https://localhost:8080/",
          "height": 657
        },
        "outputId": "41ebdff8-b465-4868-cea2-d51943ce983a"
      },
      "source": [
        "datos_5 = cp.random.uniform(1,1000,10**9).reshape(10**5,10**4)\n",
        "sigma_5 = calcular_varianza(datos_5)\n",
        "mu_5 = calcular_rendimiento(datos_5)\n",
        "r_51 = cp.mean(mu_5)**2\n",
        "r_52 = max(mu_5)"
      ],
      "execution_count": 57,
      "outputs": [
        {
          "output_type": "error",
          "ename": "OutOfMemoryError",
          "evalue": "ignored",
          "traceback": [
            "\u001b[0;31m---------------------------------------------------------------------------\u001b[0m",
            "\u001b[0;31mOutOfMemoryError\u001b[0m                          Traceback (most recent call last)",
            "\u001b[0;32m<ipython-input-57-71169a7221dc>\u001b[0m in \u001b[0;36m<module>\u001b[0;34m()\u001b[0m\n\u001b[1;32m      1\u001b[0m \u001b[0mdatos_5\u001b[0m \u001b[0;34m=\u001b[0m \u001b[0mcp\u001b[0m\u001b[0;34m.\u001b[0m\u001b[0mrandom\u001b[0m\u001b[0;34m.\u001b[0m\u001b[0muniform\u001b[0m\u001b[0;34m(\u001b[0m\u001b[0;36m1\u001b[0m\u001b[0;34m,\u001b[0m\u001b[0;36m1000\u001b[0m\u001b[0;34m,\u001b[0m\u001b[0;36m10\u001b[0m\u001b[0;34m**\u001b[0m\u001b[0;36m9\u001b[0m\u001b[0;34m)\u001b[0m\u001b[0;34m.\u001b[0m\u001b[0mreshape\u001b[0m\u001b[0;34m(\u001b[0m\u001b[0;36m10\u001b[0m\u001b[0;34m**\u001b[0m\u001b[0;36m5\u001b[0m\u001b[0;34m,\u001b[0m\u001b[0;36m10\u001b[0m\u001b[0;34m**\u001b[0m\u001b[0;36m4\u001b[0m\u001b[0;34m)\u001b[0m\u001b[0;34m\u001b[0m\u001b[0;34m\u001b[0m\u001b[0m\n\u001b[0;32m----> 2\u001b[0;31m \u001b[0msigma_5\u001b[0m \u001b[0;34m=\u001b[0m \u001b[0mcalcular_varianza\u001b[0m\u001b[0;34m(\u001b[0m\u001b[0mdatos_5\u001b[0m\u001b[0;34m)\u001b[0m\u001b[0;34m\u001b[0m\u001b[0;34m\u001b[0m\u001b[0m\n\u001b[0m\u001b[1;32m      3\u001b[0m \u001b[0mmu_5\u001b[0m \u001b[0;34m=\u001b[0m \u001b[0mcalcular_rendimiento\u001b[0m\u001b[0;34m(\u001b[0m\u001b[0mdatos_5\u001b[0m\u001b[0;34m)\u001b[0m\u001b[0;34m\u001b[0m\u001b[0;34m\u001b[0m\u001b[0m\n\u001b[1;32m      4\u001b[0m \u001b[0mr_51\u001b[0m \u001b[0;34m=\u001b[0m \u001b[0mcp\u001b[0m\u001b[0;34m.\u001b[0m\u001b[0mmean\u001b[0m\u001b[0;34m(\u001b[0m\u001b[0mmu_5\u001b[0m\u001b[0;34m)\u001b[0m\u001b[0;34m**\u001b[0m\u001b[0;36m2\u001b[0m\u001b[0;34m\u001b[0m\u001b[0;34m\u001b[0m\u001b[0m\n\u001b[1;32m      5\u001b[0m \u001b[0mr_52\u001b[0m \u001b[0;34m=\u001b[0m \u001b[0mmax\u001b[0m\u001b[0;34m(\u001b[0m\u001b[0mmu_5\u001b[0m\u001b[0;34m)\u001b[0m\u001b[0;34m\u001b[0m\u001b[0;34m\u001b[0m\u001b[0m\n",
            "\u001b[0;32m<ipython-input-10-7d100c614c0a>\u001b[0m in \u001b[0;36mcalcular_varianza\u001b[0;34m(X)\u001b[0m\n\u001b[1;32m     15\u001b[0m   \u001b[0mX\u001b[0m \u001b[0;34m=\u001b[0m \u001b[0mcp\u001b[0m\u001b[0;34m.\u001b[0m\u001b[0masarray\u001b[0m\u001b[0;34m(\u001b[0m\u001b[0mX\u001b[0m\u001b[0;34m)\u001b[0m\u001b[0;34m\u001b[0m\u001b[0;34m\u001b[0m\u001b[0m\n\u001b[1;32m     16\u001b[0m \u001b[0;34m\u001b[0m\u001b[0m\n\u001b[0;32m---> 17\u001b[0;31m   \u001b[0mX_m\u001b[0m \u001b[0;34m=\u001b[0m \u001b[0mcp\u001b[0m\u001b[0;34m.\u001b[0m\u001b[0mzeros\u001b[0m\u001b[0;34m(\u001b[0m\u001b[0;34m(\u001b[0m\u001b[0mm\u001b[0m\u001b[0;34m-\u001b[0m\u001b[0;36m1\u001b[0m\u001b[0;34m,\u001b[0m\u001b[0mn\u001b[0m\u001b[0;34m)\u001b[0m\u001b[0;34m)\u001b[0m\u001b[0;34m\u001b[0m\u001b[0;34m\u001b[0m\u001b[0m\n\u001b[0m\u001b[1;32m     18\u001b[0m \u001b[0;34m\u001b[0m\u001b[0m\n\u001b[1;32m     19\u001b[0m   \u001b[0;32mfor\u001b[0m \u001b[0mi\u001b[0m \u001b[0;32min\u001b[0m \u001b[0mrange\u001b[0m\u001b[0;34m(\u001b[0m\u001b[0mn\u001b[0m\u001b[0;34m)\u001b[0m\u001b[0;34m:\u001b[0m\u001b[0;34m\u001b[0m\u001b[0;34m\u001b[0m\u001b[0m\n",
            "\u001b[0;32m/usr/local/lib/python3.6/dist-packages/cupy/creation/basic.py\u001b[0m in \u001b[0;36mzeros\u001b[0;34m(shape, dtype, order)\u001b[0m\n\u001b[1;32m    202\u001b[0m \u001b[0;34m\u001b[0m\u001b[0m\n\u001b[1;32m    203\u001b[0m     \"\"\"\n\u001b[0;32m--> 204\u001b[0;31m     \u001b[0ma\u001b[0m \u001b[0;34m=\u001b[0m \u001b[0mcupy\u001b[0m\u001b[0;34m.\u001b[0m\u001b[0mndarray\u001b[0m\u001b[0;34m(\u001b[0m\u001b[0mshape\u001b[0m\u001b[0;34m,\u001b[0m \u001b[0mdtype\u001b[0m\u001b[0;34m,\u001b[0m \u001b[0morder\u001b[0m\u001b[0;34m=\u001b[0m\u001b[0morder\u001b[0m\u001b[0;34m)\u001b[0m\u001b[0;34m\u001b[0m\u001b[0;34m\u001b[0m\u001b[0m\n\u001b[0m\u001b[1;32m    205\u001b[0m     \u001b[0ma\u001b[0m\u001b[0;34m.\u001b[0m\u001b[0mdata\u001b[0m\u001b[0;34m.\u001b[0m\u001b[0mmemset_async\u001b[0m\u001b[0;34m(\u001b[0m\u001b[0;36m0\u001b[0m\u001b[0;34m,\u001b[0m \u001b[0ma\u001b[0m\u001b[0;34m.\u001b[0m\u001b[0mnbytes\u001b[0m\u001b[0;34m)\u001b[0m\u001b[0;34m\u001b[0m\u001b[0;34m\u001b[0m\u001b[0m\n\u001b[1;32m    206\u001b[0m     \u001b[0;32mreturn\u001b[0m \u001b[0ma\u001b[0m\u001b[0;34m\u001b[0m\u001b[0;34m\u001b[0m\u001b[0m\n",
            "\u001b[0;32mcupy/core/core.pyx\u001b[0m in \u001b[0;36mcupy.core.core.ndarray.__init__\u001b[0;34m()\u001b[0m\n",
            "\u001b[0;32mcupy/cuda/memory.pyx\u001b[0m in \u001b[0;36mcupy.cuda.memory.alloc\u001b[0;34m()\u001b[0m\n",
            "\u001b[0;32mcupy/cuda/memory.pyx\u001b[0m in \u001b[0;36mcupy.cuda.memory.MemoryPool.malloc\u001b[0;34m()\u001b[0m\n",
            "\u001b[0;32mcupy/cuda/memory.pyx\u001b[0m in \u001b[0;36mcupy.cuda.memory.MemoryPool.malloc\u001b[0;34m()\u001b[0m\n",
            "\u001b[0;32mcupy/cuda/memory.pyx\u001b[0m in \u001b[0;36mcupy.cuda.memory.SingleDeviceMemoryPool.malloc\u001b[0;34m()\u001b[0m\n",
            "\u001b[0;32mcupy/cuda/memory.pyx\u001b[0m in \u001b[0;36mcupy.cuda.memory.SingleDeviceMemoryPool._malloc\u001b[0;34m()\u001b[0m\n",
            "\u001b[0;32mcupy/cuda/memory.pyx\u001b[0m in \u001b[0;36mcupy.cuda.memory._try_malloc\u001b[0;34m()\u001b[0m\n",
            "\u001b[0;31mOutOfMemoryError\u001b[0m: Out of memory allocating 7,999,920,128 bytes (allocated so far: 10,432,404,480 bytes)."
          ]
        }
      ]
    },
    {
      "cell_type": "markdown",
      "metadata": {
        "id": "M6xop729TeQ-",
        "colab_type": "text"
      },
      "source": [
        "EL sistema no soporta generar matrices con 10**9 elementos.\n",
        "\n",
        "Probamos con las acciones\n",
        "\n"
      ]
    },
    {
      "cell_type": "code",
      "metadata": {
        "id": "29pdEgt1UXq7",
        "colab_type": "code",
        "colab": {}
      },
      "source": [
        "sigma = calcular_varianza(datos)\n",
        "mu = calcular_rendimiento(datos)\n",
        "r1 = cp.mean(mu)**2\n",
        "r2 = max(mu)"
      ],
      "execution_count": 0,
      "outputs": []
    },
    {
      "cell_type": "code",
      "metadata": {
        "id": "_2b7zplSUiPX",
        "colab_type": "code",
        "colab": {}
      },
      "source": [
        "w_01 = markowitz(r1,mu,sigma)\n",
        "w_02 = markowitz(r2,mu,sigma)"
      ],
      "execution_count": 0,
      "outputs": []
    },
    {
      "cell_type": "markdown",
      "metadata": {
        "id": "Z8nECnifUp0A",
        "colab_type": "text"
      },
      "source": [
        "Verificamos que  ∑w′s=1 y el error absoluto"
      ]
    },
    {
      "cell_type": "code",
      "metadata": {
        "id": "T32ysbEBUvOa",
        "colab_type": "code",
        "colab": {
          "base_uri": "https://localhost:8080/",
          "height": 35
        },
        "outputId": "1ceffc56-4ddb-452d-8482-b47bdc34fb1e"
      },
      "source": [
        "sum(w_01)"
      ],
      "execution_count": 60,
      "outputs": [
        {
          "output_type": "execute_result",
          "data": {
            "text/plain": [
              "array(1.)"
            ]
          },
          "metadata": {
            "tags": []
          },
          "execution_count": 60
        }
      ]
    },
    {
      "cell_type": "code",
      "metadata": {
        "id": "dS280tLUUz3j",
        "colab_type": "code",
        "colab": {
          "base_uri": "https://localhost:8080/",
          "height": 35
        },
        "outputId": "d3e805ff-e272-4a21-926b-c17bf407dcff"
      },
      "source": [
        "abs(sum(w_01)-1)/sum(w_01)"
      ],
      "execution_count": 61,
      "outputs": [
        {
          "output_type": "execute_result",
          "data": {
            "text/plain": [
              "array(4.4408921e-16)"
            ]
          },
          "metadata": {
            "tags": []
          },
          "execution_count": 61
        }
      ]
    },
    {
      "cell_type": "code",
      "metadata": {
        "id": "OLpiDFGLU2pm",
        "colab_type": "code",
        "colab": {
          "base_uri": "https://localhost:8080/",
          "height": 35
        },
        "outputId": "e5fed9f4-888b-44eb-926e-5bc4a618ccc9"
      },
      "source": [
        "sum(w_02)"
      ],
      "execution_count": 62,
      "outputs": [
        {
          "output_type": "execute_result",
          "data": {
            "text/plain": [
              "array(1.)"
            ]
          },
          "metadata": {
            "tags": []
          },
          "execution_count": 62
        }
      ]
    },
    {
      "cell_type": "code",
      "metadata": {
        "id": "saf_1zqDU4A4",
        "colab_type": "code",
        "colab": {
          "base_uri": "https://localhost:8080/",
          "height": 35
        },
        "outputId": "4428d657-c96c-49a4-ae04-239d324e5324"
      },
      "source": [
        "abs(sum(w_02)-1)/sum(w_02)"
      ],
      "execution_count": 63,
      "outputs": [
        {
          "output_type": "execute_result",
          "data": {
            "text/plain": [
              "array(5.55111512e-16)"
            ]
          },
          "metadata": {
            "tags": []
          },
          "execution_count": 63
        }
      ]
    },
    {
      "cell_type": "markdown",
      "metadata": {
        "id": "yy2coB5DU6QS",
        "colab_type": "text"
      },
      "source": [
        "Verificamos el error absoluto de $w^{t}\\mu = r$"
      ]
    },
    {
      "cell_type": "code",
      "metadata": {
        "id": "i1qNx8_MVCKv",
        "colab_type": "code",
        "colab": {
          "base_uri": "https://localhost:8080/",
          "height": 35
        },
        "outputId": "ff175c59-695c-4132-ddfc-d02ae24304cc"
      },
      "source": [
        "error_01 = abs(r1 - w_01@mu)/r1\n",
        "print(error_01)"
      ],
      "execution_count": 65,
      "outputs": [
        {
          "output_type": "stream",
          "text": [
            "6.689301079114241e-14\n"
          ],
          "name": "stdout"
        }
      ]
    },
    {
      "cell_type": "code",
      "metadata": {
        "id": "o6g5VjcsVI7c",
        "colab_type": "code",
        "colab": {
          "base_uri": "https://localhost:8080/",
          "height": 35
        },
        "outputId": "72b51ac5-0494-414f-8874-317c31ab6624"
      },
      "source": [
        "error_02 = abs(r2 - w_02@mu)/r2\n",
        "print(error_02)"
      ],
      "execution_count": 67,
      "outputs": [
        {
          "output_type": "stream",
          "text": [
            "1.2421353758545672e-15\n"
          ],
          "name": "stdout"
        }
      ]
    },
    {
      "cell_type": "markdown",
      "metadata": {
        "id": "0wYSp6QrTefT",
        "colab_type": "text"
      },
      "source": [
        "# Hallazgos\n",
        "\n",
        "El código funciona de manera correcta para distintos tamaños de matrices y para el protafolio de acciones.\n",
        "\n",
        "Las funciones generan unos valores con una exactitud de hasta 16 dígitos correctos. \n"
      ]
    },
    {
      "cell_type": "markdown",
      "metadata": {
        "id": "7V4_VToOTeZS",
        "colab_type": "text"
      },
      "source": [
        "**Nota**: Los tests fueron realizados en google colaboratory con GPU como entorno de ejecución"
      ]
    }
  ]
}