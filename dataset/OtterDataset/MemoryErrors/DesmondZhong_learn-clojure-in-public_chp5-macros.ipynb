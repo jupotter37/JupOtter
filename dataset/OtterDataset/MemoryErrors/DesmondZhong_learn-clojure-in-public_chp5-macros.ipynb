{
 "cells": [
  {
   "cell_type": "code",
   "execution_count": 1,
   "id": "colored-hello",
   "metadata": {},
   "outputs": [
    {
     "data": {
      "text/plain": [
       "nil"
      ]
     },
     "execution_count": 1,
     "metadata": {},
     "output_type": "execute_result"
    }
   ],
   "source": [
    "(ns ground-up.ch5)"
   ]
  },
  {
   "cell_type": "markdown",
   "id": "adapted-prevention",
   "metadata": {},
   "source": [
    "### Macroexpansion"
   ]
  },
  {
   "cell_type": "code",
   "execution_count": 2,
   "id": "hispanic-wheel",
   "metadata": {},
   "outputs": [
    {
     "data": {
      "text/plain": [
       "#'ground-up.ch5/ignore"
      ]
     },
     "execution_count": 2,
     "metadata": {},
     "output_type": "execute_result"
    }
   ],
   "source": [
    "(defmacro ignore\n",
    "    \"Cancels the evaluation of an expression, returning nil instead\"\n",
    "    [expr]\n",
    "    nil)"
   ]
  },
  {
   "cell_type": "code",
   "execution_count": 3,
   "id": "swedish-assist",
   "metadata": {},
   "outputs": [
    {
     "data": {
      "text/plain": [
       "nil"
      ]
     },
     "execution_count": 3,
     "metadata": {},
     "output_type": "execute_result"
    }
   ],
   "source": [
    "(ignore (+ 1 2)) ;; (+ 1 2) was never evaluated at all"
   ]
  },
  {
   "cell_type": "code",
   "execution_count": 4,
   "id": "worldwide-valuable",
   "metadata": {},
   "outputs": [
    {
     "data": {
      "text/plain": [
       "#'ground-up.ch5/x"
      ]
     },
     "execution_count": 4,
     "metadata": {},
     "output_type": "execute_result"
    }
   ],
   "source": [
    "(def x 1)"
   ]
  },
  {
   "cell_type": "code",
   "execution_count": 5,
   "id": "engaging-chile",
   "metadata": {},
   "outputs": [
    {
     "data": {
      "text/plain": [
       "nil"
      ]
     },
     "execution_count": 5,
     "metadata": {},
     "output_type": "execute_result"
    }
   ],
   "source": [
    "(ignore (def x 2))"
   ]
  },
  {
   "cell_type": "code",
   "execution_count": 6,
   "id": "reflected-brief",
   "metadata": {},
   "outputs": [
    {
     "data": {
      "text/plain": [
       "1"
      ]
     },
     "execution_count": 6,
     "metadata": {},
     "output_type": "execute_result"
    }
   ],
   "source": [
    "x"
   ]
  },
  {
   "cell_type": "markdown",
   "id": "directed-reconstruction",
   "metadata": {},
   "source": [
    "- during macroexpansion time, the expression is replaced by the expression `nil`, which is then evaluated to `nil`\n",
    "- __Where functions rewrite values, macros rewrite code__"
   ]
  },
  {
   "cell_type": "code",
   "execution_count": 7,
   "id": "acknowledged-stand",
   "metadata": {},
   "outputs": [
    {
     "data": {
      "text/plain": [
       "#'ground-up.ch5/rev"
      ]
     },
     "execution_count": 7,
     "metadata": {},
     "output_type": "execute_result"
    }
   ],
   "source": [
    "(defmacro rev [fun & args]\n",
    "    (cons fun (reverse args)))"
   ]
  },
  {
   "cell_type": "code",
   "execution_count": 8,
   "id": "worthy-automation",
   "metadata": {},
   "outputs": [
    {
     "data": {
      "text/plain": [
       "(str (+ 1 2) \"hi\")"
      ]
     },
     "execution_count": 8,
     "metadata": {},
     "output_type": "execute_result"
    }
   ],
   "source": [
    ";; takes an expression and returns that expression with all macros expanded\n",
    "(macroexpand '(rev str \"hi\" (+ 1 2)))"
   ]
  },
  {
   "cell_type": "code",
   "execution_count": 9,
   "id": "rubber-terrace",
   "metadata": {},
   "outputs": [
    {
     "data": {
      "text/plain": [
       "\"3hi\""
      ]
     },
     "execution_count": 9,
     "metadata": {},
     "output_type": "execute_result"
    }
   ],
   "source": [
    ";; takes an expression and evaluates it. \n",
    "(eval (macroexpand '(rev str \"hi\" (+ 1 2))))"
   ]
  },
  {
   "cell_type": "code",
   "execution_count": 10,
   "id": "usual-melissa",
   "metadata": {},
   "outputs": [
    {
     "data": {
      "text/plain": [
       "\"3hi\""
      ]
     },
     "execution_count": 10,
     "metadata": {},
     "output_type": "execute_result"
    }
   ],
   "source": [
    "(eval (rev str \"hi\" (+ 1 2))) ;; so `eval` first expand macro and evaluates?"
   ]
  },
  {
   "cell_type": "markdown",
   "id": "jewish-beach",
   "metadata": {},
   "source": [
    "- Clojure macroexpands, then evaluates.\n",
    "- The first stage transforms code, the second stage transforms values"
   ]
  },
  {
   "cell_type": "markdown",
   "id": "friendly-consciousness",
   "metadata": {},
   "source": [
    "### Defining new syntax\n",
    "- What kind of transformations are best expressed with macros?"
   ]
  },
  {
   "cell_type": "code",
   "execution_count": 11,
   "id": "going-tracy",
   "metadata": {},
   "outputs": [
    {
     "name": "stdout",
     "output_type": "stream",
     "text": [
      "(defmacro or\n",
      "  \"Evaluates exprs one at a time, from left to right. If a form\n",
      "  returns a logical true value, or returns that value and doesn't\n",
      "  evaluate any of the other expressions, otherwise it returns the\n",
      "  value of the last expression. (or) returns nil.\"\n",
      "  {:added \"1.0\"}\n",
      "  ([] nil)\n",
      "  ([x] x)\n",
      "  ([x & next]\n",
      "      `(let [or# ~x]\n",
      "         (if or# or# (or ~@next)))))\n"
     ]
    },
    {
     "data": {
      "text/plain": [
       "nil"
      ]
     },
     "execution_count": 11,
     "metadata": {},
     "output_type": "execute_result"
    }
   ],
   "source": [
    "(clojure.repl/source or)"
   ]
  },
  {
   "cell_type": "markdown",
   "id": "covered-softball",
   "metadata": {},
   "source": [
    "- `` ` `` syntax-quote: it is like regular quote - preventing evaluation of the following list, but we can escape the quoting rule and substitute in regularly evaluated expressions using unquote(`~`) and unquote-splice (`~@`)\n",
    "- think of a syntax-quoted expression liek a template for code, with some parts filled in by evaluated forms"
   ]
  },
  {
   "cell_type": "code",
   "execution_count": 12,
   "id": "valued-glasgow",
   "metadata": {},
   "outputs": [
    {
     "data": {
      "text/plain": [
       "(clojure.core/inc ground-up.ch5/x)"
      ]
     },
     "execution_count": 12,
     "metadata": {},
     "output_type": "execute_result"
    }
   ],
   "source": [
    "(let [x 2] `(inc x))"
   ]
  },
  {
   "cell_type": "code",
   "execution_count": 13,
   "id": "junior-adult",
   "metadata": {},
   "outputs": [
    {
     "data": {
      "text/plain": [
       "(clojure.core/inc 2)"
      ]
     },
     "execution_count": 13,
     "metadata": {},
     "output_type": "execute_result"
    }
   ],
   "source": [
    "(let [x 2] `(inc ~x))"
   ]
  },
  {
   "cell_type": "code",
   "execution_count": 14,
   "id": "exterior-porcelain",
   "metadata": {},
   "outputs": [
    {
     "data": {
      "text/plain": [
       "(ground-up.ch5/foo [1 2 3])"
      ]
     },
     "execution_count": 14,
     "metadata": {},
     "output_type": "execute_result"
    }
   ],
   "source": [
    "`(foo ~[1 2 3])"
   ]
  },
  {
   "cell_type": "code",
   "execution_count": 15,
   "id": "reported-inclusion",
   "metadata": {},
   "outputs": [
    {
     "data": {
      "text/plain": [
       "(ground-up.ch5/foo 1 2 3)"
      ]
     },
     "execution_count": 15,
     "metadata": {},
     "output_type": "execute_result"
    }
   ],
   "source": [
    "`(foo ~@[1 2 3])"
   ]
  },
  {
   "cell_type": "code",
   "execution_count": 16,
   "id": "forbidden-great",
   "metadata": {},
   "outputs": [
    {
     "data": {
      "text/plain": [
       "(ground-up.ch5/foo 1 2 3)"
      ]
     },
     "execution_count": 16,
     "metadata": {},
     "output_type": "execute_result"
    }
   ],
   "source": [
    "`(foo ~@'(1 2 3))"
   ]
  },
  {
   "cell_type": "code",
   "execution_count": 17,
   "id": "following-comparison",
   "metadata": {},
   "outputs": [
    {
     "name": "stdout",
     "output_type": "stream",
     "text": [
      "(let*\n",
      " [or__5516__auto__ a]\n",
      " (if or__5516__auto__ or__5516__auto__ (clojure.core/or b c d)))\n"
     ]
    },
    {
     "data": {
      "text/plain": [
       "nil"
      ]
     },
     "execution_count": 17,
     "metadata": {},
     "output_type": "execute_result"
    }
   ],
   "source": [
    "(clojure.pprint/pprint (macroexpand '(or a b c d)))"
   ]
  },
  {
   "cell_type": "markdown",
   "id": "careful-rolling",
   "metadata": {},
   "source": [
    "- whenever we need a new variable in a macro, we use `gensym` to generate a new symbol\n",
    "- tack on a `#` to the end of a symbol in a syntax-quoted expression, it'll be expanded to a particular gensym\n",
    "- to escape the safety feature and override local variables, use `~'foo` instead of `foo#` to do symbol capture"
   ]
  },
  {
   "cell_type": "code",
   "execution_count": 18,
   "id": "fewer-testament",
   "metadata": {},
   "outputs": [
    {
     "data": {
      "text/plain": [
       "hi4142"
      ]
     },
     "execution_count": 18,
     "metadata": {},
     "output_type": "execute_result"
    }
   ],
   "source": [
    "(gensym \"hi\")"
   ]
  },
  {
   "cell_type": "code",
   "execution_count": 19,
   "id": "applied-receptor",
   "metadata": {},
   "outputs": [
    {
     "data": {
      "text/plain": [
       "hi4145"
      ]
     },
     "execution_count": 19,
     "metadata": {},
     "output_type": "execute_result"
    }
   ],
   "source": [
    "(gensym \"hi\")"
   ]
  },
  {
   "cell_type": "code",
   "execution_count": 20,
   "id": "miniature-inquiry",
   "metadata": {},
   "outputs": [
    {
     "data": {
      "text/plain": [
       "hi4148"
      ]
     },
     "execution_count": 20,
     "metadata": {},
     "output_type": "execute_result"
    }
   ],
   "source": [
    "(gensym \"hi\")"
   ]
  },
  {
   "cell_type": "code",
   "execution_count": 21,
   "id": "found-serial",
   "metadata": {},
   "outputs": [
    {
     "data": {
      "text/plain": [
       "(clojure.core/let [x__4150__auto__ 2] x__4150__auto__)"
      ]
     },
     "execution_count": 21,
     "metadata": {},
     "output_type": "execute_result"
    }
   ],
   "source": [
    "`(let [x# 2] x#)"
   ]
  },
  {
   "cell_type": "code",
   "execution_count": 22,
   "id": "vietnamese-sierra",
   "metadata": {},
   "outputs": [
    {
     "name": "stdout",
     "output_type": "stream",
     "text": [
      "(let*\n",
      " [or__5516__auto__ (mossy? stone)]\n",
      " (if\n",
      "  or__5516__auto__\n",
      "  or__5516__auto__\n",
      "  (let*\n",
      "   [or__5516__auto__ (cool? stone)]\n",
      "   (if or__5516__auto__ or__5516__auto__ (wet? stone)))))\n"
     ]
    },
    {
     "data": {
      "text/plain": [
       "nil"
      ]
     },
     "execution_count": 22,
     "metadata": {},
     "output_type": "execute_result"
    }
   ],
   "source": [
    "(clojure.pprint/pprint (clojure.walk/macroexpand-all\n",
    "                         '(or (mossy? stone) (cool? stone) (wet? stone))))"
   ]
  },
  {
   "cell_type": "markdown",
   "id": "constant-thread",
   "metadata": {},
   "source": [
    "### Control flow"
   ]
  },
  {
   "cell_type": "code",
   "execution_count": 23,
   "id": "fixed-shooting",
   "metadata": {},
   "outputs": [
    {
     "name": "stdout",
     "output_type": "stream",
     "text": [
      "\"-5 is negative\"\n",
      "\"Who would have thought?\"\n"
     ]
    },
    {
     "data": {
      "text/plain": [
       "nil"
      ]
     },
     "execution_count": 23,
     "metadata": {},
     "output_type": "execute_result"
    }
   ],
   "source": [
    ";; `do` evaluate more than one expression in order\n",
    "(if (pos? -5)\n",
    "    (prn \"-5 is positive\")\n",
    "    (do\n",
    "        (prn \"-5 is negative\")\n",
    "        (prn \"Who would have thought?\")))"
   ]
  },
  {
   "cell_type": "markdown",
   "id": "extra-blond",
   "metadata": {},
   "source": [
    "- `prn` is a function which has a side effect. it prints a message to the screen and returns `nil`\n",
    "- `if` only takes a single expression per branch\n",
    "- `do` wraps up several expressions into a single expression, and evaluate them in order\n",
    "- `do` returns the value of the final expression\n",
    "- use `when` if you want to take only one branch of an `if`\n",
    "- `when` takes any number of expressions!"
   ]
  },
  {
   "cell_type": "code",
   "execution_count": 24,
   "id": "alien-newark",
   "metadata": {},
   "outputs": [
    {
     "data": {
      "text/plain": [
       "nil"
      ]
     },
     "execution_count": 24,
     "metadata": {},
     "output_type": "execute_result"
    }
   ],
   "source": [
    "(when false\n",
    "    (prn :hi)\n",
    "    (prn :there))"
   ]
  },
  {
   "cell_type": "code",
   "execution_count": 25,
   "id": "dominican-humanitarian",
   "metadata": {},
   "outputs": [
    {
     "name": "stdout",
     "output_type": "stream",
     "text": [
      ":hi\n",
      ":there\n"
     ]
    },
    {
     "data": {
      "text/plain": [
       "nil"
      ]
     },
     "execution_count": 25,
     "metadata": {},
     "output_type": "execute_result"
    }
   ],
   "source": [
    "(when true\n",
    "    (prn :hi)\n",
    "    (prn :there))"
   ]
  },
  {
   "cell_type": "code",
   "execution_count": 26,
   "id": "periodic-craps",
   "metadata": {},
   "outputs": [
    {
     "data": {
      "text/plain": [
       ":here"
      ]
     },
     "execution_count": 26,
     "metadata": {},
     "output_type": "execute_result"
    }
   ],
   "source": [
    "(when-not (number? \"a string\")\n",
    "    :here)"
   ]
  },
  {
   "cell_type": "code",
   "execution_count": 27,
   "id": "norwegian-individual",
   "metadata": {},
   "outputs": [
    {
     "data": {
      "text/plain": [
       ":a"
      ]
     },
     "execution_count": 27,
     "metadata": {},
     "output_type": "execute_result"
    }
   ],
   "source": [
    "(if-not (vector? (list 1 2 3))\n",
    "    :a\n",
    "    :b)"
   ]
  },
  {
   "cell_type": "code",
   "execution_count": 28,
   "id": "relative-wallet",
   "metadata": {},
   "outputs": [
    {
     "data": {
      "text/plain": [
       "\"10\""
      ]
     },
     "execution_count": 28,
     "metadata": {},
     "output_type": "execute_result"
    }
   ],
   "source": [
    ";; reuse the result of some operation\n",
    "(when-let [x (+ 1 2 3 4)]\n",
    "    (str x))"
   ]
  },
  {
   "cell_type": "markdown",
   "id": "certified-doctrine",
   "metadata": {},
   "source": [
    "- `while` evaluates an expression so long as its predicate is truthy. \n",
    "- This is generally useful only for side effects, like `prn` or `def`; things that change the state of the world"
   ]
  },
  {
   "cell_type": "code",
   "execution_count": 29,
   "id": "vocational-presentation",
   "metadata": {},
   "outputs": [
    {
     "name": "stdout",
     "output_type": "stream",
     "text": [
      "0\n",
      "1\n",
      "2\n",
      "3\n",
      "4\n"
     ]
    },
    {
     "data": {
      "text/plain": [
       "nil"
      ]
     },
     "execution_count": 29,
     "metadata": {},
     "output_type": "execute_result"
    }
   ],
   "source": [
    "(def x 0)\n",
    "(while (< x 5)\n",
    "    (prn x)\n",
    "    (def x (inc x)))"
   ]
  },
  {
   "cell_type": "code",
   "execution_count": 30,
   "id": "crazy-third",
   "metadata": {},
   "outputs": [
    {
     "data": {
      "text/plain": [
       ":yep"
      ]
     },
     "execution_count": 30,
     "metadata": {},
     "output_type": "execute_result"
    }
   ],
   "source": [
    ";; takes any number of test/expression pairs\n",
    ";; tries each test in turn\n",
    ";; the first test which evaluates truthy causes the following expression to be evaluated\n",
    ";; returns that expression's value\n",
    "(cond\n",
    "    (= 2 5) :nope\n",
    "    (= 3 3) :yep\n",
    "    (= 5 5) :cant-get-here\n",
    "    :else   :a-default-value)"
   ]
  },
  {
   "cell_type": "code",
   "execution_count": 31,
   "id": "known-wisconsin",
   "metadata": {},
   "outputs": [
    {
     "data": {
      "text/plain": [
       "#'ground-up.ch5/category"
      ]
     },
     "execution_count": 31,
     "metadata": {},
     "output_type": "execute_result"
    }
   ],
   "source": [
    "(defn category\n",
    "    \"Determine the Saffir-Simpson category of a hurricane, by wind speed in meters/sec\"\n",
    "    [wind-speed]\n",
    "    (condp <= wind-speed\n",
    "        70 :F5\n",
    "        60 :F4\n",
    "        49 :F3\n",
    "        42 :F2\n",
    "           :F1))  ;; Default value"
   ]
  },
  {
   "cell_type": "code",
   "execution_count": 32,
   "id": "incomplete-prior",
   "metadata": {},
   "outputs": [
    {
     "data": {
      "text/plain": [
       ":F1"
      ]
     },
     "execution_count": 32,
     "metadata": {},
     "output_type": "execute_result"
    }
   ],
   "source": [
    "(category 10)"
   ]
  },
  {
   "cell_type": "code",
   "execution_count": 33,
   "id": "cognitive-membrane",
   "metadata": {},
   "outputs": [
    {
     "data": {
      "text/plain": [
       ":F3"
      ]
     },
     "execution_count": 33,
     "metadata": {},
     "output_type": "execute_result"
    }
   ],
   "source": [
    "(category 50)"
   ]
  },
  {
   "cell_type": "code",
   "execution_count": 34,
   "id": "smaller-driving",
   "metadata": {},
   "outputs": [
    {
     "data": {
      "text/plain": [
       ":F5"
      ]
     },
     "execution_count": 34,
     "metadata": {},
     "output_type": "execute_result"
    }
   ],
   "source": [
    "(category 100)"
   ]
  },
  {
   "cell_type": "code",
   "execution_count": 35,
   "id": "olive-possibility",
   "metadata": {},
   "outputs": [
    {
     "data": {
      "text/plain": [
       "#'ground-up.ch5/with-tax"
      ]
     },
     "execution_count": 35,
     "metadata": {},
     "output_type": "execute_result"
    }
   ],
   "source": [
    "(defn with-tax\n",
    "    \"Computes the total cost, with tax, of a purchase in the given state.\"\n",
    "    [state subtotal]\n",
    "    (case state\n",
    "        :WA (* 1.065 subtotal)\n",
    "        :OR subtotal\n",
    "        :CA (* 1.075 subtotal)\n",
    "        subtotal))"
   ]
  },
  {
   "cell_type": "markdown",
   "id": "metric-frontier",
   "metadata": {},
   "source": [
    "- Unlike `cond` and `condp`, `case` does not evaluate its tests in order. It jumps immediately ot the matching expression. This makes `case` much faster when there are many branches to take, at the cost of reduced generality. "
   ]
  },
  {
   "cell_type": "markdown",
   "id": "electoral-transport",
   "metadata": {},
   "source": [
    "### Recursion"
   ]
  },
  {
   "cell_type": "code",
   "execution_count": 36,
   "id": "imported-bundle",
   "metadata": {},
   "outputs": [
    {
     "data": {
      "text/plain": [
       "#'ground-up.ch5/sum"
      ]
     },
     "execution_count": 36,
     "metadata": {},
     "output_type": "execute_result"
    }
   ],
   "source": [
    ";; functions call themselves explicitly\n",
    "(defn sum [numbers]\n",
    "    (if-let [n (first numbers)]\n",
    "        (+ n (sum (rest numbers)))\n",
    "        0))"
   ]
  },
  {
   "cell_type": "code",
   "execution_count": 37,
   "id": "indirect-beginning",
   "metadata": {},
   "outputs": [
    {
     "data": {
      "text/plain": [
       "45"
      ]
     },
     "execution_count": 37,
     "metadata": {},
     "output_type": "execute_result"
    }
   ],
   "source": [
    "(sum (range 10))"
   ]
  },
  {
   "cell_type": "code",
   "execution_count": 38,
   "id": "traditional-stupid",
   "metadata": {},
   "outputs": [
    {
     "name": "stderr",
     "output_type": "stream",
     "text": [
      "Execution error (StackOverflowError) at ground-up.ch5/sum (REPL:3).\n",
      "null\n"
     ]
    },
    {
     "ename": "class java.lang.StackOverflowError",
     "evalue": "",
     "output_type": "error",
     "traceback": [
      " RT.java:   692 clojure.lang.RT/first",
      "core.clj:    55 clojure.core$first__5384/invokeStatic"
     ]
    }
   ],
   "source": [
    "(sum (range 100000))"
   ]
  },
  {
   "cell_type": "markdown",
   "id": "forward-ottawa",
   "metadata": {},
   "source": [
    "- in order to add `n` and `(sum (rest numbers))`, we have to call `sum` first - while holding onto the memory for `n` and `numbers`. We can't reuse that memory until every single recursive call has completed. "
   ]
  },
  {
   "cell_type": "code",
   "execution_count": 39,
   "id": "adolescent-taste",
   "metadata": {},
   "outputs": [
    {
     "data": {
      "text/plain": [
       "#'ground-up.ch5/sum"
      ]
     },
     "execution_count": 39,
     "metadata": {},
     "output_type": "execute_result"
    }
   ],
   "source": [
    ";; a variation\n",
    "(defn sum\n",
    "    ([numbers]\n",
    "     (sum 0 numbers))\n",
    "    ([subtotal numbers]\n",
    "     (if-let [n (first numbers)]\n",
    "         (recur (+ subtotal n) (rest numbers))\n",
    "         subtotal)))"
   ]
  },
  {
   "cell_type": "code",
   "execution_count": 40,
   "id": "ancient-ukraine",
   "metadata": {},
   "outputs": [
    {
     "data": {
      "text/plain": [
       "4999950000"
      ]
     },
     "execution_count": 40,
     "metadata": {},
     "output_type": "execute_result"
    }
   ],
   "source": [
    "(sum (range 100000))"
   ]
  },
  {
   "cell_type": "markdown",
   "id": "foreign-electricity",
   "metadata": {},
   "source": [
    "- in its two-arguent form, `sum` now takes an accumulator, `subtotal`, which represents the count so far\n",
    "- `recur` has take the palce of `sum`\n",
    "- the final expression to be evaluated is not `+`, but `sum` itself. \n",
    "- we don't need to hang on to any of the variables in this function any more, because the final return value won't depend on them. \n",
    "- `recur` hints to the Clojure compiler that we don't need to hold on to the stack, and can re-use that space for other things. \n",
    "- This is called a _tail-recursive_ function, and it requires only a single stack frame no matter how deep the recursive calls go. \n",
    "use `recur` wherever possible!"
   ]
  },
  {
   "cell_type": "code",
   "execution_count": 41,
   "id": "advisory-mainstream",
   "metadata": {},
   "outputs": [
    {
     "data": {
      "text/plain": [
       "[0 1 2 3 4 5 6 7 8 9 10]"
      ]
     },
     "execution_count": 41,
     "metadata": {},
     "output_type": "execute_result"
    }
   ],
   "source": [
    ";; use recur within the context of the `loop` macro\n",
    ";; think of loop as a recursive let\n",
    "(loop [i 0\n",
    "       nums []]\n",
    "    (if (< 10 i)\n",
    "        nums\n",
    "        (recur (inc i) (conj nums i))))"
   ]
  },
  {
   "cell_type": "markdown",
   "id": "colonial-leave",
   "metadata": {},
   "source": [
    "### Laziness\n",
    "- most of the sequences returned by `map`, `filter`, `iterate`, `repeatedly` and so on, were _lazy_\n",
    "- This Laziness is provided by a macro `lazy-seq`"
   ]
  },
  {
   "cell_type": "code",
   "execution_count": 42,
   "id": "mineral-egyptian",
   "metadata": {},
   "outputs": [
    {
     "name": "stdout",
     "output_type": "stream",
     "text": [
      "(defmacro lazy-seq\n",
      "  \"Takes a body of expressions that returns an ISeq or nil, and yields\n",
      "  a Seqable object that will invoke the body only the first time seq\n",
      "  is called, and will cache the result and return it on all subsequent\n",
      "  seq calls. See also - realized?\"\n",
      "  {:added \"1.0\"}\n",
      "  [& body]\n",
      "  (list 'new 'clojure.lang.LazySeq (list* '^{:once true} fn* [] body)))\n"
     ]
    },
    {
     "data": {
      "text/plain": [
       "nil"
      ]
     },
     "execution_count": 42,
     "metadata": {},
     "output_type": "execute_result"
    }
   ],
   "source": [
    "(clojure.repl/source lazy-seq)"
   ]
  },
  {
   "cell_type": "code",
   "execution_count": 43,
   "id": "danish-collective",
   "metadata": {},
   "outputs": [
    {
     "name": "stdout",
     "output_type": "stream",
     "text": [
      "(defn filter\n",
      "  \"Returns a lazy sequence of the items in coll for which\n",
      "  (pred item) returns logical true. pred must be free of side-effects.\n",
      "  Returns a transducer when no collection is provided.\"\n",
      "  {:added \"1.0\"\n",
      "   :static true}\n",
      "  ([pred]\n",
      "    (fn [rf]\n",
      "      (fn\n",
      "        ([] (rf))\n",
      "        ([result] (rf result))\n",
      "        ([result input]\n",
      "           (if (pred input)\n",
      "             (rf result input)\n",
      "             result)))))\n",
      "  ([pred coll]\n",
      "   (lazy-seq\n",
      "    (when-let [s (seq coll)]\n",
      "      (if (chunked-seq? s)\n",
      "        (let [c (chunk-first s)\n",
      "              size (count c)\n",
      "              b (chunk-buffer size)]\n",
      "          (dotimes [i size]\n",
      "              (let [v (.nth c i)]\n",
      "                (when (pred v)\n",
      "                  (chunk-append b v))))\n",
      "          (chunk-cons (chunk b) (filter pred (chunk-rest s))))\n",
      "        (let [f (first s) r (rest s)]\n",
      "          (if (pred f)\n",
      "            (cons f (filter pred r))\n",
      "            (filter pred r))))))))\n"
     ]
    },
    {
     "data": {
      "text/plain": [
       "nil"
      ]
     },
     "execution_count": 43,
     "metadata": {},
     "output_type": "execute_result"
    }
   ],
   "source": [
    "(clojure.repl/source filter)"
   ]
  },
  {
   "cell_type": "code",
   "execution_count": 44,
   "id": "regulation-uncertainty",
   "metadata": {},
   "outputs": [
    {
     "data": {
      "text/plain": [
       "#'ground-up.ch5/integers"
      ]
     },
     "execution_count": 44,
     "metadata": {},
     "output_type": "execute_result"
    }
   ],
   "source": [
    "(defn integers\n",
    "    [x]\n",
    "    (lazy-seq\n",
    "     (cons x (integers (inc x)))))"
   ]
  },
  {
   "cell_type": "markdown",
   "id": "ranking-russian",
   "metadata": {},
   "source": [
    "- This is infinitely recursive\n",
    "- `lazy-seq` interrupted that recursion and restructured it into a sequence which constructs elements ony when they are requested"
   ]
  },
  {
   "cell_type": "code",
   "execution_count": 45,
   "id": "parliamentary-danger",
   "metadata": {},
   "outputs": [
    {
     "data": {
      "text/plain": [
       "#'ground-up.ch5/xs"
      ]
     },
     "execution_count": 45,
     "metadata": {},
     "output_type": "execute_result"
    }
   ],
   "source": [
    "(def xs (integers 0))"
   ]
  },
  {
   "cell_type": "code",
   "execution_count": 46,
   "id": "widespread-racing",
   "metadata": {},
   "outputs": [
    {
     "data": {
      "text/plain": [
       "(0 1 2 3 4 5 6 7 8 9)"
      ]
     },
     "execution_count": 46,
     "metadata": {},
     "output_type": "execute_result"
    }
   ],
   "source": [
    "(take 10 xs)"
   ]
  },
  {
   "cell_type": "code",
   "execution_count": 47,
   "id": "spiritual-immunology",
   "metadata": {},
   "outputs": [
    {
     "name": "stderr",
     "output_type": "stream",
     "text": [
      "Error printing return value (OutOfMemoryError) at java.util.Arrays/copyOf (Arrays.java:3332).\n",
      "Java heap space\n"
     ]
    },
    {
     "ename": "class clojure.lang.ExceptionInfo",
     "evalue": "",
     "output_type": "error",
     "traceback": [
      "               Arrays.java:  3332 java.util.Arrays/copyOf   ",
      "AbstractStringBuilder.java:   124 java.lang.AbstractStringBuilder/ensureCapacityInternal",
      "AbstractStringBuilder.java:   448 java.lang.AbstractStringBuilder/append",
      "         StringBuffer.java:   270 java.lang.StringBuffer/append",
      "         StringWriter.java:   101 java.io.StringWriter/write",
      "            core_print.clj:   129 clojure.core$fn__7284/invokeStatic",
      "            core_print.clj:   128 clojure.core$fn__7284/invoke",
      "              MultiFn.java:   234 clojure.lang.MultiFn/invoke",
      "                  core.clj:  3674 clojure.core$pr_on/invokeStatic",
      "                  core.clj:  3668 clojure.core$pr_on/invoke ",
      "            core_print.clj:    66 clojure.core$print_sequential/invokeStatic",
      "            core_print.clj:   174 clojure.core$fn__7310/invokeStatic",
      "              MultiFn.java:   234 clojure.lang.MultiFn/invoke",
      "                  core.clj:  3674 clojure.core$pr_on/invokeStatic",
      "                  core.clj:  3677 clojure.core$pr/invokeStatic",
      "                  AFn.java:   154 clojure.lang.AFn/applyToHelper",
      "               RestFn.java:   132 clojure.lang.RestFn/applyTo",
      "                  core.clj:   665 clojure.core$apply/invokeStatic",
      "                  core.clj:  4736 clojure.core$pr_str/invokeStatic",
      "               RestFn.java:   408 clojure.lang.RestFn/invoke",
      "      mime_convertible.clj:    12 clojupyter.misc.mime_convertible$fn__25587/invokeStatic",
      "      mime_convertible.clj:     9 clojupyter.misc.mime_convertible$fn__25587/invoke",
      "      mime_convertible.clj:     5 clojupyter.protocol.mime_convertible$fn__21275$G__21270__21280/invoke",
      "      nrepl_middleware.clj:    20 clojupyter.kernel.nrepl_middleware$mime_values$fn$reify__25598/send",
      "                  main.clj:   442 clojure.main$repl$read_eval_print__9086/invoke",
      "                  main.clj:   458 clojure.main$repl$fn__9095/invoke"
     ]
    }
   ],
   "source": [
    "(take 100000000 xs) ;; why not stackoverflow????"
   ]
  },
  {
   "cell_type": "code",
   "execution_count": 48,
   "id": "minimal-qualification",
   "metadata": {},
   "outputs": [
    {
     "data": {
      "text/plain": [
       "#'ground-up.ch5/x"
      ]
     },
     "execution_count": 48,
     "metadata": {},
     "output_type": "execute_result"
    }
   ],
   "source": [
    "(def x (delay\n",
    "        (prn \"computing a really big number\")\n",
    "        (last (take 100000000 (iterate inc 0)))))"
   ]
  },
  {
   "cell_type": "code",
   "execution_count": 49,
   "id": "blind-senate",
   "metadata": {},
   "outputs": [
    {
     "data": {
      "text/plain": [
       "#delay[{:status :pending, :val nil} 0x15da4b2b]"
      ]
     },
     "execution_count": 49,
     "metadata": {},
     "output_type": "execute_result"
    }
   ],
   "source": [
    "x"
   ]
  },
  {
   "cell_type": "code",
   "execution_count": 50,
   "id": "horizontal-context",
   "metadata": {},
   "outputs": [
    {
     "name": "stdout",
     "output_type": "stream",
     "text": [
      "\"computing a really big number\"\n"
     ]
    },
    {
     "data": {
      "text/plain": [
       "99999999"
      ]
     },
     "execution_count": 50,
     "metadata": {},
     "output_type": "execute_result"
    }
   ],
   "source": [
    "(deref x) ;; why not throw a out of memory error???"
   ]
  },
  {
   "cell_type": "markdown",
   "id": "referenced-volume",
   "metadata": {},
   "source": [
    "### List comprehensions\n",
    "- the list comprehension macro - `for` - combines recursion and laziness. \n",
    "- `for` takes a vector of bindings, like `let`\n",
    "- `for` binds its variables to each possible combination of elemnets in their corresponding sequences. "
   ]
  },
  {
   "cell_type": "code",
   "execution_count": 51,
   "id": "apart-speed",
   "metadata": {},
   "outputs": [
    {
     "data": {
      "text/plain": [
       "(0 -1 -2 -3 -4 -5 -6 -7 -8 -9)"
      ]
     },
     "execution_count": 51,
     "metadata": {},
     "output_type": "execute_result"
    }
   ],
   "source": [
    ";; this simplest form works like `map`\n",
    "(for [x (range 10)] (- x))"
   ]
  },
  {
   "cell_type": "code",
   "execution_count": 52,
   "id": "scientific-guidance",
   "metadata": {},
   "outputs": [
    {
     "data": {
      "text/plain": [
       "([1 :a] [1 :b] [2 :a] [2 :b] [3 :a] [3 :b])"
      ]
     },
     "execution_count": 52,
     "metadata": {},
     "output_type": "execute_result"
    }
   ],
   "source": [
    ";; for each x in sequence [1 2 3], and for each y in the sequence [:a :b], find all [x y] pairs\n",
    "(for [x [1 2 3]\n",
    "      y [:a :b]]\n",
    "    [x y])"
   ]
  },
  {
   "cell_type": "code",
   "execution_count": 53,
   "id": "distant-amplifier",
   "metadata": {},
   "outputs": [
    {
     "data": {
      "text/plain": [
       "([0 1] [0 3] [2 1] [2 3] [4 1] [4 3])"
      ]
     },
     "execution_count": 53,
     "metadata": {},
     "output_type": "execute_result"
    }
   ],
   "source": [
    "(for [x      (range 5)\n",
    "      y      (range 5)\n",
    "      :when  (and (even? x) (odd? y))]\n",
    "    [x y])"
   ]
  },
  {
   "cell_type": "code",
   "execution_count": 54,
   "id": "played-captain",
   "metadata": {},
   "outputs": [
    {
     "data": {
      "text/plain": [
       "([0 0] [1 0] [2 0])"
      ]
     },
     "execution_count": 54,
     "metadata": {},
     "output_type": "execute_result"
    }
   ],
   "source": [
    "(for [x      (range 5)\n",
    "      y      (range 5)\n",
    "      :while  (and (> 3 x) (> 1 y))]\n",
    "    [x y])"
   ]
  },
  {
   "cell_type": "markdown",
   "id": "auburn-revelation",
   "metadata": {},
   "source": [
    "### The threading macros\n",
    "- `->>` takes a previous expression and insert it at the end of the next expression\n",
    "- `->` takes a previous expression and insert it as the first argument of the next expression"
   ]
  },
  {
   "cell_type": "code",
   "execution_count": 55,
   "id": "arctic-crossing",
   "metadata": {},
   "outputs": [
    {
     "data": {
      "text/plain": [
       "25"
      ]
     },
     "execution_count": 55,
     "metadata": {},
     "output_type": "execute_result"
    }
   ],
   "source": [
    "(->>\n",
    "    (range 10)\n",
    "    (filter odd?)\n",
    "    (reduce +))"
   ]
  },
  {
   "cell_type": "code",
   "execution_count": 56,
   "id": "stock-bandwidth",
   "metadata": {},
   "outputs": [
    {
     "data": {
      "text/plain": [
       "(reduce + (filter odd? (range 10)))"
      ]
     },
     "execution_count": 56,
     "metadata": {},
     "output_type": "execute_result"
    }
   ],
   "source": [
    "(clojure.walk/macroexpand-all \n",
    " '(->>\n",
    "    (range 10)\n",
    "    (filter odd?)\n",
    "    (reduce +)))"
   ]
  },
  {
   "cell_type": "code",
   "execution_count": 57,
   "id": "comfortable-ireland",
   "metadata": {},
   "outputs": [
    {
     "data": {
      "text/plain": [
       "{:a :b, :apple :pear, :phone :laptop}"
      ]
     },
     "execution_count": 57,
     "metadata": {},
     "output_type": "execute_result"
    }
   ],
   "source": [
    "(-> {:a :b}\n",
    "    (assoc :apple :pear)\n",
    "    (assoc :phone :laptop))"
   ]
  },
  {
   "cell_type": "code",
   "execution_count": 58,
   "id": "liable-grenada",
   "metadata": {},
   "outputs": [
    {
     "data": {
      "text/plain": [
       "(assoc (assoc {:a :b} :apple :pear) :phone :laptop)"
      ]
     },
     "execution_count": 58,
     "metadata": {},
     "output_type": "execute_result"
    }
   ],
   "source": [
    "(clojure.walk/macroexpand-all \n",
    " '(-> {:a :b}\n",
    "    (assoc :apple :pear)\n",
    "    (assoc :phone :laptop)))"
   ]
  },
  {
   "cell_type": "markdown",
   "id": "studied-electronics",
   "metadata": {},
   "source": [
    "### Problems"
   ]
  },
  {
   "cell_type": "code",
   "execution_count": 59,
   "id": "sapphire-light",
   "metadata": {},
   "outputs": [
    {
     "data": {
      "text/plain": [
       "198"
      ]
     },
     "execution_count": 59,
     "metadata": {},
     "output_type": "execute_result"
    }
   ],
   "source": [
    ";; 2. use threading macro to find how many numbers from 0-9999 are palindromes. \n",
    "(-> (fn [x] (= (seq (str x)) (reverse (str x))))\n",
    "    (filter (range 9999))\n",
    "    (count))"
   ]
  },
  {
   "cell_type": "code",
   "execution_count": 60,
   "id": "medium-night",
   "metadata": {},
   "outputs": [
    {
     "data": {
      "text/plain": [
       "#'ground-up.ch5/id"
      ]
     },
     "execution_count": 60,
     "metadata": {},
     "output_type": "execute_result"
    }
   ],
   "source": [
    ";; 3. write a macro `id`\n",
    "(defmacro id\n",
    "    [fun & args]\n",
    "    (cons fun args))"
   ]
  },
  {
   "cell_type": "code",
   "execution_count": 61,
   "id": "removed-heavy",
   "metadata": {},
   "outputs": [
    {
     "data": {
      "text/plain": [
       "\"ab111\""
      ]
     },
     "execution_count": 61,
     "metadata": {},
     "output_type": "execute_result"
    }
   ],
   "source": [
    "(id str \"a\" \"b\" 111)"
   ]
  },
  {
   "cell_type": "code",
   "execution_count": 62,
   "id": "strange-jurisdiction",
   "metadata": {},
   "outputs": [
    {
     "data": {
      "text/plain": [
       "#'ground-up.ch5/log"
      ]
     },
     "execution_count": 62,
     "metadata": {},
     "output_type": "execute_result"
    }
   ],
   "source": [
    ";; 4. write a macro `log`\n",
    "(def logging-enabled true)\n",
    "(defmacro log\n",
    "    [expr]\n",
    "    (if logging-enabled\n",
    "        (prn expr)\n",
    "        nil))"
   ]
  },
  {
   "cell_type": "code",
   "execution_count": 63,
   "id": "gross-document",
   "metadata": {},
   "outputs": [
    {
     "name": "stdout",
     "output_type": "stream",
     "text": [
      ":hi\n"
     ]
    },
    {
     "data": {
      "text/plain": [
       "nil"
      ]
     },
     "execution_count": 63,
     "metadata": {},
     "output_type": "execute_result"
    }
   ],
   "source": [
    "(log :hi)"
   ]
  },
  {
   "cell_type": "code",
   "execution_count": 64,
   "id": "racial-mississippi",
   "metadata": {},
   "outputs": [
    {
     "data": {
      "text/plain": [
       "#'ground-up.ch5/logging-enabled"
      ]
     },
     "execution_count": 64,
     "metadata": {},
     "output_type": "execute_result"
    }
   ],
   "source": [
    "(def logging-enabled false)"
   ]
  },
  {
   "cell_type": "code",
   "execution_count": 65,
   "id": "medium-chart",
   "metadata": {},
   "outputs": [
    {
     "data": {
      "text/plain": [
       "nil"
      ]
     },
     "execution_count": 65,
     "metadata": {},
     "output_type": "execute_result"
    }
   ],
   "source": [
    "(log :hi)"
   ]
  },
  {
   "cell_type": "markdown",
   "id": "special-nickel",
   "metadata": {},
   "source": [
    "- I guess we want to do this check during compilation since we can use a global var to turn logging on and off throughout the program. \n",
    "- Is the downside being that we do need to define the varible `logging-enabled` before defining the macro??"
   ]
  },
  {
   "cell_type": "code",
   "execution_count": 66,
   "id": "younger-strap",
   "metadata": {},
   "outputs": [
    {
     "data": {
      "text/plain": [
       "#'ground-up.ch5/exact"
      ]
     },
     "execution_count": 66,
     "metadata": {},
     "output_type": "execute_result"
    }
   ],
   "source": [
    ";; 5 define a macro that return the ratio\n",
    "(defmacro exact\n",
    "    [expr]\n",
    "    (let [fun (first expr)\n",
    "          args (rest expr)]\n",
    "    `(~fun ~@(map rationalize args))))"
   ]
  },
  {
   "cell_type": "code",
   "execution_count": 67,
   "id": "fossil-fraud",
   "metadata": {},
   "outputs": [
    {
     "data": {
      "text/plain": [
       "245N"
      ]
     },
     "execution_count": 67,
     "metadata": {},
     "output_type": "execute_result"
    }
   ],
   "source": [
    "(exact (* 2.45 100))"
   ]
  }
 ],
 "metadata": {
  "kernelspec": {
   "display_name": "Clojure (clojupyter=0.3.2=1)",
   "language": "clojure",
   "name": "conda-clojupyter"
  },
  "language_info": {
   "file_extension": ".clj",
   "mimetype": "text/x-clojure",
   "name": "clojure",
   "version": "1.10.1"
  }
 },
 "nbformat": 4,
 "nbformat_minor": 5
}
