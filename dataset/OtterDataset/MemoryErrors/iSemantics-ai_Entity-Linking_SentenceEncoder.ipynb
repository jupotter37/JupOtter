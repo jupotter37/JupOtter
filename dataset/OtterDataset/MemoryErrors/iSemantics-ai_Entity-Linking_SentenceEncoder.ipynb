{
 "cells": [
  {
   "cell_type": "markdown",
   "metadata": {
    "id": "WFAkQW_aCHyh"
   },
   "source": [
    "# *** ⬇⬇⬇⬇⬇⬇⬇ Change the `package` dir with your current dir ⬇⬇⬇⬇⬇⬇⬇ ***"
   ]
  },
  {
   "cell_type": "code",
   "execution_count": 3,
   "metadata": {},
   "outputs": [
    {
     "name": "stdout",
     "output_type": "stream",
     "text": [
      "\u001b[33mWARNING: Running pip as the 'root' user can result in broken permissions and conflicting behaviour with the system package manager. It is recommended to use a virtual environment instead: https://pip.pypa.io/warnings/venv\u001b[0m\u001b[33m\n",
      "\u001b[0m"
     ]
    }
   ],
   "source": [
    "!pip install -q -r requirements.txt"
   ]
  },
  {
   "cell_type": "code",
   "execution_count": 4,
   "metadata": {},
   "outputs": [
    {
     "name": "stdout",
     "output_type": "stream",
     "text": [
      "\u001b[33mWARNING: Running pip as the 'root' user can result in broken permissions and conflicting behaviour with the system package manager. It is recommended to use a virtual environment instead: https://pip.pypa.io/warnings/venv\u001b[0m\u001b[33m\n",
      "\u001b[0m"
     ]
    }
   ],
   "source": [
    "!pip install -q -U sentence-transformers"
   ]
  },
  {
   "cell_type": "code",
   "execution_count": 5,
   "metadata": {
    "colab": {
     "base_uri": "https://localhost:8080/"
    },
    "id": "2NvUDmvuyjIh",
    "outputId": "56bcbe8d-e2e4-429c-dc6d-a7ec7d0ecbe1"
   },
   "outputs": [],
   "source": [
    "import sys\n",
    "import os\n",
    "import pandas as pd\n",
    "# import numpy as np\n",
    "import numpy as np\n",
    "import cupy as cp\n",
    "from pathlib import Path\n",
    "import sys \n",
    "import os\n",
    "import warnings\n",
    "warnings.simplefilter(action='ignore', category=FutureWarning)\n",
    "sys.path.append(os.path.abspath('..'))"
   ]
  },
  {
   "cell_type": "code",
   "execution_count": 32,
   "metadata": {
    "tags": []
   },
   "outputs": [],
   "source": [
    "from glob import glob\n",
    "\n",
    "import os\n",
    "filtered_files = []\n",
    "list_of_files = os.listdir('data') #list of files in the current directory\n",
    "for each_file in list_of_files:\n",
    "    if each_file.startswith('filtered_ciqcompany'):  #since its all type str you can simply use startswith\n",
    "        filtered_files.append(each_file)\n",
    "\n",
    "len(filtered_files)\n",
    "\n",
    "all_filtered = pd.concat([pd.read_csv(f'data/{f}',error_bad_lines=False,sep='\\t') for f in filtered_files],axis=0)\n",
    "all_filtered= all_filtered.dropna().reset_index(drop=True)\n",
    "\n",
    "all_filtered.columns, all_filtered.shape\n",
    "\n",
    "all_filtered = all_filtered.rename(columns={'companyname':'name'}).reset_index(drop=True)\n",
    "\n"
   ]
  },
  {
   "cell_type": "code",
   "execution_count": 33,
   "metadata": {},
   "outputs": [
    {
     "data": {
      "text/plain": [
       "38"
      ]
     },
     "execution_count": 33,
     "metadata": {},
     "output_type": "execute_result"
    }
   ],
   "source": [
    "len(filtered_files)"
   ]
  },
  {
   "cell_type": "code",
   "execution_count": 6,
   "metadata": {},
   "outputs": [],
   "source": [
    "matched_frame  = pd.read_csv('data/inferess-sp-ciq-matched-names.tsv', sep='\\t')\n",
    "\n",
    "inferess_comp = pd.read_csv('data/preview-sec-gen-07-set-02-rev-01-2015-2022-company.tsv', sep='\\t')"
   ]
  },
  {
   "cell_type": "code",
   "execution_count": 7,
   "metadata": {},
   "outputs": [
    {
     "data": {
      "text/html": [
       "<div>\n",
       "<style scoped>\n",
       "    .dataframe tbody tr th:only-of-type {\n",
       "        vertical-align: middle;\n",
       "    }\n",
       "\n",
       "    .dataframe tbody tr th {\n",
       "        vertical-align: top;\n",
       "    }\n",
       "\n",
       "    .dataframe thead th {\n",
       "        text-align: right;\n",
       "    }\n",
       "</style>\n",
       "<table border=\"1\" class=\"dataframe\">\n",
       "  <thead>\n",
       "    <tr style=\"text-align: right;\">\n",
       "      <th></th>\n",
       "      <th>inferess_entity_id</th>\n",
       "      <th>normalize_name</th>\n",
       "      <th>reference_name</th>\n",
       "      <th>sp_ciq_id</th>\n",
       "      <th>sp_ciq_name</th>\n",
       "    </tr>\n",
       "  </thead>\n",
       "  <tbody>\n",
       "    <tr>\n",
       "      <th>0</th>\n",
       "      <td>70101953912</td>\n",
       "      <td>024 Pharma Inc</td>\n",
       "      <td>024 Pharma, Inc.</td>\n",
       "      <td>51788819</td>\n",
       "      <td>024 Pharma Inc.</td>\n",
       "    </tr>\n",
       "    <tr>\n",
       "      <th>1</th>\n",
       "      <td>70101857119</td>\n",
       "      <td>1-800 Contacts Inc</td>\n",
       "      <td>1-800 Contacts Inc.</td>\n",
       "      <td>378329</td>\n",
       "      <td>1-800 CONTACTS, INC.</td>\n",
       "    </tr>\n",
       "    <tr>\n",
       "      <th>2</th>\n",
       "      <td>70101859206</td>\n",
       "      <td>1-800-FLOWERS.COM Inc</td>\n",
       "      <td>1-800-FLOWERS.COM Inc.</td>\n",
       "      <td>24085</td>\n",
       "      <td>1-800-FLOWERS.COM, Inc.</td>\n",
       "    </tr>\n",
       "    <tr>\n",
       "      <th>3</th>\n",
       "      <td>70101659003</td>\n",
       "      <td>100 and RW CRA LLC</td>\n",
       "      <td>100 &amp; RW CRA LLC</td>\n",
       "      <td>237393026</td>\n",
       "      <td>100 &amp; RW Cra LLC</td>\n",
       "    </tr>\n",
       "    <tr>\n",
       "      <th>4</th>\n",
       "      <td>70101699624</td>\n",
       "      <td>10x Genomics Inc</td>\n",
       "      <td>10x Genomics Inc.</td>\n",
       "      <td>223288117</td>\n",
       "      <td>10x Genomics, Inc.</td>\n",
       "    </tr>\n",
       "    <tr>\n",
       "      <th>...</th>\n",
       "      <td>...</td>\n",
       "      <td>...</td>\n",
       "      <td>...</td>\n",
       "      <td>...</td>\n",
       "      <td>...</td>\n",
       "    </tr>\n",
       "    <tr>\n",
       "      <th>23680</th>\n",
       "      <td>70101910357</td>\n",
       "      <td>uniQure NV</td>\n",
       "      <td>uniQure N.V.</td>\n",
       "      <td>171029664</td>\n",
       "      <td>uniQure N.V.</td>\n",
       "    </tr>\n",
       "    <tr>\n",
       "      <th>23681</th>\n",
       "      <td>70101854751</td>\n",
       "      <td>urban-gro Inc</td>\n",
       "      <td>urban-gro Inc.</td>\n",
       "      <td>431844712</td>\n",
       "      <td>urban-gro, Inc.</td>\n",
       "    </tr>\n",
       "    <tr>\n",
       "      <th>23682</th>\n",
       "      <td>70101576553</td>\n",
       "      <td>vTv Therapeutics Inc</td>\n",
       "      <td>vTv Therapeutics Inc.</td>\n",
       "      <td>304063261</td>\n",
       "      <td>vTv Therapeutics Inc.</td>\n",
       "    </tr>\n",
       "    <tr>\n",
       "      <th>23683</th>\n",
       "      <td>70101938898</td>\n",
       "      <td>vitacost.com Inc</td>\n",
       "      <td>vitacost.com Inc.</td>\n",
       "      <td>1057357</td>\n",
       "      <td>Vitacost.com, Inc.</td>\n",
       "    </tr>\n",
       "    <tr>\n",
       "      <th>23684</th>\n",
       "      <td>70100624899</td>\n",
       "      <td>voxeljet AG</td>\n",
       "      <td>voxeljet AG ADR</td>\n",
       "      <td>246882377</td>\n",
       "      <td>voxeljet AG</td>\n",
       "    </tr>\n",
       "  </tbody>\n",
       "</table>\n",
       "<p>23685 rows × 5 columns</p>\n",
       "</div>"
      ],
      "text/plain": [
       "       inferess_entity_id         normalize_name          reference_name  \\\n",
       "0             70101953912         024 Pharma Inc        024 Pharma, Inc.   \n",
       "1             70101857119     1-800 Contacts Inc     1-800 Contacts Inc.   \n",
       "2             70101859206  1-800-FLOWERS.COM Inc  1-800-FLOWERS.COM Inc.   \n",
       "3             70101659003     100 and RW CRA LLC        100 & RW CRA LLC   \n",
       "4             70101699624       10x Genomics Inc       10x Genomics Inc.   \n",
       "...                   ...                    ...                     ...   \n",
       "23680         70101910357             uniQure NV            uniQure N.V.   \n",
       "23681         70101854751          urban-gro Inc          urban-gro Inc.   \n",
       "23682         70101576553   vTv Therapeutics Inc   vTv Therapeutics Inc.   \n",
       "23683         70101938898       vitacost.com Inc       vitacost.com Inc.   \n",
       "23684         70100624899            voxeljet AG         voxeljet AG ADR   \n",
       "\n",
       "       sp_ciq_id              sp_ciq_name  \n",
       "0       51788819          024 Pharma Inc.  \n",
       "1         378329     1-800 CONTACTS, INC.  \n",
       "2          24085  1-800-FLOWERS.COM, Inc.  \n",
       "3      237393026         100 & RW Cra LLC  \n",
       "4      223288117       10x Genomics, Inc.  \n",
       "...          ...                      ...  \n",
       "23680  171029664             uniQure N.V.  \n",
       "23681  431844712          urban-gro, Inc.  \n",
       "23682  304063261    vTv Therapeutics Inc.  \n",
       "23683    1057357       Vitacost.com, Inc.  \n",
       "23684  246882377              voxeljet AG  \n",
       "\n",
       "[23685 rows x 5 columns]"
      ]
     },
     "execution_count": 7,
     "metadata": {},
     "output_type": "execute_result"
    }
   ],
   "source": [
    "matched_frame"
   ]
  },
  {
   "cell_type": "code",
   "execution_count": 8,
   "metadata": {
    "id": "MFTaoNd0jTvK"
   },
   "outputs": [],
   "source": [
    "a = matched_frame[['normalize_name']]\n",
    "b = matched_frame[['sp_ciq_name']]\n",
    "c = matched_frame[['reference_name']]\n"
   ]
  },
  {
   "cell_type": "code",
   "execution_count": 9,
   "metadata": {
    "colab": {
     "base_uri": "https://localhost:8080/"
    },
    "id": "7dAMcAslkNgz",
    "outputId": "9d54bdd7-a261-4244-b3f5-92ad9abf1139"
   },
   "outputs": [
    {
     "data": {
      "text/plain": [
       "(normalize_name    0\n",
       " dtype: int64,\n",
       " sp_ciq_name    0\n",
       " dtype: int64)"
      ]
     },
     "execution_count": 9,
     "metadata": {},
     "output_type": "execute_result"
    }
   ],
   "source": [
    "a.isnull().sum(), b.isnull().sum()"
   ]
  },
  {
   "cell_type": "code",
   "execution_count": 10,
   "metadata": {
    "id": "G7r1EhJuj9pf"
   },
   "outputs": [],
   "source": [
    "a = a.rename(columns={'normalize_name':'name'}).reset_index(drop=True)\n",
    "b = b.rename(columns={'sp_ciq_name':'name'}).reset_index(drop=True)\n",
    "c = c.rename(columns={'reference_name':'name'}).reset_index(drop=True)"
   ]
  },
  {
   "cell_type": "code",
   "execution_count": 11,
   "metadata": {
    "id": "tjQ17SlgFsZj"
   },
   "outputs": [],
   "source": [
    "a = a.astype({\"name\": str}, errors='raise')\n",
    "b = b.astype({\"name\": str}, errors='raise')\n",
    "c = c.astype({\"name\": str}, errors='raise')"
   ]
  },
  {
   "cell_type": "code",
   "execution_count": 12,
   "metadata": {},
   "outputs": [],
   "source": [
    "import neattext as ntx\n",
    "import re\n",
    "def preprocess(x):\n",
    "    x = re.sub(r\"[\\*\\\"\\n\\\\…\\+\\-\\/\\=\\(\\)‘•€\\[\\]\\|♫:;—,.”“~`#]\", \"\", x) \n",
    "\n",
    "    x = ntx.replace_term(x, ' and ','')\n",
    "    x = ntx.replace_term(x, '&','')\n",
    "    x = ntx.replace_term(x, 'aktiengesellschaft','ag')\n",
    "    x = ntx.replace_term(x, 'public company limited','pcl')\n",
    "    x = ntx.replace_term(x, 'public limited company','plc')\n",
    "    x = ntx.replace_term(x, 'limited partnership','lp')\n",
    "    x = ntx.replace_term(x, 'limited liability company','llc')    \n",
    "    x = ntx.replace_term(x, 'société anonyme','sa')\n",
    "    x = ntx.replace_term(x, 'the','')\n",
    "    x = ntx.replace_term(x, 'private','pvt')    \n",
    "    x = ntx.replace_term(x, 'limited','ltd')\n",
    "    x = ntx.replace_term(x, 'company','co')\n",
    "    x = ntx.replace_term(x, 'incorporated','inc')\n",
    "    x = ntx.replace_term(x, 'corporation','corp')\n",
    "    # x = ntx.replace_term(x, ' ','')\n",
    "\n",
    "    return x "
   ]
  },
  {
   "cell_type": "code",
   "execution_count": 13,
   "metadata": {},
   "outputs": [
    {
     "name": "stdout",
     "output_type": "stream",
     "text": [
      "CPU times: user 816 ms, sys: 2 ms, total: 818 ms\n",
      "Wall time: 824 ms\n"
     ]
    }
   ],
   "source": [
    "%%time\n",
    "load = True\n",
    "\n",
    "a['norm'] = a['name'].apply(lambda x :re.sub(r\"(\\w)([A-Z])\", r\"\\1 \\2\", ' '.join([s.capitalize() if len(s) < 5 else s for s in x.split()])))\\\n",
    "    .apply(lambda x : x.lower()).apply(preprocess)\n",
    "\n",
    "\n",
    "\n",
    "b['norm'] = b['name'].apply(lambda x :re.sub(r\"(\\w)([A-Z])\", r\"\\1 \\2\", ' '.join([s.capitalize() if len(s) < 5 else s for s in x.split()])))\\\n",
    "    .apply(lambda x : x.lower()).apply(preprocess)\n",
    "\n",
    "c['norm'] = c['name'].apply(lambda x :re.sub(r\"(\\w)([A-Z])\", r\"\\1 \\2\", ' '.join([s.capitalize() if len(s) < 5 else s for s in x.split()])))\\\n",
    "    .apply(lambda x : x.lower()).apply(preprocess)\n",
    "\n",
    "\n",
    "# if load:\n",
    "#     all_filtered = pd.read_csv('data/all_filtered_normalized.tsv', sep='\\t')\n",
    "# else:\n",
    "    \n",
    "#     all_filtered['norm'] = all_filtered['name'].apply(lambda x :re.sub(r\"(\\w)([A-Z])\", r\"\\1 \\2\", ' '.join([s.capitalize() if len(s) < 5 else s for s in x.split()])))\\\n",
    "#         .apply(lambda x : x.lower()).apply(preprocess)\n",
    "        \n",
    "            \n",
    "        \n",
    "        \n"
   ]
  },
  {
   "cell_type": "code",
   "execution_count": 34,
   "metadata": {},
   "outputs": [
    {
     "data": {
      "text/plain": [
       "(10314918, 2)"
      ]
     },
     "execution_count": 34,
     "metadata": {},
     "output_type": "execute_result"
    }
   ],
   "source": [
    "all_filtered.shape"
   ]
  },
  {
   "cell_type": "code",
   "execution_count": 14,
   "metadata": {},
   "outputs": [],
   "source": [
    "a['norm_ws'] = a['norm'].apply(lambda x : ntx.replace_term(x, ' ','') ) \n",
    "b['norm_ws'] = b['norm'].apply(lambda x : ntx.replace_term(x, ' ','') ) \n",
    "c['norm_ws'] = c['norm'].apply(lambda x : ntx.replace_term(x, ' ','') ) \n",
    "\n",
    "# all_filtered['norm_ws'] = all_filtered['norm'].apply(lambda x : ntx.replace_term(x, ' ','') ) "
   ]
  },
  {
   "cell_type": "code",
   "execution_count": 13,
   "metadata": {
    "tags": []
   },
   "outputs": [],
   "source": [
    "# all_filtered.to_csv('data/all_filtered_normalized.tsv', sep='\\t')\n"
   ]
  },
  {
   "cell_type": "code",
   "execution_count": 14,
   "metadata": {},
   "outputs": [],
   "source": [
    "a['f_word'] = a.norm.apply(lambda x : ''.join(x.split()[:-1]) if len(x.split()) > 1 else ''.join(x.split())).apply(lambda x : ntx.replace_term(x, ' ',''))\n",
    "b['f_word'] = b.norm.apply(lambda x : ''.join(x.split()[:-1]) if len(x.split()) > 1 else ''.join(x.split())).apply(lambda x : ntx.replace_term(x, ' ',''))\n"
   ]
  },
  {
   "cell_type": "code",
   "execution_count": 10,
   "metadata": {},
   "outputs": [],
   "source": [
    "import faiss\n",
    "assert hasattr(faiss, \"IndexFlatIP\")\n",
    "use_faiss = True "
   ]
  },
  {
   "cell_type": "code",
   "execution_count": 15,
   "metadata": {},
   "outputs": [
    {
     "data": {
      "text/plain": [
       "'cuda'"
      ]
     },
     "execution_count": 15,
     "metadata": {},
     "output_type": "execute_result"
    }
   ],
   "source": [
    "import torch \n",
    "device = 'cuda' if torch.cuda.is_available() else 'cpu'\n",
    "device "
   ]
  },
  {
   "cell_type": "code",
   "execution_count": null,
   "metadata": {},
   "outputs": [],
   "source": [
    "\n",
    "sentences_or_file_path = a['name'].tolist()\n",
    "index = {\"sentences\": sentences_or_file_path}\n",
    "\n",
    "if use_faiss:\n",
    "    quantizer = faiss.IndexFlatIP(embeddings.shape[1])  \n",
    "    if True:\n",
    "        index = faiss.IndexIVFFlat(quantizer, embeddings.shape[1], min(self.num_cells, len(sentences_or_file_path)), faiss.METRIC_INNER_PRODUCT) \n",
    "    else:\n",
    "        index = quantizer\n",
    "\n",
    "    if (device == \"cuda\" and device != \"cpu\") or device == \"cuda\":\n",
    "        if hasattr(faiss, \"StandardGpuResources\"):\n",
    "            logger.info(\"Use GPU-version faiss\")\n",
    "            res = faiss.StandardGpuResources()\n",
    "            res.setTempMemory(20 * 1024 * 1024 * 1024)\n",
    "            index = faiss.index_cpu_to_gpu(res, 0, index)\n",
    "        else:\n",
    "            logger.info(\"Use CPU-version faiss\")\n"
   ]
  },
  {
   "cell_type": "code",
   "execution_count": null,
   "metadata": {},
   "outputs": [],
   "source": [
    "match_ngrams = matcher._vec.transform(\n",
    "    to_be_matched[matcher._column_matching].tolist()).tocsc()\n",
    "results = sparse_cosine_top_n(\n",
    "    matrix_a=matcher._n_grams_matching, matrix_b=match_ngrams, top_n=matcher._top_n, low_memory=matcher._low_memory, number_of_rows=matcher._number_of_rows, verbose=matcher._verbose)\n"
   ]
  },
  {
   "cell_type": "markdown",
   "metadata": {
    "jp-MarkdownHeadingCollapsed": true,
    "tags": []
   },
   "source": [
    "# Create dataset for Entity Linking"
   ]
  },
  {
   "cell_type": "markdown",
   "metadata": {},
   "source": [
    "Train a neural network to encode enities into dense dimension represent the charaters that match two entities# Create an dataset fot entity linking \n",
    "\n",
    "1. Collect positive links: \n",
    "`Collect highly scored names with the rule based methods that guarantee correctness of the matching`\n",
    "---\n",
    "2. Collect hard negative links:\n",
    "`Hard negative matches means pretty close but not match to distinguish the distinct point that match between two names`\n",
    "---\n",
    "3. Symbol and what it stand for: \n",
    "`This hopefully will allow the neural networt to understand if some words can match it's intials`\n",
    "---\n",
    "4. Leverage the SME knowledge base to create some fake examples: \n",
    "`Searching for hard patterns like:`\n",
    "- two words have no space between them\n",
    "- some symbols used as short cut\n",
    "- create fake shortcuts and real one as pos and neg samples\n",
    "\n"
   ]
  },
  {
   "cell_type": "code",
   "execution_count": 18,
   "metadata": {},
   "outputs": [],
   "source": [
    "from Levenshtein import distance, ratio\n"
   ]
  },
  {
   "cell_type": "code",
   "execution_count": 19,
   "metadata": {
    "collapsed": true,
    "jupyter": {
     "outputs_hidden": true
    },
    "tags": []
   },
   "outputs": [
    {
     "name": "stderr",
     "output_type": "stream",
     "text": [
      " 56%|█████▌    | 10788/19371 [4:51:08<3:51:37,  1.62s/it]\n"
     ]
    },
    {
     "ename": "KeyboardInterrupt",
     "evalue": "",
     "output_type": "error",
     "traceback": [
      "\u001b[0;31m---------------------------------------------------------------------------\u001b[0m",
      "\u001b[0;31mKeyboardInterrupt\u001b[0m                         Traceback (most recent call last)",
      "File \u001b[0;32m<timed exec>:7\u001b[0m, in \u001b[0;36m<module>\u001b[0;34m\u001b[0m\n",
      "File \u001b[0;32m/usr/local/lib/python3.9/dist-packages/pandas/core/indexing.py:967\u001b[0m, in \u001b[0;36m_LocationIndexer.__getitem__\u001b[0;34m(self, key)\u001b[0m\n\u001b[1;32m    964\u001b[0m axis \u001b[38;5;241m=\u001b[39m \u001b[38;5;28mself\u001b[39m\u001b[38;5;241m.\u001b[39maxis \u001b[38;5;129;01mor\u001b[39;00m \u001b[38;5;241m0\u001b[39m\n\u001b[1;32m    966\u001b[0m maybe_callable \u001b[38;5;241m=\u001b[39m com\u001b[38;5;241m.\u001b[39mapply_if_callable(key, \u001b[38;5;28mself\u001b[39m\u001b[38;5;241m.\u001b[39mobj)\n\u001b[0;32m--> 967\u001b[0m \u001b[38;5;28;01mreturn\u001b[39;00m \u001b[38;5;28;43mself\u001b[39;49m\u001b[38;5;241;43m.\u001b[39;49m\u001b[43m_getitem_axis\u001b[49m\u001b[43m(\u001b[49m\u001b[43mmaybe_callable\u001b[49m\u001b[43m,\u001b[49m\u001b[43m \u001b[49m\u001b[43maxis\u001b[49m\u001b[38;5;241;43m=\u001b[39;49m\u001b[43maxis\u001b[49m\u001b[43m)\u001b[49m\n",
      "File \u001b[0;32m/usr/local/lib/python3.9/dist-packages/pandas/core/indexing.py:1522\u001b[0m, in \u001b[0;36m_iLocIndexer._getitem_axis\u001b[0;34m(self, key, axis)\u001b[0m\n\u001b[1;32m   1519\u001b[0m \u001b[38;5;66;03m# validate the location\u001b[39;00m\n\u001b[1;32m   1520\u001b[0m \u001b[38;5;28mself\u001b[39m\u001b[38;5;241m.\u001b[39m_validate_integer(key, axis)\n\u001b[0;32m-> 1522\u001b[0m \u001b[38;5;28;01mreturn\u001b[39;00m \u001b[38;5;28;43mself\u001b[39;49m\u001b[38;5;241;43m.\u001b[39;49m\u001b[43mobj\u001b[49m\u001b[38;5;241;43m.\u001b[39;49m\u001b[43m_ixs\u001b[49m\u001b[43m(\u001b[49m\u001b[43mkey\u001b[49m\u001b[43m,\u001b[49m\u001b[43m \u001b[49m\u001b[43maxis\u001b[49m\u001b[38;5;241;43m=\u001b[39;49m\u001b[43maxis\u001b[49m\u001b[43m)\u001b[49m\n",
      "File \u001b[0;32m/usr/local/lib/python3.9/dist-packages/pandas/core/frame.py:3428\u001b[0m, in \u001b[0;36mDataFrame._ixs\u001b[0;34m(self, i, axis)\u001b[0m\n\u001b[1;32m   3426\u001b[0m \u001b[38;5;66;03m# if we are a copy, mark as such\u001b[39;00m\n\u001b[1;32m   3427\u001b[0m copy \u001b[38;5;241m=\u001b[39m \u001b[38;5;28misinstance\u001b[39m(new_values, np\u001b[38;5;241m.\u001b[39mndarray) \u001b[38;5;129;01mand\u001b[39;00m new_values\u001b[38;5;241m.\u001b[39mbase \u001b[38;5;129;01mis\u001b[39;00m \u001b[38;5;28;01mNone\u001b[39;00m\n\u001b[0;32m-> 3428\u001b[0m result \u001b[38;5;241m=\u001b[39m \u001b[38;5;28;43mself\u001b[39;49m\u001b[38;5;241;43m.\u001b[39;49m\u001b[43m_constructor_sliced\u001b[49m\u001b[43m(\u001b[49m\n\u001b[1;32m   3429\u001b[0m \u001b[43m    \u001b[49m\u001b[43mnew_values\u001b[49m\u001b[43m,\u001b[49m\n\u001b[1;32m   3430\u001b[0m \u001b[43m    \u001b[49m\u001b[43mindex\u001b[49m\u001b[38;5;241;43m=\u001b[39;49m\u001b[38;5;28;43mself\u001b[39;49m\u001b[38;5;241;43m.\u001b[39;49m\u001b[43mcolumns\u001b[49m\u001b[43m,\u001b[49m\n\u001b[1;32m   3431\u001b[0m \u001b[43m    \u001b[49m\u001b[43mname\u001b[49m\u001b[38;5;241;43m=\u001b[39;49m\u001b[38;5;28;43mself\u001b[39;49m\u001b[38;5;241;43m.\u001b[39;49m\u001b[43mindex\u001b[49m\u001b[43m[\u001b[49m\u001b[43mi\u001b[49m\u001b[43m]\u001b[49m\u001b[43m,\u001b[49m\n\u001b[1;32m   3432\u001b[0m \u001b[43m    \u001b[49m\u001b[43mdtype\u001b[49m\u001b[38;5;241;43m=\u001b[39;49m\u001b[43mnew_values\u001b[49m\u001b[38;5;241;43m.\u001b[39;49m\u001b[43mdtype\u001b[49m\u001b[43m,\u001b[49m\n\u001b[1;32m   3433\u001b[0m \u001b[43m\u001b[49m\u001b[43m)\u001b[49m\n\u001b[1;32m   3434\u001b[0m result\u001b[38;5;241m.\u001b[39m_set_is_copy(\u001b[38;5;28mself\u001b[39m, copy\u001b[38;5;241m=\u001b[39mcopy)\n\u001b[1;32m   3435\u001b[0m \u001b[38;5;28;01mreturn\u001b[39;00m result\n",
      "File \u001b[0;32m/usr/local/lib/python3.9/dist-packages/pandas/core/series.py:453\u001b[0m, in \u001b[0;36mSeries.__init__\u001b[0;34m(self, data, index, dtype, name, copy, fastpath)\u001b[0m\n\u001b[1;32m    450\u001b[0m \u001b[38;5;28;01melse\u001b[39;00m:\n\u001b[1;32m    451\u001b[0m     data \u001b[38;5;241m=\u001b[39m sanitize_array(data, index, dtype, copy)\n\u001b[0;32m--> 453\u001b[0m     manager \u001b[38;5;241m=\u001b[39m \u001b[43mget_option\u001b[49m\u001b[43m(\u001b[49m\u001b[38;5;124;43m\"\u001b[39;49m\u001b[38;5;124;43mmode.data_manager\u001b[39;49m\u001b[38;5;124;43m\"\u001b[39;49m\u001b[43m)\u001b[49m\n\u001b[1;32m    454\u001b[0m     \u001b[38;5;28;01mif\u001b[39;00m manager \u001b[38;5;241m==\u001b[39m \u001b[38;5;124m\"\u001b[39m\u001b[38;5;124mblock\u001b[39m\u001b[38;5;124m\"\u001b[39m:\n\u001b[1;32m    455\u001b[0m         data \u001b[38;5;241m=\u001b[39m SingleBlockManager\u001b[38;5;241m.\u001b[39mfrom_array(data, index)\n",
      "File \u001b[0;32m/usr/local/lib/python3.9/dist-packages/pandas/_config/config.py:256\u001b[0m, in \u001b[0;36mCallableDynamicDoc.__call__\u001b[0;34m(self, *args, **kwds)\u001b[0m\n\u001b[1;32m    255\u001b[0m \u001b[38;5;28;01mdef\u001b[39;00m \u001b[38;5;21m__call__\u001b[39m(\u001b[38;5;28mself\u001b[39m, \u001b[38;5;241m*\u001b[39margs, \u001b[38;5;241m*\u001b[39m\u001b[38;5;241m*\u001b[39mkwds):\n\u001b[0;32m--> 256\u001b[0m     \u001b[38;5;28;01mreturn\u001b[39;00m \u001b[38;5;28;43mself\u001b[39;49m\u001b[38;5;241;43m.\u001b[39;49m\u001b[38;5;18;43m__func__\u001b[39;49m\u001b[43m(\u001b[49m\u001b[38;5;241;43m*\u001b[39;49m\u001b[43margs\u001b[49m\u001b[43m,\u001b[49m\u001b[43m \u001b[49m\u001b[38;5;241;43m*\u001b[39;49m\u001b[38;5;241;43m*\u001b[39;49m\u001b[43mkwds\u001b[49m\u001b[43m)\u001b[49m\n",
      "File \u001b[0;32m/usr/local/lib/python3.9/dist-packages/pandas/_config/config.py:128\u001b[0m, in \u001b[0;36m_get_option\u001b[0;34m(pat, silent)\u001b[0m\n\u001b[1;32m    127\u001b[0m \u001b[38;5;28;01mdef\u001b[39;00m \u001b[38;5;21m_get_option\u001b[39m(pat: \u001b[38;5;28mstr\u001b[39m, silent: \u001b[38;5;28mbool\u001b[39m \u001b[38;5;241m=\u001b[39m \u001b[38;5;28;01mFalse\u001b[39;00m):\n\u001b[0;32m--> 128\u001b[0m     key \u001b[38;5;241m=\u001b[39m \u001b[43m_get_single_key\u001b[49m\u001b[43m(\u001b[49m\u001b[43mpat\u001b[49m\u001b[43m,\u001b[49m\u001b[43m \u001b[49m\u001b[43msilent\u001b[49m\u001b[43m)\u001b[49m\n\u001b[1;32m    130\u001b[0m     \u001b[38;5;66;03m# walk the nested dict\u001b[39;00m\n\u001b[1;32m    131\u001b[0m     root, k \u001b[38;5;241m=\u001b[39m _get_root(key)\n",
      "File \u001b[0;32m/usr/local/lib/python3.9/dist-packages/pandas/_config/config.py:117\u001b[0m, in \u001b[0;36m_get_single_key\u001b[0;34m(pat, silent)\u001b[0m\n\u001b[1;32m    115\u001b[0m \u001b[38;5;28;01mif\u001b[39;00m \u001b[38;5;28mlen\u001b[39m(keys) \u001b[38;5;241m>\u001b[39m \u001b[38;5;241m1\u001b[39m:\n\u001b[1;32m    116\u001b[0m     \u001b[38;5;28;01mraise\u001b[39;00m OptionError(\u001b[38;5;124m\"\u001b[39m\u001b[38;5;124mPattern matched multiple keys\u001b[39m\u001b[38;5;124m\"\u001b[39m)\n\u001b[0;32m--> 117\u001b[0m key \u001b[38;5;241m=\u001b[39m \u001b[43mkeys\u001b[49m\u001b[43m[\u001b[49m\u001b[38;5;241;43m0\u001b[39;49m\u001b[43m]\u001b[49m\n\u001b[1;32m    119\u001b[0m \u001b[38;5;28;01mif\u001b[39;00m \u001b[38;5;129;01mnot\u001b[39;00m silent:\n\u001b[1;32m    120\u001b[0m     _warn_if_deprecated(key)\n",
      "\u001b[0;31mKeyboardInterrupt\u001b[0m: "
     ]
    }
   ],
   "source": [
    "\n",
    "%%time\n",
    "from tqdm import tqdm\n",
    "d = a\n",
    "similarities = np.zeros((d.shape[0], d.shape[0]))\n",
    "\n",
    "for i in tqdm(range(4314,len(d))):\n",
    "    for j in range(len(d)):\n",
    "        similarities[i][j] = ratio(a.iloc[i]['norm'], b.iloc[j]['norm'] )\n"
   ]
  },
  {
   "cell_type": "code",
   "execution_count": 21,
   "metadata": {},
   "outputs": [
    {
     "data": {
      "text/plain": [
       "array([[0.        , 0.        , 0.        , ..., 0.        , 0.        ,\n",
       "        0.        ],\n",
       "       [0.3255814 , 0.4       , 0.35294118, ..., 0.43478261, 0.36363636,\n",
       "        0.25      ],\n",
       "       [0.25      , 0.34042553, 0.33333333, ..., 0.3255814 , 0.43902439,\n",
       "        0.27027027],\n",
       "       ...,\n",
       "       [0.35294118, 0.29268293, 0.28571429, ..., 0.32432432, 0.4       ,\n",
       "        0.25806452],\n",
       "       [0.17391304, 0.33333333, 0.19354839, ..., 0.30769231, 0.41666667,\n",
       "        0.4       ],\n",
       "       [0.28571429, 0.47619048, 0.37209302, ..., 0.57894737, 0.61111111,\n",
       "        0.3125    ]])"
      ]
     },
     "execution_count": 23,
     "metadata": {},
     "output_type": "execute_result"
    }
   ],
   "source": []
  },
  {
   "cell_type": "code",
   "execution_count": 24,
   "metadata": {},
   "outputs": [],
   "source": [
    "np.save(\"data/sim2.npy\", similarities[4314:15102])"
   ]
  },
  {
   "cell_type": "code",
   "execution_count": 20,
   "metadata": {
    "tags": []
   },
   "outputs": [
    {
     "ename": "NameError",
     "evalue": "name 'similarities' is not defined",
     "output_type": "error",
     "traceback": [
      "\u001b[0;31m---------------------------------------------------------------------------\u001b[0m",
      "\u001b[0;31mNameError\u001b[0m                                 Traceback (most recent call last)",
      "Input \u001b[0;32mIn [20]\u001b[0m, in \u001b[0;36m<cell line: 2>\u001b[0;34m()\u001b[0m\n\u001b[1;32m      1\u001b[0m neg_dict \u001b[38;5;241m=\u001b[39m {\u001b[38;5;124m'\u001b[39m\u001b[38;5;124mword\u001b[39m\u001b[38;5;124m'\u001b[39m:[], \u001b[38;5;124m'\u001b[39m\u001b[38;5;124mneg\u001b[39m\u001b[38;5;124m'\u001b[39m:[]} \n\u001b[0;32m----> 2\u001b[0m \u001b[38;5;28;01mfor\u001b[39;00m i,sim \u001b[38;5;129;01min\u001b[39;00m \u001b[38;5;28menumerate\u001b[39m(\u001b[43msimilarities\u001b[49m):\n\u001b[1;32m      3\u001b[0m     \u001b[38;5;28msorted\u001b[39m \u001b[38;5;241m=\u001b[39m np\u001b[38;5;241m.\u001b[39margsort(sim,axis\u001b[38;5;241m=\u001b[39m\u001b[38;5;241m0\u001b[39m)\n\u001b[1;32m      4\u001b[0m     top_sim \u001b[38;5;241m=\u001b[39m \u001b[38;5;28msorted\u001b[39m[::\u001b[38;5;241m-\u001b[39m\u001b[38;5;241m1\u001b[39m][\u001b[38;5;241m1\u001b[39m:\u001b[38;5;241m20\u001b[39m]\n",
      "\u001b[0;31mNameError\u001b[0m: name 'similarities' is not defined"
     ]
    }
   ],
   "source": [
    "neg_dict = {'word':[], 'neg':[]} \n",
    "for i,sim in enumerate(similarities):\n",
    "    sorted = np.argsort(sim,axis=0)\n",
    "    top_sim = sorted[::-1][1:20]\n",
    "    top_sim = top_sim[np.where(sim[top_sim] >= 0.7)]\n",
    "    word = a.iloc[i]['name']\n",
    "    sim_neg = b.iloc[top_sim]['name'].tolist() \n",
    "    neg_dict['word'] += [word]*len(sim_neg)\n",
    "\n",
    "    neg_dict['neg'] += sim_neg\n",
    "\n",
    "\n",
    "\n",
    "pd.DataFrame(neg_dict).to_json('data/neg_names.json')"
   ]
  },
  {
   "cell_type": "code",
   "execution_count": 21,
   "metadata": {},
   "outputs": [],
   "source": [
    "neg_name = pd.read_json('data/neg_names.json')"
   ]
  },
  {
   "cell_type": "code",
   "execution_count": 31,
   "metadata": {},
   "outputs": [],
   "source": [
    "neg_name['norm'] = neg_name['word'].apply(lambda x :re.sub(r\"(\\w)([A-Z])\", r\"\\1 \\2\", ' '.join([s.capitalize() if len(s) < 5 else s for s in x.split()])))\\\n",
    "    .apply(lambda x : x.lower()).apply(preprocess)\n",
    "\n",
    "neg_name['norm_ws'] = neg_name['norm'].apply(lambda x : ntx.replace_term(x, ' ','') ) \n",
    "\n",
    "neg_name['neg_norm'] = neg_name['neg'].apply(lambda x :re.sub(r\"(\\w)([A-Z])\", r\"\\1 \\2\", ' '.join([s.capitalize() if len(s) < 5 else s for s in x.split()])))\\\n",
    "    .apply(lambda x : x.lower()).apply(preprocess)\n",
    "\n",
    "neg_name['neg_norm_ws'] = neg_name['neg_norm'].apply(lambda x : ntx.replace_term(x, ' ','') ) \n"
   ]
  },
  {
   "cell_type": "code",
   "execution_count": 32,
   "metadata": {
    "tags": []
   },
   "outputs": [],
   "source": [
    "\n",
    "positives = list(zip(a.norm_ws.tolist(),b.norm_ws.tolist()))\n",
    "negatives = list(zip(neg_name.norm_ws.tolist(),neg_name.neg_norm_ws.tolist() ) )\n",
    "\n",
    "\n",
    "X_train = positives + negatives\n",
    "y_train = [1]*len(positives) + [0]*len(negatives)\n",
    "\n",
    "assert len(X_train) == len(y_train)\n",
    "\n",
    "pd.DataFrame({\"X_train\":X_train,'y_train':y_train} ).to_json('data/training_data_v1.json')\n",
    "\n"
   ]
  },
  {
   "cell_type": "code",
   "execution_count": 37,
   "metadata": {},
   "outputs": [],
   "source": [
    "shuffle = True \n",
    "train_data = pd.read_json('data/training_data_v1.json')\n",
    "if shuffle: \n",
    "    train_data = train_data.sample(frac=1)"
   ]
  },
  {
   "cell_type": "code",
   "execution_count": 37,
   "metadata": {},
   "outputs": [
    {
     "data": {
      "text/html": [
       "<div>\n",
       "<style scoped>\n",
       "    .dataframe tbody tr th:only-of-type {\n",
       "        vertical-align: middle;\n",
       "    }\n",
       "\n",
       "    .dataframe tbody tr th {\n",
       "        vertical-align: top;\n",
       "    }\n",
       "\n",
       "    .dataframe thead th {\n",
       "        text-align: right;\n",
       "    }\n",
       "</style>\n",
       "<table border=\"1\" class=\"dataframe\">\n",
       "  <thead>\n",
       "    <tr style=\"text-align: right;\">\n",
       "      <th></th>\n",
       "      <th>X_train</th>\n",
       "      <th>y_train</th>\n",
       "    </tr>\n",
       "  </thead>\n",
       "  <tbody>\n",
       "    <tr>\n",
       "      <th>35031</th>\n",
       "      <td>[alleteinc, atexinc]</td>\n",
       "      <td>0</td>\n",
       "    </tr>\n",
       "    <tr>\n",
       "      <th>33542</th>\n",
       "      <td>[airgasinc, arazuinc]</td>\n",
       "      <td>0</td>\n",
       "    </tr>\n",
       "    <tr>\n",
       "      <th>3712</th>\n",
       "      <td>[cedromsniinc, cedromsniinc]</td>\n",
       "      <td>1</td>\n",
       "    </tr>\n",
       "    <tr>\n",
       "      <th>21695</th>\n",
       "      <td>[upmcchildren'shospitalofpittsburgh, upmcchildren'shospitalofpittsburgh]</td>\n",
       "      <td>1</td>\n",
       "    </tr>\n",
       "    <tr>\n",
       "      <th>53328</th>\n",
       "      <td>[bitzioinc, itroninc]</td>\n",
       "      <td>0</td>\n",
       "    </tr>\n",
       "    <tr>\n",
       "      <th>18194</th>\n",
       "      <td>[sdc, sdc]</td>\n",
       "      <td>1</td>\n",
       "    </tr>\n",
       "    <tr>\n",
       "      <th>12760</th>\n",
       "      <td>[mddsrl, mddsrl]</td>\n",
       "      <td>1</td>\n",
       "    </tr>\n",
       "    <tr>\n",
       "      <th>38964</th>\n",
       "      <td>[amrepcorp, arielcorp]</td>\n",
       "      <td>0</td>\n",
       "    </tr>\n",
       "    <tr>\n",
       "      <th>6812</th>\n",
       "      <td>[essabancorpinc, essabancorpinc]</td>\n",
       "      <td>1</td>\n",
       "    </tr>\n",
       "    <tr>\n",
       "      <th>11539</th>\n",
       "      <td>[kochenergyservicesllc, kochenergyservicesllc]</td>\n",
       "      <td>1</td>\n",
       "    </tr>\n",
       "    <tr>\n",
       "      <th>13698</th>\n",
       "      <td>[microsourceinc, microsourceinc]</td>\n",
       "      <td>1</td>\n",
       "    </tr>\n",
       "    <tr>\n",
       "      <th>61557</th>\n",
       "      <td>[camberenergyinc, srcenergyinc]</td>\n",
       "      <td>0</td>\n",
       "    </tr>\n",
       "    <tr>\n",
       "      <th>10771</th>\n",
       "      <td>[innolighttechnologycorp, innolighttechnologycorp]</td>\n",
       "      <td>1</td>\n",
       "    </tr>\n",
       "    <tr>\n",
       "      <th>17358</th>\n",
       "      <td>[rjreynoldstobaccoco, rjreynoldstobaccoco]</td>\n",
       "      <td>1</td>\n",
       "    </tr>\n",
       "    <tr>\n",
       "      <th>55913</th>\n",
       "      <td>[buildersfirstsourceinc, businessfirstbancsharesinc]</td>\n",
       "      <td>0</td>\n",
       "    </tr>\n",
       "    <tr>\n",
       "      <th>32045</th>\n",
       "      <td>[aegonthtflifeinsurancecoltd, nationalinsurancecorpltd]</td>\n",
       "      <td>0</td>\n",
       "    </tr>\n",
       "    <tr>\n",
       "      <th>3992</th>\n",
       "      <td>[cplvpropertyownerllc, cplvpropertyownerllc]</td>\n",
       "      <td>1</td>\n",
       "    </tr>\n",
       "    <tr>\n",
       "      <th>21863</th>\n",
       "      <td>[unionfidelitylifeinsuranceco, unionfidelitylifeinsuranceco]</td>\n",
       "      <td>1</td>\n",
       "    </tr>\n",
       "    <tr>\n",
       "      <th>40411</th>\n",
       "      <td>[apexsystemsllc, pegasystemsinc]</td>\n",
       "      <td>0</td>\n",
       "    </tr>\n",
       "    <tr>\n",
       "      <th>27825</th>\n",
       "      <td>[arinetworkservicesinc, basicenergyservicesinc]</td>\n",
       "      <td>0</td>\n",
       "    </tr>\n",
       "  </tbody>\n",
       "</table>\n",
       "</div>"
      ],
      "text/plain": [
       "                                                                        X_train  \\\n",
       "35031                                                      [alleteinc, atexinc]   \n",
       "33542                                                     [airgasinc, arazuinc]   \n",
       "3712                                               [cedromsniinc, cedromsniinc]   \n",
       "21695  [upmcchildren'shospitalofpittsburgh, upmcchildren'shospitalofpittsburgh]   \n",
       "53328                                                     [bitzioinc, itroninc]   \n",
       "18194                                                                [sdc, sdc]   \n",
       "12760                                                          [mddsrl, mddsrl]   \n",
       "38964                                                    [amrepcorp, arielcorp]   \n",
       "6812                                           [essabancorpinc, essabancorpinc]   \n",
       "11539                            [kochenergyservicesllc, kochenergyservicesllc]   \n",
       "13698                                          [microsourceinc, microsourceinc]   \n",
       "61557                                           [camberenergyinc, srcenergyinc]   \n",
       "10771                        [innolighttechnologycorp, innolighttechnologycorp]   \n",
       "17358                                [rjreynoldstobaccoco, rjreynoldstobaccoco]   \n",
       "55913                      [buildersfirstsourceinc, businessfirstbancsharesinc]   \n",
       "32045                   [aegonthtflifeinsurancecoltd, nationalinsurancecorpltd]   \n",
       "3992                               [cplvpropertyownerllc, cplvpropertyownerllc]   \n",
       "21863              [unionfidelitylifeinsuranceco, unionfidelitylifeinsuranceco]   \n",
       "40411                                          [apexsystemsllc, pegasystemsinc]   \n",
       "27825                           [arinetworkservicesinc, basicenergyservicesinc]   \n",
       "\n",
       "       y_train  \n",
       "35031        0  \n",
       "33542        0  \n",
       "3712         1  \n",
       "21695        1  \n",
       "53328        0  \n",
       "18194        1  \n",
       "12760        1  \n",
       "38964        0  \n",
       "6812         1  \n",
       "11539        1  \n",
       "13698        1  \n",
       "61557        0  \n",
       "10771        1  \n",
       "17358        1  \n",
       "55913        0  \n",
       "32045        0  \n",
       "3992         1  \n",
       "21863        1  \n",
       "40411        0  \n",
       "27825        0  "
      ]
     },
     "execution_count": 37,
     "metadata": {},
     "output_type": "execute_result"
    }
   ],
   "source": [
    "pd.options.display.max_rows = 100\n",
    "pd.options.display.max_colwidth = None\n",
    "\n",
    "train_data.sample(20)"
   ]
  },
  {
   "cell_type": "markdown",
   "metadata": {},
   "source": [
    "# Sentence Encoder"
   ]
  },
  {
   "cell_type": "code",
   "execution_count": 16,
   "metadata": {},
   "outputs": [
    {
     "data": {
      "application/vnd.jupyter.widget-view+json": {
       "model_id": "7a34b8e5c2734ed7a4f6ea41f63d5814",
       "version_major": 2,
       "version_minor": 0
      },
      "text/plain": [
       "Downloading:   0%|          | 0.00/690 [00:00<?, ?B/s]"
      ]
     },
     "metadata": {},
     "output_type": "display_data"
    },
    {
     "data": {
      "application/vnd.jupyter.widget-view+json": {
       "model_id": "19f24394ea614acd8029716db15bf21b",
       "version_major": 2,
       "version_minor": 0
      },
      "text/plain": [
       "Downloading:   0%|          | 0.00/190 [00:00<?, ?B/s]"
      ]
     },
     "metadata": {},
     "output_type": "display_data"
    },
    {
     "data": {
      "application/vnd.jupyter.widget-view+json": {
       "model_id": "414fa0c0d1794cb4a78d1c0d14805306",
       "version_major": 2,
       "version_minor": 0
      },
      "text/plain": [
       "Downloading:   0%|          | 0.00/3.69k [00:00<?, ?B/s]"
      ]
     },
     "metadata": {},
     "output_type": "display_data"
    },
    {
     "data": {
      "application/vnd.jupyter.widget-view+json": {
       "model_id": "11d12587f6e2448c9653bd42c3dce6cd",
       "version_major": 2,
       "version_minor": 0
      },
      "text/plain": [
       "Downloading:   0%|          | 0.00/629 [00:00<?, ?B/s]"
      ]
     },
     "metadata": {},
     "output_type": "display_data"
    },
    {
     "data": {
      "application/vnd.jupyter.widget-view+json": {
       "model_id": "a13d18c392974ed38295ad06385fcbd8",
       "version_major": 2,
       "version_minor": 0
      },
      "text/plain": [
       "Downloading:   0%|          | 0.00/122 [00:00<?, ?B/s]"
      ]
     },
     "metadata": {},
     "output_type": "display_data"
    },
    {
     "data": {
      "application/vnd.jupyter.widget-view+json": {
       "model_id": "ca1f61ce52c04f5ba9d169ae18f7907b",
       "version_major": 2,
       "version_minor": 0
      },
      "text/plain": [
       "Downloading:   0%|          | 0.00/90.9M [00:00<?, ?B/s]"
      ]
     },
     "metadata": {},
     "output_type": "display_data"
    },
    {
     "data": {
      "application/vnd.jupyter.widget-view+json": {
       "model_id": "5345c3d66659492c8506456b706af598",
       "version_major": 2,
       "version_minor": 0
      },
      "text/plain": [
       "Downloading:   0%|          | 0.00/53.0 [00:00<?, ?B/s]"
      ]
     },
     "metadata": {},
     "output_type": "display_data"
    },
    {
     "data": {
      "application/vnd.jupyter.widget-view+json": {
       "model_id": "3b31b9d4682644d68b2c61e36102426a",
       "version_major": 2,
       "version_minor": 0
      },
      "text/plain": [
       "Downloading:   0%|          | 0.00/112 [00:00<?, ?B/s]"
      ]
     },
     "metadata": {},
     "output_type": "display_data"
    },
    {
     "data": {
      "application/vnd.jupyter.widget-view+json": {
       "model_id": "6b85e9a179fc44b5bc08e5f69d1f2ad0",
       "version_major": 2,
       "version_minor": 0
      },
      "text/plain": [
       "Downloading:   0%|          | 0.00/466k [00:00<?, ?B/s]"
      ]
     },
     "metadata": {},
     "output_type": "display_data"
    },
    {
     "data": {
      "application/vnd.jupyter.widget-view+json": {
       "model_id": "4fd14c16f05349e481a684300407991f",
       "version_major": 2,
       "version_minor": 0
      },
      "text/plain": [
       "Downloading:   0%|          | 0.00/314 [00:00<?, ?B/s]"
      ]
     },
     "metadata": {},
     "output_type": "display_data"
    },
    {
     "data": {
      "application/vnd.jupyter.widget-view+json": {
       "model_id": "b0edbd73ec4b46e8a61bea995cbf9087",
       "version_major": 2,
       "version_minor": 0
      },
      "text/plain": [
       "Downloading:   0%|          | 0.00/232k [00:00<?, ?B/s]"
      ]
     },
     "metadata": {},
     "output_type": "display_data"
    },
    {
     "data": {
      "application/vnd.jupyter.widget-view+json": {
       "model_id": "5e3418a512ec425b98563c881b8c9d7f",
       "version_major": 2,
       "version_minor": 0
      },
      "text/plain": [
       "Downloading:   0%|          | 0.00/229 [00:00<?, ?B/s]"
      ]
     },
     "metadata": {},
     "output_type": "display_data"
    }
   ],
   "source": [
    "from sentence_transformers import SentenceTransformer\n",
    "# model_name = 'sentence-transformers/paraphrase-albert-small-v2'\n",
    "model_name = 'paraphrase-MiniLM-L6-v2'\n",
    "model = SentenceTransformer(model_name)\n",
    "\n",
    "#Sentences we want to encode. Example:\n",
    "sentence = ['This framework generates embeddings for each input sentence']\n",
    "\n",
    "\n",
    "#Sentences are encoded by calling model.encode()\n",
    "embedding = model.encode(sentence)"
   ]
  },
  {
   "cell_type": "code",
   "execution_count": 19,
   "metadata": {},
   "outputs": [
    {
     "data": {
      "text/plain": [
       "dict_keys(['_model_card_vars', '_model_card_text', '_model_config', 'training', '_parameters', '_buffers', '_non_persistent_buffers_set', '_backward_hooks', '_is_full_backward_hook', '_forward_hooks', '_forward_pre_hooks', '_state_dict_hooks', '_load_state_dict_pre_hooks', '_load_state_dict_post_hooks', '_modules', '_target_device'])"
      ]
     },
     "execution_count": 19,
     "metadata": {},
     "output_type": "execute_result"
    }
   ],
   "source": [
    "model.__dict__.keys()"
   ]
  },
  {
   "cell_type": "code",
   "execution_count": 53,
   "metadata": {},
   "outputs": [],
   "source": [
    "# Examine Tokenizer"
   ]
  },
  {
   "cell_type": "code",
   "execution_count": 49,
   "metadata": {},
   "outputs": [
    {
     "name": "stdout",
     "output_type": "stream",
     "text": [
      "CPU times: user 13.7 s, sys: 1.72 s, total: 15.5 s\n",
      "Wall time: 12.3 s\n"
     ]
    }
   ],
   "source": [
    " %%time\n",
    "word_embeddings_a = model.encode(a.name)\n",
    "word_embeddings_b = model.encode(b.name)"
   ]
  },
  {
   "cell_type": "code",
   "execution_count": null,
   "metadata": {},
   "outputs": [],
   "source": [
    "word_embeddings_a.shape"
   ]
  },
  {
   "cell_type": "code",
   "execution_count": 46,
   "metadata": {},
   "outputs": [
    {
     "name": "stdout",
     "output_type": "stream",
     "text": [
      "CPU times: user 54.4 s, sys: 11.5 s, total: 1min 5s\n",
      "Wall time: 49.2 s\n"
     ]
    }
   ],
   "source": [
    "%%time\n",
    "word_embeddings_all = model.encode(all_filtered.head(500_000)['name'],batch_size=264,device='cuda',normalize_embeddings=True)"
   ]
  },
  {
   "cell_type": "code",
   "execution_count": 44,
   "metadata": {},
   "outputs": [
    {
     "data": {
      "text/plain": [
       "\u001b[0;31mSignature:\u001b[0m\n",
       "\u001b[0mmodel\u001b[0m\u001b[0;34m.\u001b[0m\u001b[0mencode\u001b[0m\u001b[0;34m(\u001b[0m\u001b[0;34m\u001b[0m\n",
       "\u001b[0;34m\u001b[0m    \u001b[0msentences\u001b[0m\u001b[0;34m:\u001b[0m \u001b[0mUnion\u001b[0m\u001b[0;34m[\u001b[0m\u001b[0mstr\u001b[0m\u001b[0;34m,\u001b[0m \u001b[0mList\u001b[0m\u001b[0;34m[\u001b[0m\u001b[0mstr\u001b[0m\u001b[0;34m]\u001b[0m\u001b[0;34m]\u001b[0m\u001b[0;34m,\u001b[0m\u001b[0;34m\u001b[0m\n",
       "\u001b[0;34m\u001b[0m    \u001b[0mbatch_size\u001b[0m\u001b[0;34m:\u001b[0m \u001b[0mint\u001b[0m \u001b[0;34m=\u001b[0m \u001b[0;36m32\u001b[0m\u001b[0;34m,\u001b[0m\u001b[0;34m\u001b[0m\n",
       "\u001b[0;34m\u001b[0m    \u001b[0mshow_progress_bar\u001b[0m\u001b[0;34m:\u001b[0m \u001b[0mbool\u001b[0m \u001b[0;34m=\u001b[0m \u001b[0;32mNone\u001b[0m\u001b[0;34m,\u001b[0m\u001b[0;34m\u001b[0m\n",
       "\u001b[0;34m\u001b[0m    \u001b[0moutput_value\u001b[0m\u001b[0;34m:\u001b[0m \u001b[0mstr\u001b[0m \u001b[0;34m=\u001b[0m \u001b[0;34m'sentence_embedding'\u001b[0m\u001b[0;34m,\u001b[0m\u001b[0;34m\u001b[0m\n",
       "\u001b[0;34m\u001b[0m    \u001b[0mconvert_to_numpy\u001b[0m\u001b[0;34m:\u001b[0m \u001b[0mbool\u001b[0m \u001b[0;34m=\u001b[0m \u001b[0;32mTrue\u001b[0m\u001b[0;34m,\u001b[0m\u001b[0;34m\u001b[0m\n",
       "\u001b[0;34m\u001b[0m    \u001b[0mconvert_to_tensor\u001b[0m\u001b[0;34m:\u001b[0m \u001b[0mbool\u001b[0m \u001b[0;34m=\u001b[0m \u001b[0;32mFalse\u001b[0m\u001b[0;34m,\u001b[0m\u001b[0;34m\u001b[0m\n",
       "\u001b[0;34m\u001b[0m    \u001b[0mdevice\u001b[0m\u001b[0;34m:\u001b[0m \u001b[0mstr\u001b[0m \u001b[0;34m=\u001b[0m \u001b[0;32mNone\u001b[0m\u001b[0;34m,\u001b[0m\u001b[0;34m\u001b[0m\n",
       "\u001b[0;34m\u001b[0m    \u001b[0mnormalize_embeddings\u001b[0m\u001b[0;34m:\u001b[0m \u001b[0mbool\u001b[0m \u001b[0;34m=\u001b[0m \u001b[0;32mFalse\u001b[0m\u001b[0;34m,\u001b[0m\u001b[0;34m\u001b[0m\n",
       "\u001b[0;34m\u001b[0m\u001b[0;34m)\u001b[0m \u001b[0;34m->\u001b[0m \u001b[0mUnion\u001b[0m\u001b[0;34m[\u001b[0m\u001b[0mList\u001b[0m\u001b[0;34m[\u001b[0m\u001b[0mtorch\u001b[0m\u001b[0;34m.\u001b[0m\u001b[0mTensor\u001b[0m\u001b[0;34m]\u001b[0m\u001b[0;34m,\u001b[0m \u001b[0mnumpy\u001b[0m\u001b[0;34m.\u001b[0m\u001b[0mndarray\u001b[0m\u001b[0;34m,\u001b[0m \u001b[0mtorch\u001b[0m\u001b[0;34m.\u001b[0m\u001b[0mTensor\u001b[0m\u001b[0;34m]\u001b[0m\u001b[0;34m\u001b[0m\u001b[0;34m\u001b[0m\u001b[0m\n",
       "\u001b[0;31mDocstring:\u001b[0m\n",
       "Computes sentence embeddings\n",
       "\n",
       ":param sentences: the sentences to embed\n",
       ":param batch_size: the batch size used for the computation\n",
       ":param show_progress_bar: Output a progress bar when encode sentences\n",
       ":param output_value:  Default sentence_embedding, to get sentence embeddings. Can be set to token_embeddings to get wordpiece token embeddings. Set to None, to get all output values\n",
       ":param convert_to_numpy: If true, the output is a list of numpy vectors. Else, it is a list of pytorch tensors.\n",
       ":param convert_to_tensor: If true, you get one large tensor as return. Overwrites any setting from convert_to_numpy\n",
       ":param device: Which torch.device to use for the computation\n",
       ":param normalize_embeddings: If set to true, returned vectors will have length 1. In that case, the faster dot-product (util.dot_score) instead of cosine similarity can be used.\n",
       "\n",
       ":return:\n",
       "   By default, a list of tensors is returned. If convert_to_tensor, a stacked tensor is returned. If convert_to_numpy, a numpy matrix is returned.\n",
       "\u001b[0;31mFile:\u001b[0m      /usr/local/lib/python3.9/dist-packages/sentence_transformers/SentenceTransformer.py\n",
       "\u001b[0;31mType:\u001b[0m      method\n"
      ]
     },
     "metadata": {},
     "output_type": "display_data"
    }
   ],
   "source": [
    "model.encode?"
   ]
  },
  {
   "cell_type": "code",
   "execution_count": 41,
   "metadata": {},
   "outputs": [],
   "source": [
    "np.save('data/text.npy',word_embeddings_all)"
   ]
  },
  {
   "cell_type": "code",
   "execution_count": 50,
   "metadata": {},
   "outputs": [],
   "source": [
    "import torch\n",
    "from torchmetrics.functional import pairwise_cosine_similarity"
   ]
  },
  {
   "cell_type": "code",
   "execution_count": 51,
   "metadata": {},
   "outputs": [],
   "source": [
    "s  = pairwise_cosine_similarity(torch.tensor(word_embeddings_a),torch.tensor(word_embeddings_b)).numpy()"
   ]
  },
  {
   "cell_type": "code",
   "execution_count": 60,
   "metadata": {},
   "outputs": [
    {
     "ename": "OutOfMemoryError",
     "evalue": "Out of memory allocating 13,467,884,544 bytes (allocated so far: 13,463,502,848 bytes).",
     "output_type": "error",
     "traceback": [
      "\u001b[0;31m---------------------------------------------------------------------------\u001b[0m",
      "\u001b[0;31mOutOfMemoryError\u001b[0m                          Traceback (most recent call last)",
      "File \u001b[0;32mcupy/cuda/memory.pyx:742\u001b[0m, in \u001b[0;36mcupy.cuda.memory.alloc\u001b[0;34m()\u001b[0m\n",
      "File \u001b[0;32mcupy/cuda/memory.pyx:1419\u001b[0m, in \u001b[0;36mcupy.cuda.memory.MemoryPool.malloc\u001b[0;34m()\u001b[0m\n",
      "File \u001b[0;32mcupy/cuda/memory.pyx:1440\u001b[0m, in \u001b[0;36mcupy.cuda.memory.MemoryPool.malloc\u001b[0;34m()\u001b[0m\n",
      "File \u001b[0;32mcupy/cuda/memory.pyx:1120\u001b[0m, in \u001b[0;36mcupy.cuda.memory.SingleDeviceMemoryPool.malloc\u001b[0;34m()\u001b[0m\n",
      "File \u001b[0;32mcupy/cuda/memory.pyx:1141\u001b[0m, in \u001b[0;36mcupy.cuda.memory.SingleDeviceMemoryPool._malloc\u001b[0;34m()\u001b[0m\n",
      "File \u001b[0;32mcupy/cuda/memory.pyx:1379\u001b[0m, in \u001b[0;36mcupy.cuda.memory.SingleDeviceMemoryPool._try_malloc\u001b[0;34m()\u001b[0m\n",
      "\u001b[0;31mOutOfMemoryError\u001b[0m: Out of memory allocating 13,467,884,544 bytes (allocated so far: 13,463,502,848 bytes)."
     ]
    },
    {
     "name": "stderr",
     "output_type": "stream",
     "text": [
      "Exception ignored in: 'cupy.cuda.thrust.cupy_malloc'\n",
      "Traceback (most recent call last):\n",
      "  File \"cupy/cuda/memory.pyx\", line 742, in cupy.cuda.memory.alloc\n",
      "  File \"cupy/cuda/memory.pyx\", line 1419, in cupy.cuda.memory.MemoryPool.malloc\n",
      "  File \"cupy/cuda/memory.pyx\", line 1440, in cupy.cuda.memory.MemoryPool.malloc\n",
      "  File \"cupy/cuda/memory.pyx\", line 1120, in cupy.cuda.memory.SingleDeviceMemoryPool.malloc\n",
      "  File \"cupy/cuda/memory.pyx\", line 1141, in cupy.cuda.memory.SingleDeviceMemoryPool._malloc\n",
      "  File \"cupy/cuda/memory.pyx\", line 1379, in cupy.cuda.memory.SingleDeviceMemoryPool._try_malloc\n",
      "cupy.cuda.memory.OutOfMemoryError: Out of memory allocating 13,467,884,544 bytes (allocated so far: 13,463,502,848 bytes).\n"
     ]
    },
    {
     "name": "stdout",
     "output_type": "stream",
     "text": [
      "CPU times: user 890 ms, sys: 2.29 s, total: 3.18 s\n",
      "Wall time: 3.44 s\n"
     ]
    }
   ],
   "source": [
    "%%time\n",
    "sorted_mat = cp.argsort(cp.array(s), axis=1)"
   ]
  },
  {
   "cell_type": "code",
   "execution_count": 61,
   "metadata": {},
   "outputs": [
    {
     "data": {
      "text/plain": [
       "array([[    0,     1,     2, ..., 23682, 23683, 23684],\n",
       "       [    0,     1,     2, ..., 23682, 23683, 23684],\n",
       "       [    0,     1,     2, ..., 23682, 23683, 23684],\n",
       "       ...,\n",
       "       [    0,     1,     2, ..., 23682, 23683, 23684],\n",
       "       [    0,     1,     2, ..., 23682, 23683, 23684],\n",
       "       [    0,     1,     2, ..., 23682, 23683, 23684]])"
      ]
     },
     "execution_count": 61,
     "metadata": {},
     "output_type": "execute_result"
    }
   ],
   "source": [
    "sorted_mat"
   ]
  },
  {
   "cell_type": "code",
   "execution_count": 52,
   "metadata": {},
   "outputs": [
    {
     "name": "stderr",
     "output_type": "stream",
     "text": [
      "100%|██████████| 23685/23685 [00:45<00:00, 521.36it/s]\n"
     ]
    }
   ],
   "source": [
    "from tqdm import tqdm\n",
    "correct = 0\n",
    "mistakes = []\n",
    "for i in tqdm(range(len(a))): \n",
    "    sim = s[i]\n",
    "    sorted_data = cp.argsort(sim,axis=0)\n",
    "    top_sim = sorted_data[::-1][:5]\n",
    "    if b.iloc[i]['name'] in b.iloc[top_sim].name.tolist():\n",
    "        correct +=1\n",
    "    else:\n",
    "        mistakes.append({'a_name': a.iloc[i]['name'], 'b_name': b.iloc[i]['name'], 'sim': b.iloc[top_sim].name.tolist()})\n",
    "        \n",
    "    "
   ]
  },
  {
   "cell_type": "code",
   "execution_count": 54,
   "metadata": {},
   "outputs": [
    {
     "data": {
      "text/plain": [
       "(0.9883048342833016, 277)"
      ]
     },
     "execution_count": 54,
     "metadata": {},
     "output_type": "execute_result"
    }
   ],
   "source": [
    "correct / len(a), len(a)-correct"
   ]
  },
  {
   "cell_type": "code",
   "execution_count": 55,
   "metadata": {},
   "outputs": [
    {
     "data": {
      "text/html": [
       "<div>\n",
       "<style scoped>\n",
       "    .dataframe tbody tr th:only-of-type {\n",
       "        vertical-align: middle;\n",
       "    }\n",
       "\n",
       "    .dataframe tbody tr th {\n",
       "        vertical-align: top;\n",
       "    }\n",
       "\n",
       "    .dataframe thead th {\n",
       "        text-align: right;\n",
       "    }\n",
       "</style>\n",
       "<table border=\"1\" class=\"dataframe\">\n",
       "  <thead>\n",
       "    <tr style=\"text-align: right;\">\n",
       "      <th></th>\n",
       "      <th>a_name</th>\n",
       "      <th>b_name</th>\n",
       "      <th>sim</th>\n",
       "    </tr>\n",
       "  </thead>\n",
       "  <tbody>\n",
       "    <tr>\n",
       "      <th>143</th>\n",
       "      <td>JPA</td>\n",
       "      <td>J P A</td>\n",
       "      <td>[Npa, PLS CPA, FPA, APA Corporation, Se.Pa. S.R.L.]</td>\n",
       "    </tr>\n",
       "    <tr>\n",
       "      <th>23</th>\n",
       "      <td>ATJ Corp</td>\n",
       "      <td>A.T.J. Corporation</td>\n",
       "      <td>[ATS Corporation, AT&amp;T Corp., AT&amp;T Inc., Atkore Inc., Atex, Inc.]</td>\n",
       "    </tr>\n",
       "    <tr>\n",
       "      <th>59</th>\n",
       "      <td>CTO PCL</td>\n",
       "      <td>C.T.O. Public Company Limited</td>\n",
       "      <td>[PCB Bancorp, PCB SA, PCT Ltd, PCSB Financial Corporation, HPA]</td>\n",
       "    </tr>\n",
       "    <tr>\n",
       "      <th>185</th>\n",
       "      <td>One SA</td>\n",
       "      <td>ONE S.A.</td>\n",
       "      <td>[N.B.G. SA, S.N.F. SA, ONE, M.R. SA, Elis SA]</td>\n",
       "    </tr>\n",
       "    <tr>\n",
       "      <th>242</th>\n",
       "      <td>SFA SA</td>\n",
       "      <td>S.F.A. S.A.</td>\n",
       "      <td>[Agfa Corporation, MFA Financial, Inc., SGS SA, MFA Incorporated, Fa Corp]</td>\n",
       "    </tr>\n",
       "    <tr>\n",
       "      <th>270</th>\n",
       "      <td>V Ships Ltd</td>\n",
       "      <td>V.Ships Limited</td>\n",
       "      <td>[Capital Ship Management Corp., Nautique Boat Company, Inc., MasterCraft Boat Holdings, Inc., Boatsforsale.com, Union Maritime Limited]</td>\n",
       "    </tr>\n",
       "    <tr>\n",
       "      <th>170</th>\n",
       "      <td>MS Zinc</td>\n",
       "      <td>MSZ, Inc.</td>\n",
       "      <td>[Korea Zinc Company, Ltd., Solitario Zinc Corp., Centrotrade Minerals &amp; Metals Inc., Commercial Metals Company, ZTE Corporation]</td>\n",
       "    </tr>\n",
       "    <tr>\n",
       "      <th>12</th>\n",
       "      <td>AGLC</td>\n",
       "      <td>A.G.L.C</td>\n",
       "      <td>[Dlc, LCT, PLLC, LCM GmbH, Hplc B.V.]</td>\n",
       "    </tr>\n",
       "    <tr>\n",
       "      <th>138</th>\n",
       "      <td>Infinity NV</td>\n",
       "      <td>Infinity N.V.</td>\n",
       "      <td>[NV, Infinity a.s., Infinity, Fagron NV, NVM]</td>\n",
       "    </tr>\n",
       "    <tr>\n",
       "      <th>228</th>\n",
       "      <td>RTA SRL</td>\n",
       "      <td>R.T.A. S.R.L.</td>\n",
       "      <td>[SCC Srl, Mosa Srl, Z.F. Srl, Pos Srl, Rala Srl]</td>\n",
       "    </tr>\n",
       "    <tr>\n",
       "      <th>91</th>\n",
       "      <td>Eurostar AB</td>\n",
       "      <td>Eurostar Aktiebolag</td>\n",
       "      <td>[Euromedica S.A., Eurocoin GmbH, Globalstar Europe, AgStar PLC, Eurofins Lancaster Laboratories, Inc.]</td>\n",
       "    </tr>\n",
       "    <tr>\n",
       "      <th>36</th>\n",
       "      <td>B and C. SRL</td>\n",
       "      <td>B&amp;C S.R.L.</td>\n",
       "      <td>[M. F. C. Srl, B.I.G.  Srl, Z.F. Srl, I.F.O. Srl, P.G.L. Srl]</td>\n",
       "    </tr>\n",
       "    <tr>\n",
       "      <th>144</th>\n",
       "      <td>KBR Inc</td>\n",
       "      <td>K. B. R., Inc.</td>\n",
       "      <td>[KBM Worldwide, Inc., Kb Enterprises, Kbs Acquisition Sub, Llc, KB Home, SSE plc]</td>\n",
       "    </tr>\n",
       "    <tr>\n",
       "      <th>140</th>\n",
       "      <td>Instride Inc</td>\n",
       "      <td>In Stride Inc.</td>\n",
       "      <td>[IRIDEX Corporation, NST, LLC, CST Brands, Inc., DST Systems, Inc., Insituform Technologies, LLC]</td>\n",
       "    </tr>\n",
       "    <tr>\n",
       "      <th>137</th>\n",
       "      <td>Incyte Europe SARL</td>\n",
       "      <td>Incyte Europe S.a.r.l.</td>\n",
       "      <td>[Correvio International Sarl, Afis Sarl, ADM International Sàrl, Isis Sarl, Celgene International Sárl]</td>\n",
       "    </tr>\n",
       "    <tr>\n",
       "      <th>119</th>\n",
       "      <td>Hartford Insurance</td>\n",
       "      <td>Harford Insurance</td>\n",
       "      <td>[The Hartford Financial Services Group, Inc., First Hartford Corporation, Hartford Great Health Corp., Hartford Fire Insurance Company, Connecticut Department of Banking]</td>\n",
       "    </tr>\n",
       "    <tr>\n",
       "      <th>241</th>\n",
       "      <td>SEA Rs</td>\n",
       "      <td>Sears</td>\n",
       "      <td>[Maritime and Coastguard Agency, Navsea, Seaboard Corporation, Marine Stewardship Council, Twelve Seas Investment Company]</td>\n",
       "    </tr>\n",
       "    <tr>\n",
       "      <th>259</th>\n",
       "      <td>TLR AS</td>\n",
       "      <td>T.L.R. A/S</td>\n",
       "      <td>[ALR Technologies Inc., SLR Medical Consulting, LLC, LR Properties LLC, TMP S.r.l., TSMM Management, L.L.C.]</td>\n",
       "    </tr>\n",
       "    <tr>\n",
       "      <th>101</th>\n",
       "      <td>Frank Russell Co</td>\n",
       "      <td>Frank Rusell Co.</td>\n",
       "      <td>[New Russell One LLC, Walter AG, David Stephen Group LLC, Famous Dave's of America, Inc., J. Cohn Marketing Group, Inc.]</td>\n",
       "    </tr>\n",
       "    <tr>\n",
       "      <th>161</th>\n",
       "      <td>MEDITE Ch</td>\n",
       "      <td>Meditech</td>\n",
       "      <td>[Medite Cancer Diagnostics, Inc., MED S.p.A., MedChem, Attain Med, Inc, MedSupport Systems BV]</td>\n",
       "    </tr>\n",
       "    <tr>\n",
       "      <th>248</th>\n",
       "      <td>SPD SRL</td>\n",
       "      <td>S.P.D. S.R.L.</td>\n",
       "      <td>[Fsp Srl, P.D.R. SRL, F.P.D. Srl, P.A.P. Srl, F.D.P. Srl]</td>\n",
       "    </tr>\n",
       "    <tr>\n",
       "      <th>151</th>\n",
       "      <td>LIFESCAN</td>\n",
       "      <td>LIFE SCAN</td>\n",
       "      <td>[Lifescan Global Corporation, Life-Span Inc., Vicapsys Life Sciences, Inc., Lifeline, SGS Life Science Services]</td>\n",
       "    </tr>\n",
       "    <tr>\n",
       "      <th>27</th>\n",
       "      <td>AVM SRL</td>\n",
       "      <td>A.V.M. S.R.L.</td>\n",
       "      <td>[Cvr Srl, Oic Srl, MGA Srl, A.M.D. Srl, A.G.I. Srl]</td>\n",
       "    </tr>\n",
       "    <tr>\n",
       "      <th>166</th>\n",
       "      <td>MPSA</td>\n",
       "      <td>Mp ++ SA</td>\n",
       "      <td>[MPSC, Inc., MPS Limited, NRS ApS, Ncl, Supporta plc]</td>\n",
       "    </tr>\n",
       "    <tr>\n",
       "      <th>74</th>\n",
       "      <td>DSA</td>\n",
       "      <td>D.S.A.</td>\n",
       "      <td>[DS Healthcare Group, Inc., Igsa, S.A. De C.V., DFI Inc., FTSA, Dosa Consulting, LLC]</td>\n",
       "    </tr>\n",
       "    <tr>\n",
       "      <th>183</th>\n",
       "      <td>OP S</td>\n",
       "      <td>O P S</td>\n",
       "      <td>[Opra, OPI S.R.L., OP Bancorp, Opsens Inc., Opto Electronics Co., Ltd.]</td>\n",
       "    </tr>\n",
       "    <tr>\n",
       "      <th>155</th>\n",
       "      <td>Lamina Equities Corp</td>\n",
       "      <td>La Mina Equities Corp.</td>\n",
       "      <td>[Lamina International, Equilar, Inc., CF Industries Holdings, Inc., CF Industries, Inc., First Equities Corp]</td>\n",
       "    </tr>\n",
       "    <tr>\n",
       "      <th>154</th>\n",
       "      <td>LTO</td>\n",
       "      <td>L.T.O</td>\n",
       "      <td>[BTO S.P.A., LGI, L&amp;W, L2F Inc., LSI Corporation]</td>\n",
       "    </tr>\n",
       "    <tr>\n",
       "      <th>142</th>\n",
       "      <td>JEM Capital Inc</td>\n",
       "      <td>J.E.M. Capital, Inc.</td>\n",
       "      <td>[Jemb Scottsdale Llc, Hub Group, Inc., Mortgage Capital Inc, AS Capital, Inc., Capital Financial Holdings, Inc.]</td>\n",
       "    </tr>\n",
       "    <tr>\n",
       "      <th>149</th>\n",
       "      <td>LBR SRL</td>\n",
       "      <td>L.B.R. S.R.L.</td>\n",
       "      <td>[L M R Srl, HERMINE SRL, P.D.R. SRL, CTR srl, Gram Srl]</td>\n",
       "    </tr>\n",
       "    <tr>\n",
       "      <th>261</th>\n",
       "      <td>TRC SRL</td>\n",
       "      <td>T.R.C. S.R.L.</td>\n",
       "      <td>[T.C.A. Srl, A.T.E.C. Srl, SRC, T.M.C. Srl, Isr SRL]</td>\n",
       "    </tr>\n",
       "    <tr>\n",
       "      <th>100</th>\n",
       "      <td>FTA SpA</td>\n",
       "      <td>Fta S.p.A.</td>\n",
       "      <td>[FTSA, FTSE International Limited, FTS International Services, LLC, FTI Consulting, Inc., FTS International, Inc.]</td>\n",
       "    </tr>\n",
       "    <tr>\n",
       "      <th>134</th>\n",
       "      <td>IT Ltd</td>\n",
       "      <td>I.T Limited</td>\n",
       "      <td>[U.B., Ltd., UK LTD, P.P.C. Ltd., The Design Company Ltd., F.C.C. Co., Ltd.]</td>\n",
       "    </tr>\n",
       "    <tr>\n",
       "      <th>132</th>\n",
       "      <td>IPA SRL</td>\n",
       "      <td>I.P.A. S.R.L.</td>\n",
       "      <td>[I.F.O. Srl, I.G.N. SRL, I.M.E.C. srl, Oic Srl, E3 SRL]</td>\n",
       "    </tr>\n",
       "    <tr>\n",
       "      <th>237</th>\n",
       "      <td>SC Distributors LLC</td>\n",
       "      <td>SCP Distributors LLC</td>\n",
       "      <td>[SC Distributors Inc, D&amp;C Distributors LLC, Transmission and Distribution Company LLC, Power Distributors, LLC, Fidelity Distributors Corporation]</td>\n",
       "    </tr>\n",
       "    <tr>\n",
       "      <th>163</th>\n",
       "      <td>MGO SRL</td>\n",
       "      <td>M.G.O. S.R.L.</td>\n",
       "      <td>[MGA Srl, M.B.P. Srl, Cvr Srl, E3 SRL, Z.F. Srl]</td>\n",
       "    </tr>\n",
       "    <tr>\n",
       "      <th>158</th>\n",
       "      <td>MANO INVESTMENTS Inc</td>\n",
       "      <td>Manco Investments Inc.</td>\n",
       "      <td>[Nivek Investments I LLC, Love Investment Company, PNC Investments LLC, PAR Investments Inc., Clover Health Investments, Corp.]</td>\n",
       "    </tr>\n",
       "    <tr>\n",
       "      <th>33</th>\n",
       "      <td>American Multi Cinema Inc</td>\n",
       "      <td>American Multi-Cinema, Inc.</td>\n",
       "      <td>[World Cinema, Inc., Canadian Digital Cinema Partnership, Consolidated Cinema Services, LLC, CinemaxX AG, Access Digital Cinema Phase 2 Corp.]</td>\n",
       "    </tr>\n",
       "    <tr>\n",
       "      <th>276</th>\n",
       "      <td>new SAT</td>\n",
       "      <td>NewSat</td>\n",
       "      <td>[SATS, Sata, SAT Technology, Inc., Satcom, Sita]</td>\n",
       "    </tr>\n",
       "    <tr>\n",
       "      <th>20</th>\n",
       "      <td>ATEC SRL</td>\n",
       "      <td>A.T.E.C. Srl</td>\n",
       "      <td>[Etec S.A., tecsis GmbH, Tecmo Ltd., STEC, Inc., TEC Co., Ltd.]</td>\n",
       "    </tr>\n",
       "    <tr>\n",
       "      <th>212</th>\n",
       "      <td>Pacifi Corp</td>\n",
       "      <td>PacifiCorp</td>\n",
       "      <td>[PACCAR Financial Corp., PACCAR Inc, Pac, PacWest Bancorp, Pac-Man Aps]</td>\n",
       "    </tr>\n",
       "    <tr>\n",
       "      <th>231</th>\n",
       "      <td>S and P Co</td>\n",
       "      <td>S&amp;P Company</td>\n",
       "      <td>[P S C Inc, P L I, O P S, P M C, C P F]</td>\n",
       "    </tr>\n",
       "    <tr>\n",
       "      <th>191</th>\n",
       "      <td>PGA SRL</td>\n",
       "      <td>P.G.A. S.R.L.</td>\n",
       "      <td>[PGA TOUR, Inc, SCC Srl, M.V.S. Srl, V.V.A. Srl, LC srl]</td>\n",
       "    </tr>\n",
       "    <tr>\n",
       "      <th>253</th>\n",
       "      <td>SYNERGY SRL</td>\n",
       "      <td>Synergy S.R.L.</td>\n",
       "      <td>[E3 SRL, Z.F. Srl, B.I.G.  Srl, P.G.L. Srl, I.F.O. Srl]</td>\n",
       "    </tr>\n",
       "    <tr>\n",
       "      <th>40</th>\n",
       "      <td>BGP</td>\n",
       "      <td>B.G.P</td>\n",
       "      <td>[GGP Inc., GP, GP Strategies Corporation, BTO S.P.A., GPS Consumer Direct, Inc.]</td>\n",
       "    </tr>\n",
       "    <tr>\n",
       "      <th>254</th>\n",
       "      <td>Shen Zhen) Co Ltd</td>\n",
       "      <td>Shenzhen Co. Ltd</td>\n",
       "      <td>[Guangzhou ShengRen Water Co. Ltd, Shenzhen Shen Nan Shun Technology Co. Ltd, HK Co., Ltd, HKN, Inc., Shandong Shouguang Shen Runfa Ocean Chemical Co., Ltd]</td>\n",
       "    </tr>\n",
       "    <tr>\n",
       "      <th>63</th>\n",
       "      <td>Conoco Phillips</td>\n",
       "      <td>ConocoPhillips</td>\n",
       "      <td>[Conoco Inc., Conopco, Inc., ConocoPhillips Alaska, Inc., Phillips 66, Phillips 66 Partners LP]</td>\n",
       "    </tr>\n",
       "    <tr>\n",
       "      <th>99</th>\n",
       "      <td>FPI</td>\n",
       "      <td>F.P.I.</td>\n",
       "      <td>[Fpp Aps, Fbm, Fsm Llp, FPA, FPL]</td>\n",
       "    </tr>\n",
       "    <tr>\n",
       "      <th>79</th>\n",
       "      <td>EFS</td>\n",
       "      <td>E.F.S.</td>\n",
       "      <td>[EFT Holdings, Inc., EFG Bank AG, EFTPOS New Zealand Limited, EFS Midstream LLC, Aegis GmbH]</td>\n",
       "    </tr>\n",
       "    <tr>\n",
       "      <th>5</th>\n",
       "      <td>AC D</td>\n",
       "      <td>ACD</td>\n",
       "      <td>[S D A, Anc, MPD a.d., EIG d.d., H.D.C.]</td>\n",
       "    </tr>\n",
       "  </tbody>\n",
       "</table>\n",
       "</div>"
      ],
      "text/plain": [
       "                        a_name                         b_name  \\\n",
       "143                        JPA                          J P A   \n",
       "23                    ATJ Corp             A.T.J. Corporation   \n",
       "59                     CTO PCL  C.T.O. Public Company Limited   \n",
       "185                     One SA                       ONE S.A.   \n",
       "242                     SFA SA                    S.F.A. S.A.   \n",
       "270                V Ships Ltd                V.Ships Limited   \n",
       "170                    MS Zinc                      MSZ, Inc.   \n",
       "12                        AGLC                        A.G.L.C   \n",
       "138                Infinity NV                  Infinity N.V.   \n",
       "228                    RTA SRL                  R.T.A. S.R.L.   \n",
       "91                 Eurostar AB            Eurostar Aktiebolag   \n",
       "36                B and C. SRL                     B&C S.R.L.   \n",
       "144                    KBR Inc                 K. B. R., Inc.   \n",
       "140               Instride Inc                 In Stride Inc.   \n",
       "137         Incyte Europe SARL         Incyte Europe S.a.r.l.   \n",
       "119         Hartford Insurance              Harford Insurance   \n",
       "241                     SEA Rs                          Sears   \n",
       "259                     TLR AS                     T.L.R. A/S   \n",
       "101           Frank Russell Co               Frank Rusell Co.   \n",
       "161                  MEDITE Ch                       Meditech   \n",
       "248                    SPD SRL                  S.P.D. S.R.L.   \n",
       "151                   LIFESCAN                      LIFE SCAN   \n",
       "27                     AVM SRL                  A.V.M. S.R.L.   \n",
       "166                       MPSA                       Mp ++ SA   \n",
       "74                         DSA                         D.S.A.   \n",
       "183                       OP S                          O P S   \n",
       "155       Lamina Equities Corp         La Mina Equities Corp.   \n",
       "154                        LTO                          L.T.O   \n",
       "142            JEM Capital Inc           J.E.M. Capital, Inc.   \n",
       "149                    LBR SRL                  L.B.R. S.R.L.   \n",
       "261                    TRC SRL                  T.R.C. S.R.L.   \n",
       "100                    FTA SpA                     Fta S.p.A.   \n",
       "134                     IT Ltd                    I.T Limited   \n",
       "132                    IPA SRL                  I.P.A. S.R.L.   \n",
       "237        SC Distributors LLC           SCP Distributors LLC   \n",
       "163                    MGO SRL                  M.G.O. S.R.L.   \n",
       "158       MANO INVESTMENTS Inc         Manco Investments Inc.   \n",
       "33   American Multi Cinema Inc    American Multi-Cinema, Inc.   \n",
       "276                    new SAT                         NewSat   \n",
       "20                    ATEC SRL                   A.T.E.C. Srl   \n",
       "212                Pacifi Corp                     PacifiCorp   \n",
       "231                 S and P Co                    S&P Company   \n",
       "191                    PGA SRL                  P.G.A. S.R.L.   \n",
       "253                SYNERGY SRL                 Synergy S.R.L.   \n",
       "40                         BGP                          B.G.P   \n",
       "254          Shen Zhen) Co Ltd               Shenzhen Co. Ltd   \n",
       "63             Conoco Phillips                 ConocoPhillips   \n",
       "99                         FPI                         F.P.I.   \n",
       "79                         EFS                         E.F.S.   \n",
       "5                         AC D                            ACD   \n",
       "\n",
       "                                                                                                                                                                            sim  \n",
       "143                                                                                                                         [Npa, PLS CPA, FPA, APA Corporation, Se.Pa. S.R.L.]  \n",
       "23                                                                                                            [ATS Corporation, AT&T Corp., AT&T Inc., Atkore Inc., Atex, Inc.]  \n",
       "59                                                                                                              [PCB Bancorp, PCB SA, PCT Ltd, PCSB Financial Corporation, HPA]  \n",
       "185                                                                                                                               [N.B.G. SA, S.N.F. SA, ONE, M.R. SA, Elis SA]  \n",
       "242                                                                                                  [Agfa Corporation, MFA Financial, Inc., SGS SA, MFA Incorporated, Fa Corp]  \n",
       "270                                     [Capital Ship Management Corp., Nautique Boat Company, Inc., MasterCraft Boat Holdings, Inc., Boatsforsale.com, Union Maritime Limited]  \n",
       "170                                            [Korea Zinc Company, Ltd., Solitario Zinc Corp., Centrotrade Minerals & Metals Inc., Commercial Metals Company, ZTE Corporation]  \n",
       "12                                                                                                                                        [Dlc, LCT, PLLC, LCM GmbH, Hplc B.V.]  \n",
       "138                                                                                                                               [NV, Infinity a.s., Infinity, Fagron NV, NVM]  \n",
       "228                                                                                                                            [SCC Srl, Mosa Srl, Z.F. Srl, Pos Srl, Rala Srl]  \n",
       "91                                                                       [Euromedica S.A., Eurocoin GmbH, Globalstar Europe, AgStar PLC, Eurofins Lancaster Laboratories, Inc.]  \n",
       "36                                                                                                                [M. F. C. Srl, B.I.G.  Srl, Z.F. Srl, I.F.O. Srl, P.G.L. Srl]  \n",
       "144                                                                                           [KBM Worldwide, Inc., Kb Enterprises, Kbs Acquisition Sub, Llc, KB Home, SSE plc]  \n",
       "140                                                                           [IRIDEX Corporation, NST, LLC, CST Brands, Inc., DST Systems, Inc., Insituform Technologies, LLC]  \n",
       "137                                                                     [Correvio International Sarl, Afis Sarl, ADM International Sàrl, Isis Sarl, Celgene International Sárl]  \n",
       "119  [The Hartford Financial Services Group, Inc., First Hartford Corporation, Hartford Great Health Corp., Hartford Fire Insurance Company, Connecticut Department of Banking]  \n",
       "241                                                  [Maritime and Coastguard Agency, Navsea, Seaboard Corporation, Marine Stewardship Council, Twelve Seas Investment Company]  \n",
       "259                                                                [ALR Technologies Inc., SLR Medical Consulting, LLC, LR Properties LLC, TMP S.r.l., TSMM Management, L.L.C.]  \n",
       "101                                                    [New Russell One LLC, Walter AG, David Stephen Group LLC, Famous Dave's of America, Inc., J. Cohn Marketing Group, Inc.]  \n",
       "161                                                                              [Medite Cancer Diagnostics, Inc., MED S.p.A., MedChem, Attain Med, Inc, MedSupport Systems BV]  \n",
       "248                                                                                                                   [Fsp Srl, P.D.R. SRL, F.P.D. Srl, P.A.P. Srl, F.D.P. Srl]  \n",
       "151                                                            [Lifescan Global Corporation, Life-Span Inc., Vicapsys Life Sciences, Inc., Lifeline, SGS Life Science Services]  \n",
       "27                                                                                                                          [Cvr Srl, Oic Srl, MGA Srl, A.M.D. Srl, A.G.I. Srl]  \n",
       "166                                                                                                                       [MPSC, Inc., MPS Limited, NRS ApS, Ncl, Supporta plc]  \n",
       "74                                                                                        [DS Healthcare Group, Inc., Igsa, S.A. De C.V., DFI Inc., FTSA, Dosa Consulting, LLC]  \n",
       "183                                                                                                     [Opra, OPI S.R.L., OP Bancorp, Opsens Inc., Opto Electronics Co., Ltd.]  \n",
       "155                                                               [Lamina International, Equilar, Inc., CF Industries Holdings, Inc., CF Industries, Inc., First Equities Corp]  \n",
       "154                                                                                                                           [BTO S.P.A., LGI, L&W, L2F Inc., LSI Corporation]  \n",
       "142                                                            [Jemb Scottsdale Llc, Hub Group, Inc., Mortgage Capital Inc, AS Capital, Inc., Capital Financial Holdings, Inc.]  \n",
       "149                                                                                                                     [L M R Srl, HERMINE SRL, P.D.R. SRL, CTR srl, Gram Srl]  \n",
       "261                                                                                                                        [T.C.A. Srl, A.T.E.C. Srl, SRC, T.M.C. Srl, Isr SRL]  \n",
       "100                                                          [FTSA, FTSE International Limited, FTS International Services, LLC, FTI Consulting, Inc., FTS International, Inc.]  \n",
       "134                                                                                                [U.B., Ltd., UK LTD, P.P.C. Ltd., The Design Company Ltd., F.C.C. Co., Ltd.]  \n",
       "132                                                                                                                     [I.F.O. Srl, I.G.N. SRL, I.M.E.C. srl, Oic Srl, E3 SRL]  \n",
       "237                          [SC Distributors Inc, D&C Distributors LLC, Transmission and Distribution Company LLC, Power Distributors, LLC, Fidelity Distributors Corporation]  \n",
       "163                                                                                                                            [MGA Srl, M.B.P. Srl, Cvr Srl, E3 SRL, Z.F. Srl]  \n",
       "158                                             [Nivek Investments I LLC, Love Investment Company, PNC Investments LLC, PAR Investments Inc., Clover Health Investments, Corp.]  \n",
       "33                               [World Cinema, Inc., Canadian Digital Cinema Partnership, Consolidated Cinema Services, LLC, CinemaxX AG, Access Digital Cinema Phase 2 Corp.]  \n",
       "276                                                                                                                            [SATS, Sata, SAT Technology, Inc., Satcom, Sita]  \n",
       "20                                                                                                              [Etec S.A., tecsis GmbH, Tecmo Ltd., STEC, Inc., TEC Co., Ltd.]  \n",
       "212                                                                                                     [PACCAR Financial Corp., PACCAR Inc, Pac, PacWest Bancorp, Pac-Man Aps]  \n",
       "231                                                                                                                                     [P S C Inc, P L I, O P S, P M C, C P F]  \n",
       "191                                                                                                                    [PGA TOUR, Inc, SCC Srl, M.V.S. Srl, V.V.A. Srl, LC srl]  \n",
       "253                                                                                                                     [E3 SRL, Z.F. Srl, B.I.G.  Srl, P.G.L. Srl, I.F.O. Srl]  \n",
       "40                                                                                             [GGP Inc., GP, GP Strategies Corporation, BTO S.P.A., GPS Consumer Direct, Inc.]  \n",
       "254                [Guangzhou ShengRen Water Co. Ltd, Shenzhen Shen Nan Shun Technology Co. Ltd, HK Co., Ltd, HKN, Inc., Shandong Shouguang Shen Runfa Ocean Chemical Co., Ltd]  \n",
       "63                                                                              [Conoco Inc., Conopco, Inc., ConocoPhillips Alaska, Inc., Phillips 66, Phillips 66 Partners LP]  \n",
       "99                                                                                                                                            [Fpp Aps, Fbm, Fsm Llp, FPA, FPL]  \n",
       "79                                                                                 [EFT Holdings, Inc., EFG Bank AG, EFTPOS New Zealand Limited, EFS Midstream LLC, Aegis GmbH]  \n",
       "5                                                                                                                                      [S D A, Anc, MPD a.d., EIG d.d., H.D.C.]  "
      ]
     },
     "execution_count": 55,
     "metadata": {},
     "output_type": "execute_result"
    }
   ],
   "source": [
    "pd.set_option('display.max_rows',50)\n",
    "pd.set_option('display.max_colwidth',None)\n",
    "\n",
    "pd.DataFrame(mistakes).sample(50)"
   ]
  },
  {
   "cell_type": "code",
   "execution_count": 27,
   "metadata": {},
   "outputs": [
    {
     "name": "stdout",
     "output_type": "stream",
     "text": [
      "CPU times: user 895 ms, sys: 23.2 ms, total: 918 ms\n",
      "Wall time: 955 ms\n"
     ]
    }
   ],
   "source": [
    "%%time\n",
    "import chars2vec\n",
    "import torch\n",
    "path_to_model = 'artifacts'\n",
    "# Load pretrained model, create word embeddings\n",
    "c2v_model = chars2vec.load_model(path_to_model)\n"
   ]
  },
  {
   "cell_type": "code",
   "execution_count": null,
   "metadata": {},
   "outputs": [],
   "source": [
    "filtered_emb = c2v_model.vectorize(all_filtered.norm_ws.head(1000_000).tolist())"
   ]
  },
  {
   "cell_type": "code",
   "execution_count": 40,
   "metadata": {},
   "outputs": [
    {
     "name": "stdout",
     "output_type": "stream",
     "text": [
      "741/741 [==============================] - 3s 4ms/step\n",
      "741/741 [==============================] - 3s 4ms/step\n",
      "CPU times: user 8.52 s, sys: 1.39 s, total: 9.91 s\n",
      "Wall time: 8.59 s\n"
     ]
    }
   ],
   "source": [
    "%%time\n",
    "words = ['good ok', 'goodness okay', 'god well']\n",
    "\n",
    "# Create word embeddings\n",
    "word_embeddings_a = c2v_model.vectorize(a.norm_ws.tolist())\n",
    "word_embeddings_b = c2v_model.vectorize(b.norm_ws.tolist())\n"
   ]
  },
  {
   "cell_type": "code",
   "execution_count": 41,
   "metadata": {},
   "outputs": [],
   "source": [
    "from torchmetrics.functional import pairwise_cosine_similarity"
   ]
  },
  {
   "cell_type": "code",
   "execution_count": 42,
   "metadata": {},
   "outputs": [],
   "source": [
    "s  = pairwise_cosine_similarity(torch.tensor(word_embeddings_a),torch.tensor(word_embeddings_b)).numpy()"
   ]
  },
  {
   "cell_type": "code",
   "execution_count": 43,
   "metadata": {},
   "outputs": [
    {
     "name": "stderr",
     "output_type": "stream",
     "text": [
      "100%|██████████| 23685/23685 [00:41<00:00, 566.15it/s]\n"
     ]
    }
   ],
   "source": [
    "from tqdm import tqdm\n",
    "correct = 0\n",
    "mistakes = []\n",
    "for i in tqdm(range(len(a))): \n",
    "    sim = s[i]\n",
    "    sorted_data = np.argsort(sim,axis=0)\n",
    "    top_sim = sorted_data[::-1][:5]\n",
    "    if b.iloc[i]['name'] in b.iloc[top_sim].name.tolist():\n",
    "        correct +=1\n",
    "    else:\n",
    "        mistakes.append({'a_name': a.iloc[i]['name'], 'b_name': b.iloc[i]['name'], 'sim': b.iloc[top_sim].name.tolist()})\n",
    "        \n",
    "    "
   ]
  },
  {
   "cell_type": "code",
   "execution_count": 45,
   "metadata": {},
   "outputs": [
    {
     "data": {
      "text/plain": [
       "(0.9913869537682077, 204)"
      ]
     },
     "execution_count": 45,
     "metadata": {},
     "output_type": "execute_result"
    }
   ],
   "source": [
    "correct / len(a), len(a)-correct"
   ]
  },
  {
   "cell_type": "code",
   "execution_count": null,
   "metadata": {},
   "outputs": [],
   "source": []
  },
  {
   "cell_type": "code",
   "execution_count": 46,
   "metadata": {
    "collapsed": true,
    "jupyter": {
     "outputs_hidden": true
    },
    "tags": []
   },
   "outputs": [
    {
     "data": {
      "text/html": [
       "<div>\n",
       "<style scoped>\n",
       "    .dataframe tbody tr th:only-of-type {\n",
       "        vertical-align: middle;\n",
       "    }\n",
       "\n",
       "    .dataframe tbody tr th {\n",
       "        vertical-align: top;\n",
       "    }\n",
       "\n",
       "    .dataframe thead th {\n",
       "        text-align: right;\n",
       "    }\n",
       "</style>\n",
       "<table border=\"1\" class=\"dataframe\">\n",
       "  <thead>\n",
       "    <tr style=\"text-align: right;\">\n",
       "      <th></th>\n",
       "      <th>a_name</th>\n",
       "      <th>b_name</th>\n",
       "      <th>sim</th>\n",
       "    </tr>\n",
       "  </thead>\n",
       "  <tbody>\n",
       "    <tr>\n",
       "      <th>145</th>\n",
       "      <td>Redpag Electronicos S.A.P.I. de CV</td>\n",
       "      <td>Redpag Electrónicos S.A.P.I. de C.V</td>\n",
       "      <td>[Texla Energy Management, Inc., Relief Therapeutics Holding AG, Red Bluff Resources Operating, LLC, Emergent Capital, Inc., MarkWest Energy Partners, L.P.]</td>\n",
       "    </tr>\n",
       "    <tr>\n",
       "      <th>89</th>\n",
       "      <td>KeyBank NA</td>\n",
       "      <td>KeyBank National Association</td>\n",
       "      <td>[Mindshare, Hubbell Incorporated, México Transportes Aéreos, S. A. De C. V, Human Capital Management Limited, Helium AB]</td>\n",
       "    </tr>\n",
       "    <tr>\n",
       "      <th>88</th>\n",
       "      <td>Kauai Island Utility Coop</td>\n",
       "      <td>Kauai Island Utility Cooperative</td>\n",
       "      <td>[Megalith Financial Acquisition Corp., Oldcastle Precast, Inc., Marina District Finance Company, Inc., MBT Financial Corp., Kaiser Aluminum Corporation]</td>\n",
       "    </tr>\n",
       "    <tr>\n",
       "      <th>37</th>\n",
       "      <td>Children's Learnings Adventure USA LLC</td>\n",
       "      <td>Children's Learning Adventure USA, LLC</td>\n",
       "      <td>[Complete Business Solutions Group, Inc., Cook Inlet Natural Gas Storage Alaska LLC, Behringer Harvard Multifamily Management Services, LLC, Brookhaven Science Associates LLC, Covenant Logistics Group, Inc.]</td>\n",
       "    </tr>\n",
       "    <tr>\n",
       "      <th>114</th>\n",
       "      <td>NORTHERN STATES POWER Co</td>\n",
       "      <td>Northern States Power Company</td>\n",
       "      <td>[Norton Rose Fulbright LLP, Nortridge Software, LLC, Northwest Pipe Company, Fonterra Co-operative Group Limited, Kontoor Brands, Inc.]</td>\n",
       "    </tr>\n",
       "    <tr>\n",
       "      <th>128</th>\n",
       "      <td>Orexo AB</td>\n",
       "      <td>Orexo AB (publ)</td>\n",
       "      <td>[O'reilly, Umpqua Bank, Euromedica S.A., Topas AB, Roan B.V.]</td>\n",
       "    </tr>\n",
       "    <tr>\n",
       "      <th>30</th>\n",
       "      <td>CREDIT AGRICOLE SECURITIES (USA) Inc</td>\n",
       "      <td>Crédit Agricole Securities (USA) Inc.</td>\n",
       "      <td>[Credit Market Analysis Limited, CyDex Pharmaceuticals, Inc., CVR Energy, Inc., Credex Corporation, Xcel Energy Inc.]</td>\n",
       "    </tr>\n",
       "    <tr>\n",
       "      <th>29</th>\n",
       "      <td>CREDIT AGRICOLE CORPORATE AND INVESTMENT BANK</td>\n",
       "      <td>Crédit Agricole Corporate And Investment Bank</td>\n",
       "      <td>[Credit One Financial, Inc., Crown Food Service Equipment Ltd., Crowe Horwath International, BNY Mellon Trust of Delaware, Creative Solutions In Healthcare, Inc.]</td>\n",
       "    </tr>\n",
       "    <tr>\n",
       "      <th>159</th>\n",
       "      <td>Santander Bank NA</td>\n",
       "      <td>Santander Bank, National Association</td>\n",
       "      <td>[Standard Chartered Bank Kenya Limited, Seaniemac International, Ltd., Saudi Arabian National Guard, Lucid Energy Delaware, LLC, Sailun (Vietnam) Co., Ltd.]</td>\n",
       "    </tr>\n",
       "    <tr>\n",
       "      <th>0</th>\n",
       "      <td>ABE Ltd</td>\n",
       "      <td>A.B.E. LIMITED</td>\n",
       "      <td>[Able N.V., AltheaDx, Inc., B &amp; A Limited, Beam, Inc., AAI Limited]</td>\n",
       "    </tr>\n",
       "    <tr>\n",
       "      <th>10</th>\n",
       "      <td>Aeris Industria e Comercio de Equipamentos para Geracao de Energia SA</td>\n",
       "      <td>Aeris Indústria e Comércio de Equipamentos para Geração de Energia S.A.</td>\n",
       "      <td>[Boyalife Investment Inc., Air Force Civil Engineer Center, Arizona Radiation Therapy Management Services, Inc, Blue Ridge Bankshares, Inc., Arizona Department of Health Services]</td>\n",
       "    </tr>\n",
       "    <tr>\n",
       "      <th>156</th>\n",
       "      <td>SSAB AB</td>\n",
       "      <td>SSAB AB (publ)</td>\n",
       "      <td>[Sichel Limited, The Social Chain AG, JCT Limited, LG Chem, Ltd., JSC Aviabor]</td>\n",
       "    </tr>\n",
       "    <tr>\n",
       "      <th>154</th>\n",
       "      <td>SOUTHERN NATURAL GAS Co LLC</td>\n",
       "      <td>Southern Natural Gas Company, L.L.C.</td>\n",
       "      <td>[Southside Bancshares, Inc., Southern California Edison Company, Superior Natural Gas Corporation, South Beach Spirits, Inc., Sony Pictures Television, Inc.]</td>\n",
       "    </tr>\n",
       "    <tr>\n",
       "      <th>83</th>\n",
       "      <td>Interlink Communications Systems Inc</td>\n",
       "      <td>Interlink Communication Systems, Inc.</td>\n",
       "      <td>[DRS Network &amp; Imaging Systems, LLC, International Flavors &amp; Fragrances Inc., Toshiba America Information Systems, Inc., Hypertension Diagnostics, Inc., Shell Trading (US) Company]</td>\n",
       "    </tr>\n",
       "    <tr>\n",
       "      <th>146</th>\n",
       "      <td>Renew Interest LLC</td>\n",
       "      <td>Renew Interests, LLC</td>\n",
       "      <td>[Equilon Enterprises LLC, OM Holdings International, Inc., IES Downstream, LLC, Kinder Morgan Crude &amp; Condensate LLC, Drilling Tools International, Inc.]</td>\n",
       "    </tr>\n",
       "    <tr>\n",
       "      <th>52</th>\n",
       "      <td>Energir LP</td>\n",
       "      <td>Énergir, L.P.</td>\n",
       "      <td>[Zentric, Inc., EnergyMark, LLC, Energy Harbor LLC, Energy Fiji Limited, WTTJ Corp.]</td>\n",
       "    </tr>\n",
       "    <tr>\n",
       "      <th>184</th>\n",
       "      <td>Turkiye Petrolleri Anonim Ortakligi</td>\n",
       "      <td>Türkiye Petrolleri Anonim Ortakligi</td>\n",
       "      <td>[Tri-County Electric Cooperative, Inc., Restoration Hardware, Inc., TOTSA Total Oil Trading SA, Transoil Marketing, LLC, Great Wall Motor Company Limited]</td>\n",
       "    </tr>\n",
       "    <tr>\n",
       "      <th>82</th>\n",
       "      <td>Integrated Data Technologies Inc</td>\n",
       "      <td>Integrated Data Technology, Inc.</td>\n",
       "      <td>[Integrated DNA Technologies, Inc., General Wireless Operations Inc., Green Leaf Farms Holdings, Inc, Gold Standard Mining Company, Stellar Technologies, Inc.]</td>\n",
       "    </tr>\n",
       "    <tr>\n",
       "      <th>129</th>\n",
       "      <td>Ossur hf</td>\n",
       "      <td>Össur hf.</td>\n",
       "      <td>[OSI Systems, Inc., The IS Group, Susi, LLC,, The I.S. Group Limited, OS support, Inc.]</td>\n",
       "    </tr>\n",
       "    <tr>\n",
       "      <th>6</th>\n",
       "      <td>ASTM International</td>\n",
       "      <td>AST International</td>\n",
       "      <td>[Arsanis Biosciences GmbH, ATI Titanium LLC, Amgen Fremont Inc., Ariston Pharmaceuticals, Inc., Asubio Pharma Co., Ltd.]</td>\n",
       "    </tr>\n",
       "    <tr>\n",
       "      <th>8</th>\n",
       "      <td>ATHENE LIFE RE Ltd</td>\n",
       "      <td>Athene Life Re Ltd.</td>\n",
       "      <td>[Buffalo Biolabs, LLC, Aeon Global Health Corp., Bimini Capital Management, Inc., Bohemian Companies, LLC, Bloomberg Finance L.P.]</td>\n",
       "    </tr>\n",
       "    <tr>\n",
       "      <th>94</th>\n",
       "      <td>Laredo AB</td>\n",
       "      <td>Laredo Aktiebolag</td>\n",
       "      <td>[Mazda Limited, Valor, LLC, Valdirose, VALKOR, LLC, Laredo Oil, Inc.]</td>\n",
       "    </tr>\n",
       "    <tr>\n",
       "      <th>157</th>\n",
       "      <td>Saab AB</td>\n",
       "      <td>SÅAb Ab</td>\n",
       "      <td>[MCA+, JAC, MBC, L C I, D C F]</td>\n",
       "    </tr>\n",
       "    <tr>\n",
       "      <th>53</th>\n",
       "      <td>Euro Accident Health and Care Insurance AB</td>\n",
       "      <td>Euro Accident Health &amp; Care Insurance Aktiebolag</td>\n",
       "      <td>[Frencken Mechatronics BV, Saber Interactive, Inc., Seadrift Coke L.P., Seadrift Coke L.P., Siemens Healthcare]</td>\n",
       "    </tr>\n",
       "    <tr>\n",
       "      <th>165</th>\n",
       "      <td>Skanska AB</td>\n",
       "      <td>Skanska AB (publ)</td>\n",
       "      <td>[SK bioscience Co.,Ltd., Siemens Aktiengesellschaft, Saint Laurent, Sanofi Chimie S.A., Shanghai Pharmaceutical Co., Ltd.]</td>\n",
       "    </tr>\n",
       "    <tr>\n",
       "      <th>32</th>\n",
       "      <td>CUR Media Inc</td>\n",
       "      <td>CÜR Media, Inc.</td>\n",
       "      <td>[CREO Co., Ltd., C.R. Of Coosa Valley, LLC, Cremer S.A., The Curators of the University of Missouri, Chrome Capital, LLC]</td>\n",
       "    </tr>\n",
       "    <tr>\n",
       "      <th>70</th>\n",
       "      <td>Golden Growers Coop</td>\n",
       "      <td>Golden Growers Cooperative</td>\n",
       "      <td>[Ionix Technology, Inc., S-One Holdings Corporation, Glorywin Entertainment Group, Inc., Roche Sequencing Solutions, Inc., NTELOS Holdings Corp.]</td>\n",
       "    </tr>\n",
       "    <tr>\n",
       "      <th>65</th>\n",
       "      <td>Frank Russell Co</td>\n",
       "      <td>Frank Rusell Co.</td>\n",
       "      <td>[First BanCorp., First BanCorp., First Bancorp, Inc., FreshTec, Inc., Ministry of Economy]</td>\n",
       "    </tr>\n",
       "    <tr>\n",
       "      <th>33</th>\n",
       "      <td>Caiman AB</td>\n",
       "      <td>Caiman Aktiebolag</td>\n",
       "      <td>[Bachem Americas, Inc., Cavium, Inc., CalAmp Corp., Camber Corporation, Calma A.D.]</td>\n",
       "    </tr>\n",
       "    <tr>\n",
       "      <th>56</th>\n",
       "      <td>FUSION</td>\n",
       "      <td>Fusion Ads</td>\n",
       "      <td>[HighTech, Fusion Co.,Ltd, Fujitsu Limited, Sfo Gmbh, The St. Joe Company]</td>\n",
       "    </tr>\n",
       "    <tr>\n",
       "      <th>92</th>\n",
       "      <td>Kohl GmbH</td>\n",
       "      <td>KÖHl Gmbh</td>\n",
       "      <td>[Kikkoman Corporation, Forian Inc., Forian Inc., Ology Bioservices, Inc., Hoku Materials, Inc.]</td>\n",
       "    </tr>\n",
       "    <tr>\n",
       "      <th>134</th>\n",
       "      <td>Per Se AB</td>\n",
       "      <td>Per Se Aktiebolag</td>\n",
       "      <td>[Petro-Canada, Phreesia, Inc., Lumo Energi AB, Home Centre L L C, Fordham University]</td>\n",
       "    </tr>\n",
       "    <tr>\n",
       "      <th>90</th>\n",
       "      <td>Kmart Holdings Corp</td>\n",
       "      <td>Kmart Holding Corporation</td>\n",
       "      <td>[Firma Holdings Corp., MRNA Ribotherapeutics, Inc., MJ Biologics, Inc., Moore Family Hearing Company, Inc., Riviera Holdings Corp.]</td>\n",
       "    </tr>\n",
       "    <tr>\n",
       "      <th>170</th>\n",
       "      <td>Staubli Corp</td>\n",
       "      <td>Stäubli Corporation</td>\n",
       "      <td>[S&amp;T Bancorp, Inc., State Street Corporation, Statoil A/S, Star-Tek, Inc., SAT Technology, Inc.]</td>\n",
       "    </tr>\n",
       "    <tr>\n",
       "      <th>93</th>\n",
       "      <td>LANTHEUS MEDICAL IMAGING Inc</td>\n",
       "      <td>Lantheus Medical Imaging, Inc.</td>\n",
       "      <td>[Dsl Distribution, Lexicon Pharmaceuticals, Inc., Hanx biopharmaceuticals, inc, National Art Exchange, Inc., Discovery Natural Resources LLC]</td>\n",
       "    </tr>\n",
       "    <tr>\n",
       "      <th>71</th>\n",
       "      <td>Gran Nevada Beverage Inc</td>\n",
       "      <td>GRAN NEVADA Beverages, Inc.</td>\n",
       "      <td>[Siemens Real Estate, Inc., Yantai Yisheng Pharmaceutical Co., Ltd., First Data Merchant Services LLC, Staton Bell Blank Check LLC, Regal Cinemas, Inc.]</td>\n",
       "    </tr>\n",
       "    <tr>\n",
       "      <th>109</th>\n",
       "      <td>Morgan Stanley Private Bank NA</td>\n",
       "      <td>Morgan Stanley Private Bank, National Association</td>\n",
       "      <td>[Koynare Development Ltd, Moore Stephens CPA Limited, Ford Cheer International Limited, Mountain Hardwear, Inc., Rodman &amp; Renshaw, LLC]</td>\n",
       "    </tr>\n",
       "    <tr>\n",
       "      <th>180</th>\n",
       "      <td>The Bank of New York Mellon Trust Company NA</td>\n",
       "      <td>The Bank of New York Mellon Trust Company, National Association</td>\n",
       "      <td>[Bonwick Capital Partners, LLC, The Bank of Nova Scotia, The Bank of New York Trust Company NA, Beijing Kaide Quartz Co.,Ltd, Benecol Limited]</td>\n",
       "    </tr>\n",
       "    <tr>\n",
       "      <th>125</th>\n",
       "      <td>Ohlins Racing AB</td>\n",
       "      <td>Öhlins Racing Aktiebolag</td>\n",
       "      <td>[Kona Grill, Inc., Fifth Third Bancorp, Douglas Elliman Inc., Nimbus Apollo, Inc., FLG Partners, LLC]</td>\n",
       "    </tr>\n",
       "    <tr>\n",
       "      <th>23</th>\n",
       "      <td>Bondi AB</td>\n",
       "      <td>Bondi Aktiebolag</td>\n",
       "      <td>[BHB Power, LLC, BioWa, Inc., Bizo, Inc., Bolzoni S.p.A., APN Ltd]</td>\n",
       "    </tr>\n",
       "    <tr>\n",
       "      <th>104</th>\n",
       "      <td>Medusa AB</td>\n",
       "      <td>Medusa Aktiebolag</td>\n",
       "      <td>[MedChem, MediStar, Karnataka Ltd, MDxHealth SA, VOCEL, Inc.]</td>\n",
       "    </tr>\n",
       "    <tr>\n",
       "      <th>132</th>\n",
       "      <td>PRIME THERAPEUTICS LLC</td>\n",
       "      <td>Prime Therapeutics, LLC</td>\n",
       "      <td>[Pharmax Services, Inc., Monarch Natural Gas LLC, Imperial Nurseries, Inc., ProCare Pharmacy Benefit Manager, Inc., Pieris Pharmaceuticals, Inc.]</td>\n",
       "    </tr>\n",
       "    <tr>\n",
       "      <th>192</th>\n",
       "      <td>WESTAMERICA BANCORPORATION</td>\n",
       "      <td>Westamerica Bancorporation</td>\n",
       "      <td>[Wakunaga Pharmaceutical Co., Ltd., Jeil Pharmaceutical Co., Ltd., Waisman Biomanufacturing, Westlake Chemical Partners LP, LES LABORATOIRES SERVIER, SAS]</td>\n",
       "    </tr>\n",
       "    <tr>\n",
       "      <th>183</th>\n",
       "      <td>Trention AB</td>\n",
       "      <td>Trention AB (publ)</td>\n",
       "      <td>[Tofutti Brands Inc., Turf Ventures LLC, TrueBlue, Inc., Rosetta Genomics Ltd., Trans Ocean Ltd.]</td>\n",
       "    </tr>\n",
       "    <tr>\n",
       "      <th>19</th>\n",
       "      <td>BNY Mellon NA</td>\n",
       "      <td>BNY Mellon, National Association</td>\n",
       "      <td>[Controlled Capture Systems, LLC, Cherry Hill Mortgage Investment Corporation, Centrotrade Minerals &amp; Metals Inc., Crowley Corporate Legal Strategy, Cornell Research Foundation Inc.]</td>\n",
       "    </tr>\n",
       "    <tr>\n",
       "      <th>97</th>\n",
       "      <td>Lyft Inc</td>\n",
       "      <td>LÝFT inc.</td>\n",
       "      <td>[The FIT Company, Haynie &amp; Co., KSA GmbH, KKC Inc., Lynk &amp; Co]</td>\n",
       "    </tr>\n",
       "    <tr>\n",
       "      <th>174</th>\n",
       "      <td>TERSERA THERAPEUTICS LLC</td>\n",
       "      <td>TerSera Therapeutics LLC</td>\n",
       "      <td>[Ultragenyx Pharmaceutical Inc., Truckee Meadows Water Authority, Trans-Pacific Aerospace Company, Inc., Ritter Pharmaceuticals, Inc., TRx Pharmaceuticals, LLC]</td>\n",
       "    </tr>\n",
       "    <tr>\n",
       "      <th>79</th>\n",
       "      <td>IGB Bhd</td>\n",
       "      <td>IGB Berhad</td>\n",
       "      <td>[SBL, GAD eG, GEA AG, Jlg, Ncl]</td>\n",
       "    </tr>\n",
       "    <tr>\n",
       "      <th>161</th>\n",
       "      <td>Shangdong Rushan Victoria Bay Tourism Development Co Ltd</td>\n",
       "      <td>Shandong Rushan Victoria Bay Tourism Development Co., Ltd.</td>\n",
       "      <td>[Siegfried Evionnaz SA, Shiner International, Inc., Sun Pharmaceutical Industries Limited, Sterling National Bank, Sensata Technologies Holding plc]</td>\n",
       "    </tr>\n",
       "    <tr>\n",
       "      <th>112</th>\n",
       "      <td>NORTHERN NATURAL GAS Co</td>\n",
       "      <td>Northern Natural Gas Company</td>\n",
       "      <td>[North Texas Energy, Inc., North American Metals Corp., Heron Therapeutics, Inc., North Carolina Electric Membership Corporation, Progressive Casualty Insurance Company]</td>\n",
       "    </tr>\n",
       "  </tbody>\n",
       "</table>\n",
       "</div>"
      ],
      "text/plain": [
       "                                                                    a_name  \\\n",
       "145                                     Redpag Electronicos S.A.P.I. de CV   \n",
       "89                                                              KeyBank NA   \n",
       "88                                               Kauai Island Utility Coop   \n",
       "37                                  Children's Learnings Adventure USA LLC   \n",
       "114                                               NORTHERN STATES POWER Co   \n",
       "128                                                               Orexo AB   \n",
       "30                                    CREDIT AGRICOLE SECURITIES (USA) Inc   \n",
       "29                           CREDIT AGRICOLE CORPORATE AND INVESTMENT BANK   \n",
       "159                                                      Santander Bank NA   \n",
       "0                                                                  ABE Ltd   \n",
       "10   Aeris Industria e Comercio de Equipamentos para Geracao de Energia SA   \n",
       "156                                                                SSAB AB   \n",
       "154                                            SOUTHERN NATURAL GAS Co LLC   \n",
       "83                                    Interlink Communications Systems Inc   \n",
       "146                                                     Renew Interest LLC   \n",
       "52                                                              Energir LP   \n",
       "184                                    Turkiye Petrolleri Anonim Ortakligi   \n",
       "82                                        Integrated Data Technologies Inc   \n",
       "129                                                               Ossur hf   \n",
       "6                                                       ASTM International   \n",
       "8                                                       ATHENE LIFE RE Ltd   \n",
       "94                                                               Laredo AB   \n",
       "157                                                                Saab AB   \n",
       "53                              Euro Accident Health and Care Insurance AB   \n",
       "165                                                             Skanska AB   \n",
       "32                                                           CUR Media Inc   \n",
       "70                                                     Golden Growers Coop   \n",
       "65                                                        Frank Russell Co   \n",
       "33                                                               Caiman AB   \n",
       "56                                                                  FUSION   \n",
       "92                                                               Kohl GmbH   \n",
       "134                                                              Per Se AB   \n",
       "90                                                     Kmart Holdings Corp   \n",
       "170                                                           Staubli Corp   \n",
       "93                                            LANTHEUS MEDICAL IMAGING Inc   \n",
       "71                                                Gran Nevada Beverage Inc   \n",
       "109                                         Morgan Stanley Private Bank NA   \n",
       "180                           The Bank of New York Mellon Trust Company NA   \n",
       "125                                                       Ohlins Racing AB   \n",
       "23                                                                Bondi AB   \n",
       "104                                                              Medusa AB   \n",
       "132                                                 PRIME THERAPEUTICS LLC   \n",
       "192                                             WESTAMERICA BANCORPORATION   \n",
       "183                                                            Trention AB   \n",
       "19                                                           BNY Mellon NA   \n",
       "97                                                                Lyft Inc   \n",
       "174                                               TERSERA THERAPEUTICS LLC   \n",
       "79                                                                 IGB Bhd   \n",
       "161               Shangdong Rushan Victoria Bay Tourism Development Co Ltd   \n",
       "112                                                NORTHERN NATURAL GAS Co   \n",
       "\n",
       "                                                                      b_name  \\\n",
       "145                                      Redpag Electrónicos S.A.P.I. de C.V   \n",
       "89                                              KeyBank National Association   \n",
       "88                                          Kauai Island Utility Cooperative   \n",
       "37                                    Children's Learning Adventure USA, LLC   \n",
       "114                                            Northern States Power Company   \n",
       "128                                                          Orexo AB (publ)   \n",
       "30                                     Crédit Agricole Securities (USA) Inc.   \n",
       "29                             Crédit Agricole Corporate And Investment Bank   \n",
       "159                                     Santander Bank, National Association   \n",
       "0                                                             A.B.E. LIMITED   \n",
       "10   Aeris Indústria e Comércio de Equipamentos para Geração de Energia S.A.   \n",
       "156                                                           SSAB AB (publ)   \n",
       "154                                     Southern Natural Gas Company, L.L.C.   \n",
       "83                                     Interlink Communication Systems, Inc.   \n",
       "146                                                     Renew Interests, LLC   \n",
       "52                                                             Énergir, L.P.   \n",
       "184                                      Türkiye Petrolleri Anonim Ortakligi   \n",
       "82                                          Integrated Data Technology, Inc.   \n",
       "129                                                                Össur hf.   \n",
       "6                                                          AST International   \n",
       "8                                                        Athene Life Re Ltd.   \n",
       "94                                                         Laredo Aktiebolag   \n",
       "157                                                                  SÅAb Ab   \n",
       "53                          Euro Accident Health & Care Insurance Aktiebolag   \n",
       "165                                                        Skanska AB (publ)   \n",
       "32                                                           CÜR Media, Inc.   \n",
       "70                                                Golden Growers Cooperative   \n",
       "65                                                          Frank Rusell Co.   \n",
       "33                                                         Caiman Aktiebolag   \n",
       "56                                                                Fusion Ads   \n",
       "92                                                                 KÖHl Gmbh   \n",
       "134                                                        Per Se Aktiebolag   \n",
       "90                                                 Kmart Holding Corporation   \n",
       "170                                                      Stäubli Corporation   \n",
       "93                                            Lantheus Medical Imaging, Inc.   \n",
       "71                                               GRAN NEVADA Beverages, Inc.   \n",
       "109                        Morgan Stanley Private Bank, National Association   \n",
       "180          The Bank of New York Mellon Trust Company, National Association   \n",
       "125                                                 Öhlins Racing Aktiebolag   \n",
       "23                                                          Bondi Aktiebolag   \n",
       "104                                                        Medusa Aktiebolag   \n",
       "132                                                  Prime Therapeutics, LLC   \n",
       "192                                               Westamerica Bancorporation   \n",
       "183                                                       Trention AB (publ)   \n",
       "19                                          BNY Mellon, National Association   \n",
       "97                                                                 LÝFT inc.   \n",
       "174                                                 TerSera Therapeutics LLC   \n",
       "79                                                                IGB Berhad   \n",
       "161               Shandong Rushan Victoria Bay Tourism Development Co., Ltd.   \n",
       "112                                             Northern Natural Gas Company   \n",
       "\n",
       "                                                                                                                                                                                                                 sim  \n",
       "145                                                      [Texla Energy Management, Inc., Relief Therapeutics Holding AG, Red Bluff Resources Operating, LLC, Emergent Capital, Inc., MarkWest Energy Partners, L.P.]  \n",
       "89                                                                                          [Mindshare, Hubbell Incorporated, México Transportes Aéreos, S. A. De C. V, Human Capital Management Limited, Helium AB]  \n",
       "88                                                          [Megalith Financial Acquisition Corp., Oldcastle Precast, Inc., Marina District Finance Company, Inc., MBT Financial Corp., Kaiser Aluminum Corporation]  \n",
       "37   [Complete Business Solutions Group, Inc., Cook Inlet Natural Gas Storage Alaska LLC, Behringer Harvard Multifamily Management Services, LLC, Brookhaven Science Associates LLC, Covenant Logistics Group, Inc.]  \n",
       "114                                                                          [Norton Rose Fulbright LLP, Nortridge Software, LLC, Northwest Pipe Company, Fonterra Co-operative Group Limited, Kontoor Brands, Inc.]  \n",
       "128                                                                                                                                                    [O'reilly, Umpqua Bank, Euromedica S.A., Topas AB, Roan B.V.]  \n",
       "30                                                                                             [Credit Market Analysis Limited, CyDex Pharmaceuticals, Inc., CVR Energy, Inc., Credex Corporation, Xcel Energy Inc.]  \n",
       "29                                                [Credit One Financial, Inc., Crown Food Service Equipment Ltd., Crowe Horwath International, BNY Mellon Trust of Delaware, Creative Solutions In Healthcare, Inc.]  \n",
       "159                                                     [Standard Chartered Bank Kenya Limited, Seaniemac International, Ltd., Saudi Arabian National Guard, Lucid Energy Delaware, LLC, Sailun (Vietnam) Co., Ltd.]  \n",
       "0                                                                                                                                                [Able N.V., AltheaDx, Inc., B & A Limited, Beam, Inc., AAI Limited]  \n",
       "10                               [Boyalife Investment Inc., Air Force Civil Engineer Center, Arizona Radiation Therapy Management Services, Inc, Blue Ridge Bankshares, Inc., Arizona Department of Health Services]  \n",
       "156                                                                                                                                   [Sichel Limited, The Social Chain AG, JCT Limited, LG Chem, Ltd., JSC Aviabor]  \n",
       "154                                                    [Southside Bancshares, Inc., Southern California Edison Company, Superior Natural Gas Corporation, South Beach Spirits, Inc., Sony Pictures Television, Inc.]  \n",
       "83                              [DRS Network & Imaging Systems, LLC, International Flavors & Fragrances Inc., Toshiba America Information Systems, Inc., Hypertension Diagnostics, Inc., Shell Trading (US) Company]  \n",
       "146                                                        [Equilon Enterprises LLC, OM Holdings International, Inc., IES Downstream, LLC, Kinder Morgan Crude & Condensate LLC, Drilling Tools International, Inc.]  \n",
       "52                                                                                                                              [Zentric, Inc., EnergyMark, LLC, Energy Harbor LLC, Energy Fiji Limited, WTTJ Corp.]  \n",
       "184                                                       [Tri-County Electric Cooperative, Inc., Restoration Hardware, Inc., TOTSA Total Oil Trading SA, Transoil Marketing, LLC, Great Wall Motor Company Limited]  \n",
       "82                                                   [Integrated DNA Technologies, Inc., General Wireless Operations Inc., Green Leaf Farms Holdings, Inc, Gold Standard Mining Company, Stellar Technologies, Inc.]  \n",
       "129                                                                                                                          [OSI Systems, Inc., The IS Group, Susi, LLC,, The I.S. Group Limited, OS support, Inc.]  \n",
       "6                                                                                           [Arsanis Biosciences GmbH, ATI Titanium LLC, Amgen Fremont Inc., Ariston Pharmaceuticals, Inc., Asubio Pharma Co., Ltd.]  \n",
       "8                                                                                 [Buffalo Biolabs, LLC, Aeon Global Health Corp., Bimini Capital Management, Inc., Bohemian Companies, LLC, Bloomberg Finance L.P.]  \n",
       "94                                                                                                                                             [Mazda Limited, Valor, LLC, Valdirose, VALKOR, LLC, Laredo Oil, Inc.]  \n",
       "157                                                                                                                                                                                   [MCA+, JAC, MBC, L C I, D C F]  \n",
       "53                                                                                                   [Frencken Mechatronics BV, Saber Interactive, Inc., Seadrift Coke L.P., Seadrift Coke L.P., Siemens Healthcare]  \n",
       "165                                                                                       [SK bioscience Co.,Ltd., Siemens Aktiengesellschaft, Saint Laurent, Sanofi Chimie S.A., Shanghai Pharmaceutical Co., Ltd.]  \n",
       "32                                                                                         [CREO Co., Ltd., C.R. Of Coosa Valley, LLC, Cremer S.A., The Curators of the University of Missouri, Chrome Capital, LLC]  \n",
       "70                                                                 [Ionix Technology, Inc., S-One Holdings Corporation, Glorywin Entertainment Group, Inc., Roche Sequencing Solutions, Inc., NTELOS Holdings Corp.]  \n",
       "65                                                                                                                        [First BanCorp., First BanCorp., First Bancorp, Inc., FreshTec, Inc., Ministry of Economy]  \n",
       "33                                                                                                                               [Bachem Americas, Inc., Cavium, Inc., CalAmp Corp., Camber Corporation, Calma A.D.]  \n",
       "56                                                                                                                                        [HighTech, Fusion Co.,Ltd, Fujitsu Limited, Sfo Gmbh, The St. Joe Company]  \n",
       "92                                                                                                                   [Kikkoman Corporation, Forian Inc., Forian Inc., Ology Bioservices, Inc., Hoku Materials, Inc.]  \n",
       "134                                                                                                                            [Petro-Canada, Phreesia, Inc., Lumo Energi AB, Home Centre L L C, Fordham University]  \n",
       "90                                                                               [Firma Holdings Corp., MRNA Ribotherapeutics, Inc., MJ Biologics, Inc., Moore Family Hearing Company, Inc., Riviera Holdings Corp.]  \n",
       "170                                                                                                                 [S&T Bancorp, Inc., State Street Corporation, Statoil A/S, Star-Tek, Inc., SAT Technology, Inc.]  \n",
       "93                                                                     [Dsl Distribution, Lexicon Pharmaceuticals, Inc., Hanx biopharmaceuticals, inc, National Art Exchange, Inc., Discovery Natural Resources LLC]  \n",
       "71                                                          [Siemens Real Estate, Inc., Yantai Yisheng Pharmaceutical Co., Ltd., First Data Merchant Services LLC, Staton Bell Blank Check LLC, Regal Cinemas, Inc.]  \n",
       "109                                                                          [Koynare Development Ltd, Moore Stephens CPA Limited, Ford Cheer International Limited, Mountain Hardwear, Inc., Rodman & Renshaw, LLC]  \n",
       "180                                                                   [Bonwick Capital Partners, LLC, The Bank of Nova Scotia, The Bank of New York Trust Company NA, Beijing Kaide Quartz Co.,Ltd, Benecol Limited]  \n",
       "125                                                                                                            [Kona Grill, Inc., Fifth Third Bancorp, Douglas Elliman Inc., Nimbus Apollo, Inc., FLG Partners, LLC]  \n",
       "23                                                                                                                                                [BHB Power, LLC, BioWa, Inc., Bizo, Inc., Bolzoni S.p.A., APN Ltd]  \n",
       "104                                                                                                                                                    [MedChem, MediStar, Karnataka Ltd, MDxHealth SA, VOCEL, Inc.]  \n",
       "132                                                                [Pharmax Services, Inc., Monarch Natural Gas LLC, Imperial Nurseries, Inc., ProCare Pharmacy Benefit Manager, Inc., Pieris Pharmaceuticals, Inc.]  \n",
       "192                                                       [Wakunaga Pharmaceutical Co., Ltd., Jeil Pharmaceutical Co., Ltd., Waisman Biomanufacturing, Westlake Chemical Partners LP, LES LABORATOIRES SERVIER, SAS]  \n",
       "183                                                                                                                [Tofutti Brands Inc., Turf Ventures LLC, TrueBlue, Inc., Rosetta Genomics Ltd., Trans Ocean Ltd.]  \n",
       "19                            [Controlled Capture Systems, LLC, Cherry Hill Mortgage Investment Corporation, Centrotrade Minerals & Metals Inc., Crowley Corporate Legal Strategy, Cornell Research Foundation Inc.]  \n",
       "97                                                                                                                                                    [The FIT Company, Haynie & Co., KSA GmbH, KKC Inc., Lynk & Co]  \n",
       "174                                                 [Ultragenyx Pharmaceutical Inc., Truckee Meadows Water Authority, Trans-Pacific Aerospace Company, Inc., Ritter Pharmaceuticals, Inc., TRx Pharmaceuticals, LLC]  \n",
       "79                                                                                                                                                                                   [SBL, GAD eG, GEA AG, Jlg, Ncl]  \n",
       "161                                                             [Siegfried Evionnaz SA, Shiner International, Inc., Sun Pharmaceutical Industries Limited, Sterling National Bank, Sensata Technologies Holding plc]  \n",
       "112                                        [North Texas Energy, Inc., North American Metals Corp., Heron Therapeutics, Inc., North Carolina Electric Membership Corporation, Progressive Casualty Insurance Company]  "
      ]
     },
     "execution_count": 46,
     "metadata": {},
     "output_type": "execute_result"
    }
   ],
   "source": [
    "pd.set_option('display.max_rows',50)\n",
    "pd.set_option('display.max_colwidth',None)\n",
    "\n",
    "pd.DataFrame(mistakes).sample(50)"
   ]
  },
  {
   "cell_type": "code",
   "execution_count": null,
   "metadata": {},
   "outputs": [],
   "source": []
  },
  {
   "cell_type": "code",
   "execution_count": 79,
   "metadata": {},
   "outputs": [
    {
     "name": "stdout",
     "output_type": "stream",
     "text": [
      "1/1 [==============================] - 1s 739ms/step\n"
     ]
    },
    {
     "data": {
      "image/png": "[encoded data removed]",
      "text/plain": [
       "<Figure size 576x432 with 1 Axes>"
      ]
     },
     "metadata": {
      "needs_background": "light"
     },
     "output_type": "display_data"
    }
   ],
   "source": [
    "import sklearn.decomposition\n",
    "import matplotlib.pyplot as plt\n",
    "\n",
    "\n",
    "words = ['APlle Inc', 'Foxocorn Limited Corp', 'Understanding',\n",
    "         'Apple Corp.', 'Foxocorn inc', 'Updderctundjing',\n",
    "         'APPLE', 'Foxocorn', 'Understaating',\n",
    "         'APP inc', 'LaguFoxocornage', 'Unddertandink',\n",
    "         'APPLE LTD', 'LanguaFoxocorngge', 'Umderstoneding']\n",
    "\n",
    "# Create word embeddings\n",
    "word_embeddings = c2v_model.vectorize_words(words)\n",
    "\n",
    "# Project embeddings on plane using the PCA\n",
    "projection_2d = sklearn.decomposition.PCA(n_components=2).fit_transform(word_embeddings)\n",
    "\n",
    "# Draw words on plane\n",
    "f = plt.figure(figsize=(8, 6))\n",
    "\n",
    "for j in range(len(projection_2d)):\n",
    "    plt.scatter(projection_2d[j, 0], projection_2d[j, 1],\n",
    "                marker=('$' + words[j] + '$'),\n",
    "                s=500 * len(words[j]), label=j,\n",
    "                facecolors='green' if words[j]\n",
    "                            in ['Natural', 'Language', 'Understanding'] else 'black')\n",
    "\n",
    "plt.show()"
   ]
  },
  {
   "cell_type": "code",
   "execution_count": 41,
   "metadata": {},
   "outputs": [],
   "source": [
    "i = 1\n",
    "sim = s[i].numpy()\n",
    "sorted_data = np.argsort(sim,axis=0)\n",
    "top_sim = sorted_data[::-1][1:20]\n"
   ]
  },
  {
   "cell_type": "code",
   "execution_count": 42,
   "metadata": {},
   "outputs": [
    {
     "data": {
      "text/plain": [
       "array([0.9998301 , 0.9997969 , 0.9997716 , 0.9997145 , 0.99970466,\n",
       "       0.9996715 , 0.99966264, 0.9996414 , 0.9996224 , 0.9996041 ,\n",
       "       0.9995898 , 0.9995534 , 0.9995492 , 0.9995331 , 0.99951977,\n",
       "       0.9995184 , 0.9995045 , 0.9994996 , 0.9994714 ], dtype=float32)"
      ]
     },
     "execution_count": 42,
     "metadata": {},
     "output_type": "execute_result"
    }
   ],
   "source": [
    "sim[top_sim]"
   ]
  },
  {
   "cell_type": "code",
   "execution_count": 43,
   "metadata": {},
   "outputs": [
    {
     "data": {
      "text/plain": [
       "'1-800 Contacts Inc'"
      ]
     },
     "execution_count": 43,
     "metadata": {},
     "output_type": "execute_result"
    }
   ],
   "source": [
    "a.iloc[i]['name']"
   ]
  },
  {
   "cell_type": "code",
   "execution_count": 44,
   "metadata": {},
   "outputs": [
    {
     "data": {
      "text/plain": [
       "'1-800 CONTACTS, INC.'"
      ]
     },
     "execution_count": 44,
     "metadata": {},
     "output_type": "execute_result"
    }
   ],
   "source": [
    "b.iloc[i]['name']"
   ]
  },
  {
   "cell_type": "code",
   "execution_count": 45,
   "metadata": {},
   "outputs": [],
   "source": [
    "from scipy import spatial\n",
    "def calc_sim(model,sent1,sent2):\n",
    "    word1 = model.vectorize([sent1])\n",
    "    wrod2 = model.vectorize([sent2])\n",
    "    result = 1 - spatial.distance.cosine(word1, wrod2)\n",
    "    return result\n",
    "    \n",
    "    \n",
    "    \n",
    "    "
   ]
  },
  {
   "cell_type": "code",
   "execution_count": 49,
   "metadata": {},
   "outputs": [
    {
     "name": "stdout",
     "output_type": "stream",
     "text": [
      "1/1 [==============================] - 0s 16ms/step\n",
      "1/1 [==============================] - 0s 16ms/step\n"
     ]
    },
    {
     "data": {
      "text/plain": [
       "0.9858397841453552"
      ]
     },
     "execution_count": 49,
     "metadata": {},
     "output_type": "execute_result"
    }
   ],
   "source": [
    "calc_sim(c2v_model, a.iloc[i]['name'], b.iloc[i]['name'])"
   ]
  },
  {
   "cell_type": "code",
   "execution_count": 48,
   "metadata": {},
   "outputs": [
    {
     "data": {
      "text/plain": [
       "False"
      ]
     },
     "execution_count": 48,
     "metadata": {},
     "output_type": "execute_result"
    }
   ],
   "source": []
  },
  {
   "cell_type": "code",
   "execution_count": 81,
   "metadata": {},
   "outputs": [
    {
     "data": {
      "application/vnd.jupyter.widget-view+json": {
       "model_id": "e01932a4982a402f80505450ec9b1c9e",
       "version_major": 2,
       "version_minor": 0
      },
      "text/plain": [
       "  0%|          | 0/23685 [00:00<?, ?it/s]"
      ]
     },
     "metadata": {},
     "output_type": "display_data"
    },
    {
     "data": {
      "text/plain": [
       "(6, 3)"
      ]
     },
     "execution_count": 81,
     "metadata": {},
     "output_type": "execute_result"
    }
   ],
   "source": [
    "# sanity check for embeddings\n",
    "from scipy import spatial\n",
    "from tqdm.auto import tqdm \n",
    "similarities = []\n",
    "for i in tqdm(range(len(a))) : \n",
    "    distance  = 1 - spatial.distance.cosine(word_embeddings_a[i], word_embeddings_b[i])\n",
    "\n",
    "    similarities.append({'a_norm':a.iloc[i]['name'],'b_norm':b.iloc[i]['name'], 'distance':distance})\n",
    "\n",
    "sim = pd.DataFrame(similarities)\n",
    "pd.set_option('display.max_rows', 100)\n",
    "\n",
    "sim[sim['distance'] < 0.5].shape"
   ]
  },
  {
   "cell_type": "code",
   "execution_count": 24,
   "metadata": {},
   "outputs": [
    {
     "ename": "ModuleNotFoundError",
     "evalue": "No module named 'faiss'",
     "output_type": "error",
     "traceback": [
      "\u001b[1;31m---------------------------------------------------------------------------\u001b[0m",
      "\u001b[1;31mModuleNotFoundError\u001b[0m                       Traceback (most recent call last)",
      "\u001b[1;32md:\\iSemantics\\Client-Works\\Vishal\\Company Name Matcher\\name_matching\\Company_Name_Matching.ipynb Cell 68\u001b[0m in \u001b[0;36m<cell line: 1>\u001b[1;34m()\u001b[0m\n\u001b[1;32m----> <a href='vscode-notebook-cell:/d%3A/iSemantics/Client-Works/Vishal/Company%20Name%20Matcher/name_matching/Company_Name_Matching.ipynb#Y125sZmlsZQ%3D%3D?line=0'>1</a>\u001b[0m \u001b[39mimport\u001b[39;00m \u001b[39mfaiss\u001b[39;00m\n\u001b[0;32m      <a href='vscode-notebook-cell:/d%3A/iSemantics/Client-Works/Vishal/Company%20Name%20Matcher/name_matching/Company_Name_Matching.ipynb#Y125sZmlsZQ%3D%3D?line=1'>2</a>\u001b[0m \u001b[39massert\u001b[39;00m \u001b[39mhasattr\u001b[39m(faiss, \u001b[39m\"\u001b[39m\u001b[39mIndexFlatIP\u001b[39m\u001b[39m\"\u001b[39m)\n\u001b[0;32m      <a href='vscode-notebook-cell:/d%3A/iSemantics/Client-Works/Vishal/Company%20Name%20Matcher/name_matching/Company_Name_Matching.ipynb#Y125sZmlsZQ%3D%3D?line=2'>3</a>\u001b[0m use_faiss \u001b[39m=\u001b[39m \u001b[39mTrue\u001b[39;00m \n",
      "\u001b[1;31mModuleNotFoundError\u001b[0m: No module named 'faiss'"
     ]
    }
   ],
   "source": [
    "import faiss\n",
    "assert hasattr(faiss, \"IndexFlatIP\")\n",
    "use_faiss = True \n",
    "\n",
    "import torch \n",
    "\n",
    "device = 'cuda' if torch.cuda.is_available() else 'cpu'\n",
    "device \n",
    "\n",
    "sentences_or_file_path = a['name'].tolist() \n",
    "c_index = {\"sentences\": sentences_or_file_path}\n",
    "num_cells_in_search = 10 \n",
    "num_cells = 100\n",
    "faiss_fast  = True \n",
    "use_faiss = True\n",
    "if True:\n",
    "    quantizer = faiss.IndexFlatIP(word_embeddings_a.shape[1])  \n",
    "    if True:\n",
    "        index = faiss.IndexIVFFlat(quantizer, word_embeddings_a.shape[1], min(num_cells, len(sentences_or_file_path)), faiss.METRIC_INNER_PRODUCT) \n",
    "    else:\n",
    "        index = quantizer\n",
    "\n",
    "    if (device == \"cuda\" and device != \"cpu\") or device == \"cuda\":\n",
    "        if hasattr(faiss, \"StandardGpuResources\"):\n",
    "            res = faiss.StandardGpuResources()\n",
    "            res.setTempMemory(20 * 1024 * 1024 * 1024)\n",
    "            index = faiss.index_cpu_to_gpu(res, 0, index)\n",
    "\n",
    "\n",
    "\n",
    "if faiss_fast:            \n",
    "    index.train(word_embeddings_a.astype(np.float32))\n",
    "index.add(word_embeddings_a.astype(np.float32))\n",
    "index.nprobe = min(num_cells_in_search, len(sentences_or_file_path))\n",
    "is_faiss_index = True\n",
    "c_index[\"index\"] = index\n",
    "\n",
    "## Search \n",
    "\n",
    "queries = b.name.tolist() \n",
    "query_vecs = word_embeddings_b\n",
    "distance, idx = c_index[\"index\"].search(query_vecs.astype(np.float32), 20)\n",
    "def pack_single_result(dist, idx):\n",
    "    results = [(c_index[\"sentences\"][i], s) for i, s in zip(idx, dist) if s >= 0.0]\n",
    "    return results\n",
    "\n",
    "if isinstance(queries, list):\n",
    "    combined_results = []\n",
    "    for i in range(len(queries)):\n",
    "        results = pack_single_result(distance[i], idx[i])\n",
    "        combined_results.append(results)\n",
    "\n",
    "\n",
    "i = 4\n",
    "combined_results[i], a.name[i]"
   ]
  },
  {
   "cell_type": "markdown",
   "metadata": {},
   "source": []
  },
  {
   "cell_type": "markdown",
   "metadata": {},
   "source": [
    "# Attention for Company names embeddings "
   ]
  },
  {
   "cell_type": "code",
   "execution_count": null,
   "metadata": {},
   "outputs": [],
   "source": []
  },
  {
   "cell_type": "code",
   "execution_count": 82,
   "metadata": {},
   "outputs": [
    {
     "data": {
      "application/vnd.jupyter.widget-view+json": {
       "model_id": "128274e2ac7545848212f50baf4da4c6",
       "version_major": 2,
       "version_minor": 0
      },
      "text/plain": [
       "Downloading:   0%|          | 0.00/28.0 [00:00<?, ?B/s]"
      ]
     },
     "metadata": {},
     "output_type": "display_data"
    },
    {
     "data": {
      "application/vnd.jupyter.widget-view+json": {
       "model_id": "ccb0fbc4978b4fb7a25bff180732986f",
       "version_major": 2,
       "version_minor": 0
      },
      "text/plain": [
       "Downloading:   0%|          | 0.00/570 [00:00<?, ?B/s]"
      ]
     },
     "metadata": {},
     "output_type": "display_data"
    },
    {
     "data": {
      "application/vnd.jupyter.widget-view+json": {
       "model_id": "6dae48db4a4745028dd858dcebca0bea",
       "version_major": 2,
       "version_minor": 0
      },
      "text/plain": [
       "Downloading:   0%|          | 0.00/226k [00:00<?, ?B/s]"
      ]
     },
     "metadata": {},
     "output_type": "display_data"
    },
    {
     "data": {
      "application/vnd.jupyter.widget-view+json": {
       "model_id": "a35e9ef00d974c259c4100cc452a3c45",
       "version_major": 2,
       "version_minor": 0
      },
      "text/plain": [
       "Downloading:   0%|          | 0.00/455k [00:00<?, ?B/s]"
      ]
     },
     "metadata": {},
     "output_type": "display_data"
    }
   ],
   "source": [
    "from transformers import AutoTokenizer\n",
    "\n",
    "tokenizer = AutoTokenizer.from_pretrained('bert-base-uncased')\n"
   ]
  },
  {
   "cell_type": "code",
   "execution_count": 103,
   "metadata": {},
   "outputs": [
    {
     "data": {
      "text/plain": [
       "['corp']"
      ]
     },
     "execution_count": 103,
     "metadata": {},
     "output_type": "execute_result"
    }
   ],
   "source": [
    "encoded  = tokenizer.tokenize('corp')\n",
    "encoded"
   ]
  },
  {
   "cell_type": "code",
   "execution_count": 104,
   "metadata": {},
   "outputs": [
    {
     "data": {
      "text/plain": [
       "['corp']"
      ]
     },
     "execution_count": 104,
     "metadata": {},
     "output_type": "execute_result"
    }
   ],
   "source": [
    "encoded"
   ]
  },
  {
   "cell_type": "code",
   "execution_count": 140,
   "metadata": {},
   "outputs": [
    {
     "name": "stdout",
     "output_type": "stream",
     "text": [
      "huggingface/tokenizers: The current process just got forked, after parallelism has already been used. Disabling parallelism to avoid deadlocks...\n",
      "To disable this warning, you can either:\n",
      "\t- Avoid using `tokenizers` before the fork if possible\n",
      "\t- Explicitly set the environment variable TOKENIZERS_PARALLELISM=(true | false)\n",
      "Collecting faiss-gpu\n",
      "  Downloading faiss_gpu-1.7.2-cp39-cp39-manylinux_2_17_x86_64.manylinux2014_x86_64.whl (85.5 MB)\n",
      "\u001b[2K     \u001b[90m━━━━━━━━━━━━━━━━━━━━━━━━━━━━━━━━━━━━━━━━\u001b[0m \u001b[32m85.5/85.5 MB\u001b[0m \u001b[31m19.7 MB/s\u001b[0m eta \u001b[36m0:00:00\u001b[0m00:01\u001b[0m00:01\u001b[0m\n",
      "\u001b[?25hInstalling collected packages: faiss-gpu\n",
      "Successfully installed faiss-gpu-1.7.2\n",
      "\u001b[33mWARNING: Running pip as the 'root' user can result in broken permissions and conflicting behaviour with the system package manager. It is recommended to use a virtual environment instead: https://pip.pypa.io/warnings/venv\u001b[0m\u001b[33m\n",
      "\u001b[0m"
     ]
    }
   ],
   "source": [
    "!pip install faiss-gpu"
   ]
  },
  {
   "cell_type": "code",
   "execution_count": 88,
   "metadata": {},
   "outputs": [
    {
     "data": {
      "application/vnd.jupyter.widget-view+json": {
       "model_id": "2b5d049af9b745f78638e598611771a8",
       "version_major": 2,
       "version_minor": 0
      },
      "text/plain": [
       "Downloading:   0%|          | 0.00/255 [00:00<?, ?B/s]"
      ]
     },
     "metadata": {},
     "output_type": "display_data"
    },
    {
     "data": {
      "application/vnd.jupyter.widget-view+json": {
       "model_id": "15b97af4817347e9877a497e0c7fbfa4",
       "version_major": 2,
       "version_minor": 0
      },
      "text/plain": [
       "Downloading:   0%|          | 0.00/738 [00:00<?, ?B/s]"
      ]
     },
     "metadata": {},
     "output_type": "display_data"
    },
    {
     "data": {
      "application/vnd.jupyter.widget-view+json": {
       "model_id": "d8ff04c2a764489c9497375eb70b59f8",
       "version_major": 2,
       "version_minor": 0
      },
      "text/plain": [
       "Downloading:   0%|          | 0.00/780k [00:00<?, ?B/s]"
      ]
     },
     "metadata": {},
     "output_type": "display_data"
    },
    {
     "data": {
      "application/vnd.jupyter.widget-view+json": {
       "model_id": "65814cfb3c9b4b709af3c81e664ea2b6",
       "version_major": 2,
       "version_minor": 0
      },
      "text/plain": [
       "Downloading:   0%|          | 0.00/446k [00:00<?, ?B/s]"
      ]
     },
     "metadata": {},
     "output_type": "display_data"
    },
    {
     "data": {
      "application/vnd.jupyter.widget-view+json": {
       "model_id": "818586018c76496dbd5bb9e5ee910251",
       "version_major": 2,
       "version_minor": 0
      },
      "text/plain": [
       "Downloading:   0%|          | 0.00/239 [00:00<?, ?B/s]"
      ]
     },
     "metadata": {},
     "output_type": "display_data"
    },
    {
     "data": {
      "application/vnd.jupyter.widget-view+json": {
       "model_id": "50199e6fba1945b3a63c2930bc53d39f",
       "version_major": 2,
       "version_minor": 0
      },
      "text/plain": [
       "Downloading:   0%|          | 0.00/476M [00:00<?, ?B/s]"
      ]
     },
     "metadata": {},
     "output_type": "display_data"
    }
   ],
   "source": [
    "from simcse.core import SimCSE\n",
    "if True: \n",
    "    sim_pretrained= \"princeton-nlp/sup-simcse-roberta-base\"\n",
    "    simcse_model = SimCSE(sim_pretrained )"
   ]
  },
  {
   "cell_type": "code",
   "execution_count": 15,
   "metadata": {},
   "outputs": [
    {
     "name": "stderr",
     "output_type": "stream",
     "text": [
      "12/10/2022 19:00:16 - INFO - faiss.loader -   Loading faiss with AVX2 support.\n",
      "12/10/2022 19:00:16 - INFO - faiss.loader -   Could not load library with AVX2 support due to:\n",
      "ModuleNotFoundError(\"No module named 'faiss.swigfaiss_avx2'\")\n",
      "12/10/2022 19:00:16 - INFO - faiss.loader -   Loading faiss.\n",
      "12/10/2022 19:00:16 - INFO - faiss.loader -   Successfully loaded faiss.\n",
      "12/10/2022 19:00:16 - INFO - simcse.core -   Encoding embeddings for sentences...\n",
      "100%|██████████| 371/371 [00:18<00:00, 20.48it/s]\n",
      "12/10/2022 19:00:35 - INFO - simcse.core -   Building index...\n",
      "12/10/2022 19:00:35 - INFO - simcse.core -   Use GPU-version faiss\n",
      "12/10/2022 19:00:36 - INFO - simcse.core -   Finished\n"
     ]
    }
   ],
   "source": [
    "simcse_model.build_index(b.norm.tolist())"
   ]
  },
  {
   "cell_type": "code",
   "execution_count": 175,
   "metadata": {},
   "outputs": [
    {
     "name": "stdout",
     "output_type": "stream",
     "text": [
      "CPU times: user 2.37 ms, sys: 272 µs, total: 2.65 ms\n",
      "Wall time: 1.69 ms\n"
     ]
    },
    {
     "data": {
      "text/plain": [
       "(['LE', 'G', 'END', 'ĠPRODUCT', 'ION', 'ĠH', 'OLD', 'INGS', 'ĠLLC'],\n",
       " ['Legend', 'ĠProduction', 'ĠHoldings', ',', 'ĠLLC'],\n",
       " 'LEGEND PRODUCTION HOLDINGS LLC',\n",
       " 'Legend Production Holdings, LLC',\n",
       " {'input_ids': [[0, 3850, 534, 9309, 38948, 7744, 289, 20245, 10942, 2291, 2], [0, 46530, 9850, 4357, 6, 2291, 2]], 'attention_mask': [[1, 1, 1, 1, 1, 1, 1, 1, 1, 1, 1], [1, 1, 1, 1, 1, 1, 1]]})"
      ]
     },
     "execution_count": 175,
     "metadata": {},
     "output_type": "execute_result"
    }
   ],
   "source": [
    "%%time\n",
    "from random import randint\n",
    "\n",
    "i = randint(0, len(a))\n",
    "\n",
    "sent1 = a.iloc[i]['name']\n",
    "sent2 = b.iloc[i]['name']\n",
    "\n",
    "simcse_model.tokenizer.tokenize(sent1),\\\n",
    "simcse_model.tokenizer.tokenize(sent2),\\\n",
    "sent1,\\\n",
    "sent2,\\\n",
    "simcse_model.tokenizer.batch_encode_plus([sent1,sent2])"
   ]
  },
  {
   "cell_type": "code",
   "execution_count": 113,
   "metadata": {},
   "outputs": [
    {
     "name": "stderr",
     "output_type": "stream",
     "text": [
      "100%|██████████| 371/371 [00:09<00:00, 39.01it/s]\n"
     ]
    }
   ],
   "source": [
    "encoded = simcse_model.encode(a.norm_ws.tolist(), \n",
    "                batch_size=64,\n",
    "                max_length= 20)"
   ]
  },
  {
   "cell_type": "code",
   "execution_count": 114,
   "metadata": {},
   "outputs": [
    {
     "name": "stderr",
     "output_type": "stream",
     "text": [
      "100%|██████████| 371/371 [00:09<00:00, 38.11it/s]\n"
     ]
    }
   ],
   "source": [
    "encoded_b = simcse_model.encode(b.norm_ws.tolist(), \n",
    "                batch_size=64,\n",
    "                max_length= 20)"
   ]
  },
  {
   "cell_type": "code",
   "execution_count": 115,
   "metadata": {},
   "outputs": [],
   "source": [
    "import torch\n",
    "from torchmetrics.functional import pairwise_cosine_similarity"
   ]
  },
  {
   "cell_type": "code",
   "execution_count": 116,
   "metadata": {},
   "outputs": [
    {
     "name": "stderr",
     "output_type": "stream",
     "text": [
      "/tmp/ipykernel_851/1793419373.py:2: UserWarning: To copy construct from a tensor, it is recommended to use sourceTensor.clone().detach() or sourceTensor.clone().detach().requires_grad_(True), rather than torch.tensor(sourceTensor).\n",
      "  simcse_emb_sim = pairwise_cosine_similarity(torch.tensor(encoded),torch.tensor(encoded_b)).numpy()\n"
     ]
    }
   ],
   "source": [
    "# C = torch.einsum('id,jd->ij', torch.tensor(word_embeddings_a),torch.tensor(word_embeddings_b)).numpy()\n",
    "simcse_emb_sim = pairwise_cosine_similarity(torch.tensor(encoded),torch.tensor(encoded_b)).numpy()"
   ]
  },
  {
   "cell_type": "code",
   "execution_count": 122,
   "metadata": {
    "tags": []
   },
   "outputs": [
    {
     "name": "stderr",
     "output_type": "stream",
     "text": [
      "100%|██████████| 23685/23685 [00:43<00:00, 549.22it/s]\n"
     ]
    }
   ],
   "source": [
    "from tqdm import tqdm\n",
    "correct = 0\n",
    "for i in tqdm(range(len(a))): \n",
    "    sim = simcse_emb_sim[i]\n",
    "    sorted_data = np.argsort(sim,axis=0)\n",
    "    top_sim = sorted_data[::-1][:10]\n",
    "    if b.iloc[i]['name'] in b.iloc[top_sim].name.tolist():\n",
    "        correct +=1\n",
    "    else:\n",
    "        mistakes.append({'a_name': a.iloc[i]['name'], 'b_name': b.iloc[i]['name'], 'sim': b.iloc[top_sim].name.tolist(),'scores':sim[top_sim]})"
   ]
  },
  {
   "cell_type": "code",
   "execution_count": 127,
   "metadata": {},
   "outputs": [
    {
     "data": {
      "text/plain": [
       "array([1.0000002 , 0.73694193, 0.72461444, 0.7137827 , 0.7051592 ,\n",
       "       0.69249487, 0.69236547, 0.69117194, 0.6852501 , 0.68323505],\n",
       "      dtype=float32)"
      ]
     },
     "execution_count": 127,
     "metadata": {},
     "output_type": "execute_result"
    }
   ],
   "source": [
    "sim[top_sim]"
   ]
  },
  {
   "cell_type": "code",
   "execution_count": 124,
   "metadata": {},
   "outputs": [
    {
     "data": {
      "text/plain": [
       "(0.9966223348110619, 23605)"
      ]
     },
     "execution_count": 124,
     "metadata": {},
     "output_type": "execute_result"
    }
   ],
   "source": [
    "correct/len(a), correct"
   ]
  },
  {
   "cell_type": "code",
   "execution_count": 125,
   "metadata": {},
   "outputs": [
    {
     "data": {
      "text/html": [
       "<div>\n",
       "<style scoped>\n",
       "    .dataframe tbody tr th:only-of-type {\n",
       "        vertical-align: middle;\n",
       "    }\n",
       "\n",
       "    .dataframe tbody tr th {\n",
       "        vertical-align: top;\n",
       "    }\n",
       "\n",
       "    .dataframe thead th {\n",
       "        text-align: right;\n",
       "    }\n",
       "</style>\n",
       "<table border=\"1\" class=\"dataframe\">\n",
       "  <thead>\n",
       "    <tr style=\"text-align: right;\">\n",
       "      <th></th>\n",
       "      <th>a_name</th>\n",
       "      <th>b_name</th>\n",
       "      <th>sim</th>\n",
       "      <th>scores</th>\n",
       "    </tr>\n",
       "  </thead>\n",
       "  <tbody>\n",
       "    <tr>\n",
       "      <th>3184</th>\n",
       "      <td>HOUSTON REFINING LP</td>\n",
       "      <td>Houston Refining LP</td>\n",
       "      <td>[GREEN HOUSE CO., LTD., LANXESS Aktiengesellschaft, DENTSPLY SIRONA Inc., PGA TOUR, Inc, GLOBALFOUNDRIES Inc., SSTL, Inc., U.S. LUMBER GROUP, LLC, Agbri Fannin, L.p, LANXESS Inc., A T G, Inc]</td>\n",
       "      <td>NaN</td>\n",
       "    </tr>\n",
       "    <tr>\n",
       "      <th>1068</th>\n",
       "      <td>GUARDIAN PENSION TRUSTEES Ltd</td>\n",
       "      <td>Guardian Pension Trustees Ltd</td>\n",
       "      <td>[Peoples Ltd., Pilatus Ltd., TWD Industrial Co. Ltd., UST Co., Ltd., Trafigura Pte - Ltd]</td>\n",
       "      <td>NaN</td>\n",
       "    </tr>\n",
       "    <tr>\n",
       "      <th>12</th>\n",
       "      <td>ALUMINA ESPANOLA SA</td>\n",
       "      <td>Alúmina Española, S.A.</td>\n",
       "      <td>[Pay-Per-View, Sherpa GMBH, Golden Hills Wind, LLC, ARK Diagnostics, Inc., Deep Well Oil &amp; Gas, Inc.]</td>\n",
       "      <td>NaN</td>\n",
       "    </tr>\n",
       "    <tr>\n",
       "      <th>3468</th>\n",
       "      <td>MARLEX PHARMACEUTICALS Inc</td>\n",
       "      <td>Marlex Pharmaceuticals, Inc.</td>\n",
       "      <td>[TELCON RF PHARMACEUTICAL. Inc., THE PHARM, LLC, AJINOMOTO PHARMACEUTICALS Co., Ltd., BMR-AXIOM LP, CPaiR, Inc, JMHLS LLC, MZHCI, LLC, LANXESS Inc., H Company IP, LLC, BIOMET 3i LLC]</td>\n",
       "      <td>NaN</td>\n",
       "    </tr>\n",
       "    <tr>\n",
       "      <th>3368</th>\n",
       "      <td>Katayama Chemical Industries Co Ltd</td>\n",
       "      <td>KATAYAMA CHEMICAL INDUSTRIES Co., Ltd.</td>\n",
       "      <td>[Toyama Chemical Co., Ltd., Tata Chemicals Limited, Sumitomo Chemical Company, Limited, Mitsubishi Chemical Corporation, Nikko Chemicals Co., Ltd., Kawasaki Heavy Industries, Ltd., Toyota Industries Corporation, Shandong Morui Chemical Co., Ltd, Eiken Chemical Co., Ltd., Daiso Industries Co., Ltd.]</td>\n",
       "      <td>NaN</td>\n",
       "    </tr>\n",
       "    <tr>\n",
       "      <th>1925</th>\n",
       "      <td>MERRILL LYNCH COMMODITIES Inc</td>\n",
       "      <td>Merrill Lynch Commodities, Inc.</td>\n",
       "      <td>[Lumbermens Merchandising Corporation, Luminart Corp., Luminite Corp., Livzon Mabpharm, Inc., Ledcor Cmi Inc., MCL, Inc., Merchant Factors Corp., Lumexis Corporation, Lumify Inc., Lycera Corp.]</td>\n",
       "      <td>NaN</td>\n",
       "    </tr>\n",
       "    <tr>\n",
       "      <th>375</th>\n",
       "      <td>KapStone Receivables LLC</td>\n",
       "      <td>KapStone Receivable, LLC</td>\n",
       "      <td>[ClearPoint Neuro, Inc., Dot Foods, Inc., Dot Foods, Inc., Exxelia Dearborn, Inc., DimOnOff Inc.]</td>\n",
       "      <td>NaN</td>\n",
       "    </tr>\n",
       "    <tr>\n",
       "      <th>1935</th>\n",
       "      <td>MMIT Ltd</td>\n",
       "      <td>Mmit Limited</td>\n",
       "      <td>[MTI Ltd., UTMD Ltd, MMT, Inc., MIIT Corporation, IDMC Ltd., IM Co., Ltd., MIT Holding, Inc., MRT Inc., MTIX Limited, T&amp;M Co., Ltd.]</td>\n",
       "      <td>NaN</td>\n",
       "    </tr>\n",
       "    <tr>\n",
       "      <th>1070</th>\n",
       "      <td>GYRO LLC</td>\n",
       "      <td>Gyro Limited Liability Company</td>\n",
       "      <td>[GYD S.A., AROC Services GP LLC, Diagnostic Group LLC, Healthspan Research, LLC, Surgery Center Management, LLC]</td>\n",
       "      <td>NaN</td>\n",
       "    </tr>\n",
       "    <tr>\n",
       "      <th>1293</th>\n",
       "      <td>PANORAMA</td>\n",
       "      <td>Panorama</td>\n",
       "      <td>[IXORA, YAMANAKA Co., Ltd., JAPAN POST Co., Ltd., Mamaki of Hawaii, Inc., OD Panama SA]</td>\n",
       "      <td>NaN</td>\n",
       "    </tr>\n",
       "    <tr>\n",
       "      <th>564</th>\n",
       "      <td>Rede d'Or Sao Luiz SA</td>\n",
       "      <td>Rede D'Or São Luiz S.A.</td>\n",
       "      <td>[XXL ASA, Verimatrix Société anonyme, Biosynex SA, NBR, GU Markets, LLC]</td>\n",
       "      <td>NaN</td>\n",
       "    </tr>\n",
       "    <tr>\n",
       "      <th>3812</th>\n",
       "      <td>POWER UP LENDING GROUP Ltd</td>\n",
       "      <td>PowerUp Lending Group, Ltd.</td>\n",
       "      <td>[GREEN HOUSE CO., LTD., Eag Limited, KNRY, Ltd., UPL Limited, ERAM Ltd, AECOM Ltd., VECTOR Ltd., Ppg Limited, POSCO ENERGY Co., Ltd., YOUNGY Co.,Ltd.]</td>\n",
       "      <td>NaN</td>\n",
       "    </tr>\n",
       "    <tr>\n",
       "      <th>3756</th>\n",
       "      <td>PATHION Inc</td>\n",
       "      <td>Pathion, Inc.</td>\n",
       "      <td>[MOCON, Inc., DENTSPLY SIRONA Inc., SI-BONE, Inc., GGP Inc., IVXX, Inc, Ip Aps, HFF, Inc., MPSC, Inc., ADP, Inc., Gpp Aps]</td>\n",
       "      <td>NaN</td>\n",
       "    </tr>\n",
       "    <tr>\n",
       "      <th>2165</th>\n",
       "      <td>The Pharm LLC</td>\n",
       "      <td>THE PHARM, LLC</td>\n",
       "      <td>[R&amp;O Pharmacy, LLC, Equi-Pharm LLC, Cook Pharmica LLC, The Pharma Network, LLC, County Line Pharmaceuticals, LLC, Philidor Rx Services, LLC, AllCare Plus Pharmacy, Inc, Medical Properties, LLC, Diplomat Pharmacy, Inc., Complete Pharmacy and Medical Solutions, LLC]</td>\n",
       "      <td>NaN</td>\n",
       "    </tr>\n",
       "    <tr>\n",
       "      <th>3141</th>\n",
       "      <td>HARBORONE BANCORP Inc</td>\n",
       "      <td>HarborOne Bancorp, Inc.</td>\n",
       "      <td>[K. B. R., Inc., IBERIABANK, GLOBALFOUNDRIES Inc., ORBCOMM Inc., ARINC Incorporated, TRANSACTION CO.,Ltd., BIOSCAN A/S, CEDROM-SNi Inc., Rokk3r Inc., REGENXBIO Inc.]</td>\n",
       "      <td>NaN</td>\n",
       "    </tr>\n",
       "    <tr>\n",
       "      <th>583</th>\n",
       "      <td>SETE Brasil Participacoes SA</td>\n",
       "      <td>Sete Brasil Participações S.A.</td>\n",
       "      <td>[Beyond Meat, Inc., Marina Towers, LLC, Harrison Vickers and Waterman Inc., GI Dynamics, Inc., SpeedRoute, LLC]</td>\n",
       "      <td>NaN</td>\n",
       "    </tr>\n",
       "    <tr>\n",
       "      <th>4617</th>\n",
       "      <td>KeyBank NA</td>\n",
       "      <td>KeyBank National Association</td>\n",
       "      <td>[KeyWorth Bank, U.S. Bank, N.A., Cecil Bank, Synchrony Bank, Citibank, N.A., TD Bank, N.A., Merrick Bank, Dundee Bank, ING Bank N.V., Bankinter, S.A.]</td>\n",
       "      <td>[0.8259611, 0.7645606, 0.760507, 0.7589692, 0.7388083, 0.7323428, 0.73022836, 0.72931737, 0.7259473, 0.725727]</td>\n",
       "    </tr>\n",
       "    <tr>\n",
       "      <th>3710</th>\n",
       "      <td>ONE WORLD HOLDINGS Inc</td>\n",
       "      <td>One World Holding, Inc.</td>\n",
       "      <td>[LES LABORATOIRES SERVIER, SAS, ASDERA LLC, EMCOR Group, Inc., AIXTRON SE, DANONE, S.A., Enthone Inc., The ExOne Company, ONE S.A., S-One LP, HORIBA, Ltd.]</td>\n",
       "      <td>NaN</td>\n",
       "    </tr>\n",
       "    <tr>\n",
       "      <th>3577</th>\n",
       "      <td>Mediaco Holding Inc</td>\n",
       "      <td>MediaCo Holding Inc.</td>\n",
       "      <td>[BCI Holding Inc., MIT Holding, Inc., Provision Holding, Inc., LDR Holding Corporation, Ceridian HCM Holding Inc., Covanta Holding Corporation, HPIL Holding, JELD-WEN Holding, Inc., Morphic Holding, Inc., Premacure Holding AB]</td>\n",
       "      <td>NaN</td>\n",
       "    </tr>\n",
       "    <tr>\n",
       "      <th>1577</th>\n",
       "      <td>WYNN RESORTS Ltd</td>\n",
       "      <td>Wynn Resorts, Limited</td>\n",
       "      <td>[NN, Inc., Worksport Ltd., Wally World Media, Inc., KNRY, Ltd., RW Services Pte Ltd]</td>\n",
       "      <td>NaN</td>\n",
       "    </tr>\n",
       "    <tr>\n",
       "      <th>1397</th>\n",
       "      <td>SC SAS</td>\n",
       "      <td>Sc Sas</td>\n",
       "      <td>[Sagemcom SAS, Cibiltech SAS, SCS, GEOS SAS, DNI SAS]</td>\n",
       "      <td>NaN</td>\n",
       "    </tr>\n",
       "    <tr>\n",
       "      <th>1486</th>\n",
       "      <td>TECHSERVICES</td>\n",
       "      <td>Techservices</td>\n",
       "      <td>[Syntec As, ICARE, ICOS, Evs, EPIC]</td>\n",
       "      <td>NaN</td>\n",
       "    </tr>\n",
       "    <tr>\n",
       "      <th>1811</th>\n",
       "      <td>Focus LLC</td>\n",
       "      <td>FOCUS, LLC</td>\n",
       "      <td>[Stark Focus Group, Inc., IntelliStance, LLC, Focus Universal, Inc., Intellectsoft LLC, Insight Portfolio Group LLC, Focus Financial Partners Inc., Energy Focus, Inc., ConverGene LLC, Catalyst LLC, EVERTEC Group, LLC]</td>\n",
       "      <td>NaN</td>\n",
       "    </tr>\n",
       "    <tr>\n",
       "      <th>3243</th>\n",
       "      <td>INFUSYSTEM HOLDINGS Inc</td>\n",
       "      <td>InfuSystem Holdings, Inc.</td>\n",
       "      <td>[GLOBALFOUNDRIES U.S. Inc., GENBAND US LLC, CHUMA HOLDINGS, INC., RSM US LLP, Dentons US LLP, FOCUS, LLC, NLMK USA, KATAYAMA CHEMICAL INDUSTRIES Co., Ltd., ENGEL AUSTRIA GmbH, UOC USA, Inc.]</td>\n",
       "      <td>NaN</td>\n",
       "    </tr>\n",
       "    <tr>\n",
       "      <th>551</th>\n",
       "      <td>Quad/Graphics Inc</td>\n",
       "      <td>Quad/Graphics, Inc.</td>\n",
       "      <td>[North Bay Bioscience, LLC, Apex Data Systems, Inc., Earl Bacon Agency, Inc., Lucid Diagnostics Inc., D&amp;r Yonkers Llc]</td>\n",
       "      <td>NaN</td>\n",
       "    </tr>\n",
       "    <tr>\n",
       "      <th>67</th>\n",
       "      <td>Astone Technologies</td>\n",
       "      <td>Astone Technology</td>\n",
       "      <td>[American Equity Investment Life Holding Company, Lotus MMJ Consulting, LLC, Jacobs Facilities, Inc., OneMain Holdings, Inc., Gulf Bridge International Inc.]</td>\n",
       "      <td>NaN</td>\n",
       "    </tr>\n",
       "    <tr>\n",
       "      <th>4085</th>\n",
       "      <td>SPELLMAN HIGH-VOLTAGE ELECTRONICS Corp</td>\n",
       "      <td>Spellman High Voltage Electronics Corporation</td>\n",
       "      <td>[GLOBALFOUNDRIES Inc., GREEN HOUSE CO., LTD., TOLMAR Inc., POSCO ENERGY Co., Ltd., LES LABORATOIRES SERVIER, SAS, VOOM, LLC, CHUMA HOLDINGS, INC., LWBJ, LLP, PGA TOUR, Inc, RGIS, LLC]</td>\n",
       "      <td>NaN</td>\n",
       "    </tr>\n",
       "    <tr>\n",
       "      <th>2762</th>\n",
       "      <td>CREON AS</td>\n",
       "      <td>Creon AS</td>\n",
       "      <td>[CONDOR AS, HCL AS, AEC a.s., Ecp A.S., Bwc AS, BDO AS, ESG AS, Rci AS, Otf As, CETY AS]</td>\n",
       "      <td>NaN</td>\n",
       "    </tr>\n",
       "    <tr>\n",
       "      <th>1548</th>\n",
       "      <td>VINTAGE</td>\n",
       "      <td>Vintage</td>\n",
       "      <td>[Imax, Image In, Polyvision, MAGE, Anim'art]</td>\n",
       "      <td>NaN</td>\n",
       "    </tr>\n",
       "    <tr>\n",
       "      <th>3201</th>\n",
       "      <td>Hi-Tech Corp</td>\n",
       "      <td>Hi Tech Corp.</td>\n",
       "      <td>[Calitech Co., Ltd., Ditech Holding Corporation, Embolitech, LLC, Logitech International S.A., Semtech Corporation, Qualitech Public Company Limited, Affitech AS, Infitech Ventures Inc., Meditech, Sono-Tek Corporation]</td>\n",
       "      <td>NaN</td>\n",
       "    </tr>\n",
       "    <tr>\n",
       "      <th>2107</th>\n",
       "      <td>SOURCE FINANCIAL Inc</td>\n",
       "      <td>Source Financial, Inc.</td>\n",
       "      <td>[Financial Institutions, Inc., FVCBankcorp, Inc., Financing Corp, IFAN Financial, Inc., Fve Fm Financing, Inc., Equitable Financial Corp., C&amp;F Financial Corporation, Fastfunds Financial Corporation, Fidelity National Financial, Inc., Premier Financial Corporation]</td>\n",
       "      <td>NaN</td>\n",
       "    </tr>\n",
       "    <tr>\n",
       "      <th>414</th>\n",
       "      <td>MIDCON GATHERING LLC</td>\n",
       "      <td>MidCon Gathering, LLC</td>\n",
       "      <td>[American Midstream, LLC, Vet Online Supply, Inc., United Parcel Service, Inc., Canadian Solar Inc., Capitol Federal Financial, Inc.]</td>\n",
       "      <td>NaN</td>\n",
       "    </tr>\n",
       "    <tr>\n",
       "      <th>561</th>\n",
       "      <td>RealBio Technologies Inc</td>\n",
       "      <td>RealBio Technology, Inc.</td>\n",
       "      <td>[Nocopi Technologies, Inc., Energy Brands Inc., Asia Equity Exchange Group, Inc., Water Sciences, LLC, Aerify Media LLC]</td>\n",
       "      <td>NaN</td>\n",
       "    </tr>\n",
       "    <tr>\n",
       "      <th>3925</th>\n",
       "      <td>RIO ENERGY INTERNATIONAL Inc</td>\n",
       "      <td>Rio Energy International, Inc.</td>\n",
       "      <td>[INTEGRA, HERMINE SRL, INEOS AG, INTERMET Corporation, ENERES Co.,Ltd., eMONEco, Inc., LEONI AG, uniQure N.V., UNIVERSAL, Inc., AS ENERGY]</td>\n",
       "      <td>NaN</td>\n",
       "    </tr>\n",
       "    <tr>\n",
       "      <th>411</th>\n",
       "      <td>MCT Bhd</td>\n",
       "      <td>MCT Berhad</td>\n",
       "      <td>[Ishihara Co.,Ltd., Pluristem Ltd., Management Solutions co.,Ltd., Aeroflex Ltd., UniPharma Co., Ltd.]</td>\n",
       "      <td>NaN</td>\n",
       "    </tr>\n",
       "    <tr>\n",
       "      <th>741</th>\n",
       "      <td>ABBA SRL</td>\n",
       "      <td>Abba Srl</td>\n",
       "      <td>[SSAB AB (publ), RSB Limited, BRS, a.s., SRB S.p.A., SAS AB (publ)]</td>\n",
       "      <td>NaN</td>\n",
       "    </tr>\n",
       "    <tr>\n",
       "      <th>374</th>\n",
       "      <td>Kansas City University of Medicine and Bioscience</td>\n",
       "      <td>Kansas City University Of Medicine And Biosciences</td>\n",
       "      <td>[Avnet Technology Hong Kong Limited, Arc Logistics Partners LP, Public Utility Commission of Oregon, Sunoco Logistics Partners L.P., Development Alliance]</td>\n",
       "      <td>NaN</td>\n",
       "    </tr>\n",
       "    <tr>\n",
       "      <th>2235</th>\n",
       "      <td>ACQUISITION Corp</td>\n",
       "      <td>Acquisition Corporation</td>\n",
       "      <td>[EEI Corporation, HEICO Corporation, GEICO Corporation, iGATE Corporation, IEH Corporation, CEL-SCI Corporation, HNI Corporation, Haein Corporation, GO EZ Corporation, KIOXIA Corporation]</td>\n",
       "      <td>NaN</td>\n",
       "    </tr>\n",
       "    <tr>\n",
       "      <th>3267</th>\n",
       "      <td>IOG CRV - MARCELLUS LLC</td>\n",
       "      <td>Iog Crv-Marcellus, Llc</td>\n",
       "      <td>[FOCUS, LLC, FCA US LLC, GENBAND US LLC, RSM US LLP, GLOBALFOUNDRIES U.S. Inc., BDO USA, LLP, CCTMO LLC, AEC-NM, LLC, CAR'GO, CCM LLC]</td>\n",
       "      <td>NaN</td>\n",
       "    </tr>\n",
       "    <tr>\n",
       "      <th>3861</th>\n",
       "      <td>PharmaCore Inc</td>\n",
       "      <td>Pharmacor Inc.</td>\n",
       "      <td>[ARCA biopharma, Inc., KBI Biopharma Inc., Theravance Biopharma, Inc., GT Biopharma, Inc., Vor Biopharma Inc., Tetra Bio-Pharma Inc., Promiliad Biopharma Inc., Pharmascience Inc., Propanc Biopharma, Inc., Principia Biopharma Inc.]</td>\n",
       "      <td>NaN</td>\n",
       "    </tr>\n",
       "    <tr>\n",
       "      <th>2373</th>\n",
       "      <td>ASIAN PAINTS Ltd</td>\n",
       "      <td>Asian Paints Limited</td>\n",
       "      <td>[NOWTRANSIT INC, TAAD, LLP, SANEI-INTERNATIONAL CO.,LTD., CRISIL Limited, KNRY, Ltd., GREEN HOUSE CO., LTD., C P E C Limited, SANKO Co., Ltd., P P A Limited, P J M Limited]</td>\n",
       "      <td>NaN</td>\n",
       "    </tr>\n",
       "    <tr>\n",
       "      <th>1303</th>\n",
       "      <td>PENGUIN WEALTH PLANNERS Ltd</td>\n",
       "      <td>Penguin Wealth Planners Limited</td>\n",
       "      <td>[Financial Products Group Co., Ltd., Shanghai Fosun Pharmaceutical (Group) Co., Ltd., China NT Pharma Group Company Limited, Shanghai Fosun Pharmaceutical Industrial Development Company Limited, Luye Pharma Group Ltd.]</td>\n",
       "      <td>NaN</td>\n",
       "    </tr>\n",
       "    <tr>\n",
       "      <th>46</th>\n",
       "      <td>America Movil BV</td>\n",
       "      <td>América Móvil B.V.</td>\n",
       "      <td>[MLP SE, Bec A/s, FIS, Valneva Sweden AB, Canopy Growth Corporation]</td>\n",
       "      <td>NaN</td>\n",
       "    </tr>\n",
       "    <tr>\n",
       "      <th>2688</th>\n",
       "      <td>CITY FOOTBALL GROUP Ltd</td>\n",
       "      <td>City Football Group Limited</td>\n",
       "      <td>[City Place, L.l.c, The City, NMG Cathedral City, LLC, Jam City, Inc., HCP  LS Redwood City, LLC, City Network, Inc., SolarCity Corporation, Gain Cities Limited, City Technology Ltd., City Holding Company]</td>\n",
       "      <td>NaN</td>\n",
       "    </tr>\n",
       "    <tr>\n",
       "      <th>1007</th>\n",
       "      <td>EVERCORE GROUP LLC</td>\n",
       "      <td>Evercore Group L.L.C.</td>\n",
       "      <td>[EVERTEC Group, LLC, ConverGene LLC, eGain Corporation, The Group, Inc., Beaver Group, LLC]</td>\n",
       "      <td>NaN</td>\n",
       "    </tr>\n",
       "    <tr>\n",
       "      <th>4339</th>\n",
       "      <td>UNIVERSITY OF SOUTHAMPTON</td>\n",
       "      <td>University of Southampton</td>\n",
       "      <td>[IONTAS Limited, SIG INVEST AB, EMERSON A.S., MEDCON LIMITED, MOCON, Inc., IMERYS MINERALS LIMITED, NOWTRANSIT INC, INVISTA S.à r.l., DENTSPLY SIRONA Inc., GREEN HOUSE CO., LTD.]</td>\n",
       "      <td>NaN</td>\n",
       "    </tr>\n",
       "    <tr>\n",
       "      <th>1244</th>\n",
       "      <td>NETFIN ACQUISITION Corp</td>\n",
       "      <td>Netfin Acquisition Corp.</td>\n",
       "      <td>[Natur International Corp., IntriCon Corporation, NFC Corp., I-Net Corp., Financing Corp]</td>\n",
       "      <td>NaN</td>\n",
       "    </tr>\n",
       "    <tr>\n",
       "      <th>2925</th>\n",
       "      <td>ENTSORGAFIN SpA</td>\n",
       "      <td>Entsorgafin SPA</td>\n",
       "      <td>[IPR S.p.A, Idc S.P.A., ASM SpA, ASTM S.p.A., T.M.A. Spa, Epta S.p.A., SOCRATE S.p.A., OTB S.p.A., EL.En. S.p.A., Fta S.p.A.]</td>\n",
       "      <td>NaN</td>\n",
       "    </tr>\n",
       "    <tr>\n",
       "      <th>1190</th>\n",
       "      <td>MCP SRL</td>\n",
       "      <td>M.C.P. Srl</td>\n",
       "      <td>[MDS SRL, P.D.R. SRL, SRC, RCS S.R.L., CCR S.A.]</td>\n",
       "      <td>NaN</td>\n",
       "    </tr>\n",
       "    <tr>\n",
       "      <th>3929</th>\n",
       "      <td>RIVIERA DISTRIBUTION</td>\n",
       "      <td>Riviera Distribution</td>\n",
       "      <td>[REGENXBIO Inc., SMARTRAC N.V., T R I A, NOWTRANSIT INC, CEDROM-SNi Inc., TRANSACTION CO.,Ltd., RTI Inc., ISI BRANDS INC, ARINC Incorporated, KTNR, Inc.]</td>\n",
       "      <td>NaN</td>\n",
       "    </tr>\n",
       "  </tbody>\n",
       "</table>\n",
       "</div>"
      ],
      "text/plain": [
       "                                                 a_name  \\\n",
       "3184                                HOUSTON REFINING LP   \n",
       "1068                      GUARDIAN PENSION TRUSTEES Ltd   \n",
       "12                                  ALUMINA ESPANOLA SA   \n",
       "3468                         MARLEX PHARMACEUTICALS Inc   \n",
       "3368                Katayama Chemical Industries Co Ltd   \n",
       "1925                      MERRILL LYNCH COMMODITIES Inc   \n",
       "375                            KapStone Receivables LLC   \n",
       "1935                                           MMIT Ltd   \n",
       "1070                                           GYRO LLC   \n",
       "1293                                           PANORAMA   \n",
       "564                               Rede d'Or Sao Luiz SA   \n",
       "3812                         POWER UP LENDING GROUP Ltd   \n",
       "3756                                        PATHION Inc   \n",
       "2165                                      The Pharm LLC   \n",
       "3141                              HARBORONE BANCORP Inc   \n",
       "583                        SETE Brasil Participacoes SA   \n",
       "4617                                         KeyBank NA   \n",
       "3710                             ONE WORLD HOLDINGS Inc   \n",
       "3577                                Mediaco Holding Inc   \n",
       "1577                                   WYNN RESORTS Ltd   \n",
       "1397                                             SC SAS   \n",
       "1486                                       TECHSERVICES   \n",
       "1811                                          Focus LLC   \n",
       "3243                            INFUSYSTEM HOLDINGS Inc   \n",
       "551                                   Quad/Graphics Inc   \n",
       "67                                  Astone Technologies   \n",
       "4085             SPELLMAN HIGH-VOLTAGE ELECTRONICS Corp   \n",
       "2762                                           CREON AS   \n",
       "1548                                            VINTAGE   \n",
       "3201                                       Hi-Tech Corp   \n",
       "2107                               SOURCE FINANCIAL Inc   \n",
       "414                                MIDCON GATHERING LLC   \n",
       "561                            RealBio Technologies Inc   \n",
       "3925                       RIO ENERGY INTERNATIONAL Inc   \n",
       "411                                             MCT Bhd   \n",
       "741                                            ABBA SRL   \n",
       "374   Kansas City University of Medicine and Bioscience   \n",
       "2235                                   ACQUISITION Corp   \n",
       "3267                            IOG CRV - MARCELLUS LLC   \n",
       "3861                                     PharmaCore Inc   \n",
       "2373                                   ASIAN PAINTS Ltd   \n",
       "1303                        PENGUIN WEALTH PLANNERS Ltd   \n",
       "46                                     America Movil BV   \n",
       "2688                            CITY FOOTBALL GROUP Ltd   \n",
       "1007                                 EVERCORE GROUP LLC   \n",
       "4339                          UNIVERSITY OF SOUTHAMPTON   \n",
       "1244                            NETFIN ACQUISITION Corp   \n",
       "2925                                    ENTSORGAFIN SpA   \n",
       "1190                                            MCP SRL   \n",
       "3929                               RIVIERA DISTRIBUTION   \n",
       "\n",
       "                                                  b_name  \\\n",
       "3184                                 Houston Refining LP   \n",
       "1068                       Guardian Pension Trustees Ltd   \n",
       "12                                Alúmina Española, S.A.   \n",
       "3468                        Marlex Pharmaceuticals, Inc.   \n",
       "3368              KATAYAMA CHEMICAL INDUSTRIES Co., Ltd.   \n",
       "1925                     Merrill Lynch Commodities, Inc.   \n",
       "375                             KapStone Receivable, LLC   \n",
       "1935                                        Mmit Limited   \n",
       "1070                      Gyro Limited Liability Company   \n",
       "1293                                            Panorama   \n",
       "564                              Rede D'Or São Luiz S.A.   \n",
       "3812                         PowerUp Lending Group, Ltd.   \n",
       "3756                                       Pathion, Inc.   \n",
       "2165                                      THE PHARM, LLC   \n",
       "3141                             HarborOne Bancorp, Inc.   \n",
       "583                       Sete Brasil Participações S.A.   \n",
       "4617                        KeyBank National Association   \n",
       "3710                             One World Holding, Inc.   \n",
       "3577                                MediaCo Holding Inc.   \n",
       "1577                               Wynn Resorts, Limited   \n",
       "1397                                              Sc Sas   \n",
       "1486                                        Techservices   \n",
       "1811                                          FOCUS, LLC   \n",
       "3243                           InfuSystem Holdings, Inc.   \n",
       "551                                  Quad/Graphics, Inc.   \n",
       "67                                     Astone Technology   \n",
       "4085       Spellman High Voltage Electronics Corporation   \n",
       "2762                                            Creon AS   \n",
       "1548                                             Vintage   \n",
       "3201                                       Hi Tech Corp.   \n",
       "2107                              Source Financial, Inc.   \n",
       "414                                MidCon Gathering, LLC   \n",
       "561                             RealBio Technology, Inc.   \n",
       "3925                      Rio Energy International, Inc.   \n",
       "411                                           MCT Berhad   \n",
       "741                                             Abba Srl   \n",
       "374   Kansas City University Of Medicine And Biosciences   \n",
       "2235                             Acquisition Corporation   \n",
       "3267                              Iog Crv-Marcellus, Llc   \n",
       "3861                                      Pharmacor Inc.   \n",
       "2373                                Asian Paints Limited   \n",
       "1303                     Penguin Wealth Planners Limited   \n",
       "46                                    América Móvil B.V.   \n",
       "2688                         City Football Group Limited   \n",
       "1007                               Evercore Group L.L.C.   \n",
       "4339                           University of Southampton   \n",
       "1244                            Netfin Acquisition Corp.   \n",
       "2925                                     Entsorgafin SPA   \n",
       "1190                                          M.C.P. Srl   \n",
       "3929                                Riviera Distribution   \n",
       "\n",
       "                                                                                                                                                                                                                                                                                                              sim  \\\n",
       "3184                                                                                                              [GREEN HOUSE CO., LTD., LANXESS Aktiengesellschaft, DENTSPLY SIRONA Inc., PGA TOUR, Inc, GLOBALFOUNDRIES Inc., SSTL, Inc., U.S. LUMBER GROUP, LLC, Agbri Fannin, L.p, LANXESS Inc., A T G, Inc]   \n",
       "1068                                                                                                                                                                                                                    [Peoples Ltd., Pilatus Ltd., TWD Industrial Co. Ltd., UST Co., Ltd., Trafigura Pte - Ltd]   \n",
       "12                                                                                                                                                                                                          [Pay-Per-View, Sherpa GMBH, Golden Hills Wind, LLC, ARK Diagnostics, Inc., Deep Well Oil & Gas, Inc.]   \n",
       "3468                                                                                                                       [TELCON RF PHARMACEUTICAL. Inc., THE PHARM, LLC, AJINOMOTO PHARMACEUTICALS Co., Ltd., BMR-AXIOM LP, CPaiR, Inc, JMHLS LLC, MZHCI, LLC, LANXESS Inc., H Company IP, LLC, BIOMET 3i LLC]   \n",
       "3368  [Toyama Chemical Co., Ltd., Tata Chemicals Limited, Sumitomo Chemical Company, Limited, Mitsubishi Chemical Corporation, Nikko Chemicals Co., Ltd., Kawasaki Heavy Industries, Ltd., Toyota Industries Corporation, Shandong Morui Chemical Co., Ltd, Eiken Chemical Co., Ltd., Daiso Industries Co., Ltd.]   \n",
       "1925                                                                                                            [Lumbermens Merchandising Corporation, Luminart Corp., Luminite Corp., Livzon Mabpharm, Inc., Ledcor Cmi Inc., MCL, Inc., Merchant Factors Corp., Lumexis Corporation, Lumify Inc., Lycera Corp.]   \n",
       "375                                                                                                                                                                                                             [ClearPoint Neuro, Inc., Dot Foods, Inc., Dot Foods, Inc., Exxelia Dearborn, Inc., DimOnOff Inc.]   \n",
       "1935                                                                                                                                                                         [MTI Ltd., UTMD Ltd, MMT, Inc., MIIT Corporation, IDMC Ltd., IM Co., Ltd., MIT Holding, Inc., MRT Inc., MTIX Limited, T&M Co., Ltd.]   \n",
       "1070                                                                                                                                                                                             [GYD S.A., AROC Services GP LLC, Diagnostic Group LLC, Healthspan Research, LLC, Surgery Center Management, LLC]   \n",
       "1293                                                                                                                                                                                                                      [IXORA, YAMANAKA Co., Ltd., JAPAN POST Co., Ltd., Mamaki of Hawaii, Inc., OD Panama SA]   \n",
       "564                                                                                                                                                                                                                                      [XXL ASA, Verimatrix Société anonyme, Biosynex SA, NBR, GU Markets, LLC]   \n",
       "3812                                                                                                                                                       [GREEN HOUSE CO., LTD., Eag Limited, KNRY, Ltd., UPL Limited, ERAM Ltd, AECOM Ltd., VECTOR Ltd., Ppg Limited, POSCO ENERGY Co., Ltd., YOUNGY Co.,Ltd.]   \n",
       "3756                                                                                                                                                                                   [MOCON, Inc., DENTSPLY SIRONA Inc., SI-BONE, Inc., GGP Inc., IVXX, Inc, Ip Aps, HFF, Inc., MPSC, Inc., ADP, Inc., Gpp Aps]   \n",
       "2165                                     [R&O Pharmacy, LLC, Equi-Pharm LLC, Cook Pharmica LLC, The Pharma Network, LLC, County Line Pharmaceuticals, LLC, Philidor Rx Services, LLC, AllCare Plus Pharmacy, Inc, Medical Properties, LLC, Diplomat Pharmacy, Inc., Complete Pharmacy and Medical Solutions, LLC]   \n",
       "3141                                                                                                                                        [K. B. R., Inc., IBERIABANK, GLOBALFOUNDRIES Inc., ORBCOMM Inc., ARINC Incorporated, TRANSACTION CO.,Ltd., BIOSCAN A/S, CEDROM-SNi Inc., Rokk3r Inc., REGENXBIO Inc.]   \n",
       "583                                                                                                                                                                                               [Beyond Meat, Inc., Marina Towers, LLC, Harrison Vickers and Waterman Inc., GI Dynamics, Inc., SpeedRoute, LLC]   \n",
       "4617                                                                                                                                                       [KeyWorth Bank, U.S. Bank, N.A., Cecil Bank, Synchrony Bank, Citibank, N.A., TD Bank, N.A., Merrick Bank, Dundee Bank, ING Bank N.V., Bankinter, S.A.]   \n",
       "3710                                                                                                                                                  [LES LABORATOIRES SERVIER, SAS, ASDERA LLC, EMCOR Group, Inc., AIXTRON SE, DANONE, S.A., Enthone Inc., The ExOne Company, ONE S.A., S-One LP, HORIBA, Ltd.]   \n",
       "3577                                                                           [BCI Holding Inc., MIT Holding, Inc., Provision Holding, Inc., LDR Holding Corporation, Ceridian HCM Holding Inc., Covanta Holding Corporation, HPIL Holding, JELD-WEN Holding, Inc., Morphic Holding, Inc., Premacure Holding AB]   \n",
       "1577                                                                                                                                                                                                                         [NN, Inc., Worksport Ltd., Wally World Media, Inc., KNRY, Ltd., RW Services Pte Ltd]   \n",
       "1397                                                                                                                                                                                                                                                        [Sagemcom SAS, Cibiltech SAS, SCS, GEOS SAS, DNI SAS]   \n",
       "1486                                                                                                                                                                                                                                                                          [Syntec As, ICARE, ICOS, Evs, EPIC]   \n",
       "1811                                                                                    [Stark Focus Group, Inc., IntelliStance, LLC, Focus Universal, Inc., Intellectsoft LLC, Insight Portfolio Group LLC, Focus Financial Partners Inc., Energy Focus, Inc., ConverGene LLC, Catalyst LLC, EVERTEC Group, LLC]   \n",
       "3243                                                                                                               [GLOBALFOUNDRIES U.S. Inc., GENBAND US LLC, CHUMA HOLDINGS, INC., RSM US LLP, Dentons US LLP, FOCUS, LLC, NLMK USA, KATAYAMA CHEMICAL INDUSTRIES Co., Ltd., ENGEL AUSTRIA GmbH, UOC USA, Inc.]   \n",
       "551                                                                                                                                                                                        [North Bay Bioscience, LLC, Apex Data Systems, Inc., Earl Bacon Agency, Inc., Lucid Diagnostics Inc., D&r Yonkers Llc]   \n",
       "67                                                                                                                                                  [American Equity Investment Life Holding Company, Lotus MMJ Consulting, LLC, Jacobs Facilities, Inc., OneMain Holdings, Inc., Gulf Bridge International Inc.]   \n",
       "4085                                                                                                                      [GLOBALFOUNDRIES Inc., GREEN HOUSE CO., LTD., TOLMAR Inc., POSCO ENERGY Co., Ltd., LES LABORATOIRES SERVIER, SAS, VOOM, LLC, CHUMA HOLDINGS, INC., LWBJ, LLP, PGA TOUR, Inc, RGIS, LLC]   \n",
       "2762                                                                                                                                                                                                                     [CONDOR AS, HCL AS, AEC a.s., Ecp A.S., Bwc AS, BDO AS, ESG AS, Rci AS, Otf As, CETY AS]   \n",
       "1548                                                                                                                                                                                                                                                                 [Imax, Image In, Polyvision, MAGE, Anim'art]   \n",
       "3201                                                                                   [Calitech Co., Ltd., Ditech Holding Corporation, Embolitech, LLC, Logitech International S.A., Semtech Corporation, Qualitech Public Company Limited, Affitech AS, Infitech Ventures Inc., Meditech, Sono-Tek Corporation]   \n",
       "2107                                     [Financial Institutions, Inc., FVCBankcorp, Inc., Financing Corp, IFAN Financial, Inc., Fve Fm Financing, Inc., Equitable Financial Corp., C&F Financial Corporation, Fastfunds Financial Corporation, Fidelity National Financial, Inc., Premier Financial Corporation]   \n",
       "414                                                                                                                                                                         [American Midstream, LLC, Vet Online Supply, Inc., United Parcel Service, Inc., Canadian Solar Inc., Capitol Federal Financial, Inc.]   \n",
       "561                                                                                                                                                                                      [Nocopi Technologies, Inc., Energy Brands Inc., Asia Equity Exchange Group, Inc., Water Sciences, LLC, Aerify Media LLC]   \n",
       "3925                                                                                                                                                                   [INTEGRA, HERMINE SRL, INEOS AG, INTERMET Corporation, ENERES Co.,Ltd., eMONEco, Inc., LEONI AG, uniQure N.V., UNIVERSAL, Inc., AS ENERGY]   \n",
       "411                                                                                                                                                                                                        [Ishihara Co.,Ltd., Pluristem Ltd., Management Solutions co.,Ltd., Aeroflex Ltd., UniPharma Co., Ltd.]   \n",
       "741                                                                                                                                                                                                                                           [SSAB AB (publ), RSB Limited, BRS, a.s., SRB S.p.A., SAS AB (publ)]   \n",
       "374                                                                                                                                                    [Avnet Technology Hong Kong Limited, Arc Logistics Partners LP, Public Utility Commission of Oregon, Sunoco Logistics Partners L.P., Development Alliance]   \n",
       "2235                                                                                                                  [EEI Corporation, HEICO Corporation, GEICO Corporation, iGATE Corporation, IEH Corporation, CEL-SCI Corporation, HNI Corporation, Haein Corporation, GO EZ Corporation, KIOXIA Corporation]   \n",
       "3267                                                                                                                                                                       [FOCUS, LLC, FCA US LLC, GENBAND US LLC, RSM US LLP, GLOBALFOUNDRIES U.S. Inc., BDO USA, LLP, CCTMO LLC, AEC-NM, LLC, CAR'GO, CCM LLC]   \n",
       "3861                                                                       [ARCA biopharma, Inc., KBI Biopharma Inc., Theravance Biopharma, Inc., GT Biopharma, Inc., Vor Biopharma Inc., Tetra Bio-Pharma Inc., Promiliad Biopharma Inc., Pharmascience Inc., Propanc Biopharma, Inc., Principia Biopharma Inc.]   \n",
       "2373                                                                                                                                 [NOWTRANSIT INC, TAAD, LLP, SANEI-INTERNATIONAL CO.,LTD., CRISIL Limited, KNRY, Ltd., GREEN HOUSE CO., LTD., C P E C Limited, SANKO Co., Ltd., P P A Limited, P J M Limited]   \n",
       "1303                                                                                   [Financial Products Group Co., Ltd., Shanghai Fosun Pharmaceutical (Group) Co., Ltd., China NT Pharma Group Company Limited, Shanghai Fosun Pharmaceutical Industrial Development Company Limited, Luye Pharma Group Ltd.]   \n",
       "46                                                                                                                                                                                                                                           [MLP SE, Bec A/s, FIS, Valneva Sweden AB, Canopy Growth Corporation]   \n",
       "2688                                                                                                [City Place, L.l.c, The City, NMG Cathedral City, LLC, Jam City, Inc., HCP  LS Redwood City, LLC, City Network, Inc., SolarCity Corporation, Gain Cities Limited, City Technology Ltd., City Holding Company]   \n",
       "1007                                                                                                                                                                                                                  [EVERTEC Group, LLC, ConverGene LLC, eGain Corporation, The Group, Inc., Beaver Group, LLC]   \n",
       "4339                                                                                                                           [IONTAS Limited, SIG INVEST AB, EMERSON A.S., MEDCON LIMITED, MOCON, Inc., IMERYS MINERALS LIMITED, NOWTRANSIT INC, INVISTA S.à r.l., DENTSPLY SIRONA Inc., GREEN HOUSE CO., LTD.]   \n",
       "1244                                                                                                                                                                                                                    [Natur International Corp., IntriCon Corporation, NFC Corp., I-Net Corp., Financing Corp]   \n",
       "2925                                                                                                                                                                                [IPR S.p.A, Idc S.P.A., ASM SpA, ASTM S.p.A., T.M.A. Spa, Epta S.p.A., SOCRATE S.p.A., OTB S.p.A., EL.En. S.p.A., Fta S.p.A.]   \n",
       "1190                                                                                                                                                                                                                                                             [MDS SRL, P.D.R. SRL, SRC, RCS S.R.L., CCR S.A.]   \n",
       "3929                                                                                                                                                    [REGENXBIO Inc., SMARTRAC N.V., T R I A, NOWTRANSIT INC, CEDROM-SNi Inc., TRANSACTION CO.,Ltd., RTI Inc., ISI BRANDS INC, ARINC Incorporated, KTNR, Inc.]   \n",
       "\n",
       "                                                                                                              scores  \n",
       "3184                                                                                                             NaN  \n",
       "1068                                                                                                             NaN  \n",
       "12                                                                                                               NaN  \n",
       "3468                                                                                                             NaN  \n",
       "3368                                                                                                             NaN  \n",
       "1925                                                                                                             NaN  \n",
       "375                                                                                                              NaN  \n",
       "1935                                                                                                             NaN  \n",
       "1070                                                                                                             NaN  \n",
       "1293                                                                                                             NaN  \n",
       "564                                                                                                              NaN  \n",
       "3812                                                                                                             NaN  \n",
       "3756                                                                                                             NaN  \n",
       "2165                                                                                                             NaN  \n",
       "3141                                                                                                             NaN  \n",
       "583                                                                                                              NaN  \n",
       "4617  [0.8259611, 0.7645606, 0.760507, 0.7589692, 0.7388083, 0.7323428, 0.73022836, 0.72931737, 0.7259473, 0.725727]  \n",
       "3710                                                                                                             NaN  \n",
       "3577                                                                                                             NaN  \n",
       "1577                                                                                                             NaN  \n",
       "1397                                                                                                             NaN  \n",
       "1486                                                                                                             NaN  \n",
       "1811                                                                                                             NaN  \n",
       "3243                                                                                                             NaN  \n",
       "551                                                                                                              NaN  \n",
       "67                                                                                                               NaN  \n",
       "4085                                                                                                             NaN  \n",
       "2762                                                                                                             NaN  \n",
       "1548                                                                                                             NaN  \n",
       "3201                                                                                                             NaN  \n",
       "2107                                                                                                             NaN  \n",
       "414                                                                                                              NaN  \n",
       "561                                                                                                              NaN  \n",
       "3925                                                                                                             NaN  \n",
       "411                                                                                                              NaN  \n",
       "741                                                                                                              NaN  \n",
       "374                                                                                                              NaN  \n",
       "2235                                                                                                             NaN  \n",
       "3267                                                                                                             NaN  \n",
       "3861                                                                                                             NaN  \n",
       "2373                                                                                                             NaN  \n",
       "1303                                                                                                             NaN  \n",
       "46                                                                                                               NaN  \n",
       "2688                                                                                                             NaN  \n",
       "1007                                                                                                             NaN  \n",
       "4339                                                                                                             NaN  \n",
       "1244                                                                                                             NaN  \n",
       "2925                                                                                                             NaN  \n",
       "1190                                                                                                             NaN  \n",
       "3929                                                                                                             NaN  "
      ]
     },
     "execution_count": 125,
     "metadata": {},
     "output_type": "execute_result"
    }
   ],
   "source": [
    "pd.set_option('display.max_rows',50)\n",
    "pd.set_option('display.max_colwidth',None)\n",
    "\n",
    "pd.DataFrame(mistakes).sample(50)"
   ]
  },
  {
   "cell_type": "code",
   "execution_count": 29,
   "metadata": {},
   "outputs": [],
   "source": [
    "\n",
    "i = 0\n",
    "sim = s[i]\n",
    "sorted_data = np.argsort(sim,axis=0)\n",
    "top_sim = sorted_data[::-1][1:30]"
   ]
  },
  {
   "cell_type": "code",
   "execution_count": 25,
   "metadata": {},
   "outputs": [
    {
     "data": {
      "text/plain": [
       "1476"
      ]
     },
     "execution_count": 25,
     "metadata": {},
     "output_type": "execute_result"
    }
   ],
   "source": [
    "correct"
   ]
  },
  {
   "cell_type": "code",
   "execution_count": 135,
   "metadata": {},
   "outputs": [
    {
     "name": "stdout",
     "output_type": "stream",
     "text": [
      "huggingface/tokenizers: The current process just got forked, after parallelism has already been used. Disabling parallelism to avoid deadlocks...\n",
      "To disable this warning, you can either:\n",
      "\t- Avoid using `tokenizers` before the fork if possible\n",
      "\t- Explicitly set the environment variable TOKENIZERS_PARALLELISM=(true | false)\n",
      "Collecting faiss-gpu\n",
      "  Downloading faiss_gpu-1.7.2-cp39-cp39-manylinux_2_17_x86_64.manylinux2014_x86_64.whl (85.5 MB)\n",
      "\u001b[2K     \u001b[90m━━━━━━━━━━━━━━━━━━━━━━━━━━━━━━━━━━━━━━━━\u001b[0m \u001b[32m85.5/85.5 MB\u001b[0m \u001b[31m22.4 MB/s\u001b[0m eta \u001b[36m0:00:00\u001b[0m00:01\u001b[0m00:01\u001b[0m\n",
      "\u001b[?25hInstalling collected packages: faiss-gpu\n",
      "Successfully installed faiss-gpu-1.7.2\n",
      "\u001b[33mWARNING: Running pip as the 'root' user can result in broken permissions and conflicting behaviour with the system package manager. It is recommended to use a virtual environment instead: https://pip.pypa.io/warnings/venv\u001b[0m\u001b[33m\n",
      "\u001b[0m"
     ]
    }
   ],
   "source": [
    "!pip install faiss-gpu"
   ]
  },
  {
   "cell_type": "code",
   "execution_count": 136,
   "metadata": {},
   "outputs": [
    {
     "name": "stderr",
     "output_type": "stream",
     "text": [
      "12/10/2022 21:38:12 - INFO - faiss.loader -   Loading faiss with AVX2 support.\n",
      "12/10/2022 21:38:12 - INFO - faiss.loader -   Could not load library with AVX2 support due to:\n",
      "ModuleNotFoundError(\"No module named 'faiss.swigfaiss_avx2'\")\n",
      "12/10/2022 21:38:12 - INFO - faiss.loader -   Loading faiss.\n",
      "12/10/2022 21:38:12 - INFO - faiss.loader -   Successfully loaded faiss.\n",
      "12/10/2022 21:38:12 - INFO - simcse.core -   Encoding embeddings for sentences...\n",
      "100%|██████████| 371/371 [00:09<00:00, 37.58it/s]\n",
      "12/10/2022 21:38:22 - INFO - simcse.core -   Building index...\n",
      "12/10/2022 21:38:22 - INFO - simcse.core -   Use GPU-version faiss\n"
     ]
    },
    {
     "ename": "RuntimeError",
     "evalue": "Error in virtual void faiss::gpu::StandardGpuResourcesImpl::initializeForDevice(int) at /project/faiss/faiss/gpu/StandardGpuResources.cpp:283: Error: 'err == cudaSuccess' failed: failed to cudaHostAlloc 268435456 bytes for CPU <-> GPU async copy buffer (error 2 out of memory)",
     "output_type": "error",
     "traceback": [
      "\u001b[0;31m---------------------------------------------------------------------------\u001b[0m",
      "\u001b[0;31mRuntimeError\u001b[0m                              Traceback (most recent call last)",
      "Input \u001b[0;32mIn [136]\u001b[0m, in \u001b[0;36m<cell line: 1>\u001b[0;34m()\u001b[0m\n\u001b[0;32m----> 1\u001b[0m \u001b[43msimcse_model\u001b[49m\u001b[38;5;241;43m.\u001b[39;49m\u001b[43mbuild_index\u001b[49m\u001b[43m(\u001b[49m\u001b[43ma\u001b[49m\u001b[38;5;241;43m.\u001b[39;49m\u001b[43mname\u001b[49m\u001b[38;5;241;43m.\u001b[39;49m\u001b[43mtolist\u001b[49m\u001b[43m(\u001b[49m\u001b[43m)\u001b[49m\u001b[43m)\u001b[49m\n",
      "File \u001b[0;32m/notebooks/entity_linking/simcse/core.py:163\u001b[0m, in \u001b[0;36mSimCSE.build_index\u001b[0;34m(self, sentences_or_file_path, use_faiss, faiss_fast, device, batch_size)\u001b[0m\n\u001b[1;32m    161\u001b[0m     res \u001b[38;5;241m=\u001b[39m faiss\u001b[38;5;241m.\u001b[39mStandardGpuResources()\n\u001b[1;32m    162\u001b[0m     res\u001b[38;5;241m.\u001b[39msetTempMemory(\u001b[38;5;241m20\u001b[39m \u001b[38;5;241m*\u001b[39m \u001b[38;5;241m1024\u001b[39m \u001b[38;5;241m*\u001b[39m \u001b[38;5;241m1024\u001b[39m \u001b[38;5;241m*\u001b[39m \u001b[38;5;241m1024\u001b[39m)\n\u001b[0;32m--> 163\u001b[0m     index \u001b[38;5;241m=\u001b[39m \u001b[43mfaiss\u001b[49m\u001b[38;5;241;43m.\u001b[39;49m\u001b[43mindex_cpu_to_gpu\u001b[49m\u001b[43m(\u001b[49m\u001b[43mres\u001b[49m\u001b[43m,\u001b[49m\u001b[43m \u001b[49m\u001b[38;5;241;43m0\u001b[39;49m\u001b[43m,\u001b[49m\u001b[43m \u001b[49m\u001b[43mindex\u001b[49m\u001b[43m)\u001b[49m\n\u001b[1;32m    164\u001b[0m \u001b[38;5;28;01melse\u001b[39;00m:\n\u001b[1;32m    165\u001b[0m     logger\u001b[38;5;241m.\u001b[39minfo(\u001b[38;5;124m\"\u001b[39m\u001b[38;5;124mUse CPU-version faiss\u001b[39m\u001b[38;5;124m\"\u001b[39m)\n",
      "File \u001b[0;32m/usr/local/lib/python3.9/dist-packages/faiss/swigfaiss.py:10275\u001b[0m, in \u001b[0;36mindex_cpu_to_gpu\u001b[0;34m(provider, device, index, options)\u001b[0m\n\u001b[1;32m  10273\u001b[0m \u001b[38;5;28;01mdef\u001b[39;00m \u001b[38;5;21mindex_cpu_to_gpu\u001b[39m(provider, device, index, options\u001b[38;5;241m=\u001b[39m\u001b[38;5;28;01mNone\u001b[39;00m):\n\u001b[1;32m  10274\u001b[0m     \u001b[38;5;124mr\u001b[39m\u001b[38;5;124;03m\"\"\" converts any CPU index that can be converted to GPU\"\"\"\u001b[39;00m\n\u001b[0;32m> 10275\u001b[0m     \u001b[38;5;28;01mreturn\u001b[39;00m \u001b[43m_swigfaiss\u001b[49m\u001b[38;5;241;43m.\u001b[39;49m\u001b[43mindex_cpu_to_gpu\u001b[49m\u001b[43m(\u001b[49m\u001b[43mprovider\u001b[49m\u001b[43m,\u001b[49m\u001b[43m \u001b[49m\u001b[43mdevice\u001b[49m\u001b[43m,\u001b[49m\u001b[43m \u001b[49m\u001b[43mindex\u001b[49m\u001b[43m,\u001b[49m\u001b[43m \u001b[49m\u001b[43moptions\u001b[49m\u001b[43m)\u001b[49m\n",
      "\u001b[0;31mRuntimeError\u001b[0m: Error in virtual void faiss::gpu::StandardGpuResourcesImpl::initializeForDevice(int) at /project/faiss/faiss/gpu/StandardGpuResources.cpp:283: Error: 'err == cudaSuccess' failed: failed to cudaHostAlloc 268435456 bytes for CPU <-> GPU async copy buffer (error 2 out of memory)"
     ]
    }
   ],
   "source": [
    "simcse_model.build_index(a.name.tolist())"
   ]
  },
  {
   "cell_type": "code",
   "execution_count": null,
   "metadata": {},
   "outputs": [],
   "source": [
    "from random import randint\n",
    "\n",
    "i = randint(0, len(a))\n",
    "b.iloc[i]['name'], a.iloc[i]['name']"
   ]
  },
  {
   "cell_type": "code",
   "execution_count": null,
   "metadata": {},
   "outputs": [],
   "source": [
    "results = simcse_model.search(queries=list(b.name))"
   ]
  },
  {
   "cell_type": "code",
   "execution_count": null,
   "metadata": {},
   "outputs": [],
   "source": [
    "len(results)"
   ]
  },
  {
   "cell_type": "code",
   "execution_count": 131,
   "metadata": {},
   "outputs": [
    {
     "ename": "NameError",
     "evalue": "name 'results' is not defined",
     "output_type": "error",
     "traceback": [
      "\u001b[0;31m---------------------------------------------------------------------------\u001b[0m",
      "\u001b[0;31mNameError\u001b[0m                                 Traceback (most recent call last)",
      "Input \u001b[0;32mIn [131]\u001b[0m, in \u001b[0;36m<cell line: 1>\u001b[0;34m()\u001b[0m\n\u001b[0;32m----> 1\u001b[0m \u001b[43mresults\u001b[49m[\u001b[38;5;241m0\u001b[39m]\n",
      "\u001b[0;31mNameError\u001b[0m: name 'results' is not defined"
     ]
    }
   ],
   "source": [
    "results[0]"
   ]
  },
  {
   "cell_type": "code",
   "execution_count": null,
   "metadata": {},
   "outputs": [],
   "source": []
  }
 ],
 "metadata": {
  "colab": {
   "provenance": []
  },
  "kernelspec": {
   "display_name": "Python 3 (ipykernel)",
   "language": "python",
   "name": "python3"
  },
  "language_info": {
   "codemirror_mode": {
    "name": "ipython",
    "version": 3
   },
   "file_extension": ".py",
   "mimetype": "text/x-python",
   "name": "python",
   "nbconvert_exporter": "python",
   "pygments_lexer": "ipython3",
   "version": "3.9.13"
  },
  "vscode": {
   "interpreter": {
    "hash": "95de5cd13349eda40311ab1dff18cd2882fe2f653551ced8d6bd11d5ebdaebd6"
   }
  }
 },
 "nbformat": 4,
 "nbformat_minor": 4
}
