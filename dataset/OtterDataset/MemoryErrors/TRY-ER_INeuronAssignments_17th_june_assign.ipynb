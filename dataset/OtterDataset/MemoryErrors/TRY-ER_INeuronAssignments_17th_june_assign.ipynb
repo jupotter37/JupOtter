{
 "cells": [
  {
   "cell_type": "markdown",
   "id": "12c6f6d6-9982-4011-b874-18d5d1eb53f1",
   "metadata": {},
   "source": [
    "## 1. What is the role of try and exception block?"
   ]
  },
  {
   "cell_type": "markdown",
   "id": "719b9998-d00e-4a06-a34d-7fbc283e8f67",
   "metadata": {},
   "source": [
    "\n",
    "In Python, the try and except blocks play a crucial role in managing errors and handling exceptions. They provide a way to capture and deal with any potential exceptions that might arise while executing your code. "
   ]
  },
  {
   "cell_type": "markdown",
   "id": "de59d10b-d2ef-4d58-a7e2-1c7eba196073",
   "metadata": {},
   "source": [
    "## 2. What is the syntax for a basic try-except block?"
   ]
  },
  {
   "cell_type": "code",
   "execution_count": 1,
   "id": "dfba0c78-1aa9-4fe3-ab3e-63965afb5f63",
   "metadata": {},
   "outputs": [],
   "source": [
    "try:\n",
    "    # code for try block ....\n",
    "    ...\n",
    "except Exception:\n",
    "    # code if a certain \"Exception\" occurs ....\n",
    "    ...\n",
    "finally:\n",
    "    # code that runs after try and except block either fails or succeeds ...\n",
    "    ..."
   ]
  },
  {
   "cell_type": "markdown",
   "id": "f0e191fa-e027-4dcc-b6a4-982b3527f07f",
   "metadata": {},
   "source": [
    "## 3. What happens if an exception occurs inside a try block and there is no matching except block?"
   ]
  },
  {
   "cell_type": "markdown",
   "id": "8cb49f6a-28bf-43ee-bbab-3d374648769b",
   "metadata": {},
   "source": [
    "In the event that an exception arises within a try block without a corresponding except block to handle it, the program execution will be interrupted, and an unhandled exception error will be raised. This error will provide details regarding the type of exception and the specific line of code where it occurred. Without a suitable except block, the program cannot effectively manage the exception and proceed with its execution. It is generally advised to incorporate appropriate except blocks to handle specific exceptions or a general except block to capture unexpected exceptions and manage them gracefully."
   ]
  },
  {
   "cell_type": "markdown",
   "id": "a5e2eaa0-561f-4e3d-b9ea-f250ebb36f01",
   "metadata": {},
   "source": [
    "## 4. What is the difference between using a bare except block and specifying a specific exception type?"
   ]
  },
  {
   "cell_type": "markdown",
   "id": "afad734e-cc9f-49d3-ab43-40c98bcb407a",
   "metadata": {},
   "source": [
    "The difference between using a bare except block and specifying a specific exception type lies in how exceptions are handled.\n",
    "\n",
    "Bare Except Block:\n",
    "\n",
    "1. A bare except block is written as just except: without specifying any specific exception type.\n",
    "2. It acts as a catch-all for any exception that occurs within the try block.\n",
    "3. When an exception is encountered, the bare except block will be executed regardless of the type of exception.\n",
    "4. This approach can make it difficult to determine the specific cause of the exception and may lead to unintended consequences if not handled properly.\n",
    "                        \n",
    "Specific Exception Type:\n",
    "\n",
    "1. When specifying a specific exception type, such as except ValueError: or except FileNotFoundError:, only exceptions of that particular type will be caught and handled.\n",
    "2. The specified except block will be executed only if the corresponding exception occurs within the try block.\n",
    "3. This allows for more precise and targeted exception handling.\n",
    "4. It provides better control over the flow of execution and allows for specific actions to be taken based on the type of exception."
   ]
  },
  {
   "cell_type": "markdown",
   "id": "66375508-7d5f-4362-be8b-92e13a4f5c07",
   "metadata": {},
   "source": [
    "## 5. Can you have nested try-except blocks in Python? If yes, then give an example."
   ]
  },
  {
   "cell_type": "markdown",
   "id": "1105f31b-b45f-4199-b432-ed8116f74ee8",
   "metadata": {},
   "source": [
    "In Python, it is possible to utilize nested try-except blocks, which facilitate the handling of exceptions in a hierarchical fashion. This approach involves enclosing an inner try-except block within an outer try-except block. By employing this structure, it becomes feasible to implement more detailed exception handling tailored to particular code segments, thereby enabling greater precision in error management."
   ]
  },
  {
   "cell_type": "code",
   "execution_count": 3,
   "id": "b21db5a1-c499-442e-98ff-6f7ef49969d4",
   "metadata": {},
   "outputs": [
    {
     "name": "stdout",
     "output_type": "stream",
     "text": [
      "Outer try block\n",
      "Inner try block\n",
      "Inner except block: ValueError\n",
      "Inner finally block\n",
      "Outer finally block\n"
     ]
    }
   ],
   "source": [
    "# example\n",
    "try:\n",
    "    print(\"Outer try block\")\n",
    "    try:\n",
    "        print(\"Inner try block\")\n",
    "        raise ValueError(\"Inner Exception\")\n",
    "    except ValueError:\n",
    "        print(\"Inner except block: ValueError\")\n",
    "    except:\n",
    "        print(\"Inner generic except block\")\n",
    "    finally:\n",
    "        print(\"Inner finally block\")\n",
    "except:\n",
    "    print(\"Outer generic except block\")\n",
    "finally:\n",
    "    print(\"Outer finally block\")"
   ]
  },
  {
   "cell_type": "markdown",
   "id": "75a276c8-4b7e-454f-96a0-982d444f1d29",
   "metadata": {},
   "source": [
    "## 6. Can we use multiple exception blocks, if yes then give an example."
   ]
  },
  {
   "cell_type": "markdown",
   "id": "90590ce5-0eff-40da-90ee-cf20692d20bf",
   "metadata": {},
   "source": [
    "In Python, wecan use multiple except blocks to handle different types of exceptions."
   ]
  },
  {
   "cell_type": "code",
   "execution_count": 14,
   "id": "8e64387d-96e9-4690-b1f6-9816164ae2b1",
   "metadata": {},
   "outputs": [
    {
     "name": "stdout",
     "output_type": "stream",
     "text": [
      "something inside try block ...\n",
      "inside Value block ...\n",
      "inside the final block ...\n"
     ]
    }
   ],
   "source": [
    "# Example\n",
    "try:\n",
    "    print(\"something inside try block ...\")\n",
    "    raise ValueError\n",
    "except ValueError:\n",
    "    print(\"inside Value block ...\")\n",
    "except Exception as E:\n",
    "    print(\"inside main exception ...\")\n",
    "finally:\n",
    "    print(\"inside the final block ...\")"
   ]
  },
  {
   "cell_type": "markdown",
   "id": "514e7c5a-1dff-42f5-be53-b8fc33512892",
   "metadata": {},
   "source": [
    "## 7. Write the reason due to which following errors are raised:\n",
    "a. EOFError\n",
    "\n",
    "b. FloatingPointError\n",
    "\n",
    "c. IndexError\n",
    "\n",
    "d. MemoryError\n",
    "\n",
    "e. OverflowError\n",
    "\n",
    "f. TabError\n",
    "\n",
    "g. ValueError"
   ]
  },
  {
   "cell_type": "markdown",
   "id": "452f7749-b24e-4bc0-a9b5-932281c95303",
   "metadata": {},
   "source": [
    "### a. EOFError: \n",
    "\n",
    "This error is raised when there is an unexpected end of file or input. It typically occurs when a function or statement is expecting more input or data, but the end of the file or input stream is reached.\n"
   ]
  },
  {
   "cell_type": "markdown",
   "id": "e866f9e1-46bf-485f-976f-8bb822c72adf",
   "metadata": {},
   "source": [
    "### b. FloatingPointError: \n",
    "\n",
    "This error is raised when a floating-point arithmetic operation fails. It can occur due to various reasons such as division by zero, overflow, underflow, or an invalid operation involving floating-point numbers."
   ]
  },
  {
   "cell_type": "markdown",
   "id": "44119c3a-da70-4b38-82be-1f386b6f30ea",
   "metadata": {},
   "source": [
    "### c. IndexError: \n",
    "\n",
    "This error is raised when an invalid index is used to access an element in a sequence such as a list or a string. It occurs when the index is either negative or greater than or equal to the length of the sequence."
   ]
  },
  {
   "cell_type": "markdown",
   "id": "6db9a6ae-7319-435d-81fc-6a9576e5eeb0",
   "metadata": {},
   "source": [
    "### d. MemoryError: \n",
    "\n",
    "This error is raised when the Python interpreter runs out of memory to allocate for new objects or data. It occurs when the program tries to allocate more memory than the system can provide."
   ]
  },
  {
   "cell_type": "markdown",
   "id": "0ecaacc1-7306-4d0b-9b4e-0c0a06b01434",
   "metadata": {},
   "source": [
    "### e. OverflowError: \n",
    "\n",
    "This error is raised when the result of an arithmetic operation exceeds the maximum representable value for a numeric type. It occurs when the value being calculated is too large to be stored within the given data type."
   ]
  },
  {
   "cell_type": "markdown",
   "id": "527a154f-2bd3-4541-b948-dcf49fae862d",
   "metadata": {},
   "source": [
    "### f. TabError: \n",
    "\n",
    "This error is raised when there is an issue with the indentation of code using tabs and spaces inconsistently. It typically occurs when mixing tabs and spaces for indentation within the same block of code."
   ]
  },
  {
   "cell_type": "markdown",
   "id": "7baf671c-0a34-4b75-9a5d-dd64eacd1995",
   "metadata": {},
   "source": [
    "### g. ValueError: \n",
    "\n",
    "This error is raised when a function or operation receives an argument of the correct type but an inappropriate value. It occurs when the input value does not meet the expected conditions or requirements for the specific operation or function."
   ]
  },
  {
   "cell_type": "markdown",
   "id": "85894615-08cc-4704-8697-af9d39548923",
   "metadata": {},
   "source": [
    "## 8. Write code for the following given scenario and add try-exception block to it.\n",
    "a. Program to divide two numbers\n",
    "\n",
    "b. Program to convert a string to an integer\n",
    "\n",
    "c. Program to access an element in a list\n",
    "\n",
    "d. Program to handle a specific exception\n",
    "\n",
    "e. Program to handle any exception"
   ]
  },
  {
   "cell_type": "markdown",
   "id": "dd2dcea0-55be-4c46-a543-2ecd52b54b9a",
   "metadata": {},
   "source": [
    "## a. "
   ]
  },
  {
   "cell_type": "code",
   "execution_count": 16,
   "id": "22fbf641-04d1-4652-bc56-473bb12ad541",
   "metadata": {},
   "outputs": [
    {
     "name": "stdout",
     "output_type": "stream",
     "text": [
      "Cannot divide the number by 0\n"
     ]
    }
   ],
   "source": [
    "# a. Program to divide two numbers\n",
    "\n",
    "div = lambda a,b : a/b\n",
    "try:\n",
    "    val = div(10,0)\n",
    "    print(val)\n",
    "except ZeroDivisionError:\n",
    "    print(\"Cannot divide the number by 0\")"
   ]
  },
  {
   "cell_type": "markdown",
   "id": "e2108b85-ad96-4554-b5da-d92165931800",
   "metadata": {},
   "source": [
    "### b."
   ]
  },
  {
   "cell_type": "code",
   "execution_count": 20,
   "id": "a6f51ce0-0ab1-43d5-88c8-3c65bfa4c002",
   "metadata": {},
   "outputs": [
    {
     "name": "stdout",
     "output_type": "stream",
     "text": [
      "converting int value :-> 20\n",
      "Give integer equivent for conversion\n"
     ]
    }
   ],
   "source": [
    "## b. Program to convert a string to an integer\n",
    "int_value = \"20\"\n",
    "string_value = \"twenty\"\n",
    "try:\n",
    "    print(f\"converting int value :-> {int(int_value)}\")\n",
    "    print(f\"converting int value :-> {int(string_value)}\")  # --> error occurance line\n",
    "except ValueError:\n",
    "    print(\"Give integer equivent for conversion\")"
   ]
  },
  {
   "cell_type": "markdown",
   "id": "b8e8beb8-ea94-441b-b88a-c888d8d194db",
   "metadata": {},
   "source": [
    "## c."
   ]
  },
  {
   "cell_type": "code",
   "execution_count": 23,
   "id": "d49def2c-ae4e-4a97-8d2b-a07c083318aa",
   "metadata": {},
   "outputs": [
    {
     "name": "stdout",
     "output_type": "stream",
     "text": [
      "4\n",
      "Enter Valid Index !! \n",
      "The valid index is in between 0 and 3\n"
     ]
    }
   ],
   "source": [
    "# c. Program to access an element in a list\n",
    "l = [1,2,4,5]\n",
    "r_index = 2\n",
    "odd_index = 69\n",
    "try:\n",
    "    print(l[r_index])\n",
    "    print(l[odd_index])  ## --> Error occuring line \n",
    "except IndexError:\n",
    "    print(f\"Enter Valid Index !! \\nThe valid index is in between 0 and {len(l)-1}\")"
   ]
  },
  {
   "cell_type": "markdown",
   "id": "4e4dd91a-e3f2-4136-8907-17a40f547cf8",
   "metadata": {},
   "source": [
    "## d."
   ]
  },
  {
   "cell_type": "code",
   "execution_count": 37,
   "id": "f684920e-d299-40af-a3b8-9d02bd8afb01",
   "metadata": {},
   "outputs": [
    {
     "name": "stdout",
     "output_type": "stream",
     "text": [
      "Code if fine\n",
      "We raised this error\n"
     ]
    }
   ],
   "source": [
    "# d. Program to handle a specific exception \n",
    "# any program from above three can be the answer \n",
    "try:\n",
    "    print(\"Code is fine\")\n",
    "    raise IndentationError\n",
    "except IndentationError:\n",
    "    print(\"We raised this error\")"
   ]
  },
  {
   "cell_type": "markdown",
   "id": "732db841-0e0f-4916-996f-080b5bf1bb6c",
   "metadata": {},
   "source": [
    "## e."
   ]
  },
  {
   "cell_type": "code",
   "execution_count": 39,
   "id": "3da12c05-0b8f-4bf5-978b-c0d1981d182d",
   "metadata": {},
   "outputs": [
    {
     "name": "stdout",
     "output_type": "stream",
     "text": [
      "Error -> division by zero\n"
     ]
    }
   ],
   "source": [
    "# e. Program to handle any exception\n",
    "try:\n",
    "    10/0\n",
    "except Exception as e:\n",
    "    print(f\"Error -> {e}\")"
   ]
  }
 ],
 "metadata": {
  "kernelspec": {
   "display_name": "Python 3 (ipykernel)",
   "language": "python",
   "name": "python3"
  },
  "language_info": {
   "codemirror_mode": {
    "name": "ipython",
    "version": 3
   },
   "file_extension": ".py",
   "mimetype": "text/x-python",
   "name": "python",
   "nbconvert_exporter": "python",
   "pygments_lexer": "ipython3",
   "version": "3.10.11"
  }
 },
 "nbformat": 4,
 "nbformat_minor": 5
}
