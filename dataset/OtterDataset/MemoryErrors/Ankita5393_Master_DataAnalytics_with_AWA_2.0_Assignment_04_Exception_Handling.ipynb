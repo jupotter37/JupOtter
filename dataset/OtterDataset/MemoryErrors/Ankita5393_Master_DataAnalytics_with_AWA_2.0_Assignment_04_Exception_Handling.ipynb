{
 "cells": [
  {
   "cell_type": "markdown",
   "id": "33122b28-2c50-4983-8015-16e1185d9ade",
   "metadata": {},
   "source": [
    "## Ankita Kumari  ||  Assignment-04  || Exceptional Handling "
   ]
  },
  {
   "cell_type": "markdown",
   "id": "b75f93f9-ae08-46f1-8e95-871eb0c9e00c",
   "metadata": {},
   "source": [
    "#### 1. What is the role of try and exception block?"
   ]
  },
  {
   "cell_type": "markdown",
   "id": "29d17545-8b8b-4c08-8906-3d24e9a9c8c2",
   "metadata": {},
   "source": [
    "Ans: The try block lets you test a block of code for errors or we can also say that in the try block code gets executed.\n",
    "Exception block handles specific exceptions that occur in the try block. The except block lets you handle the error."
   ]
  },
  {
   "cell_type": "code",
   "execution_count": 90,
   "id": "77362b39-95c7-4e63-a6e1-4ad274333320",
   "metadata": {},
   "outputs": [
    {
     "name": "stdout",
     "output_type": "stream",
     "text": [
      "Division by zero is not possible\n"
     ]
    }
   ],
   "source": [
    "## For Example\n",
    "## Since the try block raises an error, the except block will be executed.Without the try block, the program will crash and raise an error.\n",
    "try:                        \n",
    "    num1= 5\n",
    "    num2= 0\n",
    "    div= num1/num2\n",
    "    print(div)\n",
    "except ZeroDivisionError:\n",
    "    print(\"Division by zero is not possible\")"
   ]
  },
  {
   "cell_type": "markdown",
   "id": "a085855e-83fe-4dba-b3e1-4162a95bad42",
   "metadata": {},
   "source": [
    "#### 2.What is the syntax for a basic try-except block?"
   ]
  },
  {
   "cell_type": "code",
   "execution_count": null,
   "id": "f5e94ae3-5263-40ca-b9b5-1a7c775ce0f8",
   "metadata": {},
   "outputs": [],
   "source": [
    "try:\n",
    "    # Some Code\n",
    "except:\n",
    "    # Executed if error in the\n",
    "    # try block"
   ]
  },
  {
   "cell_type": "markdown",
   "id": "ca942c08-6d94-4e9c-8138-4cd3fcdd1b33",
   "metadata": {},
   "source": [
    "#### 3.What happens if an exception occurs inside a try block and there is no matching except block?"
   ]
  },
  {
   "cell_type": "markdown",
   "id": "0ebba153-c4f1-4dc3-af86-66bad0a8aaee",
   "metadata": {},
   "source": [
    "Ans: If an exception occurs that does not match the exception named in the except clause, it is passed on to outer try statements; if no handler is found, it is an unhandled exception and execution stops with an error message.\n",
    "\n",
    "A try statement may have more than one except clause, to specify handlers for different exceptions. At most one handler will be executed. Handlers only handle exceptions that occur in the corresponding try clause, not in other handlers of the same try statement.\n",
    "\n",
    "Exception handlers do not handle only exceptions that occur immediately in the try clause, but also those that occur inside functions that are called (even indirectly) in the try clause"
   ]
  },
  {
   "cell_type": "markdown",
   "id": "c660cb84-62f1-439d-b0fd-8acd1ecb6a38",
   "metadata": {},
   "source": [
    "#### 4. What is the difference between using a bare except block and specifying a specific exception type?"
   ]
  },
  {
   "cell_type": "markdown",
   "id": "f6d940b3-f528-4541-8ce2-3b5e0e965634",
   "metadata": {},
   "source": [
    "Ans:Bare Except block- A bare except block catches all exceptions, regardless of their type. It can hide unexpected errors, making it hard to catch errors. Makes it unclear what kinds of errors are being handled, reducing code readability and maintainability.\n",
    "\n",
    "Specifying an exception type allows you to catch only certain exceptions. The point of specifying the Exception is that only that Exception will be caught, if you do not specify any Exception, then ALL Errors and Exceptions will be caught potentially masking bugs."
   ]
  },
  {
   "cell_type": "markdown",
   "id": "1078c893-adbc-4b79-9bc4-233150d7a92b",
   "metadata": {},
   "source": [
    "##### Bare except\n",
    "except :\n",
    "    print('an exception occurred')\n",
    "\n",
    "##### Specific exception type\n",
    "except Exception:\n",
    "    print('an exception occurred')"
   ]
  },
  {
   "cell_type": "markdown",
   "id": "94dcab17-bd35-4fad-9c68-c3f676456163",
   "metadata": {},
   "source": [
    "Bare except can catch all kinds of exceptions while except Exception will catch only Exception itself. "
   ]
  },
  {
   "cell_type": "markdown",
   "id": "bf64bae7-46ef-40d8-b778-1fc7c89b5908",
   "metadata": {},
   "source": [
    "#### 5.Can you have nested try-except blocks in Python? If yes, then give an example?"
   ]
  },
  {
   "cell_type": "markdown",
   "id": "9a752721-903e-4aee-88b1-06d5d37b1e49",
   "metadata": {},
   "source": [
    "Ans: Yes, we can have nested try- except blocks in Python. In a Python program, if there is another try-except construct either inside either a try block or inside its except block, it is known as a nested-try block. "
   ]
  },
  {
   "cell_type": "code",
   "execution_count": 72,
   "id": "7db40b58-e3c8-4ddb-817b-82102640953d",
   "metadata": {},
   "outputs": [
    {
     "name": "stdin",
     "output_type": "stream",
     "text": [
      "Enter first number 8\n",
      "Enter second number 90\n"
     ]
    },
    {
     "name": "stdout",
     "output_type": "stream",
     "text": [
      "The result of 8.0 / 90.0 is: 0.08888888888888889\n"
     ]
    },
    {
     "name": "stdin",
     "output_type": "stream",
     "text": [
      "Enter a number to square:  9\n"
     ]
    },
    {
     "name": "stdout",
     "output_type": "stream",
     "text": [
      "The square of 9.0 is: 81.0\n"
     ]
    }
   ],
   "source": [
    "try:\n",
    "    num1= float(input(\"Enter first number\"))\n",
    "    num2= float(input(\"Enter second number\"))\n",
    "    result= num1/num2\n",
    "    print(f\"The result of {num1} / {num2} is: {result}\")\n",
    "    \n",
    "    number =float(input(\"Enter a number to square: \"))\n",
    "    print(f\"The square of {number} is: {number ** 2}\") \n",
    "except ZeroDivisionError:\n",
    "    print(\"Error: Division by zero is not allowed.\")\n",
    "except ValueError:\n",
    "    print(\"Error: Invalid input. Please enter a valid number.\")\n",
    "    \n"
   ]
  },
  {
   "cell_type": "markdown",
   "id": "aa0d7fce-f729-4acb-b36b-8b5d633b615a",
   "metadata": {},
   "source": [
    "#### 6.Can we use multiple exception blocks, if yes then give an example."
   ]
  },
  {
   "cell_type": "markdown",
   "id": "87c81185-14b3-4a6b-859c-559f6830d0ba",
   "metadata": {},
   "source": [
    "Ans: Yes we can use multiple exception blocks."
   ]
  },
  {
   "cell_type": "code",
   "execution_count": 104,
   "id": "f96f39db-f839-435f-a356-ec6953dcc119",
   "metadata": {},
   "outputs": [
    {
     "name": "stdin",
     "output_type": "stream",
     "text": [
      "Enter first number 0\n",
      "Enter second number 0\n"
     ]
    },
    {
     "name": "stdout",
     "output_type": "stream",
     "text": [
      "Error: Division by zero is not allowed.\n"
     ]
    }
   ],
   "source": [
    "try:\n",
    "    num1= float(input(\"Enter first number\"))\n",
    "    num2= float(input(\"Enter second number\"))\n",
    "    result= num1/num2\n",
    "    \n",
    "except ZeroDivisionError:\n",
    "    print(\"Error: Division by zero is not allowed.\")\n",
    "except ValueError:\n",
    "    print(\"Error: Invalid input. Please enter a valid number.\")\n",
    "except Exception as e:  \n",
    "    print(f\"An unexpected error occurred: {e}\")\n"
   ]
  },
  {
   "cell_type": "markdown",
   "id": "23cf7e2c-dcdf-407f-8098-ad259add49e4",
   "metadata": {},
   "source": [
    "#### 7. Write the reason for which errors are raised:\n",
    "#### (a)EOFError\n",
    "#### (b)FloatingPointError\n",
    "#### (c)IndexError\n",
    "#### (d)MemoryError\n",
    "#### (e)OverflowError\n",
    "#### (f)TabError\n",
    "#### (g)ValueError"
   ]
  },
  {
   "cell_type": "markdown",
   "id": "cc94aded-078e-4898-98a7-658d106e963b",
   "metadata": {},
   "source": [
    "#### Ans:(a) EOFError- End of file error\n",
    "This error occurs when Python has reached the end of user input without receiving any input. The reason that EOFError occurs is that Python attempts to print out your input in a variable string when no data is given.\n",
    "\n"
   ]
  },
  {
   "cell_type": "code",
   "execution_count": 83,
   "id": "b0c225d0-a955-44f2-9592-8854331e41a6",
   "metadata": {},
   "outputs": [
    {
     "name": "stdin",
     "output_type": "stream",
     "text": [
      "Enter something:  \n"
     ]
    }
   ],
   "source": [
    "try:\n",
    "    user_input = input(\"Enter something: \")\n",
    "except EOFError:\n",
    "    print(\"EOFError: No input was received!\")\n"
   ]
  },
  {
   "cell_type": "markdown",
   "id": "7d1c85eb-d38d-4772-935f-1e45e8e072d6",
   "metadata": {},
   "source": [
    "##### (b)FloatingPointError: Floating-point errors arise because computers store real numbers using a finite number of bits, leading to approximations and potential inaccuracies. This error can occur due to the limitations of representing decimal numbers in binary format. These errors are often related to precision issues, which can lead to unexpected results in calculations."
   ]
  },
  {
   "cell_type": "markdown",
   "id": "b7e0afc9-a255-4816-abdf-dfdb0f4d6d04",
   "metadata": {},
   "source": [
    "#### (c) IndexError: When the wrong index of a list is retrieved."
   ]
  },
  {
   "cell_type": "markdown",
   "id": "37e4d56a-3e71-4e6c-89a9-489220ab2778",
   "metadata": {},
   "source": [
    "#### (d) Memory Error: It occurs when a program runs out of memory."
   ]
  },
  {
   "cell_type": "markdown",
   "id": "96496262-2be3-415c-bb74-b9ea0ccc6997",
   "metadata": {},
   "source": [
    "#### (e) Overflow Error: The ‘OverflowError: Math Range Error’ is an error message you might encounter when doing math in Python. It happens when you’re working with numbers and the result of your calculation becomes too big (or too small) to be handled by Python."
   ]
  },
  {
   "cell_type": "markdown",
   "id": "d5e8a8ae-97ed-46ff-b8a0-fc7c68fc25ec",
   "metadata": {},
   "source": [
    "#### (f) TabError: A TabError is a type of syntax error that arises when there is a mix of tabs and spaces within the same block of code. Python interprets tabs and spaces differently for indentation. If tabs and spaces are used interchangeably within the same block, Python can’t reliably determine the indentation level, resulting in a TabError."
   ]
  },
  {
   "cell_type": "markdown",
   "id": "abd83d4e-3e5a-490f-b3a7-8aac29ec5b04",
   "metadata": {},
   "source": [
    "#### (g)ValueError: when the built-in function receives a wrong argument"
   ]
  },
  {
   "cell_type": "markdown",
   "id": "ec400085-fcae-4bc1-9ea7-d90f5254feb1",
   "metadata": {},
   "source": [
    "#### 8. Write code for the following scenario and add a try-exception block.\n",
    "#### (a)Program to divide two numbers\n",
    "#### (b)Program to convert a string to an integer\n",
    "#### (c)Program to access an element in a list\n",
    "#### (d)Program to handle a specific exception\n",
    "#### (e)Program to handle any exception"
   ]
  },
  {
   "cell_type": "markdown",
   "id": "e77af641-6c1d-49dd-a85e-cd1e784434c1",
   "metadata": {},
   "source": [
    "#### Ans:(a)Program to divide two numbers"
   ]
  },
  {
   "cell_type": "code",
   "execution_count": 96,
   "id": "23d3aaff-a5d2-4d29-a022-8390c20af90a",
   "metadata": {},
   "outputs": [
    {
     "name": "stdin",
     "output_type": "stream",
     "text": [
      "Enter first number: 40\n",
      "Enter second number 9\n"
     ]
    },
    {
     "name": "stdout",
     "output_type": "stream",
     "text": [
      "div_result: 4.444444444444445\n"
     ]
    }
   ],
   "source": [
    "try:\n",
    "    num1= float(input(\"Enter first number:\"))\n",
    "    num2= float(input(\"Enter second number\"))\n",
    "    div_result= num1/num2\n",
    "    print(\"div_result:\", div_result)\n",
    "except ValueError:\n",
    "    print(\"Enter valid number\")"
   ]
  },
  {
   "cell_type": "markdown",
   "id": "ada8b761-1f29-403c-b6a1-a566f11932f7",
   "metadata": {},
   "source": [
    "#### (b)Program to convert a string to an integer"
   ]
  },
  {
   "cell_type": "code",
   "execution_count": 2,
   "id": "247648ce-7af4-4367-b711-d8c21d5abaae",
   "metadata": {},
   "outputs": [
    {
     "name": "stdin",
     "output_type": "stream",
     "text": [
      "Enter the number: 9\n"
     ]
    },
    {
     "name": "stdout",
     "output_type": "stream",
     "text": [
      "Converted_integer: 9\n"
     ]
    }
   ],
   "source": [
    "string= input(\"Enter the number:\")\n",
    "try:\n",
    "    Converted_integer= int(string)\n",
    "    print(\"Converted_integer:\",Converted_integer)\n",
    "except ValueError:\n",
    "    print(\"Error! The input is not integer\")"
   ]
  },
  {
   "cell_type": "code",
   "execution_count": 6,
   "id": "a1d76648-1f2c-401c-b2ef-6fd171502c0c",
   "metadata": {},
   "outputs": [
    {
     "data": {
      "text/plain": [
       "int"
      ]
     },
     "execution_count": 6,
     "metadata": {},
     "output_type": "execute_result"
    }
   ],
   "source": [
    "type(Converted_integer)"
   ]
  },
  {
   "cell_type": "markdown",
   "id": "60103d78-e1ef-4f2c-b2b3-3db155c9e65f",
   "metadata": {},
   "source": [
    "#### (c)Program to access an element in a list"
   ]
  },
  {
   "cell_type": "code",
   "execution_count": 114,
   "id": "48b4c011-a5ed-4081-b141-c0b697d8c03a",
   "metadata": {},
   "outputs": [
    {
     "name": "stdout",
     "output_type": "stream",
     "text": [
      "Error! Index is out of range\n"
     ]
    }
   ],
   "source": [
    "my_list = [1,2,3,'ankita',70.6]\n",
    "try:\n",
    "    print(my_list[5])\n",
    "except IndexError:\n",
    "    print(\"Error! Index is out of range\")\n",
    "    "
   ]
  },
  {
   "cell_type": "markdown",
   "id": "d26b14d5-1e51-4770-a230-f5215675ed76",
   "metadata": {},
   "source": [
    "#### (d)Program to handle a specific exception"
   ]
  },
  {
   "cell_type": "code",
   "execution_count": 3,
   "id": "ab2afbf2-f95d-46a8-8176-ab24bc8af81a",
   "metadata": {},
   "outputs": [
    {
     "name": "stdout",
     "output_type": "stream",
     "text": [
      "Error: cannot add an int and a str\n"
     ]
    }
   ],
   "source": [
    "int = 5\n",
    "str = \"hello\"\n",
    "try:\n",
    "    result = int + str\n",
    "except TypeError:\n",
    "    print(\"Error: cannot add an int and a str\")\n"
   ]
  },
  {
   "cell_type": "markdown",
   "id": "f41b4a52-7949-4a8e-9f75-0c6a12292783",
   "metadata": {},
   "source": [
    "#### (e) Program to handle any exception"
   ]
  },
  {
   "cell_type": "code",
   "execution_count": 86,
   "id": "2aa3afeb-a64a-4c70-b7f1-de65e6e886b1",
   "metadata": {},
   "outputs": [
    {
     "name": "stdin",
     "output_type": "stream",
     "text": [
      "Enter first number 5.9\n",
      "Enter second number 9\n"
     ]
    },
    {
     "name": "stdout",
     "output_type": "stream",
     "text": [
      "The result is: 14.9\n"
     ]
    }
   ],
   "source": [
    "try:\n",
    "    num1= eval(input(\"Enter first number\"))\n",
    "    num2= eval(input(\"Enter second number\"))\n",
    "    result = num1 + num2\n",
    "except Exception as e:           # catch any error\n",
    "    print(f\"An error occurred: {e}\")\n",
    "else:\n",
    "    print(f\"The result is: {result}\")\n",
    "  "
   ]
  },
  {
   "cell_type": "code",
   "execution_count": null,
   "id": "2afba92a-a33a-4770-9990-4e964627b620",
   "metadata": {},
   "outputs": [],
   "source": []
  }
 ],
 "metadata": {
  "kernelspec": {
   "display_name": "Python 3 (ipykernel)",
   "language": "python",
   "name": "python3"
  },
  "language_info": {
   "codemirror_mode": {
    "name": "ipython",
    "version": 3
   },
   "file_extension": ".py",
   "mimetype": "text/x-python",
   "name": "python",
   "nbconvert_exporter": "python",
   "pygments_lexer": "ipython3",
   "version": "3.12.4"
  }
 },
 "nbformat": 4,
 "nbformat_minor": 5
}
