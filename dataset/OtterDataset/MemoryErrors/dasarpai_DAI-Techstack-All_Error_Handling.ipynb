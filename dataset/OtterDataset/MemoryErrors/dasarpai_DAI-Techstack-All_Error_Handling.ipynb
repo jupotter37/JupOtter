{
 "cells": [
  {
   "cell_type": "code",
   "execution_count": null,
   "metadata": {},
   "outputs": [],
   "source": [
    "#Error cannot be handle\n",
    "#Exceptions can be handled in runtime\n",
    "\n",
    "#An Error might indicate critical problems that a reasonable application should not try to catch, \n",
    "#while an Exception might indicate conditions that an application should try to catch. \n",
    "#Errors are a form of an unchecked exception and are irrecoverable like an OutOfMemoryError,\n",
    "\n",
    "#Type of Errors\n",
    "#1. Syntax Error, 2-Out of Memory Error, 3-Recursion Error, 4-Exceptions"
   ]
  },
  {
   "cell_type": "markdown",
   "metadata": {},
   "source": [
    "# Errors"
   ]
  },
  {
   "cell_type": "code",
   "execution_count": null,
   "metadata": {},
   "outputs": [],
   "source": [
    "# Syntex Error\n",
    "number_of_people=10\n",
    "per_person_food_bill=100\n",
    "tot_food_bill = number_of_people  per_person_food_bill"
   ]
  },
  {
   "cell_type": "code",
   "execution_count": null,
   "metadata": {},
   "outputs": [],
   "source": [
    "Age=10\n",
    "Name=\"Hari\"\n",
    "Age/Name"
   ]
  },
  {
   "cell_type": "code",
   "execution_count": null,
   "metadata": {},
   "outputs": [],
   "source": [
    "#Recursion Error\n",
    "\n",
    "def recur():\n",
    "    return recur()\n",
    "\n",
    "recur()"
   ]
  },
  {
   "cell_type": "code",
   "execution_count": null,
   "metadata": {},
   "outputs": [],
   "source": [
    "# Indentation Error. This is only in Python Lang\n",
    "a = 10\n",
    "  b=5"
   ]
  },
  {
   "cell_type": "markdown",
   "metadata": {},
   "source": [
    "# Exceptions"
   ]
  },
  {
   "cell_type": "code",
   "execution_count": null,
   "metadata": {},
   "outputs": [],
   "source": [
    "a = 2\n",
    "b = 'DataCamp'\n",
    "a + b"
   ]
  },
  {
   "cell_type": "code",
   "execution_count": null,
   "metadata": {},
   "outputs": [],
   "source": [
    "100/0"
   ]
  },
  {
   "cell_type": "markdown",
   "metadata": {},
   "source": [
    "# Exception Handling"
   ]
  },
  {
   "cell_type": "raw",
   "metadata": {},
   "source": [
    "Try: It will run the code block in which you expect an error to occur.\n",
    "\n",
    "Except: Here, you will define the type of exception you expect in the try block (built-in or custom).\n",
    "\n",
    "Else: If there isn't any exception, then this block of code will be executed (consider this as a remedy or a fallback option if you expect a part of your script to produce an exception).\n",
    "\n",
    "Finally: Irrespective of whether there is an exception or not, this block of code will always be executed."
   ]
  },
  {
   "cell_type": "code",
   "execution_count": null,
   "metadata": {},
   "outputs": [],
   "source": [
    "def divide(a,b):\n",
    "    try:\n",
    "        c=a/b\n",
    "    except:\n",
    "        print(f\"Divide by zero error occured\")\n",
    "    else:\n",
    "        print(f\"Division happen perfectly and answer is {c}\")\n",
    "    finally:\n",
    "        print(f\"Division function is complete now\")\n",
    "        \n",
    "divide(100,0)\n",
    "print (\"=\"*30)\n",
    "divide(100,1)"
   ]
  },
  {
   "cell_type": "markdown",
   "metadata": {},
   "source": [
    "# Keyboard Interrupt Error"
   ]
  },
  {
   "cell_type": "code",
   "execution_count": null,
   "metadata": {},
   "outputs": [],
   "source": [
    "try:\n",
    "    inp = input()\n",
    "    print ('Press Ctrl+C or Interrupt the Kernel:')\n",
    "except KeyboardInterrupt:\n",
    "    print ('Caught KeyboardInterrupt')\n",
    "else:\n",
    "    print ('No exception occurred')"
   ]
  },
  {
   "cell_type": "markdown",
   "metadata": {},
   "source": [
    "# Overflow Exception"
   ]
  },
  {
   "cell_type": "code",
   "execution_count": null,
   "metadata": {},
   "outputs": [],
   "source": [
    "try:  \n",
    "    import math\n",
    "    print(math.exp(1000))\n",
    "except OverflowError:  \n",
    "        print (\"OverFlow Exception Raised.\")\n",
    "else:  \n",
    "    print (\"Success, no error!\")"
   ]
  },
  {
   "cell_type": "markdown",
   "metadata": {},
   "source": [
    "# Assertion Error"
   ]
  },
  {
   "cell_type": "code",
   "execution_count": null,
   "metadata": {},
   "outputs": [],
   "source": [
    "try:  \n",
    "    a = 100\n",
    "    b = \"Bangalore\"\n",
    "    assert a == b\n",
    "except AssertionError:  \n",
    "        print (\"Assertion Exception Raised.\")\n",
    "else:  \n",
    "    print (\"Success, no error!\")"
   ]
  },
  {
   "cell_type": "markdown",
   "metadata": {},
   "source": [
    "# Attribute Error"
   ]
  },
  {
   "cell_type": "code",
   "execution_count": null,
   "metadata": {},
   "outputs": [],
   "source": [
    "type(object)"
   ]
  },
  {
   "cell_type": "code",
   "execution_count": null,
   "metadata": {},
   "outputs": [],
   "source": [
    "class Person(object):\n",
    "    a = 2\n",
    "    print (a)\n",
    "\n",
    "try:\n",
    "    p1 = Person()\n",
    "    print (p1.a)\n",
    "except AttributeError:\n",
    "    print (\"Attribute Exception Raised.\")"
   ]
  },
  {
   "cell_type": "code",
   "execution_count": null,
   "metadata": {},
   "outputs": [],
   "source": [
    "class Person():\n",
    "    a = 2\n",
    "    print (a)\n",
    "\n",
    "try:\n",
    "    p1 = Person(\"Hari\")\n",
    "    print (p1.a)\n",
    "except AttributeError:\n",
    "    print (\"Attribute Exception Raised.\")"
   ]
  },
  {
   "cell_type": "markdown",
   "metadata": {},
   "source": [
    "# Import Error"
   ]
  },
  {
   "cell_type": "code",
   "execution_count": null,
   "metadata": {},
   "outputs": [],
   "source": [
    "import panda"
   ]
  },
  {
   "cell_type": "markdown",
   "metadata": {},
   "source": [
    "# Lookup Error"
   ]
  },
  {
   "cell_type": "code",
   "execution_count": null,
   "metadata": {},
   "outputs": [],
   "source": [
    "try:  \n",
    "    a = {1:'a', 2:'b', 3:'c'}  \n",
    "    print (a[4])  \n",
    "except LookupError:  \n",
    "    print (\"Key Error Exception Raised.\")\n",
    "else:  \n",
    "    print (\"Success, no error!\")"
   ]
  },
  {
   "cell_type": "markdown",
   "metadata": {},
   "source": [
    "# Lookup=>Index Error"
   ]
  },
  {
   "cell_type": "code",
   "execution_count": null,
   "metadata": {},
   "outputs": [],
   "source": [
    "try:  \n",
    "    a = ['a', 'b', 'c']  \n",
    "    print (a[4])  \n",
    "except LookupError:  \n",
    "    print (\"Index Error Exception Raised, list index out of range\")\n",
    "else:  \n",
    "    print (\"Success, no error!\")"
   ]
  },
  {
   "cell_type": "markdown",
   "metadata": {},
   "source": [
    "# Name Error"
   ]
  },
  {
   "cell_type": "code",
   "execution_count": null,
   "metadata": {},
   "outputs": [],
   "source": [
    "try:\n",
    "    print (ans)\n",
    "except NameError:  \n",
    "    print (\"NameError: name 'ans' is not defined\")\n",
    "else:  \n",
    "    print (\"Success, no error!\")"
   ]
  },
  {
   "cell_type": "markdown",
   "metadata": {},
   "source": [
    "# Runtime Error / Not Implemented Error"
   ]
  },
  {
   "cell_type": "code",
   "execution_count": 48,
   "metadata": {},
   "outputs": [
    {
     "name": "stdout",
     "output_type": "stream",
     "text": [
      "SubClass doing something!\n"
     ]
    },
    {
     "ename": "NotImplementedError",
     "evalue": "BaseClass.do_something",
     "output_type": "error",
     "traceback": [
      "\u001b[1;31m---------------------------------------------------------------------------\u001b[0m",
      "\u001b[1;31mNotImplementedError\u001b[0m                       Traceback (most recent call last)",
      "\u001b[1;32m<ipython-input-48-c52b75603a1e>\u001b[0m in \u001b[0;36m<module>\u001b[1;34m\u001b[0m\n\u001b[0;32m     14\u001b[0m \u001b[1;33m\u001b[0m\u001b[0m\n\u001b[0;32m     15\u001b[0m \u001b[0mSubClass\u001b[0m\u001b[1;33m(\u001b[0m\u001b[1;33m)\u001b[0m\u001b[1;33m.\u001b[0m\u001b[0mdo_something\u001b[0m\u001b[1;33m(\u001b[0m\u001b[1;33m)\u001b[0m\u001b[1;33m\u001b[0m\u001b[1;33m\u001b[0m\u001b[0m\n\u001b[1;32m---> 16\u001b[1;33m \u001b[0mBaseClass\u001b[0m\u001b[1;33m(\u001b[0m\u001b[1;33m)\u001b[0m\u001b[1;33m.\u001b[0m\u001b[0mdo_something\u001b[0m\u001b[1;33m(\u001b[0m\u001b[1;33m)\u001b[0m\u001b[1;33m\u001b[0m\u001b[1;33m\u001b[0m\u001b[0m\n\u001b[0m",
      "\u001b[1;32m<ipython-input-48-c52b75603a1e>\u001b[0m in \u001b[0;36mdo_something\u001b[1;34m(self)\u001b[0m\n\u001b[0;32m      5\u001b[0m     \u001b[1;32mdef\u001b[0m \u001b[0mdo_something\u001b[0m\u001b[1;33m(\u001b[0m\u001b[0mself\u001b[0m\u001b[1;33m)\u001b[0m\u001b[1;33m:\u001b[0m\u001b[1;33m\u001b[0m\u001b[1;33m\u001b[0m\u001b[0m\n\u001b[0;32m      6\u001b[0m         \u001b[1;34m\"\"\"The interface, not implemented\"\"\"\u001b[0m\u001b[1;33m\u001b[0m\u001b[1;33m\u001b[0m\u001b[0m\n\u001b[1;32m----> 7\u001b[1;33m         \u001b[1;32mraise\u001b[0m \u001b[0mNotImplementedError\u001b[0m\u001b[1;33m(\u001b[0m\u001b[0mself\u001b[0m\u001b[1;33m.\u001b[0m\u001b[0m__class__\u001b[0m\u001b[1;33m.\u001b[0m\u001b[0m__name__\u001b[0m \u001b[1;33m+\u001b[0m \u001b[1;34m'.do_something'\u001b[0m\u001b[1;33m)\u001b[0m\u001b[1;33m\u001b[0m\u001b[1;33m\u001b[0m\u001b[0m\n\u001b[0m\u001b[0;32m      8\u001b[0m \u001b[1;33m\u001b[0m\u001b[0m\n\u001b[0;32m      9\u001b[0m \u001b[1;32mclass\u001b[0m \u001b[0mSubClass\u001b[0m\u001b[1;33m(\u001b[0m\u001b[0mBaseClass\u001b[0m\u001b[1;33m)\u001b[0m\u001b[1;33m:\u001b[0m\u001b[1;33m\u001b[0m\u001b[1;33m\u001b[0m\u001b[0m\n",
      "\u001b[1;31mNotImplementedError\u001b[0m: BaseClass.do_something"
     ]
    }
   ],
   "source": [
    "class BaseClass(object):\n",
    "    \"\"\"Defines the interface\"\"\"\n",
    "    def __init__(self):\n",
    "        super(BaseClass, self).__init__()\n",
    "    def do_something(self):\n",
    "        \"\"\"The interface, not implemented\"\"\"\n",
    "        raise NotImplementedError(self.__class__.__name__ + '.do_something')\n",
    "\n",
    "class SubClass(BaseClass):\n",
    "    \"\"\"Implementes the interface\"\"\"\n",
    "    def do_something(self):\n",
    "        \"\"\"really does something\"\"\"\n",
    "        print (self.__class__.__name__ + ' doing something!')\n",
    "\n",
    "SubClass().do_something()\n",
    "BaseClass().do_something()"
   ]
  },
  {
   "cell_type": "markdown",
   "metadata": {},
   "source": [
    "# Value Error"
   ]
  },
  {
   "cell_type": "code",
   "execution_count": 51,
   "metadata": {},
   "outputs": [
    {
     "name": "stdout",
     "output_type": "stream",
     "text": [
      "ValueError: could not convert string to float: 'DataCamp'\n"
     ]
    }
   ],
   "source": [
    "try:\n",
    "    print (float('Hari Thapliyal'))\n",
    "except ValueError:\n",
    "    print ('ValueError: could not convert string to float: \\'DataCamp\\'')\n",
    "else:\n",
    "    print ('Success, no error!')"
   ]
  },
  {
   "cell_type": "markdown",
   "metadata": {},
   "source": [
    "# Python Custom Exceptions"
   ]
  },
  {
   "cell_type": "code",
   "execution_count": 52,
   "metadata": {},
   "outputs": [
    {
     "name": "stdout",
     "output_type": "stream",
     "text": [
      "Enter Total Marks Scored: aa\n"
     ]
    },
    {
     "ename": "ValueError",
     "evalue": "invalid literal for int() with base 10: 'aa'",
     "output_type": "error",
     "traceback": [
      "\u001b[1;31m---------------------------------------------------------------------------\u001b[0m",
      "\u001b[1;31mValueError\u001b[0m                                Traceback (most recent call last)",
      "\u001b[1;32m<ipython-input-52-a1a713361bd3>\u001b[0m in \u001b[0;36m<module>\u001b[1;34m\u001b[0m\n\u001b[0;32m      5\u001b[0m         \u001b[1;32mreturn\u001b[0m \u001b[0mrepr\u001b[0m\u001b[1;33m(\u001b[0m\u001b[0mself\u001b[0m\u001b[1;33m.\u001b[0m\u001b[0mdata\u001b[0m\u001b[1;33m)\u001b[0m\u001b[1;33m\u001b[0m\u001b[1;33m\u001b[0m\u001b[0m\n\u001b[0;32m      6\u001b[0m \u001b[1;33m\u001b[0m\u001b[0m\n\u001b[1;32m----> 7\u001b[1;33m \u001b[0mTotal_Marks\u001b[0m \u001b[1;33m=\u001b[0m \u001b[0mint\u001b[0m\u001b[1;33m(\u001b[0m\u001b[0minput\u001b[0m\u001b[1;33m(\u001b[0m\u001b[1;34m\"Enter Total Marks Scored: \"\u001b[0m\u001b[1;33m)\u001b[0m\u001b[1;33m)\u001b[0m\u001b[1;33m\u001b[0m\u001b[1;33m\u001b[0m\u001b[0m\n\u001b[0m\u001b[0;32m      8\u001b[0m \u001b[1;32mtry\u001b[0m\u001b[1;33m:\u001b[0m\u001b[1;33m\u001b[0m\u001b[1;33m\u001b[0m\u001b[0m\n\u001b[0;32m      9\u001b[0m     \u001b[0mNum_of_Sections\u001b[0m \u001b[1;33m=\u001b[0m \u001b[0mint\u001b[0m\u001b[1;33m(\u001b[0m\u001b[0minput\u001b[0m\u001b[1;33m(\u001b[0m\u001b[1;34m\"Enter Num of Sections: \"\u001b[0m\u001b[1;33m)\u001b[0m\u001b[1;33m)\u001b[0m\u001b[1;33m\u001b[0m\u001b[1;33m\u001b[0m\u001b[0m\n",
      "\u001b[1;31mValueError\u001b[0m: invalid literal for int() with base 10: 'aa'"
     ]
    }
   ],
   "source": [
    "class UnAcceptedValueError(Exception):   \n",
    "    def __init__(self, data):    \n",
    "        self.data = data\n",
    "    def __str__(self):\n",
    "        return repr(self.data)\n",
    "\n",
    "Total_Marks = int(input(\"Enter Total Marks Scored: \"))\n",
    "try:\n",
    "    Num_of_Sections = int(input(\"Enter Num of Sections: \"))\n",
    "    if(Num_of_Sections < 1):\n",
    "        raise UnAcceptedValueError(\"Number of Sections can't be less than 1\")\n",
    "except UnAcceptedValueError as e:\n",
    "    print (\"Received error:\", e.data)"
   ]
  },
  {
   "cell_type": "code",
   "execution_count": null,
   "metadata": {},
   "outputs": [],
   "source": [
    "\n",
    "class BaseClass():\n",
    "    \"\"\"Defines the interface\"\"\"\n",
    "    def __init__(self):\n",
    "        super(BaseClass, self).__init__()\n",
    "    def __len__(self):\n",
    "        super(BaseClass, self).__len__()\n",
    "        \n",
    "    def do_something(self):\n",
    "        \"\"\"The interface, not implemented\"\"\"\n",
    "        raise NotImplementedError(self.__class__.__name__ + '.do_something')\n",
    "\n",
    "# class SubClass(BaseClass):\n",
    "#     \"\"\"Implementes the interface\"\"\"\n",
    "#     def do_something(self):\n",
    "#         \"\"\"really does something\"\"\"\n",
    "#         print (self.__class__.__name__ + ' doing something!')\n",
    "\n",
    "# SubClass(\"abc\").do_something()\n",
    "#BaseClass().do_something()"
   ]
  },
  {
   "cell_type": "code",
   "execution_count": null,
   "metadata": {},
   "outputs": [],
   "source": [
    "BaseClass().__len__()"
   ]
  },
  {
   "cell_type": "code",
   "execution_count": null,
   "metadata": {},
   "outputs": [],
   "source": []
  }
 ],
 "metadata": {
  "kernelspec": {
   "display_name": "Python 3",
   "language": "python",
   "name": "python3"
  },
  "language_info": {
   "codemirror_mode": {
    "name": "ipython",
    "version": 3
   },
   "file_extension": ".py",
   "mimetype": "text/x-python",
   "name": "python",
   "nbconvert_exporter": "python",
   "pygments_lexer": "ipython3",
   "version": "3.8.3"
  }
 },
 "nbformat": 4,
 "nbformat_minor": 4
}
