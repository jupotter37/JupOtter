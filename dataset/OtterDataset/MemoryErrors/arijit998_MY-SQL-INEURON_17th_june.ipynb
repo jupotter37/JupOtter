{
  "nbformat": 4,
  "nbformat_minor": 0,
  "metadata": {
    "colab": {
      "provenance": []
    },
    "kernelspec": {
      "name": "python3",
      "display_name": "Python 3"
    },
    "language_info": {
      "name": "python"
    }
  },
  "cells": [
    {
      "cell_type": "markdown",
      "source": [
        "1. What is the role of try and exception block?\n",
        "2. What is the syntax for a basic try-except block?\n",
        "\n",
        "\n",
        "try block test our codes\n",
        "and except block handel errors."
      ],
      "metadata": {
        "id": "2FxE399SJVtR"
      }
    },
    {
      "cell_type": "code",
      "execution_count": 3,
      "metadata": {
        "colab": {
          "base_uri": "https://localhost:8080/"
        },
        "id": "-Rb5p9m1IiV8",
        "outputId": "26e0a6d2-2b3c-48e3-95d0-ec39e51b056a"
      },
      "outputs": [
        {
          "output_type": "stream",
          "name": "stdout",
          "text": [
            "x is not exsist\n"
          ]
        }
      ],
      "source": [
        "try:\n",
        "  print(x)\n",
        "except:\n",
        "  print (\"x is not exsist\")\n"
      ]
    },
    {
      "cell_type": "markdown",
      "source": [
        "3. What happens if an exception occurs inside a try block and there is no matching\n",
        "except block?\n",
        "\n",
        "If any exception occurs, the try clause will be skipped and except clause will run. If any exception occurs, but the except clause within the code doesn't handle it, it is passed on to the outer try statements."
      ],
      "metadata": {
        "id": "NX12w-b1KE9A"
      }
    },
    {
      "cell_type": "markdown",
      "source": [
        "4. What is the difference between using a bare except block and specifying a specific\n",
        "exception type?\n",
        "\n",
        "\n",
        "\"except:\" handles all exceptions. \"except Exception:\" handles exceptions derived from the Exception class."
      ],
      "metadata": {
        "id": "4o_AxwibKbWk"
      }
    },
    {
      "cell_type": "markdown",
      "source": [
        "5. Can you have nested try-except blocks in Python? If yes, then give an example.\n",
        "\n",
        "yes"
      ],
      "metadata": {
        "id": "xjw7_QoTK-ms"
      }
    },
    {
      "cell_type": "code",
      "source": [
        "a=10\n",
        "b=0\n",
        "try:\n",
        "   print (a/b)\n",
        "   try:\n",
        "      print (\"This is inner try block\")\n",
        "   except Exception:\n",
        "      print (\"General exception\")\n",
        "   finally:\n",
        "      print (\"inside inner finally block\")\n",
        "\n",
        "except ZeroDivisionError:\n",
        "   print (\"Division by 0\")\n",
        "finally:\n",
        "   print (\"inside outer finally block\")"
      ],
      "metadata": {
        "colab": {
          "base_uri": "https://localhost:8080/"
        },
        "id": "aLZEsFdKJ2D6",
        "outputId": "89e1eb3f-4c62-4d35-ad5f-82bfe0338b0a"
      },
      "execution_count": 4,
      "outputs": [
        {
          "output_type": "stream",
          "name": "stdout",
          "text": [
            "Division by 0\n",
            "inside outer finally block\n"
          ]
        }
      ]
    },
    {
      "cell_type": "markdown",
      "source": [
        "6. Can we use multiple exception blocks, if yes then give an example.\n",
        "\n",
        "yes\n"
      ],
      "metadata": {
        "id": "HXMwkIp_L4EF"
      }
    },
    {
      "cell_type": "code",
      "source": [
        "try:\n",
        "           print('1'+1)\n",
        "           print(sum)\n",
        "           print(1/0)\n",
        "except NameError:\n",
        "           print(\"sum does not exist\")\n",
        "except ZeroDivisionError:\n",
        "           print(\"Cannot divide by 0\")\n",
        "except:\n",
        "           print(\"Something went wrong\")"
      ],
      "metadata": {
        "colab": {
          "base_uri": "https://localhost:8080/"
        },
        "id": "hQaDQg1pLzhl",
        "outputId": "7ce47f37-3554-401a-8792-05264ba37ec8"
      },
      "execution_count": 5,
      "outputs": [
        {
          "output_type": "stream",
          "name": "stdout",
          "text": [
            "Something went wrong\n"
          ]
        }
      ]
    },
    {
      "cell_type": "markdown",
      "source": [
        "7. Write the reason due to which following errors are raised:\n",
        "\n",
        "a. EOFError\n",
        "\n",
        "b. FloatingPointError\n",
        "\n",
        "c. IndexError\n",
        "\n",
        "d. MemoryError\n",
        "\n",
        "e. OverflowError\n",
        "\n",
        "f. TabError\n",
        "\n",
        "g. ValueError\n",
        "\n",
        "\n"
      ],
      "metadata": {
        "id": "evP4gK4WMdSp"
      }
    },
    {
      "cell_type": "code",
      "source": [
        "print(\"End-of-Line Error , This error occurs when Python has reached the end of user input without receiving any input\")"
      ],
      "metadata": {
        "colab": {
          "base_uri": "https://localhost:8080/"
        },
        "id": "ritLZJ_kMciv",
        "outputId": "fd5890b2-96aa-414b-d0dd-bf7cacf6165f"
      },
      "execution_count": 8,
      "outputs": [
        {
          "output_type": "stream",
          "name": "stdout",
          "text": [
            "End-of-Line Error , This error occurs when Python has reached the end of user input without receiving any input\n"
          ]
        }
      ]
    },
    {
      "cell_type": "code",
      "source": [
        "print(\"FloatingPointError in Python indicates that something has gone wrong with a floating point calculation\")"
      ],
      "metadata": {
        "colab": {
          "base_uri": "https://localhost:8080/"
        },
        "id": "Bl4JskL0McgN",
        "outputId": "38336185-ffb6-433a-f9d1-9aa5aaef88c6"
      },
      "execution_count": 9,
      "outputs": [
        {
          "output_type": "stream",
          "name": "stdout",
          "text": [
            "FloatingPointError in Python indicates that something has gone wrong with a floating point calculation\n"
          ]
        }
      ]
    },
    {
      "cell_type": "code",
      "source": [
        "print(\"if you have a list with three items and you try to access the fourth item, you will get an IndexError.\")"
      ],
      "metadata": {
        "colab": {
          "base_uri": "https://localhost:8080/"
        },
        "id": "de0dLMm5Mcd5",
        "outputId": "3fa73547-53d6-4828-e84d-52d5ef9b887d"
      },
      "execution_count": 10,
      "outputs": [
        {
          "output_type": "stream",
          "name": "stdout",
          "text": [
            "if you have a list with three items and you try to access the fourth item, you will get an IndexError.\n"
          ]
        }
      ]
    },
    {
      "cell_type": "code",
      "source": [
        "print(\"the interpreter has run out of memory to allocate to your Python program.\")"
      ],
      "metadata": {
        "colab": {
          "base_uri": "https://localhost:8080/"
        },
        "id": "wysEIhWyMcbr",
        "outputId": "e7ea3c77-2b62-4267-a315-ced4c6df1086"
      },
      "execution_count": 11,
      "outputs": [
        {
          "output_type": "stream",
          "name": "stdout",
          "text": [
            "the interpreter has run out of memory to allocate to your Python program.\n"
          ]
        }
      ]
    },
    {
      "cell_type": "code",
      "source": [
        "print(\"In Python, OverflowError occurs when any operations like arithmetic operations or any other variable storing any value above its limit\")"
      ],
      "metadata": {
        "colab": {
          "base_uri": "https://localhost:8080/"
        },
        "id": "KHHJ9xZrMcZK",
        "outputId": "ab108b2f-17f7-4e74-a567-c7f47d56588c"
      },
      "execution_count": 12,
      "outputs": [
        {
          "output_type": "stream",
          "name": "stdout",
          "text": [
            "In Python, OverflowError occurs when any operations like arithmetic operations or any other variable storing any value above its limit\n"
          ]
        }
      ]
    },
    {
      "cell_type": "code",
      "source": [
        "print(\"TabError occurs when we mix tabs and spaces in the same code block\")"
      ],
      "metadata": {
        "colab": {
          "base_uri": "https://localhost:8080/"
        },
        "id": "pvN_sKT3McXA",
        "outputId": "4c046608-e62b-4886-80ff-51ca1026b4a4"
      },
      "execution_count": 14,
      "outputs": [
        {
          "output_type": "stream",
          "name": "stdout",
          "text": [
            "TabError occurs when we mix tabs and spaces in the same code block\n"
          ]
        }
      ]
    },
    {
      "cell_type": "code",
      "source": [
        "print(\" ValueError is raised when the wrong value is assigned to an object\")"
      ],
      "metadata": {
        "colab": {
          "base_uri": "https://localhost:8080/"
        },
        "id": "Rl5wcUmTMcUi",
        "outputId": "43cecc61-a360-492f-bad6-3b55a1540bfd"
      },
      "execution_count": 15,
      "outputs": [
        {
          "output_type": "stream",
          "name": "stdout",
          "text": [
            " ValueError is raised when the wrong value is assigned to an object\n"
          ]
        }
      ]
    },
    {
      "cell_type": "markdown",
      "source": [
        "8. Write code for the following given scenario and add try-exception block to it.\n",
        "\n",
        "a. Program to divide two numbers\n",
        "\n",
        "b. Program to convert a string to an integer\n",
        "\n",
        "c. Program to access an element in a list\n",
        "\n",
        "d. Program to handle a specific exception\n",
        "\n",
        "e. Program to handle any exception"
      ],
      "metadata": {
        "id": "CoRrQzN7Oeix"
      }
    },
    {
      "cell_type": "code",
      "source": [
        "a=int(input(\"enter no: \"))\n",
        "b=int(input(\"enter no: \"))\n",
        "try:\n",
        "  c=a/b\n",
        "  print(c)\n",
        "except:\n",
        "  print(\"value become infinity\")"
      ],
      "metadata": {
        "colab": {
          "base_uri": "https://localhost:8080/"
        },
        "id": "O4KfT2RsOmYV",
        "outputId": "780ed0ab-b564-4961-97f3-72e6e02dfb4a"
      },
      "execution_count": 17,
      "outputs": [
        {
          "output_type": "stream",
          "name": "stdout",
          "text": [
            "enter no: 0\n",
            "enter no: 12\n",
            "0.0\n"
          ]
        }
      ]
    },
    {
      "cell_type": "code",
      "source": [
        "a=str(input(\"enter no: \"))\n",
        "try:\n",
        "  c=int(a)\n",
        "  print(c)\n",
        "except:\n",
        "  print(\"enter a int value not string\")"
      ],
      "metadata": {
        "colab": {
          "base_uri": "https://localhost:8080/"
        },
        "id": "7PkPx1jdOfHh",
        "outputId": "3dcb44be-33b6-46e9-e3e4-7df7c84b7280"
      },
      "execution_count": 20,
      "outputs": [
        {
          "output_type": "stream",
          "name": "stdout",
          "text": [
            "enter no: ari\n",
            "enter a int value not string\n"
          ]
        }
      ]
    },
    {
      "cell_type": "code",
      "source": [
        "b=int(input(\"enter no: \"))\n",
        "l=[1,3,True,8.30,\"arijit\",\"kolkata\"]\n",
        "try:\n",
        "  x=l[b]\n",
        "  print(x)\n",
        "except:\n",
        "  print(\"there is index error\")"
      ],
      "metadata": {
        "colab": {
          "base_uri": "https://localhost:8080/"
        },
        "id": "Fej1tG4AOfjw",
        "outputId": "b1dffba5-75b5-4f9d-9949-09366a5044f1"
      },
      "execution_count": 22,
      "outputs": [
        {
          "output_type": "stream",
          "name": "stdout",
          "text": [
            "enter no: 16\n",
            "there is index error\n"
          ]
        }
      ]
    },
    {
      "cell_type": "code",
      "source": [
        "try:\n",
        "\n",
        "    even_numbers = [2,4,6,8]\n",
        "    print(even_numbers[5])\n",
        "\n",
        "except ZeroDivisionError:\n",
        "    print(\"Denominator cannot be 0.\")\n",
        "\n",
        "except IndexError:\n",
        "    print(\"Index Out of Bound.\")"
      ],
      "metadata": {
        "colab": {
          "base_uri": "https://localhost:8080/"
        },
        "id": "TI_Zxjf1OfiB",
        "outputId": "1c68a28a-e3dc-4701-a033-32214309c751"
      },
      "execution_count": 23,
      "outputs": [
        {
          "output_type": "stream",
          "name": "stdout",
          "text": [
            "Index Out of Bound.\n"
          ]
        }
      ]
    },
    {
      "cell_type": "code",
      "source": [
        "x = 5\n",
        "y = \"hello\"\n",
        "try:\n",
        "    z = x + y\n",
        "except TypeError:\n",
        "    print(\"Error: cannot add an int and a str\")"
      ],
      "metadata": {
        "colab": {
          "base_uri": "https://localhost:8080/"
        },
        "id": "dEM5LPakOffW",
        "outputId": "90634b0d-0943-4567-fa7b-f4e0380ae9e2"
      },
      "execution_count": 24,
      "outputs": [
        {
          "output_type": "stream",
          "name": "stdout",
          "text": [
            "Error: cannot add an int and a str\n"
          ]
        }
      ]
    },
    {
      "cell_type": "code",
      "source": [],
      "metadata": {
        "id": "vkDyBZN2Ofc5"
      },
      "execution_count": null,
      "outputs": []
    },
    {
      "cell_type": "code",
      "source": [],
      "metadata": {
        "id": "opYPoQIoMXcn"
      },
      "execution_count": null,
      "outputs": []
    }
  ]
}