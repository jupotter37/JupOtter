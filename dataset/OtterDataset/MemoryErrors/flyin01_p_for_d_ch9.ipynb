{
 "cells": [
  {
   "cell_type": "markdown",
   "metadata": {},
   "source": [
    "* ch 9 \n",
    "### Dealing with Errors\n",
    "* Catching Exceptions\n",
    " * Basic Exception Handling\n",
    " * Handling more specific to less specific exceptions\n",
    " * Nested Exception Handling \n",
    "* Raising Exceptions\n",
    "* Creating and Using Custom Exceptions\n",
    "* Using Finally Clause  \n",
    "  \n",
    "Most developers call application errors *exceptions* meanin that they are exception to the rule. The act of detecting and processing an exception is called *error handlig* or *exception handling*. It is important to know when to handle exeptions locally, when to send them to the code that called your code and when to create special excepctions so that every part of the application knows how to handle the exception. There are also times when you must handle exception s gracefully. Python provides ```finally``` clause, which always executes, even when exceptions occurs..  \n",
    "\n",
    "Classifying when errors occur. The two major time frames are:  \n",
    "* Compile time - these are easiest to spot and fix because the application wont run with compile-time errors like syntax error.\n",
    "* Runtime - not all  \n",
    "  \n",
    "Distinguishing erroro types. The trick is to know where to look for errors, Python breaks errors down to these types:  \n",
    "* Syntactical\n",
    "* Semtantic\n",
    "* Logical  \n",
    "  \n",
    "The easiest to find are usually syntactical, followed by semantic and hardest are the logical errors. Example:  \n",
    "  \n",
    "**Syntactical**  \n",
    "Some sort of code typo create a syntactical error, some of these are easy to find since the application wont run. Others are quite hard the reason for, Python is case sensistive and finding the one place where you used the wrong capitalization can be challenging.  \n",
    "  \n",
    "**Semantic**  \n",
    "When you create a loop that executes one too many times you usually dont get any sort of erroro information. The application may happily run since it thinks it is doing everything correctly, but the one additional loop can cause some sort of data errors. So code is correct but the implementaiton is wrong.  \n",
    "  \n",
    "**Logical**  \n",
    "Locigal errors occur when developer thinking is faulty. This can many times happen when relational operators are used incorrectly or in other ways like developer assumes the application will always use local data which means the app will behave in unusual way when accessing remote data. Locial problems can be quite hard to fix since the cause is not the actual code, more the code is incorrectly defined since the thought process that went into creating the code is faulty. Thus the developer who created it is less likely to find it. Using a second pair of eyes or pair review can help finding this erroros."
   ]
  },
  {
   "cell_type": "markdown",
   "metadata": {},
   "source": [
    "**Catching Exceptions**  \n",
    "Generally speaking, a user should never see an excepiton dialog box. Your application should always catch the exception and handle it before the user sees it. Of course, reality is different. But catching every potential exception is still the goal when developing an application.  \n",
    "  \n",
    "Python comes with a bunch of built-in exceptions. See the this [link](https://docs.python.org/3/library/exceptions.html). Here are some:  \n",
    "* Base classes:  \n",
    "Provide essential building blocks like ```ArithmeticError``` exception  \n",
    "* Concrete exceptions:  \n",
    "Apps can experience hard errors. For example when system runs out of memory, ```MemoryError```. Recovering from this might be hard. When user presses interrupt key such as Ctrl+C or Delete, ```KeyboardInterrupt``` the app must handling this exception before proceeding.  \n",
    "* OS exceptions:  \n",
    "For example if application tries to open a file that doest not exists ```FileNotFoundError``` exception is raised.  \n",
    "* Warnings:  \n",
    "If you try to use inapproriately a resource such as an icon ```ResourceWarning```, but this is a warning and not a actual error.  \n",
    "  \n",
    "**Basic Exception Handling**  \n",
    "To handle exceptions we must tell Python that we want to do so and provide code to perform the handling task.  \n",
    "  \n",
    "Handling a single exception.  \n",
    "For example when user provides unexpected `input()` values. We can provide range checking but this does not over come when user type text in place of expected numeric value. Exception handling provides a more complext solution to this problem."
   ]
  },
  {
   "cell_type": "code",
   "execution_count": 1,
   "metadata": {},
   "outputs": [
    {
     "name": "stdin",
     "output_type": "stream",
     "text": [
      "Type a number between 1 and 10:  5\n"
     ]
    },
    {
     "name": "stdout",
     "output_type": "stream",
     "text": [
      "You typed:  5\n"
     ]
    }
   ],
   "source": [
    "# using try except\n",
    "try:\n",
    "    Value = int(input(\"Type a number between 1 and 10: \"))\n",
    "except ValueError:\n",
    "    print(\"You must type a number between 1 and 10!\")\n",
    "else:\n",
    "    \n",
    "    if (Value > 0) and (Value <= 10):\n",
    "        print(\"You typed: \", Value)\n",
    "    else:\n",
    "        print(\"The value you typed is incorrect!\")"
   ]
  },
  {
   "cell_type": "markdown",
   "metadata": {},
   "source": [
    "The code within the ```try``` block has its exception handled. In this case the exception means getting input from user using the ```int(input())```. If an exception occurs outside this block, the code does not handle it. The temptation might be high to enclose all the executable code in a ```try``` block so that every exception would be handled. But we want to make the exception handling small and specific to make locating the problem easier.  \n",
    "  \n",
    "The ```except``` block looks for a specific exception: ```ValueError```, when the user creates this exception by typing a string instead of a numeric value, this exception block is executed. If a user generates some other exception this ```except``` block will not handle it.  \n",
    "  \n",
    "The ```else``` part contains the code that is executed when the ```try``` block code is successful, i.e when it does not generate an exception. The remainder of the code is in this block because we dont want to execute it unless the user does provide valid input. When the user gives a whole number of input, the code can then do the range check to ensure it is correct.  \n",
    "  \n",
    "**Using the except clause withouth an exception**  \n",
    "In most cases we want to provide a specific exception when performing exception handling for various reasons like handling excepitons correctly using specific code for that exception. But sometimes we may need to generate exception-handling such as when working with a third-party library or interaction with external service. We can do this using the ```except``` as below."
   ]
  },
  {
   "cell_type": "code",
   "execution_count": 2,
   "metadata": {},
   "outputs": [
    {
     "name": "stdin",
     "output_type": "stream",
     "text": [
      "Type a number between 1 and 10:  asdf\n"
     ]
    },
    {
     "name": "stdout",
     "output_type": "stream",
     "text": [
      "You must type a number between 1 and 10!\n"
     ]
    }
   ],
   "source": [
    "# using try except\n",
    "try:\n",
    "    Value = int(input(\"Type a number between 1 and 10: \"))\n",
    "except:\n",
    "    print(\"You must type a number between 1 and 10!\")\n",
    "else:\n",
    "    \n",
    "    if (Value > 0) and (Value <= 10):\n",
    "        print(\"You typed: \", Value)\n",
    "    else:\n",
    "        print(\"The value you typed is incorrect!\")"
   ]
  },
  {
   "cell_type": "markdown",
   "metadata": {},
   "source": [
    "Working with exception arguments.  \n",
    "Most exceptions dont provide arguments, i.e a list of values that we can check with additonal info. Exception either occurs or not. However, a few exception provide arguments, it tells us more about the exception and provide details we need to correct it."
   ]
  },
  {
   "cell_type": "code",
   "execution_count": 9,
   "metadata": {},
   "outputs": [
    {
     "name": "stdout",
     "output_type": "stream",
     "text": [
      "Error opening file!\n",
      "Error Number: 2\n",
      "Error Test: No such file or directory\n"
     ]
    }
   ],
   "source": [
    "# exception with arguments\n",
    "import sys\n",
    "\n",
    "try:\n",
    "    File = open('myfile.txt')\n",
    "except IOError as e:\n",
    "    print(\"Error opening file!\\r\\n\" +\n",
    "         \"Error Number: {0}\\r\\n\".format(e.errno) +\n",
    "         \"Error Test: {0}\".format(e.strerror))\n",
    "else:\n",
    "    print(\"File opened as expected.\")\n",
    "    File.close()"
   ]
  },
  {
   "cell_type": "markdown",
   "metadata": {},
   "source": [
    "Trying to open a file that does not exist generates `IOError` exception. This particular exception provides access to two arguments:\n",
    "* `errno` Provides the operatin system error number as an integer\n",
    "* `sterror` Contains the error information in a human readable string."
   ]
  },
  {
   "cell_type": "code",
   "execution_count": 10,
   "metadata": {},
   "outputs": [
    {
     "ename": "FileNotFoundError",
     "evalue": "[Errno 2] No such file or directory: 'myfile.txt'",
     "output_type": "error",
     "traceback": [
      "\u001b[1;31m---------------------------------------------------------------------------\u001b[0m",
      "\u001b[1;31mFileNotFoundError\u001b[0m                         Traceback (most recent call last)",
      "\u001b[1;32m<ipython-input-10-681c205d76b6>\u001b[0m in \u001b[0;36m<module>\u001b[1;34m\u001b[0m\n\u001b[1;32m----> 1\u001b[1;33m \u001b[0mFile\u001b[0m \u001b[1;33m=\u001b[0m \u001b[0mopen\u001b[0m\u001b[1;33m(\u001b[0m\u001b[1;34m'myfile.txt'\u001b[0m\u001b[1;33m)\u001b[0m\u001b[1;33m\u001b[0m\u001b[1;33m\u001b[0m\u001b[0m\n\u001b[0m",
      "\u001b[1;31mFileNotFoundError\u001b[0m: [Errno 2] No such file or directory: 'myfile.txt'"
     ]
    }
   ],
   "source": [
    "# see below for the error when not handled with the except as above\n",
    "File = open('myfile.txt')"
   ]
  },
  {
   "cell_type": "code",
   "execution_count": 12,
   "metadata": {},
   "outputs": [
    {
     "name": "stdout",
     "output_type": "stream",
     "text": [
      "2\n",
      "No such file or directory\n"
     ]
    }
   ],
   "source": [
    "# Get a list of exception arguments\n",
    "import sys\n",
    "\n",
    "try:\n",
    "    File = open('myfile.txt')\n",
    "except IOError as e:\n",
    "    for Arg in e.args:\n",
    "        print(Arg)\n",
    "else:\n",
    "    print(\"File opened as expected.\")\n",
    "    File.close()"
   ]
  },
  {
   "cell_type": "markdown",
   "metadata": {},
   "source": [
    "The `args` property always contains a list of exception arguments in a string format. We can use a `for` loop to print each argument. The only problem is that we are missing the argument names, so we know the output information (which is obvious in this case), but we dont know what to call it.  \n",
    "  \n",
    "Below code displays both the names and the values of each of the arguments."
   ]
  },
  {
   "cell_type": "code",
   "execution_count": 19,
   "metadata": {},
   "outputs": [
    {
     "name": "stdout",
     "output_type": "stream",
     "text": [
      "args  =  (2, 'No such file or directory')\n",
      "Attribute  characters_written  not accessible.\n",
      "errno  =  2\n",
      "filename  =  myfile.txt\n",
      "filename2  =  None\n",
      "strerror  =  No such file or directory\n",
      "winerror  =  None\n",
      "with_traceback  =  <built-in method with_traceback of FileNotFoundError object at 0x0000020F98BFE9C0>\n"
     ]
    }
   ],
   "source": [
    "import sys\n",
    "\n",
    "try:\n",
    "    File = open('myfile.txt')\n",
    "\n",
    "except IOError as e:\n",
    "    for Entry in dir(e):\n",
    "        if (not Entry.startswith(\"_\")):\n",
    "            try:\n",
    "                print(Entry, \" = \", e.__getattribute__(Entry))\n",
    "            except AttributeError:\n",
    "                print(\"Attribute \", Entry, \" not accessible.\")\n",
    "else:\n",
    "    Print(\"File opened as expected.\")\n",
    "    File.close()"
   ]
  },
  {
   "cell_type": "markdown",
   "metadata": {},
   "source": [
    "The output of `dir()` function is a list of strings containing the names of the attributes that you can print. Only arguments that dont start with an underscore (_) contain useful info about the exception.  \n",
    "  \n",
    "Handling multiple exceptions with a single except clause."
   ]
  },
  {
   "cell_type": "code",
   "execution_count": 24,
   "metadata": {},
   "outputs": [
    {
     "name": "stdin",
     "output_type": "stream",
     "text": [
      "Type a number between 1 and 10: 55\n"
     ]
    },
    {
     "name": "stdout",
     "output_type": "stream",
     "text": [
      "The value you typed is not correct\n"
     ]
    }
   ],
   "source": [
    "# multiple exception with single except clause\n",
    "try:\n",
    "    Value = int(input(\"Type a number between 1 and 10:\"))\n",
    "\n",
    "except (ValueError, KeyboardInterrupt):\n",
    "    print(\"You must type a number between 1 and 10!\")\n",
    "else:\n",
    "    \n",
    "    if (Value > 0) and (Value <= 10):\n",
    "        print(\"You typed: \", Value)\n",
    "    else:\n",
    "        print(\"The value you typed is not correct\")"
   ]
  },
  {
   "cell_type": "markdown",
   "metadata": {},
   "source": [
    "Note that the `except`clause now has both a `ValueError`and a `KeyboardInterrupt` exception. These exception appear within parentheses and are separated by commas.  \n",
    "  \n",
    "Handling multiple exceptions with multiple except clause."
   ]
  },
  {
   "cell_type": "code",
   "execution_count": 26,
   "metadata": {},
   "outputs": [
    {
     "name": "stdin",
     "output_type": "stream",
     "text": [
      "Type a number between 1 and 10: 2345\n"
     ]
    },
    {
     "name": "stdout",
     "output_type": "stream",
     "text": [
      "The value you typed is incorrect!\n"
     ]
    }
   ],
   "source": [
    "# multiple exceptions, multiple except clauses\n",
    "try:\n",
    "    Value = int(input(\"Type a number between 1 and 10:\"))\n",
    "except ValueError:\n",
    "    print(\"You must enter a number between 1 and 10!\")\n",
    "except KeyboardInterrupt:\n",
    "    print(\"You pressed Ctrl+C!\")\n",
    "else:\n",
    "    \n",
    "    if (Value > 0) and (Value <= 10):\n",
    "        print(\"You typed: \", Value)\n",
    "    else:\n",
    "        print(\"The value you typed is incorrect!\")"
   ]
  },
  {
   "cell_type": "markdown",
   "metadata": {},
   "source": [
    "**Handling more specific to less specific exceptions**  \n",
    "One way to handling exceptions is to provide specific `except`clauses for all known exceptions and generic `except`clause for unknown exceptions. When working with math errors, you can use the generic `ArithmeticError` or more specific `ZeroDivisionError` exception."
   ]
  },
  {
   "cell_type": "code",
   "execution_count": 12,
   "metadata": {},
   "outputs": [
    {
     "name": "stdin",
     "output_type": "stream",
     "text": [
      "Type the first number:  56\n",
      "Type the second number:  0\n"
     ]
    },
    {
     "name": "stdout",
     "output_type": "stream",
     "text": [
      "Attempted to divide by zero\n"
     ]
    }
   ],
   "source": [
    "# Arithmetic and Zero division exceptions\n",
    "\n",
    "try:\n",
    "    Value1 = int(input(\"Type the first number: \"))\n",
    "    Value2 = int(input(\"Type the second number: \"))\n",
    "    Output = Value1 / Value2\n",
    "except ValueError:\n",
    "    print(\"You must type a whole number\")\n",
    "except KeyboardInterrupt:\n",
    "    print(\"You ppushed Ctrl+C.\")\n",
    "except ZeroDivisionError:\n",
    "    print(\"Attempted to divide by zero\")\n",
    "except ArithmeticError:\n",
    "    print(\"An undefined math error occured.\")\n",
    "\n",
    "else:\n",
    "    print(Output)"
   ]
  },
  {
   "cell_type": "markdown",
   "metadata": {},
   "source": [
    "**Nested exception handling**  \n",
    "Sometimes you need to put one exception-handling routine within another in a process called *nesting*. When you next exception-handling routines, Python tries to find an exception handler in the nested level first and then in the outer layers.  \n",
    "  \n",
    "One common reasons to use dual layer of exception-handling is when you want to obtain input from user and need to place the input code in a loop to ensure we actually get the required information."
   ]
  },
  {
   "cell_type": "code",
   "execution_count": 15,
   "metadata": {},
   "outputs": [
    {
     "name": "stdin",
     "output_type": "stream",
     "text": [
      "Type a whole number.  a\n"
     ]
    },
    {
     "name": "stdout",
     "output_type": "stream",
     "text": [
      "You must type a whole number!\n"
     ]
    },
    {
     "name": "stdin",
     "output_type": "stream",
     "text": [
      "Try again (y/n)?  y\n",
      "Type a whole number.  a\n"
     ]
    },
    {
     "name": "stdout",
     "output_type": "stream",
     "text": [
      "You must type a whole number!\n"
     ]
    },
    {
     "name": "stdin",
     "output_type": "stream",
     "text": [
      "Try again (y/n)?  y\n",
      "Type a whole number.  asdf\n"
     ]
    },
    {
     "name": "stdout",
     "output_type": "stream",
     "text": [
      "You must type a whole number!\n"
     ]
    },
    {
     "name": "stdin",
     "output_type": "stream",
     "text": [
      "Try again (y/n)?  y\n",
      "Type a whole number.  5\n"
     ]
    },
    {
     "name": "stdout",
     "output_type": "stream",
     "text": [
      "5\n"
     ]
    }
   ],
   "source": [
    "# nested exception handling\n",
    "TryAgain = True\n",
    "\n",
    "while TryAgain:\n",
    "    \n",
    "    try:\n",
    "        Value = int(input(\"Type a whole number. \"))\n",
    "    except ValueError:\n",
    "        print(\"You must type a whole number!\")\n",
    "        \n",
    "        try:\n",
    "            DoOver = input(\"Try again (y/n)? \")\n",
    "        except:\n",
    "            print(\"OK, see you next time!\")\n",
    "            TryAgain = False\n",
    "        else:\n",
    "            if (str.upper(DoOver) == \"N\"):\n",
    "                TryAgain = False\n",
    "    \n",
    "    except KeyboardInterrupt:\n",
    "        print(\"You pressed Ctrl+C!\")\n",
    "        print(\"See you next time!\")\n",
    "        TryAgain = False\n",
    "    else:\n",
    "        print(Value)\n",
    "        TryAgain = False"
   ]
  },
  {
   "cell_type": "markdown",
   "metadata": {},
   "source": [
    "The code above starts by creating a input loop. Using loops for this type of purpose is actually common in applications because we dont want the application to end every time an input error is made. This is a simplified loop, and normally you create a separate function to hold the code.  \n",
    "  \n",
    "When the loop starts, the app asks user to type a whole number (any integer). If user types any non-integer value or presses Ctrl+C or any interrupt key combo the exception-handling code takes over. Otherwise, the app print the use supplied value and sets `TryAgain`to `False`which causes the loop to end.  \n",
    "  \n",
    "A `ValueError` exception can occur when the user makes a mistake. Since we dont know why the user input the wrong value we have to ask if the user wants to try again. Getting more input from the user could generate another exception. The innter `try`... `except` code block handles this secondary input.  \n",
    "  \n",
    "The use of `str.upper()` funciton makes it possible to receive `y`or `Y`as input and accept them both. When we ask user for input it is good to convert lowercase characters to uppercase so we can perform single comparison and reducing potential errors.  \n",
    "  \n",
    "**Raising Exceptions**  \n",
    "So far we have reacted to exception, something happens and the application provides error-handling support for that event. However, situations arise for which you man not know how to handle an error event during the application design process. Maybe we cannot handle the error at a particular level and need to pass it upt to some other level to handle. In some situations our app must generate an exception. This act is called *raising* (or *throwing*) and exception."
   ]
  },
  {
   "cell_type": "code",
   "execution_count": 17,
   "metadata": {},
   "outputs": [
    {
     "name": "stdout",
     "output_type": "stream",
     "text": [
      "ValueError Exception!\n"
     ]
    }
   ],
   "source": [
    "# This shows how raising an exception works at its most basic level, we would never actually create code like this\n",
    "try:\n",
    "    raise ValueError\n",
    "except ValueError:\n",
    "    print(\"ValueError Exception!\")"
   ]
  },
  {
   "cell_type": "markdown",
   "metadata": {},
   "source": [
    "Note that the `try` ... `except` block lacks an `else` clause since there is nothing to do after the call. Although you rarely use a `try`...`except` block in this manner, you can. We may encounter situations like this sometimes and we need to remember that adding the `else` clause is optional. On the other hand we must add at least one `except` clause.  \n",
    "  \n",
    "**Passing error information to the caller**  \n",
    "You can pass information about error to the *caller* (the code that is calling our code) no matter which exception you use. Of course, the caller might not know that the information is available, which leads to a lot of discussion on this topic."
   ]
  },
  {
   "cell_type": "code",
   "execution_count": 19,
   "metadata": {},
   "outputs": [
    {
     "name": "stdout",
     "output_type": "stream",
     "text": [
      "ValueError Exception! Value must be within and 10.\n"
     ]
    }
   ],
   "source": [
    "try:\n",
    "    Ex = ValueError()\n",
    "    Ex.strerror = \"Value must be within and 10.\"\n",
    "    raise Ex\n",
    "except ValueError as e:\n",
    "    print(\"ValueError Exception!\", e.strerror)"
   ]
  },
  {
   "cell_type": "markdown",
   "metadata": {},
   "source": [
    "The `ValueError` exception does not normally provide an attribute named `strerror` (common for string error), but we can add it simply by assessing a value to it as shown. When this example raises the exception, the `except` clause handles it as usual but obtains acces to the attributes using `e`. We can then access the `e.strerror` member to obtain the added information.  \n",
    "  \n",
    "**Creating and Using Custom Exceptions**  \n",
    "We should use the standard exceptions that Pyhton provides when possible. These exception are very flexible. But sometimes we must create a custom exception since none of the standard will work."
   ]
  },
  {
   "cell_type": "code",
   "execution_count": 21,
   "metadata": {},
   "outputs": [
    {
     "name": "stdout",
     "output_type": "stream",
     "text": [
      "CustomValueError Exception! Value must be within 1 and 10.\n"
     ]
    }
   ],
   "source": [
    "# customer exception\n",
    "class CustomValueError(ValueError):\n",
    "    def __init__(self, arg):\n",
    "        self.strerror = arg\n",
    "        self.args = (arg)\n",
    "        \n",
    "try:\n",
    "    raise CustomValueError(\"Value must be within 1 and 10.\")\n",
    "except CustomValueError as e:\n",
    "    print(\"CustomValueError Exception!\", e.strerror)"
   ]
  },
  {
   "cell_type": "markdown",
   "metadata": {},
   "source": [
    "Above examle replicates the functionality of the example \"Passing error info to the caller\", but it places the same error in both `strerror` and `args` so that the developer has access to either.  \n",
    "  \n",
    "The code starts by creating the `CustomValueError` class tha uses the `ValueError` exception class as a starting point. The `__init__()` function provides the means for creating a new instance of that class. Think of the class as a blueprint and the instance as the building created from the blueprint.  Notice the `strerror` attributes has the value assigned directly to it, but `args` receives it as an array. The `args` member normally contains an array of all the exception values, so this is standard procedure, even if `args` contains just one value as for now.  \n",
    "  \n",
    "The code for using exception is much easier than modifying `ValueError`directly. We just call `raise` with the name of the exception and the arguments we want to pass in one line.  \n",
    "  \n",
    "**Using the finally Clause**  \n",
    "Normally we want to handle any exception that occurs in a wa that does not crash our application. But, sometimes we cannot do anything to fix the problem, and the app is most definitely going to crash. At this point, we want to cause the application to crash gracefully, which means closing files so that the user does not lose data etc. What ever we can do to minimize damage to the data and system is essential part of handling data for crashing application.  \n",
    "  \n",
    "The `finally` clause is part of crashing-application strategy. We use it to perform any required last-moment taks. Normally, the `finally` clause is quite hsort and uses only calls that are likely to succeed without further problem. It is essential to close the files, log the user off and perform similar required tasks and then let the app crash before something terrible happens (like total system failure)."
   ]
  },
  {
   "cell_type": "code",
   "execution_count": 23,
   "metadata": {},
   "outputs": [
    {
     "name": "stdout",
     "output_type": "stream",
     "text": [
      "Raising an exception\n",
      "Taking care of last minute details.\n",
      "This code will never execute.\n"
     ]
    }
   ],
   "source": [
    "import sys\n",
    "\n",
    "try:\n",
    "    ##raise ValueError\n",
    "    print(\"Raising an exception\")\n",
    "except ValueError:\n",
    "    print(\"ValueError Exception!\")\n",
    "    sys.exit()\n",
    "finally:\n",
    "    print(\"Taking care of last minute details.\")\n",
    "\n",
    "print(\"This code will never execute.\")"
   ]
  },
  {
   "cell_type": "markdown",
   "metadata": {},
   "source": [
    "The `finally` code alway executes. It does not matter if the exception happens or not. The code we put in this block needs to be common code that we always want to execute. For example, when working with a file, you plase the code to close the file into this block to ensure that the data is not damaged by remaining in the memory rather than going to disk."
   ]
  }
 ],
 "metadata": {
  "kernelspec": {
   "display_name": "Python 3",
   "language": "python",
   "name": "python3"
  },
  "language_info": {
   "codemirror_mode": {
    "name": "ipython",
    "version": 3
   },
   "file_extension": ".py",
   "mimetype": "text/x-python",
   "name": "python",
   "nbconvert_exporter": "python",
   "pygments_lexer": "ipython3",
   "version": "3.8.5"
  }
 },
 "nbformat": 4,
 "nbformat_minor": 4
}
