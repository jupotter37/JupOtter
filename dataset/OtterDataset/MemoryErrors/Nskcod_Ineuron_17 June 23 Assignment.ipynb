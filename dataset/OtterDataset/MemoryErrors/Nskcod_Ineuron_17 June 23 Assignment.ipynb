{
 "cells": [
  {
   "cell_type": "markdown",
   "id": "d11e09b8",
   "metadata": {},
   "source": [
    "# 1) What is the role of try and exception block?\n",
    "->  A try-catch (or try-except) block is used to handle    exceptions or errors that might occur during the execution of a program.\n",
    "\n",
    "-> The primary purpose of a try-catch block is to gracefully handle these exceptions to prevent the program from crashing and to  provide a mechanism for error reporting or recovery.\n",
    "\n",
    "-> Syntax:\n",
    "try:\n",
    "    # Code that might raise an exception\n",
    "except ExceptionType:\n",
    "    # Code to handle the exception\n",
    "\n",
    "-> Try Block: The try block encloses the code that might potentially throw an exception.\n",
    "-> Exception: An exception is an event or error condition that occurs during program execution and disrupts the normal flow of the program."
   ]
  },
  {
   "cell_type": "markdown",
   "id": "7d1367e9",
   "metadata": {},
   "source": [
    "# 2) What is the syntax for a basic try-except block?\n",
    "-> Syntax:\n",
    "    try:\n",
    "    # Code that might raise an exception\n",
    "    except ExceptionType:\n",
    "    # Code to handle the exception\n",
    "-> try: The try keyword starts the try block, which contains the code that might raise an exception.\n",
    "-> except: The except keyword is used to catch and handle exceptions. \n",
    "-> ExceptionType: This is the type of exception you want to catch.\n",
    "                  It can be a specific exception type, such as ZeroDivisionError or ValueError, or a more general exception type                   like Exception to catch all exceptions. \n",
    "        "
   ]
  },
  {
   "cell_type": "markdown",
   "id": "82cf3132",
   "metadata": {},
   "source": [
    "# 3) What happens if an exception occurs inside a try block and there is no matching except block?\n",
    "\n",
    "-> If an exception occurs inside a try block and there is no matching except block to catch and handle that exception, the program will terminate abruptly, and an error message or traceback will be displayed to indicate the unhandled exception.\n",
    "\n",
    "-> This behavior is often referred to as an \"unhandled exception\" or \"uncaught exception,\" and it can lead to the program crashing or becoming unstable."
   ]
  },
  {
   "cell_type": "markdown",
   "id": "7ebe16fa",
   "metadata": {},
   "source": [
    "# 4) What is the difference between using a bare except block and specifying a specific exception type?\n",
    "\n",
    "-> Specific Exception Type:\n",
    "    -> When you specify a specific exception type in an except block, you are catching and handling only exceptions of that            type. \n",
    "    -> try:\n",
    "           result = 10 / 0  # This will raise a ZeroDivisionError\n",
    "       except ZeroDivisionError:\n",
    "           print(\"Division by zero is not allowed.\")\n",
    "\n",
    "-> Bare except Block (Generic Exception Handling):\n",
    "    -> A bare except block does not specify a particular exception type, which means it can catch and handle any exception that        occurs within the try block.\n",
    "    -> try:\n",
    "         result = 10 / 0  # This will raise a ZeroDivisionError\n",
    "       except:\n",
    "         print(\"An error occurred.\")\n"
   ]
  },
  {
   "cell_type": "markdown",
   "id": "d681fef2",
   "metadata": {},
   "source": [
    "# 5) Can you have nested try-except blocks in Python? If yes, then give an example.\n",
    "\n",
    "-> Yes, you can have nested try-except blocks in Python.\n",
    "-> Nested try-except blocks allow you to handle exceptions at different levels of granularity, providing more fine-grained control over how exceptions are handled within your code. \n",
    "-> Example:\n",
    "    \n",
    "try:\n",
    "    # Outer try block\n",
    "    numerator = int(input(\"Enter the numerator: \"))\n",
    "    denominator = int(input(\"Enter the denominator: \"))\n",
    "\n",
    "    try:\n",
    "        # Inner try block\n",
    "        result = numerator / denominator\n",
    "        print(\"Result:\", result)\n",
    "    except ZeroDivisionError:\n",
    "        print(\"Error: Division by zero is not allowed.\")\n",
    "except ValueError:\n",
    "    print(\"Error: Please enter valid integers for numerator and denominator.\")\n",
    "except KeyboardInterrupt:\n",
    "    print(\"Operation aborted by the user.\")\n",
    "    "
   ]
  },
  {
   "cell_type": "code",
   "execution_count": 2,
   "id": "d474433f",
   "metadata": {},
   "outputs": [
    {
     "name": "stdout",
     "output_type": "stream",
     "text": [
      "Enter the numerator: 25\n",
      "Enter the denominator: 5.0\n",
      "Error: Please enter valid integers for numerator and denominator.\n"
     ]
    }
   ],
   "source": [
    "try:\n",
    "    # Outer try block\n",
    "    numerator = int(input(\"Enter the numerator: \"))\n",
    "    denominator = int(input(\"Enter the denominator: \"))\n",
    "\n",
    "    try:\n",
    "        # Inner try block\n",
    "        result = numerator / denominator\n",
    "        print(\"Result:\", result)\n",
    "    except ZeroDivisionError:\n",
    "        print(\"Error: Division by zero is not allowed.\")\n",
    "except ValueError:\n",
    "    print(\"Error: Please enter valid integers for numerator and denominator.\")\n",
    "except KeyboardInterrupt:\n",
    "    print(\"Operation aborted by the user.\")\n"
   ]
  },
  {
   "cell_type": "markdown",
   "id": "794f50da",
   "metadata": {},
   "source": [
    "# 6) Can we use multiple exception blocks, if yes then give an example.\n",
    "\n",
    "-> Yes, you can use multiple except blocks in a single try block to handle different types of exceptions in Python.\n",
    "-> Example:\n",
    "    \n",
    "try:\n",
    "    num_str = input(\"Enter a number: \")\n",
    "    num = int(num_str)\n",
    "    result = 10 / num\n",
    "    print(\"Result:\", result)\n",
    "except ValueError:\n",
    "    print(\"Invalid input. Please enter a valid number.\")\n",
    "except ZeroDivisionError:\n",
    "    print(\"Division by zero is not allowed.\")\n",
    "except KeyboardInterrupt:\n",
    "    print(\"Operation aborted by the user.\")\n",
    "    "
   ]
  },
  {
   "cell_type": "code",
   "execution_count": 4,
   "id": "caa44f91",
   "metadata": {},
   "outputs": [
    {
     "name": "stdout",
     "output_type": "stream",
     "text": [
      "Enter a number: 0\n",
      "Division by zero is not allowed.\n"
     ]
    }
   ],
   "source": [
    "try:\n",
    "    num_str = input(\"Enter a number: \")\n",
    "    num = int(num_str)\n",
    "    result = 10 / num\n",
    "    print(\"Result:\", result)\n",
    "except ValueError:\n",
    "    print(\"Invalid input. Please enter a valid number.\")\n",
    "except ZeroDivisionError:\n",
    "    print(\"Division by zero is not allowed.\")\n",
    "except KeyboardInterrupt:\n",
    "    print(\"Operation aborted by the user.\")\n"
   ]
  },
  {
   "cell_type": "markdown",
   "id": "ee5d1c64",
   "metadata": {},
   "source": [
    "# 7) Write the reason due to which following errors are raised:\n",
    "a. EOFError\n",
    "b. FloatingPointError\n",
    "c. IndexError\n",
    "d. MemoryError\n",
    "e. OverflowError\n",
    "f. TabError\n",
    "g. ValueError\n",
    "\n",
    "->\n",
    "   a) EOFError:\n",
    "      Raised when an operation hits an end-of-file condition while working with files or streams, typically when trying to read       beyond the end of the file.\n",
    "        \n",
    "   b) FloatingPointError:\n",
    "      Raised when a floating-point operation (e.g., division by zero, overflow) results in an exceptional condition.\n",
    "        \n",
    "   c) IndexError:\n",
    "      Raised when trying to access an index that is out of range for a sequence (e.g., list, tuple, string).\n",
    "        \n",
    "   d) MemoryError:\n",
    "      Raised when the program runs out of memory, typically because it exceeds the system's available memory.\n",
    " \n",
    "   e) OverflowError:\n",
    "      Raised when an arithmetic operation exceeds the limits of the numeric data type.\n",
    "    \n",
    "   f) TabError:\n",
    "      Raised when there is an issue with the indentation of code, typically when mixing tabs and spaces or using the wrong             indentation level.\n",
    "        \n",
    "   g) ValueError:\n",
    "      Raised when an operation or function receives an argument of the correct data type but an inappropriate value.\n",
    "        "
   ]
  },
  {
   "cell_type": "markdown",
   "id": "1f2c300c",
   "metadata": {},
   "source": [
    "# 8) Write code for the following given scenario and add try-exception block to it.\n",
    "a. Program to divide two numbers\n",
    "b. Program to convert a string to an integer\n",
    "c. Program to access an element in a list\n",
    "d. Program to handle a specific exception\n",
    "e. Program to handle any exception\n"
   ]
  },
  {
   "cell_type": "code",
   "execution_count": 5,
   "id": "551f4756",
   "metadata": {},
   "outputs": [
    {
     "name": "stdout",
     "output_type": "stream",
     "text": [
      "Enter the numerator: 15\n",
      "Enter the denominator: 2\n",
      "Result: 7.5\n"
     ]
    }
   ],
   "source": [
    "#  Program to divide two numbers:\n",
    "\n",
    "try:\n",
    "    numerator = float(input(\"Enter the numerator: \"))\n",
    "    denominator = float(input(\"Enter the denominator: \"))\n",
    "    result = numerator / denominator\n",
    "    print(\"Result:\", result)\n",
    "except ZeroDivisionError:\n",
    "    print(\"Error: Division by zero is not allowed.\")\n",
    "except ValueError:\n",
    "    print(\"Error: Please enter valid numeric values for numerator and denominator.\")\n",
    "except Exception as e:\n",
    "    print(f\"An unexpected error occurred: {e}\")\n"
   ]
  },
  {
   "cell_type": "code",
   "execution_count": 6,
   "id": "c5ce8361",
   "metadata": {},
   "outputs": [
    {
     "name": "stdout",
     "output_type": "stream",
     "text": [
      "Enter an integer: abc\n",
      "Error: Invalid input. Please enter a valid integer.\n"
     ]
    }
   ],
   "source": [
    "# Program to convert a string to an integer:\n",
    "\n",
    "try:\n",
    "    num_str = input(\"Enter an integer: \")\n",
    "    num = int(num_str)\n",
    "    print(\"You entered:\", num)\n",
    "except ValueError:\n",
    "    print(\"Error: Invalid input. Please enter a valid integer.\")\n",
    "except Exception as e:\n",
    "    print(f\"An unexpected error occurred: {e}\")\n"
   ]
  },
  {
   "cell_type": "code",
   "execution_count": 7,
   "id": "4a082f15",
   "metadata": {},
   "outputs": [
    {
     "name": "stdout",
     "output_type": "stream",
     "text": [
      "Enter an index: 4\n",
      "Error: Index is out of range.\n"
     ]
    }
   ],
   "source": [
    "# Program to access an element in a list:\n",
    "\n",
    "try:\n",
    "    my_list = [1, 2, 3]\n",
    "    index = int(input(\"Enter an index: \"))\n",
    "    value = my_list[index]\n",
    "    print(\"Value at index\", index, \"is:\", value)\n",
    "except IndexError:\n",
    "    print(\"Error: Index is out of range.\")\n",
    "except ValueError:\n",
    "    print(\"Error: Please enter a valid integer for the index.\")\n",
    "except Exception as e:\n",
    "    print(f\"An unexpected error occurred: {e}\")\n"
   ]
  },
  {
   "cell_type": "code",
   "execution_count": 11,
   "id": "a4f3c93f",
   "metadata": {},
   "outputs": [
    {
     "name": "stdout",
     "output_type": "stream",
     "text": [
      "Enter your age: ?\n",
      "Error: invalid literal for int() with base 10: '?'\n"
     ]
    }
   ],
   "source": [
    "# Program to handle a specific exception:\n",
    "\n",
    "try:\n",
    "    age = int(input(\"Enter your age: \"))\n",
    "    if age < 18:\n",
    "        raise ValueError(\"Age cannot be negative.\")\n",
    "    print(\"Your age is:\", age)\n",
    "except ValueError as ve:\n",
    "    print(f\"Error: {ve}\")\n",
    "except Exception as e:\n",
    "    print(f\"An unexpected error occurred: {e}\")\n"
   ]
  },
  {
   "cell_type": "code",
   "execution_count": 12,
   "id": "f2c4a6a8",
   "metadata": {},
   "outputs": [
    {
     "name": "stdout",
     "output_type": "stream",
     "text": [
      "An error occurred: division by zero\n"
     ]
    }
   ],
   "source": [
    "#  Program to handle any exception:\n",
    "\n",
    "try:\n",
    "    # Code that may raise exceptions\n",
    "    result = 10 / 0  # This will raise a ZeroDivisionError\n",
    "except Exception as e:\n",
    "    print(f\"An error occurred: {e}\")\n"
   ]
  },
  {
   "cell_type": "code",
   "execution_count": null,
   "id": "b6f25dc4",
   "metadata": {},
   "outputs": [],
   "source": []
  }
 ],
 "metadata": {
  "kernelspec": {
   "display_name": "Python 3 (ipykernel)",
   "language": "python",
   "name": "python3"
  },
  "language_info": {
   "codemirror_mode": {
    "name": "ipython",
    "version": 3
   },
   "file_extension": ".py",
   "mimetype": "text/x-python",
   "name": "python",
   "nbconvert_exporter": "python",
   "pygments_lexer": "ipython3",
   "version": "3.9.7"
  }
 },
 "nbformat": 4,
 "nbformat_minor": 5
}
