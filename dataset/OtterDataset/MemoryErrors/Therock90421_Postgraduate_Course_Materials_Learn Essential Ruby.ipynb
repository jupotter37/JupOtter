{
 "cells": [
  {
   "cell_type": "markdown",
   "id": "4112f0d4",
   "metadata": {},
   "source": [
    "# The basics of programming languages\n",
    "Almost every programming language contains these category of elements, they are all about “abstraction” actually:\n",
    "1. Data types and data abstraction                (数据类型与数据抽象）\n",
    "2. Control flow and control abstraction          （程序分支控制流的抽象）\n",
    "3. Abstractions on low level                     （对底层的抽象）\n",
    "4. Supplement and abstraction for specific domain（辅助和专门领域的抽象）"
   ]
  },
  {
   "cell_type": "markdown",
   "id": "79be9868",
   "metadata": {},
   "source": [
    "# Language concepts tend to be constant, like design principles.\n",
    "1. Procedural (Function, Method ...)\n",
    "2. Recursive\n",
    "3. Static type and Dynamic type\n",
    "4. Type inference\n",
    "5. Lambda function\n",
    "6. Object oriented\n",
    "7. Garbage collection\n",
    "8. Pointer\n",
    "9. Continuation\n",
    "10. Meta-programming\n",
    "11. Macro\n",
    "12. Exception"
   ]
  },
  {
   "cell_type": "markdown",
   "id": "c4510132",
   "metadata": {},
   "source": [
    "# This is a comment\n",
    "\n",
    "=begin\n",
    "This is a multi-line comment.\n",
    "The beginning line must start with \"=begin\"\n",
    "and the ending line must start with \"=end\".\n",
    "\n",
    "You can do this, or start each line in\n",
    "a multi-line comment with the # character.\n",
    "=end"
   ]
  },
  {
   "cell_type": "markdown",
   "id": "43de64a8",
   "metadata": {},
   "source": [
    "# In Ruby, (almost) everything is an object.\n",
    "This includes numbers..."
   ]
  },
  {
   "cell_type": "code",
   "execution_count": null,
   "id": "d9d5eff3",
   "metadata": {},
   "outputs": [
    {
     "name": "stdout",
     "output_type": "stream",
     "text": [
      "Integer\n",
      "String\n",
      "Method\n"
     ]
    }
   ],
   "source": [
    "puts 3.class \n",
    "\n",
    "# ...and strings...\n",
    "puts \"Hello\".class \n",
    "\n",
    "# ...and even methods!\n",
    "puts \"Hello\".method(:class).class"
   ]
  },
  {
   "cell_type": "markdown",
   "id": "8ee11010",
   "metadata": {},
   "source": [
    "# Some basic arithmetic"
   ]
  },
  {
   "cell_type": "code",
   "execution_count": 3,
   "id": "9f63e71c",
   "metadata": {},
   "outputs": [
    {
     "name": "stdout",
     "output_type": "stream",
     "text": [
      "1\n",
      "7\n",
      "6\n",
      "110\n"
     ]
    }
   ],
   "source": [
    "1 + 1 #=> 2\n",
    "8 - 1 #=> 7\n",
    "10 * 2 #=> 20\n",
    "35 / 5 #=> 7\n",
    "2 ** 5 #=> 32\n",
    "5 % 3 #=> 2"
   ]
  },
  {
   "cell_type": "markdown",
   "id": "778970d8",
   "metadata": {},
   "source": [
    "# Bitwise operators"
   ]
  },
  {
   "cell_type": "code",
   "execution_count": 47,
   "id": "d1bf267f",
   "metadata": {},
   "outputs": [
    {
     "name": "stdout",
     "output_type": "stream",
     "text": [
      "1\n",
      "7\n",
      "6\n",
      "110\n",
      "bitwise operators in Ruby\n",
      "Binary AND Operator\n",
      "34\n",
      "Binary OR Operator\n",
      "58\n",
      "Binary XOR Operator异或\n",
      "24\n",
      "Binary Ones Complement Operator\n",
      "-59\n",
      "Binary Left Shift Operator\n",
      "928\n",
      "Binary Right Shift Operator\n",
      "3\n"
     ]
    }
   ],
   "source": [
    "# Bitwise operators\n",
    "puts 3 & 5 #=> 1\n",
    "puts 3 | 5 #=> 7\n",
    "puts 3 ^ 5 #=> 6\n",
    "puts (3 ^ 5).to_s(2)\n",
    "\n",
    "puts (\"bitwise operators in Ruby\")\n",
    "a = 58      #  00111010\n",
    "b = 34      #  00100010\n",
    "puts (\"Binary AND Operator\")\n",
    "puts (a&b)\n",
    "puts (\"Binary OR Operator\")\n",
    "puts (a|b)\n",
    "puts (\"Binary XOR Operator异或\")\n",
    "puts (a^b)\n",
    "puts (\"Binary Ones Complement Operator\")\n",
    "puts (~a)\n",
    "puts (\"Binary Left Shift Operator\")\n",
    "puts (a<<4)\n",
    "puts (\"Binary Right Shift Operator\")\n",
    "puts (a>>4)"
   ]
  },
  {
   "cell_type": "raw",
   "id": "22e4af95",
   "metadata": {},
   "source": [
    "7 in Base 2: 0000 0111\n",
    "5 in Base 2: 0000 0101\n",
    "  128 64 32 16 8 4 2 1\n",
    "---------------------- \n",
    "7: 0  0  0  0  0 1 1 1\n",
    "   &  &  &  &  & & & &\n",
    "5: 0  0  0  0  0 1 0 1\n",
    "-----------------------\n",
    "5: 0  0  0  0  0 1 0 1"
   ]
  },
  {
   "cell_type": "code",
   "execution_count": 10,
   "id": "b6530ed2",
   "metadata": {},
   "outputs": [
    {
     "name": "stdout",
     "output_type": "stream",
     "text": [
      "nil\n"
     ]
    },
    {
     "data": {
      "text/plain": [
       "FalseClass"
      ]
     },
     "execution_count": 10,
     "metadata": {},
     "output_type": "execute_result"
    }
   ],
   "source": [
    "# Arithmetic is just syntactic sugar\n",
    "# for calling a method on an object\n",
    "1.+(3) #=> 4\n",
    "10.* 5 #=> 50\n",
    "100.methods.include?(:/) #=> true\n",
    "\n",
    "# Special values are objects\n",
    "nil # equivalent to null in other languages\n",
    "puts \"nil\" unless nil\n",
    "true # truth\n",
    "false # falsehood\n",
    "\n",
    "nil.class #=> NilClass\n",
    "true.class #=> TrueClass\n",
    "false.class #=> FalseClass\n",
    "\n"
   ]
  },
  {
   "cell_type": "code",
   "execution_count": null,
   "id": "830f2060",
   "metadata": {},
   "outputs": [],
   "source": [
    "# Equality\n",
    "1 == 1 #=> true\n",
    "2 == 1 #=> false\n",
    "\n",
    "# Inequality\n",
    "1 != 1 #=> false\n",
    "2 != 1 #=> true\n",
    "\n",
    "# Apart from false itself, nil is the only other 'falsey' value\n",
    "\n",
    "!!nil   #=> false\n",
    "!!false #=> false\n",
    "!!0     #=> true\n",
    "!!\"\"    #=> true\n",
    "\n",
    "# More comparisons\n",
    "1 < 10 #=> true\n",
    "1 > 10 #=> false\n",
    "2 <= 2 #=> true\n",
    "2 >= 2 #=> true\n",
    "\n",
    "# Combined comparison operator (returns `1` when the first argument is greater, \n",
    "# `-1` when the second argument is greater, and `0` otherwise)\n",
    "1 <=> 10 #=> -1 (1 < 10)\n",
    "10 <=> 1 #=> 1 (10 > 1)\n",
    "1 <=> 1 #=> 0 (1 == 1)\n",
    "\n",
    "# Logical operators\n",
    "true && false #=> false\n",
    "true || false #=> true\n"
   ]
  },
  {
   "cell_type": "code",
   "execution_count": null,
   "id": "b36c8585",
   "metadata": {},
   "outputs": [],
   "source": [
    "# There are alternate versions of the logical operators with much lower\n",
    "# precedence. These are meant to be used as flow-control constructs to chain\n",
    "# statements together until one of them returns true or false.\n",
    "\n",
    "# `do_something_else` only called if `do_something` succeeds.\n",
    "do_something() and do_something_else()\n",
    "# `log_error` only called if `do_something` fails.\n",
    "do_something() or log_error()\n"
   ]
  },
  {
   "cell_type": "code",
   "execution_count": null,
   "id": "c61527d7",
   "metadata": {},
   "outputs": [],
   "source": [
    "# String interpolation\n",
    "\n",
    "placeholder = 'use string interpolation'\n",
    "\"I can #{placeholder} when using double quoted strings\"\n",
    "#=> \"I can use string interpolation when using double quoted strings\"\n",
    "\n",
    "# You can combine strings using `+`, but not with other types\n",
    "'hello ' + 'world'  #=> \"hello world\"\n",
    "'hello ' + 3 #=> TypeError: can't convert Fixnum into String\n",
    "'hello ' + 3.to_s #=> \"hello 3\"\n",
    "\"hello #{3}\" #=> \"hello 3\"\n",
    "\n",
    "# ...or combine strings and operators\n",
    "'hello ' * 3 #=> \"hello hello hello \"\n",
    "\n",
    "# ...or append to string\n",
    "'hello' << ' world' #=> \"hello world\"\n",
    "\n",
    "# You can print to the output with a newline at the end\n",
    "puts \"I'm printing!\"\n",
    "#=> I'm printing!\n",
    "#=> nil\n",
    "\n",
    "# ...or print to the output without a newline\n",
    "print \"I'm printing!\"\n",
    "#=> \"I'm printing!\" => nil\n"
   ]
  },
  {
   "cell_type": "code",
   "execution_count": null,
   "id": "e892856b",
   "metadata": {},
   "outputs": [],
   "source": [
    "# Variables\n",
    "x = 25 #=> 25\n",
    "x #=> 25\n",
    "\n",
    "# Note that assignment returns the value assigned.\n",
    "# This means you can do multiple assignment.\n",
    "\n",
    "x = y = 10 #=> 10\n",
    "x #=> 10\n",
    "y #=> 10\n",
    "\n",
    "# By convention, use snake_case for variable names.\n",
    "snake_case = true\n",
    "\n",
    "# Use descriptive variable names\n",
    "path_to_project_root = '/good/name/'\n",
    "m = '/bad/name/'\n"
   ]
  },
  {
   "cell_type": "code",
   "execution_count": null,
   "id": "a0e95a96",
   "metadata": {},
   "outputs": [],
   "source": [
    "# Symbols are immutable, reusable constants represented internally by an\n",
    "# integer value. They're often used instead of strings to efficiently convey\n",
    "# specific, meaningful values.\n",
    "\n",
    ":pending.class #=> Symbol\n",
    "\n",
    "status = :pending\n",
    "\n",
    "status == :pending #=> true\n",
    "\n",
    "status == 'pending' #=> false\n",
    "\n",
    "status == :approved #=> false\n",
    "\n",
    "# Strings can be converted into symbols and vice versa.\n",
    "status.to_s #=> \"pending\"\n",
    "\"argon\".to_sym #=> :argon\n",
    "\n"
   ]
  },
  {
   "cell_type": "code",
   "execution_count": null,
   "id": "f10969e6",
   "metadata": {},
   "outputs": [],
   "source": [
    "# Arrays\n",
    "\n",
    "# This is an array.\n",
    "array = [1, 2, 3, 4, 5] #=> [1, 2, 3, 4, 5]\n",
    "\n",
    "# Arrays can contain different types of items.\n",
    "[1, 'hello', false] #=> [1, \"hello\", false]\n",
    "\n",
    "# You might prefer %w instead of quotes\n",
    "%w[foo bar baz] #=> [\"foo\", \"bar\", \"baz\"]\n",
    "\n",
    "# Arrays can be indexed.\n",
    "# From the front...\n",
    "array[0] #=> 1\n",
    "array.first #=> 1\n",
    "array[12] #=> nil\n",
    "\n",
    "# ...or from the back...\n",
    "array[-1] #=> 5\n",
    "array.last #=> 5\n",
    "\n",
    "# ...or with a start index and length...\n",
    "array[2, 3] #=> [3, 4, 5]\n",
    "\n",
    "# ...or with a range...\n",
    "array[1..3] #=> [2, 3, 4]\n",
    "\n",
    "# You can reverse an Array.\n",
    "# Return a new array with reversed values\n",
    "[1,2,3].reverse #=> [3,2,1]\n",
    "# Reverse an array in place to update variable with reversed values\n",
    "a = [1,2,3]\n",
    "a.reverse! #=> a==[3,2,1] because of the bang ('!') call to reverse\n",
    "\n",
    "# Like arithmetic, [var] access is just syntactic sugar\n",
    "# for calling a method '[]' on an object.\n",
    "array.[] 0 #=> 1\n",
    "array.[] 12 #=> nil\n",
    "\n",
    "# You can add to an array...\n",
    "array << 6 #=> [1, 2, 3, 4, 5, 6]\n",
    "# Or like this\n",
    "array.push(6) #=> [1, 2, 3, 4, 5, 6]\n",
    "\n",
    "# ...and check if an item exists in an array\n",
    "array.include?(1) #=> true\n"
   ]
  },
  {
   "cell_type": "code",
   "execution_count": null,
   "id": "d7bbde75",
   "metadata": {},
   "outputs": [],
   "source": [
    "# Hashes are Ruby's primary dictionary with key/value pairs.\n",
    "# Hashes are denoted with curly braces.\n",
    "hash = { 'color' => 'green', 'number' => 5 }\n",
    "\n",
    "hash.keys #=> ['color', 'number']\n",
    "\n",
    "# Hashes can be quickly looked up by key.\n",
    "hash['color'] #=> \"green\"\n",
    "hash['number'] #=> 5\n",
    "\n",
    "# Asking a hash for a key that doesn't exist returns nil.\n",
    "hash['nothing here'] #=> nil\n",
    "\n",
    "# When using symbols for keys in a hash, you can use an alternate syntax.\n",
    "\n",
    "hash = { :defcon => 3, :action => true }\n",
    "hash.keys #=> [:defcon, :action]\n",
    "\n",
    "hash = { defcon: 3, action: true }\n",
    "hash.keys #=> [:defcon, :action]\n",
    "\n",
    "# Check existence of keys and values in hash\n",
    "hash.key?(:defcon) #=> true\n",
    "hash.value?(3) #=> true\n",
    "\n",
    "# Tip: Both Arrays and Hashes are Enumerable!\n",
    "# They share a lot of useful methods such as each, map, count, and more.\n"
   ]
  },
  {
   "cell_type": "code",
   "execution_count": null,
   "id": "7b067d54",
   "metadata": {},
   "outputs": [],
   "source": [
    "# Control structures\n",
    "\n",
    "# Conditionals\n",
    "if true\n",
    "  'if statement'\n",
    "elsif false\n",
    "  'else if, optional'\n",
    "else\n",
    "  'else, also optional'\n",
    "end\n",
    "\n",
    "# If a condition controls invocation of a single statement rather than a block of code\n",
    "# you can use postfix-if notation\n",
    "warnings = ['Patronimic is missing', 'Address too short']\n",
    "puts(\"Some warnings occurred:\\n\" + warnings.join(\"\\n\"))  if !warnings.empty?\n",
    "\n",
    "# Rephrase condition if `unless` sounds better than `if`\n",
    "puts(\"Some warnings occurred:\\n\" + warnings.join(\"\\n\"))  unless warnings.empty?\n",
    "\n"
   ]
  },
  {
   "cell_type": "code",
   "execution_count": null,
   "id": "0e264aa7",
   "metadata": {},
   "outputs": [],
   "source": [
    "# Loops\n",
    "# In Ruby, traditional `for` loops aren't very common. Instead, these \n",
    "# basic loops are implemented using enumerable, which hinges on `each`.\n",
    "(1..5).each do |counter|\n",
    "  puts \"iteration #{counter}\"\n",
    "end\n",
    "\n",
    "# Which is roughly equivalent to the following, which is unusual to see in Ruby.\n",
    "for counter in 1..5\n",
    "  puts \"iteration #{counter}\"\n",
    "end\n",
    "\n",
    "# The `do |variable| ... end` construct above is called a 'block'. Blocks are similar\n",
    "# to lambdas, anonymous functions or closures in other programming languages. They can\n",
    "# be passed around as objects, called, or attached as methods.\n",
    "#\n",
    "# The 'each' method of a range runs the block once for each element of the range.\n",
    "# The block is passed a counter as a parameter.\n",
    "\n",
    "# You can also surround blocks in curly brackets.\n",
    "(1..5).each { |counter| puts \"iteration #{counter}\" }\n",
    "\n",
    "# The contents of data structures can also be iterated using each.\n",
    "array.each do |element|\n",
    "  puts \"#{element} is part of the array\"\n",
    "end\n",
    "hash.each do |key, value|\n",
    "  puts \"#{key} is #{value}\"\n",
    "end\n",
    "\n",
    "# If you still need an index you can use 'each_with_index' and define an index\n",
    "# variable.\n",
    "array.each_with_index do |element, index|\n",
    "  puts \"#{element} is number #{index} in the array\"\n",
    "end\n",
    "\n",
    "counter = 1\n",
    "while counter <= 5 do\n",
    "  puts \"iteration #{counter}\"\n",
    "  counter += 1\n",
    "end\n",
    "#=> iteration 1\n",
    "#=> iteration 2\n",
    "#=> iteration 3\n",
    "#=> iteration 4\n",
    "#=> iteration 5\n"
   ]
  },
  {
   "cell_type": "markdown",
   "id": "9603e5d6",
   "metadata": {},
   "source": [
    "# Helpful looping functions in Ruby.\n",
    "#For example: 'map', 'reduce', 'inject', the list goes on.\n",
    "#Map, for instance, takes the array it's looping over, does something to it as defined in your block, and returns an entirely new array."
   ]
  },
  {
   "cell_type": "code",
   "execution_count": 11,
   "id": "1b73bfe1",
   "metadata": {},
   "outputs": [
    {
     "name": "stdout",
     "output_type": "stream",
     "text": [
      "2\n",
      "4\n",
      "6\n",
      "8\n",
      "10\n",
      "1\n",
      "2\n",
      "3\n",
      "4\n",
      "5\n",
      "Better luck next time\n",
      "Hooray!\n"
     ]
    }
   ],
   "source": [
    "array = [1,2,3,4,5]\n",
    "doubled = array.map do |element|\n",
    "  element * 2\n",
    "end\n",
    "puts doubled\n",
    "#=> [2,4,6,8,10]\n",
    "puts array\n",
    "#=> [1,2,3,4,5]\n",
    "\n",
    "# another useful syntax is .map(&:method)\n",
    "a = [\"FOO\", \"BAR\", \"BAZ\"]\n",
    "a.map { |s| s.downcase } #=> [\"foo\", \"bar\", \"baz\"]\n",
    "a.map(&:downcase) #=> [\"foo\", \"bar\", \"baz\"]\n",
    "\n",
    "# Case construct\n",
    "grade = 'B'\n",
    "\n",
    "case grade\n",
    "when 'A'\n",
    "  puts 'Way to go kiddo'\n",
    "when 'B'\n",
    "  puts 'Better luck next time'\n",
    "when 'C'\n",
    "  puts 'You can do better'\n",
    "when 'D'\n",
    "  puts 'Scraping through'\n",
    "when 'F'\n",
    "  puts 'You failed!'\n",
    "else\n",
    "  puts 'Alternative grading system, eh?'\n",
    "end\n",
    "#=> \"Better luck next time\"\n",
    "\n",
    "# Cases can also use ranges\n",
    "grade = 90\n",
    "case grade\n",
    "when 90..100\n",
    "  puts 'Hooray!'\n",
    "when 80...90\n",
    "  puts 'OK job'\n",
    "else\n",
    "  puts 'You failed!'\n",
    "end\n",
    "#=> \"OK job\"\n"
   ]
  },
  {
   "cell_type": "markdown",
   "id": "ce28b2a7",
   "metadata": {},
   "source": [
    "# Exception handling"
   ]
  },
  {
   "cell_type": "code",
   "execution_count": 12,
   "id": "7afe169f",
   "metadata": {},
   "outputs": [
    {
     "name": "stdout",
     "output_type": "stream",
     "text": [
      "NoMemoryError was raised\n",
      "You ran out of memory.\n",
      "This code always runs no matter what\n"
     ]
    }
   ],
   "source": [
    "# Exception handling\n",
    "begin\n",
    "  # Code here that might raise an exception\n",
    "  raise NoMemoryError, 'You ran out of memory.'\n",
    "rescue NoMemoryError => exception_variable\n",
    "  puts 'NoMemoryError was raised', exception_variable\n",
    "rescue RuntimeError => other_exception_variable\n",
    "  puts 'RuntimeError was raised now'\n",
    "else\n",
    "  puts 'This runs if no exceptions were thrown at all'\n",
    "ensure\n",
    "  puts 'This code always runs no matter what'\n",
    "end\n"
   ]
  },
  {
   "cell_type": "markdown",
   "id": "e018eaf9",
   "metadata": {},
   "source": [
    "# Methods"
   ]
  },
  {
   "cell_type": "code",
   "execution_count": 13,
   "id": "9661d80f",
   "metadata": {},
   "outputs": [
    {
     "name": "stdout",
     "output_type": "stream",
     "text": [
      "{\n",
      "hello world\n",
      "}\n"
     ]
    }
   ],
   "source": [
    "# Methods\n",
    "\n",
    "def double(x)\n",
    "  x * 2\n",
    "end\n",
    "\n",
    "# Methods (and blocks) implicitly return the value of the last statement.\n",
    "double(2) #=> 4\n",
    "\n",
    "# Parentheses are optional where the interpretation is unambiguous.\n",
    "double 3 #=> 6\n",
    "\n",
    "double double 3 #=> 12\n",
    "\n",
    "def sum(x, y)\n",
    "  x + y\n",
    "end\n",
    "\n",
    "# Method arguments are separated by a comma.\n",
    "sum 3, 4 #=> 7\n",
    "\n",
    "sum sum(3, 4), 5 #=> 12\n",
    "\n",
    "# yield\n",
    "# All methods have an implicit, optional block parameter.\n",
    "# It can be called with the 'yield' keyword.\n",
    "def surround\n",
    "  puts '{'\n",
    "  yield\n",
    "  puts '}'\n",
    "end\n",
    "\n",
    "surround { puts 'hello world' }\n",
    "\n",
    "#=> {\n",
    "#=> hello world\n",
    "#=> }\n",
    "\n"
   ]
  },
  {
   "cell_type": "code",
   "execution_count": 26,
   "id": "880e7413",
   "metadata": {},
   "outputs": [
    {
     "name": "stdout",
     "output_type": "stream",
     "text": [
      "You have 4 guests.\n",
      "WATCH THESE WORDS \n",
      "WATCH\n",
      "THESE\n",
      "WORDS\n",
      "GET\n",
      "UPCASED\n",
      "sum=15\n",
      "a=1  b=2  c=3\n",
      "Winners are John, Sally, and Dingus.\n",
      "Winners are John, Sally, and Dingus.\n",
      "There were 2 other participants.\n",
      "false\n",
      "true\n"
     ]
    }
   ],
   "source": [
    "# Blocks can be converted into a 'proc' object, which wraps the block \n",
    "# and allows it to be passed to another method, bound to a different scope,\n",
    "# or manipulated otherwise. This is most common in method parameter lists,\n",
    "# where you frequently see a trailing '&block' parameter that will accept \n",
    "# the block, if one is given, and convert it to a 'Proc'. The naming here is\n",
    "# convention; it would work just as well with '&pineapple'.\n",
    "def guests(&block)\n",
    "  block.class #=> Proc\n",
    "  block.call(4)\n",
    "end\n",
    "\n",
    "# The 'call' method on the Proc is similar to calling 'yield' when a block is \n",
    "# present. The arguments passed to 'call' will be forwarded to the block as arguments.\n",
    "\n",
    "puts guests { |n| \"You have #{n} guests.\" }\n",
    "# => \"You have 4 guests.\"\n",
    "\n",
    "# You can pass a list of arguments, which will be converted into an array.\n",
    "# That's what splat operator (\"*\") is for.\n",
    "def guests_a(*array)\n",
    "  array.each { |guest| print guest,\" \" }\n",
    "end\n",
    "\n",
    "guests_a(\"WATCH\", \"THESE\", \"WORDS\")\n",
    "puts \"\\n\"\n",
    "\n",
    "# There is also the shorthand block syntax. It's most useful when you need\n",
    "# to call a simple method on all array items.\n",
    "upcased = ['Watch', 'these', 'words', 'get', 'upcased'].map(&:upcase)\n",
    "puts upcased\n",
    "#=> [\"WATCH\", \"THESE\", \"WORDS\", \"GET\", \"UPCASED\"]\n",
    " \n",
    "sum = [1, 2, 3, 4, 5].reduce(&:+)\n",
    "print \"sum=\",sum,\"\\n\"\n",
    "#=> 15\n",
    "\n",
    "# Destructuring\n",
    "\n",
    "# Ruby will automatically destructure arrays on assignment to multiple variables.\n",
    "a, b, c = [1, 2, 3]\n",
    "print \"a=\",a, \"  b=\",b, \"  c=\",c, \"\\n\"\n",
    "\n",
    "# In some cases, you will want to use the splat operator: `*` to prompt destructuring\n",
    "# of an array into a list.\n",
    "ranked_competitors = [\"John\", \"Sally\", \"Dingus\", \"Moe\", \"Marcy\"]\n",
    "\n",
    "def best(first, second, third)\n",
    "  puts \"Winners are #{first}, #{second}, and #{third}.\"\n",
    "end\n",
    "\n",
    "best *ranked_competitors.first(3)\n",
    "\n",
    "# The splat operator can also be used in parameters.\n",
    "def best(first, second, third, *others)\n",
    "  puts \"Winners are #{first}, #{second}, and #{third}.\"\n",
    "  puts \"There were #{others.count} other participants.\"\n",
    "end\n",
    "\n",
    "best *ranked_competitors \n",
    "\n",
    "# By convention, all methods that return booleans end with a question mark.\n",
    "puts 5.even?\n",
    "puts 5.odd? \n"
   ]
  },
  {
   "cell_type": "code",
   "execution_count": 27,
   "id": "77e82ea1",
   "metadata": {},
   "outputs": [
    {
     "name": "stdout",
     "output_type": "stream",
     "text": [
      "DUNDER MIFFLIN\n",
      "Dunder Mifflin\n",
      "DUNDER MIFFLIN\n",
      "DUNDER MIFFLIN\n"
     ]
    }
   ],
   "source": [
    "# By convention, if a method name ends with an exclamation mark, it does something destructive\n",
    "# like mutate the receiver. Many methods have a ! version to make a change, and\n",
    "# a non-! version to just return a new changed version.\n",
    "\n",
    "company_name = \"Dunder Mifflin\"\n",
    "print company_name.upcase,\"\\n\" \n",
    "print company_name,\"\\n\"\n",
    "# We're mutating company_name this time.\n",
    "print company_name.upcase! ,\"\\n\"\n",
    "print company_name ,\"\\n\"\n"
   ]
  },
  {
   "cell_type": "markdown",
   "id": "488a0bab",
   "metadata": {},
   "source": [
    "# Classes"
   ]
  },
  {
   "cell_type": "code",
   "execution_count": 30,
   "id": "baf35e9f",
   "metadata": {},
   "outputs": [
    {
     "data": {
      "text/plain": [
       ":species"
      ]
     },
     "execution_count": 30,
     "metadata": {},
     "output_type": "execute_result"
    }
   ],
   "source": [
    "# Classes\n",
    "\n",
    "# You can define a class with the 'class' keyword.\n",
    "class Human\n",
    "\n",
    "  # A class variable. It is shared by all instances of this class.\n",
    "  @@species = 'H. sapiens'\n",
    "\n",
    "  # Basic initializer\n",
    "  def initialize(name = \"N/A\", age = 0)\n",
    "    # Assign the argument to the 'name' instance variable for the instance.\n",
    "    @name = name\n",
    "    # If no age given, we will fall back to the default in the arguments list.\n",
    "    @age = age\n",
    "  end\n",
    "\n",
    "  # Basic setter method\n",
    "  def name=(name)\n",
    "    @name = name\n",
    "  end\n",
    "\n",
    "  # Basic getter method\n",
    "  def name\n",
    "    @name\n",
    "  end\n",
    "#-------------------------------------------------------\n",
    "  # The above functionality can be encapsulated using the attr_accessor method as follows.\n",
    "  attr_accessor :name\n",
    "\n",
    "  # Getter/setter methods can also be created individually like this.\n",
    "  attr_reader :name\n",
    "  attr_writer :name\n",
    "\n",
    "  # A class method uses self to distinguish from instance methods.\n",
    "  # It can only be called on the class, not an instance.\n",
    "  def self.say(msg)\n",
    "    puts msg\n",
    "  end\n",
    "\n",
    "  def species\n",
    "    @@species\n",
    "  end\n",
    "end"
   ]
  },
  {
   "cell_type": "code",
   "execution_count": 45,
   "id": "d64056d3",
   "metadata": {},
   "outputs": [
    {
     "name": "stdout",
     "output_type": "stream",
     "text": [
      "Hi\n",
      "Result 1: local-variable\n",
      "Result 2: \n",
      "Result 3: local-variable\n",
      "Result 4: constant\n",
      "\n",
      "Result 1: method\n",
      "Result 2: \n",
      "Result 3: method\n"
     ]
    }
   ],
   "source": [
    "# Instantiating of a class\n",
    "jim = Human.new('Jim Halpert')\n",
    "dwight = Human.new('Dwight K. Schrute')\n",
    "\n",
    "# You can call the methods of the generated object.\n",
    "\n",
    "jim.species                                      #=> \"H. sapiens\"\n",
    "jim.name                                         #=> \"Jim Halpert\"\n",
    "jim.name = \"Jim Halpert II\"                      #=> \"Jim Halpert II\"\n",
    "jim.name                                         #=> \"Jim Halpert II\"\n",
    "dwight.species                                   #=> \"H. sapiens\"\n",
    "dwight.name                                      #=> \"Dwight K. Schrute\"\n",
    "\n",
    "# Calling of a class method\n",
    "Human.say('Hi')                                  #=> \"Hi\"\n",
    "\n",
    "# Variable's scopes are defined by the way we name them.\n",
    "# Variables that start with $ have global scope.\n",
    "\n",
    "$var = \"I'm a global var\"\n",
    "defined? $var                                    #=> \"global-variable\"\n",
    "\n",
    "# Variables that start with @ have instance scope.\n",
    "@var = \"I'm an instance var\"\n",
    "defined? @var                                          #=> \"instance-variable\"\n",
    "\n",
    "# Variables that start with @@ have class scope.\n",
    "#@@var = \"I'm a class var\"\n",
    "#result = defined? @@var \n",
    "#puts \"result=\", result                                  #=> \"class variable\"\n",
    "\n",
    "# Variables that start with a capital letter are constants.\n",
    "#Var = \"I'm a constant\"\n",
    "#puts defined? Var                                      #=> \"constant\"\n",
    "\n",
    "# Ruby program to illustrate defined? keyword\n",
    " \n",
    "# Variable\n",
    "radius = 2\n",
    " \n",
    "area = 3.14 * radius * radius\n",
    " \n",
    "# Checking if the variable is defined or not\n",
    "# Using defined? keyword\n",
    "res1 = defined? radius\n",
    "res2 = defined? height\n",
    "res3 = defined? area\n",
    "res4 = defined? Math::PI\n",
    " \n",
    "# Displaying results\n",
    "puts \"Result 1: #{res1}\"\n",
    "puts \"Result 2: #{res2}\"\n",
    "puts \"Result 3: #{res3}\"\n",
    "puts \"Result 4: #{res4}\"\n",
    "puts \"\\n\"\n",
    "\n",
    "# Method\n",
    "def geeks\n",
    "    puts \"Hey GeeksforGeeks!!\"\n",
    "end\n",
    " \n",
    "# Checking if the method is defined or not\n",
    "# Using defined? keyword\n",
    "res1 = defined? geeks\n",
    "res2 = defined? fun\n",
    "res3 = defined? puts\n",
    " \n",
    "# Displaying results\n",
    "puts \"Result 1: #{res1}\"\n",
    "puts \"Result 2: #{res2}\"\n",
    "puts \"Result 3: #{res3}\""
   ]
  },
  {
   "cell_type": "markdown",
   "id": "5e4dc84c",
   "metadata": {},
   "source": [
    "# Class is also an object in ruby"
   ]
  },
  {
   "cell_type": "code",
   "execution_count": null,
   "id": "efcddb78",
   "metadata": {},
   "outputs": [],
   "source": [
    "# Class is also an object in ruby. So a class can have instance variables.\n",
    "# A class variable is shared among the class and all of its descendants.\n",
    "\n",
    "# Base class\n",
    "class Human\n",
    "  @@foo = 0\n",
    "\n",
    "  def self.foo\n",
    "    @@foo\n",
    "  end\n",
    "\n",
    "  def self.foo=(value)\n",
    "    @@foo = value\n",
    "  end\n",
    "end\n",
    "\n",
    "# Derived class\n",
    "class Worker < Human\n",
    "end\n",
    "\n",
    "Human.foo #=> 0\n",
    "Worker.foo #=> 0\n",
    "\n",
    "Human.foo = 2\n",
    "Worker.foo #=> 2\n",
    "\n"
   ]
  },
  {
   "cell_type": "code",
   "execution_count": null,
   "id": "3f7ae1aa",
   "metadata": {},
   "outputs": [],
   "source": [
    "# A class instance variable is not shared by the class's descendants.\n",
    "class Human\n",
    "  @bar = 0\n",
    "\n",
    "  def self.bar\n",
    "    @bar\n",
    "  end\n",
    "\n",
    "  def self.bar=(value)\n",
    "    @bar = value\n",
    "  end\n",
    "end\n",
    "\n",
    "class Doctor < Human\n",
    "end\n",
    "\n",
    "Human.bar #=> 0\n",
    "Doctor.bar #=> nil\n",
    "\n"
   ]
  },
  {
   "cell_type": "raw",
   "id": "d60afae5",
   "metadata": {},
   "source": [
    "Modules provide a namespace and prevent name clashes.\n",
    "Modules implement the mixin facility.\n",
    "\n"
   ]
  },
  {
   "cell_type": "markdown",
   "id": "16e8a919",
   "metadata": {},
   "source": [
    "# Namespaces"
   ]
  },
  {
   "cell_type": "code",
   "execution_count": null,
   "id": "f3d5d7e9",
   "metadata": {},
   "outputs": [],
   "source": [
    "module ModuleExample\n",
    "  def foo\n",
    "    'foo'\n",
    "  end\n",
    "end\n",
    "\n",
    "# Including modules binds their methods to the class instances.\n",
    "# Extending modules binds their methods to the class itself.\n",
    "class Person\n",
    "  include ModuleExample\n",
    "end\n",
    "\n",
    "class Book\n",
    "  extend ModuleExample\n",
    "end\n",
    "\n",
    "Person.foo     #=> NoMethodError: undefined method `foo' for Person:Class\n",
    "Person.new.foo #=> \"foo\"\n",
    "Book.foo       #=> \"foo\"\n",
    "Book.new.foo   #=> NoMethodError: undefined method `foo'\n",
    "\n",
    "# Callbacks are executed when including and extending a module\n",
    "module ConcernExample\n",
    "  def self.included(base)\n",
    "    base.extend(ClassMethods)\n",
    "    base.send(:include, InstanceMethods)\n",
    "  end\n",
    "\n",
    "  module ClassMethods\n",
    "    def bar\n",
    "      'bar'\n",
    "    end\n",
    "  end\n",
    "\n",
    "  module InstanceMethods\n",
    "    def qux\n",
    "      'qux'\n",
    "    end\n",
    "  end\n",
    "end\n",
    "\n",
    "class Something\n",
    "  include ConcernExample\n",
    "end\n",
    "\n",
    "Something.bar     #=> \"bar\"\n",
    "Something.qux     #=> NoMethodError: undefined method `qux'\n",
    "Something.new.bar #=> NoMethodError: undefined method `bar'\n",
    "Something.new.qux #=> \"qux\"\n"
   ]
  },
  {
   "cell_type": "code",
   "execution_count": null,
   "id": "6630d6db",
   "metadata": {},
   "outputs": [],
   "source": [
    "# trig.rb\n",
    "module Trig\n",
    "  PI = 3.141592654\n",
    "  def Trig.sin(x)\n",
    "   # ..\n",
    "  end\n",
    "  def Trig.cos(x)\n",
    "   # ..\n",
    "  end\n",
    "end"
   ]
  },
  {
   "cell_type": "code",
   "execution_count": null,
   "id": "589b7415",
   "metadata": {},
   "outputs": [],
   "source": [
    "# action.rb\n",
    "module Action\n",
    "  VERY_BAD = 0\n",
    "  BAD      = 1\n",
    "  def Action.sin(badness)\n",
    "    # ...\n",
    "  end\n",
    "end\n"
   ]
  },
  {
   "cell_type": "code",
   "execution_count": null,
   "id": "bbcf9ca1",
   "metadata": {},
   "outputs": [],
   "source": [
    "require \"trig\"\n",
    "require \"action\"\n",
    "\n",
    "y = Trig.sin(Trig::PI/4)\n",
    "wrongdoing = Action.sin(Action::VERY_BAD)"
   ]
  },
  {
   "cell_type": "markdown",
   "id": "a624ba89",
   "metadata": {},
   "source": [
    "# Mixins\n",
    "A module can't have instances, because a module isn't a class. However, you can include a module within a class definition. When this happens, all the module's instance methods are suddenly available as methods in the class as well. They get mixed in. In fact, mixed-in modules effectively behave as superclasses."
   ]
  },
  {
   "cell_type": "markdown",
   "id": "96ccfcb3",
   "metadata": {},
   "source": [
    "# Ruby: Load vs. Require\n",
    "Using Load, Require, and Include — aka, the things that link files in your program together, and make Separate of Concerns so much easier to implement."
   ]
  },
  {
   "cell_type": "code",
   "execution_count": 46,
   "id": "c0c149f4",
   "metadata": {},
   "outputs": [
    {
     "name": "stdout",
     "output_type": "stream",
     "text": [
      "0\n",
      "1\n",
      "2\n",
      "3\n",
      "4\n"
     ]
    },
    {
     "data": {
      "text/plain": [
       "5"
      ]
     },
     "execution_count": 46,
     "metadata": {},
     "output_type": "execute_result"
    }
   ],
   "source": [
    "5.times do |i|\n",
    "   File.open(\"temp.rb\",\"w\") { |f|\n",
    "     f.puts \"module Temp\\ndef Temp.var() #{i}; end\\nend\"\n",
    "   }\n",
    "   load \"temp.rb\"\n",
    "   puts Temp.var\n",
    "end"
   ]
  },
  {
   "cell_type": "code",
   "execution_count": null,
   "id": "840c44b6",
   "metadata": {},
   "outputs": [],
   "source": [
    "class Chocolate\n",
    "  include IceCream\n",
    "end\n",
    "class Vanilla\n",
    "  include IceCream\n",
    "end\n",
    "module IceCream\n",
    "  def ice_cream\n",
    "  end\n",
    "end"
   ]
  },
  {
   "cell_type": "markdown",
   "id": "1777cbdf",
   "metadata": {},
   "source": [
    "# Load\n",
    " If for whatever reason a file in your app/program is dynamically changing, and is used as a dependency to other files, you should consider using load . Otherwise, load may have adverse effects on your app’s performance due to the number of times the file is loaded."
   ]
  },
  {
   "cell_type": "markdown",
   "id": "411f0e09",
   "metadata": {},
   "source": [
    "Modules provide a namespace and prevent name clashes.\n",
    "Modules implement the mixin facility."
   ]
  },
  {
   "cell_type": "markdown",
   "id": "803336b9",
   "metadata": {},
   "source": [
    "# Require \n",
    "is a lot like load , but the main difference is that require will only load the passed in file one time, and then remember that file has been loaded. For this reason, require is the more popular option when you are using third-party libraries in your program or application. Wait a minute, third party libraries? Those sound like…gems! That’s right! Once you install a gem to your directory or specify it in your Gemfile, you only need to “require” that gem at the top of the file using that gem’s functionality. It’s a piece of cake.\n"
   ]
  },
  {
   "cell_type": "markdown",
   "id": "9ddf036d",
   "metadata": {},
   "source": [
    "require might sound like a bit of Ruby magic, so let’s unearth the unsung hero in all this: $LOAD_PATH.\n",
    "$LOAD_PATH is a global variable that comes with Ruby. If you load IRB from your terminal and type in $LOAD_PATH , you’ll get something that resembles this:\n",
    "[\"/Users/davidgoodman/.rvm/gems/ruby-2.3.3@global/gems/did_you_mean-1.0.0/lib\", \"/Users/davidgoodman/.rvm/rubies/ruby-2.3.3/lib/ruby/site_ruby/2.3.0\", \"/Users/davidgoodman/.rvm/rubies/ruby-2.3.3/lib/ruby/site_ruby/2.3.0/x86_64-darwin16\", \"/Users/davidgoodman/.rvm/rubies/ruby-2.3.3/lib/ruby/site_ruby\", \"/Users/davidgoodman/.rvm/rubies/ruby-2.3.3/lib/ruby/vendor_ruby/2.3.0\", \"/Users/davidgoodman/.rvm/rubies/ruby-2.3.3/lib/ruby/vendor_ruby/2.3.0/x86_64-darwin16\", \"/Users/davidgoodman/.rvm/rubies/ruby-2.3.3/lib/ruby/vendor_ruby\", \"/Users/davidgoodman/.rvm/rubies/ruby-2.3.3/lib/ruby/2.3.0\", \"/Users/davidgoodman/.rvm/rubies/ruby-2.3.3/lib/ruby/2.3.0/x86_64-darwin16\"]"
   ]
  },
  {
   "cell_type": "markdown",
   "id": "f3dcb331",
   "metadata": {},
   "source": [
    "# load vs. require vs. include vs. extend in Ruby"
   ]
  },
  {
   "cell_type": "code",
   "execution_count": null,
   "id": "12dc58f0",
   "metadata": {},
   "outputs": [],
   "source": [
    "#test_module.rb\n",
    "module TestModule\n",
    "  def some_method\n",
    "    # ...\n",
    "  end\n",
    "end"
   ]
  },
  {
   "cell_type": "code",
   "execution_count": null,
   "id": "15a43be3",
   "metadata": {},
   "outputs": [],
   "source": [
    "#test_class.rb\n",
    "class TestClass\n",
    "  # ...\n",
    "end"
   ]
  },
  {
   "cell_type": "markdown",
   "id": "47ed6b1d",
   "metadata": {},
   "source": [
    "then we can use the load'test_module.rb just before the class definition in test_class.rb file to get the access to the code contained in our module.\n",
    "\n",
    "Another commonly used method is require. It reads the file from the file system, parses it, saves to the memory and runs it in a given place. \n",
    "\n",
    "What does it mean? Simply, even if you change the required file when the script is running, those changes won't be applied - Ruby will use the file from memory, not from the file system.\n",
    "\n",
    "You can use it as follows: require test_module\n",
    "\n",
    "Note that we say filename, not filename.rb mostly because not all extensions use files that end with .rb\n",
    "require gives you access to many libraries and extensions built in Ruby as well as much more stuff written by other programmers.\n",
    "\n",
    "To summarize:\n",
    "\n",
    "require reads and parses files only once, when they were referenced for the first time.\n",
    "load reads and parses files every time you call load.\n",
    "\n"
   ]
  },
  {
   "cell_type": "markdown",
   "id": "43c2e379",
   "metadata": {},
   "source": [
    "# Include vs extend"
   ]
  },
  {
   "cell_type": "code",
   "execution_count": 50,
   "id": "be5cb6c3",
   "metadata": {},
   "outputs": [
    {
     "name": "stdout",
     "output_type": "stream",
     "text": [
      "Some method of #<Class:0x00007fe6616419b0>::TestClass\n"
     ]
    }
   ],
   "source": [
    "module TestModule\n",
    "  def some_method\n",
    "    \"Some method of #{self.class}\"\n",
    "  end\n",
    "end\n",
    "\n",
    "class TestClass\n",
    "  include TestModule\n",
    "  # ...\n",
    "end\n",
    "\n",
    "test = TestClass.new\n",
    "puts test.some_method"
   ]
  },
  {
   "cell_type": "code",
   "execution_count": 49,
   "id": "04a5f867",
   "metadata": {},
   "outputs": [
    {
     "name": "stdout",
     "output_type": "stream",
     "text": [
      "Some method of Class\n"
     ]
    }
   ],
   "source": [
    "module TestModule\n",
    "  def some_method\n",
    "    \"Some method of #{self.class}\"\n",
    "  end\n",
    "end\n",
    "\n",
    "class TestClass\n",
    "  extend TestModule\n",
    "  # ...\n",
    "end\n",
    "\n",
    "test = TestClass.some_method\n",
    "puts test"
   ]
  },
  {
   "cell_type": "markdown",
   "id": "7318184e",
   "metadata": {},
   "source": [
    "To summarize:\n",
    "\n",
    "require reads and parses files only once, when they were referenced for the first time.\n",
    "load reads and parses files every time you call load.\n",
    "The include method is the way to “inject” code from one module into other modules. or classes. It helps you DRY up your code - avoid duplications.\n",
    "\n",
    "# Just to remember that \n",
    "the require and load are file-level methods used to \"read\" and parse files, \n",
    "whereas include and extend are language-level methods that can extend your class with other modules.\n",
    "\n"
   ]
  },
  {
   "cell_type": "markdown",
   "id": "46affbd9",
   "metadata": {},
   "source": [
    "# Lambda"
   ]
  },
  {
   "cell_type": "code",
   "execution_count": null,
   "id": "f7b664c7",
   "metadata": {},
   "outputs": [],
   "source": [
    "# Python lambda function examples \n",
    "\n",
    "# There are also anonymous functions\n",
    "(lambda x: x > 2)(3)                  # => True\n",
    "(lambda x, y: x ** 2 + y ** 2)(2, 1)  # => 5\n",
    "\n",
    "# There are built-in higher order functions\n",
    "list(map(add_10, [1, 2, 3]))          # => [11, 12, 13]\n",
    "list(map(max, [1, 2, 3], [4, 2, 1]))  # => [4, 2, 3]\n",
    "\n",
    "list(filter(lambda x: x > 5, [3, 4, 5, 6, 7]))  # => [6, 7]\n",
    "\n",
    "# We can use list comprehensions for nice maps and filters\n",
    "# List comprehension stores the output as a list which can itself be a nested list\n",
    "[add_10(i) for i in [1, 2, 3]]         # => [11, 12, 13]\n",
    "[x for x in [3, 4, 5, 6, 7] if x > 5]  # => [6, 7]\n",
    "\n",
    "# You can construct set and dict comprehensions as well.\n",
    "{x for x in 'abcddeef' if x not in 'abc'}  # => {'d', 'e', 'f'}\n",
    "{x: x**2 for x in range(5)}  # => {0: 0, 1: 1, 2: 4, 3: 9, 4: 16}\n"
   ]
  },
  {
   "cell_type": "markdown",
   "id": "1cdd7d56",
   "metadata": {},
   "source": [
    "# JavaScript lambda function examples"
   ]
  },
  {
   "cell_type": "code",
   "execution_count": null,
   "id": "7c762810",
   "metadata": {},
   "outputs": [],
   "source": [
    "// There is a new syntax for functions in ES6 known as \"lambda syntax\".\n",
    "// This allows functions to be defined in a lexical scope like with variables\n",
    "// defined by const and let. \n",
    "\n",
    "const isEven = (number) => {\n",
    "    return number % 2 === 0;\n",
    "};\n",
    "\n",
    "isEven(7); // false\n",
    "\n",
    "// The \"equivalent\" of this function in the traditional syntax would look like this:\n",
    "\n",
    "function isEven(number) {\n",
    "    return number % 2 === 0;\n",
    "};\n",
    "\n",
    "// I put the word \"equivalent\" in double quotes because a function defined\n",
    "// using the lambda syntax cannnot be called before the definition.\n",
    "// The following is an example of invalid usage:\n",
    "\n",
    "add(1, 8);\n",
    "\n",
    "const add = (firstNumber, secondNumber) => {\n",
    "    return firstNumber + secondNumber;\n",
    "};"
   ]
  },
  {
   "cell_type": "markdown",
   "id": "d310791f",
   "metadata": {},
   "source": [
    "# Ruby lambda function examples"
   ]
  },
  {
   "cell_type": "markdown",
   "id": "ed6f3aed",
   "metadata": {},
   "source": [
    "Ruby lambdas allow you to encapsulate logic and data in an eminently portable variable. A lambda function can be passed to object methods, stored in data structures, and executed when needed. Lambda functions occupy a sweet spot between normal functions and objects. They can have state but don’t have the complexity of a full-fledged object. While many folks are familiar with lambdas because of Rails model scopes, they can be useful in other areas of your codebase.\n",
    "What is a Lambda Function \n",
    "What Purpose to Lambdas Serve\n",
    "Ruby Proc vs. Lambda\n",
    "Ruby Lambdas in Use\n",
    "Performance"
   ]
  },
  {
   "cell_type": "markdown",
   "id": "4d2637b9",
   "metadata": {},
   "source": [
    "What is a Lambda Function?\n",
    "A lambda function is a general software concept, not specific to Ruby. They are available in many programming languages. A lambda function encapsulates control flow, parameters and local variables into a single package assigned to a variable or used inline. If assigned to a variable, it can be passed to other functions or stored in data structures, just like a more typical variable containing a string or float. A lambda function can then be executed far from the code location where it was defined. Lambda functions are often called anonymous functions or a function literal.\n",
    "Languages that support lambda functions are often said to have ‘first-class functions’. The lambda function is a middle ground between normal functions, which have no state, and full-blown objects, with state and multiple methods to operate on that state. Because of their simplicity and power, lambda functions can help you write compact, elegant programs. \n",
    "\n",
    "What is a Lambda in Ruby?\n",
    "With Ruby, the lambda keyword is used to create a lambda function. It requires a block and can define zero or more parameters. You call the resulting lambda function by using the call method.\n",
    "Here’s a normal Ruby function:\n"
   ]
  },
  {
   "cell_type": "code",
   "execution_count": 51,
   "id": "3b4c6b08",
   "metadata": {},
   "outputs": [
    {
     "name": "stdout",
     "output_type": "stream",
     "text": [
      "hello\n",
      "hello\n",
      "hello\n",
      "hello\n",
      "hello\n",
      "hello\n"
     ]
    }
   ],
   "source": [
    "def my_function\n",
    "  puts \"hello\"\n",
    "end\n",
    "\n",
    "my_function  # hello\n",
    "\n",
    "my_lambda = lambda { puts \"hello\" }\n",
    "#Using the name outputs nothing as the lambda function is not executed:\n",
    "my_lambda\n",
    "#The call method takes as many arguments as you’ve defined, in this case zero:\n",
    "my_lambda.call\n",
    "\n",
    "#There is more than one way to call a lambda function:\n",
    "my_lambda = lambda { puts \"hello\" }\n",
    "my_lambda.call\n",
    "my_lambda.()\n",
    "my_lambda.[]\n",
    "my_lambda.===\n"
   ]
  },
  {
   "cell_type": "code",
   "execution_count": null,
   "id": "bc93554a",
   "metadata": {},
   "outputs": [],
   "source": [
    "#You can also create a lambda with the literal lambda operator, which looks like this and can have zero or more arguments: ->\n",
    "my_lambda = -> { puts \"hello\" }\n",
    "my_lambda_with_args = -> (v) { puts \"hello \"+v }\n",
    "my_lambda.call\n",
    "my_lambda_with_args.call(\"newman\")\n",
    "\n",
    "#The literal operator is succinct and commonly used. However, in the interests of clarity, I’ll use the lambda keyword for the rest of this post.\n",
    "#You can also use default arguments with a Ruby lambda:\n",
    "\n",
    "my_lambda = lambda {|name=\"jerry\"| puts \"hello \" +name}\n",
    "my_lambda.call\n",
    "my_lambda.call(\"newman\")\n",
    "\n",
    "#Finally, the block you are passing to a lambda can be either a single line block with curly braces or a multi-line block with do and end:\n",
    "\n",
    "my_one_line_lambda = lambda { puts \"hello\" }\n",
    "my_one_line_lambda.call\n",
    "my_multi_line_lambda = lambda do\n",
    "  puts \"hello\"\n",
    "end\n",
    "my_multi_line_lambda.call\n",
    "\n",
    "#Please note that a Ruby lambda function is different from an AWS Lambda function, which is an AWS service that executes code without requiring you to run a server. AWS Lambda functions can be written in Ruby but are entirely different from Ruby lambda functions.\n"
   ]
  },
  {
   "cell_type": "code",
   "execution_count": null,
   "id": "c3f4bd3c",
   "metadata": {},
   "outputs": [],
   "source": [
    "#What Purpose do Lambdas Serve?\n",
    "The additional indirection that lambda functions provide give you flexibility when writing a Ruby program. For instance, you can pass a lambda to a function:\n",
    "double_it = lambda { |num| num * 2 }\n",
    "triple_it = lambda { |num| num * 3 }\n",
    "def apply_lambda(lmbda, number)\n",
    "  puts lmbda.call(number)\n",
    "end\n",
    "apply_lambda(double_it, 10)\n",
    "apply_lambda(triple_it, 20)\n",
    "The output:\n",
    "20\n",
    "60\n",
    "You can also create an array of lambdas to execute in a pipeline:\n",
    "double_it = lambda { |num| num * 2 }\n",
    "triple_it = lambda { |num| num * 3 }\n",
    "half_it  = lambda { |num| num / 2 }\n",
    "value = 5\n",
    "lambda_pipeline = [double_it, triple_it, half_it]\n",
    "lambda_pipeline.each do |lmb|\n",
    "  value = lmb.call(value)\n",
    "end\n",
    "puts value\n",
    "The output:\n",
    "15\n",
    "Of course, this pipeline is over engineered. This calculation would be better done with a statement ( num  = num * 2 * 3 / 2 ). If the lambda functions are defined elsewhere, pulled from configuration at runtime or are more complex, a processing pipeline lead to clearer code.\n",
    "A lambda has an execution context, represented in Ruby by a Binding object. This is the environment in which your code executes, including, among other things, local variables. This means that lambdas can be closures which allow the code in the function to access these captured local variables. Here’s an example:\n",
    "def build_lambda\n",
    "  output = \"output from function\"\n",
    "  return lambda { puts output }\n",
    "end\n",
    "output = \"output from top level\"\n",
    "my_lambda = build_lambda\n",
    "my_lambda.call\n",
    "What do you think will be printed? The top-level output variable or the output variable from within the lambda?\n",
    "The output:\n",
    "output from function\n",
    "We see “output from function”. The lambda function retains the local variable values at the time it was defined. To illustrate this further, here is a dynamic lambda creation function:\n",
    "def build_lambda(text)\n",
    "  my_text = text\n",
    "  return lambda { puts my_text }\n",
    "end\n",
    "my_lambda = build_lambda(\"first function\")\n",
    "another_lambda = build_lambda(\"second function\")\n",
    "\n",
    "my_lambda.call\n",
    "another_lambda.call\n",
    "The output:\n",
    "first function\n",
    "second function\n",
    "#The following are specific situations in which you might want to use a Ruby lambda.\n",
    "#Encapsulating complicated logic \n",
    "#With a Ruby lambda, you may put logic and pass it to other code as a parameter. You could do the same by creating a class with a method, creating an object, and then passing that object. But if you don’t need much state and only need one function on your object, a lambda function can provide a simpler way to convey the intent.\n",
    "#An in-memory state machine or data pipeline\n",
    "#As seen above, you can chain lambdas. If you have in-memory data that transitions between states in a deterministic manner, such as in a state machine or workflow, you can represent each of the transformations as a lambda function. This will allow you to assemble and reorder such transformations easily.\n",
    "\n"
   ]
  },
  {
   "cell_type": "markdown",
   "id": "0109228f",
   "metadata": {},
   "source": [
    "Callbacks\n",
    "Lambdas are perfect for simple callbacks. When used in that way, they can be defined close to where they will be executed, or even inline.\n",
    "ActiveRecord scopes\n",
    "ActiveRecord scopes, used in Rails applications, are commonplace to see a lambda function, at least for web developers. These scopes must be callable because they should be evaluated at run time. \n",
    "For instance, if you want your controller to show articles published in the last week, you’d write a scope like this:"
   ]
  },
  {
   "cell_type": "code",
   "execution_count": null,
   "id": "85728b02",
   "metadata": {},
   "outputs": [],
   "source": [
    "scope :new_posts, lambda { where(\"created_at > ?\", 1.week.ago) }\n",
    "\n",
    "#If this wasn’t a lambda, then 1.week.ago would be evaluated when the class is loaded, rather than when the lambda runs. That is not the correct behavior and would be more incorrect as time went on.\n",
    "#Rails checks and doesn’t allow such behavior for scopes. This code will not execute and throws a message: \"The scope body needs to be callable\"\n",
    "\n",
    "scope :new_posts_broken, where(\"created_at > ?\", 1.week.ago)\n",
    "\n",
    "#Preventing a collection from being preloaded in active admin\n",
    "#Similar to ActiveRecord, you can use lambdas to evaluate collections at run time in ActiveAdmin. You can speed up the index page load times by using lambdas to lazily load some of your UI elements:\n",
    "#“The :check_boxes and :select types accept options for the collection. By default, it attempts to create a collection based on an association. But you can pass in the collection as a proc to be called at render time.” - https://activeadmin.info/3-index-pages.html\n"
   ]
  },
  {
   "cell_type": "code",
   "execution_count": null,
   "id": "15b63fde",
   "metadata": {},
   "outputs": [],
   "source": [
    "#Ruby Proc vs. Lambda - What’s the Difference?\n",
    "#Lambdas are closely related to Ruby Procs. In fact, creating a lambda is almost “equivalent to Proc.new”. There are, however, a few differences that may catch you unawares.\n",
    "#Lambdas enforce argument count\n",
    "#Lambda functions check the number of parameters passed when they are called. If you create a lambda function that accepts one parameter, and you call the lambda with zero parameters, it will fail. If you call it with two or more parameters, it will also fail. The lambda must be called with exactly one parameter. \n",
    "#Procs, on the other hand, accept any number of arguments. If they are passed too few arguments, the unpassed arguments are set to a value of nil. If they are passed too many arguments, the extraneous arguments are dropped silently. Here’s some example code to illustrate the point:\n",
    "\n",
    "my_proc = Proc.new {|name| puts \"proc says hello \" + name.to_s }\n",
    "my_lambda = lambda {|name| puts \"lambda says hello \" + name.to_s }\n",
    "my_proc.call(\"jerry\")\n",
    "my_lambda.call(\"jerry\")\n",
    "my_proc.call\n",
    "my_lambda.call\n",
    "The output with the last call to the lambda throwing an exception:\n",
    "proc says hello jerry\n",
    "lambda says hello jerry\n",
    "proc says hello\n",
    "#Traceback (most recent call last):\n",
    "#     1: from proc_vs_lambda.rb:8:in `<main>'\n",
    "#proc_vs_lambda.rb:2:in `block in <main>': wrong number of arguments (given 0, expected 1) (ArgumentError)\n",
    "#You can, of course, use the splat operator allow a lambda to take multiple arguments:\n",
    "\n",
    "my_lambda = lambda do |*args|\n",
    "  args.each do |arg|\n",
    "puts \"I saw \" +arg\n",
    "  end\n",
    "end\n",
    "my_lambda.call(\"a\", \"b\", \"c\")\n",
    "The output:\n",
    "I saw a\n",
    "I saw b\n",
    "I saw c\n",
    "#The behavior of the return statement\n",
    "#The return statement is handled differently as well. The return statement in a lambda function stops the lambda and returns control to the calling code. The return statement in a Proc, in contrast, returns from both the Proc and the calling code. Here’s an example:\n",
    "my_lambda = lambda do |name|\n",
    "  puts \"lambda says hello \" + name\n",
    "  return \"lambda done\"\n",
    "end\n",
    "my_proc = Proc.new do |name|\n",
    "  puts \"proc says hello \" + name\n",
    "  return \"proc done\"\n",
    "end\n",
    "def call_lambda(lmbda)\n",
    "  value = lmbda.call(\"jerry\")\n",
    "  puts value\n",
    "end\n",
    "call_lambda(my_lambda)\n",
    "def call_proc(prc)\n",
    "  value = prc.call(\"jerry\")\n",
    "  puts value\n",
    "end\n",
    "call_proc(my_proc)\n",
    "The output:\n",
    "lambda says hello jerry\n",
    "lambda done\n",
    "proc says hello jerry\n",
    "#You see “lambda done” but not “proc done” because the return statement in the proc terminates the program flow.\n",
    "\n",
    "Ruby Lambdas in Use\n",
    "Ruby Lambdas can be used in a number of situations. Sometimes, there’s no need for state, so an object would be overkill, but the logic is complicated enough to be pulled out to a separate, portable variable. In other cases the value of writing a lambda is the runtime flexibility.\n",
    "ActiveRecord scopes\n",
    "As mentioned previously, ActiveRecord scopes are a common use of Ruby lambdas. Here’s an ActiveRecord scope on an Article model which only displays published articles:\n",
    "  scope :published, lambda { where(published: true) }\n",
    "In the controller you can call the scope like this:\n",
    "@articles = Article.published.all\n",
    "In the Rails ActiveRecord guide, the scopes are all written in the lambda literal syntax, but the functionality is the same:\n",
    "scope :published,  -> { where(published: true) }\n",
    "Callbacks\n",
    "Lambdas are great choices for simple callbacks. You can define them right before you use them or inline, without the cognitive overhead of an object or the namespace pollution of a function. In the Rails codebase, lambdas are used to capture success or failures in tests. Here’s an ActionCable test:\n",
    "  test \"#subscribe returns NotImplementedError by default\" do\n",
    "callback = lambda { puts \"callback\" }\n",
    "success_callback = lambda { puts \"success\" }\n",
    "assert_raises NotImplementedError do\n",
    "   BrokenAdapter.new(@server).subscribe(\"channel\", callback, success_callback)\n",
    "end\n",
    "  end\n",
    "Dynamic mapping\n",
    "If you want to map over a collection, but the map function changes based on the input, you can use a lambda to encapsulate the changing logic. Here’s an example of code in which the mapping function differs based on the input--any number that is a multiple of 5 is omitted and any odd number is doubled. This logic could also be defined and tested elsewhere.\n",
    "collection = [1,2,3,4,5,6,7,8]\n",
    "my_lambda = lambda do |num|\n",
    "  if num % 2 == 0\n",
    "return num\n",
    "  end\n",
    "  if num % 5 == 0\n",
    "return\n",
    "  end\n",
    "  num*2\n",
    "end\n",
    "new_collection = collection.map { |c| my_lambda.call(c) }.compact\n",
    "puts new_collection\n",
    "The output:\n",
    "2\n",
    "2\n",
    "6\n",
    "4\n",
    "6\n",
    "14\n",
    "8\n",
    "A faux hash\n",
    "Because a lambda can be called with the syntax: my_lambda[“argument”], you can create a hash-like read-only object which returns values from a key based on code.  Here’s an example of a lambda that disallows certain keys that are specified at creation. All other keys are concatenated with their value.\n",
    "def build_lambda(restricted_values)\n",
    "  my_hash = {}\n",
    "  my_lambda = lambda do |key|\n",
    "if restricted_values.include? key\n",
    "   return \"n/a\"\n",
    "else\n",
    "   return key + key\n",
    "end\n",
    "  end\n",
    "  my_lambda\n",
    "end\n",
    "my_multiplying_hash_like_object = build_lambda(['hi'])\n",
    "puts my_multiplying_hash_like_object[\"hi\"]\n",
    "puts my_multiplying_hash_like_object[\"bye\"]\n",
    "\n",
    "The output:\n",
    "n/a\n",
    "byebye\n",
    "#If you were providing read-only access to configuration values pulled from a database or a file and wanted to allow hash-like access, you could use such a lambda. Beware, if you use any of the other hash methods, the lambda fails:\n",
    "puts my_multiplying_hash_like_object.keys\n",
    "The output:\n",
    "#undefined method `keys' for #<Proc:0x00000000026972b8@lambda_as_hash.rb:3 (lambda)> (NoMethodError)\n"
   ]
  },
  {
   "cell_type": "markdown",
   "id": "cac97737",
   "metadata": {},
   "source": [
    "# Ruby Lambdas in Use\n",
    "Ruby Lambdas can be used in a number of situations. Sometimes, there’s no need for state, so an object would be overkill, but the logic is complicated enough to be pulled out to a separate, portable variable. In other cases the value of writing a lambda is the runtime flexibility.\n",
    "ActiveRecord scopes\n",
    "As mentioned previously, ActiveRecord scopes are a common use of Ruby lambdas. "
   ]
  },
  {
   "cell_type": "code",
   "execution_count": 53,
   "id": "29a02def",
   "metadata": {},
   "outputs": [
    {
     "ename": "NoMethodError",
     "evalue": "undefined method `scope' for #<Object:0x00007fe661641b68 @var=\"I'm an instance var\">",
     "output_type": "error",
     "traceback": [
      "\u001b[31mNoMethodError\u001b[0m: undefined method `scope' for #<Object:0x00007fe661641b68 @var=\"I'm an instance var\">",
      "(irb):2:in `<main>'"
     ]
    }
   ],
   "source": [
    "#Here’s an ActiveRecord scope on an Article model which only displays published articles:\n",
    "  \n",
    "scope :published, lambda { where(published: true) }\n",
    "\n",
    "#In the controller you can call the scope like this:\n",
    "\n",
    "@articles = Article.published.all\n",
    "\n",
    "#In the Rails ActiveRecord guide, the scopes are all written in the lambda literal syntax, but the functionality is the same:\n",
    "\n",
    "scope :published,  -> { where(published: true) }\n",
    "\n",
    "#Callbacks\n",
    "#Lambdas are great choices for simple callbacks. You can define them right before you use them or inline, without the cognitive overhead of an object or the namespace pollution of a function. In the Rails codebase, lambdas are used to capture success or failures in tests. Here’s an ActionCable test:\n",
    " \n",
    "test \"#subscribe returns NotImplementedError by default\" do\n",
    "    callback = lambda { puts \"callback\" }\n",
    "    success_callback = lambda { puts \"success\" }\n",
    "    assert_raises NotImplementedError do\n",
    "       BrokenAdapter.new(@server).subscribe(\"channel\", callback, success_callback)\n",
    "    end\n",
    "end\n",
    "\n",
    "#Dynamic mapping\n",
    "#If you want to map over a collection, but the map function changes based on the input, you can use a lambda to encapsulate the changing logic. Here’s an example of code in which the mapping function differs based on the input--any number that is a multiple of 5 is omitted and any odd number is doubled. This logic could also be defined and tested elsewhere.\n",
    "\n",
    "collection = [1,2,3,4,5,6,7,8]\n",
    "my_lambda = lambda do |num|\n",
    "  if num % 2 == 0\n",
    "    return num\n",
    "  end\n",
    "  if num % 5 == 0\n",
    "    return\n",
    "  end\n",
    "  num*2\n",
    "end\n",
    "\n",
    "new_collection = collection.map { |c| my_lambda.call(c) }.compact\n",
    "puts new_collection\n",
    "\n",
    "#The output:\n",
    "#2\n",
    "#2\n",
    "#6\n",
    "#4\n",
    "#6\n",
    "#14\n",
    "#8\n",
    "#A faux hash\n",
    "#Because a lambda can be called with the syntax: my_lambda[“argument”], you can create a hash-like read-only object which returns values from a key based on code.  Here’s an example of a lambda that disallows certain keys that are specified at creation. All other keys are concatenated with their value.\n",
    "\n",
    "def build_lambda(restricted_values)\n",
    "    my_hash = {}\n",
    "    my_lambda = lambda do |key|\n",
    "        if restricted_values.include? key\n",
    "           return \"n/a\"\n",
    "        else\n",
    "           return key + key\n",
    "        end\n",
    "    end\n",
    "    my_lambda\n",
    "end\n",
    "\n",
    "my_multiplying_hash_like_object = build_lambda(['hi'])\n",
    "puts my_multiplying_hash_like_object[\"hi\"]\n",
    "puts my_multiplying_hash_like_object[\"bye\"]\n",
    "\n",
    "#The output:\n",
    "#n/a\n",
    "#byebye\n",
    "#If you were providing read-only access to configuration values pulled from a database or a file and wanted to allow hash-like access, you could use such a lambda. Beware, if you use any of the other hash methods, the lambda fails:\n",
    "puts my_multiplying_hash_like_object.keys\n",
    "#The output:\n",
    "#undefined method `keys' for #<Proc:0x00000000026972b8@lambda_as_hash.rb:3 (lambda)> (NoMethodError)"
   ]
  },
  {
   "cell_type": "markdown",
   "id": "4b3282d0",
   "metadata": {},
   "source": [
    "#Performance\n",
    "#If you are using a lambda in a tight loop or other high-performance situation, benchmark it to make sure your needs are met. As always, premature optimization is the root of all evil. From my testing, it looks like lambda functions are about 30% slower than method or function calls, but here’s a benchmark script to run on your system:"
   ]
  },
  {
   "cell_type": "code",
   "execution_count": 52,
   "id": "d4b076c5",
   "metadata": {},
   "outputs": [
    {
     "name": "stdout",
     "output_type": "stream",
     "text": [
      "function\n",
      "  6.341108   0.023756   6.364864 (  6.366068)\n",
      "lambda\n",
      " 29.419843   0.101209  29.521052 ( 29.525772)\n",
      "object method\n",
      "  6.366441   0.029170   6.395611 (  6.395647)\n"
     ]
    }
   ],
   "source": [
    "require 'benchmark'\n",
    "def my_function(a,b)\n",
    "  return a*b\n",
    "end\n",
    "my_lambda = lambda {|a,b| return a*b }\n",
    "class Calc\n",
    "  def mult(a,b)\n",
    "return a*b\n",
    "  end\n",
    "end\n",
    "puts \"function\"\n",
    "puts Benchmark.measure {\n",
    "  50_000_000.times do\n",
    "my_function(rand, rand)\n",
    "  end\n",
    "}\n",
    "puts \"lambda\"\n",
    "puts Benchmark.measure {\n",
    "  50_000_000.times do\n",
    "my_lambda.call(rand, rand)\n",
    "  end\n",
    "}\n",
    "puts \"object method\"\n",
    "calc = Calc.new\n",
    "puts Benchmark.measure {\n",
    "  50_000_000.times do\n",
    "calc.mult(rand, rand)\n",
    "  end\n",
    "}\n"
   ]
  },
  {
   "cell_type": "code",
   "execution_count": null,
   "id": "b2f39609",
   "metadata": {},
   "outputs": [],
   "source": []
  },
  {
   "cell_type": "code",
   "execution_count": null,
   "id": "ddedaa88",
   "metadata": {},
   "outputs": [],
   "source": []
  }
 ],
 "metadata": {
  "interpreter": {
   "hash": "b99e5bc94fb524f0ee79074dcca0a1ba030677ca89f6f0b9faee9bdd2e45338f"
  },
  "kernelspec": {
   "display_name": "Ruby 3.0.2",
   "language": "python",
   "name": "python3"
  },
  "language_info": {
   "file_extension": ".rb",
   "mimetype": "application/x-ruby",
   "name": "python",
   "version": "3.7.0"
  }
 },
 "nbformat": 4,
 "nbformat_minor": 5
}
