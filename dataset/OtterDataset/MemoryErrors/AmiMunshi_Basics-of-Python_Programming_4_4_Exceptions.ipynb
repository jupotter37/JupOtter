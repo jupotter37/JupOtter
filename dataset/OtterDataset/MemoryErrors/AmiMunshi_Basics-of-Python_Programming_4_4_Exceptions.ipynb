{
  "nbformat": 4,
  "nbformat_minor": 0,
  "metadata": {
    "colab": {
      "name": "Unit4.4_Exceptions.ipynb",
      "provenance": [],
      "authorship_tag": "ABX9TyOSPq2EdZsLdBmU1x2bUWCa",
      "include_colab_link": true
    },
    "kernelspec": {
      "name": "python3",
      "display_name": "Python 3"
    },
    "language_info": {
      "name": "python"
    }
  },
  "cells": [
    {
      "cell_type": "markdown",
      "metadata": {
        "id": "view-in-github",
        "colab_type": "text"
      },
      "source": [
        "<a href=\"https://colab.research.google.com/github/AmiMunshi/Introduction_to_Python_Programming/blob/main/Unit4_4_Exceptions.ipynb\" target=\"_parent\"><img src=\"https://colab.research.google.com/assets/colab-badge.svg\" alt=\"Open In Colab\"/></a>"
      ]
    },
    {
      "cell_type": "markdown",
      "metadata": {
        "id": "t0f39rHCRCaI"
      },
      "source": [
        "Three types of error-\n",
        "\n",
        "Compile-time errors/Syntax error\n",
        "\n",
        "Runtime errors\n",
        "\n",
        "Logical errors"
      ]
    },
    {
      "cell_type": "code",
      "metadata": {
        "id": "3u0hMJpoQ8s2",
        "colab": {
          "base_uri": "https://localhost:8080/",
          "height": 130
        },
        "outputId": "df63adaa-7ec1-46f3-806d-d392a6b2c1dc"
      },
      "source": [
        "#example of Compile Time Errors\n",
        "x=1\n",
        "if x==1\n",
        "  print(\"Error as there is no colon\")"
      ],
      "execution_count": null,
      "outputs": [
        {
          "output_type": "error",
          "ename": "SyntaxError",
          "evalue": "ignored",
          "traceback": [
            "\u001b[0;36m  File \u001b[0;32m\"<ipython-input-3-6a4c0eae6459>\"\u001b[0;36m, line \u001b[0;32m3\u001b[0m\n\u001b[0;31m    if x==1\u001b[0m\n\u001b[0m           ^\u001b[0m\n\u001b[0;31mSyntaxError\u001b[0m\u001b[0;31m:\u001b[0m invalid syntax\n"
          ]
        }
      ]
    },
    {
      "cell_type": "code",
      "metadata": {
        "colab": {
          "base_uri": "https://localhost:8080/",
          "height": 130
        },
        "id": "EOtjIoHLisp6",
        "outputId": "b96a705a-56ea-4ca2-c7cd-68a09b02c3e8"
      },
      "source": [
        "#Example of compile time error\n",
        "\n",
        "x=10\n",
        "if x%2==0:\n",
        "  print(x, \" is divisible by 2\")\n",
        "    print(x, \" is even\")"
      ],
      "execution_count": null,
      "outputs": [
        {
          "output_type": "error",
          "ename": "IndentationError",
          "evalue": "ignored",
          "traceback": [
            "\u001b[0;36m  File \u001b[0;32m\"<ipython-input-4-3faba32343d9>\"\u001b[0;36m, line \u001b[0;32m6\u001b[0m\n\u001b[0;31m    print(x, \" is even\")\u001b[0m\n\u001b[0m    ^\u001b[0m\n\u001b[0;31mIndentationError\u001b[0m\u001b[0;31m:\u001b[0m unexpected indent\n"
          ]
        }
      ]
    },
    {
      "cell_type": "markdown",
      "metadata": {
        "id": "eZD3TuMecvBs"
      },
      "source": [
        "Runtime error\n",
        "If a program is syntactically correct – that is, free of syntax errors – it will be run by the Python interpreter. However, the program may exit unexpectedly during execution if it encounters a runtime error – a problem which was not detected when the program was parsed, but is only revealed when a particular line is executed.<br>\n",
        "\n",
        "Some common runtime errors are\n",
        "\n",
        "division by zero\n",
        "\n",
        "performing an operation on incompatible types\n",
        "\n",
        "using an identifier which has not been defined\n",
        "\n",
        "accessing a list element, dictionary value or object attribute which doesn’t exist\n",
        "\n",
        "trying to access a file which doesn’t exist"
      ]
    },
    {
      "cell_type": "code",
      "metadata": {
        "id": "6LnjgoaijMv9"
      },
      "source": [
        "#example for run time error\n",
        "\n",
        "def concat(a,b):\n",
        "  return a+b"
      ],
      "execution_count": null,
      "outputs": []
    },
    {
      "cell_type": "code",
      "metadata": {
        "colab": {
          "base_uri": "https://localhost:8080/",
          "height": 284
        },
        "id": "GnPw-Ot8jdDO",
        "outputId": "0bb5d0f1-71fe-4b55-d0ab-2ffd552707bb"
      },
      "source": [
        "# call concat and pass arguments\n",
        "\n",
        "print(concat(\"number\", 5))\n"
      ],
      "execution_count": null,
      "outputs": [
        {
          "output_type": "error",
          "ename": "TypeError",
          "evalue": "ignored",
          "traceback": [
            "\u001b[0;31m---------------------------------------------------------------------------\u001b[0m",
            "\u001b[0;31mTypeError\u001b[0m                                 Traceback (most recent call last)",
            "\u001b[0;32m<ipython-input-6-0df4300d2b06>\u001b[0m in \u001b[0;36m<module>\u001b[0;34m()\u001b[0m\n\u001b[1;32m      1\u001b[0m \u001b[0;31m# call concat and pass arguments\u001b[0m\u001b[0;34m\u001b[0m\u001b[0;34m\u001b[0m\u001b[0;34m\u001b[0m\u001b[0m\n\u001b[1;32m      2\u001b[0m \u001b[0;34m\u001b[0m\u001b[0m\n\u001b[0;32m----> 3\u001b[0;31m \u001b[0mprint\u001b[0m\u001b[0;34m(\u001b[0m\u001b[0mconcat\u001b[0m\u001b[0;34m(\u001b[0m\u001b[0;34m\"number\"\u001b[0m\u001b[0;34m,\u001b[0m \u001b[0;36m5\u001b[0m\u001b[0;34m)\u001b[0m\u001b[0;34m)\u001b[0m\u001b[0;34m\u001b[0m\u001b[0;34m\u001b[0m\u001b[0m\n\u001b[0m",
            "\u001b[0;32m<ipython-input-5-15a89684f0a1>\u001b[0m in \u001b[0;36mconcat\u001b[0;34m(a, b)\u001b[0m\n\u001b[1;32m      2\u001b[0m \u001b[0;34m\u001b[0m\u001b[0m\n\u001b[1;32m      3\u001b[0m \u001b[0;32mdef\u001b[0m \u001b[0mconcat\u001b[0m\u001b[0;34m(\u001b[0m\u001b[0ma\u001b[0m\u001b[0;34m,\u001b[0m\u001b[0mb\u001b[0m\u001b[0;34m)\u001b[0m\u001b[0;34m:\u001b[0m\u001b[0;34m\u001b[0m\u001b[0;34m\u001b[0m\u001b[0m\n\u001b[0;32m----> 4\u001b[0;31m   \u001b[0;32mreturn\u001b[0m \u001b[0ma\u001b[0m\u001b[0;34m+\u001b[0m\u001b[0mb\u001b[0m\u001b[0;34m\u001b[0m\u001b[0;34m\u001b[0m\u001b[0m\n\u001b[0m",
            "\u001b[0;31mTypeError\u001b[0m: can only concatenate str (not \"int\") to str"
          ]
        }
      ]
    },
    {
      "cell_type": "code",
      "metadata": {
        "colab": {
          "base_uri": "https://localhost:8080/",
          "height": 199
        },
        "id": "UBh3wJLpkCZX",
        "outputId": "ded410fc-c716-48c4-c325-15a32a9d8e43"
      },
      "source": [
        "#Example of runtime error\n",
        "\n",
        "fruits= [\"mango\", \"grapes\", \"apple\"]\n",
        "fruits[4]"
      ],
      "execution_count": null,
      "outputs": [
        {
          "output_type": "error",
          "ename": "IndexError",
          "evalue": "ignored",
          "traceback": [
            "\u001b[0;31m---------------------------------------------------------------------------\u001b[0m",
            "\u001b[0;31mIndexError\u001b[0m                                Traceback (most recent call last)",
            "\u001b[0;32m<ipython-input-7-9698bb737d09>\u001b[0m in \u001b[0;36m<module>\u001b[0;34m()\u001b[0m\n\u001b[1;32m      2\u001b[0m \u001b[0;34m\u001b[0m\u001b[0m\n\u001b[1;32m      3\u001b[0m \u001b[0mfruits\u001b[0m\u001b[0;34m=\u001b[0m \u001b[0;34m[\u001b[0m\u001b[0;34m\"mango\"\u001b[0m\u001b[0;34m,\u001b[0m \u001b[0;34m\"grapes\"\u001b[0m\u001b[0;34m,\u001b[0m \u001b[0;34m\"apple\"\u001b[0m\u001b[0;34m]\u001b[0m\u001b[0;34m\u001b[0m\u001b[0;34m\u001b[0m\u001b[0m\n\u001b[0;32m----> 4\u001b[0;31m \u001b[0mfruits\u001b[0m\u001b[0;34m[\u001b[0m\u001b[0;36m4\u001b[0m\u001b[0;34m]\u001b[0m\u001b[0;34m\u001b[0m\u001b[0;34m\u001b[0m\u001b[0m\n\u001b[0m",
            "\u001b[0;31mIndexError\u001b[0m: list index out of range"
          ]
        }
      ]
    },
    {
      "cell_type": "code",
      "metadata": {
        "id": "uO-_Ng_CkNlY"
      },
      "source": [
        "#Example of logical error\n",
        "\n",
        "def increment(sal,p):\n",
        "  sal= sal+ p*sal/100\n",
        "  return sal\n"
      ],
      "execution_count": null,
      "outputs": []
    },
    {
      "cell_type": "code",
      "metadata": {
        "colab": {
          "base_uri": "https://localhost:8080/"
        },
        "id": "0gxZi_VikyDy",
        "outputId": "05179f2a-d77a-479b-f138-34c3f5e79522"
      },
      "source": [
        "sal = int(input(\"Enter your current sal: \"))\n",
        "p=int(input(\"Enter the increment percentage:\"))\n",
        "\n",
        "print(\"Your revised salary is \", increment(sal,p))"
      ],
      "execution_count": null,
      "outputs": [
        {
          "output_type": "stream",
          "name": "stdout",
          "text": [
            "Enter your current sal: 5000\n",
            "Enter the increment percentage:10\n",
            "Your revised salary is  5500.0\n"
          ]
        }
      ]
    },
    {
      "cell_type": "markdown",
      "metadata": {
        "id": "kPWMWxYtf_yZ"
      },
      "source": [
        "Handling Exception\n",
        "\n",
        "Foreseeable and common situations can be handled gracefully. This is called as exception handling.\n"
      ]
    },
    {
      "cell_type": "markdown",
      "metadata": {
        "id": "-u0tVSWG6N-I"
      },
      "source": [
        "Exception\tCause of Error\n",
        "\n",
        "AssertionError\tRaised when an assert statement fails.\n",
        "\n",
        "AttributeError\tRaised when attribute assignment or reference fails.\n",
        "\n",
        "EOFError\tRaised when the input() function hits end-of-file condition.\n",
        "\n",
        "FloatingPointError\tRaised when a floating point operation fails.\n",
        "\n",
        "GeneratorExit\tRaise when a generator's close() method is called.\n",
        "\n",
        "ImportError\tRaised when the imported module is not found.\n",
        "\n",
        "IndexError\tRaised when the index of a sequence is out of range.\n",
        "\n",
        "KeyError\tRaised when a key is not found in a dictionary.\n",
        "\n",
        "KeyboardInterrupt\tRaised when the user hits the interrupt key (Ctrl+C or Delete).\n",
        "\n",
        "MemoryError\tRaised when an operation runs out of memory.\n",
        "\n",
        "NameError\tRaised when a variable is not found in local or global scope.\n",
        "\n",
        "NotImplementedError\tRaised by abstract methods.\n",
        "\n",
        "OSError\tRaised when system operation causes system related error.\n",
        "\n",
        "OverflowError\tRaised when the result of an arithmetic operation is too large to be represented.\n",
        "\n",
        "ReferenceError\tRaised when a weak reference proxy is used to access a garbage collected referent.\n",
        "\n",
        "RuntimeError\tRaised when an error does not fall under any other category.\n",
        "\n",
        "StopIteration\tRaised by next() function to indicate that there is no further item to be returned by iterator.\n",
        "\n",
        "SyntaxError\tRaised by parser when syntax error is encountered.\n",
        "\n",
        "IndentationError\tRaised when there is incorrect indentation.\n",
        "\n",
        "TabError\tRaised when indentation consists of inconsistent tabs and spaces.\n",
        "\n",
        "SystemError\tRaised when interpreter detects internal error.\n",
        "\n",
        "SystemExit\tRaised by sys.exit() function.\n",
        "\n",
        "TypeError\tRaised when a function or operation is applied to an object of incorrect type.\n",
        "\n",
        "UnboundLocalError\tRaised when a reference is made to a local variable in a function or method, but no value has been bound to that variable.\n",
        "\n",
        "UnicodeError\tRaised when a Unicode-related encoding or decoding error occurs.\n",
        "\n",
        "UnicodeEncodeError\tRaised when a Unicode-related error occurs during encoding.\n",
        "\n",
        "UnicodeDecodeError\tRaised when a Unicode-related error occurs during decoding.\n",
        "\n",
        "UnicodeTranslateError\tRaised when a Unicode-related error occurs during translating.\n",
        "\n",
        "ValueError\tRaised when a function gets an argument of correct type but improper value.\n",
        "\n",
        "ZeroDivisionError\tRaised when the second operand of division or modulo operation is zero.\n"
      ]
    },
    {
      "cell_type": "code",
      "metadata": {
        "colab": {
          "base_uri": "https://localhost:8080/"
        },
        "id": "faMECBWnggMS",
        "outputId": "3443d7d6-3d66-4446-f656-91a4b411dbbb"
      },
      "source": [
        "#Example ValueError\n",
        "\n",
        "try:\n",
        "  marks= int(input(\"Enter your marks: \"))\n",
        "  print(\"You got {} marks in the test\".format(marks))\n",
        "except ValueError:\n",
        "  print(\"ValueError, entered value is not a number\")\n",
        "\n"
      ],
      "execution_count": null,
      "outputs": [
        {
          "output_type": "stream",
          "name": "stdout",
          "text": [
            "Enter your marks: hh\n",
            "ValueError, entered value is not a number\n"
          ]
        }
      ]
    },
    {
      "cell_type": "code",
      "metadata": {
        "id": "xjFVT-UzlZa9",
        "colab": {
          "base_uri": "https://localhost:8080/"
        },
        "outputId": "99e34d51-820c-4f4f-ddc6-9e126c39a7ad"
      },
      "source": [
        "#Example Zero division error\n",
        "\n",
        "try:\n",
        "  f= open(\"myfile1.txt\", \"w\")\n",
        "  a,b =[int(x) for x in input(\"Enter two numbers: \").split()]\n",
        "  c=a/b\n",
        "  f.write(\"writing {} in myfile1.txt\".format(c))\n",
        "except ZeroDivisionError:\n",
        "  print(\"please do not enter 0 as a number\")\n",
        "\n",
        "finally:\n",
        "  f.close()\n",
        "  print(\"This file is closed\")\n",
        "  \n",
        "\n",
        "\n",
        "\n",
        "\n"
      ],
      "execution_count": null,
      "outputs": [
        {
          "output_type": "stream",
          "name": "stdout",
          "text": [
            "Enter two numbers: 3 0\n",
            "please do not enter 0 as a number\n",
            "This file is closed\n"
          ]
        }
      ]
    },
    {
      "cell_type": "code",
      "metadata": {
        "id": "qfTSaqo-3Yse"
      },
      "source": [
        "#DIY Write a python program to handle multiple exceptions"
      ],
      "execution_count": null,
      "outputs": []
    },
    {
      "cell_type": "code",
      "metadata": {
        "colab": {
          "base_uri": "https://localhost:8080/"
        },
        "id": "20-dsSOw3oyn",
        "outputId": "489a5c37-2559-4f6a-f76c-b3a859304665"
      },
      "source": [
        "#Example for syntax error\n",
        "\n",
        "try:\n",
        "  date= eval(input(\"Enter the date: \"))\n",
        "\n",
        " \n",
        "except SyntaxError:\n",
        "  print(\"Syntax Error, Invalid date entered\")\n",
        "\n",
        "except NameError:\n",
        "  print(\"Name Error, invalid date entered\")\n",
        "\n",
        "except TypeError:\n",
        "  print(\"Type Error, invalid date entered\") #Need to figure out\n",
        "  \n",
        "else:\n",
        "  print(date)\n",
        "  "
      ],
      "execution_count": null,
      "outputs": [
        {
          "output_type": "stream",
          "name": "stdout",
          "text": [
            "Enter the date: 2021, b, 6\n",
            "2021, b, 6\n"
          ]
        }
      ]
    },
    {
      "cell_type": "code",
      "metadata": {
        "id": "IVbu5SQX4Yzm"
      },
      "source": [
        "#Example to use eval()\n",
        "\n",
        "evaluate= input(\"Enter your data\")\n",
        "print(evaluate)"
      ],
      "execution_count": null,
      "outputs": []
    },
    {
      "cell_type": "code",
      "metadata": {
        "colab": {
          "base_uri": "https://localhost:8080/"
        },
        "id": "YCUKqhL-4-7X",
        "outputId": "9dee6ecc-8486-4bfe-91d9-2f9f9950f158"
      },
      "source": [
        "type(evaluate)"
      ],
      "execution_count": null,
      "outputs": [
        {
          "output_type": "execute_result",
          "data": {
            "text/plain": [
              "str"
            ]
          },
          "metadata": {},
          "execution_count": 10
        }
      ]
    },
    {
      "cell_type": "code",
      "metadata": {
        "colab": {
          "base_uri": "https://localhost:8080/"
        },
        "id": "xYCZdlFv4lnn",
        "outputId": "7f7150be-d14a-491e-8459-92a05bdc3b14"
      },
      "source": [
        "evaluate1= eval(input(\"Enter your data\"))\n",
        "print(evaluate1)"
      ],
      "execution_count": null,
      "outputs": [
        {
          "output_type": "stream",
          "name": "stdout",
          "text": [
            "Enter your data2021, 9,14\n",
            "(2021, 9, 14)\n"
          ]
        }
      ]
    },
    {
      "cell_type": "code",
      "metadata": {
        "colab": {
          "base_uri": "https://localhost:8080/"
        },
        "id": "1pIbLMk_47wf",
        "outputId": "8a963802-6a4b-4a60-d2e7-707dfb71be3a"
      },
      "source": [
        "type(evaluate1)"
      ],
      "execution_count": null,
      "outputs": [
        {
          "output_type": "execute_result",
          "data": {
            "text/plain": [
              "tuple"
            ]
          },
          "metadata": {},
          "execution_count": 9
        }
      ]
    },
    {
      "cell_type": "code",
      "metadata": {
        "colab": {
          "base_uri": "https://localhost:8080/"
        },
        "id": "RNSHZhs749J1",
        "outputId": "4b8f5dd4-118e-459f-ea3e-c7a550b59572"
      },
      "source": [
        "#Example of IOError\n",
        "#Accept a file name from the user\n",
        "\n",
        "try:\n",
        "  name= input(\"Enter the file name: \")\n",
        "  f= open(name, \"r\")\n",
        "except IOError:\n",
        "  print(\"No such file found \", name)\n",
        "  \n",
        "else:\n",
        "  n= len(f.readlines())\n",
        "  print(name, \" has \", n, \" lines\")\n",
        "finally:\n",
        "  f.close()\n",
        "  "
      ],
      "execution_count": null,
      "outputs": [
        {
          "output_type": "stream",
          "name": "stdout",
          "text": [
            "Enter the file name: yourfile.txt\n",
            "No such file found  yourfile.txt\n"
          ]
        }
      ]
    },
    {
      "cell_type": "code",
      "metadata": {
        "id": "g3enqWk183lE",
        "colab": {
          "base_uri": "https://localhost:8080/"
        },
        "outputId": "c73278ba-894c-45fa-8c6c-006f90c6fe36"
      },
      "source": [
        "#Example to handle multiple exceptions\n",
        "\n",
        "#A function to find total and average of elements in a list\n",
        "\n",
        "\n",
        "#Call avg() and pass a list\n",
        "def avg(list1):\n",
        "  tot= 0\n",
        "  for x in list1:\n",
        "    tot= tot+x\n",
        "  average= tot/len(list1)\n",
        "  return tot,average\n",
        "  \n",
        "try:\n",
        "  \n",
        "  t,a= avg([])\n",
        "  \n",
        "except TypeError:\n",
        "  print(\"TypeError, Enter numbers only \")\n",
        "\n",
        "except ZeroDivisionError:\n",
        "  print(\"Zerodivision error, please donot enter the empty list\")\n",
        "  \n",
        "else:\n",
        "  print(\"The total is {} and the average is {}\".format(t,a))\n",
        "  \n"
      ],
      "execution_count": null,
      "outputs": [
        {
          "output_type": "stream",
          "name": "stdout",
          "text": [
            "Zerodivision error, please donot enter the empty list\n"
          ]
        }
      ]
    },
    {
      "cell_type": "markdown",
      "metadata": {
        "id": "iYVbziDdXdEO"
      },
      "source": [
        "assert statement\n",
        "\n",
        "Useful to ensure that a given condition is true. If not true then the AssertionError is raised"
      ]
    },
    {
      "cell_type": "code",
      "metadata": {
        "colab": {
          "base_uri": "https://localhost:8080/"
        },
        "id": "CctwyQCeX35R",
        "outputId": "f92fba63-b808-48d5-b703-a3cf272518e0"
      },
      "source": [
        "#handling AssertionError\n",
        "\n",
        "try:\n",
        "  x= int(input(\"enter a number greater than zero:\"))\n",
        "  assert x>0\n",
        "  print(\"The number entered  is \", x)\n",
        "except AssertionError:\n",
        "  print(\"Number entered is less than zero\")"
      ],
      "execution_count": null,
      "outputs": [
        {
          "output_type": "stream",
          "name": "stdout",
          "text": [
            "enter a number greater than zero:5\n",
            "The number entered  is  5\n"
          ]
        }
      ]
    },
    {
      "cell_type": "markdown",
      "metadata": {
        "id": "bw9UKDVnsZrT"
      },
      "source": [
        "AttributeError\n",
        "\n",
        "Attributes are values or functions associated with an object, a data type, or a class. If you call an attribute on a value whose data type or class does not support that attribute, you’ll encounter an AttributeError.\n",
        "\n"
      ]
    },
    {
      "cell_type": "code",
      "metadata": {
        "colab": {
          "base_uri": "https://localhost:8080/",
          "height": 197
        },
        "id": "EYXuVZG0sPG0",
        "outputId": "86ec573a-e6d8-4782-c44b-6db790f57224"
      },
      "source": [
        "#Example AttributeError\n",
        "\n",
        "dict1= {1:\"good\", 2:\"happy\", 3:\"sad\"}\n",
        "dict1.append({4:\"timid\"})\n"
      ],
      "execution_count": null,
      "outputs": [
        {
          "output_type": "error",
          "ename": "AttributeError",
          "evalue": "ignored",
          "traceback": [
            "\u001b[0;31m---------------------------------------------------------------------------\u001b[0m",
            "\u001b[0;31mAttributeError\u001b[0m                            Traceback (most recent call last)",
            "\u001b[0;32m<ipython-input-1-1b8255bb8da4>\u001b[0m in \u001b[0;36m<module>\u001b[0;34m()\u001b[0m\n\u001b[1;32m      2\u001b[0m \u001b[0;34m\u001b[0m\u001b[0m\n\u001b[1;32m      3\u001b[0m \u001b[0mdict1\u001b[0m\u001b[0;34m=\u001b[0m \u001b[0;34m{\u001b[0m\u001b[0;36m1\u001b[0m\u001b[0;34m:\u001b[0m\u001b[0;34m\"good\"\u001b[0m\u001b[0;34m,\u001b[0m \u001b[0;36m2\u001b[0m\u001b[0;34m:\u001b[0m\u001b[0;34m\"happy\"\u001b[0m\u001b[0;34m,\u001b[0m \u001b[0;36m3\u001b[0m\u001b[0;34m:\u001b[0m\u001b[0;34m\"sad\"\u001b[0m\u001b[0;34m}\u001b[0m\u001b[0;34m\u001b[0m\u001b[0;34m\u001b[0m\u001b[0m\n\u001b[0;32m----> 4\u001b[0;31m \u001b[0mdict1\u001b[0m\u001b[0;34m.\u001b[0m\u001b[0mappend\u001b[0m\u001b[0;34m(\u001b[0m\u001b[0;34m{\u001b[0m\u001b[0;36m4\u001b[0m\u001b[0;34m:\u001b[0m\u001b[0;34m\"timid\"\u001b[0m\u001b[0;34m}\u001b[0m\u001b[0;34m)\u001b[0m\u001b[0;34m\u001b[0m\u001b[0;34m\u001b[0m\u001b[0m\n\u001b[0m",
            "\u001b[0;31mAttributeError\u001b[0m: 'dict' object has no attribute 'append'"
          ]
        }
      ]
    },
    {
      "cell_type": "code",
      "metadata": {
        "colab": {
          "base_uri": "https://localhost:8080/"
        },
        "id": "gsMg6ljwtXS-",
        "outputId": "665764ad-7d8f-4f4b-c7b4-d6964a7b206d"
      },
      "source": [
        "#Handling Attribute Error\n",
        "try:\n",
        "  dict1= {1:\"good\", 2:\"happy\", 3:\"sad\"}\n",
        "  dict1.append({4:\"timid\"})\n",
        "except AttributeError:\n",
        "  print(\"AttributeError, datatype has no such attribute\")\n"
      ],
      "execution_count": null,
      "outputs": [
        {
          "output_type": "stream",
          "name": "stdout",
          "text": [
            "AttributeError, datatype has no such attribute\n"
          ]
        }
      ]
    },
    {
      "cell_type": "markdown",
      "metadata": {
        "id": "2l9wJQnD39cJ"
      },
      "source": [
        "NameError\n",
        "NameError is raised when the identifier being accessed is not defined in the local or global scope."
      ]
    },
    {
      "cell_type": "code",
      "metadata": {
        "colab": {
          "base_uri": "https://localhost:8080/",
          "height": 195
        },
        "id": "yrXehYA_37yS",
        "outputId": "d4a23e50-2ba7-4a7c-fa78-58c720c4f1a2"
      },
      "source": [
        "#Example of NameError\n",
        "ans= 4*5\n",
        "print(an)"
      ],
      "execution_count": null,
      "outputs": [
        {
          "output_type": "error",
          "ename": "NameError",
          "evalue": "ignored",
          "traceback": [
            "\u001b[0;31m---------------------------------------------------------------------------\u001b[0m",
            "\u001b[0;31mNameError\u001b[0m                                 Traceback (most recent call last)",
            "\u001b[0;32m<ipython-input-6-f2c69cd89919>\u001b[0m in \u001b[0;36m<module>\u001b[0;34m()\u001b[0m\n\u001b[1;32m      1\u001b[0m \u001b[0;31m#Example of NameError\u001b[0m\u001b[0;34m\u001b[0m\u001b[0;34m\u001b[0m\u001b[0;34m\u001b[0m\u001b[0m\n\u001b[1;32m      2\u001b[0m \u001b[0mans\u001b[0m\u001b[0;34m=\u001b[0m \u001b[0;36m4\u001b[0m\u001b[0;34m*\u001b[0m\u001b[0;36m5\u001b[0m\u001b[0;34m\u001b[0m\u001b[0;34m\u001b[0m\u001b[0m\n\u001b[0;32m----> 3\u001b[0;31m \u001b[0mprint\u001b[0m\u001b[0;34m(\u001b[0m\u001b[0man\u001b[0m\u001b[0;34m)\u001b[0m\u001b[0;34m\u001b[0m\u001b[0;34m\u001b[0m\u001b[0m\n\u001b[0m",
            "\u001b[0;31mNameError\u001b[0m: name 'an' is not defined"
          ]
        }
      ]
    },
    {
      "cell_type": "code",
      "metadata": {
        "colab": {
          "base_uri": "https://localhost:8080/"
        },
        "id": "SajQSe6V42Hz",
        "outputId": "db834d24-bdaf-456f-82ef-94d6deb7efbb"
      },
      "source": [
        "#Example to handle NameError\n",
        "try:\n",
        "  ans= 4*5\n",
        "  print(an)\n",
        "except NameError:\n",
        "  print(\"NameError, some variable is not defined\")\n"
      ],
      "execution_count": null,
      "outputs": [
        {
          "output_type": "stream",
          "name": "stdout",
          "text": [
            "NameError, some variable is not defined\n"
          ]
        }
      ]
    },
    {
      "cell_type": "markdown",
      "metadata": {
        "id": "MZ4_iEgM5utG"
      },
      "source": [
        "TypeError\n",
        "\n",
        "Occurs when we try to perform the operation of the wrong type of object."
      ]
    },
    {
      "cell_type": "code",
      "metadata": {
        "colab": {
          "base_uri": "https://localhost:8080/",
          "height": 178
        },
        "id": "Nhot1hLW5toX",
        "outputId": "445ab766-6f8e-4e66-ef97-61d9dfc4a8a1"
      },
      "source": [
        "#Example of TypeError\n",
        "list1= [234,445,657]\n",
        "str1= \"\".join(list1)"
      ],
      "execution_count": null,
      "outputs": [
        {
          "output_type": "error",
          "ename": "TypeError",
          "evalue": "ignored",
          "traceback": [
            "\u001b[0;31m---------------------------------------------------------------------------\u001b[0m",
            "\u001b[0;31mTypeError\u001b[0m                                 Traceback (most recent call last)",
            "\u001b[0;32m<ipython-input-8-9baac877186f>\u001b[0m in \u001b[0;36m<module>\u001b[0;34m()\u001b[0m\n\u001b[1;32m      1\u001b[0m \u001b[0mlist1\u001b[0m\u001b[0;34m=\u001b[0m \u001b[0;34m[\u001b[0m\u001b[0;36m234\u001b[0m\u001b[0;34m,\u001b[0m\u001b[0;36m445\u001b[0m\u001b[0;34m,\u001b[0m\u001b[0;36m657\u001b[0m\u001b[0;34m]\u001b[0m\u001b[0;34m\u001b[0m\u001b[0;34m\u001b[0m\u001b[0m\n\u001b[0;32m----> 2\u001b[0;31m \u001b[0;34m\"\"\u001b[0m\u001b[0;34m.\u001b[0m\u001b[0mjoin\u001b[0m\u001b[0;34m(\u001b[0m\u001b[0mlist1\u001b[0m\u001b[0;34m)\u001b[0m\u001b[0;34m\u001b[0m\u001b[0;34m\u001b[0m\u001b[0m\n\u001b[0m",
            "\u001b[0;31mTypeError\u001b[0m: sequence item 0: expected str instance, int found"
          ]
        }
      ]
    },
    {
      "cell_type": "code",
      "metadata": {
        "colab": {
          "base_uri": "https://localhost:8080/"
        },
        "id": "LHXgmEff7Zf5",
        "outputId": "62b8df64-dc26-4899-ae31-406ab3c7086b"
      },
      "source": [
        "#Example 1 to handle type error\n",
        "\n",
        "try:\n",
        "  list1= [234,445,657]\n",
        "  str1= \"\".join(list1)\n",
        "except Exception as e:\n",
        "  print(e)\n"
      ],
      "execution_count": null,
      "outputs": [
        {
          "output_type": "stream",
          "name": "stdout",
          "text": [
            "sequence item 0: expected str instance, int found\n"
          ]
        }
      ]
    },
    {
      "cell_type": "code",
      "metadata": {
        "colab": {
          "base_uri": "https://localhost:8080/"
        },
        "id": "hpJx8yqq73NK",
        "outputId": "b56d4444-62d9-4bbf-acf6-b21501b2a1f9"
      },
      "source": [
        "#Example 2 to handle type error\n",
        "try:\n",
        "  list1= [234,445,657]\n",
        "  str1= \"\".join(list1)\n",
        "except TypeError:\n",
        "  print(\"TypeError has occured\")"
      ],
      "execution_count": null,
      "outputs": [
        {
          "output_type": "stream",
          "name": "stdout",
          "text": [
            "TypeError has occured\n"
          ]
        }
      ]
    },
    {
      "cell_type": "markdown",
      "metadata": {
        "id": "hmvyQTVE8M8i"
      },
      "source": [
        "KeyboardInteruppt\n",
        "\n",
        "KeyboardInterrupt is a python exception which is generated when the user/programmer interrupts the normal execution of a program."
      ]
    },
    {
      "cell_type": "code",
      "metadata": {
        "colab": {
          "base_uri": "https://localhost:8080/",
          "height": 522
        },
        "id": "O68iDTtou9o6",
        "outputId": "7a6fe49e-1e1e-4947-ac34-9ddf5197e55d"
      },
      "source": [
        "#Example of KeyboardInteruppt\n",
        "while True:\n",
        "  data= input()\n",
        "  print(data)\n",
        "\n"
      ],
      "execution_count": null,
      "outputs": [
        {
          "output_type": "error",
          "ename": "KeyboardInterrupt",
          "evalue": "ignored",
          "traceback": [
            "\u001b[0;31m---------------------------------------------------------------------------\u001b[0m",
            "\u001b[0;31mKeyboardInterrupt\u001b[0m                         Traceback (most recent call last)",
            "\u001b[0;32m/usr/local/lib/python3.7/dist-packages/ipykernel/kernelbase.py\u001b[0m in \u001b[0;36m_input_request\u001b[0;34m(self, prompt, ident, parent, password)\u001b[0m\n\u001b[1;32m    728\u001b[0m             \u001b[0;32mtry\u001b[0m\u001b[0;34m:\u001b[0m\u001b[0;34m\u001b[0m\u001b[0;34m\u001b[0m\u001b[0m\n\u001b[0;32m--> 729\u001b[0;31m                 \u001b[0mident\u001b[0m\u001b[0;34m,\u001b[0m \u001b[0mreply\u001b[0m \u001b[0;34m=\u001b[0m \u001b[0mself\u001b[0m\u001b[0;34m.\u001b[0m\u001b[0msession\u001b[0m\u001b[0;34m.\u001b[0m\u001b[0mrecv\u001b[0m\u001b[0;34m(\u001b[0m\u001b[0mself\u001b[0m\u001b[0;34m.\u001b[0m\u001b[0mstdin_socket\u001b[0m\u001b[0;34m,\u001b[0m \u001b[0;36m0\u001b[0m\u001b[0;34m)\u001b[0m\u001b[0;34m\u001b[0m\u001b[0;34m\u001b[0m\u001b[0m\n\u001b[0m\u001b[1;32m    730\u001b[0m             \u001b[0;32mexcept\u001b[0m \u001b[0mException\u001b[0m\u001b[0;34m:\u001b[0m\u001b[0;34m\u001b[0m\u001b[0;34m\u001b[0m\u001b[0m\n",
            "\u001b[0;32m/usr/local/lib/python3.7/dist-packages/jupyter_client/session.py\u001b[0m in \u001b[0;36mrecv\u001b[0;34m(self, socket, mode, content, copy)\u001b[0m\n\u001b[1;32m    802\u001b[0m         \u001b[0;32mtry\u001b[0m\u001b[0;34m:\u001b[0m\u001b[0;34m\u001b[0m\u001b[0;34m\u001b[0m\u001b[0m\n\u001b[0;32m--> 803\u001b[0;31m             \u001b[0mmsg_list\u001b[0m \u001b[0;34m=\u001b[0m \u001b[0msocket\u001b[0m\u001b[0;34m.\u001b[0m\u001b[0mrecv_multipart\u001b[0m\u001b[0;34m(\u001b[0m\u001b[0mmode\u001b[0m\u001b[0;34m,\u001b[0m \u001b[0mcopy\u001b[0m\u001b[0;34m=\u001b[0m\u001b[0mcopy\u001b[0m\u001b[0;34m)\u001b[0m\u001b[0;34m\u001b[0m\u001b[0;34m\u001b[0m\u001b[0m\n\u001b[0m\u001b[1;32m    804\u001b[0m         \u001b[0;32mexcept\u001b[0m \u001b[0mzmq\u001b[0m\u001b[0;34m.\u001b[0m\u001b[0mZMQError\u001b[0m \u001b[0;32mas\u001b[0m \u001b[0me\u001b[0m\u001b[0;34m:\u001b[0m\u001b[0;34m\u001b[0m\u001b[0;34m\u001b[0m\u001b[0m\n",
            "\u001b[0;32m/usr/local/lib/python3.7/dist-packages/zmq/sugar/socket.py\u001b[0m in \u001b[0;36mrecv_multipart\u001b[0;34m(self, flags, copy, track)\u001b[0m\n\u001b[1;32m    618\u001b[0m         \"\"\"\n\u001b[0;32m--> 619\u001b[0;31m         \u001b[0mparts\u001b[0m \u001b[0;34m=\u001b[0m \u001b[0;34m[\u001b[0m\u001b[0mself\u001b[0m\u001b[0;34m.\u001b[0m\u001b[0mrecv\u001b[0m\u001b[0;34m(\u001b[0m\u001b[0mflags\u001b[0m\u001b[0;34m,\u001b[0m \u001b[0mcopy\u001b[0m\u001b[0;34m=\u001b[0m\u001b[0mcopy\u001b[0m\u001b[0;34m,\u001b[0m \u001b[0mtrack\u001b[0m\u001b[0;34m=\u001b[0m\u001b[0mtrack\u001b[0m\u001b[0;34m)\u001b[0m\u001b[0;34m]\u001b[0m\u001b[0;34m\u001b[0m\u001b[0;34m\u001b[0m\u001b[0m\n\u001b[0m\u001b[1;32m    620\u001b[0m         \u001b[0;31m# have first part already, only loop while more to receive\u001b[0m\u001b[0;34m\u001b[0m\u001b[0;34m\u001b[0m\u001b[0;34m\u001b[0m\u001b[0m\n",
            "\u001b[0;32mzmq/backend/cython/socket.pyx\u001b[0m in \u001b[0;36mzmq.backend.cython.socket.Socket.recv\u001b[0;34m()\u001b[0m\n",
            "\u001b[0;32mzmq/backend/cython/socket.pyx\u001b[0m in \u001b[0;36mzmq.backend.cython.socket.Socket.recv\u001b[0;34m()\u001b[0m\n",
            "\u001b[0;32mzmq/backend/cython/socket.pyx\u001b[0m in \u001b[0;36mzmq.backend.cython.socket._recv_copy\u001b[0;34m()\u001b[0m\n",
            "\u001b[0;32m/usr/local/lib/python3.7/dist-packages/zmq/backend/cython/checkrc.pxd\u001b[0m in \u001b[0;36mzmq.backend.cython.checkrc._check_rc\u001b[0;34m()\u001b[0m\n",
            "\u001b[0;31mKeyboardInterrupt\u001b[0m: ",
            "\nDuring handling of the above exception, another exception occurred:\n",
            "\u001b[0;31mKeyboardInterrupt\u001b[0m                         Traceback (most recent call last)",
            "\u001b[0;32m<ipython-input-12-1f805118452c>\u001b[0m in \u001b[0;36m<module>\u001b[0;34m()\u001b[0m\n\u001b[1;32m      1\u001b[0m \u001b[0;31m#Example of KeyboardInteruppt\u001b[0m\u001b[0;34m\u001b[0m\u001b[0;34m\u001b[0m\u001b[0;34m\u001b[0m\u001b[0m\n\u001b[1;32m      2\u001b[0m \u001b[0;32mwhile\u001b[0m \u001b[0;32mTrue\u001b[0m\u001b[0;34m:\u001b[0m\u001b[0;34m\u001b[0m\u001b[0;34m\u001b[0m\u001b[0m\n\u001b[0;32m----> 3\u001b[0;31m   \u001b[0mdata\u001b[0m\u001b[0;34m=\u001b[0m \u001b[0minput\u001b[0m\u001b[0;34m(\u001b[0m\u001b[0;34m)\u001b[0m\u001b[0;34m\u001b[0m\u001b[0;34m\u001b[0m\u001b[0m\n\u001b[0m\u001b[1;32m      4\u001b[0m   \u001b[0mprint\u001b[0m\u001b[0;34m(\u001b[0m\u001b[0mdata\u001b[0m\u001b[0;34m)\u001b[0m\u001b[0;34m\u001b[0m\u001b[0;34m\u001b[0m\u001b[0m\n\u001b[1;32m      5\u001b[0m \u001b[0;34m\u001b[0m\u001b[0m\n",
            "\u001b[0;32m/usr/local/lib/python3.7/dist-packages/ipykernel/kernelbase.py\u001b[0m in \u001b[0;36mraw_input\u001b[0;34m(self, prompt)\u001b[0m\n\u001b[1;32m    702\u001b[0m             \u001b[0mself\u001b[0m\u001b[0;34m.\u001b[0m\u001b[0m_parent_ident\u001b[0m\u001b[0;34m,\u001b[0m\u001b[0;34m\u001b[0m\u001b[0;34m\u001b[0m\u001b[0m\n\u001b[1;32m    703\u001b[0m             \u001b[0mself\u001b[0m\u001b[0;34m.\u001b[0m\u001b[0m_parent_header\u001b[0m\u001b[0;34m,\u001b[0m\u001b[0;34m\u001b[0m\u001b[0;34m\u001b[0m\u001b[0m\n\u001b[0;32m--> 704\u001b[0;31m             \u001b[0mpassword\u001b[0m\u001b[0;34m=\u001b[0m\u001b[0;32mFalse\u001b[0m\u001b[0;34m,\u001b[0m\u001b[0;34m\u001b[0m\u001b[0;34m\u001b[0m\u001b[0m\n\u001b[0m\u001b[1;32m    705\u001b[0m         )\n\u001b[1;32m    706\u001b[0m \u001b[0;34m\u001b[0m\u001b[0m\n",
            "\u001b[0;32m/usr/local/lib/python3.7/dist-packages/ipykernel/kernelbase.py\u001b[0m in \u001b[0;36m_input_request\u001b[0;34m(self, prompt, ident, parent, password)\u001b[0m\n\u001b[1;32m    732\u001b[0m             \u001b[0;32mexcept\u001b[0m \u001b[0mKeyboardInterrupt\u001b[0m\u001b[0;34m:\u001b[0m\u001b[0;34m\u001b[0m\u001b[0;34m\u001b[0m\u001b[0m\n\u001b[1;32m    733\u001b[0m                 \u001b[0;31m# re-raise KeyboardInterrupt, to truncate traceback\u001b[0m\u001b[0;34m\u001b[0m\u001b[0;34m\u001b[0m\u001b[0;34m\u001b[0m\u001b[0m\n\u001b[0;32m--> 734\u001b[0;31m                 \u001b[0;32mraise\u001b[0m \u001b[0mKeyboardInterrupt\u001b[0m\u001b[0;34m\u001b[0m\u001b[0;34m\u001b[0m\u001b[0m\n\u001b[0m\u001b[1;32m    735\u001b[0m             \u001b[0;32melse\u001b[0m\u001b[0;34m:\u001b[0m\u001b[0;34m\u001b[0m\u001b[0;34m\u001b[0m\u001b[0m\n\u001b[1;32m    736\u001b[0m                 \u001b[0;32mbreak\u001b[0m\u001b[0;34m\u001b[0m\u001b[0;34m\u001b[0m\u001b[0m\n",
            "\u001b[0;31mKeyboardInterrupt\u001b[0m: "
          ]
        }
      ]
    },
    {
      "cell_type": "code",
      "metadata": {
        "colab": {
          "base_uri": "https://localhost:8080/"
        },
        "id": "653YDAWp8sph",
        "outputId": "c2846513-7e7f-4f22-b3a9-e2197736e3fd"
      },
      "source": [
        "#Example to handle keyboard interrupt\n",
        "\n",
        "try:\n",
        "  while True:\n",
        "    data= input()\n",
        "    print(data)\n",
        "except KeyboardInterrupt:\n",
        "  print(\"Keyboard Interuppt Error occured\")\n"
      ],
      "execution_count": null,
      "outputs": [
        {
          "name": "stdout",
          "output_type": "stream",
          "text": [
            "Keyboard Interuppt Error occured\n",
            "3\n"
          ]
        }
      ]
    },
    {
      "cell_type": "markdown",
      "metadata": {
        "id": "OPzdrzBf-Z26"
      },
      "source": [
        "Raising an exception\n",
        "\n",
        "As a Python developer you can choose to throw an exception if a condition occurs.\n",
        "\n",
        "To throw (or raise) an exception, use the raise keyword."
      ]
    },
    {
      "cell_type": "code",
      "metadata": {
        "colab": {
          "base_uri": "https://localhost:8080/",
          "height": 212
        },
        "id": "MlrPT9pk-muq",
        "outputId": "15be7248-0e61-4424-eb82-60a1e0f74be2"
      },
      "source": [
        "#Example of raising an error\n",
        "\n",
        "num= int(input(\"Enter a number less than zero \"))\n",
        "if num >0:\n",
        "  raise Exception (\"You have entered number above zero\")"
      ],
      "execution_count": null,
      "outputs": [
        {
          "name": "stdout",
          "output_type": "stream",
          "text": [
            "Enter a number less than zero 9\n"
          ]
        },
        {
          "output_type": "error",
          "ename": "Exception",
          "evalue": "ignored",
          "traceback": [
            "\u001b[0;31m---------------------------------------------------------------------------\u001b[0m",
            "\u001b[0;31mException\u001b[0m                                 Traceback (most recent call last)",
            "\u001b[0;32m<ipython-input-22-be9cb026c054>\u001b[0m in \u001b[0;36m<module>\u001b[0;34m()\u001b[0m\n\u001b[1;32m      3\u001b[0m \u001b[0mnum\u001b[0m\u001b[0;34m=\u001b[0m \u001b[0mint\u001b[0m\u001b[0;34m(\u001b[0m\u001b[0minput\u001b[0m\u001b[0;34m(\u001b[0m\u001b[0;34m\"Enter a number less than zero \"\u001b[0m\u001b[0;34m)\u001b[0m\u001b[0;34m)\u001b[0m\u001b[0;34m\u001b[0m\u001b[0;34m\u001b[0m\u001b[0m\n\u001b[1;32m      4\u001b[0m \u001b[0;32mif\u001b[0m \u001b[0mnum\u001b[0m \u001b[0;34m>\u001b[0m\u001b[0;36m0\u001b[0m\u001b[0;34m:\u001b[0m\u001b[0;34m\u001b[0m\u001b[0;34m\u001b[0m\u001b[0m\n\u001b[0;32m----> 5\u001b[0;31m   \u001b[0;32mraise\u001b[0m \u001b[0mException\u001b[0m \u001b[0;34m(\u001b[0m\u001b[0;34m\"You have entered number above zero\"\u001b[0m\u001b[0;34m)\u001b[0m\u001b[0;34m\u001b[0m\u001b[0;34m\u001b[0m\u001b[0m\n\u001b[0m",
            "\u001b[0;31mException\u001b[0m: You have entered number above zero"
          ]
        }
      ]
    },
    {
      "cell_type": "code",
      "metadata": {
        "id": "39CgPhs9vgTG"
      },
      "source": [
        ""
      ],
      "execution_count": null,
      "outputs": []
    }
  ]
}
