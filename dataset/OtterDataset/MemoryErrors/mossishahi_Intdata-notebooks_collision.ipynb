{
 "cells": [
  {
   "cell_type": "code",
   "execution_count": 1,
   "id": "dcfed871-ffad-4bf7-907b-ba7dd2a719ae",
   "metadata": {},
   "outputs": [],
   "source": [
    "%load_ext autoreload\n",
    "%autoreload 2"
   ]
  },
  {
   "cell_type": "code",
   "execution_count": 17,
   "id": "7506c4f8-ad71-449d-856f-2268d5d35617",
   "metadata": {},
   "outputs": [],
   "source": [
    "import os\n",
    "import numpy as np\n",
    "import pandas as pd\n",
    "from tqdm import tqdm\n",
    "import chromATAC as ca\n",
    "from chromATAC.integrated import IntData, save_collision\n",
    "from functools import reduce\n",
    "import matplotlib.pyplot as plt\n",
    "import seaborn as sns\n",
    "from tqdm import tqdm\n",
    "import matplotlib.gridspec as gridspec\n",
    "import h5py"
   ]
  },
  {
   "cell_type": "code",
   "execution_count": 18,
   "id": "a49639b3-07ee-453f-97f4-212046e28f38",
   "metadata": {},
   "outputs": [],
   "source": [
    "path = '/home/icb/mostafa.shahhosseini/data/lupien/'\n",
    "os.chdir(path)\n",
    "import warnings"
   ]
  },
  {
   "cell_type": "code",
   "execution_count": 7,
   "id": "74c74eb3-c83b-4dc6-b8d8-380faf72fa8f",
   "metadata": {},
   "outputs": [],
   "source": [
    "warnings.simplefilter(\"ignore\", category=pd.errors.ParserWarning)"
   ]
  },
  {
   "cell_type": "code",
   "execution_count": 8,
   "id": "abd45469-4473-489a-99af-50b3844ab260",
   "metadata": {},
   "outputs": [],
   "source": [
    "tes_dir = './merged.bedfiles/'\n",
    "cotes_dir = './cotes/'"
   ]
  },
  {
   "cell_type": "code",
   "execution_count": 9,
   "id": "d3a1a54f-c947-418e-b322-3368383e9f8f",
   "metadata": {},
   "outputs": [],
   "source": [
    "RES = [1e06]"
   ]
  },
  {
   "cell_type": "code",
   "execution_count": 10,
   "id": "7d54335c-a84c-480c-ab4a-9094b888652d",
   "metadata": {},
   "outputs": [],
   "source": [
    "def Clustered_TEs(chromosome_layer, **kwargs):\n",
    "    resolution = kwargs.get('resolution')\n",
    "    conditions = {}\n",
    "    annotations = {}\n",
    "    resolution = kwargs.get('resolution')\n",
    "    ann = {0:'TE with no defined CORTE in any chromosome', 1:'TE with defined CORTEs'}\n",
    "    for c in range(1, 25):\n",
    "        idx = np.array([i.split('>')[-1] for i in ind.chr.layers[resolution]['TEs']['index'][c]])\n",
    "        conditions[c] = np.array([int(i in idx) for i in chromosome_layer['index'][c]])\n",
    "        annotations[c] = ann\n",
    "    return conditions, annotations\n",
    "\n",
    "def get_cancertype(chromosome_layer, **kwargs):\n",
    "    conditions = {}\n",
    "    annotations = {}\n",
    "    resolution=kwargs.get('resolution')\n",
    "    ann = {i:v for i, v in enumerate(tcga_met[' Project'].apply(lambda x:x.split('TCGA-')[-1]).unique())}\n",
    "    mapping = {v:i for i, v in enumerate(tcga_met[' Project'].apply(lambda x:x.split('TCGA-')[-1]).unique())}\n",
    "    for c in ca.info.CHROMOSOMES['numericals'].values():\n",
    "        samples = chromosome_layer['index'][c]\n",
    "        conditions[c] = [mapping[i.split('_')[0].split('>')[-1]] for i in ind.chr.layers[resolution]['TCGA']['index'][c]]\n",
    "        annotations[c] = ann\n",
    "    return conditions, annotations\n",
    "    \n",
    "def CTeCore_filter(chromosome_layer, **kwargs):\n",
    "    conditions = {}\n",
    "    annotations = {}    \n",
    "    ann = {0:'TEs with No Significant Difference between #Cores and #Elements in this Chromosome', 1:'TEs with Significant Difference between #Cores and #Elements in this Chromosome'}\n",
    "    index = kwargs.get('index')\n",
    "    test_res = kwargs.get('test_res')\n",
    "    maj = kwargs.get('majority', 3)\n",
    "    for c in range(1, 25):\n",
    "        idx = np.array([i.split('>')[-1] for i in index[test_res[:, c-1]>=maj]])\n",
    "        conditions[c] = np.array([int(i.split('>')[-1] in idx) for i in chromosome_layer['index'][c]])\n",
    "        annotations[c] = ann\n",
    "    return conditions, annotations\n",
    "\n",
    "def GTeCore_filter(genome_layer, **kwargs):\n",
    "    conditions = {}\n",
    "    annotations = {}\n",
    "    ann = {0:'TEs with No Significant Difference between #Cores and #Elements in this Chromosome', 1:'TEs with Significant Difference between #Cores and #Elements in this Chromosome'}\n",
    "    index = kwargs.get('index')\n",
    "    test_res = kwargs.get('test_res')\n",
    "    maj = kwargs.get('majority', 3)\n",
    "    for c in range(1, 25):\n",
    "        idx = np.array([i.split('>')[-1] for i in index[test_res[:, c-1]>=maj]])\n",
    "        conditions[c] = np.array([int(i.split('>')[-1] in idx) for i in genome_layer['index']])\n",
    "        annotations[c] = ann\n",
    "    return conditions, annotations\n",
    "\n",
    "def save_correlation(omic, layers, resolution, c='all', path=\".\", cmp_method='sim'):\n",
    "    metrs = ['score', 'pvalue']\n",
    "    if c=='all':\n",
    "        c=ca.info.CHROMOSOMES['names']\n",
    "    if not isinstance(c, list):\n",
    "        c = [c]\n",
    "    for c in c:\n",
    "        path = os.path.join(path, cmp_method+f'/{c}')\n",
    "        if not os.path.exists(path):\n",
    "            os.makedirs(path)\n",
    "        for m in metrs:\n",
    "            for k, v in omic.layers[resolution]['co'][tuple(sorted(set(layers)))][cmp_method][c][m].items():\n",
    "                v.to_csv(f'{path}/{c}_{k}_{m}.csv')\n",
    "def tcga_mapping(name):\n",
    "    return f\"{tcga_met.iloc[np.where([i in name for i in tcga_met['File Name'].apply(lambda x: x.split('_')[0].split('-')[-1])])[0]][' Project'].apply(lambda x:x.split('TCGA-')[-1]).values[0]}_{name}\"\n",
    "    \n",
    "def TE_family(chromosome_layer, **kwargs):\n",
    "    conditions = {}\n",
    "    annotations = {}    \n",
    "    ann = {i:te.split('>')[-1] for i, te in enumerate(ind.chr.layers[1e06]['TEs']['index'][1])}\n",
    "    con = {te.split('>')[-1]:i for i, te in enumerate(ind.chr.layers[1e06]['TEs']['index'][1])}\n",
    "    for c in range(1, 25):\n",
    "        conditions[c] = np.array([con[i.split('>')[-1]] for i in chromosome_layer['index'][c]])\n",
    "        annotations[c] = ann\n",
    "    return conditions, annotations\n",
    "    \n",
    "def Cnv_cancertype(chromosome_layer, **kwargs):\n",
    "    conditions = {}\n",
    "    annotations = {}\n",
    "    ann = {i:cancer for i, cancer in enumerate(cnv_meta['cancer_type'].unique())}\n",
    "    con =  {cancer:i for i, cancer in enumerate(cnv_meta['cancer_type'].unique())}\n",
    "    for c in tqdm(range(1, 25)):\n",
    "        samples = chromosome_layer['index'][c]\n",
    "        conditions[c] = np.array([con[cnv_meta.iloc[np.where(cnv_meta['name']==sample.split('.bed')[0].split(\">\")[-1])[0]]['cancer_type'].values.item()] for sample in samples if sample.split(\">\")[-1] in cnv_meta['name'].values])\n",
    "        annotations[c] = ann\n",
    "    return conditions, annotations\n",
    "        \n",
    "def normalize_cotes(matrix, **kwargs):\n",
    "    index = kwargs.get('index')\n",
    "    df = n_cotes.reindex([i.split('CoTEs>')[-1] for i in index])\n",
    "    v = df['n_cotes'].values\n",
    "    m = matrix/v[:, np.newaxis]\n",
    "    return m\n",
    "    \n",
    "def cnv_class_filter(row, **kwargs):\n",
    "    index_col=kwargs.get('index_col')\n",
    "    return bool(sample_sig.loc[row.iloc[index_col], row.loc['CN']])\n",
    "\n",
    "def tcga_cancertype(chromosome_layer, **kwargs):\n",
    "    conditions = {}\n",
    "    annotations = {}\n",
    "    resolution=kwargs.get('resolution')\n",
    "    ann = {i:v for i, v in enumerate(tcga_meta[' Project'].apply(lambda x:x.split('TCGA-')[-1]).unique())}\n",
    "    mapping = {v:i for i, v in enumerate(tcga_meta[' Project'].apply(lambda x:x.split('TCGA-')[-1]).unique())}\n",
    "    df = tcga_meta.reindex([x.split('_')[0].split('-')[-1] for x in tcga_samples['samples']])\n",
    "    for chr in ca.info.CHROMOSOMES['numericals'].values():\n",
    "        samples = [i.split('>')[-1] for i in chromosome_layer['index'][chr]]\n",
    "        conditions[chr] = df.loc[samples][' Project'].apply(lambda x: mapping[x.split('-')[-1]]).values\n",
    "        annotations[chr] = ann\n",
    "    return conditions, annotations\n",
    "    \n",
    "def tcga_mapping(name):\n",
    "    return f\"{tcga_met.iloc[np.where([i in name for i in tcga_met['File Name'].apply(lambda x: x.split('_')[0].split('-')[-1])])[0]][' Project'].apply(lambda x:x.split('TCGA-')[-1]).values[0]}_{name}\"\n",
    "\n",
    "def tcga_gain(matrix):\n",
    "    return-1 * matrix.copy()\n",
    "\n",
    "def cnv_gain(matrix):\n",
    "    m = matrix.copy()\n",
    "    m[m<=2]=0\n",
    "    # m[m!=0]=1\n",
    "    return m\n",
    "    \n",
    "def cnv_loss(matrix):\n",
    "    m = matrix.copy()\n",
    "    m[m>=2]=0\n",
    "    # m[m!=0]=1\n",
    "    return m"
   ]
  },
  {
   "cell_type": "code",
   "execution_count": 11,
   "id": "67e1ea5d-2d09-49cc-8c22-58767deaf9a3",
   "metadata": {},
   "outputs": [],
   "source": [
    "def count_lines(filename):\n",
    "    with open(filename, 'r') as file:\n",
    "        line_count = sum(1 for line in file)\n",
    "    return line_count"
   ]
  },
  {
   "cell_type": "markdown",
   "id": "14bb1290-dca5-4a22-8b9d-7f9067fe24cd",
   "metadata": {},
   "source": [
    "#### extract number of CoTEs and TEs per TE family"
   ]
  },
  {
   "cell_type": "code",
   "execution_count": 12,
   "id": "b604cace-727c-4da0-b41a-abc952801425",
   "metadata": {},
   "outputs": [
    {
     "name": "stderr",
     "output_type": "stream",
     "text": [
      "100%|██████████████████████████████████████████████████████████████████| 860/860 [00:40<00:00, 21.45it/s]\n"
     ]
    }
   ],
   "source": [
    "samples = []\n",
    "n_cotes = []\n",
    "n_tes = []\n",
    "for sample in tqdm(os.listdir(os.path.join(path, cotes_dir))):\n",
    "    if sample.endswith('.bed'):\n",
    "        samples += [sample.split('.', 1)[0]]\n",
    "        n_tes += [count_lines(os.path.join(path, tes_dir, sample.replace('.cotes', '')))]\n",
    "        n_cotes += [count_lines(os.path.join(path, cotes_dir, sample))]"
   ]
  },
  {
   "cell_type": "code",
   "execution_count": 13,
   "id": "9f68a938-4576-4609-a1bc-6f9cafa9b6b8",
   "metadata": {},
   "outputs": [],
   "source": [
    "n_cotes = n_tes = pd.DataFrame({'TE':samples, 'n_cotes':n_cotes, 'n_tes':n_tes})"
   ]
  },
  {
   "cell_type": "code",
   "execution_count": 14,
   "id": "20c06bcb-4cfe-4f84-8c27-ce5f9e7e58b7",
   "metadata": {},
   "outputs": [],
   "source": [
    "n_cotes = n_cotes.set_index('TE')"
   ]
  },
  {
   "cell_type": "code",
   "execution_count": 20,
   "id": "26a2906e-8e7a-49ab-8de0-c4e08576367b",
   "metadata": {},
   "outputs": [
    {
     "name": "stdout",
     "output_type": "stream",
     "text": [
      "loading files from: ./merged.bedfiles/\n"
     ]
    },
    {
     "name": "stderr",
     "output_type": "stream",
     "text": [
      "100%|██████████████████████████████████████████████████████████████████| 976/976 [00:20<00:00, 48.05it/s]\n"
     ]
    },
    {
     "name": "stdout",
     "output_type": "stream",
     "text": [
      "loading files from: ./cotes/\n"
     ]
    },
    {
     "name": "stderr",
     "output_type": "stream",
     "text": [
      "100%|█████████████████████████████████████████████████████████████████| 860/860 [00:01<00:00, 600.65it/s]\n"
     ]
    }
   ],
   "source": [
    "ind = IntData()\n",
    "ind.add_layer(\"TEs\", \n",
    "              input=tes_dir, \n",
    "              index_mapper=lambda x: x.split(\".\", 1)[0], \n",
    "              resolutions=RES)\n",
    "ind.add_layer(\"CoTEs\", \n",
    "              input=cotes_dir, \n",
    "              index_mapper=lambda x: x.split(\".\", 1)[0], \n",
    "              resolutions=RES)"
   ]
  },
  {
   "cell_type": "code",
   "execution_count": 25,
   "id": "5f42215d-3d5e-458e-9b9a-6eeb826078be",
   "metadata": {},
   "outputs": [
    {
     "name": "stdout",
     "output_type": "stream",
     "text": [
      "loading files from: /home/icb/mostafa.shahhosseini/data/lupien//TCGA/filtered_TCGA\n"
     ]
    },
    {
     "name": "stderr",
     "output_type": "stream",
     "text": [
      "100%|██████████████████████████████████████████████████████████████████| 413/413 [08:51<00:00,  1.29s/it]\n"
     ]
    }
   ],
   "source": [
    "ind.add_layer(\"TCGA\",  \n",
    "              resolutions=RES, \n",
    "              input=path+'/TCGA/filtered_TCGA', \n",
    "              index_mapper=lambda x: x.split('_')[0].split('-')[-1],\n",
    "             feature_type='count',\n",
    "             overlap_method='max',\n",
    "             feature_column=4)"
   ]
  },
  {
   "cell_type": "code",
   "execution_count": 28,
   "id": "71152ac7-9bb7-4ff5-b15b-1944b01f5ab4",
   "metadata": {},
   "outputs": [],
   "source": [
    "files = [i.split('_peaks.')[0] for i in os.listdir(path+'/TCGA/filtered_TCGA/') if i.endswith('.bed')]"
   ]
  },
  {
   "cell_type": "code",
   "execution_count": 29,
   "id": "b0c1c229-7190-42a7-b50c-bab797bc6e55",
   "metadata": {},
   "outputs": [],
   "source": [
    "tcga_meta = pd.read_csv(path+'/TCGA/GDC_identifiers_no_duplicates.tsv', sep='\\t')\n",
    "tcga_samples = pd.DataFrame(files, columns=['samples'])\n",
    "tcga_meta['id'] = tcga_meta['File Name'].apply(lambda x: x.split('_')[0].split('-')[-1])\n",
    "tcga_meta = tcga_meta.set_index('id')\n",
    "df=tcga_meta.reindex([x.split('_')[0].split('-')[-1] for x in tcga_samples['samples']])"
   ]
  },
  {
   "cell_type": "code",
   "execution_count": 30,
   "id": "23cf77c0-f10a-421f-98ee-5f009f456099",
   "metadata": {},
   "outputs": [],
   "source": [
    "ind.chr.add_filter('Cancertype', tcga_cancertype, ['TCGA'], resolutions=RES)"
   ]
  },
  {
   "cell_type": "code",
   "execution_count": 56,
   "id": "fcd2b93d-4c10-4612-beca-fbc982cf3cdc",
   "metadata": {},
   "outputs": [
    {
     "name": "stdout",
     "output_type": "stream",
     "text": [
      "Using GPU for matrix multiplication\n"
     ]
    },
    {
     "ename": "OutOfMemoryError",
     "evalue": "Out of memory allocating 83,561,055,744 bytes (allocated so far: 490,290,176 bytes).",
     "output_type": "error",
     "traceback": [
      "\u001b[0;31m---------------------------------------------------------------------------\u001b[0m",
      "\u001b[0;31mOutOfMemoryError\u001b[0m                          Traceback (most recent call last)",
      "Cell \u001b[0;32mIn[56], line 6\u001b[0m\n\u001b[1;32m      1\u001b[0m specificity \u001b[38;5;241m=\u001b[39m \u001b[38;5;28;01mFalse\u001b[39;00m\n\u001b[1;32m      2\u001b[0m \u001b[38;5;66;03m# for c in tqdm(\u001b[39;00m\n\u001b[1;32m      3\u001b[0m \u001b[38;5;66;03m#     list(ca.info.CHROMOSOMES['numericals'].values())\u001b[39;00m\n\u001b[1;32m      4\u001b[0m \u001b[38;5;66;03m#     ):\u001b[39;00m\n\u001b[0;32m----> 6\u001b[0m \u001b[43mind\u001b[49m\u001b[38;5;241;43m.\u001b[39;49m\u001b[43mchr\u001b[49m\u001b[38;5;241;43m.\u001b[39;49m\u001b[43mcollide_layers\u001b[49m\u001b[43m(\u001b[49m\u001b[43m[\u001b[49m\u001b[38;5;124;43m'\u001b[39;49m\u001b[38;5;124;43mCoTEs\u001b[39;49m\u001b[38;5;124;43m'\u001b[39;49m\u001b[43m,\u001b[49m\u001b[43m \u001b[49m\u001b[38;5;124;43m'\u001b[39;49m\u001b[38;5;124;43mTEs\u001b[39;49m\u001b[38;5;124;43m'\u001b[39;49m\u001b[43m]\u001b[49m\u001b[43m,\u001b[49m\u001b[43m \u001b[49m\n\u001b[1;32m      7\u001b[0m \u001b[43m                       \u001b[49m\u001b[43mresolution\u001b[49m\u001b[38;5;241;43m=\u001b[39;49m\u001b[43mRES\u001b[49m\u001b[43m[\u001b[49m\u001b[38;5;241;43m0\u001b[39;49m\u001b[43m]\u001b[49m\u001b[43m,\u001b[49m\u001b[43m \u001b[49m\n\u001b[1;32m      8\u001b[0m \u001b[43m                       \u001b[49m\u001b[38;5;66;43;03m# groups={'TCGA':{'Cancertype':list(tcga_meta[' Project'].apply(lambda x: x.split('TCGA-')[-1]).unique())}}, \u001b[39;49;00m\n\u001b[1;32m      9\u001b[0m \u001b[43m                       \u001b[49m\u001b[38;5;66;43;03m# chrom=c, genome wide\u001b[39;49;00m\n\u001b[1;32m     10\u001b[0m \u001b[43m                       \u001b[49m\u001b[38;5;66;43;03m# kernels = {'CoTEs':normalize_cotes}, \u001b[39;49;00m\n\u001b[1;32m     11\u001b[0m \u001b[43m                       \u001b[49m\u001b[43mcoll_key\u001b[49m\u001b[38;5;241;43m=\u001b[39;49m\u001b[38;5;124;43m'\u001b[39;49m\u001b[38;5;124;43mgain\u001b[39;49m\u001b[38;5;124;43m'\u001b[39;49m\u001b[43m,\u001b[49m\u001b[43m \u001b[49m\n\u001b[1;32m     12\u001b[0m \u001b[43m                       \u001b[49m\u001b[43mspecificity\u001b[49m\u001b[38;5;241;43m=\u001b[39;49m\u001b[43mspecificity\u001b[49m\u001b[43m,\u001b[49m\n\u001b[1;32m     13\u001b[0m \u001b[43m                       \u001b[49m\u001b[38;5;66;43;03m# classifier=lambda x: 'TCGA' in x, \u001b[39;49;00m\n\u001b[1;32m     14\u001b[0m \u001b[43m                      \u001b[49m\u001b[43m)\u001b[49m\u001b[38;5;66;03m#by={'TCGA':'group', 'CoTEs':'sample'})\u001b[39;00m\n",
      "File \u001b[0;32m~/code/lupien/IntData/chromATAC/integrated/_base.py:706\u001b[0m, in \u001b[0;36mEpigenomic.collide_layers\u001b[0;34m(self, layers, **kwargs)\u001b[0m\n\u001b[1;32m    704\u001b[0m rows, cols \u001b[38;5;241m=\u001b[39m group_signals(matrix, indices, classifier)\n\u001b[1;32m    705\u001b[0m key \u001b[38;5;241m=\u001b[39m chrom \u001b[38;5;28;01mif\u001b[39;00m chrom \u001b[38;5;28;01melse\u001b[39;00m \u001b[38;5;124m'\u001b[39m\u001b[38;5;124mgenome-wide\u001b[39m\u001b[38;5;124m'\u001b[39m\n\u001b[0;32m--> 706\u001b[0m \u001b[38;5;28mself\u001b[39m\u001b[38;5;241m.\u001b[39mlayers[resolution][coll_key][\u001b[38;5;28mtuple\u001b[39m(\u001b[38;5;28msorted\u001b[39m(\u001b[38;5;28mset\u001b[39m(layers)))] \u001b[38;5;241m=\u001b[39m {coll_key:{key:\u001b[43mcollide_matrices\u001b[49m\u001b[43m(\u001b[49m\u001b[43mrows\u001b[49m\u001b[43m,\u001b[49m\u001b[43m \u001b[49m\u001b[43mcols\u001b[49m\u001b[43m,\u001b[49m\u001b[43m \u001b[49m\u001b[38;5;241;43m*\u001b[39;49m\u001b[38;5;241;43m*\u001b[39;49m\u001b[43mkwargs\u001b[49m\u001b[43m)\u001b[49m}}\n",
      "File \u001b[0;32m~/code/lupien/IntData/chromATAC/al/analysis.py:185\u001b[0m, in \u001b[0;36mcollide_matrices\u001b[0;34m(ds1, ds2, threshold, similarity_method, neg_log, similarity_metrics, stat_tests, n_jobs, **kwargs)\u001b[0m\n\u001b[1;32m    183\u001b[0m     mat1 \u001b[38;5;241m=\u001b[39m cp\u001b[38;5;241m.\u001b[39marray(mat1)\n\u001b[1;32m    184\u001b[0m     mat2 \u001b[38;5;241m=\u001b[39m cp\u001b[38;5;241m.\u001b[39marray(mat2)\n\u001b[0;32m--> 185\u001b[0m     n_hits \u001b[38;5;241m=\u001b[39m cp\u001b[38;5;241m.\u001b[39msum(\u001b[43mmat1\u001b[49m\u001b[43m[\u001b[49m\u001b[43m:\u001b[49m\u001b[43m,\u001b[49m\u001b[43m \u001b[49m\u001b[43mcp\u001b[49m\u001b[38;5;241;43m.\u001b[39;49m\u001b[43mnewaxis\u001b[49m\u001b[43m,\u001b[49m\u001b[43m \u001b[49m\u001b[43m:\u001b[49m\u001b[43m]\u001b[49m\u001b[43m \u001b[49m\u001b[38;5;241;43m*\u001b[39;49m\u001b[43m \u001b[49m\u001b[43mmat2\u001b[49m, axis\u001b[38;5;241m=\u001b[39m\u001b[38;5;241m2\u001b[39m)\u001b[38;5;241m.\u001b[39mget()\n\u001b[1;32m    186\u001b[0m \u001b[38;5;28;01melse\u001b[39;00m:\n\u001b[1;32m    187\u001b[0m     n_hits \u001b[38;5;241m=\u001b[39m np\u001b[38;5;241m.\u001b[39msum(mat1[:, np\u001b[38;5;241m.\u001b[39mnewaxis, :] \u001b[38;5;241m*\u001b[39m mat2, axis\u001b[38;5;241m=\u001b[39m\u001b[38;5;241m2\u001b[39m)\n",
      "File \u001b[0;32mcupy/_core/core.pyx:1281\u001b[0m, in \u001b[0;36mcupy._core.core._ndarray_base.__mul__\u001b[0;34m()\u001b[0m\n",
      "File \u001b[0;32mcupy/_core/_kernel.pyx:1350\u001b[0m, in \u001b[0;36mcupy._core._kernel.ufunc.__call__\u001b[0;34m()\u001b[0m\n",
      "File \u001b[0;32mcupy/_core/_kernel.pyx:645\u001b[0m, in \u001b[0;36mcupy._core._kernel._get_out_args_from_optionals\u001b[0;34m()\u001b[0m\n",
      "File \u001b[0;32mcupy/_core/core.pyx:2806\u001b[0m, in \u001b[0;36mcupy._core.core._ndarray_init\u001b[0;34m()\u001b[0m\n",
      "File \u001b[0;32mcupy/_core/core.pyx:237\u001b[0m, in \u001b[0;36mcupy._core.core._ndarray_base._init_fast\u001b[0;34m()\u001b[0m\n",
      "File \u001b[0;32mcupy/cuda/memory.pyx:738\u001b[0m, in \u001b[0;36mcupy.cuda.memory.alloc\u001b[0;34m()\u001b[0m\n",
      "File \u001b[0;32mcupy/cuda/memory.pyx:1424\u001b[0m, in \u001b[0;36mcupy.cuda.memory.MemoryPool.malloc\u001b[0;34m()\u001b[0m\n",
      "File \u001b[0;32mcupy/cuda/memory.pyx:1445\u001b[0m, in \u001b[0;36mcupy.cuda.memory.MemoryPool.malloc\u001b[0;34m()\u001b[0m\n",
      "File \u001b[0;32mcupy/cuda/memory.pyx:1116\u001b[0m, in \u001b[0;36mcupy.cuda.memory.SingleDeviceMemoryPool.malloc\u001b[0;34m()\u001b[0m\n",
      "File \u001b[0;32mcupy/cuda/memory.pyx:1137\u001b[0m, in \u001b[0;36mcupy.cuda.memory.SingleDeviceMemoryPool._malloc\u001b[0;34m()\u001b[0m\n",
      "File \u001b[0;32mcupy/cuda/memory.pyx:1382\u001b[0m, in \u001b[0;36mcupy.cuda.memory.SingleDeviceMemoryPool._try_malloc\u001b[0;34m()\u001b[0m\n",
      "File \u001b[0;32mcupy/cuda/memory.pyx:1385\u001b[0m, in \u001b[0;36mcupy.cuda.memory.SingleDeviceMemoryPool._try_malloc\u001b[0;34m()\u001b[0m\n",
      "\u001b[0;31mOutOfMemoryError\u001b[0m: Out of memory allocating 83,561,055,744 bytes (allocated so far: 490,290,176 bytes)."
     ]
    }
   ],
   "source": [
    "specificity = False\n",
    "# for c in tqdm(\n",
    "#     list(ca.info.CHROMOSOMES['numericals'].values())\n",
    "#     ):\n",
    "\n",
    "ind.chr.collide_layers(['CoTEs', 'TEs'], \n",
    "                       resolution=RES[0], \n",
    "                       # groups={'TCGA':{'Cancertype':list(tcga_meta[' Project'].apply(lambda x: x.split('TCGA-')[-1]).unique())}}, \n",
    "                       # chrom=c, genome wide\n",
    "                       # kernels = {'CoTEs':normalize_cotes}, \n",
    "                       coll_key='gain', \n",
    "                       specificity=specificity,\n",
    "                       # classifier=lambda x: 'TCGA' in x, \n",
    "                      )#by={'TCGA':'group', 'CoTEs':'sample'})"
   ]
  },
  {
   "cell_type": "code",
   "execution_count": null,
   "id": "ec3f650d-748b-4429-b72b-960bdf4ad65c",
   "metadata": {},
   "outputs": [],
   "source": [
    "ind.chr.collide_layers(['CoTEs', 'TCGA'], \n",
    "                       resolution=RES[0], \n",
    "                       groups={'TCGA':{'Cancertype':list(tcga_meta[' Project'].apply(lambda x: x.split('TCGA-')[-1]).unique())}}, \n",
    "                       # chrom=c, genome wide\n",
    "                       kernels = {'TCGA':tcga_loss, 'CoTEs':normalize_cotes}, \n",
    "                       coll_key='loss',\n",
    "                       specificity=specificity,\n",
    "                       classifier=lambda x: 'TCGA' in x, \n",
    "                       by={'TCGA':'group', 'CoTEs':'sample'})"
   ]
  },
  {
   "cell_type": "code",
   "execution_count": null,
   "id": "8a067b31-43c9-449e-9086-47b8864de366",
   "metadata": {},
   "outputs": [],
   "source": [
    "save_collision(ind.chr,\n",
    "               specificity=False\n",
    "               ['CoTEs', 'TCGA'], \n",
    "               'gain', resolution=RES[0], \n",
    "               parent='/Users/mossishahi/Code/lupien/IntData/analysis/experiment200G-TCGA/')\n",
    "save_collision(ind.chr, \n",
    "               ['CoTEs', 'TCGA'],\n",
    "              specificity=False\n",
    "               'loss', resolution=RES[0], \n",
    "               parent='/Users/mossishahi/Code/lupien/IntData/analysis/experiment200G-TCGA/')"
   ]
  },
  {
   "cell_type": "code",
   "execution_count": null,
   "id": "8c31c5f5-0d4c-4831-aac1-07504823eee5",
   "metadata": {},
   "outputs": [],
   "source": []
  }
 ],
 "metadata": {
  "kernelspec": {
   "display_name": "lupien",
   "language": "python",
   "name": "lupien"
  },
  "language_info": {
   "codemirror_mode": {
    "name": "ipython",
    "version": 3
   },
   "file_extension": ".py",
   "mimetype": "text/x-python",
   "name": "python",
   "nbconvert_exporter": "python",
   "pygments_lexer": "ipython3",
   "version": "3.11.9"
  }
 },
 "nbformat": 4,
 "nbformat_minor": 5
}
