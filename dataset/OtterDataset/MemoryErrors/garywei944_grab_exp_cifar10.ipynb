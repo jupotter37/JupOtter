{
 "cells": [
  {
   "cell_type": "code",
   "execution_count": 1,
   "metadata": {
    "ExecuteTime": {
     "end_time": "2023-08-13T07:56:45.686662348Z",
     "start_time": "2023-08-13T07:56:45.680466808Z"
    }
   },
   "outputs": [
    {
     "name": "stdout",
     "output_type": "stream",
     "text": [
      "/home/gw338/projects/GraB-lib\n"
     ]
    }
   ],
   "source": [
    "%cd ~/projects/GraB-lib\n",
    "\n",
    "%load_ext autoreload\n",
    "%autoreload 2"
   ]
  },
  {
   "cell_type": "code",
   "execution_count": 2,
   "metadata": {
    "ExecuteTime": {
     "end_time": "2023-08-13T07:56:49.695372964Z",
     "start_time": "2023-08-13T07:56:45.824433779Z"
    },
    "collapsed": true
   },
   "outputs": [],
   "source": [
    "from torch import nn\n",
    "\n",
    "import os\n",
    "import sys\n",
    "from functools import partial, reduce\n",
    "from pathlib import Path\n",
    "from dataclasses import dataclass, field\n",
    "\n",
    "import evaluate\n",
    "import numpy as np\n",
    "import pandas as pd\n",
    "import wandb\n",
    "from tqdm import tqdm\n",
    "from absl import logging\n",
    "\n",
    "import torch\n",
    "import torch.nn as nn\n",
    "from torchvision import datasets, transforms\n",
    "from transformers import (\n",
    "    HfArgumentParser, TrainingArguments, set_seed\n",
    ")\n",
    "\n",
    "import torchopt\n",
    "from torch.func import (\n",
    "    grad, grad_and_value, vmap, functional_call\n",
    ")\n",
    "\n",
    "from grabngo import GraBSampler, BalanceType\n",
    "from grabngo.utils import EventTimer, pretty_time\n",
    "\n",
    "from experiments.cv.models import LeNet"
   ]
  },
  {
   "cell_type": "code",
   "execution_count": 3,
   "metadata": {
    "ExecuteTime": {
     "end_time": "2023-08-13T07:56:58.472158024Z",
     "start_time": "2023-08-13T07:56:56.710388615Z"
    },
    "collapsed": false
   },
   "outputs": [
    {
     "name": "stdout",
     "output_type": "stream",
     "text": [
      "Files already downloaded and verified\n",
      "Files already downloaded and verified\n"
     ]
    }
   ],
   "source": [
    "device = 'cuda'\n",
    "batch_size = 1\n",
    "transform = transforms.Compose([\n",
    "    transforms.ToTensor(),\n",
    "    transforms.Normalize(\n",
    "        mean=[0.485, 0.456, 0.406], std=[0.229, 0.224, 0.225]\n",
    "    )\n",
    "])\n",
    "\n",
    "# Loading the dataset and preprocessing\n",
    "train_dataset = datasets.CIFAR10(\n",
    "    root='data/external',\n",
    "    train=True,\n",
    "    download=True,\n",
    "    transform=transform\n",
    ")\n",
    "test_dataset = datasets.CIFAR10(\n",
    "    root='data/external',\n",
    "    train=False,\n",
    "    download=True,\n",
    "    transform=transform\n",
    ")\n",
    "\n",
    "in_dim, num_classes = 3, 10\n",
    "\n",
    "loss_fn = nn.CrossEntropyLoss().to(device)\n",
    "\n",
    "train_loader = torch.utils.data.DataLoader(\n",
    "    dataset=train_dataset,\n",
    "    batch_size=batch_size,\n",
    "    # sampler=sampler,\n",
    "    persistent_workers=False,\n",
    "    num_workers=1,\n",
    "    pin_memory=True\n",
    ")\n",
    "train_eval_loader = torch.utils.data.DataLoader(\n",
    "    dataset=train_dataset,\n",
    "    batch_size=batch_size,\n",
    "    persistent_workers=False,\n",
    "    num_workers=1,\n",
    "    pin_memory=True\n",
    ")\n",
    "\n",
    "test_loader = torch.utils.data.DataLoader(\n",
    "    dataset=test_dataset,\n",
    "    batch_size=batch_size,\n",
    "    persistent_workers=False,\n",
    "    num_workers=1,\n",
    "    pin_memory=True\n",
    ")"
   ]
  },
  {
   "cell_type": "code",
   "execution_count": 4,
   "metadata": {
    "ExecuteTime": {
     "end_time": "2023-08-13T07:57:13.734301526Z",
     "start_time": "2023-08-13T07:57:06.515413543Z"
    },
    "collapsed": false
   },
   "outputs": [],
   "source": [
    "loader = torch.utils.data.DataLoader(train_dataset, batch_size=len(train_loader), shuffle=False)\n",
    "\n",
    "data, targets = next(iter(loader))\n",
    "\n",
    "logging.set_verbosity(logging.INFO)"
   ]
  },
  {
   "cell_type": "code",
   "execution_count": 6,
   "metadata": {
    "ExecuteTime": {
     "end_time": "2023-08-13T07:59:53.063689796Z",
     "start_time": "2023-08-13T07:59:53.020816099Z"
    },
    "collapsed": false
   },
   "outputs": [],
   "source": [
    "from grabngo.sorter import OfflineMeanBalance\n",
    "\n",
    "def sort_grads(grads, epochs=10):\n",
    "    n, d = grads.shape\n",
    "    sorter = OfflineMeanBalance(n, d)\n",
    "    print(sorter.orders)\n",
    "    \n",
    "    return sorter.offline_balance(grads, rounds=epochs)\n"
   ]
  },
  {
   "cell_type": "code",
   "execution_count": 7,
   "metadata": {
    "ExecuteTime": {
     "end_time": "2023-08-13T08:01:57.399118149Z",
     "start_time": "2023-08-13T08:01:57.311943409Z"
    }
   },
   "outputs": [
    {
     "name": "stderr",
     "output_type": "stream",
     "text": [
      "INFO:absl:Running seed 1\n",
      "INFO:absl:Computing the kernel matrix, this may take a while...\n"
     ]
    },
    {
     "data": {
      "application/vnd.jupyter.widget-view+json": {
       "model_id": "c4e58fc937b044c2835f26f652736735",
       "version_major": 2,
       "version_minor": 0
      },
      "text/plain": [
       "  0%|          | 0/391 [00:00<?, ?it/s]"
      ]
     },
     "metadata": {},
     "output_type": "display_data"
    },
    {
     "name": "stderr",
     "output_type": "stream",
     "text": [
      "INFO:absl:Finish computing the feature map, now computing the kernel matrix...\n",
      "INFO:absl:Running seed 2\n",
      "INFO:absl:Computing the kernel matrix, this may take a while...\n"
     ]
    },
    {
     "data": {
      "application/vnd.jupyter.widget-view+json": {
       "model_id": "f7eb7f4aaff84c44a1767fcdc689caaf",
       "version_major": 2,
       "version_minor": 0
      },
      "text/plain": [
       "  0%|          | 0/391 [00:00<?, ?it/s]"
      ]
     },
     "metadata": {},
     "output_type": "display_data"
    },
    {
     "name": "stderr",
     "output_type": "stream",
     "text": [
      "INFO:absl:Finish computing the feature map, now computing the kernel matrix...\n",
      "INFO:absl:Running seed 3\n",
      "INFO:absl:Computing the kernel matrix, this may take a while...\n"
     ]
    },
    {
     "data": {
      "application/vnd.jupyter.widget-view+json": {
       "model_id": "3a9f266c3b824f0a93feacf4df100a3a",
       "version_major": 2,
       "version_minor": 0
      },
      "text/plain": [
       "  0%|          | 0/391 [00:00<?, ?it/s]"
      ]
     },
     "metadata": {},
     "output_type": "display_data"
    },
    {
     "name": "stderr",
     "output_type": "stream",
     "text": [
      "INFO:absl:Finish computing the feature map, now computing the kernel matrix...\n",
      "INFO:absl:Running seed 4\n",
      "INFO:absl:Computing the kernel matrix, this may take a while...\n"
     ]
    },
    {
     "data": {
      "application/vnd.jupyter.widget-view+json": {
       "model_id": "ab5e79e032404a71b4a000fb44a9dd61",
       "version_major": 2,
       "version_minor": 0
      },
      "text/plain": [
       "  0%|          | 0/391 [00:00<?, ?it/s]"
      ]
     },
     "metadata": {},
     "output_type": "display_data"
    },
    {
     "name": "stderr",
     "output_type": "stream",
     "text": [
      "INFO:absl:Finish computing the feature map, now computing the kernel matrix...\n",
      "INFO:absl:Running seed 5\n",
      "INFO:absl:Computing the kernel matrix, this may take a while...\n"
     ]
    },
    {
     "data": {
      "application/vnd.jupyter.widget-view+json": {
       "model_id": "6bf02b54ca334ab3829b64ee759a52fe",
       "version_major": 2,
       "version_minor": 0
      },
      "text/plain": [
       "  0%|          | 0/391 [00:00<?, ?it/s]"
      ]
     },
     "metadata": {},
     "output_type": "display_data"
    },
    {
     "name": "stderr",
     "output_type": "stream",
     "text": [
      "INFO:absl:Finish computing the feature map, now computing the kernel matrix...\n",
      "INFO:absl:Running seed 6\n",
      "INFO:absl:Computing the kernel matrix, this may take a while...\n"
     ]
    },
    {
     "data": {
      "application/vnd.jupyter.widget-view+json": {
       "model_id": "84ad41bb990748429f9b145a394b0635",
       "version_major": 2,
       "version_minor": 0
      },
      "text/plain": [
       "  0%|          | 0/391 [00:00<?, ?it/s]"
      ]
     },
     "metadata": {},
     "output_type": "display_data"
    },
    {
     "name": "stderr",
     "output_type": "stream",
     "text": [
      "INFO:absl:Finish computing the feature map, now computing the kernel matrix...\n",
      "INFO:absl:Running seed 7\n",
      "INFO:absl:Computing the kernel matrix, this may take a while...\n"
     ]
    },
    {
     "data": {
      "application/vnd.jupyter.widget-view+json": {
       "model_id": "ca079fd469d44dcfae608a7ecba4088f",
       "version_major": 2,
       "version_minor": 0
      },
      "text/plain": [
       "  0%|          | 0/391 [00:00<?, ?it/s]"
      ]
     },
     "metadata": {},
     "output_type": "display_data"
    },
    {
     "name": "stderr",
     "output_type": "stream",
     "text": [
      "INFO:absl:Finish computing the feature map, now computing the kernel matrix...\n",
      "INFO:absl:Running seed 8\n",
      "INFO:absl:Computing the kernel matrix, this may take a while...\n"
     ]
    },
    {
     "data": {
      "application/vnd.jupyter.widget-view+json": {
       "model_id": "0941ca23ca1945ffa2aee9a14b18722f",
       "version_major": 2,
       "version_minor": 0
      },
      "text/plain": [
       "  0%|          | 0/391 [00:00<?, ?it/s]"
      ]
     },
     "metadata": {},
     "output_type": "display_data"
    },
    {
     "name": "stderr",
     "output_type": "stream",
     "text": [
      "INFO:absl:Finish computing the feature map, now computing the kernel matrix...\n",
      "INFO:absl:Running seed 9\n",
      "INFO:absl:Computing the kernel matrix, this may take a while...\n"
     ]
    },
    {
     "data": {
      "application/vnd.jupyter.widget-view+json": {
       "model_id": "e9495e7ca0824eb79aad3c55605a6a23",
       "version_major": 2,
       "version_minor": 0
      },
      "text/plain": [
       "  0%|          | 0/391 [00:00<?, ?it/s]"
      ]
     },
     "metadata": {},
     "output_type": "display_data"
    },
    {
     "name": "stderr",
     "output_type": "stream",
     "text": [
      "INFO:absl:Finish computing the feature map, now computing the kernel matrix...\n",
      "INFO:absl:Running seed 10\n",
      "INFO:absl:Computing the kernel matrix, this may take a while...\n"
     ]
    },
    {
     "data": {
      "application/vnd.jupyter.widget-view+json": {
       "model_id": "85819292274e4272a20578f5dd84bc1b",
       "version_major": 2,
       "version_minor": 0
      },
      "text/plain": [
       "  0%|          | 0/391 [00:00<?, ?it/s]"
      ]
     },
     "metadata": {},
     "output_type": "display_data"
    },
    {
     "name": "stderr",
     "output_type": "stream",
     "text": [
      "INFO:absl:Finish computing the feature map, now computing the kernel matrix...\n",
      "INFO:absl:Running seed 11\n",
      "INFO:absl:Computing the kernel matrix, this may take a while...\n"
     ]
    },
    {
     "data": {
      "application/vnd.jupyter.widget-view+json": {
       "model_id": "b797300ddf914d97b2b462e422411f21",
       "version_major": 2,
       "version_minor": 0
      },
      "text/plain": [
       "  0%|          | 0/391 [00:00<?, ?it/s]"
      ]
     },
     "metadata": {},
     "output_type": "display_data"
    },
    {
     "name": "stderr",
     "output_type": "stream",
     "text": [
      "INFO:absl:Finish computing the feature map, now computing the kernel matrix...\n",
      "INFO:absl:Running seed 12\n",
      "INFO:absl:Computing the kernel matrix, this may take a while...\n"
     ]
    },
    {
     "data": {
      "application/vnd.jupyter.widget-view+json": {
       "model_id": "f915798e585b4d70a9ebf50072cf7f1e",
       "version_major": 2,
       "version_minor": 0
      },
      "text/plain": [
       "  0%|          | 0/391 [00:00<?, ?it/s]"
      ]
     },
     "metadata": {},
     "output_type": "display_data"
    },
    {
     "name": "stderr",
     "output_type": "stream",
     "text": [
      "INFO:absl:Finish computing the feature map, now computing the kernel matrix...\n",
      "INFO:absl:Running seed 13\n",
      "INFO:absl:Computing the kernel matrix, this may take a while...\n"
     ]
    },
    {
     "data": {
      "application/vnd.jupyter.widget-view+json": {
       "model_id": "7b5d09a4756d43a2b1074c22840fc088",
       "version_major": 2,
       "version_minor": 0
      },
      "text/plain": [
       "  0%|          | 0/391 [00:00<?, ?it/s]"
      ]
     },
     "metadata": {},
     "output_type": "display_data"
    },
    {
     "name": "stderr",
     "output_type": "stream",
     "text": [
      "INFO:absl:Finish computing the feature map, now computing the kernel matrix...\n",
      "INFO:absl:Running seed 14\n",
      "INFO:absl:Computing the kernel matrix, this may take a while...\n"
     ]
    },
    {
     "data": {
      "application/vnd.jupyter.widget-view+json": {
       "model_id": "ee75cf2a217442709eb16bc645c02fcc",
       "version_major": 2,
       "version_minor": 0
      },
      "text/plain": [
       "  0%|          | 0/391 [00:00<?, ?it/s]"
      ]
     },
     "metadata": {},
     "output_type": "display_data"
    },
    {
     "name": "stderr",
     "output_type": "stream",
     "text": [
      "INFO:absl:Finish computing the feature map, now computing the kernel matrix...\n",
      "INFO:absl:Running seed 15\n",
      "INFO:absl:Computing the kernel matrix, this may take a while...\n"
     ]
    },
    {
     "data": {
      "application/vnd.jupyter.widget-view+json": {
       "model_id": "f5ee7661db524037864ba480f8b94f08",
       "version_major": 2,
       "version_minor": 0
      },
      "text/plain": [
       "  0%|          | 0/391 [00:00<?, ?it/s]"
      ]
     },
     "metadata": {},
     "output_type": "display_data"
    },
    {
     "name": "stderr",
     "output_type": "stream",
     "text": [
      "INFO:absl:Finish computing the feature map, now computing the kernel matrix...\n",
      "INFO:absl:Running seed 16\n",
      "INFO:absl:Computing the kernel matrix, this may take a while...\n"
     ]
    },
    {
     "data": {
      "application/vnd.jupyter.widget-view+json": {
       "model_id": "8f365be62f1549b491d5031d37d3b9ef",
       "version_major": 2,
       "version_minor": 0
      },
      "text/plain": [
       "  0%|          | 0/391 [00:00<?, ?it/s]"
      ]
     },
     "metadata": {},
     "output_type": "display_data"
    },
    {
     "name": "stderr",
     "output_type": "stream",
     "text": [
      "INFO:absl:Finish computing the feature map, now computing the kernel matrix...\n",
      "INFO:absl:Running seed 17\n",
      "INFO:absl:Computing the kernel matrix, this may take a while...\n"
     ]
    },
    {
     "data": {
      "application/vnd.jupyter.widget-view+json": {
       "model_id": "08f0d249b93d4879a22586d878b86972",
       "version_major": 2,
       "version_minor": 0
      },
      "text/plain": [
       "  0%|          | 0/391 [00:00<?, ?it/s]"
      ]
     },
     "metadata": {},
     "output_type": "display_data"
    },
    {
     "name": "stderr",
     "output_type": "stream",
     "text": [
      "INFO:absl:Finish computing the feature map, now computing the kernel matrix...\n",
      "INFO:absl:Running seed 18\n",
      "INFO:absl:Computing the kernel matrix, this may take a while...\n"
     ]
    },
    {
     "data": {
      "application/vnd.jupyter.widget-view+json": {
       "model_id": "1637af134e374b46b69bc8295585fa14",
       "version_major": 2,
       "version_minor": 0
      },
      "text/plain": [
       "  0%|          | 0/391 [00:00<?, ?it/s]"
      ]
     },
     "metadata": {},
     "output_type": "display_data"
    },
    {
     "name": "stderr",
     "output_type": "stream",
     "text": [
      "INFO:absl:Finish computing the feature map, now computing the kernel matrix...\n",
      "INFO:absl:Running seed 19\n",
      "INFO:absl:Computing the kernel matrix, this may take a while...\n"
     ]
    },
    {
     "data": {
      "application/vnd.jupyter.widget-view+json": {
       "model_id": "1b9f191e5c7545e3988215e326a890b0",
       "version_major": 2,
       "version_minor": 0
      },
      "text/plain": [
       "  0%|          | 0/391 [00:00<?, ?it/s]"
      ]
     },
     "metadata": {},
     "output_type": "display_data"
    },
    {
     "name": "stderr",
     "output_type": "stream",
     "text": [
      "INFO:absl:Finish computing the feature map, now computing the kernel matrix...\n",
      "INFO:absl:Running seed 20\n",
      "INFO:absl:Computing the kernel matrix, this may take a while...\n"
     ]
    },
    {
     "data": {
      "application/vnd.jupyter.widget-view+json": {
       "model_id": "bec8877e142f424a8f1b9f518404d553",
       "version_major": 2,
       "version_minor": 0
      },
      "text/plain": [
       "  0%|          | 0/391 [00:00<?, ?it/s]"
      ]
     },
     "metadata": {},
     "output_type": "display_data"
    },
    {
     "name": "stderr",
     "output_type": "stream",
     "text": [
      "INFO:absl:Finish computing the feature map, now computing the kernel matrix...\n",
      "INFO:absl:Running seed 21\n",
      "INFO:absl:Computing the kernel matrix, this may take a while...\n"
     ]
    },
    {
     "data": {
      "application/vnd.jupyter.widget-view+json": {
       "model_id": "bcb82bdec72f4afe9025684114cf32a6",
       "version_major": 2,
       "version_minor": 0
      },
      "text/plain": [
       "  0%|          | 0/391 [00:00<?, ?it/s]"
      ]
     },
     "metadata": {},
     "output_type": "display_data"
    },
    {
     "name": "stderr",
     "output_type": "stream",
     "text": [
      "INFO:absl:Finish computing the feature map, now computing the kernel matrix...\n",
      "INFO:absl:Running seed 22\n",
      "INFO:absl:Computing the kernel matrix, this may take a while...\n"
     ]
    },
    {
     "data": {
      "application/vnd.jupyter.widget-view+json": {
       "model_id": "7262bc1830794f9b89f5332e9761ae78",
       "version_major": 2,
       "version_minor": 0
      },
      "text/plain": [
       "  0%|          | 0/391 [00:00<?, ?it/s]"
      ]
     },
     "metadata": {},
     "output_type": "display_data"
    },
    {
     "name": "stderr",
     "output_type": "stream",
     "text": [
      "INFO:absl:Finish computing the feature map, now computing the kernel matrix...\n",
      "INFO:absl:Running seed 23\n",
      "INFO:absl:Computing the kernel matrix, this may take a while...\n"
     ]
    },
    {
     "data": {
      "application/vnd.jupyter.widget-view+json": {
       "model_id": "a2f3c7744bc14d379eb72e0077f50c93",
       "version_major": 2,
       "version_minor": 0
      },
      "text/plain": [
       "  0%|          | 0/391 [00:00<?, ?it/s]"
      ]
     },
     "metadata": {},
     "output_type": "display_data"
    },
    {
     "name": "stderr",
     "output_type": "stream",
     "text": [
      "INFO:absl:Finish computing the feature map, now computing the kernel matrix...\n",
      "INFO:absl:Running seed 24\n",
      "INFO:absl:Computing the kernel matrix, this may take a while...\n"
     ]
    },
    {
     "data": {
      "application/vnd.jupyter.widget-view+json": {
       "model_id": "f8c7e52ab86543ab8c24c9ce42998742",
       "version_major": 2,
       "version_minor": 0
      },
      "text/plain": [
       "  0%|          | 0/391 [00:00<?, ?it/s]"
      ]
     },
     "metadata": {},
     "output_type": "display_data"
    },
    {
     "name": "stderr",
     "output_type": "stream",
     "text": [
      "INFO:absl:Finish computing the feature map, now computing the kernel matrix...\n",
      "INFO:absl:Running seed 25\n",
      "INFO:absl:Computing the kernel matrix, this may take a while...\n"
     ]
    },
    {
     "data": {
      "application/vnd.jupyter.widget-view+json": {
       "model_id": "e28399bb9d5b43ec90d0227ea262f3a4",
       "version_major": 2,
       "version_minor": 0
      },
      "text/plain": [
       "  0%|          | 0/391 [00:00<?, ?it/s]"
      ]
     },
     "metadata": {},
     "output_type": "display_data"
    },
    {
     "name": "stderr",
     "output_type": "stream",
     "text": [
      "INFO:absl:Finish computing the feature map, now computing the kernel matrix...\n",
      "INFO:absl:Running seed 26\n",
      "INFO:absl:Computing the kernel matrix, this may take a while...\n"
     ]
    },
    {
     "data": {
      "application/vnd.jupyter.widget-view+json": {
       "model_id": "908ce4a259a04a0e91b3ba14aea7dfe9",
       "version_major": 2,
       "version_minor": 0
      },
      "text/plain": [
       "  0%|          | 0/391 [00:00<?, ?it/s]"
      ]
     },
     "metadata": {},
     "output_type": "display_data"
    },
    {
     "name": "stderr",
     "output_type": "stream",
     "text": [
      "INFO:absl:Finish computing the feature map, now computing the kernel matrix...\n",
      "INFO:absl:Running seed 27\n",
      "INFO:absl:Computing the kernel matrix, this may take a while...\n"
     ]
    },
    {
     "data": {
      "application/vnd.jupyter.widget-view+json": {
       "model_id": "8a9d7103dbf34e948bcd2bd406208dc8",
       "version_major": 2,
       "version_minor": 0
      },
      "text/plain": [
       "  0%|          | 0/391 [00:00<?, ?it/s]"
      ]
     },
     "metadata": {},
     "output_type": "display_data"
    },
    {
     "name": "stderr",
     "output_type": "stream",
     "text": [
      "INFO:absl:Finish computing the feature map, now computing the kernel matrix...\n",
      "INFO:absl:Running seed 28\n",
      "INFO:absl:Computing the kernel matrix, this may take a while...\n"
     ]
    },
    {
     "data": {
      "application/vnd.jupyter.widget-view+json": {
       "model_id": "071ff40a9b114e77b803f046fbe7ca80",
       "version_major": 2,
       "version_minor": 0
      },
      "text/plain": [
       "  0%|          | 0/391 [00:00<?, ?it/s]"
      ]
     },
     "metadata": {},
     "output_type": "display_data"
    },
    {
     "name": "stderr",
     "output_type": "stream",
     "text": [
      "INFO:absl:Finish computing the feature map, now computing the kernel matrix...\n",
      "INFO:absl:Running seed 29\n",
      "INFO:absl:Computing the kernel matrix, this may take a while...\n"
     ]
    },
    {
     "data": {
      "application/vnd.jupyter.widget-view+json": {
       "model_id": "72a66e89f1da497d81810dc7ecc533c4",
       "version_major": 2,
       "version_minor": 0
      },
      "text/plain": [
       "  0%|          | 0/391 [00:00<?, ?it/s]"
      ]
     },
     "metadata": {},
     "output_type": "display_data"
    },
    {
     "name": "stderr",
     "output_type": "stream",
     "text": [
      "INFO:absl:Finish computing the feature map, now computing the kernel matrix...\n",
      "INFO:absl:Running seed 30\n",
      "INFO:absl:Computing the kernel matrix, this may take a while...\n"
     ]
    },
    {
     "data": {
      "application/vnd.jupyter.widget-view+json": {
       "model_id": "75dd4a6c764c440eb0372d86654bc5d3",
       "version_major": 2,
       "version_minor": 0
      },
      "text/plain": [
       "  0%|          | 0/391 [00:00<?, ?it/s]"
      ]
     },
     "metadata": {},
     "output_type": "display_data"
    },
    {
     "name": "stderr",
     "output_type": "stream",
     "text": [
      "INFO:absl:Finish computing the feature map, now computing the kernel matrix...\n",
      "INFO:absl:Running seed 31\n",
      "INFO:absl:Computing the kernel matrix, this may take a while...\n"
     ]
    },
    {
     "data": {
      "application/vnd.jupyter.widget-view+json": {
       "model_id": "09a27126e8d54b0cb543018169db501d",
       "version_major": 2,
       "version_minor": 0
      },
      "text/plain": [
       "  0%|          | 0/391 [00:00<?, ?it/s]"
      ]
     },
     "metadata": {},
     "output_type": "display_data"
    },
    {
     "name": "stderr",
     "output_type": "stream",
     "text": [
      "INFO:absl:Finish computing the feature map, now computing the kernel matrix...\n",
      "INFO:absl:Running seed 32\n",
      "INFO:absl:Computing the kernel matrix, this may take a while...\n"
     ]
    },
    {
     "data": {
      "application/vnd.jupyter.widget-view+json": {
       "model_id": "48109b6d9ac6445bbd3da3c8e68e189f",
       "version_major": 2,
       "version_minor": 0
      },
      "text/plain": [
       "  0%|          | 0/391 [00:00<?, ?it/s]"
      ]
     },
     "metadata": {},
     "output_type": "display_data"
    },
    {
     "name": "stderr",
     "output_type": "stream",
     "text": [
      "INFO:absl:Finish computing the feature map, now computing the kernel matrix...\n",
      "INFO:absl:Running seed 33\n",
      "INFO:absl:Computing the kernel matrix, this may take a while...\n"
     ]
    },
    {
     "data": {
      "application/vnd.jupyter.widget-view+json": {
       "model_id": "3b708d821a654e589d93c68ced47d566",
       "version_major": 2,
       "version_minor": 0
      },
      "text/plain": [
       "  0%|          | 0/391 [00:00<?, ?it/s]"
      ]
     },
     "metadata": {},
     "output_type": "display_data"
    },
    {
     "name": "stderr",
     "output_type": "stream",
     "text": [
      "INFO:absl:Finish computing the feature map, now computing the kernel matrix...\n",
      "INFO:absl:Running seed 34\n",
      "INFO:absl:Computing the kernel matrix, this may take a while...\n"
     ]
    },
    {
     "data": {
      "application/vnd.jupyter.widget-view+json": {
       "model_id": "650af57e76c446d9962d209c1f745f93",
       "version_major": 2,
       "version_minor": 0
      },
      "text/plain": [
       "  0%|          | 0/391 [00:00<?, ?it/s]"
      ]
     },
     "metadata": {},
     "output_type": "display_data"
    },
    {
     "name": "stderr",
     "output_type": "stream",
     "text": [
      "INFO:absl:Finish computing the feature map, now computing the kernel matrix...\n",
      "INFO:absl:Running seed 35\n",
      "INFO:absl:Computing the kernel matrix, this may take a while...\n"
     ]
    },
    {
     "data": {
      "application/vnd.jupyter.widget-view+json": {
       "model_id": "b3bba3083a524db8ab4daf5d92ff3ba4",
       "version_major": 2,
       "version_minor": 0
      },
      "text/plain": [
       "  0%|          | 0/391 [00:00<?, ?it/s]"
      ]
     },
     "metadata": {},
     "output_type": "display_data"
    },
    {
     "name": "stderr",
     "output_type": "stream",
     "text": [
      "INFO:absl:Finish computing the feature map, now computing the kernel matrix...\n",
      "INFO:absl:Running seed 36\n",
      "INFO:absl:Computing the kernel matrix, this may take a while...\n"
     ]
    },
    {
     "data": {
      "application/vnd.jupyter.widget-view+json": {
       "model_id": "134280b5a1e84900a336622904fc78ab",
       "version_major": 2,
       "version_minor": 0
      },
      "text/plain": [
       "  0%|          | 0/391 [00:00<?, ?it/s]"
      ]
     },
     "metadata": {},
     "output_type": "display_data"
    },
    {
     "name": "stderr",
     "output_type": "stream",
     "text": [
      "INFO:absl:Finish computing the feature map, now computing the kernel matrix...\n",
      "INFO:absl:Running seed 37\n",
      "INFO:absl:Computing the kernel matrix, this may take a while...\n"
     ]
    },
    {
     "data": {
      "application/vnd.jupyter.widget-view+json": {
       "model_id": "b0b8b5e73d894aa7bfe1c59445843b17",
       "version_major": 2,
       "version_minor": 0
      },
      "text/plain": [
       "  0%|          | 0/391 [00:00<?, ?it/s]"
      ]
     },
     "metadata": {},
     "output_type": "display_data"
    },
    {
     "name": "stderr",
     "output_type": "stream",
     "text": [
      "INFO:absl:Finish computing the feature map, now computing the kernel matrix...\n",
      "INFO:absl:Running seed 38\n",
      "INFO:absl:Computing the kernel matrix, this may take a while...\n"
     ]
    },
    {
     "data": {
      "application/vnd.jupyter.widget-view+json": {
       "model_id": "7e73dd69e7da447fac6340ed75a7d1ab",
       "version_major": 2,
       "version_minor": 0
      },
      "text/plain": [
       "  0%|          | 0/391 [00:00<?, ?it/s]"
      ]
     },
     "metadata": {},
     "output_type": "display_data"
    },
    {
     "name": "stderr",
     "output_type": "stream",
     "text": [
      "INFO:absl:Finish computing the feature map, now computing the kernel matrix...\n",
      "INFO:absl:Running seed 39\n",
      "INFO:absl:Computing the kernel matrix, this may take a while...\n"
     ]
    },
    {
     "data": {
      "application/vnd.jupyter.widget-view+json": {
       "model_id": "c65fee6c213047c2b4bc4c647e3a4ce4",
       "version_major": 2,
       "version_minor": 0
      },
      "text/plain": [
       "  0%|          | 0/391 [00:00<?, ?it/s]"
      ]
     },
     "metadata": {},
     "output_type": "display_data"
    },
    {
     "name": "stderr",
     "output_type": "stream",
     "text": [
      "INFO:absl:Finish computing the feature map, now computing the kernel matrix...\n",
      "INFO:absl:Running seed 40\n",
      "INFO:absl:Computing the kernel matrix, this may take a while...\n"
     ]
    },
    {
     "data": {
      "application/vnd.jupyter.widget-view+json": {
       "model_id": "42e615387dc84581a7c1b2e0ed915031",
       "version_major": 2,
       "version_minor": 0
      },
      "text/plain": [
       "  0%|          | 0/391 [00:00<?, ?it/s]"
      ]
     },
     "metadata": {},
     "output_type": "display_data"
    },
    {
     "name": "stderr",
     "output_type": "stream",
     "text": [
      "INFO:absl:Finish computing the feature map, now computing the kernel matrix...\n",
      "INFO:absl:Running seed 41\n",
      "INFO:absl:Computing the kernel matrix, this may take a while...\n"
     ]
    },
    {
     "data": {
      "application/vnd.jupyter.widget-view+json": {
       "model_id": "5e3c388bc09640e4bdd2ab8451a23982",
       "version_major": 2,
       "version_minor": 0
      },
      "text/plain": [
       "  0%|          | 0/391 [00:00<?, ?it/s]"
      ]
     },
     "metadata": {},
     "output_type": "display_data"
    },
    {
     "name": "stderr",
     "output_type": "stream",
     "text": [
      "INFO:absl:Finish computing the feature map, now computing the kernel matrix...\n",
      "INFO:absl:Running seed 42\n",
      "INFO:absl:Computing the kernel matrix, this may take a while...\n"
     ]
    },
    {
     "data": {
      "application/vnd.jupyter.widget-view+json": {
       "model_id": "d1cc33a306714e88853ade2c104952f4",
       "version_major": 2,
       "version_minor": 0
      },
      "text/plain": [
       "  0%|          | 0/391 [00:00<?, ?it/s]"
      ]
     },
     "metadata": {},
     "output_type": "display_data"
    },
    {
     "name": "stderr",
     "output_type": "stream",
     "text": [
      "INFO:absl:Finish computing the feature map, now computing the kernel matrix...\n",
      "INFO:absl:Running seed 43\n",
      "INFO:absl:Computing the kernel matrix, this may take a while...\n"
     ]
    },
    {
     "data": {
      "application/vnd.jupyter.widget-view+json": {
       "model_id": "c404b6cb26db4e2b82e0c6eef803a521",
       "version_major": 2,
       "version_minor": 0
      },
      "text/plain": [
       "  0%|          | 0/391 [00:00<?, ?it/s]"
      ]
     },
     "metadata": {},
     "output_type": "display_data"
    },
    {
     "name": "stderr",
     "output_type": "stream",
     "text": [
      "INFO:absl:Finish computing the feature map, now computing the kernel matrix...\n",
      "INFO:absl:Running seed 44\n",
      "INFO:absl:Computing the kernel matrix, this may take a while...\n"
     ]
    },
    {
     "data": {
      "application/vnd.jupyter.widget-view+json": {
       "model_id": "ba26d94253734a998e2eab5228c7a464",
       "version_major": 2,
       "version_minor": 0
      },
      "text/plain": [
       "  0%|          | 0/391 [00:00<?, ?it/s]"
      ]
     },
     "metadata": {},
     "output_type": "display_data"
    },
    {
     "name": "stderr",
     "output_type": "stream",
     "text": [
      "INFO:absl:Finish computing the feature map, now computing the kernel matrix...\n",
      "INFO:absl:Running seed 45\n",
      "INFO:absl:Computing the kernel matrix, this may take a while...\n"
     ]
    },
    {
     "data": {
      "application/vnd.jupyter.widget-view+json": {
       "model_id": "9bf90f303d034fcda19d17a90e8e3cee",
       "version_major": 2,
       "version_minor": 0
      },
      "text/plain": [
       "  0%|          | 0/391 [00:00<?, ?it/s]"
      ]
     },
     "metadata": {},
     "output_type": "display_data"
    },
    {
     "name": "stderr",
     "output_type": "stream",
     "text": [
      "INFO:absl:Finish computing the feature map, now computing the kernel matrix...\n",
      "INFO:absl:Running seed 46\n",
      "INFO:absl:Computing the kernel matrix, this may take a while...\n"
     ]
    },
    {
     "data": {
      "application/vnd.jupyter.widget-view+json": {
       "model_id": "d567ad044403456382e9a54de5cb5a41",
       "version_major": 2,
       "version_minor": 0
      },
      "text/plain": [
       "  0%|          | 0/391 [00:00<?, ?it/s]"
      ]
     },
     "metadata": {},
     "output_type": "display_data"
    },
    {
     "name": "stderr",
     "output_type": "stream",
     "text": [
      "INFO:absl:Finish computing the feature map, now computing the kernel matrix...\n",
      "INFO:absl:Running seed 47\n",
      "INFO:absl:Computing the kernel matrix, this may take a while...\n"
     ]
    },
    {
     "data": {
      "application/vnd.jupyter.widget-view+json": {
       "model_id": "11e3f5c324144fd689b0a3663d0dd6d8",
       "version_major": 2,
       "version_minor": 0
      },
      "text/plain": [
       "  0%|          | 0/391 [00:00<?, ?it/s]"
      ]
     },
     "metadata": {},
     "output_type": "display_data"
    },
    {
     "name": "stderr",
     "output_type": "stream",
     "text": [
      "INFO:absl:Finish computing the feature map, now computing the kernel matrix...\n",
      "INFO:absl:Running seed 48\n",
      "INFO:absl:Computing the kernel matrix, this may take a while...\n"
     ]
    },
    {
     "data": {
      "application/vnd.jupyter.widget-view+json": {
       "model_id": "4bd49149c2154d329d665dff3171d7f5",
       "version_major": 2,
       "version_minor": 0
      },
      "text/plain": [
       "  0%|          | 0/391 [00:00<?, ?it/s]"
      ]
     },
     "metadata": {},
     "output_type": "display_data"
    },
    {
     "name": "stderr",
     "output_type": "stream",
     "text": [
      "INFO:absl:Finish computing the feature map, now computing the kernel matrix...\n",
      "INFO:absl:Running seed 49\n",
      "INFO:absl:Computing the kernel matrix, this may take a while...\n"
     ]
    },
    {
     "data": {
      "application/vnd.jupyter.widget-view+json": {
       "model_id": "9130cc30c0a94c10b9005d2615a62563",
       "version_major": 2,
       "version_minor": 0
      },
      "text/plain": [
       "  0%|          | 0/391 [00:00<?, ?it/s]"
      ]
     },
     "metadata": {},
     "output_type": "display_data"
    },
    {
     "name": "stderr",
     "output_type": "stream",
     "text": [
      "INFO:absl:Finish computing the feature map, now computing the kernel matrix...\n",
      "INFO:absl:Running seed 50\n",
      "INFO:absl:Computing the kernel matrix, this may take a while...\n"
     ]
    },
    {
     "data": {
      "application/vnd.jupyter.widget-view+json": {
       "model_id": "fd6c789f92234ceeaf2b9607f951cca4",
       "version_major": 2,
       "version_minor": 0
      },
      "text/plain": [
       "  0%|          | 0/391 [00:00<?, ?it/s]"
      ]
     },
     "metadata": {},
     "output_type": "display_data"
    },
    {
     "name": "stderr",
     "output_type": "stream",
     "text": [
      "INFO:absl:Finish computing the feature map, now computing the kernel matrix...\n",
      "INFO:absl:Running seed 51\n",
      "INFO:absl:Computing the kernel matrix, this may take a while...\n"
     ]
    },
    {
     "data": {
      "application/vnd.jupyter.widget-view+json": {
       "model_id": "c7696dfdd97f4460a8710ae344e0cdac",
       "version_major": 2,
       "version_minor": 0
      },
      "text/plain": [
       "  0%|          | 0/391 [00:00<?, ?it/s]"
      ]
     },
     "metadata": {},
     "output_type": "display_data"
    },
    {
     "name": "stderr",
     "output_type": "stream",
     "text": [
      "INFO:absl:Finish computing the feature map, now computing the kernel matrix...\n",
      "INFO:absl:Running seed 52\n",
      "INFO:absl:Computing the kernel matrix, this may take a while...\n"
     ]
    },
    {
     "data": {
      "application/vnd.jupyter.widget-view+json": {
       "model_id": "762cc8a6babb4557a14a037a36a69d91",
       "version_major": 2,
       "version_minor": 0
      },
      "text/plain": [
       "  0%|          | 0/391 [00:00<?, ?it/s]"
      ]
     },
     "metadata": {},
     "output_type": "display_data"
    },
    {
     "name": "stderr",
     "output_type": "stream",
     "text": [
      "INFO:absl:Finish computing the feature map, now computing the kernel matrix...\n",
      "INFO:absl:Running seed 53\n",
      "INFO:absl:Computing the kernel matrix, this may take a while...\n"
     ]
    },
    {
     "data": {
      "application/vnd.jupyter.widget-view+json": {
       "model_id": "58a39356b2954a1895de61a575c9f74c",
       "version_major": 2,
       "version_minor": 0
      },
      "text/plain": [
       "  0%|          | 0/391 [00:00<?, ?it/s]"
      ]
     },
     "metadata": {},
     "output_type": "display_data"
    },
    {
     "name": "stderr",
     "output_type": "stream",
     "text": [
      "INFO:absl:Finish computing the feature map, now computing the kernel matrix...\n",
      "INFO:absl:Running seed 54\n",
      "INFO:absl:Computing the kernel matrix, this may take a while...\n"
     ]
    },
    {
     "data": {
      "application/vnd.jupyter.widget-view+json": {
       "model_id": "6dcdd512add34a96b098f849353489fe",
       "version_major": 2,
       "version_minor": 0
      },
      "text/plain": [
       "  0%|          | 0/391 [00:00<?, ?it/s]"
      ]
     },
     "metadata": {},
     "output_type": "display_data"
    },
    {
     "name": "stderr",
     "output_type": "stream",
     "text": [
      "INFO:absl:Finish computing the feature map, now computing the kernel matrix...\n",
      "INFO:absl:Running seed 55\n",
      "INFO:absl:Computing the kernel matrix, this may take a while...\n"
     ]
    },
    {
     "data": {
      "application/vnd.jupyter.widget-view+json": {
       "model_id": "7e82599ab7e64daf9ef3c560a8c18e62",
       "version_major": 2,
       "version_minor": 0
      },
      "text/plain": [
       "  0%|          | 0/391 [00:00<?, ?it/s]"
      ]
     },
     "metadata": {},
     "output_type": "display_data"
    },
    {
     "name": "stderr",
     "output_type": "stream",
     "text": [
      "INFO:absl:Finish computing the feature map, now computing the kernel matrix...\n",
      "INFO:absl:Running seed 56\n",
      "INFO:absl:Computing the kernel matrix, this may take a while...\n"
     ]
    },
    {
     "data": {
      "application/vnd.jupyter.widget-view+json": {
       "model_id": "ce0fa59a2890401b9d538b39b786a2b1",
       "version_major": 2,
       "version_minor": 0
      },
      "text/plain": [
       "  0%|          | 0/391 [00:00<?, ?it/s]"
      ]
     },
     "metadata": {},
     "output_type": "display_data"
    },
    {
     "name": "stderr",
     "output_type": "stream",
     "text": [
      "INFO:absl:Finish computing the feature map, now computing the kernel matrix...\n",
      "INFO:absl:Running seed 57\n",
      "INFO:absl:Computing the kernel matrix, this may take a while...\n"
     ]
    },
    {
     "data": {
      "application/vnd.jupyter.widget-view+json": {
       "model_id": "62ba389ea7d140fc8a0d791986ca663e",
       "version_major": 2,
       "version_minor": 0
      },
      "text/plain": [
       "  0%|          | 0/391 [00:00<?, ?it/s]"
      ]
     },
     "metadata": {},
     "output_type": "display_data"
    },
    {
     "name": "stderr",
     "output_type": "stream",
     "text": [
      "INFO:absl:Finish computing the feature map, now computing the kernel matrix...\n",
      "INFO:absl:Running seed 58\n",
      "INFO:absl:Computing the kernel matrix, this may take a while...\n"
     ]
    },
    {
     "data": {
      "application/vnd.jupyter.widget-view+json": {
       "model_id": "b245f0f948ca48c3aa1931b73d00ba40",
       "version_major": 2,
       "version_minor": 0
      },
      "text/plain": [
       "  0%|          | 0/391 [00:00<?, ?it/s]"
      ]
     },
     "metadata": {},
     "output_type": "display_data"
    },
    {
     "name": "stderr",
     "output_type": "stream",
     "text": [
      "INFO:absl:Finish computing the feature map, now computing the kernel matrix...\n",
      "INFO:absl:Running seed 59\n",
      "INFO:absl:Computing the kernel matrix, this may take a while...\n"
     ]
    },
    {
     "data": {
      "application/vnd.jupyter.widget-view+json": {
       "model_id": "9b4874a9678e45bda8f386cc1a41618b",
       "version_major": 2,
       "version_minor": 0
      },
      "text/plain": [
       "  0%|          | 0/391 [00:00<?, ?it/s]"
      ]
     },
     "metadata": {},
     "output_type": "display_data"
    },
    {
     "name": "stderr",
     "output_type": "stream",
     "text": [
      "INFO:absl:Finish computing the feature map, now computing the kernel matrix...\n",
      "INFO:absl:Running seed 60\n",
      "INFO:absl:Computing the kernel matrix, this may take a while...\n"
     ]
    },
    {
     "data": {
      "application/vnd.jupyter.widget-view+json": {
       "model_id": "4b504fae3cd649c9ab07a9b4b3d980b3",
       "version_major": 2,
       "version_minor": 0
      },
      "text/plain": [
       "  0%|          | 0/391 [00:00<?, ?it/s]"
      ]
     },
     "metadata": {},
     "output_type": "display_data"
    },
    {
     "name": "stderr",
     "output_type": "stream",
     "text": [
      "INFO:absl:Finish computing the feature map, now computing the kernel matrix...\n",
      "INFO:absl:Running seed 61\n",
      "INFO:absl:Computing the kernel matrix, this may take a while...\n"
     ]
    },
    {
     "data": {
      "application/vnd.jupyter.widget-view+json": {
       "model_id": "4f7bec0861b848c9b2f9a27547d094ad",
       "version_major": 2,
       "version_minor": 0
      },
      "text/plain": [
       "  0%|          | 0/391 [00:00<?, ?it/s]"
      ]
     },
     "metadata": {},
     "output_type": "display_data"
    },
    {
     "name": "stderr",
     "output_type": "stream",
     "text": [
      "INFO:absl:Finish computing the feature map, now computing the kernel matrix...\n",
      "INFO:absl:Running seed 62\n",
      "INFO:absl:Computing the kernel matrix, this may take a while...\n"
     ]
    },
    {
     "data": {
      "application/vnd.jupyter.widget-view+json": {
       "model_id": "9fd30c3530cd41d882ec6f62af950685",
       "version_major": 2,
       "version_minor": 0
      },
      "text/plain": [
       "  0%|          | 0/391 [00:00<?, ?it/s]"
      ]
     },
     "metadata": {},
     "output_type": "display_data"
    },
    {
     "name": "stderr",
     "output_type": "stream",
     "text": [
      "INFO:absl:Finish computing the feature map, now computing the kernel matrix...\n",
      "INFO:absl:Running seed 63\n",
      "INFO:absl:Computing the kernel matrix, this may take a while...\n"
     ]
    },
    {
     "data": {
      "application/vnd.jupyter.widget-view+json": {
       "model_id": "d92de05eabbc447998fca4289f5a5466",
       "version_major": 2,
       "version_minor": 0
      },
      "text/plain": [
       "  0%|          | 0/391 [00:00<?, ?it/s]"
      ]
     },
     "metadata": {},
     "output_type": "display_data"
    },
    {
     "name": "stderr",
     "output_type": "stream",
     "text": [
      "INFO:absl:Finish computing the feature map, now computing the kernel matrix...\n",
      "INFO:absl:Running seed 64\n",
      "INFO:absl:Computing the kernel matrix, this may take a while...\n"
     ]
    },
    {
     "data": {
      "application/vnd.jupyter.widget-view+json": {
       "model_id": "2d06c2e8ba314fec93e2ecf716339a42",
       "version_major": 2,
       "version_minor": 0
      },
      "text/plain": [
       "  0%|          | 0/391 [00:00<?, ?it/s]"
      ]
     },
     "metadata": {},
     "output_type": "display_data"
    },
    {
     "name": "stderr",
     "output_type": "stream",
     "text": [
      "INFO:absl:Finish computing the feature map, now computing the kernel matrix...\n"
     ]
    }
   ],
   "source": [
    "from grabngo.sorter.beta.functional import compute_kernel\n",
    "import gc\n",
    "from matplotlib import pyplot as plt\n",
    "\n",
    "num_nets = 64\n",
    "\n",
    "kernel_dtype = torch.float32\n",
    "kernel_device = torch.device(\"cuda\")\n",
    "\n",
    "n = len(train_loader)\n",
    "\n",
    "K = torch.zeros(n, n, dtype=kernel_dtype, device=kernel_device)\n",
    "\n",
    "# for balance in ['mean','rr','so']:\n",
    "for seed in range(1, num_nets + 1):\n",
    "    logging.info(f\"Running seed {seed}\")\n",
    "    set_seed(seed)\n",
    "    model = LeNet(in_dim, num_classes).cuda()\n",
    "    params = dict(model.named_parameters())\n",
    "    buffers = dict(model.named_buffers())\n",
    "\n",
    "    for param in params.values():\n",
    "        param.requires_grad = False\n",
    "    dK = compute_kernel(\n",
    "        model,\n",
    "        params,\n",
    "        buffers,\n",
    "        loss_fn,\n",
    "        data,\n",
    "        targets,\n",
    "        batch_size=128,\n",
    "        kernel_dtype=kernel_dtype,\n",
    "        kernel_device=kernel_device,\n",
    "        centered_feature_map=True,\n",
    "    )\n",
    "    # print(dK[:4, :4])\n",
    "\n",
    "    # _d = 256\n",
    "    # plt.imshow(dK[:_d, :_d].cpu().numpy() / seed)\n",
    "    # plt.savefig(f\"sandbox/gary/0shot/ntk_{seed}.png\")\n",
    "    # plt.clf()\n",
    "    K += dK\n",
    "K /= num_nets\n",
    "\n",
    "n = len(train_loader)\n",
    "d = 62006\n",
    "\n",
    "torch.save(K, f\"sandbox/gary/0shot/ntk_lenet_{num_nets}.pt\")"
   ]
  },
  {
   "cell_type": "code",
   "execution_count": 7,
   "metadata": {},
   "outputs": [
    {
     "data": {
      "text/plain": [
       "(tensor([-0.3519], device='cuda:0'),\n",
       " tensor([[0.0034],\n",
       "         [0.0036],\n",
       "         [0.0049],\n",
       "         ...,\n",
       "         [0.0035],\n",
       "         [0.0037],\n",
       "         [0.0038]], device='cuda:0'))"
      ]
     },
     "execution_count": 7,
     "metadata": {},
     "output_type": "execute_result"
    }
   ],
   "source": [
    "torch.lobpcg(K, k=1, largest=False, method=\"ortho\")"
   ]
  },
  {
   "cell_type": "code",
   "execution_count": 11,
   "metadata": {},
   "outputs": [
    {
     "data": {
      "text/plain": [
       "(tensor([11395.5449], device='cuda:0'),\n",
       " tensor([[ 0.0015],\n",
       "         [ 0.0095],\n",
       "         [ 0.0097],\n",
       "         ...,\n",
       "         [ 0.0096],\n",
       "         [-0.0103],\n",
       "         [-0.0093]], device='cuda:0'))"
      ]
     },
     "execution_count": 11,
     "metadata": {},
     "output_type": "execute_result"
    }
   ],
   "source": [
    "torch.lobpcg(K, k=1, largest=True, method=\"ortho\")"
   ]
  },
  {
   "cell_type": "code",
   "execution_count": 10,
   "metadata": {},
   "outputs": [
    {
     "data": {
      "text/plain": [
       "1283.2962694048842"
      ]
     },
     "execution_count": 10,
     "metadata": {},
     "output_type": "execute_result"
    }
   ],
   "source": [
    "np.sqrt(12022 / 0.0073)"
   ]
  },
  {
   "cell_type": "code",
   "execution_count": 13,
   "metadata": {},
   "outputs": [
    {
     "data": {
      "text/html": [
       "<pre style=\"white-space:pre;overflow-x:auto;line-height:normal;font-family:Menlo,'DejaVu Sans Mono',consolas,'Courier New',monospace\"><span style=\"color: #800000; text-decoration-color: #800000\">╭─────────────────────────────── </span><span style=\"color: #800000; text-decoration-color: #800000; font-weight: bold\">Traceback </span><span style=\"color: #bf7f7f; text-decoration-color: #bf7f7f; font-weight: bold\">(most recent call last)</span><span style=\"color: #800000; text-decoration-color: #800000\"> ────────────────────────────────╮</span>\n",
       "<span style=\"color: #800000; text-decoration-color: #800000\">│</span> in <span style=\"color: #00ff00; text-decoration-color: #00ff00\">&lt;module&gt;</span>:<span style=\"color: #0000ff; text-decoration-color: #0000ff\">1</span>                                                                                    <span style=\"color: #800000; text-decoration-color: #800000\">│</span>\n",
       "<span style=\"color: #800000; text-decoration-color: #800000\">│</span>                                                                                                  <span style=\"color: #800000; text-decoration-color: #800000\">│</span>\n",
       "<span style=\"color: #800000; text-decoration-color: #800000\">│</span> <span style=\"color: #800000; text-decoration-color: #800000\">❱ </span>1 eigvals, eigvecs = torch.linalg.eigh(K)                                                      <span style=\"color: #800000; text-decoration-color: #800000\">│</span>\n",
       "<span style=\"color: #800000; text-decoration-color: #800000\">│</span>   <span style=\"color: #7f7f7f; text-decoration-color: #7f7f7f\">2 </span>                                                                                             <span style=\"color: #800000; text-decoration-color: #800000\">│</span>\n",
       "<span style=\"color: #800000; text-decoration-color: #800000\">╰──────────────────────────────────────────────────────────────────────────────────────────────────╯</span>\n",
       "<span style=\"color: #ff0000; text-decoration-color: #ff0000; font-weight: bold\">OutOfMemoryError: </span>CUDA out of memory. Tried to allocate <span style=\"color: #008080; text-decoration-color: #008080; font-weight: bold\">27.94</span> GiB <span style=\"font-weight: bold\">(</span>GPU <span style=\"color: #008080; text-decoration-color: #008080; font-weight: bold\">0</span>; <span style=\"color: #008080; text-decoration-color: #008080; font-weight: bold\">47.54</span> GiB total capacity; <span style=\"color: #008080; text-decoration-color: #008080; font-weight: bold\">27.96</span> GiB \n",
       "already allocated; <span style=\"color: #008080; text-decoration-color: #008080; font-weight: bold\">18.04</span> GiB free; <span style=\"color: #008080; text-decoration-color: #008080; font-weight: bold\">27.96</span> GiB reserved in total by PyTorch<span style=\"font-weight: bold\">)</span> If reserved memory is &gt;&gt; allocated \n",
       "memory try setting max_split_size_mb to avoid fragmentation.  See documentation for Memory Management and \n",
       "PYTORCH_CUDA_ALLOC_CONF\n",
       "</pre>\n"
      ],
      "text/plain": [
       "\u001b[31m╭─\u001b[0m\u001b[31m──────────────────────────────\u001b[0m\u001b[31m \u001b[0m\u001b[1;31mTraceback \u001b[0m\u001b[1;2;31m(most recent call last)\u001b[0m\u001b[31m \u001b[0m\u001b[31m───────────────────────────────\u001b[0m\u001b[31m─╮\u001b[0m\n",
       "\u001b[31m│\u001b[0m in \u001b[92m<module>\u001b[0m:\u001b[94m1\u001b[0m                                                                                    \u001b[31m│\u001b[0m\n",
       "\u001b[31m│\u001b[0m                                                                                                  \u001b[31m│\u001b[0m\n",
       "\u001b[31m│\u001b[0m \u001b[31m❱ \u001b[0m1 eigvals, eigvecs = torch.linalg.eigh(K)                                                      \u001b[31m│\u001b[0m\n",
       "\u001b[31m│\u001b[0m   \u001b[2m2 \u001b[0m                                                                                             \u001b[31m│\u001b[0m\n",
       "\u001b[31m╰──────────────────────────────────────────────────────────────────────────────────────────────────╯\u001b[0m\n",
       "\u001b[1;91mOutOfMemoryError: \u001b[0mCUDA out of memory. Tried to allocate \u001b[1;36m27.94\u001b[0m GiB \u001b[1m(\u001b[0mGPU \u001b[1;36m0\u001b[0m; \u001b[1;36m47.54\u001b[0m GiB total capacity; \u001b[1;36m27.96\u001b[0m GiB \n",
       "already allocated; \u001b[1;36m18.04\u001b[0m GiB free; \u001b[1;36m27.96\u001b[0m GiB reserved in total by PyTorch\u001b[1m)\u001b[0m If reserved memory is >> allocated \n",
       "memory try setting max_split_size_mb to avoid fragmentation.  See documentation for Memory Management and \n",
       "PYTORCH_CUDA_ALLOC_CONF\n"
      ]
     },
     "metadata": {},
     "output_type": "display_data"
    }
   ],
   "source": [
    "eigvals, eigvecs = torch.linalg.eigh(K)"
   ]
  },
  {
   "cell_type": "code",
   "execution_count": 9,
   "metadata": {
    "ExecuteTime": {
     "end_time": "2023-07-17T11:49:10.217460611Z",
     "start_time": "2023-07-17T11:49:10.168636978Z"
    },
    "collapsed": false
   },
   "outputs": [
    {
     "data": {
      "text/plain": [
       "torch.Size([50000, 50000])"
      ]
     },
     "execution_count": 9,
     "metadata": {},
     "output_type": "execute_result"
    }
   ],
   "source": [
    "K.size()"
   ]
  },
  {
   "cell_type": "code",
   "execution_count": 11,
   "metadata": {
    "ExecuteTime": {
     "end_time": "2023-07-17T11:51:18.644062070Z",
     "start_time": "2023-07-17T11:49:17.763319619Z"
    },
    "collapsed": false
   },
   "outputs": [
    {
     "name": "stdout",
     "output_type": "stream",
     "text": [
      "tensor([  396, 49608, 44015,  ..., 43435, 25587, 49115])\n"
     ]
    }
   ],
   "source": [
    "orders = sort_grads(K, epochs=30)"
   ]
  },
  {
   "cell_type": "code",
   "execution_count": 13,
   "metadata": {
    "ExecuteTime": {
     "end_time": "2023-07-17T11:51:29.204456043Z",
     "start_time": "2023-07-17T11:51:29.201224133Z"
    },
    "collapsed": false
   },
   "outputs": [
    {
     "data": {
      "text/plain": [
       "tensor([ 9668,  3118, 16256,  ...,  8040, 10601, 28892])"
      ]
     },
     "execution_count": 13,
     "metadata": {},
     "output_type": "execute_result"
    }
   ],
   "source": [
    "orders"
   ]
  },
  {
   "cell_type": "code",
   "execution_count": 14,
   "metadata": {
    "ExecuteTime": {
     "end_time": "2023-07-17T11:51:50.555789425Z",
     "start_time": "2023-07-17T11:51:50.473895898Z"
    },
    "collapsed": false
   },
   "outputs": [],
   "source": [
    "torch.save(orders, 'lenet_cifar10_64_mean_epoch_0_rounds_30.pt')"
   ]
  },
  {
   "cell_type": "code",
   "execution_count": null,
   "metadata": {
    "collapsed": false
   },
   "outputs": [],
   "source": []
  }
 ],
 "metadata": {
  "kernelspec": {
   "display_name": "Python 3 (ipykernel)",
   "language": "python",
   "name": "python3"
  },
  "language_info": {
   "codemirror_mode": {
    "name": "ipython",
    "version": 3
   },
   "file_extension": ".py",
   "mimetype": "text/x-python",
   "name": "python",
   "nbconvert_exporter": "python",
   "pygments_lexer": "ipython3",
   "version": "3.10.12"
  }
 },
 "nbformat": 4,
 "nbformat_minor": 0
}
