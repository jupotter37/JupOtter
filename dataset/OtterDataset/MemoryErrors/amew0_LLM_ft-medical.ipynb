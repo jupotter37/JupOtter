{
 "cells": [
  {
   "cell_type": "code",
   "execution_count": 1,
   "metadata": {},
   "outputs": [],
   "source": [
    "logg = lambda x: print(f\"------------------------ {x} ---------------------------\")\n",
    "\n",
    "import os\n",
    "import gc\n",
    "import torch\n",
    "import transformers\n",
    "import huggingface_hub\n",
    "import wandb\n",
    "\n",
    "wandb.require(\"core\")\n",
    "from datetime import datetime\n",
    "from dotenv import load_dotenv\n",
    "from transformers import AutoTokenizer, AutoModelForCausalLM, BitsAndBytesConfig\n",
    "from trl import SFTTrainer\n",
    "from peft import LoraConfig, PeftModel\n",
    "from datasets import load_dataset\n",
    "from time import time\n",
    "load_dotenv()\n",
    "from utils.eval_helper import *\n",
    "\n"
   ]
  },
  {
   "cell_type": "code",
   "execution_count": 2,
   "metadata": {},
   "outputs": [
    {
     "name": "stderr",
     "output_type": "stream",
     "text": [
      "Special tokens have been added in the vocabulary, make sure the associated word embeddings are fine-tuned or trained.\n"
     ]
    },
    {
     "data": {
      "application/vnd.jupyter.widget-view+json": {
       "model_id": "be6ad585c57e412da6c25a1d7d956480",
       "version_major": 2,
       "version_minor": 0
      },
      "text/plain": [
       "Loading checkpoint shards:   0%|          | 0/4 [00:00<?, ?it/s]"
      ]
     },
     "metadata": {},
     "output_type": "display_data"
    }
   ],
   "source": [
    "cache_dir = f\"/dpc/kunf0097/l3-8b\"\n",
    "candidate_name = \"amew0/l3-8b-medical-v240623023136\"\n",
    "candidate_tokenizer, candidate_model = get_tokenizer_and_model(\n",
    "    model_name=candidate_name, cache_dir=cache_dir\n",
    ")"
   ]
  },
  {
   "cell_type": "code",
   "execution_count": 3,
   "metadata": {},
   "outputs": [
    {
     "name": "stdout",
     "output_type": "stream",
     "text": [
      "109.205.28.10\n"
     ]
    }
   ],
   "source": [
    "!curl ipv4.icanhazip.com"
   ]
  },
  {
   "cell_type": "code",
   "execution_count": 4,
   "metadata": {},
   "outputs": [
    {
     "name": "stdout",
     "output_type": "stream",
     "text": [
      "/home/kunet.ae/ku5001069/.local/lib/python3.10/site-packages/huggingface_hub/file_download.py:1132: FutureWarning: `resume_download` is deprecated and will be removed in version 1.0.0. Downloads always resume when possible. If you want to force a new download, use `force_download=True`.\n",
      "  warnings.warn(\n",
      "INFO 07-09 14:42:30 llm_engine.py:72] Initializing an LLM engine with config: model='amew0/l3-8b-medical-v240622193618', tokenizer='amew0/l3-8b-medical-v240622193618', tokenizer_mode=auto, revision=None, tokenizer_revision=None, trust_remote_code=False, dtype=torch.float16, max_seq_len=8192, download_dir='/dpc/kunf0097/l3-8b/model', load_format=auto, tensor_parallel_size=1, quantization=None, seed=0)\n",
      "Traceback (most recent call last):\n",
      "  File \"/home/kunet.ae/ku5001069/.conda/envs/torch20/lib/python3.10/runpy.py\", line 196, in _run_module_as_main\n",
      "    return _run_code(code, main_globals, None,\n",
      "  File \"/home/kunet.ae/ku5001069/.conda/envs/torch20/lib/python3.10/runpy.py\", line 86, in _run_code\n",
      "    exec(code, run_globals)\n",
      "  File \"/home/kunet.ae/ku5001069/.local/lib/python3.10/site-packages/vllm/entrypoints/openai/api_server.py\", line 613, in <module>\n",
      "    engine = AsyncLLMEngine.from_engine_args(engine_args)\n",
      "  File \"/home/kunet.ae/ku5001069/.local/lib/python3.10/site-packages/vllm/engine/async_llm_engine.py\", line 487, in from_engine_args\n",
      "    engine = cls(engine_args.worker_use_ray,\n",
      "  File \"/home/kunet.ae/ku5001069/.local/lib/python3.10/site-packages/vllm/engine/async_llm_engine.py\", line 270, in __init__\n",
      "    self.engine = self._init_engine(*args, **kwargs)\n",
      "  File \"/home/kunet.ae/ku5001069/.local/lib/python3.10/site-packages/vllm/engine/async_llm_engine.py\", line 306, in _init_engine\n",
      "    return engine_class(*args, **kwargs)\n",
      "  File \"/home/kunet.ae/ku5001069/.local/lib/python3.10/site-packages/vllm/engine/llm_engine.py\", line 110, in __init__\n",
      "    self._init_workers(distributed_init_method)\n",
      "  File \"/home/kunet.ae/ku5001069/.local/lib/python3.10/site-packages/vllm/engine/llm_engine.py\", line 142, in _init_workers\n",
      "    self._run_workers(\n",
      "  File \"/home/kunet.ae/ku5001069/.local/lib/python3.10/site-packages/vllm/engine/llm_engine.py\", line 700, in _run_workers\n",
      "    output = executor(*args, **kwargs)\n",
      "  File \"/home/kunet.ae/ku5001069/.local/lib/python3.10/site-packages/vllm/worker/worker.py\", line 70, in init_model\n",
      "    self.model = get_model(self.model_config)\n",
      "  File \"/home/kunet.ae/ku5001069/.local/lib/python3.10/site-packages/vllm/model_executor/model_loader.py\", line 93, in get_model\n",
      "    model = model_class(model_config.hf_config, quant_config)\n",
      "  File \"/home/kunet.ae/ku5001069/.local/lib/python3.10/site-packages/vllm/model_executor/models/llama.py\", line 284, in __init__\n",
      "    self.model = LlamaModel(config, quant_config)\n",
      "  File \"/home/kunet.ae/ku5001069/.local/lib/python3.10/site-packages/vllm/model_executor/models/llama.py\", line 242, in __init__\n",
      "    self.layers = nn.ModuleList([\n",
      "  File \"/home/kunet.ae/ku5001069/.local/lib/python3.10/site-packages/vllm/model_executor/models/llama.py\", line 243, in <listcomp>\n",
      "    LlamaDecoderLayer(config, quant_config)\n",
      "  File \"/home/kunet.ae/ku5001069/.local/lib/python3.10/site-packages/vllm/model_executor/models/llama.py\", line 186, in __init__\n",
      "    self.mlp = LlamaMLP(\n",
      "  File \"/home/kunet.ae/ku5001069/.local/lib/python3.10/site-packages/vllm/model_executor/models/llama.py\", line 67, in __init__\n",
      "    self.down_proj = ParallelLinear.row(intermediate_size,\n",
      "  File \"/home/kunet.ae/ku5001069/.local/lib/python3.10/site-packages/vllm/model_executor/layers/quantized_linear/__init__.py\", line 30, in row\n",
      "    return RowParallelLinear(*args, **kwargs)\n",
      "  File \"/home/kunet.ae/ku5001069/.local/lib/python3.10/site-packages/vllm/model_executor/parallel_utils/layers.py\", line 240, in __init__\n",
      "    self.create_weights(params_dtype)\n",
      "  File \"/home/kunet.ae/ku5001069/.local/lib/python3.10/site-packages/vllm/model_executor/parallel_utils/layers.py\", line 260, in create_weights\n",
      "    torch.empty(self.output_size,\n",
      "torch.cuda.OutOfMemoryError: CUDA out of memory. Tried to allocate 112.00 MiB (GPU 0; 31.75 GiB total capacity; 12.71 GiB already allocated; 103.69 MiB free; 12.73 GiB reserved in total by PyTorch) If reserved memory is >> allocated memory try setting max_split_size_mb to avoid fragmentation.  See documentation for Memory Management and PYTORCH_CUDA_ALLOC_CONF\n"
     ]
    }
   ],
   "source": [
    "!python -m vllm.entrypoints.openai.api_server --host 127.0.0.1 --port 8888 --model amew0/l3-8b-medical-v240622193618 --dtype float16 --download-dir /dpc/kunf0097/l3-8b/model"
   ]
  },
  {
   "cell_type": "code",
   "execution_count": 58,
   "metadata": {},
   "outputs": [
    {
     "data": {
      "application/vnd.jupyter.widget-view+json": {
       "model_id": "316e894c6a0f43319940b28f5cad4a9c",
       "version_major": 2,
       "version_minor": 0
      },
      "text/plain": [
       "Loading checkpoint shards:   0%|          | 0/4 [00:00<?, ?it/s]"
      ]
     },
     "metadata": {},
     "output_type": "display_data"
    }
   ],
   "source": [
    "\n",
    "bnb_config = BitsAndBytesConfig(\n",
    "    load_in_4bit=True,\n",
    "    bnb_4bit_quant_type=\"nf4\",\n",
    "    bnb_4bit_compute_dtype=torch.float16,\n",
    "    bnb_4bit_use_double_quant=True,\n",
    ")\n",
    "\n",
    "model = AutoModelForCausalLM.from_pretrained(\n",
    "    candidate_name,\n",
    "    cache_dir=f\"{cache_dir}/model\",\n",
    "    quantization_config=bnb_config,\n",
    "    torch_dtype=torch.float16,\n",
    "    device_map={\"\": 0},\n",
    "    low_cpu_mem_usage=True,\n",
    "    return_dict=True,\n",
    ")"
   ]
  },
  {
   "cell_type": "code",
   "execution_count": 79,
   "metadata": {},
   "outputs": [
    {
     "data": {
      "text/plain": [
       "LlamaForCausalLM(\n",
       "  (model): LlamaModel(\n",
       "    (embed_tokens): Embedding(128256, 4096)\n",
       "    (layers): ModuleList(\n",
       "      (0-31): 32 x LlamaDecoderLayer(\n",
       "        (self_attn): LlamaAttention(\n",
       "          (q_proj): Linear4bit(in_features=4096, out_features=4096, bias=False)\n",
       "          (k_proj): Linear4bit(in_features=4096, out_features=1024, bias=False)\n",
       "          (v_proj): Linear4bit(in_features=4096, out_features=1024, bias=False)\n",
       "          (o_proj): Linear4bit(in_features=4096, out_features=4096, bias=False)\n",
       "          (rotary_emb): LlamaRotaryEmbedding()\n",
       "        )\n",
       "        (mlp): LlamaMLP(\n",
       "          (gate_proj): Linear4bit(in_features=4096, out_features=14336, bias=False)\n",
       "          (up_proj): Linear4bit(in_features=4096, out_features=14336, bias=False)\n",
       "          (down_proj): Linear4bit(in_features=14336, out_features=4096, bias=False)\n",
       "          (act_fn): SiLU()\n",
       "        )\n",
       "        (input_layernorm): LlamaRMSNorm()\n",
       "        (post_attention_layernorm): LlamaRMSNorm()\n",
       "      )\n",
       "    )\n",
       "    (norm): LlamaRMSNorm()\n",
       "  )\n",
       "  (lm_head): Linear(in_features=4096, out_features=128256, bias=False)\n",
       ")"
      ]
     },
     "execution_count": 79,
     "metadata": {},
     "output_type": "execute_result"
    }
   ],
   "source": [
    "model"
   ]
  },
  {
   "cell_type": "code",
   "execution_count": 80,
   "metadata": {},
   "outputs": [
    {
     "name": "stdout",
     "output_type": "stream",
     "text": [
      "torch.Size([8388608, 1])\n"
     ]
    }
   ],
   "source": [
    "\n",
    "for i, module in enumerate(model.modules()):\n",
    "    a=module.model.layers[0].self_attn.q_proj.weight\n",
    "    print(a.shape)\n",
    "    # print(i)\n",
    "    break"
   ]
  },
  {
   "cell_type": "code",
   "execution_count": 89,
   "metadata": {},
   "outputs": [
    {
     "data": {
      "text/plain": [
       "2.0"
      ]
     },
     "execution_count": 89,
     "metadata": {},
     "output_type": "execute_result"
    }
   ],
   "source": [
    "(8388608/(4096*4096))**-1"
   ]
  },
  {
   "cell_type": "code",
   "execution_count": 81,
   "metadata": {},
   "outputs": [
    {
     "name": "stdout",
     "output_type": "stream",
     "text": [
      "torch.Size([4096, 4096])\n"
     ]
    }
   ],
   "source": [
    "for i, module in enumerate(candidate_model.modules()):\n",
    "    a=module.model.layers[0].self_attn.q_proj.weight\n",
    "    print(a.shape)\n",
    "    break"
   ]
  },
  {
   "cell_type": "code",
   "execution_count": 28,
   "metadata": {},
   "outputs": [
    {
     "data": {
      "text/plain": [
       "LlamaForCausalLM(\n",
       "  (model): LlamaModel(\n",
       "    (embed_tokens): Embedding(128256, 4096)\n",
       "    (layers): ModuleList(\n",
       "      (0-31): 32 x LlamaDecoderLayer(\n",
       "        (self_attn): LlamaAttention(\n",
       "          (q_proj): Linear(in_features=4096, out_features=4096, bias=False)\n",
       "          (k_proj): Linear(in_features=4096, out_features=1024, bias=False)\n",
       "          (v_proj): Linear(in_features=4096, out_features=1024, bias=False)\n",
       "          (o_proj): Linear(in_features=4096, out_features=4096, bias=False)\n",
       "          (rotary_emb): LlamaRotaryEmbedding()\n",
       "        )\n",
       "        (mlp): LlamaMLP(\n",
       "          (gate_proj): Linear(in_features=4096, out_features=14336, bias=False)\n",
       "          (up_proj): Linear(in_features=4096, out_features=14336, bias=False)\n",
       "          (down_proj): Linear(in_features=14336, out_features=4096, bias=False)\n",
       "          (act_fn): SiLU()\n",
       "        )\n",
       "        (input_layernorm): LlamaRMSNorm()\n",
       "        (post_attention_layernorm): LlamaRMSNorm()\n",
       "      )\n",
       "    )\n",
       "    (norm): LlamaRMSNorm()\n",
       "  )\n",
       "  (lm_head): Linear(in_features=4096, out_features=128256, bias=False)\n",
       ")"
      ]
     },
     "execution_count": 28,
     "metadata": {},
     "output_type": "execute_result"
    }
   ],
   "source": [
    "candidate_model"
   ]
  }
 ],
 "metadata": {
  "kernelspec": {
   "display_name": "Python 3 (ipykernel)",
   "language": "python",
   "name": "python3"
  },
  "language_info": {
   "codemirror_mode": {
    "name": "ipython",
    "version": 3
   },
   "file_extension": ".py",
   "mimetype": "text/x-python",
   "name": "python",
   "nbconvert_exporter": "python",
   "pygments_lexer": "ipython3",
   "version": "3.10.14"
  }
 },
 "nbformat": 4,
 "nbformat_minor": 2
}
