{
  "nbformat": 4,
  "nbformat_minor": 0,
  "metadata": {
    "colab": {
      "provenance": [],
      "toc_visible": true
    },
    "kernelspec": {
      "name": "python3",
      "display_name": "Python 3"
    },
    "language_info": {
      "name": "python"
    }
  },
  "cells": [
    {
      "cell_type": "markdown",
      "source": [
        "# <center><strong>🐍The⚡️Advance⚡️Python🐍 Part-1</strong></center>"
      ],
      "metadata": {
        "id": "2EfquFf_3vDv"
      }
    },
    {
      "cell_type": "markdown",
      "source": [
        "### $\\color{red}{\\textbf{Exception Handling}}$"
      ],
      "metadata": {
        "id": "hH3xIm0tLuDa"
      }
    },
    {
      "cell_type": "markdown",
      "source": [
        "There are many `built-in exception` which are raised in python **when something goes wrong**. Exception in the python can be handled using a `try` statement. The code that handles the exception is written in the `except` clause.\n",
        "\n",
        "```python\n",
        "try:\n",
        "    #code   → the code which might throw an Exception\n",
        "except Exception as e:\n",
        "    print(e)\n",
        "```\n",
        "\n"
      ],
      "metadata": {
        "id": "VclcH9bTR9Rb"
      }
    },
    {
      "cell_type": "code",
      "source": [
        "try:\n",
        "  print(\"I will TRY to print this line of code\")\n",
        "except:\n",
        "  print(\"I will print this line of code if an error is encountered\")"
      ],
      "metadata": {
        "colab": {
          "base_uri": "https://localhost:8080/"
        },
        "id": "8E5xeg5OQyrc",
        "outputId": "507cf9f2-2cfb-4af6-b290-b2019e4d242c"
      },
      "execution_count": null,
      "outputs": [
        {
          "output_type": "stream",
          "name": "stdout",
          "text": [
            "I will TRY to print this line of code\n"
          ]
        }
      ]
    },
    {
      "cell_type": "code",
      "source": [
        "# Python try: except:\n",
        "\n",
        "try:\n",
        "  print(int(a + b)) # Program will try the add b to a\n",
        "except:\n",
        "  print(\"There was an error\") # If the program will have an error in the try block\n",
        "  \t\t\t\t\t\t\t  # The except block will run\n",
        "    \t\t\t\t\t\t  # except block will run and then the program will continue to run\n",
        "    \n",
        "# Examples:\n",
        "# a = 1\n",
        "# b = 1   # <== no error, except block skipped\n",
        "\n",
        "a = 1\n",
        "b = 'one' # <== error, except block run"
      ],
      "metadata": {
        "colab": {
          "base_uri": "https://localhost:8080/"
        },
        "id": "EJlnDT16XDAS",
        "outputId": "0fcb0140-20f6-4154-c4f9-6825429c093e"
      },
      "execution_count": null,
      "outputs": [
        {
          "output_type": "stream",
          "name": "stdout",
          "text": [
            "There was an error\n"
          ]
        }
      ]
    },
    {
      "cell_type": "code",
      "source": [
        "while(True):\n",
        "    print(\"Print q to quit the game\")\n",
        "    a = input(\"Enter a Number:\")\n",
        "    if a == \"q\":\n",
        "        break\n",
        "    try:\n",
        "        a = int(a)\n",
        "        if a>5:\n",
        "            print(\"Your number is greater than 5\")\n",
        "        elif a==5:\n",
        "            print(\"Your number is equals to 5\")\n",
        "        else:\n",
        "            print(\"Your number is less then 5\")\n",
        "    except Exception as e:\n",
        "        print(f\"Your input resulted in an error: {e}\")\n",
        "\n",
        "print(\"Thanks for playing the game\")"
      ],
      "metadata": {
        "id": "LYX33YDe9xHX",
        "colab": {
          "base_uri": "https://localhost:8080/"
        },
        "outputId": "7215599b-6d2e-492e-abdc-d7b14b1d2b9c"
      },
      "execution_count": null,
      "outputs": [
        {
          "output_type": "stream",
          "name": "stdout",
          "text": [
            "Print q to quit the game\n",
            "Enter a Number:x\n",
            "Your input resulted in an error: invalid literal for int() with base 10: 'x'\n",
            "Print q to quit the game\n",
            "Enter a Number:q\n",
            "Thanks for playing the game\n"
          ]
        }
      ]
    },
    {
      "cell_type": "markdown",
      "source": [
        "When the exception is handle, the code flow continues without program intreption.\n",
        "\n",
        "```python\n",
        "try:\n",
        "  #code\n",
        "except ValueError:\n",
        "  #code\n",
        "except ZeroDivisionError: # due to division by zero\n",
        "  #code\n",
        "except SyntaxError:       # due to syntax error\n",
        "  #code\n",
        "except NameError:         # due to undefined variable\n",
        "  #code\n",
        "except TypeError:         # due to type error\n",
        "  #code  → all other exceptions are handle here.\n",
        "```"
      ],
      "metadata": {
        "id": "Ik51mY249wPF"
      }
    },
    {
      "cell_type": "markdown",
      "source": [
        "|Exception|Description|\n",
        "|---------|-----------|\n",
        "|AssertionError $\\Rightarrow$|\tRaised when the assert statement fails.|\n",
        "|AttributeError $\\Rightarrow$|\tRaised on the attribute assignment or reference fails.|\n",
        "|EOFError $\\Rightarrow$|\tRaised when the input() function hits the end-of-file condition.|\n",
        "|FloatingPointError $\\Rightarrow$|\tRaised when a floating point operation fails.|\n",
        "|GeneratorExit $\\Rightarrow$|\tRaised when a generator's close() method is called.|\n",
        "|IndentationError $\\Rightarrow$|\tRaised when there is an incorrect indentation.|\n",
        "|ImportError $\\Rightarrow$|\tRaised when the imported module is not found.|\n",
        "|IndexError $\\Rightarrow$|\tRaised when the index of a sequence is out of range.|\n",
        "|KeyError $\\Rightarrow$|\tRaised when a key is not found in a dictionary.|\n",
        "|KeyboardInterrupt $\\Rightarrow$|\tRaised when the user hits the interrupt key (Ctrl+c or delete).|\n",
        "|MemoryError $\\Rightarrow$|\tRaised when an operation runs out of memory.|\n",
        "|NameError $\\Rightarrow$|\tRaised when a variable is not found in the local or global scope.\n",
        "|NotImplementedError $\\Rightarrow$|\tRaised by abstract methods.|\n",
        "|OSError $\\Rightarrow$|\tRaised when a system operation causes a system-related error.|\n",
        "|OverflowError $\\Rightarrow$|\tRaised when the result of an arithmetic operation is too large to be represented.|\n",
        "|ReferenceError $\\Rightarrow$|\tRaised when a weak reference proxy is used to access a garbage collected referent.|\n",
        "|RuntimeError $\\Rightarrow$|\tRaised when an error does not fall under any other category.|\n",
        "|StopIteration $\\Rightarrow$|\tRaised by the next() function to indicate that there is no further item to be returned by the iterator.|\n",
        "|SyntaxError $\\Rightarrow$|\tRaised by the parser when a syntax error is encountered.|\n",
        "|SystemError $\\Rightarrow$|\tRaised when the interpreter detects internal error.|\n",
        "|SystemExit $\\Rightarrow$|\tRaised by the sys.exit() function.|\n",
        "|TabError $\\Rightarrow$|\tRaised when the indentation consists of inconsistent tabs and spaces.|\n",
        "|TypeError $\\Rightarrow$|\tRaised when a function or operation is applied to an object of an incorrect type.|\n",
        "|UnboundLocalError $\\Rightarrow$|\tRaised when a reference is made to a local variable in a function or method, but no value has been bound to that variable.|\n",
        "|UnicodeError $\\Rightarrow$|\tRaised when a Unicode-related encoding or decoding error occurs.|\n",
        "|UnicodeEncodeError $\\Rightarrow$|\tRaised when a Unicode-related error occurs during encoding.|\n",
        "|UnicodeDecodeError $\\Rightarrow$|\tRaised when a Unicode-related error occurs during decoding.|\n",
        "|UnicodeTranslateError $\\Rightarrow$|\tRaised when a Unicode-related error occurs during translation.|\n",
        "|ValueError $\\Rightarrow$|\tRaised when a function gets an argument of correct type but improper value.|\n",
        "|ZeroDivisionError $\\Rightarrow$|\tRaised when the second operand of a division or module operation is zero.|"
      ],
      "metadata": {
        "id": "BVYDCNIP1di8"
      }
    },
    {
      "cell_type": "code",
      "source": [
        "num1 , num2 = input(\"Give me two numbers: \").split(',')\n",
        "\n",
        "try:\n",
        "    num1 = int(num1)\n",
        "    num2 = int(num2)\n",
        "    print(num1/num2)\n",
        "    \n",
        "except ZeroDivisionError:\n",
        "    print(\"your number2 is 0!\")\n",
        "    \n",
        "except ValueError:\n",
        "    print(\"Please enter number\")"
      ],
      "metadata": {
        "colab": {
          "base_uri": "https://localhost:8080/"
        },
        "id": "SrgjBgAPRKAx",
        "outputId": "81340696-7507-4946-f917-faf33fca5c9a"
      },
      "execution_count": null,
      "outputs": [
        {
          "output_type": "stream",
          "name": "stdout",
          "text": [
            "Give me two numbers: 12,13\n",
            "0.9230769230769231\n"
          ]
        }
      ]
    },
    {
      "cell_type": "code",
      "source": [
        "try:\n",
        "    a = int(input(\"Enter a number: \"))\n",
        "    b = 1/a\n",
        "    print(b)  \n",
        "except ZeroDivisionError as e: \n",
        "    print(\"Make sure you are not dividing by 0\")\n",
        "except ValueError as e:\n",
        "    print(\"Plese enter the valid value\")\n",
        "# except Exception as e:\n",
        "#     print(f\"Exception occured: {e}\")\n",
        "\n",
        "print(\"thanks for using this code\")"
      ],
      "metadata": {
        "colab": {
          "base_uri": "https://localhost:8080/"
        },
        "id": "kStTz50BFPlz",
        "outputId": "910fe648-52b6-4353-8009-3f05b347f584"
      },
      "execution_count": null,
      "outputs": [
        {
          "output_type": "stream",
          "name": "stdout",
          "text": [
            "Enter a number: w\n",
            "Exception occured: invalid literal for int() with base 10: 'w'\n",
            "thanks for using this code\n"
          ]
        }
      ]
    },
    {
      "cell_type": "markdown",
      "source": [
        "### $\\color{red}{\\textbf{Rasing Exceptions:}}$\n",
        "\n",
        "we can `raise` **custom** exceptions using the raise keyword in python.\n",
        "\n"
      ],
      "metadata": {
        "id": "B98sP716Q1VV"
      }
    },
    {
      "cell_type": "code",
      "source": [
        "def increment(num):\n",
        "    try:\n",
        "        return int(num) + 1\n",
        "    except:\n",
        "        raise ValueError(\"this will print our custom message\")\n",
        "\n",
        "a = increment('11a')\n",
        "print(a)"
      ],
      "metadata": {
        "colab": {
          "base_uri": "https://localhost:8080/",
          "height": 432
        },
        "id": "Pnd17ZPHJ3ma",
        "outputId": "db01584a-4aea-4c33-e344-2655fe7c9b0d"
      },
      "execution_count": null,
      "outputs": [
        {
          "output_type": "error",
          "ename": "ValueError",
          "evalue": "ignored",
          "traceback": [
            "\u001b[0;31m---------------------------------------------------------------------------\u001b[0m",
            "\u001b[0;31mValueError\u001b[0m                                Traceback (most recent call last)",
            "\u001b[0;32m<ipython-input-21-7572fe1d4289>\u001b[0m in \u001b[0;36mincrement\u001b[0;34m(num)\u001b[0m\n\u001b[1;32m      2\u001b[0m     \u001b[0;32mtry\u001b[0m\u001b[0;34m:\u001b[0m\u001b[0;34m\u001b[0m\u001b[0;34m\u001b[0m\u001b[0m\n\u001b[0;32m----> 3\u001b[0;31m         \u001b[0;32mreturn\u001b[0m \u001b[0mint\u001b[0m\u001b[0;34m(\u001b[0m\u001b[0mnum\u001b[0m\u001b[0;34m)\u001b[0m \u001b[0;34m+\u001b[0m \u001b[0;36m1\u001b[0m\u001b[0;34m\u001b[0m\u001b[0;34m\u001b[0m\u001b[0m\n\u001b[0m\u001b[1;32m      4\u001b[0m     \u001b[0;32mexcept\u001b[0m\u001b[0;34m:\u001b[0m\u001b[0;34m\u001b[0m\u001b[0;34m\u001b[0m\u001b[0m\n",
            "\u001b[0;31mValueError\u001b[0m: invalid literal for int() with base 10: '11a'",
            "\nDuring handling of the above exception, another exception occurred:\n",
            "\u001b[0;31mValueError\u001b[0m                                Traceback (most recent call last)",
            "\u001b[0;32m<ipython-input-21-7572fe1d4289>\u001b[0m in \u001b[0;36m<module>\u001b[0;34m\u001b[0m\n\u001b[1;32m      5\u001b[0m         \u001b[0;32mraise\u001b[0m \u001b[0mValueError\u001b[0m\u001b[0;34m(\u001b[0m\u001b[0;34m\"this will print our custom message\"\u001b[0m\u001b[0;34m)\u001b[0m\u001b[0;34m\u001b[0m\u001b[0;34m\u001b[0m\u001b[0m\n\u001b[1;32m      6\u001b[0m \u001b[0;34m\u001b[0m\u001b[0m\n\u001b[0;32m----> 7\u001b[0;31m \u001b[0ma\u001b[0m \u001b[0;34m=\u001b[0m \u001b[0mincrement\u001b[0m\u001b[0;34m(\u001b[0m\u001b[0;34m'11a'\u001b[0m\u001b[0;34m)\u001b[0m\u001b[0;34m\u001b[0m\u001b[0;34m\u001b[0m\u001b[0m\n\u001b[0m\u001b[1;32m      8\u001b[0m \u001b[0mprint\u001b[0m\u001b[0;34m(\u001b[0m\u001b[0ma\u001b[0m\u001b[0;34m)\u001b[0m\u001b[0;34m\u001b[0m\u001b[0;34m\u001b[0m\u001b[0m\n",
            "\u001b[0;32m<ipython-input-21-7572fe1d4289>\u001b[0m in \u001b[0;36mincrement\u001b[0;34m(num)\u001b[0m\n\u001b[1;32m      3\u001b[0m         \u001b[0;32mreturn\u001b[0m \u001b[0mint\u001b[0m\u001b[0;34m(\u001b[0m\u001b[0mnum\u001b[0m\u001b[0;34m)\u001b[0m \u001b[0;34m+\u001b[0m \u001b[0;36m1\u001b[0m\u001b[0;34m\u001b[0m\u001b[0;34m\u001b[0m\u001b[0m\n\u001b[1;32m      4\u001b[0m     \u001b[0;32mexcept\u001b[0m\u001b[0;34m:\u001b[0m\u001b[0;34m\u001b[0m\u001b[0;34m\u001b[0m\u001b[0m\n\u001b[0;32m----> 5\u001b[0;31m         \u001b[0;32mraise\u001b[0m \u001b[0mValueError\u001b[0m\u001b[0;34m(\u001b[0m\u001b[0;34m\"this will print our custom message\"\u001b[0m\u001b[0;34m)\u001b[0m\u001b[0;34m\u001b[0m\u001b[0;34m\u001b[0m\u001b[0m\n\u001b[0m\u001b[1;32m      6\u001b[0m \u001b[0;34m\u001b[0m\u001b[0m\n\u001b[1;32m      7\u001b[0m \u001b[0ma\u001b[0m \u001b[0;34m=\u001b[0m \u001b[0mincrement\u001b[0m\u001b[0;34m(\u001b[0m\u001b[0;34m'11a'\u001b[0m\u001b[0;34m)\u001b[0m\u001b[0;34m\u001b[0m\u001b[0;34m\u001b[0m\u001b[0m\n",
            "\u001b[0;31mValueError\u001b[0m: this will print our custom message"
          ]
        }
      ]
    },
    {
      "cell_type": "markdown",
      "source": [
        "#### *`try` with `else`*:\n",
        "Sometimes we want to run a piece of code when `try` was sucessful.\n",
        "\n",
        "```python\n",
        "try:\n",
        "    # Some code\n",
        "except:\n",
        "    # some code\n",
        "else:\n",
        "    # some code  ⟹ This is executed only if the try is sucessfull \n",
        "```"
      ],
      "metadata": {
        "id": "i1ydY4luOCB_"
      }
    },
    {
      "cell_type": "markdown",
      "source": [
        ">The `assert` keyword is used when **debugging code**. The assert keyword lets you test if a condition in your code returns True, if not, the program will raise an AssertionError.\n",
        "\n",
        "```python\n",
        "assert 1 == 1  # does not raise an error\n",
        "assert False  # raises AssertionError\n",
        "```"
      ],
      "metadata": {
        "id": "AZustMDWg-et"
      }
    },
    {
      "cell_type": "code",
      "source": [
        "# program to print the reciprocal of even numbers\n",
        "\n",
        "try:\n",
        "    num = int(input(\"Enter a number: \"))\n",
        "    assert num % 2 == 0\n",
        "except:\n",
        "    print(\"Not an even number!\")\n",
        "else:\n",
        "    reciprocal = 1/num\n",
        "    print(f\"Reciprocal of {num} is {reciprocal}\")"
      ],
      "metadata": {
        "colab": {
          "base_uri": "https://localhost:8080/"
        },
        "id": "JzXANXysgjtJ",
        "outputId": "091837ad-d70c-4a88-bd12-15403c2402a6"
      },
      "execution_count": null,
      "outputs": [
        {
          "output_type": "stream",
          "name": "stdout",
          "text": [
            "Enter a number: 14\n",
            "Reciprocal of 14 is 0.07142857142857142\n"
          ]
        }
      ]
    },
    {
      "cell_type": "code",
      "source": [
        "try:\n",
        "    i = int(input(\"Enter a number: \"))\n",
        "    c = 1/i\n",
        "except Exception as e:\n",
        "    print(e)\n",
        "else:\n",
        "    print(\"we are sucessful\")"
      ],
      "metadata": {
        "colab": {
          "base_uri": "https://localhost:8080/"
        },
        "id": "wqX0D804MeDa",
        "outputId": "c044cab4-ebec-4f40-ac85-aba9eabb360e"
      },
      "execution_count": null,
      "outputs": [
        {
          "output_type": "stream",
          "name": "stdout",
          "text": [
            "Enter a number: 5\n",
            "we are sucessful\n"
          ]
        }
      ]
    },
    {
      "cell_type": "markdown",
      "source": [
        "#### *`try` with `finally`*:\n",
        "Python offers a finally clause which ensures execution of a piece of code irrespective of the execution.\n",
        "\n",
        "```python\n",
        "try:\n",
        "       # Some Code.... \n",
        "except:\n",
        "       # optional block\n",
        "       # Handling of exception (if required)\n",
        "else:\n",
        "       # execute if no exception\n",
        "finally:\n",
        "      # ⟹ Some code .....(always executed) \n",
        "```"
      ],
      "metadata": {
        "id": "yh7kXM0YOff7"
      }
    },
    {
      "cell_type": "code",
      "source": [
        "try:\n",
        "    i = int(input(\"Enter a number: \"))\n",
        "    c = 1/i\n",
        "except Exception as e:\n",
        "    print(e)\n",
        "    exit() # finally will execute even after terminating the program using exit()\n",
        "finally:\n",
        "    print(\"This is always executed\")"
      ],
      "metadata": {
        "colab": {
          "base_uri": "https://localhost:8080/"
        },
        "id": "1SeqFFOymK88",
        "outputId": "397f5981-ea4c-439c-e5f6-bac435246654"
      },
      "execution_count": null,
      "outputs": [
        {
          "output_type": "stream",
          "name": "stdout",
          "text": [
            "Enter a number: 0\n",
            "division by zero\n",
            "This is always executed\n"
          ]
        }
      ]
    },
    {
      "cell_type": "code",
      "source": [
        "# working of try() \n",
        "def divide(x, y):\n",
        "    try:\n",
        "        # Floor Division : Gives only Fractional\n",
        "        # Part as Answer\n",
        "        result = x // y\n",
        "    except ZeroDivisionError:\n",
        "        print(\"Sorry ! You are dividing by zero \")\n",
        "    else:\n",
        "        print(\"Yeah ! Your answer is :\", result)\n",
        "    finally: \n",
        "        # this block is always executed  \n",
        "        # regardless of exception generation. \n",
        "        print('This is always executed')  \n",
        " \n",
        "# Look at parameters and note the working of Program\n",
        "divide(3, 2)\n",
        "divide(3, 0)"
      ],
      "metadata": {
        "colab": {
          "base_uri": "https://localhost:8080/"
        },
        "id": "TmCce9mmkqV2",
        "outputId": "eb13b67c-7d02-40e9-a8f2-41b7e97a934f"
      },
      "execution_count": null,
      "outputs": [
        {
          "output_type": "stream",
          "name": "stdout",
          "text": [
            "Yeah ! Your answer is : 1\n",
            "This is always executed\n",
            "Sorry ! You are dividing by zero \n",
            "This is always executed\n"
          ]
        }
      ]
    },
    {
      "cell_type": "markdown",
      "source": [
        "### $\\color{red}{\\textbf{if __name__ == \"__main__\":}}$\n",
        "\n"
      ],
      "metadata": {
        "id": "zX_tX86qPof1"
      }
    },
    {
      "cell_type": "markdown",
      "source": [
        "The `if __name__ == '__main__':` convention in Python is intended to allow you to write code that can be **run directly**, or **imported**.\n",
        "\n",
        "If you import it, that if block is not executed. If you run `python.exe` `myscript.py` it is.\n",
        "\n",
        ">This is the idiomatic way to tell whether the Python module was executed as a script, or imported from another module."
      ],
      "metadata": {
        "id": "qmSD8_6O7ySE"
      }
    },
    {
      "cell_type": "code",
      "source": [
        "!git clone https://github.com/mohd-faizy/learn_python.git"
      ],
      "metadata": {
        "colab": {
          "base_uri": "https://localhost:8080/"
        },
        "id": "XavorsDYnwnX",
        "outputId": "b767a59c-db5a-4feb-b7f8-a053e8762eef"
      },
      "execution_count": null,
      "outputs": [
        {
          "output_type": "stream",
          "name": "stdout",
          "text": [
            "Cloning into 'learn_python'...\n",
            "remote: Enumerating objects: 575, done.\u001b[K\n",
            "remote: Counting objects: 100% (202/202), done.\u001b[K\n",
            "remote: Compressing objects: 100% (96/96), done.\u001b[K\n",
            "remote: Total 575 (delta 114), reused 177 (delta 103), pack-reused 373\u001b[K\n",
            "Receiving objects: 100% (575/575), 21.11 MiB | 25.08 MiB/s, done.\n",
            "Resolving deltas: 100% (305/305), done.\n"
          ]
        }
      ]
    },
    {
      "cell_type": "code",
      "source": [
        "import os\n",
        "os.chdir(\"/content/learn_python/07_Advance_Python\")"
      ],
      "metadata": {
        "id": "g3DrsAFw-qu_"
      },
      "execution_count": null,
      "outputs": []
    },
    {
      "cell_type": "markdown",
      "source": [
        "```python\n",
        "def greet(name):\n",
        "    print(f\"Hello!, {name}\")\n",
        "\n",
        "print(__name__)\n",
        "if __name__  == \"__main__\":\n",
        "    n = input(\"Enter the name\\n\")\n",
        "    greet(n)\n",
        "```"
      ],
      "metadata": {
        "id": "xjZWgO5h2LJ6"
      }
    },
    {
      "cell_type": "markdown",
      "source": [
        "The code you see under `if __name__ == \"__main__\":` will only get called upon when your Python file is executed as python `example1.py`\n",
        "\n",
        "However, if you wish to import your Python file `example1.py` as a `module` to work with another Python file, say `example2.py`, the code under `if __name__ == \"__main__\":` will not run or take any effect."
      ],
      "metadata": {
        "id": "xEk8HB6vAjBD"
      }
    },
    {
      "cell_type": "code",
      "source": [
        "!python3 module.py"
      ],
      "metadata": {
        "colab": {
          "base_uri": "https://localhost:8080/"
        },
        "id": "APAPMBge-1e3",
        "outputId": "c357a1a7-ce6a-4276-ae26-eaf301d38831"
      },
      "execution_count": null,
      "outputs": [
        {
          "output_type": "stream",
          "name": "stdout",
          "text": [
            "__main__\n",
            "Enter the name\n",
            "World\n",
            "Hello!, World\n"
          ]
        }
      ]
    },
    {
      "cell_type": "code",
      "source": [
        "import module\n",
        "module.greet(\"World\")"
      ],
      "metadata": {
        "colab": {
          "base_uri": "https://localhost:8080/"
        },
        "id": "GQqFJV8B3Dv3",
        "outputId": "963141f7-f34b-4e86-a879-84255f76d4f1"
      },
      "execution_count": null,
      "outputs": [
        {
          "output_type": "stream",
          "name": "stdout",
          "text": [
            "Hello!, World\n"
          ]
        }
      ]
    },
    {
      "cell_type": "markdown",
      "source": [
        "### $\\color{red}{\\textbf{The Global keyword:}}$"
      ],
      "metadata": {
        "id": "bms-kPqSGXQX"
      }
    },
    {
      "cell_type": "markdown",
      "source": [
        "**Global** keyword is used to modify the varible outside of the current scope."
      ],
      "metadata": {
        "id": "xZdlaNmgaIq7"
      }
    },
    {
      "cell_type": "code",
      "source": [
        "a = 1 # Global variable\n",
        "def func1():\n",
        "    global a\n",
        "    print(f\"Print statement 1: {a}\")\n",
        "    a = 2 # Local Variable if global keyword is not used\n",
        "    print(f\"Print statement 2: {a}\")\n",
        "\n",
        "func1()\n",
        "print(f\"Print statement 3: {a}\")"
      ],
      "metadata": {
        "id": "ziDGOL6xGW7u",
        "colab": {
          "base_uri": "https://localhost:8080/"
        },
        "outputId": "f452f6f4-2116-4ee6-ca42-05fa6ab6781a"
      },
      "execution_count": null,
      "outputs": [
        {
          "output_type": "stream",
          "name": "stdout",
          "text": [
            "Print statement 1: 1\n",
            "Print statement 2: 2\n",
            "Print statement 3: 2\n"
          ]
        }
      ]
    },
    {
      "cell_type": "markdown",
      "source": [
        "### $\\color{red}{\\textbf{Enumerate:}}$"
      ],
      "metadata": {
        "id": "eXr-7nCIbXXP"
      }
    },
    {
      "cell_type": "markdown",
      "source": [
        "The enumerate funciton adds counter to an iterable and return it."
      ],
      "metadata": {
        "id": "PNwjZfnNw5lf"
      }
    },
    {
      "cell_type": "code",
      "source": [
        "languages = ['Python', 'C', 'C++', 'C#', 'Java']\n",
        "\n",
        "#Bad way\n",
        "i = 0 #counter variable\n",
        "for language in languages:\n",
        "    print(i, language)\n",
        "    i+=1\n",
        "\n",
        "print(\"------------\")\n",
        "\n",
        "#Good Way\n",
        "for i, language in enumerate(languages):\n",
        "    print(i, language)"
      ],
      "metadata": {
        "id": "hWOxr3KnbqQ0",
        "colab": {
          "base_uri": "https://localhost:8080/"
        },
        "outputId": "2241d18b-aa19-4524-fca0-6bf2414c3789"
      },
      "execution_count": null,
      "outputs": [
        {
          "output_type": "stream",
          "name": "stdout",
          "text": [
            "0 Python\n",
            "1 C\n",
            "2 C++\n",
            "3 C#\n",
            "4 Java\n",
            "------------\n",
            "0 Python\n",
            "1 C\n",
            "2 C++\n",
            "3 C#\n",
            "4 Java\n"
          ]
        }
      ]
    },
    {
      "cell_type": "markdown",
      "source": [
        "### $\\color{red}{\\textbf{List Comprehension}}$\n"
      ],
      "metadata": {
        "id": "gMYlPcO-bcBR"
      }
    },
    {
      "cell_type": "markdown",
      "source": [
        "List comprehension offers a shorter syntax when you want to create a new list based on the values of an existing list.\n",
        "\n",
        "\n",
        "List comprehension in Python is an easy and compact syntax for creating a list from a string or another list. It is a very concise way to create a new list by performing an operation on each item in the existing list. List comprehension is considerably faster than processing a list using the for loop.\n",
        "\n",
        "```python\n",
        "# Syntax\n",
        "[expression for element in iterable if condition]\n",
        "```\n",
        "<div align=\"center\">\n",
        "    <img src=\"https://datagy.io/wp-content/uploads/2020/05/Python-List-Comprehension-Example.png\" width=50%>\n",
        "</div>\n"
      ],
      "metadata": {
        "id": "EPSL-Absxw4X"
      }
    },
    {
      "cell_type": "code",
      "source": [
        "list_1 = [10, 72, 53, 48, 75]\n",
        "list_2 = [i for i in list_1 if i>50]\n",
        "\n",
        "print(list_2)"
      ],
      "metadata": {
        "colab": {
          "base_uri": "https://localhost:8080/"
        },
        "id": "MRTRfdET2T0W",
        "outputId": "6d4e2971-fe8d-406b-fec2-6a7f24d49605"
      },
      "execution_count": null,
      "outputs": [
        {
          "output_type": "stream",
          "name": "stdout",
          "text": [
            "[72, 53, 75]\n"
          ]
        }
      ]
    },
    {
      "cell_type": "code",
      "source": [
        "even_nums = []\n",
        "for x in range(10):\n",
        "    if x%2 == 0:\n",
        "        even_nums.append(x)\n",
        "print(even_nums)"
      ],
      "metadata": {
        "colab": {
          "base_uri": "https://localhost:8080/"
        },
        "id": "Pzv2cjH9zZO8",
        "outputId": "6686ba08-ccc3-460f-b9c8-09226d2b11ef"
      },
      "execution_count": null,
      "outputs": [
        {
          "output_type": "stream",
          "name": "stdout",
          "text": [
            "[0, 2, 4, 6, 8]\n"
          ]
        }
      ]
    },
    {
      "cell_type": "code",
      "source": [
        "even_nums = [x for x in range(10) if x%2 == 0]\n",
        "print(even_nums)"
      ],
      "metadata": {
        "colab": {
          "base_uri": "https://localhost:8080/"
        },
        "id": "Zgrjl3m0zcvZ",
        "outputId": "4d594eb7-4c85-471a-9f0d-de20be8273e0"
      },
      "execution_count": null,
      "outputs": [
        {
          "output_type": "stream",
          "name": "stdout",
          "text": [
            "[0, 2, 4, 6, 8]\n"
          ]
        }
      ]
    },
    {
      "cell_type": "code",
      "source": [
        "sq_even = [x*x for x in range(11) if x%2 == 0] # for even\n",
        "sq_odd = [x*x for x in range(11) if x%2 == 1]  # for odd\n",
        " \n",
        "print(sq_even) \n",
        "print(sq_odd) "
      ],
      "metadata": {
        "colab": {
          "base_uri": "https://localhost:8080/"
        },
        "id": "fR4Q0ZpjziT3",
        "outputId": "fa97a9cc-ef7e-433a-e9f2-53e11afd63db"
      },
      "execution_count": null,
      "outputs": [
        {
          "output_type": "stream",
          "name": "stdout",
          "text": [
            "[0, 4, 16, 36, 64, 100]\n",
            "[1, 9, 25, 49, 81]\n"
          ]
        }
      ]
    },
    {
      "cell_type": "code",
      "source": [
        "# odd numbers from range 1 to 10\n",
        "odd_square = [x**2 for x in range(1, 11) if x%2 == 1]\n",
        "print (odd_square)"
      ],
      "metadata": {
        "colab": {
          "base_uri": "https://localhost:8080/"
        },
        "id": "mm_Erf-b01ud",
        "outputId": "ad1333d7-126a-4266-8270-147c5dd2066b"
      },
      "execution_count": null,
      "outputs": [
        {
          "output_type": "stream",
          "name": "stdout",
          "text": [
            "[1, 9, 25, 49, 81]\n"
          ]
        }
      ]
    },
    {
      "cell_type": "code",
      "source": [
        "nums1 = [1, 2, 3]\n",
        "nums2 = [4, 5, 6]\n",
        "nums=[(x, y) for x in nums1 for y in nums2]\n",
        "print(nums)"
      ],
      "metadata": {
        "colab": {
          "base_uri": "https://localhost:8080/"
        },
        "id": "Zztjq8Zyzxyp",
        "outputId": "dd5bd4fa-827f-4b79-eaa0-5e690604c717"
      },
      "execution_count": null,
      "outputs": [
        {
          "output_type": "stream",
          "name": "stdout",
          "text": [
            "[(1, 4), (1, 5), (1, 6), (2, 4), (2, 5), (2, 6), (3, 4), (3, 5), (3, 6)]\n"
          ]
        }
      ]
    },
    {
      "cell_type": "markdown",
      "source": [
        "# <center><b>Practice Set 🛠 </b></center>\n"
      ],
      "metadata": {
        "id": "anByL8AjxeFn"
      }
    },
    {
      "cell_type": "markdown",
      "source": [
        "#### $\\color{red}{\\textbf{Que:1 }}$ Write a program to open three files `1.txt` , `2.txt` and `3.txt`. if any of these files are not present, a message without exiting the program  must be printed prompting the same?"
      ],
      "metadata": {
        "id": "b9Msb9VG7fGu"
      }
    },
    {
      "cell_type": "code",
      "source": [
        "def readFile(filename):\n",
        "    try:\n",
        "        with open(filename, \"r\") as f:\n",
        "            print(f.read())\n",
        "    except FileNotFoundError:\n",
        "        print(f\"File {filename} is not found\")\n",
        "        \n",
        "readFile(\"1.txt\")\n",
        "readFile(\"2.txt\")\n",
        "readFile(\"3.txt\")"
      ],
      "metadata": {
        "colab": {
          "base_uri": "https://localhost:8080/"
        },
        "id": "A3vk6Qit7uqs",
        "outputId": "35a6b74d-6cc5-421d-a9e9-048bd4e02905"
      },
      "execution_count": null,
      "outputs": [
        {
          "output_type": "stream",
          "name": "stdout",
          "text": [
            "File 1.txt is not found\n",
            "File 2.txt is not found\n",
            "File 3.txt is not found\n"
          ]
        }
      ]
    },
    {
      "cell_type": "markdown",
      "source": [
        "#### $\\color{red}{\\textbf{Que:2 }}$ Write a program to print `3rd`, `5th` and `7th` element from a list using `enumerate` function?"
      ],
      "metadata": {
        "id": "WafsmDVJ7nPh"
      }
    },
    {
      "cell_type": "code",
      "source": [
        "num_list = [0, 11, 33, 73, 55, 25, 77, 79, 18, 49, 10]\n",
        "for index, item in enumerate(num_list):\n",
        "    if index==2 or index== 4 or index==6:\n",
        "        # print(index, item)\n",
        "        print(f\"The {index + 1}th element is {item}\") #index+1 as index start from 0"
      ],
      "metadata": {
        "colab": {
          "base_uri": "https://localhost:8080/"
        },
        "id": "xZk6SMOX7vft",
        "outputId": "c689c659-758e-4d65-8f44-610d4ae5c626"
      },
      "execution_count": null,
      "outputs": [
        {
          "output_type": "stream",
          "name": "stdout",
          "text": [
            "The 3th element is 33\n",
            "The 5th element is 55\n",
            "The 7th element is 77\n"
          ]
        }
      ]
    },
    {
      "cell_type": "markdown",
      "source": [
        "#### $\\color{red}{\\textbf{Que:3 }}$ Write a list Comprehension to print a list which contains the multiplication table of a user entered number?"
      ],
      "metadata": {
        "id": "yyOkRnU_7niE"
      }
    },
    {
      "cell_type": "code",
      "source": [
        "num = int(input(\"Enter your number: \"))\n",
        "\n",
        "table = [num*i for i in range(1, 11)]\n",
        "print(table)"
      ],
      "metadata": {
        "colab": {
          "base_uri": "https://localhost:8080/"
        },
        "id": "MCmaiMYZ7w6j",
        "outputId": "b35fad50-5d48-4e5d-c899-7a549b6cdf93"
      },
      "execution_count": null,
      "outputs": [
        {
          "output_type": "stream",
          "name": "stdout",
          "text": [
            "Enter your number: 3\n",
            "[3, 6, 9, 12, 15, 18, 21, 24, 27, 30]\n"
          ]
        }
      ]
    },
    {
      "cell_type": "markdown",
      "source": [
        "#### $\\color{red}{\\textbf{Que:4 }}$ Write a program to display `a/b` where `a` and `b` are integers. if `b=0`, display infinite by handling the `ZeroDivisonError`?"
      ],
      "metadata": {
        "id": "JehZVUdJ7nYL"
      }
    },
    {
      "cell_type": "code",
      "source": [
        "a = int(input(\"Enter number a: \"))\n",
        "b = int(input(\"Enter number b: \"))\n",
        "\n",
        "try:\n",
        "    print(a/b)\n",
        "except:\n",
        "    print(f\"input b = {b}, therefor the output is Infinite\")\n"
      ],
      "metadata": {
        "colab": {
          "base_uri": "https://localhost:8080/"
        },
        "id": "RA5i2Wmd7wEk",
        "outputId": "5f6396ce-7733-4da1-8efc-270698b3bba2"
      },
      "execution_count": null,
      "outputs": [
        {
          "output_type": "stream",
          "name": "stdout",
          "text": [
            "Enter number a: 0\n",
            "Enter number b: 1\n",
            "0.0\n"
          ]
        }
      ]
    },
    {
      "cell_type": "markdown",
      "source": [
        "#### $\\color{red}{\\textbf{Que:5 }}$ Store the Multiplication table generated in problem 3 in a file named `table.txt`?"
      ],
      "metadata": {
        "id": "ChuEoi5V7n2h"
      }
    },
    {
      "cell_type": "code",
      "source": [
        "num = int(input(\"Enter your number: \"))\n",
        "\n",
        "table = [num*i for i in range(1, 11)]\n",
        "print(table)\n",
        "with open(\"tables.txt\", \"a\") as f:\n",
        "    f.write(str(table))\n",
        "    f.write('\\n')"
      ],
      "metadata": {
        "colab": {
          "base_uri": "https://localhost:8080/"
        },
        "id": "xa87PNqi7xeb",
        "outputId": "ab166c24-48b7-44a2-a651-5039a4e6858e"
      },
      "execution_count": null,
      "outputs": [
        {
          "output_type": "stream",
          "name": "stdout",
          "text": [
            "Enter your number: 8\n",
            "[8, 16, 24, 32, 40, 48, 56, 64, 72, 80]\n"
          ]
        }
      ]
    },
    {
      "cell_type": "markdown",
      "source": [
        "#### $\\color{skyblue}{\\textbf{Connect with me:}}$\n",
        "\n",
        "\n",
        "[<img align=\"left\" src=\"https://cdn4.iconfinder.com/data/icons/social-media-icons-the-circle-set/48/twitter_circle-512.png\" width=\"32px\"/>][twitter]\n",
        "[<img align=\"left\" src=\"https://cdn-icons-png.flaticon.com/512/145/145807.png\" width=\"32px\"/>][linkedin]\n",
        "[<img align=\"left\" src=\"https://d31pjuirwqbaad.cloudfront.net/wp-content/uploads/2019/08/kissclipart-website-icon-png-clipart-computer-icons-ac62ecb3b8ae4d41.png?x61175\" width=\"32px\"/>][Portfolio]\n",
        "\n",
        "[twitter]: https://twitter.com/F4izy\n",
        "[linkedin]: https://www.linkedin.com/in/mohd-faizy/\n",
        "[Portfolio]: https://mohdfaizy.com/\n"
      ],
      "metadata": {
        "id": "PuHWr1zinyPs"
      }
    }
  ]
}