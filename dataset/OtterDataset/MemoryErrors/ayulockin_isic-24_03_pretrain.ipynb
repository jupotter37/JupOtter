{
 "cells": [
  {
   "cell_type": "code",
   "execution_count": 1,
   "metadata": {},
   "outputs": [
    {
     "name": "stdout",
     "output_type": "stream",
     "text": [
      "30\n"
     ]
    },
    {
     "name": "stderr",
     "output_type": "stream",
     "text": [
      "INFO:albumentations.check_version:A new version of Albumentations is available: 1.4.12 (you have 1.4.11). Upgrade using: pip install --upgrade albumentations\n"
     ]
    },
    {
     "name": "stdout",
     "output_type": "stream",
     "text": [
      "Using cuda device\n"
     ]
    }
   ],
   "source": [
    "## Imports\n",
    "\n",
    "import os\n",
    "\n",
    "print(os.cpu_count())\n",
    "\n",
    "import copy\n",
    "import wandb\n",
    "\n",
    "wandb.require(\"core\")\n",
    "\n",
    "import pandas as pd\n",
    "import numpy as np\n",
    "from tqdm import tqdm\n",
    "import matplotlib.pyplot as plt\n",
    "import seaborn as sns\n",
    "\n",
    "import torch\n",
    "from torchvision.io import read_image\n",
    "from torch.utils.data import Dataset, DataLoader, WeightedRandomSampler\n",
    "from torchvision import transforms\n",
    "import torch.optim as optim\n",
    "from torch import nn\n",
    "import torch.backends.cudnn as cudnn\n",
    "from torcheval.metrics.functional import binary_auroc\n",
    "\n",
    "from torchvision.models import (\n",
    "    convnext_tiny,\n",
    "    convnext_small,\n",
    ")\n",
    "\n",
    "from sklearn.metrics import roc_auc_score\n",
    "from sklearn.model_selection import StratifiedGroupKFold\n",
    "from sklearn.metrics import roc_curve, auc, roc_auc_score\n",
    "from sklearn.preprocessing import MinMaxScaler\n",
    "\n",
    "import albumentations as A\n",
    "from albumentations.pytorch import ToTensorV2\n",
    "\n",
    "from colorama import Fore, Style\n",
    "b_ = Fore.BLUE\n",
    "sr_ = Style.RESET_ALL\n",
    "\n",
    "device = (\n",
    "    \"cuda\"\n",
    "    if torch.cuda.is_available()\n",
    "    else \"mps\" if torch.backends.mps.is_available() else \"cpu\"\n",
    ")\n",
    "print(f\"Using {device} device\")\n",
    "\n",
    "cudnn.benchmark = True\n",
    "torch.set_float32_matmul_precision(\"high\")"
   ]
  },
  {
   "cell_type": "code",
   "execution_count": 2,
   "metadata": {},
   "outputs": [],
   "source": [
    "configs = dict(\n",
    "    image_size = 224,\n",
    ")"
   ]
  },
  {
   "cell_type": "code",
   "execution_count": 3,
   "metadata": {},
   "outputs": [
    {
     "name": "stderr",
     "output_type": "stream",
     "text": [
      "/tmp/ipykernel_1361848/1675229643.py:1: DtypeWarning: Columns (51,52) have mixed types. Specify dtype option on import or set low_memory=False.\n",
      "  train_metadata_df = pd.read_csv(\"../data/stratified_5_fold_train_metadata.csv\")\n"
     ]
    },
    {
     "data": {
      "text/html": [
       "<div>\n",
       "<style scoped>\n",
       "    .dataframe tbody tr th:only-of-type {\n",
       "        vertical-align: middle;\n",
       "    }\n",
       "\n",
       "    .dataframe tbody tr th {\n",
       "        vertical-align: top;\n",
       "    }\n",
       "\n",
       "    .dataframe thead th {\n",
       "        text-align: right;\n",
       "    }\n",
       "</style>\n",
       "<table border=\"1\" class=\"dataframe\">\n",
       "  <thead>\n",
       "    <tr style=\"text-align: right;\">\n",
       "      <th></th>\n",
       "      <th>path</th>\n",
       "      <th>fold</th>\n",
       "      <th>tbp_lv_symm_2axis</th>\n",
       "      <th>tbp_lv_areaMM2</th>\n",
       "      <th>tbp_lv_color_std_mean</th>\n",
       "      <th>tbp_lv_norm_border</th>\n",
       "      <th>tbp_lv_perimeterMM</th>\n",
       "    </tr>\n",
       "  </thead>\n",
       "  <tbody>\n",
       "    <tr>\n",
       "      <th>0</th>\n",
       "      <td>../data/train-image/image/ISIC_0015670.jpg</td>\n",
       "      <td>4</td>\n",
       "      <td>0.590476</td>\n",
       "      <td>3.152561</td>\n",
       "      <td>0.00000</td>\n",
       "      <td>7.091360</td>\n",
       "      <td>9.307003</td>\n",
       "    </tr>\n",
       "    <tr>\n",
       "      <th>1</th>\n",
       "      <td>../data/train-image/image/ISIC_0015845.jpg</td>\n",
       "      <td>2</td>\n",
       "      <td>0.285714</td>\n",
       "      <td>0.919497</td>\n",
       "      <td>0.00000</td>\n",
       "      <td>2.116402</td>\n",
       "      <td>3.354148</td>\n",
       "    </tr>\n",
       "    <tr>\n",
       "      <th>2</th>\n",
       "      <td>../data/train-image/image/ISIC_0015864.jpg</td>\n",
       "      <td>4</td>\n",
       "      <td>0.361905</td>\n",
       "      <td>3.265153</td>\n",
       "      <td>0.00000</td>\n",
       "      <td>4.798335</td>\n",
       "      <td>8.886309</td>\n",
       "    </tr>\n",
       "    <tr>\n",
       "      <th>3</th>\n",
       "      <td>../data/train-image/image/ISIC_0015902.jpg</td>\n",
       "      <td>1</td>\n",
       "      <td>0.209581</td>\n",
       "      <td>6.079940</td>\n",
       "      <td>0.51452</td>\n",
       "      <td>1.975874</td>\n",
       "      <td>9.514499</td>\n",
       "    </tr>\n",
       "    <tr>\n",
       "      <th>4</th>\n",
       "      <td>../data/train-image/image/ISIC_0024200.jpg</td>\n",
       "      <td>4</td>\n",
       "      <td>0.313433</td>\n",
       "      <td>2.101708</td>\n",
       "      <td>0.00000</td>\n",
       "      <td>3.658854</td>\n",
       "      <td>6.467562</td>\n",
       "    </tr>\n",
       "  </tbody>\n",
       "</table>\n",
       "</div>"
      ],
      "text/plain": [
       "                                         path  fold  tbp_lv_symm_2axis  \\\n",
       "0  ../data/train-image/image/ISIC_0015670.jpg     4           0.590476   \n",
       "1  ../data/train-image/image/ISIC_0015845.jpg     2           0.285714   \n",
       "2  ../data/train-image/image/ISIC_0015864.jpg     4           0.361905   \n",
       "3  ../data/train-image/image/ISIC_0015902.jpg     1           0.209581   \n",
       "4  ../data/train-image/image/ISIC_0024200.jpg     4           0.313433   \n",
       "\n",
       "   tbp_lv_areaMM2  tbp_lv_color_std_mean  tbp_lv_norm_border  \\\n",
       "0        3.152561                0.00000            7.091360   \n",
       "1        0.919497                0.00000            2.116402   \n",
       "2        3.265153                0.00000            4.798335   \n",
       "3        6.079940                0.51452            1.975874   \n",
       "4        2.101708                0.00000            3.658854   \n",
       "\n",
       "   tbp_lv_perimeterMM  \n",
       "0            9.307003  \n",
       "1            3.354148  \n",
       "2            8.886309  \n",
       "3            9.514499  \n",
       "4            6.467562  "
      ]
     },
     "execution_count": 3,
     "metadata": {},
     "output_type": "execute_result"
    }
   ],
   "source": [
    "train_metadata_df = pd.read_csv(\"../data/stratified_5_fold_train_metadata.csv\")\n",
    "\n",
    "def add_path(row):\n",
    "    return f\"../data/train-image/image/{row.isic_id}.jpg\"\n",
    "\n",
    "train_metadata_df[\"path\"] = train_metadata_df.apply(lambda row: add_path(row), axis=1)\n",
    "\n",
    "cols = [\"tbp_lv_symm_2axis\", \"tbp_lv_areaMM2\", \"tbp_lv_color_std_mean\", \"tbp_lv_norm_border\", \"tbp_lv_perimeterMM\"]\n",
    "train_metadata_df = train_metadata_df[[\"path\", \"fold\"]+cols]\n",
    "train_metadata_df.head()"
   ]
  },
  {
   "cell_type": "code",
   "execution_count": 4,
   "metadata": {},
   "outputs": [
    {
     "data": {
      "text/html": [
       "<div>\n",
       "<style scoped>\n",
       "    .dataframe tbody tr th:only-of-type {\n",
       "        vertical-align: middle;\n",
       "    }\n",
       "\n",
       "    .dataframe tbody tr th {\n",
       "        vertical-align: top;\n",
       "    }\n",
       "\n",
       "    .dataframe thead th {\n",
       "        text-align: right;\n",
       "    }\n",
       "</style>\n",
       "<table border=\"1\" class=\"dataframe\">\n",
       "  <thead>\n",
       "    <tr style=\"text-align: right;\">\n",
       "      <th></th>\n",
       "      <th>path</th>\n",
       "      <th>fold</th>\n",
       "      <th>tbp_lv_symm_2axis</th>\n",
       "      <th>tbp_lv_areaMM2</th>\n",
       "      <th>tbp_lv_color_std_mean</th>\n",
       "      <th>tbp_lv_norm_border</th>\n",
       "      <th>tbp_lv_perimeterMM</th>\n",
       "    </tr>\n",
       "  </thead>\n",
       "  <tbody>\n",
       "    <tr>\n",
       "      <th>0</th>\n",
       "      <td>../data/train-image/image/ISIC_0015670.jpg</td>\n",
       "      <td>4</td>\n",
       "      <td>0.582086</td>\n",
       "      <td>0.008153</td>\n",
       "      <td>0.000000</td>\n",
       "      <td>0.690918</td>\n",
       "      <td>0.067335</td>\n",
       "    </tr>\n",
       "    <tr>\n",
       "      <th>1</th>\n",
       "      <td>../data/train-image/image/ISIC_0015845.jpg</td>\n",
       "      <td>2</td>\n",
       "      <td>0.252621</td>\n",
       "      <td>0.001462</td>\n",
       "      <td>0.000000</td>\n",
       "      <td>0.162262</td>\n",
       "      <td>0.007756</td>\n",
       "    </tr>\n",
       "    <tr>\n",
       "      <th>2</th>\n",
       "      <td>../data/train-image/image/ISIC_0015864.jpg</td>\n",
       "      <td>4</td>\n",
       "      <td>0.334987</td>\n",
       "      <td>0.008491</td>\n",
       "      <td>0.000000</td>\n",
       "      <td>0.447253</td>\n",
       "      <td>0.063125</td>\n",
       "    </tr>\n",
       "    <tr>\n",
       "      <th>3</th>\n",
       "      <td>../data/train-image/image/ISIC_0015902.jpg</td>\n",
       "      <td>1</td>\n",
       "      <td>0.170317</td>\n",
       "      <td>0.016925</td>\n",
       "      <td>0.051695</td>\n",
       "      <td>0.147329</td>\n",
       "      <td>0.069412</td>\n",
       "    </tr>\n",
       "    <tr>\n",
       "      <th>4</th>\n",
       "      <td>../data/train-image/image/ISIC_0024200.jpg</td>\n",
       "      <td>4</td>\n",
       "      <td>0.282586</td>\n",
       "      <td>0.005005</td>\n",
       "      <td>0.000000</td>\n",
       "      <td>0.326168</td>\n",
       "      <td>0.038916</td>\n",
       "    </tr>\n",
       "  </tbody>\n",
       "</table>\n",
       "</div>"
      ],
      "text/plain": [
       "                                         path  fold  tbp_lv_symm_2axis  \\\n",
       "0  ../data/train-image/image/ISIC_0015670.jpg     4           0.582086   \n",
       "1  ../data/train-image/image/ISIC_0015845.jpg     2           0.252621   \n",
       "2  ../data/train-image/image/ISIC_0015864.jpg     4           0.334987   \n",
       "3  ../data/train-image/image/ISIC_0015902.jpg     1           0.170317   \n",
       "4  ../data/train-image/image/ISIC_0024200.jpg     4           0.282586   \n",
       "\n",
       "   tbp_lv_areaMM2  tbp_lv_color_std_mean  tbp_lv_norm_border  \\\n",
       "0        0.008153               0.000000            0.690918   \n",
       "1        0.001462               0.000000            0.162262   \n",
       "2        0.008491               0.000000            0.447253   \n",
       "3        0.016925               0.051695            0.147329   \n",
       "4        0.005005               0.000000            0.326168   \n",
       "\n",
       "   tbp_lv_perimeterMM  \n",
       "0            0.067335  \n",
       "1            0.007756  \n",
       "2            0.063125  \n",
       "3            0.069412  \n",
       "4            0.038916  "
      ]
     },
     "execution_count": 4,
     "metadata": {},
     "output_type": "execute_result"
    }
   ],
   "source": [
    "scaler = MinMaxScaler()\n",
    "\n",
    "train_metadata_df[cols] = scaler.fit_transform(train_metadata_df[cols])\n",
    "train_metadata_df.head()"
   ]
  },
  {
   "cell_type": "markdown",
   "metadata": {},
   "source": [
    "## Dataloader"
   ]
  },
  {
   "cell_type": "code",
   "execution_count": 5,
   "metadata": {},
   "outputs": [],
   "source": [
    "class PretrainSkinDataset(Dataset):\n",
    "    def __init__(self, df: pd.DataFrame, transform=None):\n",
    "        assert \"path\" in df.columns\n",
    "        assert \"tbp_lv_symm_2axis\" in df.columns\n",
    "        # TODO: add more features\n",
    "\n",
    "        self.paths = df.path.tolist()\n",
    "        self.labels = df[cols].values # continuous, float\n",
    "        self.transform = transform\n",
    "\n",
    "    def __len__(self):\n",
    "        return len(self.paths)\n",
    "\n",
    "    def __getitem__(self, idx: int):\n",
    "        image = read_image(self.paths[idx]).to(torch.float32) / 255.0\n",
    "        label = self.labels[idx]\n",
    "        if self.transform:\n",
    "            image = image.numpy().transpose((1,2,0))\n",
    "            image = self.transform(image=image)[\"image\"]\n",
    "        return image, label"
   ]
  },
  {
   "cell_type": "code",
   "execution_count": 6,
   "metadata": {},
   "outputs": [],
   "source": [
    "train_df = train_metadata_df.loc[\n",
    "    train_metadata_df.fold != 0\n",
    "]\n",
    "valid_df = train_metadata_df.loc[\n",
    "    train_metadata_df.fold == 0\n",
    "]"
   ]
  },
  {
   "cell_type": "code",
   "execution_count": 7,
   "metadata": {},
   "outputs": [],
   "source": [
    "# # placeholders\n",
    "# psum = torch.tensor([0.0, 0.0, 0.0])\n",
    "# psum_sq = torch.tensor([0.0, 0.0, 0.0])\n",
    "\n",
    "# num_workers = 24 # based on profiling\n",
    "\n",
    "# simple_transform = A.Compose([\n",
    "#     A.Resize(configs[\"image_size\"], configs[\"image_size\"]),\n",
    "#     ToTensorV2(),\n",
    "# ])\n",
    "\n",
    "# _train_dataset = PretrainSkinDataset(train_df, transform=simple_transform)\n",
    "# _train_dataloader = DataLoader(\n",
    "#     _train_dataset, batch_size=128, shuffle=True,\n",
    "#     num_workers=num_workers, pin_memory=True, persistent_workers=True\n",
    "# )\n",
    "\n",
    "# # loop through images\n",
    "# for inputs, labels in tqdm(_train_dataloader):\n",
    "#     psum += inputs.sum(axis=[0, 2, 3])\n",
    "#     psum_sq += (inputs**2).sum(axis=[0, 2, 3])\n",
    "\n",
    "# count = len(train_df) * configs[\"image_size\"] * configs[\"image_size\"]\n",
    "# total_mean = psum / count\n",
    "# total_var = (psum_sq / count) - (total_mean**2)\n",
    "# total_std = torch.sqrt(total_var)\n",
    "# print(\"mean: \" + str(total_mean))\n",
    "# print(\"std:  \" + str(total_std))"
   ]
  },
  {
   "cell_type": "code",
   "execution_count": 8,
   "metadata": {},
   "outputs": [
    {
     "name": "stderr",
     "output_type": "stream",
     "text": [
      "/home/ubuntu/.local/lib/python3.10/site-packages/pydantic/main.py:164: UserWarning: blur_limit and sigma_limit minimum value can not be both equal to 0. blur_limit minimum value changed to 3.\n",
      "  __pydantic_self__.__pydantic_validator__.validate_python(data, self_instance=__pydantic_self__)\n",
      "/home/ubuntu/.local/lib/python3.10/site-packages/pydantic/main.py:308: UserWarning: Pydantic serializer warnings:\n",
      "  Expected `Union[float, json-or-python[json=list[float], python=list[float]]]` but got `tuple` - serialized value may not be as expected\n",
      "  Expected `Union[float, json-or-python[json=list[float], python=list[float]]]` but got `tuple` - serialized value may not be as expected\n",
      "  return self.__pydantic_serializer__.to_python(\n"
     ]
    }
   ],
   "source": [
    "transforms_train = A.Compose([\n",
    "    A.Transpose(p=0.5),\n",
    "    A.VerticalFlip(p=0.5),\n",
    "    A.HorizontalFlip(p=0.5),\n",
    "    A.RandomBrightnessContrast(brightness_limit=0.2, contrast_limit=0.2, p=0.75),\n",
    "    A.OneOf([\n",
    "        A.MotionBlur(blur_limit=5),\n",
    "        A.MedianBlur(blur_limit=5),\n",
    "        A.GaussianBlur(blur_limit=5),\n",
    "        A.GaussNoise(var_limit=(5.0, 30.0)),\n",
    "    ], p=0.7),\n",
    "\n",
    "    A.OneOf([\n",
    "        A.OpticalDistortion(distort_limit=1.0),\n",
    "        A.GridDistortion(num_steps=5, distort_limit=1.),\n",
    "        A.ElasticTransform(alpha=3),\n",
    "    ], p=0.7),\n",
    "    A.HueSaturationValue(hue_shift_limit=10, sat_shift_limit=20, val_shift_limit=10, p=0.5),\n",
    "    A.ShiftScaleRotate(shift_limit=0.1, scale_limit=0.1, rotate_limit=15, border_mode=0, p=0.85),\n",
    "    A.Resize(configs[\"image_size\"], configs[\"image_size\"]),\n",
    "    A.Normalize(\n",
    "        mean=(0.6962, 0.5209, 0.4193),\n",
    "        std=(0.1395, 0.1320, 0.1240)\n",
    "    ),\n",
    "    ToTensorV2(),\n",
    "])\n",
    "\n",
    "transforms_val = A.Compose([\n",
    "    A.Resize(configs[\"image_size\"], configs[\"image_size\"]),\n",
    "    A.Normalize(\n",
    "        mean=(0.6962, 0.5209, 0.4193),\n",
    "        std=(0.1395, 0.1320, 0.1240)\n",
    "    ),\n",
    "    ToTensorV2(),\n",
    "])"
   ]
  },
  {
   "cell_type": "code",
   "execution_count": 9,
   "metadata": {},
   "outputs": [],
   "source": [
    "# # Calculate statistics\n",
    "# mean_train = train_df['tbp_lv_symm_2axis'].mean()\n",
    "# median_train = train_df['tbp_lv_symm_2axis'].median()\n",
    "# mean_valid = valid_df['tbp_lv_symm_2axis'].mean()\n",
    "# median_valid = valid_df['tbp_lv_symm_2axis'].median()\n",
    "\n",
    "# # Plot the distributions\n",
    "# plt.figure(figsize=(10, 6))\n",
    "# sns.histplot(train_df['tbp_lv_symm_2axis'], color='blue', label='Train Set', kde=True, alpha=0.5)\n",
    "# sns.histplot(valid_df['tbp_lv_symm_2axis'], color='green', label='Validation Set', kde=True, alpha=0.5)\n",
    "\n",
    "# # Add mean and median lines and annotations\n",
    "# plt.axvline(mean_train, color='blue', linestyle='dashed', linewidth=1)\n",
    "# plt.axvline(median_train, color='blue', linestyle='solid', linewidth=1)\n",
    "# plt.axvline(mean_valid, color='green', linestyle='dashed', linewidth=1)\n",
    "# plt.axvline(median_valid, color='green', linestyle='solid', linewidth=1)\n",
    "\n",
    "# plt.text(mean_train, plt.ylim()[1]*0.8, f'Mean: {mean_train:.2f}', color='blue', ha='center')\n",
    "# plt.text(median_train, plt.ylim()[1]*0.7, f'Median: {median_train:.2f}', color='blue', ha='center')\n",
    "# plt.text(mean_valid, plt.ylim()[1]*0.6, f'Mean: {mean_valid:.2f}', color='green', ha='center')\n",
    "# plt.text(median_valid, plt.ylim()[1]*0.5, f'Median: {median_valid:.2f}', color='green', ha='center')\n",
    "\n",
    "# # Add title and labels\n",
    "# plt.title('Distribution of tbp_lv_symm_2axis in Train and Validation Sets')\n",
    "# plt.xlabel('tbp_lv_symm_2axis')\n",
    "# plt.ylabel('Density')\n",
    "# plt.legend()\n",
    "\n",
    "# # Show plot\n",
    "# plt.show()"
   ]
  },
  {
   "cell_type": "code",
   "execution_count": 10,
   "metadata": {},
   "outputs": [
    {
     "data": {
      "text/plain": [
       "{'train': 320848, 'val': 80211}"
      ]
     },
     "execution_count": 10,
     "metadata": {},
     "output_type": "execute_result"
    }
   ],
   "source": [
    "num_workers = 24 # based on profiling\n",
    "\n",
    "train_dataset = PretrainSkinDataset(train_df, transform=transforms_train)\n",
    "train_dataloader = DataLoader(train_dataset, batch_size=128, shuffle=True, num_workers=num_workers, pin_memory=True, persistent_workers=True, drop_last=True)\n",
    "\n",
    "valid_dataset = PretrainSkinDataset(valid_df, transform=transforms_val)\n",
    "valid_dataloader = DataLoader(valid_dataset, batch_size=128, shuffle=False, num_workers=num_workers, pin_memory=True, persistent_workers=True, drop_last=True)\n",
    "\n",
    "dataset_sizes = {\"train\": len(train_dataset), \"val\": len(valid_dataset)}\n",
    "dataset_sizes"
   ]
  },
  {
   "cell_type": "code",
   "execution_count": 11,
   "metadata": {},
   "outputs": [],
   "source": [
    "imgs, labels = next(iter(train_dataloader))"
   ]
  },
  {
   "cell_type": "markdown",
   "metadata": {},
   "source": [
    "## Model"
   ]
  },
  {
   "cell_type": "code",
   "execution_count": 12,
   "metadata": {},
   "outputs": [
    {
     "name": "stdout",
     "output_type": "stream",
     "text": [
      "OptimizedModule(\n",
      "  (_orig_mod): ConvNeXt(\n",
      "    (features): Sequential(\n",
      "      (0): Conv2dNormActivation(\n",
      "        (0): Conv2d(3, 96, kernel_size=(4, 4), stride=(4, 4))\n",
      "        (1): LayerNorm2d((96,), eps=1e-06, elementwise_affine=True)\n",
      "      )\n",
      "      (1): Sequential(\n",
      "        (0): CNBlock(\n",
      "          (block): Sequential(\n",
      "            (0): Conv2d(96, 96, kernel_size=(7, 7), stride=(1, 1), padding=(3, 3), groups=96)\n",
      "            (1): Permute()\n",
      "            (2): LayerNorm((96,), eps=1e-06, elementwise_affine=True)\n",
      "            (3): Linear(in_features=96, out_features=384, bias=True)\n",
      "            (4): GELU(approximate='none')\n",
      "            (5): Linear(in_features=384, out_features=96, bias=True)\n",
      "            (6): Permute()\n",
      "          )\n",
      "          (stochastic_depth): StochasticDepth(p=0.0, mode=row)\n",
      "        )\n",
      "        (1): CNBlock(\n",
      "          (block): Sequential(\n",
      "            (0): Conv2d(96, 96, kernel_size=(7, 7), stride=(1, 1), padding=(3, 3), groups=96)\n",
      "            (1): Permute()\n",
      "            (2): LayerNorm((96,), eps=1e-06, elementwise_affine=True)\n",
      "            (3): Linear(in_features=96, out_features=384, bias=True)\n",
      "            (4): GELU(approximate='none')\n",
      "            (5): Linear(in_features=384, out_features=96, bias=True)\n",
      "            (6): Permute()\n",
      "          )\n",
      "          (stochastic_depth): StochasticDepth(p=0.0058823529411764705, mode=row)\n",
      "        )\n",
      "        (2): CNBlock(\n",
      "          (block): Sequential(\n",
      "            (0): Conv2d(96, 96, kernel_size=(7, 7), stride=(1, 1), padding=(3, 3), groups=96)\n",
      "            (1): Permute()\n",
      "            (2): LayerNorm((96,), eps=1e-06, elementwise_affine=True)\n",
      "            (3): Linear(in_features=96, out_features=384, bias=True)\n",
      "            (4): GELU(approximate='none')\n",
      "            (5): Linear(in_features=384, out_features=96, bias=True)\n",
      "            (6): Permute()\n",
      "          )\n",
      "          (stochastic_depth): StochasticDepth(p=0.011764705882352941, mode=row)\n",
      "        )\n",
      "      )\n",
      "      (2): Sequential(\n",
      "        (0): LayerNorm2d((96,), eps=1e-06, elementwise_affine=True)\n",
      "        (1): Conv2d(96, 192, kernel_size=(2, 2), stride=(2, 2))\n",
      "      )\n",
      "      (3): Sequential(\n",
      "        (0): CNBlock(\n",
      "          (block): Sequential(\n",
      "            (0): Conv2d(192, 192, kernel_size=(7, 7), stride=(1, 1), padding=(3, 3), groups=192)\n",
      "            (1): Permute()\n",
      "            (2): LayerNorm((192,), eps=1e-06, elementwise_affine=True)\n",
      "            (3): Linear(in_features=192, out_features=768, bias=True)\n",
      "            (4): GELU(approximate='none')\n",
      "            (5): Linear(in_features=768, out_features=192, bias=True)\n",
      "            (6): Permute()\n",
      "          )\n",
      "          (stochastic_depth): StochasticDepth(p=0.017647058823529415, mode=row)\n",
      "        )\n",
      "        (1): CNBlock(\n",
      "          (block): Sequential(\n",
      "            (0): Conv2d(192, 192, kernel_size=(7, 7), stride=(1, 1), padding=(3, 3), groups=192)\n",
      "            (1): Permute()\n",
      "            (2): LayerNorm((192,), eps=1e-06, elementwise_affine=True)\n",
      "            (3): Linear(in_features=192, out_features=768, bias=True)\n",
      "            (4): GELU(approximate='none')\n",
      "            (5): Linear(in_features=768, out_features=192, bias=True)\n",
      "            (6): Permute()\n",
      "          )\n",
      "          (stochastic_depth): StochasticDepth(p=0.023529411764705882, mode=row)\n",
      "        )\n",
      "        (2): CNBlock(\n",
      "          (block): Sequential(\n",
      "            (0): Conv2d(192, 192, kernel_size=(7, 7), stride=(1, 1), padding=(3, 3), groups=192)\n",
      "            (1): Permute()\n",
      "            (2): LayerNorm((192,), eps=1e-06, elementwise_affine=True)\n",
      "            (3): Linear(in_features=192, out_features=768, bias=True)\n",
      "            (4): GELU(approximate='none')\n",
      "            (5): Linear(in_features=768, out_features=192, bias=True)\n",
      "            (6): Permute()\n",
      "          )\n",
      "          (stochastic_depth): StochasticDepth(p=0.029411764705882353, mode=row)\n",
      "        )\n",
      "      )\n",
      "      (4): Sequential(\n",
      "        (0): LayerNorm2d((192,), eps=1e-06, elementwise_affine=True)\n",
      "        (1): Conv2d(192, 384, kernel_size=(2, 2), stride=(2, 2))\n",
      "      )\n",
      "      (5): Sequential(\n",
      "        (0): CNBlock(\n",
      "          (block): Sequential(\n",
      "            (0): Conv2d(384, 384, kernel_size=(7, 7), stride=(1, 1), padding=(3, 3), groups=384)\n",
      "            (1): Permute()\n",
      "            (2): LayerNorm((384,), eps=1e-06, elementwise_affine=True)\n",
      "            (3): Linear(in_features=384, out_features=1536, bias=True)\n",
      "            (4): GELU(approximate='none')\n",
      "            (5): Linear(in_features=1536, out_features=384, bias=True)\n",
      "            (6): Permute()\n",
      "          )\n",
      "          (stochastic_depth): StochasticDepth(p=0.03529411764705883, mode=row)\n",
      "        )\n",
      "        (1): CNBlock(\n",
      "          (block): Sequential(\n",
      "            (0): Conv2d(384, 384, kernel_size=(7, 7), stride=(1, 1), padding=(3, 3), groups=384)\n",
      "            (1): Permute()\n",
      "            (2): LayerNorm((384,), eps=1e-06, elementwise_affine=True)\n",
      "            (3): Linear(in_features=384, out_features=1536, bias=True)\n",
      "            (4): GELU(approximate='none')\n",
      "            (5): Linear(in_features=1536, out_features=384, bias=True)\n",
      "            (6): Permute()\n",
      "          )\n",
      "          (stochastic_depth): StochasticDepth(p=0.0411764705882353, mode=row)\n",
      "        )\n",
      "        (2): CNBlock(\n",
      "          (block): Sequential(\n",
      "            (0): Conv2d(384, 384, kernel_size=(7, 7), stride=(1, 1), padding=(3, 3), groups=384)\n",
      "            (1): Permute()\n",
      "            (2): LayerNorm((384,), eps=1e-06, elementwise_affine=True)\n",
      "            (3): Linear(in_features=384, out_features=1536, bias=True)\n",
      "            (4): GELU(approximate='none')\n",
      "            (5): Linear(in_features=1536, out_features=384, bias=True)\n",
      "            (6): Permute()\n",
      "          )\n",
      "          (stochastic_depth): StochasticDepth(p=0.047058823529411764, mode=row)\n",
      "        )\n",
      "        (3): CNBlock(\n",
      "          (block): Sequential(\n",
      "            (0): Conv2d(384, 384, kernel_size=(7, 7), stride=(1, 1), padding=(3, 3), groups=384)\n",
      "            (1): Permute()\n",
      "            (2): LayerNorm((384,), eps=1e-06, elementwise_affine=True)\n",
      "            (3): Linear(in_features=384, out_features=1536, bias=True)\n",
      "            (4): GELU(approximate='none')\n",
      "            (5): Linear(in_features=1536, out_features=384, bias=True)\n",
      "            (6): Permute()\n",
      "          )\n",
      "          (stochastic_depth): StochasticDepth(p=0.052941176470588235, mode=row)\n",
      "        )\n",
      "        (4): CNBlock(\n",
      "          (block): Sequential(\n",
      "            (0): Conv2d(384, 384, kernel_size=(7, 7), stride=(1, 1), padding=(3, 3), groups=384)\n",
      "            (1): Permute()\n",
      "            (2): LayerNorm((384,), eps=1e-06, elementwise_affine=True)\n",
      "            (3): Linear(in_features=384, out_features=1536, bias=True)\n",
      "            (4): GELU(approximate='none')\n",
      "            (5): Linear(in_features=1536, out_features=384, bias=True)\n",
      "            (6): Permute()\n",
      "          )\n",
      "          (stochastic_depth): StochasticDepth(p=0.058823529411764705, mode=row)\n",
      "        )\n",
      "        (5): CNBlock(\n",
      "          (block): Sequential(\n",
      "            (0): Conv2d(384, 384, kernel_size=(7, 7), stride=(1, 1), padding=(3, 3), groups=384)\n",
      "            (1): Permute()\n",
      "            (2): LayerNorm((384,), eps=1e-06, elementwise_affine=True)\n",
      "            (3): Linear(in_features=384, out_features=1536, bias=True)\n",
      "            (4): GELU(approximate='none')\n",
      "            (5): Linear(in_features=1536, out_features=384, bias=True)\n",
      "            (6): Permute()\n",
      "          )\n",
      "          (stochastic_depth): StochasticDepth(p=0.06470588235294118, mode=row)\n",
      "        )\n",
      "        (6): CNBlock(\n",
      "          (block): Sequential(\n",
      "            (0): Conv2d(384, 384, kernel_size=(7, 7), stride=(1, 1), padding=(3, 3), groups=384)\n",
      "            (1): Permute()\n",
      "            (2): LayerNorm((384,), eps=1e-06, elementwise_affine=True)\n",
      "            (3): Linear(in_features=384, out_features=1536, bias=True)\n",
      "            (4): GELU(approximate='none')\n",
      "            (5): Linear(in_features=1536, out_features=384, bias=True)\n",
      "            (6): Permute()\n",
      "          )\n",
      "          (stochastic_depth): StochasticDepth(p=0.07058823529411766, mode=row)\n",
      "        )\n",
      "        (7): CNBlock(\n",
      "          (block): Sequential(\n",
      "            (0): Conv2d(384, 384, kernel_size=(7, 7), stride=(1, 1), padding=(3, 3), groups=384)\n",
      "            (1): Permute()\n",
      "            (2): LayerNorm((384,), eps=1e-06, elementwise_affine=True)\n",
      "            (3): Linear(in_features=384, out_features=1536, bias=True)\n",
      "            (4): GELU(approximate='none')\n",
      "            (5): Linear(in_features=1536, out_features=384, bias=True)\n",
      "            (6): Permute()\n",
      "          )\n",
      "          (stochastic_depth): StochasticDepth(p=0.07647058823529412, mode=row)\n",
      "        )\n",
      "        (8): CNBlock(\n",
      "          (block): Sequential(\n",
      "            (0): Conv2d(384, 384, kernel_size=(7, 7), stride=(1, 1), padding=(3, 3), groups=384)\n",
      "            (1): Permute()\n",
      "            (2): LayerNorm((384,), eps=1e-06, elementwise_affine=True)\n",
      "            (3): Linear(in_features=384, out_features=1536, bias=True)\n",
      "            (4): GELU(approximate='none')\n",
      "            (5): Linear(in_features=1536, out_features=384, bias=True)\n",
      "            (6): Permute()\n",
      "          )\n",
      "          (stochastic_depth): StochasticDepth(p=0.0823529411764706, mode=row)\n",
      "        )\n",
      "      )\n",
      "      (6): Sequential(\n",
      "        (0): LayerNorm2d((384,), eps=1e-06, elementwise_affine=True)\n",
      "        (1): Conv2d(384, 768, kernel_size=(2, 2), stride=(2, 2))\n",
      "      )\n",
      "      (7): Sequential(\n",
      "        (0): CNBlock(\n",
      "          (block): Sequential(\n",
      "            (0): Conv2d(768, 768, kernel_size=(7, 7), stride=(1, 1), padding=(3, 3), groups=768)\n",
      "            (1): Permute()\n",
      "            (2): LayerNorm((768,), eps=1e-06, elementwise_affine=True)\n",
      "            (3): Linear(in_features=768, out_features=3072, bias=True)\n",
      "            (4): GELU(approximate='none')\n",
      "            (5): Linear(in_features=3072, out_features=768, bias=True)\n",
      "            (6): Permute()\n",
      "          )\n",
      "          (stochastic_depth): StochasticDepth(p=0.08823529411764706, mode=row)\n",
      "        )\n",
      "        (1): CNBlock(\n",
      "          (block): Sequential(\n",
      "            (0): Conv2d(768, 768, kernel_size=(7, 7), stride=(1, 1), padding=(3, 3), groups=768)\n",
      "            (1): Permute()\n",
      "            (2): LayerNorm((768,), eps=1e-06, elementwise_affine=True)\n",
      "            (3): Linear(in_features=768, out_features=3072, bias=True)\n",
      "            (4): GELU(approximate='none')\n",
      "            (5): Linear(in_features=3072, out_features=768, bias=True)\n",
      "            (6): Permute()\n",
      "          )\n",
      "          (stochastic_depth): StochasticDepth(p=0.09411764705882353, mode=row)\n",
      "        )\n",
      "        (2): CNBlock(\n",
      "          (block): Sequential(\n",
      "            (0): Conv2d(768, 768, kernel_size=(7, 7), stride=(1, 1), padding=(3, 3), groups=768)\n",
      "            (1): Permute()\n",
      "            (2): LayerNorm((768,), eps=1e-06, elementwise_affine=True)\n",
      "            (3): Linear(in_features=768, out_features=3072, bias=True)\n",
      "            (4): GELU(approximate='none')\n",
      "            (5): Linear(in_features=3072, out_features=768, bias=True)\n",
      "            (6): Permute()\n",
      "          )\n",
      "          (stochastic_depth): StochasticDepth(p=0.1, mode=row)\n",
      "        )\n",
      "      )\n",
      "    )\n",
      "    (avgpool): AdaptiveAvgPool2d(output_size=1)\n",
      "    (classifier): Sequential(\n",
      "      (0): LayerNorm2d((768,), eps=1e-06, elementwise_affine=True)\n",
      "      (1): Flatten(start_dim=1, end_dim=-1)\n",
      "      (2): Linear(in_features=768, out_features=5, bias=False)\n",
      "    )\n",
      "  )\n",
      ")\n"
     ]
    }
   ],
   "source": [
    "model_ft = convnext_tiny()\n",
    "model_ft.classifier[2] = nn.Linear(model_ft.classifier[2].in_features, 5, bias=False)\n",
    "\n",
    "model_ft = model_ft.to(device)\n",
    "model_ft = torch.compile(model_ft)\n",
    "print(model_ft)"
   ]
  },
  {
   "cell_type": "markdown",
   "metadata": {},
   "source": [
    "## Utils"
   ]
  },
  {
   "cell_type": "code",
   "execution_count": 16,
   "metadata": {},
   "outputs": [],
   "source": [
    "def train_model(model, dataloader, criterions, optimizer, scheduler=None):\n",
    "    model.train()  # Set model to training mode\n",
    "\n",
    "    running_loss = 0.0\n",
    "\n",
    "    for idx, (inputs, labels) in enumerate(dataloader):\n",
    "        inputs = inputs.to(device)\n",
    "        labels = labels.to(device).flatten().to(torch.float32)\n",
    "        print(f\"{labels.shape=}\")\n",
    "\n",
    "        optimizer.zero_grad()\n",
    "\n",
    "        with torch.set_grad_enabled(True):\n",
    "            outputs = model(inputs).flatten()\n",
    "            print(f\"{outputs.shape=}\")\n",
    "            _losses = []\n",
    "            for idx, criterion in enumerate(criterions):\n",
    "                _losses.append(criterion(outputs[:, idx], labels[:, idx]))\n",
    "\n",
    "            loss = sum(_losses)\n",
    "            loss.backward()\n",
    "            optimizer.step()\n",
    "\n",
    "        loss_val = loss.detach()\n",
    "        running_loss += loss_val * inputs.size(0)\n",
    "\n",
    "        if (idx + 1) % 10 == 0:\n",
    "            wandb.log({\"train_loss\": loss_val})\n",
    "            print(f\"Train Batch Loss: {loss_val}\")\n",
    "\n",
    "    epoch_loss = running_loss / dataset_sizes[\"train\"]\n",
    "\n",
    "    return model, epoch_loss\n",
    "\n",
    "\n",
    "def validate_model(model, dataloader, criterions, optimizer):\n",
    "    model.eval()\n",
    "\n",
    "    running_loss = 0.0\n",
    "\n",
    "    for idx, (inputs, labels) in enumerate(dataloader):\n",
    "        inputs = inputs.to(device)\n",
    "        labels = labels.to(device).flatten().to(torch.float32)\n",
    "\n",
    "        optimizer.zero_grad()\n",
    "\n",
    "        with torch.no_grad():\n",
    "            outputs = model(inputs).flatten()\n",
    "            _losses = []\n",
    "            for idx, criterion in criterion(criterions):\n",
    "                _losses.append(criterion(outputs[:, idx], labels[:, idx]))\n",
    "        \n",
    "        loss = sum(_losses)\n",
    "        loss_val = loss.detach()\n",
    "        running_loss += loss_val * inputs.size(0)\n",
    "\n",
    "        if (idx + 1) % 10 == 0:\n",
    "            wandb.log({\"valid_loss\": loss_val})\n",
    "            print(f\"valid Batch Loss: {loss_val}\")\n",
    "\n",
    "    valid_loss = running_loss / dataset_sizes[\"val\"]\n",
    "\n",
    "    return model, valid_loss"
   ]
  },
  {
   "cell_type": "markdown",
   "metadata": {},
   "source": [
    "## Pretrain"
   ]
  },
  {
   "cell_type": "code",
   "execution_count": 17,
   "metadata": {},
   "outputs": [],
   "source": [
    "criterions = [nn.MSELoss()]*5\n",
    "optimizer_ft = optim.Adam(model_ft.parameters(), lr=0.001, weight_decay=1e-6)"
   ]
  },
  {
   "cell_type": "code",
   "execution_count": 18,
   "metadata": {},
   "outputs": [
    {
     "data": {
      "text/html": [
       "Finishing last run (ID:q804p5y6) before initializing another..."
      ],
      "text/plain": [
       "<IPython.core.display.HTML object>"
      ]
     },
     "metadata": {},
     "output_type": "display_data"
    },
    {
     "data": {
      "application/vnd.jupyter.widget-view+json": {
       "model_id": "0f9f9415659148dea56eb09651ad2702",
       "version_major": 2,
       "version_minor": 0
      },
      "text/plain": [
       "VBox(children=(Label(value='0.006 MB of 0.006 MB uploaded\\r'), FloatProgress(value=1.0, max=1.0)))"
      ]
     },
     "metadata": {},
     "output_type": "display_data"
    },
    {
     "data": {
      "text/html": [
       " View run <strong style=\"color:#cdcd00\">fragrant-wood-750</strong> at: <a href='https://wandb.ai/ayush-thakur/isic_lesions_24/runs/q804p5y6' target=\"_blank\">https://wandb.ai/ayush-thakur/isic_lesions_24/runs/q804p5y6</a><br/> View project at: <a href='https://wandb.ai/ayush-thakur/isic_lesions_24' target=\"_blank\">https://wandb.ai/ayush-thakur/isic_lesions_24</a><br/>Synced 5 W&B file(s), 0 media file(s), 0 artifact file(s) and 0 other file(s)"
      ],
      "text/plain": [
       "<IPython.core.display.HTML object>"
      ]
     },
     "metadata": {},
     "output_type": "display_data"
    },
    {
     "data": {
      "text/html": [
       "Find logs at: <code>./wandb/run-20240727_172113-q804p5y6/logs</code>"
      ],
      "text/plain": [
       "<IPython.core.display.HTML object>"
      ]
     },
     "metadata": {},
     "output_type": "display_data"
    },
    {
     "data": {
      "text/html": [
       "Successfully finished last run (ID:q804p5y6). Initializing new run:<br/>"
      ],
      "text/plain": [
       "<IPython.core.display.HTML object>"
      ]
     },
     "metadata": {},
     "output_type": "display_data"
    },
    {
     "data": {
      "text/html": [
       "Tracking run with wandb version 0.17.5"
      ],
      "text/plain": [
       "<IPython.core.display.HTML object>"
      ]
     },
     "metadata": {},
     "output_type": "display_data"
    },
    {
     "data": {
      "text/html": [
       "Run data is saved locally in <code>/home/ubuntu/ayusht/skin/notebooks/wandb/run-20240727_172522-xq0ppu6k</code>"
      ],
      "text/plain": [
       "<IPython.core.display.HTML object>"
      ]
     },
     "metadata": {},
     "output_type": "display_data"
    },
    {
     "data": {
      "text/html": [
       "Syncing run <strong><a href='https://wandb.ai/ayush-thakur/isic_lesions_24/runs/xq0ppu6k' target=\"_blank\">ancient-dawn-751</a></strong> to <a href='https://wandb.ai/ayush-thakur/isic_lesions_24' target=\"_blank\">Weights & Biases</a> (<a href='https://wandb.me/run' target=\"_blank\">docs</a>)<br/>"
      ],
      "text/plain": [
       "<IPython.core.display.HTML object>"
      ]
     },
     "metadata": {},
     "output_type": "display_data"
    },
    {
     "data": {
      "text/html": [
       " View project at <a href='https://wandb.ai/ayush-thakur/isic_lesions_24' target=\"_blank\">https://wandb.ai/ayush-thakur/isic_lesions_24</a>"
      ],
      "text/plain": [
       "<IPython.core.display.HTML object>"
      ]
     },
     "metadata": {},
     "output_type": "display_data"
    },
    {
     "data": {
      "text/html": [
       " View run at <a href='https://wandb.ai/ayush-thakur/isic_lesions_24/runs/xq0ppu6k' target=\"_blank\">https://wandb.ai/ayush-thakur/isic_lesions_24/runs/xq0ppu6k</a>"
      ],
      "text/plain": [
       "<IPython.core.display.HTML object>"
      ]
     },
     "metadata": {},
     "output_type": "display_data"
    },
    {
     "name": "stdout",
     "output_type": "stream",
     "text": [
      "labels.shape=torch.Size([640])\n"
     ]
    },
    {
     "ename": "OutOfMemoryError",
     "evalue": "CUDA out of memory. Tried to allocate 74.00 MiB. GPU ",
     "output_type": "error",
     "traceback": [
      "\u001b[0;31m---------------------------------------------------------------------------\u001b[0m",
      "\u001b[0;31mOutOfMemoryError\u001b[0m                          Traceback (most recent call last)",
      "Cell \u001b[0;32mIn[18], line 9\u001b[0m\n\u001b[1;32m      6\u001b[0m epochs_no_improve \u001b[38;5;241m=\u001b[39m \u001b[38;5;241m0\u001b[39m\n\u001b[1;32m      8\u001b[0m \u001b[38;5;28;01mfor\u001b[39;00m epoch \u001b[38;5;129;01min\u001b[39;00m \u001b[38;5;28mrange\u001b[39m(\u001b[38;5;241m10\u001b[39m):\n\u001b[0;32m----> 9\u001b[0m     model_ft, epoch_loss \u001b[38;5;241m=\u001b[39m \u001b[43mtrain_model\u001b[49m\u001b[43m(\u001b[49m\n\u001b[1;32m     10\u001b[0m \u001b[43m        \u001b[49m\u001b[43mmodel_ft\u001b[49m\u001b[43m,\u001b[49m\u001b[43m \u001b[49m\u001b[43mtrain_dataloader\u001b[49m\u001b[43m,\u001b[49m\u001b[43m \u001b[49m\u001b[43mcriterions\u001b[49m\u001b[43m,\u001b[49m\u001b[43m \u001b[49m\u001b[43moptimizer_ft\u001b[49m\n\u001b[1;32m     11\u001b[0m \u001b[43m    \u001b[49m\u001b[43m)\u001b[49m\n\u001b[1;32m     12\u001b[0m     model_ft, valid_loss \u001b[38;5;241m=\u001b[39m validate_model(\n\u001b[1;32m     13\u001b[0m         model_ft, valid_dataloader, criterions, optimizer_ft\n\u001b[1;32m     14\u001b[0m     )\n\u001b[1;32m     16\u001b[0m     \u001b[38;5;28mprint\u001b[39m(\n\u001b[1;32m     17\u001b[0m         \u001b[38;5;124mf\u001b[39m\u001b[38;5;124m\"\u001b[39m\u001b[38;5;124mEpoch: \u001b[39m\u001b[38;5;132;01m{\u001b[39;00mepoch\u001b[38;5;132;01m}\u001b[39;00m\u001b[38;5;124m | Train Loss: \u001b[39m\u001b[38;5;132;01m{\u001b[39;00mepoch_loss\u001b[38;5;132;01m}\u001b[39;00m\u001b[38;5;124m | Valid Loss: \u001b[39m\u001b[38;5;132;01m{\u001b[39;00mvalid_loss\u001b[38;5;132;01m}\u001b[39;00m\u001b[38;5;130;01m\\n\u001b[39;00m\u001b[38;5;124m\"\u001b[39m\n\u001b[1;32m     18\u001b[0m     )\n",
      "Cell \u001b[0;32mIn[16], line 14\u001b[0m, in \u001b[0;36mtrain_model\u001b[0;34m(model, dataloader, criterions, optimizer, scheduler)\u001b[0m\n\u001b[1;32m     11\u001b[0m optimizer\u001b[38;5;241m.\u001b[39mzero_grad()\n\u001b[1;32m     13\u001b[0m \u001b[38;5;28;01mwith\u001b[39;00m torch\u001b[38;5;241m.\u001b[39mset_grad_enabled(\u001b[38;5;28;01mTrue\u001b[39;00m):\n\u001b[0;32m---> 14\u001b[0m     outputs \u001b[38;5;241m=\u001b[39m \u001b[43mmodel\u001b[49m\u001b[43m(\u001b[49m\u001b[43minputs\u001b[49m\u001b[43m)\u001b[49m\u001b[38;5;241m.\u001b[39mflatten()\n\u001b[1;32m     15\u001b[0m     \u001b[38;5;28mprint\u001b[39m(\u001b[38;5;124mf\u001b[39m\u001b[38;5;124m\"\u001b[39m\u001b[38;5;132;01m{\u001b[39;00moutputs\u001b[38;5;241m.\u001b[39mshape\u001b[38;5;132;01m=}\u001b[39;00m\u001b[38;5;124m\"\u001b[39m)\n\u001b[1;32m     16\u001b[0m     _losses \u001b[38;5;241m=\u001b[39m []\n",
      "File \u001b[0;32m~/miniforge3/envs/skin/lib/python3.10/site-packages/torch/nn/modules/module.py:1532\u001b[0m, in \u001b[0;36mModule._wrapped_call_impl\u001b[0;34m(self, *args, **kwargs)\u001b[0m\n\u001b[1;32m   1530\u001b[0m     \u001b[38;5;28;01mreturn\u001b[39;00m \u001b[38;5;28mself\u001b[39m\u001b[38;5;241m.\u001b[39m_compiled_call_impl(\u001b[38;5;241m*\u001b[39margs, \u001b[38;5;241m*\u001b[39m\u001b[38;5;241m*\u001b[39mkwargs)  \u001b[38;5;66;03m# type: ignore[misc]\u001b[39;00m\n\u001b[1;32m   1531\u001b[0m \u001b[38;5;28;01melse\u001b[39;00m:\n\u001b[0;32m-> 1532\u001b[0m     \u001b[38;5;28;01mreturn\u001b[39;00m \u001b[38;5;28;43mself\u001b[39;49m\u001b[38;5;241;43m.\u001b[39;49m\u001b[43m_call_impl\u001b[49m\u001b[43m(\u001b[49m\u001b[38;5;241;43m*\u001b[39;49m\u001b[43margs\u001b[49m\u001b[43m,\u001b[49m\u001b[43m \u001b[49m\u001b[38;5;241;43m*\u001b[39;49m\u001b[38;5;241;43m*\u001b[39;49m\u001b[43mkwargs\u001b[49m\u001b[43m)\u001b[49m\n",
      "File \u001b[0;32m~/miniforge3/envs/skin/lib/python3.10/site-packages/torch/nn/modules/module.py:1541\u001b[0m, in \u001b[0;36mModule._call_impl\u001b[0;34m(self, *args, **kwargs)\u001b[0m\n\u001b[1;32m   1536\u001b[0m \u001b[38;5;66;03m# If we don't have any hooks, we want to skip the rest of the logic in\u001b[39;00m\n\u001b[1;32m   1537\u001b[0m \u001b[38;5;66;03m# this function, and just call forward.\u001b[39;00m\n\u001b[1;32m   1538\u001b[0m \u001b[38;5;28;01mif\u001b[39;00m \u001b[38;5;129;01mnot\u001b[39;00m (\u001b[38;5;28mself\u001b[39m\u001b[38;5;241m.\u001b[39m_backward_hooks \u001b[38;5;129;01mor\u001b[39;00m \u001b[38;5;28mself\u001b[39m\u001b[38;5;241m.\u001b[39m_backward_pre_hooks \u001b[38;5;129;01mor\u001b[39;00m \u001b[38;5;28mself\u001b[39m\u001b[38;5;241m.\u001b[39m_forward_hooks \u001b[38;5;129;01mor\u001b[39;00m \u001b[38;5;28mself\u001b[39m\u001b[38;5;241m.\u001b[39m_forward_pre_hooks\n\u001b[1;32m   1539\u001b[0m         \u001b[38;5;129;01mor\u001b[39;00m _global_backward_pre_hooks \u001b[38;5;129;01mor\u001b[39;00m _global_backward_hooks\n\u001b[1;32m   1540\u001b[0m         \u001b[38;5;129;01mor\u001b[39;00m _global_forward_hooks \u001b[38;5;129;01mor\u001b[39;00m _global_forward_pre_hooks):\n\u001b[0;32m-> 1541\u001b[0m     \u001b[38;5;28;01mreturn\u001b[39;00m \u001b[43mforward_call\u001b[49m\u001b[43m(\u001b[49m\u001b[38;5;241;43m*\u001b[39;49m\u001b[43margs\u001b[49m\u001b[43m,\u001b[49m\u001b[43m \u001b[49m\u001b[38;5;241;43m*\u001b[39;49m\u001b[38;5;241;43m*\u001b[39;49m\u001b[43mkwargs\u001b[49m\u001b[43m)\u001b[49m\n\u001b[1;32m   1543\u001b[0m \u001b[38;5;28;01mtry\u001b[39;00m:\n\u001b[1;32m   1544\u001b[0m     result \u001b[38;5;241m=\u001b[39m \u001b[38;5;28;01mNone\u001b[39;00m\n",
      "File \u001b[0;32m~/miniforge3/envs/skin/lib/python3.10/site-packages/torch/_dynamo/eval_frame.py:451\u001b[0m, in \u001b[0;36m_TorchDynamoContext.__call__.<locals>._fn\u001b[0;34m(*args, **kwargs)\u001b[0m\n\u001b[1;32m    449\u001b[0m prior \u001b[38;5;241m=\u001b[39m set_eval_frame(callback)\n\u001b[1;32m    450\u001b[0m \u001b[38;5;28;01mtry\u001b[39;00m:\n\u001b[0;32m--> 451\u001b[0m     \u001b[38;5;28;01mreturn\u001b[39;00m \u001b[43mfn\u001b[49m\u001b[43m(\u001b[49m\u001b[38;5;241;43m*\u001b[39;49m\u001b[43margs\u001b[49m\u001b[43m,\u001b[49m\u001b[43m \u001b[49m\u001b[38;5;241;43m*\u001b[39;49m\u001b[38;5;241;43m*\u001b[39;49m\u001b[43mkwargs\u001b[49m\u001b[43m)\u001b[49m\n\u001b[1;32m    452\u001b[0m \u001b[38;5;28;01mfinally\u001b[39;00m:\n\u001b[1;32m    453\u001b[0m     set_eval_frame(prior)\n",
      "File \u001b[0;32m~/miniforge3/envs/skin/lib/python3.10/site-packages/torch/nn/modules/module.py:1532\u001b[0m, in \u001b[0;36mModule._wrapped_call_impl\u001b[0;34m(self, *args, **kwargs)\u001b[0m\n\u001b[1;32m   1530\u001b[0m     \u001b[38;5;28;01mreturn\u001b[39;00m \u001b[38;5;28mself\u001b[39m\u001b[38;5;241m.\u001b[39m_compiled_call_impl(\u001b[38;5;241m*\u001b[39margs, \u001b[38;5;241m*\u001b[39m\u001b[38;5;241m*\u001b[39mkwargs)  \u001b[38;5;66;03m# type: ignore[misc]\u001b[39;00m\n\u001b[1;32m   1531\u001b[0m \u001b[38;5;28;01melse\u001b[39;00m:\n\u001b[0;32m-> 1532\u001b[0m     \u001b[38;5;28;01mreturn\u001b[39;00m \u001b[38;5;28;43mself\u001b[39;49m\u001b[38;5;241;43m.\u001b[39;49m\u001b[43m_call_impl\u001b[49m\u001b[43m(\u001b[49m\u001b[38;5;241;43m*\u001b[39;49m\u001b[43margs\u001b[49m\u001b[43m,\u001b[49m\u001b[43m \u001b[49m\u001b[38;5;241;43m*\u001b[39;49m\u001b[38;5;241;43m*\u001b[39;49m\u001b[43mkwargs\u001b[49m\u001b[43m)\u001b[49m\n",
      "File \u001b[0;32m~/miniforge3/envs/skin/lib/python3.10/site-packages/torch/nn/modules/module.py:1541\u001b[0m, in \u001b[0;36mModule._call_impl\u001b[0;34m(self, *args, **kwargs)\u001b[0m\n\u001b[1;32m   1536\u001b[0m \u001b[38;5;66;03m# If we don't have any hooks, we want to skip the rest of the logic in\u001b[39;00m\n\u001b[1;32m   1537\u001b[0m \u001b[38;5;66;03m# this function, and just call forward.\u001b[39;00m\n\u001b[1;32m   1538\u001b[0m \u001b[38;5;28;01mif\u001b[39;00m \u001b[38;5;129;01mnot\u001b[39;00m (\u001b[38;5;28mself\u001b[39m\u001b[38;5;241m.\u001b[39m_backward_hooks \u001b[38;5;129;01mor\u001b[39;00m \u001b[38;5;28mself\u001b[39m\u001b[38;5;241m.\u001b[39m_backward_pre_hooks \u001b[38;5;129;01mor\u001b[39;00m \u001b[38;5;28mself\u001b[39m\u001b[38;5;241m.\u001b[39m_forward_hooks \u001b[38;5;129;01mor\u001b[39;00m \u001b[38;5;28mself\u001b[39m\u001b[38;5;241m.\u001b[39m_forward_pre_hooks\n\u001b[1;32m   1539\u001b[0m         \u001b[38;5;129;01mor\u001b[39;00m _global_backward_pre_hooks \u001b[38;5;129;01mor\u001b[39;00m _global_backward_hooks\n\u001b[1;32m   1540\u001b[0m         \u001b[38;5;129;01mor\u001b[39;00m _global_forward_hooks \u001b[38;5;129;01mor\u001b[39;00m _global_forward_pre_hooks):\n\u001b[0;32m-> 1541\u001b[0m     \u001b[38;5;28;01mreturn\u001b[39;00m \u001b[43mforward_call\u001b[49m\u001b[43m(\u001b[49m\u001b[38;5;241;43m*\u001b[39;49m\u001b[43margs\u001b[49m\u001b[43m,\u001b[49m\u001b[43m \u001b[49m\u001b[38;5;241;43m*\u001b[39;49m\u001b[38;5;241;43m*\u001b[39;49m\u001b[43mkwargs\u001b[49m\u001b[43m)\u001b[49m\n\u001b[1;32m   1543\u001b[0m \u001b[38;5;28;01mtry\u001b[39;00m:\n\u001b[1;32m   1544\u001b[0m     result \u001b[38;5;241m=\u001b[39m \u001b[38;5;28;01mNone\u001b[39;00m\n",
      "File \u001b[0;32m~/miniforge3/envs/skin/lib/python3.10/site-packages/torchvision/models/convnext.py:175\u001b[0m, in \u001b[0;36mConvNeXt.forward\u001b[0;34m(self, x)\u001b[0m\n\u001b[1;32m    172\u001b[0m     x \u001b[38;5;241m=\u001b[39m \u001b[38;5;28mself\u001b[39m\u001b[38;5;241m.\u001b[39mclassifier(x)\n\u001b[1;32m    173\u001b[0m     \u001b[38;5;28;01mreturn\u001b[39;00m x\n\u001b[0;32m--> 175\u001b[0m \u001b[38;5;28;01mdef\u001b[39;00m \u001b[38;5;21mforward\u001b[39m(\u001b[38;5;28mself\u001b[39m, x: Tensor) \u001b[38;5;241m-\u001b[39m\u001b[38;5;241m>\u001b[39m Tensor:\n\u001b[1;32m    176\u001b[0m     \u001b[38;5;28;01mreturn\u001b[39;00m \u001b[38;5;28mself\u001b[39m\u001b[38;5;241m.\u001b[39m_forward_impl(x)\n",
      "File \u001b[0;32m~/miniforge3/envs/skin/lib/python3.10/site-packages/torch/_dynamo/eval_frame.py:451\u001b[0m, in \u001b[0;36m_TorchDynamoContext.__call__.<locals>._fn\u001b[0;34m(*args, **kwargs)\u001b[0m\n\u001b[1;32m    449\u001b[0m prior \u001b[38;5;241m=\u001b[39m set_eval_frame(callback)\n\u001b[1;32m    450\u001b[0m \u001b[38;5;28;01mtry\u001b[39;00m:\n\u001b[0;32m--> 451\u001b[0m     \u001b[38;5;28;01mreturn\u001b[39;00m \u001b[43mfn\u001b[49m\u001b[43m(\u001b[49m\u001b[38;5;241;43m*\u001b[39;49m\u001b[43margs\u001b[49m\u001b[43m,\u001b[49m\u001b[43m \u001b[49m\u001b[38;5;241;43m*\u001b[39;49m\u001b[38;5;241;43m*\u001b[39;49m\u001b[43mkwargs\u001b[49m\u001b[43m)\u001b[49m\n\u001b[1;32m    452\u001b[0m \u001b[38;5;28;01mfinally\u001b[39;00m:\n\u001b[1;32m    453\u001b[0m     set_eval_frame(prior)\n",
      "File \u001b[0;32m~/miniforge3/envs/skin/lib/python3.10/site-packages/torch/_dynamo/external_utils.py:36\u001b[0m, in \u001b[0;36mwrap_inline.<locals>.inner\u001b[0;34m(*args, **kwargs)\u001b[0m\n\u001b[1;32m     34\u001b[0m \u001b[38;5;129m@functools\u001b[39m\u001b[38;5;241m.\u001b[39mwraps(fn)\n\u001b[1;32m     35\u001b[0m \u001b[38;5;28;01mdef\u001b[39;00m \u001b[38;5;21minner\u001b[39m(\u001b[38;5;241m*\u001b[39margs, \u001b[38;5;241m*\u001b[39m\u001b[38;5;241m*\u001b[39mkwargs):\n\u001b[0;32m---> 36\u001b[0m     \u001b[38;5;28;01mreturn\u001b[39;00m \u001b[43mfn\u001b[49m\u001b[43m(\u001b[49m\u001b[38;5;241;43m*\u001b[39;49m\u001b[43margs\u001b[49m\u001b[43m,\u001b[49m\u001b[43m \u001b[49m\u001b[38;5;241;43m*\u001b[39;49m\u001b[38;5;241;43m*\u001b[39;49m\u001b[43mkwargs\u001b[49m\u001b[43m)\u001b[49m\n",
      "File \u001b[0;32m~/miniforge3/envs/skin/lib/python3.10/site-packages/torch/_functorch/aot_autograd.py:917\u001b[0m, in \u001b[0;36maot_module_simplified.<locals>.forward\u001b[0;34m(*runtime_args)\u001b[0m\n\u001b[1;32m    915\u001b[0m full_args\u001b[38;5;241m.\u001b[39mextend(params_flat)\n\u001b[1;32m    916\u001b[0m full_args\u001b[38;5;241m.\u001b[39mextend(runtime_args)\n\u001b[0;32m--> 917\u001b[0m \u001b[38;5;28;01mreturn\u001b[39;00m \u001b[43mcompiled_fn\u001b[49m\u001b[43m(\u001b[49m\u001b[43mfull_args\u001b[49m\u001b[43m)\u001b[49m\n",
      "File \u001b[0;32m~/miniforge3/envs/skin/lib/python3.10/site-packages/torch/_functorch/_aot_autograd/utils.py:89\u001b[0m, in \u001b[0;36mmake_boxed_func.<locals>.g\u001b[0;34m(args)\u001b[0m\n\u001b[1;32m     88\u001b[0m \u001b[38;5;28;01mdef\u001b[39;00m \u001b[38;5;21mg\u001b[39m(args):\n\u001b[0;32m---> 89\u001b[0m     \u001b[38;5;28;01mreturn\u001b[39;00m \u001b[43mf\u001b[49m\u001b[43m(\u001b[49m\u001b[38;5;241;43m*\u001b[39;49m\u001b[43margs\u001b[49m\u001b[43m)\u001b[49m\n",
      "File \u001b[0;32m~/miniforge3/envs/skin/lib/python3.10/site-packages/torch/_functorch/_aot_autograd/runtime_wrappers.py:88\u001b[0m, in \u001b[0;36mcreate_runtime_wrapper.<locals>.runtime_wrapper\u001b[0;34m(*args)\u001b[0m\n\u001b[1;32m     86\u001b[0m             args_[idx] \u001b[38;5;241m=\u001b[39m args_[idx]\u001b[38;5;241m.\u001b[39mdetach()\n\u001b[1;32m     87\u001b[0m     \u001b[38;5;28;01mwith\u001b[39;00m torch\u001b[38;5;241m.\u001b[39mautograd\u001b[38;5;241m.\u001b[39m_force_original_view_tracking(\u001b[38;5;28;01mTrue\u001b[39;00m):\n\u001b[0;32m---> 88\u001b[0m         all_outs \u001b[38;5;241m=\u001b[39m \u001b[43mcall_func_at_runtime_with_args\u001b[49m\u001b[43m(\u001b[49m\n\u001b[1;32m     89\u001b[0m \u001b[43m            \u001b[49m\u001b[43mcompiled_fn\u001b[49m\u001b[43m,\u001b[49m\n\u001b[1;32m     90\u001b[0m \u001b[43m            \u001b[49m\u001b[43margs_\u001b[49m\u001b[43m,\u001b[49m\n\u001b[1;32m     91\u001b[0m \u001b[43m            \u001b[49m\u001b[43mdisable_amp\u001b[49m\u001b[38;5;241;43m=\u001b[39;49m\u001b[43mdisable_amp\u001b[49m\u001b[43m,\u001b[49m\n\u001b[1;32m     92\u001b[0m \u001b[43m        \u001b[49m\u001b[43m)\u001b[49m\n\u001b[1;32m     93\u001b[0m \u001b[38;5;28;01melse\u001b[39;00m:\n\u001b[1;32m     94\u001b[0m     \u001b[38;5;66;03m# When we have an inference graph, we run with torch.no_grad.\u001b[39;00m\n\u001b[1;32m     95\u001b[0m     \u001b[38;5;66;03m# It's possible to get an inference graph with inputs that require grad,\u001b[39;00m\n\u001b[1;32m     96\u001b[0m     \u001b[38;5;66;03m# in which case we want to make sure autograd is disabled\u001b[39;00m\n\u001b[1;32m     97\u001b[0m     \u001b[38;5;66;03m# (since e.g., inductor will generate aten.addmm.out calls which autograd will complain on)\u001b[39;00m\n\u001b[1;32m     98\u001b[0m     \u001b[38;5;28;01mif\u001b[39;00m torch\u001b[38;5;241m.\u001b[39mis_grad_enabled():\n",
      "File \u001b[0;32m~/miniforge3/envs/skin/lib/python3.10/site-packages/torch/_functorch/_aot_autograd/utils.py:113\u001b[0m, in \u001b[0;36mcall_func_at_runtime_with_args\u001b[0;34m(f, args, steal_args, disable_amp)\u001b[0m\n\u001b[1;32m    111\u001b[0m \u001b[38;5;28;01mwith\u001b[39;00m context():\n\u001b[1;32m    112\u001b[0m     \u001b[38;5;28;01mif\u001b[39;00m \u001b[38;5;28mhasattr\u001b[39m(f, \u001b[38;5;124m\"\u001b[39m\u001b[38;5;124m_boxed_call\u001b[39m\u001b[38;5;124m\"\u001b[39m):\n\u001b[0;32m--> 113\u001b[0m         out \u001b[38;5;241m=\u001b[39m normalize_as_list(\u001b[43mf\u001b[49m\u001b[43m(\u001b[49m\u001b[43margs\u001b[49m\u001b[43m)\u001b[49m)\n\u001b[1;32m    114\u001b[0m     \u001b[38;5;28;01melse\u001b[39;00m:\n\u001b[1;32m    115\u001b[0m         \u001b[38;5;66;03m# TODO: Please remove soon\u001b[39;00m\n\u001b[1;32m    116\u001b[0m         \u001b[38;5;66;03m# https://github.com/pytorch/pytorch/pull/83137#issuecomment-1211320670\u001b[39;00m\n\u001b[1;32m    117\u001b[0m         warnings\u001b[38;5;241m.\u001b[39mwarn(\n\u001b[1;32m    118\u001b[0m             \u001b[38;5;124m\"\u001b[39m\u001b[38;5;124mYour compiler for AOTAutograd is returning a function that doesn\u001b[39m\u001b[38;5;124m'\u001b[39m\u001b[38;5;124mt take boxed arguments. \u001b[39m\u001b[38;5;124m\"\u001b[39m\n\u001b[1;32m    119\u001b[0m             \u001b[38;5;124m\"\u001b[39m\u001b[38;5;124mPlease wrap it with functorch.compile.make_boxed_func or handle the boxed arguments yourself. \u001b[39m\u001b[38;5;124m\"\u001b[39m\n\u001b[1;32m    120\u001b[0m             \u001b[38;5;124m\"\u001b[39m\u001b[38;5;124mSee https://github.com/pytorch/pytorch/pull/83137#issuecomment-1211320670 for rationale.\u001b[39m\u001b[38;5;124m\"\u001b[39m\n\u001b[1;32m    121\u001b[0m         )\n",
      "File \u001b[0;32m~/miniforge3/envs/skin/lib/python3.10/site-packages/torch/_functorch/_aot_autograd/utils.py:89\u001b[0m, in \u001b[0;36mmake_boxed_func.<locals>.g\u001b[0;34m(args)\u001b[0m\n\u001b[1;32m     88\u001b[0m \u001b[38;5;28;01mdef\u001b[39;00m \u001b[38;5;21mg\u001b[39m(args):\n\u001b[0;32m---> 89\u001b[0m     \u001b[38;5;28;01mreturn\u001b[39;00m \u001b[43mf\u001b[49m\u001b[43m(\u001b[49m\u001b[38;5;241;43m*\u001b[39;49m\u001b[43margs\u001b[49m\u001b[43m)\u001b[49m\n",
      "File \u001b[0;32m~/miniforge3/envs/skin/lib/python3.10/site-packages/torch/autograd/function.py:598\u001b[0m, in \u001b[0;36mFunction.apply\u001b[0;34m(cls, *args, **kwargs)\u001b[0m\n\u001b[1;32m    595\u001b[0m \u001b[38;5;28;01mif\u001b[39;00m \u001b[38;5;129;01mnot\u001b[39;00m torch\u001b[38;5;241m.\u001b[39m_C\u001b[38;5;241m.\u001b[39m_are_functorch_transforms_active():\n\u001b[1;32m    596\u001b[0m     \u001b[38;5;66;03m# See NOTE: [functorch vjp and autograd interaction]\u001b[39;00m\n\u001b[1;32m    597\u001b[0m     args \u001b[38;5;241m=\u001b[39m _functorch\u001b[38;5;241m.\u001b[39mutils\u001b[38;5;241m.\u001b[39munwrap_dead_wrappers(args)\n\u001b[0;32m--> 598\u001b[0m     \u001b[38;5;28;01mreturn\u001b[39;00m \u001b[38;5;28;43msuper\u001b[39;49m\u001b[43m(\u001b[49m\u001b[43m)\u001b[49m\u001b[38;5;241;43m.\u001b[39;49m\u001b[43mapply\u001b[49m\u001b[43m(\u001b[49m\u001b[38;5;241;43m*\u001b[39;49m\u001b[43margs\u001b[49m\u001b[43m,\u001b[49m\u001b[43m \u001b[49m\u001b[38;5;241;43m*\u001b[39;49m\u001b[38;5;241;43m*\u001b[39;49m\u001b[43mkwargs\u001b[49m\u001b[43m)\u001b[49m  \u001b[38;5;66;03m# type: ignore[misc]\u001b[39;00m\n\u001b[1;32m    600\u001b[0m \u001b[38;5;28;01mif\u001b[39;00m \u001b[38;5;129;01mnot\u001b[39;00m is_setup_ctx_defined:\n\u001b[1;32m    601\u001b[0m     \u001b[38;5;28;01mraise\u001b[39;00m \u001b[38;5;167;01mRuntimeError\u001b[39;00m(\n\u001b[1;32m    602\u001b[0m         \u001b[38;5;124m\"\u001b[39m\u001b[38;5;124mIn order to use an autograd.Function with functorch transforms \u001b[39m\u001b[38;5;124m\"\u001b[39m\n\u001b[1;32m    603\u001b[0m         \u001b[38;5;124m\"\u001b[39m\u001b[38;5;124m(vmap, grad, jvp, jacrev, ...), it must override the setup_context \u001b[39m\u001b[38;5;124m\"\u001b[39m\n\u001b[1;32m    604\u001b[0m         \u001b[38;5;124m\"\u001b[39m\u001b[38;5;124mstaticmethod. For more details, please see \u001b[39m\u001b[38;5;124m\"\u001b[39m\n\u001b[1;32m    605\u001b[0m         \u001b[38;5;124m\"\u001b[39m\u001b[38;5;124mhttps://pytorch.org/docs/master/notes/extending.func.html\u001b[39m\u001b[38;5;124m\"\u001b[39m\n\u001b[1;32m    606\u001b[0m     )\n",
      "File \u001b[0;32m~/miniforge3/envs/skin/lib/python3.10/site-packages/torch/_functorch/_aot_autograd/jit_compile_runtime_wrappers.py:505\u001b[0m, in \u001b[0;36maot_dispatch_autograd.<locals>.CompiledFunction.forward\u001b[0;34m(ctx, *deduped_flat_tensor_args)\u001b[0m\n\u001b[1;32m    498\u001b[0m         args \u001b[38;5;241m=\u001b[39m (\u001b[38;5;241m*\u001b[39margs, seed, offset)\n\u001b[1;32m    499\u001b[0m     \u001b[38;5;66;03m# There is a pretty complicated calling convention around what the compiled fw returns.\u001b[39;00m\n\u001b[1;32m    500\u001b[0m     \u001b[38;5;66;03m# The full list of outputs and their relative order is:\u001b[39;00m\n\u001b[1;32m    501\u001b[0m     \u001b[38;5;66;03m# (*tokens, *mutated_inputs, *fw_outs, *fw_intermediate_bases, *saved_tensors, *saved_symints)\u001b[39;00m\n\u001b[1;32m    502\u001b[0m     \u001b[38;5;66;03m# - Note that in the synthetic bases case, mutated_inputs will correspond to an updated version\u001b[39;00m\n\u001b[1;32m    503\u001b[0m     \u001b[38;5;66;03m#   of the original view, and not the synthetic base\u001b[39;00m\n\u001b[0;32m--> 505\u001b[0m     fw_outs \u001b[38;5;241m=\u001b[39m \u001b[43mcall_func_at_runtime_with_args\u001b[49m\u001b[43m(\u001b[49m\n\u001b[1;32m    506\u001b[0m \u001b[43m        \u001b[49m\u001b[43mCompiledFunction\u001b[49m\u001b[38;5;241;43m.\u001b[39;49m\u001b[43mcompiled_fw\u001b[49m\u001b[43m,\u001b[49m\n\u001b[1;32m    507\u001b[0m \u001b[43m        \u001b[49m\u001b[43margs\u001b[49m\u001b[43m,\u001b[49m\n\u001b[1;32m    508\u001b[0m \u001b[43m        \u001b[49m\u001b[43mdisable_amp\u001b[49m\u001b[38;5;241;43m=\u001b[39;49m\u001b[43mdisable_amp\u001b[49m\u001b[43m,\u001b[49m\n\u001b[1;32m    509\u001b[0m \u001b[43m    \u001b[49m\u001b[43m)\u001b[49m\n\u001b[1;32m    510\u001b[0m \u001b[38;5;28;01melse\u001b[39;00m:\n\u001b[1;32m    511\u001b[0m     \u001b[38;5;28;01mnonlocal\u001b[39;00m fakified_out\n",
      "File \u001b[0;32m~/miniforge3/envs/skin/lib/python3.10/site-packages/torch/_functorch/_aot_autograd/utils.py:113\u001b[0m, in \u001b[0;36mcall_func_at_runtime_with_args\u001b[0;34m(f, args, steal_args, disable_amp)\u001b[0m\n\u001b[1;32m    111\u001b[0m \u001b[38;5;28;01mwith\u001b[39;00m context():\n\u001b[1;32m    112\u001b[0m     \u001b[38;5;28;01mif\u001b[39;00m \u001b[38;5;28mhasattr\u001b[39m(f, \u001b[38;5;124m\"\u001b[39m\u001b[38;5;124m_boxed_call\u001b[39m\u001b[38;5;124m\"\u001b[39m):\n\u001b[0;32m--> 113\u001b[0m         out \u001b[38;5;241m=\u001b[39m normalize_as_list(\u001b[43mf\u001b[49m\u001b[43m(\u001b[49m\u001b[43margs\u001b[49m\u001b[43m)\u001b[49m)\n\u001b[1;32m    114\u001b[0m     \u001b[38;5;28;01melse\u001b[39;00m:\n\u001b[1;32m    115\u001b[0m         \u001b[38;5;66;03m# TODO: Please remove soon\u001b[39;00m\n\u001b[1;32m    116\u001b[0m         \u001b[38;5;66;03m# https://github.com/pytorch/pytorch/pull/83137#issuecomment-1211320670\u001b[39;00m\n\u001b[1;32m    117\u001b[0m         warnings\u001b[38;5;241m.\u001b[39mwarn(\n\u001b[1;32m    118\u001b[0m             \u001b[38;5;124m\"\u001b[39m\u001b[38;5;124mYour compiler for AOTAutograd is returning a function that doesn\u001b[39m\u001b[38;5;124m'\u001b[39m\u001b[38;5;124mt take boxed arguments. \u001b[39m\u001b[38;5;124m\"\u001b[39m\n\u001b[1;32m    119\u001b[0m             \u001b[38;5;124m\"\u001b[39m\u001b[38;5;124mPlease wrap it with functorch.compile.make_boxed_func or handle the boxed arguments yourself. \u001b[39m\u001b[38;5;124m\"\u001b[39m\n\u001b[1;32m    120\u001b[0m             \u001b[38;5;124m\"\u001b[39m\u001b[38;5;124mSee https://github.com/pytorch/pytorch/pull/83137#issuecomment-1211320670 for rationale.\u001b[39m\u001b[38;5;124m\"\u001b[39m\n\u001b[1;32m    121\u001b[0m         )\n",
      "File \u001b[0;32m~/miniforge3/envs/skin/lib/python3.10/site-packages/torch/_inductor/codecache.py:906\u001b[0m, in \u001b[0;36mCompiledFxGraph.__call__\u001b[0;34m(self, inputs)\u001b[0m\n\u001b[1;32m    905\u001b[0m \u001b[38;5;28;01mdef\u001b[39;00m \u001b[38;5;21m__call__\u001b[39m(\u001b[38;5;28mself\u001b[39m, inputs: List[Any]) \u001b[38;5;241m-\u001b[39m\u001b[38;5;241m>\u001b[39m Any:\n\u001b[0;32m--> 906\u001b[0m     \u001b[38;5;28;01mreturn\u001b[39;00m \u001b[38;5;28;43mself\u001b[39;49m\u001b[38;5;241;43m.\u001b[39;49m\u001b[43mget_current_callable\u001b[49m\u001b[43m(\u001b[49m\u001b[43m)\u001b[49m\u001b[43m(\u001b[49m\u001b[43minputs\u001b[49m\u001b[43m)\u001b[49m\n",
      "File \u001b[0;32m~/miniforge3/envs/skin/lib/python3.10/site-packages/torch/_inductor/compile_fx.py:784\u001b[0m, in \u001b[0;36malign_inputs_from_check_idxs.<locals>.run\u001b[0;34m(new_inputs)\u001b[0m\n\u001b[1;32m    782\u001b[0m \u001b[38;5;28;01mdef\u001b[39;00m \u001b[38;5;21mrun\u001b[39m(new_inputs):\n\u001b[1;32m    783\u001b[0m     copy_misaligned_inputs(new_inputs, inputs_to_check)\n\u001b[0;32m--> 784\u001b[0m     \u001b[38;5;28;01mreturn\u001b[39;00m \u001b[43mmodel\u001b[49m\u001b[43m(\u001b[49m\u001b[43mnew_inputs\u001b[49m\u001b[43m)\u001b[49m\n",
      "File \u001b[0;32m~/miniforge3/envs/skin/lib/python3.10/site-packages/torch/_inductor/codecache.py:934\u001b[0m, in \u001b[0;36m_run_from_cache\u001b[0;34m(compiled_graph, inputs)\u001b[0m\n\u001b[1;32m    926\u001b[0m     \u001b[38;5;28;01massert\u001b[39;00m compiled_graph\u001b[38;5;241m.\u001b[39martifact_path\n\u001b[1;32m    927\u001b[0m     compiled_graph\u001b[38;5;241m.\u001b[39mcompiled_artifact \u001b[38;5;241m=\u001b[39m PyCodeCache\u001b[38;5;241m.\u001b[39mload_by_key_path(\n\u001b[1;32m    928\u001b[0m         compiled_graph\u001b[38;5;241m.\u001b[39mcache_key,\n\u001b[1;32m    929\u001b[0m         compiled_graph\u001b[38;5;241m.\u001b[39martifact_path,\n\u001b[1;32m    930\u001b[0m         compiled_graph\u001b[38;5;241m.\u001b[39mcache_linemap,\n\u001b[1;32m    931\u001b[0m         compiled_graph\u001b[38;5;241m.\u001b[39mconstants,\n\u001b[1;32m    932\u001b[0m     )\u001b[38;5;241m.\u001b[39mcall\n\u001b[0;32m--> 934\u001b[0m \u001b[38;5;28;01mreturn\u001b[39;00m \u001b[43mcompiled_graph\u001b[49m\u001b[38;5;241;43m.\u001b[39;49m\u001b[43mcompiled_artifact\u001b[49m\u001b[43m(\u001b[49m\u001b[43minputs\u001b[49m\u001b[43m)\u001b[49m\n",
      "File \u001b[0;32m/tmp/torchinductor_ubuntu/xn/cxnjkyw2j2p5vywm7x4yxn5czpntj7jpwbjwiv2epjp3tdzw537s.py:3191\u001b[0m, in \u001b[0;36mcall\u001b[0;34m(args)\u001b[0m\n\u001b[1;32m   3189\u001b[0m \u001b[38;5;66;03m# Source Nodes: [x_7], Original ATen: [aten.native_layer_norm, aten.native_layer_norm_backward]\u001b[39;00m\n\u001b[1;32m   3190\u001b[0m triton_per_fused_native_layer_norm_native_layer_norm_backward_23\u001b[38;5;241m.\u001b[39mrun(primals_10, buf90, buf92, buf80, buf93, buf94, buf271, \u001b[38;5;241m100352\u001b[39m, \u001b[38;5;241m192\u001b[39m, grid\u001b[38;5;241m=\u001b[39mgrid(\u001b[38;5;241m100352\u001b[39m), stream\u001b[38;5;241m=\u001b[39mstream0)\n\u001b[0;32m-> 3191\u001b[0m buf96 \u001b[38;5;241m=\u001b[39m \u001b[43mempty_strided_cuda\u001b[49m\u001b[43m(\u001b[49m\u001b[43m(\u001b[49m\u001b[38;5;241;43m128\u001b[39;49m\u001b[43m,\u001b[49m\u001b[43m \u001b[49m\u001b[38;5;241;43m28\u001b[39;49m\u001b[43m,\u001b[49m\u001b[43m \u001b[49m\u001b[38;5;241;43m28\u001b[39;49m\u001b[43m,\u001b[49m\u001b[43m \u001b[49m\u001b[38;5;241;43m192\u001b[39;49m\u001b[43m)\u001b[49m\u001b[43m,\u001b[49m\u001b[43m \u001b[49m\u001b[43m(\u001b[49m\u001b[38;5;241;43m150528\u001b[39;49m\u001b[43m,\u001b[49m\u001b[43m \u001b[49m\u001b[38;5;241;43m1\u001b[39;49m\u001b[43m,\u001b[49m\u001b[43m \u001b[49m\u001b[38;5;241;43m5376\u001b[39;49m\u001b[43m,\u001b[49m\u001b[43m \u001b[49m\u001b[38;5;241;43m28\u001b[39;49m\u001b[43m)\u001b[49m\u001b[43m,\u001b[49m\u001b[43m \u001b[49m\u001b[43mtorch\u001b[49m\u001b[38;5;241;43m.\u001b[39;49m\u001b[43mfloat32\u001b[49m\u001b[43m)\u001b[49m\n\u001b[1;32m   3192\u001b[0m buf97 \u001b[38;5;241m=\u001b[39m empty_strided_cuda((\u001b[38;5;241m128\u001b[39m, \u001b[38;5;241m28\u001b[39m, \u001b[38;5;241m28\u001b[39m, \u001b[38;5;241m192\u001b[39m), (\u001b[38;5;241m150528\u001b[39m, \u001b[38;5;241m5376\u001b[39m, \u001b[38;5;241m192\u001b[39m, \u001b[38;5;241m1\u001b[39m), torch\u001b[38;5;241m.\u001b[39mfloat32)\n\u001b[1;32m   3193\u001b[0m \u001b[38;5;66;03m# Source Nodes: [x_7], Original ATen: [aten.native_layer_norm]\u001b[39;00m\n",
      "\u001b[0;31mOutOfMemoryError\u001b[0m: CUDA out of memory. Tried to allocate 74.00 MiB. GPU "
     ]
    }
   ],
   "source": [
    "run = wandb.init(project=\"isic_lesions_24\", job_type=\"pretrain\")\n",
    "\n",
    "best_epoch_auroc = -np.inf\n",
    "best_valid_loss = np.inf\n",
    "early_stopping_patience = 4\n",
    "epochs_no_improve = 0\n",
    "\n",
    "for epoch in range(10):\n",
    "    model_ft, epoch_loss = train_model(\n",
    "        model_ft, train_dataloader, criterions, optimizer_ft\n",
    "    )\n",
    "    model_ft, valid_loss = validate_model(\n",
    "        model_ft, valid_dataloader, criterions, optimizer_ft\n",
    "    )\n",
    "\n",
    "    print(\n",
    "        f\"Epoch: {epoch} | Train Loss: {epoch_loss} | Valid Loss: {valid_loss}\\n\"\n",
    "    )\n",
    "    wandb.log(\n",
    "        {\n",
    "            \"epoch\": epoch,\n",
    "            \"epoch_loss\": epoch_loss,\n",
    "            \"epoch_val_loss\": valid_loss,\n",
    "        }\n",
    "    )\n",
    "\n",
    "    # earlystopping dependent on validation loss\n",
    "    if best_valid_loss >= valid_loss:\n",
    "        print(f\"{b_}Validation Loss Improved ({best_valid_loss} ---> {valid_loss}){sr_}\")\n",
    "        \n",
    "        # checkpointing\n",
    "        best_model_wts = copy.deepcopy(model_ft.state_dict())\n",
    "        PATH = \"../models/pretrain_valid_loss{:.4f}_epoch{:.0f}.bin\".format(valid_loss, epoch)\n",
    "        torch.save(model_ft.state_dict(), PATH)\n",
    "        # Save a model file from the current directory\n",
    "        print(f\"{b_}Model Saved{sr_}\")\n",
    "        best_valid_loss = valid_loss\n",
    "        epochs_no_improve = 0\n",
    "    else:\n",
    "        epochs_no_improve += 1\n",
    "\n",
    "    if epochs_no_improve >= early_stopping_patience:\n",
    "        print(\n",
    "            f\"{b_}Early stopping triggered after {epochs_no_improve} epochs with no improvement.{sr_}\"\n",
    "        )\n",
    "        break"
   ]
  },
  {
   "cell_type": "code",
   "execution_count": null,
   "metadata": {},
   "outputs": [],
   "source": []
  }
 ],
 "metadata": {
  "kernelspec": {
   "display_name": "skin",
   "language": "python",
   "name": "python3"
  },
  "language_info": {
   "codemirror_mode": {
    "name": "ipython",
    "version": 3
   },
   "file_extension": ".py",
   "mimetype": "text/x-python",
   "name": "python",
   "nbconvert_exporter": "python",
   "pygments_lexer": "ipython3",
   "version": "3.10.12"
  }
 },
 "nbformat": 4,
 "nbformat_minor": 2
}
