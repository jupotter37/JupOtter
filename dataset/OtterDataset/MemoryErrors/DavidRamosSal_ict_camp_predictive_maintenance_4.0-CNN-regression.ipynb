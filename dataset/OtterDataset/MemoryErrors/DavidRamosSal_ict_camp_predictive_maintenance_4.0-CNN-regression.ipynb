{
 "cells": [
  {
   "cell_type": "markdown",
   "metadata": {},
   "source": [
    "# Regression using a CNN\n"
   ]
  },
  {
   "cell_type": "markdown",
   "metadata": {},
   "source": [
    "Deep learning models can be a good alternative to traditional machine learning models in this problem because they can do feature selection automatically while learning the time-dependency of the data.\n"
   ]
  },
  {
   "cell_type": "markdown",
   "metadata": {},
   "source": [
    "For this project we will use Pytorch due to its flexibility. The idea is to create a 1D CNN network that works as follows:\n"
   ]
  },
  {
   "cell_type": "markdown",
   "metadata": {},
   "source": [
    "<img src=\"./figures/CNN_methods.png\" alt=\"deep learning architecture\" width=\"600\"/>\n"
   ]
  },
  {
   "cell_type": "code",
   "execution_count": 7,
   "metadata": {},
   "outputs": [],
   "source": [
    "import os\n",
    "import numpy as np\n",
    "import pandas as pd\n",
    "import torch\n",
    "import torch.nn as nn\n",
    "import torch.optim as optim\n",
    "from torch.utils.data import Dataset, DataLoader\n",
    "from sklearn.preprocessing import MinMaxScaler, StandardScaler\n",
    "import time\n",
    "import matplotlib.pyplot as plt"
   ]
  },
  {
   "cell_type": "code",
   "execution_count": 3,
   "metadata": {},
   "outputs": [],
   "source": [
    "class CNN(nn.Module):\n",
    "    def __init__(self, input_channels, cnn_filters) -> None:\n",
    "        super().__init__()\n",
    "        self.features = nn.Sequential(\n",
    "            nn.Conv1d(input_channels, cnn_filters, kernel_size=3),\n",
    "            nn.ReLU(),\n",
    "            nn.Conv1d(cnn_filters, cnn_filters, kernel_size=3),\n",
    "            nn.ReLU(),\n",
    "            nn.MaxPool1d(kernel_size=2),\n",
    "            nn.Conv1d(cnn_filters, out_channels=cnn_filters, kernel_size=3),\n",
    "            nn.ReLU(),\n",
    "            nn.MaxPool1d(kernel_size=2),\n",
    "            nn.Dropout(p=0.5),\n",
    "            nn.Conv1d(cnn_filters, 3, kernel_size=3),\n",
    "            nn.AdaptiveAvgPool1d(1),\n",
    "        )\n",
    "\n",
    "    def forward(self, x):\n",
    "        x = self.features(x)\n",
    "        return x.squeeze(-1)"
   ]
  },
  {
   "cell_type": "code",
   "execution_count": null,
   "metadata": {},
   "outputs": [],
   "source": [
    "class CNCDataset(Dataset):\n",
    "    def __init__(self, data_dir, wear_file, scaler=None, max_seq_length=None):\n",
    "        self.data_dir = data_dir\n",
    "        self.scaler = scaler\n",
    "        self.max_seq_length = max_seq_length\n",
    "        self.wear_data = pd.read_csv(wear_file).drop(\"cut\", axis=1).values\n",
    "        self.signal_files = sorted(\n",
    "            [f for f in os.listdir(data_dir) if f.endswith(\".csv\")]\n",
    "        )\n",
    "\n",
    "    def __len__(self):\n",
    "        return len(self.signal_files)\n",
    "\n",
    "    def __getitem__(self, idx):\n",
    "        signal_file = os.path.join(self.data_dir, self.signal_files[idx])\n",
    "        signal_df = pd.read_csv(signal_file)\n",
    "        signals = signal_df.values\n",
    "\n",
    "        if self.scaler:\n",
    "            signals = self.scaler.transform(signals)\n",
    "\n",
    "        signals_tensor = torch.tensor(signals, dtype=torch.float32).permute(1, 0)\n",
    "        # Padding to max sequence length\n",
    "        if self.max_seq_length is not None:\n",
    "            padding_size = self.max_seq_length - signals_tensor.shape[1]\n",
    "            if padding_size > 0:\n",
    "                signals_tensor = torch.nn.functional.pad(\n",
    "                    signals_tensor, (0, padding_size)\n",
    "                )\n",
    "\n",
    "        wear_target = torch.tensor(self.wear_data[idx], dtype=torch.float32).squeeze()\n",
    "\n",
    "        return {\n",
    "            \"signals\": signals_tensor,\n",
    "            \"wear_target\": wear_target,\n",
    "        }\n",
    "\n",
    "\n",
    "def load_and_preprocess_signals(data_dir):\n",
    "    all_signals = []\n",
    "    max_seq_length = 0\n",
    "    for file in os.listdir(data_dir):\n",
    "        if file.endswith(\".csv\"):\n",
    "            signal_data = pd.read_csv(os.path.join(data_dir, file)).values\n",
    "            all_signals.append(signal_data)\n",
    "            max_seq_length = max(max_seq_length, signal_data.shape[0])\n",
    "    all_signals = np.vstack(all_signals)\n",
    "    return all_signals, max_seq_length"
   ]
  },
  {
   "cell_type": "code",
   "execution_count": null,
   "metadata": {},
   "outputs": [],
   "source": [
    "def train_one_epoch(\n",
    "    model, data_loader, criterion, optimizer, device, accumulation_steps=4\n",
    "):\n",
    "    model.train()\n",
    "    epoch_loss = 0.0\n",
    "\n",
    "    for i, batch in enumerate(data_loader):\n",
    "        optimizer.zero_grad()\n",
    "\n",
    "        signals = batch[\"signals\"].to(device)\n",
    "        wear_target = batch[\"wear_target\"].to(device)\n",
    "\n",
    "        output = model(signals)\n",
    "\n",
    "        loss = criterion(output, wear_target)\n",
    "        loss.backward()\n",
    "\n",
    "        optimizer.step()\n",
    "        epoch_loss += loss.item()\n",
    "\n",
    "    return epoch_loss / len(data_loader)\n",
    "\n",
    "\n",
    "def validate_one_epoch(model, data_loader, criterion, device):\n",
    "    model.eval()\n",
    "    epoch_loss = 0.0\n",
    "\n",
    "    with torch.no_grad():\n",
    "        for batch in data_loader:\n",
    "            signals = batch[\"signals\"].to(device)\n",
    "            wear_target = batch[\"wear_target\"].to(device)\n",
    "\n",
    "            output = model(signals)\n",
    "\n",
    "            loss = criterion(output, wear_target)\n",
    "\n",
    "            epoch_loss += loss.item()\n",
    "\n",
    "    return epoch_loss / len(data_loader)\n",
    "\n",
    "\n",
    "def save_model(model, epoch, path=\"model.pth\"):\n",
    "    torch.save({\"epoch\": epoch, \"model_state_dict\": model.state_dict()}, path)\n"
   ]
  },
  {
   "cell_type": "code",
   "execution_count": 8,
   "metadata": {},
   "outputs": [],
   "source": [
    "# Set up data, model, optimizer, and loss\n",
    "train_data_dir = \"../data/raw/c1/c1\"\n",
    "train_wear_file = \"../data/raw/c1/c1_wear.csv\"\n",
    "valid_data_dir = \"../data/raw/c4/c4\"\n",
    "valid_wear_file = \"../data/raw/c4/c4_wear.csv\"\n",
    "\n",
    "\n",
    "train_signals, max_seq_length_train = load_and_preprocess_signals(train_data_dir)\n",
    "# scaler = MinMaxScaler(feature_range=(0, 1)) # StanddardScaler worked better here\n",
    "scaler = StandardScaler()\n",
    "scaler.fit(train_signals)\n",
    "\n",
    "train_dataset = CNCDataset(\n",
    "    data_dir=train_data_dir,\n",
    "    wear_file=train_wear_file,\n",
    "    scaler=scaler,\n",
    "    max_seq_length=max_seq_length_train,\n",
    ")\n",
    "valid_dataset = CNCDataset(\n",
    "    data_dir=valid_data_dir,\n",
    "    wear_file=valid_wear_file,\n",
    "    scaler=scaler,\n",
    "    max_seq_length=max_seq_length_train,\n",
    ")\n"
   ]
  },
  {
   "cell_type": "code",
   "execution_count": 9,
   "metadata": {},
   "outputs": [],
   "source": [
    "train_loader = DataLoader(train_dataset, batch_size=5, shuffle=False)\n",
    "valid_loader = DataLoader(valid_dataset, batch_size=5, shuffle=False)"
   ]
  },
  {
   "cell_type": "code",
   "execution_count": 7,
   "metadata": {},
   "outputs": [
    {
     "ename": "OutOfMemoryError",
     "evalue": "CUDA out of memory. Tried to allocate 312.00 MiB (GPU 0; 5.61 GiB total capacity; 4.44 GiB already allocated; 118.00 MiB free; 4.72 GiB reserved in total by PyTorch) If reserved memory is >> allocated memory try setting max_split_size_mb to avoid fragmentation.  See documentation for Memory Management and PYTORCH_CUDA_ALLOC_CONF",
     "output_type": "error",
     "traceback": [
      "\u001b[0;31m---------------------------------------------------------------------------\u001b[0m",
      "\u001b[0;31mOutOfMemoryError\u001b[0m                          Traceback (most recent call last)",
      "Cell \u001b[0;32mIn[7], line 13\u001b[0m\n\u001b[1;32m     10\u001b[0m \u001b[38;5;28;01mfor\u001b[39;00m epoch \u001b[38;5;129;01min\u001b[39;00m \u001b[38;5;28mrange\u001b[39m(num_epochs):\n\u001b[1;32m     11\u001b[0m     start_time \u001b[38;5;241m=\u001b[39m time\u001b[38;5;241m.\u001b[39mtime()\n\u001b[0;32m---> 13\u001b[0m     train_loss \u001b[38;5;241m=\u001b[39m \u001b[43mtrain_one_epoch\u001b[49m\u001b[43m(\u001b[49m\u001b[43mmodel\u001b[49m\u001b[43m,\u001b[49m\u001b[43m \u001b[49m\u001b[43mtrain_loader\u001b[49m\u001b[43m,\u001b[49m\u001b[43m \u001b[49m\u001b[43mcriterion\u001b[49m\u001b[43m,\u001b[49m\u001b[43m \u001b[49m\u001b[43moptimizer\u001b[49m\u001b[43m,\u001b[49m\u001b[43m \u001b[49m\u001b[43mdevice\u001b[49m\u001b[43m)\u001b[49m\n\u001b[1;32m     14\u001b[0m     valid_loss \u001b[38;5;241m=\u001b[39m validate_one_epoch(model, valid_loader, criterion, device)\n\u001b[1;32m     16\u001b[0m     scheduler\u001b[38;5;241m.\u001b[39mstep(valid_loss)\n",
      "Cell \u001b[0;32mIn[4], line 17\u001b[0m, in \u001b[0;36mtrain_one_epoch\u001b[0;34m(model, data_loader, criterion, optimizer, device, accumulation_steps)\u001b[0m\n\u001b[1;32m     14\u001b[0m output \u001b[38;5;241m=\u001b[39m model(signals)\n\u001b[1;32m     16\u001b[0m loss \u001b[38;5;241m=\u001b[39m criterion(output, wear_target)\n\u001b[0;32m---> 17\u001b[0m \u001b[43mloss\u001b[49m\u001b[38;5;241;43m.\u001b[39;49m\u001b[43mbackward\u001b[49m\u001b[43m(\u001b[49m\u001b[43m)\u001b[49m\n\u001b[1;32m     20\u001b[0m optimizer\u001b[38;5;241m.\u001b[39mstep()\n\u001b[1;32m     21\u001b[0m epoch_loss \u001b[38;5;241m+\u001b[39m\u001b[38;5;241m=\u001b[39m loss\u001b[38;5;241m.\u001b[39mitem()\n",
      "File \u001b[0;32m~/Documents/projects/ict_camp_predictive_maintenance/.venv/lib/python3.11/site-packages/torch/_tensor.py:487\u001b[0m, in \u001b[0;36mTensor.backward\u001b[0;34m(self, gradient, retain_graph, create_graph, inputs)\u001b[0m\n\u001b[1;32m    477\u001b[0m \u001b[38;5;28;01mif\u001b[39;00m has_torch_function_unary(\u001b[38;5;28mself\u001b[39m):\n\u001b[1;32m    478\u001b[0m     \u001b[38;5;28;01mreturn\u001b[39;00m handle_torch_function(\n\u001b[1;32m    479\u001b[0m         Tensor\u001b[38;5;241m.\u001b[39mbackward,\n\u001b[1;32m    480\u001b[0m         (\u001b[38;5;28mself\u001b[39m,),\n\u001b[0;32m   (...)\u001b[0m\n\u001b[1;32m    485\u001b[0m         inputs\u001b[38;5;241m=\u001b[39minputs,\n\u001b[1;32m    486\u001b[0m     )\n\u001b[0;32m--> 487\u001b[0m \u001b[43mtorch\u001b[49m\u001b[38;5;241;43m.\u001b[39;49m\u001b[43mautograd\u001b[49m\u001b[38;5;241;43m.\u001b[39;49m\u001b[43mbackward\u001b[49m\u001b[43m(\u001b[49m\n\u001b[1;32m    488\u001b[0m \u001b[43m    \u001b[49m\u001b[38;5;28;43mself\u001b[39;49m\u001b[43m,\u001b[49m\u001b[43m \u001b[49m\u001b[43mgradient\u001b[49m\u001b[43m,\u001b[49m\u001b[43m \u001b[49m\u001b[43mretain_graph\u001b[49m\u001b[43m,\u001b[49m\u001b[43m \u001b[49m\u001b[43mcreate_graph\u001b[49m\u001b[43m,\u001b[49m\u001b[43m \u001b[49m\u001b[43minputs\u001b[49m\u001b[38;5;241;43m=\u001b[39;49m\u001b[43minputs\u001b[49m\n\u001b[1;32m    489\u001b[0m \u001b[43m\u001b[49m\u001b[43m)\u001b[49m\n",
      "File \u001b[0;32m~/Documents/projects/ict_camp_predictive_maintenance/.venv/lib/python3.11/site-packages/torch/autograd/__init__.py:200\u001b[0m, in \u001b[0;36mbackward\u001b[0;34m(tensors, grad_tensors, retain_graph, create_graph, grad_variables, inputs)\u001b[0m\n\u001b[1;32m    195\u001b[0m     retain_graph \u001b[38;5;241m=\u001b[39m create_graph\n\u001b[1;32m    197\u001b[0m \u001b[38;5;66;03m# The reason we repeat same the comment below is that\u001b[39;00m\n\u001b[1;32m    198\u001b[0m \u001b[38;5;66;03m# some Python versions print out the first line of a multi-line function\u001b[39;00m\n\u001b[1;32m    199\u001b[0m \u001b[38;5;66;03m# calls in the traceback and some print out the last line\u001b[39;00m\n\u001b[0;32m--> 200\u001b[0m \u001b[43mVariable\u001b[49m\u001b[38;5;241;43m.\u001b[39;49m\u001b[43m_execution_engine\u001b[49m\u001b[38;5;241;43m.\u001b[39;49m\u001b[43mrun_backward\u001b[49m\u001b[43m(\u001b[49m\u001b[43m  \u001b[49m\u001b[38;5;66;43;03m# Calls into the C++ engine to run the backward pass\u001b[39;49;00m\n\u001b[1;32m    201\u001b[0m \u001b[43m    \u001b[49m\u001b[43mtensors\u001b[49m\u001b[43m,\u001b[49m\u001b[43m \u001b[49m\u001b[43mgrad_tensors_\u001b[49m\u001b[43m,\u001b[49m\u001b[43m \u001b[49m\u001b[43mretain_graph\u001b[49m\u001b[43m,\u001b[49m\u001b[43m \u001b[49m\u001b[43mcreate_graph\u001b[49m\u001b[43m,\u001b[49m\u001b[43m \u001b[49m\u001b[43minputs\u001b[49m\u001b[43m,\u001b[49m\n\u001b[1;32m    202\u001b[0m \u001b[43m    \u001b[49m\u001b[43mallow_unreachable\u001b[49m\u001b[38;5;241;43m=\u001b[39;49m\u001b[38;5;28;43;01mTrue\u001b[39;49;00m\u001b[43m,\u001b[49m\u001b[43m \u001b[49m\u001b[43maccumulate_grad\u001b[49m\u001b[38;5;241;43m=\u001b[39;49m\u001b[38;5;28;43;01mTrue\u001b[39;49;00m\u001b[43m)\u001b[49m\n",
      "\u001b[0;31mOutOfMemoryError\u001b[0m: CUDA out of memory. Tried to allocate 312.00 MiB (GPU 0; 5.61 GiB total capacity; 4.44 GiB already allocated; 118.00 MiB free; 4.72 GiB reserved in total by PyTorch) If reserved memory is >> allocated memory try setting max_split_size_mb to avoid fragmentation.  See documentation for Memory Management and PYTORCH_CUDA_ALLOC_CONF"
     ]
    }
   ],
   "source": [
    "device = torch.device(\"cuda\" if torch.cuda.is_available() else \"cpu\")\n",
    "model = CNN(input_channels=7, cnn_filters=128).to(device)\n",
    "optimizer = optim.Adam(model.parameters(), lr=0.002)\n",
    "scheduler = torch.optim.lr_scheduler.ReduceLROnPlateau(\n",
    "    optimizer, mode=\"min\", factor=0.8, patience=10, verbose=True\n",
    ")\n",
    "criterion = nn.MSELoss()\n",
    "\n",
    "num_epochs = 500\n",
    "save_interval = 10\n",
    "\n",
    "for epoch in range(num_epochs):\n",
    "    start_time = time.time()\n",
    "\n",
    "    train_loss = train_one_epoch(model, train_loader, criterion, optimizer, device)\n",
    "    valid_loss = validate_one_epoch(model, valid_loader, criterion, device)\n",
    "\n",
    "    scheduler.step(valid_loss)\n",
    "\n",
    "    # Save the model only every 50 epochs\n",
    "    if (epoch + 1) % save_interval == 0:\n",
    "        save_path = f\"model_epoch_{epoch+1}.pth\"\n",
    "        save_model(model, epoch, save_path)\n",
    "        print(f\"Model saved at epoch {epoch+1}\")\n",
    "\n",
    "    epoch_duration = time.time() - start_time\n",
    "    minutes, seconds = divmod(epoch_duration, 60)\n",
    "\n",
    "    print(\n",
    "        f\"Epoch {epoch+1}/{num_epochs}, Train Loss: {train_loss:.4f}, Validation Loss: {valid_loss:.4f}, Learning Rate: {optimizer.param_groups[0]['lr']:.3f}, Time: {int(minutes)} min {int(seconds)} sec\"\n",
    "    )"
   ]
  },
  {
   "cell_type": "markdown",
   "metadata": {},
   "source": [
    "Training had to be run from the command-line with everything else closed to save gpu memory\n"
   ]
  },
  {
   "cell_type": "markdown",
   "metadata": {},
   "source": [
    "## Evaluating performance\n"
   ]
  },
  {
   "cell_type": "markdown",
   "metadata": {},
   "source": [
    "Loading the model at the last epoch of the training process\n"
   ]
  },
  {
   "cell_type": "code",
   "execution_count": null,
   "metadata": {},
   "outputs": [
    {
     "name": "stdout",
     "output_type": "stream",
     "text": [
      "Loaded model from model_epoch_500.pth (Epoch 499)\n"
     ]
    }
   ],
   "source": [
    "def load_latest_model(model, model_dir, device):\n",
    "    model_files = [f for f in os.listdir(model_dir) if f.endswith(\".pth\")]\n",
    "\n",
    "    if not model_files:\n",
    "        raise ValueError(\"No model files found in the directory!\")\n",
    "\n",
    "    # Extract the epoch number from the file names (assuming format 'model_epoch_X.pth')\n",
    "    model_epochs = [int(f.split(\"_epoch_\")[1].split(\".\")[0]) for f in model_files]\n",
    "\n",
    "    latest_epoch = max(model_epochs)\n",
    "    latest_model_file = f\"model_epoch_{latest_epoch}.pth\"\n",
    "\n",
    "    model_path = os.path.join(model_dir, latest_model_file)\n",
    "    checkpoint = torch.load(model_path, map_location=device)\n",
    "\n",
    "    model.load_state_dict(checkpoint[\"model_state_dict\"])\n",
    "\n",
    "    print(f\"Loaded model from {latest_model_file} (Epoch {checkpoint['epoch']})\")\n",
    "\n",
    "    return model\n",
    "\n",
    "\n",
    "model_dir = (\n",
    "    \"./weights/lr0.002p0.5/\"  # Replace with the directory containing the saved models\n",
    ")\n",
    "device = torch.device(\"cuda\" if torch.cuda.is_available() else \"cpu\")\n",
    "\n",
    "model = CNN(input_channels=7, cnn_filters=128).to(device)\n",
    "\n",
    "model = load_latest_model(model, model_dir, device)"
   ]
  },
  {
   "cell_type": "code",
   "execution_count": null,
   "metadata": {},
   "outputs": [],
   "source": [
    "def run_inference(model, data_loader, device):\n",
    "    model.eval()\n",
    "    predictions = []\n",
    "\n",
    "    with torch.no_grad():\n",
    "        for batch in data_loader:\n",
    "            signals = batch[\"signals\"].to(device)\n",
    "\n",
    "            output = model(signals)\n",
    "\n",
    "            predictions.append(output.cpu().numpy())\n",
    "\n",
    "    predictions = np.vstack(predictions)\n",
    "\n",
    "    return predictions"
   ]
  },
  {
   "cell_type": "code",
   "execution_count": null,
   "metadata": {},
   "outputs": [],
   "source": [
    "def plot_true_vs_pred(true_vals, pred_vals, flute):\n",
    "    true_vals = np.array(true_vals)\n",
    "    pred_vals = np.array(pred_vals)\n",
    "\n",
    "    plt.figure(figsize=(10, 6))\n",
    "\n",
    "    plt.plot(\n",
    "        true_vals[:, flute - 1],\n",
    "        label=f\"True wear on flute {flute}\",\n",
    "        linestyle=\"-\",\n",
    "        marker=\"o\",\n",
    "    )\n",
    "    plt.plot(\n",
    "        pred_vals[:, flute - 1],\n",
    "        label=f\"Predicted wear on flute {flute}\",\n",
    "        linestyle=\"--\",\n",
    "        marker=\"x\",\n",
    "    )\n",
    "\n",
    "    plt.title(\"True vs Predicted Wear Values for Each Flute\")\n",
    "    plt.xlabel(\"Cut\")\n",
    "    plt.ylabel(r\"Wear $(\\mu m)$\")\n",
    "    plt.legend()\n",
    "    plt.grid(True)\n",
    "    plt.show()"
   ]
  },
  {
   "cell_type": "markdown",
   "metadata": {},
   "source": [
    "Select here the dataset to compare against\n"
   ]
  },
  {
   "cell_type": "code",
   "execution_count": null,
   "metadata": {},
   "outputs": [],
   "source": [
    "test_data_dir = \"../data/raw/c1/c1\"\n",
    "test_wear_file = \"../data/raw/c1/c1_wear.csv\"\n",
    "\n",
    "test_dataset = CNCDataset(\n",
    "    data_dir=test_data_dir, wear_file=test_wear_file, scaler=scaler\n",
    ")\n",
    "test_loader = DataLoader(test_dataset, batch_size=1, shuffle=False)"
   ]
  },
  {
   "cell_type": "code",
   "execution_count": 19,
   "metadata": {},
   "outputs": [],
   "source": [
    "predictions = run_inference(model, test_loader, device)"
   ]
  },
  {
   "cell_type": "code",
   "execution_count": null,
   "metadata": {},
   "outputs": [],
   "source": [
    "real_wear_data = pd.read_csv(test_wear_file).drop(\"cut\", axis=1).values"
   ]
  },
  {
   "cell_type": "code",
   "execution_count": 21,
   "metadata": {},
   "outputs": [
    {
     "data": {
      "image/png": "[encoded data removed]",
      "text/plain": [
       "<Figure size 1000x600 with 1 Axes>"
      ]
     },
     "metadata": {},
     "output_type": "display_data"
    }
   ],
   "source": [
    "plot_true_vs_pred(real_wear_data, predictions, 1)"
   ]
  },
  {
   "cell_type": "markdown",
   "metadata": {},
   "source": [
    "## Exporting all the data for Dashboard\n"
   ]
  },
  {
   "cell_type": "code",
   "execution_count": 44,
   "metadata": {},
   "outputs": [],
   "source": [
    "streamlit_data = df = pd.DataFrame()"
   ]
  },
  {
   "cell_type": "code",
   "execution_count": null,
   "metadata": {},
   "outputs": [],
   "source": [
    "streamlit_data[[\"c1w1\", \"c1w2\", \"c1w3\"]] = real_wear_data"
   ]
  },
  {
   "cell_type": "code",
   "execution_count": null,
   "metadata": {},
   "outputs": [],
   "source": [
    "streamlit_data[[\"c1w1p\", \"c1w2p\", \"c1w3p\"]] = predictions"
   ]
  },
  {
   "cell_type": "code",
   "execution_count": null,
   "metadata": {},
   "outputs": [],
   "source": [
    "test_data_dir = \"../data/raw/c4/c4\"  # Directory with test signals\n",
    "test_wear_file = (\n",
    "    \"../data/raw/c4/c4_wear.csv\"  # Wear data file (if you have true labels for testing)\n",
    ")\n",
    "\n",
    "test_dataset = CNCDataset(\n",
    "    data_dir=test_data_dir, wear_file=test_wear_file, scaler=scaler\n",
    ")\n",
    "test_loader = DataLoader(test_dataset, batch_size=1, shuffle=False)"
   ]
  },
  {
   "cell_type": "code",
   "execution_count": 49,
   "metadata": {},
   "outputs": [],
   "source": [
    "predictions = run_inference(model, test_loader, device)"
   ]
  },
  {
   "cell_type": "code",
   "execution_count": null,
   "metadata": {},
   "outputs": [],
   "source": [
    "real_wear_data = pd.read_csv(test_wear_file).drop(\"cut\", axis=1).values"
   ]
  },
  {
   "cell_type": "code",
   "execution_count": null,
   "metadata": {},
   "outputs": [],
   "source": [
    "streamlit_data[[\"c4w1\", \"c4w2\", \"c4w3\"]] = real_wear_data"
   ]
  },
  {
   "cell_type": "code",
   "execution_count": null,
   "metadata": {},
   "outputs": [],
   "source": [
    "streamlit_data[[\"c4w1p\", \"c4w2p\", \"c4w3p\"]] = predictions"
   ]
  },
  {
   "cell_type": "code",
   "execution_count": null,
   "metadata": {},
   "outputs": [],
   "source": [
    "test_data_dir = \"../data/raw/c6/c6\"  # Directory with test signals\n",
    "test_wear_file = \"../data/raw/c6/c6_wear.csv\"\n",
    "\n",
    "test_dataset = CNCDataset(\n",
    "    data_dir=test_data_dir, wear_file=test_wear_file, scaler=scaler\n",
    ")\n",
    "test_loader = DataLoader(test_dataset, batch_size=1, shuffle=False)"
   ]
  },
  {
   "cell_type": "code",
   "execution_count": 54,
   "metadata": {},
   "outputs": [],
   "source": [
    "predictions = run_inference(model, test_loader, device)"
   ]
  },
  {
   "cell_type": "code",
   "execution_count": null,
   "metadata": {},
   "outputs": [],
   "source": [
    "real_wear_data = pd.read_csv(test_wear_file).drop(\"cut\", axis=1).values"
   ]
  },
  {
   "cell_type": "code",
   "execution_count": null,
   "metadata": {},
   "outputs": [],
   "source": [
    "streamlit_data[[\"c6w1\", \"c6w2\", \"c6w3\"]] = real_wear_data"
   ]
  },
  {
   "cell_type": "code",
   "execution_count": null,
   "metadata": {},
   "outputs": [],
   "source": [
    "streamlit_data[[\"c6w1p\", \"c6w2p\", \"c6w3p\"]] = predictions"
   ]
  },
  {
   "cell_type": "code",
   "execution_count": 58,
   "metadata": {},
   "outputs": [
    {
     "data": {
      "text/html": [
       "<div>\n",
       "<style scoped>\n",
       "    .dataframe tbody tr th:only-of-type {\n",
       "        vertical-align: middle;\n",
       "    }\n",
       "\n",
       "    .dataframe tbody tr th {\n",
       "        vertical-align: top;\n",
       "    }\n",
       "\n",
       "    .dataframe thead th {\n",
       "        text-align: right;\n",
       "    }\n",
       "</style>\n",
       "<table border=\"1\" class=\"dataframe\">\n",
       "  <thead>\n",
       "    <tr style=\"text-align: right;\">\n",
       "      <th></th>\n",
       "      <th>c1w1</th>\n",
       "      <th>c1w2</th>\n",
       "      <th>c1w3</th>\n",
       "      <th>c1w1p</th>\n",
       "      <th>c1w2p</th>\n",
       "      <th>c1w3p</th>\n",
       "      <th>c4w1</th>\n",
       "      <th>c4w2</th>\n",
       "      <th>c4w3</th>\n",
       "      <th>c4w1p</th>\n",
       "      <th>c4w2p</th>\n",
       "      <th>c4w3p</th>\n",
       "      <th>c6w1</th>\n",
       "      <th>c6w2</th>\n",
       "      <th>c6w3</th>\n",
       "      <th>c6w1p</th>\n",
       "      <th>c6w2p</th>\n",
       "      <th>c6w3p</th>\n",
       "    </tr>\n",
       "  </thead>\n",
       "  <tbody>\n",
       "    <tr>\n",
       "      <th>0</th>\n",
       "      <td>32.317114</td>\n",
       "      <td>48.892617</td>\n",
       "      <td>37.720825</td>\n",
       "      <td>23.420475</td>\n",
       "      <td>44.299381</td>\n",
       "      <td>24.171932</td>\n",
       "      <td>31.416355</td>\n",
       "      <td>19.483692</td>\n",
       "      <td>21.748063</td>\n",
       "      <td>26.863510</td>\n",
       "      <td>36.713753</td>\n",
       "      <td>21.126871</td>\n",
       "      <td>62.788648</td>\n",
       "      <td>9.896641</td>\n",
       "      <td>14.620908</td>\n",
       "      <td>21.085661</td>\n",
       "      <td>40.999676</td>\n",
       "      <td>22.941429</td>\n",
       "    </tr>\n",
       "    <tr>\n",
       "      <th>1</th>\n",
       "      <td>37.914879</td>\n",
       "      <td>49.570815</td>\n",
       "      <td>37.720825</td>\n",
       "      <td>27.844791</td>\n",
       "      <td>41.786125</td>\n",
       "      <td>23.518147</td>\n",
       "      <td>34.892770</td>\n",
       "      <td>23.473047</td>\n",
       "      <td>24.925960</td>\n",
       "      <td>26.863510</td>\n",
       "      <td>36.713753</td>\n",
       "      <td>21.126871</td>\n",
       "      <td>64.136043</td>\n",
       "      <td>19.793281</td>\n",
       "      <td>29.241817</td>\n",
       "      <td>29.064751</td>\n",
       "      <td>38.412720</td>\n",
       "      <td>23.279652</td>\n",
       "    </tr>\n",
       "    <tr>\n",
       "      <th>2</th>\n",
       "      <td>43.087910</td>\n",
       "      <td>50.302867</td>\n",
       "      <td>37.720825</td>\n",
       "      <td>38.000107</td>\n",
       "      <td>52.011063</td>\n",
       "      <td>33.353523</td>\n",
       "      <td>38.102847</td>\n",
       "      <td>27.172868</td>\n",
       "      <td>27.898659</td>\n",
       "      <td>31.824238</td>\n",
       "      <td>41.943176</td>\n",
       "      <td>24.806324</td>\n",
       "      <td>65.365273</td>\n",
       "      <td>29.689922</td>\n",
       "      <td>43.862725</td>\n",
       "      <td>47.821728</td>\n",
       "      <td>50.978939</td>\n",
       "      <td>35.718540</td>\n",
       "    </tr>\n",
       "    <tr>\n",
       "      <th>3</th>\n",
       "      <td>47.859072</td>\n",
       "      <td>51.083652</td>\n",
       "      <td>37.849851</td>\n",
       "      <td>49.178394</td>\n",
       "      <td>60.924946</td>\n",
       "      <td>42.790768</td>\n",
       "      <td>41.061023</td>\n",
       "      <td>30.599309</td>\n",
       "      <td>30.677848</td>\n",
       "      <td>42.950371</td>\n",
       "      <td>50.058624</td>\n",
       "      <td>32.509777</td>\n",
       "      <td>66.486880</td>\n",
       "      <td>39.586563</td>\n",
       "      <td>58.483634</td>\n",
       "      <td>65.096748</td>\n",
       "      <td>61.681976</td>\n",
       "      <td>47.257122</td>\n",
       "    </tr>\n",
       "    <tr>\n",
       "      <th>4</th>\n",
       "      <td>52.250329</td>\n",
       "      <td>51.908288</td>\n",
       "      <td>38.172665</td>\n",
       "      <td>49.897404</td>\n",
       "      <td>59.135994</td>\n",
       "      <td>45.793648</td>\n",
       "      <td>43.781191</td>\n",
       "      <td>33.767870</td>\n",
       "      <td>33.274721</td>\n",
       "      <td>39.640511</td>\n",
       "      <td>50.769463</td>\n",
       "      <td>34.618057</td>\n",
       "      <td>67.510808</td>\n",
       "      <td>43.019994</td>\n",
       "      <td>59.345759</td>\n",
       "      <td>70.246017</td>\n",
       "      <td>67.013100</td>\n",
       "      <td>52.954510</td>\n",
       "    </tr>\n",
       "    <tr>\n",
       "      <th>...</th>\n",
       "      <td>...</td>\n",
       "      <td>...</td>\n",
       "      <td>...</td>\n",
       "      <td>...</td>\n",
       "      <td>...</td>\n",
       "      <td>...</td>\n",
       "      <td>...</td>\n",
       "      <td>...</td>\n",
       "      <td>...</td>\n",
       "      <td>...</td>\n",
       "      <td>...</td>\n",
       "      <td>...</td>\n",
       "      <td>...</td>\n",
       "      <td>...</td>\n",
       "      <td>...</td>\n",
       "      <td>...</td>\n",
       "      <td>...</td>\n",
       "      <td>...</td>\n",
       "    </tr>\n",
       "    <tr>\n",
       "      <th>310</th>\n",
       "      <td>170.981042</td>\n",
       "      <td>161.824508</td>\n",
       "      <td>155.546719</td>\n",
       "      <td>194.280960</td>\n",
       "      <td>181.091476</td>\n",
       "      <td>175.234360</td>\n",
       "      <td>191.527141</td>\n",
       "      <td>206.633895</td>\n",
       "      <td>198.454237</td>\n",
       "      <td>161.708176</td>\n",
       "      <td>150.537170</td>\n",
       "      <td>143.791687</td>\n",
       "      <td>179.294708</td>\n",
       "      <td>228.994989</td>\n",
       "      <td>234.082608</td>\n",
       "      <td>274.746429</td>\n",
       "      <td>269.330688</td>\n",
       "      <td>278.061584</td>\n",
       "    </tr>\n",
       "    <tr>\n",
       "      <th>311</th>\n",
       "      <td>171.411854</td>\n",
       "      <td>162.517989</td>\n",
       "      <td>156.189184</td>\n",
       "      <td>195.334518</td>\n",
       "      <td>182.099930</td>\n",
       "      <td>176.270126</td>\n",
       "      <td>192.696201</td>\n",
       "      <td>207.724013</td>\n",
       "      <td>199.396303</td>\n",
       "      <td>160.788300</td>\n",
       "      <td>149.192886</td>\n",
       "      <td>141.676697</td>\n",
       "      <td>179.426166</td>\n",
       "      <td>230.164801</td>\n",
       "      <td>234.240943</td>\n",
       "      <td>319.431122</td>\n",
       "      <td>319.049652</td>\n",
       "      <td>334.368774</td>\n",
       "    </tr>\n",
       "    <tr>\n",
       "      <th>312</th>\n",
       "      <td>171.839631</td>\n",
       "      <td>163.218075</td>\n",
       "      <td>156.844309</td>\n",
       "      <td>187.430618</td>\n",
       "      <td>174.664383</td>\n",
       "      <td>168.645386</td>\n",
       "      <td>193.859049</td>\n",
       "      <td>208.801783</td>\n",
       "      <td>200.326329</td>\n",
       "      <td>161.666077</td>\n",
       "      <td>149.289810</td>\n",
       "      <td>140.314011</td>\n",
       "      <td>179.436528</td>\n",
       "      <td>231.334613</td>\n",
       "      <td>234.399278</td>\n",
       "      <td>318.129456</td>\n",
       "      <td>317.815796</td>\n",
       "      <td>332.767303</td>\n",
       "    </tr>\n",
       "    <tr>\n",
       "      <th>313</th>\n",
       "      <td>172.264561</td>\n",
       "      <td>163.924726</td>\n",
       "      <td>157.512083</td>\n",
       "      <td>186.426453</td>\n",
       "      <td>174.565506</td>\n",
       "      <td>169.445877</td>\n",
       "      <td>195.015359</td>\n",
       "      <td>209.866976</td>\n",
       "      <td>201.244141</td>\n",
       "      <td>167.204865</td>\n",
       "      <td>153.711151</td>\n",
       "      <td>142.457687</td>\n",
       "      <td>179.436528</td>\n",
       "      <td>232.504425</td>\n",
       "      <td>234.557613</td>\n",
       "      <td>321.377655</td>\n",
       "      <td>321.239441</td>\n",
       "      <td>336.235291</td>\n",
       "    </tr>\n",
       "    <tr>\n",
       "      <th>314</th>\n",
       "      <td>172.686837</td>\n",
       "      <td>164.637900</td>\n",
       "      <td>158.192482</td>\n",
       "      <td>173.111832</td>\n",
       "      <td>165.728333</td>\n",
       "      <td>157.470886</td>\n",
       "      <td>196.164809</td>\n",
       "      <td>210.919371</td>\n",
       "      <td>202.149572</td>\n",
       "      <td>173.193619</td>\n",
       "      <td>158.620758</td>\n",
       "      <td>145.087723</td>\n",
       "      <td>179.436528</td>\n",
       "      <td>233.674237</td>\n",
       "      <td>234.715948</td>\n",
       "      <td>325.085602</td>\n",
       "      <td>324.941925</td>\n",
       "      <td>339.606781</td>\n",
       "    </tr>\n",
       "  </tbody>\n",
       "</table>\n",
       "<p>315 rows × 18 columns</p>\n",
       "</div>"
      ],
      "text/plain": [
       "           c1w1        c1w2        c1w3       c1w1p       c1w2p       c1w3p  \\\n",
       "0     32.317114   48.892617   37.720825   23.420475   44.299381   24.171932   \n",
       "1     37.914879   49.570815   37.720825   27.844791   41.786125   23.518147   \n",
       "2     43.087910   50.302867   37.720825   38.000107   52.011063   33.353523   \n",
       "3     47.859072   51.083652   37.849851   49.178394   60.924946   42.790768   \n",
       "4     52.250329   51.908288   38.172665   49.897404   59.135994   45.793648   \n",
       "..          ...         ...         ...         ...         ...         ...   \n",
       "310  170.981042  161.824508  155.546719  194.280960  181.091476  175.234360   \n",
       "311  171.411854  162.517989  156.189184  195.334518  182.099930  176.270126   \n",
       "312  171.839631  163.218075  156.844309  187.430618  174.664383  168.645386   \n",
       "313  172.264561  163.924726  157.512083  186.426453  174.565506  169.445877   \n",
       "314  172.686837  164.637900  158.192482  173.111832  165.728333  157.470886   \n",
       "\n",
       "           c4w1        c4w2        c4w3       c4w1p       c4w2p       c4w3p  \\\n",
       "0     31.416355   19.483692   21.748063   26.863510   36.713753   21.126871   \n",
       "1     34.892770   23.473047   24.925960   26.863510   36.713753   21.126871   \n",
       "2     38.102847   27.172868   27.898659   31.824238   41.943176   24.806324   \n",
       "3     41.061023   30.599309   30.677848   42.950371   50.058624   32.509777   \n",
       "4     43.781191   33.767870   33.274721   39.640511   50.769463   34.618057   \n",
       "..          ...         ...         ...         ...         ...         ...   \n",
       "310  191.527141  206.633895  198.454237  161.708176  150.537170  143.791687   \n",
       "311  192.696201  207.724013  199.396303  160.788300  149.192886  141.676697   \n",
       "312  193.859049  208.801783  200.326329  161.666077  149.289810  140.314011   \n",
       "313  195.015359  209.866976  201.244141  167.204865  153.711151  142.457687   \n",
       "314  196.164809  210.919371  202.149572  173.193619  158.620758  145.087723   \n",
       "\n",
       "           c6w1        c6w2        c6w3       c6w1p       c6w2p       c6w3p  \n",
       "0     62.788648    9.896641   14.620908   21.085661   40.999676   22.941429  \n",
       "1     64.136043   19.793281   29.241817   29.064751   38.412720   23.279652  \n",
       "2     65.365273   29.689922   43.862725   47.821728   50.978939   35.718540  \n",
       "3     66.486880   39.586563   58.483634   65.096748   61.681976   47.257122  \n",
       "4     67.510808   43.019994   59.345759   70.246017   67.013100   52.954510  \n",
       "..          ...         ...         ...         ...         ...         ...  \n",
       "310  179.294708  228.994989  234.082608  274.746429  269.330688  278.061584  \n",
       "311  179.426166  230.164801  234.240943  319.431122  319.049652  334.368774  \n",
       "312  179.436528  231.334613  234.399278  318.129456  317.815796  332.767303  \n",
       "313  179.436528  232.504425  234.557613  321.377655  321.239441  336.235291  \n",
       "314  179.436528  233.674237  234.715948  325.085602  324.941925  339.606781  \n",
       "\n",
       "[315 rows x 18 columns]"
      ]
     },
     "execution_count": 58,
     "metadata": {},
     "output_type": "execute_result"
    }
   ],
   "source": [
    "streamlit_data"
   ]
  },
  {
   "cell_type": "code",
   "execution_count": 59,
   "metadata": {},
   "outputs": [],
   "source": [
    "streamlit_data.to_csv(\"DL_C1.csv\", index=False)"
   ]
  }
 ],
 "metadata": {
  "kernelspec": {
   "display_name": ".venv",
   "language": "python",
   "name": "python3"
  },
  "language_info": {
   "codemirror_mode": {
    "name": "ipython",
    "version": 3
   },
   "file_extension": ".py",
   "mimetype": "text/x-python",
   "name": "python",
   "nbconvert_exporter": "python",
   "pygments_lexer": "ipython3",
   "version": "3.11.4"
  }
 },
 "nbformat": 4,
 "nbformat_minor": 2
}
