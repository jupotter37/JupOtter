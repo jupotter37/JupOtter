{
  "nbformat": 4,
  "nbformat_minor": 0,
  "metadata": {
    "colab": {
      "provenance": []
    },
    "kernelspec": {
      "name": "python3",
      "display_name": "Python 3"
    },
    "language_info": {
      "name": "python"
    }
  },
  "cells": [
    {
      "cell_type": "markdown",
      "source": [
        "# **17th June - Python Assignment**\n"
      ],
      "metadata": {
        "id": "vQTD_8RyOI0s"
      }
    },
    {
      "cell_type": "markdown",
      "source": [
        "**1. What is the role of try and exception block?**\n",
        "\n",
        "try-except block is used to handle exceptions or errors that may occur during the execution of a program. The primary purpose of the try block is to enclose a section of code where an exception might occur. The corresponding except block specifies the code to be executed if a specific type of exception is raised within the try block."
      ],
      "metadata": {
        "id": "ZDx56eXgYUg9"
      }
    },
    {
      "cell_type": "code",
      "execution_count": 1,
      "metadata": {
        "colab": {
          "base_uri": "https://localhost:8080/"
        },
        "id": "GUxnpXL0YGPg",
        "outputId": "85383c1c-5abc-483d-9a83-5946108e10a2"
      },
      "outputs": [
        {
          "output_type": "stream",
          "name": "stdout",
          "text": [
            "Enter a number: 0\n",
            "Cannot divide by zero.\n"
          ]
        }
      ],
      "source": [
        "try:\n",
        "    x = int(input(\"Enter a number: \"))\n",
        "    result = 10 / x\n",
        "    print(\"Result:\", result)\n",
        "except ValueError:\n",
        "    print(\"Please enter a valid integer.\")\n",
        "except ZeroDivisionError:\n",
        "    print(\"Cannot divide by zero.\")\n",
        "except Exception as e:\n",
        "    print(\"An unexpected error occurred:\", e)"
      ]
    },
    {
      "cell_type": "markdown",
      "source": [
        "**2. What is the syntax for a basic try-except block?**"
      ],
      "metadata": {
        "id": "MRDm7SF4Yvm-"
      }
    },
    {
      "cell_type": "code",
      "source": [
        "try:\n",
        "    # Code that may raise an exception\n",
        "    # ...\n",
        "except SomeException as e:\n",
        "    # Code to handle the exception\n",
        "    # ..."
      ],
      "metadata": {
        "id": "aE-ORk6AY1qV"
      },
      "execution_count": null,
      "outputs": []
    },
    {
      "cell_type": "markdown",
      "source": [
        "**3. What happens if an exception occurs inside a try block and there is no matching except block?**\n",
        "\n",
        "If an exception occurs inside a try block, and there is no matching except block to handle that specific type of exception, the program will terminate, and an unhandled exception will be raised. This can lead to an error message being displayed to the user, and the program may exit abruptly."
      ],
      "metadata": {
        "id": "MAWxOdRhZTct"
      }
    },
    {
      "cell_type": "code",
      "source": [
        "try:\n",
        "    x = 10 / 0  # This will raise a ZeroDivisionError\n",
        "except ValueError as ve:\n",
        "    print(\"This won't be executed for a ZeroDivisionError.\")"
      ],
      "metadata": {
        "colab": {
          "base_uri": "https://localhost:8080/",
          "height": 227
        },
        "id": "24Okk8gHZt9-",
        "outputId": "549fa9d7-fa83-4630-9c6e-29a64082cdb8"
      },
      "execution_count": 2,
      "outputs": [
        {
          "output_type": "error",
          "ename": "ZeroDivisionError",
          "evalue": "division by zero",
          "traceback": [
            "\u001b[0;31m---------------------------------------------------------------------------\u001b[0m",
            "\u001b[0;31mZeroDivisionError\u001b[0m                         Traceback (most recent call last)",
            "\u001b[0;32m<ipython-input-2-c6921deb4653>\u001b[0m in \u001b[0;36m<cell line: 1>\u001b[0;34m()\u001b[0m\n\u001b[1;32m      1\u001b[0m \u001b[0;32mtry\u001b[0m\u001b[0;34m:\u001b[0m\u001b[0;34m\u001b[0m\u001b[0;34m\u001b[0m\u001b[0m\n\u001b[0;32m----> 2\u001b[0;31m     \u001b[0mx\u001b[0m \u001b[0;34m=\u001b[0m \u001b[0;36m10\u001b[0m \u001b[0;34m/\u001b[0m \u001b[0;36m0\u001b[0m  \u001b[0;31m# This will raise a ZeroDivisionError\u001b[0m\u001b[0;34m\u001b[0m\u001b[0;34m\u001b[0m\u001b[0m\n\u001b[0m\u001b[1;32m      3\u001b[0m \u001b[0;32mexcept\u001b[0m \u001b[0mValueError\u001b[0m \u001b[0;32mas\u001b[0m \u001b[0mve\u001b[0m\u001b[0;34m:\u001b[0m\u001b[0;34m\u001b[0m\u001b[0;34m\u001b[0m\u001b[0m\n\u001b[1;32m      4\u001b[0m     \u001b[0mprint\u001b[0m\u001b[0;34m(\u001b[0m\u001b[0;34m\"This won't be executed for a ZeroDivisionError.\"\u001b[0m\u001b[0;34m)\u001b[0m\u001b[0;34m\u001b[0m\u001b[0;34m\u001b[0m\u001b[0m\n",
            "\u001b[0;31mZeroDivisionError\u001b[0m: division by zero"
          ]
        }
      ]
    },
    {
      "cell_type": "markdown",
      "source": [
        "**4. What is the difference between using a bare except block and specifying a specific exception type?**\n",
        "\n",
        "**i) Specific Exception Type:**\n",
        "\n",
        "When we specify a particular exception type in the except block, we are explicitly indicating that you want to catch and handle that specific type of exception. This allows for more targeted and precise error handling. We can provide custom responses or recovery mechanisms based on the nature of the caught exception.\n",
        "\n",
        "**ii) Bare Except Type:**\n",
        "\n",
        "When we use a bare except block, without specifying a particular exception type, it catches any exception that inherits from the base Exception class. This includes all types of exceptions, both built-in and user-defined. While this approach provides a more generic way to handle errors, it lacks the specificity of knowing exactly which type of exception occurred."
      ],
      "metadata": {
        "id": "iNBwV76CZzBX"
      }
    },
    {
      "cell_type": "markdown",
      "source": [
        "**5. Can you have nested try-except blocks in Python? If yes, then give an example.**\n",
        "\n",
        "Yes, it is possible to have nested try-except blocks in Python. This means that we can place a try-except block inside another try or except block. This is useful when you want to handle exceptions at different levels of granularity, addressing specific errors at the innermost block and more general errors at outer blocks."
      ],
      "metadata": {
        "id": "QLHaDH5fao_8"
      }
    },
    {
      "cell_type": "code",
      "source": [
        "try:\n",
        "    # Outer try block\n",
        "    x = int(input(\"Enter a number: \"))\n",
        "\n",
        "    try:\n",
        "        # Inner try block\n",
        "        result = 10 / x\n",
        "        print(\"Result:\", result)\n",
        "\n",
        "    except ZeroDivisionError:\n",
        "        print(\"Inner: Cannot divide by zero.\")\n",
        "\n",
        "except ValueError:\n",
        "    print(\"Outer: Please enter a valid integer.\")\n",
        "except Exception as e:\n",
        "    print(\"Outer: An unexpected error occurred:\", e)"
      ],
      "metadata": {
        "colab": {
          "base_uri": "https://localhost:8080/"
        },
        "id": "32tOOMwWayHZ",
        "outputId": "853e04fc-3595-429c-a1d4-17a98ff19619"
      },
      "execution_count": 3,
      "outputs": [
        {
          "output_type": "stream",
          "name": "stdout",
          "text": [
            "Enter a number: 0\n",
            "Inner: Cannot divide by zero.\n"
          ]
        }
      ]
    },
    {
      "cell_type": "markdown",
      "source": [
        "**6. Can we use multiple exception blocks, if yes then give an example.**\n",
        "\n",
        "Yes, we can use multiple except blocks to handle different types of exceptions in Python. Each except block specifies a different exception type, allowing us to handle various errors in a more granular way."
      ],
      "metadata": {
        "id": "gagTqfyYa_9s"
      }
    },
    {
      "cell_type": "code",
      "source": [
        "try:\n",
        "    x = int(input(\"Enter a number: \"))\n",
        "    result = 10 / x\n",
        "    print(\"Result:\", result)\n",
        "\n",
        "except ValueError:\n",
        "    print(\"Please enter a valid integer.\")\n",
        "\n",
        "except ZeroDivisionError:\n",
        "    print(\"Cannot divide by zero.\")\n",
        "\n",
        "except Exception as e:\n",
        "    print(\"An unexpected error occurred:\", e)"
      ],
      "metadata": {
        "colab": {
          "base_uri": "https://localhost:8080/"
        },
        "id": "xeJl8-ETbV2U",
        "outputId": "0fb58aac-df2a-44aa-9580-8eba6a0b0973"
      },
      "execution_count": 4,
      "outputs": [
        {
          "output_type": "stream",
          "name": "stdout",
          "text": [
            "Enter a number: 12.2\n",
            "Please enter a valid integer.\n"
          ]
        }
      ]
    },
    {
      "cell_type": "markdown",
      "source": [
        "**7. Write the reason due to which following errors are raised:**\n",
        "\n",
        "**a. EOFError**\n",
        "\n",
        "Raised when the input() function hits an end-of-file condition (EOF) while trying to read input from the user.\n",
        "\n",
        "**b. FloatingPointError**\n",
        "\n",
        "Raised when a floating-point operation, such as division by zero or an operation resulting in an undefined value (like float('inf')), leads to an error.\n",
        "\n",
        "**c. IndexError**\n",
        "\n",
        "Raised when trying to access an index in a sequence (like a list or tuple) that is outside the range of valid indices.\n",
        "\n",
        "**d. MemoryError**\n",
        "\n",
        "Raised when an operation runs out of memory but is not able to allocate the requested amount of memory.\n",
        "\n",
        "**e. OverflowError**\n",
        "\n",
        "Raised when the result of an arithmetic operation exceeds the representational limits of the data type, typically in the case of integers.\n",
        "\n",
        "**f. TabError**\n",
        "\n",
        "Raised when indentation is not consistent or when mixing tabs and spaces in the same block of code. Python relies on consistent indentation for code structure.\n",
        "\n",
        "**g. ValueError**\n",
        "\n",
        "Raised when a function receives an argument of the correct type but with an invalid value, or when an operation is performed with an inappropriate value.\n"
      ],
      "metadata": {
        "id": "wnCNqL7CbdCH"
      }
    },
    {
      "cell_type": "markdown",
      "source": [
        "**8. Write code for the following given scenario and add try-exception block to it.**\n",
        "\n",
        "**a. Program to divide two numbers**\n",
        "\n",
        "**b. Program to convert a string to an integer**\n",
        "\n",
        "**c. Program to access an element in a list**\n",
        "\n",
        "**d. Program to handle a specific exception**\n",
        "\n",
        "**e. Program to handle any exception**"
      ],
      "metadata": {
        "id": "4fKIC1R9cTkb"
      }
    },
    {
      "cell_type": "markdown",
      "source": [
        "### **a. Program to divide two numbers**"
      ],
      "metadata": {
        "id": "vqZJvAjKcnR3"
      }
    },
    {
      "cell_type": "code",
      "source": [
        "try:\n",
        "    numerator = float(input(\"Enter the numerator: \"))\n",
        "    denominator = float(input(\"Enter the denominator: \"))\n",
        "\n",
        "    result = numerator / denominator\n",
        "    print(\"Result:\", result)\n",
        "\n",
        "except ZeroDivisionError:\n",
        "    print(\"Error: Cannot divide by zero.\")\n",
        "\n",
        "except ValueError:\n",
        "    print(\"Error: Please enter valid numeric values.\")"
      ],
      "metadata": {
        "colab": {
          "base_uri": "https://localhost:8080/"
        },
        "id": "1DjTrW1VcmQZ",
        "outputId": "701e8d93-60e7-4d81-8ff9-8482cd0e5264"
      },
      "execution_count": 5,
      "outputs": [
        {
          "output_type": "stream",
          "name": "stdout",
          "text": [
            "Enter the numerator: 10\n",
            "Enter the denominator: 0\n",
            "Error: Cannot divide by zero.\n"
          ]
        }
      ]
    },
    {
      "cell_type": "markdown",
      "source": [
        "### **b. Program to convert a string to an integer**"
      ],
      "metadata": {
        "id": "uXN-vJeWc4St"
      }
    },
    {
      "cell_type": "code",
      "source": [
        "try:\n",
        "    input_str = input(\"Enter an integer: \")\n",
        "    number = int(input_str)\n",
        "\n",
        "    print(\"Entered integer:\", number)\n",
        "\n",
        "except ValueError:\n",
        "    print(\"Error: Please enter a valid integer.\")"
      ],
      "metadata": {
        "colab": {
          "base_uri": "https://localhost:8080/"
        },
        "id": "QGXf5qH4c69M",
        "outputId": "2b579c7b-60b8-46c4-ff55-79b1dd6a901b"
      },
      "execution_count": 6,
      "outputs": [
        {
          "output_type": "stream",
          "name": "stdout",
          "text": [
            "Enter an integer: 10.2\n",
            "Error: Please enter a valid integer.\n"
          ]
        }
      ]
    },
    {
      "cell_type": "markdown",
      "source": [
        "### **c. Program to access an element in a list**"
      ],
      "metadata": {
        "id": "ahH6PSsLc_Km"
      }
    },
    {
      "cell_type": "code",
      "source": [
        "try:\n",
        "    my_list = [1, 2, 3, 4, 5]\n",
        "    index = int(input(\"Enter an index: \"))\n",
        "\n",
        "    value = my_list[index]\n",
        "    print(\"Value at index\", index, \"is:\", value)\n",
        "\n",
        "except IndexError:\n",
        "    print(\"Error: Index out of range.\")\n",
        "\n",
        "except ValueError:\n",
        "    print(\"Error: Please enter a valid integer for the index.\")"
      ],
      "metadata": {
        "colab": {
          "base_uri": "https://localhost:8080/"
        },
        "id": "NkJOsvwwdB2o",
        "outputId": "0714e5e7-b0b1-4709-e0e6-418a2e42d8ba"
      },
      "execution_count": 7,
      "outputs": [
        {
          "output_type": "stream",
          "name": "stdout",
          "text": [
            "Enter an index: 6\n",
            "Error: Index out of range.\n"
          ]
        }
      ]
    },
    {
      "cell_type": "markdown",
      "source": [
        "### **d. Program to handle a specific exception**"
      ],
      "metadata": {
        "id": "Ez7noCWidHIF"
      }
    },
    {
      "cell_type": "code",
      "source": [
        "class CustomException(Exception):\n",
        "    pass\n",
        "\n",
        "try:\n",
        "    raise CustomException(\"This is a custom exception.\")\n",
        "\n",
        "except CustomException as ce:\n",
        "    print(\"Caught a custom exception:\", ce)"
      ],
      "metadata": {
        "colab": {
          "base_uri": "https://localhost:8080/"
        },
        "id": "g0iJFYPddJpf",
        "outputId": "a15e71d0-9fef-4a48-83ec-f990c794d57f"
      },
      "execution_count": 8,
      "outputs": [
        {
          "output_type": "stream",
          "name": "stdout",
          "text": [
            "Caught a custom exception: This is a custom exception.\n"
          ]
        }
      ]
    },
    {
      "cell_type": "markdown",
      "source": [
        "### **e. Program to handle any exception**"
      ],
      "metadata": {
        "id": "1BywJA-EdOw1"
      }
    },
    {
      "cell_type": "code",
      "source": [
        "try:\n",
        "    x = 10 / 0  # This will raise a ZeroDivisionError\n",
        "\n",
        "except Exception as e:\n",
        "    print(\"An exception occurred:\", e)"
      ],
      "metadata": {
        "colab": {
          "base_uri": "https://localhost:8080/"
        },
        "id": "tzDExCpjdRIK",
        "outputId": "a95bb9ae-4f04-44ee-cf26-97aa8f83daea"
      },
      "execution_count": 9,
      "outputs": [
        {
          "output_type": "stream",
          "name": "stdout",
          "text": [
            "An exception occurred: division by zero\n"
          ]
        }
      ]
    }
  ]
}