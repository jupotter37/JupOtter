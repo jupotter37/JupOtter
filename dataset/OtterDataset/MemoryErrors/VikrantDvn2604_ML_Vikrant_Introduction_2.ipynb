{
 "cells": [
  {
   "cell_type": "markdown",
   "metadata": {},
   "source": [
    "**Tuple**\n",
    "\n",
    "+ Similar to a list. \n",
    "+ While we can change list elements, elements in a tuple are static (they cannot be changed.\n",
    "+ Multiple ways to create tuple"
   ]
  },
  {
   "cell_type": "code",
   "execution_count": 5,
   "metadata": {},
   "outputs": [
    {
     "name": "stdout",
     "output_type": "stream",
     "text": [
      "()\n",
      "(10, 15, 20, 40)\n",
      "<class 'tuple'>\n",
      "()\n",
      "(10.0, 15.0, 20.0, 40.0)\n",
      "(52.0, 52, False, 'String')\n",
      "<class 'float'>\n",
      "<class 'int'>\n",
      "<class 'bool'>\n",
      "<class 'str'>\n",
      "([1, True, 'Str'], 1, 'Another String', (5, False, 'String'), {1: 2, 3: 4})\n",
      "<class 'bool'>\n",
      "<class 'dict'>\n",
      "<class 'tuple'>\n"
     ]
    }
   ],
   "source": [
    "# Similar to list, place all elements separated by , within parenthesis \n",
    "# Parenthesis are optional\n",
    "\n",
    "\n",
    "tuple1 = ()\n",
    "print(tuple1)\n",
    "\n",
    "#tuple2 =\n",
    "#print(tuple2)\n",
    "#if tuple is empty it will require parenthesis\n",
    "\n",
    "tuple_int = (10, 15, 20, 40)\n",
    "print(tuple_int)  #float() argument must be a string or a number, not 'tuple'\n",
    "print(type(tuple_int))\n",
    "\n",
    "tuple2=()\n",
    "print(tuple2)\n",
    "for i in tuple_int:\n",
    " tuple2 = tuple2 + (float(i),)\n",
    "print(tuple2)\n",
    "\n",
    "tuple_mix = (52.0,52, False, \"String\")\n",
    "print(tuple_mix)\n",
    "print(type(tuple_mix[0]))\n",
    "print(type(tuple_mix[1]))\n",
    "print(type(tuple_mix[2]))\n",
    "print(type(tuple_mix[3]))\n",
    "#stores different types\n",
    "\n",
    "tuple_nested = ([1, True, \"Str\"], 1, \"Another String\", (5, False, \"String\"),{1:2,3:4})\n",
    "print(tuple_nested)\n",
    "\n",
    "print(type(tuple_nested[0][1]))\n",
    "print(type(tuple_nested[4]))\n",
    "print(type(tuple_nested))"
   ]
  },
  {
   "cell_type": "code",
   "execution_count": 8,
   "metadata": {},
   "outputs": [
    {
     "name": "stdout",
     "output_type": "stream",
     "text": [
      "(5, False, 'String')\n",
      "5\n",
      "False\n",
      "String\n",
      "<class 'bool'>\n",
      "Ajay\n",
      "Vijay\n",
      "Ramesh\n",
      "<class 'str'>\n",
      "<class 'tuple'>\n"
     ]
    }
   ],
   "source": [
    "# Tuple without use of parenthesis\n",
    "tuple_no_parenthesis = 5, False, \"String\"\n",
    "print(tuple_no_parenthesis)\n",
    "\n",
    "#tuple2 =\n",
    "#print(tuple2)\n",
    "#if tuple is empty it will require parenthesis\n",
    "\n",
    "# This is called as tuple unpacking\n",
    "x,y,z= tuple_no_parenthesis\n",
    "print(x)\n",
    "print(y)\n",
    "print(z)\n",
    "print(type(y))\n",
    "\n",
    "#happens in list as well\n",
    "list1 = ['Ajay', 'Vijay', 'Ramesh']\n",
    "x,y,z = list1\n",
    "print(x)\n",
    "print(y)\n",
    "print(z)\n",
    "\n",
    "a= \"string\"\n",
    "print(type(a))\n",
    "\n",
    "b= \"string\",\n",
    "print(type(b))\n"
   ]
  },
  {
   "cell_type": "code",
   "execution_count": 35,
   "metadata": {},
   "outputs": [
    {
     "name": "stdout",
     "output_type": "stream",
     "text": [
      "<class 'str'>\n",
      "<class 'tuple'>\n",
      "<class 'tuple'>\n",
      "<class 'list'>\n"
     ]
    }
   ],
   "source": [
    "# You can also have one element in a tuple, but need a trailing comma\n",
    "string = (\"This is not a tuple, it is a string\")\n",
    "print(type(string))\n",
    "\n",
    "tuple_one_elem = (\"This is a tuple, notice the trailing comma\",)\n",
    "print(type(tuple_one_elem))\n",
    "\n",
    "tuple_one_elem_1 = \"This is a tuple, notice the trailing comma\",\n",
    "print(type(tuple_one_elem_1))\n",
    "\n",
    "#same thing happends if or not parenthesis are used\n",
    "#same thing happends if it is string, boolean, float or int\n",
    "\n",
    "#in list we dont need comma\n",
    "tuple_one_elem2 = [\"This is a list, dont need trailing comma\"]\n",
    "print(type(tuple_one_elem2))"
   ]
  },
  {
   "cell_type": "code",
   "execution_count": 263,
   "metadata": {},
   "outputs": [
    {
     "name": "stdout",
     "output_type": "stream",
     "text": [
      "(10, 15, 20, 40)\n",
      "(52, False, 'String')\n",
      "([1, True, 'Str'], 100, 'Another String', (5, False, 'String'), 9, (9,))\n",
      "20\n",
      "<class 'int'>\n",
      "(False, 'String')\n",
      "([1, True, 'Str'], 100, 'Another String', (5, False, 'String'), 9, (9,))\n",
      "[1, True, 'Str']\n",
      "<class 'list'>\n",
      "([1, True, 'Str'], 100)\n",
      "True\n",
      "<class 'bool'>\n",
      "t\n",
      "<class 'str'>\n",
      "(9,)\n",
      "<class 'tuple'>\n",
      "9\n",
      "<class 'int'>\n"
     ]
    }
   ],
   "source": [
    "tuple_int = (10, 15, 20, 40)\n",
    "print(tuple_int)\n",
    "\n",
    "\n",
    "tuple_mix = (52, False, \"String\")\n",
    "print(tuple_mix)\n",
    "\n",
    "\n",
    "tuple_nested = ([1, True, \"Str\"], 100, \"Another String\", (5, False, \"String\"),(9),(9,))\n",
    "print(tuple_nested)\n",
    "\n",
    "\n",
    "print(tuple_int[2])\n",
    "print(type(tuple_int[2]))\n",
    "\n",
    "print(tuple_mix[1:])\n",
    "\n",
    "print(tuple_nested)\n",
    "\n",
    "print(tuple_nested[0])\n",
    "print(type(tuple_nested[0]))\n",
    "\n",
    "print(tuple_nested[0:2])\n",
    "\n",
    "print(tuple_nested[0][1])\n",
    "print(type(tuple_nested[0][1]))\n",
    "\n",
    "print(tuple_nested[2][3])\n",
    "print(type(tuple_nested[2][3]))\n",
    "\n",
    "print(tuple_nested[5])\n",
    "print(type(tuple_nested[5]))\n",
    "\n",
    "print(tuple_nested[4])\n",
    "print(type(tuple_nested[4]))\n",
    "\n",
    "#print(tuple_nested[1][0])\n",
    "#'int' object is not subscriptable\n"
   ]
  },
  {
   "cell_type": "code",
   "execution_count": 274,
   "metadata": {},
   "outputs": [
    {
     "name": "stdout",
     "output_type": "stream",
     "text": [
      "<class 'tuple'>\n",
      "<class 'list'>\n",
      "<class 'tuple'>\n",
      "<class 'int'>\n"
     ]
    }
   ],
   "source": [
    "mylist = [ 1,2,3,(3,4)]\n",
    "mylist[3]\n",
    "print(type(mylist[3]))\n",
    "\n",
    "mytuple = ([ 1,2,3,(3,4)],5,6,7)\n",
    "mytuple\n",
    "mytuple[0]\n",
    "mytuple[0][3]\n",
    "mytuple[0][3][1]\n",
    "\n",
    "\n",
    "print(type(mytuple[0]))\n",
    "\n",
    "print(type(mytuple[0][3]))\n",
    "\n",
    "print(type(mytuple[0][3][1]))"
   ]
  },
  {
   "cell_type": "code",
   "execution_count": 11,
   "metadata": {},
   "outputs": [
    {
     "name": "stdout",
     "output_type": "stream",
     "text": [
      "(52, False, 'String')\n",
      "(52, False, 'String', 1, 2, 3, 4)\n",
      "[52, False, 'String']\n",
      "[52, 'Hi', 'String']\n"
     ]
    }
   ],
   "source": [
    "# What happens if you try to change a tuple?\n",
    "tuple_mix = (52, False, \"String\")\n",
    "print(tuple_mix)\n",
    "\n",
    "for i in range(1,5,1):\n",
    "    tuple_mix=tuple_mix+(i,)\n",
    "    \n",
    "print(tuple_mix)\n",
    "\n",
    "#tuple_mix[1] = \"Hi\"\n",
    "#cannot update elemets of tuple\n",
    "\n",
    "#updates can be made in list\n",
    "\n",
    "list_mix = [52, False, \"String\"]\n",
    "print(list_mix)\n",
    "\n",
    "list_mix[1] = \"Hi\"\n",
    "print(list_mix)\n",
    "\n",
    "\n"
   ]
  },
  {
   "cell_type": "code",
   "execution_count": 118,
   "metadata": {},
   "outputs": [
    {
     "name": "stdout",
     "output_type": "stream",
     "text": [
      "([1, True, 'Str'], 100, 'Another String', (5, False, 'String'))\n",
      "([1, 'False', 'Str'], 100, 'Another String', (5, False, 'String'))\n"
     ]
    }
   ],
   "source": [
    "tuple_nested = ([1, True, \"Str\"], 100, \"Another String\", (5, False, \"String\"))\n",
    "print(tuple_nested)\n",
    "\n",
    "tuple_nested[0][1] = \"False\"\n",
    "print(tuple_nested)\n",
    "#but it a nested tuple, we can change an element of list nested in a tuple\n",
    "#elements of tuple cannot be changed, but elements of list in a tuple can be changed\n",
    "\n",
    "#tuple_nested[2][2]=\"u\"\n",
    "#string does not support item assignment\n"
   ]
  },
  {
   "cell_type": "markdown",
   "metadata": {},
   "source": [
    "**Dictionary**\n",
    "\n",
    "+ One of the most important built-in data structure.\n",
    "+ Python's dictionaries are kind of hash tables.\n",
    "+ They work like associative arrays and consist of key-value pairs. \n",
    "+ A dictionary key is unique and can be almost any Python type, but are usually numbers or strings ( cannot be a list). **You can also have a tuple as key. In short, keys should be immutable. Because of this, you cannot have a list as key because lists are not immutable.**\n",
    "+ Values, on the other hand, can be any arbitrary Python object (including lists).\n",
    "+ Dictionaries are enclosed by curly braces ( { } ) and values can be assigned and accessed using square braces ( [] ).\n"
   ]
  },
  {
   "cell_type": "code",
   "execution_count": 38,
   "metadata": {},
   "outputs": [
    {
     "name": "stdout",
     "output_type": "stream",
     "text": [
      "{'one': 'This is one', 2: 'This is two'}\n",
      "['CEO', 'peo']\n",
      "This is one\n",
      "This is two\n",
      "{'one': 'This is one', 2: 'This is two'}\n",
      "{'name': 'isb', 'code': 6734, 'dept': 'sales'}\n",
      "dict_keys(['name', 'code', 'dept'])\n",
      "dict_values(['isb', 6734, 'sales'])\n",
      "<class 'dict_keys'>\n",
      "<class 'dict_values'>\n",
      "<class 'dict_keys'>\n"
     ]
    }
   ],
   "source": [
    "dict = {}\n",
    "dict['one'] = \"This is one\"\n",
    "dict[2]     = \"This is two\"\n",
    "print(dict)\n",
    "tinydict = {'name': 'isb','code':6734, 'dept': 'sales'}\n",
    "\n",
    "tuple_dict={(\"Ajay\",\"Vijay\",\"Ramesh\"):\"CEO\", (\"Tesla\",\"Maruti\",\"Mercedes\"): \"Car\"}\n",
    "#tuple_dict={[\"Ajay\",\"Vijay\",\"Ramesh\"]:\"CEO\", (\"Tesla\",\"Maruti\",\"Mercedes\"): \"Car\"}\n",
    "#list cannot be a key, only  a value because its mutable\n",
    "tuple_dict={(\"Ajay\",\"Vijay\",\"Ramesh\"):[\"CEO\",\"peo\"], (\"Tesla\",\"Maruti\",\"Mercedes\"): \"Car\"}\n",
    "print(tuple_dict[(\"Ajay\",\"Vijay\",\"Ramesh\")])\n",
    "\n",
    "print (dict['one'])       # Prints value for 'one' key\n",
    "print (dict[2])           # Prints value for 2 key\n",
    "print(dict)\n",
    "print (tinydict)          # Prints complete dictionary\n",
    "print (tinydict.keys())   # Prints all the keys\n",
    "print (tinydict.values()) # Prints all the values\n",
    "\n",
    "print (type(tinydict.keys()) ) \n",
    "print (type(tinydict.values()) ) \n",
    "\n",
    "tuple_dict_1={(\"Ajay\",\"Vijay\",\"Ramesh\"):[\"CEO\",\"peo\"]}\n",
    "print (type(tuple_dict_1.keys()) )"
   ]
  },
  {
   "cell_type": "code",
   "execution_count": 276,
   "metadata": {},
   "outputs": [
    {
     "name": "stdout",
     "output_type": "stream",
     "text": [
      "isb\n",
      "isb\n",
      "None\n",
      "Car\n",
      "Car\n",
      "None\n"
     ]
    }
   ],
   "source": [
    "print(tinydict.get('name'))\n",
    "print(tinydict['name'])\n",
    "print(tinydict.get('NAME'))\n",
    "print(tuple_dict.get((\"Tesla\",\"Maruti\",\"Mercedes\")))\n",
    "print(tuple_dict[\"Tesla\",\"Maruti\",\"Mercedes\"])\n",
    "print(tuple_dict.get((\"Tesla\",\"Maruti\",\"Mercees\")))"
   ]
  },
  {
   "cell_type": "code",
   "execution_count": 13,
   "metadata": {},
   "outputs": [
    {
     "name": "stdout",
     "output_type": "stream",
     "text": [
      "{'Ajay': {'Math': 80.0, 'Physics': 85, 'Biology': 90}, 'Vijay': {'Math': 90, 'Physics': 95, 'Biology': 60}, 'Ramesh': {'Math': 60, 'Physics': 65, 'Biology': 95}}\n",
      "{'Math': 80.0, 'Physics': 85, 'Biology': 90}\n",
      "80.0\n",
      "<class 'float'>\n",
      "<class 'int'>\n",
      "dict_keys(['Ajay', 'Vijay', 'Ramesh'])\n",
      "dict_values([{'Math': 80.0, 'Physics': 85, 'Biology': 90}, {'Math': 90, 'Physics': 95, 'Biology': 60}, {'Math': 60, 'Physics': 65, 'Biology': 95}])\n",
      "dict_keys(['Math', 'Physics', 'Biology'])\n"
     ]
    }
   ],
   "source": [
    "#nested dictionary\n",
    "\n",
    "dictionary1 = {\"Math\":80.0, \"Physics\":85, \"Biology\": 90}\n",
    "dictionary2 = {\"Math\":90, \"Physics\":95, \"Biology\": 60}\n",
    "dictionary3 = {\"Math\":60, \"Physics\":65, \"Biology\": 95}\n",
    "\n",
    "names = {\"Ajay\":dictionary1, \"Vijay\":dictionary2, \"Ramesh\":dictionary3}\n",
    "print(names)\n",
    "print(names[\"Ajay\"])\n",
    "print(names[\"Ajay\"][\"Math\"])\n",
    "print(type(names[\"Ajay\"][\"Math\"]))\n",
    "print(type(names[\"Ajay\"][\"Physics\"]))\n",
    "\n",
    "print(names.keys())\n",
    "print(names.values())\n",
    "print(dictionary1.keys())"
   ]
  },
  {
   "cell_type": "code",
   "execution_count": 277,
   "metadata": {},
   "outputs": [
    {
     "name": "stdout",
     "output_type": "stream",
     "text": [
      "{'Ajay': [80, 90, 95], 'Vijay': {'Math': 90, 'Physics': 95, 'Biology': 60}, 'Ramesh': {'Math': 60, 'Physics': 65, 'Biology': 95}}\n",
      "[80, 90, 95]\n",
      "80\n"
     ]
    }
   ],
   "source": [
    "#nested dictionary\n",
    "\n",
    "dictionary1 = [80,90,95]\n",
    "dictionary2 = {\"Math\":90, \"Physics\":95, \"Biology\": 60}\n",
    "dictionary3 = {\"Math\":60, \"Physics\":65, \"Biology\": 95}\n",
    "\n",
    "names = {\"Ajay\":dictionary1, \"Vijay\":dictionary2, \"Ramesh\":dictionary3}\n",
    "print(names)\n",
    "print(names[\"Ajay\"])\n",
    "print(names[\"Ajay\"][0])"
   ]
  },
  {
   "cell_type": "markdown",
   "metadata": {},
   "source": [
    "**Sets**\n",
    "\n",
    "A set is an unordered collection of distinct elements"
   ]
  },
  {
   "cell_type": "code",
   "execution_count": 50,
   "metadata": {},
   "outputs": [
    {
     "name": "stdout",
     "output_type": "stream",
     "text": [
      "True\n",
      "False\n"
     ]
    }
   ],
   "source": [
    "animals = {'cat', 'dog'}\n",
    "print ('cat' in animals)   # Check if an element is in a set; prints \"True\"\n",
    "print ('fish' in animals)  # prints \"False\""
   ]
  },
  {
   "cell_type": "code",
   "execution_count": 51,
   "metadata": {},
   "outputs": [
    {
     "name": "stdout",
     "output_type": "stream",
     "text": [
      "True\n",
      "3\n"
     ]
    }
   ],
   "source": [
    "animals.add('fish')      # Add an element to a set\n",
    "print('fish' in animals)\n",
    "print(len(animals) )      # Number of elements in a set;"
   ]
  },
  {
   "cell_type": "code",
   "execution_count": 52,
   "metadata": {},
   "outputs": [
    {
     "name": "stdout",
     "output_type": "stream",
     "text": [
      "{'fish', 'cat', 'dog'}\n",
      "4\n",
      "3\n"
     ]
    }
   ],
   "source": [
    "print(animals)\n",
    "animals.add('bhalu')       # Adding an element that is already in the set does nothing\n",
    "print (len(animals))       \n",
    "animals.remove('cat')    # Remove an element from a set\n",
    "print (len(animals))"
   ]
  },
  {
   "cell_type": "markdown",
   "metadata": {},
   "source": [
    "**Data type conversion**\n",
    "\n",
    "+ Data from one type can be converted into another type using conversion operators.\n",
    "+ Comes in handy when data is not coded in proper format (number coded as string, date coded as string)\n",
    "+ int(variable) - converts variable to integer \n",
    "+ str(variable) - converts variable to string \n",
    "+ float(variable) - converts variable to float (number with decimal) \n"
   ]
  },
  {
   "cell_type": "code",
   "execution_count": 17,
   "metadata": {},
   "outputs": [
    {
     "name": "stdout",
     "output_type": "stream",
     "text": [
      "[1.0, '2', 3]\n",
      "(1, 2, 3)\n",
      "(1.0,)\n"
     ]
    }
   ],
   "source": [
    "list1=[1,2,3]\n",
    "#float(list1)\n",
    "#float() argument must be a string or a number, not 'list'\n",
    "\n",
    "list1=[1,2,3]\n",
    "list1[0]=float(list1[0])\n",
    "list1[1]=str(list1[1])\n",
    "\n",
    "tuple1=(1,2,3)\n",
    "#tuple1[0]=float(tuple1[0])\n",
    "#tuple1[1]=str(tuple1[1])\n",
    "#'tuple' object does not support item assignment\n",
    "\n",
    "tuple2 =()\n",
    "tuple2=tuple2+(float(tuple1[0]),)\n",
    "\n",
    "print(list1)\n",
    "print(tuple1)\n",
    "print(tuple2)"
   ]
  },
  {
   "cell_type": "code",
   "execution_count": 3,
   "metadata": {},
   "outputs": [
    {
     "name": "stdout",
     "output_type": "stream",
     "text": [
      "<class 'int'>\n",
      "<class 'str'>\n"
     ]
    }
   ],
   "source": [
    "\n",
    "num = 10\n",
    " \n",
    "# check  and print type of num variable\n",
    "print(type(num))\n",
    " \n",
    "# convert the num into string\n",
    "converted_num = str(num)\n",
    " \n",
    "# check  and print type converted_num variable\n",
    "print(type(converted_num))"
   ]
  },
  {
   "cell_type": "markdown",
   "metadata": {},
   "source": [
    "**Operators**\n",
    "\n",
    "+ + (plus) : Adds two objects \n",
    "+ - (minus) Gives the subtraction of one number from the other; if the first operand is absent it is assumed to be zero.\n",
    "+ * (multiply) Gives the multiplication of the two numbers or returns the string repeated that many times.\n",
    "+ ** (power) Returns x to the power of y\n",
    "+ / (divide) Divide x by y\n",
    "+ // (floor division) Returns the floor of the quotient\n",
    "+ % (modulo) Returns the remainder of the division\n",
    "+ < (less than) Returns whether x is less than y. All comparison operators return True or False. Note the capitalization of these names.\n",
    "+ > (greater than) Returns whether x is greater than y\n",
    "+ <= (less than or equal to) Returns whether x is less than or equal to y\n",
    "+ >= (greater than or equal to) Returns whether x is greater than or equal to y\n",
    "+ == (equal to) Compares if the objects are equal\n",
    "+ != (not equal to) Compares if the objects are not equal\n",
    "+ not (boolean NOT) If x is True, it returns False. If x is False, it returns True.\n",
    "+ and (boolean AND) x and y returns False if x is False, else it returns evaluation of y\n",
    "+ or (boolean OR) If x is True, it returns True, else it returns evaluation of y"
   ]
  },
  {
   "cell_type": "code",
   "execution_count": 141,
   "metadata": {},
   "outputs": [
    {
     "name": "stdout",
     "output_type": "stream",
     "text": [
      "10\n",
      "4\n",
      "21\n",
      "343\n",
      "2.3333333333333335\n",
      "2\n",
      "1\n",
      "False\n",
      "False\n",
      "True\n"
     ]
    }
   ],
   "source": [
    "a=7\n",
    "b=3\n",
    "print(a+b)\n",
    "print(a-b)\n",
    "print(a*b)\n",
    "print(a**b)\n",
    "print(a/b)\n",
    "print(a//b)\n",
    "print(a%b)\n",
    "print(a<b)\n",
    "print(a==b)\n",
    "print(a!=b)"
   ]
  },
  {
   "cell_type": "code",
   "execution_count": 32,
   "metadata": {},
   "outputs": [
    {
     "name": "stdout",
     "output_type": "stream",
     "text": [
      "1 True\n",
      "2 False\n",
      "3 True\n",
      "4 False\n",
      "5 True\n",
      "6 True\n",
      "7 False\n",
      "8 True\n",
      "9 False\n"
     ]
    }
   ],
   "source": [
    "a = 6\n",
    "b = 7\n",
    "c = 42\n",
    "print (1, a == 6)\n",
    "print (2, a == 7)\n",
    "print (3, a == 6 and b == 7)\n",
    "print (4, a == 7 and b == 7)\n",
    "print (5, not a == 7 and b == 7)\n",
    "print (6, a == 7 or b == 7)\n",
    "print (7, a == 7 or b == 6)\n",
    "print (8, not (a == 7 and b == 6))\n",
    "print (9, not a == 7 and b == 6)\n"
   ]
  },
  {
   "cell_type": "markdown",
   "metadata": {},
   "source": [
    "**Conditional Statements**\n",
    "\n",
    "**If-statement**\n",
    "\n",
    "The if statement is used to check a condition: if the condition is true, we run a block of statements (called the if-block), else we process another block of statements (called the else-block). The else clause is optional."
   ]
  },
  {
   "cell_type": "code",
   "execution_count": 56,
   "metadata": {},
   "outputs": [
    {
     "name": "stdout",
     "output_type": "stream",
     "text": [
      "if\n"
     ]
    }
   ],
   "source": [
    "a = 23\n",
    "if a >= 22:\n",
    "   print(\"if\")"
   ]
  },
  {
   "cell_type": "code",
   "execution_count": 57,
   "metadata": {},
   "outputs": [
    {
     "name": "stdout",
     "output_type": "stream",
     "text": [
      "5\n"
     ]
    }
   ],
   "source": [
    "a=3\n",
    "if a>4:\n",
    "    print(a)\n",
    "elif a>0:\n",
    "    print(a+2)\n",
    "else:\n",
    "    print(a+5)"
   ]
  },
  {
   "cell_type": "code",
   "execution_count": 63,
   "metadata": {},
   "outputs": [
    {
     "name": "stdout",
     "output_type": "stream",
     "text": [
      "elif\n",
      "else_bahar\n"
     ]
    }
   ],
   "source": [
    "a = 13\n",
    "if a >=15:\n",
    "   print(\"if\")\n",
    "elif a >= 11:\n",
    "   print(\"elif\")\n",
    "else:\n",
    "    print(\"else\")\n",
    "print(\"else_bahar\")\n"
   ]
  },
  {
   "cell_type": "code",
   "execution_count": 154,
   "metadata": {},
   "outputs": [
    {
     "name": "stdout",
     "output_type": "stream",
     "text": [
      "Found Vijay\n"
     ]
    }
   ],
   "source": [
    "#Testing for an element in list\n",
    "list = ['Ajay', 'Vijay', 'Ramesh']\n",
    "if 'Vijay' in list:\n",
    "    print('Found Vijay')"
   ]
  },
  {
   "cell_type": "code",
   "execution_count": 30,
   "metadata": {},
   "outputs": [
    {
     "name": "stdout",
     "output_type": "stream",
     "text": [
      "['1', '2']\n",
      "one\n",
      "two\n",
      "1\n",
      "2\n",
      "1\n",
      "2\n",
      "['1', '2']\n"
     ]
    }
   ],
   "source": [
    "disct1 = {'1':\"one\",'2':\"two\"}\n",
    "print(list(disct1.keys()))\n",
    "\n",
    "# disct1[list(disct1.values())=='two']\n",
    "\n",
    "for key in disct1.keys():\n",
    "    print(disct1[key])\n",
    "\n",
    "#printing key in dictionary\n",
    "#interesting\n",
    "for blahblah in disct1.values():\n",
    "    print(list(disct1.keys())[list(disct1.values()).index(blahblah)])\n",
    "#or\n",
    "\n",
    "\n",
    "for i in range(0,len(disct1.keys()),1):\n",
    "    print(list(disct1.keys())[i])\n",
    "\n",
    "print(list(disct1.keys()))\n",
    "\n"
   ]
  },
  {
   "cell_type": "code",
   "execution_count": 35,
   "metadata": {},
   "outputs": [
    {
     "name": "stdout",
     "output_type": "stream",
     "text": [
      "0\n",
      "1\n"
     ]
    }
   ],
   "source": [
    "for blahblah in disct1.values():\n",
    "    print(list(disct1.values()).index(blahblah))"
   ]
  },
  {
   "cell_type": "markdown",
   "metadata": {},
   "source": [
    "**While-statement**\n",
    "\n",
    "The while statement allows you to repeatedly execute a block of statements as long as a condition is true. A while statement is an example of what is called a looping statement. A while statement can have an optional else clause."
   ]
  },
  {
   "cell_type": "code",
   "execution_count": 71,
   "metadata": {},
   "outputs": [
    {
     "name": "stdout",
     "output_type": "stream",
     "text": [
      "The count is: 0\n",
      "End of while loop TEMP!\n",
      "The count is: 1\n",
      "End of while loop TEMP!\n",
      "The count is: 2\n",
      "End of while loop TEMP!\n",
      "The count is: 3\n",
      "End of while loop TEMP!\n",
      "The count is: 4\n",
      "End of while loop TEMP!\n",
      "The count is: 5\n",
      "End of while loop TEMP!\n",
      "The count is: 6\n",
      "End of while loop TEMP!\n",
      "The count is: 7\n",
      "End of while loop TEMP!\n",
      "The count is: 8\n",
      "End of while loop TEMP!\n",
      "End of while loop FINAL!\n"
     ]
    }
   ],
   "source": [
    "count = 0\n",
    "while (count < 9):\n",
    "   print ('The count is:', count)\n",
    "   count = count + 1\n",
    "   print (\"End of while loop TEMP!\")\n",
    "\n",
    "print (\"End of while loop FINAL!\")\n"
   ]
  },
  {
   "cell_type": "code",
   "execution_count": 165,
   "metadata": {},
   "outputs": [
    {
     "name": "stdout",
     "output_type": "stream",
     "text": [
      "The count is: 0\n",
      "End of while loop!\n",
      "The count is: 1\n",
      "End of while loop!\n",
      "The count is: 2\n",
      "End of while loop!\n",
      "The count is: 3\n",
      "End of while loop!\n",
      "The count is: 4\n",
      "End of while loop!\n",
      "The count is: 5\n",
      "End of while loop!\n",
      "The count is: 6\n",
      "End of while loop!\n",
      "The count is: 7\n",
      "End of while loop!\n",
      "The count is: 8\n",
      "End of while loop!\n"
     ]
    }
   ],
   "source": [
    "count = 0\n",
    "while (count < 9):\n",
    "   print ('The count is:', count)\n",
    "   count = count + 1\n",
    "   print (\"End of while loop!\")"
   ]
  },
  {
   "cell_type": "markdown",
   "metadata": {},
   "source": [
    "**For-statement**\n",
    "\n",
    "The for..in statement is another looping statement which iterates over a sequence of objects i.e. go through each item in a sequence. A sequence is just an ordered collection of items."
   ]
  },
  {
   "cell_type": "code",
   "execution_count": 14,
   "metadata": {},
   "outputs": [
    {
     "name": "stdout",
     "output_type": "stream",
     "text": [
      "1\n",
      "3\n",
      "1\n",
      "3\n",
      "5\n"
     ]
    }
   ],
   "source": [
    "for i in range(1,5,2):\n",
    "    print (i)\n",
    "    \n",
    "for i in range(1,6,2):\n",
    "    print (i)\n",
    "    \n",
    "#else:\n",
    "#   print \"The for loop is over\"\n",
    "#this goes till 4"
   ]
  },
  {
   "cell_type": "code",
   "execution_count": 50,
   "metadata": {},
   "outputs": [
    {
     "name": "stdout",
     "output_type": "stream",
     "text": [
      "10\n"
     ]
    }
   ],
   "source": [
    "#Traversing a list\n",
    "#What is the output\n",
    "numbers = [2, 3, 5]\n",
    "sum = 0\n",
    "for num in numbers:\n",
    "    sum += num  #sum = sum+num\n",
    "print (sum)"
   ]
  },
  {
   "cell_type": "code",
   "execution_count": 287,
   "metadata": {},
   "outputs": [
    {
     "name": "stdout",
     "output_type": "stream",
     "text": [
      "dcba\n",
      "abcd\n"
     ]
    }
   ],
   "source": [
    "string = [\"a\",\"b\",\"c\",\"d\"]\n",
    "sum1 = \"\"\n",
    "sum2 = \"\"\n",
    "for stro in string:\n",
    "    sum1 = stro + sum1 \n",
    "    sum2 = sum2 + stro\n",
    "print (sum1)\n",
    "print (sum2)"
   ]
  },
  {
   "cell_type": "code",
   "execution_count": 15,
   "metadata": {},
   "outputs": [
    {
     "name": "stdout",
     "output_type": "stream",
     "text": [
      "2\n",
      "2\n",
      "5\n",
      "6\n",
      "10\n",
      "30\n",
      "10\n",
      "30\n"
     ]
    }
   ],
   "source": [
    "numbers = [2, 3, 5]\n",
    "cum=0\n",
    "cum1=1\n",
    "for num in numbers:\n",
    "    cum+=num\n",
    "    cum1*=num\n",
    "    print(cum)\n",
    "    print(cum1)\n",
    "print(cum)\n",
    "print(cum1)"
   ]
  },
  {
   "cell_type": "code",
   "execution_count": 20,
   "metadata": {},
   "outputs": [
    {
     "name": "stdout",
     "output_type": "stream",
     "text": [
      "2\n",
      "5\n",
      "10\n"
     ]
    }
   ],
   "source": [
    "numbers = [2, 3, 5,6,8,9,10]\n",
    "cum=0\n",
    "for num in numbers:\n",
    "    if cum < 11:\n",
    "      cum+=num\n",
    "      if cum < 11:\n",
    "       print(cum)\n"
   ]
  },
  {
   "cell_type": "code",
   "execution_count": 36,
   "metadata": {},
   "outputs": [
    {
     "name": "stdout",
     "output_type": "stream",
     "text": [
      "2\n",
      "5\n",
      "10\n",
      "16\n"
     ]
    }
   ],
   "source": [
    "numbers = [2, 3, 5,6,8,9,10]\n",
    "cum=0\n",
    "cum1=1\n",
    "for num in numbers:\n",
    "    if cum < 11:\n",
    "     cum+=num\n",
    "     print(cum)\n"
   ]
  },
  {
   "cell_type": "code",
   "execution_count": 184,
   "metadata": {},
   "outputs": [
    {
     "name": "stdout",
     "output_type": "stream",
     "text": [
      "[4, 5, 7]\n",
      "[8, 15, 35]\n",
      "[4, 9, 25]\n"
     ]
    }
   ],
   "source": [
    "numbers = [2, 3, 5]\n",
    "getsum = [ i+2 for i in numbers ]\n",
    "getmultiply = [ i*(i+2) for i in numbers ]\n",
    "getsquare = [ i*i for i in numbers ]\n",
    "print (getsum)\n",
    "print (getmultiply)\n",
    "print (getsquare)"
   ]
  },
  {
   "cell_type": "code",
   "execution_count": 27,
   "metadata": {},
   "outputs": [
    {
     "name": "stdout",
     "output_type": "stream",
     "text": [
      "[4, 5, 7]\n",
      "<generator object <genexpr> at 0x7feacc0497b0>\n",
      "(4, 5, 7)\n",
      "[4, 5, 7]\n"
     ]
    }
   ],
   "source": [
    "numbers = (2, 3, 5)\n",
    "getsum_list = [ i+2 for i in numbers ]\n",
    "getsum_tupply = (i+2 for i in numbers )\n",
    "getsum_tupply1=tuple(getsum_tupply)\n",
    "list2= list(getsum_tupply1)\n",
    "\n",
    "print (getsum_list)\n",
    "print (getsum_tupply)\n",
    "print (getsum_tupply1)\n",
    "print(list2)\n",
    "#doesnt work on tuple"
   ]
  },
  {
   "cell_type": "code",
   "execution_count": 28,
   "metadata": {},
   "outputs": [
    {
     "name": "stdout",
     "output_type": "stream",
     "text": [
      "(2, 3, 5)\n",
      "[(2, 3, 5)]\n",
      "[2, 3, 5]\n",
      "[2, 3, 5]\n",
      "(4, 9, 25)\n",
      "<class 'tuple'>\n",
      "<class 'list'>\n"
     ]
    }
   ],
   "source": [
    "numbers = (2, 3, 5)\n",
    "list1= [numbers]\n",
    "list2 = list(numbers)\n",
    "\n",
    "list3 = [ i for i in numbers]\n",
    "#important\n",
    "\n",
    "#num2= numbers*numbers\n",
    "#can't multiply sequence by non-int of type 'tuple'\n",
    "#for loop cannot be applied on tuple because it is immutable.it can only be defined once.\n",
    "\n",
    "tuple1 = tuple( i*i for i in numbers)\n",
    "\n",
    "\n",
    "print (numbers)\n",
    "print (list1)\n",
    "print (list2)\n",
    "print (list3)\n",
    "print (tuple1)\n",
    "\n",
    "print(type(numbers))\n",
    "print(type(list1))\n"
   ]
  },
  {
   "cell_type": "code",
   "execution_count": 30,
   "metadata": {},
   "outputs": [
    {
     "name": "stdout",
     "output_type": "stream",
     "text": [
      "[4, 5]\n"
     ]
    }
   ],
   "source": [
    "numbers1 = [2, 3, 5]\n",
    "bilas = [ i+2 for i in numbers1 if i<5]\n",
    "print (bilas)\n",
    "#cannot be done in tuple"
   ]
  },
  {
   "cell_type": "markdown",
   "metadata": {},
   "source": [
    "**Break statement**\n",
    "\n",
    "The break statement is used to break out of a loop statement i.e. stop the execution of a looping statement, even if the loop condition has not become False or the sequence of items has not been completely iterated over.\n",
    "\n",
    "An important note is that if you break out of a for or while loop, any corresponding loop else block is not executed."
   ]
  },
  {
   "cell_type": "code",
   "execution_count": 4,
   "metadata": {},
   "outputs": [
    {
     "name": "stdout",
     "output_type": "stream",
     "text": [
      "1\n",
      "2\n",
      "3\n",
      "4\n",
      "5\n",
      "Done\n"
     ]
    }
   ],
   "source": [
    "#substitute for while\n",
    "for i in range(1,10):\n",
    "       if i == 7 or i/5==1.20:\n",
    "           break\n",
    "       else:\n",
    "           print (i)\n",
    "print('Done')"
   ]
  },
  {
   "cell_type": "code",
   "execution_count": 38,
   "metadata": {},
   "outputs": [
    {
     "name": "stdout",
     "output_type": "stream",
     "text": [
      "[3, 4, 5, 6, 7, 8, 9]\n",
      "[1, 4, 9, 16]\n"
     ]
    }
   ],
   "source": [
    "numbers= [1,2,3,4,5,6,7]\n",
    "\n",
    "num2 = [i+2 for i in numbers]\n",
    "print(num2)\n",
    "\n",
    "num3=[]\n",
    "for i in numbers:\n",
    "    if i > 4:\n",
    "        break\n",
    "    else:\n",
    "        num3 = num3 + [i*i]\n",
    "    \n",
    "\n",
    "print(num3)\n",
    "    \n",
    "    "
   ]
  },
  {
   "cell_type": "code",
   "execution_count": 222,
   "metadata": {},
   "outputs": [
    {
     "name": "stdout",
     "output_type": "stream",
     "text": [
      "1\n",
      "2\n",
      "3\n",
      "4\n",
      "Done\n"
     ]
    }
   ],
   "source": [
    "for i in range(1,10):\n",
    "    if i == 5:\n",
    "           break\n",
    "    else:\n",
    "           print (i)\n",
    "print('Done')"
   ]
  },
  {
   "cell_type": "code",
   "execution_count": null,
   "metadata": {},
   "outputs": [],
   "source": [
    "#Exercise time\n"
   ]
  },
  {
   "cell_type": "code",
   "execution_count": 236,
   "metadata": {},
   "outputs": [
    {
     "name": "stdout",
     "output_type": "stream",
     "text": [
      "Caesar cipher method is named after Julius Caesar!\n"
     ]
    }
   ],
   "source": [
    "string = \"Pnrfne pvcure zrgubq vf anzrq nsgre Whyvhf Pnrfne!\"\n",
    "key = {'a':'n', 'b':'o', 'c':'p', 'd':'q', 'e':'r', 'f':'s', 'g':'t', 'h':'u', 'i':'v', 'j':'w', 'k':'x', 'l':'y', 'm':'z', 'n':'a', 'o':'b', 'p':'c', 'q':'d', 'r':'e', 's':'f', 't':'g', 'u':'h', 'v':'i', 'w':'j', 'x':'k', 'y':'l', 'z':'m', 'A':'N', 'B':'O', 'C':'P', 'D':'Q', 'E':'R', 'F':'S', 'G':'T', 'H':'U', 'I':'V', 'J':'W', 'K':'X', 'L':'Y', 'M':'Z', 'N':'A', 'O':'B', 'P':'C', 'Q':'D', 'R':'E', 'S':'F', 'T':'G', 'U':'H', 'V':'I', 'W':'J', 'X':'K', 'Y':'L', 'Z':'M'}\n",
    "\n",
    "result = \"\"\n",
    "\n",
    "for i in string:\n",
    "    if i in key.keys():\n",
    "        result=result + key[i]\n",
    "    else:\n",
    "        result = result+i\n",
    "        \n",
    "print(result)\n",
    "\n",
    "\n",
    "\n"
   ]
  },
  {
   "cell_type": "markdown",
   "metadata": {},
   "source": [
    "**Exercise**\n"
   ]
  },
  {
   "cell_type": "markdown",
   "metadata": {},
   "source": [
    "**Exercise**\n",
    "\n",
    "In cryptography, a Caesar cipher is a very simple encryption techniques in which each letter in the plain text is replaced by a letter some fixed number of positions down the alphabet. For example, with a shift of 3, A would be replaced by D, B would become E, and so on. The method is named after Julius Caesar, who used it to communicate with his generals. ROT-13 (\"rotate by 13 places\") is a widely used example of a Caesar cipher where the shift is 13. In Python, the key for ROT-13 may be represented by means of the following dictionary:\n",
    "\n",
    "key = {'a':'n', 'b':'o', 'c':'p', 'd':'q', 'e':'r', 'f':'s', 'g':'t', 'h':'u', \n",
    "       'i':'v', 'j':'w', 'k':'x', 'l':'y', 'm':'z', 'n':'a', 'o':'b', 'p':'c', \n",
    "       'q':'d', 'r':'e', 's':'f', 't':'g', 'u':'h', 'v':'i', 'w':'j', 'x':'k',\n",
    "       'y':'l', 'z':'m', 'A':'N', 'B':'O', 'C':'P', 'D':'Q', 'E':'R', 'F':'S', \n",
    "       'G':'T', 'H':'U', 'I':'V', 'J':'W', 'K':'X', 'L':'Y', 'M':'Z', 'N':'A', \n",
    "       'O':'B', 'P':'C', 'Q':'D', 'R':'E', 'S':'F', 'T':'G', 'U':'H', 'V':'I', \n",
    "       'W':'J', 'X':'K', 'Y':'L', 'Z':'M'}\n",
    "\n",
    "Your task in this exercise is to implement an encoder/decoder of ROT-13. Once you're done, you will be able to read the following secret message:\n",
    "\n",
    "   Pnrfne pvcure zrgubq vf anzrq nsgre Whyvhf Pnrfne!\n",
    "\n",
    "Note that since English has 26 characters, your ROT-13 program will be able to both encode and decode texts written in English.\n"
   ]
  },
  {
   "cell_type": "code",
   "execution_count": 73,
   "metadata": {},
   "outputs": [
    {
     "name": "stdout",
     "output_type": "stream",
     "text": [
      "Caesar cipher method is named after Julius Caesar!\n"
     ]
    }
   ],
   "source": [
    "key = {'a':'n', 'b':'o', 'c':'p', 'd':'q', 'e':'r', 'f':'s', 'g':'t', 'h':'u', 'i':'v', 'j':'w', 'k':'x', 'l':'y', 'm':'z', 'n':'a', 'o':'b', 'p':'c', 'q':'d', 'r':'e', 's':'f', 't':'g', 'u':'h', 'v':'i', 'w':'j', 'x':'k', 'y':'l', 'z':'m', 'A':'N', 'B':'O', 'C':'P', 'D':'Q', 'E':'R', 'F':'S', 'G':'T', 'H':'U', 'I':'V', 'J':'W', 'K':'X', 'L':'Y', 'M':'Z', 'N':'A', 'O':'B', 'P':'C', 'Q':'D', 'R':'E', 'S':'F', 'T':'G', 'U':'H', 'V':'I', 'W':'J', 'X':'K', 'Y':'L', 'Z':'M'}\n",
    "strng = \"Pnrfne pvcure zrgubq vf anzrq nsgre Whyvhf Pnrfne!\"\n",
    "out_string=\"\"\n",
    "for i in strng:\n",
    "    if i in key.keys():\n",
    "        out_string=out_string+(key[i])\n",
    "    else:\n",
    "        out_string=out_string+i\n",
    "    \n",
    "print(out_string)    \n",
    " \n",
    "        "
   ]
  },
  {
   "cell_type": "markdown",
   "metadata": {},
   "source": [
    "**Closing and Opening Files**\n",
    "\n",
    "+ Python, along with associated packages, supports a number of formats for file reading and writing. \n",
    "+ The file types supported are txt, csv, xls, xlsx, doc, docx, dat, output, sql (and some specialized formats such as R, .dta, sas7bdat)\n",
    "+ Here, we will cover some of the options and will look at the rest in session on pandas.\n",
    "+ In order to open a file, use open() method specifying file name and mode of opening (read, write, append, etc)\n",
    "+ Open returns a file handle \n",
    "+ handle = open(filename, mode)\n",
    "+ Once work is done, it is always better to close the file otherwise other programs might not be able to access the file.\n",
    "+ File closing is done using close() method\n"
   ]
  },
  {
   "cell_type": "code",
   "execution_count": 39,
   "metadata": {},
   "outputs": [
    {
     "ename": "FileNotFoundError",
     "evalue": "[Errno 2] No such file or directory: '/Users/vikrantdhawan/Dropbox/My Mac (Vikrant’s MacBook Air)/Downloads/inputdatacopy.txt'",
     "output_type": "error",
     "traceback": [
      "\u001b[0;31m---------------------------------------------------------------------------\u001b[0m",
      "\u001b[0;31mFileNotFoundError\u001b[0m                         Traceback (most recent call last)",
      "\u001b[0;32m<ipython-input-39-4b4ea812fc96>\u001b[0m in \u001b[0;36m<module>\u001b[0;34m\u001b[0m\n\u001b[0;32m----> 1\u001b[0;31m \u001b[0mf\u001b[0m \u001b[0;34m=\u001b[0m \u001b[0mopen\u001b[0m\u001b[0;34m(\u001b[0m\u001b[0;34m'/Users/vikrantdhawan/Dropbox/My Mac (Vikrant’s MacBook Air)/Downloads/inputdatacopy.txt'\u001b[0m\u001b[0;34m,\u001b[0m \u001b[0;34m'r'\u001b[0m\u001b[0;34m)\u001b[0m\u001b[0;34m\u001b[0m\u001b[0;34m\u001b[0m\u001b[0m\n\u001b[0m\u001b[1;32m      2\u001b[0m \u001b[0;32mfor\u001b[0m \u001b[0mline\u001b[0m \u001b[0;32min\u001b[0m \u001b[0mf\u001b[0m\u001b[0;34m:\u001b[0m\u001b[0;34m\u001b[0m\u001b[0;34m\u001b[0m\u001b[0m\n\u001b[1;32m      3\u001b[0m  \u001b[0mprint\u001b[0m\u001b[0;34m(\u001b[0m\u001b[0mline\u001b[0m\u001b[0;34m)\u001b[0m\u001b[0;34m\u001b[0m\u001b[0;34m\u001b[0m\u001b[0m\n\u001b[1;32m      4\u001b[0m \u001b[0mf\u001b[0m\u001b[0;34m.\u001b[0m\u001b[0mclose\u001b[0m\u001b[0;34m(\u001b[0m\u001b[0;34m)\u001b[0m\u001b[0;34m\u001b[0m\u001b[0;34m\u001b[0m\u001b[0m\n\u001b[1;32m      5\u001b[0m \u001b[0;34m\u001b[0m\u001b[0m\n",
      "\u001b[0;31mFileNotFoundError\u001b[0m: [Errno 2] No such file or directory: '/Users/vikrantdhawan/Dropbox/My Mac (Vikrant’s MacBook Air)/Downloads/inputdatacopy.txt'"
     ]
    }
   ],
   "source": [
    "f = open('/Users/vikrantdhawan/Dropbox/My Mac (Vikrant’s MacBook Air)/Downloads/inputdatacopy.txt', 'r')\n",
    "for line in f:   \n",
    " print(line)                 \n",
    "f.close()\n",
    "\n"
   ]
  },
  {
   "cell_type": "code",
   "execution_count": 41,
   "metadata": {},
   "outputs": [
    {
     "name": "stdout",
     "output_type": "stream",
     "text": [
      "File Name is  /Users/vikrantdhawan/Dropbox/My Mac (Vikrant’s MacBook Air)/Downloads/Python/crsp.output\n",
      "6\n"
     ]
    }
   ],
   "source": [
    "capmdata = open('/Users/vikrantdhawan/Dropbox/My Mac (Vikrant’s MacBook Air)/Downloads/Python/capm_dem.dat','r')\n",
    "crspdata = open('/Users/vikrantdhawan/Dropbox/My Mac (Vikrant’s MacBook Air)/Downloads/Python/crsp.output','r')\n",
    "print (\"File Name is \", crspdata.name)\n",
    "#print (\"Content is \", capmdata.read())\n",
    "copycapmdata = open('/Users/vikrantdhawan/Dropbox/My Mac (Vikrant’s MacBook Air)/Downloads/capm_dem_copy.txt',\"w\")\n",
    "print(capmdata.seek(6,))\n",
    "copycapmdata.write(capmdata.read())\n",
    "crspdata.close()\n",
    "copycapmdata.close()\n",
    "capmdata.close()\n"
   ]
  },
  {
   "cell_type": "code",
   "execution_count": 45,
   "metadata": {},
   "outputs": [
    {
     "name": "stdout",
     "output_type": "stream",
     "text": [
      "File Name is  /Users/vikrantdhawan/Dropbox/My Mac (Vikrant’s MacBook Air)/Downloads/R_LIB/inputdatacopy.txt\n",
      "Content is  \n"
     ]
    },
    {
     "ename": "UnsupportedOperation",
     "evalue": "not readable",
     "output_type": "error",
     "traceback": [
      "\u001b[0;31m---------------------------------------------------------------------------\u001b[0m",
      "\u001b[0;31mUnsupportedOperation\u001b[0m                      Traceback (most recent call last)",
      "\u001b[0;32m<ipython-input-45-ee11fcaa90e0>\u001b[0m in \u001b[0;36m<module>\u001b[0;34m\u001b[0m\n\u001b[1;32m      6\u001b[0m \u001b[0mcopyf\u001b[0m\u001b[0;34m.\u001b[0m\u001b[0mwrite\u001b[0m\u001b[0;34m(\u001b[0m\u001b[0mf\u001b[0m\u001b[0;34m.\u001b[0m\u001b[0mread\u001b[0m\u001b[0;34m(\u001b[0m\u001b[0;34m)\u001b[0m\u001b[0;34m)\u001b[0m\u001b[0;34m\u001b[0m\u001b[0;34m\u001b[0m\u001b[0m\n\u001b[1;32m      7\u001b[0m \u001b[0;34m\u001b[0m\u001b[0m\n\u001b[0;32m----> 8\u001b[0;31m \u001b[0mprint\u001b[0m \u001b[0;34m(\u001b[0m\u001b[0;34m\"Content is \"\u001b[0m\u001b[0;34m,\u001b[0m \u001b[0mcopyf\u001b[0m\u001b[0;34m.\u001b[0m\u001b[0mread\u001b[0m\u001b[0;34m(\u001b[0m\u001b[0;34m)\u001b[0m\u001b[0;34m)\u001b[0m\u001b[0;34m\u001b[0m\u001b[0;34m\u001b[0m\u001b[0m\n\u001b[0m",
      "\u001b[0;31mUnsupportedOperation\u001b[0m: not readable"
     ]
    }
   ],
   "source": [
    "f = open('/Users/vikrantdhawan/Dropbox/My Mac (Vikrant’s MacBook Air)/Downloads/R_LIB/inputdatacopy.txt', 'r')\n",
    "print (\"File Name is \", f.name)\n",
    "print (\"Content is \", f.read())\n",
    "\n",
    "copyf = open('/Users/vikrantdhawan/Dropbox/My Mac (Vikrant’s MacBook Air)/Downloads/R_LIB/inputdatacopy.txt',\"w\")\n",
    "copyf.write(f.read())\n",
    "\n",
    "print (\"Content is \", copyf.read())"
   ]
  },
  {
   "cell_type": "markdown",
   "metadata": {},
   "source": [
    "**Functions**\n",
    "\n",
    "+ Functions are reusable piece of software.\n",
    "+ Block of statements that accepts some arguments, perform some functionality, and provide the output.\n",
    "+ Defined using def keyword\n",
    "+ Similar to functions in R.\n",
    "+ For example, implement code to perform two way clustering once and can be used again in the same program. \n",
    "+ We will look at functions for a number of features (Fama Mac Beth regression, two way clustering, industry code classification) in subsequent sessions. \n",
    "+ A function can take arguments.\n",
    "+ Arguments are specified within parentheses in function definition separated by commas.\n",
    "+ It is also possible to assign default values to parameters in order to make the program flexible and not behave in an unexpected manner.\n",
    "+ One of the most powerful feature of functions is that it allows you to pass any number of arguments and you do not have to worry about specifying the number when writing the function. This feature becomes extremely important when dealing with lists or input data where you do not know number of data observations before hand.\n",
    "+ Scope of variables defined inside a function is local i.e. they cannot be used outside of a function.\n"
   ]
  },
  {
   "cell_type": "code",
   "execution_count": 122,
   "metadata": {},
   "outputs": [
    {
     "name": "stdout",
     "output_type": "stream",
     "text": [
      "Hello World!\n"
     ]
    }
   ],
   "source": [
    "def sayHello():\n",
    "    print('Hello World!') # block belonging to the function\n",
    "# End of function #\n",
    "\n",
    "sayHello()"
   ]
  },
  {
   "cell_type": "code",
   "execution_count": 78,
   "metadata": {},
   "outputs": [
    {
     "name": "stdout",
     "output_type": "stream",
     "text": [
      "4.00000000001 is maximum\n"
     ]
    }
   ],
   "source": [
    "def printMax(a, b):\n",
    "   if a > b:\n",
    "       print(a, 'is maximum')\n",
    "   elif a == b:\n",
    "       print(a, 'is equal to', b)\n",
    "   else:\n",
    "       print(b, 'is maximum')\n",
    "\n",
    "printMax(4.00000000001, 4) "
   ]
  },
  {
   "cell_type": "code",
   "execution_count": 265,
   "metadata": {},
   "outputs": [
    {
     "name": "stdout",
     "output_type": "stream",
     "text": [
      "Hello \n",
      "World World World World World \n"
     ]
    }
   ],
   "source": [
    "def say(message, times = 1):\n",
    "   print((message+ \" \")* times)\n",
    "\n",
    "say('Hello')\n",
    "say('World', 5)"
   ]
  },
  {
   "cell_type": "code",
   "execution_count": 82,
   "metadata": {},
   "outputs": [
    {
     "name": "stdout",
     "output_type": "stream",
     "text": [
      "a is 3 and b is 7 and c is 10\n",
      "a is 25 and b is 5 and c is 24\n",
      "a is 100 and b is 5 and c is 50\n"
     ]
    }
   ],
   "source": [
    "def func(a, b=5, c=10):\n",
    "   print('a is', a, 'and b is', b, 'and c is', c)\n",
    "func(3, 7)\n",
    "func(25, c=24)\n",
    "func(c=50, a=100)"
   ]
  },
  {
   "cell_type": "code",
   "execution_count": 266,
   "metadata": {},
   "outputs": [
    {
     "name": "stdout",
     "output_type": "stream",
     "text": [
      "x is 50\n",
      "Changed local x to 2\n",
      "x is still 50\n",
      "x is 50\n",
      "Changed local x to 2\n"
     ]
    }
   ],
   "source": [
    "x = 50\n",
    "def func(x):\n",
    "   print('x is', x)\n",
    "   x = 2\n",
    "   print('Changed local x to', x)\n",
    "func(x)\n",
    "print('x is still', x)\n",
    "func(x)"
   ]
  },
  {
   "cell_type": "code",
   "execution_count": 125,
   "metadata": {},
   "outputs": [
    {
     "name": "stdout",
     "output_type": "stream",
     "text": [
      "The best selling car is Tesla\n",
      "Best cars in the world are Tesla,Maruti,Mercedes\n",
      "The best selling car is Tesla\n",
      "Best cars in the world are Tesla,Maruti,Mercedes\n",
      "<class 'NoneType'>\n"
     ]
    }
   ],
   "source": [
    "# Arbitrary arguments. Sometimes we do not know how many arguments can be \n",
    "# passed. In that case, Python allows the concept of arbitrary arguments.\n",
    "\n",
    "def func_arb_arguments(*arb_args):\n",
    " print(\"The best selling car is \" + arb_args[0])\n",
    " print(\"Best cars in the world are \" + arb_args[0] + \",\" + arb_args[1] + \",\" + arb_args[2])\n",
    "\n",
    "        \n",
    "func_arb_arguments(\"Tesla\", \"Maruti\", \"Mercedes\")\n"
   ]
  },
  {
   "cell_type": "code",
   "execution_count": 49,
   "metadata": {},
   "outputs": [
    {
     "name": "stdout",
     "output_type": "stream",
     "text": [
      "6\n",
      "0\n",
      "1\n",
      "2\n",
      "3\n",
      "4\n",
      "5\n",
      "4\n",
      "The best selling car is Tesla\n",
      "Best cars in the world are Tesla, Maruti, Mercedes and 1221\n"
     ]
    }
   ],
   "source": [
    "def no_of_arg(*arb):\n",
    "    print(len(arb))\n",
    "    for i in range(0,len(arb),1):\n",
    "            print(i)\n",
    "    print(arb[3])\n",
    "no_of_arg(1,2,3,4,5,6)\n",
    "\n",
    "\n",
    "def func_arb_arguments(*arb_args):\n",
    "    if len(arb_args)==1:\n",
    "        print(\"The best selling car is\",arb_args[0])\n",
    "    elif len(arb_args)>1:\n",
    "        c=\"Best cars in the world are \"\n",
    "        for i in range(0,len(arb_args),1):\n",
    "            if i==0:\n",
    "               c = c+arb_args[i]\n",
    "            elif i==len(arb_args)-1:\n",
    "               c = c+' and ' + arb_args[i]\n",
    "            else:\n",
    "               c = c+', ' + arb_args[i]\n",
    "        print(c)  \n",
    "\n",
    "func_arb_arguments(\"Tesla\")\n",
    "func_arb_arguments(\"Tesla\", \"Maruti\", \"Mercedes\", '1221')\n",
    "\n"
   ]
  },
  {
   "cell_type": "code",
   "execution_count": 270,
   "metadata": {},
   "outputs": [
    {
     "name": "stdout",
     "output_type": "stream",
     "text": [
      "10\n",
      "16\n",
      "166\n",
      "10\n",
      "166\n",
      "166\n"
     ]
    }
   ],
   "source": [
    "def total(initial=5, *numbers, **keywords):\n",
    "   count = initial\n",
    "   print(count)\n",
    "   for number in numbers:\n",
    "       count += number\n",
    "   print(count)\n",
    "   for key in keywords:\n",
    "       count += keywords[key]\n",
    "   return count\n",
    "\n",
    "print(total(10, 1, 2, 3, vegetables=50, fruits=100))\n",
    "print(total(10, 1, 2, 3,50,100))"
   ]
  },
  {
   "cell_type": "markdown",
   "metadata": {},
   "source": [
    "**Modules**\n",
    "\n",
    "+ Functions can be used in the same program. \n",
    "+ If you want to use function (s) in other programs, make use of modules.\n",
    "+ Modules can be imported in other programs and functions contained in those modules can be used.\n",
    "+ Simplest way to create a module is to write a .py file with functions defined in that file.\n",
    "+ Other way is to import using byte-compiled .pyc files. "
   ]
  },
  {
   "cell_type": "code",
   "execution_count": 43,
   "metadata": {},
   "outputs": [
    {
     "name": "stdout",
     "output_type": "stream",
     "text": [
      "/Users/vikrantdhawan/Dropbox/My Mac (Vikrant’s MacBook Air)/Downloads/Python\n",
      "25.0\n",
      "15511210043330985984000000\n"
     ]
    }
   ],
   "source": [
    "import os\n",
    "print (os.getcwd())\n",
    "import math\n",
    "x = -25\n",
    "print(math.fabs(x))\n",
    "print(math.factorial(abs(x)))"
   ]
  },
  {
   "cell_type": "code",
   "execution_count": 49,
   "metadata": {},
   "outputs": [
    {
     "name": "stdout",
     "output_type": "stream",
     "text": [
      "Enter a non negative number8\n",
      "8\n",
      "40320\n",
      "40320\n"
     ]
    }
   ],
   "source": [
    "# import mymodule\n",
    "# from mymodule import * #import mymodule\n",
    "# print(sayhi())\n",
    "\n",
    "\n",
    "numb = input(\"Enter a non negative number\")\n",
    "print(numb)\n",
    "num_factorial = factorial(int(numb))\n",
    "print(num_factorial)"
   ]
  },
  {
   "cell_type": "markdown",
   "metadata": {},
   "source": [
    "**Writing first program**\n",
    "\n",
    "+ Source files .py extension, and can be run from command prompt by using python filename.py (optional arguments) command. \n",
    "+ Examine name.py. \n",
    "+ First line imports modules\n",
    "+ Next line defines a main() function. We can specify command line arguments. Command line args are in sys.argv[1], sys.argv[2]\n",
    "+ sys.argv[0] is the script name itself and can be ignored\n",
    "+ name = 'main' starts the program. \n",
    "+ When a Python file is run directly, the special variable \"__name__\" is set to \"__main__\". Therefore, it's common to have the boilerplate if __name__ ==... shown above to call a main() function when the module is run directly, but not when the module is imported by some other module."
   ]
  },
  {
   "cell_type": "code",
   "execution_count": 51,
   "metadata": {},
   "outputs": [
    {
     "name": "stdout",
     "output_type": "stream",
     "text": [
      "Hello there\n",
      "Hello\n",
      "WorldWorldWorldWorldWorld\n",
      "a is 3 and b is 7 and c is 10\n",
      "a is 25 and b is 5 and c is 24\n",
      "a is 100 and b is 5 and c is 50\n"
     ]
    }
   ],
   "source": [
    "#Run name.py\n",
    "%run \"/Users/vikrantdhawan/Dropbox/My Mac (Vikrant’s MacBook Air)/Downloads/Python/name2.py\"\n",
    "\n",
    "#running an external python file\n",
    "# the things appearing in the console are output"
   ]
  },
  {
   "cell_type": "code",
   "execution_count": 54,
   "metadata": {},
   "outputs": [
    {
     "name": "stdout",
     "output_type": "stream",
     "text": [
      "#!/usr/bin/env python\n",
      "\n",
      "# coding: utf-8\n",
      "\n",
      "\n",
      "\n",
      "# In[11]:\n",
      "\n",
      "\n",
      "\n",
      "\n",
      "\n",
      "'''\"\"\"Define a function overlapping() that takes two lists and \n",
      "\n",
      "returns True if they have at least one member in common, \n",
      "\n",
      "False otherwise. You may use your is_member() function, \n",
      "\n",
      "or the in operator, but for the sake of the exercise, \n",
      "\n",
      "you should (also) write it using two nested for-loops.\"\"\"'''\n",
      "\n",
      "\n",
      "\n",
      "def overlapping (x,y):\n",
      "\n",
      "\n",
      "\n",
      "\n",
      "\n",
      " z= []\n",
      "\n",
      " for i in x:\n",
      "\n",
      "    for j in y:\n",
      "\n",
      "        if i==j:\n",
      "\n",
      "            z= z+[\"Yes\"]\n",
      "\n",
      "        else:\n",
      "\n",
      "            z= z+[\"No\"]\n",
      "\n",
      "\n",
      "\n",
      " if \"Yes\" in z:\n",
      "\n",
      "    print(\"hola\")\n",
      "\n",
      " else:\n",
      "\n",
      "    print(\"lola\")\n",
      "\n",
      "    \n",
      "\n",
      "\n",
      "\n",
      "overlapping([1,2,3,4,5],[9,8,7,6,5])\n",
      "\n",
      "\n",
      "\n",
      "\n",
      "\n",
      "# In[17]:\n",
      "\n",
      "\n",
      "\n",
      "\n",
      "\n",
      "'''\"\"\"Define a function generate_n_chars() that takes an \n",
      "\n",
      "integer n and a character c and returns a string, n \n",
      "\n",
      "characters long, consisting only of c:s. For example, \n",
      "\n",
      "generate_n_chars(5,\"x\") should return the string \"xxxxx\". \n",
      "\n",
      "(Python is unusual in that you can actually write an expression 5 * \"x\" \n",
      "\n",
      "that will evaluate to \"xxxxx\". For the sake of the exercise you should \n",
      "\n",
      "ignore that the problem can be solved in this manner.)\"\"\"'''\n",
      "\n",
      "\n",
      "\n",
      "x=5\n",
      "\n",
      "y=\"c\"\n",
      "\n",
      "\n",
      "\n",
      "z= \"\"\n",
      "\n",
      "for i in range(0,x,1):\n",
      "\n",
      "    z= z+y\n",
      "\n",
      "    \n",
      "\n",
      "print(z)\n",
      "\n",
      "\n",
      "\n",
      "\n",
      "\n",
      "# In[19]:\n",
      "\n",
      "\n",
      "\n",
      "\n",
      "\n",
      "\"\"\"Define a procedure histogram() that takes a list of \n",
      "\n",
      "integers and prints a histogram to the screen. For example, \n",
      "\n",
      "histogram([4, 9, 7]) should print the following:\n",
      "\n",
      "****\n",
      "\n",
      "*********\n",
      "\n",
      "*******\n",
      "\n",
      "\"\"\"\n",
      "\n",
      "\n",
      "\n",
      "x= [4,9,7]\n",
      "\n",
      "\n",
      "\n",
      "a=\"\"\n",
      "\n",
      "for i in x:\n",
      "\n",
      "    for j in range(0,i,1):\n",
      "\n",
      "        a=a+\"*\"\n",
      "\n",
      "    print(a)\n",
      "\n",
      "    a=\"\"\n",
      "\n",
      "\n",
      "\n",
      "\n",
      "\n",
      "# In[55]:\n",
      "\n",
      "\n",
      "\n",
      "\n",
      "\n",
      "\"\"\"The function max() from exercise 1) and the function \n",
      "\n",
      "max_of_three() from exercise 2) will only work for two \n",
      "\n",
      "and three numbers, respectively. But suppose we have a \n",
      "\n",
      "much larger number of numbers, or suppose we cannot tell \n",
      "\n",
      "in advance how many they are? Write a function max_in_list() \n",
      "\n",
      "that takes a list of numbers and returns the largest one.\"\"\"\n",
      "\n",
      "\n",
      "\n",
      "import random\n",
      "\n",
      "\n",
      "\n",
      "x=[]\n",
      "\n",
      "for i in range(0,50,1):\n",
      "\n",
      "    x=x+[random. randint(0,1000)]\n",
      "\n",
      "print(x)\n",
      "\n",
      "\n",
      "\n",
      "#1\n",
      "\n",
      "y=sorted(x)\n",
      "\n",
      "print(y[-1])\n",
      "\n",
      "\n",
      "\n",
      "#2\n",
      "\n",
      "\n",
      "\n",
      "max = 0\n",
      "\n",
      "for i in x:\n",
      "\n",
      "    if i>max:\n",
      "\n",
      "     max=i\n",
      "\n",
      "\n",
      "\n",
      "print(max)\n",
      "\n",
      "\n",
      "\n",
      "\n",
      "\n",
      "# In[61]:\n",
      "\n",
      "\n",
      "\n",
      "\n",
      "\n",
      "\"\"\"Write a program that maps a list of words into a list \n",
      "\n",
      "of integers representing the lengths of the correponding words.\"\"\"\n",
      "\n",
      "\n",
      "\n",
      "x= (['You', 'said', 'it', 'bro!'])\n",
      "\n",
      "\n",
      "\n",
      "y=[]\n",
      "\n",
      "\n",
      "\n",
      "for i in x:\n",
      "\n",
      "    y= [len(i)]+y\n",
      "\n",
      "    \n",
      "\n",
      "print(y)   \n",
      "\n",
      "\n",
      "\n",
      "\n",
      "\n",
      "# In[80]:\n",
      "\n",
      "\n",
      "\n",
      "\n",
      "\n",
      "\"\"\"\"Write a function filter_long_words() that takes a list \n",
      "\n",
      "of words and an integer n and returns the list of words that \n",
      "\n",
      "are longer than n.\"\"\"\n",
      "\n",
      "\n",
      "\n",
      "x= (['You', 'said', 'it', 'bro!'])\n",
      "\n",
      "\n",
      "\n",
      "\n",
      "\n",
      "def fff(x,n):\n",
      "\n",
      "    y=[]\n",
      "\n",
      "    for i in x:\n",
      "\n",
      "        if len(i)>n:\n",
      "\n",
      "            y=y+[i]\n",
      "\n",
      "    print(y)\n",
      "\n",
      "\n",
      "\n",
      "fff(x=['You', 'said', 'it', 'bro!'],n=1)\n",
      "\n",
      "\n",
      "\n",
      "\n",
      "\n",
      "# In[129]:\n",
      "\n",
      "\n",
      "\n",
      "\n",
      "\n",
      "\"\"\"Write a version of a palindrome recognizer that also accepts \n",
      "\n",
      "phrase palindromes such as \"Go hang a salami I'm a lasagna hog.\", \n",
      "\n",
      "\"Was it a rat I saw?\", \"Step on no pets\", \"Sit on a potato pan, Otis\", \n",
      "\n",
      "\"Lisa Bonet ate no basil\", \"Satan, oscillate my metallic sonatas\", \n",
      "\n",
      "\"I roamed under it as a tired nude Maori\", \"Rise to vote sir\", or \n",
      "\n",
      "the exclamation \"Dammit, I'm mad!\". Note that punctuation, capitalization, \n",
      "\n",
      "and spacing are usually ignored.\"\"\"\n",
      "\n",
      "\n",
      "\n",
      "#x=\"Go hang a salami Im a lasagna hog\"\n",
      "\n",
      "#x=\"Was it a rat I saw?\"\n",
      "\n",
      "#x=\"Sit on a potato pan, Otis\"\n",
      "\n",
      "#x=\"I roamed under it as a tired nude Maori\"\n",
      "\n",
      "x=\"Dammit, I'm mad!\"\n",
      "\n",
      "\n",
      "\n",
      "for char in x:\n",
      "\n",
      "    if char in \"?.!/;:'' \":\n",
      "\n",
      "        y = x.replace(char,'')\n",
      "\n",
      "    \n",
      "\n",
      "z=y.lower()\n",
      "\n",
      "print(z)\n",
      "\n",
      "\n",
      "\n",
      "a=len(z)\n",
      "\n",
      "b=a//2\n",
      "\n",
      "\n",
      "\n",
      "print(a)\n",
      "\n",
      "print(b)\n",
      "\n",
      "\n",
      "\n",
      "c=z[0:b]\n",
      "\n",
      "\n",
      "\n",
      "if b/2 ==0:\n",
      "\n",
      " d=z[:-b]\n",
      "\n",
      "else:\n",
      "\n",
      " d=z[:-b-1]\n",
      "\n",
      "\n",
      "\n",
      "print(c)\n",
      "\n",
      "print(d)\n",
      "\n",
      "\n",
      "\n",
      "if c==d:\n",
      "\n",
      "    print(\"Palidrome\")\n",
      "\n",
      "else:\n",
      "\n",
      "    print(\"tatti\")\n",
      "\n",
      "\n",
      "\n",
      "\n",
      "\n",
      "# In[143]:\n",
      "\n",
      "\n",
      "\n",
      "\n",
      "\n",
      "\"\"\"A pangram is a sentence that contains all the letters \n",
      "\n",
      "of the English alphabet at least once, for example: The \n",
      "\n",
      "quick brown fox jumps over the lazy dog. Your task here is \n",
      "\n",
      "to write a function to check a sentence to see if it is a \n",
      "\n",
      "pangram or not.\"\"\"\n",
      "\n",
      "\n",
      "\n",
      "def pangram(z):\n",
      "\n",
      " a=\"abcdefghijklmnopqrstuvwxyz\"\n",
      "\n",
      " z=z.lower()\n",
      "\n",
      " y=\"\"\n",
      "\n",
      " for i in a:\n",
      "\n",
      "    if i in z:\n",
      "\n",
      "        y=y+i\n",
      "\n",
      "\n",
      "\n",
      " if y==a:\n",
      "\n",
      "    print( \"its a pangram\")\n",
      "\n",
      " else:\n",
      "\n",
      "    print( \"its NOT a pangram\")\n",
      "\n",
      "    \n",
      "\n",
      "pangram(\"The Quick brown fox jumps over the lazy dog\")\n",
      "\n",
      "\n",
      "\n",
      "\n",
      "\n",
      "# In[152]:\n",
      "\n",
      "\n",
      "\n",
      "\n",
      "\n",
      "\"\"\"Write a function char_freq() that takes a string and builds \n",
      "\n",
      "a frequency listing of the characters contained in it. Represent \n",
      "\n",
      "the frequency listing as a Python dictionary. Try it with something \n",
      "\n",
      "like char_freq(\"abbabcbdbabdbdbabababcbcbab\").\"\"\"\n",
      "\n",
      "\n",
      "\n",
      "x=\"abbabcbdbabdbdbabababcbcbab\"\n",
      "\n",
      "\n",
      "\n",
      "freq = {}\n",
      "\n",
      "for i in x:\n",
      "\n",
      "  if i in freq:\n",
      "\n",
      "    freq[i] += 1\n",
      "\n",
      "  else:\n",
      "\n",
      "    freq[i] = 1\n",
      "\n",
      "\n",
      "\n",
      "print(freq)\n",
      "\n",
      "\n",
      "\n",
      "\n",
      "\n",
      "# In[158]:\n",
      "\n",
      "\n",
      "\n",
      "\n",
      "\n",
      "\"\"\"Define a simple \"spelling correction\" function correct() that \n",
      "\n",
      "takes a string and sees to it that 1) two or more occurrences of \n",
      "\n",
      "the space character is compressed into one, and 2) inserts an extra \n",
      "\n",
      "space after a period if the period is directly followed by a letter. \n",
      "\n",
      "E.g. correct(\"This   is  very funny  and    cool.Indeed!\") should \n",
      "\n",
      "return \"This is very funny and cool. Indeed!\" Tip: Use regular \n",
      "\n",
      "expressions!\"\"\"\n",
      "\n",
      "\n",
      "\n",
      "x=\"This   is  very funny  and    cool.Indeed!\"\n",
      "\n",
      "\n",
      "\n"
     ]
    }
   ],
   "source": [
    "#how to get the code\n",
    "\n",
    "code = open('/Users/vikrantdhawan/Dropbox/My Mac (Vikrant’s MacBook Air)/Downloads/untitled.py','r')\n",
    "\n",
    "for line in code:\n",
    "    print(line)\n",
    "code.close()"
   ]
  },
  {
   "cell_type": "markdown",
   "metadata": {},
   "source": [
    "**Exception Handling**\n",
    "\n",
    "**Exceptions**\n",
    "\n",
    "+ An exception is an event that interrupts the ordinary sequential processing of a program.\n",
    "+ For example, what if you are going to read a file and the file does not exist? Or what if you accidentally deleted it when the program was running? Similarly, what if your program had some invalid statements? Such situations are handled using exceptions.\n",
    "\n",
    "**Handling Exceptions**\n",
    "\n",
    "+ We can handle exceptions using the try..except statement. \n",
    "+ We basically put our usual statements within the try-block and put all our error handlers in the except-block."
   ]
  },
  {
   "cell_type": "code",
   "execution_count": 65,
   "metadata": {},
   "outputs": [
    {
     "name": "stdout",
     "output_type": "stream",
     "text": [
      "Average =  2.5\n",
      "ZeroDivisionError: <class 'ZeroDivisionError'>\n",
      "None\n",
      "TypeError: <class 'TypeError'>\n",
      "None\n"
     ]
    }
   ],
   "source": [
    "def avg( numList ):\n",
    "    \"\"\"Raises TypeError or ZeroDivisionError exceptions.\"\"\"\n",
    "    sum= 0\n",
    "    for v in numList:\n",
    "        sum = sum + v\n",
    "    return float(sum)/len(numList)\n",
    "\n",
    "def avgReport(numList):\n",
    "     try:\n",
    "         m= avg(numList)\n",
    "         print (\"Average = \", m)\n",
    "     except TypeError:\n",
    "         print (\"TypeError:\", TypeError)\n",
    "#          tb = sys.exc_info()[2]\n",
    "#          print(tb)\n",
    "#          raise OtherException(...).with_traceback(tb)\n",
    "     except ZeroDivisionError:\n",
    "         print (\"ZeroDivisionError:\", ZeroDivisionError)\n",
    "#          tb = sys.exc_info()[2]\n",
    "#          print(tb)\n",
    "#          raise OtherException(...).with_traceback(tb)\n",
    "         #important-giving whole lines\n",
    "\n",
    "                    \n",
    "list1 = [1,2,3,4]\n",
    "list2 = []\n",
    "list3 = [10,20,30,'abc']\n",
    "\n",
    "avgReport(list1)\n",
    "print (avgReport(list2))\n",
    "print (avgReport(list3))"
   ]
  },
  {
   "cell_type": "code",
   "execution_count": 54,
   "metadata": {},
   "outputs": [
    {
     "ename": "ZeroDivisionError",
     "evalue": "float division by zero",
     "output_type": "error",
     "traceback": [
      "\u001b[0;31m---------------------------------------------------------------------------\u001b[0m",
      "\u001b[0;31mZeroDivisionError\u001b[0m                         Traceback (most recent call last)",
      "\u001b[0;32m<ipython-input-54-abf48076baa8>\u001b[0m in \u001b[0;36m<module>\u001b[0;34m\u001b[0m\n\u001b[1;32m      9\u001b[0m \u001b[0mlist2\u001b[0m \u001b[0;34m=\u001b[0m \u001b[0;34m[\u001b[0m\u001b[0;34m]\u001b[0m\u001b[0;34m\u001b[0m\u001b[0;34m\u001b[0m\u001b[0m\n\u001b[1;32m     10\u001b[0m \u001b[0mlist3\u001b[0m \u001b[0;34m=\u001b[0m \u001b[0;34m[\u001b[0m\u001b[0;36m10\u001b[0m\u001b[0;34m,\u001b[0m\u001b[0;36m20\u001b[0m\u001b[0;34m,\u001b[0m\u001b[0;36m30\u001b[0m\u001b[0;34m,\u001b[0m\u001b[0;34m'abc'\u001b[0m\u001b[0;34m]\u001b[0m\u001b[0;34m\u001b[0m\u001b[0;34m\u001b[0m\u001b[0m\n\u001b[0;32m---> 11\u001b[0;31m \u001b[0mavg\u001b[0m\u001b[0;34m(\u001b[0m\u001b[0mlist2\u001b[0m\u001b[0;34m)\u001b[0m\u001b[0;34m\u001b[0m\u001b[0;34m\u001b[0m\u001b[0m\n\u001b[0m",
      "\u001b[0;32m<ipython-input-54-abf48076baa8>\u001b[0m in \u001b[0;36mavg\u001b[0;34m(numList)\u001b[0m\n\u001b[1;32m      4\u001b[0m     \u001b[0;32mfor\u001b[0m \u001b[0mv\u001b[0m \u001b[0;32min\u001b[0m \u001b[0mnumList\u001b[0m\u001b[0;34m:\u001b[0m\u001b[0;34m\u001b[0m\u001b[0;34m\u001b[0m\u001b[0m\n\u001b[1;32m      5\u001b[0m         \u001b[0msum\u001b[0m \u001b[0;34m=\u001b[0m \u001b[0msum\u001b[0m \u001b[0;34m+\u001b[0m \u001b[0mv\u001b[0m\u001b[0;34m\u001b[0m\u001b[0;34m\u001b[0m\u001b[0m\n\u001b[0;32m----> 6\u001b[0;31m     \u001b[0;32mreturn\u001b[0m \u001b[0mfloat\u001b[0m\u001b[0;34m(\u001b[0m\u001b[0msum\u001b[0m\u001b[0;34m)\u001b[0m\u001b[0;34m/\u001b[0m\u001b[0mlen\u001b[0m\u001b[0;34m(\u001b[0m\u001b[0mnumList\u001b[0m\u001b[0;34m)\u001b[0m\u001b[0;34m\u001b[0m\u001b[0;34m\u001b[0m\u001b[0m\n\u001b[0m\u001b[1;32m      7\u001b[0m \u001b[0;34m\u001b[0m\u001b[0m\n\u001b[1;32m      8\u001b[0m \u001b[0mlist1\u001b[0m \u001b[0;34m=\u001b[0m \u001b[0;34m[\u001b[0m\u001b[0;36m1\u001b[0m\u001b[0;34m,\u001b[0m\u001b[0;36m2\u001b[0m\u001b[0;34m,\u001b[0m\u001b[0;36m3\u001b[0m\u001b[0;34m,\u001b[0m\u001b[0;36m4\u001b[0m\u001b[0;34m]\u001b[0m\u001b[0;34m\u001b[0m\u001b[0;34m\u001b[0m\u001b[0m\n",
      "\u001b[0;31mZeroDivisionError\u001b[0m: float division by zero"
     ]
    }
   ],
   "source": [
    "def avg( numList ):\n",
    "    \"\"\"Raises TypeError or ZeroDivisionError exceptions.\"\"\"\n",
    "    sum= 0\n",
    "    for v in numList:\n",
    "        sum = sum + v\n",
    "    return float(sum)/len(numList)\n",
    "\n",
    "list1 = [1,2,3,4]\n",
    "list2 = []\n",
    "list3 = [10,20,30,'abc']\n",
    "avg(list2)\n"
   ]
  },
  {
   "cell_type": "code",
   "execution_count": 57,
   "metadata": {},
   "outputs": [
    {
     "name": "stdout",
     "output_type": "stream",
     "text": [
      "Avg is 1.0\n",
      "huahua\n"
     ]
    }
   ],
   "source": [
    "\n",
    "\n",
    "def myfuc(x) :\n",
    "  try:\n",
    "    a= len(x)\n",
    "    b= sum(x)\n",
    "    print(\"Avg is\", b/a)\n",
    "  except ZeroDivisionError:\n",
    "    print(\"blalba\")\n",
    "  finally:\n",
    "    print(\"huahua\")\n",
    "    \n",
    "    \n",
    "myfuc([1])\n",
    "    "
   ]
  },
  {
   "cell_type": "markdown",
   "metadata": {},
   "source": [
    "**Try..Finally**\n",
    "\n",
    "+ Suppose you are reading a file in your program. How do you ensure that the file object is closed properly whether or not an exception was raised? This can be done using the finally block.\n",
    "+ This final step will be performed before the try block is finished, either normally or by any exception.\n",
    "+ The finally clause is always executed. \n",
    "+ This includes all three possible cases: if the try block finishes with no exceptions; if an exception is raised and handled; and if an exception is raised but not handled. \n",
    "+ This last case means that every nested try statement with a finally clause will have that finally clause executed.\n",
    "+ Use a finally clause to close files, release locks, close database connections, write final log messages, and other kinds of final operations. \n",
    "+ In the following example, we use the finally clause to write a final log message.\n"
   ]
  },
  {
   "cell_type": "code",
   "execution_count": 181,
   "metadata": {},
   "outputs": [
    {
     "name": "stdout",
     "output_type": "stream",
     "text": [
      "Start avgReport\n",
      "Average =  25.0\n",
      "Finish avgReport\n",
      "Start avgReport\n",
      "TypeError:  <class 'TypeError'>\n",
      "Finish avgReport\n",
      "Start avgReport\n",
      "ZeroDivisionError:  <class 'ZeroDivisionError'>\n",
      "Finish avgReport\n"
     ]
    }
   ],
   "source": [
    "def avgReport( numList ):\n",
    "    try:\n",
    "        print (\"Start avgReport\")\n",
    "        m= avg(numList)\n",
    "        print (\"Average = \", m)\n",
    "    except TypeError:\n",
    "        print (\"TypeError: \", TypeError)\n",
    "    except ZeroDivisionError:\n",
    "        print (\"ZeroDivisionError: \", ZeroDivisionError)\n",
    "    finally:\n",
    "         print (\"Finish avgReport\")\n",
    "\n",
    "list1 = [10,20,30,40]\n",
    "list2 = []\n",
    "list3 = [10,20,30,'abc']\n",
    "\n",
    "avgReport(list1)\n",
    "avgReport(list3)\n",
    "avgReport(list2)\n"
   ]
  },
  {
   "cell_type": "markdown",
   "metadata": {},
   "source": [
    "**Some common built-in exceptions**\n",
    "\n",
    "exception KeyboardInterrupt\n",
    " This is raised when a user hits ctrl-C to send an interrupt signal to the Python interpreter. \n",
    "\n",
    "exception AttributeError\n",
    " Attribute not found in an object.\n",
    "\n",
    "exception EOFError\n",
    " Read beyond end of file.\n",
    "\n",
    "exception FloatingPointError\n",
    " Floating point operation failed.\n",
    "\n",
    "exception IOError\n",
    " I/O operation failed.\n",
    "\n",
    "exception IndexError\n",
    " Sequence index out of range.\n",
    "\n",
    "exception KeyError\n",
    " Mapping key not found.\n",
    "\n",
    "exception TypeError\n",
    " Inappropriate argument type.\n",
    "\n",
    "exception ValueError\n",
    " Inappropriate argument value (of correct type).\n",
    "\n",
    "exception ZeroDivisionError\n",
    " Second argument to a division or modulo operation was zero.\n",
    "\n",
    "exception MemoryError\n",
    " Out of memory.\n",
    "\n",
    "exception RuntimeError\n",
    " Unspecified run-time error.\n",
    "\n",
    "exception SystemError\n",
    " Internal error in the Python interpreter\n",
    "\n",
    "exception ImportError\n",
    " Import can’t find module, or can’t find name in module.\n",
    "\n",
    "exception IndentationError\n",
    " Improper indentation.\n",
    "\n",
    "exception NameError\n",
    " Name not found globally.\n",
    "\n",
    "exception SyntaxError\n",
    " Invalid syntax.\n",
    "\n",
    "exception UnboundLocalError\n",
    " Local name referenced but not bound to a value.\n"
   ]
  },
  {
   "cell_type": "markdown",
   "metadata": {},
   "source": [
    "**Classes**\n",
    "\n",
    "Python is an object oriented programming language. Almost everything in Python is an object, with its properties and methods. A Class is like an object constructor, or a \"blueprint\" for creating objects.\n"
   ]
  },
  {
   "cell_type": "code",
   "execution_count": 66,
   "metadata": {},
   "outputs": [
    {
     "name": "stdout",
     "output_type": "stream",
     "text": [
      "5\n",
      "5\n",
      "10\n"
     ]
    }
   ],
   "source": [
    "class MyClass:\n",
    "  x = 5\n",
    "  y=5\n",
    "\n",
    "#p1 is an object of a partivular class(myclass)\n",
    "p1 = MyClass()\n",
    "print(p1.x)\n",
    "print(MyClass().x)\n",
    "\n",
    "#print(p1.x+y)\n",
    "print(p1.x+p1.y)\n",
    "\n",
    "#behind the scene everything in python is class: list tuple didctionary string"
   ]
  },
  {
   "cell_type": "markdown",
   "metadata": {},
   "source": [
    "Example above is very simplistic in nature, and not really useful in real life applications.\n",
    "\n",
    "To understand the meaning of classes we have to understand the built-in init() function.\n",
    "\n",
    "All classes have a function called init(), which is always executed when the class is being initiated.\n",
    "\n",
    "Use the init() function to assign values to object properties, or other operations that are necessary to do when the object is being created."
   ]
  },
  {
   "cell_type": "code",
   "execution_count": 68,
   "metadata": {},
   "outputs": [
    {
     "name": "stdout",
     "output_type": "stream",
     "text": [
      "Peeyush\n",
      "32\n",
      "Vikrant\n",
      "32\n"
     ]
    }
   ],
   "source": [
    "class Person:\n",
    "  def __init__(self, name, age,surname):\n",
    "    self.name = name\n",
    "    self.age = age\n",
    "    self.surname = surname\n",
    "\n",
    "p1 = Person(\"Peeyush\", 32,\"fhhff\")\n",
    "\n",
    "print(p1.name)\n",
    "print(p1.age)\n",
    "\n",
    "\n",
    "class Person:\n",
    "  def __init__(banda, name, age):\n",
    "    banda.name = name\n",
    "    banda.age = age\n",
    "\n",
    "p1 = Person(\"Vikrant\", 32)\n",
    "\n",
    "print(p1.name)\n",
    "print(p1.age)"
   ]
  },
  {
   "cell_type": "code",
   "execution_count": 78,
   "metadata": {},
   "outputs": [
    {
     "data": {
      "text/plain": [
       "5"
      ]
     },
     "execution_count": 78,
     "metadata": {},
     "output_type": "execute_result"
    }
   ],
   "source": [
    "class test:\n",
    "    z=10\n",
    "    def __init__(a,x,y) :\n",
    "        a.x=x\n",
    "        a.y=y\n",
    "        \n",
    "p=test(5,10)\n",
    "\n",
    "p.z\n",
    "p.x\n",
    "    "
   ]
  },
  {
   "cell_type": "code",
   "execution_count": 82,
   "metadata": {},
   "outputs": [
    {
     "name": "stdout",
     "output_type": "stream",
     "text": [
      "PeEezYuSH\n",
      "Hello, peeezyush\n",
      "HELLO, PEEEZYUSH!\n"
     ]
    }
   ],
   "source": [
    "#Objects can also contain methods. Methods in objects are functions that belong to the object.\n",
    "class Greeter:\n",
    "\n",
    "    # Constructor\n",
    "    def __init__(self, name):\n",
    "        self.name = name  # Create an instance variable\n",
    "\n",
    "    # Instance method\n",
    "    def greet(self, loud=False):\n",
    "        if loud==True:\n",
    "            print ('HELLO, %s!' % self.name.upper())\n",
    "        else:\n",
    "            print ('Hello, %s' % self.name.lower())\n",
    "\n",
    "g = Greeter('PeEezYuSH')  # Construct an instance of the Greeter class\n",
    "print(g.name)\n",
    "g.greet()            # Call an instance method; prints \"Hello, Fred\"\n",
    "g.greet(loud=True)   # Call an instance method; prints \"HELLO, FRED!\""
   ]
  },
  {
   "cell_type": "code",
   "execution_count": 95,
   "metadata": {},
   "outputs": [
    {
     "name": "stdout",
     "output_type": "stream",
     "text": [
      "Hello my name is Peeyush\n"
     ]
    }
   ],
   "source": [
    "#The self parameter is a reference to the current instance of the class, and is used to access variables that belongs to the class.\n",
    "#It does not have to be named self , you can call it whatever you like, but it has to be the first parameter of any function in the class\n",
    "\n",
    "class Person:\n",
    "  def __init__(mysillyobject, name, age):\n",
    "    mysillyobject.name = name\n",
    "    mysillyobject.age = age\n",
    "\n",
    "  def myfunc(abc):\n",
    "    print(\"Hello my name is \" + abc.name)\n",
    "\n",
    "p1 = Person(\"Peeyush\", 32)\n",
    "p1.myfunc()"
   ]
  },
  {
   "cell_type": "code",
   "execution_count": 86,
   "metadata": {},
   "outputs": [
    {
     "name": "stdout",
     "output_type": "stream",
     "text": [
      "Peeyush\n",
      "500\n",
      "100\n",
      "2300000\n"
     ]
    },
    {
     "ename": "RuntimeError",
     "evalue": "Amount greater than available balance.",
     "output_type": "error",
     "traceback": [
      "\u001b[0;31m---------------------------------------------------------------------------\u001b[0m",
      "\u001b[0;31mRuntimeError\u001b[0m                              Traceback (most recent call last)",
      "\u001b[0;32m<ipython-input-86-1f58d7f64803>\u001b[0m in \u001b[0;36m<module>\u001b[0;34m\u001b[0m\n\u001b[1;32m     39\u001b[0m \u001b[0mp2\u001b[0m\u001b[0;34m.\u001b[0m\u001b[0mdeposit\u001b[0m\u001b[0;34m(\u001b[0m\u001b[0;36m300000\u001b[0m\u001b[0;34m)\u001b[0m\u001b[0;34m\u001b[0m\u001b[0;34m\u001b[0m\u001b[0m\n\u001b[1;32m     40\u001b[0m \u001b[0mprint\u001b[0m\u001b[0;34m(\u001b[0m\u001b[0mp2\u001b[0m\u001b[0;34m.\u001b[0m\u001b[0mbalance\u001b[0m\u001b[0;34m)\u001b[0m\u001b[0;34m\u001b[0m\u001b[0;34m\u001b[0m\u001b[0m\n\u001b[0;32m---> 41\u001b[0;31m \u001b[0mp2\u001b[0m\u001b[0;34m.\u001b[0m\u001b[0mwithdraw\u001b[0m\u001b[0;34m(\u001b[0m\u001b[0;36m40000000\u001b[0m\u001b[0;34m)\u001b[0m\u001b[0;34m\u001b[0m\u001b[0;34m\u001b[0m\u001b[0m\n\u001b[0m\u001b[1;32m     42\u001b[0m \u001b[0mprint\u001b[0m\u001b[0;34m(\u001b[0m\u001b[0mp2\u001b[0m\u001b[0;34m.\u001b[0m\u001b[0mbalance\u001b[0m\u001b[0;34m)\u001b[0m\u001b[0;34m\u001b[0m\u001b[0;34m\u001b[0m\u001b[0m\n",
      "\u001b[0;32m<ipython-input-86-1f58d7f64803>\u001b[0m in \u001b[0;36mwithdraw\u001b[0;34m(self, amount)\u001b[0m\n\u001b[1;32m     18\u001b[0m         dollars.\"\"\"\n\u001b[1;32m     19\u001b[0m         \u001b[0;32mif\u001b[0m \u001b[0mamount\u001b[0m \u001b[0;34m>\u001b[0m \u001b[0mself\u001b[0m\u001b[0;34m.\u001b[0m\u001b[0mbalance\u001b[0m\u001b[0;34m:\u001b[0m\u001b[0;34m\u001b[0m\u001b[0;34m\u001b[0m\u001b[0m\n\u001b[0;32m---> 20\u001b[0;31m             \u001b[0;32mraise\u001b[0m \u001b[0mRuntimeError\u001b[0m\u001b[0;34m(\u001b[0m\u001b[0;34m'Amount greater than available balance.'\u001b[0m\u001b[0;34m)\u001b[0m\u001b[0;34m\u001b[0m\u001b[0;34m\u001b[0m\u001b[0m\n\u001b[0m\u001b[1;32m     21\u001b[0m         \u001b[0mself\u001b[0m\u001b[0;34m.\u001b[0m\u001b[0mbalance\u001b[0m \u001b[0;34m-=\u001b[0m \u001b[0mamount\u001b[0m\u001b[0;34m\u001b[0m\u001b[0;34m\u001b[0m\u001b[0m\n\u001b[1;32m     22\u001b[0m         \u001b[0;32mreturn\u001b[0m \u001b[0mself\u001b[0m\u001b[0;34m.\u001b[0m\u001b[0mbalance\u001b[0m\u001b[0;34m\u001b[0m\u001b[0;34m\u001b[0m\u001b[0m\n",
      "\u001b[0;31mRuntimeError\u001b[0m: Amount greater than available balance."
     ]
    }
   ],
   "source": [
    "class Customer():\n",
    "    \"\"\"A customer of ABC Bank with a checking account. Customers have the\n",
    "    following properties:\n",
    "\n",
    "    Attributes:\n",
    "        name: A string representing the customer's name.\n",
    "        balance: A float tracking the current balance of the customer's account.\n",
    "    \"\"\"\n",
    "\n",
    "    def __init__(self, name, balance=0.0):\n",
    "        \"\"\"Return a Customer object whose name is *name* and starting\n",
    "        balance is *balance*.\"\"\"\n",
    "        self.name = name\n",
    "        self.balance = balance\n",
    "\n",
    "    def withdraw(self, amount):\n",
    "        \"\"\"Return the balance remaining after withdrawing *amount*\n",
    "        dollars.\"\"\"\n",
    "        if amount > self.balance:\n",
    "            raise RuntimeError('Amount greater than available balance.')\n",
    "        self.balance -= amount\n",
    "        return self.balance\n",
    "\n",
    "    def deposit(self, amount):\n",
    "        \"\"\"Return the balance remaining after depositing *amount*\n",
    "        dollars.\"\"\"\n",
    "        self.balance += amount\n",
    "        return self.balance\n",
    "    \n",
    "p1 = Customer(\"Peeyush\",200)\n",
    "print(p1.name)\n",
    "p1.deposit(300)\n",
    "print(p1.balance)\n",
    "p1.withdraw(400)\n",
    "print(p1.balance)\n",
    " \n",
    "\n",
    "p2 = Customer(\"B13\",2000000)\n",
    "p2.deposit(300000)\n",
    "print(p2.balance)\n",
    "p2.withdraw(40000000)\n",
    "print(p2.balance)"
   ]
  },
  {
   "cell_type": "markdown",
   "metadata": {},
   "source": [
    "Matplotlib:\n",
    "-->matplotlib is a plotting library for the Python programming language and its numerical mathematics extension NumPy\n",
    "-->pyplot provides a convenient interface to the matplotlib object-oriented plotting library. It is modeled closely after Matlab(TM). Therefore, the majority of plotting commands in pyplot have Matlab(TM) analogs with similar arguments. "
   ]
  },
  {
   "cell_type": "code",
   "execution_count": 60,
   "metadata": {},
   "outputs": [
    {
     "data": {
      "image/png": "[encoded data removed]",
      "text/plain": [
       "<Figure size 432x288 with 1 Axes>"
      ]
     },
     "metadata": {
      "needs_background": "light"
     },
     "output_type": "display_data"
    }
   ],
   "source": [
    "#Line plot\n",
    "%matplotlib inline\n",
    "#only for ipython notebooks\n",
    "import matplotlib.pyplot as plt\n",
    "import numpy as np\n",
    "a = np.linspace(0,10,100)\n",
    "b = np.exp(-a)\n",
    "\n",
    "#plt.plot(a)\n",
    "#plt.plot(b)\n",
    "plt.plot(a,b)\n",
    "\n",
    "plt.show()\n",
    "#it is optional\n"
   ]
  },
  {
   "cell_type": "code",
   "execution_count": 223,
   "metadata": {},
   "outputs": [
    {
     "data": {
      "image/png": "[encoded data removed]",
      "text/plain": [
       "<Figure size 432x288 with 1 Axes>"
      ]
     },
     "metadata": {
      "needs_background": "light"
     },
     "output_type": "display_data"
    }
   ],
   "source": [
    "#Histogram\n",
    "from numpy.random import normal,rand\n",
    "x = normal(size=2000)\n",
    "plt.hist(x,bins=30)\n",
    "plt.show()"
   ]
  },
  {
   "cell_type": "code",
   "execution_count": 64,
   "metadata": {},
   "outputs": [
    {
     "data": {
      "image/png": "[encoded data removed]",
      "text/plain": [
       "<Figure size 432x288 with 1 Axes>"
      ]
     },
     "metadata": {
      "needs_background": "light"
     },
     "output_type": "display_data"
    }
   ],
   "source": [
    "#Scatter Plot\n",
    "import numpy as np\n",
    "import matplotlib.pyplot as plt\n",
    "from numpy.random import normal,rand\n",
    "a = np.linspace(1,10,100)\n",
    "b = rand(100)\n",
    "plt.scatter(a,b)\n",
    "plt.show()"
   ]
  },
  {
   "cell_type": "code",
   "execution_count": 230,
   "metadata": {},
   "outputs": [
    {
     "name": "stdout",
     "output_type": "stream",
     "text": [
      "[0.15903034 0.99651897 0.41911701 0.96463838 0.04776006 0.1128985\n",
      " 0.23381991 0.32981729 0.23549381 0.77577128 0.35816197 0.77448235\n",
      " 0.33225865 0.30335733 0.41562911 0.60266677 0.62696654 0.7965213\n",
      " 0.94628672 0.42071036]\n"
     ]
    },
    {
     "data": {
      "image/png": "[encoded data removed]",
      "text/plain": [
       "<Figure size 432x288 with 1 Axes>"
      ]
     },
     "metadata": {},
     "output_type": "display_data"
    }
   ],
   "source": [
    "#Pie Chart\n",
    "import numpy as np\n",
    "import matplotlib.pyplot as plt\n",
    "n = 20\n",
    "Z = np.random.uniform(0,1,n)\n",
    "print(Z)\n",
    "plt.pie(Z)\n",
    "plt.show()\n",
    "\n"
   ]
  },
  {
   "cell_type": "code",
   "execution_count": 233,
   "metadata": {},
   "outputs": [
    {
     "name": "stdout",
     "output_type": "stream",
     "text": [
      "[-0.05369921  0.80516464 -1.52082202  0.79699446  0.48607144 -1.2686382\n",
      "  2.32456832 -1.35283584  0.25914189  0.42139248 -1.38303445 -0.98727374\n",
      " -1.68739359 -2.05675533  0.28290135 -0.07293364 -0.21030286 -1.87064779\n",
      "  3.09748338  1.09841308]\n"
     ]
    },
    {
     "ename": "ValueError",
     "evalue": "Wedge sizes 'x' must be non negative values",
     "output_type": "error",
     "traceback": [
      "\u001b[0;31m---------------------------------------------------------------------------\u001b[0m",
      "\u001b[0;31mValueError\u001b[0m                                Traceback (most recent call last)",
      "\u001b[0;32m<ipython-input-233-dd0cd819b744>\u001b[0m in \u001b[0;36m<module>\u001b[0;34m\u001b[0m\n\u001b[1;32m      5\u001b[0m \u001b[0mZ\u001b[0m \u001b[0;34m=\u001b[0m \u001b[0mnormal\u001b[0m\u001b[0;34m(\u001b[0m\u001b[0msize\u001b[0m\u001b[0;34m=\u001b[0m\u001b[0;36m20\u001b[0m\u001b[0;34m)\u001b[0m\u001b[0;34m\u001b[0m\u001b[0;34m\u001b[0m\u001b[0m\n\u001b[1;32m      6\u001b[0m \u001b[0mprint\u001b[0m\u001b[0;34m(\u001b[0m\u001b[0mZ\u001b[0m\u001b[0;34m)\u001b[0m\u001b[0;34m\u001b[0m\u001b[0;34m\u001b[0m\u001b[0m\n\u001b[0;32m----> 7\u001b[0;31m \u001b[0mplt\u001b[0m\u001b[0;34m.\u001b[0m\u001b[0mpie\u001b[0m\u001b[0;34m(\u001b[0m\u001b[0mZ\u001b[0m\u001b[0;34m)\u001b[0m\u001b[0;34m\u001b[0m\u001b[0;34m\u001b[0m\u001b[0m\n\u001b[0m\u001b[1;32m      8\u001b[0m \u001b[0mplt\u001b[0m\u001b[0;34m.\u001b[0m\u001b[0mshow\u001b[0m\u001b[0;34m(\u001b[0m\u001b[0;34m)\u001b[0m\u001b[0;34m\u001b[0m\u001b[0;34m\u001b[0m\u001b[0m\n",
      "\u001b[0;32m~/opt/anaconda3/lib/python3.8/site-packages/matplotlib/pyplot.py\u001b[0m in \u001b[0;36mpie\u001b[0;34m(x, explode, labels, colors, autopct, pctdistance, shadow, labeldistance, startangle, radius, counterclock, wedgeprops, textprops, center, frame, rotatelabels, normalize, data)\u001b[0m\n\u001b[1;32m   2825\u001b[0m         \u001b[0mtextprops\u001b[0m\u001b[0;34m=\u001b[0m\u001b[0;32mNone\u001b[0m\u001b[0;34m,\u001b[0m \u001b[0mcenter\u001b[0m\u001b[0;34m=\u001b[0m\u001b[0;34m(\u001b[0m\u001b[0;36m0\u001b[0m\u001b[0;34m,\u001b[0m \u001b[0;36m0\u001b[0m\u001b[0;34m)\u001b[0m\u001b[0;34m,\u001b[0m \u001b[0mframe\u001b[0m\u001b[0;34m=\u001b[0m\u001b[0;32mFalse\u001b[0m\u001b[0;34m,\u001b[0m\u001b[0;34m\u001b[0m\u001b[0;34m\u001b[0m\u001b[0m\n\u001b[1;32m   2826\u001b[0m         rotatelabels=False, *, normalize=None, data=None):\n\u001b[0;32m-> 2827\u001b[0;31m     return gca().pie(\n\u001b[0m\u001b[1;32m   2828\u001b[0m         \u001b[0mx\u001b[0m\u001b[0;34m,\u001b[0m \u001b[0mexplode\u001b[0m\u001b[0;34m=\u001b[0m\u001b[0mexplode\u001b[0m\u001b[0;34m,\u001b[0m \u001b[0mlabels\u001b[0m\u001b[0;34m=\u001b[0m\u001b[0mlabels\u001b[0m\u001b[0;34m,\u001b[0m \u001b[0mcolors\u001b[0m\u001b[0;34m=\u001b[0m\u001b[0mcolors\u001b[0m\u001b[0;34m,\u001b[0m\u001b[0;34m\u001b[0m\u001b[0;34m\u001b[0m\u001b[0m\n\u001b[1;32m   2829\u001b[0m         \u001b[0mautopct\u001b[0m\u001b[0;34m=\u001b[0m\u001b[0mautopct\u001b[0m\u001b[0;34m,\u001b[0m \u001b[0mpctdistance\u001b[0m\u001b[0;34m=\u001b[0m\u001b[0mpctdistance\u001b[0m\u001b[0;34m,\u001b[0m \u001b[0mshadow\u001b[0m\u001b[0;34m=\u001b[0m\u001b[0mshadow\u001b[0m\u001b[0;34m,\u001b[0m\u001b[0;34m\u001b[0m\u001b[0;34m\u001b[0m\u001b[0m\n",
      "\u001b[0;32m~/opt/anaconda3/lib/python3.8/site-packages/matplotlib/__init__.py\u001b[0m in \u001b[0;36minner\u001b[0;34m(ax, data, *args, **kwargs)\u001b[0m\n\u001b[1;32m   1445\u001b[0m     \u001b[0;32mdef\u001b[0m \u001b[0minner\u001b[0m\u001b[0;34m(\u001b[0m\u001b[0max\u001b[0m\u001b[0;34m,\u001b[0m \u001b[0;34m*\u001b[0m\u001b[0margs\u001b[0m\u001b[0;34m,\u001b[0m \u001b[0mdata\u001b[0m\u001b[0;34m=\u001b[0m\u001b[0;32mNone\u001b[0m\u001b[0;34m,\u001b[0m \u001b[0;34m**\u001b[0m\u001b[0mkwargs\u001b[0m\u001b[0;34m)\u001b[0m\u001b[0;34m:\u001b[0m\u001b[0;34m\u001b[0m\u001b[0;34m\u001b[0m\u001b[0m\n\u001b[1;32m   1446\u001b[0m         \u001b[0;32mif\u001b[0m \u001b[0mdata\u001b[0m \u001b[0;32mis\u001b[0m \u001b[0;32mNone\u001b[0m\u001b[0;34m:\u001b[0m\u001b[0;34m\u001b[0m\u001b[0;34m\u001b[0m\u001b[0m\n\u001b[0;32m-> 1447\u001b[0;31m             \u001b[0;32mreturn\u001b[0m \u001b[0mfunc\u001b[0m\u001b[0;34m(\u001b[0m\u001b[0max\u001b[0m\u001b[0;34m,\u001b[0m \u001b[0;34m*\u001b[0m\u001b[0mmap\u001b[0m\u001b[0;34m(\u001b[0m\u001b[0msanitize_sequence\u001b[0m\u001b[0;34m,\u001b[0m \u001b[0margs\u001b[0m\u001b[0;34m)\u001b[0m\u001b[0;34m,\u001b[0m \u001b[0;34m**\u001b[0m\u001b[0mkwargs\u001b[0m\u001b[0;34m)\u001b[0m\u001b[0;34m\u001b[0m\u001b[0;34m\u001b[0m\u001b[0m\n\u001b[0m\u001b[1;32m   1448\u001b[0m \u001b[0;34m\u001b[0m\u001b[0m\n\u001b[1;32m   1449\u001b[0m         \u001b[0mbound\u001b[0m \u001b[0;34m=\u001b[0m \u001b[0mnew_sig\u001b[0m\u001b[0;34m.\u001b[0m\u001b[0mbind\u001b[0m\u001b[0;34m(\u001b[0m\u001b[0max\u001b[0m\u001b[0;34m,\u001b[0m \u001b[0;34m*\u001b[0m\u001b[0margs\u001b[0m\u001b[0;34m,\u001b[0m \u001b[0;34m**\u001b[0m\u001b[0mkwargs\u001b[0m\u001b[0;34m)\u001b[0m\u001b[0;34m\u001b[0m\u001b[0;34m\u001b[0m\u001b[0m\n",
      "\u001b[0;32m~/opt/anaconda3/lib/python3.8/site-packages/matplotlib/axes/_axes.py\u001b[0m in \u001b[0;36mpie\u001b[0;34m(self, x, explode, labels, colors, autopct, pctdistance, shadow, labeldistance, startangle, radius, counterclock, wedgeprops, textprops, center, frame, rotatelabels, normalize)\u001b[0m\n\u001b[1;32m   2998\u001b[0m \u001b[0;34m\u001b[0m\u001b[0m\n\u001b[1;32m   2999\u001b[0m         \u001b[0;32mif\u001b[0m \u001b[0mnp\u001b[0m\u001b[0;34m.\u001b[0m\u001b[0many\u001b[0m\u001b[0;34m(\u001b[0m\u001b[0mx\u001b[0m \u001b[0;34m<\u001b[0m \u001b[0;36m0\u001b[0m\u001b[0;34m)\u001b[0m\u001b[0;34m:\u001b[0m\u001b[0;34m\u001b[0m\u001b[0;34m\u001b[0m\u001b[0m\n\u001b[0;32m-> 3000\u001b[0;31m             \u001b[0;32mraise\u001b[0m \u001b[0mValueError\u001b[0m\u001b[0;34m(\u001b[0m\u001b[0;34m\"Wedge sizes 'x' must be non negative values\"\u001b[0m\u001b[0;34m)\u001b[0m\u001b[0;34m\u001b[0m\u001b[0;34m\u001b[0m\u001b[0m\n\u001b[0m\u001b[1;32m   3001\u001b[0m \u001b[0;34m\u001b[0m\u001b[0m\n\u001b[1;32m   3002\u001b[0m         \u001b[0msx\u001b[0m \u001b[0;34m=\u001b[0m \u001b[0mx\u001b[0m\u001b[0;34m.\u001b[0m\u001b[0msum\u001b[0m\u001b[0;34m(\u001b[0m\u001b[0;34m)\u001b[0m\u001b[0;34m\u001b[0m\u001b[0;34m\u001b[0m\u001b[0m\n",
      "\u001b[0;31mValueError\u001b[0m: Wedge sizes 'x' must be non negative values"
     ]
    },
    {
     "data": {
      "image/png": "[encoded data removed]",
      "text/plain": [
       "<Figure size 432x288 with 1 Axes>"
      ]
     },
     "metadata": {
      "needs_background": "light"
     },
     "output_type": "display_data"
    }
   ],
   "source": [
    "#Pie Chart\n",
    "import numpy as np\n",
    "import matplotlib.pyplot as plt\n",
    "n = 20\n",
    "Z = normal(size=20)\n",
    "print(Z)\n",
    "plt.pie(Z)\n",
    "plt.show()"
   ]
  },
  {
   "cell_type": "code",
   "execution_count": 234,
   "metadata": {},
   "outputs": [
    {
     "data": {
      "image/png": "[encoded data removed]",
      "text/plain": [
       "<Figure size 432x288 with 1 Axes>"
      ]
     },
     "metadata": {
      "needs_background": "light"
     },
     "output_type": "display_data"
    }
   ],
   "source": [
    "#3D Plot\n",
    "from matplotlib import cm\n",
    "from mpl_toolkits.mplot3d import Axes3D\n",
    "import matplotlib.pyplot as plt\n",
    "import numpy as np\n",
    "fig = plt.figure()\n",
    "ax = fig.gca(projection='3d')\n",
    "X = np.arange(-5, 5, 0.25)\n",
    "Y = np.arange(-5, 5, 0.25)\n",
    "X, Y = np.meshgrid(X, Y)\n",
    "R = np.sqrt(X**2 + Y**2)\n",
    "Z = np.sin(R)\n",
    "surf = ax.plot_surface(X, Y, Z, rstride=1, cstride=1, cmap=cm.coolwarm)\n",
    "plt.show()"
   ]
  },
  {
   "cell_type": "code",
   "execution_count": 235,
   "metadata": {},
   "outputs": [
    {
     "data": {
      "image/png": "[encoded data removed]",
      "text/plain": [
       "<Figure size 640x480 with 1 Axes>"
      ]
     },
     "metadata": {
      "needs_background": "light"
     },
     "output_type": "display_data"
    }
   ],
   "source": [
    "# Imports\n",
    "import numpy as np\n",
    "import matplotlib.pyplot as plt\n",
    "\n",
    "# Create a new figure of size 8x6 points, using 100 dots per inch\n",
    "plt.figure(figsize=(8,6), dpi=80)\n",
    "\n",
    "# Create a new subplot from a grid of 1x1\n",
    "plt.subplot(111)\n",
    "\n",
    "X = np.linspace(-np.pi, np.pi, 256,endpoint=True)\n",
    "C,S = np.cos(X), np.sin(X)\n",
    "\n",
    "# Plot cosine using blue color with a continuous line of width 1 (pixels)\n",
    "plt.plot(X, C, color=\"blue\", linewidth=1.0, linestyle=\"-\")\n",
    "\n",
    "# Plot sine using green color with a continuous line of width 1 (pixels)\n",
    "plt.plot(X, S, color=\"green\", linewidth=1.0, linestyle=\"-\")\n",
    "\n",
    "# Set x limits\n",
    "plt.xlim(-4.0,4.0)\n",
    "\n",
    "# Set x ticks\n",
    "plt.xticks(np.linspace(-4,4,9,endpoint=True))\n",
    "\n",
    "# Set y limits\n",
    "plt.ylim(-1.0,1.0)\n",
    "\n",
    "# Set y ticks\n",
    "plt.yticks(np.linspace(-1,1,5,endpoint=True))\n",
    "\n",
    "# Show result on screen\n",
    "plt.show()\n"
   ]
  },
  {
   "cell_type": "markdown",
   "metadata": {},
   "source": [
    "JSON:\n",
    "\n",
    "The json library can parse JSON from strings or files. The library parses JSON into a Python dictionary or list. It can also convert Python dictionaries or lists into JSON strings.\n",
    "\n",
    "Parsing JSON:\n",
    "Take the following string containing JSON data:\n"
   ]
  },
  {
   "cell_type": "code",
   "execution_count": null,
   "metadata": {},
   "outputs": [],
   "source": [
    "json_string = '{\"first_name\": \"Guido\", \"last_name\":\"Rossum\"}'"
   ]
  },
  {
   "cell_type": "markdown",
   "metadata": {},
   "source": [
    "It can be parsed like this:"
   ]
  },
  {
   "cell_type": "code",
   "execution_count": 242,
   "metadata": {},
   "outputs": [
    {
     "name": "stdout",
     "output_type": "stream",
     "text": [
      "{'first_name': 'Guido', 'last_name': 'Rossum'}\n",
      "{\"first_name\": \"Guido\", \"last_name\":\"Rossum\"}\n",
      "Guido\n",
      "Guido\n"
     ]
    }
   ],
   "source": [
    "import json\n",
    "string = {\"first_name\": \"Guido\", \"last_name\":\"Rossum\"}\n",
    "json_string = '{\"first_name\": \"Guido\", \"last_name\":\"Rossum\"}'\n",
    "parsed_json = json.loads(json_string)\n",
    "\n",
    "print(string)\n",
    "print(json_string)\n",
    "print(parsed_json['first_name'])\n",
    "print(string['first_name'])"
   ]
  },
  {
   "cell_type": "markdown",
   "metadata": {},
   "source": [
    "You can also convert the following to JSON:"
   ]
  },
  {
   "cell_type": "code",
   "execution_count": 243,
   "metadata": {},
   "outputs": [
    {
     "name": "stdout",
     "output_type": "stream",
     "text": [
      "{'first_name': 'Guido', 'second_name': 'Rossum', 'titles': ['BDFL', 'Developer']}\n",
      "{\"first_name\": \"Guido\", \"second_name\": \"Rossum\", \"titles\": [\"BDFL\", \"Developer\"]}\n"
     ]
    }
   ],
   "source": [
    "d = {\n",
    "    'first_name': 'Guido',\n",
    "    'second_name': 'Rossum',\n",
    "    'titles': ['BDFL', 'Developer'],\n",
    "}\n",
    "print(d)\n",
    "print(json.dumps(d))"
   ]
  },
  {
   "cell_type": "code",
   "execution_count": null,
   "metadata": {},
   "outputs": [],
   "source": []
  }
 ],
 "metadata": {
  "kernelspec": {
   "display_name": "Python 3",
   "language": "python",
   "name": "python3"
  },
  "language_info": {
   "codemirror_mode": {
    "name": "ipython",
    "version": 3
   },
   "file_extension": ".py",
   "mimetype": "text/x-python",
   "name": "python",
   "nbconvert_exporter": "python",
   "pygments_lexer": "ipython3",
   "version": "3.8.8"
  }
 },
 "nbformat": 4,
 "nbformat_minor": 1
}
