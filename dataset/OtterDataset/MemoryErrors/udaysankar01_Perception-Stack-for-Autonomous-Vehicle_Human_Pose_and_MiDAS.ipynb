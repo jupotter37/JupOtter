{
  "nbformat": 4,
  "nbformat_minor": 0,
  "metadata": {
    "anaconda-cloud": {},
    "kernelspec": {
      "name": "python3",
      "display_name": "Python 3"
    },
    "language_info": {
      "codemirror_mode": {
        "name": "ipython",
        "version": 3
      },
      "file_extension": ".py",
      "mimetype": "text/x-python",
      "name": "python",
      "nbconvert_exporter": "python",
      "pygments_lexer": "ipython3",
      "version": "3.7.3"
    },
    "colab": {
      "provenance": []
    },
    "accelerator": "GPU",
    "gpuClass": "standard"
  },
  "cells": [
    {
      "cell_type": "code",
      "metadata": {
        "id": "orJu7Ol3Hj00",
        "colab": {
          "base_uri": "https://localhost:8080/"
        },
        "outputId": "2e85ade2-adee-44da-ef4c-8adb909dcbee"
      },
      "source": [
        "# look at https://modelzoo.co/model/keras-realtime-multi-person-pose-estimation\n",
        "!git clone https://github.com/kevinlin311tw/keras-openpose-reproduce.git\n",
        "!mv keras-openpose-reproduce/* ./    &&    mkdir model/keras       \n",
        "!cd model   && sh get_keras_model.sh\n",
        "!pip3 -q install Cython scikit-image pandas zmq h5py opencv-python configobj"
      ],
      "execution_count": null,
      "outputs": [
        {
          "output_type": "stream",
          "name": "stdout",
          "text": [
            "Cloning into 'keras-openpose-reproduce'...\n",
            "remote: Enumerating objects: 132, done.\u001b[K\n",
            "remote: Total 132 (delta 0), reused 0 (delta 0), pack-reused 132\u001b[K\n",
            "Receiving objects: 100% (132/132), 9.28 MiB | 10.28 MiB/s, done.\n",
            "Resolving deltas: 100% (45/45), done.\n",
            "--2023-04-03 20:06:20--  https://www.dropbox.com/s/llpxd14is7gyj0z/model.h5\n",
            "Resolving www.dropbox.com (www.dropbox.com)... 162.125.64.18, 2620:100:6031:18::a27d:5112\n",
            "Connecting to www.dropbox.com (www.dropbox.com)|162.125.64.18|:443... connected.\n",
            "HTTP request sent, awaiting response... 302 Found\n",
            "Location: /s/raw/llpxd14is7gyj0z/model.h5 [following]\n",
            "--2023-04-03 20:06:21--  https://www.dropbox.com/s/raw/llpxd14is7gyj0z/model.h5\n",
            "Reusing existing connection to www.dropbox.com:443.\n",
            "HTTP request sent, awaiting response... 302 Found\n",
            "Location: https://uc23ccd1acb7afefc52a6d1aa14d.dl.dropboxusercontent.com/cd/0/inline/B5ehTXNvN3o-dbyv8AvHMroeBmvdBKMgz3Jkhz8gS8-DjaeLs_rBHtjJ1x64uQmEAh161khzjCm7N6zCYXZtmqHUiZaygW4Hb4rT0AZNp3qyZ6Jg71h1sAxRSVp0Dr6AUT0cOsZLolquwrPeMWTJwTRk22UP35fIDATn2p6R6pVc_w/file# [following]\n",
            "--2023-04-03 20:06:22--  https://uc23ccd1acb7afefc52a6d1aa14d.dl.dropboxusercontent.com/cd/0/inline/B5ehTXNvN3o-dbyv8AvHMroeBmvdBKMgz3Jkhz8gS8-DjaeLs_rBHtjJ1x64uQmEAh161khzjCm7N6zCYXZtmqHUiZaygW4Hb4rT0AZNp3qyZ6Jg71h1sAxRSVp0Dr6AUT0cOsZLolquwrPeMWTJwTRk22UP35fIDATn2p6R6pVc_w/file\n",
            "Resolving uc23ccd1acb7afefc52a6d1aa14d.dl.dropboxusercontent.com (uc23ccd1acb7afefc52a6d1aa14d.dl.dropboxusercontent.com)... 162.125.81.15, 2620:100:6031:15::a27d:510f\n",
            "Connecting to uc23ccd1acb7afefc52a6d1aa14d.dl.dropboxusercontent.com (uc23ccd1acb7afefc52a6d1aa14d.dl.dropboxusercontent.com)|162.125.81.15|:443... connected.\n",
            "HTTP request sent, awaiting response... 200 OK\n",
            "Length: 209602136 (200M) [text/plain]\n",
            "Saving to: ‘./keras/model.h5’\n",
            "\n",
            "model.h5            100%[===================>] 199.89M  17.4MB/s    in 12s     \n",
            "\n",
            "2023-04-03 20:06:34 (16.8 MB/s) - ‘./keras/model.h5’ saved [209602136/209602136]\n",
            "\n",
            "  Preparing metadata (setup.py) ... \u001b[?25l\u001b[?25hdone\n",
            "  Building wheel for zmq (setup.py) ... \u001b[?25l\u001b[?25hdone\n"
          ]
        }
      ]
    },
    {
      "cell_type": "code",
      "metadata": {
        "id": "fAkua2m5He5n"
      },
      "source": [
        "from tensorflow.keras import Sequential\n",
        "from tensorflow.keras.models import Model\n",
        "from tensorflow.keras.layers import Input, Dense, Activation, Lambda\n",
        "from tensorflow.keras.layers import Conv2D\n",
        "from tensorflow.keras.layers import MaxPooling2D\n",
        "from tensorflow.keras.layers import BatchNormalization\n",
        "from tensorflow.keras.layers import Concatenate\n",
        "from config_reader import config_reader\n",
        "import scipy\n",
        "import math\n",
        "%matplotlib inline\n",
        "import cv2\n",
        "import matplotlib\n",
        "import pylab as plt\n",
        "import numpy as np\n",
        "import util\n",
        "import os\n",
        "\n",
        "def relu(x): \n",
        "    return Activation('relu')(x)\n",
        "\n",
        "def conv(x, nf, ks, name):\n",
        "    x1 = Conv2D(nf, (ks, ks), padding='same', name=name)(x)\n",
        "    return x1\n",
        "\n",
        "def pooling(x, ks, st, name):\n",
        "    x = MaxPooling2D((ks, ks), strides=(st, st), name=name)(x)\n",
        "    return x\n",
        "\n",
        "def vgg_block(x):\n",
        "     \n",
        "    # Block 1\n",
        "    x = conv(x, 64, 3, \"conv1_1\")\n",
        "    x = relu(x)\n",
        "    x = conv(x, 64, 3, \"conv1_2\")\n",
        "    x = relu(x)\n",
        "    x = pooling(x, 2, 2, \"pool1_1\")\n",
        "\n",
        "    # Block 2\n",
        "    x = conv(x, 128, 3, \"conv2_1\")\n",
        "    x = relu(x)\n",
        "    x = conv(x, 128, 3, \"conv2_2\")\n",
        "    x = relu(x)\n",
        "    x = pooling(x, 2, 2, \"pool2_1\")\n",
        "    \n",
        "    # Block 3\n",
        "    x = conv(x, 256, 3, \"conv3_1\")\n",
        "    x = relu(x)    \n",
        "    x = conv(x, 256, 3, \"conv3_2\")\n",
        "    x = relu(x)    \n",
        "    x = conv(x, 256, 3, \"conv3_3\")\n",
        "    x = relu(x)    \n",
        "    x = conv(x, 256, 3, \"conv3_4\")\n",
        "    x = relu(x)    \n",
        "    x = pooling(x, 2, 2, \"pool3_1\")\n",
        "    \n",
        "    # Block 4\n",
        "    x = conv(x, 512, 3, \"conv4_1\")\n",
        "    x = relu(x)    \n",
        "    x = conv(x, 512, 3, \"conv4_2\")\n",
        "    x = relu(x)    \n",
        "    \n",
        "    # Additional non vgg layers\n",
        "    x = conv(x, 256, 3, \"conv4_3_CPM\")\n",
        "    x = relu(x)\n",
        "    x = conv(x, 128, 3, \"conv4_4_CPM\")\n",
        "    x = relu(x)\n",
        "    \n",
        "    return x\n",
        "\n",
        "def stage1_block(x, num_p, branch):\n",
        "    \n",
        "    # Block 1        \n",
        "    x = conv(x, 128, 3, \"conv5_1_CPM_L%d\" % branch)\n",
        "    x = relu(x)\n",
        "    x = conv(x, 128, 3, \"conv5_2_CPM_L%d\" % branch)\n",
        "    x = relu(x)\n",
        "    x = conv(x, 128, 3, \"conv5_3_CPM_L%d\" % branch)\n",
        "    x = relu(x)\n",
        "    x = conv(x, 512, 1, \"conv5_4_CPM_L%d\" % branch)\n",
        "    x = relu(x)\n",
        "    x = conv(x, num_p, 1, \"conv5_5_CPM_L%d\" % branch)\n",
        "    \n",
        "    return x\n",
        "\n",
        "def stageT_block(x, num_p, stage, branch):\n",
        "        \n",
        "    # Block 1        \n",
        "    x = conv(x, 128, 7, \"Mconv1_stage%d_L%d\" % (stage, branch))\n",
        "    x = relu(x)\n",
        "    x = conv(x, 128, 7, \"Mconv2_stage%d_L%d\" % (stage, branch))\n",
        "    x = relu(x)\n",
        "    x = conv(x, 128, 7, \"Mconv3_stage%d_L%d\" % (stage, branch))\n",
        "    x = relu(x)\n",
        "    x = conv(x, 128, 7, \"Mconv4_stage%d_L%d\" % (stage, branch))\n",
        "    x = relu(x)\n",
        "    x = conv(x, 128, 7, \"Mconv5_stage%d_L%d\" % (stage, branch))\n",
        "    x = relu(x)\n",
        "    x = conv(x, 128, 1, \"Mconv6_stage%d_L%d\" % (stage, branch))\n",
        "    x = relu(x)\n",
        "    x = conv(x, num_p, 1, \"Mconv7_stage%d_L%d\" % (stage, branch))\n",
        "    \n",
        "    return x\n",
        "\n",
        "weights_path = \"model/keras/model.h5\" # orginal weights converted from caffe\n",
        "#weights_path = \"training/weights.best.h5\" # weights trained from scratch \n",
        "\n",
        "input_shape = (None,None,3)\n",
        "\n",
        "img_input = Input(shape=input_shape)\n",
        "\n",
        "stages = 6\n",
        "np_branch1 = 38\n",
        "np_branch2 = 19\n",
        "\n",
        "img_normalized = Lambda(lambda x: x / 256 - 0.5)(img_input)  # [-0.5, 0.5]\n",
        "\n",
        "# VGG\n",
        "stage0_out = vgg_block(img_normalized)\n",
        "\n",
        "# stage 1\n",
        "stage1_branch1_out = stage1_block(stage0_out, np_branch1, 1)\n",
        "stage1_branch2_out = stage1_block(stage0_out, np_branch2, 2)\n",
        "x = Concatenate()([stage1_branch1_out, stage1_branch2_out, stage0_out])\n",
        "\n",
        "# stage t >= 2\n",
        "for sn in range(2, stages + 1):\n",
        "    stageT_branch1_out = stageT_block(x, np_branch1, sn, 1)\n",
        "    stageT_branch2_out = stageT_block(x, np_branch2, sn, 2)\n",
        "    if (sn < stages):\n",
        "        x = Concatenate()([stageT_branch1_out, stageT_branch2_out, stage0_out])\n",
        "\n",
        "model = Model(img_input, [stageT_branch1_out, stageT_branch2_out])\n",
        "model.load_weights(weights_path)\n",
        "\n",
        "# find connection in the specified sequence, center 29 is in the position 15\n",
        "limbSeq = [[2,3], [2,6], [3,4], [4,5], [6,7], [7,8], [2,9], [9,10], \\\n",
        "           [10,11], [2,12], [12,13], [13,14], [2,1], [1,15], [15,17], \\\n",
        "           [1,16], [16,18], [3,17], [6,18]]\n",
        "# the middle joints heatmap correpondence\n",
        "mapIdx = [[31,32], [39,40], [33,34], [35,36], [41,42], [43,44], [19,20], [21,22], \\\n",
        "          [23,24], [25,26], [27,28], [29,30], [47,48], [49,50], [53,54], [51,52], \\\n",
        "          [55,56], [37,38], [45,46]]\n",
        "\n",
        "colors = [[255, 0, 0], [255, 85, 0], [255, 170, 0], [255, 255, 0], [170, 255, 0], [85, 255, 0], [0, 255, 0], \\\n",
        "          [0, 255, 85], [0, 255, 170], [0, 255, 255], [0, 170, 255], [0, 85, 255], [0, 0, 255], [85, 0, 255], \\\n",
        "          [170, 0, 255], [255, 0, 255], [255, 0, 170], [255, 0, 85]]\n",
        "cmap = matplotlib.colormaps['hsv']\n",
        "\n",
        "image_folder = '/content/sample_images'\n",
        "pedestrian_output_folder = '/content/pedestrian_output'\n",
        "try:\n",
        "    os.makedirs(pedestrian_output_folder)\n",
        "except:\n",
        "    pass"
      ],
      "execution_count": null,
      "outputs": []
    },
    {
      "cell_type": "markdown",
      "metadata": {
        "id": "McaRe8saWIlo"
      },
      "source": [
        "### Applying the model to an image"
      ]
    },
    {
      "cell_type": "code",
      "source": [
        "# add the input images into /content/sample_images"
      ],
      "metadata": {
        "id": "n78sF6jwvBBp"
      },
      "execution_count": null,
      "outputs": []
    },
    {
      "cell_type": "code",
      "metadata": {
        "id": "2ZfPn__3He6I",
        "colab": {
          "base_uri": "https://localhost:8080/",
          "height": 332
        },
        "outputId": "baa0fbc8-e84e-4b23-d9be-83627b9d1289"
      },
      "source": [
        "import os\n",
        "import re\n",
        "import json\n",
        "from numpy import ma\n",
        "from scipy.ndimage import gaussian_filter\n",
        "\n",
        "\n",
        "for i, frame_name in enumerate(sorted(os.listdir(image_folder))):\n",
        "    \n",
        "    if not frame_name.endswith('jpg'):\n",
        "        continue\n",
        "    else:\n",
        "        frame_number = int(re.findall(r'\\d+', frame_name)[0])\n",
        "        image_path = os.path.join(image_folder, f'frame{frame_number}.jpg')\n",
        "        oriImg = cv2.imread(image_path)\n",
        "        print(oriImg.shape)\n",
        "        # oriImg = cv2.resize(oriImg, (512, 256))\n",
        "\n",
        "        param, model_params = config_reader()\n",
        "\n",
        "        multiplier = [x * model_params['boxsize'] / oriImg.shape[0] for x in param['scale_search']]\n",
        "\n",
        "        heatmap_avg = np.zeros((oriImg.shape[0], oriImg.shape[1], 19))\n",
        "        paf_avg = np.zeros((oriImg.shape[0], oriImg.shape[1], 38))\n",
        "\n",
        "        for m in range(len(multiplier)):\n",
        "            scale = multiplier[m]\n",
        "            imageToTest = cv2.resize(oriImg, (0,0), fx=scale, fy=scale, interpolation=cv2.INTER_CUBIC)\n",
        "            imageToTest_padded, pad = util.padRightDownCorner(imageToTest, model_params['stride'], model_params['padValue'])        \n",
        "\n",
        "            input_img = np.transpose(np.float32(imageToTest_padded[:,:,:,np.newaxis]), (3,0,1,2)) # required shape (1, width, height, channels) \n",
        "\n",
        "            output_blobs = model.predict(input_img)\n",
        "            \n",
        "            # extract outputs, resize, and remove padding\n",
        "            heatmap = np.squeeze(output_blobs[1]) # output 1 is heatmaps\n",
        "            heatmap = cv2.resize(heatmap, (0,0), fx=model_params['stride'], fy=model_params['stride'], interpolation=cv2.INTER_CUBIC)\n",
        "            heatmap = heatmap[:imageToTest_padded.shape[0]-pad[2], :imageToTest_padded.shape[1]-pad[3], :]\n",
        "            heatmap = cv2.resize(heatmap, (oriImg.shape[1], oriImg.shape[0]), interpolation=cv2.INTER_CUBIC)\n",
        "            \n",
        "            paf = np.squeeze(output_blobs[0]) # output 0 is PAFs\n",
        "            paf = cv2.resize(paf, (0,0), fx=model_params['stride'], fy=model_params['stride'], interpolation=cv2.INTER_CUBIC)\n",
        "            paf = paf[:imageToTest_padded.shape[0]-pad[2], :imageToTest_padded.shape[1]-pad[3], :]\n",
        "            paf = cv2.resize(paf, (oriImg.shape[1], oriImg.shape[0]), interpolation=cv2.INTER_CUBIC)\n",
        "            \n",
        "            heatmap_avg = heatmap_avg + heatmap / len(multiplier)\n",
        "            paf_avg = paf_avg + paf / len(multiplier)\n",
        "\n",
        "        U = paf_avg[:,:,16] * -1\n",
        "        V = paf_avg[:,:,17]\n",
        "        X, Y = np.meshgrid(np.arange(U.shape[1]), np.arange(U.shape[0]))\n",
        "        M = np.zeros(U.shape, dtype='bool')\n",
        "        M[U**2 + V**2 < 0.5 * 0.5] = True\n",
        "        U = ma.masked_array(U, mask=M)\n",
        "        V = ma.masked_array(V, mask=M)\n",
        "\n",
        "        all_peaks = []\n",
        "        peak_counter = 0\n",
        "\n",
        "        for part in range(19-1):\n",
        "            map_ori = heatmap_avg[:,:,part]\n",
        "            map = gaussian_filter(map_ori, sigma=3)\n",
        "            \n",
        "            map_left = np.zeros(map.shape)\n",
        "            map_left[1:,:] = map[:-1,:]\n",
        "            map_right = np.zeros(map.shape)\n",
        "            map_right[:-1,:] = map[1:,:]\n",
        "            map_up = np.zeros(map.shape)\n",
        "            map_up[:,1:] = map[:,:-1]\n",
        "            map_down = np.zeros(map.shape)\n",
        "            map_down[:,:-1] = map[:,1:]\n",
        "            \n",
        "            peaks_binary = np.logical_and.reduce((map>=map_left, map>=map_right, map>=map_up, map>=map_down, map > param['thre1']))\n",
        "            peaks = list(zip(np.nonzero(peaks_binary)[1], np.nonzero(peaks_binary)[0])) # note reverse\n",
        "            peaks_with_score = [x + (map_ori[x[1],x[0]],) for x in peaks]\n",
        "            id = range(peak_counter, peak_counter + len(peaks))\n",
        "            peaks_with_score_and_id = [peaks_with_score[i] + (id[i],) for i in range(len(id))]\n",
        "\n",
        "            all_peaks.append(peaks_with_score_and_id)\n",
        "            peak_counter += len(peaks)\n",
        "\n",
        "    min_pedestrian = np.inf\n",
        "    for row in all_peaks:\n",
        "        num_pedestrian = len(row)\n",
        "        if num_pedestrian < min_pedestrian:\n",
        "            min_pedestrian = num_pedestrian\n",
        "    for idx in range(len(all_peaks)):\n",
        "        all_peaks[idx] = all_peaks[idx][:min_pedestrian]\n",
        "\n",
        "    print(frame_number)\n",
        "    all_peaks = np.array(all_peaks).reshape(18, min_pedestrian, 4)\n",
        "    print(all_peaks.shape)\n",
        "    np.save(os.path.join(pedestrian_output_folder, f'pedestrian{frame_number}.npy'), all_peaks)\n",
        "    # print(np.array(all_peaks).shape)\n",
        "    # all_peaks = all_peaks.transpose([1, 0, 2])\n",
        "    # obj_list = []\n",
        "    # if not all_peaks.shape[0] < 1:\n",
        "     \n",
        "    #     for ped_idx in range(all_peaks.shape[0]):\n",
        "    #         pedestrian_dict = {}\n",
        "    #         pedestrian_dict['ped_id'] = ped_idx\n",
        "    #         for kpt_idx, (x, y, _, _) in enumerate(all_peaks[ped_idx]):\n",
        "    #             pedestrian_dict[kpt_idx] = {}\n",
        "    #             pedestrian_dict[kpt_idx]['u'] = int(x)\n",
        "    #             pedestrian_dict[kpt_idx]['v'] = int(y)\n",
        "    #         obj_list.append(pedestrian_dict)\n",
        "            \n",
        "    # json_object = json.dumps(str(obj_list))\n",
        "\n",
        "    # print(len(json_object))\n",
        "\n",
        "    # with open(os.path.join(pedestrian_output_folder, f'pedestrian{frame_number}.json'), \"w\") as outfile:\n",
        "    #     outfile.write(json_object)"
      ],
      "execution_count": null,
      "outputs": [
        {
          "output_type": "stream",
          "name": "stdout",
          "text": [
            "(960, 1280, 3)\n",
            "1/1 [==============================] - 0s 23ms/step\n",
            "1/1 [==============================] - 0s 23ms/step\n",
            "1/1 [==============================] - 0s 25ms/step\n",
            "1/1 [==============================] - 0s 27ms/step\n"
          ]
        },
        {
          "output_type": "error",
          "ename": "KeyboardInterrupt",
          "evalue": "ignored",
          "traceback": [
            "\u001b[0;31m---------------------------------------------------------------------------\u001b[0m",
            "\u001b[0;31mKeyboardInterrupt\u001b[0m                         Traceback (most recent call last)",
            "\u001b[0;32m<ipython-input-10-026bdbd0adcc>\u001b[0m in \u001b[0;36m<cell line: 8>\u001b[0;34m()\u001b[0m\n\u001b[1;32m     45\u001b[0m \u001b[0;34m\u001b[0m\u001b[0m\n\u001b[1;32m     46\u001b[0m             \u001b[0mheatmap_avg\u001b[0m \u001b[0;34m=\u001b[0m \u001b[0mheatmap_avg\u001b[0m \u001b[0;34m+\u001b[0m \u001b[0mheatmap\u001b[0m \u001b[0;34m/\u001b[0m \u001b[0mlen\u001b[0m\u001b[0;34m(\u001b[0m\u001b[0mmultiplier\u001b[0m\u001b[0;34m)\u001b[0m\u001b[0;34m\u001b[0m\u001b[0;34m\u001b[0m\u001b[0m\n\u001b[0;32m---> 47\u001b[0;31m             \u001b[0mpaf_avg\u001b[0m \u001b[0;34m=\u001b[0m \u001b[0mpaf_avg\u001b[0m \u001b[0;34m+\u001b[0m \u001b[0mpaf\u001b[0m \u001b[0;34m/\u001b[0m \u001b[0mlen\u001b[0m\u001b[0;34m(\u001b[0m\u001b[0mmultiplier\u001b[0m\u001b[0;34m)\u001b[0m\u001b[0;34m\u001b[0m\u001b[0;34m\u001b[0m\u001b[0m\n\u001b[0m\u001b[1;32m     48\u001b[0m \u001b[0;34m\u001b[0m\u001b[0m\n\u001b[1;32m     49\u001b[0m         \u001b[0mU\u001b[0m \u001b[0;34m=\u001b[0m \u001b[0mpaf_avg\u001b[0m\u001b[0;34m[\u001b[0m\u001b[0;34m:\u001b[0m\u001b[0;34m,\u001b[0m\u001b[0;34m:\u001b[0m\u001b[0;34m,\u001b[0m\u001b[0;36m16\u001b[0m\u001b[0;34m]\u001b[0m \u001b[0;34m*\u001b[0m \u001b[0;34m-\u001b[0m\u001b[0;36m1\u001b[0m\u001b[0;34m\u001b[0m\u001b[0;34m\u001b[0m\u001b[0m\n",
            "\u001b[0;31mKeyboardInterrupt\u001b[0m: "
          ]
        }
      ]
    },
    {
      "cell_type": "code",
      "source": [
        "%cd /content/pedestrian_output\n",
        "!zip 'pedestrian_numpy.zip' *\n",
        "%cd /content"
      ],
      "metadata": {
        "colab": {
          "base_uri": "https://localhost:8080/"
        },
        "id": "4LO7BZAFU02C",
        "outputId": "432a86d8-1383-4c5e-a972-371c47423c98"
      },
      "execution_count": null,
      "outputs": [
        {
          "output_type": "stream",
          "name": "stdout",
          "text": [
            "/content/pedestrian_output\n",
            "  adding: pedestrian275.npy (deflated 49%)\n",
            "  adding: pedestrian276.npy (deflated 51%)\n",
            "  adding: pedestrian277.npy (deflated 42%)\n",
            "  adding: pedestrian278.npy (deflated 52%)\n",
            "  adding: pedestrian279.npy (deflated 52%)\n",
            "  adding: pedestrian280.npy (deflated 52%)\n",
            "  adding: pedestrian281.npy (deflated 51%)\n",
            "  adding: pedestrian282.npy (deflated 54%)\n",
            "  adding: pedestrian283.npy (deflated 54%)\n",
            "  adding: pedestrian284.npy (deflated 55%)\n",
            "  adding: pedestrian285.npy (deflated 55%)\n",
            "  adding: pedestrian286.npy (deflated 56%)\n",
            "  adding: pedestrian287.npy (deflated 55%)\n",
            "  adding: pedestrian288.npy (deflated 55%)\n",
            "  adding: pedestrian289.npy (deflated 55%)\n",
            "  adding: pedestrian290.npy (deflated 55%)\n",
            "  adding: pedestrian291.npy (deflated 55%)\n",
            "  adding: pedestrian292.npy (deflated 55%)\n",
            "  adding: pedestrian293.npy (deflated 51%)\n",
            "  adding: pedestrian294.npy (deflated 42%)\n",
            "  adding: pedestrian295.npy (deflated 42%)\n",
            "  adding: pedestrian296.npy (deflated 42%)\n",
            "  adding: pedestrian297.npy (deflated 42%)\n",
            "  adding: pedestrian298.npy (deflated 42%)\n",
            "  adding: pedestrian299.npy (deflated 42%)\n",
            "  adding: pedestrian300.npy (deflated 42%)\n",
            "/content\n"
          ]
        }
      ]
    },
    {
      "cell_type": "markdown",
      "source": [
        "# MiDAS"
      ],
      "metadata": {
        "id": "q6jl0HH6RYWp"
      }
    },
    {
      "cell_type": "code",
      "source": [
        "%cd /content/\n",
        "!pip3 install torch torchvision torchaudio --index-url https://download.pytorch.org/whl/cu117cu102/torch-1.5.1-cp36-cp36m-win_amd64.whl\n",
        "!pip install timm"
      ],
      "metadata": {
        "colab": {
          "base_uri": "https://localhost:8080/"
        },
        "id": "fREjlGmTi5Nt",
        "outputId": "1130a8a9-bc03-4cd8-db90-b3c129a77ddd"
      },
      "execution_count": null,
      "outputs": [
        {
          "output_type": "stream",
          "name": "stdout",
          "text": [
            "/content\n",
            "Looking in indexes: https://download.pytorch.org/whl/cu117cu102/torch-1.5.1-cp36-cp36m-win_amd64.whl, https://us-python.pkg.dev/colab-wheels/public/simple/\n",
            "Requirement already satisfied: torch in /usr/local/lib/python3.9/dist-packages (2.0.0+cu118)\n",
            "Requirement already satisfied: torchvision in /usr/local/lib/python3.9/dist-packages (0.15.1+cu118)\n",
            "Requirement already satisfied: torchaudio in /usr/local/lib/python3.9/dist-packages (2.0.1+cu118)\n",
            "Requirement already satisfied: triton==2.0.0 in /usr/local/lib/python3.9/dist-packages (from torch) (2.0.0)\n",
            "Requirement already satisfied: typing-extensions in /usr/local/lib/python3.9/dist-packages (from torch) (4.5.0)\n",
            "Requirement already satisfied: networkx in /usr/local/lib/python3.9/dist-packages (from torch) (3.0)\n",
            "Requirement already satisfied: filelock in /usr/local/lib/python3.9/dist-packages (from torch) (3.10.7)\n",
            "Requirement already satisfied: sympy in /usr/local/lib/python3.9/dist-packages (from torch) (1.11.1)\n",
            "Requirement already satisfied: jinja2 in /usr/local/lib/python3.9/dist-packages (from torch) (3.1.2)\n",
            "Requirement already satisfied: lit in /usr/local/lib/python3.9/dist-packages (from triton==2.0.0->torch) (16.0.0)\n",
            "Requirement already satisfied: cmake in /usr/local/lib/python3.9/dist-packages (from triton==2.0.0->torch) (3.25.2)\n",
            "Requirement already satisfied: numpy in /usr/local/lib/python3.9/dist-packages (from torchvision) (1.22.4)\n",
            "Requirement already satisfied: requests in /usr/local/lib/python3.9/dist-packages (from torchvision) (2.27.1)\n",
            "Requirement already satisfied: pillow!=8.3.*,>=5.3.0 in /usr/local/lib/python3.9/dist-packages (from torchvision) (8.4.0)\n",
            "Requirement already satisfied: MarkupSafe>=2.0 in /usr/local/lib/python3.9/dist-packages (from jinja2->torch) (2.1.2)\n",
            "Requirement already satisfied: charset-normalizer~=2.0.0 in /usr/local/lib/python3.9/dist-packages (from requests->torchvision) (2.0.12)\n",
            "Requirement already satisfied: urllib3<1.27,>=1.21.1 in /usr/local/lib/python3.9/dist-packages (from requests->torchvision) (1.26.15)\n",
            "Requirement already satisfied: idna<4,>=2.5 in /usr/local/lib/python3.9/dist-packages (from requests->torchvision) (3.4)\n",
            "Requirement already satisfied: certifi>=2017.4.17 in /usr/local/lib/python3.9/dist-packages (from requests->torchvision) (2022.12.7)\n",
            "Requirement already satisfied: mpmath>=0.19 in /usr/local/lib/python3.9/dist-packages (from sympy->torch) (1.3.0)\n",
            "Looking in indexes: https://pypi.org/simple, https://us-python.pkg.dev/colab-wheels/public/simple/\n",
            "Collecting timm\n",
            "  Downloading timm-0.6.13-py3-none-any.whl (549 kB)\n",
            "\u001b[2K     \u001b[90m━━━━━━━━━━━━━━━━━━━━━━━━━━━━━━━━━━━━━━\u001b[0m \u001b[32m549.1/549.1 KB\u001b[0m \u001b[31m40.4 MB/s\u001b[0m eta \u001b[36m0:00:00\u001b[0m\n",
            "\u001b[?25hRequirement already satisfied: torch>=1.7 in /usr/local/lib/python3.9/dist-packages (from timm) (2.0.0+cu118)\n",
            "Requirement already satisfied: pyyaml in /usr/local/lib/python3.9/dist-packages (from timm) (6.0)\n",
            "Requirement already satisfied: torchvision in /usr/local/lib/python3.9/dist-packages (from timm) (0.15.1+cu118)\n",
            "Collecting huggingface-hub\n",
            "  Downloading huggingface_hub-0.13.3-py3-none-any.whl (199 kB)\n",
            "\u001b[2K     \u001b[90m━━━━━━━━━━━━━━━━━━━━━━━━━━━━━━━━━━━━━━\u001b[0m \u001b[32m199.8/199.8 KB\u001b[0m \u001b[31m29.5 MB/s\u001b[0m eta \u001b[36m0:00:00\u001b[0m\n",
            "\u001b[?25hRequirement already satisfied: sympy in /usr/local/lib/python3.9/dist-packages (from torch>=1.7->timm) (1.11.1)\n",
            "Requirement already satisfied: triton==2.0.0 in /usr/local/lib/python3.9/dist-packages (from torch>=1.7->timm) (2.0.0)\n",
            "Requirement already satisfied: jinja2 in /usr/local/lib/python3.9/dist-packages (from torch>=1.7->timm) (3.1.2)\n",
            "Requirement already satisfied: networkx in /usr/local/lib/python3.9/dist-packages (from torch>=1.7->timm) (3.0)\n",
            "Requirement already satisfied: filelock in /usr/local/lib/python3.9/dist-packages (from torch>=1.7->timm) (3.10.7)\n",
            "Requirement already satisfied: typing-extensions in /usr/local/lib/python3.9/dist-packages (from torch>=1.7->timm) (4.5.0)\n",
            "Requirement already satisfied: lit in /usr/local/lib/python3.9/dist-packages (from triton==2.0.0->torch>=1.7->timm) (16.0.0)\n",
            "Requirement already satisfied: cmake in /usr/local/lib/python3.9/dist-packages (from triton==2.0.0->torch>=1.7->timm) (3.25.2)\n",
            "Requirement already satisfied: packaging>=20.9 in /usr/local/lib/python3.9/dist-packages (from huggingface-hub->timm) (23.0)\n",
            "Requirement already satisfied: requests in /usr/local/lib/python3.9/dist-packages (from huggingface-hub->timm) (2.27.1)\n",
            "Requirement already satisfied: tqdm>=4.42.1 in /usr/local/lib/python3.9/dist-packages (from huggingface-hub->timm) (4.65.0)\n",
            "Requirement already satisfied: numpy in /usr/local/lib/python3.9/dist-packages (from torchvision->timm) (1.22.4)\n",
            "Requirement already satisfied: pillow!=8.3.*,>=5.3.0 in /usr/local/lib/python3.9/dist-packages (from torchvision->timm) (8.4.0)\n",
            "Requirement already satisfied: MarkupSafe>=2.0 in /usr/local/lib/python3.9/dist-packages (from jinja2->torch>=1.7->timm) (2.1.2)\n",
            "Requirement already satisfied: urllib3<1.27,>=1.21.1 in /usr/local/lib/python3.9/dist-packages (from requests->huggingface-hub->timm) (1.26.15)\n",
            "Requirement already satisfied: charset-normalizer~=2.0.0 in /usr/local/lib/python3.9/dist-packages (from requests->huggingface-hub->timm) (2.0.12)\n",
            "Requirement already satisfied: certifi>=2017.4.17 in /usr/local/lib/python3.9/dist-packages (from requests->huggingface-hub->timm) (2022.12.7)\n",
            "Requirement already satisfied: idna<4,>=2.5 in /usr/local/lib/python3.9/dist-packages (from requests->huggingface-hub->timm) (3.4)\n",
            "Requirement already satisfied: mpmath>=0.19 in /usr/local/lib/python3.9/dist-packages (from sympy->torch>=1.7->timm) (1.3.0)\n",
            "Installing collected packages: huggingface-hub, timm\n",
            "Successfully installed huggingface-hub-0.13.3 timm-0.6.13\n"
          ]
        }
      ]
    },
    {
      "cell_type": "code",
      "source": [
        "import os\n",
        "import re\n",
        "import cv2\n",
        "import torch\n",
        "import urllib.request\n",
        "import numpy as np\n",
        "import matplotlib.pyplot as plt\n",
        "\n",
        "frame_data_for_midas = image_folder##########################\n",
        "\n",
        "ped_depth_path = \"/content/ped_depth_output\"\n",
        "try:\n",
        "    os.makedirs(ped_depth_path)\n",
        "except:\n",
        "    pass\n",
        "\n",
        "\n",
        "model_type = \"DPT_Large\"     # MiDaS v3 - Large     (highest accuracy, slowest inference speed)\n",
        "#model_type = \"DPT_Hybrid\"   # MiDaS v3 - Hybrid    (medium accuracy, medium inference speed)\n",
        "#model_type = \"MiDaS_small\"  # MiDaS v2.1 - Small   (lowest accuracy, highest inference speed)\n",
        "\n",
        "midas = torch.hub.load(\"intel-isl/MiDaS\", model_type)\n",
        "\n",
        "device = torch.device(\"cuda\") if torch.cuda.is_available() else torch.device(\"cpu\")\n",
        "midas.to(device)\n",
        "midas.eval()\n",
        "\n",
        "midas_transforms = torch.hub.load(\"intel-isl/MiDaS\", \"transforms\")\n",
        "\n",
        "if model_type == \"DPT_Large\" or model_type == \"DPT_Hybrid\":\n",
        "    transform = midas_transforms.dpt_transform\n",
        "else:\n",
        "    transform = midas_transforms.small_transform\n",
        "\n",
        "midas_results = '/content/midas_outputs'\n",
        "if not os.path.exists(midas_results):\n",
        "    os.makedirs(midas_results)\n",
        "\n",
        "for i, image_name in enumerate(sorted(os.listdir(frame_data_for_midas))):\n",
        "\n",
        "    if not image_name.endswith('.jpg'):\n",
        "        continue\n",
        "    image_number = int(re.findall(r'\\d+', image_name)[0])\n",
        "    img_path = os.path.join(frame_data_for_midas, image_name)\n",
        "\n",
        "    img = cv2.imread(img_path)\n",
        "    # img = cv2.resize(img, (512, 256))\n",
        "    img = cv2.cvtColor(img, cv2.COLOR_BGR2RGB)\n",
        "\n",
        "    input_batch = transform(img).to(device)\n",
        "\n",
        "    with torch.no_grad():\n",
        "        prediction = midas(input_batch)\n",
        "\n",
        "        prediction = torch.nn.functional.interpolate(\n",
        "            prediction.unsqueeze(1),\n",
        "            size=img.shape[:2],\n",
        "            mode=\"bicubic\",\n",
        "            align_corners=False,\n",
        "        ).squeeze()\n",
        "\n",
        "    output = prediction.cpu().numpy()\n",
        "    # output = cv2.cvtColor(img, cv2.COLOR_RGB2BGR)\n",
        "    np.save(f'/content/midas_outputs/frame_midas{image_number}.npy', output)"
      ],
      "metadata": {
        "colab": {
          "base_uri": "https://localhost:8080/",
          "height": 447
        },
        "id": "xKCiCg48RYFW",
        "outputId": "e1083c92-5491-474e-91e6-ddccf81ac7d9"
      },
      "execution_count": null,
      "outputs": [
        {
          "output_type": "stream",
          "name": "stderr",
          "text": [
            "Using cache found in /root/.cache/torch/hub/intel-isl_MiDaS_master\n"
          ]
        },
        {
          "output_type": "error",
          "ename": "OutOfMemoryError",
          "evalue": "ignored",
          "traceback": [
            "\u001b[0;31m---------------------------------------------------------------------------\u001b[0m",
            "\u001b[0;31mOutOfMemoryError\u001b[0m                          Traceback (most recent call last)",
            "\u001b[0;32m<ipython-input-11-0057abe6c4be>\u001b[0m in \u001b[0;36m<cell line: 25>\u001b[0;34m()\u001b[0m\n\u001b[1;32m     23\u001b[0m \u001b[0;34m\u001b[0m\u001b[0m\n\u001b[1;32m     24\u001b[0m \u001b[0mdevice\u001b[0m \u001b[0;34m=\u001b[0m \u001b[0mtorch\u001b[0m\u001b[0;34m.\u001b[0m\u001b[0mdevice\u001b[0m\u001b[0;34m(\u001b[0m\u001b[0;34m\"cuda\"\u001b[0m\u001b[0;34m)\u001b[0m \u001b[0;32mif\u001b[0m \u001b[0mtorch\u001b[0m\u001b[0;34m.\u001b[0m\u001b[0mcuda\u001b[0m\u001b[0;34m.\u001b[0m\u001b[0mis_available\u001b[0m\u001b[0;34m(\u001b[0m\u001b[0;34m)\u001b[0m \u001b[0;32melse\u001b[0m \u001b[0mtorch\u001b[0m\u001b[0;34m.\u001b[0m\u001b[0mdevice\u001b[0m\u001b[0;34m(\u001b[0m\u001b[0;34m\"cpu\"\u001b[0m\u001b[0;34m)\u001b[0m\u001b[0;34m\u001b[0m\u001b[0;34m\u001b[0m\u001b[0m\n\u001b[0;32m---> 25\u001b[0;31m \u001b[0mmidas\u001b[0m\u001b[0;34m.\u001b[0m\u001b[0mto\u001b[0m\u001b[0;34m(\u001b[0m\u001b[0mdevice\u001b[0m\u001b[0;34m)\u001b[0m\u001b[0;34m\u001b[0m\u001b[0;34m\u001b[0m\u001b[0m\n\u001b[0m\u001b[1;32m     26\u001b[0m \u001b[0mmidas\u001b[0m\u001b[0;34m.\u001b[0m\u001b[0meval\u001b[0m\u001b[0;34m(\u001b[0m\u001b[0;34m)\u001b[0m\u001b[0;34m\u001b[0m\u001b[0;34m\u001b[0m\u001b[0m\n\u001b[1;32m     27\u001b[0m \u001b[0;34m\u001b[0m\u001b[0m\n",
            "\u001b[0;32m/usr/local/lib/python3.9/dist-packages/torch/nn/modules/module.py\u001b[0m in \u001b[0;36mto\u001b[0;34m(self, *args, **kwargs)\u001b[0m\n\u001b[1;32m   1143\u001b[0m             \u001b[0;32mreturn\u001b[0m \u001b[0mt\u001b[0m\u001b[0;34m.\u001b[0m\u001b[0mto\u001b[0m\u001b[0;34m(\u001b[0m\u001b[0mdevice\u001b[0m\u001b[0;34m,\u001b[0m \u001b[0mdtype\u001b[0m \u001b[0;32mif\u001b[0m \u001b[0mt\u001b[0m\u001b[0;34m.\u001b[0m\u001b[0mis_floating_point\u001b[0m\u001b[0;34m(\u001b[0m\u001b[0;34m)\u001b[0m \u001b[0;32mor\u001b[0m \u001b[0mt\u001b[0m\u001b[0;34m.\u001b[0m\u001b[0mis_complex\u001b[0m\u001b[0;34m(\u001b[0m\u001b[0;34m)\u001b[0m \u001b[0;32melse\u001b[0m \u001b[0;32mNone\u001b[0m\u001b[0;34m,\u001b[0m \u001b[0mnon_blocking\u001b[0m\u001b[0;34m)\u001b[0m\u001b[0;34m\u001b[0m\u001b[0;34m\u001b[0m\u001b[0m\n\u001b[1;32m   1144\u001b[0m \u001b[0;34m\u001b[0m\u001b[0m\n\u001b[0;32m-> 1145\u001b[0;31m         \u001b[0;32mreturn\u001b[0m \u001b[0mself\u001b[0m\u001b[0;34m.\u001b[0m\u001b[0m_apply\u001b[0m\u001b[0;34m(\u001b[0m\u001b[0mconvert\u001b[0m\u001b[0;34m)\u001b[0m\u001b[0;34m\u001b[0m\u001b[0;34m\u001b[0m\u001b[0m\n\u001b[0m\u001b[1;32m   1146\u001b[0m \u001b[0;34m\u001b[0m\u001b[0m\n\u001b[1;32m   1147\u001b[0m     def register_full_backward_pre_hook(\n",
            "\u001b[0;32m/usr/local/lib/python3.9/dist-packages/torch/nn/modules/module.py\u001b[0m in \u001b[0;36m_apply\u001b[0;34m(self, fn)\u001b[0m\n\u001b[1;32m    795\u001b[0m     \u001b[0;32mdef\u001b[0m \u001b[0m_apply\u001b[0m\u001b[0;34m(\u001b[0m\u001b[0mself\u001b[0m\u001b[0;34m,\u001b[0m \u001b[0mfn\u001b[0m\u001b[0;34m)\u001b[0m\u001b[0;34m:\u001b[0m\u001b[0;34m\u001b[0m\u001b[0;34m\u001b[0m\u001b[0m\n\u001b[1;32m    796\u001b[0m         \u001b[0;32mfor\u001b[0m \u001b[0mmodule\u001b[0m \u001b[0;32min\u001b[0m \u001b[0mself\u001b[0m\u001b[0;34m.\u001b[0m\u001b[0mchildren\u001b[0m\u001b[0;34m(\u001b[0m\u001b[0;34m)\u001b[0m\u001b[0;34m:\u001b[0m\u001b[0;34m\u001b[0m\u001b[0;34m\u001b[0m\u001b[0m\n\u001b[0;32m--> 797\u001b[0;31m             \u001b[0mmodule\u001b[0m\u001b[0;34m.\u001b[0m\u001b[0m_apply\u001b[0m\u001b[0;34m(\u001b[0m\u001b[0mfn\u001b[0m\u001b[0;34m)\u001b[0m\u001b[0;34m\u001b[0m\u001b[0;34m\u001b[0m\u001b[0m\n\u001b[0m\u001b[1;32m    798\u001b[0m \u001b[0;34m\u001b[0m\u001b[0m\n\u001b[1;32m    799\u001b[0m         \u001b[0;32mdef\u001b[0m \u001b[0mcompute_should_use_set_data\u001b[0m\u001b[0;34m(\u001b[0m\u001b[0mtensor\u001b[0m\u001b[0;34m,\u001b[0m \u001b[0mtensor_applied\u001b[0m\u001b[0;34m)\u001b[0m\u001b[0;34m:\u001b[0m\u001b[0;34m\u001b[0m\u001b[0;34m\u001b[0m\u001b[0m\n",
            "\u001b[0;32m/usr/local/lib/python3.9/dist-packages/torch/nn/modules/module.py\u001b[0m in \u001b[0;36m_apply\u001b[0;34m(self, fn)\u001b[0m\n\u001b[1;32m    795\u001b[0m     \u001b[0;32mdef\u001b[0m \u001b[0m_apply\u001b[0m\u001b[0;34m(\u001b[0m\u001b[0mself\u001b[0m\u001b[0;34m,\u001b[0m \u001b[0mfn\u001b[0m\u001b[0;34m)\u001b[0m\u001b[0;34m:\u001b[0m\u001b[0;34m\u001b[0m\u001b[0;34m\u001b[0m\u001b[0m\n\u001b[1;32m    796\u001b[0m         \u001b[0;32mfor\u001b[0m \u001b[0mmodule\u001b[0m \u001b[0;32min\u001b[0m \u001b[0mself\u001b[0m\u001b[0;34m.\u001b[0m\u001b[0mchildren\u001b[0m\u001b[0;34m(\u001b[0m\u001b[0;34m)\u001b[0m\u001b[0;34m:\u001b[0m\u001b[0;34m\u001b[0m\u001b[0;34m\u001b[0m\u001b[0m\n\u001b[0;32m--> 797\u001b[0;31m             \u001b[0mmodule\u001b[0m\u001b[0;34m.\u001b[0m\u001b[0m_apply\u001b[0m\u001b[0;34m(\u001b[0m\u001b[0mfn\u001b[0m\u001b[0;34m)\u001b[0m\u001b[0;34m\u001b[0m\u001b[0;34m\u001b[0m\u001b[0m\n\u001b[0m\u001b[1;32m    798\u001b[0m \u001b[0;34m\u001b[0m\u001b[0m\n\u001b[1;32m    799\u001b[0m         \u001b[0;32mdef\u001b[0m \u001b[0mcompute_should_use_set_data\u001b[0m\u001b[0;34m(\u001b[0m\u001b[0mtensor\u001b[0m\u001b[0;34m,\u001b[0m \u001b[0mtensor_applied\u001b[0m\u001b[0;34m)\u001b[0m\u001b[0;34m:\u001b[0m\u001b[0;34m\u001b[0m\u001b[0;34m\u001b[0m\u001b[0m\n",
            "\u001b[0;32m/usr/local/lib/python3.9/dist-packages/torch/nn/modules/module.py\u001b[0m in \u001b[0;36m_apply\u001b[0;34m(self, fn)\u001b[0m\n\u001b[1;32m    795\u001b[0m     \u001b[0;32mdef\u001b[0m \u001b[0m_apply\u001b[0m\u001b[0;34m(\u001b[0m\u001b[0mself\u001b[0m\u001b[0;34m,\u001b[0m \u001b[0mfn\u001b[0m\u001b[0;34m)\u001b[0m\u001b[0;34m:\u001b[0m\u001b[0;34m\u001b[0m\u001b[0;34m\u001b[0m\u001b[0m\n\u001b[1;32m    796\u001b[0m         \u001b[0;32mfor\u001b[0m \u001b[0mmodule\u001b[0m \u001b[0;32min\u001b[0m \u001b[0mself\u001b[0m\u001b[0;34m.\u001b[0m\u001b[0mchildren\u001b[0m\u001b[0;34m(\u001b[0m\u001b[0;34m)\u001b[0m\u001b[0;34m:\u001b[0m\u001b[0;34m\u001b[0m\u001b[0;34m\u001b[0m\u001b[0m\n\u001b[0;32m--> 797\u001b[0;31m             \u001b[0mmodule\u001b[0m\u001b[0;34m.\u001b[0m\u001b[0m_apply\u001b[0m\u001b[0;34m(\u001b[0m\u001b[0mfn\u001b[0m\u001b[0;34m)\u001b[0m\u001b[0;34m\u001b[0m\u001b[0;34m\u001b[0m\u001b[0m\n\u001b[0m\u001b[1;32m    798\u001b[0m \u001b[0;34m\u001b[0m\u001b[0m\n\u001b[1;32m    799\u001b[0m         \u001b[0;32mdef\u001b[0m \u001b[0mcompute_should_use_set_data\u001b[0m\u001b[0;34m(\u001b[0m\u001b[0mtensor\u001b[0m\u001b[0;34m,\u001b[0m \u001b[0mtensor_applied\u001b[0m\u001b[0;34m)\u001b[0m\u001b[0;34m:\u001b[0m\u001b[0;34m\u001b[0m\u001b[0;34m\u001b[0m\u001b[0m\n",
            "\u001b[0;32m/usr/local/lib/python3.9/dist-packages/torch/nn/modules/module.py\u001b[0m in \u001b[0;36m_apply\u001b[0;34m(self, fn)\u001b[0m\n\u001b[1;32m    795\u001b[0m     \u001b[0;32mdef\u001b[0m \u001b[0m_apply\u001b[0m\u001b[0;34m(\u001b[0m\u001b[0mself\u001b[0m\u001b[0;34m,\u001b[0m \u001b[0mfn\u001b[0m\u001b[0;34m)\u001b[0m\u001b[0;34m:\u001b[0m\u001b[0;34m\u001b[0m\u001b[0;34m\u001b[0m\u001b[0m\n\u001b[1;32m    796\u001b[0m         \u001b[0;32mfor\u001b[0m \u001b[0mmodule\u001b[0m \u001b[0;32min\u001b[0m \u001b[0mself\u001b[0m\u001b[0;34m.\u001b[0m\u001b[0mchildren\u001b[0m\u001b[0;34m(\u001b[0m\u001b[0;34m)\u001b[0m\u001b[0;34m:\u001b[0m\u001b[0;34m\u001b[0m\u001b[0;34m\u001b[0m\u001b[0m\n\u001b[0;32m--> 797\u001b[0;31m             \u001b[0mmodule\u001b[0m\u001b[0;34m.\u001b[0m\u001b[0m_apply\u001b[0m\u001b[0;34m(\u001b[0m\u001b[0mfn\u001b[0m\u001b[0;34m)\u001b[0m\u001b[0;34m\u001b[0m\u001b[0;34m\u001b[0m\u001b[0m\n\u001b[0m\u001b[1;32m    798\u001b[0m \u001b[0;34m\u001b[0m\u001b[0m\n\u001b[1;32m    799\u001b[0m         \u001b[0;32mdef\u001b[0m \u001b[0mcompute_should_use_set_data\u001b[0m\u001b[0;34m(\u001b[0m\u001b[0mtensor\u001b[0m\u001b[0;34m,\u001b[0m \u001b[0mtensor_applied\u001b[0m\u001b[0;34m)\u001b[0m\u001b[0;34m:\u001b[0m\u001b[0;34m\u001b[0m\u001b[0;34m\u001b[0m\u001b[0m\n",
            "\u001b[0;32m/usr/local/lib/python3.9/dist-packages/torch/nn/modules/module.py\u001b[0m in \u001b[0;36m_apply\u001b[0;34m(self, fn)\u001b[0m\n\u001b[1;32m    795\u001b[0m     \u001b[0;32mdef\u001b[0m \u001b[0m_apply\u001b[0m\u001b[0;34m(\u001b[0m\u001b[0mself\u001b[0m\u001b[0;34m,\u001b[0m \u001b[0mfn\u001b[0m\u001b[0;34m)\u001b[0m\u001b[0;34m:\u001b[0m\u001b[0;34m\u001b[0m\u001b[0;34m\u001b[0m\u001b[0m\n\u001b[1;32m    796\u001b[0m         \u001b[0;32mfor\u001b[0m \u001b[0mmodule\u001b[0m \u001b[0;32min\u001b[0m \u001b[0mself\u001b[0m\u001b[0;34m.\u001b[0m\u001b[0mchildren\u001b[0m\u001b[0;34m(\u001b[0m\u001b[0;34m)\u001b[0m\u001b[0;34m:\u001b[0m\u001b[0;34m\u001b[0m\u001b[0;34m\u001b[0m\u001b[0m\n\u001b[0;32m--> 797\u001b[0;31m             \u001b[0mmodule\u001b[0m\u001b[0;34m.\u001b[0m\u001b[0m_apply\u001b[0m\u001b[0;34m(\u001b[0m\u001b[0mfn\u001b[0m\u001b[0;34m)\u001b[0m\u001b[0;34m\u001b[0m\u001b[0;34m\u001b[0m\u001b[0m\n\u001b[0m\u001b[1;32m    798\u001b[0m \u001b[0;34m\u001b[0m\u001b[0m\n\u001b[1;32m    799\u001b[0m         \u001b[0;32mdef\u001b[0m \u001b[0mcompute_should_use_set_data\u001b[0m\u001b[0;34m(\u001b[0m\u001b[0mtensor\u001b[0m\u001b[0;34m,\u001b[0m \u001b[0mtensor_applied\u001b[0m\u001b[0;34m)\u001b[0m\u001b[0;34m:\u001b[0m\u001b[0;34m\u001b[0m\u001b[0;34m\u001b[0m\u001b[0m\n",
            "\u001b[0;32m/usr/local/lib/python3.9/dist-packages/torch/nn/modules/module.py\u001b[0m in \u001b[0;36m_apply\u001b[0;34m(self, fn)\u001b[0m\n\u001b[1;32m    795\u001b[0m     \u001b[0;32mdef\u001b[0m \u001b[0m_apply\u001b[0m\u001b[0;34m(\u001b[0m\u001b[0mself\u001b[0m\u001b[0;34m,\u001b[0m \u001b[0mfn\u001b[0m\u001b[0;34m)\u001b[0m\u001b[0;34m:\u001b[0m\u001b[0;34m\u001b[0m\u001b[0;34m\u001b[0m\u001b[0m\n\u001b[1;32m    796\u001b[0m         \u001b[0;32mfor\u001b[0m \u001b[0mmodule\u001b[0m \u001b[0;32min\u001b[0m \u001b[0mself\u001b[0m\u001b[0;34m.\u001b[0m\u001b[0mchildren\u001b[0m\u001b[0;34m(\u001b[0m\u001b[0;34m)\u001b[0m\u001b[0;34m:\u001b[0m\u001b[0;34m\u001b[0m\u001b[0;34m\u001b[0m\u001b[0m\n\u001b[0;32m--> 797\u001b[0;31m             \u001b[0mmodule\u001b[0m\u001b[0;34m.\u001b[0m\u001b[0m_apply\u001b[0m\u001b[0;34m(\u001b[0m\u001b[0mfn\u001b[0m\u001b[0;34m)\u001b[0m\u001b[0;34m\u001b[0m\u001b[0;34m\u001b[0m\u001b[0m\n\u001b[0m\u001b[1;32m    798\u001b[0m \u001b[0;34m\u001b[0m\u001b[0m\n\u001b[1;32m    799\u001b[0m         \u001b[0;32mdef\u001b[0m \u001b[0mcompute_should_use_set_data\u001b[0m\u001b[0;34m(\u001b[0m\u001b[0mtensor\u001b[0m\u001b[0;34m,\u001b[0m \u001b[0mtensor_applied\u001b[0m\u001b[0;34m)\u001b[0m\u001b[0;34m:\u001b[0m\u001b[0;34m\u001b[0m\u001b[0;34m\u001b[0m\u001b[0m\n",
            "\u001b[0;32m/usr/local/lib/python3.9/dist-packages/torch/nn/modules/module.py\u001b[0m in \u001b[0;36m_apply\u001b[0;34m(self, fn)\u001b[0m\n\u001b[1;32m    818\u001b[0m             \u001b[0;31m# `with torch.no_grad():`\u001b[0m\u001b[0;34m\u001b[0m\u001b[0;34m\u001b[0m\u001b[0m\n\u001b[1;32m    819\u001b[0m             \u001b[0;32mwith\u001b[0m \u001b[0mtorch\u001b[0m\u001b[0;34m.\u001b[0m\u001b[0mno_grad\u001b[0m\u001b[0;34m(\u001b[0m\u001b[0;34m)\u001b[0m\u001b[0;34m:\u001b[0m\u001b[0;34m\u001b[0m\u001b[0;34m\u001b[0m\u001b[0m\n\u001b[0;32m--> 820\u001b[0;31m                 \u001b[0mparam_applied\u001b[0m \u001b[0;34m=\u001b[0m \u001b[0mfn\u001b[0m\u001b[0;34m(\u001b[0m\u001b[0mparam\u001b[0m\u001b[0;34m)\u001b[0m\u001b[0;34m\u001b[0m\u001b[0;34m\u001b[0m\u001b[0m\n\u001b[0m\u001b[1;32m    821\u001b[0m             \u001b[0mshould_use_set_data\u001b[0m \u001b[0;34m=\u001b[0m \u001b[0mcompute_should_use_set_data\u001b[0m\u001b[0;34m(\u001b[0m\u001b[0mparam\u001b[0m\u001b[0;34m,\u001b[0m \u001b[0mparam_applied\u001b[0m\u001b[0;34m)\u001b[0m\u001b[0;34m\u001b[0m\u001b[0;34m\u001b[0m\u001b[0m\n\u001b[1;32m    822\u001b[0m             \u001b[0;32mif\u001b[0m \u001b[0mshould_use_set_data\u001b[0m\u001b[0;34m:\u001b[0m\u001b[0;34m\u001b[0m\u001b[0;34m\u001b[0m\u001b[0m\n",
            "\u001b[0;32m/usr/local/lib/python3.9/dist-packages/torch/nn/modules/module.py\u001b[0m in \u001b[0;36mconvert\u001b[0;34m(t)\u001b[0m\n\u001b[1;32m   1141\u001b[0m                 return t.to(device, dtype if t.is_floating_point() or t.is_complex() else None,\n\u001b[1;32m   1142\u001b[0m                             non_blocking, memory_format=convert_to_format)\n\u001b[0;32m-> 1143\u001b[0;31m             \u001b[0;32mreturn\u001b[0m \u001b[0mt\u001b[0m\u001b[0;34m.\u001b[0m\u001b[0mto\u001b[0m\u001b[0;34m(\u001b[0m\u001b[0mdevice\u001b[0m\u001b[0;34m,\u001b[0m \u001b[0mdtype\u001b[0m \u001b[0;32mif\u001b[0m \u001b[0mt\u001b[0m\u001b[0;34m.\u001b[0m\u001b[0mis_floating_point\u001b[0m\u001b[0;34m(\u001b[0m\u001b[0;34m)\u001b[0m \u001b[0;32mor\u001b[0m \u001b[0mt\u001b[0m\u001b[0;34m.\u001b[0m\u001b[0mis_complex\u001b[0m\u001b[0;34m(\u001b[0m\u001b[0;34m)\u001b[0m \u001b[0;32melse\u001b[0m \u001b[0;32mNone\u001b[0m\u001b[0;34m,\u001b[0m \u001b[0mnon_blocking\u001b[0m\u001b[0;34m)\u001b[0m\u001b[0;34m\u001b[0m\u001b[0;34m\u001b[0m\u001b[0m\n\u001b[0m\u001b[1;32m   1144\u001b[0m \u001b[0;34m\u001b[0m\u001b[0m\n\u001b[1;32m   1145\u001b[0m         \u001b[0;32mreturn\u001b[0m \u001b[0mself\u001b[0m\u001b[0;34m.\u001b[0m\u001b[0m_apply\u001b[0m\u001b[0;34m(\u001b[0m\u001b[0mconvert\u001b[0m\u001b[0;34m)\u001b[0m\u001b[0;34m\u001b[0m\u001b[0;34m\u001b[0m\u001b[0m\n",
            "\u001b[0;31mOutOfMemoryError\u001b[0m: CUDA out of memory. Tried to allocate 20.00 MiB (GPU 0; 14.75 GiB total capacity; 3.10 GiB already allocated; 10.81 MiB free; 3.11 GiB reserved in total by PyTorch) If reserved memory is >> allocated memory try setting max_split_size_mb to avoid fragmentation.  See documentation for Memory Management and PYTORCH_CUDA_ALLOC_CONF"
          ]
        }
      ]
    },
    {
      "cell_type": "markdown",
      "source": [
        "# HumanPose and Depth"
      ],
      "metadata": {
        "id": "o8JG05hVThxx"
      }
    },
    {
      "cell_type": "code",
      "source": [
        "import os\n",
        "\n",
        "for i, numpy_name in enumerate(sorted(os.listdir(pedestrian_output_folder))):\n",
        "\n",
        "    if numpy_name.endswith('.npy'):\n",
        "\n",
        "        frame_number = int(re.findall(r'\\d+', numpy_name)[0])\n",
        "        midas_data = np.load(os.path.join(f'/content/midas_outputs/frame_midas{frame_number}.npy'))\n",
        "        all_peaks = np.load(os.path.join('/content/pedestrian_output', f'pedestrian{frame_number}.npy'))\n",
        "        \n",
        "        print(np.array(all_peaks).shape)\n",
        "        all_peaks = all_peaks.transpose([1, 0, 2])\n",
        "        obj_list = []\n",
        "\n",
        "        if not all_peaks.shape[0] < 1:\n",
        "        \n",
        "            for ped_idx in range(all_peaks.shape[0]):\n",
        "                pedestrian_dict = {}\n",
        "                pedestrian_dict['ped_id'] = ped_idx\n",
        "                pedestrian_dict['u'] = int((all_peaks[ped_idx, 10, 0] + all_peaks[ped_idx, 13, 0]) / 2)\n",
        "                pedestrian_dict['v'] = int((all_peaks[ped_idx, 10, 1] + all_peaks[ped_idx, 13, 1]) / 2)\n",
        "                pedestrian_dict['z'] = midas_data[pedestrian_dict['u'], pedestrian_dict['v']]\n",
        "                # for kpt_idx, (x, y, _, _) in enumerate(all_peaks[ped_idx]):\n",
        "                #     pedestrian_dict[kpt_idx] = {}\n",
        "                #     pedestrian_dict[kpt_idx]['u'] = int(x)\n",
        "                #     pedestrian_dict[kpt_idx]['v'] = int(y)\n",
        "                #     pedestrian_dict[kpt_idx]['z'] = midas_data[int(y), int(x)]\n",
        "                obj_list.append(pedestrian_dict)\n",
        "                \n",
        "        json_object = json.dumps(str(obj_list))\n",
        "\n",
        "        with open(os.path.join('/content/ped_depth_output', f'ped_depth{frame_number}.json'), \"w\") as outfile:\n",
        "            outfile.write(json_object)"
      ],
      "metadata": {
        "colab": {
          "base_uri": "https://localhost:8080/",
          "height": 441
        },
        "id": "xwLpblvcTfst",
        "outputId": "a729dcb7-bf37-4504-ab20-1137ff448470"
      },
      "execution_count": null,
      "outputs": [
        {
          "output_type": "stream",
          "name": "stdout",
          "text": [
            "(18, 0, 4)\n",
            "(18, 0, 4)\n",
            "(18, 0, 4)\n",
            "(18, 0, 4)\n",
            "(18, 0, 4)\n",
            "(18, 0, 4)\n",
            "(18, 0, 4)\n",
            "(18, 0, 4)\n",
            "(18, 0, 4)\n",
            "(18, 0, 4)\n",
            "(18, 1, 4)\n"
          ]
        },
        {
          "output_type": "error",
          "ename": "TypeError",
          "evalue": "ignored",
          "traceback": [
            "\u001b[0;31m---------------------------------------------------------------------------\u001b[0m",
            "\u001b[0;31mTypeError\u001b[0m                                 Traceback (most recent call last)",
            "\u001b[0;32m<ipython-input-14-675406ed3499>\u001b[0m in \u001b[0;36m<cell line: 3>\u001b[0;34m()\u001b[0m\n\u001b[1;32m     22\u001b[0m                     \u001b[0mpedestrian_dict\u001b[0m\u001b[0;34m[\u001b[0m\u001b[0mkpt_idx\u001b[0m\u001b[0;34m]\u001b[0m\u001b[0;34m[\u001b[0m\u001b[0;34m'u'\u001b[0m\u001b[0;34m]\u001b[0m \u001b[0;34m=\u001b[0m \u001b[0mint\u001b[0m\u001b[0;34m(\u001b[0m\u001b[0mx\u001b[0m\u001b[0;34m)\u001b[0m\u001b[0;34m\u001b[0m\u001b[0;34m\u001b[0m\u001b[0m\n\u001b[1;32m     23\u001b[0m                     \u001b[0mpedestrian_dict\u001b[0m\u001b[0;34m[\u001b[0m\u001b[0mkpt_idx\u001b[0m\u001b[0;34m]\u001b[0m\u001b[0;34m[\u001b[0m\u001b[0;34m'v'\u001b[0m\u001b[0;34m]\u001b[0m \u001b[0;34m=\u001b[0m \u001b[0mint\u001b[0m\u001b[0;34m(\u001b[0m\u001b[0my\u001b[0m\u001b[0;34m)\u001b[0m\u001b[0;34m\u001b[0m\u001b[0;34m\u001b[0m\u001b[0m\n\u001b[0;32m---> 24\u001b[0;31m                     \u001b[0mpedestrian_dict\u001b[0m\u001b[0;34m[\u001b[0m\u001b[0mkpt_idx\u001b[0m\u001b[0;34m]\u001b[0m\u001b[0;34m[\u001b[0m\u001b[0;34m'z'\u001b[0m\u001b[0;34m]\u001b[0m \u001b[0;34m=\u001b[0m \u001b[0mmidas_data\u001b[0m\u001b[0;34m[\u001b[0m\u001b[0mint\u001b[0m\u001b[0;34m(\u001b[0m\u001b[0my\u001b[0m\u001b[0;34m)\u001b[0m\u001b[0;34m,\u001b[0m \u001b[0mint\u001b[0m\u001b[0;34m(\u001b[0m\u001b[0mX\u001b[0m\u001b[0;34m)\u001b[0m\u001b[0;34m]\u001b[0m\u001b[0;34m\u001b[0m\u001b[0;34m\u001b[0m\u001b[0m\n\u001b[0m\u001b[1;32m     25\u001b[0m                 \u001b[0mobj_list\u001b[0m\u001b[0;34m.\u001b[0m\u001b[0mappend\u001b[0m\u001b[0;34m(\u001b[0m\u001b[0mpedestrian_dict\u001b[0m\u001b[0;34m)\u001b[0m\u001b[0;34m\u001b[0m\u001b[0;34m\u001b[0m\u001b[0m\n\u001b[1;32m     26\u001b[0m \u001b[0;34m\u001b[0m\u001b[0m\n",
            "\u001b[0;31mTypeError\u001b[0m: only size-1 arrays can be converted to Python scalars"
          ]
        }
      ]
    },
    {
      "cell_type": "code",
      "source": [
        "json_data"
      ],
      "metadata": {
        "colab": {
          "base_uri": "https://localhost:8080/",
          "height": 180
        },
        "id": "w8PxLSbBWOTW",
        "outputId": "21593e61-c994-4e41-aa25-94d161f1a5de"
      },
      "execution_count": null,
      "outputs": [
        {
          "output_type": "execute_result",
          "data": {
            "text/plain": [
              "\"[{'ped_id': 0, 0: {'u': 869, 'v': 421}, 1: {'u': 871, 'v': 433}, 2: {'u': 861, 'v': 433}, 3: {'u': 902, 'v': 449}, 4: {'u': 906, 'v': 446}, 5: {'u': 883, 'v': 432}, 6: {'u': 890, 'v': 448}, 7: {'u': 912, 'v': 449}, 8: {'u': 911, 'v': 465}, 9: {'u': 911, 'v': 489}, 10: {'u': 909, 'v': 509}, 11: {'u': 881, 'v': 465}, 12: {'u': 882, 'v': 489}, 13: {'u': 920, 'v': 511}, 14: {'u': 867, 'v': 418}, 15: {'u': 870, 'v': 418}, 16: {'u': 865, 'v': 422}, 17: {'u': 876, 'v': 419}}, {'ped_id': 0, 0: {'u': 869, 'v': 421}, 1: {'u': 871, 'v': 433}, 2: {'u': 861, 'v': 433}, 3: {'u': 902, 'v': 449}, 4: {'u': 906, 'v': 446}, 5: {'u': 883, 'v': 432}, 6: {'u': 890, 'v': 448}, 7: {'u': 912, 'v': 449}, 8: {'u': 911, 'v': 465}, 9: {'u': 911, 'v': 489}, 10: {'u': 909, 'v': 509}, 11: {'u': 881, 'v': 465}, 12: {'u': 882, 'v': 489}, 13: {'u': 920, 'v': 511}, 14: {'u': 867, 'v': 418}, 15: {'u': 870, 'v': 418}, 16: {'u': 865, 'v': 422}, 17: {'u': 876, 'v': 419}}, {'ped_id': 0, 0: {'u': 869, 'v': 421}, 1: {'u': 871, 'v': 433}, 2: {'u': 861, 'v': 433}, 3: {'u': 902, 'v': 449}, 4: {'u': 906, 'v': 446}, 5: {'u': 883, 'v': 432}, 6: {'u': 890, 'v': 448}, 7: {'u': 912, 'v': 449}, 8: {'u': 911, 'v': 465}, 9: {'u': 911, 'v': 489}, 10: {'u': 909, 'v': 509}, 11: {'u': 881, 'v': 465}, 12: {'u': 882, 'v': 489}, 13: {'u': 920, 'v': 511}, 14: {'u': 867, 'v': 418}, 15: {'u': 870, 'v': 418}, 16: {'u': 865, 'v': 422}, 17: {'u': 876, 'v': 419}}, {'ped_id': 0, 0: {'u': 869, 'v': 421}, 1: {'u': 871, 'v': 433}, 2: {'u': 861, 'v': 433}, 3: {'u': 902, 'v': 449}, 4: {'u': 906, 'v': 446}, 5: {'u': 883, 'v': 432}, 6: {'u': 890, 'v': 448}, 7: {'u': 912, 'v': 449}, 8: {'u': 911, 'v': 465}, 9: {'u': 911, 'v': 489}, 10: {'u': 909, 'v': 509}, 11: {'u': 881, 'v': 465}, 12: {'u': 882, 'v': 489}, 13: {'u': 920, 'v': 511}, 14: {'u': 867, 'v': 418}, 15: {'u': 870, 'v': 418}, 16: {'u': 865, 'v': 422}, 17: {'u': 876, 'v': 419}}, {'ped_id': 0, 0: {'u': 869, 'v': 421}, 1: {'u': 871, 'v': 433}, 2: {'u': 861, 'v': 433}, 3: {'u': 902, 'v': 449}, 4: {'u': 906, 'v': 446}, 5: {'u': 883, 'v': 432}, 6: {'u': 890, 'v': 448}, 7: {'u': 912, 'v': 449}, 8: {'u': 911, 'v': 465}, 9: {'u': 911, 'v': 489}, 10: {'u': 909, 'v': 509}, 11: {'u': 881, 'v': 465}, 12: {'u': 882, 'v': 489}, 13: {'u': 920, 'v': 511}, 14: {'u': 867, 'v': 418}, 15: {'u': 870, 'v': 418}, 16: {'u': 865, 'v': 422}, 17: {'u': 876, 'v': 419}}, {'ped_id': 0, 0: {'u': 869, 'v': 421}, 1: {'u': 871, 'v': 433}, 2: {'u': 861, 'v': 433}, 3: {'u': 902, 'v': 449}, 4: {'u': 906, 'v': 446}, 5: {'u': 883, 'v': 432}, 6: {'u': 890, 'v': 448}, 7: {'u': 912, 'v': 449}, 8: {'u': 911, 'v': 465}, 9: {'u': 911, 'v': 489}, 10: {'u': 909, 'v': 509}, 11: {'u': 881, 'v': 465}, 12: {'u': 882, 'v': 489}, 13: {'u': 920, 'v': 511}, 14: {'u': 867, 'v': 418}, 15: {'u': 870, 'v': 418}, 16: {'u': 865, 'v': 422}, 17: {'u': 876, 'v': 419}}, {'ped_id': 0, 0: {'u': 869, 'v': 421}, 1: {'u': 871, 'v': 433}, 2: {'u': 861, 'v': 433}, 3: {'u': 902, 'v': 449}, 4: {'u': 906, 'v': 446}, 5: {'u': 883, 'v': 432}, 6: {'u': 890, 'v': 448}, 7: {'u': 912, 'v': 449}, 8: {'u': 911, 'v': 465}, 9: {'u': 911, 'v': 489}, 10: {'u': 909, 'v': 509}, 11: {'u': 881, 'v': 465}, 12: {'u': 882, 'v': 489}, 13: {'u': 920, 'v': 511}, 14: {'u': 867, 'v': 418}, 15: {'u': 870, 'v': 418}, 16: {'u': 865, 'v': 422}, 17: {'u': 876, 'v': 419}}, {'ped_id': 0, 0: {'u': 869, 'v': 421}, 1: {'u': 871, 'v': 433}, 2: {'u': 861, 'v': 433}, 3: {'u': 902, 'v': 449}, 4: {'u': 906, 'v': 446}, 5: {'u': 883, 'v': 432}, 6: {'u': 890, 'v': 448}, 7: {'u': 912, 'v': 449}, 8: {'u': 911, 'v': 465}, 9: {'u': 911, 'v': 489}, 10: {'u': 909, 'v': 509}, 11: {'u': 881, 'v': 465}, 12: {'u': 882, 'v': 489}, 13: {'u': 920, 'v': 511}, 14: {'u': 867, 'v': 418}, 15: {'u': 870, 'v': 418}, 16: {'u': 865, 'v': 422}, 17: {'u': 876, 'v': 419}}, {'ped_id': 0, 0: {'u': 869, 'v': 421}, 1: {'u': 871, 'v': 433}, 2: {'u': 861, 'v': 433}, 3: {'u': 902, 'v': 449}, 4: {'u': 906, 'v': 446}, 5: {'u': 883, 'v': 432}, 6: {'u': 890, 'v': 448}, 7: {'u': 912, 'v': 449}, 8: {'u': 911, 'v': 465}, 9: {'u': 911, 'v': 489}, 10: {'u': 909, 'v': 509}, 11: {'u': 881, 'v': 465}, 12: {'u': 882, 'v': 489}, 13: {'u': 920, 'v': 511}, 14: {'u': 867, 'v': 418}, 15: {'u': 870, 'v': 418}, 16: {'u': 865, 'v': 422}, 17: {'u': 876, 'v': 419}}, {'ped_id': 0, 0: {'u': 869, 'v': 421}, 1: {'u': 871, 'v': 433}, 2: {'u': 861, 'v': 433}, 3: {'u': 902, 'v': 449}, 4: {'u': 906, 'v': 446}, 5: {'u': 883, 'v': 432}, 6: {'u': 890, 'v': 448}, 7: {'u': 912, 'v': 449}, 8: {'u': 911, 'v': 465}, 9: {'u': 911, 'v': 489}, 10: {'u': 909, 'v': 509}, 11: {'u': 881, 'v': 465}, 12: {'u': 882, 'v': 489}, 13: {'u': 920, 'v': 511}, 14: {'u': 867, 'v': 418}, 15: {'u': 870, 'v': 418}, 16: {'u': 865, 'v': 422}, 17: {'u': 876, 'v': 419}}, {'ped_id': 0, 0: {'u': 869, 'v': 421}, 1: {'u': 871, 'v': 433}, 2: {'u': 861, 'v': 433}, 3: {'u': 902, 'v': 449}, 4: {'u': 906, 'v': 446}, 5: {'u': 883, 'v': 432}, 6: {'u': 890, 'v': 448}, 7: {'u': 912, 'v': 449}, 8: {'u': 911, 'v': 465}, 9: {'u': 911, 'v': 489}, 10: {'u': 909, 'v': 509}, 11: {'u': 881, 'v': 465}, 12: {'u': 882, 'v': 489}, 13: {'u': 920, 'v': 511}, 14: {'u': 867, 'v': 418}, 15: {'u': 870, 'v': 418}, 16: {'u': 865, 'v': 422}, 17: {'u': 876, 'v': 419}}, {'ped_id': 0, 0: {'u': 869, 'v': 421}, 1: {'u': 871, 'v': 433}, 2: {'u': 861, 'v': 433}, 3: {'u': 902, 'v': 449}, 4: {'u': 906, 'v': 446}, 5: {'u': 883, 'v': 432}, 6: {'u': 890, 'v': 448}, 7: {'u': 912, 'v': 449}, 8: {'u': 911, 'v': 465}, 9: {'u': 911, 'v': 489}, 10: {'u': 909, 'v': 509}, 11: {'u': 881, 'v': 465}, 12: {'u': 882, 'v': 489}, 13: {'u': 920, 'v': 511}, 14: {'u': 867, 'v': 418}, 15: {'u': 870, 'v': 418}, 16: {'u': 865, 'v': 422}, 17: {'u': 876, 'v': 419}}, {'ped_id': 0, 0: {'u': 869, 'v': 421}, 1: {'u': 871, 'v': 433}, 2: {'u': 861, 'v': 433}, 3: {'u': 902, 'v': 449}, 4: {'u': 906, 'v': 446}, 5: {'u': 883, 'v': 432}, 6: {'u': 890, 'v': 448}, 7: {'u': 912, 'v': 449}, 8: {'u': 911, 'v': 465}, 9: {'u': 911, 'v': 489}, 10: {'u': 909, 'v': 509}, 11: {'u': 881, 'v': 465}, 12: {'u': 882, 'v': 489}, 13: {'u': 920, 'v': 511}, 14: {'u': 867, 'v': 418}, 15: {'u': 870, 'v': 418}, 16: {'u': 865, 'v': 422}, 17: {'u': 876, 'v': 419}}, {'ped_id': 0, 0: {'u': 869, 'v': 421}, 1: {'u': 871, 'v': 433}, 2: {'u': 861, 'v': 433}, 3: {'u': 902, 'v': 449}, 4: {'u': 906, 'v': 446}, 5: {'u': 883, 'v': 432}, 6: {'u': 890, 'v': 448}, 7: {'u': 912, 'v': 449}, 8: {'u': 911, 'v': 465}, 9: {'u': 911, 'v': 489}, 10: {'u': 909, 'v': 509}, 11: {'u': 881, 'v': 465}, 12: {'u': 882, 'v': 489}, 13: {'u': 920, 'v': 511}, 14: {'u': 867, 'v': 418}, 15: {'u': 870, 'v': 418}, 16: {'u': 865, 'v': 422}, 17: {'u': 876, 'v': 419}}, {'ped_id': 0, 0: {'u': 869, 'v': 421}, 1: {'u': 871, 'v': 433}, 2: {'u': 861, 'v': 433}, 3: {'u': 902, 'v': 449}, 4: {'u': 906, 'v': 446}, 5: {'u': 883, 'v': 432}, 6: {'u': 890, 'v': 448}, 7: {'u': 912, 'v': 449}, 8: {'u': 911, 'v': 465}, 9: {'u': 911, 'v': 489}, 10: {'u': 909, 'v': 509}, 11: {'u': 881, 'v': 465}, 12: {'u': 882, 'v': 489}, 13: {'u': 920, 'v': 511}, 14: {'u': 867, 'v': 418}, 15: {'u': 870, 'v': 418}, 16: {'u': 865, 'v': 422}, 17: {'u': 876, 'v': 419}}, {'ped_id': 0, 0: {'u': 869, 'v': 421}, 1: {'u': 871, 'v': 433}, 2: {'u': 861, 'v': 433}, 3: {'u': 902, 'v': 449}, 4: {'u': 906, 'v': 446}, 5: {'u': 883, 'v': 432}, 6: {'u': 890, 'v': 448}, 7: {'u': 912, 'v': 449}, 8: {'u': 911, 'v': 465}, 9: {'u': 911, 'v': 489}, 10: {'u': 909, 'v': 509}, 11: {'u': 881, 'v': 465}, 12: {'u': 882, 'v': 489}, 13: {'u': 920, 'v': 511}, 14: {'u': 867, 'v': 418}, 15: {'u': 870, 'v': 418}, 16: {'u': 865, 'v': 422}, 17: {'u': 876, 'v': 419}}, {'ped_id': 0, 0: {'u': 869, 'v': 421}, 1: {'u': 871, 'v': 433}, 2: {'u': 861, 'v': 433}, 3: {'u': 902, 'v': 449}, 4: {'u': 906, 'v': 446}, 5: {'u': 883, 'v': 432}, 6: {'u': 890, 'v': 448}, 7: {'u': 912, 'v': 449}, 8: {'u': 911, 'v': 465}, 9: {'u': 911, 'v': 489}, 10: {'u': 909, 'v': 509}, 11: {'u': 881, 'v': 465}, 12: {'u': 882, 'v': 489}, 13: {'u': 920, 'v': 511}, 14: {'u': 867, 'v': 418}, 15: {'u': 870, 'v': 418}, 16: {'u': 865, 'v': 422}, 17: {'u': 876, 'v': 419}}, {'ped_id': 0, 0: {'u': 869, 'v': 421}, 1: {'u': 871, 'v': 433}, 2: {'u': 861, 'v': 433}, 3: {'u': 902, 'v': 449}, 4: {'u': 906, 'v': 446}, 5: {'u': 883, 'v': 432}, 6: {'u': 890, 'v': 448}, 7: {'u': 912, 'v': 449}, 8: {'u': 911, 'v': 465}, 9: {'u': 911, 'v': 489}, 10: {'u': 909, 'v': 509}, 11: {'u': 881, 'v': 465}, 12: {'u': 882, 'v': 489}, 13: {'u': 920, 'v': 511}, 14: {'u': 867, 'v': 418}, 15: {'u': 870, 'v': 418}, 16: {'u': 865, 'v': 422}, 17: {'u': 876, 'v': 419}}, {'ped_id': 1, 0: {'u': 914, 'v': 425}, 1: {'u': 920, 'v': 436}, 2: {'u': 909, 'v': 435}, 3: {'u': 856, 'v': 450}, 4: {'u': 860, 'v': 460}, 5: {'u': 926, 'v': 436}, 6: {'u': 929, 'v': 449}, 7: {'u': 888, 'v': 457}, 8: {'u': 867, 'v': 466}, 9: {'u': 868, 'v': 490}, 10: {'u': 870, 'v': 512}, 11: {'u': 923, 'v': 465}, 12: {'u': 922, 'v': 489}, 13: {'u': 880, 'v': 512}, 14: {'u': 913, 'v': 423}, 15: {'u': 916, 'v': 423}, 16: {'u': 911, 'v': 423}, 17: {'u': 922, 'v': 424}}, {'ped_id': 1, 0: {'u': 914, 'v': 425}, 1: {'u': 920, 'v': 436}, 2: {'u': 909, 'v': 435}, 3: {'u': 856, 'v': 450}, 4: {'u': 860, 'v': 460}, 5: {'u': 926, 'v': 436}, 6: {'u': 929, 'v': 449}, 7: {'u': 888, 'v': 457}, 8: {'u': 867, 'v': 466}, 9: {'u': 868, 'v': 490}, 10: {'u': 870, 'v': 512}, 11: {'u': 923, 'v': 465}, 12: {'u': 922, 'v': 489}, 13: {'u': 880, 'v': 512}, 14: {'u': 913, 'v': 423}, 15: {'u': 916, 'v': 423}, 16: {'u': 911, 'v': 423}, 17: {'u': 922, 'v': 424}}, {'ped_id': 1, 0: {'u': 914, 'v': 425}, 1: {'u': 920, 'v': 436}, 2: {'u': 909, 'v': 435}, 3: {'u': 856, 'v': 450}, 4: {'u': 860, 'v': 460}, 5: {'u': 926, 'v': 436}, 6: {'u': 929, 'v': 449}, 7: {'u': 888, 'v': 457}, 8: {'u': 867, 'v': 466}, 9: {'u': 868, 'v': 490}, 10: {'u': 870, 'v': 512}, 11: {'u': 923, 'v': 465}, 12: {'u': 922, 'v': 489}, 13: {'u': 880, 'v': 512}, 14: {'u': 913, 'v': 423}, 15: {'u': 916, 'v': 423}, 16: {'u': 911, 'v': 423}, 17: {'u': 922, 'v': 424}}, {'ped_id': 1, 0: {'u': 914, 'v': 425}, 1: {'u': 920, 'v': 436}, 2: {'u': 909, 'v': 435}, 3: {'u': 856, 'v': 450}, 4: {'u': 860, 'v': 460}, 5: {'u': 926, 'v': 436}, 6: {'u': 929, 'v': 449}, 7: {'u': 888, 'v': 457}, 8: {'u': 867, 'v': 466}, 9: {'u': 868, 'v': 490}, 10: {'u': 870, 'v': 512}, 11: {'u': 923, 'v': 465}, 12: {'u': 922, 'v': 489}, 13: {'u': 880, 'v': 512}, 14: {'u': 913, 'v': 423}, 15: {'u': 916, 'v': 423}, 16: {'u': 911, 'v': 423}, 17: {'u': 922, 'v': 424}}, {'ped_id': 1, 0: {'u': 914, 'v': 425}, 1: {'u': 920, 'v': 436}, 2: {'u': 909, 'v': 435}, 3: {'u': 856, 'v': 450}, 4: {'u': 860, 'v': 460}, 5: {'u': 926, 'v': 436}, 6: {'u': 929, 'v': 449}, 7: {'u': 888, 'v': 457}, 8: {'u': 867, 'v': 466}, 9: {'u': 868, 'v': 490}, 10: {'u': 870, 'v': 512}, 11: {'u': 923, 'v': 465}, 12: {'u': 922, 'v': 489}, 13: {'u': 880, 'v': 512}, 14: {'u': 913, 'v': 423}, 15: {'u': 916, 'v': 423}, 16: {'u': 911, 'v': 423}, 17: {'u': 922, 'v': 424}}, {'ped_id': 1, 0: {'u': 914, 'v': 425}, 1: {'u': 920, 'v': 436}, 2: {'u': 909, 'v': 435}, 3: {'u': 856, 'v': 450}, 4: {'u': 860, 'v': 460}, 5: {'u': 926, 'v': 436}, 6: {'u': 929, 'v': 449}, 7: {'u': 888, 'v': 457}, 8: {'u': 867, 'v': 466}, 9: {'u': 868, 'v': 490}, 10: {'u': 870, 'v': 512}, 11: {'u': 923, 'v': 465}, 12: {'u': 922, 'v': 489}, 13: {'u': 880, 'v': 512}, 14: {'u': 913, 'v': 423}, 15: {'u': 916, 'v': 423}, 16: {'u': 911, 'v': 423}, 17: {'u': 922, 'v': 424}}, {'ped_id': 1, 0: {'u': 914, 'v': 425}, 1: {'u': 920, 'v': 436}, 2: {'u': 909, 'v': 435}, 3: {'u': 856, 'v': 450}, 4: {'u': 860, 'v': 460}, 5: {'u': 926, 'v': 436}, 6: {'u': 929, 'v': 449}, 7: {'u': 888, 'v': 457}, 8: {'u': 867, 'v': 466}, 9: {'u': 868, 'v': 490}, 10: {'u': 870, 'v': 512}, 11: {'u': 923, 'v': 465}, 12: {'u': 922, 'v': 489}, 13: {'u': 880, 'v': 512}, 14: {'u': 913, 'v': 423}, 15: {'u': 916, 'v': 423}, 16: {'u': 911, 'v': 423}, 17: {'u': 922, 'v': 424}}, {'ped_id': 1, 0: {'u': 914, 'v': 425}, 1: {'u': 920, 'v': 436}, 2: {'u': 909, 'v': 435}, 3: {'u': 856, 'v': 450}, 4: {'u': 860, 'v': 460}, 5: {'u': 926, 'v': 436}, 6: {'u': 929, 'v': 449}, 7: {'u': 888, 'v': 457}, 8: {'u': 867, 'v': 466}, 9: {'u': 868, 'v': 490}, 10: {'u': 870, 'v': 512}, 11: {'u': 923, 'v': 465}, 12: {'u': 922, 'v': 489}, 13: {'u': 880, 'v': 512}, 14: {'u': 913, 'v': 423}, 15: {'u': 916, 'v': 423}, 16: {'u': 911, 'v': 423}, 17: {'u': 922, 'v': 424}}, {'ped_id': 1, 0: {'u': 914, 'v': 425}, 1: {'u': 920, 'v': 436}, 2: {'u': 909, 'v': 435}, 3: {'u': 856, 'v': 450}, 4: {'u': 860, 'v': 460}, 5: {'u': 926, 'v': 436}, 6: {'u': 929, 'v': 449}, 7: {'u': 888, 'v': 457}, 8: {'u': 867, 'v': 466}, 9: {'u': 868, 'v': 490}, 10: {'u': 870, 'v': 512}, 11: {'u': 923, 'v': 465}, 12: {'u': 922, 'v': 489}, 13: {'u': 880, 'v': 512}, 14: {'u': 913, 'v': 423}, 15: {'u': 916, 'v': 423}, 16: {'u': 911, 'v': 423}, 17: {'u': 922, 'v': 424}}, {'ped_id': 1, 0: {'u': 914, 'v': 425}, 1: {'u': 920, 'v': 436}, 2: {'u': 909, 'v': 435}, 3: {'u': 856, 'v': 450}, 4: {'u': 860, 'v': 460}, 5: {'u': 926, 'v': 436}, 6: {'u': 929, 'v': 449}, 7: {'u': 888, 'v': 457}, 8: {'u': 867, 'v': 466}, 9: {'u': 868, 'v': 490}, 10: {'u': 870, 'v': 512}, 11: {'u': 923, 'v': 465}, 12: {'u': 922, 'v': 489}, 13: {'u': 880, 'v': 512}, 14: {'u': 913, 'v': 423}, 15: {'u': 916, 'v': 423}, 16: {'u': 911, 'v': 423}, 17: {'u': 922, 'v': 424}}, {'ped_id': 1, 0: {'u': 914, 'v': 425}, 1: {'u': 920, 'v': 436}, 2: {'u': 909, 'v': 435}, 3: {'u': 856, 'v': 450}, 4: {'u': 860, 'v': 460}, 5: {'u': 926, 'v': 436}, 6: {'u': 929, 'v': 449}, 7: {'u': 888, 'v': 457}, 8: {'u': 867, 'v': 466}, 9: {'u': 868, 'v': 490}, 10: {'u': 870, 'v': 512}, 11: {'u': 923, 'v': 465}, 12: {'u': 922, 'v': 489}, 13: {'u': 880, 'v': 512}, 14: {'u': 913, 'v': 423}, 15: {'u': 916, 'v': 423}, 16: {'u': 911, 'v': 423}, 17: {'u': 922, 'v': 424}}, {'ped_id': 1, 0: {'u': 914, 'v': 425}, 1: {'u': 920, 'v': 436}, 2: {'u': 909, 'v': 435}, 3: {'u': 856, 'v': 450}, 4: {'u': 860, 'v': 460}, 5: {'u': 926, 'v': 436}, 6: {'u': 929, 'v': 449}, 7: {'u': 888, 'v': 457}, 8: {'u': 867, 'v': 466}, 9: {'u': 868, 'v': 490}, 10: {'u': 870, 'v': 512}, 11: {'u': 923, 'v': 465}, 12: {'u': 922, 'v': 489}, 13: {'u': 880, 'v': 512}, 14: {'u': 913, 'v': 423}, 15: {'u': 916, 'v': 423}, 16: {'u': 911, 'v': 423}, 17: {'u': 922, 'v': 424}}, {'ped_id': 1, 0: {'u': 914, 'v': 425}, 1: {'u': 920, 'v': 436}, 2: {'u': 909, 'v': 435}, 3: {'u': 856, 'v': 450}, 4: {'u': 860, 'v': 460}, 5: {'u': 926, 'v': 436}, 6: {'u': 929, 'v': 449}, 7: {'u': 888, 'v': 457}, 8: {'u': 867, 'v': 466}, 9: {'u': 868, 'v': 490}, 10: {'u': 870, 'v': 512}, 11: {'u': 923, 'v': 465}, 12: {'u': 922, 'v': 489}, 13: {'u': 880, 'v': 512}, 14: {'u': 913, 'v': 423}, 15: {'u': 916, 'v': 423}, 16: {'u': 911, 'v': 423}, 17: {'u': 922, 'v': 424}}, {'ped_id': 1, 0: {'u': 914, 'v': 425}, 1: {'u': 920, 'v': 436}, 2: {'u': 909, 'v': 435}, 3: {'u': 856, 'v': 450}, 4: {'u': 860, 'v': 460}, 5: {'u': 926, 'v': 436}, 6: {'u': 929, 'v': 449}, 7: {'u': 888, 'v': 457}, 8: {'u': 867, 'v': 466}, 9: {'u': 868, 'v': 490}, 10: {'u': 870, 'v': 512}, 11: {'u': 923, 'v': 465}, 12: {'u': 922, 'v': 489}, 13: {'u': 880, 'v': 512}, 14: {'u': 913, 'v': 423}, 15: {'u': 916, 'v': 423}, 16: {'u': 911, 'v': 423}, 17: {'u': 922, 'v': 424}}, {'ped_id': 1, 0: {'u': 914, 'v': 425}, 1: {'u': 920, 'v': 436}, 2: {'u': 909, 'v': 435}, 3: {'u': 856, 'v': 450}, 4: {'u': 860, 'v': 460}, 5: {'u': 926, 'v': 436}, 6: {'u': 929, 'v': 449}, 7: {'u': 888, 'v': 457}, 8: {'u': 867, 'v': 466}, 9: {'u': 868, 'v': 490}, 10: {'u': 870, 'v': 512}, 11: {'u': 923, 'v': 465}, 12: {'u': 922, 'v': 489}, 13: {'u': 880, 'v': 512}, 14: {'u': 913, 'v': 423}, 15: {'u': 916, 'v': 423}, 16: {'u': 911, 'v': 423}, 17: {'u': 922, 'v': 424}}, {'ped_id': 1, 0: {'u': 914, 'v': 425}, 1: {'u': 920, 'v': 436}, 2: {'u': 909, 'v': 435}, 3: {'u': 856, 'v': 450}, 4: {'u': 860, 'v': 460}, 5: {'u': 926, 'v': 436}, 6: {'u': 929, 'v': 449}, 7: {'u': 888, 'v': 457}, 8: {'u': 867, 'v': 466}, 9: {'u': 868, 'v': 490}, 10: {'u': 870, 'v': 512}, 11: {'u': 923, 'v': 465}, 12: {'u': 922, 'v': 489}, 13: {'u': 880, 'v': 512}, 14: {'u': 913, 'v': 423}, 15: {'u': 916, 'v': 423}, 16: {'u': 911, 'v': 423}, 17: {'u': 922, 'v': 424}}, {'ped_id': 1, 0: {'u': 914, 'v': 425}, 1: {'u': 920, 'v': 436}, 2: {'u': 909, 'v': 435}, 3: {'u': 856, 'v': 450}, 4: {'u': 860, 'v': 460}, 5: {'u': 926, 'v': 436}, 6: {'u': 929, 'v': 449}, 7: {'u': 888, 'v': 457}, 8: {'u': 867, 'v': 466}, 9: {'u': 868, 'v': 490}, 10: {'u': 870, 'v': 512}, 11: {'u': 923, 'v': 465}, 12: {'u': 922, 'v': 489}, 13: {'u': 880, 'v': 512}, 14: {'u': 913, 'v': 423}, 15: {'u': 916, 'v': 423}, 16: {'u': 911, 'v': 423}, 17: {'u': 922, 'v': 424}}, {'ped_id': 1, 0: {'u': 914, 'v': 425}, 1: {'u': 920, 'v': 436}, 2: {'u': 909, 'v': 435}, 3: {'u': 856, 'v': 450}, 4: {'u': 860, 'v': 460}, 5: {'u': 926, 'v': 436}, 6: {'u': 929, 'v': 449}, 7: {'u': 888, 'v': 457}, 8: {'u': 867, 'v': 466}, 9: {'u': 868, 'v': 490}, 10: {'u': 870, 'v': 512}, 11: {'u': 923, 'v': 465}, 12: {'u': 922, 'v': 489}, 13: {'u': 880, 'v': 512}, 14: {'u': 913, 'v': 423}, 15: {'u': 916, 'v': 423}, 16: {'u': 911, 'v': 423}, 17: {'u': 922, 'v': 424}}]\""
            ],
            "application/vnd.google.colaboratory.intrinsic+json": {
              "type": "string"
            }
          },
          "metadata": {},
          "execution_count": 34
        }
      ]
    },
    {
      "cell_type": "code",
      "source": [],
      "metadata": {
        "id": "KHZCadeXW_W7"
      },
      "execution_count": null,
      "outputs": []
    }
  ]
}