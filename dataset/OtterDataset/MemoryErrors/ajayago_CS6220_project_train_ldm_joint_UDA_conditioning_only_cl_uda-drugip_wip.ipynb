{
 "cells": [
  {
   "cell_type": "markdown",
   "id": "5aac6da6-96fa-412f-adcd-57afbbffa82a",
   "metadata": {},
   "source": [
    "This notebook trains both cell line and patient DDPMs with domain alignment introduced between the latent spaces.\n",
    "\n",
    "Here, there is an additional loss introduced by using the cell line representation as a conditioning parameter (context) during the patient decoding process.\n",
    "\n",
    "Add drug in input to DDPM - allows more inputs due to combinations between sample, drug. No need to have labels in this stage."
   ]
  },
  {
   "cell_type": "code",
   "execution_count": 1,
   "id": "b4b56b10-7afd-4a47-8e05-1b466a7f6b53",
   "metadata": {},
   "outputs": [],
   "source": [
    "import pandas as pd\n",
    "import numpy as np"
   ]
  },
  {
   "cell_type": "code",
   "execution_count": 2,
   "id": "748e1934-53d2-406e-b663-34d2771aa092",
   "metadata": {},
   "outputs": [],
   "source": [
    "import math"
   ]
  },
  {
   "cell_type": "code",
   "execution_count": 3,
   "id": "dc533d20-5d36-4f49-8c66-9658a8d67176",
   "metadata": {},
   "outputs": [],
   "source": [
    "import torch\n",
    "import matplotlib.pyplot as plt\n",
    "from torch.utils.data import TensorDataset, DataLoader, Dataset"
   ]
  },
  {
   "cell_type": "code",
   "execution_count": 4,
   "id": "86ec922b-194d-4559-b3ba-e54da8ee57fa",
   "metadata": {},
   "outputs": [],
   "source": [
    "import sys\n",
    "sys.path.append(\"../src/tab_ddpm/\")"
   ]
  },
  {
   "cell_type": "code",
   "execution_count": 5,
   "id": "59a4ad62-8716-4621-adcd-08095a5aea40",
   "metadata": {},
   "outputs": [],
   "source": [
    "from gaussian_multinomial_diffusion import GaussianMultinomialDiffusion\n",
    "from modules import MLPDiffusion"
   ]
  },
  {
   "cell_type": "code",
   "execution_count": 6,
   "id": "8caa9a28-c046-41df-8bc9-b697fda94466",
   "metadata": {},
   "outputs": [],
   "source": [
    "sys.path.append(\"../src/\")\n",
    "from vae_model import vae\n",
    "from loss_functions import get_kld_loss, coral, compute_covariance, ZINORMLoss\n",
    "from ffnzinb_model import ffnzinb\n",
    "from cross_attention import CrossAttention"
   ]
  },
  {
   "cell_type": "code",
   "execution_count": 7,
   "id": "8e7dc5c1-5cc8-4638-b22b-c183cc2fc385",
   "metadata": {},
   "outputs": [],
   "source": [
    "from itertools import product"
   ]
  },
  {
   "cell_type": "code",
   "execution_count": 8,
   "id": "51c9a0e2-1d11-4538-810c-d5194a562475",
   "metadata": {},
   "outputs": [],
   "source": [
    "device = torch.device(\"cuda:0\")"
   ]
  },
  {
   "cell_type": "markdown",
   "id": "51304ccf-5d78-4cef-b0d1-e9fa1d6d8725",
   "metadata": {},
   "source": [
    "### Load Datasets\n",
    "\n",
    "#### Drug Fingerprints"
   ]
  },
  {
   "cell_type": "code",
   "execution_count": 9,
   "id": "7526b16a-8352-4075-8ac6-8de2c8271e92",
   "metadata": {},
   "outputs": [
    {
     "data": {
      "text/html": [
       "<div>\n",
       "<style scoped>\n",
       "    .dataframe tbody tr th:only-of-type {\n",
       "        vertical-align: middle;\n",
       "    }\n",
       "\n",
       "    .dataframe tbody tr th {\n",
       "        vertical-align: top;\n",
       "    }\n",
       "\n",
       "    .dataframe thead th {\n",
       "        text-align: right;\n",
       "    }\n",
       "</style>\n",
       "<table border=\"1\" class=\"dataframe\">\n",
       "  <thead>\n",
       "    <tr style=\"text-align: right;\">\n",
       "      <th></th>\n",
       "      <th>0</th>\n",
       "      <th>1</th>\n",
       "      <th>2</th>\n",
       "      <th>3</th>\n",
       "      <th>4</th>\n",
       "      <th>5</th>\n",
       "      <th>6</th>\n",
       "      <th>7</th>\n",
       "      <th>8</th>\n",
       "      <th>9</th>\n",
       "      <th>...</th>\n",
       "      <th>2038</th>\n",
       "      <th>2039</th>\n",
       "      <th>2040</th>\n",
       "      <th>2041</th>\n",
       "      <th>2042</th>\n",
       "      <th>2043</th>\n",
       "      <th>2044</th>\n",
       "      <th>2045</th>\n",
       "      <th>2046</th>\n",
       "      <th>2047</th>\n",
       "    </tr>\n",
       "    <tr>\n",
       "      <th>drug_name</th>\n",
       "      <th></th>\n",
       "      <th></th>\n",
       "      <th></th>\n",
       "      <th></th>\n",
       "      <th></th>\n",
       "      <th></th>\n",
       "      <th></th>\n",
       "      <th></th>\n",
       "      <th></th>\n",
       "      <th></th>\n",
       "      <th></th>\n",
       "      <th></th>\n",
       "      <th></th>\n",
       "      <th></th>\n",
       "      <th></th>\n",
       "      <th></th>\n",
       "      <th></th>\n",
       "      <th></th>\n",
       "      <th></th>\n",
       "      <th></th>\n",
       "      <th></th>\n",
       "    </tr>\n",
       "  </thead>\n",
       "  <tbody>\n",
       "    <tr>\n",
       "      <th>JW-7-24-1</th>\n",
       "      <td>0</td>\n",
       "      <td>1</td>\n",
       "      <td>0</td>\n",
       "      <td>0</td>\n",
       "      <td>0</td>\n",
       "      <td>0</td>\n",
       "      <td>0</td>\n",
       "      <td>0</td>\n",
       "      <td>0</td>\n",
       "      <td>0</td>\n",
       "      <td>...</td>\n",
       "      <td>0</td>\n",
       "      <td>0</td>\n",
       "      <td>0</td>\n",
       "      <td>0</td>\n",
       "      <td>0</td>\n",
       "      <td>0</td>\n",
       "      <td>0</td>\n",
       "      <td>0</td>\n",
       "      <td>0</td>\n",
       "      <td>0</td>\n",
       "    </tr>\n",
       "    <tr>\n",
       "      <th>KIN001-260</th>\n",
       "      <td>0</td>\n",
       "      <td>0</td>\n",
       "      <td>0</td>\n",
       "      <td>0</td>\n",
       "      <td>0</td>\n",
       "      <td>0</td>\n",
       "      <td>0</td>\n",
       "      <td>0</td>\n",
       "      <td>0</td>\n",
       "      <td>0</td>\n",
       "      <td>...</td>\n",
       "      <td>0</td>\n",
       "      <td>0</td>\n",
       "      <td>0</td>\n",
       "      <td>0</td>\n",
       "      <td>0</td>\n",
       "      <td>0</td>\n",
       "      <td>0</td>\n",
       "      <td>0</td>\n",
       "      <td>0</td>\n",
       "      <td>0</td>\n",
       "    </tr>\n",
       "    <tr>\n",
       "      <th>NSC-87877</th>\n",
       "      <td>0</td>\n",
       "      <td>0</td>\n",
       "      <td>0</td>\n",
       "      <td>0</td>\n",
       "      <td>0</td>\n",
       "      <td>0</td>\n",
       "      <td>0</td>\n",
       "      <td>0</td>\n",
       "      <td>0</td>\n",
       "      <td>0</td>\n",
       "      <td>...</td>\n",
       "      <td>1</td>\n",
       "      <td>0</td>\n",
       "      <td>0</td>\n",
       "      <td>0</td>\n",
       "      <td>0</td>\n",
       "      <td>0</td>\n",
       "      <td>0</td>\n",
       "      <td>0</td>\n",
       "      <td>0</td>\n",
       "      <td>0</td>\n",
       "    </tr>\n",
       "    <tr>\n",
       "      <th>GNE-317</th>\n",
       "      <td>0</td>\n",
       "      <td>0</td>\n",
       "      <td>0</td>\n",
       "      <td>0</td>\n",
       "      <td>0</td>\n",
       "      <td>0</td>\n",
       "      <td>0</td>\n",
       "      <td>0</td>\n",
       "      <td>0</td>\n",
       "      <td>0</td>\n",
       "      <td>...</td>\n",
       "      <td>0</td>\n",
       "      <td>0</td>\n",
       "      <td>0</td>\n",
       "      <td>0</td>\n",
       "      <td>0</td>\n",
       "      <td>0</td>\n",
       "      <td>0</td>\n",
       "      <td>0</td>\n",
       "      <td>0</td>\n",
       "      <td>0</td>\n",
       "    </tr>\n",
       "    <tr>\n",
       "      <th>NAVITOCLAX</th>\n",
       "      <td>0</td>\n",
       "      <td>1</td>\n",
       "      <td>0</td>\n",
       "      <td>0</td>\n",
       "      <td>0</td>\n",
       "      <td>0</td>\n",
       "      <td>0</td>\n",
       "      <td>0</td>\n",
       "      <td>0</td>\n",
       "      <td>0</td>\n",
       "      <td>...</td>\n",
       "      <td>0</td>\n",
       "      <td>0</td>\n",
       "      <td>0</td>\n",
       "      <td>0</td>\n",
       "      <td>0</td>\n",
       "      <td>0</td>\n",
       "      <td>0</td>\n",
       "      <td>0</td>\n",
       "      <td>0</td>\n",
       "      <td>0</td>\n",
       "    </tr>\n",
       "    <tr>\n",
       "      <th>...</th>\n",
       "      <td>...</td>\n",
       "      <td>...</td>\n",
       "      <td>...</td>\n",
       "      <td>...</td>\n",
       "      <td>...</td>\n",
       "      <td>...</td>\n",
       "      <td>...</td>\n",
       "      <td>...</td>\n",
       "      <td>...</td>\n",
       "      <td>...</td>\n",
       "      <td>...</td>\n",
       "      <td>...</td>\n",
       "      <td>...</td>\n",
       "      <td>...</td>\n",
       "      <td>...</td>\n",
       "      <td>...</td>\n",
       "      <td>...</td>\n",
       "      <td>...</td>\n",
       "      <td>...</td>\n",
       "      <td>...</td>\n",
       "      <td>...</td>\n",
       "    </tr>\n",
       "    <tr>\n",
       "      <th>LGH447</th>\n",
       "      <td>0</td>\n",
       "      <td>0</td>\n",
       "      <td>0</td>\n",
       "      <td>0</td>\n",
       "      <td>0</td>\n",
       "      <td>0</td>\n",
       "      <td>0</td>\n",
       "      <td>0</td>\n",
       "      <td>0</td>\n",
       "      <td>0</td>\n",
       "      <td>...</td>\n",
       "      <td>0</td>\n",
       "      <td>0</td>\n",
       "      <td>0</td>\n",
       "      <td>0</td>\n",
       "      <td>0</td>\n",
       "      <td>0</td>\n",
       "      <td>0</td>\n",
       "      <td>0</td>\n",
       "      <td>0</td>\n",
       "      <td>0</td>\n",
       "    </tr>\n",
       "    <tr>\n",
       "      <th>TRASTUZUMAB</th>\n",
       "      <td>0</td>\n",
       "      <td>0</td>\n",
       "      <td>0</td>\n",
       "      <td>0</td>\n",
       "      <td>0</td>\n",
       "      <td>0</td>\n",
       "      <td>0</td>\n",
       "      <td>0</td>\n",
       "      <td>0</td>\n",
       "      <td>0</td>\n",
       "      <td>...</td>\n",
       "      <td>0</td>\n",
       "      <td>0</td>\n",
       "      <td>0</td>\n",
       "      <td>0</td>\n",
       "      <td>0</td>\n",
       "      <td>0</td>\n",
       "      <td>0</td>\n",
       "      <td>0</td>\n",
       "      <td>0</td>\n",
       "      <td>0</td>\n",
       "    </tr>\n",
       "    <tr>\n",
       "      <th>WNT974</th>\n",
       "      <td>0</td>\n",
       "      <td>0</td>\n",
       "      <td>0</td>\n",
       "      <td>0</td>\n",
       "      <td>0</td>\n",
       "      <td>0</td>\n",
       "      <td>0</td>\n",
       "      <td>0</td>\n",
       "      <td>0</td>\n",
       "      <td>0</td>\n",
       "      <td>...</td>\n",
       "      <td>0</td>\n",
       "      <td>0</td>\n",
       "      <td>0</td>\n",
       "      <td>0</td>\n",
       "      <td>0</td>\n",
       "      <td>0</td>\n",
       "      <td>0</td>\n",
       "      <td>0</td>\n",
       "      <td>0</td>\n",
       "      <td>0</td>\n",
       "    </tr>\n",
       "    <tr>\n",
       "      <th>TRIFLURIDINE</th>\n",
       "      <td>0</td>\n",
       "      <td>0</td>\n",
       "      <td>0</td>\n",
       "      <td>0</td>\n",
       "      <td>1</td>\n",
       "      <td>0</td>\n",
       "      <td>0</td>\n",
       "      <td>0</td>\n",
       "      <td>0</td>\n",
       "      <td>0</td>\n",
       "      <td>...</td>\n",
       "      <td>0</td>\n",
       "      <td>0</td>\n",
       "      <td>0</td>\n",
       "      <td>0</td>\n",
       "      <td>0</td>\n",
       "      <td>0</td>\n",
       "      <td>0</td>\n",
       "      <td>0</td>\n",
       "      <td>0</td>\n",
       "      <td>0</td>\n",
       "    </tr>\n",
       "    <tr>\n",
       "      <th>TIPIRACIL</th>\n",
       "      <td>0</td>\n",
       "      <td>0</td>\n",
       "      <td>0</td>\n",
       "      <td>0</td>\n",
       "      <td>0</td>\n",
       "      <td>0</td>\n",
       "      <td>0</td>\n",
       "      <td>0</td>\n",
       "      <td>0</td>\n",
       "      <td>1</td>\n",
       "      <td>...</td>\n",
       "      <td>0</td>\n",
       "      <td>0</td>\n",
       "      <td>0</td>\n",
       "      <td>0</td>\n",
       "      <td>0</td>\n",
       "      <td>0</td>\n",
       "      <td>0</td>\n",
       "      <td>0</td>\n",
       "      <td>0</td>\n",
       "      <td>0</td>\n",
       "    </tr>\n",
       "  </tbody>\n",
       "</table>\n",
       "<p>408 rows × 2048 columns</p>\n",
       "</div>"
      ],
      "text/plain": [
       "              0  1  2  3  4  5  6  7  8  9  ...  2038  2039  2040  2041  2042  \\\n",
       "drug_name                                   ...                                 \n",
       "JW-7-24-1     0  1  0  0  0  0  0  0  0  0  ...     0     0     0     0     0   \n",
       "KIN001-260    0  0  0  0  0  0  0  0  0  0  ...     0     0     0     0     0   \n",
       "NSC-87877     0  0  0  0  0  0  0  0  0  0  ...     1     0     0     0     0   \n",
       "GNE-317       0  0  0  0  0  0  0  0  0  0  ...     0     0     0     0     0   \n",
       "NAVITOCLAX    0  1  0  0  0  0  0  0  0  0  ...     0     0     0     0     0   \n",
       "...          .. .. .. .. .. .. .. .. .. ..  ...   ...   ...   ...   ...   ...   \n",
       "LGH447        0  0  0  0  0  0  0  0  0  0  ...     0     0     0     0     0   \n",
       "TRASTUZUMAB   0  0  0  0  0  0  0  0  0  0  ...     0     0     0     0     0   \n",
       "WNT974        0  0  0  0  0  0  0  0  0  0  ...     0     0     0     0     0   \n",
       "TRIFLURIDINE  0  0  0  0  1  0  0  0  0  0  ...     0     0     0     0     0   \n",
       "TIPIRACIL     0  0  0  0  0  0  0  0  0  1  ...     0     0     0     0     0   \n",
       "\n",
       "              2043  2044  2045  2046  2047  \n",
       "drug_name                                   \n",
       "JW-7-24-1        0     0     0     0     0  \n",
       "KIN001-260       0     0     0     0     0  \n",
       "NSC-87877        0     0     0     0     0  \n",
       "GNE-317          0     0     0     0     0  \n",
       "NAVITOCLAX       0     0     0     0     0  \n",
       "...            ...   ...   ...   ...   ...  \n",
       "LGH447           0     0     0     0     0  \n",
       "TRASTUZUMAB      0     0     0     0     0  \n",
       "WNT974           0     0     0     0     0  \n",
       "TRIFLURIDINE     0     0     0     0     0  \n",
       "TIPIRACIL        0     0     0     0     0  \n",
       "\n",
       "[408 rows x 2048 columns]"
      ]
     },
     "execution_count": 9,
     "metadata": {},
     "output_type": "execute_result"
    }
   ],
   "source": [
    "drug_fp = pd.read_csv(\"/data/ajayago/copied_from_cdal1/ajayago_home_folder/processed/drug_morgan_fingerprints.csv\", index_col = 0)\n",
    "drug_fp"
   ]
  },
  {
   "cell_type": "markdown",
   "id": "a654def2-8b46-490e-8bc9-87ee747d8b39",
   "metadata": {},
   "source": [
    "#### Cell Lines"
   ]
  },
  {
   "cell_type": "code",
   "execution_count": 10,
   "id": "ac6823fe-7518-4093-960e-8c13a9f4d1a8",
   "metadata": {},
   "outputs": [
    {
     "data": {
      "text/plain": [
       "(1569, 7776)"
      ]
     },
     "execution_count": 10,
     "metadata": {},
     "output_type": "execute_result"
    }
   ],
   "source": [
    "cl_train_df = pd.read_csv(\"../data/diffusion_pretraining/cl_diffusion_train_sample0.csv\", index_col=0)\n",
    "cl_train_df.shape"
   ]
  },
  {
   "cell_type": "code",
   "execution_count": 11,
   "id": "dca2528f-c1f7-48c5-aa45-a5f512008b1d",
   "metadata": {},
   "outputs": [
    {
     "data": {
      "text/plain": [
       "(175, 7776)"
      ]
     },
     "execution_count": 11,
     "metadata": {},
     "output_type": "execute_result"
    }
   ],
   "source": [
    "cl_test_df = pd.read_csv(\"../data/diffusion_pretraining/cl_diffusion_test_sample0.csv\", index_col=0)\n",
    "cl_test_df.shape"
   ]
  },
  {
   "cell_type": "code",
   "execution_count": 12,
   "id": "67a40a9a-f4e3-4991-80e7-d85a082a8fbc",
   "metadata": {},
   "outputs": [
    {
     "data": {
      "text/plain": [
       "array([0., 0., 0., ..., 0., 0., 0.])"
      ]
     },
     "execution_count": 12,
     "metadata": {},
     "output_type": "execute_result"
    }
   ],
   "source": [
    "cl_train_df.loc[\"ACH-002277\"].values"
   ]
  },
  {
   "cell_type": "code",
   "execution_count": 13,
   "id": "f7261b00-8982-47ec-9789-2948abcb3c96",
   "metadata": {},
   "outputs": [],
   "source": [
    "# for a, b in product(cl_train_df.index, drug_fp.index):\n",
    "#     with open(\"/data/ajayago/druid/intermediate/cs6220/train_cl_drug_unlabelled.csv\", \"a\") as f:\n",
    "#         f.write(f\"{a};{b}\\n\")"
   ]
  },
  {
   "cell_type": "code",
   "execution_count": 14,
   "id": "c620788f-fa23-4103-a36b-ec8829ebbb2e",
   "metadata": {},
   "outputs": [],
   "source": [
    "# for a, b in product(cl_test_df.index, drug_fp.index):\n",
    "#     with open(\"/data/ajayago/druid/intermediate/cs6220/test_cl_drug_unlabelled.csv\", \"a\") as f:\n",
    "#         f.write(f\"{a};{b}\\n\")"
   ]
  },
  {
   "cell_type": "code",
   "execution_count": 15,
   "id": "1e241175-5f39-4c45-bb1e-36e5e56f437b",
   "metadata": {},
   "outputs": [],
   "source": [
    "class CustomDataset(Dataset):\n",
    "    def __init__(self, csv_file, feature_df, drug_df):\n",
    "        self.inputs = pd.read_csv(csv_file, header=None, sep=\";\")\n",
    "        self.inputs.columns = [\"patient_id\", \"drug_name\"]\n",
    "        self.feature_df = feature_df\n",
    "        self.drug_df = drug_df\n",
    "\n",
    "    def __getitem__(self, idx):\n",
    "        patient_id = self.inputs.iloc[idx][\"patient_id\"]\n",
    "        drug_name = self.inputs.iloc[idx][\"drug_name\"]\n",
    "        return torch.tensor(np.concatenate((self.feature_df.loc[patient_id].values, self.drug_df.loc[drug_name].values)))\n",
    "\n",
    "    def __len__(self):\n",
    "        return len(self.inputs)\n",
    "    "
   ]
  },
  {
   "cell_type": "code",
   "execution_count": 16,
   "id": "67d75030-7469-456e-b5ab-adf4a3c179df",
   "metadata": {},
   "outputs": [],
   "source": [
    "cl_train_dataset = CustomDataset(\"/data/ajayago/druid/intermediate/cs6220/train_cl_drug_unlabelled.csv\", cl_train_df, drug_fp)\n",
    "cl_test_dataset = CustomDataset(\"/data/ajayago/druid/intermediate/cs6220/test_cl_drug_unlabelled.csv\", cl_test_df, drug_fp)"
   ]
  },
  {
   "cell_type": "code",
   "execution_count": 17,
   "id": "dbdb4504-3030-4136-8556-f21b0226484a",
   "metadata": {},
   "outputs": [],
   "source": [
    "cl_train_dataloader = DataLoader(cl_train_dataset, batch_size=2056, shuffle=True)\n",
    "cl_test_dataloader = DataLoader(cl_test_dataset, batch_size=2056, shuffle=False)"
   ]
  },
  {
   "cell_type": "markdown",
   "id": "d0cf4df7-7594-427d-8e58-6cd28355f481",
   "metadata": {},
   "source": [
    "#### Patient Dataset"
   ]
  },
  {
   "cell_type": "code",
   "execution_count": 18,
   "id": "fe143424-def5-45b6-8dc3-19299e1e9149",
   "metadata": {},
   "outputs": [
    {
     "data": {
      "text/plain": [
       "(476, 7776)"
      ]
     },
     "execution_count": 18,
     "metadata": {},
     "output_type": "execute_result"
    }
   ],
   "source": [
    "tcga_train_df = pd.read_csv(\"../data/diffusion_pretraining/tcga_diffusion_train_sample0.csv\", index_col=0)\n",
    "tcga_train_df.shape"
   ]
  },
  {
   "cell_type": "code",
   "execution_count": 19,
   "id": "49528e2d-fa1c-4702-ab7c-7d39a91a326c",
   "metadata": {},
   "outputs": [
    {
     "data": {
      "text/plain": [
       "(120, 7776)"
      ]
     },
     "execution_count": 19,
     "metadata": {},
     "output_type": "execute_result"
    }
   ],
   "source": [
    "tcga_test_df = pd.read_csv(\"../data/diffusion_pretraining/tcga_diffusion_test_sample0.csv\", index_col=0)\n",
    "tcga_test_df.shape"
   ]
  },
  {
   "cell_type": "code",
   "execution_count": 20,
   "id": "12e349ae-9ca2-4502-92f9-2c2d41b85757",
   "metadata": {},
   "outputs": [],
   "source": [
    "# for a, b in product(tcga_train_df.index, drug_fp.index):\n",
    "#     with open(\"/data/ajayago/druid/intermediate/cs6220/train_tcga_drug_unlabelled.csv\", \"a\") as f:\n",
    "#         f.write(f\"{a};{b}\\n\")"
   ]
  },
  {
   "cell_type": "code",
   "execution_count": 21,
   "id": "23f526f6-7b75-47cf-a042-4710e352ecfc",
   "metadata": {},
   "outputs": [],
   "source": [
    "# for a, b in product(tcga_test_df.index, drug_fp.index):\n",
    "#     with open(\"/data/ajayago/druid/intermediate/cs6220/test_tcga_drug_unlabelled.csv\", \"a\") as f:\n",
    "#         f.write(f\"{a};{b}\\n\")"
   ]
  },
  {
   "cell_type": "code",
   "execution_count": 22,
   "id": "3c6054c7-c3a9-4461-b215-e54e63b03391",
   "metadata": {},
   "outputs": [],
   "source": [
    "tcga_train_dataset = CustomDataset(\"/data/ajayago/druid/intermediate/cs6220/train_tcga_drug_unlabelled.csv\", tcga_train_df, drug_fp)\n",
    "tcga_test_dataset = CustomDataset(\"/data/ajayago/druid/intermediate/cs6220/test_tcga_drug_unlabelled.csv\", tcga_test_df, drug_fp)"
   ]
  },
  {
   "cell_type": "code",
   "execution_count": 23,
   "id": "7060da39-e8ee-4fb9-8bf6-2010008feb0f",
   "metadata": {},
   "outputs": [],
   "source": [
    "tcga_train_dataloader = DataLoader(tcga_train_dataset, batch_size=2056, shuffle=True)\n",
    "tcga_test_dataloader = DataLoader(tcga_test_dataset, batch_size=2056, shuffle=False)"
   ]
  },
  {
   "cell_type": "code",
   "execution_count": 24,
   "id": "800f5338-fbcc-4a35-bc68-b038dbc2b226",
   "metadata": {},
   "outputs": [
    {
     "data": {
      "text/plain": [
       "(640152, 71400, 194208, 48960)"
      ]
     },
     "execution_count": 24,
     "metadata": {},
     "output_type": "execute_result"
    }
   ],
   "source": [
    "len(cl_train_dataset), len(cl_test_dataset), len(tcga_train_dataset), len(tcga_test_dataset)"
   ]
  },
  {
   "cell_type": "markdown",
   "id": "3ea2d268-cb05-4698-a072-8a21b1133353",
   "metadata": {},
   "source": [
    "#### Pretrain VAEs separately for cell lines and patients"
   ]
  },
  {
   "cell_type": "code",
   "execution_count": 25,
   "id": "c90de92f-cc17-4da2-a2d0-a0f66502942b",
   "metadata": {},
   "outputs": [],
   "source": [
    "def testing_loop_vae(test_dataloader, vae, device):\n",
    "    avg_test_loss = 0.0\n",
    "    for idx, batch in enumerate(test_dataloader):\n",
    "        with torch.no_grad():\n",
    "            inp_vae = batch[0].to(device=device, dtype=torch.float32)\n",
    "            inp, mu, logvar, inp_dec  = vae(inp_vae) # From VAE encoder + reparameterization\n",
    "\n",
    "            mse_recon_loss = torch.nn.MSELoss()(inp_dec, inp_vae) # MSE \n",
    "            avg_test_loss += mse_recon_loss.detach().item()\n",
    "\n",
    "    return avg_test_loss/(idx+1)"
   ]
  },
  {
   "cell_type": "code",
   "execution_count": 26,
   "id": "426f0266-f6be-4b25-a369-74e708f78ff6",
   "metadata": {},
   "outputs": [],
   "source": [
    "def training_loop_vae(train_dataloader, test_dataloader, epochs, vae, device, optimizer, scheduler=None):\n",
    "    train_losses = []\n",
    "    avg_test_losses = []\n",
    "    for i in range(epochs):\n",
    "        loss = 0.0\n",
    "        avg_test_loss = \"\"\n",
    "        for idx, batch in enumerate(train_dataloader):\n",
    "            optimizer.zero_grad()\n",
    "            inp_vae = batch.to(device=device, dtype=torch.float32)\n",
    "            inp, mu, logvar, inp_dec = vae(inp_vae) # From VAE encoder + reparameterization\n",
    "            # print(mu.shape, logvar.shape)\n",
    "            mse_recon_loss = torch.nn.MSELoss()(inp_dec, inp_vae) # MSE \n",
    "            kld_loss = get_kld_loss(mu, logvar, is_mean=True) # KLD\n",
    "            total_loss = mse_recon_loss + kld_loss\n",
    "\n",
    "            total_loss.backward()\n",
    "            optimizer.step()\n",
    "\n",
    "            loss += total_loss.detach().item()\n",
    "            \n",
    "        test_loss = testing_loop_vae(test_dataloader, vae, device)\n",
    "        avg_test_loss = f\" Average testing loss: {test_loss}\"\n",
    "\n",
    "        print(f\"|Epoch {i} | Average training loss: {loss/((idx+1))} |{avg_test_loss}\")\n",
    "        train_losses.append(loss/(idx+1))\n",
    "        avg_test_losses.append(test_loss)\n",
    "        \n",
    "        if scheduler:\n",
    "            scheduler.step()\n",
    "        if len(avg_test_losses)> 2:\n",
    "            if avg_test_losses[-1] > avg_test_losses[-2]:\n",
    "                print(\"Converged.\")\n",
    "                break\n",
    "        \n",
    "    return train_losses\n",
    "            "
   ]
  },
  {
   "cell_type": "code",
   "execution_count": 27,
   "id": "bd06f4df-3070-44bc-a944-83b1d782b5bb",
   "metadata": {},
   "outputs": [
    {
     "name": "stdout",
     "output_type": "stream",
     "text": [
      "U: encoder \n",
      "Sequential(\n",
      "  (enc-0): Linear(in_features=9824, out_features=1024, bias=True)\n",
      "  (act-0): Tanh()\n",
      "  (enc-1): Linear(in_features=1024, out_features=128, bias=True)\n",
      "  (act-1): Tanh()\n",
      ")\n",
      "#\n",
      "mu_layer: \n",
      "Linear(in_features=128, out_features=64, bias=True)\n",
      "#\n",
      "sigma_layer: \n",
      "Linear(in_features=128, out_features=64, bias=True)\n",
      "#\n",
      "U: decoder \n",
      "Sequential(\n",
      "  (-dec-0): Linear(in_features=64, out_features=128, bias=True)\n",
      "  (-act-0): Tanh()\n",
      "  (dec-0): Linear(in_features=128, out_features=1024, bias=True)\n",
      "  (act-0): Tanh()\n",
      "  (dec-1): Linear(in_features=1024, out_features=9824, bias=True)\n",
      "  (act-1): Tanh()\n",
      ")\n",
      "|Epoch 0 | Average training loss: 0.20127451254261863 | Average testing loss: 0.14602950185901303\n",
      "|Epoch 1 | Average training loss: 0.19869473613870398 | Average testing loss: 0.14601783448798134\n",
      "|Epoch 2 | Average training loss: 0.19868172175928653 | Average testing loss: 0.1460039440285543\n",
      "|Epoch 3 | Average training loss: 0.19866322389610624 | Average testing loss: 0.1460033699538259\n",
      "|Epoch 4 | Average training loss: 0.19865117384289502 | Average testing loss: 0.1459958513251281\n",
      "|Epoch 5 | Average training loss: 0.19864856457013538 | Average testing loss: 0.14598828316773235\n",
      "|Epoch 6 | Average training loss: 0.19863922496828118 | Average testing loss: 0.14599410621663447\n",
      "Converged.\n"
     ]
    }
   ],
   "source": [
    "# train cell line VAE\n",
    "cl_vae = vae(input_dim=7776+2048, k_list=[1024, 128], actf_list=[\"tanh\", \"tanh\"], is_real=True).to(device)\n",
    "optim_cl = torch.optim.Adam(cl_vae.parameters(), lr = 1e-4)\n",
    "cl_vae_train_losses = training_loop_vae(cl_train_dataloader, cl_test_dataloader, 30, cl_vae, device, optim_cl)"
   ]
  },
  {
   "cell_type": "code",
   "execution_count": 28,
   "id": "25e1aa7e-696f-477a-a70d-154743220da2",
   "metadata": {},
   "outputs": [
    {
     "data": {
      "text/plain": [
       "[<matplotlib.lines.Line2D at 0x7fed1342e7c0>]"
      ]
     },
     "execution_count": 28,
     "metadata": {},
     "output_type": "execute_result"
    },
    {
     "data": {
      "image/png": "[encoded data removed]",
      "text/plain": [
       "<Figure size 640x480 with 1 Axes>"
      ]
     },
     "metadata": {},
     "output_type": "display_data"
    }
   ],
   "source": [
    "plt.plot(cl_vae_train_losses)"
   ]
  },
  {
   "cell_type": "code",
   "execution_count": 29,
   "id": "2a9a1cf5-d10f-4b9a-8207-3c7488c4cc04",
   "metadata": {},
   "outputs": [
    {
     "name": "stdout",
     "output_type": "stream",
     "text": [
      "U: encoder \n",
      "Sequential(\n",
      "  (enc-0): Linear(in_features=9824, out_features=512, bias=True)\n",
      "  (act-0): Tanh()\n",
      "  (enc-1): Linear(in_features=512, out_features=128, bias=True)\n",
      "  (act-1): ReLU()\n",
      ")\n",
      "#\n",
      "mu_layer: \n",
      "Linear(in_features=128, out_features=64, bias=True)\n",
      "#\n",
      "sigma_layer: \n",
      "Linear(in_features=128, out_features=64, bias=True)\n",
      "#\n",
      "U: decoder \n",
      "Sequential(\n",
      "  (-dec-0): Linear(in_features=64, out_features=128, bias=True)\n",
      "  (-act-0): Tanh()\n",
      "  (dec-0): Linear(in_features=128, out_features=512, bias=True)\n",
      "  (act-0): Tanh()\n",
      "  (dec-1): Linear(in_features=512, out_features=9824, bias=True)\n",
      "  (act-1): ReLU()\n",
      ")\n",
      "|Epoch 0 | Average training loss: 1.0020566041449412 | Average testing loss: 8.53453230188461\n",
      "|Epoch 1 | Average training loss: 0.47577153196672556 | Average testing loss: 7.195762190923173\n",
      "|Epoch 2 | Average training loss: 0.3370311064271544 | Average testing loss: 6.957519980403594\n",
      "|Epoch 3 | Average training loss: 0.30015764261022937 | Average testing loss: 6.933378139999695\n",
      "|Epoch 4 | Average training loss: 0.28509246091699 | Average testing loss: 6.957149777074422\n",
      "Converged.\n"
     ]
    }
   ],
   "source": [
    "# train patient VAE\n",
    "patient_vae = vae(input_dim=7776+2048, k_list=[512, 128], actf_list=[\"tanh\", \"relu\"], is_real=True).to(device)\n",
    "optim_tcga = torch.optim.Adam(patient_vae.parameters(), lr = 1e-3)\n",
    "patient_vae_train_losses = training_loop_vae(tcga_train_dataloader, tcga_test_dataloader, 40, patient_vae, device, optim_tcga)"
   ]
  },
  {
   "cell_type": "code",
   "execution_count": 30,
   "id": "81835d72-502e-4af4-9c19-e84099afd6a1",
   "metadata": {},
   "outputs": [
    {
     "data": {
      "text/plain": [
       "[<matplotlib.lines.Line2D at 0x7fed784e4d60>]"
      ]
     },
     "execution_count": 30,
     "metadata": {},
     "output_type": "execute_result"
    },
    {
     "data": {
      "image/png": "[encoded data removed]",
      "text/plain": [
       "<Figure size 640x480 with 1 Axes>"
      ]
     },
     "metadata": {},
     "output_type": "display_data"
    }
   ],
   "source": [
    "plt.plot(patient_vae_train_losses)"
   ]
  },
  {
   "cell_type": "code",
   "execution_count": 48,
   "id": "e201af99-812d-40bf-801a-dd9fe10e9f09",
   "metadata": {},
   "outputs": [],
   "source": [
    "# torch.save(cl_vae.state_dict(), \"/data/ajayago/druid/intermediate/cs6220/vae_cell_line_clconditioned_uda_v3_druginput.pth\")\n",
    "# torch.save(patient_vae.state_dict(), \"/data/ajayago/druid/intermediate/cs6220/vae_patient_clconditioned_uda_v3_druginput.pth\")"
   ]
  },
  {
   "cell_type": "markdown",
   "id": "ef8cc366-3c0c-4231-97eb-ce6f8d320296",
   "metadata": {},
   "source": [
    "#### Joint Training of Cell Line and Patient\n",
    "\n",
    "Testing is still on patient data. Training involves iterating over cell lines and patients.\n",
    "\n",
    "We use VAE + TDDPM in each case. Here we also condition the patient decoder on cell line representation (like image generation conditioned on text input.)"
   ]
  },
  {
   "cell_type": "code",
   "execution_count": 25,
   "id": "d05b10ab-6464-4acb-ad9b-bf52472f13bd",
   "metadata": {},
   "outputs": [],
   "source": [
    "# testing function with LDM\n",
    "def testing_loop_ldm(test_dataloader, diffusion_model, vae, device):\n",
    "    avg_test_loss = 0.0\n",
    "    for idx, batch in enumerate(test_dataloader):\n",
    "        with torch.no_grad():\n",
    "            inp_vae = batch.to(device=device, dtype=torch.float32)\n",
    "            inp, mu, logvar, _ = vae(inp_vae) # From VAE encoder + reparameterization\n",
    "            \n",
    "            noise = torch.randn_like(inp).to(device) # this is the label we use   \n",
    "            b = inp.shape[0]\n",
    "            t, pt = diffusion_model.sample_time(b, device, 'uniform')\n",
    "            inp_t = diffusion_model.gaussian_q_sample(inp, t, noise) # forward process\n",
    "            model_out = diffusion_model._denoise_fn(inp_t, t) # predicted epsilon\n",
    "\n",
    "            # MSE between predicted inp_pred after reverse diffusion and original input\n",
    "            inp_pred = diffusion_model._predict_xstart_from_eps(inp_t, t, model_out)\n",
    "            out_vae = vae.decoder(inp_pred) # after VAE decoding\n",
    "            # X_mu1, X_theta1, X_pi1 = ffn_zinb_model(out_vae) # ZINorm\n",
    "            mse_recon_loss = torch.nn.MSELoss()(out_vae, inp_vae) # MSE \n",
    "\n",
    "            avg_test_loss += mse_recon_loss.detach().item()\n",
    "\n",
    "    return avg_test_loss/(idx+1)"
   ]
  },
  {
   "cell_type": "code",
   "execution_count": 26,
   "id": "34ef3932-580a-4cfb-b0e7-b294898fe4b0",
   "metadata": {},
   "outputs": [],
   "source": [
    "# training function with LDM with CORAL loss\n",
    "def training_loop_ldm_coral_conditioning(train_dataloaders, test_dataloaders, epochs, diffusion_model, vae, device, optimizer, scheduler=None):\n",
    "    train_losses = []\n",
    "    avg_test_losses = []\n",
    "    \n",
    "    for i in range(epochs):\n",
    "        loss = 0.0\n",
    "        avg_test_loss = \"\"\n",
    "        for idx0, batch0 in enumerate(train_dataloaders[\"cell_line\"]):\n",
    "            for idx1, batch1 in enumerate(train_dataloaders[\"patient\"]):\n",
    "                # print(f\"CL: {idx0}, patient: {idx1}\")\n",
    "                optimizer.zero_grad()\n",
    "                # for cell lines\n",
    "                inp_vae_cl = batch0.to(device=device, dtype=torch.float32)\n",
    "                inp_cl, mu_cl, logvar_cl, _ = vae[\"cell_line\"](inp_vae_cl) # From VAE encoder + reparameterization\n",
    "                \n",
    "                noise_cl = torch.randn_like(inp_cl).to(device) # this is the label we use   \n",
    "                b = inp_cl.shape[0]\n",
    "                t, pt = diffusion_model[\"cell_line\"].sample_time(b, device, 'uniform')\n",
    "                inp_t_cl = diffusion_model[\"cell_line\"].gaussian_q_sample(inp_cl, t, noise_cl) # forward process\n",
    "                model_out = diffusion_model[\"cell_line\"]._denoise_fn(inp_t_cl, t) # predicted epsilon\n",
    "                # loss calculation using MSE between predicted and actual noise\n",
    "                loss_gauss_cl = diffusion_model[\"cell_line\"]._gaussian_loss(model_out, inp_cl, inp_t_cl, t, noise_cl).mean()\n",
    "    \n",
    "                # reconstruct inp, pass through VAE decoder and calculate VAE losses\n",
    "                inp_pred_cl = diffusion_model[\"cell_line\"]._predict_xstart_from_eps(inp_t_cl, t, model_out)\n",
    "                out_vae_cl = vae[\"cell_line\"].decoder(inp_pred_cl) # after VAE decoding\n",
    "                mse_recon_loss_cl = torch.nn.MSELoss()(out_vae_cl, inp_vae_cl)\n",
    "                kld_loss_cl = get_kld_loss(mu_cl, logvar_cl, is_mean=True)\n",
    "\n",
    "                # for patients\n",
    "                inp_vae_tcga = batch1.to(device=device, dtype=torch.float32)\n",
    "                inp_tcga, mu_tcga, logvar_tcga, _ = vae[\"patient\"](inp_vae_tcga) # From VAE encoder + reparameterization\n",
    "                \n",
    "                noise_tcga = torch.randn_like(inp_tcga).to(device) # this is the label we use   \n",
    "                b = inp_tcga.shape[0]\n",
    "                t, pt = diffusion_model[\"patient\"].sample_time(b, device, 'uniform')\n",
    "                inp_t_tcga = diffusion_model[\"patient\"].gaussian_q_sample(inp_tcga, t, noise_tcga) # forward process\n",
    "                \n",
    "                model_out = diffusion_model[\"patient\"]._denoise_fn(inp_t_tcga, t) # predicted epsilon\n",
    "                # loss calculation using MSE between predicted and actual noise\n",
    "                loss_gauss_tcga = diffusion_model[\"patient\"]._gaussian_loss(model_out, inp_tcga, inp_t_tcga, t, noise_tcga).mean()\n",
    "    \n",
    "                # reconstruct inp, pass through VAE decoder and calculate VAE losses\n",
    "                inp_pred_tcga = diffusion_model[\"patient\"]._predict_xstart_from_eps(inp_t_tcga, t, model_out)\n",
    "                out_vae_tcga = vae[\"patient\"].decoder(inp_pred_tcga) # after VAE decoding\n",
    "                mse_recon_loss_tcga = torch.nn.MSELoss()(out_vae_tcga, inp_vae_tcga)\n",
    "                kld_loss_tcga = get_kld_loss(mu_tcga, logvar_tcga, is_mean=True)\n",
    "                \n",
    "                # CORAL loss between latent spaces of VAEs - change to latnet space of diffusion models?\n",
    "                # coral_loss = coral(inp_cl, inp_tcga)\n",
    "                coral_loss = coral(inp_t_cl, inp_t_tcga)\n",
    "                \n",
    "                # cross attention between inp_t_cl from cell line forward process and inp_t_tcga from patient forward process\n",
    "                # perform cross attention between cell lines and patients in the VAE latent space \n",
    "                # forward pass this attention vector through patient DDPM decoder\n",
    "                # check KL div loss between the patient data original and those with cross attention\n",
    "                query =  inp_t_tcga\n",
    "                key = inp_t_cl\n",
    "                value = inp_t_cl\n",
    "\n",
    "                cross_attention_tcga = torch.nn.Softmax(dim=1)(query @ key.transpose(0, 1))/math.sqrt(query.shape[1]) @ value # same shape as query\n",
    "                model_out_cross = diffusion_model[\"patient\"]._denoise_fn(cross_attention_tcga, t) # predicted epsilon\n",
    "                \n",
    "                # loss calculation using KL div between predicted and actual noise\n",
    "                loss_gauss_tcga_cross = diffusion_model[\"patient\"]._vb_terms_bpd(\n",
    "                                            model_output=model_out_cross,\n",
    "                                            x_start=inp_tcga,\n",
    "                                            x_t=inp_t_tcga,\n",
    "                                            t=t,\n",
    "                                            clip_denoised=False,\n",
    "                                            model_kwargs=None,\n",
    "                                        )[\"output\"].mean()\n",
    "                #diffusion_model[\"patient\"]._gaussian_loss(model_out, inp_tcga, inp_t_tcga, t, noise_tcga).mean()\n",
    "                \n",
    "                total_loss = loss_gauss_cl + loss_gauss_tcga + coral_loss # mse_recon_loss_cl + mse_recon_loss_tcga + kld_loss_cl + kld_loss_tcga + loss_gauss_tcga_cross\n",
    "                \n",
    "                total_loss.backward()\n",
    "                optimizer.step()\n",
    "\n",
    "                # print(total_loss.detach().item())\n",
    "                loss += total_loss.detach().item()\n",
    "\n",
    "        test_loss = testing_loop_ldm(test_dataloaders['patient'], diffusion_model['patient'], vae['patient'], device)\n",
    "        avg_test_loss = f\" Average testing loss: {test_loss}\"\n",
    "\n",
    "        print(f\"|Epoch {i} | Average training loss: {loss/((idx0+1) * (idx1+1))} |{avg_test_loss}\")\n",
    "        train_losses.append(loss/((idx0+1) * (idx1+1)))\n",
    "        avg_test_losses.append(test_loss)\n",
    "        if len(avg_test_losses) > 2:\n",
    "            if avg_test_losses[-1] > avg_test_losses[-2]:\n",
    "                print(\"Converged\")\n",
    "                break\n",
    "        \n",
    "        if scheduler:\n",
    "            scheduler.step()\n",
    "        \n",
    "    return train_losses"
   ]
  },
  {
   "cell_type": "code",
   "execution_count": 27,
   "id": "2d175fb0-132b-4e14-9111-a6031aac0dbc",
   "metadata": {},
   "outputs": [],
   "source": [
    "train_dataloaders = {\n",
    "    \"cell_line\": cl_train_dataloader,\n",
    "    \"patient\": tcga_train_dataloader\n",
    "}"
   ]
  },
  {
   "cell_type": "code",
   "execution_count": 28,
   "id": "132a4943-c4f8-428b-a742-cd8873d69743",
   "metadata": {},
   "outputs": [],
   "source": [
    "test_dataloaders = {\n",
    "    \"cell_line\": cl_test_dataloader,\n",
    "    \"patient\": tcga_test_dataloader\n",
    "}"
   ]
  },
  {
   "cell_type": "code",
   "execution_count": 30,
   "id": "b65a0a4a-3a57-456d-b213-d323e53d950a",
   "metadata": {},
   "outputs": [
    {
     "name": "stdout",
     "output_type": "stream",
     "text": [
      "U: encoder \n",
      "Sequential(\n",
      "  (enc-0): Linear(in_features=9824, out_features=1024, bias=True)\n",
      "  (act-0): Tanh()\n",
      "  (enc-1): Linear(in_features=1024, out_features=128, bias=True)\n",
      "  (act-1): ReLU()\n",
      ")\n",
      "#\n",
      "mu_layer: \n",
      "Linear(in_features=128, out_features=64, bias=True)\n",
      "#\n",
      "sigma_layer: \n",
      "Linear(in_features=128, out_features=64, bias=True)\n",
      "#\n",
      "U: decoder \n",
      "Sequential(\n",
      "  (-dec-0): Linear(in_features=64, out_features=128, bias=True)\n",
      "  (-act-0): Tanh()\n",
      "  (dec-0): Linear(in_features=128, out_features=1024, bias=True)\n",
      "  (act-0): Tanh()\n",
      "  (dec-1): Linear(in_features=1024, out_features=9824, bias=True)\n",
      "  (act-1): ReLU()\n",
      ")\n",
      "U: encoder \n",
      "Sequential(\n",
      "  (enc-0): Linear(in_features=9824, out_features=512, bias=True)\n",
      "  (act-0): Tanh()\n",
      "  (enc-1): Linear(in_features=512, out_features=128, bias=True)\n",
      "  (act-1): ReLU()\n",
      ")\n",
      "#\n",
      "mu_layer: \n",
      "Linear(in_features=128, out_features=64, bias=True)\n",
      "#\n",
      "sigma_layer: \n",
      "Linear(in_features=128, out_features=64, bias=True)\n",
      "#\n",
      "U: decoder \n",
      "Sequential(\n",
      "  (-dec-0): Linear(in_features=64, out_features=128, bias=True)\n",
      "  (-act-0): Tanh()\n",
      "  (dec-0): Linear(in_features=128, out_features=512, bias=True)\n",
      "  (act-0): Tanh()\n",
      "  (dec-1): Linear(in_features=512, out_features=9824, bias=True)\n",
      "  (act-1): ReLU()\n",
      ")\n"
     ]
    },
    {
     "data": {
      "text/plain": [
       "<All keys matched successfully>"
      ]
     },
     "execution_count": 30,
     "metadata": {},
     "output_type": "execute_result"
    }
   ],
   "source": [
    "cl_vae = vae(input_dim=7776+2048, k_list=[1024, 128], actf_list=[\"tanh\", \"relu\"], is_real=True).to(device)\n",
    "patient_vae = vae(input_dim=7776+2048, k_list=[512, 128], actf_list=[\"tanh\", \"relu\"], is_real=True).to(device)\n",
    "cl_vae.load_state_dict(torch.load(\"/data/ajayago/druid/intermediate/cs6220/vae_cell_line_clconditioned_uda_v3_druginput.pth\"))\n",
    "patient_vae.load_state_dict(torch.load(\"/data/ajayago/druid/intermediate/cs6220/vae_patient_clconditioned_uda_v3_druginput.pth\"))"
   ]
  },
  {
   "cell_type": "code",
   "execution_count": 31,
   "id": "e7298b95-25f0-4dcd-b49a-14e00ebe59d8",
   "metadata": {},
   "outputs": [],
   "source": [
    "# freeze params of VAEs (pretrained)\n",
    "for param in cl_vae.parameters():\n",
    "    param.requires_grad = False\n",
    "\n",
    "for param in patient_vae.parameters():\n",
    "    param.requires_grad = False"
   ]
  },
  {
   "cell_type": "code",
   "execution_count": 32,
   "id": "184b2231-8ea0-4408-866c-e7d44c71ad3b",
   "metadata": {},
   "outputs": [],
   "source": [
    "vaes = {\n",
    "    \"cell_line\": cl_vae,\n",
    "    \"patient\": patient_vae\n",
    "}"
   ]
  },
  {
   "cell_type": "code",
   "execution_count": 33,
   "id": "ee448999-576e-4987-9727-52a3ad2ee453",
   "metadata": {},
   "outputs": [],
   "source": [
    "tcga_mlp_diffusion_model = MLPDiffusion(d_in=64, num_classes=0, is_y_cond=False, rtdl_params={\"d_layers\": [32], \"dropout\": 0.1}).to(device)\n",
    "tcga_diff_model = GaussianMultinomialDiffusion(num_classes=np.array([0]), num_numerical_features=64, denoise_fn=tcga_mlp_diffusion_model, device=device)#.to(device)"
   ]
  },
  {
   "cell_type": "code",
   "execution_count": 34,
   "id": "50db235b-ce1f-49dd-a9c7-4d979db0c27a",
   "metadata": {},
   "outputs": [],
   "source": [
    "cl_mlp_diffusion_model = MLPDiffusion(d_in=64, num_classes=0, is_y_cond=False, rtdl_params={\"d_layers\": [32], \"dropout\": 0.1}).to(device)\n",
    "cl_diff_model = GaussianMultinomialDiffusion(num_classes=np.array([0]), num_numerical_features=64, denoise_fn=cl_mlp_diffusion_model, device=device)#.to(device)"
   ]
  },
  {
   "cell_type": "code",
   "execution_count": 35,
   "id": "94c81e30-1769-480d-be34-4fe3ef7312a8",
   "metadata": {},
   "outputs": [],
   "source": [
    "diffusion_models = {\n",
    "    \"cell_line\": cl_diff_model,\n",
    "    \"patient\": tcga_diff_model\n",
    "}"
   ]
  },
  {
   "cell_type": "code",
   "execution_count": 36,
   "id": "136e272d-869d-46e1-8157-00c7e14cde2b",
   "metadata": {},
   "outputs": [],
   "source": [
    "# params = list(diffusion_models[\"cell_line\"].parameters()) + list(diffusion_models[\"patient\"].parameters()) + list(vaes[\"cell_line\"].parameters()) + list(vaes[\"patient\"].parameters())\n",
    "params = list(diffusion_models[\"cell_line\"].parameters()) + list(diffusion_models[\"patient\"].parameters())"
   ]
  },
  {
   "cell_type": "code",
   "execution_count": 37,
   "id": "004c5d7c-411a-4fa1-9bf6-62eddcc8b265",
   "metadata": {},
   "outputs": [],
   "source": [
    "optim = torch.optim.Adam(params, lr = 1e-4)\n",
    "# scheduler = torch.optim.lr_scheduler.CosineAnnealingLR(optim, T_max=100)\n",
    "# scheduler = torch.optim.lr_scheduler.StepLR(optim, 5)"
   ]
  },
  {
   "cell_type": "code",
   "execution_count": 38,
   "id": "feaafb14-77fe-4153-9d82-67dd324fd3db",
   "metadata": {
    "scrolled": true
   },
   "outputs": [
    {
     "name": "stdout",
     "output_type": "stream",
     "text": [
      "CL: 244, patient: 73\n",
      "CL: 244, patient: 74\n",
      "CL: 244, patient: 75\n",
      "CL: 244, patient: 76\n",
      "CL: 244, patient: 77\n",
      "CL: 244, patient: 78\n",
      "CL: 244, patient: 79\n",
      "CL: 244, patient: 80\n",
      "CL: 244, patient: 81\n",
      "CL: 244, patient: 82\n",
      "CL: 244, patient: 83\n",
      "CL: 244, patient: 84\n",
      "CL: 244, patient: 85\n",
      "CL: 244, patient: 86\n",
      "CL: 244, patient: 87\n",
      "CL: 244, patient: 88\n",
      "CL: 244, patient: 89\n",
      "CL: 244, patient: 90\n",
      "CL: 244, patient: 91\n",
      "CL: 244, patient: 92\n",
      "CL: 244, patient: 93\n",
      "CL: 244, patient: 94\n",
      "CL: 245, patient: 0\n",
      "CL: 245, patient: 1\n",
      "CL: 245, patient: 2\n"
     ]
    },
    {
     "ename": "KeyboardInterrupt",
     "evalue": "",
     "output_type": "error",
     "traceback": [
      "\u001b[0;31m---------------------------------------------------------------------------\u001b[0m",
      "\u001b[0;31mKeyboardInterrupt\u001b[0m                         Traceback (most recent call last)",
      "\u001b[0;32m/tmp/ipykernel_18878/1186304786.py\u001b[0m in \u001b[0;36m?\u001b[0;34m()\u001b[0m\n\u001b[0;32m----> 1\u001b[0;31m \u001b[0mtrain_losses\u001b[0m \u001b[0;34m=\u001b[0m \u001b[0mtraining_loop_ldm_coral_conditioning\u001b[0m\u001b[0;34m(\u001b[0m\u001b[0mtrain_dataloaders\u001b[0m\u001b[0;34m,\u001b[0m \u001b[0mtest_dataloaders\u001b[0m\u001b[0;34m,\u001b[0m \u001b[0;36m30\u001b[0m\u001b[0;34m,\u001b[0m \u001b[0mdiffusion_models\u001b[0m\u001b[0;34m,\u001b[0m \u001b[0mvaes\u001b[0m\u001b[0;34m,\u001b[0m \u001b[0mdevice\u001b[0m\u001b[0;34m,\u001b[0m \u001b[0moptim\u001b[0m\u001b[0;34m)\u001b[0m\u001b[0;34m\u001b[0m\u001b[0;34m\u001b[0m\u001b[0m\n\u001b[0m",
      "\u001b[0;32m/tmp/ipykernel_18878/1602694911.py\u001b[0m in \u001b[0;36m?\u001b[0;34m(train_dataloaders, test_dataloaders, epochs, diffusion_model, vae, device, optimizer, scheduler)\u001b[0m\n\u001b[1;32m      6\u001b[0m     \u001b[0;32mfor\u001b[0m \u001b[0mi\u001b[0m \u001b[0;32min\u001b[0m \u001b[0mrange\u001b[0m\u001b[0;34m(\u001b[0m\u001b[0mepochs\u001b[0m\u001b[0;34m)\u001b[0m\u001b[0;34m:\u001b[0m\u001b[0;34m\u001b[0m\u001b[0;34m\u001b[0m\u001b[0m\n\u001b[1;32m      7\u001b[0m         \u001b[0mloss\u001b[0m \u001b[0;34m=\u001b[0m \u001b[0;36m0.0\u001b[0m\u001b[0;34m\u001b[0m\u001b[0;34m\u001b[0m\u001b[0m\n\u001b[1;32m      8\u001b[0m         \u001b[0mavg_test_loss\u001b[0m \u001b[0;34m=\u001b[0m \u001b[0;34m\"\"\u001b[0m\u001b[0;34m\u001b[0m\u001b[0;34m\u001b[0m\u001b[0m\n\u001b[1;32m      9\u001b[0m         \u001b[0;32mfor\u001b[0m \u001b[0midx0\u001b[0m\u001b[0;34m,\u001b[0m \u001b[0mbatch0\u001b[0m \u001b[0;32min\u001b[0m \u001b[0menumerate\u001b[0m\u001b[0;34m(\u001b[0m\u001b[0mtrain_dataloaders\u001b[0m\u001b[0;34m[\u001b[0m\u001b[0;34m\"cell_line\"\u001b[0m\u001b[0;34m]\u001b[0m\u001b[0;34m)\u001b[0m\u001b[0;34m:\u001b[0m\u001b[0;34m\u001b[0m\u001b[0;34m\u001b[0m\u001b[0m\n\u001b[0;32m---> 10\u001b[0;31m             \u001b[0;32mfor\u001b[0m \u001b[0midx1\u001b[0m\u001b[0;34m,\u001b[0m \u001b[0mbatch1\u001b[0m \u001b[0;32min\u001b[0m \u001b[0menumerate\u001b[0m\u001b[0;34m(\u001b[0m\u001b[0mtrain_dataloaders\u001b[0m\u001b[0;34m[\u001b[0m\u001b[0;34m\"patient\"\u001b[0m\u001b[0;34m]\u001b[0m\u001b[0;34m)\u001b[0m\u001b[0;34m:\u001b[0m\u001b[0;34m\u001b[0m\u001b[0;34m\u001b[0m\u001b[0m\n\u001b[0m\u001b[1;32m     11\u001b[0m                 \u001b[0mprint\u001b[0m\u001b[0;34m(\u001b[0m\u001b[0;34mf\"CL: {idx0}, patient: {idx1}\"\u001b[0m\u001b[0;34m)\u001b[0m\u001b[0;34m\u001b[0m\u001b[0;34m\u001b[0m\u001b[0m\n\u001b[1;32m     12\u001b[0m                 \u001b[0moptimizer\u001b[0m\u001b[0;34m.\u001b[0m\u001b[0mzero_grad\u001b[0m\u001b[0;34m(\u001b[0m\u001b[0;34m)\u001b[0m\u001b[0;34m\u001b[0m\u001b[0;34m\u001b[0m\u001b[0m\n\u001b[1;32m     13\u001b[0m                 \u001b[0;31m# for cell lines\u001b[0m\u001b[0;34m\u001b[0m\u001b[0;34m\u001b[0m\u001b[0m\n",
      "\u001b[0;32m~/miniconda3/envs/tddpm/lib/python3.9/site-packages/torch/utils/data/dataloader.py\u001b[0m in \u001b[0;36m?\u001b[0;34m(self)\u001b[0m\n\u001b[1;32m    640\u001b[0m                     warn_msg += (\"For multiprocessing data-loading, this could be caused by not properly configuring the \"\n\u001b[1;32m    641\u001b[0m                                  \u001b[0;34m\"IterableDataset replica at each worker. Please see \"\u001b[0m\u001b[0;34m\u001b[0m\u001b[0;34m\u001b[0m\u001b[0m\n\u001b[1;32m    642\u001b[0m                                  \"https://pytorch.org/docs/stable/data.html#torch.utils.data.IterableDataset for examples.\")\n\u001b[1;32m    643\u001b[0m                 \u001b[0mwarnings\u001b[0m\u001b[0;34m.\u001b[0m\u001b[0mwarn\u001b[0m\u001b[0;34m(\u001b[0m\u001b[0mwarn_msg\u001b[0m\u001b[0;34m)\u001b[0m\u001b[0;34m\u001b[0m\u001b[0;34m\u001b[0m\u001b[0m\n\u001b[0;32m--> 644\u001b[0;31m             \u001b[0;32mreturn\u001b[0m \u001b[0mdata\u001b[0m\u001b[0;34m\u001b[0m\u001b[0;34m\u001b[0m\u001b[0m\n\u001b[0m",
      "\u001b[0;32m~/miniconda3/envs/tddpm/lib/python3.9/site-packages/torch/utils/data/dataloader.py\u001b[0m in \u001b[0;36m?\u001b[0;34m(self)\u001b[0m\n\u001b[1;32m    673\u001b[0m     \u001b[0;32mdef\u001b[0m \u001b[0m_next_data\u001b[0m\u001b[0;34m(\u001b[0m\u001b[0mself\u001b[0m\u001b[0;34m)\u001b[0m\u001b[0;34m:\u001b[0m\u001b[0;34m\u001b[0m\u001b[0;34m\u001b[0m\u001b[0m\n\u001b[1;32m    674\u001b[0m         \u001b[0mindex\u001b[0m \u001b[0;34m=\u001b[0m \u001b[0mself\u001b[0m\u001b[0;34m.\u001b[0m\u001b[0m_next_index\u001b[0m\u001b[0;34m(\u001b[0m\u001b[0;34m)\u001b[0m  \u001b[0;31m# may raise StopIteration\u001b[0m\u001b[0;34m\u001b[0m\u001b[0;34m\u001b[0m\u001b[0m\n\u001b[0;32m--> 675\u001b[0;31m         \u001b[0mdata\u001b[0m \u001b[0;34m=\u001b[0m \u001b[0mself\u001b[0m\u001b[0;34m.\u001b[0m\u001b[0m_dataset_fetcher\u001b[0m\u001b[0;34m.\u001b[0m\u001b[0mfetch\u001b[0m\u001b[0;34m(\u001b[0m\u001b[0mindex\u001b[0m\u001b[0;34m)\u001b[0m  \u001b[0;31m# may raise StopIteration\u001b[0m\u001b[0;34m\u001b[0m\u001b[0;34m\u001b[0m\u001b[0m\n\u001b[0m\u001b[1;32m    676\u001b[0m         \u001b[0;32mif\u001b[0m \u001b[0mself\u001b[0m\u001b[0;34m.\u001b[0m\u001b[0m_pin_memory\u001b[0m\u001b[0;34m:\u001b[0m\u001b[0;34m\u001b[0m\u001b[0;34m\u001b[0m\u001b[0m\n\u001b[1;32m    677\u001b[0m             \u001b[0mdata\u001b[0m \u001b[0;34m=\u001b[0m \u001b[0m_utils\u001b[0m\u001b[0;34m.\u001b[0m\u001b[0mpin_memory\u001b[0m\u001b[0;34m.\u001b[0m\u001b[0mpin_memory\u001b[0m\u001b[0;34m(\u001b[0m\u001b[0mdata\u001b[0m\u001b[0;34m,\u001b[0m \u001b[0mself\u001b[0m\u001b[0;34m.\u001b[0m\u001b[0m_pin_memory_device\u001b[0m\u001b[0;34m)\u001b[0m\u001b[0;34m\u001b[0m\u001b[0;34m\u001b[0m\u001b[0m\n\u001b[1;32m    678\u001b[0m         \u001b[0;32mreturn\u001b[0m \u001b[0mdata\u001b[0m\u001b[0;34m\u001b[0m\u001b[0;34m\u001b[0m\u001b[0m\n",
      "\u001b[0;32m~/miniconda3/envs/tddpm/lib/python3.9/site-packages/torch/utils/data/_utils/fetch.py\u001b[0m in \u001b[0;36m?\u001b[0;34m(self, possibly_batched_index)\u001b[0m\n\u001b[1;32m     47\u001b[0m         \u001b[0;32mif\u001b[0m \u001b[0mself\u001b[0m\u001b[0;34m.\u001b[0m\u001b[0mauto_collation\u001b[0m\u001b[0;34m:\u001b[0m\u001b[0;34m\u001b[0m\u001b[0;34m\u001b[0m\u001b[0m\n\u001b[1;32m     48\u001b[0m             \u001b[0;32mif\u001b[0m \u001b[0mhasattr\u001b[0m\u001b[0;34m(\u001b[0m\u001b[0mself\u001b[0m\u001b[0;34m.\u001b[0m\u001b[0mdataset\u001b[0m\u001b[0;34m,\u001b[0m \u001b[0;34m\"__getitems__\"\u001b[0m\u001b[0;34m)\u001b[0m \u001b[0;32mand\u001b[0m \u001b[0mself\u001b[0m\u001b[0;34m.\u001b[0m\u001b[0mdataset\u001b[0m\u001b[0;34m.\u001b[0m\u001b[0m__getitems__\u001b[0m\u001b[0;34m:\u001b[0m\u001b[0;34m\u001b[0m\u001b[0;34m\u001b[0m\u001b[0m\n\u001b[1;32m     49\u001b[0m                 \u001b[0mdata\u001b[0m \u001b[0;34m=\u001b[0m \u001b[0mself\u001b[0m\u001b[0;34m.\u001b[0m\u001b[0mdataset\u001b[0m\u001b[0;34m.\u001b[0m\u001b[0m__getitems__\u001b[0m\u001b[0;34m(\u001b[0m\u001b[0mpossibly_batched_index\u001b[0m\u001b[0;34m)\u001b[0m\u001b[0;34m\u001b[0m\u001b[0;34m\u001b[0m\u001b[0m\n\u001b[1;32m     50\u001b[0m             \u001b[0;32melse\u001b[0m\u001b[0;34m:\u001b[0m\u001b[0;34m\u001b[0m\u001b[0;34m\u001b[0m\u001b[0m\n\u001b[0;32m---> 51\u001b[0;31m                 \u001b[0mdata\u001b[0m \u001b[0;34m=\u001b[0m \u001b[0;34m[\u001b[0m\u001b[0mself\u001b[0m\u001b[0;34m.\u001b[0m\u001b[0mdataset\u001b[0m\u001b[0;34m[\u001b[0m\u001b[0midx\u001b[0m\u001b[0;34m]\u001b[0m \u001b[0;32mfor\u001b[0m \u001b[0midx\u001b[0m \u001b[0;32min\u001b[0m \u001b[0mpossibly_batched_index\u001b[0m\u001b[0;34m]\u001b[0m\u001b[0;34m\u001b[0m\u001b[0;34m\u001b[0m\u001b[0m\n\u001b[0m\u001b[1;32m     52\u001b[0m         \u001b[0;32melse\u001b[0m\u001b[0;34m:\u001b[0m\u001b[0;34m\u001b[0m\u001b[0;34m\u001b[0m\u001b[0m\n\u001b[1;32m     53\u001b[0m             \u001b[0mdata\u001b[0m \u001b[0;34m=\u001b[0m \u001b[0mself\u001b[0m\u001b[0;34m.\u001b[0m\u001b[0mdataset\u001b[0m\u001b[0;34m[\u001b[0m\u001b[0mpossibly_batched_index\u001b[0m\u001b[0;34m]\u001b[0m\u001b[0;34m\u001b[0m\u001b[0;34m\u001b[0m\u001b[0m\n\u001b[1;32m     54\u001b[0m         \u001b[0;32mreturn\u001b[0m \u001b[0mself\u001b[0m\u001b[0;34m.\u001b[0m\u001b[0mcollate_fn\u001b[0m\u001b[0;34m(\u001b[0m\u001b[0mdata\u001b[0m\u001b[0;34m)\u001b[0m\u001b[0;34m\u001b[0m\u001b[0;34m\u001b[0m\u001b[0m\n",
      "\u001b[0;32m~/miniconda3/envs/tddpm/lib/python3.9/site-packages/torch/utils/data/_utils/fetch.py\u001b[0m in \u001b[0;36m?\u001b[0;34m(.0)\u001b[0m\n\u001b[0;32m---> 51\u001b[0;31m     \u001b[0;32mdef\u001b[0m \u001b[0mfetch\u001b[0m\u001b[0;34m(\u001b[0m\u001b[0mself\u001b[0m\u001b[0;34m,\u001b[0m \u001b[0mpossibly_batched_index\u001b[0m\u001b[0;34m)\u001b[0m\u001b[0;34m:\u001b[0m\u001b[0;34m\u001b[0m\u001b[0;34m\u001b[0m\u001b[0m\n\u001b[0m\u001b[1;32m     52\u001b[0m         \u001b[0;32mif\u001b[0m \u001b[0mself\u001b[0m\u001b[0;34m.\u001b[0m\u001b[0mauto_collation\u001b[0m\u001b[0;34m:\u001b[0m\u001b[0;34m\u001b[0m\u001b[0;34m\u001b[0m\u001b[0m\n\u001b[1;32m     53\u001b[0m             \u001b[0;32mif\u001b[0m \u001b[0mhasattr\u001b[0m\u001b[0;34m(\u001b[0m\u001b[0mself\u001b[0m\u001b[0;34m.\u001b[0m\u001b[0mdataset\u001b[0m\u001b[0;34m,\u001b[0m \u001b[0;34m\"__getitems__\"\u001b[0m\u001b[0;34m)\u001b[0m \u001b[0;32mand\u001b[0m \u001b[0mself\u001b[0m\u001b[0;34m.\u001b[0m\u001b[0mdataset\u001b[0m\u001b[0;34m.\u001b[0m\u001b[0m__getitems__\u001b[0m\u001b[0;34m:\u001b[0m\u001b[0;34m\u001b[0m\u001b[0;34m\u001b[0m\u001b[0m\n\u001b[1;32m     54\u001b[0m                 \u001b[0mdata\u001b[0m \u001b[0;34m=\u001b[0m \u001b[0mself\u001b[0m\u001b[0;34m.\u001b[0m\u001b[0mdataset\u001b[0m\u001b[0;34m.\u001b[0m\u001b[0m__getitems__\u001b[0m\u001b[0;34m(\u001b[0m\u001b[0mpossibly_batched_index\u001b[0m\u001b[0;34m)\u001b[0m\u001b[0;34m\u001b[0m\u001b[0;34m\u001b[0m\u001b[0m\n",
      "\u001b[0;32m/tmp/ipykernel_18878/3874350825.py\u001b[0m in \u001b[0;36m?\u001b[0;34m(self, idx)\u001b[0m\n\u001b[1;32m      8\u001b[0m     \u001b[0;32mdef\u001b[0m \u001b[0m__getitem__\u001b[0m\u001b[0;34m(\u001b[0m\u001b[0mself\u001b[0m\u001b[0;34m,\u001b[0m \u001b[0midx\u001b[0m\u001b[0;34m)\u001b[0m\u001b[0;34m:\u001b[0m\u001b[0;34m\u001b[0m\u001b[0;34m\u001b[0m\u001b[0m\n\u001b[1;32m      9\u001b[0m         \u001b[0mpatient_id\u001b[0m \u001b[0;34m=\u001b[0m \u001b[0mself\u001b[0m\u001b[0;34m.\u001b[0m\u001b[0minputs\u001b[0m\u001b[0;34m.\u001b[0m\u001b[0miloc\u001b[0m\u001b[0;34m[\u001b[0m\u001b[0midx\u001b[0m\u001b[0;34m]\u001b[0m\u001b[0;34m[\u001b[0m\u001b[0;34m\"patient_id\"\u001b[0m\u001b[0;34m]\u001b[0m\u001b[0;34m\u001b[0m\u001b[0;34m\u001b[0m\u001b[0m\n\u001b[1;32m     10\u001b[0m         \u001b[0mdrug_name\u001b[0m \u001b[0;34m=\u001b[0m \u001b[0mself\u001b[0m\u001b[0;34m.\u001b[0m\u001b[0minputs\u001b[0m\u001b[0;34m.\u001b[0m\u001b[0miloc\u001b[0m\u001b[0;34m[\u001b[0m\u001b[0midx\u001b[0m\u001b[0;34m]\u001b[0m\u001b[0;34m[\u001b[0m\u001b[0;34m\"drug_name\"\u001b[0m\u001b[0;34m]\u001b[0m\u001b[0;34m\u001b[0m\u001b[0;34m\u001b[0m\u001b[0m\n\u001b[0;32m---> 11\u001b[0;31m         \u001b[0;32mreturn\u001b[0m \u001b[0mtorch\u001b[0m\u001b[0;34m.\u001b[0m\u001b[0mtensor\u001b[0m\u001b[0;34m(\u001b[0m\u001b[0mnp\u001b[0m\u001b[0;34m.\u001b[0m\u001b[0mconcatenate\u001b[0m\u001b[0;34m(\u001b[0m\u001b[0;34m(\u001b[0m\u001b[0mself\u001b[0m\u001b[0;34m.\u001b[0m\u001b[0mfeature_df\u001b[0m\u001b[0;34m.\u001b[0m\u001b[0mloc\u001b[0m\u001b[0;34m[\u001b[0m\u001b[0mpatient_id\u001b[0m\u001b[0;34m]\u001b[0m\u001b[0;34m.\u001b[0m\u001b[0mvalues\u001b[0m\u001b[0;34m,\u001b[0m \u001b[0mself\u001b[0m\u001b[0;34m.\u001b[0m\u001b[0mdrug_df\u001b[0m\u001b[0;34m.\u001b[0m\u001b[0mloc\u001b[0m\u001b[0;34m[\u001b[0m\u001b[0mdrug_name\u001b[0m\u001b[0;34m]\u001b[0m\u001b[0;34m.\u001b[0m\u001b[0mvalues\u001b[0m\u001b[0;34m)\u001b[0m\u001b[0;34m)\u001b[0m\u001b[0;34m)\u001b[0m\u001b[0;34m\u001b[0m\u001b[0;34m\u001b[0m\u001b[0m\n\u001b[0m",
      "\u001b[0;32m~/miniconda3/envs/tddpm/lib/python3.9/site-packages/pandas/core/indexing.py\u001b[0m in \u001b[0;36m?\u001b[0;34m(self, key)\u001b[0m\n\u001b[1;32m   1187\u001b[0m             \u001b[0maxis\u001b[0m \u001b[0;34m=\u001b[0m \u001b[0mself\u001b[0m\u001b[0;34m.\u001b[0m\u001b[0maxis\u001b[0m \u001b[0;32mor\u001b[0m \u001b[0;36m0\u001b[0m\u001b[0;34m\u001b[0m\u001b[0;34m\u001b[0m\u001b[0m\n\u001b[1;32m   1188\u001b[0m \u001b[0;34m\u001b[0m\u001b[0m\n\u001b[1;32m   1189\u001b[0m             \u001b[0mmaybe_callable\u001b[0m \u001b[0;34m=\u001b[0m \u001b[0mcom\u001b[0m\u001b[0;34m.\u001b[0m\u001b[0mapply_if_callable\u001b[0m\u001b[0;34m(\u001b[0m\u001b[0mkey\u001b[0m\u001b[0;34m,\u001b[0m \u001b[0mself\u001b[0m\u001b[0;34m.\u001b[0m\u001b[0mobj\u001b[0m\u001b[0;34m)\u001b[0m\u001b[0;34m\u001b[0m\u001b[0;34m\u001b[0m\u001b[0m\n\u001b[1;32m   1190\u001b[0m             \u001b[0mmaybe_callable\u001b[0m \u001b[0;34m=\u001b[0m \u001b[0mself\u001b[0m\u001b[0;34m.\u001b[0m\u001b[0m_check_deprecated_callable_usage\u001b[0m\u001b[0;34m(\u001b[0m\u001b[0mkey\u001b[0m\u001b[0;34m,\u001b[0m \u001b[0mmaybe_callable\u001b[0m\u001b[0;34m)\u001b[0m\u001b[0;34m\u001b[0m\u001b[0;34m\u001b[0m\u001b[0m\n\u001b[0;32m-> 1191\u001b[0;31m             \u001b[0;32mreturn\u001b[0m \u001b[0mself\u001b[0m\u001b[0;34m.\u001b[0m\u001b[0m_getitem_axis\u001b[0m\u001b[0;34m(\u001b[0m\u001b[0mmaybe_callable\u001b[0m\u001b[0;34m,\u001b[0m \u001b[0maxis\u001b[0m\u001b[0;34m=\u001b[0m\u001b[0maxis\u001b[0m\u001b[0;34m)\u001b[0m\u001b[0;34m\u001b[0m\u001b[0;34m\u001b[0m\u001b[0m\n\u001b[0m",
      "\u001b[0;32m~/miniconda3/envs/tddpm/lib/python3.9/site-packages/pandas/core/indexing.py\u001b[0m in \u001b[0;36m?\u001b[0;34m(self, key, axis)\u001b[0m\n\u001b[1;32m   1427\u001b[0m                 \u001b[0;32mreturn\u001b[0m \u001b[0mself\u001b[0m\u001b[0;34m.\u001b[0m\u001b[0mobj\u001b[0m\u001b[0;34m.\u001b[0m\u001b[0miloc\u001b[0m\u001b[0;34m[\u001b[0m\u001b[0mtuple\u001b[0m\u001b[0;34m(\u001b[0m\u001b[0mindexer\u001b[0m\u001b[0;34m)\u001b[0m\u001b[0;34m]\u001b[0m\u001b[0;34m\u001b[0m\u001b[0;34m\u001b[0m\u001b[0m\n\u001b[1;32m   1428\u001b[0m \u001b[0;34m\u001b[0m\u001b[0m\n\u001b[1;32m   1429\u001b[0m         \u001b[0;31m# fall thru to straight lookup\u001b[0m\u001b[0;34m\u001b[0m\u001b[0;34m\u001b[0m\u001b[0m\n\u001b[1;32m   1430\u001b[0m         \u001b[0mself\u001b[0m\u001b[0;34m.\u001b[0m\u001b[0m_validate_key\u001b[0m\u001b[0;34m(\u001b[0m\u001b[0mkey\u001b[0m\u001b[0;34m,\u001b[0m \u001b[0maxis\u001b[0m\u001b[0;34m)\u001b[0m\u001b[0;34m\u001b[0m\u001b[0;34m\u001b[0m\u001b[0m\n\u001b[0;32m-> 1431\u001b[0;31m         \u001b[0;32mreturn\u001b[0m \u001b[0mself\u001b[0m\u001b[0;34m.\u001b[0m\u001b[0m_get_label\u001b[0m\u001b[0;34m(\u001b[0m\u001b[0mkey\u001b[0m\u001b[0;34m,\u001b[0m \u001b[0maxis\u001b[0m\u001b[0;34m=\u001b[0m\u001b[0maxis\u001b[0m\u001b[0;34m)\u001b[0m\u001b[0;34m\u001b[0m\u001b[0;34m\u001b[0m\u001b[0m\n\u001b[0m",
      "\u001b[0;32m~/miniconda3/envs/tddpm/lib/python3.9/site-packages/pandas/core/indexing.py\u001b[0m in \u001b[0;36m?\u001b[0;34m(self, label, axis)\u001b[0m\n\u001b[1;32m   1379\u001b[0m     \u001b[0;32mdef\u001b[0m \u001b[0m_get_label\u001b[0m\u001b[0;34m(\u001b[0m\u001b[0mself\u001b[0m\u001b[0;34m,\u001b[0m \u001b[0mlabel\u001b[0m\u001b[0;34m,\u001b[0m \u001b[0maxis\u001b[0m\u001b[0;34m:\u001b[0m \u001b[0mAxisInt\u001b[0m\u001b[0;34m)\u001b[0m\u001b[0;34m:\u001b[0m\u001b[0;34m\u001b[0m\u001b[0;34m\u001b[0m\u001b[0m\n\u001b[1;32m   1380\u001b[0m         \u001b[0;31m# GH#5567 this will fail if the label is not present in the axis.\u001b[0m\u001b[0;34m\u001b[0m\u001b[0;34m\u001b[0m\u001b[0m\n\u001b[0;32m-> 1381\u001b[0;31m         \u001b[0;32mreturn\u001b[0m \u001b[0mself\u001b[0m\u001b[0;34m.\u001b[0m\u001b[0mobj\u001b[0m\u001b[0;34m.\u001b[0m\u001b[0mxs\u001b[0m\u001b[0;34m(\u001b[0m\u001b[0mlabel\u001b[0m\u001b[0;34m,\u001b[0m \u001b[0maxis\u001b[0m\u001b[0;34m=\u001b[0m\u001b[0maxis\u001b[0m\u001b[0;34m)\u001b[0m\u001b[0;34m\u001b[0m\u001b[0;34m\u001b[0m\u001b[0m\n\u001b[0m",
      "\u001b[0;32m~/miniconda3/envs/tddpm/lib/python3.9/site-packages/pandas/core/generic.py\u001b[0m in \u001b[0;36m?\u001b[0;34m(self, key, axis, level, drop_level)\u001b[0m\n\u001b[1;32m   4259\u001b[0m         \u001b[0mbird\u001b[0m    \u001b[0mpenguin\u001b[0m  \u001b[0mwalks\u001b[0m         \u001b[0;36m2\u001b[0m\u001b[0;34m\u001b[0m\u001b[0;34m\u001b[0m\u001b[0m\n\u001b[1;32m   4260\u001b[0m         \u001b[0mName\u001b[0m\u001b[0;34m:\u001b[0m \u001b[0mnum_wings\u001b[0m\u001b[0;34m,\u001b[0m \u001b[0mdtype\u001b[0m\u001b[0;34m:\u001b[0m \u001b[0mint64\u001b[0m\u001b[0;34m\u001b[0m\u001b[0;34m\u001b[0m\u001b[0m\n\u001b[1;32m   4261\u001b[0m         \"\"\"\n\u001b[1;32m   4262\u001b[0m         \u001b[0maxis\u001b[0m \u001b[0;34m=\u001b[0m \u001b[0mself\u001b[0m\u001b[0;34m.\u001b[0m\u001b[0m_get_axis_number\u001b[0m\u001b[0;34m(\u001b[0m\u001b[0maxis\u001b[0m\u001b[0;34m)\u001b[0m\u001b[0;34m\u001b[0m\u001b[0;34m\u001b[0m\u001b[0m\n\u001b[0;32m-> 4263\u001b[0;31m         \u001b[0mlabels\u001b[0m \u001b[0;34m=\u001b[0m \u001b[0mself\u001b[0m\u001b[0;34m.\u001b[0m\u001b[0m_get_axis\u001b[0m\u001b[0;34m(\u001b[0m\u001b[0maxis\u001b[0m\u001b[0;34m)\u001b[0m\u001b[0;34m\u001b[0m\u001b[0;34m\u001b[0m\u001b[0m\n\u001b[0m\u001b[1;32m   4264\u001b[0m \u001b[0;34m\u001b[0m\u001b[0m\n\u001b[1;32m   4265\u001b[0m         \u001b[0;32mif\u001b[0m \u001b[0misinstance\u001b[0m\u001b[0;34m(\u001b[0m\u001b[0mkey\u001b[0m\u001b[0;34m,\u001b[0m \u001b[0mlist\u001b[0m\u001b[0;34m)\u001b[0m\u001b[0;34m:\u001b[0m\u001b[0;34m\u001b[0m\u001b[0;34m\u001b[0m\u001b[0m\n\u001b[1;32m   4266\u001b[0m             \u001b[0;32mraise\u001b[0m \u001b[0mTypeError\u001b[0m\u001b[0;34m(\u001b[0m\u001b[0;34m\"list keys are not supported in xs, pass a tuple instead\"\u001b[0m\u001b[0;34m)\u001b[0m\u001b[0;34m\u001b[0m\u001b[0;34m\u001b[0m\u001b[0m\n",
      "\u001b[0;31mKeyboardInterrupt\u001b[0m: "
     ]
    }
   ],
   "source": [
    "train_losses = training_loop_ldm_coral_conditioning(train_dataloaders, test_dataloaders, 30, diffusion_models, vaes, device, optim)"
   ]
  },
  {
   "cell_type": "code",
   "execution_count": 39,
   "id": "c8f6f59e-5d4a-49c6-83f5-261991360953",
   "metadata": {},
   "outputs": [
    {
     "ename": "NameError",
     "evalue": "name 'train_losses' is not defined",
     "output_type": "error",
     "traceback": [
      "\u001b[0;31m---------------------------------------------------------------------------\u001b[0m",
      "\u001b[0;31mNameError\u001b[0m                                 Traceback (most recent call last)",
      "Cell \u001b[0;32mIn[39], line 1\u001b[0m\n\u001b[0;32m----> 1\u001b[0m plt\u001b[38;5;241m.\u001b[39mplot(\u001b[43mtrain_losses\u001b[49m)\n",
      "\u001b[0;31mNameError\u001b[0m: name 'train_losses' is not defined"
     ]
    }
   ],
   "source": [
    "plt.plot(train_losses)"
   ]
  },
  {
   "cell_type": "code",
   "execution_count": 40,
   "id": "14746b27-3493-4245-bec9-97571806a6f1",
   "metadata": {},
   "outputs": [],
   "source": [
    "torch.save(cl_diff_model.state_dict(), \"/data/ajayago/druid/intermediate/cs6220/cl_diff_model_clconditioned_uda_v3_druginput.pth\")\n",
    "torch.save(tcga_diff_model.state_dict(), \"/data/ajayago/druid/intermediate/cs6220/tcga_diff_model_clconditioned_uda_v3_druginput.pth\")"
   ]
  },
  {
   "cell_type": "markdown",
   "id": "e9269833-48c8-41b6-989f-1c5304eb70f9",
   "metadata": {},
   "source": [
    "#### Data Augmentation using cell lines"
   ]
  },
  {
   "cell_type": "code",
   "execution_count": 30,
   "id": "c660ac80-a252-48e0-8ad7-a454c5301000",
   "metadata": {},
   "outputs": [
    {
     "name": "stdout",
     "output_type": "stream",
     "text": [
      "U: encoder \n",
      "Sequential(\n",
      "  (enc-0): Linear(in_features=7776, out_features=1024, bias=True)\n",
      "  (act-0): Tanh()\n",
      "  (enc-1): Linear(in_features=1024, out_features=128, bias=True)\n",
      "  (act-1): Tanh()\n",
      ")\n",
      "#\n",
      "mu_layer: \n",
      "Linear(in_features=128, out_features=64, bias=True)\n",
      "#\n",
      "sigma_layer: \n",
      "Linear(in_features=128, out_features=64, bias=True)\n",
      "#\n",
      "U: decoder \n",
      "Sequential(\n",
      "  (-dec-0): Linear(in_features=64, out_features=128, bias=True)\n",
      "  (-act-0): Tanh()\n",
      "  (dec-0): Linear(in_features=128, out_features=1024, bias=True)\n",
      "  (act-0): Tanh()\n",
      "  (dec-1): Linear(in_features=1024, out_features=7776, bias=True)\n",
      "  (act-1): Tanh()\n",
      ")\n",
      "U: encoder \n",
      "Sequential(\n",
      "  (enc-0): Linear(in_features=7776, out_features=1024, bias=True)\n",
      "  (act-0): Tanh()\n",
      "  (enc-1): Linear(in_features=1024, out_features=128, bias=True)\n",
      "  (act-1): Tanh()\n",
      ")\n",
      "#\n",
      "mu_layer: \n",
      "Linear(in_features=128, out_features=64, bias=True)\n",
      "#\n",
      "sigma_layer: \n",
      "Linear(in_features=128, out_features=64, bias=True)\n",
      "#\n",
      "U: decoder \n",
      "Sequential(\n",
      "  (-dec-0): Linear(in_features=64, out_features=128, bias=True)\n",
      "  (-act-0): Tanh()\n",
      "  (dec-0): Linear(in_features=128, out_features=1024, bias=True)\n",
      "  (act-0): Tanh()\n",
      "  (dec-1): Linear(in_features=1024, out_features=7776, bias=True)\n",
      "  (act-1): Tanh()\n",
      ")\n"
     ]
    }
   ],
   "source": [
    "# cl_vae = vae(input_dim=7776, k_list=[1024, 128], actf_list=[\"tanh\", \"tanh\"], is_real=True)\n",
    "# tcga_vae = vae(input_dim=7776, k_list=[1024, 128], actf_list=[\"tanh\", \"tanh\"], is_real=True)"
   ]
  },
  {
   "cell_type": "code",
   "execution_count": 31,
   "id": "fb858079-7f7d-47b6-9964-73a4ce91d94e",
   "metadata": {},
   "outputs": [
    {
     "data": {
      "text/plain": [
       "<All keys matched successfully>"
      ]
     },
     "execution_count": 31,
     "metadata": {},
     "output_type": "execute_result"
    }
   ],
   "source": [
    "# cl_vae.load_state_dict(torch.load(\"/data/ajayago/druid/intermediate/cs6220/vae_cell_line_clconditioned.pth\"))"
   ]
  },
  {
   "cell_type": "code",
   "execution_count": 32,
   "id": "3cfd93ec-066b-4fb0-9a6c-75866a633259",
   "metadata": {},
   "outputs": [
    {
     "data": {
      "text/plain": [
       "<All keys matched successfully>"
      ]
     },
     "execution_count": 32,
     "metadata": {},
     "output_type": "execute_result"
    }
   ],
   "source": [
    "# tcga_vae.load_state_dict(torch.load(\"/data/ajayago/druid/intermediate/cs6220/vae_patient_clconditioned.pth\"))"
   ]
  },
  {
   "cell_type": "code",
   "execution_count": 33,
   "id": "c81454cc-2fc7-4cd2-bbbf-229884502d2f",
   "metadata": {},
   "outputs": [
    {
     "data": {
      "text/plain": [
       "<All keys matched successfully>"
      ]
     },
     "execution_count": 33,
     "metadata": {},
     "output_type": "execute_result"
    }
   ],
   "source": [
    "# cl_mlp_diffusion_model = MLPDiffusion(d_in=64, num_classes=0, is_y_cond=False, rtdl_params={\"d_layers\": [16], \"dropout\": 0.1})\n",
    "# cl_diff_model = GaussianMultinomialDiffusion(num_classes=np.array([0]), num_numerical_features=64, denoise_fn=cl_mlp_diffusion_model)\n",
    "# cl_diff_model.load_state_dict(torch.load(\"/data/ajayago/druid/intermediate/cs6220/cl_diff_model_clconditioned.pth\"))"
   ]
  },
  {
   "cell_type": "code",
   "execution_count": 34,
   "id": "b5a01582-9a34-408a-a690-04505fafa39a",
   "metadata": {},
   "outputs": [
    {
     "data": {
      "text/plain": [
       "<All keys matched successfully>"
      ]
     },
     "execution_count": 34,
     "metadata": {},
     "output_type": "execute_result"
    }
   ],
   "source": [
    "# tcga_mlp_diffusion_model = MLPDiffusion(d_in=64, num_classes=0, is_y_cond=False, rtdl_params={\"d_layers\": [16], \"dropout\": 0.1})\n",
    "# tcga_diff_model = GaussianMultinomialDiffusion(num_classes=np.array([0]), num_numerical_features=64, denoise_fn=tcga_mlp_diffusion_model)\n",
    "# tcga_diff_model.load_state_dict(torch.load(\"/data/ajayago/druid/intermediate/cs6220/tcga_diff_model_clconditioned.pth\"))"
   ]
  },
  {
   "cell_type": "code",
   "execution_count": 41,
   "id": "65cbb1cb-09bf-42c0-ac9e-16755ab46559",
   "metadata": {},
   "outputs": [
    {
     "data": {
      "text/plain": [
       "MLPDiffusion(\n",
       "  (mlp): MLP(\n",
       "    (blocks): ModuleList(\n",
       "      (0): Block(\n",
       "        (linear): Linear(in_features=128, out_features=32, bias=True)\n",
       "        (activation): ReLU()\n",
       "        (dropout): Dropout(p=0.1, inplace=False)\n",
       "      )\n",
       "    )\n",
       "    (head): Linear(in_features=32, out_features=64, bias=True)\n",
       "  )\n",
       "  (proj): Linear(in_features=64, out_features=128, bias=True)\n",
       "  (time_embed): Sequential(\n",
       "    (0): Linear(in_features=128, out_features=128, bias=True)\n",
       "    (1): SiLU()\n",
       "    (2): Linear(in_features=128, out_features=128, bias=True)\n",
       "  )\n",
       ")"
      ]
     },
     "execution_count": 41,
     "metadata": {},
     "output_type": "execute_result"
    }
   ],
   "source": [
    "# inference\n",
    "cl_diff_model.eval()\n",
    "tcga_diff_model.eval()\n",
    "cl_vae.eval()\n",
    "patient_vae.eval()\n",
    "cl_mlp_diffusion_model.eval()\n",
    "tcga_mlp_diffusion_model.eval()"
   ]
  },
  {
   "cell_type": "code",
   "execution_count": 42,
   "id": "440152f8-bea3-40b5-9630-123128094175",
   "metadata": {},
   "outputs": [],
   "source": [
    "def augmented_cl(dataloader):\n",
    "    augmented = []\n",
    "    for idx, batch in enumerate(dataloader):\n",
    "        inp_vae = batch.to(device, dtype=torch.float32)\n",
    "        inp, mu, logvar, _ = cl_vae(inp_vae) # From VAE encoder + reparameterization\n",
    "        \n",
    "        noise = torch.randn_like(inp) # this is the label we use   \n",
    "        b = inp.shape[0]\n",
    "        # t, pt = diffusion_model[\"cell_line\"].sample_time(b, device, 'uniform')\n",
    "        t = (torch.ones((b,)) * 700).long().to(device) # fixing time steps to 700\n",
    "        pt = torch.ones_like(t).float() / cl_diff_model.num_timesteps\n",
    "        inp_t = cl_diff_model.gaussian_q_sample(inp, t, noise) # forward process with cell line model encoder\n",
    "        model_out = tcga_diff_model._denoise_fn(inp_t, t) # predicted epsilon from patient decoder\n",
    "    \n",
    "        # predict inp from noise using patient model\n",
    "        inp_pred = tcga_diff_model._predict_xstart_from_eps(inp_t, t, model_out)\n",
    "        out_vae = patient_vae.decoder(inp_pred) # after VAE decoding with patient decoder\n",
    "        augmented.append(out_vae)\n",
    "    return torch.cat(augmented, axis = 0)"
   ]
  },
  {
   "cell_type": "code",
   "execution_count": 43,
   "id": "a77e224d-2477-4a4a-b615-2b37a458c23c",
   "metadata": {},
   "outputs": [],
   "source": [
    "augmented_cl_data_test = augmented_cl(cl_test_dataloader)"
   ]
  },
  {
   "cell_type": "code",
   "execution_count": 44,
   "id": "b756f3d9-0cc2-4d1a-8665-1cac7102ec58",
   "metadata": {},
   "outputs": [
    {
     "data": {
      "text/plain": [
       "torch.Size([71400, 9824])"
      ]
     },
     "execution_count": 44,
     "metadata": {},
     "output_type": "execute_result"
    }
   ],
   "source": [
    "augmented_cl_data_test.shape"
   ]
  },
  {
   "cell_type": "code",
   "execution_count": 45,
   "id": "58c7556b-8112-462f-b5d8-18012e0cb011",
   "metadata": {},
   "outputs": [
    {
     "ename": "OutOfMemoryError",
     "evalue": "CUDA out of memory. Tried to allocate 23.43 GiB. GPU 0 has a total capacity of 44.32 GiB of which 11.13 GiB is free. Including non-PyTorch memory, this process has 33.17 GiB memory in use. Of the allocated memory 32.51 GiB is allocated by PyTorch, and 166.40 MiB is reserved by PyTorch but unallocated. If reserved but unallocated memory is large try setting PYTORCH_CUDA_ALLOC_CONF=expandable_segments:True to avoid fragmentation.  See documentation for Memory Management  (https://pytorch.org/docs/stable/notes/cuda.html#environment-variables)",
     "output_type": "error",
     "traceback": [
      "\u001b[0;31m---------------------------------------------------------------------------\u001b[0m",
      "\u001b[0;31mOutOfMemoryError\u001b[0m                          Traceback (most recent call last)",
      "Cell \u001b[0;32mIn[45], line 1\u001b[0m\n\u001b[0;32m----> 1\u001b[0m augmented_cl_data_train \u001b[38;5;241m=\u001b[39m \u001b[43maugmented_cl\u001b[49m\u001b[43m(\u001b[49m\u001b[43mcl_train_dataloader\u001b[49m\u001b[43m)\u001b[49m\n",
      "Cell \u001b[0;32mIn[42], line 19\u001b[0m, in \u001b[0;36maugmented_cl\u001b[0;34m(dataloader)\u001b[0m\n\u001b[1;32m     17\u001b[0m     out_vae \u001b[38;5;241m=\u001b[39m patient_vae\u001b[38;5;241m.\u001b[39mdecoder(inp_pred) \u001b[38;5;66;03m# after VAE decoding with patient decoder\u001b[39;00m\n\u001b[1;32m     18\u001b[0m     augmented\u001b[38;5;241m.\u001b[39mappend(out_vae)\n\u001b[0;32m---> 19\u001b[0m \u001b[38;5;28;01mreturn\u001b[39;00m \u001b[43mtorch\u001b[49m\u001b[38;5;241;43m.\u001b[39;49m\u001b[43mcat\u001b[49m\u001b[43m(\u001b[49m\u001b[43maugmented\u001b[49m\u001b[43m,\u001b[49m\u001b[43m \u001b[49m\u001b[43maxis\u001b[49m\u001b[43m \u001b[49m\u001b[38;5;241;43m=\u001b[39;49m\u001b[43m \u001b[49m\u001b[38;5;241;43m0\u001b[39;49m\u001b[43m)\u001b[49m\n",
      "\u001b[0;31mOutOfMemoryError\u001b[0m: CUDA out of memory. Tried to allocate 23.43 GiB. GPU 0 has a total capacity of 44.32 GiB of which 11.13 GiB is free. Including non-PyTorch memory, this process has 33.17 GiB memory in use. Of the allocated memory 32.51 GiB is allocated by PyTorch, and 166.40 MiB is reserved by PyTorch but unallocated. If reserved but unallocated memory is large try setting PYTORCH_CUDA_ALLOC_CONF=expandable_segments:True to avoid fragmentation.  See documentation for Memory Management  (https://pytorch.org/docs/stable/notes/cuda.html#environment-variables)"
     ]
    }
   ],
   "source": [
    "augmented_cl_data_train = augmented_cl(cl_train_dataloader)"
   ]
  },
  {
   "cell_type": "code",
   "execution_count": null,
   "id": "c942a8ce-f9a9-41fd-957b-fc20573691df",
   "metadata": {},
   "outputs": [],
   "source": [
    "augmented_cl_data_train.shape"
   ]
  },
  {
   "cell_type": "markdown",
   "id": "83e78a1b-2a87-4ecc-a380-0093daefddcc",
   "metadata": {},
   "source": [
    "#### Plotting TSNE for the augmented cell line data and actual patient data"
   ]
  },
  {
   "cell_type": "code",
   "execution_count": 46,
   "id": "752cb782-479b-416a-b69d-1a18739b9512",
   "metadata": {},
   "outputs": [],
   "source": [
    "from sklearn.manifold import TSNE"
   ]
  },
  {
   "cell_type": "code",
   "execution_count": 48,
   "id": "3427a349-1e22-434f-ae0e-364507f9b2a7",
   "metadata": {},
   "outputs": [],
   "source": [
    "tsne = TSNE()"
   ]
  },
  {
   "cell_type": "code",
   "execution_count": 49,
   "id": "5ddb7109-6bd8-4895-bc45-9d0e9a2df0ba",
   "metadata": {},
   "outputs": [],
   "source": [
    "tcga_tsne = tsne.fit_transform(pd.concat([tcga_train_df, tcga_test_df]).values)"
   ]
  },
  {
   "cell_type": "code",
   "execution_count": 50,
   "id": "ad71e0aa-1fb3-42f8-8212-eb0760154a3d",
   "metadata": {},
   "outputs": [
    {
     "data": {
      "text/plain": [
       "(71400, 9824)"
      ]
     },
     "execution_count": 50,
     "metadata": {},
     "output_type": "execute_result"
    }
   ],
   "source": [
    "# augmented_cell_line = torch.cat((augmented_cl_data_train, augmented_cl_data_test), axis = 0).cpu().detach().numpy()\n",
    "augmented_cell_line = augmented_cl_data_test.cpu().detach().numpy()\n",
    "augmented_cell_line.shape"
   ]
  },
  {
   "cell_type": "code",
   "execution_count": null,
   "id": "3a579cc7-efb5-4184-be5f-bd9858318b51",
   "metadata": {},
   "outputs": [],
   "source": [
    "cl_metadata = pd.read_csv(\"/data/ajayago/druid/\")"
   ]
  },
  {
   "cell_type": "code",
   "execution_count": null,
   "id": "0588466e-fb35-4801-b4d9-3ca8ab942be7",
   "metadata": {},
   "outputs": [
    {
     "name": "stdout",
     "output_type": "stream",
     "text": [
      "ERROR! Session/line number was not unique in database. History logging moved to new session 253\n"
     ]
    }
   ],
   "source": [
    "augmented_cell_line_tsne = tsne.fit_transform(augmented_cell_line)"
   ]
  },
  {
   "cell_type": "code",
   "execution_count": 61,
   "id": "06e96ceb-b0d4-4b32-9c93-569818b1cda1",
   "metadata": {},
   "outputs": [
    {
     "data": {
      "text/plain": [
       "<matplotlib.collections.PathCollection at 0x7f4688e72370>"
      ]
     },
     "execution_count": 61,
     "metadata": {},
     "output_type": "execute_result"
    },
    {
     "data": {
      "image/png": "[encoded data removed]",
      "text/plain": [
       "<Figure size 640x480 with 1 Axes>"
      ]
     },
     "metadata": {},
     "output_type": "display_data"
    }
   ],
   "source": [
    "plt.scatter(tcga_tsne[:,0], tcga_tsne[:, 1])\n",
    "plt.scatter(augmented_cell_line_tsne[:,0], augmented_cell_line_tsne[:, 1], marker=\"x\")"
   ]
  },
  {
   "cell_type": "code",
   "execution_count": 48,
   "id": "289fe087-1280-44df-84a6-7dc676b9db8e",
   "metadata": {},
   "outputs": [
    {
     "data": {
      "text/plain": [
       "(1744, 2)"
      ]
     },
     "execution_count": 48,
     "metadata": {},
     "output_type": "execute_result"
    }
   ],
   "source": [
    "# on original cell line data\n",
    "augmented_cell_line_tsne_orig = tsne.fit_transform(pd.concat([cl_train_df, cl_test_df]).values)\n",
    "augmented_cell_line_tsne_orig.shape"
   ]
  },
  {
   "cell_type": "code",
   "execution_count": 49,
   "id": "7f340128-aa2a-4633-990a-21d3b60cbb8e",
   "metadata": {},
   "outputs": [
    {
     "data": {
      "text/plain": [
       "<matplotlib.collections.PathCollection at 0x7f46986981f0>"
      ]
     },
     "execution_count": 49,
     "metadata": {},
     "output_type": "execute_result"
    },
    {
     "data": {
      "image/png": "[encoded data removed]",
      "text/plain": [
       "<Figure size 640x480 with 1 Axes>"
      ]
     },
     "metadata": {},
     "output_type": "display_data"
    }
   ],
   "source": [
    "plt.scatter(tcga_tsne[:,0], tcga_tsne[:, 1])\n",
    "plt.scatter(augmented_cell_line_tsne[:,0], augmented_cell_line_tsne[:, 1], marker=\"x\")\n",
    "plt.scatter(augmented_cell_line_tsne_orig[:,0], augmented_cell_line_tsne_orig[:, 1], marker=\"*\")"
   ]
  },
  {
   "cell_type": "code",
   "execution_count": 70,
   "id": "8d662c11-034c-4745-9130-48b975fc8266",
   "metadata": {},
   "outputs": [
    {
     "name": "stdout",
     "output_type": "stream",
     "text": [
      "(1744, 7776)\n"
     ]
    }
   ],
   "source": [
    "augmented_cl_df = pd.DataFrame(augmented_cell_line, columns = cl_train_df.columns, index=list(cl_train_df.index) + list(cl_test_df.index))\n",
    "print(augmented_cl_df.shape)\n",
    "augmented_cl_df.to_csv(\"/data/ajayago/druid/intermediate/cs6220/augmented_cl_clconditioned_uda_v2.csv\")"
   ]
  },
  {
   "cell_type": "code",
   "execution_count": 51,
   "id": "c2867012-017f-483e-903d-aaffe11a4bf9",
   "metadata": {},
   "outputs": [
    {
     "name": "stderr",
     "output_type": "stream",
     "text": [
      "/home/ajayago/miniconda3/envs/tddpm/lib/python3.9/site-packages/tqdm/auto.py:21: TqdmWarning: IProgress not found. Please update jupyter and ipywidgets. See https://ipywidgets.readthedocs.io/en/stable/user_install.html\n",
      "  from .autonotebook import tqdm as notebook_tqdm\n"
     ]
    }
   ],
   "source": [
    "import umap"
   ]
  },
  {
   "cell_type": "code",
   "execution_count": 52,
   "id": "67296c59-3b3f-4b57-bc84-9396bef5e178",
   "metadata": {},
   "outputs": [],
   "source": [
    "reducer = umap.UMAP(metric=\"cosine\", init=\"spectral\")"
   ]
  },
  {
   "cell_type": "code",
   "execution_count": 53,
   "id": "5d26edfc-5894-42c2-b3aa-4b8c3652984a",
   "metadata": {},
   "outputs": [],
   "source": [
    "tcga_umap = reducer.fit_transform(pd.concat([tcga_train_df, tcga_test_df]).values)"
   ]
  },
  {
   "cell_type": "code",
   "execution_count": 54,
   "id": "041ee3ca-2bef-4dcc-bd0c-9369acd6434b",
   "metadata": {},
   "outputs": [
    {
     "data": {
      "text/plain": [
       "(596, 2)"
      ]
     },
     "execution_count": 54,
     "metadata": {},
     "output_type": "execute_result"
    }
   ],
   "source": [
    "tcga_umap.shape"
   ]
  },
  {
   "cell_type": "code",
   "execution_count": 55,
   "id": "61a9091e-8aab-4460-a536-0706589834cf",
   "metadata": {},
   "outputs": [
    {
     "data": {
      "text/plain": [
       "(1744, 2)"
      ]
     },
     "execution_count": 55,
     "metadata": {},
     "output_type": "execute_result"
    }
   ],
   "source": [
    "augmented_cell_line_umap = reducer.fit_transform(augmented_cell_line)\n",
    "augmented_cell_line_umap.shape"
   ]
  },
  {
   "cell_type": "code",
   "execution_count": 56,
   "id": "e7c72e0f-98fe-4dd2-9886-996abd34c367",
   "metadata": {},
   "outputs": [
    {
     "data": {
      "text/plain": [
       "<matplotlib.collections.PathCollection at 0x7f46500e8c40>"
      ]
     },
     "execution_count": 56,
     "metadata": {},
     "output_type": "execute_result"
    },
    {
     "data": {
      "image/png": "[encoded data removed]",
      "text/plain": [
       "<Figure size 640x480 with 1 Axes>"
      ]
     },
     "metadata": {},
     "output_type": "display_data"
    }
   ],
   "source": [
    "plt.scatter(tcga_umap[:,0], tcga_umap[:, 1])\n",
    "plt.scatter(augmented_cell_line_umap[:,0], augmented_cell_line_umap[:, 1])"
   ]
  },
  {
   "cell_type": "code",
   "execution_count": null,
   "id": "5044db22-82d5-42aa-af11-6a5304863838",
   "metadata": {},
   "outputs": [],
   "source": []
  }
 ],
 "metadata": {
  "kernelspec": {
   "display_name": "Python [conda env:tddpm] *",
   "language": "python",
   "name": "conda-env-tddpm-py"
  },
  "language_info": {
   "codemirror_mode": {
    "name": "ipython",
    "version": 3
   },
   "file_extension": ".py",
   "mimetype": "text/x-python",
   "name": "python",
   "nbconvert_exporter": "python",
   "pygments_lexer": "ipython3",
   "version": "3.9.18"
  }
 },
 "nbformat": 4,
 "nbformat_minor": 5
}
