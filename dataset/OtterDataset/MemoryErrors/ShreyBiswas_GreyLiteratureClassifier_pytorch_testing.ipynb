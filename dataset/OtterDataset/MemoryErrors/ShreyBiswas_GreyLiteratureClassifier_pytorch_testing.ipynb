{
 "cells": [
  {
   "cell_type": "code",
   "execution_count": 1,
   "metadata": {},
   "outputs": [],
   "source": [
    "# import pandas as pd\n",
    "import cudf as pd\n",
    "from tqdm.auto import tqdm\n",
    "import torch\n"
   ]
  },
  {
   "cell_type": "code",
   "execution_count": 2,
   "metadata": {},
   "outputs": [
    {
     "name": "stdout",
     "output_type": "stream",
     "text": [
      "Loading data...\n"
     ]
    },
    {
     "name": "stderr",
     "output_type": "stream",
     "text": [
      "/workspace/GreyLit/venv/lib/python3.10/site-packages/cudf/io/json.py:108: UserWarning: Using CPU via Pandas to read JSON dataset, this may be GPU accelerated in the future\n",
      "  warnings.warn(\n"
     ]
    },
    {
     "name": "stdout",
     "output_type": "stream",
     "text": [
      "Data loaded.\n",
      "<class 'cudf.core.dataframe.DataFrame'>\n",
      "RangeIndex: 10688 entries, 0 to 10687\n",
      "Data columns (total 4 columns):\n",
      " #   Column        Non-Null Count  Dtype\n",
      "---  ------        --------------  -----\n",
      " 0   url           10688 non-null  object\n",
      " 1   text          10688 non-null  object\n",
      " 2   relevance     10688 non-null  object\n",
      " 3   multiclasses  10688 non-null  list\n",
      "dtypes: list(1), object(3)\n",
      "memory usage: 1.3+ GB\n"
     ]
    },
    {
     "data": {
      "text/html": [
       "<div>\n",
       "<style scoped>\n",
       "    .dataframe tbody tr th:only-of-type {\n",
       "        vertical-align: middle;\n",
       "    }\n",
       "\n",
       "    .dataframe tbody tr th {\n",
       "        vertical-align: top;\n",
       "    }\n",
       "\n",
       "    .dataframe thead th {\n",
       "        text-align: right;\n",
       "    }\n",
       "</style>\n",
       "<table border=\"1\" class=\"dataframe\">\n",
       "  <thead>\n",
       "    <tr style=\"text-align: right;\">\n",
       "      <th></th>\n",
       "      <th>url</th>\n",
       "      <th>text</th>\n",
       "      <th>relevance</th>\n",
       "      <th>multiclasses</th>\n",
       "    </tr>\n",
       "  </thead>\n",
       "  <tbody>\n",
       "    <tr>\n",
       "      <th>0</th>\n",
       "      <td>https://documents1.worldbank.org/curated/en/56...</td>\n",
       "      <td>d e z i r o h t u A e r u s o l c s i D LEBANO...</td>\n",
       "      <td>irrelevant</td>\n",
       "      <td>[]</td>\n",
       "    </tr>\n",
       "    <tr>\n",
       "      <th>1</th>\n",
       "      <td>https://zooreach.org/downloads/ZOO_CAMP_PHVA_r...</td>\n",
       "      <td>Biodiversity Conservation Prioritisation Proje...</td>\n",
       "      <td>irrelevant</td>\n",
       "      <td>[]</td>\n",
       "    </tr>\n",
       "    <tr>\n",
       "      <th>2</th>\n",
       "      <td>https://kapelebyong.go.ug/sites/default/files/...</td>\n",
       "      <td>S R E T R A U Q D A E H T C I R T S I D G N O ...</td>\n",
       "      <td>irrelevant</td>\n",
       "      <td>[]</td>\n",
       "    </tr>\n",
       "    <tr>\n",
       "      <th>3</th>\n",
       "      <td>https://www.delltechnologies.com/asset/pt-pt/s...</td>\n",
       "      <td>Built for the Future of Multicloud Dell APEX C...</td>\n",
       "      <td>irrelevant</td>\n",
       "      <td>[]</td>\n",
       "    </tr>\n",
       "    <tr>\n",
       "      <th>4</th>\n",
       "      <td>https://www.eldercareconsultingllc.com/wp-cont...</td>\n",
       "      <td>What is the difference Why would I choose a Wh...</td>\n",
       "      <td>irrelevant</td>\n",
       "      <td>[]</td>\n",
       "    </tr>\n",
       "  </tbody>\n",
       "</table>\n",
       "</div>"
      ],
      "text/plain": [
       "                                                 url  \\\n",
       "0  https://documents1.worldbank.org/curated/en/56...   \n",
       "1  https://zooreach.org/downloads/ZOO_CAMP_PHVA_r...   \n",
       "2  https://kapelebyong.go.ug/sites/default/files/...   \n",
       "3  https://www.delltechnologies.com/asset/pt-pt/s...   \n",
       "4  https://www.eldercareconsultingllc.com/wp-cont...   \n",
       "\n",
       "                                                text   relevance multiclasses  \n",
       "0  d e z i r o h t u A e r u s o l c s i D LEBANO...  irrelevant           []  \n",
       "1  Biodiversity Conservation Prioritisation Proje...  irrelevant           []  \n",
       "2  S R E T R A U Q D A E H T C I R T S I D G N O ...  irrelevant           []  \n",
       "3  Built for the Future of Multicloud Dell APEX C...  irrelevant           []  \n",
       "4  What is the difference Why would I choose a Wh...  irrelevant           []  "
      ]
     },
     "execution_count": 2,
     "metadata": {},
     "output_type": "execute_result"
    }
   ],
   "source": [
    "def import_labelled_data(path=\"data/level-0.5/data.json\"):\n",
    "    data = pd.read_json(path, encoding=\"latin-1\")\n",
    "    return data\n",
    "\n",
    "\n",
    "\n",
    "print(\"Loading data...\")\n",
    "\n",
    "test_dataset = import_labelled_data(path=\"../../data/level-0.5/irrelevant.json\", )\n",
    "\n",
    "print(\"Data loaded.\")\n",
    "\n",
    "\n",
    "# test_dataset = test_dataset.sample(5000)\n",
    "\n",
    "test_dataset = test_dataset.sample(frac=1).reset_index(drop=True)\n",
    "\n",
    "\n",
    "test_dataset.info()\n",
    "test_dataset.head()"
   ]
  },
  {
   "cell_type": "code",
   "execution_count": 3,
   "metadata": {},
   "outputs": [],
   "source": [
    "from pickle import load\n",
    "\n",
    "with open('models/vectorizers/hashing_vectorizer.pkl', 'rb') as f:\n",
    "    vectorizer = load(f)"
   ]
  },
  {
   "cell_type": "code",
   "execution_count": 4,
   "metadata": {},
   "outputs": [
    {
     "data": {
      "text/plain": [
       "cuml.feature_extraction._vectorizers.HashingVectorizer"
      ]
     },
     "execution_count": 4,
     "metadata": {},
     "output_type": "execute_result"
    }
   ],
   "source": [
    "type(vectorizer)"
   ]
  },
  {
   "cell_type": "code",
   "execution_count": 5,
   "metadata": {},
   "outputs": [
    {
     "data": {
      "text/plain": [
       "<All keys matched successfully>"
      ]
     },
     "execution_count": 5,
     "metadata": {},
     "output_type": "execute_result"
    }
   ],
   "source": [
    "from LogisticRegressionClassifier import LogisticRegressionClassifier\n",
    "\n",
    "classifier = LogisticRegressionClassifier(hidden_dim=5)\n",
    "classifier.load_state_dict(torch.load('models/LogisticRegression.pth'))"
   ]
  },
  {
   "cell_type": "code",
   "execution_count": 6,
   "metadata": {},
   "outputs": [
    {
     "data": {
      "text/plain": [
       "OrderedDict([('linear.weight',\n",
       "              tensor([[-2.3086e-02, -3.2679e-04, -8.6438e-03,  ..., -8.9739e-04,\n",
       "                       -1.9867e-01, -1.1306e-01],\n",
       "                      [-2.1175e-02, -7.4881e-04, -1.9249e-03,  ..., -7.9570e-04,\n",
       "                       -2.6893e-01, -8.8998e-02],\n",
       "                      [ 1.8078e-02,  1.2632e-04,  6.3343e-03,  ..., -2.9465e-04,\n",
       "                        2.0814e-01,  1.1909e-01],\n",
       "                      [ 2.0752e-02,  8.4350e-04,  5.5961e-03,  ...,  6.2271e-05,\n",
       "                        2.1375e-01,  1.1530e-01],\n",
       "                      [-1.2158e-02, -1.4964e-05, -5.6122e-03,  ...,  1.2520e-04,\n",
       "                       -2.0104e-01, -1.0578e-01]], device='cuda:0')),\n",
       "             ('linear.bias',\n",
       "              tensor([ 0.8646,  0.9396, -0.7893, -0.6784,  0.8864], device='cuda:0')),\n",
       "             ('linear2.weight',\n",
       "              tensor([[-2.7859, -4.5908,  3.4179,  3.2044, -2.7999],\n",
       "                      [ 2.7297,  4.7230, -3.1563, -3.6262,  2.4744]], device='cuda:0')),\n",
       "             ('linear2.bias', tensor([ 1.4112, -1.7042], device='cuda:0'))])"
      ]
     },
     "execution_count": 6,
     "metadata": {},
     "output_type": "execute_result"
    }
   ],
   "source": [
    "classifier.state_dict()"
   ]
  },
  {
   "cell_type": "code",
   "execution_count": 7,
   "metadata": {},
   "outputs": [],
   "source": [
    "classifier.eval()\n",
    "classifier.to('cuda:0')\n",
    "\n",
    "torch.multiprocessing.set_start_method('spawn')\n",
    "torch.set_default_device('cuda:0')\n",
    "torch.cuda.set_device(0)"
   ]
  },
  {
   "cell_type": "code",
   "execution_count": 8,
   "metadata": {},
   "outputs": [
    {
     "ename": "MemoryError",
     "evalue": "std::bad_alloc: out_of_memory: CUDA error at: /__w/cudf/cudf/python/cudf/build/cp310-cp310-linux_x86_64/_deps/rmm-src/include/rmm/mr/device/cuda_memory_resource.hpp:60: cudaErrorMemoryAllocation out of memory",
     "output_type": "error",
     "traceback": [
      "\u001b[0;31m---------------------------------------------------------------------------\u001b[0m",
      "\u001b[0;31mMemoryError\u001b[0m                               Traceback (most recent call last)",
      "Cell \u001b[0;32mIn[8], line 1\u001b[0m\n\u001b[0;32m----> 1\u001b[0m vectors \u001b[38;5;241m=\u001b[39m \u001b[43mvectorizer\u001b[49m\u001b[38;5;241;43m.\u001b[39;49m\u001b[43mtransform\u001b[49m\u001b[43m(\u001b[49m\u001b[43mtest_dataset\u001b[49m\u001b[43m[\u001b[49m\u001b[38;5;124;43m'\u001b[39;49m\u001b[38;5;124;43mtext\u001b[39;49m\u001b[38;5;124;43m'\u001b[39;49m\u001b[43m]\u001b[49m\u001b[43m)\u001b[49m\n\u001b[1;32m      2\u001b[0m labels \u001b[38;5;241m=\u001b[39m test_dataset[\u001b[38;5;124m'\u001b[39m\u001b[38;5;124mrelevance\u001b[39m\u001b[38;5;124m'\u001b[39m]\u001b[38;5;241m.\u001b[39mapply(\u001b[38;5;28;01mlambda\u001b[39;00m x: \u001b[38;5;241m1\u001b[39m \u001b[38;5;28;01mif\u001b[39;00m x \u001b[38;5;241m==\u001b[39m \u001b[38;5;124m'\u001b[39m\u001b[38;5;124mrelevant\u001b[39m\u001b[38;5;124m'\u001b[39m \u001b[38;5;28;01melse\u001b[39;00m \u001b[38;5;241m0\u001b[39m)\n",
      "File \u001b[0;32m/workspace/GreyLit/venv/lib/python3.10/site-packages/cuml/feature_extraction/_vectorizers.py:966\u001b[0m, in \u001b[0;36mHashingVectorizer.transform\u001b[0;34m(***failed resolving arguments***)\u001b[0m\n\u001b[1;32m    964\u001b[0m \u001b[38;5;28;01mdel\u001b[39;00m raw_documents\n\u001b[1;32m    965\u001b[0m n_doc \u001b[38;5;241m=\u001b[39m \u001b[38;5;28mlen\u001b[39m(docs)\n\u001b[0;32m--> 966\u001b[0m tokenized_df \u001b[38;5;241m=\u001b[39m \u001b[38;5;28;43mself\u001b[39;49m\u001b[38;5;241;43m.\u001b[39;49m\u001b[43m_create_tokenized_df\u001b[49m\u001b[43m(\u001b[49m\u001b[43mdocs\u001b[49m\u001b[43m)\u001b[49m\n\u001b[1;32m    967\u001b[0m \u001b[38;5;28;01mdel\u001b[39;00m docs\n\u001b[1;32m    968\u001b[0m count_df \u001b[38;5;241m=\u001b[39m \u001b[38;5;28mself\u001b[39m\u001b[38;5;241m.\u001b[39m_count_hash(tokenized_df)\n",
      "File \u001b[0;32m/workspace/GreyLit/venv/lib/python3.10/site-packages/cuml/feature_extraction/_vectorizers.py:244\u001b[0m, in \u001b[0;36m_VectorizerMixin._create_tokenized_df\u001b[0;34m(self, docs)\u001b[0m\n\u001b[1;32m    241\u001b[0m doc_id \u001b[38;5;241m=\u001b[39m cp\u001b[38;5;241m.\u001b[39marange(start\u001b[38;5;241m=\u001b[39m\u001b[38;5;241m0\u001b[39m, stop\u001b[38;5;241m=\u001b[39m\u001b[38;5;28mlen\u001b[39m(docs), dtype\u001b[38;5;241m=\u001b[39mcp\u001b[38;5;241m.\u001b[39mint32)\n\u001b[1;32m    242\u001b[0m doc_id \u001b[38;5;241m=\u001b[39m Series(doc_id)\n\u001b[0;32m--> 244\u001b[0m tokenized_df_ls \u001b[38;5;241m=\u001b[39m [\n\u001b[1;32m    245\u001b[0m     \u001b[38;5;28mself\u001b[39m\u001b[38;5;241m.\u001b[39mget_ngrams(docs, n, doc_id) \u001b[38;5;28;01mfor\u001b[39;00m n \u001b[38;5;129;01min\u001b[39;00m \u001b[38;5;28mrange\u001b[39m(min_n, max_n \u001b[38;5;241m+\u001b[39m \u001b[38;5;241m1\u001b[39m)\n\u001b[1;32m    246\u001b[0m ]\n\u001b[1;32m    247\u001b[0m \u001b[38;5;28;01mdel\u001b[39;00m docs\n\u001b[1;32m    248\u001b[0m tokenized_df \u001b[38;5;241m=\u001b[39m cudf\u001b[38;5;241m.\u001b[39mconcat(tokenized_df_ls)\n",
      "File \u001b[0;32m/workspace/GreyLit/venv/lib/python3.10/site-packages/cuml/feature_extraction/_vectorizers.py:245\u001b[0m, in \u001b[0;36m<listcomp>\u001b[0;34m(.0)\u001b[0m\n\u001b[1;32m    241\u001b[0m doc_id \u001b[38;5;241m=\u001b[39m cp\u001b[38;5;241m.\u001b[39marange(start\u001b[38;5;241m=\u001b[39m\u001b[38;5;241m0\u001b[39m, stop\u001b[38;5;241m=\u001b[39m\u001b[38;5;28mlen\u001b[39m(docs), dtype\u001b[38;5;241m=\u001b[39mcp\u001b[38;5;241m.\u001b[39mint32)\n\u001b[1;32m    242\u001b[0m doc_id \u001b[38;5;241m=\u001b[39m Series(doc_id)\n\u001b[1;32m    244\u001b[0m tokenized_df_ls \u001b[38;5;241m=\u001b[39m [\n\u001b[0;32m--> 245\u001b[0m     \u001b[38;5;28;43mself\u001b[39;49m\u001b[38;5;241;43m.\u001b[39;49m\u001b[43mget_ngrams\u001b[49m\u001b[43m(\u001b[49m\u001b[43mdocs\u001b[49m\u001b[43m,\u001b[49m\u001b[43m \u001b[49m\u001b[43mn\u001b[49m\u001b[43m,\u001b[49m\u001b[43m \u001b[49m\u001b[43mdoc_id\u001b[49m\u001b[43m)\u001b[49m \u001b[38;5;28;01mfor\u001b[39;00m n \u001b[38;5;129;01min\u001b[39;00m \u001b[38;5;28mrange\u001b[39m(min_n, max_n \u001b[38;5;241m+\u001b[39m \u001b[38;5;241m1\u001b[39m)\n\u001b[1;32m    246\u001b[0m ]\n\u001b[1;32m    247\u001b[0m \u001b[38;5;28;01mdel\u001b[39;00m docs\n\u001b[1;32m    248\u001b[0m tokenized_df \u001b[38;5;241m=\u001b[39m cudf\u001b[38;5;241m.\u001b[39mconcat(tokenized_df_ls)\n",
      "File \u001b[0;32m/workspace/GreyLit/venv/lib/python3.10/site-packages/cuml/feature_extraction/_vectorizers.py:212\u001b[0m, in \u001b[0;36m_VectorizerMixin.get_ngrams\u001b[0;34m(self, str_series, ngram_size, doc_id_sr)\u001b[0m\n\u001b[1;32m    210\u001b[0m \u001b[38;5;28;01mif\u001b[39;00m \u001b[38;5;28mself\u001b[39m\u001b[38;5;241m.\u001b[39manalyzer \u001b[38;5;241m==\u001b[39m \u001b[38;5;124m\"\u001b[39m\u001b[38;5;124mword\u001b[39m\u001b[38;5;124m\"\u001b[39m:\n\u001b[1;32m    211\u001b[0m     token_count_sr \u001b[38;5;241m=\u001b[39m str_series\u001b[38;5;241m.\u001b[39mstr\u001b[38;5;241m.\u001b[39mtoken_count(\u001b[38;5;28mself\u001b[39m\u001b[38;5;241m.\u001b[39mdelimiter)\n\u001b[0;32m--> 212\u001b[0m     ngram_sr \u001b[38;5;241m=\u001b[39m \u001b[43mstr_series\u001b[49m\u001b[38;5;241;43m.\u001b[39;49m\u001b[43mstr\u001b[49m\u001b[38;5;241;43m.\u001b[39;49m\u001b[43mngrams_tokenize\u001b[49m\u001b[43m(\u001b[49m\n\u001b[1;32m    213\u001b[0m \u001b[43m        \u001b[49m\u001b[43mn\u001b[49m\u001b[38;5;241;43m=\u001b[39;49m\u001b[43mngram_size\u001b[49m\u001b[43m,\u001b[49m\u001b[43m \u001b[49m\u001b[43mseparator\u001b[49m\u001b[38;5;241;43m=\u001b[39;49m\u001b[38;5;124;43m\"\u001b[39;49m\u001b[38;5;124;43m \u001b[39;49m\u001b[38;5;124;43m\"\u001b[39;49m\u001b[43m,\u001b[49m\u001b[43m \u001b[49m\u001b[43mdelimiter\u001b[49m\u001b[38;5;241;43m=\u001b[39;49m\u001b[38;5;28;43mself\u001b[39;49m\u001b[38;5;241;43m.\u001b[39;49m\u001b[43mdelimiter\u001b[49m\n\u001b[1;32m    214\u001b[0m \u001b[43m    \u001b[49m\u001b[43m)\u001b[49m\n\u001b[1;32m    215\u001b[0m     \u001b[38;5;66;03m# formula to count ngrams given number of tokens x per doc: x-(n-1)\u001b[39;00m\n\u001b[1;32m    216\u001b[0m     ngram_count \u001b[38;5;241m=\u001b[39m token_count_sr \u001b[38;5;241m-\u001b[39m (ngram_size \u001b[38;5;241m-\u001b[39m \u001b[38;5;241m1\u001b[39m)\n",
      "File \u001b[0;32m/workspace/GreyLit/venv/lib/python3.10/site-packages/cudf/core/column/string.py:4920\u001b[0m, in \u001b[0;36mStringMethods.ngrams_tokenize\u001b[0;34m(self, n, delimiter, separator)\u001b[0m\n\u001b[1;32m   4917\u001b[0m delimiter \u001b[38;5;241m=\u001b[39m _massage_string_arg(delimiter, \u001b[38;5;124m\"\u001b[39m\u001b[38;5;124mdelimiter\u001b[39m\u001b[38;5;124m\"\u001b[39m)\n\u001b[1;32m   4918\u001b[0m separator \u001b[38;5;241m=\u001b[39m _massage_string_arg(separator, \u001b[38;5;124m\"\u001b[39m\u001b[38;5;124mseparator\u001b[39m\u001b[38;5;124m\"\u001b[39m)\n\u001b[1;32m   4919\u001b[0m \u001b[38;5;28;01mreturn\u001b[39;00m \u001b[38;5;28mself\u001b[39m\u001b[38;5;241m.\u001b[39m_return_or_inplace(\n\u001b[0;32m-> 4920\u001b[0m     \u001b[43mlibstrings\u001b[49m\u001b[38;5;241;43m.\u001b[39;49m\u001b[43mngrams_tokenize\u001b[49m\u001b[43m(\u001b[49m\u001b[38;5;28;43mself\u001b[39;49m\u001b[38;5;241;43m.\u001b[39;49m\u001b[43m_column\u001b[49m\u001b[43m,\u001b[49m\u001b[43m \u001b[49m\u001b[43mn\u001b[49m\u001b[43m,\u001b[49m\u001b[43m \u001b[49m\u001b[43mdelimiter\u001b[49m\u001b[43m,\u001b[49m\u001b[43m \u001b[49m\u001b[43mseparator\u001b[49m\u001b[43m)\u001b[49m,\n\u001b[1;32m   4921\u001b[0m     retain_index\u001b[38;5;241m=\u001b[39m\u001b[38;5;28;01mFalse\u001b[39;00m,\n\u001b[1;32m   4922\u001b[0m )\n",
      "File \u001b[0;32m/usr/lib/python3.10/contextlib.py:79\u001b[0m, in \u001b[0;36mContextDecorator.__call__.<locals>.inner\u001b[0;34m(*args, **kwds)\u001b[0m\n\u001b[1;32m     76\u001b[0m \u001b[38;5;129m@wraps\u001b[39m(func)\n\u001b[1;32m     77\u001b[0m \u001b[38;5;28;01mdef\u001b[39;00m \u001b[38;5;21minner\u001b[39m(\u001b[38;5;241m*\u001b[39margs, \u001b[38;5;241m*\u001b[39m\u001b[38;5;241m*\u001b[39mkwds):\n\u001b[1;32m     78\u001b[0m     \u001b[38;5;28;01mwith\u001b[39;00m \u001b[38;5;28mself\u001b[39m\u001b[38;5;241m.\u001b[39m_recreate_cm():\n\u001b[0;32m---> 79\u001b[0m         \u001b[38;5;28;01mreturn\u001b[39;00m \u001b[43mfunc\u001b[49m\u001b[43m(\u001b[49m\u001b[38;5;241;43m*\u001b[39;49m\u001b[43margs\u001b[49m\u001b[43m,\u001b[49m\u001b[43m \u001b[49m\u001b[38;5;241;43m*\u001b[39;49m\u001b[38;5;241;43m*\u001b[39;49m\u001b[43mkwds\u001b[49m\u001b[43m)\u001b[49m\n",
      "File \u001b[0;32mngrams_tokenize.pyx:40\u001b[0m, in \u001b[0;36mcudf._lib.nvtext.ngrams_tokenize.ngrams_tokenize\u001b[0;34m()\u001b[0m\n",
      "\u001b[0;31mMemoryError\u001b[0m: std::bad_alloc: out_of_memory: CUDA error at: /__w/cudf/cudf/python/cudf/build/cp310-cp310-linux_x86_64/_deps/rmm-src/include/rmm/mr/device/cuda_memory_resource.hpp:60: cudaErrorMemoryAllocation out of memory"
     ]
    }
   ],
   "source": [
    "vectors = vectorizer.transform(test_dataset['text'])\n",
    "labels = test_dataset['relevance'].apply(lambda x: 1 if x == 'relevant' else 0)"
   ]
  },
  {
   "cell_type": "code",
   "execution_count": null,
   "metadata": {},
   "outputs": [],
   "source": [
    "from LazyTextDataset import LazyTextDataset\n",
    "from torch.utils.data import DataLoader\n",
    "\n",
    "\n",
    "test_loader = DataLoader(LazyTextDataset(vectors, labels), batch_size=128, shuffle=False)"
   ]
  },
  {
   "cell_type": "code",
   "execution_count": null,
   "metadata": {},
   "outputs": [
    {
     "data": {
      "text/plain": [
       "LogisticRegressionClassifier(\n",
       "  (linear): Linear(in_features=1048576, out_features=5, bias=True)\n",
       "  (linear2): Linear(in_features=5, out_features=2, bias=True)\n",
       "  (sigmoid): Sigmoid()\n",
       ")"
      ]
     },
     "execution_count": 9,
     "metadata": {},
     "output_type": "execute_result"
    }
   ],
   "source": [
    "classifier.eval()"
   ]
  },
  {
   "cell_type": "code",
   "execution_count": null,
   "metadata": {},
   "outputs": [
    {
     "data": {
      "text/plain": [
       "tensor([0., 0., 0.,  ..., 0., 0., 0.], device='cuda:0')"
      ]
     },
     "execution_count": 10,
     "metadata": {},
     "output_type": "execute_result"
    }
   ],
   "source": [
    "next(iter(test_loader))[0][0][0]"
   ]
  },
  {
   "cell_type": "code",
   "execution_count": null,
   "metadata": {},
   "outputs": [
    {
     "data": {
      "application/vnd.jupyter.widget-view+json": {
       "model_id": "396f5aa037d24882a8f691ec28f07349",
       "version_major": 2,
       "version_minor": 0
      },
      "text/plain": [
       "  0%|          | 0/84 [00:00<?, ?it/s]"
      ]
     },
     "metadata": {},
     "output_type": "display_data"
    }
   ],
   "source": [
    "with torch.no_grad():\n",
    "\n",
    "    y_pred = []\n",
    "    y_probs = []\n",
    "\n",
    "    for x, y in tqdm(test_loader):\n",
    "        preds = classifier(x)[:,0]\n",
    "        y_pred.extend(preds.argmax(dim=1))\n",
    "        y_probs.extend(preds[:,1].cpu())\n"
   ]
  },
  {
   "cell_type": "code",
   "execution_count": null,
   "metadata": {},
   "outputs": [
    {
     "ename": "AttributeError",
     "evalue": "'list' object has no attribute 'cpu'",
     "output_type": "error",
     "traceback": [
      "\u001b[0;31m---------------------------------------------------------------------------\u001b[0m",
      "\u001b[0;31mAttributeError\u001b[0m                            Traceback (most recent call last)",
      "Cell \u001b[0;32mIn[16], line 4\u001b[0m\n\u001b[1;32m      1\u001b[0m \u001b[38;5;28;01mfrom\u001b[39;00m \u001b[38;5;21;01msklearn\u001b[39;00m\u001b[38;5;21;01m.\u001b[39;00m\u001b[38;5;21;01mmetrics\u001b[39;00m \u001b[38;5;28;01mimport\u001b[39;00m classification_report, accuracy_score, precision_score, recall_score, f1_score, confusion_matrix\n\u001b[1;32m      3\u001b[0m test_dataset[\u001b[38;5;124m'\u001b[39m\u001b[38;5;124mpredictions\u001b[39m\u001b[38;5;124m'\u001b[39m] \u001b[38;5;241m=\u001b[39m [\u001b[38;5;124m'\u001b[39m\u001b[38;5;124mrelevant\u001b[39m\u001b[38;5;124m'\u001b[39m \u001b[38;5;28;01mif\u001b[39;00m pred\u001b[38;5;241m==\u001b[39m\u001b[38;5;241m1\u001b[39m \u001b[38;5;28;01melse\u001b[39;00m \u001b[38;5;124m'\u001b[39m\u001b[38;5;124mirrelevant\u001b[39m\u001b[38;5;124m'\u001b[39m \u001b[38;5;28;01mfor\u001b[39;00m pred \u001b[38;5;129;01min\u001b[39;00m y_pred]\n\u001b[0;32m----> 4\u001b[0m test_dataset[\u001b[38;5;124m'\u001b[39m\u001b[38;5;124mscore\u001b[39m\u001b[38;5;124m'\u001b[39m] \u001b[38;5;241m=\u001b[39m \u001b[43my_probs\u001b[49m\u001b[38;5;241;43m.\u001b[39;49m\u001b[43mcpu\u001b[49m()\n\u001b[1;32m      6\u001b[0m \u001b[38;5;28mprint\u001b[39m(classification_report(test_dataset[\u001b[38;5;124m'\u001b[39m\u001b[38;5;124mrelevance\u001b[39m\u001b[38;5;124m'\u001b[39m], test_dataset[\u001b[38;5;124m'\u001b[39m\u001b[38;5;124mpredictions\u001b[39m\u001b[38;5;124m'\u001b[39m] ))\n\u001b[1;32m      8\u001b[0m \u001b[38;5;28mprint\u001b[39m(\u001b[38;5;124m\"\u001b[39m\u001b[38;5;124mAccuracy: \u001b[39m\u001b[38;5;124m\"\u001b[39m, accuracy_score(test_dataset[\u001b[38;5;124m'\u001b[39m\u001b[38;5;124mrelevance\u001b[39m\u001b[38;5;124m'\u001b[39m], test_dataset[\u001b[38;5;124m'\u001b[39m\u001b[38;5;124mpredictions\u001b[39m\u001b[38;5;124m'\u001b[39m]))\n",
      "\u001b[0;31mAttributeError\u001b[0m: 'list' object has no attribute 'cpu'"
     ]
    }
   ],
   "source": [
    "\n",
    "from sklearn.metrics import classification_report, accuracy_score, precision_score, recall_score, f1_score, confusion_matrix\n",
    "\n",
    "test_dataset['predictions'] = ['relevant' if pred==1 else 'irrelevant' for pred in y_pred]\n",
    "test_dataset['score'] = y_probs.cpu()\n",
    "\n",
    "print(classification_report(test_dataset['relevance'], test_dataset['predictions'] ))\n",
    "\n",
    "print(\"Accuracy: \", accuracy_score(test_dataset['relevance'], test_dataset['predictions']))\n",
    "print(\"Precision: \", precision_score(test_dataset['relevance'], test_dataset['predictions'], pos_label='relevant',average='macro'))\n",
    "print(\"Recall: \", recall_score(test_dataset['relevance'], test_dataset['predictions'], pos_label='relevant',average='macro'))\n",
    "print(\"F1: \", f1_score(test_dataset['relevance'], test_dataset['predictions'], pos_label='relevant',average='macro'))\n"
   ]
  },
  {
   "cell_type": "code",
   "execution_count": null,
   "metadata": {},
   "outputs": [
    {
     "data": {
      "image/png": "[encoded data removed]",
      "text/plain": [
       "<Figure size 2000x500 with 2 Axes>"
      ]
     },
     "metadata": {},
     "output_type": "display_data"
    }
   ],
   "source": [
    "import matplotlib.pyplot as plt\n",
    "from sklearn.metrics import ConfusionMatrixDisplay\n",
    "\n",
    "fig, axs = plt.subplots(1, 1, figsize=(20, 5))\n",
    "\n",
    "\n",
    "confusion = confusion_matrix(test_dataset['relevance'], test_dataset['predictions'] )\n",
    "disp = ConfusionMatrixDisplay(confusion_matrix=confusion)\n",
    "disp.plot(ax=axs, cmap='plasma')\n",
    "\n",
    "plt.show()\n"
   ]
  }
 ],
 "metadata": {
  "kernelspec": {
   "display_name": "venv",
   "language": "python",
   "name": "python3"
  },
  "language_info": {
   "codemirror_mode": {
    "name": "ipython",
    "version": 3
   },
   "file_extension": ".py",
   "mimetype": "text/x-python",
   "name": "python",
   "nbconvert_exporter": "python",
   "pygments_lexer": "ipython3",
   "version": "3.10.12"
  }
 },
 "nbformat": 4,
 "nbformat_minor": 2
}
