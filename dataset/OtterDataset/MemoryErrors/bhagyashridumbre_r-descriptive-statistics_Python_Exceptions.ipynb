{
  "nbformat": 4,
  "nbformat_minor": 0,
  "metadata": {
    "colab": {
      "name": "Python_Exceptions.ipynb",
      "provenance": [],
      "collapsed_sections": [],
      "authorship_tag": "ABX9TyN62WE6O4DTVAuMQAmJCSAe",
      "include_colab_link": true
    },
    "kernelspec": {
      "name": "python3",
      "display_name": "Python 3"
    },
    "language_info": {
      "name": "python"
    }
  },
  "cells": [
    {
      "cell_type": "markdown",
      "metadata": {
        "id": "view-in-github",
        "colab_type": "text"
      },
      "source": [
        "<a href=\"https://colab.research.google.com/github/bhagyashridumbre/r-descriptive-statistics/blob/main/Python_Exceptions.ipynb\" target=\"_parent\"><img src=\"https://colab.research.google.com/assets/colab-badge.svg\" alt=\"Open In Colab\"/></a>"
      ]
    },
    {
      "cell_type": "markdown",
      "source": [
        "Python Errors and Built-in Exceptions"
      ],
      "metadata": {
        "id": "dy1x9H4kdpC8"
      }
    },
    {
      "cell_type": "code",
      "execution_count": null,
      "metadata": {
        "id": "UBpnkTkWdh8d"
      },
      "outputs": [],
      "source": [
        "# 1. syntax Error\n",
        "# 2.Logical errors(Exception)"
      ]
    },
    {
      "cell_type": "markdown",
      "source": [
        "Python Syntax Errors"
      ],
      "metadata": {
        "id": "PSMOGmtcd5mw"
      }
    },
    {
      "cell_type": "code",
      "source": [
        "# Error caused by not following the proper structure (syntax) of the language is called syntax error or parsing error.\n",
        "''' >>> if a < 3\n",
        "  File \"<interactive input>\", line 1\n",
        "    if a < 3\n",
        "           ^\n",
        "SyntaxError: invalid syntax'''\n",
        "# We can notice here that a colon : is missing in the if statement.\n"
      ],
      "metadata": {
        "id": "2SOe-3WJd_Ea"
      },
      "execution_count": null,
      "outputs": []
    },
    {
      "cell_type": "markdown",
      "source": [
        "Python Logical Errors (Exceptions)"
      ],
      "metadata": {
        "id": "0vTkza3WeL6i"
      }
    },
    {
      "cell_type": "code",
      "source": [
        "# Errors that occur at runtime (after passing the syntax test) are called exceptions or logical errors.\n",
        "# they occur when we try to open a file for reading that does not exist (File not Found)\n",
        "# try to divide a number by zero (ZeroDivisionError)\n",
        "# try to import a module that does not exist (ImportError).\n",
        "'''>>> 1 / 0\n",
        "Traceback (most recent call last):\n",
        " File \"<string>\", line 301, in runcode\n",
        " File \"<interactive input>\", line 1, in <module>\n",
        "ZeroDivisionError: division by zero\n",
        "\n",
        ">>> open(\"imaginary.txt\")\n",
        "Traceback (most recent call last):\n",
        " File \"<string>\", line 301, in runcode\n",
        " File \"<interactive input>\", line 1, in <module>\n",
        "FileNotFoundError: [Errno 2] No such file or directory: 'imaginary.txt' '''"
      ],
      "metadata": {
        "id": "Emu_MBnGeOB4"
      },
      "execution_count": null,
      "outputs": []
    },
    {
      "cell_type": "markdown",
      "source": [
        "Python Built-in Exceptions"
      ],
      "metadata": {
        "id": "TMPviQtWewuC"
      }
    },
    {
      "cell_type": "code",
      "source": [
        "# Illegal operations can raise exceptions. There are plenty of built-in exceptions in Python that are raised when corresponding errors occur.\n",
        "# We can view all the built-in exceptions using the built-in local() function .\n",
        "print(dir(locals()['__builtins__']))\n",
        "# locals()['__builtins__'] will return a module of built-in exceptions, functions, and attributes. dir allows us to list these attributes as strings."
      ],
      "metadata": {
        "id": "lTThy5NSe38j"
      },
      "execution_count": null,
      "outputs": []
    },
    {
      "cell_type": "code",
      "source": [
        "# Assertion Error - Raised when an assert statement fails.\n",
        "# AttributeError - Raised when attribute assignment or reference fails.\n",
        "# EOFError - Raised when the input() function hits end-of-file condition.\n",
        "# FloatingPointError - Raised when a floating point operation fails.\n",
        "# GeneratorExit - Raise when a generator's close() method is called.\n",
        "# ImportError - Raised when the imported module is not found.\n",
        "# IndexError - Raised when the index of a sequence is out of range.\n",
        "# KeyError - Raised when a key is not found in a dictionary.\n",
        "# KeyboardInterrupt - Raised when the user hits the interrupt key (Ctrl+C or Delete).\n",
        "# MemoryError - Raised when an operation runs out of memory.\n",
        "# NameError - Raised when a variable is not found in local or global scope.\n",
        "# NotImplementedError - Raised by abstract methods.\n",
        "# OSError - Raised when system operation causes system related error.\n",
        "# OverflowError - Raised when the result of an arithmetic operation is too large to be represented.\n",
        "# ReferenceError - Raised when a weak reference proxy is used to access a garbage collected referent.\n",
        "# RuntimeError - Raised when an error does not fall under any other category.\n",
        "# StopIteration - Raised by next() function to indicate that there is no further item to be returned by iterator.\n",
        "# SyntaxError - Raised by parser when syntax error is encountered.\n",
        "# IndentationError - Raised when there is incorrect indentation.\n",
        "# TabError - Raised when indentation consists of inconsistent tabs and spaces.\n",
        "# SystemError - Raised when interpreter detects internal error.\n",
        "# SystemExit - Raised by sys.exit() function.\n",
        "# TypeError - Raised when a function or operation is applied to an object of incorrect type.\n",
        "# UnboundLocalError - Raised when a reference is made to a local variable in a function or method, but no value has been bound to that variable.\n",
        "# UnicodeError - Raised when a Unicode-related encoding or decoding error occurs.\n",
        "# UnicodeEncodeError - Raised when a Unicode-related error occurs during encoding.\n",
        "# UnicodeDecodeError - Raised when a Unicode-related error occurs during decoding.\n",
        "# UnicodeTranslateError - Raised when a Unicode-related error occurs during translating.\n",
        "# ValueError - Raised when a function gets an argument of correct type but improper value.\n",
        "# ZeroDivisionError - Raised when the second operand of division or modulo operation is zero.\n",
        " # We can handle these built-in and user-defined exceptions in Python using try, except and finally statements"
      ],
      "metadata": {
        "id": "5bF-kSLFfNTZ"
      },
      "execution_count": null,
      "outputs": []
    },
    {
      "cell_type": "markdown",
      "source": [
        "Python Custom Exceptions"
      ],
      "metadata": {
        "id": "U8ZdRYaqhabH"
      }
    },
    {
      "cell_type": "code",
      "source": [
        "# sometimes you may need to create your own custom exceptions that serve your purpose.\n",
        "''' \n",
        ">>>class CustomError(Exception):\n",
        "...     pass\n",
        "...\n",
        "\n",
        ">>> raise CustomError\n",
        "Traceback (most recent call last):\n",
        "...\n",
        "__main__.CustomError\n",
        "\n",
        ">>> raise CustomError(\"An error occurred\")\n",
        "Traceback (most recent call last):\n",
        "...\n",
        "__main__.CustomError: An error occurred'''"
      ],
      "metadata": {
        "id": "frqOLKxYhgzG"
      },
      "execution_count": null,
      "outputs": []
    },
    {
      "cell_type": "markdown",
      "source": [
        " User-Defined Exception in Python"
      ],
      "metadata": {
        "id": "zIcmr3kNh7D7"
      }
    },
    {
      "cell_type": "code",
      "source": [
        "# user-defined exceptions can be used in a program to raise and catch errors.\n",
        "'''\n",
        "# define Python user-defined exceptions\n",
        "class Error(Exception):\n",
        "    \"\"\"Base class for other exceptions\"\"\"\n",
        "    pass\n",
        "\n",
        "\n",
        "class ValueTooSmallError(Error):\n",
        "    \"\"\"Raised when the input value is too small\"\"\"\n",
        "    pass\n",
        "\n",
        "\n",
        "class ValueTooLargeError(Error):\n",
        "    \"\"\"Raised when the input value is too large\"\"\"\n",
        "    pass\n",
        "\n",
        "\n",
        "# you need to guess this number\n",
        "number = 10\n",
        "\n",
        "# user guesses a number until he/she gets it right\n",
        "while True:\n",
        "    try:\n",
        "        i_num = int(input(\"Enter a number: \"))\n",
        "        if i_num < number:\n",
        "            raise ValueTooSmallError\n",
        "        elif i_num > number:\n",
        "            raise ValueTooLargeError\n",
        "        break\n",
        "    except ValueTooSmallError:\n",
        "        print(\"This value is too small, try again!\")\n",
        "        print()\n",
        "    except ValueTooLargeError:\n",
        "        print(\"This value is too large, try again!\")\n",
        "        print()\n",
        "\n",
        "print(\"Congratulations! You guessed it correctly.\")'''"
      ],
      "metadata": {
        "id": "QiKA1wxjh9BX"
      },
      "execution_count": null,
      "outputs": []
    }
  ]
}