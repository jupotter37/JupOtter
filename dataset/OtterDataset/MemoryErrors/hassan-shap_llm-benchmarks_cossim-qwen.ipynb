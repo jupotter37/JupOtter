{
 "cells": [
  {
   "cell_type": "code",
   "execution_count": 2,
   "metadata": {},
   "outputs": [
    {
     "name": "stderr",
     "output_type": "stream",
     "text": [
      "/home/hshapour/.pyenv/versions/3.10.12/envs/pytorch/lib/python3.10/site-packages/tqdm/auto.py:21: TqdmWarning: IProgress not found. Please update jupyter and ipywidgets. See https://ipywidgets.readthedocs.io/en/stable/user_install.html\n",
      "  from .autonotebook import tqdm as notebook_tqdm\n"
     ]
    }
   ],
   "source": [
    "import torch\n",
    "from datasets import load_dataset\n",
    "from transformers import (\n",
    "    AutoModelForCausalLM,\n",
    "    AutoTokenizer,\n",
    "    BitsAndBytesConfig,\n",
    "    # Qwen2ForCausalLM\n",
    "    # HuggingFaceEmbedding\n",
    ")\n",
    "import json\n",
    "import time \n",
    "# import HuggingFaceEmbedding\n",
    "import matplotlib.pyplot as plt\n",
    "from transformers.modeling_attn_mask_utils import _prepare_4d_causal_attention_mask\n"
   ]
  },
  {
   "cell_type": "code",
   "execution_count": 3,
   "metadata": {},
   "outputs": [
    {
     "name": "stderr",
     "output_type": "stream",
     "text": [
      "The model is automatically converting to bf16 for faster inference. If you want to disable the automatic precision, please manually add bf16/fp16/fp32=True to \"AutoModelForCausalLM.from_pretrained\".\n",
      "Try importing flash-attention for faster inference...\n",
      "Warning: import flash_attn rotary fail, please install FlashAttention rotary to get higher efficiency https://github.com/Dao-AILab/flash-attention/tree/main/csrc/rotary\n",
      "Warning: import flash_attn rms_norm fail, please install FlashAttention layer_norm to get higher efficiency https://github.com/Dao-AILab/flash-attention/tree/main/csrc/layer_norm\n"
     ]
    },
    {
     "name": "stdout",
     "output_type": "stream",
     "text": [
      "\n",
      "===================================BUG REPORT===================================\n",
      "Welcome to bitsandbytes. For bug reports, please run\n",
      "\n",
      "python -m bitsandbytes\n",
      "\n",
      " and submit this information together with your error trace to: https://github.com/TimDettmers/bitsandbytes/issues\n",
      "================================================================================\n",
      "bin /home/hshapour/.pyenv/versions/3.10.12/envs/pytorch/lib/python3.10/site-packages/bitsandbytes/libbitsandbytes_cuda115.so\n",
      "CUDA SETUP: CUDA runtime path found: /usr/lib/x86_64-linux-gnu/libcudart.so\n",
      "CUDA SETUP: Highest compute capability among GPUs detected: 8.0\n",
      "CUDA SETUP: Detected CUDA version 115\n",
      "CUDA SETUP: Loading binary /home/hshapour/.pyenv/versions/3.10.12/envs/pytorch/lib/python3.10/site-packages/bitsandbytes/libbitsandbytes_cuda115.so...\n"
     ]
    },
    {
     "name": "stderr",
     "output_type": "stream",
     "text": [
      "Loading checkpoint shards: 100%|██████████| 82/82 [01:27<00:00,  1.07s/it]\n"
     ]
    }
   ],
   "source": [
    "# model_name = \"/data/llama-hf/Llama-2-13b-hf\"\n",
    "# model_name = \"meta-llama/Llama-2-13b-hf\"\n",
    "# model_name = \"mistralai/Mistral-7B-v0.1\"\n",
    "model_name = \"Qwen/Qwen-72B\"\n",
    "local_dir=\"/data/models\"\n",
    "\n",
    "torch.cuda.empty_cache()\n",
    "\n",
    "bnb_config = BitsAndBytesConfig(\n",
    "    load_in_4bit=True,\n",
    "    bnb_4bit_quant_type=\"nf4\",\n",
    "    bnb_4bit_compute_dtype=torch.bfloat16,\n",
    "    bnb_4bit_use_double_quant=True,\n",
    ")\n",
    "device_map = {\"\": 0}\n",
    "# Load model\n",
    "base_model = AutoModelForCausalLM.from_pretrained(\n",
    "    model_name,\n",
    "    quantization_config=bnb_config,\n",
    "    device_map=device_map,\n",
    "    # cache_dir = local_dir,\n",
    "    pad_token_id=1,\n",
    "    trust_remote_code = True\n",
    ")\n",
    "\n",
    "base_model.eval()\n",
    "\n",
    "if \"Qwen\" in model_name:\n",
    "    tokenizer = AutoTokenizer.from_pretrained(model_name, pad_token='<|extra_0|>', trust_remote_code=True)\n",
    "else:\n",
    "    tokenizer = AutoTokenizer.from_pretrained(model_name, trust_remote_code=True, padding_side = 'right', truncation_side='right')\n",
    "# tokenizer = AutoTokenizer.from_pretrained(model_name, trust_remote_code=True)\n",
    "# if \"Llama-2\" in model_name or \"Mistral\" in model_name:\n",
    "#     # tokenizer.pad_token_id = tokenizer.bos_token_id\n",
    "#     tokenizer.pad_token = tokenizer.bos_token\n",
    "if tokenizer.pad_token_id == None:\n",
    "    tokenizer.pad_token_id = 1\n",
    "\n",
    "tokenizer.padding_side = \"right\"\n"
   ]
  },
  {
   "cell_type": "code",
   "execution_count": 7,
   "metadata": {},
   "outputs": [],
   "source": [
    "import datasets\n",
    "from pathlib import Path\n",
    "datasets.config.DOWNLOADED_DATASETS_PATH = Path(\"/home/ubuntu/data/.cache/huggingface\")\n",
    "dataset = datasets.load_dataset('c4',name = 'en', split='validation', streaming=True)"
   ]
  },
  {
   "cell_type": "code",
   "execution_count": 8,
   "metadata": {},
   "outputs": [
    {
     "name": "stdout",
     "output_type": "stream",
     "text": [
      "100\r"
     ]
    }
   ],
   "source": [
    "cos = torch.nn.CosineSimilarity(dim=1, eps=1e-6)\n",
    "\n",
    "last_token_sim = []\n",
    "Ns = 100\n",
    "i = 0 \n",
    "for data in dataset:\n",
    "    i += 1\n",
    "    if i < Ns+1:\n",
    "        print(i, end='\\r')\n",
    "        # print(data)\n",
    "        ex = data['text']\n",
    "    else:\n",
    "        break\n",
    "\n",
    "    tokens = tokenizer(ex, return_tensors='pt')\n",
    "    input_ids = tokens.input_ids.cuda()\n",
    "    # print(input_ids.shape)\n",
    "    seq_length = input_ids.size(1)\n",
    "    attention_mask = tokens.attention_mask.cuda()\n",
    "\n",
    "    embed_model = base_model.transformer.wte\n",
    "    rotary_emb= base_model.transformer.rotary_emb\n",
    "    input_embeds = embed_model(input_ids) \n",
    "    # input_embeds = rot_embed(input_embeds) \n",
    "\n",
    "    past_key_values_length = 0\n",
    "    attention_mask = _prepare_4d_causal_attention_mask(\n",
    "                attention_mask, (1, seq_length),\n",
    "                input_embeds, past_key_values_length,\n",
    "                )\n",
    "\n",
    "    ntk_alpha_list = [1.0]\n",
    "    rotary_emb._ntk_alpha_cached_list = ntk_alpha_list\n",
    "    rotary_pos_emb_list = [\n",
    "        rotary_emb(seq_length, ntk_alpha=ntk_alpha) for ntk_alpha in ntk_alpha_list\n",
    "    ]\n",
    "\n",
    "    similarity = []\n",
    "    with torch.no_grad():\n",
    "        x_old = input_embeds\n",
    "\n",
    "        for idx, block in enumerate(base_model.transformer.h):\n",
    "            x_new = block(x_old, attention_mask=attention_mask, rotary_pos_emb_list=rotary_pos_emb_list )[0]\n",
    "            # similiarity.append(cos(x_new,x_old).cpu())\n",
    "            similarity.append(cos(x_new[:,-1,:].to(torch.float32),x_old[:,-1,:].to(torch.float32)).cpu())\n",
    "            x_old = x_new\n",
    "        x = base_model.transformer.ln_f(x_new)\n",
    "        x = base_model.lm_head(x)\n",
    "\n",
    "    # print(x.shape)\n",
    "    # similiarity = torch.stack(similiarity).squeeze()\n",
    "    last_token_sim.append(similarity)"
   ]
  },
  {
   "cell_type": "code",
   "execution_count": 9,
   "metadata": {},
   "outputs": [
    {
     "data": {
      "image/png": "[encoded data removed]",
      "text/plain": [
       "<Figure size 400x300 with 1 Axes>"
      ]
     },
     "metadata": {},
     "output_type": "display_data"
    }
   ],
   "source": [
    "last_token_sim = torch.tensor(last_token_sim)\n",
    "num_layers = len(base_model.transformer.h)\n",
    "plt.figure(figsize=(4,3))\n",
    "plt.plot(torch.arange(1,num_layers+1)/num_layers, last_token_sim.T)\n",
    "plt.plot(torch.arange(1,num_layers+1)/num_layers, last_token_sim.mean(dim=0),\"k--\")\n",
    "plt.xlabel(\"model depth\")\n",
    "plt.ylabel(\"Cos Sim\")\n",
    "plt.title(f\"{model_name.split('/')[-1]}\", fontsize= 10)\n",
    "plt.tight_layout()\n",
    "# plt.savefig(f\"c4_{model_name.split('/')[-1]}.png\")\n",
    "plt.show()"
   ]
  },
  {
   "cell_type": "code",
   "execution_count": 8,
   "metadata": {},
   "outputs": [
    {
     "ename": "ValueError",
     "evalue": "Unable to create tensor, you should probably activate truncation and/or padding with 'padding=True' 'truncation=True' to have batched tensors with the same length. Perhaps your features (`input_ids` in this case) have excessive nesting (inputs type `list` where type `int` is expected).",
     "output_type": "error",
     "traceback": [
      "\u001b[0;31m---------------------------------------------------------------------------\u001b[0m",
      "\u001b[0;31mValueError\u001b[0m                                Traceback (most recent call last)",
      "File \u001b[0;32m~/.pyenv/versions/3.10.12/envs/pytorch/lib/python3.10/site-packages/transformers/tokenization_utils_base.py:748\u001b[0m, in \u001b[0;36mBatchEncoding.convert_to_tensors\u001b[0;34m(self, tensor_type, prepend_batch_axis)\u001b[0m\n\u001b[1;32m    747\u001b[0m \u001b[39mif\u001b[39;00m \u001b[39mnot\u001b[39;00m is_tensor(value):\n\u001b[0;32m--> 748\u001b[0m     tensor \u001b[39m=\u001b[39m as_tensor(value)\n\u001b[1;32m    750\u001b[0m     \u001b[39m# Removing this for now in favor of controlling the shape with `prepend_batch_axis`\u001b[39;00m\n\u001b[1;32m    751\u001b[0m     \u001b[39m# # at-least2d\u001b[39;00m\n\u001b[1;32m    752\u001b[0m     \u001b[39m# if tensor.ndim > 2:\u001b[39;00m\n\u001b[1;32m    753\u001b[0m     \u001b[39m#     tensor = tensor.squeeze(0)\u001b[39;00m\n\u001b[1;32m    754\u001b[0m     \u001b[39m# elif tensor.ndim < 2:\u001b[39;00m\n\u001b[1;32m    755\u001b[0m     \u001b[39m#     tensor = tensor[None, :]\u001b[39;00m\n",
      "File \u001b[0;32m~/.pyenv/versions/3.10.12/envs/pytorch/lib/python3.10/site-packages/transformers/tokenization_utils_base.py:720\u001b[0m, in \u001b[0;36mBatchEncoding.convert_to_tensors.<locals>.as_tensor\u001b[0;34m(value, dtype)\u001b[0m\n\u001b[1;32m    719\u001b[0m     \u001b[39mreturn\u001b[39;00m torch\u001b[39m.\u001b[39mtensor(np\u001b[39m.\u001b[39marray(value))\n\u001b[0;32m--> 720\u001b[0m \u001b[39mreturn\u001b[39;00m torch\u001b[39m.\u001b[39;49mtensor(value)\n",
      "\u001b[0;31mValueError\u001b[0m: expected sequence of length 384 at dim 1 (got 11)",
      "\nThe above exception was the direct cause of the following exception:\n",
      "\u001b[0;31mValueError\u001b[0m                                Traceback (most recent call last)",
      "Cell \u001b[0;32mIn[8], line 5\u001b[0m\n\u001b[1;32m      3\u001b[0m ex2 \u001b[39m=\u001b[39m \u001b[39m\"\u001b[39m\u001b[39mABC is a startup based in New York City and Paris\u001b[39m\u001b[39m\"\u001b[39m\n\u001b[1;32m      4\u001b[0m ex \u001b[39m=\u001b[39m [ex1,ex2]\n\u001b[0;32m----> 5\u001b[0m tokens \u001b[39m=\u001b[39m tokenizer(ex, return_tensors\u001b[39m=\u001b[39;49m\u001b[39m'\u001b[39;49m\u001b[39mpt\u001b[39;49m\u001b[39m'\u001b[39;49m)\n\u001b[1;32m      6\u001b[0m input_ids \u001b[39m=\u001b[39m tokens\u001b[39m.\u001b[39minput_ids\u001b[39m.\u001b[39mcuda()\n\u001b[1;32m      7\u001b[0m \u001b[39mprint\u001b[39m(input_ids\u001b[39m.\u001b[39mshape)\n",
      "File \u001b[0;32m~/.pyenv/versions/3.10.12/envs/pytorch/lib/python3.10/site-packages/transformers/tokenization_utils_base.py:2798\u001b[0m, in \u001b[0;36mPreTrainedTokenizerBase.__call__\u001b[0;34m(self, text, text_pair, text_target, text_pair_target, add_special_tokens, padding, truncation, max_length, stride, is_split_into_words, pad_to_multiple_of, return_tensors, return_token_type_ids, return_attention_mask, return_overflowing_tokens, return_special_tokens_mask, return_offsets_mapping, return_length, verbose, **kwargs)\u001b[0m\n\u001b[1;32m   2796\u001b[0m     \u001b[39mif\u001b[39;00m \u001b[39mnot\u001b[39;00m \u001b[39mself\u001b[39m\u001b[39m.\u001b[39m_in_target_context_manager:\n\u001b[1;32m   2797\u001b[0m         \u001b[39mself\u001b[39m\u001b[39m.\u001b[39m_switch_to_input_mode()\n\u001b[0;32m-> 2798\u001b[0m     encodings \u001b[39m=\u001b[39m \u001b[39mself\u001b[39;49m\u001b[39m.\u001b[39;49m_call_one(text\u001b[39m=\u001b[39;49mtext, text_pair\u001b[39m=\u001b[39;49mtext_pair, \u001b[39m*\u001b[39;49m\u001b[39m*\u001b[39;49mall_kwargs)\n\u001b[1;32m   2799\u001b[0m \u001b[39mif\u001b[39;00m text_target \u001b[39mis\u001b[39;00m \u001b[39mnot\u001b[39;00m \u001b[39mNone\u001b[39;00m:\n\u001b[1;32m   2800\u001b[0m     \u001b[39mself\u001b[39m\u001b[39m.\u001b[39m_switch_to_target_mode()\n",
      "File \u001b[0;32m~/.pyenv/versions/3.10.12/envs/pytorch/lib/python3.10/site-packages/transformers/tokenization_utils_base.py:2884\u001b[0m, in \u001b[0;36mPreTrainedTokenizerBase._call_one\u001b[0;34m(self, text, text_pair, add_special_tokens, padding, truncation, max_length, stride, is_split_into_words, pad_to_multiple_of, return_tensors, return_token_type_ids, return_attention_mask, return_overflowing_tokens, return_special_tokens_mask, return_offsets_mapping, return_length, verbose, **kwargs)\u001b[0m\n\u001b[1;32m   2879\u001b[0m         \u001b[39mraise\u001b[39;00m \u001b[39mValueError\u001b[39;00m(\n\u001b[1;32m   2880\u001b[0m             \u001b[39mf\u001b[39m\u001b[39m\"\u001b[39m\u001b[39mbatch length of `text`: \u001b[39m\u001b[39m{\u001b[39;00m\u001b[39mlen\u001b[39m(text)\u001b[39m}\u001b[39;00m\u001b[39m does not match batch length of `text_pair`:\u001b[39m\u001b[39m\"\u001b[39m\n\u001b[1;32m   2881\u001b[0m             \u001b[39mf\u001b[39m\u001b[39m\"\u001b[39m\u001b[39m \u001b[39m\u001b[39m{\u001b[39;00m\u001b[39mlen\u001b[39m(text_pair)\u001b[39m}\u001b[39;00m\u001b[39m.\u001b[39m\u001b[39m\"\u001b[39m\n\u001b[1;32m   2882\u001b[0m         )\n\u001b[1;32m   2883\u001b[0m     batch_text_or_text_pairs \u001b[39m=\u001b[39m \u001b[39mlist\u001b[39m(\u001b[39mzip\u001b[39m(text, text_pair)) \u001b[39mif\u001b[39;00m text_pair \u001b[39mis\u001b[39;00m \u001b[39mnot\u001b[39;00m \u001b[39mNone\u001b[39;00m \u001b[39melse\u001b[39;00m text\n\u001b[0;32m-> 2884\u001b[0m     \u001b[39mreturn\u001b[39;00m \u001b[39mself\u001b[39;49m\u001b[39m.\u001b[39;49mbatch_encode_plus(\n\u001b[1;32m   2885\u001b[0m         batch_text_or_text_pairs\u001b[39m=\u001b[39;49mbatch_text_or_text_pairs,\n\u001b[1;32m   2886\u001b[0m         add_special_tokens\u001b[39m=\u001b[39;49madd_special_tokens,\n\u001b[1;32m   2887\u001b[0m         padding\u001b[39m=\u001b[39;49mpadding,\n\u001b[1;32m   2888\u001b[0m         truncation\u001b[39m=\u001b[39;49mtruncation,\n\u001b[1;32m   2889\u001b[0m         max_length\u001b[39m=\u001b[39;49mmax_length,\n\u001b[1;32m   2890\u001b[0m         stride\u001b[39m=\u001b[39;49mstride,\n\u001b[1;32m   2891\u001b[0m         is_split_into_words\u001b[39m=\u001b[39;49mis_split_into_words,\n\u001b[1;32m   2892\u001b[0m         pad_to_multiple_of\u001b[39m=\u001b[39;49mpad_to_multiple_of,\n\u001b[1;32m   2893\u001b[0m         return_tensors\u001b[39m=\u001b[39;49mreturn_tensors,\n\u001b[1;32m   2894\u001b[0m         return_token_type_ids\u001b[39m=\u001b[39;49mreturn_token_type_ids,\n\u001b[1;32m   2895\u001b[0m         return_attention_mask\u001b[39m=\u001b[39;49mreturn_attention_mask,\n\u001b[1;32m   2896\u001b[0m         return_overflowing_tokens\u001b[39m=\u001b[39;49mreturn_overflowing_tokens,\n\u001b[1;32m   2897\u001b[0m         return_special_tokens_mask\u001b[39m=\u001b[39;49mreturn_special_tokens_mask,\n\u001b[1;32m   2898\u001b[0m         return_offsets_mapping\u001b[39m=\u001b[39;49mreturn_offsets_mapping,\n\u001b[1;32m   2899\u001b[0m         return_length\u001b[39m=\u001b[39;49mreturn_length,\n\u001b[1;32m   2900\u001b[0m         verbose\u001b[39m=\u001b[39;49mverbose,\n\u001b[1;32m   2901\u001b[0m         \u001b[39m*\u001b[39;49m\u001b[39m*\u001b[39;49mkwargs,\n\u001b[1;32m   2902\u001b[0m     )\n\u001b[1;32m   2903\u001b[0m \u001b[39melse\u001b[39;00m:\n\u001b[1;32m   2904\u001b[0m     \u001b[39mreturn\u001b[39;00m \u001b[39mself\u001b[39m\u001b[39m.\u001b[39mencode_plus(\n\u001b[1;32m   2905\u001b[0m         text\u001b[39m=\u001b[39mtext,\n\u001b[1;32m   2906\u001b[0m         text_pair\u001b[39m=\u001b[39mtext_pair,\n\u001b[0;32m   (...)\u001b[0m\n\u001b[1;32m   2922\u001b[0m         \u001b[39m*\u001b[39m\u001b[39m*\u001b[39mkwargs,\n\u001b[1;32m   2923\u001b[0m     )\n",
      "File \u001b[0;32m~/.pyenv/versions/3.10.12/envs/pytorch/lib/python3.10/site-packages/transformers/tokenization_utils_base.py:3075\u001b[0m, in \u001b[0;36mPreTrainedTokenizerBase.batch_encode_plus\u001b[0;34m(self, batch_text_or_text_pairs, add_special_tokens, padding, truncation, max_length, stride, is_split_into_words, pad_to_multiple_of, return_tensors, return_token_type_ids, return_attention_mask, return_overflowing_tokens, return_special_tokens_mask, return_offsets_mapping, return_length, verbose, **kwargs)\u001b[0m\n\u001b[1;32m   3065\u001b[0m \u001b[39m# Backward compatibility for 'truncation_strategy', 'pad_to_max_length'\u001b[39;00m\n\u001b[1;32m   3066\u001b[0m padding_strategy, truncation_strategy, max_length, kwargs \u001b[39m=\u001b[39m \u001b[39mself\u001b[39m\u001b[39m.\u001b[39m_get_padding_truncation_strategies(\n\u001b[1;32m   3067\u001b[0m     padding\u001b[39m=\u001b[39mpadding,\n\u001b[1;32m   3068\u001b[0m     truncation\u001b[39m=\u001b[39mtruncation,\n\u001b[0;32m   (...)\u001b[0m\n\u001b[1;32m   3072\u001b[0m     \u001b[39m*\u001b[39m\u001b[39m*\u001b[39mkwargs,\n\u001b[1;32m   3073\u001b[0m )\n\u001b[0;32m-> 3075\u001b[0m \u001b[39mreturn\u001b[39;00m \u001b[39mself\u001b[39;49m\u001b[39m.\u001b[39;49m_batch_encode_plus(\n\u001b[1;32m   3076\u001b[0m     batch_text_or_text_pairs\u001b[39m=\u001b[39;49mbatch_text_or_text_pairs,\n\u001b[1;32m   3077\u001b[0m     add_special_tokens\u001b[39m=\u001b[39;49madd_special_tokens,\n\u001b[1;32m   3078\u001b[0m     padding_strategy\u001b[39m=\u001b[39;49mpadding_strategy,\n\u001b[1;32m   3079\u001b[0m     truncation_strategy\u001b[39m=\u001b[39;49mtruncation_strategy,\n\u001b[1;32m   3080\u001b[0m     max_length\u001b[39m=\u001b[39;49mmax_length,\n\u001b[1;32m   3081\u001b[0m     stride\u001b[39m=\u001b[39;49mstride,\n\u001b[1;32m   3082\u001b[0m     is_split_into_words\u001b[39m=\u001b[39;49mis_split_into_words,\n\u001b[1;32m   3083\u001b[0m     pad_to_multiple_of\u001b[39m=\u001b[39;49mpad_to_multiple_of,\n\u001b[1;32m   3084\u001b[0m     return_tensors\u001b[39m=\u001b[39;49mreturn_tensors,\n\u001b[1;32m   3085\u001b[0m     return_token_type_ids\u001b[39m=\u001b[39;49mreturn_token_type_ids,\n\u001b[1;32m   3086\u001b[0m     return_attention_mask\u001b[39m=\u001b[39;49mreturn_attention_mask,\n\u001b[1;32m   3087\u001b[0m     return_overflowing_tokens\u001b[39m=\u001b[39;49mreturn_overflowing_tokens,\n\u001b[1;32m   3088\u001b[0m     return_special_tokens_mask\u001b[39m=\u001b[39;49mreturn_special_tokens_mask,\n\u001b[1;32m   3089\u001b[0m     return_offsets_mapping\u001b[39m=\u001b[39;49mreturn_offsets_mapping,\n\u001b[1;32m   3090\u001b[0m     return_length\u001b[39m=\u001b[39;49mreturn_length,\n\u001b[1;32m   3091\u001b[0m     verbose\u001b[39m=\u001b[39;49mverbose,\n\u001b[1;32m   3092\u001b[0m     \u001b[39m*\u001b[39;49m\u001b[39m*\u001b[39;49mkwargs,\n\u001b[1;32m   3093\u001b[0m )\n",
      "File \u001b[0;32m~/.pyenv/versions/3.10.12/envs/pytorch/lib/python3.10/site-packages/transformers/tokenization_utils.py:807\u001b[0m, in \u001b[0;36mPreTrainedTokenizer._batch_encode_plus\u001b[0;34m(self, batch_text_or_text_pairs, add_special_tokens, padding_strategy, truncation_strategy, max_length, stride, is_split_into_words, pad_to_multiple_of, return_tensors, return_token_type_ids, return_attention_mask, return_overflowing_tokens, return_special_tokens_mask, return_offsets_mapping, return_length, verbose, **kwargs)\u001b[0m\n\u001b[1;32m    804\u001b[0m     second_ids \u001b[39m=\u001b[39m get_input_ids(pair_ids) \u001b[39mif\u001b[39;00m pair_ids \u001b[39mis\u001b[39;00m \u001b[39mnot\u001b[39;00m \u001b[39mNone\u001b[39;00m \u001b[39melse\u001b[39;00m \u001b[39mNone\u001b[39;00m\n\u001b[1;32m    805\u001b[0m     input_ids\u001b[39m.\u001b[39mappend((first_ids, second_ids))\n\u001b[0;32m--> 807\u001b[0m batch_outputs \u001b[39m=\u001b[39m \u001b[39mself\u001b[39;49m\u001b[39m.\u001b[39;49m_batch_prepare_for_model(\n\u001b[1;32m    808\u001b[0m     input_ids,\n\u001b[1;32m    809\u001b[0m     add_special_tokens\u001b[39m=\u001b[39;49madd_special_tokens,\n\u001b[1;32m    810\u001b[0m     padding_strategy\u001b[39m=\u001b[39;49mpadding_strategy,\n\u001b[1;32m    811\u001b[0m     truncation_strategy\u001b[39m=\u001b[39;49mtruncation_strategy,\n\u001b[1;32m    812\u001b[0m     max_length\u001b[39m=\u001b[39;49mmax_length,\n\u001b[1;32m    813\u001b[0m     stride\u001b[39m=\u001b[39;49mstride,\n\u001b[1;32m    814\u001b[0m     pad_to_multiple_of\u001b[39m=\u001b[39;49mpad_to_multiple_of,\n\u001b[1;32m    815\u001b[0m     return_attention_mask\u001b[39m=\u001b[39;49mreturn_attention_mask,\n\u001b[1;32m    816\u001b[0m     return_token_type_ids\u001b[39m=\u001b[39;49mreturn_token_type_ids,\n\u001b[1;32m    817\u001b[0m     return_overflowing_tokens\u001b[39m=\u001b[39;49mreturn_overflowing_tokens,\n\u001b[1;32m    818\u001b[0m     return_special_tokens_mask\u001b[39m=\u001b[39;49mreturn_special_tokens_mask,\n\u001b[1;32m    819\u001b[0m     return_length\u001b[39m=\u001b[39;49mreturn_length,\n\u001b[1;32m    820\u001b[0m     return_tensors\u001b[39m=\u001b[39;49mreturn_tensors,\n\u001b[1;32m    821\u001b[0m     verbose\u001b[39m=\u001b[39;49mverbose,\n\u001b[1;32m    822\u001b[0m )\n\u001b[1;32m    824\u001b[0m \u001b[39mreturn\u001b[39;00m BatchEncoding(batch_outputs)\n",
      "File \u001b[0;32m~/.pyenv/versions/3.10.12/envs/pytorch/lib/python3.10/site-packages/transformers/tokenization_utils.py:887\u001b[0m, in \u001b[0;36mPreTrainedTokenizer._batch_prepare_for_model\u001b[0;34m(self, batch_ids_pairs, add_special_tokens, padding_strategy, truncation_strategy, max_length, stride, pad_to_multiple_of, return_tensors, return_token_type_ids, return_attention_mask, return_overflowing_tokens, return_special_tokens_mask, return_length, verbose)\u001b[0m\n\u001b[1;32m    877\u001b[0m         batch_outputs[key]\u001b[39m.\u001b[39mappend(value)\n\u001b[1;32m    879\u001b[0m batch_outputs \u001b[39m=\u001b[39m \u001b[39mself\u001b[39m\u001b[39m.\u001b[39mpad(\n\u001b[1;32m    880\u001b[0m     batch_outputs,\n\u001b[1;32m    881\u001b[0m     padding\u001b[39m=\u001b[39mpadding_strategy\u001b[39m.\u001b[39mvalue,\n\u001b[0;32m   (...)\u001b[0m\n\u001b[1;32m    884\u001b[0m     return_attention_mask\u001b[39m=\u001b[39mreturn_attention_mask,\n\u001b[1;32m    885\u001b[0m )\n\u001b[0;32m--> 887\u001b[0m batch_outputs \u001b[39m=\u001b[39m BatchEncoding(batch_outputs, tensor_type\u001b[39m=\u001b[39;49mreturn_tensors)\n\u001b[1;32m    889\u001b[0m \u001b[39mreturn\u001b[39;00m batch_outputs\n",
      "File \u001b[0;32m~/.pyenv/versions/3.10.12/envs/pytorch/lib/python3.10/site-packages/transformers/tokenization_utils_base.py:223\u001b[0m, in \u001b[0;36mBatchEncoding.__init__\u001b[0;34m(self, data, encoding, tensor_type, prepend_batch_axis, n_sequences)\u001b[0m\n\u001b[1;32m    219\u001b[0m     n_sequences \u001b[39m=\u001b[39m encoding[\u001b[39m0\u001b[39m]\u001b[39m.\u001b[39mn_sequences\n\u001b[1;32m    221\u001b[0m \u001b[39mself\u001b[39m\u001b[39m.\u001b[39m_n_sequences \u001b[39m=\u001b[39m n_sequences\n\u001b[0;32m--> 223\u001b[0m \u001b[39mself\u001b[39;49m\u001b[39m.\u001b[39;49mconvert_to_tensors(tensor_type\u001b[39m=\u001b[39;49mtensor_type, prepend_batch_axis\u001b[39m=\u001b[39;49mprepend_batch_axis)\n",
      "File \u001b[0;32m~/.pyenv/versions/3.10.12/envs/pytorch/lib/python3.10/site-packages/transformers/tokenization_utils_base.py:764\u001b[0m, in \u001b[0;36mBatchEncoding.convert_to_tensors\u001b[0;34m(self, tensor_type, prepend_batch_axis)\u001b[0m\n\u001b[1;32m    759\u001b[0m         \u001b[39mif\u001b[39;00m key \u001b[39m==\u001b[39m \u001b[39m\"\u001b[39m\u001b[39moverflowing_tokens\u001b[39m\u001b[39m\"\u001b[39m:\n\u001b[1;32m    760\u001b[0m             \u001b[39mraise\u001b[39;00m \u001b[39mValueError\u001b[39;00m(\n\u001b[1;32m    761\u001b[0m                 \u001b[39m\"\u001b[39m\u001b[39mUnable to create tensor returning overflowing tokens of different lengths. \u001b[39m\u001b[39m\"\u001b[39m\n\u001b[1;32m    762\u001b[0m                 \u001b[39m\"\u001b[39m\u001b[39mPlease see if a fast version of this tokenizer is available to have this feature available.\u001b[39m\u001b[39m\"\u001b[39m\n\u001b[1;32m    763\u001b[0m             ) \u001b[39mfrom\u001b[39;00m \u001b[39me\u001b[39;00m\n\u001b[0;32m--> 764\u001b[0m         \u001b[39mraise\u001b[39;00m \u001b[39mValueError\u001b[39;00m(\n\u001b[1;32m    765\u001b[0m             \u001b[39m\"\u001b[39m\u001b[39mUnable to create tensor, you should probably activate truncation and/or padding with\u001b[39m\u001b[39m\"\u001b[39m\n\u001b[1;32m    766\u001b[0m             \u001b[39m\"\u001b[39m\u001b[39m \u001b[39m\u001b[39m'\u001b[39m\u001b[39mpadding=True\u001b[39m\u001b[39m'\u001b[39m\u001b[39m \u001b[39m\u001b[39m'\u001b[39m\u001b[39mtruncation=True\u001b[39m\u001b[39m'\u001b[39m\u001b[39m to have batched tensors with the same length. Perhaps your\u001b[39m\u001b[39m\"\u001b[39m\n\u001b[1;32m    767\u001b[0m             \u001b[39mf\u001b[39m\u001b[39m\"\u001b[39m\u001b[39m features (`\u001b[39m\u001b[39m{\u001b[39;00mkey\u001b[39m}\u001b[39;00m\u001b[39m` in this case) have excessive nesting (inputs type `list` where type `int` is\u001b[39m\u001b[39m\"\u001b[39m\n\u001b[1;32m    768\u001b[0m             \u001b[39m\"\u001b[39m\u001b[39m expected).\u001b[39m\u001b[39m\"\u001b[39m\n\u001b[1;32m    769\u001b[0m         ) \u001b[39mfrom\u001b[39;00m \u001b[39me\u001b[39;00m\n\u001b[1;32m    771\u001b[0m \u001b[39mreturn\u001b[39;00m \u001b[39mself\u001b[39m\n",
      "\u001b[0;31mValueError\u001b[0m: Unable to create tensor, you should probably activate truncation and/or padding with 'padding=True' 'truncation=True' to have batched tensors with the same length. Perhaps your features (`input_ids` in this case) have excessive nesting (inputs type `list` where type `int` is expected)."
     ]
    }
   ],
   "source": [
    "ex1 = \"\"\"The woman who died after falling from a bridge over the A21 has been identified as a Sevenoaks mum. Marta Kendle, 37, fell from the Gracious Lane bridge on the morning of February 19. Police were called to the carriageway around 6.10am and the road was promptly closed in both directions. Despite paramedics best efforts, Marta, who was originally from Poland, was pronounced dead at the scene. Kent and Medway Coroners office have confirmed an inquest into her death will open on Wednesday (February 27). Tributes to the mum were left at the scene and on social media. Friend, Jodi Cahill posted on Facebook: \"I will certainly remember you. I am sorry we did not see how lost and alone you felt. \"Be at peace dear Marta.\" A floral tribute left at the scene said goodbye to the \"beautiful and kind soul\". It read: \"To a beautiful and kind soul, we are sorry we didn&apos;t see your pain. We will miss you always. \"Rest in peace Marta, Love from Lorraine, Colin and family.\" The inquest will take place at the Archbishop&apos;s Palace in Maidstone and will examine the circumstances surrounding Mrs Kendle&apos;s death. Are you struggling or know someone who is? Watch our video below to find out how the Samaritans could help. Mrs Kendle&apos;s death prompted the setting up of a petition calling for higher railings along the Gracious Lane bridge by Sevenoaks Common - to prevent people falling and to protect drivers from below. By today (February 25) 4,500 people had signed. The same site was the scene of another death in July last year when Southborough woman, Angela Skinner, 54, also died after falling on to the A21.\"\"\"\n",
    "# ex = \"hello world\"\n",
    "ex2 = \"ABC is a startup based in New York City and Paris\"\n",
    "ex = [ex1,ex2]\n",
    "tokens = tokenizer(ex, return_tensors='pt')\n",
    "input_ids = tokens.input_ids.cuda()\n",
    "print(input_ids.shape)\n",
    "seq_length = input_ids.size(1)\n",
    "attention_mask = tokens.attention_mask.cuda()\n",
    "\n",
    "embed_model = base_model.transformer.wte\n",
    "rotary_emb= base_model.transformer.rotary_emb\n",
    "input_embeds = embed_model(input_ids) \n",
    "# input_embeds = rot_embed(input_embeds) \n",
    "\n",
    "past_key_values_length = 0\n",
    "attention_mask = _prepare_4d_causal_attention_mask(\n",
    "            attention_mask, (1, seq_length),\n",
    "            input_embeds, past_key_values_length,\n",
    "            )\n",
    "\n",
    "ntk_alpha_list = [1.0]\n",
    "rotary_emb._ntk_alpha_cached_list = ntk_alpha_list\n",
    "rotary_pos_emb_list = [\n",
    "    rotary_emb(seq_length, ntk_alpha=ntk_alpha) for ntk_alpha in ntk_alpha_list\n",
    "]\n",
    "\n",
    "cos = torch.nn.CosineSimilarity(dim=2, eps=1e-6)\n",
    "similiarity = []\n",
    "with torch.no_grad():\n",
    "    # x = base_model.transformer(input_ids)[0]\n",
    "\n",
    "    x_old = input_embeds\n",
    "    # x_old = base_model.transformer.rotary_emb(input_embeds)\n",
    "    # x = base_model.transformer(input_ids=input_ids)[0]\n",
    "    # x = base_model.transformer(inputs_embeds=x_old)[0]\n",
    "    for idx, block in enumerate(base_model.transformer.h):\n",
    "        x_new = block(x_old, attention_mask=attention_mask, rotary_pos_emb_list=rotary_pos_emb_list )[0]\n",
    "        # similiarity.append(cos(x_new,x_old).cpu())\n",
    "        # similarity.append(cos(x_new[row_indices,last_token,:].to(torch.float32),x_old[row_indices,last_token,:].to(torch.float32)).cpu())\n",
    "        x_old = x_new\n",
    "    x = base_model.transformer.ln_f(x_new)\n",
    "    x = base_model.lm_head(x)\n",
    "print(x.shape)\n",
    "# similiarity = torch.stack(similiarity).squeeze()\n",
    "with torch.no_grad():\n",
    "    y = base_model(input_ids).logits\n",
    "print(torch.allclose(x,y))\n",
    "# print(torch.norm(x-y,dim=-1))\n",
    "# print(y)\n",
    "# print(y.shape)"
   ]
  },
  {
   "cell_type": "code",
   "execution_count": 6,
   "metadata": {},
   "outputs": [
    {
     "name": "stdout",
     "output_type": "stream",
     "text": [
      "QWenLMHeadModel(\n",
      "  (transformer): QWenModel(\n",
      "    (wte): Embedding(152064, 8192)\n",
      "    (drop): Dropout(p=0.0, inplace=False)\n",
      "    (rotary_emb): RotaryEmbedding()\n",
      "    (h): ModuleList(\n",
      "      (0-79): 80 x QWenBlock(\n",
      "        (ln_1): RMSNorm()\n",
      "        (attn): QWenAttention(\n",
      "          (c_attn): Linear4bit(in_features=8192, out_features=24576, bias=True)\n",
      "          (c_proj): Linear4bit(in_features=8192, out_features=8192, bias=False)\n",
      "          (core_attention_flash): FlashSelfAttention()\n",
      "          (attn_dropout): Dropout(p=0.0, inplace=False)\n",
      "        )\n",
      "        (ln_2): RMSNorm()\n",
      "        (mlp): QWenMLP(\n",
      "          (w1): Linear4bit(in_features=8192, out_features=24576, bias=False)\n",
      "          (w2): Linear4bit(in_features=8192, out_features=24576, bias=False)\n",
      "          (c_proj): Linear4bit(in_features=24576, out_features=8192, bias=False)\n",
      "        )\n",
      "      )\n",
      "    )\n",
      "    (ln_f): RMSNorm()\n",
      "  )\n",
      "  (lm_head): Linear(in_features=8192, out_features=152064, bias=False)\n",
      ")\n"
     ]
    }
   ],
   "source": [
    "print(base_model)"
   ]
  },
  {
   "cell_type": "code",
   "execution_count": 13,
   "metadata": {},
   "outputs": [
    {
     "data": {
      "image/png": "[encoded data removed]",
      "text/plain": [
       "<Figure size 400x300 with 1 Axes>"
      ]
     },
     "metadata": {},
     "output_type": "display_data"
    }
   ],
   "source": [
    "num_layers = len(base_model.model.layers)\n",
    "plt.figure(figsize=(4,3))\n",
    "plt.plot(torch.arange(num_layers)/num_layers, similiarity)\n",
    "# plt.plot(torch.arange(num_layers)/num_layers, similiarity[:,1:].mean(dim=1),\"k--\")\n",
    "plt.xlabel(\"model depth\")\n",
    "plt.ylabel(\"Cos Sim\")\n",
    "plt.title(f\"{model_name}\", fontsize= 10)\n",
    "plt.tight_layout()\n",
    "# plt.savefig(f\"test_{model_name.split('/')[-1]}.png\")\n",
    "plt.show()"
   ]
  },
  {
   "cell_type": "markdown",
   "metadata": {},
   "source": [
    "## Efficient"
   ]
  },
  {
   "cell_type": "code",
   "execution_count": 9,
   "metadata": {},
   "outputs": [],
   "source": [
    "from torch.utils.data import DataLoader\n",
    "######## dataset import ########\n",
    "dataset = load_dataset('c4',name = 'en', split='validation', streaming=True)\n",
    "\n",
    "def collate_fn(examples):\n",
    "    prompts = [example['text'] for example in examples]\n",
    "    return {'input': prompts}\n",
    "\n",
    "BATCH_SIZE = 1\n",
    "data_loader = DataLoader(dataset, batch_size=BATCH_SIZE, collate_fn=collate_fn)\n",
    "\n"
   ]
  },
  {
   "cell_type": "code",
   "execution_count": 14,
   "metadata": {},
   "outputs": [
    {
     "name": "stdout",
     "output_type": "stream",
     "text": [
      "90  skipped\n",
      "Elapsded time: 120.43349933624268\n"
     ]
    }
   ],
   "source": [
    "device = \"cuda\" if torch.cuda.is_available() else \"cpu\"\n",
    "\n",
    "num_batches = 100\n",
    "step_list = torch.arange(1,65)\n",
    "\n",
    "similarity = {}\n",
    "for step in step_list:\n",
    "    similarity[f\"{step}\"] = []\n",
    "\n",
    "tic = time.time()\n",
    "last_token_sim = []\n",
    "i = 0 \n",
    "for batch in data_loader:\n",
    "    i += 1\n",
    "    if i < num_batches+1:\n",
    "        print(i, end='\\r')\n",
    "        # print(batch['input'])\n",
    "        # print(len(batch['input']))\n",
    "    else:\n",
    "        break\n",
    "\n",
    "    cutoff_len = 2000\n",
    "    #  max_length=cutoff_len\n",
    "    skip = False\n",
    "    for text in batch['input']:\n",
    "        # print(len(text.split(' ')))\n",
    "        if len(text.split(' '))> cutoff_len:\n",
    "            skip = True\n",
    "            print(i, ' skipped')\n",
    "\n",
    "    if skip:\n",
    "        continue\n",
    "\n",
    "    tokens = tokenizer(batch['input'], padding = True, truncation=True , return_tensors='pt')\n",
    "    input_ids = tokens.input_ids.to(device=device)\n",
    "    # print(input_ids.shape)\n",
    "    seq_length = input_ids.size(1)\n",
    "    attention_mask = tokens.attention_mask.to(device=device)\n",
    "\n",
    "    embed_model = base_model.transformer.wte\n",
    "    rotary_emb= base_model.transformer.rotary_emb\n",
    "    input_embeds = embed_model(input_ids) \n",
    "\n",
    "    past_key_values_length = 0\n",
    "    attention_mask = _prepare_4d_causal_attention_mask(\n",
    "                attention_mask, (1, seq_length),\n",
    "                input_embeds, past_key_values_length,\n",
    "                )\n",
    "\n",
    "    ntk_alpha_list = [1.0]\n",
    "    rotary_emb._ntk_alpha_cached_list = ntk_alpha_list\n",
    "    rotary_pos_emb_list = [\n",
    "        rotary_emb(seq_length, ntk_alpha=ntk_alpha) for ntk_alpha in ntk_alpha_list\n",
    "    ]\n",
    "\n",
    "    ### Getting the position of the last non-padding token\n",
    "    ones = tokenizer.pad_token_id * torch.ones_like(input_ids)\n",
    "    last_token = input_ids == ones\n",
    "    row_indices = torch.arange(input_ids.size(0))\n",
    "    last_token = (torch.sum(last_token, dim = 1) + 1) * (-1)\n",
    "\n",
    "\n",
    "    # Extra 1 from BoS and the beginning of each string.\n",
    "    if tokenizer.bos_token_id == 1:\n",
    "        last_token+=1\n",
    "\n",
    "    # print(row_indices, last_token)\n",
    "    # print(\"Last token is\", tokenizer.decode(input_ids[row_indices, last_token]))\n",
    "    cos = torch.nn.CosineSimilarity(dim=1, eps=1e-6)\n",
    "\n",
    "    num_layers = len(base_model.transformer.h)\n",
    "    # print(num_layers)\n",
    "    x = input_embeds\n",
    "    x_list = []\n",
    "    x_list.append(x[row_indices,last_token,:].to(torch.float32).cpu())\n",
    "    with torch.no_grad():\n",
    "        for idx, block in enumerate(base_model.transformer.h):\n",
    "            x = block(x, attention_mask=attention_mask, rotary_pos_emb_list=rotary_pos_emb_list )[0]\n",
    "            x_list.append(x[row_indices,last_token,:].to(torch.float32).cpu())\n",
    "\n",
    "    for step in step_list:\n",
    "        sim_layer = []\n",
    "        for idx in range(num_layers-step+1):\n",
    "            # print(\"cos: \", cos(x_list[idx],x_list[idx+step]).shape)\n",
    "            sim_layer.append(cos(x_list[idx],x_list[idx+step]))\n",
    "        sim_layer = torch.stack(sim_layer,dim=1)\n",
    "        # print(\"sim_layer: \", sim_layer.shape)\n",
    "        similarity[f\"{step}\"].append(sim_layer)\n",
    "\n",
    "for step in step_list:\n",
    "    similarity[f\"{step}\"]= torch.cat(similarity[f\"{step}\"], dim=0)\n",
    "    # print(similarity[f\"{step}\"].shape)\n",
    "        \n",
    "    # # x = base_model.model.norm(x_new)\n",
    "    # # x = base_model.lm_head(x)\n",
    "    # similarity = torch.stack(similarity).squeeze()\n",
    "    # # print(\"sim:\", similarity.shape)\n",
    "    # last_token_sim.append(similarity)\n",
    "\n",
    "    # if i % 10 == 0 :\n",
    "    #     out_dir = \"data/\"\n",
    "    #     fname = out_dir+ f\"c4_{model_name.split('/')[-1]}_s_{step}_eff.json\"\n",
    "    #     last_token_sim_save= torch.cat(last_token_sim, dim = 1).tolist()\n",
    "    #     with open(fname, 'w') as f:\n",
    "    #         json.dump(last_token_sim_save, f)\n",
    "\n",
    "toc = time.time()\n",
    "\n",
    "# print(\"last_token_sim:\", last_token_sim.shape)\n",
    "print(f\"Elapsded time: {toc-tic}\")\n",
    "\n"
   ]
  },
  {
   "cell_type": "code",
   "execution_count": 1,
   "metadata": {},
   "outputs": [
    {
     "ename": "NameError",
     "evalue": "name 'step_list' is not defined",
     "output_type": "error",
     "traceback": [
      "\u001b[0;31m---------------------------------------------------------------------------\u001b[0m",
      "\u001b[0;31mNameError\u001b[0m                                 Traceback (most recent call last)",
      "Cell \u001b[0;32mIn[1], line 4\u001b[0m\n\u001b[1;32m      1\u001b[0m \u001b[39mimport\u001b[39;00m \u001b[39mmatplotlib\u001b[39;00m\u001b[39m.\u001b[39;00m\u001b[39mpyplot\u001b[39;00m \u001b[39mas\u001b[39;00m \u001b[39mplt\u001b[39;00m\n\u001b[1;32m      2\u001b[0m \u001b[39mimport\u001b[39;00m \u001b[39mnumpy\u001b[39;00m \u001b[39mas\u001b[39;00m \u001b[39mnp\u001b[39;00m\n\u001b[0;32m----> 4\u001b[0m colors \u001b[39m=\u001b[39m plt\u001b[39m.\u001b[39mcm\u001b[39m.\u001b[39mviridis(np\u001b[39m.\u001b[39mlinspace(\u001b[39m0\u001b[39m,\u001b[39m1\u001b[39m,\u001b[39m1\u001b[39m\u001b[39m+\u001b[39m\u001b[39mlen\u001b[39m(step_list)))\n\u001b[1;32m      5\u001b[0m x_min \u001b[39m=\u001b[39m []\n\u001b[1;32m      6\u001b[0m y_min \u001b[39m=\u001b[39m []\n",
      "\u001b[0;31mNameError\u001b[0m: name 'step_list' is not defined"
     ]
    }
   ],
   "source": [
    "import matplotlib.pyplot as plt\n",
    "import numpy as np\n",
    "\n",
    "colors = plt.cm.viridis(np.linspace(0,1,1+len(step_list)))\n",
    "x_min = []\n",
    "y_min = []\n",
    "plt.figure()#figsize=(5,2))\n",
    "for step in step_list:\n",
    "    # if step==1:\n",
    "    #     fname = out_dir+ f\"c4_{model_name.split('/')[-1]}_2.json\"\n",
    "    # else:\n",
    "    #     fname = out_dir+ f\"c4_{model_name.split('/')[-1]}_s_{step}_2.json\"\n",
    "    # last_token_sim_step =  file_reader(fname)\n",
    "    x = np.arange(num_layers-step+1)\n",
    "    y =  np.arccos(similarity[f\"{step}\"].detach().numpy()).mean(axis=0)/np.pi\n",
    "    idx_min = np.argmin(y)\n",
    "    x_min.append(x[idx_min])\n",
    "    y_min.append(y[idx_min])\n",
    "    # if step == num_layers//2:\n",
    "    #     plt.plot(x, y,\"r.-\", markersize=3,linewidth=1.5,label=f\"{step}\")\n",
    "    # else:\n",
    "    # plt.plot(x, y,\".-\", markersize=3,linewidth=1.5,color=colors[step],label=f\"{step}\")\n",
    "    # plt.plot(x, y,\".-\", markersize=3,linewidth=1.5,label=f\"{step}\")\n",
    "    if step == num_layers//2:\n",
    "        plt.plot(x, y,\"r.-\", markersize=3,linewidth=1.5,label=f\"{step}\")\n",
    "    else:\n",
    "        plt.plot(x, y,\".-\", markersize=3,linewidth=1.5,color=colors[step],label=f\"{step}\")\n",
    "\n",
    "plt.plot(x_min,y_min,\"kx-\",markersize=4,alpha=0.5)\n",
    "plt.xlabel(\"Layer Number\")# (similarity btw in and out of [x,x+1,x+2])\")\n",
    "plt.ylabel(\"Angular Distance\")\n",
    "plt.title(f\"{model_name.split('/')[-1]}\", fontsize= 10)\n",
    "# plt.grid()\n",
    "# plt.xlim(15.5,27.5)\n",
    "# plt.ylim(0.05,0.25)\n",
    "# plt.legend(bbox_to_anchor=(1.2, 1.0))\n",
    "plt.tight_layout()\n",
    "# plt.savefig(f\"c4_{model_name.split('/')[-1]}.png\")\n",
    "plt.show()"
   ]
  },
  {
   "cell_type": "code",
   "execution_count": 18,
   "metadata": {},
   "outputs": [
    {
     "name": "stdout",
     "output_type": "stream",
     "text": [
      "[8, 30, 30, 30, 30, 30, 30, 30, 30, 30, 28, 28, 27, 27, 26, 27, 26, 26, 25, 25, 24, 24, 23, 22, 22, 21, 4, 3, 4, 3, 2, 3, 4, 3, 3, 3, 3, 2, 4, 3, 3, 2, 2, 2, 2, 2, 2, 2, 2, 2, 2, 2, 2, 3, 2, 3, 2, 2, 2, 2, 2, 2, 2, 2]\n"
     ]
    }
   ],
   "source": [
    "print(x_min)"
   ]
  },
  {
   "cell_type": "markdown",
   "metadata": {},
   "source": [
    "## parallelized"
   ]
  },
  {
   "cell_type": "code",
   "execution_count": 1,
   "metadata": {},
   "outputs": [],
   "source": [
    "from torch.utils.data import DataLoader\n",
    "import datasets\n",
    "dataset = datasets.load_dataset('c4',name = 'en', split='validation', streaming=True)\n",
    "# dataset = datasets.load_dataset('garage-bAInd/Open-Platypus', streaming=True)\n",
    "\n",
    "def collate_fn(examples):\n",
    "    prompts = [example['text'] for example in examples]\n",
    "    return {'input': prompts}\n",
    "\n",
    "BATCH_SIZE = 4\n",
    "data_loader = DataLoader(dataset, batch_size=BATCH_SIZE, collate_fn=collate_fn)\n"
   ]
  },
  {
   "cell_type": "code",
   "execution_count": 3,
   "metadata": {},
   "outputs": [
    {
     "name": "stdout",
     "output_type": "stream",
     "text": [
      "963\n",
      "230\n",
      "8925\n",
      "100\n"
     ]
    }
   ],
   "source": [
    "i = 0 \n",
    "for batch in data_loader:\n",
    "    i += 1\n",
    "    if i == 51:\n",
    "        break\n",
    "\n",
    "for text in batch['input']:\n",
    "    print(len(text.split(' ')))"
   ]
  },
  {
   "cell_type": "code",
   "execution_count": 4,
   "metadata": {},
   "outputs": [
    {
     "name": "stderr",
     "output_type": "stream",
     "text": [
      "Asking to truncate to max_length but no maximum length is provided and the model has no predefined maximum length. Default to no truncation.\n"
     ]
    },
    {
     "name": "stdout",
     "output_type": "stream",
     "text": [
      "51\r"
     ]
    },
    {
     "ename": "OutOfMemoryError",
     "evalue": "CUDA out of memory. Tried to allocate 45.73 GiB (GPU 0; 22.19 GiB total capacity; 8.31 GiB already allocated; 7.64 GiB free; 13.43 GiB reserved in total by PyTorch) If reserved memory is >> allocated memory try setting max_split_size_mb to avoid fragmentation.  See documentation for Memory Management and PYTORCH_CUDA_ALLOC_CONF",
     "output_type": "error",
     "traceback": [
      "\u001b[0;31m---------------------------------------------------------------------------\u001b[0m",
      "\u001b[0;31mOutOfMemoryError\u001b[0m                          Traceback (most recent call last)",
      "Cell \u001b[0;32mIn[4], line 49\u001b[0m\n\u001b[1;32m     45\u001b[0m x_old \u001b[39m=\u001b[39m input_embeds\n\u001b[1;32m     46\u001b[0m \u001b[39mfor\u001b[39;00m idx, block \u001b[39min\u001b[39;00m \u001b[39menumerate\u001b[39m(base_model\u001b[39m.\u001b[39mmodel\u001b[39m.\u001b[39mlayers):\n\u001b[1;32m     47\u001b[0m     \u001b[39m# print(x_old.shape)\u001b[39;00m\n\u001b[1;32m     48\u001b[0m     \u001b[39m# print(x_new[row_indices,last_token,:].shape)\u001b[39;00m\n\u001b[0;32m---> 49\u001b[0m     x_new \u001b[39m=\u001b[39m block(x_old,attention_mask\u001b[39m=\u001b[39;49mattention_mask)[\u001b[39m0\u001b[39m]\n\u001b[1;32m     50\u001b[0m     \u001b[39m# similiarity.append(cos(x_new,x_old).cpu())\u001b[39;00m\n\u001b[1;32m     51\u001b[0m     similarity\u001b[39m.\u001b[39mappend(cos(x_new[row_indices,last_token,:],x_old[row_indices,last_token,:])\u001b[39m.\u001b[39mcpu())\n",
      "File \u001b[0;32m/opt/conda/envs/mytorch/lib/python3.10/site-packages/torch/nn/modules/module.py:1501\u001b[0m, in \u001b[0;36mModule._call_impl\u001b[0;34m(self, *args, **kwargs)\u001b[0m\n\u001b[1;32m   1496\u001b[0m \u001b[39m# If we don't have any hooks, we want to skip the rest of the logic in\u001b[39;00m\n\u001b[1;32m   1497\u001b[0m \u001b[39m# this function, and just call forward.\u001b[39;00m\n\u001b[1;32m   1498\u001b[0m \u001b[39mif\u001b[39;00m \u001b[39mnot\u001b[39;00m (\u001b[39mself\u001b[39m\u001b[39m.\u001b[39m_backward_hooks \u001b[39mor\u001b[39;00m \u001b[39mself\u001b[39m\u001b[39m.\u001b[39m_backward_pre_hooks \u001b[39mor\u001b[39;00m \u001b[39mself\u001b[39m\u001b[39m.\u001b[39m_forward_hooks \u001b[39mor\u001b[39;00m \u001b[39mself\u001b[39m\u001b[39m.\u001b[39m_forward_pre_hooks\n\u001b[1;32m   1499\u001b[0m         \u001b[39mor\u001b[39;00m _global_backward_pre_hooks \u001b[39mor\u001b[39;00m _global_backward_hooks\n\u001b[1;32m   1500\u001b[0m         \u001b[39mor\u001b[39;00m _global_forward_hooks \u001b[39mor\u001b[39;00m _global_forward_pre_hooks):\n\u001b[0;32m-> 1501\u001b[0m     \u001b[39mreturn\u001b[39;00m forward_call(\u001b[39m*\u001b[39;49margs, \u001b[39m*\u001b[39;49m\u001b[39m*\u001b[39;49mkwargs)\n\u001b[1;32m   1502\u001b[0m \u001b[39m# Do not call functions when jit is used\u001b[39;00m\n\u001b[1;32m   1503\u001b[0m full_backward_hooks, non_full_backward_hooks \u001b[39m=\u001b[39m [], []\n",
      "File \u001b[0;32m/opt/conda/envs/mytorch/lib/python3.10/site-packages/accelerate/hooks.py:165\u001b[0m, in \u001b[0;36madd_hook_to_module.<locals>.new_forward\u001b[0;34m(module, *args, **kwargs)\u001b[0m\n\u001b[1;32m    163\u001b[0m         output \u001b[39m=\u001b[39m module\u001b[39m.\u001b[39m_old_forward(\u001b[39m*\u001b[39margs, \u001b[39m*\u001b[39m\u001b[39m*\u001b[39mkwargs)\n\u001b[1;32m    164\u001b[0m \u001b[39melse\u001b[39;00m:\n\u001b[0;32m--> 165\u001b[0m     output \u001b[39m=\u001b[39m module\u001b[39m.\u001b[39;49m_old_forward(\u001b[39m*\u001b[39;49margs, \u001b[39m*\u001b[39;49m\u001b[39m*\u001b[39;49mkwargs)\n\u001b[1;32m    166\u001b[0m \u001b[39mreturn\u001b[39;00m module\u001b[39m.\u001b[39m_hf_hook\u001b[39m.\u001b[39mpost_forward(module, output)\n",
      "File \u001b[0;32m/opt/conda/envs/mytorch/lib/python3.10/site-packages/transformers/models/llama/modeling_llama.py:672\u001b[0m, in \u001b[0;36mLlamaDecoderLayer.forward\u001b[0;34m(self, hidden_states, attention_mask, position_ids, past_key_value, output_attentions, use_cache, **kwargs)\u001b[0m\n\u001b[1;32m    669\u001b[0m hidden_states \u001b[39m=\u001b[39m \u001b[39mself\u001b[39m\u001b[39m.\u001b[39minput_layernorm(hidden_states)\n\u001b[1;32m    671\u001b[0m \u001b[39m# Self Attention\u001b[39;00m\n\u001b[0;32m--> 672\u001b[0m hidden_states, self_attn_weights, present_key_value \u001b[39m=\u001b[39m \u001b[39mself\u001b[39;49m\u001b[39m.\u001b[39;49mself_attn(\n\u001b[1;32m    673\u001b[0m     hidden_states\u001b[39m=\u001b[39;49mhidden_states,\n\u001b[1;32m    674\u001b[0m     attention_mask\u001b[39m=\u001b[39;49mattention_mask,\n\u001b[1;32m    675\u001b[0m     position_ids\u001b[39m=\u001b[39;49mposition_ids,\n\u001b[1;32m    676\u001b[0m     past_key_value\u001b[39m=\u001b[39;49mpast_key_value,\n\u001b[1;32m    677\u001b[0m     output_attentions\u001b[39m=\u001b[39;49moutput_attentions,\n\u001b[1;32m    678\u001b[0m     use_cache\u001b[39m=\u001b[39;49muse_cache,\n\u001b[1;32m    679\u001b[0m     \u001b[39m*\u001b[39;49m\u001b[39m*\u001b[39;49mkwargs,\n\u001b[1;32m    680\u001b[0m )\n\u001b[1;32m    681\u001b[0m hidden_states \u001b[39m=\u001b[39m residual \u001b[39m+\u001b[39m hidden_states\n\u001b[1;32m    683\u001b[0m \u001b[39m# Fully Connected\u001b[39;00m\n",
      "File \u001b[0;32m/opt/conda/envs/mytorch/lib/python3.10/site-packages/torch/nn/modules/module.py:1501\u001b[0m, in \u001b[0;36mModule._call_impl\u001b[0;34m(self, *args, **kwargs)\u001b[0m\n\u001b[1;32m   1496\u001b[0m \u001b[39m# If we don't have any hooks, we want to skip the rest of the logic in\u001b[39;00m\n\u001b[1;32m   1497\u001b[0m \u001b[39m# this function, and just call forward.\u001b[39;00m\n\u001b[1;32m   1498\u001b[0m \u001b[39mif\u001b[39;00m \u001b[39mnot\u001b[39;00m (\u001b[39mself\u001b[39m\u001b[39m.\u001b[39m_backward_hooks \u001b[39mor\u001b[39;00m \u001b[39mself\u001b[39m\u001b[39m.\u001b[39m_backward_pre_hooks \u001b[39mor\u001b[39;00m \u001b[39mself\u001b[39m\u001b[39m.\u001b[39m_forward_hooks \u001b[39mor\u001b[39;00m \u001b[39mself\u001b[39m\u001b[39m.\u001b[39m_forward_pre_hooks\n\u001b[1;32m   1499\u001b[0m         \u001b[39mor\u001b[39;00m _global_backward_pre_hooks \u001b[39mor\u001b[39;00m _global_backward_hooks\n\u001b[1;32m   1500\u001b[0m         \u001b[39mor\u001b[39;00m _global_forward_hooks \u001b[39mor\u001b[39;00m _global_forward_pre_hooks):\n\u001b[0;32m-> 1501\u001b[0m     \u001b[39mreturn\u001b[39;00m forward_call(\u001b[39m*\u001b[39;49margs, \u001b[39m*\u001b[39;49m\u001b[39m*\u001b[39;49mkwargs)\n\u001b[1;32m   1502\u001b[0m \u001b[39m# Do not call functions when jit is used\u001b[39;00m\n\u001b[1;32m   1503\u001b[0m full_backward_hooks, non_full_backward_hooks \u001b[39m=\u001b[39m [], []\n",
      "File \u001b[0;32m/opt/conda/envs/mytorch/lib/python3.10/site-packages/accelerate/hooks.py:165\u001b[0m, in \u001b[0;36madd_hook_to_module.<locals>.new_forward\u001b[0;34m(module, *args, **kwargs)\u001b[0m\n\u001b[1;32m    163\u001b[0m         output \u001b[39m=\u001b[39m module\u001b[39m.\u001b[39m_old_forward(\u001b[39m*\u001b[39margs, \u001b[39m*\u001b[39m\u001b[39m*\u001b[39mkwargs)\n\u001b[1;32m    164\u001b[0m \u001b[39melse\u001b[39;00m:\n\u001b[0;32m--> 165\u001b[0m     output \u001b[39m=\u001b[39m module\u001b[39m.\u001b[39;49m_old_forward(\u001b[39m*\u001b[39;49margs, \u001b[39m*\u001b[39;49m\u001b[39m*\u001b[39;49mkwargs)\n\u001b[1;32m    166\u001b[0m \u001b[39mreturn\u001b[39;00m module\u001b[39m.\u001b[39m_hf_hook\u001b[39m.\u001b[39mpost_forward(module, output)\n",
      "File \u001b[0;32m/opt/conda/envs/mytorch/lib/python3.10/site-packages/transformers/models/llama/modeling_llama.py:390\u001b[0m, in \u001b[0;36mLlamaAttention.forward\u001b[0;34m(self, hidden_states, attention_mask, position_ids, past_key_value, output_attentions, use_cache, **kwargs)\u001b[0m\n\u001b[1;32m    387\u001b[0m key_states \u001b[39m=\u001b[39m repeat_kv(key_states, \u001b[39mself\u001b[39m\u001b[39m.\u001b[39mnum_key_value_groups)\n\u001b[1;32m    388\u001b[0m value_states \u001b[39m=\u001b[39m repeat_kv(value_states, \u001b[39mself\u001b[39m\u001b[39m.\u001b[39mnum_key_value_groups)\n\u001b[0;32m--> 390\u001b[0m attn_weights \u001b[39m=\u001b[39m torch\u001b[39m.\u001b[39;49mmatmul(query_states, key_states\u001b[39m.\u001b[39;49mtranspose(\u001b[39m2\u001b[39;49m, \u001b[39m3\u001b[39;49m)) \u001b[39m/\u001b[39m math\u001b[39m.\u001b[39msqrt(\u001b[39mself\u001b[39m\u001b[39m.\u001b[39mhead_dim)\n\u001b[1;32m    392\u001b[0m \u001b[39mif\u001b[39;00m attn_weights\u001b[39m.\u001b[39msize() \u001b[39m!=\u001b[39m (bsz, \u001b[39mself\u001b[39m\u001b[39m.\u001b[39mnum_heads, q_len, kv_seq_len):\n\u001b[1;32m    393\u001b[0m     \u001b[39mraise\u001b[39;00m \u001b[39mValueError\u001b[39;00m(\n\u001b[1;32m    394\u001b[0m         \u001b[39mf\u001b[39m\u001b[39m\"\u001b[39m\u001b[39mAttention weights should be of size \u001b[39m\u001b[39m{\u001b[39;00m(bsz,\u001b[39m \u001b[39m\u001b[39mself\u001b[39m\u001b[39m.\u001b[39mnum_heads,\u001b[39m \u001b[39mq_len,\u001b[39m \u001b[39mkv_seq_len)\u001b[39m}\u001b[39;00m\u001b[39m, but is\u001b[39m\u001b[39m\"\u001b[39m\n\u001b[1;32m    395\u001b[0m         \u001b[39mf\u001b[39m\u001b[39m\"\u001b[39m\u001b[39m \u001b[39m\u001b[39m{\u001b[39;00mattn_weights\u001b[39m.\u001b[39msize()\u001b[39m}\u001b[39;00m\u001b[39m\"\u001b[39m\n\u001b[1;32m    396\u001b[0m     )\n",
      "\u001b[0;31mOutOfMemoryError\u001b[0m: CUDA out of memory. Tried to allocate 45.73 GiB (GPU 0; 22.19 GiB total capacity; 8.31 GiB already allocated; 7.64 GiB free; 13.43 GiB reserved in total by PyTorch) If reserved memory is >> allocated memory try setting max_split_size_mb to avoid fragmentation.  See documentation for Memory Management and PYTORCH_CUDA_ALLOC_CONF"
     ]
    }
   ],
   "source": [
    "device = \"cuda\"\n",
    "last_token_sim = []\n",
    "num_batches = 100\n",
    "i = 0 \n",
    "for batch in data_loader:\n",
    "    i += 1\n",
    "    if i < num_batches+1:\n",
    "        print(i, end='\\r')\n",
    "        # print(batch['input'])\n",
    "        # print(len(batch['input']))\n",
    "    else:\n",
    "        break\n",
    "        \n",
    "    tokens = tokenizer(batch['input'], padding=True, truncation=True, return_tensors='pt')\n",
    "    input_ids = tokens.input_ids.to(device=device)\n",
    "    # print(input_ids.shape)\n",
    "    seq_length = input_ids.size(1)\n",
    "    attention_mask = tokens.attention_mask.to(device=device)\n",
    "\n",
    "    input_embeds = base_model.model.embed_tokens(input_ids) \n",
    "\n",
    "    attention_mask = _prepare_4d_causal_attention_mask(\n",
    "                attention_mask, (BATCH_SIZE, seq_length),\n",
    "                input_embeds, 0)\n",
    "    \n",
    "    input_embeds = base_model.model.embed_tokens(input_ids) \n",
    "\n",
    "    ### Getting the position of the last non-padding token\n",
    "    ones = tokenizer.pad_token_id * torch.ones_like(input_ids)\n",
    "    last_token = input_ids == ones\n",
    "    row_indices = torch.arange(input_ids.size(0))\n",
    "    last_token = (torch.sum(last_token, dim = 1) + 1) * (-1)\n",
    "\n",
    "\n",
    "    # Extra 1 from BoS and the beginning of each string.\n",
    "    if tokenizer.bos_token_id == 1:\n",
    "        last_token+=1\n",
    "\n",
    "    # print(row_indices, last_token)\n",
    "    # print(\"Last token is\", tokenizer.decode(input_ids[row_indices, last_token]))\n",
    "    cos = torch.nn.CosineSimilarity(dim=1, eps=1e-6)\n",
    "\n",
    "    similarity = []\n",
    "    with torch.no_grad():\n",
    "        x_old = input_embeds\n",
    "        for idx, block in enumerate(base_model.model.layers):\n",
    "            # print(x_old.shape)\n",
    "            # print(x_new[row_indices,last_token,:].shape)\n",
    "            x_new = block(x_old,attention_mask=attention_mask)[0]\n",
    "            # similiarity.append(cos(x_new,x_old).cpu())\n",
    "            similarity.append(cos(x_new[row_indices,last_token,:],x_old[row_indices,last_token,:]).cpu())\n",
    "            x_old = x_new\n",
    "        x = base_model.model.norm(x_new)\n",
    "        x = base_model.lm_head(x)\n",
    "    similarity = torch.stack(similarity).squeeze()\n",
    "    # print(\"sim:\", similarity.shape)\n",
    "    last_token_sim.append(similarity)\n",
    "\n",
    "\n",
    "last_token_sim = torch.cat(last_token_sim, dim = 1)\n",
    "print(\"last_token_sim:\", last_token_sim.shape)\n",
    "\n"
   ]
  },
  {
   "cell_type": "code",
   "execution_count": null,
   "metadata": {},
   "outputs": [
    {
     "data": {
      "image/png": "[encoded data removed]",
      "text/plain": [
       "<Figure size 400x300 with 1 Axes>"
      ]
     },
     "metadata": {},
     "output_type": "display_data"
    }
   ],
   "source": [
    "num_layers = len(base_model.model.layers)\n",
    "plt.figure(figsize=(4,3))\n",
    "plt.plot(torch.arange(num_layers)/num_layers, last_token_sim)\n",
    "plt.plot(torch.arange(num_layers)/num_layers, last_token_sim.mean(dim=1),\"k--\")\n",
    "plt.xlabel(\"model depth\")\n",
    "plt.ylabel(\"Cos Sim\")\n",
    "plt.title(f\"{model_name.split('/')[-1]}\", fontsize= 10)\n",
    "plt.tight_layout()\n",
    "# plt.savefig(f\"c4_{model_name.split('/')[-1]}.png\")\n",
    "plt.show()"
   ]
  },
  {
   "cell_type": "code",
   "execution_count": null,
   "metadata": {},
   "outputs": [],
   "source": []
  }
 ],
 "metadata": {
  "kernelspec": {
   "display_name": "mytorch",
   "language": "python",
   "name": "python3"
  },
  "language_info": {
   "codemirror_mode": {
    "name": "ipython",
    "version": 3
   },
   "file_extension": ".py",
   "mimetype": "text/x-python",
   "name": "python",
   "nbconvert_exporter": "python",
   "pygments_lexer": "ipython3",
   "version": "3.10.12"
  },
  "orig_nbformat": 4
 },
 "nbformat": 4,
 "nbformat_minor": 2
}
