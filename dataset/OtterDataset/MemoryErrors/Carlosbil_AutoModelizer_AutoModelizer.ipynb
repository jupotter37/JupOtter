{
 "cells": [
  {
   "cell_type": "markdown",
   "metadata": {},
   "source": [
    "# AutoModelizer\n",
    "---\n",
    "\n",
    "La idea de este proyecto es encontrar el mejor modelo de CNN que se adapte al dataset correspondiente, para ello usando algoritmos evolutivos. Este tipo de soluciones se conocen como neuroevoluciones\n",
    "\n",
    "A continuación un ejemplo básico de como funcionan este tipo de algoritmos"
   ]
  },
  {
   "cell_type": "code",
   "execution_count": 2,
   "metadata": {},
   "outputs": [],
   "source": [
    "import numpy as np\n",
    "import torch\n",
    "import torchvision\n",
    "import torchvision.datasets as datasets\n",
    "import torchvision.transforms as transforms\n",
    "from torch.utils.data import DataLoader\n",
    "import torch.nn as nn\n",
    "import torch.optim as optim\n",
    "import torch.nn.functional as F\n",
    "import matplotlib.pyplot as plt\n",
    "\n",
    "def fitness(x):\n",
    "    return x ** 2\n",
    "\n",
    "population_size = 10\n",
    "population = np.random.uniform(-10, 10, population_size)"
   ]
  },
  {
   "cell_type": "code",
   "execution_count": 2,
   "metadata": {},
   "outputs": [],
   "source": [
    "def select_parent_tournament(population, scores, k=3):\n",
    "    selection_ix = np.random.randint(len(population), size=k)\n",
    "    selected = population[selection_ix]\n",
    "    ix = np.argmax(scores[selection_ix])\n",
    "    return selected[ix]\n",
    "\n",
    "def crossover_test(p1, p2):\n",
    "    child = (p1 + p2) / 2\n",
    "    return child\n",
    "\n",
    "def mutate(x):\n",
    "    mutation_chance = 0.1\n",
    "    if np.random.rand() < mutation_chance:\n",
    "        x += np.random.uniform(-1, 1)\n",
    "    return x"
   ]
  },
  {
   "cell_type": "code",
   "execution_count": 3,
   "metadata": {},
   "outputs": [
    {
     "name": "stdout",
     "output_type": "stream",
     "text": [
      "Generación 0, x = -0.9183337529939948 Mejor puntuación 96.2425680255805\n",
      "Generación 1, x = -8.593400938020785 Mejor puntuación 85.07431122598958\n",
      "Generación 2, x = -8.750944120745524 Mejor puntuación 79.74839477044402\n",
      "Generación 3, x = -8.930195673692936 Mejor puntuación 79.74839477044402\n",
      "Generación 4, x = -8.953954059785891 Mejor puntuación 82.21662243853557\n",
      "Generación 5, x = -9.17857059380556 Mejor puntuación 83.18376082186869\n",
      "Generación 6, x = -9.05964006826867 Mejor puntuación 84.24615814547215\n",
      "Generación 7, x = -9.17857059380556 Mejor puntuación 100.58557906009075\n",
      "Generación 8, x = -9.4374482352009 Mejor puntuación 92.23496060292985\n",
      "Generación 9, x = -9.585713653420843 Mejor puntuación 91.88590624537876\n",
      "Generación 10, x = -9.532547052084277 Mejor puntuación 91.88590624537876\n",
      "Generación 11, x = -9.559130352752561 Mejor puntuación 91.88590624537876\n",
      "Generación 12, x = -9.807004600766422 Mejor puntuación 100.566711600283\n",
      "Generación 13, x = -9.571813770462722 Mejor puntuación 100.566711600283\n",
      "Generación 14, x = -10.113465230922312 Mejor puntuación 108.5748549503663\n",
      "Generación 15, x = -10.113465230922312 Mejor puntuación 103.40424873323425\n",
      "Generación 16, x = -10.217715341154001 Mejor puntuación 105.97269655260115\n",
      "Generación 17, x = -10.406574570169207 Mejor puntuación 122.44995861413577\n",
      "Generación 18, x = -10.912801089408777 Mejor puntuación 125.07937401639249\n",
      "Generación 19, x = -10.9307103346142 Mejor puntuación 125.07937401639249\n",
      "Generación 20, x = -11.124799989193704 Mejor puntuación 124.41940152905339\n",
      "Generación 21, x = -11.154344513643704 Mejor puntuación 134.35402538006048\n",
      "Generación 22, x = -11.263537981105069 Mejor puntuación 134.35402538006048\n",
      "Generación 23, x = -11.64729980468525 Mejor puntuación 142.30710796120977\n",
      "Generación 24, x = -11.705589603972182 Mejor puntuación 137.02082797662163\n",
      "Generación 25, x = -11.705589603972182 Mejor puntuación 137.02082797662163\n",
      "Generación 26, x = -12.00650828597012 Mejor puntuación 150.5811520422433\n",
      "Generación 27, x = -12.00650828597012 Mejor puntuación 144.15624122106917\n",
      "Generación 28, x = -11.992904877092073 Mejor puntuación 144.15624122106917\n",
      "Generación 29, x = -11.943557081108365 Mejor puntuación 143.93855087817937\n",
      "Generación 30, x = -11.992904877092073 Mejor puntuación 143.93855087817937\n",
      "Generación 31, x = -11.997439346718089 Mejor puntuación 143.93855087817937\n",
      "Generación 32, x = -11.997439346718089 Mejor puntuación 143.93855087817937\n",
      "Generación 33, x = -11.997439346718089 Mejor puntuación 157.24528247659705\n",
      "Generación 34, x = -12.539748102597478 Mejor puntuación 157.24528247659705\n",
      "Generación 35, x = -11.518608996584126 Mejor puntuación 157.24528247659705\n",
      "Generación 36, x = -12.438065210870093 Mejor puntuación 155.54977397199914\n",
      "Generación 37, x = -13.393343656936173 Mejor puntuación 155.54977397199914\n",
      "Generación 38, x = -12.932651582524365 Mejor puntuación 179.38165431279242\n",
      "Generación 39, x = -12.98825506716945 Mejor puntuación 170.91820018957526\n",
      "Generación 40, x = -13.066141209879103 Mejor puntuación 170.91820018957526\n",
      "Generación 41, x = -13.372453514080288 Mejor puntuación 186.90548997227526\n",
      "Generación 42, x = -13.370596625908242 Mejor puntuación 178.82251298623825\n",
      "Generación 43, x = -13.372453514080288 Mejor puntuación 178.82251298623825\n",
      "Generación 44, x = -13.372453514080288 Mejor puntuación 178.82251298623825\n",
      "Generación 45, x = -13.372453514080288 Mejor puntuación 178.82251298623825\n",
      "Generación 46, x = -13.755041006954773 Mejor puntuación 199.87253959918448\n",
      "Generación 47, x = -13.775372263927647 Mejor puntuación 199.87253959918448\n",
      "Generación 48, x = -14.041981626610637 Mejor puntuación 199.87253959918448\n",
      "Generación 49, x = -14.13004102394599 Mejor puntuación 199.87253959918448\n",
      "Generación 50, x = -14.13573163085844 Mejor puntuación 215.50151423580982\n",
      "Generación 51, x = -14.408799165359106 Mejor puntuación 209.6902840466246\n",
      "Generación 52, x = -14.599785026425915 Mejor puntuación 216.64553046536514\n",
      "Generación 53, x = -14.718883465309627 Mejor puntuación 216.64553046536514\n",
      "Generación 54, x = -14.6891088555887 Mejor puntuación 216.64553046536514\n",
      "Generación 55, x = -14.65708776392455 Mejor puntuación 215.76991897133436\n",
      "Generación 56, x = -14.949007834284581 Mejor puntuación 231.76390734240798\n",
      "Generación 57, x = -14.949007834284581 Mejor puntuación 231.76390734240798\n",
      "Generación 58, x = -15.017704405173667 Mejor puntuación 231.76390734240798\n",
      "Generación 59, x = -15.120749261507296 Mejor puntuación 231.76390734240798\n",
      "Generación 60, x = -15.137923404229568 Mejor puntuación 237.90922824663002\n",
      "Generación 61, x = -15.749821171427428 Mejor puntuación 262.7621666077555\n",
      "Generación 62, x = -16.209940364102376 Mejor puntuación 262.7621666077555\n",
      "Generación 63, x = -16.09491056593364 Mejor puntuación 262.7621666077555\n",
      "Generación 64, x = -16.152425465018005 Mejor puntuación 276.3258583786461\n",
      "Generación 65, x = -15.850589889499364 Mejor puntuación 276.3258583786461\n",
      "Generación 66, x = -16.613874848003377 Mejor puntuación 279.1564483764517\n",
      "Generación 67, x = -16.666619254117172 Mejor puntuación 277.81304679327206\n",
      "Generación 68, x = -16.667724703548235 Mejor puntuación 301.81882911009717\n",
      "Generación 69, x = -16.925347038243352 Mejor puntuación 289.69160798130287\n",
      "Generación 70, x = -17.02032925596044 Mejor puntuación 301.4576772335756\n",
      "Generación 71, x = -17.19143292866036 Mejor puntuación 295.5453661406278\n",
      "Generación 72, x = -17.19143292866036 Mejor puntuación 295.5453661406278\n",
      "Generación 73, x = -17.19143292866036 Mejor puntuación 295.5453661406278\n",
      "Generación 74, x = -17.19143292866036 Mejor puntuación 295.5453661406278\n",
      "Generación 75, x = -17.26904694352159 Mejor puntuación 295.5453661406278\n",
      "Generación 76, x = -17.230239936090975 Mejor puntuación 298.2199823375524\n",
      "Generación 77, x = -17.230239936090975 Mejor puntuación 296.8811682552643\n",
      "Generación 78, x = -17.230239936090975 Mejor puntuación 296.8811682552643\n",
      "Generación 79, x = -17.230239936090975 Mejor puntuación 296.8811682552643\n",
      "Generación 80, x = -17.288548972334908 Mejor puntuación 300.9134827697959\n",
      "Generación 81, x = -17.288548972334908 Mejor puntuación 300.9134827697959\n",
      "Generación 82, x = -17.317703490456875 Mejor puntuación 299.9028541833822\n",
      "Generación 83, x = -17.317703490456875 Mejor puntuación 299.9028541833822\n",
      "Generación 84, x = -17.317703490456875 Mejor puntuación 299.9028541833822\n",
      "Generación 85, x = -17.317703490456875 Mejor puntuación 299.9028541833822\n",
      "Generación 86, x = -17.317703490456875 Mejor puntuación 299.9028541833822\n",
      "Generación 87, x = -17.317703490456875 Mejor puntuación 320.16221000376646\n",
      "Generación 88, x = -17.832810245882676 Mejor puntuación 318.00912126565817\n",
      "Generación 89, x = -17.704033557026225 Mejor puntuación 318.00912126565817\n",
      "Generación 90, x = -17.73999441093614 Mejor puntuación 315.9845855778083\n",
      "Generación 91, x = -17.775955264846058 Mejor puntuación 315.9845855778083\n",
      "Generación 92, x = -18.13430678877998 Mejor puntuación 341.9784114707866\n",
      "Generación 93, x = -18.12981168204124 Mejor puntuación 328.85308270959166\n",
      "Generación 94, x = -18.61891106315816 Mejor puntuación 364.9442982514862\n",
      "Generación 95, x = -18.61891106315816 Mejor puntuación 346.6638491777933\n",
      "Generación 96, x = -18.61891106315816 Mejor puntuación 346.6638491777933\n",
      "Generación 97, x = -18.61891106315816 Mejor puntuación 346.6638491777933\n",
      "Generación 98, x = -18.61891106315816 Mejor puntuación 362.5803953989936\n",
      "Generación 99, x = -19.041543934224283 Mejor puntuación 362.5803953989936\n",
      "Generación 100, x = -19.125575807898304 Mejor puntuación 365.7876499836649\n",
      "Generación 101, x = -19.124872072760446 Mejor puntuación 365.7876499836649\n",
      "Generación 102, x = -19.1045678394798 Mejor puntuación 365.76073179945246\n",
      "Generación 103, x = -19.731362495788257 Mejor puntuación 365.76073179945246\n",
      "Generación 104, x = -19.218512644314764 Mejor puntuación 389.3266659401994\n",
      "Generación 105, x = -19.42811728427435 Mejor puntuación 381.0990297816083\n",
      "Generación 106, x = -19.42811728427435 Mejor puntuación 379.2731933574038\n",
      "Generación 107, x = -19.46323249860722 Mejor puntuación 403.2740442661437\n",
      "Generación 108, x = -19.760186712544925 Mejor puntuación 391.1815834136415\n",
      "Generación 109, x = -19.76603924826707 Mejor puntuación 391.1815834136415\n",
      "Generación 110, x = -19.77538466643363 Mejor puntuación 398.7943003616975\n",
      "Generación 111, x = -20.1246732349358 Mejor puntuación 419.12320177298335\n",
      "Generación 112, x = -20.1729199749699 Mejor puntuación 408.8955833159859\n",
      "Generación 113, x = -20.164628359945866 Mejor puntuación 406.9467003165396\n",
      "Generación 114, x = -20.164655193263712 Mejor puntuación 406.9467003165396\n",
      "Generación 115, x = -20.1729199749699 Mejor puntuación 413.8541128743177\n",
      "Generación 116, x = -20.300783483466958 Mejor puntuación 413.8541128743177\n",
      "Generación 117, x = -20.300783483466958 Mejor puntuación 412.12181004260486\n",
      "Generación 118, x = -19.41404919959269 Mejor puntuación 412.12181004260486\n",
      "Generación 119, x = -20.300783483466958 Mejor puntuación 412.12181004260486\n",
      "Generación 120, x = -20.300783483466958 Mejor puntuación 412.12181004260486\n",
      "Generación 121, x = -20.300783483466958 Mejor puntuación 427.9513249163865\n",
      "Generación 122, x = -20.68698443264234 Mejor puntuación 427.9513249163865\n",
      "Generación 123, x = -20.638709313995417 Mejor puntuación 427.9513249163865\n",
      "Generación 124, x = -20.68698443264234 Mejor puntuación 427.9513249163865\n",
      "Generación 125, x = -20.68698443264234 Mejor puntuación 427.9513249163865\n",
      "Generación 126, x = -20.68698443264234 Mejor puntuación 455.38862056896244\n",
      "Generación 127, x = -21.013410451351866 Mejor puntuación 441.56341879698385\n",
      "Generación 128, x = -21.013410451351866 Mejor puntuación 441.56341879698385\n",
      "Generación 129, x = -21.013410451351866 Mejor puntuación 441.56341879698385\n",
      "Generación 130, x = -21.013410451351866 Mejor puntuación 441.56341879698385\n",
      "Generación 131, x = -21.013410451351866 Mejor puntuación 441.56341879698385\n",
      "Generación 132, x = -21.013410451351866 Mejor puntuación 441.56341879698385\n",
      "Generación 133, x = -21.222134933461472 Mejor puntuación 441.56341879698385\n",
      "Generación 134, x = -21.117772692406668 Mejor puntuación 450.37901113404575\n",
      "Generación 135, x = -21.222134933461472 Mejor puntuación 450.37901113404575\n",
      "Generación 136, x = -21.222134933461472 Mejor puntuación 480.4462038093888\n",
      "Generación 137, x = -21.718755495786617 Mejor puntuación 480.4462038093888\n",
      "Generación 138, x = -21.868403672147643 Mejor puntuación 493.6563853679772\n",
      "Generación 139, x = -22.292330941247403 Mejor puntuación 512.3931556561939\n",
      "Generación 140, x = -22.333004305370622 Mejor puntuación 502.08407600931906\n",
      "Generación 141, x = -22.436241311988724 Mejor puntuación 498.76308130370273\n",
      "Generación 142, x = -22.436241311988724 Mejor puntuación 503.38492420978946\n",
      "Generación 143, x = -22.37744145051855 Mejor puntuación 531.5828100734577\n",
      "Generación 144, x = -22.729665189600475 Mejor puntuación 531.5828100734577\n",
      "Generación 145, x = -22.737912842054385 Mejor puntuación 557.0456047079537\n",
      "Generación 146, x = -23.07049837263274 Mejor puntuación 557.0456047079537\n",
      "Generación 147, x = -23.422516387251832 Mejor puntuación 548.6142739110807\n",
      "Generación 148, x = -23.422516387251832 Mejor puntuación 548.6142739110807\n",
      "Generación 149, x = -23.422516387251832 Mejor puntuación 548.6142739110807\n",
      "Generación 150, x = -23.422516387251832 Mejor puntuación 548.6142739110807\n",
      "Generación 151, x = -23.422516387251832 Mejor puntuación 548.6142739110807\n",
      "Generación 152, x = -23.422516387251832 Mejor puntuación 548.6142739110807\n",
      "Generación 153, x = -23.422516387251832 Mejor puntuación 548.6142739110807\n",
      "Generación 154, x = -23.422516387251832 Mejor puntuación 548.6142739110807\n",
      "Generación 155, x = -23.422516387251832 Mejor puntuación 548.6142739110807\n",
      "Generación 156, x = -23.501016389659515 Mejor puntuación 555.9935932837657\n",
      "Generación 157, x = -24.177301754092976 Mejor puntuación 584.5419201084674\n",
      "Generación 158, x = -24.00823041298461 Mejor puntuación 584.5419201084674\n",
      "Generación 159, x = -24.00823041298461 Mejor puntuación 596.3914868278389\n",
      "Generación 160, x = -23.93435581991891 Mejor puntuación 586.3506861162693\n",
      "Generación 161, x = -24.163066962320926 Mejor puntuación 586.3506861162693\n",
      "Generación 162, x = -24.163066962320926 Mejor puntuación 583.853805025605\n",
      "Generación 163, x = -24.163066962320926 Mejor puntuación 583.853805025605\n",
      "Generación 164, x = -24.6656106593032 Mejor puntuación 583.853805025605\n",
      "Generación 165, x = -24.163066962320926 Mejor puntuación 608.3923491963317\n",
      "Generación 166, x = -24.539974735057633 Mejor puntuación 608.3923491963317\n",
      "Generación 167, x = -24.539974735057633 Mejor puntuación 608.3923491963317\n",
      "Generación 168, x = -25.083494229366597 Mejor puntuación 608.3923491963317\n",
      "Generación 169, x = -24.8745524443349 Mejor puntuación 629.1816827546673\n",
      "Generación 170, x = -25.891612071697285 Mejor puntuación 629.1816827546673\n",
      "Generación 171, x = -25.564307745741484 Mejor puntuación 670.3755756712605\n",
      "Generación 172, x = -25.308501683302676 Mejor puntuación 653.533830518978\n",
      "Generación 173, x = -25.43640471452208 Mejor puntuación 653.533830518978\n",
      "Generación 174, x = -25.564307745741484 Mejor puntuación 653.533830518978\n",
      "Generación 175, x = -25.136225922624003 Mejor puntuación 653.533830518978\n",
      "Generación 176, x = -25.564307745741484 Mejor puntuación 653.533830518978\n",
      "Generación 177, x = -25.564307745741484 Mejor puntuación 653.533830518978\n",
      "Generación 178, x = -25.564307745741484 Mejor puntuación 653.533830518978\n",
      "Generación 179, x = -25.564307745741484 Mejor puntuación 653.533830518978\n",
      "Generación 180, x = -25.564307745741484 Mejor puntuación 653.533830518978\n",
      "Generación 181, x = -25.844433646010224 Mejor puntuación 682.4926114870754\n",
      "Generación 182, x = -25.704370695875852 Mejor puntuación 667.9347504830253\n",
      "Generación 183, x = -25.844433646010224 Mejor puntuación 681.7385927253745\n",
      "Generación 184, x = -25.94226325236079 Mejor puntuación 674.8190237188081\n",
      "Generación 185, x = -25.209130168854536 Mejor puntuación 674.8190237188081\n",
      "Generación 186, x = -25.977278989894383 Mejor puntuación 714.8540773508618\n",
      "Generación 187, x = -26.352640115844313 Mejor puntuación 714.8540773508618\n",
      "Generación 188, x = -26.238136008697786 Mejor puntuación 714.8540773508618\n",
      "Generación 189, x = -26.611553393864263 Mejor puntuación 709.786607700875\n",
      "Generación 190, x = -26.641820652892232 Mejor puntuación 709.786607700875\n",
      "Generación 191, x = -26.641820652892232 Mejor puntuación 709.786607700875\n",
      "Generación 192, x = -26.951699101553558 Mejor puntuación 727.263461617117\n",
      "Generación 193, x = -26.951699101553558 Mejor puntuación 727.263461617117\n",
      "Generación 194, x = -27.871113551938656 Mejor puntuación 776.7989706250586\n",
      "Generación 195, x = -27.39927974944061 Mejor puntuación 776.7989706250586\n",
      "Generación 196, x = -27.39412483679346 Mejor puntuación 764.2621056827278\n",
      "Generación 197, x = -27.643275390164405 Mejor puntuación 764.2621056827278\n",
      "Generación 198, x = -27.644283115575412 Mejor puntuación 764.2621056827278\n",
      "Generación 199, x = -27.644283115575412 Mejor puntuación 764.2621056827278\n",
      "Mejor solución: x = -27.64363875149452, f(x) = 764.1707634231295\n"
     ]
    }
   ],
   "source": [
    "n_generations = 200\n",
    "\n",
    "for generation in range(n_generations):\n",
    "    scores = np.array([fitness(x) for x in population])\n",
    "    new_population = []\n",
    "    for _ in range(population_size):\n",
    "        parent1 = select_parent_tournament(population, scores)\n",
    "        parent2 = select_parent_tournament(population, scores)\n",
    "        child = crossover_test(parent1, parent2)\n",
    "        child = mutate(child)\n",
    "        new_population.append(child)\n",
    "    population = np.array(new_population)\n",
    "    best_score = np.max(scores)\n",
    "    print(f\"Generación {generation}, x = {child} Mejor puntuación {best_score}\")\n",
    "\n",
    "best_solution = population[np.argmax(scores)]\n",
    "print(f\"Mejor solución: x = {best_solution}, f(x) = {fitness(best_solution)}\")\n"
   ]
  },
  {
   "cell_type": "markdown",
   "metadata": {},
   "source": [
    "Preparamos el dataset de prueba (MNIST)\n",
    "---\n",
    "\n",
    "---"
   ]
  },
  {
   "cell_type": "code",
   "execution_count": 4,
   "metadata": {},
   "outputs": [],
   "source": [
    "## indicamos la máxima descendencia que queremos \n",
    "# uso 2 para simplemente comprobar que el algoritmo al completo funciona, este valor lo \n",
    "# indicará el usuario desde la interfaz\n",
    "max_desc = 20"
   ]
  },
  {
   "cell_type": "code",
   "execution_count": 5,
   "metadata": {},
   "outputs": [],
   "source": [
    "# DATOS DEL DATASET DE PRUEBA\n",
    "\n",
    "num_channels = 1 # escala de grises\n",
    "px_h = 28\n",
    "px_w = 28\n",
    "batch_size = 32\n",
    "num_classes = 10\n",
    "\n",
    "device = torch.device(\"cuda\" if torch.cuda.is_available() else \"cpu\")\n",
    "\n",
    "# Preparar los DataLoader para los conjuntos de entrenamiento y validación\n",
    "transform = transforms.Compose([\n",
    "    transforms.Resize((px_h, px_w)),\n",
    "    transforms.Grayscale(num_output_channels=num_channels),\n",
    "    transforms.ToTensor(),\n",
    "    transforms.Normalize((0.5,), (0.5,))\n",
    "])\n",
    "\n",
    "train_dataset = datasets.MNIST(root='./data', train=True, download=True, transform=transform)\n",
    "val_dataset = datasets.MNIST(root='./data', train=False, download=True, transform=transform)\n",
    "\n",
    "train_loader = DataLoader(dataset=train_dataset, batch_size=batch_size, shuffle=True)\n",
    "val_loader = DataLoader(dataset=val_dataset, batch_size=batch_size, shuffle=False)\n"
   ]
  },
  {
   "cell_type": "markdown",
   "metadata": {},
   "source": [
    "Preparamos el dataset de prueba (CIFAR100)\n",
    "---\n",
    "\n",
    "---"
   ]
  },
  {
   "cell_type": "code",
   "execution_count": 6,
   "metadata": {},
   "outputs": [
    {
     "name": "stdout",
     "output_type": "stream",
     "text": [
      "Files already downloaded and verified\n",
      "Files already downloaded and verified\n"
     ]
    }
   ],
   "source": [
    "\n",
    "# DATOS DEL DATASET DE PRUEBA CIFAR 100\n",
    "num_channels = 3 # escala de colores\n",
    "px_h = 32\n",
    "px_w = 32\n",
    "batch_size = 128\n",
    "num_classes = 100\n",
    "\n",
    "device = torch.device(\"cuda\" if torch.cuda.is_available() else \"cpu\")\n",
    "\n",
    "# Preparar los DataLoader para los conjuntos de entrenamiento y validación\n",
    "transform = transforms.Compose([\n",
    "    transforms.Resize((px_h, px_w)),\n",
    "    transforms.ToTensor(),\n",
    "    transforms.Normalize((0.5,), (0.5,))\n",
    "])\n",
    "\n",
    "train_dataset = datasets.CIFAR100(root='./data', train=True, download=True, transform=transform)\n",
    "val_dataset = datasets.CIFAR100(root='./data', train=False, download=True, transform=transform)\n",
    "\n",
    "train_loader = DataLoader(dataset=train_dataset, batch_size=batch_size, shuffle=True)\n",
    "val_loader = DataLoader(dataset=val_dataset, batch_size=batch_size, shuffle=False)\n",
    "\n"
   ]
  },
  {
   "cell_type": "markdown",
   "metadata": {},
   "source": [
    "## GENERACIÓN DE LA RED EN BASE A VECTORES\n",
    "\n",
    "\n",
    "---"
   ]
  },
  {
   "cell_type": "markdown",
   "metadata": {},
   "source": [
    "comprobamos si tenemos acceso a la GPU\n"
   ]
  },
  {
   "cell_type": "code",
   "execution_count": 7,
   "metadata": {},
   "outputs": [
    {
     "name": "stdout",
     "output_type": "stream",
     "text": [
      "CUDA (GPU) está disponible en tu sistema.\n"
     ]
    }
   ],
   "source": [
    "if torch.cuda.is_available():\n",
    "    print(\"CUDA (GPU) está disponible en tu sistema.\")\n",
    "else:\n",
    "    print(\"CUDA (GPU) no está disponible en tu sistema.\")"
   ]
  },
  {
   "cell_type": "markdown",
   "metadata": {},
   "source": [
    "Construimos una función que sea capaz de crear modelos en base a vectores que representen la arquitectura de la red.\n",
    "De este modo el algorimo evolutivo puede ir adaptando y cambiando la red fácilmente"
   ]
  },
  {
   "cell_type": "code",
   "execution_count": 8,
   "metadata": {},
   "outputs": [],
   "source": [
    "learning_rates = [0.1, 0.01, 0.001, 0.0001, 0.00001, 0.000001]\n",
    "filter_range = [8,16,32,64,128]\n",
    "kernel_size_range = [1,3,5,7] "
   ]
  },
  {
   "cell_type": "code",
   "execution_count": 9,
   "metadata": {},
   "outputs": [],
   "source": [
    "import torch\n",
    "\n",
    "def build_cnn_from_individual(individual):\n",
    "    \"\"\" \n",
    "    Funcion para construir un modelo en base a un diccionario\n",
    "    \"\"\"\n",
    "    layers = []\n",
    "    num_layers = individual['num_conv_layers']\n",
    "    fully_connected = int(individual['fully_connected'])\n",
    "    dropout = individual['dropout']\n",
    "    out_channels_previous_layer = num_channels\n",
    "\n",
    "    for i in range(num_layers):\n",
    "        out_channels = individual['filters'][i]\n",
    "        kernel_size = individual['kernel_sizes'][i]\n",
    "        \n",
    "        conv_layer = nn.Conv2d(out_channels_previous_layer, out_channels, kernel_size=kernel_size, padding=1)\n",
    "        layers.append(conv_layer)\n",
    "        if out_channels_previous_layer > 1 or i > 0:\n",
    "            layers.append(nn.BatchNorm2d(out_channels))\n",
    "        layers.append(nn.ReLU())\n",
    "        if i < 1:\n",
    "            layers.append(nn.MaxPool2d(kernel_size=2, stride=2))\n",
    "        else:\n",
    "            layers.append(nn.MaxPool2d(kernel_size=2, stride=1))\n",
    "\n",
    "\n",
    "        out_channels_previous_layer = out_channels\n",
    "\n",
    "\n",
    "    # Temporalmente crear un modelo para calcular el tamaño de salida de las capas convolucionales\n",
    "    temp_model = nn.Sequential(*layers)\n",
    "\n",
    "    # Calcular el tamaño de salida usando un tensor dummy\n",
    "    dummy_input = torch.zeros(1, num_channels, px_h, px_w)\n",
    "    output_size = temp_model(dummy_input).view(-1).shape[0]\n",
    "\n",
    "    # Ahora, sabiendo el tamaño de salida, podemos definir las capas lineales correctamente\n",
    "    layers.append(nn.Flatten())\n",
    "\n",
    "    for i in range(fully_connected):\n",
    "        layers.append(nn.Linear(in_features=output_size, out_features=output_size))\n",
    "        if dropout > 0:\n",
    "            layers.append(nn.Dropout(0.2))\n",
    "            dropout-= 1\n",
    "\n",
    "    layers.append(nn.Linear(output_size, num_classes))\n",
    "    return nn.Sequential(*layers)\n"
   ]
  },
  {
   "cell_type": "markdown",
   "metadata": {},
   "source": [
    "Definimos una función para generar diccionarios para la población inicial"
   ]
  },
  {
   "cell_type": "code",
   "execution_count": 10,
   "metadata": {},
   "outputs": [],
   "source": [
    "import random\n",
    "from tqdm import tqdm\n",
    "\n",
    "def generate_individual(min_conv_layers, max_conv_layers, min_filters, max_filters, kernel_sizes):\n",
    "    \"\"\" \n",
    "    Funcion para generar un diccionario que representa a una arquitectura\n",
    "    \"\"\"\n",
    "    individual = {\n",
    "        'num_conv_layers': random.randint(min_conv_layers, max_conv_layers),\n",
    "        'filters': [],\n",
    "        'kernel_sizes': [],\n",
    "        'learning_rate': random.choice(learning_rates),\n",
    "        'fully_connected': random.randint(0,2),\n",
    "        'dropout': random.randint(0,2)\n",
    "    }\n",
    "\n",
    "    for _ in range(individual['num_conv_layers']):\n",
    "        individual['filters'].append(random.choice(filter_range))\n",
    "        individual['kernel_sizes'].append(random.choice(kernel_size_range))\n",
    "    \n",
    "    # Agrega más parámetros según sea necesario, como capas completamente conectadas, etc.\n",
    "\n",
    "    return individual\n",
    "\n",
    "def initialize_population(pop_size, min_conv_layers, max_conv_layers, min_filters, max_filters, kernel_sizes):\n",
    "    return [generate_individual(min_conv_layers, max_conv_layers, min_filters, max_filters, kernel_sizes) for _ in range(pop_size)]\n"
   ]
  },
  {
   "cell_type": "markdown",
   "metadata": {},
   "source": [
    "### PARAMETROS PARA POSIBLES ARQUITECTURAS DE RED\n",
    "---"
   ]
  },
  {
   "cell_type": "code",
   "execution_count": 11,
   "metadata": {},
   "outputs": [],
   "source": [
    "## AJUSTAR SEGÚN VAYA NECESITANDO Y TIEMPO \n",
    "\n",
    "population_size = 6\n",
    "min_conv_layers = 1\n",
    "max_conv_layers = 3\n",
    "min_filters = 16\n",
    "max_filters = 128\n",
    "kernel_sizes = [3, 5]"
   ]
  },
  {
   "cell_type": "code",
   "execution_count": 12,
   "metadata": {},
   "outputs": [
    {
     "data": {
      "text/plain": [
       "[{'num_conv_layers': 1,\n",
       "  'filters': [8],\n",
       "  'kernel_sizes': [1],\n",
       "  'learning_rate': 0.1,\n",
       "  'fully_connected': 2,\n",
       "  'dropout': 0},\n",
       " {'num_conv_layers': 2,\n",
       "  'filters': [32, 64],\n",
       "  'kernel_sizes': [3, 3],\n",
       "  'learning_rate': 1e-05,\n",
       "  'fully_connected': 0,\n",
       "  'dropout': 2},\n",
       " {'num_conv_layers': 3,\n",
       "  'filters': [8, 128, 16],\n",
       "  'kernel_sizes': [7, 5, 7],\n",
       "  'learning_rate': 0.001,\n",
       "  'fully_connected': 2,\n",
       "  'dropout': 1},\n",
       " {'num_conv_layers': 2,\n",
       "  'filters': [32, 16],\n",
       "  'kernel_sizes': [7, 7],\n",
       "  'learning_rate': 0.0001,\n",
       "  'fully_connected': 1,\n",
       "  'dropout': 2},\n",
       " {'num_conv_layers': 3,\n",
       "  'filters': [8, 32, 32],\n",
       "  'kernel_sizes': [5, 1, 3],\n",
       "  'learning_rate': 0.001,\n",
       "  'fully_connected': 0,\n",
       "  'dropout': 2},\n",
       " {'num_conv_layers': 2,\n",
       "  'filters': [128, 64],\n",
       "  'kernel_sizes': [1, 7],\n",
       "  'learning_rate': 1e-06,\n",
       "  'fully_connected': 0,\n",
       "  'dropout': 1}]"
      ]
     },
     "execution_count": 12,
     "metadata": {},
     "output_type": "execute_result"
    }
   ],
   "source": [
    "\n",
    "\n",
    "population = initialize_population(population_size, min_conv_layers, max_conv_layers, min_filters, max_filters, kernel_sizes)\n",
    "\n",
    "epochs = 7 \n",
    "\n",
    "population\n"
   ]
  },
  {
   "cell_type": "markdown",
   "metadata": {},
   "source": [
    "## ENTRENAMIENTO Y EVALUACIÓN DE LOS MODELOS\n",
    "---"
   ]
  },
  {
   "cell_type": "code",
   "execution_count": 13,
   "metadata": {},
   "outputs": [],
   "source": [
    "from tqdm import tqdm\n",
    "import torch.optim as optim\n",
    "import torch.nn as nn\n",
    "\n",
    "def evaluate_individual(individual, train_loader, val_loader, device='cuda', epochs=5):\n",
    "    \"\"\" \n",
    "    Funcion para entrenar y evaluar una arquitectura\n",
    "    \"\"\"\n",
    "    # Construir el modelo basado en el individuo\n",
    "    model = build_cnn_from_individual(individual).to(device)\n",
    "    \n",
    "    # Definir el optimizador y la función de pérdida\n",
    "    # HACER QUE EL OPTIMIZADOR SEA OTRO GEN!!!!!!!!!!!!!!!!!!!!!!!!!!!!!!\n",
    "    optimizer = torch.optim.Adam(model.parameters(), lr=individual['learning_rate'])\n",
    "    criterion = nn.CrossEntropyLoss()\n",
    "\n",
    "    # Entrenamiento\n",
    "    for epoch in range(epochs):\n",
    "        model.train()\n",
    "        progress_bar = tqdm(total=len(train_loader), desc=f'Epoch {epoch+1}/{epochs}', unit='batch')\n",
    "        for data, targets in train_loader:\n",
    "            data, targets = data.to(device), targets.to(device)\n",
    "            optimizer.zero_grad()\n",
    "            output = model(data)\n",
    "            loss = criterion(output, targets)\n",
    "            loss.backward()\n",
    "            optimizer.step()\n",
    "\n",
    "            # Actualizar la barra de progreso con la última información de pérdida\n",
    "            progress_bar.set_postfix({'training_loss': '{:.3f}'.format(loss.item())})\n",
    "            progress_bar.update()  # Forzar la actualización de la barra de progreso\n",
    "            \n",
    "        progress_bar.close()  # Cerrar la barra de progreso al final de cada época\n",
    "\n",
    "    # Evaluación\n",
    "    model.eval()\n",
    "    correct = 0\n",
    "    total = 0\n",
    "    with torch.no_grad():\n",
    "        for data, targets in val_loader:\n",
    "            data, targets = data.to(device), targets.to(device)\n",
    "            outputs = model(data)\n",
    "            _, predicted = torch.max(outputs.data, 1)\n",
    "            total += targets.size(0)\n",
    "            correct += (predicted == targets).sum().item()\n",
    "\n",
    "    accuracy = correct / total\n",
    "    return accuracy  # Esta es la \"aptitud\" del individuo\n"
   ]
  },
  {
   "cell_type": "markdown",
   "metadata": {},
   "source": [
    "## MUTACIONES Y CRUCES\n",
    "---"
   ]
  },
  {
   "cell_type": "code",
   "execution_count": 14,
   "metadata": {},
   "outputs": [],
   "source": [
    "import random\n",
    "\n",
    "def mutate_individual(individual):\n",
    "    \"\"\"\n",
    "    Mutar un individuo cambiando aleatoriamente sus hiperparámetros.\n",
    "    \"\"\"\n",
    "    mutation_rate = 0.3  # Probabilidad de mutar cada característica\n",
    "    fully_connected_range = (0,5) #Rango para ver cuantas fully conected se añaden\n",
    "\n",
    "    if random.random() < mutation_rate:\n",
    "        # Mutar la tasa de aprendizaje\n",
    "        individual['learning_rate'] = random.choice(learning_rates)\n",
    "\n",
    "\n",
    "    # Asegurarse de que hay suficientes entradas en las listas 'filters' y 'kernel_sizes'\n",
    "    for i in range(individual['num_conv_layers']):\n",
    "        if random.random() < mutation_rate:\n",
    "            # Mutar el número de filtros en la capa i\n",
    "            individual['filters'][i] = random.choice(filter_range)\n",
    "        if random.random() < mutation_rate:\n",
    "            # Mutar el tamaño de filtro en la capa i\n",
    "            individual['kernel_sizes'][i] = random.choice(kernel_size_range)\n",
    "\n",
    "    if random.random() < mutation_rate:\n",
    "        # Mutar la tasa de aprendizaje\n",
    "        num_fully = random.randint(*fully_connected_range)\n",
    "        individual['fully_connected'] = num_fully\n",
    "        individual['dropout'] = random.randint(0, num_fully)\n",
    "    return individual\n"
   ]
  },
  {
   "cell_type": "markdown",
   "metadata": {},
   "source": [
    "Y el cruce entre individuos"
   ]
  },
  {
   "cell_type": "code",
   "execution_count": 15,
   "metadata": {},
   "outputs": [],
   "source": [
    "def crossover(parent1, parent2):\n",
    "    \"\"\"\n",
    "    Realiza un cruce uniforme entre dos individuos.\n",
    "    \n",
    "    Args:\n",
    "        parent1 (dict): El primer individuo padre.\n",
    "        parent2 (dict): El segundo individuo padre.\n",
    "    \n",
    "    Returns:\n",
    "        dict: Un nuevo individuo hijo.\n",
    "    \"\"\"\n",
    "    child = {}\n",
    "    for key in parent1:\n",
    "        if key == \"filters\" or key == \"kernel_sizes\":\n",
    "            if random.random() < 0.5:\n",
    "                child[\"filters\"] = parent1[\"filters\"]\n",
    "                child[\"kernel_sizes\"] = parent1[\"kernel_sizes\"]\n",
    "            else:\n",
    "                child[\"filters\"] = parent2[\"filters\"]\n",
    "                child[\"kernel_sizes\"] = parent2[\"kernel_sizes\"]\n",
    "\n",
    "        else:\n",
    "            if key != \"num_conv_layers\":\n",
    "                if random.random() < 0.5:\n",
    "                    child[key] = parent1[key]\n",
    "                else:\n",
    "                    child[key] = parent2[key]\n",
    "    child[\"num_conv_layers\"] = len(child[\"filters\"])\n",
    "\n",
    "    return child"
   ]
  },
  {
   "cell_type": "markdown",
   "metadata": {},
   "source": [
    "Definimos como evaluamos a la población "
   ]
  },
  {
   "cell_type": "code",
   "execution_count": 16,
   "metadata": {},
   "outputs": [],
   "source": [
    "def evaluate_population(population, train_loader, val_loader, device, epochs):\n",
    "    \"\"\"\n",
    "    Funcion para evaluar a una poblacion de arquitecturas\n",
    "    \"\"\"\n",
    "    fitness_scores = []\n",
    "    \n",
    "    for individual in population:\n",
    "        print(individual)\n",
    "        fitness = evaluate_individual(individual, train_loader, val_loader, device, epochs)\n",
    "        fitness_scores.append(fitness)\n",
    "    \n",
    "    # sacamos los scores de la poblacion\n",
    "    return fitness_scores\n",
    "\n",
    "\n"
   ]
  },
  {
   "cell_type": "markdown",
   "metadata": {},
   "source": [
    "Recopilamos lo que hemos realizado, hemos creado las posibles mutaciones sobre las arquitecturas, los posibles cruces, la evaluación de los modelos.\n"
   ]
  },
  {
   "cell_type": "markdown",
   "metadata": {},
   "source": [
    "Queda realizar:\n",
    "- Selección de reproducción: por torneo en principio para también  puede ser por torneo o ruleta\n",
    "- Creación de la nueva generación usando las funciones de mutación y cruces\n",
    "- Criterios de parada\n",
    "- Registro de análisis"
   ]
  },
  {
   "cell_type": "markdown",
   "metadata": {},
   "source": [
    "### Selección por torneo\n",
    "---\n"
   ]
  },
  {
   "cell_type": "code",
   "execution_count": 17,
   "metadata": {},
   "outputs": [],
   "source": [
    "def tournament_selection_best5(population):\n",
    "    \"\"\"\n",
    "    Selecciona los 4 mejores individuos de la población mediante un torneo de tamaño fijo.\n",
    "\n",
    "    Args:\n",
    "        population: La lista de individuos con sus puntuaciones de fitness.\n",
    "\n",
    "    Returns:\n",
    "        Lista de los 4 mejores individuos.\n",
    "    \"\"\"\n",
    "    winners = []\n",
    "    for _ in range(5):\n",
    "        candidates = random.sample(population, 2)\n",
    "        winner = max(candidates, key=lambda x: x['fitness'])\n",
    "        winners.append(winner)\n",
    "    return winners"
   ]
  },
  {
   "cell_type": "markdown",
   "metadata": {},
   "source": [
    "## ALGORITMO EVOLUTIVO\n",
    "--- \n"
   ]
  },
  {
   "cell_type": "code",
   "execution_count": 18,
   "metadata": {},
   "outputs": [
    {
     "data": {
      "text/plain": [
       "'\\nfitness_scores = evaluate_population(population, train_loader, val_loader, device)\\n\\n# Almacenamos- los individuos y sus puntuaciones en una lista de tuplas y ordenarlos\\npopulation_with_scores = list(zip(population, fitness_scores))\\npopulation_with_scores.sort(key=lambda x: x[1], reverse=True)  # Ordena de mayor a menor aptitud\\n\\n# Imprimimimos los resultados\\nfor i, (individual, score) in enumerate(population_with_scores):\\n    print(f\"Descendecia: {i} Individuo {individual}: Pérdida: {score}\")\\n\\n'"
      ]
     },
     "execution_count": 18,
     "metadata": {},
     "output_type": "execute_result"
    }
   ],
   "source": [
    "\"\"\"\n",
    "fitness_scores = evaluate_population(population, train_loader, val_loader, device)\n",
    "\n",
    "# Almacenamos- los individuos y sus puntuaciones en una lista de tuplas y ordenarlos\n",
    "population_with_scores = list(zip(population, fitness_scores))\n",
    "population_with_scores.sort(key=lambda x: x[1], reverse=True)  # Ordena de mayor a menor aptitud\n",
    "\n",
    "# Imprimimimos los resultados\n",
    "for i, (individual, score) in enumerate(population_with_scores):\n",
    "    print(f\"Descendecia: {i} Individuo {individual}: Pérdida: {score}\")\n",
    "\n",
    "\"\"\""
   ]
  },
  {
   "cell_type": "code",
   "execution_count": 19,
   "metadata": {},
   "outputs": [],
   "source": [
    "top_models = []\n",
    "\n",
    "def genetic_algorithm(population, train_loader, val_loader, device, max_desc, epochs):\n",
    "    \"\"\" \n",
    "    Algoritmo genetico para evolucionar una poblacion de arquitecturas hacia la mejor puntuacion dado un dataset dado\n",
    "    \"\"\"\n",
    "    desc = 0\n",
    "    while desc < max_desc:\n",
    "        print(\"***************************************\")\n",
    "        print()\n",
    "        print(f\"Generation: {desc}\")\n",
    "        print()\n",
    "        print(\"***************************************\")\n",
    "        puntuaciones_aptitud = evaluate_population(population, train_loader, val_loader, device, epochs)\n",
    "\n",
    "        # Ordenamos individuos\n",
    "        # Añadimos las puntuaciones directamente a cada diccionario de la población\n",
    "        for i, puntuacion in enumerate(puntuaciones_aptitud):\n",
    "            population[i]['fitness'] = puntuacion\n",
    "\n",
    "        population.sort(key=lambda x: x['fitness'], reverse=True)\n",
    "\n",
    "        # Preservamos el mejor individuo (elitismo)\n",
    "        mejor_individuo = population[0]\n",
    "        top_models.append(mejor_individuo)\n",
    "        # Seleccionamos los 4 mejores (excluyendo el mejor) para el torneo\n",
    "        winners = tournament_selection_best5(population[1:])\n",
    "        print(f\"Los 4 mejores son: \\n {winners}\")\n",
    "\n",
    "        # Realizamos cruce y mutación con descendientes que reemplazan a la población restante\n",
    "        for i in range(1, 5):\n",
    "            descendency = mutate_individual(crossover(winners[i-1], winners[i]))\n",
    "            population[-i] = descendency   # Eliminamos las peores arquitecturas\n",
    "        \n",
    "        # Nos aseguramos que mantenemos el mejor de todos\n",
    "        population[0] = mejor_individuo\n",
    "        desc += 1\n",
    "\n",
    "    return population\n"
   ]
  },
  {
   "cell_type": "markdown",
   "metadata": {},
   "source": [
    "## RESULTADOS DE LAS ARQUITECTURAS\n",
    "---"
   ]
  },
  {
   "cell_type": "code",
   "execution_count": 20,
   "metadata": {},
   "outputs": [
    {
     "name": "stdout",
     "output_type": "stream",
     "text": [
      "***************************************\n",
      "\n",
      "Generation: 0\n",
      "\n",
      "***************************************\n",
      "{'num_conv_layers': 1, 'filters': [8], 'kernel_sizes': [1], 'learning_rate': 0.1, 'fully_connected': 2, 'dropout': 0}\n"
     ]
    },
    {
     "name": "stderr",
     "output_type": "stream",
     "text": [
      "Epoch 1/7: 100%|██████████| 391/391 [00:15<00:00, 25.59batch/s, training_loss=1792.225] \n",
      "Epoch 2/7: 100%|██████████| 391/391 [00:13<00:00, 28.82batch/s, training_loss=1473.873]\n",
      "Epoch 3/7: 100%|██████████| 391/391 [00:13<00:00, 28.00batch/s, training_loss=217.488] \n",
      "Epoch 4/7: 100%|██████████| 391/391 [00:13<00:00, 28.16batch/s, training_loss=87.182] \n",
      "Epoch 5/7: 100%|██████████| 391/391 [00:13<00:00, 28.12batch/s, training_loss=40.474] \n",
      "Epoch 6/7: 100%|██████████| 391/391 [00:14<00:00, 27.92batch/s, training_loss=124.472]  \n",
      "Epoch 7/7: 100%|██████████| 391/391 [00:13<00:00, 27.96batch/s, training_loss=52.577] \n"
     ]
    },
    {
     "name": "stdout",
     "output_type": "stream",
     "text": [
      "{'num_conv_layers': 2, 'filters': [32, 64], 'kernel_sizes': [3, 3], 'learning_rate': 1e-05, 'fully_connected': 0, 'dropout': 2}\n"
     ]
    },
    {
     "name": "stderr",
     "output_type": "stream",
     "text": [
      "Epoch 1/7: 100%|██████████| 391/391 [00:13<00:00, 28.55batch/s, training_loss=3.786]\n",
      "Epoch 2/7: 100%|██████████| 391/391 [00:13<00:00, 28.63batch/s, training_loss=3.212]\n",
      "Epoch 3/7: 100%|██████████| 391/391 [00:13<00:00, 28.68batch/s, training_loss=3.059]\n",
      "Epoch 4/7: 100%|██████████| 391/391 [00:13<00:00, 28.75batch/s, training_loss=3.031]\n",
      "Epoch 5/7: 100%|██████████| 391/391 [00:13<00:00, 28.36batch/s, training_loss=2.849]\n",
      "Epoch 6/7: 100%|██████████| 391/391 [00:13<00:00, 28.85batch/s, training_loss=2.737]\n",
      "Epoch 7/7: 100%|██████████| 391/391 [00:13<00:00, 28.44batch/s, training_loss=2.877]\n"
     ]
    },
    {
     "name": "stdout",
     "output_type": "stream",
     "text": [
      "{'num_conv_layers': 3, 'filters': [8, 128, 16], 'kernel_sizes': [7, 5, 7], 'learning_rate': 0.001, 'fully_connected': 2, 'dropout': 1}\n"
     ]
    },
    {
     "name": "stderr",
     "output_type": "stream",
     "text": [
      "Epoch 1/7: 100%|██████████| 391/391 [00:14<00:00, 26.10batch/s, training_loss=3.144]\n",
      "Epoch 2/7: 100%|██████████| 391/391 [00:13<00:00, 28.57batch/s, training_loss=2.787]\n",
      "Epoch 3/7: 100%|██████████| 391/391 [00:13<00:00, 27.96batch/s, training_loss=2.817]\n",
      "Epoch 4/7: 100%|██████████| 391/391 [00:14<00:00, 27.86batch/s, training_loss=2.701]\n",
      "Epoch 5/7: 100%|██████████| 391/391 [00:14<00:00, 27.86batch/s, training_loss=2.465]\n",
      "Epoch 6/7: 100%|██████████| 391/391 [00:13<00:00, 28.00batch/s, training_loss=2.570]\n",
      "Epoch 7/7: 100%|██████████| 391/391 [00:14<00:00, 27.86batch/s, training_loss=2.395]\n"
     ]
    },
    {
     "name": "stdout",
     "output_type": "stream",
     "text": [
      "{'num_conv_layers': 2, 'filters': [32, 16], 'kernel_sizes': [7, 7], 'learning_rate': 0.0001, 'fully_connected': 1, 'dropout': 2}\n"
     ]
    },
    {
     "name": "stderr",
     "output_type": "stream",
     "text": [
      "Epoch 1/7: 100%|██████████| 391/391 [00:13<00:00, 28.78batch/s, training_loss=3.128]\n",
      "Epoch 2/7: 100%|██████████| 391/391 [00:13<00:00, 29.03batch/s, training_loss=3.108]\n",
      "Epoch 3/7: 100%|██████████| 391/391 [00:13<00:00, 28.58batch/s, training_loss=2.827]\n",
      "Epoch 4/7: 100%|██████████| 391/391 [00:13<00:00, 28.99batch/s, training_loss=2.932]\n",
      "Epoch 5/7: 100%|██████████| 391/391 [00:13<00:00, 28.64batch/s, training_loss=2.519]\n",
      "Epoch 6/7: 100%|██████████| 391/391 [00:13<00:00, 29.04batch/s, training_loss=2.371]\n",
      "Epoch 7/7: 100%|██████████| 391/391 [00:13<00:00, 28.46batch/s, training_loss=2.498]\n"
     ]
    },
    {
     "name": "stdout",
     "output_type": "stream",
     "text": [
      "{'num_conv_layers': 3, 'filters': [8, 32, 32], 'kernel_sizes': [5, 1, 3], 'learning_rate': 0.001, 'fully_connected': 0, 'dropout': 2}\n"
     ]
    },
    {
     "name": "stderr",
     "output_type": "stream",
     "text": [
      "Epoch 1/7: 100%|██████████| 391/391 [00:13<00:00, 28.95batch/s, training_loss=2.968]\n",
      "Epoch 2/7: 100%|██████████| 391/391 [00:13<00:00, 29.69batch/s, training_loss=2.556]\n",
      "Epoch 3/7: 100%|██████████| 391/391 [00:13<00:00, 28.83batch/s, training_loss=1.910]\n",
      "Epoch 4/7: 100%|██████████| 391/391 [00:13<00:00, 29.24batch/s, training_loss=2.078]\n",
      "Epoch 5/7: 100%|██████████| 391/391 [00:13<00:00, 28.99batch/s, training_loss=1.659]\n",
      "Epoch 6/7: 100%|██████████| 391/391 [00:13<00:00, 29.15batch/s, training_loss=1.672]\n",
      "Epoch 7/7: 100%|██████████| 391/391 [00:13<00:00, 29.07batch/s, training_loss=1.603]\n"
     ]
    },
    {
     "name": "stdout",
     "output_type": "stream",
     "text": [
      "{'num_conv_layers': 2, 'filters': [128, 64], 'kernel_sizes': [1, 7], 'learning_rate': 1e-06, 'fully_connected': 0, 'dropout': 1}\n"
     ]
    },
    {
     "name": "stderr",
     "output_type": "stream",
     "text": [
      "Epoch 1/7: 100%|██████████| 391/391 [00:16<00:00, 23.61batch/s, training_loss=4.486]\n",
      "Epoch 2/7: 100%|██████████| 391/391 [00:16<00:00, 23.73batch/s, training_loss=4.365]\n",
      "Epoch 3/7: 100%|██████████| 391/391 [00:16<00:00, 24.11batch/s, training_loss=4.040]\n",
      "Epoch 4/7: 100%|██████████| 391/391 [00:16<00:00, 23.92batch/s, training_loss=4.032]\n",
      "Epoch 5/7: 100%|██████████| 391/391 [00:16<00:00, 24.27batch/s, training_loss=3.910]\n",
      "Epoch 6/7: 100%|██████████| 391/391 [00:16<00:00, 23.75batch/s, training_loss=3.727]\n",
      "Epoch 7/7: 100%|██████████| 391/391 [00:16<00:00, 24.02batch/s, training_loss=3.891]\n"
     ]
    },
    {
     "name": "stdout",
     "output_type": "stream",
     "text": [
      "Los 4 mejores son: \n",
      " [{'num_conv_layers': 3, 'filters': [8, 128, 16], 'kernel_sizes': [7, 5, 7], 'learning_rate': 0.001, 'fully_connected': 2, 'dropout': 1, 'fitness': 0.3337}, {'num_conv_layers': 2, 'filters': [32, 64], 'kernel_sizes': [3, 3], 'learning_rate': 1e-05, 'fully_connected': 0, 'dropout': 2, 'fitness': 0.308}, {'num_conv_layers': 3, 'filters': [8, 128, 16], 'kernel_sizes': [7, 5, 7], 'learning_rate': 0.001, 'fully_connected': 2, 'dropout': 1, 'fitness': 0.3337}, {'num_conv_layers': 2, 'filters': [128, 64], 'kernel_sizes': [1, 7], 'learning_rate': 1e-06, 'fully_connected': 0, 'dropout': 1, 'fitness': 0.1559}, {'num_conv_layers': 2, 'filters': [32, 16], 'kernel_sizes': [7, 7], 'learning_rate': 0.0001, 'fully_connected': 1, 'dropout': 2, 'fitness': 0.3483}]\n",
      "***************************************\n",
      "\n",
      "Generation: 1\n",
      "\n",
      "***************************************\n",
      "{'num_conv_layers': 3, 'filters': [8, 32, 32], 'kernel_sizes': [5, 1, 3], 'learning_rate': 0.001, 'fully_connected': 0, 'dropout': 2, 'fitness': 0.3697}\n"
     ]
    },
    {
     "name": "stderr",
     "output_type": "stream",
     "text": [
      "Epoch 1/7: 100%|██████████| 391/391 [00:13<00:00, 29.76batch/s, training_loss=3.010]\n",
      "Epoch 2/7: 100%|██████████| 391/391 [00:13<00:00, 29.40batch/s, training_loss=2.448]\n",
      "Epoch 3/7: 100%|██████████| 391/391 [00:13<00:00, 29.56batch/s, training_loss=2.475]\n",
      "Epoch 4/7: 100%|██████████| 391/391 [00:13<00:00, 28.49batch/s, training_loss=1.872]\n",
      "Epoch 5/7: 100%|██████████| 391/391 [00:13<00:00, 29.02batch/s, training_loss=2.369]\n",
      "Epoch 6/7: 100%|██████████| 391/391 [00:13<00:00, 28.99batch/s, training_loss=1.867]\n",
      "Epoch 7/7: 100%|██████████| 391/391 [00:13<00:00, 29.17batch/s, training_loss=1.660]\n"
     ]
    },
    {
     "name": "stdout",
     "output_type": "stream",
     "text": [
      "{'num_conv_layers': 2, 'filters': [32, 16], 'kernel_sizes': [7, 7], 'learning_rate': 0.0001, 'fully_connected': 1, 'dropout': 2, 'fitness': 0.3483}\n"
     ]
    },
    {
     "name": "stderr",
     "output_type": "stream",
     "text": [
      "Epoch 1/7: 100%|██████████| 391/391 [00:13<00:00, 28.43batch/s, training_loss=3.299]\n",
      "Epoch 2/7: 100%|██████████| 391/391 [00:13<00:00, 28.87batch/s, training_loss=3.135]\n",
      "Epoch 3/7: 100%|██████████| 391/391 [00:13<00:00, 28.57batch/s, training_loss=2.859]\n",
      "Epoch 4/7: 100%|██████████| 391/391 [00:13<00:00, 28.60batch/s, training_loss=2.210]\n",
      "Epoch 5/7: 100%|██████████| 391/391 [00:13<00:00, 28.82batch/s, training_loss=2.387]\n",
      "Epoch 6/7: 100%|██████████| 391/391 [00:13<00:00, 28.42batch/s, training_loss=2.692]\n",
      "Epoch 7/7: 100%|██████████| 391/391 [00:13<00:00, 28.73batch/s, training_loss=2.315]\n"
     ]
    },
    {
     "name": "stdout",
     "output_type": "stream",
     "text": [
      "{'filters': [32, 64], 'kernel_sizes': [7, 7], 'learning_rate': 1e-06, 'fully_connected': 3, 'dropout': 1, 'fitness': 0.3483, 'num_conv_layers': 2}\n"
     ]
    },
    {
     "name": "stderr",
     "output_type": "stream",
     "text": [
      "Epoch 1/7: 100%|██████████| 391/391 [00:24<00:00, 15.97batch/s, training_loss=4.182]\n",
      "Epoch 2/7: 100%|██████████| 391/391 [00:24<00:00, 16.27batch/s, training_loss=3.955]\n",
      "Epoch 3/7: 100%|██████████| 391/391 [00:24<00:00, 16.14batch/s, training_loss=3.810]\n",
      "Epoch 4/7: 100%|██████████| 391/391 [00:24<00:00, 16.21batch/s, training_loss=3.706]\n",
      "Epoch 5/7: 100%|██████████| 391/391 [00:24<00:00, 16.13batch/s, training_loss=3.725]\n",
      "Epoch 6/7: 100%|██████████| 391/391 [00:24<00:00, 16.06batch/s, training_loss=3.338]\n",
      "Epoch 7/7: 100%|██████████| 391/391 [00:24<00:00, 16.15batch/s, training_loss=3.112]\n"
     ]
    },
    {
     "name": "stdout",
     "output_type": "stream",
     "text": [
      "{'filters': [32, 64], 'kernel_sizes': [7, 7], 'learning_rate': 1e-06, 'fully_connected': 1, 'dropout': 0, 'fitness': 0.3337, 'num_conv_layers': 2}\n"
     ]
    },
    {
     "name": "stderr",
     "output_type": "stream",
     "text": [
      "Epoch 1/7: 100%|██████████| 391/391 [00:16<00:00, 24.34batch/s, training_loss=4.219]\n",
      "Epoch 2/7: 100%|██████████| 391/391 [00:16<00:00, 24.42batch/s, training_loss=3.993]\n",
      "Epoch 3/7: 100%|██████████| 391/391 [00:15<00:00, 24.70batch/s, training_loss=3.790]\n",
      "Epoch 4/7: 100%|██████████| 391/391 [00:16<00:00, 24.42batch/s, training_loss=3.611]\n",
      "Epoch 5/7: 100%|██████████| 391/391 [00:15<00:00, 24.69batch/s, training_loss=3.793]\n",
      "Epoch 6/7: 100%|██████████| 391/391 [00:16<00:00, 24.39batch/s, training_loss=3.710]\n",
      "Epoch 7/7: 100%|██████████| 391/391 [00:15<00:00, 24.81batch/s, training_loss=3.574]\n"
     ]
    },
    {
     "name": "stdout",
     "output_type": "stream",
     "text": [
      "{'filters': [64, 64], 'kernel_sizes': [7, 3], 'learning_rate': 1e-05, 'fully_connected': 5, 'dropout': 2, 'fitness': 0.3337, 'num_conv_layers': 2}\n"
     ]
    },
    {
     "name": "stderr",
     "output_type": "stream",
     "text": [
      "Epoch 1/7: 100%|██████████| 391/391 [13:58<00:00,  2.14s/batch, training_loss=3.419]\n",
      "Epoch 2/7: 100%|██████████| 391/391 [13:48<00:00,  2.12s/batch, training_loss=2.909]\n",
      "Epoch 3/7: 100%|██████████| 391/391 [14:22<00:00,  2.21s/batch, training_loss=2.976]\n",
      "Epoch 4/7: 100%|██████████| 391/391 [13:51<00:00,  2.13s/batch, training_loss=2.629]\n",
      "Epoch 5/7: 100%|██████████| 391/391 [13:57<00:00,  2.14s/batch, training_loss=2.438]\n",
      "Epoch 6/7: 100%|██████████| 391/391 [15:22<00:00,  2.36s/batch, training_loss=2.314]\n",
      "Epoch 7/7: 100%|██████████| 391/391 [15:21<00:00,  2.36s/batch, training_loss=1.792]\n"
     ]
    },
    {
     "name": "stdout",
     "output_type": "stream",
     "text": [
      "{'filters': [64, 64], 'kernel_sizes': [7, 3], 'learning_rate': 1e-05, 'fully_connected': 0, 'dropout': 0, 'fitness': 0.308, 'num_conv_layers': 2}\n"
     ]
    },
    {
     "name": "stderr",
     "output_type": "stream",
     "text": [
      "Epoch 1/7: 100%|██████████| 391/391 [00:16<00:00, 24.04batch/s, training_loss=3.694]\n",
      "Epoch 2/7: 100%|██████████| 391/391 [00:16<00:00, 23.64batch/s, training_loss=3.409]\n",
      "Epoch 3/7: 100%|██████████| 391/391 [00:15<00:00, 24.72batch/s, training_loss=3.237]\n",
      "Epoch 4/7: 100%|██████████| 391/391 [00:15<00:00, 24.89batch/s, training_loss=3.180]\n",
      "Epoch 5/7: 100%|██████████| 391/391 [00:16<00:00, 24.33batch/s, training_loss=2.898]\n",
      "Epoch 6/7: 100%|██████████| 391/391 [00:16<00:00, 24.27batch/s, training_loss=3.067]\n",
      "Epoch 7/7: 100%|██████████| 391/391 [00:15<00:00, 24.91batch/s, training_loss=2.753]\n"
     ]
    },
    {
     "name": "stdout",
     "output_type": "stream",
     "text": [
      "Los 4 mejores son: \n",
      " [{'filters': [64, 64], 'kernel_sizes': [7, 3], 'learning_rate': 1e-05, 'fully_connected': 0, 'dropout': 0, 'fitness': 0.2918, 'num_conv_layers': 2}, {'filters': [64, 64], 'kernel_sizes': [7, 3], 'learning_rate': 1e-05, 'fully_connected': 5, 'dropout': 2, 'fitness': 0.3501, 'num_conv_layers': 2}, {'filters': [64, 64], 'kernel_sizes': [7, 3], 'learning_rate': 1e-05, 'fully_connected': 0, 'dropout': 0, 'fitness': 0.2918, 'num_conv_layers': 2}, {'filters': [64, 64], 'kernel_sizes': [7, 3], 'learning_rate': 1e-05, 'fully_connected': 5, 'dropout': 2, 'fitness': 0.3501, 'num_conv_layers': 2}, {'filters': [32, 64], 'kernel_sizes': [7, 7], 'learning_rate': 1e-06, 'fully_connected': 3, 'dropout': 1, 'fitness': 0.2014, 'num_conv_layers': 2}]\n",
      "***************************************\n",
      "\n",
      "Generation: 2\n",
      "\n",
      "***************************************\n",
      "{'num_conv_layers': 3, 'filters': [8, 32, 32], 'kernel_sizes': [5, 1, 3], 'learning_rate': 0.001, 'fully_connected': 0, 'dropout': 2, 'fitness': 0.3744}\n"
     ]
    },
    {
     "name": "stderr",
     "output_type": "stream",
     "text": [
      "Epoch 1/7: 100%|██████████| 391/391 [00:13<00:00, 28.74batch/s, training_loss=2.919]\n",
      "Epoch 2/7: 100%|██████████| 391/391 [00:13<00:00, 28.92batch/s, training_loss=2.605]\n",
      "Epoch 3/7: 100%|██████████| 391/391 [00:13<00:00, 28.73batch/s, training_loss=2.367]\n",
      "Epoch 4/7: 100%|██████████| 391/391 [00:13<00:00, 28.79batch/s, training_loss=2.373]\n",
      "Epoch 5/7: 100%|██████████| 391/391 [00:13<00:00, 28.62batch/s, training_loss=2.103]\n",
      "Epoch 6/7: 100%|██████████| 391/391 [00:13<00:00, 28.42batch/s, training_loss=1.948]\n",
      "Epoch 7/7: 100%|██████████| 391/391 [00:13<00:00, 29.88batch/s, training_loss=2.123]\n"
     ]
    },
    {
     "name": "stdout",
     "output_type": "stream",
     "text": [
      "{'filters': [64, 64], 'kernel_sizes': [1, 1], 'learning_rate': 1e-05, 'fully_connected': 5, 'dropout': 2, 'fitness': 0.3501, 'num_conv_layers': 2}\n"
     ]
    },
    {
     "name": "stderr",
     "output_type": "stream",
     "text": [
      "Epoch 1/7:   0%|          | 0/391 [00:00<?, ?batch/s]"
     ]
    },
    {
     "ename": "OutOfMemoryError",
     "evalue": "CUDA out of memory. Tried to allocate 1.60 GiB. GPU 0 has a total capacty of 12.00 GiB of which 0 bytes is free. Of the allocated memory 17.65 GiB is allocated by PyTorch, and 63.76 MiB is reserved by PyTorch but unallocated. If reserved but unallocated memory is large try setting max_split_size_mb to avoid fragmentation.  See documentation for Memory Management and PYTORCH_CUDA_ALLOC_CONF",
     "output_type": "error",
     "traceback": [
      "\u001b[1;31m---------------------------------------------------------------------------\u001b[0m",
      "\u001b[1;31mOutOfMemoryError\u001b[0m                          Traceback (most recent call last)",
      "Cell \u001b[1;32mIn[20], line 1\u001b[0m\n\u001b[1;32m----> 1\u001b[0m population_sol \u001b[38;5;241m=\u001b[39m \u001b[43mgenetic_algorithm\u001b[49m\u001b[43m(\u001b[49m\u001b[43mpopulation\u001b[49m\u001b[43m,\u001b[49m\u001b[43m \u001b[49m\u001b[43mtrain_loader\u001b[49m\u001b[43m,\u001b[49m\u001b[43m \u001b[49m\u001b[43mval_loader\u001b[49m\u001b[43m,\u001b[49m\u001b[43m \u001b[49m\u001b[43mdevice\u001b[49m\u001b[43m,\u001b[49m\u001b[43m \u001b[49m\u001b[43mmax_desc\u001b[49m\u001b[43m,\u001b[49m\u001b[43m \u001b[49m\u001b[43mepochs\u001b[49m\u001b[43m)\u001b[49m\n",
      "Cell \u001b[1;32mIn[19], line 14\u001b[0m, in \u001b[0;36mgenetic_algorithm\u001b[1;34m(population, train_loader, val_loader, device, max_desc, epochs)\u001b[0m\n\u001b[0;32m     12\u001b[0m \u001b[38;5;28mprint\u001b[39m()\n\u001b[0;32m     13\u001b[0m \u001b[38;5;28mprint\u001b[39m(\u001b[38;5;124m\"\u001b[39m\u001b[38;5;124m***************************************\u001b[39m\u001b[38;5;124m\"\u001b[39m)\n\u001b[1;32m---> 14\u001b[0m puntuaciones_aptitud \u001b[38;5;241m=\u001b[39m \u001b[43mevaluate_population\u001b[49m\u001b[43m(\u001b[49m\u001b[43mpopulation\u001b[49m\u001b[43m,\u001b[49m\u001b[43m \u001b[49m\u001b[43mtrain_loader\u001b[49m\u001b[43m,\u001b[49m\u001b[43m \u001b[49m\u001b[43mval_loader\u001b[49m\u001b[43m,\u001b[49m\u001b[43m \u001b[49m\u001b[43mdevice\u001b[49m\u001b[43m,\u001b[49m\u001b[43m \u001b[49m\u001b[43mepochs\u001b[49m\u001b[43m)\u001b[49m\n\u001b[0;32m     16\u001b[0m \u001b[38;5;66;03m# Ordenamos individuos\u001b[39;00m\n\u001b[0;32m     17\u001b[0m \u001b[38;5;66;03m# Añadimos las puntuaciones directamente a cada diccionario de la población\u001b[39;00m\n\u001b[0;32m     18\u001b[0m \u001b[38;5;28;01mfor\u001b[39;00m i, puntuacion \u001b[38;5;129;01min\u001b[39;00m \u001b[38;5;28menumerate\u001b[39m(puntuaciones_aptitud):\n",
      "Cell \u001b[1;32mIn[16], line 9\u001b[0m, in \u001b[0;36mevaluate_population\u001b[1;34m(population, train_loader, val_loader, device, epochs)\u001b[0m\n\u001b[0;32m      7\u001b[0m \u001b[38;5;28;01mfor\u001b[39;00m individual \u001b[38;5;129;01min\u001b[39;00m population:\n\u001b[0;32m      8\u001b[0m     \u001b[38;5;28mprint\u001b[39m(individual)\n\u001b[1;32m----> 9\u001b[0m     fitness \u001b[38;5;241m=\u001b[39m \u001b[43mevaluate_individual\u001b[49m\u001b[43m(\u001b[49m\u001b[43mindividual\u001b[49m\u001b[43m,\u001b[49m\u001b[43m \u001b[49m\u001b[43mtrain_loader\u001b[49m\u001b[43m,\u001b[49m\u001b[43m \u001b[49m\u001b[43mval_loader\u001b[49m\u001b[43m,\u001b[49m\u001b[43m \u001b[49m\u001b[43mdevice\u001b[49m\u001b[43m,\u001b[49m\u001b[43m \u001b[49m\u001b[43mepochs\u001b[49m\u001b[43m)\u001b[49m\n\u001b[0;32m     10\u001b[0m     fitness_scores\u001b[38;5;241m.\u001b[39mappend(fitness)\n\u001b[0;32m     12\u001b[0m \u001b[38;5;66;03m# sacamos los scores de la poblacion\u001b[39;00m\n",
      "Cell \u001b[1;32mIn[13], line 27\u001b[0m, in \u001b[0;36mevaluate_individual\u001b[1;34m(individual, train_loader, val_loader, device, epochs)\u001b[0m\n\u001b[0;32m     25\u001b[0m loss \u001b[38;5;241m=\u001b[39m criterion(output, targets)\n\u001b[0;32m     26\u001b[0m loss\u001b[38;5;241m.\u001b[39mbackward()\n\u001b[1;32m---> 27\u001b[0m \u001b[43moptimizer\u001b[49m\u001b[38;5;241;43m.\u001b[39;49m\u001b[43mstep\u001b[49m\u001b[43m(\u001b[49m\u001b[43m)\u001b[49m\n\u001b[0;32m     29\u001b[0m \u001b[38;5;66;03m# Actualizar la barra de progreso con la última información de pérdida\u001b[39;00m\n\u001b[0;32m     30\u001b[0m progress_bar\u001b[38;5;241m.\u001b[39mset_postfix({\u001b[38;5;124m'\u001b[39m\u001b[38;5;124mtraining_loss\u001b[39m\u001b[38;5;124m'\u001b[39m: \u001b[38;5;124m'\u001b[39m\u001b[38;5;132;01m{:.3f}\u001b[39;00m\u001b[38;5;124m'\u001b[39m\u001b[38;5;241m.\u001b[39mformat(loss\u001b[38;5;241m.\u001b[39mitem())})\n",
      "File \u001b[1;32mc:\\Python311\\Lib\\site-packages\\torch\\optim\\optimizer.py:373\u001b[0m, in \u001b[0;36mOptimizer.profile_hook_step.<locals>.wrapper\u001b[1;34m(*args, **kwargs)\u001b[0m\n\u001b[0;32m    368\u001b[0m         \u001b[38;5;28;01melse\u001b[39;00m:\n\u001b[0;32m    369\u001b[0m             \u001b[38;5;28;01mraise\u001b[39;00m \u001b[38;5;167;01mRuntimeError\u001b[39;00m(\n\u001b[0;32m    370\u001b[0m                 \u001b[38;5;124mf\u001b[39m\u001b[38;5;124m\"\u001b[39m\u001b[38;5;132;01m{\u001b[39;00mfunc\u001b[38;5;132;01m}\u001b[39;00m\u001b[38;5;124m must return None or a tuple of (new_args, new_kwargs), but got \u001b[39m\u001b[38;5;132;01m{\u001b[39;00mresult\u001b[38;5;132;01m}\u001b[39;00m\u001b[38;5;124m.\u001b[39m\u001b[38;5;124m\"\u001b[39m\n\u001b[0;32m    371\u001b[0m             )\n\u001b[1;32m--> 373\u001b[0m out \u001b[38;5;241m=\u001b[39m \u001b[43mfunc\u001b[49m\u001b[43m(\u001b[49m\u001b[38;5;241;43m*\u001b[39;49m\u001b[43margs\u001b[49m\u001b[43m,\u001b[49m\u001b[43m \u001b[49m\u001b[38;5;241;43m*\u001b[39;49m\u001b[38;5;241;43m*\u001b[39;49m\u001b[43mkwargs\u001b[49m\u001b[43m)\u001b[49m\n\u001b[0;32m    374\u001b[0m \u001b[38;5;28mself\u001b[39m\u001b[38;5;241m.\u001b[39m_optimizer_step_code()\n\u001b[0;32m    376\u001b[0m \u001b[38;5;66;03m# call optimizer step post hooks\u001b[39;00m\n",
      "File \u001b[1;32mc:\\Python311\\Lib\\site-packages\\torch\\optim\\optimizer.py:76\u001b[0m, in \u001b[0;36m_use_grad_for_differentiable.<locals>._use_grad\u001b[1;34m(self, *args, **kwargs)\u001b[0m\n\u001b[0;32m     74\u001b[0m     torch\u001b[38;5;241m.\u001b[39mset_grad_enabled(\u001b[38;5;28mself\u001b[39m\u001b[38;5;241m.\u001b[39mdefaults[\u001b[38;5;124m'\u001b[39m\u001b[38;5;124mdifferentiable\u001b[39m\u001b[38;5;124m'\u001b[39m])\n\u001b[0;32m     75\u001b[0m     torch\u001b[38;5;241m.\u001b[39m_dynamo\u001b[38;5;241m.\u001b[39mgraph_break()\n\u001b[1;32m---> 76\u001b[0m     ret \u001b[38;5;241m=\u001b[39m \u001b[43mfunc\u001b[49m\u001b[43m(\u001b[49m\u001b[38;5;28;43mself\u001b[39;49m\u001b[43m,\u001b[49m\u001b[43m \u001b[49m\u001b[38;5;241;43m*\u001b[39;49m\u001b[43margs\u001b[49m\u001b[43m,\u001b[49m\u001b[43m \u001b[49m\u001b[38;5;241;43m*\u001b[39;49m\u001b[38;5;241;43m*\u001b[39;49m\u001b[43mkwargs\u001b[49m\u001b[43m)\u001b[49m\n\u001b[0;32m     77\u001b[0m \u001b[38;5;28;01mfinally\u001b[39;00m:\n\u001b[0;32m     78\u001b[0m     torch\u001b[38;5;241m.\u001b[39m_dynamo\u001b[38;5;241m.\u001b[39mgraph_break()\n",
      "File \u001b[1;32mc:\\Python311\\Lib\\site-packages\\torch\\optim\\adam.py:154\u001b[0m, in \u001b[0;36mAdam.step\u001b[1;34m(self, closure)\u001b[0m\n\u001b[0;32m    151\u001b[0m     state_steps \u001b[38;5;241m=\u001b[39m []\n\u001b[0;32m    152\u001b[0m     beta1, beta2 \u001b[38;5;241m=\u001b[39m group[\u001b[38;5;124m'\u001b[39m\u001b[38;5;124mbetas\u001b[39m\u001b[38;5;124m'\u001b[39m]\n\u001b[1;32m--> 154\u001b[0m     \u001b[38;5;28;43mself\u001b[39;49m\u001b[38;5;241;43m.\u001b[39;49m\u001b[43m_init_group\u001b[49m\u001b[43m(\u001b[49m\n\u001b[0;32m    155\u001b[0m \u001b[43m        \u001b[49m\u001b[43mgroup\u001b[49m\u001b[43m,\u001b[49m\n\u001b[0;32m    156\u001b[0m \u001b[43m        \u001b[49m\u001b[43mparams_with_grad\u001b[49m\u001b[43m,\u001b[49m\n\u001b[0;32m    157\u001b[0m \u001b[43m        \u001b[49m\u001b[43mgrads\u001b[49m\u001b[43m,\u001b[49m\n\u001b[0;32m    158\u001b[0m \u001b[43m        \u001b[49m\u001b[43mexp_avgs\u001b[49m\u001b[43m,\u001b[49m\n\u001b[0;32m    159\u001b[0m \u001b[43m        \u001b[49m\u001b[43mexp_avg_sqs\u001b[49m\u001b[43m,\u001b[49m\n\u001b[0;32m    160\u001b[0m \u001b[43m        \u001b[49m\u001b[43mmax_exp_avg_sqs\u001b[49m\u001b[43m,\u001b[49m\n\u001b[0;32m    161\u001b[0m \u001b[43m        \u001b[49m\u001b[43mstate_steps\u001b[49m\u001b[43m)\u001b[49m\n\u001b[0;32m    163\u001b[0m     adam(\n\u001b[0;32m    164\u001b[0m         params_with_grad,\n\u001b[0;32m    165\u001b[0m         grads,\n\u001b[1;32m   (...)\u001b[0m\n\u001b[0;32m    182\u001b[0m         found_inf\u001b[38;5;241m=\u001b[39m\u001b[38;5;28mgetattr\u001b[39m(\u001b[38;5;28mself\u001b[39m, \u001b[38;5;124m\"\u001b[39m\u001b[38;5;124mfound_inf\u001b[39m\u001b[38;5;124m\"\u001b[39m, \u001b[38;5;28;01mNone\u001b[39;00m),\n\u001b[0;32m    183\u001b[0m     )\n\u001b[0;32m    185\u001b[0m \u001b[38;5;28;01mreturn\u001b[39;00m loss\n",
      "File \u001b[1;32mc:\\Python311\\Lib\\site-packages\\torch\\optim\\adam.py:111\u001b[0m, in \u001b[0;36mAdam._init_group\u001b[1;34m(self, group, params_with_grad, grads, exp_avgs, exp_avg_sqs, max_exp_avg_sqs, state_steps)\u001b[0m\n\u001b[0;32m    109\u001b[0m state[\u001b[38;5;124m'\u001b[39m\u001b[38;5;124mexp_avg\u001b[39m\u001b[38;5;124m'\u001b[39m] \u001b[38;5;241m=\u001b[39m torch\u001b[38;5;241m.\u001b[39mzeros_like(p, memory_format\u001b[38;5;241m=\u001b[39mtorch\u001b[38;5;241m.\u001b[39mpreserve_format)\n\u001b[0;32m    110\u001b[0m \u001b[38;5;66;03m# Exponential moving average of squared gradient values\u001b[39;00m\n\u001b[1;32m--> 111\u001b[0m state[\u001b[38;5;124m'\u001b[39m\u001b[38;5;124mexp_avg_sq\u001b[39m\u001b[38;5;124m'\u001b[39m] \u001b[38;5;241m=\u001b[39m \u001b[43mtorch\u001b[49m\u001b[38;5;241;43m.\u001b[39;49m\u001b[43mzeros_like\u001b[49m\u001b[43m(\u001b[49m\u001b[43mp\u001b[49m\u001b[43m,\u001b[49m\u001b[43m \u001b[49m\u001b[43mmemory_format\u001b[49m\u001b[38;5;241;43m=\u001b[39;49m\u001b[43mtorch\u001b[49m\u001b[38;5;241;43m.\u001b[39;49m\u001b[43mpreserve_format\u001b[49m\u001b[43m)\u001b[49m\n\u001b[0;32m    112\u001b[0m \u001b[38;5;28;01mif\u001b[39;00m group[\u001b[38;5;124m'\u001b[39m\u001b[38;5;124mamsgrad\u001b[39m\u001b[38;5;124m'\u001b[39m]:\n\u001b[0;32m    113\u001b[0m     \u001b[38;5;66;03m# Maintains max of all exp. moving avg. of sq. grad. values\u001b[39;00m\n\u001b[0;32m    114\u001b[0m     state[\u001b[38;5;124m'\u001b[39m\u001b[38;5;124mmax_exp_avg_sq\u001b[39m\u001b[38;5;124m'\u001b[39m] \u001b[38;5;241m=\u001b[39m torch\u001b[38;5;241m.\u001b[39mzeros_like(p, memory_format\u001b[38;5;241m=\u001b[39mtorch\u001b[38;5;241m.\u001b[39mpreserve_format)\n",
      "\u001b[1;31mOutOfMemoryError\u001b[0m: CUDA out of memory. Tried to allocate 1.60 GiB. GPU 0 has a total capacty of 12.00 GiB of which 0 bytes is free. Of the allocated memory 17.65 GiB is allocated by PyTorch, and 63.76 MiB is reserved by PyTorch but unallocated. If reserved but unallocated memory is large try setting max_split_size_mb to avoid fragmentation.  See documentation for Memory Management and PYTORCH_CUDA_ALLOC_CONF"
     ]
    }
   ],
   "source": [
    "population_sol = genetic_algorithm(population, train_loader, val_loader, device, max_desc, epochs)"
   ]
  },
  {
   "cell_type": "code",
   "execution_count": null,
   "metadata": {},
   "outputs": [],
   "source": [
    "for individual in top_models:\n",
    "    print(f\"Individuo {individual} \")"
   ]
  },
  {
   "cell_type": "code",
   "execution_count": null,
   "metadata": {},
   "outputs": [],
   "source": [
    "from torchsummary import summary\n",
    "\n",
    "model = build_cnn_from_individual(top_models[len(top_models)-1])\n",
    "model = model.to(device)\n",
    "summary(model, (num_channels, px_h, px_w))\n"
   ]
  },
  {
   "cell_type": "code",
   "execution_count": 15,
   "metadata": {},
   "outputs": [
    {
     "data": {
      "image/png": "[encoded data removed]",
      "text/plain": [
       "<Figure size 1000x600 with 1 Axes>"
      ]
     },
     "metadata": {},
     "output_type": "display_data"
    }
   ],
   "source": [
    "# Extraemos los valores de fitness de cada modelo\n",
    "fitness_values = [model['fitness'] for model in top_models]\n",
    "\n",
    "# Creamos gráfico\n",
    "plt.figure(figsize=(10, 6))\n",
    "plt.plot(range(len(fitness_values)), fitness_values, marker='o', linestyle='-', color='b')\n",
    "plt.title('Fitness del mejor modelo de cada generación')\n",
    "plt.xlabel('Generación')\n",
    "plt.ylabel('Valor de Fitness')\n",
    "\n",
    "plt.grid(True)\n",
    "plt.savefig('./evolucion_fitness.png')\n",
    "plt.show()\n"
   ]
  },
  {
   "cell_type": "code",
   "execution_count": 17,
   "metadata": {},
   "outputs": [
    {
     "data": {
      "image/png": "[encoded data removed]",
      "text/plain": [
       "<Figure size 1000x600 with 1 Axes>"
      ]
     },
     "metadata": {},
     "output_type": "display_data"
    }
   ],
   "source": [
    "# Extraemos los valores de fitness de cada modelo\n",
    "time_values = [\n",
    "                28.4,\n",
    "                30.5,\n",
    "                28.6,\n",
    "                27.1,\n",
    "                27.8,\n",
    "                29.2,\n",
    "                30.6,\n",
    "                30.1,\n",
    "                29.2,\n",
    "                31.4\n",
    "               ]\n",
    "\n",
    "# Creamos gráfico\n",
    "plt.figure(figsize=(10, 6))\n",
    "plt.plot(range(len(time_values)), time_values, marker='o', linestyle='-', color='g')\n",
    "plt.title('Tiempo de ejecución (en horas)')\n",
    "plt.xlabel('Iteración')\n",
    "plt.ylabel('Tiempo')\n",
    "\n",
    "plt.grid(True)\n",
    "plt.savefig('./tiempo_iteracion.png')\n",
    "plt.show()"
   ]
  }
 ],
 "metadata": {
  "kernelspec": {
   "display_name": ".venv",
   "language": "python",
   "name": "python3"
  },
  "language_info": {
   "codemirror_mode": {
    "name": "ipython",
    "version": 3
   },
   "file_extension": ".py",
   "mimetype": "text/x-python",
   "name": "python",
   "nbconvert_exporter": "python",
   "pygments_lexer": "ipython3",
   "version": "3.11.5"
  }
 },
 "nbformat": 4,
 "nbformat_minor": 2
}
