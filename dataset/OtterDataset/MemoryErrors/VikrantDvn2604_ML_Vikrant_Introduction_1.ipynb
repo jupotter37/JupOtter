{
 "cells": [
  {
   "cell_type": "markdown",
   "metadata": {},
   "source": [
    "**Python Session 1**\n",
    "\n",
    "**Course Plan**\n",
    "\n",
    "+ We will learn Python from basics and will cover advanced concepts\n",
    "+ Language constructs, programming in Python, data cleaning and manipulation, data analysis, plotting, web scraping, textual analysis.\n",
    "+ First session will focus on building blocks of the language\n",
    "+ Completely hands-on approach\n",
    "+ Analogies to SAS, R, STATA wherever applicable"
   ]
  },
  {
   "cell_type": "markdown",
   "metadata": {},
   "source": [
    "**What is Python**\n",
    "\n",
    "+ High level, general purpose programming language\n",
    "+ First introduced in 1991\n",
    "+ Dynamic, interpreted language\n",
    "+ Language of choice of web programming, and scripting purposes\n",
    "+ Great tool for scientific computing community, explosive growth in the scientific computing and data analytics capabilities\n",
    "+ Fairly large scientific community and is used in a variety of settings such as financial research, algorithms development, options and derivatives pricing, financial modeling, trading systems, network analysis, and machine learning.\n",
    "+ No type declarations thus making coding short\n",
    "\n",
    "**Why Python?**\n",
    "\n",
    "+ Simple to understand, easy to learn\n",
    "+ Object oriented structure makes programming very easy\n",
    "+ Platform independent \n",
    "+ Open source and has support from a huge scientific community that contributes actively to Python development\n",
    "+ A number of libraries for research tasks and the capabilities are growing by the day\n",
    "+ De facto choice for textual data analytics"
   ]
  },
  {
   "cell_type": "markdown",
   "metadata": {},
   "source": [
    "**Important Packages**\n",
    "\n",
    "+ NumPy: Numerical Python (NumPy) is the foundation package. Other packages and libraries are built on top of NumPy. \n",
    "+ pandas: Provides data structures and processing capabilities similar to ones found in R and Excel. Also provides time series capabilities.\n",
    "+ SciPy: Collection of packages to tackle a number of computing problems in data analytics, statistics, and linear algebra.\n",
    "+ matplotlib: Plotting library. Allows to plot a number of 2D graphs and will serve as primary graphics library.\n",
    "+ IPython: Interactive Python shell that allows quick prototyping of code. \n",
    "+ Statsmodels: Allows data analysis, statistical model estimation, statistical tests, and regressions, and function plotting. \n",
    "+ BeautifulSoup: Python library for crawling the web. Allows you to pull data from HTML and XML pages. \n",
    "+ Scikits: A number of packages for running simulations, machine learning, data mining, optimization, and time series models. \n",
    "+ RPy: Integrates Python with R, allows calling of R commands from Python code"
   ]
  },
  {
   "cell_type": "markdown",
   "metadata": {},
   "source": [
    "**Installation**\n",
    "\n",
    "+ Many Python distributions available. We will use Enthought Canopy or Anaconda.\n",
    "+ Built specifically for scientific community. \n",
    "+ Collection of more that 14000 packages, and an excellent development environment."
   ]
  },
  {
   "cell_type": "markdown",
   "metadata": {},
   "source": [
    "**Programming in Python**\n",
    "\n",
    "Two basic modes:\n",
    "\n",
    "+ Interactive: Quick way of writing and testing code. Interactive in nature and gives results on the fly.\n",
    "+ Interactive mode is recommended when some idea/result is to be quickly tested.\n",
    "+ Script: Write complete code just like in any other language. Run all or some part of the code.\n",
    "+ Code can be stored in scripts and run at a later time. \n",
    "+ Python scripts end with a .py extension\n",
    "\n",
    "**IPython notebook**\n",
    "\n",
    "IPython is a software package in Python that serves as a research notebook. IPython has a seamless interface using which you can write notes as well as perform data analysis in the same file. The data analysis part allows you to write the code and run it from within the notebook itself. The results also are displayed in the notebook. Among other things, IPython provides:\n",
    "\n",
    "1. An interactive shell\n",
    "2. Notebook that is browser based. The notebook supports text, code, expressions, graphs and interactive data visualization, embed images and videos, and also links to web pages on the Internet. \n",
    "3. Tools for parallel computing.\n",
    "4. Import external code and run it.\n",
    "5. Export the notebook in a number of formats.\n",
    "\n",
    "\n",
    "\n",
    "**Creating an IPython notebook**\n",
    "\n",
    "In order to create an IPython notebook, choose File -> New -> IPython notebook. \n",
    "\n",
    "Hitting Alt-Enter creates a new cell. A cell is nothing but a placeholder where you can write some text or execute code."
   ]
  },
  {
   "cell_type": "code",
   "execution_count": 1,
   "metadata": {},
   "outputs": [
    {
     "name": "stdout",
     "output_type": "stream",
     "text": [
      "An example of code execution in IPython\n"
     ]
    },
    {
     "data": {
      "text/plain": [
       "266.176471"
      ]
     },
     "execution_count": 1,
     "metadata": {},
     "output_type": "execute_result"
    }
   ],
   "source": [
    "print(\"An example of code execution in IPython\")\n",
    "X = 25*543/51\n",
    "round(X,6)"
   ]
  },
  {
   "cell_type": "markdown",
   "metadata": {},
   "source": [
    "In order to find help on some concept, make use of ? If you want to find a function or make use of wildcard entry, make use of followed by ? A quickref command gives you a quick reference to the most commonly used commands in Python."
   ]
  },
  {
   "cell_type": "code",
   "execution_count": 2,
   "metadata": {},
   "outputs": [],
   "source": [
    "import collections\n",
    "collections.namedtuple?"
   ]
  },
  {
   "cell_type": "code",
   "execution_count": 3,
   "metadata": {},
   "outputs": [],
   "source": [
    "collections?\n",
    "print?\n",
    "sorted?"
   ]
  },
  {
   "cell_type": "code",
   "execution_count": 3,
   "metadata": {},
   "outputs": [],
   "source": [
    "import numpy as np\n",
    "np.*mean*?"
   ]
  },
  {
   "cell_type": "code",
   "execution_count": 4,
   "metadata": {},
   "outputs": [],
   "source": [
    "import numpy\n",
    "numpy.*mean*?"
   ]
  },
  {
   "cell_type": "markdown",
   "metadata": {},
   "source": [
    "Tab is a very handy feature in Python. It gives you a list of all the functions and commands that are associated with a package (such as NumPy). For example, if you type np. and then press tab, a dropdown will come up with the list of all the functions associate with np. By using this, you do not have to rememeber the functions specifics and can just use tab completion."
   ]
  },
  {
   "cell_type": "markdown",
   "metadata": {},
   "source": [
    "If you want to know the histroy of commands, make use of history command. This feature also allows you to extract code from a IPython notebook to a separate file. "
   ]
  },
  {
   "cell_type": "code",
   "execution_count": 95,
   "metadata": {},
   "outputs": [
    {
     "name": "stdout",
     "output_type": "stream",
     "text": [
      "print(\"An example of code execution in IPython\")\n",
      "25*543\n",
      "import collections\n",
      "collections.namedtuple?\n",
      "collections?\n",
      "import numpy as np\n",
      "np.*mean*?\n",
      "import numpy as np\n",
      "np.*mean*?\n",
      "import numpy as np\n",
      "np.*mean*?\n",
      "i = 5\n",
      "a =7 \n",
      "i ='text'\n",
      "print(i)\n",
      " print ('Value is ', i) # Error! Notice a single space at the start of the li\n",
      "print ('I repeat, the value is ', i)\n",
      "i = 5\n",
      "a =7 \n",
      "i ='text'\n",
      "print(i)\n",
      "print ('Value is ', i) # Error! Notice a single space at the start of the li\n",
      "print ('I repeat, the value is ', i)\n",
      "# this is a single line comment\n",
      "'''\n",
      "print(\"We are in a comment\")\n",
      "print (\"We are still in a comment\")\n",
      "'''\n",
      "print(\"We are out of the comment\")\n",
      "# this is a single line comment\n",
      "\"''\n",
      "print(\"We are in a comment\")\n",
      "print (\"We are still in a comment\")\n",
      "\"'\n",
      "print(\"We are out of the comment\")\n",
      "x = 3\n",
      "if x < 5:\n",
      "    print(x)\n",
      "print(5)\n",
      "x = 21\n",
      "y =25\n",
      "print(x)\n",
      "if x<10:\n",
      "    print(x)\n",
      "    \n",
      "    print (y)\n",
      "counter = 100          # An integer assignment\n",
      "miles   = 1000.0       # A floating point\n",
      "name    = 'Ajay'        # A string\n",
      "\n",
      "print(counter)\n",
      "print(miles)\n",
      "print(name)\n",
      "\n",
      "a = 11111\n",
      "b = 2.0\n",
      "c = \"0\"\n",
      "d = \"2\"\n",
      "print(b + a)\n",
      "print(c  + d)\n",
      "x = 21\n",
      "y =25\n",
      "print(x)\n",
      "if x<10:\n",
      "    print(x)\n",
      "    \n",
      "print (y)\n",
      "counter = 100          # An integer assignment\n",
      "miles   = 1000.0       # A floating point\n",
      "name    = 'Ajay'        # A string\n",
      "\n",
      "print(counter)\n",
      "print(miles)\n",
      "print(name)\n",
      "\n",
      "a = 11111.00\n",
      "b = 2.0\n",
      "c = \"0\"\n",
      "d = \"2\"\n",
      "print(b + a)\n",
      "print(c  + d)\n",
      "counter = 100          # An integer assignment\n",
      "miles   = 1000.0       # A floating point\n",
      "name    = 'Ajay'        # A string\n",
      "\n",
      "print(counter)\n",
      "print(miles)\n",
      "print(name)\n",
      "\n",
      "a = 11112.\n",
      "b = 2.0\n",
      "c = \"0\"\n",
      "d = \"2\"\n",
      "print(b + a)\n",
      "print(c  + d)\n",
      "counter = 100          # An integer assignment\n",
      "miles   = 1000.0       # A floating point\n",
      "name    = 'Ajay'        # A string\n",
      "\n",
      "print(counter)\n",
      "print(miles)\n",
      "print(name)\n",
      "\n",
      "a = 11112\n",
      "b = 2\n",
      "c = \"0\"\n",
      "d = \"2\"\n",
      "print(b + a)\n",
      "print(c  + d)\n",
      "counter = 100          # An integer assignment\n",
      "miles   = 1000.0       # A floating point\n",
      "name    = 'Ajay'        # A string\n",
      "\n",
      "print(counter)\n",
      "print(miles)\n",
      "print(name)\n",
      "\n",
      "a = 11112\n",
      "b = 2.0\n",
      "c = \"0\"\n",
      "d = \"2\"\n",
      "print(b + a)\n",
      "print(c  + d)\n",
      "counter = 100          # An integer assignment\n",
      "miles   = 1000.0       # A floating point\n",
      "name    = 'Ajay'        # A string\n",
      "\n",
      "print(counter)\n",
      "print(miles)\n",
      "print(name)\n",
      "\n",
      "a = 11112\n",
      "b = 2.00\n",
      "c = \"0\"\n",
      "d = \"2\"\n",
      "print(b + a)\n",
      "print(c  + d)\n",
      "counter = 100          # An integer assignment\n",
      "miles   = 1000.0       # A floating point\n",
      "name    = 'Ajay'        # A string\n",
      "\n",
      "print(counter)\n",
      "print(miles)\n",
      "print(name)\n",
      "\n",
      "a = 11112\n",
      "b = 2.001\n",
      "c = \"0\"\n",
      "d = \"2\"\n",
      "print(b + a)\n",
      "print(c  + d)\n",
      "str = 'Hello World' \n",
      "print (str)    # prints complete string\n",
      "print (str[0]) # prints first character of string\n",
      "print (str[2:5])   #prints characters starting from 3rd to 5th \n",
      "print (str[2:])    #prints string starting from 3rd character\n",
      "print (str*2)    #prints string two times\n",
      "print (str + \"TEST\")   # prints concatenated string\n",
      "str = 'Hello World' \n",
      "print (str)    # prints complete string\n",
      "print (str[0]) # prints first character of string\n",
      "print (str[2:5])   #prints characters starting from 3rd to 5th \n",
      "print (str[2:])    #prints string starting from 3rd character\n",
      "print (str*2)    #prints string two times\n",
      "print (str+\"\"+str)\n",
      "print (str + \"TEST\")   # prints concatenated string\n",
      "str = 'Hello World' \n",
      "print (str)    # prints complete string\n",
      "print (str[0]) # prints first character of string\n",
      "print (str[2:5])   #prints characters starting from 3rd to 5th \n",
      "print (str[2:])    #prints string starting from 3rd character\n",
      "print (str*2)    #prints string two times\n",
      "print (str + \" \" + str)\n",
      "print (str + \"TEST\")   # prints concatenated string\n",
      "str = 'Hello World' \n",
      "print (str)    # prints complete string\n",
      "print (str[0]) # prints first character of string\n",
      "print (str[2:5])   #prints characters starting from 3rd to 5th \n",
      "print (str[2:6]) \n",
      "print (str[2:])    #prints string starting from 3rd character\n",
      "print (str*2)    #prints string two times\n",
      "print (str + \" \" + str)\n",
      "print (str + \"TEST\")   # prints concatenated string\n",
      "str = 'Hello World' \n",
      "print (str)    # prints complete string\n",
      "print (str[0]) # prints first character of string\n",
      "print (str[2:7])   #prints characters starting from 3rd to 5th \n",
      "print (str[2:8]) \n",
      "print (str[2:])    #prints string starting from 3rd character\n",
      "print (str*2)    #prints string two times\n",
      "print (str + \" \" + str)\n",
      "print (str + \"TEST\")   # prints concatenated string\n",
      "str =\"hello\"\n",
      "print(str[-1])\n",
      "\n",
      "a = 'this is a string'\n",
      "b = a.replace('string','longer string')\n",
      "print (a) \n",
      "print (b)\n",
      "\n",
      "a = '20.3'\n",
      "anum = float(a)\n",
      "print (anum + anum)\n",
      "\n",
      "a = \"hi\"\n",
      "anum = int(a)\n",
      "print (anum)\n",
      "str =\"hello\"\n",
      "print(str[-1])\n",
      "print(str[-1:])\n",
      "\n",
      "\n",
      "a = 'this is a string'\n",
      "b = a.replace('string','longer string')\n",
      "print (a) \n",
      "print (b)\n",
      "\n",
      "a = '20.3'\n",
      "anum = float(a)\n",
      "print (anum + anum)\n",
      "\n",
      "a = \"hi\"\n",
      "anum = int(a)\n",
      "print (anum)\n",
      "str =\"hello\"\n",
      "print(str[-1])\n",
      "print(str[-1:-10])\n",
      "\n",
      "\n",
      "a = 'this is a string'\n",
      "b = a.replace('string','longer string')\n",
      "print (a) \n",
      "print (b)\n",
      "\n",
      "a = '20.3'\n",
      "anum = float(a)\n",
      "print (anum + anum)\n",
      "\n",
      "a = \"hi\"\n",
      "anum = int(a)\n",
      "print (anum)\n",
      "str =\"hello\"\n",
      "print(str[-1])\n",
      "print(str[-1:])\n",
      "\n",
      "\n",
      "a = 'this is a string'\n",
      "b = a.replace('string','longer string')\n",
      "print (a) \n",
      "print (b)\n",
      "\n",
      "a = '20.3'\n",
      "anum = float(a)\n",
      "print (anum + anum)\n",
      "\n",
      "a = \"hi\"\n",
      "anum = int(a)\n",
      "print (anum)\n",
      "str =\"hello\"\n",
      "print(str[-1])\n",
      "print(str[-1:])\n",
      "\n",
      "\n",
      "a = 'this is a string'\n",
      "b = a.replace('string','longer string')\n",
      "print (a) \n",
      "print (b)\n",
      "\n",
      "a = '20.3'\n",
      "anum = float(a)\n",
      "print (anum + anum)\n",
      "\n",
      "'''\n",
      "a = \"hi\"\n",
      "anum = int(a)\n",
      "print (anum)\n",
      "\n",
      "'''\n",
      "str =\"hello\"\n",
      "print(str[-1])\n",
      "print(str[-1:])\n",
      "\n",
      "\n",
      "a = 'this is a string'\n",
      "b = a.replace('string','longer string')\n",
      "print (a) \n",
      "print (b)\n",
      "\n",
      "a = '20.3'\n",
      "anum = float(a)\n",
      "anum2 = int(a)\n",
      "print (anum + anum)\n",
      "print (anum2 + anum2)\n",
      "\n",
      "'''\n",
      "a = \"hi\"\n",
      "anum = int(a)\n",
      "print (anum)\n",
      "\n",
      "'''\n",
      "a = \"hi\"\n",
      "print (a)\n",
      "print (len(a))\n",
      "string = \"This is python\"\n",
      "strlist = list(string)\n",
      "print(strlist)\n",
      "\n",
      "format = '%.2f %s is $%d'\n",
      "format %(4.5560,'Argentine Pesos',1)\n",
      "string = \"This is python\"\n",
      "strlist = list(string)\n",
      "print(strlist)\n",
      "\n",
      "format = '%.2f %s is $%d'\n",
      "format %(4.5560,'Argentine Pesos',1)\n",
      "\n",
      "format = 'arg_dollar%.2f %s is $%d'\n",
      "format %(4.5560,'Argentine Pesos',1)\n",
      "string = \"This is python\"\n",
      "strlist = list(string)\n",
      "print(strlist)\n",
      "\n",
      "format = '%.2f %s is $%d'\n",
      "format %(4.5560,'Argentine Pesos',1)\n",
      "\n",
      "format = 'arg_dollar %.2f %s is $%d'\n",
      "format %(4.5560,'Argentine Pesos',1)\n",
      "print(string)\n",
      "print (string.count('s'))\n",
      "print (string.split(' '))\n",
      "print (string.upper())\n",
      "print (string.lower())\n",
      "print (string.swapcase())\n",
      "str1 = \"    This is a bright, sunny day      \"\n",
      "print (str1.strip())\n",
      "print (str1.lstrip())\n",
      "print (str1.rstrip())\n",
      "print (\":\".join(str1))\n",
      "print (len(str1))\n",
      "school = 'ISB'\n",
      "print ('S' in school)\n",
      "'L' in school\n",
      "school = 'ISSB'\n",
      "print ('S' in school)\n",
      "x='X-DSPAM-Confidence:   1.90323453434'\n",
      "pos = x.find(':')\n",
      "print(pos)\n",
      "num=float(x[pos+1:])\n",
      "print (num, type(num))\n",
      "x='X-DSPAM-Confidence:   1.90323453434'\n",
      "pos = x.find(':')\n",
      "print(pos)\n",
      "num=float(x[pos+1:])\n",
      "num2=int(x[pos+1:])\n",
      "print (num, type(num))\n",
      "print (num2, type(num2))\n",
      "x='X-DSPAM-Confidence:   1.90323453434'\n",
      "pos = x.find(':')\n",
      "print(pos)\n",
      "num=float(x[pos+1:])\n",
      "print(x[pos+1:])\n",
      "#num2=int(x[pos+1:])\n",
      "print (num, type(num))\n",
      "print (num2, type(num2))\n",
      "x='X-DSPAM-Confidence:   1.90323453434'\n",
      "pos = x.find(':')\n",
      "print(pos)\n",
      "num=float(x[pos+1:])\n",
      "print(x[pos+1:])\n",
      "#num2=int(x[pos+1:])\n",
      "print (num, type(num))\n",
      "#print (num2, type(num2))\n",
      "#Let us do some exercises\n",
      "#1\n",
      "#Given below string, get first 10 characters, and last 10 characters.\n",
      "#Now join them to form a new string\n",
      "str = 'Hey how are you doing. We are doing good'\n",
      "print(str[0:11])\n",
      "str[-1:-11]\n",
      "#Let us do some exercises\n",
      "#1\n",
      "#Given below string, get first 10 characters, and last 10 characters.\n",
      "#Now join them to form a new string\n",
      "str = 'Hey how are you doing. We are doing good'\n",
      "print(str[0:11])\n",
      "print(str[-1:-11])\n",
      "#Let us do some exercises\n",
      "#1\n",
      "#Given below string, get first 10 characters, and last 10 characters.\n",
      "#Now join them to form a new string\n",
      "str = 'Hey how are you doing. We are doing good'\n",
      "print(str[0:11])\n",
      "print(str[-1:-11])\n",
      "#Let us do some exercises\n",
      "#1\n",
      "#Given below string, get first 10 characters, and last 10 characters.\n",
      "#Now join them to form a new string\n",
      "str = 'Hey how are you doing. We are doing good'\n",
      "print(str[0:10])\n",
      "print(str[len(str)-10:len(str)])\n",
      "#Let us do some exercises\n",
      "#1\n",
      "#Given below string, get first 10 characters, and last 10 characters.\n",
      "#Now join them to form a new string\n",
      "str = 'Hey how are you doing. We are doing good'\n",
      "print(str[0:10])\n",
      "print(str[len(str)-10:len(str)])\n",
      "print(str[0:10]+ str[len(str)-10:len(str)])\n",
      "#Consider two strings x and y\n",
      "x = 'Confusing'\n",
      "y = 'Strings'\n",
      "#Swap first three characters of each string and join them by an _\n",
      "x.replace('Con','Str')\n",
      "#Consider two strings x and y\n",
      "x = 'Confusing'\n",
      "y = 'Strings'\n",
      "#Swap first three characters of each string and join them by an _\n",
      "x.replace(x[0:3],y[0:3])\n",
      "#Consider two strings x and y\n",
      "x = 'Confusing'\n",
      "y = 'Strings'\n",
      "#Swap first three characters of each string and join them by an _\n",
      "x.replace(x[0:3],y[0:3])\n",
      "y.replace(y[0:3],x[0:3])\n",
      "#Let us do some exercises\n",
      "#1\n",
      "#Given below string, get first 10 characters, and last 10 characters.\n",
      "#Now join them to form a new string\n",
      "str = 'Hey how are you doing. We are doing good'\n",
      "print(str[0:10])\n",
      "print(str[len(str)-10:len(str)])\n",
      "#str[-10:]\n",
      "print(str[0:10]+ str[len(str)-10:len(str)])\n",
      "#Let us do some exercises\n",
      "#1\n",
      "#Given below string, get first 10 characters, and last 10 characters.\n",
      "#Now join them to form a new string\n",
      "str = 'Hey how are you doing. We are doing good'\n",
      "print(str[0:10])\n",
      "print(str[len(str)-10:len(str)])\n",
      "#or\n",
      "str[-10:]\n",
      "print(str[0:10]+ str[len(str)-10:len(str)])\n",
      "#Let us do some exercises\n",
      "#1\n",
      "#Given below string, get first 10 characters, and last 10 characters.\n",
      "#Now join them to form a new string\n",
      "str = 'Hey how are you doing. We are doing good'\n",
      "print(str[0:10])\n",
      "print(str[len(str)-10:len(str)])\n",
      "#or\n",
      "print(str[-10:])\n",
      "print(str[0:10]+ str[len(str)-10:len(str)])\n",
      "#Consider two strings x and y\n",
      "x = 'Confusing'\n",
      "y = 'Strings'\n",
      "#Swap first three characters of each string and join them by an _\n",
      "x.replace(x[0:3],y[0:3])\n",
      "x[0:3]+\"_\" +x[3:]\n",
      "y.replace(y[0:3],x[0:3])\n",
      "#Consider two strings x and y\n",
      "x = 'Confusing'\n",
      "y = 'Strings'\n",
      "#Swap first three characters of each string and join them by an _\n",
      "print(x.replace(x[0:3],y[0:3]))\n",
      "print(x[0:3]+\"_\" +x[3:])\n",
      "print(y.replace(y[0:3],x[0:3]))\n",
      "#Consider two strings x and y\n",
      "x = 'Confusing'\n",
      "y = 'Strings'\n",
      "#Swap first three characters of each string and join them by an _\n",
      "print(x.replace(x[0:3],y[0:3]))\n",
      "print(x.replace(x[0:3],y[0:3])+\"_\" +x[3:])\n",
      "print(y.replace(y[0:3],x[0:3]))\n",
      "#Consider two strings x and y\n",
      "x = 'Confusing'\n",
      "y = 'Strings'\n",
      "#Swap first three characters of each string and join them by an _\n",
      "print(x.replace(x[0:3],y[0:3]))\n",
      "print(x.replace(x[0:3],y[0:3][0:3])+\"_\" +x[3:])\n",
      "print(y.replace(y[0:3],x[0:3]))\n",
      "#Consider two strings x and y\n",
      "x = 'Confusing'\n",
      "y = 'Strings'\n",
      "#Swap first three characters of each string and join them by an _\n",
      "print(x.replace(x[0:3],y[0:3]))\n",
      "print(x.replace(x[0:3],y[0:3])[0:3])+\"_\" +x[3:])\n",
      "print(y.replace(y[0:3],x[0:3]))\n",
      "#Consider two strings x and y\n",
      "x = 'Confusing'\n",
      "y = 'Strings'\n",
      "#Swap first three characters of each string and join them by an _\n",
      "print(x.replace(x[0:3],y[0:3]))\n",
      "print(x.replace(x[0:3],y[0:3])[0:3]+\"_\" +x[3:])\n",
      "print(y.replace(y[0:3],x[0:3]))\n",
      "list = [ 'abcd', 786 , 2.23, 'ISB', 70.2 ]\n",
      "tinylist = [123, 'ISB']\n",
      "\n",
      "print (list)          # Prints complete list\n",
      "print (list[0])       # Prints first element of the list\n",
      "print (list[1:3])     # Prints elements starting from 2nd till 3rd \n",
      "print (list[2:])      # Prints elements starting from 3rd element\n",
      "print (tinylist * 2)  # Prints list two times\n",
      "print (list + tinylist) # Prints concatenated lists\n",
      "print (len(list))\n",
      "alist = [ 'abcd', 786 , 2.23, 'ISB', 70.2 ]\n",
      "blist = alist\n",
      "alist = alist*2\n",
      "print (alist)\n",
      "list = ['Ajay', 'Vijay', 'Ramesh']\n",
      "list.append('Sujay')         \n",
      "list.insert(0, 'NewGuy')       \n",
      "list.extend(['Guy1', 'Guy2']) \n",
      "print (list)  \n",
      "print (list.index('Guy1')) \n",
      "list.remove('Guy1')\n",
      "list.pop(1)\n",
      "print (list)\n",
      "#Consider two strings x and y\n",
      "x = 'Confusing'\n",
      "y = 'Strings'\n",
      "#Swap first three characters of each string and join them by an _\n",
      "print(x.replace(x[0:3],y[0:3]))\n",
      "print(x.replace(x[0:3],y[0:3])[0:3]+\"_\" +x[3:])\n",
      "print(x.replace(x[0:3],y[0:3]).insert(4,\"_\")\n",
      "print(y.replace(y[0:3],x[0:3]))\n",
      "#Consider two strings x and y\n",
      "x = 'Confusing'\n",
      "y = 'Strings'\n",
      "#Swap first three characters of each string and join them by an _\n",
      "print(x.replace(x[0:3],y[0:3]))\n",
      "print(x.replace(x[0:3],y[0:3])[0:3]+\"_\" +x[3:])\n",
      "print(x.replace(x[0:3],y[0:3]).insert(4,\"_\"))\n",
      "print(y.replace(y[0:3],x[0:3]))\n",
      "#Sorting\n",
      "numberlist = [1, 5, 23, 1 ,54,2, 54,23, 54,76, 76,34,87]\n",
      "numberlist.sort()\n",
      "print(numberlist)\n",
      "print (len(numberlist))\n",
      "print (max(numberlist))\n",
      "print (min(numberlist))\n",
      "string = ['abcd', 'lmn', 'hijk', 'efg']\n",
      "print (sorted(string, key=len))\n",
      "#You can even pass your own function\n",
      "string = ['abcg', 'eff', 'hijd', 'lmi']\n",
      "\n",
      "def func1(l):\n",
      "    return l[-1]\n",
      "\n",
      "\n",
      "print (sorted(string, key=func1))\n",
      "string = ['abcd', 'lmn', 'hijk', 'efg']\n",
      "print (sorted(string, key=len))\n",
      "print (sorted(string))\n",
      "print(\"An example of code execution in IPython\")\n",
      "25*543\n",
      "print(\"An example of code execution in IPython\")\n",
      " 25*543\n",
      "print(\"An example of code execution in IPython\")\n",
      "25*543\n",
      "print(\"An example of code execution in IPython\")\n",
      "25*543/5\n",
      "print(\"An example of code execution in IPython\")\n",
      "25*543/51\n",
      "print(\"An example of code execution in IPython\")\n",
      "X = 25*543/51\n",
      "round(X,2)\n",
      "print(\"An example of code execution in IPython\")\n",
      "X = 25*543/51\n",
      "round(X,6)\n",
      "import collections\n",
      "collections.namedtuple?\n",
      "collections?\n",
      "collections?\n",
      "mean?\n",
      "collections?\n",
      "sort()\n",
      "collections?\n",
      "sort()?\n",
      "collections?\n",
      "sort?\n",
      "collections?\n",
      "print()\n",
      "collections?\n",
      "print()?\n",
      "collections?\n",
      "print?\n",
      "collections?\n",
      "print?\n",
      "\n",
      "print?\n",
      "collections?\n",
      "print?\n",
      "sorted?\n",
      "numpy.mean?\n",
      "numpy.*mean*?\n",
      "import numpy as np\n",
      "np.*mean*?\n",
      "import numpy\n",
      "numpy.*mean*?\n",
      "np.\n",
      "%history\n"
     ]
    }
   ],
   "source": [
    "%history"
   ]
  },
  {
   "cell_type": "markdown",
   "metadata": {},
   "source": [
    "**Running external code files in IPython**\n",
    "\n",
    "If you want to run external code files in Python, make use of %run command followed by the path of the file. IPython shell will execute the code and will display the results."
   ]
  },
  {
   "cell_type": "code",
   "execution_count": 8,
   "metadata": {},
   "outputs": [
    {
     "name": "stdout",
     "output_type": "stream",
     "text": [
      "hola\n",
      "ccccc\n",
      "****\n",
      "*********\n",
      "*******\n",
      "[598, 635, 862, 731, 812, 638, 319, 704, 60, 154, 589, 121, 365, 548, 923, 909, 352, 494, 951, 685, 132, 466, 717, 108, 752, 891, 782, 81, 697, 662, 766, 582, 231, 878, 245, 660, 984, 102, 902, 551, 546, 250, 368, 286, 523, 380, 594, 253, 64, 197]\n",
      "984\n",
      "984\n",
      "[4, 2, 4, 3]\n",
      "['You', 'said', 'it', 'bro!']\n",
      "dammit, i'm mad\n",
      "15\n",
      "7\n",
      "dammit,\n",
      "dammit,\n",
      "Palidrome\n",
      "its a pangram\n",
      "{'a': 7, 'b': 14, 'c': 3, 'd': 3}\n"
     ]
    }
   ],
   "source": [
    "%run '/Users/vikrantdhawan/Dropbox/My Mac (Vikrant’s MacBook Air)/Downloads/Untitled.py'"
   ]
  },
  {
   "cell_type": "markdown",
   "metadata": {},
   "source": [
    "**Syntax Formalities**\n",
    "\n",
    "+ Python is case sensitive\n",
    "+ Python makes use of whitespace for code structuring and marking logical breaks in the code (In contrast to other programming languages that use braces)\n",
    "+ End of line marks end of a statement, so does not require a semicolon at end of each statement\n",
    "+ Whitespace at the beginning of the line is important. This is called indentation.\n",
    "+ Leading whitespace (spaces and tabs) at the beginning of the logical line is used to determine the indentation level of the logical line.\n",
    "+ Statements which go together must have the same indentation. Each such set of statements is called a block."
   ]
  },
  {
   "cell_type": "code",
   "execution_count": 5,
   "metadata": {},
   "outputs": [
    {
     "name": "stdout",
     "output_type": "stream",
     "text": [
      "text\n",
      "Value is  text\n",
      "I repeat, the value is  text\n"
     ]
    }
   ],
   "source": [
    "i = 5\n",
    "a =7 \n",
    "i ='text'\n",
    "print(i)\n",
    "print ('Value is ', i) # Error! Notice a single space at the start of the line\n",
    "print ('I repeat, the value is ', i)"
   ]
  },
  {
   "cell_type": "code",
   "execution_count": 99,
   "metadata": {},
   "outputs": [
    {
     "name": "stdout",
     "output_type": "stream",
     "text": [
      "text\n",
      "Value is  text\n",
      "I repeat, the value is  text\n"
     ]
    }
   ],
   "source": [
    "i = 5\n",
    "a = 7 \n",
    "i ='text'\n",
    "print(i)\n",
    "print ('Value is ', i) \n",
    "print ('I repeat, the value is ', i)"
   ]
  },
  {
   "cell_type": "markdown",
   "metadata": {},
   "source": [
    "**Comments** \n",
    "\n",
    "One line comments are denoted by (#) at the start of line\n",
    "Multiple line comments start with ''' and end with '''"
   ]
  },
  {
   "cell_type": "code",
   "execution_count": 100,
   "metadata": {},
   "outputs": [
    {
     "name": "stdout",
     "output_type": "stream",
     "text": [
      "We are out of the comment\n"
     ]
    }
   ],
   "source": [
    "# this is a single line comment\n",
    "'''\n",
    "print(\"We are in a comment\")\n",
    "print (\"We are still in a comment\")\n",
    "'''\n",
    "print(\"We are out of the comment\")"
   ]
  },
  {
   "cell_type": "code",
   "execution_count": 10,
   "metadata": {},
   "outputs": [
    {
     "ename": "SyntaxError",
     "evalue": "EOL while scanning string literal (<ipython-input-10-2d4674592857>, line 2)",
     "output_type": "error",
     "traceback": [
      "\u001b[0;36m  File \u001b[0;32m\"<ipython-input-10-2d4674592857>\"\u001b[0;36m, line \u001b[0;32m2\u001b[0m\n\u001b[0;31m    \"''\u001b[0m\n\u001b[0m       ^\u001b[0m\n\u001b[0;31mSyntaxError\u001b[0m\u001b[0;31m:\u001b[0m EOL while scanning string literal\n"
     ]
    }
   ],
   "source": [
    "# this is a single line comment\n",
    "#it is always 3 single quotes\n",
    "\"'\n",
    "print(\"We are in a comment\")\n",
    "print (\"We are still in a comment\")\n",
    "\"'\n",
    "print(\"We are out of the comment\")"
   ]
  },
  {
   "cell_type": "code",
   "execution_count": 5,
   "metadata": {},
   "outputs": [
    {
     "name": "stdout",
     "output_type": "stream",
     "text": [
      "0\n",
      "1\n",
      "2\n",
      "-3\n",
      "-4\n",
      "-5\n"
     ]
    }
   ],
   "source": [
    "#Example of indentation\n",
    "\n",
    "alist= (0,1,2,3,4,5)\n",
    "anumber = 3\n",
    "\n",
    "for x in alist:\n",
    "    if x < anumber:\n",
    "            print(x)\n",
    "    else:\n",
    "        print(-x)\n",
    "        \n",
    "# is similar to\n",
    "\n",
    "# for (x in alist)\n",
    "# {if (x < anumber ) {\n",
    "#         print(x)\n",
    "#     }\n",
    "#     else\n",
    "#     {\n",
    "#         print(-x)\n",
    "#     }\n",
    "# }"
   ]
  },
  {
   "cell_type": "code",
   "execution_count": 104,
   "metadata": {},
   "outputs": [
    {
     "name": "stdout",
     "output_type": "stream",
     "text": [
      "3\n",
      "5\n"
     ]
    }
   ],
   "source": [
    "x = 3\n",
    "if x < 5:\n",
    "    print(x)\n",
    "print(5)"
   ]
  },
  {
   "cell_type": "code",
   "execution_count": 12,
   "metadata": {},
   "outputs": [
    {
     "name": "stdout",
     "output_type": "stream",
     "text": [
      "21\n",
      "25\n"
     ]
    }
   ],
   "source": [
    "x = 21\n",
    "y =25\n",
    "if x<30:\n",
    "    print(x)\n",
    "    print(y)"
   ]
  },
  {
   "cell_type": "code",
   "execution_count": 110,
   "metadata": {},
   "outputs": [
    {
     "name": "stdout",
     "output_type": "stream",
     "text": [
      "25\n"
     ]
    }
   ],
   "source": [
    "x = 21\n",
    "y =25\n",
    "if x<15:\n",
    "    print(x)\n",
    "    print(y)\n",
    "print(y)"
   ]
  },
  {
   "cell_type": "code",
   "execution_count": 13,
   "metadata": {},
   "outputs": [
    {
     "name": "stdout",
     "output_type": "stream",
     "text": [
      "21\n",
      "21\n",
      "25\n"
     ]
    }
   ],
   "source": [
    "x = 21\n",
    "y = 25\n",
    "print(x)\n",
    "if x<100:\n",
    "    print(x)\n",
    "    \n",
    "print (y)"
   ]
  },
  {
   "cell_type": "markdown",
   "metadata": {},
   "source": [
    "**Variables and Data Structures**\n",
    "\n",
    "+ Built-in data types:\n",
    "Integer, Floating point, String, Boolean Values, Date and Time\n",
    "\n",
    "+ Additional data structures:\n",
    "Tuples, Lists, Dictionary\n",
    "\n",
    "+ A variable is a name that refers to a value.\n",
    "+ No need to specify type to a variable; Python automatically assigns.\n"
   ]
  },
  {
   "cell_type": "code",
   "execution_count": 112,
   "metadata": {},
   "outputs": [
    {
     "name": "stdout",
     "output_type": "stream",
     "text": [
      "100\n",
      "1000.0\n",
      "Ajay\n",
      "11114.0\n",
      "02\n"
     ]
    }
   ],
   "source": [
    "counter = 100          # An integer assignment\n",
    "miles   = 1000.0       # A floating point\n",
    "name    = 'Ajay'        # A string\n",
    "\n",
    "print(counter)\n",
    "print(miles)\n",
    "print(name)\n",
    "\n",
    "a = 11112\n",
    "b = 2.0\n",
    "c = \"0\"\n",
    "d = \"2\"\n",
    "print(b + a)\n",
    "print(c + d) #concatenates"
   ]
  },
  {
   "cell_type": "markdown",
   "metadata": {},
   "source": [
    "**Strings**\n",
    "\n",
    "+ Built-in string class named \"str\" with many handy features\n",
    "+ In addition to numerical data processing, Python has very strong string processing capabilities. \n",
    "+ Subsets of strings can be taken using the slice operator ( [ ] and [ : ] ) with indexes starting at 0 in the beginning of the string and working their way from -1 at the end.\n",
    "+ The plus ( + ) sign is the string concatenation operator and the asterisk ( * ) is the repetition operator.\n",
    "+ **Strings in Python are immutable. Unlike other datasets such as lists, you cannot manipulate individual string values. In order to do so, you have to take subsets of strings and form a new string.**\n",
    "+ A string can be converted to a numerical type and vice versa (wherever applicable). Many a times, raw data, although numeric, is coded in string format. This feature provides a clean way to make sure all of the data is in numeric form.\n",
    "+ Strings are sequence of characters and can be tokenized.\n",
    "+ Strings and numbers can also be formatted.\n",
    "\n"
   ]
  },
  {
   "cell_type": "code",
   "execution_count": 14,
   "metadata": {},
   "outputs": [
    {
     "name": "stdout",
     "output_type": "stream",
     "text": [
      "Hello World\n",
      "H\n",
      "llo W\n",
      "llo Wo\n",
      "llo World\n",
      "Hello WorldHello World\n",
      "Hello World Hello World\n",
      "Hello WorldTEST\n"
     ]
    }
   ],
   "source": [
    "str = 'Hello World' \n",
    "print (str)    # prints complete string\n",
    "print (str[0]) # prints first character of string\n",
    "print (str[2:7])   #prints characters starting from 3rd to 5th \n",
    "print (str[2:8]) \n",
    "print (str[2:])    #prints string starting from 3rd character\n",
    "print (str*2)    #prints string two times\n",
    "print (str + \" \" + str)\n",
    "print (str + \"TEST\")   # prints concatenated string"
   ]
  },
  {
   "cell_type": "code",
   "execution_count": 10,
   "metadata": {},
   "outputs": [
    {
     "name": "stdout",
     "output_type": "stream",
     "text": [
      "o\n",
      "llo\n",
      "heooo\n",
      "this is a string\n",
      "this is longer string\n",
      "this is a string\n",
      "[' ', ' ', ' ', 'a', 'g', 'h', 'i', 'i', 'i', 'n', 'r', 's', 's', 's', 't', 't']\n",
      "['e', 'h', 'l', 'l', 'o']\n",
      "40.6\n",
      "20.320.3\n",
      "40\n",
      "2020\n",
      "40\n",
      "2020\n"
     ]
    }
   ],
   "source": [
    "str =\"hello\"\n",
    "print(str[-1])\n",
    "print(str[-3:])\n",
    "print(str.replace('l','o'))\n",
    "\n",
    "a = 'this is a string'\n",
    "b = a.replace('a string','longer string')\n",
    "print (a) \n",
    "print (b)\n",
    "\n",
    "a = 'this is a string'\n",
    "b = sorted(a)\n",
    "print (a) \n",
    "print (b)\n",
    "print(sorted(str))\n",
    "\n",
    "a = '20.3'\n",
    "anum = float(a)\n",
    "print (anum + anum)\n",
    "print (a + a)\n",
    "\n",
    "a = '20'\n",
    "anum = int(a)\n",
    "print (anum + anum)\n",
    "print (a + a)\n",
    "\n",
    "\n",
    "# a = \"hi\"\n",
    "# anum = int(a)\n",
    "# print (anum)\n",
    "# # invalid literal for int() with base 10: 'hi\n",
    "\n"
   ]
  },
  {
   "cell_type": "code",
   "execution_count": 20,
   "metadata": {},
   "outputs": [
    {
     "name": "stdout",
     "output_type": "stream",
     "text": [
      "hi nkb. jj\n",
      "10\n"
     ]
    }
   ],
   "source": [
    "a = \"hi nkb. jj\"\n",
    "print (a)\n",
    "print (len(a))\n"
   ]
  },
  {
   "cell_type": "code",
   "execution_count": 14,
   "metadata": {},
   "outputs": [
    {
     "name": "stdout",
     "output_type": "stream",
     "text": [
      "['This', 'is', 'python']\n",
      "['T', 'h', 'i', 's', ',', 'i', 's', ',', 'p', 'y', 't', 'h', 'o', 'n']\n"
     ]
    },
    {
     "data": {
      "text/plain": [
       "'4.56 Argentine Pesos is $1'"
      ]
     },
     "execution_count": 14,
     "metadata": {},
     "output_type": "execute_result"
    }
   ],
   "source": [
    "string = \"This,is,python\"\n",
    "strlist = list(string)\n",
    "x = string.split(\",\")\n",
    "\n",
    "print(x)\n",
    "print(strlist)\n",
    "\n",
    "format = '%.2f %s is $%i'\n",
    "format %(4.5560,'Argentine Pesos',1)\n",
    "\n",
    "\n"
   ]
  },
  {
   "cell_type": "code",
   "execution_count": 15,
   "metadata": {},
   "outputs": [
    {
     "name": "stdout",
     "output_type": "stream",
     "text": [
      "4.56$ 4.556 is $4\n"
     ]
    },
    {
     "data": {
      "text/plain": [
       "['4',\n",
       " '.',\n",
       " '5',\n",
       " '6',\n",
       " '$',\n",
       " ' ',\n",
       " '4',\n",
       " '.',\n",
       " '5',\n",
       " '5',\n",
       " '6',\n",
       " ' ',\n",
       " 'i',\n",
       " 's',\n",
       " ' ',\n",
       " '$',\n",
       " '4']"
      ]
     },
     "execution_count": 15,
     "metadata": {},
     "output_type": "execute_result"
    }
   ],
   "source": [
    "\n",
    "format = '%.2f$ %s is $%d'\n",
    "x =format %(4.5560,4.5560,4.5560)\n",
    "print(x)\n",
    "list(x)"
   ]
  },
  {
   "cell_type": "code",
   "execution_count": 17,
   "metadata": {},
   "outputs": [
    {
     "name": "stdout",
     "output_type": "stream",
     "text": [
      "This is  python\n",
      "2\n",
      "['This', 'is', '', 'python']\n",
      "THIS IS  PYTHON\n",
      "this is  python\n",
      "tHIS IS  PYTHON\n"
     ]
    }
   ],
   "source": [
    "string = \"This is  python\"\n",
    "print(string)\n",
    "print (string.count('s'))\n",
    "print (string.split(' '))\n",
    "print (string.upper())\n",
    "print (string.lower())\n",
    "print (string.swapcase())"
   ]
  },
  {
   "cell_type": "code",
   "execution_count": 18,
   "metadata": {},
   "outputs": [
    {
     "name": "stdout",
     "output_type": "stream",
     "text": [
      "This is a bright, sunny day\n",
      "This is a bright, sunny day      \n",
      "    This is a bright, sunny day\n",
      "T:h:i:s: :i:s: :a: :b:r:i:g:h:t:,: :s:u:n:n:y: :d:a:y\n",
      "37\n",
      "53\n"
     ]
    }
   ],
   "source": [
    "str1 = \"    This is a bright, sunny day      \"\n",
    "print (str1.strip())\n",
    "print (str1.lstrip())\n",
    "print (str1.rstrip())\n",
    "print (\":\".join(str1.strip()))\n",
    "print (len(str1))\n",
    "print (len(\":\".join(str1.strip())))"
   ]
  },
  {
   "cell_type": "code",
   "execution_count": 140,
   "metadata": {},
   "outputs": [
    {
     "name": "stdout",
     "output_type": "stream",
     "text": [
      "True True\n",
      "False\n"
     ]
    }
   ],
   "source": [
    "school = 'ISB'\n",
    "print('S'in school,'I' in school)\n",
    "print('L' in school)"
   ]
  },
  {
   "cell_type": "code",
   "execution_count": 19,
   "metadata": {},
   "outputs": [
    {
     "name": "stdout",
     "output_type": "stream",
     "text": [
      "False\n"
     ]
    }
   ],
   "source": [
    "school = 'ISSB'\n",
    "print ('S' in school)"
   ]
  },
  {
   "cell_type": "code",
   "execution_count": 22,
   "metadata": {},
   "outputs": [
    {
     "name": "stdout",
     "output_type": "stream",
     "text": [
      "18\n",
      "29\n",
      "1.90323453434\n",
      "   1.90323453434\n",
      "1.90323453434 <class 'float'>\n",
      "1.9 <class 'float'>\n"
     ]
    }
   ],
   "source": [
    "x='X-DSPAM-Confidence:   1.90323453434'\n",
    "pos = x.find(':')\n",
    "pos1 = x.find('4')\n",
    "print(pos)\n",
    "print(pos1)\n",
    "num=float(x[pos+1:])\n",
    "print(num)\n",
    "print(x[pos+1:])\n",
    "num2=round(float(x[pos+1:]),1)\n",
    "print (num, type(num))\n",
    "print (num2, type(num2))"
   ]
  },
  {
   "cell_type": "code",
   "execution_count": 23,
   "metadata": {},
   "outputs": [
    {
     "name": "stdout",
     "output_type": "stream",
     "text": [
      "Hey how ar\n",
      "doing good\n",
      "doing good\n",
      "Hey how ardoing good\n"
     ]
    }
   ],
   "source": [
    "#Let us do some exercises\n",
    "#1\n",
    "#Given below string, get first 10 characters, and last 10 characters.\n",
    "#Now join them to form a new string\n",
    "str = 'Hey how are you doing. We are doing good'\n",
    "print(str[0:10])\n",
    "print(str[len(str)-10:len(str)])\n",
    "#or\n",
    "print(str[-10:])\n",
    "\n",
    "print(str[0:10]+ str[-10:])"
   ]
  },
  {
   "cell_type": "code",
   "execution_count": 24,
   "metadata": {},
   "outputs": [
    {
     "name": "stdout",
     "output_type": "stream",
     "text": [
      "Str_fusing\n",
      "Str_fusing\n",
      "Str_fusing\n",
      "Strings\n"
     ]
    }
   ],
   "source": [
    "#Consider two strings x and y\n",
    "x = 'Confusing'\n",
    "y = 'Strings'\n",
    "#Swap first three characters of each string and join them by an _\n",
    "\n",
    "x.replace(x[0:3],y[0:3])\n",
    "z = y[0:3] +\"_\"+ x[3:]\n",
    "print(z)\n",
    "\n",
    "x = y[0:3] + \"_\" + x[3:]\n",
    "print(x)\n",
    "\n",
    "print(y[0:3]+ \"\" +x[3:])\n",
    "print(y.replace(y[0:3],x[0:3]))"
   ]
  },
  {
   "cell_type": "markdown",
   "metadata": {},
   "source": [
    "**Lists**\n",
    "\n",
    "+ Lists, along with dictionary, are perhaps most important data types.\n",
    "+ A list contains items separated by commas and enclosed within square brackets ([]).\n",
    "+ All the items belonging to a list can be of different data type.\n",
    "+ Lists are similar to arrays in C language.\n",
    "+ The plus ( + ) sign is the list concatenation operator, and the asterisk ( * ) is the repetition operator.\n"
   ]
  },
  {
   "cell_type": "code",
   "execution_count": 144,
   "metadata": {},
   "outputs": [
    {
     "name": "stdout",
     "output_type": "stream",
     "text": [
      "['abcd', 786, 2.23, 'ISB', 70.2]\n",
      "abcd\n",
      "[786, 2.23]\n",
      "[2.23, 'ISB', 70.2]\n",
      "[123, 'ISB', 123, 'ISB']\n",
      "['abcd', 786, 2.23, 'ISB', 70.2, 123, 'ISB']\n",
      "5\n"
     ]
    }
   ],
   "source": [
    "list1 = [ 'abcd', 786 , 2.23, 'ISB', 70.2 ]\n",
    "tinylist = [123, 'ISB']\n",
    "\n",
    "print (list1)          # Prints complete list\n",
    "print (list1[0])       # Prints first element of the list  # it will be a character/string\n",
    "print (list1[1:3])     # Prints elements starting from 2nd till 3rd \n",
    "print (list1[2:])      # Prints elements starting from 3rd element\n",
    "print (tinylist * 2)  # Prints list two times\n",
    "print (list1 + tinylist) # Prints concatenated lists\n",
    "print (len(list1))"
   ]
  },
  {
   "cell_type": "code",
   "execution_count": 25,
   "metadata": {},
   "outputs": [
    {
     "name": "stdout",
     "output_type": "stream",
     "text": [
      "True\n"
     ]
    }
   ],
   "source": [
    "\n",
    "list1 = [ 'abcd', 786 , 2.23, 'ISB', 70.2 ]\n",
    "tinylist = [123, 'ISB']\n",
    "\n",
    "# pos = list1.find(2.23)\n",
    "# print(pos)\n",
    "#attribute error\n",
    "\n",
    "print( 'ISB' in list1)\n",
    "\n",
    "#print(list1.replace(\"ISB\",\"isb\"))\n",
    "#attribute error"
   ]
  },
  {
   "cell_type": "code",
   "execution_count": 57,
   "metadata": {},
   "outputs": [
    {
     "name": "stdout",
     "output_type": "stream",
     "text": [
      "['abcd', 786, 2.23, 'ISB', 70.2, 'abcd', 786, 2.23, 'ISB', 70.2]\n"
     ]
    }
   ],
   "source": [
    "alist = [ 'abcd', 786 , 2.23, 'ISB', 70.2 ]\n",
    "blist = alist\n",
    "alist = alist*2\n",
    "print (alist)"
   ]
  },
  {
   "cell_type": "code",
   "execution_count": 26,
   "metadata": {},
   "outputs": [
    {
     "name": "stdout",
     "output_type": "stream",
     "text": [
      "['abcd', 786, 2.23, 'ISB', 70.2, 'abcd', 786, 2.23, 'ISB', 70.2]\n"
     ]
    }
   ],
   "source": [
    "alist = [ 'abcd', 786 , 2.23, 'ISB', 70.2 ]\n",
    "alist = alist*2\n",
    "print (alist)"
   ]
  },
  {
   "cell_type": "code",
   "execution_count": 58,
   "metadata": {},
   "outputs": [
    {
     "name": "stdout",
     "output_type": "stream",
     "text": [
      "['NewGuy', 'Ajay', 'Vijay', 'Ramesh', 'Sujay', 'Guy1', 'Guy2']\n",
      "5\n",
      "Ajay\n",
      "['NewGuy', 'Vijay', 'Ramesh', 'Sujay', 'Guy2']\n"
     ]
    }
   ],
   "source": [
    "list = ['Ajay', 'Vijay', 'Ramesh']\n",
    "list.append('Sujay')         \n",
    "list.insert(0, 'NewGuy')       \n",
    "list.extend(['Guy1', 'Guy2']) \n",
    "print (list)  \n",
    "print (list.index('Guy1')) \n",
    "list.remove('Guy1')\n",
    "print(list.pop(1))\n",
    "print (list)\n",
    "#try replacing a name\n",
    "#list.replace('Ajay', 'Aju')"
   ]
  },
  {
   "cell_type": "code",
   "execution_count": 27,
   "metadata": {},
   "outputs": [
    {
     "data": {
      "text/plain": [
       "['NewGuy', 'Pappu', 'Ramesh', 'Sujay', 'Guy2']"
      ]
     },
     "execution_count": 27,
     "metadata": {},
     "output_type": "execute_result"
    }
   ],
   "source": [
    "#replace\n",
    "list1 = ['NewGuy', 'Vijay', 'Ramesh', 'Sujay', 'Guy2']\n",
    "list1.pop(1)\n",
    "list1.insert(1,\"Pappu\")\n",
    "list1\n"
   ]
  },
  {
   "cell_type": "code",
   "execution_count": 95,
   "metadata": {},
   "outputs": [
    {
     "name": "stdout",
     "output_type": "stream",
     "text": [
      "[1, 1, 2, 5, 23, 23, 34, 54, 54, 54, 76, 76, 87]\n",
      "13\n",
      "1\n"
     ]
    }
   ],
   "source": [
    "#Sorting\n",
    "numberlist = [1, 5, 23, 1 ,54,2, 54,23, 54,76, 76,34,87]\n",
    "numberlist.sort()\n",
    "print(numberlist)\n",
    "print (len(numberlist))\n",
    "print (min(numberlist))\n",
    "#print (max(numberlist))\n"
   ]
  },
  {
   "cell_type": "code",
   "execution_count": 97,
   "metadata": {},
   "outputs": [
    {
     "name": "stdout",
     "output_type": "stream",
     "text": [
      "['lmn', 'efg', 'abcd', 'hijk']\n",
      "['abcd', 'efg', 'hijk', 'lmn']\n"
     ]
    }
   ],
   "source": [
    "string = ['abcd', 'lmn', 'hijk', 'efg']\n",
    "print (sorted(string, key=len))\n",
    "print (sorted(string))"
   ]
  },
  {
   "cell_type": "code",
   "execution_count": 98,
   "metadata": {},
   "outputs": [
    {
     "name": "stdout",
     "output_type": "stream",
     "text": [
      "['abcg', 'eff', 'hijd', 'lmi']\n"
     ]
    }
   ],
   "source": [
    "#You can even pass your own function\n",
    "string = ['abcg', 'eff', 'hijd', 'lmi']\n",
    "\n",
    "def func1(l):\n",
    "    return l[-2]\n",
    "\n",
    "\n",
    "print (sorted(string, key=func1))"
   ]
  },
  {
   "cell_type": "code",
   "execution_count": 32,
   "metadata": {},
   "outputs": [
    {
     "name": "stdout",
     "output_type": "stream",
     "text": [
      "This is one\n",
      "This is two\n",
      "{'one': 'This is one', 1: 'This is two'}\n",
      "{'name': 'isb', 'code': 6734, 'dept': 'sales'}\n",
      "['name', 'code', 'dept']\n",
      "dict_values(['isb', 6734, 'sales'])\n"
     ]
    }
   ],
   "source": [
    "dict = {}\n",
    "dict['one'] = \"This is one\"\n",
    "dict[1]     = \"This is two\"\n",
    "tinydict = {'name': 'isb','code':6734, 'dept': 'sales'}\n",
    "\n",
    "print (dict['one'])       # Prints value for 'one' key\n",
    "print (dict[1])           # Prints value for 2 key\n",
    "print (dict)  \n",
    "print (tinydict)          # Prints complete dictionary\n",
    "print (list(tinydict.keys()))   # Prints all the keys\n",
    "print (tinydict.values()) # Prints all the values\n"
   ]
  },
  {
   "cell_type": "markdown",
   "metadata": {},
   "source": [
    "Sets\n",
    "\n",
    "A set is an unordered collection of distinct elements"
   ]
  },
  {
   "cell_type": "code",
   "execution_count": 37,
   "metadata": {},
   "outputs": [
    {
     "name": "stdout",
     "output_type": "stream",
     "text": [
      "True\n",
      "False\n"
     ]
    }
   ],
   "source": [
    "animals = {'cat', 'dog'}\n",
    "print ('cat' in animals)   # Check if an element is in a set; prints \"True\"\n",
    "print ('fish' in animals)  # prints \"False\""
   ]
  },
  {
   "cell_type": "code",
   "execution_count": 38,
   "metadata": {},
   "outputs": [
    {
     "name": "stdout",
     "output_type": "stream",
     "text": [
      "True\n",
      "3\n"
     ]
    }
   ],
   "source": [
    "animals.add('fish')      # Add an element to a set\n",
    "print('fish' in animals)\n",
    "print(len(animals) )      # Number of elements in a set;"
   ]
  },
  {
   "cell_type": "code",
   "execution_count": 45,
   "metadata": {},
   "outputs": [
    {
     "name": "stdout",
     "output_type": "stream",
     "text": [
      "{'fish', 'dog', 'cat'}\n",
      "2\n"
     ]
    }
   ],
   "source": [
    "animals.add('cat')  # Adding an element that is already in the set does nothing\n",
    "#animals.insert('cat') # 'set' object has no attribute 'insert'\n",
    "print (animals)       \n",
    "animals.remove('cat')    # Remove an element from a set\n",
    "print (len(animals))"
   ]
  },
  {
   "cell_type": "markdown",
   "metadata": {},
   "source": [
    "**Data type conversion**\n",
    "\n",
    "+ Data from one type can be converted into another type using conversion operators.\n",
    "+ Comes in handy when data is not coded in proper format (number coded as string, date coded as string)\n",
    "+ int(variable) - converts variable to integer \n",
    "+ str(variable) - converts variable to string \n",
    "+ float(variable) - converts variable to float (number with decimal) \n"
   ]
  },
  {
   "cell_type": "markdown",
   "metadata": {},
   "source": [
    "**Operators**\n",
    "\n",
    "+ + (plus) : Adds two objects \n",
    "+ - (minus) Gives the subtraction of one number from the other; if the first operand is absent it is assumed to be zero.\n",
    "+ * (multiply) Gives the multiplication of the two numbers or returns the string repeated that many times.\n",
    "+ ** (power) Returns x to the power of y\n",
    "+ / (divide) Divide x by y\n",
    "+ // (floor division) Returns the floor of the quotient\n",
    "+ % (modulo) Returns the remainder of the division\n",
    "+ < (less than) Returns whether x is less than y. All comparison operators return True or False. Note the capitalization of these names.\n",
    "+ > (greater than) Returns whether x is greater than y\n",
    "+ <= (less than or equal to) Returns whether x is less than or equal to y\n",
    "+ >= (greater than or equal to) Returns whether x is greater than or equal to y\n",
    "+ == (equal to) Compares if the objects are equal\n",
    "+ != (not equal to) Compares if the objects are not equal\n",
    "+ not (boolean NOT) If x is True, it returns False. If x is False, it returns True.\n",
    "+ and (boolean AND) x and y returns False if x is False, else it returns evaluation of y\n",
    "+ or (boolean OR) If x is True, it returns True, else it returns evaluation of y"
   ]
  },
  {
   "cell_type": "code",
   "execution_count": null,
   "metadata": {},
   "outputs": [],
   "source": [
    "a = 6\n",
    "b = 7\n",
    "c = 42\n",
    "print (1, a == 6)\n",
    "print (2, a == 7)\n",
    "print (3, a == 6 and b == 7)\n",
    "print (4, a == 7 and b == 7)\n",
    "print (5, not a == 7 and b == 7)\n",
    "print (6, a == 7 or b == 7)\n",
    "print (7, a == 7 or b == 6)\n",
    "print (8, not (a == 7 and b == 6))\n",
    "print (9, not a == 7 and b == 6)\n"
   ]
  },
  {
   "cell_type": "markdown",
   "metadata": {},
   "source": [
    "**Conditional Statements**\n",
    "\n",
    "**If-statement**\n",
    "\n",
    "The if statement is used to check a condition: if the condition is true, we run a block of statements (called the if-block), else we process another block of statements (called the else-block). The else clause is optional."
   ]
  },
  {
   "cell_type": "code",
   "execution_count": null,
   "metadata": {},
   "outputs": [],
   "source": [
    "a = 23\n",
    "if a >= 22:\n",
    "\n",
    "   print(\"if\")"
   ]
  },
  {
   "cell_type": "code",
   "execution_count": null,
   "metadata": {},
   "outputs": [],
   "source": [
    "a = 20\n",
    "if a >= 22:\n",
    "\n",
    "   print(\"if\")\n",
    "   print(\"one more statement\")\n",
    "elif a >= 21:\n",
    "   print(\"elif\")\n",
    "else:\n",
    "   print(\"else\")\n"
   ]
  },
  {
   "cell_type": "code",
   "execution_count": null,
   "metadata": {},
   "outputs": [],
   "source": [
    "#Testing for an element in list\n",
    "list = ['Ajay', 'Vijay', 'Ramesh']\n",
    "if 'Vijay' in list:\n",
    "    print ('Found Vijay')"
   ]
  },
  {
   "cell_type": "markdown",
   "metadata": {},
   "source": [
    "**While-statement**\n",
    "\n",
    "The while statement allows you to repeatedly execute a block of statements as long as a condition is true. A while statement is an example of what is called a looping statement. A while statement can have an optional else clause."
   ]
  },
  {
   "cell_type": "code",
   "execution_count": null,
   "metadata": {},
   "outputs": [],
   "source": [
    "count = 0\n",
    "while (count < 9):\n",
    "   print ('The count is:', count)\n",
    "   count = count + 1\n",
    "\n",
    "print (\"End of while loop!\")\n"
   ]
  },
  {
   "cell_type": "markdown",
   "metadata": {},
   "source": [
    "**For-statement**\n",
    "\n",
    "The for..in statement is another looping statement which iterates over a sequence of objects i.e. go through each item in a sequence. A sequence is just an ordered collection of items."
   ]
  },
  {
   "cell_type": "code",
   "execution_count": 51,
   "metadata": {},
   "outputs": [
    {
     "name": "stdout",
     "output_type": "stream",
     "text": [
      "[1, 2, 3, 4]\n"
     ]
    }
   ],
   "source": [
    "range(1,5,1)\n",
    "x = list(range(1,5,1))\n",
    "print([i for i in x])"
   ]
  },
  {
   "cell_type": "code",
   "execution_count": 52,
   "metadata": {},
   "outputs": [
    {
     "name": "stdout",
     "output_type": "stream",
     "text": [
      "1\n",
      "3\n",
      "5\n"
     ]
    }
   ],
   "source": [
    "for i in range(1,6,2):\n",
    "    print (i)\n",
    "#else:\n",
    "#   print \"The for loop is over\""
   ]
  },
  {
   "cell_type": "code",
   "execution_count": 6,
   "metadata": {},
   "outputs": [
    {
     "name": "stdout",
     "output_type": "stream",
     "text": [
      "10\n"
     ]
    }
   ],
   "source": [
    "#Traversing a list\n",
    "#What is the output\n",
    "numbers = [2, 3, 5]\n",
    "sum = 0\n",
    "for num in numbers:\n",
    "    sum += num  #sum = sum+num\n",
    "print (sum)"
   ]
  },
  {
   "cell_type": "code",
   "execution_count": null,
   "metadata": {},
   "outputs": [],
   "source": [
    "numbers = [2, 3, 5]\n",
    "getsum = [ i+2 for i in numbers ]\n",
    "print (getsum)"
   ]
  },
  {
   "cell_type": "code",
   "execution_count": null,
   "metadata": {},
   "outputs": [],
   "source": [
    "numbers = [2, 3, 5]\n",
    "getnum = [ i+2 for i in numbers if i<5]\n",
    "print (getnum)"
   ]
  },
  {
   "cell_type": "markdown",
   "metadata": {},
   "source": [
    "**Break statement**\n",
    "\n",
    "The break statement is used to break out of a loop statement i.e. stop the execution of a looping statement, even if the loop condition has not become False or the sequence of items has not been completely iterated over.\n",
    "\n",
    "An important note is that if you break out of a for or while loop, any corresponding loop else block is not executed."
   ]
  },
  {
   "cell_type": "code",
   "execution_count": 53,
   "metadata": {},
   "outputs": [
    {
     "name": "stdout",
     "output_type": "stream",
     "text": [
      "1\n",
      "2\n",
      "3\n",
      "4\n",
      "Done\n"
     ]
    }
   ],
   "source": [
    "for i in range(1,10):\n",
    "       if i == 5:\n",
    "           break\n",
    "       print (i)\n",
    "print('Done')"
   ]
  },
  {
   "cell_type": "code",
   "execution_count": null,
   "metadata": {},
   "outputs": [],
   "source": [
    "#Exercise time\n"
   ]
  },
  {
   "cell_type": "markdown",
   "metadata": {},
   "source": [
    "**Exercise**\n"
   ]
  },
  {
   "cell_type": "markdown",
   "metadata": {},
   "source": [
    "**Exercise**\n",
    "\n",
    "In cryptography, a Caesar cipher is a very simple encryption techniques in which each letter in the plain text is replaced by a letter some fixed number of positions down the alphabet. For example, with a shift of 3, A would be replaced by D, B would become E, and so on. The method is named after Julius Caesar, who used it to communicate with his generals. ROT-13 (\"rotate by 13 places\") is a widely used example of a Caesar cipher where the shift is 13. In Python, the key for ROT-13 may be represented by means of the following dictionary:\n",
    "\n",
    "key = {'a':'n', 'b':'o', 'c':'p', 'd':'q', 'e':'r', 'f':'s', 'g':'t', 'h':'u', \n",
    "       'i':'v', 'j':'w', 'k':'x', 'l':'y', 'm':'z', 'n':'a', 'o':'b', 'p':'c', \n",
    "       'q':'d', 'r':'e', 's':'f', 't':'g', 'u':'h', 'v':'i', 'w':'j', 'x':'k',\n",
    "       'y':'l', 'z':'m', 'A':'N', 'B':'O', 'C':'P', 'D':'Q', 'E':'R', 'F':'S', \n",
    "       'G':'T', 'H':'U', 'I':'V', 'J':'W', 'K':'X', 'L':'Y', 'M':'Z', 'N':'A', \n",
    "       'O':'B', 'P':'C', 'Q':'D', 'R':'E', 'S':'F', 'T':'G', 'U':'H', 'V':'I', \n",
    "       'W':'J', 'X':'K', 'Y':'L', 'Z':'M'}\n",
    "\n",
    "Your task in this exercise is to implement an encoder/decoder of ROT-13. Once you're done, you will be able to read the following secret message:\n",
    "\n",
    "   Pnrfne pvcure zrgubq vf anzrq nsgre Whyvhf Pnrfne!\n",
    "\n",
    "Note that since English has 26 characters, your ROT-13 program will be able to both encode and decode texts written in English.\n"
   ]
  },
  {
   "cell_type": "markdown",
   "metadata": {},
   "source": [
    "**Closing and Opening Files**\n",
    "\n",
    "+ Python, along with associated packages, supports a number of formats for file reading and writing. \n",
    "+ The file types supported are txt, csv, xls, xlsx, doc, docx, dat, output, sql (and some specialized formats such as R, .dta, sas7bdat)\n",
    "+ Here, we will cover some of the options and will look at the rest in session on pandas.\n",
    "+ In order to open a file, use open() method specifying file name and mode of opening (read, write, append, etc)\n",
    "+ Open returns a file handle \n",
    "+ handle = open(filename, mode)\n",
    "+ Once work is done, it is always better to close the file otherwise other programs might not be able to access the file.\n",
    "+ File closing is done using close() method\n"
   ]
  },
  {
   "cell_type": "code",
   "execution_count": 54,
   "metadata": {},
   "outputs": [
    {
     "ename": "FileNotFoundError",
     "evalue": "[Errno 2] No such file or directory: '/Users/suppi/Documents/ISB/AMPBA/B16/IPD/file1.txt'",
     "output_type": "error",
     "traceback": [
      "\u001b[0;31m---------------------------------------------------------------------------\u001b[0m",
      "\u001b[0;31mFileNotFoundError\u001b[0m                         Traceback (most recent call last)",
      "\u001b[0;32m<ipython-input-54-26fbe5774adb>\u001b[0m in \u001b[0;36m<module>\u001b[0;34m\u001b[0m\n\u001b[0;32m----> 1\u001b[0;31m \u001b[0mf\u001b[0m \u001b[0;34m=\u001b[0m \u001b[0mopen\u001b[0m\u001b[0;34m(\u001b[0m\u001b[0;34m'/Users/suppi/Documents/ISB/AMPBA/B16/IPD/file1.txt'\u001b[0m\u001b[0;34m,\u001b[0m \u001b[0;34m'r'\u001b[0m\u001b[0;34m)\u001b[0m\u001b[0;34m\u001b[0m\u001b[0;34m\u001b[0m\u001b[0m\n\u001b[0m\u001b[1;32m      2\u001b[0m \u001b[0;32mfor\u001b[0m \u001b[0mline\u001b[0m \u001b[0;32min\u001b[0m \u001b[0mf\u001b[0m\u001b[0;34m:\u001b[0m\u001b[0;34m\u001b[0m\u001b[0;34m\u001b[0m\u001b[0m\n\u001b[1;32m      3\u001b[0m     \u001b[0mprint\u001b[0m \u001b[0;34m(\u001b[0m\u001b[0mline\u001b[0m\u001b[0;34m)\u001b[0m\u001b[0;34m\u001b[0m\u001b[0;34m\u001b[0m\u001b[0m\n\u001b[1;32m      4\u001b[0m \u001b[0mf\u001b[0m\u001b[0;34m.\u001b[0m\u001b[0mclose\u001b[0m\u001b[0;34m(\u001b[0m\u001b[0;34m)\u001b[0m\u001b[0;34m\u001b[0m\u001b[0;34m\u001b[0m\u001b[0m\n",
      "\u001b[0;31mFileNotFoundError\u001b[0m: [Errno 2] No such file or directory: '/Users/suppi/Documents/ISB/AMPBA/B16/IPD/file1.txt'"
     ]
    }
   ],
   "source": [
    "f = open('/Users/suppi/Documents/ISB/AMPBA/B16/IPD/file1.txt', 'r')\n",
    "for line in f:   \n",
    "    print (line)                       \n",
    "f.close()"
   ]
  },
  {
   "cell_type": "code",
   "execution_count": null,
   "metadata": {},
   "outputs": [],
   "source": [
    "capmdata = open('/Users/suppi/Documents/ISB/AMPBA/B16/IPD/capm_dem.dat','r')\n",
    "crspdata = open('/Users/suppi/Documents/ISB/AMPBA/B16/IPD/crsp.output','r')\n",
    "print (\"File Name is \", crspdata.name)\n",
    "print (\"Content is \", capmdata.read())\n",
    "copycapmdata = open('/Users/suppi/Documents/ISB/AMPBA/B16/IPD/capm_dem_copy.txt',\"w\")\n",
    "capmdata.seek(5,0)\n",
    "copycapmdata.write(capmdata.read())\n",
    "crspdata.close()\n",
    "copycapmdata.close()\n",
    "capmdata.close()"
   ]
  },
  {
   "cell_type": "markdown",
   "metadata": {},
   "source": [
    "**Functions**\n",
    "\n",
    "+ Functions are reusable piece of software.\n",
    "+ Block of statements that accepts some arguments, perform some functionality, and provide the output.\n",
    "+ Defined using def keyword\n",
    "+ Similar to functions in R.\n",
    "+ For example, implement code to perform two way clustering once and can be used again in the same program. \n",
    "+ We will look at functions for a number of features (Fama Mac Beth regression, two way clustering, industry code classification) in subsequent sessions. \n",
    "+ A function can take arguments.\n",
    "+ Arguments are specified within parentheses in function definition separated by commas.\n",
    "+ It is also possible to assign default values to parameters in order to make the program flexible and not behave in an unexpected manner.\n",
    "+ One of the most powerful feature of functions is that it allows you to pass any number of arguments and you do not have to worry about specifying the number when writing the function. This feature becomes extremely important when dealing with lists or input data where you do not know number of data observations before hand.\n",
    "+ Scope of variables defined inside a function is local i.e. they cannot be used outside of a function.\n"
   ]
  },
  {
   "cell_type": "code",
   "execution_count": null,
   "metadata": {},
   "outputs": [],
   "source": [
    "def sayHello():\n",
    "    print('Hello World!') # block belonging to the function\n",
    "# End of function #\n",
    "\n",
    "sayHello()"
   ]
  },
  {
   "cell_type": "code",
   "execution_count": null,
   "metadata": {},
   "outputs": [],
   "source": [
    "def printMax(a, b):\n",
    "   if a > b:\n",
    "       print(a, 'is maximum')\n",
    "   elif a == b:\n",
    "       print(a, 'is equal to', b)\n",
    "   else:\n",
    "       print(b, 'is maximum')\n",
    "\n",
    "printMax(3, 4) "
   ]
  },
  {
   "cell_type": "code",
   "execution_count": null,
   "metadata": {},
   "outputs": [],
   "source": [
    "def say(message, times = 1):\n",
    "   print(message * times)\n",
    "\n",
    "say('Hello')\n",
    "say('World', 5)"
   ]
  },
  {
   "cell_type": "code",
   "execution_count": null,
   "metadata": {},
   "outputs": [],
   "source": [
    "def func(a, b=5, c=10):\n",
    "   print('a is', a, 'and b is', b, 'and c is', c)\n",
    "func(3, 7)\n",
    "func(25, c=24)\n",
    "func(c=50, a=100)"
   ]
  },
  {
   "cell_type": "code",
   "execution_count": null,
   "metadata": {},
   "outputs": [],
   "source": [
    "x = 50\n",
    "def func(x):\n",
    "   print('x is', x)\n",
    "   x = 2\n",
    "   print('Changed local x to', x)\n",
    "func(x)\n",
    "print('x is still', x)"
   ]
  },
  {
   "cell_type": "code",
   "execution_count": null,
   "metadata": {},
   "outputs": [],
   "source": [
    "def total(initial=5, *numbers, **keywords):\n",
    "   count = initial\n",
    "   for number in numbers:\n",
    "       count += number\n",
    "   for key in keywords:\n",
    "       count += keywords[key]\n",
    "   return count\n",
    "\n",
    "print(total(10, 1, 2, 3, vegetables=50, fruits=100))"
   ]
  },
  {
   "cell_type": "markdown",
   "metadata": {},
   "source": [
    "**Modules**\n",
    "\n",
    "+ Functions can be used in the same program. \n",
    "+ If you want to use function (s) in other programs, make use of modules.\n",
    "+ Modules can be imported in other programs and functions contained in those modules can be used.\n",
    "+ Simplest way to create a module is to write a .py file with functions defined in that file.\n",
    "+ Other way is to import using byte-compiled .pyc files. "
   ]
  },
  {
   "cell_type": "code",
   "execution_count": null,
   "metadata": {},
   "outputs": [],
   "source": [
    "import os\n",
    "print (os.getcwd())\n",
    "import math\n",
    "x = -25\n",
    "print(math.fabs(x))\n",
    "print(math.factorial(abs(x)))"
   ]
  },
  {
   "cell_type": "code",
   "execution_count": null,
   "metadata": {},
   "outputs": [],
   "source": [
    "import mymodule\n",
    "from mymodule import * #import mymodule\n",
    "print(sayhi())\n",
    "\n",
    "\n",
    "numb = input(\"Enter a non negative number\")\n",
    "num_factorial = factorial(int(numb))\n",
    "print(num_factorial)\n"
   ]
  },
  {
   "cell_type": "markdown",
   "metadata": {},
   "source": [
    "**Writing first program**\n",
    "\n",
    "+ Source files .py extension, and can be run from command prompt by using python filename.py (optional arguments) command. \n",
    "+ Examine name.py. \n",
    "+ First line imports modules\n",
    "+ Next line defines a main() function. We can specify command line arguments. Command line args are in sys.argv[1], sys.argv[2]\n",
    "+ sys.argv[0] is the script name itself and can be ignored\n",
    "+ name = 'main' starts the program. \n",
    "+ When a Python file is run directly, the special variable \"__name__\" is set to \"__main__\". Therefore, it's common to have the boilerplate if __name__ ==... shown above to call a main() function when the module is run directly, but not when the module is imported by some other module."
   ]
  },
  {
   "cell_type": "code",
   "execution_count": null,
   "metadata": {},
   "outputs": [],
   "source": [
    "#Run name.py\n",
    "%run \"/Users/suppi/Documents/ISB/AMPBA/B16/IPD/name2.py\""
   ]
  },
  {
   "cell_type": "markdown",
   "metadata": {},
   "source": [
    "** Exception Handling**\n",
    "\n",
    "**Exceptions**\n",
    "\n",
    "+ An exception is an event that interrupts the ordinary sequential processing of a program.\n",
    "+ For example, what if you are going to read a file and the file does not exist? Or what if you accidentally deleted it when the program was running? Similarly, what if your program had some invalid statements? Such situations are handled using exceptions.\n",
    "\n",
    "**Handling Exceptions**\n",
    "\n",
    "+ We can handle exceptions using the try..except statement. \n",
    "+ We basically put our usual statements within the try-block and put all our error handlers in the except-block."
   ]
  },
  {
   "cell_type": "code",
   "execution_count": null,
   "metadata": {},
   "outputs": [],
   "source": [
    "def avg( numList ):\n",
    "    \"\"\"Raises TypeError or ZeroDivisionError exceptions.\"\"\"\n",
    "    sum= 0\n",
    "    for v in numList:\n",
    "        sum = sum + v\n",
    "    return float(sum)/len(numList)\n",
    "\n",
    "def avgReport(numList):\n",
    "     try:\n",
    "         m= avg(numList)\n",
    "         print (\"Average = \", m)\n",
    "     except (TypeError, ex):\n",
    "         print (\"TypeError:\", ex)\n",
    "     except (ZeroDivisionError, ex):\n",
    "         print (\"ZeroDivisionError:\", ex)\n",
    "\n",
    "                    \n",
    "list1 = [10,20,30,40]\n",
    "list2 = []\n",
    "list3 = [10,20,30,'abc']\n",
    "\n",
    "avgReport(list1)\n",
    "print(avgReport(list2))\n",
    "print(avgReport(list3))"
   ]
  },
  {
   "cell_type": "markdown",
   "metadata": {},
   "source": [
    "**Try..Finally**\n",
    "\n",
    "+ Suppose you are reading a file in your program. How do you ensure that the file object is closed properly whether or not an exception was raised? This can be done using the finally block.\n",
    "+ This final step will be performed before the try block is finished, either normally or by any exception.\n",
    "+ The finally clause is always executed. \n",
    "+ This includes all three possible cases: if the try block finishes with no exceptions; if an exception is raised and handled; and if an exception is raised but not handled. \n",
    "+ This last case means that every nested try statement with a finally clause will have that finally clause executed.\n",
    "+ Use a finally clause to close files, release locks, close database connections, write final log messages, and other kinds of final operations. \n",
    "+ In the following example, we use the finally clause to write a final log message.\n"
   ]
  },
  {
   "cell_type": "code",
   "execution_count": null,
   "metadata": {},
   "outputs": [],
   "source": [
    "def avgReport( numList ):\n",
    "    try:\n",
    "        print (\"Start avgReport\")\n",
    "        m= avg(numList)\n",
    "        print (\"Average = \", m)\n",
    "    except TypeError, ex:\n",
    "        print (\"TypeError: \", ex)\n",
    "    except ZeroDivisionError, ex:\n",
    "        print (\"ZeroDivisionError: \", ex)\n",
    "    finally:\n",
    "         print (\"Finish avgReport\")\n",
    "\n",
    "list1 = [10,20,30,40]\n",
    "list2 = []\n",
    "list3 = [10,20,30,'abc']\n",
    "\n",
    "avgReport(list2)\n"
   ]
  },
  {
   "cell_type": "markdown",
   "metadata": {},
   "source": [
    "**Some common built-in exceptions**\n",
    "\n",
    "exception KeyboardInterrupt\n",
    " This is raised when a user hits ctrl-C to send an interrupt signal to the Python interpreter. \n",
    "\n",
    "exception AttributeError\n",
    " Attribute not found in an object.\n",
    "\n",
    "exception EOFError\n",
    " Read beyond end of file.\n",
    "\n",
    "exception FloatingPointError\n",
    " Floating point operation failed.\n",
    "\n",
    "exception IOError\n",
    " I/O operation failed.\n",
    "\n",
    "exception IndexError\n",
    " Sequence index out of range.\n",
    "\n",
    "exception KeyError\n",
    " Mapping key not found.\n",
    "\n",
    "exception TypeError\n",
    " Inappropriate argument type.\n",
    "\n",
    "exception ValueError\n",
    " Inappropriate argument value (of correct type).\n",
    "\n",
    "exception ZeroDivisionError\n",
    " Second argument to a division or modulo operation was zero.\n",
    "\n",
    "exception MemoryError\n",
    " Out of memory.\n",
    "\n",
    "exception RuntimeError\n",
    " Unspecified run-time error.\n",
    "\n",
    "exception SystemError\n",
    " Internal error in the Python interpreter\n",
    "\n",
    "exception ImportError\n",
    " Import can’t find module, or can’t find name in module.\n",
    "\n",
    "exception IndentationError\n",
    " Improper indentation.\n",
    "\n",
    "exception NameError\n",
    " Name not found globally.\n",
    "\n",
    "exception SyntaxError\n",
    " Invalid syntax.\n",
    "\n",
    "exception UnboundLocalError\n",
    " Local name referenced but not bound to a value.\n"
   ]
  },
  {
   "cell_type": "markdown",
   "metadata": {},
   "source": [
    "**Classes**\n",
    "\n",
    "Python is an object oriented programming language. Almost everything in Python is an object, with its properties and methods. A Class is like an object constructor, or a \"blueprint\" for creating objects.\n"
   ]
  },
  {
   "cell_type": "code",
   "execution_count": null,
   "metadata": {},
   "outputs": [],
   "source": [
    "class MyClass:\n",
    "  x = 5\n",
    "\n",
    "p1 = MyClass()\n",
    "print(p1.x)"
   ]
  },
  {
   "cell_type": "markdown",
   "metadata": {},
   "source": [
    "Example above is very simplistic in nature, and not really useful in real life applications.\n",
    "\n",
    "To understand the meaning of classes we have to understand the built-in __init__() function.\n",
    "\n",
    "All classes have a function called __init__(), which is always executed when the class is being initiated.\n",
    "\n",
    "Use the __init__() function to assign values to object properties, or other operations that are necessary to do when the object is being created."
   ]
  },
  {
   "cell_type": "code",
   "execution_count": null,
   "metadata": {},
   "outputs": [],
   "source": [
    "class Person:\n",
    "  def __init__(self, name, age):\n",
    "    self.name = name\n",
    "    self.age = age\n",
    "\n",
    "p1 = Person(\"Peeyush\", 32)\n",
    "\n",
    "print(p1.name)\n",
    "print(p1.age)"
   ]
  },
  {
   "cell_type": "code",
   "execution_count": null,
   "metadata": {},
   "outputs": [],
   "source": [
    "#Objects can also contain methods. Methods in objects are functions that belong to the object.\n",
    "class Greeter:\n",
    "\n",
    "    # Constructor\n",
    "    def __init__(self, name):\n",
    "        self.name = name  # Create an instance variable\n",
    "\n",
    "    # Instance method\n",
    "    def greet(self, loud=False):\n",
    "        if loud:\n",
    "            print ('HELLO, %s!' % self.name.upper())\n",
    "        else:\n",
    "            print ('Hello, %s' % self.name)\n",
    "\n",
    "g = Greeter('Peeyush')  # Construct an instance of the Greeter class\n",
    "g.greet()            # Call an instance method; prints \"Hello, Fred\"\n",
    "g.greet(loud=True)   # Call an instance method; prints \"HELLO, FRED!\""
   ]
  },
  {
   "cell_type": "code",
   "execution_count": null,
   "metadata": {},
   "outputs": [],
   "source": [
    "#The self parameter is a reference to the current instance of the class, and is used to access variables that belongs to the class.\n",
    "#It does not have to be named self , you can call it whatever you like, but it has to be the first parameter of any function in the class\n",
    "\n",
    "class Person:\n",
    "  def __init__(mysillyobject, name, age):\n",
    "    mysillyobject.name = name\n",
    "    mysillyobject.age = age\n",
    "\n",
    "  def myfunc(abc):\n",
    "    print(\"Hello my name is \" + abc.name)\n",
    "\n",
    "p1 = Person(\"Peeyush\", 32)\n",
    "p1.myfunc()"
   ]
  },
  {
   "cell_type": "code",
   "execution_count": null,
   "metadata": {},
   "outputs": [],
   "source": [
    "class Customer(object):\n",
    "    \"\"\"A customer of ABC Bank with a checking account. Customers have the\n",
    "    following properties:\n",
    "\n",
    "    Attributes:\n",
    "        name: A string representing the customer's name.\n",
    "        balance: A float tracking the current balance of the customer's account.\n",
    "    \"\"\"\n",
    "\n",
    "    def __init__(self, name, balance=0.0):\n",
    "        \"\"\"Return a Customer object whose name is *name* and starting\n",
    "        balance is *balance*.\"\"\"\n",
    "        self.name = name\n",
    "        self.balance = balance\n",
    "\n",
    "    def withdraw(self, amount):\n",
    "        \"\"\"Return the balance remaining after withdrawing *amount*\n",
    "        dollars.\"\"\"\n",
    "        if amount > self.balance:\n",
    "            raise RuntimeError('Amount greater than available balance.')\n",
    "        self.balance -= amount\n",
    "        return self.balance\n",
    "\n",
    "    def deposit(self, amount):\n",
    "        \"\"\"Return the balance remaining after depositing *amount*\n",
    "        dollars.\"\"\"\n",
    "        self.balance += amount\n",
    "        return self.balance\n",
    "    \n",
    "p1 = Customer(\"Peeyush\",200)\n",
    "p1.deposit(300)\n",
    "print(p1.balance)\n",
    "p1.withdraw(400)\n",
    "print(p1.balance)\n",
    "\n",
    "\n",
    "p2 = Customer(\"B13\",2000000)\n",
    "p2.deposit(300000)\n",
    "print(p2.balance)\n",
    "p2.withdraw(400000)\n",
    "print(p2.balance)"
   ]
  },
  {
   "cell_type": "markdown",
   "metadata": {},
   "source": [
    "Matplotlib:\n",
    "-->matplotlib is a plotting library for the Python programming language and its numerical mathematics extension NumPy\n",
    "-->pyplot provides a convenient interface to the matplotlib object-oriented plotting library. It is modeled closely after Matlab(TM). Therefore, the majority of plotting commands in pyplot have Matlab(TM) analogs with similar arguments. "
   ]
  },
  {
   "cell_type": "code",
   "execution_count": null,
   "metadata": {},
   "outputs": [],
   "source": [
    "#Line plot\n",
    "%matplotlib inline\n",
    "import matplotlib.pyplot as plt\n",
    "import numpy as np\n",
    "a = np.linspace(0,10,100)\n",
    "b = np.exp(-a)\n",
    "plt.plot(a,b)\n",
    "plt.show()"
   ]
  },
  {
   "cell_type": "code",
   "execution_count": null,
   "metadata": {},
   "outputs": [],
   "source": [
    "#Histogram\n",
    "from numpy.random import normal,rand\n",
    "x = normal(size=200)\n",
    "plt.hist(x,bins=30)\n",
    "plt.show()"
   ]
  },
  {
   "cell_type": "code",
   "execution_count": null,
   "metadata": {},
   "outputs": [],
   "source": [
    "#Scatter Plot\n",
    "import numpy as np\n",
    "import matplotlib.pyplot as plt\n",
    "from numpy.random import normal,rand\n",
    "a = rand(100)\n",
    "b = rand(100)\n",
    "plt.scatter(a,b)\n",
    "plt.show()"
   ]
  },
  {
   "cell_type": "code",
   "execution_count": null,
   "metadata": {},
   "outputs": [],
   "source": [
    "#Pie Chart\n",
    "import numpy as np\n",
    "import matplotlib.pyplot as plt\n",
    "n = 20\n",
    "Z = np.random.uniform(0,1,n)\n",
    "plt.pie(Z)\n",
    "plt.show()"
   ]
  },
  {
   "cell_type": "code",
   "execution_count": null,
   "metadata": {},
   "outputs": [],
   "source": [
    "#3D Plot\n",
    "from matplotlib import cm\n",
    "from mpl_toolkits.mplot3d import Axes3D\n",
    "import matplotlib.pyplot as plt\n",
    "import numpy as np\n",
    "fig = plt.figure()\n",
    "ax = fig.gca(projection='3d')\n",
    "X = np.arange(-5, 5, 0.25)\n",
    "Y = np.arange(-5, 5, 0.25)\n",
    "X, Y = np.meshgrid(X, Y)\n",
    "R = np.sqrt(X**2 + Y**2)\n",
    "Z = np.sin(R)\n",
    "surf = ax.plot_surface(X, Y, Z, rstride=1, cstride=1, cmap=cm.coolwarm)\n",
    "plt.show()"
   ]
  },
  {
   "cell_type": "code",
   "execution_count": null,
   "metadata": {},
   "outputs": [],
   "source": [
    "# Imports\n",
    "import numpy as np\n",
    "import matplotlib.pyplot as plt\n",
    "\n",
    "# Create a new figure of size 8x6 points, using 100 dots per inch\n",
    "plt.figure(figsize=(8,6), dpi=80)\n",
    "\n",
    "# Create a new subplot from a grid of 1x1\n",
    "plt.subplot(111)\n",
    "\n",
    "X = np.linspace(-np.pi, np.pi, 256,endpoint=True)\n",
    "C,S = np.cos(X), np.sin(X)\n",
    "\n",
    "# Plot cosine using blue color with a continuous line of width 1 (pixels)\n",
    "plt.plot(X, C, color=\"blue\", linewidth=1.0, linestyle=\"-\")\n",
    "\n",
    "# Plot sine using green color with a continuous line of width 1 (pixels)\n",
    "plt.plot(X, S, color=\"green\", linewidth=1.0, linestyle=\"-\")\n",
    "\n",
    "# Set x limits\n",
    "plt.xlim(-4.0,4.0)\n",
    "\n",
    "# Set x ticks\n",
    "plt.xticks(np.linspace(-4,4,9,endpoint=True))\n",
    "\n",
    "# Set y limits\n",
    "plt.ylim(-1.0,1.0)\n",
    "\n",
    "# Set y ticks\n",
    "plt.yticks(np.linspace(-1,1,5,endpoint=True))\n",
    "\n",
    "# Show result on screen\n",
    "plt.show()\n"
   ]
  },
  {
   "cell_type": "markdown",
   "metadata": {},
   "source": [
    "JSON:\n",
    "\n",
    "The json library can parse JSON from strings or files. The library parses JSON into a Python dictionary or list. It can also convert Python dictionaries or lists into JSON strings.\n",
    "\n",
    "Parsing JSON:\n",
    "Take the following string containing JSON data:\n"
   ]
  },
  {
   "cell_type": "code",
   "execution_count": null,
   "metadata": {},
   "outputs": [],
   "source": [
    "json_string = '{\"first_name\": \"Guido\", \"last_name\":\"Rossum\"}'"
   ]
  },
  {
   "cell_type": "markdown",
   "metadata": {},
   "source": [
    "It can be parsed like this:"
   ]
  },
  {
   "cell_type": "code",
   "execution_count": null,
   "metadata": {},
   "outputs": [],
   "source": [
    "import json\n",
    "json_string = '{\"first_name\": \"Guido\", \"last_name\":\"Rossum\"}'\n",
    "parsed_json = json.loads(json_string)\n",
    "print(parsed_json['first_name'])"
   ]
  },
  {
   "cell_type": "markdown",
   "metadata": {},
   "source": [
    "You can also convert the following to JSON:"
   ]
  },
  {
   "cell_type": "code",
   "execution_count": null,
   "metadata": {},
   "outputs": [],
   "source": []
  }
 ],
 "metadata": {
  "kernelspec": {
   "display_name": "Python 3",
   "language": "python",
   "name": "python3"
  },
  "language_info": {
   "codemirror_mode": {
    "name": "ipython",
    "version": 3
   },
   "file_extension": ".py",
   "mimetype": "text/x-python",
   "name": "python",
   "nbconvert_exporter": "python",
   "pygments_lexer": "ipython3",
   "version": "3.8.8"
  }
 },
 "nbformat": 4,
 "nbformat_minor": 4
}
