{
 "cells": [
  {
   "cell_type": "code",
   "execution_count": 1,
   "metadata": {
    "collapsed": true,
    "ExecuteTime": {
     "end_time": "2023-06-06T02:10:38.224969013Z",
     "start_time": "2023-06-06T02:10:38.220779782Z"
    }
   },
   "outputs": [
    {
     "name": "stdout",
     "output_type": "stream",
     "text": [
      "/home/aris/projects/GraB\n"
     ]
    }
   ],
   "source": [
    "%cd '/home/aris/projects/GraB'\n",
    "\n",
    "%load_ext autoreload\n",
    "%autoreload 1\n",
    "\n",
    "from IPython.display import display"
   ]
  },
  {
   "cell_type": "code",
   "execution_count": 2,
   "metadata": {
    "collapsed": false,
    "ExecuteTime": {
     "end_time": "2023-06-06T02:10:48.399091719Z",
     "start_time": "2023-06-06T02:10:45.497446300Z"
    }
   },
   "outputs": [],
   "source": [
    "import torch\n",
    "import numpy as np\n",
    "import pandas as pd\n",
    "import matplotlib.pyplot as plt\n",
    "\n",
    "import os\n",
    "import sys\n",
    "from pathlib import Path\n",
    "import pickle\n",
    "import time\n",
    "from tqdm.notebook import tqdm"
   ]
  },
  {
   "cell_type": "code",
   "execution_count": 3,
   "metadata": {
    "collapsed": false,
    "ExecuteTime": {
     "end_time": "2023-06-06T02:10:50.397697939Z",
     "start_time": "2023-06-06T02:10:50.390368914Z"
    }
   },
   "outputs": [],
   "source": [
    "def show_df(df: pd.DataFrame):\n",
    "    display(df.head())\n",
    "    print(df.shape)"
   ]
  },
  {
   "cell_type": "code",
   "execution_count": 4,
   "metadata": {
    "collapsed": false,
    "ExecuteTime": {
     "end_time": "2023-06-06T02:10:56.548662340Z",
     "start_time": "2023-06-06T02:10:56.544259473Z"
    }
   },
   "outputs": [
    {
     "name": "stdout",
     "output_type": "stream",
     "text": [
      "10.24950514337683\n",
      "tensor(10.2495, dtype=torch.float64)\n"
     ]
    }
   ],
   "source": [
    "def _herding_bound(vecs):\n",
    "    return np.maximum.reduce(\n",
    "        np.linalg.norm(np.cumsum(vecs, axis=0), ord=np.inf, axis=1)\n",
    "    )\n",
    "\n",
    "\n",
    "def herding_bound(vecs: torch.Tensor):\n",
    "    return torch.amax(\n",
    "        torch.norm(torch.cumsum(vecs, dim=0), p=torch.inf, dim=1)\n",
    "    )\n",
    "\n",
    "\n",
    "a = np.random.random((16, 32))\n",
    "print(_herding_bound(a))\n",
    "print(herding_bound(torch.tensor(a)))"
   ]
  },
  {
   "cell_type": "code",
   "execution_count": 5,
   "outputs": [],
   "source": [
    "from torchvision import datasets, transforms\n",
    "\n",
    "normalize = transforms.Normalize(\n",
    "    mean=[0.485, 0.456, 0.406], std=[0.229, 0.224, 0.225]\n",
    ")\n",
    "\n",
    "# Loading the dataset and preprocessing\n",
    "train_dataset = datasets.CIFAR10(\n",
    "    root='data/external',\n",
    "    train=True,\n",
    "    transform=transforms.Compose([\n",
    "        transforms.ToTensor(),\n",
    "        normalize\n",
    "    ])\n",
    ")\n",
    "train_eval_loader = torch.utils.data.DataLoader(\n",
    "    dataset=train_dataset, batch_size=16\n",
    ")"
   ],
   "metadata": {
    "collapsed": false,
    "ExecuteTime": {
     "end_time": "2023-06-05T18:12:08.835113565Z",
     "start_time": "2023-06-05T18:12:08.022345203Z"
    }
   }
  },
  {
   "cell_type": "code",
   "execution_count": 48,
   "outputs": [
    {
     "data": {
      "text/plain": "  0%|          | 0/3125 [00:00<?, ?it/s]",
      "application/vnd.jupyter.widget-view+json": {
       "version_major": 2,
       "version_minor": 0,
       "model_id": "5c07a41a84c544b6831034c2042fbeee"
      }
     },
     "metadata": {},
     "output_type": "display_data"
    },
    {
     "name": "stdout",
     "output_type": "stream",
     "text": [
      "Epoch 0 norm mean 17.69161908040762std 8.563230446463175 max: 77.49795532226562 min: 1.854677677154541\n"
     ]
    },
    {
     "data": {
      "text/plain": "  0%|          | 0/3125 [00:00<?, ?it/s]",
      "application/vnd.jupyter.widget-view+json": {
       "version_major": 2,
       "version_minor": 0,
       "model_id": "30fee6ead42f4ae794be55cc84a92ddd"
      }
     },
     "metadata": {},
     "output_type": "display_data"
    },
    {
     "name": "stdout",
     "output_type": "stream",
     "text": [
      "Epoch 1 norm mean 20.679856199375987std 11.072793940909309 max: 100.25169372558594 min: 0.30779364705085754\n"
     ]
    },
    {
     "data": {
      "text/plain": "  0%|          | 0/3125 [00:00<?, ?it/s]",
      "application/vnd.jupyter.widget-view+json": {
       "version_major": 2,
       "version_minor": 0,
       "model_id": "eef5c2ba07b448598077391aa1ea664f"
      }
     },
     "metadata": {},
     "output_type": "display_data"
    },
    {
     "name": "stdout",
     "output_type": "stream",
     "text": [
      "Epoch 2 norm mean 22.526784385383426std 12.727875534775718 max: 106.14271545410156 min: 0.13433608412742615\n"
     ]
    },
    {
     "data": {
      "text/plain": "  0%|          | 0/3125 [00:00<?, ?it/s]",
      "application/vnd.jupyter.widget-view+json": {
       "version_major": 2,
       "version_minor": 0,
       "model_id": "f2f9e80db6054d46a1b710fa53213b49"
      }
     },
     "metadata": {},
     "output_type": "display_data"
    },
    {
     "name": "stdout",
     "output_type": "stream",
     "text": [
      "Epoch 3 norm mean 23.967497034246026std 14.716304090732761 max: 108.36014556884766 min: 0.09058291465044022\n"
     ]
    },
    {
     "data": {
      "text/plain": "  0%|          | 0/3125 [00:00<?, ?it/s]",
      "application/vnd.jupyter.widget-view+json": {
       "version_major": 2,
       "version_minor": 0,
       "model_id": "287f992540b94d4ba3c65d717557f493"
      }
     },
     "metadata": {},
     "output_type": "display_data"
    },
    {
     "name": "stdout",
     "output_type": "stream",
     "text": [
      "Epoch 4 norm mean 24.51688101641059std 15.763033817846347 max: 130.566650390625 min: 0.1146102026104927\n"
     ]
    },
    {
     "data": {
      "text/plain": "  0%|          | 0/3125 [00:00<?, ?it/s]",
      "application/vnd.jupyter.widget-view+json": {
       "version_major": 2,
       "version_minor": 0,
       "model_id": "c0e3ce5760a642c790bdf0ec7795b79c"
      }
     },
     "metadata": {},
     "output_type": "display_data"
    },
    {
     "name": "stdout",
     "output_type": "stream",
     "text": [
      "Epoch 5 norm mean 24.95135305779055std 15.795965332404192 max: 110.46562194824219 min: 0.09368083626031876\n"
     ]
    },
    {
     "data": {
      "text/plain": "  0%|          | 0/3125 [00:00<?, ?it/s]",
      "application/vnd.jupyter.widget-view+json": {
       "version_major": 2,
       "version_minor": 0,
       "model_id": "adc149beadd148338a3b830c667d3c6a"
      }
     },
     "metadata": {},
     "output_type": "display_data"
    },
    {
     "name": "stdout",
     "output_type": "stream",
     "text": [
      "Epoch 6 norm mean 25.667767227527797std 17.077090915038625 max: 129.92721557617188 min: 0.032602835446596146\n"
     ]
    },
    {
     "data": {
      "text/plain": "  0%|          | 0/3125 [00:00<?, ?it/s]",
      "application/vnd.jupyter.widget-view+json": {
       "version_major": 2,
       "version_minor": 0,
       "model_id": "11f2b0dd67aa48efb68a80bc26e51972"
      }
     },
     "metadata": {},
     "output_type": "display_data"
    },
    {
     "name": "stdout",
     "output_type": "stream",
     "text": [
      "Epoch 7 norm mean 26.107468663069607std 17.54887129462125 max: 129.4598388671875 min: 0.03416610136628151\n"
     ]
    },
    {
     "data": {
      "text/plain": "  0%|          | 0/3125 [00:00<?, ?it/s]",
      "application/vnd.jupyter.widget-view+json": {
       "version_major": 2,
       "version_minor": 0,
       "model_id": "37edd26bf0704b499070d99beef0dc25"
      }
     },
     "metadata": {},
     "output_type": "display_data"
    },
    {
     "name": "stdout",
     "output_type": "stream",
     "text": [
      "Epoch 8 norm mean 25.779500192583242std 17.479771151535594 max: 122.93402862548828 min: 0.02552756853401661\n"
     ]
    },
    {
     "data": {
      "text/plain": "  0%|          | 0/3125 [00:00<?, ?it/s]",
      "application/vnd.jupyter.widget-view+json": {
       "version_major": 2,
       "version_minor": 0,
       "model_id": "c5ab31b5af684b99b5feb16e17b39406"
      }
     },
     "metadata": {},
     "output_type": "display_data"
    },
    {
     "name": "stdout",
     "output_type": "stream",
     "text": [
      "Epoch 9 norm mean 25.55953122048868std 17.810643416030803 max: 123.98381042480469 min: 0.010283539071679115\n"
     ]
    }
   ],
   "source": [
    "import torch.nn.functional as F\n",
    "from experiments.models import LeNet\n",
    "from torch.func import functional_call, grad, vmap\n",
    "\n",
    "\n",
    "def compute_loss(params, inputs, targets):\n",
    "    logits = functional_call(model, (params, buffers), (inputs,))\n",
    "    return F.cross_entropy(logits, targets)\n",
    "\n",
    "\n",
    "path = Path('checkpoints/cifar10-lenet/mean')\n",
    "model = LeNet().cuda()\n",
    "\n",
    "for p in model.parameters():\n",
    "    p.requires_grad = False\n",
    "\n",
    "params = dict(model.named_parameters())\n",
    "buffers = dict(model.named_buffers())\n",
    "\n",
    "func = vmap(grad(compute_loss), in_dims=(None, 0, 0))\n",
    "\n",
    "for epoch in range(10):\n",
    "    file_name = f'cifar10_lenet_mean_sgd_lr_0.001_wd_0.01_b_16_seed_42_epoch_{epoch}.pt'\n",
    "    model.load_state_dict(torch.load(path / file_name))\n",
    "\n",
    "    norms = []\n",
    "\n",
    "    for x, y in tqdm(\n",
    "            train_eval_loader, total=len(train_eval_loader),\n",
    "            leave=False\n",
    "    ):\n",
    "        x = x.cuda()\n",
    "        y = y.cuda()\n",
    "\n",
    "        pred = model(x)\n",
    "\n",
    "        grads = func(params, x, y)\n",
    "\n",
    "        grads = torch.cat([\n",
    "            g.view(16, -1)\n",
    "            for g in grads.values()\n",
    "        ], dim=1)\n",
    "        # print(grads.shape)\n",
    "\n",
    "        norms.extend(torch.norm(grads, dim=1).tolist())\n",
    "    print(f'Epoch {epoch} norm mean {np.mean(norms)}'\n",
    "          f'std {np.std(norms)} max: {np.max(norms)} min: {np.min(norms)}')"
   ],
   "metadata": {
    "collapsed": false,
    "ExecuteTime": {
     "end_time": "2023-06-05T12:10:27.062079493Z",
     "start_time": "2023-06-05T12:06:59.498352865Z"
    }
   }
  },
  {
   "cell_type": "code",
   "execution_count": 39,
   "outputs": [],
   "source": [
    "miu, sigma = 27.7, 23\n",
    "# n, d = 50_000, 62_000\n",
    "n, d = 20000, 62_000\n",
    "\n",
    "norms = torch.normal(miu, sigma, (n,))"
   ],
   "metadata": {
    "collapsed": false,
    "ExecuteTime": {
     "end_time": "2023-06-05T15:44:37.901078622Z",
     "start_time": "2023-06-05T15:44:37.859454633Z"
    }
   }
  },
  {
   "cell_type": "code",
   "execution_count": 6,
   "outputs": [],
   "source": [
    "def random_vector_with_2norm(_d, norm, dtype=torch.float16):\n",
    "    # Generate Uniform Random Variates with Constant Norm\n",
    "    # https://stats.stackexchange.com/a/487505\n",
    "    # https://stats.stackexchange.com/a/487505\n",
    "    v = torch.normal(0, 1, (_d,), dtype=dtype, device='cuda')\n",
    "    v = v * norm / torch.norm(v)\n",
    "    return v.to(dtype=dtype)"
   ],
   "metadata": {
    "collapsed": false,
    "ExecuteTime": {
     "end_time": "2023-06-05T18:12:08.838357108Z",
     "start_time": "2023-06-05T18:12:08.837118262Z"
    }
   }
  },
  {
   "cell_type": "code",
   "execution_count": 101,
   "outputs": [
    {
     "name": "stdout",
     "output_type": "stream",
     "text": [
      "torch.Size([20000, 62000])\n",
      "tensor([-1.4126e-05, -9.5367e-07, -1.4186e-05,  ..., -2.0862e-06,\n",
      "        -1.8716e-05,  2.8729e-05], device='cuda:0', dtype=torch.float16)\n",
      "tensor(0.7944, device='cuda:0', dtype=torch.float16)\n",
      "tensor(0.6045, device='cuda:0', dtype=torch.float16)\n"
     ]
    }
   ],
   "source": [
    "V = torch.stack([\n",
    "    random_vector_with_2norm(d, e) for e in norms\n",
    "]).to(dtype=torch.float16, device='cuda')\n",
    "\n",
    "print(V.shape)\n",
    "print(V.mean(dim=1))\n",
    "print(V.norm(dim=1).mean())\n",
    "print(V.norm(dim=1).std())"
   ],
   "metadata": {
    "collapsed": false,
    "ExecuteTime": {
     "end_time": "2023-06-05T16:31:59.753540866Z",
     "start_time": "2023-06-05T16:31:58.940757817Z"
    }
   }
  },
  {
   "cell_type": "code",
   "execution_count": 102,
   "outputs": [
    {
     "name": "stdout",
     "output_type": "stream",
     "text": [
      "tensor(2.4336, device='cuda:0', dtype=torch.float16)\n"
     ]
    }
   ],
   "source": [
    "bound = herding_bound(V)\n",
    "\n",
    "print(bound)"
   ],
   "metadata": {
    "collapsed": false,
    "ExecuteTime": {
     "end_time": "2023-06-05T16:32:01.481848039Z",
     "start_time": "2023-06-05T16:32:01.455044548Z"
    }
   }
  },
  {
   "cell_type": "code",
   "execution_count": 7,
   "outputs": [
    {
     "name": "stdout",
     "output_type": "stream",
     "text": [
      "torch.Size([512])\n",
      "tensor(-0.0082, device='cuda:0', dtype=torch.float16)\n",
      "tensor([-1.3561e-03, -1.3351e-03,  5.6624e-06,  ..., -4.3631e-04,\n",
      "        -3.1796e-03, -3.8490e-03], device='cuda:0', dtype=torch.float16)\n",
      "tensor(0.7939, device='cuda:0', dtype=torch.float16)\n",
      "tensor(0.5986, device='cuda:0', dtype=torch.float16)\n",
      "--------------------------------------------------\n",
      "torch.Size([512])\n",
      "tensor(-5.6028e-06, device='cuda:0', dtype=torch.float16)\n",
      "tensor([-1.3399e-03, -1.3180e-03,  2.1636e-05,  ..., -4.2057e-04,\n",
      "        -3.1643e-03, -3.8319e-03], device='cuda:0', dtype=torch.float16)\n",
      "tensor(0.7939, device='cuda:0', dtype=torch.float16)\n",
      "tensor(0.5986, device='cuda:0', dtype=torch.float16)\n"
     ]
    },
    {
     "data": {
      "text/plain": "[10.96875,\n 12.203125,\n 12.1171875,\n 11.609375,\n 11.578125,\n 11.2421875,\n 11.4375,\n 12.859375,\n 11.3359375,\n 11.3984375,\n 10.546875]"
     },
     "execution_count": 7,
     "metadata": {},
     "output_type": "execute_result"
    }
   ],
   "source": [
    "# miu, sigma = 27.7, 23\n",
    "miu, sigma = 0, 1\n",
    "# n, d = 50_000, 62_000\n",
    "# n, d = 10000, 62_000\n",
    "n, d = 20000, 512\n",
    "\n",
    "norms = torch.normal(miu, sigma, (n,))\n",
    "\n",
    "V = torch.stack([\n",
    "    random_vector_with_2norm(d, e) for e in norms\n",
    "]).to(dtype=torch.float16, device='cuda')\n",
    "print(V.mean(dim=0).shape)\n",
    "print(V.mean(dim=0).sum())\n",
    "print(V.mean(dim=1))\n",
    "print(V.norm(dim=1).mean())\n",
    "print(V.norm(dim=1).std())\n",
    "print('-' * 50)\n",
    "V = V - V.mean(dim=0)\n",
    "\n",
    "print(V.mean(dim=0).shape)\n",
    "print(V.mean(dim=0).sum())\n",
    "print(V.mean(dim=1))\n",
    "print(V.norm(dim=1).mean())\n",
    "print(V.norm(dim=1).std())\n",
    "\n",
    "\n",
    "def run_reordering_rr(n, d, epochs):\n",
    "    bounds = []\n",
    "    bounds.append(herding_bound(V).item())\n",
    "    for epoch in range(epochs):\n",
    "        orders = torch.randperm(n)\n",
    "        bounds.append(herding_bound(V[orders]).item())\n",
    "\n",
    "    return bounds\n",
    "\n",
    "\n",
    "run_reordering_rr(n, d, 10)"
   ],
   "metadata": {
    "collapsed": false,
    "ExecuteTime": {
     "end_time": "2023-06-05T18:12:09.854384944Z",
     "start_time": "2023-06-05T18:12:08.840698659Z"
    }
   }
  },
  {
   "cell_type": "code",
   "execution_count": 2,
   "outputs": [
    {
     "ename": "NameError",
     "evalue": "name 'V' is not defined",
     "output_type": "error",
     "traceback": [
      "\u001B[0;31m---------------------------------------------------------------------------\u001B[0m",
      "\u001B[0;31mNameError\u001B[0m                                 Traceback (most recent call last)",
      "Cell \u001B[0;32mIn[2], line 38\u001B[0m\n\u001B[1;32m     33\u001B[0m     \u001B[38;5;28;01mreturn\u001B[39;00m bounds\n\u001B[1;32m     36\u001B[0m n, d \u001B[38;5;241m=\u001B[39m \u001B[38;5;241m20000\u001B[39m, \u001B[38;5;241m62000\u001B[39m\n\u001B[0;32m---> 38\u001B[0m \u001B[43mrun_reordering\u001B[49m\u001B[43m(\u001B[49m\u001B[43mn\u001B[49m\u001B[43m,\u001B[49m\u001B[43m \u001B[49m\u001B[43md\u001B[49m\u001B[43m,\u001B[49m\u001B[43m \u001B[49m\u001B[38;5;241;43m10\u001B[39;49m\u001B[43m,\u001B[49m\u001B[43m \u001B[49m\u001B[43mbalance\u001B[49m\u001B[38;5;241;43m=\u001B[39;49m\u001B[38;5;124;43m'\u001B[39;49m\u001B[38;5;124;43mmean\u001B[39;49m\u001B[38;5;124;43m'\u001B[39;49m\u001B[43m)\u001B[49m\n\u001B[1;32m     39\u001B[0m run_reordering(n, d, \u001B[38;5;241m10\u001B[39m, balance\u001B[38;5;241m=\u001B[39m\u001B[38;5;124m'\u001B[39m\u001B[38;5;124mmean\u001B[39m\u001B[38;5;124m'\u001B[39m, prob\u001B[38;5;241m=\u001B[39m\u001B[38;5;28;01mTrue\u001B[39;00m)\n",
      "Cell \u001B[0;32mIn[2], line 24\u001B[0m, in \u001B[0;36mrun_reordering\u001B[0;34m(n, d, epochs, balance, prob)\u001B[0m\n\u001B[1;32m     22\u001B[0m \u001B[38;5;28;01mfor\u001B[39;00m epoch \u001B[38;5;129;01min\u001B[39;00m \u001B[38;5;28mrange\u001B[39m(epochs):\n\u001B[1;32m     23\u001B[0m     sorter\u001B[38;5;241m.\u001B[39mreset_epoch()\n\u001B[0;32m---> 24\u001B[0m     sorter\u001B[38;5;241m.\u001B[39mstep({\u001B[38;5;124m'\u001B[39m\u001B[38;5;124m'\u001B[39m: \u001B[43mV\u001B[49m[sorter\u001B[38;5;241m.\u001B[39morders]})\n\u001B[1;32m     25\u001B[0m     bounds\u001B[38;5;241m.\u001B[39mappend(herding_bound(V[sorter\u001B[38;5;241m.\u001B[39morders])\u001B[38;5;241m.\u001B[39mitem())\n\u001B[1;32m     26\u001B[0m     orders_history\u001B[38;5;241m.\u001B[39mappend(sorter\u001B[38;5;241m.\u001B[39morders\u001B[38;5;241m.\u001B[39mtolist())\n",
      "\u001B[0;31mNameError\u001B[0m: name 'V' is not defined"
     ]
    }
   ],
   "source": [
    "from grabngo.sorter import *\n",
    "\n",
    "\n",
    "\n",
    "\n",
    "\n",
    "n, d = 20000, 62000\n",
    "\n",
    "run_reordering(n, d, 10, balance='mean')\n",
    "run_reordering(n, d, 10, balance='mean', prob=True)"
   ],
   "metadata": {
    "collapsed": false,
    "ExecuteTime": {
     "end_time": "2023-06-05T21:06:42.386374565Z",
     "start_time": "2023-06-05T21:06:41.433695293Z"
    }
   }
  },
  {
   "cell_type": "code",
   "execution_count": 22,
   "outputs": [
    {
     "ename": "OutOfMemoryError",
     "evalue": "CUDA out of memory. Tried to allocate 2.31 GiB (GPU 0; 23.68 GiB total capacity; 20.85 GiB already allocated; 1.95 GiB free; 20.86 GiB reserved in total by PyTorch) If reserved memory is >> allocated memory try setting max_split_size_mb to avoid fragmentation.  See documentation for Memory Management and PYTORCH_CUDA_ALLOC_CONF",
     "output_type": "error",
     "traceback": [
      "\u001B[0;31m---------------------------------------------------------------------------\u001B[0m",
      "\u001B[0;31mOutOfMemoryError\u001B[0m                          Traceback (most recent call last)",
      "Cell \u001B[0;32mIn[22], line 1\u001B[0m\n\u001B[0;32m----> 1\u001B[0m \u001B[43mrun_reordering\u001B[49m\u001B[43m(\u001B[49m\u001B[43mn\u001B[49m\u001B[43m,\u001B[49m\u001B[43m \u001B[49m\u001B[43md\u001B[49m\u001B[43m,\u001B[49m\u001B[43m \u001B[49m\u001B[38;5;241;43m5\u001B[39;49m\u001B[43m,\u001B[49m\u001B[43m \u001B[49m\u001B[43mbalance\u001B[49m\u001B[38;5;241;43m=\u001B[39;49m\u001B[38;5;124;43m'\u001B[39;49m\u001B[38;5;124;43mrecursive\u001B[39;49m\u001B[38;5;124;43m'\u001B[39;49m\u001B[43m)\u001B[49m\n",
      "Cell \u001B[0;32mIn[20], line 17\u001B[0m, in \u001B[0;36mrun_reordering\u001B[0;34m(n, d, epochs, balance)\u001B[0m\n\u001B[1;32m     15\u001B[0m \u001B[38;5;28;01mfor\u001B[39;00m epoch \u001B[38;5;129;01min\u001B[39;00m \u001B[38;5;28mrange\u001B[39m(epochs):\n\u001B[1;32m     16\u001B[0m     sorter\u001B[38;5;241m.\u001B[39mreset_epoch()\n\u001B[0;32m---> 17\u001B[0m     \u001B[43msorter\u001B[49m\u001B[38;5;241;43m.\u001B[39;49m\u001B[43mstep\u001B[49m\u001B[43m(\u001B[49m\u001B[43m{\u001B[49m\u001B[38;5;124;43m'\u001B[39;49m\u001B[38;5;124;43m'\u001B[39;49m\u001B[43m:\u001B[49m\u001B[43m \u001B[49m\u001B[43mV\u001B[49m\u001B[43m[\u001B[49m\u001B[43msorter\u001B[49m\u001B[38;5;241;43m.\u001B[39;49m\u001B[43morders\u001B[49m\u001B[43m]\u001B[49m\u001B[43m}\u001B[49m\u001B[43m)\u001B[49m\n\u001B[1;32m     18\u001B[0m     bounds\u001B[38;5;241m.\u001B[39mappend(herding_bound(V[sorter\u001B[38;5;241m.\u001B[39morders])\u001B[38;5;241m.\u001B[39mitem())\n\u001B[1;32m     19\u001B[0m     orders_history\u001B[38;5;241m.\u001B[39mappend(sorter\u001B[38;5;241m.\u001B[39morders\u001B[38;5;241m.\u001B[39mtolist())\n",
      "File \u001B[0;32m~/mambaforge/envs/grab/lib/python3.10/site-packages/torch/utils/_contextlib.py:115\u001B[0m, in \u001B[0;36mcontext_decorator.<locals>.decorate_context\u001B[0;34m(*args, **kwargs)\u001B[0m\n\u001B[1;32m    112\u001B[0m \u001B[38;5;129m@functools\u001B[39m\u001B[38;5;241m.\u001B[39mwraps(func)\n\u001B[1;32m    113\u001B[0m \u001B[38;5;28;01mdef\u001B[39;00m \u001B[38;5;21mdecorate_context\u001B[39m(\u001B[38;5;241m*\u001B[39margs, \u001B[38;5;241m*\u001B[39m\u001B[38;5;241m*\u001B[39mkwargs):\n\u001B[1;32m    114\u001B[0m     \u001B[38;5;28;01mwith\u001B[39;00m ctx_factory():\n\u001B[0;32m--> 115\u001B[0m         \u001B[38;5;28;01mreturn\u001B[39;00m \u001B[43mfunc\u001B[49m\u001B[43m(\u001B[49m\u001B[38;5;241;43m*\u001B[39;49m\u001B[43margs\u001B[49m\u001B[43m,\u001B[49m\u001B[43m \u001B[49m\u001B[38;5;241;43m*\u001B[39;49m\u001B[38;5;241;43m*\u001B[39;49m\u001B[43mkwargs\u001B[49m\u001B[43m)\u001B[49m\n",
      "File \u001B[0;32m~/projects/GraB/src/grabngo/sorter/RecursiveBalance.py:176\u001B[0m, in \u001B[0;36mRecursiveBalance.step\u001B[0;34m(self, per_sample_grads)\u001B[0m\n\u001B[1;32m    172\u001B[0m b \u001B[38;5;241m=\u001B[39m \u001B[38;5;28mnext\u001B[39m(\u001B[38;5;28miter\u001B[39m(per_sample_grads\u001B[38;5;241m.\u001B[39mvalues()))\u001B[38;5;241m.\u001B[39mshape[\u001B[38;5;241m0\u001B[39m]\n\u001B[1;32m    174\u001B[0m \u001B[38;5;66;03m# To make everything simpler, always assume the order of the current\u001B[39;00m\n\u001B[1;32m    175\u001B[0m \u001B[38;5;66;03m# epoch is 1,2,3,...\u001B[39;00m\n\u001B[0;32m--> 176\u001B[0m grads \u001B[38;5;241m=\u001B[39m \u001B[43mtorch\u001B[49m\u001B[38;5;241;43m.\u001B[39;49m\u001B[43mcat\u001B[49m\u001B[43m(\u001B[49m\u001B[43m[\u001B[49m\n\u001B[1;32m    177\u001B[0m \u001B[43m    \u001B[49m\u001B[43mg\u001B[49m\u001B[38;5;241;43m.\u001B[39;49m\u001B[43mview\u001B[49m\u001B[43m(\u001B[49m\u001B[43mb\u001B[49m\u001B[43m,\u001B[49m\u001B[43m \u001B[49m\u001B[38;5;241;43m-\u001B[39;49m\u001B[38;5;241;43m1\u001B[39;49m\u001B[43m)\u001B[49m\n\u001B[1;32m    178\u001B[0m \u001B[43m    \u001B[49m\u001B[38;5;28;43;01mfor\u001B[39;49;00m\u001B[43m \u001B[49m\u001B[43mg\u001B[49m\u001B[43m \u001B[49m\u001B[38;5;129;43;01min\u001B[39;49;00m\u001B[43m \u001B[49m\u001B[43mper_sample_grads\u001B[49m\u001B[38;5;241;43m.\u001B[39;49m\u001B[43mvalues\u001B[49m\u001B[43m(\u001B[49m\u001B[43m)\u001B[49m\n\u001B[1;32m    179\u001B[0m \u001B[43m\u001B[49m\u001B[43m]\u001B[49m\u001B[43m,\u001B[49m\u001B[43m \u001B[49m\u001B[43mdim\u001B[49m\u001B[38;5;241;43m=\u001B[39;49m\u001B[38;5;241;43m1\u001B[39;49m\u001B[43m)\u001B[49m\u001B[38;5;241m.\u001B[39mto(\u001B[38;5;28mself\u001B[39m\u001B[38;5;241m.\u001B[39mdevice)  \u001B[38;5;66;03m# (B, d)\u001B[39;00m\n\u001B[1;32m    181\u001B[0m \u001B[38;5;28;01massert\u001B[39;00m grads\u001B[38;5;241m.\u001B[39mshape[\u001B[38;5;241m1\u001B[39m] \u001B[38;5;241m==\u001B[39m \u001B[38;5;28mself\u001B[39m\u001B[38;5;241m.\u001B[39md\n\u001B[1;32m    183\u001B[0m \u001B[38;5;28mself\u001B[39m\u001B[38;5;241m.\u001B[39mrun_sum_next \u001B[38;5;241m+\u001B[39m\u001B[38;5;241m=\u001B[39m grads\u001B[38;5;241m.\u001B[39msum(axis\u001B[38;5;241m=\u001B[39m\u001B[38;5;241m0\u001B[39m)\n",
      "\u001B[0;31mOutOfMemoryError\u001B[0m: CUDA out of memory. Tried to allocate 2.31 GiB (GPU 0; 23.68 GiB total capacity; 20.85 GiB already allocated; 1.95 GiB free; 20.86 GiB reserved in total by PyTorch) If reserved memory is >> allocated memory try setting max_split_size_mb to avoid fragmentation.  See documentation for Memory Management and PYTORCH_CUDA_ALLOC_CONF"
     ]
    }
   ],
   "source": [
    "\n",
    "run_reordering(n, d, 5, balance='recursive')"
   ],
   "metadata": {
    "collapsed": false,
    "ExecuteTime": {
     "end_time": "2023-06-05T20:30:43.924220841Z",
     "start_time": "2023-06-05T20:30:43.878001508Z"
    }
   }
  },
  {
   "cell_type": "code",
   "execution_count": 16,
   "outputs": [
    {
     "name": "stdout",
     "output_type": "stream",
     "text": [
      "--------------------------------------------------\n",
      "n 20000 d 62000 miu 27.7 sigma 23\n",
      "rr done\n"
     ]
    },
    {
     "ename": "KeyboardInterrupt",
     "evalue": "",
     "output_type": "error",
     "traceback": [
      "\u001B[0;31m---------------------------------------------------------------------------\u001B[0m",
      "\u001B[0;31mKeyboardInterrupt\u001B[0m                         Traceback (most recent call last)",
      "Cell \u001B[0;32mIn[16], line 23\u001B[0m\n\u001B[1;32m     21\u001B[0m plt\u001B[38;5;241m.\u001B[39mplot(\u001B[38;5;28mrange\u001B[39m(\u001B[38;5;241m101\u001B[39m), run_reordering_rr(n, d, \u001B[38;5;241m100\u001B[39m), label\u001B[38;5;241m=\u001B[39m\u001B[38;5;124m'\u001B[39m\u001B[38;5;124mrr\u001B[39m\u001B[38;5;124m'\u001B[39m)\n\u001B[1;32m     22\u001B[0m \u001B[38;5;28mprint\u001B[39m(\u001B[38;5;124m'\u001B[39m\u001B[38;5;124mrr done\u001B[39m\u001B[38;5;124m'\u001B[39m)\n\u001B[0;32m---> 23\u001B[0m plt\u001B[38;5;241m.\u001B[39mplot(\u001B[38;5;28mrange\u001B[39m(\u001B[38;5;241m101\u001B[39m), \u001B[43mrun_reordering\u001B[49m\u001B[43m(\u001B[49m\u001B[43mn\u001B[49m\u001B[43m,\u001B[49m\u001B[43m \u001B[49m\u001B[43md\u001B[49m\u001B[43m,\u001B[49m\u001B[43m \u001B[49m\u001B[38;5;241;43m100\u001B[39;49m\u001B[43m,\u001B[49m\u001B[43m \u001B[49m\u001B[43mbalance\u001B[49m\u001B[38;5;241;43m=\u001B[39;49m\u001B[38;5;124;43m'\u001B[39;49m\u001B[38;5;124;43mmean\u001B[39;49m\u001B[38;5;124;43m'\u001B[39;49m\u001B[43m)\u001B[49m, label\u001B[38;5;241m=\u001B[39m\u001B[38;5;124m'\u001B[39m\u001B[38;5;124mmean\u001B[39m\u001B[38;5;124m'\u001B[39m)\n\u001B[1;32m     24\u001B[0m \u001B[38;5;28mprint\u001B[39m(\u001B[38;5;124m'\u001B[39m\u001B[38;5;124mmean done\u001B[39m\u001B[38;5;124m'\u001B[39m)\n\u001B[1;32m     25\u001B[0m \u001B[38;5;66;03m# plt.plot(range(101), run_reordering(n, d, 100, balance='recursive'), label='recursive')\u001B[39;00m\n\u001B[1;32m     26\u001B[0m \u001B[38;5;66;03m# print('recursive done')\u001B[39;00m\n",
      "Cell \u001B[0;32mIn[10], line 16\u001B[0m, in \u001B[0;36mrun_reordering\u001B[0;34m(n, d, epochs, balance)\u001B[0m\n\u001B[1;32m     14\u001B[0m \u001B[38;5;28;01mfor\u001B[39;00m epoch \u001B[38;5;129;01min\u001B[39;00m \u001B[38;5;28mrange\u001B[39m(epochs):\n\u001B[1;32m     15\u001B[0m     sorter\u001B[38;5;241m.\u001B[39mreset_epoch()\n\u001B[0;32m---> 16\u001B[0m     \u001B[43msorter\u001B[49m\u001B[38;5;241;43m.\u001B[39;49m\u001B[43mstep\u001B[49m\u001B[43m(\u001B[49m\u001B[43m{\u001B[49m\u001B[38;5;124;43m'\u001B[39;49m\u001B[38;5;124;43m'\u001B[39;49m\u001B[43m:\u001B[49m\u001B[43m \u001B[49m\u001B[43mV\u001B[49m\u001B[43m[\u001B[49m\u001B[43msorter\u001B[49m\u001B[38;5;241;43m.\u001B[39;49m\u001B[43morders\u001B[49m\u001B[43m]\u001B[49m\u001B[43m}\u001B[49m\u001B[43m)\u001B[49m\n\u001B[1;32m     17\u001B[0m     bounds\u001B[38;5;241m.\u001B[39mappend(herding_bound(V[sorter\u001B[38;5;241m.\u001B[39morders])\u001B[38;5;241m.\u001B[39mitem())\n\u001B[1;32m     18\u001B[0m sorter\u001B[38;5;241m.\u001B[39mreset_epoch()\n",
      "File \u001B[0;32m~/mambaforge/envs/grab/lib/python3.10/site-packages/torch/utils/_contextlib.py:115\u001B[0m, in \u001B[0;36mcontext_decorator.<locals>.decorate_context\u001B[0;34m(*args, **kwargs)\u001B[0m\n\u001B[1;32m    112\u001B[0m \u001B[38;5;129m@functools\u001B[39m\u001B[38;5;241m.\u001B[39mwraps(func)\n\u001B[1;32m    113\u001B[0m \u001B[38;5;28;01mdef\u001B[39;00m \u001B[38;5;21mdecorate_context\u001B[39m(\u001B[38;5;241m*\u001B[39margs, \u001B[38;5;241m*\u001B[39m\u001B[38;5;241m*\u001B[39mkwargs):\n\u001B[1;32m    114\u001B[0m     \u001B[38;5;28;01mwith\u001B[39;00m ctx_factory():\n\u001B[0;32m--> 115\u001B[0m         \u001B[38;5;28;01mreturn\u001B[39;00m \u001B[43mfunc\u001B[49m\u001B[43m(\u001B[49m\u001B[38;5;241;43m*\u001B[39;49m\u001B[43margs\u001B[49m\u001B[43m,\u001B[49m\u001B[43m \u001B[49m\u001B[38;5;241;43m*\u001B[39;49m\u001B[38;5;241;43m*\u001B[39;49m\u001B[43mkwargs\u001B[49m\u001B[43m)\u001B[49m\n",
      "File \u001B[0;32m~/projects/GraB/src/grabngo/sorter/MeanBalance.py:107\u001B[0m, in \u001B[0;36mMeanBalance.step\u001B[0;34m(self, per_sample_grads)\u001B[0m\n\u001B[1;32m    104\u001B[0m \u001B[38;5;28;01massert\u001B[39;00m grads\u001B[38;5;241m.\u001B[39mshape[\u001B[38;5;241m1\u001B[39m] \u001B[38;5;241m==\u001B[39m \u001B[38;5;28mself\u001B[39m\u001B[38;5;241m.\u001B[39md\n\u001B[1;32m    106\u001B[0m \u001B[38;5;28;01mfor\u001B[39;00m i \u001B[38;5;129;01min\u001B[39;00m \u001B[38;5;28mrange\u001B[39m(b):\n\u001B[0;32m--> 107\u001B[0m     \u001B[38;5;28;43mself\u001B[39;49m\u001B[38;5;241;43m.\u001B[39;49m\u001B[43msingle_step\u001B[49m\u001B[43m(\u001B[49m\u001B[43mgrads\u001B[49m\u001B[43m[\u001B[49m\u001B[43mi\u001B[49m\u001B[43m]\u001B[49m\u001B[43m)\u001B[49m\n",
      "File \u001B[0;32m~/mambaforge/envs/grab/lib/python3.10/site-packages/torch/utils/_contextlib.py:115\u001B[0m, in \u001B[0;36mcontext_decorator.<locals>.decorate_context\u001B[0;34m(*args, **kwargs)\u001B[0m\n\u001B[1;32m    112\u001B[0m \u001B[38;5;129m@functools\u001B[39m\u001B[38;5;241m.\u001B[39mwraps(func)\n\u001B[1;32m    113\u001B[0m \u001B[38;5;28;01mdef\u001B[39;00m \u001B[38;5;21mdecorate_context\u001B[39m(\u001B[38;5;241m*\u001B[39margs, \u001B[38;5;241m*\u001B[39m\u001B[38;5;241m*\u001B[39mkwargs):\n\u001B[1;32m    114\u001B[0m     \u001B[38;5;28;01mwith\u001B[39;00m ctx_factory():\n\u001B[0;32m--> 115\u001B[0m         \u001B[38;5;28;01mreturn\u001B[39;00m \u001B[43mfunc\u001B[49m\u001B[43m(\u001B[49m\u001B[38;5;241;43m*\u001B[39;49m\u001B[43margs\u001B[49m\u001B[43m,\u001B[49m\u001B[43m \u001B[49m\u001B[38;5;241;43m*\u001B[39;49m\u001B[38;5;241;43m*\u001B[39;49m\u001B[43mkwargs\u001B[49m\u001B[43m)\u001B[49m\n",
      "File \u001B[0;32m~/projects/GraB/src/grabngo/sorter/MeanBalance.py:80\u001B[0m, in \u001B[0;36mMeanBalance.single_step\u001B[0;34m(self, grad)\u001B[0m\n\u001B[1;32m     77\u001B[0m g \u001B[38;5;241m=\u001B[39m grad \u001B[38;5;241m-\u001B[39m \u001B[38;5;28mself\u001B[39m\u001B[38;5;241m.\u001B[39mrun_sum\n\u001B[1;32m     79\u001B[0m \u001B[38;5;66;03m# if epsilon_{k,t} == +1\u001B[39;00m\n\u001B[0;32m---> 80\u001B[0m \u001B[38;5;28;01mif\u001B[39;00m \u001B[38;5;28;43mself\u001B[39;49m\u001B[38;5;241;43m.\u001B[39;49m\u001B[43mbalance\u001B[49m\u001B[43m(\u001B[49m\u001B[43mg\u001B[49m\u001B[43m,\u001B[49m\u001B[43m \u001B[49m\u001B[38;5;28;43mself\u001B[39;49m\u001B[38;5;241;43m.\u001B[39;49m\u001B[43macc\u001B[49m\u001B[43m)\u001B[49m:\n\u001B[1;32m     81\u001B[0m     \u001B[38;5;28mself\u001B[39m\u001B[38;5;241m.\u001B[39mnext_orders[\u001B[38;5;28mself\u001B[39m\u001B[38;5;241m.\u001B[39mleft] \u001B[38;5;241m=\u001B[39m \u001B[38;5;28mself\u001B[39m\u001B[38;5;241m.\u001B[39morders[\u001B[38;5;28mself\u001B[39m\u001B[38;5;241m.\u001B[39midx]\n\u001B[1;32m     82\u001B[0m     \u001B[38;5;28mself\u001B[39m\u001B[38;5;241m.\u001B[39macc \u001B[38;5;241m+\u001B[39m\u001B[38;5;241m=\u001B[39m g\n",
      "File \u001B[0;32m~/projects/GraB/src/grabngo/sorter/SorterBase.py:13\u001B[0m, in \u001B[0;36mdeterministic_balance.<locals>.<lambda>\u001B[0;34m(z, s)\u001B[0m\n\u001B[1;32m      9\u001B[0m \u001B[38;5;28;01mdef\u001B[39;00m \u001B[38;5;21mdeterministic_balance\u001B[39m() \u001B[38;5;241m-\u001B[39m\u001B[38;5;241m>\u001B[39m Callable[[Tensor, Tensor], \u001B[38;5;28mbool\u001B[39m \u001B[38;5;241m|\u001B[39m Tensor]:\n\u001B[1;32m     10\u001B[0m     \u001B[38;5;66;03m# The following is equivalent to\u001B[39;00m\n\u001B[1;32m     11\u001B[0m     \u001B[38;5;66;03m# return 1 if torch.norm(aggregator + vec) <= torch.norm(aggregator - vec)\u001B[39;00m\n\u001B[1;32m     12\u001B[0m     \u001B[38;5;66;03m#   else -1\u001B[39;00m\n\u001B[0;32m---> 13\u001B[0m     \u001B[38;5;28;01mreturn\u001B[39;00m \u001B[38;5;28;01mlambda\u001B[39;00m z, s: \u001B[43mtorch\u001B[49m\u001B[38;5;241;43m.\u001B[39;49m\u001B[43minner\u001B[49m\u001B[43m(\u001B[49m\u001B[43ms\u001B[49m\u001B[43m,\u001B[49m\u001B[43m \u001B[49m\u001B[43mz\u001B[49m\u001B[43m)\u001B[49m \u001B[38;5;241m<\u001B[39m\u001B[38;5;241m=\u001B[39m \u001B[38;5;241m0\u001B[39m\n",
      "\u001B[0;31mKeyboardInterrupt\u001B[0m: "
     ]
    },
    {
     "data": {
      "text/plain": "<Figure size 640x480 with 1 Axes>",
      "image/png": "[encoded data removed]"
     },
     "metadata": {},
     "output_type": "display_data"
    }
   ],
   "source": [
    "def get_vecs(n, d, miu, sigma, dtype=torch.float16):\n",
    "    norms = torch.normal(miu, sigma, (n,))\n",
    "    V = torch.stack([\n",
    "        random_vector_with_2norm(d, e, dtype=dtype) for e in norms\n",
    "    ]).to(dtype=dtype, device='cuda')\n",
    "    return V - V.mean(dim=0)\n",
    "\n",
    "\n",
    "miu, sigma = 27.7, 23\n",
    "# for n in [1000, 5000, 10000, 20000]:\n",
    "for n in [20000]:\n",
    "    # for d in [128, 256, 1024]:\n",
    "    for d in [62000]:\n",
    "        print('-' * 50)\n",
    "        print(f'n {n} d {d} miu {miu} sigma {sigma}')\n",
    "        # V = get_vecs(n, d, miu, sigma, dtype=torch.float32)\n",
    "        V = get_vecs(n, d, miu, sigma, dtype=torch.float16)\n",
    "        # print(run_reordering_rr(n, d, 10))\n",
    "        # print(run_reordering(n, d, 10, balance='mean'))\n",
    "        # print(run_reordering(n, d, 10, balance='recursive'))\n",
    "        plt.plot(range(101), run_reordering_rr(n, d, 100), label='rr')\n",
    "        print('rr done')\n",
    "        plt.plot(range(101), run_reordering(n, d, 100, balance='mean'),\n",
    "                 label='mean')\n",
    "        print('mean done')\n",
    "        # plt.plot(range(101), run_reordering(n, d, 100, balance='recursive'), label='recursive')\n",
    "        # print('recursive done')\n",
    "\n",
    "        plt.show()\n",
    "        plt.clf()"
   ],
   "metadata": {
    "collapsed": false,
    "ExecuteTime": {
     "end_time": "2023-06-05T20:24:09.899896239Z",
     "start_time": "2023-06-05T20:23:11.415902733Z"
    }
   }
  },
  {
   "cell_type": "code",
   "execution_count": 19,
   "outputs": [
    {
     "data": {
      "text/plain": "(10000, 7894)"
     },
     "execution_count": 19,
     "metadata": {},
     "output_type": "execute_result"
    }
   ],
   "source": [
    "import numpy as np\n",
    "from sklearn import random_projection\n",
    "X = np.random.rand(10000, 10000)\n",
    "transformer = random_projection.GaussianRandomProjection()\n",
    "X_new = transformer.fit_transform(X)\n",
    "X_new.shape"
   ],
   "metadata": {
    "collapsed": false,
    "ExecuteTime": {
     "end_time": "2023-06-06T02:26:45.688678986Z",
     "start_time": "2023-06-06T02:26:37.579286744Z"
    }
   }
  },
  {
   "cell_type": "code",
   "execution_count": 16,
   "outputs": [
    {
     "name": "stdout",
     "output_type": "stream",
     "text": [
      "(3947, 62000)\n"
     ]
    },
    {
     "data": {
      "text/plain": "True"
     },
     "execution_count": 16,
     "metadata": {},
     "output_type": "execute_result"
    }
   ],
   "source": [
    "out = X@transformer.components_.T\n",
    "print(transformer.components_.shape)\n",
    "np.allclose(out, X_new)"
   ],
   "metadata": {
    "collapsed": false,
    "ExecuteTime": {
     "end_time": "2023-06-06T02:23:07.342457766Z",
     "start_time": "2023-06-06T02:23:07.144663374Z"
    }
   }
  },
  {
   "cell_type": "code",
   "execution_count": 11,
   "outputs": [
    {
     "name": "stdout",
     "output_type": "stream",
     "text": [
      "(100, 3947)\n"
     ]
    },
    {
     "data": {
      "text/plain": "0.010009070179883443"
     },
     "execution_count": 11,
     "metadata": {},
     "output_type": "execute_result"
    }
   ],
   "source": [
    "import numpy as np\n",
    "from sklearn.random_projection import SparseRandomProjection\n",
    "rng = np.random.RandomState(42)\n",
    "X = rng.rand(100, 10000)\n",
    "transformer = SparseRandomProjection(random_state=rng)\n",
    "X_new = transformer.fit_transform(X)\n",
    "print(X_new.shape)\n",
    "\n",
    "# very few components are non-zero\n",
    "np.mean(transformer.components_ != 0)"
   ],
   "metadata": {
    "collapsed": false,
    "ExecuteTime": {
     "end_time": "2023-06-06T02:13:28.997885739Z",
     "start_time": "2023-06-06T02:13:28.189838198Z"
    }
   }
  },
  {
   "cell_type": "code",
   "execution_count": 12,
   "outputs": [
    {
     "data": {
      "text/plain": "False"
     },
     "execution_count": 12,
     "metadata": {},
     "output_type": "execute_result"
    }
   ],
   "source": [
    "np.allclose(X_new, out)"
   ],
   "metadata": {
    "collapsed": false,
    "ExecuteTime": {
     "end_time": "2023-06-06T02:13:29.882389963Z",
     "start_time": "2023-06-06T02:13:29.874584031Z"
    }
   }
  },
  {
   "cell_type": "code",
   "execution_count": 13,
   "outputs": [
    {
     "name": "stdout",
     "output_type": "stream",
     "text": [
      "6.072493312562799\n",
      "823.4392297015628\n"
     ]
    }
   ],
   "source": [
    "diff = X_new - out\n",
    "print(np.max(diff))\n",
    "print(np.linalg.norm(diff))"
   ],
   "metadata": {
    "collapsed": false,
    "ExecuteTime": {
     "end_time": "2023-06-06T02:14:12.032740255Z",
     "start_time": "2023-06-06T02:14:11.996193344Z"
    }
   }
  },
  {
   "cell_type": "code",
   "execution_count": null,
   "outputs": [],
   "source": [],
   "metadata": {
    "collapsed": false
   }
  }
 ],
 "metadata": {
  "kernelspec": {
   "display_name": "Python 3",
   "language": "python",
   "name": "python3"
  },
  "language_info": {
   "codemirror_mode": {
    "name": "ipython",
    "version": 2
   },
   "file_extension": ".py",
   "mimetype": "text/x-python",
   "name": "python",
   "nbconvert_exporter": "python",
   "pygments_lexer": "ipython2",
   "version": "2.7.6"
  }
 },
 "nbformat": 4,
 "nbformat_minor": 0
}
