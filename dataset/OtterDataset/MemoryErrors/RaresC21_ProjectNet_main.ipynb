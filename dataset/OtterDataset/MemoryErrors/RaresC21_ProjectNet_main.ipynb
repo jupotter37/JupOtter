{
 "cells": [
  {
   "cell_type": "code",
   "execution_count": 29,
   "id": "a950ba5c-137e-4e49-9781-568a9e86908e",
   "metadata": {},
   "outputs": [
    {
     "name": "stdout",
     "output_type": "stream",
     "text": [
      "The autoreload extension is already loaded. To reload it, use:\n",
      "  %reload_ext autoreload\n"
     ]
    }
   ],
   "source": [
    "from constants import *\n",
    "from solver import SolveScheduling\n",
    "from get_data import *\n",
    "from train import * \n",
    "from models import *\n",
    "from projectnet import *\n",
    "import matplotlib.pyplot as plt\n",
    "\n",
    "import torch.nn.functional as F\n",
    "from exact_regularizer import RegApproximator\n",
    "from parameters import *\n",
    "\n",
    "import warnings\n",
    "warnings.filterwarnings('ignore')\n",
    "\n",
    "%load_ext autoreload\n",
    "%autoreload 2"
   ]
  },
  {
   "cell_type": "code",
   "execution_count": 34,
   "id": "cffdbde1-9d0b-4b9a-9bfe-191c3c2640c0",
   "metadata": {},
   "outputs": [],
   "source": [
    "params = {\"n\": 24, \"c_ramp\": 0.4, \"gamma_under\": 50, \"gamma_over\": 0.5}\n",
    "scheduling_solver = SolvePointQP(params)\n",
    "dist_solver = SolveScheduling(params)\n",
    "\n",
    "X_train, Y_train, X_test, Y_test, X_train_pt, Y_train_pt, X_test_pt, Y_test_pt = get_data() "
   ]
  },
  {
   "cell_type": "code",
   "execution_count": 35,
   "id": "c4d4bd01-2a35-4952-b071-18df7b0a6479",
   "metadata": {},
   "outputs": [],
   "source": [
    "def task_loss_no_quad(Y_sched, Y_actual, params):\n",
    "    return (params[\"gamma_under\"] * torch.clamp(Y_actual - Y_sched, min=0) + \n",
    "            params[\"gamma_over\"] * torch.clamp(Y_sched - Y_actual, min=0)).mean()\n",
    "def task_loss(Y_sched, Y_actual, params):\n",
    "    return (params[\"gamma_under\"] * torch.clamp(Y_actual - Y_sched, min=0) + \n",
    "            params[\"gamma_over\"] * torch.clamp(Y_sched - Y_actual, min=0) + 0.5 * torch.square(Y_sched - Y_actual)).mean(0)"
   ]
  },
  {
   "cell_type": "code",
   "execution_count": 36,
   "id": "2ff2aab5-bd3f-4a4a-99a7-aa57e443198a",
   "metadata": {},
   "outputs": [],
   "source": [
    "G = scheduling_solver.G[24*2:24*2+23*2,:]\n",
    "A = torch.cat((G, torch.eye(G.shape[0]).to(DEVICE)), dim=1).float().to(DEVICE)\n",
    "b = params['c_ramp'] * torch.ones((24 - 1)*2, device=DEVICE).float()"
   ]
  },
  {
   "cell_type": "code",
   "execution_count": 13,
   "id": "005d9d1a-19a5-4c09-8083-b55a114fe8db",
   "metadata": {
    "tags": []
   },
   "outputs": [
    {
     "data": {
      "text/plain": [
       "Net(\n",
       "  (lin): Linear(in_features=149, out_features=24, bias=True)\n",
       "  (net): Sequential(\n",
       "    (0): Linear(in_features=149, out_features=200, bias=True)\n",
       "    (1): BatchNorm1d(200, eps=1e-05, momentum=0.1, affine=True, track_running_stats=True)\n",
       "    (2): ReLU()\n",
       "    (3): Dropout(p=0.2, inplace=False)\n",
       "    (4): Linear(in_features=200, out_features=200, bias=True)\n",
       "    (5): BatchNorm1d(200, eps=1e-05, momentum=0.1, affine=True, track_running_stats=True)\n",
       "    (6): ReLU()\n",
       "    (7): Dropout(p=0.2, inplace=False)\n",
       "    (8): Linear(in_features=200, out_features=24, bias=True)\n",
       "  )\n",
       ")"
      ]
     },
     "execution_count": 13,
     "metadata": {},
     "output_type": "execute_result"
    }
   ],
   "source": [
    "mle_net = Net(X_train[:,:-1], Y_train, [200,200]).to(DEVICE)\n",
    "train_mle_net(mle_net, params, X_train_pt, Y_train_pt)"
   ]
  },
  {
   "cell_type": "code",
   "execution_count": 14,
   "id": "53457211-3203-4aaa-b7a8-619f3fbeb590",
   "metadata": {},
   "outputs": [],
   "source": [
    "Y_train_pt = mle_net(X_train_pt).detach()"
   ]
  },
  {
   "cell_type": "code",
   "execution_count": 15,
   "id": "365cf31f-54b9-4845-ae18-4d8e5f24e390",
   "metadata": {
    "tags": []
   },
   "outputs": [
    {
     "name": "stdout",
     "output_type": "stream",
     "text": [
      "epoch  0  mean loss:  0.17434079429278007  median  0.1719585731625557\n",
      "epoch  10  mean loss:  0.1652144506573677  median  0.1609617918729782\n",
      "epoch  20  mean loss:  0.16329305708408356  median  0.1584458351135254\n",
      "epoch  30  mean loss:  0.1609506705403328  median  0.15758977830410004\n"
     ]
    },
    {
     "ename": "KeyboardInterrupt",
     "evalue": "",
     "output_type": "error",
     "traceback": [
      "\u001b[0;31m---------------------------------------------------------------------------\u001b[0m",
      "\u001b[0;31mKeyboardInterrupt\u001b[0m                         Traceback (most recent call last)",
      "Cell \u001b[0;32mIn[15], line 2\u001b[0m\n\u001b[1;32m      1\u001b[0m learn_pnet \u001b[38;5;241m=\u001b[39m ProjectNet(A, b, \u001b[38;5;241m24\u001b[39m, params, rounds\u001b[38;5;241m=\u001b[39mrounds, step\u001b[38;5;241m=\u001b[39mstep_size)\u001b[38;5;241m.\u001b[39mto(DEVICE)\n\u001b[0;32m----> 2\u001b[0m \u001b[43mtrain_projectnet\u001b[49m\u001b[43m(\u001b[49m\u001b[43mlearn_pnet\u001b[49m\u001b[43m,\u001b[49m\u001b[43m \u001b[49m\u001b[43mY_train_pt\u001b[49m\u001b[43m,\u001b[49m\u001b[43m \u001b[49m\u001b[43mparams\u001b[49m\u001b[43m,\u001b[49m\u001b[43m \u001b[49m\u001b[43mlr\u001b[49m\u001b[38;5;241;43m=\u001b[39;49m\u001b[38;5;241;43m1e-3\u001b[39;49m\u001b[43m,\u001b[49m\u001b[43m \u001b[49m\u001b[43mepochs\u001b[49m\u001b[38;5;241;43m=\u001b[39;49m\u001b[38;5;241;43m500\u001b[39;49m\u001b[43m,\u001b[49m\u001b[43m \u001b[49m\u001b[43mverbose\u001b[49m\u001b[38;5;241;43m=\u001b[39;49m\u001b[38;5;28;43;01mTrue\u001b[39;49;00m\u001b[43m)\u001b[49m\n",
      "File \u001b[0;32m~/Rares/projectnet/electricity_problem/train.py:40\u001b[0m, in \u001b[0;36mtrain_projectnet\u001b[0;34m(model, Y_actual, params, epochs, rounds, lr, verbose)\u001b[0m\n\u001b[1;32m     37\u001b[0m loss \u001b[38;5;241m=\u001b[39m task_loss(outputs, y, params)\u001b[38;5;241m.\u001b[39mmean()\n\u001b[1;32m     39\u001b[0m cur_loss \u001b[38;5;241m=\u001b[39m loss\u001b[38;5;241m.\u001b[39mitem()\n\u001b[0;32m---> 40\u001b[0m \u001b[43mloss\u001b[49m\u001b[38;5;241;43m.\u001b[39;49m\u001b[43mbackward\u001b[49m\u001b[43m(\u001b[49m\u001b[43m)\u001b[49m\n\u001b[1;32m     42\u001b[0m optimizer\u001b[38;5;241m.\u001b[39mstep()       \n\u001b[1;32m     44\u001b[0m losses\u001b[38;5;241m.\u001b[39mappend(cur_loss)\n",
      "File \u001b[0;32m~/my-conda-envs/rares_env/lib/python3.12/site-packages/torch/_tensor.py:525\u001b[0m, in \u001b[0;36mTensor.backward\u001b[0;34m(self, gradient, retain_graph, create_graph, inputs)\u001b[0m\n\u001b[1;32m    515\u001b[0m \u001b[38;5;28;01mif\u001b[39;00m has_torch_function_unary(\u001b[38;5;28mself\u001b[39m):\n\u001b[1;32m    516\u001b[0m     \u001b[38;5;28;01mreturn\u001b[39;00m handle_torch_function(\n\u001b[1;32m    517\u001b[0m         Tensor\u001b[38;5;241m.\u001b[39mbackward,\n\u001b[1;32m    518\u001b[0m         (\u001b[38;5;28mself\u001b[39m,),\n\u001b[0;32m   (...)\u001b[0m\n\u001b[1;32m    523\u001b[0m         inputs\u001b[38;5;241m=\u001b[39minputs,\n\u001b[1;32m    524\u001b[0m     )\n\u001b[0;32m--> 525\u001b[0m \u001b[43mtorch\u001b[49m\u001b[38;5;241;43m.\u001b[39;49m\u001b[43mautograd\u001b[49m\u001b[38;5;241;43m.\u001b[39;49m\u001b[43mbackward\u001b[49m\u001b[43m(\u001b[49m\n\u001b[1;32m    526\u001b[0m \u001b[43m    \u001b[49m\u001b[38;5;28;43mself\u001b[39;49m\u001b[43m,\u001b[49m\u001b[43m \u001b[49m\u001b[43mgradient\u001b[49m\u001b[43m,\u001b[49m\u001b[43m \u001b[49m\u001b[43mretain_graph\u001b[49m\u001b[43m,\u001b[49m\u001b[43m \u001b[49m\u001b[43mcreate_graph\u001b[49m\u001b[43m,\u001b[49m\u001b[43m \u001b[49m\u001b[43minputs\u001b[49m\u001b[38;5;241;43m=\u001b[39;49m\u001b[43minputs\u001b[49m\n\u001b[1;32m    527\u001b[0m \u001b[43m\u001b[49m\u001b[43m)\u001b[49m\n",
      "File \u001b[0;32m~/my-conda-envs/rares_env/lib/python3.12/site-packages/torch/autograd/__init__.py:267\u001b[0m, in \u001b[0;36mbackward\u001b[0;34m(tensors, grad_tensors, retain_graph, create_graph, grad_variables, inputs)\u001b[0m\n\u001b[1;32m    262\u001b[0m     retain_graph \u001b[38;5;241m=\u001b[39m create_graph\n\u001b[1;32m    264\u001b[0m \u001b[38;5;66;03m# The reason we repeat the same comment below is that\u001b[39;00m\n\u001b[1;32m    265\u001b[0m \u001b[38;5;66;03m# some Python versions print out the first line of a multi-line function\u001b[39;00m\n\u001b[1;32m    266\u001b[0m \u001b[38;5;66;03m# calls in the traceback and some print out the last line\u001b[39;00m\n\u001b[0;32m--> 267\u001b[0m \u001b[43m_engine_run_backward\u001b[49m\u001b[43m(\u001b[49m\n\u001b[1;32m    268\u001b[0m \u001b[43m    \u001b[49m\u001b[43mtensors\u001b[49m\u001b[43m,\u001b[49m\n\u001b[1;32m    269\u001b[0m \u001b[43m    \u001b[49m\u001b[43mgrad_tensors_\u001b[49m\u001b[43m,\u001b[49m\n\u001b[1;32m    270\u001b[0m \u001b[43m    \u001b[49m\u001b[43mretain_graph\u001b[49m\u001b[43m,\u001b[49m\n\u001b[1;32m    271\u001b[0m \u001b[43m    \u001b[49m\u001b[43mcreate_graph\u001b[49m\u001b[43m,\u001b[49m\n\u001b[1;32m    272\u001b[0m \u001b[43m    \u001b[49m\u001b[43minputs\u001b[49m\u001b[43m,\u001b[49m\n\u001b[1;32m    273\u001b[0m \u001b[43m    \u001b[49m\u001b[43mallow_unreachable\u001b[49m\u001b[38;5;241;43m=\u001b[39;49m\u001b[38;5;28;43;01mTrue\u001b[39;49;00m\u001b[43m,\u001b[49m\n\u001b[1;32m    274\u001b[0m \u001b[43m    \u001b[49m\u001b[43maccumulate_grad\u001b[49m\u001b[38;5;241;43m=\u001b[39;49m\u001b[38;5;28;43;01mTrue\u001b[39;49;00m\u001b[43m,\u001b[49m\n\u001b[1;32m    275\u001b[0m \u001b[43m\u001b[49m\u001b[43m)\u001b[49m\n",
      "File \u001b[0;32m~/my-conda-envs/rares_env/lib/python3.12/site-packages/torch/autograd/graph.py:744\u001b[0m, in \u001b[0;36m_engine_run_backward\u001b[0;34m(t_outputs, *args, **kwargs)\u001b[0m\n\u001b[1;32m    742\u001b[0m     unregister_hooks \u001b[38;5;241m=\u001b[39m _register_logging_hooks_on_whole_graph(t_outputs)\n\u001b[1;32m    743\u001b[0m \u001b[38;5;28;01mtry\u001b[39;00m:\n\u001b[0;32m--> 744\u001b[0m     \u001b[38;5;28;01mreturn\u001b[39;00m \u001b[43mVariable\u001b[49m\u001b[38;5;241;43m.\u001b[39;49m\u001b[43m_execution_engine\u001b[49m\u001b[38;5;241;43m.\u001b[39;49m\u001b[43mrun_backward\u001b[49m\u001b[43m(\u001b[49m\u001b[43m  \u001b[49m\u001b[38;5;66;43;03m# Calls into the C++ engine to run the backward pass\u001b[39;49;00m\n\u001b[1;32m    745\u001b[0m \u001b[43m        \u001b[49m\u001b[43mt_outputs\u001b[49m\u001b[43m,\u001b[49m\u001b[43m \u001b[49m\u001b[38;5;241;43m*\u001b[39;49m\u001b[43margs\u001b[49m\u001b[43m,\u001b[49m\u001b[43m \u001b[49m\u001b[38;5;241;43m*\u001b[39;49m\u001b[38;5;241;43m*\u001b[39;49m\u001b[43mkwargs\u001b[49m\n\u001b[1;32m    746\u001b[0m \u001b[43m    \u001b[49m\u001b[43m)\u001b[49m  \u001b[38;5;66;03m# Calls into the C++ engine to run the backward pass\u001b[39;00m\n\u001b[1;32m    747\u001b[0m \u001b[38;5;28;01mfinally\u001b[39;00m:\n\u001b[1;32m    748\u001b[0m     \u001b[38;5;28;01mif\u001b[39;00m attach_logging_hooks:\n",
      "\u001b[0;31mKeyboardInterrupt\u001b[0m: "
     ]
    }
   ],
   "source": [
    "learn_pnet = ProjectNet(A, b, 24, params, rounds=rounds, step=step_size).to(DEVICE)\n",
    "train_projectnet(learn_pnet, Y_train_pt, params, lr=1e-3, epochs=500, verbose=True)"
   ]
  },
  {
   "cell_type": "code",
   "execution_count": 32,
   "id": "7f240557-a465-446d-9258-513e8c7580ba",
   "metadata": {
    "tags": []
   },
   "outputs": [],
   "source": [
    "opt_solutions = []\n",
    "batch_size = 10\n",
    "for k in range(0, (Y_train_pt.shape[0] // batch_size) * batch_size, batch_size):\n",
    "    d = scheduling_solver(Y_train_pt[k:k+batch_size,:]).detach().cpu().numpy()\n",
    "    opt_solutions.append(d)\n",
    "opt_solutions = np.array(opt_solutions)\n",
    "opt_solutions = np.array(opt_solutions).reshape(opt_solutions.shape[0] * opt_solutions.shape[1], 24)"
   ]
  },
  {
   "cell_type": "code",
   "execution_count": null,
   "id": "b5344f89-9c7d-4531-8e21-ae2529584868",
   "metadata": {},
   "outputs": [],
   "source": []
  },
  {
   "cell_type": "code",
   "execution_count": 33,
   "id": "ca9ed597-c17b-4fa6-8c06-7b01963b39a4",
   "metadata": {},
   "outputs": [],
   "source": [
    "reg_approximator = RegApproximator(opt_solutions)"
   ]
  },
  {
   "cell_type": "code",
   "execution_count": 34,
   "id": "07825c7e-5958-4bba-b9d4-a3cca45cae7c",
   "metadata": {
    "tags": []
   },
   "outputs": [],
   "source": [
    "# alpha = 0.1\n",
    "# reg_approximator.linear_par(alpha, beta, verbose=True)"
   ]
  },
  {
   "cell_type": "code",
   "execution_count": 35,
   "id": "c0656ad8-51ed-4560-acaf-5038cbf01449",
   "metadata": {
    "tags": []
   },
   "outputs": [],
   "source": [
    "alpha = 0.1\n",
    "beta = 0.2\n",
    "opt_L = reg_approximator.get_quadratic_regularizer(alpha, beta, verbose=False)"
   ]
  },
  {
   "cell_type": "code",
   "execution_count": 36,
   "id": "aeb93cd7-4589-4634-9073-1c879cfc7286",
   "metadata": {
    "tags": []
   },
   "outputs": [],
   "source": [
    "np.round(opt_L, 4);"
   ]
  },
  {
   "cell_type": "code",
   "execution_count": 37,
   "id": "2f385fe2-3e16-405c-a016-16ae0b5e1fc0",
   "metadata": {},
   "outputs": [
    {
     "data": {
      "text/plain": [
       "1.0000064810702265"
      ]
     },
     "execution_count": 37,
     "metadata": {},
     "output_type": "execute_result"
    }
   ],
   "source": [
    "np.linalg.cond(opt_L)"
   ]
  },
  {
   "cell_type": "code",
   "execution_count": 38,
   "id": "5ba1f4dc-7a73-46e1-99ec-14935c299f3b",
   "metadata": {
    "tags": []
   },
   "outputs": [],
   "source": [
    "rho = 0.005\n",
    "\n",
    "projectnet = ProjectNet(A, b, 24, params, rounds=100).to(DEVICE)\n",
    "projectnet.Q = torch.tensor(opt_L).to(DEVICE).float()\n",
    "projectnet.rho = rho"
   ]
  },
  {
   "cell_type": "code",
   "execution_count": 39,
   "id": "6af27888-d7f0-458e-9fa9-8bf8bf4b1878",
   "metadata": {},
   "outputs": [],
   "source": [
    "losses_fast = []\n",
    "losses_vanilla = []\n",
    "losses_learn = []\n",
    "rs = range(5,20, 1)\n",
    "l_rs = range(1,6)\n",
    "\n",
    "for rounds in rs:\n",
    "    outs = projectnet(Y_train_pt, rounds=rounds, xrho=0)\n",
    "    l_vanilla = task_loss_no_quad(outs, Y_train_pt, params)\n",
    "    \n",
    "    outs = projectnet(Y_train_pt, rounds=rounds, xrho=rho)\n",
    "    l = task_loss_no_quad(outs, Y_train_pt, params)\n",
    "    \n",
    "    losses_fast.append(l.item())\n",
    "    losses_vanilla.append(l_vanilla.item())\n",
    "\n",
    "for rounds in l_rs:\n",
    "    outs = learn_pnet(Y_train_pt, rounds=rounds, learn=True)\n",
    "    learn_l = task_loss_no_quad(outs, Y_train_pt, params)\n",
    "    losses_learn.append(learn_l.item())\n"
   ]
  },
  {
   "cell_type": "code",
   "execution_count": 40,
   "id": "1d2d290b-132c-4523-9f4c-83c7f13eb5f6",
   "metadata": {},
   "outputs": [
    {
     "data": {
      "image/png": "[encoded data removed]",
      "text/plain": [
       "<Figure size 640x480 with 1 Axes>"
      ]
     },
     "metadata": {},
     "output_type": "display_data"
    }
   ],
   "source": [
    "plt.plot(rs, losses_fast, label='reg')\n",
    "plt.plot(rs, losses_vanilla, label='vanilla')\n",
    "plt.plot([0,10], [losses_learn[-1],losses_learn[-1]] , label='learn')\n",
    "plt.legend()\n",
    "plt.show()"
   ]
  },
  {
   "cell_type": "code",
   "execution_count": null,
   "id": "da2604ba-93a8-45a3-b750-497a040e951f",
   "metadata": {},
   "outputs": [],
   "source": []
  },
  {
   "cell_type": "code",
   "execution_count": null,
   "id": "dfc45933-c4f5-4d90-8212-21f6a9402725",
   "metadata": {},
   "outputs": [],
   "source": []
  },
  {
   "cell_type": "code",
   "execution_count": 16,
   "id": "1d4ee9f1-35bb-44ad-b7e6-c1cf723d5147",
   "metadata": {
    "tags": []
   },
   "outputs": [
    {
     "data": {
      "text/plain": [
       "Net(\n",
       "  (lin): Linear(in_features=149, out_features=24, bias=True)\n",
       "  (net): Sequential(\n",
       "    (0): Linear(in_features=149, out_features=200, bias=True)\n",
       "    (1): BatchNorm1d(200, eps=1e-05, momentum=0.1, affine=True, track_running_stats=True)\n",
       "    (2): ReLU()\n",
       "    (3): Dropout(p=0.2, inplace=False)\n",
       "    (4): Linear(in_features=200, out_features=200, bias=True)\n",
       "    (5): BatchNorm1d(200, eps=1e-05, momentum=0.1, affine=True, track_running_stats=True)\n",
       "    (6): ReLU()\n",
       "    (7): Dropout(p=0.2, inplace=False)\n",
       "    (8): Linear(in_features=200, out_features=24, bias=True)\n",
       "  )\n",
       ")"
      ]
     },
     "execution_count": 16,
     "metadata": {},
     "output_type": "execute_result"
    }
   ],
   "source": [
    "mle_net = Net(X_train[:,:-1], Y_train, [200,200]).to(DEVICE)\n",
    "train_mle_net(mle_net, params, X_train_pt, Y_train_pt)"
   ]
  },
  {
   "cell_type": "code",
   "execution_count": 17,
   "id": "90155a03-142b-434b-a48f-43d7e303f010",
   "metadata": {
    "tags": []
   },
   "outputs": [],
   "source": [
    "rounds = 5"
   ]
  },
  {
   "cell_type": "code",
   "execution_count": 19,
   "id": "7a5ce4b2-dd4b-48d4-b96e-9bdf6e027fd6",
   "metadata": {
    "tags": []
   },
   "outputs": [
    {
     "ename": "OutOfMemoryError",
     "evalue": "CUDA out of memory. Tried to allocate 2.00 MiB. GPU ",
     "output_type": "error",
     "traceback": [
      "\u001b[0;31m---------------------------------------------------------------------------\u001b[0m",
      "\u001b[0;31mOutOfMemoryError\u001b[0m                          Traceback (most recent call last)",
      "Cell \u001b[0;32mIn[19], line 2\u001b[0m\n\u001b[1;32m      1\u001b[0m projectnet \u001b[38;5;241m=\u001b[39m ProjectNet(A, b, \u001b[38;5;241m24\u001b[39m, params, rounds\u001b[38;5;241m=\u001b[39mrounds)\u001b[38;5;241m.\u001b[39mto(DEVICE)\n\u001b[0;32m----> 2\u001b[0m \u001b[43mtrain_projectnet\u001b[49m\u001b[43m(\u001b[49m\u001b[43mprojectnet\u001b[49m\u001b[43m,\u001b[49m\u001b[43m \u001b[49m\u001b[43mmle_net\u001b[49m\u001b[43m(\u001b[49m\u001b[43mX_train_pt\u001b[49m\u001b[43m)\u001b[49m\u001b[38;5;241;43m.\u001b[39;49m\u001b[43mdetach\u001b[49m\u001b[43m(\u001b[49m\u001b[43m)\u001b[49m\u001b[43m,\u001b[49m\u001b[43m \u001b[49m\u001b[43mparams\u001b[49m\u001b[43m,\u001b[49m\u001b[43m \u001b[49m\u001b[43mepochs\u001b[49m\u001b[38;5;241;43m=\u001b[39;49m\u001b[38;5;241;43m50\u001b[39;49m\u001b[43m,\u001b[49m\u001b[43m \u001b[49m\u001b[43mverbose\u001b[49m\u001b[38;5;241;43m=\u001b[39;49m\u001b[38;5;28;43;01mTrue\u001b[39;49;00m\u001b[43m)\u001b[49m\n\u001b[1;32m      3\u001b[0m torch\u001b[38;5;241m.\u001b[39msave(projectnet\u001b[38;5;241m.\u001b[39mstate_dict(), \u001b[38;5;124m\"\u001b[39m\u001b[38;5;124msaved_models/projectnet\u001b[39m\u001b[38;5;132;01m{}\u001b[39;00m\u001b[38;5;124m.pt\u001b[39m\u001b[38;5;124m\"\u001b[39m\u001b[38;5;241m.\u001b[39mformat(params[\u001b[38;5;124m'\u001b[39m\u001b[38;5;124mc_ramp\u001b[39m\u001b[38;5;124m'\u001b[39m]))\n",
      "File \u001b[0;32m~/Rares/projectnet/electricity_problem/train.py:35\u001b[0m, in \u001b[0;36mtrain_projectnet\u001b[0;34m(model, Y_actual, params, epochs, rounds, lr, verbose)\u001b[0m\n\u001b[1;32m     32\u001b[0m y \u001b[38;5;241m=\u001b[39m Y_actual[i:i\u001b[38;5;241m+\u001b[39mbatch_size,:]\n\u001b[1;32m     34\u001b[0m optimizer\u001b[38;5;241m.\u001b[39mzero_grad()\n\u001b[0;32m---> 35\u001b[0m outputs \u001b[38;5;241m=\u001b[39m \u001b[43mmodel\u001b[49m\u001b[43m(\u001b[49m\u001b[43my\u001b[49m\u001b[43m)\u001b[49m\n\u001b[1;32m     37\u001b[0m loss \u001b[38;5;241m=\u001b[39m task_loss(outputs, y, params)\u001b[38;5;241m.\u001b[39mmean()\n\u001b[1;32m     39\u001b[0m cur_loss \u001b[38;5;241m=\u001b[39m loss\u001b[38;5;241m.\u001b[39mitem()\n",
      "File \u001b[0;32m~/my-conda-envs/rares_env/lib/python3.12/site-packages/torch/nn/modules/module.py:1532\u001b[0m, in \u001b[0;36mModule._wrapped_call_impl\u001b[0;34m(self, *args, **kwargs)\u001b[0m\n\u001b[1;32m   1530\u001b[0m     \u001b[38;5;28;01mreturn\u001b[39;00m \u001b[38;5;28mself\u001b[39m\u001b[38;5;241m.\u001b[39m_compiled_call_impl(\u001b[38;5;241m*\u001b[39margs, \u001b[38;5;241m*\u001b[39m\u001b[38;5;241m*\u001b[39mkwargs)  \u001b[38;5;66;03m# type: ignore[misc]\u001b[39;00m\n\u001b[1;32m   1531\u001b[0m \u001b[38;5;28;01melse\u001b[39;00m:\n\u001b[0;32m-> 1532\u001b[0m     \u001b[38;5;28;01mreturn\u001b[39;00m \u001b[38;5;28;43mself\u001b[39;49m\u001b[38;5;241;43m.\u001b[39;49m\u001b[43m_call_impl\u001b[49m\u001b[43m(\u001b[49m\u001b[38;5;241;43m*\u001b[39;49m\u001b[43margs\u001b[49m\u001b[43m,\u001b[49m\u001b[43m \u001b[49m\u001b[38;5;241;43m*\u001b[39;49m\u001b[38;5;241;43m*\u001b[39;49m\u001b[43mkwargs\u001b[49m\u001b[43m)\u001b[49m\n",
      "File \u001b[0;32m~/my-conda-envs/rares_env/lib/python3.12/site-packages/torch/nn/modules/module.py:1541\u001b[0m, in \u001b[0;36mModule._call_impl\u001b[0;34m(self, *args, **kwargs)\u001b[0m\n\u001b[1;32m   1536\u001b[0m \u001b[38;5;66;03m# If we don't have any hooks, we want to skip the rest of the logic in\u001b[39;00m\n\u001b[1;32m   1537\u001b[0m \u001b[38;5;66;03m# this function, and just call forward.\u001b[39;00m\n\u001b[1;32m   1538\u001b[0m \u001b[38;5;28;01mif\u001b[39;00m \u001b[38;5;129;01mnot\u001b[39;00m (\u001b[38;5;28mself\u001b[39m\u001b[38;5;241m.\u001b[39m_backward_hooks \u001b[38;5;129;01mor\u001b[39;00m \u001b[38;5;28mself\u001b[39m\u001b[38;5;241m.\u001b[39m_backward_pre_hooks \u001b[38;5;129;01mor\u001b[39;00m \u001b[38;5;28mself\u001b[39m\u001b[38;5;241m.\u001b[39m_forward_hooks \u001b[38;5;129;01mor\u001b[39;00m \u001b[38;5;28mself\u001b[39m\u001b[38;5;241m.\u001b[39m_forward_pre_hooks\n\u001b[1;32m   1539\u001b[0m         \u001b[38;5;129;01mor\u001b[39;00m _global_backward_pre_hooks \u001b[38;5;129;01mor\u001b[39;00m _global_backward_hooks\n\u001b[1;32m   1540\u001b[0m         \u001b[38;5;129;01mor\u001b[39;00m _global_forward_hooks \u001b[38;5;129;01mor\u001b[39;00m _global_forward_pre_hooks):\n\u001b[0;32m-> 1541\u001b[0m     \u001b[38;5;28;01mreturn\u001b[39;00m \u001b[43mforward_call\u001b[49m\u001b[43m(\u001b[49m\u001b[38;5;241;43m*\u001b[39;49m\u001b[43margs\u001b[49m\u001b[43m,\u001b[49m\u001b[43m \u001b[49m\u001b[38;5;241;43m*\u001b[39;49m\u001b[38;5;241;43m*\u001b[39;49m\u001b[43mkwargs\u001b[49m\u001b[43m)\u001b[49m\n\u001b[1;32m   1543\u001b[0m \u001b[38;5;28;01mtry\u001b[39;00m:\n\u001b[1;32m   1544\u001b[0m     result \u001b[38;5;241m=\u001b[39m \u001b[38;5;28;01mNone\u001b[39;00m\n",
      "File \u001b[0;32m~/Rares/projectnet/electricity_problem/projectnet.py:120\u001b[0m, in \u001b[0;36mProjectNet.forward\u001b[0;34m(self, c, rounds, tol, xrho, rho, factor)\u001b[0m\n\u001b[1;32m    117\u001b[0m     x \u001b[38;5;241m=\u001b[39m x \u001b[38;5;241m-\u001b[39m \u001b[38;5;28mself\u001b[39m\u001b[38;5;241m.\u001b[39mstep(x, c, xrho, rho)\n\u001b[1;32m    119\u001b[0m x \u001b[38;5;241m=\u001b[39m torch\u001b[38;5;241m.\u001b[39mcat((x, torch\u001b[38;5;241m.\u001b[39mzeros(x\u001b[38;5;241m.\u001b[39mshape[\u001b[38;5;241m0\u001b[39m], \u001b[38;5;28mself\u001b[39m\u001b[38;5;241m.\u001b[39mA\u001b[38;5;241m.\u001b[39mshape[\u001b[38;5;241m1\u001b[39m]\u001b[38;5;241m-\u001b[39mx\u001b[38;5;241m.\u001b[39mshape[\u001b[38;5;241m1\u001b[39m])\u001b[38;5;241m.\u001b[39mto(DEVICE)), \u001b[38;5;241m1\u001b[39m)\u001b[38;5;241m.\u001b[39mto(DEVICE)\u001b[38;5;241m.\u001b[39mfloat()            \n\u001b[0;32m--> 120\u001b[0m x \u001b[38;5;241m=\u001b[39m \u001b[43mproject_pol\u001b[49m\u001b[43m(\u001b[49m\u001b[38;5;28;43;01mNone\u001b[39;49;00m\u001b[43m,\u001b[49m\u001b[43m \u001b[49m\u001b[38;5;28;43mself\u001b[39;49m\u001b[38;5;241;43m.\u001b[39;49m\u001b[43mA\u001b[49m\u001b[43m,\u001b[49m\u001b[43m \u001b[49m\u001b[38;5;28;43mself\u001b[39;49m\u001b[38;5;241;43m.\u001b[39;49m\u001b[43mb\u001b[49m\u001b[43m,\u001b[49m\u001b[43m \u001b[49m\u001b[43mx\u001b[49m\u001b[43m,\u001b[49m\u001b[43m \u001b[49m\u001b[43mDEVICE\u001b[49m\u001b[43m,\u001b[49m\u001b[43m \u001b[49m\u001b[43mAA\u001b[49m\u001b[43m \u001b[49m\u001b[38;5;241;43m=\u001b[39;49m\u001b[43m \u001b[49m\u001b[38;5;28;43mself\u001b[39;49m\u001b[38;5;241;43m.\u001b[39;49m\u001b[43mAA\u001b[49m\u001b[43m,\u001b[49m\u001b[43m \u001b[49m\u001b[43mn\u001b[49m\u001b[43m \u001b[49m\u001b[38;5;241;43m=\u001b[39;49m\u001b[43m \u001b[49m\u001b[38;5;28;43mself\u001b[39;49m\u001b[38;5;241;43m.\u001b[39;49m\u001b[43mp_count\u001b[49m\u001b[43m,\u001b[49m\u001b[43m \u001b[49m\u001b[43mtol\u001b[49m\u001b[43m \u001b[49m\u001b[38;5;241;43m=\u001b[39;49m\u001b[43m \u001b[49m\u001b[43mtol\u001b[49m\u001b[43m,\u001b[49m\u001b[43m \u001b[49m\u001b[43moffset\u001b[49m\u001b[43m \u001b[49m\u001b[38;5;241;43m=\u001b[39;49m\u001b[43m \u001b[49m\u001b[38;5;28;43;01mNone\u001b[39;49;00m\u001b[43m)\u001b[49m[:,:\u001b[38;5;28mself\u001b[39m\u001b[38;5;241m.\u001b[39mdim]\n\u001b[1;32m    121\u001b[0m rho \u001b[38;5;241m=\u001b[39m rho \u001b[38;5;241m*\u001b[39m factor\n\u001b[1;32m    122\u001b[0m xrho \u001b[38;5;241m=\u001b[39m xrho \u001b[38;5;241m*\u001b[39m factor\n",
      "File \u001b[0;32m~/Rares/projectnet/electricity_problem/projectnet.py:31\u001b[0m, in \u001b[0;36mproject_pol\u001b[0;34m(P, A, b, x, DEVICE, n, AA, tol, offset)\u001b[0m\n\u001b[1;32m     29\u001b[0m \u001b[38;5;28;01mwhile\u001b[39;00m \u001b[38;5;28;01mTrue\u001b[39;00m:\n\u001b[1;32m     30\u001b[0m     cnter \u001b[38;5;241m+\u001b[39m\u001b[38;5;241m=\u001b[39m \u001b[38;5;241m1\u001b[39m\n\u001b[0;32m---> 31\u001b[0m     y \u001b[38;5;241m=\u001b[39m \u001b[43mproject\u001b[49m\u001b[43m(\u001b[49m\u001b[43mA\u001b[49m\u001b[43m,\u001b[49m\u001b[43m \u001b[49m\u001b[43mb\u001b[49m\u001b[43m,\u001b[49m\u001b[43m \u001b[49m\u001b[43mx\u001b[49m\u001b[43m \u001b[49m\u001b[38;5;241;43m+\u001b[39;49m\u001b[43m \u001b[49m\u001b[43mp\u001b[49m\u001b[43m,\u001b[49m\u001b[43m \u001b[49m\u001b[43mAA\u001b[49m\u001b[43m \u001b[49m\u001b[38;5;241;43m=\u001b[39;49m\u001b[43m \u001b[49m\u001b[43mAA\u001b[49m\u001b[43m)\u001b[49m\n\u001b[1;32m     32\u001b[0m     p \u001b[38;5;241m=\u001b[39m x \u001b[38;5;241m+\u001b[39m p \u001b[38;5;241m-\u001b[39m y       \n\u001b[1;32m     33\u001b[0m     x \u001b[38;5;241m=\u001b[39m F\u001b[38;5;241m.\u001b[39mrelu(y \u001b[38;5;241m+\u001b[39m q)\n",
      "File \u001b[0;32m~/Rares/projectnet/electricity_problem/projectnet.py:19\u001b[0m, in \u001b[0;36mproject\u001b[0;34m(A, b, x, AA)\u001b[0m\n\u001b[1;32m     17\u001b[0m \u001b[38;5;66;03m# a1 = torch.sparse.mm(A, x.T)\u001b[39;00m\n\u001b[1;32m     18\u001b[0m a1 \u001b[38;5;241m=\u001b[39m A \u001b[38;5;241m@\u001b[39m x\u001b[38;5;241m.\u001b[39mT\n\u001b[0;32m---> 19\u001b[0m \u001b[38;5;28;01mreturn\u001b[39;00m (\u001b[43mx\u001b[49m\u001b[38;5;241;43m.\u001b[39;49m\u001b[43mT\u001b[49m\u001b[43m \u001b[49m\u001b[38;5;241;43m-\u001b[39;49m\u001b[43m \u001b[49m\u001b[43mAA\u001b[49m\u001b[43m \u001b[49m\u001b[38;5;241;43m@\u001b[39;49m\u001b[43m \u001b[49m\u001b[43m(\u001b[49m\u001b[43ma1\u001b[49m\u001b[38;5;241;43m.\u001b[39;49m\u001b[43mT\u001b[49m\u001b[43m \u001b[49m\u001b[38;5;241;43m-\u001b[39;49m\u001b[43m \u001b[49m\u001b[43mb\u001b[49m\u001b[43m)\u001b[49m\u001b[38;5;241;43m.\u001b[39;49m\u001b[43mT\u001b[49m)\u001b[38;5;241m.\u001b[39mT\n",
      "\u001b[0;31mOutOfMemoryError\u001b[0m: CUDA out of memory. Tried to allocate 2.00 MiB. GPU "
     ]
    }
   ],
   "source": [
    "projectnet = ProjectNet(A, b, 24, params, rounds=rounds).to(DEVICE)\n",
    "train_projectnet(projectnet, mle_net(X_train_pt).detach(), params, epochs=50, verbose=True)\n",
    "torch.save(projectnet.state_dict(), \"saved_models/projectnet{}.pt\".format(params['c_ramp']))"
   ]
  },
  {
   "cell_type": "code",
   "execution_count": 66,
   "id": "f5a4e160-8b8d-4a30-9769-2d5fd21a7317",
   "metadata": {
    "collapsed": true,
    "jupyter": {
     "outputs_hidden": true
    },
    "tags": []
   },
   "outputs": [
    {
     "ename": "FileNotFoundError",
     "evalue": "[Errno 2] No such file or directory: 'saved_models/projectnet0.1.pt'",
     "output_type": "error",
     "traceback": [
      "\u001b[0;31m---------------------------------------------------------------------------\u001b[0m",
      "\u001b[0;31mFileNotFoundError\u001b[0m                         Traceback (most recent call last)",
      "Cell \u001b[0;32mIn[66], line 2\u001b[0m\n\u001b[1;32m      1\u001b[0m \u001b[38;5;66;03m# projectnet = ProjectNet(A, b, 24, rounds=5).to(DEVICE)\u001b[39;00m\n\u001b[0;32m----> 2\u001b[0m projectnet\u001b[38;5;241m.\u001b[39mload_state_dict(\u001b[43mtorch\u001b[49m\u001b[38;5;241;43m.\u001b[39;49m\u001b[43mload\u001b[49m\u001b[43m(\u001b[49m\u001b[38;5;124;43m\"\u001b[39;49m\u001b[38;5;124;43msaved_models/projectnet0.1.pt\u001b[39;49m\u001b[38;5;124;43m\"\u001b[39;49m\u001b[43m)\u001b[49m)\n",
      "File \u001b[0;32m~/my-conda-envs/rares_env/lib/python3.12/site-packages/torch/serialization.py:997\u001b[0m, in \u001b[0;36mload\u001b[0;34m(f, map_location, pickle_module, weights_only, mmap, **pickle_load_args)\u001b[0m\n\u001b[1;32m    994\u001b[0m \u001b[38;5;28;01mif\u001b[39;00m \u001b[38;5;124m'\u001b[39m\u001b[38;5;124mencoding\u001b[39m\u001b[38;5;124m'\u001b[39m \u001b[38;5;129;01mnot\u001b[39;00m \u001b[38;5;129;01min\u001b[39;00m pickle_load_args\u001b[38;5;241m.\u001b[39mkeys():\n\u001b[1;32m    995\u001b[0m     pickle_load_args[\u001b[38;5;124m'\u001b[39m\u001b[38;5;124mencoding\u001b[39m\u001b[38;5;124m'\u001b[39m] \u001b[38;5;241m=\u001b[39m \u001b[38;5;124m'\u001b[39m\u001b[38;5;124mutf-8\u001b[39m\u001b[38;5;124m'\u001b[39m\n\u001b[0;32m--> 997\u001b[0m \u001b[38;5;28;01mwith\u001b[39;00m \u001b[43m_open_file_like\u001b[49m\u001b[43m(\u001b[49m\u001b[43mf\u001b[49m\u001b[43m,\u001b[49m\u001b[43m \u001b[49m\u001b[38;5;124;43m'\u001b[39;49m\u001b[38;5;124;43mrb\u001b[39;49m\u001b[38;5;124;43m'\u001b[39;49m\u001b[43m)\u001b[49m \u001b[38;5;28;01mas\u001b[39;00m opened_file:\n\u001b[1;32m    998\u001b[0m     \u001b[38;5;28;01mif\u001b[39;00m _is_zipfile(opened_file):\n\u001b[1;32m    999\u001b[0m         \u001b[38;5;66;03m# The zipfile reader is going to advance the current file position.\u001b[39;00m\n\u001b[1;32m   1000\u001b[0m         \u001b[38;5;66;03m# If we want to actually tail call to torch.jit.load, we need to\u001b[39;00m\n\u001b[1;32m   1001\u001b[0m         \u001b[38;5;66;03m# reset back to the original position.\u001b[39;00m\n\u001b[1;32m   1002\u001b[0m         orig_position \u001b[38;5;241m=\u001b[39m opened_file\u001b[38;5;241m.\u001b[39mtell()\n",
      "File \u001b[0;32m~/my-conda-envs/rares_env/lib/python3.12/site-packages/torch/serialization.py:444\u001b[0m, in \u001b[0;36m_open_file_like\u001b[0;34m(name_or_buffer, mode)\u001b[0m\n\u001b[1;32m    442\u001b[0m \u001b[38;5;28;01mdef\u001b[39;00m \u001b[38;5;21m_open_file_like\u001b[39m(name_or_buffer, mode):\n\u001b[1;32m    443\u001b[0m     \u001b[38;5;28;01mif\u001b[39;00m _is_path(name_or_buffer):\n\u001b[0;32m--> 444\u001b[0m         \u001b[38;5;28;01mreturn\u001b[39;00m \u001b[43m_open_file\u001b[49m\u001b[43m(\u001b[49m\u001b[43mname_or_buffer\u001b[49m\u001b[43m,\u001b[49m\u001b[43m \u001b[49m\u001b[43mmode\u001b[49m\u001b[43m)\u001b[49m\n\u001b[1;32m    445\u001b[0m     \u001b[38;5;28;01melse\u001b[39;00m:\n\u001b[1;32m    446\u001b[0m         \u001b[38;5;28;01mif\u001b[39;00m \u001b[38;5;124m'\u001b[39m\u001b[38;5;124mw\u001b[39m\u001b[38;5;124m'\u001b[39m \u001b[38;5;129;01min\u001b[39;00m mode:\n",
      "File \u001b[0;32m~/my-conda-envs/rares_env/lib/python3.12/site-packages/torch/serialization.py:425\u001b[0m, in \u001b[0;36m_open_file.__init__\u001b[0;34m(self, name, mode)\u001b[0m\n\u001b[1;32m    424\u001b[0m \u001b[38;5;28;01mdef\u001b[39;00m \u001b[38;5;21m__init__\u001b[39m(\u001b[38;5;28mself\u001b[39m, name, mode):\n\u001b[0;32m--> 425\u001b[0m     \u001b[38;5;28msuper\u001b[39m()\u001b[38;5;241m.\u001b[39m\u001b[38;5;21m__init__\u001b[39m(\u001b[38;5;28;43mopen\u001b[39;49m\u001b[43m(\u001b[49m\u001b[43mname\u001b[49m\u001b[43m,\u001b[49m\u001b[43m \u001b[49m\u001b[43mmode\u001b[49m\u001b[43m)\u001b[49m)\n",
      "\u001b[0;31mFileNotFoundError\u001b[0m: [Errno 2] No such file or directory: 'saved_models/projectnet0.1.pt'"
     ]
    }
   ],
   "source": [
    "# projectnet = ProjectNet(A, b, 24, rounds=5).to(DEVICE)\n",
    "# projectnet.load_state_dict(torch.load(\"saved_models/projectnet{}.pt\".format(params['c_ramp'])))"
   ]
  },
  {
   "cell_type": "code",
   "execution_count": 22,
   "id": "5c2063c5-bfc5-4648-a589-d2852252b9a3",
   "metadata": {
    "collapsed": true,
    "jupyter": {
     "outputs_hidden": true
    },
    "tags": []
   },
   "outputs": [
    {
     "name": "stdout",
     "output_type": "stream",
     "text": [
      "epoch  0  mean loss:  3.9755948392244487  median  3.781075954437256 cur:  1.3339604139328003\n",
      "epoch  1  mean loss:  2.6845109701156615  median  2.1006016731262207 cur:  1.1829404830932617\n",
      "epoch  2  mean loss:  1.4345572209358215  median  1.6450846195220947 cur:  0.7328975200653076\n",
      "epoch  3  mean loss:  1.1463060581684112  median  1.4490913152694702 cur:  0.5920180082321167\n",
      "epoch  4  mean loss:  0.9871708887815476  median  1.3116450309753418 cur:  0.46538084745407104\n",
      "epoch  5  mean loss:  0.8187243214249611  median  1.177674412727356 cur:  0.3478233218193054\n",
      "epoch  6  mean loss:  0.7040427184104919  median  1.068730354309082 cur:  0.3444867730140686\n",
      "epoch  7  mean loss:  0.617328149676323  median  0.9836393892765045 cur:  0.25425514578819275\n",
      "epoch  8  mean loss:  0.5436446094512939  median  0.8949326872825623 cur:  0.21643410623073578\n",
      "epoch  9  mean loss:  0.5189338359236717  median  0.8517062962055206 cur:  0.2465420365333557\n",
      "epoch  10  mean loss:  0.49954450339078904  median  0.7858456671237946 cur:  0.19947104156017303\n",
      "epoch  11  mean loss:  0.4725271058082581  median  0.7382298409938812 cur:  0.18636879324913025\n",
      "epoch  12  mean loss:  0.4520257875323296  median  0.7058022320270538 cur:  0.17258332669734955\n",
      "epoch  13  mean loss:  0.4339626654982567  median  0.6696077287197113 cur:  0.16010764241218567\n",
      "epoch  14  mean loss:  0.41841632544994356  median  0.6370914578437805 cur:  0.14925892651081085\n",
      "epoch  15  mean loss:  0.40622491866350174  median  0.6190213263034821 cur:  0.14244617521762848\n",
      "epoch  16  mean loss:  0.39536726251244547  median  0.5937779247760773 cur:  0.13488760590553284\n",
      "epoch  17  mean loss:  0.3853509403765202  median  0.5747574865818024 cur:  0.12984177470207214\n",
      "epoch  18  mean loss:  0.3764897122979164  median  0.5579773485660553 cur:  0.12808597087860107\n",
      "epoch  19  mean loss:  0.3684433850646019  median  0.5442444682121277 cur:  0.12532827258110046\n",
      "epoch  20  mean loss:  0.3599830438196659  median  0.5296241044998169 cur:  0.12385056912899017\n",
      "epoch  21  mean loss:  0.352449214309454  median  0.5163561105728149 cur:  0.11923801898956299\n",
      "epoch  22  mean loss:  0.34565790861845014  median  0.5044669806957245 cur:  0.11655732989311218\n",
      "epoch  23  mean loss:  0.3388824544101954  median  0.4950898587703705 cur:  0.11378264427185059\n",
      "epoch  24  mean loss:  0.332331690788269  median  0.483763188123703 cur:  0.1124773621559143\n",
      "epoch  25  mean loss:  0.3256113188713789  median  0.47576263546943665 cur:  0.11110860109329224\n",
      "epoch  26  mean loss:  0.3188949527591467  median  0.4668503850698471 cur:  0.10830798000097275\n",
      "epoch  27  mean loss:  0.3127886065095663  median  0.45674750208854675 cur:  0.11042788624763489\n",
      "epoch  28  mean loss:  0.30828334249556066  median  0.44952093064785004 cur:  0.11153930425643921\n",
      "epoch  29  mean loss:  0.30192087635397913  median  0.44187304377555847 cur:  0.10681971162557602\n",
      "epoch  30  mean loss:  0.29428392633795736  median  0.43411585688591003 cur:  0.10817747563123703\n",
      "epoch  31  mean loss:  0.2886016081273556  median  0.42666563391685486 cur:  0.10797598958015442\n",
      "epoch  32  mean loss:  0.2827194868773222  median  0.41849252581596375 cur:  0.10840099304914474\n",
      "epoch  33  mean loss:  0.27629824824631216  median  0.4126647263765335 cur:  0.10918217152357101\n",
      "epoch  34  mean loss:  0.2705865953117609  median  0.4056241065263748 cur:  0.10856296122074127\n",
      "epoch  35  mean loss:  0.2654766377806663  median  0.3998914659023285 cur:  0.10892864316701889\n",
      "epoch  36  mean loss:  0.26025291323661803  median  0.3937879055738449 cur:  0.11045713722705841\n",
      "epoch  37  mean loss:  0.25638004526495933  median  0.3864952325820923 cur:  0.11986653506755829\n",
      "epoch  38  mean loss:  0.25286666214466097  median  0.37992002069950104 cur:  0.11793267726898193\n",
      "epoch  39  mean loss:  0.24862069569528103  median  0.3751373589038849 cur:  0.12002347409725189\n",
      "epoch  40  mean loss:  0.24530529789626598  median  0.3694329708814621 cur:  0.118894562125206\n",
      "epoch  41  mean loss:  0.24172457449138166  median  0.3635663837194443 cur:  0.11706642806529999\n",
      "epoch  42  mean loss:  0.23741554737091064  median  0.35856370627880096 cur:  0.11961394548416138\n",
      "epoch  43  mean loss:  0.23432617783546447  median  0.35351884365081787 cur:  0.10312151908874512\n",
      "epoch  44  mean loss:  0.23016050800681115  median  0.3481875956058502 cur:  0.11271121352910995\n",
      "epoch  45  mean loss:  0.22457473568618297  median  0.34498366713523865 cur:  0.10638266801834106\n",
      "epoch  46  mean loss:  0.22110999286174773  median  0.3403436839580536 cur:  0.11739903688430786\n",
      "epoch  47  mean loss:  0.21879311956465244  median  0.3368114233016968 cur:  0.106904998421669\n",
      "epoch  48  mean loss:  0.21775009632110595  median  0.332535058259964 cur:  0.1071072518825531\n",
      "epoch  49  mean loss:  0.21669432386755944  median  0.32740655541419983 cur:  0.10202424228191376\n",
      "MEAN LOSS PROJECT NET:  0.21669432386755944\n",
      "epoch  0  mean loss:  0.2677797841338011 time 1.7692980766296387\n",
      "test: 0.23773498088121414\n",
      "epoch  1  mean loss:  0.18561703597123808 time 1.7950570583343506\n",
      "test: 0.1906937857468923\n",
      "epoch  2  mean loss:  0.16959063995342988 time 1.8030258814493816\n",
      "test: 0.18763836224873862\n",
      "epoch  3  mean loss:  0.15992124034808233 time 1.7932566404342651\n",
      "test: 0.1837457170089086\n",
      "epoch  4  mean loss:  0.15123884437175897 time 1.788786268234253\n",
      "test: 0.16946479678153992\n",
      "epoch  5  mean loss:  0.1463000361736004 time 1.7760487000147502\n",
      "test: 0.16946008801460266\n",
      "epoch  6  mean loss:  0.1406072315115195 time 1.7733722073691232\n",
      "test: 0.1713880846897761\n",
      "epoch  7  mean loss:  0.13897117800437486 time 1.7682321965694427\n",
      "test: 0.1718034123380979\n",
      "epoch  8  mean loss:  0.1344810864673211 time 1.772516409556071\n",
      "test: 0.15895449370145798\n",
      "epoch  9  mean loss:  0.13822197541594505 time 1.7597754716873169\n",
      "test: 0.16001257300376892\n",
      "epoch  10  mean loss:  0.13419008541565675 time 1.7587639418515293\n",
      "test: 0.16487416625022888\n",
      "epoch  11  mean loss:  0.13021715701772615 time 1.7557058135668437\n",
      "test: 0.1562939335902532\n",
      "epoch  12  mean loss:  0.12978843198372766 time 1.7553212826068585\n",
      "test: 0.16050052642822266\n",
      "epoch  13  mean loss:  0.13650288289556137 time 1.756196413721357\n",
      "test: 0.16581772764523825\n",
      "epoch  14  mean loss:  0.128077227049149 time 1.7622402509053547\n",
      "test: 0.1591658890247345\n",
      "epoch  15  mean loss:  0.1274557767006067 time 1.762883484363556\n",
      "test: 0.15029361099004745\n",
      "epoch  16  mean loss:  0.12418618483039048 time 1.7616241679472082\n",
      "test: 0.15040806432565054\n",
      "epoch  17  mean loss:  0.1247765224140424 time 1.7612823645273845\n",
      "test: 0.1421725352605184\n",
      "epoch  18  mean loss:  0.11917233581726368 time 1.7644694729855186\n",
      "test: 0.15286749601364136\n",
      "epoch  19  mean loss:  0.11998708660785969 time 1.7656577587127686\n",
      "test: 0.14988490690787634\n",
      "epoch  20  mean loss:  0.12441384677703564 time 1.7659385771978469\n",
      "test: 0.14889446397622427\n",
      "epoch  21  mean loss:  0.12007382483436511 time 1.7678963487798518\n",
      "test: 0.14903158446153006\n",
      "epoch  22  mean loss:  0.12146610422776295 time 1.7695624413697615\n",
      "test: 0.15008894354104996\n",
      "epoch  23  mean loss:  0.12523611147816366 time 1.7656348049640656\n",
      "test: 0.1447677438457807\n",
      "epoch  24  mean loss:  0.11743138272028703 time 1.7678902244567871\n",
      "test: 0.1425269196430842\n",
      "epoch  25  mean loss:  0.11345351888583256 time 1.7649241135670588\n",
      "test: 0.1551497479279836\n",
      "epoch  26  mean loss:  0.11141609572447263 time 1.7653368755623147\n",
      "test: 0.14449094980955124\n",
      "epoch  27  mean loss:  0.11496856063604355 time 1.7660709874970573\n",
      "test: 0.14534099648396173\n",
      "epoch  28  mean loss:  0.11299247896442047 time 1.764598114737149\n",
      "test: 0.14255745708942413\n",
      "epoch  29  mean loss:  0.1118994693343456 time 1.764012130101522\n",
      "test: 0.1347558672229449\n",
      "epoch  30  mean loss:  0.11519927216263917 time 1.7664529815796883\n",
      "test: 0.14415906618038812\n",
      "epoch  31  mean loss:  0.11483673722698139 time 1.7685693725943565\n",
      "test: 0.15367928395668665\n",
      "epoch  32  mean loss:  0.11747237868033923 time 1.7711323319059429\n",
      "test: 0.14553041011095047\n",
      "epoch  33  mean loss:  0.12298153082911785 time 1.7718471919789034\n",
      "test: 0.13383099933465323\n",
      "epoch  34  mean loss:  0.11565721722749564 time 1.7723119735717774\n",
      "test: 0.14368540793657303\n",
      "epoch  35  mean loss:  0.12256121291564061 time 1.774266050921546\n",
      "test: 0.14746629695097604\n",
      "epoch  36  mean loss:  0.1278710952745034 time 1.7761037800763104\n",
      "test: 0.1607085441549619\n",
      "epoch  37  mean loss:  0.13137705967976496 time 1.7753537328619706\n",
      "test: 0.15011307348807654\n",
      "epoch  38  mean loss:  0.12286349185384236 time 1.775363530868139\n",
      "test: 0.13819916049639383\n",
      "epoch  39  mean loss:  0.1157136456324504 time 1.7749960720539093\n",
      "test: 0.14466665188471475\n",
      "epoch  40  mean loss:  0.12322640189757714 time 1.7761567453058755\n",
      "test: 0.15238185226917267\n",
      "epoch  41  mean loss:  0.11556970414060813 time 1.778038081668672\n",
      "test: 0.164211576183637\n",
      "epoch  42  mean loss:  0.11663079319091943 time 1.780871723973474\n",
      "test: 0.15674296766519547\n",
      "epoch  43  mean loss:  0.1120867571578576 time 1.7839705077084629\n",
      "test: 0.14790011445681253\n",
      "epoch  44  mean loss:  0.10823517407362278 time 1.786353381474813\n",
      "test: 0.14089821775754294\n",
      "epoch  45  mean loss:  0.10572819956220113 time 1.7865529008533643\n",
      "test: 0.1372170423467954\n",
      "epoch  46  mean loss:  0.10646865688837491 time 1.7889526194714485\n",
      "test: 0.13011589149634042\n",
      "epoch  47  mean loss:  0.10630739422944877 time 1.7918941626946132\n",
      "test: 0.13764806340138117\n",
      "epoch  48  mean loss:  0.10901087006697288 time 1.7936748533832783\n",
      "test: 0.14131978650887808\n",
      "epoch  49  mean loss:  0.10625618151747264 time 1.7957091951370239\n",
      "test: 0.13922438770532608\n"
     ]
    }
   ],
   "source": [
    "# projectnet.eval()\n",
    "# model_pnet = Net(X_train[:,:-1], Y_train, [200,200]).to(DEVICE)\n",
    "# train_with_pnet(model_pnet, projectnet, X_train_pt, Y_train_pt, params, rounds=rounds, epochs=50, lr=1e-4)\n",
    "\n",
    "projectnet = ProjectNet(A, b, 24, rounds=rounds).to(DEVICE)\n",
    "train_projectnet(projectnet, model_pnet(X_train_pt).detach(), params, epochs=50, verbose=True)\n",
    "torch.save(projectnet.state_dict(), \"saved_models/projectnet{}.pt\".format(params['c_ramp']))\n",
    "\n",
    "train_with_pnet(model_pnet, projectnet, X_train_pt, Y_train_pt, X_test_pt, Y_test_pt, params, rounds=rounds, epochs=50, lr=1e-4)\n",
    "torch.save(model_pnet.state_dict(), \"saved_models/model_pnet{}.pt\".format(params['c_ramp']))"
   ]
  },
  {
   "cell_type": "code",
   "execution_count": 7,
   "id": "93f68a2f-c551-4371-b64b-717de9d9896e",
   "metadata": {},
   "outputs": [
    {
     "data": {
      "text/plain": [
       "<All keys matched successfully>"
      ]
     },
     "execution_count": 7,
     "metadata": {},
     "output_type": "execute_result"
    }
   ],
   "source": [
    "# model_pnet = Net(X_train[:,:-1], Y_train, [200,200]).to(DEVICE)\n",
    "# model_pnet.load_state_dict(torch.load(\"saved_models/model_pnet{}.pt\".format(params['c_ramp'])))"
   ]
  },
  {
   "cell_type": "code",
   "execution_count": 35,
   "id": "576f9ef8-e726-49af-8f6e-c8ac9425c553",
   "metadata": {},
   "outputs": [],
   "source": [
    "net_costs = []\n",
    "batch_size = 100\n",
    "for k in range(X_test_pt.shape[0] // batch_size):\n",
    "    p = model_pnet(X_test_pt[k:k+batch_size,:]).detach()\n",
    "    d = projectnet(p, rounds=5)\n",
    "    cost_test = task_loss_no_mean(d, Y_test_pt[k:k+batch_size,:], params).detach().cpu().numpy()\n",
    "    net_costs.append(cost_test)\n",
    "    # test_costs.append(cost_test.item())"
   ]
  },
  {
   "cell_type": "code",
   "execution_count": 34,
   "id": "6b40292e-947f-4430-a59a-3091cde953c3",
   "metadata": {},
   "outputs": [
    {
     "data": {
      "text/plain": [
       "0.12967134"
      ]
     },
     "execution_count": 34,
     "metadata": {},
     "output_type": "execute_result"
    }
   ],
   "source": []
  },
  {
   "cell_type": "code",
   "execution_count": null,
   "id": "0584212a-c009-4123-a3cd-f736499cafbe",
   "metadata": {},
   "outputs": [],
   "source": []
  },
  {
   "cell_type": "code",
   "execution_count": 40,
   "id": "dddde1dd-3211-47a4-960b-4c49c0956d92",
   "metadata": {
    "collapsed": true,
    "jupyter": {
     "outputs_hidden": true
    },
    "tags": []
   },
   "outputs": [
    {
     "name": "stdout",
     "output_type": "stream",
     "text": [
      "epoch: 0 loss: 1.088060181465372 times: 4.884171009063721\n",
      "epoch: 1 loss: 0.6977876323542003 times: 4.529343485832214\n",
      "epoch: 2 loss: 0.5326055353443352 times: 4.42710812886556\n",
      "epoch: 3 loss: 0.3799557798379459 times: 4.338723242282867\n",
      "epoch: 4 loss: 0.19606187066658085 times: 4.351590776443482\n",
      "epoch: 5 loss: 0.15748188898912577 times: 4.351741353670756\n",
      "epoch: 6 loss: 0.1388378126489515 times: 4.330759627478463\n",
      "epoch: 7 loss: 0.1271815735039942 times: 4.305385202169418\n",
      "epoch: 8 loss: 0.11884414673577048 times: 4.279562791188558\n",
      "epoch: 9 loss: 0.11304340765164943 times: 4.269331979751587\n",
      "epoch: 10 loss: 0.10816049432553519 times: 4.257039286873558\n",
      "epoch: 11 loss: 0.10339452177191127 times: 4.246160288651784\n",
      "epoch: 12 loss: 0.09991083540047838 times: 4.234397191267747\n",
      "epoch: 13 loss: 0.09691238262828517 times: 4.2216789211545676\n",
      "epoch: 14 loss: 0.09427753811226289 times: 4.214192708333333\n"
     ]
    },
    {
     "ename": "KeyboardInterrupt",
     "evalue": "",
     "output_type": "error",
     "traceback": [
      "\u001b[0;31m---------------------------------------------------------------------------\u001b[0m",
      "\u001b[0;31mKeyboardInterrupt\u001b[0m                         Traceback (most recent call last)",
      "Cell \u001b[0;32mIn[40], line 3\u001b[0m\n\u001b[1;32m      1\u001b[0m task_net \u001b[38;5;241m=\u001b[39m Net(X_train[:,:\u001b[38;5;241m-\u001b[39m\u001b[38;5;241m1\u001b[39m], Y_train, [\u001b[38;5;241m200\u001b[39m,\u001b[38;5;241m200\u001b[39m])\u001b[38;5;241m.\u001b[39mto(DEVICE)\n\u001b[1;32m      2\u001b[0m task_net\u001b[38;5;241m.\u001b[39mload_state_dict(torch\u001b[38;5;241m.\u001b[39mload(\u001b[38;5;124m\"\u001b[39m\u001b[38;5;124msaved_models/model_pnet\u001b[39m\u001b[38;5;132;01m{}\u001b[39;00m\u001b[38;5;124m.pt\u001b[39m\u001b[38;5;124m\"\u001b[39m\u001b[38;5;241m.\u001b[39mformat(params[\u001b[38;5;124m'\u001b[39m\u001b[38;5;124mc_ramp\u001b[39m\u001b[38;5;124m'\u001b[39m])))\n\u001b[0;32m----> 3\u001b[0m \u001b[43mtrain_task_net\u001b[49m\u001b[43m(\u001b[49m\u001b[43mtask_net\u001b[49m\u001b[43m,\u001b[49m\u001b[43m \u001b[49m\u001b[43mparams\u001b[49m\u001b[43m,\u001b[49m\u001b[43m \u001b[49m\u001b[43mX_train_pt\u001b[49m\u001b[43m,\u001b[49m\u001b[43m \u001b[49m\u001b[43mY_train_pt\u001b[49m\u001b[43m)\u001b[49m\n\u001b[1;32m      4\u001b[0m \u001b[38;5;66;03m# torch.save(task_net.state_dict(), \"saved_models/task_net.pt\")\u001b[39;00m\n",
      "File \u001b[0;32m~/Rares/projectnet/electricity_problem/train.py:157\u001b[0m, in \u001b[0;36mtrain_task_net\u001b[0;34m(model, params, X_train, Y_train)\u001b[0m\n\u001b[1;32m    155\u001b[0m mu_pred \u001b[38;5;241m=\u001b[39m model(X)\n\u001b[1;32m    156\u001b[0m \u001b[38;5;66;03m# y_sched = solver(mu_pred.double(), sig_pred.double())\u001b[39;00m\n\u001b[0;32m--> 157\u001b[0m y_sched \u001b[38;5;241m=\u001b[39m \u001b[43msolver\u001b[49m\u001b[43m(\u001b[49m\u001b[43mmu_pred\u001b[49m\u001b[38;5;241;43m.\u001b[39;49m\u001b[43mdouble\u001b[49m\u001b[43m(\u001b[49m\u001b[43m)\u001b[49m\u001b[43m)\u001b[49m\n\u001b[1;32m    158\u001b[0m loss \u001b[38;5;241m=\u001b[39m task_loss(y_sched, Y, params)\u001b[38;5;241m.\u001b[39mmean()\n\u001b[1;32m    160\u001b[0m loss\u001b[38;5;241m.\u001b[39mbackward()\n",
      "File \u001b[0;32m~/my-conda-envs/rares_env/lib/python3.12/site-packages/torch/nn/modules/module.py:1532\u001b[0m, in \u001b[0;36mModule._wrapped_call_impl\u001b[0;34m(self, *args, **kwargs)\u001b[0m\n\u001b[1;32m   1530\u001b[0m     \u001b[38;5;28;01mreturn\u001b[39;00m \u001b[38;5;28mself\u001b[39m\u001b[38;5;241m.\u001b[39m_compiled_call_impl(\u001b[38;5;241m*\u001b[39margs, \u001b[38;5;241m*\u001b[39m\u001b[38;5;241m*\u001b[39mkwargs)  \u001b[38;5;66;03m# type: ignore[misc]\u001b[39;00m\n\u001b[1;32m   1531\u001b[0m \u001b[38;5;28;01melse\u001b[39;00m:\n\u001b[0;32m-> 1532\u001b[0m     \u001b[38;5;28;01mreturn\u001b[39;00m \u001b[38;5;28;43mself\u001b[39;49m\u001b[38;5;241;43m.\u001b[39;49m\u001b[43m_call_impl\u001b[49m\u001b[43m(\u001b[49m\u001b[38;5;241;43m*\u001b[39;49m\u001b[43margs\u001b[49m\u001b[43m,\u001b[49m\u001b[43m \u001b[49m\u001b[38;5;241;43m*\u001b[39;49m\u001b[38;5;241;43m*\u001b[39;49m\u001b[43mkwargs\u001b[49m\u001b[43m)\u001b[49m\n",
      "File \u001b[0;32m~/my-conda-envs/rares_env/lib/python3.12/site-packages/torch/nn/modules/module.py:1541\u001b[0m, in \u001b[0;36mModule._call_impl\u001b[0;34m(self, *args, **kwargs)\u001b[0m\n\u001b[1;32m   1536\u001b[0m \u001b[38;5;66;03m# If we don't have any hooks, we want to skip the rest of the logic in\u001b[39;00m\n\u001b[1;32m   1537\u001b[0m \u001b[38;5;66;03m# this function, and just call forward.\u001b[39;00m\n\u001b[1;32m   1538\u001b[0m \u001b[38;5;28;01mif\u001b[39;00m \u001b[38;5;129;01mnot\u001b[39;00m (\u001b[38;5;28mself\u001b[39m\u001b[38;5;241m.\u001b[39m_backward_hooks \u001b[38;5;129;01mor\u001b[39;00m \u001b[38;5;28mself\u001b[39m\u001b[38;5;241m.\u001b[39m_backward_pre_hooks \u001b[38;5;129;01mor\u001b[39;00m \u001b[38;5;28mself\u001b[39m\u001b[38;5;241m.\u001b[39m_forward_hooks \u001b[38;5;129;01mor\u001b[39;00m \u001b[38;5;28mself\u001b[39m\u001b[38;5;241m.\u001b[39m_forward_pre_hooks\n\u001b[1;32m   1539\u001b[0m         \u001b[38;5;129;01mor\u001b[39;00m _global_backward_pre_hooks \u001b[38;5;129;01mor\u001b[39;00m _global_backward_hooks\n\u001b[1;32m   1540\u001b[0m         \u001b[38;5;129;01mor\u001b[39;00m _global_forward_hooks \u001b[38;5;129;01mor\u001b[39;00m _global_forward_pre_hooks):\n\u001b[0;32m-> 1541\u001b[0m     \u001b[38;5;28;01mreturn\u001b[39;00m \u001b[43mforward_call\u001b[49m\u001b[43m(\u001b[49m\u001b[38;5;241;43m*\u001b[39;49m\u001b[43margs\u001b[49m\u001b[43m,\u001b[49m\u001b[43m \u001b[49m\u001b[38;5;241;43m*\u001b[39;49m\u001b[38;5;241;43m*\u001b[39;49m\u001b[43mkwargs\u001b[49m\u001b[43m)\u001b[49m\n\u001b[1;32m   1543\u001b[0m \u001b[38;5;28;01mtry\u001b[39;00m:\n\u001b[1;32m   1544\u001b[0m     result \u001b[38;5;241m=\u001b[39m \u001b[38;5;28;01mNone\u001b[39;00m\n",
      "File \u001b[0;32m~/Rares/projectnet/electricity_problem/solver.py:197\u001b[0m, in \u001b[0;36mSolvePointQP.forward\u001b[0;34m(self, pred)\u001b[0m\n\u001b[1;32m    193\u001b[0m ramp_h \u001b[38;5;241m=\u001b[39m ramp_h\u001b[38;5;241m.\u001b[39munsqueeze(\u001b[38;5;241m0\u001b[39m)\u001b[38;5;241m.\u001b[39mexpand(nBatch, ramp_h\u001b[38;5;241m.\u001b[39msize(\u001b[38;5;241m0\u001b[39m))\n\u001b[1;32m    195\u001b[0m h \u001b[38;5;241m=\u001b[39m torch\u001b[38;5;241m.\u001b[39mcat((pred, \u001b[38;5;241m-\u001b[39mpred, ramp_h, torch\u001b[38;5;241m.\u001b[39mzeros(nBatch, \u001b[38;5;28mself\u001b[39m\u001b[38;5;241m.\u001b[39mn_vars, device\u001b[38;5;241m=\u001b[39mDEVICE)), \u001b[38;5;241m1\u001b[39m)\n\u001b[0;32m--> 197\u001b[0m \u001b[38;5;28;01mreturn\u001b[39;00m \u001b[43mQPFunction\u001b[49m\u001b[43m(\u001b[49m\u001b[43mverbose\u001b[49m\u001b[38;5;241;43m=\u001b[39;49m\u001b[38;5;28;43;01mFalse\u001b[39;49;00m\u001b[43m)\u001b[49m\u001b[43m(\u001b[49m\u001b[38;5;28;43mself\u001b[39;49m\u001b[38;5;241;43m.\u001b[39;49m\u001b[43mQ\u001b[49m\u001b[43m,\u001b[49m\u001b[43m \u001b[49m\u001b[38;5;28;43mself\u001b[39;49m\u001b[38;5;241;43m.\u001b[39;49m\u001b[43mp\u001b[49m\u001b[43m,\u001b[49m\u001b[43m \u001b[49m\u001b[43mG\u001b[49m\u001b[43m,\u001b[49m\u001b[43m \u001b[49m\u001b[43mh\u001b[49m\u001b[43m,\u001b[49m\u001b[43m \u001b[49m\u001b[38;5;28;43mself\u001b[39;49m\u001b[38;5;241;43m.\u001b[39;49m\u001b[43me\u001b[49m\u001b[43m,\u001b[49m\u001b[43m \u001b[49m\u001b[38;5;28;43mself\u001b[39;49m\u001b[38;5;241;43m.\u001b[39;49m\u001b[43me\u001b[49m\u001b[43m)\u001b[49m[:,:\u001b[38;5;28mself\u001b[39m\u001b[38;5;241m.\u001b[39mn]\n",
      "File \u001b[0;32m~/my-conda-envs/rares_env/lib/python3.12/site-packages/torch/autograd/function.py:598\u001b[0m, in \u001b[0;36mFunction.apply\u001b[0;34m(cls, *args, **kwargs)\u001b[0m\n\u001b[1;32m    595\u001b[0m \u001b[38;5;28;01mif\u001b[39;00m \u001b[38;5;129;01mnot\u001b[39;00m torch\u001b[38;5;241m.\u001b[39m_C\u001b[38;5;241m.\u001b[39m_are_functorch_transforms_active():\n\u001b[1;32m    596\u001b[0m     \u001b[38;5;66;03m# See NOTE: [functorch vjp and autograd interaction]\u001b[39;00m\n\u001b[1;32m    597\u001b[0m     args \u001b[38;5;241m=\u001b[39m _functorch\u001b[38;5;241m.\u001b[39mutils\u001b[38;5;241m.\u001b[39munwrap_dead_wrappers(args)\n\u001b[0;32m--> 598\u001b[0m     \u001b[38;5;28;01mreturn\u001b[39;00m \u001b[38;5;28;43msuper\u001b[39;49m\u001b[43m(\u001b[49m\u001b[43m)\u001b[49m\u001b[38;5;241;43m.\u001b[39;49m\u001b[43mapply\u001b[49m\u001b[43m(\u001b[49m\u001b[38;5;241;43m*\u001b[39;49m\u001b[43margs\u001b[49m\u001b[43m,\u001b[49m\u001b[43m \u001b[49m\u001b[38;5;241;43m*\u001b[39;49m\u001b[38;5;241;43m*\u001b[39;49m\u001b[43mkwargs\u001b[49m\u001b[43m)\u001b[49m  \u001b[38;5;66;03m# type: ignore[misc]\u001b[39;00m\n\u001b[1;32m    600\u001b[0m \u001b[38;5;28;01mif\u001b[39;00m \u001b[38;5;129;01mnot\u001b[39;00m is_setup_ctx_defined:\n\u001b[1;32m    601\u001b[0m     \u001b[38;5;28;01mraise\u001b[39;00m \u001b[38;5;167;01mRuntimeError\u001b[39;00m(\n\u001b[1;32m    602\u001b[0m         \u001b[38;5;124m\"\u001b[39m\u001b[38;5;124mIn order to use an autograd.Function with functorch transforms \u001b[39m\u001b[38;5;124m\"\u001b[39m\n\u001b[1;32m    603\u001b[0m         \u001b[38;5;124m\"\u001b[39m\u001b[38;5;124m(vmap, grad, jvp, jacrev, ...), it must override the setup_context \u001b[39m\u001b[38;5;124m\"\u001b[39m\n\u001b[1;32m    604\u001b[0m         \u001b[38;5;124m\"\u001b[39m\u001b[38;5;124mstaticmethod. For more details, please see \u001b[39m\u001b[38;5;124m\"\u001b[39m\n\u001b[1;32m    605\u001b[0m         \u001b[38;5;124m\"\u001b[39m\u001b[38;5;124mhttps://pytorch.org/docs/master/notes/extending.func.html\u001b[39m\u001b[38;5;124m\"\u001b[39m\n\u001b[1;32m    606\u001b[0m     )\n",
      "File \u001b[0;32m~/Rares/projectnet/electricity_problem/qpth/qp.py:95\u001b[0m, in \u001b[0;36mQPFunction.<locals>.QPFunctionFn.forward\u001b[0;34m(ctx, Q_, p_, G_, h_, A_, b_)\u001b[0m\n\u001b[1;32m     93\u001b[0m \u001b[38;5;28;01mif\u001b[39;00m solver \u001b[38;5;241m==\u001b[39m QPSolvers\u001b[38;5;241m.\u001b[39mPDIPM_BATCHED:\n\u001b[1;32m     94\u001b[0m     ctx\u001b[38;5;241m.\u001b[39mQ_LU, ctx\u001b[38;5;241m.\u001b[39mS_LU, ctx\u001b[38;5;241m.\u001b[39mR \u001b[38;5;241m=\u001b[39m pdipm_b\u001b[38;5;241m.\u001b[39mpre_factor_kkt(Q, G, A)\n\u001b[0;32m---> 95\u001b[0m     zhats, ctx\u001b[38;5;241m.\u001b[39mnus, ctx\u001b[38;5;241m.\u001b[39mlams, ctx\u001b[38;5;241m.\u001b[39mslacks \u001b[38;5;241m=\u001b[39m \u001b[43mpdipm_b\u001b[49m\u001b[38;5;241;43m.\u001b[39;49m\u001b[43mforward\u001b[49m\u001b[43m(\u001b[49m\n\u001b[1;32m     96\u001b[0m \u001b[43m        \u001b[49m\u001b[43mQ\u001b[49m\u001b[43m,\u001b[49m\u001b[43m \u001b[49m\u001b[43mp\u001b[49m\u001b[43m,\u001b[49m\u001b[43m \u001b[49m\u001b[43mG\u001b[49m\u001b[43m,\u001b[49m\u001b[43m \u001b[49m\u001b[43mh\u001b[49m\u001b[43m,\u001b[49m\u001b[43m \u001b[49m\u001b[43mA\u001b[49m\u001b[43m,\u001b[49m\u001b[43m \u001b[49m\u001b[43mb\u001b[49m\u001b[43m,\u001b[49m\u001b[43m \u001b[49m\u001b[43mctx\u001b[49m\u001b[38;5;241;43m.\u001b[39;49m\u001b[43mQ_LU\u001b[49m\u001b[43m,\u001b[49m\u001b[43m \u001b[49m\u001b[43mctx\u001b[49m\u001b[38;5;241;43m.\u001b[39;49m\u001b[43mS_LU\u001b[49m\u001b[43m,\u001b[49m\u001b[43m \u001b[49m\u001b[43mctx\u001b[49m\u001b[38;5;241;43m.\u001b[39;49m\u001b[43mR\u001b[49m\u001b[43m,\u001b[49m\n\u001b[1;32m     97\u001b[0m \u001b[43m        \u001b[49m\u001b[43meps\u001b[49m\u001b[43m,\u001b[49m\u001b[43m \u001b[49m\u001b[43mverbose\u001b[49m\u001b[43m,\u001b[49m\u001b[43m \u001b[49m\u001b[43mnotImprovedLim\u001b[49m\u001b[43m,\u001b[49m\u001b[43m \u001b[49m\u001b[43mmaxIter\u001b[49m\u001b[43m)\u001b[49m\n\u001b[1;32m     98\u001b[0m \u001b[38;5;28;01melif\u001b[39;00m solver \u001b[38;5;241m==\u001b[39m QPSolvers\u001b[38;5;241m.\u001b[39mCVXPY:\n\u001b[1;32m     99\u001b[0m     vals \u001b[38;5;241m=\u001b[39m torch\u001b[38;5;241m.\u001b[39mTensor(nBatch)\u001b[38;5;241m.\u001b[39mtype_as(Q)\n",
      "File \u001b[0;32m~/Rares/projectnet/electricity_problem/qpth/solvers/pdipm/batch.py:161\u001b[0m, in \u001b[0;36mforward\u001b[0;34m(Q, p, G, h, A, b, Q_LU, S_LU, R, eps, verbose, notImprovedLim, maxIter, solver)\u001b[0m\n\u001b[1;32m    157\u001b[0m     \u001b[38;5;28;01massert\u001b[39;00m \u001b[38;5;28;01mFalse\u001b[39;00m\n\u001b[1;32m    159\u001b[0m \u001b[38;5;66;03m# compute centering directions\u001b[39;00m\n\u001b[1;32m    160\u001b[0m alpha \u001b[38;5;241m=\u001b[39m torch\u001b[38;5;241m.\u001b[39mmin(torch\u001b[38;5;241m.\u001b[39mmin(get_step(z, dz_aff),\n\u001b[0;32m--> 161\u001b[0m                             \u001b[43mget_step\u001b[49m\u001b[43m(\u001b[49m\u001b[43ms\u001b[49m\u001b[43m,\u001b[49m\u001b[43m \u001b[49m\u001b[43mds_aff\u001b[49m\u001b[43m)\u001b[49m),\n\u001b[1;32m    162\u001b[0m                   torch\u001b[38;5;241m.\u001b[39mones(nBatch)\u001b[38;5;241m.\u001b[39mtype_as(Q))\n\u001b[1;32m    163\u001b[0m alpha_nineq \u001b[38;5;241m=\u001b[39m alpha\u001b[38;5;241m.\u001b[39mrepeat(nineq, \u001b[38;5;241m1\u001b[39m)\u001b[38;5;241m.\u001b[39mt()\n\u001b[1;32m    164\u001b[0m t1 \u001b[38;5;241m=\u001b[39m s \u001b[38;5;241m+\u001b[39m alpha_nineq \u001b[38;5;241m*\u001b[39m ds_aff\n",
      "File \u001b[0;32m~/Rares/projectnet/electricity_problem/qpth/solvers/pdipm/batch.py:212\u001b[0m, in \u001b[0;36mget_step\u001b[0;34m(v, dv)\u001b[0m\n\u001b[1;32m    210\u001b[0m \u001b[38;5;28;01mdef\u001b[39;00m \u001b[38;5;21mget_step\u001b[39m(v, dv):\n\u001b[1;32m    211\u001b[0m     a \u001b[38;5;241m=\u001b[39m \u001b[38;5;241m-\u001b[39mv \u001b[38;5;241m/\u001b[39m dv\n\u001b[0;32m--> 212\u001b[0m     a[dv \u001b[38;5;241m>\u001b[39m \u001b[38;5;241m0\u001b[39m] \u001b[38;5;241m=\u001b[39m \u001b[38;5;28mmax\u001b[39m(\u001b[38;5;241m1.0\u001b[39m, \u001b[43ma\u001b[49m\u001b[38;5;241;43m.\u001b[39;49m\u001b[43mmax\u001b[49m\u001b[43m(\u001b[49m\u001b[43m)\u001b[49m)\n\u001b[1;32m    213\u001b[0m     \u001b[38;5;28;01mreturn\u001b[39;00m a\u001b[38;5;241m.\u001b[39mmin(\u001b[38;5;241m1\u001b[39m)[\u001b[38;5;241m0\u001b[39m]\u001b[38;5;241m.\u001b[39msqueeze()\n",
      "\u001b[0;31mKeyboardInterrupt\u001b[0m: "
     ]
    }
   ],
   "source": [
    "task_net = Net(X_train[:,:-1], Y_train, [200,200]).to(DEVICE)\n",
    "task_net.load_state_dict(torch.load(\"saved_models/model_pnet{}.pt\".format(params['c_ramp'])))\n",
    "train_task_net(task_net, params, X_train_pt, Y_train_pt)\n",
    "# torch.save(task_net.state_dict(), \"saved_models/task_net.pt\")"
   ]
  },
  {
   "cell_type": "code",
   "execution_count": null,
   "id": "25eab28f-bead-4826-8e80-67f2b65cf04f",
   "metadata": {},
   "outputs": [],
   "source": [
    "task_results = np.load(\"task_results.npy\")\n",
    "mle_results = np.load(\"mle_results.npy\")"
   ]
  },
  {
   "cell_type": "code",
   "execution_count": 7,
   "id": "638fd0e0-452d-4c1a-af7f-756ad32c7bf0",
   "metadata": {},
   "outputs": [
    {
     "ename": "NameError",
     "evalue": "name 'task_net' is not defined",
     "output_type": "error",
     "traceback": [
      "\u001b[0;31m---------------------------------------------------------------------------\u001b[0m",
      "\u001b[0;31mNameError\u001b[0m                                 Traceback (most recent call last)",
      "Cell \u001b[0;32mIn[7], line 1\u001b[0m\n\u001b[0;32m----> 1\u001b[0m p_task, s_task \u001b[38;5;241m=\u001b[39m \u001b[43mtask_net\u001b[49m(X_test_pt)\n\u001b[1;32m      2\u001b[0m d_task \u001b[38;5;241m=\u001b[39m dist_solver(p_task, s_task)\u001b[38;5;241m.\u001b[39mdetach()\n\u001b[1;32m      3\u001b[0m cost_task \u001b[38;5;241m=\u001b[39m task_loss_no_mean(d_task, Y_test_pt, params)\n",
      "\u001b[0;31mNameError\u001b[0m: name 'task_net' is not defined"
     ]
    }
   ],
   "source": [
    "p_task, s_task = task_net(X_test_pt)\n",
    "d_task = dist_solver(p_task, s_task).detach()\n",
    "cost_task = task_loss_no_mean(d_task, Y_test_pt, params)"
   ]
  },
  {
   "cell_type": "code",
   "execution_count": 46,
   "id": "d3b44778-b030-4c91-b1c5-e9641cd14de1",
   "metadata": {},
   "outputs": [
    {
     "data": {
      "text/plain": [
       "(600, 24)"
      ]
     },
     "execution_count": 46,
     "metadata": {},
     "output_type": "execute_result"
    }
   ],
   "source": [
    "net_costs=np.array(net_costs).reshape(600,24)\n",
    "net_costs.shape"
   ]
  },
  {
   "cell_type": "code",
   "execution_count": null,
   "id": "10e4fa48-7797-479d-8f0c-6d2b820766b3",
   "metadata": {},
   "outputs": [],
   "source": [
    "plt.plot(range(24), np.mean(net_costs,axis=0), label='pnet')\n",
    "# plt.plot(range(24), cost_task.mean(0).cpu().numpy(), label='task')\n",
    "plt.plot(range(24), task_results[:600,:].mean(0), label='task')\n",
    "# plt.plot(range(24), mle_results.mean(0), label='mle')\n",
    "plt.legend()\n",
    "plt.show()"
   ]
  },
  {
   "cell_type": "code",
   "execution_count": 43,
   "id": "6483d0e5-79e0-4760-8c8a-2939804ca245",
   "metadata": {},
   "outputs": [
    {
     "data": {
      "text/plain": [
       "tensor(0.1000, device='cuda:0')"
      ]
     },
     "execution_count": 43,
     "metadata": {},
     "output_type": "execute_result"
    }
   ],
   "source": [
    "torch.max(d[:,:23] - d[:,1:])"
   ]
  },
  {
   "cell_type": "code",
   "execution_count": 8,
   "id": "7d189ce5-1d35-4a2a-8ea3-94df21aa9b7b",
   "metadata": {},
   "outputs": [
    {
     "data": {
      "text/plain": [
       "0.13162148"
      ]
     },
     "execution_count": 8,
     "metadata": {},
     "output_type": "execute_result"
    }
   ],
   "source": [
    "task_results.mean()"
   ]
  },
  {
   "cell_type": "code",
   "execution_count": 53,
   "id": "ce860d08-f0db-427b-90b1-b79145d560c8",
   "metadata": {},
   "outputs": [
    {
     "data": {
      "text/plain": [
       "0.12967134"
      ]
     },
     "execution_count": 53,
     "metadata": {},
     "output_type": "execute_result"
    }
   ],
   "source": [
    "net_costs.mean()"
   ]
  },
  {
   "cell_type": "code",
   "execution_count": 55,
   "id": "659f2e38-07b6-4cb9-bbe8-c8cdfe96834c",
   "metadata": {},
   "outputs": [],
   "source": [
    "# np.save(\"pnet_results.npy\", net_costs)"
   ]
  },
  {
   "cell_type": "code",
   "execution_count": 66,
   "id": "66d0d7c3-2530-424b-b1ce-fb7d3b82a05b",
   "metadata": {},
   "outputs": [],
   "source": [
    "def eval_model(model_pnet, projectnet):\n",
    "    pnet_results = []\n",
    "    for _ in range(10):\n",
    "        net_costs = []\n",
    "        for k in range(X_test_pt.shape[0] // batch_size):\n",
    "            p = model_pnet(X_test_pt[k:k+batch_size,:]).detach()\n",
    "            d = projectnet(p, rounds=rounds)\n",
    "            cost_test = task_loss_no_mean(d, Y_test_pt[k:k+batch_size,:], params).detach().cpu().numpy()\n",
    "            net_costs.append(cost_test)\n",
    "        net_costs = np.array(net_costs).reshape(600,24)\n",
    "        pnet_results.append(net_costs)\n",
    "    pnet_results = np.array(pnet_results) \n",
    "    print(pnet_results[0,:])\n",
    "    print(pnet_results[1,:])\n",
    "    return np.mean(pnet_results, axis=0)\n"
   ]
  },
  {
   "cell_type": "code",
   "execution_count": 67,
   "id": "372b92f3-b9b0-4ebe-84a5-e1828159d7d3",
   "metadata": {},
   "outputs": [
    {
     "name": "stdout",
     "output_type": "stream",
     "text": [
      "[[0.05169624 0.07740811 0.04036757 ... 0.18670538 0.22773585 0.17829044]\n",
      " [0.03361551 0.07978    0.03180664 ... 0.2716348  0.2717738  0.2556494 ]\n",
      " [0.09123388 0.5361624  0.16456479 ... 0.17476866 0.6277769  0.27443156]\n",
      " ...\n",
      " [0.0993123  0.1033532  0.07622579 ... 0.17429772 0.23094335 0.17656286]\n",
      " [0.07711309 0.08715592 0.0680978  ... 0.18661842 0.22768489 0.19754732]\n",
      " [0.07843082 0.06296031 0.06554107 ... 0.13948129 0.16330463 0.14074664]]\n",
      "[[0.05169624 0.07740811 0.04036757 ... 0.18670538 0.22773585 0.17829044]\n",
      " [0.03361551 0.07978    0.03180664 ... 0.2716348  0.2717738  0.2556494 ]\n",
      " [0.09123388 0.5361624  0.16456479 ... 0.17476866 0.6277769  0.27443156]\n",
      " ...\n",
      " [0.0993123  0.1033532  0.07622579 ... 0.17429772 0.23094335 0.17656286]\n",
      " [0.07711309 0.08715592 0.0680978  ... 0.18661842 0.22768489 0.19754732]\n",
      " [0.07843082 0.06296031 0.06554107 ... 0.13948129 0.16330463 0.14074664]]\n"
     ]
    }
   ],
   "source": [
    "net_costs=eval_model(model_pnet, projectnet)"
   ]
  },
  {
   "cell_type": "code",
   "execution_count": 65,
   "id": "fa162ff2-bb2d-410d-a088-bc3eada90297",
   "metadata": {},
   "outputs": [
    {
     "data": {
      "text/plain": [
       "array([[0.05169624, 0.0774081 , 0.04036757, ..., 0.18670537, 0.22773585,\n",
       "        0.17829046],\n",
       "       [0.03361552, 0.07978   , 0.03180664, ..., 0.2716348 , 0.2717738 ,\n",
       "        0.25564936],\n",
       "       [0.09123387, 0.5361624 , 0.1645648 , ..., 0.17476867, 0.627777  ,\n",
       "        0.27443153],\n",
       "       ...,\n",
       "       [0.0993123 , 0.1033532 , 0.07622578, ..., 0.1742977 , 0.23094335,\n",
       "        0.17656288],\n",
       "       [0.07711309, 0.08715592, 0.06809781, ..., 0.18661843, 0.22768489,\n",
       "        0.19754732],\n",
       "       [0.07843082, 0.06296032, 0.06554108, ..., 0.13948129, 0.16330461,\n",
       "        0.14074662]], dtype=float32)"
      ]
     },
     "execution_count": 65,
     "metadata": {},
     "output_type": "execute_result"
    }
   ],
   "source": [
    "net_costs"
   ]
  },
  {
   "cell_type": "code",
   "execution_count": 72,
   "id": "18fe3352-91b7-4ab9-9cb1-279dbb0f2a83",
   "metadata": {},
   "outputs": [
    {
     "ename": "ModuleNotFoundError",
     "evalue": "No module named 'cplex'",
     "output_type": "error",
     "traceback": [
      "\u001b[0;31m---------------------------------------------------------------------------\u001b[0m",
      "\u001b[0;31mModuleNotFoundError\u001b[0m                       Traceback (most recent call last)",
      "Cell \u001b[0;32mIn[72], line 1\u001b[0m\n\u001b[0;32m----> 1\u001b[0m \u001b[38;5;28;01mimport\u001b[39;00m \u001b[38;5;21;01mcplex\u001b[39;00m\n",
      "\u001b[0;31mModuleNotFoundError\u001b[0m: No module named 'cplex'"
     ]
    }
   ],
   "source": [
    "import cplex"
   ]
  },
  {
   "cell_type": "code",
   "execution_count": 74,
   "id": "45f0ef12-79d9-4a5f-9c0c-64d19a3e9fe6",
   "metadata": {},
   "outputs": [],
   "source": [
    "import cvxpy as cp"
   ]
  },
  {
   "cell_type": "code",
   "execution_count": null,
   "id": "4190230b-8378-4819-9da2-bbe9315303a2",
   "metadata": {},
   "outputs": [],
   "source": []
  }
 ],
 "metadata": {
  "kernelspec": {
   "display_name": "rares_env",
   "language": "python",
   "name": "rares_env"
  },
  "language_info": {
   "codemirror_mode": {
    "name": "ipython",
    "version": 3
   },
   "file_extension": ".py",
   "mimetype": "text/x-python",
   "name": "python",
   "nbconvert_exporter": "python",
   "pygments_lexer": "ipython3",
   "version": "3.12.3"
  }
 },
 "nbformat": 4,
 "nbformat_minor": 5
}
