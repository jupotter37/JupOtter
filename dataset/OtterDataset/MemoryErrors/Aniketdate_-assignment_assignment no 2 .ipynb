{
 "cells": [
  {
   "cell_type": "markdown",
   "id": "13cddc81",
   "metadata": {},
   "source": [
    "## Q1)What is the role of try and exception block?"
   ]
  },
  {
   "cell_type": "markdown",
   "id": "398f50c4",
   "metadata": {},
   "source": [
    "## 1.The try block lets you test a block of code for errors. \n",
    "## 2.The except block lets you handle the error."
   ]
  },
  {
   "cell_type": "markdown",
   "id": "6600962e",
   "metadata": {},
   "source": [
    " ## Q2)What is the syntax for a basic try-except block?"
   ]
  },
  {
   "cell_type": "code",
   "execution_count": 3,
   "id": "a2a965e4",
   "metadata": {},
   "outputs": [
    {
     "name": "stdout",
     "output_type": "stream",
     "text": [
      "You can't divide by zero!\n"
     ]
    }
   ],
   "source": [
    "try:\n",
    "    result = 10 / 0  \n",
    "except ZeroDivisionError:\n",
    "    print(\"You can't divide by zero!\")"
   ]
  },
  {
   "cell_type": "markdown",
   "id": "5bb2dbf6",
   "metadata": {},
   "source": [
    "## Q3)What happens if an exception occurs inside a try block and there is no matching except block?"
   ]
  },
  {
   "cell_type": "markdown",
   "id": "22c664ce",
   "metadata": {},
   "source": [
    "## If  exception occurs inside a try block and there is no matching except block to handle that exception, the exception will propagate up the call stack. Propagation Up the Call Stack: Python will continue to search for an appropriate except block in the calling functions or modules.Program Termination: If the exception is not handled anywhere in the call stack, it will eventually reach the top level of the program (i.e., the main program). "
   ]
  },
  {
   "cell_type": "markdown",
   "id": "34397571",
   "metadata": {},
   "source": [
    " ## Q4)What is the difference between using a bare except block and specifying a specificexception type?\n"
   ]
  },
  {
   "cell_type": "markdown",
   "id": "2951bd82",
   "metadata": {},
   "source": [
    "## In Python, using a bare except block versus specifying a specific exception type has important implications for error handling. A bare except block catches all exceptions, including those derived from the base Exception class and, in some cases, even system-exiting exceptions like SystemExit, KeyboardInterrupt, and GeneratorExit.A bare except: clause will catch SystemExit and KeyboardInterrupt exceptions, making it harder to interrupt a program with Control-C, and can disguise other problems. If you want to catch all exceptions that signal program errors, use except Exception: (bare except is equivalent to except BaseException:)."
   ]
  },
  {
   "cell_type": "markdown",
   "id": "78a0b257",
   "metadata": {},
   "source": [
    "## Q5)Can you have nested try-except blocks in Python? If yes, then give an example.\n"
   ]
  },
  {
   "cell_type": "markdown",
   "id": "6c95faa5",
   "metadata": {},
   "source": [
    "## To handle them, we need nested try blocks. We start with an example having a single \"try − except − finally\" construct. If the statements inside try encounter exception, it is handled by except block. With or without exception occurred, the finally block is always executed."
   ]
  },
  {
   "cell_type": "markdown",
   "id": "3890d328",
   "metadata": {},
   "source": [
    "## Q6)Can we use multiple exception blocks, if yes then give an example"
   ]
  },
  {
   "cell_type": "markdown",
   "id": "14bc0696",
   "metadata": {},
   "source": [
    "## It is possible to have multiple except blocks for one try block. Let us see Python multiple exception handling examples. When the interpreter encounters an exception, it checks the except blocks associated with that try block. These except blocks may declare what kind of exceptions they handle."
   ]
  },
  {
   "cell_type": "markdown",
   "id": "3b5b41fa",
   "metadata": {},
   "source": [
    " ## Q7)Write the reason due to which following errors are raised:\n",
    "## a. EOFError\n",
    "## b. FloatingPointErro\n",
    "# c. IndexError\n",
    "# d. MemoryError\n",
    "# e. OverflowError\n",
    "# f. TabError\n",
    "# g. ValueError\n"
   ]
  },
  {
   "cell_type": "markdown",
   "id": "ba814abc",
   "metadata": {},
   "source": [
    "## a.EOFError =  Reason: Raised when the input() function or other functions trying to read data from a file or other input source reach the end-of-file (EOF) condition without reading any data."
   ]
  },
  {
   "cell_type": "code",
   "execution_count": 6,
   "id": "330d695b",
   "metadata": {},
   "outputs": [
    {
     "name": "stdout",
     "output_type": "stream",
     "text": [
      "123\n"
     ]
    }
   ],
   "source": [
    "try:\n",
    "    input()  \n",
    "except EOFError:\n",
    "    print(\"EOFError: End of file reached without reading any data.\")"
   ]
  },
  {
   "cell_type": "markdown",
   "id": "ee84b788",
   "metadata": {},
   "source": [
    "## b. FloatingPointError = Reason: Raised when a floating-point operation fails, such as an overflow in floating-point calculations, division by zero, or invalid operations involving floating-point numbers. This is less common in typical code but can be triggered by specific operations or settings."
   ]
  },
  {
   "cell_type": "code",
   "execution_count": 8,
   "id": "e312157f",
   "metadata": {},
   "outputs": [
    {
     "name": "stdout",
     "output_type": "stream",
     "text": [
      "FloatingPointError: Overflow in floating-point operation.\n"
     ]
    }
   ],
   "source": [
    "import numpy as np\n",
    "np.seterr(over='raise')  \n",
    "try:\n",
    "    result = np.float64(1.0e+308) * 1.0e+308  \n",
    "except FloatingPointError:\n",
    "    print(\"FloatingPointError: Overflow in floating-point operation.\")"
   ]
  },
  {
   "cell_type": "markdown",
   "id": "30ea4b11",
   "metadata": {},
   "source": [
    "## c. IndexError = Reason: Raised when trying to access an element in a list, tuple, or other sequence types using an index that is out of the valid range."
   ]
  },
  {
   "cell_type": "code",
   "execution_count": 9,
   "id": "82a5ba4a",
   "metadata": {},
   "outputs": [
    {
     "name": "stdout",
     "output_type": "stream",
     "text": [
      "IndexError: Index is out of range.\n"
     ]
    }
   ],
   "source": [
    "my_list = [1, 2, 3]\n",
    "try:\n",
    "    print(my_list[5])  \n",
    "except IndexError:\n",
    "    print(\"IndexError: Index is out of range.\")"
   ]
  },
  {
   "cell_type": "markdown",
   "id": "57e5aeaa",
   "metadata": {},
   "source": [
    "## d. MemoryError = Reason: Raised when an operation runs out of memory. This can happen if you are trying to allocate a very large amount of memory or if the system memory is exhausted."
   ]
  },
  {
   "cell_type": "code",
   "execution_count": 10,
   "id": "bd133eaf",
   "metadata": {},
   "outputs": [
    {
     "name": "stdout",
     "output_type": "stream",
     "text": [
      "MemoryError: Not enough memory to allocate the requested resource.\n"
     ]
    }
   ],
   "source": [
    "try:\n",
    "    large_list = [0] * (10**10)\n",
    "except MemoryError:\n",
    "    print(\"MemoryError: Not enough memory to allocate the requested resource.\")"
   ]
  },
  {
   "cell_type": "markdown",
   "id": "c38be20c",
   "metadata": {},
   "source": [
    "## e. OverflowError = Reason: Raised when an arithmetic operation exceeds the maximum limit of the data type. This often occurs in integer or floating-point arithmetic where values exceed the allowable range."
   ]
  },
  {
   "cell_type": "code",
   "execution_count": 12,
   "id": "9ff6ea42",
   "metadata": {},
   "outputs": [],
   "source": [
    "try:\n",
    "    result = 1e308 * 1e308\n",
    "except OverflowError:\n",
    "    print(\"OverflowError: Arithmetic operation exceeds the maximum limit.\")"
   ]
  },
  {
   "cell_type": "markdown",
   "id": "b729a67d",
   "metadata": {},
   "source": [
    "## . TabError = Reason: Raised when inconsistent use of tabs and spaces for indentation is detected. This error occurs when the code’s indentation is not uniform and mixing tabs with spaces in a way that confuses the interpreter."
   ]
  },
  {
   "cell_type": "code",
   "execution_count": 13,
   "id": "5b202262",
   "metadata": {},
   "outputs": [],
   "source": [
    "def my_function():\n",
    "    if True:\n",
    "        print(\"Hello\")\n",
    "    else:\n",
    "        print(\"World\")  \n"
   ]
  },
  {
   "cell_type": "markdown",
   "id": "71886e4b",
   "metadata": {},
   "source": [
    "## g. ValueError = Reason: Raised when a function receives an argument of the correct type but with an inappropriate value. For example, converting a string that does not represent a valid number to an integer or float."
   ]
  },
  {
   "cell_type": "code",
   "execution_count": 17,
   "id": "c4134fc2",
   "metadata": {},
   "outputs": [
    {
     "name": "stdout",
     "output_type": "stream",
     "text": [
      "ValueError: Invalid value for conversion or operation.\n"
     ]
    }
   ],
   "source": [
    "try:\n",
    "    number = int(\"abc\") \n",
    "except ValueError:\n",
    "    print(\"ValueError: Invalid value for conversion or operation.\")\n"
   ]
  },
  {
   "cell_type": "markdown",
   "id": "65168bb1",
   "metadata": {},
   "source": [
    "#  Q8.Write code for the following given scenario and add try-exception block to it.\n",
    "# a. Program to divide two numbers\n",
    "# b. Program to convert a string to an integer\n",
    "# c. Program to access an element in a list\n",
    "# d. Program to handle a specific exception\n",
    "# e. Program to handle any exception"
   ]
  },
  {
   "cell_type": "markdown",
   "id": "5ba2c957",
   "metadata": {},
   "source": [
    "# a. Program to Divide Two Numbers"
   ]
  },
  {
   "cell_type": "code",
   "execution_count": 20,
   "id": "1589b9c8",
   "metadata": {},
   "outputs": [
    {
     "name": "stdout",
     "output_type": "stream",
     "text": [
      "Result: 5.0\n",
      "Error: Cannot divide by zero.\n"
     ]
    }
   ],
   "source": [
    "def divide_numbers(x, y):\n",
    "    try:\n",
    "        result = x / y\n",
    "        print(f\"Result: {result}\")\n",
    "    except ZeroDivisionError:\n",
    "        print(\"Error: Cannot divide by zero.\")\n",
    "    except Exception as e:\n",
    "        print(f\"An unexpected error occurred: {e}\")\n",
    "divide_numbers(10, 2)  \n",
    "divide_numbers(10, 0)  "
   ]
  },
  {
   "cell_type": "markdown",
   "id": "40a8a80a",
   "metadata": {},
   "source": [
    "# b. Program to Convert a String to an Integer"
   ]
  },
  {
   "cell_type": "code",
   "execution_count": 21,
   "id": "a69fd23d",
   "metadata": {},
   "outputs": [
    {
     "name": "stdout",
     "output_type": "stream",
     "text": [
      "Converted number: 123\n",
      "Error: The string could not be converted to an integer.\n"
     ]
    }
   ],
   "source": [
    "def convert_to_integer(s):\n",
    "    try:\n",
    "        number = int(s)\n",
    "        print(f\"Converted number: {number}\")\n",
    "    except ValueError:\n",
    "        print(\"Error: The string could not be converted to an integer.\")\n",
    "    except Exception as e:\n",
    "        print(f\"An unexpected error occurred: {e}\")\n",
    "convert_to_integer(\"123\")  \n",
    "convert_to_integer(\"abc\")  \n"
   ]
  },
  {
   "cell_type": "markdown",
   "id": "a9df150b",
   "metadata": {},
   "source": [
    "# c. Program to Access an Element in a List"
   ]
  },
  {
   "cell_type": "code",
   "execution_count": 22,
   "id": "3921d277",
   "metadata": {},
   "outputs": [
    {
     "name": "stdout",
     "output_type": "stream",
     "text": [
      "Element at index 1: 2\n",
      "Error: Index is out of range.\n"
     ]
    }
   ],
   "source": [
    "def access_list_element(lst, index):\n",
    "    try:\n",
    "        element = lst[index]\n",
    "        print(f\"Element at index {index}: {element}\")\n",
    "    except IndexError:\n",
    "        print(\"Error: Index is out of range.\")\n",
    "    except Exception as e:\n",
    "        print(f\"An unexpected error occurred: {e}\")\n",
    "my_list = [1, 2, 3]\n",
    "access_list_element(my_list, 1) \n",
    "access_list_element(my_list, 5) \n"
   ]
  },
  {
   "cell_type": "code",
   "execution_count": null,
   "id": "ee32b51d",
   "metadata": {},
   "outputs": [],
   "source": []
  }
 ],
 "metadata": {
  "kernelspec": {
   "display_name": "Python 3 (ipykernel)",
   "language": "python",
   "name": "python3"
  },
  "language_info": {
   "codemirror_mode": {
    "name": "ipython",
    "version": 3
   },
   "file_extension": ".py",
   "mimetype": "text/x-python",
   "name": "python",
   "nbconvert_exporter": "python",
   "pygments_lexer": "ipython3",
   "version": "3.9.13"
  }
 },
 "nbformat": 4,
 "nbformat_minor": 5
}
