{
  "nbformat": 4,
  "nbformat_minor": 0,
  "metadata": {
    "colab": {
      "provenance": []
    },
    "kernelspec": {
      "name": "python3",
      "display_name": "Python 3"
    },
    "language_info": {
      "name": "python"
    }
  },
  "cells": [
    {
      "cell_type": "code",
      "execution_count": null,
      "metadata": {
        "id": "GFdkko1LNkG8"
      },
      "outputs": [],
      "source": []
    },
    {
      "cell_type": "markdown",
      "source": [
        "1. What is the role of the 'else' block in a try-except statement? Provide an example\n",
        "scenario where it would be useful.\n",
        "Answer:- In a try-except statement in Python, the else block is executed if no exception occurs in the corresponding try block. The role of the else block is to contain code that should only run if the try block executes successfully without raising any exceptions."
      ],
      "metadata": {
        "id": "VYw5vzzkNngX"
      }
    },
    {
      "cell_type": "code",
      "source": [
        "try:\n",
        "    with open('data.txt', 'r') as file:\n",
        "        data = file.read()\n",
        "\n",
        "except FileNotFoundError:\n",
        "    print(\"Error: File not found.\")\n",
        "\n",
        "else:\n",
        "    # File reading was successful, process the data\n",
        "    words = data.split()\n",
        "    word_count = len(words)\n",
        "    print(\"Word count:\", word_count)\n"
      ],
      "metadata": {
        "colab": {
          "base_uri": "https://localhost:8080/"
        },
        "id": "PG-DTZFTNsbp",
        "outputId": "687dd3a5-279d-4813-946b-5fceabb108d4"
      },
      "execution_count": 1,
      "outputs": [
        {
          "output_type": "stream",
          "name": "stdout",
          "text": [
            "Error: File not found.\n"
          ]
        }
      ]
    },
    {
      "cell_type": "markdown",
      "source": [
        "2. Can a try-except block be nested inside another try-except block? Explain with an\n",
        "example.\n",
        "Answer:- Yes, a try-except block can indeed be nested inside another try-except block in Python. This nesting allows for more granular exception handling, where you can handle different levels of exceptions at different parts of your code."
      ],
      "metadata": {
        "id": "yFsWcntgNvDP"
      }
    },
    {
      "cell_type": "code",
      "source": [
        "try:\n",
        "    # Outer try block\n",
        "    numerator = int(input(\"Enter the numerator: \"))\n",
        "    denominator = int(input(\"Enter the denominator: \"))\n",
        "\n",
        "    try:\n",
        "        # Inner try block\n",
        "        result = numerator / denominator\n",
        "        print(\"Result of division:\", result)\n",
        "\n",
        "    except ZeroDivisionError:\n",
        "        print(\"Error: Division by zero occurred in the inner try block.\")\n",
        "\n",
        "except ValueError:\n",
        "    print(\"Error: Invalid input. Please enter integers in the outer try block.\")\n"
      ],
      "metadata": {
        "colab": {
          "base_uri": "https://localhost:8080/"
        },
        "id": "11uApHbuN3Ug",
        "outputId": "c092dd14-25c7-4b7e-9550-0853dcdbc361"
      },
      "execution_count": 2,
      "outputs": [
        {
          "output_type": "stream",
          "name": "stdout",
          "text": [
            "Enter the numerator: 1\n",
            "Enter the denominator: 2\n",
            "Result of division: 0.5\n"
          ]
        }
      ]
    },
    {
      "cell_type": "markdown",
      "source": [
        "3. How can you create a custom\n",
        "Answer:-"
      ],
      "metadata": {
        "id": "jdAAiQCrN5FE"
      }
    },
    {
      "cell_type": "code",
      "source": [
        "class CustomError(Exception):\n",
        "    \"\"\"Custom exception class\"\"\"\n",
        "    def __init__(self, message=\"An error occurred\"):\n",
        "        self.message = message\n",
        "        super().__init__(self.message)\n"
      ],
      "metadata": {
        "id": "0NuG_5faOFWr"
      },
      "execution_count": 3,
      "outputs": []
    },
    {
      "cell_type": "markdown",
      "source": [
        "4. What are some common exceptions that are built-in to Python?\n",
        "Answer:- SyntaxError: Raised when the Python parser encounters a syntax error in the code.\n",
        "\n",
        "IndentationError: Raised when there is an incorrect indentation in the code.\n",
        "\n",
        "NameError: Raised when a local or global name is not found.\n",
        "\n",
        "TypeError: Raised when an operation or function is applied to an object of an inappropriate type.\n",
        "\n",
        "ValueError: Raised when a function receives an argument of the correct type but with an inappropriate value.\n",
        "\n",
        "ZeroDivisionError: Raised when division or modulo by zero is attempted.\n",
        "\n",
        "IndexError: Raised when a sequence index is out of range.\n",
        "\n",
        "FileNotFoundError: Raised when a file or directory is requested but cannot be found.\n",
        "\n",
        "IOError: Raised when an I/O operation (such as file operations) fails for an I/O-related reason.\n",
        "\n",
        "KeyError: Raised when a dictionary key is not found.\n",
        "\n",
        "AttributeError: Raised when an attribute reference or assignment fails.\n",
        "\n",
        "ImportError: Raised when an import statement fails to find the module definition.\n",
        "\n",
        "ModuleNotFoundError: Raised by import when a module could not be found.\n",
        "\n",
        "MemoryError: Raised when an operation runs out of memory.\n",
        "\n",
        "OverflowError: Raised when a calculation exceeds maximum limit for a numeric type.\n",
        "\n",
        "RecursionError: Raised when the maximum recursion depth is exceeded.\n",
        "\n",
        "KeyboardInterrupt: Raised when the user interrupts program execution, typically by pressing Ctrl+C.\n",
        "\n",
        "\n",
        "\n",
        "5. What is logging in Python, and why is it important in software development?\n",
        "Answer:- Here's why logging is important in software development:\n",
        "\n",
        "Debugging and Troubleshooting: Logging allows developers to record important information, such as variable values, function calls, and error messages, which can be invaluable for debugging and troubleshooting issues in software applications. By inspecting log messages, developers can identify and fix problems more effectively.\n",
        "\n",
        "Visibility and Monitoring: Logging provides visibility into the internal workings of a software application. By logging relevant events and metrics, developers and system administrators can monitor the health and performance of the application in real-time. This visibility helps in identifying performance bottlenecks, security breaches, and other issues that may affect the application's operation.\n",
        "\n",
        "Auditing and Compliance: In many industries and domains, it is essential to maintain audit trails and logs of user actions, system events, and other activities for compliance and regulatory purposes. Logging enables developers to record important events and actions, which can be used for auditing and compliance reporting.\n",
        "\n",
        "Error Reporting and Alerting: Logging allows developers to capture and report errors and exceptions that occur during program execution. By logging error messages along with relevant context information, developers can quickly identify the root cause of issues and take appropriate actions. Additionally, logging frameworks often support features such as email alerts, notifications, and integration with monitoring systems to facilitate proactive error handling and resolution.\n",
        "\n",
        "Performance Analysis: Logging can be used to measure and analyze the performance of software applications. By logging timestamps, execution times, and resource utilization metrics, developers can identify performance bottlenecks, optimize code, and improve the overall efficiency of the application.\n",
        "\n",
        "\n",
        "6. Explain the purpose of log levels in Python logging and provide examples of when\n",
        "each log level would be appropriate.\n",
        "Answer:- DEBUG: Detailed information useful for debugging purposes. These messages typically contain information about the program's internal state, variable values, and function calls. Debug messages are often used during development and testing to diagnose issues and verify the correctness of the code.\n",
        "logger.debug(\"Received request: %s\", request_data)\n",
        "\n",
        "NFO: General information messages that provide an overview of the program's operation. INFO messages are typically used to log significant events or milestones during the execution of the program, such as startup messages, configuration changes, and major operations.\n",
        "\n",
        "Example:logger.info(\"Server started successfully on port %d\", port)\n",
        "\n",
        "WARNING: Messages indicating potential issues or unexpected behavior that does not necessarily indicate a failure. WARNING messages are used to alert developers and administrators about abnormal conditions or events that may require attention but do not prevent the program from continuing its execution.\n",
        "\n",
        "Example:logger.warning(\"Disk space is running low: %d MB left\", free_space)\n",
        "\n",
        "ERROR: Messages indicating errors or exceptions that occurred during the execution of the program but did not cause it to terminate. ERROR messages are used to log significant errors that may impact the program's functionality or require corrective action.\n",
        "\n",
        "Example:logger.error(\"Failed to read configuration file: %s\", file_path)\n",
        "\n",
        "CRITICAL: Messages indicating critical errors or failures that prevent the program from continuing its execution. CRITICAL messages are used to log severe failures or exceptional conditions that require immediate attention and may lead to application crashes or data loss.\n",
        "\n",
        "Example:logger.critical(\"Database connection failed: %s\", error_message)\n",
        "\n",
        "\n",
        "\n",
        "7. What are log formatters in Python logging, and how can you customise the log\n",
        "message format using formatters?\n",
        "Answer:- Python's logging module provides a built-in Formatter class that serves as the base class for all log formatters. To customize the log message format using formatters, you need to create an instance of the Formatter class and configure it with the desired format string.\n",
        "\n",
        "Here's how you can use log formatters to customize the log message format:\n",
        "\n",
        "Create a Formatter instance: Instantiate the Formatter class with a format string that defines the layout of log messages. The format string can include placeholders for various attributes such as timestamp, log level, module name, message, and more.\n",
        "\n",
        "Configure the logger to use the formatter: Associate the formatter with the logger by setting its formatter attribute to the formatter instance created in the previous step.\n",
        "\n",
        "8. How can you set up logging to capture log messages from multiple modules or\n",
        "classes in a Python application?\n",
        "Answer:- To set up logging to capture log messages from multiple modules or classes in a Python application, you can follow these steps:\n",
        "\n",
        "Configure a Logger: Create a logger instance using the logging.getLogger() function. This logger will serve as the central logging mechanism for your application.\n",
        "\n",
        "Set Logger Level: Set the logging level for the logger using the setLevel() method. This level acts as a threshold, filtering out log messages below the specified level.\n",
        "\n",
        "Configure Handlers: Add one or more handlers to the logger. Handlers determine where log messages are sent, such as to the console, files, network sockets, or other destinations.\n",
        "\n",
        "Set Handler Levels: Set the logging level for each handler added to the logger. This allows you to control the verbosity of log messages for different destinations.\n",
        "\n",
        "Format Log Messages: Optionally, configure a formatter for each handler to specify the format of log messages.\n",
        "\n",
        "Import Logger in Modules/Classes: Import the logger instance in all modules or classes where you want to log messages.\n",
        "\n",
        "Log Messages: Use the logger instance to log messages from various modules or classes using the appropriate log levels.\n",
        "\n",
        "\n",
        "9. What is the difference between the logging and print statements in Python? When\n",
        "should you use logging over print statements in a real-world application?\n",
        "Answer:- Purpose:\n",
        "\n",
        "Logging: The logging module is designed for generating log messages that provide information about the execution of a program. It allows developers to record events, errors, warnings, and other important information during program execution.\n",
        "Print Statements: Print statements are primarily used for displaying output to the console or terminal. They are often used for debugging purposes or providing feedback to users during program execution.\n",
        "Output Destination:\n",
        "\n",
        "Logging: Log messages generated using the logging module can be directed to various destinations, such as the console, files, network sockets, or other custom handlers. This makes logging more flexible and suitable for capturing information in different environments.\n",
        "Print Statements: Print statements output messages directly to the console or standard output stream. They are typically used for temporary output and are not easily configurable for different output destinations.\n",
        "Control and Flexibility:\n",
        "\n",
        "Logging: The logging module provides fine-grained control over log levels, allowing developers to filter and prioritize log messages based on their severity. It also supports loggers, handlers, and formatters, which provide flexibility in configuring logging behavior and formatting log messages.\n",
        "Print Statements: Print statements offer limited control over output formatting and cannot be easily filtered or configured based on severity levels. They are straightforward for simple debugging tasks but lack the sophistication and customization options provided by the logging module.\n",
        "Use Cases:\n",
        "\n",
        "Logging: Logging is well-suited for real-world applications, especially in production environments, where developers need to monitor and troubleshoot the behavior of the application over time. It provides a structured approach to recording events and errors, making it easier to diagnose and fix issues.\n",
        "Print Statements: Print statements are useful for quick and temporary debugging tasks during development. They are convenient for printing variable values, function outputs, or diagnostic messages to the console for immediate inspection.\n",
        "\n",
        "\n",
        "10. Write a Python program that logs a message to a file named \"app.log\" with the\n",
        "following requirements:\n",
        "● The log message should be \"Hello, World!\"\n",
        "● The log level should be set to \"INFO.\"\n",
        "● The log file should append new log entries without overwriting previous ones.\n",
        "Answer:-"
      ],
      "metadata": {
        "id": "jxOMQv06OGh8"
      }
    },
    {
      "cell_type": "code",
      "source": [
        "import logging\n",
        "\n",
        "# Configure logging\n",
        "logging.basicConfig(\n",
        "    filename='app.log',  # Log file name\n",
        "    level=logging.INFO,   # Log level set to INFO\n",
        "    format='%(asctime)s - %(levelname)s - %(message)s',  # Log message format\n",
        "    datefmt='%Y-%m-%d %H:%M:%S'  # Date and time format\n",
        ")\n",
        "\n",
        "# Log message\n",
        "logging.info('Hello, World!')\n"
      ],
      "metadata": {
        "id": "b-idtg4ePgBP"
      },
      "execution_count": 4,
      "outputs": []
    },
    {
      "cell_type": "markdown",
      "source": [
        "11. Create a Python program that logs an error message to the console and a file named\n",
        "\"errors.log\" if an exception occurs during the program's execution. The error\n",
        "message should include the exception type and a timestamp.\n",
        "Answer:-"
      ],
      "metadata": {
        "id": "7JW2o-ezPgyS"
      }
    },
    {
      "cell_type": "code",
      "source": [
        "import logging\n",
        "import traceback\n",
        "from datetime import datetime\n",
        "\n",
        "# Configure logging\n",
        "logging.basicConfig(\n",
        "    level=logging.ERROR,  # Log level set to ERROR\n",
        "    format='%(asctime)s - %(levelname)s - %(message)s',  # Log message format\n",
        "    datefmt='%Y-%m-%d %H:%M:%S',  # Date and time format\n",
        "    handlers=[\n",
        "        logging.FileHandler('errors.log'),  # Log to file named \"errors.log\"\n",
        "        logging.StreamHandler()  # Log to console\n",
        "    ]\n",
        ")\n",
        "\n",
        "try:\n",
        "    # Code that may raise an exception\n",
        "    # For demonstration, let's raise a ValueError\n",
        "    raise ValueError(\"This is a custom ValueError.\")\n",
        "\n",
        "except Exception as e:\n",
        "    # Log error message with exception type and timestamp\n",
        "    logging.error(f\"Exception: {type(e).__name__}, Timestamp: {datetime.now()}\")\n",
        "    # Log\n"
      ],
      "metadata": {
        "id": "WdbPE2CBPpw5",
        "outputId": "82873443-a623-4264-9860-702449534164",
        "colab": {
          "base_uri": "https://localhost:8080/"
        }
      },
      "execution_count": 5,
      "outputs": [
        {
          "output_type": "stream",
          "name": "stderr",
          "text": [
            "ERROR:root:Exception: ValueError, Timestamp: 2024-01-29 12:43:08.349021\n"
          ]
        }
      ]
    }
  ]
}