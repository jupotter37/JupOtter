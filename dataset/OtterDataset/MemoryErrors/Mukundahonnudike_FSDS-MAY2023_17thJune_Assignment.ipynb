{
 "cells": [
  {
   "cell_type": "code",
   "execution_count": 1,
   "id": "2f0acded",
   "metadata": {},
   "outputs": [
    {
     "name": "stdout",
     "output_type": "stream",
     "text": [
      "An exception occurred\n"
     ]
    }
   ],
   "source": [
    "\"\"\"\n",
    "1. What is the role of try and exception block?\n",
    "The try block lets us test a block of code for errors. The except block lets us to handle the error.\n",
    "\n",
    "\n",
    "try:\n",
    "  print(x)\n",
    "except:\n",
    "  print(\"An exception occurred\")\n",
    "\"\"\""
   ]
  },
  {
   "cell_type": "code",
   "execution_count": null,
   "id": "cf0a8d47",
   "metadata": {},
   "outputs": [],
   "source": [
    "\"\"\"\n",
    "2. What is the syntax for a basic try-except block?\n",
    "\n",
    "The syntax of try and except block is\n",
    "\n",
    "try:\n",
    ".......\n",
    "\n",
    "except exceptionName:\n",
    "....\n",
    "\"\"\""
   ]
  },
  {
   "cell_type": "code",
   "execution_count": null,
   "id": "687df59c",
   "metadata": {},
   "outputs": [],
   "source": [
    "\"\"\"\n",
    "3. What happens if an exception occurs inside a try block and there is no matching\n",
    "except block?\n",
    "\n",
    "If any exception occurs, the try clause will be skipped and except clause will run. If any exception occurs, but the except clause within the code doesn't handle it, it is passed on to the outer try statements. If the exception is left unhandled, then the execution stops.\n",
    "If an exception occurs inside a try block and there is no matching except block, the exception will be propagated up the call stack until it is handled or until it reaches the top of the call stack, in which case the program will terminate.\n",
    "\"\"\""
   ]
  },
  {
   "cell_type": "code",
   "execution_count": null,
   "id": "767750a3",
   "metadata": {},
   "outputs": [],
   "source": [
    "\"\"\"4. What is the difference between using a bare except block and specifying a specific\n",
    "exception type?\n",
    "\n",
    "A bare except block will catch all exceptions, while specifying a specific exception type will only catch that specific type of exception. For example, the following code will catch all exceptions:\n",
    "\n",
    "try:\n",
    "  # do something\n",
    "except:\n",
    "  # handle the exception\n",
    "\n",
    "try:\n",
    "  # do something\n",
    "except ValueError:\n",
    "  # handle the ValueError exception\n",
    "\n",
    "\"\"\""
   ]
  },
  {
   "cell_type": "code",
   "execution_count": null,
   "id": "dcef61ed",
   "metadata": {},
   "outputs": [],
   "source": [
    "\"\"\"\n",
    "5. Can you have nested try-except blocks in Python? If yes, then give an example.\n",
    "\n",
    "We can have nested try-except blocks in Python. In this case, if an exception is raised in the nested try block, the nested except block is used to handle it. In case the nested except is not able to handle it, the outer except blocks are used to handle the exception.\n",
    "\n",
    "x = 10\n",
    "y = 0\n",
    " \n",
    "try:\n",
    "    print(\"outer try block\")\n",
    "    try:\n",
    "        print(\"nested try block\")\n",
    "        print(x / y)\n",
    "    except TypeError as te:\n",
    "        print(\"nested except block\")\n",
    "        print(te)\n",
    "except ZeroDivisionError as ze:\n",
    "    print(\"outer except block\")\n",
    "    print(ze)\n",
    "\"\"\""
   ]
  },
  {
   "cell_type": "code",
   "execution_count": null,
   "id": "8590d605",
   "metadata": {},
   "outputs": [],
   "source": [
    "\"\"\"\n",
    "6. Can we use multiple exception blocks, if yes then give an example.\n",
    "\n",
    "A try block can have multiple except blocks. We can catch specific exceptions in each of the except blocks.\n",
    "\n",
    "def divide(x, y):\n",
    "    try:\n",
    "        print(f'{x}/{y} is {x / y}')\n",
    "    except ZeroDivisionError as e:\n",
    "        print(e)\n",
    "    except TypeError as e:\n",
    "        print(e)\n",
    "    except ValueError as e:\n",
    "        print(e)\n",
    "\n",
    "\"\"\""
   ]
  },
  {
   "cell_type": "code",
   "execution_count": null,
   "id": "43be44b1",
   "metadata": {},
   "outputs": [],
   "source": [
    "\"\"\"\n",
    "7. Write the reason due to which following errors are raised:\n",
    "\n",
    "a. EOFError:EOFError is short for \"End-of-Line Error.\" This error occurs when Python has reached the end of user input without receiving any input. The reason that EOFError occurs is that Python attempts to print out your input in variable string when no data is given.\n",
    "b. FloatingPointError:Floating point error is a type of error that occurs when you try to represent a number with a finite number of digits. This error can occur when you are performing calculations with floating point numbers, or when you are trying to store floating point numbers in memory.\n",
    "c. IndexError:list index out of range error occurs in Python when an item from a list is attempted to be accessed that is outside the index range of the list.\n",
    "d. MemoryError:A MemoryError in Python is an exception that is raised when the Python interpreter runs out of memory. This can happen if you are trying to allocate too much memory, or if you are leaking memory.\n",
    "e. OverflowError:An OverflowError exception is raised when an arithmetic operation exceeds the limits to be represented. \n",
    "f. TabError:inconsistent use of tabs and spaces in indentation\" occurs when we mix tabs and spaces in the same code block. \n",
    "g. ValueError:ValueError in Python is raised when a user gives an invalid value to a function but is of a valid argument.\n",
    "\"\"\""
   ]
  },
  {
   "cell_type": "code",
   "execution_count": 19,
   "id": "ef728c4d",
   "metadata": {},
   "outputs": [
    {
     "data": {
      "text/plain": [
       "'\\n8. Write code for the following given scenario and add try-exception block to it.\\na. Program to divide two numbers\\n\\ntry:\\n    n = int(input(\"Please enter the numerator: \"))\\n    d = int(input(\"Please enter the denominator: \"))\\n\\n    result = n / d\\n    print(\"Result:\", result)\\n\\nexcept ZeroDivisionError:\\n    print(\"There is an Error: Division by zero is not allowed.\")\\n\\nb. Program to convert a string to an integer\\n\\na_string = \"Muku\"\\ntry:\\n    an_integer = int(a_string)\\n    print(an_integer)\\nexcept ValueError:\\n    print(\"Catch Error\")\\n\\nc. Program to access an element in a list\\n\\ntry:\\n    list1 = [1, 2, 3, 4]\\n\\n    print(list1[3])  # Trying to reach an index that is out of range\\n\\nexcept IndexError:\\n    print(\"IndexError error occurred.\")\\n\\nd. Program to handle a specific exception\\n\\ntry:\\n    name = \"John\"\\n        age = 50\\n\\nexcept IndentationError:\\n    print(\"There is an IndentationError\")\\n\\ne. Program to handle any exception\\n\\ntry:\\n    print(\"John age is:\"\\n    age = 20\\n\\nexcept SyntaxError:\\n    print(\"Error: Invalid syntax.\")\\n\\n\\n'"
      ]
     },
     "execution_count": 19,
     "metadata": {},
     "output_type": "execute_result"
    }
   ],
   "source": [
    "\"\"\"\n",
    "8. Write code for the following given scenario and add try-exception block to it.\n",
    "a. Program to divide two numbers\n",
    "\n",
    "try:\n",
    "    n = int(input(\"Please enter the numerator: \"))\n",
    "    d = int(input(\"Please enter the denominator: \"))\n",
    "\n",
    "    result = n / d\n",
    "    print(\"Result:\", result)\n",
    "\n",
    "except ZeroDivisionError:\n",
    "    print(\"There is an Error: Division by zero is not allowed.\")\n",
    "\n",
    "b. Program to convert a string to an integer\n",
    "\n",
    "a_string = \"Muku\"\n",
    "try:\n",
    "    an_integer = int(a_string)\n",
    "    print(an_integer)\n",
    "except ValueError:\n",
    "    print(\"Catch Error\")\n",
    "\n",
    "c. Program to access an element in a list\n",
    "\n",
    "try:\n",
    "    list1 = [1, 2, 3, 4]\n",
    "\n",
    "    print(list1[3])  \n",
    "\n",
    "except IndexError:\n",
    "    print(\"IndexError error occurred.\")\n",
    "\n",
    "d. Program to handle a specific exception\n",
    "\n",
    "try:\n",
    "    name = \"John\"\n",
    "        age = 50\n",
    "\n",
    "except IndentationError:\n",
    "    print(\"There is an IndentationError\")\n",
    "\n",
    "e. Program to handle any exception\n",
    "\n",
    "try:\n",
    "    print(\"John age is:\"\n",
    "    age = 20\n",
    "\n",
    "except SyntaxError:\n",
    "    print(\"Error: Invalid syntax.\")\n",
    "\n",
    "\n",
    "\"\"\"\n",
    "\n"
   ]
  },
  {
   "cell_type": "code",
   "execution_count": null,
   "id": "4d6a126a",
   "metadata": {},
   "outputs": [],
   "source": []
  }
 ],
 "metadata": {
  "kernelspec": {
   "display_name": "Python 3 (ipykernel)",
   "language": "python",
   "name": "python3"
  },
  "language_info": {
   "codemirror_mode": {
    "name": "ipython",
    "version": 3
   },
   "file_extension": ".py",
   "mimetype": "text/x-python",
   "name": "python",
   "nbconvert_exporter": "python",
   "pygments_lexer": "ipython3",
   "version": "3.10.9"
  }
 },
 "nbformat": 4,
 "nbformat_minor": 5
}
