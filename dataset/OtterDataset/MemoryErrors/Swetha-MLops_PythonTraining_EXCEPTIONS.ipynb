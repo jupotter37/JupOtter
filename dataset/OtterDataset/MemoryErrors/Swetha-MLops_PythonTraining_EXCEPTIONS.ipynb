{
 "cells": [
  {
   "cell_type": "code",
   "execution_count": null,
   "metadata": {},
   "outputs": [],
   "source": []
  },
  {
   "cell_type": "markdown",
   "metadata": {},
   "source": [
    "The table below shows built-in exceptions that are usually raised in Python:\n",
    "\n",
    "Exception=\tDescription\n",
    "\n",
    "ArithmeticError\t=Raised when an error occurs in numeric calculations\n",
    "\n",
    "AssertionError=\tRaised when an assert statement fails\n",
    "\n",
    "AttributeError=\tRaised when attribute reference or assignment fails\n",
    "\n",
    "Exception=\tBase class for all exceptions\n",
    "\n",
    "EOFError=\tRaised when the input() method hits an \"end of file\" condition (EOF)\n",
    "\n",
    "FloatingPointError=\tRaised when a floating point calculation fails\n",
    "\n",
    "GeneratorExit=\tRaised when a generator is closed (with the close() method)\n",
    "\n",
    "ImportError=\tRaised when an imported module does not exist\n",
    "\n",
    "IndentationError=\tRaised when indentation is not correct\n",
    "\n",
    "IndexError=\tRaised when an index of a sequence does not exist\n",
    "\n",
    "KeyError=\tRaised when a key does not exist in a dictionary\n",
    "\n",
    "KeyboardInterrupt=\tRaised when the user presses Ctrl+c, Ctrl+z or Delete\n",
    "\n",
    "LookupError=\tRaised when errors raised cant be found\n",
    "\n",
    "MemoryError=\tRaised when a program runs out of memory\n",
    "\n",
    "NameError=\tRaised when a variable does not exist\n",
    "\n",
    "NotImplementedError=\tRaised when an abstract method requires an \n",
    "\n",
    "inherited class to override the method\n",
    "\n",
    "OSError=\tRaised when a system related operation causes an error\n",
    "\n",
    "OverflowError=\tRaised when the result of a numeric calculation is too large\n",
    "\n",
    "ReferenceError=\tRaised when a weak reference object does not exist\n",
    "\n",
    "RuntimeError=\tRaised when an error occurs that do not belong to any \n",
    "specific exceptions\n",
    "\n",
    "StopIteration=\tRaised when the next() method of an iterator has no further values\n",
    "\n",
    "SyntaxError=\tRaised when a syntax error occurs\n",
    "\n",
    "TabError=\tRaised when indentation consists of tabs or spaces\n",
    "\n",
    "SystemError=\tRaised when a system error occurs\n",
    "\n",
    "SystemExit=\tRaised when the sys.exit() function is called\n",
    "\n",
    "TypeError=\tRaised when two different types are combined\n",
    "\n",
    "UnboundLocalError=\tRaised when a local variable is referenced before assignment\n",
    "\n",
    "UnicodeError=\tRaised when a unicode problem occurs\n",
    "\n",
    "UnicodeEncodeError=\tRaised when a unicode encoding problem occurs\n",
    "\n",
    "UnicodeDecodeError=\tRaised when a unicode decoding problem occurs\n",
    "\n",
    "UnicodeTranslateError=\tRaised when a unicode translation problem occurs\n",
    "\n",
    "ValueError=\tRaised when there is a wrong value in a specified data type\n",
    "\n",
    "ZeroDivisionError=\tRaised when the second operator in a division is zero"
   ]
  },
  {
   "cell_type": "code",
   "execution_count": 1,
   "metadata": {},
   "outputs": [
    {
     "ename": "ZeroDivisionError",
     "evalue": "division by zero",
     "output_type": "error",
     "traceback": [
      "\u001b[1;31m---------------------------------------------------------------------------\u001b[0m",
      "\u001b[1;31mZeroDivisionError\u001b[0m                         Traceback (most recent call last)",
      "Cell \u001b[1;32mIn[1], line 4\u001b[0m\n\u001b[0;32m      1\u001b[0m \u001b[38;5;66;03m#1.ArithmeticError\u001b[39;00m\n\u001b[0;32m      2\u001b[0m \u001b[38;5;66;03m#Example: Trying to divide by zero.\u001b[39;00m\n\u001b[1;32m----> 4\u001b[0m result \u001b[38;5;241m=\u001b[39m \u001b[38;5;241;43m10\u001b[39;49m\u001b[43m \u001b[49m\u001b[38;5;241;43m/\u001b[39;49m\u001b[43m \u001b[49m\u001b[38;5;241;43m0\u001b[39;49m  \u001b[38;5;66;03m# ZeroDivisionError: division by zero\u001b[39;00m\n",
      "\u001b[1;31mZeroDivisionError\u001b[0m: division by zero"
     ]
    }
   ],
   "source": [
    "#1.ArithmeticError\n",
    "#Example: Trying to divide by zero.\n",
    "\n",
    "result = 10 / 0  # ZeroDivisionError: division by zero"
   ]
  },
  {
   "cell_type": "code",
   "execution_count": null,
   "metadata": {},
   "outputs": [],
   "source": [
    "try:\n",
    "    result = 10 / 0  # Attempting division by zero\n",
    "except ArithmeticError as e:\n",
    "    print(f\"ArithmeticError occurred: {e}\")\n"
   ]
  },
  {
   "cell_type": "code",
   "execution_count": 2,
   "metadata": {},
   "outputs": [
    {
     "ename": "AssertionError",
     "evalue": "Assertion failed: x is not equal to 4",
     "output_type": "error",
     "traceback": [
      "\u001b[1;31m---------------------------------------------------------------------------\u001b[0m",
      "\u001b[1;31mAssertionError\u001b[0m                            Traceback (most recent call last)",
      "Cell \u001b[1;32mIn[2], line 4\u001b[0m\n\u001b[0;32m      1\u001b[0m \u001b[38;5;66;03m#2. AssertionError\u001b[39;00m\n\u001b[0;32m      2\u001b[0m \u001b[38;5;66;03m#Example: Assertion failure.\u001b[39;00m\n\u001b[0;32m      3\u001b[0m x \u001b[38;5;241m=\u001b[39m \u001b[38;5;241m5\u001b[39m\n\u001b[1;32m----> 4\u001b[0m \u001b[38;5;28;01massert\u001b[39;00m x \u001b[38;5;241m==\u001b[39m \u001b[38;5;241m4\u001b[39m, \u001b[38;5;124m\"\u001b[39m\u001b[38;5;124mAssertion failed: x is not equal to 4\u001b[39m\u001b[38;5;124m\"\u001b[39m\n",
      "\u001b[1;31mAssertionError\u001b[0m: Assertion failed: x is not equal to 4"
     ]
    }
   ],
   "source": [
    "#2. AssertionError\n",
    "#Example: Assertion failure.\n",
    "x = 5\n",
    "assert x == 4, \"Assertion failed: x is not equal to 4\""
   ]
  },
  {
   "cell_type": "code",
   "execution_count": null,
   "metadata": {},
   "outputs": [],
   "source": [
    "try:\n",
    "    x = 5\n",
    "    assert x == 4, \"Assertion failed: x is not equal to 4\"\n",
    "except AssertionError as e:\n",
    "    print(f\"AssertionError occurred: {e}\")\n"
   ]
  },
  {
   "cell_type": "code",
   "execution_count": null,
   "metadata": {},
   "outputs": [],
   "source": [
    "#3. AttributeError\n",
    "#Example: Accessing a non-existent attribute.\n",
    "class MyClass:\n",
    "    pass\n",
    "    \n",
    "obj = MyClass()\n",
    "print(obj.attribute)  # AttributeError: 'MyClass' object has no attribute 'attr"
   ]
  },
  {
   "cell_type": "code",
   "execution_count": null,
   "metadata": {},
   "outputs": [],
   "source": [
    "class MyClass:\n",
    "    pass\n",
    "    \n",
    "obj = MyClass()\n",
    "try:\n",
    "    print(obj.attribute)  # Accessing a non-existent attribute\n",
    "except AttributeError as e:\n",
    "    print(f\"AttributeError occurred: {e}\")\n"
   ]
  },
  {
   "cell_type": "code",
   "execution_count": null,
   "metadata": {},
   "outputs": [],
   "source": [
    "#4. EOFError\n",
    "#Example: Simulating end-of-file condition.\n",
    "input_data = input(\"Enter something: \")\n",
    "print(input_data)\n",
    "# On running this, pressing Ctrl+d (Unix/Linux) or Ctrl+z (Windows) signals EOFErr"
   ]
  },
  {
   "cell_type": "code",
   "execution_count": null,
   "metadata": {},
   "outputs": [],
   "source": [
    "try:\n",
    "    input_data = input(\"Enter something: \")\n",
    "except EOFError:\n",
    "    print(\"EOFError occurred: End of input reached unexpectedly\")\n"
   ]
  },
  {
   "cell_type": "code",
   "execution_count": null,
   "metadata": {},
   "outputs": [],
   "source": [
    "#5. FloatingPointError\n",
    "#Example: Floating point calculation error.\n",
    "result = 1.0 / 0.0  # FloatingPointError: float division by zero"
   ]
  },
  {
   "cell_type": "code",
   "execution_count": null,
   "metadata": {},
   "outputs": [],
   "source": [
    "try:\n",
    "    result = 1.0 / 0.0  # Division by zero in floating point calculation\n",
    "except FloatingPointError as e:\n",
    "    print(f\"FloatingPointError occurred: {e}\")\n"
   ]
  },
  {
   "cell_type": "code",
   "execution_count": null,
   "metadata": {},
   "outputs": [],
   "source": [
    "#6.Generator error\n",
    "def my_generator():\n",
    "    try:\n",
    "        yield 1\n",
    "    finally:\n",
    "        print(\"Generator closing\")\n",
    "\n",
    "gen = my_generator()\n",
    "next(gen)\n",
    "gen.close()  # GeneratorExit: closing a running generator\n"
   ]
  },
  {
   "cell_type": "code",
   "execution_count": null,
   "metadata": {},
   "outputs": [],
   "source": [
    "def my_generator():\n",
    "    try:\n",
    "        yield 1\n",
    "    finally:\n",
    "        print(\"Generator closing\")\n",
    "\n",
    "gen = my_generator()\n",
    "try:\n",
    "    next(gen)\n",
    "    gen.close()  # Closing a running generator\n",
    "except GeneratorExit:\n",
    "    print(\"GeneratorExit occurred: Generator closed\")\n"
   ]
  },
  {
   "cell_type": "code",
   "execution_count": null,
   "metadata": {},
   "outputs": [],
   "source": [
    "#7.Import error\n",
    "import non_existent_module  # ImportError: No module named 'non_existent_module'\n"
   ]
  },
  {
   "cell_type": "code",
   "execution_count": null,
   "metadata": {},
   "outputs": [],
   "source": [
    "try:\n",
    "    import non_existent_module  # Attempting to import a non-existent module\n",
    "except ImportError as e:\n",
    "    print(f\"ImportError occurred: {e}\")\n"
   ]
  },
  {
   "cell_type": "code",
   "execution_count": null,
   "metadata": {},
   "outputs": [],
   "source": []
  },
  {
   "cell_type": "code",
   "execution_count": null,
   "metadata": {},
   "outputs": [],
   "source": [
    "#8. IndentationError\n",
    "if True:\n",
    "print(\"Indented incorrectly\")  # IndentationError: expected an indented block\n"
   ]
  },
  {
   "cell_type": "code",
   "execution_count": null,
   "metadata": {},
   "outputs": [],
   "source": [
    "try:\n",
    "    if True:\n",
    "    print(\"Indented incorrectly\")  # Incorrect indentation\n",
    "except IndentationError as e:\n",
    "    print(f\"IndentationError occurred: {e}\")\n"
   ]
  },
  {
   "cell_type": "code",
   "execution_count": null,
   "metadata": {},
   "outputs": [],
   "source": [
    "#9.9. IndexError\n",
    "#Example: Index out of range.\n",
    "my_list = [1, 2, 3]\n",
    "print(my_list[3])  # IndexError: list index out of range"
   ]
  },
  {
   "cell_type": "code",
   "execution_count": null,
   "metadata": {},
   "outputs": [],
   "source": [
    "my_list = [1, 2, 3]\n",
    "try:\n",
    "    print(my_list[3])  # Accessing index out of range\n",
    "except IndexError as e:\n",
    "    print(f\"IndexError occurred: {e}\")\n"
   ]
  },
  {
   "cell_type": "code",
   "execution_count": null,
   "metadata": {},
   "outputs": [],
   "source": [
    "#10. KeyError\n",
    "#Example: Accessing a non-existent key in a dictionary.\n",
    "\n",
    "my_dict = {'a': 1, 'b': 2}\n",
    "print(my_dict['c'])  # KeyError: 'c'"
   ]
  },
  {
   "cell_type": "code",
   "execution_count": null,
   "metadata": {},
   "outputs": [],
   "source": [
    "my_dict = {'a': 1, 'b': 2}\n",
    "try:\n",
    "    print(my_dict['c'])  # Accessing a non-existent key in dictionary\n",
    "except KeyError as e:\n",
    "    print(f\"KeyError occurred: {e}\")\n"
   ]
  },
  {
   "cell_type": "code",
   "execution_count": null,
   "metadata": {},
   "outputs": [],
   "source": []
  },
  {
   "cell_type": "code",
   "execution_count": null,
   "metadata": {},
   "outputs": [],
   "source": [
    "#11.11. KeyboardInterrupt\n",
    "#Example: User interrupts the program with Ctrl+c.\n",
    "\n",
    "while True:\n",
    "    try:\n",
    "        pass\n",
    "    except KeyboardInterrupt:\n",
    "        print(\"\\nProgram interrupted by user.\")\n",
    "        break"
   ]
  },
  {
   "cell_type": "code",
   "execution_count": null,
   "metadata": {},
   "outputs": [],
   "source": [
    "try:\n",
    "    while True:\n",
    "        pass\n",
    "except KeyboardInterrupt:\n",
    "    print(\"\\nKeyboardInterrupt occurred: Program interrupted by user.\")\n"
   ]
  },
  {
   "cell_type": "code",
   "execution_count": null,
   "metadata": {},
   "outputs": [],
   "source": [
    "\"\"\"12.12. LookupError\n",
    "Example: Raised when a key or index can't be found in a mapping or sequence.\n",
    "This is an abstract base class; specific subclasses are IndexError and KeyError.\"\"\""
   ]
  },
  {
   "cell_type": "code",
   "execution_count": null,
   "metadata": {},
   "outputs": [],
   "source": [
    "\"\"\"13.MemoryError\n",
    "Example: Running out of memory.\n",
    "This typically happens when a program tries to allocate more memory than the system can provide.\n",
    "\"\"\""
   ]
  },
  {
   "cell_type": "code",
   "execution_count": null,
   "metadata": {},
   "outputs": [],
   "source": [
    "\"\"\"14. NameError\n",
    "Example: Referencing an undefined variable.\n",
    "python\n",
    "Copy code\n",
    "\"\"\"\n",
    "print(some_variable)  # NameError: name 'some_variable' is not defined"
   ]
  },
  {
   "cell_type": "code",
   "execution_count": null,
   "metadata": {},
   "outputs": [],
   "source": [
    "#15. NotImplementedError\n",
    "#Example: Abstract method not overridden in subclass.\n",
    "\n",
    "class BaseClass:\n",
    "    def some_method(self):\n",
    "        raise NotImplementedError(\"Subclasses must override this method.\")\n",
    "class SubClass(BaseClass):\n",
    "    pass\n",
    "\n",
    "obj = SubClass()\n",
    "obj.some_method()  # NotImplementedError: Subclasses must override this method.\n"
   ]
  },
  {
   "cell_type": "code",
   "execution_count": null,
   "metadata": {},
   "outputs": [],
   "source": [
    "#16. OSError\n",
    "#Example: System-related error.\n",
    "\n",
    "import os\n",
    "os.remove('non_existent_file.txt')  # OSError: [Errno 2] No such file or direct"
   ]
  },
  {
   "cell_type": "code",
   "execution_count": null,
   "metadata": {},
   "outputs": [],
   "source": [
    "#17. OverflowError\n",
    "#Example: Result of a calculation is too large.\n",
    "\n",
    "import sys\n",
    "result = sys.maxsize + 1  # OverflowError: int too large to convert to float"
   ]
  },
  {
   "cell_type": "code",
   "execution_count": null,
   "metadata": {},
   "outputs": [],
   "source": [
    "#18. ReferenceError\n",
    "#Example: Weak reference object does not exist.\n",
    "\n",
    "\n",
    "import weakref\n",
    "obj = {}\n",
    "ref = weakref.ref(obj)\n",
    "del obj\n",
    "print(ref())  # ReferenceError: weakly-referenced object no longer exists"
   ]
  },
  {
   "cell_type": "code",
   "execution_count": null,
   "metadata": {},
   "outputs": [],
   "source": [
    "#19. RuntimeError\n",
    "#Example: Generic runtime error.\n",
    "\n",
    "raise RuntimeError(\"This is a runtime error.\")"
   ]
  },
  {
   "cell_type": "code",
   "execution_count": null,
   "metadata": {},
   "outputs": [],
   "source": [
    "#20. StopIteration\n",
    "#Example: Iteration exceeds available values.\n",
    "\n",
    "iterator = iter([1, 2, 3])\n",
    "print(next(iterator))\n",
    "print(next(iterator))\n",
    "print(next(iterator))\n",
    "print(next(iterator))  # StopIteration: "
   ]
  },
  {
   "cell_type": "code",
   "execution_count": null,
   "metadata": {},
   "outputs": [],
   "source": [
    "#21. SyntaxError\n",
    "#Example: Incorrect syntax.\n",
    "\n",
    "print \"Hello, World!\"  # SyntaxError: Missing parentheses in call to 'print'"
   ]
  },
  {
   "cell_type": "code",
   "execution_count": null,
   "metadata": {},
   "outputs": [],
   "source": [
    "#22. TabError\n",
    "#Example: Inconsistent use of tabs and spaces for indentation.\n",
    "def some_function():\n",
    "\tprint(\"Indented with tab\")  # TabError: inconsistent use of tabs and spaces in indentation"
   ]
  },
  {
   "cell_type": "code",
   "execution_count": null,
   "metadata": {},
   "outputs": [],
   "source": [
    "#23. SystemError\n",
    "Example: Internal error in Python interpreter.\n",
    "This is rare and usually indicates a bug in Python itself."
   ]
  },
  {
   "cell_type": "code",
   "execution_count": null,
   "metadata": {},
   "outputs": [],
   "source": [
    "#24.SystemExit\n",
    "#Example: Exiting the program.\n",
    "\n",
    "import sys\n",
    "sys.exit()  # SystemExit"
   ]
  },
  {
   "cell_type": "code",
   "execution_count": 1,
   "metadata": {},
   "outputs": [
    {
     "ename": "TypeError",
     "evalue": "can only concatenate str (not \"int\") to str",
     "output_type": "error",
     "traceback": [
      "\u001b[1;31m---------------------------------------------------------------------------\u001b[0m",
      "\u001b[1;31mTypeError\u001b[0m                                 Traceback (most recent call last)",
      "Cell \u001b[1;32mIn[1], line 6\u001b[0m\n\u001b[0;32m      1\u001b[0m \u001b[38;5;66;03m#25.TypeError\u001b[39;00m\n\u001b[0;32m      2\u001b[0m \u001b[38;5;66;03m#Example: Incompatible types.\u001b[39;00m\n\u001b[1;32m----> 6\u001b[0m \u001b[38;5;28mprint\u001b[39m(\u001b[38;5;124;43m\"\u001b[39;49m\u001b[38;5;124;43m5\u001b[39;49m\u001b[38;5;124;43m\"\u001b[39;49m\u001b[43m \u001b[49m\u001b[38;5;241;43m+\u001b[39;49m\u001b[43m \u001b[49m\u001b[38;5;241;43m5\u001b[39;49m)\n\u001b[0;32m      8\u001b[0m \u001b[38;5;66;03m# TypeError: can only concatenate str (not \"int\") to str\u001b[39;00m\n",
      "\u001b[1;31mTypeError\u001b[0m: can only concatenate str (not \"int\") to str"
     ]
    }
   ],
   "source": [
    "#25.TypeError\n",
    "#Example: Incompatible types.\n",
    "\n",
    "\n",
    "\n",
    "print(\"5\" + 5)\n",
    "\n",
    "# TypeError: can only concatenate str (not \"int\") to str"
   ]
  },
  {
   "cell_type": "code",
   "execution_count": 2,
   "metadata": {},
   "outputs": [
    {
     "name": "stdout",
     "output_type": "stream",
     "text": [
      "TypeError: can only concatenate str (not \"int\") to str\n"
     ]
    }
   ],
   "source": [
    "# Handle TypeError\n",
    "try:\n",
    "    print(\"5\" + 5)\n",
    "except TypeError as e:\n",
    "    print(f\"TypeError: {e}\")\n"
   ]
  },
  {
   "cell_type": "code",
   "execution_count": null,
   "metadata": {},
   "outputs": [],
   "source": [
    "#26.UnboundLocalError\n",
    "#Example: Referencing a local variable before assignment.\n",
    "\n",
    "def some_function():\n",
    "    print(my_variable)\n",
    "    my_variable = 10\n",
    "some_function()  # UnboundLocalError: local variable 'my_variable' referenced before assignment#"
   ]
  },
  {
   "cell_type": "code",
   "execution_count": null,
   "metadata": {},
   "outputs": [],
   "source": [
    "#27. UnicodeError, UnicodeEncodeError, UnicodeDecodeError, UnicodeTranslateError\n",
    "#Example: Unicode-related errors.\n",
    "#These errors occur when encoding, decoding, or translating Unicode data fails."
   ]
  },
  {
   "cell_type": "code",
   "execution_count": null,
   "metadata": {},
   "outputs": [],
   "source": [
    "#28.28. ValueError\n",
    "#Example: Invalid value for a specified data type.\n",
    "\n",
    "int_value = int('abc')  # ValueError: invalid literal for int() with base 10: 'abc'"
   ]
  },
  {
   "cell_type": "code",
   "execution_count": null,
   "metadata": {},
   "outputs": [],
   "source": [
    "#29. ZeroDivisionError\n",
    "#Example: Attempting to divide by zero.\n",
    "\n",
    "result = 10 / 0  # ZeroDivisionError: division by zero"
   ]
  },
  {
   "cell_type": "code",
   "execution_count": 8,
   "metadata": {},
   "outputs": [
    {
     "name": "stdout",
     "output_type": "stream",
     "text": [
      "     A    B\n",
      "0  1.0  NaN\n",
      "1  2.0  2.0\n",
      "2  NaN  3.0\n",
      "3  4.0  4.0\n"
     ]
    }
   ],
   "source": [
    "import pandas as pd\n",
    "import numpy as np\n",
    "\n",
    "#  Missing Values Error\n",
    "df = pd.DataFrame({\n",
    "    \"A\": [1, 2, np.nan, 4],\n",
    "    \"B\": [np.nan, 2, 3, 4]\n",
    "})\n",
    "\n",
    "\n",
    "print(df)\n"
   ]
  },
  {
   "cell_type": "code",
   "execution_count": 9,
   "metadata": {},
   "outputs": [
    {
     "name": "stdout",
     "output_type": "stream",
     "text": [
      "     A    B\n",
      "0  1.0  0.0\n",
      "1  2.0  2.0\n",
      "2  0.0  3.0\n",
      "3  4.0  4.0\n"
     ]
    }
   ],
   "source": [
    "# Handle Missing Values\n",
    "df.fillna(0, inplace=True)\n",
    "print(df)\n"
   ]
  },
  {
   "cell_type": "code",
   "execution_count": 10,
   "metadata": {},
   "outputs": [
    {
     "name": "stdout",
     "output_type": "stream",
     "text": [
      "       A\n",
      "0      1\n",
      "1      2\n",
      "2  three\n",
      "3      4\n"
     ]
    }
   ],
   "source": [
    "# Incorrect Data Types Error\n",
    "df = pd.DataFrame({\n",
    "    \"A\": [\"1\", \"2\", \"three\", \"4\"]\n",
    "})\n",
    "\n",
    "print(df)\n"
   ]
  },
  {
   "cell_type": "code",
   "execution_count": 11,
   "metadata": {},
   "outputs": [
    {
     "name": "stdout",
     "output_type": "stream",
     "text": [
      "     A\n",
      "0  1.0\n",
      "1  2.0\n",
      "2  NaN\n",
      "3  4.0\n"
     ]
    }
   ],
   "source": [
    "# Handle Incorrect Data Types\n",
    "df[\"A\"] = pd.to_numeric(df[\"A\"], errors='coerce')\n",
    "print(df)\n"
   ]
  },
  {
   "cell_type": "code",
   "execution_count": 12,
   "metadata": {},
   "outputs": [
    {
     "name": "stdout",
     "output_type": "stream",
     "text": [
      "   A  B     C\n",
      "0  1  4  0.25\n",
      "1  2  5  0.40\n",
      "2  3  6  0.50\n"
     ]
    }
   ],
   "source": [
    "# Reproduce Incorrect Formulas Error\n",
    "df = pd.DataFrame({\n",
    "    \"A\": [1, 2, 3],\n",
    "    \"B\": [4, 5, 6]\n",
    "})\n",
    "df[\"C\"] = df[\"A\"] / df[\"B\"]\n",
    "print(df)\n"
   ]
  },
  {
   "cell_type": "code",
   "execution_count": 13,
   "metadata": {},
   "outputs": [
    {
     "name": "stdout",
     "output_type": "stream",
     "text": [
      "   A  B   C\n",
      "0  1  4   4\n",
      "1  2  5  10\n",
      "2  3  6  18\n"
     ]
    }
   ],
   "source": [
    "# Handle -Incorrect Formulas\n",
    "df[\"C\"] = df[\"A\"] * df[\"B\"]\n",
    "print(df)\n"
   ]
  },
  {
   "cell_type": "code",
   "execution_count": null,
   "metadata": {},
   "outputs": [],
   "source": []
  }
 ],
 "metadata": {
  "kernelspec": {
   "display_name": "Python 3",
   "language": "python",
   "name": "python3"
  },
  "language_info": {
   "codemirror_mode": {
    "name": "ipython",
    "version": 3
   },
   "file_extension": ".py",
   "mimetype": "text/x-python",
   "name": "python",
   "nbconvert_exporter": "python",
   "pygments_lexer": "ipython3",
   "version": "3.11.9"
  }
 },
 "nbformat": 4,
 "nbformat_minor": 2
}
