{
 "cells": [
  {
   "cell_type": "markdown",
   "id": "fb4a1fd4-4568-4cbf-b9b8-a49fc610e7ff",
   "metadata": {},
   "source": [
    "1. What is the role of try and exception block?"
   ]
  },
  {
   "cell_type": "markdown",
   "id": "5159d033-1d63-46e5-9778-0e109aa88fdb",
   "metadata": {},
   "source": [
    "In Python, we have exceptional handling as a process. When our program runs through an error then we use exceptional handling to give error and print specific error out of it. In which we use this try and exception block.\n",
    "\n",
    "Try block lets us test a block of code for errors. Except block lets you handle the error."
   ]
  },
  {
   "cell_type": "code",
   "execution_count": 1,
   "id": "b9518099-c919-432e-bdcc-1d4cc9f5307d",
   "metadata": {},
   "outputs": [
    {
     "ename": "NameError",
     "evalue": "name 'x' is not defined",
     "output_type": "error",
     "traceback": [
      "\u001b[1;31m---------------------------------------------------------------------------\u001b[0m",
      "\u001b[1;31mNameError\u001b[0m                                 Traceback (most recent call last)",
      "Cell \u001b[1;32mIn[1], line 2\u001b[0m\n\u001b[0;32m      1\u001b[0m \u001b[38;5;66;03m#normal function with error\u001b[39;00m\n\u001b[1;32m----> 2\u001b[0m \u001b[38;5;28mprint\u001b[39m(x)\n",
      "\u001b[1;31mNameError\u001b[0m: name 'x' is not defined"
     ]
    }
   ],
   "source": [
    "#normal function with error\n",
    "print(x)"
   ]
  },
  {
   "cell_type": "code",
   "execution_count": null,
   "id": "dd7a3c1f-ae0c-44ff-8982-c73dad6e13a9",
   "metadata": {},
   "outputs": [],
   "source": [
    "#exceptional handled function\n",
    "try:\n",
    "    print(x) #what code can throw an error / error will be in the try block\n",
    "except:\n",
    "    print(\"There is no x\") # After try, except will be executed"
   ]
  },
  {
   "cell_type": "markdown",
   "id": "39223114-2e95-4490-bece-d8233c3bf42c",
   "metadata": {},
   "source": [
    "2. What is the syntax for a basic try-except block?"
   ]
  },
  {
   "cell_type": "markdown",
   "id": "fe73b40e-8b8d-4997-a7d3-7f4e8b9283d7",
   "metadata": {},
   "source": [
    "For try-except block. We use try and except in the function where try finds the error and except handles it."
   ]
  },
  {
   "cell_type": "code",
   "execution_count": 6,
   "id": "0a85abd4-0e43-4487-9180-7e3882eb39d6",
   "metadata": {},
   "outputs": [
    {
     "name": "stdout",
     "output_type": "stream",
     "text": [
      "There is no x\n"
     ]
    }
   ],
   "source": [
    "try: # finds the error\n",
    "    print(x)\n",
    "except: # handles the error\n",
    "    print(\"There is no x\") # After try, except will be executed"
   ]
  },
  {
   "cell_type": "markdown",
   "id": "8d791f7a-da56-476e-bd87-3bea37182933",
   "metadata": {},
   "source": [
    "3. What happens if an exception occurs inside a try block and there is no matching except block?"
   ]
  },
  {
   "cell_type": "markdown",
   "id": "6b12d534-798f-4dca-89be-d1fa55e0bb80",
   "metadata": {},
   "source": [
    "When an exception occurs inside a try block and there is no matching except block in the code then the program will throw the error with the excception for that code if it's aviable in python."
   ]
  },
  {
   "cell_type": "code",
   "execution_count": 12,
   "id": "655a889e-2ff7-4b43-b2d6-793b9bcfc6c8",
   "metadata": {},
   "outputs": [
    {
     "name": "stdin",
     "output_type": "stream",
     "text": [
      "Enter num1 :  6\n",
      "Enter num2 :  0\n"
     ]
    },
    {
     "ename": "ZeroDivisionError",
     "evalue": "division by zero",
     "output_type": "error",
     "traceback": [
      "\u001b[1;31m---------------------------------------------------------------------------\u001b[0m",
      "\u001b[1;31mZeroDivisionError\u001b[0m                         Traceback (most recent call last)",
      "Cell \u001b[1;32mIn[12], line 6\u001b[0m\n\u001b[0;32m      3\u001b[0m     n \u001b[38;5;241m=\u001b[39m \u001b[38;5;28mint\u001b[39m(\u001b[38;5;28minput\u001b[39m(\u001b[38;5;124m\"\u001b[39m\u001b[38;5;124mEnter num1 : \u001b[39m\u001b[38;5;124m\"\u001b[39m))\n\u001b[0;32m      4\u001b[0m     d \u001b[38;5;241m=\u001b[39m \u001b[38;5;28mint\u001b[39m(\u001b[38;5;28minput\u001b[39m(\u001b[38;5;124m\"\u001b[39m\u001b[38;5;124mEnter num2 : \u001b[39m\u001b[38;5;124m\"\u001b[39m))\n\u001b[1;32m----> 6\u001b[0m     result \u001b[38;5;241m=\u001b[39m n \u001b[38;5;241m/\u001b[39m d\n\u001b[0;32m      7\u001b[0m     \u001b[38;5;28mprint\u001b[39m(\u001b[38;5;124m\"\u001b[39m\u001b[38;5;124mResult : \u001b[39m\u001b[38;5;124m\"\u001b[39m, result)\n\u001b[0;32m      8\u001b[0m \u001b[38;5;66;03m#except ZeroDivisionError:\u001b[39;00m\n\u001b[0;32m      9\u001b[0m     \u001b[38;5;66;03m#print(\"You have divided the number by zero\")\u001b[39;00m\n",
      "\u001b[1;31mZeroDivisionError\u001b[0m: division by zero"
     ]
    }
   ],
   "source": [
    "#not using zerodivision error code over here. So, we will get the zerodivision error in the code.\n",
    "try:\n",
    "    n = int(input(\"Enter num1 : \"))\n",
    "    d = int(input(\"Enter num2 : \"))\n",
    "    \n",
    "    result = n / d\n",
    "    print(\"Result : \", result)\n",
    "#except ZeroDivisionError:\n",
    "    #print(\"You have divided the number by zero\")\n",
    "except ValueError:\n",
    "    print(\"It should be integer but you entered float\")"
   ]
  },
  {
   "cell_type": "markdown",
   "id": "260a750f-94b4-4893-bbbc-89f80dd9fa06",
   "metadata": {},
   "source": [
    "4. What is the difference between using a bare except block and specifying a specific exception type?"
   ]
  },
  {
   "cell_type": "markdown",
   "id": "bf48e3d7-dcdd-4a54-9b7e-f456b592ad6c",
   "metadata": {},
   "source": [
    "When we will be using a bare except in the program then whatever the error will be there in the program it will throw the except block message directly nothing other than this. But when we specifty a exception block then it will give the specific error which will be occuring there in the program first of all."
   ]
  },
  {
   "cell_type": "code",
   "execution_count": 16,
   "id": "955c59ba-9db3-49e8-8d8b-b8225b58985b",
   "metadata": {},
   "outputs": [
    {
     "name": "stdin",
     "output_type": "stream",
     "text": [
      "Enter num1 :  6\n",
      "Enter num2 :  0\n"
     ]
    },
    {
     "name": "stdout",
     "output_type": "stream",
     "text": [
      "You have divided the number by zero\n"
     ]
    }
   ],
   "source": [
    "#here we will see that it enountered the zerodivision error that's why program took the zerodivision error at first\n",
    "try:\n",
    "    n = int(input(\"Enter num1 : \"))\n",
    "    d = int(input(\"Enter num2 : \"))\n",
    "    result = n / d\n",
    "    print(\"Result : \", result)\n",
    "except ZeroDivisionError:\n",
    "    print(\"You have divided the number by zero\")\n",
    "except ValueError:\n",
    "    print(\"It should be integer but you entered float\")"
   ]
  },
  {
   "cell_type": "markdown",
   "id": "0e388479-fcfc-4031-b4fa-9cb272a6d774",
   "metadata": {},
   "source": [
    "5. Can you have nested try-except blocks in Python? If yes, then give an example."
   ]
  },
  {
   "cell_type": "markdown",
   "id": "abbc1d49-b513-4afe-81e4-645a28430374",
   "metadata": {},
   "source": [
    "Yes, we can have nested try-except block in python."
   ]
  },
  {
   "cell_type": "markdown",
   "id": "5305ec5e-6853-475d-ae60-96625176dec5",
   "metadata": {},
   "source": [
    "###### nested try-except block\n",
    "x = 10\n",
    "y = 0\n",
    "try:\n",
    "    print(\"outer try block\")\n",
    "    try:\n",
    "        print(\"nested try block\")\n",
    "        print(x / y)\n",
    "    except TypeError:\n",
    "        print(\"nested except block\")\n",
    "except ZeroDivisionError:\n",
    "    print(\"outer except block\")"
   ]
  },
  {
   "cell_type": "markdown",
   "id": "e0abe4d2-1338-4302-b692-de9bb2dbdf04",
   "metadata": {},
   "source": [
    "6. Can we use multiple exception blocks, if yes then give an example."
   ]
  },
  {
   "cell_type": "markdown",
   "id": "e2a13e4f-4895-4142-ae3e-42fba73833ae",
   "metadata": {},
   "source": [
    "Yes, we can use multiple exception blocks."
   ]
  },
  {
   "cell_type": "code",
   "execution_count": 23,
   "id": "7c3cc055-609b-4865-9815-d798bbb3a347",
   "metadata": {},
   "outputs": [
    {
     "name": "stdout",
     "output_type": "stream",
     "text": [
      "can only concatenate str (not \"int\") to str\n"
     ]
    }
   ],
   "source": [
    "try:\n",
    "    name = 'Bob'\n",
    "    name += 5\n",
    "except NameError as ne:\n",
    "    # Code to handle NameError\n",
    "    print(ne)\n",
    "except TypeError as te:\n",
    "    # Code to handle TypeError\n",
    "    print(te)"
   ]
  },
  {
   "cell_type": "markdown",
   "id": "56c1a327-e268-4806-815d-aa41747902ec",
   "metadata": {},
   "source": [
    "7. Write the reason due to which following errors are raised:"
   ]
  },
  {
   "cell_type": "markdown",
   "id": "fd90ab48-ca64-4453-bc0c-01004df3e235",
   "metadata": {},
   "source": [
    "a. EOFError\n",
    "\n",
    "b. FloatingPointError\n",
    "\n",
    "c. IndexError\n",
    "\n",
    "d. MemoryError\n",
    "\n",
    "e. OverflowError\n",
    "\n",
    "f. TabError\n",
    "\n",
    "g. ValueError\n",
    "\n",
    "a. EOFError : This means \"End-of-Line Error.\" This error occurs when Python has reached the end of user input without receiving any input.\n",
    "\n",
    "b. FloatingPointError : This error occurs when we calcuate in Python and python has a big floating value. like for 10/3 = 3.33333333.......\n",
    "\n",
    "c. IndexError : This error occurs when an attempt is made to access an item in a list at an index which is out of bounds.\n",
    "\n",
    "d. MemoryError : A MemoryError means that the interpreter has run out of memory to allocate to your Python program.\n",
    "\n",
    "e. OverflowError : An OverflowError exception is raised when an arithmetic operation exceeds the limits to be represented.\n",
    "\n",
    "f. TabError : The inconsistent use of tabs and spaces in indentation\" occurs when we mix tabs and spaces in the same code block.\n",
    "\n",
    "g. ValueError : It is raised when a function receives an argument of the correct type but an inappropriate value. Also, the situation should not be described by a more precise exception such as IndexError."
   ]
  },
  {
   "cell_type": "code",
   "execution_count": null,
   "id": "3a4c1d5e-4b45-4be7-ab6d-6c7d88c301e6",
   "metadata": {},
   "outputs": [],
   "source": [
    "# EOFError\n",
    "try:\n",
    "    string = input()\n",
    "    print(string)\n",
    "except EOFError:\n",
    "    print(\"no data provided to input function\")"
   ]
  },
  {
   "cell_type": "code",
   "execution_count": null,
   "id": "206bcfc3-ec5b-4571-8bce-21242224d807",
   "metadata": {},
   "outputs": [],
   "source": [
    "# FloatingPointError\n",
    "try:\n",
    "    n = int(input(\"Enter num1 : \"))\n",
    "    d = int(input(\"Enter num2 : \"))\n",
    "    result = n / d\n",
    "    print(\"Result : \", result)\n",
    "except FloatingPointError:\n",
    "    print(\"You have a big floating number\")"
   ]
  },
  {
   "cell_type": "code",
   "execution_count": null,
   "id": "dcb69d8a-f80e-4c92-a98c-6eb8ae9a3b50",
   "metadata": {},
   "outputs": [],
   "source": [
    "#Index Error\n",
    "try:\n",
    "    list1 =[1, 2, 3, 4]\n",
    "    print(list1[4])\n",
    "except IndexError:\n",
    "    print(\"Index Error\")"
   ]
  },
  {
   "cell_type": "code",
   "execution_count": null,
   "id": "65659e0f-1f02-4281-b8a7-caaecbc193be",
   "metadata": {},
   "outputs": [],
   "source": [
    "# MemoryError\n",
    "try:\n",
    "    big_list = [1] * (10 ** 12)\n",
    "except MemoryError:\n",
    "    print(\"Insufficient memory for the list\")"
   ]
  },
  {
   "cell_type": "code",
   "execution_count": null,
   "id": "b7c56735-1236-4d4a-b30d-abbec809ca59",
   "metadata": {},
   "outputs": [],
   "source": [
    "# OverflowError\n",
    "try:\n",
    "    result = 5000 ** 10\n",
    "except OverflowError:\n",
    "    print(\"Too Big Calculation\")\n",
    "else:\n",
    "    print(result)"
   ]
  },
  {
   "cell_type": "code",
   "execution_count": null,
   "id": "ddc95519-3358-4555-9c97-7e09bbc02177",
   "metadata": {},
   "outputs": [],
   "source": [
    "# TabError\n",
    "x = int(input('Please enter a positive number:\\n'))\n",
    "try:\n",
    "      print(f'Square Root of {x} is {X**x}')\n",
    "except TabError:\n",
    "    print(\"TabError\")"
   ]
  },
  {
   "cell_type": "code",
   "execution_count": null,
   "id": "2c17350b-5b31-4b0d-86cc-7bbb47c23263",
   "metadata": {},
   "outputs": [],
   "source": [
    "# ValueError\n",
    "x = int(input('Please enter a positive number:\\n'))\n",
    "try:\n",
    "    print(f'Square Root of {x} is {X**x}')\n",
    "except ValueError:\n",
    "    print(\" ValueError\")"
   ]
  },
  {
   "cell_type": "markdown",
   "id": "ba774fb8-c20e-4e5c-b090-79bbcf6184af",
   "metadata": {},
   "source": [
    "8. Write code for the following given scenario and add try-exception block to it."
   ]
  },
  {
   "cell_type": "markdown",
   "id": "8b51d2ab-aac8-4dd1-9825-2c5caa4be2c7",
   "metadata": {},
   "source": [
    "a. Program to divide two numbers\n",
    "\n",
    "b. Program to convert a string to an integer\n",
    "\n",
    "c. Program to access an element in a list\n",
    "\n",
    "d. Program to handle a specific exception\n",
    "\n",
    "e. Program to handle any exception"
   ]
  },
  {
   "cell_type": "markdown",
   "id": "52b9a83c-bc13-4fb6-88e9-d5a24880e5f0",
   "metadata": {},
   "source": [
    "ANSWER\n",
    "a. Program to divide two numbers with ZeroDivisionError and ValueError.\n",
    "\n",
    "b. Program to convert a string to an integer with ValueError.\n",
    "\n",
    "c. Program to access an element in a list with IndexError.\n",
    "\n",
    "d. Program to handle a specific exception with key error.\n",
    "\n",
    "e. Program to handle any exception with try & except block only."
   ]
  },
  {
   "cell_type": "code",
   "execution_count": 30,
   "id": "e44dbd1a-e90e-4721-af92-c012c69249aa",
   "metadata": {},
   "outputs": [
    {
     "name": "stdin",
     "output_type": "stream",
     "text": [
      "Enter num1 :  6\n",
      "Enter num2 :  2\n"
     ]
    },
    {
     "name": "stdout",
     "output_type": "stream",
     "text": [
      "Result :  3.0\n"
     ]
    }
   ],
   "source": [
    "# Program to divide two numbers\n",
    "try:\n",
    "    n = int(input(\"Enter num1 : \"))\n",
    "    d = int(input(\"Enter num2 : \"))\n",
    "    \n",
    "    result = n / d\n",
    "    print(\"Result : \", result)\n",
    "except ZeroDivisionError:\n",
    "    print(\"You have divided the number by zero\")\n",
    "except ValueError:\n",
    "    print(\"It should interger but you entered float\")"
   ]
  },
  {
   "cell_type": "code",
   "execution_count": 32,
   "id": "1687075c-ba8e-4572-8399-312d85bd1328",
   "metadata": {},
   "outputs": [
    {
     "name": "stdout",
     "output_type": "stream",
     "text": [
      "123\n"
     ]
    }
   ],
   "source": [
    "# Program to convert a string to an integer\n",
    "string = \"123\"\n",
    "try:\n",
    "    string_int = int(string)\n",
    "    print(string_int)\n",
    "except ValueError:\n",
    "    # Handle the exception\n",
    "    print('Please enter an integer')"
   ]
  },
  {
   "cell_type": "code",
   "execution_count": 34,
   "id": "dd058a29-da3c-4402-9b59-d167e1fce39f",
   "metadata": {},
   "outputs": [
    {
     "name": "stdout",
     "output_type": "stream",
     "text": [
      "Index Error\n"
     ]
    }
   ],
   "source": [
    "# Program to access an element in a list\n",
    "try:\n",
    "    list1 =[1, 2, 3, 4]\n",
    "    print(list1[4])\n",
    "except IndexError:\n",
    "    print(\"Index Error\")"
   ]
  },
  {
   "cell_type": "code",
   "execution_count": 36,
   "id": "f73d3f0c-4be9-49c2-80c5-f5ba46de96a3",
   "metadata": {},
   "outputs": [
    {
     "name": "stdout",
     "output_type": "stream",
     "text": [
      "KeyError error occurred.\n"
     ]
    }
   ],
   "source": [
    "# Program to handle a specific exception - key error\n",
    "try:\n",
    "    my_dictionary = {\"name\": \"John\", \"age\": 30}\n",
    "    print(my_dictionary[\"city\"])  # Accessing a KEY which does not exist\n",
    "except KeyError:\n",
    "    print(\"KeyError error occurred.\")"
   ]
  },
  {
   "cell_type": "code",
   "execution_count": 38,
   "id": "99591aff-e4b7-4168-b3a1-be53a635867c",
   "metadata": {},
   "outputs": [
    {
     "name": "stdout",
     "output_type": "stream",
     "text": [
      "Error occurred.\n"
     ]
    }
   ],
   "source": [
    "# Program to handle any exception\n",
    "try:\n",
    "    my_dictionary = {\"name\": \"John\", \"age\": 30}\n",
    "    print(my_dictionary[\"city\"])  # Accessing a KEY which does not exist\n",
    "except:\n",
    "    print(\"Error occurred.\")"
   ]
  },
  {
   "cell_type": "code",
   "execution_count": null,
   "id": "22462b66-cacc-4897-aa14-bc67cc825972",
   "metadata": {},
   "outputs": [],
   "source": []
  },
  {
   "cell_type": "code",
   "execution_count": null,
   "id": "24984b23-1a29-442e-a575-90cdae613a27",
   "metadata": {},
   "outputs": [],
   "source": []
  },
  {
   "cell_type": "code",
   "execution_count": null,
   "id": "8896e1b6-801a-444a-b711-f87a446529d2",
   "metadata": {},
   "outputs": [],
   "source": []
  },
  {
   "cell_type": "code",
   "execution_count": null,
   "id": "913ef2aa-948b-43a1-b379-49fd424e6fde",
   "metadata": {},
   "outputs": [],
   "source": []
  },
  {
   "cell_type": "code",
   "execution_count": null,
   "id": "c1d839bd-bf33-4a4c-8e5f-276d7593ac61",
   "metadata": {},
   "outputs": [],
   "source": []
  },
  {
   "cell_type": "code",
   "execution_count": null,
   "id": "acc81dee-165f-4dda-9008-c4271a2f82e1",
   "metadata": {},
   "outputs": [],
   "source": []
  }
 ],
 "metadata": {
  "kernelspec": {
   "display_name": "Python 3 (ipykernel)",
   "language": "python",
   "name": "python3"
  },
  "language_info": {
   "codemirror_mode": {
    "name": "ipython",
    "version": 3
   },
   "file_extension": ".py",
   "mimetype": "text/x-python",
   "name": "python",
   "nbconvert_exporter": "python",
   "pygments_lexer": "ipython3",
   "version": "3.12.7"
  }
 },
 "nbformat": 4,
 "nbformat_minor": 5
}
