{
  "cells": [
    {
      "cell_type": "markdown",
      "metadata": {
        "id": "sFTurKkMrpD2"
      },
      "source": [
        "# Hopefully final notebook for semantic segmentation component"
      ]
    },
    {
      "cell_type": "code",
      "source": [
        "# install nondefault colab libraries\n",
        "!pip install datasets torchinfo torchmetrics datasets[vision]"
      ],
      "metadata": {
        "id": "kjiTYIphuKan",
        "outputId": "605a6494-72e7-4d6f-ae7b-5bfe2e507b54",
        "colab": {
          "base_uri": "https://localhost:8080/"
        }
      },
      "execution_count": null,
      "outputs": [
        {
          "output_type": "stream",
          "name": "stdout",
          "text": [
            "Requirement already satisfied: datasets in /usr/local/lib/python3.10/dist-packages (2.15.0)\n",
            "Requirement already satisfied: torchinfo in /usr/local/lib/python3.10/dist-packages (1.8.0)\n",
            "Requirement already satisfied: torchmetrics in /usr/local/lib/python3.10/dist-packages (1.2.0)\n",
            "Requirement already satisfied: numpy>=1.17 in /usr/local/lib/python3.10/dist-packages (from datasets) (1.23.5)\n",
            "Requirement already satisfied: pyarrow>=8.0.0 in /usr/local/lib/python3.10/dist-packages (from datasets) (9.0.0)\n",
            "Requirement already satisfied: pyarrow-hotfix in /usr/local/lib/python3.10/dist-packages (from datasets) (0.5)\n",
            "Requirement already satisfied: dill<0.3.8,>=0.3.0 in /usr/local/lib/python3.10/dist-packages (from datasets) (0.3.7)\n",
            "Requirement already satisfied: pandas in /usr/local/lib/python3.10/dist-packages (from datasets) (1.5.3)\n",
            "Requirement already satisfied: requests>=2.19.0 in /usr/local/lib/python3.10/dist-packages (from datasets) (2.31.0)\n",
            "Requirement already satisfied: tqdm>=4.62.1 in /usr/local/lib/python3.10/dist-packages (from datasets) (4.66.1)\n",
            "Requirement already satisfied: xxhash in /usr/local/lib/python3.10/dist-packages (from datasets) (3.4.1)\n",
            "Requirement already satisfied: multiprocess in /usr/local/lib/python3.10/dist-packages (from datasets) (0.70.15)\n",
            "Requirement already satisfied: fsspec[http]<=2023.10.0,>=2023.1.0 in /usr/local/lib/python3.10/dist-packages (from datasets) (2023.6.0)\n",
            "Requirement already satisfied: aiohttp in /usr/local/lib/python3.10/dist-packages (from datasets) (3.8.6)\n",
            "Requirement already satisfied: huggingface-hub>=0.18.0 in /usr/local/lib/python3.10/dist-packages (from datasets) (0.19.3)\n",
            "Requirement already satisfied: packaging in /usr/local/lib/python3.10/dist-packages (from datasets) (23.2)\n",
            "Requirement already satisfied: pyyaml>=5.1 in /usr/local/lib/python3.10/dist-packages (from datasets) (6.0.1)\n",
            "Requirement already satisfied: torch>=1.8.1 in /usr/local/lib/python3.10/dist-packages (from torchmetrics) (2.1.0+cu118)\n",
            "Requirement already satisfied: lightning-utilities>=0.8.0 in /usr/local/lib/python3.10/dist-packages (from torchmetrics) (0.9.0)\n",
            "Requirement already satisfied: Pillow>=6.2.1 in /usr/local/lib/python3.10/dist-packages (from datasets) (9.4.0)\n",
            "Requirement already satisfied: attrs>=17.3.0 in /usr/local/lib/python3.10/dist-packages (from aiohttp->datasets) (23.1.0)\n",
            "Requirement already satisfied: charset-normalizer<4.0,>=2.0 in /usr/local/lib/python3.10/dist-packages (from aiohttp->datasets) (3.3.2)\n",
            "Requirement already satisfied: multidict<7.0,>=4.5 in /usr/local/lib/python3.10/dist-packages (from aiohttp->datasets) (6.0.4)\n",
            "Requirement already satisfied: async-timeout<5.0,>=4.0.0a3 in /usr/local/lib/python3.10/dist-packages (from aiohttp->datasets) (4.0.3)\n",
            "Requirement already satisfied: yarl<2.0,>=1.0 in /usr/local/lib/python3.10/dist-packages (from aiohttp->datasets) (1.9.2)\n",
            "Requirement already satisfied: frozenlist>=1.1.1 in /usr/local/lib/python3.10/dist-packages (from aiohttp->datasets) (1.4.0)\n",
            "Requirement already satisfied: aiosignal>=1.1.2 in /usr/local/lib/python3.10/dist-packages (from aiohttp->datasets) (1.3.1)\n",
            "Requirement already satisfied: filelock in /usr/local/lib/python3.10/dist-packages (from huggingface-hub>=0.18.0->datasets) (3.13.1)\n",
            "Requirement already satisfied: typing-extensions>=3.7.4.3 in /usr/local/lib/python3.10/dist-packages (from huggingface-hub>=0.18.0->datasets) (4.5.0)\n",
            "Requirement already satisfied: idna<4,>=2.5 in /usr/local/lib/python3.10/dist-packages (from requests>=2.19.0->datasets) (3.4)\n",
            "Requirement already satisfied: urllib3<3,>=1.21.1 in /usr/local/lib/python3.10/dist-packages (from requests>=2.19.0->datasets) (2.0.7)\n",
            "Requirement already satisfied: certifi>=2017.4.17 in /usr/local/lib/python3.10/dist-packages (from requests>=2.19.0->datasets) (2023.7.22)\n",
            "Requirement already satisfied: sympy in /usr/local/lib/python3.10/dist-packages (from torch>=1.8.1->torchmetrics) (1.12)\n",
            "Requirement already satisfied: networkx in /usr/local/lib/python3.10/dist-packages (from torch>=1.8.1->torchmetrics) (3.2.1)\n",
            "Requirement already satisfied: jinja2 in /usr/local/lib/python3.10/dist-packages (from torch>=1.8.1->torchmetrics) (3.1.2)\n",
            "Requirement already satisfied: triton==2.1.0 in /usr/local/lib/python3.10/dist-packages (from torch>=1.8.1->torchmetrics) (2.1.0)\n",
            "Requirement already satisfied: python-dateutil>=2.8.1 in /usr/local/lib/python3.10/dist-packages (from pandas->datasets) (2.8.2)\n",
            "Requirement already satisfied: pytz>=2020.1 in /usr/local/lib/python3.10/dist-packages (from pandas->datasets) (2023.3.post1)\n",
            "Requirement already satisfied: six>=1.5 in /usr/local/lib/python3.10/dist-packages (from python-dateutil>=2.8.1->pandas->datasets) (1.16.0)\n",
            "Requirement already satisfied: MarkupSafe>=2.0 in /usr/local/lib/python3.10/dist-packages (from jinja2->torch>=1.8.1->torchmetrics) (2.1.3)\n",
            "Requirement already satisfied: mpmath>=0.19 in /usr/local/lib/python3.10/dist-packages (from sympy->torch>=1.8.1->torchmetrics) (1.3.0)\n"
          ]
        }
      ]
    },
    {
      "cell_type": "code",
      "execution_count": null,
      "metadata": {
        "id": "H2Cd3uLerpD4",
        "outputId": "351ca8bb-8787-4ec1-cdb9-89837afe8fbb",
        "colab": {
          "base_uri": "https://localhost:8080/"
        }
      },
      "outputs": [
        {
          "output_type": "execute_result",
          "data": {
            "text/plain": [
              "True"
            ]
          },
          "metadata": {},
          "execution_count": 2
        }
      ],
      "source": [
        "# entire code is being run on an Ubuntu kernel.\n",
        "# not many QoL libraries are needed.\n",
        "# your mileage may vary.\n",
        "import os\n",
        "import numpy as np\n",
        "import pandas as pd\n",
        "import matplotlib.pyplot as plt\n",
        "import datetime\n",
        "from tqdm import tqdm\n",
        "%matplotlib inline\n",
        "\n",
        "# dataset imports\n",
        "from datasets import load_dataset\n",
        "from torch.utils.data import Dataset, DataLoader\n",
        "from torchvision.io import read_image\n",
        "from PIL import Image\n",
        "from torchvision.utils import make_grid\n",
        "import torchvision.transforms as transforms\n",
        "from torchvision.transforms.functional import resize\n",
        "\n",
        "# AI imports\n",
        "from torch.nn import ConvTranspose2d, Conv2d, MaxPool2d, Module, ModuleList\n",
        "from torch.nn import Sequential, Softmax, CrossEntropyLoss, ReLU, BatchNorm2d\n",
        "from torch.nn import functional as F\n",
        "from torch.cuda.amp import autocast, GradScaler\n",
        "import torch\n",
        "\n",
        "# statistics\n",
        "from torchinfo import summary\n",
        "import torchmetrics as TM\n",
        "\n",
        "# test if GPU acceleration is working\n",
        "torch.cuda.is_available()"
      ]
    },
    {
      "cell_type": "markdown",
      "metadata": {
        "id": "wlBPmMjqrpD6"
      },
      "source": [
        "## Standard Helper Functions"
      ]
    },
    {
      "cell_type": "code",
      "execution_count": null,
      "metadata": {
        "id": "pMvSr18OrpD6",
        "outputId": "de5ada5b-7b74-4f43-8437-63d061a72b7d",
        "colab": {
          "base_uri": "https://localhost:8080/"
        }
      },
      "outputs": [
        {
          "output_type": "stream",
          "name": "stdout",
          "text": [
            "CUDA: True\n"
          ]
        }
      ],
      "source": [
        "def save_model_checkpoint(model, cp_name):\n",
        "    torch.save(model.state_dict(), os.path.join(\"./models/\", cp_name))\n",
        "\n",
        "\n",
        "def get_device():\n",
        "    if torch.cuda.is_available():\n",
        "        return torch.device(\"cuda\")\n",
        "    else:\n",
        "        return torch.device(\"cpu\")\n",
        "\n",
        "\n",
        "# Load model from saved checkpoint\n",
        "def load_model_from_checkpoint(model, ckp_path):\n",
        "    return model.load_state_dict(\n",
        "        torch.load(\n",
        "            ckp_path,\n",
        "            map_location=get_device(),\n",
        "        )\n",
        "    )\n",
        "\n",
        "\n",
        "# Send the Tensor or Model (input argument x) to the right device\n",
        "# for this notebook. i.e. if GPU is enabled, then send to GPU/CUDA\n",
        "# otherwise send to CPU.\n",
        "def to_device(x):\n",
        "    if torch.cuda.is_available():\n",
        "        return x.cuda()\n",
        "    else:\n",
        "        return x.cpu()\n",
        "\n",
        "\n",
        "def get_model_parameters(m):\n",
        "    total_params = sum(param.numel() for param in m.parameters())\n",
        "    return total_params\n",
        "\n",
        "\n",
        "def print_model_parameters(m):\n",
        "    num_model_parameters = get_model_parameters(m)\n",
        "    print(f\"The Model has {num_model_parameters/1e6:.2f}M parameters\")\n",
        "\n",
        "\n",
        "# end if\n",
        "\n",
        "\n",
        "def close_figures():\n",
        "    while len(plt.get_fignums()) > 0:\n",
        "        plt.close()\n",
        "\n",
        "\n",
        "t2img = transforms.ToPILImage()\n",
        "\n",
        "# Validation: Check if CUDA is available\n",
        "print(f\"CUDA: {torch.cuda.is_available()}\")"
      ]
    },
    {
      "cell_type": "markdown",
      "metadata": {
        "id": "HmCk6EUMrpD7"
      },
      "source": [
        "## Dataset Loading and Initialization"
      ]
    },
    {
      "cell_type": "markdown",
      "source": [
        "### all of this was made to run on my local machine, which no longer works due to memory issues."
      ],
      "metadata": {
        "id": "cZSXEfDnx9ma"
      }
    },
    {
      "cell_type": "code",
      "execution_count": null,
      "metadata": {
        "id": "TT8wt7E2rpD7"
      },
      "outputs": [],
      "source": [
        "# load in the ade20k pickle file to examine it.\n",
        "root = \"./ade20k/ADEChallengeData2016/\"\n",
        "images_dir = f\"{root}/images\"\n",
        "annotations_dir = f\"{root}/annotations\""
      ]
    },
    {
      "cell_type": "code",
      "execution_count": null,
      "metadata": {
        "id": "FiUMIElorpD7"
      },
      "outputs": [],
      "source": [
        "images_training_dir = f\"{images_dir}/training\"\n",
        "annotations_training_dir = f\"{annotations_dir}/training\"\n",
        "\n",
        "images_validation_dir = f\"{images_dir}/validation\"\n",
        "annotations_validation_dir = f\"{annotations_dir}/validation\"\n",
        "\n",
        "# training_images = sorted(os.listdir(images_training_dir))\n",
        "# print(len(training_images))\n",
        "\n",
        "# training_annotations = sorted(os.listdir(annotations_training_dir))\n",
        "# print(len(training_annotations))"
      ]
    },
    {
      "cell_type": "markdown",
      "source": [
        "# Turns out that this dataset is on HuggingFace Datasets, so we'll see where we can go from there"
      ],
      "metadata": {
        "id": "EYJGe7vEt1yU"
      }
    },
    {
      "cell_type": "code",
      "source": [
        "dataset = load_dataset(\"scene_parse_150\")"
      ],
      "metadata": {
        "id": "WG4z83tRt1jh"
      },
      "execution_count": null,
      "outputs": []
    },
    {
      "cell_type": "code",
      "execution_count": null,
      "metadata": {
        "id": "StjOarlurpD7"
      },
      "outputs": [],
      "source": [
        "# custom loader that probably won't be needed anymore\n",
        "class ADE20KDataset(Dataset):\n",
        "    def __init__(self, images_dir, annotations_dir, transforms=None, target_transforms=None):\n",
        "        self.images_dir = images_dir\n",
        "        self.annotations_dir = annotations_dir\n",
        "        self.transforms = transforms\n",
        "        self.target_transforms = target_transforms\n",
        "        self.image_files = sorted(os.listdir(images_dir))\n",
        "        self.mask_files = sorted(os.listdir(annotations_dir))\n",
        "\n",
        "    def __len__(self):\n",
        "        return len(self.image_files)\n",
        "\n",
        "    def __getitem__(self, idx):\n",
        "        image_filename = self.image_files[idx]\n",
        "\n",
        "        img_name = os.path.join(self.images_dir, image_filename)\n",
        "        image = Image.open(img_name).convert(\"RGB\")\n",
        "\n",
        "        # Generate the mask filename based on the image filename\n",
        "        mask_filename = image_filename.replace(\".jpg\", \".png\")\n",
        "        mask_name = os.path.join(self.annotations_dir, mask_filename)\n",
        "\n",
        "        mask = Image.open(mask_name)\n",
        "\n",
        "        if self.transforms:\n",
        "            image = self.transforms(image)\n",
        "        if self.target_transforms:\n",
        "            mask = self.transforms(mask)\n",
        "\n",
        "        return image, mask"
      ]
    },
    {
      "cell_type": "markdown",
      "metadata": {
        "id": "R9RmXFtIrpD7"
      },
      "source": [
        "### DETOUR 1: Find a good size to scale all images to for all models moving forward"
      ]
    },
    {
      "cell_type": "code",
      "execution_count": null,
      "metadata": {
        "id": "oY3jhzBSrpD8"
      },
      "outputs": [],
      "source": [
        "# This detour is no longer being run because it takes too much space,\n",
        "# and the result out of it is no longer valid (due to various memory issues),\n",
        "if False:\n",
        "    img_h, img_w = np.zeros((len(training_images))), np.zeros((len(training_images)))\n",
        "    for idx in range(len(training_images)):\n",
        "        timg = read_image(images_training_dir + \"/\" + training_images[idx])\n",
        "        img_h[idx] = timg.shape[1]\n",
        "        img_w[idx] = timg.shape[2]\n",
        "\n",
        "    image_size = pd.DataFrame({\"H\": img_h, \"W\": img_w}, dtype=\"int\")\n",
        "    image_size[\"ratio\"] = image_size[\"H\"] / image_size[\"W\"]\n",
        "    image_size.hist()"
      ]
    },
    {
      "cell_type": "code",
      "execution_count": null,
      "metadata": {
        "id": "AikOyX8KrpD8"
      },
      "outputs": [],
      "source": [
        "# Let's see how many samples we will be alienating from the dataset\n",
        "# image_size[image_size[\"H\"] > 768].shape[0] + image_size[image_size[\"W\"] > 768].shape[0]"
      ]
    },
    {
      "cell_type": "code",
      "source": [
        "dataset = dataset\n",
        "train, test, val = dataset[\"train\"].with_format(\"torch\"), dataset[\"test\"].with_format(\"torch\"), dataset[\"validation\"].with_format(\"torch\")\n",
        "train[0], test[0], val[0]"
      ],
      "metadata": {
        "id": "ug758ZokvFzm",
        "outputId": "7e8da0f4-780c-4537-ff8c-25115b6badb2",
        "colab": {
          "base_uri": "https://localhost:8080/"
        }
      },
      "execution_count": null,
      "outputs": [
        {
          "output_type": "execute_result",
          "data": {
            "text/plain": [
              "({'image': tensor([[[ 29,  27,  28],\n",
              "           [ 29,  27,  28],\n",
              "           [ 28,  28,  28],\n",
              "           ...,\n",
              "           [137, 119, 159],\n",
              "           [130, 112, 154],\n",
              "           [132, 114, 162]],\n",
              "  \n",
              "          [[ 29,  27,  28],\n",
              "           [ 29,  27,  28],\n",
              "           [ 28,  28,  28],\n",
              "           ...,\n",
              "           [139, 121, 161],\n",
              "           [137, 119, 161],\n",
              "           [142, 125, 170]],\n",
              "  \n",
              "          [[ 29,  27,  28],\n",
              "           [ 29,  27,  28],\n",
              "           [ 28,  28,  28],\n",
              "           ...,\n",
              "           [138, 120, 160],\n",
              "           [140, 122, 164],\n",
              "           [134, 117, 162]],\n",
              "  \n",
              "          ...,\n",
              "  \n",
              "          [[255, 240, 239],\n",
              "           [ 42,  18,  18],\n",
              "           [ 18,   0,   0],\n",
              "           ...,\n",
              "           [110,  59,  40],\n",
              "           [107,  58,  41],\n",
              "           [102,  56,  40]],\n",
              "  \n",
              "          [[255, 249, 248],\n",
              "           [ 50,  26,  26],\n",
              "           [ 26,   0,   1],\n",
              "           ...,\n",
              "           [118,  70,  48],\n",
              "           [122,  76,  53],\n",
              "           [106,  63,  44]],\n",
              "  \n",
              "          [[252, 231, 230],\n",
              "           [ 40,  16,  16],\n",
              "           [ 28,   2,   3],\n",
              "           ...,\n",
              "           [110,  64,  40],\n",
              "           [120,  75,  52],\n",
              "           [105,  63,  41]]], dtype=torch.uint8),\n",
              "  'annotation': tensor([[ 3,  3,  3,  ...,  0,  0,  0],\n",
              "          [ 3,  3,  3,  ...,  0,  0,  0],\n",
              "          [ 3,  3,  3,  ...,  3,  3,  0],\n",
              "          ...,\n",
              "          [ 0,  0, 55,  ..., 55,  0,  0],\n",
              "          [ 0,  0,  0,  ...,  0,  0,  0],\n",
              "          [ 0,  0,  0,  ...,  0,  0,  0]], dtype=torch.uint8),\n",
              "  'scene_category': tensor(873)},\n",
              " {'image': tensor([[[ 90, 105, 110],\n",
              "           [ 90, 105, 110],\n",
              "           [ 90, 105, 110],\n",
              "           ...,\n",
              "           [135, 152, 180],\n",
              "           [135, 151, 184],\n",
              "           [134, 150, 183]],\n",
              "  \n",
              "          [[ 90, 105, 110],\n",
              "           [ 89, 104, 109],\n",
              "           [ 89, 104, 109],\n",
              "           ...,\n",
              "           [137, 154, 182],\n",
              "           [136, 153, 183],\n",
              "           [136, 152, 185]],\n",
              "  \n",
              "          [[ 90, 103, 109],\n",
              "           [ 90, 103, 109],\n",
              "           [ 90, 103, 109],\n",
              "           ...,\n",
              "           [138, 155, 183],\n",
              "           [138, 155, 185],\n",
              "           [138, 155, 185]],\n",
              "  \n",
              "          ...,\n",
              "  \n",
              "          [[ 56,  43,  27],\n",
              "           [ 53,  40,  24],\n",
              "           [ 51,  37,  24],\n",
              "           ...,\n",
              "           [132, 132, 134],\n",
              "           [ 82,  83,  87],\n",
              "           [128, 129, 133]],\n",
              "  \n",
              "          [[ 54,  40,  27],\n",
              "           [ 51,  37,  24],\n",
              "           [ 48,  34,  23],\n",
              "           ...,\n",
              "           [123, 125, 137],\n",
              "           [ 64,  66,  79],\n",
              "           [ 99, 103, 115]],\n",
              "  \n",
              "          [[ 51,  39,  27],\n",
              "           [ 48,  36,  24],\n",
              "           [ 45,  32,  23],\n",
              "           ...,\n",
              "           [126, 127, 147],\n",
              "           [ 57,  59,  80],\n",
              "           [ 79,  84, 104]]], dtype=torch.uint8),\n",
              "  'annotation': None,\n",
              "  'scene_category': tensor(nan)},\n",
              " {'image': tensor([[[236, 246, 247],\n",
              "           [236, 246, 247],\n",
              "           [236, 246, 247],\n",
              "           ...,\n",
              "           [255, 255, 255],\n",
              "           [255, 255, 255],\n",
              "           [255, 255, 255]],\n",
              "  \n",
              "          [[236, 246, 247],\n",
              "           [236, 246, 247],\n",
              "           [236, 246, 247],\n",
              "           ...,\n",
              "           [255, 255, 255],\n",
              "           [255, 255, 255],\n",
              "           [255, 255, 255]],\n",
              "  \n",
              "          [[236, 246, 247],\n",
              "           [236, 246, 247],\n",
              "           [236, 246, 247],\n",
              "           ...,\n",
              "           [255, 255, 255],\n",
              "           [255, 255, 255],\n",
              "           [255, 255, 255]],\n",
              "  \n",
              "          ...,\n",
              "  \n",
              "          [[ 41,  41,  43],\n",
              "           [ 42,  42,  44],\n",
              "           [ 44,  44,  46],\n",
              "           ...,\n",
              "           [255, 255, 255],\n",
              "           [255, 255, 255],\n",
              "           [255, 255, 255]],\n",
              "  \n",
              "          [[ 41,  41,  43],\n",
              "           [ 41,  41,  43],\n",
              "           [ 43,  43,  45],\n",
              "           ...,\n",
              "           [255, 254, 255],\n",
              "           [255, 254, 255],\n",
              "           [255, 255, 255]],\n",
              "  \n",
              "          [[ 42,  42,  44],\n",
              "           [ 43,  43,  45],\n",
              "           [ 44,  44,  46],\n",
              "           ...,\n",
              "           [255, 254, 255],\n",
              "           [255, 254, 255],\n",
              "           [255, 254, 255]]], dtype=torch.uint8),\n",
              "  'annotation': tensor([[0, 0, 0,  ..., 0, 0, 0],\n",
              "          [0, 3, 3,  ..., 2, 2, 2],\n",
              "          [0, 3, 3,  ..., 2, 2, 2],\n",
              "          ...,\n",
              "          [0, 7, 7,  ..., 2, 2, 2],\n",
              "          [0, 7, 7,  ..., 2, 2, 2],\n",
              "          [0, 7, 7,  ..., 2, 2, 2]], dtype=torch.uint8),\n",
              "  'scene_category': tensor(927)})"
            ]
          },
          "metadata": {},
          "execution_count": 10
        }
      ]
    },
    {
      "cell_type": "markdown",
      "metadata": {
        "id": "IAMPMLOrrpD8"
      },
      "source": [
        "#### /DETOUR 1"
      ]
    },
    {
      "cell_type": "markdown",
      "metadata": {
        "id": "Odrum-q0rpD8"
      },
      "source": [
        "### create data loaders"
      ]
    },
    {
      "cell_type": "code",
      "execution_count": null,
      "metadata": {
        "id": "enJXvFyyrpD8"
      },
      "outputs": [],
      "source": [
        "train_batch = 8\n",
        "val_batch = 4\n",
        "target_size = 384 # for the purposes of segmentation for attention masks we feel\n",
        "                  # higher resolution images are important.\n",
        "\n",
        "imgtransform = transforms.Compose(\n",
        "    [\n",
        "        # transforms.ToPILImage(),\n",
        "        transforms.Resize((target_size)),\n",
        "        transforms.ToTensor(),\n",
        "    ]\n",
        ")\n",
        "\n",
        "msktransform = transforms.Compose(\n",
        "    [\n",
        "        # transforms.ToPILImage(),\n",
        "        transforms.Resize((target_size)),\n",
        "    ]\n",
        ")\n",
        "\n",
        "\n",
        "import torch\n",
        "import torch.nn.functional as F\n",
        "\n",
        "def irregular_image_collate(batch):\n",
        "    inputs, targets = [], []\n",
        "\n",
        "    # Define the resize transform\n",
        "    resize_transform = transforms.Compose([\n",
        "        transforms.ToPILImage(),\n",
        "        transforms.Resize(target_size),\n",
        "        transforms.ToTensor(),\n",
        "    ])\n",
        "\n",
        "    max_height, max_width = 0, 0\n",
        "\n",
        "    for i in batch:\n",
        "        # Apply resize transform to the image\n",
        "        resized_image = resize_transform(i[\"image\"].permute(2, 0, 1))\n",
        "\n",
        "        inputs.append(resized_image)\n",
        "\n",
        "        resized_annotation = resize_transform(i[\"annotation\"].unsqueeze(2).permute(2, 0, 1))\n",
        "        targets.append(resized_annotation)\n",
        "\n",
        "        # Update max height and width\n",
        "        max_height = max(max_height, resized_image.size(1), resized_annotation.size(1))\n",
        "        max_width = max(max_width, resized_image.size(2), resized_annotation.size(2))\n",
        "\n",
        "    # pad each input and target image to the maximum size\n",
        "    padded_inputs = [\n",
        "        F.pad(img, (0, max_width - img.size(2), 0, max_height - img.size(1)))\n",
        "        for img in inputs\n",
        "    ]\n",
        "\n",
        "    padded_targets = [\n",
        "        F.pad(img, (0, max_width - img.size(2), 0, max_height - img.size(1)))\n",
        "        for img in targets\n",
        "    ]\n",
        "\n",
        "    del inputs, targets\n",
        "\n",
        "    # stack the padded inputs and targets to create the batch\n",
        "    padded_inputs = torch.stack(padded_inputs, dim=0)\n",
        "    padded_targets = torch.stack(padded_targets, dim=0)\n",
        "\n",
        "    return padded_inputs, padded_targets\n"
      ]
    },
    {
      "cell_type": "code",
      "execution_count": null,
      "metadata": {
        "id": "u2yEObC_rpD8"
      },
      "outputs": [],
      "source": [
        "# make dataloaders for training and testing piplelines\n",
        "train_loader = DataLoader(train, batch_size=train_batch, shuffle=False,\n",
        "                          collate_fn=irregular_image_collate\n",
        "                          )\n",
        "\n",
        "val_loader = DataLoader(val, batch_size=val_batch, shuffle=False,\n",
        "                        collate_fn=irregular_image_collate\n",
        "                        )"
      ]
    },
    {
      "cell_type": "markdown",
      "metadata": {
        "id": "wnDT4klVrpD9"
      },
      "source": [
        "## Test Dataloader"
      ]
    },
    {
      "cell_type": "code",
      "execution_count": null,
      "metadata": {
        "id": "11n2yxbbrpD9"
      },
      "outputs": [],
      "source": [
        "def visualize_image_mask(image, mask):\n",
        "    plt.subplot(1, 2, 1)\n",
        "    plt.xticks([])\n",
        "    plt.yticks([])\n",
        "    plt.imshow(\n",
        "        image # .permute(1, 2, 0)\n",
        "    )  # for visualization we have to transpose back to HWC\n",
        "    plt.subplot(1, 2, 2)\n",
        "    # Turn off tick labels\n",
        "    plt.xticks([])\n",
        "    plt.yticks([])\n",
        "    plt.imshow(\n",
        "        mask # .permute(1, 2, 0)\n",
        "    )  # for visualization we have to remove 3rd dimension of mask\n",
        "    plt.show()"
      ]
    },
    {
      "cell_type": "code",
      "execution_count": null,
      "metadata": {
        "id": "if0Xqa_QrpD9",
        "outputId": "896e7ba1-585f-4e63-9e0e-6a341830982c",
        "colab": {
          "base_uri": "https://localhost:8080/"
        }
      },
      "outputs": [
        {
          "output_type": "stream",
          "name": "stdout",
          "text": [
            "torch.Size([480, 753, 3])\n",
            "torch.Size([480, 753])\n"
          ]
        }
      ],
      "source": [
        "image = train[0][\"image\"]\n",
        "mask = train[0][\"annotation\"]\n",
        "print(image.shape)\n",
        "print(mask.shape)"
      ]
    },
    {
      "cell_type": "code",
      "execution_count": null,
      "metadata": {
        "id": "wT40FkEwrpD9",
        "outputId": "227e1e9f-2ab0-445b-937c-d0d8bcb2b37b",
        "colab": {
          "base_uri": "https://localhost:8080/",
          "height": 180
        }
      },
      "outputs": [
        {
          "output_type": "display_data",
          "data": {
            "text/plain": [
              "<Figure size 640x480 with 2 Axes>"
            ],
            "image/png": "[encoded data removed]"
          },
          "metadata": {}
        }
      ],
      "source": [
        "visualize_image_mask(image, mask)"
      ]
    },
    {
      "cell_type": "markdown",
      "metadata": {
        "id": "vcnoR-O9rpD9"
      },
      "source": [
        "## Everything is in order, time to build the model and train it!"
      ]
    },
    {
      "cell_type": "markdown",
      "metadata": {
        "id": "Au6mG1FprpD9"
      },
      "source": [
        "## Model Definition"
      ]
    },
    {
      "cell_type": "code",
      "execution_count": null,
      "metadata": {
        "id": "f95k71gfrpD9"
      },
      "outputs": [],
      "source": [
        "class DoubleConv(Module):\n",
        "    def __init__(self, in_channels, out_channels):\n",
        "        super(DoubleConv, self).__init__()\n",
        "        self.conv = Sequential(\n",
        "            Conv2d(in_channels, out_channels, 3, 1, 1, bias=False),\n",
        "            BatchNorm2d(out_channels),\n",
        "            ReLU(inplace=True),\n",
        "            Conv2d(out_channels, out_channels, 3, 1, 1, bias=False),\n",
        "            BatchNorm2d(out_channels),\n",
        "            ReLU(inplace=True),\n",
        "        )\n",
        "\n",
        "    def forward(self, x):\n",
        "        return self.conv(x)\n",
        "\n",
        "class UNet(Module):\n",
        "    def __init__(\n",
        "            self, in_channels=3, out_channels=1, features=[64, 128, 256],\n",
        "    ):\n",
        "        super(UNet, self).__init__()\n",
        "        self.ups = ModuleList()\n",
        "        self.downs = ModuleList()\n",
        "        self.pool = MaxPool2d(kernel_size=2, stride=2)\n",
        "\n",
        "        # Down part of UNET\n",
        "        for feature in features:\n",
        "            self.downs.append(DoubleConv(in_channels, feature))\n",
        "            in_channels = feature\n",
        "\n",
        "        # Up part of UNET\n",
        "        for feature in reversed(features):\n",
        "            self.ups.append(\n",
        "                ConvTranspose2d(\n",
        "                    feature*2, feature, kernel_size=4, stride=2, padding=1, bias=False\n",
        "                )\n",
        "            )\n",
        "            self.ups.append(DoubleConv(feature*2, feature))\n",
        "\n",
        "        self.bottleneck = DoubleConv(features[-1], features[-1]*2)\n",
        "        self.final_conv = Conv2d(features[0], out_channels, kernel_size=3, padding=1)\n",
        "\n",
        "    def forward(self, x):\n",
        "        skip_connections = []\n",
        "\n",
        "        for down in self.downs:\n",
        "            x = down(x)\n",
        "            skip_connections.append(x)\n",
        "            x = self.pool(x)\n",
        "\n",
        "        x = self.bottleneck(x)\n",
        "        skip_connections = skip_connections[::-1]\n",
        "\n",
        "        for idx in range(0, len(self.ups), 2):\n",
        "            x = self.ups[idx](x)\n",
        "            skip_connection = skip_connections[idx//2]\n",
        "\n",
        "            if x.shape != skip_connection.shape:\n",
        "                x = F.interpolate(x, size=skip_connection.shape[2:], mode='bilinear', align_corners=False)\n",
        "\n",
        "            concat_skip = torch.cat((skip_connection, x), dim=1)\n",
        "            x = self.ups[idx+1](concat_skip)\n",
        "\n",
        "        return self.final_conv(x)"
      ]
    },
    {
      "cell_type": "code",
      "execution_count": null,
      "metadata": {
        "id": "8vDOdkTYrpD9"
      },
      "outputs": [],
      "source": [
        "model = UNet(in_channels=3, out_channels=151)\n",
        "if torch.cuda.is_available():\n",
        "    model.cuda()"
      ]
    },
    {
      "cell_type": "code",
      "execution_count": null,
      "metadata": {
        "id": "sQrEG07_rpD-",
        "outputId": "570a6357-6b70-4aad-eb6f-d972988f11f1",
        "colab": {
          "base_uri": "https://localhost:8080/"
        }
      },
      "outputs": [
        {
          "output_type": "stream",
          "name": "stdout",
          "text": [
            "==========================================================================================\n",
            "Layer (type:depth-idx)                   Output Shape              Param #\n",
            "==========================================================================================\n",
            "UNet                                     [8, 151, 384, 384]        --\n",
            "├─ModuleList: 1-5                        --                        (recursive)\n",
            "│    └─DoubleConv: 2-1                   [8, 64, 384, 384]         --\n",
            "│    │    └─Sequential: 3-1              [8, 64, 384, 384]         38,848\n",
            "├─MaxPool2d: 1-2                         [8, 64, 192, 192]         --\n",
            "├─ModuleList: 1-5                        --                        (recursive)\n",
            "│    └─DoubleConv: 2-2                   [8, 128, 192, 192]        --\n",
            "│    │    └─Sequential: 3-2              [8, 128, 192, 192]        221,696\n",
            "├─MaxPool2d: 1-4                         [8, 128, 96, 96]          --\n",
            "├─ModuleList: 1-5                        --                        (recursive)\n",
            "│    └─DoubleConv: 2-3                   [8, 256, 96, 96]          --\n",
            "│    │    └─Sequential: 3-3              [8, 256, 96, 96]          885,760\n",
            "├─MaxPool2d: 1-6                         [8, 256, 48, 48]          --\n",
            "├─DoubleConv: 1-7                        [8, 512, 48, 48]          --\n",
            "│    └─Sequential: 2-4                   [8, 512, 48, 48]          --\n",
            "│    │    └─Conv2d: 3-4                  [8, 512, 48, 48]          1,179,648\n",
            "│    │    └─BatchNorm2d: 3-5             [8, 512, 48, 48]          1,024\n",
            "│    │    └─ReLU: 3-6                    [8, 512, 48, 48]          --\n",
            "│    │    └─Conv2d: 3-7                  [8, 512, 48, 48]          2,359,296\n",
            "│    │    └─BatchNorm2d: 3-8             [8, 512, 48, 48]          1,024\n",
            "│    │    └─ReLU: 3-9                    [8, 512, 48, 48]          --\n",
            "├─ModuleList: 1-8                        --                        --\n",
            "│    └─ConvTranspose2d: 2-5              [8, 256, 96, 96]          2,097,152\n",
            "│    └─DoubleConv: 2-6                   [8, 256, 96, 96]          --\n",
            "│    │    └─Sequential: 3-10             [8, 256, 96, 96]          1,770,496\n",
            "│    └─ConvTranspose2d: 2-7              [8, 128, 192, 192]        524,288\n",
            "│    └─DoubleConv: 2-8                   [8, 128, 192, 192]        --\n",
            "│    │    └─Sequential: 3-11             [8, 128, 192, 192]        442,880\n",
            "│    └─ConvTranspose2d: 2-9              [8, 64, 384, 384]         131,072\n",
            "│    └─DoubleConv: 2-10                  [8, 64, 384, 384]         --\n",
            "│    │    └─Sequential: 3-12             [8, 64, 384, 384]         110,848\n",
            "├─Conv2d: 1-9                            [8, 151, 384, 384]        87,127\n",
            "==========================================================================================\n",
            "Total params: 9,851,159\n",
            "Trainable params: 9,851,159\n",
            "Non-trainable params: 0\n",
            "Total mult-adds (T): 1.20\n",
            "==========================================================================================\n",
            "Input size (MB): 14.16\n",
            "Forward/backward pass size (MB): 5619.84\n",
            "Params size (MB): 39.40\n",
            "Estimated Total Size (MB): 5673.40\n",
            "==========================================================================================\n"
          ]
        }
      ],
      "source": [
        "# test model with dummy batch\n",
        "with torch.autocast(device_type=\"cuda\"):\n",
        "    print(summary(model, input_size=(train_batch, 3, target_size, target_size)))"
      ]
    },
    {
      "cell_type": "markdown",
      "metadata": {
        "id": "Z0ZaHF-4rpD-"
      },
      "source": [
        "### IoU Loss Functions"
      ]
    },
    {
      "cell_type": "code",
      "execution_count": null,
      "metadata": {
        "id": "zmqgJLPlrpD-",
        "colab": {
          "base_uri": "https://localhost:8080/"
        },
        "outputId": "e906a2f8-fa2f-4492-be7e-55bae24d2b49"
      },
      "outputs": [
        {
          "output_type": "execute_result",
          "data": {
            "text/plain": [
              "tensor(5.6941, device='cuda:0', grad_fn=<NegBackward0>)"
            ]
          },
          "metadata": {},
          "execution_count": 19
        }
      ],
      "source": [
        "# Define a custom IoU Metric for validating the model.\n",
        "def IoUMetric(pred, gt, softmax=False):\n",
        "    # Run softmax if input is logits.\n",
        "    if softmax is True:\n",
        "        pred = Softmax(dim=1)(pred).to(\"cuda\")\n",
        "\n",
        "    # Add the one-hot encoded masks for all 150 output channels\n",
        "    # (for all the classes) to a tensor named 'gt' (ground truth).\n",
        "    gt = torch.cat([(gt == i) for i in range(151)], dim=1).to(\"cuda\")\n",
        "\n",
        "    intersection = gt * pred\n",
        "    union = gt + pred - intersection\n",
        "\n",
        "    # Compute the sum over all the dimensions except for the batch dimension.\n",
        "    iou = (intersection.sum(dim=(1, 2, 3)) + 0.001) / (union.sum(dim=(1, 2, 3)) + 0.001)\n",
        "\n",
        "    # Compute the mean over the batch dimension.\n",
        "    return iou.mean()\n",
        "\n",
        "\n",
        "class IoULoss(Module):\n",
        "    def __init__(self, softmax=False):\n",
        "        super().__init__()\n",
        "        self.softmax = softmax\n",
        "\n",
        "    # pred => Predictions (logits, B, 3, H, W)\n",
        "    # gt => Ground Truth Labales (B, 1, H, W)\n",
        "    def forward(self, pred, gt):\n",
        "        # return 1.0 - IoUMetric(pred, gt, self.softmax)\n",
        "        # Compute the negative log loss for stable training.\n",
        "        return -(IoUMetric(pred, gt, self.softmax).log())\n",
        "\n",
        "\n",
        "def test_custom_iou_loss():\n",
        "    #               B, C, H, W\n",
        "    x = torch.rand((2, 151, 2, 2), requires_grad=True)\n",
        "    y = torch.randint(0, 3, (2, 1, 2, 2), dtype=torch.long)\n",
        "    z = IoULoss(softmax=True)(x, y)\n",
        "    return z\n",
        "\n",
        "\n",
        "test_custom_iou_loss()"
      ]
    },
    {
      "cell_type": "markdown",
      "metadata": {
        "id": "nbUge76srpD-"
      },
      "source": [
        "## Model Training"
      ]
    },
    {
      "cell_type": "markdown",
      "metadata": {
        "id": "Q1m9aRPbrpD-"
      },
      "source": [
        "### Helper Functions"
      ]
    },
    {
      "cell_type": "code",
      "execution_count": null,
      "metadata": {
        "id": "8r2NZTdErpD-"
      },
      "outputs": [],
      "source": [
        "def prediction_accuracy(ground_truth_labels, predicted_labels):\n",
        "    eq = ground_truth_labels == predicted_labels\n",
        "    return eq.sum().item() / predicted_labels.numel()\n",
        "\n",
        "\n",
        "def print_test_dataset_masks(\n",
        "    model, test_targets, test_labels, epoch, save_path, show_plot, batch_size=2, resize_input=None\n",
        "):\n",
        "    model.eval()  # Set the model to evaluation mode\n",
        "    model = model.to(\"cuda\")  # Ensure the model is on the GPU\n",
        "    to_device(model)\n",
        "    model.half()\n",
        "\n",
        "    with torch.no_grad(), autocast():\n",
        "        # Move input tensors to the GPU\n",
        "        selected_targets = test_targets.to(\"cuda\").half()\n",
        "        selected_labels = test_labels.to(\"cuda\").half()\n",
        "\n",
        "        # Evaluation metrics on CPU\n",
        "        iou = TM.classification.MulticlassJaccardIndex(151, average=\"micro\")\n",
        "        pixel_metric = TM.classification.MulticlassAccuracy(151, average=\"micro\")\n",
        "\n",
        "        # Iterate through batches\n",
        "        for i in range(0, selected_targets.size(0), batch_size):\n",
        "            batch_targets = selected_targets[i:i + batch_size]\n",
        "            batch_labels = selected_labels[i:i + batch_size]\n",
        "\n",
        "            # Forward pass\n",
        "            predictions = model(batch_targets)\n",
        "            pred = torch.nn.functional.softmax(predictions, dim=1)\n",
        "            pred_labels = pred.argmax(dim=1).unsqueeze(1).to(torch.float)\n",
        "\n",
        "            # Move predictions and labels to the CPU for metric computation\n",
        "            pred_labels_cpu = pred_labels.cpu()\n",
        "            selected_labels_cpu = batch_labels.cpu()\n",
        "\n",
        "            # Compute metrics\n",
        "            iou_accuracy = iou(pred_labels_cpu, selected_labels_cpu)\n",
        "            pixel_accuracy = pixel_metric(pred_labels_cpu, selected_labels_cpu)\n",
        "            custom_iou = IoUMetric(pred, selected_labels_cpu)\n",
        "\n",
        "            title = f\"Epoch: {epoch:02d}, Accuracy[Pixel: {pixel_accuracy:.4f}, IoU: {iou_accuracy:.4f}, Custom IoU: {custom_iou:.4f}]\"\n",
        "            print(title)\n",
        "\n",
        "    close_figures()\n",
        "\n",
        "    fig = plt.figure(figsize=(10, 6))\n",
        "    fig.suptitle(title, fontsize=12)\n",
        "\n",
        "    # Limit the number of samples to visualize\n",
        "    num_samples = min(batch_size, selected_targets.size(0))\n",
        "\n",
        "    fig.add_subplot(3, 1, 1)\n",
        "    plt.imshow(t2img(make_grid(selected_targets[:num_samples], nrow=num_samples)))\n",
        "    plt.axis(\"off\")\n",
        "    plt.title(\"Targets\")\n",
        "\n",
        "    fig.add_subplot(3, 1, 2)\n",
        "    plt.imshow(t2img(make_grid(selected_labels[:num_samples].float() / 2.0, nrow=num_samples)))\n",
        "    plt.axis(\"off\")\n",
        "    plt.title(\"Ground Truth Labels\")\n",
        "\n",
        "    fig.add_subplot(3, 1, 3)\n",
        "    plt.imshow(t2img(make_grid(pred_labels[:num_samples] / 2.0, nrow=num_samples)))\n",
        "    plt.axis(\"off\")\n",
        "    plt.title(\"Predicted Labels\")\n",
        "\n",
        "    if save_path is not None:\n",
        "        plt.savefig(\n",
        "            os.path.join(save_path, f\"epoch_{epoch:02}.png\"),\n",
        "            format=\"png\",\n",
        "            bbox_inches=\"tight\",\n",
        "            pad_inches=0.4,\n",
        "        )\n",
        "\n",
        "    if not show_plot:\n",
        "        close_figures()\n",
        "    else:\n",
        "        plt.show()"
      ]
    },
    {
      "cell_type": "code",
      "execution_count": null,
      "metadata": {
        "id": "1bw7_AG8rpD_"
      },
      "outputs": [],
      "source": [
        "def test_dataset_accuracy(model, loader):\n",
        "    model.eval()\n",
        "    iou = TM.classification.MulticlassJaccardIndex(150, average=\"micro\")\n",
        "    pixel_metric = TM.classification.MulticlassAccuracy(150, average=\"micro\")\n",
        "\n",
        "    iou_accuracies = []\n",
        "    pixel_accuracies = []\n",
        "    custom_iou_accuracies = []\n",
        "\n",
        "    print_model_parameters(model)\n",
        "\n",
        "    inputs, targets = next(iter((loader, 0)))\n",
        "    predictions = model(inputs)\n",
        "    print(predictions[0, 1, :, :])\n",
        "\n",
        "    pred_probabilities = Softmax(dim=1)(predictions)\n",
        "    pred_labels = predictions.argmax(dim=1)\n",
        "\n",
        "    # Add a value 1 dimension at dim=1\n",
        "    pred_labels = pred_labels.unsqueeze(1)\n",
        "    # print(\"pred_labels.shape: {}\".format(pred_labels.shape))\n",
        "    pred_mask = pred_labels.to(torch.float)\n",
        "\n",
        "    iou_accuracy = iou(pred_mask, targets)\n",
        "    # pixel_accuracy = pixel_metric(pred_mask, targets)\n",
        "    pixel_accuracy = pixel_metric(pred_labels, targets)\n",
        "    custom_iou = IoUMetric(pred_probabilities, targets)\n",
        "    iou_accuracies.append(iou_accuracy.item())\n",
        "    pixel_accuracies.append(pixel_accuracy.item())\n",
        "    custom_iou_accuracies.append(custom_iou.item())\n",
        "\n",
        "    del inputs\n",
        "    del targets\n",
        "    del predictions\n",
        "\n",
        "    iou_tensor = torch.FloatTensor(iou_accuracies)\n",
        "    pixel_tensor = torch.FloatTensor(pixel_accuracies)\n",
        "    custom_iou_tensor = torch.FloatTensor(custom_iou_accuracies)\n",
        "\n",
        "    print(\"Test Dataset Accuracy\")\n",
        "    print(\n",
        "        f\"Pixel Accuracy: {pixel_tensor.mean():.4f}, IoU Accuracy: {iou_tensor.mean():.4f}, Custom IoU Accuracy: {custom_iou_tensor.mean():.4f}\"\n",
        "    )"
      ]
    },
    {
      "cell_type": "markdown",
      "metadata": {
        "id": "7coEXRqxrpD_"
      },
      "source": [
        "### DETOUR 2: A little Sanity check"
      ]
    },
    {
      "cell_type": "code",
      "execution_count": null,
      "metadata": {
        "id": "VqUgaoZrrpD_"
      },
      "outputs": [],
      "source": [
        "torch.cuda.empty_cache()\n",
        "save_path = os.path.join(\"./logs/\", \"segnet_basic_training_progress_images\")\n",
        "os.makedirs(save_path, exist_ok=True)\n",
        "# train_x, train_y = next(iter(val_loader))\n",
        "# print_test_dataset_masks(\n",
        "#     model, train_x, train_y, epoch=0, save_path=None, show_plot=True, batch_size=4\n",
        "# )"
      ]
    },
    {
      "cell_type": "markdown",
      "metadata": {
        "id": "48PFidRKrpEA"
      },
      "source": [
        "/DETOUR 2"
      ]
    },
    {
      "cell_type": "markdown",
      "metadata": {
        "id": "9bh6Xso4rpEA"
      },
      "source": [
        "### Core training definition"
      ]
    },
    {
      "cell_type": "code",
      "execution_count": null,
      "metadata": {
        "id": "GRWEl_EKrpEA"
      },
      "outputs": [],
      "source": [
        "# Optimizer and Learning Rate Scheduler.\n",
        "to_device(model.train())\n",
        "optimizer = torch.optim.Adam(model.parameters(), lr=1e-3, weight_decay=1e-5)\n",
        "scheduler = torch.optim.lr_scheduler.StepLR(optimizer, step_size=7, gamma=0.7)"
      ]
    },
    {
      "cell_type": "code",
      "execution_count": null,
      "metadata": {
        "id": "jQjZzMK7rpD-"
      },
      "outputs": [],
      "source": [
        "# Train the model for a single epoch\n",
        "def train_model(model, loader, optimizer, cel=True, epoch=1, gradient_accumulation_steps=2):\n",
        "    to_device(model.train())\n",
        "\n",
        "    if cel:\n",
        "        criterion = CrossEntropyLoss(reduction=\"mean\")\n",
        "    else:\n",
        "        criterion = IoULoss(softmax=True)\n",
        "\n",
        "    scaler = GradScaler()\n",
        "\n",
        "    running_loss = 0.0\n",
        "    running_samples = 0\n",
        "\n",
        "    # Use tqdm to create a progress bar for the training loop\n",
        "    progress_bar = tqdm(enumerate(loader, 1), total=len(loader), desc=f'Epoch {epoch}', dynamic_ncols=True)\n",
        "\n",
        "    for batch_id, (inputs, targets) in progress_bar:\n",
        "        inputs, targets = inputs.half().to(\"cuda\"), targets.to(\"cuda\")\n",
        "\n",
        "        with autocast():\n",
        "            predictions = model(inputs)\n",
        "            if cel:\n",
        "                targets = targets.squeeze(dim=1)\n",
        "                targets = targets.long()\n",
        "            loss = criterion(predictions, targets)\n",
        "\n",
        "            del inputs, predictions\n",
        "            # Scale the loss for gradient accumulation\n",
        "            loss = loss / gradient_accumulation_steps\n",
        "\n",
        "            # Perform backpropagation only every `gradient_accumulation_steps` batches\n",
        "            scaler.scale(loss).backward()\n",
        "\n",
        "            if batch_id % gradient_accumulation_steps == 0:\n",
        "                scaler.step(optimizer)\n",
        "                scaler.update()\n",
        "                optimizer.zero_grad()\n",
        "\n",
        "            running_samples += targets.size(0)\n",
        "            running_loss += loss.item()\n",
        "\n",
        "            del targets\n",
        "        # Display the averaged loss over the entire epoch\n",
        "        if batch_id % gradient_accumulation_steps == 0 or batch_id == len(loader):\n",
        "            progress_bar.set_postfix(loss=f'{running_loss / running_samples:.4f}')\n",
        "\n",
        "        del loss\n",
        "        torch.cuda.empty_cache()\n",
        "\n",
        "    progress_bar.close()\n",
        "\n",
        "    # Release GPU memory explicitly\n",
        "    torch.cuda.empty_cache()\n",
        "\n",
        "    # Move loss calculation to CPU\n",
        "    running_loss /= running_samples\n",
        "\n",
        "    # Clean up\n",
        "    del inputs, targets, predictions, loss"
      ]
    },
    {
      "cell_type": "code",
      "execution_count": null,
      "metadata": {
        "id": "mKSWGR2_rpEA"
      },
      "outputs": [],
      "source": [
        "def train_loop(model, loader, test_loader, epochs, optimizer, scheduler, save_path):\n",
        "    epoch_i, epoch_j = epochs\n",
        "\n",
        "    # Move model to GPU and set to training mode\n",
        "    model = model.to(\"cuda\")\n",
        "    to_device(model)\n",
        "    model.train()\n",
        "\n",
        "    # Define metrics and loss function\n",
        "    iou_metric = TM.classification.MulticlassJaccardIndex(151, average=\"micro\")\n",
        "    pixel_metric = TM.classification.MulticlassAccuracy(151, average=\"micro\")\n",
        "    criterion = IoULoss(softmax=True).to(\"cuda\")\n",
        "\n",
        "    for epoch in tqdm(range(epoch_i, epoch_j)):\n",
        "        print(f\"Epoch: {epoch:02d}, Learning Rate: {optimizer.param_groups[0]['lr']}\")\n",
        "\n",
        "        # Training\n",
        "        train_model(model, loader, optimizer, cel=True, epoch=epoch)\n",
        "\n",
        "        # Evaluation\n",
        "        model.eval()\n",
        "        with torch.no_grad(), autocast():\n",
        "            test_inputs, test_targets = next(iter(test_loader))\n",
        "            test_inputs, test_targets = test_inputs.to(\"cuda\").half(), test_targets.to(\"cuda\").half()\n",
        "\n",
        "            # Forward pass\n",
        "            predictions = model(test_inputs)\n",
        "            pred = torch.nn.functional.softmax(predictions, dim=1)\n",
        "            pred_labels = pred.argmax(dim=1).unsqueeze(1).to(torch.float)\n",
        "\n",
        "            # Compute metrics on CPU\n",
        "            iou_accuracy = iou_metric(pred_labels.cpu(), test_targets.cpu())\n",
        "            pixel_accuracy = pixel_metric(pred_labels.cpu(), test_targets.cpu())\n",
        "            custom_iou = IoUMetric(pred, test_targets.cpu())\n",
        "\n",
        "            title = f\"Epoch: {epoch:02d}, Accuracy[Pixel: {pixel_accuracy:.4f}, IoU: {iou_accuracy:.4f}, Custom IoU: {custom_iou:.4f}]\"\n",
        "            print(title)\n",
        "\n",
        "            # Save figures only at the end of training\n",
        "            if epoch == epoch_j - 1:\n",
        "                print_test_dataset_masks(\n",
        "                    model,\n",
        "                    test_inputs,\n",
        "                    test_targets,\n",
        "                    epoch=epoch,\n",
        "                    save_path=save_path,\n",
        "                    show_plot=True,\n",
        "                )\n",
        "\n",
        "        # Learning rate scheduler step\n",
        "        if scheduler is not None:\n",
        "            scheduler.step()\n",
        "\n",
        "        # Release GPU memory explicitly\n",
        "        torch.cuda.empty_cache()\n",
        "\n",
        "        print(\"\")"
      ]
    },
    {
      "cell_type": "code",
      "execution_count": null,
      "metadata": {
        "id": "MAvU3BlFrpEB",
        "colab": {
          "base_uri": "https://localhost:8080/",
          "height": 516
        },
        "outputId": "374f3ba9-21d1-470c-e8c4-32b49d10df9e"
      },
      "outputs": [
        {
          "output_type": "stream",
          "name": "stderr",
          "text": [
            "\r  0%|          | 0/5 [00:00<?, ?it/s]"
          ]
        },
        {
          "output_type": "stream",
          "name": "stdout",
          "text": [
            "Epoch: 01, Learning Rate: 0.001\n"
          ]
        },
        {
          "output_type": "stream",
          "name": "stderr",
          "text": [
            "\n",
            "Epoch 1:   0%|          | 0/2527 [00:00<?, ?it/s]\n",
            "  0%|          | 0/5 [00:00<?, ?it/s]\n"
          ]
        },
        {
          "output_type": "error",
          "ename": "OutOfMemoryError",
          "evalue": "ignored",
          "traceback": [
            "\u001b[0;31m---------------------------------------------------------------------------\u001b[0m",
            "\u001b[0;31mOutOfMemoryError\u001b[0m                          Traceback (most recent call last)",
            "\u001b[0;32m<ipython-input-29-2d50c7662bf4>\u001b[0m in \u001b[0;36m<cell line: 21>\u001b[0;34m()\u001b[0m\n\u001b[1;32m     19\u001b[0m \u001b[0msave_path\u001b[0m \u001b[0;34m=\u001b[0m \u001b[0mos\u001b[0m\u001b[0;34m.\u001b[0m\u001b[0mpath\u001b[0m\u001b[0;34m.\u001b[0m\u001b[0mjoin\u001b[0m\u001b[0;34m(\u001b[0m\u001b[0;34m\"./logs/\"\u001b[0m\u001b[0;34m,\u001b[0m \u001b[0;34m\"model-training-\"\u001b[0m \u001b[0;34m+\u001b[0m \u001b[0mmodel_timestamp\u001b[0m\u001b[0;34m)\u001b[0m\u001b[0;34m\u001b[0m\u001b[0;34m\u001b[0m\u001b[0m\n\u001b[1;32m     20\u001b[0m \u001b[0mos\u001b[0m\u001b[0;34m.\u001b[0m\u001b[0mmakedirs\u001b[0m\u001b[0;34m(\u001b[0m\u001b[0msave_path\u001b[0m\u001b[0;34m,\u001b[0m \u001b[0mexist_ok\u001b[0m\u001b[0;34m=\u001b[0m\u001b[0;32mTrue\u001b[0m\u001b[0;34m)\u001b[0m\u001b[0;34m\u001b[0m\u001b[0;34m\u001b[0m\u001b[0m\n\u001b[0;32m---> 21\u001b[0;31m train_loop(model,\n\u001b[0m\u001b[1;32m     22\u001b[0m     \u001b[0mtrain_loader\u001b[0m\u001b[0;34m,\u001b[0m\u001b[0;34m\u001b[0m\u001b[0;34m\u001b[0m\u001b[0m\n\u001b[1;32m     23\u001b[0m     \u001b[0mval_loader\u001b[0m\u001b[0;34m,\u001b[0m\u001b[0;34m\u001b[0m\u001b[0;34m\u001b[0m\u001b[0m\n",
            "\u001b[0;32m<ipython-input-25-fdfcb605bb87>\u001b[0m in \u001b[0;36mtrain_loop\u001b[0;34m(model, loader, test_loader, epochs, optimizer, scheduler, save_path)\u001b[0m\n\u001b[1;32m     16\u001b[0m \u001b[0;34m\u001b[0m\u001b[0m\n\u001b[1;32m     17\u001b[0m         \u001b[0;31m# Training\u001b[0m\u001b[0;34m\u001b[0m\u001b[0;34m\u001b[0m\u001b[0m\n\u001b[0;32m---> 18\u001b[0;31m         \u001b[0mtrain_model\u001b[0m\u001b[0;34m(\u001b[0m\u001b[0mmodel\u001b[0m\u001b[0;34m,\u001b[0m \u001b[0mloader\u001b[0m\u001b[0;34m,\u001b[0m \u001b[0moptimizer\u001b[0m\u001b[0;34m,\u001b[0m \u001b[0mcel\u001b[0m\u001b[0;34m=\u001b[0m\u001b[0;32mTrue\u001b[0m\u001b[0;34m,\u001b[0m \u001b[0mepoch\u001b[0m\u001b[0;34m=\u001b[0m\u001b[0mepoch\u001b[0m\u001b[0;34m)\u001b[0m\u001b[0;34m\u001b[0m\u001b[0;34m\u001b[0m\u001b[0m\n\u001b[0m\u001b[1;32m     19\u001b[0m \u001b[0;34m\u001b[0m\u001b[0m\n\u001b[1;32m     20\u001b[0m         \u001b[0;31m# Evaluation\u001b[0m\u001b[0;34m\u001b[0m\u001b[0;34m\u001b[0m\u001b[0m\n",
            "\u001b[0;32m<ipython-input-24-bd59124244b2>\u001b[0m in \u001b[0;36mtrain_model\u001b[0;34m(model, loader, optimizer, cel, epoch, gradient_accumulation_steps)\u001b[0m\n\u001b[1;32m     20\u001b[0m \u001b[0;34m\u001b[0m\u001b[0m\n\u001b[1;32m     21\u001b[0m         \u001b[0;32mwith\u001b[0m \u001b[0mautocast\u001b[0m\u001b[0;34m(\u001b[0m\u001b[0;34m)\u001b[0m\u001b[0;34m:\u001b[0m\u001b[0;34m\u001b[0m\u001b[0;34m\u001b[0m\u001b[0m\n\u001b[0;32m---> 22\u001b[0;31m             \u001b[0mpredictions\u001b[0m \u001b[0;34m=\u001b[0m \u001b[0mmodel\u001b[0m\u001b[0;34m(\u001b[0m\u001b[0minputs\u001b[0m\u001b[0;34m)\u001b[0m\u001b[0;34m\u001b[0m\u001b[0;34m\u001b[0m\u001b[0m\n\u001b[0m\u001b[1;32m     23\u001b[0m             \u001b[0;32mif\u001b[0m \u001b[0mcel\u001b[0m\u001b[0;34m:\u001b[0m\u001b[0;34m\u001b[0m\u001b[0;34m\u001b[0m\u001b[0m\n\u001b[1;32m     24\u001b[0m                 \u001b[0mtargets\u001b[0m \u001b[0;34m=\u001b[0m \u001b[0mtargets\u001b[0m\u001b[0;34m.\u001b[0m\u001b[0msqueeze\u001b[0m\u001b[0;34m(\u001b[0m\u001b[0mdim\u001b[0m\u001b[0;34m=\u001b[0m\u001b[0;36m1\u001b[0m\u001b[0;34m)\u001b[0m\u001b[0;34m\u001b[0m\u001b[0;34m\u001b[0m\u001b[0m\n",
            "\u001b[0;32m/usr/local/lib/python3.10/dist-packages/torch/nn/modules/module.py\u001b[0m in \u001b[0;36m_wrapped_call_impl\u001b[0;34m(self, *args, **kwargs)\u001b[0m\n\u001b[1;32m   1516\u001b[0m             \u001b[0;32mreturn\u001b[0m \u001b[0mself\u001b[0m\u001b[0;34m.\u001b[0m\u001b[0m_compiled_call_impl\u001b[0m\u001b[0;34m(\u001b[0m\u001b[0;34m*\u001b[0m\u001b[0margs\u001b[0m\u001b[0;34m,\u001b[0m \u001b[0;34m**\u001b[0m\u001b[0mkwargs\u001b[0m\u001b[0;34m)\u001b[0m  \u001b[0;31m# type: ignore[misc]\u001b[0m\u001b[0;34m\u001b[0m\u001b[0;34m\u001b[0m\u001b[0m\n\u001b[1;32m   1517\u001b[0m         \u001b[0;32melse\u001b[0m\u001b[0;34m:\u001b[0m\u001b[0;34m\u001b[0m\u001b[0;34m\u001b[0m\u001b[0m\n\u001b[0;32m-> 1518\u001b[0;31m             \u001b[0;32mreturn\u001b[0m \u001b[0mself\u001b[0m\u001b[0;34m.\u001b[0m\u001b[0m_call_impl\u001b[0m\u001b[0;34m(\u001b[0m\u001b[0;34m*\u001b[0m\u001b[0margs\u001b[0m\u001b[0;34m,\u001b[0m \u001b[0;34m**\u001b[0m\u001b[0mkwargs\u001b[0m\u001b[0;34m)\u001b[0m\u001b[0;34m\u001b[0m\u001b[0;34m\u001b[0m\u001b[0m\n\u001b[0m\u001b[1;32m   1519\u001b[0m \u001b[0;34m\u001b[0m\u001b[0m\n\u001b[1;32m   1520\u001b[0m     \u001b[0;32mdef\u001b[0m \u001b[0m_call_impl\u001b[0m\u001b[0;34m(\u001b[0m\u001b[0mself\u001b[0m\u001b[0;34m,\u001b[0m \u001b[0;34m*\u001b[0m\u001b[0margs\u001b[0m\u001b[0;34m,\u001b[0m \u001b[0;34m**\u001b[0m\u001b[0mkwargs\u001b[0m\u001b[0;34m)\u001b[0m\u001b[0;34m:\u001b[0m\u001b[0;34m\u001b[0m\u001b[0;34m\u001b[0m\u001b[0m\n",
            "\u001b[0;32m/usr/local/lib/python3.10/dist-packages/torch/nn/modules/module.py\u001b[0m in \u001b[0;36m_call_impl\u001b[0;34m(self, *args, **kwargs)\u001b[0m\n\u001b[1;32m   1525\u001b[0m                 \u001b[0;32mor\u001b[0m \u001b[0m_global_backward_pre_hooks\u001b[0m \u001b[0;32mor\u001b[0m \u001b[0m_global_backward_hooks\u001b[0m\u001b[0;34m\u001b[0m\u001b[0;34m\u001b[0m\u001b[0m\n\u001b[1;32m   1526\u001b[0m                 or _global_forward_hooks or _global_forward_pre_hooks):\n\u001b[0;32m-> 1527\u001b[0;31m             \u001b[0;32mreturn\u001b[0m \u001b[0mforward_call\u001b[0m\u001b[0;34m(\u001b[0m\u001b[0;34m*\u001b[0m\u001b[0margs\u001b[0m\u001b[0;34m,\u001b[0m \u001b[0;34m**\u001b[0m\u001b[0mkwargs\u001b[0m\u001b[0;34m)\u001b[0m\u001b[0;34m\u001b[0m\u001b[0;34m\u001b[0m\u001b[0m\n\u001b[0m\u001b[1;32m   1528\u001b[0m \u001b[0;34m\u001b[0m\u001b[0m\n\u001b[1;32m   1529\u001b[0m         \u001b[0;32mtry\u001b[0m\u001b[0;34m:\u001b[0m\u001b[0;34m\u001b[0m\u001b[0;34m\u001b[0m\u001b[0m\n",
            "\u001b[0;32m<ipython-input-16-529221d3df42>\u001b[0m in \u001b[0;36mforward\u001b[0;34m(self, x)\u001b[0m\n\u001b[1;32m     59\u001b[0m \u001b[0;34m\u001b[0m\u001b[0m\n\u001b[1;32m     60\u001b[0m             \u001b[0mconcat_skip\u001b[0m \u001b[0;34m=\u001b[0m \u001b[0mtorch\u001b[0m\u001b[0;34m.\u001b[0m\u001b[0mcat\u001b[0m\u001b[0;34m(\u001b[0m\u001b[0;34m(\u001b[0m\u001b[0mskip_connection\u001b[0m\u001b[0;34m,\u001b[0m \u001b[0mx\u001b[0m\u001b[0;34m)\u001b[0m\u001b[0;34m,\u001b[0m \u001b[0mdim\u001b[0m\u001b[0;34m=\u001b[0m\u001b[0;36m1\u001b[0m\u001b[0;34m)\u001b[0m\u001b[0;34m\u001b[0m\u001b[0;34m\u001b[0m\u001b[0m\n\u001b[0;32m---> 61\u001b[0;31m             \u001b[0mx\u001b[0m \u001b[0;34m=\u001b[0m \u001b[0mself\u001b[0m\u001b[0;34m.\u001b[0m\u001b[0mups\u001b[0m\u001b[0;34m[\u001b[0m\u001b[0midx\u001b[0m\u001b[0;34m+\u001b[0m\u001b[0;36m1\u001b[0m\u001b[0;34m]\u001b[0m\u001b[0;34m(\u001b[0m\u001b[0mconcat_skip\u001b[0m\u001b[0;34m)\u001b[0m\u001b[0;34m\u001b[0m\u001b[0;34m\u001b[0m\u001b[0m\n\u001b[0m\u001b[1;32m     62\u001b[0m \u001b[0;34m\u001b[0m\u001b[0m\n\u001b[1;32m     63\u001b[0m         \u001b[0;32mreturn\u001b[0m \u001b[0mself\u001b[0m\u001b[0;34m.\u001b[0m\u001b[0mfinal_conv\u001b[0m\u001b[0;34m(\u001b[0m\u001b[0mx\u001b[0m\u001b[0;34m)\u001b[0m\u001b[0;34m\u001b[0m\u001b[0;34m\u001b[0m\u001b[0m\n",
            "\u001b[0;32m/usr/local/lib/python3.10/dist-packages/torch/nn/modules/module.py\u001b[0m in \u001b[0;36m_wrapped_call_impl\u001b[0;34m(self, *args, **kwargs)\u001b[0m\n\u001b[1;32m   1516\u001b[0m             \u001b[0;32mreturn\u001b[0m \u001b[0mself\u001b[0m\u001b[0;34m.\u001b[0m\u001b[0m_compiled_call_impl\u001b[0m\u001b[0;34m(\u001b[0m\u001b[0;34m*\u001b[0m\u001b[0margs\u001b[0m\u001b[0;34m,\u001b[0m \u001b[0;34m**\u001b[0m\u001b[0mkwargs\u001b[0m\u001b[0;34m)\u001b[0m  \u001b[0;31m# type: ignore[misc]\u001b[0m\u001b[0;34m\u001b[0m\u001b[0;34m\u001b[0m\u001b[0m\n\u001b[1;32m   1517\u001b[0m         \u001b[0;32melse\u001b[0m\u001b[0;34m:\u001b[0m\u001b[0;34m\u001b[0m\u001b[0;34m\u001b[0m\u001b[0m\n\u001b[0;32m-> 1518\u001b[0;31m             \u001b[0;32mreturn\u001b[0m \u001b[0mself\u001b[0m\u001b[0;34m.\u001b[0m\u001b[0m_call_impl\u001b[0m\u001b[0;34m(\u001b[0m\u001b[0;34m*\u001b[0m\u001b[0margs\u001b[0m\u001b[0;34m,\u001b[0m \u001b[0;34m**\u001b[0m\u001b[0mkwargs\u001b[0m\u001b[0;34m)\u001b[0m\u001b[0;34m\u001b[0m\u001b[0;34m\u001b[0m\u001b[0m\n\u001b[0m\u001b[1;32m   1519\u001b[0m \u001b[0;34m\u001b[0m\u001b[0m\n\u001b[1;32m   1520\u001b[0m     \u001b[0;32mdef\u001b[0m \u001b[0m_call_impl\u001b[0m\u001b[0;34m(\u001b[0m\u001b[0mself\u001b[0m\u001b[0;34m,\u001b[0m \u001b[0;34m*\u001b[0m\u001b[0margs\u001b[0m\u001b[0;34m,\u001b[0m \u001b[0;34m**\u001b[0m\u001b[0mkwargs\u001b[0m\u001b[0;34m)\u001b[0m\u001b[0;34m:\u001b[0m\u001b[0;34m\u001b[0m\u001b[0;34m\u001b[0m\u001b[0m\n",
            "\u001b[0;32m/usr/local/lib/python3.10/dist-packages/torch/nn/modules/module.py\u001b[0m in \u001b[0;36m_call_impl\u001b[0;34m(self, *args, **kwargs)\u001b[0m\n\u001b[1;32m   1525\u001b[0m                 \u001b[0;32mor\u001b[0m \u001b[0m_global_backward_pre_hooks\u001b[0m \u001b[0;32mor\u001b[0m \u001b[0m_global_backward_hooks\u001b[0m\u001b[0;34m\u001b[0m\u001b[0;34m\u001b[0m\u001b[0m\n\u001b[1;32m   1526\u001b[0m                 or _global_forward_hooks or _global_forward_pre_hooks):\n\u001b[0;32m-> 1527\u001b[0;31m             \u001b[0;32mreturn\u001b[0m \u001b[0mforward_call\u001b[0m\u001b[0;34m(\u001b[0m\u001b[0;34m*\u001b[0m\u001b[0margs\u001b[0m\u001b[0;34m,\u001b[0m \u001b[0;34m**\u001b[0m\u001b[0mkwargs\u001b[0m\u001b[0;34m)\u001b[0m\u001b[0;34m\u001b[0m\u001b[0;34m\u001b[0m\u001b[0m\n\u001b[0m\u001b[1;32m   1528\u001b[0m \u001b[0;34m\u001b[0m\u001b[0m\n\u001b[1;32m   1529\u001b[0m         \u001b[0;32mtry\u001b[0m\u001b[0;34m:\u001b[0m\u001b[0;34m\u001b[0m\u001b[0;34m\u001b[0m\u001b[0m\n",
            "\u001b[0;32m<ipython-input-16-529221d3df42>\u001b[0m in \u001b[0;36mforward\u001b[0;34m(self, x)\u001b[0m\n\u001b[1;32m     12\u001b[0m \u001b[0;34m\u001b[0m\u001b[0m\n\u001b[1;32m     13\u001b[0m     \u001b[0;32mdef\u001b[0m \u001b[0mforward\u001b[0m\u001b[0;34m(\u001b[0m\u001b[0mself\u001b[0m\u001b[0;34m,\u001b[0m \u001b[0mx\u001b[0m\u001b[0;34m)\u001b[0m\u001b[0;34m:\u001b[0m\u001b[0;34m\u001b[0m\u001b[0;34m\u001b[0m\u001b[0m\n\u001b[0;32m---> 14\u001b[0;31m         \u001b[0;32mreturn\u001b[0m \u001b[0mself\u001b[0m\u001b[0;34m.\u001b[0m\u001b[0mconv\u001b[0m\u001b[0;34m(\u001b[0m\u001b[0mx\u001b[0m\u001b[0;34m)\u001b[0m\u001b[0;34m\u001b[0m\u001b[0;34m\u001b[0m\u001b[0m\n\u001b[0m\u001b[1;32m     15\u001b[0m \u001b[0;34m\u001b[0m\u001b[0m\n\u001b[1;32m     16\u001b[0m \u001b[0;32mclass\u001b[0m \u001b[0mUNet\u001b[0m\u001b[0;34m(\u001b[0m\u001b[0mModule\u001b[0m\u001b[0;34m)\u001b[0m\u001b[0;34m:\u001b[0m\u001b[0;34m\u001b[0m\u001b[0;34m\u001b[0m\u001b[0m\n",
            "\u001b[0;32m/usr/local/lib/python3.10/dist-packages/torch/nn/modules/module.py\u001b[0m in \u001b[0;36m_wrapped_call_impl\u001b[0;34m(self, *args, **kwargs)\u001b[0m\n\u001b[1;32m   1516\u001b[0m             \u001b[0;32mreturn\u001b[0m \u001b[0mself\u001b[0m\u001b[0;34m.\u001b[0m\u001b[0m_compiled_call_impl\u001b[0m\u001b[0;34m(\u001b[0m\u001b[0;34m*\u001b[0m\u001b[0margs\u001b[0m\u001b[0;34m,\u001b[0m \u001b[0;34m**\u001b[0m\u001b[0mkwargs\u001b[0m\u001b[0;34m)\u001b[0m  \u001b[0;31m# type: ignore[misc]\u001b[0m\u001b[0;34m\u001b[0m\u001b[0;34m\u001b[0m\u001b[0m\n\u001b[1;32m   1517\u001b[0m         \u001b[0;32melse\u001b[0m\u001b[0;34m:\u001b[0m\u001b[0;34m\u001b[0m\u001b[0;34m\u001b[0m\u001b[0m\n\u001b[0;32m-> 1518\u001b[0;31m             \u001b[0;32mreturn\u001b[0m \u001b[0mself\u001b[0m\u001b[0;34m.\u001b[0m\u001b[0m_call_impl\u001b[0m\u001b[0;34m(\u001b[0m\u001b[0;34m*\u001b[0m\u001b[0margs\u001b[0m\u001b[0;34m,\u001b[0m \u001b[0;34m**\u001b[0m\u001b[0mkwargs\u001b[0m\u001b[0;34m)\u001b[0m\u001b[0;34m\u001b[0m\u001b[0;34m\u001b[0m\u001b[0m\n\u001b[0m\u001b[1;32m   1519\u001b[0m \u001b[0;34m\u001b[0m\u001b[0m\n\u001b[1;32m   1520\u001b[0m     \u001b[0;32mdef\u001b[0m \u001b[0m_call_impl\u001b[0m\u001b[0;34m(\u001b[0m\u001b[0mself\u001b[0m\u001b[0;34m,\u001b[0m \u001b[0;34m*\u001b[0m\u001b[0margs\u001b[0m\u001b[0;34m,\u001b[0m \u001b[0;34m**\u001b[0m\u001b[0mkwargs\u001b[0m\u001b[0;34m)\u001b[0m\u001b[0;34m:\u001b[0m\u001b[0;34m\u001b[0m\u001b[0;34m\u001b[0m\u001b[0m\n",
            "\u001b[0;32m/usr/local/lib/python3.10/dist-packages/torch/nn/modules/module.py\u001b[0m in \u001b[0;36m_call_impl\u001b[0;34m(self, *args, **kwargs)\u001b[0m\n\u001b[1;32m   1525\u001b[0m                 \u001b[0;32mor\u001b[0m \u001b[0m_global_backward_pre_hooks\u001b[0m \u001b[0;32mor\u001b[0m \u001b[0m_global_backward_hooks\u001b[0m\u001b[0;34m\u001b[0m\u001b[0;34m\u001b[0m\u001b[0m\n\u001b[1;32m   1526\u001b[0m                 or _global_forward_hooks or _global_forward_pre_hooks):\n\u001b[0;32m-> 1527\u001b[0;31m             \u001b[0;32mreturn\u001b[0m \u001b[0mforward_call\u001b[0m\u001b[0;34m(\u001b[0m\u001b[0;34m*\u001b[0m\u001b[0margs\u001b[0m\u001b[0;34m,\u001b[0m \u001b[0;34m**\u001b[0m\u001b[0mkwargs\u001b[0m\u001b[0;34m)\u001b[0m\u001b[0;34m\u001b[0m\u001b[0;34m\u001b[0m\u001b[0m\n\u001b[0m\u001b[1;32m   1528\u001b[0m \u001b[0;34m\u001b[0m\u001b[0m\n\u001b[1;32m   1529\u001b[0m         \u001b[0;32mtry\u001b[0m\u001b[0;34m:\u001b[0m\u001b[0;34m\u001b[0m\u001b[0;34m\u001b[0m\u001b[0m\n",
            "\u001b[0;32m/usr/local/lib/python3.10/dist-packages/torch/nn/modules/container.py\u001b[0m in \u001b[0;36mforward\u001b[0;34m(self, input)\u001b[0m\n\u001b[1;32m    213\u001b[0m     \u001b[0;32mdef\u001b[0m \u001b[0mforward\u001b[0m\u001b[0;34m(\u001b[0m\u001b[0mself\u001b[0m\u001b[0;34m,\u001b[0m \u001b[0minput\u001b[0m\u001b[0;34m)\u001b[0m\u001b[0;34m:\u001b[0m\u001b[0;34m\u001b[0m\u001b[0;34m\u001b[0m\u001b[0m\n\u001b[1;32m    214\u001b[0m         \u001b[0;32mfor\u001b[0m \u001b[0mmodule\u001b[0m \u001b[0;32min\u001b[0m \u001b[0mself\u001b[0m\u001b[0;34m:\u001b[0m\u001b[0;34m\u001b[0m\u001b[0;34m\u001b[0m\u001b[0m\n\u001b[0;32m--> 215\u001b[0;31m             \u001b[0minput\u001b[0m \u001b[0;34m=\u001b[0m \u001b[0mmodule\u001b[0m\u001b[0;34m(\u001b[0m\u001b[0minput\u001b[0m\u001b[0;34m)\u001b[0m\u001b[0;34m\u001b[0m\u001b[0;34m\u001b[0m\u001b[0m\n\u001b[0m\u001b[1;32m    216\u001b[0m         \u001b[0;32mreturn\u001b[0m \u001b[0minput\u001b[0m\u001b[0;34m\u001b[0m\u001b[0;34m\u001b[0m\u001b[0m\n\u001b[1;32m    217\u001b[0m \u001b[0;34m\u001b[0m\u001b[0m\n",
            "\u001b[0;32m/usr/local/lib/python3.10/dist-packages/torch/nn/modules/module.py\u001b[0m in \u001b[0;36m_wrapped_call_impl\u001b[0;34m(self, *args, **kwargs)\u001b[0m\n\u001b[1;32m   1516\u001b[0m             \u001b[0;32mreturn\u001b[0m \u001b[0mself\u001b[0m\u001b[0;34m.\u001b[0m\u001b[0m_compiled_call_impl\u001b[0m\u001b[0;34m(\u001b[0m\u001b[0;34m*\u001b[0m\u001b[0margs\u001b[0m\u001b[0;34m,\u001b[0m \u001b[0;34m**\u001b[0m\u001b[0mkwargs\u001b[0m\u001b[0;34m)\u001b[0m  \u001b[0;31m# type: ignore[misc]\u001b[0m\u001b[0;34m\u001b[0m\u001b[0;34m\u001b[0m\u001b[0m\n\u001b[1;32m   1517\u001b[0m         \u001b[0;32melse\u001b[0m\u001b[0;34m:\u001b[0m\u001b[0;34m\u001b[0m\u001b[0;34m\u001b[0m\u001b[0m\n\u001b[0;32m-> 1518\u001b[0;31m             \u001b[0;32mreturn\u001b[0m \u001b[0mself\u001b[0m\u001b[0;34m.\u001b[0m\u001b[0m_call_impl\u001b[0m\u001b[0;34m(\u001b[0m\u001b[0;34m*\u001b[0m\u001b[0margs\u001b[0m\u001b[0;34m,\u001b[0m \u001b[0;34m**\u001b[0m\u001b[0mkwargs\u001b[0m\u001b[0;34m)\u001b[0m\u001b[0;34m\u001b[0m\u001b[0;34m\u001b[0m\u001b[0m\n\u001b[0m\u001b[1;32m   1519\u001b[0m \u001b[0;34m\u001b[0m\u001b[0m\n\u001b[1;32m   1520\u001b[0m     \u001b[0;32mdef\u001b[0m \u001b[0m_call_impl\u001b[0m\u001b[0;34m(\u001b[0m\u001b[0mself\u001b[0m\u001b[0;34m,\u001b[0m \u001b[0;34m*\u001b[0m\u001b[0margs\u001b[0m\u001b[0;34m,\u001b[0m \u001b[0;34m**\u001b[0m\u001b[0mkwargs\u001b[0m\u001b[0;34m)\u001b[0m\u001b[0;34m:\u001b[0m\u001b[0;34m\u001b[0m\u001b[0;34m\u001b[0m\u001b[0m\n",
            "\u001b[0;32m/usr/local/lib/python3.10/dist-packages/torch/nn/modules/module.py\u001b[0m in \u001b[0;36m_call_impl\u001b[0;34m(self, *args, **kwargs)\u001b[0m\n\u001b[1;32m   1525\u001b[0m                 \u001b[0;32mor\u001b[0m \u001b[0m_global_backward_pre_hooks\u001b[0m \u001b[0;32mor\u001b[0m \u001b[0m_global_backward_hooks\u001b[0m\u001b[0;34m\u001b[0m\u001b[0;34m\u001b[0m\u001b[0m\n\u001b[1;32m   1526\u001b[0m                 or _global_forward_hooks or _global_forward_pre_hooks):\n\u001b[0;32m-> 1527\u001b[0;31m             \u001b[0;32mreturn\u001b[0m \u001b[0mforward_call\u001b[0m\u001b[0;34m(\u001b[0m\u001b[0;34m*\u001b[0m\u001b[0margs\u001b[0m\u001b[0;34m,\u001b[0m \u001b[0;34m**\u001b[0m\u001b[0mkwargs\u001b[0m\u001b[0;34m)\u001b[0m\u001b[0;34m\u001b[0m\u001b[0;34m\u001b[0m\u001b[0m\n\u001b[0m\u001b[1;32m   1528\u001b[0m \u001b[0;34m\u001b[0m\u001b[0m\n\u001b[1;32m   1529\u001b[0m         \u001b[0;32mtry\u001b[0m\u001b[0;34m:\u001b[0m\u001b[0;34m\u001b[0m\u001b[0;34m\u001b[0m\u001b[0m\n",
            "\u001b[0;32m/usr/local/lib/python3.10/dist-packages/torch/nn/modules/batchnorm.py\u001b[0m in \u001b[0;36mforward\u001b[0;34m(self, input)\u001b[0m\n\u001b[1;32m    169\u001b[0m         \u001b[0mused\u001b[0m \u001b[0;32mfor\u001b[0m \u001b[0mnormalization\u001b[0m \u001b[0;34m(\u001b[0m\u001b[0mi\u001b[0m\u001b[0;34m.\u001b[0m\u001b[0me\u001b[0m\u001b[0;34m.\u001b[0m \u001b[0;32min\u001b[0m \u001b[0meval\u001b[0m \u001b[0mmode\u001b[0m \u001b[0mwhen\u001b[0m \u001b[0mbuffers\u001b[0m \u001b[0mare\u001b[0m \u001b[0;32mnot\u001b[0m \u001b[0;32mNone\u001b[0m\u001b[0;34m)\u001b[0m\u001b[0;34m.\u001b[0m\u001b[0;34m\u001b[0m\u001b[0;34m\u001b[0m\u001b[0m\n\u001b[1;32m    170\u001b[0m         \"\"\"\n\u001b[0;32m--> 171\u001b[0;31m         return F.batch_norm(\n\u001b[0m\u001b[1;32m    172\u001b[0m             \u001b[0minput\u001b[0m\u001b[0;34m,\u001b[0m\u001b[0;34m\u001b[0m\u001b[0;34m\u001b[0m\u001b[0m\n\u001b[1;32m    173\u001b[0m             \u001b[0;31m# If buffers are not to be tracked, ensure that they won't be updated\u001b[0m\u001b[0;34m\u001b[0m\u001b[0;34m\u001b[0m\u001b[0m\n",
            "\u001b[0;32m/usr/local/lib/python3.10/dist-packages/torch/nn/functional.py\u001b[0m in \u001b[0;36mbatch_norm\u001b[0;34m(input, running_mean, running_var, weight, bias, training, momentum, eps)\u001b[0m\n\u001b[1;32m   2476\u001b[0m         \u001b[0m_verify_batch_size\u001b[0m\u001b[0;34m(\u001b[0m\u001b[0minput\u001b[0m\u001b[0;34m.\u001b[0m\u001b[0msize\u001b[0m\u001b[0;34m(\u001b[0m\u001b[0;34m)\u001b[0m\u001b[0;34m)\u001b[0m\u001b[0;34m\u001b[0m\u001b[0;34m\u001b[0m\u001b[0m\n\u001b[1;32m   2477\u001b[0m \u001b[0;34m\u001b[0m\u001b[0m\n\u001b[0;32m-> 2478\u001b[0;31m     return torch.batch_norm(\n\u001b[0m\u001b[1;32m   2479\u001b[0m         \u001b[0minput\u001b[0m\u001b[0;34m,\u001b[0m \u001b[0mweight\u001b[0m\u001b[0;34m,\u001b[0m \u001b[0mbias\u001b[0m\u001b[0;34m,\u001b[0m \u001b[0mrunning_mean\u001b[0m\u001b[0;34m,\u001b[0m \u001b[0mrunning_var\u001b[0m\u001b[0;34m,\u001b[0m \u001b[0mtraining\u001b[0m\u001b[0;34m,\u001b[0m \u001b[0mmomentum\u001b[0m\u001b[0;34m,\u001b[0m \u001b[0meps\u001b[0m\u001b[0;34m,\u001b[0m \u001b[0mtorch\u001b[0m\u001b[0;34m.\u001b[0m\u001b[0mbackends\u001b[0m\u001b[0;34m.\u001b[0m\u001b[0mcudnn\u001b[0m\u001b[0;34m.\u001b[0m\u001b[0menabled\u001b[0m\u001b[0;34m\u001b[0m\u001b[0;34m\u001b[0m\u001b[0m\n\u001b[1;32m   2480\u001b[0m     )\n",
            "\u001b[0;31mOutOfMemoryError\u001b[0m: CUDA out of memory. Tried to allocate 76.00 MiB. GPU 0 has a total capacty of 14.75 GiB of which 20.81 MiB is free. Process 752930 has 14.72 GiB memory in use. Of the allocated memory 13.41 GiB is allocated by PyTorch, and 228.89 MiB is reserved by PyTorch but unallocated. If reserved but unallocated memory is large try setting max_split_size_mb to avoid fragmentation.  See documentation for Memory Management and PYTORCH_CUDA_ALLOC_CONF"
          ]
        }
      ],
      "source": [
        "# Train our model for a fixed number of epochs, and record the following:\n",
        "#\n",
        "# 1. Training Loss\n",
        "# 2. Test accuracy metrics for a single batch of test images. The following\n",
        "#    metrics are computed:\n",
        "#   2.1. Pixel Accuracy\n",
        "#   2.2. IoU Accuracy (weighted)\n",
        "#   2.3. Custom IoU Accuracy\n",
        "#\n",
        "# We also plot the following for each image in the validation batch:\n",
        "# 1. Input image\n",
        "# 2. Ground truth segmentation mask\n",
        "# 3. Predicted segmentation mask\n",
        "#\n",
        "# so that we can visually inspect the model's progres and determine how well the model\n",
        "# is doing qualitatively.\n",
        "torch.cuda.empty_cache()\n",
        "model_timestamp = datetime.datetime.now().strftime(\"%Y%m%d-%H%M%S\")\n",
        "save_path = os.path.join(\"./logs/\", \"model-training-\" + model_timestamp)\n",
        "os.makedirs(save_path, exist_ok=True)\n",
        "train_loop(model,\n",
        "    train_loader,\n",
        "    val_loader,\n",
        "    (1, 6),\n",
        "    optimizer,\n",
        "    scheduler,\n",
        "    save_path)"
      ]
    },
    {
      "cell_type": "code",
      "execution_count": null,
      "metadata": {
        "id": "fswADPH1rpEB"
      },
      "outputs": [],
      "source": [
        "checkpoint = model.state_dict(),\n",
        "checkpoint_timestamp = datetime.datetime.now().strftime(\"%H:%M\")\n",
        "torch.save(checkpoint, f\"./model_{model_timestamp}-checkpoint_{checkpoint_timestamp}.pth\")"
      ]
    },
    {
      "cell_type": "code",
      "source": [
        "print(type(checkpoint))"
      ],
      "metadata": {
        "colab": {
          "base_uri": "https://localhost:8080/"
        },
        "id": "WF13H4O4gC0b",
        "outputId": "56a89d20-43dc-407a-e1d4-1eb534b832eb"
      },
      "execution_count": null,
      "outputs": [
        {
          "output_type": "stream",
          "name": "stdout",
          "text": [
            "<class 'tuple'>\n"
          ]
        }
      ]
    }
  ],
  "metadata": {
    "kernelspec": {
      "display_name": "Python 3",
      "name": "python3"
    },
    "language_info": {
      "codemirror_mode": {
        "name": "ipython",
        "version": 3
      },
      "file_extension": ".py",
      "mimetype": "text/x-python",
      "name": "python",
      "nbconvert_exporter": "python",
      "pygments_lexer": "ipython3",
      "version": "3.10.12"
    },
    "orig_nbformat": 4,
    "colab": {
      "provenance": [],
      "gpuType": "T4"
    },
    "accelerator": "GPU"
  },
  "nbformat": 4,
  "nbformat_minor": 0
}