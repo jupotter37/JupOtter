{
 "cells": [
  {
   "cell_type": "code",
   "execution_count": 1,
   "id": "798d6ec5-404c-4563-8005-df4724129970",
   "metadata": {
    "tags": []
   },
   "outputs": [],
   "source": [
    "from PARCtorch.PARCv2 import PARCv2\n",
    "from PARCtorch.differentiator.advection import Advection\n",
    "from PARCtorch.differentiator.diffusion import Diffusion\n",
    "from PARCtorch.differentiator.differentiator import Differentiator\n",
    "from PARCtorch.differentiator.finitedifference import FiniteDifference\n",
    "from PARCtorch.differentiator.mappingandrecon import MappingAndRecon\n",
    "from PARCtorch.integrator.integrator import Integrator\n",
    "from PARCtorch.integrator.poisson import Poisson\n",
    "from PARCtorch.integrator.rk4 import RK4\n",
    "from PARCtorch.utilities.unet import UNet\n",
    "from PARCtorch.differentiator.advection import AdvectionUpwind"
   ]
  },
  {
   "cell_type": "code",
   "execution_count": 2,
   "id": "0c4fdbd4-4bdd-443c-be7a-0de44033d0de",
   "metadata": {
    "tags": []
   },
   "outputs": [],
   "source": [
    "import torch\n",
    "from torchmetrics.functional.image import image_gradients\n",
    "import numpy as np\n",
    "import matplotlib.pyplot as plt\n",
    "from torchinfo import summary\n",
    "from torchview import draw_graph"
   ]
  },
  {
   "cell_type": "markdown",
   "id": "e3c89093-989b-456c-8fc6-797d0b161ab1",
   "metadata": {
    "tags": []
   },
   "source": [
    "### Finite difference testing"
   ]
  },
  {
   "cell_type": "code",
   "execution_count": null,
   "id": "752d78f5-4bd8-4ee5-a719-abea57272553",
   "metadata": {
    "tags": []
   },
   "outputs": [],
   "source": [
    "image = torch.arange(0, 1 * 1 * 5 * 5, dtype=torch.float32).to(\"cuda\")\n",
    "image = torch.reshape(image, (1, 1, 5, 5))\n",
    "dy, dx = image_gradients(image)\n",
    "dy[0, 0, :, :]"
   ]
  },
  {
   "cell_type": "code",
   "execution_count": null,
   "id": "c3179775-483a-4d8c-bb14-e6abb273003c",
   "metadata": {
    "tags": []
   },
   "outputs": [],
   "source": [
    "dx[0, 0, :, :]"
   ]
  },
  {
   "cell_type": "code",
   "execution_count": null,
   "id": "5c75c736-06c1-4b61-be21-35ddfe7899af",
   "metadata": {
    "tags": []
   },
   "outputs": [],
   "source": [
    "right_diff = FiniteDifference(padding_mode=\"replicate\")\n",
    "dy, dx = right_diff(image)\n",
    "dy[0, 0, :, :]"
   ]
  },
  {
   "cell_type": "code",
   "execution_count": null,
   "id": "8b550720-4ccf-4007-a9c0-aed3f8ca226b",
   "metadata": {
    "tags": []
   },
   "outputs": [],
   "source": [
    "dx[0, 0, :, :]"
   ]
  },
  {
   "cell_type": "code",
   "execution_count": null,
   "id": "57e358b9-526b-407b-98f6-f8292f25debb",
   "metadata": {
    "tags": []
   },
   "outputs": [],
   "source": [
    "summary(right_diff, (8, 1, 5, 5))"
   ]
  },
  {
   "cell_type": "markdown",
   "id": "874448db-7b63-44ed-ae4a-caf0da9f052a",
   "metadata": {},
   "source": [
    "### Advection testing"
   ]
  },
  {
   "cell_type": "code",
   "execution_count": null,
   "id": "94b9f825-a97e-4348-882e-8bfbf9fe763a",
   "metadata": {
    "jupyter": {
     "source_hidden": true
    },
    "tags": []
   },
   "outputs": [],
   "source": [
    "adv = Advection(right_diff)"
   ]
  },
  {
   "cell_type": "code",
   "execution_count": null,
   "id": "bf6ee2bd-c8cb-4f92-a432-b5aa10e403fc",
   "metadata": {
    "jupyter": {
     "source_hidden": true
    },
    "tags": []
   },
   "outputs": [],
   "source": [
    "data = np.load(\n",
    "    \"/project/vil_baek/data/physics/transport_eqn_square/transport_eqn_square_64_1.00_8.00_8.00_1.00_2.00_8.00_120_0.10.npy\"\n",
    ")\n",
    "adv_gt = (data[1, :, :, 0] - data[0, :, :, 0]) / 0.1"
   ]
  },
  {
   "cell_type": "code",
   "execution_count": null,
   "id": "913d23c8-4291-4ad2-bba1-37b6f91bd358",
   "metadata": {
    "jupyter": {
     "source_hidden": true
    },
    "tags": []
   },
   "outputs": [],
   "source": [
    "state_var = torch.permute(\n",
    "    torch.tensor(data[0:1, :, :, 0:1], dtype=torch.float32), (0, 3, 1, 2)\n",
    ").cuda()\n",
    "vel_var = torch.permute(\n",
    "    torch.tensor(data[0:1, :, :, 1:], dtype=torch.float32), (0, 3, 1, 2)\n",
    ").cuda()\n",
    "adv_parc = adv(state_var, vel_var)"
   ]
  },
  {
   "cell_type": "code",
   "execution_count": null,
   "id": "3ebb7fa8-ce83-4a07-ad0b-a755c3a2aa44",
   "metadata": {
    "jupyter": {
     "source_hidden": true
    },
    "tags": []
   },
   "outputs": [],
   "source": [
    "fig, (ax0, ax1) = plt.subplots(1, 2, figsize=(16, 5))\n",
    "im0 = ax0.imshow(adv_parc.detach().cpu().numpy()[0, 0, :, :])\n",
    "ax0.set_title(\"PARC\")\n",
    "plt.colorbar(im0)\n",
    "im1 = ax1.imshow(-adv_gt)\n",
    "ax1.set_title(\"GT\")\n",
    "plt.colorbar(im1)"
   ]
  },
  {
   "cell_type": "code",
   "execution_count": null,
   "id": "5ae5e1f3-0e7c-4bce-a206-000e6dc1c164",
   "metadata": {
    "jupyter": {
     "source_hidden": true
    },
    "tags": []
   },
   "outputs": [],
   "source": [
    "summary(adv, [(8, 1, 64, 128), (8, 2, 64, 128)])"
   ]
  },
  {
   "cell_type": "markdown",
   "id": "f9f877ef-8dc0-456c-a02b-ea6df05a7d68",
   "metadata": {},
   "source": [
    "### Diffusion testing"
   ]
  },
  {
   "cell_type": "code",
   "execution_count": null,
   "id": "975d9c7f-8ddc-453c-8d39-c613e43679af",
   "metadata": {
    "tags": []
   },
   "outputs": [],
   "source": [
    "x, y = np.linspace(-1.0, 1.0, 64), np.linspace(-1.0, 1.0, 64)\n",
    "xx, yy = np.meshgrid(x, y, indexing=\"xy\")\n",
    "data = (xx**2.0) * (yy**3.0)\n",
    "lap_gt = 2.0 * (yy**3.0) + (xx**2.0) * (6.0 * yy)"
   ]
  },
  {
   "cell_type": "code",
   "execution_count": null,
   "id": "1d7f7c69-7e68-4df0-877d-3c79154527cf",
   "metadata": {
    "tags": []
   },
   "outputs": [],
   "source": [
    "dif = Diffusion(right_diff)\n",
    "lap_parc = dif(\n",
    "    torch.tensor(\n",
    "        data.reshape(1, 1, 64, 64), dtype=torch.float32, device=\"cuda\"\n",
    "    )\n",
    ")"
   ]
  },
  {
   "cell_type": "code",
   "execution_count": null,
   "id": "0c264564-be5d-4096-aa35-f852c22efcb5",
   "metadata": {
    "tags": []
   },
   "outputs": [],
   "source": [
    "fig, (ax0, ax1) = plt.subplots(1, 2, figsize=(16, 5))\n",
    "im0 = ax0.imshow(\n",
    "    lap_parc.detach().cpu().numpy()[0, 0, :, :] * 32 * 32, vmin=-8.0, vmax=8.0\n",
    ")\n",
    "ax0.set_title(\"PARC\")\n",
    "plt.colorbar(im0)\n",
    "im1 = ax1.imshow(lap_gt)\n",
    "ax1.set_title(\"GT\")\n",
    "plt.colorbar(im1)"
   ]
  },
  {
   "cell_type": "markdown",
   "id": "993d18e2-aef9-4a37-9243-83f703376a01",
   "metadata": {},
   "source": [
    "### Poisson testing"
   ]
  },
  {
   "cell_type": "code",
   "execution_count": null,
   "id": "6844510a-fbb2-438a-88d8-a5a8ecf05d0e",
   "metadata": {
    "tags": []
   },
   "outputs": [],
   "source": [
    "x, y = np.linspace(-1.0, 1.0, 64), np.linspace(-1.0, 1.0, 64)\n",
    "xx, yy = np.meshgrid(x, y, indexing=\"xy\")\n",
    "vec_x = (xx**2.0) * (yy**3.0)\n",
    "vec_y = (xx**4.0) * (yy**5.0)\n",
    "vec = torch.cat(\n",
    "    [\n",
    "        torch.tensor(vec_x.reshape(1, 1, 64, 64), dtype=torch.float),\n",
    "        torch.tensor(vec_y.reshape(1, 1, 64, 64), dtype=torch.float),\n",
    "    ],\n",
    "    1,\n",
    ")\n",
    "x_dx, x_dy = 2.0 * xx * (yy**3.0), (xx**2.0) * 3.0 * (yy**2.0)\n",
    "y_dx, y_dy = 4.0 * (xx**3.0) * (yy**5.0), (xx**4.0) * 5.0 * (yy * 4.0)"
   ]
  },
  {
   "cell_type": "code",
   "execution_count": null,
   "id": "559f284e-d4e3-4c0f-af06-5538c35e3154",
   "metadata": {
    "tags": []
   },
   "outputs": [],
   "source": [
    "poi = Poisson(right_diff)\n",
    "x_dx2, y_dy2, x_dxy_dy = poi(vec.cuda())"
   ]
  },
  {
   "cell_type": "code",
   "execution_count": null,
   "id": "b25d3541-e42e-4443-a77a-ca5f51570db6",
   "metadata": {
    "tags": []
   },
   "outputs": [],
   "source": [
    "fig, (ax0, ax1) = plt.subplots(1, 2, figsize=(16, 5))\n",
    "ax0.imshow(x_dx2.detach().cpu().numpy()[0, 0, :, :])\n",
    "ax0.set_title(\"PARC\")\n",
    "ax1.imshow(x_dx * x_dx)\n",
    "ax1.set_title(\"GT\")"
   ]
  },
  {
   "cell_type": "code",
   "execution_count": null,
   "id": "9a9f4899-c24b-4115-8b45-d3a9077fe12a",
   "metadata": {
    "tags": []
   },
   "outputs": [],
   "source": [
    "fig, (ax0, ax1) = plt.subplots(1, 2, figsize=(16, 5))\n",
    "ax0.imshow(y_dy2.detach().cpu().numpy()[0, 0, :, :])\n",
    "ax0.set_title(\"PARC\")\n",
    "ax1.imshow(y_dy * y_dy)\n",
    "ax1.set_title(\"GT\")"
   ]
  },
  {
   "cell_type": "code",
   "execution_count": null,
   "id": "1f7a09bf-4c2a-4cd2-943f-b767777e5147",
   "metadata": {
    "tags": []
   },
   "outputs": [],
   "source": [
    "fig, (ax0, ax1) = plt.subplots(1, 2, figsize=(16, 5))\n",
    "ax0.imshow(x_dxy_dy.detach().cpu().numpy()[0, 0, :, :])\n",
    "ax0.set_title(\"PARC\")\n",
    "ax1.imshow(x_dx * y_dy)\n",
    "ax1.set_title(\"GT\")"
   ]
  },
  {
   "cell_type": "markdown",
   "id": "d71bfc0a-dad2-4d71-b2a2-5cddfee2857e",
   "metadata": {},
   "source": [
    "### SPADE"
   ]
  },
  {
   "cell_type": "code",
   "execution_count": null,
   "id": "f72fe54b-a285-403b-a0d5-59b282c884dd",
   "metadata": {
    "tags": []
   },
   "outputs": [],
   "source": [
    "from PARCtorch.utilities.spade import SPADE\n",
    "\n",
    "\n",
    "spade = SPADE(64, 2).cuda()\n",
    "draw_graph(\n",
    "    spade, input_size=[(8, 64, 128, 256), (8, 2, 128, 256)]\n",
    ").visual_graph.render(\"SPADE\", directory=\"../docs\", format=\"png\")\n",
    "summary(spade, [(8, 64, 128, 256), (8, 2, 128, 256)])"
   ]
  },
  {
   "cell_type": "markdown",
   "id": "ec28c943-c440-4a6a-be7e-03c494e7ef50",
   "metadata": {},
   "source": [
    "### Spade generator unit"
   ]
  },
  {
   "cell_type": "code",
   "execution_count": null,
   "id": "9430f9a6-7e81-4c26-b5cf-cfdc9bb38552",
   "metadata": {
    "tags": []
   },
   "outputs": [],
   "source": [
    "from PARCtorch.utilities.spade import SPADEGeneratorUnit\n",
    "\n",
    "sgu = SPADEGeneratorUnit(64, 64, 2).cuda()\n",
    "input_fe, input_explicit, input_rand = (\n",
    "    torch.randn(8, 64, 128, 256).cuda(),\n",
    "    torch.randn(8, 2, 128, 256).cuda(),\n",
    "    True,\n",
    ")\n",
    "draw_graph(\n",
    "    sgu, [input_fe, input_explicit, input_rand], depth=1\n",
    ").visual_graph.render(\"SPADEGeneratorUnit\", directory=\"../docs\", format=\"png\")\n",
    "summary(sgu, input_data=[input_fe, input_explicit, input_rand])"
   ]
  },
  {
   "cell_type": "markdown",
   "id": "0ec7a073-fac9-433e-bcce-37f6616637bd",
   "metadata": {},
   "source": [
    "### UNetUpBlock"
   ]
  },
  {
   "cell_type": "code",
   "execution_count": null,
   "id": "5cc60386-54c7-43e8-ba5f-e6739469d9c0",
   "metadata": {
    "tags": []
   },
   "outputs": [],
   "source": [
    "from PARCtorch.utilities.unet import UNetUpBlock\n",
    "\n",
    "uup = UNetUpBlock(64, 32, use_concat=False).cuda()\n",
    "draw_graph(\n",
    "    uup, input_size=[(8, 64, 16, 32), (8, 64, 32, 64)]\n",
    ").visual_graph.render(\"UNetUpBlock_nocat\", directory=\"./doc\", format=\"png\")\n",
    "summary(uup, input_size=[(8, 64, 16, 32), (8, 64, 32, 64)])"
   ]
  },
  {
   "cell_type": "code",
   "execution_count": null,
   "id": "977b6f2b-206f-4d80-a0c0-ef4c2c0cb4ed",
   "metadata": {
    "tags": []
   },
   "outputs": [],
   "source": [
    "uup = UNetUpBlock(64, 32, skip_channels=64, use_concat=True).cuda()\n",
    "draw_graph(\n",
    "    uup, input_size=[(8, 64, 16, 32), (8, 64, 32, 64)]\n",
    ").visual_graph.render(\"UNetUpBlock_cat\", directory=\"../docs\", format=\"png\")\n",
    "summary(uup, input_size=[(8, 64, 16, 32), (8, 64, 32, 64)])"
   ]
  },
  {
   "cell_type": "markdown",
   "id": "7b2c01af-ee1d-4285-80ba-743c2cee57cf",
   "metadata": {},
   "source": [
    "### UNetDownBlock"
   ]
  },
  {
   "cell_type": "code",
   "execution_count": null,
   "id": "582bc22f-9d06-4726-a3b6-0b2b704c78cd",
   "metadata": {
    "tags": []
   },
   "outputs": [],
   "source": [
    "from PARCtorch.utilities.unet import UNetDownBlock\n",
    "\n",
    "udown = UNetDownBlock(64, 128)\n",
    "draw_graph(udown, input_size=(8, 64, 128, 256)).visual_graph.render(\n",
    "    \"UNetDownBlock\", directory=\"../docs\", format=\"png\"\n",
    ")\n",
    "summary(udown, input_size=(8, 64, 128, 256))"
   ]
  },
  {
   "cell_type": "markdown",
   "id": "42403826-f37b-4f46-8bbc-9396c34173e4",
   "metadata": {},
   "source": [
    "### UNet"
   ]
  },
  {
   "cell_type": "code",
   "execution_count": null,
   "id": "56094bf9-fc88-4e4f-94c5-1c27d5b7b163",
   "metadata": {
    "tags": []
   },
   "outputs": [],
   "source": [
    "unet = UNet(\n",
    "    [64, 64 * 2, 64 * 4, 64 * 8, 64 * 16],\n",
    "    5,\n",
    "    128,\n",
    "    up_block_use_concat=[False, True, False, True],\n",
    "    skip_connection_indices=[2, 0],\n",
    ")\n",
    "draw_graph(unet, input_size=(8, 5, 128, 192), depth=1).visual_graph.render(\n",
    "    \"UNet_em\", directory=\"../docs\", format=\"png\"\n",
    ")\n",
    "summary(unet, input_size=(8, 5, 128, 192))"
   ]
  },
  {
   "cell_type": "code",
   "execution_count": null,
   "id": "3b2a06ad-06b4-4da8-808f-0e75f2c893b3",
   "metadata": {
    "tags": []
   },
   "outputs": [],
   "source": [
    "unet = UNet(\n",
    "    [64, 64 * 2, 64 * 4],\n",
    "    5,\n",
    "    64,\n",
    "    up_block_use_concat=[False, True],\n",
    "    skip_connection_indices=[0],\n",
    ")\n",
    "draw_graph(unet, input_size=(8, 5, 128, 192), depth=1).visual_graph.render(\n",
    "    \"UNet_burger\", directory=\"../docs\", format=\"png\"\n",
    ")\n",
    "summary(unet, input_size=(8, 5, 128, 192))"
   ]
  },
  {
   "cell_type": "markdown",
   "id": "174272ba-eef5-41b0-b648-b6a13a7e7ede",
   "metadata": {},
   "source": [
    "### Resnet Block"
   ]
  },
  {
   "cell_type": "code",
   "execution_count": null,
   "id": "573a1c80-cfd1-4cd9-8cd5-b9c049604278",
   "metadata": {
    "tags": []
   },
   "outputs": [],
   "source": [
    "from PARCtorch.utilities.resnet import ResNetBlock\n",
    "\n",
    "resnet_block = ResNetBlock(64, 64, 3, \"constant\")\n",
    "draw_graph(resnet_block, input_size=(8, 64, 128, 256)).visual_graph.render(\n",
    "    \"ResNetBlock\", directory=\"../docs\", format=\"png\"\n",
    ")\n",
    "summary(resnet_block, input_size=(8, 64, 128, 256))"
   ]
  },
  {
   "cell_type": "markdown",
   "id": "e0a7180a-28c4-4ad9-b0bb-e4e682317518",
   "metadata": {},
   "source": [
    "### Resnet"
   ]
  },
  {
   "cell_type": "code",
   "execution_count": null,
   "id": "6879727c-6cca-4bfd-852a-0b86070e6083",
   "metadata": {
    "tags": []
   },
   "outputs": [],
   "source": [
    "from PARCtorch.utilities.resnet import ResNet\n",
    "\n",
    "\n",
    "resnet = ResNet(32, [128, 128], 1, False)\n",
    "draw_graph(resnet, input_size=(8, 32, 128, 256), depth=2).visual_graph.render(\n",
    "    \"ResNet\", directory=\"../docs\", format=\"png\"\n",
    ")\n",
    "summary(resnet, input_size=(8, 32, 128, 256))"
   ]
  },
  {
   "cell_type": "code",
   "execution_count": null,
   "id": "102135c3-bbac-4edd-ae56-0c3aa01d24f6",
   "metadata": {
    "tags": []
   },
   "outputs": [],
   "source": [
    "resnet = ResNet(32, [64, 128, 256], 3, True)\n",
    "draw_graph(resnet, input_size=(8, 32, 128, 256), depth=2).visual_graph.render(\n",
    "    \"ResNet_down\", directory=\"../docs\", format=\"png\"\n",
    ")"
   ]
  },
  {
   "cell_type": "markdown",
   "id": "5c52d48a-193a-4b5c-9749-59f335d6a6ec",
   "metadata": {},
   "source": [
    "### Mapping And Recon"
   ]
  },
  {
   "cell_type": "code",
   "execution_count": null,
   "id": "07e0e951-52d8-464c-bcb5-cd926da376e1",
   "metadata": {
    "tags": []
   },
   "outputs": [],
   "source": [
    "mar = MappingAndRecon(128, 2, 1, \"constant\")\n",
    "draw_graph(\n",
    "    mar, input_size=[(8, 128, 128, 192), (8, 2, 128, 192)]\n",
    ").visual_graph.render(\"MappingAndRecon_2_2\", directory=\"../docs\", format=\"png\")\n",
    "summary(mar, input_size=[(8, 128, 128, 192), (8, 2, 128, 192)])"
   ]
  },
  {
   "cell_type": "markdown",
   "id": "65d67eca-e900-4583-81e5-54f867e36b1d",
   "metadata": {},
   "source": [
    "### Differentiator"
   ]
  },
  {
   "cell_type": "code",
   "execution_count": null,
   "id": "e36500c0-6221-4200-a205-d5077efcca5a",
   "metadata": {
    "tags": []
   },
   "outputs": [],
   "source": [
    "# EM: T, p, mu, u, v\n",
    "# Adv: all vars\n",
    "# Dif: T only\n",
    "n_fe_features = 128\n",
    "unet_em = UNet(\n",
    "    [64, 64 * 2, 64 * 4, 64 * 8, 64 * 16],\n",
    "    5,\n",
    "    n_fe_features,\n",
    "    up_block_use_concat=[False, True, False, True],\n",
    "    skip_connection_indices=[2, 0],\n",
    ").cuda()\n",
    "diff_em = Differentiator(\n",
    "    3,  # 3 state variables: T, p, mu. We always assume 2 velocity being the last 2 channels\n",
    "    n_fe_features,  # Number of features returned by the feature extraction network\n",
    "    [0, 1, 2, 3, 4],  # Channel indices to calculate advection\n",
    "    [0],  # Channel indices to calculate diffusion\n",
    "    unet_em,  # Feature extraction network\n",
    "    \"constant\",  # Padding mode\n",
    "    right_diff,  # Finite difference method\n",
    ").cuda()\n",
    "draw_graph(diff_em, input_size=(8, 5, 128, 192), depth=1).visual_graph.render(\n",
    "    \"Diff_em\", directory=\"../docs\", format=\"png\"\n",
    ")\n",
    "summary(diff_em, input_size=(8, 5, 128, 192))"
   ]
  },
  {
   "cell_type": "code",
   "execution_count": null,
   "id": "444d75aa-6421-4d23-ba28-34986b9622a7",
   "metadata": {},
   "outputs": [],
   "source": [
    "# Burgers: u, v\n",
    "# Adv: all vars\n",
    "# Dif: all vars\n",
    "n_fe_features = 64\n",
    "unet_burgers = UNet(\n",
    "    [64, 64 * 2, 64 * 4],\n",
    "    3,\n",
    "    n_fe_features,\n",
    "    up_block_use_concat=[False, True],\n",
    "    skip_connection_indices=[0],\n",
    ")\n",
    "diff_burgers = Differentiator(\n",
    "    1,  # 1 state variables: mu. We always assume 2 velocity being the last 2 channels\n",
    "    n_fe_features,  # Number of features returned by the feature extraction network\n",
    "    [1, 2],  # Channel indices to calculate advection\n",
    "    [1, 2],  # Channel indices to calculate diffusion\n",
    "    unet_burgers,  # Feature extraction network\n",
    "    \"constant\",  # Padding mode\n",
    "    right_diff,  # Finite difference method\n",
    ").cuda()\n",
    "draw_graph(\n",
    "    diff_burgers, input_size=(8, 3, 64, 64), depth=1\n",
    ").visual_graph.render(\"Diff_burgers\", directory=\"../docs\", format=\"png\")\n",
    "summary(diff_burgers, input_size=(8, 3, 64, 64))"
   ]
  },
  {
   "cell_type": "code",
   "execution_count": null,
   "id": "d09d6511-099f-4bd7-b62d-0843861c4f11",
   "metadata": {
    "tags": []
   },
   "outputs": [],
   "source": [
    "# N-S: p, re, u, v\n",
    "# Adv: u, v\n",
    "# Dif: u, vs\n",
    "n_fe_features = 128\n",
    "unet_ns = UNet(\n",
    "    [64, 64 * 2, 64 * 4, 64 * 8, 64 * 16],\n",
    "    4,\n",
    "    n_fe_features,\n",
    "    up_block_use_concat=[False, True, False, True],\n",
    "    skip_connection_indices=[2, 0],\n",
    ").cuda()\n",
    "diff_ns = Differentiator(\n",
    "    2,  # 2 state variables: p, re. We always assume 2 velocity being the last 2 channels\n",
    "    n_fe_features,  # Number of features returned by the feature extraction network\n",
    "    [2, 3],  # Channel indices to calculate advection\n",
    "    [2, 3],  # Channel indices to calculate diffusion\n",
    "    unet_ns,  # Feature extraction network\n",
    "    \"constant\",  # Padding mode\n",
    "    right_diff,  # Finite difference method\n",
    ").cuda()\n",
    "draw_graph(diff_ns, input_size=(8, 4, 128, 256), depth=1).visual_graph.render(\n",
    "    \"Diff_ns\", directory=\"../docs\", format=\"png\"\n",
    ")\n",
    "summary(diff_ns, input_size=(8, 4, 128, 256))"
   ]
  },
  {
   "cell_type": "markdown",
   "id": "d5362269-17a2-48e5-afa1-d8858d0526d6",
   "metadata": {},
   "source": [
    "### Poisson block"
   ]
  },
  {
   "cell_type": "code",
   "execution_count": null,
   "id": "bca3a867-60ba-4777-87c8-86423f042040",
   "metadata": {
    "tags": []
   },
   "outputs": [],
   "source": [
    "from PARCtorch.integrator.poisson import PoissonBlock\n",
    "\n",
    "\n",
    "poi_block = PoissonBlock(3, right_diff)\n",
    "draw_graph(\n",
    "    poi_block, input_size=(8, 3, 128, 256), depth=1\n",
    ").visual_graph.render(\"PoissonBlock\", directory=\"../docs\", format=\"png\")\n",
    "summary(poi_block, input_size=(8, 3, 128, 256))"
   ]
  },
  {
   "cell_type": "markdown",
   "id": "b7540346-ad38-48e4-b7aa-aa5bf99956bf",
   "metadata": {},
   "source": [
    "### Numerical integrators"
   ]
  },
  {
   "cell_type": "code",
   "execution_count": null,
   "id": "433839d6-0459-4ec9-b007-70178444d05f",
   "metadata": {},
   "outputs": [],
   "source": [
    "rk4_int = RK4()\n",
    "cdiff = FiniteDifference(\n",
    "    filter_1d=np.array([-1.0, 0.0, 1.0], dtype=np.float32) * 0.5,\n",
    "    padding_mode=\"circular\",\n",
    ")\n",
    "\n",
    "\n",
    "def diff_func(x):\n",
    "    return -1e2 * torch.sum(torch.cat(cdiff(x), 1), 1, keepdim=True)\n",
    "\n",
    "\n",
    "step_size = 1e-3\n",
    "res = []\n",
    "x, y = np.linspace(-3.0, 3.0, 600), np.linspace(-3.0, 3.0, 600)\n",
    "xx, yy = np.meshgrid(x, y)\n",
    "ic = (\n",
    "    torch.tensor(np.exp(-0.5 * xx * xx - 0.5 * yy * yy), dtype=torch.float32)\n",
    "    .cuda()\n",
    "    .unsqueeze(0)\n",
    "    .unsqueeze(0)\n",
    ")\n",
    "current = ic\n",
    "for _ in range(2000):\n",
    "    current, _ = rk4_int(diff_func, current, step_size)\n",
    "    res.append(current[0, 0, :, :].detach().cpu().numpy())"
   ]
  },
  {
   "cell_type": "code",
   "execution_count": null,
   "id": "fca37193-b971-458d-80f0-a0a06627afd0",
   "metadata": {
    "tags": []
   },
   "outputs": [],
   "source": [
    "fig, ax = plt.subplots(1, 5, figsize=(25, 6))\n",
    "for i in range(5):\n",
    "    ax[i].imshow(res[i * 400], origin=\"lower\", extent=(-3.0, 3.0, -3.0, 3.0))\n",
    "    ax[i].plot(i * 400 * 1e-3, i * 400 * 1e-3, \"bo\")"
   ]
  },
  {
   "cell_type": "markdown",
   "id": "77ffaf3f-4bbe-423b-8847-b826743283b1",
   "metadata": {},
   "source": [
    "### Integrators"
   ]
  },
  {
   "cell_type": "code",
   "execution_count": null,
   "id": "7cbc8b26-9b6a-42a3-b0eb-a2d525817a1d",
   "metadata": {},
   "outputs": [],
   "source": [
    "# No Poisson blocks\n",
    "\n",
    "\n",
    "def transport_parc_int(x):\n",
    "    t_dot = torch.zeros_like(x)\n",
    "    dt_dy, dt_dx = cdiff(x[:, 0:1, :, :])\n",
    "    adv_t = (\n",
    "        torch.sum(\n",
    "            dt_dx * x[:, 1:2, :, :] + dt_dy * x[:, 2:3, :, :], 1, keepdim=True\n",
    "        )\n",
    "        * 1e2\n",
    "    )\n",
    "    t_dot[:, 0, :, :] = -adv_t\n",
    "    return t_dot\n",
    "\n",
    "\n",
    "integrator = Integrator(False, [], rk4_int, [None], \"constant\", cdiff)\n",
    "ic_parc = torch.cat([ic, torch.ones_like(ic), torch.ones_like(ic)], 1)\n",
    "t1 = (torch.tensor(range(1999), dtype=torch.float32).cuda() + 1.0) * step_size\n",
    "res = integrator(transport_parc_int, ic_parc, 0.0, t1)"
   ]
  },
  {
   "cell_type": "code",
   "execution_count": null,
   "id": "8d755187-08e0-44f6-b077-a7ffcf894f0c",
   "metadata": {
    "tags": []
   },
   "outputs": [],
   "source": [
    "res.shape"
   ]
  },
  {
   "cell_type": "code",
   "execution_count": null,
   "id": "ad74ece4-0533-46a0-b21d-9cb5360c1a80",
   "metadata": {
    "tags": []
   },
   "outputs": [],
   "source": [
    "fig, ax = plt.subplots(1, 5, figsize=(25, 6))\n",
    "for i in range(5):\n",
    "    ax[i].imshow(\n",
    "        res[i * 400, 0, 0, :, :].detach().cpu().numpy(),\n",
    "        origin=\"lower\",\n",
    "        extent=(-3.0, 3.0, -3.0, 3.0),\n",
    "    )\n",
    "    ax[i].plot(i * 400 * 1e-3, i * 400 * 1e-3, \"bo\")"
   ]
  },
  {
   "cell_type": "code",
   "execution_count": null,
   "id": "0734cd39-db78-4d34-bc9d-0e35668f3db8",
   "metadata": {
    "tags": []
   },
   "outputs": [],
   "source": [
    "conservation_law = torch.sum(res[:, 0, 0, :, :], (1, 2))\n",
    "plt.plot(conservation_law.detach().cpu().numpy())"
   ]
  },
  {
   "cell_type": "code",
   "execution_count": null,
   "id": "c9bea731-4e0a-478b-a056-8cac855c80f2",
   "metadata": {
    "tags": []
   },
   "outputs": [],
   "source": [
    "# With Poisson blocks\n",
    "# N-S\n",
    "# 2 state variables: p, re, u, v\n",
    "# p is entirely determined by Poisson block\n",
    "ic = torch.randn((8, 4, 128, 256)).cuda()\n",
    "t1 = (torch.tensor(range(1), dtype=torch.float32).cuda() + 1.0) / 40.0\n",
    "integrator_ns = Integrator(\n",
    "    True,\n",
    "    [(1, 2, 3, 0)],\n",
    "    rk4_int,\n",
    "    [None, None, None, None],\n",
    "    \"constant\",\n",
    "    right_diff,\n",
    ").cuda()\n",
    "draw_graph(\n",
    "    integrator_ns, input_data=[diff_ns, ic, 0.0, t1], depth=2, roll=True\n",
    ").visual_graph.render(\n",
    "    \"Integrator_w_poisson\", directory=\"../docs\", format=\"png\"\n",
    ")"
   ]
  },
  {
   "cell_type": "markdown",
   "id": "6d4bfa23-5475-413d-96b2-801444996cda",
   "metadata": {},
   "source": [
    "### PARCv2"
   ]
  },
  {
   "cell_type": "code",
   "execution_count": null,
   "id": "14f36521-1382-4644-bf6a-37332c5c52e4",
   "metadata": {
    "tags": []
   },
   "outputs": [],
   "source": [
    "# EM\n",
    "integrator_em = integrator_ns = Integrator(\n",
    "    True, [], rk4_int, [None, None, None, None, None], \"constant\", right_diff\n",
    ").cuda()\n",
    "loss = torch.nn.L1Loss()\n",
    "parcv2_em = PARCv2(diff_em, integrator_em, loss)\n",
    "\n",
    "ic = torch.randn((1, 5, 128, 256))\n",
    "t1 = (torch.tensor(range(4), dtype=torch.float32).cuda() + 1.0) / 40.0\n",
    "\n",
    "draw_graph(\n",
    "    parcv2_em, input_data=[ic, 0.0, t1], depth=2, roll=True\n",
    ").visual_graph.render(\"PARCv2\", directory=\"../docs\", format=\"png\")"
   ]
  },
  {
   "cell_type": "markdown",
   "id": "074b4b19-1f27-4592-ac3d-1ec2547a2f76",
   "metadata": {},
   "source": [
    "### DDI"
   ]
  },
  {
   "cell_type": "code",
   "execution_count": null,
   "id": "ccd43568-85e4-46a5-8b4d-82aad238bbbb",
   "metadata": {},
   "outputs": [],
   "source": [
    "from PARCtorch.integrator.datadrivenintegrator import (\n",
    "    DataDrivenIntegrator as DDI,\n",
    ")\n",
    "\n",
    "\n",
    "ddi_normal = DDI(1, 128)\n",
    "draw_graph(\n",
    "    ddi_normal, input_size=[(8, 1, 128, 192), (8, 1, 128, 192)], depth=1\n",
    ").visual_graph.render(\n",
    "    \"DataDrivenIntegrator_state\", directory=\"../docs\", format=\"png\"\n",
    ")\n",
    "summary(ddi_normal, input_size=[(8, 1, 128, 192), (8, 1, 128, 192)])"
   ]
  },
  {
   "cell_type": "code",
   "execution_count": null,
   "id": "53bd4a2d-40f0-4bf9-97bd-bf8b7fe27ef4",
   "metadata": {},
   "outputs": [],
   "source": [
    "ddi_vel = DDI(2, 128)\n",
    "draw_graph(\n",
    "    ddi_vel, input_size=[(8, 2, 128, 192), (8, 2, 128, 192)], depth=1\n",
    ").visual_graph.render(\n",
    "    \"DataDrivenIntegrator_velocity\", directory=\"../docs\", format=\"png\"\n",
    ")\n",
    "summary(ddi_vel, input_size=[(8, 2, 128, 192), (8, 2, 128, 192)])"
   ]
  },
  {
   "cell_type": "markdown",
   "id": "b1631002-27e8-4bf7-af40-0b65514b33ea",
   "metadata": {},
   "source": [
    "### Different numerical schemes"
   ]
  },
  {
   "cell_type": "code",
   "execution_count": 3,
   "id": "94404ce9-0731-4f63-aa6c-9f443df47a15",
   "metadata": {},
   "outputs": [],
   "source": [
    "image = torch.zeros(1, 1, 16, 16, device=\"cuda\", dtype=torch.float32)\n",
    "image[0, 0, 4:12, 4:12] = 1.0"
   ]
  },
  {
   "cell_type": "code",
   "execution_count": 4,
   "id": "b228dc93-6341-4a09-ab3f-c38b6e581e7c",
   "metadata": {},
   "outputs": [],
   "source": [
    "right_diff = FiniteDifference(padding_mode=\"replicate\")\n",
    "dy_r, dx_r = right_diff(image)\n",
    "left_diff = FiniteDifference(padding_mode=\"replicate\", right_bottom=False)\n",
    "dy_l, dx_l = left_diff(image)"
   ]
  },
  {
   "cell_type": "code",
   "execution_count": 5,
   "id": "04330a2b-69ff-4845-a8aa-326758ee040c",
   "metadata": {},
   "outputs": [
    {
     "data": {
      "text/plain": [
       "<matplotlib.image.AxesImage at 0x7e864f9dcfe0>"
      ]
     },
     "execution_count": 5,
     "metadata": {},
     "output_type": "execute_result"
    },
    {
     "data": {
      "image/png": "[encoded data removed]",
      "text/plain": [
       "<Figure size 3200x500 with 5 Axes>"
      ]
     },
     "metadata": {},
     "output_type": "display_data"
    }
   ],
   "source": [
    "plt.figure(figsize=(32, 5))\n",
    "plt.subplot(1, 5, 1)\n",
    "plt.imshow(image[0, 0].cpu().numpy(), origin=\"lower\")\n",
    "plt.subplot(1, 5, 2)\n",
    "plt.imshow(dy_r[0, 0].cpu().numpy(), origin=\"lower\")\n",
    "plt.subplot(1, 5, 3)\n",
    "plt.imshow(dy_l[0, 0].cpu().numpy(), origin=\"lower\")\n",
    "plt.subplot(1, 5, 4)\n",
    "plt.imshow(dx_r[0, 0].cpu().numpy(), origin=\"lower\")\n",
    "plt.subplot(1, 5, 5)\n",
    "plt.imshow(dx_l[0, 0].cpu().numpy(), origin=\"lower\")"
   ]
  },
  {
   "cell_type": "code",
   "execution_count": 6,
   "id": "d9a48a7a-7aca-4a81-9be9-f06fcef23bdd",
   "metadata": {},
   "outputs": [
    {
     "data": {
      "text/plain": [
       "Text(0.5, 1.0, 'Linear')"
      ]
     },
     "execution_count": 6,
     "metadata": {},
     "output_type": "execute_result"
    },
    {
     "data": {
      "image/png": "[encoded data removed]",
      "text/plain": [
       "<Figure size 1500x500 with 3 Axes>"
      ]
     },
     "metadata": {},
     "output_type": "display_data"
    }
   ],
   "source": [
    "posi_vx = torch.ones_like(image).cuda()\n",
    "posi_vy = torch.ones_like(image).cuda()\n",
    "adv = Advection(right_diff)\n",
    "adv_linear = Advection(\n",
    "    FiniteDifference(filter_1d=np.array([-0.5, 0.0, 0.5], dtype=np.float32))\n",
    ")\n",
    "adv_upwind = AdvectionUpwind(left_diff, right_diff)\n",
    "\n",
    "plt.figure(figsize=(15, 5))\n",
    "plt.subplot(1, 3, 1)\n",
    "plt.imshow(\n",
    "    adv(image, torch.cat([posi_vx, posi_vy], dim=1)).cpu().numpy()[0, 0],\n",
    "    origin=\"lower\",\n",
    "    vmin=-1,\n",
    "    vmax=2,\n",
    ")\n",
    "plt.title(\"Naive\")\n",
    "plt.subplot(1, 3, 2)\n",
    "plt.imshow(\n",
    "    adv_upwind(image, torch.cat([posi_vx, posi_vy], dim=1))\n",
    "    .cpu()\n",
    "    .numpy()[0, 0],\n",
    "    origin=\"lower\",\n",
    "    vmin=-1,\n",
    "    vmax=2,\n",
    ")\n",
    "plt.title(\"Upwind\")\n",
    "plt.subplot(1, 3, 3)\n",
    "plt.imshow(\n",
    "    adv_linear(image, torch.cat([posi_vx, posi_vy], dim=1))\n",
    "    .cpu()\n",
    "    .numpy()[0, 0],\n",
    "    origin=\"lower\",\n",
    "    vmin=-1,\n",
    "    vmax=2,\n",
    ")\n",
    "plt.title(\"Linear\")"
   ]
  },
  {
   "cell_type": "code",
   "execution_count": 7,
   "id": "8d7c8905-ff73-4343-90ce-c4f57315428b",
   "metadata": {},
   "outputs": [],
   "source": [
    "ic_t = torch.zeros(1, 1, 32, 32, device=\"cuda\", dtype=torch.float32)\n",
    "ic_t[0, 0, 4:13, 4:13] = 1.0\n",
    "ic = torch.cat([ic_t, torch.ones_like(ic_t), torch.ones_like(ic_t)], dim=1)"
   ]
  },
  {
   "cell_type": "code",
   "execution_count": 8,
   "id": "35fb262c-a14c-4795-9ff9-714c364f05a4",
   "metadata": {},
   "outputs": [],
   "source": [
    "def adv_eqn(current, adv_n):\n",
    "    t, v = current[:, 0:1, :, :], current[:, 1:, :, :]\n",
    "    return torch.cat([-adv_n(t, v), torch.zeros_like(v)], dim=1)\n",
    "\n",
    "\n",
    "adv_linear_diff = lambda x: adv_eqn(x, adv_linear)\n",
    "adv_upwind_diff = lambda x: adv_eqn(x, adv_upwind)\n",
    "\n",
    "rk4_int = RK4()\n",
    "cdiff = FiniteDifference(\n",
    "    filter_1d=np.array([-1.0, 0.0, 1.0], dtype=np.float32) * 0.5,\n",
    "    padding_mode=\"circular\",\n",
    ")\n",
    "integrator = Integrator(False, [], rk4_int, [None], \"constant\", cdiff)\n",
    "t0 = torch.tensor(0.0, dtype=torch.float32).cuda()\n",
    "t1 = torch.tensor(range(1, 121), dtype=torch.float32).cuda() * 0.1\n",
    "\n",
    "seq_linear = integrator(adv_linear_diff, ic, t0, t1)\n",
    "seq_upwind = integrator(adv_upwind_diff, ic, t0, t1)"
   ]
  },
  {
   "cell_type": "code",
   "execution_count": 9,
   "id": "c2d408da-eb40-478a-946d-9eef01308dad",
   "metadata": {},
   "outputs": [
    {
     "data": {
      "image/png": "[encoded data removed]",
      "text/plain": [
       "<Figure size 640x480 with 2 Axes>"
      ]
     },
     "metadata": {},
     "output_type": "display_data"
    },
    {
     "data": {
      "image/png": "[encoded data removed]",
      "text/plain": [
       "<Figure size 640x480 with 2 Axes>"
      ]
     },
     "metadata": {},
     "output_type": "display_data"
    },
    {
     "data": {
      "image/png": "[encoded data removed]",
      "text/plain": [
       "<Figure size 640x480 with 2 Axes>"
      ]
     },
     "metadata": {},
     "output_type": "display_data"
    },
    {
     "data": {
      "image/png": "[encoded data removed]",
      "text/plain": [
       "<Figure size 640x480 with 2 Axes>"
      ]
     },
     "metadata": {},
     "output_type": "display_data"
    },
    {
     "data": {
      "image/png": "[encoded data removed]",
      "text/plain": [
       "<Figure size 640x480 with 2 Axes>"
      ]
     },
     "metadata": {},
     "output_type": "display_data"
    },
    {
     "data": {
      "image/png": "[encoded data removed]",
      "text/plain": [
       "<Figure size 640x480 with 2 Axes>"
      ]
     },
     "metadata": {},
     "output_type": "display_data"
    },
    {
     "data": {
      "image/png": "[encoded data removed]",
      "text/plain": [
       "<Figure size 640x480 with 2 Axes>"
      ]
     },
     "metadata": {},
     "output_type": "display_data"
    },
    {
     "data": {
      "image/png": "[encoded data removed]",
      "text/plain": [
       "<Figure size 640x480 with 2 Axes>"
      ]
     },
     "metadata": {},
     "output_type": "display_data"
    },
    {
     "data": {
      "image/png": "[encoded data removed]",
      "text/plain": [
       "<Figure size 640x480 with 2 Axes>"
      ]
     },
     "metadata": {},
     "output_type": "display_data"
    },
    {
     "data": {
      "image/png": "[encoded data removed]",
      "text/plain": [
       "<Figure size 640x480 with 2 Axes>"
      ]
     },
     "metadata": {},
     "output_type": "display_data"
    },
    {
     "data": {
      "image/png": "[encoded data removed]",
      "text/plain": [
       "<Figure size 640x480 with 2 Axes>"
      ]
     },
     "metadata": {},
     "output_type": "display_data"
    },
    {
     "data": {
      "image/png": "[encoded data removed]",
      "text/plain": [
       "<Figure size 640x480 with 2 Axes>"
      ]
     },
     "metadata": {},
     "output_type": "display_data"
    }
   ],
   "source": [
    "for i in range(12):\n",
    "    plt.figure()\n",
    "    plt.subplot(1, 2, 1)\n",
    "    plt.imshow(\n",
    "        seq_linear[i * 10, 0, 0, :, :].detach().cpu().numpy(), vmin=-1, vmax=1\n",
    "    )\n",
    "    plt.subplot(1, 2, 2)\n",
    "    plt.imshow(\n",
    "        seq_upwind[i * 10, 0, 0, :, :].detach().cpu().numpy(), vmin=-1, vmax=1\n",
    "    )"
   ]
  },
  {
   "cell_type": "markdown",
   "id": "061d6ff4-8f4b-4653-87ba-eeea59ece773",
   "metadata": {},
   "source": [
    "### Submodule customization"
   ]
  },
  {
   "cell_type": "code",
   "execution_count": 10,
   "id": "4fd12a25-77a4-4ddb-87dc-89dadda421e5",
   "metadata": {},
   "outputs": [],
   "source": [
    "n_fe_features = 64\n",
    "unet_em = UNet(\n",
    "    [64, 64 * 2, 64 * 4, 64 * 8, 64 * 16],\n",
    "    5,\n",
    "    n_fe_features,\n",
    "    up_block_use_concat=[False, True, False, True],\n",
    "    skip_connection_indices=[2, 0],\n",
    ")\n",
    "left_diff = FiniteDifference(\n",
    "    padding_mode=\"replicate\", right_bottom=False\n",
    ").cuda()\n",
    "right_diff = FiniteDifference(padding_mode=\"replicate\").cuda()\n",
    "# Declare the differentiator first\n",
    "diff_em = Differentiator(\n",
    "    3,  # 3 state variables: T, p, mu. We always assume 2 velocity being the last 2 channels\n",
    "    n_fe_features,  # Number of features returned by the feature extraction network: 128\n",
    "    [0, 1, 2, 3, 4],  # Channel indices to calculate advection: all channels\n",
    "    [],  # No diffusion\n",
    "    unet_em,  # Feature extraction network: unet_em\n",
    "    \"reflect\",  # Padding mode: constant padding of zero\n",
    "    right_diff,  # Finite difference method: replication of image_gradients\n",
    "    False,  # Disable random gaussian noise during training\n",
    ").cuda()"
   ]
  },
  {
   "cell_type": "code",
   "execution_count": 13,
   "id": "0cb9cf03-f2fe-47cf-bd39-b5399b5801d3",
   "metadata": {},
   "outputs": [
    {
     "ename": "OutOfMemoryError",
     "evalue": "CUDA out of memory. Tried to allocate 2.00 MiB. GPU 0 has a total capacity of 47.51 GiB of which 25.94 MiB is free. Process 7242 has 582.00 MiB memory in use. Process 13097 has 45.22 GiB memory in use. Including non-PyTorch memory, this process has 608.00 MiB memory in use. Of the allocated memory 283.22 MiB is allocated by PyTorch, and 16.78 MiB is reserved by PyTorch but unallocated. If reserved but unallocated memory is large try setting PYTORCH_CUDA_ALLOC_CONF=expandable_segments:True to avoid fragmentation.  See documentation for Memory Management  (https://pytorch.org/docs/stable/notes/cuda.html#environment-variables)",
     "output_type": "error",
     "traceback": [
      "\u001b[0;31m---------------------------------------------------------------------------\u001b[0m",
      "\u001b[0;31mOutOfMemoryError\u001b[0m                          Traceback (most recent call last)",
      "Cell \u001b[0;32mIn[13], line 1\u001b[0m\n\u001b[0;32m----> 1\u001b[0m \u001b[43msummary\u001b[49m\u001b[43m(\u001b[49m\u001b[43mdiff_em\u001b[49m\u001b[43m,\u001b[49m\u001b[43m \u001b[49m\u001b[43minput_size\u001b[49m\u001b[38;5;241;43m=\u001b[39;49m\u001b[43m(\u001b[49m\u001b[38;5;241;43m2\u001b[39;49m\u001b[43m,\u001b[49m\u001b[43m \u001b[49m\u001b[38;5;241;43m5\u001b[39;49m\u001b[43m,\u001b[49m\u001b[43m \u001b[49m\u001b[38;5;241;43m128\u001b[39;49m\u001b[43m,\u001b[49m\u001b[43m \u001b[49m\u001b[38;5;241;43m192\u001b[39;49m\u001b[43m)\u001b[49m\u001b[43m)\u001b[49m\n",
      "File \u001b[0;32m~/miniconda3/envs/pytorch_2.4.1/lib/python3.12/site-packages/torchinfo/torchinfo.py:220\u001b[0m, in \u001b[0;36msummary\u001b[0;34m(model, input_size, input_data, batch_dim, cache_forward_pass, col_names, col_width, depth, device, dtypes, mode, row_settings, verbose, **kwargs)\u001b[0m\n\u001b[1;32m    214\u001b[0m     device \u001b[38;5;241m=\u001b[39m torch\u001b[38;5;241m.\u001b[39mdevice(device)\n\u001b[1;32m    216\u001b[0m validate_user_params(\n\u001b[1;32m    217\u001b[0m     input_data, input_size, columns, col_width, device, dtypes, verbose\n\u001b[1;32m    218\u001b[0m )\n\u001b[0;32m--> 220\u001b[0m x, correct_input_size \u001b[38;5;241m=\u001b[39m \u001b[43mprocess_input\u001b[49m\u001b[43m(\u001b[49m\n\u001b[1;32m    221\u001b[0m \u001b[43m    \u001b[49m\u001b[43minput_data\u001b[49m\u001b[43m,\u001b[49m\u001b[43m \u001b[49m\u001b[43minput_size\u001b[49m\u001b[43m,\u001b[49m\u001b[43m \u001b[49m\u001b[43mbatch_dim\u001b[49m\u001b[43m,\u001b[49m\u001b[43m \u001b[49m\u001b[43mdevice\u001b[49m\u001b[43m,\u001b[49m\u001b[43m \u001b[49m\u001b[43mdtypes\u001b[49m\n\u001b[1;32m    222\u001b[0m \u001b[43m\u001b[49m\u001b[43m)\u001b[49m\n\u001b[1;32m    223\u001b[0m summary_list \u001b[38;5;241m=\u001b[39m forward_pass(\n\u001b[1;32m    224\u001b[0m     model, x, batch_dim, cache_forward_pass, device, model_mode, \u001b[38;5;241m*\u001b[39m\u001b[38;5;241m*\u001b[39mkwargs\n\u001b[1;32m    225\u001b[0m )\n\u001b[1;32m    226\u001b[0m formatting \u001b[38;5;241m=\u001b[39m FormattingOptions(depth, verbose, columns, col_width, rows)\n",
      "File \u001b[0;32m~/miniconda3/envs/pytorch_2.4.1/lib/python3.12/site-packages/torchinfo/torchinfo.py:256\u001b[0m, in \u001b[0;36mprocess_input\u001b[0;34m(input_data, input_size, batch_dim, device, dtypes)\u001b[0m\n\u001b[1;32m    254\u001b[0m         dtypes \u001b[38;5;241m=\u001b[39m [torch\u001b[38;5;241m.\u001b[39mfloat] \u001b[38;5;241m*\u001b[39m \u001b[38;5;28mlen\u001b[39m(input_size)\n\u001b[1;32m    255\u001b[0m     correct_input_size \u001b[38;5;241m=\u001b[39m get_correct_input_sizes(input_size)\n\u001b[0;32m--> 256\u001b[0m     x \u001b[38;5;241m=\u001b[39m \u001b[43mget_input_tensor\u001b[49m\u001b[43m(\u001b[49m\u001b[43mcorrect_input_size\u001b[49m\u001b[43m,\u001b[49m\u001b[43m \u001b[49m\u001b[43mbatch_dim\u001b[49m\u001b[43m,\u001b[49m\u001b[43m \u001b[49m\u001b[43mdtypes\u001b[49m\u001b[43m,\u001b[49m\u001b[43m \u001b[49m\u001b[43mdevice\u001b[49m\u001b[43m)\u001b[49m\n\u001b[1;32m    257\u001b[0m \u001b[38;5;28;01mreturn\u001b[39;00m x, correct_input_size\n",
      "File \u001b[0;32m~/miniconda3/envs/pytorch_2.4.1/lib/python3.12/site-packages/torchinfo/torchinfo.py:532\u001b[0m, in \u001b[0;36mget_input_tensor\u001b[0;34m(input_size, batch_dim, dtypes, device)\u001b[0m\n\u001b[1;32m    530\u001b[0m     \u001b[38;5;28;01mif\u001b[39;00m batch_dim \u001b[38;5;129;01mis\u001b[39;00m \u001b[38;5;129;01mnot\u001b[39;00m \u001b[38;5;28;01mNone\u001b[39;00m:\n\u001b[1;32m    531\u001b[0m         input_tensor \u001b[38;5;241m=\u001b[39m input_tensor\u001b[38;5;241m.\u001b[39munsqueeze(dim\u001b[38;5;241m=\u001b[39mbatch_dim)\n\u001b[0;32m--> 532\u001b[0m     x\u001b[38;5;241m.\u001b[39mappend(\u001b[43minput_tensor\u001b[49m\u001b[38;5;241;43m.\u001b[39;49m\u001b[43mto\u001b[49m\u001b[43m(\u001b[49m\u001b[43mdevice\u001b[49m\u001b[43m)\u001b[49m\u001b[38;5;241m.\u001b[39mtype(dtype))\n\u001b[1;32m    533\u001b[0m \u001b[38;5;28;01mreturn\u001b[39;00m x\n",
      "\u001b[0;31mOutOfMemoryError\u001b[0m: CUDA out of memory. Tried to allocate 2.00 MiB. GPU 0 has a total capacity of 47.51 GiB of which 25.94 MiB is free. Process 7242 has 582.00 MiB memory in use. Process 13097 has 45.22 GiB memory in use. Including non-PyTorch memory, this process has 608.00 MiB memory in use. Of the allocated memory 283.22 MiB is allocated by PyTorch, and 16.78 MiB is reserved by PyTorch but unallocated. If reserved but unallocated memory is large try setting PYTORCH_CUDA_ALLOC_CONF=expandable_segments:True to avoid fragmentation.  See documentation for Memory Management  (https://pytorch.org/docs/stable/notes/cuda.html#environment-variables)"
     ]
    }
   ],
   "source": [
    "summary(diff_em, input_size=(4, 5, 128, 192))"
   ]
  },
  {
   "cell_type": "code",
   "execution_count": 20,
   "id": "c771e044-b320-4551-86ce-1958c93d3e74",
   "metadata": {},
   "outputs": [],
   "source": [
    "torch.save(diff_em.state_dict(), \"test_advnaive.pt\")"
   ]
  },
  {
   "cell_type": "code",
   "execution_count": 21,
   "id": "ea8a2bbd-0e34-468d-b8e3-6222c9b30db9",
   "metadata": {},
   "outputs": [
    {
     "data": {
      "text/plain": [
       "====================================================================================================\n",
       "Layer (type:depth-idx)                             Output Shape              Param #\n",
       "====================================================================================================\n",
       "Differentiator                                     [4, 5, 128, 192]          --\n",
       "├─UNet: 1-1                                        [4, 64, 128, 192]         --\n",
       "│    └─Sequential: 2-1                             [4, 64, 128, 192]         --\n",
       "│    │    └─Conv2d: 3-1                            [4, 64, 128, 192]         2,944\n",
       "│    │    └─LeakyReLU: 3-2                         [4, 64, 128, 192]         --\n",
       "│    │    └─Conv2d: 3-3                            [4, 64, 128, 192]         4,160\n",
       "│    │    └─LeakyReLU: 3-4                         [4, 64, 128, 192]         --\n",
       "│    └─ModuleList: 2-2                             --                        --\n",
       "│    │    └─UNetDownBlock: 3-5                     [4, 128, 64, 96]          90,368\n",
       "│    │    └─UNetDownBlock: 3-6                     [4, 256, 32, 48]          360,960\n",
       "│    │    └─UNetDownBlock: 3-7                     [4, 512, 16, 24]          1,442,816\n",
       "│    │    └─UNetDownBlock: 3-8                     [4, 1024, 8, 12]          5,769,216\n",
       "│    └─ModuleList: 2-3                             --                        --\n",
       "│    │    └─UNetUpBlock: 3-9                       [4, 512, 16, 24]          4,981,760\n",
       "│    │    └─UNetUpBlock: 3-10                      [4, 256, 32, 48]          1,835,520\n",
       "│    │    └─UNetUpBlock: 3-11                      [4, 128, 64, 96]          311,552\n",
       "│    │    └─UNetUpBlock: 3-12                      [4, 64, 128, 192]         114,816\n",
       "│    └─Sequential: 2-4                             [4, 64, 128, 192]         --\n",
       "│    │    └─Conv2d: 3-13                           [4, 64, 128, 192]         4,160\n",
       "│    │    └─LeakyReLU: 3-14                        [4, 64, 128, 192]         --\n",
       "│    │    └─Conv2d: 3-15                           [4, 64, 128, 192]         4,160\n",
       "│    │    └─LeakyReLU: 3-16                        [4, 64, 128, 192]         --\n",
       "├─ModuleList: 1-8                                  --                        --\n",
       "│    └─AdvectionUpwind: 2-5                        [4, 1, 128, 192]          --\n",
       "│    └─AdvectionUpwind: 2-15                       --                        --\n",
       "│    │    └─FiniteDifference: 3-17                 [4, 1, 128, 192]          --\n",
       "│    │    └─FiniteDifference: 3-18                 [4, 1, 128, 192]          --\n",
       "├─ModuleList: 1-9                                  --                        (recursive)\n",
       "│    └─MappingAndRecon: 2-7                        [4, 1, 128, 192]          --\n",
       "│    │    └─SPADEGeneratorUnit: 3-19               [4, 64, 128, 192]         235,968\n",
       "│    │    └─ResNet: 3-20                           [4, 64, 128, 192]         24,960\n",
       "│    │    └─Conv2d: 3-21                           [4, 1, 128, 192]          65\n",
       "├─ModuleList: 1-8                                  --                        --\n",
       "│    └─AdvectionUpwind: 2-8                        [4, 1, 128, 192]          --\n",
       "│    └─AdvectionUpwind: 2-15                       --                        --\n",
       "│    │    └─FiniteDifference: 3-22                 [4, 1, 128, 192]          --\n",
       "│    │    └─FiniteDifference: 3-23                 [4, 1, 128, 192]          --\n",
       "├─ModuleList: 1-9                                  --                        (recursive)\n",
       "│    └─MappingAndRecon: 2-10                       [4, 1, 128, 192]          --\n",
       "│    │    └─SPADEGeneratorUnit: 3-24               [4, 64, 128, 192]         235,968\n",
       "│    │    └─ResNet: 3-25                           [4, 64, 128, 192]         24,960\n",
       "│    │    └─Conv2d: 3-26                           [4, 1, 128, 192]          65\n",
       "├─ModuleList: 1-8                                  --                        --\n",
       "│    └─AdvectionUpwind: 2-11                       [4, 1, 128, 192]          --\n",
       "│    └─AdvectionUpwind: 2-15                       --                        --\n",
       "│    │    └─FiniteDifference: 3-27                 [4, 1, 128, 192]          --\n",
       "│    │    └─FiniteDifference: 3-28                 [4, 1, 128, 192]          --\n",
       "├─ModuleList: 1-9                                  --                        (recursive)\n",
       "│    └─MappingAndRecon: 2-13                       [4, 1, 128, 192]          --\n",
       "│    │    └─SPADEGeneratorUnit: 3-29               [4, 64, 128, 192]         235,968\n",
       "│    │    └─ResNet: 3-30                           [4, 64, 128, 192]         24,960\n",
       "│    │    └─Conv2d: 3-31                           [4, 1, 128, 192]          65\n",
       "├─ModuleList: 1-8                                  --                        --\n",
       "│    └─AdvectionUpwind: 2-14                       [4, 1, 128, 192]          --\n",
       "│    └─AdvectionUpwind: 2-15                       --                        --\n",
       "│    │    └─FiniteDifference: 3-32                 [4, 1, 128, 192]          --\n",
       "│    │    └─FiniteDifference: 3-33                 [4, 1, 128, 192]          --\n",
       "│    └─AdvectionUpwind: 2-16                       [4, 1, 128, 192]          --\n",
       "│    │    └─FiniteDifference: 3-34                 [4, 1, 128, 192]          --\n",
       "│    │    └─FiniteDifference: 3-35                 [4, 1, 128, 192]          --\n",
       "├─ModuleList: 1-9                                  --                        (recursive)\n",
       "│    └─MappingAndRecon: 2-17                       [4, 2, 128, 192]          --\n",
       "│    │    └─SPADEGeneratorUnit: 3-36               [4, 64, 128, 192]         237,696\n",
       "│    │    └─ResNet: 3-37                           [4, 64, 128, 192]         24,960\n",
       "│    │    └─Conv2d: 3-38                           [4, 2, 128, 192]          130\n",
       "====================================================================================================\n",
       "Total params: 15,968,197\n",
       "Trainable params: 15,968,197\n",
       "Non-trainable params: 0\n",
       "Total mult-adds (Units.GIGABYTES): 151.06\n",
       "====================================================================================================\n",
       "Input size (MB): 1.97\n",
       "Forward/backward pass size (MB): 4112.25\n",
       "Params size (MB): 63.87\n",
       "Estimated Total Size (MB): 4178.09\n",
       "===================================================================================================="
      ]
     },
     "execution_count": 21,
     "metadata": {},
     "output_type": "execute_result"
    }
   ],
   "source": [
    "for i in range(len(diff_em.list_adv)):\n",
    "    if diff_em.list_adv[i] is not None:\n",
    "        diff_em.list_adv[i] = AdvectionUpwind(left_diff, right_diff)\n",
    "summary(diff_em, input_size=(4, 5, 128, 192))"
   ]
  },
  {
   "cell_type": "code",
   "execution_count": 22,
   "id": "c991dbe2-e4f1-40c0-9459-39c61359ca94",
   "metadata": {},
   "outputs": [],
   "source": [
    "torch.save(diff_em.state_dict(), \"test_advupwind.pt\")"
   ]
  },
  {
   "cell_type": "code",
   "execution_count": 23,
   "id": "df3b7841-77a2-4b65-a9e6-33bf0c0a9341",
   "metadata": {},
   "outputs": [
    {
     "data": {
      "text/plain": [
       "<All keys matched successfully>"
      ]
     },
     "execution_count": 23,
     "metadata": {},
     "output_type": "execute_result"
    }
   ],
   "source": [
    "diff_em.load_state_dict(torch.load(\"test_advupwind.pt\", weights_only=False))"
   ]
  },
  {
   "cell_type": "code",
   "execution_count": 25,
   "id": "ec556dc0-7136-4cbf-b372-78b441d2fa15",
   "metadata": {},
   "outputs": [
    {
     "ename": "RuntimeError",
     "evalue": "Error(s) in loading state_dict for Differentiator:\n\tMissing key(s) in state_dict: \"list_adv.0.ldiff.dy_filter\", \"list_adv.0.ldiff.dx_filter\", \"list_adv.0.rdiff.dy_filter\", \"list_adv.0.rdiff.dx_filter\", \"list_adv.1.ldiff.dy_filter\", \"list_adv.1.ldiff.dx_filter\", \"list_adv.1.rdiff.dy_filter\", \"list_adv.1.rdiff.dx_filter\", \"list_adv.2.ldiff.dy_filter\", \"list_adv.2.ldiff.dx_filter\", \"list_adv.2.rdiff.dy_filter\", \"list_adv.2.rdiff.dx_filter\", \"list_adv.3.ldiff.dy_filter\", \"list_adv.3.ldiff.dx_filter\", \"list_adv.3.rdiff.dy_filter\", \"list_adv.3.rdiff.dx_filter\", \"list_adv.4.ldiff.dy_filter\", \"list_adv.4.ldiff.dx_filter\", \"list_adv.4.rdiff.dy_filter\", \"list_adv.4.rdiff.dx_filter\". \n\tUnexpected key(s) in state_dict: \"list_adv.0.cdiff.dy_filter\", \"list_adv.0.cdiff.dx_filter\", \"list_adv.1.cdiff.dy_filter\", \"list_adv.1.cdiff.dx_filter\", \"list_adv.2.cdiff.dy_filter\", \"list_adv.2.cdiff.dx_filter\", \"list_adv.3.cdiff.dy_filter\", \"list_adv.3.cdiff.dx_filter\", \"list_adv.4.cdiff.dy_filter\", \"list_adv.4.cdiff.dx_filter\". ",
     "output_type": "error",
     "traceback": [
      "\u001b[0;31m---------------------------------------------------------------------------\u001b[0m",
      "\u001b[0;31mRuntimeError\u001b[0m                              Traceback (most recent call last)",
      "Cell \u001b[0;32mIn[25], line 1\u001b[0m\n\u001b[0;32m----> 1\u001b[0m \u001b[43mdiff_em\u001b[49m\u001b[38;5;241;43m.\u001b[39;49m\u001b[43mload_state_dict\u001b[49m\u001b[43m(\u001b[49m\u001b[43mtorch\u001b[49m\u001b[38;5;241;43m.\u001b[39;49m\u001b[43mload\u001b[49m\u001b[43m(\u001b[49m\u001b[38;5;124;43m\"\u001b[39;49m\u001b[38;5;124;43mtest_advnaive.pt\u001b[39;49m\u001b[38;5;124;43m\"\u001b[39;49m\u001b[43m,\u001b[49m\u001b[43m \u001b[49m\u001b[43mweights_only\u001b[49m\u001b[38;5;241;43m=\u001b[39;49m\u001b[38;5;28;43;01mFalse\u001b[39;49;00m\u001b[43m)\u001b[49m\u001b[43m)\u001b[49m\n",
      "File \u001b[0;32m~/miniconda3/envs/pytorch_2.4.1/lib/python3.12/site-packages/torch/nn/modules/module.py:2215\u001b[0m, in \u001b[0;36mModule.load_state_dict\u001b[0;34m(self, state_dict, strict, assign)\u001b[0m\n\u001b[1;32m   2210\u001b[0m         error_msgs\u001b[38;5;241m.\u001b[39minsert(\n\u001b[1;32m   2211\u001b[0m             \u001b[38;5;241m0\u001b[39m, \u001b[38;5;124m'\u001b[39m\u001b[38;5;124mMissing key(s) in state_dict: \u001b[39m\u001b[38;5;132;01m{}\u001b[39;00m\u001b[38;5;124m. \u001b[39m\u001b[38;5;124m'\u001b[39m\u001b[38;5;241m.\u001b[39mformat(\n\u001b[1;32m   2212\u001b[0m                 \u001b[38;5;124m'\u001b[39m\u001b[38;5;124m, \u001b[39m\u001b[38;5;124m'\u001b[39m\u001b[38;5;241m.\u001b[39mjoin(\u001b[38;5;124mf\u001b[39m\u001b[38;5;124m'\u001b[39m\u001b[38;5;124m\"\u001b[39m\u001b[38;5;132;01m{\u001b[39;00mk\u001b[38;5;132;01m}\u001b[39;00m\u001b[38;5;124m\"\u001b[39m\u001b[38;5;124m'\u001b[39m \u001b[38;5;28;01mfor\u001b[39;00m k \u001b[38;5;129;01min\u001b[39;00m missing_keys)))\n\u001b[1;32m   2214\u001b[0m \u001b[38;5;28;01mif\u001b[39;00m \u001b[38;5;28mlen\u001b[39m(error_msgs) \u001b[38;5;241m>\u001b[39m \u001b[38;5;241m0\u001b[39m:\n\u001b[0;32m-> 2215\u001b[0m     \u001b[38;5;28;01mraise\u001b[39;00m \u001b[38;5;167;01mRuntimeError\u001b[39;00m(\u001b[38;5;124m'\u001b[39m\u001b[38;5;124mError(s) in loading state_dict for \u001b[39m\u001b[38;5;132;01m{}\u001b[39;00m\u001b[38;5;124m:\u001b[39m\u001b[38;5;130;01m\\n\u001b[39;00m\u001b[38;5;130;01m\\t\u001b[39;00m\u001b[38;5;132;01m{}\u001b[39;00m\u001b[38;5;124m'\u001b[39m\u001b[38;5;241m.\u001b[39mformat(\n\u001b[1;32m   2216\u001b[0m                        \u001b[38;5;28mself\u001b[39m\u001b[38;5;241m.\u001b[39m\u001b[38;5;18m__class__\u001b[39m\u001b[38;5;241m.\u001b[39m\u001b[38;5;18m__name__\u001b[39m, \u001b[38;5;124m\"\u001b[39m\u001b[38;5;130;01m\\n\u001b[39;00m\u001b[38;5;130;01m\\t\u001b[39;00m\u001b[38;5;124m\"\u001b[39m\u001b[38;5;241m.\u001b[39mjoin(error_msgs)))\n\u001b[1;32m   2217\u001b[0m \u001b[38;5;28;01mreturn\u001b[39;00m _IncompatibleKeys(missing_keys, unexpected_keys)\n",
      "\u001b[0;31mRuntimeError\u001b[0m: Error(s) in loading state_dict for Differentiator:\n\tMissing key(s) in state_dict: \"list_adv.0.ldiff.dy_filter\", \"list_adv.0.ldiff.dx_filter\", \"list_adv.0.rdiff.dy_filter\", \"list_adv.0.rdiff.dx_filter\", \"list_adv.1.ldiff.dy_filter\", \"list_adv.1.ldiff.dx_filter\", \"list_adv.1.rdiff.dy_filter\", \"list_adv.1.rdiff.dx_filter\", \"list_adv.2.ldiff.dy_filter\", \"list_adv.2.ldiff.dx_filter\", \"list_adv.2.rdiff.dy_filter\", \"list_adv.2.rdiff.dx_filter\", \"list_adv.3.ldiff.dy_filter\", \"list_adv.3.ldiff.dx_filter\", \"list_adv.3.rdiff.dy_filter\", \"list_adv.3.rdiff.dx_filter\", \"list_adv.4.ldiff.dy_filter\", \"list_adv.4.ldiff.dx_filter\", \"list_adv.4.rdiff.dy_filter\", \"list_adv.4.rdiff.dx_filter\". \n\tUnexpected key(s) in state_dict: \"list_adv.0.cdiff.dy_filter\", \"list_adv.0.cdiff.dx_filter\", \"list_adv.1.cdiff.dy_filter\", \"list_adv.1.cdiff.dx_filter\", \"list_adv.2.cdiff.dy_filter\", \"list_adv.2.cdiff.dx_filter\", \"list_adv.3.cdiff.dy_filter\", \"list_adv.3.cdiff.dx_filter\", \"list_adv.4.cdiff.dy_filter\", \"list_adv.4.cdiff.dx_filter\". "
     ]
    }
   ],
   "source": [
    "# This one is expected to fail\n",
    "diff_em.load_state_dict(torch.load(\"test_advnaive.pt\", weights_only=False))"
   ]
  },
  {
   "cell_type": "code",
   "execution_count": null,
   "id": "20d1bce9-2a33-476e-bffa-c0f98a67ec64",
   "metadata": {},
   "outputs": [],
   "source": []
  }
 ],
 "metadata": {
  "kernelspec": {
   "display_name": "Python 3 (ipykernel)",
   "language": "python",
   "name": "python3"
  },
  "language_info": {
   "codemirror_mode": {
    "name": "ipython",
    "version": 3
   },
   "file_extension": ".py",
   "mimetype": "text/x-python",
   "name": "python",
   "nbconvert_exporter": "python",
   "pygments_lexer": "ipython3",
   "version": "3.12.2"
  }
 },
 "nbformat": 4,
 "nbformat_minor": 5
}
