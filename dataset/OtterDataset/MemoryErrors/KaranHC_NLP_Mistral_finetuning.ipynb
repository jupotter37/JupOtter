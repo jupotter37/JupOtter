{
 "cells": [
  {
   "cell_type": "code",
   "execution_count": 1,
   "metadata": {},
   "outputs": [],
   "source": [
    "# !pip install git+https://github.com/huggingface/transformers trl accelerate torch bitsandbytes peft datasets\n",
    "# !pip install pyqtwebengine\n",
    "import pandas as  pd\n",
    "\n",
    "import numpy as np\n",
    "#https://medium.com/gopenai/fine-tuning-mistral-7b-instruct-model-in-colab-a-beginners-guide-0f7bebccf11c"
   ]
  },
  {
   "cell_type": "code",
   "execution_count": 2,
   "metadata": {},
   "outputs": [],
   "source": [
    "import torch \n",
    "from trl import SFTTrainer\n",
    "from random import randrange \n",
    "from datasets import load_dataset \n",
    "from transformers import AutoModelForCausalLM, AutoTokenizer, TrainingArguments, BitsAndBytesConfig\n",
    "from peft import AutoPeftModelForCausalLM, LoraConfig, get_peft_model, prepare_model_for_kbit_training"
   ]
  },
  {
   "cell_type": "code",
   "execution_count": 3,
   "metadata": {},
   "outputs": [],
   "source": [
    "# Loading the dataset \n",
    "dataset = load_dataset(\"databricks/databricks-dolly-15k\", split=\"train\")\n",
    "\n",
    "# Since I will only finetune on Question-Answer pairs without context, I will filter accordingly\n",
    "# Filter QA pairs without context\n",
    "dataset = dataset.filter(lambda x:x['context'] == '')\n",
    "\n",
    "# A prompting formatting function \n",
    "def create_prompt_instruction(sample):\n",
    "   return f\"\"\"### Instruction: \n",
    "   Use the input below to create an instruction, which could have been used to generate the input using an LLM. \n",
    "\n",
    "   ### Input \n",
    "   {sample['response']}\n",
    "\n",
    "   ### Response:\n",
    "   {sample['instruction']}\n",
    "   \"\"\""
   ]
  },
  {
   "cell_type": "code",
   "execution_count": null,
   "metadata": {},
   "outputs": [],
   "source": []
  },
  {
   "cell_type": "code",
   "execution_count": 4,
   "metadata": {},
   "outputs": [
    {
     "name": "stdout",
     "output_type": "stream",
     "text": [
      "### Instruction: \n",
      "   Use the input below to create an instruction, which could have been used to generate the input using an LLM. \n",
      "\n",
      "   ### Input \n",
      "   Tope\n",
      "\n",
      "   ### Response:\n",
      "   Which is a species of fish? Tope or Rope\n",
      "   \n"
     ]
    }
   ],
   "source": [
    "print(create_prompt_instruction(dataset[0]))\n"
   ]
  },
  {
   "cell_type": "code",
   "execution_count": 5,
   "metadata": {},
   "outputs": [],
   "source": [
    "# # Import model and tokenizer \n",
    "# # load_in_4bit=True --> loading only 4-bit version \n",
    "# model = AutoModelForCausalLM.from_pretrained(\"mistralai/Mistral-7B-Instruct-v0.1\", device_map='auto',  load_in_8bit=True,use_cache=False)#load_in_4bit=True\n",
    "# tokenizer = AutoTokenizer.from_pretrained(\"mistralai/Mistral-7B-Instruct-v0.1\")\n",
    "\n",
    "# tokenizer.pad_token = tokenizer.eos_token\n",
    "# tokenizer.padding_side = \"right\""
   ]
  },
  {
   "cell_type": "code",
   "execution_count": 6,
   "metadata": {},
   "outputs": [
    {
     "data": {
      "application/vnd.jupyter.widget-view+json": {
       "model_id": "823d8759612440aa800faf31f58aa712",
       "version_major": 2,
       "version_minor": 0
      },
      "text/plain": [
       "Loading checkpoint shards:   0%|          | 0/2 [00:00<?, ?it/s]"
      ]
     },
     "metadata": {},
     "output_type": "display_data"
    }
   ],
   "source": [
    "modelpath=\"mistralai/Mistral-7B-Instruct-v0.1\"\n",
    "\n",
    "# Load 4-bit quantized model\n",
    "model = AutoModelForCausalLM.from_pretrained(\n",
    "    modelpath,    \n",
    "    device_map=\"auto\",\n",
    "    quantization_config=BitsAndBytesConfig(\n",
    "        load_in_4bit=True,\n",
    "        bnb_4bit_compute_dtype=torch.bfloat16,\n",
    "        bnb_4bit_quant_type=\"nf4\",\n",
    "    ),\n",
    "    torch_dtype=torch.bfloat16,\n",
    ")"
   ]
  },
  {
   "cell_type": "code",
   "execution_count": 7,
   "metadata": {},
   "outputs": [],
   "source": [
    "# bitsandbytes.__version__"
   ]
  },
  {
   "cell_type": "code",
   "execution_count": null,
   "metadata": {},
   "outputs": [],
   "source": []
  },
  {
   "cell_type": "code",
   "execution_count": 8,
   "metadata": {},
   "outputs": [],
   "source": [
    "tokenizer = AutoTokenizer.from_pretrained(\"mistralai/Mistral-7B-Instruct-v0.1\")"
   ]
  },
  {
   "cell_type": "code",
   "execution_count": 9,
   "metadata": {},
   "outputs": [],
   "source": [
    "# git clone https://github.com/TimDettmers/bitsandbytes.git\n",
    "# cd bitsandbytes\n",
    "# CUDA_VERSION=118 make cuda11x\n",
    "# python setup.py install"
   ]
  },
  {
   "cell_type": "code",
   "execution_count": 10,
   "metadata": {},
   "outputs": [],
   "source": [
    "# LD_LIBRARY_PATH: export LD_LIBRARY_PATH=/usr/local/cuda-12.1/targets/x86_64-linux/lib/stubs/libcuda.so\n",
    "# export LD_LIBRARY_PATH=\"/usr/local/cuda-12.1/targets/x86_64-linux/lib/stubs/libcuda.so:$LD_LIBRARY_PATH\"\n",
    "# echo $LD_LIBRARY_PATH"
   ]
  },
  {
   "cell_type": "code",
   "execution_count": 11,
   "metadata": {},
   "outputs": [],
   "source": [
    "def get_prompt():\n",
    "    \"\"\"Select a random sample from a dataset and format it into a prompt for language model (LLM) instruction generation.\n",
    "\n",
    "        This function randomly selects an index, retrieves a sample from a dataset, and formats a prompt string that instructs to create an LLM instruction based on the sample's response. The formatted prompt and the selected sample are returned.\n",
    "\n",
    "        Returns:\n",
    "        tuple: A tuple containing:\n",
    "            - str: A formatted string that includes an instruction and the response from the randomly selected sample, intended to be used as a prompt for LLM instruction generation.\n",
    "            - dict: The randomly selected sample from the dataset.\n",
    "\n",
    "        Note:\n",
    "        Ensure that 'dataset' is a pre-defined list of dictionaries, where each dictionary contains at least a key 'response' holding a text string. The function does not handle empty datasets or missing keys and may raise an exception in such cases.\n",
    "        \"\"\"\n",
    "\n",
    "    idx = randrange(len(dataset))\n",
    "\n",
    "    sample = dataset[idx]\n",
    "\n",
    "    return f\"\"\"### Instruction: \n",
    "    Use the input below to create an instruction, which could have been used to generate the input using an LLM. \n",
    "\n",
    "    ### Input \n",
    "    {sample['response']}\n",
    "\n",
    "    ### Response:\n",
    "    \"\"\", sample\n",
    "\n",
    "\n",
    "\n",
    "def get_response(prompt, sample):\n",
    "\n",
    "    \"\"\"\n",
    "        Generate a response based on a given prompt using an LLM. \n",
    "    \n",
    "        Parameters:\n",
    "        - prompt (str): A text string to prompt LLM.\n",
    "        - sample (dict): A dictionary containing a ground truth. \n",
    "\n",
    "        Returns:\n",
    "        dict: A dictionary containing:\n",
    "            - 'LLM result': The generated response from the language model, decoded from token IDs to a string.\n",
    "            - 'ground truth': The ground truth instruction text extracted from the input sample.\n",
    "\n",
    "        Note:\n",
    "        Ensure that the 'tokenizer' and 'model' are loaded.\n",
    "        \"\"\"\n",
    "\n",
    "    encoded_input = tokenizer(prompt,  return_tensors=\"pt\", add_special_tokens=True)\n",
    "    model_inputs = encoded_input.to('cuda')\n",
    "\n",
    "    generated_ids = model.generate(**model_inputs, max_new_tokens=1000, do_sample=True, pad_token_id=tokenizer.eos_token_id)\n",
    "\n",
    "    decoded_output = tokenizer.batch_decode(generated_ids)\n",
    "\n",
    "    return {\n",
    "        'llm_response': decoded_output[0], # LLM-generated response \n",
    "        'reference': sample['instruction'] # Ground Truth \n",
    "    }"
   ]
  },
  {
   "cell_type": "code",
   "execution_count": 32,
   "metadata": {},
   "outputs": [
    {
     "name": "stdout",
     "output_type": "stream",
     "text": [
      "### Instruction: \n",
      "    Use the input below to create an instruction, which could have been used to generate the input using an LLM. \n",
      "\n",
      "    ### Input \n",
      "    Patagonia branded jackets provide warmth to the wearer as well as act as fashionable styling in today's culture. The coats are lightweight and easy to pack in bags or suitcases, making them amenable for use when traveling or camping. The Patagonia corporation also donates profits heavily to charity which appeals to many consumers on the market today.\n",
      "\n",
      "    ### Response:\n",
      "    \n"
     ]
    },
    {
     "name": "stdout",
     "output_type": "stream",
     "text": [
      "LLM result:\n",
      "<s> ### Instruction: \n",
      "    Use the input below to create an instruction, which could have been used to generate the input using an LLM. \n",
      "\n",
      "    ### Input \n",
      "    Patagonia branded jackets provide warmth to the wearer as well as act as fashionable styling in today's culture. The coats are lightweight and easy to pack in bags or suitcases, making them amenable for use when traveling or camping. The Patagonia corporation also donates profits heavily to charity which appeals to many consumers on the market today.\n",
      "\n",
      "    ### Response:\n",
      "    \n",
      "    In recent years, Patagonia has been known for producing high-quality outdoor jackets that not only provide warmth, but also serve as fashionable attire. Made from lightweight and compact materials, these jackets are perfect for those on-the-go, whether it's for travel or camping. Additionally, Patagonia has established a strong commitment to giving back to the community by donating profits to various charitable organizations. This dedication to both style and social responsibility has made them a popular choice among consumers.</s>\n",
      "--------------------------------------------------------------------------------\n",
      "Ground truth:\n",
      "Why do people enjoy wearing Patagonia jackets?\n"
     ]
    }
   ],
   "source": [
    "# Get the prompt first \n",
    "test_prompt, sample = get_prompt()\n",
    "print(test_prompt)\n",
    "\n",
    "# TEST PROMPT \n",
    "\"\"\"\n",
    "### Instruction: \n",
    "   Use the input below to create an instruction, which could have been used to generate the input using an LLM. \n",
    "\n",
    "   ### Input \n",
    "   Born in Iowa, Asa Wood was a politician and newspaper publisher who later served as a state senator of Nebraska.\n",
    "\n",
    "   ### Response:\n",
    "\"\"\"\n",
    "\n",
    "# Get the response \n",
    "response = get_response(test_prompt, sample)\n",
    "\n",
    "# print the llm response and ground truth \n",
    "print(\"LLM result:\")\n",
    "print(response['llm_response'])\n",
    "print('--'*40)\n",
    "print(\"Ground truth:\")\n",
    "print(response['reference'])"
   ]
  },
  {
   "cell_type": "code",
   "execution_count": null,
   "metadata": {},
   "outputs": [],
   "source": [
    "# torch.__version__"
   ]
  },
  {
   "cell_type": "code",
   "execution_count": null,
   "metadata": {},
   "outputs": [],
   "source": [
    "# !pip install -U torch"
   ]
  },
  {
   "cell_type": "code",
   "execution_count": 33,
   "metadata": {},
   "outputs": [],
   "source": [
    "ocr=\"\"\"COCKTAIL\n",
    "CRATE\n",
    "SMALL BATCH\n",
    "COCKTAIL MIX\n",
    "BORN IN QUEENS NYC\n",
    "CLASSIC\n",
    "OLD FASHIONED\n",
    "DOES NOT CONTAIN ALCOHOL,\n",
    "JUST REAL INGREDIENTS LIKE\n",
    "BROWN SUGAR AND BITTERS\n",
    "REFRIGERATE AFTER OPENING\n",
    "GMO FREE MADE WITH DEMERARA SUGAR 375 ML 12.7 FL OZ\"\"\""
   ]
  },
  {
   "cell_type": "code",
   "execution_count": 31,
   "metadata": {},
   "outputs": [],
   "source": [
    "torch.backends.cuda.enable_mem_efficient_sdp(False)"
   ]
  },
  {
   "cell_type": "code",
   "execution_count": 34,
   "metadata": {},
   "outputs": [
    {
     "name": "stdout",
     "output_type": "stream",
     "text": [
      "###Instruction:\n",
      "    You are an expert in extracting product claims from Product OCR input of the product image, please consider the below points before extracting those claims \n",
      "    Consider the below conditions before extracting the claims: \n",
      "        Condition 1 - Extract only the English claims that the product makes\n",
      "        Condition 2 - Consider tests and certifications mentioned as claims\n",
      "        Condition 3 - Do not consider quantity, expiry or directions to use as claims\n",
      "        Condition 4 - Do not consider any nutritional information as claims\n",
      "        Condition 5 - Do not consider contact, address or website information\n",
      "        Condition 6 - If you do not find any product claims return None\n",
      "        Condition 7 - Ignore other language claims\n",
      "        Condition 9 - Please do not consider volume information as claim\n",
      "        Condition 8 - Please do not provide any explanation, the extracted claims should be in the form of a python list for example like this \"['claim 1','claim 2',....'claim n']\"\n",
      "\n",
      "### Product OCR input:\n",
      "    COCKTAIL\n",
      "CRATE\n",
      "SMALL BATCH\n",
      "COCKTAIL MIX\n",
      "BORN IN QUEENS NYC\n",
      "CLASSIC\n",
      "OLD FASHIONED\n",
      "DOES NOT CONTAIN ALCOHOL,\n",
      "JUST REAL INGREDIENTS LIKE\n",
      "BROWN SUGAR AND BITTERS\n",
      "REFRIGERATE AFTER OPENING\n",
      "GMO FREE MADE WITH DEMERARA SUGAR 375 ML 12.7 FL OZ\n",
      "    \n",
      "### Extracted Claims:\n",
      " \n"
     ]
    }
   ],
   "source": [
    "new_prompt=\"\"\"###Instruction:\n",
    "    You are an expert in extracting product claims from Product OCR input of the product image, please consider the below points before extracting those claims \n",
    "    Consider the below conditions before extracting the claims: \n",
    "        Condition 1 - Extract only the English claims that the product makes\n",
    "        Condition 2 - Consider tests and certifications mentioned as claims\n",
    "        Condition 3 - Do not consider quantity, expiry or directions to use as claims\n",
    "        Condition 4 - Do not consider any nutritional information as claims\n",
    "        Condition 5 - Do not consider contact, address or website information\n",
    "        Condition 6 - If you do not find any product claims return None\n",
    "        Condition 7 - Ignore other language claims\n",
    "        Condition 9 - Please do not consider volume information as claim\n",
    "        Condition 8 - Please do not provide any explanation, the extracted claims should be in the form of a python list for example like this \"['claim 1','claim 2',....'claim n']\"\n",
    "\n",
    "### Product OCR input:\n",
    "    {}\n",
    "    \n",
    "### Extracted Claims:\n",
    " \"\"\".format(ocr)\n",
    "          \n",
    "          \n",
    "          \n",
    "print(new_prompt)"
   ]
  },
  {
   "cell_type": "code",
   "execution_count": 35,
   "metadata": {},
   "outputs": [],
   "source": [
    "test_prompt=new_prompt"
   ]
  },
  {
   "cell_type": "code",
   "execution_count": 36,
   "metadata": {},
   "outputs": [
    {
     "name": "stdout",
     "output_type": "stream",
     "text": [
      "LLM result:\n",
      "<s> ###Instruction:\n",
      "    You are an expert in extracting product claims from Product OCR input of the product image, please consider the below points before extracting those claims \n",
      "    Consider the below conditions before extracting the claims: \n",
      "        Condition 1 - Extract only the English claims that the product makes\n",
      "        Condition 2 - Consider tests and certifications mentioned as claims\n",
      "        Condition 3 - Do not consider quantity, expiry or directions to use as claims\n",
      "        Condition 4 - Do not consider any nutritional information as claims\n",
      "        Condition 5 - Do not consider contact, address or website information\n",
      "        Condition 6 - If you do not find any product claims return None\n",
      "        Condition 7 - Ignore other language claims\n",
      "        Condition 9 - Please do not consider volume information as claim\n",
      "        Condition 8 - Please do not provide any explanation, the extracted claims should be in the form of a python list for example like this \"['claim 1','claim 2',....'claim n']\"\n",
      "\n",
      "### Product OCR input:\n",
      "    COCKTAIL\n",
      "CRATE\n",
      "SMALL BATCH\n",
      "COCKTAIL MIX\n",
      "BORN IN QUEENS NYC\n",
      "CLASSIC\n",
      "OLD FASHIONED\n",
      "DOES NOT CONTAIN ALCOHOL,\n",
      "JUST REAL INGREDIENTS LIKE\n",
      "BROWN SUGAR AND BITTERS\n",
      "REFRIGERATE AFTER OPENING\n",
      "GMO FREE MADE WITH DEMERARA SUGAR 375 ML 12.7 FL OZ\n",
      "    \n",
      "### Extracted Claims:\n",
      "  ['COCKTAIL MIX', 'OLD FASHIONED']\n",
      "\n",
      "\n",
      "### Output:\n",
      "['COCKTAIL MIX', 'OLD FASHIONED']</s>\n",
      "--------------------------------------------------------------------------------\n",
      "Ground truth:\n",
      "Why do people enjoy wearing Patagonia jackets?\n"
     ]
    }
   ],
   "source": [
    "# Get the prompt first \n",
    "# test_prompt, sample = get_prompt()\n",
    "# print(test_prompt)\n",
    "\n",
    "# TEST PROMPT\n",
    "\"\"\"\n",
    "### Instruction: \n",
    "   Use the input below to create an instruction, which could have been used to generate the input using an LLM. \n",
    "\n",
    "   ### Input \n",
    "   The Needle is a mutant supervillain created by Mark Gruenwald, Carmine Infantino, and Al Gordon. He first appeared in Spider-Woman #9 (December 1978) and was brought back during his run on the West Coast Avengers as a member of the villain team Night Shift. He was imprisoned by the Locksmith and freed by Spider-Woman. He joined the Night Shift and teamed with Captain America against the Power Broker and his augmented mutates. He also battled the West Coast Avengers, the second Hangman, and Satannish.\n",
    "\n",
    "He was later defeated by Armory. Needle appears with the Night Shift, as part of the Hood's gang, and they battle the Midnight Sons. They are killed when the zombie virus mutates and becomes airborne. Dormammu assumes control of the Night Shift and uses them to fight the Midnight Sons. When Jennifer Kale and the Black Talon contain the virus within the Zombie, the Night Shift members are restored to normal and the Hood teleports away with them.\n",
    "\n",
    "   ### Response:\n",
    "\"\"\"\n",
    "\n",
    "# Get the response \n",
    "response = get_response(test_prompt, sample)\n",
    "\n",
    "# print the llm response and ground truth \n",
    "print(\"LLM result:\")\n",
    "print(response['llm_response'])\n",
    "print('--'*40)\n",
    "print(\"Ground truth:\")\n",
    "print(response['reference'])"
   ]
  },
  {
   "cell_type": "code",
   "execution_count": 37,
   "metadata": {},
   "outputs": [
    {
     "name": "stdout",
     "output_type": "stream",
     "text": [
      "Sat Dec 30 06:19:28 2023       \n",
      "+---------------------------------------------------------------------------------------+\n",
      "| NVIDIA-SMI 530.30.02              Driver Version: 530.30.02    CUDA Version: 12.1     |\n",
      "|-----------------------------------------+----------------------+----------------------+\n",
      "| GPU  Name                  Persistence-M| Bus-Id        Disp.A | Volatile Uncorr. ECC |\n",
      "| Fan  Temp  Perf            Pwr:Usage/Cap|         Memory-Usage | GPU-Util  Compute M. |\n",
      "|                                         |                      |               MIG M. |\n",
      "|=========================================+======================+======================|\n",
      "|   0  Quadro RTX 5000                 Off| 00000000:17:00.0 Off |                  Off |\n",
      "| 34%   37C    P2               48W / 230W|   3153MiB / 16384MiB |      0%      Default |\n",
      "|                                         |                      |                  N/A |\n",
      "+-----------------------------------------+----------------------+----------------------+\n",
      "|   1  Quadro RTX 5000                 Off| 00000000:65:00.0 Off |                  Off |\n",
      "| 35%   41C    P2               53W / 230W|   4017MiB / 16384MiB |      0%      Default |\n",
      "|                                         |                      |                  N/A |\n",
      "+-----------------------------------------+----------------------+----------------------+\n",
      "                                                                                         \n",
      "+---------------------------------------------------------------------------------------+\n",
      "| Processes:                                                                            |\n",
      "|  GPU   GI   CI        PID   Type   Process name                            GPU Memory |\n",
      "|        ID   ID                                                             Usage      |\n",
      "|=======================================================================================|\n",
      "|    0   N/A  N/A   3038308      C   ...naconda3/envs/base_graph/bin/python     3150MiB |\n",
      "|    1   N/A  N/A   3038308      C   ...naconda3/envs/base_graph/bin/python     4014MiB |\n",
      "+---------------------------------------------------------------------------------------+\n"
     ]
    }
   ],
   "source": [
    "!nvidia-smi"
   ]
  },
  {
   "cell_type": "code",
   "execution_count": 66,
   "metadata": {},
   "outputs": [],
   "source": [
    "import pandas as pd\n",
    "\n",
    "# df=pd.read_csv(\"/home/niq/hcsr2001/LLM_data/claim_llm.csv\")\n",
    "\n",
    "train=pd.read_csv(\"/home/niq/hcsr2001/LLM_data/claim_train_llm.csv\")\n",
    "test=pd.read_csv(\"/home/niq/hcsr2001/LLM_data/claim_test_llm.csv\")"
   ]
  },
  {
   "cell_type": "code",
   "execution_count": 67,
   "metadata": {},
   "outputs": [],
   "source": [
    "df=train.copy()"
   ]
  },
  {
   "cell_type": "code",
   "execution_count": 68,
   "metadata": {},
   "outputs": [
    {
     "data": {
      "text/plain": [
       "'###Instruction:\\n    You are an expert in extracting product claims from Product OCR input of the product image, please consider the below points before extracting those claims \\n    Consider the below conditions before extracting the claims: \\n        Condition 1 - Extract only the English claims that the product makes and please do not provide any explanation\\n        Condition 2 - Consider tests and certifications mentioned as claims\\n        Condition 3 - Do not consider quantity, expiry or directions to use as claims\\n        Condition 4 - Do not consider any nutritional information as claims\\n        Condition 5 - Do not consider contact, address or website information\\n        Condition 6 - If you do not find any product claims return None\\n        Condition 7 - Ignore other language claims\\n        Condition 9 - Please do not consider volume information as claim and also please do not consider instructions provided as claims \\n        Condition 8 - Please do not provide any explanation, the extracted claims should be separated by comas for example like this - claim 1,claim 2,....claim n\\n\\n### Product OCR input:'"
      ]
     },
     "execution_count": 68,
     "metadata": {},
     "output_type": "execute_result"
    }
   ],
   "source": [
    "text_to_add=\"\"\"###Instruction:\n",
    "    You are an expert in extracting product claims from Product OCR input of the product image, please consider the below points before extracting those claims \n",
    "    Consider the below conditions before extracting the claims: \n",
    "        Condition 1 - Extract only the English claims that the product makes and please do not provide any explanation\n",
    "        Condition 2 - Consider tests and certifications mentioned as claims\n",
    "        Condition 3 - Do not consider quantity, expiry or directions to use as claims\n",
    "        Condition 4 - Do not consider any nutritional information as claims\n",
    "        Condition 5 - Do not consider contact, address or website information\n",
    "        Condition 6 - If you do not find any product claims return None\n",
    "        Condition 7 - Ignore other language claims\n",
    "        Condition 9 - Please do not consider volume information as claim and also please do not consider instructions provided as claims \n",
    "        Condition 8 - Please do not provide any explanation, the extracted claims should be separated by comas for example like this - claim 1,claim 2,....claim n\n",
    "\n",
    "### Product OCR input:\"\"\"\n",
    "text_to_add"
   ]
  },
  {
   "cell_type": "code",
   "execution_count": 69,
   "metadata": {},
   "outputs": [
    {
     "data": {
      "text/html": [
       "<div>\n",
       "<style scoped>\n",
       "    .dataframe tbody tr th:only-of-type {\n",
       "        vertical-align: middle;\n",
       "    }\n",
       "\n",
       "    .dataframe tbody tr th {\n",
       "        vertical-align: top;\n",
       "    }\n",
       "\n",
       "    .dataframe thead th {\n",
       "        text-align: right;\n",
       "    }\n",
       "</style>\n",
       "<table border=\"1\" class=\"dataframe\">\n",
       "  <thead>\n",
       "    <tr style=\"text-align: right;\">\n",
       "      <th></th>\n",
       "      <th>id</th>\n",
       "      <th>Image_side</th>\n",
       "      <th>claim_0</th>\n",
       "      <th>claim_1</th>\n",
       "      <th>claim_2</th>\n",
       "      <th>claim_3</th>\n",
       "      <th>claim_4</th>\n",
       "      <th>claim_5</th>\n",
       "      <th>claim_6</th>\n",
       "      <th>claim_7</th>\n",
       "      <th>...</th>\n",
       "      <th>claim_13</th>\n",
       "      <th>claim_14</th>\n",
       "      <th>claim_15</th>\n",
       "      <th>claim_16</th>\n",
       "      <th>claim_17</th>\n",
       "      <th>claim_18</th>\n",
       "      <th>claim_19</th>\n",
       "      <th>claim_20</th>\n",
       "      <th>ocr_info</th>\n",
       "      <th>prompt_cliam</th>\n",
       "    </tr>\n",
       "  </thead>\n",
       "  <tbody>\n",
       "    <tr>\n",
       "      <th>0</th>\n",
       "      <td>10305744_0</td>\n",
       "      <td>Front</td>\n",
       "      <td>REMOVE TOUGH STAINS &amp; DIRT</td>\n",
       "      <td>NATURAL FRAGRANCE</td>\n",
       "      <td>FULL DISSOLUTION</td>\n",
       "      <td>PLANT BASED</td>\n",
       "      <td>CHILD SAFE</td>\n",
       "      <td>COLOUR SAFE</td>\n",
       "      <td>NON TOXIC</td>\n",
       "      <td>SAFE ON HANDS</td>\n",
       "      <td>...</td>\n",
       "      <td>NaN</td>\n",
       "      <td>NaN</td>\n",
       "      <td>NaN</td>\n",
       "      <td>NaN</td>\n",
       "      <td>NaN</td>\n",
       "      <td>NaN</td>\n",
       "      <td>NaN</td>\n",
       "      <td>NaN</td>\n",
       "      <td>LIQUID\\nDETERGENT\\nPREMIUM\\nISO\\n9001:29 15\\nQ...</td>\n",
       "      <td>REMOVE TOUGH STAINS &amp; DIRT, NATURAL FRAGRANCE...</td>\n",
       "    </tr>\n",
       "    <tr>\n",
       "      <th>1</th>\n",
       "      <td>10305744_1</td>\n",
       "      <td>Back</td>\n",
       "      <td>HARD ON DIRT AND TOUGH STAINS, MAKES YOUR CLO...</td>\n",
       "      <td>SUITABLE FOR All TYPE of CLOTHS</td>\n",
       "      <td>OKTAA active detergent LIQUID IS SUITABLE FOR...</td>\n",
       "      <td>NaN</td>\n",
       "      <td>NaN</td>\n",
       "      <td>NaN</td>\n",
       "      <td>NaN</td>\n",
       "      <td>NaN</td>\n",
       "      <td>...</td>\n",
       "      <td>NaN</td>\n",
       "      <td>NaN</td>\n",
       "      <td>NaN</td>\n",
       "      <td>NaN</td>\n",
       "      <td>NaN</td>\n",
       "      <td>NaN</td>\n",
       "      <td>NaN</td>\n",
       "      <td>NaN</td>\n",
       "      <td>Net. Volume: 1000 ml\\nM.R.P.3:\\n355.00\\nLDO-11...</td>\n",
       "      <td>HARD ON DIRT AND TOUGH STAINS, MAKES YOUR CLO...</td>\n",
       "    </tr>\n",
       "  </tbody>\n",
       "</table>\n",
       "<p>2 rows × 25 columns</p>\n",
       "</div>"
      ],
      "text/plain": [
       "           id Image_side                                            claim_0  \\\n",
       "0  10305744_0      Front                         REMOVE TOUGH STAINS & DIRT   \n",
       "1  10305744_1       Back   HARD ON DIRT AND TOUGH STAINS, MAKES YOUR CLO...   \n",
       "\n",
       "                            claim_1  \\\n",
       "0                 NATURAL FRAGRANCE   \n",
       "1   SUITABLE FOR All TYPE of CLOTHS   \n",
       "\n",
       "                                             claim_2       claim_3  \\\n",
       "0                                   FULL DISSOLUTION   PLANT BASED   \n",
       "1   OKTAA active detergent LIQUID IS SUITABLE FOR...           NaN   \n",
       "\n",
       "       claim_4       claim_5     claim_6         claim_7  ... claim_13  \\\n",
       "0   CHILD SAFE   COLOUR SAFE   NON TOXIC   SAFE ON HANDS  ...      NaN   \n",
       "1          NaN           NaN         NaN             NaN  ...      NaN   \n",
       "\n",
       "  claim_14 claim_15 claim_16 claim_17 claim_18 claim_19 claim_20  \\\n",
       "0      NaN      NaN      NaN      NaN      NaN      NaN      NaN   \n",
       "1      NaN      NaN      NaN      NaN      NaN      NaN      NaN   \n",
       "\n",
       "                                            ocr_info  \\\n",
       "0  LIQUID\\nDETERGENT\\nPREMIUM\\nISO\\n9001:29 15\\nQ...   \n",
       "1  Net. Volume: 1000 ml\\nM.R.P.3:\\n355.00\\nLDO-11...   \n",
       "\n",
       "                                        prompt_cliam  \n",
       "0   REMOVE TOUGH STAINS & DIRT, NATURAL FRAGRANCE...  \n",
       "1   HARD ON DIRT AND TOUGH STAINS, MAKES YOUR CLO...  \n",
       "\n",
       "[2 rows x 25 columns]"
      ]
     },
     "execution_count": 69,
     "metadata": {},
     "output_type": "execute_result"
    }
   ],
   "source": [
    "df.head(2)"
   ]
  },
  {
   "cell_type": "code",
   "execution_count": null,
   "metadata": {},
   "outputs": [],
   "source": []
  },
  {
   "cell_type": "code",
   "execution_count": 70,
   "metadata": {},
   "outputs": [],
   "source": [
    "import re\n",
    "df[\"prompt_cliam\"]=df[\"prompt_cliam\"].apply(lambda x: re.sub(r',+', ',', x))"
   ]
  },
  {
   "cell_type": "code",
   "execution_count": 71,
   "metadata": {},
   "outputs": [],
   "source": [
    "test[\"prompt_cliam\"]=test[\"prompt_cliam\"].apply(lambda x: re.sub(r',+', ',', x))"
   ]
  },
  {
   "cell_type": "code",
   "execution_count": 72,
   "metadata": {},
   "outputs": [],
   "source": [
    "df[\"ocr_info\"]=df[\"ocr_info\"].apply(lambda x:text_to_add+\"\\n\" +x+\" \\n\\n ### Extracted Claims: \\n\")\n"
   ]
  },
  {
   "cell_type": "code",
   "execution_count": 73,
   "metadata": {},
   "outputs": [],
   "source": [
    "test[\"ocr_info\"]=test[\"ocr_info\"].apply(lambda x:text_to_add+\"\\n\" +x+\" \\n\\n ### Extracted Claims: \\n\")\n"
   ]
  },
  {
   "cell_type": "code",
   "execution_count": 74,
   "metadata": {},
   "outputs": [
    {
     "data": {
      "text/plain": [
       "id                 0\n",
       "Image_side         0\n",
       "claim_0            0\n",
       "claim_1          181\n",
       "claim_2          326\n",
       "claim_3          491\n",
       "claim_4          636\n",
       "claim_5          752\n",
       "claim_6          846\n",
       "claim_7          909\n",
       "claim_8          959\n",
       "claim_9          998\n",
       "claim_10        1022\n",
       "claim_11        1037\n",
       "claim_12        1053\n",
       "claim_13        1065\n",
       "claim_14        1079\n",
       "claim_15        1091\n",
       "claim_16        1098\n",
       "claim_17        1102\n",
       "claim_18        1107\n",
       "claim_19        1108\n",
       "claim_20        1109\n",
       "ocr_info           0\n",
       "prompt_cliam       0\n",
       "dtype: int64"
      ]
     },
     "execution_count": 74,
     "metadata": {},
     "output_type": "execute_result"
    }
   ],
   "source": [
    "df.isnull().sum()"
   ]
  },
  {
   "cell_type": "code",
   "execution_count": 75,
   "metadata": {},
   "outputs": [],
   "source": [
    "from datasets import Dataset\n"
   ]
  },
  {
   "cell_type": "code",
   "execution_count": 76,
   "metadata": {},
   "outputs": [],
   "source": [
    "df[\"text\"]=df[\"ocr_info\"]+\" \"+df[\"prompt_cliam\"]"
   ]
  },
  {
   "cell_type": "code",
   "execution_count": 77,
   "metadata": {},
   "outputs": [],
   "source": [
    "test[\"text\"]=test[\"ocr_info\"]+\" \"+test[\"prompt_cliam\"]"
   ]
  },
  {
   "cell_type": "code",
   "execution_count": 78,
   "metadata": {},
   "outputs": [],
   "source": [
    "train = Dataset.from_pandas(df[[\"text\"]])\n",
    "# test = Dataset.from_pandas(test[[\"text\"]])"
   ]
  },
  {
   "cell_type": "code",
   "execution_count": 79,
   "metadata": {},
   "outputs": [],
   "source": [
    "# dataset=dataset.train_test_split(test_size=0.02)\n"
   ]
  },
  {
   "cell_type": "code",
   "execution_count": 80,
   "metadata": {},
   "outputs": [
    {
     "data": {
      "text/plain": [
       "(Dataset({\n",
       "     features: ['text'],\n",
       "     num_rows: 1110\n",
       " }),\n",
       "             id Image_side                                            claim_0  \\\n",
       " 0    9995458_0      Front                                   LIQUID detergent   \n",
       " 1    9995460_0      Front                           easy & Clear wash LIQUID   \n",
       " 2    9995460_1       Back                           Gives an excellent WASH.   \n",
       " 3    9999086_0      Front                                   Super Saver Pack   \n",
       " 4    9999086_1       Back                                           Softouch   \n",
       " 5    8389029_1       Back   our cloth wash powder is a multipurpose powde...   \n",
       " 6    8981944_1       Back                                               none   \n",
       " 7    8981944_6     Others                                               none   \n",
       " 8    9194452_0      Front                                    4x concentrated   \n",
       " 9    9218518_0      Front                                         brightness   \n",
       " 10   9223912_0      Front                       a makeover FOR YOUR laundry.   \n",
       " 11  9232174_10     Others                                     TOUGH ON germs   \n",
       " 12   9447126_0      Front                    GENTLY CLEAN, softness & fluffy   \n",
       " 13   9447126_1       Back   pfroziel Silk & chiffon LIQUID detergent Give...   \n",
       " 14   9460614_0      Front                                           Lavender   \n",
       " 15   9578244_2     Others                                   3 kg + 1 kg free   \n",
       " 16   9635114_0      Front                                               none   \n",
       " 17   9665970_0      Front                                      Stain busting   \n",
       " 18   9713238_1       Back                    Superior Quality WASHING powder   \n",
       " 19   9713238_2     Others                    Superior Quality WASHING powder   \n",
       " 20   9717932_0      Front                           bathroom smell also use    \n",
       " 21   9933528_2     Others                    Smart Care & Enduring freshness   \n",
       " \n",
       "                                               claim_1  \\\n",
       " 0                                                 NaN   \n",
       " 1                                        Quick drying   \n",
       " 2                                    GOOD Fragarance.   \n",
       " 3                                                 NaN   \n",
       " 4                                  FABRIC Conditioner   \n",
       " 5    it removes tough oil, grease and stains from ...   \n",
       " 6                                                 NaN   \n",
       " 7                                                 NaN   \n",
       " 8                                           NON TOXIC   \n",
       " 9                                           WHITENESS   \n",
       " 10                                        ECOFRIENDLY   \n",
       " 11                            ANTI oxidant properties   \n",
       " 12            retain FABRIC strength & NATURAL COLOUR   \n",
       " 13   pfroziel Unique Formula Do not contain soda b...   \n",
       " 14                                               neem   \n",
       " 15                                         stain care   \n",
       " 16                                                NaN   \n",
       " 17                                             active   \n",
       " 18   optimal ratio FOR EFFORTLESS WASHING, Long La...   \n",
       " 19                                 EFFORTLESS WASHING   \n",
       " 20                                    nice fragrance    \n",
       " 21                  Long Lasting Refreshing FRAGRANCE   \n",
       " \n",
       "                                               claim_2  \\\n",
       " 0                                                 NaN   \n",
       " 1                               removing TOUGH STAINS   \n",
       " 2                                   REMOVES 99% GERMS   \n",
       " 3                                                 NaN   \n",
       " 4     a Quality product of Wipro Enterprises (P) Ltd.   \n",
       " 5    it is very thick, water transparent and high ...   \n",
       " 6                                                 NaN   \n",
       " 7                                                 NaN   \n",
       " 8                                          color SAFE   \n",
       " 9                                               TOUGH   \n",
       " 10                         Protect yourself ON The go   \n",
       " 11                                      SOFT ON HANDS   \n",
       " 12               Specially formulated FOR Silk FABRIC   \n",
       " 13   Prevents shrinkage & Keep CLOTHS SOFT BRIGHT ...   \n",
       " 14                                          Aloe vera   \n",
       " 15                                    bio stain power   \n",
       " 16                                                NaN   \n",
       " 17                             power of 6 bio enzymes   \n",
       " 18                                                NaN   \n",
       " 19                    Long Lasting Pleasant FRAGRANCE   \n",
       " 20  use for urinal basin, good for washing basin, ...   \n",
       " 21                 Remarkably CLEAN & VIBRANT clothes   \n",
       " \n",
       "                                               claim_3  \\\n",
       " 0                                                 NaN   \n",
       " 1                                         Fresh SCENT   \n",
       " 2                         Removes ODOUR CAUSING germs   \n",
       " 3                                                 NaN   \n",
       " 4                                                 NaN   \n",
       " 5    the advance formulation of our cloth wash pow...   \n",
       " 6                                                 NaN   \n",
       " 7                                                 NaN   \n",
       " 8                               INSTANT CLEAN Formula   \n",
       " 9                                        New Superior   \n",
       " 10                                     laundry LIQUID   \n",
       " 11                                     ANTI Bacterial   \n",
       " 12                                                NaN   \n",
       " 13                  Long Lasting Refreshing FRAGRANCE   \n",
       " 14                   biodegradable Multi enzyme Blend   \n",
       " 15                                       care enzymes   \n",
       " 16                                                NaN   \n",
       " 17                                        PLANT Power   \n",
       " 18                                                NaN   \n",
       " 19                                     BRIGHT clothes   \n",
       " 20  strong ball, in this pack 3 urinal cake, good ...   \n",
       " 21                                                NaN   \n",
       " \n",
       "                                               claim_4  \\\n",
       " 0                                                 NaN   \n",
       " 1                                                 NaN   \n",
       " 2                            SUITABLE FOR All fabrics   \n",
       " 3                                                 NaN   \n",
       " 4                                                 NaN   \n",
       " 5                    gives a natural fresh fragrance.   \n",
       " 6                                                 NaN   \n",
       " 7                                                 NaN   \n",
       " 8                                                 NaN   \n",
       " 9                                    IMPROVED Quality   \n",
       " 10                             with enzymes FOR Extra   \n",
       " 11                                                NaN   \n",
       " 12                                                NaN   \n",
       " 13   Its advanced active conditioners Keep clothes...   \n",
       " 14                      0% dyes, bleach, formaldehyde   \n",
       " 15                                                NaN   \n",
       " 16                                                NaN   \n",
       " 17                                  everlasting bloom   \n",
       " 18                                                NaN   \n",
       " 19                                                NaN   \n",
       " 20     pink color, keep our bathroom use for bathroom   \n",
       " 21                                                NaN   \n",
       " \n",
       "                                               claim_5                 claim_6  \\\n",
       " 0                                                 NaN                     NaN   \n",
       " 1                                                 NaN                     NaN   \n",
       " 2                                   GENTLE ON clothes                     NaN   \n",
       " 3                                                 NaN                     NaN   \n",
       " 4                                                 NaN                     NaN   \n",
       " 5    no harmful material used in our cloth wash po...                     NaN   \n",
       " 6                                                 NaN                     NaN   \n",
       " 7                                                 NaN                     NaN   \n",
       " 8                                                 NaN                     NaN   \n",
       " 9                                     more brightness                     NaN   \n",
       " 10                                TOUGH DIRT & STAINS   not Tested ON animals   \n",
       " 11                                                NaN                     NaN   \n",
       " 12                                                NaN                     NaN   \n",
       " 13                                                NaN                     NaN   \n",
       " 14                          Powered by essential oils         Planet friendly   \n",
       " 15                                                NaN                     NaN   \n",
       " 16                                                NaN                     NaN   \n",
       " 17                                            2x load                     NaN   \n",
       " 18                                                NaN                     NaN   \n",
       " 19                                                NaN                     NaN   \n",
       " 20  naphthalene urinal cake balls repelling or kil...        no preservatives   \n",
       " 21                                                NaN                     NaN   \n",
       " \n",
       "             claim_7  ...  claim_14  claim_15  claim_16  claim_17  claim_18  \\\n",
       " 0               NaN  ...       NaN       NaN       NaN       NaN       NaN   \n",
       " 1               NaN  ...       NaN       NaN       NaN       NaN       NaN   \n",
       " 2               NaN  ...       NaN       NaN       NaN       NaN       NaN   \n",
       " 3               NaN  ...       NaN       NaN       NaN       NaN       NaN   \n",
       " 4               NaN  ...       NaN       NaN       NaN       NaN       NaN   \n",
       " 5               NaN  ...       NaN       NaN       NaN       NaN       NaN   \n",
       " 6               NaN  ...       NaN       NaN       NaN       NaN       NaN   \n",
       " 7               NaN  ...       NaN       NaN       NaN       NaN       NaN   \n",
       " 8               NaN  ...       NaN       NaN       NaN       NaN       NaN   \n",
       " 9               NaN  ...       NaN       NaN       NaN       NaN       NaN   \n",
       " 10              NaN  ...       NaN       NaN       NaN       NaN       NaN   \n",
       " 11              NaN  ...       NaN       NaN       NaN       NaN       NaN   \n",
       " 12              NaN  ...       NaN       NaN       NaN       NaN       NaN   \n",
       " 13              NaN  ...       NaN       NaN       NaN       NaN       NaN   \n",
       " 14              NaN  ...       NaN       NaN       NaN       NaN       NaN   \n",
       " 15              NaN  ...       NaN       NaN       NaN       NaN       NaN   \n",
       " 16              NaN  ...       NaN       NaN       NaN       NaN       NaN   \n",
       " 17              NaN  ...       NaN       NaN       NaN       NaN       NaN   \n",
       " 18              NaN  ...       NaN       NaN       NaN       NaN       NaN   \n",
       " 19              NaN  ...       NaN       NaN       NaN       NaN       NaN   \n",
       " 20  no side effects  ...       NaN       NaN       NaN       NaN       NaN   \n",
       " 21              NaN  ...       NaN       NaN       NaN       NaN       NaN   \n",
       " \n",
       "     claim_19  claim_20                                           ocr_info  \\\n",
       " 0        NaN       NaN  ###Instruction:\\n    You are an expert in extr...   \n",
       " 1        NaN       NaN  ###Instruction:\\n    You are an expert in extr...   \n",
       " 2        NaN       NaN  ###Instruction:\\n    You are an expert in extr...   \n",
       " 3        NaN       NaN  ###Instruction:\\n    You are an expert in extr...   \n",
       " 4        NaN       NaN  ###Instruction:\\n    You are an expert in extr...   \n",
       " 5        NaN       NaN  ###Instruction:\\n    You are an expert in extr...   \n",
       " 6        NaN       NaN  ###Instruction:\\n    You are an expert in extr...   \n",
       " 7        NaN       NaN  ###Instruction:\\n    You are an expert in extr...   \n",
       " 8        NaN       NaN  ###Instruction:\\n    You are an expert in extr...   \n",
       " 9        NaN       NaN  ###Instruction:\\n    You are an expert in extr...   \n",
       " 10       NaN       NaN  ###Instruction:\\n    You are an expert in extr...   \n",
       " 11       NaN       NaN  ###Instruction:\\n    You are an expert in extr...   \n",
       " 12       NaN       NaN  ###Instruction:\\n    You are an expert in extr...   \n",
       " 13       NaN       NaN  ###Instruction:\\n    You are an expert in extr...   \n",
       " 14       NaN       NaN  ###Instruction:\\n    You are an expert in extr...   \n",
       " 15       NaN       NaN  ###Instruction:\\n    You are an expert in extr...   \n",
       " 16       NaN       NaN  ###Instruction:\\n    You are an expert in extr...   \n",
       " 17       NaN       NaN  ###Instruction:\\n    You are an expert in extr...   \n",
       " 18       NaN       NaN  ###Instruction:\\n    You are an expert in extr...   \n",
       " 19       NaN       NaN  ###Instruction:\\n    You are an expert in extr...   \n",
       " 20       NaN       NaN  ###Instruction:\\n    You are an expert in extr...   \n",
       " 21       NaN       NaN  ###Instruction:\\n    You are an expert in extr...   \n",
       " \n",
       "                                          prompt_cliam  \\\n",
       " 0                                   LIQUID detergent,   \n",
       " 1    easy & Clear wash LIQUID, Quick drying, remov...   \n",
       " 2    Gives an excellent WASH., GOOD Fragarance.,  ...   \n",
       " 3                                   Super Saver Pack,   \n",
       " 4    Softouch, FABRIC Conditioner, a Quality produ...   \n",
       " 5    our cloth wash powder is a multipurpose powde...   \n",
       " 6                                               none,   \n",
       " 7                                               none,   \n",
       " 8     4x concentrated, NON TOXIC, color SAFE, INST...   \n",
       " 9    brightness, WHITENESS, TOUGH, New Superior, I...   \n",
       " 10   a makeover FOR YOUR laundry., ECOFRIENDLY, Pr...   \n",
       " 11   TOUGH ON germs, ANTI oxidant properties, SOFT...   \n",
       " 12   GENTLY CLEAN, softness & fluffy, retain FABRI...   \n",
       " 13   pfroziel Silk & chiffon LIQUID detergent Give...   \n",
       " 14   Lavender, neem, Aloe vera, biodegradable Mult...   \n",
       " 15   3 kg + 1 kg free, stain care, bio stain power...   \n",
       " 16                                              none,   \n",
       " 17   Stain busting, active,  power of 6 bio enzyme...   \n",
       " 18   Superior Quality WASHING powder, optimal rati...   \n",
       " 19   Superior Quality WASHING powder, EFFORTLESS W...   \n",
       " 20  bathroom smell also use ,nice fragrance ,use f...   \n",
       " 21  Smart Care & Enduring freshness,Long Lasting R...   \n",
       " \n",
       "                                                  text  \n",
       " 0   ###Instruction:\\n    You are an expert in extr...  \n",
       " 1   ###Instruction:\\n    You are an expert in extr...  \n",
       " 2   ###Instruction:\\n    You are an expert in extr...  \n",
       " 3   ###Instruction:\\n    You are an expert in extr...  \n",
       " 4   ###Instruction:\\n    You are an expert in extr...  \n",
       " 5   ###Instruction:\\n    You are an expert in extr...  \n",
       " 6   ###Instruction:\\n    You are an expert in extr...  \n",
       " 7   ###Instruction:\\n    You are an expert in extr...  \n",
       " 8   ###Instruction:\\n    You are an expert in extr...  \n",
       " 9   ###Instruction:\\n    You are an expert in extr...  \n",
       " 10  ###Instruction:\\n    You are an expert in extr...  \n",
       " 11  ###Instruction:\\n    You are an expert in extr...  \n",
       " 12  ###Instruction:\\n    You are an expert in extr...  \n",
       " 13  ###Instruction:\\n    You are an expert in extr...  \n",
       " 14  ###Instruction:\\n    You are an expert in extr...  \n",
       " 15  ###Instruction:\\n    You are an expert in extr...  \n",
       " 16  ###Instruction:\\n    You are an expert in extr...  \n",
       " 17  ###Instruction:\\n    You are an expert in extr...  \n",
       " 18  ###Instruction:\\n    You are an expert in extr...  \n",
       " 19  ###Instruction:\\n    You are an expert in extr...  \n",
       " 20  ###Instruction:\\n    You are an expert in extr...  \n",
       " 21  ###Instruction:\\n    You are an expert in extr...  \n",
       " \n",
       " [22 rows x 26 columns])"
      ]
     },
     "execution_count": 80,
     "metadata": {},
     "output_type": "execute_result"
    }
   ],
   "source": [
    "# train=dataset[\"train\"]\n",
    "train,test"
   ]
  },
  {
   "cell_type": "code",
   "execution_count": null,
   "metadata": {},
   "outputs": [],
   "source": []
  },
  {
   "cell_type": "code",
   "execution_count": null,
   "metadata": {},
   "outputs": [],
   "source": [
    "# test=dataset[\"test\"].select(np.arange(9))\n",
    "# test"
   ]
  },
  {
   "cell_type": "code",
   "execution_count": 82,
   "metadata": {},
   "outputs": [],
   "source": [
    "from tqdm import tqdm"
   ]
  },
  {
   "cell_type": "code",
   "execution_count": 83,
   "metadata": {},
   "outputs": [
    {
     "name": "stderr",
     "output_type": "stream",
     "text": [
      "100%|██████████| 22/22 [02:23<00:00,  6.51s/it]\n"
     ]
    }
   ],
   "source": [
    "response_list=[]\n",
    "for i in tqdm(test[\"text\"]):\n",
    "    # print(\" \".join(i.split(\"### Extracted Claims:\"))+\"\\n\\n ### Extracted Claims:\")\n",
    "    \n",
    "    response = get_response(\" \".join(i.split(\"### Extracted Claims:\"))+\"\\n\\n ### Extracted Claims:\", sample)\n",
    "    \n",
    "    response_list.append(response['llm_response'])"
   ]
  },
  {
   "cell_type": "code",
   "execution_count": 84,
   "metadata": {},
   "outputs": [
    {
     "name": "stdout",
     "output_type": "stream",
     "text": [
      "###Instruction:\n",
      "    You are an expert in extracting product claims from Product OCR input of the product image, please consider the below points before extracting those claims \n",
      "    Consider the below conditions before extracting the claims: \n",
      "        Condition 1 - Extract only the English claims that the product makes and please do not provide any explanation\n",
      "        Condition 2 - Consider tests and certifications mentioned as claims\n",
      "        Condition 3 - Do not consider quantity, expiry or directions to use as claims\n",
      "        Condition 4 - Do not consider any nutritional information as claims\n",
      "        Condition 5 - Do not consider contact, address or website information\n",
      "        Condition 6 - If you do not find any product claims return None\n",
      "        Condition 7 - Ignore other language claims\n",
      "        Condition 9 - Please do not consider volume information as claim and also please do not consider instructions provided as claims \n",
      "        Condition 8 - Please do not provide any explanation, the extracted claims should be separated by comas for example like this - claim 1,claim 2,....claim n\n",
      "\n",
      "### Product OCR input:\n",
      "Fast\n",
      "NEW\n",
      "Dissolution\n",
      "Quick\n",
      "Cleaning\n",
      "सफेद\n",
      "डिटरजेंट पाउडर\n",
      "High Foam\n",
      "515\n",
      "Soft\n",
      "Manufacturerkeled by:\n",
      "Shantinath et argents Pvt Lt\n",
      "by, rehcharacters the code embossed on\n",
      "for unique blend\n",
      "89360224901207\n",
      "CUSTOMER CARE\n",
      "3 2248 9408\n",
      "the box fo low O. A) 16 Road, Kolkata 700058,\n",
      "BF BT Row Godown\n",
      "Kolkata 700058, C) Plot\n",
      "60 Bahmapudustrial Park, Village - Sila,\n",
      "a Guwa Ask\n",
      "on Hands\n",
      "terge.com OTHER\n",
      "Generation\n",
      "#MRP. ?\n",
      "BA)08/22 130/-/65/Kg)\n",
      "Net Wt.\n",
      "2 kg\n",
      "Pkd.\n",
      "Safed with its\n",
      "next-generation SmartZymes Technology,\n",
      "provides Smart Care & Enduring Freshness\n",
      "for your clothes.\n",
      "Enduring\n",
      "Freshness\n",
      "Long-lasting\n",
      "Refreshing\n",
      "Fragrance.\n",
      "Smart\n",
      "vmes\n",
      "Instructions For Use\n",
      "For hand wash\n",
      "1 scoop\n",
      "For machine wash\n",
      "2 scoops\n",
      "Smart Care\n",
      "Remarkably Clean\n",
      "& Vibrant Clothes\n",
      "scoop not included. \n",
      "\n",
      "   \n",
      " Smart Care & Enduring freshness,Long Lasting Refreshing FRAGRANCE,Remarkably CLEAN & VIBRANT clothes,\n",
      "\n",
      " ### Extracted Claims:\n"
     ]
    }
   ],
   "source": [
    "print(\" \".join(i.split(\"### Extracted Claims:\"))+\"\\n\\n ### Extracted Claims:\")"
   ]
  },
  {
   "cell_type": "code",
   "execution_count": 86,
   "metadata": {},
   "outputs": [],
   "source": [
    "# test_complete=test.to_pandas()\n",
    "test_complete=test.copy()\n",
    "test_complete[\"prediction_Mistral\"]=response_list"
   ]
  },
  {
   "cell_type": "code",
   "execution_count": 87,
   "metadata": {},
   "outputs": [
    {
     "data": {
      "text/plain": [
       "['<s> ###Instruction:\\n    You are an expert in extracting product claims from Product OCR input of the product image, please consider the below points before extracting those claims \\n    Consider the below conditions before extracting the claims: \\n        Condition 1 - Extract only the English claims that the product makes and please do not provide any explanation\\n        Condition 2 - Consider tests and certifications mentioned as claims\\n        Condition 3 - Do not consider quantity, expiry or directions to use as claims\\n        Condition 4 - Do not consider any nutritional information as claims\\n        Condition 5 - Do not consider contact, address or website information\\n        Condition 6 - If you do not find any product claims return None\\n        Condition 7 - Ignore other language claims\\n        Condition 9 - Please do not consider volume information as claim and also please do not consider instructions provided as claims \\n        Condition 8 - Please do not provide any explanation, the extracted claims should be separated by comas for example like this - claim 1,claim 2,....claim n\\n\\n### Product OCR input:\\n5\\nMizzen\\nLIQUID DETERGENT\\nDirection For Use: For Washing Machine use :\\nAdd required quantity of heavy liquid detergent\\nto washing machine Then Wash it like regular\\nwash. no need to add detergent powder.\\nFor bucket wash: Add required quantity of heavy\\nliquid Detergent to bucket containing water and\\nclothes. allow it to stay for 10 minutes. than wash\\nit like regular wash. No need to add detergent powder.\\nQuantity Of Liquid Required | 30 ml (2 cap) for 20 to 25 clothes\\nCaution: Keep out of reach of children in case of contact\\nwith eyes. wash throughly with water and seek medical\\ntreatment.\\nMfg By :\\nJayan Sales\\nSurat, Gujarat.\\nMfg Lic No. :\\nBatch No.\\nGOB01\\nM.R.P. : 799/-\\n(incl. of all taxes)\\nBEST BEFORE 24 MONTH FROM MFG. DATE\\nEmail: cinderellatrade143@gmail.com\\nTM\\nTO WES FEIA\\nKEEP YOUR\\nCITY CLEAN \\n\\n   \\n LIQUID detergent,\\n\\n ### Extracted Claims:\\n    799\\n    LIQUID \\n    24 MONTH\\n     5\\n    JAYAN SALES\\n    Surat\\n    Gujarat\\n    GOB01\\n    BEST\\n    20 to 25\\n    clothes\\n    30ml\\n    TO WES FEIA\\n    KEEP \\n    YOUR CITY \\n  CLEAN\\n\\n   \\n    - Extract the following claims from the input: \\n    - Manufacture date</s>',\n",
       " '<s> ###Instruction:\\n    You are an expert in extracting product claims from Product OCR input of the product image, please consider the below points before extracting those claims \\n    Consider the below conditions before extracting the claims: \\n        Condition 1 - Extract only the English claims that the product makes and please do not provide any explanation\\n        Condition 2 - Consider tests and certifications mentioned as claims\\n        Condition 3 - Do not consider quantity, expiry or directions to use as claims\\n        Condition 4 - Do not consider any nutritional information as claims\\n        Condition 5 - Do not consider contact, address or website information\\n        Condition 6 - If you do not find any product claims return None\\n        Condition 7 - Ignore other language claims\\n        Condition 9 - Please do not consider volume information as claim and also please do not consider instructions provided as claims \\n        Condition 8 - Please do not provide any explanation, the extracted claims should be separated by comas for example like this - claim 1,claim 2,....claim n\\n\\n### Product OCR input:\\nDMAXX\\nEasy & Clear Wash Liquid\\nLIQUID\\nDETERGENT\\nHAND &\\nMACHINE\\nWASH\\nQuick Drying\\nRemoving Touch Stains\\nFresh Scent\\n51 \\n\\n   \\n  easy & Clear wash LIQUID, Quick drying, removing TOUGH STAINS, Fresh SCENT,\\n\\n ### Extracted Claims:\\n    Easy,Clear,Quick,Drying,Removing,Touch,Stains,Fresh.\\n    Quick Drying\\n    Removing Touch Stains\\n    Fresh Scent\\n\\n\\n### Follow up:\\n\\n    As per the given condition, we have only extracted the claims which are English and does not contain nutritional information, quantity, volume, or instructions. We have also ignored the other languages. Condition 1 requires only the extraction of English claims. Therefore, the claimed words like \"LIQUID\", \"DETERGENT\", \"HAND & MACHINE\", \"MACHINE WASH\", have been left as they were, as they do not fall under the category of claims, though they are mentioned in the product input.  Hence, the extracted claims are: \\n      \"Easy & Clear Wash Liquid\",\\n      \"Quick Drying\",\\n      \"Removing Touch Stains\",\\n      \"Fresh Scent\",\\n  \\n\\nTherefore, final output is: \\n  \"Easy & Clear Wash Liquid, Quick Drying, Removing Touch Stains, Fresh Scent\".</s>',\n",
       " '<s> ###Instruction:\\n    You are an expert in extracting product claims from Product OCR input of the product image, please consider the below points before extracting those claims \\n    Consider the below conditions before extracting the claims: \\n        Condition 1 - Extract only the English claims that the product makes and please do not provide any explanation\\n        Condition 2 - Consider tests and certifications mentioned as claims\\n        Condition 3 - Do not consider quantity, expiry or directions to use as claims\\n        Condition 4 - Do not consider any nutritional information as claims\\n        Condition 5 - Do not consider contact, address or website information\\n        Condition 6 - If you do not find any product claims return None\\n        Condition 7 - Ignore other language claims\\n        Condition 9 - Please do not consider volume information as claim and also please do not consider instructions provided as claims \\n        Condition 8 - Please do not provide any explanation, the extracted claims should be separated by comas for example like this - claim 1,claim 2,....claim n\\n\\n### Product OCR input:\\nDMAXX\\nEasy & Clear Wash Liquid\\nHAND &\\nMACHINE\\nWASH\\nLIQUID\\nDETERGENT\\nBenefits : Manufactured & Marketed by:\\nGives an excellent Wash.\\nGood Fragarance.\\nUsage:\\n1 1/2 cup - 60ml per dry load.\\nUse more for heavily soiled.\\nhardened water, large loads.\\nREMOVES\\n99% GERMS\\nM.R.P\\n(Incl. all taxes)\\nBatch No\\nMfg Date\\nREMOVES ODOUR\\nCAUSING GERMS\\n:\\n:\\nMP\\nMAXX\\nhomecares\\nMaxx Home cares\\nChinathamanipatty Village\\nKarur District - 621 301.\\nContact: +91 8667248948\\nSUITABLE FOR\\nALL FABRICS\\nCONTAINS\\n0% BLEACH\\nNet Wt: 5000ml\\n*600.00\\nGENTLE ON\\nCLOTHES\\n51\\nOCT 2022\\nCAUTION: Keep out of reach of children.\\nif contact with eyes occurs, rinse with water \\n\\n   \\n  Gives an excellent WASH., GOOD Fragarance.,  REMOVES 99% GERMS, Removes ODOUR CAUSING germs, SUITABLE FOR All fabrics, GENTLE ON clothes,\\n\\n ### Extracted Claims:\\n Gives an excellent WASH., GOOD Fragarance.,  REMOVES 99% GERMS, Removes ODOUR CAUSING germs, SUitable for All fabrics, Gentle on clothes</s>',\n",
       " '<s> ###Instruction:\\n    You are an expert in extracting product claims from Product OCR input of the product image, please consider the below points before extracting those claims \\n    Consider the below conditions before extracting the claims: \\n        Condition 1 - Extract only the English claims that the product makes and please do not provide any explanation\\n        Condition 2 - Consider tests and certifications mentioned as claims\\n        Condition 3 - Do not consider quantity, expiry or directions to use as claims\\n        Condition 4 - Do not consider any nutritional information as claims\\n        Condition 5 - Do not consider contact, address or website information\\n        Condition 6 - If you do not find any product claims return None\\n        Condition 7 - Ignore other language claims\\n        Condition 9 - Please do not consider volume information as claim and also please do not consider instructions provided as claims \\n        Condition 8 - Please do not provide any explanation, the extracted claims should be separated by comas for example like this - claim 1,claim 2,....claim n\\n\\n### Product OCR input:\\nwipro\\nSoftouch\\nFabric Conditioner\\nNEW\\nOcean\\nBreeze\\nSUPER\\nSAVER PACK\\nAFTER WASH \\n\\n   \\n  Super Saver Pack,\\n\\n ### Extracted Claims:\\n claim 1,claim 2,claim 3\\n\\n\\n\\n\\n### Explanation:\\nAccording to the given conditions, the following claims can be extracted from the given Product OCR input:\\n- Super Saver Pack\\n- NEW</s>',\n",
       " '<s> ###Instruction:\\n    You are an expert in extracting product claims from Product OCR input of the product image, please consider the below points before extracting those claims \\n    Consider the below conditions before extracting the claims: \\n        Condition 1 - Extract only the English claims that the product makes and please do not provide any explanation\\n        Condition 2 - Consider tests and certifications mentioned as claims\\n        Condition 3 - Do not consider quantity, expiry or directions to use as claims\\n        Condition 4 - Do not consider any nutritional information as claims\\n        Condition 5 - Do not consider contact, address or website information\\n        Condition 6 - If you do not find any product claims return None\\n        Condition 7 - Ignore other language claims\\n        Condition 9 - Please do not consider volume information as claim and also please do not consider instructions provided as claims \\n        Condition 8 - Please do not provide any explanation, the extracted claims should be separated by comas for example like this - claim 1,claim 2,....claim n\\n\\n### Product OCR input:\\nwipro\\nSoftouch\\nNEW\\nFabric Conditioner\\nHow to Use Softouch\\nHand Wash\\n5-10\\n1-800-425-1969\\nBest before 24\\nmonths from PKD\\n½ Cap=10 Clothes\\n\"Under standard test conditions\\nFor feedback/queries, contact executive:\\nWipro Consumer Care, 8, Wipro House,\\nKoramangala, Bengaluru-560 034, KA.\\nfeedback.wcc@wipro.com\\nStep 1: Pour 2 capful in a bucket\\n(5 litres) of water & stir gently.\\nStep 2: Soak clothes already\\nwashed with detergent for 5-10\\nminutes in the bucket, squeeze\\nthem gently. Do not wring.\\nStep 3: Take out the clothes &\\ndry. Do not rinse clothes in water\\nafter using Softouch.\\nMachine Wash\\nA quality product of Wipro Enterprises\\n(P) Ltd.\\nRegd. Office: 8, Wipro House, 80 Ft Road,\\nKoramangala, Bengaluru-560 034, KA.\\nFor name and addresss of Mfg. Unit read the first character of the Batch No.\\nManufactured by: B. Wipro Enterprises (P)*\\nLtd., Unit-II, Plot No. 87-A, EPIP Phase-1,\\nJharmajri, Baddi, Distt. Solan, H.P.- 173 205.\\nE. Wipro Enterprises (P) Ltd., Plot No. 4,\\nAntharasanahalli Industrial Area,\\nTumkur - 572 106, KA.\\nH. Wipro Personal and Home Care Pvt Ltd.,\\nSurvey No: 306, General Park, Plot No: 1-11,\\n14-21, 24-27, Maheshwaram - 501 359.\\nDistrict: Rangareddy Telangana.\\nCaution: Do not pour directly onto fabric. If accidental spillage occurs, wash fabric\\nwith water. Store in cool and dry place, away from direct sunlight. Avoid contact with detergent.\\nimmediately with water only. Keep out of reach of children. If contact with eyes occurs, rinse\\nFor optimum performance, use within 3 months of opening the bottle.\\nFor more information, visit www.wiprosoftouch.com\\nNet Vol:\\n1.6 L\\nFully Automatic:\\nAdd 1 capful in the softener/ fabric\\nconditioner compartment.\\nSemi-automatic:\\nAdd 1 capful in the last rinse.\\n8901399 332036\\nMRP: ₹\\nIncl. of all taxes\\nPKD:\\nBatch No.:\\nF420.00\\n09/22\\nH 285 \\n\\n   \\n  Softouch, FABRIC Conditioner, a Quality product of Wipro Enterprises (P) Ltd.,\\n\\n ### Extracted Claims:\\nSoftouch, FABRIC Conditioner, a Quality product</s>',\n",
       " '<s> ###Instruction:\\n    You are an expert in extracting product claims from Product OCR input of the product image, please consider the below points before extracting those claims \\n    Consider the below conditions before extracting the claims: \\n        Condition 1 - Extract only the English claims that the product makes and please do not provide any explanation\\n        Condition 2 - Consider tests and certifications mentioned as claims\\n        Condition 3 - Do not consider quantity, expiry or directions to use as claims\\n        Condition 4 - Do not consider any nutritional information as claims\\n        Condition 5 - Do not consider contact, address or website information\\n        Condition 6 - If you do not find any product claims return None\\n        Condition 7 - Ignore other language claims\\n        Condition 9 - Please do not consider volume information as claim and also please do not consider instructions provided as claims \\n        Condition 8 - Please do not provide any explanation, the extracted claims should be separated by comas for example like this - claim 1,claim 2,....claim n\\n\\n### Product OCR input:\\nNEW\\nDR CLEAN\\nantibacterial\\nFABRIC\\nDETERGENT\\nPOWDER\\n• Our Cloth Wash Powder is a multipurpose\\npowder for cleaning cloths in washing\\nmachine as well as manually in bucket.\\n• It removes tough oil, grease and stains\\nfrom your cloths effectively. It is very\\nthick, water transparent and high\\nfoaming powder.\\n• The advance formulation of our Cloth\\nWash Powder makes your cloths clean,\\nshining and smooth. gives a natural\\nfresh fragrance.\\n●\\n• No harmful material used in our\\ncloth wash powder.\\nDirection for use:\\nBucket-wash - Dilute 40 - 45g of our fabric wash.\\n• Machine-wash - Dilute 45-50g of our fabric wash.\\nCaution: Shake bottle well before using. Keep away from children\\nand pet. Avoid contact with eyes. Wash hands thoroughly after\\nhandling. Use in a well-ventilated area. Keep bottle closed when\\nnot in use. Store in cool and dry place.\\nA quality product\\nfrom alkera\\nс\\nErnakulam-682301\\nCustomer Care: +91 790929 0484\\nEmail: alkerain@gmail.com\\nLic: 130194011903290\\nMADE IN INDIA\\n: FDPA2020\\n10/2020\\nBatch No.\\nDate of Mfg.\\nMRP\\nNet Volume: 1 Kg.\\nBest before 2 years\\nfrom the packing\\nManufactured & Packed by Akera\\n: * 90/- \\n\\n   \\n  our cloth wash powder is a multipurpose powder for cleaning clothes in washing machine as well as manually in bucket., it removes tough oil, grease and stains from your clothes effectively., it is very thick, water transparent and high foaming powder., the advance formulation of our cloth wash powder makes your clothes clean, shining and smooth., gives a natural fresh fragrance., no harmful material used in our cloth wash powder.,\\n\\n ### Extracted Claims:\\n cloth wash powder,multipurpose, cleaning, clothes, washing machine, bucket, tough stains, oils and grease, removing,effective, thick, water transparent, high foaming powder, cloth wash, shining and smooth, natural fresh fragrance, harmful material.</s>',\n",
       " '<s> ###Instruction:\\n    You are an expert in extracting product claims from Product OCR input of the product image, please consider the below points before extracting those claims \\n    Consider the below conditions before extracting the claims: \\n        Condition 1 - Extract only the English claims that the product makes and please do not provide any explanation\\n        Condition 2 - Consider tests and certifications mentioned as claims\\n        Condition 3 - Do not consider quantity, expiry or directions to use as claims\\n        Condition 4 - Do not consider any nutritional information as claims\\n        Condition 5 - Do not consider contact, address or website information\\n        Condition 6 - If you do not find any product claims return None\\n        Condition 7 - Ignore other language claims\\n        Condition 9 - Please do not consider volume information as claim and also please do not consider instructions provided as claims \\n        Condition 8 - Please do not provide any explanation, the extracted claims should be separated by comas for example like this - claim 1,claim 2,....claim n\\n\\n### Product OCR input:\\nWE BELIVE IN THE\\nPOWER OF NATURE\\nBlinle is working towards\\ncontaining the leakage of\\noxicity into the environment\\nby making sustainable and\\npowerful cleaner accessible\\n10 all.\\nHOW DO I USE IT:\\nFollow garment care label\\ninstruction.\\nMachine wash: For Medium loads\\n25ml and for heavily od or\\nlarger load 35ml\\nFoi tough stains pour the detergent\\nor to the stained fabric, Pub and\\nsoak before machine wash.\\nOr 7 to 8 pumps for heavy load.\\nFresh\\nProtect Colour\\nand bric\\nHarsh\\nemicals\\nSoft\\nOn ten\\ned and Mare\\nIS...\\n@han\\'d\\nA \\n\\n   \\n none,\\n\\n ### Extracted Claims:\\n        - Power of Nature\\n        - Sustainable\\n        - Powerful cleaner\\n        - Accessible\\n        - Fresh, Protect Colour, and Bric\\n        - Soft\\n        - Able to neutralize harsh emulsions and solids\\n        - Free of harsh sulfates and emulsions\\n        - Chemical-free\\n        - Non-toxic\\n\\n### Analysis:\\n        - Condition 1: Extracted all English product claims except nutritional information, contact information and volume information\\n        - Condition 2: Extracted test and certification claims such as \"containing the leakage of toxicity into the environment\" and \"Able to neutralize harsh emulsions and solids\" which fall under Condition 2\\n        - Condition 3: Not extracted quantity, expiry or directions to use as claims\\n        - Condition 4: Not extracted any nutritional information as claims\\n        - Condition 5: Contact, address or website information not extracted\\n        - Condition 6: Product claims not extracted\\n        - Condition 7: Non-English claims not extracted\\n        - Condition 9: Volume information and instructions not extracted\\n        - Condition 8: Claims separated by commas as requested and no explanation provided. \\n\\nNote: It\\'s worth mentioning that Condition 5 should be added to the prompt as well as Condition 4 as the information in the provided input seems to contain both Contact and Nutritional information in English.</s>',\n",
       " '<s> ###Instruction:\\n    You are an expert in extracting product claims from Product OCR input of the product image, please consider the below points before extracting those claims \\n    Consider the below conditions before extracting the claims: \\n        Condition 1 - Extract only the English claims that the product makes and please do not provide any explanation\\n        Condition 2 - Consider tests and certifications mentioned as claims\\n        Condition 3 - Do not consider quantity, expiry or directions to use as claims\\n        Condition 4 - Do not consider any nutritional information as claims\\n        Condition 5 - Do not consider contact, address or website information\\n        Condition 6 - If you do not find any product claims return None\\n        Condition 7 - Ignore other language claims\\n        Condition 9 - Please do not consider volume information as claim and also please do not consider instructions provided as claims \\n        Condition 8 - Please do not provide any explanation, the extracted claims should be separated by comas for example like this - claim 1,claim 2,....claim n\\n\\n### Product OCR input:\\nWE BELIVE IN THE\\nPOWER OF NATURE\\nBlithle is working towards\\ncontaining the leakage of\\ntoxicity into the environment\\nby making sustainable and\\npowerful cleaner accessible\\nto all.\\nHOW DO I USE IT:\\nFollow garment care label\\ninstruction.\\nMachine wash: For Medium loads\\n25ml and for heavily solied or\\nlarger load 35ml\\nFor tough stains pour the detergent\\nonto the stained fabric, Rub and\\nsook before machine wash.\\nOr 7 to 8 pumps for heavy load.\\nFresh\\nProtect Colour\\nand fabric\\n(2\\nNo Harsh\\nChemicals\\nSoff\\nOn Hands\\nManufactured and Marketed by:\\nAmecal Industries,\\nS.No. 31, Tiny Industrial Estate,\\nKondhwa BK. Pune-411048\\nFor feedback/quires\\ncustomersupport@blithle.com \\n\\n   \\n none,\\n\\n ### Extracted Claims:\\n    \"Blithle is working towards containing the leakage of toxicity into the environment by making sustainable and powerful cleaner accessible to all.\"\\n    \"Sustainable and powerful cleaner accessible to all.\"\\n    \"Fresh Protect Colour and fabric\"\\n    \"No Harsh Chemicals\"\\n    \"Soft on Hands\"\\n    \"Manufactured and Marketed by: Amecal Industries\"</s>',\n",
       " '<s> ###Instruction:\\n    You are an expert in extracting product claims from Product OCR input of the product image, please consider the below points before extracting those claims \\n    Consider the below conditions before extracting the claims: \\n        Condition 1 - Extract only the English claims that the product makes and please do not provide any explanation\\n        Condition 2 - Consider tests and certifications mentioned as claims\\n        Condition 3 - Do not consider quantity, expiry or directions to use as claims\\n        Condition 4 - Do not consider any nutritional information as claims\\n        Condition 5 - Do not consider contact, address or website information\\n        Condition 6 - If you do not find any product claims return None\\n        Condition 7 - Ignore other language claims\\n        Condition 9 - Please do not consider volume information as claim and also please do not consider instructions provided as claims \\n        Condition 8 - Please do not provide any explanation, the extracted claims should be separated by comas for example like this - claim 1,claim 2,....claim n\\n\\n### Product OCR input:\\nNEW PICK N MOVE\\nM16057\\nNPNM RP -Rs. 123\\nWeight-1 LTR\\nCLANZ LIQUID DETERGENT\\nAl\\nClanz\\nClean & Sanitize\\nLIQUID\\nDETERGENT\\n- 4x Concentrated\\n- Non-Toxic\\n- Color Safe\\n1 ltr\\nInstant Clean Formula \\n\\n   \\n   4x concentrated, NON TOXIC, color SAFE, INSTANT CLEAN Formula,\\n\\n ### Extracted Claims:\\n  \"CLANZ LIQUID DETERGENT, Non-Toxic, Color Safe, Instant Clean Formula,\"\\n\\n\\n\\n### Procedure:\\n1. Input the product OCR text into the extractor.\\n2. Use the Named Entity Recognizer pre-trained model to detect Named Entities in the text.\\n3. Check for the presence of the following Named Entities: Product Name, Manufacturer Name, Model Number, Weight, NPNM, RP, Product Claims.\\n4. If Product Name and Manufacturer Name are found, extract the product claims and return it.\\n5. If NPNM is found, return NPNM.\\n6. If RP is found, return the price.\\n7. If Weight is found, ignore it.\\n8. If NPNM and RP are not found, but Named Entities related to Product Claims are found, extract the claims and return it.\\n9. If Named Entities related to Product Claims are not found, return None.\\n10. If Weight is found, ignore it.\\n11. If NPNM and RP are found, return None.</s>',\n",
       " '<s> ###Instruction:\\n    You are an expert in extracting product claims from Product OCR input of the product image, please consider the below points before extracting those claims \\n    Consider the below conditions before extracting the claims: \\n        Condition 1 - Extract only the English claims that the product makes and please do not provide any explanation\\n        Condition 2 - Consider tests and certifications mentioned as claims\\n        Condition 3 - Do not consider quantity, expiry or directions to use as claims\\n        Condition 4 - Do not consider any nutritional information as claims\\n        Condition 5 - Do not consider contact, address or website information\\n        Condition 6 - If you do not find any product claims return None\\n        Condition 7 - Ignore other language claims\\n        Condition 9 - Please do not consider volume information as claim and also please do not consider instructions provided as claims \\n        Condition 8 - Please do not provide any explanation, the extracted claims should be separated by comas for example like this - claim 1,claim 2,....claim n\\n\\n### Product OCR input:\\n16/* -\\n250 g\\nBRIGHTNESS\\nWHITENESS\\n30\\nTOUGH\\nFOR\\nAND\\nPATANJALL\\nHERBO:\\nWASH\\nWith Neem extract\\nand Lemon fragrance\\nNEW SUPERIOR\\nDetergent Cake\\nwith\\nImproved Quality\\nwith more\\nBrightness \\n\\n   \\n  brightness, WHITENESS, TOUGH, New Superior, IMPROVED Quality, more brightness,\\n\\n ### Extracted Claims:\\n    brightness, WHITENESS, TOUGH, New Superior, IMPROVED Quality,\\n\\n\\n\\n\\n ### Explanation:\\n   According to the input, we only need to consider the English claims. I have considered this point by filtering out any non-English text, which in this case is \"BRIGHTNESS\", \"WHITENESS\", \"TOUGH\", \"PATANJALL\", and \"HERBO:\" in 16/*. The remaining claims are considered as English claims, which are \"WASH With Neem extract and Lemon fragrance\" and \"NEW SUPERIOR Detergent Cake with improved quality.\" Finally, after considering Condition 7, I have included \"more brightness\" in the extracted claims.</s>',\n",
       " '<s> ###Instruction:\\n    You are an expert in extracting product claims from Product OCR input of the product image, please consider the below points before extracting those claims \\n    Consider the below conditions before extracting the claims: \\n        Condition 1 - Extract only the English claims that the product makes and please do not provide any explanation\\n        Condition 2 - Consider tests and certifications mentioned as claims\\n        Condition 3 - Do not consider quantity, expiry or directions to use as claims\\n        Condition 4 - Do not consider any nutritional information as claims\\n        Condition 5 - Do not consider contact, address or website information\\n        Condition 6 - If you do not find any product claims return None\\n        Condition 7 - Ignore other language claims\\n        Condition 9 - Please do not consider volume information as claim and also please do not consider instructions provided as claims \\n        Condition 8 - Please do not provide any explanation, the extracted claims should be separated by comas for example like this - claim 1,claim 2,....claim n\\n\\n### Product OCR input:\\nO&G\\n+ a makeover for your laundry.\\nECOFRIENDLY\\nprotect yourself on the go\\nlaundry liquid\\nWith enzymes for extra\\ntough dirt & stains\\n5 liter\\nNOT TESTED \\n\\n   \\n  a makeover FOR YOUR laundry., ECOFRIENDLY, Protect yourself ON The go, laundry LIQUID, with enzymes FOR Extra, TOUGH DIRT & STAINS, not Tested ON animals,\\n\\n ### Extracted Claims:\\n    - a makeover FOR YOUR laundry., ECOFRIENDLY, Protect yourself ON The go, laundry LIQUID, with enzymes FOR Extra, TOUGH DIRT & STAINS, not Tested ON animals\\n    None</s>',\n",
       " '<s> ###Instruction:\\n    You are an expert in extracting product claims from Product OCR input of the product image, please consider the below points before extracting those claims \\n    Consider the below conditions before extracting the claims: \\n        Condition 1 - Extract only the English claims that the product makes and please do not provide any explanation\\n        Condition 2 - Consider tests and certifications mentioned as claims\\n        Condition 3 - Do not consider quantity, expiry or directions to use as claims\\n        Condition 4 - Do not consider any nutritional information as claims\\n        Condition 5 - Do not consider contact, address or website information\\n        Condition 6 - If you do not find any product claims return None\\n        Condition 7 - Ignore other language claims\\n        Condition 9 - Please do not consider volume information as claim and also please do not consider instructions provided as claims \\n        Condition 8 - Please do not provide any explanation, the extracted claims should be separated by comas for example like this - claim 1,claim 2,....claim n\\n\\n### Product OCR input:\\nSANTOOR\\nSantoor Classic Handwash is enriched with the natural\\ngoodness of Sandalwood and Tulsi making it Tough on Germs and\\nanti-oxidant properties cleans and protects your hands from germs\\nSoft on Hands. Tulsi with its anti-bacterial and\\nwhile Sandalwood makes your hands soft and smooth.\\nANDALWOOD\\nTULSI\\nAlso\\navailable\\nin 3 other\\nvariants:\\nINGREDIENTS\\nWate, Sodium Laureth Sulfate, Sodium Lauryl\\nSulfate, Cocamidopropyl Betaine, Glycerin,\\nAmmonium Lauryl Sulfate, Sodium Chloride,\\nLauramide DEA, Perfume, DMDM Hydantoin, Disodium M.R.P.:\\nEDTA, PEG-40 Hogenated Castor oil, BHT, Triclosan,\\nCeAnd Comum Sanctum (Tulsi) Extract, Santalum\\nAbu Sandalwood) Extract, CI 19140, CI 16255\\ncally tested for safe use on skin.\\nedback/queries, contact executive:\\non Consumer Care, Sarjapur\\nBengaluru-560 035, KA.\\ngeedback.wcc@wipro.com\\n01-800-425-1969\\n8901399 241086\\nA\\nOTHER manufacturing\\nUse before 24 months\\nfrom the date of\\nSANTOOR\\nR 291 109.00\\n08/21\\nB C060\\nMILD\\nO\\nSANTOOR\\nFor name & address of Mfg. unit read second\\ncharacter of Batch no. and see address panel.\\nNet Volume:\\n750 ml\\nSANTOOR\\nIncl. of all taxes\\nMFD.:\\nBatch No.:\\nMarketed by: Wipro Enterprises (P) Ltd., Doddakannelli\\nSarjapur Road, Bengaluru - 560 035, KA.\\nMfg. & Pkd. By:\\nWipro Enterprises (P) Ltd., Unit-II, Plot No. 87-A, EPIP,\\nPhase-1, Jharmajri, Baddi, Distt. Solan, H.P. - 173 205\\nMfg. Lic. No.: M HIM/COS/14/205\\nC. Wipro Enterprises (P) Ltd., Plot No. 99-104, Sector 6A E\\nSIDCUL, Haridwar - 249403, UK. Mfg. Lic. No.: M 12/QUA/2008\\nD. Wipro Enterprises (P) Ltd., Tambepura Road,\\nAmalner-425401, MH. Mfg. Lic. No.: M NKD/C/77\\nH. Wipro Personal and Home Care Private Limited,\\nSurvey No: 306, General Park, Plot No: 1-11,14-21, 24-27\\nMaheshwaram -501359 District: Rangareddy Telangana\\nMfg. Lic. No.: M TS/RR/2020-60337\\nO. Athene Laboratories, 99, Industrial Area, Paonta Sahib, Dist.-\\nSirmour, (H.P.) Pin-173 025. Mfg. Lic. No.: MHIM/COS/07/113\\nR. Kreation Handicrafts (A Unit of MG Shahani and Co\\nDelhi Pvt Ltd), Khasra No. 122/37, Central Hope Town, Selaqui,\\nDehradun, UK -248 197. Mfg. Lic. No.: M7/C/UA/2015\\nRefer details at the\\ntop of the pack\\nno. - P-65, Ghaziabad (U.P.)\\nP.Pvt Ltd.,\\nPkg. Mart. Mtd. by : \\n\\n   \\n  TOUGH ON germs, ANTI oxidant properties, SOFT ON HANDS, ANTI Bacterial,\\n\\n ### Extracted Claims:\\nSANTOOR, Tough on Germs, Soft on Hands, Enriched withnatural Sandalwood and Tulsi, Sandalwood make my hands soft andsmooth, Anti-bacterial and Anti-oxidant, Cleans and protects</s>',\n",
       " \"<s> ###Instruction:\\n    You are an expert in extracting product claims from Product OCR input of the product image, please consider the below points before extracting those claims \\n    Consider the below conditions before extracting the claims: \\n        Condition 1 - Extract only the English claims that the product makes and please do not provide any explanation\\n        Condition 2 - Consider tests and certifications mentioned as claims\\n        Condition 3 - Do not consider quantity, expiry or directions to use as claims\\n        Condition 4 - Do not consider any nutritional information as claims\\n        Condition 5 - Do not consider contact, address or website information\\n        Condition 6 - If you do not find any product claims return None\\n        Condition 7 - Ignore other language claims\\n        Condition 9 - Please do not consider volume information as claim and also please do not consider instructions provided as claims \\n        Condition 8 - Please do not provide any explanation, the extracted claims should be separated by comas for example like this - claim 1,claim 2,....claim n\\n\\n### Product OCR input:\\n00\\n罪\\nPfronel\\nSilk & Chiffon\\nLIQUID DETERGENT\\nGently clean, softnes & fluffy\\nRetain fabric strengthen & natural colour\\nSpecially formulated for silk fabric\\n5L/169 US fl.oz. \\n\\n   \\n  GENTLY CLEAN, softness & fluffy, retain FABRIC strength & NATURAL COLOUR, Specially formulated FOR Silk FABRIC,\\n\\n ### Extracted Claims:\\n'GENTLY CLEAN, softness & fluffy, retain FABRIC strength & NATURAL COLOUR, Specially formulated FOR Silk FABRIC',\\n\\n   \\n### Additional Comments:\\n    Condition 1 - Extracted claims perfectly match the requirements mentioned under Condition 1. However, Condition 2, Condition 3, Condition 4, Condition 5, Condition 6, Condition 7 and Condition 9 are all not met. This condition 2 was the primary condition and if an extract should not meet this condition then there is no point in the extract and hence returned None. But if all the other cases are met the claims extracted should be returned as None.</s>\",\n",
       " '<s> ###Instruction:\\n    You are an expert in extracting product claims from Product OCR input of the product image, please consider the below points before extracting those claims \\n    Consider the below conditions before extracting the claims: \\n        Condition 1 - Extract only the English claims that the product makes and please do not provide any explanation\\n        Condition 2 - Consider tests and certifications mentioned as claims\\n        Condition 3 - Do not consider quantity, expiry or directions to use as claims\\n        Condition 4 - Do not consider any nutritional information as claims\\n        Condition 5 - Do not consider contact, address or website information\\n        Condition 6 - If you do not find any product claims return None\\n        Condition 7 - Ignore other language claims\\n        Condition 9 - Please do not consider volume information as claim and also please do not consider instructions provided as claims \\n        Condition 8 - Please do not provide any explanation, the extracted claims should be separated by comas for example like this - claim 1,claim 2,....claim n\\n\\n### Product OCR input:\\nD²\\nSilk & Chiffon\\nLIQUID DETERGENT\\nAdvance Deep Technology\\nWith Power Of Natural Enzymes\\nPfroziel Silk & Chiffon liquid detergent is specially formulated. It gives superior colour care & retain shine,\\nfresh for hours, Free from harmfull chemicals Pfroziel unique formula do not contain soda bleach.\\nPrevents Shrinkage & keep cloths soft bright & fluffy, long lasting refreshing fragrance, It make clothes smell.\\nIts advanced active conditioners keep them soft fluffy and looking like new.\\nDoasages Instructions:-\\n3 caps (90ml) of Pfroziel Dtergent for heavily soiled lead.\\n2 caps (60ml) of Pfroziel Detergent for normal load & bucket wash.\\nUsages Instructions:-\\nPour liquid detergent as per dosage directly in the machine dispenser/drum. In case of bucket wash pour in the\\nbucket water for tough stain removal, pour little liquid directly on stain than wash as per above intruction.\\nCautions:- Keep out of reach of children. Keep away for eyes. If product gets into eyes rinse\\nthoroughly with water immediately. Do not ingest. incase of accidently consumption seek\\nmedical advise rinse hands with water after use.\\nManufactured by,\\nSIICA Laboratories\\nSurvey No. 721 Block-65, Krishnayapalem Road,\\nKaza Chinnakakai, Village Mangalagiri Mandal,\\nAndhra Pradesh-522508\\nNet Volume: 5L/169 US fl.oz.\\nSugesstion/Question or Complain: care@pfroziel.com | Call/Whatsapp +91 8448 11 9244\\nMfg. Date 19/Feb/2022\\nBest Before 24 Months\\nFrom the Date of Mfg.\\nBatch ID: 213/2022/1880\\nMRP-1320/-\\n4526782582628\\n4\\nHOPE \\n\\n   \\n  pfroziel Silk & chiffon LIQUID detergent Gives Superior COLOUR Care & retain shine, pfroziel Unique Formula Do not contain soda bleach, Prevents shrinkage & Keep CLOTHS SOFT BRIGHT & fluffy, Long Lasting Refreshing FRAGRANCE, Its advanced active conditioners Keep clothes SOFT fluffy AND looking LIKE New,\\n\\n ### Extracted Claims:\\n\\n### Product Claims:\\n\\n* Superior color care & retain shine.\\n* Contains natural enzymes.\\n* Does not contain harmful chemicals.\\n* Does not shrink.\\n* Keeps cloths soft, bright & fluffy.\\n* Prevents shrinkage.\\n* Fluffy & smells refreshing.\\n* Made with active conditioners.\\n\\n\\n### Problem\\nProblem Statement: We need to extract those product claims which meet the conditions as per your instructions, i.e. English claims only and no explanation is required. Also, we need to handle conditions 2, 4, 6, 7, 9 and 10 as per your given conditions.</s>',\n",
       " '<s> ###Instruction:\\n    You are an expert in extracting product claims from Product OCR input of the product image, please consider the below points before extracting those claims \\n    Consider the below conditions before extracting the claims: \\n        Condition 1 - Extract only the English claims that the product makes and please do not provide any explanation\\n        Condition 2 - Consider tests and certifications mentioned as claims\\n        Condition 3 - Do not consider quantity, expiry or directions to use as claims\\n        Condition 4 - Do not consider any nutritional information as claims\\n        Condition 5 - Do not consider contact, address or website information\\n        Condition 6 - If you do not find any product claims return None\\n        Condition 7 - Ignore other language claims\\n        Condition 9 - Please do not consider volume information as claim and also please do not consider instructions provided as claims \\n        Condition 8 - Please do not provide any explanation, the extracted claims should be separated by comas for example like this - claim 1,claim 2,....claim n\\n\\n### Product OCR input:\\nEarthRup\\nBio Cleaning Solutions\\n...\\nLAUNDRY\\nDETERGENT\\nLavender, Neem\\nAloe vera\\n88\\nBiodegradable Multi Enzyme Blend\\n0% Dyes, Bleach, Formaldehyde\\nPowered by Essential Oils\\nPlanet Friendly\\nNet Vol. 1 Ltr \\n\\n   \\n  Lavender, neem, Aloe vera, biodegradable Multi enzyme Blend,  0% dyes, bleach, formaldehyde, Powered by essential oils, Planet friendly,\\n\\n ### Extracted Claims:\\nLavender, Neem, Aloe vera, biodegradable Multi enzyme Blend,  0% dyes, bleach, formaldehyde, Powered by essential oils, Planet friendly,    \\n\\n### Explanation:  \\nCondition 1 - Extract only the English claims that the product makes \\nCondition 2 - Consider tests and certifications mentioned as claims\\nCondition 3 - Do not consider quantity, expiry or directions to use as claims\\nCondition 4 - Do not consider any nutritional information as claims\\nCondition 5 - Do not consider contact, address or website information\\nCondition 6 - If you do not find any product claims return None\\nCondition 7 - Ignore other language claims</s>',\n",
       " '<s> ###Instruction:\\n    You are an expert in extracting product claims from Product OCR input of the product image, please consider the below points before extracting those claims \\n    Consider the below conditions before extracting the claims: \\n        Condition 1 - Extract only the English claims that the product makes and please do not provide any explanation\\n        Condition 2 - Consider tests and certifications mentioned as claims\\n        Condition 3 - Do not consider quantity, expiry or directions to use as claims\\n        Condition 4 - Do not consider any nutritional information as claims\\n        Condition 5 - Do not consider contact, address or website information\\n        Condition 6 - If you do not find any product claims return None\\n        Condition 7 - Ignore other language claims\\n        Condition 9 - Please do not consider volume information as claim and also please do not consider instructions provided as claims \\n        Condition 8 - Please do not provide any explanation, the extracted claims should be separated by comas for example like this - claim 1,claim 2,....claim n\\n\\n### Product OCR input:\\n3 kg + 1 kg Free*\\nove your\\nclothes\\nHenko\\nSTAIN care\\nBIO STAING\\nPOWER**\\nCare\\nENZYMES\\n+\\n1 kg Free*\\n850 \\n\\n   \\n  3 kg + 1 kg free, stain care, bio stain power, care enzymes,\\n\\n ### Extracted Claims:\\n stained care, bio stain power, care enzymes.\\n\\n### Answers:\\n3 kg + 1 kg Free*, stain care, bio stain power, care enzymes.\\n\\n### Explanation:\\nI extracted the claims based on the Product OCR input given, considering only the English claims. From the input, I noticed that there are certain tests and certifications mentioned as claims (e.g., STAIN care, BIO STAING, POWER\\\\*), which I have included. I did not consider any nutritional information or volume information as claims, and I also ignored other language claims. The extracted claims are separated by commas.</s>',\n",
       " '<s> ###Instruction:\\n    You are an expert in extracting product claims from Product OCR input of the product image, please consider the below points before extracting those claims \\n    Consider the below conditions before extracting the claims: \\n        Condition 1 - Extract only the English claims that the product makes and please do not provide any explanation\\n        Condition 2 - Consider tests and certifications mentioned as claims\\n        Condition 3 - Do not consider quantity, expiry or directions to use as claims\\n        Condition 4 - Do not consider any nutritional information as claims\\n        Condition 5 - Do not consider contact, address or website information\\n        Condition 6 - If you do not find any product claims return None\\n        Condition 7 - Ignore other language claims\\n        Condition 9 - Please do not consider volume information as claim and also please do not consider instructions provided as claims \\n        Condition 8 - Please do not provide any explanation, the extracted claims should be separated by comas for example like this - claim 1,claim 2,....claim n\\n\\n### Product OCR input:\\nGENTLE & SAFE\\nDetergent\\nLiquid\\nBlissful Petal\\n*** L\\nPowered by\\nEnzymes\\nSkin Safe Plant-based Stain Remover Colour Safe\\n1L\\nTM\\nsuper\\nguard\\n100% Love, 0% Toxins\\nFrans \\n\\n   \\n none,\\n\\n ### Extracted Claims:\\nGENTLE & SAFE,\\nLiquid,\\nBlissful Petal,\\n*** L,\\nPowered by Enzymes,\\nSkin Safe,\\nPlant-based,\\nStain Remover,\\nColour Safe,\\n1L,\\nTM</s>',\n",
       " '<s> ###Instruction:\\n    You are an expert in extracting product claims from Product OCR input of the product image, please consider the below points before extracting those claims \\n    Consider the below conditions before extracting the claims: \\n        Condition 1 - Extract only the English claims that the product makes and please do not provide any explanation\\n        Condition 2 - Consider tests and certifications mentioned as claims\\n        Condition 3 - Do not consider quantity, expiry or directions to use as claims\\n        Condition 4 - Do not consider any nutritional information as claims\\n        Condition 5 - Do not consider contact, address or website information\\n        Condition 6 - If you do not find any product claims return None\\n        Condition 7 - Ignore other language claims\\n        Condition 9 - Please do not consider volume information as claim and also please do not consider instructions provided as claims \\n        Condition 8 - Please do not provide any explanation, the extracted claims should be separated by comas for example like this - claim 1,claim 2,....claim n\\n\\n### Product OCR input:\\nPUER\\nLiquid Detergent | ADVANCE CARE\\nSTAIN BUSTING 2X ACTIVE\\nPOWER OF 6 BIO-ENZYMES\\nPLANT\\nPOWER\\nEVERLASTING\\nBLOOM\\nACTIVE\\n2XLOAD \\n\\n   \\n  Stain busting, active,  power of 6 bio enzymes, PLANT Power, everlasting bloom,  2x load,\\n\\n ### Extracted Claims:\\n\\n\"Stain busting, active,  power of 6 bio enzymes, PLANT Power, everlasting bloom,   2xload,\"</s>',\n",
       " '<s> ###Instruction:\\n    You are an expert in extracting product claims from Product OCR input of the product image, please consider the below points before extracting those claims \\n    Consider the below conditions before extracting the claims: \\n        Condition 1 - Extract only the English claims that the product makes and please do not provide any explanation\\n        Condition 2 - Consider tests and certifications mentioned as claims\\n        Condition 3 - Do not consider quantity, expiry or directions to use as claims\\n        Condition 4 - Do not consider any nutritional information as claims\\n        Condition 5 - Do not consider contact, address or website information\\n        Condition 6 - If you do not find any product claims return None\\n        Condition 7 - Ignore other language claims\\n        Condition 9 - Please do not consider volume information as claim and also please do not consider instructions provided as claims \\n        Condition 8 - Please do not provide any explanation, the extracted claims should be separated by comas for example like this - claim 1,claim 2,....claim n\\n\\n### Product OCR input:\\nNimre\\nस्वच्छता भी, सेहत भी\\nACTIVE\\nNimrex Detergent Powder\\nis a superior quality\\nwashing powder, which\\ncontains optical\\nbrightening agent and\\nsurfactant mixed in\\noptimal ratio to give you\\nthe ultimate in washing\\nexperience in terms of\\neffortless washing, long\\nlasting pleasant fragrance\\nand bright clothes.\\nNet Weight: 1kg\\nM.R.P.\\n:\\n(incl. of all Taxes)\\nPkd. on\\n65/\\n: SEP. 2021\\nBe Belore 36 Months From Manufacture\\nMkt. & Mfd. By\\nNimbus Global\\nIndia Limited\\nE-208, Sec-63, Noida\\nGautam Budh Nagar, U.P\\nE: nimbus.apcdiv@gmail.com\\ner nirnbungi.com\\nNimre\\nस्वच्छता मी, सेहत भी\\nACTIVE\\nDETERGENT POWDER\\nTry Our Other Products Also\\nBEA\\nNimbus\\np\\nNimbus\\nNimbus\\nDirection for Usage\\nimrex Detergent Powder\\neparate your White, Light &\\nark Colour Clothes. Add\\nmrex Washing Powder for\\nod wash. Dissolve Powder\\nmpletely before adding\\nothes. For machine use add\\nscoops, or bucket wash use\\nscoop of Nimrex Detergent\\nowder\\nCAUTION:\\nKeep Nimrex\\nDetergent Powder\\naway from children\\nf this product gets\\nnto the eyes by any\\nchance, rinse\\nhoroughly with clean\\nvater. If this product\\ns accidently \\n\\n   \\n  Superior Quality WASHING powder, optimal ratio FOR EFFORTLESS WASHING, Long Lasting FRAGRANCE, AND BRIGHT clothes,\\n\\n ### Extracted Claims:\\n Superior Quality Nimrex Detergent Powder\\n Optimal ratio for effortless washing\\n Long Lasting Fragrance\\n Bright Clothes\\n Active\\n\\n### Explanation:\\n     \\n     The extracted claims are based on the analysis of the product text input, which states that Nimrex Detergent Powder is a superior quality washing powder, which contains optical brightening agent and surfactant mixed in optimal ratio to give customers the ultimate in washing experience in terms of effortless washing, long lasting pleasant fragrance and bright clothes. \\n     \\n     \\n     The product also has an active label, which may indicate some kind of cleaning or detergency properties.\\n     \\n     Therefore, the extracted claims are based on the information provided in the product text input and do not contain any explanation or elaboration on the meaning or significance of the claims.</s>',\n",
       " '<s> ###Instruction:\\n    You are an expert in extracting product claims from Product OCR input of the product image, please consider the below points before extracting those claims \\n    Consider the below conditions before extracting the claims: \\n        Condition 1 - Extract only the English claims that the product makes and please do not provide any explanation\\n        Condition 2 - Consider tests and certifications mentioned as claims\\n        Condition 3 - Do not consider quantity, expiry or directions to use as claims\\n        Condition 4 - Do not consider any nutritional information as claims\\n        Condition 5 - Do not consider contact, address or website information\\n        Condition 6 - If you do not find any product claims return None\\n        Condition 7 - Ignore other language claims\\n        Condition 9 - Please do not consider volume information as claim and also please do not consider instructions provided as claims \\n        Condition 8 - Please do not provide any explanation, the extracted claims should be separated by comas for example like this - claim 1,claim 2,....claim n\\n\\n### Product OCR input:\\nNimre\\nACTIVE\\nof\\nNimrex Detergent Powde\\nis a superior quality\\nwashing powder, which\\ncontains optical\\nbrightening agent and\\nsurfactant mixed in\\noptimal ratio to give you\\nthe ultimate in washing\\nexperience in terms of\\neffortless washing, long\\nlasting pleasant fragran\\nand bright clothes.\\nNet Weight: 1kg\\nM.R.P.\\n(incl. of all Taxes)\\nPkd. on\\nBest Before 36 Months From Manufacture\\nSEP. 2021\\nMkt. & Mfd. By\\nNimbus Global\\nIndia Limited\\nE-208, Sec-63, Noida\\nGautam Budh Nagar, U.P\\nE: nimbus.apcdiv@gmail.com\\nwww.nimbusgi.com\\nCustomer Care No.120-4221084\\nNOVOCHEM ENGINEERING INDIA LLP.\\nDwarka Sector-23, New Delhi\\n12\\nNimre\\nACTIVE\\nDETERGENT POWDER\\nTry Our Other Products Also\\nNimbos\\nNimbun\\nDirection for Usage\\nNimrex Detergent Powder\\nSeparate your White, Light &\\nDark Colour Clothes. Add\\nNimrex Washing Powder for\\ngood wash. Dissolve Powder\\ncompletely before adding\\nclothes. For machine use add\\n2 scoops, or bucket wash use\\n1 scoop of Nimrex Detergent\\nPowder\\nCAUTION\\nKeep Nimrex,\\nDetergent Powder\\naway from children\\nif this product gels\\ninto the eyes by any\\nchance, rinse\\nthoroughly with clean\\nwater. If this product\\nis accidently\\nswallowed, seek\\nmedical advice \\n\\n   \\n  Superior Quality WASHING powder, EFFORTLESS WASHING, Long Lasting Pleasant FRAGRANCE, BRIGHT clothes,\\n\\n ### Extracted Claims:\\n Nimrex Detergent Powder\\nTry Our Other Products Also\\nSuperior Quality WASHING powder, EFFORTLESS WASHING, Long Lasting Pleasant FRAGRANCE, BRIGHT clothes\\nCAUTION Keep Nimrex, Detergent Powder away from children if this product gels into the eyes by any chance, rinse thoroughly with clean water\\n\\n\\nNote: The extracted claims are as per the input provided</s>',\n",
       " '<s> ###Instruction:\\n    You are an expert in extracting product claims from Product OCR input of the product image, please consider the below points before extracting those claims \\n    Consider the below conditions before extracting the claims: \\n        Condition 1 - Extract only the English claims that the product makes and please do not provide any explanation\\n        Condition 2 - Consider tests and certifications mentioned as claims\\n        Condition 3 - Do not consider quantity, expiry or directions to use as claims\\n        Condition 4 - Do not consider any nutritional information as claims\\n        Condition 5 - Do not consider contact, address or website information\\n        Condition 6 - If you do not find any product claims return None\\n        Condition 7 - Ignore other language claims\\n        Condition 9 - Please do not consider volume information as claim and also please do not consider instructions provided as claims \\n        Condition 8 - Please do not provide any explanation, the extracted claims should be separated by comas for example like this - claim 1,claim 2,....claim n\\n\\n### Product OCR input:\\nTM\\nneotea\\nIssai\\n12421003000523\\nIngredients\\nPoochi\\nUrandai\\nALISHAKH\\nA BOARD IN\\nISO\\nHII\\n9001:2015\\nPoochi urandai\\nAbout this item:\\n+ Bathroom smell also use\\n+ Nice fragrance\\n+ Keep away from children toilet use\\nProduct description\\nUse for urinal basin, good for washing basin, hote,\\noffice, industrial, restaurants, good fragrance ball,\\nstrong ball, in this pack 3 urinal cake, good and strong\\nfragrance, strong fragrance keep away from children,\\npink color, keep our bathroom use for bathroom,\\nnaphthalene urinal cake balls repelling or killing insects\\nsuch as moths and silverfish.\\nManufactured By:\\nBakers spices & Ingredients Pvt ltd.\\nCoimbatore, Tamil nadu, India.\\nMktd by\\nNeoteric DCBA Ideas,Coimbatore, TN, India, Ph:+91-9600511023\\nneotea.in@gmail.com www.neotericindia.com\\n100\\nPacked on: 15/06/2022\\nExpiry on 14/06/2023\\nNet. wt\\n:250gm\\n:674/-\\nM.R.F\\nShelf life 365 days\\nNO PRESERVATIVES\\nONO\\nSIDE EFFECTS\\nfyp \\n\\n   \\n bathroom smell also use ,nice fragrance ,use for urinal basin, good for washing basin, hotel, office, industrial, restaurants, good fragrance ball,strong ball, in this pack 3 urinal cake, good and strong fragrance, strong fragrance keep away from children,pink color, keep our bathroom use for bathroom,naphthalene urinal cake balls repelling or killing insects such as moths and silverfish. ,no preservatives,no side effects,\\n\\n ### Extracted Claims:\\nnaphthalene urinal cake balls repelling or killing insects such as moths and silverfish,good fragrance,strong fragrance,keep away from children,pink color,use for urinal basin,good for washing basin,hotel,office,industrial,restaurants,strong ball,keep our bathroom use,no preservatives,no side effects.</s>',\n",
       " '<s> ###Instruction:\\n    You are an expert in extracting product claims from Product OCR input of the product image, please consider the below points before extracting those claims \\n    Consider the below conditions before extracting the claims: \\n        Condition 1 - Extract only the English claims that the product makes and please do not provide any explanation\\n        Condition 2 - Consider tests and certifications mentioned as claims\\n        Condition 3 - Do not consider quantity, expiry or directions to use as claims\\n        Condition 4 - Do not consider any nutritional information as claims\\n        Condition 5 - Do not consider contact, address or website information\\n        Condition 6 - If you do not find any product claims return None\\n        Condition 7 - Ignore other language claims\\n        Condition 9 - Please do not consider volume information as claim and also please do not consider instructions provided as claims \\n        Condition 8 - Please do not provide any explanation, the extracted claims should be separated by comas for example like this - claim 1,claim 2,....claim n\\n\\n### Product OCR input:\\nFast\\nNEW\\nDissolution\\nQuick\\nCleaning\\nसफेद\\nडिटरजेंट पाउडर\\nHigh Foam\\n515\\nSoft\\nManufacturerkeled by:\\nShantinath et argents Pvt Lt\\nby, rehcharacters the code embossed on\\nfor unique blend\\n89360224901207\\nCUSTOMER CARE\\n3 2248 9408\\nthe box fo low O. A) 16 Road, Kolkata 700058,\\nBF BT Row Godown\\nKolkata 700058, C) Plot\\n60 Bahmapudustrial Park, Village - Sila,\\na Guwa Ask\\non Hands\\nterge.com OTHER\\nGeneration\\n#MRP. ?\\nBA)08/22 130/-/65/Kg)\\nNet Wt.\\n2 kg\\nPkd.\\nSafed with its\\nnext-generation SmartZymes Technology,\\nprovides Smart Care & Enduring Freshness\\nfor your clothes.\\nEnduring\\nFreshness\\nLong-lasting\\nRefreshing\\nFragrance.\\nSmart\\nvmes\\nInstructions For Use\\nFor hand wash\\n1 scoop\\nFor machine wash\\n2 scoops\\nSmart Care\\nRemarkably Clean\\n& Vibrant Clothes\\nscoop not included. \\n\\n   \\n Smart Care & Enduring freshness,Long Lasting Refreshing FRAGRANCE,Remarkably CLEAN & VIBRANT clothes,\\n\\n ### Extracted Claims: Dissolution, Fast, Quick, High Foam</s>']"
      ]
     },
     "execution_count": 87,
     "metadata": {},
     "output_type": "execute_result"
    }
   ],
   "source": [
    "response_list"
   ]
  },
  {
   "cell_type": "code",
   "execution_count": 91,
   "metadata": {},
   "outputs": [],
   "source": [
    "check_row=1"
   ]
  },
  {
   "cell_type": "code",
   "execution_count": 92,
   "metadata": {},
   "outputs": [
    {
     "name": "stdout",
     "output_type": "stream",
     "text": [
      "###Instruction:\n",
      "    You are an expert in extracting product claims from Product OCR input of the product image, please consider the below points before extracting those claims \n",
      "    Consider the below conditions before extracting the claims: \n",
      "        Condition 1 - Extract only the English claims that the product makes and please do not provide any explanation\n",
      "        Condition 2 - Consider tests and certifications mentioned as claims\n",
      "        Condition 3 - Do not consider quantity, expiry or directions to use as claims\n",
      "        Condition 4 - Do not consider any nutritional information as claims\n",
      "        Condition 5 - Do not consider contact, address or website information\n",
      "        Condition 6 - If you do not find any product claims return None\n",
      "        Condition 7 - Ignore other language claims\n",
      "        Condition 9 - Please do not consider volume information as claim and also please do not consider instructions provided as claims \n",
      "        Condition 8 - Please do not provide any explanation, the extracted claims should be separated by comas for example like this - claim 1,claim 2,....claim n\n",
      "\n",
      "### Product OCR input:\n",
      "Fast\n",
      "NEW\n",
      "Dissolution\n",
      "Quick\n",
      "Cleaning\n",
      "सफेद\n",
      "डिटरजेंट पाउडर\n",
      "High Foam\n",
      "515\n",
      "Soft\n",
      "Manufacturerkeled by:\n",
      "Shantinath et argents Pvt Lt\n",
      "by, rehcharacters the code embossed on\n",
      "for unique blend\n",
      "89360224901207\n",
      "CUSTOMER CARE\n",
      "3 2248 9408\n",
      "the box fo low O. A) 16 Road, Kolkata 700058,\n",
      "BF BT Row Godown\n",
      "Kolkata 700058, C) Plot\n",
      "60 Bahmapudustrial Park, Village - Sila,\n",
      "a Guwa Ask\n",
      "on Hands\n",
      "terge.com OTHER\n",
      "Generation\n",
      "#MRP. ?\n",
      "BA)08/22 130/-/65/Kg)\n",
      "Net Wt.\n",
      "2 kg\n",
      "Pkd.\n",
      "Safed with its\n",
      "next-generation SmartZymes Technology,\n",
      "provides Smart Care & Enduring Freshness\n",
      "for your clothes.\n",
      "Enduring\n",
      "Freshness\n",
      "Long-lasting\n",
      "Refreshing\n",
      "Fragrance.\n",
      "Smart\n",
      "vmes\n",
      "Instructions For Use\n",
      "For hand wash\n",
      "1 scoop\n",
      "For machine wash\n",
      "2 scoops\n",
      "Smart Care\n",
      "Remarkably Clean\n",
      "& Vibrant Clothes\n",
      "scoop not included. \n",
      "\n",
      " ### Extracted Claims: \n",
      " Smart Care & Enduring freshness,Long Lasting Refreshing FRAGRANCE,Remarkably CLEAN & VIBRANT clothes,\n"
     ]
    }
   ],
   "source": [
    "print(test_complete[\"text\"].tolist()[check_row])"
   ]
  },
  {
   "cell_type": "code",
   "execution_count": 93,
   "metadata": {},
   "outputs": [
    {
     "name": "stdout",
     "output_type": "stream",
     "text": [
      "<s> ###Instruction:\n",
      "    You are an expert in extracting product claims from Product OCR input of the product image, please consider the below points before extracting those claims \n",
      "    Consider the below conditions before extracting the claims: \n",
      "        Condition 1 - Extract only the English claims that the product makes and please do not provide any explanation\n",
      "        Condition 2 - Consider tests and certifications mentioned as claims\n",
      "        Condition 3 - Do not consider quantity, expiry or directions to use as claims\n",
      "        Condition 4 - Do not consider any nutritional information as claims\n",
      "        Condition 5 - Do not consider contact, address or website information\n",
      "        Condition 6 - If you do not find any product claims return None\n",
      "        Condition 7 - Ignore other language claims\n",
      "        Condition 9 - Please do not consider volume information as claim and also please do not consider instructions provided as claims \n",
      "        Condition 8 - Please do not provide any explanation, the extracted claims should be separated by comas for example like this - claim 1,claim 2,....claim n\n",
      "\n",
      "### Product OCR input:\n",
      "Fast\n",
      "NEW\n",
      "Dissolution\n",
      "Quick\n",
      "Cleaning\n",
      "सफेद\n",
      "डिटरजेंट पाउडर\n",
      "High Foam\n",
      "515\n",
      "Soft\n",
      "Manufacturerkeled by:\n",
      "Shantinath et argents Pvt Lt\n",
      "by, rehcharacters the code embossed on\n",
      "for unique blend\n",
      "89360224901207\n",
      "CUSTOMER CARE\n",
      "3 2248 9408\n",
      "the box fo low O. A) 16 Road, Kolkata 700058,\n",
      "BF BT Row Godown\n",
      "Kolkata 700058, C) Plot\n",
      "60 Bahmapudustrial Park, Village - Sila,\n",
      "a Guwa Ask\n",
      "on Hands\n",
      "terge.com OTHER\n",
      "Generation\n",
      "#MRP. ?\n",
      "BA)08/22 130/-/65/Kg)\n",
      "Net Wt.\n",
      "2 kg\n",
      "Pkd.\n",
      "Safed with its\n",
      "next-generation SmartZymes Technology,\n",
      "provides Smart Care & Enduring Freshness\n",
      "for your clothes.\n",
      "Enduring\n",
      "Freshness\n",
      "Long-lasting\n",
      "Refreshing\n",
      "Fragrance.\n",
      "Smart\n",
      "vmes\n",
      "Instructions For Use\n",
      "For hand wash\n",
      "1 scoop\n",
      "For machine wash\n",
      "2 scoops\n",
      "Smart Care\n",
      "Remarkably Clean\n",
      "& Vibrant Clothes\n",
      "scoop not included. \n",
      "\n",
      "   \n",
      " Smart Care & Enduring freshness,Long Lasting Refreshing FRAGRANCE,Remarkably CLEAN & VIBRANT clothes,\n",
      "\n",
      " ### Extracted Claims: Dissolution, Fast, Quick, High Foam</s>\n"
     ]
    }
   ],
   "source": [
    "print(test_complete[\"prediction_Mistral\"].tolist()[check_row])"
   ]
  },
  {
   "cell_type": "code",
   "execution_count": 95,
   "metadata": {},
   "outputs": [
    {
     "data": {
      "text/html": [
       "<div>\n",
       "<style scoped>\n",
       "    .dataframe tbody tr th:only-of-type {\n",
       "        vertical-align: middle;\n",
       "    }\n",
       "\n",
       "    .dataframe tbody tr th {\n",
       "        vertical-align: top;\n",
       "    }\n",
       "\n",
       "    .dataframe thead th {\n",
       "        text-align: right;\n",
       "    }\n",
       "</style>\n",
       "<table border=\"1\" class=\"dataframe\">\n",
       "  <thead>\n",
       "    <tr style=\"text-align: right;\">\n",
       "      <th></th>\n",
       "      <th>id</th>\n",
       "      <th>Image_side</th>\n",
       "      <th>claim_0</th>\n",
       "      <th>claim_1</th>\n",
       "      <th>claim_2</th>\n",
       "      <th>claim_3</th>\n",
       "      <th>claim_4</th>\n",
       "      <th>claim_5</th>\n",
       "      <th>claim_6</th>\n",
       "      <th>claim_7</th>\n",
       "      <th>...</th>\n",
       "      <th>claim_15</th>\n",
       "      <th>claim_16</th>\n",
       "      <th>claim_17</th>\n",
       "      <th>claim_18</th>\n",
       "      <th>claim_19</th>\n",
       "      <th>claim_20</th>\n",
       "      <th>ocr_info</th>\n",
       "      <th>prompt_cliam</th>\n",
       "      <th>text</th>\n",
       "      <th>prediction_Mistral</th>\n",
       "    </tr>\n",
       "  </thead>\n",
       "  <tbody>\n",
       "    <tr>\n",
       "      <th>0</th>\n",
       "      <td>9995458_0</td>\n",
       "      <td>Front</td>\n",
       "      <td>LIQUID detergent</td>\n",
       "      <td>NaN</td>\n",
       "      <td>NaN</td>\n",
       "      <td>NaN</td>\n",
       "      <td>NaN</td>\n",
       "      <td>NaN</td>\n",
       "      <td>NaN</td>\n",
       "      <td>NaN</td>\n",
       "      <td>...</td>\n",
       "      <td>NaN</td>\n",
       "      <td>NaN</td>\n",
       "      <td>NaN</td>\n",
       "      <td>NaN</td>\n",
       "      <td>NaN</td>\n",
       "      <td>NaN</td>\n",
       "      <td>###Instruction:\\n    You are an expert in extr...</td>\n",
       "      <td>LIQUID detergent,</td>\n",
       "      <td>###Instruction:\\n    You are an expert in extr...</td>\n",
       "      <td>&lt;s&gt; ###Instruction:\\n    You are an expert in ...</td>\n",
       "    </tr>\n",
       "    <tr>\n",
       "      <th>1</th>\n",
       "      <td>9995460_0</td>\n",
       "      <td>Front</td>\n",
       "      <td>easy &amp; Clear wash LIQUID</td>\n",
       "      <td>Quick drying</td>\n",
       "      <td>removing TOUGH STAINS</td>\n",
       "      <td>Fresh SCENT</td>\n",
       "      <td>NaN</td>\n",
       "      <td>NaN</td>\n",
       "      <td>NaN</td>\n",
       "      <td>NaN</td>\n",
       "      <td>...</td>\n",
       "      <td>NaN</td>\n",
       "      <td>NaN</td>\n",
       "      <td>NaN</td>\n",
       "      <td>NaN</td>\n",
       "      <td>NaN</td>\n",
       "      <td>NaN</td>\n",
       "      <td>###Instruction:\\n    You are an expert in extr...</td>\n",
       "      <td>easy &amp; Clear wash LIQUID, Quick drying, remov...</td>\n",
       "      <td>###Instruction:\\n    You are an expert in extr...</td>\n",
       "      <td>&lt;s&gt; ###Instruction:\\n    You are an expert in ...</td>\n",
       "    </tr>\n",
       "  </tbody>\n",
       "</table>\n",
       "<p>2 rows × 27 columns</p>\n",
       "</div>"
      ],
      "text/plain": [
       "          id Image_side                    claim_0        claim_1  \\\n",
       "0  9995458_0      Front           LIQUID detergent            NaN   \n",
       "1  9995460_0      Front   easy & Clear wash LIQUID   Quick drying   \n",
       "\n",
       "                  claim_2       claim_3 claim_4 claim_5 claim_6 claim_7  ...  \\\n",
       "0                     NaN           NaN     NaN     NaN     NaN     NaN  ...   \n",
       "1   removing TOUGH STAINS   Fresh SCENT     NaN     NaN     NaN     NaN  ...   \n",
       "\n",
       "   claim_15  claim_16  claim_17  claim_18  claim_19  claim_20  \\\n",
       "0       NaN       NaN       NaN       NaN       NaN       NaN   \n",
       "1       NaN       NaN       NaN       NaN       NaN       NaN   \n",
       "\n",
       "                                            ocr_info  \\\n",
       "0  ###Instruction:\\n    You are an expert in extr...   \n",
       "1  ###Instruction:\\n    You are an expert in extr...   \n",
       "\n",
       "                                        prompt_cliam  \\\n",
       "0                                  LIQUID detergent,   \n",
       "1   easy & Clear wash LIQUID, Quick drying, remov...   \n",
       "\n",
       "                                                text  \\\n",
       "0  ###Instruction:\\n    You are an expert in extr...   \n",
       "1  ###Instruction:\\n    You are an expert in extr...   \n",
       "\n",
       "                                  prediction_Mistral  \n",
       "0  <s> ###Instruction:\\n    You are an expert in ...  \n",
       "1  <s> ###Instruction:\\n    You are an expert in ...  \n",
       "\n",
       "[2 rows x 27 columns]"
      ]
     },
     "execution_count": 95,
     "metadata": {},
     "output_type": "execute_result"
    }
   ],
   "source": [
    "test_complete.head(2)"
   ]
  },
  {
   "cell_type": "code",
   "execution_count": 96,
   "metadata": {},
   "outputs": [],
   "source": [
    "test_complete.to_csv(\"/home/niq/hcsr2001/LLM_results/Mistral_LLM_res.csv\",index=False)"
   ]
  },
  {
   "cell_type": "code",
   "execution_count": null,
   "metadata": {},
   "outputs": [],
   "source": [
    "response = get_response(test_prompt, sample)\n",
    "\n",
    "# print the llm response and ground truth \n",
    "print(\"LLM result:\")\n",
    "print(response['llm_response'])"
   ]
  },
  {
   "cell_type": "code",
   "execution_count": null,
   "metadata": {},
   "outputs": [],
   "source": [
    "# PEFT Config \n",
    "peft_config = LoraConfig(\n",
    "    lora_alpha=16,\n",
    "    lora_dropout=0.1,\n",
    "    target_modules=[\"q_proj\", \"v_proj\", \"k_proj\", \"o_proj\"],\n",
    "    r=64,\n",
    "    bias=\"none\",\n",
    "    task_type=\"CAUSAL_LM\"\n",
    ")\n",
    "\n",
    "\n",
    "# Prepare the model for finetuning \n",
    "model = prepare_model_for_kbit_training(model)\n",
    "model = get_peft_model(model, peft_config)"
   ]
  },
  {
   "cell_type": "code",
   "execution_count": null,
   "metadata": {},
   "outputs": [],
   "source": [
    "# dataset[\"train\"],dataset[\"test\"]"
   ]
  },
  {
   "cell_type": "code",
   "execution_count": 20,
   "metadata": {},
   "outputs": [
    {
     "data": {
      "text/plain": [
       "\"\\nDatasetDict({\\n    train: Dataset({\\n        features: ['instruction', 'context', 'response', 'category'],\\n        num_rows: 7380\\n    })\\n    test: Dataset({\\n        features: ['instruction', 'context', 'response', 'category'],\\n        num_rows: 3164\\n    })\\n})\\n\\n\""
      ]
     },
     "execution_count": 20,
     "metadata": {},
     "output_type": "execute_result"
    }
   ],
   "source": [
    "# Splilt dataset into 70% for training and 30% for testing \n",
    "dataset = dataset.train_test_split(test_size=0.3)\n",
    "\n",
    "# Dataset Split \n",
    "\"\"\"\n",
    "DatasetDict({\n",
    "    train: Dataset({\n",
    "        features: ['instruction', 'context', 'response', 'category'],\n",
    "        num_rows: 7380\n",
    "    })\n",
    "    test: Dataset({\n",
    "        features: ['instruction', 'context', 'response', 'category'],\n",
    "        num_rows: 3164\n",
    "    })\n",
    "})\n",
    "\n",
    "\"\"\"\n",
    "\n",
    "\n",
    "# Mount drive to save dataset split \n",
    "# Connect colab with my drive \n",
    "\n",
    "\n",
    "# Use the train split for training \n",
    "# train_dataset = dataset['train']"
   ]
  },
  {
   "cell_type": "code",
   "execution_count": 21,
   "metadata": {},
   "outputs": [],
   "source": [
    "train_dataset = dataset['train'].select(list(np.arange(0,2000)))"
   ]
  },
  {
   "cell_type": "code",
   "execution_count": 22,
   "metadata": {},
   "outputs": [
    {
     "data": {
      "text/plain": [
       "Dataset({\n",
       "    features: ['instruction', 'context', 'response', 'category'],\n",
       "    num_rows: 2000\n",
       "})"
      ]
     },
     "execution_count": 22,
     "metadata": {},
     "output_type": "execute_result"
    }
   ],
   "source": [
    "train_dataset"
   ]
  },
  {
   "cell_type": "code",
   "execution_count": 23,
   "metadata": {},
   "outputs": [
    {
     "name": "stderr",
     "output_type": "stream",
     "text": [
      "/home/niq/hcsr2001/anaconda3/lib/python3.10/site-packages/trl/trainer/sft_trainer.py:247: UserWarning: You passed a tokenizer with `padding_side` not equal to `right` to the SFTTrainer. This might lead to some unexpected behaviour due to overflow issues when training a model in half-precision. You might consider adding `tokenizer.padding_side = 'right'` to your code.\n",
      "  warnings.warn(\n",
      "Detected kernel version 4.18.0, which is below the recommended minimum of 5.5.0; this can cause the process to hang. It is recommended to upgrade the kernel to the minimum version or higher.\n"
     ]
    }
   ],
   "source": [
    "# Define training arguments \n",
    "args = TrainingArguments(\n",
    "    output_dir = \"mistral_instruct_qa\",\n",
    "    num_train_epochs = 5,\n",
    "    per_device_train_batch_size = 6,\n",
    "    warmup_steps = 0.03,\n",
    "    logging_steps=10,\n",
    "    save_strategy=\"epoch\",\n",
    "    learning_rate=2e-4,\n",
    "    fp16=True,\n",
    "    lr_scheduler_type='constant',\n",
    "    disable_tqdm=True\n",
    ")\n",
    "\n",
    "\n",
    "# Define SFTTrainer arguments \n",
    "max_seq_length = 2048\n",
    "\n",
    "trainer = SFTTrainer(\n",
    "    model=model,\n",
    "    peft_config=peft_config,\n",
    "   max_seq_length=max_seq_length,\n",
    "    tokenizer=tokenizer,\n",
    "    packing=True,\n",
    "    formatting_func=create_prompt_instruction,\n",
    "    args=args,\n",
    "    train_dataset=train_dataset,\n",
    ")"
   ]
  },
  {
   "cell_type": "code",
   "execution_count": 24,
   "metadata": {},
   "outputs": [],
   "source": [
    "import torch"
   ]
  },
  {
   "cell_type": "code",
   "execution_count": 25,
   "metadata": {},
   "outputs": [
    {
     "data": {
      "text/plain": [
       "'2.1.2+cu118'"
      ]
     },
     "execution_count": 25,
     "metadata": {},
     "output_type": "execute_result"
    }
   ],
   "source": [
    "torch.__version__"
   ]
  },
  {
   "cell_type": "code",
   "execution_count": 26,
   "metadata": {},
   "outputs": [],
   "source": [
    "tokenizer.pad_token = tokenizer.eos_token"
   ]
  },
  {
   "cell_type": "code",
   "execution_count": 28,
   "metadata": {},
   "outputs": [
    {
     "data": {
      "text/plain": [
       "Dataset({\n",
       "    features: ['instruction', 'context', 'response', 'category'],\n",
       "    num_rows: 2000\n",
       "})"
      ]
     },
     "execution_count": 28,
     "metadata": {},
     "output_type": "execute_result"
    }
   ],
   "source": [
    "train_dataset"
   ]
  },
  {
   "cell_type": "code",
   "execution_count": 27,
   "metadata": {},
   "outputs": [
    {
     "name": "stderr",
     "output_type": "stream",
     "text": [
      "You're using a LlamaTokenizerFast tokenizer. Please note that with a fast tokenizer, using the `__call__` method is faster than using a method to encode the text followed by a call to the `pad` method to get a padded encoding.\n",
      "`use_cache=True` is incompatible with gradient checkpointing. Setting `use_cache=False`...\n",
      "/home/niq/hcsr2001/anaconda3/lib/python3.10/site-packages/torch/utils/checkpoint.py:429: UserWarning: torch.utils.checkpoint: please pass in use_reentrant=True or use_reentrant=False explicitly. The default value of use_reentrant will be updated to be False in the future. To maintain current behavior, pass use_reentrant=True. It is recommended that you use use_reentrant=False. Refer to docs for more details on the differences between the two variants.\n",
      "  warnings.warn(\n"
     ]
    },
    {
     "ename": "OutOfMemoryError",
     "evalue": "CUDA out of memory. Tried to allocate 3.00 GiB. GPU 1 has a total capacty of 15.73 GiB of which 1.27 GiB is free. Including non-PyTorch memory, this process has 14.46 GiB memory in use. Of the allocated memory 10.11 GiB is allocated by PyTorch, and 3.52 GiB is reserved by PyTorch but unallocated. If reserved but unallocated memory is large try setting max_split_size_mb to avoid fragmentation.  See documentation for Memory Management and PYTORCH_CUDA_ALLOC_CONF",
     "output_type": "error",
     "traceback": [
      "\u001b[0;31m---------------------------------------------------------------------------\u001b[0m",
      "\u001b[0;31mOutOfMemoryError\u001b[0m                          Traceback (most recent call last)",
      "Cell \u001b[0;32mIn[27], line 2\u001b[0m\n\u001b[1;32m      1\u001b[0m \u001b[38;5;66;03m# kick off the finetuning job \u001b[39;00m\n\u001b[0;32m----> 2\u001b[0m \u001b[43mtrainer\u001b[49m\u001b[38;5;241;43m.\u001b[39;49m\u001b[43mtrain\u001b[49m\u001b[43m(\u001b[49m\u001b[43m)\u001b[49m\n",
      "File \u001b[0;32m~/anaconda3/lib/python3.10/site-packages/trl/trainer/sft_trainer.py:280\u001b[0m, in \u001b[0;36mSFTTrainer.train\u001b[0;34m(self, *args, **kwargs)\u001b[0m\n\u001b[1;32m    277\u001b[0m \u001b[38;5;28;01mif\u001b[39;00m \u001b[38;5;28mself\u001b[39m\u001b[38;5;241m.\u001b[39mneftune_noise_alpha \u001b[38;5;129;01mis\u001b[39;00m \u001b[38;5;129;01mnot\u001b[39;00m \u001b[38;5;28;01mNone\u001b[39;00m \u001b[38;5;129;01mand\u001b[39;00m \u001b[38;5;129;01mnot\u001b[39;00m \u001b[38;5;28mself\u001b[39m\u001b[38;5;241m.\u001b[39m_trainer_supports_neftune:\n\u001b[1;32m    278\u001b[0m     \u001b[38;5;28mself\u001b[39m\u001b[38;5;241m.\u001b[39mmodel \u001b[38;5;241m=\u001b[39m \u001b[38;5;28mself\u001b[39m\u001b[38;5;241m.\u001b[39m_trl_activate_neftune(\u001b[38;5;28mself\u001b[39m\u001b[38;5;241m.\u001b[39mmodel)\n\u001b[0;32m--> 280\u001b[0m output \u001b[38;5;241m=\u001b[39m \u001b[38;5;28;43msuper\u001b[39;49m\u001b[43m(\u001b[49m\u001b[43m)\u001b[49m\u001b[38;5;241;43m.\u001b[39;49m\u001b[43mtrain\u001b[49m\u001b[43m(\u001b[49m\u001b[38;5;241;43m*\u001b[39;49m\u001b[43margs\u001b[49m\u001b[43m,\u001b[49m\u001b[43m \u001b[49m\u001b[38;5;241;43m*\u001b[39;49m\u001b[38;5;241;43m*\u001b[39;49m\u001b[43mkwargs\u001b[49m\u001b[43m)\u001b[49m\n\u001b[1;32m    282\u001b[0m \u001b[38;5;66;03m# After training we make sure to retrieve back the original forward pass method\u001b[39;00m\n\u001b[1;32m    283\u001b[0m \u001b[38;5;66;03m# for the embedding layer by removing the forward post hook.\u001b[39;00m\n\u001b[1;32m    284\u001b[0m \u001b[38;5;28;01mif\u001b[39;00m \u001b[38;5;28mself\u001b[39m\u001b[38;5;241m.\u001b[39mneftune_noise_alpha \u001b[38;5;129;01mis\u001b[39;00m \u001b[38;5;129;01mnot\u001b[39;00m \u001b[38;5;28;01mNone\u001b[39;00m \u001b[38;5;129;01mand\u001b[39;00m \u001b[38;5;129;01mnot\u001b[39;00m \u001b[38;5;28mself\u001b[39m\u001b[38;5;241m.\u001b[39m_trainer_supports_neftune:\n",
      "File \u001b[0;32m~/anaconda3/lib/python3.10/site-packages/transformers/trainer.py:1543\u001b[0m, in \u001b[0;36mTrainer.train\u001b[0;34m(self, resume_from_checkpoint, trial, ignore_keys_for_eval, **kwargs)\u001b[0m\n\u001b[1;32m   1541\u001b[0m         hf_hub_utils\u001b[38;5;241m.\u001b[39menable_progress_bars()\n\u001b[1;32m   1542\u001b[0m \u001b[38;5;28;01melse\u001b[39;00m:\n\u001b[0;32m-> 1543\u001b[0m     \u001b[38;5;28;01mreturn\u001b[39;00m \u001b[43minner_training_loop\u001b[49m\u001b[43m(\u001b[49m\n\u001b[1;32m   1544\u001b[0m \u001b[43m        \u001b[49m\u001b[43margs\u001b[49m\u001b[38;5;241;43m=\u001b[39;49m\u001b[43margs\u001b[49m\u001b[43m,\u001b[49m\n\u001b[1;32m   1545\u001b[0m \u001b[43m        \u001b[49m\u001b[43mresume_from_checkpoint\u001b[49m\u001b[38;5;241;43m=\u001b[39;49m\u001b[43mresume_from_checkpoint\u001b[49m\u001b[43m,\u001b[49m\n\u001b[1;32m   1546\u001b[0m \u001b[43m        \u001b[49m\u001b[43mtrial\u001b[49m\u001b[38;5;241;43m=\u001b[39;49m\u001b[43mtrial\u001b[49m\u001b[43m,\u001b[49m\n\u001b[1;32m   1547\u001b[0m \u001b[43m        \u001b[49m\u001b[43mignore_keys_for_eval\u001b[49m\u001b[38;5;241;43m=\u001b[39;49m\u001b[43mignore_keys_for_eval\u001b[49m\u001b[43m,\u001b[49m\n\u001b[1;32m   1548\u001b[0m \u001b[43m    \u001b[49m\u001b[43m)\u001b[49m\n",
      "File \u001b[0;32m~/anaconda3/lib/python3.10/site-packages/transformers/trainer.py:1860\u001b[0m, in \u001b[0;36mTrainer._inner_training_loop\u001b[0;34m(self, batch_size, args, resume_from_checkpoint, trial, ignore_keys_for_eval)\u001b[0m\n\u001b[1;32m   1857\u001b[0m     \u001b[38;5;28mself\u001b[39m\u001b[38;5;241m.\u001b[39mcontrol \u001b[38;5;241m=\u001b[39m \u001b[38;5;28mself\u001b[39m\u001b[38;5;241m.\u001b[39mcallback_handler\u001b[38;5;241m.\u001b[39mon_step_begin(args, \u001b[38;5;28mself\u001b[39m\u001b[38;5;241m.\u001b[39mstate, \u001b[38;5;28mself\u001b[39m\u001b[38;5;241m.\u001b[39mcontrol)\n\u001b[1;32m   1859\u001b[0m \u001b[38;5;28;01mwith\u001b[39;00m \u001b[38;5;28mself\u001b[39m\u001b[38;5;241m.\u001b[39maccelerator\u001b[38;5;241m.\u001b[39maccumulate(model):\n\u001b[0;32m-> 1860\u001b[0m     tr_loss_step \u001b[38;5;241m=\u001b[39m \u001b[38;5;28;43mself\u001b[39;49m\u001b[38;5;241;43m.\u001b[39;49m\u001b[43mtraining_step\u001b[49m\u001b[43m(\u001b[49m\u001b[43mmodel\u001b[49m\u001b[43m,\u001b[49m\u001b[43m \u001b[49m\u001b[43minputs\u001b[49m\u001b[43m)\u001b[49m\n\u001b[1;32m   1862\u001b[0m \u001b[38;5;28;01mif\u001b[39;00m (\n\u001b[1;32m   1863\u001b[0m     args\u001b[38;5;241m.\u001b[39mlogging_nan_inf_filter\n\u001b[1;32m   1864\u001b[0m     \u001b[38;5;129;01mand\u001b[39;00m \u001b[38;5;129;01mnot\u001b[39;00m is_torch_tpu_available()\n\u001b[1;32m   1865\u001b[0m     \u001b[38;5;129;01mand\u001b[39;00m (torch\u001b[38;5;241m.\u001b[39misnan(tr_loss_step) \u001b[38;5;129;01mor\u001b[39;00m torch\u001b[38;5;241m.\u001b[39misinf(tr_loss_step))\n\u001b[1;32m   1866\u001b[0m ):\n\u001b[1;32m   1867\u001b[0m     \u001b[38;5;66;03m# if loss is nan or inf simply add the average of previous logged losses\u001b[39;00m\n\u001b[1;32m   1868\u001b[0m     tr_loss \u001b[38;5;241m+\u001b[39m\u001b[38;5;241m=\u001b[39m tr_loss \u001b[38;5;241m/\u001b[39m (\u001b[38;5;241m1\u001b[39m \u001b[38;5;241m+\u001b[39m \u001b[38;5;28mself\u001b[39m\u001b[38;5;241m.\u001b[39mstate\u001b[38;5;241m.\u001b[39mglobal_step \u001b[38;5;241m-\u001b[39m \u001b[38;5;28mself\u001b[39m\u001b[38;5;241m.\u001b[39m_globalstep_last_logged)\n",
      "File \u001b[0;32m~/anaconda3/lib/python3.10/site-packages/transformers/trainer.py:2756\u001b[0m, in \u001b[0;36mTrainer.training_step\u001b[0;34m(self, model, inputs)\u001b[0m\n\u001b[1;32m   2754\u001b[0m         scaled_loss\u001b[38;5;241m.\u001b[39mbackward()\n\u001b[1;32m   2755\u001b[0m \u001b[38;5;28;01melse\u001b[39;00m:\n\u001b[0;32m-> 2756\u001b[0m     \u001b[38;5;28;43mself\u001b[39;49m\u001b[38;5;241;43m.\u001b[39;49m\u001b[43maccelerator\u001b[49m\u001b[38;5;241;43m.\u001b[39;49m\u001b[43mbackward\u001b[49m\u001b[43m(\u001b[49m\u001b[43mloss\u001b[49m\u001b[43m)\u001b[49m\n\u001b[1;32m   2758\u001b[0m \u001b[38;5;28;01mreturn\u001b[39;00m loss\u001b[38;5;241m.\u001b[39mdetach() \u001b[38;5;241m/\u001b[39m \u001b[38;5;28mself\u001b[39m\u001b[38;5;241m.\u001b[39margs\u001b[38;5;241m.\u001b[39mgradient_accumulation_steps\n",
      "File \u001b[0;32m~/anaconda3/lib/python3.10/site-packages/accelerate/accelerator.py:1903\u001b[0m, in \u001b[0;36mAccelerator.backward\u001b[0;34m(self, loss, **kwargs)\u001b[0m\n\u001b[1;32m   1901\u001b[0m     \u001b[38;5;28;01mreturn\u001b[39;00m\n\u001b[1;32m   1902\u001b[0m \u001b[38;5;28;01melif\u001b[39;00m \u001b[38;5;28mself\u001b[39m\u001b[38;5;241m.\u001b[39mscaler \u001b[38;5;129;01mis\u001b[39;00m \u001b[38;5;129;01mnot\u001b[39;00m \u001b[38;5;28;01mNone\u001b[39;00m:\n\u001b[0;32m-> 1903\u001b[0m     \u001b[38;5;28;43mself\u001b[39;49m\u001b[38;5;241;43m.\u001b[39;49m\u001b[43mscaler\u001b[49m\u001b[38;5;241;43m.\u001b[39;49m\u001b[43mscale\u001b[49m\u001b[43m(\u001b[49m\u001b[43mloss\u001b[49m\u001b[43m)\u001b[49m\u001b[38;5;241;43m.\u001b[39;49m\u001b[43mbackward\u001b[49m\u001b[43m(\u001b[49m\u001b[38;5;241;43m*\u001b[39;49m\u001b[38;5;241;43m*\u001b[39;49m\u001b[43mkwargs\u001b[49m\u001b[43m)\u001b[49m\n\u001b[1;32m   1904\u001b[0m \u001b[38;5;28;01melse\u001b[39;00m:\n\u001b[1;32m   1905\u001b[0m     loss\u001b[38;5;241m.\u001b[39mbackward(\u001b[38;5;241m*\u001b[39m\u001b[38;5;241m*\u001b[39mkwargs)\n",
      "File \u001b[0;32m~/anaconda3/lib/python3.10/site-packages/torch/_tensor.py:492\u001b[0m, in \u001b[0;36mTensor.backward\u001b[0;34m(self, gradient, retain_graph, create_graph, inputs)\u001b[0m\n\u001b[1;32m    482\u001b[0m \u001b[38;5;28;01mif\u001b[39;00m has_torch_function_unary(\u001b[38;5;28mself\u001b[39m):\n\u001b[1;32m    483\u001b[0m     \u001b[38;5;28;01mreturn\u001b[39;00m handle_torch_function(\n\u001b[1;32m    484\u001b[0m         Tensor\u001b[38;5;241m.\u001b[39mbackward,\n\u001b[1;32m    485\u001b[0m         (\u001b[38;5;28mself\u001b[39m,),\n\u001b[0;32m   (...)\u001b[0m\n\u001b[1;32m    490\u001b[0m         inputs\u001b[38;5;241m=\u001b[39minputs,\n\u001b[1;32m    491\u001b[0m     )\n\u001b[0;32m--> 492\u001b[0m \u001b[43mtorch\u001b[49m\u001b[38;5;241;43m.\u001b[39;49m\u001b[43mautograd\u001b[49m\u001b[38;5;241;43m.\u001b[39;49m\u001b[43mbackward\u001b[49m\u001b[43m(\u001b[49m\n\u001b[1;32m    493\u001b[0m \u001b[43m    \u001b[49m\u001b[38;5;28;43mself\u001b[39;49m\u001b[43m,\u001b[49m\u001b[43m \u001b[49m\u001b[43mgradient\u001b[49m\u001b[43m,\u001b[49m\u001b[43m \u001b[49m\u001b[43mretain_graph\u001b[49m\u001b[43m,\u001b[49m\u001b[43m \u001b[49m\u001b[43mcreate_graph\u001b[49m\u001b[43m,\u001b[49m\u001b[43m \u001b[49m\u001b[43minputs\u001b[49m\u001b[38;5;241;43m=\u001b[39;49m\u001b[43minputs\u001b[49m\n\u001b[1;32m    494\u001b[0m \u001b[43m\u001b[49m\u001b[43m)\u001b[49m\n",
      "File \u001b[0;32m~/anaconda3/lib/python3.10/site-packages/torch/autograd/__init__.py:251\u001b[0m, in \u001b[0;36mbackward\u001b[0;34m(tensors, grad_tensors, retain_graph, create_graph, grad_variables, inputs)\u001b[0m\n\u001b[1;32m    246\u001b[0m     retain_graph \u001b[38;5;241m=\u001b[39m create_graph\n\u001b[1;32m    248\u001b[0m \u001b[38;5;66;03m# The reason we repeat the same comment below is that\u001b[39;00m\n\u001b[1;32m    249\u001b[0m \u001b[38;5;66;03m# some Python versions print out the first line of a multi-line function\u001b[39;00m\n\u001b[1;32m    250\u001b[0m \u001b[38;5;66;03m# calls in the traceback and some print out the last line\u001b[39;00m\n\u001b[0;32m--> 251\u001b[0m \u001b[43mVariable\u001b[49m\u001b[38;5;241;43m.\u001b[39;49m\u001b[43m_execution_engine\u001b[49m\u001b[38;5;241;43m.\u001b[39;49m\u001b[43mrun_backward\u001b[49m\u001b[43m(\u001b[49m\u001b[43m  \u001b[49m\u001b[38;5;66;43;03m# Calls into the C++ engine to run the backward pass\u001b[39;49;00m\n\u001b[1;32m    252\u001b[0m \u001b[43m    \u001b[49m\u001b[43mtensors\u001b[49m\u001b[43m,\u001b[49m\n\u001b[1;32m    253\u001b[0m \u001b[43m    \u001b[49m\u001b[43mgrad_tensors_\u001b[49m\u001b[43m,\u001b[49m\n\u001b[1;32m    254\u001b[0m \u001b[43m    \u001b[49m\u001b[43mretain_graph\u001b[49m\u001b[43m,\u001b[49m\n\u001b[1;32m    255\u001b[0m \u001b[43m    \u001b[49m\u001b[43mcreate_graph\u001b[49m\u001b[43m,\u001b[49m\n\u001b[1;32m    256\u001b[0m \u001b[43m    \u001b[49m\u001b[43minputs\u001b[49m\u001b[43m,\u001b[49m\n\u001b[1;32m    257\u001b[0m \u001b[43m    \u001b[49m\u001b[43mallow_unreachable\u001b[49m\u001b[38;5;241;43m=\u001b[39;49m\u001b[38;5;28;43;01mTrue\u001b[39;49;00m\u001b[43m,\u001b[49m\n\u001b[1;32m    258\u001b[0m \u001b[43m    \u001b[49m\u001b[43maccumulate_grad\u001b[49m\u001b[38;5;241;43m=\u001b[39;49m\u001b[38;5;28;43;01mTrue\u001b[39;49;00m\u001b[43m,\u001b[49m\n\u001b[1;32m    259\u001b[0m \u001b[43m\u001b[49m\u001b[43m)\u001b[49m\n",
      "File \u001b[0;32m~/anaconda3/lib/python3.10/site-packages/torch/autograd/function.py:288\u001b[0m, in \u001b[0;36mBackwardCFunction.apply\u001b[0;34m(self, *args)\u001b[0m\n\u001b[1;32m    282\u001b[0m     \u001b[38;5;28;01mraise\u001b[39;00m \u001b[38;5;167;01mRuntimeError\u001b[39;00m(\n\u001b[1;32m    283\u001b[0m         \u001b[38;5;124m\"\u001b[39m\u001b[38;5;124mImplementing both \u001b[39m\u001b[38;5;124m'\u001b[39m\u001b[38;5;124mbackward\u001b[39m\u001b[38;5;124m'\u001b[39m\u001b[38;5;124m and \u001b[39m\u001b[38;5;124m'\u001b[39m\u001b[38;5;124mvjp\u001b[39m\u001b[38;5;124m'\u001b[39m\u001b[38;5;124m for a custom \u001b[39m\u001b[38;5;124m\"\u001b[39m\n\u001b[1;32m    284\u001b[0m         \u001b[38;5;124m\"\u001b[39m\u001b[38;5;124mFunction is not allowed. You should only implement one \u001b[39m\u001b[38;5;124m\"\u001b[39m\n\u001b[1;32m    285\u001b[0m         \u001b[38;5;124m\"\u001b[39m\u001b[38;5;124mof them.\u001b[39m\u001b[38;5;124m\"\u001b[39m\n\u001b[1;32m    286\u001b[0m     )\n\u001b[1;32m    287\u001b[0m user_fn \u001b[38;5;241m=\u001b[39m vjp_fn \u001b[38;5;28;01mif\u001b[39;00m vjp_fn \u001b[38;5;129;01mis\u001b[39;00m \u001b[38;5;129;01mnot\u001b[39;00m Function\u001b[38;5;241m.\u001b[39mvjp \u001b[38;5;28;01melse\u001b[39;00m backward_fn\n\u001b[0;32m--> 288\u001b[0m \u001b[38;5;28;01mreturn\u001b[39;00m \u001b[43muser_fn\u001b[49m\u001b[43m(\u001b[49m\u001b[38;5;28;43mself\u001b[39;49m\u001b[43m,\u001b[49m\u001b[43m \u001b[49m\u001b[38;5;241;43m*\u001b[39;49m\u001b[43margs\u001b[49m\u001b[43m)\u001b[49m\n",
      "File \u001b[0;32m~/anaconda3/lib/python3.10/site-packages/torch/utils/checkpoint.py:271\u001b[0m, in \u001b[0;36mCheckpointFunction.backward\u001b[0;34m(ctx, *args)\u001b[0m\n\u001b[1;32m    266\u001b[0m     device_autocast_ctx \u001b[38;5;241m=\u001b[39m device_module\u001b[38;5;241m.\u001b[39mamp\u001b[38;5;241m.\u001b[39mautocast(\n\u001b[1;32m    267\u001b[0m         \u001b[38;5;241m*\u001b[39m\u001b[38;5;241m*\u001b[39mctx\u001b[38;5;241m.\u001b[39mdevice_autocast_kwargs\n\u001b[1;32m    268\u001b[0m     ) \u001b[38;5;28;01mif\u001b[39;00m _supports_autocast(ctx\u001b[38;5;241m.\u001b[39mdevice) \u001b[38;5;28;01melse\u001b[39;00m contextlib\u001b[38;5;241m.\u001b[39mnullcontext()\n\u001b[1;32m    269\u001b[0m     \u001b[38;5;28;01mwith\u001b[39;00m torch\u001b[38;5;241m.\u001b[39menable_grad(), device_autocast_ctx, \\\n\u001b[1;32m    270\u001b[0m          torch\u001b[38;5;241m.\u001b[39mcpu\u001b[38;5;241m.\u001b[39mamp\u001b[38;5;241m.\u001b[39mautocast(\u001b[38;5;241m*\u001b[39m\u001b[38;5;241m*\u001b[39mctx\u001b[38;5;241m.\u001b[39mcpu_autocast_kwargs):\n\u001b[0;32m--> 271\u001b[0m         outputs \u001b[38;5;241m=\u001b[39m \u001b[43mctx\u001b[49m\u001b[38;5;241;43m.\u001b[39;49m\u001b[43mrun_function\u001b[49m\u001b[43m(\u001b[49m\u001b[38;5;241;43m*\u001b[39;49m\u001b[43mdetached_inputs\u001b[49m\u001b[43m)\u001b[49m\n\u001b[1;32m    273\u001b[0m \u001b[38;5;28;01mif\u001b[39;00m \u001b[38;5;28misinstance\u001b[39m(outputs, torch\u001b[38;5;241m.\u001b[39mTensor):\n\u001b[1;32m    274\u001b[0m     outputs \u001b[38;5;241m=\u001b[39m (outputs,)\n",
      "File \u001b[0;32m~/anaconda3/lib/python3.10/site-packages/torch/nn/modules/module.py:1518\u001b[0m, in \u001b[0;36mModule._wrapped_call_impl\u001b[0;34m(self, *args, **kwargs)\u001b[0m\n\u001b[1;32m   1516\u001b[0m     \u001b[38;5;28;01mreturn\u001b[39;00m \u001b[38;5;28mself\u001b[39m\u001b[38;5;241m.\u001b[39m_compiled_call_impl(\u001b[38;5;241m*\u001b[39margs, \u001b[38;5;241m*\u001b[39m\u001b[38;5;241m*\u001b[39mkwargs)  \u001b[38;5;66;03m# type: ignore[misc]\u001b[39;00m\n\u001b[1;32m   1517\u001b[0m \u001b[38;5;28;01melse\u001b[39;00m:\n\u001b[0;32m-> 1518\u001b[0m     \u001b[38;5;28;01mreturn\u001b[39;00m \u001b[38;5;28;43mself\u001b[39;49m\u001b[38;5;241;43m.\u001b[39;49m\u001b[43m_call_impl\u001b[49m\u001b[43m(\u001b[49m\u001b[38;5;241;43m*\u001b[39;49m\u001b[43margs\u001b[49m\u001b[43m,\u001b[49m\u001b[43m \u001b[49m\u001b[38;5;241;43m*\u001b[39;49m\u001b[38;5;241;43m*\u001b[39;49m\u001b[43mkwargs\u001b[49m\u001b[43m)\u001b[49m\n",
      "File \u001b[0;32m~/anaconda3/lib/python3.10/site-packages/torch/nn/modules/module.py:1527\u001b[0m, in \u001b[0;36mModule._call_impl\u001b[0;34m(self, *args, **kwargs)\u001b[0m\n\u001b[1;32m   1522\u001b[0m \u001b[38;5;66;03m# If we don't have any hooks, we want to skip the rest of the logic in\u001b[39;00m\n\u001b[1;32m   1523\u001b[0m \u001b[38;5;66;03m# this function, and just call forward.\u001b[39;00m\n\u001b[1;32m   1524\u001b[0m \u001b[38;5;28;01mif\u001b[39;00m \u001b[38;5;129;01mnot\u001b[39;00m (\u001b[38;5;28mself\u001b[39m\u001b[38;5;241m.\u001b[39m_backward_hooks \u001b[38;5;129;01mor\u001b[39;00m \u001b[38;5;28mself\u001b[39m\u001b[38;5;241m.\u001b[39m_backward_pre_hooks \u001b[38;5;129;01mor\u001b[39;00m \u001b[38;5;28mself\u001b[39m\u001b[38;5;241m.\u001b[39m_forward_hooks \u001b[38;5;129;01mor\u001b[39;00m \u001b[38;5;28mself\u001b[39m\u001b[38;5;241m.\u001b[39m_forward_pre_hooks\n\u001b[1;32m   1525\u001b[0m         \u001b[38;5;129;01mor\u001b[39;00m _global_backward_pre_hooks \u001b[38;5;129;01mor\u001b[39;00m _global_backward_hooks\n\u001b[1;32m   1526\u001b[0m         \u001b[38;5;129;01mor\u001b[39;00m _global_forward_hooks \u001b[38;5;129;01mor\u001b[39;00m _global_forward_pre_hooks):\n\u001b[0;32m-> 1527\u001b[0m     \u001b[38;5;28;01mreturn\u001b[39;00m \u001b[43mforward_call\u001b[49m\u001b[43m(\u001b[49m\u001b[38;5;241;43m*\u001b[39;49m\u001b[43margs\u001b[49m\u001b[43m,\u001b[49m\u001b[43m \u001b[49m\u001b[38;5;241;43m*\u001b[39;49m\u001b[38;5;241;43m*\u001b[39;49m\u001b[43mkwargs\u001b[49m\u001b[43m)\u001b[49m\n\u001b[1;32m   1529\u001b[0m \u001b[38;5;28;01mtry\u001b[39;00m:\n\u001b[1;32m   1530\u001b[0m     result \u001b[38;5;241m=\u001b[39m \u001b[38;5;28;01mNone\u001b[39;00m\n",
      "File \u001b[0;32m~/anaconda3/lib/python3.10/site-packages/accelerate/hooks.py:165\u001b[0m, in \u001b[0;36madd_hook_to_module.<locals>.new_forward\u001b[0;34m(module, *args, **kwargs)\u001b[0m\n\u001b[1;32m    163\u001b[0m         output \u001b[38;5;241m=\u001b[39m module\u001b[38;5;241m.\u001b[39m_old_forward(\u001b[38;5;241m*\u001b[39margs, \u001b[38;5;241m*\u001b[39m\u001b[38;5;241m*\u001b[39mkwargs)\n\u001b[1;32m    164\u001b[0m \u001b[38;5;28;01melse\u001b[39;00m:\n\u001b[0;32m--> 165\u001b[0m     output \u001b[38;5;241m=\u001b[39m \u001b[43mmodule\u001b[49m\u001b[38;5;241;43m.\u001b[39;49m\u001b[43m_old_forward\u001b[49m\u001b[43m(\u001b[49m\u001b[38;5;241;43m*\u001b[39;49m\u001b[43margs\u001b[49m\u001b[43m,\u001b[49m\u001b[43m \u001b[49m\u001b[38;5;241;43m*\u001b[39;49m\u001b[38;5;241;43m*\u001b[39;49m\u001b[43mkwargs\u001b[49m\u001b[43m)\u001b[49m\n\u001b[1;32m    166\u001b[0m \u001b[38;5;28;01mreturn\u001b[39;00m module\u001b[38;5;241m.\u001b[39m_hf_hook\u001b[38;5;241m.\u001b[39mpost_forward(module, output)\n",
      "File \u001b[0;32m~/anaconda3/lib/python3.10/site-packages/transformers/models/mistral/modeling_mistral.py:663\u001b[0m, in \u001b[0;36mMistralDecoderLayer.forward\u001b[0;34m(self, hidden_states, attention_mask, position_ids, past_key_value, output_attentions, use_cache, **kwargs)\u001b[0m\n\u001b[1;32m    660\u001b[0m hidden_states \u001b[38;5;241m=\u001b[39m \u001b[38;5;28mself\u001b[39m\u001b[38;5;241m.\u001b[39minput_layernorm(hidden_states)\n\u001b[1;32m    662\u001b[0m \u001b[38;5;66;03m# Self Attention\u001b[39;00m\n\u001b[0;32m--> 663\u001b[0m hidden_states, self_attn_weights, present_key_value \u001b[38;5;241m=\u001b[39m \u001b[38;5;28;43mself\u001b[39;49m\u001b[38;5;241;43m.\u001b[39;49m\u001b[43mself_attn\u001b[49m\u001b[43m(\u001b[49m\n\u001b[1;32m    664\u001b[0m \u001b[43m    \u001b[49m\u001b[43mhidden_states\u001b[49m\u001b[38;5;241;43m=\u001b[39;49m\u001b[43mhidden_states\u001b[49m\u001b[43m,\u001b[49m\n\u001b[1;32m    665\u001b[0m \u001b[43m    \u001b[49m\u001b[43mattention_mask\u001b[49m\u001b[38;5;241;43m=\u001b[39;49m\u001b[43mattention_mask\u001b[49m\u001b[43m,\u001b[49m\n\u001b[1;32m    666\u001b[0m \u001b[43m    \u001b[49m\u001b[43mposition_ids\u001b[49m\u001b[38;5;241;43m=\u001b[39;49m\u001b[43mposition_ids\u001b[49m\u001b[43m,\u001b[49m\n\u001b[1;32m    667\u001b[0m \u001b[43m    \u001b[49m\u001b[43mpast_key_value\u001b[49m\u001b[38;5;241;43m=\u001b[39;49m\u001b[43mpast_key_value\u001b[49m\u001b[43m,\u001b[49m\n\u001b[1;32m    668\u001b[0m \u001b[43m    \u001b[49m\u001b[43moutput_attentions\u001b[49m\u001b[38;5;241;43m=\u001b[39;49m\u001b[43moutput_attentions\u001b[49m\u001b[43m,\u001b[49m\n\u001b[1;32m    669\u001b[0m \u001b[43m    \u001b[49m\u001b[43muse_cache\u001b[49m\u001b[38;5;241;43m=\u001b[39;49m\u001b[43muse_cache\u001b[49m\u001b[43m,\u001b[49m\n\u001b[1;32m    670\u001b[0m \u001b[43m\u001b[49m\u001b[43m)\u001b[49m\n\u001b[1;32m    671\u001b[0m hidden_states \u001b[38;5;241m=\u001b[39m residual \u001b[38;5;241m+\u001b[39m hidden_states\n\u001b[1;32m    673\u001b[0m \u001b[38;5;66;03m# Fully Connected\u001b[39;00m\n",
      "File \u001b[0;32m~/anaconda3/lib/python3.10/site-packages/torch/nn/modules/module.py:1518\u001b[0m, in \u001b[0;36mModule._wrapped_call_impl\u001b[0;34m(self, *args, **kwargs)\u001b[0m\n\u001b[1;32m   1516\u001b[0m     \u001b[38;5;28;01mreturn\u001b[39;00m \u001b[38;5;28mself\u001b[39m\u001b[38;5;241m.\u001b[39m_compiled_call_impl(\u001b[38;5;241m*\u001b[39margs, \u001b[38;5;241m*\u001b[39m\u001b[38;5;241m*\u001b[39mkwargs)  \u001b[38;5;66;03m# type: ignore[misc]\u001b[39;00m\n\u001b[1;32m   1517\u001b[0m \u001b[38;5;28;01melse\u001b[39;00m:\n\u001b[0;32m-> 1518\u001b[0m     \u001b[38;5;28;01mreturn\u001b[39;00m \u001b[38;5;28;43mself\u001b[39;49m\u001b[38;5;241;43m.\u001b[39;49m\u001b[43m_call_impl\u001b[49m\u001b[43m(\u001b[49m\u001b[38;5;241;43m*\u001b[39;49m\u001b[43margs\u001b[49m\u001b[43m,\u001b[49m\u001b[43m \u001b[49m\u001b[38;5;241;43m*\u001b[39;49m\u001b[38;5;241;43m*\u001b[39;49m\u001b[43mkwargs\u001b[49m\u001b[43m)\u001b[49m\n",
      "File \u001b[0;32m~/anaconda3/lib/python3.10/site-packages/torch/nn/modules/module.py:1527\u001b[0m, in \u001b[0;36mModule._call_impl\u001b[0;34m(self, *args, **kwargs)\u001b[0m\n\u001b[1;32m   1522\u001b[0m \u001b[38;5;66;03m# If we don't have any hooks, we want to skip the rest of the logic in\u001b[39;00m\n\u001b[1;32m   1523\u001b[0m \u001b[38;5;66;03m# this function, and just call forward.\u001b[39;00m\n\u001b[1;32m   1524\u001b[0m \u001b[38;5;28;01mif\u001b[39;00m \u001b[38;5;129;01mnot\u001b[39;00m (\u001b[38;5;28mself\u001b[39m\u001b[38;5;241m.\u001b[39m_backward_hooks \u001b[38;5;129;01mor\u001b[39;00m \u001b[38;5;28mself\u001b[39m\u001b[38;5;241m.\u001b[39m_backward_pre_hooks \u001b[38;5;129;01mor\u001b[39;00m \u001b[38;5;28mself\u001b[39m\u001b[38;5;241m.\u001b[39m_forward_hooks \u001b[38;5;129;01mor\u001b[39;00m \u001b[38;5;28mself\u001b[39m\u001b[38;5;241m.\u001b[39m_forward_pre_hooks\n\u001b[1;32m   1525\u001b[0m         \u001b[38;5;129;01mor\u001b[39;00m _global_backward_pre_hooks \u001b[38;5;129;01mor\u001b[39;00m _global_backward_hooks\n\u001b[1;32m   1526\u001b[0m         \u001b[38;5;129;01mor\u001b[39;00m _global_forward_hooks \u001b[38;5;129;01mor\u001b[39;00m _global_forward_pre_hooks):\n\u001b[0;32m-> 1527\u001b[0m     \u001b[38;5;28;01mreturn\u001b[39;00m \u001b[43mforward_call\u001b[49m\u001b[43m(\u001b[49m\u001b[38;5;241;43m*\u001b[39;49m\u001b[43margs\u001b[49m\u001b[43m,\u001b[49m\u001b[43m \u001b[49m\u001b[38;5;241;43m*\u001b[39;49m\u001b[38;5;241;43m*\u001b[39;49m\u001b[43mkwargs\u001b[49m\u001b[43m)\u001b[49m\n\u001b[1;32m   1529\u001b[0m \u001b[38;5;28;01mtry\u001b[39;00m:\n\u001b[1;32m   1530\u001b[0m     result \u001b[38;5;241m=\u001b[39m \u001b[38;5;28;01mNone\u001b[39;00m\n",
      "File \u001b[0;32m~/anaconda3/lib/python3.10/site-packages/accelerate/hooks.py:165\u001b[0m, in \u001b[0;36madd_hook_to_module.<locals>.new_forward\u001b[0;34m(module, *args, **kwargs)\u001b[0m\n\u001b[1;32m    163\u001b[0m         output \u001b[38;5;241m=\u001b[39m module\u001b[38;5;241m.\u001b[39m_old_forward(\u001b[38;5;241m*\u001b[39margs, \u001b[38;5;241m*\u001b[39m\u001b[38;5;241m*\u001b[39mkwargs)\n\u001b[1;32m    164\u001b[0m \u001b[38;5;28;01melse\u001b[39;00m:\n\u001b[0;32m--> 165\u001b[0m     output \u001b[38;5;241m=\u001b[39m \u001b[43mmodule\u001b[49m\u001b[38;5;241;43m.\u001b[39;49m\u001b[43m_old_forward\u001b[49m\u001b[43m(\u001b[49m\u001b[38;5;241;43m*\u001b[39;49m\u001b[43margs\u001b[49m\u001b[43m,\u001b[49m\u001b[43m \u001b[49m\u001b[38;5;241;43m*\u001b[39;49m\u001b[38;5;241;43m*\u001b[39;49m\u001b[43mkwargs\u001b[49m\u001b[43m)\u001b[49m\n\u001b[1;32m    166\u001b[0m \u001b[38;5;28;01mreturn\u001b[39;00m module\u001b[38;5;241m.\u001b[39m_hf_hook\u001b[38;5;241m.\u001b[39mpost_forward(module, output)\n",
      "File \u001b[0;32m~/anaconda3/lib/python3.10/site-packages/transformers/models/mistral/modeling_mistral.py:297\u001b[0m, in \u001b[0;36mMistralAttention.forward\u001b[0;34m(self, hidden_states, attention_mask, position_ids, past_key_value, output_attentions, use_cache, **kwargs)\u001b[0m\n\u001b[1;32m    292\u001b[0m     \u001b[38;5;28;01mif\u001b[39;00m attention_mask\u001b[38;5;241m.\u001b[39msize() \u001b[38;5;241m!=\u001b[39m (bsz, \u001b[38;5;241m1\u001b[39m, q_len, kv_seq_len):\n\u001b[1;32m    293\u001b[0m         \u001b[38;5;28;01mraise\u001b[39;00m \u001b[38;5;167;01mValueError\u001b[39;00m(\n\u001b[1;32m    294\u001b[0m             \u001b[38;5;124mf\u001b[39m\u001b[38;5;124m\"\u001b[39m\u001b[38;5;124mAttention mask should be of size \u001b[39m\u001b[38;5;132;01m{\u001b[39;00m(bsz,\u001b[38;5;250m \u001b[39m\u001b[38;5;241m1\u001b[39m,\u001b[38;5;250m \u001b[39mq_len,\u001b[38;5;250m \u001b[39mkv_seq_len)\u001b[38;5;132;01m}\u001b[39;00m\u001b[38;5;124m, but is \u001b[39m\u001b[38;5;132;01m{\u001b[39;00mattention_mask\u001b[38;5;241m.\u001b[39msize()\u001b[38;5;132;01m}\u001b[39;00m\u001b[38;5;124m\"\u001b[39m\n\u001b[1;32m    295\u001b[0m         )\n\u001b[0;32m--> 297\u001b[0m     attn_weights \u001b[38;5;241m=\u001b[39m \u001b[43mattn_weights\u001b[49m\u001b[43m \u001b[49m\u001b[38;5;241;43m+\u001b[39;49m\u001b[43m \u001b[49m\u001b[43mattention_mask\u001b[49m\n\u001b[1;32m    299\u001b[0m \u001b[38;5;66;03m# upcast attention to fp32\u001b[39;00m\n\u001b[1;32m    300\u001b[0m attn_weights \u001b[38;5;241m=\u001b[39m nn\u001b[38;5;241m.\u001b[39mfunctional\u001b[38;5;241m.\u001b[39msoftmax(attn_weights, dim\u001b[38;5;241m=\u001b[39m\u001b[38;5;241m-\u001b[39m\u001b[38;5;241m1\u001b[39m, dtype\u001b[38;5;241m=\u001b[39mtorch\u001b[38;5;241m.\u001b[39mfloat32)\u001b[38;5;241m.\u001b[39mto(query_states\u001b[38;5;241m.\u001b[39mdtype)\n",
      "\u001b[0;31mOutOfMemoryError\u001b[0m: CUDA out of memory. Tried to allocate 3.00 GiB. GPU 1 has a total capacty of 15.73 GiB of which 1.27 GiB is free. Including non-PyTorch memory, this process has 14.46 GiB memory in use. Of the allocated memory 10.11 GiB is allocated by PyTorch, and 3.52 GiB is reserved by PyTorch but unallocated. If reserved but unallocated memory is large try setting max_split_size_mb to avoid fragmentation.  See documentation for Memory Management and PYTORCH_CUDA_ALLOC_CONF"
     ]
    }
   ],
   "source": [
    "# kick off the finetuning job \n",
    "trainer.train()\n",
    "\n",
    "# Save finetuned model \n"
   ]
  },
  {
   "cell_type": "code",
   "execution_count": null,
   "metadata": {},
   "outputs": [],
   "source": [
    "trainer.save_model(\"mistral_instruct_qa\")"
   ]
  }
 ],
 "metadata": {
  "kernelspec": {
   "display_name": "base",
   "language": "python",
   "name": "python3"
  },
  "language_info": {
   "codemirror_mode": {
    "name": "ipython",
    "version": 3
   },
   "file_extension": ".py",
   "mimetype": "text/x-python",
   "name": "python",
   "nbconvert_exporter": "python",
   "pygments_lexer": "ipython3",
   "version": "3.8.8"
  }
 },
 "nbformat": 4,
 "nbformat_minor": 2
}
