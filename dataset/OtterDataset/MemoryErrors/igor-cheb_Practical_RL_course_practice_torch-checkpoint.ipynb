{
 "cells": [
  {
   "cell_type": "markdown",
   "metadata": {},
   "source": [
    "## Reinforcement Learning for seq2seq\n",
    "\n",
    "This time we'll solve a problem of transсribing Hebrew words in English, also known as g2p (grapheme2phoneme)\n",
    "\n",
    " * word (sequence of letters in source language) -> translation (sequence of letters in target language)\n",
    "\n",
    "Unlike what most deep learning practitioners do, we won't only train it to maximize likelihood of correct translation, but also employ reinforcement learning to actually teach it to translate with as few errors as possible.\n",
    "\n",
    "\n",
    "### About the task\n",
    "\n",
    "One notable property of Hebrew is that it's a consonant language. That is, there are no vowels in the written language. One could represent vowels with diacritics above consonants, but you don't expect people to do that in everyday life.\n",
    "\n",
    "Therefore, some Hebrew characters will correspond to several English letters and others - to none, so we should use encoder-decoder architecture to figure that out.\n",
    "\n",
    "![img](https://esciencegroup.files.wordpress.com/2016/03/seq2seq.jpg)\n",
    "_(img: esciencegroup.files.wordpress.com)_\n",
    "\n",
    "Encoder-decoder architectures are about converting anything to anything, including\n",
    " * Machine translation and spoken dialogue systems\n",
    " * [Image captioning](https://cocodataset.org/#captions-2015) and [image2latex](https://htmlpreview.github.io/?https://github.com/openai/requests-for-research/blob/master/_requests_for_research/im2latex.html) (convolutional encoder, recurrent decoder)\n",
    " * Generating [images by captions](https://arxiv.org/abs/1511.02793) (recurrent encoder, convolutional decoder)\n",
    " * Grapheme2phoneme - convert words to transcripts\n",
    "\n",
    "We chose simplified __Hebrew->English__ machine translation for words and short phrases (character-level), as it is relatively quick to train even without a gpu cluster."
   ]
  },
  {
   "cell_type": "code",
   "execution_count": null,
   "metadata": {},
   "outputs": [],
   "source": [
    "import sys\n",
    "if 'google.colab' in sys.modules:\n",
    "    !wget https://raw.githubusercontent.com/yandexdataschool/Practical_RL/master/week07_seq2seq/basic_model_torch.py -O basic_model_torch.py\n",
    "    !wget https://raw.githubusercontent.com/yandexdataschool/Practical_RL/master/week07_seq2seq/main_dataset.txt -O main_dataset.txt\n",
    "    !wget https://raw.githubusercontent.com/yandexdataschool/Practical_RL/master/week07_seq2seq/voc.py -O voc.py\n",
    "    !pip3 install torch==1.0.0 nltk editdistance"
   ]
  },
  {
   "cell_type": "code",
   "execution_count": 2,
   "metadata": {},
   "outputs": [],
   "source": [
    "# If True, only translates phrases shorter than 20 characters (way easier).\n",
    "EASY_MODE = True\n",
    "# Useful for initial coding.\n",
    "# If false, works with all phrases (please switch to this mode for homework assignment)\n",
    "\n",
    "# way we translate. Either \"he-to-en\" or \"en-to-he\"\n",
    "MODE = \"he-to-en\"\n",
    "# maximal length of _generated_ output, does not affect training\n",
    "MAX_OUTPUT_LENGTH = 50 if not EASY_MODE else 20\n",
    "REPORT_FREQ = 100                          # how often to evaluate validation score"
   ]
  },
  {
   "cell_type": "markdown",
   "metadata": {},
   "source": [
    "### Step 1: preprocessing\n",
    "\n",
    "We shall store dataset as a dictionary\n",
    "`{ word1:[translation1,translation2,...], word2:[...],...}`.\n",
    "\n",
    "This is mostly due to the fact that many words have several correct translations.\n",
    "\n",
    "We have implemented this thing for you so that you can focus on more interesting parts."
   ]
  },
  {
   "cell_type": "code",
   "execution_count": 3,
   "metadata": {},
   "outputs": [],
   "source": [
    "l = [1,2,3,42]"
   ]
  },
  {
   "cell_type": "code",
   "execution_count": 4,
   "metadata": {},
   "outputs": [
    {
     "name": "stdout",
     "output_type": "stream",
     "text": [
      "size =  130114\n"
     ]
    }
   ],
   "source": [
    "import numpy as np\n",
    "from collections import defaultdict\n",
    "word_to_translation = defaultdict(list)  # our dictionary\n",
    "\n",
    "bos = '_'\n",
    "eos = ';'\n",
    "\n",
    "with open(\"main_dataset.txt\", encoding=\"utf-8\") as fin:\n",
    "    for line in fin:\n",
    "\n",
    "        en, he = line[:-1].lower().replace(bos, ' ').replace(eos,\n",
    "                                                             ' ').split('\\t')\n",
    "        word, trans = (he, en) if MODE == 'he-to-en' else (en, he)\n",
    "\n",
    "        if len(word) < 3:\n",
    "            continue\n",
    "        if EASY_MODE:\n",
    "            if max(len(word), len(trans)) > 20:\n",
    "                continue\n",
    "\n",
    "        word_to_translation[word].append(trans)\n",
    "\n",
    "print(\"size = \", len(word_to_translation))"
   ]
  },
  {
   "cell_type": "code",
   "execution_count": 6,
   "metadata": {},
   "outputs": [],
   "source": [
    "# get all unique lines in source language\n",
    "all_words = np.array(list(word_to_translation.keys()))\n",
    "# get all unique lines in translation language\n",
    "all_translations = np.array(list(set(\n",
    "    [ts for all_ts in word_to_translation.values() for ts in all_ts])))"
   ]
  },
  {
   "cell_type": "markdown",
   "metadata": {},
   "source": [
    "### split the dataset\n",
    "\n",
    "We hold out 10% of all words to be used for validation.\n"
   ]
  },
  {
   "cell_type": "code",
   "execution_count": 9,
   "metadata": {},
   "outputs": [],
   "source": [
    "from sklearn.model_selection import train_test_split\n",
    "train_words, test_words = train_test_split(\n",
    "    all_words, test_size=0.1, random_state=42)"
   ]
  },
  {
   "cell_type": "markdown",
   "metadata": {},
   "source": [
    "### Building vocabularies\n",
    "\n",
    "We now need to build vocabularies that map strings to token ids and vice versa. We're gonna need these fellas when we feed training data into the model or convert output matrices into English words."
   ]
  },
  {
   "cell_type": "code",
   "execution_count": 10,
   "metadata": {},
   "outputs": [],
   "source": [
    "from voc import Vocab\n",
    "inp_voc = Vocab.from_lines(''.join(all_words), bos=bos, eos=eos, sep='')\n",
    "out_voc = Vocab.from_lines(''.join(all_translations), bos=bos, eos=eos, sep='')"
   ]
  },
  {
   "cell_type": "code",
   "execution_count": 63,
   "metadata": {},
   "outputs": [
    {
     "data": {
      "text/plain": [
       "84399"
      ]
     },
     "execution_count": 63,
     "metadata": {},
     "output_type": "execute_result"
    }
   ],
   "source": [
    "len(set(' '.join(all_translations).split()))"
   ]
  },
  {
   "cell_type": "code",
   "execution_count": 30,
   "metadata": {},
   "outputs": [
    {
     "name": "stdout",
     "output_type": "stream",
     "text": [
      "lines\n",
      "['משתמש:צלף/!' 'סימן קריאה' 'תבנית:!!' '$9.99' \"תבנית:'\"]\n",
      "\n",
      "words to ids (0 = bos, 1 = eos):\n",
      "[[  0 127 138 139 127 138  27 135 125 132  16   3   1]\n",
      " [  0 130 122 127 128   2 136 137 122 113 117   1   1]\n",
      " [  0 139 114 129 122 139  27   3   3   1   1   1   1]\n",
      " [  0   6  26  15  26  26   1   1   1   1   1   1   1]\n",
      " [  0 139 114 129 122 139  27   8   1   1   1   1   1]]\n",
      "\n",
      "back to words\n",
      "['משתמש:צלף/!', 'סימן קריאה', 'תבנית:!!', '$9.99', \"תבנית:'\"]\n"
     ]
    }
   ],
   "source": [
    "# Here's how you cast lines into ids and backwards.\n",
    "batch_lines = all_words[:5]\n",
    "batch_ids = inp_voc.to_matrix(batch_lines)\n",
    "batch_lines_restored = inp_voc.to_lines(batch_ids)\n",
    "\n",
    "print(\"lines\")\n",
    "print(batch_lines)\n",
    "\n",
    "print(\"\\nwords to ids (0 = bos, 1 = eos):\")\n",
    "print(batch_ids)\n",
    "\n",
    "print(\"\\nback to words\")\n",
    "print(batch_lines_restored)"
   ]
  },
  {
   "cell_type": "markdown",
   "metadata": {},
   "source": [
    "Draw word/translation length distributions to estimate the scope of the task."
   ]
  },
  {
   "cell_type": "code",
   "execution_count": 31,
   "metadata": {},
   "outputs": [
    {
     "data": {
      "text/plain": [
       "(array([   16.,    67.,  1893.,  4238.,  6268.,  8015.,  8186.,  7720.,\n",
       "         7837.,  8957.,  9696., 10609., 10733., 10246.,  9015.,  7622.,\n",
       "         6313.,  5386.,  4372.,  3587.]),\n",
       " array([ 1.  ,  1.95,  2.9 ,  3.85,  4.8 ,  5.75,  6.7 ,  7.65,  8.6 ,\n",
       "         9.55, 10.5 , 11.45, 12.4 , 13.35, 14.3 , 15.25, 16.2 , 17.15,\n",
       "        18.1 , 19.05, 20.  ]),\n",
       " <BarContainer object of 20 artists>)"
      ]
     },
     "execution_count": 31,
     "metadata": {},
     "output_type": "execute_result"
    },
    {
     "data": {
      "image/png": "[encoded data removed]",
      "text/plain": [
       "<Figure size 800x400 with 2 Axes>"
      ]
     },
     "metadata": {},
     "output_type": "display_data"
    }
   ],
   "source": [
    "import matplotlib.pyplot as plt\n",
    "%matplotlib inline\n",
    "plt.figure(figsize=[8, 4])\n",
    "plt.subplot(1, 2, 1)\n",
    "plt.title(\"words\")\n",
    "plt.hist(list(map(len, all_words)), bins=20)\n",
    "\n",
    "plt.subplot(1, 2, 2)\n",
    "plt.title('translations')\n",
    "plt.hist(list(map(len, all_translations)), bins=20)"
   ]
  },
  {
   "cell_type": "markdown",
   "metadata": {},
   "source": [
    "### Step 3: deploy encoder-decoder (1 point)\n",
    "\n",
    "__assignment starts here__\n",
    "\n",
    "Our architecture consists of two main blocks:\n",
    "* Encoder reads words character by character and outputs code vector (usually a function of last RNN state)\n",
    "* Decoder takes that code vector and produces translations character by character\n",
    "\n",
    "Then it gets fed into a model that follows this simple interface:\n",
    "* __`model(inp, out, **flags) -> logp`__ - takes symbolic int32 matrices of Hebrew words and their English translations. Computes the log-probabilities of all possible English characters given English prefixes and Hebrew word.\n",
    "* __`model.translate(inp, **flags) -> out, logp`__ - takes symbolic int32 matrix of Hebrew words, produces output tokens sampled from the model and output log-probabilities for all possible tokens at each tick.\n",
    "  * if given flag __`greedy=True`__, takes most likely next token at each iteration. Otherwise, samples with next token probabilities predicted by model.\n",
    "\n",
    "That's all! It's as hard as it gets. With those two methods alone, you can implement all kinds of prediction and training."
   ]
  },
  {
   "cell_type": "code",
   "execution_count": 17,
   "metadata": {},
   "outputs": [],
   "source": [
    "import torch\n",
    "import torch.nn as nn\n",
    "import torch.nn.functional as F"
   ]
  },
  {
   "cell_type": "code",
   "execution_count": 68,
   "metadata": {},
   "outputs": [
    {
     "data": {
      "text/plain": [
       "189"
      ]
     },
     "execution_count": 68,
     "metadata": {},
     "output_type": "execute_result"
    }
   ],
   "source": [
    "len(inp_voc)"
   ]
  },
  {
   "cell_type": "code",
   "execution_count": 18,
   "metadata": {},
   "outputs": [],
   "source": [
    "from basic_model_torch import BasicTranslationModel\n",
    "model = BasicTranslationModel(inp_voc, out_voc,\n",
    "                              emb_size=64, hid_size=256)"
   ]
  },
  {
   "cell_type": "code",
   "execution_count": 36,
   "metadata": {},
   "outputs": [
    {
     "data": {
      "text/plain": [
       "BasicTranslationModel(\n",
       "  (emb_inp): Embedding(189, 64)\n",
       "  (emb_out): Embedding(283, 64)\n",
       "  (enc0): GRU(64, 256, batch_first=True)\n",
       "  (dec_start): Linear(in_features=256, out_features=256, bias=True)\n",
       "  (dec0): GRUCell(64, 256)\n",
       "  (logits): Linear(in_features=256, out_features=283, bias=True)\n",
       ")"
      ]
     },
     "execution_count": 36,
     "metadata": {},
     "output_type": "execute_result"
    }
   ],
   "source": [
    "model"
   ]
  },
  {
   "cell_type": "code",
   "execution_count": 47,
   "metadata": {},
   "outputs": [
    {
     "data": {
      "text/plain": [
       "tensor([[2, 8, 1, 6, 6],\n",
       "        [8, 8, 1, 1, 4],\n",
       "        [8, 5, 2, 2, 8]])"
      ]
     },
     "execution_count": 47,
     "metadata": {},
     "output_type": "execute_result"
    }
   ],
   "source": [
    "inp"
   ]
  },
  {
   "cell_type": "code",
   "execution_count": 52,
   "metadata": {},
   "outputs": [
    {
     "data": {
      "text/plain": [
       "torch.Size([3, 5, 283])"
      ]
     },
     "execution_count": 52,
     "metadata": {},
     "output_type": "execute_result"
    }
   ],
   "source": [
    "model(inp, out).shape"
   ]
  },
  {
   "cell_type": "code",
   "execution_count": 29,
   "metadata": {
    "scrolled": true
   },
   "outputs": [
    {
     "name": "stdout",
     "output_type": "stream",
     "text": [
      "Sample translations:\n",
      " tensor([[  0, 126, 169,  90, 259, 218, 141,  95, 135, 266, 102, 276, 156,  74,\n",
      "         201, 178,  71, 195, 226,  16,  89, 137, 189,   3,  75, 156, 249, 228,\n",
      "           4, 158,  63, 266, 141, 250, 242, 181, 124,  73, 191, 127, 118, 139,\n",
      "         187,  79,  54, 175, 236, 164,  65, 265,  21, 131,  73,  22,  82, 219,\n",
      "         186, 281, 112, 104, 157, 199, 103, 201,  18, 273,  37,  93, 270, 160,\n",
      "          83,  91, 233, 119, 271,  93,  98, 261,  69, 124, 272, 126, 212,  93,\n",
      "          73, 259,  91, 153,   5, 196, 142,  96, 263, 277, 136, 217,  97, 232,\n",
      "         104,  25, 103, 130, 273, 183, 118,  20, 132, 165, 149, 192, 183, 254,\n",
      "         178,  19, 258, 219, 240, 107, 274,   3, 225, 107, 156, 205, 248, 188,\n",
      "          39, 125,  75,  79, 192, 212, 193, 205,  40,  97,  85,   8,  49,  57,\n",
      "         278, 259, 261, 271,  63, 254, 119, 257, 119,  80,  93, 118, 233, 143,\n",
      "          43,  91, 236,  20, 119, 160, 115, 175, 228, 133,  78,  60, 244, 184,\n",
      "         185, 278,  28, 231, 125, 224,  78, 239,  25, 218, 201, 149, 244,  64,\n",
      "         232, 114,  28, 278,  66, 176, 120, 237, 140, 221,  77, 235, 258,  61,\n",
      "         125,  45,  41, 169,  23, 188, 169, 165,   9, 276, 122, 211, 248, 137,\n",
      "         127, 233,   7,  23, 273, 269,  23, 194, 219,  74, 217,  23, 196, 261,\n",
      "         249, 121, 120, 171,   1],\n",
      "        [  0, 139,  98,  16, 170, 164, 265, 175,  90, 245,  35, 234,  33,  89,\n",
      "         203,   7,  76, 248, 186, 119,  31, 277,  49, 189,  72, 278, 215, 138,\n",
      "          10, 262,  58, 140, 218, 276, 167, 277, 182,  41, 139, 173,  30,  19,\n",
      "         101, 109, 168, 166, 208, 133, 133, 252, 117,  59, 199, 186, 263, 222,\n",
      "          83, 173, 128, 157, 188, 205,  97, 114, 186, 138, 241, 131, 242, 154,\n",
      "         254, 174, 174, 102, 242, 105, 281,  24, 138,  37, 107, 224, 230,  55,\n",
      "          65, 209,  73, 203, 118,  90, 126,  45, 232,  63,  65, 215, 117, 147,\n",
      "         274,  72,  99, 241,  20, 270, 171, 115, 239, 184, 155, 232, 217, 211,\n",
      "         151, 268, 258, 104, 229, 223,  20,  56,  34, 254, 204, 193, 272, 120,\n",
      "          58, 151, 131, 171,  99, 179,  67,  31, 249, 116, 101, 128, 113, 135,\n",
      "         191, 187,  48, 121, 176, 142, 129,  29, 268, 125, 176, 195, 103, 221,\n",
      "         208,  33,  13, 182,  11, 179,  21, 136,  68,  99,  33, 241, 261,  97,\n",
      "          11,  29, 202, 104,   4,  22, 147, 276, 170,  83, 139,  39, 141, 102,\n",
      "          82, 236,  41, 241, 234, 137, 135,  67,   6, 269, 188,  47,  68,  75,\n",
      "         269,  14, 114, 229,   3, 212,  48, 185, 134,   9, 240, 169,  13,  48,\n",
      "         168,  31,   1,  14, 266, 110,  22, 108, 172,  52,  57,   6, 201,  90,\n",
      "          15, 138,   2,  49, 241],\n",
      "        [  0,  59, 228, 203, 126, 205, 182, 187, 192, 268, 264,  88,  93,   6,\n",
      "          78, 267, 220, 146, 212,  29, 232, 129,  10,  63, 120, 261,  99, 279,\n",
      "         252, 166, 257,  80, 179, 243,  54,  59,  72,  76, 205,  43, 195,  50,\n",
      "          75, 108,  34,   9, 134, 149,  83, 230, 225, 151, 152, 241,  45,  13,\n",
      "          20, 256, 251, 220, 118, 264,  52, 141,  19, 116, 282, 120, 132, 140,\n",
      "         140, 189, 258, 160,   8,  57,   8, 191,  90, 154, 141, 142, 186, 195,\n",
      "          25,   2, 168,  64, 224, 140, 260, 204,  68,  97,  17,  67, 169, 154,\n",
      "         210,  41, 258, 160,  71, 223,  32,  89,  32,  72, 176,  82, 175,  78,\n",
      "         149,  95, 126, 194, 141, 281, 197,  39, 157, 276, 182,  68,  27, 249,\n",
      "         224,  97, 271,  41,  98,  85,  33, 270, 110, 118,  61, 255,  17, 279,\n",
      "         104, 141, 114, 152,  38,  48, 149,  83, 268, 263, 234,  52, 239, 259,\n",
      "         183, 118, 228, 264, 190,  78,   6, 252,  17, 210, 238,  33,  48,  51,\n",
      "          72, 142,  97,   4, 132, 242, 277, 227, 200,   1, 263,  90,  87,  46,\n",
      "         195,   4, 108,  33, 167, 200, 185,   5, 226, 165, 247, 258,  42, 152,\n",
      "         258,  81,  77, 155, 233, 203, 259, 199,  51, 256,  17, 165, 225, 150,\n",
      "         266,  39, 163,  91,  72,  41,  92, 158, 177, 213,  23, 264,  95, 167,\n",
      "          61,  44, 236, 151,  48]])\n",
      "Log-probabilities at each step:\n",
      " tensor([[[  0.0000, -69.0776, -69.0776,  ..., -69.0776, -69.0776, -69.0776],\n",
      "         [ -5.8412,  -5.7857,  -5.7421,  ...,  -5.6025,  -5.6876,  -5.7064],\n",
      "         [ -5.7942,  -5.7150,  -5.6617,  ...,  -5.6868,  -5.5629,  -5.6789],\n",
      "         ...,\n",
      "         [ -5.6868,  -5.7612,  -5.7820,  ...,  -5.4773,  -5.5499,  -5.5710],\n",
      "         [ -5.7497,  -5.7048,  -5.8867,  ...,  -5.4520,  -5.6445,  -5.6808],\n",
      "         [ -5.6485,  -5.7131,  -5.8460,  ...,  -5.4988,  -5.5798,  -5.7345]],\n",
      "\n",
      "        [[  0.0000, -69.0776, -69.0776,  ..., -69.0776, -69.0776, -69.0776],\n",
      "         [ -5.8217,  -5.7330,  -5.8504,  ...,  -5.5568,  -5.6468,  -5.7074],\n",
      "         [ -5.7418,  -5.6913,  -5.8161,  ...,  -5.5827,  -5.6177,  -5.7354],\n",
      "         ...,\n",
      "         [ -5.6595,  -5.6974,  -5.7061,  ...,  -5.6592,  -5.6169,  -5.5951],\n",
      "         [ -5.6671,  -5.5436,  -5.7101,  ...,  -5.6917,  -5.5755,  -5.6269],\n",
      "         [ -5.6978,  -5.5875,  -5.6383,  ...,  -5.4738,  -5.5752,  -5.3716]],\n",
      "\n",
      "        [[  0.0000, -69.0776, -69.0776,  ..., -69.0776, -69.0776, -69.0776],\n",
      "         [ -5.8301,  -5.8383,  -5.7278,  ...,  -5.5874,  -5.6228,  -5.7201],\n",
      "         [ -5.8428,  -5.7711,  -5.6121,  ...,  -5.5786,  -5.6045,  -5.7841],\n",
      "         ...,\n",
      "         [ -5.7537,  -5.5593,  -5.7841,  ...,  -5.6242,  -5.6797,  -5.6075],\n",
      "         [ -5.6409,  -5.5379,  -5.6173,  ...,  -5.4945,  -5.7202,  -5.5547],\n",
      "         [ -5.6905,  -5.6083,  -5.6872,  ...,  -5.4587,  -5.6271,  -5.5154]]],\n",
      "       grad_fn=<LogSoftmaxBackward0>)\n"
     ]
    }
   ],
   "source": [
    "# Play around with symbolic_translate and symbolic_score\n",
    "inp = torch.randint(0, 10, [3, 5], dtype=torch.int64)\n",
    "out = torch.randint(0, 10, [3, 5], dtype=torch.int64)\n",
    "\n",
    "# translate inp (with untrained model)\n",
    "sampled_out, logp = model.translate(inp, greedy=False)\n",
    "\n",
    "print(\"Sample translations:\\n\", sampled_out)\n",
    "print(\"Log-probabilities at each step:\\n\", logp)"
   ]
  },
  {
   "cell_type": "code",
   "execution_count": 27,
   "metadata": {},
   "outputs": [
    {
     "data": {
      "text/plain": [
       "torch.Size([3, 289, 283])"
      ]
     },
     "execution_count": 27,
     "metadata": {},
     "output_type": "execute_result"
    }
   ],
   "source": [
    "logp.shape"
   ]
  },
  {
   "cell_type": "code",
   "execution_count": 49,
   "metadata": {},
   "outputs": [
    {
     "data": {
      "text/plain": [
       "torch.Size([3, 229])"
      ]
     },
     "execution_count": 49,
     "metadata": {},
     "output_type": "execute_result"
    }
   ],
   "source": [
    "sampled_out"
   ]
  },
  {
   "cell_type": "code",
   "execution_count": 20,
   "metadata": {},
   "outputs": [
    {
     "name": "stdout",
     "output_type": "stream",
     "text": [
      "Symbolic_score output:\n",
      " tensor([[[  0.0000, -69.0776, -69.0776,  ..., -69.0776, -69.0776, -69.0776],\n",
      "         [ -5.7755,  -5.7608,  -5.7814,  ...,  -5.6116,  -5.6345,  -5.6980],\n",
      "         [ -5.6822,  -5.6421,  -5.8099,  ...,  -5.5517,  -5.6557,  -5.7244],\n",
      "         [ -5.7878,  -5.7184,  -5.8058,  ...,  -5.5181,  -5.5549,  -5.7144],\n",
      "         [ -5.7773,  -5.6960,  -5.6274,  ...,  -5.4478,  -5.5763,  -5.5119]],\n",
      "\n",
      "        [[  0.0000, -69.0776, -69.0776,  ..., -69.0776, -69.0776, -69.0776],\n",
      "         [ -5.7896,  -5.7855,  -5.7798,  ...,  -5.6320,  -5.6727,  -5.6829],\n",
      "         [ -5.7389,  -5.7344,  -5.7369,  ...,  -5.5741,  -5.6753,  -5.7361],\n",
      "         [ -5.6963,  -5.7406,  -5.7115,  ...,  -5.5601,  -5.6511,  -5.7542],\n",
      "         [ -5.6691,  -5.7587,  -5.6964,  ...,  -5.5583,  -5.6306,  -5.7571]],\n",
      "\n",
      "        [[  0.0000, -69.0776, -69.0776,  ..., -69.0776, -69.0776, -69.0776],\n",
      "         [ -5.7319,  -5.5412,  -5.7458,  ...,  -5.6292,  -5.6034,  -5.6709],\n",
      "         [ -5.8485,  -5.6499,  -5.7742,  ...,  -5.5344,  -5.5160,  -5.6728],\n",
      "         [ -5.8819,  -5.5381,  -5.5957,  ...,  -5.4398,  -5.7183,  -5.7328],\n",
      "         [ -5.7208,  -5.5884,  -5.7138,  ...,  -5.4702,  -5.6629,  -5.7470]]],\n",
      "       grad_fn=<LogSoftmaxBackward0>)\n",
      "Log-probabilities of output tokens:\n",
      " tensor([[[  0.0000],\n",
      "         [ -5.6873],\n",
      "         [ -5.6421],\n",
      "         [ -5.6831],\n",
      "         [ -5.7773]],\n",
      "\n",
      "        [[  0.0000],\n",
      "         [ -5.5648],\n",
      "         [ -5.5223],\n",
      "         [ -5.5087],\n",
      "         [ -5.7587]],\n",
      "\n",
      "        [[-69.0776],\n",
      "         [ -5.5412],\n",
      "         [ -5.6906],\n",
      "         [ -5.6780],\n",
      "         [ -5.6912]]], grad_fn=<GatherBackward0>)\n"
     ]
    }
   ],
   "source": [
    "# score logp(out | inp) with untrained input\n",
    "logp = model(inp, out)\n",
    "print(\"Symbolic_score output:\\n\", logp)\n",
    "\n",
    "print(\"Log-probabilities of output tokens:\\n\",\n",
    "      torch.gather(logp, dim=2, index=out[:, :, None]))"
   ]
  },
  {
   "cell_type": "code",
   "execution_count": 101,
   "metadata": {},
   "outputs": [],
   "source": [
    "def translate(lines, max_len=MAX_OUTPUT_LENGTH):\n",
    "    \"\"\"\n",
    "    You are given a list of input lines.\n",
    "    Make your neural network translate them.\n",
    "    :return: a list of output lines\n",
    "    \"\"\"\n",
    "    # Convert lines to a matrix of indices\n",
    "    lines_ix = inp_voc.to_matrix(lines)\n",
    "    lines_ix = torch.tensor(lines_ix, dtype=torch.int64)\n",
    "\n",
    "    # Compute translations in form of indices\n",
    "    trans_ix, logp = model.translate(inp, greedy=True, max_len=max_len)\n",
    "    \n",
    "    #<YOUR CODE>\n",
    "\n",
    "    # Convert translations back into strings\n",
    "    return out_voc.to_lines(trans_ix.data.numpy())"
   ]
  },
  {
   "cell_type": "code",
   "execution_count": 98,
   "metadata": {},
   "outputs": [
    {
     "name": "stdout",
     "output_type": "stream",
     "text": [
      "Sample inputs: ['משתמש:צלף/!' 'סימן קריאה' 'תבנית:!!']\n",
      "Dummy translations: ['jame and the district', 'jacher', ':..... je']\n",
      "Tests passed!\n"
     ]
    }
   ],
   "source": [
    "print(\"Sample inputs:\", all_words[:3])\n",
    "print(\"Dummy translations:\", translate(all_words[:3]))\n",
    "trans = translate(all_words[:3])\n",
    "\n",
    "assert translate(all_words[:3]) == translate(\n",
    "    all_words[:3]), \"make sure translation is deterministic (use greedy=True and disable any noise layers)\"\n",
    "assert type(translate(all_words[:3])) is list and (type(translate(all_words[:1])[0]) is str or type(\n",
    "    translate(all_words[:1])[0]) is unicode), \"translate(lines) must return a sequence of strings!\"\n",
    "# note: if translation freezes, make sure you used max_len parameter\n",
    "print(\"Tests passed!\")"
   ]
  },
  {
   "cell_type": "markdown",
   "metadata": {},
   "source": [
    "### Scoring function\n",
    "\n",
    "LogLikelihood is a poor estimator of model performance.\n",
    "* If we predict zero probability once, it shouldn't ruin the entire model.\n",
    "* It is enough to learn just one translation if there are several correct ones.\n",
    "* What matters is how many mistakes model's gonna make when it translates!\n",
    "\n",
    "Therefore, we will use minimal Levenshtein distance. It measures how many characters do we need to add/remove/replace from model translation to make it perfect. Alternatively, one could use character-level BLEU/RougeL or other similar metrics.\n",
    "\n",
    "The catch here is that Levenshtein distance is not differentiable: it isn't even continuous. We can't train our neural network to maximize it by gradient descent."
   ]
  },
  {
   "cell_type": "code",
   "execution_count": 80,
   "metadata": {},
   "outputs": [
    {
     "name": "stdout",
     "output_type": "stream",
     "text": [
      "\u001b[32m\u001b[1mInstalling editdistance...\u001b[0m\n",
      "\u001b[K\u001b[1mAdding\u001b[0m \u001b[32m\u001b[1meditdistance\u001b[0m \u001b[1mto Pipfile's\u001b[0m \u001b[33m\u001b[1m[packages]\u001b[0m\u001b[1m...\u001b[0m\n",
      "\u001b[K\u001b[?25h✔ Installation Succeeded\u001b[0m \n",
      "\u001b[33m\u001b[1mPipfile.lock (0f145e) out of date, updating to (3a04c5)...\u001b[0m\n",
      "Locking\u001b[0m \u001b[33m[packages]\u001b[0m dependencies...\u001b[0m\n",
      "\u001b[K\u001b[KBuilding requirements...\n",
      "\u001b[KResolving dependencies...\n",
      "\u001b[K\u001b[?25h\u001b[32m\u001b[22m✔ Success!\u001b[39m\u001b[22m\u001b[0m \n",
      "Locking\u001b[0m \u001b[33m[dev-packages]\u001b[0m dependencies...\u001b[0m\n",
      "\u001b[1mUpdated Pipfile.lock (76e77fcdf635ac7e10bc3057dfc2f77a6b2f5ef86a5ebc9ea94627f2ff3a04c5)!\u001b[0m\n",
      "\u001b[1mInstalling dependencies from Pipfile.lock (3a04c5)...\u001b[0m\n",
      "To activate this project's virtualenv, run \u001b[33mpipenv shell\u001b[0m.\n",
      "Alternatively, run a command inside the virtualenv with \u001b[33mpipenv run\u001b[0m.\n",
      "\u001b[0m"
     ]
    }
   ],
   "source": [
    "!pipenv install editdistance"
   ]
  },
  {
   "cell_type": "code",
   "execution_count": 81,
   "metadata": {},
   "outputs": [],
   "source": [
    "import editdistance  # !pip install editdistance\n",
    "\n",
    "\n",
    "def get_distance(word, trans):\n",
    "    \"\"\"\n",
    "    A function that takes word and predicted translation\n",
    "    and evaluates (Levenshtein's) edit distance to closest correct translation\n",
    "    \"\"\"\n",
    "    references = word_to_translation[word]\n",
    "    assert len(references) != 0, \"wrong/unknown word\"\n",
    "    return min(editdistance.eval(trans, ref) for ref in references)\n",
    "\n",
    "\n",
    "def score(words, bsize=100):\n",
    "    \"\"\"a function that computes levenshtein distance for bsize random samples\"\"\"\n",
    "    assert isinstance(words, np.ndarray)\n",
    "\n",
    "    batch_words = np.random.choice(words, size=bsize, replace=False)\n",
    "    batch_trans = translate(batch_words)\n",
    "\n",
    "    distances = list(map(get_distance, batch_words, batch_trans))\n",
    "\n",
    "    return np.array(distances, dtype='float32')"
   ]
  },
  {
   "cell_type": "code",
   "execution_count": 82,
   "metadata": {},
   "outputs": [
    {
     "data": {
      "text/plain": [
       "[49.0, 49.0, 49.0, 48.666668, 48.666668]"
      ]
     },
     "execution_count": 82,
     "metadata": {},
     "output_type": "execute_result"
    }
   ],
   "source": [
    "# should be around 5-50 and decrease rapidly after training :)\n",
    "[score(test_words, 10).mean() for _ in range(5)]"
   ]
  },
  {
   "cell_type": "markdown",
   "metadata": {},
   "source": [
    "## Step 2: Supervised pre-training (2 points)\n",
    "\n",
    "Here we define a function that trains our model through maximizing log-likelihood a.k.a. minimizing crossentropy."
   ]
  },
  {
   "cell_type": "code",
   "execution_count": 83,
   "metadata": {},
   "outputs": [],
   "source": [
    "import random\n",
    "\n",
    "\n",
    "def sample_batch(words, word_to_translation, batch_size):\n",
    "    \"\"\"\n",
    "    sample random batch of words and random correct translation for each word\n",
    "    example usage:\n",
    "    batch_x,batch_y = sample_batch(train_words, word_to_translations,10)\n",
    "    \"\"\"\n",
    "    # choose words\n",
    "    batch_words = np.random.choice(words, size=batch_size)\n",
    "\n",
    "    # choose translations\n",
    "    batch_trans_candidates = list(map(word_to_translation.get, batch_words))\n",
    "    batch_trans = list(map(random.choice, batch_trans_candidates))\n",
    "    return batch_words, batch_trans"
   ]
  },
  {
   "cell_type": "code",
   "execution_count": 84,
   "metadata": {},
   "outputs": [
    {
     "name": "stdout",
     "output_type": "stream",
     "text": [
      "Source:\n",
      "['צפעונים' 'קטגוריה:חניבעל לקטר' 'יובל נאמן']\n",
      "Target:\n",
      "['viperinae', 'hannibal lecter', \"yuval ne'eman\"]\n"
     ]
    }
   ],
   "source": [
    "bx, by = sample_batch(train_words, word_to_translation, batch_size=3)\n",
    "print(\"Source:\")\n",
    "print(bx)\n",
    "print(\"Target:\")\n",
    "print(by)"
   ]
  },
  {
   "cell_type": "code",
   "execution_count": 102,
   "metadata": {},
   "outputs": [],
   "source": [
    "from basic_model_torch import infer_length, infer_mask, to_one_hot\n",
    "\n",
    "\n",
    "def compute_loss_on_batch(input_sequence, reference_answers):\n",
    "    \"\"\" Compute crossentropy loss given a batch of sources and translations \"\"\"\n",
    "    input_sequence = torch.tensor(inp_voc.to_matrix(input_sequence), dtype=torch.int64)\n",
    "    reference_answers = torch.tensor(out_voc.to_matrix(reference_answers), dtype=torch.int64)\n",
    "\n",
    "    # Compute log-probabilities of all possible tokens at each step. Use model interface.\n",
    "    logprobs_seq = model(input_sequence, reference_answers)#<YOUR CODE>\n",
    "\n",
    "    # compute elementwise crossentropy as negative log-probabilities of reference_answers.\n",
    "    crossentropy = - \\\n",
    "        torch.sum(logprobs_seq *\n",
    "                  to_one_hot(reference_answers, len(out_voc)), dim=-1)\n",
    "    assert crossentropy.dim(\n",
    "    ) == 2, \"please return elementwise crossentropy, don't compute mean just yet\"\n",
    "\n",
    "    # average with mask\n",
    "    mask = infer_mask(reference_answers, out_voc.eos_ix)\n",
    "    loss = torch.sum(crossentropy * mask) / torch.sum(mask)\n",
    "\n",
    "    return loss"
   ]
  },
  {
   "cell_type": "code",
   "execution_count": 86,
   "metadata": {},
   "outputs": [
    {
     "name": "stdout",
     "output_type": "stream",
     "text": [
      "loss =  tensor(5.2665, grad_fn=<DivBackward0>)\n"
     ]
    }
   ],
   "source": [
    "# test it\n",
    "loss = compute_loss_on_batch(*sample_batch(train_words, word_to_translation, 3))\n",
    "print('loss = ', loss)\n",
    "\n",
    "assert loss.item() > 0.0\n",
    "loss.backward()\n",
    "for w in model.parameters():\n",
    "    assert w.grad is not None and torch.max(torch.abs(w.grad)).item() != 0, \\\n",
    "        \"Loss is not differentiable w.r.t. a weight with shape %s. Check comput_loss_on_batch.\" % (\n",
    "            w.size(),)"
   ]
  },
  {
   "cell_type": "markdown",
   "metadata": {},
   "source": [
    "##### Actually train the model\n",
    "\n",
    "Minibatches and stuff..."
   ]
  },
  {
   "cell_type": "code",
   "execution_count": 87,
   "metadata": {},
   "outputs": [],
   "source": [
    "from IPython.display import clear_output\n",
    "from tqdm import tqdm, trange  # or use tqdm_notebook,tnrange\n",
    "\n",
    "loss_history = []\n",
    "editdist_history = []\n",
    "entropy_history = []\n",
    "opt = torch.optim.Adam(model.parameters())"
   ]
  },
  {
   "cell_type": "code",
   "execution_count": 88,
   "metadata": {},
   "outputs": [
    {
     "name": "stdout",
     "output_type": "stream",
     "text": [
      "llh=0.974, mean score=11.367\n"
     ]
    },
    {
     "data": {
      "image/png": "[encoded data removed]",
      "text/plain": [
       "<Figure size 1200x400 with 3 Axes>"
      ]
     },
     "metadata": {},
     "output_type": "display_data"
    },
    {
     "name": "stderr",
     "output_type": "stream",
     "text": [
      "100%|█████████████████████████████████████████████████████████████████████████████████████████████████████████████████████████████████████████████████████████████████| 25000/25000 [32:45<00:00, 12.72it/s]\n"
     ]
    }
   ],
   "source": [
    "for i in trange(25000):\n",
    "    loss = compute_loss_on_batch(*sample_batch(train_words, word_to_translation, 32))\n",
    "\n",
    "    # train with backprop\n",
    "    loss.backward()\n",
    "    opt.step()\n",
    "    opt.zero_grad()\n",
    "\n",
    "    loss_history.append(loss.item())\n",
    "\n",
    "    if (i+1) % REPORT_FREQ == 0:\n",
    "        clear_output(True)\n",
    "        current_scores = score(test_words)\n",
    "        editdist_history.append(current_scores.mean())\n",
    "        print(\"llh=%.3f, mean score=%.3f\" %\n",
    "              (np.mean(loss_history[-10:]), np.mean(editdist_history[-10:])))\n",
    "        plt.figure(figsize=(12, 4))\n",
    "        plt.subplot(131)\n",
    "        plt.title('train loss / traning time')\n",
    "        plt.plot(loss_history)\n",
    "        plt.grid()\n",
    "        plt.subplot(132)\n",
    "        plt.title('val score distribution')\n",
    "        plt.hist(current_scores, bins=20)\n",
    "        plt.subplot(133)\n",
    "        plt.title('val score / traning time (lower is better)')\n",
    "        plt.plot(editdist_history)\n",
    "        plt.grid()\n",
    "        plt.show()"
   ]
  },
  {
   "cell_type": "markdown",
   "metadata": {},
   "source": [
    "__How to interpret the plots:__\n",
    "\n",
    "* __Train loss__ - that's your model's crossentropy over minibatches. It should go down steadily. Most importantly, it shouldn't be NaN :)\n",
    "* __Val score distribution__ - distribution of translation edit distance (score) within batch. It should move to the left over time.\n",
    "* __Val score / training time__ - it's your current mean edit distance. This plot is much whimsier than loss, but make sure it goes below 8 by 2500 steps.\n",
    "\n",
    "If it doesn't, first try to re-create both model and opt. You may have changed its weight too much while debugging. If that doesn't help, it's debugging time."
   ]
  },
  {
   "cell_type": "code",
   "execution_count": 104,
   "metadata": {},
   "outputs": [
    {
     "data": {
      "text/plain": [
       "array(['מפרש קדמה', 'the information', \"ביאליניצ'י\", \"סונו ג'וי\",\n",
       "       'ויוויאן פוקס', 'מנורת שמן', 'רובין אליס', \"פרנצ'סקו גוארדי\",\n",
       "       \"צ'איאונו\", 'תאופיק אל-חכים'], dtype='<U20')"
      ]
     },
     "execution_count": 104,
     "metadata": {},
     "output_type": "execute_result"
    }
   ],
   "source": [
    "train_words[:10]"
   ]
  },
  {
   "cell_type": "code",
   "execution_count": 89,
   "metadata": {},
   "outputs": [
    {
     "name": "stdout",
     "output_type": "stream",
     "text": [
      "מפרש קדמה -> jame and the district\n",
      "the information -> jame and the district\n",
      "ביאליניצ'י -> jame and the district\n",
      "סונו ג'וי -> jame and the district\n",
      "ויוויאן פוקס -> jame and the district\n",
      "מנורת שמן -> jame and the district\n",
      "רובין אליס -> jame and the district\n",
      "פרנצ'סקו גוארדי -> jame and the district\n",
      "צ'איאונו -> jame and the district\n",
      "תאופיק אל-חכים -> jame and the district\n"
     ]
    }
   ],
   "source": [
    "for word in train_words[:10]:\n",
    "    print(\"%s -> %s\" % (word, translate([word])[0]))"
   ]
  },
  {
   "cell_type": "code",
   "execution_count": 90,
   "metadata": {},
   "outputs": [
    {
     "name": "stderr",
     "output_type": "stream",
     "text": [
      "100%|████████████████████████████████████████████████████████████████████████████████████████████████████████████████████████████████████████████████████████████████████| 407/407 [00:02<00:00, 158.61it/s]"
     ]
    },
    {
     "name": "stdout",
     "output_type": "stream",
     "text": [
      "Supervised test score: 12.923013923013922\n"
     ]
    },
    {
     "name": "stderr",
     "output_type": "stream",
     "text": [
      "\n"
     ]
    }
   ],
   "source": [
    "test_scores = []\n",
    "for start_i in trange(0, len(test_words), 32):\n",
    "    batch_words = test_words[start_i:start_i+32]\n",
    "    batch_trans = translate(batch_words)\n",
    "    distances = list(map(get_distance, batch_words, batch_trans))\n",
    "    test_scores.extend(distances)\n",
    "\n",
    "print(\"Supervised test score:\", np.mean(test_scores))"
   ]
  },
  {
   "cell_type": "markdown",
   "metadata": {},
   "source": [
    "## Self-critical policy gradient (2 points)\n",
    "\n",
    "In this section you'll implement algorithm called self-critical sequence training (here's an [article](https://arxiv.org/abs/1612.00563)).\n",
    "\n",
    "The algorithm is a vanilla policy gradient with a special baseline.\n",
    "\n",
    "$$ \\nabla J = E_{x \\sim p(s)} E_{y \\sim \\pi(y|x)} \\nabla log \\pi(y|x) \\cdot (R(x,y) - b(x)) $$\n",
    "\n",
    "Here reward R(x,y) is a __negative levenshtein distance__ (since we minimize it). The baseline __b(x)__ represents how well model fares on word __x__.\n",
    "\n",
    "In practice, this means that we compute baseline as a score of greedy translation, $b(x) = R(x,y_{greedy}(x)) $.\n",
    "\n",
    "![img](https://github.com/yandexdataschool/Practical_RL/raw/master/yet_another_week/_resource/scheme.png)\n",
    "\n",
    "\n",
    "Luckily, we already obtained the required outputs: `model.greedy_translations, model.greedy_mask` and we only need to compute levenshtein using `compute_levenshtein` function.\n"
   ]
  },
  {
   "cell_type": "code",
   "execution_count": 91,
   "metadata": {},
   "outputs": [],
   "source": [
    "def compute_reward(input_sequence, translations):\n",
    "    \"\"\" computes sample-wise reward given token ids for inputs and translations \"\"\"\n",
    "    distances = list(map(get_distance,\n",
    "                         inp_voc.to_lines(input_sequence.data.numpy()),\n",
    "                         out_voc.to_lines(translations.data.numpy())))\n",
    "    # use negative levenshtein distance so that larger reward means better policy\n",
    "    return - torch.tensor(distances, dtype=torch.int64)"
   ]
  },
  {
   "cell_type": "code",
   "execution_count": 189,
   "metadata": {},
   "outputs": [],
   "source": [
    "input_sequence = sample_batch(train_words, word_to_translation, 32)[0]\n",
    "input_sequence = torch.tensor(inp_voc.to_matrix(input_sequence), dtype=torch.int64)\n",
    "\n",
    "sample_translations, sample_logp = model.translate(input_sequence, greedy=False)#<YOUR CODE>\n",
    "greedy_translations, greedy_logp = model.translate(input_sequence, greedy=False)#<YOUR CODE>"
   ]
  },
  {
   "cell_type": "code",
   "execution_count": 192,
   "metadata": {},
   "outputs": [],
   "source": [
    "logp_sample = torch.zeros(sample_logp.shape[0], sample_logp.shape[1])\n",
    "for n, p_tens in enumerate(sample_logp):\n",
    "    logp_sample[n] = p_tens[ torch.arange(len(sample_translations[n])), sample_translations[n] ]"
   ]
  },
  {
   "cell_type": "code",
   "execution_count": 205,
   "metadata": {},
   "outputs": [
    {
     "data": {
      "text/plain": [
       "tensor(-5848.8594, grad_fn=<SumBackward0>)"
      ]
     },
     "execution_count": 205,
     "metadata": {},
     "output_type": "execute_result"
    }
   ],
   "source": [
    "sample_logp[0][5].sum()"
   ]
  },
  {
   "cell_type": "code",
   "execution_count": 209,
   "metadata": {},
   "outputs": [
    {
     "data": {
      "text/plain": [
       "tensor(1.0000, grad_fn=<SumBackward0>)"
      ]
     },
     "execution_count": 209,
     "metadata": {},
     "output_type": "execute_result"
    }
   ],
   "source": [
    "F.softmax(sample_logp, dim=-1)[0][5].sum()"
   ]
  },
  {
   "cell_type": "code",
   "execution_count": 217,
   "metadata": {},
   "outputs": [
    {
     "data": {
      "text/plain": [
       "tensor([[-1.9480e-26, -4.4240e-01, -1.0787e+00, -3.7035e-01, -3.4560e-02,\n",
       "         -2.5079e-01, -1.5044e+00, -8.7641e-01, -1.5058e-02, -1.7038e+00,\n",
       "         -8.5623e-01, -3.0267e-01, -1.4957e+00, -9.4619e-01, -1.1657e+00,\n",
       "         -1.2034e+00, -4.6220e-01, -1.5836e-01, -4.9652e-02, -2.4842e-01,\n",
       "         -3.9645e-01, -8.9186e-01],\n",
       "        [-1.9480e-26, -3.7577e-01, -1.6892e-02, -2.8292e-01, -1.2624e-01,\n",
       "         -3.4754e-01, -9.9182e-01, -6.3448e-01, -1.0688e+00, -4.8378e-01,\n",
       "         -1.1269e+00, -3.2391e-01, -7.8931e-01, -2.5910e-01, -1.7845e-01,\n",
       "         -3.3765e-01, -2.8435e-01, -6.3809e-01, -1.5799e+00, -2.2327e+00,\n",
       "         -2.0424e+00, -1.8401e+00],\n",
       "        [-1.9480e-26, -2.9748e-01, -9.2648e-01, -2.0071e-01, -1.0711e+00,\n",
       "         -1.0162e+00, -5.7158e-01, -1.6731e+00, -6.5786e-01, -1.3685e+00,\n",
       "         -1.6824e-01, -1.7011e+00, -1.8190e+00, -2.0001e+00, -1.6112e+00,\n",
       "         -1.0529e+00, -8.6297e-01, -1.5819e+00, -1.1120e+00, -1.1612e-01,\n",
       "         -2.9195e-01, -1.0903e-01],\n",
       "        [-1.9480e-26, -1.0450e+00, -8.7554e-01, -1.4694e+00, -3.2291e-01,\n",
       "         -2.7590e-01, -1.3823e+00, -7.8311e-01, -7.1050e-01, -6.2743e-01,\n",
       "         -1.2979e+00, -2.8057e+00, -2.2675e+00, -2.6192e+00, -1.6562e+00,\n",
       "         -7.7342e-01, -4.3552e-01, -2.0475e-01, -1.5990e-01, -1.7862e-01,\n",
       "         -5.6459e-01, -2.3119e+00],\n",
       "        [-1.9480e-26, -1.5373e+00, -8.2211e-02, -1.0248e+00, -1.9445e-01,\n",
       "         -1.8556e+00, -1.7480e+00, -2.5211e+00, -1.2720e+00, -1.9646e+00,\n",
       "         -4.9649e-01, -1.6683e+00, -2.9088e+00, -1.9956e+00, -2.7072e+00,\n",
       "         -2.0539e+00, -1.1305e+00, -4.8694e-01, -2.5362e-01, -2.5761e-01,\n",
       "         -4.1194e-01, -8.0117e-01],\n",
       "        [-1.9480e-26, -1.1968e+00, -3.1540e-01, -1.3398e+00, -1.0172e+00,\n",
       "         -9.9137e-01, -1.1988e+00, -1.8799e+00, -2.5331e+00, -9.1842e-01,\n",
       "         -2.2378e+00, -1.8720e+00, -1.8132e+00, -1.0013e+00, -1.2968e+00,\n",
       "         -2.1038e+00, -1.9854e+00, -1.1431e+00, -9.3380e-01, -1.3681e+00,\n",
       "         -1.1649e+00, -1.1287e+00],\n",
       "        [-1.9480e-26, -2.7129e+00, -2.0982e+00, -2.2609e+00, -2.4486e+00,\n",
       "         -2.5341e+00, -2.5275e+00, -2.0281e+00, -2.2718e+00, -1.4689e+00,\n",
       "         -2.8447e+00, -2.7059e+00, -1.7894e+00, -1.6337e+00, -1.0248e+00,\n",
       "         -1.2545e+00, -1.1098e+00, -7.9202e-01, -1.5026e+00, -3.8163e+00,\n",
       "         -2.6102e+00, -2.6643e+00],\n",
       "        [-1.9480e-26, -4.7105e-01, -1.0364e+00, -2.1487e+00, -4.5948e-01,\n",
       "         -5.5783e-01, -1.9111e+00, -2.2020e-01, -1.8706e-01, -5.3126e-01,\n",
       "         -1.4096e+00, -1.5245e+00, -1.7412e+00, -6.9574e-01, -1.1837e+00,\n",
       "         -2.5637e+00, -2.2313e+00, -2.6263e+00, -1.6368e+00, -1.6132e+00,\n",
       "         -2.7509e-01, -9.9949e-01],\n",
       "        [-1.9480e-26, -2.7371e+00, -1.7703e+00, -6.6201e-01, -3.1131e-01,\n",
       "         -2.3539e+00, -1.3481e+00, -2.5553e+00, -7.3541e-01, -2.0971e+00,\n",
       "         -1.9003e+00, -2.9094e+00, -2.0021e+00, -1.7881e+00, -2.0215e+00,\n",
       "         -9.9906e-01, -1.3038e+00, -9.2532e-01, -7.7694e-01, -7.3408e-01,\n",
       "         -6.4833e-01, -7.9382e-01],\n",
       "        [-1.9480e-26, -2.4115e+00, -1.4501e+00, -2.3640e+00, -1.1377e+00,\n",
       "         -2.6948e+00, -1.6731e+00, -2.1722e+00, -1.2101e+00, -1.5259e+00,\n",
       "         -6.2639e-01, -1.5324e+00, -6.8612e-01, -4.7585e-01, -4.2490e-01,\n",
       "         -3.5304e-01, -3.3246e-01, -1.1387e+00, -2.2607e+00, -3.4469e+00,\n",
       "         -2.4030e+00, -3.1274e+00],\n",
       "        [-1.9480e-26, -2.7546e+00, -1.9530e+00, -2.2348e+00, -2.6940e+00,\n",
       "         -2.7035e+00, -2.0226e+00, -2.2546e+00, -9.2311e-01, -2.2266e+00,\n",
       "         -1.8884e+00, -2.2328e+00, -2.5400e+00, -2.0916e+00, -5.1491e-01,\n",
       "         -8.5446e-01, -9.1323e-01, -6.3477e-01, -3.5576e-01, -7.2280e-01,\n",
       "         -9.7241e-02, -1.2103e-01],\n",
       "        [-1.9480e-26, -1.9035e-01, -1.0670e+00, -4.8459e-02, -9.6311e-01,\n",
       "         -1.1282e+00, -3.7446e-01, -1.6464e-01, -7.3274e-01, -1.1924e-02,\n",
       "         -7.0983e-02, -3.9167e-01, -4.0808e-01, -2.7237e-01, -3.3353e-01,\n",
       "         -5.7593e-01, -7.9508e-01, -2.7413e+00, -2.0872e+00, -1.9087e+00,\n",
       "         -2.1497e+00, -7.3115e-01],\n",
       "        [-1.9480e-26, -8.6580e-01, -6.4335e-01, -3.7957e-01, -1.3138e+00,\n",
       "         -1.9320e+00, -1.5216e+00, -1.4782e+00, -1.3688e+00, -1.0554e-01,\n",
       "         -9.5378e-01, -1.0202e+00, -3.8960e-01, -1.0648e-01, -1.6823e-01,\n",
       "         -3.6674e-01, -4.5202e-01, -8.4509e-01, -8.8003e-01, -1.6118e+00,\n",
       "         -6.8892e-01, -1.2539e+00],\n",
       "        [-1.9480e-26, -6.5935e-01, -5.3528e-02, -4.7700e-01, -2.9954e-01,\n",
       "         -7.6065e-02, -4.8171e-01, -1.6786e-01, -9.4634e-01, -2.7533e-01,\n",
       "         -2.1719e-01, -1.6857e-01, -1.0161e-01, -9.0648e-02, -1.9065e-01,\n",
       "         -3.2530e-01, -1.4934e+00, -7.7244e-01, -1.8804e-01, -6.3089e-01,\n",
       "         -1.1462e+00, -2.2971e+00],\n",
       "        [-1.9480e-26, -1.7490e+00, -1.1539e+00, -1.4050e+00, -1.7493e+00,\n",
       "         -7.7582e-01, -1.4138e-01, -8.0980e-01, -1.9359e+00, -2.7229e+00,\n",
       "         -1.8175e+00, -2.3533e+00, -1.2096e+00, -1.6706e+00, -2.0626e+00,\n",
       "         -1.5338e+00, -1.6931e+00, -1.6881e+00, -1.4861e+00, -1.1068e+00,\n",
       "         -1.9423e+00, -1.5838e+00],\n",
       "        [-1.9480e-26, -7.4572e-01, -1.5039e+00, -2.0494e-01, -1.3054e+00,\n",
       "         -1.0010e+00, -7.0901e-01, -6.8880e-01, -1.2672e+00, -2.1309e-01,\n",
       "         -8.7077e-01, -1.5702e+00, -1.1691e+00, -1.3523e+00, -2.0094e+00,\n",
       "         -1.8760e+00, -1.4807e+00, -1.8874e+00, -7.4004e-01, -7.0392e-02,\n",
       "         -5.1889e-01, -7.1984e-01],\n",
       "        [-1.9480e-26, -2.6489e+00, -1.4501e+00, -1.5323e+00, -2.5558e+00,\n",
       "         -2.4969e+00, -1.9160e+00, -2.6360e+00, -2.3435e+00, -2.0025e+00,\n",
       "         -2.8339e+00, -1.7447e+00, -2.1808e+00, -2.4557e+00, -1.2236e+00,\n",
       "         -9.2683e-01, -2.5666e-01, -5.0541e-01, -3.1790e-01, -2.9285e-01,\n",
       "         -4.1445e-01, -9.2316e-01],\n",
       "        [-1.9480e-26, -7.6540e-02, -5.0564e-01, -1.8077e+00, -1.4503e+00,\n",
       "         -1.2145e+00, -1.8234e+00, -5.4027e-01, -1.7181e+00, -2.2451e+00,\n",
       "         -1.4123e+00, -6.9621e-01, -8.2476e-01, -2.8196e+00, -2.0539e+00,\n",
       "         -2.3639e+00, -2.8656e+00, -2.3537e+00, -1.6222e+00, -1.9812e+00,\n",
       "         -2.0763e-01, -7.9661e-01],\n",
       "        [-1.9480e-26, -6.7020e-02, -1.2176e+00, -3.3502e-01, -1.6776e+00,\n",
       "         -1.0316e-01, -4.8425e-01, -2.9851e-01, -2.1571e-01, -3.3465e-01,\n",
       "         -4.2412e-01, -2.5648e+00, -1.6814e+00, -2.7681e+00, -1.3700e+00,\n",
       "         -1.4888e+00, -2.2152e+00, -1.6807e+00, -1.8873e+00, -8.2793e-01,\n",
       "         -2.6431e-01, -2.2848e-01],\n",
       "        [-1.9480e-26, -3.9422e-02, -1.0196e-01, -2.3584e-02, -9.6041e-01,\n",
       "         -1.0080e+00, -1.7637e-01, -1.9750e-02, -1.3163e+00, -1.0635e+00,\n",
       "         -1.9256e+00, -7.0700e-01, -6.7998e-01, -2.1047e-01, -1.0997e-02,\n",
       "         -1.6987e-01, -1.2389e+00, -6.6772e-01, -2.1053e-01, -7.1057e-01,\n",
       "         -8.8184e-01, -1.2380e+00],\n",
       "        [-1.9480e-26, -1.0259e+00, -1.2741e+00, -2.7987e-02, -5.0586e-01,\n",
       "         -3.1587e-01, -2.4599e-01, -5.7544e-01, -7.9953e-01, -2.7213e+00,\n",
       "         -8.8806e-01, -1.7951e+00, -1.7166e+00, -1.8591e+00, -1.2406e+00,\n",
       "         -9.6265e-01, -3.4073e-01, -1.7843e-01, -2.2642e-01, -2.6260e-01,\n",
       "         -4.3566e-01, -1.0494e+00],\n",
       "        [-1.9480e-26, -9.5254e-01, -6.6971e-01, -2.5929e-01, -9.8782e-01,\n",
       "         -7.9599e-01, -7.5949e-01, -1.3844e+00, -1.6022e+00, -7.7344e-01,\n",
       "         -2.2933e-01, -1.4811e+00, -1.3709e+00, -1.1790e-01, -6.9232e-01,\n",
       "         -8.2537e-01, -1.6325e-01, -6.9939e-01, -2.4327e-01, -4.9723e-01,\n",
       "         -2.5793e-01, -3.7749e-01],\n",
       "        [-1.9480e-26, -3.0080e-01, -7.3804e-01, -5.0708e-01, -2.0981e-02,\n",
       "         -1.2917e+00, -5.7524e-01, -8.9637e-01, -1.2407e+00, -2.9298e-01,\n",
       "         -1.9904e-02, -4.6493e-01, -5.4032e-01, -4.2869e-01, -3.0809e+00,\n",
       "         -2.0962e+00, -1.8922e+00, -2.3224e+00, -1.5447e+00, -1.0964e+00,\n",
       "         -1.6823e+00, -2.2548e-01],\n",
       "        [-1.9480e-26, -2.2989e+00, -2.2267e+00, -1.7211e+00, -1.5862e+00,\n",
       "         -2.1984e+00, -1.6384e+00, -2.1021e+00, -1.5626e+00, -9.0202e-01,\n",
       "         -2.6366e+00, -1.9023e+00, -1.7198e+00, -2.1812e+00, -1.4564e+00,\n",
       "         -1.0325e+00, -8.4133e-01, -4.3142e-01, -2.7943e-01, -2.6359e-01,\n",
       "         -2.2660e-01, -3.7124e-01],\n",
       "        [-1.9480e-26, -5.7632e-01, -1.2897e+00, -1.9755e+00, -4.4632e-01,\n",
       "         -1.3368e+00, -1.4625e+00, -1.4064e+00, -2.3896e+00, -1.6013e+00,\n",
       "         -1.2732e+00, -1.3027e+00, -3.3905e-01, -9.6783e-02, -3.3418e-01,\n",
       "         -2.7514e-01, -4.4236e-01, -6.2476e-01, -2.2005e+00, -2.3535e+00,\n",
       "         -2.0035e-01, -2.1440e-01],\n",
       "        [-1.9480e-26, -1.3497e+00, -1.5161e+00, -1.7168e+00, -2.0075e+00,\n",
       "         -1.7417e+00, -1.2840e+00, -2.2907e+00, -2.3897e+00, -1.7572e+00,\n",
       "         -2.2713e+00, -1.2251e+00, -1.6964e+00, -2.2750e+00, -1.5066e+00,\n",
       "         -3.6942e-01, -4.3409e-01, -1.0737e+00, -2.0269e+00, -8.8021e-01,\n",
       "         -6.4219e-01, -6.2445e-01],\n",
       "        [-1.9480e-26, -1.6309e+00, -1.0707e+00, -1.1102e+00, -4.9588e-02,\n",
       "         -1.7262e+00, -5.7350e-01, -8.0695e-01, -3.6118e-01, -1.2043e+00,\n",
       "         -2.3314e-01, -2.8040e+00, -1.9215e+00, -5.7072e-01, -2.3001e+00,\n",
       "         -2.2616e+00, -1.1931e+00, -1.4009e+00, -1.4143e+00, -1.2762e+00,\n",
       "         -8.8133e-01, -4.5120e-01],\n",
       "        [-1.9480e-26, -2.5362e+00, -2.4904e+00, -1.5556e+00, -1.3866e+00,\n",
       "         -2.4163e+00, -1.0224e+00, -1.3095e+00, -2.6586e+00, -1.7718e+00,\n",
       "         -2.1938e+00, -2.0996e+00, -2.4177e+00, -8.7067e-01, -1.9686e+00,\n",
       "         -3.6683e-01, -2.8895e+00, -2.7665e+00, -2.3083e+00, -1.7758e+00,\n",
       "         -2.0116e+00, -6.7313e-01],\n",
       "        [-1.9480e-26, -3.7272e-05, -2.4925e-01, -3.3239e-03, -5.1714e-02,\n",
       "         -4.2427e-02, -1.2021e-01, -2.1135e-01, -4.8699e-01, -7.5380e-01,\n",
       "         -8.7577e-01, -2.7633e+00, -2.3504e+00, -2.4696e+00, -2.4857e+00,\n",
       "         -2.5471e+00, -2.7259e+00, -1.7651e+00, -2.4077e+00, -9.3331e-01,\n",
       "         -3.4541e-01, -4.5878e-01],\n",
       "        [-1.9480e-26, -5.5326e-01, -1.6937e-01, -1.2348e+00, -1.2716e+00,\n",
       "         -1.5360e-01, -8.8470e-01, -2.1836e-01, -5.9037e-01, -2.9081e+00,\n",
       "         -1.7775e+00, -2.2174e+00, -1.3872e+00, -6.4147e-01, -9.7553e-01,\n",
       "         -5.6707e-01, -9.3697e-01, -1.4212e+00, -2.3846e+00, -3.7141e+00,\n",
       "         -4.2327e+00, -4.0174e+00],\n",
       "        [-1.9480e-26, -1.9607e-02, -6.0267e-01, -9.5099e-01, -1.2137e+00,\n",
       "         -9.6154e-01, -1.7475e+00, -1.0964e+00, -1.4717e+00, -9.1935e-01,\n",
       "         -3.5234e-01, -1.3252e+00, -2.5877e+00, -1.3039e+00, -5.9623e-01,\n",
       "         -5.8693e-01, -6.6386e-01, -1.1918e+00, -9.0438e-01, -8.7177e-02,\n",
       "         -2.7527e-01, -3.4227e-01],\n",
       "        [-1.9480e-26, -1.0496e+00, -1.5158e+00, -1.8168e-01, -1.1611e+00,\n",
       "         -5.9447e-01, -4.6461e-01, -5.3496e-01, -7.9706e-01, -8.2643e-01,\n",
       "         -5.8394e-01, -4.5650e-01, -4.3410e-01, -4.5711e-01, -4.4621e-01,\n",
       "         -4.2522e-01, -4.0735e-01, -4.0885e-01, -4.2770e-01, -4.5284e-01,\n",
       "         -4.7456e-01, -4.9376e-01]], grad_fn=<SumBackward1>)"
      ]
     },
     "execution_count": 217,
     "metadata": {},
     "output_type": "execute_result"
    }
   ],
   "source": [
    "torch.sum(torch.exp(sample_logp) * sample_logp, dim=-1)"
   ]
  },
  {
   "cell_type": "code",
   "execution_count": 172,
   "metadata": {},
   "outputs": [
    {
     "data": {
      "text/plain": [
       "tensor([ 0, 33, 46, 36, 47, 40, 44, 33, 50, 36,  2, 48, 47, 44, 37, 46, 35, 37,\n",
       "        50,  1,  1])"
      ]
     },
     "execution_count": 172,
     "metadata": {},
     "output_type": "execute_result"
    }
   ],
   "source": [
    "sample_translations[1]"
   ]
  },
  {
   "cell_type": "code",
   "execution_count": 164,
   "metadata": {},
   "outputs": [
    {
     "data": {
      "text/plain": [
       "tensor([0, 1, 2, 3, 4, 5, 6, 7, 8, 9])"
      ]
     },
     "execution_count": 164,
     "metadata": {},
     "output_type": "execute_result"
    }
   ],
   "source": [
    "torch.arange(10)"
   ]
  },
  {
   "cell_type": "code",
   "execution_count": 120,
   "metadata": {
    "scrolled": true
   },
   "outputs": [
    {
     "data": {
      "text/plain": [
       "torch.Size([32, 22])"
      ]
     },
     "execution_count": 120,
     "metadata": {},
     "output_type": "execute_result"
    }
   ],
   "source": [
    "greedy_translations.shape"
   ]
  },
  {
   "cell_type": "code",
   "execution_count": 123,
   "metadata": {
    "scrolled": true
   },
   "outputs": [
    {
     "data": {
      "text/plain": [
       "tensor([  0, 121, 118, 129, 122,   2, 130, 122, 137, 122, 136, 118,   1,   1,\n",
       "          1,   1,   1,   1,   1,   1,   1,   1])"
      ]
     },
     "execution_count": 123,
     "metadata": {},
     "output_type": "execute_result"
    }
   ],
   "source": [
    "input_sequence[0]"
   ]
  },
  {
   "cell_type": "code",
   "execution_count": 125,
   "metadata": {},
   "outputs": [
    {
     "data": {
      "text/plain": [
       "tensor([ 0, 52, 47, 37, 46, 41,  2, 51, 41, 43, 50, 41, 47,  1,  1,  1,  2, 38,\n",
       "        15, 35, 15,  1])"
      ]
     },
     "execution_count": 125,
     "metadata": {},
     "output_type": "execute_result"
    }
   ],
   "source": [
    "greedy_translations[0]"
   ]
  },
  {
   "cell_type": "code",
   "execution_count": 121,
   "metadata": {
    "collapsed": true
   },
   "outputs": [
    {
     "ename": "AssertionError",
     "evalue": "wrong/unknown word",
     "output_type": "error",
     "traceback": [
      "\u001b[0;31m---------------------------------------------------------------------------\u001b[0m",
      "\u001b[0;31mAssertionError\u001b[0m                            Traceback (most recent call last)",
      "Cell \u001b[0;32mIn[121], line 1\u001b[0m\n\u001b[0;32m----> 1\u001b[0m \u001b[43mget_distance\u001b[49m\u001b[43m(\u001b[49m\u001b[43minput_sequence\u001b[49m\u001b[43m,\u001b[49m\u001b[43m \u001b[49m\u001b[43mgreedy_translations\u001b[49m\u001b[43m)\u001b[49m\n",
      "Cell \u001b[0;32mIn[81], line 10\u001b[0m, in \u001b[0;36mget_distance\u001b[0;34m(word, trans)\u001b[0m\n\u001b[1;32m      5\u001b[0m \u001b[38;5;124;03m\"\"\"\u001b[39;00m\n\u001b[1;32m      6\u001b[0m \u001b[38;5;124;03mA function that takes word and predicted translation\u001b[39;00m\n\u001b[1;32m      7\u001b[0m \u001b[38;5;124;03mand evaluates (Levenshtein's) edit distance to closest correct translation\u001b[39;00m\n\u001b[1;32m      8\u001b[0m \u001b[38;5;124;03m\"\"\"\u001b[39;00m\n\u001b[1;32m      9\u001b[0m references \u001b[38;5;241m=\u001b[39m word_to_translation[word]\n\u001b[0;32m---> 10\u001b[0m \u001b[38;5;28;01massert\u001b[39;00m \u001b[38;5;28mlen\u001b[39m(references) \u001b[38;5;241m!=\u001b[39m \u001b[38;5;241m0\u001b[39m, \u001b[38;5;124m\"\u001b[39m\u001b[38;5;124mwrong/unknown word\u001b[39m\u001b[38;5;124m\"\u001b[39m\n\u001b[1;32m     11\u001b[0m \u001b[38;5;28;01mreturn\u001b[39;00m \u001b[38;5;28mmin\u001b[39m(editdistance\u001b[38;5;241m.\u001b[39meval(trans, ref) \u001b[38;5;28;01mfor\u001b[39;00m ref \u001b[38;5;129;01min\u001b[39;00m references)\n",
      "\u001b[0;31mAssertionError\u001b[0m: wrong/unknown word"
     ]
    }
   ],
   "source": [
    "get_distance(input_sequence, greedy_translations)"
   ]
  },
  {
   "cell_type": "code",
   "execution_count": 130,
   "metadata": {
    "scrolled": true
   },
   "outputs": [
    {
     "data": {
      "text/plain": [
       "['toeni sikrio',\n",
       " 'endoryễh ploreden',\n",
       " 'janosh garai',\n",
       " 'hegotype',\n",
       " 'franço peri',\n",
       " 'parizlael zöltz',\n",
       " 'kuntaberry',\n",
       " 'mohammad aub-youtter',\n",
       " 'andreasosharísous',\n",
       " 'fangy torough',\n",
       " 'saper pitch',\n",
       " 'mercovice',\n",
       " 'hudoaker',\n",
       " 'skaliek',\n",
       " 'jo koks',\n",
       " 'gurk kymbas',\n",
       " 'fewarlein',\n",
       " 'deinamu haralkaya',\n",
       " 'lenux',\n",
       " '1000 damelosis',\n",
       " 'mettillencs',\n",
       " 'the music almato',\n",
       " 'breslin canea',\n",
       " 'coonom',\n",
       " 'filmwan prople',\n",
       " 'marin',\n",
       " 'shienderrald',\n",
       " 'calipa',\n",
       " 'her nati',\n",
       " 'perl',\n",
       " 'bodish pathans',\n",
       " 'ach snaging']"
      ]
     },
     "execution_count": 130,
     "metadata": {},
     "output_type": "execute_result"
    }
   ],
   "source": [
    "out_voc.to_lines(greedy_translations)"
   ]
  },
  {
   "cell_type": "code",
   "execution_count": 129,
   "metadata": {
    "scrolled": true
   },
   "outputs": [
    {
     "data": {
      "text/plain": [
       "['טוני סיריקו',\n",
       " 'אנדוהדרל פולרן',\n",
       " 'יאנוש גאראי',\n",
       " 'הגופיט',\n",
       " 'פרנסואה פירה',\n",
       " 'פאריזר פלאץ',\n",
       " 'קובנטרי',\n",
       " 'מוחמד אבו טיר',\n",
       " 'אנדרוסארכוס',\n",
       " 'קטגוריה:המטבח הצרפתי',\n",
       " 'קטגוריה:חובבות רדיו',\n",
       " \"מרקוביץ'\",\n",
       " 'אודואקר',\n",
       " 'סקיילייק',\n",
       " \"ג'ו קוקס\",\n",
       " 'גורם מבנה',\n",
       " 'פאוורוול',\n",
       " 'אצטדיון דינמו',\n",
       " 'לינוקס',\n",
       " '400 המלקות',\n",
       " 'metlink',\n",
       " 'שחף האנדים',\n",
       " 'ברסלין',\n",
       " 'cowon',\n",
       " 'מרחב מכפלה פנימית',\n",
       " 'מורין',\n",
       " 'קטגוריה:סינדרלה',\n",
       " 'קאליפה',\n",
       " 'הר ניתאי',\n",
       " 'perl',\n",
       " 'בודהיזם יפני',\n",
       " 'קטגוריה:בעלי קשקשים']"
      ]
     },
     "execution_count": 129,
     "metadata": {},
     "output_type": "execute_result"
    }
   ],
   "source": [
    "inp_voc.to_lines(input_sequence)"
   ]
  },
  {
   "cell_type": "code",
   "execution_count": 140,
   "metadata": {},
   "outputs": [
    {
     "data": {
      "text/plain": [
       "tensor([ -4, -12,  -3, -13,  -6,  -7,  -8,  -7,  -7, -11,  -9,  -5,  -3,  -4,\n",
       "         -3, -13, -12, -10,  -1, -11,  -6, -15,  -6,  -3, -14,  -1,  -6,  -3,\n",
       "         -7,   0, -11, -13])"
      ]
     },
     "execution_count": 140,
     "metadata": {},
     "output_type": "execute_result"
    }
   ],
   "source": [
    "compute_reward(input_sequence, greedy_translations)"
   ]
  },
  {
   "cell_type": "code",
   "execution_count": null,
   "metadata": {},
   "outputs": [],
   "source": [
    "to_one_hot(reference_answers, len(out_voc))"
   ]
  },
  {
   "cell_type": "code",
   "execution_count": 218,
   "metadata": {},
   "outputs": [],
   "source": [
    "def scst_objective_on_batch(input_sequence, max_len=MAX_OUTPUT_LENGTH):\n",
    "    \"\"\" Compute pseudo-loss for policy gradient given a batch of sources \"\"\"\n",
    "    input_sequence = torch.tensor(inp_voc.to_matrix(input_sequence), dtype=torch.int64)\n",
    "\n",
    "    # use model to __sample__ symbolic translations given input_sequence\n",
    "    sample_translations, sample_logp = model.translate(input_sequence, greedy=False, max_len=max_len)#<YOUR CODE>\n",
    "    \n",
    "    # use model to __greedy__ symbolic translations given input_sequence\n",
    "    greedy_translations, greedy_logp = model.translate(input_sequence, greedy=False, max_len=max_len)#<YOUR CODE>\n",
    "\n",
    "    # compute rewards and advantage\n",
    "    rewards = compute_reward(input_sequence, sample_translations)\n",
    "    baseline = compute_reward(input_sequence, greedy_translations)#<YOUR CODE: compute __negative__ levenshtein for greedy mode>\n",
    "\n",
    "    # compute advantage using rewards and baseline\n",
    "    advantage =  rewards - baseline\n",
    "\n",
    "    # compute log_pi(a_t|s_t), shape = [batch, seq_length]\n",
    "    logp_sample = torch.zeros(sample_logp.shape[0], sample_logp.shape[1])\n",
    "    for n, p_tens in enumerate(sample_logp):\n",
    "        logp_sample[n] = p_tens[ torch.arange(len(sample_translations[n])), sample_translations[n] ]\n",
    "#     logp_sample = <YOUR CODE>\n",
    "\n",
    "    # ^-- hint: look at how crossentropy is implemented in supervised learning loss above\n",
    "    # mind the sign - this one should not be multiplied by -1 :)\n",
    "\n",
    "    # policy gradient pseudo-loss. Gradient of J is exactly policy gradient.\n",
    "    J = logp_sample * advantage[:, None]\n",
    "\n",
    "    assert J.dim() == 2, \"please return elementwise objective, don't compute mean just yet\"\n",
    "\n",
    "    # average with mask\n",
    "    mask = infer_mask(sample_translations, out_voc.eos_ix)\n",
    "    loss = - torch.sum(J * mask) / torch.sum(mask)\n",
    "\n",
    "    # regularize with negative entropy. Don't forget the sign!\n",
    "    # note: for entropy you need probabilities for all tokens (sample_logp), not just logp_sample\n",
    "    entropy = -torch.sum(torch.exp(sample_logp) * sample_logp, dim=-1)\n",
    "#     <YOUR CODE: compute entropy matrix of shape[batch, seq_length], H = -sum(p*log_p), don't forget the sign!>\n",
    "    # hint: you can get sample probabilities from sample_logp using math :)\n",
    "\n",
    "    assert entropy.dim(\n",
    "    ) == 2, \"please make sure elementwise entropy is of shape [batch,time]\"\n",
    "\n",
    "    reg = - 0.01 * torch.sum(entropy * mask) / torch.sum(mask)\n",
    "\n",
    "    return loss + reg, torch.sum(entropy * mask) / torch.sum(mask)"
   ]
  },
  {
   "cell_type": "markdown",
   "metadata": {},
   "source": [
    "# Policy gradient training\n"
   ]
  },
  {
   "cell_type": "code",
   "execution_count": 219,
   "metadata": {},
   "outputs": [],
   "source": [
    "entropy_history = [np.nan] * len(loss_history)\n",
    "opt = torch.optim.Adam(model.parameters(), lr=1e-5)"
   ]
  },
  {
   "cell_type": "code",
   "execution_count": 220,
   "metadata": {},
   "outputs": [
    {
     "data": {
      "image/png": "[encoded data removed]",
      "text/plain": [
       "<Figure size 1200x400 with 3 Axes>"
      ]
     },
     "metadata": {},
     "output_type": "display_data"
    },
    {
     "name": "stderr",
     "output_type": "stream",
     "text": [
      "  4%|█████▌                                                                                                                                                         | 3501/100000 [07:01<5:15:31,  5.10it/s]"
     ]
    },
    {
     "name": "stdout",
     "output_type": "stream",
     "text": [
      "J=-0.251, mean score=11.100\n"
     ]
    },
    {
     "name": "stderr",
     "output_type": "stream",
     "text": [
      "  4%|█████▌                                                                                                                                                         | 3509/100000 [07:02<3:13:37,  8.31it/s]\n"
     ]
    },
    {
     "ename": "KeyboardInterrupt",
     "evalue": "",
     "output_type": "error",
     "traceback": [
      "\u001b[0;31m---------------------------------------------------------------------------\u001b[0m",
      "\u001b[0;31mKeyboardInterrupt\u001b[0m                         Traceback (most recent call last)",
      "Cell \u001b[0;32mIn[220], line 2\u001b[0m\n\u001b[1;32m      1\u001b[0m \u001b[38;5;28;01mfor\u001b[39;00m i \u001b[38;5;129;01min\u001b[39;00m trange(\u001b[38;5;241m100000\u001b[39m):\n\u001b[0;32m----> 2\u001b[0m     loss, ent \u001b[38;5;241m=\u001b[39m \u001b[43mscst_objective_on_batch\u001b[49m\u001b[43m(\u001b[49m\n\u001b[1;32m      3\u001b[0m \u001b[43m        \u001b[49m\u001b[43msample_batch\u001b[49m\u001b[43m(\u001b[49m\u001b[43mtrain_words\u001b[49m\u001b[43m,\u001b[49m\u001b[43m \u001b[49m\u001b[43mword_to_translation\u001b[49m\u001b[43m,\u001b[49m\u001b[43m \u001b[49m\u001b[38;5;241;43m32\u001b[39;49m\u001b[43m)\u001b[49m\u001b[43m[\u001b[49m\u001b[38;5;241;43m0\u001b[39;49m\u001b[43m]\u001b[49m\u001b[43m)\u001b[49m  \u001b[38;5;66;03m# [0] = only source sentence\u001b[39;00m\n\u001b[1;32m      5\u001b[0m     \u001b[38;5;66;03m# train with backprop\u001b[39;00m\n\u001b[1;32m      6\u001b[0m     loss\u001b[38;5;241m.\u001b[39mbackward()\n",
      "Cell \u001b[0;32mIn[218], line 9\u001b[0m, in \u001b[0;36mscst_objective_on_batch\u001b[0;34m(input_sequence, max_len)\u001b[0m\n\u001b[1;32m      6\u001b[0m sample_translations, sample_logp \u001b[38;5;241m=\u001b[39m model\u001b[38;5;241m.\u001b[39mtranslate(input_sequence, greedy\u001b[38;5;241m=\u001b[39m\u001b[38;5;28;01mFalse\u001b[39;00m, max_len\u001b[38;5;241m=\u001b[39mmax_len)\u001b[38;5;66;03m#<YOUR CODE>\u001b[39;00m\n\u001b[1;32m      8\u001b[0m \u001b[38;5;66;03m# use model to __greedy__ symbolic translations given input_sequence\u001b[39;00m\n\u001b[0;32m----> 9\u001b[0m greedy_translations, greedy_logp \u001b[38;5;241m=\u001b[39m \u001b[43mmodel\u001b[49m\u001b[38;5;241;43m.\u001b[39;49m\u001b[43mtranslate\u001b[49m\u001b[43m(\u001b[49m\u001b[43minput_sequence\u001b[49m\u001b[43m,\u001b[49m\u001b[43m \u001b[49m\u001b[43mgreedy\u001b[49m\u001b[38;5;241;43m=\u001b[39;49m\u001b[38;5;28;43;01mFalse\u001b[39;49;00m\u001b[43m,\u001b[49m\u001b[43m \u001b[49m\u001b[43mmax_len\u001b[49m\u001b[38;5;241;43m=\u001b[39;49m\u001b[43mmax_len\u001b[49m\u001b[43m)\u001b[49m\u001b[38;5;66;03m#<YOUR CODE>\u001b[39;00m\n\u001b[1;32m     11\u001b[0m \u001b[38;5;66;03m# compute rewards and advantage\u001b[39;00m\n\u001b[1;32m     12\u001b[0m rewards \u001b[38;5;241m=\u001b[39m compute_reward(input_sequence, sample_translations)\n",
      "File \u001b[0;32m~/Documents/Обучение/RL/Practical_RL_course/week07_seq2seq/basic_model_torch.py:108\u001b[0m, in \u001b[0;36mBasicTranslationModel.translate\u001b[0;34m(self, inp, greedy, max_len, eps, **flags)\u001b[0m\n\u001b[1;32m    106\u001b[0m hid_state \u001b[38;5;241m=\u001b[39m \u001b[38;5;28mself\u001b[39m\u001b[38;5;241m.\u001b[39mencode(inp, \u001b[38;5;241m*\u001b[39m\u001b[38;5;241m*\u001b[39mflags)\n\u001b[1;32m    107\u001b[0m \u001b[38;5;28;01mwhile\u001b[39;00m \u001b[38;5;28;01mTrue\u001b[39;00m:\n\u001b[0;32m--> 108\u001b[0m     hid_state, logits \u001b[38;5;241m=\u001b[39m \u001b[38;5;28;43mself\u001b[39;49m\u001b[38;5;241;43m.\u001b[39;49m\u001b[43mdecode\u001b[49m\u001b[43m(\u001b[49m\u001b[43mhid_state\u001b[49m\u001b[43m,\u001b[49m\u001b[43m \u001b[49m\u001b[43mout_seq\u001b[49m\u001b[43m[\u001b[49m\u001b[38;5;241;43m-\u001b[39;49m\u001b[38;5;241;43m1\u001b[39;49m\u001b[43m]\u001b[49m\u001b[43m,\u001b[49m\u001b[43m \u001b[49m\u001b[38;5;241;43m*\u001b[39;49m\u001b[38;5;241;43m*\u001b[39;49m\u001b[43mflags\u001b[49m\u001b[43m)\u001b[49m\n\u001b[1;32m    109\u001b[0m     \u001b[38;5;28;01mif\u001b[39;00m greedy:\n\u001b[1;32m    110\u001b[0m         _, y_t \u001b[38;5;241m=\u001b[39m torch\u001b[38;5;241m.\u001b[39mmax(logits, dim\u001b[38;5;241m=\u001b[39m\u001b[38;5;241m-\u001b[39m\u001b[38;5;241m1\u001b[39m)\n",
      "File \u001b[0;32m~/Documents/Обучение/RL/Practical_RL_course/week07_seq2seq/basic_model_torch.py:51\u001b[0m, in \u001b[0;36mBasicTranslationModel.decode\u001b[0;34m(self, prev_state, prev_tokens, **flags)\u001b[0m\n\u001b[1;32m     48\u001b[0m [prev_dec] \u001b[38;5;241m=\u001b[39m prev_state\n\u001b[1;32m     50\u001b[0m prev_emb \u001b[38;5;241m=\u001b[39m \u001b[38;5;28mself\u001b[39m\u001b[38;5;241m.\u001b[39memb_out(prev_tokens)\n\u001b[0;32m---> 51\u001b[0m new_dec_state \u001b[38;5;241m=\u001b[39m \u001b[38;5;28;43mself\u001b[39;49m\u001b[38;5;241;43m.\u001b[39;49m\u001b[43mdec0\u001b[49m\u001b[43m(\u001b[49m\u001b[43mprev_emb\u001b[49m\u001b[43m,\u001b[49m\u001b[43m \u001b[49m\u001b[43mprev_dec\u001b[49m\u001b[43m)\u001b[49m\n\u001b[1;32m     52\u001b[0m output_logits \u001b[38;5;241m=\u001b[39m \u001b[38;5;28mself\u001b[39m\u001b[38;5;241m.\u001b[39mlogits(new_dec_state)\n\u001b[1;32m     54\u001b[0m \u001b[38;5;28;01mreturn\u001b[39;00m [new_dec_state], output_logits\n",
      "File \u001b[0;32m~/.local/share/virtualenvs/Practical_RL_course-acchW1SA/lib/python3.10/site-packages/torch/nn/modules/module.py:1190\u001b[0m, in \u001b[0;36mModule._call_impl\u001b[0;34m(self, *input, **kwargs)\u001b[0m\n\u001b[1;32m   1186\u001b[0m \u001b[38;5;66;03m# If we don't have any hooks, we want to skip the rest of the logic in\u001b[39;00m\n\u001b[1;32m   1187\u001b[0m \u001b[38;5;66;03m# this function, and just call forward.\u001b[39;00m\n\u001b[1;32m   1188\u001b[0m \u001b[38;5;28;01mif\u001b[39;00m \u001b[38;5;129;01mnot\u001b[39;00m (\u001b[38;5;28mself\u001b[39m\u001b[38;5;241m.\u001b[39m_backward_hooks \u001b[38;5;129;01mor\u001b[39;00m \u001b[38;5;28mself\u001b[39m\u001b[38;5;241m.\u001b[39m_forward_hooks \u001b[38;5;129;01mor\u001b[39;00m \u001b[38;5;28mself\u001b[39m\u001b[38;5;241m.\u001b[39m_forward_pre_hooks \u001b[38;5;129;01mor\u001b[39;00m _global_backward_hooks\n\u001b[1;32m   1189\u001b[0m         \u001b[38;5;129;01mor\u001b[39;00m _global_forward_hooks \u001b[38;5;129;01mor\u001b[39;00m _global_forward_pre_hooks):\n\u001b[0;32m-> 1190\u001b[0m     \u001b[38;5;28;01mreturn\u001b[39;00m \u001b[43mforward_call\u001b[49m\u001b[43m(\u001b[49m\u001b[38;5;241;43m*\u001b[39;49m\u001b[38;5;28;43minput\u001b[39;49m\u001b[43m,\u001b[49m\u001b[43m \u001b[49m\u001b[38;5;241;43m*\u001b[39;49m\u001b[38;5;241;43m*\u001b[39;49m\u001b[43mkwargs\u001b[49m\u001b[43m)\u001b[49m\n\u001b[1;32m   1191\u001b[0m \u001b[38;5;66;03m# Do not call functions when jit is used\u001b[39;00m\n\u001b[1;32m   1192\u001b[0m full_backward_hooks, non_full_backward_hooks \u001b[38;5;241m=\u001b[39m [], []\n",
      "File \u001b[0;32m~/.local/share/virtualenvs/Practical_RL_course-acchW1SA/lib/python3.10/site-packages/torch/nn/modules/rnn.py:1284\u001b[0m, in \u001b[0;36mGRUCell.forward\u001b[0;34m(self, input, hx)\u001b[0m\n\u001b[1;32m   1281\u001b[0m \u001b[38;5;28;01melse\u001b[39;00m:\n\u001b[1;32m   1282\u001b[0m     hx \u001b[38;5;241m=\u001b[39m hx\u001b[38;5;241m.\u001b[39munsqueeze(\u001b[38;5;241m0\u001b[39m) \u001b[38;5;28;01mif\u001b[39;00m \u001b[38;5;129;01mnot\u001b[39;00m is_batched \u001b[38;5;28;01melse\u001b[39;00m hx\n\u001b[0;32m-> 1284\u001b[0m ret \u001b[38;5;241m=\u001b[39m \u001b[43m_VF\u001b[49m\u001b[38;5;241;43m.\u001b[39;49m\u001b[43mgru_cell\u001b[49m(\n\u001b[1;32m   1285\u001b[0m     \u001b[38;5;28minput\u001b[39m, hx,\n\u001b[1;32m   1286\u001b[0m     \u001b[38;5;28mself\u001b[39m\u001b[38;5;241m.\u001b[39mweight_ih, \u001b[38;5;28mself\u001b[39m\u001b[38;5;241m.\u001b[39mweight_hh,\n\u001b[1;32m   1287\u001b[0m     \u001b[38;5;28mself\u001b[39m\u001b[38;5;241m.\u001b[39mbias_ih, \u001b[38;5;28mself\u001b[39m\u001b[38;5;241m.\u001b[39mbias_hh,\n\u001b[1;32m   1288\u001b[0m )\n\u001b[1;32m   1290\u001b[0m \u001b[38;5;28;01mif\u001b[39;00m \u001b[38;5;129;01mnot\u001b[39;00m is_batched:\n\u001b[1;32m   1291\u001b[0m     ret \u001b[38;5;241m=\u001b[39m ret\u001b[38;5;241m.\u001b[39msqueeze(\u001b[38;5;241m0\u001b[39m)\n",
      "File \u001b[0;32m~/.local/share/virtualenvs/Practical_RL_course-acchW1SA/lib/python3.10/site-packages/torch/_VF.py:26\u001b[0m, in \u001b[0;36mVFModule.__getattr__\u001b[0;34m(self, attr)\u001b[0m\n\u001b[1;32m     23\u001b[0m     \u001b[38;5;28msuper\u001b[39m(VFModule, \u001b[38;5;28mself\u001b[39m)\u001b[38;5;241m.\u001b[39m\u001b[38;5;21m__init__\u001b[39m(name)\n\u001b[1;32m     24\u001b[0m     \u001b[38;5;28mself\u001b[39m\u001b[38;5;241m.\u001b[39mvf \u001b[38;5;241m=\u001b[39m torch\u001b[38;5;241m.\u001b[39m_C\u001b[38;5;241m.\u001b[39m_VariableFunctions\n\u001b[0;32m---> 26\u001b[0m \u001b[38;5;28;01mdef\u001b[39;00m \u001b[38;5;21m__getattr__\u001b[39m(\u001b[38;5;28mself\u001b[39m, attr):\n\u001b[1;32m     27\u001b[0m     \u001b[38;5;28;01mreturn\u001b[39;00m \u001b[38;5;28mgetattr\u001b[39m(\u001b[38;5;28mself\u001b[39m\u001b[38;5;241m.\u001b[39mvf, attr)\n",
      "\u001b[0;31mKeyboardInterrupt\u001b[0m: "
     ]
    }
   ],
   "source": [
    "for i in trange(100000):\n",
    "    loss, ent = scst_objective_on_batch(\n",
    "        sample_batch(train_words, word_to_translation, 32)[0])  # [0] = only source sentence\n",
    "\n",
    "    # train with backprop\n",
    "    loss.backward()\n",
    "    opt.step()\n",
    "    opt.zero_grad()\n",
    "\n",
    "    loss_history.append(loss.item())\n",
    "    entropy_history.append(ent.item())\n",
    "\n",
    "    if (i+1) % REPORT_FREQ == 0:\n",
    "        clear_output(True)\n",
    "        current_scores = score(test_words)\n",
    "        editdist_history.append(current_scores.mean())\n",
    "        plt.figure(figsize=(12, 4))\n",
    "        plt.subplot(131)\n",
    "        plt.title('val score distribution')\n",
    "        plt.hist(current_scores, bins=20)\n",
    "        plt.subplot(132)\n",
    "        plt.title('val score / traning time')\n",
    "        plt.plot(editdist_history)\n",
    "        plt.grid()\n",
    "        plt.subplot(133)\n",
    "        plt.title('policy entropy / traning time')\n",
    "        plt.plot(entropy_history)\n",
    "        plt.grid()\n",
    "        plt.show()\n",
    "        print(\"J=%.3f, mean score=%.3f\" %\n",
    "              (np.mean(loss_history[-10:]), np.mean(editdist_history[-10:])))"
   ]
  },
  {
   "cell_type": "markdown",
   "metadata": {},
   "source": [
    "__Debugging tips:__\n",
    "<img src=https://github.com/yandexdataschool/Practical_RL/raw/master/yet_another_week/_resource/do_something_scst.png width=400>\n",
    "\n",
    " * As usual, don't expect improvements right away, but in general the model should be able to show some positive changes by 5k steps.\n",
    " * Entropy is a good indicator of many problems.\n",
    "   * If it reaches zero, you may need greater entropy regularizer.\n",
    "   * If it has rapid changes time to time, you may need gradient clipping.\n",
    "   * If it oscillates up and down in an erratic manner... it's perfectly okay for entropy to do so. But it should decrease at the end.\n",
    "\n",
    " * We don't show loss_history cuz it's uninformative for pseudo-losses in policy gradient. However, if something goes wrong you can check it to see if everything isn't a constant zero."
   ]
  },
  {
   "cell_type": "markdown",
   "metadata": {},
   "source": [
    "### Results"
   ]
  },
  {
   "cell_type": "code",
   "execution_count": null,
   "metadata": {},
   "outputs": [],
   "source": [
    "for word in train_words[:10]:\n",
    "    print(\"%s -> %s\" % (word, translate([word])[0]))"
   ]
  },
  {
   "cell_type": "code",
   "execution_count": null,
   "metadata": {},
   "outputs": [],
   "source": [
    "test_scores = []\n",
    "for start_i in trange(0, len(test_words), 32):\n",
    "    batch_words = test_words[start_i:start_i+32]\n",
    "    batch_trans = translate(batch_words)\n",
    "    distances = list(map(get_distance, batch_words, batch_trans))\n",
    "    test_scores.extend(distances)\n",
    "print(\"Supervised test score:\", np.mean(test_scores))\n",
    "\n",
    "# ^^ If you get Out Of MemoryError, please replace this with batched computation"
   ]
  },
  {
   "cell_type": "markdown",
   "metadata": {},
   "source": [
    "## Step 6: Make it actually work (5++ pts)\n",
    "\n",
    "In this section, we want you to finally __restart with EASY_MODE=False__ and experiment to find a good model/curriculum for that task.\n",
    "\n",
    "We recommend you to start with the following architecture\n",
    "\n",
    "```\n",
    "encoder---decoder\n",
    "\n",
    "           P(y|h)\n",
    "             ^\n",
    " LSTM  ->   LSTM\n",
    "  ^          ^\n",
    " biLSTM  ->   LSTM\n",
    "  ^          ^\n",
    "input       y_prev\n",
    "```\n",
    "\n",
    "__Note:__ you can fit all 4 state tensors of both LSTMs into in a single state - just assume that it contains, for example, [h0, c0, h1, c1] - pack it in encode and update in decode.\n",
    "\n",
    "\n",
    "Here are some cool ideas on what you can do then.\n",
    "\n",
    "__General tips & tricks:__\n",
    "* You will likely need to adjust pre-training time for such a network.\n",
    "* Supervised pre-training may benefit from clipping gradients somehow.\n",
    "* SCST may indulge a higher learning rate in some cases and changing entropy regularizer over time.\n",
    "* It's often useful to save pre-trained model parameters to not re-train it every time you want new policy gradient parameters.\n",
    "* When leaving training for nighttime, try setting REPORT_FREQ to a larger value (e.g. 500) not to waste time on it.\n",
    "\n",
    "__Formal criteria:__\n",
    "To get 5 points, we want you to build an architecture that:\n",
    "* _doesn't consist of single GRU_\n",
    "* _works better_ than single GRU baseline.\n",
    "* We also want you to provide either learning curve or trained model, preferably both\n",
    "* ... and write a brief report or experiment log describing what you did and how it fared.\n",
    "\n",
    "### Attention\n",
    "There's more than one way to connect decoder to encoder\n",
    "  * __Vanilla:__ layer_i of encoder last state goes to layer_i of decoder initial state\n",
    "  * __Every tick:__ feed encoder last state _on every iteration_ of decoder.\n",
    "  * __Attention:__ allow decoder to \"peek\" at one (or several) positions of encoded sequence on every tick.\n",
    "\n",
    "The most effective (and cool) of those is, of course, attention.\n",
    "You can read more about attention [in this nice blog post](https://distill.pub/2016/augmented-rnns/). The easiest way to begin is to use \"soft\" attention with \"additive\" or \"dot-product\" intermediate layers.\n",
    "\n",
    "__Tips__\n",
    "* Model usually generalizes better if you no longer allow decoder to see final encoder state\n",
    "* Once your model made it through several epochs, it is a good idea to visualize attention maps to understand what your model has actually learned\n",
    "\n",
    "* There's more stuff [here](bonus_pytorch.ipynb)\n",
    "* If you opted for hard attention, we recommend [gumbel-softmax](https://blog.evjang.com/2016/11/tutorial-categorical-variational.html) instead of sampling. Also, please make sure soft attention works fine before you switch to hard.\n",
    "\n",
    "### UREX\n",
    "* This is a way to improve exploration in policy-based settings. The main idea is that you find and upweight under-appreciated actions.\n",
    "* Here's [video](https://www.youtube.com/watch?v=fZNyHoXgV7M&feature=youtu.be&t=3444)\n",
    " and an [article](https://arxiv.org/abs/1611.09321).\n",
    "* You may want to reduce batch size 'cuz UREX requires you to sample multiple times per source sentence.\n",
    "* Once you got it working, try using experience replay with importance sampling instead of (in addition to) basic UREX.\n",
    "\n",
    "### Some additional ideas:\n",
    "* (advanced deep learning) It may be a good idea to first train on small phrases and then adapt to larger ones (a.k.a. training curriculum).\n",
    "* (advanced nlp) You may want to switch from raw utf8 to something like unicode or even syllables to make the task easier.\n",
    "* (advanced nlp) Since Hebrew words are written __with vowels omitted__, you may want to use a small Hebrew vowel markup dataset at `he-pron-wiktionary.txt`.\n",
    "\n"
   ]
  },
  {
   "cell_type": "code",
   "execution_count": null,
   "metadata": {},
   "outputs": [],
   "source": [
    "assert not EASY_MODE, \"make sure you set EASY_MODE = False at the top of the notebook.\""
   ]
  },
  {
   "cell_type": "markdown",
   "metadata": {},
   "source": [
    "`[your report/log here or anywhere you please]`"
   ]
  },
  {
   "cell_type": "markdown",
   "metadata": {},
   "source": [
    "__Contributions:__ This notebook is brought to you by\n",
    "* Yandex [MT team](https://tech.yandex.com/translate/)\n",
    "* Denis Mazur ([DeniskaMazur](https://github.com/DeniskaMazur)), Oleg Vasilev ([Omrigan](https://github.com/Omrigan/)), Dmitry Emelyanenko ([TixFeniks](https://github.com/tixfeniks)) and Fedor Ratnikov ([justheuristic](https://github.com/justheuristic/))\n",
    "* Dataset is parsed from [Wiktionary](https://en.wiktionary.org), which is under CC-BY-SA and GFDL licenses.\n"
   ]
  }
 ],
 "metadata": {
  "kernelspec": {
   "display_name": "practical_rl_course",
   "language": "python",
   "name": "practical_rl_course"
  },
  "language_info": {
   "codemirror_mode": {
    "name": "ipython",
    "version": 3
   },
   "file_extension": ".py",
   "mimetype": "text/x-python",
   "name": "python",
   "nbconvert_exporter": "python",
   "pygments_lexer": "ipython3",
   "version": "3.10.8"
  }
 },
 "nbformat": 4,
 "nbformat_minor": 1
}
