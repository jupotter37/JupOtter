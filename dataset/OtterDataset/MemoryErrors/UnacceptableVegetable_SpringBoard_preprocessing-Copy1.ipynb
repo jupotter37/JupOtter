{
 "cells": [
  {
   "cell_type": "code",
   "execution_count": 1,
   "id": "b7551692",
   "metadata": {},
   "outputs": [],
   "source": [
    "import numpy as np\n",
    "import pandas as pd\n",
    "import matplotlib.pyplot as plt\n",
    "from sklearn.linear_model import LinearRegression\n",
    "from sklearn.model_selection import TimeSeriesSplit\n",
    "from sklearn.model_selection import KFold\n",
    "from sklearn.metrics import r2_score\n",
    "from sklearn.preprocessing import StandardScaler, RobustScaler, PowerTransformer\n",
    "from sklearn.pipeline import Pipeline\n",
    "from sklearn.model_selection import GridSearchCV"
   ]
  },
  {
   "cell_type": "markdown",
   "id": "6f4a852e",
   "metadata": {},
   "source": [
    "First I need to take 'DS_PM_stdd','station','date' out of my default df_SF file and index by 'valid' datetime. Also, I did one hot encoding for location. I will export it as \"df_SFindex.csv\"."
   ]
  },
  {
   "cell_type": "code",
   "execution_count": 7,
   "id": "a651f088",
   "metadata": {},
   "outputs": [],
   "source": [
    "df = pd.read_csv('df_SF.csv')\n",
    "df.drop(['DS_PM_stdd','station','date'],axis=1,inplace=True)\n",
    "df['valid']=pd.to_datetime(df['valid'])\n",
    "df = df.sort_values(by='valid')\n",
    "df = df.set_index('valid')\n",
    "\n",
    "#location = [x for x in zip(df.lon,df.lat)]\n",
    "#df.drop(['lon','lat'],axis=1,inplace=True)\n",
    "#df['location'] = location\n",
    "#df = pd.get_dummies(df,columns=['location'],drop_first=True, dtype=int)\n",
    "\n",
    "#df.to_csv(\"df_SFindex.csv\",index_label=False)"
   ]
  },
  {
   "cell_type": "code",
   "execution_count": 2,
   "id": "f5c8c39a",
   "metadata": {},
   "outputs": [],
   "source": [
    "df = pd.read_csv(\"df_SF.csv\")"
   ]
  },
  {
   "cell_type": "code",
   "execution_count": null,
   "id": "c4e94281",
   "metadata": {},
   "outputs": [],
   "source": []
  },
  {
   "cell_type": "code",
   "execution_count": 8,
   "id": "84a34cc2",
   "metadata": {
    "scrolled": true
   },
   "outputs": [
    {
     "data": {
      "text/html": [
       "<div>\n",
       "<style scoped>\n",
       "    .dataframe tbody tr th:only-of-type {\n",
       "        vertical-align: middle;\n",
       "    }\n",
       "\n",
       "    .dataframe tbody tr th {\n",
       "        vertical-align: top;\n",
       "    }\n",
       "\n",
       "    .dataframe thead th {\n",
       "        text-align: right;\n",
       "    }\n",
       "</style>\n",
       "<table border=\"1\" class=\"dataframe\">\n",
       "  <thead>\n",
       "    <tr style=\"text-align: right;\">\n",
       "      <th></th>\n",
       "      <th>DS_PM_pred</th>\n",
       "      <th>lon</th>\n",
       "      <th>lat</th>\n",
       "      <th>tmpf</th>\n",
       "      <th>relh</th>\n",
       "      <th>drct</th>\n",
       "      <th>sped</th>\n",
       "    </tr>\n",
       "    <tr>\n",
       "      <th>valid</th>\n",
       "      <th></th>\n",
       "      <th></th>\n",
       "      <th></th>\n",
       "      <th></th>\n",
       "      <th></th>\n",
       "      <th></th>\n",
       "      <th></th>\n",
       "    </tr>\n",
       "  </thead>\n",
       "  <tbody>\n",
       "    <tr>\n",
       "      <th>2018-01-01 00:56:00</th>\n",
       "      <td>23.108</td>\n",
       "      <td>-122.45246</td>\n",
       "      <td>37.78873</td>\n",
       "      <td>57.0</td>\n",
       "      <td>71.81</td>\n",
       "      <td>200.0</td>\n",
       "      <td>3.45</td>\n",
       "    </tr>\n",
       "    <tr>\n",
       "      <th>2018-01-01 00:56:00</th>\n",
       "      <td>23.306</td>\n",
       "      <td>-122.48726</td>\n",
       "      <td>37.73220</td>\n",
       "      <td>57.0</td>\n",
       "      <td>71.81</td>\n",
       "      <td>200.0</td>\n",
       "      <td>3.45</td>\n",
       "    </tr>\n",
       "    <tr>\n",
       "      <th>2018-01-01 00:56:00</th>\n",
       "      <td>25.277</td>\n",
       "      <td>-122.40327</td>\n",
       "      <td>37.71649</td>\n",
       "      <td>57.0</td>\n",
       "      <td>71.81</td>\n",
       "      <td>200.0</td>\n",
       "      <td>3.45</td>\n",
       "    </tr>\n",
       "    <tr>\n",
       "      <th>2018-01-01 00:56:00</th>\n",
       "      <td>26.857</td>\n",
       "      <td>-122.39020</td>\n",
       "      <td>37.60495</td>\n",
       "      <td>57.0</td>\n",
       "      <td>71.81</td>\n",
       "      <td>200.0</td>\n",
       "      <td>3.45</td>\n",
       "    </tr>\n",
       "    <tr>\n",
       "      <th>2018-01-01 00:56:00</th>\n",
       "      <td>23.484</td>\n",
       "      <td>-122.44441</td>\n",
       "      <td>37.75284</td>\n",
       "      <td>57.0</td>\n",
       "      <td>71.81</td>\n",
       "      <td>200.0</td>\n",
       "      <td>3.45</td>\n",
       "    </tr>\n",
       "    <tr>\n",
       "      <th>...</th>\n",
       "      <td>...</td>\n",
       "      <td>...</td>\n",
       "      <td>...</td>\n",
       "      <td>...</td>\n",
       "      <td>...</td>\n",
       "      <td>...</td>\n",
       "      <td>...</td>\n",
       "    </tr>\n",
       "    <tr>\n",
       "      <th>2019-12-30 23:56:00</th>\n",
       "      <td>7.617</td>\n",
       "      <td>-122.41915</td>\n",
       "      <td>37.75944</td>\n",
       "      <td>56.0</td>\n",
       "      <td>71.69</td>\n",
       "      <td>280.0</td>\n",
       "      <td>12.65</td>\n",
       "    </tr>\n",
       "    <tr>\n",
       "      <th>2019-12-30 23:56:00</th>\n",
       "      <td>6.589</td>\n",
       "      <td>-122.49274</td>\n",
       "      <td>37.67840</td>\n",
       "      <td>56.0</td>\n",
       "      <td>71.69</td>\n",
       "      <td>280.0</td>\n",
       "      <td>12.65</td>\n",
       "    </tr>\n",
       "    <tr>\n",
       "      <th>2019-12-30 23:56:00</th>\n",
       "      <td>7.137</td>\n",
       "      <td>-122.46136</td>\n",
       "      <td>37.77758</td>\n",
       "      <td>56.0</td>\n",
       "      <td>71.69</td>\n",
       "      <td>280.0</td>\n",
       "      <td>12.65</td>\n",
       "    </tr>\n",
       "    <tr>\n",
       "      <th>2019-12-30 23:56:00</th>\n",
       "      <td>6.768</td>\n",
       "      <td>-122.47842</td>\n",
       "      <td>37.69335</td>\n",
       "      <td>56.0</td>\n",
       "      <td>71.69</td>\n",
       "      <td>280.0</td>\n",
       "      <td>12.65</td>\n",
       "    </tr>\n",
       "    <tr>\n",
       "      <th>2019-12-30 23:56:00</th>\n",
       "      <td>7.208</td>\n",
       "      <td>-122.40605</td>\n",
       "      <td>37.62726</td>\n",
       "      <td>56.0</td>\n",
       "      <td>71.69</td>\n",
       "      <td>280.0</td>\n",
       "      <td>12.65</td>\n",
       "    </tr>\n",
       "  </tbody>\n",
       "</table>\n",
       "<p>4165056 rows × 7 columns</p>\n",
       "</div>"
      ],
      "text/plain": [
       "                     DS_PM_pred        lon       lat  tmpf   relh   drct  \\\n",
       "valid                                                                      \n",
       "2018-01-01 00:56:00      23.108 -122.45246  37.78873  57.0  71.81  200.0   \n",
       "2018-01-01 00:56:00      23.306 -122.48726  37.73220  57.0  71.81  200.0   \n",
       "2018-01-01 00:56:00      25.277 -122.40327  37.71649  57.0  71.81  200.0   \n",
       "2018-01-01 00:56:00      26.857 -122.39020  37.60495  57.0  71.81  200.0   \n",
       "2018-01-01 00:56:00      23.484 -122.44441  37.75284  57.0  71.81  200.0   \n",
       "...                         ...        ...       ...   ...    ...    ...   \n",
       "2019-12-30 23:56:00       7.617 -122.41915  37.75944  56.0  71.69  280.0   \n",
       "2019-12-30 23:56:00       6.589 -122.49274  37.67840  56.0  71.69  280.0   \n",
       "2019-12-30 23:56:00       7.137 -122.46136  37.77758  56.0  71.69  280.0   \n",
       "2019-12-30 23:56:00       6.768 -122.47842  37.69335  56.0  71.69  280.0   \n",
       "2019-12-30 23:56:00       7.208 -122.40605  37.62726  56.0  71.69  280.0   \n",
       "\n",
       "                      sped  \n",
       "valid                       \n",
       "2018-01-01 00:56:00   3.45  \n",
       "2018-01-01 00:56:00   3.45  \n",
       "2018-01-01 00:56:00   3.45  \n",
       "2018-01-01 00:56:00   3.45  \n",
       "2018-01-01 00:56:00   3.45  \n",
       "...                    ...  \n",
       "2019-12-30 23:56:00  12.65  \n",
       "2019-12-30 23:56:00  12.65  \n",
       "2019-12-30 23:56:00  12.65  \n",
       "2019-12-30 23:56:00  12.65  \n",
       "2019-12-30 23:56:00  12.65  \n",
       "\n",
       "[4165056 rows x 7 columns]"
      ]
     },
     "execution_count": 8,
     "metadata": {},
     "output_type": "execute_result"
    }
   ],
   "source": [
    "df"
   ]
  },
  {
   "cell_type": "markdown",
   "id": "e9f7bdba",
   "metadata": {},
   "source": [
    "Splitting the target variable 'DS_PM_pred'. Recall 'tmpf' tempature, 'relh': humidity, 'drct': wind direction, 'sped': wind speed. "
   ]
  },
  {
   "cell_type": "code",
   "execution_count": 9,
   "id": "81facb48",
   "metadata": {},
   "outputs": [],
   "source": [
    "\n",
    "from sklearn.linear_model import LassoCV\n",
    "X = df.drop(['DS_PM_pred'],axis=1)\n",
    "y = df['DS_PM_pred']\n",
    "model = LassoCV()"
   ]
  },
  {
   "cell_type": "code",
   "execution_count": 10,
   "id": "55744bf4",
   "metadata": {},
   "outputs": [
    {
     "data": {
      "text/html": [
       "<div>\n",
       "<style scoped>\n",
       "    .dataframe tbody tr th:only-of-type {\n",
       "        vertical-align: middle;\n",
       "    }\n",
       "\n",
       "    .dataframe tbody tr th {\n",
       "        vertical-align: top;\n",
       "    }\n",
       "\n",
       "    .dataframe thead th {\n",
       "        text-align: right;\n",
       "    }\n",
       "</style>\n",
       "<table border=\"1\" class=\"dataframe\">\n",
       "  <thead>\n",
       "    <tr style=\"text-align: right;\">\n",
       "      <th></th>\n",
       "      <th>lon</th>\n",
       "      <th>lat</th>\n",
       "      <th>tmpf</th>\n",
       "      <th>relh</th>\n",
       "      <th>drct</th>\n",
       "      <th>sped</th>\n",
       "    </tr>\n",
       "    <tr>\n",
       "      <th>valid</th>\n",
       "      <th></th>\n",
       "      <th></th>\n",
       "      <th></th>\n",
       "      <th></th>\n",
       "      <th></th>\n",
       "      <th></th>\n",
       "    </tr>\n",
       "  </thead>\n",
       "  <tbody>\n",
       "    <tr>\n",
       "      <th>2018-01-01 00:56:00</th>\n",
       "      <td>-122.45246</td>\n",
       "      <td>37.78873</td>\n",
       "      <td>57.0</td>\n",
       "      <td>71.81</td>\n",
       "      <td>200.0</td>\n",
       "      <td>3.45</td>\n",
       "    </tr>\n",
       "    <tr>\n",
       "      <th>2018-01-01 00:56:00</th>\n",
       "      <td>-122.48726</td>\n",
       "      <td>37.73220</td>\n",
       "      <td>57.0</td>\n",
       "      <td>71.81</td>\n",
       "      <td>200.0</td>\n",
       "      <td>3.45</td>\n",
       "    </tr>\n",
       "    <tr>\n",
       "      <th>2018-01-01 00:56:00</th>\n",
       "      <td>-122.40327</td>\n",
       "      <td>37.71649</td>\n",
       "      <td>57.0</td>\n",
       "      <td>71.81</td>\n",
       "      <td>200.0</td>\n",
       "      <td>3.45</td>\n",
       "    </tr>\n",
       "    <tr>\n",
       "      <th>2018-01-01 00:56:00</th>\n",
       "      <td>-122.39020</td>\n",
       "      <td>37.60495</td>\n",
       "      <td>57.0</td>\n",
       "      <td>71.81</td>\n",
       "      <td>200.0</td>\n",
       "      <td>3.45</td>\n",
       "    </tr>\n",
       "    <tr>\n",
       "      <th>2018-01-01 00:56:00</th>\n",
       "      <td>-122.44441</td>\n",
       "      <td>37.75284</td>\n",
       "      <td>57.0</td>\n",
       "      <td>71.81</td>\n",
       "      <td>200.0</td>\n",
       "      <td>3.45</td>\n",
       "    </tr>\n",
       "    <tr>\n",
       "      <th>...</th>\n",
       "      <td>...</td>\n",
       "      <td>...</td>\n",
       "      <td>...</td>\n",
       "      <td>...</td>\n",
       "      <td>...</td>\n",
       "      <td>...</td>\n",
       "    </tr>\n",
       "    <tr>\n",
       "      <th>2019-12-30 23:56:00</th>\n",
       "      <td>-122.41915</td>\n",
       "      <td>37.75944</td>\n",
       "      <td>56.0</td>\n",
       "      <td>71.69</td>\n",
       "      <td>280.0</td>\n",
       "      <td>12.65</td>\n",
       "    </tr>\n",
       "    <tr>\n",
       "      <th>2019-12-30 23:56:00</th>\n",
       "      <td>-122.49274</td>\n",
       "      <td>37.67840</td>\n",
       "      <td>56.0</td>\n",
       "      <td>71.69</td>\n",
       "      <td>280.0</td>\n",
       "      <td>12.65</td>\n",
       "    </tr>\n",
       "    <tr>\n",
       "      <th>2019-12-30 23:56:00</th>\n",
       "      <td>-122.46136</td>\n",
       "      <td>37.77758</td>\n",
       "      <td>56.0</td>\n",
       "      <td>71.69</td>\n",
       "      <td>280.0</td>\n",
       "      <td>12.65</td>\n",
       "    </tr>\n",
       "    <tr>\n",
       "      <th>2019-12-30 23:56:00</th>\n",
       "      <td>-122.47842</td>\n",
       "      <td>37.69335</td>\n",
       "      <td>56.0</td>\n",
       "      <td>71.69</td>\n",
       "      <td>280.0</td>\n",
       "      <td>12.65</td>\n",
       "    </tr>\n",
       "    <tr>\n",
       "      <th>2019-12-30 23:56:00</th>\n",
       "      <td>-122.40605</td>\n",
       "      <td>37.62726</td>\n",
       "      <td>56.0</td>\n",
       "      <td>71.69</td>\n",
       "      <td>280.0</td>\n",
       "      <td>12.65</td>\n",
       "    </tr>\n",
       "  </tbody>\n",
       "</table>\n",
       "<p>4165056 rows × 6 columns</p>\n",
       "</div>"
      ],
      "text/plain": [
       "                           lon       lat  tmpf   relh   drct   sped\n",
       "valid                                                              \n",
       "2018-01-01 00:56:00 -122.45246  37.78873  57.0  71.81  200.0   3.45\n",
       "2018-01-01 00:56:00 -122.48726  37.73220  57.0  71.81  200.0   3.45\n",
       "2018-01-01 00:56:00 -122.40327  37.71649  57.0  71.81  200.0   3.45\n",
       "2018-01-01 00:56:00 -122.39020  37.60495  57.0  71.81  200.0   3.45\n",
       "2018-01-01 00:56:00 -122.44441  37.75284  57.0  71.81  200.0   3.45\n",
       "...                        ...       ...   ...    ...    ...    ...\n",
       "2019-12-30 23:56:00 -122.41915  37.75944  56.0  71.69  280.0  12.65\n",
       "2019-12-30 23:56:00 -122.49274  37.67840  56.0  71.69  280.0  12.65\n",
       "2019-12-30 23:56:00 -122.46136  37.77758  56.0  71.69  280.0  12.65\n",
       "2019-12-30 23:56:00 -122.47842  37.69335  56.0  71.69  280.0  12.65\n",
       "2019-12-30 23:56:00 -122.40605  37.62726  56.0  71.69  280.0  12.65\n",
       "\n",
       "[4165056 rows x 6 columns]"
      ]
     },
     "execution_count": 10,
     "metadata": {},
     "output_type": "execute_result"
    }
   ],
   "source": [
    "X"
   ]
  },
  {
   "cell_type": "code",
   "execution_count": 6,
   "id": "5b2f9abf",
   "metadata": {},
   "outputs": [
    {
     "data": {
      "image/png": "[encoded data removed]",
      "text/plain": [
       "<Figure size 640x480 with 1 Axes>"
      ]
     },
     "metadata": {},
     "output_type": "display_data"
    }
   ],
   "source": [
    "# Create time-series cross-validation object\n",
    "#For 2 years and 4 seasons, perhaps 8 splits make some sense\n",
    "cv = TimeSeriesSplit(n_splits=8)\n",
    "\n",
    "# Iterate through CV splits\n",
    "fig, ax = plt.subplots()\n",
    "for ii, (tr, tt) in enumerate(cv.split(X, y)):\n",
    "    # Plot the training data on each iteration, to see the behavior of the CV\n",
    "    ax.plot(tr, ii + y.iloc[tr])\n",
    "\n",
    "ax.set(title='Training data on each CV iteration', ylabel='CV iteration')\n",
    "plt.show()"
   ]
  },
  {
   "cell_type": "markdown",
   "id": "f0911262",
   "metadata": {},
   "source": [
    "Thankfully we can see barely that each CV iteration is an expanding time interval (with such a big spike, the vertical axis doesn't make much sense but the colors show the different CV iterations). We can't use K-fold as we do not want future information leak."
   ]
  },
  {
   "cell_type": "code",
   "execution_count": 5,
   "id": "e0eeb2c9",
   "metadata": {},
   "outputs": [],
   "source": [
    "# To visualize the CV predictions, I use a function from DataCamp\n",
    "#https://campus.datacamp.com/courses/machine-learning-for-time-series-data-in-python/validating-and-inspecting-time-series-models?ex=8\n",
    "def visualize_predictions(results):\n",
    "    fig, axs = plt.subplots(2, 1, figsize=(10, 10), sharex=True)\n",
    "    \n",
    "    # Loop through our model results to visualize them\n",
    "    for ii, (prediction, score, indices) in enumerate(results):\n",
    "        # Plot the predictions of the model in the order they were generated\n",
    "        offset = len(prediction) * ii\n",
    "        axs[0].scatter(np.arange(len(prediction)) + offset, prediction, label='Iteration {}'.format(ii))\n",
    "        \n",
    "        # Plot the predictions of the model according to how time was ordered\n",
    "        axs[1].scatter(indices, prediction)\n",
    "    axs[0].legend(loc=\"best\")\n",
    "    axs[0].set(xlabel=\"Test prediction number\", title=\"Predictions ordered by test prediction number\")\n",
    "    axs[1].set(xlabel=\"Time\", title=\"Predictions ordered by time\")\n",
    "    plt.show()"
   ]
  },
  {
   "cell_type": "code",
   "execution_count": 12,
   "id": "148c1d5f",
   "metadata": {},
   "outputs": [
    {
     "name": "stderr",
     "output_type": "stream",
     "text": [
      "C:\\Users\\Whyme\\anaconda3\\lib\\site-packages\\sklearn\\base.py:493: UserWarning: X does not have valid feature names, but LassoCV was fitted with feature names\n",
      "  warnings.warn(\n"
     ]
    },
    {
     "ename": "ValueError",
     "evalue": "Expected a 2-dimensional container but got <class 'pandas.core.series.Series'> instead. Pass a DataFrame containing a single row (i.e. single sample) or a single column (i.e. single feature) instead.",
     "output_type": "error",
     "traceback": [
      "\u001b[1;31m---------------------------------------------------------------------------\u001b[0m",
      "\u001b[1;31mValueError\u001b[0m                                Traceback (most recent call last)",
      "\u001b[1;32m~\\AppData\\Local\\Temp\\ipykernel_16980\\4008357478.py\u001b[0m in \u001b[0;36m<module>\u001b[1;34m\u001b[0m\n\u001b[0;32m      9\u001b[0m     \u001b[1;31m# Generate predictions on the test data and collect\u001b[0m\u001b[1;33m\u001b[0m\u001b[1;33m\u001b[0m\u001b[0m\n\u001b[0;32m     10\u001b[0m     \u001b[0mprediction\u001b[0m \u001b[1;33m=\u001b[0m \u001b[0mmodel\u001b[0m\u001b[1;33m.\u001b[0m\u001b[0mpredict\u001b[0m\u001b[1;33m(\u001b[0m\u001b[0mX\u001b[0m\u001b[1;33m.\u001b[0m\u001b[0miloc\u001b[0m\u001b[1;33m[\u001b[0m\u001b[0mtt\u001b[0m\u001b[1;33m]\u001b[0m\u001b[1;33m)\u001b[0m\u001b[1;33m\u001b[0m\u001b[1;33m\u001b[0m\u001b[0m\n\u001b[1;32m---> 11\u001b[1;33m     \u001b[0mscore\u001b[0m \u001b[1;33m=\u001b[0m \u001b[0mmodel\u001b[0m\u001b[1;33m.\u001b[0m\u001b[0mscore\u001b[0m\u001b[1;33m(\u001b[0m\u001b[0my\u001b[0m\u001b[1;33m.\u001b[0m\u001b[0miloc\u001b[0m\u001b[1;33m[\u001b[0m\u001b[0mtt\u001b[0m\u001b[1;33m]\u001b[0m\u001b[1;33m,\u001b[0m \u001b[0mprediction\u001b[0m\u001b[1;33m)\u001b[0m\u001b[1;33m\u001b[0m\u001b[1;33m\u001b[0m\u001b[0m\n\u001b[0m\u001b[0;32m     12\u001b[0m     \u001b[0mresults\u001b[0m\u001b[1;33m.\u001b[0m\u001b[0mappend\u001b[0m\u001b[1;33m(\u001b[0m\u001b[1;33m(\u001b[0m\u001b[0mprediction\u001b[0m\u001b[1;33m,\u001b[0m\u001b[0mscore\u001b[0m\u001b[1;33m,\u001b[0m\u001b[0mtt\u001b[0m\u001b[1;33m)\u001b[0m\u001b[1;33m)\u001b[0m\u001b[1;33m\u001b[0m\u001b[1;33m\u001b[0m\u001b[0m\n\u001b[0;32m     13\u001b[0m     \u001b[0mscores\u001b[0m\u001b[1;33m.\u001b[0m\u001b[0mappend\u001b[0m\u001b[1;33m(\u001b[0m\u001b[0mscore\u001b[0m\u001b[1;33m)\u001b[0m\u001b[1;33m\u001b[0m\u001b[1;33m\u001b[0m\u001b[0m\n",
      "\u001b[1;32m~\\anaconda3\\lib\\site-packages\\sklearn\\base.py\u001b[0m in \u001b[0;36mscore\u001b[1;34m(self, X, y, sample_weight)\u001b[0m\n\u001b[0;32m    846\u001b[0m         \u001b[1;32mfrom\u001b[0m \u001b[1;33m.\u001b[0m\u001b[0mmetrics\u001b[0m \u001b[1;32mimport\u001b[0m \u001b[0mr2_score\u001b[0m\u001b[1;33m\u001b[0m\u001b[1;33m\u001b[0m\u001b[0m\n\u001b[0;32m    847\u001b[0m \u001b[1;33m\u001b[0m\u001b[0m\n\u001b[1;32m--> 848\u001b[1;33m         \u001b[0my_pred\u001b[0m \u001b[1;33m=\u001b[0m \u001b[0mself\u001b[0m\u001b[1;33m.\u001b[0m\u001b[0mpredict\u001b[0m\u001b[1;33m(\u001b[0m\u001b[0mX\u001b[0m\u001b[1;33m)\u001b[0m\u001b[1;33m\u001b[0m\u001b[1;33m\u001b[0m\u001b[0m\n\u001b[0m\u001b[0;32m    849\u001b[0m         \u001b[1;32mreturn\u001b[0m \u001b[0mr2_score\u001b[0m\u001b[1;33m(\u001b[0m\u001b[0my\u001b[0m\u001b[1;33m,\u001b[0m \u001b[0my_pred\u001b[0m\u001b[1;33m,\u001b[0m \u001b[0msample_weight\u001b[0m\u001b[1;33m=\u001b[0m\u001b[0msample_weight\u001b[0m\u001b[1;33m)\u001b[0m\u001b[1;33m\u001b[0m\u001b[1;33m\u001b[0m\u001b[0m\n\u001b[0;32m    850\u001b[0m \u001b[1;33m\u001b[0m\u001b[0m\n",
      "\u001b[1;32m~\\anaconda3\\lib\\site-packages\\sklearn\\linear_model\\_base.py\u001b[0m in \u001b[0;36mpredict\u001b[1;34m(self, X)\u001b[0m\n\u001b[0;32m    284\u001b[0m             \u001b[0mReturns\u001b[0m \u001b[0mpredicted\u001b[0m \u001b[0mvalues\u001b[0m\u001b[1;33m.\u001b[0m\u001b[1;33m\u001b[0m\u001b[1;33m\u001b[0m\u001b[0m\n\u001b[0;32m    285\u001b[0m         \"\"\"\n\u001b[1;32m--> 286\u001b[1;33m         \u001b[1;32mreturn\u001b[0m \u001b[0mself\u001b[0m\u001b[1;33m.\u001b[0m\u001b[0m_decision_function\u001b[0m\u001b[1;33m(\u001b[0m\u001b[0mX\u001b[0m\u001b[1;33m)\u001b[0m\u001b[1;33m\u001b[0m\u001b[1;33m\u001b[0m\u001b[0m\n\u001b[0m\u001b[0;32m    287\u001b[0m \u001b[1;33m\u001b[0m\u001b[0m\n\u001b[0;32m    288\u001b[0m     \u001b[1;32mdef\u001b[0m \u001b[0m_set_intercept\u001b[0m\u001b[1;33m(\u001b[0m\u001b[0mself\u001b[0m\u001b[1;33m,\u001b[0m \u001b[0mX_offset\u001b[0m\u001b[1;33m,\u001b[0m \u001b[0my_offset\u001b[0m\u001b[1;33m,\u001b[0m \u001b[0mX_scale\u001b[0m\u001b[1;33m)\u001b[0m\u001b[1;33m:\u001b[0m\u001b[1;33m\u001b[0m\u001b[1;33m\u001b[0m\u001b[0m\n",
      "\u001b[1;32m~\\anaconda3\\lib\\site-packages\\sklearn\\linear_model\\_base.py\u001b[0m in \u001b[0;36m_decision_function\u001b[1;34m(self, X)\u001b[0m\n\u001b[0;32m    267\u001b[0m         \u001b[0mcheck_is_fitted\u001b[0m\u001b[1;33m(\u001b[0m\u001b[0mself\u001b[0m\u001b[1;33m)\u001b[0m\u001b[1;33m\u001b[0m\u001b[1;33m\u001b[0m\u001b[0m\n\u001b[0;32m    268\u001b[0m \u001b[1;33m\u001b[0m\u001b[0m\n\u001b[1;32m--> 269\u001b[1;33m         \u001b[0mX\u001b[0m \u001b[1;33m=\u001b[0m \u001b[0mself\u001b[0m\u001b[1;33m.\u001b[0m\u001b[0m_validate_data\u001b[0m\u001b[1;33m(\u001b[0m\u001b[0mX\u001b[0m\u001b[1;33m,\u001b[0m \u001b[0maccept_sparse\u001b[0m\u001b[1;33m=\u001b[0m\u001b[1;33m[\u001b[0m\u001b[1;34m\"csr\"\u001b[0m\u001b[1;33m,\u001b[0m \u001b[1;34m\"csc\"\u001b[0m\u001b[1;33m,\u001b[0m \u001b[1;34m\"coo\"\u001b[0m\u001b[1;33m]\u001b[0m\u001b[1;33m,\u001b[0m \u001b[0mreset\u001b[0m\u001b[1;33m=\u001b[0m\u001b[1;32mFalse\u001b[0m\u001b[1;33m)\u001b[0m\u001b[1;33m\u001b[0m\u001b[1;33m\u001b[0m\u001b[0m\n\u001b[0m\u001b[0;32m    270\u001b[0m         \u001b[1;32mreturn\u001b[0m \u001b[0msafe_sparse_dot\u001b[0m\u001b[1;33m(\u001b[0m\u001b[0mX\u001b[0m\u001b[1;33m,\u001b[0m \u001b[0mself\u001b[0m\u001b[1;33m.\u001b[0m\u001b[0mcoef_\u001b[0m\u001b[1;33m.\u001b[0m\u001b[0mT\u001b[0m\u001b[1;33m,\u001b[0m \u001b[0mdense_output\u001b[0m\u001b[1;33m=\u001b[0m\u001b[1;32mTrue\u001b[0m\u001b[1;33m)\u001b[0m \u001b[1;33m+\u001b[0m \u001b[0mself\u001b[0m\u001b[1;33m.\u001b[0m\u001b[0mintercept_\u001b[0m\u001b[1;33m\u001b[0m\u001b[1;33m\u001b[0m\u001b[0m\n\u001b[0;32m    271\u001b[0m \u001b[1;33m\u001b[0m\u001b[0m\n",
      "\u001b[1;32m~\\anaconda3\\lib\\site-packages\\sklearn\\base.py\u001b[0m in \u001b[0;36m_validate_data\u001b[1;34m(self, X, y, reset, validate_separately, cast_to_ndarray, **check_params)\u001b[0m\n\u001b[0;32m    631\u001b[0m                 \u001b[0mout\u001b[0m \u001b[1;33m=\u001b[0m \u001b[0mX\u001b[0m\u001b[1;33m,\u001b[0m \u001b[0my\u001b[0m\u001b[1;33m\u001b[0m\u001b[1;33m\u001b[0m\u001b[0m\n\u001b[0;32m    632\u001b[0m         \u001b[1;32melif\u001b[0m \u001b[1;32mnot\u001b[0m \u001b[0mno_val_X\u001b[0m \u001b[1;32mand\u001b[0m \u001b[0mno_val_y\u001b[0m\u001b[1;33m:\u001b[0m\u001b[1;33m\u001b[0m\u001b[1;33m\u001b[0m\u001b[0m\n\u001b[1;32m--> 633\u001b[1;33m             \u001b[0mout\u001b[0m \u001b[1;33m=\u001b[0m \u001b[0mcheck_array\u001b[0m\u001b[1;33m(\u001b[0m\u001b[0mX\u001b[0m\u001b[1;33m,\u001b[0m \u001b[0minput_name\u001b[0m\u001b[1;33m=\u001b[0m\u001b[1;34m\"X\"\u001b[0m\u001b[1;33m,\u001b[0m \u001b[1;33m**\u001b[0m\u001b[0mcheck_params\u001b[0m\u001b[1;33m)\u001b[0m\u001b[1;33m\u001b[0m\u001b[1;33m\u001b[0m\u001b[0m\n\u001b[0m\u001b[0;32m    634\u001b[0m         \u001b[1;32melif\u001b[0m \u001b[0mno_val_X\u001b[0m \u001b[1;32mand\u001b[0m \u001b[1;32mnot\u001b[0m \u001b[0mno_val_y\u001b[0m\u001b[1;33m:\u001b[0m\u001b[1;33m\u001b[0m\u001b[1;33m\u001b[0m\u001b[0m\n\u001b[0;32m    635\u001b[0m             \u001b[0mout\u001b[0m \u001b[1;33m=\u001b[0m \u001b[0m_check_y\u001b[0m\u001b[1;33m(\u001b[0m\u001b[0my\u001b[0m\u001b[1;33m,\u001b[0m \u001b[1;33m**\u001b[0m\u001b[0mcheck_params\u001b[0m\u001b[1;33m)\u001b[0m\u001b[1;33m\u001b[0m\u001b[1;33m\u001b[0m\u001b[0m\n",
      "\u001b[1;32m~\\anaconda3\\lib\\site-packages\\sklearn\\utils\\validation.py\u001b[0m in \u001b[0;36mcheck_array\u001b[1;34m(array, accept_sparse, accept_large_sparse, dtype, order, copy, force_all_finite, ensure_2d, allow_nd, ensure_min_samples, ensure_min_features, estimator, input_name)\u001b[0m\n\u001b[0;32m    987\u001b[0m                         \u001b[1;34m\"if it contains a single sample.\"\u001b[0m\u001b[1;33m\u001b[0m\u001b[1;33m\u001b[0m\u001b[0m\n\u001b[0;32m    988\u001b[0m                     )\n\u001b[1;32m--> 989\u001b[1;33m                 \u001b[1;32mraise\u001b[0m \u001b[0mValueError\u001b[0m\u001b[1;33m(\u001b[0m\u001b[0mmsg\u001b[0m\u001b[1;33m)\u001b[0m\u001b[1;33m\u001b[0m\u001b[1;33m\u001b[0m\u001b[0m\n\u001b[0m\u001b[0;32m    990\u001b[0m \u001b[1;33m\u001b[0m\u001b[0m\n\u001b[0;32m    991\u001b[0m         \u001b[1;32mif\u001b[0m \u001b[0mdtype_numeric\u001b[0m \u001b[1;32mand\u001b[0m \u001b[0mhasattr\u001b[0m\u001b[1;33m(\u001b[0m\u001b[0marray\u001b[0m\u001b[1;33m.\u001b[0m\u001b[0mdtype\u001b[0m\u001b[1;33m,\u001b[0m \u001b[1;34m\"kind\"\u001b[0m\u001b[1;33m)\u001b[0m \u001b[1;32mand\u001b[0m \u001b[0marray\u001b[0m\u001b[1;33m.\u001b[0m\u001b[0mdtype\u001b[0m\u001b[1;33m.\u001b[0m\u001b[0mkind\u001b[0m \u001b[1;32min\u001b[0m \u001b[1;34m\"USV\"\u001b[0m\u001b[1;33m:\u001b[0m\u001b[1;33m\u001b[0m\u001b[1;33m\u001b[0m\u001b[0m\n",
      "\u001b[1;31mValueError\u001b[0m: Expected a 2-dimensional container but got <class 'pandas.core.series.Series'> instead. Pass a DataFrame containing a single row (i.e. single sample) or a single column (i.e. single feature) instead."
     ]
    }
   ],
   "source": [
    "# Iterate through CV splits\n",
    "results = []\n",
    "scores=[]\n",
    "cv = TimeSeriesSplit(n_splits=8)\n",
    "for tr, tt in cv.split(X, y):\n",
    "    # Fit the model on training data\n",
    "    model.fit(X.iloc[tr],y.iloc[tr])\n",
    "    \n",
    "    # Generate predictions on the test data and collect\n",
    "    prediction = model.predict(X.iloc[tt])\n",
    "    score = model.score(y.iloc[tt], prediction)\n",
    "    results.append((prediction,score,tt))\n",
    "    scores.append(score)"
   ]
  },
  {
   "cell_type": "code",
   "execution_count": 9,
   "id": "65b0eb56",
   "metadata": {
    "scrolled": false
   },
   "outputs": [
    {
     "data": {
      "image/png": "[encoded data removed]",
      "text/plain": [
       "<Figure size 1000x1000 with 2 Axes>"
      ]
     },
     "metadata": {},
     "output_type": "display_data"
    }
   ],
   "source": [
    "visualize_predictions(results)"
   ]
  },
  {
   "cell_type": "code",
   "execution_count": 10,
   "id": "eb5c1b65",
   "metadata": {},
   "outputs": [
    {
     "name": "stdout",
     "output_type": "stream",
     "text": [
      "-0.4047648824903658\n",
      "-0.009541128323846015\n",
      "-0.13468032632283355\n",
      "-3.320031608368496\n",
      "-4.857686178147492\n",
      "-1.0590576643575584\n",
      "-1.6257221668221353\n",
      "-0.5821154029075957\n"
     ]
    }
   ],
   "source": [
    "for i in scores:\n",
    "    print(i)"
   ]
  },
  {
   "cell_type": "markdown",
   "id": "362588e0",
   "metadata": {},
   "source": [
    "It makes some sense that the 4th to 6th CV splits are much worse around the spike. Now we try a RobustScaler via a Pipeline."
   ]
  },
  {
   "cell_type": "code",
   "execution_count": 20,
   "id": "98a4bcc1",
   "metadata": {
    "scrolled": true
   },
   "outputs": [
    {
     "name": "stdout",
     "output_type": "stream",
     "text": [
      "Fitting 8 folds for each of 20 candidates, totalling 160 fits\n",
      "{'mean_fit_time': array([1776.51306823,   13.66574973,    8.11786914,    7.52039927,\n",
      "          7.06983668,    7.71723339,    7.16621748,    7.62355274,\n",
      "          7.50459132,    7.19121841,    7.35558736,    7.4064033 ,\n",
      "          6.41368538,    6.74766845,    6.36080837,    6.51354232,\n",
      "          6.79249281,    6.73611405,    6.544085  ,    6.87915915]), 'std_fit_time': array([671.58426525,   9.21622698,   4.028313  ,   3.57181876,\n",
      "         3.88615881,   3.76992563,   3.01561307,   3.43607946,\n",
      "         3.69767454,   3.59920829,   3.61586048,   3.85691984,\n",
      "         3.18486523,   3.46488532,   3.17715148,   3.39585691,\n",
      "         3.42669917,   3.32312483,   3.82640678,   3.68444312]), 'mean_score_time': array([0.15254912, 0.7199201 , 0.29744464, 0.30395973, 0.28446859,\n",
      "       0.32730809, 0.3267563 , 0.3391315 , 0.31448787, 0.29655087,\n",
      "       0.31121466, 0.29561532, 0.3103011 , 0.28242108, 0.31723216,\n",
      "       0.27609178, 0.32134712, 0.31595612, 0.27260759, 0.29748002]), 'std_score_time': array([0.05668933, 0.50636015, 0.03626825, 0.0452232 , 0.03491146,\n",
      "       0.06831728, 0.0672857 , 0.08929642, 0.04300115, 0.06753635,\n",
      "       0.09542124, 0.03923001, 0.05380345, 0.04092034, 0.05173758,\n",
      "       0.04164782, 0.11524166, 0.04609481, 0.02189101, 0.06244446]), 'param_reg__alpha': masked_array(data=[0.0, 0.05, 0.1, 0.15000000000000002, 0.2, 0.25,\n",
      "                   0.30000000000000004, 0.35000000000000003, 0.4, 0.45,\n",
      "                   0.5, 0.55, 0.6000000000000001, 0.65,\n",
      "                   0.7000000000000001, 0.75, 0.8, 0.8500000000000001, 0.9,\n",
      "                   0.9500000000000001],\n",
      "             mask=[False, False, False, False, False, False, False, False,\n",
      "                   False, False, False, False, False, False, False, False,\n",
      "                   False, False, False, False],\n",
      "       fill_value='?',\n",
      "            dtype=object), 'params': [{'reg__alpha': 0.0}, {'reg__alpha': 0.05}, {'reg__alpha': 0.1}, {'reg__alpha': 0.15000000000000002}, {'reg__alpha': 0.2}, {'reg__alpha': 0.25}, {'reg__alpha': 0.30000000000000004}, {'reg__alpha': 0.35000000000000003}, {'reg__alpha': 0.4}, {'reg__alpha': 0.45}, {'reg__alpha': 0.5}, {'reg__alpha': 0.55}, {'reg__alpha': 0.6000000000000001}, {'reg__alpha': 0.65}, {'reg__alpha': 0.7000000000000001}, {'reg__alpha': 0.75}, {'reg__alpha': 0.8}, {'reg__alpha': 0.8500000000000001}, {'reg__alpha': 0.9}, {'reg__alpha': 0.9500000000000001}], 'split0_test_score': array([-0.4044642 , -0.39079783, -0.3805399 , -0.37041432, -0.36200877,\n",
      "       -0.35532325, -0.34990554, -0.34415114, -0.33941787, -0.33570572,\n",
      "       -0.33301471, -0.33134482, -0.33069606, -0.32379785, -0.31486288,\n",
      "       -0.3068625 , -0.30009369, -0.29479814, -0.29117555, -0.28881985]), 'split1_test_score': array([-0.00950343, -0.0071334 , -0.00690496, -0.0079246 , -0.01102022,\n",
      "       -0.01578436, -0.02218198, -0.0303561 , -0.03460626, -0.03119361,\n",
      "       -0.02810693, -0.02534643, -0.02291284, -0.02080451, -0.01902247,\n",
      "       -0.01756661, -0.01643731, -0.01563374, -0.01457951, -0.01358992]), 'split2_test_score': array([-0.13469235, -0.13193667, -0.12922825, -0.12651773, -0.12382243,\n",
      "       -0.1211422 , -0.12007651, -0.1213999 , -0.12275359, -0.124764  ,\n",
      "       -0.12686555, -0.12844984, -0.12976244, -0.13108236, -0.13240958,\n",
      "       -0.13374412, -0.13508597, -0.13643513, -0.13779161, -0.13915539]), 'split3_test_score': array([-3.32004576, -3.19972051, -3.08377145, -2.97020071, -2.85948823,\n",
      "       -2.75157688, -2.64561187, -2.54240668, -2.44196131, -2.34427576,\n",
      "       -2.24935003, -2.15718412, -2.06777803, -1.98113177, -1.89724533,\n",
      "       -1.81611871, -1.737795  , -1.66218561, -1.58933604, -1.51924629]), 'split4_test_score': array([-4.85774245, -4.70611324, -4.56168962, -4.42108776, -4.28495273,\n",
      "       -4.15225116, -4.02245558, -3.89636662, -3.77398428, -3.65530855,\n",
      "       -3.54033945, -3.42907697, -3.3215211 , -3.21767185, -3.11752866,\n",
      "       -3.02108845, -2.95146958, -2.92163203, -2.89414075, -2.86899576]), 'split5_test_score': array([-1.0591974 , -1.05464204, -1.05686346, -1.062298  , -1.07193414,\n",
      "       -1.08205674, -1.09501838, -1.11122965, -1.10241169, -1.08500868,\n",
      "       -1.07043436, -1.05868882, -1.04977206, -1.04368407, -1.04042486,\n",
      "       -1.03999442, -1.04239277, -1.04761989, -1.05567578, -1.06656046]), 'split6_test_score': array([-1.62600727, -1.57843209, -1.54255003, -1.51421481, -1.49544007,\n",
      "       -1.48263952, -1.47802716, -1.48182513, -1.49403519, -1.51465527,\n",
      "       -1.48589036, -1.42948375, -1.37798101, -1.33138215, -1.28968717,\n",
      "       -1.25289606, -1.22100882, -1.19402546, -1.17194598, -1.15477038]), 'split7_test_score': array([-0.58202819, -0.5281006 , -0.47802687, -0.43009246, -0.38555472,\n",
      "       -0.34352459, -0.30448908, -0.26844819, -0.23540191, -0.20535025,\n",
      "       -0.17829382, -0.15423411, -0.13715641, -0.12352635, -0.11199199,\n",
      "       -0.10255323, -0.09521005, -0.08996248, -0.0868105 , -0.0857541 ]), 'mean_test_score': array([-1.49921013, -1.44960955, -1.40494682, -1.3628438 , -1.32427766,\n",
      "       -1.28803734, -1.25472076, -1.22452292, -1.19307151, -1.16203273,\n",
      "       -1.1265369 , -1.08922611, -1.05469749, -1.02163511, -0.99039662,\n",
      "       -0.96135301, -0.93743665, -0.92028656, -0.90518196, -0.89211152]), 'std_test_score': array([1.61731632, 1.56634764, 1.51715783, 1.46922356, 1.42251284,\n",
      "       1.37696672, 1.33222112, 1.28873263, 1.24765343, 1.20919289,\n",
      "       1.17015854, 1.13113158, 1.09290336, 1.05640682, 1.02144463,\n",
      "       0.98779302, 0.96150203, 0.94607335, 0.93184171, 0.91881089]), 'rank_test_score': array([20, 19, 18, 17, 16, 15, 14, 13, 12, 11, 10,  9,  8,  7,  6,  5,  4,\n",
      "        3,  2,  1])}\n"
     ]
    }
   ],
   "source": [
    "from sklearn.linear_model import Lasso\n",
    "lasso = Lasso(random_state=0, max_iter=10000)\n",
    "alphas = np.logspace(-4, -0.5, 30)\n",
    "pipe = Pipeline([\n",
    "        ('scale', RobustScaler()),\n",
    "        ('reg', lasso)])\n",
    "\n",
    "gsc = GridSearchCV(pipe, param_grid = {'reg__alpha':np.arange(0, 1, 0.05)},\n",
    "            cv=TimeSeriesSplit(n_splits=8).split(X), verbose=10, n_jobs=-1)\n",
    "\n",
    "gsc.fit(X,y)\n",
    "print(gsc.cv_results_)"
   ]
  },
  {
   "cell_type": "code",
   "execution_count": 16,
   "id": "1a1369a5",
   "metadata": {},
   "outputs": [
    {
     "data": {
      "text/plain": [
       "{'mean_fit_time': array([1.47589913]),\n",
       " 'std_fit_time': array([0.76650098]),\n",
       " 'mean_score_time': array([0.06528977]),\n",
       " 'std_score_time': array([0.02537409]),\n",
       " 'params': [{}],\n",
       " 'split0_test_score': array([-0.28773103]),\n",
       " 'split1_test_score': array([-0.01285719]),\n",
       " 'split2_test_score': array([-0.14052649]),\n",
       " 'split3_test_score': array([-1.45191636]),\n",
       " 'split4_test_score': array([-2.84619705]),\n",
       " 'split5_test_score': array([-1.08027391]),\n",
       " 'split6_test_score': array([-1.14249864]),\n",
       " 'split7_test_score': array([-0.08679308]),\n",
       " 'mean_test_score': array([-0.88109922]),\n",
       " 'std_test_score': array([0.906969]),\n",
       " 'rank_test_score': array([1])}"
      ]
     },
     "execution_count": 16,
     "metadata": {},
     "output_type": "execute_result"
    }
   ],
   "source": [
    "gsc.cv_results_"
   ]
  },
  {
   "cell_type": "markdown",
   "id": "9e51c847",
   "metadata": {},
   "source": [
    "The scores are around the same after scaling (if not exactly the same) and my computer ran out of memory before the last 2 splits."
   ]
  },
  {
   "cell_type": "code",
   "execution_count": 31,
   "id": "fc0e02d3",
   "metadata": {},
   "outputs": [
    {
     "name": "stderr",
     "output_type": "stream",
     "text": [
      "C:\\Users\\Whyme\\anaconda3\\lib\\site-packages\\sklearn\\model_selection\\_validation.py:542: FitFailedWarning: \n",
      "2 fits failed out of a total of 8.\n",
      "The score on these train-test partitions for these parameters will be set to nan.\n",
      "If these failures are not expected, you can try to debug them by setting error_score='raise'.\n",
      "\n",
      "Below are more details about the failures:\n",
      "--------------------------------------------------------------------------------\n",
      "1 fits failed with the following error:\n",
      "Traceback (most recent call last):\n",
      "  File \"C:\\Users\\Whyme\\anaconda3\\lib\\site-packages\\sklearn\\model_selection\\_validation.py\", line 890, in _fit_and_score\n",
      "    estimator.fit(X_train, y_train, **fit_params)\n",
      "  File \"C:\\Users\\Whyme\\anaconda3\\lib\\site-packages\\sklearn\\base.py\", line 1351, in wrapper\n",
      "    return fit_method(estimator, *args, **kwargs)\n",
      "  File \"C:\\Users\\Whyme\\anaconda3\\lib\\site-packages\\sklearn\\pipeline.py\", line 471, in fit\n",
      "    Xt = self._fit(X, y, routed_params)\n",
      "  File \"C:\\Users\\Whyme\\anaconda3\\lib\\site-packages\\sklearn\\pipeline.py\", line 408, in _fit\n",
      "    X, fitted_transformer = fit_transform_one_cached(\n",
      "  File \"C:\\Users\\Whyme\\anaconda3\\lib\\site-packages\\joblib\\memory.py\", line 353, in __call__\n",
      "    return self.func(*args, **kwargs)\n",
      "  File \"C:\\Users\\Whyme\\anaconda3\\lib\\site-packages\\sklearn\\pipeline.py\", line 1303, in _fit_transform_one\n",
      "    res = transformer.fit_transform(X, y, **params.get(\"fit_transform\", {}))\n",
      "  File \"C:\\Users\\Whyme\\anaconda3\\lib\\site-packages\\sklearn\\utils\\_set_output.py\", line 273, in wrapped\n",
      "    data_to_wrap = f(self, X, *args, **kwargs)\n",
      "  File \"C:\\Users\\Whyme\\anaconda3\\lib\\site-packages\\sklearn\\base.py\", line 1064, in fit_transform\n",
      "    return self.fit(X, y, **fit_params).transform(X)\n",
      "  File \"C:\\Users\\Whyme\\anaconda3\\lib\\site-packages\\sklearn\\preprocessing\\_data.py\", line 876, in fit\n",
      "    return self.partial_fit(X, y, sample_weight)\n",
      "  File \"C:\\Users\\Whyme\\anaconda3\\lib\\site-packages\\sklearn\\base.py\", line 1351, in wrapper\n",
      "    return fit_method(estimator, *args, **kwargs)\n",
      "  File \"C:\\Users\\Whyme\\anaconda3\\lib\\site-packages\\sklearn\\preprocessing\\_data.py\", line 912, in partial_fit\n",
      "    X = self._validate_data(\n",
      "  File \"C:\\Users\\Whyme\\anaconda3\\lib\\site-packages\\sklearn\\base.py\", line 633, in _validate_data\n",
      "    out = check_array(X, input_name=\"X\", **check_params)\n",
      "  File \"C:\\Users\\Whyme\\anaconda3\\lib\\site-packages\\sklearn\\utils\\validation.py\", line 951, in check_array\n",
      "    array = _asarray_with_order(array, order=order, dtype=dtype, xp=xp)\n",
      "  File \"C:\\Users\\Whyme\\anaconda3\\lib\\site-packages\\sklearn\\utils\\_array_api.py\", line 521, in _asarray_with_order\n",
      "    array = numpy.asarray(array, order=order, dtype=dtype)\n",
      "  File \"C:\\Users\\Whyme\\anaconda3\\lib\\site-packages\\pandas\\core\\generic.py\", line 2149, in __array__\n",
      "    values = self._values\n",
      "  File \"C:\\Users\\Whyme\\anaconda3\\lib\\site-packages\\pandas\\core\\frame.py\", line 1116, in _values\n",
      "    return ensure_wrapped_if_datetimelike(self.values)\n",
      "  File \"C:\\Users\\Whyme\\anaconda3\\lib\\site-packages\\pandas\\core\\frame.py\", line 12637, in values\n",
      "    return self._mgr.as_array()\n",
      "  File \"C:\\Users\\Whyme\\anaconda3\\lib\\site-packages\\pandas\\core\\internals\\managers.py\", line 1693, in as_array\n",
      "    arr = self._interleave(dtype=dtype, na_value=na_value)\n",
      "  File \"C:\\Users\\Whyme\\anaconda3\\lib\\site-packages\\pandas\\core\\internals\\managers.py\", line 1726, in _interleave\n",
      "    result = np.empty(self.shape, dtype=dtype)\n",
      "numpy.core._exceptions._ArrayMemoryError: Unable to allocate 5.48 GiB for an array with shape (227, 3239488) and data type float64\n",
      "\n",
      "--------------------------------------------------------------------------------\n",
      "1 fits failed with the following error:\n",
      "Traceback (most recent call last):\n",
      "  File \"C:\\Users\\Whyme\\anaconda3\\lib\\site-packages\\sklearn\\model_selection\\_validation.py\", line 890, in _fit_and_score\n",
      "    estimator.fit(X_train, y_train, **fit_params)\n",
      "  File \"C:\\Users\\Whyme\\anaconda3\\lib\\site-packages\\sklearn\\base.py\", line 1351, in wrapper\n",
      "    return fit_method(estimator, *args, **kwargs)\n",
      "  File \"C:\\Users\\Whyme\\anaconda3\\lib\\site-packages\\sklearn\\pipeline.py\", line 471, in fit\n",
      "    Xt = self._fit(X, y, routed_params)\n",
      "  File \"C:\\Users\\Whyme\\anaconda3\\lib\\site-packages\\sklearn\\pipeline.py\", line 408, in _fit\n",
      "    X, fitted_transformer = fit_transform_one_cached(\n",
      "  File \"C:\\Users\\Whyme\\anaconda3\\lib\\site-packages\\joblib\\memory.py\", line 353, in __call__\n",
      "    return self.func(*args, **kwargs)\n",
      "  File \"C:\\Users\\Whyme\\anaconda3\\lib\\site-packages\\sklearn\\pipeline.py\", line 1303, in _fit_transform_one\n",
      "    res = transformer.fit_transform(X, y, **params.get(\"fit_transform\", {}))\n",
      "  File \"C:\\Users\\Whyme\\anaconda3\\lib\\site-packages\\sklearn\\utils\\_set_output.py\", line 273, in wrapped\n",
      "    data_to_wrap = f(self, X, *args, **kwargs)\n",
      "  File \"C:\\Users\\Whyme\\anaconda3\\lib\\site-packages\\sklearn\\base.py\", line 1064, in fit_transform\n",
      "    return self.fit(X, y, **fit_params).transform(X)\n",
      "  File \"C:\\Users\\Whyme\\anaconda3\\lib\\site-packages\\sklearn\\preprocessing\\_data.py\", line 876, in fit\n",
      "    return self.partial_fit(X, y, sample_weight)\n",
      "  File \"C:\\Users\\Whyme\\anaconda3\\lib\\site-packages\\sklearn\\base.py\", line 1351, in wrapper\n",
      "    return fit_method(estimator, *args, **kwargs)\n",
      "  File \"C:\\Users\\Whyme\\anaconda3\\lib\\site-packages\\sklearn\\preprocessing\\_data.py\", line 912, in partial_fit\n",
      "    X = self._validate_data(\n",
      "  File \"C:\\Users\\Whyme\\anaconda3\\lib\\site-packages\\sklearn\\base.py\", line 633, in _validate_data\n",
      "    out = check_array(X, input_name=\"X\", **check_params)\n",
      "  File \"C:\\Users\\Whyme\\anaconda3\\lib\\site-packages\\sklearn\\utils\\validation.py\", line 951, in check_array\n",
      "    array = _asarray_with_order(array, order=order, dtype=dtype, xp=xp)\n",
      "  File \"C:\\Users\\Whyme\\anaconda3\\lib\\site-packages\\sklearn\\utils\\_array_api.py\", line 521, in _asarray_with_order\n",
      "    array = numpy.asarray(array, order=order, dtype=dtype)\n",
      "  File \"C:\\Users\\Whyme\\anaconda3\\lib\\site-packages\\pandas\\core\\generic.py\", line 2149, in __array__\n",
      "    values = self._values\n",
      "  File \"C:\\Users\\Whyme\\anaconda3\\lib\\site-packages\\pandas\\core\\frame.py\", line 1116, in _values\n",
      "    return ensure_wrapped_if_datetimelike(self.values)\n",
      "  File \"C:\\Users\\Whyme\\anaconda3\\lib\\site-packages\\pandas\\core\\frame.py\", line 12637, in values\n",
      "    return self._mgr.as_array()\n",
      "  File \"C:\\Users\\Whyme\\anaconda3\\lib\\site-packages\\pandas\\core\\internals\\managers.py\", line 1693, in as_array\n",
      "    arr = self._interleave(dtype=dtype, na_value=na_value)\n",
      "  File \"C:\\Users\\Whyme\\anaconda3\\lib\\site-packages\\pandas\\core\\internals\\managers.py\", line 1726, in _interleave\n",
      "    result = np.empty(self.shape, dtype=dtype)\n",
      "numpy.core._exceptions._ArrayMemoryError: Unable to allocate 6.26 GiB for an array with shape (227, 3702272) and data type float64\n",
      "\n",
      "  warnings.warn(some_fits_failed_message, FitFailedWarning)\n",
      "C:\\Users\\Whyme\\anaconda3\\lib\\site-packages\\sklearn\\model_selection\\_search.py:1051: UserWarning: One or more of the test scores are non-finite: [nan]\n",
      "  warnings.warn(\n"
     ]
    },
    {
     "name": "stdout",
     "output_type": "stream",
     "text": [
      "{'mean_fit_time': array([161.50862393]), 'std_fit_time': array([124.92407629]), 'mean_score_time': array([4.06537876]), 'std_score_time': array([6.12114662]), 'params': [{}], 'split0_test_score': array([-0.40476488]), 'split1_test_score': array([-0.00954113]), 'split2_test_score': array([-0.13468033]), 'split3_test_score': array([-3.32003161]), 'split4_test_score': array([-4.85768618]), 'split5_test_score': array([-1.05905766]), 'split6_test_score': array([nan]), 'split7_test_score': array([nan]), 'mean_test_score': array([nan]), 'std_test_score': array([nan]), 'rank_test_score': array([1])}\n"
     ]
    }
   ],
   "source": [
    "pipe = Pipeline([\n",
    "        ('scale', StandardScaler()),\n",
    "        ('reg', LinearRegression())])\n",
    "\n",
    "param_grid = {}\n",
    "\n",
    "gsc = GridSearchCV(pipe, param_grid = param_grid, scoring='r2',\n",
    "            cv=TimeSeriesSplit(n_splits=8), n_jobs=-1)\n",
    "\n",
    "gsc.fit(X,y)\n",
    "print(gsc.cv_results_)"
   ]
  },
  {
   "cell_type": "code",
   "execution_count": 32,
   "id": "fb4a524d",
   "metadata": {},
   "outputs": [
    {
     "name": "stdout",
     "output_type": "stream",
     "text": [
      "nan\n"
     ]
    }
   ],
   "source": [
    "print(gsc.best_score_)"
   ]
  },
  {
   "cell_type": "markdown",
   "id": "eae5af25",
   "metadata": {},
   "source": [
    "'gsc.best_score_' probably gives 'nan' because all scores are below 0. Scaling did not change the scores in any way."
   ]
  },
  {
   "cell_type": "markdown",
   "id": "c53040b2",
   "metadata": {},
   "source": [
    "Below is code from previous attempts, as well as notes and questions."
   ]
  },
  {
   "cell_type": "markdown",
   "id": "174592f0",
   "metadata": {},
   "source": [
    "#Before attempting one hot encoding:\n",
    "#I created 'df2' for one isolated weather station to see if the scores would change.\n",
    "\n",
    "df2 = df[df['lon']==-122.45246]\n",
    "X = df2.drop(['DS_PM_pred'],axis=1)\n",
    "X = df2.drop(['lat'],axis=1)\n",
    "y = df2['DS_PM_pred']\n",
    "model = LinearRegression()\n",
    "cv = TimeSeriesSplit(n_splits=8)\n",
    "\n",
    "# Iterate through CV splits\n",
    "results = []\n",
    "scores = []\n",
    "for tr, tt in cv.split(X, y):\n",
    "    # Fit the model on training data\n",
    "    model.fit(X.iloc[tr],y.iloc[tr])\n",
    "    \n",
    "    # Generate predictions on the test data and collect\n",
    "    prediction = model.predict(X.iloc[tt])\n",
    "    score = r2_score(y.iloc[tt], prediction)\n",
    "    results.append((prediction,score,tt))\n",
    "    scores.append(score)\n",
    "\n",
    "#When removing just one 'lat' or 'lon' column, the r2 scores came back 1,..., 1 for each cv split (this was true when not focusing on a single station). Then there was massive overfitting, but one hot encoding also made memory and processing a bigger problem."
   ]
  },
  {
   "cell_type": "code",
   "execution_count": 12,
   "id": "ec63daeb",
   "metadata": {},
   "outputs": [],
   "source": [
    "#valid is a time stamp and should have the day, month, year, hour separated\n",
    "#df['valid']=pd.to_datetime(df['valid'])\n",
    "#df['year']=df['valid'].dt.year\n",
    "#df['month']=df['valid'].dt.month\n",
    "#df['day']=df['valid'].dt.day\n",
    "#df['hour']=df['valid'].dt.hour\n",
    "#df.drop(['valid'],axis=1,inplace=True)"
   ]
  },
  {
   "cell_type": "code",
   "execution_count": 13,
   "id": "70898094",
   "metadata": {},
   "outputs": [],
   "source": [
    "#create a new col 'loc' in order to make ('lon,'lat') into a categorical variable\n",
    "#df['location']=[x for x in zip(df['lon'],df['lat'])]\n",
    "#df.drop(['lon','lat'],axis=1,inplace=True)"
   ]
  },
  {
   "cell_type": "code",
   "execution_count": 14,
   "id": "3136add6",
   "metadata": {},
   "outputs": [],
   "source": [
    "#df['location'].nunique()"
   ]
  },
  {
   "cell_type": "code",
   "execution_count": 15,
   "id": "8d919e01",
   "metadata": {},
   "outputs": [
    {
     "data": {
      "text/html": [
       "<div>\n",
       "<style scoped>\n",
       "    .dataframe tbody tr th:only-of-type {\n",
       "        vertical-align: middle;\n",
       "    }\n",
       "\n",
       "    .dataframe tbody tr th {\n",
       "        vertical-align: top;\n",
       "    }\n",
       "\n",
       "    .dataframe thead th {\n",
       "        text-align: right;\n",
       "    }\n",
       "</style>\n",
       "<table border=\"1\" class=\"dataframe\">\n",
       "  <thead>\n",
       "    <tr style=\"text-align: right;\">\n",
       "      <th></th>\n",
       "      <th>DS_PM_pred</th>\n",
       "      <th>lon</th>\n",
       "      <th>lat</th>\n",
       "      <th>tmpf</th>\n",
       "      <th>relh</th>\n",
       "      <th>drct</th>\n",
       "      <th>sped</th>\n",
       "    </tr>\n",
       "  </thead>\n",
       "  <tbody>\n",
       "    <tr>\n",
       "      <th>2018-11-16 00:56:00</th>\n",
       "      <td>170.408</td>\n",
       "      <td>-122.41534</td>\n",
       "      <td>37.70964</td>\n",
       "      <td>58.0</td>\n",
       "      <td>64.47</td>\n",
       "      <td>90.0</td>\n",
       "      <td>3.45</td>\n",
       "    </tr>\n",
       "    <tr>\n",
       "      <th>2018-11-16 00:56:00</th>\n",
       "      <td>166.927</td>\n",
       "      <td>-122.42051</td>\n",
       "      <td>37.66784</td>\n",
       "      <td>58.0</td>\n",
       "      <td>64.47</td>\n",
       "      <td>90.0</td>\n",
       "      <td>3.45</td>\n",
       "    </tr>\n",
       "    <tr>\n",
       "      <th>2018-11-16 00:56:00</th>\n",
       "      <td>161.708</td>\n",
       "      <td>-122.49780</td>\n",
       "      <td>37.74254</td>\n",
       "      <td>58.0</td>\n",
       "      <td>64.47</td>\n",
       "      <td>90.0</td>\n",
       "      <td>3.45</td>\n",
       "    </tr>\n",
       "    <tr>\n",
       "      <th>2018-11-16 00:56:00</th>\n",
       "      <td>173.314</td>\n",
       "      <td>-122.38450</td>\n",
       "      <td>37.73450</td>\n",
       "      <td>58.0</td>\n",
       "      <td>64.47</td>\n",
       "      <td>90.0</td>\n",
       "      <td>3.45</td>\n",
       "    </tr>\n",
       "    <tr>\n",
       "      <th>2018-11-16 00:56:00</th>\n",
       "      <td>159.826</td>\n",
       "      <td>-122.37112</td>\n",
       "      <td>37.59430</td>\n",
       "      <td>58.0</td>\n",
       "      <td>64.47</td>\n",
       "      <td>90.0</td>\n",
       "      <td>3.45</td>\n",
       "    </tr>\n",
       "    <tr>\n",
       "      <th>...</th>\n",
       "      <td>...</td>\n",
       "      <td>...</td>\n",
       "      <td>...</td>\n",
       "      <td>...</td>\n",
       "      <td>...</td>\n",
       "      <td>...</td>\n",
       "      <td>...</td>\n",
       "    </tr>\n",
       "    <tr>\n",
       "      <th>2018-11-16 00:56:00</th>\n",
       "      <td>165.096</td>\n",
       "      <td>-122.48043</td>\n",
       "      <td>37.74603</td>\n",
       "      <td>58.0</td>\n",
       "      <td>64.47</td>\n",
       "      <td>90.0</td>\n",
       "      <td>3.45</td>\n",
       "    </tr>\n",
       "    <tr>\n",
       "      <th>2018-11-16 00:56:00</th>\n",
       "      <td>173.986</td>\n",
       "      <td>-122.43876</td>\n",
       "      <td>37.79368</td>\n",
       "      <td>58.0</td>\n",
       "      <td>64.47</td>\n",
       "      <td>90.0</td>\n",
       "      <td>3.45</td>\n",
       "    </tr>\n",
       "    <tr>\n",
       "      <th>2018-11-16 00:56:00</th>\n",
       "      <td>161.934</td>\n",
       "      <td>-122.44970</td>\n",
       "      <td>37.67802</td>\n",
       "      <td>58.0</td>\n",
       "      <td>64.47</td>\n",
       "      <td>90.0</td>\n",
       "      <td>3.45</td>\n",
       "    </tr>\n",
       "    <tr>\n",
       "      <th>2018-11-16 00:56:00</th>\n",
       "      <td>173.123</td>\n",
       "      <td>-122.44526</td>\n",
       "      <td>37.80318</td>\n",
       "      <td>58.0</td>\n",
       "      <td>64.47</td>\n",
       "      <td>90.0</td>\n",
       "      <td>3.45</td>\n",
       "    </tr>\n",
       "    <tr>\n",
       "      <th>2018-11-16 00:56:00</th>\n",
       "      <td>167.402</td>\n",
       "      <td>-122.45713</td>\n",
       "      <td>37.74376</td>\n",
       "      <td>58.0</td>\n",
       "      <td>64.47</td>\n",
       "      <td>90.0</td>\n",
       "      <td>3.45</td>\n",
       "    </tr>\n",
       "  </tbody>\n",
       "</table>\n",
       "<p>224 rows × 7 columns</p>\n",
       "</div>"
      ],
      "text/plain": [
       "                     DS_PM_pred        lon       lat  tmpf   relh  drct  sped\n",
       "2018-11-16 00:56:00     170.408 -122.41534  37.70964  58.0  64.47  90.0  3.45\n",
       "2018-11-16 00:56:00     166.927 -122.42051  37.66784  58.0  64.47  90.0  3.45\n",
       "2018-11-16 00:56:00     161.708 -122.49780  37.74254  58.0  64.47  90.0  3.45\n",
       "2018-11-16 00:56:00     173.314 -122.38450  37.73450  58.0  64.47  90.0  3.45\n",
       "2018-11-16 00:56:00     159.826 -122.37112  37.59430  58.0  64.47  90.0  3.45\n",
       "...                         ...        ...       ...   ...    ...   ...   ...\n",
       "2018-11-16 00:56:00     165.096 -122.48043  37.74603  58.0  64.47  90.0  3.45\n",
       "2018-11-16 00:56:00     173.986 -122.43876  37.79368  58.0  64.47  90.0  3.45\n",
       "2018-11-16 00:56:00     161.934 -122.44970  37.67802  58.0  64.47  90.0  3.45\n",
       "2018-11-16 00:56:00     173.123 -122.44526  37.80318  58.0  64.47  90.0  3.45\n",
       "2018-11-16 00:56:00     167.402 -122.45713  37.74376  58.0  64.47  90.0  3.45\n",
       "\n",
       "[224 rows x 7 columns]"
      ]
     },
     "execution_count": 15,
     "metadata": {},
     "output_type": "execute_result"
    }
   ],
   "source": [
    "#I found the historically high pm2.5 levels explanation\n",
    "#https://www.sfgate.com/weather/article/Worst-air-quality-in-San-Francisco-Bay-Area-BAAQMD-13511176.php\n",
    "df.loc[df['DS_PM_pred'].idxmax()]"
   ]
  },
  {
   "cell_type": "markdown",
   "id": "49dfbf6e",
   "metadata": {},
   "source": [
    "\"The Camp Fire started on Thursday, November 8, 2018, in Northern California's Butte County. Ignited by a faulty electric transmission line, the fire originated above several communities and an east wind drove the fire downhill through developed areas.\"\n",
    "\n",
    "https://www.fire.ca.gov/our-impact/remembering-the-camp-fire"
   ]
  },
  {
   "cell_type": "code",
   "execution_count": 16,
   "id": "e29debc0",
   "metadata": {},
   "outputs": [
    {
     "data": {
      "image/png": "[encoded data removed]",
      "text/plain": [
       "<Figure size 640x480 with 1 Axes>"
      ]
     },
     "metadata": {},
     "output_type": "display_data"
    },
    {
     "data": {
      "image/png": "[encoded data removed]",
      "text/plain": [
       "<Figure size 640x480 with 1 Axes>"
      ]
     },
     "metadata": {},
     "output_type": "display_data"
    },
    {
     "data": {
      "image/png": "[encoded data removed]",
      "text/plain": [
       "<Figure size 640x480 with 1 Axes>"
      ]
     },
     "metadata": {},
     "output_type": "display_data"
    },
    {
     "data": {
      "image/png": "[encoded data removed]",
      "text/plain": [
       "<Figure size 640x480 with 1 Axes>"
      ]
     },
     "metadata": {},
     "output_type": "display_data"
    },
    {
     "data": {
      "image/png": "[encoded data removed]",
      "text/plain": [
       "<Figure size 640x480 with 1 Axes>"
      ]
     },
     "metadata": {},
     "output_type": "display_data"
    }
   ],
   "source": [
    "%matplotlib inline\n",
    "for i in df[['DS_PM_pred', 'tmpf','relh', 'drct', 'sped']]:\n",
    "    df[i].hist()\n",
    "    plt.title(i)\n",
    "    plt.show()"
   ]
  },
  {
   "cell_type": "code",
   "execution_count": 17,
   "id": "28df964b",
   "metadata": {},
   "outputs": [],
   "source": [
    "dfnum = df[['DS_PM_pred', 'tmpf','relh', 'drct', 'sped']]"
   ]
  },
  {
   "cell_type": "markdown",
   "id": "3890d4f6",
   "metadata": {},
   "source": [
    "Questions:\n",
    "\n",
    "1. I assume all the feature engineering for numerical data may be based on the histograms above, which scales are appropriate for each type?\n",
    "\n",
    "Notes: \n",
    "'tmpf' temperature is nearly normal, should I just use StandardScaler?\n",
    "\n",
    "'relh' relative humidity is left skewed. \n",
    "\n",
    "'drct' wind direction has many '0' values whenever there is no wind direction (0 speed) or measure error. RobustScaler?\n",
    "\n",
    "'sped' wind speed is right skewed.\n",
    "\n",
    "2. Should I scale the target value 'DS_PM_pred' after train-test split? It seems like a log transformation because I want to keep the outliers because they are what I want to predict for. However, I don't want information to creep in because it knows to expect outliers if I transform before splitting, correct?\n",
    "\n",
    "3. How should I deal with the location feature? (224 unique locations) One-hot, dummy, etc.?"
   ]
  },
  {
   "cell_type": "markdown",
   "id": "5e37a0c1",
   "metadata": {},
   "source": [
    "Answering myself:\n",
    "\n",
    "Scaling did not seem to affect r2 score, a technique other than linear regression should be applied.\n",
    "Time series spilt should be used instead of train-test split, as we do not want future data leak. \n",
    "\n",
    "For the future, we want to use this preprocessed data for a neural network OR choose a different regression model with a parameter grid search. However, I cannot address the memory issue. I may want to rethink my one hot encoding. "
   ]
  },
  {
   "cell_type": "code",
   "execution_count": 7,
   "id": "ba4fd64e",
   "metadata": {},
   "outputs": [],
   "source": [
    "from sklearn.metrics import mean_squared_error\n",
    "cv = TimeSeriesSplit(n_splits=8)\n",
    "# Iterate through CV splits\n",
    "scores=[]\n",
    "for tr, tt in cv.split(X, y):\n",
    "    # Fit the model on training data\n",
    "    model.fit(X.iloc[tr],y.iloc[tr])\n",
    "    \n",
    "    # Generate predictions on the test data and collect\n",
    "    prediction = model.predict(X.iloc[tt])\n",
    "    score = mean_squared_error(y.iloc[tt], prediction)\n",
    "    scores.append(score)"
   ]
  },
  {
   "cell_type": "code",
   "execution_count": 8,
   "id": "699eda07",
   "metadata": {},
   "outputs": [
    {
     "name": "stdout",
     "output_type": "stream",
     "text": [
      "16.76057043052783\n",
      "28.50151555307429\n",
      "1140.1480365478644\n",
      "99.47059150346574\n",
      "58.40564497314986\n",
      "17.77418579086076\n",
      "19.02014958048429\n",
      "28.42397683794702\n"
     ]
    }
   ],
   "source": [
    "for i in scores:\n",
    "    print(i)"
   ]
  },
  {
   "cell_type": "code",
   "execution_count": 21,
   "id": "75e013e0",
   "metadata": {},
   "outputs": [],
   "source": [
    "df.drop(['lon'],axis=1,inplace=True)\n",
    "X = df.drop(['DS_PM_pred'],axis=1)\n",
    "y = df['DS_PM_pred']\n",
    "model = LassoCV()"
   ]
  },
  {
   "cell_type": "code",
   "execution_count": 22,
   "id": "35d229ed",
   "metadata": {},
   "outputs": [
    {
     "name": "stdout",
     "output_type": "stream",
     "text": [
      "Fitting 8 folds for each of 20 candidates, totalling 160 fits\n",
      "{'mean_fit_time': array([196.16532448,   5.23943648,   7.56771371,   7.31457287,\n",
      "         7.09441394,   6.23964509,   6.48608077,   6.71327671,\n",
      "         6.32741883,   6.0599573 ,   6.3321991 ,   6.09199348,\n",
      "         5.42547712,   5.46776029,   5.96669835,   6.80257043,\n",
      "         5.36642846,   5.12757176,   5.33359244,   4.98461729]), 'std_fit_time': array([77.2845162 ,  3.82234787,  4.05607265,  3.1077057 ,  3.36500839,\n",
      "        2.61693604,  3.01846364,  3.57767719,  3.26794261,  3.01601124,\n",
      "        2.85370142,  3.09890186,  2.71993128,  2.32405995,  3.20274887,\n",
      "        3.62001176,  2.71162367,  2.73583037,  2.60187673,  2.36100621]), 'mean_score_time': array([0.21916699, 0.21252716, 0.28212553, 0.26229301, 0.30634376,\n",
      "       0.25367504, 0.2763533 , 0.31923351, 0.25589576, 0.26781559,\n",
      "       0.29947722, 0.28141963, 0.24763182, 0.26271892, 0.27891216,\n",
      "       0.29652175, 0.25945523, 0.29760411, 0.24795061, 0.21392345]), 'std_score_time': array([0.22829999, 0.0587467 , 0.04530963, 0.05728284, 0.02580242,\n",
      "       0.02727579, 0.04941899, 0.09880512, 0.06938236, 0.06612205,\n",
      "       0.09538871, 0.04758843, 0.03658632, 0.12001568, 0.14098927,\n",
      "       0.08642396, 0.05355513, 0.13796566, 0.05829744, 0.0807534 ]), 'param_reg__alpha': masked_array(data=[0.0, 0.05, 0.1, 0.15000000000000002, 0.2, 0.25,\n",
      "                   0.30000000000000004, 0.35000000000000003, 0.4, 0.45,\n",
      "                   0.5, 0.55, 0.6000000000000001, 0.65,\n",
      "                   0.7000000000000001, 0.75, 0.8, 0.8500000000000001, 0.9,\n",
      "                   0.9500000000000001],\n",
      "             mask=[False, False, False, False, False, False, False, False,\n",
      "                   False, False, False, False, False, False, False, False,\n",
      "                   False, False, False, False],\n",
      "       fill_value='?',\n",
      "            dtype=object), 'params': [{'reg__alpha': 0.0}, {'reg__alpha': 0.05}, {'reg__alpha': 0.1}, {'reg__alpha': 0.15000000000000002}, {'reg__alpha': 0.2}, {'reg__alpha': 0.25}, {'reg__alpha': 0.30000000000000004}, {'reg__alpha': 0.35000000000000003}, {'reg__alpha': 0.4}, {'reg__alpha': 0.45}, {'reg__alpha': 0.5}, {'reg__alpha': 0.55}, {'reg__alpha': 0.6000000000000001}, {'reg__alpha': 0.65}, {'reg__alpha': 0.7000000000000001}, {'reg__alpha': 0.75}, {'reg__alpha': 0.8}, {'reg__alpha': 0.8500000000000001}, {'reg__alpha': 0.9}, {'reg__alpha': 0.9500000000000001}], 'split0_test_score': array([-0.40595657, -0.3923855 , -0.3805399 , -0.37041432, -0.36200877,\n",
      "       -0.35532325, -0.34990554, -0.34415114, -0.33941787, -0.33570572,\n",
      "       -0.33301471, -0.33134482, -0.33069606, -0.32379785, -0.31486288,\n",
      "       -0.3068625 , -0.30009369, -0.29479814, -0.29117555, -0.28881985]), 'split1_test_score': array([-0.01109294, -0.00796149, -0.00690496, -0.0079246 , -0.01102022,\n",
      "       -0.01578436, -0.02218198, -0.0303561 , -0.03460626, -0.03119361,\n",
      "       -0.02810693, -0.02534643, -0.02291284, -0.02080451, -0.01902247,\n",
      "       -0.01756661, -0.01643731, -0.01563374, -0.01457951, -0.01358992]), 'split2_test_score': array([-0.1348142 , -0.13199399, -0.12922825, -0.12651773, -0.12382243,\n",
      "       -0.1211422 , -0.12007651, -0.1213999 , -0.12275359, -0.124764  ,\n",
      "       -0.12686555, -0.12844984, -0.12976244, -0.13108236, -0.13240958,\n",
      "       -0.13374412, -0.13508597, -0.13643513, -0.13779161, -0.13915539]), 'split3_test_score': array([-3.32118611, -3.20099159, -3.08403516, -2.97020071, -2.85948823,\n",
      "       -2.75157688, -2.64561187, -2.54240668, -2.44196131, -2.34427576,\n",
      "       -2.24935003, -2.15718412, -2.06777803, -1.98113177, -1.89724533,\n",
      "       -1.81611871, -1.737795  , -1.66218561, -1.58933604, -1.51924629]), 'split4_test_score': array([-4.85678493, -4.70698664, -4.56176573, -4.42108776, -4.28495273,\n",
      "       -4.15225116, -4.02245558, -3.89636662, -3.77398428, -3.65530855,\n",
      "       -3.54033945, -3.42907697, -3.3215211 , -3.21767185, -3.11752866,\n",
      "       -3.02108845, -2.95146958, -2.92163203, -2.89414075, -2.86899576]), 'split5_test_score': array([-1.05858199, -1.05563054, -1.05686346, -1.062298  , -1.07193414,\n",
      "       -1.08205674, -1.09501838, -1.11122965, -1.10241169, -1.08500868,\n",
      "       -1.07043436, -1.05868882, -1.04977206, -1.04368407, -1.04042486,\n",
      "       -1.03999442, -1.04239277, -1.04761989, -1.05567578, -1.06656046]), 'split6_test_score': array([-1.62788886, -1.58044574, -1.54255003, -1.51421481, -1.49544007,\n",
      "       -1.48263952, -1.47802716, -1.48182513, -1.49403519, -1.51465527,\n",
      "       -1.48589036, -1.42948375, -1.37798101, -1.33138215, -1.28968717,\n",
      "       -1.25289606, -1.22100882, -1.19402546, -1.17194598, -1.15477038]), 'split7_test_score': array([-0.58428655, -0.52942004, -0.47802687, -0.43009246, -0.38555472,\n",
      "       -0.34352459, -0.30448908, -0.26844819, -0.23540191, -0.20535025,\n",
      "       -0.17829382, -0.15423411, -0.13715641, -0.12352635, -0.11199199,\n",
      "       -0.10255323, -0.09521005, -0.08996248, -0.0868105 , -0.0857541 ]), 'mean_test_score': array([-1.50007402, -1.45072694, -1.4049893 , -1.3628438 , -1.32427766,\n",
      "       -1.28803734, -1.25472076, -1.22452292, -1.19307151, -1.16203273,\n",
      "       -1.1265369 , -1.08922611, -1.05469749, -1.02163511, -0.99039662,\n",
      "       -0.96135301, -0.93743665, -0.92028656, -0.90518196, -0.89211152]), 'std_test_score': array([1.6167857 , 1.56640925, 1.5172141 , 1.46922356, 1.42251284,\n",
      "       1.37696672, 1.33222112, 1.28873263, 1.24765343, 1.20919289,\n",
      "       1.17015854, 1.13113158, 1.09290336, 1.05640682, 1.02144463,\n",
      "       0.98779302, 0.96150203, 0.94607335, 0.93184171, 0.91881089]), 'rank_test_score': array([20, 19, 18, 17, 16, 15, 14, 13, 12, 11, 10,  9,  8,  7,  6,  5,  4,\n",
      "        3,  2,  1])}\n"
     ]
    }
   ],
   "source": [
    "from sklearn.linear_model import Lasso\n",
    "lasso = Lasso(random_state=0)\n",
    "alphas = np.logspace(-4, -0.5, 30)\n",
    "pipe = Pipeline([\n",
    "        ('scale', RobustScaler()),\n",
    "        ('reg', lasso)])\n",
    "\n",
    "gsc = GridSearchCV(pipe, param_grid = {'reg__alpha':np.arange(0, 1, 0.05)},\n",
    "            cv=TimeSeriesSplit(n_splits=8).split(X), verbose=10, n_jobs=-1)\n",
    "\n",
    "gsc.fit(X,y)\n",
    "print(gsc.cv_results_)"
   ]
  },
  {
   "cell_type": "code",
   "execution_count": 23,
   "id": "a45ba170",
   "metadata": {},
   "outputs": [
    {
     "data": {
      "text/plain": [
       "-0.8921115184058913"
      ]
     },
     "execution_count": 23,
     "metadata": {},
     "output_type": "execute_result"
    }
   ],
   "source": [
    "gsc.best_score_"
   ]
  },
  {
   "cell_type": "code",
   "execution_count": 25,
   "id": "ddd3c117",
   "metadata": {},
   "outputs": [
    {
     "data": {
      "text/plain": [
       "{'reg__alpha': 0.9500000000000001}"
      ]
     },
     "execution_count": 25,
     "metadata": {},
     "output_type": "execute_result"
    }
   ],
   "source": [
    "gsc.best_params_"
   ]
  },
  {
   "cell_type": "code",
   "execution_count": 27,
   "id": "1cadb61f",
   "metadata": {},
   "outputs": [
    {
     "name": "stdout",
     "output_type": "stream",
     "text": [
      "Fitting 8 folds for each of 1 candidates, totalling 8 fits\n",
      "{'mean_fit_time': array([1.16410521]), 'std_fit_time': array([0.48855757]), 'mean_score_time': array([0.04723626]), 'std_score_time': array([0.02613563]), 'params': [{}], 'split0_test_score': array([-0.40595657]), 'split1_test_score': array([-0.01109294]), 'split2_test_score': array([-0.1348142]), 'split3_test_score': array([-3.32118611]), 'split4_test_score': array([-4.85678493]), 'split5_test_score': array([-1.05858199]), 'split6_test_score': array([-1.62788886]), 'split7_test_score': array([-0.58428655]), 'mean_test_score': array([-1.50007402]), 'std_test_score': array([1.6167857]), 'rank_test_score': array([1])}\n"
     ]
    }
   ],
   "source": [
    "pipe = Pipeline([\n",
    "        ('scale', RobustScaler()),\n",
    "        ('reg', LinearRegression())])\n",
    "\n",
    "gsc = GridSearchCV(pipe, param_grid = {},\n",
    "            cv=TimeSeriesSplit(n_splits=8), verbose=10, n_jobs=-1)\n",
    "\n",
    "gsc.fit(X,y)\n",
    "print(gsc.cv_results_)"
   ]
  },
  {
   "cell_type": "code",
   "execution_count": 28,
   "id": "7d503985",
   "metadata": {},
   "outputs": [
    {
     "data": {
      "text/plain": [
       "{'mean_fit_time': array([1.16410521]),\n",
       " 'std_fit_time': array([0.48855757]),\n",
       " 'mean_score_time': array([0.04723626]),\n",
       " 'std_score_time': array([0.02613563]),\n",
       " 'params': [{}],\n",
       " 'split0_test_score': array([-0.40595657]),\n",
       " 'split1_test_score': array([-0.01109294]),\n",
       " 'split2_test_score': array([-0.1348142]),\n",
       " 'split3_test_score': array([-3.32118611]),\n",
       " 'split4_test_score': array([-4.85678493]),\n",
       " 'split5_test_score': array([-1.05858199]),\n",
       " 'split6_test_score': array([-1.62788886]),\n",
       " 'split7_test_score': array([-0.58428655]),\n",
       " 'mean_test_score': array([-1.50007402]),\n",
       " 'std_test_score': array([1.6167857]),\n",
       " 'rank_test_score': array([1])}"
      ]
     },
     "execution_count": 28,
     "metadata": {},
     "output_type": "execute_result"
    }
   ],
   "source": [
    "gsc.cv_results_"
   ]
  },
  {
   "cell_type": "code",
   "execution_count": 30,
   "id": "08a22346",
   "metadata": {},
   "outputs": [
    {
     "data": {
      "text/plain": [
       "-1.5000740191659925"
      ]
     },
     "execution_count": 30,
     "metadata": {},
     "output_type": "execute_result"
    }
   ],
   "source": [
    "gsc.best_score_"
   ]
  },
  {
   "cell_type": "code",
   "execution_count": null,
   "id": "f22447c8",
   "metadata": {},
   "outputs": [],
   "source": []
  }
 ],
 "metadata": {
  "kernelspec": {
   "display_name": "Python 3 (ipykernel)",
   "language": "python",
   "name": "python3"
  },
  "language_info": {
   "codemirror_mode": {
    "name": "ipython",
    "version": 3
   },
   "file_extension": ".py",
   "mimetype": "text/x-python",
   "name": "python",
   "nbconvert_exporter": "python",
   "pygments_lexer": "ipython3",
   "version": "3.9.13"
  }
 },
 "nbformat": 4,
 "nbformat_minor": 5
}
