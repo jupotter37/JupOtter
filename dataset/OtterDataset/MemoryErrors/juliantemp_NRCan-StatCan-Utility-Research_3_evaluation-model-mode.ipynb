{
 "cells": [
  {
   "cell_type": "markdown",
   "id": "116abdfd-ea04-4ea6-92f2-9ce5ab4062b8",
   "metadata": {},
   "source": [
    "# Evaluation TimeGAN"
   ]
  },
  {
   "cell_type": "code",
   "execution_count": null,
   "id": "793564f3-1cb5-4234-8d7a-bd4693a8e91b",
   "metadata": {},
   "outputs": [],
   "source": [
    "# sometimes we have to purge the workspace to avoid errors\n",
    "!rm -rf workspace"
   ]
  },
  {
   "cell_type": "code",
   "execution_count": null,
   "id": "31d0d4e3-d5af-49c3-a5d0-6398802f3298",
   "metadata": {},
   "outputs": [],
   "source": [
    "# stdlib\n",
    "import sys\n",
    "import pickle\n",
    "import random\n",
    "import warnings\n",
    "\n",
    "warnings.filterwarnings(\"ignore\")\n",
    "\n",
    "from datetime import datetime, timedelta\n",
    "\n",
    "import numpy as np\n",
    "import pandas as pd\n",
    "\n",
    "# synthcity absolute\n",
    "import synthcity.logger as log\n",
    "from synthcity.plugins import Plugins\n",
    "from synthcity.plugins.core.dataloader import TimeSeriesDataLoader\n",
    "from synthcity import metrics\n",
    "from synthcity.benchmark import Benchmarks\n",
    "from synthcity.utils.serialization import load, load_from_file, save, save_to_file\n",
    "\n",
    "log.add(sink=sys.stderr, level=\"INFO\")"
   ]
  },
  {
   "cell_type": "code",
   "execution_count": null,
   "id": "f17f3911-2b1b-445c-ad1a-a269f3b5c20f",
   "metadata": {},
   "outputs": [],
   "source": [
    "import matplotlib.pyplot as plt\n",
    "from matplotlib.ticker import FuncFormatter\n",
    "import seaborn as sns\n",
    "from synthcity.metrics.plots import plot_marginal_comparison, plot_tsne"
   ]
  },
  {
   "cell_type": "code",
   "execution_count": null,
   "id": "c50514c0-5a5e-44f7-8a85-e106213be568",
   "metadata": {},
   "outputs": [],
   "source": [
    "from scipy.spatial import distance\n",
    "from scipy.stats import ks_2samp"
   ]
  },
  {
   "cell_type": "code",
   "execution_count": null,
   "id": "970bb86c-3ff1-4eb5-affd-39df2ec1df5d",
   "metadata": {},
   "outputs": [],
   "source": [
    "from sklearn.preprocessing import OrdinalEncoder\n",
    "from sklearn.compose import make_column_transformer\n",
    "from sklearn.compose import make_column_selector"
   ]
  },
  {
   "cell_type": "code",
   "execution_count": null,
   "id": "ef99c9be-229d-4170-bf6c-5916f53bf956",
   "metadata": {},
   "outputs": [],
   "source": [
    "from IPython.utils import io"
   ]
  },
  {
   "cell_type": "markdown",
   "id": "4c17c35c-8693-49a3-8592-b4380f6ef8fe",
   "metadata": {},
   "source": [
    "## Load SD generator & sample or load SD"
   ]
  },
  {
   "cell_type": "code",
   "execution_count": null,
   "id": "f0d1dad2-4eba-4e9f-bd70-5b8b6c365e9e",
   "metadata": {},
   "outputs": [],
   "source": [
    "# False to load SD, True to load model and generate\n",
    "generate = False\n",
    "generator = \"timegan\"\n",
    "mode = \"GRU\"\n",
    "n_iter = 100\n",
    "# it should be 4000 but it takes 35 minutes on a GPU\n",
    "num_seq = 4000\n",
    "days = 1\n",
    "# real data dir\n",
    "data_dir = \"../\"\n",
    "# generate_tsne\n",
    "generate_tsne = False"
   ]
  },
  {
   "cell_type": "markdown",
   "id": "333a8992-82a4-4804-b263-f2ea04a06422",
   "metadata": {},
   "source": [
    "For 4gb of VRAM and less, only 3900 samples can be generated in that case.\n",
    "```\n",
    "OutOfMemoryError: CUDA out of memory. Tried to allocate 946.00 MiB (GPU 0; 3.81 GiB total capacity; 2.88 GiB already allocated; 684.19 MiB free; 2.98 GiB reserved in total by PyTorch) If reserved memory is >> allocated memory try setting max_split_size_mb to avoid fragmentation.  See documentation for Memory Management and PYTORCH_CUDA_ALLOC_CONF\n",
    "```\n",
    "\n",
    "The following error is related to the fact that the generator is not sampling 24 time series of fixed lengths (24 hours)\n",
    "```\n",
    "[2024-03-19T20:35:25.858358+0000][21133][INFO] [seq_time_id] quality loss for constraints ge = 0. Remaining 91881. prev length 93600. Original dtype int64.\n",
    "```\n",
    "\n",
    "Same error when sampling 1000 with patience 1000\n",
    "```\n",
    "[2024-03-19T21:35:19.135288+0000][22117][INFO] [seq_time_id] quality loss for constraints ge = 0. Remaining 11795. prev length 12000. Original dtype int64.\n",
    "```"
   ]
  },
  {
   "cell_type": "code",
   "execution_count": null,
   "id": "d285de0e-468d-4f35-8a66-ecfe417dea46",
   "metadata": {
    "scrolled": true
   },
   "outputs": [],
   "source": [
    "%%time\n",
    "if generate:\n",
    "    syn_model = load_from_file(f\"model_{generator}_mode_{mode}_synthcity_days_{days}_niter_{n_iter}.pkl\")\n",
    "    #synthesizer.verbose = False\n",
    "    with io.capture_output() as captured:\n",
    "        synthetic_data = syn_model.generate(num_seq, sampling_patience=10000).dataframe()\n",
    "        #synthetic_data = syn_model.generate(num_seq).dataframe()\n",
    "    synthetic_data.to_csv(f\"synthetic_data_model_{generator}_synthcity_days_{days}_niter_{n_iter}.csv\")\n",
    "else:\n",
    "    synthetic_data = pd.read_csv(f\"synthetic_data_model_{generator}_mode_{mode}_synthcity_days_{days}_niter_{n_iter}.csv\", index_col=0)"
   ]
  },
  {
   "cell_type": "code",
   "execution_count": null,
   "id": "07571621-435f-4589-867e-759c663f853f",
   "metadata": {},
   "outputs": [],
   "source": [
    "synthetic_data.head(3)"
   ]
  },
  {
   "cell_type": "markdown",
   "id": "74c3aad3-63a4-4f2b-b6b1-9fc48037941c",
   "metadata": {},
   "source": [
    "## Load RD"
   ]
  },
  {
   "cell_type": "code",
   "execution_count": null,
   "id": "94b13304-ab32-4612-abf3-842fe1070299",
   "metadata": {},
   "outputs": [],
   "source": [
    "real_data = pd.read_csv(f\"{data_dir}real_data_sdv_{days}_days.csv\", index_col=0)"
   ]
  },
  {
   "cell_type": "code",
   "execution_count": null,
   "id": "7c715f2e-1a71-4c09-be04-ffaca70eddc5",
   "metadata": {},
   "outputs": [],
   "source": [
    "real_data.head(3)"
   ]
  },
  {
   "cell_type": "code",
   "execution_count": null,
   "id": "feb306d0-efae-4841-9319-061549f1ae6e",
   "metadata": {},
   "outputs": [],
   "source": [
    "def extract_ts(df):\n",
    "    \"\"\" Extract time series for each `datapoint_id`\n",
    "\n",
    "    Parameters\n",
    "    ----------\n",
    "    df : pd.DataFrame\n",
    "        Input dataframe with static and time series values.\n",
    "\n",
    "    Returns\n",
    "    -------\n",
    "    pd.DataFrame\n",
    "        DataFrame with static features\n",
    "    \n",
    "    List\n",
    "        List of time series DataFrames\n",
    "    \"\"\"\n",
    "    # get static features\n",
    "    static_df = df.drop(columns=[\"Timestamp\", \"energy_elec\", \"energy_gas\"]).drop_duplicates().reset_index(drop=True)\n",
    "\n",
    "    # get timeseries for each datapoint_id\n",
    "    group_timeseries = df[[\"datapoint_id\", \"Timestamp\", \"energy_elec\", \"energy_gas\"]].groupby('datapoint_id', sort=False)\n",
    "    # timeseries_dfs = [group_timeseries.get_group(t)[[#\"Timestamp\",\n",
    "    #                                                  \"energy_elec\",\n",
    "    #                                                  \"energy_gas\"]] for t in group_timeseries.groups]    \n",
    "\n",
    "    timeseries_dfs = []\n",
    "    for t in group_timeseries.groups:\n",
    "        # WARNING, FIXME for now avoid timestamps and work with hours as index\n",
    "        tdf = group_timeseries.get_group(t)[[#\"Timestamp\",\n",
    "                                             \"energy_elec\",\n",
    "                                             \"energy_gas\"]]\n",
    "        # ts_df[\"Timestamp\"] = ts_df[\"Timestamp\"].apply(lambda t: datetime.strptime(t, '%Y-%m-%d %H:%M:%S').hour)\n",
    "        # ts_df = ts_df.set_index(\"Timestamp\")\n",
    "\n",
    "        # so now drop consecutive indices and reset it to 0 to 23\n",
    "        tdf = tdf.reset_index(drop=True)\n",
    "        tdf.index.name=\"hour\"\n",
    "        timeseries_dfs.append(tdf)\n",
    "\n",
    "    if len(timeseries_dfs) != len(static_df):\n",
    "        raise ValueError(f\"Number of datapoint_ids {len(static_df)} doesn't match the number of time series {len(timeseries_dfs)}\")\n",
    "    \n",
    "    return static_df, timeseries_dfs\n"
   ]
  },
  {
   "cell_type": "code",
   "execution_count": null,
   "id": "cd3c2c09-ab92-4b05-bd8e-42153acc1dbe",
   "metadata": {},
   "outputs": [],
   "source": [
    "%%time\n",
    "static_df, timeseries_dfs = extract_ts(real_data)"
   ]
  },
  {
   "cell_type": "code",
   "execution_count": null,
   "id": "6d5b87b0-4050-4449-a1b1-b5607d5d3455",
   "metadata": {},
   "outputs": [],
   "source": [
    "# creates the list of observation times, usually 0 to 24 hours x 4000\n",
    "observation_data = []\n",
    "#outcome = []\n",
    "for tdf in timeseries_dfs:\n",
    "    observations = list(tdf.index)\n",
    "    observation_data.append(observations)\n",
    "    #outcome.append(1)"
   ]
  },
  {
   "cell_type": "code",
   "execution_count": null,
   "id": "0e750ec2-3368-40a0-968d-0ba44154d0d7",
   "metadata": {},
   "outputs": [],
   "source": [
    "# Fake the outcome, we dont have/know the ML task for this dataset so let's fake the target\n",
    "outcome = np.random.randint(2, size=(len(static_df)))"
   ]
  },
  {
   "cell_type": "code",
   "execution_count": null,
   "id": "7bc47948-7c54-489f-b8b3-b792e7387c45",
   "metadata": {},
   "outputs": [],
   "source": [
    "outcome_df = pd.DataFrame(outcome, columns=[\"y\"])"
   ]
  },
  {
   "cell_type": "code",
   "execution_count": null,
   "id": "ace91abe-b533-4d96-ba47-bf6fec58efb3",
   "metadata": {},
   "outputs": [],
   "source": [
    "# Work with a subset of the features since the code breaks a lot!!!\n",
    "static_data = static_df.copy()"
   ]
  },
  {
   "cell_type": "code",
   "execution_count": null,
   "id": "570f1ee7-df81-45cf-8401-8ed228137d9d",
   "metadata": {},
   "outputs": [],
   "source": [
    "static_data.dtypes"
   ]
  },
  {
   "cell_type": "markdown",
   "id": "c2d69548-2b87-48a7-9fc5-054aec988270",
   "metadata": {},
   "source": [
    "#### Treat every feature with less than 30 unique elements as string to make it categorical"
   ]
  },
  {
   "cell_type": "code",
   "execution_count": null,
   "id": "53be9e0c-b83f-4c2b-87f6-54a670b384e9",
   "metadata": {},
   "outputs": [],
   "source": [
    "%%time\n",
    "for col, dt in static_data.dtypes.items():\n",
    "    if dt == \"float64\" or dt == \"int64\":\n",
    "        if len(static_data[col].unique()) < 30:\n",
    "            static_data[col] = static_data[[col]].astype(str)"
   ]
  },
  {
   "cell_type": "code",
   "execution_count": null,
   "id": "3892cd5a-a0f8-4ed0-83fb-6080c33782e8",
   "metadata": {},
   "outputs": [],
   "source": [
    "static_data.head(3)"
   ]
  },
  {
   "cell_type": "code",
   "execution_count": null,
   "id": "2878f17b-7a40-4e4b-bf10-df9e55778836",
   "metadata": {},
   "outputs": [],
   "source": [
    "timeseries_dfs[2].head(3)"
   ]
  },
  {
   "cell_type": "code",
   "execution_count": null,
   "id": "96d32665-940d-4faf-b324-3a64e3e5d20a",
   "metadata": {},
   "outputs": [],
   "source": [
    "static_data.drop(columns=[\"datapoint_id\"], inplace=True)"
   ]
  },
  {
   "cell_type": "markdown",
   "id": "6e754df9-0913-48c2-9d0f-db13cd6e65d0",
   "metadata": {},
   "source": [
    "### SD loader"
   ]
  },
  {
   "cell_type": "code",
   "execution_count": null,
   "id": "088a8a3b-d4cc-4548-b231-dd5aeac55fa5",
   "metadata": {},
   "outputs": [],
   "source": [
    "synthetic_data.head(1)"
   ]
  },
  {
   "cell_type": "code",
   "execution_count": null,
   "id": "fd7348a6-d5d8-422c-b37f-c6ebde618383",
   "metadata": {},
   "outputs": [],
   "source": [
    "synthetic_data.columns = [col_name.removeprefix(\"seq_static_\") for col_name in synthetic_data.columns]\n",
    "synthetic_data.columns = [col_name.removeprefix(\"seq_temporal_\") for col_name in synthetic_data.columns]\n",
    "synthetic_data.columns = [col_name.removeprefix(\"seq_out_\") for col_name in synthetic_data.columns]"
   ]
  },
  {
   "cell_type": "code",
   "execution_count": null,
   "id": "50588871-1d3d-4536-99ce-19637fc6c197",
   "metadata": {},
   "outputs": [],
   "source": [
    "synthetic_data.columns"
   ]
  },
  {
   "cell_type": "code",
   "execution_count": null,
   "id": "92e474f9-f9da-42af-a611-b160fd2cf15a",
   "metadata": {},
   "outputs": [],
   "source": [
    "def sd_postprocess(df):\n",
    "    \"\"\" Extract time series for each `seq_id`, static features and outcome\n",
    "\n",
    "    Parameters\n",
    "    ----------\n",
    "    df : pd.DataFrame\n",
    "        Input synthetic dataframe with static and time series values.\n",
    "\n",
    "    Returns\n",
    "    -------\n",
    "    pd.DataFrame\n",
    "        DataFrame with static features\n",
    "    \n",
    "    List\n",
    "        List of time series DataFrames\n",
    "\n",
    "    pd.DataFrame\n",
    "        DataFrame with outcomes (labels)\n",
    "\n",
    "    \"\"\"\n",
    "    # get static features\n",
    "    static_df = df.drop(columns=[\"seq_time_id\", \"energy_elec\", \"energy_gas\"]).drop_duplicates().reset_index(drop=True)\n",
    "\n",
    "    # get timeseries for each datapoint_id\n",
    "    group_timeseries = df[[\"seq_id\", \"seq_time_id\", \"energy_elec\", \"energy_gas\"]].groupby('seq_id', sort=False)\n",
    " \n",
    "\n",
    "    timeseries_dfs = []\n",
    "    for t in group_timeseries.groups:\n",
    "        # WARNING, FIXME for now avoid timestamps and work with hours as index\n",
    "        tdf = group_timeseries.get_group(t)[[\"energy_elec\",\n",
    "                                             \"energy_gas\"]]\n",
    "        # so now drop consecutive indices and reset it to 0 to 23\n",
    "        tdf = tdf.reset_index(drop=True)\n",
    "        tdf.index.name=\"hour\"\n",
    "        timeseries_dfs.append(tdf)\n",
    "\n",
    "    if len(timeseries_dfs) != len(static_df):\n",
    "        raise ValueError(f\"Number of datapoint_ids {len(static_df)} doesn't match the number of time series {len(timeseries_dfs)}\")\n",
    "    \n",
    "    return static_df, timeseries_dfs, static_df[[\"y\"]].copy()"
   ]
  },
  {
   "cell_type": "code",
   "execution_count": null,
   "id": "a920edd1-b8a9-4b5b-a7a8-bf2e05532dbc",
   "metadata": {},
   "outputs": [],
   "source": [
    "sd_static_data, sd_timeseries_dfs, sd_outcome_df = sd_postprocess(synthetic_data)"
   ]
  },
  {
   "cell_type": "code",
   "execution_count": null,
   "id": "86b73355-d66a-4cfb-8493-4303a4f6332f",
   "metadata": {},
   "outputs": [],
   "source": [
    "# creates the list of observation times, usually 0 to 24 hours x 4000\n",
    "sd_observation_data = []\n",
    "#outcome = []\n",
    "for tdf in sd_timeseries_dfs:\n",
    "    observations = list(tdf.index)\n",
    "    sd_observation_data.append(observations)\n",
    "    #outcome.append(1)"
   ]
  },
  {
   "cell_type": "markdown",
   "id": "67e6d0ec-c151-454d-986c-5a3ac5589372",
   "metadata": {},
   "source": [
    "#### Treat every feature with less than 30 unique elements as string to make it categorical"
   ]
  },
  {
   "cell_type": "code",
   "execution_count": null,
   "id": "afa4301d-d801-42c6-a1bb-3ba030517ef3",
   "metadata": {},
   "outputs": [],
   "source": [
    "%%time\n",
    "for col, dt in sd_static_data.dtypes.items():\n",
    "    if dt == \"float64\" or dt == \"int64\":\n",
    "        if len(sd_static_data[col].unique()) < 30:\n",
    "            sd_static_data[col] = sd_static_data[[col]].astype(str)"
   ]
  },
  {
   "cell_type": "code",
   "execution_count": null,
   "id": "0377c942-2fae-485c-b523-75a8985c0927",
   "metadata": {},
   "outputs": [],
   "source": [
    "sd_static_data.head(3)"
   ]
  },
  {
   "cell_type": "code",
   "execution_count": null,
   "id": "6e5a6a25-6a08-4bb2-a0cb-a3e72d0dd72b",
   "metadata": {},
   "outputs": [],
   "source": [
    "timeseries_dfs[2].head(3)"
   ]
  },
  {
   "cell_type": "code",
   "execution_count": null,
   "id": "21ae61c4-19fa-4345-9d69-8b6939caddd5",
   "metadata": {},
   "outputs": [],
   "source": [
    "sd_static_data.drop(columns=[\"seq_id\"], inplace=True)"
   ]
  },
  {
   "cell_type": "code",
   "execution_count": null,
   "id": "f085d69d-ad32-4978-ab65-e206275a3105",
   "metadata": {},
   "outputs": [],
   "source": [
    "# force column order as is in the real data\n",
    "sd_static_data = sd_static_data[static_data.columns].copy()"
   ]
  },
  {
   "cell_type": "code",
   "execution_count": null,
   "id": "83fff618-79bb-480b-9bdb-def8bca33943",
   "metadata": {},
   "outputs": [],
   "source": [
    "def convert_to_tsdloaders(static_df, timeseries_dfs, observation_data, outcome_df, ct=None):\n",
    "    if not ct:\n",
    "        ct = make_column_transformer((OrdinalEncoder(), make_column_selector(dtype_include=\"object\")),\n",
    "                                     (OrdinalEncoder(), make_column_selector(dtype_include=\"string\")))\n",
    "\n",
    "    column_order = list(static_df.select_dtypes(include=[\"object\"]).columns) + list(static_df.select_dtypes(include=[\"string\"]).columns)\n",
    "    tr_df = pd.DataFrame(ct.fit_transform(static_df), index=static_df.index, columns=column_order)[static_df.columns]\n",
    "    \n",
    "    loader = TimeSeriesDataLoader(\n",
    "         temporal_data=timeseries_dfs,\n",
    "         observation_times=observation_data,\n",
    "         static_data=tr_df,\n",
    "         outcome=outcome_df\n",
    "    )\n",
    "    return loader, ct"
   ]
  },
  {
   "cell_type": "code",
   "execution_count": null,
   "id": "b668c9b9-a7e2-404d-b5ee-1091f67480ac",
   "metadata": {},
   "outputs": [],
   "source": [
    "%%time\n",
    "rd_loader, ct = convert_to_tsdloaders(static_data, timeseries_dfs, observation_data, outcome_df)"
   ]
  },
  {
   "cell_type": "code",
   "execution_count": null,
   "id": "292db859-7987-4139-af02-98c1a28d88f0",
   "metadata": {},
   "outputs": [],
   "source": [
    "%%time\n",
    "sd_loader, _ = convert_to_tsdloaders(sd_static_data, sd_timeseries_dfs, sd_observation_data, sd_outcome_df, ct=ct)"
   ]
  },
  {
   "cell_type": "markdown",
   "id": "67025ee2-dc1c-4f82-9bfa-c001a875ec7d",
   "metadata": {},
   "source": [
    "## Evaluation\n",
    "- It takes 2 1/2 hours to run metrics on cpu (3 minutes on GPU): sanity, stats, and privacy\n",
    "- We need to check if the metrics are being computed accordingly. The plots are right because we are using the SD dataloaders."
   ]
  },
  {
   "cell_type": "code",
   "execution_count": null,
   "id": "12374aee-8a28-4c4b-bff9-72a1b3f2ab77",
   "metadata": {},
   "outputs": [],
   "source": [
    "metrics_dict = {\n",
    "    'sanity': ['data_mismatch', 'common_rows_proportion', 'nearest_syn_neighbor_distance', 'close_values_probability', 'distant_values_probability'],\n",
    "    'stats': ['jensenshannon_dist', 'chi_squared_test', 'feature_corr', 'inv_kl_divergence', 'ks_test', 'max_mean_discrepancy', 'wasserstein_dist', 'prdc', 'alpha_precision'],\n",
    "    # these do not make sense\n",
    "    #'performance': ['linear_model', 'mlp', 'xgb', 'feat_rank_distance'],\n",
    "    #'detection': ['detection_xgb', 'detection_mlp', 'detection_gmm', 'detection_linear'],\n",
    "    # this takes a long time to run\n",
    "    'privacy': ['delta-presence', 'k-anonymization', 'k-map', 'distinct l-diversity', 'identifiability_score']\n",
    "}"
   ]
  },
  {
   "cell_type": "code",
   "execution_count": null,
   "id": "a16d7d79-39ca-426f-923a-d75b0237ecb3",
   "metadata": {},
   "outputs": [],
   "source": [
    "%%time\n",
    "scores = []\n",
    "for k, v in metrics_dict.items():\n",
    "    print(f\"{k} metrics\")\n",
    "    score = metrics.Metrics.evaluate(static_data, sd_static_data, metrics={k: v})\n",
    "    scores.append(score)\n",
    "    #print(score)"
   ]
  },
  {
   "cell_type": "markdown",
   "id": "182d2091-8973-466a-9929-06d762c76824",
   "metadata": {},
   "source": [
    "### Synthcity can compare several batches of generated SD and output statistics from the metrics for each evaluation. Here we only care about generating metrics for one batch.\n",
    "\n",
    "Thus in the `scores` dictionary the key `mean` has a different meaning, it reflects the value of the metric. All other keys can be discarded."
   ]
  },
  {
   "cell_type": "code",
   "execution_count": null,
   "id": "d4d4dbe7-821e-4c4e-80cd-e574c764a5bf",
   "metadata": {},
   "outputs": [],
   "source": [
    "scores[0][['mean']]"
   ]
  },
  {
   "cell_type": "code",
   "execution_count": null,
   "id": "3982f79e-1df0-4183-a6bd-799d2cce0d33",
   "metadata": {},
   "outputs": [],
   "source": [
    "scores[1][['mean']]"
   ]
  },
  {
   "cell_type": "code",
   "execution_count": null,
   "id": "c612af24-8c5e-43f9-9142-f08b6bb37bfa",
   "metadata": {},
   "outputs": [],
   "source": [
    "scores[2][['mean']]"
   ]
  },
  {
   "cell_type": "markdown",
   "id": "35fdf220-378c-46e3-8267-3cd80b103cf1",
   "metadata": {},
   "source": [
    "## Plots\n",
    "\n",
    "- Distributions\n",
    "- tSNE\n",
    "- Time Series comparison and average"
   ]
  },
  {
   "cell_type": "code",
   "execution_count": null,
   "id": "88dbe20d-cdfb-4f10-88a4-ee70e3c21083",
   "metadata": {},
   "outputs": [],
   "source": [
    "%%time\n",
    "plot_marginal_comparison(plt, rd_loader, sd_loader)"
   ]
  },
  {
   "cell_type": "code",
   "execution_count": null,
   "id": "a4cbe1f2-ef6f-4333-962b-f7dd80adf3c2",
   "metadata": {},
   "outputs": [],
   "source": [
    "%%time\n",
    "if generate_tsne:\n",
    "    plot_tsne(plt, rd_loader, sd_loader)"
   ]
  },
  {
   "cell_type": "markdown",
   "id": "04cec6ae-3518-4833-9ca1-3ea056e593a2",
   "metadata": {},
   "source": [
    "#### Time Series plots"
   ]
  },
  {
   "cell_type": "code",
   "execution_count": null,
   "id": "84360d90-52e8-4a7a-83a6-57217df2bb6f",
   "metadata": {},
   "outputs": [],
   "source": [
    "# Set the style for the plots\n",
    "sns.set_style(\"whitegrid\")\n",
    "sns.set_context(\"paper\")  # Sets the scaling of elements such as the font size\n",
    "\n",
    "# Formatter for the y-axis\n",
    "def thousands(x, pos):\n",
    "    'The two args are the value and tick position'\n",
    "    return f'{x * 1e-3:,.0f}k'.replace(',', ' ')\n",
    "\n",
    "formatter = FuncFormatter(thousands)\n",
    "\n",
    "# Specify the datapoint_ids you want to plot\n",
    "real_specific_id = None\n",
    "synthetic_specific_id = None\n",
    "\n",
    "\n",
    "# If specific IDs are not provided, choose a random one from the unique values\n",
    "if not real_specific_id:\n",
    "    real_specific_id = random.randint(0, num_seq-1)\n",
    "if not synthetic_specific_id:\n",
    "    synthetic_specific_id = random.randint(0, num_seq-1)\n",
    "\n",
    "# Electric Energy Comparison\n",
    "plt.figure(figsize=(10, 6))\n",
    "ax = plt.subplot(111)\n",
    "time = [str(i+1) for i in range(24)]\n",
    "ax.plot(time, timeseries_dfs[real_specific_id]['energy_elec'], label='Real Data - Electric Energy', color='#0072B2', linewidth=2.5)\n",
    "ax.plot(time, sd_timeseries_dfs[synthetic_specific_id]['energy_elec'], label='Synthetic Data - Electric Energy', color='#D55E00', linestyle='--', linewidth=2.5)\n",
    "#ax.yaxis.set_major_formatter(formatter)\n",
    "plt.title('Comparison of Electric Energy Usage Over Time', fontsize=16)\n",
    "plt.xlabel('Timestamp', fontsize=14)\n",
    "plt.ylabel('Electric Energy Usage (kWh)', fontsize=14)\n",
    "plt.legend(fontsize=12, loc='upper right')\n",
    "plt.grid(True, which='both', linestyle='--', linewidth=0.5)\n",
    "sns.despine(left=True)\n",
    "plt.tight_layout()\n",
    "\n",
    "# Save the plot with high resolution\n",
    "#plt.savefig('electric_energy_comparison.png', dpi=300)  # Replace with your path\n",
    "\n",
    "plt.show()"
   ]
  },
  {
   "cell_type": "code",
   "execution_count": null,
   "id": "16091e9e-5291-4766-b829-95d75872d6a4",
   "metadata": {},
   "outputs": [],
   "source": [
    "# Gas Energy Comparison\n",
    "plt.figure(figsize=(10, 6))\n",
    "ax = plt.subplot(111)\n",
    "ax.plot(time, timeseries_dfs[real_specific_id]['energy_gas'], label='Real Data - Gas Energy', color='#0072B2', linewidth=2.5)\n",
    "ax.plot(time, sd_timeseries_dfs[synthetic_specific_id]['energy_gas'], label='Synthetic Data - Gas Energy', color='#D55E00', linestyle='--', linewidth=2.5)\n",
    "#ax.yaxis.set_major_formatter(formatter)\n",
    "plt.title('Comparison of Gas Energy Usage Over Time', fontsize=16)\n",
    "plt.xlabel('Timestamp', fontsize=14)\n",
    "plt.ylabel('Gas Energy Usage (kWh)', fontsize=14)\n",
    "plt.legend(fontsize=12, loc='upper right')\n",
    "plt.grid(True, which='both', linestyle='--', linewidth=0.5)\n",
    "sns.despine(left=True)\n",
    "plt.tight_layout()\n",
    "\n",
    "# Save the plot with high resolution\n",
    "#plt.savefig('gas_energy_comparison.png', dpi=300)  # Replace with your path\n",
    "\n",
    "plt.show()"
   ]
  },
  {
   "cell_type": "code",
   "execution_count": null,
   "id": "bf29e5cd-518c-40af-a8ab-508614ddb068",
   "metadata": {},
   "outputs": [],
   "source": [
    "#Mean Energy Usage \n",
    "real_data_avg = real_data.groupby('Timestamp').mean().reset_index()\n",
    "synthetic_data_avg = synthetic_data.groupby('seq_time_id').mean().reset_index()"
   ]
  },
  {
   "cell_type": "code",
   "execution_count": null,
   "id": "8882c8d9-75de-4479-b6c5-c0ef29fd49ee",
   "metadata": {},
   "outputs": [],
   "source": [
    "plt.figure(figsize=(10, 6))\n",
    "ax = plt.subplot(111)\n",
    "ax.plot(time, real_data_avg['energy_elec'], label='Real Data - Average Electric Energy', color='#0072B2', linewidth=2.5)\n",
    "ax.plot(time, synthetic_data_avg['energy_elec'], label='Synthetic Data - Average Electric Energy', color='#D55E00', linestyle='--', linewidth=2.5)\n",
    "ax.yaxis.set_major_formatter(formatter)\n",
    "ax.set_title('Average Comparison of Electric Energy Usage Over Time', fontsize=16)\n",
    "ax.set_xlabel('Hour of the day', fontsize=14)\n",
    "ax.set_ylabel('Electric Energy Usage (Joules per hour)', fontsize=14)\n",
    "plt.legend(fontsize=12, loc='upper right')\n",
    "sns.despine(left=True)\n",
    "plt.tight_layout()\n",
    "plt.show()"
   ]
  },
  {
   "cell_type": "code",
   "execution_count": null,
   "id": "8dd1e5a6-2f97-4c9a-a105-8469708fec74",
   "metadata": {},
   "outputs": [],
   "source": [
    "plt.figure(figsize=(10, 6))\n",
    "ax = plt.subplot(111)\n",
    "ax.plot(time, real_data_avg['energy_gas'], label='Real Data - Average Gas Energy', color='#0072B2', linewidth=2.5)\n",
    "ax.plot(time, synthetic_data_avg['energy_gas'], label='Synthetic Data - Average Gas Energy', color='#D55E00', linestyle='--', linewidth=2.5)\n",
    "ax.yaxis.set_major_formatter(formatter)\n",
    "plt.title('Average Comparison of Gas Energy Usage Over Time', fontsize=16)\n",
    "plt.xlabel('Hour of the day', fontsize=14)\n",
    "plt.ylabel('Gas Energy Usage (Joules per hour)', fontsize=14)\n",
    "plt.legend(fontsize=12, loc='upper right')\n",
    "plt.grid(True, which='both', linestyle='--', linewidth=0.5)\n",
    "sns.despine(left=True)\n",
    "plt.tight_layout()\n",
    "plt.show()"
   ]
  },
  {
   "cell_type": "code",
   "execution_count": null,
   "id": "3a97f65a-a540-403d-bf4c-43657cb7614c",
   "metadata": {},
   "outputs": [],
   "source": [
    "%%time\n",
    "ks_stats = {}\n",
    "stats = [(\"mean\", lambda x: np.mean(x, axis=0)),\n",
    "         (\"std\", lambda x: np.std(x, axis=0)),\n",
    "         (\"median\", lambda x: np.median(x, axis=0)),\n",
    "         (\"max\", np.amax),\n",
    "         (\"min\", np.amin)\n",
    "        ]\n",
    "for name, op in stats:\n",
    "    rd_energy_dist = np.zeros((len(timeseries_dfs), 2))\n",
    "    sd_energy_dist = np.zeros((len(timeseries_dfs), 2))\n",
    "    for i, (rdt, sdt) in enumerate(zip(timeseries_dfs, sd_timeseries_dfs)):\n",
    "        rd_energy_dist[i] = op(rdt.to_numpy())\n",
    "        sd_energy_dist[i] = op(sdt.to_numpy())\n",
    "    ks_stat_elec, _ = ks_2samp(rd_energy_dist[:,0], sd_energy_dist[:,0])\n",
    "    ks_stat_gas, _ = ks_2samp(rd_energy_dist[:,1], sd_energy_dist[:,1])\n",
    "    ks_stats[name] = {}\n",
    "    ks_stats[name][\"electricity\"] = 1.0-ks_stat_elec\n",
    "    ks_stats[name][\"gas\"] = 1.0-ks_stat_gas"
   ]
  },
  {
   "cell_type": "code",
   "execution_count": null,
   "id": "ef029497-5ef0-4ca9-b2d5-b779c9037019",
   "metadata": {},
   "outputs": [],
   "source": [
    "ks_stats"
   ]
  },
  {
   "cell_type": "code",
   "execution_count": null,
   "id": "ed2d3f91-d478-424e-a864-604fdbb4445e",
   "metadata": {},
   "outputs": [],
   "source": []
  },
  {
   "cell_type": "code",
   "execution_count": null,
   "id": "8f5550ad-5b67-4249-b827-f403c306d722",
   "metadata": {},
   "outputs": [],
   "source": [
    "%%time\n",
    "hourly_stats = {}\n",
    "\n",
    "hourly_stats['mean'] = distance.cosine(real_data[['Timestamp', 'energy_elec']].groupby('Timestamp').mean().to_numpy().flatten(), \n",
    "                                       synthetic_data[['seq_time_id', 'energy_elec']].groupby('seq_time_id').mean().to_numpy().flatten())\n",
    "                              \n",
    "hourly_stats['std'] = distance.cosine(real_data[['Timestamp', 'energy_elec']].groupby('Timestamp').std().to_numpy().flatten(), \n",
    "                                      synthetic_data[['seq_time_id', 'energy_elec']].groupby('seq_time_id').std().to_numpy().flatten())\n",
    "\n",
    "hourly_stats['median'] = distance.cosine(real_data[['Timestamp', 'energy_elec']].groupby('Timestamp').median().to_numpy().flatten(), \n",
    "                                         synthetic_data[['seq_time_id', 'energy_elec']].groupby('seq_time_id').median().to_numpy().flatten())\n",
    "\n",
    "hourly_stats['max'] = distance.cosine(real_data[['Timestamp', 'energy_elec']].groupby('Timestamp').max().to_numpy().flatten(), \n",
    "                                      synthetic_data[['seq_time_id', 'energy_elec']].groupby('seq_time_id').max().to_numpy().flatten())\n",
    "\n",
    "hourly_stats['min'] = distance.cosine(real_data[['Timestamp', 'energy_elec']].groupby('Timestamp').min().to_numpy().flatten(), \n",
    "                                      synthetic_data[['seq_time_id', 'energy_elec']].groupby('seq_time_id').min().to_numpy().flatten())"
   ]
  },
  {
   "cell_type": "code",
   "execution_count": null,
   "id": "c0f7e3d5-79a8-4e91-a590-f4f913df53e5",
   "metadata": {},
   "outputs": [],
   "source": [
    "hourly_stats"
   ]
  },
  {
   "cell_type": "code",
   "execution_count": null,
   "id": "f4f44fa3-2811-4133-a5be-6a1f5f1d7a8b",
   "metadata": {},
   "outputs": [],
   "source": [
    "def get_peaks_by_hour(timeseries_dfs, sd_timeseries_dfs):    \n",
    "    rd_peaks = np.zeros((len(timeseries_dfs[0]), 4))\n",
    "    sd_peaks = np.zeros((len(timeseries_dfs[0]), 4))\n",
    "    \n",
    "    for i, (rdt, sdt) in enumerate(zip(timeseries_dfs, sd_timeseries_dfs)):\n",
    "        for ts, p in zip((rdt, sdt), (rd_peaks, sd_peaks)):\n",
    "            nt = ts.to_numpy()\n",
    "            i_emax, i_gmax = np.argmax(nt, axis=0)    \n",
    "            p[i_emax, 0] += 1\n",
    "            p[i_gmax, 1] += 1\n",
    "            i_emin, i_gmin = np.argmin(nt, axis=0)    \n",
    "            p[i_emin, 2] += 1\n",
    "            p[i_gmin, 3] += 1\n",
    "    #return rd_peaks, sd_peaks\n",
    "    df = pd.DataFrame(np.hstack((rd_peaks, sd_peaks)), columns=[\"emax_rd\", \"gmax_rd\",\n",
    "                                                                \"emin_rd\", \"gmin_rd\",\n",
    "                                                                \"emax_sd\", \"gmax_sd\",\n",
    "                                                                \"emin_sd\", \"gmin_sd\"])\n",
    "    return df[[\"emax_rd\", \"emax_sd\",\n",
    "               \"emin_rd\", \"emin_sd\",\n",
    "               \"gmax_rd\", \"gmax_sd\",\n",
    "               \"gmin_rd\", \"gmin_sd\"]]"
   ]
  },
  {
   "cell_type": "code",
   "execution_count": null,
   "id": "1fc358d5-ee3c-4f56-b19d-546da1e78fde",
   "metadata": {},
   "outputs": [],
   "source": [
    "df = get_peaks_by_hour(timeseries_dfs, sd_timeseries_dfs)"
   ]
  },
  {
   "cell_type": "code",
   "execution_count": null,
   "id": "ef3cb4e2-54cd-4519-a47d-d2b5e2a1b032",
   "metadata": {},
   "outputs": [],
   "source": [
    "df.head()"
   ]
  },
  {
   "cell_type": "code",
   "execution_count": null,
   "id": "40cfbeb5-ccec-4d18-a271-ae1a17a35ef8",
   "metadata": {},
   "outputs": [],
   "source": [
    "df.describe()"
   ]
  },
  {
   "cell_type": "code",
   "execution_count": null,
   "id": "518b7119-8a94-4f6f-8a08-49f2d0761381",
   "metadata": {},
   "outputs": [],
   "source": [
    "df.sum()"
   ]
  },
  {
   "cell_type": "code",
   "execution_count": null,
   "id": "63946ec5-22f4-48a9-8e6c-47f109e5c838",
   "metadata": {},
   "outputs": [],
   "source": [
    "df.index = [str(i+1) for i in range(24)]"
   ]
  },
  {
   "cell_type": "code",
   "execution_count": null,
   "id": "b77daf0b-145d-4809-8c7d-4546a7d2474f",
   "metadata": {},
   "outputs": [],
   "source": [
    "edf = pd.melt(df[[\"emax_rd\", \"emax_sd\", \"emin_rd\", \"emin_sd\"]].reset_index(), id_vars='index')\n",
    "edf = edf.rename(columns={\"index\": \"Hour of the day\", \"value\": \"Min/max counts\", \"variable\": \"legend\"})"
   ]
  },
  {
   "cell_type": "code",
   "execution_count": null,
   "id": "7d235d8b-0c6e-4bb3-b66b-d18eaa3a6a2a",
   "metadata": {},
   "outputs": [],
   "source": [
    "fig, ax  = plt.subplots(1, figsize=(14, 8))\n",
    "#sns.set_context(font_scale=3)\n",
    "sns.set(font_scale=1.5, style = \"whitegrid\")\n",
    "#sns.set_context(\"paper\"))\n",
    "sns.barplot(x='Hour of the day', y='Min/max counts', hue='legend', data=edf, fill=False, width=1, ax=ax)\n",
    "minor_ticks = np.arange(0, 23)+0.5\n",
    "ax.set_xticks(minor_ticks, minor=True)\n",
    "ax.grid(which='minor')"
   ]
  },
  {
   "cell_type": "code",
   "execution_count": null,
   "id": "dd259efd-b838-4477-84fa-3de6d69bd444",
   "metadata": {},
   "outputs": [],
   "source": [
    "\n",
    "gdf = pd.melt(df[[\"gmax_rd\", \"gmax_sd\", \"gmin_rd\", \"gmin_sd\"]].reset_index(), id_vars='index')\n",
    "gdf = gdf.rename(columns={\"index\": \"Hour of the day\", \"value\": \"Min/max counts\", \"variable\": \"legend\"})"
   ]
  },
  {
   "cell_type": "code",
   "execution_count": null,
   "id": "47a6e99c-551b-487a-a77b-9df6de464536",
   "metadata": {},
   "outputs": [],
   "source": [
    "fig, ax  = plt.subplots(1, figsize=(14, 8))\n",
    "sns.barplot(x='Hour of the day', y='Min/max counts', hue='legend', data=gdf, fill=False, width=1, ax=ax)\n",
    "minor_ticks = np.arange(0, 23)+0.5\n",
    "ax.set_xticks(minor_ticks, minor=True)\n",
    "ax.grid(which='minor')"
   ]
  },
  {
   "cell_type": "code",
   "execution_count": null,
   "id": "e3d44398-f8bd-4602-80c5-7c9e26bbe2ef",
   "metadata": {},
   "outputs": [],
   "source": [
    "def abs_error(rdv, sdv):\n",
    "    return np.absolute(np.subtract(rdv, sdv))"
   ]
  },
  {
   "cell_type": "code",
   "execution_count": null,
   "id": "77e8cc50-7d46-4727-8e82-9b2ff6cfe19b",
   "metadata": {},
   "outputs": [],
   "source": [
    "peaks_comparison_df = df.copy()"
   ]
  },
  {
   "cell_type": "code",
   "execution_count": null,
   "id": "9a4a5fc1-8eb9-4495-b026-e22ec6b09f16",
   "metadata": {},
   "outputs": [],
   "source": [
    "peaks_comparison_df[\"emax_abs_err\"] =  abs_error(peaks_comparison_df[\"emax_rd\"], peaks_comparison_df[\"emax_sd\"])\n",
    "peaks_comparison_df[\"emin_abs_err\"] =  abs_error(peaks_comparison_df[\"emin_rd\"], peaks_comparison_df[\"emin_sd\"])\n",
    "peaks_comparison_df[\"gmax_abs_err\"] =  abs_error(peaks_comparison_df[\"gmax_rd\"], peaks_comparison_df[\"gmax_sd\"])\n",
    "peaks_comparison_df[\"gmin_abs_err\"] =  abs_error(peaks_comparison_df[\"gmin_rd\"], peaks_comparison_df[\"gmin_sd\"])\n",
    "peaks_comparison_df = peaks_comparison_df[[\"emax_abs_err\", \"emin_abs_err\", \"gmax_abs_err\", \"gmin_abs_err\"]].copy()"
   ]
  },
  {
   "cell_type": "code",
   "execution_count": null,
   "id": "73e4d112-42e8-4ad4-acff-b129a8b0f97f",
   "metadata": {},
   "outputs": [],
   "source": [
    "peaks_comparison_df.head()"
   ]
  },
  {
   "cell_type": "code",
   "execution_count": null,
   "id": "8ddf2c4f-2cf8-4d60-abf0-0eaca94eb0ac",
   "metadata": {},
   "outputs": [],
   "source": [
    "pdf = pd.melt(peaks_comparison_df.reset_index(), id_vars='index')\n",
    "pdf = pdf.rename(columns={\"index\": \"Hour of the day\", \"value\": \"Absolute error\", \"variable\": \"legend\"})"
   ]
  },
  {
   "cell_type": "code",
   "execution_count": null,
   "id": "233c2f4f-e245-4fa2-9b80-053271e861cc",
   "metadata": {},
   "outputs": [],
   "source": [
    "fig, ax  = plt.subplots(1, figsize=(14, 8))\n",
    "sns.barplot(x='Hour of the day', y='Absolute error', hue='legend', data=pdf, fill=False, width=1, ax=ax)\n",
    "major_ticks = np.arange(0, 23)+0.5\n",
    "ax.set_xticks(major_ticks, minor=True)\n",
    "ax.grid(which='minor')"
   ]
  },
  {
   "cell_type": "code",
   "execution_count": null,
   "id": "dfd01b4c-6ce4-4f7d-b0ec-92d828d4f7a2",
   "metadata": {},
   "outputs": [],
   "source": [
    "peaks_comparison_df.sum()"
   ]
  },
  {
   "cell_type": "markdown",
   "id": "d9309977-fc8d-41a6-9b9b-6dd8e506d178",
   "metadata": {},
   "source": [
    "## Done!"
   ]
  }
 ],
 "metadata": {
  "kernelspec": {
   "display_name": "Python 3 (ipykernel)",
   "language": "python",
   "name": "python3"
  },
  "language_info": {
   "codemirror_mode": {
    "name": "ipython",
    "version": 3
   },
   "file_extension": ".py",
   "mimetype": "text/x-python",
   "name": "python",
   "nbconvert_exporter": "python",
   "pygments_lexer": "ipython3",
   "version": "3.10.12"
  }
 },
 "nbformat": 4,
 "nbformat_minor": 5
}
