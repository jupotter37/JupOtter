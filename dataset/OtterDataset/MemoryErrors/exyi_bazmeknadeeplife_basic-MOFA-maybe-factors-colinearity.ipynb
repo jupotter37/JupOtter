{
 "cells": [
  {
   "cell_type": "code",
   "execution_count": 2,
   "id": "d7120083-c7f7-4fbc-a718-29ed1edefe09",
   "metadata": {
    "ExecuteTime": {
     "end_time": "2024-06-01T08:01:19.060734Z",
     "start_time": "2024-06-01T08:01:19.048876Z"
    }
   },
   "outputs": [],
   "source": [
    "import scanpy as sc\n",
    "import muon as mu\n",
    "import numpy as np\n",
    "import pandas as pd\n",
    "import mofax as mofa\n",
    "import seaborn as sns\n",
    "import matplotlib.pyplot as plt\n",
    "import pyro\n",
    "from pyro.nn import PyroSample, PyroModule\n",
    "from pyro.infer import SVI, Trace_ELBO, autoguide\n",
    "import torch\n",
    "import torch.nn.functional as F\n",
    "from torch.nn.functional import softplus\n",
    "from sklearn.metrics import mean_squared_error\n",
    "import random\n",
    "import seaborn as sns\n",
    "import muon as mu\n",
    "import anndata\n",
    "\n",
    "device = torch.device(\"cuda\" if torch.cuda.is_available() else \"cpu\")\n",
    "\n",
    "def to_device(t): return torch.tensor(t).to(device)"
   ]
  },
  {
   "cell_type": "code",
   "execution_count": 3,
   "id": "45e0d5bd-c307-4b4d-9b9d-ef46a02dc580",
   "metadata": {
    "ExecuteTime": {
     "end_time": "2024-06-01T08:01:25.387204Z",
     "start_time": "2024-06-01T08:01:20.058306Z"
    }
   },
   "outputs": [
    {
     "name": "stderr",
     "output_type": "stream",
     "text": [
      "/home/adam/venvs/deeplife/lib/python3.10/site-packages/anndata/_core/anndata.py:1820: UserWarning: Variable names are not unique. To make them unique, call `.var_names_make_unique`.\n",
      "  utils.warn_names_duplicates(\"var\")\n"
     ]
    }
   ],
   "source": [
    "# dir=\"/scratch/deeplife/\"\n",
    "dir=\"data/\"\n",
    "pbmc = sc.read_10x_h5(dir+\"5k_pbmc_protein_v3_nextgem_filtered_feature_bc_matrix.h5\", gex_only=False)\n",
    "pbmc.var_names_make_unique()\n",
    "pbmc.layers[\"counts\"] = pbmc.X.copy()"
   ]
  },
  {
   "cell_type": "code",
   "execution_count": 4,
   "id": "8c95a25a-bc4d-43ca-9a2e-bb4f45d1ed1d",
   "metadata": {
    "ExecuteTime": {
     "end_time": "2024-06-01T08:01:26.223901Z",
     "start_time": "2024-06-01T08:01:25.368144Z"
    }
   },
   "outputs": [],
   "source": [
    "protein = pbmc[:, pbmc.var[\"feature_types\"] == \"Antibody Capture\"].copy()\n",
    "rna = pbmc[:, pbmc.var[\"feature_types\"] == \"Gene Expression\"].copy()\n"
   ]
  },
  {
   "cell_type": "code",
   "execution_count": 5,
   "id": "215ca913ab3c58b1",
   "metadata": {
    "ExecuteTime": {
     "end_time": "2024-06-01T08:01:26.294524Z",
     "start_time": "2024-06-01T08:01:26.207710Z"
    },
    "collapsed": false,
    "jupyter": {
     "outputs_hidden": false
    }
   },
   "outputs": [],
   "source": [
    "class MOFA(PyroModule):\n",
    "    def __init__(self, Ys: dict[str, torch.Tensor], K, batch_size=128, num_iterations=4000):\n",
    "        \"\"\"\n",
    "        Args:\n",
    "            Y: Tensor (Samples x Features)\n",
    "            K: Number of Latent Factors\n",
    "        \"\"\"\n",
    "        super().__init__()\n",
    "        pyro.clear_param_store()\n",
    "\n",
    "        self.K = K  # number of factors \n",
    "\n",
    "        self.obs_masks = {k: torch.logical_not(torch.isnan(Y)) for k, Y in Ys.items()}\n",
    "        # a valid value for the NAs has to be defined even though these samples will be ignored later\n",
    "        self.Ys = {k: torch.nan_to_num(Y, nan=0) for k, Y in Ys.items()}  # data/observations\n",
    "        \n",
    "        # assert sample dim same in Ys\n",
    "        num_samples = set(Y.shape[0] for Y in self.Ys.values())\n",
    "        assert len(num_samples) == 1\n",
    "        self.num_samples = next(iter(num_samples))\n",
    "        self.num_features = {k: v.shape[1] for k, v in self.Ys.items()}\n",
    "        \n",
    "        self.batch_size = batch_size\n",
    "        self.num_iterations = num_iterations\n",
    "        \n",
    "        self.latent_factor_plate = pyro.plate(\"latent factors\", self.K) \n",
    "        \n",
    "        \n",
    "    def model(self):\n",
    "        \"\"\" Creates the model.\n",
    "        \n",
    "        The model needs to be created repeatedly (not sure why), in any case, it is important now, when using \n",
    "        `subsample_size` batch size to subsample the dataset differently in each train iteration\n",
    "        \"\"\"\n",
    "        \n",
    "        # needs to be shared, so returns the same indices in one train step\n",
    "        sample_plate = pyro.plate(\"sample\", self.num_samples, subsample_size=self.batch_size, dim=-2)\n",
    "        # the plates get assigned a dim, depending on when in the plate hierarchy they are used. Unfortunately we want to use\n",
    "        #   feature plates once outside and once inside other plate (sample resp. latent_factor plates, see below)\n",
    "        #   we therefore need to create separate plates for each of those usages\n",
    "        get_feature_plates = lambda dim: {k: pyro.plate(f\"feature_{k}_{dim}\", num_feats) for k, num_feats in self.num_features.items()}\n",
    "\n",
    "        # W matrices for each modality\n",
    "        Ws = {}\n",
    "    \n",
    "        # for each modality create W matrix and alpha vectors\n",
    "        for m, feature_plate in get_feature_plates(-2).items():\n",
    "            # the actual dimensions obtained by plates are read from right to left/inner to outer\n",
    "            with self.latent_factor_plate:\n",
    "                # Sample alphas (controls narrowness of weight distr for each factor) from a Gamma distribution\n",
    "                # Gamma parametrization k, theta or eq. a, b; (where k=a and theta=1/b) \n",
    "                # (if k integer) Gamma = the sum of k independent exponentially distributed random variables, each of \n",
    "                # which has a mean of theta\n",
    "                alpha = pyro.sample(f\"alpha_{m}\", pyro.distributions.Gamma(to_device(1.), 1.))\n",
    "                \n",
    "                with feature_plate:\n",
    "                    # sample weight matrix with Normal prior distribution with alpha narrowness\n",
    "                    Ws[m] = pyro.sample(f\"W_{m}\", pyro.distributions.Normal(to_device(0.), 1. / alpha))                \n",
    "                \n",
    "        # create Z matrix\n",
    "        # (the actual dimensions are read from right to left/inner to outer)\n",
    "        with self.latent_factor_plate, sample_plate:\n",
    "            # sample factor matrix with Normal prior distribution\n",
    "            Z = pyro.sample(\"Z\", pyro.distributions.Normal(to_device(0.), 1.))\n",
    "\n",
    "        # not working: OutOfMemory, tried to introduce dependence in factors in one sample (maybe could resolve the colinearity of factors\n",
    "        # as seen below\n",
    "        # with sample_plate:\n",
    "        #     # Define the mean and covariance matrix for the multivariate normal distribution\n",
    "        #     mean = to_device(torch.zeros(self.K))\n",
    "        #     covariance_matrix = to_device(torch.eye(self.K))  # Replace with your specific covariance matrix if needed\n",
    "            \n",
    "        #     # Sample factor matrix with Multivariate Normal prior distribution\n",
    "        #     Z = pyro.sample(\"Z\", pyro.distributions.MultivariateNormal(mean, covariance_matrix).to_event(0))\n",
    "\n",
    "    \n",
    "        # estimate for Y\n",
    "        Y_hats = {k: torch.matmul(Z, W.t()) for k, W in Ws.items()}\n",
    "        \n",
    "        for m, feature_plate in get_feature_plates(-1).items():\n",
    "            with feature_plate:\n",
    "                # sample scale (tau) parameter for each feature-~~sample~~ pair with LogNormal prior (has to be positive)\n",
    "                # add 0.001 to avoid NaNs when Normal(σ = 0)\n",
    "                \n",
    "                with sample_plate as sub_indices:\n",
    "                    Y, Y_hat = self.Ys[m][sub_indices, :], Y_hats[m]\n",
    "\n",
    "                    scale_tau = pyro.sample(f\"scale_{m}\", pyro.distributions.LogNormal(to_device(0.), 1.))\n",
    "\n",
    "                    \n",
    "                    # masking the NA values such that they are not considered in the distributions\n",
    "                    obs_mask = self.obs_masks[m][sub_indices, :]                    \n",
    "                    with pyro.poutine.mask(mask=obs_mask):\n",
    "                        # # sample scale parameter for each feature-sample pair with LogNormal prior (has to be positive)\n",
    "                        # scale = pyro.sample(\"scale\", pyro.distributions.LogNormal(0., 1.))\n",
    "                        \n",
    "                        # compare sampled estimation to the true observation Y\n",
    "                        pyro.sample(f\"obs_{m}\", pyro.distributions.Normal(Y_hat, scale_tau), obs=Y)\n",
    "                        # pyro.sample(\"obs\", pyro.distributions.NegativeBinomial(Y_hat, scale_tau), obs=Y)\n",
    "\n",
    "    def train(self):\n",
    "        # set training parameters\n",
    "        optimizer = pyro.optim.Adam({\"lr\": 0.005})\n",
    "        elbo = Trace_ELBO()\n",
    "        # guide = autoguide.AutoDiagonalNormal(self.model)\n",
    "        guide = autoguide.AutoDelta(self.model)\n",
    "        \n",
    "        # initialize stochastic variational inference\n",
    "        svi = SVI(\n",
    "            model = self.model,\n",
    "            guide = guide,\n",
    "            optim = optimizer,\n",
    "            loss = elbo\n",
    "        )\n",
    "        \n",
    "        train_loss = []\n",
    "        for j in range(self.num_iterations):\n",
    "            # calculate the loss and take a gradient step\n",
    "            # (loss should be already scaled down by the subsample_size)\n",
    "            loss = svi.step()\n",
    "\n",
    "            train_loss.append(loss/self.num_samples)\n",
    "            if j % 200 == 0:\n",
    "                print(\"[iteration %04d] loss: %.4f\" % (j + 1, loss / self.num_samples))\n",
    "        \n",
    "        # Obtain maximum a posteriori estimates for W and Z\n",
    "        # map_estimates = guide(self.Y)  # not sure why needed Y?\n",
    "        # \"Note that Pyro enforces that model() and guide() have the same call signature, i.e. both callables should take the same arguments.\"\n",
    "        with torch.no_grad():\n",
    "            map_estimates = guide()\n",
    "        \n",
    "        return train_loss, map_estimates, guide\n"
   ]
  },
  {
   "cell_type": "code",
   "execution_count": 6,
   "id": "6b384fdc-4864-44e3-bffd-c7ca858d52a5",
   "metadata": {
    "ExecuteTime": {
     "end_time": "2024-06-01T07:46:53.288286Z",
     "start_time": "2024-06-01T07:40:36.738842Z"
    }
   },
   "outputs": [
    {
     "name": "stderr",
     "output_type": "stream",
     "text": [
      "/tmp/ipykernel_4318/1792360427.py:22: UserWarning: To copy construct from a tensor, it is recommended to use sourceTensor.clone().detach() or sourceTensor.clone().detach().requires_grad_(True), rather than torch.tensor(sourceTensor).\n",
      "  def to_device(t): return torch.tensor(t).to(device)\n",
      "/home/adam/venvs/deeplife/lib/python3.10/site-packages/pyro/util.py:365: UserWarning: Found plate statements in guide but not model: {'latent factors'}\n",
      "  warnings.warn(\n"
     ]
    },
    {
     "ename": "OutOfMemoryError",
     "evalue": "CUDA out of memory. Tried to allocate 2.05 GiB. GPU 0 has a total capacity of 7.92 GiB of which 35.69 MiB is free. Including non-PyTorch memory, this process has 7.88 GiB memory in use. Of the allocated memory 7.19 GiB is allocated by PyTorch, and 552.43 MiB is reserved by PyTorch but unallocated. If reserved but unallocated memory is large try setting PYTORCH_CUDA_ALLOC_CONF=expandable_segments:True to avoid fragmentation.  See documentation for Memory Management  (https://pytorch.org/docs/stable/notes/cuda.html#environment-variables)",
     "output_type": "error",
     "traceback": [
      "\u001b[0;31m---------------------------------------------------------------------------\u001b[0m",
      "\u001b[0;31mOutOfMemoryError\u001b[0m                          Traceback (most recent call last)",
      "Cell \u001b[0;32mIn[6], line 5\u001b[0m\n\u001b[1;32m      1\u001b[0m mofa \u001b[38;5;241m=\u001b[39m MOFA({\n\u001b[1;32m      2\u001b[0m     \u001b[38;5;124m'\u001b[39m\u001b[38;5;124mrna\u001b[39m\u001b[38;5;124m'\u001b[39m: torch\u001b[38;5;241m.\u001b[39mtensor(rna\u001b[38;5;241m.\u001b[39mX\u001b[38;5;241m.\u001b[39mtoarray(), device\u001b[38;5;241m=\u001b[39mdevice),\n\u001b[1;32m      3\u001b[0m     \u001b[38;5;124m'\u001b[39m\u001b[38;5;124mprotein\u001b[39m\u001b[38;5;124m'\u001b[39m: torch\u001b[38;5;241m.\u001b[39mtensor(protein\u001b[38;5;241m.\u001b[39mX\u001b[38;5;241m.\u001b[39mtoarray(), device\u001b[38;5;241m=\u001b[39mdevice),\n\u001b[1;32m      4\u001b[0m }, K\u001b[38;5;241m=\u001b[39m\u001b[38;5;241m5\u001b[39m, batch_size\u001b[38;5;241m=\u001b[39m\u001b[38;5;241m128\u001b[39m, num_iterations\u001b[38;5;241m=\u001b[39m\u001b[38;5;241m3000\u001b[39m)\n\u001b[0;32m----> 5\u001b[0m loss, map_estimates, trained_guide \u001b[38;5;241m=\u001b[39m \u001b[43mmofa\u001b[49m\u001b[38;5;241;43m.\u001b[39;49m\u001b[43mtrain\u001b[49m\u001b[43m(\u001b[49m\u001b[43m)\u001b[49m\n",
      "Cell \u001b[0;32mIn[5], line 118\u001b[0m, in \u001b[0;36mMOFA.train\u001b[0;34m(self)\u001b[0m\n\u001b[1;32m    114\u001b[0m train_loss \u001b[38;5;241m=\u001b[39m []\n\u001b[1;32m    115\u001b[0m \u001b[38;5;28;01mfor\u001b[39;00m j \u001b[38;5;129;01min\u001b[39;00m \u001b[38;5;28mrange\u001b[39m(\u001b[38;5;28mself\u001b[39m\u001b[38;5;241m.\u001b[39mnum_iterations):\n\u001b[1;32m    116\u001b[0m     \u001b[38;5;66;03m# calculate the loss and take a gradient step\u001b[39;00m\n\u001b[1;32m    117\u001b[0m     \u001b[38;5;66;03m# (loss should be already scaled down by the subsample_size)\u001b[39;00m\n\u001b[0;32m--> 118\u001b[0m     loss \u001b[38;5;241m=\u001b[39m \u001b[43msvi\u001b[49m\u001b[38;5;241;43m.\u001b[39;49m\u001b[43mstep\u001b[49m\u001b[43m(\u001b[49m\u001b[43m)\u001b[49m\n\u001b[1;32m    120\u001b[0m     train_loss\u001b[38;5;241m.\u001b[39mappend(loss\u001b[38;5;241m/\u001b[39m\u001b[38;5;28mself\u001b[39m\u001b[38;5;241m.\u001b[39mnum_samples)\n\u001b[1;32m    121\u001b[0m     \u001b[38;5;28;01mif\u001b[39;00m j \u001b[38;5;241m%\u001b[39m \u001b[38;5;241m200\u001b[39m \u001b[38;5;241m==\u001b[39m \u001b[38;5;241m0\u001b[39m:\n",
      "File \u001b[0;32m~/venvs/deeplife/lib/python3.10/site-packages/pyro/infer/svi.py:145\u001b[0m, in \u001b[0;36mSVI.step\u001b[0;34m(self, *args, **kwargs)\u001b[0m\n\u001b[1;32m    143\u001b[0m \u001b[38;5;66;03m# get loss and compute gradients\u001b[39;00m\n\u001b[1;32m    144\u001b[0m \u001b[38;5;28;01mwith\u001b[39;00m poutine\u001b[38;5;241m.\u001b[39mtrace(param_only\u001b[38;5;241m=\u001b[39m\u001b[38;5;28;01mTrue\u001b[39;00m) \u001b[38;5;28;01mas\u001b[39;00m param_capture:\n\u001b[0;32m--> 145\u001b[0m     loss \u001b[38;5;241m=\u001b[39m \u001b[38;5;28;43mself\u001b[39;49m\u001b[38;5;241;43m.\u001b[39;49m\u001b[43mloss_and_grads\u001b[49m\u001b[43m(\u001b[49m\u001b[38;5;28;43mself\u001b[39;49m\u001b[38;5;241;43m.\u001b[39;49m\u001b[43mmodel\u001b[49m\u001b[43m,\u001b[49m\u001b[43m \u001b[49m\u001b[38;5;28;43mself\u001b[39;49m\u001b[38;5;241;43m.\u001b[39;49m\u001b[43mguide\u001b[49m\u001b[43m,\u001b[49m\u001b[43m \u001b[49m\u001b[38;5;241;43m*\u001b[39;49m\u001b[43margs\u001b[49m\u001b[43m,\u001b[49m\u001b[43m \u001b[49m\u001b[38;5;241;43m*\u001b[39;49m\u001b[38;5;241;43m*\u001b[39;49m\u001b[43mkwargs\u001b[49m\u001b[43m)\u001b[49m\n\u001b[1;32m    147\u001b[0m params \u001b[38;5;241m=\u001b[39m \u001b[38;5;28mset\u001b[39m(\n\u001b[1;32m    148\u001b[0m     site[\u001b[38;5;124m\"\u001b[39m\u001b[38;5;124mvalue\u001b[39m\u001b[38;5;124m\"\u001b[39m]\u001b[38;5;241m.\u001b[39munconstrained() \u001b[38;5;28;01mfor\u001b[39;00m site \u001b[38;5;129;01min\u001b[39;00m param_capture\u001b[38;5;241m.\u001b[39mtrace\u001b[38;5;241m.\u001b[39mnodes\u001b[38;5;241m.\u001b[39mvalues()\n\u001b[1;32m    149\u001b[0m )\n\u001b[1;32m    151\u001b[0m \u001b[38;5;66;03m# actually perform gradient steps\u001b[39;00m\n\u001b[1;32m    152\u001b[0m \u001b[38;5;66;03m# torch.optim objects gets instantiated for any params that haven't been seen yet\u001b[39;00m\n",
      "File \u001b[0;32m~/venvs/deeplife/lib/python3.10/site-packages/pyro/infer/trace_elbo.py:140\u001b[0m, in \u001b[0;36mTrace_ELBO.loss_and_grads\u001b[0;34m(self, model, guide, *args, **kwargs)\u001b[0m\n\u001b[1;32m    138\u001b[0m loss \u001b[38;5;241m=\u001b[39m \u001b[38;5;241m0.0\u001b[39m\n\u001b[1;32m    139\u001b[0m \u001b[38;5;66;03m# grab a trace from the generator\u001b[39;00m\n\u001b[0;32m--> 140\u001b[0m \u001b[38;5;28;01mfor\u001b[39;00m model_trace, guide_trace \u001b[38;5;129;01min\u001b[39;00m \u001b[38;5;28mself\u001b[39m\u001b[38;5;241m.\u001b[39m_get_traces(model, guide, args, kwargs):\n\u001b[1;32m    141\u001b[0m     loss_particle, surrogate_loss_particle \u001b[38;5;241m=\u001b[39m \u001b[38;5;28mself\u001b[39m\u001b[38;5;241m.\u001b[39m_differentiable_loss_particle(\n\u001b[1;32m    142\u001b[0m         model_trace, guide_trace\n\u001b[1;32m    143\u001b[0m     )\n\u001b[1;32m    144\u001b[0m     loss \u001b[38;5;241m+\u001b[39m\u001b[38;5;241m=\u001b[39m loss_particle \u001b[38;5;241m/\u001b[39m \u001b[38;5;28mself\u001b[39m\u001b[38;5;241m.\u001b[39mnum_particles\n",
      "File \u001b[0;32m~/venvs/deeplife/lib/python3.10/site-packages/pyro/infer/elbo.py:237\u001b[0m, in \u001b[0;36mELBO._get_traces\u001b[0;34m(self, model, guide, args, kwargs)\u001b[0m\n\u001b[1;32m    235\u001b[0m \u001b[38;5;28;01melse\u001b[39;00m:\n\u001b[1;32m    236\u001b[0m     \u001b[38;5;28;01mfor\u001b[39;00m i \u001b[38;5;129;01min\u001b[39;00m \u001b[38;5;28mrange\u001b[39m(\u001b[38;5;28mself\u001b[39m\u001b[38;5;241m.\u001b[39mnum_particles):\n\u001b[0;32m--> 237\u001b[0m         \u001b[38;5;28;01myield\u001b[39;00m \u001b[38;5;28;43mself\u001b[39;49m\u001b[38;5;241;43m.\u001b[39;49m\u001b[43m_get_trace\u001b[49m\u001b[43m(\u001b[49m\u001b[43mmodel\u001b[49m\u001b[43m,\u001b[49m\u001b[43m \u001b[49m\u001b[43mguide\u001b[49m\u001b[43m,\u001b[49m\u001b[43m \u001b[49m\u001b[43margs\u001b[49m\u001b[43m,\u001b[49m\u001b[43m \u001b[49m\u001b[43mkwargs\u001b[49m\u001b[43m)\u001b[49m\n",
      "File \u001b[0;32m~/venvs/deeplife/lib/python3.10/site-packages/pyro/infer/trace_elbo.py:57\u001b[0m, in \u001b[0;36mTrace_ELBO._get_trace\u001b[0;34m(self, model, guide, args, kwargs)\u001b[0m\n\u001b[1;32m     52\u001b[0m \u001b[38;5;28;01mdef\u001b[39;00m \u001b[38;5;21m_get_trace\u001b[39m(\u001b[38;5;28mself\u001b[39m, model, guide, args, kwargs):\n\u001b[1;32m     53\u001b[0m \u001b[38;5;250m    \u001b[39m\u001b[38;5;124;03m\"\"\"\u001b[39;00m\n\u001b[1;32m     54\u001b[0m \u001b[38;5;124;03m    Returns a single trace from the guide, and the model that is run\u001b[39;00m\n\u001b[1;32m     55\u001b[0m \u001b[38;5;124;03m    against it.\u001b[39;00m\n\u001b[1;32m     56\u001b[0m \u001b[38;5;124;03m    \"\"\"\u001b[39;00m\n\u001b[0;32m---> 57\u001b[0m     model_trace, guide_trace \u001b[38;5;241m=\u001b[39m \u001b[43mget_importance_trace\u001b[49m\u001b[43m(\u001b[49m\n\u001b[1;32m     58\u001b[0m \u001b[43m        \u001b[49m\u001b[38;5;124;43m\"\u001b[39;49m\u001b[38;5;124;43mflat\u001b[39;49m\u001b[38;5;124;43m\"\u001b[39;49m\u001b[43m,\u001b[49m\u001b[43m \u001b[49m\u001b[38;5;28;43mself\u001b[39;49m\u001b[38;5;241;43m.\u001b[39;49m\u001b[43mmax_plate_nesting\u001b[49m\u001b[43m,\u001b[49m\u001b[43m \u001b[49m\u001b[43mmodel\u001b[49m\u001b[43m,\u001b[49m\u001b[43m \u001b[49m\u001b[43mguide\u001b[49m\u001b[43m,\u001b[49m\u001b[43m \u001b[49m\u001b[43margs\u001b[49m\u001b[43m,\u001b[49m\u001b[43m \u001b[49m\u001b[43mkwargs\u001b[49m\n\u001b[1;32m     59\u001b[0m \u001b[43m    \u001b[49m\u001b[43m)\u001b[49m\n\u001b[1;32m     60\u001b[0m     \u001b[38;5;28;01mif\u001b[39;00m is_validation_enabled():\n\u001b[1;32m     61\u001b[0m         check_if_enumerated(guide_trace)\n",
      "File \u001b[0;32m~/venvs/deeplife/lib/python3.10/site-packages/pyro/infer/enum.py:75\u001b[0m, in \u001b[0;36mget_importance_trace\u001b[0;34m(graph_type, max_plate_nesting, model, guide, args, kwargs, detach)\u001b[0m\n\u001b[1;32m     72\u001b[0m guide_trace \u001b[38;5;241m=\u001b[39m prune_subsample_sites(guide_trace)\n\u001b[1;32m     73\u001b[0m model_trace \u001b[38;5;241m=\u001b[39m prune_subsample_sites(model_trace)\n\u001b[0;32m---> 75\u001b[0m \u001b[43mmodel_trace\u001b[49m\u001b[38;5;241;43m.\u001b[39;49m\u001b[43mcompute_log_prob\u001b[49m\u001b[43m(\u001b[49m\u001b[43m)\u001b[49m\n\u001b[1;32m     76\u001b[0m guide_trace\u001b[38;5;241m.\u001b[39mcompute_score_parts()\n\u001b[1;32m     77\u001b[0m \u001b[38;5;28;01mif\u001b[39;00m is_validation_enabled():\n",
      "File \u001b[0;32m~/venvs/deeplife/lib/python3.10/site-packages/pyro/poutine/trace_struct.py:264\u001b[0m, in \u001b[0;36mTrace.compute_log_prob\u001b[0;34m(self, site_filter)\u001b[0m\n\u001b[1;32m    262\u001b[0m \u001b[38;5;28;01mif\u001b[39;00m \u001b[38;5;124m\"\u001b[39m\u001b[38;5;124mlog_prob\u001b[39m\u001b[38;5;124m\"\u001b[39m \u001b[38;5;129;01mnot\u001b[39;00m \u001b[38;5;129;01min\u001b[39;00m site:\n\u001b[1;32m    263\u001b[0m     \u001b[38;5;28;01mtry\u001b[39;00m:\n\u001b[0;32m--> 264\u001b[0m         log_p \u001b[38;5;241m=\u001b[39m \u001b[43msite\u001b[49m\u001b[43m[\u001b[49m\u001b[38;5;124;43m\"\u001b[39;49m\u001b[38;5;124;43mfn\u001b[39;49m\u001b[38;5;124;43m\"\u001b[39;49m\u001b[43m]\u001b[49m\u001b[38;5;241;43m.\u001b[39;49m\u001b[43mlog_prob\u001b[49m\u001b[43m(\u001b[49m\n\u001b[1;32m    265\u001b[0m \u001b[43m            \u001b[49m\u001b[43msite\u001b[49m\u001b[43m[\u001b[49m\u001b[38;5;124;43m\"\u001b[39;49m\u001b[38;5;124;43mvalue\u001b[39;49m\u001b[38;5;124;43m\"\u001b[39;49m\u001b[43m]\u001b[49m\u001b[43m,\u001b[49m\u001b[43m \u001b[49m\u001b[38;5;241;43m*\u001b[39;49m\u001b[43msite\u001b[49m\u001b[43m[\u001b[49m\u001b[38;5;124;43m\"\u001b[39;49m\u001b[38;5;124;43margs\u001b[39;49m\u001b[38;5;124;43m\"\u001b[39;49m\u001b[43m]\u001b[49m\u001b[43m,\u001b[49m\u001b[43m \u001b[49m\u001b[38;5;241;43m*\u001b[39;49m\u001b[38;5;241;43m*\u001b[39;49m\u001b[43msite\u001b[49m\u001b[43m[\u001b[49m\u001b[38;5;124;43m\"\u001b[39;49m\u001b[38;5;124;43mkwargs\u001b[39;49m\u001b[38;5;124;43m\"\u001b[39;49m\u001b[43m]\u001b[49m\n\u001b[1;32m    266\u001b[0m \u001b[43m        \u001b[49m\u001b[43m)\u001b[49m\n\u001b[1;32m    267\u001b[0m     \u001b[38;5;28;01mexcept\u001b[39;00m \u001b[38;5;167;01mValueError\u001b[39;00m \u001b[38;5;28;01mas\u001b[39;00m e:\n\u001b[1;32m    268\u001b[0m         _, exc_value, traceback \u001b[38;5;241m=\u001b[39m sys\u001b[38;5;241m.\u001b[39mexc_info()\n",
      "File \u001b[0;32m~/venvs/deeplife/lib/python3.10/site-packages/torch/distributions/normal.py:86\u001b[0m, in \u001b[0;36mNormal.log_prob\u001b[0;34m(self, value)\u001b[0m\n\u001b[1;32m     81\u001b[0m var \u001b[38;5;241m=\u001b[39m \u001b[38;5;28mself\u001b[39m\u001b[38;5;241m.\u001b[39mscale\u001b[38;5;241m*\u001b[39m\u001b[38;5;241m*\u001b[39m\u001b[38;5;241m2\u001b[39m\n\u001b[1;32m     82\u001b[0m log_scale \u001b[38;5;241m=\u001b[39m (\n\u001b[1;32m     83\u001b[0m     math\u001b[38;5;241m.\u001b[39mlog(\u001b[38;5;28mself\u001b[39m\u001b[38;5;241m.\u001b[39mscale) \u001b[38;5;28;01mif\u001b[39;00m \u001b[38;5;28misinstance\u001b[39m(\u001b[38;5;28mself\u001b[39m\u001b[38;5;241m.\u001b[39mscale, Real) \u001b[38;5;28;01melse\u001b[39;00m \u001b[38;5;28mself\u001b[39m\u001b[38;5;241m.\u001b[39mscale\u001b[38;5;241m.\u001b[39mlog()\n\u001b[1;32m     84\u001b[0m )\n\u001b[1;32m     85\u001b[0m \u001b[38;5;28;01mreturn\u001b[39;00m (\n\u001b[0;32m---> 86\u001b[0m     \u001b[38;5;241m-\u001b[39m((\u001b[43mvalue\u001b[49m\u001b[43m \u001b[49m\u001b[38;5;241;43m-\u001b[39;49m\u001b[43m \u001b[49m\u001b[38;5;28;43mself\u001b[39;49m\u001b[38;5;241;43m.\u001b[39;49m\u001b[43mloc\u001b[49m) \u001b[38;5;241m*\u001b[39m\u001b[38;5;241m*\u001b[39m \u001b[38;5;241m2\u001b[39m) \u001b[38;5;241m/\u001b[39m (\u001b[38;5;241m2\u001b[39m \u001b[38;5;241m*\u001b[39m var)\n\u001b[1;32m     87\u001b[0m     \u001b[38;5;241m-\u001b[39m log_scale\n\u001b[1;32m     88\u001b[0m     \u001b[38;5;241m-\u001b[39m math\u001b[38;5;241m.\u001b[39mlog(math\u001b[38;5;241m.\u001b[39msqrt(\u001b[38;5;241m2\u001b[39m \u001b[38;5;241m*\u001b[39m math\u001b[38;5;241m.\u001b[39mpi))\n\u001b[1;32m     89\u001b[0m )\n",
      "\u001b[0;31mOutOfMemoryError\u001b[0m: CUDA out of memory. Tried to allocate 2.05 GiB. GPU 0 has a total capacity of 7.92 GiB of which 35.69 MiB is free. Including non-PyTorch memory, this process has 7.88 GiB memory in use. Of the allocated memory 7.19 GiB is allocated by PyTorch, and 552.43 MiB is reserved by PyTorch but unallocated. If reserved but unallocated memory is large try setting PYTORCH_CUDA_ALLOC_CONF=expandable_segments:True to avoid fragmentation.  See documentation for Memory Management  (https://pytorch.org/docs/stable/notes/cuda.html#environment-variables)"
     ]
    }
   ],
   "source": [
    "mofa = MOFA({\n",
    "    'rna': torch.tensor(rna.X.toarray(), device=device),\n",
    "    'protein': torch.tensor(protein.X.toarray(), device=device),\n",
    "}, K=5, batch_size=128, num_iterations=3000)\n",
    "loss, map_estimates, trained_guide = mofa.train()\n"
   ]
  },
  {
   "cell_type": "code",
   "execution_count": null,
   "id": "6819004d-aa2f-45fd-82a2-b97f3d5dd748",
   "metadata": {},
   "outputs": [],
   "source": [
    "print(pyro.get_param_store().get_all_param_names())\n",
    "pyro.get_param_store().get_param(\"AutoDelta.Z\")"
   ]
  },
  {
   "cell_type": "code",
   "execution_count": 8,
   "id": "ee25ae3f-258d-4c34-b081-e22b7df0594b",
   "metadata": {},
   "outputs": [],
   "source": [
    "import mofax, h5py, os\n",
    "\n",
    "try:\n",
    "    os.remove('models/pyro-MOFA-colinearity.h5')\n",
    "except Exception:\n",
    "    pass\n",
    "\n",
    "with h5py.File('models/pyro-MOFA-colinearity.h5', 'w') as f:\n",
    "    opt = dict(compression=\"gzip\", compression_opts=1)\n",
    "    f.create_dataset('features/rna', data=np.array([*rna.var['feature_types'].index], dtype='S'), **opt)\n",
    "    f.create_dataset('features/protein', data=np.array([*protein.var['feature_types'].index], dtype='S'), **opt)\n",
    "    f.create_dataset('samples/group1', data=np.array([*pbmc.obs.index], dtype='S'), **opt)\n",
    "    f.create_dataset('data/rna/group1', data=rna.X.toarray(), **opt)\n",
    "    f.create_dataset('data/protein/group1', data=protein.X.toarray(), **opt)\n",
    "    f.create_dataset('expectations/Z/group1', data=pyro.get_param_store().get_param(\"AutoDelta.Z\").T.detach().cpu().numpy(), **opt)\n",
    "    f.create_dataset('expectations/W/rna', data=pyro.get_param_store().get_param(\"AutoDelta.W_rna\").T.detach().cpu().numpy(), **opt)\n",
    "    f.create_dataset('expectations/W/protein', data=pyro.get_param_store().get_param(\"AutoDelta.W_protein\").T.detach().cpu().numpy(), **opt)\n",
    "    f.create_dataset('model_options/likelihoods', data=np.array(['gaussian', 'gaussian'], dtype='S'), **opt)\n",
    "\n"
   ]
  },
  {
   "cell_type": "code",
   "execution_count": 5,
   "id": "79ec1f00-8f81-46bb-bb86-1db81873d6c7",
   "metadata": {},
   "outputs": [],
   "source": [
    "import mofax, h5py, os\n",
    "\n",
    "mofax_model = mofax.mofa_model('models/pyro-MOFA-colinearity.h5')"
   ]
  },
  {
   "cell_type": "code",
   "execution_count": 7,
   "id": "a568041b-d04e-4663-940c-cc4c03635231",
   "metadata": {},
   "outputs": [
    {
     "name": "stdout",
     "output_type": "stream",
     "text": [
      "(5, 5527) (5, 32)\n"
     ]
    },
    {
     "name": "stderr",
     "output_type": "stream",
     "text": [
      "/home/adam/venvs/deeplife/lib/python3.10/site-packages/mofax/core.py:1003: FutureWarning: The frame.append method is deprecated and will be removed from pandas in a future version. Use pandas.concat instead.\n",
      "  r2_df = r2_df.append(\n",
      "/home/adam/venvs/deeplife/lib/python3.10/site-packages/mofax/core.py:1003: FutureWarning: The frame.append method is deprecated and will be removed from pandas in a future version. Use pandas.concat instead.\n",
      "  r2_df = r2_df.append(\n",
      "/home/adam/venvs/deeplife/lib/python3.10/site-packages/mofax/core.py:1093: FutureWarning: The frame.append method is deprecated and will be removed from pandas in a future version. Use pandas.concat instead.\n",
      "  r2 = r2.append(tmp)\n",
      "/home/adam/venvs/deeplife/lib/python3.10/site-packages/mofax/core.py:1003: FutureWarning: The frame.append method is deprecated and will be removed from pandas in a future version. Use pandas.concat instead.\n",
      "  r2_df = r2_df.append(\n",
      "/home/adam/venvs/deeplife/lib/python3.10/site-packages/mofax/core.py:1003: FutureWarning: The frame.append method is deprecated and will be removed from pandas in a future version. Use pandas.concat instead.\n",
      "  r2_df = r2_df.append(\n",
      "/home/adam/venvs/deeplife/lib/python3.10/site-packages/mofax/core.py:1093: FutureWarning: The frame.append method is deprecated and will be removed from pandas in a future version. Use pandas.concat instead.\n",
      "  r2 = r2.append(tmp)\n",
      "/home/adam/venvs/deeplife/lib/python3.10/site-packages/mofax/core.py:1003: FutureWarning: The frame.append method is deprecated and will be removed from pandas in a future version. Use pandas.concat instead.\n",
      "  r2_df = r2_df.append(\n",
      "/home/adam/venvs/deeplife/lib/python3.10/site-packages/mofax/core.py:1003: FutureWarning: The frame.append method is deprecated and will be removed from pandas in a future version. Use pandas.concat instead.\n",
      "  r2_df = r2_df.append(\n",
      "/home/adam/venvs/deeplife/lib/python3.10/site-packages/mofax/core.py:1093: FutureWarning: The frame.append method is deprecated and will be removed from pandas in a future version. Use pandas.concat instead.\n",
      "  r2 = r2.append(tmp)\n",
      "/home/adam/venvs/deeplife/lib/python3.10/site-packages/mofax/core.py:1003: FutureWarning: The frame.append method is deprecated and will be removed from pandas in a future version. Use pandas.concat instead.\n",
      "  r2_df = r2_df.append(\n",
      "/home/adam/venvs/deeplife/lib/python3.10/site-packages/mofax/core.py:1003: FutureWarning: The frame.append method is deprecated and will be removed from pandas in a future version. Use pandas.concat instead.\n",
      "  r2_df = r2_df.append(\n",
      "/home/adam/venvs/deeplife/lib/python3.10/site-packages/mofax/core.py:1093: FutureWarning: The frame.append method is deprecated and will be removed from pandas in a future version. Use pandas.concat instead.\n",
      "  r2 = r2.append(tmp)\n",
      "/home/adam/venvs/deeplife/lib/python3.10/site-packages/mofax/core.py:1003: FutureWarning: The frame.append method is deprecated and will be removed from pandas in a future version. Use pandas.concat instead.\n",
      "  r2_df = r2_df.append(\n",
      "/home/adam/venvs/deeplife/lib/python3.10/site-packages/mofax/core.py:1003: FutureWarning: The frame.append method is deprecated and will be removed from pandas in a future version. Use pandas.concat instead.\n",
      "  r2_df = r2_df.append(\n",
      "/home/adam/venvs/deeplife/lib/python3.10/site-packages/mofax/core.py:1093: FutureWarning: The frame.append method is deprecated and will be removed from pandas in a future version. Use pandas.concat instead.\n",
      "  r2 = r2.append(tmp)\n"
     ]
    },
    {
     "data": {
      "image/png": "[encoded data removed]",
      "text/plain": [
       "<Figure size 640x480 with 2 Axes>"
      ]
     },
     "execution_count": 7,
     "metadata": {},
     "output_type": "execute_result"
    }
   ],
   "source": [
    "mofax_model\n",
    "print(mofax_model.factors['group1'].shape, mofax_model.weights['protein'].shape)\n",
    "mofax.plot_r2(mofax_model, x='View', vmax=15)"
   ]
  },
  {
   "cell_type": "code",
   "execution_count": 8,
   "id": "f1144add-0755-402b-a146-c605ee5597c5",
   "metadata": {},
   "outputs": [
    {
     "name": "stderr",
     "output_type": "stream",
     "text": [
      "/home/adam/venvs/deeplife/lib/python3.10/site-packages/mofax/core.py:1003: FutureWarning: The frame.append method is deprecated and will be removed from pandas in a future version. Use pandas.concat instead.\n",
      "  r2_df = r2_df.append(\n",
      "/home/adam/venvs/deeplife/lib/python3.10/site-packages/mofax/core.py:1003: FutureWarning: The frame.append method is deprecated and will be removed from pandas in a future version. Use pandas.concat instead.\n",
      "  r2_df = r2_df.append(\n",
      "/home/adam/venvs/deeplife/lib/python3.10/site-packages/mofax/core.py:1093: FutureWarning: The frame.append method is deprecated and will be removed from pandas in a future version. Use pandas.concat instead.\n",
      "  r2 = r2.append(tmp)\n",
      "/home/adam/venvs/deeplife/lib/python3.10/site-packages/mofax/core.py:1003: FutureWarning: The frame.append method is deprecated and will be removed from pandas in a future version. Use pandas.concat instead.\n",
      "  r2_df = r2_df.append(\n",
      "/home/adam/venvs/deeplife/lib/python3.10/site-packages/mofax/core.py:1003: FutureWarning: The frame.append method is deprecated and will be removed from pandas in a future version. Use pandas.concat instead.\n",
      "  r2_df = r2_df.append(\n",
      "/home/adam/venvs/deeplife/lib/python3.10/site-packages/mofax/core.py:1093: FutureWarning: The frame.append method is deprecated and will be removed from pandas in a future version. Use pandas.concat instead.\n",
      "  r2 = r2.append(tmp)\n",
      "/home/adam/venvs/deeplife/lib/python3.10/site-packages/mofax/core.py:1003: FutureWarning: The frame.append method is deprecated and will be removed from pandas in a future version. Use pandas.concat instead.\n",
      "  r2_df = r2_df.append(\n",
      "/home/adam/venvs/deeplife/lib/python3.10/site-packages/mofax/core.py:1003: FutureWarning: The frame.append method is deprecated and will be removed from pandas in a future version. Use pandas.concat instead.\n",
      "  r2_df = r2_df.append(\n",
      "/home/adam/venvs/deeplife/lib/python3.10/site-packages/mofax/core.py:1093: FutureWarning: The frame.append method is deprecated and will be removed from pandas in a future version. Use pandas.concat instead.\n",
      "  r2 = r2.append(tmp)\n",
      "/home/adam/venvs/deeplife/lib/python3.10/site-packages/mofax/core.py:1003: FutureWarning: The frame.append method is deprecated and will be removed from pandas in a future version. Use pandas.concat instead.\n",
      "  r2_df = r2_df.append(\n",
      "/home/adam/venvs/deeplife/lib/python3.10/site-packages/mofax/core.py:1003: FutureWarning: The frame.append method is deprecated and will be removed from pandas in a future version. Use pandas.concat instead.\n",
      "  r2_df = r2_df.append(\n",
      "/home/adam/venvs/deeplife/lib/python3.10/site-packages/mofax/core.py:1093: FutureWarning: The frame.append method is deprecated and will be removed from pandas in a future version. Use pandas.concat instead.\n",
      "  r2 = r2.append(tmp)\n",
      "/home/adam/venvs/deeplife/lib/python3.10/site-packages/mofax/core.py:1003: FutureWarning: The frame.append method is deprecated and will be removed from pandas in a future version. Use pandas.concat instead.\n",
      "  r2_df = r2_df.append(\n",
      "/home/adam/venvs/deeplife/lib/python3.10/site-packages/mofax/core.py:1003: FutureWarning: The frame.append method is deprecated and will be removed from pandas in a future version. Use pandas.concat instead.\n",
      "  r2_df = r2_df.append(\n",
      "/home/adam/venvs/deeplife/lib/python3.10/site-packages/mofax/core.py:1093: FutureWarning: The frame.append method is deprecated and will be removed from pandas in a future version. Use pandas.concat instead.\n",
      "  r2 = r2.append(tmp)\n"
     ]
    },
    {
     "data": {
      "text/html": [
       "<div>\n",
       "<style scoped>\n",
       "    .dataframe tbody tr th:only-of-type {\n",
       "        vertical-align: middle;\n",
       "    }\n",
       "\n",
       "    .dataframe tbody tr th {\n",
       "        vertical-align: top;\n",
       "    }\n",
       "\n",
       "    .dataframe thead th {\n",
       "        text-align: right;\n",
       "    }\n",
       "</style>\n",
       "<table border=\"1\" class=\"dataframe\">\n",
       "  <thead>\n",
       "    <tr style=\"text-align: right;\">\n",
       "      <th></th>\n",
       "      <th>View</th>\n",
       "      <th>Group</th>\n",
       "      <th>R2</th>\n",
       "      <th>Factor</th>\n",
       "    </tr>\n",
       "  </thead>\n",
       "  <tbody>\n",
       "    <tr>\n",
       "      <th>0</th>\n",
       "      <td>protein</td>\n",
       "      <td>group1</td>\n",
       "      <td>4.142612</td>\n",
       "      <td>Factor0</td>\n",
       "    </tr>\n",
       "    <tr>\n",
       "      <th>1</th>\n",
       "      <td>rna</td>\n",
       "      <td>group1</td>\n",
       "      <td>22.116482</td>\n",
       "      <td>Factor0</td>\n",
       "    </tr>\n",
       "    <tr>\n",
       "      <th>0</th>\n",
       "      <td>protein</td>\n",
       "      <td>group1</td>\n",
       "      <td>3.797197</td>\n",
       "      <td>Factor1</td>\n",
       "    </tr>\n",
       "    <tr>\n",
       "      <th>1</th>\n",
       "      <td>rna</td>\n",
       "      <td>group1</td>\n",
       "      <td>2.549571</td>\n",
       "      <td>Factor1</td>\n",
       "    </tr>\n",
       "    <tr>\n",
       "      <th>0</th>\n",
       "      <td>protein</td>\n",
       "      <td>group1</td>\n",
       "      <td>3.715032</td>\n",
       "      <td>Factor2</td>\n",
       "    </tr>\n",
       "    <tr>\n",
       "      <th>1</th>\n",
       "      <td>rna</td>\n",
       "      <td>group1</td>\n",
       "      <td>7.354045</td>\n",
       "      <td>Factor2</td>\n",
       "    </tr>\n",
       "    <tr>\n",
       "      <th>0</th>\n",
       "      <td>protein</td>\n",
       "      <td>group1</td>\n",
       "      <td>4.146308</td>\n",
       "      <td>Factor3</td>\n",
       "    </tr>\n",
       "    <tr>\n",
       "      <th>1</th>\n",
       "      <td>rna</td>\n",
       "      <td>group1</td>\n",
       "      <td>21.875405</td>\n",
       "      <td>Factor3</td>\n",
       "    </tr>\n",
       "    <tr>\n",
       "      <th>0</th>\n",
       "      <td>protein</td>\n",
       "      <td>group1</td>\n",
       "      <td>4.177433</td>\n",
       "      <td>Factor4</td>\n",
       "    </tr>\n",
       "    <tr>\n",
       "      <th>1</th>\n",
       "      <td>rna</td>\n",
       "      <td>group1</td>\n",
       "      <td>22.256589</td>\n",
       "      <td>Factor4</td>\n",
       "    </tr>\n",
       "  </tbody>\n",
       "</table>\n",
       "</div>"
      ],
      "text/plain": [
       "      View   Group         R2   Factor\n",
       "0  protein  group1   4.142612  Factor0\n",
       "1      rna  group1  22.116482  Factor0\n",
       "0  protein  group1   3.797197  Factor1\n",
       "1      rna  group1   2.549571  Factor1\n",
       "0  protein  group1   3.715032  Factor2\n",
       "1      rna  group1   7.354045  Factor2\n",
       "0  protein  group1   4.146308  Factor3\n",
       "1      rna  group1  21.875405  Factor3\n",
       "0  protein  group1   4.177433  Factor4\n",
       "1      rna  group1  22.256589  Factor4"
      ]
     },
     "execution_count": 8,
     "metadata": {},
     "output_type": "execute_result"
    }
   ],
   "source": [
    "mofax_model.get_r2()"
   ]
  },
  {
   "cell_type": "code",
   "execution_count": 37,
   "id": "b7028b7c-c49c-4cfc-8765-44141e6a5b52",
   "metadata": {},
   "outputs": [],
   "source": [
    "factors = np.array(mofax_model.factors['group1'])"
   ]
  },
  {
   "cell_type": "code",
   "execution_count": 41,
   "id": "e631ca94-b497-4559-8401-e76e9f43024d",
   "metadata": {},
   "outputs": [
    {
     "data": {
      "text/plain": [
       "array([[-0.01769537, -0.01686217, -0.01358018, ..., -0.01147418,\n",
       "        -0.01040362, -0.01540348],\n",
       "       [ 0.01578373,  0.01489218,  0.0132892 , ..., -0.0124437 ,\n",
       "         0.0115466 , -0.0148143 ],\n",
       "       [-0.01164578, -0.01645248, -0.01434374, ...,  0.01288529,\n",
       "        -0.01327522,  0.01490723],\n",
       "       [-0.01439381, -0.0156896 , -0.01507552, ..., -0.0115117 ,\n",
       "        -0.01469998, -0.01408049],\n",
       "       [ 0.01464024,  0.01040311,  0.01439422, ...,  0.01191781,\n",
       "         0.01846012,  0.01684149]], dtype=float32)"
      ]
     },
     "execution_count": 41,
     "metadata": {},
     "output_type": "execute_result"
    }
   ],
   "source": [
    "normed_factors = factors / np.linalg.norm(factors, axis=1)[:, np.newaxis]\n",
    "normed_factors"
   ]
  },
  {
   "cell_type": "code",
   "execution_count": 42,
   "id": "e982ab36-510d-4257-9e23-3964b56ef2fa",
   "metadata": {},
   "outputs": [
    {
     "data": {
      "text/plain": [
       "array([[ 1.0000001 ,  0.10709939, -0.3341493 ,  0.9750989 , -0.9726879 ],\n",
       "       [ 0.10709939,  1.0000001 , -0.7320202 ,  0.11363361, -0.09911125],\n",
       "       [-0.3341493 , -0.7320202 ,  1.        , -0.33364147,  0.314126  ],\n",
       "       [ 0.9750989 ,  0.11363361, -0.33364147,  1.0000001 , -0.9773305 ],\n",
       "       [-0.9726879 , -0.09911125,  0.314126  , -0.9773305 ,  1.0000001 ]],\n",
       "      dtype=float32)"
      ]
     },
     "execution_count": 42,
     "metadata": {},
     "output_type": "execute_result"
    }
   ],
   "source": [
    "normed_factors @ normed_factors.T"
   ]
  },
  {
   "cell_type": "code",
   "execution_count": 43,
   "id": "b274bbd0-86aa-4486-ae4e-72938c058398",
   "metadata": {},
   "outputs": [],
   "source": [
    "import seaborn as sns"
   ]
  },
  {
   "cell_type": "code",
   "execution_count": 49,
   "id": "3000b85d-bdb7-4d82-aa5f-8d5492042bf7",
   "metadata": {},
   "outputs": [
    {
     "data": {
      "text/plain": [
       "<Axes: >"
      ]
     },
     "execution_count": 49,
     "metadata": {},
     "output_type": "execute_result"
    },
    {
     "data": {
      "image/png": "[encoded data removed]",
      "text/plain": [
       "<Figure size 640x480 with 2 Axes>"
      ]
     },
     "metadata": {},
     "output_type": "display_data"
    }
   ],
   "source": [
    "sns.heatmap(np.abs(normed_factors @ normed_factors.T), cmap='coolwarm')"
   ]
  },
  {
   "cell_type": "code",
   "execution_count": 52,
   "id": "24e44e58-c26a-4e9f-88b3-f28a6d6bdf77",
   "metadata": {},
   "outputs": [
    {
     "data": {
      "text/plain": [
       "<seaborn.matrix.ClusterGrid at 0x7f940ccb1030>"
      ]
     },
     "execution_count": 52,
     "metadata": {},
     "output_type": "execute_result"
    },
    {
     "data": {
      "image/png": "[encoded data removed]",
      "text/plain": [
       "<Figure size 1000x1000 with 4 Axes>"
      ]
     },
     "metadata": {},
     "output_type": "display_data"
    }
   ],
   "source": [
    "sns.clustermap(np.abs(normed_factors @ normed_factors.T))"
   ]
  },
  {
   "cell_type": "code",
   "execution_count": null,
   "id": "33464f66-91a7-42c8-af0b-6795e1552059",
   "metadata": {},
   "outputs": [],
   "source": []
  }
 ],
 "metadata": {
  "kernelspec": {
   "display_name": "Python 3 (ipykernel)",
   "language": "python",
   "name": "python3"
  },
  "language_info": {
   "codemirror_mode": {
    "name": "ipython",
    "version": 3
   },
   "file_extension": ".py",
   "mimetype": "text/x-python",
   "name": "python",
   "nbconvert_exporter": "python",
   "pygments_lexer": "ipython3",
   "version": "3.10.12"
  }
 },
 "nbformat": 4,
 "nbformat_minor": 5
}
