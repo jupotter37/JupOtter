{
  "cells": [
    {
      "cell_type": "code",
      "execution_count": null,
      "metadata": {
        "id": "PhFmVnYYdgWU"
      },
      "outputs": [],
      "source": [
        "import numpy as np\n",
        "import matplotlib.pyplot as plt\n",
        "import pandas as pd\n",
        "pd.set_option('future.no_silent_downcasting', True)\n",
        "import random\n",
        "\n",
        "import torch\n",
        "import torch.nn as nn\n",
        "import torch.nn.functional as F\n",
        "from torch.utils.data import Dataset, DataLoader\n",
        "from torch.autograd import Variable\n",
        "from tqdm import tqdm\n",
        "\n",
        "from sklearn.impute import SimpleImputer\n",
        "from sklearn.decomposition import PCA\n",
        "from sklearn.model_selection import train_test_split\n",
        "from sklearn.preprocessing import StandardScaler\n",
        "from sklearn.metrics import classification_report, accuracy_score\n",
        "from sklearn.preprocessing import LabelEncoder\n",
        "from sklearn.utils.class_weight import compute_class_weight"
      ]
    },
    {
      "cell_type": "code",
      "execution_count": null,
      "metadata": {
        "colab": {
          "base_uri": "https://localhost:8080/"
        },
        "id": "N6YfyImodqTl",
        "outputId": "cb746737-0233-402b-a6a5-ca844f8bc53b"
      },
      "outputs": [
        {
          "output_type": "stream",
          "name": "stdout",
          "text": [
            "Requirement already satisfied: cptac==1.1.0 in /usr/local/lib/python3.10/dist-packages (1.1.0)\n",
            "Requirement already satisfied: numpy>=1.16.3 in /usr/local/lib/python3.10/dist-packages (from cptac==1.1.0) (1.26.4)\n",
            "Requirement already satisfied: pandas>=1.2.0 in /usr/local/lib/python3.10/dist-packages (from cptac==1.1.0) (2.2.2)\n",
            "Requirement already satisfied: requests>=2.21.0 in /usr/local/lib/python3.10/dist-packages (from cptac==1.1.0) (2.32.3)\n",
            "Requirement already satisfied: beautifulsoup4>=4.7.1 in /usr/local/lib/python3.10/dist-packages (from cptac==1.1.0) (4.12.3)\n",
            "Requirement already satisfied: scipy>=1.2.1 in /usr/local/lib/python3.10/dist-packages (from cptac==1.1.0) (1.13.1)\n",
            "Requirement already satisfied: urllib3>=1.24.2 in /usr/local/lib/python3.10/dist-packages (from cptac==1.1.0) (2.2.3)\n",
            "Requirement already satisfied: openpyxl>=2.6.0 in /usr/local/lib/python3.10/dist-packages (from cptac==1.1.0) (3.1.5)\n",
            "Requirement already satisfied: packaging>=19.2 in /usr/local/lib/python3.10/dist-packages (from cptac==1.1.0) (24.2)\n",
            "Requirement already satisfied: xlrd>=2.0.1 in /usr/local/lib/python3.10/dist-packages (from cptac==1.1.0) (2.0.1)\n",
            "Requirement already satisfied: statsmodels>=0.10.0 in /usr/local/lib/python3.10/dist-packages (from cptac==1.1.0) (0.14.4)\n",
            "Requirement already satisfied: flask>=1.1.0 in /usr/local/lib/python3.10/dist-packages (from cptac==1.1.0) (3.0.3)\n",
            "Requirement already satisfied: gtfparse>=1.2.1 in /usr/local/lib/python3.10/dist-packages (from cptac==1.1.0) (2.5.0)\n",
            "Requirement already satisfied: mygene>=3.2.2 in /usr/local/lib/python3.10/dist-packages (from cptac==1.1.0) (3.2.2)\n",
            "Requirement already satisfied: soupsieve>1.2 in /usr/local/lib/python3.10/dist-packages (from beautifulsoup4>=4.7.1->cptac==1.1.0) (2.6)\n",
            "Requirement already satisfied: Werkzeug>=3.0.0 in /usr/local/lib/python3.10/dist-packages (from flask>=1.1.0->cptac==1.1.0) (3.1.3)\n",
            "Requirement already satisfied: Jinja2>=3.1.2 in /usr/local/lib/python3.10/dist-packages (from flask>=1.1.0->cptac==1.1.0) (3.1.4)\n",
            "Requirement already satisfied: itsdangerous>=2.1.2 in /usr/local/lib/python3.10/dist-packages (from flask>=1.1.0->cptac==1.1.0) (2.2.0)\n",
            "Requirement already satisfied: click>=8.1.3 in /usr/local/lib/python3.10/dist-packages (from flask>=1.1.0->cptac==1.1.0) (8.1.7)\n",
            "Requirement already satisfied: blinker>=1.6.2 in /usr/local/lib/python3.10/dist-packages (from flask>=1.1.0->cptac==1.1.0) (1.9.0)\n",
            "Requirement already satisfied: polars<0.21.0,>=0.20.2 in /usr/local/lib/python3.10/dist-packages (from gtfparse>=1.2.1->cptac==1.1.0) (0.20.31)\n",
            "Requirement already satisfied: pyarrow<14.1.0,>=14.0.2 in /usr/local/lib/python3.10/dist-packages (from gtfparse>=1.2.1->cptac==1.1.0) (14.0.2)\n",
            "Requirement already satisfied: biothings-client>=0.2.6 in /usr/local/lib/python3.10/dist-packages (from mygene>=3.2.2->cptac==1.1.0) (0.3.1)\n",
            "Requirement already satisfied: et-xmlfile in /usr/local/lib/python3.10/dist-packages (from openpyxl>=2.6.0->cptac==1.1.0) (2.0.0)\n",
            "Requirement already satisfied: python-dateutil>=2.8.2 in /usr/local/lib/python3.10/dist-packages (from pandas>=1.2.0->cptac==1.1.0) (2.8.2)\n",
            "Requirement already satisfied: pytz>=2020.1 in /usr/local/lib/python3.10/dist-packages (from pandas>=1.2.0->cptac==1.1.0) (2024.2)\n",
            "Requirement already satisfied: tzdata>=2022.7 in /usr/local/lib/python3.10/dist-packages (from pandas>=1.2.0->cptac==1.1.0) (2024.2)\n",
            "Requirement already satisfied: charset-normalizer<4,>=2 in /usr/local/lib/python3.10/dist-packages (from requests>=2.21.0->cptac==1.1.0) (3.4.0)\n",
            "Requirement already satisfied: idna<4,>=2.5 in /usr/local/lib/python3.10/dist-packages (from requests>=2.21.0->cptac==1.1.0) (3.10)\n",
            "Requirement already satisfied: certifi>=2017.4.17 in /usr/local/lib/python3.10/dist-packages (from requests>=2.21.0->cptac==1.1.0) (2024.8.30)\n",
            "Requirement already satisfied: patsy>=0.5.6 in /usr/local/lib/python3.10/dist-packages (from statsmodels>=0.10.0->cptac==1.1.0) (1.0.1)\n",
            "Requirement already satisfied: MarkupSafe>=2.0 in /usr/local/lib/python3.10/dist-packages (from Jinja2>=3.1.2->flask>=1.1.0->cptac==1.1.0) (3.0.2)\n",
            "Requirement already satisfied: six>=1.5 in /usr/local/lib/python3.10/dist-packages (from python-dateutil>=2.8.2->pandas>=1.2.0->cptac==1.1.0) (1.17.0)\n"
          ]
        }
      ],
      "source": [
        "!pip install cptac==1.1.0"
      ]
    },
    {
      "cell_type": "code",
      "execution_count": null,
      "metadata": {
        "id": "alyTdQsnerbH"
      },
      "outputs": [],
      "source": [
        "import cptac"
      ]
    },
    {
      "cell_type": "markdown",
      "metadata": {
        "id": "R-5fCjOxm-44"
      },
      "source": [
        "# Data Collection and Cleaning"
      ]
    },
    {
      "cell_type": "code",
      "execution_count": null,
      "metadata": {
        "colab": {
          "base_uri": "https://localhost:8080/"
        },
        "id": "i7vxELR_dzty",
        "outputId": "84e8c084-80e4-4c50-d169-5d636976c032"
      },
      "outputs": [
        {
          "output_type": "stream",
          "name": "stdout",
          "text": []
        },
        {
          "output_type": "stream",
          "name": "stderr",
          "text": [
            "cptac warning: Your version of cptac (1.1.0) is out-of-date. Latest is 1.5.14. Please run 'pip install --upgrade cptac' to update it. (/usr/lib/python3.10/threading.py, line 953)\n"
          ]
        },
        {
          "output_type": "stream",
          "name": "stdout",
          "text": []
        }
      ],
      "source": [
        "#lung adenocarcinoma\n",
        "cptac.download('luad')\n",
        "lu = cptac.Luad()\n",
        "\n",
        "#Breast Invasive Carcinoma\n",
        "cptac.download('brca')\n",
        "br = cptac.Brca()\n",
        "\n",
        "#Head and neck squamous cell carcinoma\n",
        "cptac.download('hnscc')\n",
        "hn = cptac.Hnscc()\n",
        "\n",
        "#Glioblastoma\n",
        "cptac.download('gbm')\n",
        "gbm = cptac.Gbm()\n",
        "\n",
        "#Ovarian\n",
        "cptac.download('ovarian')\n",
        "ov = cptac.Ovarian()\n",
        "\n",
        "#renal cell\n",
        "cptac.download('ccrcc')\n",
        "cc = cptac.Ccrcc()\n",
        "\n",
        "#Endometrial\n",
        "cptac.download(\"endometrial\")\n",
        "en = cptac.Endometrial()"
      ]
    },
    {
      "cell_type": "code",
      "execution_count": null,
      "metadata": {
        "id": "c6tBSskehGqO"
      },
      "outputs": [],
      "source": [
        "lu_transcriptome = lu.get_transcriptomics()\n",
        "lu_proteome = lu.get_proteomics()\n",
        "\n",
        "hn_transcriptome = hn.get_transcriptomics()\n",
        "hn_proteome = hn.get_proteomics()\n",
        "\n",
        "gbm_transcriptome = gbm.get_transcriptomics()\n",
        "gbm_proteome = gbm.get_proteomics()\n",
        "\n",
        "br_transcriptome = br.get_transcriptomics()\n",
        "br_proteome = br.get_proteomics()\n",
        "\n",
        "ov_transcriptome = ov.get_transcriptomics()\n",
        "ov_proteome = ov.get_proteomics()\n",
        "\n",
        "cc_transcriptome = cc.get_transcriptomics()\n",
        "cc_proteome = cc.get_proteomics()\n",
        "\n",
        "en_transcriptome = en.get_transcriptomics()\n",
        "en_proteome = en.get_proteomics()"
      ]
    },
    {
      "cell_type": "code",
      "execution_count": null,
      "metadata": {
        "id": "HY2KClVlozb6"
      },
      "outputs": [],
      "source": [
        "lu_combined = pd.concat([lu_transcriptome, lu_proteome], axis=1)\n",
        "hn_combined = pd.concat([hn_transcriptome, hn_proteome], axis=1)\n",
        "gbm_combined = pd.concat([gbm_transcriptome, gbm_proteome], axis=1)\n",
        "br_combined = pd.concat([br_transcriptome, br_proteome], axis=1)\n",
        "ov_combined = pd.concat([ov_transcriptome, ov_proteome], axis=1)\n",
        "cc_combined = pd.concat([cc_transcriptome, cc_proteome], axis=1)\n",
        "en_combined = pd.concat([en_transcriptome, en_proteome], axis=1)"
      ]
    },
    {
      "cell_type": "code",
      "execution_count": null,
      "metadata": {
        "id": "G1YZf8xKskaw",
        "outputId": "5263f60e-7837-4203-b155-62502b3d2d03"
      },
      "outputs": [
        {
          "name": "stdout",
          "output_type": "stream",
          "text": [
            "False\n",
            "True\n",
            "False\n",
            "False\n",
            "False\n",
            "False\n",
            "True\n"
          ]
        }
      ],
      "source": [
        "print(lu_combined.columns.duplicated().any())\n",
        "print(hn_combined.columns.duplicated().any())\n",
        "print(gbm_combined.columns.duplicated().any())\n",
        "print(br_combined.columns.duplicated().any())\n",
        "print(ov_combined.columns.duplicated().any())\n",
        "print(cc_combined.columns.duplicated().any())\n",
        "print(en_combined.columns.duplicated().any())"
      ]
    },
    {
      "cell_type": "code",
      "execution_count": null,
      "metadata": {
        "id": "SqxcH2URszi7"
      },
      "outputs": [],
      "source": [
        "hn_combined = hn_combined.loc[:, ~hn_combined.columns.duplicated()]\n",
        "en_combined = en_combined.loc[:, ~en_combined.columns.duplicated()]"
      ]
    },
    {
      "cell_type": "code",
      "execution_count": null,
      "metadata": {
        "id": "dd_RSUWSsNNz"
      },
      "outputs": [],
      "source": [
        "lu_combined = lu_combined.add_prefix('Lung_')\n",
        "hn_combined = hn_combined.add_prefix('HeadNeck_')\n",
        "gbm_combined = gbm_combined.add_prefix('Brain_')\n",
        "br_combined = br_combined.add_prefix('Breast_')\n",
        "ov_combined = ov_combined.add_prefix('Ovarian_')\n",
        "cc_combined = cc_combined.add_prefix('Renal_')\n",
        "en_combined = en_combined.add_prefix('Endometrial_')"
      ]
    },
    {
      "cell_type": "code",
      "execution_count": null,
      "metadata": {
        "id": "CGobBWbOwtMG"
      },
      "outputs": [],
      "source": [
        "cancer_labels = ['Lung', 'Breast', 'Head and Neck', 'Brain', 'Ovarian', 'Renal Cell', 'Endometrial']\n",
        "lu_combined['Cancer'] = cancer_labels[0]\n",
        "hn_combined['Cancer'] = cancer_labels[2]\n",
        "gbm_combined['Cancer'] = cancer_labels[3]\n",
        "br_combined['Cancer'] = cancer_labels[1]\n",
        "ov_combined['Cancer'] = cancer_labels[4]\n",
        "cc_combined['Cancer'] = cancer_labels[5]\n",
        "en_combined['Cancer'] = cancer_labels[6]"
      ]
    },
    {
      "cell_type": "code",
      "execution_count": null,
      "metadata": {
        "id": "N_zp5_O7pje0"
      },
      "outputs": [],
      "source": [
        "all_data = pd.concat([lu_combined, hn_combined, gbm_combined, br_combined,\n",
        "                          ov_combined, cc_combined, en_combined], axis=0)"
      ]
    },
    {
      "cell_type": "code",
      "execution_count": null,
      "metadata": {
        "colab": {
          "base_uri": "https://localhost:8080/"
        },
        "id": "8EL6AUxpvB8T",
        "outputId": "17ccf879-5e6d-4a93-d0bb-ac63af197705"
      },
      "outputs": [
        {
          "name": "stdout",
          "output_type": "stream",
          "text": [
            "Lung_A1BG               880\n",
            "Lung_A1CF               880\n",
            "Lung_A2M                880\n",
            "Lung_A2ML1              880\n",
            "Lung_A3GALT2            888\n",
            "                       ... \n",
            "Endometrial_MT-ND3     1067\n",
            "Endometrial_MT-ND4      947\n",
            "Endometrial_MT-ND4L    1069\n",
            "Endometrial_MT-ND5      947\n",
            "Endometrial_MT-ND6      998\n",
            "Length: 263882, dtype: int64\n"
          ]
        }
      ],
      "source": [
        "missing_values = all_data.isnull().sum()\n",
        "print(missing_values[missing_values > 0])"
      ]
    },
    {
      "cell_type": "code",
      "execution_count": null,
      "metadata": {
        "id": "pAMZoIYEwlFT"
      },
      "outputs": [],
      "source": [
        "all_data_cleaned = all_data.fillna(0)"
      ]
    },
    {
      "cell_type": "code",
      "execution_count": null,
      "metadata": {
        "colab": {
          "base_uri": "https://localhost:8080/",
          "height": 304
        },
        "id": "4R_m6lXax7bB",
        "outputId": "36387359-fbab-47d8-9941-eeb26e3fcd68"
      },
      "outputs": [
        {
          "data": {
            "application/vnd.google.colaboratory.intrinsic+json": {
              "type": "dataframe",
              "variable_name": "all_data_cleaned"
            },
            "text/html": [
              "\n",
              "  <div id=\"df-2d4ecfbb-481a-4100-8101-b5323ca5020c\" class=\"colab-df-container\">\n",
              "    <div>\n",
              "<style scoped>\n",
              "    .dataframe tbody tr th:only-of-type {\n",
              "        vertical-align: middle;\n",
              "    }\n",
              "\n",
              "    .dataframe tbody tr th {\n",
              "        vertical-align: top;\n",
              "    }\n",
              "\n",
              "    .dataframe thead th {\n",
              "        text-align: right;\n",
              "    }\n",
              "</style>\n",
              "<table border=\"1\" class=\"dataframe\">\n",
              "  <thead>\n",
              "    <tr style=\"text-align: right;\">\n",
              "      <th></th>\n",
              "      <th>Lung_A1BG</th>\n",
              "      <th>Lung_A1CF</th>\n",
              "      <th>Lung_A2M</th>\n",
              "      <th>Lung_A2ML1</th>\n",
              "      <th>Lung_A3GALT2</th>\n",
              "      <th>Lung_A4GALT</th>\n",
              "      <th>Lung_A4GNT</th>\n",
              "      <th>Lung_AAAS</th>\n",
              "      <th>Lung_AACS</th>\n",
              "      <th>Lung_AADAC</th>\n",
              "      <th>...</th>\n",
              "      <th>Endometrial_MT-CO2</th>\n",
              "      <th>Endometrial_MT-CO3</th>\n",
              "      <th>Endometrial_MT-CYB</th>\n",
              "      <th>Endometrial_MT-ND1</th>\n",
              "      <th>Endometrial_MT-ND2</th>\n",
              "      <th>Endometrial_MT-ND3</th>\n",
              "      <th>Endometrial_MT-ND4</th>\n",
              "      <th>Endometrial_MT-ND4L</th>\n",
              "      <th>Endometrial_MT-ND5</th>\n",
              "      <th>Endometrial_MT-ND6</th>\n",
              "    </tr>\n",
              "    <tr>\n",
              "      <th>Patient_ID</th>\n",
              "      <th></th>\n",
              "      <th></th>\n",
              "      <th></th>\n",
              "      <th></th>\n",
              "      <th></th>\n",
              "      <th></th>\n",
              "      <th></th>\n",
              "      <th></th>\n",
              "      <th></th>\n",
              "      <th></th>\n",
              "      <th></th>\n",
              "      <th></th>\n",
              "      <th></th>\n",
              "      <th></th>\n",
              "      <th></th>\n",
              "      <th></th>\n",
              "      <th></th>\n",
              "      <th></th>\n",
              "      <th></th>\n",
              "      <th></th>\n",
              "      <th></th>\n",
              "    </tr>\n",
              "  </thead>\n",
              "  <tbody>\n",
              "    <tr>\n",
              "      <th>C3L-00001</th>\n",
              "      <td>2.2545</td>\n",
              "      <td>-2.7845</td>\n",
              "      <td>8.0488</td>\n",
              "      <td>-3.6051</td>\n",
              "      <td>-1.3305</td>\n",
              "      <td>0.8208</td>\n",
              "      <td>-1.0519</td>\n",
              "      <td>3.4780</td>\n",
              "      <td>2.6953</td>\n",
              "      <td>-3.3578</td>\n",
              "      <td>...</td>\n",
              "      <td>0.0</td>\n",
              "      <td>0.0</td>\n",
              "      <td>0.0</td>\n",
              "      <td>0.0</td>\n",
              "      <td>0.0</td>\n",
              "      <td>0.0</td>\n",
              "      <td>0.0</td>\n",
              "      <td>0.0</td>\n",
              "      <td>0.0</td>\n",
              "      <td>0.0</td>\n",
              "    </tr>\n",
              "    <tr>\n",
              "      <th>C3L-00009</th>\n",
              "      <td>1.4770</td>\n",
              "      <td>-1.9278</td>\n",
              "      <td>8.9855</td>\n",
              "      <td>0.4851</td>\n",
              "      <td>-2.4401</td>\n",
              "      <td>1.7417</td>\n",
              "      <td>-1.5157</td>\n",
              "      <td>4.1043</td>\n",
              "      <td>2.8091</td>\n",
              "      <td>0.0472</td>\n",
              "      <td>...</td>\n",
              "      <td>0.0</td>\n",
              "      <td>0.0</td>\n",
              "      <td>0.0</td>\n",
              "      <td>0.0</td>\n",
              "      <td>0.0</td>\n",
              "      <td>0.0</td>\n",
              "      <td>0.0</td>\n",
              "      <td>0.0</td>\n",
              "      <td>0.0</td>\n",
              "      <td>0.0</td>\n",
              "    </tr>\n",
              "    <tr>\n",
              "      <th>C3L-00080</th>\n",
              "      <td>1.5103</td>\n",
              "      <td>-4.9913</td>\n",
              "      <td>7.4303</td>\n",
              "      <td>-4.3766</td>\n",
              "      <td>-2.1868</td>\n",
              "      <td>-0.3121</td>\n",
              "      <td>-2.3936</td>\n",
              "      <td>4.6577</td>\n",
              "      <td>3.0394</td>\n",
              "      <td>1.2233</td>\n",
              "      <td>...</td>\n",
              "      <td>0.0</td>\n",
              "      <td>0.0</td>\n",
              "      <td>0.0</td>\n",
              "      <td>0.0</td>\n",
              "      <td>0.0</td>\n",
              "      <td>0.0</td>\n",
              "      <td>0.0</td>\n",
              "      <td>0.0</td>\n",
              "      <td>0.0</td>\n",
              "      <td>0.0</td>\n",
              "    </tr>\n",
              "    <tr>\n",
              "      <th>C3L-00083</th>\n",
              "      <td>3.0398</td>\n",
              "      <td>-3.5440</td>\n",
              "      <td>9.4109</td>\n",
              "      <td>-3.1840</td>\n",
              "      <td>-3.2313</td>\n",
              "      <td>4.3862</td>\n",
              "      <td>-3.0231</td>\n",
              "      <td>3.9942</td>\n",
              "      <td>3.4665</td>\n",
              "      <td>-1.7667</td>\n",
              "      <td>...</td>\n",
              "      <td>0.0</td>\n",
              "      <td>0.0</td>\n",
              "      <td>0.0</td>\n",
              "      <td>0.0</td>\n",
              "      <td>0.0</td>\n",
              "      <td>0.0</td>\n",
              "      <td>0.0</td>\n",
              "      <td>0.0</td>\n",
              "      <td>0.0</td>\n",
              "      <td>0.0</td>\n",
              "    </tr>\n",
              "    <tr>\n",
              "      <th>C3L-00093</th>\n",
              "      <td>1.7528</td>\n",
              "      <td>-5.2883</td>\n",
              "      <td>9.1136</td>\n",
              "      <td>-2.9449</td>\n",
              "      <td>-1.9313</td>\n",
              "      <td>1.5985</td>\n",
              "      <td>-3.3751</td>\n",
              "      <td>3.8190</td>\n",
              "      <td>3.1688</td>\n",
              "      <td>-2.3956</td>\n",
              "      <td>...</td>\n",
              "      <td>0.0</td>\n",
              "      <td>0.0</td>\n",
              "      <td>0.0</td>\n",
              "      <td>0.0</td>\n",
              "      <td>0.0</td>\n",
              "      <td>0.0</td>\n",
              "      <td>0.0</td>\n",
              "      <td>0.0</td>\n",
              "      <td>0.0</td>\n",
              "      <td>0.0</td>\n",
              "    </tr>\n",
              "  </tbody>\n",
              "</table>\n",
              "<p>5 rows × 263883 columns</p>\n",
              "</div>\n",
              "    <div class=\"colab-df-buttons\">\n",
              "\n",
              "  <div class=\"colab-df-container\">\n",
              "    <button class=\"colab-df-convert\" onclick=\"convertToInteractive('df-2d4ecfbb-481a-4100-8101-b5323ca5020c')\"\n",
              "            title=\"Convert this dataframe to an interactive table.\"\n",
              "            style=\"display:none;\">\n",
              "\n",
              "  <svg xmlns=\"http://www.w3.org/2000/svg\" height=\"24px\" viewBox=\"0 -960 960 960\">\n",
              "    <path d=\"M120-120v-720h720v720H120Zm60-500h600v-160H180v160Zm220 220h160v-160H400v160Zm0 220h160v-160H400v160ZM180-400h160v-160H180v160Zm440 0h160v-160H620v160ZM180-180h160v-160H180v160Zm440 0h160v-160H620v160Z\"/>\n",
              "  </svg>\n",
              "    </button>\n",
              "\n",
              "  <style>\n",
              "    .colab-df-container {\n",
              "      display:flex;\n",
              "      gap: 12px;\n",
              "    }\n",
              "\n",
              "    .colab-df-convert {\n",
              "      background-color: #E8F0FE;\n",
              "      border: none;\n",
              "      border-radius: 50%;\n",
              "      cursor: pointer;\n",
              "      display: none;\n",
              "      fill: #1967D2;\n",
              "      height: 32px;\n",
              "      padding: 0 0 0 0;\n",
              "      width: 32px;\n",
              "    }\n",
              "\n",
              "    .colab-df-convert:hover {\n",
              "      background-color: #E2EBFA;\n",
              "      box-shadow: 0px 1px 2px rgba(60, 64, 67, 0.3), 0px 1px 3px 1px rgba(60, 64, 67, 0.15);\n",
              "      fill: #174EA6;\n",
              "    }\n",
              "\n",
              "    .colab-df-buttons div {\n",
              "      margin-bottom: 4px;\n",
              "    }\n",
              "\n",
              "    [theme=dark] .colab-df-convert {\n",
              "      background-color: #3B4455;\n",
              "      fill: #D2E3FC;\n",
              "    }\n",
              "\n",
              "    [theme=dark] .colab-df-convert:hover {\n",
              "      background-color: #434B5C;\n",
              "      box-shadow: 0px 1px 3px 1px rgba(0, 0, 0, 0.15);\n",
              "      filter: drop-shadow(0px 1px 2px rgba(0, 0, 0, 0.3));\n",
              "      fill: #FFFFFF;\n",
              "    }\n",
              "  </style>\n",
              "\n",
              "    <script>\n",
              "      const buttonEl =\n",
              "        document.querySelector('#df-2d4ecfbb-481a-4100-8101-b5323ca5020c button.colab-df-convert');\n",
              "      buttonEl.style.display =\n",
              "        google.colab.kernel.accessAllowed ? 'block' : 'none';\n",
              "\n",
              "      async function convertToInteractive(key) {\n",
              "        const element = document.querySelector('#df-2d4ecfbb-481a-4100-8101-b5323ca5020c');\n",
              "        const dataTable =\n",
              "          await google.colab.kernel.invokeFunction('convertToInteractive',\n",
              "                                                    [key], {});\n",
              "        if (!dataTable) return;\n",
              "\n",
              "        const docLinkHtml = 'Like what you see? Visit the ' +\n",
              "          '<a target=\"_blank\" href=https://colab.research.google.com/notebooks/data_table.ipynb>data table notebook</a>'\n",
              "          + ' to learn more about interactive tables.';\n",
              "        element.innerHTML = '';\n",
              "        dataTable['output_type'] = 'display_data';\n",
              "        await google.colab.output.renderOutput(dataTable, element);\n",
              "        const docLink = document.createElement('div');\n",
              "        docLink.innerHTML = docLinkHtml;\n",
              "        element.appendChild(docLink);\n",
              "      }\n",
              "    </script>\n",
              "  </div>\n",
              "\n",
              "\n",
              "<div id=\"df-3a8aa413-d15a-41a6-8bcd-c072705abcfc\">\n",
              "  <button class=\"colab-df-quickchart\" onclick=\"quickchart('df-3a8aa413-d15a-41a6-8bcd-c072705abcfc')\"\n",
              "            title=\"Suggest charts\"\n",
              "            style=\"display:none;\">\n",
              "\n",
              "<svg xmlns=\"http://www.w3.org/2000/svg\" height=\"24px\"viewBox=\"0 0 24 24\"\n",
              "     width=\"24px\">\n",
              "    <g>\n",
              "        <path d=\"M19 3H5c-1.1 0-2 .9-2 2v14c0 1.1.9 2 2 2h14c1.1 0 2-.9 2-2V5c0-1.1-.9-2-2-2zM9 17H7v-7h2v7zm4 0h-2V7h2v10zm4 0h-2v-4h2v4z\"/>\n",
              "    </g>\n",
              "</svg>\n",
              "  </button>\n",
              "\n",
              "<style>\n",
              "  .colab-df-quickchart {\n",
              "      --bg-color: #E8F0FE;\n",
              "      --fill-color: #1967D2;\n",
              "      --hover-bg-color: #E2EBFA;\n",
              "      --hover-fill-color: #174EA6;\n",
              "      --disabled-fill-color: #AAA;\n",
              "      --disabled-bg-color: #DDD;\n",
              "  }\n",
              "\n",
              "  [theme=dark] .colab-df-quickchart {\n",
              "      --bg-color: #3B4455;\n",
              "      --fill-color: #D2E3FC;\n",
              "      --hover-bg-color: #434B5C;\n",
              "      --hover-fill-color: #FFFFFF;\n",
              "      --disabled-bg-color: #3B4455;\n",
              "      --disabled-fill-color: #666;\n",
              "  }\n",
              "\n",
              "  .colab-df-quickchart {\n",
              "    background-color: var(--bg-color);\n",
              "    border: none;\n",
              "    border-radius: 50%;\n",
              "    cursor: pointer;\n",
              "    display: none;\n",
              "    fill: var(--fill-color);\n",
              "    height: 32px;\n",
              "    padding: 0;\n",
              "    width: 32px;\n",
              "  }\n",
              "\n",
              "  .colab-df-quickchart:hover {\n",
              "    background-color: var(--hover-bg-color);\n",
              "    box-shadow: 0 1px 2px rgba(60, 64, 67, 0.3), 0 1px 3px 1px rgba(60, 64, 67, 0.15);\n",
              "    fill: var(--button-hover-fill-color);\n",
              "  }\n",
              "\n",
              "  .colab-df-quickchart-complete:disabled,\n",
              "  .colab-df-quickchart-complete:disabled:hover {\n",
              "    background-color: var(--disabled-bg-color);\n",
              "    fill: var(--disabled-fill-color);\n",
              "    box-shadow: none;\n",
              "  }\n",
              "\n",
              "  .colab-df-spinner {\n",
              "    border: 2px solid var(--fill-color);\n",
              "    border-color: transparent;\n",
              "    border-bottom-color: var(--fill-color);\n",
              "    animation:\n",
              "      spin 1s steps(1) infinite;\n",
              "  }\n",
              "\n",
              "  @keyframes spin {\n",
              "    0% {\n",
              "      border-color: transparent;\n",
              "      border-bottom-color: var(--fill-color);\n",
              "      border-left-color: var(--fill-color);\n",
              "    }\n",
              "    20% {\n",
              "      border-color: transparent;\n",
              "      border-left-color: var(--fill-color);\n",
              "      border-top-color: var(--fill-color);\n",
              "    }\n",
              "    30% {\n",
              "      border-color: transparent;\n",
              "      border-left-color: var(--fill-color);\n",
              "      border-top-color: var(--fill-color);\n",
              "      border-right-color: var(--fill-color);\n",
              "    }\n",
              "    40% {\n",
              "      border-color: transparent;\n",
              "      border-right-color: var(--fill-color);\n",
              "      border-top-color: var(--fill-color);\n",
              "    }\n",
              "    60% {\n",
              "      border-color: transparent;\n",
              "      border-right-color: var(--fill-color);\n",
              "    }\n",
              "    80% {\n",
              "      border-color: transparent;\n",
              "      border-right-color: var(--fill-color);\n",
              "      border-bottom-color: var(--fill-color);\n",
              "    }\n",
              "    90% {\n",
              "      border-color: transparent;\n",
              "      border-bottom-color: var(--fill-color);\n",
              "    }\n",
              "  }\n",
              "</style>\n",
              "\n",
              "  <script>\n",
              "    async function quickchart(key) {\n",
              "      const quickchartButtonEl =\n",
              "        document.querySelector('#' + key + ' button');\n",
              "      quickchartButtonEl.disabled = true;  // To prevent multiple clicks.\n",
              "      quickchartButtonEl.classList.add('colab-df-spinner');\n",
              "      try {\n",
              "        const charts = await google.colab.kernel.invokeFunction(\n",
              "            'suggestCharts', [key], {});\n",
              "      } catch (error) {\n",
              "        console.error('Error during call to suggestCharts:', error);\n",
              "      }\n",
              "      quickchartButtonEl.classList.remove('colab-df-spinner');\n",
              "      quickchartButtonEl.classList.add('colab-df-quickchart-complete');\n",
              "    }\n",
              "    (() => {\n",
              "      let quickchartButtonEl =\n",
              "        document.querySelector('#df-3a8aa413-d15a-41a6-8bcd-c072705abcfc button');\n",
              "      quickchartButtonEl.style.display =\n",
              "        google.colab.kernel.accessAllowed ? 'block' : 'none';\n",
              "    })();\n",
              "  </script>\n",
              "</div>\n",
              "\n",
              "    </div>\n",
              "  </div>\n"
            ],
            "text/plain": [
              "            Lung_A1BG  Lung_A1CF  Lung_A2M  Lung_A2ML1  Lung_A3GALT2  \\\n",
              "Patient_ID                                                             \n",
              "C3L-00001      2.2545    -2.7845    8.0488     -3.6051       -1.3305   \n",
              "C3L-00009      1.4770    -1.9278    8.9855      0.4851       -2.4401   \n",
              "C3L-00080      1.5103    -4.9913    7.4303     -4.3766       -2.1868   \n",
              "C3L-00083      3.0398    -3.5440    9.4109     -3.1840       -3.2313   \n",
              "C3L-00093      1.7528    -5.2883    9.1136     -2.9449       -1.9313   \n",
              "\n",
              "            Lung_A4GALT  Lung_A4GNT  Lung_AAAS  Lung_AACS  Lung_AADAC  ...  \\\n",
              "Patient_ID                                                             ...   \n",
              "C3L-00001        0.8208     -1.0519     3.4780     2.6953     -3.3578  ...   \n",
              "C3L-00009        1.7417     -1.5157     4.1043     2.8091      0.0472  ...   \n",
              "C3L-00080       -0.3121     -2.3936     4.6577     3.0394      1.2233  ...   \n",
              "C3L-00083        4.3862     -3.0231     3.9942     3.4665     -1.7667  ...   \n",
              "C3L-00093        1.5985     -3.3751     3.8190     3.1688     -2.3956  ...   \n",
              "\n",
              "            Endometrial_MT-CO2  Endometrial_MT-CO3  Endometrial_MT-CYB  \\\n",
              "Patient_ID                                                               \n",
              "C3L-00001                  0.0                 0.0                 0.0   \n",
              "C3L-00009                  0.0                 0.0                 0.0   \n",
              "C3L-00080                  0.0                 0.0                 0.0   \n",
              "C3L-00083                  0.0                 0.0                 0.0   \n",
              "C3L-00093                  0.0                 0.0                 0.0   \n",
              "\n",
              "            Endometrial_MT-ND1  Endometrial_MT-ND2  Endometrial_MT-ND3  \\\n",
              "Patient_ID                                                               \n",
              "C3L-00001                  0.0                 0.0                 0.0   \n",
              "C3L-00009                  0.0                 0.0                 0.0   \n",
              "C3L-00080                  0.0                 0.0                 0.0   \n",
              "C3L-00083                  0.0                 0.0                 0.0   \n",
              "C3L-00093                  0.0                 0.0                 0.0   \n",
              "\n",
              "            Endometrial_MT-ND4  Endometrial_MT-ND4L  Endometrial_MT-ND5  \\\n",
              "Patient_ID                                                                \n",
              "C3L-00001                  0.0                  0.0                 0.0   \n",
              "C3L-00009                  0.0                  0.0                 0.0   \n",
              "C3L-00080                  0.0                  0.0                 0.0   \n",
              "C3L-00083                  0.0                  0.0                 0.0   \n",
              "C3L-00093                  0.0                  0.0                 0.0   \n",
              "\n",
              "            Endometrial_MT-ND6  \n",
              "Patient_ID                      \n",
              "C3L-00001                  0.0  \n",
              "C3L-00009                  0.0  \n",
              "C3L-00080                  0.0  \n",
              "C3L-00083                  0.0  \n",
              "C3L-00093                  0.0  \n",
              "\n",
              "[5 rows x 263883 columns]"
            ]
          },
          "execution_count": 14,
          "metadata": {},
          "output_type": "execute_result"
        }
      ],
      "source": [
        "all_data_cleaned.head()"
      ]
    },
    {
      "cell_type": "code",
      "execution_count": null,
      "metadata": {
        "id": "EzPS5ozavcwR"
      },
      "outputs": [],
      "source": [
        "X = all_data_cleaned.drop('Cancer', axis=1)\n",
        "y = all_data_cleaned['Cancer']\n",
        "\n",
        "\n",
        "selected_columns = random.sample(list(X.columns), 4000)\n",
        "X_sample = X[selected_columns]\n",
        "\n",
        "X_train, X_val, y_train, y_val = train_test_split(X_sample, y, test_size=0.2, random_state=42)\n"
      ]
    },
    {
      "cell_type": "code",
      "execution_count": null,
      "metadata": {
        "colab": {
          "base_uri": "https://localhost:8080/"
        },
        "id": "4xGwqIPJ4W87",
        "outputId": "b802f8cf-a9d6-44ef-9403-224d37dcc9c3"
      },
      "outputs": [
        {
          "name": "stdout",
          "output_type": "stream",
          "text": [
            "X_train shape: (872, 4000)\n",
            "X_test shape: (219, 4000)\n",
            "y_train shape: (872,)\n",
            "y_test shape: (219,)\n",
            "y_train distribution:\n",
            "Cancer\n",
            "Lung             166\n",
            "Renal Cell       161\n",
            "Head and Neck    144\n",
            "Endometrial      120\n",
            "Ovarian          102\n",
            "Breast            94\n",
            "Brain             85\n",
            "Name: count, dtype: int64\n",
            "y_test distribution:\n",
            "Cancer\n",
            "Head and Neck    45\n",
            "Lung             45\n",
            "Renal Cell       33\n",
            "Breast           28\n",
            "Endometrial      24\n",
            "Brain            24\n",
            "Ovarian          20\n",
            "Name: count, dtype: int64\n"
          ]
        }
      ],
      "source": [
        "print(\"X_train shape:\", X_train.shape)\n",
        "print(\"X_test shape:\", X_val.shape)\n",
        "print(\"y_train shape:\", y_train.shape)\n",
        "print(\"y_test shape:\", y_val.shape)\n",
        "\n",
        "# Check class balance in the target variable\n",
        "print(\"y_train distribution:\")\n",
        "print(y_train.value_counts())\n",
        "\n",
        "print(\"y_test distribution:\")\n",
        "print(y_val.value_counts())"
      ]
    },
    {
      "cell_type": "markdown",
      "metadata": {
        "id": "1I9YoB3Y_Ouf"
      },
      "source": [
        "# Define Tokens and Dataset"
      ]
    },
    {
      "cell_type": "code",
      "execution_count": null,
      "metadata": {
        "id": "cgxyHflC_OBO"
      },
      "outputs": [],
      "source": [
        "def tokenize(gene_data, protein_data, embedding_dim, batch_size = 32):\n",
        "\n",
        "    gene_array = gene_data.to_numpy()\n",
        "    protein_array = protein_data.to_numpy()\n",
        "\n",
        "    print('step 1')\n",
        "\n",
        "\n",
        "    gene_tensor = torch.tensor(gene_array, dtype=torch.float32)\n",
        "    protein_tensor = torch.tensor(protein_array, dtype=torch.float32)\n",
        "\n",
        "    print('hello')\n",
        "\n",
        "    num_samples, num_genes = gene_tensor.shape\n",
        "    num_samples, num_proteins = protein_tensor.shape\n",
        "\n",
        "    print(num_samples, num_genes, num_proteins)\n",
        "\n",
        "    gene_embedding = nn.Embedding(num_genes, embedding_dim)\n",
        "    protein_embedding = nn.Embedding(num_proteins, embedding_dim)\n",
        "    value_encoder = nn.Linear(1, embedding_dim)\n",
        "\n",
        "    gene_tokens_list = []\n",
        "    protein_tokens_list = []\n",
        "\n",
        "    for start in range(0, num_samples, batch_size):\n",
        "        print(start)\n",
        "        end = min(start + batch_size, num_samples)\n",
        "        gene_batch = gene_data.iloc[start:end].to_numpy()\n",
        "        protein_batch = protein_data.iloc[start:end].to_numpy()\n",
        "\n",
        "        gene_tensor = torch.tensor(gene_batch, dtype=torch.float32)\n",
        "        protein_tensor = torch.tensor(protein_batch, dtype=torch.float32)\n",
        "\n",
        "        batch_size_actual = gene_tensor.size(0)\n",
        "\n",
        "        gene_ids = torch.arange(num_genes).unsqueeze(0).repeat(batch_size_actual, 1).long()\n",
        "        protein_ids = torch.arange(num_proteins).unsqueeze(0).repeat(batch_size_actual, 1).long()\n",
        "\n",
        "        gene_id_embeddings = gene_embedding(gene_ids)\n",
        "        protein_id_embeddings = protein_embedding(protein_ids)\n",
        "\n",
        "        gene_values = gene_tensor.unsqueeze(-1)\n",
        "        protein_values = protein_tensor.unsqueeze(-1)\n",
        "\n",
        "        gene_value_embeddings = value_encoder(gene_values)\n",
        "        protein_value_embeddings = value_encoder(protein_values)\n",
        "\n",
        "        print('tokenizing')\n",
        "\n",
        "        gene_tokens = gene_id_embeddings + gene_value_embeddings\n",
        "        protein_tokens = protein_id_embeddings + protein_value_embeddings\n",
        "\n",
        "        # Yield this batch of tokens instead of storing them\n",
        "        yield gene_tokens, protein_tokens"
      ]
    },
    {
      "cell_type": "code",
      "execution_count": null,
      "metadata": {
        "id": "uctbrX-2I7bP"
      },
      "outputs": [],
      "source": [
        "class omics_dataset(Dataset):\n",
        "    def __init__(self, gene_data, protein_data, labels, gene_embedding, protein_embedding, value_encoder):\n",
        "        self.gene_data = gene_data\n",
        "        self.protein_data = protein_data\n",
        "        self.labels = labels\n",
        "        self.gene_embedding = gene_embedding\n",
        "        self.protein_embedding = protein_embedding\n",
        "        self.value_encoder = value_encoder\n",
        "        self.num_genes = gene_data.shape[1]\n",
        "        self.num_proteins = protein_data.shape[1]\n",
        "\n",
        "    def __len__(self):\n",
        "        return len(self.labels)\n",
        "\n",
        "    def __getitem__(self, idx):\n",
        "        gene_row = self.gene_data[idx]\n",
        "        protein_row = self.protein_data[idx] # shape (1, num_proteins)\n",
        "\n",
        "        gene_tensor = torch.tensor(gene_row, dtype=torch.float32)     # (1, num_genes)\n",
        "        protein_tensor = torch.tensor(protein_row, dtype=torch.float32)# (1, num_proteins)\n",
        "\n",
        "        gene_ids = torch.arange(self.num_genes).unsqueeze(0).long()      # (1, num_genes)\n",
        "        protein_ids = torch.arange(self.num_proteins).unsqueeze(0).long()# (1, num_proteins)\n",
        "\n",
        "        gene_id_embeddings = self.gene_embedding(gene_ids)\n",
        "        protein_id_embeddings = self.protein_embedding(protein_ids)\n",
        "\n",
        "        gene_values = gene_tensor.unsqueeze(-1)    # (1, num_genes, 1)\n",
        "        protein_values = protein_tensor.unsqueeze(-1) # (1, num_proteins, 1)\n",
        "\n",
        "        gene_value_embeddings = self.value_encoder(gene_values)\n",
        "        protein_value_embeddings = self.value_encoder(protein_values)\n",
        "\n",
        "        gene_tokens = gene_id_embeddings + gene_value_embeddings   # (1, num_genes, embedding_dim)\n",
        "        protein_tokens = protein_id_embeddings + protein_value_embeddings # (1, num_proteins, embedding_dim)\n",
        "\n",
        "        # Squeeze out the batch dimension since we return a single sample\n",
        "        gene_tokens = gene_tokens.squeeze(0)\n",
        "        protein_tokens = protein_tokens.squeeze(0)\n",
        "\n",
        "        return gene_tokens, protein_tokens, self.labels[idx]"
      ]
    },
    {
      "cell_type": "markdown",
      "metadata": {
        "id": "t3CEjBDnnCKP"
      },
      "source": [
        "# Architecture Development"
      ]
    },
    {
      "cell_type": "code",
      "execution_count": null,
      "metadata": {
        "colab": {
          "base_uri": "https://localhost:8080/"
        },
        "id": "zaCrqjBCmOE5",
        "outputId": "31ed3c8a-473a-4422-9bff-7679ae80b231"
      },
      "outputs": [
        {
          "output_type": "stream",
          "name": "stdout",
          "text": [
            "Running on cuda\n"
          ]
        }
      ],
      "source": [
        "device = torch.device(\"cuda\" if torch.cuda.is_available() else \"cpu\")\n",
        "print(\"Running on {}\".format(device))"
      ]
    },
    {
      "cell_type": "code",
      "execution_count": null,
      "metadata": {
        "colab": {
          "base_uri": "https://localhost:8080/",
          "height": 180
        },
        "id": "KPOpqK83nHr8",
        "outputId": "c19d967d-bf0f-4ff3-e053-6750b6eb2036"
      },
      "outputs": [
        {
          "ename": "NameError",
          "evalue": "name 'X_train' is not defined",
          "output_type": "error",
          "traceback": [
            "\u001b[0;31m---------------------------------------------------------------------------\u001b[0m",
            "\u001b[0;31mNameError\u001b[0m                                 Traceback (most recent call last)",
            "\u001b[0;32m<ipython-input-10-9af9886b7c18>\u001b[0m in \u001b[0;36m<cell line: 2>\u001b[0;34m()\u001b[0m\n\u001b[1;32m      1\u001b[0m \u001b[0mscaler\u001b[0m \u001b[0;34m=\u001b[0m \u001b[0mStandardScaler\u001b[0m\u001b[0;34m(\u001b[0m\u001b[0;34m)\u001b[0m\u001b[0;34m\u001b[0m\u001b[0;34m\u001b[0m\u001b[0m\n\u001b[0;32m----> 2\u001b[0;31m \u001b[0mX_train_scaled\u001b[0m \u001b[0;34m=\u001b[0m \u001b[0mscaler\u001b[0m\u001b[0;34m.\u001b[0m\u001b[0mfit_transform\u001b[0m\u001b[0;34m(\u001b[0m\u001b[0mX_train\u001b[0m\u001b[0;34m)\u001b[0m\u001b[0;34m\u001b[0m\u001b[0;34m\u001b[0m\u001b[0m\n\u001b[0m\u001b[1;32m      3\u001b[0m \u001b[0mX_val_scaled\u001b[0m \u001b[0;34m=\u001b[0m \u001b[0mscaler\u001b[0m\u001b[0;34m.\u001b[0m\u001b[0mtransform\u001b[0m\u001b[0;34m(\u001b[0m\u001b[0mX_val\u001b[0m\u001b[0;34m)\u001b[0m\u001b[0;34m\u001b[0m\u001b[0;34m\u001b[0m\u001b[0m\n",
            "\u001b[0;31mNameError\u001b[0m: name 'X_train' is not defined"
          ]
        }
      ],
      "source": [
        "scaler = StandardScaler()\n",
        "X_train_scaled = scaler.fit_transform(X_train)\n",
        "X_val_scaled = scaler.transform(X_val)"
      ]
    },
    {
      "cell_type": "code",
      "execution_count": null,
      "metadata": {
        "id": "UDvvdN7M7JRx"
      },
      "outputs": [],
      "source": [
        "label_encoder = LabelEncoder()\n",
        "y_train_encoded = label_encoder.fit_transform(y_train.values)\n",
        "y_val_encoded = label_encoder.transform(y_val.values)"
      ]
    },
    {
      "cell_type": "code",
      "execution_count": null,
      "metadata": {
        "id": "hchFG5LT6f_R"
      },
      "outputs": [],
      "source": [
        "# Convert data to PyTorch tensors\n",
        "X_train_tensor = torch.tensor(X_train_scaled, dtype=torch.float32).to(device)\n",
        "y_train_tensor = torch.tensor(y_train_encoded, dtype=torch.long).to(device)\n",
        "X_val_tensor = torch.tensor(X_val_scaled, dtype=torch.float32).to(device)\n",
        "y_val_tensor = torch.tensor(y_val_encoded, dtype=torch.long).to(device)"
      ]
    },
    {
      "cell_type": "code",
      "execution_count": null,
      "metadata": {
        "id": "BvoFV0TLCdnI"
      },
      "outputs": [],
      "source": [
        "class cross_attention_layer(nn.Module):\n",
        "    def __init__(self, embedding_dim, nhead = 8, dropout = 0.1):\n",
        "        super(cross_attention_layer, self).__init__()\n",
        "        self.gene_to_protein = nn.MultiheadAttention(embedding_dim, nhead, dropout=dropout)\n",
        "        self.protein_to_gene = nn.MultiheadAttention(embedding_dim, nhead, dropout=dropout)\n",
        "\n",
        "        self.norm_gene = nn.LayerNorm(embedding_dim)\n",
        "        self.norm_protein = nn.LayerNorm(embedding_dim)\n",
        "\n",
        "        self.ff_gene = nn.Sequential(\n",
        "            nn.Linear(embedding_dim, 4*embedding_dim),\n",
        "            nn.ReLU(),\n",
        "            nn.Linear(4*embedding_dim, embedding_dim)\n",
        "        )\n",
        "        self.ff_protein = nn.Sequential(\n",
        "            nn.Linear(embedding_dim, 4*embedding_dim),\n",
        "            nn.ReLU(),\n",
        "            nn.Linear(4*embedding_dim, embedding_dim)\n",
        "        )\n",
        "\n",
        "        def forward(self, gene_tokens, protein_tokens):\n",
        "            gene_updated, _ = self.gene_to_protein(gene_tokens, protein_tokens, protein_tokens)\n",
        "\n",
        "            gene_encoded = self.norm_gene(gene_tokens + gene_updated)\n",
        "            gene_encoded = self.norm_gene(gene_encoded + self.ff_gene(gene_encoded))\n",
        "\n",
        "            protein_updated, _ = self.protein_to_gene(protein_tokens, gene_encoded, gene_encoded)\n",
        "\n",
        "            protein_encoded = self.norm_protein(protein_tokens + protein_updated)\n",
        "            protein_encoded = self.norm_protein(protein_encoded + self.ff_protein(protein_encoded))\n",
        "\n",
        "            return gene_encoded, protein_encoded\n",
        "\n"
      ]
    },
    {
      "cell_type": "code",
      "execution_count": null,
      "metadata": {
        "id": "UkJiGwySDyEl"
      },
      "outputs": [],
      "source": [
        "class omics_transformer(nn.Module):\n",
        "    def __init__(self, embedding_dim, num_cancers, nhead = 8, num_layers = 10, dim_feedforward = 256, dropout = 0.1):\n",
        "        super(omics_transformer, self).__init__()\n",
        "        self.embedding_dim = embedding_dim\n",
        "\n",
        "        gene_encoder_layer = nn.TransformerEncoderLayer(d_model=embedding_dim,\n",
        "                                                        nhead=nhead,\n",
        "                                                        dim_feedforward=dim_feedforward,\n",
        "                                                        dropout=dropout)\n",
        "\n",
        "        self.gene_encoder = nn.TransformerEncoder(gene_encoder_layer, num_layers=num_layers)\n",
        "\n",
        "        protein_encoder_layer = nn.TransformerEncoderLayer(d_model=embedding_dim,\n",
        "                                                            nhead=nhead,\n",
        "                                                            dim_feedforward=dim_feedforward,\n",
        "                                                            dropout=dropout)\n",
        "\n",
        "        self.protein_encoder = nn.TransformerEncoder(protein_encoder_layer, num_layers=num_layers)\n",
        "        self.cross_attention = cross_attention_layer(embedding_dim, nhead, dropout)\n",
        "\n",
        "        self.combine = nn.Linear(2*embedding_dim, embedding_dim)\n",
        "\n",
        "        self.final = nn.Linear(embedding_dim, num_cancers)\n",
        "\n",
        "    def forward(self, gene_tokens, protein_tokens):\n",
        "        gene_tokens = gene_tokens.permute(1,0,2)\n",
        "        protein_tokens = protein_tokens.permute(1,0,2)\n",
        "\n",
        "        gene_encoded = self.gene_encoder(gene_tokens)\n",
        "        protein_encoded = self.protein_encoder(protein_tokens)\n",
        "\n",
        "        gene_cross, protein_cross = self.cross_attention(gene_encoded, protein_encoded)\n",
        "\n",
        "        gene_pooled = torch.mean(gene_cross, dim=1)\n",
        "        protein_pooled = torch.mean(protein_cross, dim=1)\n",
        "\n",
        "        combined = torch.cat([gene_pooled, protein_pooled], dim = 1)\n",
        "        combined = self.combine(combined)\n",
        "\n",
        "        logits = self.final(combined)\n",
        "\n",
        "        return logits\n",
        "\n"
      ]
    },
    {
      "cell_type": "markdown",
      "metadata": {
        "id": "y_lr_PpOGKg_"
      },
      "source": [
        "# Training"
      ]
    },
    {
      "cell_type": "code",
      "execution_count": null,
      "metadata": {
        "id": "RhNygtHyGMfA"
      },
      "outputs": [],
      "source": [
        "def train_model(model, train_loader, val_loader, loss, optimizer, num_epochs):\n",
        "    train_losses = []\n",
        "    val_losses = []\n",
        "    for epoch in tqdm(range(num_epochs), desc=\"Training Progress\", unit=\"epoch\"):\n",
        "        model.train()\n",
        "        train_loss = 0.0\n",
        "        for gene_tokens, protein_tokens, labels in train_loader:\n",
        "\n",
        "            print('\\nTraining')\n",
        "            optimizer.zero_grad()\n",
        "\n",
        "            gene_tokens = gene_tokens.to(device)\n",
        "            protein_tokens = protein_tokens.to(device)\n",
        "            labels = labels.to(device)\n",
        "\n",
        "            outputs = model(gene_tokens, protein_tokens)\n",
        "            loss_value = loss(outputs, labels)\n",
        "\n",
        "            loss_value.backward()\n",
        "            optimizer.step()\n",
        "\n",
        "            train_loss += loss_value.item()\n",
        "\n",
        "        train_loss /= len(train_loader)\n",
        "        train_losses.append(train_loss)\n",
        "\n",
        "        model.eval()\n",
        "        val_loss = 0.0\n",
        "        with torch.no_grad():\n",
        "            for gene_tokens, protein_tokens, labels in val_loader:\n",
        "\n",
        "                gene_tokens = gene_tokens.to(device)\n",
        "                protein_tokens = protein_tokens.to(device)\n",
        "                labels = labels.to(device)\n",
        "\n",
        "                outputs = model(gene_tokens, protein_tokens)\n",
        "                loss_value = loss(outputs, labels)\n",
        "                val_loss += loss_value.item()\n",
        "\n",
        "            val_loss /= len(val_loader)\n",
        "        val_losses.append(val_loss)\n",
        "\n",
        "    return train_losses, val_losses"
      ]
    },
    {
      "cell_type": "code",
      "execution_count": null,
      "metadata": {
        "id": "etOq5kaMGco0"
      },
      "outputs": [],
      "source": [
        "cancer_labels = ['Lung', 'Breast', 'Head and Neck', 'Brain', 'Ovarian', 'Renal Cell', 'Endometrial']\n",
        "label_to_id = {label: idx for idx, label in enumerate(cancer_labels)}\n",
        "\n",
        "\n",
        "lu_transcriptome['Cancer'] = cancer_labels[0]\n",
        "br_transcriptome['Cancer'] = cancer_labels[1]\n",
        "hn_transcriptome['Cancer'] = cancer_labels[2]\n",
        "gbm_transcriptome['Cancer'] = cancer_labels[3]\n",
        "ov_transcriptome['Cancer'] = cancer_labels[4]\n",
        "cc_transcriptome['Cancer'] = cancer_labels[5]\n",
        "en_transcriptome['Cancer'] = cancer_labels[6]\n",
        "\n",
        "lu_proteome['Cancer'] = cancer_labels[0]\n",
        "br_proteome['Cancer'] = cancer_labels[1]\n",
        "hn_proteome['Cancer'] = cancer_labels[2]\n",
        "gbm_proteome['Cancer'] = cancer_labels[3]\n",
        "ov_proteome['Cancer'] = cancer_labels[4]\n",
        "cc_proteome['Cancer'] = cancer_labels[5]\n",
        "en_proteome['Cancer'] = cancer_labels[6]\n",
        "\n",
        "all_transcriptome_data = pd.concat([lu_transcriptome, br_transcriptome, hn_transcriptome, gbm_transcriptome,\n",
        "                                    ov_transcriptome, cc_transcriptome, en_transcriptome], axis = 0)\n",
        "all_proteome_data = pd.concat([lu_proteome, br_proteome, hn_proteome, gbm_proteome,\n",
        "                                    ov_proteome, cc_proteome, en_proteome], axis = 0)\n",
        "\n",
        "all_transcriptome_data = all_transcriptome_data.dropna(subset=['Cancer'])\n",
        "all_proteome_data = all_proteome_data.dropna(subset=['Cancer'])\n",
        "\n",
        "all_labels = all_transcriptome_data['Cancer'].values\n",
        "\n",
        "numeric_labels = [label_to_id[label] for label in all_labels]\n",
        "labels_tensor = torch.tensor(numeric_labels, dtype=torch.long).to(device)"
      ]
    },
    {
      "cell_type": "code",
      "execution_count": null,
      "metadata": {
        "id": "itwAJO_Iagnf"
      },
      "outputs": [],
      "source": [
        "common_samples = all_transcriptome_data.index.intersection(all_proteome_data.index)\n",
        "all_transcriptome_data = all_transcriptome_data.loc[common_samples]\n",
        "all_proteome_data = all_proteome_data.loc[common_samples]"
      ]
    },
    {
      "cell_type": "code",
      "execution_count": null,
      "metadata": {
        "colab": {
          "base_uri": "https://localhost:8080/"
        },
        "id": "P3Ii7pb4kZAy",
        "outputId": "c4b52409-7a89-4b00-b922-487f1aef55dd"
      },
      "outputs": [
        {
          "output_type": "stream",
          "name": "stdout",
          "text": [
            "[]\n",
            "float64\n"
          ]
        }
      ],
      "source": [
        "all_transcriptome_data = all_transcriptome_data.fillna(0)\n",
        "all_proteome_data = all_proteome_data.fillna(0)\n",
        "\n",
        "all_transcriptome_data = all_transcriptome_data.drop('Cancer', axis = 1)\n",
        "all_proteome_data = all_proteome_data.drop('Cancer', axis = 1)\n",
        "\n",
        "gene_array = all_transcriptome_data.astype(float).to_numpy()\n",
        "protein_array = all_proteome_data.astype(float).to_numpy()\n",
        "\n",
        "print([i for i in gene_array[0] if type(i) is object])\n",
        "\n",
        "print(gene_array.dtype)\n",
        "\n",
        "gene_tensor = torch.tensor(gene_array, dtype=torch.float32)\n",
        "protein_tensor = torch.tensor(protein_array, dtype=torch.float32)\n",
        "\n",
        "num_samples, num_genes = gene_tensor.shape\n",
        "num_samples, num_proteins = protein_tensor.shape\n",
        "\n",
        "embedding_dim = 128\n",
        "\n",
        "gene_embedding = nn.Embedding(num_genes, embedding_dim)\n",
        "protein_embedding = nn.Embedding(num_proteins, embedding_dim)\n",
        "value_encoder = nn.Linear(1, embedding_dim)\n",
        "\n",
        "#gene_tokens, protein_tokens = tokenize(all_transcriptome_data.drop('Cancer', axis = 1),\n",
        "                                      # all_proteome_data.drop('Cancer', axis = 1), 128)"
      ]
    },
    {
      "cell_type": "code",
      "source": [
        "print(gene_array)"
      ],
      "metadata": {
        "colab": {
          "base_uri": "https://localhost:8080/"
        },
        "id": "ho1fNuKshl-j",
        "outputId": "056d237e-84b8-4709-d216-9b3fa83a72ac"
      },
      "execution_count": null,
      "outputs": [
        {
          "output_type": "stream",
          "name": "stdout",
          "text": [
            "[[6.2 4.46 13.49 ... 0.0 0.0 0.0]\n",
            " [5.44 3.46 13.6 ... 0.0 0.0 0.0]\n",
            " [5.14 3.4 14.44 ... 0.0 0.0 0.0]\n",
            " ...\n",
            " [7.36 2.99 15.17 ... 9.87 9.62 4.44]\n",
            " [6.8 2.72 16.02 ... 9.64 9.11 5.32]\n",
            " [7.61 2.4 16.07 ... 10.33 8.99 4.85]]\n"
          ]
        }
      ]
    },
    {
      "cell_type": "code",
      "execution_count": null,
      "metadata": {
        "id": "XyZqSyS_nFjI",
        "colab": {
          "base_uri": "https://localhost:8080/",
          "height": 347
        },
        "outputId": "599c5afd-0ada-461e-953c-45159e0e7fa6"
      },
      "outputs": [
        {
          "output_type": "error",
          "ename": "KeyError",
          "evalue": "\"['Cancer'] not found in axis\"",
          "traceback": [
            "\u001b[0;31m---------------------------------------------------------------------------\u001b[0m",
            "\u001b[0;31mKeyError\u001b[0m                                  Traceback (most recent call last)",
            "\u001b[0;32m<ipython-input-15-4de3dcf47635>\u001b[0m in \u001b[0;36m<cell line: 4>\u001b[0;34m()\u001b[0m\n\u001b[1;32m      2\u001b[0m \u001b[0mall_proteome_data\u001b[0m \u001b[0;34m=\u001b[0m \u001b[0mall_proteome_data\u001b[0m\u001b[0;34m.\u001b[0m\u001b[0mfillna\u001b[0m\u001b[0;34m(\u001b[0m\u001b[0;36m0\u001b[0m\u001b[0;34m)\u001b[0m\u001b[0;34m\u001b[0m\u001b[0;34m\u001b[0m\u001b[0m\n\u001b[1;32m      3\u001b[0m \u001b[0;34m\u001b[0m\u001b[0m\n\u001b[0;32m----> 4\u001b[0;31m \u001b[0mgene_array\u001b[0m \u001b[0;34m=\u001b[0m \u001b[0mall_transcriptome_data\u001b[0m\u001b[0;34m.\u001b[0m\u001b[0mdrop\u001b[0m\u001b[0;34m(\u001b[0m\u001b[0;34m'Cancer'\u001b[0m\u001b[0;34m,\u001b[0m \u001b[0maxis\u001b[0m \u001b[0;34m=\u001b[0m \u001b[0;36m1\u001b[0m\u001b[0;34m)\u001b[0m\u001b[0;34m.\u001b[0m\u001b[0mto_numpy\u001b[0m\u001b[0;34m(\u001b[0m\u001b[0;34m)\u001b[0m\u001b[0;34m\u001b[0m\u001b[0;34m\u001b[0m\u001b[0m\n\u001b[0m\u001b[1;32m      5\u001b[0m \u001b[0mprotein_array\u001b[0m \u001b[0;34m=\u001b[0m \u001b[0mall_proteome_data\u001b[0m\u001b[0;34m.\u001b[0m\u001b[0mdrop\u001b[0m\u001b[0;34m(\u001b[0m\u001b[0;34m'Cancer'\u001b[0m\u001b[0;34m,\u001b[0m \u001b[0maxis\u001b[0m \u001b[0;34m=\u001b[0m \u001b[0;36m1\u001b[0m\u001b[0;34m)\u001b[0m\u001b[0;34m.\u001b[0m\u001b[0mto_numpy\u001b[0m\u001b[0;34m(\u001b[0m\u001b[0;34m)\u001b[0m\u001b[0;34m\u001b[0m\u001b[0;34m\u001b[0m\u001b[0m\n",
            "\u001b[0;32m/usr/local/lib/python3.10/dist-packages/pandas/core/frame.py\u001b[0m in \u001b[0;36mdrop\u001b[0;34m(self, labels, axis, index, columns, level, inplace, errors)\u001b[0m\n\u001b[1;32m   5579\u001b[0m                 \u001b[0mweight\u001b[0m  \u001b[0;36m1.0\u001b[0m     \u001b[0;36m0.8\u001b[0m\u001b[0;34m\u001b[0m\u001b[0;34m\u001b[0m\u001b[0m\n\u001b[1;32m   5580\u001b[0m         \"\"\"\n\u001b[0;32m-> 5581\u001b[0;31m         return super().drop(\n\u001b[0m\u001b[1;32m   5582\u001b[0m             \u001b[0mlabels\u001b[0m\u001b[0;34m=\u001b[0m\u001b[0mlabels\u001b[0m\u001b[0;34m,\u001b[0m\u001b[0;34m\u001b[0m\u001b[0;34m\u001b[0m\u001b[0m\n\u001b[1;32m   5583\u001b[0m             \u001b[0maxis\u001b[0m\u001b[0;34m=\u001b[0m\u001b[0maxis\u001b[0m\u001b[0;34m,\u001b[0m\u001b[0;34m\u001b[0m\u001b[0;34m\u001b[0m\u001b[0m\n",
            "\u001b[0;32m/usr/local/lib/python3.10/dist-packages/pandas/core/generic.py\u001b[0m in \u001b[0;36mdrop\u001b[0;34m(self, labels, axis, index, columns, level, inplace, errors)\u001b[0m\n\u001b[1;32m   4786\u001b[0m         \u001b[0;32mfor\u001b[0m \u001b[0maxis\u001b[0m\u001b[0;34m,\u001b[0m \u001b[0mlabels\u001b[0m \u001b[0;32min\u001b[0m \u001b[0maxes\u001b[0m\u001b[0;34m.\u001b[0m\u001b[0mitems\u001b[0m\u001b[0;34m(\u001b[0m\u001b[0;34m)\u001b[0m\u001b[0;34m:\u001b[0m\u001b[0;34m\u001b[0m\u001b[0;34m\u001b[0m\u001b[0m\n\u001b[1;32m   4787\u001b[0m             \u001b[0;32mif\u001b[0m \u001b[0mlabels\u001b[0m \u001b[0;32mis\u001b[0m \u001b[0;32mnot\u001b[0m \u001b[0;32mNone\u001b[0m\u001b[0;34m:\u001b[0m\u001b[0;34m\u001b[0m\u001b[0;34m\u001b[0m\u001b[0m\n\u001b[0;32m-> 4788\u001b[0;31m                 \u001b[0mobj\u001b[0m \u001b[0;34m=\u001b[0m \u001b[0mobj\u001b[0m\u001b[0;34m.\u001b[0m\u001b[0m_drop_axis\u001b[0m\u001b[0;34m(\u001b[0m\u001b[0mlabels\u001b[0m\u001b[0;34m,\u001b[0m \u001b[0maxis\u001b[0m\u001b[0;34m,\u001b[0m \u001b[0mlevel\u001b[0m\u001b[0;34m=\u001b[0m\u001b[0mlevel\u001b[0m\u001b[0;34m,\u001b[0m \u001b[0merrors\u001b[0m\u001b[0;34m=\u001b[0m\u001b[0merrors\u001b[0m\u001b[0;34m)\u001b[0m\u001b[0;34m\u001b[0m\u001b[0;34m\u001b[0m\u001b[0m\n\u001b[0m\u001b[1;32m   4789\u001b[0m \u001b[0;34m\u001b[0m\u001b[0m\n\u001b[1;32m   4790\u001b[0m         \u001b[0;32mif\u001b[0m \u001b[0minplace\u001b[0m\u001b[0;34m:\u001b[0m\u001b[0;34m\u001b[0m\u001b[0;34m\u001b[0m\u001b[0m\n",
            "\u001b[0;32m/usr/local/lib/python3.10/dist-packages/pandas/core/generic.py\u001b[0m in \u001b[0;36m_drop_axis\u001b[0;34m(self, labels, axis, level, errors, only_slice)\u001b[0m\n\u001b[1;32m   4828\u001b[0m                 \u001b[0mnew_axis\u001b[0m \u001b[0;34m=\u001b[0m \u001b[0maxis\u001b[0m\u001b[0;34m.\u001b[0m\u001b[0mdrop\u001b[0m\u001b[0;34m(\u001b[0m\u001b[0mlabels\u001b[0m\u001b[0;34m,\u001b[0m \u001b[0mlevel\u001b[0m\u001b[0;34m=\u001b[0m\u001b[0mlevel\u001b[0m\u001b[0;34m,\u001b[0m \u001b[0merrors\u001b[0m\u001b[0;34m=\u001b[0m\u001b[0merrors\u001b[0m\u001b[0;34m)\u001b[0m\u001b[0;34m\u001b[0m\u001b[0;34m\u001b[0m\u001b[0m\n\u001b[1;32m   4829\u001b[0m             \u001b[0;32melse\u001b[0m\u001b[0;34m:\u001b[0m\u001b[0;34m\u001b[0m\u001b[0;34m\u001b[0m\u001b[0m\n\u001b[0;32m-> 4830\u001b[0;31m                 \u001b[0mnew_axis\u001b[0m \u001b[0;34m=\u001b[0m \u001b[0maxis\u001b[0m\u001b[0;34m.\u001b[0m\u001b[0mdrop\u001b[0m\u001b[0;34m(\u001b[0m\u001b[0mlabels\u001b[0m\u001b[0;34m,\u001b[0m \u001b[0merrors\u001b[0m\u001b[0;34m=\u001b[0m\u001b[0merrors\u001b[0m\u001b[0;34m)\u001b[0m\u001b[0;34m\u001b[0m\u001b[0;34m\u001b[0m\u001b[0m\n\u001b[0m\u001b[1;32m   4831\u001b[0m             \u001b[0mindexer\u001b[0m \u001b[0;34m=\u001b[0m \u001b[0maxis\u001b[0m\u001b[0;34m.\u001b[0m\u001b[0mget_indexer\u001b[0m\u001b[0;34m(\u001b[0m\u001b[0mnew_axis\u001b[0m\u001b[0;34m)\u001b[0m\u001b[0;34m\u001b[0m\u001b[0;34m\u001b[0m\u001b[0m\n\u001b[1;32m   4832\u001b[0m \u001b[0;34m\u001b[0m\u001b[0m\n",
            "\u001b[0;32m/usr/local/lib/python3.10/dist-packages/pandas/core/indexes/base.py\u001b[0m in \u001b[0;36mdrop\u001b[0;34m(self, labels, errors)\u001b[0m\n\u001b[1;32m   7068\u001b[0m         \u001b[0;32mif\u001b[0m \u001b[0mmask\u001b[0m\u001b[0;34m.\u001b[0m\u001b[0many\u001b[0m\u001b[0;34m(\u001b[0m\u001b[0;34m)\u001b[0m\u001b[0;34m:\u001b[0m\u001b[0;34m\u001b[0m\u001b[0;34m\u001b[0m\u001b[0m\n\u001b[1;32m   7069\u001b[0m             \u001b[0;32mif\u001b[0m \u001b[0merrors\u001b[0m \u001b[0;34m!=\u001b[0m \u001b[0;34m\"ignore\"\u001b[0m\u001b[0;34m:\u001b[0m\u001b[0;34m\u001b[0m\u001b[0;34m\u001b[0m\u001b[0m\n\u001b[0;32m-> 7070\u001b[0;31m                 \u001b[0;32mraise\u001b[0m \u001b[0mKeyError\u001b[0m\u001b[0;34m(\u001b[0m\u001b[0;34mf\"{labels[mask].tolist()} not found in axis\"\u001b[0m\u001b[0;34m)\u001b[0m\u001b[0;34m\u001b[0m\u001b[0;34m\u001b[0m\u001b[0m\n\u001b[0m\u001b[1;32m   7071\u001b[0m             \u001b[0mindexer\u001b[0m \u001b[0;34m=\u001b[0m \u001b[0mindexer\u001b[0m\u001b[0;34m[\u001b[0m\u001b[0;34m~\u001b[0m\u001b[0mmask\u001b[0m\u001b[0;34m]\u001b[0m\u001b[0;34m\u001b[0m\u001b[0;34m\u001b[0m\u001b[0m\n\u001b[1;32m   7072\u001b[0m         \u001b[0;32mreturn\u001b[0m \u001b[0mself\u001b[0m\u001b[0;34m.\u001b[0m\u001b[0mdelete\u001b[0m\u001b[0;34m(\u001b[0m\u001b[0mindexer\u001b[0m\u001b[0;34m)\u001b[0m\u001b[0;34m\u001b[0m\u001b[0;34m\u001b[0m\u001b[0m\n",
            "\u001b[0;31mKeyError\u001b[0m: \"['Cancer'] not found in axis\""
          ]
        }
      ],
      "source": [
        "all_transcriptome_data = all_transcriptome_data.fillna(0)\n",
        "all_proteome_data = all_proteome_data.fillna(0)\n",
        "\n",
        "gene_array = all_transcriptome_data.drop('Cancer', axis = 1).to_numpy()\n",
        "protein_array = all_proteome_data.drop('Cancer', axis = 1).to_numpy()"
      ]
    },
    {
      "cell_type": "code",
      "execution_count": null,
      "metadata": {
        "id": "FWL-V-S0nKI8",
        "colab": {
          "base_uri": "https://localhost:8080/"
        },
        "outputId": "999da3eb-45ed-4a11-fc24-37b2f5bb31f4"
      },
      "outputs": [
        {
          "output_type": "stream",
          "name": "stdout",
          "text": [
            "(260, 100891)\n",
            "(260, 45237)\n"
          ]
        }
      ],
      "source": [
        "print(gene_array.shape)\n",
        "print(protein_array.shape)"
      ]
    },
    {
      "cell_type": "code",
      "execution_count": null,
      "metadata": {
        "id": "2XtHfdOLJM1-"
      },
      "outputs": [],
      "source": [
        "# #num_samples = gene_tokens.size(0)\n",
        "\n",
        "train_indices, val_indices = train_test_split(list(range(num_samples)), test_size=0.3, random_state=42)\n",
        "train_gene_data = gene_array[train_indices]\n",
        "train_protein_data = protein_array[train_indices]\n",
        "train_labels = labels_tensor[train_indices]\n",
        "\n",
        "val_gene_data = gene_array[val_indices]\n",
        "val_protein_data = protein_array[val_indices]\n",
        "val_labels = labels_tensor[val_indices]\n",
        "\n",
        "# train_gene_tokens = gene_tokens[train_indices]\n",
        "# train_protein_tokens = protein_tokens[train_indices]\n",
        "# train_labels = labels_tensor[train_indices]\n",
        "\n",
        "# val_gene_tokens = gene_tokens[val_indices]\n",
        "# val_protein_tokens = protein_tokens[val_indices]\n",
        "# val_labels = labels_tensor[val_indices]\n",
        "\n",
        "# train_dataset = omics_dataset(train_gene_tokens, train_protein_tokens, train_labels)\n",
        "# val_dataset = omics_dataset(val_gene_tokens, val_protein_tokens, val_labels)\n",
        "\n",
        "# train_loader = DataLoader(train_dataset, batch_size=32, shuffle=True)\n",
        "# val_loader = DataLoader(val_dataset, batch_size=32, shuffle=False)\n",
        "\n",
        "train_dataset = omics_dataset(train_gene_data, train_protein_data, train_labels, gene_embedding, protein_embedding, value_encoder)\n",
        "val_dataset = omics_dataset(val_gene_data, val_protein_data, val_labels, gene_embedding, protein_embedding, value_encoder)\n",
        "\n",
        "train_loader = DataLoader(train_dataset, batch_size=32, shuffle=True)\n",
        "val_loader = DataLoader(val_dataset, batch_size=32, shuffle=False)"
      ]
    },
    {
      "cell_type": "code",
      "execution_count": null,
      "metadata": {
        "id": "saMJZKfrJ0b7",
        "colab": {
          "base_uri": "https://localhost:8080/",
          "height": 1000
        },
        "outputId": "8a2afcf9-1974-44dc-9066-2cf6c6b26e7c"
      },
      "outputs": [
        {
          "output_type": "stream",
          "name": "stderr",
          "text": [
            "/usr/local/lib/python3.10/dist-packages/torch/nn/modules/transformer.py:379: UserWarning: enable_nested_tensor is True, but self.use_nested_tensor is False because encoder_layer.self_attn.batch_first was not True(use batch_first for better inference performance)\n",
            "  warnings.warn(\n",
            "Training Progress:   0%|          | 0/5000 [00:00<?, ?epoch/s]"
          ]
        },
        {
          "output_type": "stream",
          "name": "stdout",
          "text": [
            "\n",
            "Training\n"
          ]
        },
        {
          "output_type": "stream",
          "name": "stderr",
          "text": [
            "\rTraining Progress:   0%|          | 0/5000 [03:24<?, ?epoch/s]\n"
          ]
        },
        {
          "output_type": "error",
          "ename": "OutOfMemoryError",
          "evalue": "CUDA out of memory. Tried to allocate 1.54 GiB. GPU 0 has a total capacity of 14.75 GiB of which 39.06 MiB is free. Process 56333 has 14.71 GiB memory in use. Of the allocated memory 13.51 GiB is allocated by PyTorch, and 1.08 GiB is reserved by PyTorch but unallocated. If reserved but unallocated memory is large try setting PYTORCH_CUDA_ALLOC_CONF=expandable_segments:True to avoid fragmentation.  See documentation for Memory Management  (https://pytorch.org/docs/stable/notes/cuda.html#environment-variables)",
          "traceback": [
            "\u001b[0;31m---------------------------------------------------------------------------\u001b[0m",
            "\u001b[0;31mOutOfMemoryError\u001b[0m                          Traceback (most recent call last)",
            "\u001b[0;32m<ipython-input-29-0d150dd9c217>\u001b[0m in \u001b[0;36m<cell line: 6>\u001b[0;34m()\u001b[0m\n\u001b[1;32m      4\u001b[0m \u001b[0mnum_epochs\u001b[0m \u001b[0;34m=\u001b[0m \u001b[0;36m5000\u001b[0m\u001b[0;34m\u001b[0m\u001b[0;34m\u001b[0m\u001b[0m\n\u001b[1;32m      5\u001b[0m \u001b[0;34m\u001b[0m\u001b[0m\n\u001b[0;32m----> 6\u001b[0;31m \u001b[0mtrain_loss\u001b[0m\u001b[0;34m,\u001b[0m \u001b[0mval_loss\u001b[0m \u001b[0;34m=\u001b[0m \u001b[0mtrain_model\u001b[0m\u001b[0;34m(\u001b[0m\u001b[0mmodel\u001b[0m\u001b[0;34m,\u001b[0m \u001b[0mtrain_loader\u001b[0m\u001b[0;34m,\u001b[0m \u001b[0mval_loader\u001b[0m\u001b[0;34m,\u001b[0m \u001b[0mloss\u001b[0m\u001b[0;34m,\u001b[0m \u001b[0moptimizer\u001b[0m\u001b[0;34m,\u001b[0m \u001b[0mnum_epochs\u001b[0m\u001b[0;34m)\u001b[0m\u001b[0;34m\u001b[0m\u001b[0;34m\u001b[0m\u001b[0m\n\u001b[0m",
            "\u001b[0;32m<ipython-input-9-983d7ce1aaa6>\u001b[0m in \u001b[0;36mtrain_model\u001b[0;34m(model, train_loader, val_loader, loss, optimizer, num_epochs)\u001b[0m\n\u001b[1;32m     14\u001b[0m             \u001b[0mlabels\u001b[0m \u001b[0;34m=\u001b[0m \u001b[0mlabels\u001b[0m\u001b[0;34m.\u001b[0m\u001b[0mto\u001b[0m\u001b[0;34m(\u001b[0m\u001b[0mdevice\u001b[0m\u001b[0;34m)\u001b[0m\u001b[0;34m\u001b[0m\u001b[0;34m\u001b[0m\u001b[0m\n\u001b[1;32m     15\u001b[0m \u001b[0;34m\u001b[0m\u001b[0m\n\u001b[0;32m---> 16\u001b[0;31m             \u001b[0moutputs\u001b[0m \u001b[0;34m=\u001b[0m \u001b[0mmodel\u001b[0m\u001b[0;34m(\u001b[0m\u001b[0mgene_tokens\u001b[0m\u001b[0;34m,\u001b[0m \u001b[0mprotein_tokens\u001b[0m\u001b[0;34m)\u001b[0m\u001b[0;34m\u001b[0m\u001b[0;34m\u001b[0m\u001b[0m\n\u001b[0m\u001b[1;32m     17\u001b[0m             \u001b[0mloss_value\u001b[0m \u001b[0;34m=\u001b[0m \u001b[0mloss\u001b[0m\u001b[0;34m(\u001b[0m\u001b[0moutputs\u001b[0m\u001b[0;34m,\u001b[0m \u001b[0mlabels\u001b[0m\u001b[0;34m)\u001b[0m\u001b[0;34m\u001b[0m\u001b[0;34m\u001b[0m\u001b[0m\n\u001b[1;32m     18\u001b[0m \u001b[0;34m\u001b[0m\u001b[0m\n",
            "\u001b[0;32m/usr/local/lib/python3.10/dist-packages/torch/nn/modules/module.py\u001b[0m in \u001b[0;36m_wrapped_call_impl\u001b[0;34m(self, *args, **kwargs)\u001b[0m\n\u001b[1;32m   1734\u001b[0m             \u001b[0;32mreturn\u001b[0m \u001b[0mself\u001b[0m\u001b[0;34m.\u001b[0m\u001b[0m_compiled_call_impl\u001b[0m\u001b[0;34m(\u001b[0m\u001b[0;34m*\u001b[0m\u001b[0margs\u001b[0m\u001b[0;34m,\u001b[0m \u001b[0;34m**\u001b[0m\u001b[0mkwargs\u001b[0m\u001b[0;34m)\u001b[0m  \u001b[0;31m# type: ignore[misc]\u001b[0m\u001b[0;34m\u001b[0m\u001b[0;34m\u001b[0m\u001b[0m\n\u001b[1;32m   1735\u001b[0m         \u001b[0;32melse\u001b[0m\u001b[0;34m:\u001b[0m\u001b[0;34m\u001b[0m\u001b[0;34m\u001b[0m\u001b[0m\n\u001b[0;32m-> 1736\u001b[0;31m             \u001b[0;32mreturn\u001b[0m \u001b[0mself\u001b[0m\u001b[0;34m.\u001b[0m\u001b[0m_call_impl\u001b[0m\u001b[0;34m(\u001b[0m\u001b[0;34m*\u001b[0m\u001b[0margs\u001b[0m\u001b[0;34m,\u001b[0m \u001b[0;34m**\u001b[0m\u001b[0mkwargs\u001b[0m\u001b[0;34m)\u001b[0m\u001b[0;34m\u001b[0m\u001b[0;34m\u001b[0m\u001b[0m\n\u001b[0m\u001b[1;32m   1737\u001b[0m \u001b[0;34m\u001b[0m\u001b[0m\n\u001b[1;32m   1738\u001b[0m     \u001b[0;31m# torchrec tests the code consistency with the following code\u001b[0m\u001b[0;34m\u001b[0m\u001b[0;34m\u001b[0m\u001b[0m\n",
            "\u001b[0;32m/usr/local/lib/python3.10/dist-packages/torch/nn/modules/module.py\u001b[0m in \u001b[0;36m_call_impl\u001b[0;34m(self, *args, **kwargs)\u001b[0m\n\u001b[1;32m   1745\u001b[0m                 \u001b[0;32mor\u001b[0m \u001b[0m_global_backward_pre_hooks\u001b[0m \u001b[0;32mor\u001b[0m \u001b[0m_global_backward_hooks\u001b[0m\u001b[0;34m\u001b[0m\u001b[0;34m\u001b[0m\u001b[0m\n\u001b[1;32m   1746\u001b[0m                 or _global_forward_hooks or _global_forward_pre_hooks):\n\u001b[0;32m-> 1747\u001b[0;31m             \u001b[0;32mreturn\u001b[0m \u001b[0mforward_call\u001b[0m\u001b[0;34m(\u001b[0m\u001b[0;34m*\u001b[0m\u001b[0margs\u001b[0m\u001b[0;34m,\u001b[0m \u001b[0;34m**\u001b[0m\u001b[0mkwargs\u001b[0m\u001b[0;34m)\u001b[0m\u001b[0;34m\u001b[0m\u001b[0;34m\u001b[0m\u001b[0m\n\u001b[0m\u001b[1;32m   1748\u001b[0m \u001b[0;34m\u001b[0m\u001b[0m\n\u001b[1;32m   1749\u001b[0m         \u001b[0mresult\u001b[0m \u001b[0;34m=\u001b[0m \u001b[0;32mNone\u001b[0m\u001b[0;34m\u001b[0m\u001b[0;34m\u001b[0m\u001b[0m\n",
            "\u001b[0;32m<ipython-input-8-6f3573d18e6c>\u001b[0m in \u001b[0;36mforward\u001b[0;34m(self, gene_tokens, protein_tokens)\u001b[0m\n\u001b[1;32m     27\u001b[0m         \u001b[0mprotein_tokens\u001b[0m \u001b[0;34m=\u001b[0m \u001b[0mprotein_tokens\u001b[0m\u001b[0;34m.\u001b[0m\u001b[0mpermute\u001b[0m\u001b[0;34m(\u001b[0m\u001b[0;36m1\u001b[0m\u001b[0;34m,\u001b[0m\u001b[0;36m0\u001b[0m\u001b[0;34m,\u001b[0m\u001b[0;36m2\u001b[0m\u001b[0;34m)\u001b[0m\u001b[0;34m\u001b[0m\u001b[0;34m\u001b[0m\u001b[0m\n\u001b[1;32m     28\u001b[0m \u001b[0;34m\u001b[0m\u001b[0m\n\u001b[0;32m---> 29\u001b[0;31m         \u001b[0mgene_encoded\u001b[0m \u001b[0;34m=\u001b[0m \u001b[0mself\u001b[0m\u001b[0;34m.\u001b[0m\u001b[0mgene_encoder\u001b[0m\u001b[0;34m(\u001b[0m\u001b[0mgene_tokens\u001b[0m\u001b[0;34m)\u001b[0m\u001b[0;34m\u001b[0m\u001b[0;34m\u001b[0m\u001b[0m\n\u001b[0m\u001b[1;32m     30\u001b[0m         \u001b[0mprotein_encoded\u001b[0m \u001b[0;34m=\u001b[0m \u001b[0mself\u001b[0m\u001b[0;34m.\u001b[0m\u001b[0mprotein_encoder\u001b[0m\u001b[0;34m(\u001b[0m\u001b[0mprotein_tokens\u001b[0m\u001b[0;34m)\u001b[0m\u001b[0;34m\u001b[0m\u001b[0;34m\u001b[0m\u001b[0m\n\u001b[1;32m     31\u001b[0m \u001b[0;34m\u001b[0m\u001b[0m\n",
            "\u001b[0;32m/usr/local/lib/python3.10/dist-packages/torch/nn/modules/module.py\u001b[0m in \u001b[0;36m_wrapped_call_impl\u001b[0;34m(self, *args, **kwargs)\u001b[0m\n\u001b[1;32m   1734\u001b[0m             \u001b[0;32mreturn\u001b[0m \u001b[0mself\u001b[0m\u001b[0;34m.\u001b[0m\u001b[0m_compiled_call_impl\u001b[0m\u001b[0;34m(\u001b[0m\u001b[0;34m*\u001b[0m\u001b[0margs\u001b[0m\u001b[0;34m,\u001b[0m \u001b[0;34m**\u001b[0m\u001b[0mkwargs\u001b[0m\u001b[0;34m)\u001b[0m  \u001b[0;31m# type: ignore[misc]\u001b[0m\u001b[0;34m\u001b[0m\u001b[0;34m\u001b[0m\u001b[0m\n\u001b[1;32m   1735\u001b[0m         \u001b[0;32melse\u001b[0m\u001b[0;34m:\u001b[0m\u001b[0;34m\u001b[0m\u001b[0;34m\u001b[0m\u001b[0m\n\u001b[0;32m-> 1736\u001b[0;31m             \u001b[0;32mreturn\u001b[0m \u001b[0mself\u001b[0m\u001b[0;34m.\u001b[0m\u001b[0m_call_impl\u001b[0m\u001b[0;34m(\u001b[0m\u001b[0;34m*\u001b[0m\u001b[0margs\u001b[0m\u001b[0;34m,\u001b[0m \u001b[0;34m**\u001b[0m\u001b[0mkwargs\u001b[0m\u001b[0;34m)\u001b[0m\u001b[0;34m\u001b[0m\u001b[0;34m\u001b[0m\u001b[0m\n\u001b[0m\u001b[1;32m   1737\u001b[0m \u001b[0;34m\u001b[0m\u001b[0m\n\u001b[1;32m   1738\u001b[0m     \u001b[0;31m# torchrec tests the code consistency with the following code\u001b[0m\u001b[0;34m\u001b[0m\u001b[0;34m\u001b[0m\u001b[0m\n",
            "\u001b[0;32m/usr/local/lib/python3.10/dist-packages/torch/nn/modules/module.py\u001b[0m in \u001b[0;36m_call_impl\u001b[0;34m(self, *args, **kwargs)\u001b[0m\n\u001b[1;32m   1745\u001b[0m                 \u001b[0;32mor\u001b[0m \u001b[0m_global_backward_pre_hooks\u001b[0m \u001b[0;32mor\u001b[0m \u001b[0m_global_backward_hooks\u001b[0m\u001b[0;34m\u001b[0m\u001b[0;34m\u001b[0m\u001b[0m\n\u001b[1;32m   1746\u001b[0m                 or _global_forward_hooks or _global_forward_pre_hooks):\n\u001b[0;32m-> 1747\u001b[0;31m             \u001b[0;32mreturn\u001b[0m \u001b[0mforward_call\u001b[0m\u001b[0;34m(\u001b[0m\u001b[0;34m*\u001b[0m\u001b[0margs\u001b[0m\u001b[0;34m,\u001b[0m \u001b[0;34m**\u001b[0m\u001b[0mkwargs\u001b[0m\u001b[0;34m)\u001b[0m\u001b[0;34m\u001b[0m\u001b[0;34m\u001b[0m\u001b[0m\n\u001b[0m\u001b[1;32m   1748\u001b[0m \u001b[0;34m\u001b[0m\u001b[0m\n\u001b[1;32m   1749\u001b[0m         \u001b[0mresult\u001b[0m \u001b[0;34m=\u001b[0m \u001b[0;32mNone\u001b[0m\u001b[0;34m\u001b[0m\u001b[0;34m\u001b[0m\u001b[0m\n",
            "\u001b[0;32m/usr/local/lib/python3.10/dist-packages/torch/nn/modules/transformer.py\u001b[0m in \u001b[0;36mforward\u001b[0;34m(self, src, mask, src_key_padding_mask, is_causal)\u001b[0m\n\u001b[1;32m    509\u001b[0m \u001b[0;34m\u001b[0m\u001b[0m\n\u001b[1;32m    510\u001b[0m         \u001b[0;32mfor\u001b[0m \u001b[0mmod\u001b[0m \u001b[0;32min\u001b[0m \u001b[0mself\u001b[0m\u001b[0;34m.\u001b[0m\u001b[0mlayers\u001b[0m\u001b[0;34m:\u001b[0m\u001b[0;34m\u001b[0m\u001b[0;34m\u001b[0m\u001b[0m\n\u001b[0;32m--> 511\u001b[0;31m             output = mod(\n\u001b[0m\u001b[1;32m    512\u001b[0m                 \u001b[0moutput\u001b[0m\u001b[0;34m,\u001b[0m\u001b[0;34m\u001b[0m\u001b[0;34m\u001b[0m\u001b[0m\n\u001b[1;32m    513\u001b[0m                 \u001b[0msrc_mask\u001b[0m\u001b[0;34m=\u001b[0m\u001b[0mmask\u001b[0m\u001b[0;34m,\u001b[0m\u001b[0;34m\u001b[0m\u001b[0;34m\u001b[0m\u001b[0m\n",
            "\u001b[0;32m/usr/local/lib/python3.10/dist-packages/torch/nn/modules/module.py\u001b[0m in \u001b[0;36m_wrapped_call_impl\u001b[0;34m(self, *args, **kwargs)\u001b[0m\n\u001b[1;32m   1734\u001b[0m             \u001b[0;32mreturn\u001b[0m \u001b[0mself\u001b[0m\u001b[0;34m.\u001b[0m\u001b[0m_compiled_call_impl\u001b[0m\u001b[0;34m(\u001b[0m\u001b[0;34m*\u001b[0m\u001b[0margs\u001b[0m\u001b[0;34m,\u001b[0m \u001b[0;34m**\u001b[0m\u001b[0mkwargs\u001b[0m\u001b[0;34m)\u001b[0m  \u001b[0;31m# type: ignore[misc]\u001b[0m\u001b[0;34m\u001b[0m\u001b[0;34m\u001b[0m\u001b[0m\n\u001b[1;32m   1735\u001b[0m         \u001b[0;32melse\u001b[0m\u001b[0;34m:\u001b[0m\u001b[0;34m\u001b[0m\u001b[0;34m\u001b[0m\u001b[0m\n\u001b[0;32m-> 1736\u001b[0;31m             \u001b[0;32mreturn\u001b[0m \u001b[0mself\u001b[0m\u001b[0;34m.\u001b[0m\u001b[0m_call_impl\u001b[0m\u001b[0;34m(\u001b[0m\u001b[0;34m*\u001b[0m\u001b[0margs\u001b[0m\u001b[0;34m,\u001b[0m \u001b[0;34m**\u001b[0m\u001b[0mkwargs\u001b[0m\u001b[0;34m)\u001b[0m\u001b[0;34m\u001b[0m\u001b[0;34m\u001b[0m\u001b[0m\n\u001b[0m\u001b[1;32m   1737\u001b[0m \u001b[0;34m\u001b[0m\u001b[0m\n\u001b[1;32m   1738\u001b[0m     \u001b[0;31m# torchrec tests the code consistency with the following code\u001b[0m\u001b[0;34m\u001b[0m\u001b[0;34m\u001b[0m\u001b[0m\n",
            "\u001b[0;32m/usr/local/lib/python3.10/dist-packages/torch/nn/modules/module.py\u001b[0m in \u001b[0;36m_call_impl\u001b[0;34m(self, *args, **kwargs)\u001b[0m\n\u001b[1;32m   1745\u001b[0m                 \u001b[0;32mor\u001b[0m \u001b[0m_global_backward_pre_hooks\u001b[0m \u001b[0;32mor\u001b[0m \u001b[0m_global_backward_hooks\u001b[0m\u001b[0;34m\u001b[0m\u001b[0;34m\u001b[0m\u001b[0m\n\u001b[1;32m   1746\u001b[0m                 or _global_forward_hooks or _global_forward_pre_hooks):\n\u001b[0;32m-> 1747\u001b[0;31m             \u001b[0;32mreturn\u001b[0m \u001b[0mforward_call\u001b[0m\u001b[0;34m(\u001b[0m\u001b[0;34m*\u001b[0m\u001b[0margs\u001b[0m\u001b[0;34m,\u001b[0m \u001b[0;34m**\u001b[0m\u001b[0mkwargs\u001b[0m\u001b[0;34m)\u001b[0m\u001b[0;34m\u001b[0m\u001b[0;34m\u001b[0m\u001b[0m\n\u001b[0m\u001b[1;32m   1748\u001b[0m \u001b[0;34m\u001b[0m\u001b[0m\n\u001b[1;32m   1749\u001b[0m         \u001b[0mresult\u001b[0m \u001b[0;34m=\u001b[0m \u001b[0;32mNone\u001b[0m\u001b[0;34m\u001b[0m\u001b[0;34m\u001b[0m\u001b[0m\n",
            "\u001b[0;32m/usr/local/lib/python3.10/dist-packages/torch/nn/modules/transformer.py\u001b[0m in \u001b[0;36mforward\u001b[0;34m(self, src, src_mask, src_key_padding_mask, is_causal)\u001b[0m\n\u001b[1;32m    902\u001b[0m             x = self.norm1(\n\u001b[1;32m    903\u001b[0m                 \u001b[0mx\u001b[0m\u001b[0;34m\u001b[0m\u001b[0;34m\u001b[0m\u001b[0m\n\u001b[0;32m--> 904\u001b[0;31m                 \u001b[0;34m+\u001b[0m \u001b[0mself\u001b[0m\u001b[0;34m.\u001b[0m\u001b[0m_sa_block\u001b[0m\u001b[0;34m(\u001b[0m\u001b[0mx\u001b[0m\u001b[0;34m,\u001b[0m \u001b[0msrc_mask\u001b[0m\u001b[0;34m,\u001b[0m \u001b[0msrc_key_padding_mask\u001b[0m\u001b[0;34m,\u001b[0m \u001b[0mis_causal\u001b[0m\u001b[0;34m=\u001b[0m\u001b[0mis_causal\u001b[0m\u001b[0;34m)\u001b[0m\u001b[0;34m\u001b[0m\u001b[0;34m\u001b[0m\u001b[0m\n\u001b[0m\u001b[1;32m    905\u001b[0m             )\n\u001b[1;32m    906\u001b[0m             \u001b[0mx\u001b[0m \u001b[0;34m=\u001b[0m \u001b[0mself\u001b[0m\u001b[0;34m.\u001b[0m\u001b[0mnorm2\u001b[0m\u001b[0;34m(\u001b[0m\u001b[0mx\u001b[0m \u001b[0;34m+\u001b[0m \u001b[0mself\u001b[0m\u001b[0;34m.\u001b[0m\u001b[0m_ff_block\u001b[0m\u001b[0;34m(\u001b[0m\u001b[0mx\u001b[0m\u001b[0;34m)\u001b[0m\u001b[0;34m)\u001b[0m\u001b[0;34m\u001b[0m\u001b[0;34m\u001b[0m\u001b[0m\n",
            "\u001b[0;32m/usr/local/lib/python3.10/dist-packages/torch/nn/modules/transformer.py\u001b[0m in \u001b[0;36m_sa_block\u001b[0;34m(self, x, attn_mask, key_padding_mask, is_causal)\u001b[0m\n\u001b[1;32m    925\u001b[0m             \u001b[0mis_causal\u001b[0m\u001b[0;34m=\u001b[0m\u001b[0mis_causal\u001b[0m\u001b[0;34m,\u001b[0m\u001b[0;34m\u001b[0m\u001b[0;34m\u001b[0m\u001b[0m\n\u001b[1;32m    926\u001b[0m         )[0]\n\u001b[0;32m--> 927\u001b[0;31m         \u001b[0;32mreturn\u001b[0m \u001b[0mself\u001b[0m\u001b[0;34m.\u001b[0m\u001b[0mdropout1\u001b[0m\u001b[0;34m(\u001b[0m\u001b[0mx\u001b[0m\u001b[0;34m)\u001b[0m\u001b[0;34m\u001b[0m\u001b[0;34m\u001b[0m\u001b[0m\n\u001b[0m\u001b[1;32m    928\u001b[0m \u001b[0;34m\u001b[0m\u001b[0m\n\u001b[1;32m    929\u001b[0m     \u001b[0;31m# feed forward block\u001b[0m\u001b[0;34m\u001b[0m\u001b[0;34m\u001b[0m\u001b[0m\n",
            "\u001b[0;32m/usr/local/lib/python3.10/dist-packages/torch/nn/modules/module.py\u001b[0m in \u001b[0;36m_wrapped_call_impl\u001b[0;34m(self, *args, **kwargs)\u001b[0m\n\u001b[1;32m   1734\u001b[0m             \u001b[0;32mreturn\u001b[0m \u001b[0mself\u001b[0m\u001b[0;34m.\u001b[0m\u001b[0m_compiled_call_impl\u001b[0m\u001b[0;34m(\u001b[0m\u001b[0;34m*\u001b[0m\u001b[0margs\u001b[0m\u001b[0;34m,\u001b[0m \u001b[0;34m**\u001b[0m\u001b[0mkwargs\u001b[0m\u001b[0;34m)\u001b[0m  \u001b[0;31m# type: ignore[misc]\u001b[0m\u001b[0;34m\u001b[0m\u001b[0;34m\u001b[0m\u001b[0m\n\u001b[1;32m   1735\u001b[0m         \u001b[0;32melse\u001b[0m\u001b[0;34m:\u001b[0m\u001b[0;34m\u001b[0m\u001b[0;34m\u001b[0m\u001b[0m\n\u001b[0;32m-> 1736\u001b[0;31m             \u001b[0;32mreturn\u001b[0m \u001b[0mself\u001b[0m\u001b[0;34m.\u001b[0m\u001b[0m_call_impl\u001b[0m\u001b[0;34m(\u001b[0m\u001b[0;34m*\u001b[0m\u001b[0margs\u001b[0m\u001b[0;34m,\u001b[0m \u001b[0;34m**\u001b[0m\u001b[0mkwargs\u001b[0m\u001b[0;34m)\u001b[0m\u001b[0;34m\u001b[0m\u001b[0;34m\u001b[0m\u001b[0m\n\u001b[0m\u001b[1;32m   1737\u001b[0m \u001b[0;34m\u001b[0m\u001b[0m\n\u001b[1;32m   1738\u001b[0m     \u001b[0;31m# torchrec tests the code consistency with the following code\u001b[0m\u001b[0;34m\u001b[0m\u001b[0;34m\u001b[0m\u001b[0m\n",
            "\u001b[0;32m/usr/local/lib/python3.10/dist-packages/torch/nn/modules/module.py\u001b[0m in \u001b[0;36m_call_impl\u001b[0;34m(self, *args, **kwargs)\u001b[0m\n\u001b[1;32m   1745\u001b[0m                 \u001b[0;32mor\u001b[0m \u001b[0m_global_backward_pre_hooks\u001b[0m \u001b[0;32mor\u001b[0m \u001b[0m_global_backward_hooks\u001b[0m\u001b[0;34m\u001b[0m\u001b[0;34m\u001b[0m\u001b[0m\n\u001b[1;32m   1746\u001b[0m                 or _global_forward_hooks or _global_forward_pre_hooks):\n\u001b[0;32m-> 1747\u001b[0;31m             \u001b[0;32mreturn\u001b[0m \u001b[0mforward_call\u001b[0m\u001b[0;34m(\u001b[0m\u001b[0;34m*\u001b[0m\u001b[0margs\u001b[0m\u001b[0;34m,\u001b[0m \u001b[0;34m**\u001b[0m\u001b[0mkwargs\u001b[0m\u001b[0;34m)\u001b[0m\u001b[0;34m\u001b[0m\u001b[0;34m\u001b[0m\u001b[0m\n\u001b[0m\u001b[1;32m   1748\u001b[0m \u001b[0;34m\u001b[0m\u001b[0m\n\u001b[1;32m   1749\u001b[0m         \u001b[0mresult\u001b[0m \u001b[0;34m=\u001b[0m \u001b[0;32mNone\u001b[0m\u001b[0;34m\u001b[0m\u001b[0;34m\u001b[0m\u001b[0m\n",
            "\u001b[0;32m/usr/local/lib/python3.10/dist-packages/torch/nn/modules/dropout.py\u001b[0m in \u001b[0;36mforward\u001b[0;34m(self, input)\u001b[0m\n\u001b[1;32m     68\u001b[0m \u001b[0;34m\u001b[0m\u001b[0m\n\u001b[1;32m     69\u001b[0m     \u001b[0;32mdef\u001b[0m \u001b[0mforward\u001b[0m\u001b[0;34m(\u001b[0m\u001b[0mself\u001b[0m\u001b[0;34m,\u001b[0m \u001b[0minput\u001b[0m\u001b[0;34m:\u001b[0m \u001b[0mTensor\u001b[0m\u001b[0;34m)\u001b[0m \u001b[0;34m->\u001b[0m \u001b[0mTensor\u001b[0m\u001b[0;34m:\u001b[0m\u001b[0;34m\u001b[0m\u001b[0;34m\u001b[0m\u001b[0m\n\u001b[0;32m---> 70\u001b[0;31m         \u001b[0;32mreturn\u001b[0m \u001b[0mF\u001b[0m\u001b[0;34m.\u001b[0m\u001b[0mdropout\u001b[0m\u001b[0;34m(\u001b[0m\u001b[0minput\u001b[0m\u001b[0;34m,\u001b[0m \u001b[0mself\u001b[0m\u001b[0;34m.\u001b[0m\u001b[0mp\u001b[0m\u001b[0;34m,\u001b[0m \u001b[0mself\u001b[0m\u001b[0;34m.\u001b[0m\u001b[0mtraining\u001b[0m\u001b[0;34m,\u001b[0m \u001b[0mself\u001b[0m\u001b[0;34m.\u001b[0m\u001b[0minplace\u001b[0m\u001b[0;34m)\u001b[0m\u001b[0;34m\u001b[0m\u001b[0;34m\u001b[0m\u001b[0m\n\u001b[0m\u001b[1;32m     71\u001b[0m \u001b[0;34m\u001b[0m\u001b[0m\n\u001b[1;32m     72\u001b[0m \u001b[0;34m\u001b[0m\u001b[0m\n",
            "\u001b[0;32m/usr/local/lib/python3.10/dist-packages/torch/nn/functional.py\u001b[0m in \u001b[0;36mdropout\u001b[0;34m(input, p, training, inplace)\u001b[0m\n\u001b[1;32m   1423\u001b[0m         \u001b[0;32mraise\u001b[0m \u001b[0mValueError\u001b[0m\u001b[0;34m(\u001b[0m\u001b[0;34mf\"dropout probability has to be between 0 and 1, but got {p}\"\u001b[0m\u001b[0;34m)\u001b[0m\u001b[0;34m\u001b[0m\u001b[0;34m\u001b[0m\u001b[0m\n\u001b[1;32m   1424\u001b[0m     return (\n\u001b[0;32m-> 1425\u001b[0;31m         \u001b[0m_VF\u001b[0m\u001b[0;34m.\u001b[0m\u001b[0mdropout_\u001b[0m\u001b[0;34m(\u001b[0m\u001b[0minput\u001b[0m\u001b[0;34m,\u001b[0m \u001b[0mp\u001b[0m\u001b[0;34m,\u001b[0m \u001b[0mtraining\u001b[0m\u001b[0;34m)\u001b[0m \u001b[0;32mif\u001b[0m \u001b[0minplace\u001b[0m \u001b[0;32melse\u001b[0m \u001b[0m_VF\u001b[0m\u001b[0;34m.\u001b[0m\u001b[0mdropout\u001b[0m\u001b[0;34m(\u001b[0m\u001b[0minput\u001b[0m\u001b[0;34m,\u001b[0m \u001b[0mp\u001b[0m\u001b[0;34m,\u001b[0m \u001b[0mtraining\u001b[0m\u001b[0;34m)\u001b[0m\u001b[0;34m\u001b[0m\u001b[0;34m\u001b[0m\u001b[0m\n\u001b[0m\u001b[1;32m   1426\u001b[0m     )\n\u001b[1;32m   1427\u001b[0m \u001b[0;34m\u001b[0m\u001b[0m\n",
            "\u001b[0;31mOutOfMemoryError\u001b[0m: CUDA out of memory. Tried to allocate 1.54 GiB. GPU 0 has a total capacity of 14.75 GiB of which 39.06 MiB is free. Process 56333 has 14.71 GiB memory in use. Of the allocated memory 13.51 GiB is allocated by PyTorch, and 1.08 GiB is reserved by PyTorch but unallocated. If reserved but unallocated memory is large try setting PYTORCH_CUDA_ALLOC_CONF=expandable_segments:True to avoid fragmentation.  See documentation for Memory Management  (https://pytorch.org/docs/stable/notes/cuda.html#environment-variables)"
          ]
        }
      ],
      "source": [
        "model = omics_transformer(128, len(cancer_labels)).to(device)\n",
        "loss = nn.CrossEntropyLoss()\n",
        "optimizer = torch.optim.Adam(model.parameters(), lr=0.001)\n",
        "num_epochs = 5000\n",
        "\n",
        "train_loss, val_loss = train_model(model, train_loader, val_loader, loss, optimizer, num_epochs)"
      ]
    },
    {
      "cell_type": "markdown",
      "metadata": {
        "id": "6Xa9lBfzKgRW"
      },
      "source": [
        "# Predictions and Results"
      ]
    },
    {
      "cell_type": "code",
      "execution_count": null,
      "metadata": {
        "id": "Ra3ZDQaCKfmL"
      },
      "outputs": [],
      "source": [
        "def get_predictions(model, val_loader, device, label_to_id, accuracy = True):\n",
        "    model.eval()\n",
        "    predictions = []\n",
        "    true_labels = []\n",
        "    with torch.no_grad():\n",
        "        for gene_tokens, protein_tokens, labels in val_loader:\n",
        "            gene_tokens = gene_tokens.to(device)\n",
        "            protein_tokens = protein_tokens.to(device)\n",
        "            labels = labels.to(device)\n",
        "\n",
        "            outputs = model(gene_tokens, protein_tokens)\n",
        "            _, preds = torch.max(outputs, 1)\n",
        "            predictions.append(preds.cpu().numpy())\n",
        "            true_labels.append(labels.cpu().numpy())\n",
        "\n",
        "    predictions = torch.cat(predictions)\n",
        "    true_labels = torch.cat(true_labels)\n",
        "\n",
        "    pred_labels = [label_to_id[p.item()] for p in predictions]\n",
        "    true_labels = [label_to_id[t.item()] for t in true_labels]\n",
        "\n",
        "    if accuracy:\n",
        "        accuracy = (pred_labels == true_labels).sum().item() / len(true_labels)\n",
        "    else:\n",
        "        accuracy = None\n",
        "\n",
        "    return pred_labels, true_labels, accuracy"
      ]
    },
    {
      "cell_type": "code",
      "execution_count": null,
      "metadata": {
        "id": "5kilOV7jMWXa"
      },
      "outputs": [],
      "source": [
        "pred_labels, true_labels, accuracy = get_predictions(model, val_loader, device, label_to_id, accuracy = True)\n",
        "print(f'Model Accuracy: {accuracy}')"
      ]
    },
    {
      "cell_type": "code",
      "execution_count": null,
      "metadata": {
        "id": "JS3ShkuOMfRR"
      },
      "outputs": [],
      "source": [
        "print(classification_report(true_labels, pred_labels, target_names=label_to_id.keys()))"
      ]
    },
    {
      "cell_type": "markdown",
      "metadata": {
        "id": "oH_rlPlXGFqi"
      },
      "source": [
        "# Archived Models"
      ]
    },
    {
      "cell_type": "code",
      "execution_count": null,
      "metadata": {
        "id": "EJI2xcA_xaOW"
      },
      "outputs": [],
      "source": [
        "class autoencoder(nn.Module):\n",
        "    def __init__(self, input_size, latent_dim):\n",
        "        super(autoencoder, self).__init__()\n",
        "        self.input_size = input_size\n",
        "        self.latent_dim = latent_dim\n",
        "        self.encoder = nn.Sequential(\n",
        "            nn.Linear(input_size, 512),\n",
        "            nn.ReLU(),\n",
        "            nn.Linear(512, 256),\n",
        "            nn.ReLU(),\n",
        "            nn.Linear(256, latent_dim)\n",
        "        )\n",
        "\n",
        "        self.decoder = nn.Sequential(\n",
        "            nn.Linear(latent_dim, 256),\n",
        "            nn.ReLU(),\n",
        "            nn.Linear(256, 512),\n",
        "            nn.ReLU(),\n",
        "            nn.Linear(512, input_size)\n",
        "        )\n",
        "\n",
        "    def forward(self, x):\n",
        "        x = self.encoder(x)\n",
        "        x = self.decoder(x)\n",
        "        return x"
      ]
    },
    {
      "cell_type": "code",
      "execution_count": null,
      "metadata": {
        "id": "kggsxuiwxrBQ"
      },
      "outputs": [],
      "source": [
        "def train_autoencoder(model, train_loader, val_loader, loss, optimizer, num_epochs):\n",
        "    train_losses = []\n",
        "    val_losses = []\n",
        "\n",
        "    for epoch in tqdm(range(num_epochs), desc=\"Training Progress\", unit=\"epoch\"):\n",
        "        model.train()\n",
        "        train_loss = 0.0\n",
        "        for x in train_loader:\n",
        "            x = x[0].to(device)\n",
        "            optimizer.zero_grad()\n",
        "            reconstructed = model(x)\n",
        "            loss_value = loss(reconstructed, x)\n",
        "            loss_value.backward()\n",
        "            optimizer.step()\n",
        "            train_loss += loss_value.item()\n",
        "\n",
        "        train_loss /= len(train_loader)\n",
        "        train_losses.append(train_loss)\n",
        "\n",
        "        model.eval()\n",
        "        val_loss = 0.0\n",
        "        with torch.no_grad():\n",
        "            for x in val_loader:\n",
        "                x = x[0].to(device)\n",
        "                reconstructed = model(x)\n",
        "                loss_value = loss(reconstructed, x)\n",
        "                val_loss += loss_value.item()\n",
        "\n",
        "\n",
        "        val_loss /= len(val_loader)\n",
        "        val_losses.append(val_loss)\n",
        "\n",
        "    return train_losses, val_losses\n",
        "\n",
        "\n"
      ]
    },
    {
      "cell_type": "code",
      "execution_count": null,
      "metadata": {
        "id": "Nx9EoRSD64Mx"
      },
      "outputs": [],
      "source": [
        "class cancer_transformer(nn.Module):\n",
        "    def __init__(self, input_size, hidden_size, num_classes, nhead=4, num_layers=10, dim_feedforward=256, dropout=0.1):\n",
        "        super(cancer_transformer, self).__init__()\n",
        "        self.input_size = input_size\n",
        "        self.hidden_size = hidden_size\n",
        "        self.num_classes = num_classes\n",
        "        self.embedding = nn.Linear(1, hidden_size)\n",
        "        self.positional_encoding = nn.Parameter(torch.zeros(1, input_size, hidden_size))\n",
        "        self.transformer = nn.TransformerEncoder(\n",
        "                          nn.TransformerEncoderLayer(d_model=hidden_size, nhead=nhead, dim_feedforward=dim_feedforward, dropout=dropout),\n",
        "                          num_layers=num_layers)\n",
        "        self.final = nn.Linear(hidden_size, num_classes)\n",
        "\n",
        "    def forward(self, x):\n",
        "        x = x.unsqueeze(-1)\n",
        "        x = self.embedding(x)\n",
        "        x = x.permute(1,0,2)\n",
        "        x = self.transformer(x)\n",
        "        x = x.mean(dim=0)\n",
        "        x = self.final(x)\n",
        "        return x"
      ]
    },
    {
      "cell_type": "code",
      "execution_count": null,
      "metadata": {
        "id": "21CK9kfmagnn"
      },
      "outputs": [],
      "source": [
        "class cancer_mlp(nn.Module):\n",
        "    def __init__(self, input_size, hidden_size, num_classes):\n",
        "        super(cancer_mlp, self).__init__()\n",
        "        self.input_size = input_size\n",
        "        self.hidden_size = hidden_size\n",
        "        self.num_classes = num_classes\n",
        "        self.fc = nn.Sequential(\n",
        "            nn.Linear(input_size, hidden_size),\n",
        "            nn.ReLU(),\n",
        "            nn.Linear(hidden_size, 2*hidden_size),\n",
        "            nn.ReLU(),\n",
        "            nn.Linear(2*hidden_size, 3*hidden_size),\n",
        "            nn.ReLU(),\n",
        "            nn.Linear(3*hidden_size, 2*hidden_size),\n",
        "            nn.ReLU(),\n",
        "            nn.Linear(2*hidden_size, hidden_size),\n",
        "            nn.ReLU(),\n",
        "            nn.Linear(hidden_size, num_classes)\n",
        "        )\n",
        "\n",
        "    def forward(self, x):\n",
        "        x = x.view(x.size(0), -1)\n",
        "        x = self.fc(x)\n",
        "        return x"
      ]
    },
    {
      "cell_type": "code",
      "execution_count": null,
      "metadata": {
        "colab": {
          "base_uri": "https://localhost:8080/"
        },
        "id": "3HEIQyvu8p2q",
        "outputId": "33552d00-aa4a-4745-ee01-995678a3111d"
      },
      "outputs": [
        {
          "name": "stderr",
          "output_type": "stream",
          "text": [
            "/usr/local/lib/python3.10/dist-packages/torch/nn/modules/transformer.py:379: UserWarning: enable_nested_tensor is True, but self.use_nested_tensor is False because encoder_layer.self_attn.batch_first was not True(use batch_first for better inference performance)\n",
            "  warnings.warn(\n"
          ]
        }
      ],
      "source": [
        "num_features = X_train_tensor.shape[1]\n",
        "hidden_size = 128\n",
        "num_classes = len(torch.unique(y_train_tensor))\n",
        "\n",
        "model = cancer_transformer(num_features, hidden_size, num_classes).to(device)"
      ]
    },
    {
      "cell_type": "code",
      "execution_count": null,
      "metadata": {
        "id": "JSFIl-_79t-x"
      },
      "outputs": [],
      "source": [
        "class_weights = compute_class_weight('balanced', classes=np.unique(y_train_tensor.cpu().numpy()), y=y_train_tensor.cpu().numpy())\n",
        "class_weights = torch.tensor(class_weights, dtype=torch.float32).to(device)\n",
        "\n",
        "\n",
        "loss = nn.CrossEntropyLoss(weight = class_weights)\n",
        "optimizer = torch.optim.Adam(model.parameters(), lr=0.01)\n",
        "num_epochs = 5000\n",
        "batch_size = 128\n",
        "\n",
        "train_dataset = torch.utils.data.TensorDataset(X_train_tensor, y_train_tensor)\n",
        "val_dataset = torch.utils.data.TensorDataset(X_val_tensor, y_val_tensor)\n",
        "\n",
        "train_loader = torch.utils.data.DataLoader(train_dataset, batch_size=batch_size, shuffle=True)\n",
        "val_loader = torch.utils.data.DataLoader(val_dataset, batch_size=batch_size, shuffle=False)"
      ]
    },
    {
      "cell_type": "code",
      "execution_count": null,
      "metadata": {
        "id": "fTPdeeUdyYjT"
      },
      "outputs": [],
      "source": [
        "latent_dim = 64\n",
        "auto_loss = nn.MSELoss()\n",
        "autoencoder_model = autoencoder(num_features, latent_dim).to(device)\n",
        "auto_optimizer = torch.optim.Adam(autoencoder_model.parameters(), lr=0.001)"
      ]
    },
    {
      "cell_type": "code",
      "execution_count": null,
      "metadata": {
        "colab": {
          "base_uri": "https://localhost:8080/"
        },
        "id": "h0-qXoJ9yVoG",
        "outputId": "8138e558-3a49-403d-f727-8b4f1d66a833"
      },
      "outputs": [
        {
          "name": "stderr",
          "output_type": "stream",
          "text": [
            "Training Progress: 100%|██████████| 5000/5000 [03:30<00:00, 23.73epoch/s]\n"
          ]
        }
      ],
      "source": [
        "train_auto, val_auto = train_autoencoder(autoencoder_model, train_loader, val_loader, auto_loss, auto_optimizer, num_epochs)"
      ]
    },
    {
      "cell_type": "code",
      "execution_count": null,
      "metadata": {
        "colab": {
          "base_uri": "https://localhost:8080/",
          "height": 449
        },
        "id": "DM_DWTuo9shj",
        "outputId": "6c510691-6eb8-4728-963a-972d77412494"
      },
      "outputs": [
        {
          "data": {
            "image/png": "[encoded data removed]",
            "text/plain": [
              "<Figure size 640x480 with 1 Axes>"
            ]
          },
          "metadata": {},
          "output_type": "display_data"
        }
      ],
      "source": [
        "plt.plot(train_auto, label='Training Loss')\n",
        "plt.plot(val_auto, label='Validation Loss')\n",
        "plt.xlabel('Epoch')\n",
        "plt.ylabel('Loss')\n",
        "plt.legend()\n",
        "plt.show()"
      ]
    },
    {
      "cell_type": "code",
      "execution_count": null,
      "metadata": {
        "id": "O6SKbysiye6u",
        "outputId": "63d9467c-c6e3-48b3-b48f-91e6a1f8c56a"
      },
      "outputs": [
        {
          "ename": "NameError",
          "evalue": "name 'autoencoder_model' is not defined",
          "output_type": "error",
          "traceback": [
            "\u001b[0;31m---------------------------------------------------------------------------\u001b[0m",
            "\u001b[0;31mNameError\u001b[0m                                 Traceback (most recent call last)",
            "Cell \u001b[0;32mIn[1], line 1\u001b[0m\n\u001b[0;32m----> 1\u001b[0m X_train_latent \u001b[38;5;241m=\u001b[39m \u001b[43mautoencoder_model\u001b[49m\u001b[38;5;241m.\u001b[39mencoder(X_train_tensor\u001b[38;5;241m.\u001b[39mto(device))\u001b[38;5;241m.\u001b[39mdetach()\u001b[38;5;241m.\u001b[39mcpu()\u001b[38;5;241m.\u001b[39mnumpy()\n\u001b[1;32m      2\u001b[0m X_val_latent \u001b[38;5;241m=\u001b[39m autoencoder_model\u001b[38;5;241m.\u001b[39mencoder(X_val_tensor\u001b[38;5;241m.\u001b[39mto(device))\u001b[38;5;241m.\u001b[39mdetach()\u001b[38;5;241m.\u001b[39mcpu()\u001b[38;5;241m.\u001b[39mnumpy()\n\u001b[1;32m      4\u001b[0m new_train_dataset \u001b[38;5;241m=\u001b[39m torch\u001b[38;5;241m.\u001b[39mutils\u001b[38;5;241m.\u001b[39mdata\u001b[38;5;241m.\u001b[39mTensorDataset(torch\u001b[38;5;241m.\u001b[39mtensor(X_train_latent, dtype\u001b[38;5;241m=\u001b[39mtorch\u001b[38;5;241m.\u001b[39mfloat32), y_train_tensor)\n",
            "\u001b[0;31mNameError\u001b[0m: name 'autoencoder_model' is not defined"
          ]
        }
      ],
      "source": [
        "X_train_latent = autoencoder_model.encoder(X_train_tensor.to(device)).detach().cpu().numpy()\n",
        "X_val_latent = autoencoder_model.encoder(X_val_tensor.to(device)).detach().cpu().numpy()\n",
        "\n",
        "new_train_dataset = torch.utils.data.TensorDataset(torch.tensor(X_train_latent, dtype=torch.float32), y_train_tensor)\n",
        "new_val_dataset = torch.utils.data.TensorDataset(torch.tensor(X_val_latent, dtype=torch.float32), y_val_tensor)\n",
        "\n",
        "new_train_loader = torch.utils.data.DataLoader(new_train_dataset, batch_size=batch_size, shuffle=True)\n",
        "new_val_loader = torch.utils.data.DataLoader(new_val_dataset, batch_size=batch_size, shuffle=False)\n",
        "\n",
        "num_classes = len(torch.unique(y_train_tensor))\n",
        "model = cancer_mlp(latent_dim, hidden_size, num_classes).to(device)"
      ]
    },
    {
      "cell_type": "code",
      "execution_count": null,
      "metadata": {
        "id": "RmpzJPXkagnn"
      },
      "outputs": [],
      "source": [
        "def train_model(model, train_loader, val_loader, loss, optimizer, num_epochs):\n",
        "    train_losses = []\n",
        "    val_losses = []\n",
        "\n",
        "    for epoch in tqdm(range(num_epochs), desc=\"Training Progress\", unit=\"epoch\"):\n",
        "        model.train()\n",
        "        train_loss = 0.0\n",
        "        x,y = next(iter(train_loader))\n",
        "        x,y = x.to(device), y.to(device)\n",
        "        optimizer.zero_grad()\n",
        "        outputs = model(x)\n",
        "        loss_value = loss(outputs, y)\n",
        "        loss_value.backward()\n",
        "        optimizer.step()\n",
        "        train_loss += loss_value.item()\n",
        "\n",
        "        train_loss /= len(train_loader)\n",
        "        train_losses.append(train_loss)\n",
        "\n",
        "        model.eval()\n",
        "        val_loss = 0.0\n",
        "        with torch.no_grad():\n",
        "            x,y = next(iter(val_loader))\n",
        "            x,y = x.to(device), y.to(device)\n",
        "            outputs = model(x)\n",
        "            loss_value = loss(outputs, y)\n",
        "            val_loss += loss_value.item()\n",
        "\n",
        "        val_loss /= len(val_loader)\n",
        "        val_losses.append(val_loss)\n",
        "\n",
        "    return train_losses, val_losses"
      ]
    },
    {
      "cell_type": "code",
      "execution_count": null,
      "metadata": {
        "colab": {
          "base_uri": "https://localhost:8080/"
        },
        "id": "UDfhpZE495qr",
        "outputId": "28dde769-e796-4407-86d4-daa01d747763"
      },
      "outputs": [
        {
          "name": "stderr",
          "output_type": "stream",
          "text": [
            "Training Progress: 100%|██████████| 5000/5000 [06:25<00:00, 12.97epoch/s]\n"
          ]
        }
      ],
      "source": [
        "train_losses, val_losses = train_model(model, new_train_loader, new_val_loader, loss, optimizer, num_epochs)"
      ]
    },
    {
      "cell_type": "code",
      "execution_count": null,
      "metadata": {
        "id": "_fGC7WxeBgh6"
      },
      "outputs": [],
      "source": [
        "def get_predictions(model, X, device):\n",
        "    model.eval()\n",
        "    with torch.no_grad():\n",
        "        X_tensor = torch.tensor(X, dtype=torch.float32).to(device)\n",
        "        y_pred = model(X_tensor)\n",
        "        probs = F.softmax(y_pred, dim=1)\n",
        "        preds = torch.argmax(probs, dim=1)\n",
        "    return preds.cpu().numpy()"
      ]
    },
    {
      "cell_type": "code",
      "execution_count": null,
      "metadata": {
        "id": "8TqeJwybBxlS"
      },
      "outputs": [],
      "source": [
        "y_pred_classes = get_predictions(model, X_val_latent, device)"
      ]
    },
    {
      "cell_type": "code",
      "execution_count": null,
      "metadata": {
        "id": "-2ZmEEXiB0cl"
      },
      "outputs": [],
      "source": [
        "y_true = y_val_tensor.cpu().numpy()\n",
        "y_true_labels = label_encoder.inverse_transform(y_true)\n"
      ]
    },
    {
      "cell_type": "code",
      "execution_count": null,
      "metadata": {
        "colab": {
          "base_uri": "https://localhost:8080/"
        },
        "id": "L9aUs-UlJVlS",
        "outputId": "8663d16f-afb5-4a7f-d916-438af96f0b74"
      },
      "outputs": [
        {
          "data": {
            "text/plain": [
              "array(['Breast', 'Breast', 'Breast', 'Breast', 'Breast', 'Breast',\n",
              "       'Breast', 'Breast', 'Breast', 'Breast', 'Breast', 'Breast',\n",
              "       'Breast', 'Breast', 'Breast', 'Breast', 'Breast', 'Breast',\n",
              "       'Breast', 'Breast', 'Breast', 'Breast', 'Breast', 'Breast',\n",
              "       'Breast', 'Breast', 'Breast', 'Breast', 'Breast', 'Breast',\n",
              "       'Breast', 'Breast', 'Breast', 'Breast', 'Breast', 'Breast',\n",
              "       'Breast', 'Breast', 'Breast', 'Breast', 'Breast', 'Breast',\n",
              "       'Breast', 'Breast', 'Breast', 'Breast', 'Breast', 'Breast',\n",
              "       'Breast', 'Breast', 'Breast', 'Breast', 'Breast', 'Breast',\n",
              "       'Breast', 'Breast', 'Breast', 'Breast', 'Breast', 'Breast',\n",
              "       'Breast', 'Breast', 'Breast', 'Breast', 'Breast', 'Breast',\n",
              "       'Breast', 'Breast', 'Breast', 'Breast', 'Breast', 'Breast',\n",
              "       'Breast', 'Breast', 'Breast', 'Breast', 'Breast', 'Breast',\n",
              "       'Breast', 'Breast', 'Breast', 'Breast', 'Breast', 'Breast',\n",
              "       'Breast', 'Breast', 'Breast', 'Breast', 'Breast', 'Breast',\n",
              "       'Breast', 'Breast', 'Breast', 'Breast', 'Breast', 'Breast',\n",
              "       'Breast', 'Breast', 'Breast', 'Breast', 'Breast', 'Breast',\n",
              "       'Breast', 'Breast', 'Breast', 'Breast', 'Breast', 'Breast',\n",
              "       'Breast', 'Breast', 'Breast', 'Breast', 'Breast', 'Breast',\n",
              "       'Breast', 'Breast', 'Breast', 'Breast', 'Breast', 'Breast',\n",
              "       'Breast', 'Breast', 'Breast', 'Breast', 'Breast', 'Breast',\n",
              "       'Breast', 'Breast', 'Breast', 'Breast', 'Breast', 'Breast',\n",
              "       'Breast', 'Breast', 'Breast', 'Breast', 'Breast', 'Breast',\n",
              "       'Breast', 'Breast', 'Breast', 'Breast', 'Breast', 'Breast',\n",
              "       'Breast', 'Breast', 'Breast', 'Breast', 'Breast', 'Breast',\n",
              "       'Breast', 'Breast', 'Breast', 'Breast', 'Breast', 'Breast',\n",
              "       'Breast', 'Breast', 'Breast', 'Breast', 'Breast', 'Breast',\n",
              "       'Breast', 'Breast', 'Breast', 'Breast', 'Breast', 'Breast',\n",
              "       'Breast', 'Breast', 'Breast', 'Breast', 'Breast', 'Breast',\n",
              "       'Breast', 'Breast', 'Breast', 'Breast', 'Breast', 'Breast',\n",
              "       'Breast', 'Breast', 'Breast', 'Breast', 'Breast', 'Breast',\n",
              "       'Breast', 'Breast', 'Breast', 'Breast', 'Breast', 'Breast',\n",
              "       'Breast', 'Breast', 'Breast', 'Breast', 'Breast', 'Breast',\n",
              "       'Breast', 'Breast', 'Breast', 'Breast', 'Breast', 'Breast',\n",
              "       'Breast', 'Breast', 'Breast', 'Breast', 'Breast', 'Breast',\n",
              "       'Breast', 'Breast', 'Breast', 'Breast', 'Breast', 'Breast',\n",
              "       'Breast', 'Breast', 'Breast'], dtype=object)"
            ]
          },
          "execution_count": 42,
          "metadata": {},
          "output_type": "execute_result"
        }
      ],
      "source": [
        "y_pred_labels = label_encoder.inverse_transform(y_pred_classes)\n",
        "y_pred_labels"
      ]
    },
    {
      "cell_type": "code",
      "execution_count": null,
      "metadata": {
        "colab": {
          "base_uri": "https://localhost:8080/"
        },
        "id": "vW5qfwl0_TTV",
        "outputId": "6b4297be-cbd0-49be-9642-9baa0db0e7bb"
      },
      "outputs": [
        {
          "name": "stdout",
          "output_type": "stream",
          "text": [
            "Accuracy: 0.1278538812785388\n",
            "               precision    recall  f1-score   support\n",
            "\n",
            "        Brain       0.00      0.00      0.00        24\n",
            "       Breast       0.13      1.00      0.23        28\n",
            "  Endometrial       0.00      0.00      0.00        24\n",
            "Head and Neck       0.00      0.00      0.00        45\n",
            "         Lung       0.00      0.00      0.00        45\n",
            "      Ovarian       0.00      0.00      0.00        20\n",
            "   Renal Cell       0.00      0.00      0.00        33\n",
            "\n",
            "     accuracy                           0.13       219\n",
            "    macro avg       0.02      0.14      0.03       219\n",
            " weighted avg       0.02      0.13      0.03       219\n",
            "\n"
          ]
        },
        {
          "name": "stderr",
          "output_type": "stream",
          "text": [
            "/usr/local/lib/python3.10/dist-packages/sklearn/metrics/_classification.py:1531: UndefinedMetricWarning: Precision is ill-defined and being set to 0.0 in labels with no predicted samples. Use `zero_division` parameter to control this behavior.\n",
            "  _warn_prf(average, modifier, f\"{metric.capitalize()} is\", len(result))\n",
            "/usr/local/lib/python3.10/dist-packages/sklearn/metrics/_classification.py:1531: UndefinedMetricWarning: Precision is ill-defined and being set to 0.0 in labels with no predicted samples. Use `zero_division` parameter to control this behavior.\n",
            "  _warn_prf(average, modifier, f\"{metric.capitalize()} is\", len(result))\n",
            "/usr/local/lib/python3.10/dist-packages/sklearn/metrics/_classification.py:1531: UndefinedMetricWarning: Precision is ill-defined and being set to 0.0 in labels with no predicted samples. Use `zero_division` parameter to control this behavior.\n",
            "  _warn_prf(average, modifier, f\"{metric.capitalize()} is\", len(result))\n"
          ]
        }
      ],
      "source": [
        "print(\"Accuracy:\", accuracy_score(y_true_labels, y_pred_labels))\n",
        "print(classification_report(y_true, y_pred_classes, target_names=label_encoder.classes_))"
      ]
    },
    {
      "cell_type": "code",
      "execution_count": null,
      "metadata": {
        "colab": {
          "base_uri": "https://localhost:8080/"
        },
        "id": "SLdD1PDLJX5B",
        "outputId": "fdf19427-f11c-4b11-8753-9c2504fc5e6d"
      },
      "outputs": [
        {
          "data": {
            "text/plain": [
              "array(['Renal Cell', 'Renal Cell', 'Endometrial', 'Endometrial',\n",
              "       'Renal Cell', 'Head and Neck', 'Head and Neck', 'Lung',\n",
              "       'Head and Neck', 'Renal Cell', 'Lung', 'Breast', 'Renal Cell',\n",
              "       'Lung', 'Head and Neck', 'Breast', 'Breast', 'Lung', 'Ovarian',\n",
              "       'Head and Neck', 'Head and Neck', 'Ovarian', 'Endometrial', 'Lung',\n",
              "       'Renal Cell', 'Head and Neck', 'Head and Neck', 'Lung',\n",
              "       'Renal Cell', 'Brain', 'Lung', 'Lung', 'Lung', 'Brain', 'Ovarian',\n",
              "       'Ovarian', 'Endometrial', 'Brain', 'Renal Cell', 'Breast',\n",
              "       'Breast', 'Head and Neck', 'Lung', 'Endometrial', 'Renal Cell',\n",
              "       'Brain', 'Lung', 'Head and Neck', 'Lung', 'Lung', 'Breast',\n",
              "       'Ovarian', 'Breast', 'Lung', 'Breast', 'Ovarian', 'Breast',\n",
              "       'Head and Neck', 'Endometrial', 'Lung', 'Endometrial', 'Lung',\n",
              "       'Renal Cell', 'Brain', 'Head and Neck', 'Brain', 'Breast',\n",
              "       'Breast', 'Head and Neck', 'Lung', 'Brain', 'Ovarian',\n",
              "       'Endometrial', 'Renal Cell', 'Renal Cell', 'Endometrial',\n",
              "       'Renal Cell', 'Head and Neck', 'Endometrial', 'Renal Cell',\n",
              "       'Head and Neck', 'Renal Cell', 'Head and Neck', 'Breast',\n",
              "       'Head and Neck', 'Breast', 'Endometrial', 'Brain', 'Lung',\n",
              "       'Breast', 'Renal Cell', 'Lung', 'Renal Cell', 'Head and Neck',\n",
              "       'Ovarian', 'Breast', 'Brain', 'Head and Neck', 'Endometrial',\n",
              "       'Lung', 'Lung', 'Brain', 'Breast', 'Renal Cell', 'Head and Neck',\n",
              "       'Breast', 'Renal Cell', 'Brain', 'Lung', 'Brain', 'Endometrial',\n",
              "       'Ovarian', 'Renal Cell', 'Ovarian', 'Brain', 'Ovarian', 'Ovarian',\n",
              "       'Brain', 'Lung', 'Breast', 'Renal Cell', 'Renal Cell',\n",
              "       'Head and Neck', 'Lung', 'Renal Cell', 'Lung', 'Head and Neck',\n",
              "       'Breast', 'Endometrial', 'Head and Neck', 'Renal Cell',\n",
              "       'Endometrial', 'Head and Neck', 'Endometrial', 'Brain', 'Brain',\n",
              "       'Head and Neck', 'Breast', 'Head and Neck', 'Renal Cell', 'Lung',\n",
              "       'Renal Cell', 'Brain', 'Endometrial', 'Brain', 'Brain',\n",
              "       'Head and Neck', 'Head and Neck', 'Brain', 'Lung', 'Breast',\n",
              "       'Renal Cell', 'Head and Neck', 'Lung', 'Ovarian', 'Breast', 'Lung',\n",
              "       'Lung', 'Endometrial', 'Lung', 'Lung', 'Renal Cell', 'Ovarian',\n",
              "       'Brain', 'Breast', 'Ovarian', 'Head and Neck', 'Lung',\n",
              "       'Head and Neck', 'Ovarian', 'Endometrial', 'Ovarian', 'Renal Cell',\n",
              "       'Head and Neck', 'Lung', 'Lung', 'Lung', 'Renal Cell',\n",
              "       'Head and Neck', 'Lung', 'Lung', 'Breast', 'Brain',\n",
              "       'Head and Neck', 'Ovarian', 'Head and Neck', 'Breast',\n",
              "       'Endometrial', 'Brain', 'Head and Neck', 'Head and Neck',\n",
              "       'Endometrial', 'Lung', 'Endometrial', 'Lung', 'Lung', 'Lung',\n",
              "       'Head and Neck', 'Breast', 'Brain', 'Head and Neck', 'Breast',\n",
              "       'Ovarian', 'Lung', 'Head and Neck', 'Head and Neck', 'Renal Cell',\n",
              "       'Breast', 'Head and Neck', 'Endometrial', 'Head and Neck',\n",
              "       'Endometrial', 'Renal Cell', 'Head and Neck', 'Head and Neck',\n",
              "       'Ovarian', 'Lung', 'Lung', 'Renal Cell'], dtype=object)"
            ]
          },
          "execution_count": 37,
          "metadata": {},
          "output_type": "execute_result"
        }
      ],
      "source": [
        "y_true_labels"
      ]
    },
    {
      "cell_type": "code",
      "execution_count": null,
      "metadata": {
        "colab": {
          "base_uri": "https://localhost:8080/"
        },
        "id": "irum1mT28fkn",
        "outputId": "31f08678-9018-4199-d57b-e391c168b897"
      },
      "outputs": [
        {
          "name": "stdout",
          "output_type": "stream",
          "text": [
            "Accuracy: 0.0\n"
          ]
        }
      ],
      "source": [
        "print(\"Accuracy:\", accuracy_score(y_true_labels, y_pred_classes))\n",
        "# print(classification_report(y_true, y_pred, target_names=label_encoder.classes_))"
      ]
    },
    {
      "cell_type": "code",
      "execution_count": null,
      "metadata": {
        "colab": {
          "base_uri": "https://localhost:8080/",
          "height": 449
        },
        "id": "bl0S3rvlIqlm",
        "outputId": "72f3dff1-5c49-4125-b5ff-2941b462d70f"
      },
      "outputs": [
        {
          "data": {
            "image/png": "[encoded data removed]",
            "text/plain": [
              "<Figure size 640x480 with 1 Axes>"
            ]
          },
          "metadata": {},
          "output_type": "display_data"
        }
      ],
      "source": [
        "plt.plot(train_losses, label='Training Loss')\n",
        "plt.plot(val_losses, label='Validation Loss')\n",
        "plt.xlabel('Epoch')\n",
        "plt.ylabel('Loss')\n",
        "plt.legend()\n",
        "plt.show()"
      ]
    }
  ],
  "metadata": {
    "colab": {
      "provenance": [],
      "gpuType": "T4"
    },
    "kernelspec": {
      "display_name": "Python 3",
      "name": "python3"
    },
    "language_info": {
      "codemirror_mode": {
        "name": "ipython",
        "version": 3
      },
      "file_extension": ".py",
      "mimetype": "text/x-python",
      "name": "python",
      "nbconvert_exporter": "python",
      "pygments_lexer": "ipython3",
      "version": "3.10.0"
    },
    "accelerator": "GPU"
  },
  "nbformat": 4,
  "nbformat_minor": 0
}