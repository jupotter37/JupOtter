{
 "cells": [
  {
   "cell_type": "markdown",
   "id": "18e4bf90",
   "metadata": {},
   "source": [
    "Assignment_ 17th June '23 Assignment.\n",
    "\n",
    "Submitted By Aadil Hussain Teeli"
   ]
  },
  {
   "cell_type": "markdown",
   "id": "9c5f66d9",
   "metadata": {},
   "source": [
    "# 1. What is the role of try and exception block?"
   ]
  },
  {
   "cell_type": "markdown",
   "id": "722ae7a1",
   "metadata": {},
   "source": [
    "Ans:The try and except blocks in Python are used for exception handling. The goal of the try block is to enclose the code that might throw an exception. If an exception occurs within the try block, the control immediately jumps to the except block, allowing you to catch and handle the exception gracefully without terminating the program abruptly."
   ]
  },
  {
   "cell_type": "markdown",
   "id": "4b7c8e3c",
   "metadata": {},
   "source": [
    "# 2. What is the syntax for a basic try-except block?"
   ]
  },
  {
   "cell_type": "code",
   "execution_count": 3,
   "id": "f30992a1",
   "metadata": {},
   "outputs": [],
   "source": [
    "try:\n",
    "    # Code that might raise an exception\n",
    "    # ...\n",
    "    # ...\n",
    "    # ...\n",
    "    pass\n",
    "except ExceptionType:\n",
    "    # Code to handle the exception\n",
    "    # ...\n",
    "    # ...\n",
    "    pass"
   ]
  },
  {
   "cell_type": "markdown",
   "id": "41b419d1",
   "metadata": {},
   "source": [
    "# 3. What happens if an exception occurs inside a try block and there is no matching except block?"
   ]
  },
  {
   "cell_type": "markdown",
   "id": "2af359a6",
   "metadata": {},
   "source": [
    "Ans:\n",
    "    \n",
    "If an exception arises in a try block without a corresponding except block, the program will stop executing, displaying a traceback of the unhandled exception."
   ]
  },
  {
   "cell_type": "code",
   "execution_count": 4,
   "id": "80e1471d",
   "metadata": {},
   "outputs": [
    {
     "ename": "TypeError",
     "evalue": "unsupported operand type(s) for +: 'int' and 'str'",
     "output_type": "error",
     "traceback": [
      "\u001b[1;31m---------------------------------------------------------------------------\u001b[0m",
      "\u001b[1;31mTypeError\u001b[0m                                 Traceback (most recent call last)",
      "Input \u001b[1;32mIn [4]\u001b[0m, in \u001b[0;36m<cell line: 1>\u001b[1;34m()\u001b[0m\n\u001b[0;32m      1\u001b[0m \u001b[38;5;28;01mtry\u001b[39;00m:\n\u001b[1;32m----> 2\u001b[0m     result \u001b[38;5;241m=\u001b[39m \u001b[38;5;241;43m10\u001b[39;49m\u001b[43m \u001b[49m\u001b[38;5;241;43m+\u001b[39;49m\u001b[43m \u001b[49m\u001b[38;5;124;43m'\u001b[39;49m\u001b[38;5;124;43mabc\u001b[39;49m\u001b[38;5;124;43m'\u001b[39;49m  \u001b[38;5;66;03m# This will raise a TypeError.\u001b[39;00m\n\u001b[0;32m      3\u001b[0m \u001b[38;5;28;01mexcept\u001b[39;00m \u001b[38;5;167;01mValueError\u001b[39;00m:\n\u001b[0;32m      4\u001b[0m     \u001b[38;5;28mprint\u001b[39m(\u001b[38;5;124m\"\u001b[39m\u001b[38;5;124mCaught a ValueError.\u001b[39m\u001b[38;5;124m\"\u001b[39m)\n",
      "\u001b[1;31mTypeError\u001b[0m: unsupported operand type(s) for +: 'int' and 'str'"
     ]
    }
   ],
   "source": [
    "try:\n",
    "    result = 10 + 'abc'  # This will raise a TypeError.\n",
    "except ValueError:\n",
    "    print(\"Caught a ValueError.\")  # This won't execute, causing a traceback for TypeError.\n"
   ]
  },
  {
   "cell_type": "markdown",
   "id": "3b828607",
   "metadata": {},
   "source": [
    "# 4. What is the difference between using a bare except block and specifying a specific exception type?"
   ]
  },
  {
   "cell_type": "markdown",
   "id": "467a7483",
   "metadata": {},
   "source": [
    "Ans:\n",
    "    \n",
    "Using a bare except block will catch all exceptions, making it harder to identify specific errors, potentially masking unexpected issues. In contrast, specifying a specific exception type allows you to catch and handle only that particular type of exception, providing more targeted and controlled error handling."
   ]
  },
  {
   "cell_type": "code",
   "execution_count": 5,
   "id": "e3dd49a7",
   "metadata": {},
   "outputs": [
    {
     "name": "stdout",
     "output_type": "stream",
     "text": [
      "An error occurred.\n"
     ]
    }
   ],
   "source": [
    "# Bare except block\n",
    "try:\n",
    "    result = 10 / 0 \n",
    "except:\n",
    "    print(\"An error occurred.\") "
   ]
  },
  {
   "cell_type": "code",
   "execution_count": 6,
   "id": "692e085a",
   "metadata": {},
   "outputs": [
    {
     "name": "stdout",
     "output_type": "stream",
     "text": [
      "Cannot divide by zero.\n"
     ]
    }
   ],
   "source": [
    "# Specific exception type\n",
    "try:\n",
    "    result = 10 / 0  \n",
    "except ZeroDivisionError:\n",
    "    print(\"Cannot divide by zero.\")  "
   ]
  },
  {
   "cell_type": "markdown",
   "id": "3d10d921",
   "metadata": {},
   "source": [
    "# 5. Can you have nested try-except blocks in Python? If yes, then give an example.\n"
   ]
  },
  {
   "cell_type": "markdown",
   "id": "0bc6484b",
   "metadata": {},
   "source": [
    "Ans:\n",
    "Yes, we can have nested try-except blocks in Python. This means that you can place one try-except block inside another. The inner try-except block will catch exceptions specific to its scope, while the outer try-except block will catch exceptions that are not caught by the inner block."
   ]
  },
  {
   "cell_type": "code",
   "execution_count": 7,
   "id": "d7154360",
   "metadata": {},
   "outputs": [
    {
     "name": "stdout",
     "output_type": "stream",
     "text": [
      "Inner try-except: Cannot divide by zero.\n",
      "This is outside the inner try-except block.\n"
     ]
    }
   ],
   "source": [
    "try:\n",
    "    # Outer try block\n",
    "    numerator = 10\n",
    "    denominator = 0\n",
    "    \n",
    "    try:\n",
    "        # Inner try block\n",
    "        result = numerator / denominator  # This will raise a ZeroDivisionError.\n",
    "    except ZeroDivisionError:\n",
    "        print(\"Inner try-except: Cannot divide by zero.\")\n",
    "    \n",
    "    print(\"This is outside the inner try-except block.\")\n",
    "\n",
    "except:\n",
    "    print(\"Outer try-except: An error occurred.\")\n"
   ]
  },
  {
   "cell_type": "markdown",
   "id": "81b05c12",
   "metadata": {},
   "source": [
    "# 6. Can we use multiple exception blocks, if yes then give an example."
   ]
  },
  {
   "cell_type": "markdown",
   "id": "2836b2f3",
   "metadata": {},
   "source": [
    "Ans:\n",
    "    Yes, we can use multiple except blocks to catch different types of exceptions individually, allowing you to handle each exception type differently."
   ]
  },
  {
   "cell_type": "code",
   "execution_count": 9,
   "id": "20fba696",
   "metadata": {},
   "outputs": [
    {
     "name": "stdout",
     "output_type": "stream",
     "text": [
      "TypeError: Cannot perform arithmetic operation between int and string.\n",
      "This will always execute regardless of exceptions.\n"
     ]
    }
   ],
   "source": [
    "try:\n",
    "    \n",
    "    result = 10 / '2'  # This will raise a TypeError.\n",
    "\n",
    "except TypeError:\n",
    "    print(\"TypeError: Cannot perform arithmetic operation between int and string.\")\n",
    "\n",
    "except ZeroDivisionError:\n",
    "    print(\"ZeroDivisionError: Cannot divide by zero.\")\n",
    "\n",
    "except Exception as e:\n",
    "    print(f\"An unexpected error occurred: {e}\")\n",
    "\n",
    "finally:\n",
    "    print(\"This will always execute regardless of exceptions.\")\n"
   ]
  },
  {
   "cell_type": "markdown",
   "id": "6dd23d19",
   "metadata": {},
   "source": [
    "# 7. Write the reason due to which following errors are raised:\n",
    "a. EOFError\n",
    "\n",
    "b. FloatingPointError\n",
    "\n",
    "c. IndexError\n",
    "\n",
    "d. MemoryError\n",
    "\n",
    "e. OverflowError\n",
    "\n",
    "f. TabError\n",
    "\n",
    "g. ValueError"
   ]
  },
  {
   "cell_type": "markdown",
   "id": "14a74ea2",
   "metadata": {},
   "source": [
    "Ans:\n",
    "- a. EOFError: Raised when the built-in input() function hits an end-of-file condition (EOF) without reading any data.\n",
    "\n",
    "- b. FloatingPointError: Raised when a floating-point operation fails to produce a valid result, such as division by zero in a floating-point context.\n",
    "\n",
    "- c. IndexError: Raised when you try to access an index in a sequence (like a list or a string) that does not exist, i.e., the index is out of range.\n",
    "\n",
    "- d. MemoryError: Raised when an operation runs out of memory, typically due to allocating too much memory, such as creating a very large list or data structure.\n",
    "\n",
    "- e. OverflowError: Raised when a calculation exceeds the maximum limit for a numerical type, like trying to compute a value beyond the range supported by Python's numerical types.\n",
    "\n",
    "- f. TabError: Raised when inconsistent use of tabs and spaces in indentation is detected, usually when mixing tabs and spaces in a single block of code.\n",
    "\n",
    "- g. ValueError: Raised when a built-in operation or function receives an argument with the right type but an inappropriate value, such as passing an invalid argument to a function."
   ]
  },
  {
   "cell_type": "markdown",
   "id": "b29db928",
   "metadata": {},
   "source": [
    "# 8. Write code for the following given scenario and add try-exception block to it.\n",
    "\n",
    "a. Program to divide two numbers\n",
    "\n",
    "b. Program to convert a string to an integer\n",
    "\n",
    "c. Program to access an element in a list\n",
    "\n",
    "d. Program to handle a specific exception\n",
    "\n",
    "e. Program to handle any exception"
   ]
  },
  {
   "cell_type": "markdown",
   "id": "361ce795",
   "metadata": {},
   "source": [
    "# a. Program to divide two numbers"
   ]
  },
  {
   "cell_type": "code",
   "execution_count": 14,
   "id": "ce4cf025",
   "metadata": {},
   "outputs": [
    {
     "name": "stdout",
     "output_type": "stream",
     "text": [
      "Enter X and Y2 v\n",
      "Please enter valid numerical values\n"
     ]
    }
   ],
   "source": [
    "try:\n",
    "    x,y=map(int, input(\"Enter X and Y\").split())\n",
    "    result= x/y\n",
    "    print(result)\n",
    "except ZeroDivisionError:\n",
    "    print('Division by zero')\n",
    "except ValueError:\n",
    "    print(\"Please enter valid numerical values\")"
   ]
  },
  {
   "cell_type": "markdown",
   "id": "b26cf0f2",
   "metadata": {},
   "source": [
    "# b. Program to convert a string to an integer"
   ]
  },
  {
   "cell_type": "code",
   "execution_count": 12,
   "id": "5e25ed52",
   "metadata": {},
   "outputs": [
    {
     "name": "stdout",
     "output_type": "stream",
     "text": [
      "enter a number2\n",
      "Integer is:  2\n"
     ]
    }
   ],
   "source": [
    "try:\n",
    "    X=input(\"enter a number\")\n",
    "    num=int(X)\n",
    "    print(\"Integer is: \",num)\n",
    "except ValueError:\n",
    "    print(\"Cannot convert the string to an integer\")"
   ]
  },
  {
   "cell_type": "markdown",
   "id": "747c81e3",
   "metadata": {},
   "source": [
    "# c. Program to access an element in a list"
   ]
  },
  {
   "cell_type": "code",
   "execution_count": 17,
   "id": "08f45780",
   "metadata": {},
   "outputs": [
    {
     "name": "stdout",
     "output_type": "stream",
     "text": [
      "Enter the index to access in the list: 1\n",
      "Value at index 1 is 2\n"
     ]
    }
   ],
   "source": [
    "try:\n",
    "    my_list = [1, 2, 3, 4, 5]\n",
    "    index = int(input(\"Enter the index to access in the list: \"))\n",
    "    value = my_list[index]\n",
    "    print(\"Value at index\", index, \"is\", value)\n",
    "except IndexError:\n",
    "    print(\"Index out of range.\")\n",
    "except ValueError:\n",
    "    print(\"Please enter a valid index as an integer.\")\n"
   ]
  },
  {
   "cell_type": "markdown",
   "id": "c88d1672",
   "metadata": {},
   "source": [
    "# d. Program to handle a specific exception"
   ]
  },
  {
   "cell_type": "code",
   "execution_count": 20,
   "id": "b67e519b",
   "metadata": {},
   "outputs": [
    {
     "name": "stdout",
     "output_type": "stream",
     "text": [
      "Enter username and it should be more than 5 characters: $fhfhsf%afhj&\n",
      "Welcome, $fhfhsf%afhj&\n"
     ]
    }
   ],
   "source": [
    "try:\n",
    "    username = input(\"Enter username and it should be more than 5 characters: \")\n",
    "    if len(username) < 6:\n",
    "        raise ValueError(\"Username must be at least 6 characters long.\")\n",
    "    print(\"Welcome,\", username)\n",
    "except ValueError as ve:\n",
    "    print(\"Error:\", ve)"
   ]
  },
  {
   "cell_type": "markdown",
   "id": "fd49cc07",
   "metadata": {},
   "source": [
    "# e. Program to handle any exception"
   ]
  },
  {
   "cell_type": "code",
   "execution_count": 21,
   "id": "ad17b2f5",
   "metadata": {},
   "outputs": [
    {
     "name": "stdout",
     "output_type": "stream",
     "text": [
      "Enter the radius of a circle: 33\n",
      "Area of the circle: 3419.46\n"
     ]
    }
   ],
   "source": [
    "try:\n",
    "    radius = float(input(\"Enter the radius of a circle: \"))\n",
    "    if radius < 0:\n",
    "        raise ValueError(\"Radius cannot be negative.\")\n",
    "    \n",
    "    area = 3.14 * radius ** 2\n",
    "    print(\"Area of the circle:\", area)\n",
    "\n",
    "except Exception as e:\n",
    "    print(\"Error:\", e)\n",
    "    print(\"Please enter a valid positive number for the radius.\")\n"
   ]
  },
  {
   "cell_type": "code",
   "execution_count": null,
   "id": "b73730dd",
   "metadata": {},
   "outputs": [],
   "source": []
  }
 ],
 "metadata": {
  "kernelspec": {
   "display_name": "Python 3 (ipykernel)",
   "language": "python",
   "name": "python3"
  },
  "language_info": {
   "codemirror_mode": {
    "name": "ipython",
    "version": 3
   },
   "file_extension": ".py",
   "mimetype": "text/x-python",
   "name": "python",
   "nbconvert_exporter": "python",
   "pygments_lexer": "ipython3",
   "version": "3.9.12"
  }
 },
 "nbformat": 4,
 "nbformat_minor": 5
}
