{
 "cells": [
  {
   "cell_type": "markdown",
   "metadata": {},
   "source": [
    "\n",
    "<a id='index-0'></a>\n",
    "\n",
    "<a id='classification-machine-learning'></a>"
   ]
  },
  {
   "cell_type": "markdown",
   "metadata": {},
   "source": [
    "# Classification, Machine Learning, and Logistic Regression\n",
    "\n",
    "Previous tutorials have illustrated how probabilistic topic models can be used\n",
    "to navigate a large corpus. As general purpose tools for identifying recurrent\n",
    "themes in a corpus, topic models and non-negative matrix factorization are\n",
    "useful. They perform better than methods previously used for similar\n",
    "purposes, such as principle component analysis (PCA) and latent semantic\n",
    "analysis (LSA). For tasks such as classifying texts into a known set of categories, however,\n",
    "there exist methods that are better suited to the problem. One family of such methods\n",
    "goes under the heading of neural networks (or, more recently, “deep learning”).\n",
    "An essential conceptual and practical building block for these methods is\n",
    "logistic regression, which we will review briefly in this tutorial.\n",
    "\n",
    ">**Note**\n",
    ">\n",
    ">Discussion of the role of logistic regression in neural networks may\n",
    "be found in section 5.1 of Bishop (2007) [[Bis07]](references.ipynb#bishop-pattern-2007)."
   ]
  },
  {
   "cell_type": "markdown",
   "metadata": {},
   "source": [
    "## Predicting genre classifications\n",
    "\n",
    "The bag-of-words model is a horrible model of a text. Its failure to distinguish\n",
    "word order (‘the cat ate the fish’ from ‘the fish ate the cat’) is the least of\n",
    "its failings. In most cases, knowing the frequency with which a word occurs in\n",
    "a text tells us very little. Without additional context it is\n",
    "difficult to know how to interpret a word’s frequency. For example, the word\n",
    "‘heart’ might occur in a discussion of courtly love, of physical exercise, or in\n",
    "a cookbook (e.g., “heart of palm”). And even when a word seems to have a single\n",
    "interpretation, its meaning may depend on words occurring around it.\n",
    "\n",
    "Nevertheless, sometimes the frequency of words appears to be correlated with\n",
    "useful information, such as pre-existing classifications (or classifications in\n",
    "which we happen to believe). Consider the word “ennemis” (“enemies”) in the\n",
    "context of a corpus of [French classical theatre](datasets.ipynb#datasets). This corpus\n",
    "includes only plays classified as tragedy or comedy. The word “ennemis” is not,\n",
    "at first glance, a word particularly troubled by problems of polysemy.\n",
    "Considered as an indicator of whether or not a play is a tragedy or a comedy,\n",
    "the frequency of “ennemis” seems to be a reliable guide; the word tends to occur\n",
    "more often in tragedies.\n",
    "\n",
    "The first way we can verify this is simply to calculate the percentage of plays\n",
    "classified as tragedy in which the word ‘ennemis’ occurs and compare that\n",
    "percentage with the corresponding percentage for comedies. As usual, in order to\n",
    "have a better sense of the variability of language in French classical theatre,\n",
    "we have split the plays into approximately 1,000-word sections."
   ]
  },
  {
   "cell_type": "code",
   "execution_count": 1,
   "metadata": {
    "hide-output": false
   },
   "outputs": [
    {
     "ename": "FileNotFoundError",
     "evalue": "[WinError 3] Das System kann den angegebenen Pfad nicht finden: 'C:\\\\Users\\\\sib27sm\\\\PycharmProjects\\\\data\\\\french-tragedies-and-comedies-split'",
     "output_type": "error",
     "traceback": [
      "\u001B[1;31m---------------------------------------------------------------------------\u001B[0m",
      "\u001B[1;31mFileNotFoundError\u001B[0m                         Traceback (most recent call last)",
      "\u001B[1;32m<ipython-input-1-d6bda53cea5d>\u001B[0m in \u001B[0;36m<module>\u001B[1;34m\u001B[0m\n\u001B[0;32m      8\u001B[0m \u001B[1;33m\u001B[0m\u001B[0m\n\u001B[0;32m      9\u001B[0m \u001B[1;33m\u001B[0m\u001B[0m\n\u001B[1;32m---> 10\u001B[1;33m \u001B[0mfilenames\u001B[0m \u001B[1;33m=\u001B[0m \u001B[0mnp\u001B[0m\u001B[1;33m.\u001B[0m\u001B[0marray\u001B[0m\u001B[1;33m(\u001B[0m\u001B[0mos\u001B[0m\u001B[1;33m.\u001B[0m\u001B[0mlistdir\u001B[0m\u001B[1;33m(\u001B[0m\u001B[0mdata_dir\u001B[0m\u001B[1;33m)\u001B[0m\u001B[1;33m)\u001B[0m\u001B[1;33m\u001B[0m\u001B[1;33m\u001B[0m\u001B[0m\n\u001B[0m\u001B[0;32m     11\u001B[0m \u001B[0mfilenames_with_path\u001B[0m \u001B[1;33m=\u001B[0m \u001B[1;33m[\u001B[0m\u001B[0mos\u001B[0m\u001B[1;33m.\u001B[0m\u001B[0mpath\u001B[0m\u001B[1;33m.\u001B[0m\u001B[0mjoin\u001B[0m\u001B[1;33m(\u001B[0m\u001B[0mdata_dir\u001B[0m\u001B[1;33m,\u001B[0m \u001B[0mfn\u001B[0m\u001B[1;33m)\u001B[0m \u001B[1;32mfor\u001B[0m \u001B[0mfn\u001B[0m \u001B[1;32min\u001B[0m \u001B[0mfilenames\u001B[0m\u001B[1;33m]\u001B[0m\u001B[1;33m\u001B[0m\u001B[1;33m\u001B[0m\u001B[0m\n\u001B[0;32m     12\u001B[0m \u001B[1;33m\u001B[0m\u001B[0m\n",
      "\u001B[1;31mFileNotFoundError\u001B[0m: [WinError 3] Das System kann den angegebenen Pfad nicht finden: 'C:\\\\Users\\\\sib27sm\\\\PycharmProjects\\\\data\\\\french-tragedies-and-comedies-split'"
     ]
    }
   ],
   "source": [
    "import os\n",
    "from pathlib import Path\n",
    "import numpy as np\n",
    "from sklearn.feature_extraction.text import CountVectorizer\n",
    "\n",
    "jupyter_path = Path.cwd()\n",
    "data_dir = Path.joinpath(jupyter_path.resolve().parent.parent, 'data', 'french-tragedies-and-comedies-split')\n",
    "\n",
    "\n",
    "filenames = np.array(os.listdir(data_dir))\n",
    "filenames_with_path = [os.path.join(data_dir, fn) for fn in filenames]\n",
    "\n",
    "# tragedies and comedies are coded with 'TR' or 'CO',\n",
    "# e.g., PCorneille_TR-V-1647-Heraclius0001.txt\n",
    "genre = []\n",
    "for fn in filenames:\n",
    "    genre.append('tragedy' if '_TR-' in fn else 'comedy')\n",
    "genre = np.array(genre)\n",
    "\n",
    "data_dir_f= Path.joinpath(jupyter_path.resolve().parent.parent, 'data', 'stopwords')\n",
    "\n",
    "# .strip() removes the trailing newline '\\n' from each line in the file\n",
    "french_stopwords = [l.strip() for l in open(os.path.join(data_dir_f, 'french.txt'))]\n",
    "vectorizer = CountVectorizer(input='filename', min_df=15, max_df=.95, stop_words=french_stopwords, max_features=3000)\n",
    "dtm = vectorizer.fit_transform(filenames_with_path)\n",
    "dtm = dtm.toarray()\n",
    "vocab = np.array(vectorizer.get_feature_names())\n",
    "\n",
    "# texts are split into documents of approximately equal length, so we will\n",
    "# skip the normalization step and deal directly with counts"
   ]
  },
  {
   "cell_type": "markdown",
   "metadata": {},
   "source": [
    "Having assembled the corpus, it is easy to calculate the number of play sections\n",
    "in which ‘ennemis’ occurs."
   ]
  },
  {
   "cell_type": "code",
   "execution_count": null,
   "metadata": {
    "hide-output": false
   },
   "outputs": [],
   "source": [
    "word = \"ennemis\"\n",
    "tragedy_counts = dtm[genre == 'tragedy', vocab == word]\n",
    "comedy_counts = dtm[genre == 'comedy', vocab == word]\n",
    "\n",
    "# tragedy percentage\n",
    "np.count_nonzero(tragedy_counts) / len(tragedy_counts)\n",
    "# comedy percentage\n",
    "np.count_nonzero(comedy_counts) / len(comedy_counts)\n",
    "\n",
    "# overall percentage\n",
    "np.count_nonzero(dtm[:, vocab == word]) / len(dtm)\n",
    "\n",
    "# text in which \"ennemis\" appears the most\n",
    "filenames[np.argmax(dtm[:, vocab == word])], np.max(dtm[:, vocab == word])"
   ]
  },
  {
   "cell_type": "markdown",
   "metadata": {},
   "source": [
    "In our sample, if a play section is a tragedy it features the word ‘ennemis’ about a third\n",
    "of time. Among comedy sections, the word appears in only five percent. (Recall, however,\n",
    "that in the majority of play sections the word *does not appear* at all.) While this\n",
    "gives us a rough sense of the relationship between the word ‘ennemis’ and genre,\n",
    "we may want to describe the relationship more precisely.  First, we would like to\n",
    "consider the relationship between the word’s frequency (rather than just its\n",
    "presence or absence) and a text’s classification. Second, we want to\n",
    "predict the classification of a section of a play for which we do not have\n",
    "a classification ready at hand. Logistic regression accomplishes both of these\n",
    "tasks.\n",
    "\n",
    "Like linear regression, logistic regression will happily make predictions based\n",
    "on aleatory patterns in our data. It is therefore important to make sure we have\n",
    "some additional basis for believing there might be a correlation between the\n",
    "frequency of the word ‘ennemis’ and a genre classification. Our intuition tells\n",
    "us that the word (particularly in its plural form) does not belong in a comedy\n",
    "(or at least not in any great frequency), whereas we can imagine a variety of\n",
    "sentences using the word appearing in a tragedy.  Consider, for example, the\n",
    "section of Racine’s *Thebaide* which features the six occurrences of the word\n",
    "(and plenty of ‘ennemi’ as well):"
   ]
  },
  {
   "cell_type": "markdown",
   "metadata": {
    "hide-output": false
   },
   "source": [
    "Plus qu'à mes ennemis la guerre m'est mortelle,\n",
    "Et le courroux du ciel me la rend trop cruelle ;\n",
    "Il s'arme contre moi de mon propre dessein,\n",
    "Il se sert de mon bras pour me percer le sein.\n",
    "La guerre s'allumait, lorsque pour mon supplice,\n",
    "Hémon m'abandonna pour servir Polynice ;\n",
    "Les deux frères par moi devinrent ennemis,\n",
    "Et je devins, Attale, ennemi de mon fils.\n",
    "..."
   ]
  },
  {
   "cell_type": "markdown",
   "metadata": {},
   "source": [
    "In quantitative text analysis, a common way to represent a classification is as\n",
    "a binary outcome, e.g., 0 for comedy or 1 for tragedy. Whereas linear regression\n",
    "relates some quantity `x` to another quantity `y`, logistic regression\n",
    "relates a quantity `x` to the *probability* of something being a member of one\n",
    "of two groups, that is, the probability of `y` having a value of 1.\n",
    "\n",
    "For reasons covered in greater detail at the [end of this section](#logistic-regression), the probability of classification is expressed not in\n",
    "terms of probability (from 0 to 1) but in log [odds](https://en.wikipedia.org/wiki/Odds). This is not a mysterious transformation.\n",
    "Indeed, in certain countries (and among individuals involved in\n",
    "gambling) expressing the likelihood of an event in terms of odds is common.\n",
    "Moving between probability, odds, and log odds is somewhat tedious but not\n",
    "difficult—e.g., an event occurring with probability 0.75, it occurs with odds\n",
    "3 (often expressed 3:1) and with log odds 1.1. Logistic regression delivers, for\n",
    "any value of `x`, here the frequency of the word ‘ennemis’, the log odds of\n",
    "a play section being from a tragedy.  Typically we immediately convert the log\n",
    "odds into probability as the latter is more familiar.\n",
    "\n",
    ">**Note**\n",
    ">\n",
    ">For very rare or very probable events using odds (and even log\n",
    "odds) can be preferable to using probabilities. Consider the\n",
    "[Intergovernmental Panel on Climate Change’s](https://en.wikipedia.org/wiki/Intergovernmental_Panel_on_Climate_Change)\n",
    "[guidance on addressing uncertainties](https://www.ipcc.ch/pdf/supporting-material/uncertainty-guidance-note_ar4.pdf).\n",
    "\n",
    "> |Terminology|Likelihood|Odds|Log odds|\n",
    "|:--------------------:|:--------------------:|:----------:|:----------:|\n",
    "|Virtually certain|99% probability|99 (or 99:1)|> 4.6|\n",
    "|Very likely|> 90% probability|> 9|> 2.2|\n",
    "|Likely|> 66% probability|> 2|> 0.7|\n",
    "|About as likely as not|33 to 66% probability|0.5 to 2|-0.7 to 0.7|\n",
    "|Unlikely|< 33% probability|< 0.5|< -0.7|\n",
    "|Very unlikely|< 10% probability|< .1|< -2.2|\n",
    "|Exceptionally unlikely|< 1% probability|< 0.01|< -4.6|\n",
    "\n",
    "Note that whereas moving from a likelihood of 33% to 66% corresponds to\n",
    "moving from 0.5 to 2 on the odds scale, moving from 90% to 99% entails\n",
    "moving from 9 to 99 on the odds scale. The odds scale expresses better\n",
    "the difference between an event that happens 9 out of 10 times versus an\n",
    "event that happens 99 times out of 100.\n",
    "\n",
    "First we will fit the logistic regression model using the `statsmodels`\n",
    "package and then, converting from log odds to the more familiar scale of\n",
    "probability, we will plot this estimated relationship."
   ]
  },
  {
   "cell_type": "markdown",
   "metadata": {},
   "source": [
    "##### if not installed yet: pip3 install statsmodels"
   ]
  },
  {
   "cell_type": "code",
   "execution_count": null,
   "metadata": {
    "hide-output": false
   },
   "outputs": [],
   "source": [
    "import statsmodels.api as sm\n",
    "\n",
    "wordfreq = dtm[:, vocab == \"ennemis\"]\n",
    "\n",
    "# we need to add an intercept (whose coefficient is related to the\n",
    "# probability that a novel will be classified a tragedy when the\n",
    "# predictor is zero.\n",
    "# This is done automatically in R and by sklearn's LogisticRegression\n",
    "X = sm.add_constant(wordfreq)\n",
    "model = sm.GLM(genre == 'tragedy', X, family=sm.families.Binomial())\n",
    "fit = model.fit()\n",
    "fit.params"
   ]
  },
  {
   "cell_type": "markdown",
   "metadata": {},
   "source": [
    "For those accustomed to fitting regression models in R, the following code\n",
    "produces precisely the same results:"
   ]
  },
  {
   "cell_type": "raw",
   "metadata": {
    "hide-output": false
   },
   "source": [
    "Code for R\n",
    "data = data.frame(wordfreq = wordfreq, genre = genre == 'tragedy')\n",
    "fit = glm(genre ~ wordfreq, data = data, family = binomial(link=\"logit\"))\n",
    "coef(fit)\n",
    "# note that R is implicitly adding a constant term. We can make this\n",
    "# term explicit in our model if we choose (the results should be the same)\n",
    "fit = glm(genre ~ 1 + wordfreq, data = data, family = binomial(link=\"logit\"))\n",
    "coef(fit)\n",
    "\n"
   ]
  },
  {
   "cell_type": "markdown",
   "metadata": {},
   "source": [
    "Using the fitted parameters of the model we can make a prediction for any given\n",
    "word frequency. For example, the probability of a section in which ‘ennemis’\n",
    "occurs twice given by"
   ]
  },
  {
   "cell_type": "code",
   "execution_count": null,
   "metadata": {
    "hide-output": false
   },
   "outputs": [],
   "source": [
    "def invlogit(x):\n",
    "    \"\"\"Convert from log odds to probability\"\"\"\n",
    "    return 1/(1+np.exp(-x))\n",
    "\n",
    "x = 2\n",
    "invlogit(fit.params[0] + fit.params[1] * x)"
   ]
  },
  {
   "cell_type": "markdown",
   "metadata": {},
   "source": [
    "The following code plots the relationship between a section’s word frequency and\n",
    "the model’s estimate of the probability of a section being from a tragedy.  The\n",
    "points on the figure mark the observations in the corpus. (The points have been\n",
    "jittered to improve readability.)"
   ]
  },
  {
   "cell_type": "code",
   "execution_count": null,
   "metadata": {
    "hide-output": false
   },
   "outputs": [],
   "source": [
    "import matplotlib.pyplot as plt\n",
    "xs = np.arange(min(wordfreq), max(wordfreq) + 1, 0.1)\n",
    "ys = np.array([invlogit(x) for x in xs])\n",
    "plt.plot(xs, ys, linewidth=2)\n",
    "# jitter the outcomes (0 or 1) a bit\n",
    "jitter = np.random.random(len(genre)) / 5\n",
    "ys_outcomes = np.abs((genre == 'tragedy') - 0.01 - jitter)\n",
    "alpha = 0.7\n",
    "# use different colors for the different classes\n",
    "plt.plot(wordfreq[genre == 'tragedy'], ys_outcomes[genre == 'tragedy'], 'b.', alpha=alpha)\n",
    "plt.plot(wordfreq[genre != 'tragedy'], ys_outcomes[genre != 'tragedy'], 'y.', alpha=alpha)\n",
    "plt.xlabel(\"Word frequency\")\n",
    "plt.ylabel(\"Predicted probability of play section being a tragedy\")\n",
    "\n",
    "try:\n",
    "    np.max(wordfreq) == 6\n",
    "except:\n",
    "    print('An exception')\n",
    "\n",
    "plt.title(\"Predicting genre by the frequency of 'ennemis'\")\n",
    "# make some final aesthetic adjustments of the plot boundary\n",
    "plt.savefig('plot_logistic_ennemis.png') #width=7in\n",
    "plt.xlim(-0.1, max(wordfreq) + 0.2); plt.tight_layout()\n",
    "plt.show()"
   ]
  },
  {
   "cell_type": "markdown",
   "metadata": {},
   "source": [
    "The figure illustrates what the model infers: if ‘ennemis’ appears more than\n",
    "three times in a section it will tend to be a tragedy with high probability.\n",
    "\n",
    "As an experiment and an illustration of [cross validation](https://en.wikipedia.org/wiki/Cross-validation_%28statistics%29#K-fold_cross-validation)\n",
    "(also called out-of-sample validation), consider the task of predicting the\n",
    "classification of a section of text based on the frequency of ‘ennemis’ alone.\n",
    "From the 3,429 play sections in our corpus we will take one third of them at\n",
    "random and ask the model to predict their classification with the model\n",
    "fitted on the remaining sections. We will do this three times (once for each\n",
    "held-out third). The scikit-learn package makes this procedure embarrassingly\n",
    "easy, provided we use its version of logistic regression, which is designed for\n",
    "large datasets and differs slightly from the version provided by R and\n",
    "statsmodels. <sup>[1](#fn-sklearn-logisticregression)</sup>"
   ]
  },
  {
   "cell_type": "code",
   "execution_count": null,
   "metadata": {
    "hide-output": false
   },
   "outputs": [],
   "source": [
    "#from sklearn import cross_validation\n",
    "from sklearn.model_selection import cross_validate\n",
    "from sklearn import linear_model\n",
    "\n",
    "clf = linear_model.LogisticRegression()\n",
    "scores = cross_validate(clf, wordfreq, genre == 'tragedy')[\"test_score\"]\n",
    "scores.mean()"
   ]
  },
  {
   "cell_type": "markdown",
   "metadata": {},
   "source": [
    "Since ‘ennemis’ only appears in 20% of the sections and appears more than once\n",
    "in only 5% of the sections, the model will only have useful information to work\n",
    "with in a fraction of the cases presented to it. Nevertheless, it does\n",
    "considerably better than a baseline of simply picking ‘tragedy’ every time, which\n",
    "would be expected to achieve 52% accuracy, as sections from tragedies make up 52% of the sections.\n",
    "\n",
    "Of course, if we give the model access to all the word frequencies in the corpus\n",
    "(not just ‘ennemis’) and ask it to make predictions it does much better:"
   ]
  },
  {
   "cell_type": "code",
   "execution_count": null,
   "metadata": {
    "hide-output": false
   },
   "outputs": [],
   "source": [
    "clf = linear_model.LogisticRegression()\n",
    "scores = cross_validate(clf, dtm, genre == 'tragedy')[\"test_score\"]\n",
    "scores.mean()"
   ]
  },
  {
   "cell_type": "markdown",
   "metadata": {},
   "source": [
    ">**Note**\n",
    ">\n",
    ">Those interested in using a large number of predictors—such as\n",
    "a matrix with 3,000 features—should use the implementation of logistic\n",
    "regression found in scikit-learn. Unlike the default version provided by\n",
    "R or statsmodels, scikit-learn’s version includes a [penalty or\n",
    "regularization term](https://en.wikipedia.org/wiki/Regularization_%28mathematics%29), which\n",
    "tends to help prevent [overfitting](https://en.wikipedia.org/wiki/Overfitting) that can occur in models using\n",
    "a large number of predictors.\n",
    "\n",
    "\n",
    "<a id='logistic-regression'></a>"
   ]
  },
  {
   "cell_type": "markdown",
   "metadata": {},
   "source": [
    "## Logistic regression\n",
    "\n",
    ">**Note**\n",
    ">\n",
    ">Resources for those interested in learning about logistic (and linear)\n",
    "regression include Gelman and Hill (2006) [[GH06]](references.ipynb#gelman-data-2006) and\n",
    "Bishop (2007) [[Bis07]](references.ipynb#bishop-pattern-2007). Stanford’s OpenClassroom also has\n",
    "a [series of lectures devoted to logistic regression](http://openclassroom.stanford.edu/MainFolder/CoursePage.php?course=DeepLearning).\n",
    "\n",
    "Linear regression is one way of thinking about the relationship between two\n",
    "variables. Logistic regression is a linear model as well; it assumes a linear,\n",
    "additive relationship between the predictors and the *log odds* of a classification.\n",
    "With a single predictor and an intercept term, the relationship between\n",
    "a classification and a predictor has the following symbolic expression:\n",
    "\n",
    "$$\n",
    "P(y_i = \\mathrm{tragedy}) &= \\mathrm{logit}^{-1}(\\beta_0 + \\beta_1 x_i)\\\\\n",
    "           &= \\frac{e^{\\beta_0 + \\beta x_i}}{1+e^{\\beta_0 + \\beta_1 x_i}}\\\\\n",
    "           &= \\frac{1}{1+e^{-(\\beta_0 + \\beta_1 x_i)}}\\\\\n",
    "           &= \\sigma(\\beta_0 + \\beta_1 x_i)\\\\\n",
    "$$\n",
    "\n",
    "Typically, we have more than one observation. Letting $ \\sigma(x_i\\beta) $\n",
    "stand in for $ \\frac{1}{1+e^{-(\\beta_0 + \\beta_1 x_i)}} $ the [maximum\n",
    "likelihood estimate](https://en.wikipedia.org/wiki/Maximum_likelihood_estimate) for $ \\beta $\n",
    "is the value of $ \\beta $ which maximizes the log\n",
    "likelihood of the observations:\n",
    "\n",
    "$$\n",
    "\\log \\prod_{i=1}^n P(y_i = \\mathrm{tragedy}) &= \\sum \\left( y_i \\log \\sigma(x_i \\beta) + (1 - y_i) \\log (1 - \\sigma(x_i \\beta)) \\right)\\\\\n",
    "$$\n",
    "\n",
    "While for linear regression there is frequently a closed-form solution for the\n",
    "maximum, logistic regression lacks a tidy solution. The solution (there is\n",
    "indeed a unique maximum) is typically found using [iteratively reweighted least\n",
    "squares](https://en.wikipedia.org/wiki/Iteratively_reweighted_least_squares).\n",
    "\n",
    "The solution may be found in Python using `statsmodels.api.GLM` or in R using\n",
    "the built-in `glm` function. The two functions should yield identical results.\n",
    "\n",
    "<a id='fn-sklearn-logisticregression'></a>\n",
    "**[1]** Scikit-learn’s `LogisticRegression`\n",
    "includes a penalty term which prevents overfitting, something that is\n",
    "a major concern when the number of predictors exceeds the number of\n",
    "observations.  Those wishing for a logistic regression model that mirrors\n",
    "R’s `glm()` should use `statsmodels`’s `GLM`."
   ]
  }
 ],
 "metadata": {
  "date": 1.5771899407087693E9,
  "filename": "classification_logistic_regression.rst",
  "kernelspec": {
   "display_name": "Python 3",
   "language": "python",
   "name": "python3"
  },
  "language_info": {
   "codemirror_mode": {
    "name": "ipython",
    "version": 3
   },
   "file_extension": ".py",
   "mimetype": "text/x-python",
   "name": "python",
   "nbconvert_exporter": "python",
   "pygments_lexer": "ipython3",
   "version": "3.8.2"
  },
  "title": "Classification, Machine Learning, and Logistic Regression"
 },
 "nbformat": 4,
 "nbformat_minor": 2
}