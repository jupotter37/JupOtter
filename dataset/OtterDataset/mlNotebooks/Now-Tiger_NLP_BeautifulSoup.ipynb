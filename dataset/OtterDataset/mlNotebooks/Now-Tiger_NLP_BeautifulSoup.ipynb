{
 "cells": [
  {
   "cell_type": "code",
   "execution_count": 1,
   "id": "5ebf36c1",
   "metadata": {},
   "outputs": [],
   "source": [
    "from urllib import request\n",
    "from bs4 import BeautifulSoup as Bsoup\n",
    "import requests, json\n",
    "\n",
    "from warnings import filterwarnings\n",
    "filterwarnings('ignore')"
   ]
  },
  {
   "cell_type": "markdown",
   "id": "34e3e821",
   "metadata": {},
   "source": [
    "## Reading Json data:"
   ]
  },
  {
   "cell_type": "code",
   "execution_count": 2,
   "id": "2a740157",
   "metadata": {},
   "outputs": [],
   "source": [
    "# json url \"https://quotes.rest/qod.json\"\n",
    "r = requests.get(\"https://quotes.rest/qod.json\")\n",
    "result = r.json()"
   ]
  },
  {
   "cell_type": "code",
   "execution_count": 3,
   "id": "c8f64bfe",
   "metadata": {},
   "outputs": [
    {
     "name": "stdout",
     "output_type": "stream",
     "text": [
      "{\n",
      "    \"success\": {\n",
      "        \"total\": 1\n",
      "    },\n",
      "    \"contents\": {\n",
      "        \"quotes\": [\n",
      "            {\n",
      "                \"quote\": \"Vision without action is daydream. Action without vision is nightmare..\",\n",
      "                \"length\": \"73\",\n",
      "                \"author\": \"Japanese Proverb\",\n",
      "                \"tags\": {\n",
      "                    \"0\": \"action\",\n",
      "                    \"1\": \"inspire\",\n",
      "                    \"3\": \"vision\"\n",
      "                },\n",
      "                \"category\": \"inspire\",\n",
      "                \"language\": \"en\",\n",
      "                \"date\": \"2022-11-22\",\n",
      "                \"permalink\": \"https://theysaidso.com/quote/japanese-proverb-vision-without-action-is-daydream-action-without-vision-is-nigh\",\n",
      "                \"id\": \"1frNkKmnuhbKYO4OyURZyQeF\",\n",
      "                \"background\": \"https://theysaidso.com/img/qod/qod-inspire.jpg\",\n",
      "                \"title\": \"Inspiring Quote of the day\"\n",
      "            }\n",
      "        ]\n",
      "    },\n",
      "    \"baseurl\": \"https://theysaidso.com\",\n",
      "    \"copyright\": {\n",
      "        \"year\": 2024,\n",
      "        \"url\": \"https://theysaidso.com\"\n",
      "    }\n",
      "}\n"
     ]
    }
   ],
   "source": [
    "print(json.dumps(result, indent = 4))"
   ]
  },
  {
   "cell_type": "code",
   "execution_count": 4,
   "id": "557758eb",
   "metadata": {},
   "outputs": [
    {
     "data": {
      "text/plain": [
       "[{'quote': 'Vision without action is daydream. Action without vision is nightmare..',\n",
       "  'length': '73',\n",
       "  'author': 'Japanese Proverb',\n",
       "  'tags': {'0': 'action', '1': 'inspire', '3': 'vision'},\n",
       "  'category': 'inspire',\n",
       "  'language': 'en',\n",
       "  'date': '2022-11-22',\n",
       "  'permalink': 'https://theysaidso.com/quote/japanese-proverb-vision-without-action-is-daydream-action-without-vision-is-nigh',\n",
       "  'id': '1frNkKmnuhbKYO4OyURZyQeF',\n",
       "  'background': 'https://theysaidso.com/img/qod/qod-inspire.jpg',\n",
       "  'title': 'Inspiring Quote of the day'}]"
      ]
     },
     "execution_count": 4,
     "metadata": {},
     "output_type": "execute_result"
    }
   ],
   "source": [
    "result['contents']['quotes']"
   ]
  },
  {
   "cell_type": "code",
   "execution_count": 5,
   "id": "a1f430a7",
   "metadata": {},
   "outputs": [
    {
     "data": {
      "text/plain": [
       "{'quote': 'Vision without action is daydream. Action without vision is nightmare..',\n",
       " 'length': '73',\n",
       " 'author': 'Japanese Proverb',\n",
       " 'tags': {'0': 'action', '1': 'inspire', '3': 'vision'},\n",
       " 'category': 'inspire',\n",
       " 'language': 'en',\n",
       " 'date': '2022-11-22',\n",
       " 'permalink': 'https://theysaidso.com/quote/japanese-proverb-vision-without-action-is-daydream-action-without-vision-is-nigh',\n",
       " 'id': '1frNkKmnuhbKYO4OyURZyQeF',\n",
       " 'background': 'https://theysaidso.com/img/qod/qod-inspire.jpg',\n",
       " 'title': 'Inspiring Quote of the day'}"
      ]
     },
     "execution_count": 5,
     "metadata": {},
     "output_type": "execute_result"
    }
   ],
   "source": [
    "result['contents']['quotes'][0]"
   ]
  },
  {
   "cell_type": "code",
   "execution_count": 6,
   "id": "8119590a",
   "metadata": {},
   "outputs": [
    {
     "name": "stdout",
     "output_type": "stream",
     "text": [
      "Vision without action is daydream. Action without vision is nightmare.. \n",
      "- Japanese Proverb\n"
     ]
    }
   ],
   "source": [
    "quote = result['contents']['quotes'][0]\n",
    "\n",
    "print(f\"{quote['quote']} \\n- {quote['author']}\")"
   ]
  },
  {
   "cell_type": "markdown",
   "id": "da2922bf",
   "metadata": {},
   "source": [
    "## Fetch HTML File and Parse:"
   ]
  },
  {
   "cell_type": "code",
   "execution_count": 7,
   "id": "58fa7d9f",
   "metadata": {},
   "outputs": [],
   "source": [
    "# -- read url\n",
    "\n",
    "url = 'https://en.wikipedia.org/wiki/Natural_language_processing'\n",
    "response = request.urlopen('https://en.wikipedia.org/wiki/Natural_language_processing')\n",
    "html_doc = response.read()"
   ]
  },
  {
   "cell_type": "code",
   "execution_count": 8,
   "id": "8719f38f",
   "metadata": {},
   "outputs": [],
   "source": [
    "# -- Parse html file --\n",
    "\n",
    "soup = Bsoup(html_doc, 'html.parser')\n",
    "pretiffied = soup.prettify()\n",
    "\n",
    "# pretiffied[:1000]"
   ]
  },
  {
   "cell_type": "markdown",
   "id": "9fe51ebc",
   "metadata": {},
   "source": [
    "## Extracting tag values:"
   ]
  },
  {
   "cell_type": "code",
   "execution_count": 9,
   "id": "be0cc3be",
   "metadata": {},
   "outputs": [
    {
     "name": "stdout",
     "output_type": "stream",
     "text": [
      "<title>Natural language processing - Wikipedia</title>\n",
      "Natural language processing - Wikipedia\n",
      "None\n",
      "Natural language processing\n"
     ]
    }
   ],
   "source": [
    "print(f\"{soup.title}\\n\"\n",
    "      f\"{soup.title.string}\\n\"\n",
    "      f\"{soup.a.string}\\n\"\n",
    "      f\"{soup.b.string}\"\n",
    "     )"
   ]
  },
  {
   "cell_type": "markdown",
   "id": "ce7cf8aa",
   "metadata": {},
   "source": [
    "## Extracting all instances of a particular tag:"
   ]
  },
  {
   "cell_type": "code",
   "execution_count": 10,
   "id": "e5463e26",
   "metadata": {},
   "outputs": [
    {
     "name": "stdout",
     "output_type": "stream",
     "text": [
      "Natural language processing (NLP) is a subfield of linguistics, computer science, and artificial intelligence concerned with the interactions between computers and human language, in particular how to program computers to process and analyze large amounts of natural language data.  The goal is a computer capable of \"understanding\" the contents of documents, including the contextual nuances of the language within them. The technology can then accurately extract information and insights contained in the documents as well as categorize and organize the documents themselves.\n",
      "\n",
      "Challenges in natural language processing frequently involve speech recognition, natural-language understanding, and natural-language generation.\n",
      "\n",
      "Natural language processing has its roots in the 1950s. Already in 1950, Alan Turing published an article titled \"Computing Machinery and Intelligence\" which proposed what is now called the Turing test as a criterion of intelligence, though at the time that was not articulated as a problem separate from artificial intelligence. The proposed test includes a task that involves the automated interpretation and generation of natural language.\n",
      "\n",
      "The premise of symbolic NLP is well-summarized by John Searle's Chinese room experiment: Given a collection of rules (e.g., a Chinese phrasebook, with questions and matching answers), the computer emulates natural language understanding (or other NLP tasks) by applying those rules to the data it confronts.\n",
      "\n",
      "Up to the 1980s, most natural language processing systems were based on complex sets of hand-written rules.  Starting in the late 1980s, however, there was a revolution in natural language processing with the introduction of machine learning algorithms for language processing.  This was due to both the steady increase in computational power (see Moore's law) and the gradual lessening of the dominance of Chomskyan theories of linguistics (e.g. transformational grammar), whose theoretical underpinnings discouraged the sort of corpus linguistics that underlies the machine-learning approach to language processing.[6]\n",
      "\n",
      "In the 2010s, representation learning and deep neural network-style machine learning methods became widespread in natural language processing. That popularity was due partly to a flurry of results showing that such techniques[7][8] can achieve state-of-the-art results in many natural language tasks, e.g., in language modeling[9] and parsing.[10][11] This is increasingly important in medicine and healthcare, where NLP helps analyze notes and text in electronic health records that would otherwise be inaccessible for study when seeking to improve care.[12]\n",
      "\n",
      "In the early days, many language-processing systems were designed by symbolic methods, i.e., the hand-coding of a set of rules, coupled with a dictionary lookup:[13][14] such as by writing grammars or devising heuristic rules for stemming.\n",
      "\n",
      "More recent systems based on machine-learning algorithms have many advantages over hand-produced rules: \n",
      "\n",
      "Despite the popularity of machine learning in NLP research, symbolic methods are still (2020) commonly used:\n",
      "\n",
      "Since the so-called \"statistical revolution\"[15][16] in the late 1980s and mid-1990s, much natural language processing research has relied heavily on machine learning. The machine-learning paradigm calls instead for using statistical inference to automatically learn such rules through the analysis of large corpora (the plural form of corpus, is a set of documents, possibly with human or computer annotations) of typical real-world examples.\n",
      "\n",
      "Many different classes of machine-learning algorithms have been applied to natural-language-processing tasks. These algorithms take as input a large set of \"features\" that are generated from the input data. Increasingly, however, research has focused on statistical models, which make soft, probabilistic decisions based on attaching real-valued weights to each input feature (complex-valued embeddings,[17] and neural networks in general have also been proposed, for e.g. speech[18]). Such models have the advantage that they can express the relative certainty of many different possible answers rather than only one, producing more reliable results when such a model is included as a component of a larger system.\n",
      "\n",
      "Some of the earliest-used machine learning algorithms, such as decision trees, produced systems of hard if-then rules similar to existing hand-written rules.  However, part-of-speech tagging introduced the use of hidden Markov models to natural language processing, and increasingly, research has focused on statistical models, which make soft, probabilistic decisions based on attaching real-valued weights to the features making up the input data. The cache language models upon which many speech recognition systems now rely are examples of such statistical models.  Such models are generally more robust when given unfamiliar input, especially input that contains errors (as is very common for real-world data), and produce more reliable results when integrated into a larger system comprising multiple subtasks.\n",
      "\n",
      "Since the neural turn, statistical methods in NLP research have been largely replaced by neural networks. However, they continue to be relevant for contexts in which statistical interpretability and transparency is required.\n",
      "\n",
      "A major drawback of statistical methods is that they require elaborate feature engineering. Since 2015,[19] the field has thus largely abandoned statistical methods and shifted to neural networks for machine learning. Popular techniques include the use of word embeddings to capture semantic properties of words, and an increase in end-to-end learning of a higher-level task (e.g., question answering) instead of relying on a pipeline of separate intermediate tasks (e.g., part-of-speech tagging and dependency parsing). In some areas, this shift has entailed substantial changes in how NLP systems are designed, such that deep neural network-based approaches may be viewed as a new paradigm distinct from statistical natural language processing. For instance, the term neural machine translation (NMT) emphasizes the fact that deep learning-based approaches to machine translation directly learn sequence-to-sequence transformations, obviating the need for intermediate steps such as word alignment and language modeling that was used in statistical machine translation (SMT).\n",
      "\n",
      "The following is a list of some of the most commonly researched tasks in natural language processing. Some of these tasks have direct real-world applications, while others more commonly serve as subtasks that are used to aid in solving larger tasks.\n",
      "\n",
      "Though natural language processing tasks are closely intertwined, they can be subdivided into categories for convenience. A coarse division is given below.\n",
      "\n",
      "Based on long-standing trends in the field, it is possible to extrapolate future directions of NLP. As of 2020, three trends among the topics of the long-standing series of CoNLL Shared Tasks can be observed:[40]\n",
      "\n",
      "Most higher-level NLP applications involve aspects that emulate intelligent behaviour and apparent comprehension of natural language. More broadly speaking, the technical operationalization of increasingly advanced aspects of cognitive behaviour represents one of the developmental trajectories of NLP (see trends among CoNLL shared tasks above).\n",
      "\n",
      "Cognition refers to \"the mental action or process of acquiring knowledge and understanding through thought, experience, and the senses.\"[41] Cognitive science is the interdisciplinary, scientific study of the mind and its processes.[42] Cognitive linguistics is an interdisciplinary branch of linguistics, combining knowledge and research from both psychology and linguistics.[43] Especially during the age of symbolic NLP, the area of computational linguistics maintained strong ties with cognitive studies.\n",
      "\n",
      "As an example, George Lakoff offers a methodology to build natural language processing (NLP) algorithms through the perspective of cognitive science, along with the findings of cognitive linguistics,[44] with two defining aspects:\n",
      "\n",
      "Ties with cognitive linguistics are part of the historical heritage of NLP, but they have been less frequently addressed since the statistical turn during the 1990s. Nevertheless, approaches to develop cognitive models towards technically operationalizable frameworks have been pursued in the context of various frameworks, e.g., of cognitive grammar,[46] functional grammar,[47] construction grammar,[48] computational psycholinguistics and cognitive neuroscience (e.g., ACT-R), however, with limited uptake in mainstream NLP (as measured by presence on major conferences[49] of the ACL). More recently, ideas of cognitive NLP have been revived as an approach to achieve explainability, e.g., under the notion of \"cognitive AI\".[50] Likewise, ideas of cognitive NLP are inherent to neural models multimodal NLP (although rarely made explicit).[51]\n",
      "\n"
     ]
    }
   ],
   "source": [
    "for x in soup.find_all('p'):\n",
    "    print(x.text)"
   ]
  },
  {
   "cell_type": "code",
   "execution_count": 11,
   "id": "40856786",
   "metadata": {},
   "outputs": [],
   "source": [
    "# for x in soup.find_all('a'):\n",
    "#     print(x.text)"
   ]
  },
  {
   "cell_type": "code",
   "execution_count": null,
   "id": "8292fc25",
   "metadata": {},
   "outputs": [],
   "source": []
  }
 ],
 "metadata": {
  "kernelspec": {
   "display_name": "Python 3",
   "language": "python",
   "name": "python3"
  },
  "language_info": {
   "codemirror_mode": {
    "name": "ipython",
    "version": 3
   },
   "file_extension": ".py",
   "mimetype": "text/x-python",
   "name": "python",
   "nbconvert_exporter": "python",
   "pygments_lexer": "ipython3",
   "version": "3.8.12"
  }
 },
 "nbformat": 4,
 "nbformat_minor": 5
}
