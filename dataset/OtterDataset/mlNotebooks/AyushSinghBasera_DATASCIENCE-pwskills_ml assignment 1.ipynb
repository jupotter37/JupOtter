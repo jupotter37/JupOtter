{
 "cells": [
  {
   "cell_type": "markdown",
   "id": "2b4f9e5e-ee18-4d81-a2ff-e5b93e8f2262",
   "metadata": {},
   "source": [
    "ans 1. Artificial Intelligence (AI)\n",
    "\n",
    "Definition: AI refers to the simulation of human intelligence in machines that are programmed to think and learn.\n",
    "Example: Personal assistants like Siri or Alexa.\n",
    "\n",
    "Machine Learning (ML)\n",
    "\n",
    "Definition: ML is a subset of AI that enables machines to learn from data and improve from experience without being explicitly programmed.\n",
    "\n",
    "Example: Email spam detection.\n",
    "\n",
    "Deep Learning (DL)\n",
    "\n",
    "Definition: DL is a subset of ML involving neural networks with many layers (deep neural networks) that can learn from large amounts of data.\n",
    "\n",
    "Example: Image recognition systems."
   ]
  },
  {
   "cell_type": "markdown",
   "id": "6940c44d-ea5a-4f0b-8f11-2d7e5cad4453",
   "metadata": {},
   "source": [
    "ans2. \n",
    "Supervised learning is a type of machine learning where the model is trained on labeled data. The algorithm learns from input-output pairs.\n",
    "\n",
    "Examples of Supervised Learning:\n",
    "\n",
    "Linear Regression: Predicting house prices based on features like size, location, etc.\n",
    "Decision Trees: Classifying whether an email is spam or not.\n",
    "Support Vector Machines (SVM): Handwritten digit classification."
   ]
  },
  {
   "cell_type": "markdown",
   "id": "aa0529d5-6aca-40b9-b044-8c8b2d49f2ce",
   "metadata": {},
   "source": [
    "Ans 3. Unsupervised learning involves training a model on data without labeled responses. The system tries to learn patterns and the structure from the data.\n",
    "\n",
    "Examples of Unsupervised Learning:\n",
    "\n",
    "K-Means Clustering: Customer segmentation.\n",
    "Principal Component Analysis (PCA): Reducing the dimensionality of datasets.\n",
    "Association Rules: Market basket analysis in retail.\n"
   ]
  },
  {
   "cell_type": "markdown",
   "id": "ceb100bd-7cbf-413a-8112-207e74be1999",
   "metadata": {},
   "source": [
    "Ans 4.  AI (Artificial Intelligence): Broad field encompassing machines that simulate human intelligence.\n",
    "\n",
    "ML (Machine Learning): Subfield of AI focusing on systems that learn from data.\n",
    "\n",
    "DL (Deep Learning): Subfield of ML using deep neural networks for learning from large datasets.\n",
    "\n",
    "DS (Data Science): An interdisciplinary field focusing on extracting knowledge from data, often using AI and ML methods.\n"
   ]
  },
  {
   "cell_type": "markdown",
   "id": "2e9a8c40-fc1e-4807-96e7-1464882e23a5",
   "metadata": {},
   "source": [
    "ANS 5. Supervised Learning: Uses labeled data to train models. Example: Predicting stock prices.\n",
    "\n",
    "Unsupervised Learning: Uses unlabeled data to find patterns. Example: Grouping customers based on purchasing behavior.\n",
    "\n",
    "Semi-Supervised Learning: Uses a mix of labeled and unlabeled data. Example: Webpage classification with some labeled and many unlabeled pages."
   ]
  },
  {
   "cell_type": "markdown",
   "id": "33cb552d-8374-4357-9869-ff03e5efd4e0",
   "metadata": {},
   "source": [
    "ANS 6. Train Set: The portion of the data used to train the model.\n",
    "\n",
    "Validation Set: The portion of the data used to tune model parameters and prevent overfitting.\n",
    "\n",
    "Test Set: The portion of the data used to evaluate the performance of the model.\n",
    "\n",
    "Importance: Splitting ensures the model's performance is robust and generalizes well to new, unseen data."
   ]
  },
  {
   "cell_type": "markdown",
   "id": "1aeaa891-e45e-4027-bbc7-dff9235da557",
   "metadata": {},
   "source": [
    "Ans 7. Unsupervised learning can identify outliers or anomalies in data by learning the normal patterns and detecting deviations from them.\n",
    "\n",
    "Example: Detecting fraudulent transactions in banking.\n",
    "\n",
    "  "
   ]
  },
  {
   "cell_type": "markdown",
   "id": "770ac695-bc2a-4822-9d90-9f1fcf4e88a5",
   "metadata": {},
   "source": [
    "ans 8. Supervised Learning Algorithms:\n",
    "\n",
    "Linear Regression\n",
    "Logistic Regression\n",
    "Decision Trees\n",
    "Support Vector Machines (SVM)\n",
    "Random Forests\n",
    "\n",
    "Unsupervised Learning Algorithms:\n",
    "\n",
    "K-Means Clustering\n",
    "Hierarchical Clustering\n",
    "Principal Component Analysis (PCA)\n",
    "Independent Component Analysis (ICA)\n",
    "Association Rules"
   ]
  }
 ],
 "metadata": {
  "kernelspec": {
   "display_name": "Python 3 (ipykernel)",
   "language": "python",
   "name": "python3"
  },
  "language_info": {
   "codemirror_mode": {
    "name": "ipython",
    "version": 3
   },
   "file_extension": ".py",
   "mimetype": "text/x-python",
   "name": "python",
   "nbconvert_exporter": "python",
   "pygments_lexer": "ipython3",
   "version": "3.10.8"
  }
 },
 "nbformat": 4,
 "nbformat_minor": 5
}
