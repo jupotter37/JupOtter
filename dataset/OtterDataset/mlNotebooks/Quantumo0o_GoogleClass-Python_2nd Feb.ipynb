{
 "cells": [
  {
   "cell_type": "markdown",
   "id": "7a91a133-9458-46a8-8e9b-a949c251e616",
   "metadata": {},
   "source": [
    "##### Q1. What are the characteristics of the tuples? Is tuple immutables?\n",
    "**Ans.** Ordered: Tuples maintain the order of elements.\n",
    "- Immutable: Tuples cannot be changed after creation.\n",
    "- Heterogeneous: Tuples can contain elements of different data types.\n",
    "- Indexed: Elements of a tuple can be accessed using their index.\n",
    "- Iterable: Tuples can be used in for loops and other iterable operations.\n",
    "- Comparable: Tuples can be compared to each other using standard comparison operators.\n",
    "- Hashable: Tuples can be used as keys in dictionaries and elements in sets\n",
    "\n",
    "##### Q2. What are the two tuple methods in python? Give an example of each method. Give a reason why tuples have only two in-built methods as compared to Lists.\n",
    "**Ans.** There are two built-in methods for tuples in Python:\n",
    "1. **count()**: This method returns the number of times a specified element appears in the tuple.\n",
    "Ex."
   ]
  },
  {
   "cell_type": "code",
   "execution_count": 25,
   "id": "9f837fac-30d8-4a85-9f7c-de9de4384c73",
   "metadata": {},
   "outputs": [
    {
     "name": "stdout",
     "output_type": "stream",
     "text": [
      "5\n"
     ]
    }
   ],
   "source": [
    "A=(1,2,3,4,5,2,3,2,3,2,3,2,3)\n",
    "B=A.count(2)\n",
    "print(5)"
   ]
  },
  {
   "cell_type": "markdown",
   "id": "0f1bc435-2571-42c0-ba9c-c7cdd8f55678",
   "metadata": {},
   "source": [
    "2. **index()**: This method returns the index of the first occurrence of a specified element in the tuple. If the element is not found, a ValueError is raised."
   ]
  },
  {
   "cell_type": "code",
   "execution_count": 26,
   "id": "526b255b-bc47-4e6c-969c-6729a183b657",
   "metadata": {},
   "outputs": [
    {
     "name": "stdout",
     "output_type": "stream",
     "text": [
      "2\n"
     ]
    }
   ],
   "source": [
    "A=('apple', 'banana', 'cherry', 'banana')\n",
    "B=A.index('cherry')\n",
    "print(B)"
   ]
  },
  {
   "cell_type": "markdown",
   "id": "3906f365-7ecf-4122-b58f-7bb3c1f4f6bc",
   "metadata": {},
   "source": [
    "Tuples have only 2 in in-build method because they are immutable, which means they can not be changed after creation. So, append(), insert(), remove() are not needed. On other hand, Lists are mutable, which means it can be changed after creation and support in build method for adding, removing and modifying. "
   ]
  },
  {
   "cell_type": "markdown",
   "id": "20c24b06-1fbd-4291-8446-0c7bfab0d63f",
   "metadata": {},
   "source": [
    "##### Q3. Which collection datatypes in python do not allow duplicate items? Write a code using a set to remove duplicates from the given list.\n",
    "**Ans**. Sets and Dictionaries are collection datatypes that do not allow duplicates item. However, values can be duplicated in Dictionaries."
   ]
  },
  {
   "cell_type": "code",
   "execution_count": 27,
   "id": "520fa4c0-4d4f-42d0-ab96-0c00869261a4",
   "metadata": {},
   "outputs": [
    {
     "name": "stdout",
     "output_type": "stream",
     "text": [
      "{1, 2, 3, 4}\n"
     ]
    }
   ],
   "source": [
    "List = [1, 1, 1, 2, 1, 3, 1, 4, 2, 1, 2, 2, 2, 3, 2, 4, 3, 1, 3, 2, 3, 3, 3, 4, 4, 1, 4, 2, 4, 3, 4, 4]\n",
    "A=set(List)\n",
    "print(A)"
   ]
  },
  {
   "cell_type": "markdown",
   "id": "f225568a-1725-4b6e-a496-9cdce3ec5c14",
   "metadata": {},
   "source": [
    "##### Q4. Explain the difference between the union() and update() methods for a set. Give an example of each method.\n",
    "**Ans**. The main difference between **union()** and **update()** is that **union()** returns a new set that contains all elements from both sets, while **update()** modifies the original set by adding all the elements from another set.\n",
    "\n",
    "**Eg. for union()**"
   ]
  },
  {
   "cell_type": "code",
   "execution_count": 28,
   "id": "1e7f22d2-08d1-4532-8fc0-631545a84ae4",
   "metadata": {},
   "outputs": [
    {
     "name": "stdout",
     "output_type": "stream",
     "text": [
      "{1, 2, 3, 4, 5}\n"
     ]
    }
   ],
   "source": [
    "set1 = {1, 2, 3}\n",
    "set2 = {3, 4, 5}\n",
    "set3 = set1.union(set2)\n",
    "print(set3)"
   ]
  },
  {
   "cell_type": "markdown",
   "id": "716fb9c5-a953-4b8a-864b-0a91633dc6a0",
   "metadata": {},
   "source": [
    "**Ex. for update()**"
   ]
  },
  {
   "cell_type": "code",
   "execution_count": 29,
   "id": "c65af1e7-4568-4c73-ba37-5bcfd1e47b4e",
   "metadata": {},
   "outputs": [
    {
     "name": "stdout",
     "output_type": "stream",
     "text": [
      "{1, 2, 3, 4, 5}\n"
     ]
    }
   ],
   "source": [
    "set1 = {1, 2, 3}\n",
    "set2 = {3, 4, 5}\n",
    "set1.update(set2)\n",
    "print(set1)"
   ]
  },
  {
   "cell_type": "markdown",
   "id": "ace401a9-7f63-4a86-9f5b-824128d20452",
   "metadata": {},
   "source": [
    "##### Q5. What is a dictionary? Give an example. Also, state whether a dictionary is ordered or unordered.\n",
    "**Ans**. A Dictionary is a collaction of key value pairs. Dictionary are created using curly braces \"{}\" and key value pair are separated by colons \":\". EDictionary are mutable and can be modified after creation.\n",
    "\n",
    "**Eg.**"
   ]
  },
  {
   "cell_type": "code",
   "execution_count": 30,
   "id": "a7d7637f-8aa6-44d7-8000-44da14ff6608",
   "metadata": {},
   "outputs": [
    {
     "name": "stdout",
     "output_type": "stream",
     "text": [
      "{'apple': 2, 'banana': 3, 'cherry': 5}\n"
     ]
    }
   ],
   "source": [
    "fruit = {\"apple\": 2, \"banana\": 3, \"cherry\": 5}\n",
    "print(fruit)"
   ]
  },
  {
   "cell_type": "markdown",
   "id": "f7857aa6-9211-4ffc-afdd-692dd910ec76",
   "metadata": {},
   "source": [
    "Dictionaries are unordered, which means that the order of the elements is not guaranteed."
   ]
  },
  {
   "cell_type": "markdown",
   "id": "650eca0d-9359-4939-9b9e-5d614d5737af",
   "metadata": {},
   "source": [
    "##### Q6. Can we create a nested dictionary? If so, please give an example by creating a simple one-level nested dictionary.\n",
    "**Ans**. Yes, we can create a nested dictionary. A nested dictionary is a dictionary that contains one or more dictionaries as its values. For Example :-"
   ]
  },
  {
   "cell_type": "code",
   "execution_count": 31,
   "id": "aece0271-a076-45b4-abf3-b0b2528f5b0f",
   "metadata": {},
   "outputs": [
    {
     "name": "stdout",
     "output_type": "stream",
     "text": [
      "3\n"
     ]
    }
   ],
   "source": [
    "fruit = {\"fruits\": {\"apple\": 2, \"banana\": 3, \"cherry\": 5}}\n",
    "print(fruit[\"fruits\"][\"banana\"])"
   ]
  },
  {
   "cell_type": "markdown",
   "id": "bb503c7f-9438-4c24-a4e8-2c7f75dddecc",
   "metadata": {},
   "source": [
    "##### Q7. Using setdefault() method, create key named topics in the given dictionary and also add the value of the key as this list ['Python', 'Machine Learning’, 'Deep Learning']\n",
    "##### dict1 = {'language' : 'Python', 'course': 'Data Science Masters'}\n",
    "**Ans**. The **setdefault()** method is a dictionary method in Python that is used to retrieve the value of a key in a dictionary. If the key does not exist in the dictionary, it creates a new key with the specified value. "
   ]
  },
  {
   "cell_type": "code",
   "execution_count": 32,
   "id": "76a49455-d141-45c7-b55b-ec5c77a64fe0",
   "metadata": {},
   "outputs": [
    {
     "name": "stdout",
     "output_type": "stream",
     "text": [
      "{'language': 'Python', 'course': 'Data Science Masters', 'topics': ['Python', 'Machine Learning', 'Deep Learning']}\n"
     ]
    }
   ],
   "source": [
    "dict1 = {'language': 'Python', 'course': 'Data Science Masters'}\n",
    "dict1.setdefault('topics', ['Python', 'Machine Learning', 'Deep Learning'])\n",
    "print(dict1)"
   ]
  },
  {
   "cell_type": "markdown",
   "id": "94846eac-0006-4be1-aa14-e2e8d008247a",
   "metadata": {},
   "source": [
    "##### Q8. What are the three view objects in dictionaries? Use the three in-built methods in python to display these three view objects for the given dictionary.\n",
    "dict1 = {'Sport': 'Cricket' , 'Teams': ['India', 'Australia', 'England', 'South Africa', 'Sri Lanka', 'New Zealand']}\n",
    "\n",
    "**Ans**. The three view objects in Dictionary is **keys()**, **values()** and **items()**.\n",
    "1. keys() - This view object return a list like object that cantains all the keys of the dictionary."
   ]
  },
  {
   "cell_type": "code",
   "execution_count": 33,
   "id": "dba788eb-ed26-4263-9fb8-bfa847c412de",
   "metadata": {},
   "outputs": [
    {
     "name": "stdout",
     "output_type": "stream",
     "text": [
      "dict_keys(['Sport', 'Teams'])\n"
     ]
    }
   ],
   "source": [
    "dict1 = {'Sport': 'Cricket' , 'Teams': ['India', 'Australia', 'England', 'South Africa', 'Sri Lanka', 'New Zealand']}\n",
    "A=dict1.keys()\n",
    "print(A)"
   ]
  },
  {
   "cell_type": "markdown",
   "id": "ecb80691-2c38-43c8-8600-c75fdb39f832",
   "metadata": {},
   "source": [
    "2. values() - The view object return a list like object that cantains all the values of the dictinary"
   ]
  },
  {
   "cell_type": "code",
   "execution_count": 34,
   "id": "12cfe64f-420a-4e50-829d-7858620e9292",
   "metadata": {},
   "outputs": [
    {
     "name": "stdout",
     "output_type": "stream",
     "text": [
      "dict_values(['Cricket', ['India', 'Australia', 'England', 'South Africa', 'Sri Lanka', 'New Zealand']])\n"
     ]
    }
   ],
   "source": [
    "B=dict1.values()\n",
    "print(B)"
   ]
  },
  {
   "cell_type": "markdown",
   "id": "0d8c2b44-a9e2-4495-9d81-40796ad1839f",
   "metadata": {},
   "source": [
    "3. items() - This view object returns a list like object that contains all the key value pairs of the dictionary as tuples."
   ]
  },
  {
   "cell_type": "code",
   "execution_count": 35,
   "id": "288faa08-648a-4e6f-8173-c32b675d9678",
   "metadata": {},
   "outputs": [
    {
     "data": {
      "text/plain": [
       "dict_items([('Sport', 'Cricket'), ('Teams', ['India', 'Australia', 'England', 'South Africa', 'Sri Lanka', 'New Zealand'])])"
      ]
     },
     "execution_count": 35,
     "metadata": {},
     "output_type": "execute_result"
    }
   ],
   "source": [
    "C=dict1.items()\n",
    "C"
   ]
  },
  {
   "cell_type": "markdown",
   "id": "d96c7502-08b4-4ef1-8dd6-a31e62515dd1",
   "metadata": {},
   "source": [
    "We can also do typecasting for better view"
   ]
  },
  {
   "cell_type": "code",
   "execution_count": 36,
   "id": "5473ac99-3afd-410c-81ec-b8e3bcd99182",
   "metadata": {},
   "outputs": [
    {
     "name": "stdout",
     "output_type": "stream",
     "text": [
      "['Sport', 'Teams']\n",
      "['Cricket', ['India', 'Australia', 'England', 'South Africa', 'Sri Lanka', 'New Zealand']]\n",
      "[('Sport', 'Cricket'), ('Teams', ['India', 'Australia', 'England', 'South Africa', 'Sri Lanka', 'New Zealand'])]\n"
     ]
    }
   ],
   "source": [
    "print(list(A))\n",
    "print(list(B))\n",
    "print(list(C))"
   ]
  },
  {
   "cell_type": "code",
   "execution_count": null,
   "id": "9c1af944-27e0-4c6a-bf43-911a2bb5ad3a",
   "metadata": {},
   "outputs": [],
   "source": []
  },
  {
   "cell_type": "code",
   "execution_count": null,
   "id": "50a28783-5cb8-46c7-8695-850c34592ec9",
   "metadata": {},
   "outputs": [],
   "source": []
  },
  {
   "cell_type": "code",
   "execution_count": null,
   "id": "751e5acf-382c-4108-bb54-d6adc9bbb6aa",
   "metadata": {},
   "outputs": [],
   "source": []
  },
  {
   "cell_type": "code",
   "execution_count": null,
   "id": "5ab8b187-c2f3-4d73-8d8a-255a46e4f063",
   "metadata": {},
   "outputs": [],
   "source": []
  },
  {
   "cell_type": "code",
   "execution_count": null,
   "id": "76f29c80-544b-4a8c-ab8a-9642dafbdf9e",
   "metadata": {},
   "outputs": [],
   "source": []
  },
  {
   "cell_type": "code",
   "execution_count": null,
   "id": "8f9c6bfb-f284-486b-9cfc-f4c2d3438f4e",
   "metadata": {},
   "outputs": [],
   "source": []
  },
  {
   "cell_type": "code",
   "execution_count": null,
   "id": "b7feb3ae-a54c-4745-8014-e0ae55ba50cb",
   "metadata": {},
   "outputs": [],
   "source": []
  },
  {
   "cell_type": "code",
   "execution_count": null,
   "id": "1d8719c8-b266-4db0-aa93-d5bb00c13198",
   "metadata": {},
   "outputs": [],
   "source": []
  },
  {
   "cell_type": "code",
   "execution_count": null,
   "id": "e09b59d9-4385-4778-908e-8d2c75d96826",
   "metadata": {},
   "outputs": [],
   "source": []
  },
  {
   "cell_type": "code",
   "execution_count": null,
   "id": "e0fef954-4b98-4d1e-b9fc-1c176df0bebf",
   "metadata": {},
   "outputs": [],
   "source": []
  },
  {
   "cell_type": "code",
   "execution_count": null,
   "id": "ba680d8f-185f-48b2-b0cc-07f7e3fb2c5d",
   "metadata": {},
   "outputs": [],
   "source": []
  },
  {
   "cell_type": "code",
   "execution_count": null,
   "id": "629c0f7c-b130-4b1e-ad0c-aa153a4a85fa",
   "metadata": {},
   "outputs": [],
   "source": []
  },
  {
   "cell_type": "code",
   "execution_count": null,
   "id": "eba06256-1a5f-4d14-a20e-0940628597fb",
   "metadata": {},
   "outputs": [],
   "source": []
  },
  {
   "cell_type": "code",
   "execution_count": null,
   "id": "3ed195da-d584-4b00-a967-5566c0ac98c7",
   "metadata": {},
   "outputs": [],
   "source": []
  }
 ],
 "metadata": {
  "kernelspec": {
   "display_name": "Python 3 (ipykernel)",
   "language": "python",
   "name": "python3"
  },
  "language_info": {
   "codemirror_mode": {
    "name": "ipython",
    "version": 3
   },
   "file_extension": ".py",
   "mimetype": "text/x-python",
   "name": "python",
   "nbconvert_exporter": "python",
   "pygments_lexer": "ipython3",
   "version": "3.10.8"
  }
 },
 "nbformat": 4,
 "nbformat_minor": 5
}
