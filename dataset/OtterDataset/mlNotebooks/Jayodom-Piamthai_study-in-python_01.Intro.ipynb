{
 "cells": [
  {
   "cell_type": "markdown",
   "metadata": {},
   "source": [
    "# AI , Machine learning and Deep learning\n",
    "\n",
    "the gist of it:\n",
    "\n",
    "- ## AI: \n",
    "a craft of making machine able to decide simmilar to human via data and training without inputing rules or programming  which this process has been called:\n",
    "- ## Machine learning :\n",
    "techniques insolving complex problem which computer need a lot of data tolearn from to deduce the problem\n",
    "mainly machine learning works need to have amodel to be trained with database to learn about relations between data without inputing complex rules for machine to learn\n",
    "- ## Deep learning :\n",
    "machine learning method that learn via \"Neural network\" simmilar to one in human\n",
    "\n",
    "traditional programming - work by programmer understanding rules and inputting it into a program\n",
    "machine learning - use data that was learned to predict the correct answer based on said data\n",
    "\n",
    "## types of ML\n",
    "- supervised :labeled data\n",
    "- unsupervised : only input data for machine to sort out into groups\n",
    "- rienforcement : learn to solve problem with atate,reward and action to find the best possible solution/outcome for problem"
   ]
  },
  {
   "cell_type": "code",
   "execution_count": 2,
   "metadata": {},
   "outputs": [
    {
     "data": {
      "text/plain": [
       "'2.13.0'"
      ]
     },
     "execution_count": 2,
     "metadata": {},
     "output_type": "execute_result"
    }
   ],
   "source": [
    "import tensorflow as tf\n",
    "tf.__version__"
   ]
  }
 ],
 "metadata": {
  "kernelspec": {
   "display_name": "base",
   "language": "python",
   "name": "python3"
  },
  "language_info": {
   "codemirror_mode": {
    "name": "ipython",
    "version": 3
   },
   "file_extension": ".py",
   "mimetype": "text/x-python",
   "name": "python",
   "nbconvert_exporter": "python",
   "pygments_lexer": "ipython3",
   "version": "3.10.13"
  },
  "orig_nbformat": 4
 },
 "nbformat": 4,
 "nbformat_minor": 2
}
