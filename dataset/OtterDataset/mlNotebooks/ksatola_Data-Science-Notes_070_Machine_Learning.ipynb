{
 "cells": [
  {
   "cell_type": "markdown",
   "metadata": {},
   "source": [
    "# Machine Learning\n"
   ]
  },
  {
   "cell_type": "code",
   "execution_count": null,
   "metadata": {},
   "outputs": [],
   "source": []
  },
  {
   "cell_type": "code",
   "execution_count": null,
   "metadata": {},
   "outputs": [],
   "source": []
  },
  {
   "cell_type": "markdown",
   "metadata": {},
   "source": [
    "**Model** is a specification of a mathematical (or probabilistic) relationship that exists between different variables. **Machine learning** refer to creating and using `models that are learned from data`.\n",
    "\n",
    "There are `supervised` models in which there is a set of data labeled with the correct answers to learn from, and `unsupervised` models, in which there are no such labels. `Semisupervised` models have only some of the data labeled. `Online` learning models need to continuously adjust to newly arriving data. `Reinforcement` learning uses models, in which, after making a series of predictions, the models get a signal indicating how well they did."
   ]
  },
  {
   "cell_type": "markdown",
   "metadata": {},
   "source": [
    "You’re dealing with **supervised learning** if the algorithm has the correct label handy for every instance. Later, it will use the model, or recipe, to label new instances, just like you did."
   ]
  },
  {
   "cell_type": "code",
   "execution_count": null,
   "metadata": {},
   "outputs": [],
   "source": []
  },
  {
   "cell_type": "markdown",
   "metadata": {},
   "source": [
    "## AI or ML?\n",
    "\n",
    "Academia doesn’t consider artificial intelligence (AI) and machine learning (ML) interchangeable, and as an ex-academic I sympathize with their definitions and agree that technically AI is a proper superset of ML which is a proper superset of deep learning. Deep learning (DL) is ML that uses a particular class of algorithms (neural networks) and it’s what industry tends to mean when it says AI. How’s that for proper?\n",
    "\n",
    "<img src=\"images/ai_ml_dl.png\" alt=\"AI or ML?\" style=\"width: 800px;\"/>\n",
    "\n",
    "From: [Are you using the term ‘AI’ incorrectly?](https://hackernoon.com/are-you-using-the-term-ai-incorrectly-911ac23ab4f5)\n",
    "\n",
    "\n",
    "If you’re drowning in all this alphabet soup of AI, ML, DL, RL, while looking desperately for the robot entities of sci-fi, then you might like the term HLI. Human-like intelligence. If you’re going to be referring to ‘an AI’ in a way that evokes personhood, it’s probably best to call it ‘a HLI’ instead.\n",
    "\n",
    "<img src=\"images/ai_or_ml.jpeg\" alt=\"AI or ML?\" style=\"width: 800px;\"/>\n",
    "\n",
    "From: [Are you using the term ‘AI’ incorrectly?](https://hackernoon.com/are-you-using-the-term-ai-incorrectly-911ac23ab4f5)"
   ]
  },
  {
   "cell_type": "code",
   "execution_count": null,
   "metadata": {},
   "outputs": [],
   "source": []
  },
  {
   "cell_type": "code",
   "execution_count": null,
   "metadata": {},
   "outputs": [],
   "source": []
  },
  {
   "cell_type": "code",
   "execution_count": null,
   "metadata": {},
   "outputs": [],
   "source": []
  },
  {
   "cell_type": "code",
   "execution_count": null,
   "metadata": {},
   "outputs": [],
   "source": []
  },
  {
   "cell_type": "markdown",
   "metadata": {},
   "source": [
    "# Resources\n",
    "- [Optimizing Gradient Descent](http://ruder.io/optimizing-gradient-descent/index.html)"
   ]
  },
  {
   "cell_type": "markdown",
   "metadata": {},
   "source": [
    "# TODO:\n",
    "\n",
    "- https://github.com/rasbt/python-machine-learning-book\n",
    "- https://www.coursera.org/learn/machine-learning\n",
    "- IPython Cookbook, Second Edition (2018): https://ipython-books.github.io/\n",
    "- https://github.com/justmarkham/scikit-learn-videos"
   ]
  },
  {
   "cell_type": "code",
   "execution_count": null,
   "metadata": {},
   "outputs": [],
   "source": []
  },
  {
   "cell_type": "code",
   "execution_count": null,
   "metadata": {},
   "outputs": [],
   "source": []
  },
  {
   "cell_type": "code",
   "execution_count": null,
   "metadata": {},
   "outputs": [],
   "source": []
  },
  {
   "cell_type": "code",
   "execution_count": null,
   "metadata": {},
   "outputs": [],
   "source": []
  },
  {
   "cell_type": "code",
   "execution_count": null,
   "metadata": {},
   "outputs": [],
   "source": []
  },
  {
   "cell_type": "code",
   "execution_count": null,
   "metadata": {},
   "outputs": [],
   "source": []
  },
  {
   "cell_type": "code",
   "execution_count": null,
   "metadata": {},
   "outputs": [],
   "source": []
  },
  {
   "cell_type": "code",
   "execution_count": null,
   "metadata": {},
   "outputs": [],
   "source": []
  },
  {
   "cell_type": "code",
   "execution_count": null,
   "metadata": {},
   "outputs": [],
   "source": []
  },
  {
   "cell_type": "code",
   "execution_count": null,
   "metadata": {},
   "outputs": [],
   "source": []
  }
 ],
 "metadata": {
  "kernelspec": {
   "display_name": "Python 3",
   "language": "python",
   "name": "python3"
  },
  "language_info": {
   "codemirror_mode": {
    "name": "ipython",
    "version": 3
   },
   "file_extension": ".py",
   "mimetype": "text/x-python",
   "name": "python",
   "nbconvert_exporter": "python",
   "pygments_lexer": "ipython3",
   "version": "3.7.1"
  }
 },
 "nbformat": 4,
 "nbformat_minor": 2
}
