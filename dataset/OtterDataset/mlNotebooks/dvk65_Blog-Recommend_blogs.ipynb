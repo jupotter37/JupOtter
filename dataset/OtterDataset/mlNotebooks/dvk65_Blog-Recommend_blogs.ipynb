{
 "cells": [
  {
   "cell_type": "code",
   "execution_count": 1,
   "metadata": {},
   "outputs": [],
   "source": [
    "import os, time, csv, xlrd\n",
    "from selenium import webdriver\n",
    "from selenium.webdriver.common.action_chains import ActionChains\n",
    "from selenium.webdriver.chrome.options import Options\n",
    "from selenium.webdriver.common.by import By\n",
    "from selenium.webdriver.support.ui import WebDriverWait\n",
    "from selenium.webdriver.support import expected_conditions as EC\n",
    "from selenium.webdriver.common.keys import Keys\n",
    "import pandas as pd\n",
    "import numpy as np\n",
    "from datetime import datetime,timedelta"
   ]
  },
  {
   "cell_type": "code",
   "execution_count": 10,
   "metadata": {},
   "outputs": [],
   "source": [
    "# chrome_options = Options()\n",
    "# chrome_options.binary_location = \"chromedriver.exe\"\n",
    "# driver=webdriver.Chrome(options=chrome_options, executable_path=\"chromedriver.exe\")\n",
    "dri_loc=(\"chromedriver.exe\")\n",
    "driver=webdriver.Chrome(dri_loc)\n",
    "\n",
    "url=\"https://www.amazines.com/Career/article_category.cfm?catid=52&page=2&searchstr=&kw=&searchby=kw&returnto=\"\n",
    "driver.get(url)"
   ]
  },
  {
   "cell_type": "code",
   "execution_count": 18,
   "metadata": {},
   "outputs": [
    {
     "name": "stdout",
     "output_type": "stream",
     "text": [
      "['How can I become a data scientist without paying?']\n",
      "1\n",
      "['How can I become a data scientist without paying?', 'Where do I start if I need to learn data science from scratch....?']\n",
      "2\n",
      "['How can I become a data scientist without paying?', 'Where do I start if I need to learn data science from scratch....?', 'Which is better to study, data science or big data?']\n",
      "3\n",
      "['How can I become a data scientist without paying?', 'Where do I start if I need to learn data science from scratch....?', 'Which is better to study, data science or big data?', 'What is the difference between data science and big data..?']\n",
      "4\n",
      "['How can I become a data scientist without paying?', 'Where do I start if I need to learn data science from scratch....?', 'Which is better to study, data science or big data?', 'What is the difference between data science and big data..?', 'After learning Python how does one learn machine learning/AI?']\n",
      "5\n"
     ]
    }
   ],
   "source": [
    "title=[]\n",
    "info=[]\n",
    "\n",
    "act=ActionChains(driver)\n",
    "\n",
    "b_class=driver.find_elements_by_class_name('articleDesc')\n",
    "\n",
    "for i in range(27,32):\n",
    "    try:\n",
    "        #bcc=i.find_element_by_class_name(\"h2\")\n",
    "        bcc=b_class[i]\n",
    "        title.append(bcc.text)\n",
    "    except:\n",
    "        pass\n",
    "    print(title)\n",
    "    print(len(title))"
   ]
  },
  {
   "cell_type": "code",
   "execution_count": 21,
   "metadata": {},
   "outputs": [
    {
     "name": "stdout",
     "output_type": "stream",
     "text": [
      "How can I become a data scientist without paying?\n",
      "1\n",
      "Where do I start if I need to learn data science from scratch....?\n",
      "2\n",
      "Which is better to study, data science or big data?\n",
      "3\n",
      "What is the difference between data science and big data..?\n",
      "4\n",
      "After learning Python how does one learn machine learning/AI?\n",
      "5\n"
     ]
    }
   ],
   "source": [
    "for ti in title:\n",
    "    print(ti)\n",
    "    ti=str(ti)\n",
    "    elem=driver.find_element_by_xpath(\"//*[contains(text(), '\"+ti+\"')]\")\n",
    "    driver.execute_script(\"arguments[0].scrollIntoView();\", elem)\n",
    "    elem.click()\n",
    "    time.sleep(10)\n",
    "    info_li=driver.find_element_by_xpath('/html/body/span/center/table[3]/tbody/tr/td[4]/table/tbody/tr/td/div/span[2]/center/table/tbody/tr[1]/td/table[2]/tbody/tr[6]/td')\n",
    "    info.append(info_li.text)\n",
    "    print(len(info))\n",
    "    driver.get(url)\n",
    "    time.sleep(10)"
   ]
  },
  {
   "cell_type": "code",
   "execution_count": 22,
   "metadata": {},
   "outputs": [],
   "source": [
    "sea_dict={\"title\":title,\"info\":info}\n",
    "sea_csv=pd.DataFrame(sea_dict)\n",
    "sea_csv.to_excel(\"amazines.xlsx\")"
   ]
  },
  {
   "cell_type": "code",
   "execution_count": 23,
   "metadata": {},
   "outputs": [
    {
     "data": {
      "text/plain": [
       "['datasciencejobsuk for those who are aspiring to work within big data or who already work within the field and are looking for careers specifically within the areas of data science, machine learning, deep learning, data analytics, big data and statistics. If you would like to be added to our e-mail list regarding job opportunities and interesting updates please e-mail us at: info@datasciencecareer.co.uk\">You can potentially do the following:\\n1) Work through the entire Open Source Data Science Masters - The Open Source Data Science Masters 2) Go through the free version of this Coursera Data Science program (instead of paying to get the certifications) https://www.coursera.org/special... 3) Read as much as you can from free sources about trends in data science, such as DataTau\\nFor Your Information: We are currently building an online careers portal - datasciencejobsuk for those who are aspiring to work within big data or who already work within the field and are looking for careers specifically within the areas of data science, machine learning, deep learning, data analytics, big data and statistics. If you would like to be added to our e-mail list regarding job opportunities and interesting updates please e-mail us at: info@datasciencecareer.co.uk\\nRelated Articles - Data science jobs, Data science careers, Data science graduate jobs, Machine learning jobs,\\nEmail this Article to a Friend!\\nReceive Articles like this one direct to your email box!\\nSubscribe for free today!',\n",
       " 'Well Data Science like any other field is learnt best when:\\ni) You enjoy the learning process ii) You actually apply the theories and come out with something meaningful\\nThus, it is always beneficial if you start by taking up a project which seeks to answer a few questions you might be interested in, and then learn the tools and topics to reach your project goals.\\nFor instance, I know someone who is a big English Premier League soccer fan and he wagers money on outcomes of football matches. He started his Data Science journey by doing a free course on Quantra, which teaches in an interactive way the steps to predict the EPL winner based on data (obviously ideal for him!).\\nFor Your Information: We are currently building an online careers portal - datasciencejobslondon for those who are aspiring to work within big data or who already work within the field and are looking for careers specifically within the areas of data science, machine learning, deep learning, data analytics, big data and statistics. If you would like to be added to our e-mail list regarding job opportunities and interesting updates please e-mail us at: info@datasciencecareer.co.uk\\nRelated Articles - Data science jobs, Data science careers, Data science graduate jobs, Machine learning jobs,\\nEmail this Article to a Friend!\\nReceive Articles like this one direct to your email box!\\nSubscribe for free today!',\n",
       " 'This would depend on whether you like creating or analyzing?\\nIt usually goes like this:\\ni) The problem is identified ii) The big data set is identified that can solve problem iii) The engineers build a system to collect, store, and allow others to retrieve and analyze data iv) Then the data scientists use the system (and sometimes modify it if they have the ability)\\nFor Your Information: We are currently building an online careers portal - datasciencejobs for those who are aspiring to work within big data or who already work within the field and are looking for careers specifically within the areas of data science, machine learning, deep learning, data analytics, big data and statistics. If you would like to be added to our e-mail list regarding job opportunities and interesting updates please e-mail us at: info@datasciencecareer.co.uk\\nRelated Articles - Data science jobs, Data science careers, Data science graduate jobs, Machine learning jobs,\\nEmail this Article to a Friend!\\nReceive Articles like this one direct to your email box!\\nSubscribe for free today!',\n",
       " 'The basic definitions are as below:\\nData Science: Dealing with unstructured and structured data. Data Science is a field that comprises of everything that related to data cleansing, preparation, and analysis.\\nBig Data: Big Data refers to huge volumes of data that cannot be processed effectively with the traditional applications that exist. The processing of Big Data begins with the raw data that isn’t aggregated and is most often impossible to store in the memory of a single computer.\\nFor Your Information: We are currently building an online careers portal - datasciencecareers for those who are aspiring to work within big data or who already work within the field and are looking for careers specifically within the areas of data science, machine learning, deep learning, data analytics, big data and statistics. If you would like to be added to our e-mail list regarding job opportunities and interesting updates please e-mail us at: info@datasciencecareer.co.uk\\nRelated Articles - Data science jobs, Data science careers, Data science graduate jobs, Machine learning jobs,\\nEmail this Article to a Friend!\\nReceive Articles like this one direct to your email box!\\nSubscribe for free today!',\n",
       " 'Well the good thing is that one doesn\\'t need to possess a PhD-level understanding of the theoretical aspects of machine learning in order to practice. Hence, the best way to get started using Python for machine learning is to complete a small project.\\nIt would be highly recommended for one to try this project - \"Project Hello World of Machine Learning in Python\"\\nThis is a good project because it is so well understood.\\n*Attributes are numeric so you have to work out how to load and handle data. *It is a classification problem, allowing you to practice with perhaps an easier type of supervised learning algorithm. *It is a multi-class classification problem (multi-nominal) that may require some specialized handling. *It only has 4 attributes and 150 rows, meaning it is small and easily fits into memory (and a screen or A4 page). *All of the numeric attributes are in the same units and the same scale, not requiring any special scaling or transforms to get started.\\nFor Your Information: We are currently building an online careers portal - datasciencejobslondon for those who are aspiring to work within big data or who already work within the field and are looking for careers specifically within the areas of data science, machine learning, deep learning, data analytics, big data and statistics. If you would like to be added to our e-mail list regarding job opportunities and interesting updates please e-mail us at: info@datasciencecareer.co.uk\\nRelated Articles - Data science jobs, Data science careers, Data science graduate jobs, Machine learning jobs,\\nEmail this Article to a Friend!\\nReceive Articles like this one direct to your email box!\\nSubscribe for free today!']"
      ]
     },
     "execution_count": 23,
     "metadata": {},
     "output_type": "execute_result"
    }
   ],
   "source": [
    "info"
   ]
  },
  {
   "cell_type": "code",
   "execution_count": 24,
   "metadata": {},
   "outputs": [
    {
     "data": {
      "text/plain": [
       "['How can I become a data scientist without paying?',\n",
       " 'Where do I start if I need to learn data science from scratch....?',\n",
       " 'Which is better to study, data science or big data?',\n",
       " 'What is the difference between data science and big data..?',\n",
       " 'After learning Python how does one learn machine learning/AI?']"
      ]
     },
     "execution_count": 24,
     "metadata": {},
     "output_type": "execute_result"
    }
   ],
   "source": [
    "title"
   ]
  },
  {
   "cell_type": "code",
   "execution_count": null,
   "metadata": {},
   "outputs": [],
   "source": []
  }
 ],
 "metadata": {
  "kernelspec": {
   "display_name": "Python 3",
   "language": "python",
   "name": "python3"
  },
  "language_info": {
   "codemirror_mode": {
    "name": "ipython",
    "version": 3
   },
   "file_extension": ".py",
   "mimetype": "text/x-python",
   "name": "python",
   "nbconvert_exporter": "python",
   "pygments_lexer": "ipython3",
   "version": "3.8.5"
  }
 },
 "nbformat": 4,
 "nbformat_minor": 4
}
