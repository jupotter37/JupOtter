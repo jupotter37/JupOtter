{
 "cells": [
  {
   "cell_type": "code",
   "execution_count": null,
   "id": "47bb31bf-113a-408b-ac6a-e2662f2bb86b",
   "metadata": {},
   "outputs": [],
   "source": [
    "# Regression Analysis\n",
    "## What is regression analysis?\n",
    "### 1. Equation predicts \"unknown values\" (ie, dependent variables) based upon one or more known values (ie, independent voriable)\n",
    "### 2. Dependent variables (also called]: response, outcome/output, or larger variables (respond to changes in (another variables)\n",
    "### 3. Independent variables (also called): predictor, input, regressor, or explanatory variable(s) (predict/explain changed values of dependent variable(si\n",
    "### 4. Goal: Find the best fitting line which can accurately predict the output.\n",
    "## Dependent variables (output on y-axis) are always the ones being studied- that is, whose variations) is/are being modified someho\n",
    "## Independent variables (input on x-axis) are always the ones being manipulated, to study and compare the effects on the dependent variabl\n",
    "## Note: The designations independent and dependent variables are used to not imply \"cause and effect\" (as do \"predictor\" c \"explanatory terms)\n",
    "## Note: Based on the number of input and output variables, linear regression has three types:\n",
    "### 1. Simple linear regression (1 DV/1 IV)\n",
    "### 2. Multiple linear regression (1 DM/2 or more IVS)\n",
    "### 3. Multivariate linear regression (2 or more DVs/2 or more (Vs)\n",
    "### Simple linear regression: Only one independent variable affecting one dependent variable\n",
    "### Multiple linear regression: Two or more independent variables affecting one dependent variable.\n",
    "### Multivariate linear regression: Two or more independant variables affecting two or more dependent variables"
   ]
  },
  {
   "cell_type": "markdown",
   "id": "bf6ee2a8-722f-4b0c-8ff4-736daf0a05f1",
   "metadata": {},
   "source": [
    "# Assignment 5 - Predicitive Analysis (Multiple linear regression)\n",
    "\n",
    "## Developer: Anthony Patregnani\n",
    "\n",
    "## Course: LIS4930, Exploration into AI, Machine and Deep Learning\n",
    "\n",
    "## Semester: Summer 2023\n",
    "\n",
    "### Program Requirements:\n",
    "    1. Contrast similarities/differences among AI vs. Machine Learning vs. Deep Learning\n",
    "    2. Identify correlations\n",
    "    3. Use Seaborn (Data visualization library)\n",
    "    4. Graph Correlations\n",
    "    5. Use simple linear regression\n",
    "    6. Create linear model\n",
    "    7. Plot regression line\n",
    "    8. Make predictions - using simple linear regression model\n",
    "    9. Plot Residuals"
   ]
  },
  {
   "cell_type": "markdown",
   "id": "e437aa2f-a9b6-496b-a15c-57879b795643",
   "metadata": {},
   "source": [
    "# Import Libraries"
   ]
  },
  {
   "cell_type": "code",
   "execution_count": null,
   "id": "de726455-a23d-4c88-85ff-1081ed326292",
   "metadata": {},
   "outputs": [],
   "source": [
    "# 1. import necessary libraries\n",
    "import random\n",
    "import pandas as pd\n",
    "import matplotlib.pyplot as plt\n",
    "import seaborn as sns\n",
    "from sklearn.linear_model import LinearRegression\n",
    "from sklearn.model_selection import train_test_split"
   ]
  },
  {
   "cell_type": "markdown",
   "id": "f16a4798-5799-406a-83ca-574b244eb62b",
   "metadata": {},
   "source": [
    "# Get data - read cleaned .csv file"
   ]
  },
  {
   "cell_type": "code",
   "execution_count": null,
   "id": "cd0497fb-2830-4861-bad3-60aa921d3c56",
   "metadata": {},
   "outputs": [],
   "source": [
    "# 2. assign cleaned .csv file to \"fish\" variable\n",
    "# read the given .csv file and view some sample records\n",
    "fish = pd.read_csv(\"fish.csv\")\n",
    "\n",
    "# display first and last 5 records\n",
    "fish"
   ]
  },
  {
   "cell_type": "markdown",
   "id": "1a3183ba-4ff3-4f72-94a2-aaa5cd3bd851",
   "metadata": {},
   "source": [
    "# Clean Data"
   ]
  },
  {
   "cell_type": "code",
   "execution_count": null,
   "id": "f9593565-4d80-4a86-93eb-6fc529e74c13",
   "metadata": {},
   "outputs": [],
   "source": [
    "# 3. Remove cols to differentiate \"length\" properties, then display first 5 records\n",
    "fish.rename(columns={\"Length1\":\"VerticalLength\",\n",
    "                     \"Length2\":\"DiagonalLength\",\n",
    "                     \"Length3\":\"CrossLength\"}, inplace=True)\n",
    "fish.head()"
   ]
  },
  {
   "cell_type": "markdown",
   "id": "302093fa-2279-4ee8-875c-47f85ae14c08",
   "metadata": {},
   "source": [
    "# Analyze Dataset"
   ]
  },
  {
   "cell_type": "code",
   "execution_count": null,
   "id": "01a2f115-bde3-4535-bdc0-0ec15b62b6a2",
   "metadata": {},
   "outputs": [],
   "source": [
    "# 4. print number of rows and columns\n",
    "\n",
    "fish.shape"
   ]
  },
  {
   "cell_type": "code",
   "execution_count": null,
   "id": "a5409f9d-f867-4bc2-b3a8-0bef9d824738",
   "metadata": {},
   "outputs": [],
   "source": [
    "# 5. print dataframe info\n",
    "fish.info()"
   ]
  },
  {
   "cell_type": "code",
   "execution_count": null,
   "id": "3d71a452-4a01-4dbc-8966-d21794d8b9cb",
   "metadata": {},
   "outputs": [],
   "source": [
    "# 6. print dataframe statistics summary\n",
    "\n",
    "fish_describe = fish.describe()\n",
    "\n",
    "# format entire dataframe to two decimal places\n",
    "pd.options.display.float_format = \"{:,.2f}\".format\n",
    "\n",
    "print(fish_describe)"
   ]
  },
  {
   "cell_type": "markdown",
   "id": "5454ca0f-8977-475a-bf4c-a72e6e65bd12",
   "metadata": {},
   "source": [
    "# Identify correlations"
   ]
  },
  {
   "cell_type": "code",
   "execution_count": null,
   "id": "08cdbb9e-3f9b-443a-861c-12527db2b443",
   "metadata": {},
   "outputs": [],
   "source": [
    "# 7. Display pairwise correlations of *all* columns in dataframe\n",
    "fish.corr(numeric_only = True).head()"
   ]
  },
  {
   "cell_type": "code",
   "execution_count": null,
   "id": "fb99a675-b040-4bbc-8bd9-faecc5784733",
   "metadata": {},
   "outputs": [],
   "source": [
    "# 8. visualize data for correlations using pairplot(). y=DV(s), x=IV(s)\n",
    "sns.pairplot(fish, x_vars=[\"Height\", \"Width\", \"VerticalLength\"], y_vars=\"Weight\", height=4, aspect=1, kind='scatter')\n",
    "plt.show()"
   ]
  },
  {
   "cell_type": "code",
   "execution_count": null,
   "id": "50c23c00-07bb-4ead-822a-a4eeeeb8376b",
   "metadata": {},
   "outputs": [],
   "source": [
    "# 9. Custom Visuals\n",
    "sns.color_palette()"
   ]
  },
  {
   "cell_type": "code",
   "execution_count": null,
   "id": "405f9f93-d598-4aca-b63a-6d6fd15fa317",
   "metadata": {},
   "outputs": [],
   "source": [
    "# 10. Display color palette referenced by name\n",
    "sns.color_palette(\"pastel\")"
   ]
  },
  {
   "cell_type": "code",
   "execution_count": null,
   "id": "c570608c-603d-425e-bb88-894418120ddd",
   "metadata": {},
   "outputs": [],
   "source": [
    "# 11. display color values as hex codes\n",
    "print(sns.color_palette(\"pastel\").as_hex())"
   ]
  },
  {
   "cell_type": "code",
   "execution_count": null,
   "id": "8249daab-1a97-4e68-a37f-47b5b32dc0f5",
   "metadata": {},
   "outputs": [],
   "source": [
    "# 12. Custom Plotting\n",
    "sns.pairplot(fish, hue=\"Species\", diag_kind=\"hist\", markers=[\"o\", \"s\", \"D\", \"*\", \"<\", \"p\", \"v\"], palette=\"husl\")"
   ]
  },
  {
   "cell_type": "code",
   "execution_count": null,
   "id": "10bd970a-086c-4263-a0c6-0044822c03fd",
   "metadata": {},
   "outputs": [],
   "source": [
    "# 13. Display one attribute's correlation (\"Weight\") to all other columns in dataframe, sorted in descending order by Weight\n",
    "fish.corr(numeric_only=True)[['Weight']].sort_values(by=\"Weight\", ascending=False)"
   ]
  },
  {
   "cell_type": "code",
   "execution_count": null,
   "id": "15e0613d-0aa0-405c-9ab9-aeb1c534a85a",
   "metadata": {},
   "outputs": [],
   "source": [
    "# 14. Viually display correlations using Seaborn's heatmap() function\n",
    "\n",
    "ax=sns.heatmap(data=fish.corr(numeric_only=True), annot=True, cmap='viridis')\n",
    "ax.tick_params(axis='both', rotation=45, labelsize=8, labelcolor='blue', color='green')"
   ]
  },
  {
   "cell_type": "code",
   "execution_count": null,
   "id": "f9681ec5-e96c-4414-a5c6-4886de02e1e1",
   "metadata": {},
   "outputs": [],
   "source": [
    "# 15. Visually condense correlations of one variable to other variables\n",
    "sns.heatmap(data=fish.corr(numeric_only=True)[['Weight']].sort_values(by='Weight', ascending=False), annot=True, cmap=\"PuBuGn\", fmt=f'.2f')"
   ]
  },
  {
   "cell_type": "markdown",
   "id": "3d872e00-e11c-4564-901f-ca5434640858",
   "metadata": {},
   "source": [
    "# Create Multiple regression model\n",
    "## Multiple Regression steps\n",
    "### 1. Identify x and y. x=height, width, verticallength, and y=weight\n",
    "### 2. Create Train and Test Datasets\n",
    "### 3. Train model\n",
    "### 4. Evaluate Model"
   ]
  },
  {
   "cell_type": "code",
   "execution_count": null,
   "id": "e764d043-8ee4-484c-b32e-4ea0bcfc6515",
   "metadata": {},
   "outputs": [],
   "source": [
    "# 16. Focus on one species: Bream\n",
    "bream = fish.query('Species == \"Bream\"')"
   ]
  },
  {
   "cell_type": "code",
   "execution_count": null,
   "id": "34fb7cec-8168-4149-9dc3-bc241e21bb3d",
   "metadata": {},
   "outputs": [],
   "source": [
    "# 17. Identify x and y\n",
    "x = bream[['Height', 'Width', 'VerticalLength']]\n",
    "y = bream[['Weight']]"
   ]
  },
  {
   "cell_type": "code",
   "execution_count": null,
   "id": "43d1b378-6245-4959-94d1-6294dfa666cc",
   "metadata": {},
   "outputs": [],
   "source": [
    "# 18. Create train and test datasets\n",
    "x_train, x_test, y_train, y_test = train_test_split(x,y, train_size= 0.75, test_size=0.25, random_state= 100)"
   ]
  },
  {
   "cell_type": "code",
   "execution_count": null,
   "id": "d77de97e-7b5e-4cc3-94c6-2f9a1f152625",
   "metadata": {},
   "outputs": [],
   "source": [
    "# 19. Display x training dataset (IVs)\n",
    "x_train"
   ]
  },
  {
   "cell_type": "code",
   "execution_count": null,
   "id": "cbddad89-73f1-49ba-b407-b06f268db323",
   "metadata": {},
   "outputs": [],
   "source": [
    "# 20. Display y training dataset (DV)\n",
    "y_train/454"
   ]
  },
  {
   "cell_type": "markdown",
   "id": "979d8017-f602-4353-9fa1-24e779ab702b",
   "metadata": {},
   "source": [
    "# Fitting model: Find best fitting line -- to accurately predict output"
   ]
  },
  {
   "cell_type": "code",
   "execution_count": null,
   "id": "afae7ad7-86e2-44a5-9e3b-6afa41630936",
   "metadata": {},
   "outputs": [],
   "source": [
    "# 21. fit regression line to plot\n",
    "model = LinearRegression().fit(x_train, y_train)"
   ]
  },
  {
   "cell_type": "code",
   "execution_count": null,
   "id": "903e2778-77e6-44e5-a312-0945444e445b",
   "metadata": {},
   "outputs": [],
   "source": [
    "# 22. display R2 correlation values -- validates model through correlation score\n",
    "model.score(x_test, y_test)\n",
    "\n",
    "# 23. Predict weight and display predicted values based upon IVs\n",
    "# predict() method accepts x values from test dataset and returns predicted y values\n",
    "y_predicted = model.predict(x_test)\n",
    "\n",
    "# create \"predicted\" DataFrame with \"PredictedWeight\" column using y_predicted values\n",
    "predicted = pd.DataFrame(y_predicted, columns = ['PredictedWeight'])\n",
    "\n",
    "# display data structure and predicted weight \n",
    "predicted\n",
    "\n",
    "# 24. display data structure type and values\n",
    "x_test\n",
    "\n",
    "# 25. display data structure type and values\n",
    "y_test\n",
    "\n",
    "# 26. Join and Display all columns\n",
    "final = predicted.join([x_test.reset_index(drop=True),\n",
    "                        y_test.reset_index(drop=True)])\n",
    "\n",
    "# display PredictedWeight and actual weight\n",
    "final\n",
    "\n",
    "# Residuals \n",
    "## R2 value returned by score() method for test dataset provides good indication of regression model validity\n",
    "## Also, plotting residuals help to evaluate the models\n",
    "\n",
    "# 27. calculate and display residual values\n",
    "# Note: Residuals are simply differences between DV test values and DV predicted values\n",
    "\n",
    "final['Residuals'] = final.Weight - final.PredictedWeight\n",
    "\n",
    "final\n",
    "\n",
    "# 28. Plot residuals\n",
    "# Plot reveals that outliers affecting regression are on negative side of curve\n",
    "sns.kdeplot(data=final, x='Residuals')\n"
   ]
  },
  {
   "cell_type": "code",
   "execution_count": null,
   "id": "10610103-bfdc-4884-939d-2c7f5c427e6d",
   "metadata": {},
   "outputs": [],
   "source": []
  },
  {
   "cell_type": "code",
   "execution_count": null,
   "id": "16f1e475-9dfe-4107-a6db-32d7593ad1c9",
   "metadata": {},
   "outputs": [],
   "source": []
  },
  {
   "cell_type": "code",
   "execution_count": null,
   "id": "ac71eb5b-f79f-44b8-982e-5a0accbecbad",
   "metadata": {},
   "outputs": [],
   "source": []
  },
  {
   "cell_type": "code",
   "execution_count": null,
   "id": "a320f456-6c30-4ede-9fac-195592463a36",
   "metadata": {},
   "outputs": [],
   "source": []
  },
  {
   "cell_type": "code",
   "execution_count": null,
   "id": "98d5364d-9c86-4dd9-b4f5-cc3f255ef364",
   "metadata": {},
   "outputs": [],
   "source": []
  },
  {
   "cell_type": "code",
   "execution_count": null,
   "id": "97811be6-4aaa-4bbb-afdf-5aadc09c14f1",
   "metadata": {},
   "outputs": [],
   "source": []
  },
  {
   "cell_type": "code",
   "execution_count": null,
   "id": "a64be159-a610-4035-bb37-b0fef2205962",
   "metadata": {},
   "outputs": [],
   "source": []
  }
 ],
 "metadata": {
  "kernelspec": {
   "display_name": "Python 3 (ipykernel)",
   "language": "python",
   "name": "python3"
  },
  "language_info": {
   "codemirror_mode": {
    "name": "ipython",
    "version": 3
   },
   "file_extension": ".py",
   "mimetype": "text/x-python",
   "name": "python",
   "nbconvert_exporter": "python",
   "pygments_lexer": "ipython3",
   "version": "3.10.9"
  }
 },
 "nbformat": 4,
 "nbformat_minor": 5
}
