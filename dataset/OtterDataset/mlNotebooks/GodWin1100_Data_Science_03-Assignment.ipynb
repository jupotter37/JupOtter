{
 "cells": [
  {
   "cell_type": "markdown",
   "metadata": {},
   "source": [
    "# Machine Learning Assignment-03\n"
   ]
  },
  {
   "cell_type": "markdown",
   "metadata": {},
   "source": [
    "## 1. Explain the term machine learning, and how does it work? Explain two machine learning applications in the business world.What are some of the ethical concerns that machine learning applications could raise?\n"
   ]
  },
  {
   "cell_type": "markdown",
   "metadata": {},
   "source": [
    "- Machine Learning is a form of artificial intelligence (AI) that teaches computers to think in a similar way to how humans do: Learning and improving upon past experiences.\n",
    "- It works by exploring data and identifying patterns, and involves minimal human intervention.\n",
    "- Application in business world are Real-time chatbot agents, Decision support, customer recommendation, etc.\n",
    "- Ethical concerns that can be raised are privacy and surveillance, bias and discrimination, and role of human judgement.\n"
   ]
  },
  {
   "cell_type": "markdown",
   "metadata": {},
   "source": [
    "## 2. Describe the process of human learning:\n",
    "\n",
    "- Under the supervision of experts\n",
    "- With the assistance of experts in an indirect manner\n",
    "- Self-education\n"
   ]
  },
  {
   "cell_type": "markdown",
   "metadata": {},
   "source": [
    "- Under the supervision of experts\n",
    "  - Human-guided machine learning is a process whereby subject matter experts accelerate the learning process by teaching the technology in real-time.\n",
    "  - For example, if the machine learning model comes across a piece of data it is uncertain about, a human can be asked to weigh in and give feedback.\n",
    "- With the assistance of experts in an indirect manner\n",
    "  - an algorithm learning from the training dataset can be thought of as a teacher supervising the learning process.\n",
    "  - We know the correct answers, the algorithm iteratively makes predictions on the training data and is corrected by the teacher.\n",
    "  - Learning stops when the algorithm achieves an acceptable level of performance Operant Conditioning.\n",
    "- Self-education\n",
    "  - Ability to recognize patterns, learn from data, and become more intelligent over time (can be AI or programmatically based).\n",
    "  - Machine Learning: AI systems with ability to automatically learn and improve from experience without being explicitly programmed via training Hebbian Learning.\n"
   ]
  },
  {
   "cell_type": "markdown",
   "metadata": {},
   "source": [
    "## 3. Provide a few examples of various types of machine learning.\n"
   ]
  },
  {
   "cell_type": "markdown",
   "metadata": {},
   "source": [
    "- Example of Supervised Learning is text classification problems. In this set of problems, the goal is to predict the class label of a given piece of text. One particularly popular topic in text classification is to predict the sentiment of a piece of text, like a tweet or a product review,Image segmentation, Medical Diagnosis\n",
    "\n",
    "- Example of Unsupervised Learning : Fraud detection, Malware detection, Anomaly detection, Clustering Analysis, Identification of human errors during data entry Conducting accurate basket analysis, etc.\n",
    "\n",
    "- Example of Reinforcement Learning : Applications in self-driving cars, Industry automation, learning-based robots are used to perform various tasks.\n"
   ]
  },
  {
   "cell_type": "markdown",
   "metadata": {},
   "source": [
    "## 4. Examine the various forms of machine learning.\n"
   ]
  },
  {
   "cell_type": "markdown",
   "metadata": {},
   "source": [
    "- Supervised Learning\n",
    "- Unsupervised Learning\n",
    "- Reinforcement Learning\n"
   ]
  },
  {
   "cell_type": "markdown",
   "metadata": {},
   "source": [
    "## 5. Can you explain what a well-posed learning problem is? Explain the main characteristics that must be present to identify a learning problem properly.\n"
   ]
  },
  {
   "cell_type": "markdown",
   "metadata": {},
   "source": [
    "- Well Posed Learning Problem – A computer program is said to learn from experience E in context to some task T and some performance measure P, if its performance on T, as was measured by P, upgrades with experience E.\n",
    "- Any problem can be segregated as well-posed learning problem if it has three traits – Task, Performance and Experience.\n"
   ]
  },
  {
   "cell_type": "markdown",
   "metadata": {},
   "source": [
    "## 6. Is machine learning capable of solving all problems? Give a detailed explanation of your answer.\n"
   ]
  },
  {
   "cell_type": "markdown",
   "metadata": {},
   "source": [
    "- Machine Learning probably can run into all problems for solving but lays down with some concerns which are:\n",
    "- Ethics:\n",
    "  - The idea of trusting data and algorithms more than our own judgment has its pros and cons.Obviously, we benefit from these algorithms, otherwise, we wouldn’t be using them in the first place.\n",
    "  - These algorithms allow us to automate processes by making informed judgments using available data.\n",
    "  - Sometimes, however, this means replacing someone’s job with an algorithm, which comes with ethical ramifications.\n",
    "- Deterministic Problem:\n",
    "  - Machine learning is stochastic, not deterministic.\n",
    "  - A neural network does not understand Newton’s second law, or that density cannot be negative — there are no physical constraints.\n",
    "- Lack of Data:\n",
    "  - Many machine learning algorithms require large amounts of data before they begin to give useful results.\n"
   ]
  },
  {
   "cell_type": "markdown",
   "metadata": {},
   "source": [
    "## 7. What are the various methods and technologies for solving machine learning problems? Any two of them should be defined in detail.\n"
   ]
  },
  {
   "cell_type": "markdown",
   "metadata": {},
   "source": [
    "- The Various Technologies Used in Machine Learning Problems are: Scikit Learn, Pytorch, Tensorflow, Keras, Python.\n",
    "\n",
    "- Scikit Learn: Scikit-learn (Sklearn) is the most useful and robust library for machine learning in Python. It provides a selection of efficient tools for machine learning and statistical modeling including classification, Regression, clustering and dimensionality reduction via a consistence interface in Python.\n",
    "\n",
    "- Tensorflow: It is a open source artificial intelligence library, Using data flow graphs to build models. It allows developers to create large-scale neural networks with many layers. TensorFlow is mainly used for: Classification, Perception, Understanding, Discovering, Prediction and Creation.\n"
   ]
  },
  {
   "cell_type": "markdown",
   "metadata": {},
   "source": [
    "## 8. Can you explain the various forms of supervised learning? Explain each one with an example application.\n"
   ]
  },
  {
   "cell_type": "markdown",
   "metadata": {},
   "source": [
    "- **Regression:** In regression, a single output value is produced using training data.For example, regression can help predict the price of a house based on its locality, size, etc.\n",
    "\n",
    "- **Classification:** It involves grouping the data into classes.eg. If you are thinking of extending credit to a person, you can use classification to determine whether or not a person would be a loan defaulter.\n",
    "\n",
    "- **Naive Bayesian Model:** The Bayesian model of classification is used for large finite datasets. It is a method of assigning class labels using a direct acyclic graph.\n",
    "\n",
    "- **Decision Trees:** A decision tree is a flowchart-like model that contains conditional control statements, comprising decisions and their probable consequences. The output relates to the labelling of unforeseen data.\n"
   ]
  },
  {
   "cell_type": "markdown",
   "metadata": {},
   "source": [
    "## 9. What is the difference between supervised and unsupervised learning? With a sample application in each region, explain the differences.\n"
   ]
  },
  {
   "cell_type": "markdown",
   "metadata": {},
   "source": [
    "- Supervised earning algorithms are trained using labeled data.\n",
    "- Unsupervised learning algorithms are trained using unlabeled data.In unsupervised learning, only input data is provided to the model.\n",
    "- Examples:\n",
    "  - Supervised Learning : Classification and Regression.\n",
    "  - Unsupervised Learning : Clustering.\n"
   ]
  },
  {
   "cell_type": "markdown",
   "metadata": {},
   "source": [
    "## 10. Describe the machine learning process in depth.\n",
    "\n",
    "- Make brief notes on any two of the following:\n",
    "  - MATLAB is one of the most widely used programming languages.\n",
    "  - Deep learning applications in healthcare\n",
    "  - Study of the market basket\n",
    "  - Linear regression (simple)\n"
   ]
  },
  {
   "cell_type": "markdown",
   "metadata": {},
   "source": [
    "- Imagine a dataset as a table, where the rows are each observation (aka measurement, data point, etc), and the columns for each observation represent the features of that observation and their values.\n",
    "- At the outset of a machine learning project, a dataset is usually split into two or three subsets.\n",
    "- The minimum subsets are the training and test datasets, and often an optional third validation dataset is created as well.\n",
    "- Once these data subsets are created from the primary dataset, a predictive model or classifier is trained using the training data, and then the model’s predictive accuracy is determined using the test data.\n",
    "- As, machine learning leverages algorithms to automatically model and find patterns in data, usually with the goal of predicting some target output or response.\n",
    "- These algorithms are heavily based on statistics and mathematical optimization.\n",
    "- Optimization is the process of finding the smallest or largest value (minima or maxima) of a function, often referred to as a loss, or cost function in the minimization case.\n",
    "- One of the most popular optimization algorithms used in machine learning is called gradient descent, and another is known as the the normal equation.\n",
    "- In a nutshell, machine learning is all about automatically learning a highly accurate predictive or classifier model, or finding unknown patterns in data, by leveraging learning algorithms and optimization techniques.\n",
    "\n",
    "---\n",
    "\n",
    "- **Deep learning applications in healthcare:** Deep learning provides the healthcare industry with the ability to analyze data at exceptional speeds without compromising on accuracy. It’s not machine learning, nor is it AI, it’s an elegant blend of both that uses a layered algorithmic architecture to sift through data at an astonishing rate. The benefits of deep learning in healthcare are plentiful – fast, efficient, accurate – but they don’t stop there. Even more benefits lie within the neural networks formed by multiple layers of AI and ML and their ability to learn. Yes, the secret to deep learning’s success is in the name – learning.\n",
    "\n",
    "- **Linear regression (simple):** Linear Regression models describe the relationship between variables by fitting a line to the observed data. Linear regression models use a straight line, while logistic and nonlinear regression models use a curved line. Regression allows you to estimate how a dependent variable changes as the independent variable(s) change\n"
   ]
  },
  {
   "cell_type": "markdown",
   "metadata": {},
   "source": [
    "## 11. Make a comparison between:-\n",
    "\n",
    "- Generalization and abstraction\n",
    "- Learning that is guided and unsupervised\n",
    "- Regression and classification\n"
   ]
  },
  {
   "cell_type": "markdown",
   "metadata": {},
   "source": [
    "- **Generalization and abstraction:** Abstraction is the process of removing details of objects. And Generalization, then, is the formulation of general concepts from specific instances by abstracting common properties. A concrete object can be looked at as a “subset” of a more generalized object.\n",
    "\n",
    "- **Learning that is guided and Unsupervised:** Supervised learning is the method that trains machines to use data that is well classified and labeled. Whereas Unsupervised learning, on the other hand, is the method that trains machines to use data that is neither classified nor labeled.\n",
    "\n",
    "- **Regression and classification:**\n",
    "\n",
    "  - **Classification Models –** Classification models are used for problems where the output variable can be categorized, such as Yes or No, or Pass or Fail. Classification Models are used to predict the category of the data. Real-life examples include spam detection, sentiment analysis, scorecard prediction of exams, etc.\n",
    "  - **Regression Models –** Regression models are used for problems where the output variable is a real value such as a unique number, dollars, salary, weight or pressure, for example. It is most often used to predict numerical values based on previous data observations. Some of the more familiar regression algorithms include linear regression, logistic regression, polynomial regression, and ridge regression.\n"
   ]
  }
 ],
 "metadata": {
  "kernelspec": {
   "display_name": "Python 3.10.4 64-bit",
   "language": "python",
   "name": "python3"
  },
  "language_info": {
   "name": "python",
   "version": "3.10.4"
  },
  "orig_nbformat": 4,
  "vscode": {
   "interpreter": {
    "hash": "2e4a015a5e8b3d416719d76fc156fe7e163a5f8678adc2f1ead049a4ae2a6091"
   }
  }
 },
 "nbformat": 4,
 "nbformat_minor": 2
}
