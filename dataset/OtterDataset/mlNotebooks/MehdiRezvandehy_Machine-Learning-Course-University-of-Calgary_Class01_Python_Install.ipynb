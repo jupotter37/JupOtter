{
 "cells": [
  {
   "cell_type": "markdown",
   "metadata": {
    "toc": true
   },
   "source": [
    "<h1>Table of Contents<span class=\"tocSkip\"></span></h1>\n",
    "<div class=\"toc\"><ul class=\"toc-item\"><li><span><a href=\"#Machine-Learning-–-Energy-Systems-Course-at-University-of-Calgary\" data-toc-modified-id=\"Machine-Learning-–-Energy-Systems-Course-at-University-of-Calgary-1\"><span class=\"toc-item-num\">1&nbsp;&nbsp;</span>Machine Learning – Energy Systems Course at University of Calgary</a></span></li><li><span><a href=\"#Python\" data-toc-modified-id=\"Python-2\"><span class=\"toc-item-num\">2&nbsp;&nbsp;</span>Python</a></span><ul class=\"toc-item\"><li><span><a href=\"#Installing-Python\" data-toc-modified-id=\"Installing-Python-2.1\"><span class=\"toc-item-num\">2.1&nbsp;&nbsp;</span>Installing Python</a></span></li></ul></li><li><span><a href=\"#Installing-Jupyter-and-Required-Modules\" data-toc-modified-id=\"Installing-Jupyter-and-Required-Modules-3\"><span class=\"toc-item-num\">3&nbsp;&nbsp;</span>Installing Jupyter and Required Modules</a></span></li><li><span><a href=\"#Launch-Jupyter-Notebook\" data-toc-modified-id=\"Launch-Jupyter-Notebook-4\"><span class=\"toc-item-num\">4&nbsp;&nbsp;</span>Launch Jupyter Notebook</a></span><ul class=\"toc-item\"><li><span><a href=\"#Launch-Jupyter-Notebook-in-a-Specific-Folder\" data-toc-modified-id=\"Launch-Jupyter-Notebook-in-a-Specific-Folder-4.1\"><span class=\"toc-item-num\">4.1&nbsp;&nbsp;</span>Launch Jupyter Notebook in a Specific Folder</a></span></li></ul></li><li><span><a href=\"#Summary\" data-toc-modified-id=\"Summary-5\"><span class=\"toc-item-num\">5&nbsp;&nbsp;</span>Summary</a></span></li></ul></div>"
   ]
  },
  {
   "cell_type": "markdown",
   "metadata": {},
   "source": [
    "# Machine Learning – Energy Systems Course at University of Calgary\n",
    "\n",
    "* Instructor: [Mehdi Rezvandehy](https://www.linkedin.com/in/mehdi-rezvandehy-ph-d-70a40b52/)"
   ]
  },
  {
   "cell_type": "markdown",
   "metadata": {},
   "source": [
    "# Python\n",
    "Python is interpreted as high level programming language and widely used for data science (machine learning, deep learning), numerical analysis, web programming, scripting, visualization, high performance computing managing. It is easy to learn (compared with other programing language, and freely distributed (open source). Python can be run on Windows, Linux, Mac...\n",
    "\n",
    "## Installing Python\n",
    "\n",
    "Anaconda distribution of Python is recommended since it already contains many data science packages. Anaconda is free (the download is large and take time) and can be installed on work or school or personal computers. Anaconda comes bundled with about pre-installed 600 packages. Download the latest version of Python 3 (As of August 2020, 3.8) from [Anaconda.com/downloads](https://www.anaconda.com/products/individual) and install it on your computer (only press next).\n",
    "\n",
    "<p>&nbsp;</p>\n",
    "<img src=\"https://raw.githubusercontent.com/MehdiRezvandehy/Machine-Learning-Course-University-of-Calgary/master/Images/Fig2-1.png \" alt=\"drawing\" width=\"900\"/>\n",
    "<p>&nbsp;</p>"
   ]
  },
  {
   "cell_type": "markdown",
   "metadata": {},
   "source": [
    "# Installing Jupyter and Required Modules\n",
    "\n",
    "The Jupyter notebook is an open-source web application that allows you to create and share documents that contain live code, equations, visualizations and narrative text. Jupyter Notebooks Allow Python and Markdown to coexist. We can write LaTeX equation in Jupyter notebook:\n",
    "\n",
    "$ f'(x) = \\lim_{a\\to0} \\frac{f(x+a) - f(x)}{a}. $\n",
    "\n",
    "\n",
    "Jupyter notebooks will be frequently used in this course. It should be installed into your base Python environment. Go to Windows Start menu, type *Anaconda Prompt (Anaconda3)*, right click on that and select *Run as administrator* to launch the anaconda console (see Figure below).\n",
    "Check to see if pip (pip is a package manager for Python packages, or modules) is installed by typing this command in the anaconda console and press enter: **pip3 --version**\n",
    "\n",
    "<p>&nbsp;</p>\n",
    "<img src=\"https://raw.githubusercontent.com/MehdiRezvandehy/Machine-Learning-Course-University-of-Calgary/master/Images/Fig2-2.png \" alt=\"drawing\" width=\"650\"/>\n",
    "<p>&nbsp;</p>\n",
    "\n",
    "Make sure that you have a recent version of pip installed. To upgrade the pip module, type this command in the anaconda console and press enter: **pip3 install --upgrade pip** \n",
    "\n",
    "Now install and upgrade all required modules and their dependencies by typing this command in the anaconda console:\n",
    "**pip3 install --upgrade jupyter matplotlib numpy pandas scipy scikit-learn**\n",
    "\n",
    "It may take a few minutes to complete. Try to import every module to check installation:\n",
    "\n",
    "**python -c \"import jupyter, matplotlib, numpy, pandas, scipy, sklearn\"**\n",
    "\n",
    "There should be no error and no output in console after pressing enter.\n"
   ]
  },
  {
   "cell_type": "markdown",
   "metadata": {},
   "source": [
    "# Launch Jupyter Notebook\n",
    "\n",
    "Install jupyter_nbextensions_configurator by typing this command in the anaconda console and press enter:\n",
    "\n",
    "**pip install jupyter_nbextensions_configurator**\n",
    "\n",
    "\n",
    "Type **jupyter notebook** in the anaconda console and press enter to pop up empty workspace. Now create a new Python notebook by clicking on the New button (and selecting the appropriate Python version) (see numbers 1 and 2 in Figure blow).\n",
    "\n",
    "A new notebook file called *Untitled.ipynb* is created in your workspace; it also starts a Jupyter Python kernel to run this notebook; and, this notebook opens in a new tab. This notebook can be renamed to “Script” (this automatically rename the file to Script.ipynb) by clicking Untitled and typing the new name (see number 3 in Figure blow). A notebook has a list of cells. Each cell can include executable code or formatted text. The notebook contains only one empty code cell when it is launched first (see Figure below for labeled **In [1]:**. Now type **print(\"Hello world!\")** in the cell (see number 4 in Figure blow), and click on the play button (see number 5 in Figure blow) or *press Shift-Enter*. This sends the current cell to this notebook’s Python kernel, which runs it and returns the output. The result is displayed below the cell, a new cell is automatically created since reaching the end of the notebook [Aurélien Géron, 2019](\n",
    "https://ucalgary-primo.hosted.exlibrisgroup.com/primo-explore/fulldisplay?docid=01UCALG_ALMA51737332320004336&context=L&vid=UCALGARY&lang=en_US&search_scope=EVERYTHING&adaptor=Local%20Search%20Engine&tab=everything&query=any,contains,Hands-On%20Machine%20Learning%20with%20Scikit-Learn%20%20Keras).\n",
    "\n",
    "<p>&nbsp;</p>\n",
    "<img src=\"https://raw.githubusercontent.com/MehdiRezvandehy/Machine-Learning-Course-University-of-Calgary/master/Images/Fig2-3.png \" alt=\"drawing\" width=\"900\"/>"
   ]
  },
  {
   "cell_type": "markdown",
   "metadata": {},
   "source": [
    "## Launch Jupyter Notebook in a Specific Folder\n",
    "\n",
    "If you want to launch a new or previously saved notebook in a specific directory, go to Windows Start menu and type *Anaconda Prompt (Anaconda3)* to launch the anaconda console: you can pin Anaconda Prompt to taskbar (see Figure below).\n",
    "\n",
    "\n",
    "Then, if you want to change drive type this command: drive name:. For example, if you want to go from drive C to F, type **F:** (see Figure below). Then, if you want to a folder, type **cd** folder's name. For example, Figure below shows how to launch a new notebook in drive F, folder Python.\n",
    "\n",
    "<p>&nbsp;</p>\n",
    "<img src=\"https://raw.githubusercontent.com/MehdiRezvandehy/Machine-Learning-Course-University-of-Calgary/master/Images/Fig2-4.png \" alt=\"drawing\" width=\"900\"/>\n",
    "<p>&nbsp;</p>"
   ]
  },
  {
   "cell_type": "markdown",
   "metadata": {},
   "source": [
    "# Summary "
   ]
  },
  {
   "cell_type": "markdown",
   "metadata": {},
   "source": [
    "Software that will be used in this course:\n",
    "\n",
    "* **Pandas** - Allows for data preprocessing. More information [here](http://pandas.pydata.org/pandas-docs/version/0.18.1/tutorials.html) (already installed).\n",
    "\n",
    "\n",
    "* **Scikit-Learn** is very easy and straightforward to use: it implements many Machine Learning algorithms efficiently, thereby it makes for a great entry point to learning Machine Learning. More information [here](http://scikit-learn.org/stable/tutorial/basic/tutorial.html) (already installed). \n",
    "\n",
    "\n",
    "* **TensorFlow** is Googles deep learning framework and makes it possible to train and run very large neural networks efficiently. TensorFlow was created at Google and supports many of its large-scale Machine Learning applications. TensorFlow was open sourced in November 2015. To install TensorFlow, type this command in the anaconda console: **python -m pip install --upgrade tensorflow**\n",
    "\n",
    "\n",
    "* **Keras** is a high-level Deep Learning API that makes it very simple to train and run neural networks. It can run on top of TensorFlow (already installed)."
   ]
  }
 ],
 "metadata": {
  "kernelspec": {
   "display_name": "Python 3",
   "language": "python",
   "name": "python3"
  },
  "language_info": {
   "codemirror_mode": {
    "name": "ipython",
    "version": 3
   },
   "file_extension": ".py",
   "mimetype": "text/x-python",
   "name": "python",
   "nbconvert_exporter": "python",
   "pygments_lexer": "ipython3",
   "version": "3.8.3"
  },
  "toc": {
   "base_numbering": 1,
   "nav_menu": {},
   "number_sections": true,
   "sideBar": true,
   "skip_h1_title": false,
   "title_cell": "Table of Contents",
   "title_sidebar": "Contents",
   "toc_cell": true,
   "toc_position": {
    "height": "calc(100% - 180px)",
    "left": "10px",
    "top": "150px",
    "width": "290px"
   },
   "toc_section_display": true,
   "toc_window_display": true
  },
  "varInspector": {
   "cols": {
    "lenName": 16,
    "lenType": 16,
    "lenVar": 40
   },
   "kernels_config": {
    "python": {
     "delete_cmd_postfix": "",
     "delete_cmd_prefix": "del ",
     "library": "var_list.py",
     "varRefreshCmd": "print(var_dic_list())"
    },
    "r": {
     "delete_cmd_postfix": ") ",
     "delete_cmd_prefix": "rm(",
     "library": "var_list.r",
     "varRefreshCmd": "cat(var_dic_list()) "
    }
   },
   "types_to_exclude": [
    "module",
    "function",
    "builtin_function_or_method",
    "instance",
    "_Feature"
   ],
   "window_display": false
  }
 },
 "nbformat": 4,
 "nbformat_minor": 4
}
