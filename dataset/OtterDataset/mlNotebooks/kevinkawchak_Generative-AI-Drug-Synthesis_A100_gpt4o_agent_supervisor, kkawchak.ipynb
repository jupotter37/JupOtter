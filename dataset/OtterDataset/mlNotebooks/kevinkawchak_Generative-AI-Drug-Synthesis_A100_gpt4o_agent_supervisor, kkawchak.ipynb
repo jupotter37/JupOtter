{
  "cells": [
    {
      "cell_type": "markdown",
      "id": "a3e3ebc4-57af-4fe4-bdd3-36aff67bf276",
      "metadata": {
        "id": "a3e3ebc4-57af-4fe4-bdd3-36aff67bf276"
      },
      "source": [
        "## Agent Supervisor\n",
        "\n",
        "The [previous example](multi-agent-collaboration.ipynb) routed messages automatically based on the output of the initial researcher agent.\n",
        "\n",
        "We can also choose to use an LLM to orchestrate the different agents.\n",
        "\n",
        "Below, we will create an agent group, with an agent supervisor to help delegate tasks.\n",
        "\n",
        "![diagram](./img/supervisor-diagram.png)\n",
        "\n",
        "To simplify the code in each agent node, we will use the AgentExecutor class from LangChain. This and other \"advanced agent\" notebooks are designed to show how you can implement certain design patterns in LangGraph. If the pattern suits your needs, we recommend combining it with some of the other fundamental patterns described elsewhere in the docs for best performance.\n",
        "\n",
        "Before we build, let's configure our environment:"
      ]
    },
    {
      "cell_type": "code",
      "execution_count": 1,
      "id": "0d30b6f7-3bec-4d9f-af50-43dfdc81ae6c",
      "metadata": {
        "id": "0d30b6f7-3bec-4d9f-af50-43dfdc81ae6c"
      },
      "outputs": [],
      "source": [
        "%%capture --no-stderr\n",
        "%pip install -U langchain langchain_openai langchain_experimental langsmith pandas langgraph"
      ]
    },
    {
      "cell_type": "code",
      "execution_count": 2,
      "id": "30c2f3de-c730-4aec-85a6-af2c2f058803",
      "metadata": {
        "id": "30c2f3de-c730-4aec-85a6-af2c2f058803"
      },
      "outputs": [],
      "source": [
        "import getpass\n",
        "import os\n",
        "\n",
        "os.environ['OPENAI_API_KEY'] = ''\n",
        "os.environ['TAVILY_API_KEY'] = ''\n",
        "\n",
        "# Optional, add tracing in LangSmith\n",
        "os.environ[\"LANGCHAIN_TRACING_V2\"] = \"true\"\n",
        "os.environ['LANGCHAIN_ENDPOINT'] = 'https://api.smith.langchain.com'\n",
        "os.environ[\"LANGCHAIN_PROJECT\"] = \"Agent Supervisor\"\n",
        "os.environ['LANGCHAIN_API_KEY'] = ''"
      ]
    },
    {
      "cell_type": "markdown",
      "id": "1ac25624-4d83-45a4-b9ef-a10589aacfb7",
      "metadata": {
        "id": "1ac25624-4d83-45a4-b9ef-a10589aacfb7"
      },
      "source": [
        "## Create tools\n",
        "\n",
        "For this example, you will make an agent to do web research with a search engine, and one agent to create plots. Define the tools they'll use below:"
      ]
    },
    {
      "cell_type": "code",
      "execution_count": 3,
      "id": "f04c6778-403b-4b49-9b93-678e910d5cec",
      "metadata": {
        "id": "f04c6778-403b-4b49-9b93-678e910d5cec"
      },
      "outputs": [],
      "source": [
        "from typing import Annotated, List, Tuple, Union\n",
        "\n",
        "from langchain_community.tools.tavily_search import TavilySearchResults\n",
        "from langchain_core.tools import tool\n",
        "from langchain_experimental.tools import PythonREPLTool\n",
        "\n",
        "tavily_tool = TavilySearchResults(max_results=5)\n",
        "\n",
        "# This executes code locally, which can be unsafe\n",
        "python_repl_tool = PythonREPLTool()"
      ]
    },
    {
      "cell_type": "markdown",
      "id": "d58d1e85-22d4-4c22-9062-72a346a0d709",
      "metadata": {
        "id": "d58d1e85-22d4-4c22-9062-72a346a0d709"
      },
      "source": [
        "## Helper Utilities\n",
        "\n",
        "Define a helper function below, which make it easier to add new agent worker nodes."
      ]
    },
    {
      "cell_type": "code",
      "execution_count": 4,
      "id": "c4823dd9-26bd-4e1a-8117-b97b2860211a",
      "metadata": {
        "id": "c4823dd9-26bd-4e1a-8117-b97b2860211a"
      },
      "outputs": [],
      "source": [
        "from langchain.agents import AgentExecutor, create_openai_tools_agent\n",
        "from langchain_core.messages import BaseMessage, HumanMessage\n",
        "from langchain_openai import ChatOpenAI\n",
        "\n",
        "\n",
        "def create_agent(llm: ChatOpenAI, tools: list, system_prompt: str):\n",
        "    # Each worker node will be given a name and some tools.\n",
        "    prompt = ChatPromptTemplate.from_messages(\n",
        "        [\n",
        "            (\n",
        "                \"system\",\n",
        "                system_prompt,\n",
        "            ),\n",
        "            MessagesPlaceholder(variable_name=\"messages\"),\n",
        "            MessagesPlaceholder(variable_name=\"agent_scratchpad\"),\n",
        "        ]\n",
        "    )\n",
        "    agent = create_openai_tools_agent(llm, tools, prompt)\n",
        "    executor = AgentExecutor(agent=agent, tools=tools)\n",
        "    return executor"
      ]
    },
    {
      "cell_type": "markdown",
      "id": "b7c302b0-cd57-4913-986f-5dc7d6d77386",
      "metadata": {
        "id": "b7c302b0-cd57-4913-986f-5dc7d6d77386"
      },
      "source": [
        "We can also define a function that we will use to be the nodes in the graph - it takes care of converting the agent response to a human message. This is important because that is how we will add it the global state of the graph"
      ]
    },
    {
      "cell_type": "code",
      "execution_count": 5,
      "id": "80862241-a1a7-4726-bce5-f867b233832e",
      "metadata": {
        "id": "80862241-a1a7-4726-bce5-f867b233832e"
      },
      "outputs": [],
      "source": [
        "def agent_node(state, agent, name):\n",
        "    result = agent.invoke(state)\n",
        "    return {\"messages\": [HumanMessage(content=result[\"output\"], name=name)]}"
      ]
    },
    {
      "cell_type": "markdown",
      "id": "d32962d2-5487-496d-aefc-2a3b0d194985",
      "metadata": {
        "id": "d32962d2-5487-496d-aefc-2a3b0d194985"
      },
      "source": [
        "### Create Agent Supervisor\n",
        "\n",
        "It will use function calling to choose the next worker node OR finish processing."
      ]
    },
    {
      "cell_type": "code",
      "execution_count": 6,
      "id": "311f0a58-b425-4496-adac-dc4cd8ffb912",
      "metadata": {
        "id": "311f0a58-b425-4496-adac-dc4cd8ffb912"
      },
      "outputs": [],
      "source": [
        "from langchain_core.prompts import ChatPromptTemplate, MessagesPlaceholder\n",
        "from langchain_core.output_parsers.openai_functions import JsonOutputFunctionsParser\n",
        "\n",
        "members = [\"Researcher\", \"Coder\"]\n",
        "system_prompt = (\n",
        "    \"You are a supervisor tasked with managing a conversation between the\"\n",
        "    \" following workers:  {members}. Given the following user request,\"\n",
        "    \" respond with the worker to act next. Each worker will perform a\"\n",
        "    \" task and respond with their results and status. When finished,\"\n",
        "    \" respond with FINISH.\"\n",
        ")\n",
        "# Our team supervisor is an LLM node. It just picks the next agent to process\n",
        "# and decides when the work is completed\n",
        "options = [\"FINISH\"] + members\n",
        "# Using openai function calling can make output parsing easier for us\n",
        "function_def = {\n",
        "    \"name\": \"route\",\n",
        "    \"description\": \"Select the next role.\",\n",
        "    \"parameters\": {\n",
        "        \"title\": \"routeSchema\",\n",
        "        \"type\": \"object\",\n",
        "        \"properties\": {\n",
        "            \"next\": {\n",
        "                \"title\": \"Next\",\n",
        "                \"anyOf\": [\n",
        "                    {\"enum\": options},\n",
        "                ],\n",
        "            }\n",
        "        },\n",
        "        \"required\": [\"next\"],\n",
        "    },\n",
        "}\n",
        "prompt = ChatPromptTemplate.from_messages(\n",
        "    [\n",
        "        (\"system\", system_prompt),\n",
        "        MessagesPlaceholder(variable_name=\"messages\"),\n",
        "        (\n",
        "            \"system\",\n",
        "            \"Given the conversation above, who should act next?\"\n",
        "            \" Or should we FINISH? Select one of: {options}\",\n",
        "        ),\n",
        "    ]\n",
        ").partial(options=str(options), members=\", \".join(members))\n",
        "\n",
        "llm = ChatOpenAI(model=\"gpt-4o-2024-05-13\")\n",
        "\n",
        "supervisor_chain = (\n",
        "    prompt\n",
        "    | llm.bind_functions(functions=[function_def], function_call=\"route\")\n",
        "    | JsonOutputFunctionsParser()\n",
        ")"
      ]
    },
    {
      "cell_type": "markdown",
      "id": "a07d507f-34d1-4f1b-8dde-5e58d17b2166",
      "metadata": {
        "id": "a07d507f-34d1-4f1b-8dde-5e58d17b2166"
      },
      "source": [
        "## Construct Graph\n",
        "\n",
        "We're ready to start building the graph. Below, define the state and worker nodes using the function we just defined."
      ]
    },
    {
      "cell_type": "code",
      "execution_count": 7,
      "id": "6a430af7-8fce-4e66-ba9e-d940c1bc48e8",
      "metadata": {
        "id": "6a430af7-8fce-4e66-ba9e-d940c1bc48e8"
      },
      "outputs": [],
      "source": [
        "import operator\n",
        "from typing import Annotated, Any, Dict, List, Optional, Sequence, TypedDict\n",
        "import functools\n",
        "\n",
        "from langchain_core.prompts import ChatPromptTemplate, MessagesPlaceholder\n",
        "from langgraph.graph import StateGraph, END\n",
        "\n",
        "\n",
        "# The agent state is the input to each node in the graph\n",
        "class AgentState(TypedDict):\n",
        "    # The annotation tells the graph that new messages will always\n",
        "    # be added to the current states\n",
        "    messages: Annotated[Sequence[BaseMessage], operator.add]\n",
        "    # The 'next' field indicates where to route to next\n",
        "    next: str\n",
        "\n",
        "\n",
        "research_agent = create_agent(llm, [tavily_tool], \"You are a web researcher.\")\n",
        "research_node = functools.partial(agent_node, agent=research_agent, name=\"Researcher\")\n",
        "\n",
        "# NOTE: THIS PERFORMS ARBITRARY CODE EXECUTION. PROCEED WITH CAUTION\n",
        "code_agent = create_agent(\n",
        "    llm,\n",
        "    [python_repl_tool],\n",
        "    \"You may generate safe python code to analyze data and generate charts using matplotlib.\",\n",
        ")\n",
        "code_node = functools.partial(agent_node, agent=code_agent, name=\"Coder\")\n",
        "\n",
        "workflow = StateGraph(AgentState)\n",
        "workflow.add_node(\"Researcher\", research_node)\n",
        "workflow.add_node(\"Coder\", code_node)\n",
        "workflow.add_node(\"supervisor\", supervisor_chain)"
      ]
    },
    {
      "cell_type": "markdown",
      "id": "2c1593d5-39f7-4819-96d2-4ad7d7991d72",
      "metadata": {
        "id": "2c1593d5-39f7-4819-96d2-4ad7d7991d72"
      },
      "source": [
        "Now connect all the edges in the graph."
      ]
    },
    {
      "cell_type": "code",
      "execution_count": 8,
      "id": "14778e86-077b-4e6a-893c-400e59b0cdbf",
      "metadata": {
        "id": "14778e86-077b-4e6a-893c-400e59b0cdbf"
      },
      "outputs": [],
      "source": [
        "for member in members:\n",
        "    # We want our workers to ALWAYS \"report back\" to the supervisor when done\n",
        "    workflow.add_edge(member, \"supervisor\")\n",
        "# The supervisor populates the \"next\" field in the graph state\n",
        "# which routes to a node or finishes\n",
        "conditional_map = {k: k for k in members}\n",
        "conditional_map[\"FINISH\"] = END\n",
        "workflow.add_conditional_edges(\"supervisor\", lambda x: x[\"next\"], conditional_map)\n",
        "# Finally, add entrypoint\n",
        "workflow.set_entry_point(\"supervisor\")\n",
        "\n",
        "graph = workflow.compile()"
      ]
    },
    {
      "cell_type": "markdown",
      "id": "d36496de-7121-4c49-8cb6-58c943c66628",
      "metadata": {
        "id": "d36496de-7121-4c49-8cb6-58c943c66628"
      },
      "source": [
        "## Invoke the team\n",
        "\n",
        "With the graph created, we can now invoke it and see how it performs!"
      ]
    },
    {
      "cell_type": "code",
      "execution_count": 9,
      "id": "56ba78e9-d9c1-457c-a073-d606d5d3e013",
      "metadata": {
        "colab": {
          "base_uri": "https://localhost:8080/",
          "height": 0
        },
        "id": "56ba78e9-d9c1-457c-a073-d606d5d3e013",
        "outputId": "56ca0e53-0289-4dd3-c9fd-a84271285ea9"
      },
      "outputs": [
        {
          "output_type": "stream",
          "name": "stdout",
          "text": [
            "{'supervisor': {'next': 'Researcher'}}\n",
            "----\n",
            "{'Researcher': {'messages': [HumanMessage(content=\"Here are some recent developments in the use of generative AI for drug discovery in cancer research:\\n\\n1. **Mayo Clinic's Hypothesis-Driven AI**:\\n   - Researchers at Mayo Clinic have developed a new class of AI that targets specific hypotheses or research questions. This AI can be used in various cancer research applications such as tumor classification, patient stratification, cancer gene discovery, drug response prediction, and tumor spatial organization. [Source](https://cancerblog.mayoclinic.org/2024/04/30/mayo-researchers-invented-a-new-class-of-ai-to-improve-cancer-research-and-treatments/)\\n\\n2. **University of California - San Diego's AI Tool**:\\n   - Scientists at UC San Diego have developed an AI tool that generates new drug candidates for cancer, potentially streamlining the drug discovery process. This tool helps synthesize potential multi-target cancer drugs by simulating the time-consuming chemistry involved in the early phases of drug discovery. [Source](https://www.sciencedaily.com/releases/2024/05/240506131601.htm)\\n\\n3. **University of Oxford's Generative AI**:\\n   - Researchers at the University of Oxford are using generative AI combined with surrogate models to transform drug discovery, assisting scientists in developing new treatments more efficiently. [Source](https://www.nature.com/articles/d43747-023-00029-9.pdf)\\n\\n4. **Insilico Medicine's AI-Driven Drug Discovery**:\\n   - Insilico Medicine, a clinical-stage company, has successfully used generative AI to discover potent, selective drug candidates. This advancement highlights the potential of AI-driven approaches in identifying effective cancer treatments. [Source](https://www.eurekalert.org/news-releases/1044593)\\n\\nThese examples illustrate the significant impact of generative AI on cancer drug discovery, accelerating the development of new treatments and improving the precision of cancer research.\", name='Researcher')]}}\n",
            "----\n",
            "{'supervisor': {'next': 'Coder'}}\n",
            "----\n"
          ]
        },
        {
          "output_type": "stream",
          "name": "stderr",
          "text": [
            "WARNING:langchain_experimental.utilities.python:Python REPL can execute arbitrary code. Use with caution.\n"
          ]
        },
        {
          "output_type": "stream",
          "name": "stdout",
          "text": [
            "{'Coder': {'messages': [HumanMessage(content=\"Here are some recent developments in the use of generative AI for drug discovery in cancer research:\\n\\n1. **Mayo Clinic's Hypothesis-Driven AI**:\\n   - Researchers at Mayo Clinic have developed a new class of AI that targets specific hypotheses or research questions. This AI can be used in various cancer research applications such as tumor classification, patient stratification, cancer gene discovery, drug response prediction, and tumor spatial organization. [Source](https://cancerblog.mayoclinic.org/2024/04/30/mayo-researchers-invented-a-new-class-of-ai-to-improve-cancer-research-and-treatments/)\\n\\n2. **University of California - San Diego's AI Tool**:\\n   - Scientists at UC San Diego have developed an AI tool that generates new drug candidates for cancer, potentially streamlining the drug discovery process. This tool helps synthesize potential multi-target cancer drugs by simulating the time-consuming chemistry involved in the early phases of drug discovery. [Source](https://www.sciencedaily.com/releases/2024/05/240506131601.htm)\\n\\n3. **University of Oxford's Generative AI**:\\n   - Researchers at the University of Oxford are using generative AI combined with surrogate models to transform drug discovery, assisting scientists in developing new treatments more efficiently. [Source](https://www.nature.com/articles/d43747-023-00029-9.pdf)\\n\\n4. **Insilico Medicine's AI-Driven Drug Discovery**:\\n   - Insilico Medicine, a clinical-stage company, has successfully used generative AI to discover potent, selective drug candidates. This advancement highlights the potential of AI-driven approaches in identifying effective cancer treatments. [Source](https://www.eurekalert.org/news-releases/1044593)\\n\\nThese examples illustrate the significant impact of generative AI on cancer drug discovery, accelerating the development of new treatments and improving the precision of cancer research.\", name='Coder')]}}\n",
            "----\n",
            "{'supervisor': {'next': 'FINISH'}}\n",
            "----\n"
          ]
        }
      ],
      "source": [
        "for s in graph.stream(\n",
        "    {\n",
        "        \"messages\": [\n",
        "            HumanMessage(content=\"Code drug discovery generative ai cancer researchers and print it to the terminal\")\n",
        "        ]\n",
        "    }\n",
        "):\n",
        "    if \"__end__\" not in s:\n",
        "        print(s)\n",
        "        print(\"----\")"
      ]
    },
    {
      "cell_type": "code",
      "execution_count": 10,
      "id": "45a92dfd-0e11-47f5-aad4-b68d24990e34",
      "metadata": {
        "colab": {
          "base_uri": "https://localhost:8080/",
          "height": 0
        },
        "id": "45a92dfd-0e11-47f5-aad4-b68d24990e34",
        "outputId": "16d297e2-8049-419e-dd90-e3fc836a40a5"
      },
      "outputs": [
        {
          "output_type": "stream",
          "name": "stdout",
          "text": [
            "{'supervisor': {'next': 'Researcher'}}\n",
            "----\n",
            "{'Researcher': {'messages': [HumanMessage(content='### Research Report: Transformative Impact of Artificial Intelligence on Drug Discovery\\n\\n#### Introduction\\nThe article titled \"Artificial intelligence (AI) is transforming the drug discovery process by providing actionable insights from huge amounts of data\" published on ScienceDirect (DOI: S135964462400117X) delves into the revolutionary impact of AI, particularly machine learning (ML) and deep learning (DL), on the drug discovery process. This report synthesizes the key findings and implications presented in the article.\\n\\n#### Key Findings\\n\\n1. **Integration of AI in Drug Discovery**:\\n    - AI has significantly altered the landscape of drug discovery by leveraging vast datasets to extract actionable insights. The integration of ML and DL techniques has enabled more efficient and effective drug design and discovery processes.\\n  \\n2. **Machine Learning Models**:\\n    - The initial implementation of ML-based decision-making models provided a foundation for subsequent advancements in AI applications within drug discovery. These models have been instrumental in streamlining various aspects of the drug discovery pipeline by predicting molecular properties and biological activities.\\n\\n3. **Deep Learning Techniques**:\\n    - The adoption of DL techniques, particularly Generative Adversarial Networks (GANs) and Autoencoders, has further accelerated the pace of drug discovery. These techniques have been especially useful in de novo drug design, aiding in the creation of novel drug candidates with desired properties.\\n\\n4. **Benefits of AI in Drug Discovery**:\\n    - The data-enriched environment of drug discovery is well-suited for AI methods. AI-driven approaches have enhanced the efficiency of virtual screening (VS) campaigns, which have traditionally been resource-intensive and time-consuming.\\n\\n#### Challenges and Future Directions\\n\\n1. **Data Quality and Interpretability**:\\n    - Despite the advancements, the integration of AI in drug discovery faces significant hurdles. One of the primary challenges is the quality and interpretability of the data used. Improvements in these areas are crucial for the continued success and reliability of AI-driven drug discovery.\\n\\n2. **Regulatory and Ethical Considerations**:\\n    - The deployment of AI in drug discovery also brings about regulatory and ethical considerations that need to be addressed. Ensuring that AI models are transparent, unbiased, and compliant with regulatory standards is essential for their broader acceptance and implementation.\\n\\n3. **Collaborative Efforts**:\\n    - Collaboration between computational scientists, biologists, and regulatory bodies is necessary to overcome these challenges. Such interdisciplinary efforts can facilitate the development of robust AI models and ensure their successful integration into the drug discovery process.\\n\\n#### Conclusion\\nThe article underscores the transformative potential of AI in revolutionizing drug discovery. By harnessing the power of ML and DL techniques, AI has not only expedited the drug design process but has also opened new avenues for creating innovative therapeutic solutions. However, addressing the challenges related to data quality, interpretability, and regulatory compliance is imperative for realizing the full potential of AI in this domain. The continued evolution of AI technologies, coupled with collaborative efforts, promises to further enhance the efficiency and effectiveness of drug discovery in the future.\\n\\n### References\\n- ScienceDirect. (2024). Artificial intelligence is transforming the drug discovery process. Retrieved from [ScienceDirect](https://www.sciencedirect.com/science/article/pii/S135964462400117X).', name='Researcher')]}}\n",
            "----\n",
            "{'supervisor': {'next': 'Coder'}}\n",
            "----\n",
            "{'Coder': {'messages': [HumanMessage(content='### Research Report: Transformative Impact of Artificial Intelligence on Drug Discovery\\n\\n#### Introduction\\nThe article titled \"Artificial intelligence (AI) is transforming the drug discovery process by providing actionable insights from huge amounts of data\" published on ScienceDirect (DOI: S135964462400117X) delves into the revolutionary impact of AI, particularly machine learning (ML) and deep learning (DL), on the drug discovery process. This report synthesizes the key findings and implications presented in the article.\\n\\n#### Key Findings\\n\\n1. **Integration of AI in Drug Discovery**:\\n    - AI has significantly altered the landscape of drug discovery by leveraging vast datasets to extract actionable insights. The integration of ML and DL techniques has enabled more efficient and effective drug design and discovery processes.\\n  \\n2. **Machine Learning Models**:\\n    - The initial implementation of ML-based decision-making models provided a foundation for subsequent advancements in AI applications within drug discovery. These models have been instrumental in streamlining various aspects of the drug discovery pipeline by predicting molecular properties and biological activities.\\n\\n3. **Deep Learning Techniques**:\\n    - The adoption of DL techniques, particularly Generative Adversarial Networks (GANs) and Autoencoders, has further accelerated the pace of drug discovery. These techniques have been especially useful in de novo drug design, aiding in the creation of novel drug candidates with desired properties.\\n\\n4. **Benefits of AI in Drug Discovery**:\\n    - The data-enriched environment of drug discovery is well-suited for AI methods. AI-driven approaches have enhanced the efficiency of virtual screening (VS) campaigns, which have traditionally been resource-intensive and time-consuming.\\n\\n#### Challenges and Future Directions\\n\\n1. **Data Quality and Interpretability**:\\n    - Despite the advancements, the integration of AI in drug discovery faces significant hurdles. One of the primary challenges is the quality and interpretability of the data used. Improvements in these areas are crucial for the continued success and reliability of AI-driven drug discovery.\\n\\n2. **Regulatory and Ethical Considerations**:\\n    - The deployment of AI in drug discovery also brings about regulatory and ethical considerations that need to be addressed. Ensuring that AI models are transparent, unbiased, and compliant with regulatory standards is essential for their broader acceptance and implementation.\\n\\n3. **Collaborative Efforts**:\\n    - Collaboration between computational scientists, biologists, and regulatory bodies is necessary to overcome these challenges. Such interdisciplinary efforts can facilitate the development of robust AI models and ensure their successful integration into the drug discovery process.\\n\\n#### Conclusion\\nThe article underscores the transformative potential of AI in revolutionizing drug discovery. By harnessing the power of ML and DL techniques, AI has not only expedited the drug design process but has also opened new avenues for creating innovative therapeutic solutions. However, addressing the challenges related to data quality, interpretability, and regulatory compliance is imperative for realizing the full potential of AI in this domain. The continued evolution of AI technologies, coupled with collaborative efforts, promises to further enhance the efficiency and effectiveness of drug discovery in the future.\\n\\n### References\\n- ScienceDirect. (2024). Artificial intelligence is transforming the drug discovery process. Retrieved from [ScienceDirect](https://www.sciencedirect.com/science/article/pii/S135964462400117X).', name='Coder')]}}\n",
            "----\n",
            "{'supervisor': {'next': 'FINISH'}}\n",
            "----\n"
          ]
        }
      ],
      "source": [
        "for s in graph.stream(\n",
        "    {\"messages\": [HumanMessage(content=\"Write a research report on the article https://www.sciencedirect.com/science/article/pii/S135964462400117X.\")]},\n",
        "    {\"recursion_limit\": 100},\n",
        "):\n",
        "    if \"__end__\" not in s:\n",
        "        print(s)\n",
        "        print(\"----\")"
      ]
    },
    {
      "cell_type": "code",
      "execution_count": 10,
      "id": "1d363d2c-e0da-4cce-ba47-ad2aa9df0fef",
      "metadata": {
        "id": "1d363d2c-e0da-4cce-ba47-ad2aa9df0fef"
      },
      "outputs": [],
      "source": []
    }
  ],
  "metadata": {
    "kernelspec": {
      "display_name": "Python 3",
      "name": "python3"
    },
    "language_info": {
      "codemirror_mode": {
        "name": "ipython",
        "version": 3
      },
      "file_extension": ".py",
      "mimetype": "text/x-python",
      "name": "python",
      "nbconvert_exporter": "python",
      "pygments_lexer": "ipython3",
      "version": "3.11.1"
    },
    "colab": {
      "provenance": [],
      "machine_shape": "hm",
      "gpuType": "A100"
    },
    "accelerator": "GPU"
  },
  "nbformat": 4,
  "nbformat_minor": 5
}
