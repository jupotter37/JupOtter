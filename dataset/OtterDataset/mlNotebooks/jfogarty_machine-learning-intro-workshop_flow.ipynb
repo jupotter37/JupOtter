{
  "nbformat": 4,
  "nbformat_minor": 0,
  "metadata": {
    "colab": {
      "name": "flow.ipynb",
      "version": "0.3.2",
      "provenance": [],
      "include_colab_link": true
    },
    "kernelspec": {
      "display_name": "Python 3",
      "language": "python",
      "name": "python3"
    },
    "language_info": {
      "codemirror_mode": {
        "name": "ipython",
        "version": 3
      },
      "file_extension": ".py",
      "mimetype": "text/x-python",
      "name": "python",
      "nbconvert_exporter": "python",
      "pygments_lexer": "ipython3",
      "version": "3.6.8"
    }
  },
  "cells": [
    {
      "cell_type": "markdown",
      "metadata": {
        "id": "view-in-github",
        "colab_type": "text"
      },
      "source": [
        "<a href=\"https://colab.research.google.com/github/jfogarty/machine-learning-intro-workshop/blob/master/flow.ipynb\" target=\"_parent\"><img src=\"https://colab.research.google.com/assets/colab-badge.svg\" alt=\"Open In Colab\"/></a>"
      ]
    },
    {
      "cell_type": "markdown",
      "metadata": {
        "colab_type": "text",
        "id": "thNxQlyhZtVK"
      },
      "source": [
        "# Intro to ML General Flow\n",
        "\n",
        "# ML Data\n",
        "\n",
        "- How do you get the [Data?](./notebooks/data-explore-on-your-own.ipynb) :  **[GDS](https://toolbox.google.com/datasetsearch)**, **[UCI](https://archive.ics.uci.edu/ml/datasets.php)**, **[CMU](https://guides.library.cmu.edu/machine-learning/datasets)**, **[Visual](https://www.visualdata.io/)**, **[KDnuggets](https://www.kdnuggets.com/datasets/index.html)** **[OpenML](https://www.openml.org/search?type=data)**\n",
        "- What should it look like?\n",
        "- How do you clean up the data?\n",
        "- How do you normalize the data?\n",
        "- Are the solutions knowable?\n",
        "- How much bias is there in your data?\n",
        "- How do you partition the data for training?\n",
        "\n",
        "# Models\n",
        "\n",
        "- Model Types\n",
        "\t- [supervised](https://en.wikipedia.org/wiki/Supervised_learning)\n",
        "\t- [unsupervised](https://en.wikipedia.org/wiki/Unsupervised_learning)\n",
        "\t- [semi-supervised](https://en.wikipedia.org/wiki/Semi-supervised_learning)\n",
        "\t- [reinforcement learning](https://en.wikipedia.org/wiki/Reinforcement_learning).\n",
        "\n",
        "- Model Implementations\n",
        "  - Traditional Forms\n",
        "    - Decision Trees\n",
        "    - SVMs\n",
        "    - Ensemble methods\n",
        "  - Neural Network Forms\n",
        "    - MLPs\n",
        "    - CNNs\n",
        "    - RNNs/Transformer/Attention\n",
        "\n",
        "- [Model Zoo - Framworks](https://modelzoo.co/frameworks)\n",
        "- [Model Zoo - Categories](https://modelzoo.co/categories)\n"
      ]
    },
    {
      "cell_type": "markdown",
      "metadata": {
        "colab_type": "text",
        "id": "SWwm8nlIZx3N"
      },
      "source": [
        "# Python Frameworks\n",
        "\n",
        "- [Numpy](https://numpy.org/) : the fundamental package for scientific computing with Python [Github](https://github.com/numpy/numpy)\n",
        "- [Pandas](https://pandas.pydata.org/) : data structures and data analysis tools [Intro](https://pythonprogramming.net/introduction-python3-pandas-data-analysis/) [Github](https://github.com/pandas-dev/pandas)\n",
        "- [Scikit-Learn](https://scikit-learn.org/stable/) machine learning built on top of [SciPy](https://www.scipy.org/) [Examples](https://scikit-learn.org/stable/auto_examples/index.html#clustering) [Github](https://github.com/scikit-learn/scikit-learn)\n",
        "- [OpenCV](https://opencv.org/) [OpenCV-Python](https://opencv-python-tutroals.readthedocs.io/en/latest/) [Intro](https://pythonprogramming.net/loading-images-python-opencv-tutorial/) [Github](https://github.com/opencv/opencv)\n",
        "\n",
        "# Deep Learning Frameworks\n",
        "\n",
        "- [Keras](https://keras.io/) [Zoo](https://modelzoo.co/framework/keras) [github](https://github.com/keras-team/keras)\n",
        "- [TensorFlow](https://www.tensorflow.org/) [Zoo](https://modelzoo.co/framework/tensorflow) [github](https://github.com/tensorflow)\n",
        "- [Caffe](http://caffe.berkeleyvision.org/) [Zoo](https://modelzoo.co/framework/caffe) [github](https://github.com/BVLC/caffe/)\n",
        "- [Chainer](https://chainer.org) : [Zoo](https://modelzoo.co/framework/chainer) [github](https://github.com/chainer/chainer)\n",
        "- [MXNet](https://mxnet.incubator.apache.org/)/[Gluon](https://mxnet.incubator.apache.org/versions/master/gluon/index.html) [Zoo](https://modelzoo.co/framework/mxnet) [github](https://github.com/apache/)\n",
        "- [PyTorch](https://pytorch.org/) [Zoo](https://modelzoo.co/framework/pytorch) [github](https://github.com/pytorch/pytorch)\n",
        "- [Caffe2 - NOW PyTorch](http://caffe2.ai/) [Zoo](https://modelzoo.co/framework/caffe2) [github](https://github.com/caffe2)\n"
      ]
    },
    {
      "cell_type": "markdown",
      "metadata": {
        "colab_type": "text",
        "id": "aV99szqQaDEc"
      },
      "source": [
        "# Jupyter, Numpy, Pandas\n",
        "\n",
        "- [1.1 Python Numpy Tutorial](./notebooks/python_numpy_tutorial.ipynb): this is the bare minimum to get you started with Python and the **[Numpy](https://docs.scipy.org/doc/numpy/user/quickstart.html)** arrays used in essentially all ML applications.\n",
        "\n",
        "- [1.2 Numpy Vectors, Arrays, and Matrices](./notebooks/numpy_data_structures.ipynb): More specific information on the data structures used in all ML **[Numpy](https://docs.scipy.org/doc/numpy/user/quickstart.html)**\n",
        "\n",
        "- [Chris Albon's Notes](https://chrisalbon.com/) : The unreasonably useful notes of Chris Albon (host of the [Partially Derivative](http://partiallyderivative.com/) podcast)\n",
        "\n",
        "- [1.3 Intro to Pandas](./notebooks/intro_to_pandas.ipynb): the required library for data analysis and modeling : **[Pandas](https://pandas.pydata.org/)**\n",
        "\n",
        "- [1.4 More Pandas](./misc/pandas_snippets.ipynb): more useful pandas snippets applied to the **[Titanic dataset](https://www.kaggle.com/c/titanic/data)**\n"
      ]
    },
    {
      "cell_type": "markdown",
      "metadata": {
        "colab_type": "text",
        "id": "2PH_FURAaLHm"
      },
      "source": [
        "# Look at some ML Data\n",
        "\n",
        "- [2.1 Exploring/visualizing Data - 1](./notebooks/data-explore-iris-data.ipynb): The classic [**Iris dataset**](https://en.wikipedia.org/wiki/Iris_flower_data_set) visualized with **[seaborn](https://seaborn.pydata.org/)** and **[pandas](https://stackabuse.com/pandas-library-for-data-visualization-in-python/)**\n",
        "\n",
        "\n",
        "- [2.3 Exploring/visualizing Data - 3](./notebooks/data-explore-darwin-finches.ipynb): The [**Darwin's Finches dataset**](https://www.kaggle.com/stenivan/darwin-scandens-finches-beaks) with some nice [**EDA - Exploratory Data Analysis**](https://en.wikipedia.org/wiki/Exploratory_data_analysis)\n",
        "\n",
        "- [Python Machine Learning - 2nd Edition](https://github.com/rasbt/python-machine-learning-book-2nd-edition) : Another good ML book created with Github notebooks"
      ]
    },
    {
      "cell_type": "markdown",
      "metadata": {
        "id": "BTlLan4lg5Jj",
        "colab_type": "text"
      },
      "source": [
        "## Look at some ML Models\n",
        "\n",
        "- [3.1 Gradient Descent](./notebooks/gradient_descent.ipynb): The basics of **[gradient descent](https://en.wikipedia.org/wiki/Gradient_descent)**\n",
        "\n",
        "- [3.2 Least squares](./notebooks/least_squares.ipynb) : The simplest fitting method : **[Linear regression](https://en.wikipedia.org/wiki/Linear_regression)**\n",
        "\n",
        "- [3.4 ML Workflow](./notebooks/ml_workflow_with_diabetes_dataset.ipynb) : A full end to end project on the diabetes dataset; [workflows](https://www.google.com/search?q=general+machine+learning+workflow&newwindow=1&source=lnms&tbm=isch&sa=X&ved=0ahUKEwiiopbr-IfkAhXLGDQIHQOrAnUQ_AUIESgB&biw=1916&bih=1219): **[Google](https://cloud.google.com/ml-engine/docs/ml-solutions-overview)** **[Amazon](https://aws.amazon.com/blogs/machine-learning/build-end-to-end-machine-learning-workflows-with-amazon-sagemaker-and-apache-airflow/)** **[Azure](https://docs.microsoft.com/en-us/azure/machine-learning/service/concept-ml-pipelines)** **[Watson](https://www.esg-global.com/validation/esg-technical-validation-hybrid-multi-cloud-artificial-intelligence-ibm-watson-studio-and-watson-machine-learning)**\n",
        "\n",
        "## Beyond basic 'accuracy'\n",
        "\n",
        "- [6.1 Confusion Matrix](./notebooks/plot_confusion_matrix.ipynb) : Using confusion matrices to evaluate classifiers : **[Confusion_Matrix](https://en.wikipedia.org/wiki/Precision_and_recall)**"
      ]
    },
    {
      "cell_type": "markdown",
      "metadata": {
        "id": "4iBys9sVg5Jk",
        "colab_type": "text"
      },
      "source": [
        "# Intro to NN models\n",
        "\n",
        "- [5.1 Bias and Weights](./notebooks/nn_bias_and_weights.ipynb): Fundamental concepts: **[bias](https://github.com/cazala/synaptic/wiki/Neural-Networks-101)**, and **[weights](https://github.com/cazala/synaptic/wiki/Neural-Networks-101)**\n",
        "\n",
        "- [4.1 Training a Model 1](./notebooks/exploring_MNIST.ipynb): Exploring **[MNIST](https://en.wikipedia.org/wiki/MNIST_database)**\n",
        "\n",
        "\n",
        "# Detail on a Conventional Model\n",
        "\n",
        "- [Scikit-learn](https://scikit-learn.org/stable/index.html) : Excellent documentation and notebooks\n",
        "\n",
        "- [3.5 Decision Trees](./notebooks/decision_trees_intro.ipynb) : An introduction to decision trees : **[Decision Tree Learning](https://en.wikipedia.org/wiki/Decision_tree_learning)**\n"
      ]
    },
    {
      "cell_type": "markdown",
      "metadata": {
        "id": "4AY74thog5Jk",
        "colab_type": "text"
      },
      "source": [
        "# Back to NN models\n",
        "\n",
        "- [5.2 Activation Functions](./notebooks/nn_activation_functions.ipynb):  Fundamental concepts: **[activation functions](https://github.com/cazala/synaptic/wiki/Neural-Networks-101)**\n",
        "\n",
        "- [4.3 Binary functions](./notebooks/binary_functions.ipynb): computing the simplest binary functions (not, xor, or, and) with neural networks.\n",
        "\n",
        "- [5.4 Math of Neural Networks](./notebooks/math-of-neural-networks.ipynb): general NN designed using just Python and Numpy.\n",
        "\n",
        "- [4.2 Training a Model 2](./notebooks/ExploringFashionMNIST.ipynb): Exploring **[FashionMNIST](https://github.com/zalandoresearch/fashion-mnist)**\n",
        "\n",
        "# More Metrics\n",
        "\n",
        "- [6.2 Precision Recall Curves](./notebooks/plot_precision_recall.ipynb) : Precision-Recall to evaluate classifiers : **[Precision-Recall](https://en.wikipedia.org/wiki/Confusion_matrix)**\n",
        "\n",
        "- [6.3 Receiver Operating Characteristics](./notebooks/plot_roc.ipynb) : ROC and AUC (Area Under the Curve) to evaluate classifiers : **[AUC](https://en.wikipedia.org/wiki/Receiver_operating_characteristic)**_**[ROC](https://developers.google.com/machine-learning/crash-course/classification/roc-and-auc)**\n",
        "\n",
        "- [6.4 Minimizing Loss and Validating Models](./notebooks/hyperparameter_tuning.ipynb): Making better models through **[hyperparameter tuning](https://en.wikipedia.org/wiki/Hyperparameter_(machine_learning))**\n",
        "\n",
        "- [3.3 Beyond Gradient Descent](./misc/beyond_gradient_descent.ipynb): Adaptive techniques that improve on ordinary gradient descent\n"
      ]
    },
    {
      "cell_type": "markdown",
      "metadata": {
        "colab_type": "text",
        "id": "vL-NYxzmZQ-U"
      },
      "source": [
        "# Model Evalutions\n",
        "\n",
        "- Confusion Matrix : correct / incorrect classed by result type\n",
        "- Precision : how many of the positive results were good?\n",
        "- Recall : did most of the valid results get found?\n",
        "- ROC and AuROC : True positives as a function of False positives\n",
        "\n",
        "# Advanced Visualization\n",
        "\n",
        "- [2.4 Visualization of MLP weights on MNIST](./notebooks/plot_mnist_filters.ipynb) : Looking at the weight matrices; reading the tea leaves \n",
        "\n",
        "- [2.5 Visualizing MNIST: An Exploration of Dimensionality Reduction](https://colah.github.io/posts/2014-10-Visualizing-MNIST/) : Another classic [Colah](https://colah.github.io/)'s ([Chris Olah](https://colah.github.io/about.html)) more analysis with **[t-SNE visualization](https://lvdmaaten.github.io/tsne/)**\n",
        "\n",
        "- [5.3 Exploding and Vanishing Gradients](./notebooks/rnn_gradients.ipynb): Gradient problems; Fundamental concepts: **[gradients](https://hackernoon.com/exploding-and-vanishing-gradient-problem-math-behind-the-truth-6bd008df6e25)**\n",
        "\n",
        "\n",
        "# A bit of Advanced Unsupervised Learning\n",
        "\n",
        "- [5.5 Training an AutoEncoder](./notebooks/cc_autoencoder.ipynb) : Using a NN for Credit Fraud detection based on an **[AutoEncoder](https://en.wikipedia.org/wiki/Autoencoder)**\n",
        "\n",
        "# End."
      ]
    }
  ]
}