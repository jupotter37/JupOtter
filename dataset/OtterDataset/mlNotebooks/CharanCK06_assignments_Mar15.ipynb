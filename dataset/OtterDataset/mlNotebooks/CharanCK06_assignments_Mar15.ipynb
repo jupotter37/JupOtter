{
 "cells": [
  {
   "cell_type": "code",
   "execution_count": null,
   "id": "44edea9f-11f7-4226-b382-a3a9969b0c28",
   "metadata": {},
   "outputs": [],
   "source": [
    "#1\n",
    "'''\n",
    "i. Artificial Intelligence (AI): It refers to the simulation of human intelligence in machines that are programmed to think and learn like humans,\n",
    "    which enable computers to perform tasks that typically require human intelligence but doesnot require human intervention.\n",
    "ii. Machine Learning: It is a subset of artificial intelligence that focuses on developing algorithms and models that allow computers to learn from and make predictions\n",
    "    or decisions based on data\n",
    "iii.Deep Learning: It is a subfield of machine learning that deals with algorithms inspired by the structure and function of the human brain's neural\n",
    "    networks. It consist of multiple layers of interconnected nodes that can learn hierarchical representations of data.\n",
    "'''"
   ]
  },
  {
   "cell_type": "code",
   "execution_count": null,
   "id": "30215267-2ac5-4471-a9b2-dc9cbe9cc862",
   "metadata": {},
   "outputs": [],
   "source": [
    "#2\n",
    "'''\n",
    "Supervised learning is a machine learning technique in which an algorithm learns from labeled training data to make predictions or decisions. \n",
    "Ex: Linear regression , decision trees\n",
    "'''"
   ]
  },
  {
   "cell_type": "code",
   "execution_count": null,
   "id": "4aa91fd9-1081-4dea-aeee-2e74fb855b0e",
   "metadata": {},
   "outputs": [],
   "source": [
    "#3\n",
    "'''\n",
    "Unsupervised learning is a machine learning technique where the algorithm learns patterns and relationships in unlabeled data without labeled examples.\n",
    "Ex: Clustering\n",
    "'''"
   ]
  },
  {
   "cell_type": "code",
   "execution_count": null,
   "id": "a4084d4c-d367-4296-9e4d-f4d8ce7f62bd",
   "metadata": {},
   "outputs": [],
   "source": [
    "#4\n",
    "'''\n",
    "i. Artificial Intelligence (AI): It refers to the simulation of human intelligence in machines that are programmed to think and learn like humans,\n",
    "    which enable computers to perform tasks that typically require human intelligence but doesnot require human intervention.\n",
    "ii. Machine Learning: It is a subset of artificial intelligence that focuses on developing algorithms and models that allow computers to learn from and make predictions\n",
    "    or decisions based on data\n",
    "iii.Deep Learning: It is a subfield of machine learning that deals with algorithms inspired by the structure and function of the human brain's neural\n",
    "    networks. It consist of multiple layers of interconnected nodes that can learn hierarchical representations of data.\n",
    "iv.Data science: It is a multidisciplinary field that involves extracting knowledge and insights from data using scientific methods, processes,\n",
    "    algorithms, and tools.The primary goal of data science is to uncover meaningful patterns, trends, and relationships in data that can be used \n",
    "    to make informed decisions and solve real-world problems.\n",
    "'''"
   ]
  },
  {
   "cell_type": "code",
   "execution_count": null,
   "id": "dc6f9ea8-d523-4ba8-aefa-5513d7638af7",
   "metadata": {},
   "outputs": [],
   "source": [
    "#5\n",
    "'''\n",
    "Supervised Learning:\n",
    "    Labeled Data: The training data consists of labeled examples where each input has a corresponding desired output or target value.\n",
    "    Learning Approach: The algorithm learns from the labeled data to create a mapping between input features and output labels. \n",
    "                        It aims to generalize this mapping to make predictions or decisions on unseen data.\n",
    "    Goal: The goal is to learn a model that can accurately predict or classify new instances based on the provided labeled examples.\n",
    "    \n",
    "Unsupervised Learning:\n",
    "    Unlabeled Data: Unsupervised learning algorithms operate on unlabeled data.\n",
    "    Learning Approach:  unsupervised learning algorithms focus on finding patterns, structures, or relationships in the data without guidance.\n",
    "                        They explore the inherent structure of the data to uncover meaningful insights.\n",
    "    Goal: The goal is to discover hidden patterns, group similar instances, reduce data dimensions, or identify underlying distributions within the data.\n",
    "    \n",
    "Semi-Supervised Learning:\n",
    "    Labeled and Unlabeled Data: Semi-supervised learning algorithms operate on a combination of labeled and unlabeled data.\n",
    "    Learning Approach: Semi-supervised learning leverages the additional unlabeled data to enhance the model's performance, generalization, or robustness. It combines elements of supervised and unsupervised learning.\n",
    "Goal: The goal is to utilize the available labeled and unlabeled data to build a model that can make accurate predictions or decisions on new, unseen instances. It aims to benefit from the larger amount of unlabeled data while leveraging the labeled data for guidance."
   ]
  },
  {
   "cell_type": "code",
   "execution_count": null,
   "id": "2f8574c0-5efc-4509-b9ef-531609f4f14f",
   "metadata": {},
   "outputs": [],
   "source": [
    "#6\n",
    "'''\n",
    "Training Set:\n",
    "The training set is the portion of the data that is used to train the machine learning model.\n",
    "It contains input examples (features) along with their corresponding output labels or target values.\n",
    "The model learns from this labeled data to generalize and make predictions on new, unseen data. \n",
    "The training set is crucial for the model to learn the underlying patterns and relationships in the data.\n",
    "\n",
    "Test Set:\n",
    "The test set is a separate portion of the data that is used to evaluate the performance and generalization ability of the trained model.\n",
    "It serves as an unbiased measure of how well the model performs on unseen data. T\n",
    "By evaluating the model's performance on the test set, we can assess its ability to make accurate predictions and assess its overall effectiveness.\n",
    "\n",
    "Validation Set:\n",
    "The validation set is an optional subset of the data that is used during the model development and tuning process. \n",
    "It is used to evaluate and fine-tune hyperparameters or model configurations.\n",
    "It provides an intermediate evaluation between the training set and the test set, allowing adjustments to be made \n",
    "before the final evaluation on the test set."
   ]
  },
  {
   "cell_type": "code",
   "execution_count": null,
   "id": "38769d52-eff6-40cc-a83d-3f1e394d7814",
   "metadata": {},
   "outputs": [],
   "source": [
    "#7\n",
    "'''\n",
    "Unsupervised learning can be used effectively in anomaly detection tasks. \n",
    "\n",
    "Anomaly detection aims to identify rare or abnormal instances in a dataset that deviate significantly from the majority of the data points, \n",
    "which are considered normal or usual. \n",
    "\n",
    "Unsupervised learning techniques are well-suited for this task because they can learn patterns, structures, or representations from unlabeled data\n",
    "without the need for predefined anomaly labels. \n",
    "'''"
   ]
  },
  {
   "cell_type": "code",
   "execution_count": null,
   "id": "ecc1a2e6-d489-492e-a23c-6d9364a0b196",
   "metadata": {},
   "outputs": [],
   "source": [
    "#8\n",
    "'''\n",
    "Supervised Learning Algorithms:\n",
    "    Linear Regression\n",
    "    Logistic Regression\n",
    "    Decision Trees\n",
    "    Random Forest\n",
    "\n",
    "Unsupervised Learning Algorithms:\n",
    "    K-Means Clustering\n",
    "    Hierarchical Clustering\n",
    "    Gaussian Mixture Models (GMM)\n",
    "'''"
   ]
  }
 ],
 "metadata": {
  "kernelspec": {
   "display_name": "Python 3 (ipykernel)",
   "language": "python",
   "name": "python3"
  },
  "language_info": {
   "codemirror_mode": {
    "name": "ipython",
    "version": 3
   },
   "file_extension": ".py",
   "mimetype": "text/x-python",
   "name": "python",
   "nbconvert_exporter": "python",
   "pygments_lexer": "ipython3",
   "version": "3.10.8"
  }
 },
 "nbformat": 4,
 "nbformat_minor": 5
}
