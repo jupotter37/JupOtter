{
 "cells": [
  {
   "cell_type": "markdown",
   "id": "6a5fe022-27db-4922-8ccf-6e9ff7cf9d7f",
   "metadata": {},
   "source": [
    "DATA SCIENCE AND ANALYSIS"
   ]
  },
  {
   "cell_type": "code",
   "execution_count": 1,
   "id": "086d0809-bf65-48be-812d-7b0b501e5ce0",
   "metadata": {},
   "outputs": [],
   "source": [
    "#DATA SCIENCE AND ANALYSIS IS USED FOR SOLVING BUSINESS PROBLEMS\n",
    "#STEPS TO FOLLOW\n",
    "#1.GET INFORMATION ABOUT THE BUSINESS OR ORGAISATION\n",
    "#2.KNOW THE PROBLEM AT HAND\n",
    "#3.GETTING THE RIGHT DATA\n",
    "###EDA - EXPLORATORY DATA ANALYSIS\n",
    "#1 DATA CLEANING\n",
    "#2.DATA TRANSFORMATION\n",
    "#3.DISCREPTIVE ANALYSIS(PYTHON,POWERBI,TABLEAU)\n",
    "#4.DATA VISUALIZATION\n",
    "###MACHINE LEARNING (PYHTON)(LINEAR REGRESSON,BINARY CLASSIFICATION,MULTICLASSIFICATION,CLUSTERING\n",
    "# TEXT OR SENTIMENT ANALYSIS)\n",
    "#1.PREPROCESSING\n",
    "#2.MODEL BUILDING\n",
    "#3.EVALUATION (VERIFICATION)\n",
    "#4.MODEL DEVELOPEMENT\n",
    "###DEEP LEARNING\n"
   ]
  },
  {
   "cell_type": "code",
   "execution_count": 2,
   "id": "a2f333d4-88df-4b6d-8ff6-08d3c8813b0b",
   "metadata": {},
   "outputs": [
    {
     "name": "stdout",
     "output_type": "stream",
     "text": [
      "['False_', 'ScalarType', 'True_', '_CopyMode', '_NoValue', '__NUMPY_SETUP__', '__all__', '__array_api_version__', '__array_namespace_info__', '__builtins__', '__cached__', '__config__', '__dir__', '__doc__', '__expired_attributes__', '__file__', '__former_attrs__', '__future_scalars__', '__getattr__', '__loader__', '__name__', '__numpy_submodules__', '__package__', '__path__', '__spec__', '__version__', '_array_api_info', '_core', '_distributor_init', '_expired_attrs_2_0', '_get_promotion_state', '_globals', '_int_extended_msg', '_mat', '_msg', '_no_nep50_warning', '_pyinstaller_hooks_dir', '_pytesttester', '_set_promotion_state', '_specific_msg', '_type_info', '_typing', '_utils', 'abs', 'absolute', 'acos', 'acosh', 'add', 'all', 'allclose', 'amax', 'amin', 'angle', 'any', 'append', 'apply_along_axis', 'apply_over_axes', 'arange', 'arccos', 'arccosh', 'arcsin', 'arcsinh', 'arctan', 'arctan2', 'arctanh', 'argmax', 'argmin', 'argpartition', 'argsort', 'argwhere', 'around', 'array', 'array2string', 'array_equal', 'array_equiv', 'array_repr', 'array_split', 'array_str', 'asanyarray', 'asarray', 'asarray_chkfinite', 'ascontiguousarray', 'asfortranarray', 'asin', 'asinh', 'asmatrix', 'astype', 'atan', 'atan2', 'atanh', 'atleast_1d', 'atleast_2d', 'atleast_3d', 'average', 'bartlett', 'base_repr', 'binary_repr', 'bincount', 'bitwise_and', 'bitwise_count', 'bitwise_invert', 'bitwise_left_shift', 'bitwise_not', 'bitwise_or', 'bitwise_right_shift', 'bitwise_xor', 'blackman', 'block', 'bmat', 'bool', 'bool_', 'broadcast', 'broadcast_arrays', 'broadcast_shapes', 'broadcast_to', 'busday_count', 'busday_offset', 'busdaycalendar', 'byte', 'bytes_', 'c_', 'can_cast', 'cbrt', 'cdouble', 'ceil', 'char', 'character', 'choose', 'clip', 'clongdouble', 'column_stack', 'common_type', 'complex128', 'complex64', 'complexfloating', 'compress', 'concat', 'concatenate', 'conj', 'conjugate', 'convolve', 'copy', 'copysign', 'copyto', 'core', 'corrcoef', 'correlate', 'cos', 'cosh', 'count_nonzero', 'cov', 'cross', 'csingle', 'ctypeslib', 'cumprod', 'cumsum', 'cumulative_prod', 'cumulative_sum', 'datetime64', 'datetime_as_string', 'datetime_data', 'deg2rad', 'degrees', 'delete', 'diag', 'diag_indices', 'diag_indices_from', 'diagflat', 'diagonal', 'diff', 'digitize', 'divide', 'divmod', 'dot', 'double', 'dsplit', 'dstack', 'dtype', 'dtypes', 'e', 'ediff1d', 'einsum', 'einsum_path', 'emath', 'empty', 'empty_like', 'equal', 'errstate', 'euler_gamma', 'exceptions', 'exp', 'exp2', 'expand_dims', 'expm1', 'extract', 'eye', 'f2py', 'fabs', 'fft', 'fill_diagonal', 'finfo', 'fix', 'flatiter', 'flatnonzero', 'flexible', 'flip', 'fliplr', 'flipud', 'float16', 'float32', 'float64', 'float_power', 'floating', 'floor', 'floor_divide', 'fmax', 'fmin', 'fmod', 'format_float_positional', 'format_float_scientific', 'frexp', 'from_dlpack', 'frombuffer', 'fromfile', 'fromfunction', 'fromiter', 'frompyfunc', 'fromregex', 'fromstring', 'full', 'full_like', 'gcd', 'generic', 'genfromtxt', 'geomspace', 'get_include', 'get_printoptions', 'getbufsize', 'geterr', 'geterrcall', 'gradient', 'greater', 'greater_equal', 'half', 'hamming', 'hanning', 'heaviside', 'histogram', 'histogram2d', 'histogram_bin_edges', 'histogramdd', 'hsplit', 'hstack', 'hypot', 'i0', 'identity', 'iinfo', 'imag', 'in1d', 'index_exp', 'indices', 'inexact', 'inf', 'info', 'inner', 'insert', 'int16', 'int32', 'int64', 'int8', 'int_', 'intc', 'integer', 'interp', 'intersect1d', 'intp', 'invert', 'is_busday', 'isclose', 'iscomplex', 'iscomplexobj', 'isdtype', 'isfinite', 'isfortran', 'isin', 'isinf', 'isnan', 'isnat', 'isneginf', 'isposinf', 'isreal', 'isrealobj', 'isscalar', 'issubdtype', 'iterable', 'ix_', 'kaiser', 'kron', 'lcm', 'ldexp', 'left_shift', 'less', 'less_equal', 'lexsort', 'lib', 'linalg', 'linspace', 'little_endian', 'load', 'loadtxt', 'log', 'log10', 'log1p', 'log2', 'logaddexp', 'logaddexp2', 'logical_and', 'logical_not', 'logical_or', 'logical_xor', 'logspace', 'long', 'longdouble', 'longlong', 'ma', 'mask_indices', 'matmul', 'matrix', 'matrix_transpose', 'max', 'maximum', 'may_share_memory', 'mean', 'median', 'memmap', 'meshgrid', 'mgrid', 'min', 'min_scalar_type', 'minimum', 'mintypecode', 'mod', 'modf', 'moveaxis', 'multiply', 'nan', 'nan_to_num', 'nanargmax', 'nanargmin', 'nancumprod', 'nancumsum', 'nanmax', 'nanmean', 'nanmedian', 'nanmin', 'nanpercentile', 'nanprod', 'nanquantile', 'nanstd', 'nansum', 'nanvar', 'ndarray', 'ndenumerate', 'ndim', 'ndindex', 'nditer', 'negative', 'nested_iters', 'newaxis', 'nextafter', 'nonzero', 'not_equal', 'number', 'object_', 'ogrid', 'ones', 'ones_like', 'outer', 'packbits', 'pad', 'partition', 'percentile', 'permute_dims', 'pi', 'piecewise', 'place', 'poly', 'poly1d', 'polyadd', 'polyder', 'polydiv', 'polyfit', 'polyint', 'polymul', 'polynomial', 'polysub', 'polyval', 'positive', 'pow', 'power', 'printoptions', 'prod', 'promote_types', 'ptp', 'put', 'put_along_axis', 'putmask', 'quantile', 'r_', 'rad2deg', 'radians', 'random', 'ravel', 'ravel_multi_index', 'real', 'real_if_close', 'rec', 'recarray', 'reciprocal', 'record', 'remainder', 'repeat', 'require', 'reshape', 'resize', 'result_type', 'right_shift', 'rint', 'roll', 'rollaxis', 'roots', 'rot90', 'round', 'row_stack', 's_', 'save', 'savetxt', 'savez', 'savez_compressed', 'sctypeDict', 'searchsorted', 'select', 'set_printoptions', 'setbufsize', 'setdiff1d', 'seterr', 'seterrcall', 'setxor1d', 'shape', 'shares_memory', 'short', 'show_config', 'show_runtime', 'sign', 'signbit', 'signedinteger', 'sin', 'sinc', 'single', 'sinh', 'size', 'sort', 'sort_complex', 'spacing', 'split', 'sqrt', 'square', 'squeeze', 'stack', 'std', 'str_', 'strings', 'subtract', 'sum', 'swapaxes', 'take', 'take_along_axis', 'tan', 'tanh', 'tensordot', 'test', 'testing', 'tile', 'timedelta64', 'trace', 'transpose', 'trapezoid', 'trapz', 'tri', 'tril', 'tril_indices', 'tril_indices_from', 'trim_zeros', 'triu', 'triu_indices', 'triu_indices_from', 'true_divide', 'trunc', 'typecodes', 'typename', 'typing', 'ubyte', 'ufunc', 'uint', 'uint16', 'uint32', 'uint64', 'uint8', 'uintc', 'uintp', 'ulong', 'ulonglong', 'union1d', 'unique', 'unique_all', 'unique_counts', 'unique_inverse', 'unique_values', 'unpackbits', 'unravel_index', 'unsignedinteger', 'unstack', 'unwrap', 'ushort', 'vander', 'var', 'vdot', 'vecdot', 'vectorize', 'void', 'vsplit', 'vstack', 'where', 'zeros', 'zeros_like']\n"
     ]
    }
   ],
   "source": [
    "#NUMPY : used for numerical operation done in array(array accepts only one data type)\n",
    "import numpy as np\n",
    "print(dir(np))\n"
   ]
  },
  {
   "cell_type": "code",
   "execution_count": 3,
   "id": "953049e0-658b-4138-9a76-50983ceafe78",
   "metadata": {},
   "outputs": [
    {
     "data": {
      "text/plain": [
       "array([75, 85, 60, 47])"
      ]
     },
     "execution_count": 3,
     "metadata": {},
     "output_type": "execute_result"
    }
   ],
   "source": [
    "##AN ARRAY IS USED FOR STORING DATA IN ROWS AND COLUMNS\n",
    "array1 = np.array([75,85,60,47])\n",
    "array1"
   ]
  },
  {
   "cell_type": "code",
   "execution_count": 4,
   "id": "ac43a219-8877-486e-8b48-133f8fd94586",
   "metadata": {},
   "outputs": [
    {
     "data": {
      "text/plain": [
       "1"
      ]
     },
     "execution_count": 4,
     "metadata": {},
     "output_type": "execute_result"
    }
   ],
   "source": [
    "array1.ndim # checking the number of an array dimension"
   ]
  },
  {
   "cell_type": "code",
   "execution_count": 5,
   "id": "efb7c2b8-b55d-4e0d-854f-a7a273403e2e",
   "metadata": {},
   "outputs": [
    {
     "data": {
      "text/plain": [
       "(4,)"
      ]
     },
     "execution_count": 5,
     "metadata": {},
     "output_type": "execute_result"
    }
   ],
   "source": [
    "array1.shape # to check the shape of an array linear array"
   ]
  },
  {
   "cell_type": "code",
   "execution_count": 6,
   "id": "fbfabd90-38ea-41aa-b29a-903317ee0805",
   "metadata": {},
   "outputs": [
    {
     "data": {
      "text/plain": [
       "dtype('int64')"
      ]
     },
     "execution_count": 6,
     "metadata": {},
     "output_type": "execute_result"
    }
   ],
   "source": [
    "array1.dtype # to check th data type of an array"
   ]
  },
  {
   "cell_type": "code",
   "execution_count": 7,
   "id": "4b5f18e7-2970-4e68-a2ad-2153294fd334",
   "metadata": {},
   "outputs": [
    {
     "data": {
      "text/plain": [
       "array([[47, 85, 69, 60],\n",
       "       [80, 85, 64, 90]])"
      ]
     },
     "execution_count": 7,
     "metadata": {},
     "output_type": "execute_result"
    }
   ],
   "source": [
    "array2 = np.array([[47,85,69,60],[80,85,64,90]])\n",
    "arr2=np.array([[10,29,30,49,40,29],[80,90,12,34,59,90]])\n",
    "arr2\n",
    "array2"
   ]
  },
  {
   "cell_type": "code",
   "execution_count": 8,
   "id": "86bc0aa6-54c4-4794-a169-4875ac1615c7",
   "metadata": {},
   "outputs": [
    {
     "data": {
      "text/plain": [
       "2"
      ]
     },
     "execution_count": 8,
     "metadata": {},
     "output_type": "execute_result"
    }
   ],
   "source": [
    "array2.ndim\n",
    "arr2.ndim"
   ]
  },
  {
   "cell_type": "code",
   "execution_count": 9,
   "id": "a97e30e5-a97e-4f6a-8754-f465d44ceb44",
   "metadata": {},
   "outputs": [
    {
     "data": {
      "text/plain": [
       "dtype('int64')"
      ]
     },
     "execution_count": 9,
     "metadata": {},
     "output_type": "execute_result"
    }
   ],
   "source": [
    "array2.dtype\n",
    "arr2.dtype"
   ]
  },
  {
   "cell_type": "code",
   "execution_count": 10,
   "id": "e96866c3-6b1c-4391-8cd4-3cef7ddcc9a8",
   "metadata": {},
   "outputs": [
    {
     "data": {
      "text/plain": [
       "(2, 6)"
      ]
     },
     "execution_count": 10,
     "metadata": {},
     "output_type": "execute_result"
    }
   ],
   "source": [
    "array2.shape #matrix\n",
    "arr2.shape"
   ]
  },
  {
   "cell_type": "markdown",
   "id": "ed504540",
   "metadata": {},
   "source": [
    "NUMPY ARRAY\n"
   ]
  },
  {
   "cell_type": "code",
   "execution_count": 11,
   "id": "769676d6-a078-4690-905f-3f1f39188aca",
   "metadata": {},
   "outputs": [
    {
     "data": {
      "text/plain": [
       "array([0., 0., 0., 0., 0., 0., 0., 0., 0., 0., 0., 0., 0., 0., 0., 0., 0.,\n",
       "       0., 0., 0.])"
      ]
     },
     "execution_count": 11,
     "metadata": {},
     "output_type": "execute_result"
    }
   ],
   "source": [
    "#creating an array where all values are zero\n",
    "np.zeros(20)"
   ]
  },
  {
   "cell_type": "code",
   "execution_count": 12,
   "id": "214e50fa-a06e-4fa7-840d-545d3d1307e9",
   "metadata": {},
   "outputs": [
    {
     "data": {
      "text/plain": [
       "array([[0., 0., 0., 0., 0.],\n",
       "       [0., 0., 0., 0., 0.],\n",
       "       [0., 0., 0., 0., 0.],\n",
       "       [0., 0., 0., 0., 0.]])"
      ]
     },
     "execution_count": 12,
     "metadata": {},
     "output_type": "execute_result"
    }
   ],
   "source": [
    "np.zeros((4,5,))"
   ]
  },
  {
   "cell_type": "code",
   "execution_count": 13,
   "id": "3764dad8-3363-4870-b4c5-4990210e0e1d",
   "metadata": {},
   "outputs": [],
   "source": [
    "#creating an array where all values are 1"
   ]
  },
  {
   "cell_type": "code",
   "execution_count": 14,
   "id": "cbb5fc51-0006-4caa-9c76-2fa7bcd6df1f",
   "metadata": {},
   "outputs": [
    {
     "data": {
      "text/plain": [
       "array([1., 1., 1., 1., 1., 1., 1., 1., 1., 1., 1., 1., 1., 1., 1., 1., 1.,\n",
       "       1., 1., 1., 1., 1., 1., 1., 1., 1., 1., 1., 1., 1.])"
      ]
     },
     "execution_count": 14,
     "metadata": {},
     "output_type": "execute_result"
    }
   ],
   "source": [
    "np.ones(30)"
   ]
  },
  {
   "cell_type": "code",
   "execution_count": 15,
   "id": "3e9421ff-eea8-449f-9d58-a24f423c1c98",
   "metadata": {},
   "outputs": [
    {
     "data": {
      "text/plain": [
       "array([[1., 1., 1., 1., 1., 1.],\n",
       "       [1., 1., 1., 1., 1., 1.],\n",
       "       [1., 1., 1., 1., 1., 1.],\n",
       "       [1., 1., 1., 1., 1., 1.],\n",
       "       [1., 1., 1., 1., 1., 1.]])"
      ]
     },
     "execution_count": 15,
     "metadata": {},
     "output_type": "execute_result"
    }
   ],
   "source": [
    "np.ones((5,6))"
   ]
  },
  {
   "cell_type": "code",
   "execution_count": 16,
   "id": "a843113f-ee1a-4be4-98d7-2ddcac4fa30b",
   "metadata": {},
   "outputs": [
    {
     "data": {
      "text/plain": [
       "array([[15., 15., 15., 15., 15., 15.],\n",
       "       [15., 15., 15., 15., 15., 15.],\n",
       "       [15., 15., 15., 15., 15., 15.],\n",
       "       [15., 15., 15., 15., 15., 15.],\n",
       "       [15., 15., 15., 15., 15., 15.]])"
      ]
     },
     "execution_count": 16,
     "metadata": {},
     "output_type": "execute_result"
    }
   ],
   "source": [
    "np.ones((5,6)) *15"
   ]
  },
  {
   "cell_type": "markdown",
   "id": "43ca96d5-d4bc-4755-bed6-ce0c09d93f16",
   "metadata": {},
   "source": [
    "LIN SPACE"
   ]
  },
  {
   "cell_type": "code",
   "execution_count": 17,
   "id": "1d3e7b74-5292-4b01-894b-1554ec4026b4",
   "metadata": {},
   "outputs": [],
   "source": [
    "#USED FOR generating an arrays that are evenely spaced,the codition requires to set an interval."
   ]
  },
  {
   "cell_type": "code",
   "execution_count": 18,
   "id": "ada58fbe-d1a3-44ce-8faf-c744c0fefdd9",
   "metadata": {},
   "outputs": [
    {
     "data": {
      "text/plain": [
       "array([20.        , 21.02040816, 22.04081633, 23.06122449, 24.08163265,\n",
       "       25.10204082, 26.12244898, 27.14285714, 28.16326531, 29.18367347,\n",
       "       30.20408163, 31.2244898 , 32.24489796, 33.26530612, 34.28571429,\n",
       "       35.30612245, 36.32653061, 37.34693878, 38.36734694, 39.3877551 ,\n",
       "       40.40816327, 41.42857143, 42.44897959, 43.46938776, 44.48979592,\n",
       "       45.51020408, 46.53061224, 47.55102041, 48.57142857, 49.59183673,\n",
       "       50.6122449 , 51.63265306, 52.65306122, 53.67346939, 54.69387755,\n",
       "       55.71428571, 56.73469388, 57.75510204, 58.7755102 , 59.79591837,\n",
       "       60.81632653, 61.83673469, 62.85714286, 63.87755102, 64.89795918,\n",
       "       65.91836735, 66.93877551, 67.95918367, 68.97959184, 70.        ])"
      ]
     },
     "execution_count": 18,
     "metadata": {},
     "output_type": "execute_result"
    }
   ],
   "source": [
    "np.linspace (20,70)"
   ]
  },
  {
   "cell_type": "markdown",
   "id": "c3adbe25-3ae9-4f7d-a7d8-c28449697c5e",
   "metadata": {},
   "source": [
    "eye creates a two dimentional array"
   ]
  },
  {
   "cell_type": "code",
   "execution_count": 5,
   "id": "9b29f695-6116-4914-897c-b3ef23998ce6",
   "metadata": {},
   "outputs": [
    {
     "data": {
      "text/plain": [
       "array([[1., 0., 0., 0., 0., 0., 0., 0., 0., 0.],\n",
       "       [0., 1., 0., 0., 0., 0., 0., 0., 0., 0.],\n",
       "       [0., 0., 1., 0., 0., 0., 0., 0., 0., 0.],\n",
       "       [0., 0., 0., 1., 0., 0., 0., 0., 0., 0.],\n",
       "       [0., 0., 0., 0., 1., 0., 0., 0., 0., 0.],\n",
       "       [0., 0., 0., 0., 0., 1., 0., 0., 0., 0.],\n",
       "       [0., 0., 0., 0., 0., 0., 1., 0., 0., 0.],\n",
       "       [0., 0., 0., 0., 0., 0., 0., 1., 0., 0.],\n",
       "       [0., 0., 0., 0., 0., 0., 0., 0., 1., 0.],\n",
       "       [0., 0., 0., 0., 0., 0., 0., 0., 0., 1.]])"
      ]
     },
     "execution_count": 5,
     "metadata": {},
     "output_type": "execute_result"
    }
   ],
   "source": [
    "##it will put 1 in dignal and 0 in surrounding\n",
    "np.eye(10)\n",
    "#np.eye(20)"
   ]
  },
  {
   "cell_type": "code",
   "execution_count": 20,
   "id": "22029df0-0454-4dc0-b16d-7eac9f617223",
   "metadata": {},
   "outputs": [
    {
     "data": {
      "text/plain": [
       "array([  1,   2,   3,   4,   5,   6,   7,   8,   9,  10,  11,  12,  13,\n",
       "        14,  15,  16,  17,  18,  19,  20,  21,  22,  23,  24,  25,  26,\n",
       "        27,  28,  29,  30,  31,  32,  33,  34,  35,  36,  37,  38,  39,\n",
       "        40,  41,  42,  43,  44,  45,  46,  47,  48,  49,  50,  51,  52,\n",
       "        53,  54,  55,  56,  57,  58,  59,  60,  61,  62,  63,  64,  65,\n",
       "        66,  67,  68,  69,  70,  71,  72,  73,  74,  75,  76,  77,  78,\n",
       "        79,  80,  81,  82,  83,  84,  85,  86,  87,  88,  89,  90,  91,\n",
       "        92,  93,  94,  95,  96,  97,  98,  99, 100])"
      ]
     },
     "execution_count": 20,
     "metadata": {},
     "output_type": "execute_result"
    }
   ],
   "source": [
    "# arange-range of array\n",
    "array4 = np.arange(1,101)\n",
    "array4"
   ]
  },
  {
   "cell_type": "code",
   "execution_count": 21,
   "id": "01f6cff9-60b8-4c8a-b702-21eddbadcf12",
   "metadata": {},
   "outputs": [
    {
     "data": {
      "text/plain": [
       "array([ 1,  8, 15, 22, 29, 36, 43, 50, 57, 64, 71, 78, 85, 92, 99])"
      ]
     },
     "execution_count": 21,
     "metadata": {},
     "output_type": "execute_result"
    }
   ],
   "source": [
    "array4 = np.arange(1,101,7) ##taking step before the next value\n",
    "array4"
   ]
  },
  {
   "cell_type": "code",
   "execution_count": 22,
   "id": "daf7effe-8443-4372-b077-64903ec10554",
   "metadata": {},
   "outputs": [
    {
     "data": {
      "text/plain": [
       "62"
      ]
     },
     "execution_count": 22,
     "metadata": {},
     "output_type": "execute_result"
    }
   ],
   "source": [
    "array5 = np.random.randint(15,105,)\n",
    "array5"
   ]
  },
  {
   "cell_type": "code",
   "execution_count": 23,
   "id": "9d41722f-80a3-427a-96eb-17fdcdd38c0b",
   "metadata": {},
   "outputs": [
    {
     "data": {
      "text/plain": [
       "array([ 57,  94,  25,  49, 104,  44,  58, 100,  20,  16,  42,  88,  25,\n",
       "        37,  36,  86,  34,  98,  30,  82,  44,  30,  40,  88,  63,  52,\n",
       "        36,  63,  41,  20,  79, 100,  86,  37,  51,  98,  95,  67,  66,\n",
       "        83,  58,  76,  60,  30,  16,  99,  84, 100,  91,  71, 100,  42,\n",
       "        18,  71,  84,  85,  85,  72,  89,  60,  92,  82,  67,  77,  70,\n",
       "        98,  73,  40,  64,  21,  16,  79,  80,  39,  56,  68,  88,  17,\n",
       "        58,  39,  33,  33, 100,  63,  17,  81,  49,  48,  51, 101,  60,\n",
       "        31,  66,  34,  40,  79,  73,  62,  40,  59], dtype=int32)"
      ]
     },
     "execution_count": 23,
     "metadata": {},
     "output_type": "execute_result"
    }
   ],
   "source": [
    "array5 = np.random.randint(15,105,100) # START,END,TOTAL NO GENERATED\n",
    "array5"
   ]
  },
  {
   "cell_type": "code",
   "execution_count": 24,
   "id": "c7580e54-7b1c-4de5-ba19-ceb4ade37a36",
   "metadata": {},
   "outputs": [
    {
     "data": {
      "text/plain": [
       "array([ 93,  76,  31,  88,  23,  77,  42,  45,  95,  22,  91,  30,  68,\n",
       "        95,  42,  59,  92,  90,  80,  62,  45,  99, 101,  33,  24,  56,\n",
       "        77,  16,  97,  31,  93,  20,  73,  15,  95,  19,  51,  66,  42,\n",
       "        46,  17,  83,  53,  98,  34,  33,  22,  45,  77,  26,  82,  80,\n",
       "        70,  18,  93,  42,  44,  48, 104, 100,  22,  31,  29,  46,  24,\n",
       "        53,  62,  31,  20,  49,  60,  74,  39,  28,  46,  47,  91,  59,\n",
       "        20,  29,  62,  97,  15,  22, 101,  31,  79,  23,  59,  52,  90,\n",
       "        20,  37,  67,  84,  97,  75,  44, 103,  94], dtype=int32)"
      ]
     },
     "execution_count": 24,
     "metadata": {},
     "output_type": "execute_result"
    }
   ],
   "source": [
    "np.random.seed(5)\n",
    "array5 = np.random.randint(15,105,100)\n",
    "array5"
   ]
  },
  {
   "cell_type": "code",
   "execution_count": 25,
   "id": "efc0d84c-00ce-44ba-86e1-231783a40d6b",
   "metadata": {},
   "outputs": [
    {
     "data": {
      "text/plain": [
       "array([[ 93,  76,  31,  88,  23,  77,  42,  45,  95,  22],\n",
       "       [ 91,  30,  68,  95,  42,  59,  92,  90,  80,  62],\n",
       "       [ 45,  99, 101,  33,  24,  56,  77,  16,  97,  31],\n",
       "       [ 93,  20,  73,  15,  95,  19,  51,  66,  42,  46],\n",
       "       [ 17,  83,  53,  98,  34,  33,  22,  45,  77,  26],\n",
       "       [ 82,  80,  70,  18,  93,  42,  44,  48, 104, 100],\n",
       "       [ 22,  31,  29,  46,  24,  53,  62,  31,  20,  49],\n",
       "       [ 60,  74,  39,  28,  46,  47,  91,  59,  20,  29],\n",
       "       [ 62,  97,  15,  22, 101,  31,  79,  23,  59,  52],\n",
       "       [ 90,  20,  37,  67,  84,  97,  75,  44, 103,  94]], dtype=int32)"
      ]
     },
     "execution_count": 25,
     "metadata": {},
     "output_type": "execute_result"
    }
   ],
   "source": [
    "#converting 1 dimention array to 2 dimention array\n",
    "array6 =array5.reshape(10,10)\n",
    "array6"
   ]
  },
  {
   "cell_type": "code",
   "execution_count": 26,
   "id": "be12c654-4d9b-4975-8afc-c012b667c175",
   "metadata": {},
   "outputs": [
    {
     "data": {
      "text/plain": [
       "np.int32(34)"
      ]
     },
     "execution_count": 26,
     "metadata": {},
     "output_type": "execute_result"
    }
   ],
   "source": [
    "array6[4,4]"
   ]
  },
  {
   "cell_type": "code",
   "execution_count": 27,
   "id": "31bd0f39-fd83-49a5-b78b-ec63a6f9971e",
   "metadata": {},
   "outputs": [
    {
     "data": {
      "text/plain": [
       "array([[15, 95, 19],\n",
       "       [98, 34, 33],\n",
       "       [18, 93, 42],\n",
       "       [46, 24, 53]], dtype=int32)"
      ]
     },
     "execution_count": 27,
     "metadata": {},
     "output_type": "execute_result"
    }
   ],
   "source": [
    "#selecting range of values from 2 dimentional array using index location start to stop\n",
    "array6[3:7,3:6]"
   ]
  },
  {
   "cell_type": "code",
   "execution_count": 28,
   "id": "c843f323-7292-429e-b75f-1b5c341013c1",
   "metadata": {},
   "outputs": [
    {
     "data": {
      "text/plain": [
       "array([[ 93,  76,  31,  88,  23,  77,  42,  45,  95,  22],\n",
       "       [ 91,  30,  68,  95,  42,  59,  92,  90,  80,  62],\n",
       "       [ 45,  99, 101,  33,  24,  56,  77,  16,  97,  31],\n",
       "       [ 93,  20,  73, 100, 100, 100,  51,  66,  42,  46],\n",
       "       [ 17,  83,  53, 100, 100, 100,  22,  45,  77,  26],\n",
       "       [ 82,  80,  70, 100, 100, 100,  44,  48, 104, 100],\n",
       "       [ 22,  31,  29, 100, 100, 100,  62,  31,  20,  49],\n",
       "       [ 60,  74,  39,  28,  46,  47,  91,  59,  20,  29],\n",
       "       [ 62,  97,  15,  22, 101,  31,  79,  23,  59,  52],\n",
       "       [ 90,  20,  37,  67,  84,  97,  75,  44, 103,  94]], dtype=int32)"
      ]
     },
     "execution_count": 28,
     "metadata": {},
     "output_type": "execute_result"
    }
   ],
   "source": [
    "array6[3:7,3:6] =100 #broadcasting is distriputing values over selected places\n",
    "array6"
   ]
  },
  {
   "cell_type": "code",
   "execution_count": 29,
   "id": "e9bc1568-abcd-4be5-8f46-f7cfadc33aa8",
   "metadata": {},
   "outputs": [
    {
     "data": {
      "text/plain": [
       "array([ 93,  76,  31,  88,  23,  77,  42,  45,  95,  22,  91,  30,  68,\n",
       "        95,  42,  59,  92,  90,  80,  62,  45,  99, 101,  33,  24,  56,\n",
       "        77,  16,  97,  31,  93,  20,  73, 100, 100, 100,  51,  66,  42,\n",
       "        46,  17,  83,  53, 100, 100, 100,  22,  45,  77,  26,  82,  80,\n",
       "        70, 100, 100, 100,  44,  48, 104, 100,  22,  31,  29, 100, 100,\n",
       "       100,  62,  31,  20,  49,  60,  74,  39,  28,  46,  47,  91,  59,\n",
       "        20,  29,  62,  97,  15,  22, 101,  31,  79,  23,  59,  52,  90,\n",
       "        20,  37,  67,  84,  97,  75,  44, 103,  94], dtype=int32)"
      ]
     },
     "execution_count": 29,
     "metadata": {},
     "output_type": "execute_result"
    }
   ],
   "source": [
    "array7 = array6.flatten() #to return 2 dimention array to 1 dimention\n",
    "array7"
   ]
  },
  {
   "cell_type": "markdown",
   "id": "396fde26-fe80-489d-9311-0e5adedee497",
   "metadata": {},
   "source": [
    "statistics in array"
   ]
  },
  {
   "cell_type": "code",
   "execution_count": 30,
   "id": "52885074-6a30-4edf-9f2d-9bc78c17a50d",
   "metadata": {},
   "outputs": [
    {
     "data": {
      "text/plain": [
       "np.int64(6311)"
      ]
     },
     "execution_count": 30,
     "metadata": {},
     "output_type": "execute_result"
    }
   ],
   "source": [
    "np.sum(array7) ##sum"
   ]
  },
  {
   "cell_type": "code",
   "execution_count": 31,
   "id": "d0e9590b-68b0-456c-a6c8-c42ee263af42",
   "metadata": {},
   "outputs": [
    {
     "data": {
      "text/plain": [
       "np.int32(104)"
      ]
     },
     "execution_count": 31,
     "metadata": {},
     "output_type": "execute_result"
    }
   ],
   "source": [
    "np.max(array7) ##maximum"
   ]
  },
  {
   "cell_type": "code",
   "execution_count": 32,
   "id": "a223aa68-1516-4d66-8822-7260e2ee2033",
   "metadata": {},
   "outputs": [
    {
     "data": {
      "text/plain": [
       "np.int32(15)"
      ]
     },
     "execution_count": 32,
     "metadata": {},
     "output_type": "execute_result"
    }
   ],
   "source": [
    "np.min(array7)"
   ]
  },
  {
   "cell_type": "code",
   "execution_count": 33,
   "id": "d59c8916-d4a6-448d-b823-789a243a4637",
   "metadata": {},
   "outputs": [
    {
     "data": {
      "text/plain": [
       "np.float64(63.11)"
      ]
     },
     "execution_count": 33,
     "metadata": {},
     "output_type": "execute_result"
    }
   ],
   "source": [
    "np.mean(array7)"
   ]
  },
  {
   "cell_type": "code",
   "execution_count": 34,
   "id": "1b3d0a57-bfaf-4b91-94d9-64f28cbc72a7",
   "metadata": {},
   "outputs": [
    {
     "data": {
      "text/plain": [
       "np.float64(62.0)"
      ]
     },
     "execution_count": 34,
     "metadata": {},
     "output_type": "execute_result"
    }
   ],
   "source": [
    "np.median(array7)"
   ]
  },
  {
   "cell_type": "code",
   "execution_count": 35,
   "id": "5a20e916-0958-407c-abd3-1a5c08e971bb",
   "metadata": {},
   "outputs": [
    {
     "data": {
      "text/plain": [
       "np.float64(62.0)"
      ]
     },
     "execution_count": 35,
     "metadata": {},
     "output_type": "execute_result"
    }
   ],
   "source": [
    "np.percentile(array7,50) # to check the percentage"
   ]
  },
  {
   "cell_type": "code",
   "execution_count": 36,
   "id": "c1742ccd-c80f-4a13-8fd2-7492e5f7f4ff",
   "metadata": {},
   "outputs": [
    {
     "data": {
      "text/plain": [
       "np.int64(58)"
      ]
     },
     "execution_count": 36,
     "metadata": {},
     "output_type": "execute_result"
    }
   ],
   "source": [
    "np.argmax(array7) #to located the first maximum value"
   ]
  },
  {
   "cell_type": "markdown",
   "id": "e37c5bfa-30cd-4e93-8198-65ea9da7f8d6",
   "metadata": {},
   "source": [
    "understanding data analysis and visual representation"
   ]
  },
  {
   "cell_type": "code",
   "execution_count": 37,
   "id": "10901e78-0be7-42ac-a185-2acbbad56c72",
   "metadata": {},
   "outputs": [],
   "source": [
    "#1.DOMAIN KNOWLEDGE\n",
    "#2.COMMUNICATION SKILSS\n",
    "#3.PROBLEM-SOLVING AND CRITICAL THINKING\n",
    "#4.COLLABORATION AND TEAMWORK\n",
    "#5.ETHICS AND DATA PRIVACY\n",
    "#6.PROJECT MANAGEMENT\n",
    "#7.BUSINESS ACUMEN\n",
    "#8. ADAPTABILITY AND CONTINUOUS LEARNING\n",
    "#9. THE ART OF COMMUNICATION\n",
    "#10.TAILORING COMMNICATION TO YOUR AUDIENCE\n",
    "#11.PERSUASIVE COMMUNICATION\n",
    "#12.MASTERING VISUALIZATION TOOLS\n",
    "#13.CHOOSING RIGHT COLORS\n",
    "#14.CHOOSING THE RIGHT VISUALS\n",
    "#15.DESIGN PRINCIPLES\n",
    "#16.DATA STORYTELLING AND CONTEXT\n",
    "#17. USING DASHBOARD EFFECTIVLY\n",
    "#18.INFOGRAPHICS AND INTERACTIVE REPORTS\n",
    "#19.SIMPLfYING COMPLEX DATA\n",
    "#20."
   ]
  }
 ],
 "metadata": {
  "kernelspec": {
   "display_name": "Python 3",
   "language": "python",
   "name": "python3"
  },
  "language_info": {
   "codemirror_mode": {
    "name": "ipython",
    "version": 3
   },
   "file_extension": ".py",
   "mimetype": "text/x-python",
   "name": "python",
   "nbconvert_exporter": "python",
   "pygments_lexer": "ipython3",
   "version": "3.12.4"
  }
 },
 "nbformat": 4,
 "nbformat_minor": 5
}
