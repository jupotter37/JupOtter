{
 "cells": [
  {
   "cell_type": "code",
   "execution_count": 1,
   "metadata": {},
   "outputs": [],
   "source": [
    "from tensorflow.keras.models import load_model\n",
    "from tensorflow.keras.preprocessing.text import Tokenizer\n",
    "from tensorflow.keras.preprocessing.sequence import pad_sequences\n",
    "import numpy as np\n",
    "\n",
    "# Hàm phân loại chủ đề\n",
    "def categorize_project(project_name):\n",
    "    matched_themes = []\n",
    "    for theme, keywords in technically.items():\n",
    "        if any(keyword.lower() in project_name.lower() for keyword in keywords):\n",
    "            matched_themes.append(theme)\n",
    "    return ', '.join(matched_themes) if matched_themes else 'other'\n",
    "\n",
    "# Tạo từ điển ánh xạ với nhóm từ khóa cho mỗi chủ đề\n",
    "technically = {\n",
    "    'website': ['website', 'web'],\n",
    "    'mobile-app': ['mobile app', 'app di động', 'Xây dựng ứng dụng', 'Xây dựng Ứng dụng', 'Ứng dụng di động', 'Phát triển ứng dụng', 'Xây dựng ứng dụng'],\n",
    "    'game': ['game'],\n",
    "    'chatbot': ['chatbot', 'chat bot'],\n",
    "    'artificial-intelligence': ['trí tuệ nhân tạo'],\n",
    "    'machine-learning': ['machine learning', 'máy học'],\n",
    "    'deep-learning': ['deep learning', 'học sâu'],\n",
    "    'computer-vision': ['computer vision', 'thị giác máy tính'],\n",
    "    'big-data': ['big data', 'dữ liệu lớn', 'bigdata'],\n",
    "    'data-analysis': ['data analysis', 'phân tích dữ liệu'],\n",
    "    'cloud-computing': ['cloud computing', 'điện toán đám mây', 'K8s', 'kubernetes'],\n",
    "    'blockchain': ['blockchain', 'chuỗi khối', 'NFT'],\n",
    "    'robot': ['robot', 'robotics', 'robotic'],\n",
    "    'drone': ['drone', 'flycam'],\n",
    "    'vr': ['vr', 'thực tế ảo', 'virtual reality'],\n",
    "}\n",
    "\n",
    "# Danh sách các chủ đề dự đoán\n",
    "categories = list(technically.keys())\n",
    "\n",
    "# Hàm để chuẩn bị dữ liệu đầu vào\n",
    "def prepare_data(texts, tokenizer, max_length):\n",
    "    sequences = tokenizer.texts_to_sequences(texts)\n",
    "    data = pad_sequences(sequences, maxlen=max_length)\n",
    "    return data\n"
   ]
  },
  {
   "cell_type": "code",
   "execution_count": 2,
   "metadata": {},
   "outputs": [],
   "source": [
    "# Tải mô hình đã lưu\n",
    "model = load_model('best_model.keras')\n",
    "\n",
    "# Tạo tokenizer và chuẩn bị dữ liệu để dự đoán\n",
    "tokenizer = Tokenizer(num_words=10000)\n",
    "# texts = [\"Dự án ứng dụng di động mới\"]  # Thay thế bằng văn bản dự án của bạn"
   ]
  },
  {
   "cell_type": "code",
   "execution_count": 5,
   "metadata": {},
   "outputs": [],
   "source": [
    "# Computer Science - AI\n",
    "# Xây dựng hệ thống chatbot tự động tư vấn tuyển sinh\n",
    "# Dự đoán doanh thu bán hàng dựa trên phân tích dữ liệu\n",
    "# Phân loại cảm xúc trong văn bản tiếng Việt\n",
    "# Nhận dạng giọng nói và chuyển đổi thành văn bản tiếng Việt\n",
    "# Hệ thống phát hiện gian lận giao dịch ngân hàng\n",
    "# Ứng dụng AI trong phân tích y học\n",
    "# Xây dựng hệ thống đề xuất sản phẩm dựa trên sở thích khách hàng\n",
    "# Phân loại ảnh và nhận diện đối tượng trong môi trường thực tế\n",
    "# Hệ thống quản lý học tập thông minh\n",
    "# Tối ưu hóa lộ trình vận chuyển hàng hóa\n",
    "\n",
    "# Dùng website để mua đồ chơi cho trẻ\n",
    "# Dùng website để quản trị nhà máy điện\n",
    "# Xây dựng ứng dụng để quản lý thiết bị thông minh"
   ]
  },
  {
   "cell_type": "code",
   "execution_count": null,
   "metadata": {},
   "outputs": [],
   "source": []
  },
  {
   "cell_type": "code",
   "execution_count": 4,
   "metadata": {},
   "outputs": [
    {
     "name": "stdout",
     "output_type": "stream",
     "text": [
      "Dự án được chọn để dự đoán: ['Dùng website để mua đồ chơi cho trẻ']\n",
      "\u001b[1m1/1\u001b[0m \u001b[32m━━━━━━━━━━━━━━━━━━━━\u001b[0m\u001b[37m\u001b[0m \u001b[1m0s\u001b[0m 30ms/step\n",
      "Nhãn dự đoán: ['robot']\n"
     ]
    }
   ],
   "source": [
    "nameproject = [\"Dùng website để mua đồ chơi cho trẻ\"]  # Thay thế bằng văn bản dự án của bạn\n",
    "\n",
    "print(\"Dự án được chọn để dự đoán:\", nameproject)\n",
    "\n",
    "import pandas as pd\n",
    "\n",
    "# Tải dữ liệu\n",
    "pd_data = pd.read_csv('D:/Github/DanhgiaDuAnVaNghenghiepTuongLai/dataset/dataset_train_ver1.csv')\n",
    "df = pd_data[['nameProject_VNI']].copy()\n",
    "df['category'] = df['nameProject_VNI'].apply(categorize_project)\n",
    "\n",
    "# Tạo các cột chỉ báo cho mỗi chủ đề\n",
    "category_dummies = pd.get_dummies(df['category'].apply(lambda x: x.split(', ')).explode()).groupby(level=0).sum()\n",
    "df = pd.concat([df, category_dummies], axis=1)\n",
    "\n",
    "# Lấy văn bản dự án và các nhãn\n",
    "texts = df['nameProject_VNI'].values\n",
    "\n",
    "# Chuẩn bị tokenizer và padding\n",
    "tokenizer = Tokenizer(num_words=10000)\n",
    "tokenizer.fit_on_texts(texts)\n",
    "sequences = tokenizer.texts_to_sequences(texts)\n",
    "max_length = max(len(seq) for seq in sequences)\n",
    "\n",
    "# Bước 2: Chuẩn bị dữ liệu để dự đoán\n",
    "# Tokenize và Pad văn bản của dự án được chọn\n",
    "tokenized_project = tokenizer.texts_to_sequences([nameproject])\n",
    "padded_project = pad_sequences(tokenized_project, maxlen=max_length)\n",
    "\n",
    "# Bước 3: Dự đoán\n",
    "prediction = model.predict(padded_project)\n",
    "predicted_labels = (prediction > 0.5).astype(int)\n",
    "\n",
    "# Lấy các nhãn dự đoán\n",
    "predicted_categories = [categories[i] for i, value in enumerate(predicted_labels[0]) if value == 1]\n",
    "print(\"Nhãn dự đoán:\", predicted_categories)"
   ]
  }
 ],
 "metadata": {
  "kernelspec": {
   "display_name": "dacs",
   "language": "python",
   "name": "python3"
  },
  "language_info": {
   "codemirror_mode": {
    "name": "ipython",
    "version": 3
   },
   "file_extension": ".py",
   "mimetype": "text/x-python",
   "name": "python",
   "nbconvert_exporter": "python",
   "pygments_lexer": "ipython3",
   "version": "3.12.3"
  }
 },
 "nbformat": 4,
 "nbformat_minor": 2
}
