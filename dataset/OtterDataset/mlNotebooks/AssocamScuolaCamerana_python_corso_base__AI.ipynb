{
 "cells": [
  {
   "cell_type": "markdown",
   "id": "ccde40a7",
   "metadata": {
    "is_toc": true
   },
   "source": [
    "**Sommario**\n",
    "  - [Evoluzione dell'AI](#evoluzione-dell'ai)\n",
    "    - [Artificial Narrow Intelligence (ANI)](#artificial-narrow-intelligence-ani)\n",
    "    - [Artificial General Intelligence (AGI)](#artificial-general-intelligence-agi)\n",
    "    - [Artificial Super Intelligence (ASI)](#artificial-super-intelligence-asi)\n",
    "  - [Settori di ricerca, sviluppo e applicazione](#settori-di-ricerca-sviluppo-e-applicazione)\n",
    "    - [Data Science e Data Analysis](#data-science-e-data-analysis)\n",
    "    - [Artificial Intelligence (AI)](#artificial-intelligence-ai)\n",
    "    - [Machine Learning (ML)](#machine-learning-ml)\n",
    "    - [Deep Learning (DL)](#deep-learning-dl)\n",
    "    - [Generative Intelligence (GI)](#generative-intelligence-gi)\n",
    "  - [Tipi di AI e applicazioni](#tipi-di-ai-e-applicazioni)\n",
    "    - [Intelligenza Predittiva](#intelligenza-predittiva)\n",
    "    - [Intelligenza Generativa](#intelligenza-generativa)\n",
    "  - [Tecnologie importanti – Parole chiave](#tecnologie-importanti-–-parole-chiave)\n",
    "  - [Tecnologie importanti - Percorso storico](#tecnologie-importanti---percorso-storico)\n",
    "  - [Pro e Contro dell'AI](#pro-e-contro-dell'ai)\n",
    "  - [Prospettive future](#prospettive-future)\n",
    "  - [Articoli e risorse interessanti](#articoli-e-risorse-interessanti)\n",
    "  - [Alcuni interessanti servizi commerciali basati su IA generativa](#alcuni-interessanti-servizi-commerciali-basati-su-ia-generativa)\n",
    "  - [Piattaforme per sviluppo e ricerca](#piattaforme-per-sviluppo-e-ricerca)"
   ]
  },
  {
   "cell_type": "markdown",
   "metadata": {},
   "source": [
    "## Evoluzione dell'AI\n",
    "\n",
    "![ai_evolution.jpg](./imgs/ai/ai_evolution.jpg)\n",
    "\n",
    "### Artificial Narrow Intelligence (ANI)\n",
    "L'ANI rappresenta il livello più basilare di intelligenza artificiale, dove i sistemi sono progettati e addestrati per eseguire compiti specifici senza la capacità di andare oltre quelli per cui sono stati programmatisulla base di una limitata predisposizione o apprendimento.\n",
    "\n",
    "### Artificial General Intelligence (AGI)\n",
    "L'AGI rappresenta un'evoluzione dell'AI dove i sistemi possono comprendere, apprendere e applicare le conoscenze in vari contesti, simili a come un essere umano può fare. Questo stadio dell'intelligenza non è ancora stato raggiunto.\n",
    "\n",
    "### Artificial Super Intelligence (ASI)\n",
    "L'ASI si riferisce a un potenziale futuro stadio dell'intelligenza artificiale in cui i sistemi sarebbero dotati di intelligenza che supera di gran lunga quella umana, con la capacità di auto-miglioramento e innovazione indipendente."
   ]
  },
  {
   "cell_type": "markdown",
   "metadata": {},
   "source": [
    "## Settori di ricerca, sviluppo e applicazione\n",
    "\n",
    "![ai_types.png](./imgs/ai/ai_types.png)\n",
    "\n",
    "### Data Science e Data Analysis\n",
    "Il cuore pulsante dell'AI, dove grandi dataset sono esaminati per rivelare pattern nascosti, correlazioni e tendenze.\n",
    "\n",
    "### Artificial Intelligence (AI)\n",
    "Il settore generico che si riferisce alla creazione di algoritmi per simulare l'intelligenza umana.\n",
    "\n",
    "### Machine Learning (ML)\n",
    "Si riferisce genericamente a metodi in cui le macchine apprendono dai dati. La tecnologia che sta alla base del machine learning è il \"neurone artificiale\".\n",
    "\n",
    "### Deep Learning (DL)\n",
    "Un sottocampo del ML basato su reti neurali artificiali con vari strati, che permette alle macchine di riconoscere pattern complessi dai dati.\n",
    "\n",
    "### Generative Intelligence (GI)\n",
    "UA sua volta un sottocampo del DL. Sta a indicare l'uso dell'AI per creare nuovi dati che assomiglino a dati reali, come immagini, testo e suoni, attraverso tecniche come GANs VAEs e architetture come i *transformer*."
   ]
  },
  {
   "cell_type": "markdown",
   "metadata": {},
   "source": [
    "## Tipi di AI e applicazioni\n",
    "\n",
    "![ai_generative-vs-predictive.jpg](./imgs/ai/ai_generative-vs-predictive.jpg)\n",
    "\n",
    "### Intelligenza Predittiva\n",
    "Usata in analisi predittive per prevedere trend futuri basandosi su dati storici e attuali. Si ottiene principalmente con le tecniche di *Machine Learning*.\n",
    "\n",
    "### Intelligenza Generativa\n",
    "Impiegata per generare nuovi contenuti, simulando la creatività umana attraverso l'apprendimento profondo. Si ottiene principalmente con le tecniche di *Deep Learning*."
   ]
  },
  {
   "cell_type": "markdown",
   "metadata": {},
   "source": [
    "## Tecnologie importanti – Parole chiave\n",
    "\n",
    "- **Machine Learning (ML)**: \n",
    "    - **Supervised Learning (SML)**: Impara da un insieme di dati etichettati.\n",
    "    - **Unsupervised Learning (UML)**: Trova pattern in dati non etichettati.\n",
    "    - **Reinforcement Learning (RML)**: Impara tramite la sperimentazione per tentativi ed errori e il rinforzo positivo o negativo.\n",
    "\n",
    "- **Deep Learning (DL)**:\n",
    "    - **Artificial Neural Networks (ANNs)**: Imitano il funzionamento del cervello umano per elaborare dati attraverso strati di nodi interconnessi.\n",
    "    - **Convolutional Neural Networks (CNNs)**: Specializzati nel riconoscimento di pattern visivi attraverso la convoluzione di immagini con filtri che permettono di catturare caratteristiche specifiche.\n",
    "    - **Recurrent Neural Networks (RNNs)**: Ideali per l'elaborazione di sequenze di dati (come il linguaggio naturale o serie temporali), grazie alla loro capacità di mantenere informazioni in una \"memoria\" temporanea.\n",
    "\n",
    "- **Generative Intelligence (GI)**:\n",
    "    - **Generative Adversarial Networks (GANs)**: Due reti neurali, il generatore e il discriminatore, si addestrano reciprocamente creando dati nuovi che imitano la distribuzione di un set di dati reale.\n",
    "    - **Variational Autoencoders (VAEs)**: Apprendono a comprimere i dati in una rappresentazione a bassa dimensionalità e a generare dati simili a quelli originali dalla rappresentazione compressa.\n",
    "    - **Transformers**: Modelli basati su meccanismi di attenzione che gestiscono efficacemente relazioni a lungo termine in dati sequenziali, spesso utilizzati per compiti di elaborazione del linguaggio naturale e oltre."
   ]
  },
  {
   "cell_type": "markdown",
   "metadata": {},
   "source": [
    "## Tecnologie importanti - Percorso storico\n",
    "\n",
    "- Neurone artificiale di Warren & Pitts (anni '40)\n",
    "- Percettrone di Rosenblatt (anni '50)\n",
    "- Neocognitrone di Fukishima (anni '70)\n",
    "- Dagli anni '70 in avanti le reti neurali si sono fatte via via sempre più \"profonde\" (molti strati, *layer*) e i componenti che costituiscono e controllano queste architetture si sono fatti sempre più sofisticati.\n",
    "\n",
    "![ai_timeline.jpg](./imgs/ai/ai_timeline.jpg)"
   ]
  },
  {
   "cell_type": "markdown",
   "metadata": {},
   "source": [
    "## Pro e Contro dell'AI\n",
    "\n",
    "| VANTAGGI                                | SVANTAGGI                           |\n",
    "|-----------------------------------------|-------------------------------------|\n",
    "| Riduce gli errori umani                 | Alti costi                          |\n",
    "| Diminuisce lo stress lavorativo         | Alta richiesta energetica           |\n",
    "| Offre assistenza digitale               | Annichilimento dei talenti umani    |\n",
    "| Fornisce risposte più accurate e veloci | Diminuzione di prodotti materiali   |\n",
    "| Facile accesso/applicazione             | Si presta ad usi altamente impropri |\n"
   ]
  },
  {
   "cell_type": "markdown",
   "metadata": {},
   "source": [
    "## Prospettive future\n",
    "\n",
    "- Riflessione sulle sfide tecniche, etiche e sul futuro dell'AI nella società."
   ]
  },
  {
   "cell_type": "markdown",
   "metadata": {},
   "source": [
    "## Articoli e risorse interessanti\n",
    "\n",
    "[ChatGPT Is a Blurry JPEG of the Web (The New Yorker)](https://www.newyorker.com/tech/annals-of-technology/chatgpt-is-a-blurry-jpeg-of-the-web)\n",
    "\n",
    "\n",
    "[CNN Explainer - Learn exploring Convolutional Neural Network (CNN)](https://poloclub.github.io/cnn-explainer/)\n",
    "\n",
    "[Multimodal Neurons in Artificial Neural Networks](https://distill.pub/2021/multimodal-neurons/)\n",
    "\n",
    "[Embedding projector](https://projector.tensorflow.org/)\n",
    "\n",
    "[The OpenAI Microscope](https://microscope.openai.com/models)\n"
   ]
  },
  {
   "cell_type": "markdown",
   "metadata": {},
   "source": [
    "## Alcuni interessanti servizi commerciali basati su IA generativa\n",
    "\n",
    "Chatbot\n",
    "- https://chat.openai.com/\n",
    "- https://copilot.microsoft.com/\n",
    "- https://gemini.google.com/app\n",
    "\n",
    "Coding assistants\n",
    "- https://github.com/features/copilot\n",
    "- https://codeium.com/\n",
    "- https://www.codium.ai/\n",
    "- https://www.tabnine.com/\n",
    "\n",
    "Generazione immagini\n",
    "- https://www.midjourney.com/\n",
    "- https://civitai.com/\n",
    "- https://mage.space/\n",
    "- https://leonardo.ai/\n",
    "- https://copilot.microsoft.com/images/create/\n",
    "- https://firefly.adobe.com/\n",
    "\n",
    "Generazione video\n",
    "- https://pika.art/\n",
    "- https://runwayml.com/\n",
    "\n",
    "Google AI Test Kitchen\n",
    "- https://aitestkitchen.withgoogle.com/\n"
   ]
  },
  {
   "cell_type": "markdown",
   "metadata": {},
   "source": [
    "## Piattaforme per sviluppo e ricerca\n",
    "\n",
    "Collaborazione, sviluppo e test nel settore AI\n",
    "- https://huggingface.co/\n",
    "- https://replicate.com/\n",
    "- https://openxlab.org.cn/apps\n",
    "\n",
    "OpenAI Playground\n",
    "- https://platform.openai.com/playground"
   ]
  }
 ],
 "metadata": {
  "language_info": {
   "name": "python"
  }
 },
 "nbformat": 4,
 "nbformat_minor": 2
}
