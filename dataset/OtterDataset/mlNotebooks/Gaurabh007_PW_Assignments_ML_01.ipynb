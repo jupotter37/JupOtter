{
 "cells": [
  {
   "attachments": {},
   "cell_type": "markdown",
   "metadata": {},
   "source": [
    "**Q1. Explain the following with an Example <br> 1. Artificial Intelligence <br> 2. Machine Learning <br> 3. Deep Learning** "
   ]
  },
  {
   "attachments": {},
   "cell_type": "markdown",
   "metadata": {},
   "source": [
    "1. Artificial Intelligence: Smart Application that can perform its own task without any human intervention. Examples: Self Driving Cars, Robots\n",
    "\n",
    "2. Machine Learning: It provides statistical tools to learn analyze, visualize and develop predictive models from the data. Examples: Regression Application, Classification Application.\n",
    "\n",
    "3. Deep Learning: It involves training artificial neural networks with multiple layers to perform complex tasks such as image and speech recognition, natural language processing, and decision-making.  "
   ]
  },
  {
   "attachments": {},
   "cell_type": "markdown",
   "metadata": {},
   "source": [
    "**Q2. What is supervised learning? List some examples of supervised learning.**"
   ]
  },
  {
   "attachments": {},
   "cell_type": "markdown",
   "metadata": {},
   "source": [
    "It is a type of Machine Learing in which an Algorithm learn to make prediction based on the labeled data. In otherwords, The Algorithm is given a dataset with input and output for training purpose and after it gets the input data it predicts the output.\n",
    "\n",
    "Example:\n",
    "For example, in the postal code recognition problem, a set of handwritten postal code images and their corresponding machine- readable translations are used as the training examples, which supervise the learning of the classification model."
   ]
  },
  {
   "attachments": {},
   "cell_type": "markdown",
   "metadata": {},
   "source": [
    "**Q3. What is unsupervised learning? List some examples of unsupervised learning.**"
   ]
  },
  {
   "attachments": {},
   "cell_type": "markdown",
   "metadata": {},
   "source": [
    "It is a type of Machine Learing in which an Algorithm is used to identify pattern and relationship in data, without knowing the labeled data. This can involve in identifying cluster of similar data points, grouping the Data Points."
   ]
  },
  {
   "attachments": {},
   "cell_type": "markdown",
   "metadata": {},
   "source": [
    "**Q4. What is the difference between AI, ML, DL, and DS?**"
   ]
  },
  {
   "cell_type": "markdown",
   "metadata": {},
   "source": [
    "+ **Scope and Goal**: AI is the broader concept of simulating human intelligence in machines, while ML is a subset of AI that focuses on the development of algorithms that can learn from data. DL is a specialized type of ML that uses deep neural networks. DS, on the other hand, is the field that deals with the entire data lifecycle, including data processing, analysis, and extracting insights.\n",
    "\n",
    "* **Approach**: AI can encompass various techniques, including rule-based systems, symbolic reasoning, and statistical methods, while ML and DL primarily rely on statistical learning and neural network-based approaches to make predictions and decisions.\n",
    "\n",
    "* **Data Usage**: ML and DL algorithms heavily rely on data for training and learning, whereas AI can involve non-data-driven approaches like expert systems.\n",
    "\n",
    "* **Interdisciplinary Nature**: Data science is an interdisciplinary field that combines elements of computer science, statistics, domain knowledge, and visualization to draw insights from data. AI, ML, and DL are more focused on specific algorithms and methodologies within the broader realm of data science."
   ]
  },
  {
   "attachments": {},
   "cell_type": "markdown",
   "metadata": {},
   "source": [
    "**Q5. What are the main differences between supervised, unsupervised, and semi-supervised learning?**"
   ]
  },
  {
   "cell_type": "markdown",
   "metadata": {},
   "source": [
    "1. Supervised Learning : It is a type of Machine Learning in which an Algorithm learn to make Prediction based on labeled Data. It is given a set of data for training purpose and test or unseenn data is used to check how well the machine has performed on the test data. \n",
    "\n",
    "2. Unsupervised Learning : It is a type of Machine Learning in which the algorithm is used to identify patterns and relationship in data, without knowing the labeled data. This can involve in identifying clusters of similar data points, grouping the Data Points.\n",
    "\n",
    "3. Semi-supervised Learning : It is a type of Machine Learning that combines both Supervised and Unsupervised Learning. It is mainly used when there is limited amount of data for training, a large amount of unlabeled data."
   ]
  },
  {
   "attachments": {},
   "cell_type": "markdown",
   "metadata": {},
   "source": [
    "**Q6. What is train, test and validation split? Explain the importance of each term.**"
   ]
  },
  {
   "cell_type": "markdown",
   "metadata": {},
   "source": [
    "Train split : The training set is the largest subset of the dataset and is used to train the machine learning model. It is the data on which the model learns the underlying patterns and relationships between features and labels. \n",
    "\n",
    "Test split : The test set is a completely independent subset of the dataset that the model has never seen during training or hyperparameter tuning. It is used only once, after the model is fully trained and its hyperparameters are selected based on validation set performance.\n",
    "\n",
    "Validation split : The validation set is a smaller subset of the dataset used to tune hyperparameters and evaluate the model during training. Unlike the training set, the model is not directly trained on this data; it is only used to assess the model's performance during different training epochs or iterations."
   ]
  },
  {
   "attachments": {},
   "cell_type": "markdown",
   "metadata": {},
   "source": [
    "**Q7. How can unsupervised learning be used in anomaly detection?**"
   ]
  },
  {
   "cell_type": "markdown",
   "metadata": {},
   "source": [
    "Unsupervised learning can be effectively used in anomaly detection, as it allows us to identify unusual patterns or outliers in data without the need for labeled training examples. Anomaly detection is the task of finding data points that deviate significantly from the majority of the data, suggesting that they are rare and potentially indicative of abnormal behavior or events. "
   ]
  },
  {
   "attachments": {},
   "cell_type": "markdown",
   "metadata": {},
   "source": [
    "**Q8. List down some commonly used supervised learning algorithms and unsupervised learning algorithms.**"
   ]
  },
  {
   "cell_type": "markdown",
   "metadata": {},
   "source": [
    "Supervised Learning Algorithm: -\n",
    "1. Classification \n",
    "2. Regression\n",
    "\n",
    "Unsupervised Learning Algorithm: -\n",
    "1. K-Means\n",
    "2. PCA\n",
    "3. DBSCAN"
   ]
  }
 ],
 "metadata": {
  "language_info": {
   "name": "python"
  },
  "orig_nbformat": 4
 },
 "nbformat": 4,
 "nbformat_minor": 2
}
