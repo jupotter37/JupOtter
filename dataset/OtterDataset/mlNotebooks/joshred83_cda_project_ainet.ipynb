{
  "cells": [
    {
      "cell_type": "markdown",
      "metadata": {
        "colab_type": "text",
        "id": "view-in-github"
      },
      "source": [
        "<a href=\"https://colab.research.google.com/github/joshred83/cda_project/blob/main/ainet.ipynb\" target=\"_parent\"><img src=\"https://colab.research.google.com/assets/colab-badge.svg\" alt=\"Open In Colab\"/></a>"
      ]
    },
    {
      "cell_type": "markdown",
      "metadata": {
        "id": "-opASmQrKyKV"
      },
      "source": [
        "\n"
      ]
    },
    {
      "cell_type": "code",
      "execution_count": 50,
      "metadata": {
        "id": "AMLPrlRKKzFX"
      },
      "outputs": [],
      "source": [
        "import pandas as pd\n",
        "from sklearn.feature_extraction.text import CountVectorizer, TfidfVectorizer\n",
        "from sklearn.linear_model import LassoCV\n",
        "from sklearn.base import BaseEstimator, TransformerMixin\n",
        "from scipy import sparse\n",
        "from sklearn.metrics import r2_score\n",
        "import numpy as np"
      ]
    },
    {
      "cell_type": "markdown",
      "metadata": {
        "id": "2R3lZcTGO2gR"
      },
      "source": []
    },
    {
      "cell_type": "code",
      "execution_count": 51,
      "metadata": {
        "id": "F8THePLzLV7B"
      },
      "outputs": [],
      "source": [
        "df = pd.read_csv(\"https://ai-jobs.net/salaries/download/salaries.csv\")"
      ]
    },
    {
      "cell_type": "code",
      "execution_count": 52,
      "metadata": {
        "colab": {
          "base_uri": "https://localhost:8080/"
        },
        "id": "TKj4N9kJVLAO",
        "outputId": "60a287b3-170e-4e1e-cc1e-c8fa80559a72"
      },
      "outputs": [],
      "source": [
        "ds_titles = [\n",
        "    \"AI Architect\",\n",
        "    \"AI Developer\",\n",
        "    \"AI Engineer\",\n",
        "    \"AI Product Manager\",\n",
        "    \"AI Programmer\",\n",
        "    \"AI Research Engineer\",\n",
        "    \"AI Scientist\",\n",
        "    \"Analytics Engineer\",\n",
        "    \"Analytics Engineering Manager\",\n",
        "    \"Applied Data Scientist\",\n",
        "    \"Applied Machine Learning Engineer\",\n",
        "    \"Applied Machine Learning Scientist\",\n",
        "    \"Data Analytics Consultant\",\n",
        "    \"Data Analytics Engineer\",\n",
        "    \"Data Analytics Lead\",\n",
        "    \"Data Analytics Manager\",\n",
        "    \"Data Analytics Specialist\",\n",
        "    \"Data Engineer\",\n",
        "    \"Data Modeler\",\n",
        "    \"Data Modeller\",\n",
        "    \"Data Science\",\n",
        "    \"Data Science Consultant\",\n",
        "    \"Data Science Director\",\n",
        "    \"Data Science Engineer\",\n",
        "    \"Data Science Lead\",\n",
        "    \"Data Science Manager\",\n",
        "    \"Data Science Practitioner\",\n",
        "    \"Data Science Tech Lead\",\n",
        "    \"Data Scientist\",\n",
        "    \"Data Scientist Lead\",\n",
        "    \"Data Visualization Analyst\",\n",
        "    \"Data Visualization Engineer\",\n",
        "    \"Data Visualization Specialist\",\n",
        "    \"Decision Scientist\",\n",
        "    \"Deep Learning Engineer\",\n",
        "    \"Deep Learning Researcher\",\n",
        "    \"Director of Data Science\",\n",
        "    \"Head of Data Science\",\n",
        "    \"Head of Machine Learning\",\n",
        "    \"Insight Analyst\",\n",
        "    \"Lead Data Scientist\",\n",
        "    \"Lead Machine Learning Engineer\",\n",
        "    \"Machine Learning Developer\",\n",
        "    \"Machine Learning Engineer\",\n",
        "    \"Machine Learning Infrastructure Engineer\",\n",
        "    \"Machine Learning Manager\",\n",
        "    \"Machine Learning Modeler\",\n",
        "    \"Machine Learning Operations Engineer\",\n",
        "    \"Machine Learning Research Engineer\",\n",
        "    \"Machine Learning Researcher\",\n",
        "    \"Machine Learning Scientist\",\n",
        "    \"Machine Learning Software Engineer\",\n",
        "    \"Machine Learning Specialist\",\n",
        "    \"Manager Data Management\",\n",
        "    \"Managing Director Data Science\",\n",
        "    \"ML Engineer\",\n",
        "    \"MLOps Engineer\",\n",
        "    \"NLP Engineer\",\n",
        "    \"Principal Data Scientist\",\n",
        "    \"Principal Machine Learning Engineer\",\n",
        "    \"Prompt Engineer\",\n",
        "    \"Research Scientist\",\n",
        "]\n",
        "ds_titles = []\n",
        "pd.options.display.max_rows = 10000\n",
        "df[~df.job_title.isin(ds_titles)].job_title.value_counts().to_clipboard()"
      ]
    },
    {
      "cell_type": "code",
      "execution_count": 53,
      "metadata": {
        "colab": {
          "base_uri": "https://localhost:8080/",
          "height": 1000
        },
        "id": "86CfJkSPSh_V",
        "outputId": "c78a3352-09c0-4c9e-c2cc-c6ff9dd366ce"
      },
      "outputs": [
        {
          "name": "stdout",
          "output_type": "stream",
          "text": [
            "experience_level\n"
          ]
        },
        {
          "data": {
            "text/plain": [
              "array(['SE', 'MI', 'EN', 'EX'], dtype=object)"
            ]
          },
          "metadata": {},
          "output_type": "display_data"
        },
        {
          "name": "stdout",
          "output_type": "stream",
          "text": [
            "employment_type\n"
          ]
        },
        {
          "data": {
            "text/plain": [
              "array(['FT', 'CT', 'PT', 'FL'], dtype=object)"
            ]
          },
          "metadata": {},
          "output_type": "display_data"
        },
        {
          "name": "stdout",
          "output_type": "stream",
          "text": [
            "job_title\n"
          ]
        },
        {
          "data": {
            "text/plain": [
              "array(['AI Software Development Engineer', 'Data Manager',\n",
              "       'Data Engineer', 'Data Analyst', 'Data Science',\n",
              "       'Business Intelligence', 'Data Scientist',\n",
              "       'Master Data Specialist', 'Machine Learning Engineer',\n",
              "       'Data Analytics Manager', 'Research Scientist',\n",
              "       'Research Engineer', 'Research Analyst', 'Data Architect',\n",
              "       'Business Intelligence Engineer', 'Robotics Engineer',\n",
              "       'Machine Learning Modeler', 'AI Engineer', 'ML Engineer',\n",
              "       'NLP Engineer', 'Applied Scientist', 'Data Operations Manager',\n",
              "       'Data Science Manager', 'Data Modeler',\n",
              "       'Data Integration Specialist', 'Data Product Manager',\n",
              "       'Data Visualization Specialist', 'Data Specialist',\n",
              "       'Business Intelligence Lead', 'Business Intelligence Analyst',\n",
              "       'AI Software Engineer', 'Machine Learning Scientist',\n",
              "       'Data Science Engineer', 'Machine Learning Operations Engineer',\n",
              "       'Analytics Engineer', 'Data Management Analyst',\n",
              "       'Encounter Data Management Professional',\n",
              "       'Data Analytics Specialist', 'Head of Data', 'Data Analytics Lead',\n",
              "       'AI Scientist', 'Business Intelligence Developer',\n",
              "       'Machine Learning Developer', 'Data Management Specialist',\n",
              "       'Data Infrastructure Engineer', 'BI Developer',\n",
              "       'Admin & Data Analyst', 'Insight Analyst',\n",
              "       'Consultant Data Engineer', 'Business Intelligence Manager',\n",
              "       'Manager Data Management', 'Data Quality Manager',\n",
              "       'Business Intelligence Specialist', 'Data Operations Analyst',\n",
              "       'Director of Business Intelligence', 'Data Product Owner',\n",
              "       'AI Research Scientist', 'Data Operations Specialist',\n",
              "       'Bear Robotics', 'Data Science Consultant', 'Data Lead',\n",
              "       'Data Operations Associate', 'AI Architect', 'Lead Data Scientist',\n",
              "       'MLOps Engineer', 'BI Analyst', 'Applied Research Scientist',\n",
              "       'Prompt Engineer', 'Data Integration Engineer',\n",
              "       'Machine Learning Infrastructure Engineer', 'Data Developer',\n",
              "       'CRM Data Analyst', 'ETL Developer', 'Cloud Database Engineer',\n",
              "       'Data Science Analyst', 'Data Science Practitioner',\n",
              "       'BI Data Analyst', 'Applied Data Scientist',\n",
              "       'Data Quality Engineer', 'Computational Biologist',\n",
              "       'Big Data Engineer', 'Data Analytics Associate',\n",
              "       'Data Reporting Analyst', 'Data Management Consultant',\n",
              "       'Data Quality Analyst', 'Robotics Software Engineer',\n",
              "       'Machine Learning Researcher', 'Data DevOps Engineer',\n",
              "       'Data Science Director', 'Data Strategist', 'Big Data Developer',\n",
              "       'Quantitative Research Analyst', 'Lead Machine Learning Engineer',\n",
              "       'Machine Learning Research Engineer', 'Data Analytics Consultant',\n",
              "       'AI Research Engineer', 'AI Programmer', 'ETL Engineer',\n",
              "       'AI Product Manager', 'AI Developer', 'Computer Vision Engineer',\n",
              "       'Head of Machine Learning', 'Data Analyst Lead',\n",
              "       'Data Integration Developer', 'ML Ops Engineer',\n",
              "       'Data Pipeline Engineer', 'Lead Data Analyst', 'Data Science Lead',\n",
              "       'Director of Data Science', 'Managing Director Data Science',\n",
              "       'Business Data Analyst', 'Marketing Data Scientist',\n",
              "       'Deep Learning Engineer', 'Decision Scientist',\n",
              "       'Financial Data Analyst', 'Data Strategy Manager',\n",
              "       'Data Visualization Engineer', 'Azure Data Engineer',\n",
              "       'Principal Data Scientist', 'Staff Data Analyst',\n",
              "       'Machine Learning Software Engineer',\n",
              "       'Applied Machine Learning Scientist', 'Data Operations Engineer',\n",
              "       'Machine Learning Manager', 'Principal Machine Learning Engineer',\n",
              "       'Principal Data Engineer', 'Power BI Developer',\n",
              "       'Head of Data Science', 'Staff Machine Learning Engineer',\n",
              "       'Staff Data Scientist', 'Machine Learning Specialist',\n",
              "       'Business Intelligence Data Analyst', 'Data Modeller',\n",
              "       'Finance Data Analyst', 'Software Data Engineer',\n",
              "       'Compliance Data Analyst', 'Cloud Data Engineer',\n",
              "       'Analytics Engineering Manager', 'AWS Data Architect',\n",
              "       'Product Data Analyst', 'Data Visualization Analyst',\n",
              "       'Autonomous Vehicle Technician', 'Sales Data Analyst',\n",
              "       'Applied Machine Learning Engineer', 'BI Data Engineer',\n",
              "       'Deep Learning Researcher', 'Big Data Architect',\n",
              "       'Computer Vision Software Engineer', 'Marketing Data Engineer',\n",
              "       'Data Science Tech Lead', 'Data Scientist Lead',\n",
              "       'Marketing Data Analyst', 'Principal Data Architect',\n",
              "       'Data Analytics Engineer', 'Cloud Data Architect',\n",
              "       'Lead Data Engineer', 'Principal Data Analyst'], dtype=object)"
            ]
          },
          "metadata": {},
          "output_type": "display_data"
        },
        {
          "name": "stdout",
          "output_type": "stream",
          "text": [
            "salary_currency\n"
          ]
        },
        {
          "data": {
            "text/plain": [
              "array(['INR', 'USD', 'GBP', 'CAD', 'EUR', 'DKK', 'ILS', 'BRL', 'CHF',\n",
              "       'NZD', 'AUD', 'PLN', 'PHP', 'TRY', 'NOK', 'JPY', 'ZAR', 'HKD',\n",
              "       'SGD', 'THB', 'HUF', 'MXN', 'CLP'], dtype=object)"
            ]
          },
          "metadata": {},
          "output_type": "display_data"
        },
        {
          "name": "stdout",
          "output_type": "stream",
          "text": [
            "employee_residence\n"
          ]
        },
        {
          "data": {
            "text/plain": [
              "array(['IN', 'US', 'GB', 'CA', 'AU', 'NL', 'LT', 'DK', 'FR', 'ZA', 'NZ',\n",
              "       'AR', 'ES', 'KE', 'LV', 'GE', 'DE', 'IL', 'FI', 'AT', 'HR', 'BR',\n",
              "       'CH', 'AE', 'GR', 'PL', 'SA', 'UA', 'EG', 'PH', 'TR', 'OM', 'MX',\n",
              "       'PT', 'BA', 'IT', 'IE', 'EE', 'MT', 'LB', 'RO', 'HU', 'VN', 'NG',\n",
              "       'CZ', 'PK', 'UG', 'CO', 'SI', 'MU', 'AM', 'TH', 'KR', 'QA', 'RU',\n",
              "       'TN', 'GH', 'BE', 'AD', 'EC', 'PE', 'MD', 'NO', 'UZ', 'JP', 'HK',\n",
              "       'CF', 'SG', 'SE', 'KW', 'CY', 'IR', 'AS', 'CN', 'CR', 'CL', 'PR',\n",
              "       'BO', 'DO', 'ID', 'MY', 'HN', 'DZ', 'IQ', 'BG', 'JE', 'RS', 'LU'],\n",
              "      dtype=object)"
            ]
          },
          "metadata": {},
          "output_type": "display_data"
        },
        {
          "name": "stdout",
          "output_type": "stream",
          "text": [
            "company_location\n"
          ]
        },
        {
          "data": {
            "text/plain": [
              "array(['IN', 'US', 'GB', 'CA', 'AU', 'NL', 'LT', 'DK', 'FR', 'ZA', 'NZ',\n",
              "       'AR', 'ES', 'KE', 'LV', 'DE', 'IL', 'FI', 'AT', 'BR', 'CH', 'AE',\n",
              "       'PL', 'SA', 'UA', 'EG', 'PH', 'TR', 'OM', 'MX', 'PT', 'BA', 'IT',\n",
              "       'AS', 'IE', 'EE', 'MT', 'HU', 'LB', 'RO', 'VN', 'NG', 'LU', 'GI',\n",
              "       'CO', 'SI', 'GR', 'MU', 'RU', 'KR', 'CZ', 'QA', 'GH', 'SE', 'AD',\n",
              "       'EC', 'NO', 'JP', 'HK', 'CF', 'SG', 'TH', 'HR', 'AM', 'PK', 'IR',\n",
              "       'BS', 'PR', 'BE', 'ID', 'MY', 'HN', 'DZ', 'IQ', 'CN', 'CL', 'MD'],\n",
              "      dtype=object)"
            ]
          },
          "metadata": {},
          "output_type": "display_data"
        },
        {
          "name": "stdout",
          "output_type": "stream",
          "text": [
            "company_size\n"
          ]
        },
        {
          "data": {
            "text/plain": [
              "array(['L', 'M', 'S'], dtype=object)"
            ]
          },
          "metadata": {},
          "output_type": "display_data"
        }
      ],
      "source": [
        "for col in df.select_dtypes(\"object\"):\n",
        "  print(col)\n",
        "  display(df[col].unique())\n"
      ]
    },
    {
      "cell_type": "code",
      "execution_count": null,
      "metadata": {},
      "outputs": [],
      "source": []
    },
    {
      "cell_type": "code",
      "execution_count": 54,
      "metadata": {
        "id": "RuNruPnaUBX0"
      },
      "outputs": [],
      "source": [
        "df = df.loc[\n",
        "    df[\"salary_currency\"].eq(\"USD\")\n",
        "    & df[\"employee_residence\"].eq(\"US\")\n",
        "    # & df.job_title.isin(ds_titles)\n",
        "    ,    [\n",
        "        \"work_year\",\n",
        "        \"salary\",\n",
        "        \"job_title\",\n",
        "        \"employment_type\",\n",
        "        \"remote_ratio\",\n",
        "        \"experience_level\",\n",
        "        \"company_size\",\n",
        "    ],\n",
        "]\n",
        "y = df[\"salary\"]\n",
        "del df[\"salary\"]"
      ]
    },
    {
      "cell_type": "code",
      "execution_count": 55,
      "metadata": {
        "colab": {
          "base_uri": "https://localhost:8080/"
        },
        "id": "U7lGI8jvfvnd",
        "outputId": "9d6dae8c-6813-4863-ebdc-49dbf3a65a5c"
      },
      "outputs": [],
      "source": [
        "# prompt: Using dataframe df: create a transformation pipeline. Encode the variables employment type, experience level, expertise level and company size.  rewrite this to reflect changes to the data frame\n",
        "\n",
        "from sklearn.preprocessing import OneHotEncoder\n",
        "\n",
        "\n",
        "# Create a OneHotEncoder object\n",
        "ohe = OneHotEncoder(drop=None, sparse_output=True)\n",
        "cvect = CountVectorizer()\n",
        "df_ohe = ohe.fit_transform(df[['employment_type', 'experience_level', 'company_size']])\n",
        "df_cvect = cvect.fit_transform(df[\"job_title\"])\n",
        "ohe_shape = df_ohe.shape\n",
        "cvect_shape = df_cvect.shape\n",
        "\n",
        "X = sparse.hstack([df_ohe, df_cvect])\n"
      ]
    },
    {
      "cell_type": "code",
      "execution_count": 56,
      "metadata": {
        "colab": {
          "base_uri": "https://localhost:8080/",
          "height": 75
        },
        "id": "DkPt2GidPVmY",
        "outputId": "f302bee2-e9f1-47d8-9694-ef1c537690c9"
      },
      "outputs": [
        {
          "data": {
            "text/html": [
              "<style>#sk-container-id-4 {\n",
              "  /* Definition of color scheme common for light and dark mode */\n",
              "  --sklearn-color-text: black;\n",
              "  --sklearn-color-line: gray;\n",
              "  /* Definition of color scheme for unfitted estimators */\n",
              "  --sklearn-color-unfitted-level-0: #fff5e6;\n",
              "  --sklearn-color-unfitted-level-1: #f6e4d2;\n",
              "  --sklearn-color-unfitted-level-2: #ffe0b3;\n",
              "  --sklearn-color-unfitted-level-3: chocolate;\n",
              "  /* Definition of color scheme for fitted estimators */\n",
              "  --sklearn-color-fitted-level-0: #f0f8ff;\n",
              "  --sklearn-color-fitted-level-1: #d4ebff;\n",
              "  --sklearn-color-fitted-level-2: #b3dbfd;\n",
              "  --sklearn-color-fitted-level-3: cornflowerblue;\n",
              "\n",
              "  /* Specific color for light theme */\n",
              "  --sklearn-color-text-on-default-background: var(--sg-text-color, var(--theme-code-foreground, var(--jp-content-font-color1, black)));\n",
              "  --sklearn-color-background: var(--sg-background-color, var(--theme-background, var(--jp-layout-color0, white)));\n",
              "  --sklearn-color-border-box: var(--sg-text-color, var(--theme-code-foreground, var(--jp-content-font-color1, black)));\n",
              "  --sklearn-color-icon: #696969;\n",
              "\n",
              "  @media (prefers-color-scheme: dark) {\n",
              "    /* Redefinition of color scheme for dark theme */\n",
              "    --sklearn-color-text-on-default-background: var(--sg-text-color, var(--theme-code-foreground, var(--jp-content-font-color1, white)));\n",
              "    --sklearn-color-background: var(--sg-background-color, var(--theme-background, var(--jp-layout-color0, #111)));\n",
              "    --sklearn-color-border-box: var(--sg-text-color, var(--theme-code-foreground, var(--jp-content-font-color1, white)));\n",
              "    --sklearn-color-icon: #878787;\n",
              "  }\n",
              "}\n",
              "\n",
              "#sk-container-id-4 {\n",
              "  color: var(--sklearn-color-text);\n",
              "}\n",
              "\n",
              "#sk-container-id-4 pre {\n",
              "  padding: 0;\n",
              "}\n",
              "\n",
              "#sk-container-id-4 input.sk-hidden--visually {\n",
              "  border: 0;\n",
              "  clip: rect(1px 1px 1px 1px);\n",
              "  clip: rect(1px, 1px, 1px, 1px);\n",
              "  height: 1px;\n",
              "  margin: -1px;\n",
              "  overflow: hidden;\n",
              "  padding: 0;\n",
              "  position: absolute;\n",
              "  width: 1px;\n",
              "}\n",
              "\n",
              "#sk-container-id-4 div.sk-dashed-wrapped {\n",
              "  border: 1px dashed var(--sklearn-color-line);\n",
              "  margin: 0 0.4em 0.5em 0.4em;\n",
              "  box-sizing: border-box;\n",
              "  padding-bottom: 0.4em;\n",
              "  background-color: var(--sklearn-color-background);\n",
              "}\n",
              "\n",
              "#sk-container-id-4 div.sk-container {\n",
              "  /* jupyter's `normalize.less` sets `[hidden] { display: none; }`\n",
              "     but bootstrap.min.css set `[hidden] { display: none !important; }`\n",
              "     so we also need the `!important` here to be able to override the\n",
              "     default hidden behavior on the sphinx rendered scikit-learn.org.\n",
              "     See: https://github.com/scikit-learn/scikit-learn/issues/21755 */\n",
              "  display: inline-block !important;\n",
              "  position: relative;\n",
              "}\n",
              "\n",
              "#sk-container-id-4 div.sk-text-repr-fallback {\n",
              "  display: none;\n",
              "}\n",
              "\n",
              "div.sk-parallel-item,\n",
              "div.sk-serial,\n",
              "div.sk-item {\n",
              "  /* draw centered vertical line to link estimators */\n",
              "  background-image: linear-gradient(var(--sklearn-color-text-on-default-background), var(--sklearn-color-text-on-default-background));\n",
              "  background-size: 2px 100%;\n",
              "  background-repeat: no-repeat;\n",
              "  background-position: center center;\n",
              "}\n",
              "\n",
              "/* Parallel-specific style estimator block */\n",
              "\n",
              "#sk-container-id-4 div.sk-parallel-item::after {\n",
              "  content: \"\";\n",
              "  width: 100%;\n",
              "  border-bottom: 2px solid var(--sklearn-color-text-on-default-background);\n",
              "  flex-grow: 1;\n",
              "}\n",
              "\n",
              "#sk-container-id-4 div.sk-parallel {\n",
              "  display: flex;\n",
              "  align-items: stretch;\n",
              "  justify-content: center;\n",
              "  background-color: var(--sklearn-color-background);\n",
              "  position: relative;\n",
              "}\n",
              "\n",
              "#sk-container-id-4 div.sk-parallel-item {\n",
              "  display: flex;\n",
              "  flex-direction: column;\n",
              "}\n",
              "\n",
              "#sk-container-id-4 div.sk-parallel-item:first-child::after {\n",
              "  align-self: flex-end;\n",
              "  width: 50%;\n",
              "}\n",
              "\n",
              "#sk-container-id-4 div.sk-parallel-item:last-child::after {\n",
              "  align-self: flex-start;\n",
              "  width: 50%;\n",
              "}\n",
              "\n",
              "#sk-container-id-4 div.sk-parallel-item:only-child::after {\n",
              "  width: 0;\n",
              "}\n",
              "\n",
              "/* Serial-specific style estimator block */\n",
              "\n",
              "#sk-container-id-4 div.sk-serial {\n",
              "  display: flex;\n",
              "  flex-direction: column;\n",
              "  align-items: center;\n",
              "  background-color: var(--sklearn-color-background);\n",
              "  padding-right: 1em;\n",
              "  padding-left: 1em;\n",
              "}\n",
              "\n",
              "\n",
              "/* Toggleable style: style used for estimator/Pipeline/ColumnTransformer box that is\n",
              "clickable and can be expanded/collapsed.\n",
              "- Pipeline and ColumnTransformer use this feature and define the default style\n",
              "- Estimators will overwrite some part of the style using the `sk-estimator` class\n",
              "*/\n",
              "\n",
              "/* Pipeline and ColumnTransformer style (default) */\n",
              "\n",
              "#sk-container-id-4 div.sk-toggleable {\n",
              "  /* Default theme specific background. It is overwritten whether we have a\n",
              "  specific estimator or a Pipeline/ColumnTransformer */\n",
              "  background-color: var(--sklearn-color-background);\n",
              "}\n",
              "\n",
              "/* Toggleable label */\n",
              "#sk-container-id-4 label.sk-toggleable__label {\n",
              "  cursor: pointer;\n",
              "  display: block;\n",
              "  width: 100%;\n",
              "  margin-bottom: 0;\n",
              "  padding: 0.5em;\n",
              "  box-sizing: border-box;\n",
              "  text-align: center;\n",
              "}\n",
              "\n",
              "#sk-container-id-4 label.sk-toggleable__label-arrow:before {\n",
              "  /* Arrow on the left of the label */\n",
              "  content: \"▸\";\n",
              "  float: left;\n",
              "  margin-right: 0.25em;\n",
              "  color: var(--sklearn-color-icon);\n",
              "}\n",
              "\n",
              "#sk-container-id-4 label.sk-toggleable__label-arrow:hover:before {\n",
              "  color: var(--sklearn-color-text);\n",
              "}\n",
              "\n",
              "/* Toggleable content - dropdown */\n",
              "\n",
              "#sk-container-id-4 div.sk-toggleable__content {\n",
              "  max-height: 0;\n",
              "  max-width: 0;\n",
              "  overflow: hidden;\n",
              "  text-align: left;\n",
              "  /* unfitted */\n",
              "  background-color: var(--sklearn-color-unfitted-level-0);\n",
              "}\n",
              "\n",
              "#sk-container-id-4 div.sk-toggleable__content.fitted {\n",
              "  /* fitted */\n",
              "  background-color: var(--sklearn-color-fitted-level-0);\n",
              "}\n",
              "\n",
              "#sk-container-id-4 div.sk-toggleable__content pre {\n",
              "  margin: 0.2em;\n",
              "  border-radius: 0.25em;\n",
              "  color: var(--sklearn-color-text);\n",
              "  /* unfitted */\n",
              "  background-color: var(--sklearn-color-unfitted-level-0);\n",
              "}\n",
              "\n",
              "#sk-container-id-4 div.sk-toggleable__content.fitted pre {\n",
              "  /* unfitted */\n",
              "  background-color: var(--sklearn-color-fitted-level-0);\n",
              "}\n",
              "\n",
              "#sk-container-id-4 input.sk-toggleable__control:checked~div.sk-toggleable__content {\n",
              "  /* Expand drop-down */\n",
              "  max-height: 200px;\n",
              "  max-width: 100%;\n",
              "  overflow: auto;\n",
              "}\n",
              "\n",
              "#sk-container-id-4 input.sk-toggleable__control:checked~label.sk-toggleable__label-arrow:before {\n",
              "  content: \"▾\";\n",
              "}\n",
              "\n",
              "/* Pipeline/ColumnTransformer-specific style */\n",
              "\n",
              "#sk-container-id-4 div.sk-label input.sk-toggleable__control:checked~label.sk-toggleable__label {\n",
              "  color: var(--sklearn-color-text);\n",
              "  background-color: var(--sklearn-color-unfitted-level-2);\n",
              "}\n",
              "\n",
              "#sk-container-id-4 div.sk-label.fitted input.sk-toggleable__control:checked~label.sk-toggleable__label {\n",
              "  background-color: var(--sklearn-color-fitted-level-2);\n",
              "}\n",
              "\n",
              "/* Estimator-specific style */\n",
              "\n",
              "/* Colorize estimator box */\n",
              "#sk-container-id-4 div.sk-estimator input.sk-toggleable__control:checked~label.sk-toggleable__label {\n",
              "  /* unfitted */\n",
              "  background-color: var(--sklearn-color-unfitted-level-2);\n",
              "}\n",
              "\n",
              "#sk-container-id-4 div.sk-estimator.fitted input.sk-toggleable__control:checked~label.sk-toggleable__label {\n",
              "  /* fitted */\n",
              "  background-color: var(--sklearn-color-fitted-level-2);\n",
              "}\n",
              "\n",
              "#sk-container-id-4 div.sk-label label.sk-toggleable__label,\n",
              "#sk-container-id-4 div.sk-label label {\n",
              "  /* The background is the default theme color */\n",
              "  color: var(--sklearn-color-text-on-default-background);\n",
              "}\n",
              "\n",
              "/* On hover, darken the color of the background */\n",
              "#sk-container-id-4 div.sk-label:hover label.sk-toggleable__label {\n",
              "  color: var(--sklearn-color-text);\n",
              "  background-color: var(--sklearn-color-unfitted-level-2);\n",
              "}\n",
              "\n",
              "/* Label box, darken color on hover, fitted */\n",
              "#sk-container-id-4 div.sk-label.fitted:hover label.sk-toggleable__label.fitted {\n",
              "  color: var(--sklearn-color-text);\n",
              "  background-color: var(--sklearn-color-fitted-level-2);\n",
              "}\n",
              "\n",
              "/* Estimator label */\n",
              "\n",
              "#sk-container-id-4 div.sk-label label {\n",
              "  font-family: monospace;\n",
              "  font-weight: bold;\n",
              "  display: inline-block;\n",
              "  line-height: 1.2em;\n",
              "}\n",
              "\n",
              "#sk-container-id-4 div.sk-label-container {\n",
              "  text-align: center;\n",
              "}\n",
              "\n",
              "/* Estimator-specific */\n",
              "#sk-container-id-4 div.sk-estimator {\n",
              "  font-family: monospace;\n",
              "  border: 1px dotted var(--sklearn-color-border-box);\n",
              "  border-radius: 0.25em;\n",
              "  box-sizing: border-box;\n",
              "  margin-bottom: 0.5em;\n",
              "  /* unfitted */\n",
              "  background-color: var(--sklearn-color-unfitted-level-0);\n",
              "}\n",
              "\n",
              "#sk-container-id-4 div.sk-estimator.fitted {\n",
              "  /* fitted */\n",
              "  background-color: var(--sklearn-color-fitted-level-0);\n",
              "}\n",
              "\n",
              "/* on hover */\n",
              "#sk-container-id-4 div.sk-estimator:hover {\n",
              "  /* unfitted */\n",
              "  background-color: var(--sklearn-color-unfitted-level-2);\n",
              "}\n",
              "\n",
              "#sk-container-id-4 div.sk-estimator.fitted:hover {\n",
              "  /* fitted */\n",
              "  background-color: var(--sklearn-color-fitted-level-2);\n",
              "}\n",
              "\n",
              "/* Specification for estimator info (e.g. \"i\" and \"?\") */\n",
              "\n",
              "/* Common style for \"i\" and \"?\" */\n",
              "\n",
              ".sk-estimator-doc-link,\n",
              "a:link.sk-estimator-doc-link,\n",
              "a:visited.sk-estimator-doc-link {\n",
              "  float: right;\n",
              "  font-size: smaller;\n",
              "  line-height: 1em;\n",
              "  font-family: monospace;\n",
              "  background-color: var(--sklearn-color-background);\n",
              "  border-radius: 1em;\n",
              "  height: 1em;\n",
              "  width: 1em;\n",
              "  text-decoration: none !important;\n",
              "  margin-left: 1ex;\n",
              "  /* unfitted */\n",
              "  border: var(--sklearn-color-unfitted-level-1) 1pt solid;\n",
              "  color: var(--sklearn-color-unfitted-level-1);\n",
              "}\n",
              "\n",
              ".sk-estimator-doc-link.fitted,\n",
              "a:link.sk-estimator-doc-link.fitted,\n",
              "a:visited.sk-estimator-doc-link.fitted {\n",
              "  /* fitted */\n",
              "  border: var(--sklearn-color-fitted-level-1) 1pt solid;\n",
              "  color: var(--sklearn-color-fitted-level-1);\n",
              "}\n",
              "\n",
              "/* On hover */\n",
              "div.sk-estimator:hover .sk-estimator-doc-link:hover,\n",
              ".sk-estimator-doc-link:hover,\n",
              "div.sk-label-container:hover .sk-estimator-doc-link:hover,\n",
              ".sk-estimator-doc-link:hover {\n",
              "  /* unfitted */\n",
              "  background-color: var(--sklearn-color-unfitted-level-3);\n",
              "  color: var(--sklearn-color-background);\n",
              "  text-decoration: none;\n",
              "}\n",
              "\n",
              "div.sk-estimator.fitted:hover .sk-estimator-doc-link.fitted:hover,\n",
              ".sk-estimator-doc-link.fitted:hover,\n",
              "div.sk-label-container:hover .sk-estimator-doc-link.fitted:hover,\n",
              ".sk-estimator-doc-link.fitted:hover {\n",
              "  /* fitted */\n",
              "  background-color: var(--sklearn-color-fitted-level-3);\n",
              "  color: var(--sklearn-color-background);\n",
              "  text-decoration: none;\n",
              "}\n",
              "\n",
              "/* Span, style for the box shown on hovering the info icon */\n",
              ".sk-estimator-doc-link span {\n",
              "  display: none;\n",
              "  z-index: 9999;\n",
              "  position: relative;\n",
              "  font-weight: normal;\n",
              "  right: .2ex;\n",
              "  padding: .5ex;\n",
              "  margin: .5ex;\n",
              "  width: min-content;\n",
              "  min-width: 20ex;\n",
              "  max-width: 50ex;\n",
              "  color: var(--sklearn-color-text);\n",
              "  box-shadow: 2pt 2pt 4pt #999;\n",
              "  /* unfitted */\n",
              "  background: var(--sklearn-color-unfitted-level-0);\n",
              "  border: .5pt solid var(--sklearn-color-unfitted-level-3);\n",
              "}\n",
              "\n",
              ".sk-estimator-doc-link.fitted span {\n",
              "  /* fitted */\n",
              "  background: var(--sklearn-color-fitted-level-0);\n",
              "  border: var(--sklearn-color-fitted-level-3);\n",
              "}\n",
              "\n",
              ".sk-estimator-doc-link:hover span {\n",
              "  display: block;\n",
              "}\n",
              "\n",
              "/* \"?\"-specific style due to the `<a>` HTML tag */\n",
              "\n",
              "#sk-container-id-4 a.estimator_doc_link {\n",
              "  float: right;\n",
              "  font-size: 1rem;\n",
              "  line-height: 1em;\n",
              "  font-family: monospace;\n",
              "  background-color: var(--sklearn-color-background);\n",
              "  border-radius: 1rem;\n",
              "  height: 1rem;\n",
              "  width: 1rem;\n",
              "  text-decoration: none;\n",
              "  /* unfitted */\n",
              "  color: var(--sklearn-color-unfitted-level-1);\n",
              "  border: var(--sklearn-color-unfitted-level-1) 1pt solid;\n",
              "}\n",
              "\n",
              "#sk-container-id-4 a.estimator_doc_link.fitted {\n",
              "  /* fitted */\n",
              "  border: var(--sklearn-color-fitted-level-1) 1pt solid;\n",
              "  color: var(--sklearn-color-fitted-level-1);\n",
              "}\n",
              "\n",
              "/* On hover */\n",
              "#sk-container-id-4 a.estimator_doc_link:hover {\n",
              "  /* unfitted */\n",
              "  background-color: var(--sklearn-color-unfitted-level-3);\n",
              "  color: var(--sklearn-color-background);\n",
              "  text-decoration: none;\n",
              "}\n",
              "\n",
              "#sk-container-id-4 a.estimator_doc_link.fitted:hover {\n",
              "  /* fitted */\n",
              "  background-color: var(--sklearn-color-fitted-level-3);\n",
              "}\n",
              "</style><div id=\"sk-container-id-4\" class=\"sk-top-container\"><div class=\"sk-text-repr-fallback\"><pre>LassoCV(alphas=array([10.        , 10.04004004, 10.08008008, 10.12012012, 10.16016016,\n",
              "       10.2002002 , 10.24024024, 10.28028028, 10.32032032, 10.36036036,\n",
              "       10.4004004 , 10.44044044, 10.48048048, 10.52052052, 10.56056056,\n",
              "       10.6006006 , 10.64064064, 10.68068068, 10.72072072, 10.76076076,\n",
              "       10.8008008 , 10.84084084, 10.88088088, 10.92092092, 10.96096096,\n",
              "       11.001001  , 11.04104104, 11.08108108, 11.121...\n",
              "       48.83883884, 48.87887888, 48.91891892, 48.95895896, 48.998999  ,\n",
              "       49.03903904, 49.07907908, 49.11911912, 49.15915916, 49.1991992 ,\n",
              "       49.23923924, 49.27927928, 49.31931932, 49.35935936, 49.3993994 ,\n",
              "       49.43943944, 49.47947948, 49.51951952, 49.55955956, 49.5995996 ,\n",
              "       49.63963964, 49.67967968, 49.71971972, 49.75975976, 49.7997998 ,\n",
              "       49.83983984, 49.87987988, 49.91991992, 49.95995996, 50.        ]),\n",
              "        cv=10, n_jobs=-1)</pre><b>In a Jupyter environment, please rerun this cell to show the HTML representation or trust the notebook. <br />On GitHub, the HTML representation is unable to render, please try loading this page with nbviewer.org.</b></div><div class=\"sk-container\" hidden><div class=\"sk-item\"><div class=\"sk-estimator fitted sk-toggleable\"><input class=\"sk-toggleable__control sk-hidden--visually\" id=\"sk-estimator-id-4\" type=\"checkbox\" checked><label for=\"sk-estimator-id-4\" class=\"sk-toggleable__label fitted sk-toggleable__label-arrow fitted\">&nbsp;&nbsp;LassoCV<a class=\"sk-estimator-doc-link fitted\" rel=\"noreferrer\" target=\"_blank\" href=\"https://scikit-learn.org/1.4/modules/generated/sklearn.linear_model.LassoCV.html\">?<span>Documentation for LassoCV</span></a><span class=\"sk-estimator-doc-link fitted\">i<span>Fitted</span></span></label><div class=\"sk-toggleable__content fitted\"><pre>LassoCV(alphas=array([10.        , 10.04004004, 10.08008008, 10.12012012, 10.16016016,\n",
              "       10.2002002 , 10.24024024, 10.28028028, 10.32032032, 10.36036036,\n",
              "       10.4004004 , 10.44044044, 10.48048048, 10.52052052, 10.56056056,\n",
              "       10.6006006 , 10.64064064, 10.68068068, 10.72072072, 10.76076076,\n",
              "       10.8008008 , 10.84084084, 10.88088088, 10.92092092, 10.96096096,\n",
              "       11.001001  , 11.04104104, 11.08108108, 11.121...\n",
              "       48.83883884, 48.87887888, 48.91891892, 48.95895896, 48.998999  ,\n",
              "       49.03903904, 49.07907908, 49.11911912, 49.15915916, 49.1991992 ,\n",
              "       49.23923924, 49.27927928, 49.31931932, 49.35935936, 49.3993994 ,\n",
              "       49.43943944, 49.47947948, 49.51951952, 49.55955956, 49.5995996 ,\n",
              "       49.63963964, 49.67967968, 49.71971972, 49.75975976, 49.7997998 ,\n",
              "       49.83983984, 49.87987988, 49.91991992, 49.95995996, 50.        ]),\n",
              "        cv=10, n_jobs=-1)</pre></div> </div></div></div></div>"
            ],
            "text/plain": [
              "LassoCV(alphas=array([10.        , 10.04004004, 10.08008008, 10.12012012, 10.16016016,\n",
              "       10.2002002 , 10.24024024, 10.28028028, 10.32032032, 10.36036036,\n",
              "       10.4004004 , 10.44044044, 10.48048048, 10.52052052, 10.56056056,\n",
              "       10.6006006 , 10.64064064, 10.68068068, 10.72072072, 10.76076076,\n",
              "       10.8008008 , 10.84084084, 10.88088088, 10.92092092, 10.96096096,\n",
              "       11.001001  , 11.04104104, 11.08108108, 11.121...\n",
              "       48.83883884, 48.87887888, 48.91891892, 48.95895896, 48.998999  ,\n",
              "       49.03903904, 49.07907908, 49.11911912, 49.15915916, 49.1991992 ,\n",
              "       49.23923924, 49.27927928, 49.31931932, 49.35935936, 49.3993994 ,\n",
              "       49.43943944, 49.47947948, 49.51951952, 49.55955956, 49.5995996 ,\n",
              "       49.63963964, 49.67967968, 49.71971972, 49.75975976, 49.7997998 ,\n",
              "       49.83983984, 49.87987988, 49.91991992, 49.95995996, 50.        ]),\n",
              "        cv=10, n_jobs=-1)"
            ]
          },
          "execution_count": 56,
          "metadata": {},
          "output_type": "execute_result"
        }
      ],
      "source": [
        "lasso = LassoCV(cv=10, n_jobs=-1, alphas=np.linspace(10, 50, 1000))\n",
        "\n",
        "lasso.fit(X=X, y = y.values.ravel())"
      ]
    },
    {
      "cell_type": "code",
      "execution_count": 61,
      "metadata": {
        "colab": {
          "base_uri": "https://localhost:8080/"
        },
        "id": "YWszEZ5YQEk6",
        "outputId": "ac3374da-7fb8-450b-c53d-3ee7f095d3d1"
      },
      "outputs": [
        {
          "name": "stdout",
          "output_type": "stream",
          "text": [
            "0.2525714385728486\n"
          ]
        },
        {
          "data": {
            "text/plain": [
              "array(['employment_type_FT', 'experience_level_EX', 'experience_level_SE',\n",
              "       'company_size_M', 'ai', 'analytics', 'applied', 'architect',\n",
              "       'computer', 'deep', 'engineer', 'head', 'infrastructure', 'lead',\n",
              "       'learning', 'manager', 'ml', 'of', 'principal', 'product',\n",
              "       'prompt', 'research', 'science', 'scientist', 'software', 'vision'],\n",
              "      dtype=object)"
            ]
          },
          "execution_count": 61,
          "metadata": {},
          "output_type": "execute_result"
        }
      ],
      "source": [
        "# prompt: evaluate lasso model\n",
        "\n",
        "lasso_pred = lasso.predict(X)\n",
        "\n",
        "print(r2_score(y_true=y, y_pred=lasso_pred))\n",
        "\n",
        "np.r_[\n",
        "    ohe.get_feature_names_out(),\n",
        "    cvect.get_feature_names_out(),\n",
        "][lasso.coef_ > 0]\n",
        "    \n"
      ]
    },
    {
      "cell_type": "code",
      "execution_count": 62,
      "metadata": {},
      "outputs": [
        {
          "data": {
            "text/plain": [
              "157199.7548662219"
            ]
          },
          "execution_count": 62,
          "metadata": {},
          "output_type": "execute_result"
        }
      ],
      "source": [
        "y.mean()"
      ]
    },
    {
      "cell_type": "code",
      "execution_count": 63,
      "metadata": {
        "colab": {
          "base_uri": "https://localhost:8080/",
          "height": 447
        },
        "id": "EDWYrj-qQfPu",
        "outputId": "46b55aea-18ad-4475-966d-a081514b6681"
      },
      "outputs": [
        {
          "data": {
            "text/plain": [
              "[<matplotlib.lines.Line2D at 0x7f90dc278fe0>]"
            ]
          },
          "execution_count": 63,
          "metadata": {},
          "output_type": "execute_result"
        },
        {
          "data": {
            "image/png": "[encoded data removed]",
            "text/plain": [
              "<Figure size 640x480 with 1 Axes>"
            ]
          },
          "metadata": {},
          "output_type": "display_data"
        }
      ],
      "source": [
        "import matplotlib.pyplot as plt\n",
        "# plt.scatter(y, lasso_pred)\n",
        "plt.plot(lasso.alphas_, lasso.mse_path_.mean(axis=1))"
      ]
    },
    {
      "cell_type": "code",
      "execution_count": 64,
      "metadata": {},
      "outputs": [
        {
          "data": {
            "text/plain": [
              "15.125125125125125"
            ]
          },
          "execution_count": 64,
          "metadata": {},
          "output_type": "execute_result"
        }
      ],
      "source": [
        "lasso.alpha_"
      ]
    },
    {
      "cell_type": "code",
      "execution_count": null,
      "metadata": {},
      "outputs": [],
      "source": []
    }
  ],
  "metadata": {
    "colab": {
      "authorship_tag": "ABX9TyPZNQf5HncRvOt1unlAu73W",
      "include_colab_link": true,
      "provenance": []
    },
    "kernelspec": {
      "display_name": "Python 3",
      "name": "python3"
    },
    "language_info": {
      "codemirror_mode": {
        "name": "ipython",
        "version": 3
      },
      "file_extension": ".py",
      "mimetype": "text/x-python",
      "name": "python",
      "nbconvert_exporter": "python",
      "pygments_lexer": "ipython3",
      "version": "3.12.1"
    }
  },
  "nbformat": 4,
  "nbformat_minor": 0
}
