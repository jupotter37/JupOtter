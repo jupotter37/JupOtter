{
 "cells": [
  {
   "cell_type": "code",
   "execution_count": 4,
   "metadata": {},
   "outputs": [],
   "source": [
    "# importing the dependecies\n",
    "import os \n",
    "import cv2 as cv\n",
    "import matplotlib.pyplot as plt\n",
    "directory='/media/suman/649EF25A9EF223E8/Machine Learning/Deep learning Algorithms/Datasets/rockpaper'\n",
    "categories=['rock','paper','scissors']"
   ]
  },
  {
   "cell_type": "code",
   "execution_count": 5,
   "metadata": {},
   "outputs": [],
   "source": [
    "#creating the training data\n",
    "training_data=[]\n",
    "def createtrainingdata():\n",
    "    for category in categories:\n",
    "        path=os.path.join(directory,category)\n",
    "        class_num=categories.index(category)\n",
    "        for img in os.listdir(path):\n",
    "            try:\n",
    "                img_array=cv.imread(os.path.join(path,img))\n",
    "                new_array=cv.resize(img_array,(100,100))\n",
    "                training_data.append([new_array,class_num])\n",
    "            except Exception as e:\n",
    "                pass\n",
    "createtrainingdata()"
   ]
  },
  {
   "cell_type": "code",
   "execution_count": 6,
   "metadata": {},
   "outputs": [
    {
     "name": "stdout",
     "output_type": "stream",
     "text": [
      "0\n",
      "1\n",
      "2\n"
     ]
    }
   ],
   "source": [
    "for category in categories:\n",
    "    print(categories.index(category))"
   ]
  },
  {
   "cell_type": "code",
   "execution_count": 7,
   "metadata": {},
   "outputs": [
    {
     "name": "stdout",
     "output_type": "stream",
     "text": [
      "2188\n"
     ]
    }
   ],
   "source": [
    "print(len(training_data))"
   ]
  },
  {
   "cell_type": "code",
   "execution_count": 8,
   "metadata": {},
   "outputs": [
    {
     "name": "stdout",
     "output_type": "stream",
     "text": [
      "[[[ 40 127  48]\n",
      "  [ 38 126  47]\n",
      "  [ 39 127  47]\n",
      "  ...\n",
      "  [ 46 130  90]\n",
      "  [ 47 130  92]\n",
      "  [ 46 129  93]]\n",
      "\n",
      " [[ 41 127  47]\n",
      "  [ 40 127  47]\n",
      "  [ 41 130  50]\n",
      "  ...\n",
      "  [ 39 145  60]\n",
      "  [ 39 143  63]\n",
      "  [ 39 143  64]]\n",
      "\n",
      " [[ 40 128  47]\n",
      "  [ 41 129  46]\n",
      "  [ 41 130  48]\n",
      "  ...\n",
      "  [ 39 146  62]\n",
      "  [ 39 144  63]\n",
      "  [ 39 144  62]]\n",
      "\n",
      " ...\n",
      "\n",
      " [[ 28 116  31]\n",
      "  [ 27 117  32]\n",
      "  [ 26 117  30]\n",
      "  ...\n",
      "  [ 20 113  39]\n",
      "  [ 18 111  37]\n",
      "  [ 19 112  38]]\n",
      "\n",
      " [[ 30 118  36]\n",
      "  [ 29 116  35]\n",
      "  [ 29 117  34]\n",
      "  ...\n",
      "  [ 20 112  40]\n",
      "  [ 20 110  40]\n",
      "  [ 20 111  41]]\n",
      "\n",
      " [[ 31 118  38]\n",
      "  [ 32 117  39]\n",
      "  [ 28 114  35]\n",
      "  ...\n",
      "  [ 19 112  41]\n",
      "  [ 23 111  45]\n",
      "  [ 23 111  45]]]\n",
      "[[[ 59 142  47]\n",
      "  [ 52 138  42]\n",
      "  [ 57 141  45]\n",
      "  ...\n",
      "  [ 53 131  78]\n",
      "  [ 53 132  77]\n",
      "  [ 52 129  75]]\n",
      "\n",
      " [[ 57 140  45]\n",
      "  [ 56 141  46]\n",
      "  [ 60 144  49]\n",
      "  ...\n",
      "  [ 51 144  50]\n",
      "  [ 52 143  51]\n",
      "  [ 52 143  51]]\n",
      "\n",
      " [[ 57 141  45]\n",
      "  [ 57 142  46]\n",
      "  [ 59 143  47]\n",
      "  ...\n",
      "  [ 51 146  54]\n",
      "  [ 54 145  55]\n",
      "  [ 52 143  53]]\n",
      "\n",
      " ...\n",
      "\n",
      " [[ 52 146  42]\n",
      "  [ 56 148  44]\n",
      "  [ 53 147  43]\n",
      "  ...\n",
      "  [131 164 195]\n",
      "  [124 155 189]\n",
      "  [119 150 184]]\n",
      "\n",
      " [[ 53 145  46]\n",
      "  [ 54 146  48]\n",
      "  [ 54 146  47]\n",
      "  ...\n",
      "  [122 154 187]\n",
      "  [117 150 185]\n",
      "  [111 142 177]]\n",
      "\n",
      " [[ 55 146  52]\n",
      "  [ 54 146  54]\n",
      "  [ 53 144  50]\n",
      "  ...\n",
      "  [116 150 184]\n",
      "  [114 147 183]\n",
      "  [115 145 181]]]\n"
     ]
    }
   ],
   "source": [
    "# shuffling the data\n",
    "import random\n",
    "random.shuffle(training_data)\n",
    "for sample in training_data[:2]:\n",
    "    print(sample[0])"
   ]
  },
  {
   "cell_type": "code",
   "execution_count": 9,
   "metadata": {},
   "outputs": [
    {
     "data": {
      "application/javascript": [
       "\n",
       "        if (window._pyforest_update_imports_cell) { window._pyforest_update_imports_cell('import numpy as np'); }\n",
       "    "
      ],
      "text/plain": [
       "<IPython.core.display.Javascript object>"
      ]
     },
     "metadata": {},
     "output_type": "display_data"
    },
    {
     "data": {
      "application/javascript": [
       "\n",
       "        if (window._pyforest_update_imports_cell) { window._pyforest_update_imports_cell('import numpy as np'); }\n",
       "    "
      ],
      "text/plain": [
       "<IPython.core.display.Javascript object>"
      ]
     },
     "metadata": {},
     "output_type": "display_data"
    }
   ],
   "source": [
    "# appeding the labels and features to the x and y\n",
    "x=[]\n",
    "y=[]\n",
    "for features,labels in training_data:\n",
    "    x.append(features)\n",
    "    y.append(labels)\n",
    "x=np.array(x)\n",
    "y=np.array(y)"
   ]
  },
  {
   "cell_type": "code",
   "execution_count": null,
   "metadata": {
    "scrolled": true
   },
   "outputs": [],
   "source": []
  },
  {
   "cell_type": "code",
   "execution_count": 10,
   "metadata": {
    "scrolled": true
   },
   "outputs": [
    {
     "data": {
      "text/plain": [
       "(2188, 100, 100, 3)"
      ]
     },
     "execution_count": 10,
     "metadata": {},
     "output_type": "execute_result"
    }
   ],
   "source": [
    "x.shape"
   ]
  },
  {
   "cell_type": "code",
   "execution_count": 11,
   "metadata": {},
   "outputs": [
    {
     "data": {
      "text/plain": [
       "(2188,)"
      ]
     },
     "execution_count": 11,
     "metadata": {},
     "output_type": "execute_result"
    }
   ],
   "source": [
    "y.shape"
   ]
  },
  {
   "cell_type": "code",
   "execution_count": 12,
   "metadata": {},
   "outputs": [
    {
     "data": {
      "text/plain": [
       "1"
      ]
     },
     "execution_count": 12,
     "metadata": {},
     "output_type": "execute_result"
    }
   ],
   "source": [
    "y.ndim"
   ]
  },
  {
   "cell_type": "code",
   "execution_count": 13,
   "metadata": {},
   "outputs": [],
   "source": [
    "# splitting the data for training and testing\n",
    "from sklearn.model_selection import train_test_split\n",
    "x_train,x_test,y_train,y_test=train_test_split(x,y,test_size=0.2)"
   ]
  },
  {
   "cell_type": "code",
   "execution_count": 20,
   "metadata": {},
   "outputs": [
    {
     "data": {
      "application/javascript": [
       "\n",
       "        if (window._pyforest_update_imports_cell) { window._pyforest_update_imports_cell('import keras\\nimport numpy as np'); }\n",
       "    "
      ],
      "text/plain": [
       "<IPython.core.display.Javascript object>"
      ]
     },
     "metadata": {},
     "output_type": "display_data"
    },
    {
     "data": {
      "application/javascript": [
       "\n",
       "        if (window._pyforest_update_imports_cell) { window._pyforest_update_imports_cell('import keras\\nimport numpy as np'); }\n",
       "    "
      ],
      "text/plain": [
       "<IPython.core.display.Javascript object>"
      ]
     },
     "metadata": {},
     "output_type": "display_data"
    }
   ],
   "source": [
    "# making the neural network\n",
    "from tensorflow.keras import layers,models\n",
    "import tensorflow as tf\n",
    "x=np.array(x)\n",
    "y=np.array(y)\n",
    "x=x/255\n",
    "model = tf.keras.models.Sequential([\n",
    "    tf.keras.layers.Conv2D(16, (3, 3), activation='relu', input_shape=(100, 100, 3)),\n",
    "    tf.keras.layers.MaxPooling2D(2, 2),\n",
    "    tf.keras.layers.Dropout(0.2),\n",
    "    tf.keras.layers.Conv2D(16, (3, 3), activation='relu'),\n",
    "    tf.keras.layers.MaxPooling2D(2, 2),\n",
    "    tf.keras.layers.Dropout(0.2),\n",
    "    tf.keras.layers.Conv2D(32, (3, 3), activation='relu'),\n",
    "    tf.keras.layers.MaxPooling2D(2, 2),\n",
    "    tf.keras.layers.Dropout(0.2),\n",
    "    tf.keras.layers.Flatten(),\n",
    "    tf.keras.layers.Dense(64, activation='relu'),\n",
    "    tf.keras.layers.Dropout(0.2),\n",
    "    tf.keras.layers.Dense(3, activation='softmax')\n",
    "])"
   ]
  },
  {
   "cell_type": "code",
   "execution_count": 29,
   "metadata": {},
   "outputs": [
    {
     "data": {
      "application/javascript": [
       "\n",
       "        if (window._pyforest_update_imports_cell) { window._pyforest_update_imports_cell('import keras\\nimport numpy as np'); }\n",
       "    "
      ],
      "text/plain": [
       "<IPython.core.display.Javascript object>"
      ]
     },
     "metadata": {},
     "output_type": "display_data"
    }
   ],
   "source": [
    "# compiling the neural network\n",
    "model.compile(optimizer='adam',loss=keras.losses.sparse_categorical_crossentropy,metrics=['accuracy'])"
   ]
  },
  {
   "cell_type": "code",
   "execution_count": 30,
   "metadata": {
    "scrolled": true
   },
   "outputs": [
    {
     "name": "stdout",
     "output_type": "stream",
     "text": [
      "Model: \"sequential_1\"\n",
      "_________________________________________________________________\n",
      "Layer (type)                 Output Shape              Param #   \n",
      "=================================================================\n",
      "conv2d_3 (Conv2D)            (None, 98, 98, 16)        448       \n",
      "_________________________________________________________________\n",
      "max_pooling2d_3 (MaxPooling2 (None, 49, 49, 16)        0         \n",
      "_________________________________________________________________\n",
      "dropout_4 (Dropout)          (None, 49, 49, 16)        0         \n",
      "_________________________________________________________________\n",
      "conv2d_4 (Conv2D)            (None, 47, 47, 16)        2320      \n",
      "_________________________________________________________________\n",
      "max_pooling2d_4 (MaxPooling2 (None, 23, 23, 16)        0         \n",
      "_________________________________________________________________\n",
      "dropout_5 (Dropout)          (None, 23, 23, 16)        0         \n",
      "_________________________________________________________________\n",
      "conv2d_5 (Conv2D)            (None, 21, 21, 32)        4640      \n",
      "_________________________________________________________________\n",
      "max_pooling2d_5 (MaxPooling2 (None, 10, 10, 32)        0         \n",
      "_________________________________________________________________\n",
      "dropout_6 (Dropout)          (None, 10, 10, 32)        0         \n",
      "_________________________________________________________________\n",
      "flatten_1 (Flatten)          (None, 3200)              0         \n",
      "_________________________________________________________________\n",
      "dense_2 (Dense)              (None, 64)                204864    \n",
      "_________________________________________________________________\n",
      "dropout_7 (Dropout)          (None, 64)                0         \n",
      "_________________________________________________________________\n",
      "dense_3 (Dense)              (None, 3)                 195       \n",
      "=================================================================\n",
      "Total params: 212,467\n",
      "Trainable params: 212,467\n",
      "Non-trainable params: 0\n",
      "_________________________________________________________________\n"
     ]
    }
   ],
   "source": [
    "model.summary()"
   ]
  },
  {
   "cell_type": "code",
   "execution_count": 33,
   "metadata": {
    "scrolled": false
   },
   "outputs": [
    {
     "name": "stdout",
     "output_type": "stream",
     "text": [
      "Epoch 1/30\n",
      "55/55 [==============================] - 4s 71ms/step - loss: 0.4398 - accuracy: 0.7760 - val_loss: 0.3047 - val_accuracy: 0.9087\n",
      "Epoch 2/30\n",
      "55/55 [==============================] - 4s 66ms/step - loss: 0.3925 - accuracy: 0.8509 - val_loss: 0.2784 - val_accuracy: 0.9064\n",
      "Epoch 3/30\n",
      "55/55 [==============================] - 4s 68ms/step - loss: 0.3588 - accuracy: 0.8594 - val_loss: 0.2950 - val_accuracy: 0.8950\n",
      "Epoch 4/30\n",
      "55/55 [==============================] - 4s 75ms/step - loss: 0.3058 - accuracy: 0.8891 - val_loss: 0.3411 - val_accuracy: 0.8836\n",
      "Epoch 5/30\n",
      "55/55 [==============================] - 5s 88ms/step - loss: 0.3094 - accuracy: 0.8869 - val_loss: 0.2284 - val_accuracy: 0.9224\n",
      "Epoch 6/30\n",
      "55/55 [==============================] - 5s 91ms/step - loss: 0.2870 - accuracy: 0.8994 - val_loss: 0.2286 - val_accuracy: 0.9292\n",
      "Epoch 7/30\n",
      "55/55 [==============================] - 5s 86ms/step - loss: 0.2850 - accuracy: 0.9057 - val_loss: 0.2534 - val_accuracy: 0.9475\n",
      "Epoch 8/30\n",
      "55/55 [==============================] - 5s 93ms/step - loss: 0.2833 - accuracy: 0.8960 - val_loss: 0.2198 - val_accuracy: 0.9406\n",
      "Epoch 9/30\n",
      "55/55 [==============================] - 5s 90ms/step - loss: 0.2886 - accuracy: 0.9046 - val_loss: 0.2249 - val_accuracy: 0.9292\n",
      "Epoch 10/30\n",
      "55/55 [==============================] - 5s 86ms/step - loss: 0.2673 - accuracy: 0.9006 - val_loss: 0.2560 - val_accuracy: 0.9429\n",
      "Epoch 11/30\n",
      "55/55 [==============================] - 5s 84ms/step - loss: 0.2593 - accuracy: 0.9143 - val_loss: 0.3641 - val_accuracy: 0.9247\n",
      "Epoch 12/30\n",
      "55/55 [==============================] - 5s 91ms/step - loss: 0.2743 - accuracy: 0.9063 - val_loss: 0.2367 - val_accuracy: 0.9589\n",
      "Epoch 13/30\n",
      "55/55 [==============================] - 5s 88ms/step - loss: 0.2417 - accuracy: 0.9160 - val_loss: 0.2334 - val_accuracy: 0.9475\n",
      "Epoch 14/30\n",
      "55/55 [==============================] - 5s 90ms/step - loss: 0.2302 - accuracy: 0.9223 - val_loss: 0.3115 - val_accuracy: 0.9338\n",
      "Epoch 15/30\n",
      "55/55 [==============================] - 5s 86ms/step - loss: 0.2160 - accuracy: 0.9240 - val_loss: 0.2298 - val_accuracy: 0.9566\n",
      "Epoch 16/30\n",
      "55/55 [==============================] - 5s 86ms/step - loss: 0.2357 - accuracy: 0.9211 - val_loss: 0.2905 - val_accuracy: 0.9475\n",
      "Epoch 17/30\n",
      "55/55 [==============================] - 5s 86ms/step - loss: 0.1956 - accuracy: 0.9303 - val_loss: 0.2059 - val_accuracy: 0.9612\n",
      "Epoch 18/30\n",
      "55/55 [==============================] - 5s 89ms/step - loss: 0.2147 - accuracy: 0.9229 - val_loss: 0.3386 - val_accuracy: 0.9315\n",
      "Epoch 19/30\n",
      "55/55 [==============================] - 5s 88ms/step - loss: 0.1811 - accuracy: 0.9377 - val_loss: 0.2737 - val_accuracy: 0.9543\n",
      "Epoch 20/30\n",
      "55/55 [==============================] - 5s 86ms/step - loss: 0.2077 - accuracy: 0.9286 - val_loss: 0.1985 - val_accuracy: 0.9658\n",
      "Epoch 21/30\n",
      "55/55 [==============================] - 5s 87ms/step - loss: 0.1832 - accuracy: 0.9394 - val_loss: 0.2399 - val_accuracy: 0.9543\n",
      "Epoch 22/30\n",
      "55/55 [==============================] - 5s 86ms/step - loss: 0.1572 - accuracy: 0.9474 - val_loss: 0.1951 - val_accuracy: 0.9589\n",
      "Epoch 23/30\n",
      "55/55 [==============================] - 5s 88ms/step - loss: 0.1402 - accuracy: 0.9497 - val_loss: 0.2418 - val_accuracy: 0.9429\n",
      "Epoch 24/30\n",
      "55/55 [==============================] - 5s 84ms/step - loss: 0.1573 - accuracy: 0.9463 - val_loss: 0.2810 - val_accuracy: 0.9589\n",
      "Epoch 25/30\n",
      "55/55 [==============================] - 5s 90ms/step - loss: 0.1439 - accuracy: 0.9549 - val_loss: 0.1273 - val_accuracy: 0.9726\n",
      "Epoch 26/30\n",
      "55/55 [==============================] - 5s 93ms/step - loss: 0.1293 - accuracy: 0.9463 - val_loss: 0.2077 - val_accuracy: 0.9566\n",
      "Epoch 27/30\n",
      "55/55 [==============================] - 5s 89ms/step - loss: 0.1326 - accuracy: 0.9520 - val_loss: 0.1985 - val_accuracy: 0.9635\n",
      "Epoch 28/30\n",
      "55/55 [==============================] - 5s 85ms/step - loss: 0.1536 - accuracy: 0.9411 - val_loss: 0.2476 - val_accuracy: 0.9361\n",
      "Epoch 29/30\n",
      "55/55 [==============================] - 5s 86ms/step - loss: 0.1308 - accuracy: 0.9503 - val_loss: 0.1459 - val_accuracy: 0.9635\n",
      "Epoch 30/30\n",
      "55/55 [==============================] - 5s 86ms/step - loss: 0.1186 - accuracy: 0.9474 - val_loss: 0.1738 - val_accuracy: 0.9566\n"
     ]
    }
   ],
   "source": [
    "# fitting the data to the neural network\n",
    "history=model.fit(x=x_train,y=y_train,validation_data=(x_test,y_test),epochs=30)"
   ]
  },
  {
   "cell_type": "code",
   "execution_count": 44,
   "metadata": {},
   "outputs": [
    {
     "ename": "TypeError",
     "evalue": "subplot() takes 1 or 3 positional arguments but 2 were given",
     "output_type": "error",
     "traceback": [
      "\u001b[0;31m---------------------------------------------------------------------------\u001b[0m",
      "\u001b[0;31mTypeError\u001b[0m                                 Traceback (most recent call last)",
      "\u001b[0;32m/tmp/ipykernel_11577/1539585049.py\u001b[0m in \u001b[0;36m<module>\u001b[0;34m\u001b[0m\n\u001b[0;32m----> 1\u001b[0;31m \u001b[0mfig\u001b[0m\u001b[0;34m,\u001b[0m\u001b[0maxes\u001b[0m\u001b[0;34m=\u001b[0m\u001b[0mplt\u001b[0m\u001b[0;34m.\u001b[0m\u001b[0msubplot\u001b[0m\u001b[0;34m(\u001b[0m\u001b[0;36m1\u001b[0m\u001b[0;34m,\u001b[0m\u001b[0;36m2\u001b[0m\u001b[0;34m)\u001b[0m\u001b[0;34m\u001b[0m\u001b[0;34m\u001b[0m\u001b[0m\n\u001b[0m",
      "\u001b[0;32m~/anaconda3/lib/python3.8/site-packages/matplotlib/pyplot.py\u001b[0m in \u001b[0;36msubplot\u001b[0;34m(*args, **kwargs)\u001b[0m\n\u001b[1;32m   1140\u001b[0m \u001b[0;34m\u001b[0m\u001b[0m\n\u001b[1;32m   1141\u001b[0m     \u001b[0mfig\u001b[0m \u001b[0;34m=\u001b[0m \u001b[0mgcf\u001b[0m\u001b[0;34m(\u001b[0m\u001b[0;34m)\u001b[0m\u001b[0;34m\u001b[0m\u001b[0;34m\u001b[0m\u001b[0m\n\u001b[0;32m-> 1142\u001b[0;31m     \u001b[0max\u001b[0m \u001b[0;34m=\u001b[0m \u001b[0mfig\u001b[0m\u001b[0;34m.\u001b[0m\u001b[0madd_subplot\u001b[0m\u001b[0;34m(\u001b[0m\u001b[0;34m*\u001b[0m\u001b[0margs\u001b[0m\u001b[0;34m,\u001b[0m \u001b[0;34m**\u001b[0m\u001b[0mkwargs\u001b[0m\u001b[0;34m)\u001b[0m\u001b[0;34m\u001b[0m\u001b[0;34m\u001b[0m\u001b[0m\n\u001b[0m\u001b[1;32m   1143\u001b[0m     \u001b[0mbbox\u001b[0m \u001b[0;34m=\u001b[0m \u001b[0max\u001b[0m\u001b[0;34m.\u001b[0m\u001b[0mbbox\u001b[0m\u001b[0;34m\u001b[0m\u001b[0;34m\u001b[0m\u001b[0m\n\u001b[1;32m   1144\u001b[0m     \u001b[0maxes_to_delete\u001b[0m \u001b[0;34m=\u001b[0m \u001b[0;34m[\u001b[0m\u001b[0;34m]\u001b[0m\u001b[0;34m\u001b[0m\u001b[0;34m\u001b[0m\u001b[0m\n",
      "\u001b[0;32m~/anaconda3/lib/python3.8/site-packages/matplotlib/figure.py\u001b[0m in \u001b[0;36madd_subplot\u001b[0;34m(self, *args, **kwargs)\u001b[0m\n\u001b[1;32m   1400\u001b[0m                     \u001b[0;31m# more similar to add_axes.\u001b[0m\u001b[0;34m\u001b[0m\u001b[0;34m\u001b[0m\u001b[0;34m\u001b[0m\u001b[0m\n\u001b[1;32m   1401\u001b[0m                     \u001b[0mself\u001b[0m\u001b[0;34m.\u001b[0m\u001b[0m_axstack\u001b[0m\u001b[0;34m.\u001b[0m\u001b[0mremove\u001b[0m\u001b[0;34m(\u001b[0m\u001b[0max\u001b[0m\u001b[0;34m)\u001b[0m\u001b[0;34m\u001b[0m\u001b[0;34m\u001b[0m\u001b[0m\n\u001b[0;32m-> 1402\u001b[0;31m             \u001b[0max\u001b[0m \u001b[0;34m=\u001b[0m \u001b[0msubplot_class_factory\u001b[0m\u001b[0;34m(\u001b[0m\u001b[0mprojection_class\u001b[0m\u001b[0;34m)\u001b[0m\u001b[0;34m(\u001b[0m\u001b[0mself\u001b[0m\u001b[0;34m,\u001b[0m \u001b[0;34m*\u001b[0m\u001b[0margs\u001b[0m\u001b[0;34m,\u001b[0m \u001b[0;34m**\u001b[0m\u001b[0mkwargs\u001b[0m\u001b[0;34m)\u001b[0m\u001b[0;34m\u001b[0m\u001b[0;34m\u001b[0m\u001b[0m\n\u001b[0m\u001b[1;32m   1403\u001b[0m \u001b[0;34m\u001b[0m\u001b[0m\n\u001b[1;32m   1404\u001b[0m         \u001b[0;32mreturn\u001b[0m \u001b[0mself\u001b[0m\u001b[0;34m.\u001b[0m\u001b[0m_add_axes_internal\u001b[0m\u001b[0;34m(\u001b[0m\u001b[0mkey\u001b[0m\u001b[0;34m,\u001b[0m \u001b[0max\u001b[0m\u001b[0;34m)\u001b[0m\u001b[0;34m\u001b[0m\u001b[0;34m\u001b[0m\u001b[0m\n",
      "\u001b[0;32m~/anaconda3/lib/python3.8/site-packages/matplotlib/axes/_subplots.py\u001b[0m in \u001b[0;36m__init__\u001b[0;34m(self, fig, *args, **kwargs)\u001b[0m\n\u001b[1;32m     37\u001b[0m \u001b[0;34m\u001b[0m\u001b[0m\n\u001b[1;32m     38\u001b[0m         \u001b[0mself\u001b[0m\u001b[0;34m.\u001b[0m\u001b[0mfigure\u001b[0m \u001b[0;34m=\u001b[0m \u001b[0mfig\u001b[0m\u001b[0;34m\u001b[0m\u001b[0;34m\u001b[0m\u001b[0m\n\u001b[0;32m---> 39\u001b[0;31m         \u001b[0mself\u001b[0m\u001b[0;34m.\u001b[0m\u001b[0m_subplotspec\u001b[0m \u001b[0;34m=\u001b[0m \u001b[0mSubplotSpec\u001b[0m\u001b[0;34m.\u001b[0m\u001b[0m_from_subplot_args\u001b[0m\u001b[0;34m(\u001b[0m\u001b[0mfig\u001b[0m\u001b[0;34m,\u001b[0m \u001b[0margs\u001b[0m\u001b[0;34m)\u001b[0m\u001b[0;34m\u001b[0m\u001b[0;34m\u001b[0m\u001b[0m\n\u001b[0m\u001b[1;32m     40\u001b[0m         \u001b[0mself\u001b[0m\u001b[0;34m.\u001b[0m\u001b[0mupdate_params\u001b[0m\u001b[0;34m(\u001b[0m\u001b[0;34m)\u001b[0m\u001b[0;34m\u001b[0m\u001b[0;34m\u001b[0m\u001b[0m\n\u001b[1;32m     41\u001b[0m         \u001b[0;31m# _axes_class is set in the subplot_class_factory\u001b[0m\u001b[0;34m\u001b[0m\u001b[0;34m\u001b[0m\u001b[0;34m\u001b[0m\u001b[0m\n",
      "\u001b[0;32m~/anaconda3/lib/python3.8/site-packages/matplotlib/gridspec.py\u001b[0m in \u001b[0;36m_from_subplot_args\u001b[0;34m(figure, args)\u001b[0m\n\u001b[1;32m    691\u001b[0m                 \u001b[0;32mreturn\u001b[0m \u001b[0mgs\u001b[0m\u001b[0;34m[\u001b[0m\u001b[0mnum\u001b[0m \u001b[0;34m-\u001b[0m \u001b[0;36m1\u001b[0m\u001b[0;34m]\u001b[0m   \u001b[0;31m# -1 due to MATLAB indexing.\u001b[0m\u001b[0;34m\u001b[0m\u001b[0;34m\u001b[0m\u001b[0m\n\u001b[1;32m    692\u001b[0m         \u001b[0;32melse\u001b[0m\u001b[0;34m:\u001b[0m\u001b[0;34m\u001b[0m\u001b[0;34m\u001b[0m\u001b[0m\n\u001b[0;32m--> 693\u001b[0;31m             raise TypeError(f\"subplot() takes 1 or 3 positional arguments but \"\n\u001b[0m\u001b[1;32m    694\u001b[0m                             f\"{len(args)} were given\")\n\u001b[1;32m    695\u001b[0m \u001b[0;34m\u001b[0m\u001b[0m\n",
      "\u001b[0;31mTypeError\u001b[0m: subplot() takes 1 or 3 positional arguments but 2 were given"
     ]
    },
    {
     "data": {
      "text/plain": [
       "<Figure size 432x288 with 0 Axes>"
      ]
     },
     "metadata": {},
     "output_type": "display_data"
    }
   ],
   "source": [
    "fig,axes=plt.subplot(1,2)"
   ]
  },
  {
   "cell_type": "code",
   "execution_count": 47,
   "metadata": {},
   "outputs": [
    {
     "data": {
      "image/png": "[encoded data removed]",
      "text/plain": [
       "<Figure size 864x576 with 1 Axes>"
      ]
     },
     "metadata": {
      "needs_background": "light"
     },
     "output_type": "display_data"
    },
    {
     "data": {
      "text/plain": [
       "<matplotlib.legend.Legend at 0x7fc1e1b6a100>"
      ]
     },
     "execution_count": 47,
     "metadata": {},
     "output_type": "execute_result"
    },
    {
     "data": {
      "image/png": "[encoded data removed]",
      "text/plain": [
       "<Figure size 864x576 with 1 Axes>"
      ]
     },
     "metadata": {
      "needs_background": "light"
     },
     "output_type": "display_data"
    }
   ],
   "source": [
    "plt.figure(figsize=(12,8))\n",
    "plt.plot(history.history['accuracy'],label='accuracy')\n",
    "plt.plot(history.history['val_accuracy'],label='val_accuracy')\n",
    "plt.xlabel('epochs')\n",
    "plt.ylim(0,1)\n",
    "plt.ylabel('accuracy')\n",
    "plt.legend()\n",
    "plt.show()\n",
    "plt.figure(figsize=(12,8))\n",
    "plt.plot(history.history['loss'],label='loss')\n",
    "plt.plot(history.history['val_loss'],label='val_loss')\n",
    "plt.xlabel('epochs')\n",
    "plt.ylim(0,1)\n",
    "plt.ylabel('loss')\n",
    "plt.legend()"
   ]
  },
  {
   "cell_type": "code",
   "execution_count": null,
   "metadata": {},
   "outputs": [],
   "source": []
  }
 ],
 "metadata": {
  "kernelspec": {
   "display_name": "Python 3 (ipykernel)",
   "language": "python",
   "name": "python3"
  },
  "language_info": {
   "codemirror_mode": {
    "name": "ipython",
    "version": 3
   },
   "file_extension": ".py",
   "mimetype": "text/x-python",
   "name": "python",
   "nbconvert_exporter": "python",
   "pygments_lexer": "ipython3",
   "version": "3.8.5"
  }
 },
 "nbformat": 4,
 "nbformat_minor": 4
}
