{
  "nbformat": 4,
  "nbformat_minor": 0,
  "metadata": {
    "colab": {
      "provenance": [],
      "collapsed_sections": [
        "g_eUybsM50Gl"
      ]
    },
    "kernelspec": {
      "name": "python3",
      "display_name": "Python 3"
    },
    "language_info": {
      "name": "python"
    }
  },
  "cells": [
    {
      "cell_type": "markdown",
      "source": [
        "## Instructions"
      ],
      "metadata": {
        "id": "g_eUybsM50Gl"
      }
    },
    {
      "cell_type": "markdown",
      "source": [
        "1. **Make a copy of this notebook** so you can edit and save your own version of it.  You'll do the work in your copy of the notebook.\n",
        "\n",
        "2. Read the Exam Policies (below) and **sign the Academic Integrity Pledge**.\n",
        "\n",
        "3. **Run the Setup / Example Cells** (below), and feel free to use any of the provided code as necessary\n",
        "\n",
        "4. **Complete the Challenges** (below).  You can use any number of cells to complete the challenges.\n",
        "\n",
        "5. Before the end of the exam period, when you are ready to submit: download your notebook as an IPYNB file (\"File\" > \"Download\" > \"Download .ipynb\") and **upload the IPYNB file** to Canvas.\n",
        "\n",
        "\n",
        "\n"
      ],
      "metadata": {
        "id": "1j2_qQP-54_i"
      }
    },
    {
      "cell_type": "markdown",
      "source": [
        "Exam Policies:\n",
        "\n",
        "  + For this exam, you may reference one page of printed notes you have prepared in advance. Sharing or passing of notes is prohibited, and may lead to failure or dismissal.\n",
        "\n",
        "  + Otherwise, the format is: \"closed book\", which means NO communication or collaboration, and NO Internet searches. Accessing Internet resources may lead to failure or dismissal.\n",
        "  \n",
        "  + This notebook should be visible on your screen at all times, except at the very end of the exam period when you are uploading to Canvas.\n",
        "\n",
        "  + Your eyes should be focused on your own screen, or your page of printed notes. Wandering eyes may result in failure or dismissal.\n"
      ],
      "metadata": {
        "id": "ZFKXOWZU7BCc"
      }
    },
    {
      "cell_type": "markdown",
      "source": [
        "\n",
        "\n",
        "Pledge / Acknowlegement:\n",
        "\n",
        "> \"In pursuit of the high ideals and rigorous standards of academic life, I commit myself to respect and to uphold the Georgetown University honor system: To be honest in every academic endeavor, and to conduct myself honorably, as a responsible member of the Georgetown community.\"\n",
        "\n",
        "\n",
        "\n",
        "**Please write your name below to acknowlege these policies:**\n",
        "\n",
        "\n",
        "[YOUR NAME HERE]"
      ],
      "metadata": {
        "id": "g37qFZ-253yz"
      }
    },
    {
      "cell_type": "markdown",
      "source": [
        "## Evaluation / Rubric"
      ],
      "metadata": {
        "id": "iakfjeSL5-c2"
      }
    },
    {
      "cell_type": "markdown",
      "source": [
        "Deliverables will be evaluated according to the rubric below.\n",
        "\n",
        "Challenge | Question(s) | Weight\n",
        "--- | --- | ---\n",
        "Part 1 (Video) |  A | 40%\n",
        "Part 2 (Keywords) |  B | 15%\n",
        "Part 3 (Streams) |  C, D, E | 15%\n",
        "Part 3 (Video Streams) |  F, G, H | 30%\n",
        "Optional Bonus (Stream Types) |  I | +10% (extra credit)\n",
        "Optional Bonus (Stream Counts) |  J | +10% (extra credit)\n",
        "\n",
        "\n",
        "\n",
        "This rubric is tentative, and may be subject to slight adjustments during the grading process.\n",
        "\n",
        "Partial credit will be applied, so students are encouraged to do their best, and avoid leaving any questions blank.\n",
        "\n",
        "The final exam grades may be curved up, based on aggregate performance.\n",
        "\n"
      ],
      "metadata": {
        "id": "l1lesQl96AhB"
      }
    },
    {
      "cell_type": "markdown",
      "source": [
        "## Setup / Examples"
      ],
      "metadata": {
        "id": "8LnCik7g6KYD"
      }
    },
    {
      "cell_type": "markdown",
      "source": [
        "Image display examples:"
      ],
      "metadata": {
        "id": "nlB5myxAWgF1"
      }
    },
    {
      "cell_type": "code",
      "source": [
        "#\n",
        "# EXAMPLE / SETUP CELL (leave as-is, run, and feel free to adapt the example later)\n",
        "#\n",
        "\n",
        "from IPython.display import Image, display\n",
        "\n",
        "print(\"-----------\")\n",
        "print(\"EXAMPLE IMAGES:\")\n",
        "\n",
        "print(\"-----------\")\n",
        "university_logo_url = \"https://upload.wikimedia.org/wikipedia/commons/thumb/9/9f/Georgetown_Hoyas_logo.svg/64px-Georgetown_Hoyas_logo.svg.png\"\n",
        "display(Image(url=university_logo_url))\n",
        "\n",
        "print(\"-----------\")\n",
        "python_logo_url = \"https://www.python.org/static/community_logos/python-powered-w-200x80.png\"\n",
        "display(Image(url=python_logo_url))\n",
        "\n",
        "print(\"-----------\")\n",
        "youtube_logo_url = \"https://logos-world.net/wp-content/uploads/2020/04/YouTube-Logo.png\"\n",
        "display(Image(url=youtube_logo_url, height=100)) # FYI: height value is in pixels"
      ],
      "metadata": {
        "colab": {
          "base_uri": "https://localhost:8080/",
          "height": 361
        },
        "id": "XqT5OzWr65ra",
        "outputId": "73946a01-d3ff-4bd0-f682-2154be7f9284"
      },
      "execution_count": null,
      "outputs": [
        {
          "output_type": "stream",
          "name": "stdout",
          "text": [
            "-----------\n",
            "EXAMPLE IMAGES:\n",
            "-----------\n"
          ]
        },
        {
          "output_type": "display_data",
          "data": {
            "text/html": [
              "<img src=\"https://upload.wikimedia.org/wikipedia/commons/thumb/9/9f/Georgetown_Hoyas_logo.svg/64px-Georgetown_Hoyas_logo.svg.png\"/>"
            ],
            "text/plain": [
              "<IPython.core.display.Image object>"
            ]
          },
          "metadata": {}
        },
        {
          "output_type": "stream",
          "name": "stdout",
          "text": [
            "-----------\n"
          ]
        },
        {
          "output_type": "display_data",
          "data": {
            "text/html": [
              "<img src=\"https://www.python.org/static/community_logos/python-powered-w-200x80.png\"/>"
            ],
            "text/plain": [
              "<IPython.core.display.Image object>"
            ]
          },
          "metadata": {}
        },
        {
          "output_type": "stream",
          "name": "stdout",
          "text": [
            "-----------\n"
          ]
        },
        {
          "output_type": "display_data",
          "data": {
            "text/html": [
              "<img src=\"https://logos-world.net/wp-content/uploads/2020/04/YouTube-Logo.png\" height=\"100\"/>"
            ],
            "text/plain": [
              "<IPython.core.display.Image object>"
            ]
          },
          "metadata": {}
        }
      ]
    },
    {
      "cell_type": "markdown",
      "source": [
        "Ceiling function examples:"
      ],
      "metadata": {
        "id": "OsJnxu3fuPyE"
      }
    },
    {
      "cell_type": "code",
      "source": [
        "from math import ceil\n",
        "\n",
        "assert ceil(0.25) == 1\n",
        "assert ceil(2.000001) == 3\n",
        "assert ceil(125.25) == 126"
      ],
      "metadata": {
        "id": "fvczYvf9sQak"
      },
      "execution_count": null,
      "outputs": []
    },
    {
      "cell_type": "markdown",
      "source": [
        "Helper function for displaying large numbers with a thousands separator:"
      ],
      "metadata": {
        "id": "oKlNJ2YOuTYm"
      }
    },
    {
      "cell_type": "code",
      "source": [
        "\n",
        "def format_number(large_number):\n",
        "    \"\"\"\n",
        "        Formats a large number with thousands separator, for printing and logging.\n",
        "\n",
        "        Param large_number (int) like 1000000000\n",
        "\n",
        "        Returns (str) like '1,000,000,000'\n",
        "    \"\"\"\n",
        "    return f\"{large_number:,.0f}\"\n",
        "\n",
        "\n",
        "assert format_number(123456.789) == \"123,457\"\n",
        "assert format_number(9999999) == \"9,999,999\""
      ],
      "metadata": {
        "id": "SbOtNPJC_FUk"
      },
      "execution_count": null,
      "outputs": []
    },
    {
      "cell_type": "markdown",
      "source": [
        "## Challenges\n",
        "\n",
        "Write Python code which references the provided `video` variable to answer each of the Challenges below.\n"
      ],
      "metadata": {
        "id": "0EYGCeE76G2d"
      }
    },
    {
      "cell_type": "code",
      "source": [
        "#\n",
        "# SETUP CELL (leave as-is, and run)\n",
        "#\n",
        "\n",
        "video = {\n",
        "    'age_restricted': False,\n",
        "    'author': 'codebasics',\n",
        "    'channel_id': 'UCh9nVJoWXmFb7sLApWGcLPQ',\n",
        "    'channel_url': 'https://www.youtube.com/channel/UCh9nVJoWXmFb7sLApWGcLPQ',\n",
        "    'description': \"What is Machine Learning? This is an introduction to machine learning to begin the python machine learning tutorial series. This video describes what is machine learning, deep learning, machine learning application in real life. In next tutorial we will start writing python code to solve a simple problem using machine learning...\",\n",
        "    'keywords': [\n",
        "        'machine learning tutorial',\n",
        "        'machine learning basics',\n",
        "        'machine learning tutorial for beginners',\n",
        "        'machine learning python',\n",
        "        'python machine learning tutorial',\n",
        "        'machine learning tutorial python',\n",
        "        'machine learning with python',\n",
        "        'ml tutorial',\n",
        "        'machine learning using python',\n",
        "        'machine learning tutorials',\n",
        "        'machine learning python tutorial',\n",
        "        'ml for beginners',\n",
        "        'ml tutorial for beginners',\n",
        "        'machine learning basics for beginners',\n",
        "        'machine learning playlist',\n",
        "        'python machine learning'\n",
        "    ],\n",
        "    'length_seconds': 410,\n",
        "    'publish_date': '2018-06-30',\n",
        "    'rating': None,\n",
        "    'streams': [\n",
        "        {'abr': '24kbps', 'audio_codec': 'mp4a.40.2', 'bitrate': 33429, 'fps': 8, 'includes_audio_track': True, 'includes_video_track': True, 'filesize_mb': 1.636, 'mime_type': 'video/3gpp', 'resolution': '144p', 'stream_type': 'video', 'video_codec': 'mp4v.20.3'},\n",
        "        {'abr': '96kbps', 'audio_codec': 'mp4a.40.2', 'bitrate': 151927, 'fps': 30, 'includes_audio_track': True, 'includes_video_track': True, 'filesize_mb': 7.43, 'mime_type': 'video/mp4', 'resolution': '360p', 'stream_type': 'video', 'video_codec': 'avc1.42001E'},\n",
        "        {'abr': '192kbps', 'audio_codec': 'mp4a.40.2', 'bitrate': 180985, 'fps': 30, 'includes_audio_track': True, 'includes_video_track': True, 'filesize_mb': 8.852, 'mime_type': 'video/mp4', 'resolution': '720p', 'stream_type': 'video', 'video_codec': 'avc1.64001F'},\n",
        "        {'abr': None, 'audio_codec': None, 'bitrate': 410313, 'fps': 30, 'includes_audio_track': False, 'includes_video_track': True, 'filesize_mb': 3.798, 'mime_type': 'video/mp4', 'resolution': '1080p', 'stream_type': 'video', 'video_codec': 'avc1.640028'},\n",
        "        {'abr': None, 'audio_codec': None, 'bitrate': 1634401, 'fps': 30, 'includes_audio_track': False, 'includes_video_track': True, 'filesize_mb': 10.765, 'mime_type': 'video/webm', 'resolution': '1080p', 'stream_type': 'video', 'video_codec': 'vp9'},\n",
        "        {'abr': None, 'audio_codec': None, 'bitrate': 285948, 'fps': 30, 'includes_audio_track': False, 'includes_video_track': True, 'filesize_mb': 2.547, 'mime_type': 'video/mp4', 'resolution': '720p', 'stream_type': 'video', 'video_codec': 'avc1.4d401f'},\n",
        "        {'abr': None, 'audio_codec': None, 'bitrate': 1014210, 'fps': 30, 'includes_audio_track': False, 'includes_video_track': True, 'filesize_mb': 6.677, 'mime_type': 'video/webm', 'resolution': '720p', 'stream_type': 'video', 'video_codec': 'vp9'},\n",
        "        {'abr': None, 'audio_codec': None, 'bitrate': 174821, 'fps': 30, 'includes_audio_track': False, 'includes_video_track': True, 'filesize_mb': 1.673, 'mime_type': 'video/mp4', 'resolution': '480p', 'stream_type': 'video', 'video_codec': 'avc1.4d401f'},\n",
        "        {'abr': None, 'audio_codec': None, 'bitrate': 599956, 'fps': 30, 'includes_audio_track': False, 'includes_video_track': True, 'filesize_mb': 3.864, 'mime_type': 'video/webm', 'resolution': '480p', 'stream_type': 'video', 'video_codec': 'vp9'},\n",
        "        {'abr': None, 'audio_codec': None, 'bitrate': 104381, 'fps': 30, 'includes_audio_track': False, 'includes_video_track': True, 'filesize_mb': 1.126, 'mime_type': 'video/mp4', 'resolution': '360p', 'stream_type': 'video', 'video_codec': 'avc1.4d401e'},\n",
        "        {'abr': None, 'audio_codec': None, 'bitrate': 387448, 'fps': 30, 'includes_audio_track': False, 'includes_video_track': True, 'filesize_mb': 2.606, 'mime_type': 'video/webm', 'resolution': '360p', 'stream_type': 'video', 'video_codec': 'vp9'},\n",
        "        {'abr': None, 'audio_codec': None, 'bitrate': 53424, 'fps': 30, 'includes_audio_track': False, 'includes_video_track': True, 'filesize_mb': 0.713, 'mime_type': 'video/mp4', 'resolution': '240p', 'stream_type': 'video', 'video_codec': 'avc1.4d4015'},\n",
        "        {'abr': None, 'audio_codec': None, 'bitrate': 218215, 'fps': 30, 'includes_audio_track': False, 'includes_video_track': True, 'filesize_mb': 1.505, 'mime_type': 'video/webm', 'resolution': '240p', 'stream_type': 'video', 'video_codec': 'vp9'},\n",
        "        {'abr': None, 'audio_codec': None, 'bitrate': 32229, 'fps': 30, 'includes_audio_track': False, 'includes_video_track': True, 'filesize_mb': 0.528, 'mime_type': 'video/mp4', 'resolution': '144p', 'stream_type': 'video', 'video_codec': 'avc1.4d400c'},\n",
        "        {'abr': None, 'audio_codec': None, 'bitrate': 90783, 'fps': 30, 'includes_audio_track': False, 'includes_video_track': True, 'filesize_mb': 0.991, 'mime_type': 'video/webm', 'resolution': '144p', 'stream_type': 'video', 'video_codec': 'vp9'},\n",
        "        {'abr': '48kbps', 'audio_codec': 'mp4a.40.5', 'bitrate': 50094, 'fps': None, 'includes_audio_track': True, 'includes_video_track': False, 'filesize_mb': 2.389, 'mime_type': 'audio/mp4', 'resolution': None, 'stream_type': 'audio', 'video_codec': None},\n",
        "        {'abr': '128kbps', 'audio_codec': 'mp4a.40.2', 'bitrate': 130641, 'fps': None, 'includes_audio_track': True, 'includes_video_track': False, 'filesize_mb': 6.337, 'mime_type': 'audio/mp4', 'resolution': None, 'stream_type': 'audio', 'video_codec': None},\n",
        "        {'abr': '50kbps', 'audio_codec': 'opus', 'bitrate': 54047, 'fps': None, 'includes_audio_track': True, 'includes_video_track': False, 'filesize_mb': 2.497, 'mime_type': 'audio/webm', 'resolution': None, 'stream_type': 'audio', 'video_codec': None},\n",
        "        {'abr': '70kbps', 'audio_codec': 'opus', 'bitrate': 75866, 'fps': None, 'includes_audio_track': True, 'includes_video_track': False, 'filesize_mb': 3.333, 'mime_type': 'audio/webm', 'resolution': None, 'stream_type': 'audio', 'video_codec': None},\n",
        "        {'abr': '160kbps', 'audio_codec': 'opus', 'bitrate': 137460, 'fps': None, 'includes_audio_track': True, 'includes_video_track': False, 'filesize_mb': 6.143, 'mime_type': 'audio/webm', 'resolution': None, 'stream_type': 'audio', 'video_codec': None}\n",
        "    ],\n",
        "    'thumbnail_url': 'https://i.ytimg.com/vi/gmvvaobm7eQ/sddefault.jpg',\n",
        "    'title': 'Machine Learning Tutorial Python -1: What is Machine Learning?',\n",
        "    'video_id': 'gmvvaobm7eQ',\n",
        "    'views': 758357,\n",
        "    'watch_url': 'https://youtube.com/watch?v=gmvvaobm7eQ'\n",
        "}\n",
        "\n",
        "\n",
        "print(video)"
      ],
      "metadata": {
        "colab": {
          "base_uri": "https://localhost:8080/"
        },
        "id": "YAf3SMaK7GSO",
        "outputId": "84c8d11a-f904-4ded-8130-91de0b2d054e"
      },
      "execution_count": null,
      "outputs": [
        {
          "output_type": "stream",
          "name": "stdout",
          "text": [
            "{'age_restricted': False, 'author': 'codebasics', 'channel_id': 'UCh9nVJoWXmFb7sLApWGcLPQ', 'channel_url': 'https://www.youtube.com/channel/UCh9nVJoWXmFb7sLApWGcLPQ', 'description': 'What is Machine Learning? This is an introduction to machine learning to begin the python machine learning tutorial series. This video describes what is machine learning, deep learning, machine learning application in real life. In next tutorial we will start writing python code to solve a simple problem using machine learning...', 'keywords': ['machine learning tutorial', 'machine learning basics', 'machine learning tutorial for beginners', 'machine learning python', 'python machine learning tutorial', 'machine learning tutorial python', 'machine learning with python', 'ml tutorial', 'machine learning using python', 'machine learning tutorials', 'machine learning python tutorial', 'ml for beginners', 'ml tutorial for beginners', 'machine learning basics for beginners', 'machine learning playlist', 'python machine learning'], 'length_seconds': 410, 'publish_date': '2018-06-30', 'rating': None, 'streams': [{'abr': '24kbps', 'audio_codec': 'mp4a.40.2', 'bitrate': 33429, 'fps': 8, 'includes_audio_track': True, 'includes_video_track': True, 'filesize_mb': 1.636, 'mime_type': 'video/3gpp', 'resolution': '144p', 'stream_type': 'video', 'video_codec': 'mp4v.20.3'}, {'abr': '96kbps', 'audio_codec': 'mp4a.40.2', 'bitrate': 151927, 'fps': 30, 'includes_audio_track': True, 'includes_video_track': True, 'filesize_mb': 7.43, 'mime_type': 'video/mp4', 'resolution': '360p', 'stream_type': 'video', 'video_codec': 'avc1.42001E'}, {'abr': '192kbps', 'audio_codec': 'mp4a.40.2', 'bitrate': 180985, 'fps': 30, 'includes_audio_track': True, 'includes_video_track': True, 'filesize_mb': 8.852, 'mime_type': 'video/mp4', 'resolution': '720p', 'stream_type': 'video', 'video_codec': 'avc1.64001F'}, {'abr': None, 'audio_codec': None, 'bitrate': 410313, 'fps': 30, 'includes_audio_track': False, 'includes_video_track': True, 'filesize_mb': 3.798, 'mime_type': 'video/mp4', 'resolution': '1080p', 'stream_type': 'video', 'video_codec': 'avc1.640028'}, {'abr': None, 'audio_codec': None, 'bitrate': 1634401, 'fps': 30, 'includes_audio_track': False, 'includes_video_track': True, 'filesize_mb': 10.765, 'mime_type': 'video/webm', 'resolution': '1080p', 'stream_type': 'video', 'video_codec': 'vp9'}, {'abr': None, 'audio_codec': None, 'bitrate': 285948, 'fps': 30, 'includes_audio_track': False, 'includes_video_track': True, 'filesize_mb': 2.547, 'mime_type': 'video/mp4', 'resolution': '720p', 'stream_type': 'video', 'video_codec': 'avc1.4d401f'}, {'abr': None, 'audio_codec': None, 'bitrate': 1014210, 'fps': 30, 'includes_audio_track': False, 'includes_video_track': True, 'filesize_mb': 6.677, 'mime_type': 'video/webm', 'resolution': '720p', 'stream_type': 'video', 'video_codec': 'vp9'}, {'abr': None, 'audio_codec': None, 'bitrate': 174821, 'fps': 30, 'includes_audio_track': False, 'includes_video_track': True, 'filesize_mb': 1.673, 'mime_type': 'video/mp4', 'resolution': '480p', 'stream_type': 'video', 'video_codec': 'avc1.4d401f'}, {'abr': None, 'audio_codec': None, 'bitrate': 599956, 'fps': 30, 'includes_audio_track': False, 'includes_video_track': True, 'filesize_mb': 3.864, 'mime_type': 'video/webm', 'resolution': '480p', 'stream_type': 'video', 'video_codec': 'vp9'}, {'abr': None, 'audio_codec': None, 'bitrate': 104381, 'fps': 30, 'includes_audio_track': False, 'includes_video_track': True, 'filesize_mb': 1.126, 'mime_type': 'video/mp4', 'resolution': '360p', 'stream_type': 'video', 'video_codec': 'avc1.4d401e'}, {'abr': None, 'audio_codec': None, 'bitrate': 387448, 'fps': 30, 'includes_audio_track': False, 'includes_video_track': True, 'filesize_mb': 2.606, 'mime_type': 'video/webm', 'resolution': '360p', 'stream_type': 'video', 'video_codec': 'vp9'}, {'abr': None, 'audio_codec': None, 'bitrate': 53424, 'fps': 30, 'includes_audio_track': False, 'includes_video_track': True, 'filesize_mb': 0.713, 'mime_type': 'video/mp4', 'resolution': '240p', 'stream_type': 'video', 'video_codec': 'avc1.4d4015'}, {'abr': None, 'audio_codec': None, 'bitrate': 218215, 'fps': 30, 'includes_audio_track': False, 'includes_video_track': True, 'filesize_mb': 1.505, 'mime_type': 'video/webm', 'resolution': '240p', 'stream_type': 'video', 'video_codec': 'vp9'}, {'abr': None, 'audio_codec': None, 'bitrate': 32229, 'fps': 30, 'includes_audio_track': False, 'includes_video_track': True, 'filesize_mb': 0.528, 'mime_type': 'video/mp4', 'resolution': '144p', 'stream_type': 'video', 'video_codec': 'avc1.4d400c'}, {'abr': None, 'audio_codec': None, 'bitrate': 90783, 'fps': 30, 'includes_audio_track': False, 'includes_video_track': True, 'filesize_mb': 0.991, 'mime_type': 'video/webm', 'resolution': '144p', 'stream_type': 'video', 'video_codec': 'vp9'}, {'abr': '48kbps', 'audio_codec': 'mp4a.40.5', 'bitrate': 50094, 'fps': None, 'includes_audio_track': True, 'includes_video_track': False, 'filesize_mb': 2.389, 'mime_type': 'audio/mp4', 'resolution': None, 'stream_type': 'audio', 'video_codec': None}, {'abr': '128kbps', 'audio_codec': 'mp4a.40.2', 'bitrate': 130641, 'fps': None, 'includes_audio_track': True, 'includes_video_track': False, 'filesize_mb': 6.337, 'mime_type': 'audio/mp4', 'resolution': None, 'stream_type': 'audio', 'video_codec': None}, {'abr': '50kbps', 'audio_codec': 'opus', 'bitrate': 54047, 'fps': None, 'includes_audio_track': True, 'includes_video_track': False, 'filesize_mb': 2.497, 'mime_type': 'audio/webm', 'resolution': None, 'stream_type': 'audio', 'video_codec': None}, {'abr': '70kbps', 'audio_codec': 'opus', 'bitrate': 75866, 'fps': None, 'includes_audio_track': True, 'includes_video_track': False, 'filesize_mb': 3.333, 'mime_type': 'audio/webm', 'resolution': None, 'stream_type': 'audio', 'video_codec': None}, {'abr': '160kbps', 'audio_codec': 'opus', 'bitrate': 137460, 'fps': None, 'includes_audio_track': True, 'includes_video_track': False, 'filesize_mb': 6.143, 'mime_type': 'audio/webm', 'resolution': None, 'stream_type': 'audio', 'video_codec': None}], 'thumbnail_url': 'https://i.ytimg.com/vi/gmvvaobm7eQ/sddefault.jpg', 'title': 'Machine Learning Tutorial Python -1: What is Machine Learning?', 'video_id': 'gmvvaobm7eQ', 'views': 758357, 'watch_url': 'https://youtube.com/watch?v=gmvvaobm7eQ'}\n"
          ]
        }
      ]
    },
    {
      "cell_type": "markdown",
      "source": [
        "### Part 1 (Video)"
      ],
      "metadata": {
        "id": "xXtqo_4G6Iee"
      }
    },
    {
      "cell_type": "markdown",
      "source": [
        "\n",
        "**Video**:\n",
        "\n",
        "A) Display a human friendly representation of information about the video, including the following details:\n",
        "\n",
        "  + **Video Title**\n",
        "  + **Video Author**\n",
        "  + **Date Published**\n",
        "  + **Video Length**, in minutes, formatted using the ceiling function (i.e. `7` minutes). NOTE: video length is provided in seconds, so you'll need to divide by 60 to convert to minutes first\n",
        "  + **Number of Views**, formatted using a thousands separator (i.e. `758,357` views)\n",
        "  + **Video Description**\n",
        "  + **Thumbnail Image**, displayed with height of 120 pixels.\n",
        "\n",
        "\n",
        "Example Output for Part 1:\n",
        "\n",
        "\n",
        "<img width=\"600\" alt=\"Screenshot 2023-02-25 at 6 38 43 PM\" src=\"https://user-images.githubusercontent.com/1328807/221384535-dbb9962f-628d-4622-aadc-f6c609fb6677.png\">\n",
        "\n",
        "\n"
      ],
      "metadata": {
        "id": "Vd6hfg6cCNMh"
      }
    },
    {
      "cell_type": "code",
      "source": [
        "\n",
        "# todo: your code here\n",
        "\n"
      ],
      "metadata": {
        "id": "1Z14o6Fb7DIl"
      },
      "execution_count": null,
      "outputs": []
    },
    {
      "cell_type": "code",
      "source": [],
      "metadata": {
        "id": "MMwO8MMrBvmG"
      },
      "execution_count": null,
      "outputs": []
    },
    {
      "cell_type": "code",
      "source": [],
      "metadata": {
        "id": "tOV0VFPABvfq"
      },
      "execution_count": null,
      "outputs": []
    },
    {
      "cell_type": "markdown",
      "source": [
        "### Part 2 (Keywords / Tags)"
      ],
      "metadata": {
        "id": "I2tAXo9KCIaI"
      }
    },
    {
      "cell_type": "markdown",
      "source": [
        "\n",
        "**Keywords / Tags**:\n",
        "\n",
        "B) Access the video's \"keywords\", and use them to exactly reproduce the report displayed below. This includes:\n",
        "  + printing the number of tags (i.e. `16`)\n",
        "  + sorting the tags in alphabetical order, then looping through them, and printing an uppercased version of each tag on its own line\n",
        "\n",
        "Example Output for Part 2:\n",
        "\n",
        "    ------------\n",
        "    TAGS: 16\n",
        "    ------------\n",
        "    ... MACHINE LEARNING BASICS\n",
        "    ... MACHINE LEARNING BASICS FOR BEGINNERS\n",
        "    ... MACHINE LEARNING PLAYLIST\n",
        "    ... MACHINE LEARNING PYTHON\n",
        "    ... MACHINE LEARNING PYTHON TUTORIAL\n",
        "    ... MACHINE LEARNING TUTORIAL\n",
        "    ... MACHINE LEARNING TUTORIAL FOR BEGINNERS\n",
        "    ... MACHINE LEARNING TUTORIAL PYTHON\n",
        "    ... MACHINE LEARNING TUTORIALS\n",
        "    ... MACHINE LEARNING USING PYTHON\n",
        "    ... MACHINE LEARNING WITH PYTHON\n",
        "    ... ML FOR BEGINNERS\n",
        "    ... ML TUTORIAL\n",
        "    ... ML TUTORIAL FOR BEGINNERS\n",
        "    ... PYTHON MACHINE LEARNING\n",
        "    ... PYTHON MACHINE LEARNING TUTORIAL"
      ],
      "metadata": {
        "id": "Ibx8XzxlCOd9"
      }
    },
    {
      "cell_type": "code",
      "source": [
        "\n",
        "# todo: your code here\n",
        "\n"
      ],
      "metadata": {
        "id": "pZAG5EGW9TZ4"
      },
      "execution_count": null,
      "outputs": []
    },
    {
      "cell_type": "code",
      "source": [],
      "metadata": {
        "id": "QHzpN3U9huXZ"
      },
      "execution_count": null,
      "outputs": []
    },
    {
      "cell_type": "code",
      "source": [],
      "metadata": {
        "id": "uldwda8BhuRr"
      },
      "execution_count": null,
      "outputs": []
    },
    {
      "cell_type": "markdown",
      "source": [
        "### Part 3 (Streams)"
      ],
      "metadata": {
        "id": "RUWUYmZ_-w09"
      }
    },
    {
      "cell_type": "markdown",
      "source": [
        "\n",
        "\n",
        "**Streams**\n",
        "\n",
        "C) Access the video's \"streams\", and store them in a new variable called `streams`.\n",
        "\n",
        "D) Print the number of streams (i.e. `20`).\n",
        "\n",
        "E) Sort the streams by \"bitrate\" in ascending order, and store the sorted streams in a variable (either overwriting the `streams` variable, or in a new variable called `sorted_streams`).\n",
        "\n",
        "> NOTE: use these sorted streams when answering  the remaining questions below (most notably in Question H). However, if you are not able to sort the streams, just use the original / unsorted streams below instead!\n",
        "\n",
        "**Video Streams**\n",
        "\n",
        "F) Get the (ideally previously sorted) streams that have a \"mime_type\" value of `\"video/mp4\"`, and store them in a new variable called `video_streams`.\n",
        "\n",
        "G) Print the number of these MP4 video streams (i.e. `8`).\n",
        "\n",
        "H) Loop through these MP4 video streams and print the \"mime_type\", \"resolution\", and \"bitrate\" of each. Format the bitrate using thousands separator.\n",
        "\n",
        "\n",
        " Example Output for Part 3:\n",
        "\n",
        "    ----------------\n",
        "    STREAMS: 20\n",
        "    VIDEO STREAMS: 8\n",
        "    ----------------\n",
        "    ... MIME TYPE: video/mp4 | RESOLUTION: 144p | BITRATE: 32,229\n",
        "    ... MIME TYPE: video/mp4 | RESOLUTION: 240p | BITRATE: 53,424\n",
        "    ... MIME TYPE: video/mp4 | RESOLUTION: 360p | BITRATE: 104,381\n",
        "    ... MIME TYPE: video/mp4 | RESOLUTION: 360p | BITRATE: 151,927\n",
        "    ... MIME TYPE: video/mp4 | RESOLUTION: 480p | BITRATE: 174,821\n",
        "    ... MIME TYPE: video/mp4 | RESOLUTION: 720p | BITRATE: 180,985\n",
        "    ... MIME TYPE: video/mp4 | RESOLUTION: 720p | BITRATE: 285,948\n",
        "    ... MIME TYPE: video/mp4 | RESOLUTION: 1080p | BITRATE: 410,313\n",
        "\n",
        "\n",
        "\n",
        "\n"
      ],
      "metadata": {
        "id": "3PlOGddb-zfD"
      }
    },
    {
      "cell_type": "code",
      "source": [
        "\n",
        "\n",
        "# todo: your code here\n",
        "\n",
        "\n",
        "\n"
      ],
      "metadata": {
        "id": "qpNqO5TJGt_4"
      },
      "execution_count": null,
      "outputs": []
    },
    {
      "cell_type": "code",
      "source": [],
      "metadata": {
        "id": "wv6ghFKHP2qh"
      },
      "execution_count": null,
      "outputs": []
    },
    {
      "cell_type": "code",
      "source": [],
      "metadata": {
        "id": "NEWGfCYuQiFV"
      },
      "execution_count": null,
      "outputs": []
    },
    {
      "cell_type": "code",
      "source": [],
      "metadata": {
        "id": "Y3RifjGWhxDo"
      },
      "execution_count": null,
      "outputs": []
    },
    {
      "cell_type": "code",
      "source": [],
      "metadata": {
        "id": "KX03KPMPkvG6"
      },
      "execution_count": null,
      "outputs": []
    },
    {
      "cell_type": "markdown",
      "source": [
        "### Optional Bonus"
      ],
      "metadata": {
        "id": "8PPBhy1ANT_7"
      }
    },
    {
      "cell_type": "markdown",
      "source": [
        "When answering these optional bonus questions, use the `streams` variable from Part 3.\n"
      ],
      "metadata": {
        "id": "Sj3TxDMRVYCX"
      }
    },
    {
      "cell_type": "markdown",
      "source": [
        "\n",
        "\n",
        "**Stream Types**\n",
        "\n",
        "\n",
        "I) Obtain a list of unique \"mime_type\" values from the streams, store them in a new variable called `mime_types`,  sort them in alphabetical order, and finally print them. You could print them all on one line, or each on their own line.\n",
        "\n",
        "Example output:\n",
        "\n",
        "```\n",
        "----------------\n",
        "STREAM TYPES:\n",
        "----------------\n",
        "['audio/mp4', 'audio/webm', 'video/3gpp', 'video/mp4', 'video/webm']\n",
        "```\n",
        "\n",
        "\n",
        "**Stream Counts**\n",
        "\n",
        "J) Print the number of streams associated with each of these unique \"mime_type\" values. You could print these mime types and counts on one line, or each on their own line.\n",
        "\n",
        "\n",
        "Example output options (either is acceptable):\n",
        "\n",
        "```\n",
        "----------------\n",
        "STREAM COUNTS:\n",
        "----------------\n",
        "{'audio/mp4': 2, 'audio/webm': 3, 'video/3gpp': 1, 'video/mp4': 8, 'video/webm': 6}\n",
        "```\n",
        "\n",
        "\n",
        "```\n",
        "----------------\n",
        "STREAM COUNTS:\n",
        "----------------\n",
        "... MIME TYPE: audio/mp4  | STREAM COUNT: 2\n",
        "... MIME TYPE: audio/webm  | STREAM COUNT: 3\n",
        "... MIME TYPE: video/3gpp  | STREAM COUNT: 1\n",
        "... MIME TYPE: video/mp4  | STREAM COUNT: 8\n",
        "... MIME TYPE: video/webm  | STREAM COUNT: 6\n",
        "\n",
        "```\n",
        "\n",
        "\n",
        "\n"
      ],
      "metadata": {
        "id": "0gJFZkw8NWWz"
      }
    },
    {
      "cell_type": "code",
      "source": [],
      "metadata": {
        "id": "GPBdYGATku_t"
      },
      "execution_count": null,
      "outputs": []
    },
    {
      "cell_type": "code",
      "source": [],
      "metadata": {
        "id": "A9Hvd8o4VgCE"
      },
      "execution_count": null,
      "outputs": []
    },
    {
      "cell_type": "code",
      "source": [],
      "metadata": {
        "id": "-k0AmCjskx-b"
      },
      "execution_count": null,
      "outputs": []
    },
    {
      "cell_type": "code",
      "source": [],
      "metadata": {
        "id": "Pmft2CwEky5G"
      },
      "execution_count": null,
      "outputs": []
    },
    {
      "cell_type": "code",
      "source": [],
      "metadata": {
        "id": "1F40fZylQkUU"
      },
      "execution_count": null,
      "outputs": []
    },
    {
      "cell_type": "code",
      "source": [],
      "metadata": {
        "id": "RWfcPPSVQkD2"
      },
      "execution_count": null,
      "outputs": []
    },
    {
      "cell_type": "code",
      "source": [],
      "metadata": {
        "id": "F2R9oFUTW2ku"
      },
      "execution_count": null,
      "outputs": []
    },
    {
      "cell_type": "markdown",
      "source": [
        "# Scratch Work"
      ],
      "metadata": {
        "id": "Idbw57mzQrnm"
      }
    },
    {
      "cell_type": "markdown",
      "source": [
        "Feel free to use any number of cells below for scratch work that will not be evaluated.\n",
        "\n",
        "The code below will not be evaluated, so make sure the \"Challenges\" section above includes your final work product for evaluation."
      ],
      "metadata": {
        "id": "SARjMkICQt52"
      }
    },
    {
      "cell_type": "code",
      "source": [],
      "metadata": {
        "id": "hlqLzFhOQtXe"
      },
      "execution_count": null,
      "outputs": []
    },
    {
      "cell_type": "code",
      "source": [],
      "metadata": {
        "id": "LFtz49WvQtpW"
      },
      "execution_count": null,
      "outputs": []
    },
    {
      "cell_type": "code",
      "source": [],
      "metadata": {
        "id": "dykuriMPQtnB"
      },
      "execution_count": null,
      "outputs": []
    },
    {
      "cell_type": "code",
      "source": [],
      "metadata": {
        "id": "QVi5ND0NQtk1"
      },
      "execution_count": null,
      "outputs": []
    },
    {
      "cell_type": "code",
      "source": [],
      "metadata": {
        "id": "WH5VxCAVQteM"
      },
      "execution_count": null,
      "outputs": []
    }
  ]
}