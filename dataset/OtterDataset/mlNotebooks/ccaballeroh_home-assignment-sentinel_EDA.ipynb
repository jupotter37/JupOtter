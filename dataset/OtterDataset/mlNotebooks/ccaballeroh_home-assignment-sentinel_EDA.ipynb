{
 "cells": [
  {
   "cell_type": "markdown",
   "metadata": {},
   "source": [
    "# Exploratory Data Analysis"
   ]
  },
  {
   "cell_type": "code",
   "execution_count": 1,
   "metadata": {},
   "outputs": [],
   "source": [
    "import pandas as pd\n",
    "from pathlib import Path\n",
    "from urllib.parse import urlparse\n",
    "from collections import Counter\n",
    "import random"
   ]
  },
  {
   "cell_type": "markdown",
   "metadata": {},
   "source": [
    "First let's do an exploratory data analysis. We'll get the file names on the directory `data`."
   ]
  },
  {
   "cell_type": "code",
   "execution_count": 2,
   "metadata": {},
   "outputs": [
    {
     "name": "stdout",
     "output_type": "stream",
     "text": [
      "['clusters.json', 'fake_test.json', 'fake_train.json', 'real_test.json', 'real_train.json']\n"
     ]
    }
   ],
   "source": [
    "data_path = Path(\"./data\")  # path to files\n",
    "print([file.name for file in data_path.iterdir()])"
   ]
  },
  {
   "cell_type": "markdown",
   "metadata": {},
   "source": [
    "We can construct a dictionary whose keys are the file names and the values are the the `Paths` to the files. By using the `Path` object, we make this code platform-idependent."
   ]
  },
  {
   "cell_type": "code",
   "execution_count": 3,
   "metadata": {},
   "outputs": [
    {
     "data": {
      "text/plain": [
       "{'clusters': WindowsPath('data/clusters.json'),\n",
       " 'fake_test': WindowsPath('data/fake_test.json'),\n",
       " 'fake_train': WindowsPath('data/fake_train.json'),\n",
       " 'real_test': WindowsPath('data/real_test.json'),\n",
       " 'real_train': WindowsPath('data/real_train.json')}"
      ]
     },
     "execution_count": 3,
     "metadata": {},
     "output_type": "execute_result"
    }
   ],
   "source": [
    "files_data = {file.stem: file for file in data_path.iterdir()}\n",
    "files_data"
   ]
  },
  {
   "cell_type": "markdown",
   "metadata": {},
   "source": [
    "Now, we can read the contents of the *train* file, both fakes and reals."
   ]
  },
  {
   "cell_type": "code",
   "execution_count": 4,
   "metadata": {},
   "outputs": [],
   "source": [
    "fake_train = pd.read_json(files_data[\"fake_train\"])\n",
    "real_train = pd.read_json(files_data[\"real_train\"])"
   ]
  },
  {
   "cell_type": "markdown",
   "metadata": {},
   "source": [
    "Let's check the contents of each:"
   ]
  },
  {
   "cell_type": "code",
   "execution_count": 5,
   "metadata": {},
   "outputs": [
    {
     "data": {
      "text/html": [
       "<div>\n",
       "<style scoped>\n",
       "    .dataframe tbody tr th:only-of-type {\n",
       "        vertical-align: middle;\n",
       "    }\n",
       "\n",
       "    .dataframe tbody tr th {\n",
       "        vertical-align: top;\n",
       "    }\n",
       "\n",
       "    .dataframe thead th {\n",
       "        text-align: right;\n",
       "    }\n",
       "</style>\n",
       "<table border=\"1\" class=\"dataframe\">\n",
       "  <thead>\n",
       "    <tr style=\"text-align: right;\">\n",
       "      <th></th>\n",
       "      <th>url</th>\n",
       "      <th>title</th>\n",
       "      <th>text</th>\n",
       "    </tr>\n",
       "  </thead>\n",
       "  <tbody>\n",
       "    <tr>\n",
       "      <th>0</th>\n",
       "      <td>https://nabd.com/s/71539812-b7228b/%D9%86%D8%B...</td>\n",
       "      <td>Online Facts New conspiracy theory: #Bel_Gates...</td>\n",
       "      <td>Roger Stone suggested on Monday that Bill Gate...</td>\n",
       "    </tr>\n",
       "    <tr>\n",
       "      <th>1</th>\n",
       "      <td>https://shamra.sy/news/article/8eb73454931e6d1...</td>\n",
       "      <td>Revolutionary Guards: Corona could be an Ameri...</td>\n",
       "      <td>Source\\nRussia Today |\\nIranian Revolutionary ...</td>\n",
       "    </tr>\n",
       "    <tr>\n",
       "      <th>2</th>\n",
       "      <td>https://sudanewsnow.com/19800/</td>\n",
       "      <td>Yellow skin is the host environment of the vir...</td>\n",
       "      <td>Sudan news now from all sources sudanewsnow.co...</td>\n",
       "    </tr>\n",
       "    <tr>\n",
       "      <th>3</th>\n",
       "      <td>https://arabic.rt.com/press/1100276-%D8%A7%D9%...</td>\n",
       "      <td>China and Russia are doing what the European U...</td>\n",
       "      <td>China and Russia are doing what the European U...</td>\n",
       "    </tr>\n",
       "    <tr>\n",
       "      <th>4</th>\n",
       "      <td>https://www.kachaf.com/details.php?n=5e8957fe1...</td>\n",
       "      <td></td>\n",
       "      <td>Fatal error: Uncaught MongoDB\\Driver\\Exception...</td>\n",
       "    </tr>\n",
       "  </tbody>\n",
       "</table>\n",
       "</div>"
      ],
      "text/plain": [
       "                                                 url  \\\n",
       "0  https://nabd.com/s/71539812-b7228b/%D9%86%D8%B...   \n",
       "1  https://shamra.sy/news/article/8eb73454931e6d1...   \n",
       "2                     https://sudanewsnow.com/19800/   \n",
       "3  https://arabic.rt.com/press/1100276-%D8%A7%D9%...   \n",
       "4  https://www.kachaf.com/details.php?n=5e8957fe1...   \n",
       "\n",
       "                                               title  \\\n",
       "0  Online Facts New conspiracy theory: #Bel_Gates...   \n",
       "1  Revolutionary Guards: Corona could be an Ameri...   \n",
       "2  Yellow skin is the host environment of the vir...   \n",
       "3  China and Russia are doing what the European U...   \n",
       "4                                                      \n",
       "\n",
       "                                                text  \n",
       "0  Roger Stone suggested on Monday that Bill Gate...  \n",
       "1  Source\\nRussia Today |\\nIranian Revolutionary ...  \n",
       "2  Sudan news now from all sources sudanewsnow.co...  \n",
       "3  China and Russia are doing what the European U...  \n",
       "4  Fatal error: Uncaught MongoDB\\Driver\\Exception...  "
      ]
     },
     "execution_count": 5,
     "metadata": {},
     "output_type": "execute_result"
    }
   ],
   "source": [
    "fake_train.head()"
   ]
  },
  {
   "cell_type": "code",
   "execution_count": 6,
   "metadata": {},
   "outputs": [
    {
     "data": {
      "text/html": [
       "<div>\n",
       "<style scoped>\n",
       "    .dataframe tbody tr th:only-of-type {\n",
       "        vertical-align: middle;\n",
       "    }\n",
       "\n",
       "    .dataframe tbody tr th {\n",
       "        vertical-align: top;\n",
       "    }\n",
       "\n",
       "    .dataframe thead th {\n",
       "        text-align: right;\n",
       "    }\n",
       "</style>\n",
       "<table border=\"1\" class=\"dataframe\">\n",
       "  <thead>\n",
       "    <tr style=\"text-align: right;\">\n",
       "      <th></th>\n",
       "      <th>url</th>\n",
       "      <th>title</th>\n",
       "      <th>text</th>\n",
       "    </tr>\n",
       "  </thead>\n",
       "  <tbody>\n",
       "    <tr>\n",
       "      <th>0</th>\n",
       "      <td>https://www.thetimes.co.uk/edition/scotland/sc...</td>\n",
       "      <td>Scots GPs told not to meet fever patients as f...</td>\n",
       "      <td>Scots GPs told not to meet fever patients as f...</td>\n",
       "    </tr>\n",
       "    <tr>\n",
       "      <th>1</th>\n",
       "      <td>https://www.bbc.com/news/world-africa-52103799</td>\n",
       "      <td>Coronavirus : Fighting al - Shabab propaganda ...</td>\n",
       "      <td>Coronavirus: Fighting al-Shabab propaganda in ...</td>\n",
       "    </tr>\n",
       "    <tr>\n",
       "      <th>2</th>\n",
       "      <td>https://www.thetimes.co.uk/edition/business/en...</td>\n",
       "      <td>Engineer fears China virus impact</td>\n",
       "      <td>Engineer fears China virus impact\\nA British e...</td>\n",
       "    </tr>\n",
       "    <tr>\n",
       "      <th>3</th>\n",
       "      <td>https://www.theguardian.com/world/live/2020/fe...</td>\n",
       "      <td>Coronavirus : South Korean PM vows  swift  act...</td>\n",
       "      <td>Here’s a summary of what’s happened so far on ...</td>\n",
       "    </tr>\n",
       "    <tr>\n",
       "      <th>4</th>\n",
       "      <td>https://yle.fi/uutiset/osasto/news/finnair_iss...</td>\n",
       "      <td>Finnair issues profit warning over Covid - 19 ...</td>\n",
       "      <td>Finnair issues profit warning over Covid-19 fe...</td>\n",
       "    </tr>\n",
       "  </tbody>\n",
       "</table>\n",
       "</div>"
      ],
      "text/plain": [
       "                                                 url  \\\n",
       "0  https://www.thetimes.co.uk/edition/scotland/sc...   \n",
       "1     https://www.bbc.com/news/world-africa-52103799   \n",
       "2  https://www.thetimes.co.uk/edition/business/en...   \n",
       "3  https://www.theguardian.com/world/live/2020/fe...   \n",
       "4  https://yle.fi/uutiset/osasto/news/finnair_iss...   \n",
       "\n",
       "                                               title  \\\n",
       "0  Scots GPs told not to meet fever patients as f...   \n",
       "1  Coronavirus : Fighting al - Shabab propaganda ...   \n",
       "2                  Engineer fears China virus impact   \n",
       "3  Coronavirus : South Korean PM vows  swift  act...   \n",
       "4  Finnair issues profit warning over Covid - 19 ...   \n",
       "\n",
       "                                                text  \n",
       "0  Scots GPs told not to meet fever patients as f...  \n",
       "1  Coronavirus: Fighting al-Shabab propaganda in ...  \n",
       "2  Engineer fears China virus impact\\nA British e...  \n",
       "3  Here’s a summary of what’s happened so far on ...  \n",
       "4  Finnair issues profit warning over Covid-19 fe...  "
      ]
     },
     "execution_count": 6,
     "metadata": {},
     "output_type": "execute_result"
    }
   ],
   "source": [
    "real_train.head()"
   ]
  },
  {
   "cell_type": "code",
   "execution_count": 7,
   "metadata": {},
   "outputs": [
    {
     "name": "stdout",
     "output_type": "stream",
     "text": [
      "Elements in the real training set: 800\n",
      "Elements in the fake training set: 800\n"
     ]
    }
   ],
   "source": [
    "print(f'Elements in the real training set: {len(real_train)}\\nElements in the fake training set: {len(fake_train)}')"
   ]
  },
  {
   "cell_type": "markdown",
   "metadata": {},
   "source": [
    "Both have the same number of rows. Let's check if the data is fully populated."
   ]
  },
  {
   "cell_type": "code",
   "execution_count": 8,
   "metadata": {},
   "outputs": [
    {
     "data": {
      "text/html": [
       "<div>\n",
       "<style scoped>\n",
       "    .dataframe tbody tr th:only-of-type {\n",
       "        vertical-align: middle;\n",
       "    }\n",
       "\n",
       "    .dataframe tbody tr th {\n",
       "        vertical-align: top;\n",
       "    }\n",
       "\n",
       "    .dataframe thead th {\n",
       "        text-align: right;\n",
       "    }\n",
       "</style>\n",
       "<table border=\"1\" class=\"dataframe\">\n",
       "  <thead>\n",
       "    <tr style=\"text-align: right;\">\n",
       "      <th></th>\n",
       "      <th>url</th>\n",
       "      <th>title</th>\n",
       "      <th>text</th>\n",
       "    </tr>\n",
       "  </thead>\n",
       "  <tbody>\n",
       "    <tr>\n",
       "      <th>35</th>\n",
       "      <td>https://www.dw.com/overlay/media/en/covid-19-r...</td>\n",
       "      <td></td>\n",
       "      <td>The coronavirus has nearly paralyzed large are...</td>\n",
       "    </tr>\n",
       "    <tr>\n",
       "      <th>98</th>\n",
       "      <td>https://www.dw.com/overlay/media/en/usa-stagge...</td>\n",
       "      <td></td>\n",
       "      <td>The US government is warning its citizens to e...</td>\n",
       "    </tr>\n",
       "    <tr>\n",
       "      <th>574</th>\n",
       "      <td>https://www.dw.com/overlay/media/en/south-kore...</td>\n",
       "      <td></td>\n",
       "      <td>South Korea remains the country with the highe...</td>\n",
       "    </tr>\n",
       "    <tr>\n",
       "      <th>630</th>\n",
       "      <td>https://www.dw.com/overlay/media/en/myths-vs-f...</td>\n",
       "      <td></td>\n",
       "      <td>Myths vs. facts: How true is coronavirus infor...</td>\n",
       "    </tr>\n",
       "    <tr>\n",
       "      <th>659</th>\n",
       "      <td>https://www.dw.com/overlay/media/en/usa-stagge...</td>\n",
       "      <td></td>\n",
       "      <td>The US government is warning its citizens to e...</td>\n",
       "    </tr>\n",
       "    <tr>\n",
       "      <th>797</th>\n",
       "      <td>https://www.dw.com/overlay/media/en/myths-vs-f...</td>\n",
       "      <td></td>\n",
       "      <td>Do bleach products protect you?\\nBleach/chlori...</td>\n",
       "    </tr>\n",
       "  </tbody>\n",
       "</table>\n",
       "</div>"
      ],
      "text/plain": [
       "                                                   url title  \\\n",
       "35   https://www.dw.com/overlay/media/en/covid-19-r...         \n",
       "98   https://www.dw.com/overlay/media/en/usa-stagge...         \n",
       "574  https://www.dw.com/overlay/media/en/south-kore...         \n",
       "630  https://www.dw.com/overlay/media/en/myths-vs-f...         \n",
       "659  https://www.dw.com/overlay/media/en/usa-stagge...         \n",
       "797  https://www.dw.com/overlay/media/en/myths-vs-f...         \n",
       "\n",
       "                                                  text  \n",
       "35   The coronavirus has nearly paralyzed large are...  \n",
       "98   The US government is warning its citizens to e...  \n",
       "574  South Korea remains the country with the highe...  \n",
       "630  Myths vs. facts: How true is coronavirus infor...  \n",
       "659  The US government is warning its citizens to e...  \n",
       "797  Do bleach products protect you?\\nBleach/chlori...  "
      ]
     },
     "execution_count": 8,
     "metadata": {},
     "output_type": "execute_result"
    }
   ],
   "source": [
    "real_train[real_train.title==\"\"]"
   ]
  },
  {
   "cell_type": "code",
   "execution_count": 9,
   "metadata": {},
   "outputs": [
    {
     "data": {
      "text/html": [
       "<div>\n",
       "<style scoped>\n",
       "    .dataframe tbody tr th:only-of-type {\n",
       "        vertical-align: middle;\n",
       "    }\n",
       "\n",
       "    .dataframe tbody tr th {\n",
       "        vertical-align: top;\n",
       "    }\n",
       "\n",
       "    .dataframe thead th {\n",
       "        text-align: right;\n",
       "    }\n",
       "</style>\n",
       "<table border=\"1\" class=\"dataframe\">\n",
       "  <thead>\n",
       "    <tr style=\"text-align: right;\">\n",
       "      <th></th>\n",
       "      <th>url</th>\n",
       "      <th>title</th>\n",
       "      <th>text</th>\n",
       "    </tr>\n",
       "  </thead>\n",
       "  <tbody>\n",
       "    <tr>\n",
       "      <th>4</th>\n",
       "      <td>https://www.kachaf.com/details.php?n=5e8957fe1...</td>\n",
       "      <td></td>\n",
       "      <td>Fatal error: Uncaught MongoDB\\Driver\\Exception...</td>\n",
       "    </tr>\n",
       "    <tr>\n",
       "      <th>232</th>\n",
       "      <td>https://yandex.ru/news/story/V_SSHA_arestovan_...</td>\n",
       "      <td></td>\n",
       "      <td>Could not display plot\\nYou can search for sim...</td>\n",
       "    </tr>\n",
       "    <tr>\n",
       "      <th>249</th>\n",
       "      <td>http://www.khabarmasr.com/home</td>\n",
       "      <td></td>\n",
       "      <td>- Abdel-Al congratulates President Sisi on the...</td>\n",
       "    </tr>\n",
       "    <tr>\n",
       "      <th>479</th>\n",
       "      <td>https://www.kachaf.com/details.php?n=5e8f65461...</td>\n",
       "      <td></td>\n",
       "      <td>Fatal error: Uncaught MongoDB\\Driver\\Exception...</td>\n",
       "    </tr>\n",
       "    <tr>\n",
       "      <th>558</th>\n",
       "      <td>http://www.khabaralyoum.com/news/get_news/3744...</td>\n",
       "      <td></td>\n",
       "      <td>Severity: Notice\\nMessage: Undefined offset: 0...</td>\n",
       "    </tr>\n",
       "    <tr>\n",
       "      <th>613</th>\n",
       "      <td>https://www.kachaf.com/details.php?n=5e772949e...</td>\n",
       "      <td></td>\n",
       "      <td>Fatal error: Uncaught MongoDB\\Driver\\Exception...</td>\n",
       "    </tr>\n",
       "    <tr>\n",
       "      <th>644</th>\n",
       "      <td>https://www.kachaf.com/details.php?n=5e87960dc...</td>\n",
       "      <td></td>\n",
       "      <td>Fatal error: Uncaught MongoDB\\Driver\\Exception...</td>\n",
       "    </tr>\n",
       "    <tr>\n",
       "      <th>650</th>\n",
       "      <td>http://www.khabaralyoum.com/news/get_news/7050...</td>\n",
       "      <td></td>\n",
       "      <td>Severity: Notice\\nMessage: Undefined offset: 0...</td>\n",
       "    </tr>\n",
       "  </tbody>\n",
       "</table>\n",
       "</div>"
      ],
      "text/plain": [
       "                                                   url title  \\\n",
       "4    https://www.kachaf.com/details.php?n=5e8957fe1...         \n",
       "232  https://yandex.ru/news/story/V_SSHA_arestovan_...         \n",
       "249                     http://www.khabarmasr.com/home         \n",
       "479  https://www.kachaf.com/details.php?n=5e8f65461...         \n",
       "558  http://www.khabaralyoum.com/news/get_news/3744...         \n",
       "613  https://www.kachaf.com/details.php?n=5e772949e...         \n",
       "644  https://www.kachaf.com/details.php?n=5e87960dc...         \n",
       "650  http://www.khabaralyoum.com/news/get_news/7050...         \n",
       "\n",
       "                                                  text  \n",
       "4    Fatal error: Uncaught MongoDB\\Driver\\Exception...  \n",
       "232  Could not display plot\\nYou can search for sim...  \n",
       "249  - Abdel-Al congratulates President Sisi on the...  \n",
       "479  Fatal error: Uncaught MongoDB\\Driver\\Exception...  \n",
       "558  Severity: Notice\\nMessage: Undefined offset: 0...  \n",
       "613  Fatal error: Uncaught MongoDB\\Driver\\Exception...  \n",
       "644  Fatal error: Uncaught MongoDB\\Driver\\Exception...  \n",
       "650  Severity: Notice\\nMessage: Undefined offset: 0...  "
      ]
     },
     "execution_count": 9,
     "metadata": {},
     "output_type": "execute_result"
    }
   ],
   "source": [
    "fake_train[fake_train.title==\"\"]"
   ]
  },
  {
   "cell_type": "markdown",
   "metadata": {},
   "source": [
    "So, there are some missing titles on both sets. However, apparently some of the rows missing a title in `fake_training` also have an error message instead of actual news text. But, the real news do have news text and are only missing the title."
   ]
  },
  {
   "cell_type": "code",
   "execution_count": 12,
   "metadata": {},
   "outputs": [
    {
     "name": "stdout",
     "output_type": "stream",
     "text": [
      "Fatal error: Uncaught MongoDB\\Driver\\Exception\\ConnectionTimeoutException: No suitable servers found (`serverSelectionTryOnce` set): [connection refused calling ismaster on '127.0.0.1:27017'] in /var/www/html/kachaf/php/vendor/mongodb/mongodb/src/Collection.php:645\n",
      "Stack trace:\n",
      "#0 /var/www/html/kachaf/php/vendor/mongodb/mongodb/src/Collection.php(645): MongoDB\\Driver\\Manager->selectServer(Object(MongoDB\\Driver\\ReadPreference))\n",
      "#1 /var/www/html/kachaf/php/scripts/getter.php(105): MongoDB\\Collection->findOne(Array)\n",
      "#2 /var/www/html/kachaf/public/details.php(10): getter->findbyid('5e772949ea1e231...', 'news')\n",
      "#3 {main}\n",
      "thrown in/var/www/html/kachaf/php/vendor/mongodb/mongodb/src/Collection.phpon line645\n"
     ]
    }
   ],
   "source": [
    "print(fake_train.iloc[613].text)"
   ]
  },
  {
   "cell_type": "code",
   "execution_count": 13,
   "metadata": {},
   "outputs": [
    {
     "name": "stdout",
     "output_type": "stream",
     "text": [
      "Myths vs. facts: How true is coronavirus information on the web?\n",
      "Does rinsing your nose with saline protect you?\n",
      "According to the World Health Organization, there is no evidence to support claims that a saline solution will \"kill” the virus and protect you.\n",
      "Will gargling mouthwash prevent an infection?\n",
      "Certain brands of mouthwash may eliminate particular microbes from your saliva for a few minutes, but, according to the WHO, this does not protect you from the new coronavirus.\n",
      "Can eating garlic help?\n",
      "This dubious claim has been spreading like wildfire across social media. Though it is possible that garlic may have some antimicrobial properties, there is no evidence to suggest from the current coronavirus outbreak that eating this bulb will protect people from the virus.\n",
      "Can pets spread COVID-19?\n",
      "There is no evidence to suggest pets, such as cats and dogs, can be infected or transmit the coronavirus. Regularly washing your hands with soap and water after touching your beloved moggy or pooch will help stop the spread of bacteria that they commonly carry, such as E. coli and salmonella.\n",
      "Can the corona virus be transmitted via air mail?\n",
      "People receiving parcels from China are not at risk of contracting the new coronavirus, as the virus does not survive long on objects. Due to the poor survivability of the coronavirus on surfaces, there is a very low risk of spread from products or packaging that are shipped over a period of days or weeks.\n",
      "Is there a vaccine yet?\n",
      "The new coronavirus needs its own vaccine. Pneumonia vaccines such as the pneumococcal and the Haemophilus influenzae type B (Hib) vaccine will not protect you against the coronavirus.\n",
      "Do bleach products protect you?\n",
      "Bleach/chlorine-based disinfectants, solvents, 75% ethanol, peracetic acid and chloroform can kill the 2019-nCoV on hard surfaces; however, they have little or no impact if you put them on your skin.\n",
      "Avoid direct contact!\n",
      "To avoid a coronavirus infection, always cook raw foods thoroughly. It is also advisable to avoid direct contact with people who are sick.\n",
      "Keep your hands clean!\n",
      "Frequently washing your hands with soap and water can help prevent an infection. You can also use an alcohol-based sanitizing gel instead. If you have to cough or sneeze, cover your mouth and nose with a tissue or your elbow. If you have contracted the disease without knowing it, coughing or sneezing in this manner might help to reduce the spread.\n",
      "Rinse your nose with saline? Reject all packages delivered from China? The internet is full of misinformation about how to protect yourself from the new coronavirus. DW separates fact from fiction.\n"
     ]
    }
   ],
   "source": [
    "print(real_train.iloc[630].text)"
   ]
  },
  {
   "cell_type": "markdown",
   "metadata": {},
   "source": [
    "Now, let's see how many different domains there are for each class."
   ]
  },
  {
   "cell_type": "code",
   "execution_count": 19,
   "metadata": {},
   "outputs": [
    {
     "name": "stdout",
     "output_type": "stream",
     "text": [
      "Different fake news sites: 404\n",
      "Different real news sites: 16\n"
     ]
    }
   ],
   "source": [
    "fake_domains_list = [urlparse(url).netloc for url in fake_train[\"url\"]]\n",
    "real_domains_list = [urlparse(url).netloc for url in real_train[\"url\"]]\n",
    "\n",
    "print(f\"Different fake news sites: {len(set(fake_domains_list))}\\nDifferent real news sites: {len(set(real_domains_list))}\")"
   ]
  },
  {
   "cell_type": "markdown",
   "metadata": {},
   "source": [
    "So on one hand, the 800 fake news come from 404 sites, whereas the 800 real news come from only 16 different sites."
   ]
  },
  {
   "cell_type": "markdown",
   "metadata": {},
   "source": [
    "Let's see if there's an intersection"
   ]
  },
  {
   "cell_type": "code",
   "execution_count": 20,
   "metadata": {},
   "outputs": [
    {
     "name": "stdout",
     "output_type": "stream",
     "text": [
      "set()\n"
     ]
    }
   ],
   "source": [
    "print( set(fake_domains_list) & set(real_domains_list) )"
   ]
  },
  {
   "cell_type": "markdown",
   "metadata": {},
   "source": [
    "There is no intersection in this data set. All 800 real news come from only 16 sites and all 800 fake news come from 404 sites, without any overlap between the two sets of sites. "
   ]
  },
  {
   "cell_type": "markdown",
   "metadata": {},
   "source": [
    "Let's see the most common sites where the fake news are coming from and all the 16 sites where the real news are from."
   ]
  },
  {
   "cell_type": "code",
   "execution_count": 21,
   "metadata": {},
   "outputs": [
    {
     "data": {
      "text/plain": [
       "[('www.albidda.net', 30),\n",
       " ('www.youtube.com', 26),\n",
       " ('arabic.rt.com', 19),\n",
       " ('www.saadaonline.net', 18),\n",
       " ('southfront.org', 13),\n",
       " ('www.geopolitica.ru', 12),\n",
       " ('sputnik.by', 12),\n",
       " ('www.rt.com', 11),\n",
       " ('lomazoma.com', 10),\n",
       " ('es.news-front.info', 10)]"
      ]
     },
     "execution_count": 21,
     "metadata": {},
     "output_type": "execute_result"
    }
   ],
   "source": [
    "Counter(fake_domains_list).most_common(10)"
   ]
  },
  {
   "cell_type": "code",
   "execution_count": 22,
   "metadata": {},
   "outputs": [
    {
     "data": {
      "text/plain": [
       "[('www.axios.com', 63),\n",
       " ('www.thetimes.co.uk', 60),\n",
       " ('www.bbc.com', 60),\n",
       " ('news.err.ee', 59),\n",
       " ('www.themoscowtimes.com', 59),\n",
       " ('www.theguardian.com', 57),\n",
       " ('yle.fi', 57),\n",
       " ('apnews.com', 56),\n",
       " ('www.dw.com', 55),\n",
       " ('www.economist.com', 54),\n",
       " ('www.wsj.com', 54),\n",
       " ('www.theatlantic.com', 51),\n",
       " ('www.euronews.com', 49),\n",
       " ('www.nytimes.com', 33),\n",
       " ('www.reuters.com', 19),\n",
       " ('time.com', 14)]"
      ]
     },
     "execution_count": 22,
     "metadata": {},
     "output_type": "execute_result"
    }
   ],
   "source": [
    "Counter(real_domains_list).most_common(16)"
   ]
  },
  {
   "cell_type": "markdown",
   "metadata": {},
   "source": [
    "## Conclusions"
   ]
  },
  {
   "cell_type": "markdown",
   "metadata": {},
   "source": [
    "Although the corpus is balanced among the two classes: real and disinformation news, it is not at all balanced regarding the sources of the news.\n",
    "\n",
    "The problem of fake news detection (whether they are with the purpose of entertainment--as The Onion outlet--or to misinform or disinform) is a hard problem due to the nature of the classfication task. The veracity of a text depends on facts that are external to the text. There have been attempts to incorporate external evidence (Popat et. al., 2018) and also to check if there are stylistic features inherent to fake news (Rashkin et. al., 2017) to address this problem, but in general it is still an open problem. \n",
    "\n",
    "My first intuition in order to check whether a piece of news text is real or \"fake\" is to check the source of the text. We can attempt to build a sort of black list of websites known to be sources of disinformation. However, the number of credible sites is too small and the task would be trivial and would not scale well. Another idea would be to train a classifier with character *n*-grams out of the URLs of the news segment to try to classify a news outleat as credible or not (only in case there is a pattern to be found by Machine Learning).\n",
    "\n",
    "Another approach and as a proof of concept we can fine tune a language model such as BERT in a text classification task. That is presented in [this notebook.](./Classification.ipynb)"
   ]
  },
  {
   "cell_type": "markdown",
   "metadata": {},
   "source": [
    "## References\n",
    "\n",
    "1. [Popat, K., Mukherjee, S., Yates, A., Weikum, G. (2018). DeClarE: Debunking Fake News and False Claims using Evidence-Aware Deep Learning. In *Proceedings of the 2018 Conference on Empirical Methods in Natural Language Processing*](https://www.aclweb.org/anthology/D18-1003/)\n",
    "\n",
    "1. [Rashkin, H., Choi E., Jang, J., Volkova, S., Choi, Y. (2017). Truth of Varying Shades: Analyzing Language in Fake News and Political Fact-Checking. In *Proceedings of the 2017 Conference on Empirical Methods in Natural Language Processing*](https://www.aclweb.org/anthology/D17-1317/)"
   ]
  }
 ],
 "metadata": {
  "kernelspec": {
   "display_name": "Python 3",
   "language": "python",
   "name": "python3"
  },
  "language_info": {
   "codemirror_mode": {
    "name": "ipython",
    "version": 3
   },
   "file_extension": ".py",
   "mimetype": "text/x-python",
   "name": "python",
   "nbconvert_exporter": "python",
   "pygments_lexer": "ipython3",
   "version": "3.7.7"
  }
 },
 "nbformat": 4,
 "nbformat_minor": 4
}
