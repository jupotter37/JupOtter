{
 "cells": [
  {
   "cell_type": "markdown",
   "metadata": {},
   "source": [
    "## An Enriching Meal\n",
    "## Machine Learning\n",
    "\n",
    "##### Blended Model\n",
    "- XGBoost (35%)\n",
    "- LightGBM (30%)\n",
    "- Neural Network (30%)\n",
    "- Random Forest (5%)\n",
    "\n",
    "#### Public Leaderboard Test set AUC: 0.83972\n",
    "#### Private Leaderboard Test set AUC: 0.83914"
   ]
  },
  {
   "cell_type": "code",
   "execution_count": 132,
   "metadata": {
    "collapsed": true
   },
   "outputs": [],
   "source": [
    "# import necessary packages\n",
    "import numpy as np\n",
    "import pandas as pd\n",
    "import matplotlib.pyplot as plt\n",
    "%matplotlib inline\n",
    "import seaborn as sns\n",
    "from sklearn.model_selection import train_test_split\n",
    "from sklearn.metrics import roc_auc_score\n",
    "from sklearn.metrics import accuracy_score"
   ]
  },
  {
   "cell_type": "code",
   "execution_count": 133,
   "metadata": {
    "collapsed": true
   },
   "outputs": [],
   "source": [
    "# import training set and create column identifying as train\n",
    "training = pd.read_excel('TrainingSet.xlsx')\n",
    "training['train_test_split']= 'Train'"
   ]
  },
  {
   "cell_type": "code",
   "execution_count": 134,
   "metadata": {
    "collapsed": true
   },
   "outputs": [],
   "source": [
    "# import test set and create column identifying as test\n",
    "test = pd.read_excel('TestSet.xlsx')\n",
    "test['train_test_split']='Test'"
   ]
  },
  {
   "cell_type": "markdown",
   "metadata": {},
   "source": [
    "# Concatenate Training and Test set for feature engineering"
   ]
  },
  {
   "cell_type": "code",
   "execution_count": 135,
   "metadata": {
    "collapsed": true
   },
   "outputs": [],
   "source": [
    "train_test = pd.concat([training,test],axis=0)"
   ]
  },
  {
   "cell_type": "markdown",
   "metadata": {},
   "source": [
    "# Feature Engineering\n",
    "\n",
    "This is where we develop new features based off of the data in the current dataset\n",
    "\n",
    "\n",
    "\n",
    "\n",
    "###### Compute average competency performance for each year."
   ]
  },
  {
   "cell_type": "code",
   "execution_count": 136,
   "metadata": {
    "collapsed": true
   },
   "outputs": [],
   "source": [
    "# Building an average competency performance for the year 2009\n",
    "train_test['comp_perf2009'] = train_test[['X_PMB_Engagement_2009','X_PMB_Teamwork_2009','X_PMB_Accountability_2009',\n",
    "                                          'X_PMB_Action_2009','X_PMB_Values_2009']].mean(axis=1)\n",
    "\n",
    "# Building an average competency performance for the year 2008\n",
    "train_test['comp_perf2008'] = train_test[['X_PMB_ModelValues_2008','X_PMB_CreateExternalFocus_2008','X_PMB_AnticipateChange_2008',\n",
    "                                           'X_PMB_ImplementQuality_2008','X_PMB_EvaluateAct_2008',\n",
    "                                           'X_PMB_AchieveResultsPeople_2008','X_PMB_ShareKeyLearning_2008']].mean(axis=1)\n",
    "\n",
    "# Building an average competency performance for the year 2007                               \n",
    "train_test['comp_perf2007'] = train_test[['X_PMB_ModelValues_2007','X_PMB_CreateExternalFocus_2007',\n",
    "                                           'X_PMB_AnticipateChange_2007',\n",
    "                                           'X_PMB_ImplementQuality_2007','X_PMB_EvaluateAct_2007',\n",
    "                                           'X_PMB_AchieveResultsPeople_2007','X_PMB_ShareKeyLearning_2007']].mean(axis=1)\n",
    "\n",
    "# Building an average competency performance for the year 2006                               \n",
    "train_test['comp_perf2006'] = train_test[['X_PMB_ModelValues_2006','X_PMB_CreateExternalFocus_2006','X_PMB_AnticipateChange_2006',\n",
    "                                           'X_PMB_ImplementQuality_2006','X_PMB_EvaluateAct_2006',\n",
    "                                           'X_PMB_AchieveResultsPeople_2006','X_PMB_ShareKeyLearning_2006']].mean(axis=1)\n",
    "\n",
    "# Building an average competency performance for the year 2005                               \n",
    "train_test['comp_perf2005'] = train_test[['X_PMB_ModelValues_2005','X_PMB_CreateExternalFocus_2005','X_PMB_AnticipateChange_2005',\n",
    "                                           'X_PMB_ImplementQuality_2005','X_PMB_EvaluateAct_2005',\n",
    "                                           'X_PMB_AchieveResultsPeople_2005','X_PMB_ShareKeyLearning_2005']].mean(axis=1)"
   ]
  },
  {
   "cell_type": "markdown",
   "metadata": {},
   "source": [
    "###### Compute the standard deviation for competency for each year."
   ]
  },
  {
   "cell_type": "code",
   "execution_count": 137,
   "metadata": {
    "collapsed": true
   },
   "outputs": [],
   "source": [
    "# Building a standard deviation competency performance for the year 2009\n",
    "train_test['std_comp_perf2009'] = train_test[['X_PMB_Engagement_2009','X_PMB_Teamwork_2009','X_PMB_Accountability_2009',\n",
    "                                          'X_PMB_Action_2009','X_PMB_Values_2009']].std(axis=1)\n",
    "\n",
    "# Building a standard deviation competency performance for the year 2008\n",
    "train_test['std_comp_perf2008'] = train_test[['X_PMB_ModelValues_2008','X_PMB_CreateExternalFocus_2008','X_PMB_AnticipateChange_2008',\n",
    "                                           'X_PMB_ImplementQuality_2008','X_PMB_EvaluateAct_2008',\n",
    "                                           'X_PMB_AchieveResultsPeople_2008','X_PMB_ShareKeyLearning_2008']].std(axis=1)\n",
    "\n",
    "# Building a standard deviation competency performance for the year 2007                            \n",
    "train_test['std_comp_perf2007'] = train_test[['X_PMB_ModelValues_2007','X_PMB_CreateExternalFocus_2007',\n",
    "                                           'X_PMB_AnticipateChange_2007',\n",
    "                                           'X_PMB_ImplementQuality_2007','X_PMB_EvaluateAct_2007',\n",
    "                                           'X_PMB_AchieveResultsPeople_2007','X_PMB_ShareKeyLearning_2007']].std(axis=1)\n",
    "\n",
    "# Building a standard deviation competency performance for the year 2006                             \n",
    "train_test['std_comp_perf2006'] = train_test[['X_PMB_ModelValues_2006','X_PMB_CreateExternalFocus_2006','X_PMB_AnticipateChange_2006',\n",
    "                                           'X_PMB_ImplementQuality_2006','X_PMB_EvaluateAct_2006',\n",
    "                                           'X_PMB_AchieveResultsPeople_2006','X_PMB_ShareKeyLearning_2006']].std(axis=1)\n",
    "\n",
    "# Building a standard deviation competency performance for the year 2005                              \n",
    "train_test['std_comp_perf2005'] = train_test[['X_PMB_ModelValues_2005','X_PMB_CreateExternalFocus_2005','X_PMB_AnticipateChange_2005',\n",
    "                                           'X_PMB_ImplementQuality_2005','X_PMB_EvaluateAct_2005',\n",
    "                                           'X_PMB_AchieveResultsPeople_2005','X_PMB_ShareKeyLearning_2005']].std(axis=1)"
   ]
  },
  {
   "cell_type": "markdown",
   "metadata": {},
   "source": [
    "Compute the average overall performance, standard deviation of overall performance, overall competency average, and overall competency standard deviation."
   ]
  },
  {
   "cell_type": "code",
   "execution_count": 138,
   "metadata": {
    "collapsed": true
   },
   "outputs": [],
   "source": [
    "# Overall performance and competency based performance average and standard deviation \n",
    "\n",
    "train_test['Overall_Avg_Perf']= train_test[['X_OverallPerformanceRating2009','X_OverallPerformanceRating2008',\n",
    "                                           'X_OverallPerformanceRating2007','X_OverallPerformanceRating2006',\n",
    "                                           'X_OverallPerformanceRating2005','X_OverallPerformanceRating2004']].mean(axis=1)\n",
    "\n",
    "train_test['Overall_STD_Perf']= train_test[['X_OverallPerformanceRating2009','X_OverallPerformanceRating2008',\n",
    "                                           'X_OverallPerformanceRating2007','X_OverallPerformanceRating2006',\n",
    "                                           'X_OverallPerformanceRating2005','X_OverallPerformanceRating2004']].std(axis=1)\n",
    "\n",
    "train_test['Comp_Avg_Perf'] = train_test[['comp_perf2009','comp_perf2008','comp_perf2007','comp_perf2006',\n",
    "                                         'comp_perf2005']].mean(axis=1)\n",
    "\n",
    "train_test['Comp_STD_Perf'] = train_test[['comp_perf2009','comp_perf2008','comp_perf2007','comp_perf2006',\n",
    "                                         'comp_perf2005']].std(axis=1)"
   ]
  },
  {
   "cell_type": "markdown",
   "metadata": {},
   "source": [
    "Compute change over years for both competency and overall performance."
   ]
  },
  {
   "cell_type": "code",
   "execution_count": 139,
   "metadata": {
    "collapsed": true
   },
   "outputs": [],
   "source": [
    "# Calculate performance change\n",
    "\n",
    "train_test['Comp_PM_Change2006'] = train_test['comp_perf2006']-train_test['comp_perf2005']\n",
    "train_test['Comp_PM_Change2007'] = train_test['comp_perf2007']-train_test['comp_perf2006']\n",
    "train_test['Comp_PM_Change2008'] = train_test['comp_perf2008']-train_test['comp_perf2007']\n",
    "train_test['Comp_PM_Change2009'] = train_test['comp_perf2009']-train_test['comp_perf2008']\n",
    "\n",
    "train_test['Overall_Change2005'] = train_test['X_OverallPerformanceRating2005']-train_test['X_OverallPerformanceRating2004']\n",
    "train_test['Overall_Change2006'] = train_test['X_OverallPerformanceRating2006']-train_test['X_OverallPerformanceRating2005']\n",
    "train_test['Overall_Change2007'] = train_test['X_OverallPerformanceRating2007']-train_test['X_OverallPerformanceRating2006']\n",
    "train_test['Overall_Change2008'] = train_test['X_OverallPerformanceRating2008']-train_test['X_OverallPerformanceRating2007']\n",
    "train_test['Overall_Change2009'] = train_test['X_OverallPerformanceRating2009']-train_test['X_OverallPerformanceRating2008']"
   ]
  },
  {
   "cell_type": "markdown",
   "metadata": {},
   "source": [
    "Identify the number of unique values for each global ID: \n",
    "- Supervisors\n",
    "- Countries\n",
    "- Cities\n",
    "- job types\n",
    "- sub functions\n",
    "- functions\n",
    "- paygrades"
   ]
  },
  {
   "cell_type": "code",
   "execution_count": 140,
   "metadata": {
    "collapsed": true
   },
   "outputs": [],
   "source": [
    "# creating a column that counts the number of unique supervisors an individual had\n",
    "\n",
    "col_list = train_test[['S_SupervisorGlobal_ID2009', 'S_SupervisorGlobal_ID2008', 'S_SupervisorGlobal_ID2007', 'S_SupervisorGlobal_ID2006',\n",
    "           'S_SupervisorGlobal_ID2005','S_SupervisorGlobal_ID2004']]\n",
    "\n",
    "uniques=col_list.nunique(axis=1)\n",
    "\n",
    "train_test['unique_supervisors']= uniques\n",
    "\n",
    "\n",
    "# creating a column that counts the number of unique countries an individual has worked in\n",
    "\n",
    "country_list = train_test[['X_Country2009', 'X_Country2008', 'X_Country2007', 'X_Country2006',\n",
    "           'X_Country2005','X_Country2004']]\n",
    "\n",
    "countries_unique=country_list.nunique(axis=1)\n",
    "\n",
    "train_test['unique_countries']= countries_unique\n",
    "\n",
    "# creating a column that counts the number of unique cities an individual has worked in\n",
    "\n",
    "city_list = train_test[['X_City2009', 'X_City2008', 'X_City2007', 'X_City2006',\n",
    "           'X_City2005','X_City2004']]\n",
    "\n",
    "city_unique=city_list.nunique(axis=1)\n",
    "\n",
    "train_test['unique_cities']= city_unique\n",
    "\n",
    "# creating a column that counts the number of unique jobtypes an individual has had\n",
    "\n",
    "job_list = train_test[['X_JobType2009', 'X_JobType2008', 'X_JobType2007', 'X_JobType2006',\n",
    "           'X_JobType2005','X_JobType2004']]\n",
    "\n",
    "job_unique=job_list.nunique(axis=1)\n",
    "\n",
    "train_test['unique_jobs']= job_unique\n",
    "\n",
    "# creating a column that counts the number of unique subfunctions an individual has had\n",
    "\n",
    "subfunction_list = train_test[['X_JobSubFunction2009', 'X_JobSubFunction2008', 'X_JobSubFunction2007', 'X_JobSubFunction2006',\n",
    "           'X_JobSubFunction2005','X_JobSubFunction2004']]\n",
    "\n",
    "subfunction_unique=subfunction_list.nunique(axis=1)\n",
    "\n",
    "train_test['unique_subfunctions']= subfunction_unique\n",
    "\n",
    "train_test['unique_subfunctions'].unique()\n",
    "\n",
    "# creating a column that counts the number of unique functions an individual has had\n",
    "\n",
    "function_list = train_test[['X_JobFunction2009', 'X_JobFunction2008', 'X_JobFunction2007', 'X_JobFunction2006',\n",
    "           'X_JobFunction2005','X_JobFunction2004']]\n",
    "\n",
    "function_unique= function_list.nunique(axis=1)\n",
    "\n",
    "train_test['unique_functions']= function_unique\n",
    "\n",
    "\n",
    "# creating a column that counts the number of unique paygrades an individual has had\n",
    "\n",
    "paygrade_list = train_test[['X_PayGradeLevel2009','X_PayGradeLevel2008','X_PayGradeLevel2007','X_PayGradeLevel2006',\n",
    "                           'X_PayGradeLevel2005','X_PayGradeLevel2004']]\n",
    "\n",
    "paygrade_unique = paygrade_list.nunique(axis=1)\n",
    "\n",
    "train_test['paygrade_changes'] = paygrade_unique"
   ]
  },
  {
   "cell_type": "code",
   "execution_count": 142,
   "metadata": {
    "collapsed": true
   },
   "outputs": [],
   "source": [
    "# calculate gender differences amongst supervisor and employee\n",
    "\n",
    "sup_gender_2009 = train_test[['S_Gender2009','X_Gender']]\n",
    "\n",
    "sup_gender_dif_2009 = sup_gender_2009.nunique(axis=1)\n",
    "\n",
    "sup_gender_2008 = train_test[['S_Gender2008','X_Gender']]\n",
    "\n",
    "sup_gender_dif_2008 = sup_gender_2008.nunique(axis=1)\n",
    "\n",
    "sup_gender_2007 = train_test[['S_Gender2007','X_Gender']]\n",
    "\n",
    "sup_gender_dif_2007 = sup_gender_2007.nunique(axis=1)"
   ]
  },
  {
   "cell_type": "code",
   "execution_count": 143,
   "metadata": {
    "collapsed": true
   },
   "outputs": [],
   "source": [
    "# map gender differences as categorical\n",
    "\n",
    "train_test['sup_emp_gender_dif_2009'] = sup_gender_dif_2009.apply(lambda x: 1 if x==2 else 0)\n",
    "train_test['sup_emp_gender_dif_2008'] = sup_gender_dif_2008.apply(lambda x: 1 if x==2 else 0)"
   ]
  },
  {
   "cell_type": "code",
   "execution_count": 144,
   "metadata": {
    "collapsed": true
   },
   "outputs": [],
   "source": [
    "# Convert hire date to datetime format and then extract year into it's own column\n",
    "train_test['X_ServiceEntryDate'] = pd.to_datetime(train_test['X_ServiceEntryDate'],format='%Y%m%d')\n",
    "train_test['hire_year'] = train_test['X_ServiceEntryDate'].dt.year"
   ]
  },
  {
   "cell_type": "code",
   "execution_count": 145,
   "metadata": {
    "collapsed": true
   },
   "outputs": [],
   "source": [
    "# build a binary feature for those hired before 2005\n",
    "train_test['hire_before_2005'] = train_test['hire_year'].apply(lambda x: 1 if x<2005 else 0)"
   ]
  },
  {
   "cell_type": "markdown",
   "metadata": {
    "collapsed": true
   },
   "source": [
    "calculate interactions between number of unique supervisors and interactions and age and tenure interactions."
   ]
  },
  {
   "cell_type": "code",
   "execution_count": 146,
   "metadata": {
    "collapsed": true
   },
   "outputs": [],
   "source": [
    "# calculate supervisor changes by tenure\n",
    "\n",
    "train_test['sup_ten_inter']= train_test['unique_supervisors']*train_test['X_TenureDays2009']\n",
    "\n",
    "# calculate age by tenure interaction\n",
    "\n",
    "train_test['age_tenure_inter']= train_test['X_TenureDays2009']*train_test['X_Age2009']"
   ]
  },
  {
   "cell_type": "code",
   "execution_count": 147,
   "metadata": {
    "collapsed": true
   },
   "outputs": [],
   "source": [
    "# calculate whether or not the supervisor had a performance rating in 2009 \n",
    "#proxy for whether or not the supervisor is new\n",
    "\n",
    "train_test['new_sup'] = train_test['S_OverallPerformanceRating2009'].isnull()\n",
    "train_test['S_OPR_N_2009'] = train_test['new_sup'].apply(lambda x: 1 if x==True else 0)"
   ]
  },
  {
   "cell_type": "code",
   "execution_count": 148,
   "metadata": {
    "collapsed": true
   },
   "outputs": [],
   "source": [
    "# calculate whether or not the supervisor had a share key learnings rating in 2005\n",
    "train_test['skl_2005'] = train_test['S_PMB_ShareKeyLearning_2005'].isnull()\n",
    "train_test['S_PMB_SHA_N_2005'] = train_test['skl_2005'].apply(lambda x: 1 if x==True else 0)"
   ]
  },
  {
   "cell_type": "code",
   "execution_count": 149,
   "metadata": {
    "collapsed": true
   },
   "outputs": [],
   "source": [
    "# z-score transformation for 2005 performance scores\n",
    "# this method was used instead of standardscalar() to avoid imputing data at this point\n",
    "\n",
    "S_OverallPerformanceRating2005_mean = train_test['S_OverallPerformanceRating2005'].mean()\n",
    "S_OverallPerformanceRating2005_STD = train_test['S_OverallPerformanceRating2005'].std()\n",
    "train_test['S_OverallPerformanceRating2005_Z'] = (train_test['S_OverallPerformanceRating2005']-\n",
    "                                    S_OverallPerformanceRating2005_mean)/S_OverallPerformanceRating2005_STD\n",
    "\n",
    "S_PMB_ModelValues_2005_mean = train_test['S_PMB_ModelValues_2005'].mean()\n",
    "S_PMB_ModelValues_2005_STD = train_test['S_PMB_ModelValues_2005'].std()\n",
    "train_test['S_PMB_ModelValues_2005_Z'] = (train_test['S_PMB_ModelValues_2005']-\n",
    "                                    S_PMB_ModelValues_2005_mean)/S_PMB_ModelValues_2005_STD\n",
    "\n",
    "S_PMB_CreateExternalFocus_2005_mean = train_test['S_PMB_CreateExternalFocus_2005'].mean()\n",
    "S_PMB_CreateExternalFocus_2005_STD = train_test['S_PMB_CreateExternalFocus_2005'].std()\n",
    "train_test['S_PMB_CreateExternalFocus_2005_Z'] = (train_test['S_PMB_CreateExternalFocus_2005']-\n",
    "                                    S_PMB_CreateExternalFocus_2005_mean)/S_PMB_CreateExternalFocus_2005_STD\n",
    "\n",
    "S_PMB_AnticipateChange_2005_mean = train_test['S_PMB_AnticipateChange_2005'].mean()\n",
    "S_PMB_AnticipateChange_2005_STD = train_test['S_PMB_AnticipateChange_2005'].std()\n",
    "train_test['S_PMB_AnticipateChange_2005_Z'] = (train_test['S_PMB_AnticipateChange_2005']-\n",
    "                                    S_PMB_AnticipateChange_2005_mean)/S_PMB_AnticipateChange_2005_STD\n",
    "\n",
    "S_PMB_ImplementQuality_2005_mean = train_test['S_PMB_ImplementQuality_2005'].mean()\n",
    "S_PMB_ImplementQuality_2005_STD = train_test['S_PMB_ImplementQuality_2005'].std()\n",
    "train_test['S_PMB_ImplementQuality_2005_Z'] = (train_test['S_PMB_ImplementQuality_2005']-\n",
    "                                    S_PMB_ImplementQuality_2005_mean)/S_PMB_ImplementQuality_2005_STD\n",
    "\n",
    "S_PMB_EvaluateAct_2005_mean = train_test['S_PMB_EvaluateAct_2005'].mean()\n",
    "S_PMB_EvaluateAct_2005_STD = train_test['S_PMB_EvaluateAct_2005'].std()\n",
    "train_test['S_PMB_EvaluateAct_2005_Z'] = (train_test['S_PMB_EvaluateAct_2005']-\n",
    "                                    S_PMB_EvaluateAct_2005_mean)/S_PMB_EvaluateAct_2005_STD\n",
    "\n",
    "S_PMB_AchieveResultsPeople_2005_mean = train_test['S_PMB_AchieveResultsPeople_2005'].mean()\n",
    "S_PMB_AchieveResultsPeople_2005_STD = train_test['S_PMB_AchieveResultsPeople_2005'].std()\n",
    "train_test['S_PMB_AchieveResultsPeople_2005_Z'] = (train_test['S_PMB_AchieveResultsPeople_2005']-\n",
    "                                    S_PMB_AchieveResultsPeople_2005_mean)/S_PMB_AchieveResultsPeople_2005_STD\n",
    "\n",
    "S_PMB_ShareKeyLearning_2005_mean = train_test['S_PMB_ShareKeyLearning_2005'].mean()\n",
    "S_PMB_ShareKeyLearning_2005_STD = train_test['S_PMB_ShareKeyLearning_2005'].std()\n",
    "train_test['S_PMB_ShareKeyLearning_2005_Z'] = (train_test['S_PMB_ShareKeyLearning_2005']-\n",
    "                                    S_PMB_ShareKeyLearning_2005_mean)/S_PMB_ShareKeyLearning_2005_STD\n",
    "\n",
    "train_test['S_OPR_COMP_2005'] = train_test[['S_OverallPerformanceRating2005_Z','S_PMB_ModelValues_2005_Z',\n",
    "                                           'S_PMB_CreateExternalFocus_2005_Z','S_PMB_AnticipateChange_2005_Z',\n",
    "                                          'S_PMB_EvaluateAct_2005_Z', 'S_PMB_AchieveResultsPeople_2005_Z',\n",
    "                                           'S_PMB_ShareKeyLearning_2005_Z']].mean(axis=1)\n",
    "\n",
    "train_test['S_OPR_COMP_2005'].replace(np.nan,0,inplace=True)"
   ]
  },
  {
   "cell_type": "code",
   "execution_count": 150,
   "metadata": {
    "collapsed": true
   },
   "outputs": [],
   "source": [
    "# z-score transformation for 2006 performance scores\n",
    "# this method was used instead of standardscalar() to avoid imputing data at this point\n",
    "\n",
    "S_OverallPerformanceRating2006_mean = train_test['S_OverallPerformanceRating2006'].mean()\n",
    "S_OverallPerformanceRating2006_STD = train_test['S_OverallPerformanceRating2006'].std()\n",
    "train_test['S_OverallPerformanceRating2006_Z'] = (train_test['S_OverallPerformanceRating2006']-\n",
    "                                    S_OverallPerformanceRating2006_mean)/S_OverallPerformanceRating2006_STD\n",
    "\n",
    "S_PMB_ModelValues_2006_mean = train_test['S_PMB_ModelValues_2006'].mean()\n",
    "S_PMB_ModelValues_2006_STD = train_test['S_PMB_ModelValues_2006'].std()\n",
    "train_test['S_PMB_ModelValues_2006_Z'] = (train_test['S_PMB_ModelValues_2006']-\n",
    "                                    S_PMB_ModelValues_2006_mean)/S_PMB_ModelValues_2006_STD\n",
    "\n",
    "S_PMB_CreateExternalFocus_2006_mean = train_test['S_PMB_CreateExternalFocus_2006'].mean()\n",
    "S_PMB_CreateExternalFocus_2006_STD = train_test['S_PMB_CreateExternalFocus_2006'].std()\n",
    "train_test['S_PMB_CreateExternalFocus_2006_Z'] = (train_test['S_PMB_CreateExternalFocus_2006']-\n",
    "                                    S_PMB_CreateExternalFocus_2006_mean)/S_PMB_CreateExternalFocus_2006_STD\n",
    "\n",
    "S_PMB_AnticipateChange_2006_mean = train_test['S_PMB_AnticipateChange_2006'].mean()\n",
    "S_PMB_AnticipateChange_2006_STD = train_test['S_PMB_AnticipateChange_2006'].std()\n",
    "train_test['S_PMB_AnticipateChange_2006_Z'] = (train_test['S_PMB_AnticipateChange_2006']-\n",
    "                                    S_PMB_AnticipateChange_2006_mean)/S_PMB_AnticipateChange_2006_STD\n",
    "\n",
    "S_PMB_ImplementQuality_2006_mean = train_test['S_PMB_ImplementQuality_2006'].mean()\n",
    "S_PMB_ImplementQuality_2006_STD = train_test['S_PMB_ImplementQuality_2006'].std()\n",
    "train_test['S_PMB_ImplementQuality_2006_Z'] = (train_test['S_PMB_ImplementQuality_2006']-\n",
    "                                    S_PMB_ImplementQuality_2006_mean)/S_PMB_ImplementQuality_2006_STD\n",
    "\n",
    "S_PMB_EvaluateAct_2006_mean = train_test['S_PMB_EvaluateAct_2006'].mean()\n",
    "S_PMB_EvaluateAct_2006_STD = train_test['S_PMB_EvaluateAct_2006'].std()\n",
    "train_test['S_PMB_EvaluateAct_2006_Z'] = (train_test['S_PMB_EvaluateAct_2006']-\n",
    "                                    S_PMB_EvaluateAct_2006_mean)/S_PMB_EvaluateAct_2006_STD\n",
    "\n",
    "S_PMB_AchieveResultsPeople_2006_mean = train_test['S_PMB_AchieveResultsPeople_2006'].mean()\n",
    "S_PMB_AchieveResultsPeople_2006_STD = train_test['S_PMB_AchieveResultsPeople_2006'].std()\n",
    "train_test['S_PMB_AchieveResultsPeople_2006_Z'] = (train_test['S_PMB_AchieveResultsPeople_2006']-\n",
    "                                    S_PMB_AchieveResultsPeople_2006_mean)/S_PMB_AchieveResultsPeople_2006_STD\n",
    "\n",
    "S_PMB_ShareKeyLearning_2006_mean = train_test['S_PMB_ShareKeyLearning_2006'].mean()\n",
    "S_PMB_ShareKeyLearning_2006_STD = train_test['S_PMB_ShareKeyLearning_2006'].std()\n",
    "train_test['S_PMB_ShareKeyLearning_2006_Z'] = (train_test['S_PMB_ShareKeyLearning_2006']-\n",
    "                                    S_PMB_ShareKeyLearning_2006_mean)/S_PMB_ShareKeyLearning_2006_STD\n",
    "\n",
    "train_test['S_OPR_COMP_2006'] = train_test[['S_OverallPerformanceRating2006_Z','S_PMB_ModelValues_2006_Z',\n",
    "                                           'S_PMB_CreateExternalFocus_2006_Z','S_PMB_AnticipateChange_2006_Z',\n",
    "                                          'S_PMB_EvaluateAct_2006_Z', 'S_PMB_AchieveResultsPeople_2006_Z',\n",
    "                                           'S_PMB_ShareKeyLearning_2006_Z']].mean(axis=1)\n",
    "\n",
    "train_test['S_OPR_COMP_2006'].replace(np.nan,0,inplace=True)"
   ]
  },
  {
   "cell_type": "code",
   "execution_count": 151,
   "metadata": {
    "collapsed": true
   },
   "outputs": [],
   "source": [
    "# z-score transformation for 2007 performance scores\n",
    "# this method was used instead of standardscalar() to avoid imputing data at this point\n",
    "\n",
    "S_OverallPerformanceRating2007_mean = train_test['S_OverallPerformanceRating2007'].mean()\n",
    "S_OverallPerformanceRating2007_STD = train_test['S_OverallPerformanceRating2007'].std()\n",
    "train_test['S_OverallPerformanceRating2007_Z'] = (train_test['S_OverallPerformanceRating2007']-\n",
    "                                    S_OverallPerformanceRating2007_mean)/S_OverallPerformanceRating2007_STD\n",
    "\n",
    "S_PMB_ModelValues_2007_mean = train_test['S_PMB_ModelValues_2007'].mean()\n",
    "S_PMB_ModelValues_2007_STD = train_test['S_PMB_ModelValues_2007'].std()\n",
    "train_test['S_PMB_ModelValues_2007_Z'] = (train_test['S_PMB_ModelValues_2007']-\n",
    "                                    S_PMB_ModelValues_2007_mean)/S_PMB_ModelValues_2007_STD\n",
    "\n",
    "S_PMB_CreateExternalFocus_2007_mean = train_test['S_PMB_CreateExternalFocus_2007'].mean()\n",
    "S_PMB_CreateExternalFocus_2007_STD = train_test['S_PMB_CreateExternalFocus_2007'].std()\n",
    "train_test['S_PMB_CreateExternalFocus_2007_Z'] = (train_test['S_PMB_CreateExternalFocus_2007']-\n",
    "                                    S_PMB_CreateExternalFocus_2007_mean)/S_PMB_CreateExternalFocus_2007_STD\n",
    "\n",
    "S_PMB_AnticipateChange_2007_mean = train_test['S_PMB_AnticipateChange_2007'].mean()\n",
    "S_PMB_AnticipateChange_2007_STD = train_test['S_PMB_AnticipateChange_2007'].std()\n",
    "train_test['S_PMB_AnticipateChange_2007_Z'] = (train_test['S_PMB_AnticipateChange_2007']-\n",
    "                                    S_PMB_AnticipateChange_2007_mean)/S_PMB_AnticipateChange_2007_STD\n",
    "\n",
    "S_PMB_ImplementQuality_2007_mean = train_test['S_PMB_ImplementQuality_2007'].mean()\n",
    "S_PMB_ImplementQuality_2007_STD = train_test['S_PMB_ImplementQuality_2007'].std()\n",
    "train_test['S_PMB_ImplementQuality_2007_Z'] = (train_test['S_PMB_ImplementQuality_2007']-\n",
    "                                    S_PMB_ImplementQuality_2007_mean)/S_PMB_ImplementQuality_2007_STD\n",
    "\n",
    "S_PMB_EvaluateAct_2007_mean = train_test['S_PMB_EvaluateAct_2007'].mean()\n",
    "S_PMB_EvaluateAct_2007_STD = train_test['S_PMB_EvaluateAct_2007'].std()\n",
    "train_test['S_PMB_EvaluateAct_2007_Z'] = (train_test['S_PMB_EvaluateAct_2007']-\n",
    "                                    S_PMB_EvaluateAct_2007_mean)/S_PMB_EvaluateAct_2007_STD\n",
    "\n",
    "S_PMB_AchieveResultsPeople_2007_mean = train_test['S_PMB_AchieveResultsPeople_2007'].mean()\n",
    "S_PMB_AchieveResultsPeople_2007_STD = train_test['S_PMB_AchieveResultsPeople_2007'].std()\n",
    "train_test['S_PMB_AchieveResultsPeople_2007_Z'] = (train_test['S_PMB_AchieveResultsPeople_2007']-\n",
    "                                    S_PMB_AchieveResultsPeople_2007_mean)/S_PMB_AchieveResultsPeople_2007_STD\n",
    "\n",
    "S_PMB_ShareKeyLearning_2007_mean = train_test['S_PMB_ShareKeyLearning_2007'].mean()\n",
    "S_PMB_ShareKeyLearning_2007_STD = train_test['S_PMB_ShareKeyLearning_2007'].std()\n",
    "train_test['S_PMB_ShareKeyLearning_2007_Z'] = (train_test['S_PMB_ShareKeyLearning_2007']-\n",
    "                                    S_PMB_ShareKeyLearning_2007_mean)/S_PMB_ShareKeyLearning_2007_STD\n",
    "\n",
    "train_test['S_OPR_COMP_2007'] = train_test[['S_OverallPerformanceRating2007_Z','S_PMB_ModelValues_2007_Z',\n",
    "                                           'S_PMB_CreateExternalFocus_2007_Z','S_PMB_AnticipateChange_2007_Z',\n",
    "                                          'S_PMB_EvaluateAct_2007_Z', 'S_PMB_AchieveResultsPeople_2007_Z',\n",
    "                                           'S_PMB_ShareKeyLearning_2007_Z']].mean(axis=1)\n",
    "\n",
    "train_test['S_OPR_COMP_2007'].replace(np.nan,0,inplace=True)"
   ]
  },
  {
   "cell_type": "code",
   "execution_count": 152,
   "metadata": {
    "collapsed": true
   },
   "outputs": [],
   "source": [
    "# z-score transformation for 2008 performance scores\n",
    "# this method was used instead of standardscalar() to avoid imputing data at this point\n",
    "\n",
    "S_OverallPerformanceRating2008_mean = train_test['S_OverallPerformanceRating2008'].mean()\n",
    "S_OverallPerformanceRating2008_STD = train_test['S_OverallPerformanceRating2008'].std()\n",
    "train_test['S_OverallPerformanceRating2008_Z'] = (train_test['S_OverallPerformanceRating2008']-\n",
    "                                    S_OverallPerformanceRating2008_mean)/S_OverallPerformanceRating2008_STD\n",
    "\n",
    "S_PMB_ModelValues_2008_mean = train_test['S_PMB_ModelValues_2008'].mean()\n",
    "S_PMB_ModelValues_2008_STD = train_test['S_PMB_ModelValues_2008'].std()\n",
    "train_test['S_PMB_ModelValues_2008_Z'] = (train_test['S_PMB_ModelValues_2008']-\n",
    "                                    S_PMB_ModelValues_2008_mean)/S_PMB_ModelValues_2008_STD\n",
    "\n",
    "S_PMB_CreateExternalFocus_2008_mean = train_test['S_PMB_CreateExternalFocus_2008'].mean()\n",
    "S_PMB_CreateExternalFocus_2008_STD = train_test['S_PMB_CreateExternalFocus_2008'].std()\n",
    "train_test['S_PMB_CreateExternalFocus_2008_Z'] = (train_test['S_PMB_CreateExternalFocus_2008']-\n",
    "                                    S_PMB_CreateExternalFocus_2008_mean)/S_PMB_CreateExternalFocus_2008_STD\n",
    "\n",
    "S_PMB_AnticipateChange_2008_mean = train_test['S_PMB_AnticipateChange_2008'].mean()\n",
    "S_PMB_AnticipateChange_2008_STD = train_test['S_PMB_AnticipateChange_2008'].std()\n",
    "train_test['S_PMB_AnticipateChange_2008_Z'] = (train_test['S_PMB_AnticipateChange_2008']-\n",
    "                                    S_PMB_AnticipateChange_2008_mean)/S_PMB_AnticipateChange_2008_STD\n",
    "\n",
    "S_PMB_ImplementQuality_2008_mean = train_test['S_PMB_ImplementQuality_2008'].mean()\n",
    "S_PMB_ImplementQuality_2008_STD = train_test['S_PMB_ImplementQuality_2008'].std()\n",
    "train_test['S_PMB_ImplementQuality_2008_Z'] = (train_test['S_PMB_ImplementQuality_2008']-\n",
    "                                    S_PMB_ImplementQuality_2008_mean)/S_PMB_ImplementQuality_2008_STD\n",
    "\n",
    "S_PMB_EvaluateAct_2008_mean = train_test['S_PMB_EvaluateAct_2008'].mean()\n",
    "S_PMB_EvaluateAct_2008_STD = train_test['S_PMB_EvaluateAct_2008'].std()\n",
    "train_test['S_PMB_EvaluateAct_2008_Z'] = (train_test['S_PMB_EvaluateAct_2008']-\n",
    "                                    S_PMB_EvaluateAct_2008_mean)/S_PMB_EvaluateAct_2008_STD\n",
    "\n",
    "S_PMB_AchieveResultsPeople_2008_mean = train_test['S_PMB_AchieveResultsPeople_2008'].mean()\n",
    "S_PMB_AchieveResultsPeople_2008_STD = train_test['S_PMB_AchieveResultsPeople_2008'].std()\n",
    "train_test['S_PMB_AchieveResultsPeople_2008_Z'] = (train_test['S_PMB_AchieveResultsPeople_2008']-\n",
    "                                    S_PMB_AchieveResultsPeople_2008_mean)/S_PMB_AchieveResultsPeople_2008_STD\n",
    "\n",
    "S_PMB_ShareKeyLearning_2008_mean = train_test['S_PMB_ShareKeyLearning_2008'].mean()\n",
    "S_PMB_ShareKeyLearning_2008_STD = train_test['S_PMB_ShareKeyLearning_2008'].std()\n",
    "train_test['S_PMB_ShareKeyLearning_2008_Z'] = (train_test['S_PMB_ShareKeyLearning_2008']-\n",
    "                                    S_PMB_ShareKeyLearning_2008_mean)/S_PMB_ShareKeyLearning_2008_STD\n",
    "\n",
    "train_test['S_OPR_COMP_2008'] = train_test[['S_OverallPerformanceRating2008_Z','S_PMB_ModelValues_2008_Z',\n",
    "                                           'S_PMB_CreateExternalFocus_2008_Z','S_PMB_AnticipateChange_2008_Z',\n",
    "                                          'S_PMB_EvaluateAct_2008_Z', 'S_PMB_AchieveResultsPeople_2008_Z',\n",
    "                                           'S_PMB_ShareKeyLearning_2008_Z']].mean(axis=1)\n",
    "\n",
    "train_test['S_OPR_COMP_2008'].replace(np.nan,0,inplace=True)"
   ]
  },
  {
   "cell_type": "code",
   "execution_count": 153,
   "metadata": {
    "collapsed": true
   },
   "outputs": [],
   "source": [
    "# z-score transformation for 2009 performance scores\n",
    "# this method was used instead of standardscalar() to avoid imputing data at this point\n",
    "\n",
    "S_OverallPerformanceRating2009_mean = train_test['S_OverallPerformanceRating2009'].mean()\n",
    "S_OverallPerformanceRating2009_STD = train_test['S_OverallPerformanceRating2009'].std()\n",
    "train_test['S_OverallPerformanceRating2009_Z'] = (train_test['S_OverallPerformanceRating2009']-\n",
    "                                    S_OverallPerformanceRating2009_mean)/S_OverallPerformanceRating2009_STD\n",
    "\n",
    "S_PMB_Engagement_2009_mean = train_test['S_PMB_Engagement_2009'].mean()\n",
    "S_PMB_Engagement_2009_STD = train_test['S_PMB_Engagement_2009'].std()\n",
    "train_test['S_PMB_Engagement_2009_Z'] = (train_test['S_PMB_Engagement_2009']-\n",
    "                                    S_PMB_Engagement_2009_mean)/S_PMB_Engagement_2009_STD\n",
    "\n",
    "S_PMB_Teamwork_2009_mean = train_test['S_PMB_Teamwork_2009'].mean()\n",
    "S_PMB_Teamwork_2009_STD = train_test['S_PMB_Teamwork_2009'].std()\n",
    "train_test['S_PMB_Teamwork_2009_Z'] = (train_test['S_PMB_Teamwork_2009']-\n",
    "                                    S_PMB_Teamwork_2009_mean)/S_PMB_Teamwork_2009_STD\n",
    "\n",
    "S_PMB_Accountability_2009_mean = train_test['S_PMB_Accountability_2009'].mean()\n",
    "S_PMB_Accountability_2009_STD = train_test['S_PMB_Accountability_2009'].std()\n",
    "train_test['S_PMB_Accountability_2009_Z'] = (train_test['S_PMB_Accountability_2009']-\n",
    "                                    S_PMB_Accountability_2009_mean)/S_PMB_Accountability_2009_STD\n",
    "\n",
    "S_PMB_Action_2009_mean = train_test['S_PMB_Action_2009'].mean()\n",
    "S_PMB_Action_2009_STD = train_test['S_PMB_Action_2009'].std()\n",
    "train_test['S_PMB_Action_2009_Z'] = (train_test['S_PMB_Action_2009']-\n",
    "                                    S_PMB_Action_2009_mean)/S_PMB_Action_2009_STD\n",
    "\n",
    "S_PMB_Values_2009_mean = train_test['S_PMB_Values_2009'].mean()\n",
    "S_PMB_Values_2009_STD = train_test['S_PMB_Values_2009'].std()\n",
    "train_test['S_PMB_Values_2009_Z'] = (train_test['S_PMB_Values_2009']-\n",
    "                                    S_PMB_Values_2009_mean)/S_PMB_Values_2009_STD\n",
    "\n",
    "train_test['S_OPR_COMP_2009'] = train_test[['S_OverallPerformanceRating2009_Z','S_PMB_Engagement_2009_Z',\n",
    "                                           'S_PMB_Teamwork_2009_Z','S_PMB_Accountability_2009_Z',\n",
    "                                          'S_PMB_Action_2009_Z', 'S_PMB_Values_2009_Z',]].mean(axis=1)\n",
    "\n",
    "train_test['S_OPR_COMP_2009'].replace(np.nan,0,inplace=True)"
   ]
  },
  {
   "cell_type": "code",
   "execution_count": 154,
   "metadata": {},
   "outputs": [
    {
     "name": "stderr",
     "output_type": "stream",
     "text": [
      "/Users/nckoeni/anaconda/lib/python3.6/site-packages/ipykernel_launcher.py:4: SettingWithCopyWarning: \n",
      "A value is trying to be set on a copy of a slice from a DataFrame\n",
      "\n",
      "See the caveats in the documentation: http://pandas.pydata.org/pandas-docs/stable/indexing.html#indexing-view-versus-copy\n",
      "  after removing the cwd from sys.path.\n"
     ]
    }
   ],
   "source": [
    "# standardizing/z-scoring performance\n",
    "#supervisor performance for 2009\n",
    "ov_comp_perf = train_test[['S_OPR_COMP_2005','S_OPR_COMP_2006','S_OPR_COMP_2007','S_OPR_COMP_2008','S_OPR_COMP_2009']]\n",
    "ov_comp_perf.replace(np.nan,0,inplace=True)\n",
    "zov_comp_perf = sc.fit_transform(ov_comp_perf)\n",
    "\n",
    "\n",
    "# assigning the numpy array columns to the appropriate new feature\n",
    "train_test['ZS_OPR_COMP_2005'] = zov_comp_perf[:,[0]]\n",
    "train_test['ZS_OPR_COMP_2006'] = zov_comp_perf[:,[1]]\n",
    "train_test['ZS_OPR_COMP_2007'] = zov_comp_perf[:,[2]]\n",
    "train_test['ZS_OPR_COMP_2008'] = zov_comp_perf[:,[3]]\n",
    "train_test['ZS_OPR_COMP_2009'] = zov_comp_perf[:,[4]]"
   ]
  },
  {
   "cell_type": "code",
   "execution_count": 196,
   "metadata": {
    "collapsed": true
   },
   "outputs": [],
   "source": [
    "# looking at the difference in years in z-score\n",
    "#then applying a -1 if the difference is lower and a 1 if the difference is higher\n",
    "#then taking the mean across all of the years the data exists\n",
    "\n",
    "ZS_OPR_COMP_CHANGE_05_TO_06 = train_test['ZS_OPR_COMP_2005']-train_test['ZS_OPR_COMP_2006']\n",
    "ZS_OPR_COMP_CHANGE_06_TO_07 = train_test['ZS_OPR_COMP_2006']-train_test['ZS_OPR_COMP_2007']\n",
    "ZS_OPR_COMP_CHANGE_07_TO_08 = train_test['ZS_OPR_COMP_2007']-train_test['ZS_OPR_COMP_2008']\n",
    "ZS_OPR_COMP_CHANGE_08_TO_09 = train_test['ZS_OPR_COMP_2008']-train_test['ZS_OPR_COMP_2009']\n",
    "\n",
    "train_test['ZS_Change_0506'] = ZS_OPR_COMP_CHANGE_05_TO_06.apply(lambda x: -1 if x<=0 else 1)\n",
    "train_test['ZS_Change_0607'] = ZS_OPR_COMP_CHANGE_06_TO_07.apply(lambda x: -1 if x<=0 else 1)\n",
    "train_test['ZS_Change_0708'] = ZS_OPR_COMP_CHANGE_07_TO_08.apply(lambda x: -1 if x<=0 else 1)\n",
    "train_test['ZS_Change_0809'] = ZS_OPR_COMP_CHANGE_08_TO_09.apply(lambda x: -1 if x<=0 else 1)\n",
    "\n",
    "train_test['S_OPRC_Mean'] = train_test[['ZS_Change_0506','ZS_Change_0607','ZS_Change_0708','ZS_Change_0809']].mean(axis=1)"
   ]
  },
  {
   "cell_type": "markdown",
   "metadata": {},
   "source": [
    "# Dummy Code Categorical Variables"
   ]
  },
  {
   "cell_type": "code",
   "execution_count": 156,
   "metadata": {
    "collapsed": true
   },
   "outputs": [],
   "source": [
    "train_test = pd.concat([train_test, pd.get_dummies(train_test['X_Gender'],drop_first=True)], axis=1)"
   ]
  },
  {
   "cell_type": "code",
   "execution_count": 157,
   "metadata": {
    "collapsed": true
   },
   "outputs": [],
   "source": [
    "train_test = pd.concat([train_test, pd.get_dummies(train_test['X_City2009'])],axis=1)\n",
    "train_test = pd.concat([train_test, pd.get_dummies(train_test['X_Country2009'])],axis=1)\n",
    "train_test = pd.concat([train_test, pd.get_dummies(train_test['X_JobType2009'])],axis=1)\n",
    "train_test = pd.concat([train_test, pd.get_dummies(train_test['X_RaceEthnicity'])],axis=1)\n",
    "train_test = pd.concat([train_test, pd.get_dummies(train_test['X_JobSubFunction2009'])],axis=1)\n",
    "train_test = pd.concat([train_test, pd.get_dummies(train_test['X_ExpOutsideHomeCountry'],drop_first=True)],axis=1)\n",
    "train_test = pd.concat([train_test, pd.get_dummies(train_test['X_CrossFunctionalExperience'],drop_first=True)],axis=1)"
   ]
  },
  {
   "cell_type": "code",
   "execution_count": 205,
   "metadata": {
    "collapsed": true
   },
   "outputs": [],
   "source": [
    "# Identify the people that are in the cities with the largest # of employees\n",
    "\n",
    "def footprint(col):\n",
    "    city=col[0]\n",
    "    \n",
    "    if city in['INDIANAPOLIS','CARMEL','FISHERS','GREENWOOD','ZIONSVILLE','MADRID',\n",
    "              'AVON','GREENFIELD','BROWNSBURG','WESTFIELD','CO CORK',\"SAO PAULO\",\n",
    "              \"LIVERPOOL\",\"CAROLINA\",\"FIRENZE\",\"PLAINFIELD\",\"MARTINSVILLE\",\"MOORESVILLE\",\n",
    "              \"NEW PALESTINE\",\"NOBLESVILLE\",\"STRASBOURG\",\"SESTO FIORENTINO\",\"FRANKLIN\",\"TERRE HAUTE\",\n",
    "              \"SAN DIEGO\"]:\n",
    "        return 1\n",
    "    else:\n",
    "        return 0\n",
    "    \n",
    "train_test['footprint'] = train_test[['X_City2009']].apply(footprint, axis=1)"
   ]
  },
  {
   "cell_type": "code",
   "execution_count": 211,
   "metadata": {
    "collapsed": true
   },
   "outputs": [],
   "source": [
    "# Code Low Engagement for 2009\n",
    "train_test['S_PMB_ENG_L_2009'] = train_test['S_PMB_Engagement_2009'].apply(lambda x: 1 if x<2.9 else 0)\n",
    "\n",
    "# Code Low Teamwork for 2009\n",
    "train_test['S_PMB_TEA_L_2009'] = train_test['S_PMB_Teamwork_2009'].apply(lambda x: 1 if x<2.9 else 0)"
   ]
  },
  {
   "cell_type": "markdown",
   "metadata": {},
   "source": [
    "###### Mean/Target encode jobfunction"
   ]
  },
  {
   "cell_type": "code",
   "execution_count": 159,
   "metadata": {
    "collapsed": true
   },
   "outputs": [],
   "source": [
    "# mean encode turnover rate for Sub Function 2009\n",
    "jobfunction_turn_2009 = train_test.groupby('X_JobFunction2009')['Y_Exit'].mean()\n",
    "\n",
    "train_test['jobfunction_turn_2009'] = train_test['X_JobFunction2009'].map(jobfunction_turn_2009)\n",
    "\n",
    "# mean encode turnover rate for Sub Function 2008\n",
    "jobfunction_turn_2008 = train_test.groupby('X_JobFunction2008')['Y_Exit'].mean()\n",
    "\n",
    "train_test['jobfunction_turn_2008'] = train_test['X_JobFunction2008'].map(jobfunction_turn_2008)\n",
    "\n",
    "# mean encode turnover rate for Sub Function 2007\n",
    "jobfunction_turn_2007 = train_test.groupby('X_JobFunction2007')['Y_Exit'].mean()\n",
    "\n",
    "train_test['jobfunction_turn_2007'] = train_test['X_JobFunction2007'].map(jobfunction_turn_2007)\n",
    "\n",
    "# mean encode turnover rate for Sub Function 2006\n",
    "jobfunction_turn_2006 = train_test.groupby('X_JobFunction2006')['Y_Exit'].mean()\n",
    "\n",
    "train_test['jobfunction_turn_2006'] = train_test['X_JobFunction2006'].map(jobfunction_turn_2006)\n",
    "\n",
    "# mean encode turnover rate for Sub Function 2005\n",
    "jobfunction_turn_2005 = train_test.groupby('X_JobFunction2005')['Y_Exit'].mean()\n",
    "\n",
    "train_test['jobfunction_turn_2005'] = train_test['X_JobFunction2005'].map(jobfunction_turn_2005)\n",
    "\n",
    "# mean encode turnover rate for Sub Function 2004\n",
    "jobfunction_turn_2004 = train_test.groupby('X_JobFunction2004')['Y_Exit'].mean()\n",
    "\n",
    "train_test['jobfunction_turn_2004'] = train_test['X_JobFunction2004'].map(jobfunction_turn_2004)\n",
    "\n",
    "# mean encode turnover rate overall average jobfunction\n",
    "\n",
    "train_test['jobfunction_mean_turn_overall'] = train_test[['jobfunction_turn_2009','jobfunction_turn_2008',\n",
    "                                   'jobfunction_turn_2007','jobfunction_turn_2006',\n",
    "                                    'jobfunction_turn_2005','jobfunction_turn_2004']].mean(axis=1)"
   ]
  },
  {
   "cell_type": "markdown",
   "metadata": {},
   "source": [
    "Replace all countries with fewer than 20 employees as an 'other' country to introduce 'noise' in potentially a high cardinality variable. "
   ]
  },
  {
   "cell_type": "code",
   "execution_count": 160,
   "metadata": {
    "collapsed": true
   },
   "outputs": [],
   "source": [
    "replace_values_2009 = {'Oman':'Other', 'Syria':'Other', 'Bahama':'Other','Jamaica': 'Other','Bahrain': 'Other',\n",
    "                   'Netherlands Antilles': 'Other','El Savador':'Other','Bosnia':'Other',\n",
    "                  'Chile':'Other','New Zealand':'Other','Kazakhstan':'Other','Morocco':'Other',\n",
    "                   'Ecuador':'Other','Indonesia':'Other','Ukraine':'Other','Cyprus':'Other','Estonia':'Other',\n",
    "                   'Tunisia':'Other','Panama':'Other','Guatemala':'Other','Kuwait':'Other','Qatar':'Other',\n",
    "                   'Jordan':'Other','Dominican Republic':'Other','Latvia':'Other',\n",
    "                   'Vietnam':'Other','Honduras':'Other','Trinidad and Tobago':'Other'}\n",
    "\n",
    "train_test = train_test.replace({'X_Country2009': replace_values_2009})\n",
    "\n",
    "replace_values_2008 = {'United Arab Emirates':'Other','Slovakia':'Other','Oman':'Other', 'Syria':'Other',\n",
    "                  'New Zealand':'Other','Kazakhstan':'Other','Costa Rica':'Other','Morocco':'Other',\n",
    "                  'Ukraine':'Other','Indonesia':'Other','Ecuador':'Other','Cyprus':'Other','Estonia':'Other',\n",
    "                   'Tunisia':'Other','Jordan':'Other','Panama':'Other','Kuwait':'Other','Trinidad and Tobago':'Other',\n",
    "                  'Honduras':'Other','Guatemala':'Other','Qatar':'Other','Dominican Republic':'Other','Latvia':'Other',\n",
    "                  'Netherlands Antilles': 'Other','El Savador':'Other','Bosnia':'Other','Bahamas':'Other',\n",
    "                  'Jamaica': 'Other','Uzbekistan':'Other','Vietnam':'Other','Lithuania':'Other',\n",
    "                      'Slovenia':'Other','Chile':'Other'}\n",
    "train_test = train_test.replace({'X_Country2008': replace_values_2008}) \n",
    "\n",
    "replace_values_2007 = {'Bahamas':'Other','Uzbekistan':'Other','Oman':'Other','Jamaica': 'Other',\n",
    "                       'Netherlands Antilles': 'Other','Qatar':'Other', 'Syria':'Other','El Savador':'Other',\n",
    "                       'Bosnia':'Other','Panama':'Other','Vietnam':'Other','Dominican Republic':'Other',\n",
    "                       'Guatemala':'Other','Trinidad and Tobago':'Other','Kuwait':'Other', 'Honduras':'Other',\n",
    "                       'Jordan':'Other','Latvia':'Other','Ecuador':'Other','Cyprus':'Other','Estonia':'Other',\n",
    "                       'Tunisia':'Other','Ukraine':'Other','United Arab Emirates':'Other','Morocco':'Other',\n",
    "                       'Indonesia':'Other','Kazakhstan':'Other','Costa Rica':'Other','Slovakia':'Other',\n",
    "                       'New Zealand':'Other','Lithuania':'Other','Slovenia':'Other','Chile':'Other','Croatia':'Other'}\n",
    "train_test = train_test.replace({'X_Country2007': replace_values_2007}) \n",
    "\n",
    "replace_values_2006 = {'Dominican Republic':'Other','Serbia':'Other','Oman':'Other','Syria':'Other',\n",
    "                       'Trinidad and Tobago':'Other','Bahamas':'Other','Uzbekistan':'Other','Jamaica': 'Other',\n",
    "                       'Netherlands Antilles': 'Other','Qatar':'Other', 'El Savador':'Other',\n",
    "                       'Bosnia':'Other','Guatemala':'Other','Panama':'Other','Jordan':'Other','Indonesia':'Other',\n",
    "                       'Estonia':'Other','Cyprus':'Other','Tunisia':'Other','Kazakhstan':'Other','Ukraine':'Other',\n",
    "                       'United Arab Emirates':'Other','Slovakia':'Other','New Zealand':'Other','Morocco':'Other',\n",
    "                       'Costa Rica':'Other','Vietnam':'Other','Kuwait':'Other','Ecuador':'Other','Honduras':'Other',\n",
    "                      'Latvia':'Other','Lithuania':'Other','Slovenia':'Other','Chile':'Other','Croatia':'Other',\n",
    "                      'Algeria':'Other','Bulgaria':'Other'}\n",
    "\n",
    "train_test = train_test.replace({'X_Country2006': replace_values_2006}) \n",
    "\n",
    "replace_values_2005 = {'Oman':'Other','Syria':'Other','Jamaica': 'Other','Ecuador':'Other','Dominican Republic':'Other',\n",
    "                       'Serbia':'Other','Netherlands Antilles': 'Other','El Savador':'Other','Bosnia':'Other',\n",
    "                       'Kuwait':'Other','Guatemala':'Other','Estonia':'Other','Trinidad and Tobago':'Other',\n",
    "                       'Vietnam':'Other','Panama':'Other','Honduras':'Other','Latvia':'Other','Jordan':'Other',\n",
    "                       'Indonesia':'Other','Cyprus':'Other','Tunisia':'Other','Kazakhstan':'Other','Ukraine':'Other',\n",
    "                       'Costa Rica':'Other','United Arab Emirates':'Other','Slovakia':'Other','New Zealand':'Other',\n",
    "                       'Chile':'Other','Lithuania':'Other','Algeria':'Other','Morocco':'Other','Croatia':'Other',\n",
    "                      'Slovenia':'Other','Bulgaria':'Other'}\n",
    "\n",
    "train_test = train_test.replace({'X_Country2005': replace_values_2005}) \n",
    "\n",
    "replace_values_2004 = {'Oman':'Other','Ecuador':'Other','Dominican Republic':'Other','Syria':'Other',\n",
    "                       'Jamaica': 'Other','Serbia':'Other','Netherlands Antilles': 'Other','Guatemala':'Other',\n",
    "                       'Kuwait':'Other','Vietnam':'Other','Panama':'Other','El Savador':'Other','Bosnia':'Other',\n",
    "                       'Estonia':'Other','Trinidad and Tobago':'Other','Honduras':'Other','Latvia':'Other',\n",
    "                       'Kazakhstan':'Other','Indonesia':'Other','Cyprus':'Other','Jordan':'Other',\n",
    "                       'Tunisia':'Other','United Arab Emirates':'Other','Ukraine':'Other',\n",
    "                       'Costa Rica':'Other','Slovakia':'Other','New Zealand':'Other',\n",
    "                       'Chile':'Other','Lithuania':'Other','Morocco':'Other','Algeria':'Other','Croatia':'Other',\n",
    "                      'Slovenia':'Other','Bulgaria':'Other'}\n",
    "\n",
    "train_test = train_test.replace({'X_Country2004': replace_values_2004}) "
   ]
  },
  {
   "cell_type": "markdown",
   "metadata": {},
   "source": [
    "###### Mean/Target encode country"
   ]
  },
  {
   "cell_type": "code",
   "execution_count": 161,
   "metadata": {
    "collapsed": true
   },
   "outputs": [],
   "source": [
    "# mean encode turnover rate for country\n",
    "\n",
    "country_turn_2009 = train_test.groupby('X_Country2009')['Y_Exit'].mean()\n",
    "\n",
    "train_test['country_turn_2009'] = train_test['X_Country2009'].map(country_turn_2009)\n",
    "\n",
    "# mean encode turnover rate for country 2008\n",
    "\n",
    "country_turn_2008 = train_test.groupby('X_Country2008')['Y_Exit'].mean()\n",
    "\n",
    "train_test['country_turn_2008'] = train_test['X_Country2008'].map(country_turn_2008)\n",
    "\n",
    "# mean encode turnover rate for country 2007\n",
    "\n",
    "country_turn_2007 = train_test.groupby('X_Country2007')['Y_Exit'].mean()\n",
    "\n",
    "train_test['country_turn_2007'] = train_test['X_Country2007'].map(country_turn_2007)\n",
    "\n",
    "# mean encode turnover rate for country 2006\n",
    "\n",
    "country_turn_2006 = train_test.groupby('X_Country2006')['Y_Exit'].mean()\n",
    "\n",
    "train_test['country_turn_2006'] = train_test['X_Country2006'].map(country_turn_2006)\n",
    "\n",
    "# mean encode turnover rate for country 2005\n",
    "\n",
    "country_turn_2005 = train_test.groupby('X_Country2005')['Y_Exit'].mean()\n",
    "\n",
    "train_test['country_turn_2005'] = train_test['X_Country2005'].map(country_turn_2005)\n",
    "\n",
    "# mean encode turnover rate for country 2004\n",
    "\n",
    "country_turn_2004 = train_test.groupby('X_Country2004')['Y_Exit'].mean()\n",
    "\n",
    "train_test['country_turn_2004'] = train_test['X_Country2004'].map(country_turn_2004)\n",
    "\n",
    "# mean encode turnover rate overall average country\n",
    "\n",
    "train_test['country_mean_turn_overall'] = train_test[['country_turn_2009','country_turn_2008',\n",
    "                                   'country_turn_2007','country_turn_2006',\n",
    "                                    'country_turn_2005','country_turn_2004']].mean(axis=1)"
   ]
  },
  {
   "cell_type": "markdown",
   "metadata": {},
   "source": [
    "### This is the end of our feature engineering. At this point we have all the features we will use in our models."
   ]
  },
  {
   "cell_type": "markdown",
   "metadata": {},
   "source": [
    "# Split the data on train_test sets to build the models"
   ]
  },
  {
   "cell_type": "code",
   "execution_count": 218,
   "metadata": {
    "collapsed": true
   },
   "outputs": [],
   "source": [
    "train = train_test[train_test['train_test_split']=='Train']\n",
    "test = train_test[train_test['train_test_split']=='Test']"
   ]
  },
  {
   "cell_type": "code",
   "execution_count": 184,
   "metadata": {
    "collapsed": true
   },
   "outputs": [],
   "source": [
    "X_train = train.drop('Y_Exit')"
   ]
  },
  {
   "cell_type": "markdown",
   "metadata": {},
   "source": [
    "# Feature Elimination/Selection\n",
    "\n",
    "After creating all of these additional variables (including the dummy variables) you are left with over 5k. In order to identify which are going to be most useful we used a method in the scikit learn feature selection package called Recursive Feature Elimination. \n",
    "\n",
    "Here is information from the documentation: \n",
    "\n",
    "- Given an external estimator that assigns weights to features (e.g., the coefficients of a linear model), recursive feature elimination (RFE) is to select features by recursively considering smaller and smaller sets of features. First, the estimator is trained on the initial set of features and the importance of each feature is obtained either through a coef_ attribute or through a feature importances attribute. Then, the least important features are pruned from current set of features.That procedure is recursively repeated on the pruned set until the desired number of features to select is eventually reached.\n",
    "\n",
    "[Link](http://scikit-learn.org/stable/modules/feature_selection.html) to documentation\n",
    "\n",
    "\n",
    "\n",
    "\n",
    "\n",
    "##### In this example I used LightGBM because it trains significantly faster than XGBoost, but you can replace that model with XGboost, Random Forest, etc. We also only selectively included cities with more than 15 employees in 2009, to reduce the number of features the model had to eliminate."
   ]
  },
  {
   "cell_type": "code",
   "execution_count": null,
   "metadata": {
    "collapsed": true
   },
   "outputs": [],
   "source": [
    "estimator = lgb.LGBMClassifier(n_estimators=150, n_jobs=-1)\n",
    "selector = RFE(estimator,step=1,n_features_to_select=1, verbose=3)\n",
    "selector = selector.fit(X_train,y)"
   ]
  },
  {
   "cell_type": "code",
   "execution_count": null,
   "metadata": {
    "collapsed": true
   },
   "outputs": [],
   "source": [
    "# this will print out the order of importance for all features included\n",
    "lgbm = sorted(zip(map(lambda x: round(x, 4), selector.ranking_), names))\n",
    "lgbm"
   ]
  },
  {
   "cell_type": "markdown",
   "metadata": {},
   "source": [
    "Build X_train, y_train and X_test"
   ]
  },
  {
   "cell_type": "code",
   "execution_count": 221,
   "metadata": {
    "collapsed": true
   },
   "outputs": [],
   "source": [
    "# X_train\n",
    "\n",
    "X_train = train[['X_OverallPerformanceRating2009','X_OverallPerformanceRating2008',\n",
    "                          'X_OverallPerformanceRating2007',\n",
    "                          'comp_perf2009','comp_perf2008','comp_perf2007',\n",
    "                          'Comp_PM_Change2009','Comp_PM_Change2008','Comp_PM_Change2007',\n",
    "                          \"X_TenureDays2009\",'X_ReadyNow','unique_supervisors','sup_ten_inter',\n",
    "                         'unique_countries','unique_cities','unique_jobs', 'Male',\n",
    "                         'Asian','Black/African American','EXP Yes',\n",
    "                         'Hispanic/Latino','Other','White/Caucasian',\n",
    "                         'SALES REPRESENTATIVE','BUSINESS ASSOCIATE',\"Algeria\",\"Argentina\",\"Australia\",\n",
    "                         \"Belgium\",\"Brazil\",\"Canada\",\"China\",\"Czech Rebublic\",\"Egypt\",\"France\",\"Germany\",\n",
    "                         \"Greece\",\"India\",\"Indonesia\",\"Ireland\",\"Italy\",\"Japan\",\"Lebanon\",\"Malaysia\",\"Mexico\",\n",
    "                         \"Morocco\",\"Netherlands\",\"New Zealand\",\"Norway\",\"Pakistan\",\"Peru\",\"Philippines\",\n",
    "                        \"Poland\",\"Portugal\",\"Puerto Rico\",\"Romania\",\"Russia\",\"Saudia Arabia\",\"Singapore\",\"Slovakia\",\n",
    "                        \"South Africa\",\"South Korea\",\"Spain\",\"Thailand\",\"United States of America\",\"Venezuela\",\n",
    "                       'footprint','S_OPR_N_2009','ADMINISTRATIVE ASSISTANT/SECRETARY','ATTORNEY','BIOLOGIST',\n",
    "                       'CHEMIST','CLERICAL ASSISTANT','CRAFTS/TRADES WORKER','MANAGEMENT (G-LEVEL)','OTHER SCIENTIST',\n",
    "                       'OUTCOME/MEDICAL LIAISON','PHYSICIAN','PRODUCTION OPERATOR','SALES MANAGER','STATISTICIAN',\n",
    "                       'TECHNICIAN','ACCOUNTING/REPORTING','AFFILIATE LEAD POSITION - PHARMA','BULK MANUFACTURING OPERATIONS',\n",
    "                       'COMMUNICATIONS/COMMUNITY RELATIONS','COMPENSATION/BENEFITS/RELOCATION','CORPORATE FUNDED MEDICAL',\n",
    "                      'DISCOVERY RESEARCH/RESEARCH TECHNOLOGIES','ENVIRONMENTAL/HEALTH/SAFETY','EXECUTIVE MANAGEMENT ADMIN SUPPORT',\n",
    "                     'FACILITY/CORPORATE SECURITY/ERT','GENERAL LAW','GLOBAL COMPLIANCE AND ETHICS','GLOBAL HEALTH OUTCOMES',\n",
    "                     'GOVERNMENT/PUBLIC/ADVOCACY','IT BUSINESS INTEGRATION/AFF','LRL EXTERNAL R&D','MAINTENANCE',\n",
    "                     'MANUFACTURING TECHNICAL SERVICES','MARKETING-PHARMA','MKT/SALES EXEC/ADMIN SUPPORT-PHARMA',\n",
    "                     'PACKAGING','PATENT LAW','PLANNING/CONTROLLER','PRODUCT/PROCESS DEVELOPMENT','PROJECT MANAGEMENT',\n",
    "                     'QUALITY ASSURANCE','QUALITY CONTROL','REGULATORY','SALES - PHARMA','SALES/MARKETING SUPPORT',\n",
    "                     'SCIENCE/TECHNOLOGY GEN ADMIN/ADMIN SUPPT','TOXICOLOGY/ADME','TRAINING/DEVELOPMENT',\n",
    "                    'sup_emp_gender_dif_2009','sup_emp_gender_dif_2008','paygrade_changes','S_OPRC_Mean',\n",
    "                    'S_PMB_ENG_L_2009','S_PMB_TEA_L_2009','X_FutureGeneration','INDIANAPOLIS','MADRID',\n",
    "                    'S_Age2007','S_OPR_COMP_2006','S_OPR_COMP_2008','S_PMB_SHA_N_2005','S_PayGradeLevel2005',\n",
    "                    'S_PayGradeLevel2009','S_TenureDays2004','S_TenureDays2008','S_OPR_COMP_2007','S_PMB_Teamwork_2009',\n",
    "                    'X_PMB_ModelValues_2008','S_TenureDays2006','X_PMB_Teamwork_2009','S_OPR_COMP_2009',\n",
    "                    'S_Age2008','X_Age2009','X_OverallPerformanceRating2005','S_PayGradeLevel2007','S_Age2009',\n",
    "                'Comp_STD_Perf','Comp_Avg_Perf','age_tenure_inter', 'Overall_STD_Perf',\n",
    "                    'jobfunction_mean_turn_overall','country_mean_turn_overall']]\n",
    "\n",
    "\n",
    "y_train = train['Y_Exit']\n",
    "\n",
    "X_test = test[['X_OverallPerformanceRating2009','X_OverallPerformanceRating2008',\n",
    "                          'X_OverallPerformanceRating2007',\n",
    "                          'comp_perf2009','comp_perf2008','comp_perf2007',\n",
    "                          'Comp_PM_Change2009','Comp_PM_Change2008','Comp_PM_Change2007',\n",
    "                          \"X_TenureDays2009\",'X_ReadyNow','unique_supervisors','sup_ten_inter',\n",
    "                         'unique_countries','unique_cities','unique_jobs', 'Male',\n",
    "                         'Asian','Black/African American','EXP Yes',\n",
    "                         'Hispanic/Latino','Other','White/Caucasian',\n",
    "                         'SALES REPRESENTATIVE','BUSINESS ASSOCIATE',\"Algeria\",\"Argentina\",\"Australia\",\n",
    "                         \"Belgium\",\"Brazil\",\"Canada\",\"China\",\"Czech Rebublic\",\"Egypt\",\"France\",\"Germany\",\n",
    "                         \"Greece\",\"India\",\"Indonesia\",\"Ireland\",\"Italy\",\"Japan\",\"Lebanon\",\"Malaysia\",\"Mexico\",\n",
    "                         \"Morocco\",\"Netherlands\",\"New Zealand\",\"Norway\",\"Pakistan\",\"Peru\",\"Philippines\",\n",
    "                        \"Poland\",\"Portugal\",\"Puerto Rico\",\"Romania\",\"Russia\",\"Saudia Arabia\",\"Singapore\",\"Slovakia\",\n",
    "                        \"South Africa\",\"South Korea\",\"Spain\",\"Thailand\",\"United States of America\",\"Venezuela\",\n",
    "                       'footprint','S_OPR_N_2009','ADMINISTRATIVE ASSISTANT/SECRETARY','ATTORNEY','BIOLOGIST',\n",
    "                       'CHEMIST','CLERICAL ASSISTANT','CRAFTS/TRADES WORKER','MANAGEMENT (G-LEVEL)','OTHER SCIENTIST',\n",
    "                       'OUTCOME/MEDICAL LIAISON','PHYSICIAN','PRODUCTION OPERATOR','SALES MANAGER','STATISTICIAN',\n",
    "                       'TECHNICIAN','ACCOUNTING/REPORTING','AFFILIATE LEAD POSITION - PHARMA','BULK MANUFACTURING OPERATIONS',\n",
    "                       'COMMUNICATIONS/COMMUNITY RELATIONS','COMPENSATION/BENEFITS/RELOCATION','CORPORATE FUNDED MEDICAL',\n",
    "                      'DISCOVERY RESEARCH/RESEARCH TECHNOLOGIES','ENVIRONMENTAL/HEALTH/SAFETY','EXECUTIVE MANAGEMENT ADMIN SUPPORT',\n",
    "                     'FACILITY/CORPORATE SECURITY/ERT','GENERAL LAW','GLOBAL COMPLIANCE AND ETHICS','GLOBAL HEALTH OUTCOMES',\n",
    "                     'GOVERNMENT/PUBLIC/ADVOCACY','IT BUSINESS INTEGRATION/AFF','LRL EXTERNAL R&D','MAINTENANCE',\n",
    "                     'MANUFACTURING TECHNICAL SERVICES','MARKETING-PHARMA','MKT/SALES EXEC/ADMIN SUPPORT-PHARMA',\n",
    "                     'PACKAGING','PATENT LAW','PLANNING/CONTROLLER','PRODUCT/PROCESS DEVELOPMENT','PROJECT MANAGEMENT',\n",
    "                     'QUALITY ASSURANCE','QUALITY CONTROL','REGULATORY','SALES - PHARMA','SALES/MARKETING SUPPORT',\n",
    "                     'SCIENCE/TECHNOLOGY GEN ADMIN/ADMIN SUPPT','TOXICOLOGY/ADME','TRAINING/DEVELOPMENT',\n",
    "                    'sup_emp_gender_dif_2009','sup_emp_gender_dif_2008','paygrade_changes','S_OPRC_Mean',\n",
    "                    'S_PMB_ENG_L_2009','S_PMB_TEA_L_2009','X_FutureGeneration','INDIANAPOLIS','MADRID',\n",
    "                    'S_Age2007','S_OPR_COMP_2006','S_OPR_COMP_2008','S_PMB_SHA_N_2005','S_PayGradeLevel2005',\n",
    "                    'S_PayGradeLevel2009','S_TenureDays2004','S_TenureDays2008','S_OPR_COMP_2007','S_PMB_Teamwork_2009',\n",
    "                    'X_PMB_ModelValues_2008','S_TenureDays2006','X_PMB_Teamwork_2009','S_OPR_COMP_2009',\n",
    "                    'S_Age2008','X_Age2009','X_OverallPerformanceRating2005','S_PayGradeLevel2007','S_Age2009',\n",
    "                'Comp_STD_Perf','Comp_Avg_Perf','age_tenure_inter', 'Overall_STD_Perf',\n",
    "                    'jobfunction_mean_turn_overall','country_mean_turn_overall']]\n"
   ]
  },
  {
   "cell_type": "markdown",
   "metadata": {},
   "source": [
    "# Random Grid Search for XGBoost\n",
    "\n",
    "In order to identify the best hyper parameters to use for this specific dataset we performed a randomized version of grid search. This utilizes cross-validation and randomly selects a different subset of the hyperparameters for each iteration. We set this to run 200 unique iterations. \n",
    "\n",
    "[Link](http://scikit-learn.org/stable/modules/generated/sklearn.model_selection.RandomizedSearchCV.html) to documentation."
   ]
  },
  {
   "cell_type": "code",
   "execution_count": 170,
   "metadata": {
    "collapsed": true
   },
   "outputs": [],
   "source": [
    "from sklearn.model_selection import RandomizedSearchCV\n",
    "from scipy.stats import randint as sp_randint\n",
    "from time import time\n",
    "# Utility function to report best scores\n",
    "def report(results, n_top=3):\n",
    "    for i in range(1, n_top + 1):\n",
    "        candidates = np.flatnonzero(results['rank_test_score'] == i)\n",
    "        for candidate in candidates:\n",
    "            print(\"Model with rank: {0}\".format(i))\n",
    "            print(\"Mean validation score: {0:.3f} (std: {1:.3f})\".format(\n",
    "                  results['mean_test_score'][candidate],\n",
    "                  results['std_test_score'][candidate]))\n",
    "            print(\"Parameters: {0}\".format(results['params'][candidate]))\n",
    "            print(\"\")"
   ]
  },
  {
   "cell_type": "code",
   "execution_count": 174,
   "metadata": {
    "collapsed": true
   },
   "outputs": [],
   "source": [
    "# specify parameters and distributions to sample from\n",
    "from xgboost import XGBClassifier\n",
    "\n",
    "xgb = XGBClassifier(n_jobs=-1)\n",
    "param_dist = {\"learning_rate\":np.linspace(.01,.15,20),\n",
    "              \"max_depth\": [1,3,7,12,15],\n",
    "              'min_child_weight': sp_randint(1,7),\n",
    "              \"reg_lambda\":[0.0,0.1,1,5],\n",
    "              \"reg_alpha\":[0,0.1,1,5],\n",
    "              \"n_estimators\":[100,250,500,750]}"
   ]
  },
  {
   "cell_type": "code",
   "execution_count": null,
   "metadata": {
    "collapsed": true
   },
   "outputs": [],
   "source": [
    "# run randomized search\n",
    "n_iter_search = 200\n",
    "random_search = RandomizedSearchCV(lgbm, param_distributions=param_dist,\n",
    "                                   n_iter=n_iter_search,scoring='roc_auc',verbose=3)"
   ]
  },
  {
   "cell_type": "code",
   "execution_count": null,
   "metadata": {
    "collapsed": true
   },
   "outputs": [],
   "source": [
    "# Build a report for the output\n",
    "\n",
    "start = time()\n",
    "random_search.fit(X_train, y_train)\n",
    "print(\"RandomizedSearchCV took %.2f seconds for %d candidates\"\n",
    "      \" parameter settings.\" % ((time() - start), n_iter_search))\n",
    "report(random_search.cv_results_)"
   ]
  },
  {
   "cell_type": "markdown",
   "metadata": {},
   "source": [
    "#### After completing the grid search we using a bagging methodology to smooth the outputs and include the hyperparameters from the grid search"
   ]
  },
  {
   "cell_type": "code",
   "execution_count": 192,
   "metadata": {},
   "outputs": [
    {
     "data": {
      "text/plain": [
       "XGBClassifier(base_score=0.5, booster='gbtree', colsample_bylevel=1,\n",
       "       colsample_bytree=1, gamma=1.5, learning_rate=0.1, max_delta_step=0,\n",
       "       max_depth=3, min_child_weight=5, missing=None, n_estimators=500,\n",
       "       n_jobs=-1, nthread=None, objective='binary:logistic',\n",
       "       random_state=0, reg_alpha=0, reg_lambda=1, scale_pos_weight=1,\n",
       "       seed=None, silent=True, subsample=1)"
      ]
     },
     "execution_count": 192,
     "metadata": {},
     "output_type": "execute_result"
    }
   ],
   "source": [
    "xgb = XGBClassifier(gamma=1.5,learning_rate=0.1,max_depth=3,min_child_weight=5,n_estimators=500,n_jobs=-1)\n",
    "xgb.fit(X_train,y_train)"
   ]
  },
  {
   "cell_type": "code",
   "execution_count": 222,
   "metadata": {
    "collapsed": true
   },
   "outputs": [],
   "source": [
    "# Bagged Predictions for XGBoost Model\n",
    "\n",
    "xgb_model = XGBClassifier(gamma=1.5,learning_rate=0.1,max_depth=3,min_child_weight=5,n_estimators=500)\n",
    "bags = 10\n",
    "seed = 1\n",
    "\n",
    "xgb_bagged_prediction = np.zeros(X_test.shape[0])\n",
    "\n",
    "for n in range(0,bags):\n",
    "    xgb_model.set_params(random_state=seed + n)\n",
    "    xgb_model.fit(X_train,y_train)\n",
    "    preds=xgb_model.predict_proba(X_test)[:,1]\n",
    "    xgb_bagged_prediction+=preds\n",
    "\n",
    "xgb_bagged_prediction/=bags"
   ]
  },
  {
   "cell_type": "markdown",
   "metadata": {},
   "source": [
    "# Random Grid Search for LightGBM\n",
    "\n",
    "In order to identify the best hyper parameters to use for this specific dataset we performed a randomized version of grid search. "
   ]
  },
  {
   "cell_type": "code",
   "execution_count": 171,
   "metadata": {
    "collapsed": true
   },
   "outputs": [],
   "source": [
    "import lightgbm as lgb\n",
    "lgbm = lgb.LGBMClassifier(n_jobs=-1)\n",
    "# specify parameters and distributions to sample from\n",
    "param_dist = {\"learning_rate\":np.linspace(.009,.20,50),\n",
    "              \"max_depth\": [-1,3,5,7,10,12,15],\n",
    "              'min_child_samples': sp_randint(2,20),\n",
    "              \"reg_lambda\":[0.0,0.01,0.1],\n",
    "              \"n_estimators\": [100,250,500,750,1000]}"
   ]
  },
  {
   "cell_type": "code",
   "execution_count": null,
   "metadata": {
    "collapsed": true
   },
   "outputs": [],
   "source": [
    "# run randomized search\n",
    "n_iter_search = 250\n",
    "random_search = RandomizedSearchCV(lgbm, param_distributions=param_dist,\n",
    "                                   n_iter=n_iter_search,scoring='roc_auc',verbose=3)"
   ]
  },
  {
   "cell_type": "code",
   "execution_count": null,
   "metadata": {
    "collapsed": true
   },
   "outputs": [],
   "source": [
    "start = time()\n",
    "random_search.fit(X_train, y_train)\n",
    "print(\"RandomizedSearchCV took %.2f seconds for %d candidates\"\n",
    "      \" parameter settings.\" % ((time() - start), n_iter_search))\n",
    "report(random_search.cv_results_)"
   ]
  },
  {
   "cell_type": "markdown",
   "metadata": {},
   "source": [
    "#### After completing the grid search we using a bagging methodology to smooth the outputs and include the hyperparameters from the grid search"
   ]
  },
  {
   "cell_type": "code",
   "execution_count": 223,
   "metadata": {
    "collapsed": true
   },
   "outputs": [],
   "source": [
    "# Bagged Predictions for LightGBM Model\n",
    "lgbm_model = lgb.LGBMClassifier(n_estimators=500,min_child_samples=3,max_depth=-1,\n",
    "                         learning_rate=0.013,n_jobs=-1)\n",
    "bags = 10\n",
    "seed = 1\n",
    "\n",
    "lgbm_bagged_prediction = np.zeros(X_test.shape[0])\n",
    "\n",
    "for n in range(0,bags):\n",
    "    lgbm_model.set_params(random_state=seed + n)\n",
    "    lgbm_model.fit(X_train,y_train)\n",
    "    preds=lgbm_model.predict_proba(X_test)[:,1]\n",
    "    lgbm_bagged_prediction+=preds\n",
    "\n",
    "lgbm_bagged_prediction/=bags"
   ]
  },
  {
   "cell_type": "markdown",
   "metadata": {},
   "source": [
    "### Random Forests and Neural Networks\n",
    "\n",
    "- Both these models can not work with missing data. For this reason we will replace all missing values with 0 (you could also impute the mean, or median value as well). For the purposes of this particular project we felt imputing missing data wasn't an accurate representation because often times the data was missing because the person actually wasn't an employee at the time the data was collected. We also tried several models early on where we imputed the job performance variables for 2009 (if missing) with the means for the particular job function. It didn't add any real value so we went back to just using zeros. \n",
    "- In addition to this because neural networks compute gradients (which can be computationally complex) they prefer standardized values. So we will standardize the input features. "
   ]
  },
  {
   "cell_type": "code",
   "execution_count": 224,
   "metadata": {},
   "outputs": [
    {
     "name": "stderr",
     "output_type": "stream",
     "text": [
      "/Users/nckoeni/anaconda/lib/python3.6/site-packages/pandas/core/frame.py:2852: SettingWithCopyWarning: \n",
      "A value is trying to be set on a copy of a slice from a DataFrame\n",
      "\n",
      "See the caveats in the documentation: http://pandas.pydata.org/pandas-docs/stable/indexing.html#indexing-view-versus-copy\n",
      "  downcast=downcast, **kwargs)\n",
      "/Users/nckoeni/anaconda/lib/python3.6/site-packages/pandas/core/generic.py:3549: SettingWithCopyWarning: \n",
      "A value is trying to be set on a copy of a slice from a DataFrame\n",
      "\n",
      "See the caveats in the documentation: http://pandas.pydata.org/pandas-docs/stable/indexing.html#indexing-view-versus-copy\n",
      "  self._update_inplace(new_data)\n"
     ]
    }
   ],
   "source": [
    "#standardizing data and replacing all missing values with zeros for Random Forest and Neural Network\n",
    "# hashed out the validation sets, but use them when building a train/test split.\n",
    "\n",
    "X_train.fillna(0,inplace=True)\n",
    "#X_val.fillna(0,inplace=True)\n",
    "X_test.fillna(0,inplace=True)\n",
    "\n",
    "y_train.fillna(0,inplace=True)\n",
    "#y_val.fillna(0,inplace=True)\n",
    "#y_test.fillna(0,inplace=True)\n",
    "# Feature Scaling\n",
    "from sklearn.preprocessing import StandardScaler\n",
    "sc = StandardScaler()\n",
    "X_train = sc.fit_transform(X_train)\n",
    "#X_val = sc.fit_transform(X_val)\n",
    "X_test = sc.transform(X_test)"
   ]
  },
  {
   "cell_type": "markdown",
   "metadata": {},
   "source": [
    "# Random Grid Search for Random Forest\n",
    "\n",
    "In order to identify the best hyper parameters to use for this specific dataset we performed a randomized version of grid search. "
   ]
  },
  {
   "cell_type": "code",
   "execution_count": 178,
   "metadata": {
    "collapsed": true
   },
   "outputs": [],
   "source": [
    "# specify parameters and distributions to sample from\n",
    "from sklearn.ensemble import RandomForestClassifier\n",
    "\n",
    "rf = RandomForestClassifier(n_jobs=-1)\n",
    "param_dist = {\"max_features\":['auto','sqrt','log2',None],\n",
    "              \"max_depth\": [None,1,3,7,12,15],\n",
    "              'min_samples_split': sp_randint(2,15),\n",
    "              \"n_estimators\":[50,100,250,500,750]}"
   ]
  },
  {
   "cell_type": "code",
   "execution_count": null,
   "metadata": {
    "collapsed": true
   },
   "outputs": [],
   "source": [
    "# run randomized search\n",
    "n_iter_search = 200\n",
    "random_search = RandomizedSearchCV(rf, param_distributions=param_dist,\n",
    "                                   n_iter=n_iter_search,scoring='roc_auc',verbose=3)"
   ]
  },
  {
   "cell_type": "code",
   "execution_count": null,
   "metadata": {
    "collapsed": true
   },
   "outputs": [],
   "source": [
    "start = time()\n",
    "random_search.fit(X_train, y_train)\n",
    "print(\"RandomizedSearchCV took %.2f seconds for %d candidates\"\n",
    "      \" parameter settings.\" % ((time() - start), n_iter_search))\n",
    "report(random_search.cv_results_)"
   ]
  },
  {
   "cell_type": "markdown",
   "metadata": {},
   "source": [
    "#### After completing the grid search we using a bagging methodology to smooth the outputs and include the hyperparameters from the grid search"
   ]
  },
  {
   "cell_type": "code",
   "execution_count": 225,
   "metadata": {
    "collapsed": true
   },
   "outputs": [],
   "source": [
    "# Random Forest\n",
    "\n",
    "rf_model = RandomForestClassifier(n_estimators=750,max_depth=15,max_features='sqrt',min_samples_split=11)\n",
    "bags = 10\n",
    "seed = 1\n",
    "\n",
    "rf_bagged_prediction = np.zeros(X_test.shape[0])\n",
    "\n",
    "for n in range(0,bags):\n",
    "    rf_model.set_params(random_state=seed + n)\n",
    "    rf_model.fit(X_train,y_train)\n",
    "    preds=rf_model.predict_proba(X_test)[:,1]\n",
    "    rf_bagged_prediction+=preds\n",
    "\n",
    "rf_bagged_prediction/=bags"
   ]
  },
  {
   "cell_type": "markdown",
   "metadata": {},
   "source": [
    "# Deep Learning Model\n",
    "\n",
    "\n",
    "I tested several different hyperparamaters (# of neurons, activation functions, dropout %, # of hidden layers). I settled on a model with 3 hidden layers and cascading neurons in each layer. I also found that using dropout (at 40% for each layer) resulted in a good amount of regularization. "
   ]
  },
  {
   "cell_type": "code",
   "execution_count": 226,
   "metadata": {},
   "outputs": [
    {
     "data": {
      "text/plain": [
       "(24205, 149)"
      ]
     },
     "execution_count": 226,
     "metadata": {},
     "output_type": "execute_result"
    }
   ],
   "source": [
    "# Importing the Keras libraries and packages\n",
    "import keras\n",
    "from keras.models import Sequential\n",
    "from keras.layers import Dense\n",
    "from keras.layers import Dropout\n",
    "# print shape to get the number of features for the input layer\n",
    "X_train.shape"
   ]
  },
  {
   "cell_type": "code",
   "execution_count": 227,
   "metadata": {
    "collapsed": true
   },
   "outputs": [],
   "source": [
    "# Initialising the ANN\n",
    "classifier = Sequential()\n",
    "# Adding the input layer and the first hidden layer\n",
    "# input_dim needs to match the shape of the data, hence input_dim=149\n",
    "classifier.add(Dense(units = 25, kernel_initializer = 'uniform', activation = 'tanh', input_dim = 149))\n",
    "classifier.add(Dropout(0.40))\n",
    "# Adding the second hidden layer\n",
    "classifier.add(Dense(units = 10, kernel_initializer = 'uniform', activation = 'tanh'))\n",
    "classifier.add(Dropout(0.40))\n",
    "# Adding the third hidden layer\n",
    "classifier.add(Dense(units = 5, kernel_initializer = 'uniform', activation = 'tanh'))\n",
    "classifier.add(Dropout(0.40))\n",
    "# Adding the output layer\n",
    "classifier.add(Dense(units = 1, kernel_initializer = 'uniform', activation = 'sigmoid'))\n",
    "# Compiling the ANN\n",
    "classifier.compile(optimizer = 'adam', loss = 'binary_crossentropy', metrics = ['accuracy'])"
   ]
  },
  {
   "cell_type": "code",
   "execution_count": 228,
   "metadata": {
    "scrolled": true
   },
   "outputs": [
    {
     "name": "stdout",
     "output_type": "stream",
     "text": [
      "Epoch 1/100\n",
      "24205/24205 [==============================] - 2s - loss: 0.5234 - acc: 0.7923     \n",
      "Epoch 2/100\n",
      "24205/24205 [==============================] - 1s - loss: 0.4163 - acc: 0.8266     \n",
      "Epoch 3/100\n",
      "24205/24205 [==============================] - 1s - loss: 0.4071 - acc: 0.8289     \n",
      "Epoch 4/100\n",
      "24205/24205 [==============================] - 1s - loss: 0.4003 - acc: 0.8268     \n",
      "Epoch 5/100\n",
      "24205/24205 [==============================] - 1s - loss: 0.3987 - acc: 0.8254     \n",
      "Epoch 6/100\n",
      "24205/24205 [==============================] - 1s - loss: 0.3964 - acc: 0.8266     \n",
      "Epoch 7/100\n",
      "24205/24205 [==============================] - 1s - loss: 0.3947 - acc: 0.8270     \n",
      "Epoch 8/100\n",
      "24205/24205 [==============================] - 1s - loss: 0.3905 - acc: 0.8271     \n",
      "Epoch 9/100\n",
      "24205/24205 [==============================] - 1s - loss: 0.3897 - acc: 0.8250     \n",
      "Epoch 10/100\n",
      "24205/24205 [==============================] - 1s - loss: 0.3891 - acc: 0.8255     \n",
      "Epoch 11/100\n",
      "24205/24205 [==============================] - 1s - loss: 0.3889 - acc: 0.8264     \n",
      "Epoch 12/100\n",
      "24205/24205 [==============================] - 1s - loss: 0.3876 - acc: 0.8276     \n",
      "Epoch 13/100\n",
      "24205/24205 [==============================] - 1s - loss: 0.3867 - acc: 0.8274     \n",
      "Epoch 14/100\n",
      "24205/24205 [==============================] - 1s - loss: 0.3867 - acc: 0.8273     \n",
      "Epoch 15/100\n",
      "24205/24205 [==============================] - 1s - loss: 0.3884 - acc: 0.8254     \n",
      "Epoch 16/100\n",
      "24205/24205 [==============================] - 1s - loss: 0.3855 - acc: 0.8254     \n",
      "Epoch 17/100\n",
      "24205/24205 [==============================] - 1s - loss: 0.3857 - acc: 0.8259     \n",
      "Epoch 18/100\n",
      "24205/24205 [==============================] - 1s - loss: 0.3856 - acc: 0.8257     \n",
      "Epoch 19/100\n",
      "24205/24205 [==============================] - 1s - loss: 0.3837 - acc: 0.8267     \n",
      "Epoch 20/100\n",
      "24205/24205 [==============================] - 1s - loss: 0.3810 - acc: 0.8290     \n",
      "Epoch 21/100\n",
      "24205/24205 [==============================] - 1s - loss: 0.3849 - acc: 0.8271     \n",
      "Epoch 22/100\n",
      "24205/24205 [==============================] - 1s - loss: 0.3851 - acc: 0.8245     \n",
      "Epoch 23/100\n",
      "24205/24205 [==============================] - 1s - loss: 0.3832 - acc: 0.8265     \n",
      "Epoch 24/100\n",
      "24205/24205 [==============================] - 1s - loss: 0.3851 - acc: 0.8236     \n",
      "Epoch 25/100\n",
      "24205/24205 [==============================] - 1s - loss: 0.3813 - acc: 0.8276     \n",
      "Epoch 26/100\n",
      "24205/24205 [==============================] - 1s - loss: 0.3825 - acc: 0.8269     \n",
      "Epoch 27/100\n",
      "24205/24205 [==============================] - 1s - loss: 0.3815 - acc: 0.8273     \n",
      "Epoch 28/100\n",
      "24205/24205 [==============================] - 1s - loss: 0.3787 - acc: 0.8285     \n",
      "Epoch 29/100\n",
      "24205/24205 [==============================] - 1s - loss: 0.3808 - acc: 0.8284     \n",
      "Epoch 30/100\n",
      "24205/24205 [==============================] - 1s - loss: 0.3807 - acc: 0.8276     \n",
      "Epoch 31/100\n",
      "24205/24205 [==============================] - 1s - loss: 0.3793 - acc: 0.8272     \n",
      "Epoch 32/100\n",
      "24205/24205 [==============================] - 1s - loss: 0.3791 - acc: 0.8288     \n",
      "Epoch 33/100\n",
      "24205/24205 [==============================] - 1s - loss: 0.3792 - acc: 0.8282     \n",
      "Epoch 34/100\n",
      "24205/24205 [==============================] - 1s - loss: 0.3800 - acc: 0.8277     \n",
      "Epoch 35/100\n",
      "24205/24205 [==============================] - 1s - loss: 0.3783 - acc: 0.8279     \n",
      "Epoch 36/100\n",
      "24205/24205 [==============================] - 1s - loss: 0.3767 - acc: 0.8304     \n",
      "Epoch 37/100\n",
      "24205/24205 [==============================] - 1s - loss: 0.3789 - acc: 0.8274     \n",
      "Epoch 38/100\n",
      "24205/24205 [==============================] - 1s - loss: 0.3774 - acc: 0.8284     \n",
      "Epoch 39/100\n",
      "24205/24205 [==============================] - 1s - loss: 0.3760 - acc: 0.8290     \n",
      "Epoch 40/100\n",
      "24205/24205 [==============================] - 1s - loss: 0.3773 - acc: 0.8284     \n",
      "Epoch 41/100\n",
      "24205/24205 [==============================] - 1s - loss: 0.3756 - acc: 0.8288     \n",
      "Epoch 42/100\n",
      "24205/24205 [==============================] - 1s - loss: 0.3782 - acc: 0.8282     \n",
      "Epoch 43/100\n",
      "24205/24205 [==============================] - 1s - loss: 0.3759 - acc: 0.8298     \n",
      "Epoch 44/100\n",
      "24205/24205 [==============================] - 1s - loss: 0.3735 - acc: 0.8301     \n",
      "Epoch 45/100\n",
      "24205/24205 [==============================] - 1s - loss: 0.3768 - acc: 0.8262     \n",
      "Epoch 46/100\n",
      "24205/24205 [==============================] - 1s - loss: 0.3760 - acc: 0.8295     \n",
      "Epoch 47/100\n",
      "24205/24205 [==============================] - 1s - loss: 0.3756 - acc: 0.8280     \n",
      "Epoch 48/100\n",
      "24205/24205 [==============================] - 1s - loss: 0.3737 - acc: 0.8307     \n",
      "Epoch 49/100\n",
      "24205/24205 [==============================] - 1s - loss: 0.3753 - acc: 0.8310     \n",
      "Epoch 50/100\n",
      "24205/24205 [==============================] - 1s - loss: 0.3766 - acc: 0.8279     \n",
      "Epoch 51/100\n",
      "24205/24205 [==============================] - 1s - loss: 0.3731 - acc: 0.8322     \n",
      "Epoch 52/100\n",
      "24205/24205 [==============================] - 1s - loss: 0.3760 - acc: 0.8280     \n",
      "Epoch 53/100\n",
      "24205/24205 [==============================] - 1s - loss: 0.3729 - acc: 0.8299     \n",
      "Epoch 54/100\n",
      "24205/24205 [==============================] - 1s - loss: 0.3755 - acc: 0.8307     \n",
      "Epoch 55/100\n",
      "24205/24205 [==============================] - 1s - loss: 0.3719 - acc: 0.8327     \n",
      "Epoch 56/100\n",
      "24205/24205 [==============================] - 1s - loss: 0.3733 - acc: 0.8330     \n",
      "Epoch 57/100\n",
      "24205/24205 [==============================] - 1s - loss: 0.3743 - acc: 0.8297     \n",
      "Epoch 58/100\n",
      "24205/24205 [==============================] - 1s - loss: 0.3719 - acc: 0.8266     \n",
      "Epoch 59/100\n",
      "24205/24205 [==============================] - 1s - loss: 0.3731 - acc: 0.8297     \n",
      "Epoch 60/100\n",
      "24205/24205 [==============================] - 1s - loss: 0.3724 - acc: 0.8309     \n",
      "Epoch 61/100\n",
      "24205/24205 [==============================] - 1s - loss: 0.3726 - acc: 0.8307     \n",
      "Epoch 62/100\n",
      "24205/24205 [==============================] - 1s - loss: 0.3709 - acc: 0.8333     \n",
      "Epoch 63/100\n",
      "24205/24205 [==============================] - 1s - loss: 0.3707 - acc: 0.8307     \n",
      "Epoch 64/100\n",
      "24205/24205 [==============================] - 1s - loss: 0.3720 - acc: 0.8302     \n",
      "Epoch 65/100\n",
      "24205/24205 [==============================] - 1s - loss: 0.3715 - acc: 0.8322     \n",
      "Epoch 66/100\n",
      "24205/24205 [==============================] - 1s - loss: 0.3727 - acc: 0.8300     \n",
      "Epoch 67/100\n",
      "24205/24205 [==============================] - 1s - loss: 0.3704 - acc: 0.8316     \n",
      "Epoch 68/100\n",
      "24205/24205 [==============================] - 1s - loss: 0.3699 - acc: 0.8326     \n",
      "Epoch 69/100\n",
      "24205/24205 [==============================] - 1s - loss: 0.3729 - acc: 0.8311     \n",
      "Epoch 70/100\n",
      "24205/24205 [==============================] - 1s - loss: 0.3732 - acc: 0.8299     \n",
      "Epoch 71/100\n",
      "24205/24205 [==============================] - 1s - loss: 0.3691 - acc: 0.8331     \n",
      "Epoch 72/100\n",
      "24205/24205 [==============================] - 1s - loss: 0.3698 - acc: 0.8306     \n",
      "Epoch 73/100\n",
      "24205/24205 [==============================] - 1s - loss: 0.3682 - acc: 0.8332     \n",
      "Epoch 74/100\n",
      "24205/24205 [==============================] - 1s - loss: 0.3700 - acc: 0.8316     \n",
      "Epoch 75/100\n",
      "24205/24205 [==============================] - 1s - loss: 0.3672 - acc: 0.8338     \n",
      "Epoch 76/100\n",
      "24205/24205 [==============================] - 1s - loss: 0.3689 - acc: 0.8314     \n",
      "Epoch 77/100\n",
      "24205/24205 [==============================] - 1s - loss: 0.3690 - acc: 0.8310     \n",
      "Epoch 78/100\n",
      "24205/24205 [==============================] - 1s - loss: 0.3691 - acc: 0.8323     \n",
      "Epoch 79/100\n",
      "24205/24205 [==============================] - 1s - loss: 0.3660 - acc: 0.8332     \n",
      "Epoch 80/100\n",
      "24205/24205 [==============================] - 1s - loss: 0.3688 - acc: 0.8325     \n",
      "Epoch 81/100\n",
      "24205/24205 [==============================] - 1s - loss: 0.3688 - acc: 0.8325     \n",
      "Epoch 82/100\n",
      "24205/24205 [==============================] - 1s - loss: 0.3705 - acc: 0.8319     \n",
      "Epoch 83/100\n",
      "24205/24205 [==============================] - 1s - loss: 0.3664 - acc: 0.8324     \n",
      "Epoch 84/100\n",
      "24205/24205 [==============================] - 1s - loss: 0.3663 - acc: 0.8345     \n",
      "Epoch 85/100\n",
      "24205/24205 [==============================] - 1s - loss: 0.3672 - acc: 0.8333     \n",
      "Epoch 86/100\n",
      "24205/24205 [==============================] - 1s - loss: 0.3701 - acc: 0.8323     \n",
      "Epoch 87/100\n",
      "24205/24205 [==============================] - 1s - loss: 0.3671 - acc: 0.8325     \n",
      "Epoch 88/100\n",
      "24205/24205 [==============================] - 1s - loss: 0.3656 - acc: 0.8320     \n",
      "Epoch 89/100\n",
      "24205/24205 [==============================] - 1s - loss: 0.3666 - acc: 0.8343     \n",
      "Epoch 90/100\n",
      "24205/24205 [==============================] - 1s - loss: 0.3654 - acc: 0.8328     \n",
      "Epoch 91/100\n",
      "24205/24205 [==============================] - 1s - loss: 0.3664 - acc: 0.8342     \n",
      "Epoch 92/100\n",
      "24205/24205 [==============================] - 1s - loss: 0.3634 - acc: 0.8370     \n",
      "Epoch 93/100\n",
      "24205/24205 [==============================] - 1s - loss: 0.3670 - acc: 0.8340     \n",
      "Epoch 94/100\n",
      "24205/24205 [==============================] - 1s - loss: 0.3694 - acc: 0.8326     \n",
      "Epoch 95/100\n",
      "24205/24205 [==============================] - 1s - loss: 0.3688 - acc: 0.8289     \n",
      "Epoch 96/100\n",
      "24205/24205 [==============================] - 1s - loss: 0.3662 - acc: 0.8328     \n",
      "Epoch 97/100\n",
      "24205/24205 [==============================] - 1s - loss: 0.3670 - acc: 0.8340     \n",
      "Epoch 98/100\n",
      "24205/24205 [==============================] - 1s - loss: 0.3659 - acc: 0.8338     \n",
      "Epoch 99/100\n",
      "24205/24205 [==============================] - 1s - loss: 0.3667 - acc: 0.8344     \n",
      "Epoch 100/100\n",
      "24205/24205 [==============================] - 1s - loss: 0.3659 - acc: 0.8338     \n"
     ]
    },
    {
     "data": {
      "text/plain": [
       "<keras.callbacks.History at 0x128c5b390>"
      ]
     },
     "execution_count": 228,
     "metadata": {},
     "output_type": "execute_result"
    }
   ],
   "source": [
    "# Fitting the ANN to the Training set\n",
    "classifier.fit(X_train, y_train, batch_size = 64, epochs = 100)"
   ]
  },
  {
   "cell_type": "code",
   "execution_count": 229,
   "metadata": {
    "collapsed": true
   },
   "outputs": [],
   "source": [
    "ANN_test = classifier.predict(X_test)"
   ]
  },
  {
   "cell_type": "code",
   "execution_count": 230,
   "metadata": {
    "collapsed": true
   },
   "outputs": [],
   "source": [
    "# reshape the ANN to be the same shape as the other models\n",
    "ANN_test = np.reshape(ANN_test,(8091,))"
   ]
  },
  {
   "cell_type": "markdown",
   "metadata": {},
   "source": [
    "# Feature Importances\n",
    "\n",
    "Specific to XGBoost"
   ]
  },
  {
   "cell_type": "code",
   "execution_count": null,
   "metadata": {
    "collapsed": true
   },
   "outputs": [],
   "source": [
    "feats = {} # a dict to hold feature_name: feature_importance\n",
    "for feature, importance in zip(X_train.columns, xgb.feature_importances_):\n",
    "    feats[feature] = importance #add the name/value pair \n",
    "\n",
    "importances = pd.DataFrame.from_dict(feats, orient='index').rename(columns={0: 'Gini-importance'})\n",
    "from pylab import rcParams\n",
    "rcParams['figure.figsize']=24,10\n",
    "figure = importances.sort_values(by='Gini-importance').iloc[-15:,:].plot(kind='bar', rot=45)"
   ]
  },
  {
   "cell_type": "markdown",
   "metadata": {},
   "source": [
    "# Put the features together in one numpy array and then turn that numpy array into a dataframe with the column names for each model"
   ]
  },
  {
   "cell_type": "code",
   "execution_count": 231,
   "metadata": {
    "collapsed": true
   },
   "outputs": [],
   "source": [
    "stacked_test_features = np.column_stack((xgb_bagged_prediction,rf_bagged_prediction,lgbm_bagged_prediction,ANN_test))\n",
    "stacked_test_df = pd.DataFrame(stacked_test_features, columns=['XGB','RF','LGBM', 'ANN'])"
   ]
  },
  {
   "cell_type": "code",
   "execution_count": 232,
   "metadata": {
    "collapsed": true
   },
   "outputs": [],
   "source": [
    "stacked_test_df['Y_ExitProbability'] = ((stacked_test_df['XGB']*.35)+(stacked_test_df['LGBM']*.3)+\n",
    "                                        (stacked_test_df['RF']*.05)+\n",
    "                                        (stacked_test_df['ANN']*.3))"
   ]
  },
  {
   "cell_type": "code",
   "execution_count": 233,
   "metadata": {
    "collapsed": true
   },
   "outputs": [],
   "source": [
    "final_stack = np.column_stack((test['Global_ID'],stacked_test_df['Y_ExitProbability']))"
   ]
  },
  {
   "cell_type": "markdown",
   "metadata": {},
   "source": [
    "Next we want to get an idea of the distribution of the predictions\n",
    "\n",
    "- The mean probability was just over 18.5% which is in line with the turnover in the training set.\n",
    "- The distribution has a lot near zero and cascades downwards, which would we expect. \n",
    "- If we assign a cutoff of 0.5 and examine the number of people with probabilities above that we see 782, which is a little low, but still a decent amount of people. "
   ]
  },
  {
   "cell_type": "code",
   "execution_count": 39,
   "metadata": {},
   "outputs": [
    {
     "data": {
      "text/html": [
       "<div>\n",
       "<style>\n",
       "    .dataframe thead tr:only-child th {\n",
       "        text-align: right;\n",
       "    }\n",
       "\n",
       "    .dataframe thead th {\n",
       "        text-align: left;\n",
       "    }\n",
       "\n",
       "    .dataframe tbody tr th {\n",
       "        vertical-align: top;\n",
       "    }\n",
       "</style>\n",
       "<table border=\"1\" class=\"dataframe\">\n",
       "  <thead>\n",
       "    <tr style=\"text-align: right;\">\n",
       "      <th></th>\n",
       "      <th>Global_ID</th>\n",
       "      <th>Y_ExitProbability</th>\n",
       "    </tr>\n",
       "  </thead>\n",
       "  <tbody>\n",
       "    <tr>\n",
       "      <th>count</th>\n",
       "      <td>8.091000e+03</td>\n",
       "      <td>8091.000000</td>\n",
       "    </tr>\n",
       "    <tr>\n",
       "      <th>mean</th>\n",
       "      <td>1.088606e+06</td>\n",
       "      <td>0.185228</td>\n",
       "    </tr>\n",
       "    <tr>\n",
       "      <th>std</th>\n",
       "      <td>1.004817e+06</td>\n",
       "      <td>0.183492</td>\n",
       "    </tr>\n",
       "    <tr>\n",
       "      <th>min</th>\n",
       "      <td>7.061000e+03</td>\n",
       "      <td>0.011227</td>\n",
       "    </tr>\n",
       "    <tr>\n",
       "      <th>25%</th>\n",
       "      <td>1.096690e+05</td>\n",
       "      <td>0.041824</td>\n",
       "    </tr>\n",
       "    <tr>\n",
       "      <th>50%</th>\n",
       "      <td>8.025910e+05</td>\n",
       "      <td>0.110269</td>\n",
       "    </tr>\n",
       "    <tr>\n",
       "      <th>75%</th>\n",
       "      <td>2.058672e+06</td>\n",
       "      <td>0.279188</td>\n",
       "    </tr>\n",
       "    <tr>\n",
       "      <th>max</th>\n",
       "      <td>8.506159e+06</td>\n",
       "      <td>0.858831</td>\n",
       "    </tr>\n",
       "  </tbody>\n",
       "</table>\n",
       "</div>"
      ],
      "text/plain": [
       "          Global_ID  Y_ExitProbability\n",
       "count  8.091000e+03        8091.000000\n",
       "mean   1.088606e+06           0.185228\n",
       "std    1.004817e+06           0.183492\n",
       "min    7.061000e+03           0.011227\n",
       "25%    1.096690e+05           0.041824\n",
       "50%    8.025910e+05           0.110269\n",
       "75%    2.058672e+06           0.279188\n",
       "max    8.506159e+06           0.858831"
      ]
     },
     "execution_count": 39,
     "metadata": {},
     "output_type": "execute_result"
    }
   ],
   "source": [
    "final_stack_df = pd.DataFrame(final_stack, columns = ['Global_ID','Y_ExitProbability'])\n",
    "final_stack_df.describe()"
   ]
  },
  {
   "cell_type": "code",
   "execution_count": 238,
   "metadata": {
    "collapsed": true
   },
   "outputs": [],
   "source": [
    "Submission_30 = final_stack_df"
   ]
  },
  {
   "cell_type": "code",
   "execution_count": 41,
   "metadata": {},
   "outputs": [
    {
     "data": {
      "text/plain": [
       "<matplotlib.axes._subplots.AxesSubplot at 0x127615898>"
      ]
     },
     "execution_count": 41,
     "metadata": {},
     "output_type": "execute_result"
    },
    {
     "data": {
      "image/png": "[encoded data removed]",
      "text/plain": [
       "<matplotlib.figure.Figure at 0x127612f60>"
      ]
     },
     "metadata": {},
     "output_type": "display_data"
    }
   ],
   "source": [
    "sns.distplot(Submission_30['Y_ExitProbability'], bins=20, kde=False)"
   ]
  },
  {
   "cell_type": "code",
   "execution_count": 239,
   "metadata": {},
   "outputs": [
    {
     "name": "stdout",
     "output_type": "stream",
     "text": [
      "Number of people with predicted probabilities above 0.5: 782\n"
     ]
    }
   ],
   "source": [
    "print('Number of people with predicted probabilities above 0.5:',\n",
    "      np.count_nonzero(Submission_30['Y_ExitProbability'][Submission_30['Y_ExitProbability']>=0.50]))"
   ]
  },
  {
   "cell_type": "code",
   "execution_count": 192,
   "metadata": {
    "collapsed": true
   },
   "outputs": [],
   "source": [
    "Submission_30.to_csv('AnEnrichingMeal022618_Entry30.csv',index=False)"
   ]
  },
  {
   "cell_type": "markdown",
   "metadata": {},
   "source": [
    "# Correlation Matrix of the probabilities from each model"
   ]
  },
  {
   "cell_type": "code",
   "execution_count": 44,
   "metadata": {},
   "outputs": [
    {
     "data": {
      "image/png": "[encoded data removed]",
      "text/plain": [
       "<matplotlib.figure.Figure at 0x12764aef0>"
      ]
     },
     "metadata": {},
     "output_type": "display_data"
    }
   ],
   "source": [
    "df = pd.DataFrame({'XGBoost': xgb_bagged_prediction,'Rand_For':rf_bagged_prediction,'LGBM':lgbm_bagged_prediction,\n",
    "                   'ANN':ANN_test})\n",
    "\n",
    "sns.heatmap(df.corr(),annot=True);"
   ]
  }
 ],
 "metadata": {
  "kernelspec": {
   "display_name": "Python 3",
   "language": "python",
   "name": "python3"
  },
  "language_info": {
   "codemirror_mode": {
    "name": "ipython",
    "version": 3
   },
   "file_extension": ".py",
   "mimetype": "text/x-python",
   "name": "python",
   "nbconvert_exporter": "python",
   "pygments_lexer": "ipython3",
   "version": "3.6.1"
  }
 },
 "nbformat": 4,
 "nbformat_minor": 2
}
