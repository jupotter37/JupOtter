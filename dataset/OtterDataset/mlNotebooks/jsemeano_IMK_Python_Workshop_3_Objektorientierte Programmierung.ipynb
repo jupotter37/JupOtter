{
 "cells": [
  {
   "cell_type": "markdown",
   "id": "120efd46-545f-4287-a83e-390ae75cc271",
   "metadata": {},
   "source": [
    "# Objektorientierte Programmierung"
   ]
  },
  {
   "cell_type": "markdown",
   "id": "b82df05c-0fa7-4d57-9938-fc587673db48",
   "metadata": {},
   "source": [
    "[Objektorientierte Programmierung](https://anandology.com/python-practice-book/object_oriented_programming.html)"
   ]
  },
  {
   "cell_type": "markdown",
   "id": "9ba2199a-19a4-430b-ae08-3c06cc10d0e6",
   "metadata": {},
   "source": [
    "Die objektorientierte Programmierung (OOP) ist ein Programmierparadigma, das auf dem Konzept von \"Objekten\" basiert, die Daten und Methoden zur Verarbeitung dieser Daten enthalten. OOP fördert die Modellierung von Programmen als Zusammenstellung von Objekten, die miteinander interagieren, um komplexe Probleme zu lösen. Die Vorteile von OOP umfassen die Wiederverwendbarkeit von Code, Modularität zur einfachen Wartung und Skalierbarkeit von Programmen sowie Abstraktion, um komplexe Systeme zu vereinfachen und den Fokus auf wesentliche Details zu lenken."
   ]
  },
  {
   "cell_type": "markdown",
   "id": "607691d0-44d3-4275-b461-7a8aaefee3d4",
   "metadata": {},
   "source": [
    "##  1 - Classes"
   ]
  },
  {
   "cell_type": "markdown",
   "id": "ff58bbe1-f085-4da9-b7ce-9a89ab473751",
   "metadata": {},
   "source": [
    "Klassen sind die Blaupausen für die Erstellung von Objekten, die Instanzen einer Klasse sind. \n",
    "<img src=\"bilder/cookie_cutter.webp\"  width=\"400\" height=\"200\"  title=\"Klassen und Objekte\">"
   ]
  },
  {
   "cell_type": "markdown",
   "id": "7d7d22ab-a9bb-4191-9ee3-eee99c3628af",
   "metadata": {},
   "source": [
    "Klassen sind die **Ausstechform** und Objekte der entsprechender **Keks**.<br>\n",
    "Wie Funktionen, Klassen können Parameter haben. Z.B. ein Parameter kann entscheiden wie größ der Keks wird.\n"
   ]
  },
  {
   "cell_type": "code",
   "execution_count": 1,
   "id": "d33c9a6d-a68d-402f-98aa-428a9e8adeb1",
   "metadata": {},
   "outputs": [],
   "source": [
    "\n",
    "        "
   ]
  },
  {
   "cell_type": "markdown",
   "id": "7a177606-8a8b-44ad-bb41-cfba8fb26d72",
   "metadata": {},
   "source": [
    "- **```self```** als Referenz: In Python wird ```self``` als Referenz auf die Instanz der Klasse selbst verwendet. Wenn eine Methode auf ein Objekt aufgerufen wird, gibt das Objekt automatisch sich selbst als ersten Parameter an die Methode weiter.\n",
    "\n",
    "- **Zugriff auf Attribute und Methoden**: Innerhalb einer Klassenmethode verwendet man ```self```, um Instanzvariablen (Attribute) und andere Methoden der Klasse aufzurufen. Zum Beispiel ruft <ins>```self.attribute``` eine Instanzvariable</ins> auf und <ins>```self.method()``` ruft eine andere Methode der Klasse auf</ins>.\n",
    "\n",
    "- **Instanzspezifische Operationen**: ```self``` ermöglicht es Instanzmethoden, auf die spezifische Instanz der Klasse zuzugreifen, auf der sie aufgerufen werden. Dies ermöglicht es jeder Instanz, ihren eigenen Zustand und ihr eigenes Verhalten unabhängig von anderen Instanzen zu halten.\n",
    "\n",
    "- **Class constructor** : Die ```__init__``` Methode ist Pflicht in alle Klassen.\n",
    "        Sie wird aufgeruft jedes Mal eine neue Instanz von der Klass ergestellt wird.\n",
    "        Es definiert die Parameter, die für die Klass benötigt werden\n"
   ]
  },
  {
   "cell_type": "code",
   "execution_count": 2,
   "id": "7deb17de-dea3-4889-a93b-5298395279db",
   "metadata": {},
   "outputs": [],
   "source": [
    "# Eine Instanz erstellen\n",
    "vw = Auto(2000,3)"
   ]
  },
  {
   "cell_type": "code",
   "execution_count": 3,
   "id": "8525a2fc-4290-4075-881a-9d3c862408c2",
   "metadata": {},
   "outputs": [
    {
     "data": {
      "text/plain": [
       "2000"
      ]
     },
     "execution_count": 3,
     "metadata": {},
     "output_type": "execute_result"
    }
   ],
   "source": [
    "# Das Attribut einer Instanz lesen\n",
    "vw.motor"
   ]
  },
  {
   "cell_type": "code",
   "execution_count": 4,
   "id": "070d09eb-32b0-4681-b42c-f2e5c6ebd030",
   "metadata": {},
   "outputs": [
    {
     "data": {
      "text/plain": [
       "3"
      ]
     },
     "execution_count": 4,
     "metadata": {},
     "output_type": "execute_result"
    }
   ],
   "source": [
    "vw.tuer"
   ]
  },
  {
   "cell_type": "markdown",
   "id": "9fe40e85-3531-4042-8115-64a16daf49d4",
   "metadata": {},
   "source": [
    "Lassuns zwei Methoden in unserer Klasse erstellen: \n",
    "- eine Preisberechnung ```preis_rechnen```\n",
    "- eine Preisbeschreibung ```preis_drücken```"
   ]
  },
  {
   "cell_type": "code",
   "execution_count": 5,
   "id": "78ce7d67-8dfa-4e18-94f6-62188d8a1a30",
   "metadata": {},
   "outputs": [],
   "source": [
    "class Auto:\n",
    "    \"\"\"\n",
    "    Diese Klasse repräsentiert ein Auto\n",
    "    \"\"\"\n",
    "    def __init__(self,motor,tuer):\n",
    "        \"\"\"\n",
    "        Class constructor\n",
    "        \"\"\"\n",
    "        self.motor = motor # Attribut: Daten, die sich auf die spezifisch erstellte Instanz beziehen\n",
    "        self.tuer = tuer\n",
    "\n",
    "\n",
    "    def preis_rechnen(self):\n",
    "        \"\"\"\n",
    "        Class method: Eine Funktion, die der Klass Instanz modifiziert\n",
    "        In diesem Fall, wie werden der Motor und Tür Attribute nutzen, um ein Preis zu kalkulieren\n",
    "        \"\"\"\n",
    "        self.preis = self.motor*10+self.tuer*200\n",
    "\n",
    "    def preis_drücken(self):\n",
    "        print(f\"Ein Auto mit einem {self.motor}cc Motor und {self.tuer} Türe kostet {self.preis}€.\")"
   ]
  },
  {
   "cell_type": "markdown",
   "id": "78c872f4-d4ac-4057-890b-4596d9ebc357",
   "metadata": {},
   "source": [
    "Wir müssen die ```vw``` Instanz wiedererstellen, damit die 2 Methoden auch verfügbar sind."
   ]
  },
  {
   "cell_type": "code",
   "execution_count": 8,
   "id": "6677a3c8-6dc2-4b9b-8998-c0d439b4daf0",
   "metadata": {},
   "outputs": [],
   "source": [
    "vw = Auto(2000,3)"
   ]
  },
  {
   "cell_type": "code",
   "execution_count": 9,
   "id": "cae4e72d-bcbb-48b5-9cdc-a0ed4f6f8063",
   "metadata": {},
   "outputs": [
    {
     "data": {
      "text/plain": [
       "2000"
      ]
     },
     "execution_count": 9,
     "metadata": {},
     "output_type": "execute_result"
    }
   ],
   "source": [
    "vw.motor"
   ]
  },
  {
   "cell_type": "code",
   "execution_count": 10,
   "id": "8c20673c-a685-4e5d-93e4-5f792c60355c",
   "metadata": {},
   "outputs": [
    {
     "ename": "AttributeError",
     "evalue": "'Auto' object has no attribute 'preis'",
     "output_type": "error",
     "traceback": [
      "\u001b[0;31m---------------------------------------------------------------------------\u001b[0m",
      "\u001b[0;31mAttributeError\u001b[0m                            Traceback (most recent call last)",
      "Cell \u001b[0;32mIn[10], line 1\u001b[0m\n\u001b[0;32m----> 1\u001b[0m \u001b[43mvw\u001b[49m\u001b[38;5;241;43m.\u001b[39;49m\u001b[43mpreis\u001b[49m\n",
      "\u001b[0;31mAttributeError\u001b[0m: 'Auto' object has no attribute 'preis'"
     ]
    }
   ],
   "source": [
    "vw.preis"
   ]
  },
  {
   "cell_type": "code",
   "execution_count": 11,
   "id": "27fc5b07-166a-4d82-abc3-c479142f8384",
   "metadata": {},
   "outputs": [],
   "source": [
    "vw.preis_rechnen()"
   ]
  },
  {
   "cell_type": "code",
   "execution_count": 12,
   "id": "a8b65799-7168-43e9-8c83-4b5f2ed093a8",
   "metadata": {},
   "outputs": [
    {
     "data": {
      "text/plain": [
       "20600"
      ]
     },
     "execution_count": 12,
     "metadata": {},
     "output_type": "execute_result"
    }
   ],
   "source": [
    "vw.preis"
   ]
  },
  {
   "cell_type": "code",
   "execution_count": 13,
   "id": "cb651b67-1d6a-407a-8faf-894ea16f156e",
   "metadata": {},
   "outputs": [],
   "source": [
    "ferrari = Auto(6000,2)"
   ]
  },
  {
   "cell_type": "code",
   "execution_count": 14,
   "id": "2354305e-edd5-49c8-812b-99d411017800",
   "metadata": {},
   "outputs": [],
   "source": [
    "ferrari.preis_rechnen()"
   ]
  },
  {
   "cell_type": "code",
   "execution_count": 15,
   "id": "a6655ceb-c3b1-4193-a423-7d80f0e1e548",
   "metadata": {},
   "outputs": [
    {
     "data": {
      "text/plain": [
       "60400"
      ]
     },
     "execution_count": 15,
     "metadata": {},
     "output_type": "execute_result"
    }
   ],
   "source": [
    "ferrari.preis"
   ]
  },
  {
   "cell_type": "markdown",
   "id": "810984bc-7709-4f65-bb04-45e4b722e2cc",
   "metadata": {},
   "source": [
    "Warum können wir nicht den Ergebniss zu ein externe Variable zushcreiben?"
   ]
  },
  {
   "cell_type": "code",
   "execution_count": 16,
   "id": "3eb2e6d5-09f0-4568-b6d3-d68776428cb4",
   "metadata": {},
   "outputs": [],
   "source": [
    "a = ferrari.preis_rechnen()\n",
    "a"
   ]
  },
  {
   "cell_type": "code",
   "execution_count": null,
   "id": "98e6c454-c639-4a67-a7c6-2b1ac34f971a",
   "metadata": {},
   "outputs": [],
   "source": []
  },
  {
   "cell_type": "code",
   "execution_count": null,
   "id": "a57616f9-ec86-41c5-ae6d-8c7d7ee3ca50",
   "metadata": {},
   "outputs": [],
   "source": []
  },
  {
   "cell_type": "code",
   "execution_count": null,
   "id": "af52cb6d-a730-4ce8-baf5-19b0916588ec",
   "metadata": {},
   "outputs": [],
   "source": [
    "a = ferrari.preis_rechnen()\n",
    "a"
   ]
  },
  {
   "cell_type": "markdown",
   "id": "17bb0f81-f31a-4146-98a2-2a78d96a2812",
   "metadata": {},
   "source": [
    "**Superklassen**<br>\n",
    "Eine Klasse kann Eigenschaften von eine andere erben.\n",
    "Es behaltet alle Parameter und Methoden von der Superklasse, und kann zusätzliche Parameter und Methoden haben.\n",
    "Falls eine Methode gleich gennant ist, es überschreibt die originale Methode"
   ]
  },
  {
   "cell_type": "code",
   "execution_count": 63,
   "id": "9569a82c-2c0e-498e-bea6-a963de04cd71",
   "metadata": {},
   "outputs": [],
   "source": []
  },
  {
   "cell_type": "code",
   "execution_count": 65,
   "id": "82967868-f3ab-4a9d-b408-92bbcfdbc176",
   "metadata": {},
   "outputs": [],
   "source": [
    "ferrari = SportAuto(6000,2, 'rot')"
   ]
  },
  {
   "cell_type": "code",
   "execution_count": 66,
   "id": "59ad795b-893f-42da-a789-c53dcebec961",
   "metadata": {},
   "outputs": [
    {
     "data": {
      "text/plain": [
       "180800"
      ]
     },
     "execution_count": 66,
     "metadata": {},
     "output_type": "execute_result"
    }
   ],
   "source": [
    "ferrari.preis_rechnen()"
   ]
  },
  {
   "cell_type": "code",
   "execution_count": 67,
   "id": "ae5902d3-7ede-468a-be29-71f68b9a7619",
   "metadata": {},
   "outputs": [
    {
     "name": "stdout",
     "output_type": "stream",
     "text": [
      "Ein Auto mit einem 6000 cc und 2 Türe kostet 180800€.\n"
     ]
    }
   ],
   "source": [
    "ferrari.preis_drücken()"
   ]
  },
  {
   "cell_type": "markdown",
   "id": "b7acfc97-7495-4b29-81ca-b205e12698d7",
   "metadata": {},
   "source": [
    "**Polymorphism**<br>\n",
    "Wenn verschiedene Klassen ein gleich genannte Method haben, diese können mit dem <ins>gleichen Befehl</ins> aufgeruft werden!"
   ]
  },
  {
   "cell_type": "code",
   "execution_count": 68,
   "id": "aa7fad57-b306-49ff-912a-0005861b72f3",
   "metadata": {},
   "outputs": [],
   "source": [
    "def zeig_preis(Auto):\n",
    "    print(Auto.preis_rechnen())"
   ]
  },
  {
   "cell_type": "code",
   "execution_count": 69,
   "id": "cbc7eb7d-4cb1-4adf-8200-0815a49e46b0",
   "metadata": {},
   "outputs": [
    {
     "name": "stdout",
     "output_type": "stream",
     "text": [
      "20600\n"
     ]
    }
   ],
   "source": [
    "vw = Auto(2000,3)\n",
    "zeig_preis(vw)"
   ]
  },
  {
   "cell_type": "code",
   "execution_count": 72,
   "id": "eb752574-c853-4fbc-ba80-68ae5fe1860f",
   "metadata": {},
   "outputs": [
    {
     "name": "stdout",
     "output_type": "stream",
     "text": [
      "180800\n"
     ]
    }
   ],
   "source": [
    "ferrari = SportAuto(6000,2, 'rot')\n",
    "zeig_preis(ferrari)"
   ]
  },
  {
   "cell_type": "markdown",
   "id": "261ccfb3-4db4-44e7-aafe-87073ce10150",
   "metadata": {},
   "source": [
    "<span style=\"font-size:1.3em;\">⚙️ <ins>Klasse Aufgabe</ins></span>\n",
    "\n",
    "Schreib eine Klasse, die ein Tier als Parameter annimmt (z.B. Katze oder Hund) und wenn die Methode ```sprechen``` aufgerufen wird, den entsprechenden Klang ausgibt.\n",
    "\n"
   ]
  },
  {
   "cell_type": "code",
   "execution_count": null,
   "id": "034f3941-b6c1-4cf0-9d05-e2c1b71548ec",
   "metadata": {},
   "outputs": [],
   "source": []
  },
  {
   "cell_type": "markdown",
   "id": "e1af9193-c9ae-4b2c-8770-bfc43fedaa62",
   "metadata": {},
   "source": [
    "## Modules"
   ]
  },
  {
   "cell_type": "markdown",
   "id": "4ead6a13-6366-47c3-b755-b58d0724441f",
   "metadata": {},
   "source": [
    "Wenn unsere Programme größer und komplexer werden, wollen wir verschiedene Funktionen und Klassen in separaten Dateien innerhalb einer Ordnerstruktur aufbewahren. Diese Ordner nennt mann \"Module\""
   ]
  },
  {
   "cell_type": "code",
   "execution_count": 73,
   "id": "78286e4d-448e-4b73-b882-af9a32336899",
   "metadata": {},
   "outputs": [],
   "source": [
    "# Dieser \"magic\" Befehl weist jupyter lab an, die module automatisch zu aktualisieren. \n",
    "# Er ist sehr nützlich, während wir noch ein modul entwickeln\n",
    "%load_ext autoreload\n",
    "%autoreload 2"
   ]
  },
  {
   "cell_type": "markdown",
   "id": "2dd09a8d-fee5-42b8-a6b9-09ebfdfbb5fd",
   "metadata": {},
   "source": [
    "Damit ein Ordner als Modul verstanden wird, muss er eine Datei namens ```__init__.py``` enthalten. Die Datei ```__init__.py``` initialisiert das Paket und kann Initialisierungscode enthalten, wie z.B. die Einrichtung von Variablen auf Paketebene oder den Import von Untermodulen."
   ]
  },
  {
   "cell_type": "markdown",
   "id": "07d1a351-4075-4939-a3d1-c180ee61e705",
   "metadata": {},
   "source": [
    "Wir mussen auch explizit den Modulepfad zur PYTHONPATH einfügen:"
   ]
  },
  {
   "cell_type": "code",
   "execution_count": 2,
   "id": "4c5afb94-b1ba-4808-96b4-5431f3d05c8a",
   "metadata": {},
   "outputs": [],
   "source": [
    "import sys\n",
    "sys.path.append(\"/home/jsemeano/IMK_Python_Workshop/Tag_1\")\n"
   ]
  },
  {
   "cell_type": "code",
   "execution_count": 3,
   "id": "aade14cc-8021-47ff-b44d-5ab1b8263249",
   "metadata": {},
   "outputs": [],
   "source": [
    "from auto_nutzer import auto,sportauto"
   ]
  },
  {
   "cell_type": "code",
   "execution_count": 4,
   "id": "670b8452-2674-4b9f-9d24-3d9295d26848",
   "metadata": {},
   "outputs": [],
   "source": [
    "opel = auto.Auto(1500,3)"
   ]
  },
  {
   "cell_type": "code",
   "execution_count": 5,
   "id": "f7191415-f7e6-4839-bb43-1214ebb61791",
   "metadata": {},
   "outputs": [
    {
     "data": {
      "text/plain": [
       "15600"
      ]
     },
     "execution_count": 5,
     "metadata": {},
     "output_type": "execute_result"
    }
   ],
   "source": [
    "opel.preis_rechnen()"
   ]
  },
  {
   "cell_type": "code",
   "execution_count": 6,
   "id": "f7823d86-0ba0-42c2-8064-0dc2e30dd2dd",
   "metadata": {},
   "outputs": [
    {
     "data": {
      "text/plain": [
       "15600"
      ]
     },
     "execution_count": 6,
     "metadata": {},
     "output_type": "execute_result"
    }
   ],
   "source": [
    "opel.preis"
   ]
  },
  {
   "cell_type": "code",
   "execution_count": 7,
   "id": "f35a3252-f063-40f1-bc54-71bf2b9377d4",
   "metadata": {},
   "outputs": [],
   "source": [
    "bugatti = sportauto.SportAuto(5000,2,'schwarz')"
   ]
  },
  {
   "cell_type": "code",
   "execution_count": 8,
   "id": "81a3e4c0-63cd-4d37-bdc7-1c0aab3dd568",
   "metadata": {},
   "outputs": [
    {
     "data": {
      "text/plain": [
       "150800"
      ]
     },
     "execution_count": 8,
     "metadata": {},
     "output_type": "execute_result"
    }
   ],
   "source": [
    "bugatti.preis_rechnen()"
   ]
  },
  {
   "cell_type": "code",
   "execution_count": 9,
   "id": "6ad9075c-2907-49b8-936c-0bb08f3a3970",
   "metadata": {},
   "outputs": [
    {
     "name": "stdout",
     "output_type": "stream",
     "text": [
      "Ein Auto mit einem 5000 cc Motor und 2 Türe kostet 150800€.\n"
     ]
    }
   ],
   "source": [
    "bugatti.preis_drücken()"
   ]
  },
  {
   "cell_type": "markdown",
   "id": "14a3eb01-ed5b-426f-9d2d-fe653395dfa4",
   "metadata": {},
   "source": [
    "<span style=\"font-size:1.3em;\">⚙️ <ins>Module Aufgabe</ins></span>\n",
    "\n",
    "Verwandel die ```tier```-Klasse in ein eigenständiges Modul"
   ]
  },
  {
   "cell_type": "code",
   "execution_count": null,
   "id": "b6925c04-9b9d-4d74-a5c0-d1c6ddd69737",
   "metadata": {},
   "outputs": [],
   "source": []
  },
  {
   "cell_type": "markdown",
   "id": "e8addb5e-c4d2-4483-a1eb-75870af83a31",
   "metadata": {},
   "source": [
    "## Libraries"
   ]
  },
  {
   "cell_type": "markdown",
   "id": "f0600f0c-5fbf-46bf-a87f-8976a920ed20",
   "metadata": {},
   "source": [
    "Libraries sind Modules, von anderen Programmierer erstellt. <br>\n",
    "Sie deffinieren Ihre eigenen Klassen und Funktionen, und teilen es in einem Code-Depot, meistens ```pip``` (Python Package Installer) oder [GitHub](https://github.com/).<br>\n",
    "Viele Libraries sind von Unternehmen erstellt, und haben eigene Webseiten mit \"User Guides\" und \"Help\" Sektionen.<br>\n",
    "<br>\n",
    "Besonders beliebte Libraries sind, z.B.:\n",
    "- [**Numpy**](https://numpy.org/) : bringt die beliebte Matlab Syntax zu Python. Es erlaubt schnelle und klare Matrixberechnungen\n",
    "- [**Pandas**](https://pandas.pydata.org/) : bringt Excel zu Python. Es enthält der DataFrame: eine indexierte Tabelle Struktur sehr ähnlich zu eine Excel-Kartei. Es erlaubt lookups, suche, merges, usw\n",
    "- **[Matplotlib](https://matplotlib.org/)/[Seaborn](https://seaborn.pydata.org/)** : erlaubt die Erstellung von Abbildung in eine einfache aber sehr einstallbar Weise\n",
    "- [**Statsmodel**](https://www.statsmodels.org/stable/index.html) : enthält viele Statistische Modelle\n",
    "- [**Scikit Learn**](https://scikit-learn.org/stable/) : enthält viele Machine Learning Modelle, sowie sehr entwickelte Lösungen zur Datenvorbereitung\n",
    "- [**TensorFlow/Keras**](https://www.tensorflow.org/) : enthält eine einfache Schnittstelle zur flexiblen Erstellung von neuronalen Netzwerken, die in Deep Learning verwendet werden\n",
    "- [**Requests**](https://pypi.org/project/requests/) : ermöglicht HTTP-Lese- und Schreibanfragen, um mit dem Internet zu interagieren (In diesem Kurs nicht abgedeckt)"
   ]
  },
  {
   "cell_type": "markdown",
   "id": "7f3a3d1b-95ce-462e-88a0-6c95651652a4",
   "metadata": {},
   "source": [
    "### Durch ```pip``` installieren"
   ]
  },
  {
   "cell_type": "markdown",
   "id": "a73633e1-6447-461e-be3e-30ca5bd533d7",
   "metadata": {},
   "source": [
    "Einfach ```pip install package_name``` in der command line schreiben"
   ]
  },
  {
   "cell_type": "markdown",
   "id": "bfdbacc4-ff31-4c2e-bf4d-d8b6af75605b",
   "metadata": {},
   "source": [
    "### Durch Github installieren"
   ]
  },
  {
   "cell_type": "markdown",
   "id": "8c75f417-8dfb-4a65-a5f5-22a18f104742",
   "metadata": {},
   "source": [
    "In der command line schreiben:<br>\n",
    "```git clone repository_url```"
   ]
  },
  {
   "cell_type": "markdown",
   "id": "314b46da-255f-4e4c-acac-9bd619aa8e70",
   "metadata": {},
   "source": [
    "Zu den repository Ordner navigieren und <br>\n",
    "```pip install .``` <br>\n",
    "eingeben"
   ]
  },
  {
   "cell_type": "code",
   "execution_count": null,
   "id": "aaa7c323-252c-4545-aa87-62f739acae57",
   "metadata": {},
   "outputs": [],
   "source": []
  }
 ],
 "metadata": {
  "kernelspec": {
   "display_name": "Python 3 (ipykernel)",
   "language": "python",
   "name": "python3"
  },
  "language_info": {
   "codemirror_mode": {
    "name": "ipython",
    "version": 3
   },
   "file_extension": ".py",
   "mimetype": "text/x-python",
   "name": "python",
   "nbconvert_exporter": "python",
   "pygments_lexer": "ipython3",
   "version": "3.10.6"
  }
 },
 "nbformat": 4,
 "nbformat_minor": 5
}
