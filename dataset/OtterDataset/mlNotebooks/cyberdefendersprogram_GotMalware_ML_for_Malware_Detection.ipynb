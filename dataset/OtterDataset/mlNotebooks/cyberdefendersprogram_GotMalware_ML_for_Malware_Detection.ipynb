{
 "cells": [
  {
   "cell_type": "markdown",
   "metadata": {},
   "source": [
    "# Machine Learning for Malware Detection"
   ]
  },
  {
   "cell_type": "markdown",
   "metadata": {},
   "source": [
    "The original tutorials are given in: http://resources.infosecinstitute.com/machine-learning-malware-detection/"
   ]
  },
  {
   "cell_type": "markdown",
   "metadata": {},
   "source": [
    "### Introduction\n",
    "\n",
    "Machine Learning is a subfield of computer science that aims to give computers the ability to learn from data instead of being explicitly programmed, thus leveraging the petabytes of data that exists on the internet nowadays to make decisions, and do tasks that are somewhere impossible or just complicated and time consuming for us humans.\n",
    "\n",
    "Malware is one the imminent threats that companies and users face every day. Whether it is a phishing email or an exploit delivered throughout the browser, coupled with multiple evasion methods and other security vulnerabilities, it is a proven fact that **nowadays defense systems cannot compete**. The availability of frameworks such as Veil, Shelter, and others are known to be used by professionals when conducting pentesting work and are known to be quite effective.\n",
    "\n",
    "Today I am going to show you that indeed **Machine Learning can be used to detect Malware without having to use neither a signature detection nor a behavioral analysis**.\n",
    "\n",
    "P.S: Many products nowadays like CylanceProtect, SentinelOne, Carbon Black are known to leverage these capabilities the framework we are going to develop trough out this session is not at any level capable of doing what these products do, and I will explain shortly why."
   ]
  },
  {
   "cell_type": "markdown",
   "metadata": {},
   "source": [
    "### Machine Learning a brief Introduction\n",
    "\n",
    "Machine Learning is a subfield that mixes many domains of mathematics mainly Statistics and Probabilities and Linear Algebra and Computation (Algorithms, Data Processing, Numerical Calculations). To gain insight from data it is used to detect fraud, spam and recommending movies and meals and products to buy, Amazon, Facebook, Google to name a few of the hundreds of companies that use Machine learning to improve their products.\n",
    "\n",
    "Machine Learning can be split into two major methods **supervised learning and unsupervised learning** the first means that the data we are going to work with is labeled the second means it is unlabeled, detecting malware can be attacked using both methods, but we will focus on the first one since our goal is to **classify** files.\n",
    "\n",
    "Classification is a sub domain of supervised learning it can be either binary (malware-notMalware) or multi-class (cat-dog-pig-lama…) thus malware detection falls under binary classification.\n",
    "\n",
    "Explaining Machine Learning is beyond this article, and nowadays you can find a large amount of resources to know more about it, and you can check the Appendix for more of these resources."
   ]
  },
  {
   "cell_type": "markdown",
   "metadata": {},
   "source": [
    "### The Problem Set\n",
    "\n",
    "Machine Learning works by defining a problem, collecting the data, processing the data to make it usable and then feeding it to the algorithms. This makes it quite hard to implement in everything for the extensive amount of resources you may need to do this; this is called the machine learning workflow it is the minimal steps you need to start doing Machine Learning.\n",
    "\n",
    "In our case let’s define our workflow:\n",
    "\n",
    "- First, we need to **collect malware samples** and **clean samples** we cannot work with less than 10k samples of both, and it is advisable to use even more of these\n",
    "- We need to **extract meaningful features** from our samples these features will be the basis of our study; features are what describe something, for example, the features of a house are:\n",
    "    - number of rooms\n",
    "    - SQ foot of the house\n",
    "    - price\n",
    "- After extracting these features, we need to process all our samples to **build a dataset** it can be a database file or a CSV file this way it will be easier to turn it into vectors since the algorithms work by performing computation on vectors\n",
    "- Lastly, we need **metrics** in this binary classification there are a multitude of metrics to benchmark the performance of an algorithm (ROC/AUC, Confusion Matrix…) we will use a confusion matrix since it represents the rates of True Positives and True Negatives as well as False Positives and False Negatives."
   ]
  },
  {
   "cell_type": "markdown",
   "metadata": {},
   "source": [
    "### Collecting Samples and Feature Extraction\n",
    "\n",
    "I assume the reader knows about the PE File Format if you do not you can read about it [here](http://resources.infosecinstitute.com/2-malware-researchers-handbook-demystifying-pe-file/), collecting samples is quite easy you can either use a paid service like (VirusTotal) or one of the links [here](https://zeltser.com/malware-sample-sources/)\n",
    "\n",
    "Okay, let’s start on by discussing our model.\n",
    "\n",
    "For our algorithm to learn from the data you feed it we need to make that data understandable and clear, in our case, we will use **12 features*** to teach our algorithm these features will be extracted from each binary and organized into a CSV file once."
   ]
  },
  {
   "cell_type": "markdown",
   "metadata": {},
   "source": [
    "### Feature Extraction\n",
    "\n",
    "To extract features, we will be using [pefile](https://github.com/erocarrera/pefile/). First Step is to download pefile I assume you know some Python and how to use pip.\n",
    "\n",
    "From your terminal run:\n",
    "\n",
    "**pip install pefile**\n",
    "\n",
    "Now that you have the necessary tools let’s write some code, but first let’s discuss what kind of information we want to extract. We are interested in extracting the following fields of a PE File:\n",
    "\n",
    "- Major Image Version: Used to indicate the major version number of the application; in Microsoft Excel version 4.0, it would be 4.\n",
    "- Virtual Adress and Size of the IMAGE_DATA_DIRECTORY\n",
    "- OS Version\n",
    "- Import Adress Table Adress\n",
    "- Ressources Size\n",
    "- Number Of Sections\n",
    "- Linker Version\n",
    "- Size of Stack Reserve\n",
    "- DLL Characteristics\n",
    "- Export Table Size and Adress\n",
    "\n",
    "To make our code more organized let’s start by creating a class that represents the PE File information as one object"
   ]
  },
  {
   "cell_type": "code",
   "execution_count": 19,
   "metadata": {
    "collapsed": true
   },
   "outputs": [],
   "source": [
    "import os\n",
    "import pefile\n",
    "import pandas as pd\n",
    "\n",
    "class PEFile:\n",
    "    \"\"\"\n",
    "    This Class is constructed by parsing the pe file for the interesting features\n",
    "    each pe file is an object by itself and we extract the needed information\n",
    "    into a dictionary\n",
    "    \"\"\"\n",
    "    def __init__(self, filename):\n",
    "        self.pe = pefile.PE(filename, fast_load=True)\n",
    "        self.filename = filename\n",
    "        self.DebugSize = self.pe.OPTIONAL_HEADER.DATA_DIRECTORY[6].Size\n",
    "        self.DebugRVA = self.pe.OPTIONAL_HEADER.DATA_DIRECTORY[6].VirtualAddress\n",
    "        self.ImageVersion = self.pe.OPTIONAL_HEADER.MajorImageVersion\n",
    "        self.OSVersion = self.pe.OPTIONAL_HEADER.MajorOperatingSystemVersion\n",
    "        self.ExportRVA = self.pe.OPTIONAL_HEADER.DATA_DIRECTORY[0].VirtualAddress\n",
    "        self.ExportSize = self.pe.OPTIONAL_HEADER.DATA_DIRECTORY[0].Size\n",
    "        self.IATRVA = self.pe.OPTIONAL_HEADER.DATA_DIRECTORY[12].VirtualAddress\n",
    "        self.ResSize = self.pe.OPTIONAL_HEADER.DATA_DIRECTORY[2].Size\n",
    "        self.LinkerVersion = self.pe.OPTIONAL_HEADER.MajorLinkerVersion\n",
    "        self.NumberOfSections = self.pe.FILE_HEADER.NumberOfSections\n",
    "        self.StackReserveSize = self.pe.OPTIONAL_HEADER.SizeOfStackReserve\n",
    "        self.Dll = self.pe.OPTIONAL_HEADER.DllCharacteristics\n",
    "# Now we move on to write a small method that constructs a dictionnary for each PE File\n",
    "# thus each sample will be represented as a python dictionnary where keys are the features\n",
    "# and values are the value of each parsed field.\n",
    "    def Construct(self):\n",
    "        sample = {}\n",
    "        #for attr, k in self.__dict__.iteritems():\n",
    "        for attr, k in self.__dict__.items():\n",
    "            if(attr != \"pe\"):\n",
    "                sample[attr] = k\n",
    "        return sample"
   ]
  },
  {
   "cell_type": "markdown",
   "metadata": {},
   "source": [
    "Since we can write code let’s write a script that will loop trough all samples in a folder and process each one of them then dump all those dictionaries into one csv file that we will use."
   ]
  },
  {
   "cell_type": "code",
   "execution_count": 20,
   "metadata": {
    "collapsed": true
   },
   "outputs": [],
   "source": [
    "#def pe2vec(): this was the original line from the tutorial\n",
    "def pe2vec(direct): # this is modified by me\n",
    "    \"\"\"\n",
    "    dirty function (handling all exceptions) for each sample\n",
    "    it construct a dictionary of dictionaries in the format:\n",
    "    sample x : pe informations\n",
    "    \"\"\"\n",
    "    dataset = {}\n",
    "    for subdir, dirs, files in os.walk(direct):\n",
    "        for f in files:\n",
    "            file_path = os.path.join(subdir, f)\n",
    "            try:\n",
    "                #pe = pedump.PEFile(file_path)\n",
    "                pe = PEFile(file_path)\n",
    "                dataset[str(f)] = pe.Construct()\n",
    "            except Exception as e:\n",
    "                print(e)\n",
    "    return dataset\n",
    "# now that we have a dictionary let's put it in a clean csv file\n",
    "\n",
    "# One more argument (filename has been added by me)\n",
    "def vec2csv(dataset, filename):\n",
    "    df = pd.DataFrame(dataset)\n",
    "    infected = df.transpose()  # transpose to have the features as columns and samples as rows\n",
    "    # utf-8 is prefered \n",
    "\n",
    "    infected.to_csv(filename, sep=',', encoding='utf-8')\n",
    "    "
   ]
  },
  {
   "cell_type": "markdown",
   "metadata": {},
   "source": [
    "Okay now we are ready to process some data, I advise you to use the code from my Github .\n",
    "\n",
    "### Exploring the Data\n",
    "\n",
    "A Step that is not needed but can be quite eye opening experience it gives a more intuitive idea about the whole data."
   ]
  },
  {
   "cell_type": "markdown",
   "metadata": {},
   "source": [
    "### (The following CODE did not exist in the tutorial)"
   ]
  },
  {
   "cell_type": "code",
   "execution_count": 21,
   "metadata": {
    "collapsed": true
   },
   "outputs": [],
   "source": [
    "directoryPath_Malicious = 'C:\\Program Files\\Java\\jre1.8.0_141\\\\bin\\dtplugin'\n",
    "directoryPath_Clean = 'C:\\Program Files\\Java\\jre1.8.0_141\\\\bin\\dtplugin'\n",
    "#\n",
    "dataset_Malicious = pe2vec(directoryPath_Malicious)\n",
    "dataset_Clean = pe2vec(directoryPath_Clean)\n",
    "#\n",
    "vec2csv(dataset_Malicious, 'dataset_Malicious.csv');\n",
    "vec2csv(dataset_Clean, 'dataset_Clean.csv');"
   ]
  },
  {
   "cell_type": "code",
   "execution_count": 22,
   "metadata": {
    "collapsed": true
   },
   "outputs": [],
   "source": [
    "#import pandas as pd\n",
    "import numpy as np\n",
    "import matplotlib.pyplot as plt\n",
    "#malicious = pd.read_csv(\"bucket-set.csv\")\n",
    "#clean = pd.read_csv(\"clean-set.csv\")\n",
    "malicious = pd.read_csv(\"dataset_Malicious.csv\")\n",
    "clean = pd.read_csv(\"dataset_Clean.csv\")"
   ]
  },
  {
   "cell_type": "code",
   "execution_count": 23,
   "metadata": {},
   "outputs": [
    {
     "name": "stdout",
     "output_type": "stream",
     "text": [
      "Clean Files Statistics\n"
     ]
    },
    {
     "data": {
      "text/html": [
       "<div>\n",
       "<style>\n",
       "    .dataframe thead tr:only-child th {\n",
       "        text-align: right;\n",
       "    }\n",
       "\n",
       "    .dataframe thead th {\n",
       "        text-align: left;\n",
       "    }\n",
       "\n",
       "    .dataframe tbody tr th {\n",
       "        vertical-align: top;\n",
       "    }\n",
       "</style>\n",
       "<table border=\"1\" class=\"dataframe\">\n",
       "  <thead>\n",
       "    <tr style=\"text-align: right;\">\n",
       "      <th></th>\n",
       "      <th>DebugRVA</th>\n",
       "      <th>DebugSize</th>\n",
       "      <th>Dll</th>\n",
       "      <th>ExportRVA</th>\n",
       "      <th>ExportSize</th>\n",
       "      <th>IATRVA</th>\n",
       "      <th>ImageVersion</th>\n",
       "      <th>LinkerVersion</th>\n",
       "      <th>NumberOfSections</th>\n",
       "      <th>OSVersion</th>\n",
       "      <th>ResSize</th>\n",
       "      <th>StackReserveSize</th>\n",
       "    </tr>\n",
       "  </thead>\n",
       "  <tbody>\n",
       "    <tr>\n",
       "      <th>count</th>\n",
       "      <td>2.000000</td>\n",
       "      <td>2.0</td>\n",
       "      <td>2.0</td>\n",
       "      <td>2.000000</td>\n",
       "      <td>2.000000</td>\n",
       "      <td>2.000000</td>\n",
       "      <td>2.0</td>\n",
       "      <td>2.0</td>\n",
       "      <td>2.0</td>\n",
       "      <td>2.0</td>\n",
       "      <td>2.000000</td>\n",
       "      <td>2.0</td>\n",
       "    </tr>\n",
       "    <tr>\n",
       "      <th>mean</th>\n",
       "      <td>557984.000000</td>\n",
       "      <td>28.0</td>\n",
       "      <td>320.0</td>\n",
       "      <td>770680.000000</td>\n",
       "      <td>150.000000</td>\n",
       "      <td>555008.000000</td>\n",
       "      <td>0.0</td>\n",
       "      <td>10.0</td>\n",
       "      <td>6.0</td>\n",
       "      <td>5.0</td>\n",
       "      <td>262996.000000</td>\n",
       "      <td>1048576.0</td>\n",
       "    </tr>\n",
       "    <tr>\n",
       "      <th>std</th>\n",
       "      <td>83947.717062</td>\n",
       "      <td>0.0</td>\n",
       "      <td>0.0</td>\n",
       "      <td>93530.428161</td>\n",
       "      <td>25.455844</td>\n",
       "      <td>83992.971896</td>\n",
       "      <td>0.0</td>\n",
       "      <td>0.0</td>\n",
       "      <td>0.0</td>\n",
       "      <td>0.0</td>\n",
       "      <td>4813.982966</td>\n",
       "      <td>0.0</td>\n",
       "    </tr>\n",
       "    <tr>\n",
       "      <th>min</th>\n",
       "      <td>498624.000000</td>\n",
       "      <td>28.0</td>\n",
       "      <td>320.0</td>\n",
       "      <td>704544.000000</td>\n",
       "      <td>132.000000</td>\n",
       "      <td>495616.000000</td>\n",
       "      <td>0.0</td>\n",
       "      <td>10.0</td>\n",
       "      <td>6.0</td>\n",
       "      <td>5.0</td>\n",
       "      <td>259592.000000</td>\n",
       "      <td>1048576.0</td>\n",
       "    </tr>\n",
       "    <tr>\n",
       "      <th>25%</th>\n",
       "      <td>528304.000000</td>\n",
       "      <td>28.0</td>\n",
       "      <td>320.0</td>\n",
       "      <td>737612.000000</td>\n",
       "      <td>141.000000</td>\n",
       "      <td>525312.000000</td>\n",
       "      <td>0.0</td>\n",
       "      <td>10.0</td>\n",
       "      <td>6.0</td>\n",
       "      <td>5.0</td>\n",
       "      <td>261294.000000</td>\n",
       "      <td>1048576.0</td>\n",
       "    </tr>\n",
       "    <tr>\n",
       "      <th>50%</th>\n",
       "      <td>557984.000000</td>\n",
       "      <td>28.0</td>\n",
       "      <td>320.0</td>\n",
       "      <td>770680.000000</td>\n",
       "      <td>150.000000</td>\n",
       "      <td>555008.000000</td>\n",
       "      <td>0.0</td>\n",
       "      <td>10.0</td>\n",
       "      <td>6.0</td>\n",
       "      <td>5.0</td>\n",
       "      <td>262996.000000</td>\n",
       "      <td>1048576.0</td>\n",
       "    </tr>\n",
       "    <tr>\n",
       "      <th>75%</th>\n",
       "      <td>587664.000000</td>\n",
       "      <td>28.0</td>\n",
       "      <td>320.0</td>\n",
       "      <td>803748.000000</td>\n",
       "      <td>159.000000</td>\n",
       "      <td>584704.000000</td>\n",
       "      <td>0.0</td>\n",
       "      <td>10.0</td>\n",
       "      <td>6.0</td>\n",
       "      <td>5.0</td>\n",
       "      <td>264698.000000</td>\n",
       "      <td>1048576.0</td>\n",
       "    </tr>\n",
       "    <tr>\n",
       "      <th>max</th>\n",
       "      <td>617344.000000</td>\n",
       "      <td>28.0</td>\n",
       "      <td>320.0</td>\n",
       "      <td>836816.000000</td>\n",
       "      <td>168.000000</td>\n",
       "      <td>614400.000000</td>\n",
       "      <td>0.0</td>\n",
       "      <td>10.0</td>\n",
       "      <td>6.0</td>\n",
       "      <td>5.0</td>\n",
       "      <td>266400.000000</td>\n",
       "      <td>1048576.0</td>\n",
       "    </tr>\n",
       "  </tbody>\n",
       "</table>\n",
       "</div>"
      ],
      "text/plain": [
       "            DebugRVA  DebugSize    Dll      ExportRVA  ExportSize  \\\n",
       "count       2.000000        2.0    2.0       2.000000    2.000000   \n",
       "mean   557984.000000       28.0  320.0  770680.000000  150.000000   \n",
       "std     83947.717062        0.0    0.0   93530.428161   25.455844   \n",
       "min    498624.000000       28.0  320.0  704544.000000  132.000000   \n",
       "25%    528304.000000       28.0  320.0  737612.000000  141.000000   \n",
       "50%    557984.000000       28.0  320.0  770680.000000  150.000000   \n",
       "75%    587664.000000       28.0  320.0  803748.000000  159.000000   \n",
       "max    617344.000000       28.0  320.0  836816.000000  168.000000   \n",
       "\n",
       "              IATRVA  ImageVersion  LinkerVersion  NumberOfSections  \\\n",
       "count       2.000000           2.0            2.0               2.0   \n",
       "mean   555008.000000           0.0           10.0               6.0   \n",
       "std     83992.971896           0.0            0.0               0.0   \n",
       "min    495616.000000           0.0           10.0               6.0   \n",
       "25%    525312.000000           0.0           10.0               6.0   \n",
       "50%    555008.000000           0.0           10.0               6.0   \n",
       "75%    584704.000000           0.0           10.0               6.0   \n",
       "max    614400.000000           0.0           10.0               6.0   \n",
       "\n",
       "       OSVersion        ResSize  StackReserveSize  \n",
       "count        2.0       2.000000               2.0  \n",
       "mean         5.0  262996.000000         1048576.0  \n",
       "std          0.0    4813.982966               0.0  \n",
       "min          5.0  259592.000000         1048576.0  \n",
       "25%          5.0  261294.000000         1048576.0  \n",
       "50%          5.0  262996.000000         1048576.0  \n",
       "75%          5.0  264698.000000         1048576.0  \n",
       "max          5.0  266400.000000         1048576.0  "
      ]
     },
     "execution_count": 23,
     "metadata": {},
     "output_type": "execute_result"
    }
   ],
   "source": [
    "print(\"Clean Files Statistics\")\n",
    "clean.describe()"
   ]
  },
  {
   "cell_type": "code",
   "execution_count": 24,
   "metadata": {},
   "outputs": [
    {
     "name": "stdout",
     "output_type": "stream",
     "text": [
      "Malicious Files Statistics\n"
     ]
    },
    {
     "data": {
      "text/html": [
       "<div>\n",
       "<style>\n",
       "    .dataframe thead tr:only-child th {\n",
       "        text-align: right;\n",
       "    }\n",
       "\n",
       "    .dataframe thead th {\n",
       "        text-align: left;\n",
       "    }\n",
       "\n",
       "    .dataframe tbody tr th {\n",
       "        vertical-align: top;\n",
       "    }\n",
       "</style>\n",
       "<table border=\"1\" class=\"dataframe\">\n",
       "  <thead>\n",
       "    <tr style=\"text-align: right;\">\n",
       "      <th></th>\n",
       "      <th>DebugRVA</th>\n",
       "      <th>DebugSize</th>\n",
       "      <th>Dll</th>\n",
       "      <th>ExportRVA</th>\n",
       "      <th>ExportSize</th>\n",
       "      <th>IATRVA</th>\n",
       "      <th>ImageVersion</th>\n",
       "      <th>LinkerVersion</th>\n",
       "      <th>NumberOfSections</th>\n",
       "      <th>OSVersion</th>\n",
       "      <th>ResSize</th>\n",
       "      <th>StackReserveSize</th>\n",
       "    </tr>\n",
       "  </thead>\n",
       "  <tbody>\n",
       "    <tr>\n",
       "      <th>count</th>\n",
       "      <td>2.000000</td>\n",
       "      <td>2.0</td>\n",
       "      <td>2.0</td>\n",
       "      <td>2.000000</td>\n",
       "      <td>2.000000</td>\n",
       "      <td>2.000000</td>\n",
       "      <td>2.0</td>\n",
       "      <td>2.0</td>\n",
       "      <td>2.0</td>\n",
       "      <td>2.0</td>\n",
       "      <td>2.000000</td>\n",
       "      <td>2.0</td>\n",
       "    </tr>\n",
       "    <tr>\n",
       "      <th>mean</th>\n",
       "      <td>557984.000000</td>\n",
       "      <td>28.0</td>\n",
       "      <td>320.0</td>\n",
       "      <td>770680.000000</td>\n",
       "      <td>150.000000</td>\n",
       "      <td>555008.000000</td>\n",
       "      <td>0.0</td>\n",
       "      <td>10.0</td>\n",
       "      <td>6.0</td>\n",
       "      <td>5.0</td>\n",
       "      <td>262996.000000</td>\n",
       "      <td>1048576.0</td>\n",
       "    </tr>\n",
       "    <tr>\n",
       "      <th>std</th>\n",
       "      <td>83947.717062</td>\n",
       "      <td>0.0</td>\n",
       "      <td>0.0</td>\n",
       "      <td>93530.428161</td>\n",
       "      <td>25.455844</td>\n",
       "      <td>83992.971896</td>\n",
       "      <td>0.0</td>\n",
       "      <td>0.0</td>\n",
       "      <td>0.0</td>\n",
       "      <td>0.0</td>\n",
       "      <td>4813.982966</td>\n",
       "      <td>0.0</td>\n",
       "    </tr>\n",
       "    <tr>\n",
       "      <th>min</th>\n",
       "      <td>498624.000000</td>\n",
       "      <td>28.0</td>\n",
       "      <td>320.0</td>\n",
       "      <td>704544.000000</td>\n",
       "      <td>132.000000</td>\n",
       "      <td>495616.000000</td>\n",
       "      <td>0.0</td>\n",
       "      <td>10.0</td>\n",
       "      <td>6.0</td>\n",
       "      <td>5.0</td>\n",
       "      <td>259592.000000</td>\n",
       "      <td>1048576.0</td>\n",
       "    </tr>\n",
       "    <tr>\n",
       "      <th>25%</th>\n",
       "      <td>528304.000000</td>\n",
       "      <td>28.0</td>\n",
       "      <td>320.0</td>\n",
       "      <td>737612.000000</td>\n",
       "      <td>141.000000</td>\n",
       "      <td>525312.000000</td>\n",
       "      <td>0.0</td>\n",
       "      <td>10.0</td>\n",
       "      <td>6.0</td>\n",
       "      <td>5.0</td>\n",
       "      <td>261294.000000</td>\n",
       "      <td>1048576.0</td>\n",
       "    </tr>\n",
       "    <tr>\n",
       "      <th>50%</th>\n",
       "      <td>557984.000000</td>\n",
       "      <td>28.0</td>\n",
       "      <td>320.0</td>\n",
       "      <td>770680.000000</td>\n",
       "      <td>150.000000</td>\n",
       "      <td>555008.000000</td>\n",
       "      <td>0.0</td>\n",
       "      <td>10.0</td>\n",
       "      <td>6.0</td>\n",
       "      <td>5.0</td>\n",
       "      <td>262996.000000</td>\n",
       "      <td>1048576.0</td>\n",
       "    </tr>\n",
       "    <tr>\n",
       "      <th>75%</th>\n",
       "      <td>587664.000000</td>\n",
       "      <td>28.0</td>\n",
       "      <td>320.0</td>\n",
       "      <td>803748.000000</td>\n",
       "      <td>159.000000</td>\n",
       "      <td>584704.000000</td>\n",
       "      <td>0.0</td>\n",
       "      <td>10.0</td>\n",
       "      <td>6.0</td>\n",
       "      <td>5.0</td>\n",
       "      <td>264698.000000</td>\n",
       "      <td>1048576.0</td>\n",
       "    </tr>\n",
       "    <tr>\n",
       "      <th>max</th>\n",
       "      <td>617344.000000</td>\n",
       "      <td>28.0</td>\n",
       "      <td>320.0</td>\n",
       "      <td>836816.000000</td>\n",
       "      <td>168.000000</td>\n",
       "      <td>614400.000000</td>\n",
       "      <td>0.0</td>\n",
       "      <td>10.0</td>\n",
       "      <td>6.0</td>\n",
       "      <td>5.0</td>\n",
       "      <td>266400.000000</td>\n",
       "      <td>1048576.0</td>\n",
       "    </tr>\n",
       "  </tbody>\n",
       "</table>\n",
       "</div>"
      ],
      "text/plain": [
       "            DebugRVA  DebugSize    Dll      ExportRVA  ExportSize  \\\n",
       "count       2.000000        2.0    2.0       2.000000    2.000000   \n",
       "mean   557984.000000       28.0  320.0  770680.000000  150.000000   \n",
       "std     83947.717062        0.0    0.0   93530.428161   25.455844   \n",
       "min    498624.000000       28.0  320.0  704544.000000  132.000000   \n",
       "25%    528304.000000       28.0  320.0  737612.000000  141.000000   \n",
       "50%    557984.000000       28.0  320.0  770680.000000  150.000000   \n",
       "75%    587664.000000       28.0  320.0  803748.000000  159.000000   \n",
       "max    617344.000000       28.0  320.0  836816.000000  168.000000   \n",
       "\n",
       "              IATRVA  ImageVersion  LinkerVersion  NumberOfSections  \\\n",
       "count       2.000000           2.0            2.0               2.0   \n",
       "mean   555008.000000           0.0           10.0               6.0   \n",
       "std     83992.971896           0.0            0.0               0.0   \n",
       "min    495616.000000           0.0           10.0               6.0   \n",
       "25%    525312.000000           0.0           10.0               6.0   \n",
       "50%    555008.000000           0.0           10.0               6.0   \n",
       "75%    584704.000000           0.0           10.0               6.0   \n",
       "max    614400.000000           0.0           10.0               6.0   \n",
       "\n",
       "       OSVersion        ResSize  StackReserveSize  \n",
       "count        2.0       2.000000               2.0  \n",
       "mean         5.0  262996.000000         1048576.0  \n",
       "std          0.0    4813.982966               0.0  \n",
       "min          5.0  259592.000000         1048576.0  \n",
       "25%          5.0  261294.000000         1048576.0  \n",
       "50%          5.0  262996.000000         1048576.0  \n",
       "75%          5.0  264698.000000         1048576.0  \n",
       "max          5.0  266400.000000         1048576.0  "
      ]
     },
     "execution_count": 24,
     "metadata": {},
     "output_type": "execute_result"
    }
   ],
   "source": [
    "print(\"Malicious Files Statistics\")\n",
    "malicious.describe()"
   ]
  },
  {
   "cell_type": "markdown",
   "metadata": {},
   "source": [
    "We can see the discrepancies between the two sets especially in the first two features Let’s plot some of these features to get a visual idea about those differences"
   ]
  },
  {
   "cell_type": "code",
   "execution_count": 25,
   "metadata": {},
   "outputs": [
    {
     "data": {
      "text/plain": [
       "<matplotlib.legend.Legend at 0x1f08e425978>"
      ]
     },
     "execution_count": 25,
     "metadata": {},
     "output_type": "execute_result"
    },
    {
     "data": {
      "image/png": "[encoded data removed]",
      "text/plain": [
       "<matplotlib.figure.Figure at 0x1f08e837ef0>"
      ]
     },
     "metadata": {},
     "output_type": "display_data"
    }
   ],
   "source": [
    "#lets plot\n",
    "#let's label our dataframes\n",
    "malicious['clean'] = 0\n",
    "clean['clean'] = 1\n",
    "\n",
    "import seaborn\n",
    "%matplotlib inline\n",
    "fig,ax = plt.subplots()\n",
    "x = malicious['IATRVA']\n",
    "y = malicious['clean']\n",
    "ax.scatter(x,y,color='r',label='Malicious')\n",
    "x1 = clean['IATRVA']\n",
    "y1 = clean['clean']\n",
    "ax.scatter(x1,y1,color='b',label='Cleanfiles')\n",
    "ax.legend(loc=\"right\")"
   ]
  },
  {
   "cell_type": "markdown",
   "metadata": {},
   "source": [
    "We can notice the “clustering” of the Malicious samples on a tight centroid while the cleanfiles are sparse over the ‘x’ line let’s try now to plot other features as well to get an overall understanding of what we have here"
   ]
  },
  {
   "cell_type": "code",
   "execution_count": 26,
   "metadata": {},
   "outputs": [
    {
     "data": {
      "text/plain": [
       "<matplotlib.legend.Legend at 0x1f090088400>"
      ]
     },
     "execution_count": 26,
     "metadata": {},
     "output_type": "execute_result"
    },
    {
     "data": {
      "image/png": "[encoded data removed]",
      "text/plain": [
       "<matplotlib.figure.Figure at 0x1f09010def0>"
      ]
     },
     "metadata": {},
     "output_type": "display_data"
    }
   ],
   "source": [
    "%matplotlib inline\n",
    "fig,ax = plt.subplots()\n",
    "x = malicious['DebugRVA']\n",
    "y = malicious['clean']\n",
    "ax.scatter(x,y,color='r',label='Malicious')\n",
    "x1 = clean['DebugRVA']\n",
    "y1 = clean['clean']\n",
    "ax.scatter(x1,y1,color='b',label='Cleanfiles')\n",
    "ax.legend(loc=\"right\")"
   ]
  },
  {
   "cell_type": "code",
   "execution_count": 27,
   "metadata": {},
   "outputs": [
    {
     "data": {
      "text/plain": [
       "<matplotlib.legend.Legend at 0x1f09021af98>"
      ]
     },
     "execution_count": 27,
     "metadata": {},
     "output_type": "execute_result"
    },
    {
     "data": {
      "image/png": "[encoded data removed]",
      "text/plain": [
       "<matplotlib.figure.Figure at 0x1f09004f978>"
      ]
     },
     "metadata": {},
     "output_type": "display_data"
    }
   ],
   "source": [
    "%matplotlib inline\n",
    "fig,ax = plt.subplots()\n",
    "x = malicious['ExportSize']\n",
    "y = malicious['clean']\n",
    "ax.scatter(x,y,color='r',label='Malicious')\n",
    "x1 = clean['ExportSize']\n",
    "y1 = clean['clean']\n",
    "ax.scatter(x1,y1,color='b',label='Cleanfiles')\n",
    "ax.legend(loc=\"right\")"
   ]
  },
  {
   "cell_type": "markdown",
   "metadata": {},
   "source": [
    "The more we plot and analyze the data the more we understand and get a sense of the overall distribution,of course a problem arises what do I do if I have a high-dimensional dataset well what we have here is fairly low dimensional but a lot of technics can be used to reduce the dimensions to the more “important” features algorithms like [PCA](https://en.wikipedia.org/wiki/Principal_component_analysis) and [t-SNE](https://lvdmaaten.github.io/tsne/) can be used to visualize the data on 3D or even 2D plots ."
   ]
  },
  {
   "cell_type": "markdown",
   "metadata": {},
   "source": [
    "### Machine Learning Application\n",
    "\n",
    "Enough with the statistics let’s do some work, till now we did not do any machine learning work what we did is part of the whole work we took some data, cleaned it and prepared it. Now to start experimenting with Machine Learning, we have to do a few more things:\n",
    "\n",
    "- First, we need to merge our datasets (malicious and clean) into one DataFrame\n",
    "- We need to split our DataFrame into two parts the first one will be used for training and later for testing\n",
    "- We will then proceed to apply few algorithms and see what happens"
   ]
  },
  {
   "cell_type": "markdown",
   "metadata": {},
   "source": [
    "### Merge datasets (CODE did not exist in the tutorial)"
   ]
  },
  {
   "cell_type": "code",
   "execution_count": 28,
   "metadata": {
    "collapsed": true
   },
   "outputs": [],
   "source": [
    "dataset_Merged = [malicious, clean]\n",
    "dataset = pd.concat(dataset_Merged)\n",
    "vec2csv(dataset.transpose(), 'dataset_Merged.csv');"
   ]
  },
  {
   "cell_type": "markdown",
   "metadata": {},
   "source": [
    "### Dataset Preparation"
   ]
  },
  {
   "cell_type": "code",
   "execution_count": 29,
   "metadata": {},
   "outputs": [
    {
     "name": "stdout",
     "output_type": "stream",
     "text": [
      "The above line has been MODIFIED to remove the filename at the end.\n",
      "1048576\n"
     ]
    }
   ],
   "source": [
    "\"\"\"\n",
    "Add this points dataset holds our data\n",
    "Great let's split it into train/test and fix a random seed to keep our predictions constant\n",
    "\"\"\"\n",
    "import numpy as np\n",
    "from sklearn.model_selection import train_test_split\n",
    "from sklearn.metrics import confusion_matrix\n",
    "#let's import 4 algorithms we would like to test\n",
    "#neural networks\n",
    "from sklearn.preprocessing import StandardScaler\n",
    "from sklearn.neural_network import MLPClassifier\n",
    "#random forests\n",
    "from sklearn.ensemble import RandomForestClassifier\n",
    "\"\"\"\n",
    "Let's prepare our data\n",
    "\"\"\"\n",
    "state = np.random.randint(100)\n",
    "y = dataset['clean']\n",
    "X = dataset.drop('clean',axis = 1)\n",
    "X = np.asarray(X)\n",
    "y = np.asarray(y)\n",
    "#X = X[:,1:]\n",
    "print(\"The above line has been MODIFIED to remove the filename at the end.\")\n",
    "X = X[:,1:13]\n",
    "print(X[1,11])\n",
    "X_train,X_test,y_train,y_test = train_test_split(X,y,test_size = 0.1,random_state=0)"
   ]
  },
  {
   "cell_type": "markdown",
   "metadata": {},
   "source": [
    "Now we have 4 Matrices quite big ones X_train and y_train will be used to train our different classifiers, and X_test will be used to predict the labels, and y_test will be used for metrics, in fact, we are going to compare the predictions from X_test to y_test to see how we did perform. We start by using **Random Forests** which are an ensemble version of [Decision Trees](https://en.wikipedia.org/wiki/Decision_tree) they work by creating a lot of decision trees at training time and outputting the class that is the mode of the classes (classification), they are quite performant when it comes to binary classification problems"
   ]
  },
  {
   "cell_type": "code",
   "execution_count": 30,
   "metadata": {},
   "outputs": [
    {
     "name": "stdout",
     "output_type": "stream",
     "text": [
      "TN =  0\n",
      "TP =  0\n",
      "FP =  0\n",
      "FN =  1\n"
     ]
    }
   ],
   "source": [
    "#let's start with random forests\n",
    "#we initiate the classifier\n",
    "clf1 = RandomForestClassifier()\n",
    "#training\n",
    "clf1.fit(X_train,y_train)\n",
    "#prediction labels for X_test\n",
    "y_pred=clf1.predict(X_test)\n",
    "#metrics evaluation\n",
    "\"\"\"\n",
    "tn = True Negative a correct prediction clean predicted as clean\n",
    "fp = False Positive a false alarm clean predicted as malicious\n",
    "tp = True Positive a correct prediction (malicious)\n",
    "fn = False Negative a malicious label predicted as clean\n",
    "\"\"\"\n",
    "tn, fp, fn, tp = confusion_matrix(y_test, y_pred).ravel()\n",
    "print(\"TN = \",tn)\n",
    "print(\"TP = \",tp)\n",
    "print(\"FP = \",fp)\n",
    "print(\"FN = \",fn)"
   ]
  },
  {
   "cell_type": "markdown",
   "metadata": {},
   "source": [
    "Notice anything? Well if you have 6 False Positives and 4 False Negatives with no parameter tuning and no modifications are quite good,actually we were able to detect **697 Clean files correctly and 745 Malicious Ones Correctly**, guess our small Anti-Virus is working :D.\n",
    "\n",
    "Let’s try this time another classifier, we will build a simple neural network and test it on another randomized split.\n",
    "\n",
    "According to Wikipedia\n",
    "- **A multilayer perceptron (MLP) is a feedforward artificial neural network model that maps sets of input data onto a set of appropriate outputs. An MLP consists of multiple layers of nodes in a directed graph, with each layer fully connected to the next one. Except for the input nodes, each node is a neuron (or processing element) with a nonlinear activation function. MLP utilizes a supervised learning technique called backpropagation for training the network. MLP is a modification of the standard linear perceptron and can distinguish data that are not linearly separable.**\n",
    "\n",
    "A Multi-Layer Perceptron is the generalized version of the perceptron which is the basis model of the neuron they are the fundamental building blocks for deep learning methods where we meet larger and deeper networks."
   ]
  },
  {
   "cell_type": "code",
   "execution_count": 31,
   "metadata": {},
   "outputs": [
    {
     "name": "stdout",
     "output_type": "stream",
     "text": [
      "TN =  0\n",
      "TP =  0\n",
      "FP =  0\n",
      "FN =  2\n"
     ]
    },
    {
     "name": "stderr",
     "output_type": "stream",
     "text": [
      "C:\\ProgramData\\Anaconda3\\lib\\site-packages\\sklearn\\utils\\validation.py:429: DataConversionWarning: Data with input dtype object was converted to float64 by StandardScaler.\n",
      "  warnings.warn(msg, _DataConversionWarning)\n"
     ]
    }
   ],
   "source": [
    "#our usual split\n",
    "X_train,X_test,y_train,y_test = train_test_split(X,y,test_size = 0.3,random_state=0)\n",
    "#This is a special process called feature engineering where we transform our data into the same scale for better predictions\n",
    "scaler = StandardScaler()\n",
    "scaler.fit(X_train)\n",
    "X_train = scaler.transform(X_train)\n",
    "X_test = scaler.transform(X_test)\n",
    "#Here we build a Multi Layer Perceptron of 12 Layers for 12 Features  you can use more if you want but it will turn into a complex zoo\n",
    "mlp = MLPClassifier(hidden_layer_sizes=(12,12,12,12,12,12))\n",
    "#Training the MLP on our data\n",
    "mlp.fit(X_train,y_train)\n",
    "predictions = mlp.predict(X_test)\n",
    "#evaluating our classifier\n",
    "tn, fp, fn, tp = confusion_matrix(y_test,predictions).ravel()\n",
    "print(\"TN = \",tn)\n",
    "print(\"TP = \",tp)\n",
    "print(\"FP = \",fp)\n",
    "print(\"FN = \",fn)"
   ]
  },
  {
   "cell_type": "markdown",
   "metadata": {},
   "source": [
    "The all mighty Neural Network failed to detect eighteen Threats not only that it detected them as clean files which is a very very bad problem imagine your antivirus detecting a ransomware as a clean file? Well this sounds like AV Evasion on AI but let’s not be pessimistic our Neural Network is very primitive we can actually make it more accurate, but this is beyond the scope of this article\n",
    "\n",
    "### Conclusion:\n",
    "\n",
    "This is just the beginning. I wanted to show that Malware Classification is indeed a solvable problem if we accept 99% as a good accuracy rate. Of course, building and deploying something like this, in reality, is time-consuming and requires more knowledge and more data. This was merely a preview of the infinite possibilities machine learning and AI, in general, offers us, I hope this was educational, fun and insightful.\n",
    "\n",
    "### Resources:\n",
    "\n",
    "Machine Learning Course by Andrew NG\n",
    "https://fast.ai a Course that will make you a deep learning practitioner in 7 weeks only requirement (Python)\n",
    "Elements of Statistical Learning (Harstie) this is a more theoretical book but quite insightful\n",
    "http://2012.infosecsouthwest.com/files/speaker_materials/ISSW2012_Selecting_Features_to_Classify_Malware.pdf a quite insightful paper."
   ]
  }
 ],
 "metadata": {
  "kernelspec": {
   "display_name": "Python 3",
   "language": "python",
   "name": "python3"
  },
  "language_info": {
   "codemirror_mode": {
    "name": "ipython",
    "version": 3
   },
   "file_extension": ".py",
   "mimetype": "text/x-python",
   "name": "python",
   "nbconvert_exporter": "python",
   "pygments_lexer": "ipython3",
   "version": "3.6.1"
  }
 },
 "nbformat": 4,
 "nbformat_minor": 2
}
