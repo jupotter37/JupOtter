{
 "cells": [
  {
   "cell_type": "code",
   "execution_count": 1,
   "id": "35f74264",
   "metadata": {},
   "outputs": [
    {
     "name": "stdout",
     "output_type": "stream",
     "text": [
      "Question 1: Who is developed python?\n",
      "1. Denny\n",
      "2. James Gosling\n",
      "3. Guido van Rossum\n",
      "4. Rome\n",
      "Your answer (enter the option number): Guido van Rossum\n",
      "Correct!\n",
      "\n",
      "Question 2: subset of AI?\n",
      "1. Data Science\n",
      "2. deep learning\n",
      "3. machine learning\n",
      "4. self learning\n",
      "Your answer (enter the option number): machine learning\n",
      "Correct!\n",
      "\n",
      "Question 3: which statment cann't use in python?\n",
      "1. control\n",
      "2. switch\n",
      "3. break\n",
      "4. continue\n",
      "Your answer (enter the option number): switch\n",
      "Correct!\n",
      "\n",
      "You scored 3/3.\n"
     ]
    }
   ],
   "source": [
    "import time\n",
    "\n",
    "class Question:\n",
    "    def __init__(self, text, options, correct_option):\n",
    "        self.text = text\n",
    "        self.options = options\n",
    "        self.correct_option = correct_option\n",
    "\n",
    "    def is_correct(self, user_answer):\n",
    "        return user_answer.lower() == self.correct_option.lower()\n",
    "\n",
    "class Quiz:\n",
    "    def __init__(self, questions):\n",
    "        self.questions = questions\n",
    "        self.score = 0\n",
    "\n",
    "    def run_quiz(self):\n",
    "        for i, question in enumerate(self.questions, 1):\n",
    "            print(f\"Question {i}: {question.text}\")\n",
    "            for j, option in enumerate(question.options, 1):\n",
    "                print(f\"{j}. {option}\")\n",
    "\n",
    "            user_answer = input(\"Your answer (enter the option number): \")\n",
    "            if question.is_correct(user_answer):\n",
    "                print(\"Correct!\\n\")\n",
    "                self.score += 1\n",
    "            else:\n",
    "                print(f\"Wrong! The correct answer was {question.correct_option}\\n\")\n",
    "\n",
    "            time.sleep(1)  # Add a delay for better readability\n",
    "\n",
    "        print(f\"You scored {self.score}/{len(self.questions)}.\")\n",
    "\n",
    "if __name__ == \"__main__\":\n",
    "    # Define your questions here\n",
    "    q1 = Question(\"Who is developed python?\", [\"Denny\", \"James Gosling\", \"Guido van Rossum\", \"Rome\"], \"Guido van Rossum\")\n",
    "    q2 = Question(\"subset of AI?\", [\"Data Science\", \"deep learning\", \"machine learning\", \"self learning\"],\"machine learning\")\n",
    "    q3 = Question(\"which statment cann't use in python?\", [\"control\", \"switch\", \"break\", \"continue\"], \"switch\")\n",
    "\n",
    "    questions_list = [q1, q2, q3]\n",
    "\n",
    "    # Create a quiz and run it\n",
    "    quiz = Quiz(questions_list)\n",
    "    quiz.run_quiz()\n"
   ]
  },
  {
   "cell_type": "code",
   "execution_count": null,
   "id": "e1215fb7",
   "metadata": {},
   "outputs": [],
   "source": []
  }
 ],
 "metadata": {
  "kernelspec": {
   "display_name": "Python 3 (ipykernel)",
   "language": "python",
   "name": "python3"
  },
  "language_info": {
   "codemirror_mode": {
    "name": "ipython",
    "version": 3
   },
   "file_extension": ".py",
   "mimetype": "text/x-python",
   "name": "python",
   "nbconvert_exporter": "python",
   "pygments_lexer": "ipython3",
   "version": "3.9.12"
  }
 },
 "nbformat": 4,
 "nbformat_minor": 5
}
