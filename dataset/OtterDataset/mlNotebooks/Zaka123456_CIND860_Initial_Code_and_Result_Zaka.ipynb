{
  "cells": [
    {
      "cell_type": "markdown",
      "metadata": {
        "id": "Xh8a50KOQULe"
      },
      "source": [
        "**CIND 860: Advanced Data Analytics Project**\n",
        "\n",
        "**Section: DJH**\n",
        "\n",
        "**Student Name: Muhammad Zaka Shaheryar**\n",
        "\n",
        "**Student #: 500648718**\n",
        "\n",
        "**Supervisor Name: Tamer Abdou**\n",
        "\n",
        "**Date of Submission: March 14th, 2024**\n",
        "\n",
        "**Project Title: Analysis of Sign language MNIST using Deep learning**\n",
        "\n",
        "**Project Deliverable: Initial Code and Result**\n",
        "\n",
        "**Github Link: https://github.com/Zaka123456/CIND860**\n",
        "\n",
        "\n"
      ]
    },
    {
      "cell_type": "markdown",
      "metadata": {
        "id": "VC9vNmTJu9Ze"
      },
      "source": [
        "**Link to dataset**\n",
        "\n",
        "https://www.kaggle.com/datasets/datamunge/sign-language-mnist"
      ]
    },
    {
      "cell_type": "markdown",
      "metadata": {
        "id": "uv0Z5phQOJJA"
      },
      "source": [
        "**Dataset Description**\n",
        "\n",
        "American Sign Language(ASL) is a complete, natural language that has the same linguistic properties as spoken languages, with grammar that differs from English. ASL is expressed by the movement of hands and faces. This dataset consists of 27,455 images of hand signs, each image is of 28 x 28 size and in grayscale format. The dataset format is patterned to match closely with the classic MNIST. Images in the dataset belong to a label from 0–25 representing letters from A-Z(but no cases of 9=J or 25=Z as they involve hand motion). The training data(27,455 cases) and the test data(7,172 cases) are approximately half the size of standard MNIST but otherwise similar to a header row of the label, pixel1, pixel….pixel784. The original hand gesture image data represented multiple users repeating gestures against different backgrounds. The Sign Language MNIST data came from greatly extending the small number (1704) of the color images included as not cropped around the hand region of interest.\n",
        "\n",
        "\n",
        "\n",
        "\n",
        "\n",
        "\n",
        "\n"
      ]
    },
    {
      "cell_type": "markdown",
      "metadata": {
        "id": "UCnoN9z8Mwnp"
      },
      "source": [
        "**Data Dictionary**\n",
        "\n",
        "**label:** Numeric target column of number 0-25 (excluding 9 and 25)\n",
        "\n",
        "**label_alpha:** categoriacal target column of alphabets A-Z (excluding J and Z)"
      ]
    },
    {
      "cell_type": "markdown",
      "source": [
        "**Libraries**"
      ],
      "metadata": {
        "id": "MUXPLQdUjVmX"
      }
    },
    {
      "cell_type": "code",
      "execution_count": null,
      "metadata": {
        "id": "hP8W09ko583w"
      },
      "outputs": [],
      "source": [
        "!pip install pydantic\n",
        "!pip install PyYAML\n",
        "!pip install jinja2\n",
        "!pip install visions\n",
        "!pip install htmlmin\n",
        "!pip install phik\n",
        "!pip install requests\n",
        "!pip install tqdm\n",
        "!pip install seaborn\n",
        "!pip install multimethod\n",
        "!pip install statsmodels\n",
        "!pip install typeguard\n",
        "!pip install imagehash\n",
        "!pip install wordcloud\n",
        "!pip install dacite\n",
        "!pip install numba\n",
        "!pip install np_utils\n",
        "!pip install keras-vis\n",
        "!pip install keras-utils\n",
        "!{sys.executable} -m pip install -U ydata-profiling\n",
        "!jupyter nbextension enable --py widgetsnbextension"
      ]
    },
    {
      "cell_type": "code",
      "execution_count": 2,
      "metadata": {
        "id": "RhUxqSIp9c_3"
      },
      "outputs": [],
      "source": [
        "# Import the necessary modules\n",
        "import pandas as pd\n",
        "import math\n",
        "import random\n",
        "import matplotlib.pyplot as plt\n",
        "from scipy import stats\n",
        "from sklearn.model_selection import train_test_split\n",
        "from sklearn.preprocessing import StandardScaler\n",
        "from tensorflow.keras.models import Sequential\n",
        "from tensorflow.keras.layers import Dense\n",
        "import sys\n",
        "import os\n",
        "#os.environ[\"CUDA_VISIBLE_DEVICES\"] = \"-1\" # Force TF to use only the CPU\n",
        "import tensorflow as tf\n",
        "import keras\n",
        "import numpy as np\n",
        "from tensorflow.keras import layers\n",
        "from tensorflow.keras import models\n",
        "from tensorflow.keras import optimizers\n",
        "from tensorflow.keras.utils import to_categorical\n",
        "from sklearn.neural_network import MLPClassifier\n",
        "from sklearn.metrics import accuracy_score\n",
        "from keras.datasets import fashion_mnist\n",
        "#from keras.utils import np_utils\n",
        "#from keras.utils.vis_utils import plot_model\n",
        "from sklearn.feature_selection import SelectKBest\n",
        "from sklearn.feature_selection import chi2\n",
        "import seaborn as sns\n",
        "from sklearn.ensemble import RandomForestClassifier\n",
        "from sklearn.feature_selection import RFE\n",
        "from sklearn.linear_model import LogisticRegression"
      ]
    },
    {
      "cell_type": "code",
      "execution_count": null,
      "metadata": {
        "id": "SxNiPX5hF8a9"
      },
      "outputs": [],
      "source": [
        "print(tf.__version__)\n",
        "print(keras.__version__)"
      ]
    },
    {
      "cell_type": "markdown",
      "source": [
        "**Data Preparation**"
      ],
      "metadata": {
        "id": "j878v3j7jJ4N"
      }
    },
    {
      "cell_type": "code",
      "execution_count": null,
      "metadata": {
        "id": "bdRFOfk7_ae2"
      },
      "outputs": [],
      "source": [
        "# Please note: Due to the size of the dataset, it can take anywhere from 10-15 minutes to fully upload the train dataset (around 27,000 rows)\n",
        "\n",
        "# Uploading train dataset\n",
        "from google.colab import files\n",
        "file_upload_train = files.upload()"
      ]
    },
    {
      "cell_type": "code",
      "execution_count": null,
      "metadata": {
        "id": "KpRPpq8X-MJ3"
      },
      "outputs": [],
      "source": [
        "# Uploading test dataset\n",
        "from google.colab import files\n",
        "file_upload_test = files.upload()"
      ]
    },
    {
      "cell_type": "code",
      "execution_count": null,
      "metadata": {
        "id": "ueWXEazm6uup"
      },
      "outputs": [],
      "source": [
        "sign_mnist_train_file = \"sign_mnist_train.csv\"\n",
        "data_sign_train = pd.read_csv(sign_mnist_train_file, sep = ',', header=0)\n",
        "\n",
        "sign_mnist_test_file = \"sign_mnist_test.csv\"\n",
        "data_sign_test = pd.read_csv(sign_mnist_test_file, sep = ',', header=0)\n",
        "\n",
        "display(data_sign_train)\n",
        "display(data_sign_test)"
      ]
    },
    {
      "cell_type": "code",
      "execution_count": null,
      "metadata": {
        "id": "qW_ucjIYA1Zw"
      },
      "outputs": [],
      "source": [
        "print(data_sign_train.shape)\n",
        "print(data_sign_test.shape)\n",
        "print(len(data_sign_train))"
      ]
    },
    {
      "cell_type": "code",
      "execution_count": 8,
      "metadata": {
        "id": "_SVHsrVjBnD_",
        "colab": {
          "base_uri": "https://localhost:8080/"
        },
        "outputId": "172d07fe-007e-4ca8-a889-85c5ae52753d"
      },
      "outputs": [
        {
          "output_type": "stream",
          "name": "stdout",
          "text": [
            "label       0\n",
            "pixel1      0\n",
            "pixel2      0\n",
            "pixel3      0\n",
            "pixel4      0\n",
            "           ..\n",
            "pixel780    0\n",
            "pixel781    0\n",
            "pixel782    0\n",
            "pixel783    0\n",
            "pixel784    0\n",
            "Length: 785, dtype: int64\n",
            "label        24\n",
            "pixel1      255\n",
            "pixel2      255\n",
            "pixel3      255\n",
            "pixel4      255\n",
            "           ... \n",
            "pixel780    255\n",
            "pixel781    255\n",
            "pixel782    255\n",
            "pixel783    255\n",
            "pixel784    255\n",
            "Length: 785, dtype: int64\n"
          ]
        }
      ],
      "source": [
        "print(data_sign_train.min())\n",
        "print(data_sign_test.max())"
      ]
    },
    {
      "cell_type": "code",
      "execution_count": null,
      "metadata": {
        "id": "rqUK6smLBzRy"
      },
      "outputs": [],
      "source": [
        "print(type(data_sign_train))\n",
        "print(type(data_sign_test))"
      ]
    },
    {
      "cell_type": "code",
      "execution_count": null,
      "metadata": {
        "id": "4bmgbDpsCRMA"
      },
      "outputs": [],
      "source": [
        "print(data_sign_train['label'])"
      ]
    },
    {
      "cell_type": "code",
      "execution_count": null,
      "metadata": {
        "id": "8pBRwpDADOBC"
      },
      "outputs": [],
      "source": [
        "data_sign_train['label'].describe()"
      ]
    },
    {
      "cell_type": "code",
      "execution_count": null,
      "metadata": {
        "id": "gmth4CGZDsco"
      },
      "outputs": [],
      "source": [
        "data_sign_train['label'].info()"
      ]
    },
    {
      "cell_type": "code",
      "execution_count": null,
      "metadata": {
        "id": "JBFDarvWDv1P"
      },
      "outputs": [],
      "source": [
        "display(data_sign_train['label'].unique())"
      ]
    },
    {
      "cell_type": "code",
      "execution_count": 14,
      "metadata": {
        "id": "xtnQr5wlEvuD"
      },
      "outputs": [],
      "source": [
        "num_to_cat = {0: 'A', 1: 'B', 2: 'C', 3: 'D', 4: 'E', 5: 'F', 6:'G', 7:'H', 8:'I', 10:'K', 11:'L', 12:'M', 13:'N', 14:'O', 15:'P', 16:'Q', 17:'R', 18:'S', 19:'T', 20:'U', 21:'V', 22:'W', 23:'X', 24:'Y'}"
      ]
    },
    {
      "cell_type": "code",
      "execution_count": 15,
      "metadata": {
        "id": "OhKmmB9LGEFd"
      },
      "outputs": [],
      "source": [
        "# Convert numerical labels to categorical labels for train set\n",
        "categorical_labels = [num_to_cat[label] for label in data_sign_train['label']]"
      ]
    },
    {
      "cell_type": "code",
      "execution_count": null,
      "metadata": {
        "id": "HHwaxhNYHH_u"
      },
      "outputs": [],
      "source": [
        "print(categorical_labels)"
      ]
    },
    {
      "cell_type": "code",
      "execution_count": 17,
      "metadata": {
        "id": "HzcEX7n-K3gh"
      },
      "outputs": [],
      "source": [
        "data_sign_train['label_alpha'] = categorical_labels"
      ]
    },
    {
      "cell_type": "code",
      "execution_count": 18,
      "metadata": {
        "id": "4OEPvwctLFhR"
      },
      "outputs": [],
      "source": [
        "data_sign_train['label_alpha'] = data_sign_train['label_alpha'].astype('category')"
      ]
    },
    {
      "cell_type": "code",
      "execution_count": 19,
      "metadata": {
        "id": "9YjVzSjRAS1-"
      },
      "outputs": [],
      "source": [
        "train_2 = data_sign_train"
      ]
    },
    {
      "cell_type": "code",
      "execution_count": 20,
      "metadata": {
        "id": "b7g65p2cOEAI"
      },
      "outputs": [],
      "source": [
        "# Convert numerical labels to categorical labels for test set\n",
        "categorical_labels = [num_to_cat[label] for label in data_sign_test['label']]"
      ]
    },
    {
      "cell_type": "code",
      "execution_count": 21,
      "metadata": {
        "id": "1R4eUhRuN9zH"
      },
      "outputs": [],
      "source": [
        "data_sign_test['label_alpha'] = categorical_labels"
      ]
    },
    {
      "cell_type": "code",
      "execution_count": 22,
      "metadata": {
        "id": "9TaXfX89OABY"
      },
      "outputs": [],
      "source": [
        "data_sign_test['label_alpha'] = data_sign_test['label_alpha'].astype('category')"
      ]
    },
    {
      "cell_type": "code",
      "execution_count": 23,
      "metadata": {
        "id": "X95GNc4GHoRC",
        "colab": {
          "base_uri": "https://localhost:8080/",
          "height": 424
        },
        "outputId": "c6fe03be-ccf1-465f-8733-5173e61d6827"
      },
      "outputs": [
        {
          "output_type": "display_data",
          "data": {
            "text/plain": [
              "       label  pixel1  pixel2  pixel3  pixel4  pixel5  pixel6  pixel7  pixel8  \\\n",
              "0          3     107     118     127     134     139     143     146     150   \n",
              "1          6     155     157     156     156     156     157     156     158   \n",
              "2          2     187     188     188     187     187     186     187     188   \n",
              "3          2     211     211     212     212     211     210     211     210   \n",
              "4         13     164     167     170     172     176     179     180     184   \n",
              "...      ...     ...     ...     ...     ...     ...     ...     ...     ...   \n",
              "27450     13     189     189     190     190     192     193     193     193   \n",
              "27451     23     151     154     157     158     160     161     163     164   \n",
              "27452     18     174     174     174     174     174     175     175     174   \n",
              "27453     17     177     181     184     185     187     189     190     191   \n",
              "27454     23     179     180     180     180     182     181     182     183   \n",
              "\n",
              "       pixel9  ...  pixel776  pixel777  pixel778  pixel779  pixel780  \\\n",
              "0         153  ...       207       207       207       206       206   \n",
              "1         158  ...       149       128        87        94       163   \n",
              "2         187  ...       201       200       199       198       199   \n",
              "3         210  ...       234       233       231       230       226   \n",
              "4         185  ...       105       105       108       133       163   \n",
              "...       ...  ...       ...       ...       ...       ...       ...   \n",
              "27450     193  ...       165        99        77        52       200   \n",
              "27451     166  ...       198       198       198       198       196   \n",
              "27452     173  ...       196       209       208       206       204   \n",
              "27453     191  ...        56        27        58       102        79   \n",
              "27454     182  ...       132       170       194       214       203   \n",
              "\n",
              "       pixel781  pixel782  pixel783  pixel784  label_alpha  \n",
              "0           206       204       203       202            D  \n",
              "1           175       103       135       149            G  \n",
              "2           198       195       194       195            C  \n",
              "3           225       222       229       163            C  \n",
              "4           157       163       164       179            N  \n",
              "...         ...       ...       ...       ...          ...  \n",
              "27450       234       200       222       225            N  \n",
              "27451       195       195       195       194            X  \n",
              "27452       203       202       200       200            S  \n",
              "27453        47        64        87        93            R  \n",
              "27454       197       205       209       215            X  \n",
              "\n",
              "[27455 rows x 786 columns]"
            ],
            "text/html": [
              "\n",
              "  <div id=\"df-88d6b0cd-193c-4c9f-9277-1d52460060f6\" class=\"colab-df-container\">\n",
              "    <div>\n",
              "<style scoped>\n",
              "    .dataframe tbody tr th:only-of-type {\n",
              "        vertical-align: middle;\n",
              "    }\n",
              "\n",
              "    .dataframe tbody tr th {\n",
              "        vertical-align: top;\n",
              "    }\n",
              "\n",
              "    .dataframe thead th {\n",
              "        text-align: right;\n",
              "    }\n",
              "</style>\n",
              "<table border=\"1\" class=\"dataframe\">\n",
              "  <thead>\n",
              "    <tr style=\"text-align: right;\">\n",
              "      <th></th>\n",
              "      <th>label</th>\n",
              "      <th>pixel1</th>\n",
              "      <th>pixel2</th>\n",
              "      <th>pixel3</th>\n",
              "      <th>pixel4</th>\n",
              "      <th>pixel5</th>\n",
              "      <th>pixel6</th>\n",
              "      <th>pixel7</th>\n",
              "      <th>pixel8</th>\n",
              "      <th>pixel9</th>\n",
              "      <th>...</th>\n",
              "      <th>pixel776</th>\n",
              "      <th>pixel777</th>\n",
              "      <th>pixel778</th>\n",
              "      <th>pixel779</th>\n",
              "      <th>pixel780</th>\n",
              "      <th>pixel781</th>\n",
              "      <th>pixel782</th>\n",
              "      <th>pixel783</th>\n",
              "      <th>pixel784</th>\n",
              "      <th>label_alpha</th>\n",
              "    </tr>\n",
              "  </thead>\n",
              "  <tbody>\n",
              "    <tr>\n",
              "      <th>0</th>\n",
              "      <td>3</td>\n",
              "      <td>107</td>\n",
              "      <td>118</td>\n",
              "      <td>127</td>\n",
              "      <td>134</td>\n",
              "      <td>139</td>\n",
              "      <td>143</td>\n",
              "      <td>146</td>\n",
              "      <td>150</td>\n",
              "      <td>153</td>\n",
              "      <td>...</td>\n",
              "      <td>207</td>\n",
              "      <td>207</td>\n",
              "      <td>207</td>\n",
              "      <td>206</td>\n",
              "      <td>206</td>\n",
              "      <td>206</td>\n",
              "      <td>204</td>\n",
              "      <td>203</td>\n",
              "      <td>202</td>\n",
              "      <td>D</td>\n",
              "    </tr>\n",
              "    <tr>\n",
              "      <th>1</th>\n",
              "      <td>6</td>\n",
              "      <td>155</td>\n",
              "      <td>157</td>\n",
              "      <td>156</td>\n",
              "      <td>156</td>\n",
              "      <td>156</td>\n",
              "      <td>157</td>\n",
              "      <td>156</td>\n",
              "      <td>158</td>\n",
              "      <td>158</td>\n",
              "      <td>...</td>\n",
              "      <td>149</td>\n",
              "      <td>128</td>\n",
              "      <td>87</td>\n",
              "      <td>94</td>\n",
              "      <td>163</td>\n",
              "      <td>175</td>\n",
              "      <td>103</td>\n",
              "      <td>135</td>\n",
              "      <td>149</td>\n",
              "      <td>G</td>\n",
              "    </tr>\n",
              "    <tr>\n",
              "      <th>2</th>\n",
              "      <td>2</td>\n",
              "      <td>187</td>\n",
              "      <td>188</td>\n",
              "      <td>188</td>\n",
              "      <td>187</td>\n",
              "      <td>187</td>\n",
              "      <td>186</td>\n",
              "      <td>187</td>\n",
              "      <td>188</td>\n",
              "      <td>187</td>\n",
              "      <td>...</td>\n",
              "      <td>201</td>\n",
              "      <td>200</td>\n",
              "      <td>199</td>\n",
              "      <td>198</td>\n",
              "      <td>199</td>\n",
              "      <td>198</td>\n",
              "      <td>195</td>\n",
              "      <td>194</td>\n",
              "      <td>195</td>\n",
              "      <td>C</td>\n",
              "    </tr>\n",
              "    <tr>\n",
              "      <th>3</th>\n",
              "      <td>2</td>\n",
              "      <td>211</td>\n",
              "      <td>211</td>\n",
              "      <td>212</td>\n",
              "      <td>212</td>\n",
              "      <td>211</td>\n",
              "      <td>210</td>\n",
              "      <td>211</td>\n",
              "      <td>210</td>\n",
              "      <td>210</td>\n",
              "      <td>...</td>\n",
              "      <td>234</td>\n",
              "      <td>233</td>\n",
              "      <td>231</td>\n",
              "      <td>230</td>\n",
              "      <td>226</td>\n",
              "      <td>225</td>\n",
              "      <td>222</td>\n",
              "      <td>229</td>\n",
              "      <td>163</td>\n",
              "      <td>C</td>\n",
              "    </tr>\n",
              "    <tr>\n",
              "      <th>4</th>\n",
              "      <td>13</td>\n",
              "      <td>164</td>\n",
              "      <td>167</td>\n",
              "      <td>170</td>\n",
              "      <td>172</td>\n",
              "      <td>176</td>\n",
              "      <td>179</td>\n",
              "      <td>180</td>\n",
              "      <td>184</td>\n",
              "      <td>185</td>\n",
              "      <td>...</td>\n",
              "      <td>105</td>\n",
              "      <td>105</td>\n",
              "      <td>108</td>\n",
              "      <td>133</td>\n",
              "      <td>163</td>\n",
              "      <td>157</td>\n",
              "      <td>163</td>\n",
              "      <td>164</td>\n",
              "      <td>179</td>\n",
              "      <td>N</td>\n",
              "    </tr>\n",
              "    <tr>\n",
              "      <th>...</th>\n",
              "      <td>...</td>\n",
              "      <td>...</td>\n",
              "      <td>...</td>\n",
              "      <td>...</td>\n",
              "      <td>...</td>\n",
              "      <td>...</td>\n",
              "      <td>...</td>\n",
              "      <td>...</td>\n",
              "      <td>...</td>\n",
              "      <td>...</td>\n",
              "      <td>...</td>\n",
              "      <td>...</td>\n",
              "      <td>...</td>\n",
              "      <td>...</td>\n",
              "      <td>...</td>\n",
              "      <td>...</td>\n",
              "      <td>...</td>\n",
              "      <td>...</td>\n",
              "      <td>...</td>\n",
              "      <td>...</td>\n",
              "      <td>...</td>\n",
              "    </tr>\n",
              "    <tr>\n",
              "      <th>27450</th>\n",
              "      <td>13</td>\n",
              "      <td>189</td>\n",
              "      <td>189</td>\n",
              "      <td>190</td>\n",
              "      <td>190</td>\n",
              "      <td>192</td>\n",
              "      <td>193</td>\n",
              "      <td>193</td>\n",
              "      <td>193</td>\n",
              "      <td>193</td>\n",
              "      <td>...</td>\n",
              "      <td>165</td>\n",
              "      <td>99</td>\n",
              "      <td>77</td>\n",
              "      <td>52</td>\n",
              "      <td>200</td>\n",
              "      <td>234</td>\n",
              "      <td>200</td>\n",
              "      <td>222</td>\n",
              "      <td>225</td>\n",
              "      <td>N</td>\n",
              "    </tr>\n",
              "    <tr>\n",
              "      <th>27451</th>\n",
              "      <td>23</td>\n",
              "      <td>151</td>\n",
              "      <td>154</td>\n",
              "      <td>157</td>\n",
              "      <td>158</td>\n",
              "      <td>160</td>\n",
              "      <td>161</td>\n",
              "      <td>163</td>\n",
              "      <td>164</td>\n",
              "      <td>166</td>\n",
              "      <td>...</td>\n",
              "      <td>198</td>\n",
              "      <td>198</td>\n",
              "      <td>198</td>\n",
              "      <td>198</td>\n",
              "      <td>196</td>\n",
              "      <td>195</td>\n",
              "      <td>195</td>\n",
              "      <td>195</td>\n",
              "      <td>194</td>\n",
              "      <td>X</td>\n",
              "    </tr>\n",
              "    <tr>\n",
              "      <th>27452</th>\n",
              "      <td>18</td>\n",
              "      <td>174</td>\n",
              "      <td>174</td>\n",
              "      <td>174</td>\n",
              "      <td>174</td>\n",
              "      <td>174</td>\n",
              "      <td>175</td>\n",
              "      <td>175</td>\n",
              "      <td>174</td>\n",
              "      <td>173</td>\n",
              "      <td>...</td>\n",
              "      <td>196</td>\n",
              "      <td>209</td>\n",
              "      <td>208</td>\n",
              "      <td>206</td>\n",
              "      <td>204</td>\n",
              "      <td>203</td>\n",
              "      <td>202</td>\n",
              "      <td>200</td>\n",
              "      <td>200</td>\n",
              "      <td>S</td>\n",
              "    </tr>\n",
              "    <tr>\n",
              "      <th>27453</th>\n",
              "      <td>17</td>\n",
              "      <td>177</td>\n",
              "      <td>181</td>\n",
              "      <td>184</td>\n",
              "      <td>185</td>\n",
              "      <td>187</td>\n",
              "      <td>189</td>\n",
              "      <td>190</td>\n",
              "      <td>191</td>\n",
              "      <td>191</td>\n",
              "      <td>...</td>\n",
              "      <td>56</td>\n",
              "      <td>27</td>\n",
              "      <td>58</td>\n",
              "      <td>102</td>\n",
              "      <td>79</td>\n",
              "      <td>47</td>\n",
              "      <td>64</td>\n",
              "      <td>87</td>\n",
              "      <td>93</td>\n",
              "      <td>R</td>\n",
              "    </tr>\n",
              "    <tr>\n",
              "      <th>27454</th>\n",
              "      <td>23</td>\n",
              "      <td>179</td>\n",
              "      <td>180</td>\n",
              "      <td>180</td>\n",
              "      <td>180</td>\n",
              "      <td>182</td>\n",
              "      <td>181</td>\n",
              "      <td>182</td>\n",
              "      <td>183</td>\n",
              "      <td>182</td>\n",
              "      <td>...</td>\n",
              "      <td>132</td>\n",
              "      <td>170</td>\n",
              "      <td>194</td>\n",
              "      <td>214</td>\n",
              "      <td>203</td>\n",
              "      <td>197</td>\n",
              "      <td>205</td>\n",
              "      <td>209</td>\n",
              "      <td>215</td>\n",
              "      <td>X</td>\n",
              "    </tr>\n",
              "  </tbody>\n",
              "</table>\n",
              "<p>27455 rows × 786 columns</p>\n",
              "</div>\n",
              "    <div class=\"colab-df-buttons\">\n",
              "\n",
              "  <div class=\"colab-df-container\">\n",
              "    <button class=\"colab-df-convert\" onclick=\"convertToInteractive('df-88d6b0cd-193c-4c9f-9277-1d52460060f6')\"\n",
              "            title=\"Convert this dataframe to an interactive table.\"\n",
              "            style=\"display:none;\">\n",
              "\n",
              "  <svg xmlns=\"http://www.w3.org/2000/svg\" height=\"24px\" viewBox=\"0 -960 960 960\">\n",
              "    <path d=\"M120-120v-720h720v720H120Zm60-500h600v-160H180v160Zm220 220h160v-160H400v160Zm0 220h160v-160H400v160ZM180-400h160v-160H180v160Zm440 0h160v-160H620v160ZM180-180h160v-160H180v160Zm440 0h160v-160H620v160Z\"/>\n",
              "  </svg>\n",
              "    </button>\n",
              "\n",
              "  <style>\n",
              "    .colab-df-container {\n",
              "      display:flex;\n",
              "      gap: 12px;\n",
              "    }\n",
              "\n",
              "    .colab-df-convert {\n",
              "      background-color: #E8F0FE;\n",
              "      border: none;\n",
              "      border-radius: 50%;\n",
              "      cursor: pointer;\n",
              "      display: none;\n",
              "      fill: #1967D2;\n",
              "      height: 32px;\n",
              "      padding: 0 0 0 0;\n",
              "      width: 32px;\n",
              "    }\n",
              "\n",
              "    .colab-df-convert:hover {\n",
              "      background-color: #E2EBFA;\n",
              "      box-shadow: 0px 1px 2px rgba(60, 64, 67, 0.3), 0px 1px 3px 1px rgba(60, 64, 67, 0.15);\n",
              "      fill: #174EA6;\n",
              "    }\n",
              "\n",
              "    .colab-df-buttons div {\n",
              "      margin-bottom: 4px;\n",
              "    }\n",
              "\n",
              "    [theme=dark] .colab-df-convert {\n",
              "      background-color: #3B4455;\n",
              "      fill: #D2E3FC;\n",
              "    }\n",
              "\n",
              "    [theme=dark] .colab-df-convert:hover {\n",
              "      background-color: #434B5C;\n",
              "      box-shadow: 0px 1px 3px 1px rgba(0, 0, 0, 0.15);\n",
              "      filter: drop-shadow(0px 1px 2px rgba(0, 0, 0, 0.3));\n",
              "      fill: #FFFFFF;\n",
              "    }\n",
              "  </style>\n",
              "\n",
              "    <script>\n",
              "      const buttonEl =\n",
              "        document.querySelector('#df-88d6b0cd-193c-4c9f-9277-1d52460060f6 button.colab-df-convert');\n",
              "      buttonEl.style.display =\n",
              "        google.colab.kernel.accessAllowed ? 'block' : 'none';\n",
              "\n",
              "      async function convertToInteractive(key) {\n",
              "        const element = document.querySelector('#df-88d6b0cd-193c-4c9f-9277-1d52460060f6');\n",
              "        const dataTable =\n",
              "          await google.colab.kernel.invokeFunction('convertToInteractive',\n",
              "                                                    [key], {});\n",
              "        if (!dataTable) return;\n",
              "\n",
              "        const docLinkHtml = 'Like what you see? Visit the ' +\n",
              "          '<a target=\"_blank\" href=https://colab.research.google.com/notebooks/data_table.ipynb>data table notebook</a>'\n",
              "          + ' to learn more about interactive tables.';\n",
              "        element.innerHTML = '';\n",
              "        dataTable['output_type'] = 'display_data';\n",
              "        await google.colab.output.renderOutput(dataTable, element);\n",
              "        const docLink = document.createElement('div');\n",
              "        docLink.innerHTML = docLinkHtml;\n",
              "        element.appendChild(docLink);\n",
              "      }\n",
              "    </script>\n",
              "  </div>\n",
              "\n",
              "\n",
              "<div id=\"df-874ff288-739a-4f2f-8bc0-fd2230148f70\">\n",
              "  <button class=\"colab-df-quickchart\" onclick=\"quickchart('df-874ff288-739a-4f2f-8bc0-fd2230148f70')\"\n",
              "            title=\"Suggest charts\"\n",
              "            style=\"display:none;\">\n",
              "\n",
              "<svg xmlns=\"http://www.w3.org/2000/svg\" height=\"24px\"viewBox=\"0 0 24 24\"\n",
              "     width=\"24px\">\n",
              "    <g>\n",
              "        <path d=\"M19 3H5c-1.1 0-2 .9-2 2v14c0 1.1.9 2 2 2h14c1.1 0 2-.9 2-2V5c0-1.1-.9-2-2-2zM9 17H7v-7h2v7zm4 0h-2V7h2v10zm4 0h-2v-4h2v4z\"/>\n",
              "    </g>\n",
              "</svg>\n",
              "  </button>\n",
              "\n",
              "<style>\n",
              "  .colab-df-quickchart {\n",
              "      --bg-color: #E8F0FE;\n",
              "      --fill-color: #1967D2;\n",
              "      --hover-bg-color: #E2EBFA;\n",
              "      --hover-fill-color: #174EA6;\n",
              "      --disabled-fill-color: #AAA;\n",
              "      --disabled-bg-color: #DDD;\n",
              "  }\n",
              "\n",
              "  [theme=dark] .colab-df-quickchart {\n",
              "      --bg-color: #3B4455;\n",
              "      --fill-color: #D2E3FC;\n",
              "      --hover-bg-color: #434B5C;\n",
              "      --hover-fill-color: #FFFFFF;\n",
              "      --disabled-bg-color: #3B4455;\n",
              "      --disabled-fill-color: #666;\n",
              "  }\n",
              "\n",
              "  .colab-df-quickchart {\n",
              "    background-color: var(--bg-color);\n",
              "    border: none;\n",
              "    border-radius: 50%;\n",
              "    cursor: pointer;\n",
              "    display: none;\n",
              "    fill: var(--fill-color);\n",
              "    height: 32px;\n",
              "    padding: 0;\n",
              "    width: 32px;\n",
              "  }\n",
              "\n",
              "  .colab-df-quickchart:hover {\n",
              "    background-color: var(--hover-bg-color);\n",
              "    box-shadow: 0 1px 2px rgba(60, 64, 67, 0.3), 0 1px 3px 1px rgba(60, 64, 67, 0.15);\n",
              "    fill: var(--button-hover-fill-color);\n",
              "  }\n",
              "\n",
              "  .colab-df-quickchart-complete:disabled,\n",
              "  .colab-df-quickchart-complete:disabled:hover {\n",
              "    background-color: var(--disabled-bg-color);\n",
              "    fill: var(--disabled-fill-color);\n",
              "    box-shadow: none;\n",
              "  }\n",
              "\n",
              "  .colab-df-spinner {\n",
              "    border: 2px solid var(--fill-color);\n",
              "    border-color: transparent;\n",
              "    border-bottom-color: var(--fill-color);\n",
              "    animation:\n",
              "      spin 1s steps(1) infinite;\n",
              "  }\n",
              "\n",
              "  @keyframes spin {\n",
              "    0% {\n",
              "      border-color: transparent;\n",
              "      border-bottom-color: var(--fill-color);\n",
              "      border-left-color: var(--fill-color);\n",
              "    }\n",
              "    20% {\n",
              "      border-color: transparent;\n",
              "      border-left-color: var(--fill-color);\n",
              "      border-top-color: var(--fill-color);\n",
              "    }\n",
              "    30% {\n",
              "      border-color: transparent;\n",
              "      border-left-color: var(--fill-color);\n",
              "      border-top-color: var(--fill-color);\n",
              "      border-right-color: var(--fill-color);\n",
              "    }\n",
              "    40% {\n",
              "      border-color: transparent;\n",
              "      border-right-color: var(--fill-color);\n",
              "      border-top-color: var(--fill-color);\n",
              "    }\n",
              "    60% {\n",
              "      border-color: transparent;\n",
              "      border-right-color: var(--fill-color);\n",
              "    }\n",
              "    80% {\n",
              "      border-color: transparent;\n",
              "      border-right-color: var(--fill-color);\n",
              "      border-bottom-color: var(--fill-color);\n",
              "    }\n",
              "    90% {\n",
              "      border-color: transparent;\n",
              "      border-bottom-color: var(--fill-color);\n",
              "    }\n",
              "  }\n",
              "</style>\n",
              "\n",
              "  <script>\n",
              "    async function quickchart(key) {\n",
              "      const quickchartButtonEl =\n",
              "        document.querySelector('#' + key + ' button');\n",
              "      quickchartButtonEl.disabled = true;  // To prevent multiple clicks.\n",
              "      quickchartButtonEl.classList.add('colab-df-spinner');\n",
              "      try {\n",
              "        const charts = await google.colab.kernel.invokeFunction(\n",
              "            'suggestCharts', [key], {});\n",
              "      } catch (error) {\n",
              "        console.error('Error during call to suggestCharts:', error);\n",
              "      }\n",
              "      quickchartButtonEl.classList.remove('colab-df-spinner');\n",
              "      quickchartButtonEl.classList.add('colab-df-quickchart-complete');\n",
              "    }\n",
              "    (() => {\n",
              "      let quickchartButtonEl =\n",
              "        document.querySelector('#df-874ff288-739a-4f2f-8bc0-fd2230148f70 button');\n",
              "      quickchartButtonEl.style.display =\n",
              "        google.colab.kernel.accessAllowed ? 'block' : 'none';\n",
              "    })();\n",
              "  </script>\n",
              "</div>\n",
              "    </div>\n",
              "  </div>\n"
            ],
            "application/vnd.google.colaboratory.intrinsic+json": {
              "type": "dataframe",
              "variable_name": "data_sign_train"
            }
          },
          "metadata": {}
        }
      ],
      "source": [
        "display(train_2)"
      ]
    },
    {
      "cell_type": "code",
      "execution_count": 24,
      "metadata": {
        "id": "XdqeShaqAxR3"
      },
      "outputs": [],
      "source": [
        "test_2 = data_sign_test"
      ]
    },
    {
      "cell_type": "code",
      "execution_count": null,
      "metadata": {
        "id": "ZK54gFmfOOHV"
      },
      "outputs": [],
      "source": [
        "display(test_2)"
      ]
    },
    {
      "cell_type": "code",
      "execution_count": null,
      "metadata": {
        "id": "O5I-H-jrM74P"
      },
      "outputs": [],
      "source": [
        "data_sign_train['label_alpha'].info()"
      ]
    },
    {
      "cell_type": "code",
      "execution_count": null,
      "metadata": {
        "id": "LTvmKZNkNHL4"
      },
      "outputs": [],
      "source": [
        "data_sign_train['label_alpha'].describe()"
      ]
    },
    {
      "cell_type": "code",
      "execution_count": null,
      "metadata": {
        "id": "aX45CFpoNm55"
      },
      "outputs": [],
      "source": [
        "data_sign_train['label_alpha'].unique()"
      ]
    },
    {
      "cell_type": "code",
      "execution_count": null,
      "metadata": {
        "id": "CULeUIbNOVNs"
      },
      "outputs": [],
      "source": [
        "data_sign_test['label_alpha'].unique()"
      ]
    },
    {
      "cell_type": "code",
      "execution_count": null,
      "metadata": {
        "id": "FzoPC9KW9vgc"
      },
      "outputs": [],
      "source": [
        "data_sign_train.columns"
      ]
    },
    {
      "cell_type": "code",
      "execution_count": null,
      "metadata": {
        "id": "KLkP_Ehi-f2N"
      },
      "outputs": [],
      "source": [
        "data_sign_train.info()"
      ]
    },
    {
      "cell_type": "code",
      "execution_count": 31,
      "metadata": {
        "id": "lgZ41OR3-5Bg"
      },
      "outputs": [],
      "source": [
        "data_sign_train['label_alpha'] = data_sign_train['label_alpha'].astype(str)"
      ]
    },
    {
      "cell_type": "markdown",
      "source": [
        "**Expolatory Data Analysis**"
      ],
      "metadata": {
        "id": "kKbbOoeKiKl1"
      }
    },
    {
      "cell_type": "code",
      "execution_count": null,
      "metadata": {
        "id": "1fVFy83-yNx3"
      },
      "outputs": [],
      "source": [
        "# Filter method # start from here\n",
        "\n",
        "# Load the train dataset from the CSV file\n",
        "sign_train_file = \"sign_mnist_train.csv\"\n",
        "data_sign_train = pd.read_csv(sign_train_file, sep=',', header=0)\n",
        "\n",
        "# Separating the features (pixels - independent variables) and the target variable (label)\n",
        "X_train = data_sign_train.iloc[:, 1:784] # Features\n",
        "y_train = data_sign_train['label'].iloc[:]   # dependent variable\n",
        "\n",
        "\n",
        "# Calculate Chi-square scores and select top 25% pixels\n",
        "selector = SelectKBest(chi2, k=int(X_train.shape[1] * 0.25))\n",
        "X_train_filtered = selector.fit_transform(X_train, y_train)\n",
        "\n",
        "# Calculate the threshold for the top 25%\n",
        "threshold = np.percentile(selector.scores_, 75)\n",
        "\n",
        "# Create a dataframe with pixel indices and their importance scores\n",
        "df_importance = pd.DataFrame({\n",
        "    'Pixel Index': range(X_train.shape[1]),\n",
        "    'Importance': selector.scores_\n",
        "})\n",
        "\n",
        "# Filter pixels above the threshold\n",
        "df_importance = df_importance[df_importance['Importance'] >= threshold]\n",
        "\n",
        "# Display the top n pixels\n",
        "n = 25  # Number of top pixels to display\n",
        "df_importance = df_importance.sort_values(by='Importance', ascending=False)\n",
        "display(df_importance.head(n))"
      ]
    },
    {
      "cell_type": "code",
      "execution_count": null,
      "metadata": {
        "id": "E8t1pKL5yZLr"
      },
      "outputs": [],
      "source": [
        "# Hybrid method (took 11-14 min)\n",
        "# Use the filtered pixels as the subset\n",
        "model = LogisticRegression()\n",
        "X_train_subset = X_train_filtered\n",
        "\n",
        "# Select top 25% pixels from the subset based on feature importance\n",
        "rfe = RFE(estimator=model, n_features_to_select=int(X_train_subset.shape[1] * 0.25))\n",
        "X_train_hybrid = rfe.fit_transform(X_train_subset, y_train)"
      ]
    },
    {
      "cell_type": "code",
      "execution_count": null,
      "metadata": {
        "id": "aBIlRZyX0aoi"
      },
      "outputs": [],
      "source": [
        "# Load the train dataset from the CSV file\n",
        "sign_train_file = \"sign_mnist_train.csv\"\n",
        "data_sign_train = pd.read_csv(sign_train_file, sep=',', header=0)\n",
        "\n",
        "# Separating the features (pixels - independent variables) and the target variable (label)\n",
        "X_train = data_sign_train.iloc[:, 1:]  # Features (top 20 pixels)\n",
        "y_train = data_sign_train.iloc[:, 0]   # dependent\n",
        "\n",
        "# Creating a Random Forest Classifier\n",
        "rf_classifier_train = RandomForestClassifier(n_estimators=100, random_state=0)\n",
        "rf_classifier_train.fit(X_train, y_train)\n",
        "\n",
        "# Getting feature importances from the Random Forest model\n",
        "feature_importances = rf_classifier_train.feature_importances_\n",
        "\n",
        "# Using the top 20 features to select\n",
        "n_top_features = 20\n",
        "\n",
        "# Getting the indices of the top pixels\n",
        "top_indices = feature_importances.argsort()[-n_top_features:]\n",
        "\n",
        "# Selecting the top 20 of all the ranked pixels\n",
        "selected_features = X_train.columns[top_indices]\n",
        "selected_feature_importances = feature_importances[top_indices]\n",
        "\n",
        "# Creating a DataFrame for the top 20 pixels and their importances\n",
        "feature_df_train = pd.DataFrame({\n",
        "    'Features': selected_features,\n",
        "    'Importance': selected_feature_importances})\n",
        "\n",
        "# Sorting the DataFrame by importance in descending order (from largest to smallest - top 20)\n",
        "feature_df_train = feature_df_train.sort_values(by='Importance', ascending=False)\n",
        "\n",
        "# Reseting the index to start from 1 instead of 0 (this command was used because it originally ranked from 0-19, instead of 1-20)\n",
        "feature_df_train.index = range(1, n_top_features + 1)\n",
        "\n",
        "# Displaying the top 20 ranked pixels and their importance values\n",
        "print(feature_df_train)"
      ]
    },
    {
      "cell_type": "markdown",
      "source": [
        "Hybrid technique is choosen for project for now, bit it will be checked in later stage of project if it is better than filter technique. Also to avoid ssytem crashing small number of selected features is taken, therefore n is taken as 20."
      ],
      "metadata": {
        "id": "EU75x-kcO_u3"
      }
    },
    {
      "cell_type": "code",
      "execution_count": null,
      "metadata": {
        "id": "FtZ_hd6fHHuM"
      },
      "outputs": [],
      "source": [
        "# Loading train dataset from the CSV file\n",
        "sign_train_file = \"sign_mnist_train.csv\"\n",
        "data_sign_train = pd.read_csv(sign_train_file, sep=',', header=0)\n",
        "\n",
        "# Separating the features (pixels) and the target variable (label)\n",
        "X_train = data_sign_train.iloc[:, 1:]  # Features (top 20 pixels)\n",
        "y_train = data_sign_train.iloc[:, 0]   # Labels\n",
        "\n",
        "# Creating a Random Forest Classifier\n",
        "rf_classifier_train = RandomForestClassifier(n_estimators=100, random_state=0)\n",
        "rf_classifier_train.fit(X_train, y_train)\n",
        "\n",
        "# Getting feature importances from the Random Forest model\n",
        "feature_importances = rf_classifier_train.feature_importances_\n",
        "\n",
        "# Creating a DataFrame to display pixel importance values\n",
        "pixel_importance_df_train = pd.DataFrame({\n",
        "    'Pixel': X_train.columns,\n",
        "    'Importance': feature_importances\n",
        "})\n",
        "\n",
        "# Sorting the DataFrame by importance in descending order and select the top 20 pixels\n",
        "top_20_pixels_train = pixel_importance_df_train.nlargest(20, 'Importance')\n",
        "\n",
        "# Creating a DataFrame to store the data for the top 20 pixels\n",
        "top_20_pixels_data_train = X_train[top_20_pixels_train['Pixel']].copy()  # Make a copy to avoid the SettingWithCopyWarning error message\n",
        "\n",
        "top_20_pixels_data_train = pd.concat([y_train, top_20_pixels_data_train], axis=1)\n",
        "\n",
        "# Saving the DataFrame to a CSV file\n",
        "top_20_pixels_data_train.to_csv(\"top_20_pixels_with_labels_train.csv\", index=False)"
      ]
    },
    {
      "cell_type": "code",
      "execution_count": null,
      "metadata": {
        "id": "QQSKIDpoF8Qa"
      },
      "outputs": [],
      "source": [
        "display(top_20_pixels_data_train)"
      ]
    },
    {
      "cell_type": "code",
      "execution_count": null,
      "metadata": {
        "id": "WsZCaOURFrWC"
      },
      "outputs": [],
      "source": [
        "# Panda Profiling report for the TRAIN SET (about 20,000 rows)\n",
        "!pip install ydata_profiling\n",
        "from ydata_profiling import ProfileReport\n",
        "top_20_pixels_data_train = pd.read_csv(\"top_20_pixels_with_labels_train.csv\")\n",
        "ydata_profiling_train = ProfileReport(top_20_pixels_data_train)\n",
        "\n",
        "# Saving the report to an HTML file\n",
        "ydata_profiling_train.to_file(\"top_20_pixels_train_report.html\")"
      ]
    },
    {
      "cell_type": "code",
      "execution_count": null,
      "metadata": {
        "id": "cK3H4GLdGrQi"
      },
      "outputs": [],
      "source": [
        "# The following command generates the pandaprofiling report for the train set for top 20 pixels\n",
        "ydata_profiling_train"
      ]
    },
    {
      "cell_type": "code",
      "execution_count": null,
      "metadata": {
        "id": "giGGgDtBIGHr"
      },
      "outputs": [],
      "source": [
        "# Replicating the top 20 pixels from the train set to the test set\n",
        "\n",
        "# Loading the test dataset from the CSV file\n",
        "sign_test_file = \"sign_mnist_test.csv\"\n",
        "data_sign_test = pd.read_csv(sign_test_file, sep=',', header=0)\n",
        "\n",
        "# Selecting the same top 20 features (pixels) as in the training set\n",
        "selected_features = ['pixel246', 'pixel239', 'pixel302', 'pixel266', 'pixel210',\n",
        "                     'pixel546', 'pixel265', 'pixel353', 'pixel321', 'pixel211',\n",
        "                     'pixel245', 'pixel520', 'pixel355', 'pixel327', 'pixel465',\n",
        "                     'pixel238', 'pixel575', 'pixel326', 'pixel217', 'pixel212']\n",
        "\n",
        "# Creating a new DataFrame with the selected features and labels\n",
        "data_sign_test_selected = data_sign_test[['label'] + selected_features]\n",
        "\n",
        "# Save the selected data to a new CSV file\n",
        "data_sign_test_selected.to_csv(\"top_20_pixels_with_labels_test.csv\", index=False)"
      ]
    },
    {
      "cell_type": "code",
      "execution_count": null,
      "metadata": {
        "id": "9p3FPiNHJEoZ"
      },
      "outputs": [],
      "source": [
        "# Panda Profiling report for the TEST SET (10,000 rows)\n",
        "\n",
        "from ydata_profiling import ProfileReport\n",
        "top_20_pixels_data_test = pd.read_csv(\"top_20_pixels_with_labels_test.csv\")\n",
        "ydata_profiling_test = ProfileReport(top_20_pixels_data_test)\n",
        "\n",
        "# Saving the report to an HTML file\n",
        "ydata_profiling_test.to_file(\"top_20_pixels_test_report.html\")"
      ]
    },
    {
      "cell_type": "code",
      "execution_count": null,
      "metadata": {
        "id": "eI57twCaJwCy"
      },
      "outputs": [],
      "source": [
        "# The following command generates the pandaprofiling report for the replicated test set for top 20 pixels\n",
        "ydata_profiling_test"
      ]
    },
    {
      "cell_type": "markdown",
      "metadata": {
        "id": "g9utBEuvvYgv"
      },
      "source": [
        "The Pandas Profiling Report for combined dataset provides a comprehensive analysis of a dataset with 34,627 observations and 21 variables, detailing aspects like missing data, duplicates, and feature correlations. Key findings include a 0% missing data ratio, less than 0.1% duplicate rows, and high correlations among certain pixel values, indicating redundancy or strong dependencies between features. The analysis also identifies outliers and zeros in specific pixel values, crucial for preprocessing steps in machine learning projects.The report's insights on attribute types, outliers, and the dataset's memory footprint can guide data preprocessing and feature engineering, enhancing model accuracy and efficiency"
      ]
    },
    {
      "cell_type": "markdown",
      "source": [
        "**Predictive Modelling**"
      ],
      "metadata": {
        "id": "cwSiGEc6jmPD"
      }
    },
    {
      "cell_type": "markdown",
      "source": [
        "**Research Question (RQ)**\n",
        "\n",
        "1\n",
        "How does accuracy, computational efficiency, and stability of CNN compare to traditional machine learning techniques such as Random Forest, SVM, XGBoost or K-NN in classifying ASL images?\n",
        "\n",
        "\n",
        "2\n",
        "Which neural network out of MLP, AlexNet, MobileNet, VGG 16, LeNet exhibits the greatest efficiency in classifying ASL images taking into account accuracy and computational resources?\n",
        "\n",
        "3\n",
        "When compared to Naive Bayes (NB), how effective is TAN or FAN at identifying the true cause of categorial target label of english alphabets in context of Sign language MNIST dataset?"
      ],
      "metadata": {
        "id": "z4U7q_HBj2hb"
      }
    },
    {
      "cell_type": "code",
      "execution_count": null,
      "metadata": {
        "id": "adzV2WKahFqJ"
      },
      "outputs": [],
      "source": [
        "# The following code was used with the traditional CNN-simple model for the top 20 pixels based on importance (on the test dataset)\n",
        "\n",
        "import pandas as pd\n",
        "import numpy as np\n",
        "from tensorflow import keras\n",
        "from tensorflow.keras import layers\n",
        "from tensorflow.keras.utils import to_categorical\n",
        "\n",
        "# Loading the dataset containing 'label' and the top 20 pixels from the combined dataset (70,000 rows)\n",
        "#data_sign_test_selected = pd.read_csv(\"combined_top_20_pixels_with_labels.csv\")\n",
        "data_sign_test_selected = top_20_pixels_data_train\n",
        "# Separating the features and target variable (label)\n",
        "X = data_sign_test_selected.iloc[:, 1:]  # Features (top 20 pixels)\n",
        "y = data_sign_test_selected[\"label\"]   # dependent variable\n",
        "\n",
        "# Reshaping the data to match a CNN input shape\n",
        "X = X.values.reshape(X.shape[0], 20, 1, 1)\n",
        "\n",
        "# Converting 'label' (dependent variable) to one-hot encoding\n",
        "y = to_categorical(y)"
      ]
    },
    {
      "cell_type": "code",
      "execution_count": null,
      "metadata": {
        "id": "B9ek-OfxsRJE"
      },
      "outputs": [],
      "source": [
        "display(data_sign_test_selected)"
      ]
    },
    {
      "cell_type": "code",
      "execution_count": null,
      "metadata": {
        "id": "ikTx9pvYssG4"
      },
      "outputs": [],
      "source": [
        "display(data_sign_test_selected[data_sign_test_selected.label == 13])\n",
        "#data_sign_test_selected.info()"
      ]
    },
    {
      "cell_type": "code",
      "execution_count": null,
      "metadata": {
        "id": "T6CxCjJBypJ8"
      },
      "outputs": [],
      "source": [
        "#display(X)"
      ]
    },
    {
      "cell_type": "code",
      "execution_count": null,
      "metadata": {
        "id": "cR0QowjRyxNF"
      },
      "outputs": [],
      "source": [
        "#display(y)"
      ]
    },
    {
      "cell_type": "code",
      "execution_count": null,
      "metadata": {
        "id": "_aak2XAcyn-s",
        "colab": {
          "base_uri": "https://localhost:8080/"
        },
        "outputId": "0cfb3a3e-2bd2-4aca-a943-1f30c6b34075"
      },
      "outputs": [
        {
          "output_type": "stream",
          "name": "stdout",
          "text": [
            "Epoch 1/10\n",
            "429/429 [==============================] - 3s 5ms/step - loss: 4.8094 - accuracy: 0.2679\n",
            "Epoch 2/10\n",
            "429/429 [==============================] - 2s 5ms/step - loss: 1.8766 - accuracy: 0.4499\n",
            "Epoch 3/10\n",
            "429/429 [==============================] - 3s 7ms/step - loss: 1.4670 - accuracy: 0.5531\n",
            "Epoch 4/10\n",
            "429/429 [==============================] - 2s 6ms/step - loss: 1.1712 - accuracy: 0.6346\n",
            "Epoch 5/10\n",
            "429/429 [==============================] - 5s 12ms/step - loss: 0.9266 - accuracy: 0.7067\n",
            "Epoch 6/10\n",
            "429/429 [==============================] - 5s 11ms/step - loss: 0.7195 - accuracy: 0.7721\n",
            "Epoch 7/10\n",
            "429/429 [==============================] - 3s 7ms/step - loss: 0.5325 - accuracy: 0.8354\n",
            "Epoch 8/10\n",
            "429/429 [==============================] - 2s 5ms/step - loss: 0.3904 - accuracy: 0.8850\n",
            "Epoch 9/10\n",
            "429/429 [==============================] - 2s 5ms/step - loss: 0.2751 - accuracy: 0.9232\n",
            "Epoch 10/10\n",
            "429/429 [==============================] - 2s 4ms/step - loss: 0.2028 - accuracy: 0.9471\n"
          ]
        },
        {
          "output_type": "execute_result",
          "data": {
            "text/plain": [
              "<keras.src.callbacks.History at 0x7f4b620fc9a0>"
            ]
          },
          "metadata": {},
          "execution_count": 49
        }
      ],
      "source": [
        "# Building a simple CNN model with the basic parameters\n",
        "simple_cnn_model = keras.Sequential([\n",
        "    layers.Conv2D(32, (3, 1), activation='relu', input_shape=(20, 1, 1)),\n",
        "    layers.MaxPooling2D((2, 1)),\n",
        "    layers.Flatten(),\n",
        "    layers.Dense(128, activation='relu'),\n",
        "    layers.Dense(25, activation='softmax')  # 25 classes in the top 20 pixels (labelled from 0-24)\n",
        "])\n",
        "\n",
        "# Compiling & training the simple-cnn-model\n",
        "simple_cnn_model.compile(optimizer='adam', loss='categorical_crossentropy', metrics=['accuracy'])\n",
        "simple_cnn_model.fit(X, y, epochs=10, batch_size=64)"
      ]
    },
    {
      "cell_type": "code",
      "execution_count": null,
      "metadata": {
        "id": "C4RmRRcqhMEE",
        "colab": {
          "base_uri": "https://localhost:8080/"
        },
        "outputId": "a40fc25c-371d-4bd6-97b2-c97e12f2ce2e"
      },
      "outputs": [
        {
          "output_type": "stream",
          "name": "stdout",
          "text": [
            "858/858 [==============================] - 3s 3ms/step - loss: 0.1968 - accuracy: 0.9422\n",
            "Test accuracy: 94.22%\n"
          ]
        }
      ],
      "source": [
        "# Evaluateing the simple-cnn-model\n",
        "test_loss, test_accuracy = simple_cnn_model.evaluate(X, y)\n",
        "print(f'Test accuracy: {test_accuracy * 100:.2f}%')"
      ]
    },
    {
      "cell_type": "code",
      "execution_count": null,
      "metadata": {
        "id": "kRvjZi7iMTN2",
        "colab": {
          "base_uri": "https://localhost:8080/"
        },
        "outputId": "5127b23a-dc0c-4154-9b55-a9837748f5b3"
      },
      "outputs": [
        {
          "output_type": "stream",
          "name": "stdout",
          "text": [
            "Test accuracy (n_estimators=10): 93.81%\n",
            "Test accuracy (n_estimators=50): 97.40%\n",
            "Test accuracy (n_estimators=100): 97.85%\n"
          ]
        }
      ],
      "source": [
        "# The following code was used with the Random Forest model (with 10, 50 and 100 trees) for the top 20 pixels based on importance\n",
        "# (on the test set which replicated the top 20 pixels on the training set)\n",
        "\n",
        "import pandas as pd\n",
        "from sklearn.ensemble import RandomForestClassifier\n",
        "from sklearn.model_selection import train_test_split\n",
        "from sklearn.metrics import accuracy_score\n",
        "\n",
        "# Loading the dataset containing 'label' and the top 20 pixels from the combined dataset\n",
        "data_sign_test_selected = pd.read_csv(\"top_20_pixels_with_labels_train.csv\")\n",
        "\n",
        "# Separating the features and target variable (label)\n",
        "X = data_sign_test_selected.iloc[:, 1:]  # Features (top 20 pixels)\n",
        "y = data_sign_test_selected['label']   # Dependent variable\n",
        "\n",
        "# Splitting the top 20 pixels combined data into a training and a test set (80% training, 20% testing)\n",
        "X_train, X_test, y_train, y_test = train_test_split(X, y, test_size=0.2, random_state=0)\n",
        "\n",
        "# Defining a list of n_estimators values to test (for 3 different values of trees)\n",
        "n_estimators_values = [10, 50, 100]\n",
        "\n",
        "for n_estimators in n_estimators_values:\n",
        "    # Creating a Random Forest Classifier with the current number of trees\n",
        "    rf_classifier = RandomForestClassifier(n_estimators=n_estimators, random_state=0)\n",
        "    # Training the classifier on the training set\n",
        "    rf_classifier.fit(X_train, y_train)\n",
        "    # Making predictions on the test set\n",
        "    y_pred = rf_classifier.predict(X_test)\n",
        "\n",
        "    # Calculating and displaying the test accuracy for the 3 different random forest tree values\n",
        "    accuracy = accuracy_score(y_test, y_pred)\n",
        "    print(f'Test accuracy (n_estimators={n_estimators}): {accuracy * 100:.2f}%')"
      ]
    },
    {
      "cell_type": "code",
      "execution_count": null,
      "metadata": {
        "id": "Hsy-NKZelttZ",
        "colab": {
          "base_uri": "https://localhost:8080/",
          "height": 564
        },
        "outputId": "75cd8fdb-ce9b-4bfe-a094-50a7bb4a9d8a"
      },
      "outputs": [
        {
          "output_type": "display_data",
          "data": {
            "text/plain": [
              "<Figure size 1000x600 with 1 Axes>"
            ],
            "image/png": "[encoded data removed]"
          },
          "metadata": {}
        }
      ],
      "source": [
        "# Random forest graph\n",
        "\n",
        "import pandas as pd\n",
        "from sklearn.ensemble import RandomForestClassifier\n",
        "from sklearn.model_selection import train_test_split\n",
        "from sklearn.metrics import accuracy_score\n",
        "import matplotlib.pyplot as plt\n",
        "\n",
        "# Loading the dataset containing 'label' and the top 20 pixels from the combined dataset\n",
        "data_sign_test_selected = pd.read_csv(\"top_20_pixels_with_labels_train.csv\")\n",
        "\n",
        "# Separating the features and target variable (label)\n",
        "X = data_sign_test_selected.iloc[:, 1:]  # Features (top 20 pixels)\n",
        "y = data_sign_test_selected['label']   # Dependent variable\n",
        "\n",
        "# Splitting the top 20 pixels combined data into a training and a test set (80% training, 20% testing)\n",
        "X_train, X_test, y_train, y_test = train_test_split(X, y, test_size=0.2, random_state=0)\n",
        "\n",
        "# Define a list of n_estimators values to test\n",
        "n_estimators_values = [10, 20, 50, 100, 150, 200, 250, 300, 350, 400, 450, 500]\n",
        "\n",
        "# Lists to store accuracy values for each n_estimators\n",
        "accuracies = []\n",
        "\n",
        "# Loop through different n_estimators values and calculate accuracy\n",
        "for n_estimators in n_estimators_values:\n",
        "    # Creating a Random Forest Classifier with the current number of trees\n",
        "    rf_classifier = RandomForestClassifier(n_estimators=n_estimators, random_state=0)\n",
        "    # Training the classifier on the training set\n",
        "    rf_classifier.fit(X_train, y_train)\n",
        "    # Making predictions on the test set\n",
        "    y_pred = rf_classifier.predict(X_test)\n",
        "\n",
        "    # Calculating and storing the test accuracy for each n_estimators\n",
        "    accuracy = accuracy_score(y_test, y_pred)\n",
        "    accuracies.append(accuracy)\n",
        "\n",
        "# Plot the results\n",
        "plt.figure(figsize=(10, 6))\n",
        "plt.plot(n_estimators_values, accuracies, marker='o')\n",
        "plt.title('Random Forest Accuracy vs. Number of Trees')\n",
        "plt.xlabel('Number of Trees (n_estimators)')\n",
        "plt.ylabel('Test Accuracy')\n",
        "plt.grid(True)\n",
        "plt.show()"
      ]
    },
    {
      "cell_type": "code",
      "execution_count": null,
      "metadata": {
        "id": "1lE0SOPt0Hkv",
        "colab": {
          "base_uri": "https://localhost:8080/"
        },
        "outputId": "cd4c8a74-baf9-41fd-c26b-262b0715c535"
      },
      "outputs": [
        {
          "output_type": "stream",
          "name": "stdout",
          "text": [
            "Test accuracy (n_estimators=10): 93.81%\n",
            "Test accuracy (n_estimators=20): 95.90%\n",
            "Test accuracy (n_estimators=50): 97.40%\n",
            "Test accuracy (n_estimators=100): 97.85%\n",
            "Test accuracy (n_estimators=150): 97.94%\n",
            "Test accuracy (n_estimators=200): 98.07%\n",
            "Test accuracy (n_estimators=250): 97.96%\n",
            "Test accuracy (n_estimators=300): 97.91%\n",
            "Test accuracy (n_estimators=350): 98.03%\n",
            "Test accuracy (n_estimators=400): 98.07%\n",
            "Test accuracy (n_estimators=450): 98.03%\n",
            "Test accuracy (n_estimators=500): 98.07%\n"
          ]
        }
      ],
      "source": [
        "import pandas as pd\n",
        "from sklearn.ensemble import RandomForestClassifier\n",
        "from sklearn.model_selection import train_test_split\n",
        "from sklearn.metrics import accuracy_score\n",
        "\n",
        "# Load your combined dataset (70,000 rows, 21 columns) containing 'label' and the top 20 pixels\n",
        "data_sign_combined = pd.read_csv(\"top_20_pixels_with_labels_train.csv\")\n",
        "\n",
        "# Separate the features (pixels) and the target variable (label)\n",
        "X = data_sign_combined.iloc[:, 1:]  # Features (top 20 pixels)\n",
        "y = data_sign_combined['label']     # Dependent variable\n",
        "\n",
        "# Split the data into a training and test set (80% training, 20% testing)\n",
        "X_train, X_test, y_train, y_test = train_test_split(X, y, test_size=0.2, random_state=0)\n",
        "\n",
        "# Define a list of n_estimators values to test\n",
        "n_estimators_values = [10, 20, 50, 100, 150, 200, 250, 300, 350, 400, 450, 500]  # You can extend this list\n",
        "\n",
        "# Create dictionaries to store the results\n",
        "accuracies = {}\n",
        "\n",
        "for n_estimators in n_estimators_values:\n",
        "    # Create a Random Forest Classifier with the current number of trees\n",
        "    rf_classifier = RandomForestClassifier(n_estimators=n_estimators, random_state=0)\n",
        "    # Train the classifier on the training set\n",
        "    rf_classifier.fit(X_train, y_train)\n",
        "    # Make predictions on the test set\n",
        "    y_pred = rf_classifier.predict(X_test)\n",
        "\n",
        "    # Calculate the test accuracy for the current number of trees\n",
        "    accuracy = accuracy_score(y_test, y_pred)\n",
        "    accuracies[n_estimators] = accuracy\n",
        "\n",
        "# Display the accuracies for each n_estimators value\n",
        "for n_estimators, accuracy in accuracies.items():\n",
        "    print(f'Test accuracy (n_estimators={n_estimators}): {accuracy * 100:.2f}%')"
      ]
    },
    {
      "cell_type": "code",
      "execution_count": null,
      "metadata": {
        "id": "jTYd5wcGM1iY",
        "colab": {
          "base_uri": "https://localhost:8080/"
        },
        "outputId": "926fdec9-e4d8-4152-916b-42b2d1cf89fe"
      },
      "outputs": [
        {
          "output_type": "stream",
          "name": "stdout",
          "text": [
            "Test accuracy: 92.33%\n"
          ]
        }
      ],
      "source": [
        "# The following code was used with the SVM model for the top 20 pixels based on Importance (on the test set which replicated the\n",
        "# top 20 pixels on the training set)\n",
        "\n",
        "import pandas as pd\n",
        "from sklearn.svm import SVC\n",
        "from sklearn.model_selection import train_test_split\n",
        "from sklearn.metrics import accuracy_score\n",
        "\n",
        "# Loading the dataset containing 'label' and the top 20 pixels from the combined dataset\n",
        "data_sign_test_selected = pd.read_csv(\"top_20_pixels_with_labels_train.csv\")\n",
        "\n",
        "# Separating the features and target variable (label)\n",
        "X = data_sign_test_selected.iloc[:, 1:]  # Features (top 20 pixels)\n",
        "y = data_sign_test_selected['label']   # Dependent variable\n",
        "\n",
        "# Splitting the data into a training and test set (80% training and 20% testing)\n",
        "X_train, X_test, y_train, y_test = train_test_split(X, y, test_size=0.2, random_state=0)\n",
        "\n",
        "# Creating an SVM classifier\n",
        "svm_classifier = SVC()\n",
        "\n",
        "# Training the SVM classifier on the training set\n",
        "svm_classifier.fit(X_train, y_train)\n",
        "\n",
        "# Making predictions on the test set\n",
        "y_pred = svm_classifier.predict(X_test)\n",
        "\n",
        "# Calculating and displaying the test accuracy\n",
        "accuracy = accuracy_score(y_test, y_pred)\n",
        "print(f'Test accuracy: {accuracy * 100:.2f}%')"
      ]
    },
    {
      "cell_type": "markdown",
      "source": [
        "**Result and Discussion**\n",
        "\n",
        "Regarding Q1, Random forest show better accuracy (98%) compared to CNN (94%). this will be checked together with other aspect of evaluation.\n",
        "\n",
        "Work on Q2 and Q3 is process, so it code will be provide in final report."
      ],
      "metadata": {
        "id": "26TG1toVkLnz"
      }
    }
  ],
  "metadata": {
    "accelerator": "GPU",
    "colab": {
      "gpuType": "T4",
      "provenance": []
    },
    "kernelspec": {
      "display_name": "Python 3",
      "name": "python3"
    },
    "language_info": {
      "name": "python"
    }
  },
  "nbformat": 4,
  "nbformat_minor": 0
}