{
  "cells": [
    {
      "cell_type": "code",
      "execution_count": 1,
      "metadata": {},
      "outputs": [
        {
          "data": {
            "application/vnd.livy.statement-meta+json": {
              "execution_finish_time": "2023-08-24T12:51:21.0461722Z",
              "execution_start_time": "2023-08-24T12:51:15.6575062Z",
              "livy_statement_state": "available",
              "parent_msg_id": "f72010f1-e8e4-4ae5-8cc0-5dc81f237937",
              "queued_time": "2023-08-24T12:50:08.6728428Z",
              "session_id": "4",
              "session_start_time": null,
              "spark_jobs": null,
              "spark_pool": "smallSpark",
              "state": "finished",
              "statement_id": 7
            },
            "text/plain": [
              "StatementMeta(smallSpark, 4, 7, Finished, Available)"
            ]
          },
          "metadata": {},
          "output_type": "display_data"
        },
        {
          "data": {},
          "execution_count": 1,
          "metadata": {},
          "output_type": "execute_result"
        },
        {
          "name": "stdout",
          "output_type": "stream",
          "text": [
            "Collecting azure-search-documents\n",
            "  Using cached azure_search_documents-11.4.0b8-py3-none-any.whl (305 kB)\n",
            "Collecting azure-core<2.0.0,>=1.24.0\n",
            "  Using cached azure_core-1.29.3-py3-none-any.whl (191 kB)\n",
            "Requirement already satisfied: azure-common~=1.1 in /home/trusted-service-user/cluster-env/env/lib/python3.8/site-packages (from azure-search-documents) (1.1.27)\n",
            "Requirement already satisfied: isodate>=0.6.0 in /home/trusted-service-user/cluster-env/env/lib/python3.8/site-packages (from azure-search-documents) (0.6.0)\n",
            "Collecting typing-extensions>=4.6.0\n",
            "  Using cached typing_extensions-4.7.1-py3-none-any.whl (33 kB)\n",
            "Requirement already satisfied: six>=1.11.0 in /home/trusted-service-user/cluster-env/env/lib/python3.8/site-packages (from azure-core<2.0.0,>=1.24.0->azure-search-documents) (1.16.0)\n",
            "Requirement already satisfied: requests>=2.18.4 in /home/trusted-service-user/cluster-env/env/lib/python3.8/site-packages (from azure-core<2.0.0,>=1.24.0->azure-search-documents) (2.25.1)\n",
            "Requirement already satisfied: idna<3,>=2.5 in /home/trusted-service-user/cluster-env/env/lib/python3.8/site-packages (from requests>=2.18.4->azure-core<2.0.0,>=1.24.0->azure-search-documents) (2.10)\n",
            "Requirement already satisfied: urllib3<1.27,>=1.21.1 in /home/trusted-service-user/cluster-env/env/lib/python3.8/site-packages (from requests>=2.18.4->azure-core<2.0.0,>=1.24.0->azure-search-documents) (1.26.4)\n",
            "Requirement already satisfied: certifi>=2017.4.17 in /home/trusted-service-user/cluster-env/env/lib/python3.8/site-packages (from requests>=2.18.4->azure-core<2.0.0,>=1.24.0->azure-search-documents) (2022.12.7)\n",
            "Requirement already satisfied: chardet<5,>=3.0.2 in /home/trusted-service-user/cluster-env/env/lib/python3.8/site-packages (from requests>=2.18.4->azure-core<2.0.0,>=1.24.0->azure-search-documents) (4.0.0)\n",
            "Installing collected packages: typing-extensions, azure-core, azure-search-documents\n",
            "  Attempting uninstall: typing-extensions\n",
            "    Found existing installation: typing_extensions 4.5.0\n",
            "    Not uninstalling typing-extensions at /home/trusted-service-user/cluster-env/env/lib/python3.8/site-packages, outside environment /nfs4/pyenv-31d5516c-2356-46ad-98d3-5cc14c963d69\n",
            "    Can't uninstall 'typing_extensions'. No files were found to uninstall.\n",
            "  Attempting uninstall: azure-core\n",
            "    Found existing installation: azure-core 1.22.1\n",
            "    Not uninstalling azure-core at /home/trusted-service-user/cluster-env/env/lib/python3.8/site-packages, outside environment /nfs4/pyenv-31d5516c-2356-46ad-98d3-5cc14c963d69\n",
            "    Can't uninstall 'azure-core'. No files were found to uninstall.\n",
            "\u001b[31mERROR: pip's dependency resolver does not currently take into account all the packages that are installed. This behaviour is the source of the following dependency conflicts.\n",
            "tensorflow 2.4.1 requires six~=1.15.0, but you have six 1.16.0 which is incompatible.\n",
            "tensorflow 2.4.1 requires typing-extensions~=3.7.4, but you have typing-extensions 4.7.1 which is incompatible.\u001b[0m\u001b[31m\n",
            "\u001b[0mSuccessfully installed azure-core-1.29.3 azure-search-documents-11.4.0b8 typing-extensions-4.7.1\n",
            "\u001b[33mWARNING: You are using pip version 22.0.4; however, version 23.2.1 is available.\n",
            "You should consider upgrading via the '/nfs4/pyenv-31d5516c-2356-46ad-98d3-5cc14c963d69/bin/python -m pip install --upgrade pip' command.\u001b[0m\u001b[33m\n",
            "\u001b[0mNote: you may need to restart the kernel to use updated packages.\n"
          ]
        },
        {
          "data": {},
          "execution_count": 1,
          "metadata": {},
          "output_type": "execute_result"
        },
        {
          "name": "stdout",
          "output_type": "stream",
          "text": [
            "Name: azure-search-documents\r\n",
            "Version: 11.4.0b8\r\n",
            "Summary: Microsoft Azure Cognitive Search Client Library for Python\r\n",
            "Home-page: https://github.com/Azure/azure-sdk-for-python/tree/main/sdk/search/azure-search-documents\r\n",
            "Author: Microsoft Corporation\r\n",
            "Author-email: ascl@microsoft.com\r\n",
            "License: MIT License\r\n",
            "Location: /nfs4/pyenv-31d5516c-2356-46ad-98d3-5cc14c963d69/lib/python3.8/site-packages\r\n",
            "Requires: azure-common, azure-core, isodate\r\n",
            "Required-by: \r\n",
            "Note: you may need to restart the kernel to use updated packages.\n",
            "Warning: PySpark kernel has been restarted to use updated packages.\n",
            "\n"
          ]
        }
      ],
      "source": [
        "%pip install azure-search-documents --pre\n",
        "%pip show azure-search-documents"
      ]
    },
    {
      "cell_type": "code",
      "execution_count": 2,
      "metadata": {
        "jupyter": {
          "outputs_hidden": false,
          "source_hidden": false
        },
        "nteract": {
          "transient": {
            "deleting": false
          }
        }
      },
      "outputs": [
        {
          "data": {
            "application/vnd.livy.statement-meta+json": {
              "execution_finish_time": "2023-08-24T12:51:31.3369198Z",
              "execution_start_time": "2023-08-24T12:51:31.3366939Z",
              "livy_statement_state": "available",
              "parent_msg_id": "37f618d6-69ae-4974-8bf2-8b2541764d74",
              "queued_time": "2023-08-24T12:50:25.7306804Z",
              "session_id": "4",
              "session_start_time": null,
              "spark_jobs": null,
              "spark_pool": null,
              "state": "finished",
              "statement_id": -1
            },
            "text/plain": [
              "StatementMeta(, 4, -1, Finished, Available)"
            ]
          },
          "metadata": {},
          "output_type": "display_data"
        },
        {
          "data": {},
          "execution_count": 2,
          "metadata": {},
          "output_type": "execute_result"
        },
        {
          "name": "stdout",
          "output_type": "stream",
          "text": [
            "Collecting openai\n",
            "  Using cached openai-0.27.9-py3-none-any.whl (75 kB)\n",
            "Requirement already satisfied: fsspec in /home/trusted-service-user/cluster-env/env/lib/python3.8/site-packages (2021.6.1)\n",
            "Requirement already satisfied: requests>=2.20 in /home/trusted-service-user/cluster-env/env/lib/python3.8/site-packages (from openai) (2.25.1)\n",
            "Requirement already satisfied: tqdm in /home/trusted-service-user/cluster-env/env/lib/python3.8/site-packages (from openai) (4.61.2)\n",
            "Requirement already satisfied: aiohttp in /home/trusted-service-user/cluster-env/env/lib/python3.8/site-packages (from openai) (3.7.4.post0)\n",
            "Requirement already satisfied: idna<3,>=2.5 in /home/trusted-service-user/cluster-env/env/lib/python3.8/site-packages (from requests>=2.20->openai) (2.10)\n",
            "Requirement already satisfied: chardet<5,>=3.0.2 in /home/trusted-service-user/cluster-env/env/lib/python3.8/site-packages (from requests>=2.20->openai) (4.0.0)\n",
            "Requirement already satisfied: certifi>=2017.4.17 in /home/trusted-service-user/cluster-env/env/lib/python3.8/site-packages (from requests>=2.20->openai) (2022.12.7)\n",
            "Requirement already satisfied: urllib3<1.27,>=1.21.1 in /home/trusted-service-user/cluster-env/env/lib/python3.8/site-packages (from requests>=2.20->openai) (1.26.4)\n",
            "Requirement already satisfied: yarl<2.0,>=1.0 in /home/trusted-service-user/cluster-env/env/lib/python3.8/site-packages (from aiohttp->openai) (1.6.3)\n",
            "Requirement already satisfied: multidict<7.0,>=4.5 in /home/trusted-service-user/cluster-env/env/lib/python3.8/site-packages (from aiohttp->openai) (5.1.0)\n",
            "Requirement already satisfied: attrs>=17.3.0 in /home/trusted-service-user/cluster-env/env/lib/python3.8/site-packages (from aiohttp->openai) (21.2.0)\n",
            "Requirement already satisfied: typing-extensions>=3.6.5 in /nfs4/pyenv-31d5516c-2356-46ad-98d3-5cc14c963d69/lib/python3.8/site-packages (from aiohttp->openai) (4.7.1)\n",
            "Requirement already satisfied: async-timeout<4.0,>=3.0 in /home/trusted-service-user/cluster-env/env/lib/python3.8/site-packages (from aiohttp->openai) (3.0.1)\n",
            "Installing collected packages: openai\n",
            "Successfully installed openai-0.27.9\n",
            "\u001b[33mWARNING: You are using pip version 22.0.4; however, version 23.2.1 is available.\n",
            "You should consider upgrading via the '/nfs4/pyenv-31d5516c-2356-46ad-98d3-5cc14c963d69/bin/python -m pip install --upgrade pip' command.\u001b[0m\u001b[33m\n",
            "\u001b[0mNote: you may need to restart the kernel to use updated packages.\n"
          ]
        },
        {
          "data": {},
          "execution_count": 2,
          "metadata": {},
          "output_type": "execute_result"
        },
        {
          "name": "stdout",
          "output_type": "stream",
          "text": [
            "Warning: PySpark kernel has been restarted to use updated packages.\n",
            "\n"
          ]
        }
      ],
      "source": [
        "%pip install openai fsspec"
      ]
    },
    {
      "cell_type": "code",
      "execution_count": 9,
      "metadata": {
        "jupyter": {
          "outputs_hidden": false,
          "source_hidden": false
        },
        "nteract": {
          "transient": {
            "deleting": false
          }
        }
      },
      "outputs": [
        {
          "data": {
            "application/vnd.livy.statement-meta+json": {
              "execution_finish_time": "2023-08-24T12:54:19.0164115Z",
              "execution_start_time": "2023-08-24T12:54:18.8607617Z",
              "livy_statement_state": "available",
              "parent_msg_id": "dfb2416c-ee7a-472d-8e02-30d654af8eb4",
              "queued_time": "2023-08-24T12:54:18.7114327Z",
              "session_id": "4",
              "session_start_time": null,
              "spark_jobs": null,
              "spark_pool": "smallSpark",
              "state": "finished",
              "statement_id": 21
            },
            "text/plain": [
              "StatementMeta(smallSpark, 4, 21, Finished, Available)"
            ]
          },
          "metadata": {},
          "output_type": "display_data"
        }
      ],
      "source": [
        "import openai\n",
        "import os\n",
        "import pandas as pd\n",
        "from azure.core.credentials import AzureKeyCredential\n",
        "from azure.search.documents.indexes import SearchIndexClient \n",
        "from azure.search.documents import SearchClient\n",
        "from azure.search.documents.models import QueryType\n",
        "from azure.search.documents.indexes.models import (\n",
        "    ComplexField,\n",
        "    CorsOptions,\n",
        "    SearchIndex,\n",
        "    ScoringProfile,\n",
        "    SearchFieldDataType,\n",
        "    SimpleField,\n",
        "    SearchableField\n",
        ")\n",
        "import fsspec"
      ]
    },
    {
      "cell_type": "code",
      "execution_count": 4,
      "metadata": {
        "jupyter": {
          "outputs_hidden": false,
          "source_hidden": false
        },
        "nteract": {
          "transient": {
            "deleting": false
          }
        }
      },
      "outputs": [
        {
          "data": {
            "application/vnd.livy.statement-meta+json": {
              "execution_finish_time": "2023-08-24T12:51:36.013642Z",
              "execution_start_time": "2023-08-24T12:51:35.8553789Z",
              "livy_statement_state": "available",
              "parent_msg_id": "f8b947a7-f112-43dc-947f-ee0e60602da7",
              "queued_time": "2023-08-24T12:50:27.4113013Z",
              "session_id": "4",
              "session_start_time": null,
              "spark_jobs": null,
              "spark_pool": "smallSpark",
              "state": "finished",
              "statement_id": 16
            },
            "text/plain": [
              "StatementMeta(smallSpark, 4, 16, Finished, Available)"
            ]
          },
          "metadata": {},
          "output_type": "display_data"
        }
      ],
      "source": [
        "service_name = os.getenv(\"AZURE_SEARCH_SERVICE_NAME\")\n",
        "admin_key = os.getenv(\"AZURE_SEARCH_ADMIN_KEY\")\n",
        "\n",
        "index_name = os.getenv(\"AZURE_SEARCH_INDEX_NAME\")\n",
        "\n",
        "# Create an SDK client\n",
        "endpoint = \"https://{}.search.windows.net/\".format(service_name)\n",
        "admin_client = SearchIndexClient(endpoint=endpoint,\n",
        "                      index_name=index_name,\n",
        "                      credential=AzureKeyCredential(admin_key))\n",
        "\n",
        "search_client = SearchClient(endpoint=endpoint,\n",
        "                      index_name=index_name,\n",
        "                      credential=AzureKeyCredential(admin_key))"
      ]
    },
    {
      "cell_type": "code",
      "execution_count": 5,
      "metadata": {
        "jupyter": {
          "outputs_hidden": false,
          "source_hidden": false
        },
        "nteract": {
          "transient": {
            "deleting": false
          }
        }
      },
      "outputs": [
        {
          "data": {
            "application/vnd.livy.statement-meta+json": {
              "execution_finish_time": "2023-08-24T12:51:36.3081513Z",
              "execution_start_time": "2023-08-24T12:51:36.1463378Z",
              "livy_statement_state": "available",
              "parent_msg_id": "4c8682b6-7b13-4c5e-890f-4e83ff5aeab9",
              "queued_time": "2023-08-24T12:50:27.8331851Z",
              "session_id": "4",
              "session_start_time": null,
              "spark_jobs": null,
              "spark_pool": "smallSpark",
              "state": "finished",
              "statement_id": 17
            },
            "text/plain": [
              "StatementMeta(smallSpark, 4, 17, Finished, Available)"
            ]
          },
          "metadata": {},
          "output_type": "display_data"
        }
      ],
      "source": [
        "# try:\n",
        "#     result = admin_client.delete_index(index_name)\n",
        "#     print ('Index', index_name, 'Deleted')\n",
        "# except Exception as ex:\n",
        "#     print (ex)"
      ]
    },
    {
      "cell_type": "code",
      "execution_count": 6,
      "metadata": {
        "jupyter": {
          "outputs_hidden": false,
          "source_hidden": false
        },
        "nteract": {
          "transient": {
            "deleting": false
          }
        }
      },
      "outputs": [
        {
          "data": {
            "application/vnd.livy.statement-meta+json": {
              "execution_finish_time": "2023-08-24T12:51:36.5898268Z",
              "execution_start_time": "2023-08-24T12:51:36.4380752Z",
              "livy_statement_state": "available",
              "parent_msg_id": "c378dbe4-7fe6-4c8a-935a-30b4b56119f5",
              "queued_time": "2023-08-24T12:50:29.1911405Z",
              "session_id": "4",
              "session_start_time": null,
              "spark_jobs": null,
              "spark_pool": "smallSpark",
              "state": "finished",
              "statement_id": 18
            },
            "text/plain": [
              "StatementMeta(smallSpark, 4, 18, Finished, Available)"
            ]
          },
          "metadata": {},
          "output_type": "display_data"
        }
      ],
      "source": [
        "# Specify the index schema\n",
        "name = index_name\n",
        "fields = [\n",
        "        SimpleField(name='Key', type=SearchFieldDataType.String, key=True),\n",
        "        SimpleField(name=\"ResourceURL\", type=SearchFieldDataType.String),\n",
        "        SearchableField(name=\"Who\", type=SearchFieldDataType.String, sortable=True),\n",
        "        SearchableField(name=\"What\", type=SearchFieldDataType.String, sortable=True),\n",
        "        SearchableField(name=\"When\", type=SearchFieldDataType.String, sortable=True),\n",
        "    ]\n",
        "cors_options = CorsOptions(allowed_origins=[\"*\"], max_age_in_seconds=60)\n",
        "scoring_profiles = []\n"
      ]
    },
    {
      "cell_type": "code",
      "execution_count": 7,
      "metadata": {
        "jupyter": {
          "outputs_hidden": false,
          "source_hidden": false
        },
        "nteract": {
          "transient": {
            "deleting": false
          }
        }
      },
      "outputs": [
        {
          "data": {
            "application/vnd.livy.statement-meta+json": {
              "execution_finish_time": "2023-08-24T12:51:36.9203608Z",
              "execution_start_time": "2023-08-24T12:51:36.7548867Z",
              "livy_statement_state": "available",
              "parent_msg_id": "c19c9918-20ec-4809-b779-d99d96cf4c5d",
              "queued_time": "2023-08-24T12:50:30.3655077Z",
              "session_id": "4",
              "session_start_time": null,
              "spark_jobs": null,
              "spark_pool": "smallSpark",
              "state": "finished",
              "statement_id": 19
            },
            "text/plain": [
              "StatementMeta(smallSpark, 4, 19, Finished, Available)"
            ]
          },
          "metadata": {},
          "output_type": "display_data"
        },
        {
          "name": "stdout",
          "output_type": "stream",
          "text": [
            "(ResourceNameAlreadyInUse) Cannot create index 'ri-innovation-quickstart' because it already exists.\n",
            "Code: ResourceNameAlreadyInUse\n",
            "Message: Cannot create index 'ri-innovation-quickstart' because it already exists.\n",
            "Exception Details:\t(CannotCreateExistingIndex) Cannot create index 'ri-innovation-quickstart' because it already exists.\n",
            "\tCode: CannotCreateExistingIndex\n",
            "\tMessage: Cannot create index 'ri-innovation-quickstart' because it already exists.\n"
          ]
        }
      ],
      "source": [
        "index = SearchIndex(\n",
        "    name=name,\n",
        "    fields=fields,\n",
        "    scoring_profiles=scoring_profiles,\n",
        "    cors_options=cors_options)\n",
        "\n",
        "try:\n",
        "    result = admin_client.create_index(index)\n",
        "    print ('Index', result.name, 'created')\n",
        "except Exception as ex:\n",
        "    print (ex)"
      ]
    },
    {
      "cell_type": "markdown",
      "metadata": {
        "nteract": {
          "transient": {
            "deleting": false
          }
        }
      },
      "source": [
        "Read resource CSVs into a dataframe"
      ]
    },
    {
      "cell_type": "code",
      "execution_count": null,
      "metadata": {
        "jupyter": {
          "outputs_hidden": false,
          "source_hidden": false
        },
        "nteract": {
          "transient": {
            "deleting": false
          }
        }
      },
      "outputs": [
        {
          "data": {
            "application/vnd.livy.statement-meta+json": {
              "execution_finish_time": "2023-08-24T12:58:43.8101197Z",
              "execution_start_time": "2023-08-24T12:58:43.6548037Z",
              "livy_statement_state": "available",
              "parent_msg_id": "f6a07b9f-de9d-4aa7-9975-b69e53db6c5e",
              "queued_time": "2023-08-24T12:58:43.536487Z",
              "session_id": "4",
              "session_start_time": null,
              "spark_jobs": null,
              "spark_pool": "smallSpark",
              "state": "finished",
              "statement_id": 25
            },
            "text/plain": [
              "StatementMeta(smallSpark, 4, 25, Finished, Available)"
            ]
          },
          "metadata": {},
          "output_type": "display_data"
        },
        {
          "name": "stdout",
          "output_type": "stream",
          "text": [
            "Exception: module 'fsspec_wrapper' has no attribute 'AzureBlobFileSystem'\n"
          ]
        },
        {
          "ename": "ValueError",
          "evalue": "No objects to concatenate",
          "output_type": "error",
          "traceback": [
            "\u001b[0;31m---------------------------------------------------------------------------\u001b[0m",
            "\u001b[0;31mValueError\u001b[0m                                Traceback (most recent call last)",
            "\u001b[0;32m/tmp/ipykernel_20405/2671183560.py\u001b[0m in \u001b[0;36m<module>\u001b[0;34m\u001b[0m\n\u001b[1;32m     34\u001b[0m         \u001b[0mprint\u001b[0m\u001b[0;34m(\u001b[0m\u001b[0;34mf\"Exception: {e}\"\u001b[0m\u001b[0;34m)\u001b[0m\u001b[0;34m\u001b[0m\u001b[0;34m\u001b[0m\u001b[0m\n\u001b[1;32m     35\u001b[0m \u001b[0;34m\u001b[0m\u001b[0m\n\u001b[0;32m---> 36\u001b[0;31m \u001b[0mresource_df\u001b[0m \u001b[0;34m=\u001b[0m \u001b[0mpd\u001b[0m\u001b[0;34m.\u001b[0m\u001b[0mconcat\u001b[0m\u001b[0;34m(\u001b[0m\u001b[0mli\u001b[0m\u001b[0;34m,\u001b[0m \u001b[0maxis\u001b[0m\u001b[0;34m=\u001b[0m\u001b[0;36m0\u001b[0m\u001b[0;34m,\u001b[0m \u001b[0mignore_index\u001b[0m\u001b[0;34m=\u001b[0m\u001b[0;32mTrue\u001b[0m\u001b[0;34m)\u001b[0m\u001b[0;34m\u001b[0m\u001b[0;34m\u001b[0m\u001b[0m\n\u001b[0m\u001b[1;32m     37\u001b[0m \u001b[0;34m\u001b[0m\u001b[0m\n\u001b[1;32m     38\u001b[0m \u001b[0mprint\u001b[0m\u001b[0;34m(\u001b[0m\u001b[0;34m\"There are \"\u001b[0m\u001b[0;34m,\u001b[0m \u001b[0mn_rows\u001b[0m\u001b[0;34m,\u001b[0m \u001b[0;34m\" documents in the dataset.\"\u001b[0m\u001b[0;34m)\u001b[0m\u001b[0;34m\u001b[0m\u001b[0;34m\u001b[0m\u001b[0m\n",
            "\u001b[0;32m~/cluster-env/env/lib/python3.8/site-packages/pandas/core/reshape/concat.py\u001b[0m in \u001b[0;36mconcat\u001b[0;34m(objs, axis, join, ignore_index, keys, levels, names, verify_integrity, sort, copy)\u001b[0m\n\u001b[1;32m    283\u001b[0m     \u001b[0mValueError\u001b[0m\u001b[0;34m:\u001b[0m \u001b[0mIndexes\u001b[0m \u001b[0mhave\u001b[0m \u001b[0moverlapping\u001b[0m \u001b[0mvalues\u001b[0m\u001b[0;34m:\u001b[0m \u001b[0;34m[\u001b[0m\u001b[0;34m'a'\u001b[0m\u001b[0;34m]\u001b[0m\u001b[0;34m\u001b[0m\u001b[0;34m\u001b[0m\u001b[0m\n\u001b[1;32m    284\u001b[0m     \"\"\"\n\u001b[0;32m--> 285\u001b[0;31m     op = _Concatenator(\n\u001b[0m\u001b[1;32m    286\u001b[0m         \u001b[0mobjs\u001b[0m\u001b[0;34m,\u001b[0m\u001b[0;34m\u001b[0m\u001b[0;34m\u001b[0m\u001b[0m\n\u001b[1;32m    287\u001b[0m         \u001b[0maxis\u001b[0m\u001b[0;34m=\u001b[0m\u001b[0maxis\u001b[0m\u001b[0;34m,\u001b[0m\u001b[0;34m\u001b[0m\u001b[0;34m\u001b[0m\u001b[0m\n",
            "\u001b[0;32m~/cluster-env/env/lib/python3.8/site-packages/pandas/core/reshape/concat.py\u001b[0m in \u001b[0;36m__init__\u001b[0;34m(self, objs, axis, join, keys, levels, names, ignore_index, verify_integrity, copy, sort)\u001b[0m\n\u001b[1;32m    340\u001b[0m \u001b[0;34m\u001b[0m\u001b[0m\n\u001b[1;32m    341\u001b[0m         \u001b[0;32mif\u001b[0m \u001b[0mlen\u001b[0m\u001b[0;34m(\u001b[0m\u001b[0mobjs\u001b[0m\u001b[0;34m)\u001b[0m \u001b[0;34m==\u001b[0m \u001b[0;36m0\u001b[0m\u001b[0;34m:\u001b[0m\u001b[0;34m\u001b[0m\u001b[0;34m\u001b[0m\u001b[0m\n\u001b[0;32m--> 342\u001b[0;31m             \u001b[0;32mraise\u001b[0m \u001b[0mValueError\u001b[0m\u001b[0;34m(\u001b[0m\u001b[0;34m\"No objects to concatenate\"\u001b[0m\u001b[0;34m)\u001b[0m\u001b[0;34m\u001b[0m\u001b[0;34m\u001b[0m\u001b[0m\n\u001b[0m\u001b[1;32m    343\u001b[0m \u001b[0;34m\u001b[0m\u001b[0m\n\u001b[1;32m    344\u001b[0m         \u001b[0;32mif\u001b[0m \u001b[0mkeys\u001b[0m \u001b[0;32mis\u001b[0m \u001b[0;32mNone\u001b[0m\u001b[0;34m:\u001b[0m\u001b[0;34m\u001b[0m\u001b[0;34m\u001b[0m\u001b[0m\n",
            "\u001b[0;31mValueError\u001b[0m: No objects to concatenate"
          ]
        }
      ],
      "source": [
        "all_files = os.getenv(\"AZURE_SEARCH_FILES\").split(\",\") #Provide exact path to the files\n",
        "\n",
        "li = []\n",
        "\n",
        "n_rows = 0\n",
        "\n",
        "adls_account_name = os.getenv(\"ADLS_ACCOUNT_NAME\") #Provide exact ADLS account name\n",
        "adls_account_key = os.getenv(\"ADLS_ACCOUNT_KEY\") #Provide exact ADLS account key\n",
        "\n",
        "for filename in all_files:\n",
        "    try:\n",
        "        # fsspec_handle = fsspec.open(filename, account_name=adls_account_name, account_key=adls_account_key)\n",
        "        # with fsspec_handle.open() as f:\n",
        "        # df = pandas.read_csv(f)\n",
        "        df = pd.read_csv(filename, index_col=None, header=0) if 'csv' in filename else pd.read_excel(filename, index_col=None, header=0)\n",
        "        n_rows += len(df)\n",
        "        li.append(df)\n",
        "    except Exception as e:\n",
        "        print(f\"Exception: {e}\")\n",
        "\n",
        "resource_df = pd.concat(li, axis=0, ignore_index=True)\n",
        "\n",
        "print(\"There are \", n_rows, \" documents in the dataset.\")"
      ]
    },
    {
      "cell_type": "code",
      "execution_count": 12,
      "metadata": {
        "jupyter": {
          "outputs_hidden": false,
          "source_hidden": false
        },
        "nteract": {
          "transient": {
            "deleting": false
          }
        }
      },
      "outputs": [
        {
          "data": {
            "application/vnd.livy.statement-meta+json": {
              "execution_finish_time": "2023-04-12T22:23:45.4044962Z",
              "execution_start_time": "2023-04-12T22:23:45.239076Z",
              "livy_statement_state": "available",
              "parent_msg_id": "da1b3e46-f883-486e-b52d-796ecafbc94a",
              "queued_time": "2023-04-12T22:23:11.6953174Z",
              "session_id": "46",
              "session_start_time": null,
              "spark_jobs": null,
              "spark_pool": "smallSpark",
              "state": "finished",
              "statement_id": 29
            },
            "text/plain": [
              "StatementMeta(smallSpark, 46, 29, Finished, Available)"
            ]
          },
          "metadata": {},
          "output_type": "display_data"
        },
        {
          "data": {
            "text/html": [
              "<div>\n",
              "<style scoped>\n",
              "    .dataframe tbody tr th:only-of-type {\n",
              "        vertical-align: middle;\n",
              "    }\n",
              "\n",
              "    .dataframe tbody tr th {\n",
              "        vertical-align: top;\n",
              "    }\n",
              "\n",
              "    .dataframe thead th {\n",
              "        text-align: right;\n",
              "    }\n",
              "</style>\n",
              "<table border=\"1\" class=\"dataframe\">\n",
              "  <thead>\n",
              "    <tr style=\"text-align: right;\">\n",
              "      <th></th>\n",
              "      <th>link</th>\n",
              "      <th>who</th>\n",
              "      <th>what</th>\n",
              "      <th>when</th>\n",
              "      <th>Unnamed: 0</th>\n",
              "    </tr>\n",
              "  </thead>\n",
              "  <tbody>\n",
              "    <tr>\n",
              "      <th>0</th>\n",
              "      <td>https://ri-business.com/the-competition/about-...</td>\n",
              "      <td>RI Business Competition</td>\n",
              "      <td>The Rhode Island Business Competition aims to ...</td>\n",
              "      <td>2023</td>\n",
              "      <td>NaN</td>\n",
              "    </tr>\n",
              "    <tr>\n",
              "      <th>1</th>\n",
              "      <td>https://www.branchfood.com/about-us</td>\n",
              "      <td>branchfood</td>\n",
              "      <td>At Branchfood we facilitate the connections th...</td>\n",
              "      <td>2023</td>\n",
              "      <td>NaN</td>\n",
              "    </tr>\n",
              "    <tr>\n",
              "      <th>2</th>\n",
              "      <td>https://masschallenge.org/mission/</td>\n",
              "      <td>Mass Challenge</td>\n",
              "      <td>Founded in 2009 in Boston, MA, MassChallenge’s...</td>\n",
              "      <td>2023</td>\n",
              "      <td>NaN</td>\n",
              "    </tr>\n",
              "    <tr>\n",
              "      <th>3</th>\n",
              "      <td>https://www.sea-ahead.com/mission</td>\n",
              "      <td>Sea Ahead</td>\n",
              "      <td>In 2018, we realized that early-stage startups...</td>\n",
              "      <td>2023</td>\n",
              "      <td>NaN</td>\n",
              "    </tr>\n",
              "    <tr>\n",
              "      <th>4</th>\n",
              "      <td>https://401techbridge.org/401-tech-bridge-mass...</td>\n",
              "      <td>401 Tech Bridge</td>\n",
              "      <td>401 Tech Bridge and MassChallenge partnered on...</td>\n",
              "      <td>2023</td>\n",
              "      <td>NaN</td>\n",
              "    </tr>\n",
              "    <tr>\n",
              "      <th>...</th>\n",
              "      <td>...</td>\n",
              "      <td>...</td>\n",
              "      <td>...</td>\n",
              "      <td>...</td>\n",
              "      <td>...</td>\n",
              "    </tr>\n",
              "    <tr>\n",
              "      <th>7081</th>\n",
              "      <td>https://web.uri.edu/catalog/#/courses/Hki24HDw...</td>\n",
              "      <td>University of Rhode Island College of Arts and...</td>\n",
              "      <td>Course name: WRT646 - Seminar in Writing Studi...</td>\n",
              "      <td>2022-2023</td>\n",
              "      <td>NaN</td>\n",
              "    </tr>\n",
              "    <tr>\n",
              "      <th>7082</th>\n",
              "      <td>https://web.uri.edu/catalog/#/courses/ryIHVBvv...</td>\n",
              "      <td>University of Rhode Island College of Arts and...</td>\n",
              "      <td>Course name: WRT647 - Seminar in Research Meth...</td>\n",
              "      <td>2022-2023</td>\n",
              "      <td>NaN</td>\n",
              "    </tr>\n",
              "    <tr>\n",
              "      <th>7083</th>\n",
              "      <td>https://web.uri.edu/catalog/#/courses/H1-DF4rP...</td>\n",
              "      <td>University of Rhode Island College of Arts and...</td>\n",
              "      <td>Course name: WRT691 - Independent Study in Rhe...</td>\n",
              "      <td>2022-2023</td>\n",
              "      <td>NaN</td>\n",
              "    </tr>\n",
              "    <tr>\n",
              "      <th>7084</th>\n",
              "      <td>https://web.uri.edu/catalog/#/courses/HyPqVSww...</td>\n",
              "      <td>University of Rhode Island College of Arts and...</td>\n",
              "      <td>Course name: WRT699 - Doctoral Dissertation Re...</td>\n",
              "      <td>2022-2023</td>\n",
              "      <td>NaN</td>\n",
              "    </tr>\n",
              "    <tr>\n",
              "      <th>7085</th>\n",
              "      <td>https://web.uri.edu/catalog/#/courses/SkLrVSvv...</td>\n",
              "      <td>University of Rhode Island College of Arts and...</td>\n",
              "      <td>Course name: WRT999 - Methods of Teaching Coll...</td>\n",
              "      <td>2022-2023</td>\n",
              "      <td>NaN</td>\n",
              "    </tr>\n",
              "  </tbody>\n",
              "</table>\n",
              "<p>7086 rows × 5 columns</p>\n",
              "</div>"
            ],
            "text/plain": [
              "                                                   link  \\\n",
              "0     https://ri-business.com/the-competition/about-...   \n",
              "1                   https://www.branchfood.com/about-us   \n",
              "2                    https://masschallenge.org/mission/   \n",
              "3                     https://www.sea-ahead.com/mission   \n",
              "4     https://401techbridge.org/401-tech-bridge-mass...   \n",
              "...                                                 ...   \n",
              "7081  https://web.uri.edu/catalog/#/courses/Hki24HDw...   \n",
              "7082  https://web.uri.edu/catalog/#/courses/ryIHVBvv...   \n",
              "7083  https://web.uri.edu/catalog/#/courses/H1-DF4rP...   \n",
              "7084  https://web.uri.edu/catalog/#/courses/HyPqVSww...   \n",
              "7085  https://web.uri.edu/catalog/#/courses/SkLrVSvv...   \n",
              "\n",
              "                                                    who  \\\n",
              "0                               RI Business Competition   \n",
              "1                                            branchfood   \n",
              "2                                        Mass Challenge   \n",
              "3                                             Sea Ahead   \n",
              "4                                       401 Tech Bridge   \n",
              "...                                                 ...   \n",
              "7081  University of Rhode Island College of Arts and...   \n",
              "7082  University of Rhode Island College of Arts and...   \n",
              "7083  University of Rhode Island College of Arts and...   \n",
              "7084  University of Rhode Island College of Arts and...   \n",
              "7085  University of Rhode Island College of Arts and...   \n",
              "\n",
              "                                                   what       when  Unnamed: 0  \n",
              "0     The Rhode Island Business Competition aims to ...       2023         NaN  \n",
              "1     At Branchfood we facilitate the connections th...       2023         NaN  \n",
              "2     Founded in 2009 in Boston, MA, MassChallenge’s...       2023         NaN  \n",
              "3     In 2018, we realized that early-stage startups...       2023         NaN  \n",
              "4     401 Tech Bridge and MassChallenge partnered on...       2023         NaN  \n",
              "...                                                 ...        ...         ...  \n",
              "7081  Course name: WRT646 - Seminar in Writing Studi...  2022-2023         NaN  \n",
              "7082  Course name: WRT647 - Seminar in Research Meth...  2022-2023         NaN  \n",
              "7083  Course name: WRT691 - Independent Study in Rhe...  2022-2023         NaN  \n",
              "7084  Course name: WRT699 - Doctoral Dissertation Re...  2022-2023         NaN  \n",
              "7085  Course name: WRT999 - Methods of Teaching Coll...  2022-2023         NaN  \n",
              "\n",
              "[7086 rows x 5 columns]"
            ]
          },
          "execution_count": 17,
          "metadata": {},
          "output_type": "execute_result"
        }
      ],
      "source": [
        "# dissertation_df = dissertation_df.dropna()\n",
        "resource_df"
      ]
    },
    {
      "cell_type": "markdown",
      "metadata": {
        "nteract": {
          "transient": {
            "deleting": false
          }
        }
      },
      "source": [
        "Iterate over resources and construct a formatted object for each to add to search index"
      ]
    },
    {
      "cell_type": "code",
      "execution_count": 13,
      "metadata": {
        "jupyter": {
          "outputs_hidden": false,
          "source_hidden": false
        },
        "nteract": {
          "transient": {
            "deleting": false
          }
        }
      },
      "outputs": [
        {
          "data": {
            "application/vnd.livy.statement-meta+json": {
              "execution_finish_time": "2023-04-12T22:23:59.0557958Z",
              "execution_start_time": "2023-04-12T22:23:57.8381934Z",
              "livy_statement_state": "available",
              "parent_msg_id": "b739587b-5624-4466-8511-a3fec913a64f",
              "queued_time": "2023-04-12T22:23:57.6981144Z",
              "session_id": "46",
              "session_start_time": null,
              "spark_jobs": null,
              "spark_pool": "smallSpark",
              "state": "finished",
              "statement_id": 30
            },
            "text/plain": [
              "StatementMeta(smallSpark, 46, 30, Finished, Available)"
            ]
          },
          "metadata": {},
          "output_type": "display_data"
        }
      ],
      "source": [
        "documents = []\n",
        "\n",
        "for index, row in resource_df.iterrows():\n",
        "    documents.append(\n",
        "        {\n",
        "            \"@search.action\": \"upload\",\n",
        "            \"Key\": str(index),\n",
        "            \"ResourceURL\": str(row.link),\n",
        "            \"Who\": str(row.who),\n",
        "            \"What\": str(row.what),\n",
        "            \"When\": str(row.when)\n",
        "        }\n",
        "    )"
      ]
    },
    {
      "cell_type": "code",
      "execution_count": 14,
      "metadata": {
        "jupyter": {
          "outputs_hidden": false,
          "source_hidden": false
        },
        "nteract": {
          "transient": {
            "deleting": false
          }
        }
      },
      "outputs": [
        {
          "data": {
            "application/vnd.livy.statement-meta+json": {
              "execution_finish_time": "2023-04-12T22:23:59.5120016Z",
              "execution_start_time": "2023-04-12T22:23:59.1972925Z",
              "livy_statement_state": "available",
              "parent_msg_id": "8e8dbf64-d27d-445f-bdea-1ceee5a982c1",
              "queued_time": "2023-04-12T22:23:58.2555867Z",
              "session_id": "46",
              "session_start_time": null,
              "spark_jobs": null,
              "spark_pool": "smallSpark",
              "state": "finished",
              "statement_id": 31
            },
            "text/plain": [
              "StatementMeta(smallSpark, 46, 31, Finished, Available)"
            ]
          },
          "metadata": {},
          "output_type": "display_data"
        },
        {
          "data": {
            "text/plain": [
              "[{'@search.action': 'upload',\n",
              "  'Key': '0',\n",
              "  'ResourceURL': 'https://ri-business.com/the-competition/about-the-competition',\n",
              "  'Who': 'RI Business Competition',\n",
              "  'What': \"The Rhode Island Business Competition aims to create and foster growth companies in Rhode IslaThe Rhode Island Business Competition aims to create and foster growth companies in Rhode Island that will increase local employment. It's all about helping emerging entrepreneurs achieve their dreams. Established in 2000, the Rhode Island Business Competition is supported by a broad range of sponsors that include private businesses, investors, foundations, colleges and universities, public entities, nonprofit organizations, and former competitors. Today, it is the leading community-supported business plan competition in the Northeast. The Competition encourages ideas for new businesses, as well as from early stage companies. An early stage, or seed stage, company typically is at the inventor stage where there is an idea, a concept, or even a product, but little or no income has been generated yet. See complete rules or apply online. The Rhode Island Business Competition is supported by its sponsors and organized by co-chairs Peggy Farrell, partner with Hinckley Allen, and Anthony Mangiarelli, partner with KLR.nd that will increase local employment. It's all about helping emerging entrepreneurs achieve their dreams. \",\n",
              "  'When': '2023'},\n",
              " {'@search.action': 'upload',\n",
              "  'Key': '1',\n",
              "  'ResourceURL': 'https://www.branchfood.com/about-us',\n",
              "  'Who': 'branchfood',\n",
              "  'What': 'At Branchfood we facilitate the connections that catalyze food innovation and unite the community of food entrepreneurs, industry experts, corporate leaders, and investors passionate about improving our food system for generations to come. Since our founding in 2015, we’ve supported 800+ food founders, hosted 200+ events, and formed 180+ industry partnerships. We launched Branch Venture Group, a membership organization and angel investment network, that fosters connections between investors and promising food ventures which has invested over $3.3MM across 14 portfolio companies. We also launched Food Edge, New England’s leading annual summit congregating the industry’s largest brands, dynamic startups, disruptive leaders, and leading researchers to discuss the future of food and explore trends, strategies, and actionable insights to help industry stakeholders succeed. Over the last decade, the food industry has undergone a massive transformation due to increasing consumer interests in health and sustainability. As the community of founders and change agents seek to build a better future of food to meet this demand, Branchfood seeks to support and catalyze this work. If you are a startup, organization, investor, or industry professional, we invite you to join us in our mission to increase sustainability and resiliency across the food value chain. ',\n",
              "  'When': '2023'}]"
            ]
          },
          "execution_count": 21,
          "metadata": {},
          "output_type": "execute_result"
        }
      ],
      "source": [
        "documents[:2]"
      ]
    },
    {
      "cell_type": "markdown",
      "metadata": {
        "nteract": {
          "transient": {
            "deleting": false
          }
        }
      },
      "source": [
        "Upload documents to search index"
      ]
    },
    {
      "cell_type": "code",
      "execution_count": 15,
      "metadata": {
        "jupyter": {
          "outputs_hidden": false,
          "source_hidden": false
        },
        "nteract": {
          "transient": {
            "deleting": false
          }
        }
      },
      "outputs": [
        {
          "data": {
            "application/vnd.livy.statement-meta+json": {
              "execution_finish_time": "2023-04-12T22:24:15.792111Z",
              "execution_start_time": "2023-04-12T22:24:10.2394551Z",
              "livy_statement_state": "available",
              "parent_msg_id": "9552b1cc-f15c-4169-9192-c27bce19bc43",
              "queued_time": "2023-04-12T22:24:10.0594176Z",
              "session_id": "46",
              "session_start_time": null,
              "spark_jobs": null,
              "spark_pool": "smallSpark",
              "state": "finished",
              "statement_id": 32
            },
            "text/plain": [
              "StatementMeta(smallSpark, 46, 32, Finished, Available)"
            ]
          },
          "metadata": {},
          "output_type": "display_data"
        },
        {
          "name": "stdout",
          "output_type": "stream",
          "text": [
            "Upload of new document succeeded: True\n"
          ]
        }
      ],
      "source": [
        "try:\n",
        "    result = search_client.upload_documents(documents=documents)\n",
        "    print(\"Upload of new document succeeded: {}\".format(result[0].succeeded))\n",
        "except Exception as ex:\n",
        "    print (ex.message)"
      ]
    },
    {
      "cell_type": "code",
      "execution_count": 21,
      "metadata": {
        "jupyter": {
          "outputs_hidden": false,
          "source_hidden": false
        },
        "nteract": {
          "transient": {
            "deleting": false
          }
        }
      },
      "outputs": [
        {
          "data": {
            "application/vnd.livy.statement-meta+json": {
              "execution_finish_time": "2023-04-12T22:27:57.820975Z",
              "execution_start_time": "2023-04-12T22:27:57.2292216Z",
              "livy_statement_state": "available",
              "parent_msg_id": "b8879c7f-0fee-4e83-8bfe-8e493b8e50f2",
              "queued_time": "2023-04-12T22:27:57.0719726Z",
              "session_id": "46",
              "session_start_time": null,
              "spark_jobs": null,
              "spark_pool": "smallSpark",
              "state": "finished",
              "statement_id": 38
            },
            "text/plain": [
              "StatementMeta(smallSpark, 46, 38, Finished, Available)"
            ]
          },
          "metadata": {},
          "output_type": "display_data"
        },
        {
          "name": "stdout",
          "output_type": "stream",
          "text": [
            "Total Documents Matching Query: None\n",
            "/n/n166.0\n",
            "{'What': 'Computational Intelligence and Self-Adaptive Systems (CISA) Laboratory. Though innovative research, this lab designs intelligent computing systems that can think and act like a human brain. Visit the lab’s website.\\n\\n\\nWelcome to the Computational Intelligence and Self-Adaptive Systems (CISA) Laboratory!\\n\\n\\nThe Computational Intelligence and Self-Adaptive Systems (CISA) Laboratory at the Department of Electrical, Computer, and Biomedical Engineering at the University of Rhode Island (URI) focuses on the fundamental research on computational intelligence, with a particular focus on neural networks, deep learning, reinforcement learning, and data mining. Please explore our website to find out more information […]\\nContinue reading \"Welcome to the Computational Intelligence and Self-Adaptive Systems (CISA) Laboratory!\" → \\n\\n\\n\\n', 'Key': '2690', 'When': '2023', 'Who': 'Computational Intelligence and Self-Adaptive Systems (CISA) Laboratory.', 'ResourceURL': 'http://www.ele.uri.edu/faculty/he/', '@search.score': 16.633516, '@search.reranker_score': None, '@search.highlights': None, '@search.captions': None}\n",
            "/n/n252.2\n",
            "{'What': 'Research article title: Update and Acceleration of Health Care Using Artificial Intelligence in Medical Treatments and Diagnostics, Paragraph from abstract: Researchers support the growth of artificial intelligence and similar methods in health and medical care for the purpose of continuously improving processes. By focusing on the growth on data analytics, statistics, applied mathematics, and computer methods including machine learning, the future of health-care methods will change. The development of computerized methods and the growth of data systems produce ample materials for artificial intelligence to develop and to bring physician assistance programs to enable continuous improvement resulting in superior health and medical care. This includes applications in intensive care as well as diagnostic therapies. The focus is on examples in the use of the promising developments in data science methods, the accumulation of medical and research data. With quality and continuous improvement in process control applications where one determines the usefulness of data analytics, there are great possibilities of change in the improvement in medical applications as well as the management of medical and health-care treatment and diagnostic facilities.', 'Key': '652', 'When': '2021', 'Who': 'Jeffrey E. Jarrett', 'ResourceURL': 'https://digitalcommons.uri.edu/cba_facpubs/115', '@search.score': 14.051653, '@search.reranker_score': None, '@search.highlights': None, '@search.captions': None}\n",
            "/n/n88.0\n",
            "{'What': 'Course name: PSY384 - Cognitive Psychology\\nDescription: (3 crs.) An examination of contemporary research and theories on mental activities. Topics will include perception, pattern recognition, attention, memory, problem solving, language, consciousness, and artificial intelligence. (Lec. 3) Pre: PSY 113 and 301 or equivalent. In alternate years.\\nModality: Face to Face\\nCredits: 3\\nCollege: College of Health Science\\nDepartment: Psychology\\n', 'Key': '6605', 'When': '2022-2023', 'Who': 'University of Rhode Island College of College of Health Science', 'ResourceURL': 'https://web.uri.edu/catalog/#/courses/S1l2smSwwt?bc=true&bcCurrent=PSY384%20-%20Cognitive%20Psychology&bcGroup=Psychology&bcItemType=courses', '@search.score': 12.907471, '@search.reranker_score': None, '@search.highlights': None, '@search.captions': None}\n",
            "/n/n135.4\n",
            "{'What': 'Course name: FIN431 - Financial Technologies\\nDescription: (3 crs.) The financial services industries are changing with the emergence of financial technology (FinTech). This course introduces to the most cutting edge FinTech topics, equip the students with an understanding of the major FinTech products in the market, and provide an overview of the underlying technologies. Topics may include but are not limited to: blockchain and cryptocurrencies, smart contracting, digital payments, crowdfunding, robo-advising, artificial intelligence, machine learning, and cloud computing. (Lec. 3)\\nModality: Online\\nFace to Face\\nCredits: 3\\nCollege: Business\\nDepartment: General Business\\n', 'Key': '4385', 'When': '2022-2023', 'Who': 'University of Rhode Island College of Business', 'ResourceURL': 'https://web.uri.edu/catalog/#/courses/B1GYtnuVc?bc=true&bcCurrent=FIN431%20-%20Financial%20Technologies&bcGroup=Finance&bcItemType=courses', '@search.score': 12.653524, '@search.reranker_score': None, '@search.highlights': None, '@search.captions': None}\n",
            "/n/n106.8\n",
            "{'What': 'Course name: CSC110 - Survey of Computer Science\\nDescription: (4 crs.) Broad introduction to computer science, with an emphasis on problem solving. Algorithm discovery. Algorithm analysis. Algorithmic solutions to problem in various sub-fields including operating systems, digital forensics, computer graphics, artificial intelligence, and bioinformatics. (Lec. 3, Lab. 2) Pre: C- or better in CSC 106 or approval of instructor.\\nModality: Face to Face\\nCredits: 4\\nCollege: Arts and Sciences\\nDepartment: Computer Science and Statistics\\n', 'Key': '3713', 'When': '2022-2023', 'Who': 'University of Rhode Island College of Arts and Sciences', 'ResourceURL': 'https://web.uri.edu/catalog/#/courses/rJzD1VHwwF?bc=true&bcCurrent=CSC110%20-%20Survey%20of%20Computer%20Science&bcGroup=Computer%20Science&bcItemType=courses', '@search.score': 11.83798, '@search.reranker_score': None, '@search.highlights': None, '@search.captions': None}\n",
            "/n/n105.6\n",
            "{'What': 'Course name: CSC581 - Special Topics in Artificial Intelligence\\nDescription: (3 crs.) Cross-listed as (CSC), ELE 581. Topics of specialized or current interest, which may change. Topics may include expert systems, natural language processing, neural network models, machine learning. AI applications in remote sensing. (Lec. 3) Pre: CSC 481 or permission of instructor. May be repeated with permission. In alternate years.\\nModality: Face to Face\\nCredits: 3\\nCollege: Arts and Sciences\\nDepartment: Computer Science and Statistics\\n', 'Key': '3769', 'When': '2022-2023', 'Who': 'University of Rhode Island College of Arts and Sciences', 'ResourceURL': 'https://web.uri.edu/catalog/#/courses/r1eIQBvwF?bc=true&bcCurrent=CSC581%20-%20Special%20Topics%20in%20Artificial%20Intelligence&bcGroup=Computer%20Science&bcItemType=courses', '@search.score': 11.83798, '@search.reranker_score': None, '@search.highlights': None, '@search.captions': None}\n",
            "/n/n109.8\n",
            "{'What': 'Course name: ELE581 - Special Topics in Artificial Intelligence\\nDescription: (3 crs.) Cross-listed as (CSC), ELE 581. Topics of specialized or current interest, which may change. Topics may include expert systems, natural language processing, neural network models, machine learning. AI applications in remote sensing. (Lec. 3) Pre: CSC 481 or permission of instructor. May be repeated with permission. In alternate years.\\nModality: Face to Face\\nCredits: 3\\nCollege: College of Engineering\\nDepartment: Electrical, Computer and Biomedical Engineering\\n', 'Key': '4118', 'When': '2022-2023', 'Who': 'University of Rhode Island College of College of Engineering', 'ResourceURL': 'https://web.uri.edu/catalog/#/courses/HyZlU7HvwF?bc=true&bcCurrent=ELE581%20-%20Special%20Topics%20in%20Artificial%20Intelligence&bcGroup=Electrical%20Engineering&bcItemType=courses', '@search.score': 11.83798, '@search.reranker_score': None, '@search.highlights': None, '@search.captions': None}\n",
            "/n/n368.6\n",
            "{'What': 'Research article title: The Effects of Urbanization on Performance, Habitat Selection, and Persistence of Anolis Lizards, Paragraph from abstract: One of the most dramatic effects of urbanization is the change in the structural habitat, the matrix of physical objects that comprise a habitat. In order to develop a landscape for human use, vegetation is removed and modified and artificial structures are added. In the first chapter, I evaluate the qualities and magnitude of differences in the structural habitat between natural and urban habitats, and how lizards express their habitat preferences, given the changes in the urban environment. First, in the lab at URI, I assessed lizard preference for perch diameter using individuals from natural populations of both species. I allowed lizards to choose between vertical perches of three different diameters and recorded the proportion of time spent on each perch. Second, in four urban and four natural sites in the field in Miami, FL, I measured the diameter, height, and type (e.g., “tree trunk”, “branch”, “metal pole”) of available vegetation and artificial structures upon which lizards might perch. I could therefore asses habitat selection by also recording these values for perches that lizards used. From the preference trials, I discovered that lizards of both species prefer the largest available perches. In the field, I found that both vegetation and artificial structures in urban areas were broader compared to vegetation in natural areas. Lizards expressed their preference for broad diameters by selecting broader perches than were randomly available in both habitat types, including artificial structures. Therefore, in urban habitats, lizards used broader perches than they did in natural habitats, demonstrating an expansion of the structural niche axis in urban areas.', 'Key': '2458', 'When': '2018', 'Who': 'Andrew Clark Battles', 'ResourceURL': 'https://digitalcommons.uri.edu/oa_diss/731', '@search.score': 11.560014, '@search.reranker_score': None, '@search.highlights': None, '@search.captions': None}\n",
            "/n/n121.4\n",
            "{'What': 'Microfluidics and Microsystems Laboratory. The goal of this lab is to develop advanced microfluidic systems to tackle challenges with respect to environmental monitoring, food safety and human health. Visit the lab’s website.\\n\\n\\n\\n\\nWelcome to the homepage of Dr. Yang Lin’s Microfluidics and Microsystems Laboratory.\\nWe seek to understand and exploit the knowledge at the interface of engineering, artificial intelligence, physics, chemistry and biomedicine. Our aim is to develop advanced microfluidic systems to tackle challenges with respect to environmental monitoring, food safety, and human health.\\n\\n\\n\\n\\n', 'Key': '2699', 'When': '2023', 'Who': 'Microfluidics and Microsystems Laboratory.', 'ResourceURL': 'https://web.uri.edu/mml/', '@search.score': 10.497799, '@search.reranker_score': None, '@search.highlights': None, '@search.captions': None}\n",
            "/n/n80.0\n",
            "{'What': 'Course name: CSF560 - Cyber Threat Intelligence\\nDescription: (4 crs.) Introduction to cyber threat intelligence and how it is applied across public and private sector organizations. Topics include stages of intelligence life cycle, cyber security frameworks, tradecraft skills. (Online) Pre: CSF 534.\\nModality: Online\\nCredits: 4\\nCollege: Arts and Sciences\\nDepartment: Computer Science and Statistics\\n', 'Key': '3839', 'When': '2022-2023', 'Who': 'University of Rhode Island College of Arts and Sciences', 'ResourceURL': 'https://web.uri.edu/catalog/#/courses/Hy_7SSwDt?bc=true&bcCurrent=CSF560%20-%20Cyber%20Threat%20Intelligence&bcGroup=Digital%20%20Forensics%20and%20Cyber%20Security&bcItemType=courses', '@search.score': 9.53155, '@search.reranker_score': None, '@search.highlights': None, '@search.captions': None}\n"
          ]
        }
      ],
      "source": [
        "results = search_client.search(\n",
        "                        'What courses are available abour artificial intelligence?', \n",
        "                        filter=None,\n",
        "                        query_language=\"en-us\", \n",
        "                        top=10)\n",
        "\n",
        "print ('Total Documents Matching Query:', results.get_count())\n",
        "for result in results:\n",
        "    print('/n/n' + str(len(result['What']) / 5))\n",
        "    print(result)"
      ]
    },
    {
      "cell_type": "markdown",
      "metadata": {
        "nteract": {
          "transient": {
            "deleting": false
          }
        }
      },
      "source": [
        "Testing with GPT"
      ]
    },
    {
      "cell_type": "code",
      "execution_count": null,
      "metadata": {
        "jupyter": {
          "outputs_hidden": false,
          "source_hidden": false
        },
        "nteract": {
          "transient": {
            "deleting": false
          }
        }
      },
      "outputs": [
        {
          "data": {
            "application/vnd.livy.statement-meta+json": {
              "execution_finish_time": "2023-04-10T13:51:21.8187265Z",
              "execution_start_time": null,
              "livy_statement_state": null,
              "parent_msg_id": "3046e581-7c00-4120-9fd0-374aecef805e",
              "queued_time": "2023-04-10T13:50:18.1348273Z",
              "session_id": null,
              "session_start_time": null,
              "spark_jobs": null,
              "spark_pool": null,
              "state": "cancelled",
              "statement_id": null
            },
            "text/plain": [
              "StatementMeta(, , , Cancelled, )"
            ]
          },
          "metadata": {},
          "output_type": "display_data"
        }
      ],
      "source": [
        "\n",
        "def is_RI_innovation_question(user_text):\n",
        "    \"\"\"\n",
        "    NOTE: Test this empirically to determine performance?\n",
        "    \"\"\"\n",
        "    # VERY IMPORTANT: Need to move the API key and model deployment to a secure location, e.g. Azure Key Vault.\n",
        "    openai.api_type = \"azure\"\n",
        "    openai.api_base = os.getenv(\"AZURE_OAI_API_BASE\")\n",
        "    openai.api_version = os.getenv(\"AZURE_OAI_API_VERSION\")\n",
        "    openai.api_key = os.getenv(\"AOAI_API_KEY\") # os.environ[\"AZURE_OAI_API_KEY\"]\"\"\n",
        "\n",
        "    MODEL_DEPLOYMENT = os.getenv(\"MODEL_DEPLOYMENT\") # os.environ[\"AZURE_OAI_MODEL_DEPLOYMENT\"]\n",
        "\n",
        "    prompt = f\"\"\"\n",
        "        Determine whether the given query is related to entrepreneurship, innovation, or business.\n",
        "        Query 1: What is the meaning of life?\n",
        "        Related 1:False\n",
        "        Query 2: How can I build a successful technology company?\n",
        "        Related 2:True\n",
        "        Query 3: Who are you?\n",
        "        Related 3:False\n",
        "        Query 4: What resources are available for blue tech entrepreneurs in RI?\n",
        "        Related 4:True\n",
        "        Query 5: {user_text}\n",
        "        Related 5: \n",
        "    \"\"\"\n",
        "\n",
        "    response = openai.Completion.create(\n",
        "        engine=MODEL_DEPLOYMENT,\n",
        "        prompt=prompt,\n",
        "        temperature=0.1,\n",
        "        max_tokens=2,\n",
        "        top_p=1.0,\n",
        "        frequency_penalty=0.0,\n",
        "        presence_penalty=0.0\n",
        "    )\n",
        "    response = response['choices'][0]['text'] \n",
        "\n",
        "    return response\n",
        "\n",
        "\n",
        "def is_academic_question(user_text):\n",
        "\n",
        "    # VERY IMPORTANT: Need to move the API key and model deployment to a secure location, e.g. Azure Key Vault.\n",
        "    openai.api_type = \"azure\"\n",
        "    openai.api_base = os.getenv(\"AZURE_OAI_API_BASE\")\n",
        "    openai.api_version = os.getenv(\"AZURE_OAI_API_VERSION\")\n",
        "    openai.api_key = os.getenv(\"AOAI_API_KEY\") # os.environ[\"AZURE_OAI_API_KEY\"]\"\"\n",
        "\n",
        "    MODEL_DEPLOYMENT = os.getenv(\"MODEL_DEPLOYMENT\") # os.environ[\"AZURE_OAI_MODEL_DEPLOYMENT\"]\n",
        "\n",
        "\n",
        "    prompt = f\"\"\"\n",
        "        Determine whether the given query is related to entrepreneurship, innovation, or business.\n",
        "        Query 1: What is the meaning of life?\n",
        "        Related 1:False\n",
        "        Query 2: Who is working on DNA?\n",
        "        Related 2:True\n",
        "        Query 3: Who are you?\n",
        "        Related 3:False\n",
        "        Query 4: What papers have been written at URI about writing and rhetoric lately?\n",
        "        Related 4:True\n",
        "        Query 5: Tell me about researchers who are studying humanities.\n",
        "        Related 5:True\n",
        "        Query 6: Write me a poem.\n",
        "        Related 6:False\n",
        "        Query 7: {user_text}\n",
        "        Related 7: \n",
        "    \"\"\"\n",
        "\n",
        "    response = openai.Completion.create(\n",
        "        engine=MODEL_DEPLOYMENT,\n",
        "        prompt=prompt,\n",
        "        temperature=0.1,\n",
        "        max_tokens=2,\n",
        "        top_p=1.0,\n",
        "        frequency_penalty=0.0,\n",
        "        presence_penalty=0.0\n",
        "    )\n",
        "    response = response['choices'][0]['text'] \n",
        "\n",
        "    return response\n",
        "\n",
        "# Custom prompt\n",
        "def generate_GPT_response(user_text):\n",
        "\n",
        "\n",
        "\n",
        "    from azure.search.documents import SearchClient\n",
        "    from azure.core.credentials import AzureKeyCredential\n",
        "\n",
        "    openai.api_type = \"azure\"\n",
        "    openai.api_base = os.getenv(\"AZURE_OAI_API_BASE\")\n",
        "    openai.api_version = os.getenv(\"AZURE_OAI_API_VERSION\")\n",
        "    openai.api_key = os.getenv(\"AOAI_API_KEY\") # os.environ[\"AZURE_OAI_API_KEY\"]\"\"\n",
        "\n",
        "    MODEL_DEPLOYMENT = os.getenv(\"MODEL_DEPLOYMENT\") # os.environ[\"AZURE_OAI_MODEL_DEPLOYMENT\"]\n",
        "\n",
        "    # print(f\"\\n\\nMODEL DEPLOYMENT: {MODEL_DEPLOYMENT}\\n\\n\")\n",
        "\n",
        "    # TODO: Gather fuller context of conversation and add to prompt.\n",
        "\n",
        "    # TODO: Create a prompt that is more centered around Einstein's actual responses, i.e. from an interview.\n",
        "    service_name = os.getenv(\"AZURE_SEARCH_SERVICE_NAME\")\n",
        "    admin_key = os.getenv(\"AZURE_SEARCH_ADMIN_KEY\")\n",
        "\n",
        "    index_name = os.getenv(\"AZURE_SEARCH_INDEX_NAME\")\n",
        "\n",
        "    endpoint = \"https://{}.search.windows.net/\".format(service_name)\n",
        "\n",
        "    get_context = is_academic_question(user_text)\n",
        "    if \"True\" in get_context:\n",
        "        search_client = SearchClient(endpoint=endpoint,\n",
        "                        index_name=index_name,\n",
        "                        credential=AzureKeyCredential(admin_key)\n",
        "        )\n",
        "        search_results = search_client.search(search_text=user_text)\n",
        "\n",
        "        # print(search_results)\n",
        "\n",
        "        results = []\n",
        "        for result in search_results:\n",
        "            result['What'] = result['What'][:1000] + '. . .'\n",
        "            results.append(result)\n",
        "\n",
        "    prompt = f\"\"\"\n",
        "                Act as Albert Einstein and help the user to uncover valuable innovation resources related to their context. Use context from the conversation and the latest facts available, if they are relevant, in your answers. Cite sources inline, i.e.: fact (ResourceURL), for each fact used.\n",
        "                User: Who are you?\n",
        "                Bot: I am a bot that has been trained on Albert Einstein's public writings to mimic his thoughts.\n",
        "                User: What are the secrets of the universe?\n",
        "                Bot:  I wish I could answer that, but the secrets of the universe remain a mystery to us all.\n",
        "                User: What is your favorite physical law?\n",
        "                Bot: My favorite physical law is the Theory of Relativity. It has been a fundamental part of our understanding of physics since it was first proposed by me in 1905.\n",
        "                User: How does the special theory of relativity contrast with the general theory?\n",
        "                Bot: The special theory of relativity deals with the laws of physics in an inertial frame of reference while the general theory accounts for gravity and acceleration as well.\n",
        "                User: What does \"inertial frame of reference\" mean?\n",
        "                Bot: An inertial frame of reference is one in which Newton's first law holds: an object at rest remains at rest, and an object in motion continues to move with a constant velocity unless acted upon by an external force.\n",
        "                User: What should I do with my life?\n",
        "                Bot: That is a difficult question that only you can answer. I suggest reflecting on your interests, talents, and passions to help guide the direction of your life.\n",
        "                User: Where were you born?\n",
        "                Bot: I was born in Ulm, Germany on March 14, 1879.\n",
        "                User: {user_text}\n",
        "                {\"Factual context:\" + str(results[:3]) if \"True\" in get_context else ''}\n",
        "                Bot: \n",
        "                \"\"\"\n",
        "\n",
        "    print(prompt)\n",
        "\n",
        "    response = openai.Completion.create(\n",
        "        engine=MODEL_DEPLOYMENT,\n",
        "        prompt=prompt,\n",
        "        temperature=0.6,\n",
        "        max_tokens=257,\n",
        "        top_p=1.0,\n",
        "        frequency_penalty=0.0,\n",
        "        presence_penalty=0.0\n",
        "    )\n",
        "    einstein_response = response['choices'][0]['text'] \n",
        "\n",
        "    print(f\"User: {user_text}\")\n",
        "    print(f\"Bot: {einstein_response}\")\n",
        "\n",
        "    return einstein_response\n",
        "\n",
        "\n",
        "history = []\n",
        "def generate_GPT_response_demo(user_input):\n",
        "    # ChatGPT uses a particular set of tokens to indicate turns in conversations\n",
        "\n",
        "    from azure.search.documents import SearchClient\n",
        "    from azure.core.credentials import AzureKeyCredential\n",
        "\n",
        "\n",
        "    openai.api_type = \"azure\"\n",
        "    openai.api_base = os.getenv(\"AZURE_OAI_API_BASE\")\n",
        "    openai.api_version = os.getenv(\"AZURE_OAI_API_VERSION\")\n",
        "    openai.api_key = os.getenv(\"AOAI_API_KEY\") # os.environ[\"AZURE_OAI_API_KEY\"]\"\"\n",
        "\n",
        "    MODEL_DEPLOYMENT = os.getenv(\"MODEL_DEPLOYMENT\") # os.environ[\"AZURE_OAI_MODEL_DEPLOYMENT\"]\n",
        "\n",
        "    prompt_prefix = \"\"\"<|im_start|>system\n",
        "    Assistant helps the company employees with their healthcare plan questions and employee handbook questions. \n",
        "    Answer ONLY with the facts listed in the list of sources below. If there isn't enough information below, say you don't know. Do not generate answers that don't use the sources below. If asking a clarifying question to the user would help, ask the question. \n",
        "    Each source has a name followed by colon and the actual information, always include the source name for each fact you use in the response. Use square brakets to reference the source, e.g. [info1.txt]. Don't combine sources, list each source separately, e.g. [info1.txt][info2.pdf].\n",
        "\n",
        "    Sources:\n",
        "    {sources}\n",
        "\n",
        "    <|im_end|>\"\"\"\n",
        "\n",
        "    turn_prefix = \"\"\"\n",
        "    <|im_start|>user\n",
        "    \"\"\"\n",
        "\n",
        "    turn_suffix = \"\"\"\n",
        "    <|im_end|>\n",
        "    <|im_start|>assistant\n",
        "    \"\"\"\n",
        "\n",
        "    prompt_history = turn_prefix\n",
        "\n",
        "    summary_prompt_template = \"\"\"Below is a summary of the conversation so far, and a new question asked by the user that needs to be answered by searching in a knowledge base. Generate a search query based on the conversation and the new question. Source names are not good search terms to include in the search query.\n",
        "\n",
        "    Summary:\n",
        "    {summary}\n",
        "\n",
        "    Question:\n",
        "    {question}\n",
        "\n",
        "    Search query:\n",
        "    \"\"\"\n",
        "\n",
        "    exclude_category = None # Exclude category, to simulate scenarios where there's a set of docs you can't see\n",
        "\n",
        "    # --- Create a search query based on conversation so far ---\n",
        "    if len(history) > 0:\n",
        "        completion = openai.Completion.create(\n",
        "            engine=MODEL_DEPLOYMENT,\n",
        "            prompt=summary_prompt_template.format(summary=\"\\n\".join(history), question=user_input),\n",
        "            temperature=0.7,\n",
        "            max_tokens=32,\n",
        "            stop=[\"\\n\"])\n",
        "        search = completion.choices[0].text\n",
        "    else:\n",
        "        search = user_input\n",
        "\n",
        "    \n",
        "    # Alternatively simply use search_client.search(q, top=3) if not using semantic search\n",
        "    print(\"Searching:\", search)\n",
        "    print(\"-------------------\")\n",
        "    filter = \"category ne '{}'\".format(exclude_category.replace(\"'\", \"''\")) if exclude_category else None\n",
        "\n",
        "    service_name = os.getenv(\"AZURE_SEARCH_SERVICE_NAME\")\n",
        "    admin_key = os.getenv(\"AZURE_SEARCH_ADMIN_KEY\")\n",
        "\n",
        "    index_name = os.getenv(\"AZURE_SEARCH_INDEX_NAME\")\n",
        "\n",
        "    endpoint = \"https://{}.search.windows.net/\".format(service_name)\n",
        "\n",
        "    get_context = is_academic_question(user_input) + is_RI_innovation_question(user_input)\n",
        "    if \"True\" in get_context:\n",
        "        search_results = search_client.search(search, \n",
        "                                filter=filter,\n",
        "                                query_language=\"en-us\", \n",
        "                                top=3)\n",
        "\n",
        "        results = []\n",
        "        for result in search_results:\n",
        "            result['What'] = result['What'][:1000] + '. . .'\n",
        "            results.append(result)\n",
        "\n",
        "    content = \"\\n\".join(results)\n",
        "\n",
        "    prompt = prompt_prefix.format(sources=content) + prompt_history + user_input + turn_suffix\n",
        "\n",
        "    completion = openai.Completion.create(\n",
        "        engine=MODEL_DEPLOYMENT, \n",
        "        prompt=prompt, \n",
        "        temperature=0.7, \n",
        "        max_tokens=1024,\n",
        "        stop=[\"<|im_end|>\", \"<|im_start|>\"])\n",
        "\n",
        "    prompt_history += user_input + turn_suffix + completion.choices[0].text + \"\\n<|im_end|>\" + turn_prefix\n",
        "    history.append(\"user: \" + user_input)\n",
        "    history.append(\"assistant: \" + completion.choices[0].text)\n",
        "\n",
        "    print(\"\\n-------------------\\n\".join(history))\n",
        "    print(\"\\n-------------------\\nPrompt:\\n\" + prompt)"
      ]
    },
    {
      "cell_type": "code",
      "execution_count": null,
      "metadata": {
        "jupyter": {
          "outputs_hidden": false,
          "source_hidden": false
        },
        "nteract": {
          "transient": {
            "deleting": false
          }
        }
      },
      "outputs": [
        {
          "data": {
            "application/vnd.livy.statement-meta+json": {
              "execution_finish_time": "2023-04-10T13:51:21.8190952Z",
              "execution_start_time": null,
              "livy_statement_state": null,
              "parent_msg_id": "bde259dc-e091-4061-96c8-0f07960c9d15",
              "queued_time": "2023-04-10T13:50:18.1361676Z",
              "session_id": null,
              "session_start_time": null,
              "spark_jobs": null,
              "spark_pool": null,
              "state": "cancelled",
              "statement_id": null
            },
            "text/plain": [
              "StatementMeta(, , , Cancelled, )"
            ]
          },
          "metadata": {},
          "output_type": "display_data"
        }
      ],
      "source": [
        "response = generate_GPT_response_demo('Hello!')"
      ]
    },
    {
      "cell_type": "code",
      "execution_count": null,
      "metadata": {
        "jupyter": {
          "outputs_hidden": false,
          "source_hidden": false
        },
        "nteract": {
          "transient": {
            "deleting": false
          }
        }
      },
      "outputs": [
        {
          "data": {
            "application/vnd.livy.statement-meta+json": {
              "execution_finish_time": "2023-04-10T13:51:21.8196654Z",
              "execution_start_time": null,
              "livy_statement_state": null,
              "parent_msg_id": "89a9ae8d-3305-4e2b-b2a8-ca73e97bd5b1",
              "queued_time": "2023-04-10T13:50:18.1375859Z",
              "session_id": null,
              "session_start_time": null,
              "spark_jobs": null,
              "spark_pool": null,
              "state": "cancelled",
              "statement_id": null
            },
            "text/plain": [
              "StatementMeta(, , , Cancelled, )"
            ]
          },
          "metadata": {},
          "output_type": "display_data"
        }
      ],
      "source": [
        "is_RI_innovation_question(\"I work at a technology company\")"
      ]
    },
    {
      "cell_type": "code",
      "execution_count": null,
      "metadata": {
        "jupyter": {
          "outputs_hidden": false,
          "source_hidden": false
        },
        "nteract": {
          "transient": {
            "deleting": false
          }
        }
      },
      "outputs": [],
      "source": []
    }
  ],
  "metadata": {
    "description": null,
    "kernelspec": {
      "display_name": "Synapse PySpark",
      "name": "synapse_pyspark"
    },
    "language_info": {
      "name": "python"
    },
    "save_output": true,
    "synapse_widget": {
      "state": {},
      "version": "0.1"
    }
  },
  "nbformat": 4,
  "nbformat_minor": 2
}
