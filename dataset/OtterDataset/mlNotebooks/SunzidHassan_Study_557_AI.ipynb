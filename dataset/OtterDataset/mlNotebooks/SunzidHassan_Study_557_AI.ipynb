{
 "cells": [
  {
   "cell_type": "markdown",
   "metadata": {},
   "source": [
    "## 1. Introduction to Deep Learning\n",
    "\n",
    "### Function\n",
    "Machine learning = Looking for function: speech, image recognition, action given state.\n",
    "\n",
    "### 2 main types of function:\n",
    "Regression, classification. Generative: translation, image generation. Multi-class classification: given multiple options, output the correct one.\n",
    "\n",
    "### Learning methods:\n",
    "#### Supervised learning:\n",
    "Provide machine with input-output example, it'll find relation.\n",
    "Loss function: measure performance.\n",
    "\n",
    "#### Self-supervised learning:\n",
    "Trains a function to learning one part of the input from another part of the input.\n",
    "GPT: predict next word, match it with thrown text data.\n",
    "Pre-trained models are like OS, with later applications.\n",
    "\n",
    "#### Reinforcement learning:\n",
    "Reward function is given.\n",
    "ChatGPT: supervised + reinforcement learning.\n",
    "\n",
    "#### Unsupervised:\n",
    "GAN, translation.\n",
    "\n",
    "### Gradient descent:\n",
    "Method to find function.\n",
    "\n",
    "### Transfer learning: domain adaptation\n",
    "Input the model and small amount of labled data for domain adaptation.\n",
    "\n",
    "### Meta learning: learn to learn\n",
    "Instead of using gradient-descent learning method, let the machine learn the learning model.\n",
    "\n",
    "### Life long learning"
   ]
  },
  {
   "cell_type": "markdown",
   "metadata": {},
   "source": [
    "## Lecture 2: Supervised Learning and Nueral Network\n",
    "\n"
   ]
  },
  {
   "cell_type": "markdown",
   "metadata": {},
   "source": [
    "## Lecture 3: Tips in Training a Model\n",
    "\n"
   ]
  },
  {
   "cell_type": "markdown",
   "metadata": {},
   "source": [
    "## Course Project 1: Covid-19 Cases Prediction\n",
    "\n",
    "One-hot vector: Only one element equals to 1 while others are 0.\n",
    "\n",
    "Evaluation metric: mean square error.\n",
    "\n",
    "Goal is to find function, f(alpha) = a, where alpha = features, a = COVID-19 positive cases, f is DNN function\n",
    "\n",
    "Tensor indexing: row, column selection."
   ]
  },
  {
   "cell_type": "markdown",
   "metadata": {},
   "source": [
    "## Lectuer 4: Adaptive Learning Rate and Classification\n",
    "\n"
   ]
  },
  {
   "cell_type": "markdown",
   "metadata": {},
   "source": [
    "## Course Project 2: Phoneme Classification\n",
    "\n",
    "In total 1 second signal, we can take 25ms of 1 frame. We then take numeric vector of this 25ms. We can then move the frame 10ms and recors a new 25ms frame and take another numeric vector.\n",
    "Total T number of frames for 1 sound signal.\n",
    "\n",
    "In the LibriSpeech, 1 row indicates 1 frame of 25ms, with total T rows, each with 39 dimensions.\n",
    "\n",
    "Binding them like a long train.\n",
    "\n",
    "Training and testing accuracy"
   ]
  },
  {
   "cell_type": "markdown",
   "metadata": {},
   "source": [
    "## Lecture 5: Image as an Input - Convolutional Neural Network\n",
    "\n"
   ]
  },
  {
   "cell_type": "markdown",
   "metadata": {},
   "source": [
    "Course Project 3: Image Classification\n",
    "\n",
    "## Lectuer 6: Sequence as Input - Self Attention\n",
    "\n",
    "Course Project 4: Self Attention\n",
    "\n",
    "## Lecture 7: Self-Supervised Learning - Large Language Models\n",
    "\n",
    "Course Project 5: BERT\n",
    "\n"
   ]
  },
  {
   "cell_type": "markdown",
   "metadata": {},
   "source": [
    "## Lecture 8: Introduction to Deep Reinforcement Learning: Policy Gradient\n",
    "\n",
    "2 types of RL: policy gradient and actor critique.\n"
   ]
  },
  {
   "cell_type": "markdown",
   "metadata": {},
   "source": [
    "\n",
    "## Lecture 9: Introduction to Deep Reinforcement Learning Actor-Critic & Emboided AI\n",
    "\n",
    "Course Project 6: Reinforcement Learning\n",
    "\n",
    "## Lecture 10: Generative Model Introduction\n",
    "\n",
    "## Lecture 11: Generative Model Introduction II\n",
    "\n",
    "Course Project 7: GAN\n",
    "\n",
    "## Lecture 12: Domain Adaptation, Meta Learning, and Life-long Learning\n",
    "\n",
    "## Lecture 13: Embodied AI\n"
   ]
  },
  {
   "cell_type": "markdown",
   "metadata": {},
   "source": []
  }
 ],
 "metadata": {
  "language_info": {
   "name": "python"
  },
  "orig_nbformat": 4
 },
 "nbformat": 4,
 "nbformat_minor": 2
}
