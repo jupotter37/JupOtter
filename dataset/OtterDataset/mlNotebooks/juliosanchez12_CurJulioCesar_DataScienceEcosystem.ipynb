{
 "cells": [
  {
   "cell_type": "markdown",
   "id": "1a5e856f",
   "metadata": {},
   "source": [
    "\n",
    "<center>\n",
    "    <img src=\"https://cf-courses-data.s3.us.cloud-object-storage.appdomain.cloud/IBMDeveloperSkillsNetwork-DS0105EN-SkillsNetwork/labs/Module2/images/SN_web_lightmode.png\" width=\"300\" alt=\"cognitiveclass.ai logo\">\n",
    "</center>\n"
   ]
  },
  {
   "cell_type": "markdown",
   "id": "f1af1618",
   "metadata": {},
   "source": [
    "# Data Science Ecosystem and Tools"
   ]
  },
  {
   "cell_type": "markdown",
   "id": "6dae8ee1",
   "metadata": {},
   "source": [
    "\n",
    "#### This notebook explores key tools and languages in the Data Science ecosystem.\n",
    "We will cover common programming languages, libraries, and tools that data scientists rely on, with practical examples.\n"
   ]
  },
  {
   "cell_type": "markdown",
   "id": "8bc80c5b",
   "metadata": {},
   "source": [
    "\n",
    "**Objectives:**\n",
    "\n",
    "- Identify widely-used programming languages for Data Science\n",
    "- Examine key libraries and their use cases\n",
    "- Create and format tables in Markdown\n",
    "- Perform basic arithmetic operations with Python\n",
    "- Execute code cells in Jupyter and other environments\n"
   ]
  },
  {
   "cell_type": "markdown",
   "id": "1ebec992",
   "metadata": {},
   "source": [
    "\n",
    "### Some of the popular languages that Data Scientists use are:\n",
    "\n",
    "1. **Python**: Known for its extensive libraries like pandas, NumPy, and scikit-learn.\n",
    "2. **R**: Preferred for statistical computing and data visualization (e.g., ggplot2, dplyr).\n",
    "3. **SQL**: Essential for managing and querying databases.\n",
    "4. **Julia**: Favored for high-performance numerical computing.\n",
    "5. **Scala**: Often used with Apache Spark for big data processing.\n",
    "6. **MATLAB**: Commonly used in scientific computing.\n"
   ]
  },
  {
   "cell_type": "markdown",
   "id": "9e2df4d1",
   "metadata": {},
   "source": [
    "# Some of the commonly used libraries used by Data Scientists include:\n",
    "\n",
    "1. **pandas**: Used for data manipulation and analysis.\n",
    "2. **NumPy**: Supports large, multi-dimensional arrays and matrices.\n",
    "3. **Matplotlib**: A library for creating static, animated, and interactive visualizations.\n",
    "4. **scikit-learn**: A library for machine learning (e.g., classification, regression, clustering).\n",
    "5. **TensorFlow**: An open-source framework for machine learning and deep learning.\n",
    "6. **Keras**: High-level API for building deep learning models.\n",
    "7. **PyTorch**: Another popular deep learning library.\n"
   ]
  },
  {
   "cell_type": "markdown",
   "id": "b716584f",
   "metadata": {},
   "source": [
    "\n",
    "### Data Science Tools\n",
    "\n",
    "| Data Science Tools      | \n",
    "|-------------------------|\n",
    "| Jupyter Notebook         |\n",
    "| RStudio                  |\n",
    "| Apache Zeppelin          |\n",
    "| Visual Studio Code       |\n",
    "| Spyder                   |\n"
   ]
  },
  {
   "cell_type": "markdown",
   "id": "f0ca77a9",
   "metadata": {},
   "source": [
    "### Below are a few examples of evaluating arithmetic expressions in python"
   ]
  },
  {
   "cell_type": "code",
   "execution_count": 3,
   "id": "6f5106c8",
   "metadata": {},
   "outputs": [
    {
     "name": "stdout",
     "output_type": "stream",
     "text": [
      "17\n"
     ]
    }
   ],
   "source": [
    "\n",
    "# This is a basic arithmetic expression: multiplying then adding\n",
    "result = (3 * 4) + 5\n",
    "print(result)\n"
   ]
  },
  {
   "cell_type": "code",
   "execution_count": 4,
   "id": "a97ccfc9",
   "metadata": {},
   "outputs": [
    {
     "name": "stdout",
     "output_type": "stream",
     "text": [
      "3.3333333333333335\n"
     ]
    }
   ],
   "source": [
    "\n",
    "# Converting 500 minutes into hours by dividing by 60\n",
    "hours = 200 / 60\n",
    "print(hours)\n"
   ]
  },
  {
   "cell_type": "markdown",
   "id": "978ef812",
   "metadata": {},
   "source": [
    "## Author\n",
    "\n",
    "Julio Cesar Sanchez Velasco "
   ]
  }
 ],
 "metadata": {
  "kernelspec": {
   "display_name": "Python 3",
   "language": "python",
   "name": "python3"
  },
  "language_info": {
   "codemirror_mode": {
    "name": "ipython",
    "version": 3
   },
   "file_extension": ".py",
   "mimetype": "text/x-python",
   "name": "python",
   "nbconvert_exporter": "python",
   "pygments_lexer": "ipython3",
   "version": "3.9.1"
  }
 },
 "nbformat": 4,
 "nbformat_minor": 4
}
