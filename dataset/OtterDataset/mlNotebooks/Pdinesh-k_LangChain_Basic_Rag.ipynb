{
 "cells": [
  {
   "cell_type": "code",
   "execution_count": 7,
   "metadata": {},
   "outputs": [
    {
     "data": {
      "text/plain": [
       "True"
      ]
     },
     "execution_count": 7,
     "metadata": {},
     "output_type": "execute_result"
    }
   ],
   "source": [
    "import os\n",
    "import streamlit as st\n",
    "from dotenv import load_dotenv\n",
    "load_dotenv()"
   ]
  },
  {
   "cell_type": "code",
   "execution_count": 8,
   "metadata": {},
   "outputs": [],
   "source": [
    "os.environ[\"GOOGLE_API_KEY\"] = os.getenv(\"GOOGLE_API_KEY\")\n"
   ]
  },
  {
   "cell_type": "code",
   "execution_count": 9,
   "metadata": {},
   "outputs": [
    {
     "data": {
      "text/plain": [
       "[Document(metadata={'source': 'Hello.txt'}, page_content='It is a social species, but a solitary hunter and a crepuscular predator. Cat communication includes vocalizations like meowing, purring, trilling, hissing, growling, and grunting as well as cat body language. It can hear sounds too faint or too high in frequency for human ears, such as those made by small mammals.')]"
      ]
     },
     "execution_count": 9,
     "metadata": {},
     "output_type": "execute_result"
    }
   ],
   "source": [
    "from langchain_community.document_loaders import TextLoader\n",
    "Loader = TextLoader(\"Hello.txt\")\n",
    "text_documents = Loader.load()\n",
    "text_documents"
   ]
  },
  {
   "cell_type": "code",
   "execution_count": 10,
   "metadata": {},
   "outputs": [],
   "source": [
    "from langchain_community.document_loaders import WebBaseLoader\n",
    "from bs4 import SoupStrainer,BeautifulSoup\n",
    "Loader = WebBaseLoader(web_paths = [\"https://www.britannica.com/animal/cat\"],\n",
    "bs_kwargs = dict(parse_only = SoupStrainer(\n",
    "                 class_ = (\"post-title\",\"post-content\")\n",
    ")))\n",
    "\n",
    "text_documents = Loader.load()"
   ]
  },
  {
   "cell_type": "code",
   "execution_count": 11,
   "metadata": {},
   "outputs": [
    {
     "data": {
      "text/plain": [
       "[Document(metadata={'source': 'https://www.britannica.com/animal/cat'}, page_content='')]"
      ]
     },
     "execution_count": 11,
     "metadata": {},
     "output_type": "execute_result"
    }
   ],
   "source": [
    "text_documents"
   ]
  },
  {
   "cell_type": "code",
   "execution_count": 15,
   "metadata": {},
   "outputs": [],
   "source": [
    "from langchain_community.document_loaders import PyPDFLoader\n",
    "Loader = PyPDFLoader(\"DINESHKUMAR P Internship.pdf\")\n",
    "doc_pdf = Loader.load()\n"
   ]
  },
  {
   "cell_type": "code",
   "execution_count": 16,
   "metadata": {},
   "outputs": [
    {
     "data": {
      "text/plain": [
       "[Document(metadata={'source': 'DINESHKUMAR P Internship.pdf', 'page': 0}, page_content='DINESHKUMAR P\\nlinkedin.com/in/pdinesh-k dineshkumar.techdev@gmail.com leetcode.com/u/Pdinesh_k/\\ngithub.com/Pdinesh-k\\nEDUCATION\\nBachelor of Technology CSE - AI and Data Engineering \\nLovely Professional University\\nRelevant Coursework : Object Oriented Prgramming , Data Structures and Algorithms , Operating System, \\nDBMSPunjab , India\\n2022 - 2026\\nWORK EXPERIENCE\\nFuturense, India |  Artificial Intelligence and Analyst Intern\\nLed a team of four engineers to develop a Hotel application , implementing Chatbot , REST APIs and creating  responsive website .\\nAnalyzed company datasets to drive insights and improvements\\nTech Stack - Generative AI , Python , Flask , SQL , Seaborn , Excel , Power BI , Machine Learning , Artificial IntelligenceJune - August (2024)\\nPROJECTS(CGPA - 8.16)\\nPersonalized Learning Assistant\\n The app offers personalized study plans, real-time academic Q&A, and tailored practice problems. Implemented user  progress\\ntracking to provide personalized learning recommendations.\\nTech Stack - Gemini API, StreamLit , MySQL , Flask , LangChain , Vector Database\\nHealthMate\\n The app provides personalized health advice, symptom checking, and dietary recommendations. Implemented health tracking  to\\noffer tailored advice adjustments.\\nTech Stack - Gemini API, StreamLit , MySQL , Flask , LangChain , Vector DatabaseEnvironmental Sound Classification for Bioacoustic Monitoring\\nDeveloped a deep learning model using Convolutional Recurrent Neural Networks (CRNNs) to classify environmental sounds from\\ndiverse bioacoustic recordings . Model for real-time biodiversity monitoring, aiding in ecological research and conservation efforts.\\nThis project demonstrates the application of AI in environmental science to support biodiversity and ecosystem health monitoring..\\nTech Stack -  DeepLearning , Convolution Neural Network , Recurrent Neural Networks , Data Augmentation , Scikit-Learn , Machine\\nLearning , Performace Test\\nSKILLS\\nLanguages : Python , Java , C , SQL ,JavaScript\\nTechnologies : Generative AI , DeepLearning , Scikit-Learn , MachineLearning , Neural Networks , Natural Language Processing , Git\\n, Github , Flask , Computer Vision , Vector Database , LangChain , PyTorch\\nNon-Technical skills : Problem Solving , MutiTasking , Critical Thinking\\nCERTIFICATIONS\\nThe Data Science Course : Complete Data Science BootCamp 2024\\nComplete Python Developer\\nInternation Humanity Olympiad by Government of India')]"
      ]
     },
     "execution_count": 16,
     "metadata": {},
     "output_type": "execute_result"
    }
   ],
   "source": [
    "doc_pdf"
   ]
  },
  {
   "cell_type": "code",
   "execution_count": 40,
   "metadata": {},
   "outputs": [
    {
     "data": {
      "text/plain": [
       "[Document(metadata={'source': 'DINESHKUMAR P Internship.pdf', 'page': 0}, page_content='DINESHKUMAR P\\nlinkedin.com/in/pdinesh-k dineshkumar.techdev@gmail.com leetcode.com/u/Pdinesh_k/\\ngithub.com/Pdinesh-k\\nEDUCATION\\nBachelor of Technology CSE - AI and Data Engineering \\nLovely Professional University\\nRelevant Coursework : Object Oriented Prgramming , Data Structures and Algorithms , Operating System, \\nDBMSPunjab , India\\n2022 - 2026\\nWORK EXPERIENCE\\nFuturense, India |  Artificial Intelligence and Analyst Intern\\nLed a team of four engineers to develop a Hotel application , implementing Chatbot , REST APIs and creating  responsive website .\\nAnalyzed company datasets to drive insights and improvements\\nTech Stack - Generative AI , Python , Flask , SQL , Seaborn , Excel , Power BI , Machine Learning , Artificial IntelligenceJune - August (2024)\\nPROJECTS(CGPA - 8.16)\\nPersonalized Learning Assistant\\n The app offers personalized study plans, real-time academic Q&A, and tailored practice problems. Implemented user  progress\\ntracking to provide personalized learning recommendations.'),\n",
       " Document(metadata={'source': 'DINESHKUMAR P Internship.pdf', 'page': 0}, page_content='tracking to provide personalized learning recommendations.\\nTech Stack - Gemini API, StreamLit , MySQL , Flask , LangChain , Vector Database\\nHealthMate\\n The app provides personalized health advice, symptom checking, and dietary recommendations. Implemented health tracking  to\\noffer tailored advice adjustments.\\nTech Stack - Gemini API, StreamLit , MySQL , Flask , LangChain , Vector DatabaseEnvironmental Sound Classification for Bioacoustic Monitoring\\nDeveloped a deep learning model using Convolutional Recurrent Neural Networks (CRNNs) to classify environmental sounds from\\ndiverse bioacoustic recordings . Model for real-time biodiversity monitoring, aiding in ecological research and conservation efforts.\\nThis project demonstrates the application of AI in environmental science to support biodiversity and ecosystem health monitoring..\\nTech Stack -  DeepLearning , Convolution Neural Network , Recurrent Neural Networks , Data Augmentation , Scikit-Learn , Machine\\nLearning , Performace Test'),\n",
       " Document(metadata={'source': 'DINESHKUMAR P Internship.pdf', 'page': 0}, page_content='Learning , Performace Test\\nSKILLS\\nLanguages : Python , Java , C , SQL ,JavaScript\\nTechnologies : Generative AI , DeepLearning , Scikit-Learn , MachineLearning , Neural Networks , Natural Language Processing , Git\\n, Github , Flask , Computer Vision , Vector Database , LangChain , PyTorch\\nNon-Technical skills : Problem Solving , MutiTasking , Critical Thinking\\nCERTIFICATIONS\\nThe Data Science Course : Complete Data Science BootCamp 2024\\nComplete Python Developer\\nInternation Humanity Olympiad by Government of India')]"
      ]
     },
     "execution_count": 40,
     "metadata": {},
     "output_type": "execute_result"
    }
   ],
   "source": [
    "from langchain_text_splitters import RecursiveCharacterTextSplitter\n",
    "\n",
    "text_splitter = RecursiveCharacterTextSplitter(chunk_size = 1000 , chunk_overlap = 100)\n",
    "documents = text_splitter.split_documents(doc_pdf)\n",
    "documents"
   ]
  },
  {
   "cell_type": "code",
   "execution_count": 41,
   "metadata": {},
   "outputs": [],
   "source": [
    "from langchain_community.vectorstores import Chroma\n",
    "from langchain_google_genai import GoogleGenerativeAIEmbeddings\n",
    "embeddings = GoogleGenerativeAIEmbeddings(model = \"models/embedding-001\")\n",
    "db = Chroma.from_documents(documents,embeddings)"
   ]
  },
  {
   "cell_type": "code",
   "execution_count": 67,
   "metadata": {},
   "outputs": [
    {
     "data": {
      "text/plain": [
       "'DINESHKUMAR P\\nlinkedin.com/in/pdinesh-k dineshkumar.techdev@gmail.com leetcode.com/u/Pdinesh_k/\\ngithub.com/Pdinesh-k\\nEDUCATION\\nBachelor of Technology CSE - AI and Data Engineering \\nLovely Professional University\\nRelevant Coursework : Object Oriented Prgramming , Data Structures and Algorithms , Operating System, \\nDBMSPunjab , India\\n2022 - 2026\\nWORK EXPERIENCE\\nFuturense, India |  Artificial Intelligence and Analyst Intern\\nLed a team of four engineers to develop a Hotel application , implementing Chatbot , REST APIs and creating  responsive website .\\nAnalyzed company datasets to drive insights and improvements\\nTech Stack - Generative AI , Python , Flask , SQL , Seaborn , Excel , Power BI , Machine Learning , Artificial IntelligenceJune - August (2024)\\nPROJECTS(CGPA - 8.16)\\nPersonalized Learning Assistant\\n The app offers personalized study plans, real-time academic Q&A, and tailored practice problems. Implemented user  progress\\ntracking to provide personalized learning recommendations.\\nTech Stack - Gemini API, StreamLit , MySQL , Flask , LangChain , Vector Database\\nHealthMate\\n The app provides personalized health advice, symptom checking, and dietary recommendations. Implemented health tracking  to\\noffer tailored advice adjustments.\\nTech Stack - Gemini API, StreamLit , MySQL , Flask , LangChain , Vector DatabaseEnvironmental Sound Classification for Bioacoustic Monitoring\\nDeveloped a deep learning model using Convolutional Recurrent Neural Networks (CRNNs) to classify environmental sounds from\\ndiverse bioacoustic recordings . Model for real-time biodiversity monitoring, aiding in ecological research and conservation efforts.\\nThis project demonstrates the application of AI in environmental science to support biodiversity and ecosystem health monitoring..\\nTech Stack -  DeepLearning , Convolution Neural Network , Recurrent Neural Networks , Data Augmentation , Scikit-Learn , Machine\\nLearning , Performace Test\\nSKILLS\\nLanguages : Python , Java , C , SQL ,JavaScript\\nTechnologies : Generative AI , DeepLearning , Scikit-Learn , MachineLearning , Neural Networks , Natural Language Processing , Git\\n, Github , Flask , Computer Vision , Vector Database , LangChain , PyTorch\\nNon-Technical skills : Problem Solving , MutiTasking , Critical Thinking\\nCERTIFICATIONS\\nThe Data Science Course : Complete Data Science BootCamp 2024\\nComplete Python Developer\\nInternation Humanity Olympiad by Government of India'"
      ]
     },
     "execution_count": 67,
     "metadata": {},
     "output_type": "execute_result"
    }
   ],
   "source": [
    "#Chroma Vector Database\n",
    "\n",
    "query = \"what is the name of applicant\"\n",
    "result = db.similarity_search(query)\n",
    "result[0].page_content"
   ]
  },
  {
   "cell_type": "code",
   "execution_count": 72,
   "metadata": {},
   "outputs": [
    {
     "data": {
      "text/plain": [
       "'tracking to provide personalized learning recommendations.\\nTech Stack - Gemini API, StreamLit , MySQL , Flask , LangChain , Vector Database\\nHealthMate\\n The app provides personalized health advice, symptom checking, and dietary recommendations. Implemented health tracking  to\\noffer tailored advice adjustments.\\nTech Stack - Gemini API, StreamLit , MySQL , Flask , LangChain , Vector DatabaseEnvironmental Sound Classification for Bioacoustic Monitoring\\nDeveloped a deep learning model using Convolutional Recurrent Neural Networks (CRNNs) to classify environmental sounds from\\ndiverse bioacoustic recordings . Model for real-time biodiversity monitoring, aiding in ecological research and conservation efforts.\\nThis project demonstrates the application of AI in environmental science to support biodiversity and ecosystem health monitoring..\\nTech Stack -  DeepLearning , Convolution Neural Network , Recurrent Neural Networks , Data Augmentation , Scikit-Learn , Machine\\nLearning , Performace Test'"
      ]
     },
     "execution_count": 72,
     "metadata": {},
     "output_type": "execute_result"
    }
   ],
   "source": [
    "#Faiss Database\n",
    "from langchain_community.vectorstores import FAISS\n",
    "db1 = FAISS.from_documents(documents,embeddings)\n",
    "query = \"what is the project of applicant\"\n",
    "result = db1.similarity_search(query)\n",
    "result[0].page_content"
   ]
  },
  {
   "cell_type": "code",
   "execution_count": null,
   "metadata": {},
   "outputs": [],
   "source": []
  },
  {
   "cell_type": "code",
   "execution_count": null,
   "metadata": {},
   "outputs": [],
   "source": []
  }
 ],
 "metadata": {
  "kernelspec": {
   "display_name": "Python 3",
   "language": "python",
   "name": "python3"
  },
  "language_info": {
   "codemirror_mode": {
    "name": "ipython",
    "version": 3
   },
   "file_extension": ".py",
   "mimetype": "text/x-python",
   "name": "python",
   "nbconvert_exporter": "python",
   "pygments_lexer": "ipython3",
   "version": "3.10.0"
  }
 },
 "nbformat": 4,
 "nbformat_minor": 2
}
