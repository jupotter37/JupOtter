{
 "cells": [
  {
   "cell_type": "code",
   "execution_count": 11,
   "metadata": {},
   "outputs": [],
   "source": [
    "\n",
    "# !pip install openai\n",
    "# !pip install python-dotenv"
   ]
  },
  {
   "cell_type": "code",
   "execution_count": 29,
   "metadata": {},
   "outputs": [],
   "source": [
    "import pandas as pd\n",
    "import openai\n",
    "import os "
   ]
  },
  {
   "cell_type": "code",
   "execution_count": 49,
   "metadata": {},
   "outputs": [],
   "source": [
    "openai.api_key = os.getenv(\"OPENAI_API_KEY\")"
   ]
  },
  {
   "cell_type": "code",
   "execution_count": 50,
   "metadata": {},
   "outputs": [],
   "source": [
    "response = openai.Completion.create(\n",
    "    model = \"text-davinci-003\",\n",
    "    prompt = \"Give me two reasons to learn OPENAI API with Python\",\n",
    "    max_tokens = 300,\n",
    ")"
   ]
  },
  {
   "cell_type": "code",
   "execution_count": 51,
   "metadata": {},
   "outputs": [
    {
     "name": "stdout",
     "output_type": "stream",
     "text": [
      "\n",
      "\n",
      "1. OpenAI’s Python API offers a unique platform to explore the power of artificial intelligence and machine learning. Starting with general purpose programming libraries such as NumPy, SciPy, and matplotlib, you can quickly develop powerful algorithms that can traverse, learn, and process vast quantities of data.\n",
      "\n",
      "2. With OpenAI's Python API, developers are able to quickly prototype complex machine learning applications, drastically reducing the development time for new AI solutions. This allows teams to rapidly develop powerful deep learning models that can learn from custom or complex datasets, unlocking new solutions that were previously hard or impossible to solve using traditional AI methods.\n"
     ]
    }
   ],
   "source": [
    "print(response['choices'][0]['text'])"
   ]
  },
  {
   "cell_type": "code",
   "execution_count": 45,
   "metadata": {},
   "outputs": [],
   "source": [
    "# This checks a prompt for violations of the OpenAI Content Policy.\n",
    "moderation_response = openai.Moderation.create(\n",
    "    input = \"This is a test to see if the moderation works\"\n",
    ")\n",
    "\n"
   ]
  },
  {
   "cell_type": "code",
   "execution_count": 48,
   "metadata": {},
   "outputs": [
    {
     "name": "stdout",
     "output_type": "stream",
     "text": [
      "{\n",
      "  \"flagged\": false,\n",
      "  \"categories\": {\n",
      "    \"sexual\": false,\n",
      "    \"hate\": false,\n",
      "    \"harassment\": false,\n",
      "    \"self-harm\": false,\n",
      "    \"sexual/minors\": false,\n",
      "    \"hate/threatening\": false,\n",
      "    \"violence/graphic\": false,\n",
      "    \"self-harm/intent\": false,\n",
      "    \"self-harm/instructions\": false,\n",
      "    \"harassment/threatening\": false,\n",
      "    \"violence\": false\n",
      "  },\n",
      "  \"category_scores\": {\n",
      "    \"sexual\": 3.688424e-05,\n",
      "    \"hate\": 0.00329024,\n",
      "    \"harassment\": 0.0015503945,\n",
      "    \"self-harm\": 0.00018235913,\n",
      "    \"sexual/minors\": 6.130666e-06,\n",
      "    \"hate/threatening\": 2.3158138e-06,\n",
      "    \"violence/graphic\": 0.00011008023,\n",
      "    \"self-harm/intent\": 1.8766523e-05,\n",
      "    \"self-harm/instructions\": 8.190798e-06,\n",
      "    \"harassment/threatening\": 0.00011261091,\n",
      "    \"violence\": 0.0012251071\n",
      "  }\n",
      "}\n"
     ]
    }
   ],
   "source": [
    "print(moderation_response['results'][0])"
   ]
  }
 ],
 "metadata": {
  "kernelspec": {
   "display_name": "Python 3 (ipykernel)",
   "language": "python",
   "name": "python3"
  },
  "orig_nbformat": 4
 },
 "nbformat": 4,
 "nbformat_minor": 2
}
