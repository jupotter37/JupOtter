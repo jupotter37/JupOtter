{
 "cells": [
  {
   "cell_type": "markdown",
   "metadata": {},
   "source": [
    "# 准备工作"
   ]
  },
  {
   "cell_type": "code",
   "execution_count": 1,
   "metadata": {},
   "outputs": [],
   "source": [
    "import requests\n",
    "from lxml import etree\n",
    "import pandas as pd\n",
    "import time"
   ]
  },
  {
   "cell_type": "code",
   "execution_count": 2,
   "metadata": {},
   "outputs": [],
   "source": [
    "headers={\n",
    "    \"User-Agent\":\"Mozilla/5.0 (Windows NT 10.0; Win64; x64) AppleWebKit/537.36 (KHTML, like Gecko) Chrome/80.0.3987.132 Safari/537.36\",\n",
    "    \"Cookie\":\"guid=0fb8e6c88d8b28d94d7e83f5e5af572b; ps=needv%3D0; nsearch=jobarea%3D%26%7C%26ord_field%3D%26%7C%26recentSearch0%3D%26%7C%26recentSearch1%3D%26%7C%26recentSearch2%3D%26%7C%26recentSearch3%3D%26%7C%26recentSearch4%3D%26%7C%26collapse_expansion%3D; 51job=cuid%3D165204976%26%7C%26cusername%3Dphone_18727549502_201910282072%26%7C%26cpassword%3D%26%7C%26cname%3D%25C2%25AC%25C7%25BF%26%7C%26cemail%3D1968574010%2540qq.com%26%7C%26cemailstatus%3D0%26%7C%26cnickname%3D%26%7C%26ccry%3D.01MM0rnECQJo%26%7C%26cconfirmkey%3D19%252Fr9PDX94clk%26%7C%26cautologin%3D1%26%7C%26cenglish%3D0%26%7C%26sex%3D0%26%7C%26cnamekey%3D19S1sEZyPcSP2%26%7C%26to%3De557fff6c0c049f35a80fd5b9d5944135e1489a2%26%7C%26; slife=lastlogindate%3D20200403%26%7C%26; search=jobarea%7E%60000000%7C%21ord_field%7E%600%7C%21recentSearch0%7E%60000000%A1%FB%A1%FA000000%A1%FB%A1%FA0000%A1%FB%A1%FA00%A1%FB%A1%FA99%A1%FB%A1%FA%A1%FB%A1%FA99%A1%FB%A1%FA99%A1%FB%A1%FA99%A1%FB%A1%FA99%A1%FB%A1%FA9%A1%FB%A1%FA99%A1%FB%A1%FA%A1%FB%A1%FA0%A1%FB%A1%FApython%A1%FB%A1%FA2%A1%FB%A1%FA1%7C%21recentSearch1%7E%60000000%A1%FB%A1%FA000000%A1%FB%A1%FA0000%A1%FB%A1%FA00%A1%FB%A1%FA99%A1%FB%A1%FA%A1%FB%A1%FA99%A1%FB%A1%FA99%A1%FB%A1%FA99%A1%FB%A1%FA99%A1%FB%A1%FA9%A1%FB%A1%FA99%A1%FB%A1%FA%A1%FB%A1%FA0%A1%FB%A1%FApython%C5%C0%B3%E6%A1%FB%A1%FA2%A1%FB%A1%FA1%7C%21recentSearch2%7E%60000000%A1%FB%A1%FA000000%A1%FB%A1%FA0000%A1%FB%A1%FA00%A1%FB%A1%FA99%A1%FB%A1%FA%A1%FB%A1%FA99%A1%FB%A1%FA99%A1%FB%A1%FA99%A1%FB%A1%FA99%A1%FB%A1%FA9%A1%FB%A1%FA99%A1%FB%A1%FA%A1%FB%A1%FA0%A1%FB%A1%FA%CA%FD%BE%DD%A1%FB%A1%FA2%A1%FB%A1%FA1%7C%21recentSearch3%7E%60000000%A1%FB%A1%FA000000%A1%FB%A1%FA0000%A1%FB%A1%FA00%A1%FB%A1%FA99%A1%FB%A1%FA%A1%FB%A1%FA99%A1%FB%A1%FA99%A1%FB%A1%FA99%A1%FB%A1%FA99%A1%FB%A1%FA9%A1%FB%A1%FA99%A1%FB%A1%FA%A1%FB%A1%FA0%A1%FB%A1%FA%CA%FD%BE%DD%B7%D6%CE%F6%A1%FB%A1%FA2%A1%FB%A1%FA1%7C%21recentSearch4%7E%60000000%A1%FB%A1%FA000000%A1%FB%A1%FA0000%A1%FB%A1%FA00%A1%FB%A1%FA01%A1%FB%A1%FA%A1%FB%A1%FA99%A1%FB%A1%FA99%A1%FB%A1%FA99%A1%FB%A1%FA99%A1%FB%A1%FA9%A1%FB%A1%FA99%A1%FB%A1%FA%A1%FB%A1%FA0%A1%FB%A1%FApython%BF%AA%B7%A2%A1%FB%A1%FA2%A1%FB%A1%FA1%7C%21collapse_expansion%7E%601%7C%21\"\n",
    "}\n",
    "\n",
    "base_url=\"https://search.51job.com/list/000000,000000,0000,00,9,99,python,2,{}.html?lang=c&stype=&postchannel=0000&workyear=99&cotype=99&degreefrom=99&jobterm=99&companysize=99&providesalary=99&lonlat=0%2C0&radius=-1&ord_field=0&confirmdate=9&fromType=&dibiaoid=0&address=&line=&specialarea=00&from=&welfare=\""
   ]
  },
  {
   "cell_type": "code",
   "execution_count": 3,
   "metadata": {},
   "outputs": [],
   "source": [
    "url=base_url.format(1)\n",
    "\n",
    "response=requests.get(url,headers=headers)"
   ]
  },
  {
   "cell_type": "code",
   "execution_count": 9,
   "metadata": {},
   "outputs": [],
   "source": [
    "response.encoding=\"gbk\"\n",
    "html=response.text\n",
    "root=etree.HTML(html)"
   ]
  },
  {
   "cell_type": "code",
   "execution_count": null,
   "metadata": {},
   "outputs": [],
   "source": []
  },
  {
   "cell_type": "code",
   "execution_count": 15,
   "metadata": {},
   "outputs": [],
   "source": [
    "job_name=root.xpath('//div[@class=\"el\"]//p/span/a[@target=\"_blank\"]/@title')"
   ]
  },
  {
   "cell_type": "code",
   "execution_count": null,
   "metadata": {},
   "outputs": [],
   "source": []
  },
  {
   "cell_type": "code",
   "execution_count": 16,
   "metadata": {},
   "outputs": [
    {
     "data": {
      "text/plain": [
       "50"
      ]
     },
     "execution_count": 16,
     "metadata": {},
     "output_type": "execute_result"
    }
   ],
   "source": [
    "company_name=root.xpath('//div[@class=\"el\"]/span[@class=\"t2\"]/a[@target=\"_blank\"]/@title')\n",
    "len(company_name)"
   ]
  },
  {
   "cell_type": "code",
   "execution_count": null,
   "metadata": {},
   "outputs": [],
   "source": []
  },
  {
   "cell_type": "code",
   "execution_count": 17,
   "metadata": {},
   "outputs": [
    {
     "data": {
      "text/plain": [
       "50"
      ]
     },
     "execution_count": 17,
     "metadata": {},
     "output_type": "execute_result"
    }
   ],
   "source": [
    "address=root.xpath('//div[@class=\"el\"]/span[@class=\"t3\"]/text()')\n",
    "len(address)"
   ]
  },
  {
   "cell_type": "code",
   "execution_count": null,
   "metadata": {},
   "outputs": [],
   "source": []
  },
  {
   "cell_type": "code",
   "execution_count": 19,
   "metadata": {},
   "outputs": [],
   "source": [
    "salary_mid=root.xpath('//div[@class=\"el\"]/span[@class=\"t4\"]')"
   ]
  },
  {
   "cell_type": "code",
   "execution_count": 44,
   "metadata": {},
   "outputs": [],
   "source": [
    "salary=[i.text for i in salary_mid]"
   ]
  },
  {
   "cell_type": "code",
   "execution_count": 45,
   "metadata": {},
   "outputs": [],
   "source": [
    "s=[i if i else '-' for i in salary]"
   ]
  },
  {
   "cell_type": "code",
   "execution_count": 46,
   "metadata": {},
   "outputs": [
    {
     "data": {
      "text/plain": [
       "['-',\n",
       " '1-1.5万/月',\n",
       " '0.6-1万/月',\n",
       " '6-8千/月',\n",
       " '1-1.5万/月',\n",
       " '0.8-1万/月',\n",
       " '1-1.5万/月',\n",
       " '0.6-1万/月',\n",
       " '3-5千/月',\n",
       " '0.8-1万/月',\n",
       " '6-8千/月',\n",
       " '6-8千/月',\n",
       " '4.5-6千/月',\n",
       " '6.5-8千/月',\n",
       " '1-1.5万/月',\n",
       " '1.2-1.5万/月',\n",
       " '0.8-1.2万/月',\n",
       " '1.4-1.8万/月',\n",
       " '1-2万/月',\n",
       " '1-1.5万/月',\n",
       " '0.8-1.5万/月',\n",
       " '0.8-1.3万/月',\n",
       " '1-1.5万/月',\n",
       " '13-18万/年',\n",
       " '1.2-2万/月',\n",
       " '0.8-1万/月',\n",
       " '1.3-2.5万/月',\n",
       " '0.8-1万/月',\n",
       " '3-4.5千/月',\n",
       " '6-8千/月',\n",
       " '0.8-1.1万/月',\n",
       " '1-1.5万/月',\n",
       " '1.2-2.4万/月',\n",
       " '6-8千/月',\n",
       " '1-1.5万/月',\n",
       " '1.5-2万/月',\n",
       " '0.6-1.4万/月',\n",
       " '6-8千/月',\n",
       " '21-35万/年',\n",
       " '4.5-6千/月',\n",
       " '0.8-1万/月',\n",
       " '6-8千/月',\n",
       " '4.5-6千/月',\n",
       " '2.5-3万/月',\n",
       " '1-1.5万/月',\n",
       " '1.5-2万/月',\n",
       " '-',\n",
       " '1.5-3万/月',\n",
       " '0.8-1.2万/月',\n",
       " '4.5-6千/月']"
      ]
     },
     "execution_count": 46,
     "metadata": {},
     "output_type": "execute_result"
    }
   ],
   "source": [
    "s"
   ]
  },
  {
   "cell_type": "code",
   "execution_count": 22,
   "metadata": {},
   "outputs": [],
   "source": [
    "release_time=root.xpath('//div[@class=\"el\"]/span[@class=\"t5\"]/text()')"
   ]
  },
  {
   "cell_type": "code",
   "execution_count": null,
   "metadata": {},
   "outputs": [],
   "source": []
  },
  {
   "cell_type": "code",
   "execution_count": 23,
   "metadata": {},
   "outputs": [
    {
     "data": {
      "text/plain": [
       "50"
      ]
     },
     "execution_count": 23,
     "metadata": {},
     "output_type": "execute_result"
    }
   ],
   "source": [
    "len(release_time)"
   ]
  },
  {
   "cell_type": "code",
   "execution_count": null,
   "metadata": {},
   "outputs": [],
   "source": []
  },
  {
   "cell_type": "code",
   "execution_count": 25,
   "metadata": {},
   "outputs": [],
   "source": [
    "deep_url=root.xpath('//div[@class=\"el\"]//p/span/a[@target=\"_blank\"]/@href')"
   ]
  },
  {
   "cell_type": "code",
   "execution_count": 48,
   "metadata": {},
   "outputs": [],
   "source": [
    "RandomAll=[]\n",
    "JobDescribe=[]\n",
    "CompanyType=[]\n",
    "CompanySize=[]\n",
    "Industry=[]\n",
    "\n",
    "for i in deep_url:\n",
    "    response2=requests.get(deep_url[0],headers=headers)\n",
    "    response2.encoding=\"gbk\"\n",
    "    html2=response2.text\n",
    "    root2=etree.HTML(html2)\n",
    "    random_all=root2.xpath('//div[@class=\"cn\"]/p[@class=\"msg ltype\"]/text()')\n",
    "    job_drscribe=root2.xpath('string(//div[@class=\"bmsg job_msg inbox\"])').replace(\"\\r\\n\",\"\").strip()\n",
    "    company_type=root2.xpath('string(//div[@class=\"com_tag\"]/p[1]/@title)')\n",
    "    company_size=root2.xpath('string(//div[@class=\"com_tag\"]/p[2]/@title)')\n",
    "    industry=root2.xpath('string(//div[@class=\"com_tag\"]/p[3]/@title)')\n",
    "    \n",
    "    RandomAll.append(random_all)\n",
    "    JobDescribe.append(job_drscribe)\n",
    "    CompanyType.append(company_type)\n",
    "    CompanySize.append(company_size)\n",
    "    Industry.append(industry)"
   ]
  },
  {
   "cell_type": "code",
   "execution_count": 49,
   "metadata": {},
   "outputs": [
    {
     "name": "stdout",
     "output_type": "stream",
     "text": [
      "50\n",
      "50\n",
      "50\n",
      "50\n",
      "50\n"
     ]
    }
   ],
   "source": [
    "print(len(RandomAll))\n",
    "print(len(JobDescribe))\n",
    "print(len(CompanyType))\n",
    "print(len(CompanySize))\n",
    "print(len(Industry))"
   ]
  },
  {
   "cell_type": "code",
   "execution_count": 26,
   "metadata": {},
   "outputs": [],
   "source": [
    "response2=requests.get(deep_url[0],headers=headers)\n",
    "response2.encoding=\"gbk\"\n",
    "html2=response2.text\n",
    "root2=etree.HTML(html2)"
   ]
  },
  {
   "cell_type": "code",
   "execution_count": 42,
   "metadata": {},
   "outputs": [
    {
     "data": {
      "text/plain": [
       "['深圳\\xa0\\xa0',\n",
       " '\\xa0\\xa03-4年经验\\xa0\\xa0',\n",
       " '\\xa0\\xa0本科\\xa0\\xa0',\n",
       " '\\xa0\\xa0招若干人\\xa0\\xa0',\n",
       " '\\xa0\\xa004-03发布\\xa0\\xa0',\n",
       " '\\xa0\\xa0英语良好']"
      ]
     },
     "execution_count": 42,
     "metadata": {},
     "output_type": "execute_result"
    }
   ],
   "source": [
    "random_all=root2.xpath('//div[@class=\"cn\"]/p[@class=\"msg ltype\"]/text()')\n",
    "random_all"
   ]
  },
  {
   "cell_type": "code",
   "execution_count": 47,
   "metadata": {},
   "outputs": [
    {
     "data": {
      "text/plain": [
       "['深圳', '3-4年经验', '本科', '招若干人', '04-03发布', '英语良好']"
      ]
     },
     "execution_count": 47,
     "metadata": {},
     "output_type": "execute_result"
    }
   ],
   "source": [
    "s=[i.replace('\\xa0','').strip() for i in random_all]"
   ]
  },
  {
   "cell_type": "code",
   "execution_count": null,
   "metadata": {},
   "outputs": [],
   "source": []
  },
  {
   "cell_type": "code",
   "execution_count": 32,
   "metadata": {},
   "outputs": [
    {
     "data": {
      "text/plain": [
       "'Responsibilities:Building and applying data analysis algorithms (data mining, machine learning, natural language processing, sentiment analysis, text mining, etc.) to analyze large amounts of data;Designing, developing solutions leveraging big data analysis technology (Python,R,SAS, etc.);Leveraging analysis data platforms as needed and recommending and building new data solutions as required to exceed business requirements;Emonstrating deep understanding of and ability to tech data science, concepts, tools, features, functions and benefits of different approaches to apply them.Requirements:Bachelor in Computer Science/ Engineering/ Statistics/ Actuarial/ Applied Mathematics/ Business Analysis/ Data Science or other relevant discipline;Has deep understanding and some practices of the System Implementation, Big Data, Machine Learning, Deep Learning, NLP, and other technical related concepts;Coding experience in software like Python is a MUST. SAS, R,  etc. would be ideal but not a must;Have the python develop experience more than 1 years;Experience in using packages such as pandas, numpy, sklearn and familiar with ML models like GBDT and xgboost would be a plus;Familiar with industry dynamics of data big data analysis, equipped with various technical knowledge of data processing and relevant skills;Excellent communication and presentation skills;Fluent English and Chinese.                                                         职能类别：软件工程师                                        微信分享'"
      ]
     },
     "execution_count": 32,
     "metadata": {},
     "output_type": "execute_result"
    }
   ],
   "source": [
    "job_drscribe=root2.xpath('string(//div[@class=\"bmsg job_msg inbox\"])').replace(\"\\r\\n\",\"\").strip()\n",
    "job_drscribe"
   ]
  },
  {
   "cell_type": "code",
   "execution_count": null,
   "metadata": {},
   "outputs": [],
   "source": []
  },
  {
   "cell_type": "code",
   "execution_count": 35,
   "metadata": {},
   "outputs": [
    {
     "data": {
      "text/plain": [
       "'外资（欧美）'"
      ]
     },
     "execution_count": 35,
     "metadata": {},
     "output_type": "execute_result"
    }
   ],
   "source": [
    "company_type=root2.xpath('string(//div[@class=\"com_tag\"]/p[1]/@title)')\n",
    "company_type"
   ]
  },
  {
   "cell_type": "code",
   "execution_count": null,
   "metadata": {},
   "outputs": [],
   "source": []
  },
  {
   "cell_type": "code",
   "execution_count": 37,
   "metadata": {},
   "outputs": [
    {
     "data": {
      "text/plain": [
       "'1000-5000人'"
      ]
     },
     "execution_count": 37,
     "metadata": {},
     "output_type": "execute_result"
    }
   ],
   "source": [
    "company_size=root2.xpath('string(//div[@class=\"com_tag\"]/p[2]/@title)')\n",
    "company_size"
   ]
  },
  {
   "cell_type": "code",
   "execution_count": null,
   "metadata": {},
   "outputs": [],
   "source": []
  },
  {
   "cell_type": "code",
   "execution_count": 39,
   "metadata": {},
   "outputs": [
    {
     "data": {
      "text/plain": [
       "'专业服务(咨询、人力资源、财会),会计/审计'"
      ]
     },
     "execution_count": 39,
     "metadata": {},
     "output_type": "execute_result"
    }
   ],
   "source": [
    "industry=root2.xpath('string(//div[@class=\"com_tag\"]/p[3]/@title)')\n",
    "industry"
   ]
  },
  {
   "cell_type": "code",
   "execution_count": null,
   "metadata": {},
   "outputs": [],
   "source": []
  },
  {
   "cell_type": "code",
   "execution_count": 54,
   "metadata": {},
   "outputs": [],
   "source": [
    "import pandas\n",
    "\n",
    "data=pd.read_csv(\"job_info.csv\")"
   ]
  },
  {
   "cell_type": "code",
   "execution_count": 55,
   "metadata": {},
   "outputs": [],
   "source": [
    "data.columns=['岗位名称','公司名称','工作地点','工资','发布时间','要求','公司类型','公司规模','所属行业',\"岗位描述\"]"
   ]
  },
  {
   "cell_type": "code",
   "execution_count": 56,
   "metadata": {},
   "outputs": [
    {
     "data": {
      "text/html": [
       "<div>\n",
       "<style scoped>\n",
       "    .dataframe tbody tr th:only-of-type {\n",
       "        vertical-align: middle;\n",
       "    }\n",
       "\n",
       "    .dataframe tbody tr th {\n",
       "        vertical-align: top;\n",
       "    }\n",
       "\n",
       "    .dataframe thead th {\n",
       "        text-align: right;\n",
       "    }\n",
       "</style>\n",
       "<table border=\"1\" class=\"dataframe\">\n",
       "  <thead>\n",
       "    <tr style=\"text-align: right;\">\n",
       "      <th></th>\n",
       "      <th>岗位名称</th>\n",
       "      <th>公司名称</th>\n",
       "      <th>工作地点</th>\n",
       "      <th>工资</th>\n",
       "      <th>发布时间</th>\n",
       "      <th>要求</th>\n",
       "      <th>公司类型</th>\n",
       "      <th>公司规模</th>\n",
       "      <th>所属行业</th>\n",
       "      <th>岗位描述</th>\n",
       "    </tr>\n",
       "  </thead>\n",
       "  <tbody>\n",
       "    <tr>\n",
       "      <th>0</th>\n",
       "      <td>Python开发工程师 五险一金</td>\n",
       "      <td>杭州爱掌科技有限公司</td>\n",
       "      <td>杭州</td>\n",
       "      <td>1-1.5万/月</td>\n",
       "      <td>04-03</td>\n",
       "      <td>['杭州\\xa0\\xa0', '\\xa0\\xa03-4年经验\\xa0\\xa0', '\\xa0...</td>\n",
       "      <td>民营公司</td>\n",
       "      <td>50-150人</td>\n",
       "      <td>互联网/电子商务</td>\n",
       "      <td>岗位职责：1.负责python，培养python团队2.写爬虫、数据分析、统计等，完成公司的...</td>\n",
       "    </tr>\n",
       "    <tr>\n",
       "      <th>1</th>\n",
       "      <td>Python开发工程师</td>\n",
       "      <td>上海犇众信息技术有限公司</td>\n",
       "      <td>上海-闵行区</td>\n",
       "      <td>1.2-2万/月</td>\n",
       "      <td>04-03</td>\n",
       "      <td>['上海-闵行区\\xa0\\xa0', '\\xa0\\xa02年经验\\xa0\\xa0', '\\x...</td>\n",
       "      <td>民营公司</td>\n",
       "      <td>50-150人</td>\n",
       "      <td>互联网/电子商务,计算机软件</td>\n",
       "      <td>工作内容：参与公司产品及项目研发，分析业务需求，设计并实现后端功能模块职位要求：1、两年以上...</td>\n",
       "    </tr>\n",
       "    <tr>\n",
       "      <th>2</th>\n",
       "      <td>Data Analyst (Python) - Digital Solutions - SZ/HK</td>\n",
       "      <td>PwC 普华永道</td>\n",
       "      <td>深圳</td>\n",
       "      <td>-</td>\n",
       "      <td>04-03</td>\n",
       "      <td>['深圳\\xa0\\xa0', '\\xa0\\xa03-4年经验\\xa0\\xa0', '\\xa0...</td>\n",
       "      <td>外资（欧美）</td>\n",
       "      <td>1000-5000人</td>\n",
       "      <td>专业服务(咨询、人力资源、财会),会计/审计</td>\n",
       "      <td>Responsibilities:Building and applying data an...</td>\n",
       "    </tr>\n",
       "    <tr>\n",
       "      <th>3</th>\n",
       "      <td>Python开发工程师 五险一金</td>\n",
       "      <td>杭州爱掌科技有限公司</td>\n",
       "      <td>杭州</td>\n",
       "      <td>1-1.5万/月</td>\n",
       "      <td>04-03</td>\n",
       "      <td>['杭州\\xa0\\xa0', '\\xa0\\xa03-4年经验\\xa0\\xa0', '\\xa0...</td>\n",
       "      <td>民营公司</td>\n",
       "      <td>50-150人</td>\n",
       "      <td>互联网/电子商务</td>\n",
       "      <td>岗位职责：1.负责python，培养python团队2.写爬虫、数据分析、统计等，完成公司的...</td>\n",
       "    </tr>\n",
       "    <tr>\n",
       "      <th>4</th>\n",
       "      <td>Data Analyst (Python) - Digital Solutions - SZ/HK</td>\n",
       "      <td>PwC 普华永道</td>\n",
       "      <td>深圳</td>\n",
       "      <td>-</td>\n",
       "      <td>04-03</td>\n",
       "      <td>['深圳\\xa0\\xa0', '\\xa0\\xa03-4年经验\\xa0\\xa0', '\\xa0...</td>\n",
       "      <td>外资（欧美）</td>\n",
       "      <td>1000-5000人</td>\n",
       "      <td>专业服务(咨询、人力资源、财会),会计/审计</td>\n",
       "      <td>Responsibilities:Building and applying data an...</td>\n",
       "    </tr>\n",
       "  </tbody>\n",
       "</table>\n",
       "</div>"
      ],
      "text/plain": [
       "                                                岗位名称          公司名称    工作地点  \\\n",
       "0                                   Python开发工程师 五险一金    杭州爱掌科技有限公司      杭州   \n",
       "1                                        Python开发工程师  上海犇众信息技术有限公司  上海-闵行区   \n",
       "2  Data Analyst (Python) - Digital Solutions - SZ/HK      PwC 普华永道      深圳   \n",
       "3                                   Python开发工程师 五险一金    杭州爱掌科技有限公司      杭州   \n",
       "4  Data Analyst (Python) - Digital Solutions - SZ/HK      PwC 普华永道      深圳   \n",
       "\n",
       "         工资   发布时间                                                 要求    公司类型  \\\n",
       "0  1-1.5万/月  04-03  ['杭州\\xa0\\xa0', '\\xa0\\xa03-4年经验\\xa0\\xa0', '\\xa0...    民营公司   \n",
       "1  1.2-2万/月  04-03  ['上海-闵行区\\xa0\\xa0', '\\xa0\\xa02年经验\\xa0\\xa0', '\\x...    民营公司   \n",
       "2         -  04-03  ['深圳\\xa0\\xa0', '\\xa0\\xa03-4年经验\\xa0\\xa0', '\\xa0...  外资（欧美）   \n",
       "3  1-1.5万/月  04-03  ['杭州\\xa0\\xa0', '\\xa0\\xa03-4年经验\\xa0\\xa0', '\\xa0...    民营公司   \n",
       "4         -  04-03  ['深圳\\xa0\\xa0', '\\xa0\\xa03-4年经验\\xa0\\xa0', '\\xa0...  外资（欧美）   \n",
       "\n",
       "         公司规模                    所属行业  \\\n",
       "0     50-150人                互联网/电子商务   \n",
       "1     50-150人          互联网/电子商务,计算机软件   \n",
       "2  1000-5000人  专业服务(咨询、人力资源、财会),会计/审计   \n",
       "3     50-150人                互联网/电子商务   \n",
       "4  1000-5000人  专业服务(咨询、人力资源、财会),会计/审计   \n",
       "\n",
       "                                                岗位描述  \n",
       "0  岗位职责：1.负责python，培养python团队2.写爬虫、数据分析、统计等，完成公司的...  \n",
       "1  工作内容：参与公司产品及项目研发，分析业务需求，设计并实现后端功能模块职位要求：1、两年以上...  \n",
       "2  Responsibilities:Building and applying data an...  \n",
       "3  岗位职责：1.负责python，培养python团队2.写爬虫、数据分析、统计等，完成公司的...  \n",
       "4  Responsibilities:Building and applying data an...  "
      ]
     },
     "execution_count": 56,
     "metadata": {},
     "output_type": "execute_result"
    }
   ],
   "source": [
    "data.head()"
   ]
  },
  {
   "cell_type": "code",
   "execution_count": null,
   "metadata": {},
   "outputs": [],
   "source": []
  },
  {
   "cell_type": "code",
   "execution_count": 3,
   "metadata": {},
   "outputs": [],
   "source": [
    "url=\"https://jobs.51job.com/shenzhen/120592867.html?s=01&t=0\"\n",
    "\n",
    "response=requests.get(url,headers=headers)\n",
    "response.encoding=\"gbk\"\n",
    "html=response.text\n",
    "root=etree.HTML(html)"
   ]
  },
  {
   "cell_type": "code",
   "execution_count": null,
   "metadata": {},
   "outputs": [],
   "source": []
  },
  {
   "cell_type": "code",
   "execution_count": 5,
   "metadata": {},
   "outputs": [
    {
     "data": {
      "text/plain": [
       "'Python开发工程师'"
      ]
     },
     "execution_count": 5,
     "metadata": {},
     "output_type": "execute_result"
    }
   ],
   "source": [
    "name=root.xpath('string(//div[@class=\"cn\"]/h1/@title)')\n",
    "name"
   ]
  },
  {
   "cell_type": "code",
   "execution_count": 6,
   "metadata": {},
   "outputs": [
    {
     "data": {
      "text/plain": [
       "'深圳市有为信息技术发展有限公司'"
      ]
     },
     "execution_count": 6,
     "metadata": {},
     "output_type": "execute_result"
    }
   ],
   "source": [
    "company=root.xpath('string(//div[@class=\"cn\"]/p/a/@title)')\n",
    "company"
   ]
  },
  {
   "cell_type": "code",
   "execution_count": 8,
   "metadata": {},
   "outputs": [],
   "source": [
    "url2=\"https://jobs.51job.com/chengdu-pdq/120340469.html?s=01&t=0\"\n",
    "\n",
    "response2=requests.get(url2,headers=headers)\n",
    "response2.encoding=\"gbk\"\n",
    "html2=response2.text\n",
    "root2=etree.HTML(html2)"
   ]
  },
  {
   "cell_type": "code",
   "execution_count": 13,
   "metadata": {},
   "outputs": [
    {
     "data": {
      "text/plain": [
       "'-'"
      ]
     },
     "execution_count": 13,
     "metadata": {},
     "output_type": "execute_result"
    }
   ],
   "source": [
    "salary=root.xpath('//div[@class=\"cn\"]/strong/text()')\n",
    "salary=salary if salary else '-'\n",
    "salary"
   ]
  },
  {
   "cell_type": "code",
   "execution_count": 11,
   "metadata": {},
   "outputs": [
    {
     "data": {
      "text/plain": [
       "'0.6-1.4万/月'"
      ]
     },
     "execution_count": 11,
     "metadata": {},
     "output_type": "execute_result"
    }
   ],
   "source": [
    "salary=root2.xpath('string(//div[@class=\"cn\"]/strong/text())')\n",
    "salary=salary if salary else '0'\n",
    "salary"
   ]
  },
  {
   "cell_type": "code",
   "execution_count": 18,
   "metadata": {},
   "outputs": [
    {
     "data": {
      "text/plain": [
       "['深圳', '本科', '招3人', '04-04发布']"
      ]
     },
     "execution_count": 18,
     "metadata": {},
     "output_type": "execute_result"
    }
   ],
   "source": [
    "random_all=root.xpath('//div[@class=\"cn\"]//p[@class=\"msg ltype\"]/text()')\n",
    "random_all=[i.replace('\\xa0','').strip() for i in random_all]\n",
    "random_all"
   ]
  },
  {
   "cell_type": "code",
   "execution_count": 19,
   "metadata": {},
   "outputs": [
    {
     "data": {
      "text/plain": [
       "'深圳'"
      ]
     },
     "execution_count": 19,
     "metadata": {},
     "output_type": "execute_result"
    }
   ],
   "source": [
    "location=random_all[0]\n",
    "location"
   ]
  },
  {
   "cell_type": "code",
   "execution_count": 20,
   "metadata": {},
   "outputs": [
    {
     "data": {
      "text/plain": [
       "'04-04发布'"
      ]
     },
     "execution_count": 20,
     "metadata": {},
     "output_type": "execute_result"
    }
   ],
   "source": [
    "realse_time=random_all[-1]\n",
    "realse_time"
   ]
  },
  {
   "cell_type": "code",
   "execution_count": null,
   "metadata": {},
   "outputs": [],
   "source": []
  },
  {
   "cell_type": "code",
   "execution_count": 21,
   "metadata": {},
   "outputs": [
    {
     "data": {
      "text/plain": [
       "['成都-郫都区', '3-4年经验', '本科', '招2人', '04-04发布']"
      ]
     },
     "execution_count": 21,
     "metadata": {},
     "output_type": "execute_result"
    }
   ],
   "source": [
    "random_all=root2.xpath('//div[@class=\"cn\"]//p[@class=\"msg ltype\"]/text()')\n",
    "random_all=[i.replace('\\xa0','').strip() for i in random_all]\n",
    "random_all"
   ]
  },
  {
   "cell_type": "code",
   "execution_count": 22,
   "metadata": {},
   "outputs": [
    {
     "data": {
      "text/plain": [
       "'成都-郫都区'"
      ]
     },
     "execution_count": 22,
     "metadata": {},
     "output_type": "execute_result"
    }
   ],
   "source": [
    "location=random_all[0]\n",
    "location"
   ]
  },
  {
   "cell_type": "code",
   "execution_count": 25,
   "metadata": {},
   "outputs": [
    {
     "data": {
      "text/plain": [
       "'04-04'"
      ]
     },
     "execution_count": 25,
     "metadata": {},
     "output_type": "execute_result"
    }
   ],
   "source": [
    "realse_time=random_all[-1].replace(\"发布\",'')\n",
    "realse_time"
   ]
  },
  {
   "cell_type": "code",
   "execution_count": 31,
   "metadata": {},
   "outputs": [],
   "source": [
    "url_list=[]\n",
    "with open('urls.txt','r',encoding=\"utf-8\") as f:\n",
    "    for i in f.readlines():\n",
    "        i=i.strip()\n",
    "        url_list.append(i)"
   ]
  },
  {
   "cell_type": "code",
   "execution_count": 32,
   "metadata": {},
   "outputs": [
    {
     "data": {
      "text/plain": [
       "'https://jobs.51job.com/beijing/117636257.html?s=01&t=0'"
      ]
     },
     "execution_count": 32,
     "metadata": {},
     "output_type": "execute_result"
    }
   ],
   "source": [
    "url_list[0]"
   ]
  },
  {
   "cell_type": "code",
   "execution_count": 34,
   "metadata": {},
   "outputs": [],
   "source": [
    "response = requests.get(url_list[0], headers=headers)\n",
    "\n",
    "response.encoding = \"gbk\"\n",
    "\n",
    "html = response.text\n",
    "\n",
    "root = etree.HTML(html)"
   ]
  },
  {
   "cell_type": "code",
   "execution_count": 35,
   "metadata": {},
   "outputs": [
    {
     "data": {
      "text/plain": [
       "'Python/Odoo 软件开发工程师'"
      ]
     },
     "execution_count": 35,
     "metadata": {},
     "output_type": "execute_result"
    }
   ],
   "source": [
    "# 1.岗位名称\n",
    "job_name = root.xpath('string(//div[@class=\"cn\"]/h1/@title)')\n",
    "job_name"
   ]
  },
  {
   "cell_type": "code",
   "execution_count": 36,
   "metadata": {},
   "outputs": [
    {
     "data": {
      "text/plain": [
       "'北京中达讯科技有限公司'"
      ]
     },
     "execution_count": 36,
     "metadata": {},
     "output_type": "execute_result"
    }
   ],
   "source": [
    "# 2.公司名称\n",
    "company_name = root.xpath('string(//div[@class=\"cn\"]/p/a/@title)')\n",
    "company_name"
   ]
  },
  {
   "cell_type": "code",
   "execution_count": 37,
   "metadata": {},
   "outputs": [],
   "source": [
    "random_all = root.xpath('//div[@class=\"cn\"]//p[@class=\"msg ltype\"]/text()')\n",
    "random_all = [i.replace('\\xa0', '').strip() for i in random_all]"
   ]
  },
  {
   "cell_type": "code",
   "execution_count": 38,
   "metadata": {},
   "outputs": [
    {
     "data": {
      "text/plain": [
       "'北京'"
      ]
     },
     "execution_count": 38,
     "metadata": {},
     "output_type": "execute_result"
    }
   ],
   "source": [
    "# 3.工作地点\n",
    "address = random_all[0]\n",
    "address"
   ]
  },
  {
   "cell_type": "code",
   "execution_count": 39,
   "metadata": {},
   "outputs": [],
   "source": [
    "# 4.工资\n",
    "salary_mid = root.xpath('string(//div[@class=\"cn\"]/strong/text())')\n",
    "salary = salary_mid if salary_mid else '-'"
   ]
  },
  {
   "cell_type": "code",
   "execution_count": 40,
   "metadata": {},
   "outputs": [
    {
     "data": {
      "text/plain": [
       "'15-20万/年'"
      ]
     },
     "execution_count": 40,
     "metadata": {},
     "output_type": "execute_result"
    }
   ],
   "source": [
    "salary"
   ]
  },
  {
   "cell_type": "code",
   "execution_count": 43,
   "metadata": {},
   "outputs": [],
   "source": [
    "# 5.发布时间\n",
    "release_time = random_all[-1].replace('发布','')"
   ]
  },
  {
   "cell_type": "code",
   "execution_count": 44,
   "metadata": {},
   "outputs": [
    {
     "data": {
      "text/plain": [
       "'04-04'"
      ]
     },
     "execution_count": 44,
     "metadata": {},
     "output_type": "execute_result"
    }
   ],
   "source": [
    "realse_time"
   ]
  },
  {
   "cell_type": "code",
   "execution_count": 45,
   "metadata": {},
   "outputs": [
    {
     "data": {
      "text/plain": [
       "'职位要求：1、大专以上计算机相关专业，2~3年工作经验；2、具备良好的独立分析问题与解决能力，快速学习能力，对工作有强烈责任心；3、两年以上Python/Odoo开发经验，熟练使用Python编程，掌握Python的高效写法；4、熟悉Odoo框架，了解Odoo使用的基本Python库，能熟练的对Odoo (OpenERP) 进行二次开发的优先考虑；5、熟悉JavaScript，HTML 5, CSS 3，有前端开发经验者优先；6、熟悉Linux操作系统，熟练掌握Shell脚本语言；熟悉使用git等代码管理工具；7、熟悉PostgreSQL数据库，能熟练编写SQL语句； 工作职责：1、针对业务需求使用Python针对Odoo系统二次开发与维护；2、独立完成Odoo业务模块开发；3、实现Odoo和其他系统的接口集成，比如微信小程序、电商平台、财务软件等；4、负责技术文档、用户文档的编写；5、针对公司内部不同岗位进行操作培训                                                        职能类别：软件工程师                                        微信分享'"
      ]
     },
     "execution_count": 45,
     "metadata": {},
     "output_type": "execute_result"
    }
   ],
   "source": [
    "# 7.岗位描述信息\n",
    "job_drscribe = root.xpath('string(//div[@class=\"bmsg job_msg inbox\"])').replace(\"\\xa0\", \"\").replace(\"\\r\\n\",\"\").strip()\n",
    "job_drscribe"
   ]
  },
  {
   "cell_type": "code",
   "execution_count": 46,
   "metadata": {},
   "outputs": [
    {
     "data": {
      "text/plain": [
       "'民营公司'"
      ]
     },
     "execution_count": 46,
     "metadata": {},
     "output_type": "execute_result"
    }
   ],
   "source": [
    "# 8.公司类型\n",
    "company_type = root.xpath('string(//div[@class=\"com_tag\"]/p[1]/@title)')\n",
    "company_type"
   ]
  },
  {
   "cell_type": "code",
   "execution_count": 47,
   "metadata": {},
   "outputs": [
    {
     "data": {
      "text/plain": [
       "'少于50人'"
      ]
     },
     "execution_count": 47,
     "metadata": {},
     "output_type": "execute_result"
    }
   ],
   "source": [
    "# 9.公司规模\n",
    "company_size = root.xpath('string(//div[@class=\"com_tag\"]/p[2]/@title)')\n",
    "company_size"
   ]
  },
  {
   "cell_type": "code",
   "execution_count": 48,
   "metadata": {},
   "outputs": [
    {
     "data": {
      "text/plain": [
       "'计算机软件,计算机硬件'"
      ]
     },
     "execution_count": 48,
     "metadata": {},
     "output_type": "execute_result"
    }
   ],
   "source": [
    "# 10.所属行业\n",
    "industry = root.xpath('string(//div[@class=\"com_tag\"]/p[3]/@title)')\n",
    "industry"
   ]
  },
  {
   "cell_type": "code",
   "execution_count": 51,
   "metadata": {},
   "outputs": [
    {
     "data": {
      "text/plain": [
       "['北京', '5-7年经验', '大专', '招1人', '04-04发布', '计算机科学与技术']"
      ]
     },
     "execution_count": 51,
     "metadata": {},
     "output_type": "execute_result"
    }
   ],
   "source": [
    "random_all"
   ]
  },
  {
   "cell_type": "code",
   "execution_count": 52,
   "metadata": {},
   "outputs": [
    {
     "data": {
      "text/plain": [
       "'北京5-7年经验大专招1人04-04发布计算机科学与技术'"
      ]
     },
     "execution_count": 52,
     "metadata": {},
     "output_type": "execute_result"
    }
   ],
   "source": [
    "s=\"\".join(random_all)\n",
    "s"
   ]
  },
  {
   "cell_type": "code",
   "execution_count": 59,
   "metadata": {},
   "outputs": [
    {
     "data": {
      "text/plain": [
       "['5-7', '04-04']"
      ]
     },
     "execution_count": 59,
     "metadata": {},
     "output_type": "execute_result"
    }
   ],
   "source": [
    "import re\n",
    "\n",
    "a=re.findall(\"\\d+-\\d+\",s)\n",
    "a"
   ]
  },
  {
   "cell_type": "code",
   "execution_count": 60,
   "metadata": {},
   "outputs": [],
   "source": [
    "import json\n",
    "\n",
    "datas=[]\n",
    "\n",
    "with open(\"job_info2_1.json\",\"r\",encoding=\"utf-8\") as f:\n",
    "    \n",
    "    for line in f.readlines():\n",
    "        data=list(json.loads(line).values())\n",
    "        datas.append(data)"
   ]
  },
  {
   "cell_type": "code",
   "execution_count": 63,
   "metadata": {},
   "outputs": [],
   "source": [
    "import csv\n",
    "with open('job_info2_2.csv', 'w', encoding='utf-8', newline='') as csvFile:\n",
    "    csv.writer(csvFile).writerow(['岗位名称','公司名称','要求','工作地点','工资','发布时间','岗位描述','公司类型','公司规模','所属行业'])\n",
    "    for rows in datas:\n",
    "        csv.writer(csvFile).writerow(rows)"
   ]
  },
  {
   "cell_type": "code",
   "execution_count": null,
   "metadata": {},
   "outputs": [],
   "source": []
  }
 ],
 "metadata": {
  "kernelspec": {
   "display_name": "Python 3",
   "language": "python",
   "name": "python3"
  },
  "language_info": {
   "codemirror_mode": {
    "name": "ipython",
    "version": 3
   },
   "file_extension": ".py",
   "mimetype": "text/x-python",
   "name": "python",
   "nbconvert_exporter": "python",
   "pygments_lexer": "ipython3",
   "version": "3.7.6"
  }
 },
 "nbformat": 4,
 "nbformat_minor": 4
}
