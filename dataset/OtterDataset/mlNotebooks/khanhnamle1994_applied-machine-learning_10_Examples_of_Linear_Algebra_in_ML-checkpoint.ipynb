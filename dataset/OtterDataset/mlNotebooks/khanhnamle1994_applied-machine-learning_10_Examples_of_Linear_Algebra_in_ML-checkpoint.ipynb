{
 "cells": [
  {
   "cell_type": "markdown",
   "metadata": {},
   "source": [
    "# 10 Examples of Linear Algebra in Machine Learning\n",
    "Linear algebra is a sub-field of mathematics concerned with vectors, matrices, and linear transforms.\n",
    "\n",
    "It is a key foundation to the field of machine learning, from notations used to describe the operation of algorithms to the implementation of algorithms in code.\n",
    "\n",
    "Although linear algebra is integral to the field of machine learning, the tight relationship is often left unexplained or explained using abstract concepts such as vector spaces or specific matrix operations.\n",
    "\n",
    "In this post, you will discover 10 common examples of machine learning that you may be familiar with that use, require and are really best understood using linear algebra.\n",
    "\n",
    "After reading this post, you will know:\n",
    "\n",
    "* The use of linear algebra structures when working with data, such as tabular datasets and images.\n",
    "* Linear algebra concepts when working with data preparation, such as one hot encoding and dimensionality reduction.\n",
    "* The ingrained use of linear algebra notation and methods in sub-fields such as deep learning, natural language processing, and recommender systems.\n",
    "\n",
    "Let’s get started."
   ]
  },
  {
   "cell_type": "markdown",
   "metadata": {},
   "source": [
    "## Overview\n",
    "In this post, we will review 10 obvious and concrete examples of linear algebra in machine learning.\n",
    "\n",
    "I tried to pick examples that you may be familiar with or have even worked with before. They are:\n",
    "\n",
    "1. Dataset and Data Files\n",
    "2. Images and Photographs\n",
    "3. One-Hot Encoding\n",
    "4. Linear Regression\n",
    "5. Regularization\n",
    "6. Principal Component Analysis\n",
    "7. Singular-Value Decomposition\n",
    "8. Latent Semantic Analysis\n",
    "9. Recommender Systems\n",
    "10. Deep Learning"
   ]
  },
  {
   "cell_type": "markdown",
   "metadata": {},
   "source": [
    "## 1. Dataset and Data Files\n",
    "In machine learning, you fit a model on a dataset.\n",
    "\n",
    "This is the table-like set of numbers where each row represents an observation and each column represents a feature of the observation.\n",
    "\n",
    "For example, below is a snippet of the Iris flowers dataset:"
   ]
  },
  {
   "cell_type": "code",
   "execution_count": null,
   "metadata": {
    "collapsed": true
   },
   "outputs": [],
   "source": [
    "5.1,3.5,1.4,0.2,Iris-setosa\n",
    "4.9,3.0,1.4,0.2,Iris-setosa\n",
    "4.7,3.2,1.3,0.2,Iris-setosa\n",
    "4.6,3.1,1.5,0.2,Iris-setosa\n",
    "5.0,3.6,1.4,0.2,Iris-setosa"
   ]
  },
  {
   "cell_type": "markdown",
   "metadata": {},
   "source": [
    "This data is in fact a matrix: a key data structure in linear algebra.\n",
    "\n",
    "Further, when you split the data into inputs and outputs to fit a supervised machine learning model, such as the measurements and the flower species, you have a matrix (X) and a vector (y). The vector is another key data structure in linear algebra.\n",
    "\n",
    "Each row has the same length, i.e. the same number of columns, therefore we can say that the data is vectorized where rows can be provided to a model one at a time or in a batch and the model can be pre-configured to expect rows of a fixed width.\n",
    "\n",
    "## 2. Images and Photographs\n",
    "Perhaps you are more used to working with images or photographs in computer vision applications.\n",
    "\n",
    "Each image that you work with is itself a table structure with a width and height and one pixel value in each cell for black and white images or 3 pixel values in each cell for a color image.\n",
    "\n",
    "A photo is yet another example of a matrix from linear algebra.\n",
    "\n",
    "Operations on the image, such as cropping, scaling, shearing, and so on are all described using the notation and operations of linear algebra.\n",
    "\n",
    "## 3. One Hot Encoding\n",
    "Sometimes you work with categorical data in machine learning.\n",
    "\n",
    "Perhaps the class labels for classification problems, or perhaps categorical input variables.\n",
    "\n",
    "It is common to encode categorical variables to make them easier to work with and learn by some techniques. A popular encoding for categorical variables is the one hot encoding.\n",
    "\n",
    "A one hot encoding is where a table is created to represent the variable with one column for each category and a row for each example in the dataset. A check, or one-value, is added in the column for the categorical value for a given row, and a zero-value is added to all other columns.\n",
    "\n",
    "For example, the color variable with the 3 rows:"
   ]
  },
  {
   "cell_type": "code",
   "execution_count": null,
   "metadata": {
    "collapsed": true
   },
   "outputs": [],
   "source": [
    "red\n",
    "green\n",
    "blue\n",
    "..."
   ]
  },
  {
   "cell_type": "markdown",
   "metadata": {},
   "source": [
    "Might be encoded as:"
   ]
  },
  {
   "cell_type": "code",
   "execution_count": null,
   "metadata": {
    "collapsed": true
   },
   "outputs": [],
   "source": [
    "red, green, blue\n",
    "1, 0, 0\n",
    "0, 1, 0\n",
    "0, 0, 1\n",
    "..."
   ]
  },
  {
   "cell_type": "markdown",
   "metadata": {},
   "source": [
    "Each row is encoded as a binary vector, a vector with zero or one values and this is an example of a sparse representation, a whole sub-field of linear algebra.\n",
    "\n",
    "## 4. Linear Regression\n",
    "Linear regression is an old method from statistics for describing the relationships between variables.\n",
    "\n",
    "It is often used in machine learning for predicting numerical values in simpler regression problems.\n",
    "\n",
    "There are many ways to describe and solve the linear regression problem, i.e. finding a set of coefficients that when multiplied by each of the input variables and added together results in the best prediction of the output variable.\n",
    "\n",
    "If you have used a machine learning tool or library, the most common way of solving linear regression is via a least squares optimization that is solved using matrix factorization methods from linear regression, such as an LU decomposition or a singular-value decomposition, or SVD.\n",
    "\n",
    "Even the common way of summarizing the linear regression equation uses linear algebra notation:"
   ]
  },
  {
   "cell_type": "code",
   "execution_count": null,
   "metadata": {
    "collapsed": true
   },
   "outputs": [],
   "source": [
    "y = A . b"
   ]
  },
  {
   "cell_type": "markdown",
   "metadata": {},
   "source": [
    "Where y is the output variable A is the dataset and b are the model coefficients.\n",
    "\n",
    "## 5. Regularization\n",
    "In applied machine learning, we often seek the simplest possible models that achieve the best skill on our problem.\n",
    "\n",
    "Simpler models are often better at generalizing from specific examples to unseen data.\n",
    "\n",
    "In many methods that involve coefficients, such as regression methods and artificial neural networks, simpler models are often characterized by models that have smaller coefficient values.\n",
    "\n",
    "A technique that is often used to encourage a model to minimize the size of coefficients while it is being fit on data is called regularization. Common implementations include the L2 and L1 forms of regularization.\n",
    "\n",
    "Both of these forms of regularization are in fact a measure of the magnitude or length of the coefficients as a vector and are methods lifted directly from linear algebra called the vector norm.\n",
    "\n",
    "## 6. Principal Component Analysis\n",
    "Often, a dataset has many columns, perhaps tens, hundreds, thousands, or more.\n",
    "\n",
    "Modeling data with many features is challenging, and models built from data that include irrelevant features are often less skillful than models trained from the most relevant data.\n",
    "\n",
    "It is hard to know which features of the data are relevant and which are not.\n",
    "\n",
    "Methods for automatically reducing the number of columns of a dataset are called dimensionality reduction, and perhaps the most popular method is called the principal component analysis, or PCA for short.\n",
    "\n",
    "This method is used in machine learning to create projections of high-dimensional data for both visualization and for training models.\n",
    "\n",
    "The core of the PCA method is a matrix factorization method from linear algebra. The eigendecomposition can be used and more robust implementations may use the singular-value decomposition, or SVD.\n",
    "\n",
    "## 7. Singular-Value Decomposition\n",
    "Another popular dimensionality reduction method is the singular-value decomposition method, or SVD for short.\n",
    "\n",
    "As mentioned, and as the name of the method suggests, it is a matrix factorization method from the field of linear algebra.\n",
    "\n",
    "It has wide use in linear algebra and can be used directly in applications such as feature selection, visualization, noise reduction, and more.\n",
    "\n",
    "We will see two more cases below of using the SVD in machine learning.\n",
    "\n",
    "## 8. Latent Semantic Analysis\n",
    "In the sub-field of machine learning for working with text data called natural language processing, it is common to represent documents as large matrices of word occurrences.\n",
    "\n",
    "For example, the columns of the matrix may be the known words in the vocabulary and rows may be sentences, paragraphs, pages, or documents of text with cells in the matrix marked as the count or frequency of the number of times the word occurred.\n",
    "\n",
    "This is a sparse matrix representation of the text. Matrix factorization methods, such as the singular-value decomposition can be applied to this sparse matrix, which has the effect of distilling the representation down to its most relevant essence. Documents processed in this way are much easier to compare, query, and use as the basis for a supervised machine learning model.\n",
    "\n",
    "This form of data preparation is called Latent Semantic Analysis, or LSA for short, and is also known by the name Latent Semantic Indexing, or LSI.\n",
    "\n",
    "## 9. Recommender Systems\n",
    "Predictive modeling problems that involve the recommendation of products are called recommender systems, a sub-field of machine learning.\n",
    "\n",
    "Examples include the recommendation of books based on previous purchases and purchases by customers like you on Amazon, and the recommendation of movies and TV shows to watch based on your viewing history and viewing history of subscribers like you on Netflix.\n",
    "\n",
    "The development of recommender systems is primarily concerned with linear algebra methods. A simple example is in the calculation of the similarity between sparse customer behavior vectors using distance measures such as Euclidean distance or dot products.\n",
    "\n",
    "Matrix factorization methods like the singular-value decomposition are used widely in recommender systems to distill item and user data to their essence for querying and searching and comparison.\n",
    "\n",
    "## 10. Deep Learning\n",
    "Artificial neural networks are nonlinear machine learning algorithms that are inspired by elements of the information processing in the brain and have proven effective at a range of problems, not the least of which is predictive modeling.\n",
    "\n",
    "Deep learning is the recent resurgence in the use of artificial neural networks with newer methods and faster hardware that allow for the development and training of larger and deeper (more layers) networks on very large datasets. Deep learning methods are routinely achieving state-of-the-art results on a range of challenging problems such as machine translation, photo captioning, speech recognition, and much more.\n",
    "\n",
    "At their core, the execution of neural networks involves linear algebra data structures multiplied and added together. Scaled up to multiple dimensions, deep learning methods work with vectors, matrices, and even tensors of inputs and coefficients, where a tensor is a matrix with more than two dimensions.\n",
    "\n",
    "Linear algebra is central to the description of deep learning methods via matrix notation to the implementation of deep learning methods such as Google’s TensorFlow Python library that has the word “tensor” in its name."
   ]
  },
  {
   "cell_type": "markdown",
   "metadata": {},
   "source": [
    "## Summary\n",
    "In this post, you discovered 10 common examples of machine learning that you may be familiar with that use and require linear algebra.\n",
    "\n",
    "Specifically, you learned:\n",
    "\n",
    "* The use of linear algebra structures when working with data such as tabular datasets and images.\n",
    "* Linear algebra concepts when working with data preparation such as one hot encoding and dimensionality reduction.\n",
    "* The ingrained use of linear algebra notation and methods in sub-fields such as deep learning, natural language processing, and recommender systems."
   ]
  }
 ],
 "metadata": {
  "kernelspec": {
   "display_name": "Python 2",
   "language": "python",
   "name": "python2"
  },
  "language_info": {
   "codemirror_mode": {
    "name": "ipython",
    "version": 2
   },
   "file_extension": ".py",
   "mimetype": "text/x-python",
   "name": "python",
   "nbconvert_exporter": "python",
   "pygments_lexer": "ipython2",
   "version": "2.7.14"
  }
 },
 "nbformat": 4,
 "nbformat_minor": 2
}
