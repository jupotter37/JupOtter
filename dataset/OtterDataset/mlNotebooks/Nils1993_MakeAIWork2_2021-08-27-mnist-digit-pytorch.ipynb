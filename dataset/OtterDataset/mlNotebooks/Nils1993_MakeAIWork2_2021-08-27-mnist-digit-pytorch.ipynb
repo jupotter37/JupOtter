{
 "cells": [
  {
   "attachments": {},
   "cell_type": "markdown",
   "metadata": {},
   "source": [
    "# \"MNIST Digit Classifier using PyTorch\"\n",
    "> \"A simple workflow on how to build a multilayer perceptron to classify MNIST handwritten digits using PyTorch. We define a custom Dataset class to load and preprocess the input data. The neural network architecture is built using a sequential layer, just like the Keras framework. We define the training and testing loop manually using Python for-loop. The final model is evaluated using a standard accuracy measure.\"\n",
    "\n",
    "- toc: true\n",
    "- badges: true\n",
    "- comments: true\n",
    "- author: Tomy Tjandra, Dwi Gustin Nurdialit, Wulan Andriyani\n",
    "- categories: [python, classification, computer-vision, pytorch]\n",
    "- image: images/mnist-digit-pytorch.jpeg"
   ]
  },
  {
   "attachments": {},
   "cell_type": "markdown",
   "metadata": {},
   "source": [
    "# Background"
   ]
  },
  {
   "attachments": {},
   "cell_type": "markdown",
   "metadata": {
    "cell_id": "00000-d74ccc7c-e4f5-41ea-b2d0-fdb09ff53bd5",
    "deepnote_cell_type": "markdown",
    "tags": []
   },
   "source": [
    "Deep learning is part of a broader family of machine learning methods based on artificial neural networks with representation learning. These neural networks attempt to simulate the behavior of the human brain allowing it to “learn” from large amounts of data. Not only possible to apply in large amounts of data, but it also allows to deal with unstructured data such as image, text, and sound.\n",
    "\n",
    "You can try to implement a neural network from scratch. But, do you think this is a good idea when building deep learning models on a real-world dataset? It is definitely possible if you have days or weeks to spare waiting for the model to build. But, in any conditions we have many constrain to do it e.g time and cost. \n",
    "\n",
    "Here is the good news, now we can use deep learning frameworks that aim to simplify the implementation of complex deep learning models. Using these frameworks, we can implement complex models like convolutional neural networks in no time.\n",
    "\n",
    "A deep learning framework is a tool that allows us to build deep learning models more easily and quickly. They provide a clear and concise way for defining models using a collection of pre-built and optimized components. Instead of writing hundreds of lines of code, we can use a suitable framework to help us to build such a model quickly."
   ]
  },
  {
   "attachments": {},
   "cell_type": "markdown",
   "metadata": {
    "cell_id": "00002-f5f5f37e-a558-47d5-8fdd-8f88e7099889",
    "deepnote_cell_type": "markdown",
    "tags": []
   },
   "source": [
    "![](assets/2021-08-27-mnist-digit-pytorch/keras-vs-pytorch.png)\n",
    "\n",
    "|Keras | PyTorch|\n",
    "|---|---|\n",
    "|Keras was released in March 2015| While PyTorch was released in October 2016|\n",
    "|Keras has a high level API| While PyTorch has a low level API|\n",
    "|Keras is comparatively slower in speed | While PyTorch has a higher speed than Keras, suitable for high performance|\n",
    "|Keras has a simple architecture, making it more readable and easy to use | While PyTorch has very low readablility due to a complex architecture|\n",
    "|Keras has a smaller community support | While PyTorch has a stronger community support|\n",
    "|Keras is mostly used for small datasets due to its slow speed | While PyTorch is preferred for large datasets and high performance|\n",
    "|Debugging in Keras is difficult due to presence of computational junk | While debugging in PyTorch is easier and faster|\n",
    "|Keras provides static computation graphs | While PyTorch provides dynamic computation graphs|\n",
    "|Backend for Keras include:TensorFlow, Theano and Microsoft CNTK backend | While PyTorch has no backend implementation|"
   ]
  },
  {
   "attachments": {},
   "cell_type": "markdown",
   "metadata": {},
   "source": [
    "# Installation"
   ]
  },
  {
   "attachments": {},
   "cell_type": "markdown",
   "metadata": {
    "cell_id": "00001-021932f4-ebaa-4c6c-ae2a-e05f27bdc395",
    "deepnote_cell_type": "markdown",
    "deepnote_to_be_reexecuted": false,
    "execution_millis": 9,
    "execution_start": 1629441374960,
    "source_hash": "28e118d0",
    "tags": []
   },
   "source": [
    "Please ensure you have installed the following packages to run sample notebook. Here is the short instruction on how to create a new conda environment with those package inside it.\n",
    "\n",
    "1. Open the terminal or Anaconda command prompt.\n",
    "\n",
    "![](assets/2021-08-27-mnist-digit-pytorch/terminal.png)\n",
    "\n",
    "2. Create new conda environment by running the following command.\n",
    "\n",
    "   `conda create -n <env_name> python=3.7`\n",
    "\n",
    "3. Activate the conda environment by running the following command.\n",
    "\n",
    "   `conda activate <env_name>`\n",
    "\n",
    "4. Install additional packages such as `pandas`, `numpy`, `matplotlib`, `seaborn`, and `sklearn` inside the conda environment.\n",
    "\n",
    "   `pip install pandas numpy matplotlib seaborn scikit-learn`\n",
    "\n",
    "5. Install `torch` into the environment.\n",
    "\n",
    "   `pip3 install torch torchvision torchaudio`"
   ]
  },
  {
   "attachments": {},
   "cell_type": "markdown",
   "metadata": {},
   "source": [
    "> Note: For more details, please visit [PyTorch setup](https://pytorch.org/get-started/locally/)"
   ]
  },
  {
   "attachments": {},
   "cell_type": "markdown",
   "metadata": {
    "cell_id": "00004-12df2948-40d4-4cf2-b425-ce3dfaa00a4c",
    "deepnote_cell_type": "text-cell-h1",
    "is_collapsed": false,
    "tags": []
   },
   "source": [
    "# Libraries"
   ]
  },
  {
   "attachments": {},
   "cell_type": "markdown",
   "metadata": {},
   "source": [
    "After the required package is installed, load the package into your workspace using the `import`"
   ]
  },
  {
   "cell_type": "code",
   "execution_count": 1,
   "metadata": {
    "cell_id": "00001-32c246fa-8cb4-4171-b469-02ae701dee8a",
    "deepnote_cell_type": "code",
    "deepnote_to_be_reexecuted": false,
    "execution_millis": 15,
    "execution_start": 1629447748748,
    "source_hash": "a50c2f92",
    "tags": []
   },
   "outputs": [
    {
     "name": "stderr",
     "output_type": "stream",
     "text": [
      "C:\\Users\\nilsm\\AppData\\Local\\Temp\\ipykernel_6324\\1424104691.py:14: MatplotlibDeprecationWarning: The seaborn styles shipped by Matplotlib are deprecated since 3.6, as they no longer correspond to the styles shipped by seaborn. However, they will remain available as 'seaborn-v0_8-<style>'. Alternatively, directly use the seaborn API instead.\n",
      "  plt.style.use(\"seaborn\")\n"
     ]
    },
    {
     "data": {
      "text/plain": [
       "<torch._C.Generator at 0x195ff4553b0>"
      ]
     },
     "execution_count": 1,
     "metadata": {},
     "output_type": "execute_result"
    }
   ],
   "source": [
    "import pandas as pd  # for read_csv\n",
    "import numpy as np  # for np.Inf\n",
    "import matplotlib.pyplot as plt  # visualization\n",
    "import seaborn as sns  # heatmap visualization\n",
    "from sklearn.metrics import confusion_matrix, classification_report  # evaluation metrics\n",
    "import pickle  # serialization\n",
    "\n",
    "import torch\n",
    "from torch.utils.data import Dataset, DataLoader, random_split\n",
    "import torch.nn as nn\n",
    "import torch.nn.functional as F\n",
    "import torch.optim as optim\n",
    "\n",
    "plt.style.use(\"seaborn\")\n",
    "torch.manual_seed(123)\n"
   ]
  },
  {
   "attachments": {},
   "cell_type": "markdown",
   "metadata": {},
   "source": [
    "# Workflow\n",
    "\n",
    "![](assets/2021-08-27-mnist-digit-pytorch/workflow.png)"
   ]
  },
  {
   "attachments": {},
   "cell_type": "markdown",
   "metadata": {
    "cell_id": "00005-d05d942a-df5a-4572-8094-287371bcc5ce",
    "deepnote_cell_type": "text-cell-h1",
    "is_collapsed": false,
    "tags": []
   },
   "source": [
    "# Load Data"
   ]
  },
  {
   "attachments": {},
   "cell_type": "markdown",
   "metadata": {
    "cell_id": "00007-9e0d1160-7384-4207-97b6-ee9cbb07cb07",
    "deepnote_cell_type": "markdown",
    "tags": []
   },
   "source": [
    "## Working with Images"
   ]
  },
  {
   "attachments": {},
   "cell_type": "markdown",
   "metadata": {
    "cell_id": "00008-aba71842-888f-4bf5-830a-466cb08e910e",
    "deepnote_cell_type": "markdown",
    "tags": []
   },
   "source": [
    "Let's start implement our existing knowledge of neural network using `torch` in Python to solve an **image classification** problem. We'll use famous [**MNIST Handwritten Digits Data**](https://www.kaggle.com/c/digit-recognizer/data) as our training dataset. It consists of 28 by 28 pixels grayscale images of handwritten digits (0 to 9) and labels for each image indicating which digit it represents. There are two files of data to be downloaded: `train.csv` is pixel data with actual digit label, whereas `test.csv` is pixel data **without** the actual digit label. Here are some sample image from dataset:\n",
    "\n",
    "![](assets/2021-08-27-mnist-digit-pytorch/mnist-digit.jpeg)\n",
    "\n",
    "It's evident that these images are relatively small in size, and recognizing the digits can sometimes be challenging even for the human eye. While it's useful to look at these images, there's just one problem here: PyTorch doesn't know how to work with images. We need to convert the images into tensors. We can do this by specifying a transform while creating our dataset.\n",
    "\n",
    "PyTorch `Dataset` allow us to specify one or more transformation functions that are applied to the images as they are loaded. We'll use the **`torch.tensor()`** to convert the pixel values into tensors."
   ]
  },
  {
   "cell_type": "code",
   "execution_count": 2,
   "metadata": {
    "cell_id": "00003-96a15415-66f5-446a-8b29-74254031c1b5",
    "deepnote_cell_type": "code",
    "deepnote_to_be_reexecuted": false,
    "execution_millis": 0,
    "execution_start": 1629447748750,
    "source_hash": "442593e2",
    "tags": []
   },
   "outputs": [],
   "source": [
    "class MNISTDataset(Dataset):\n",
    "    # constructor\n",
    "    def __init__(self, file_path):\n",
    "        # read data\n",
    "        df = pd.read_csv(file_path)\n",
    "\n",
    "        target_col = \"label\"\n",
    "        self.label_exist = target_col in df.columns\n",
    "\n",
    "        if self.label_exist:\n",
    "            # split feature-target\n",
    "            X = df.drop(columns=target_col).values\n",
    "            y = df[target_col].values\n",
    "\n",
    "            # convert numpy array to tensor\n",
    "            self.y = torch.tensor(y)\n",
    "        else:\n",
    "            X = df.values\n",
    "\n",
    "        self.X = torch.tensor(X, dtype=torch.float32)\n",
    "\n",
    "        # scaling\n",
    "        self.X /= 255\n",
    "\n",
    "    # for iteration\n",
    "    def __getitem__(self, idx):\n",
    "        if self.label_exist:\n",
    "            return self.X[idx], self.y[idx]\n",
    "        else:\n",
    "            return self.X[idx]\n",
    "\n",
    "    # to check num of observations\n",
    "    def __len__(self):\n",
    "        return self.X.size()[0]"
   ]
  },
  {
   "cell_type": "code",
   "execution_count": 3,
   "metadata": {
    "cell_id": "00004-20a1be2d-cf77-4a39-976e-16655e40c6fc",
    "deepnote_cell_type": "code",
    "deepnote_to_be_reexecuted": false,
    "execution_millis": 2509,
    "execution_start": 1629447748756,
    "source_hash": "9f99c286",
    "tags": []
   },
   "outputs": [
    {
     "name": "stdout",
     "output_type": "stream",
     "text": [
      "torch.Size([42000, 784])\n"
     ]
    }
   ],
   "source": [
    "# load dataset\n",
    "mnist_data = MNISTDataset(\"./mnist/train.csv\")\n",
    "print(mnist_data.X.size())"
   ]
  },
  {
   "cell_type": "code",
   "execution_count": 4,
   "metadata": {
    "cell_id": "00006-dc7a1cd4-c597-49d7-9dd0-48b4fe70ba7c",
    "deepnote_cell_type": "code",
    "deepnote_to_be_reexecuted": false,
    "execution_millis": 5,
    "execution_start": 1629447751240,
    "source_hash": "df5b0b2c",
    "tags": []
   },
   "outputs": [],
   "source": [
    "# global variables\n",
    "SPLIT_PROP = 0.8\n",
    "BATCH_SIZE = 16"
   ]
  },
  {
   "attachments": {},
   "cell_type": "markdown",
   "metadata": {
    "cell_id": "00013-45ac3714-1ee6-4915-916a-fdac4a9c45d6",
    "deepnote_cell_type": "markdown",
    "tags": []
   },
   "source": [
    "## Training and Validation Datasets"
   ]
  },
  {
   "attachments": {},
   "cell_type": "markdown",
   "metadata": {
    "cell_id": "00014-43a3824b-64ae-45bb-bb42-cf955786bc06",
    "deepnote_cell_type": "markdown",
    "tags": []
   },
   "source": [
    "While building real-world machine learning models, it is quite common to split the dataset into three parts:\n",
    "\n",
    "- **Training set** - used to train the model, i.e., compute the loss and adjust the model's weights using gradient descent.\n",
    "- **Validation set** - used to evaluate the model during training, adjust hyperparameters (learning rate, etc.), and pick the best version of the model.\n",
    "- **Test set** - used to compare different models or approaches and report the model's final accuracy.\n"
   ]
  },
  {
   "attachments": {},
   "cell_type": "markdown",
   "metadata": {
    "cell_id": "00015-45d93ae1-2690-419f-be1a-8a79e806e548",
    "deepnote_cell_type": "markdown",
    "tags": []
   },
   "source": [
    "In the MNIST dataset, there are 42,000 images in `train.csv` and 784 images in `test.csv`. The test set is standardized so that different researchers can report their models' results against the same collection of images.\n",
    "\n",
    "Since there's no predefined validation set, we must manually split the 42,000 images into training, validation, and test datasets. Let's set aside 42,000 randomly chosen images for validation. We can do this using the **`random_split`** method from `torch`."
   ]
  },
  {
   "cell_type": "code",
   "execution_count": 5,
   "metadata": {
    "cell_id": "00006-d6330cb0-5ab3-4c10-b622-b5fb57db857c",
    "deepnote_cell_type": "code",
    "deepnote_to_be_reexecuted": false,
    "execution_millis": 45,
    "execution_start": 1629447751246,
    "source_hash": "f5632c55",
    "tags": []
   },
   "outputs": [
    {
     "name": "stdout",
     "output_type": "stream",
     "text": [
      "Training set: 26,880 images\n",
      "Validation set: 6,720 images\n",
      "Testing set: 8,400 images\n"
     ]
    }
   ],
   "source": [
    "train_val_size = int(SPLIT_PROP * len(mnist_data))\n",
    "test_size = len(mnist_data) - train_val_size\n",
    "\n",
    "train_size = int(SPLIT_PROP * train_val_size)\n",
    "val_size = train_val_size - train_size\n",
    "\n",
    "# train-val-test split\n",
    "train_mnist, val_mnist, test_mnist = random_split(mnist_data, [train_size, val_size, test_size])\n",
    "\n",
    "print(f\"Training set: {len(train_mnist):,} images\")\n",
    "print(f\"Validation set: {len(val_mnist):,} images\")\n",
    "print(f\"Testing set: {len(test_mnist):,} images\")"
   ]
  },
  {
   "attachments": {},
   "cell_type": "markdown",
   "metadata": {
    "cell_id": "00017-4c738033-4ea3-492c-ad38-c7d782a12dfd",
    "deepnote_cell_type": "markdown",
    "tags": []
   },
   "source": [
    "It's essential to choose a random sample for creating a validation and test set. Training data is often sorted by the target labels, i.e., images of 0s, followed by 1s, followed by 2s, etc. If we create a validation set using the last 20% of images, it would only consist of 8s and 9s. In contrast, the training set would contain no 8s or 9s. Such a training-validation would make it impossible to train a useful model.\n",
    "\n",
    "We can now create `DataLoader` to help us load the data in batches. We'll use a batch size of 16. We set **`shuffle=True`** for the data loader to ensure that the batches generated in each epoch are different. This randomization helps generalize & speed up the training process."
   ]
  },
  {
   "cell_type": "code",
   "execution_count": 6,
   "metadata": {
    "cell_id": "00005-434da867-d604-4523-a19c-928a7ed4b2bf",
    "deepnote_cell_type": "code",
    "deepnote_to_be_reexecuted": false,
    "execution_millis": 21,
    "execution_start": 1629447751275,
    "source_hash": "e2912be0",
    "tags": []
   },
   "outputs": [
    {
     "name": "stdout",
     "output_type": "stream",
     "text": [
      "Training data loader: 1,680 images per batch\n",
      "Validation data loader: 420 images per batch\n",
      "Testing data loader: 525 images per batch\n"
     ]
    }
   ],
   "source": [
    "train_loader = DataLoader(train_mnist, batch_size=BATCH_SIZE, shuffle=True)\n",
    "val_loader = DataLoader(val_mnist, batch_size=BATCH_SIZE, shuffle=True)\n",
    "test_loader = DataLoader(test_mnist, batch_size=BATCH_SIZE, shuffle=True)\n",
    "\n",
    "print(f\"Training data loader: {len(train_loader):,} images per batch\")\n",
    "print(f\"Validation data loader: {len(val_loader):,} images per batch\")\n",
    "print(f\"Testing data loader: {len(test_loader):,} images per batch\")"
   ]
  },
  {
   "attachments": {},
   "cell_type": "markdown",
   "metadata": {
    "cell_id": "00010-b0290a59-c716-4427-8727-7b6693243814",
    "deepnote_cell_type": "markdown",
    "tags": []
   },
   "source": [
    "# Visualize Data"
   ]
  },
  {
   "attachments": {},
   "cell_type": "markdown",
   "metadata": {
    "cell_id": "00021-43f16f43-fc6c-45f6-b978-d93428db0fcd",
    "deepnote_cell_type": "markdown",
    "tags": []
   },
   "source": [
    "Let's check the proportion of each class labels, since it is important to ensure that the model can learn each digit in a balanced and fair manner. We check the distribution of digits in training, validation, and also test set."
   ]
  },
  {
   "cell_type": "code",
   "execution_count": 7,
   "metadata": {
    "cell_id": "00011-7ecb710a-d4cb-4f06-b92a-524cc5e8b79c",
    "deepnote_cell_type": "code",
    "deepnote_to_be_reexecuted": false,
    "execution_millis": 589,
    "execution_start": 1629447751285,
    "source_hash": "6f8a9d2c",
    "tags": []
   },
   "outputs": [
    {
     "data": {
      "image/png": "[encoded data removed]",
      "text/plain": [
       "<Figure size 1200x300 with 3 Axes>"
      ]
     },
     "metadata": {},
     "output_type": "display_data"
    }
   ],
   "source": [
    "# collapse-hide\n",
    "# get target variable proportion\n",
    "train_prop = mnist_data.y[train_mnist.indices].bincount()\n",
    "val_prop = mnist_data.y[val_mnist.indices].bincount()\n",
    "test_prop = mnist_data.y[test_mnist.indices].bincount()\n",
    "\n",
    "# visualization\n",
    "fig, axes = plt.subplots(1, 3, figsize=(12, 3))\n",
    "for ax, prop, title, col in zip(axes, [train_prop, val_prop, test_prop], ['Train', 'Validation', 'Test'], 'bgr'):\n",
    "    class_target = range(0, 10)\n",
    "    ax.bar(class_target, prop, color=col)\n",
    "    ax.set_title(title)\n",
    "    ax.set_xticks(class_target)\n",
    "    ax.set_xlabel(\"Label\")\n",
    "\n",
    "axes[0].set_ylabel(\"Frequency\")\n",
    "plt.show()"
   ]
  },
  {
   "attachments": {},
   "cell_type": "markdown",
   "metadata": {
    "cell_id": "00023-a854c3f6-3933-4f1b-a640-69f7a88b1d27",
    "deepnote_cell_type": "markdown",
    "tags": []
   },
   "source": [
    "The distribution of our class labels do seem to be spread out quite evenly, so there's no problem. Next, we visualize a couple of images from `train_loader`:"
   ]
  },
  {
   "cell_type": "code",
   "execution_count": 8,
   "metadata": {
    "cell_id": "00011-214f5f27-9340-4ea1-beff-ea4dc9a8698a",
    "deepnote_cell_type": "code",
    "deepnote_to_be_reexecuted": false,
    "execution_millis": 1030,
    "execution_start": 1629447751863,
    "source_hash": "b7de16a2",
    "tags": []
   },
   "outputs": [
    {
     "data": {
      "image/png": "[encoded data removed]",
      "text/plain": [
       "<Figure size 1200x400 with 16 Axes>"
      ]
     },
     "metadata": {},
     "output_type": "display_data"
    }
   ],
   "source": [
    "# collapse-hide\n",
    "class_label = ['zero', 'one', 'two', 'three',\n",
    "               'four', 'five', 'six', 'seven', 'eight', 'nine']\n",
    "\n",
    "images, labels = next(iter(train_loader))\n",
    "images = images.reshape((train_loader.batch_size, 28, 28))\n",
    "\n",
    "fig, axes = plt.subplots(2, 8, figsize=(12, 4))\n",
    "for ax, img, label in zip(axes.flat, images, labels):\n",
    "    ax.imshow(img, cmap=\"gray\")\n",
    "    ax.axis(\"off\")\n",
    "    ax.set_title(class_label[label])\n",
    "plt.tight_layout()"
   ]
  },
  {
   "attachments": {},
   "cell_type": "markdown",
   "metadata": {
    "cell_id": "00011-54b7f1a8-6eac-4c81-a3b4-0e783bd3d70f",
    "deepnote_cell_type": "markdown",
    "tags": []
   },
   "source": [
    "# Define Model Architecture"
   ]
  },
  {
   "attachments": {},
   "cell_type": "markdown",
   "metadata": {
    "cell_id": "00030-1f14e51f-7d45-47f8-9c6a-a603150e9564",
    "deepnote_cell_type": "markdown",
    "tags": []
   },
   "source": [
    "We'll create a neural network with three layers: two hidden and one output layer. Additionally, we'll use ReLu activation function between each layer. Let's create a **`nn.Sequential`** object, which consists of linear fully-connected layer:\n",
    "\n",
    "- The input size is 784 nodes as the MNIST dataset consists of 28 by 28 pixels\n",
    "- The hidden sizes are 128 and 64 respectively, this number can be increased or decreased to change the learning capacity of the model\n",
    "- The output size is 10 as the MNIST dataset has 10 target classes (0 to 9)"
   ]
  },
  {
   "cell_type": "code",
   "execution_count": 9,
   "metadata": {
    "cell_id": "00015-dc239169-482e-4994-9380-5d00f58e8fa5",
    "deepnote_cell_type": "code",
    "deepnote_to_be_reexecuted": false,
    "execution_millis": 25,
    "execution_start": 1629447752898,
    "source_hash": "39ed5061",
    "tags": []
   },
   "outputs": [
    {
     "data": {
      "text/plain": [
       "Sequential(\n",
       "  (0): Linear(in_features=784, out_features=128, bias=True)\n",
       "  (1): ReLU()\n",
       "  (2): Linear(in_features=128, out_features=64, bias=True)\n",
       "  (3): ReLU()\n",
       "  (4): Linear(in_features=64, out_features=10, bias=True)\n",
       ")"
      ]
     },
     "execution_count": 9,
     "metadata": {},
     "output_type": "execute_result"
    }
   ],
   "source": [
    "# Sequential, Keras style\n",
    "\n",
    "input_size = 784\n",
    "hidden_sizes = [128, 64]\n",
    "output_size = 10\n",
    "\n",
    "model = nn.Sequential(\n",
    "    nn.Linear(input_size, hidden_sizes[0]),\n",
    "    nn.ReLU(),\n",
    "    nn.Linear(hidden_sizes[0], hidden_sizes[1]),\n",
    "    nn.ReLU(),\n",
    "    nn.Linear(hidden_sizes[1], output_size)  # logit score\n",
    ")\n",
    "model"
   ]
  },
  {
   "attachments": {},
   "cell_type": "markdown",
   "metadata": {
    "cell_id": "00032-a93c3d43-97a3-49e5-aaf4-a795f2b842ed",
    "deepnote_cell_type": "markdown",
    "tags": []
   },
   "source": [
    "A little bit about the mathematical detail: The image vector of size 784 are transformed into intermediate output vector of length 128 then 64 by performing a matrix multiplication of inputs matrix. Thus, input and layer1 outputs have linear relationship, i.e., each element of layer outputs is a weighted sum of elements from inputs. Thus, even as we train the model and modify the weights, layer1 can only capture linear relationships between inputs and outputs."
   ]
  },
  {
   "attachments": {},
   "cell_type": "markdown",
   "metadata": {
    "cell_id": "00035-1a830b36-8ac0-4963-bd21-4ff5558eded7",
    "deepnote_cell_type": "markdown",
    "tags": []
   },
   "source": [
    "Activation function such as **Rectified Linear Unit (ReLU)** is used to introduce non-linearity to the model. It has the formula `relu(x) = max(0,x)` i.e. it simply replaces negative values in a given tensor with the value 0. We refer to ReLU as the activation function, because for each input certain outputs are activated (those with non-zero values) while others turned off (those with zero values). ReLU can be seen visually as follows:\n",
    "\n",
    "![](assets/2021-08-27-mnist-digit-pytorch/relu.png)"
   ]
  },
  {
   "attachments": {},
   "cell_type": "markdown",
   "metadata": {
    "cell_id": "00038-35f8eb7b-4a25-47e2-a662-5199064a3327",
    "deepnote_cell_type": "markdown",
    "tags": []
   },
   "source": [
    "The output layer returns a batch of vectors of size 10. This predicted output is then being compared with actual label, quantified by using **`nn.CrossEntropyLoss()`**. It combines `LogSoftmax` and `NLLLoss` (Negative Log Likelihood Loss) in one single class.\n",
    "\n",
    "The loss value is used to update the parameter weights in the model. The parameter update algorithm can be implemented via an optimizer. In this case, we are using **`torch.optim.Adam()`** with learning rate (`lr=0.001`)."
   ]
  },
  {
   "cell_type": "code",
   "execution_count": 10,
   "metadata": {
    "cell_id": "00015-7fa1979b-f1f6-4127-9181-9339f1fe2647",
    "deepnote_cell_type": "code",
    "deepnote_to_be_reexecuted": false,
    "execution_millis": 476138288,
    "execution_start": 1629447752928,
    "source_hash": "c29ccb40",
    "tags": []
   },
   "outputs": [],
   "source": [
    "# specify loss function (cross-entropy)\n",
    "criterion = nn.CrossEntropyLoss()\n",
    "\n",
    "# specify optimizer (Adam) and learning rate = 0.001\n",
    "optimizer = torch.optim.Adam(model.parameters(), lr=0.001)"
   ]
  },
  {
   "attachments": {},
   "cell_type": "markdown",
   "metadata": {
    "cell_id": "00016-7486aca8-e1ab-485e-9643-888b4352c1a1",
    "deepnote_cell_type": "markdown",
    "tags": []
   },
   "source": [
    "# Train the Model"
   ]
  },
  {
   "attachments": {},
   "cell_type": "markdown",
   "metadata": {
    "cell_id": "00039-f69be028-7bb3-429f-af30-c391b18e26c7",
    "deepnote_cell_type": "markdown",
    "tags": []
   },
   "source": [
    "Using `torch`, we have to manually loop the data per epoch to **train the model**. Here are the training loop for one epoch:\n",
    "\n",
    "1. Clear gradients of all optimized variables from `optimizer`\n",
    "2. Forward pass: compute predicted output by passing input data to the `model`\n",
    "3. Calculate the loss based on specified `criterion`\n",
    "4. Backward pass: compute gradient of the loss with respect to `model` parameters\n",
    "5. Perform parameter update using `optimizer` algorithm\n",
    "6. Accumulate training loss and accuracy\n",
    "\n",
    "Inside the training loop, we also **validate the model** by performing the following steps:\n",
    "\n",
    "1. Forward pass: compute predicted output by passing input data to the `model`\n",
    "2. Calculate the loss based on specified `criterion`\n",
    "3. Accumulate validation loss and accuracy\n",
    "\n",
    "Special notes:\n",
    "\n",
    "- If you use `Dropout` or `BatchNorm` layer, don't forget to use `model.train()` when training the model and `model.eval()` when validating/testing the model so that the layer behaves accordingly.\n",
    "- Don't forget to set `torch.no_grad()` before validating the model to disable the gradient calculation since we are not updating the parameters."
   ]
  },
  {
   "attachments": {},
   "cell_type": "markdown",
   "metadata": {
    "cell_id": "00040-c51e2690-f67c-4be0-a1d0-1f6100238c15",
    "deepnote_cell_type": "markdown",
    "tags": []
   },
   "source": [
    "But first let's us define `evaluate_accuracy` to calculate accuracy given the predicted `logits` and `y_true` actual label."
   ]
  },
  {
   "cell_type": "code",
   "execution_count": 11,
   "metadata": {
    "cell_id": "00019-d783395d-8dbe-4f98-b7ed-bf5498c390a3",
    "deepnote_cell_type": "code",
    "deepnote_to_be_reexecuted": false,
    "execution_millis": 1,
    "execution_start": 1629447752934,
    "source_hash": "e2088c9c",
    "tags": []
   },
   "outputs": [],
   "source": [
    "def evaluate_accuracy(logits, y_true):\n",
    "    # get index with the largest logit value PER OBSERVATION\n",
    "    _, y_pred = torch.max(logits, dim=1)\n",
    "\n",
    "    # calculate proportion of correct prediction\n",
    "    correct_pred = (y_pred == y_true).float()\n",
    "    acc = correct_pred.sum() / len(correct_pred)\n",
    "\n",
    "    return acc * 100"
   ]
  },
  {
   "attachments": {},
   "cell_type": "markdown",
   "metadata": {
    "cell_id": "00042-197fb939-d890-45ec-aec4-7e42f9ffc10a",
    "deepnote_cell_type": "markdown",
    "tags": []
   },
   "source": [
    "Define training loop with the following parameters:\n",
    "\n",
    "- `model`: untrained model\n",
    "- `train_loader`: data train of a `DataLoader` object\n",
    "- `val_loader`: data validation of a `DataLoader` object\n",
    "- `criterion`: loss function to be optimized\n",
    "- `optimizer`: optimization algorithm to used on the `model` parameters\n",
    "- `n_epochs`: number of training epochs\n",
    "- `model_file_name`: file name of serialized model. During the training loop, model with the lowest validation loss will be saved as a serialized model with `.pt` extension."
   ]
  },
  {
   "cell_type": "code",
   "execution_count": 13,
   "metadata": {
    "cell_id": "00020-2a5077d4-cd26-456a-a6ed-71d260ba1c41",
    "deepnote_cell_type": "code",
    "deepnote_to_be_reexecuted": false,
    "execution_millis": 1,
    "execution_start": 1628971614659,
    "source_hash": "f63f9075",
    "tags": []
   },
   "outputs": [],
   "source": [
    "def train(model, train_loader, val_loader, criterion, optimizer, n_epochs, model_file_name='model.pt'):\n",
    "    # initialize container variable for model performance results per epoch\n",
    "    history = {\n",
    "        'n_epochs': n_epochs,\n",
    "        'loss': {\n",
    "            'train': [],\n",
    "            'val': []\n",
    "        },\n",
    "        'acc': {\n",
    "            'train': [],\n",
    "            'val': []\n",
    "        }\n",
    "    }\n",
    "\n",
    "    # initialize tracker for minimum validation loss\n",
    "    val_loss_min = np.Inf\n",
    "\n",
    "    # loop per epoch\n",
    "    for epoch in range(n_epochs):\n",
    "        # initialize tracker for training performance\n",
    "        train_acc = 0\n",
    "        train_loss = 0\n",
    "\n",
    "        ###################\n",
    "        # train the model #\n",
    "        ###################\n",
    "\n",
    "        # prepare model for training\n",
    "        model.train()\n",
    "\n",
    "        # loop for each batch\n",
    "        for data, target in train_loader:\n",
    "            # STEP 1: clear gradients\n",
    "            optimizer.zero_grad()\n",
    "            # STEP 2: forward pass\n",
    "            output = model(data)\n",
    "            # STEP 3: calculate the loss\n",
    "            loss = criterion(output, target)\n",
    "            # STEP 4: backward pass\n",
    "            loss.backward()\n",
    "            # STEP 5: perform parameter update\n",
    "            optimizer.step()\n",
    "            # STEP 6: accumulate training loss and accuracy\n",
    "            train_loss += loss.item() * data.size(0)\n",
    "            acc = evaluate_accuracy(output, target)\n",
    "            train_acc += acc.item() * data.size(0)\n",
    "\n",
    "        ######################\n",
    "        # validate the model #\n",
    "        ######################\n",
    "\n",
    "        # disable gradient calculation\n",
    "        with torch.no_grad():\n",
    "            # initialize tracker for validation performance\n",
    "            val_acc = 0\n",
    "            val_loss = 0\n",
    "\n",
    "            # prepare model for evaluation\n",
    "            model.eval()\n",
    "\n",
    "            # loop for each batch\n",
    "            for data, target in val_loader:\n",
    "                # STEP 1: forward pass\n",
    "                output = model(data)\n",
    "                # STEP 2: calculate the loss\n",
    "                loss = criterion(output, target)\n",
    "                # STEP 3: accumulate validation loss and accuracy\n",
    "                val_loss += loss.item() * data.size(0)\n",
    "                acc = evaluate_accuracy(output, target)\n",
    "                val_acc += acc.item() * data.size(0)\n",
    "\n",
    "        ####################\n",
    "        # model evaluation #\n",
    "        ####################\n",
    "\n",
    "        # calculate average loss over an epoch\n",
    "        train_loss /= len(train_loader.sampler)\n",
    "        val_loss /= len(val_loader.sampler)\n",
    "        history['loss']['train'].append(train_loss)\n",
    "        history['loss']['val'].append(val_loss)\n",
    "\n",
    "        # calculate average accuracy over an epoch\n",
    "        train_acc /= len(train_loader.sampler)\n",
    "        val_acc /= len(val_loader.sampler)\n",
    "        history['acc']['train'].append(train_acc)\n",
    "        history['acc']['val'].append(val_acc)\n",
    "\n",
    "        # print training progress per epoch\n",
    "        print(f'Epoch {epoch+1:03} | Train Loss: {train_loss:.5f} | Val Loss: {val_loss:.5f} | Train Acc: {train_acc:.2f} | Val Acc: {val_acc:.2f}')\n",
    "\n",
    "        # save model if validation loss has decreased\n",
    "        if val_loss <= val_loss_min:\n",
    "            print(\n",
    "                f'Validation loss decreased ({val_loss_min:.5f} --> {val_loss:.5f})  Saving model to {model_file_name}...')\n",
    "            torch.save(model.state_dict(), model_file_name)\n",
    "            val_loss_min = val_loss\n",
    "\n",
    "        print()\n",
    "\n",
    "    # return model performance history\n",
    "    return history"
   ]
  },
  {
   "cell_type": "code",
   "execution_count": 14,
   "metadata": {
    "cell_id": "00020-11beb9c3-5bb3-47ee-be0e-e0943986fa72",
    "deepnote_cell_type": "code",
    "deepnote_to_be_reexecuted": false,
    "execution_millis": 93453,
    "execution_start": 1628971614705,
    "source_hash": "b6765ecd",
    "tags": []
   },
   "outputs": [
    {
     "name": "stdout",
     "output_type": "stream",
     "text": [
      "Epoch 001 | Train Loss: 0.35883 | Val Loss: 0.20376 | Train Acc: 89.62 | Val Acc: 93.79\n",
      "Validation loss decreased (inf --> 0.20376)  Saving model to ./cache/model-mnist-digit.pt...\n",
      "\n",
      "Epoch 002 | Train Loss: 0.15089 | Val Loss: 0.16123 | Train Acc: 95.35 | Val Acc: 95.07\n",
      "Validation loss decreased (0.20376 --> 0.16123)  Saving model to ./cache/model-mnist-digit.pt...\n",
      "\n",
      "Epoch 003 | Train Loss: 0.10185 | Val Loss: 0.12946 | Train Acc: 96.93 | Val Acc: 95.89\n",
      "Validation loss decreased (0.16123 --> 0.12946)  Saving model to ./cache/model-mnist-digit.pt...\n",
      "\n",
      "Epoch 004 | Train Loss: 0.07460 | Val Loss: 0.14482 | Train Acc: 97.63 | Val Acc: 95.64\n",
      "\n",
      "Epoch 005 | Train Loss: 0.05526 | Val Loss: 0.12973 | Train Acc: 98.21 | Val Acc: 96.35\n",
      "\n",
      "Epoch 006 | Train Loss: 0.04546 | Val Loss: 0.12759 | Train Acc: 98.53 | Val Acc: 96.62\n",
      "Validation loss decreased (0.12946 --> 0.12759)  Saving model to ./cache/model-mnist-digit.pt...\n",
      "\n",
      "Epoch 007 | Train Loss: 0.03643 | Val Loss: 0.11135 | Train Acc: 98.82 | Val Acc: 97.10\n",
      "Validation loss decreased (0.12759 --> 0.11135)  Saving model to ./cache/model-mnist-digit.pt...\n",
      "\n",
      "Epoch 008 | Train Loss: 0.02930 | Val Loss: 0.12985 | Train Acc: 99.03 | Val Acc: 96.85\n",
      "\n",
      "Epoch 009 | Train Loss: 0.02423 | Val Loss: 0.12660 | Train Acc: 99.21 | Val Acc: 96.73\n",
      "\n",
      "Epoch 010 | Train Loss: 0.02264 | Val Loss: 0.14553 | Train Acc: 99.26 | Val Acc: 96.67\n",
      "\n",
      "Epoch 011 | Train Loss: 0.01638 | Val Loss: 0.17104 | Train Acc: 99.46 | Val Acc: 96.49\n",
      "\n",
      "Epoch 012 | Train Loss: 0.01987 | Val Loss: 0.14695 | Train Acc: 99.32 | Val Acc: 96.95\n",
      "\n",
      "Epoch 013 | Train Loss: 0.01685 | Val Loss: 0.19270 | Train Acc: 99.49 | Val Acc: 95.95\n",
      "\n",
      "Epoch 014 | Train Loss: 0.01374 | Val Loss: 0.16405 | Train Acc: 99.56 | Val Acc: 96.89\n",
      "\n",
      "Epoch 015 | Train Loss: 0.01417 | Val Loss: 0.16505 | Train Acc: 99.53 | Val Acc: 96.74\n",
      "\n",
      "Epoch 016 | Train Loss: 0.01298 | Val Loss: 0.18122 | Train Acc: 99.58 | Val Acc: 96.83\n",
      "\n",
      "Epoch 017 | Train Loss: 0.00903 | Val Loss: 0.15337 | Train Acc: 99.71 | Val Acc: 97.31\n",
      "\n",
      "Epoch 018 | Train Loss: 0.01495 | Val Loss: 0.22671 | Train Acc: 99.55 | Val Acc: 96.41\n",
      "\n",
      "Epoch 019 | Train Loss: 0.01503 | Val Loss: 0.16429 | Train Acc: 99.51 | Val Acc: 96.95\n",
      "\n",
      "Epoch 020 | Train Loss: 0.00859 | Val Loss: 0.19638 | Train Acc: 99.74 | Val Acc: 96.99\n",
      "\n"
     ]
    }
   ],
   "source": [
    "history = train(\n",
    "    model, train_loader, val_loader, criterion, optimizer, n_epochs=20,\n",
    "    model_file_name='./cache/model-mnist-digit.pt'\n",
    ")"
   ]
  },
  {
   "cell_type": "code",
   "execution_count": 15,
   "metadata": {
    "cell_id": "00040-777bb825-1eee-4e1c-856e-c8c5e09d6680",
    "deepnote_cell_type": "code",
    "tags": []
   },
   "outputs": [],
   "source": [
    "# save history dictionary as pickle file\n",
    "with open('./cache/history-mnist-digit.pickle', 'wb') as f:\n",
    "    pickle.dump(history, f, protocol=pickle.HIGHEST_PROTOCOL)"
   ]
  },
  {
   "attachments": {},
   "cell_type": "markdown",
   "metadata": {
    "cell_id": "00045-37ae4e07-9651-4fa8-a810-7350a9a437a7",
    "deepnote_cell_type": "markdown",
    "tags": []
   },
   "source": [
    "Visualize the loss and accuracy from `history` to see the model performance for each epoch."
   ]
  },
  {
   "cell_type": "code",
   "execution_count": 16,
   "metadata": {
    "cell_id": "00023-5eadefac-e0c8-4e29-b7ea-9473e52bd06c",
    "deepnote_cell_type": "code",
    "deepnote_to_be_reexecuted": false,
    "execution_millis": 498,
    "execution_start": 1629447758154,
    "source_hash": "19a34daf",
    "tags": []
   },
   "outputs": [
    {
     "data": {
      "image/png": "[encoded data removed]",
      "text/plain": [
       "<Figure size 1800x600 with 2 Axes>"
      ]
     },
     "metadata": {},
     "output_type": "display_data"
    }
   ],
   "source": [
    "# collapse-hide\n",
    "# load previously saved history dictionary\n",
    "with open('./cache/history-mnist-digit.pickle', 'rb') as f:\n",
    "    history = pickle.load(f)\n",
    "\n",
    "# visualization\n",
    "epoch_list = range(1, history['n_epochs']+1)\n",
    "\n",
    "fig, axes = plt.subplots(1, 2, figsize=(18, 6))\n",
    "for ax, metric in zip(axes, ['loss', 'acc']):\n",
    "    ax.plot(epoch_list, history[metric]['train'], label=f\"train_{metric}\")\n",
    "    ax.plot(epoch_list, history[metric]['val'], label=f\"val_{metric}\")\n",
    "    ax.set_xlabel('epoch')\n",
    "    ax.set_ylabel(metric)\n",
    "    ax.legend()"
   ]
  },
  {
   "attachments": {},
   "cell_type": "markdown",
   "metadata": {
    "cell_id": "00047-7c052b65-b0cd-4c4f-a6d3-ea949bfb825b",
    "deepnote_cell_type": "markdown",
    "tags": []
   },
   "source": [
    "From the visualization, we can deduct that the model is a good enough since the difference of model performance on training and validation is not too much different, and the accuracy is converging at 96-97%."
   ]
  },
  {
   "attachments": {},
   "cell_type": "markdown",
   "metadata": {
    "cell_id": "00024-b6e63891-c106-4408-a876-22634dbb785e",
    "deepnote_cell_type": "markdown",
    "tags": []
   },
   "source": [
    "# Test the Model"
   ]
  },
  {
   "attachments": {},
   "cell_type": "markdown",
   "metadata": {
    "cell_id": "00049-d1add3e1-42f5-44cd-b100-a33087e5b6ef",
    "deepnote_cell_type": "markdown",
    "tags": []
   },
   "source": [
    "In this section, we are going to test the model performance by using confusion matrix. Here are the steps:\n",
    "\n",
    "1. Forward pass: compute predicted output by passing input data to the **trained** `model`\n",
    "2. Get predicted label by retrieve index with the largest logit value per observation\n",
    "3. Append actual and predicted label to `y_test` and `y_pred` respectively"
   ]
  },
  {
   "cell_type": "code",
   "execution_count": 17,
   "metadata": {
    "cell_id": "00023-89c9586b-0f02-4ab9-94ba-581764f30d9e",
    "deepnote_cell_type": "code",
    "deepnote_to_be_reexecuted": false,
    "execution_millis": 24,
    "execution_start": 1629447763230,
    "source_hash": "6c1d125c",
    "tags": []
   },
   "outputs": [
    {
     "data": {
      "text/plain": [
       "<All keys matched successfully>"
      ]
     },
     "execution_count": 17,
     "metadata": {},
     "output_type": "execute_result"
    }
   ],
   "source": [
    "# load the best model\n",
    "model.load_state_dict(torch.load('./cache/model-mnist-digit.pt'))"
   ]
  },
  {
   "cell_type": "code",
   "execution_count": 18,
   "metadata": {
    "cell_id": "00025-579d9054-2159-4b3e-af99-663262c87612",
    "deepnote_cell_type": "code",
    "deepnote_to_be_reexecuted": false,
    "execution_millis": 443,
    "execution_start": 1629447765791,
    "source_hash": "fbbe2310",
    "tags": []
   },
   "outputs": [],
   "source": [
    "y_test = []\n",
    "y_pred = []\n",
    "\n",
    "# disable gradient calculation\n",
    "with torch.no_grad():\n",
    "    # prepare model for evaluation\n",
    "    model.eval()\n",
    "\n",
    "    # loop for each data\n",
    "    for data, target in test_loader:\n",
    "        # STEP 1: forward pass\n",
    "        output = model(data)\n",
    "        # STEP 2: get predicted label\n",
    "        _, label = torch.max(output, dim=1)\n",
    "        # STEP 3: append actual and predicted label\n",
    "        y_test += target.numpy().tolist()\n",
    "        y_pred += label.numpy().tolist()"
   ]
  },
  {
   "attachments": {},
   "cell_type": "markdown",
   "metadata": {
    "cell_id": "00052-003f3060-15b4-4bda-97fb-a8f7f9103377",
    "deepnote_cell_type": "markdown",
    "tags": []
   },
   "source": [
    "Create a confusion matrix heatmap using `seaborn` and classification report by using `sklearn` to know the final model performance on test data."
   ]
  },
  {
   "cell_type": "code",
   "execution_count": 19,
   "metadata": {
    "cell_id": "00027-bca38ce6-df6e-4bc1-878c-d03a89ba8e0c",
    "deepnote_cell_type": "code",
    "deepnote_to_be_reexecuted": false,
    "execution_millis": 877,
    "execution_start": 1629448146336,
    "source_hash": "faad80df",
    "tags": []
   },
   "outputs": [
    {
     "data": {
      "image/png": "[encoded data removed]",
      "text/plain": [
       "<Figure size 1000x800 with 2 Axes>"
      ]
     },
     "metadata": {},
     "output_type": "display_data"
    }
   ],
   "source": [
    "# collapse-hide\n",
    "plt.subplots(figsize=(10, 8))\n",
    "ax = sns.heatmap(confusion_matrix(y_test, y_pred), annot=True, fmt=\"d\")\n",
    "ax.set_xlabel(\"Predicted Label\")\n",
    "ax.set_ylabel(\"Actual Label\")\n",
    "plt.show()"
   ]
  },
  {
   "cell_type": "code",
   "execution_count": 20,
   "metadata": {
    "cell_id": "00027-3fa978ed-3aa5-4579-94dd-4e8ea0615f7e",
    "deepnote_cell_type": "code",
    "deepnote_to_be_reexecuted": false,
    "execution_millis": 46,
    "execution_start": 1629448153350,
    "source_hash": "13ae2281",
    "tags": []
   },
   "outputs": [
    {
     "name": "stdout",
     "output_type": "stream",
     "text": [
      "              precision    recall  f1-score   support\n",
      "\n",
      "           0       0.99      0.99      0.99       811\n",
      "           1       0.99      0.98      0.98       938\n",
      "           2       0.97      0.97      0.97       870\n",
      "           3       0.98      0.94      0.96       864\n",
      "           4       0.98      0.96      0.97       857\n",
      "           5       0.94      0.98      0.96       681\n",
      "           6       0.99      0.98      0.98       782\n",
      "           7       0.96      0.98      0.97       883\n",
      "           8       0.95      0.96      0.96       860\n",
      "           9       0.94      0.96      0.95       854\n",
      "\n",
      "    accuracy                           0.97      8400\n",
      "   macro avg       0.97      0.97      0.97      8400\n",
      "weighted avg       0.97      0.97      0.97      8400\n",
      "\n"
     ]
    }
   ],
   "source": [
    "print(classification_report(y_test, y_pred))"
   ]
  },
  {
   "attachments": {},
   "cell_type": "markdown",
   "metadata": {
    "cell_id": "00027-5359ca02-ee03-4955-81e2-d6196e71a386",
    "deepnote_cell_type": "markdown",
    "tags": []
   },
   "source": [
    "Eventually, the model achieves 97% accuracy and other metrics reach >= 92% on unseen data."
   ]
  },
  {
   "attachments": {},
   "cell_type": "markdown",
   "metadata": {
    "cell_id": "00029-cb30984d-3c83-4888-a5fb-254df5fa29a0",
    "deepnote_cell_type": "markdown",
    "tags": []
   },
   "source": [
    "# Predict the Unlabeled Data"
   ]
  },
  {
   "attachments": {},
   "cell_type": "markdown",
   "metadata": {
    "cell_id": "00057-d272f6fe-dcb4-4036-aa6f-05732d7bb894",
    "deepnote_cell_type": "markdown",
    "tags": []
   },
   "source": [
    "In this last section, we use the trained model to predict the unlabeled data from `test.csv`, which only consists 784 columns of pixel without the actual label."
   ]
  },
  {
   "cell_type": "code",
   "execution_count": 21,
   "metadata": {
    "cell_id": "00030-cc7edc59-8d81-4129-b9ef-0c9bdc30b11e",
    "deepnote_cell_type": "code",
    "deepnote_to_be_reexecuted": false,
    "execution_millis": 1663,
    "execution_start": 1629448277442,
    "source_hash": "1cee7086",
    "tags": []
   },
   "outputs": [
    {
     "name": "stdout",
     "output_type": "stream",
     "text": [
      "torch.Size([28000, 784])\n"
     ]
    }
   ],
   "source": [
    "# load test.csv\n",
    "mnist_data_unlabeled = MNISTDataset(\"./mnist/test.csv\")\n",
    "unlabeled_loader = DataLoader(mnist_data_unlabeled, batch_size=1, shuffle=True)\n",
    "\n",
    "print(mnist_data_unlabeled.X.size())"
   ]
  },
  {
   "attachments": {},
   "cell_type": "markdown",
   "metadata": {
    "cell_id": "00059-3d761a25-d23d-4528-b8bd-27ee4c2ef1ec",
    "deepnote_cell_type": "markdown",
    "tags": []
   },
   "source": [
    "Each image is feeded into the model and `F.softmax` activation function will be applied on the output value to convert **logit scores to probability**. The visualization tells us the predicted probability given an image, and then class with the highest probability will be the final predicted label of that image."
   ]
  },
  {
   "cell_type": "code",
   "execution_count": 27,
   "metadata": {
    "cell_id": "00031-e6361aa6-2470-4b0a-8dd8-23867ef550ea",
    "deepnote_cell_type": "code",
    "deepnote_to_be_reexecuted": false,
    "execution_millis": 968,
    "execution_start": 1629448280606,
    "source_hash": "1d1de797",
    "tags": []
   },
   "outputs": [
    {
     "data": {
      "image/png": "[encoded data removed]",
      "text/plain": [
       "<Figure size 800x400 with 2 Axes>"
      ]
     },
     "metadata": {},
     "output_type": "display_data"
    },
    {
     "name": "stdout",
     "output_type": "stream",
     "text": [
      "0.12885642051696777\n",
      "0.12885642051696777\n"
     ]
    }
   ],
   "source": [
    "import time\n",
    "# loop data\n",
    "start = time.time()\n",
    "for idx in range(1):\n",
    "    start2 = time.time()\n",
    "    # get image from loader\n",
    "    image = next(iter(unlabeled_loader))\n",
    "    image = image.reshape((28, 28))\n",
    "\n",
    "    ##############\n",
    "    # prediction #\n",
    "    ##############\n",
    "\n",
    "    with torch.no_grad():\n",
    "        # forward pass\n",
    "        output = model(image.reshape(1, -1))\n",
    "        # calculate probability\n",
    "        prob = F.softmax(output, dim=1)\n",
    "\n",
    "    #################\n",
    "    # visualization #\n",
    "    #################\n",
    "\n",
    "    fig, axes = plt.subplots(1, 2, figsize=(8, 4))\n",
    "\n",
    "    # show digit image\n",
    "    axes[0].imshow(image, cmap=\"gray\")\n",
    "    axes[0].axis(\"off\")\n",
    "\n",
    "    # predicted probability barplot\n",
    "    axes[1].barh(range(0, 10), prob.reshape(-1))\n",
    "    axes[1].invert_yaxis()\n",
    "    axes[1].set_yticks(range(0, 10))\n",
    "    axes[1].set_xlabel(\"Predicted Probability\")\n",
    "\n",
    "    plt.tight_layout()\n",
    "    plt.show()\n",
    "\n",
    "    end2 = time.time()\n",
    "    print(end2 - start2)\n",
    "\n",
    "end = time.time()\n",
    "print(end - start)"
   ]
  },
  {
   "attachments": {},
   "cell_type": "markdown",
   "metadata": {
    "cell_id": "00056-04c8a3ee-04ae-4b89-be6a-45f8739429f4",
    "deepnote_cell_type": "markdown",
    "tags": []
   },
   "source": [
    "# References"
   ]
  },
  {
   "attachments": {},
   "cell_type": "markdown",
   "metadata": {
    "cell_id": "00057-d962454a-8705-42d3-b368-84ad7ca49f79",
    "deepnote_cell_type": "markdown",
    "tags": []
   },
   "source": [
    "- [PyTorch Installation](https://pytorch.org/get-started/locally/)\n",
    "- [MNIST Digit Recognizer Dataset](https://www.kaggle.com/c/digit-recognizer/data)\n",
    "- [Writing Custom Datasets, DataLoaders, and Transforms](https://pytorch.org/tutorials/beginner/data_loading_tutorial.html)"
   ]
  },
  {
   "attachments": {},
   "cell_type": "markdown",
   "metadata": {},
   "source": [
    "# Further Readings"
   ]
  },
  {
   "attachments": {},
   "cell_type": "markdown",
   "metadata": {},
   "source": [
    "There's a lot of scope to experiment here, and I encourage you to use the interactive nature of Jupyter to play around with the various parameters. Here are a few ideas:\n",
    "\n",
    "* Try changing the size of the hidden layer, or add more hidden layers and see if you can achieve a higher accuracy.\n",
    "\n",
    "* Try changing the batch size and learning rate to see if you can achieve the same accuracy in fewer epochs.\n",
    "\n",
    "* Compare the training times on a CPU vs. GPU. Do you see a significant difference. How does it vary with the size of the dataset and the size of the model (no. of weights and parameters)?\n",
    "\n",
    "* Try building a model for a different dataset, such as the [CIFAR10 or CIFAR100 datasets](https://www.cs.toronto.edu/~kriz/cifar.html).\n",
    "\n",
    "\n",
    "Here are some references for further reading:\n",
    "\n",
    "* [A visual proof that neural networks can compute any function](http://neuralnetworksanddeeplearning.com/chap4.html), also known as the Universal Approximation Theorem.\n",
    "\n",
    "* [But what *is* a neural network?](https://www.youtube.com/watch?v=aircAruvnKk) - A visual and intuitive introduction to what neural networks are and what the intermediate layers represent\n",
    "\n",
    "* [Stanford CS229 Lecture notes on Backpropagation](http://cs229.stanford.edu/notes/cs229-notes-backprop.pdf) - for a more mathematical treatment of how gradients are calculated and weights are updated for neural networks with multiple layers."
   ]
  }
 ],
 "metadata": {
  "deepnote": {
   "is_reactive": false
  },
  "deepnote_execution_queue": [],
  "deepnote_notebook_id": "f26ade68-b7b7-4117-b2d8-48adcee365c0",
  "kernelspec": {
   "display_name": "Python 3 (ipykernel)",
   "language": "python",
   "name": "python3"
  },
  "language_info": {
   "codemirror_mode": {
    "name": "ipython",
    "version": 3
   },
   "file_extension": ".py",
   "mimetype": "text/x-python",
   "name": "python",
   "nbconvert_exporter": "python",
   "pygments_lexer": "ipython3",
   "version": "3.10.11"
  },
  "toc": {
   "base_numbering": 1,
   "nav_menu": {},
   "number_sections": true,
   "sideBar": true,
   "skip_h1_title": false,
   "title_cell": "Table of Contents",
   "title_sidebar": "Contents",
   "toc_cell": false,
   "toc_position": {},
   "toc_section_display": true,
   "toc_window_display": false
  }
 },
 "nbformat": 4,
 "nbformat_minor": 4
}
