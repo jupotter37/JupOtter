{
 "cells": [
  {
   "cell_type": "markdown",
   "metadata": {},
   "source": [
    "# Lab 4a: Data Modeling\n",
    "\n",
    "** Introduction **\n",
    "\n",
    "In this lab you will be asked to make [ER diagrams](https://en.wikipedia.org/wiki/Entity%E2%80%93relationship_model) and star schemas. You will learn to identify the key elements in data preprocessing to make it more structured and consistent.\n",
    "\n",
    "** Objective **\n",
    "\n",
    "Understand modeling of data, which is a key data preprocessing step in the data pipeline.\n",
    "\n",
    "** Tasks **\n",
    "1. To draw an entity relationship (ER) Diagram.\n",
    "1. To design a star schema\n",
    "\n",
    "** Note **\n",
    "We recommended using [Google Drawings](https://drawings.google.com), which is an online image creator that can be used to draw ER diagrams and schemas."
   ]
  },
  {
   "cell_type": "markdown",
   "metadata": {},
   "source": [
    "### Part 4a.1: Entity Relationship (ER) Diagram: \n",
    "\n",
    "#### Example:\n",
    "Lets consider a Movie Database of a website like IMDB. For simplicity, lets assume each movie casts at least 5 actors.\n",
    "\n",
    "The ER Diagram for this scenario can be shown as follows:\n",
    "\n",
    "<img src=\"ER Diagram_example.jpg\", width = \"650\">\n",
    "\n",
    "\n"
   ]
  },
  {
   "cell_type": "markdown",
   "metadata": {},
   "source": [
    "**TASK 1**\n",
    "\n",
    "Zeke finds data science very intriguing and  wants to embark on a journey into the field by working as a summer intern for PlanetNext, which is a famous car manufacturing company.\n",
    "\n",
    "His manager gave the following data for him to interpret:\n",
    "\n",
    "Each factory at PlanetNext manufactures at least 100 cars every day. Each of these cars is manufactured and assembled exclusively in at most one factory. The engineers at the factory assemble at least 10 cars daily. Each car requires at most 5 engineers to assemble the model. The engineers are involved in assembling multiple cars and aren’t exclusively assigned to specific cars.\n",
    "\n",
    "The manager wants Zeke to help PlanetNext understand the data better by modeling relationships between each of the entities, which could be identified from the data given to him.\n",
    "\n",
    "Your task here is to help Zeke identify the entities from the data and model the data by mapping relationships between the entities you have identified with an ER diagram."
   ]
  },
  {
   "cell_type": "markdown",
   "metadata": {
    "collapsed": true
   },
   "source": [
    "#### Draw an ER diagram, save your drawing as an image file and attach it to the cell below."
   ]
  },
  {
   "cell_type": "markdown",
   "metadata": {},
   "source": [
    "\n",
    "** Please include an Image file for the ER Diagram here:**\n",
    "# YOUR CODE HERE"
   ]
  },
  {
   "cell_type": "markdown",
   "metadata": {},
   "source": [
    "### Part 4a.2: Design a Star Schema:\n",
    "\n"
   ]
  },
  {
   "cell_type": "markdown",
   "metadata": {},
   "source": [
    "#### Example:\n",
    "Lets consider the Movie Database of a website like IMDB again. For simplicity, lets assume we have only actors table present which contains ID and name of each actor.\n",
    "\n",
    "The Star Schema for this scenario can be shown as follows:\n",
    "\n",
    "<img src=\"Star Schema_example.jpg\", width = \"650\">"
   ]
  },
  {
   "cell_type": "markdown",
   "metadata": {},
   "source": [
    "** TASK 2**\n",
    "\n",
    "Zeke has now finished his Summer Internship and he is now heading back to school. He has gained sufficient experience during his time and now Zeke's advisor needs his help. Zeke's advisor at Brown University tells him that he has a sample dataset and he would like to model the data. His advisor asks him to examine some flat data and determine an appropriate schema to efficiently represent that data in a SQL database. The data given by his advisor is present in `student_data.csv`\n",
    "\n",
    "Your task here is to help Zeke in building a **[star schema](https://en.wikipedia.org/wiki/Star_schema)** for this dataset."
   ]
  },
  {
   "cell_type": "markdown",
   "metadata": {},
   "source": [
    "##### Analyzing the data:\n",
    "Let's first read the csv file and display its contents. "
   ]
  },
  {
   "cell_type": "code",
   "execution_count": 1,
   "metadata": {
    "collapsed": false
   },
   "outputs": [
    {
     "data": {
      "text/html": [
       "<div>\n",
       "<style>\n",
       "    .dataframe thead tr:only-child th {\n",
       "        text-align: right;\n",
       "    }\n",
       "\n",
       "    .dataframe thead th {\n",
       "        text-align: left;\n",
       "    }\n",
       "\n",
       "    .dataframe tbody tr th {\n",
       "        vertical-align: top;\n",
       "    }\n",
       "</style>\n",
       "<table border=\"1\" class=\"dataframe\">\n",
       "  <thead>\n",
       "    <tr style=\"text-align: right;\">\n",
       "      <th></th>\n",
       "      <th>name</th>\n",
       "      <th>age</th>\n",
       "      <th>degree</th>\n",
       "      <th>course</th>\n",
       "      <th>grade</th>\n",
       "      <th>instructor</th>\n",
       "    </tr>\n",
       "  </thead>\n",
       "  <tbody>\n",
       "    <tr>\n",
       "      <th>0</th>\n",
       "      <td>Jin</td>\n",
       "      <td>25</td>\n",
       "      <td>graduate</td>\n",
       "      <td>data science</td>\n",
       "      <td>B</td>\n",
       "      <td>Ugur</td>\n",
       "    </tr>\n",
       "    <tr>\n",
       "      <th>1</th>\n",
       "      <td>Abhishek</td>\n",
       "      <td>23</td>\n",
       "      <td>graduate</td>\n",
       "      <td>data science</td>\n",
       "      <td>A</td>\n",
       "      <td>Ugur</td>\n",
       "    </tr>\n",
       "    <tr>\n",
       "      <th>2</th>\n",
       "      <td>Luke</td>\n",
       "      <td>19</td>\n",
       "      <td>undergraduate</td>\n",
       "      <td>machine learning</td>\n",
       "      <td>B</td>\n",
       "      <td>Pedro</td>\n",
       "    </tr>\n",
       "    <tr>\n",
       "      <th>3</th>\n",
       "      <td>Sherry</td>\n",
       "      <td>23</td>\n",
       "      <td>graduate</td>\n",
       "      <td>deep learning</td>\n",
       "      <td>A</td>\n",
       "      <td>Dan</td>\n",
       "    </tr>\n",
       "    <tr>\n",
       "      <th>4</th>\n",
       "      <td>Nick</td>\n",
       "      <td>22</td>\n",
       "      <td>undergraduate</td>\n",
       "      <td>deep learning</td>\n",
       "      <td>A</td>\n",
       "      <td>Dan</td>\n",
       "    </tr>\n",
       "  </tbody>\n",
       "</table>\n",
       "</div>"
      ],
      "text/plain": [
       "       name  age         degree            course grade instructor\n",
       "0       Jin   25       graduate      data science     B       Ugur\n",
       "1  Abhishek   23       graduate      data science     A       Ugur\n",
       "2      Luke   19  undergraduate  machine learning     B      Pedro\n",
       "3    Sherry   23       graduate     deep learning     A        Dan\n",
       "4      Nick   22  undergraduate     deep learning     A        Dan"
      ]
     },
     "execution_count": 1,
     "metadata": {},
     "output_type": "execute_result"
    }
   ],
   "source": [
    "import pandas as pd\n",
    "\n",
    "# read data in and show head for top 5 rows or view all rows\n",
    "df = pd.read_csv('student_data.csv', encoding='')\n",
    "df"
   ]
  },
  {
   "cell_type": "markdown",
   "metadata": {},
   "source": [
    "There are 6 columns in the csv file.  \n",
    "\n",
    "####   Draw a star schema for this dataset, save your drawing as an image file and attach it to the cell below.\n",
    "\n",
    "\n",
    "** Tips:**\n",
    "1. Your star schema should be composed of one fact table and two dimension tables. \n",
    "1. For each table, underline primary key.\n",
    "1. Specify data types for each item.\n",
    "1. Draw 1:N, N:1, N:N or 1:1 on connecting line.\n",
    "1. You can refer to [here](https://stackoverflow.com/questions/255170/markdown-and-image-alignment) for including image in markdown."
   ]
  },
  {
   "cell_type": "markdown",
   "metadata": {},
   "source": [
    "** Please include an Image file for the Star Schema here:**\n",
    "\n",
    "# YOUR CODE HERE"
   ]
  }
 ],
 "metadata": {
  "kernelspec": {
   "display_name": "Python 3",
   "language": "python",
   "name": "python3"
  },
  "language_info": {
   "codemirror_mode": {
    "name": "ipython",
    "version": 3
   },
   "file_extension": ".py",
   "mimetype": "text/x-python",
   "name": "python",
   "nbconvert_exporter": "python",
   "pygments_lexer": "ipython3",
   "version": "3.6.0"
  }
 },
 "nbformat": 4,
 "nbformat_minor": 2
}
