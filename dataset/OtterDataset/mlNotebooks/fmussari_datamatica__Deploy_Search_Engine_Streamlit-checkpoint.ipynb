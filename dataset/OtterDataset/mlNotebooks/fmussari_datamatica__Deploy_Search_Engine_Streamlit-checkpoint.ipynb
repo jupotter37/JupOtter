{
 "cells": [
  {
   "cell_type": "markdown",
   "id": "66095ca5",
   "metadata": {},
   "source": [
    "## Install Streamlit\n",
    "environment: `nbdev2`  \n",
    "```\n",
    "$ mamba install -c conda-forge streamlit\n",
    "```\n",
    "- https://stackoverflow.com/questions/73882954/streamlit-button-change-disabled-state\n",
    "- https://stackoverflow.com/questions/66718228/select-multiple-options-in-checkboxes-in-streamlit\n",
    "- https://discuss.streamlit.io/t/select-all-on-a-streamlit-multiselect/9799/2\n",
    "- https://discuss.streamlit.io/t/select-all-on-a-streamlit-multiselect/9799/2"
   ]
  },
  {
   "cell_type": "markdown",
   "id": "a50bd8d3",
   "metadata": {},
   "source": [
    "## Import Libraries"
   ]
  },
  {
   "cell_type": "code",
   "execution_count": null,
   "id": "06d65f14",
   "metadata": {},
   "outputs": [],
   "source": [
    "#| export\n",
    "import streamlit as st\n",
    "import sqlite3"
   ]
  },
  {
   "cell_type": "code",
   "execution_count": null,
   "id": "3c5dbcea",
   "metadata": {},
   "outputs": [],
   "source": [
    "#| hide\n",
    "import nbdev"
   ]
  },
  {
   "cell_type": "markdown",
   "id": "8679254d",
   "metadata": {},
   "source": [
    "## Connect to the database"
   ]
  },
  {
   "cell_type": "code",
   "execution_count": null,
   "id": "b6b45378",
   "metadata": {},
   "outputs": [],
   "source": [
    "#| export\n",
    "db_path = '/mnt/m/datamatica/posts/full-text-search-fastai-youtube-channel/'\n",
    "\n",
    "try:\n",
    "    db = sqlite3.connect(db_path + 'fastai_yt.db')\n",
    "except:\n",
    "    db = sqlite3.connect('fastai_yt.db')\n",
    "\n",
    "cur = db.cursor()"
   ]
  },
  {
   "cell_type": "code",
   "execution_count": null,
   "id": "d84346cf",
   "metadata": {},
   "outputs": [],
   "source": [
    "#| export\n",
    "playlist = cur.execute('SELECT playlist_id, playlist_name FROM playlist').fetchall()\n",
    "video = cur.execute('SELECT video_id, video_name FROM video').fetchall()\n",
    "playlist = {p: n for p, n in playlist}\n",
    "video = {p: n for p, n in video}\n",
    "pl_sel = list(playlist.values())\n",
    "pl_to_id = {v:k for k,v in playlist.items()}"
   ]
  },
  {
   "cell_type": "code",
   "execution_count": null,
   "id": "21a6baef",
   "metadata": {},
   "outputs": [
    {
     "data": {
      "text/plain": [
       "{'fast.ai APL Study Group': 'PLfYUBJiXbdtSgU6S_3l6pX-4hQYKNJZFU',\n",
       " 'Practical Deep Learning for Coders 2022': 'PLfYUBJiXbdtSvpQjSnJJ_PmDQB_VyT5iU',\n",
       " 'fast.ai live coding & tutorials': 'PLfYUBJiXbdtSLBPJ1GMx-sQWf6iNhb8mM',\n",
       " 'Practical Deep Learning for Coders (2020)': 'PLfYUBJiXbdtRL3FMB3GoWHRI8ieU6FhfM',\n",
       " 'Deep Learning from the Foundations': 'PLfYUBJiXbdtTIdtE1U8qgyxo4Jy2Y91uj',\n",
       " 'fastai v2 code walk-thrus': 'PLfYUBJiXbdtSWRCYUHh-ThVCC39bp5yiq',\n",
       " 'Practical Deep Learning for Coders 2019': 'PLfYUBJiXbdtSIJb-Qd3pw0cqCbkGeS0xn',\n",
       " 'Introduction to Machine Learning for Coders': 'PLfYUBJiXbdtSyktd8A_x0JNd6lxDcZE96',\n",
       " 'Cutting Edge Deep Learning for Coders 2': 'PLfYUBJiXbdtTttBGq-u2zeY1OTjs5e-Ia',\n",
       " 'Practical Deep Learning For Coders 2018': 'PLfYUBJiXbdtS2UQRzyrxmyVHoGW0gmLSM'}"
      ]
     },
     "execution_count": null,
     "metadata": {},
     "output_type": "execute_result"
    }
   ],
   "source": [
    "pl_to_id"
   ]
  },
  {
   "cell_type": "code",
   "execution_count": null,
   "id": "2b8ae005",
   "metadata": {},
   "outputs": [
    {
     "name": "stderr",
     "output_type": "stream",
     "text": [
      "2022-12-05 17:50:59.884 WARNING streamlit.runtime.state.session_state_proxy: Session state does not function when running a script without `streamlit run`\n"
     ]
    }
   ],
   "source": [
    "def on_ch_checkbox():\n",
    "    print('checkbox changed')\n",
    "    #st.session_state.default = pl_sel\n",
    "       \n",
    "if 'sel_all' not in st.session_state:\n",
    "    st.session_state.disabled = True\n",
    "    st.session_state.default = pl_sel"
   ]
  },
  {
   "cell_type": "code",
   "execution_count": null,
   "id": "14d8b61a",
   "metadata": {},
   "outputs": [
    {
     "name": "stderr",
     "output_type": "stream",
     "text": [
      "2022-12-05 17:50:59.943 \n",
      "  \u001b[33m\u001b[1mWarning:\u001b[0m to view this Streamlit app on a browser, run it with the following\n",
      "  command:\n",
      "\n",
      "    streamlit run /home/fmussari/mambaforge/envs/nbdev2/lib/python3.10/site-packages/ipykernel_launcher.py [ARGUMENTS]\n"
     ]
    }
   ],
   "source": [
    "#| export\n",
    "st.title('Full-Text Search fastai Youtube Playlists')\n",
    "\n",
    "# https://discuss.streamlit.io/t/select-all-on-a-streamlit-multiselect/9799/2\n",
    "\n",
    "all_options = st.checkbox(\n",
    "    \"Select all Playlists\", #on_change=on_ch_checkbox, \n",
    "    key='sel_all', value=True\n",
    ")\n",
    "\n",
    "container = st.container()\n",
    "if all_options:\n",
    "    sel_options = container.multiselect(\n",
    "        \"Select one or more Playlist(s):\", pl_sel, disabled=True)\n",
    "else:\n",
    "    sel_options = container.multiselect(\n",
    "        \"Select one or more Playlist(s):\", pl_sel, pl_sel)\n",
    "\n",
    "if all_options:\n",
    "    options = list(playlist.values())\n",
    "else: \n",
    "    options = sel_options\n",
    "\n",
    "st.write('Selected playlist(s):', options)\n"
   ]
  },
  {
   "cell_type": "code",
   "execution_count": null,
   "id": "80d816f5",
   "metadata": {},
   "outputs": [],
   "source": [
    "#| export\n",
    "def get_query(q, limit):\n",
    "    \n",
    "    search_in = 'text'\n",
    "    \n",
    "    if not( len(options)==len(pl_sel) or len(options)==0 ):\n",
    "        search_in = 'transcriptions_fts'\n",
    "        q_pl = '(playlist_id: '\n",
    "        for pl in options:\n",
    "            end = ' OR ' if pl != options[-1] else ')'\n",
    "            q_pl = q_pl + f'\"{pl_to_id[pl]}\"' + end\n",
    "        \n",
    "        q = f\"(text: {q}) AND \" + q_pl\n",
    "\n",
    "    query = f\"\"\"\n",
    "    SELECT *, HIGHLIGHT(transcriptions_fts, 3, '[', ']')\n",
    "    FROM transcriptions_fts WHERE {search_in} MATCH '{q}' ORDER BY rank\n",
    "    LIMIT \"{limit}\" \n",
    "    \"\"\"\n",
    "    return query\n",
    "\n",
    "\n",
    "def search():\n",
    "    get_query(q, 5)\n",
    "\n",
    "with st.form(\"Input\"):\n",
    "    queryText = st.text_area(\"Search query: \\ne.g. «fastc*», «fastcore OR paral*»\", height=1, max_chars=None)\n",
    "    limit_val = st.slider(\"Number of results:\", min_value=5, max_value=20)\n",
    "    btnResult = st.form_submit_button('Search')\n",
    "    \n",
    "if btnResult:\n",
    "    if not queryText:\n",
    "        st.text('Please enter a search query.')\n",
    "    else:\n",
    "        try:\n",
    "            st.text('Search query generated:')\n",
    "            # run query\n",
    "            st.write(get_query(queryText, limit_val).replace('*', '\\*'))\n",
    "            res = cur.execute(get_query(q=queryText, limit=limit_val)).fetchall()\n",
    "            st.text('Search results (click to go to YouTube):')\n",
    "\n",
    "            res_md = (\n",
    "                '  \\n  '.join([\n",
    "                '  \\n  '.join([\n",
    "                f\"{i}.- Playlist: `{playlist[each[0]]}`, Video: `{video[each[1]]}`\", \n",
    "                f\"Caption: '...[{each[4].replace('[','**').replace(']','**')}](https://youtu.be/{each[1]}?t={str(int(each[2]))})...'\", \n",
    "                '\\n'\n",
    "                ])\n",
    "                for i, each in enumerate(res)\n",
    "            ]))\n",
    "\n",
    "            st.markdown(res_md)\n",
    "        except:\n",
    "            st.text('Invalid search query.')"
   ]
  },
  {
   "cell_type": "code",
   "execution_count": null,
   "id": "ae6e35fc",
   "metadata": {},
   "outputs": [],
   "source": [
    "#| hide\n",
    "from nbdev.export import nb_export\n",
    "nb_export('_Deploy_Search_Engine_Streamlit.ipynb', lib_path='.', name='app')\n",
    "nb_export('_Deploy_Search_Engine_Streamlit.ipynb', lib_path='./fts_fastai_youtube_playlists', name='app')"
   ]
  }
 ],
 "metadata": {
  "kernelspec": {
   "display_name": "Python 3 (ipykernel)",
   "language": "python",
   "name": "python3"
  }
 },
 "nbformat": 4,
 "nbformat_minor": 5
}
