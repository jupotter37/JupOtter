{
 "cells": [
  {
   "cell_type": "markdown",
   "metadata": {},
   "source": [
    "## Sentimental Analysis\n",
    "Sentimental Analysis or in other sense assessing the sentiments of people on the basis of their statements of a particular situation is a very important and varied field in which their is a huge growth Machine Learning and Deep Learning and hence we could implement our varied models to get better results."
   ]
  },
  {
   "cell_type": "markdown",
   "metadata": {},
   "source": [
    "### Preprocess the dataset\n",
    "Here we just preprocess out dataset so that it is present in a form such that we could train our model."
   ]
  },
  {
   "cell_type": "code",
   "execution_count": 11,
   "metadata": {},
   "outputs": [],
   "source": [
    "## Reading the related reviews from the file and hence also labelling those \n",
    "## reviews as per given in numerals\n",
    "import pandas as pd\n",
    "import os\n",
    "import numpy as np\n",
    "\n",
    "basepath = 'aclImdb'\n",
    "labels = {'pos':1,'neg':0}\n",
    "df = pd.DataFrame()\n",
    "for s in ('test','train'):\n",
    "    for l in ('pos','neg'):\n",
    "        path = os.path.join(basepath,s,l)\n",
    "        for file in os.listdir(path):\n",
    "            with open(os.path.join(path,file),'r',encoding = 'utf-8') as infile:\n",
    "                txt = infile.read()\n",
    "            df = df.append([[txt,labels[l]]],ignore_index = True)\n",
    "\n",
    "df.columns = ['review','sentiment']\n",
    "## Here we just randomly shuffle our dataset and store in into a csv file so that it would be easy later to extract the dataset from their\n",
    "np.random.seed(0)\n",
    "df = df.reindex(np.random.permutation(df.index))\n",
    "df.to_csv('movie_data.csv',index = False,encoding = 'utf-8')\n",
    "## Reading the data from the csv file\n",
    "df = pd.read_csv('movie_data.csv',encoding = 'utf-8')"
   ]
  },
  {
   "cell_type": "markdown",
   "metadata": {},
   "source": [
    "### Bag of Words Model\n",
    "Here we implement the Bag of Words Model to process our dataset into a form that is correct on which to train the model, in this model we define each word as a unique number and replace the word with its unique number and hence we now we can train model with this modified dataset.\n",
    "\n",
    "### tf-idf\n",
    "Term frequency - Inverse Document Frequency keeps the frequency of the words of the dataset in a particular format so that the words which would really effect the model would be considered important while the words which aren't that important would be given a lesser weight."
   ]
  },
  {
   "cell_type": "code",
   "execution_count": 12,
   "metadata": {},
   "outputs": [],
   "source": [
    "from sklearn.feature_extraction.text import CountVectorizer\n",
    "from sklearn.feature_extraction.text import TfidfTransformer\n",
    "count = CountVectorizer()\n",
    "tfidf = TfidfTransformer(use_idf = True,norm = 'l2',smooth_idf = True)\n",
    "np.set_printoptions(precision = 2)"
   ]
  },
  {
   "cell_type": "markdown",
   "metadata": {},
   "source": [
    "### Cleaning text data\n",
    "Here we just remove the redundant symbols and text which might have come in with the required dataset and which isn't useful for training the model."
   ]
  },
  {
   "cell_type": "code",
   "execution_count": 15,
   "metadata": {},
   "outputs": [
    {
     "name": "stderr",
     "output_type": "stream",
     "text": [
      "[nltk_data] Downloading package stopwords to\n",
      "[nltk_data]     C:\\Users\\Asus\\AppData\\Roaming\\nltk_data...\n",
      "[nltk_data]   Package stopwords is already up-to-date!\n"
     ]
    }
   ],
   "source": [
    "## Here we just finally clean our remaining dataset so that it is perfect for training the model\n",
    "## we import the porter stemmer which is very widely used in NLP related tasks \n",
    "## as it shortens the long words into short words so that huge corpus of words could be shorted out\n",
    "from nltk.stem.porter import PorterStemmer\n",
    "from nltk.corpus import stopwords\n",
    "import nltk\n",
    "nltk.download('stopwords')\n",
    "import re\n",
    "## remove the redundant characters related to href\n",
    "def preprocessor(text):\n",
    "    text = re.sub('<[^>]*>','',text)\n",
    "    emoticons = re.findall('(?::|;|=)(?:-)?(?:\\)|\\(|D|P)',text)\n",
    "    text = (re.sub('[\\W]+',' ',text.lower()) + ' '.join(emoticons).replace('-',''))\n",
    "    return text\n",
    "## tokenizer that splits the sentences\n",
    "def tokenizer(text):\n",
    "    return text.split()\n",
    "## portes stemmer to shorten the long words\n",
    "porter = PorterStemmer()\n",
    "def tokenizer_porter(text):\n",
    "    return [porter.stem(word) for word in text.split()]\n",
    "## applying the preprocessor step to the dataset\n",
    "df['review'] = df['review'].apply(preprocessor)\n",
    "stop = stopwords.words('english')"
   ]
  },
  {
   "cell_type": "markdown",
   "metadata": {},
   "source": [
    "## Training the Model\n",
    "Here we just train our model on the processed dataset and evaluate its accuracy on the test dataset"
   ]
  },
  {
   "cell_type": "code",
   "execution_count": 16,
   "metadata": {},
   "outputs": [],
   "source": [
    "## dividing into training and testing dataset\n",
    "X_train = df.loc[:25000,'review'].values\n",
    "y_train = df.loc[:25000,'sentiment'].values\n",
    "X_test = df.loc[25000:,'review'].values\n",
    "y_test = df.loc[25000:,'sentiment'].values"
   ]
  },
  {
   "cell_type": "code",
   "execution_count": null,
   "metadata": {},
   "outputs": [
    {
     "name": "stdout",
     "output_type": "stream",
     "text": [
      "Fitting 5 folds for each of 48 candidates, totalling 240 fits\n"
     ]
    },
    {
     "name": "stderr",
     "output_type": "stream",
     "text": [
      "[Parallel(n_jobs=-1)]: Using backend LokyBackend with 12 concurrent workers.\n"
     ]
    }
   ],
   "source": [
    "## training the respective model\n",
    "from sklearn.model_selection import GridSearchCV\n",
    "from sklearn.pipeline import Pipeline\n",
    "from sklearn.linear_model import LogisticRegression\n",
    "from sklearn.feature_extraction.text import TfidfVectorizer\n",
    "\n",
    "tfidf = TfidfVectorizer(strip_accents = None,lowercase = False,preprocessor = None)\n",
    "param_grid = [{'vect__ngram_range':[(1,1)],\n",
    "               'vect__stop_words':[stop,None],\n",
    "               'vect__tokenizer':[tokenizer,tokenizer_porter],\n",
    "               'clf__penalty':['l1','l2'],\n",
    "               'clf__C':[1.0,10.0,100.0]},\n",
    "              {'vect__ngram_range':[(1,1)],\n",
    "               'vect__stop_words':[stop,None],\n",
    "               'vect__tokenizer':[tokenizer,tokenizer_porter],\n",
    "               'vect__use_idf':[False],\n",
    "               'vect__norm':[None],\n",
    "               'clf__penalty':['l1','l2'],\n",
    "               'clf__C':[1.0,10.0,100.0]}\n",
    "             ]\n",
    "lr_tfidf = Pipeline([('vect',tfidf),\n",
    "                     ('clf',\n",
    "                      LogisticRegression(random_state = 0,max_iter=10000))])\n",
    "gs_lr_tfidf = GridSearchCV(lr_tfidf,param_grid,scoring = 'accuracy',cv = 5,verbose = 1,n_jobs = -1)\n",
    "gs_lr_tfidf.fit(X_train,y_train)\n",
    "## Hence we have fitted our implemented model"
   ]
  },
  {
   "cell_type": "code",
   "execution_count": null,
   "metadata": {},
   "outputs": [],
   "source": [
    "## Now we evaluate our models accuracy\n",
    "print('CV accuracy: %.3f' %gs_lr_tfidf.best_score_)\n",
    "clf = gs_lr_tfidf.best_estimator_\n",
    "print('Test accuracy: %.3f' % clf.score(X_test,y_test))\n",
    "## hence we can see that the model performs quite well on the dataset"
   ]
  }
 ],
 "metadata": {
  "kernelspec": {
   "display_name": "Python 3",
   "language": "python",
   "name": "python3"
  },
  "language_info": {
   "codemirror_mode": {
    "name": "ipython",
    "version": 3
   },
   "file_extension": ".py",
   "mimetype": "text/x-python",
   "name": "python",
   "nbconvert_exporter": "python",
   "pygments_lexer": "ipython3",
   "version": "3.7.6"
  }
 },
 "nbformat": 4,
 "nbformat_minor": 4
}
