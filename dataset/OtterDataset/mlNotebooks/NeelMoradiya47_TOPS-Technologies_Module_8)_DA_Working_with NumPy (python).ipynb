{
  "nbformat": 4,
  "nbformat_minor": 0,
  "metadata": {
    "colab": {
      "provenance": []
    },
    "kernelspec": {
      "name": "python3",
      "display_name": "Python 3"
    },
    "language_info": {
      "name": "python"
    }
  },
  "cells": [
    {
      "cell_type": "markdown",
      "source": [
        "1. How to Creating a 3x3 Identity Matrix with Float Data Type?"
      ],
      "metadata": {
        "id": "svbTEjxsUOoD"
      }
    },
    {
      "cell_type": "markdown",
      "source": [
        "To create a 3x3 identity matrix with a float data type, you can use the function eye() of NumPy library. For example,"
      ],
      "metadata": {
        "id": "64w5VZqhYOxc"
      }
    },
    {
      "cell_type": "code",
      "source": [
        "import numpy as np\n",
        "\n",
        "arr = np.eye(3, dtype=float)\n",
        "print(arr)"
      ],
      "metadata": {
        "colab": {
          "base_uri": "https://localhost:8080/"
        },
        "id": "q-2vgSTSZRwy",
        "outputId": "31531904-1b2a-41d8-dd6a-1f354bf8aa80"
      },
      "execution_count": null,
      "outputs": [
        {
          "output_type": "stream",
          "name": "stdout",
          "text": [
            "[[1. 0. 0.]\n",
            " [0. 1. 0.]\n",
            " [0. 0. 1.]]\n"
          ]
        }
      ]
    },
    {
      "cell_type": "markdown",
      "source": [
        "2. Create a 1D Array with Random Values between 0 and 1."
      ],
      "metadata": {
        "id": "1XRBbcaYVWVy"
      }
    },
    {
      "cell_type": "code",
      "source": [
        "import numpy as np\n",
        "\n",
        "arr = np.random.rand(5)\n",
        "print(arr)"
      ],
      "metadata": {
        "colab": {
          "base_uri": "https://localhost:8080/"
        },
        "id": "YefEgz7lVWuT",
        "outputId": "3d0c0082-f146-4939-fae2-5703a12e0d35"
      },
      "execution_count": null,
      "outputs": [
        {
          "output_type": "stream",
          "name": "stdout",
          "text": [
            "[0.49811089 0.10261537 0.19805584 0.13105878 0.96704152]\n"
          ]
        }
      ]
    },
    {
      "cell_type": "markdown",
      "source": [
        "3. Create a 2D Array with Random Integer Values."
      ],
      "metadata": {
        "id": "7km8iIu0VeNU"
      }
    },
    {
      "cell_type": "code",
      "source": [
        "import numpy as np\n",
        "\n",
        "arr = np.random.randint(0, 11, size=(3, 4))\n",
        "print(arr)"
      ],
      "metadata": {
        "colab": {
          "base_uri": "https://localhost:8080/"
        },
        "id": "28DAfQnRVeVy",
        "outputId": "b6fed1f2-39c0-4ff3-f355-9bacb4fdab1d"
      },
      "execution_count": null,
      "outputs": [
        {
          "output_type": "stream",
          "name": "stdout",
          "text": [
            "[[1 1 9 4]\n",
            " [0 7 2 6]\n",
            " [5 8 6 0]]\n"
          ]
        }
      ]
    },
    {
      "cell_type": "markdown",
      "source": [
        "4. Creating an Array Using a Custom Function."
      ],
      "metadata": {
        "id": "MrCoOuiXV11a"
      }
    },
    {
      "cell_type": "code",
      "source": [
        "import numpy as np\n",
        "\n",
        "def custom_function(x):\n",
        "    return x**2\n",
        "\n",
        "array_size = 5\n",
        "arr = np.array([custom_function(i) for i in range(array_size)])\n",
        "print(arr)"
      ],
      "metadata": {
        "colab": {
          "base_uri": "https://localhost:8080/"
        },
        "id": "8NF019NAV206",
        "outputId": "e7c81723-d0ee-467c-a829-93c2c948d7fc"
      },
      "execution_count": null,
      "outputs": [
        {
          "output_type": "stream",
          "name": "stdout",
          "text": [
            "[ 0  1  4  9 16]\n"
          ]
        }
      ]
    },
    {
      "cell_type": "markdown",
      "source": [
        "5. Reshaping a 1D Array into a 2D Array"
      ],
      "metadata": {
        "id": "SFX69yV5WT_K"
      }
    },
    {
      "cell_type": "code",
      "source": [
        "import numpy as np\n",
        "\n",
        "array_1d = np.arange(12)\n",
        "print(\"1D Array:\")\n",
        "print(array_1d)\n",
        "\n",
        "array_2d = array_1d.reshape(3, 4)\n",
        "print(\"\\nReshaped 2D Array:\")\n",
        "print(array_2d)"
      ],
      "metadata": {
        "colab": {
          "base_uri": "https://localhost:8080/"
        },
        "id": "mmuGAKqhWUIi",
        "outputId": "2989e102-f63f-4110-f159-1566aed8e2fa"
      },
      "execution_count": null,
      "outputs": [
        {
          "output_type": "stream",
          "name": "stdout",
          "text": [
            "1D Array:\n",
            "[ 0  1  2  3  4  5  6  7  8  9 10 11]\n",
            "\n",
            "Reshaped 2D Array:\n",
            "[[ 0  1  2  3]\n",
            " [ 4  5  6  7]\n",
            " [ 8  9 10 11]]\n"
          ]
        }
      ]
    },
    {
      "cell_type": "markdown",
      "source": [
        "6. How to Creating a 3x3 Array of Ones?"
      ],
      "metadata": {
        "id": "cca_UA3RWqfK"
      }
    },
    {
      "cell_type": "markdown",
      "source": [
        "You can create a 3x3 array of ones using the ones() function of NumPy library. For example,"
      ],
      "metadata": {
        "id": "eWe2mqUxYovi"
      }
    },
    {
      "cell_type": "code",
      "source": [
        "import numpy as np\n",
        "\n",
        "ones_array = np.ones((3, 3))\n",
        "print(ones_array)"
      ],
      "metadata": {
        "colab": {
          "base_uri": "https://localhost:8080/"
        },
        "id": "ixm34dxnZMfE",
        "outputId": "74b970e9-8ef0-4a60-f651-1b6baacef2ce"
      },
      "execution_count": null,
      "outputs": [
        {
          "output_type": "stream",
          "name": "stdout",
          "text": [
            "[[1. 1. 1.]\n",
            " [1. 1. 1.]\n",
            " [1. 1. 1.]]\n"
          ]
        }
      ]
    },
    {
      "cell_type": "markdown",
      "source": [
        "7. How to get the common items between two pythons\n",
        "NumPy? Input:\n",
        "a = np. array ([1,2,3,2,3,4,3,4,5,6])\n",
        "b = np. array ([7,2,10,2,7,4,9,4,9,8])\n",
        "Expected Output:\n",
        "array ([2, 4])"
      ],
      "metadata": {
        "id": "SNU0f-VuX0k7"
      }
    },
    {
      "cell_type": "markdown",
      "source": [
        "You can find the common items between two NumPy arrays using the 'np.intersect1d' function. This function efficiently finds the intersection of the two arrays, returning only the unique common elements. For example,"
      ],
      "metadata": {
        "id": "THxet-GVYxxa"
      }
    },
    {
      "cell_type": "code",
      "source": [
        "import numpy as np\n",
        "\n",
        "a = np.array([1, 2, 3, 2, 3, 4, 3, 4, 5, 6])\n",
        "b = np.array([7, 2, 10, 2, 7, 4, 9, 4, 9, 8])\n",
        "\n",
        "common_items = np.intersect1d(a, b)\n",
        "print(common_items)"
      ],
      "metadata": {
        "colab": {
          "base_uri": "https://localhost:8080/"
        },
        "id": "98wq7Zh5ZH-y",
        "outputId": "37c8e38e-9a1c-458f-9466-33f9e27c6144"
      },
      "execution_count": null,
      "outputs": [
        {
          "output_type": "stream",
          "name": "stdout",
          "text": [
            "[2 4]\n"
          ]
        }
      ]
    },
    {
      "cell_type": "markdown",
      "source": [
        "8. From array a remove all items present in\n",
        "array b Input:\n",
        "a = np. array ([1,2,3,4,5])\n",
        "b = np. array ([5,6,7,8,9])\n",
        "Expected Output:\n",
        "array ([1,2,3,4]"
      ],
      "metadata": {
        "id": "ZLrBV7bdZaOi"
      }
    },
    {
      "cell_type": "code",
      "source": [
        "import numpy as np\n",
        "\n",
        "a = np.array([1, 2, 3, 4, 5])\n",
        "b = np.array([5, 6, 7, 8, 9])\n",
        "\n",
        "result = np.setdiff1d(a, b)\n",
        "print(result)"
      ],
      "metadata": {
        "colab": {
          "base_uri": "https://localhost:8080/"
        },
        "id": "yr5hfd4uZk_k",
        "outputId": "e0d39e52-8e7a-4e1b-be0e-1e12700e1779"
      },
      "execution_count": null,
      "outputs": [
        {
          "output_type": "stream",
          "name": "stdout",
          "text": [
            "[1 2 3 4]\n"
          ]
        }
      ]
    },
    {
      "cell_type": "markdown",
      "source": [
        "9. Limit the number of items printed in python NumPy array a to a maximum of\n",
        "6 elements.\n",
        "a = np. arrange (15)\n",
        "Expected Output:\n",
        "array ([ 0, 1, 2, ..., 12, 13, 14]"
      ],
      "metadata": {
        "id": "C8kKClxoZrwb"
      }
    },
    {
      "cell_type": "code",
      "source": [
        "import numpy as np\n",
        "\n",
        "a = np.arange(15)\n",
        "print(a[:6])"
      ],
      "metadata": {
        "colab": {
          "base_uri": "https://localhost:8080/"
        },
        "id": "z0JeruJNZ1hp",
        "outputId": "63c8914e-4d8f-4bab-b71b-65af680e5336"
      },
      "execution_count": null,
      "outputs": [
        {
          "output_type": "stream",
          "name": "stdout",
          "text": [
            "[0 1 2 3 4 5]\n"
          ]
        }
      ]
    },
    {
      "cell_type": "markdown",
      "source": [
        "10. Drop all nan values from a 1D NumPy\n",
        "array Input:\n",
        "np. array ([1,2,3, np.nan,5,6,7, np.nan])\n",
        "Desired Output:\n",
        "array ([ 1., 2., 3., 5., 6., 7.])"
      ],
      "metadata": {
        "id": "StPPPsfEbMky"
      }
    },
    {
      "cell_type": "code",
      "source": [
        "import numpy as np\n",
        "\n",
        "arr = np.array([1, 2, 3, np.nan, 5, 6, 7, np.nan])\n",
        "\n",
        "new_arr = arr[~np.isnan(arr)]\n",
        "print(new_arr)"
      ],
      "metadata": {
        "colab": {
          "base_uri": "https://localhost:8080/"
        },
        "id": "2jEvjJopbQl6",
        "outputId": "62740ae3-6f8d-4a94-883c-7c382e10b5a6"
      },
      "execution_count": null,
      "outputs": [
        {
          "output_type": "stream",
          "name": "stdout",
          "text": [
            "[1. 2. 3. 5. 6. 7.]\n"
          ]
        }
      ]
    },
    {
      "cell_type": "markdown",
      "source": [
        "11. Question: Create a 1D NumPy array of the first 20 natural numbers and a\n",
        "2D NumPy array of shape (4, 5) with values ranging from 1 to 20."
      ],
      "metadata": {
        "id": "Yu_XE-_kbkEV"
      }
    },
    {
      "cell_type": "code",
      "source": [
        "import numpy as np\n",
        "\n",
        "array_1d = np.arange(1, 21)\n",
        "print(\"1D array:\")\n",
        "print(array_1d)\n",
        "\n",
        "array_2d = np.arange(1, 21).reshape(4, 5)\n",
        "print(\"\\n2D array:\")\n",
        "print(array_2d)"
      ],
      "metadata": {
        "colab": {
          "base_uri": "https://localhost:8080/"
        },
        "id": "NuqU5h7rbr-i",
        "outputId": "9085bf1a-79ec-4219-ee60-dde7124ee8ab"
      },
      "execution_count": null,
      "outputs": [
        {
          "output_type": "stream",
          "name": "stdout",
          "text": [
            "1D array:\n",
            "[ 1  2  3 ... 18 19 20]\n",
            "\n",
            "2D array:\n",
            "[[ 1  2  3  4  5]\n",
            " [ 6  7  8  9 10]\n",
            " [11 12 13 14 15]\n",
            " [16 17 18 19 20]]\n"
          ]
        }
      ]
    },
    {
      "cell_type": "markdown",
      "source": [
        "12. Question: Given a 3D NumPy array of shape (2, 3, 4), find its shape, size,\n",
        "number of dimensions, and data type. Change its data type to float64 and verify\n",
        "the change."
      ],
      "metadata": {
        "id": "wJyOjP14b-0S"
      }
    },
    {
      "cell_type": "code",
      "source": [
        "import numpy as np\n",
        "\n",
        "array_3d = np.arange(24).reshape(2, 3, 4)\n",
        "\n",
        "shape = array_3d.shape\n",
        "size = array_3d.size\n",
        "num_dimensions = array_3d.ndim\n",
        "data_type = array_3d.dtype\n",
        "\n",
        "print(\"Original properties:\")\n",
        "print(f\"Shape: {shape}\")\n",
        "print(f\"Size: {size}\")\n",
        "print(f\"Number of dimensions: {num_dimensions}\")\n",
        "print(f\"Data type: {data_type}\")\n",
        "\n",
        "array_3d_float = array_3d.astype(np.float64)\n",
        "\n",
        "new_data_type = array_3d_float.dtype\n",
        "\n",
        "print(\"\\nAfter changing data type to float64:\")\n",
        "print(f\"New data type: {new_data_type}\")"
      ],
      "metadata": {
        "colab": {
          "base_uri": "https://localhost:8080/"
        },
        "id": "vUnZFNaDcCqy",
        "outputId": "8c877b14-960a-45d4-e569-b0d0fb3331c4"
      },
      "execution_count": null,
      "outputs": [
        {
          "output_type": "stream",
          "name": "stdout",
          "text": [
            "Original properties:\n",
            "Shape: (2, 3, 4)\n",
            "Size: 24\n",
            "Number of dimensions: 3\n",
            "Data type: int64\n",
            "\n",
            "After changing data type to float64:\n",
            "New data type: float64\n"
          ]
        }
      ]
    },
    {
      "cell_type": "markdown",
      "source": [
        "13. Question: Reshape a 1D array of 12 elements into a 3x4 2D array and then\n",
        "flatten it back into a 1D array using ravel (). Verify that the flattened array\n",
        "matches the original."
      ],
      "metadata": {
        "id": "PQfyu9ibcPnU"
      }
    },
    {
      "cell_type": "code",
      "source": [
        "import numpy as np\n",
        "\n",
        "original_array = np.arange(12)\n",
        "print(\"Original array:\")\n",
        "print(original_array)\n",
        "\n",
        "reshaped_array = original_array.reshape(3, 4)\n",
        "print(\"\\nReshaped array (3x4):\")\n",
        "print(reshaped_array)\n",
        "\n",
        "flattened_array = reshaped_array.ravel()\n",
        "print(\"\\nFlattened array:\")\n",
        "print(flattened_array)\n",
        "\n",
        "is_match = np.array_equal(original_array, flattened_array)\n",
        "print(\"\\nDoes the flattened array match the original array?\")\n",
        "print(is_match)"
      ],
      "metadata": {
        "colab": {
          "base_uri": "https://localhost:8080/"
        },
        "id": "v6hZDh_ycYYB",
        "outputId": "e4dacea1-1590-4087-f7e0-d49ec478175e"
      },
      "execution_count": null,
      "outputs": [
        {
          "output_type": "stream",
          "name": "stdout",
          "text": [
            "Original array:\n",
            "[ 0  1  2 ...  9 10 11]\n",
            "\n",
            "Reshaped array (3x4):\n",
            "[[ 0  1  2  3]\n",
            " [ 4  5  6  7]\n",
            " [ 8  9 10 11]]\n",
            "\n",
            "Flattened array:\n",
            "[ 0  1  2 ...  9 10 11]\n",
            "\n",
            "Does the flattened array match the original array?\n",
            "True\n"
          ]
        }
      ]
    },
    {
      "cell_type": "markdown",
      "source": [
        "14. Question: Given two arrays, a = np. array ([1, 2, 3]) and b = np. array ([4,\n",
        "5, 6]), perform element-wise addition, subtraction, multiplication, and\n",
        "division. Explain the behavior when dividing by zero."
      ],
      "metadata": {
        "id": "yOU4FgJIcnhi"
      }
    },
    {
      "cell_type": "code",
      "source": [
        "import numpy as np\n",
        "\n",
        "a = np.array([1, 2, 3])\n",
        "b = np.array([4, 5, 6])\n",
        "\n",
        "addition = a + b\n",
        "subtraction = a - b\n",
        "multiplication = a * b\n",
        "division = a / b\n",
        "\n",
        "a_with_zero = np.array([1, 0, 3])\n",
        "b_with_zero = np.array([4, 5, 0])\n",
        "division_with_zero = a_with_zero / b_with_zero\n",
        "\n",
        "print(\"Element-wise addition:\")\n",
        "print(addition)\n",
        "\n",
        "print(\"\\nElement-wise subtraction:\")\n",
        "print(subtraction)\n",
        "\n",
        "print(\"\\nElement-wise multiplication:\")\n",
        "print(multiplication)\n",
        "\n",
        "print(\"\\nElement-wise division:\")\n",
        "print(division)\n",
        "\n",
        "print(\"\\nElement-wise division with zero:\")\n",
        "print(division_with_zero)\n",
        "\n",
        "print(\"\\nExplanation of division by zero behavior:\")\n",
        "print(\"When dividing by zero, NumPy generates 'inf' (infinity) or 'nan' (not a number) values.\")"
      ],
      "metadata": {
        "colab": {
          "base_uri": "https://localhost:8080/"
        },
        "id": "aDTvbgJ1cpzh",
        "outputId": "69920d5a-4b14-4be5-8c91-0b06e4cbc556"
      },
      "execution_count": 28,
      "outputs": [
        {
          "output_type": "stream",
          "name": "stdout",
          "text": [
            "Element-wise addition:\n",
            "[5 7 9]\n",
            "\n",
            "Element-wise subtraction:\n",
            "[-3 -3 -3]\n",
            "\n",
            "Element-wise multiplication:\n",
            "[ 4 10 18]\n",
            "\n",
            "Element-wise division:\n",
            "[0.25 0.4  0.5 ]\n",
            "\n",
            "Element-wise division with zero:\n",
            "[0.25 0.    inf]\n",
            "\n",
            "Explanation of division by zero behavior:\n",
            "When dividing by zero, NumPy generates 'inf' (infinity) or 'nan' (not a number) values.\n"
          ]
        },
        {
          "output_type": "stream",
          "name": "stderr",
          "text": [
            "<ipython-input-28-c65b8b373b5e>:13: RuntimeWarning: divide by zero encountered in divide\n",
            "  division_with_zero = a_with_zero / b_with_zero\n"
          ]
        }
      ]
    },
    {
      "cell_type": "markdown",
      "source": [
        "15. Question: Create a 2D array of shape (3, 1) and a 1D array of length 3. Perform\n",
        "element-wise addition using broadcasting. Explain how broadcasting rules apply\n",
        "in this scenario."
      ],
      "metadata": {
        "id": "l5iI9MOccq8b"
      }
    },
    {
      "cell_type": "code",
      "source": [
        "import numpy as np\n",
        "\n",
        "array_2d = np.array([[1], [2], [3]])\n",
        "print(\"2D array (shape (3, 1)):\")\n",
        "print(array_2d)\n",
        "\n",
        "array_1d = np.array([4, 5, 6])\n",
        "print(\"\\n1D array (length 3):\")\n",
        "print(array_1d)\n",
        "\n",
        "result = array_2d + array_1d\n",
        "print(\"\\nResult of element-wise addition with broadcasting:\")\n",
        "print(result)"
      ],
      "metadata": {
        "id": "T2VdXvhWcrOz",
        "colab": {
          "base_uri": "https://localhost:8080/"
        },
        "outputId": "a6e8cc01-e1c9-43a4-bcb5-6e4818bd6b56"
      },
      "execution_count": 29,
      "outputs": [
        {
          "output_type": "stream",
          "name": "stdout",
          "text": [
            "2D array (shape (3, 1)):\n",
            "[[1]\n",
            " [2]\n",
            " [3]]\n",
            "\n",
            "1D array (length 3):\n",
            "[4 5 6]\n",
            "\n",
            "Result of element-wise addition with broadcasting:\n",
            "[[5 6 7]\n",
            " [6 7 8]\n",
            " [7 8 9]]\n"
          ]
        }
      ]
    },
    {
      "cell_type": "markdown",
      "source": [
        "16. Question: Generate a random 2D array of integers between 0 and 10. Use conditional operators to create a Boolean mask identifying elements greater than 5. Replace all elements greater than 5 with the value 5."
      ],
      "metadata": {
        "id": "oj0Pdenxcrec"
      }
    },
    {
      "cell_type": "code",
      "source": [
        "import numpy as np\n",
        "\n",
        "np.random.seed(0)\n",
        "array_2d = np.random.randint(0, 11, size=(4, 5))\n",
        "\n",
        "print(\"Original array:\")\n",
        "print(array_2d)\n",
        "\n",
        "mask = array_2d > 5\n",
        "\n",
        "array_2d[mask] = 5\n",
        "\n",
        "print(\"\\nArray after replacing elements greater than 5 with 5:\")\n",
        "print(array_2d)"
      ],
      "metadata": {
        "id": "zgk-iDbhcrs6",
        "colab": {
          "base_uri": "https://localhost:8080/"
        },
        "outputId": "84654884-b761-4c62-efcc-a9739b6125a0"
      },
      "execution_count": 30,
      "outputs": [
        {
          "output_type": "stream",
          "name": "stdout",
          "text": [
            "Original array:\n",
            "[[ 5  0  3  3  7]\n",
            " [ 9  3  5  2  4]\n",
            " [ 7  6  8  8 10]\n",
            " [ 1  6  7  7  8]]\n",
            "\n",
            "Array after replacing elements greater than 5 with 5:\n",
            "[[5 0 3 3 5]\n",
            " [5 3 5 2 4]\n",
            " [5 5 5 5 5]\n",
            " [1 5 5 5 5]]\n"
          ]
        }
      ]
    },
    {
      "cell_type": "markdown",
      "source": [
        "17. Question: Given a 4x4 array of random integers, use indexing and slicing\n",
        "to extract:\n",
        "o The entire second row\n",
        "o The last column\n",
        "o The subarray consisting of the first two rows and first two columns"
      ],
      "metadata": {
        "id": "l_L7_OcYcr6b"
      }
    },
    {
      "cell_type": "code",
      "source": [
        "import numpy as np\n",
        "\n",
        "np.random.seed(0)  # For reproducibility\n",
        "array_4x4 = np.random.randint(0, 11, size=(4, 4))\n",
        "\n",
        "print(\"Original 4x4 array:\")\n",
        "print(array_4x4)\n",
        "\n",
        "second_row = array_4x4[1, :]\n",
        "\n",
        "last_column = array_4x4[:, -1]\n",
        "\n",
        "subarray = array_4x4[:2, :2]\n",
        "\n",
        "print(\"\\nEntire second row:\")\n",
        "print(second_row)\n",
        "\n",
        "print(\"\\nLast column:\")\n",
        "print(last_column)\n",
        "\n",
        "print(\"\\nSubarray consisting of the first two rows and first two columns:\")\n",
        "print(subarray)"
      ],
      "metadata": {
        "id": "K4Kuq2wpcsIN",
        "colab": {
          "base_uri": "https://localhost:8080/"
        },
        "outputId": "c5c1a90d-7940-4226-cb41-c10daae43e64"
      },
      "execution_count": 31,
      "outputs": [
        {
          "output_type": "stream",
          "name": "stdout",
          "text": [
            "Original 4x4 array:\n",
            "[[ 5  0  3  3]\n",
            " [ 7  9  3  5]\n",
            " [ 2  4  7  6]\n",
            " [ 8  8 10  1]]\n",
            "\n",
            "Entire second row:\n",
            "[7 9 3 5]\n",
            "\n",
            "Last column:\n",
            "[3 5 6 1]\n",
            "\n",
            "Subarray consisting of the first two rows and first two columns:\n",
            "[[5 0]\n",
            " [7 9]]\n"
          ]
        }
      ]
    },
    {
      "cell_type": "markdown",
      "source": [
        "18. Question: Describe a practical example where NumPy can be used in EDA,\n",
        "AI, ML, and DL, and implement a NumPy solution for a simple task in each\n",
        "area."
      ],
      "metadata": {
        "id": "-UOy6Y2ncsZp"
      }
    },
    {
      "cell_type": "markdown",
      "source": [
        "Exploratory Data Analysis (EDA)\n",
        "Example: Calculating basic statistics such as the mean, median, and standard deviation of a dataset to understand its distribution.\n",
        "\n",
        "NumPy Solution:"
      ],
      "metadata": {
        "id": "F6u920yMfAHY"
      }
    },
    {
      "cell_type": "code",
      "source": [
        "import numpy as np\n",
        "\n",
        "data = np.array([23, 45, 12, 67, 34, 89, 56, 43, 29, 31])\n",
        "\n",
        "mean = np.mean(data)\n",
        "median = np.median(data)\n",
        "std_dev = np.std(data)\n",
        "\n",
        "print(\"Mean:\", mean)\n",
        "print(\"Median:\", median)\n",
        "print(\"Standard Deviation:\", std_dev)"
      ],
      "metadata": {
        "colab": {
          "base_uri": "https://localhost:8080/"
        },
        "id": "Y6QH6XiDfBPi",
        "outputId": "d52a314b-c105-49ec-d031-a6c402e4532c"
      },
      "execution_count": 32,
      "outputs": [
        {
          "output_type": "stream",
          "name": "stdout",
          "text": [
            "Mean: 42.9\n",
            "Median: 38.5\n",
            "Standard Deviation: 21.556669501571896\n"
          ]
        }
      ]
    },
    {
      "cell_type": "markdown",
      "source": [
        "Artificial Intelligence (AI)\n",
        "Example: Performing basic operations for feature engineering, such as normalizing data for AI algorithms.\n",
        "\n",
        "NumPy Solution:"
      ],
      "metadata": {
        "id": "eBtndPOGfLnZ"
      }
    },
    {
      "cell_type": "code",
      "source": [
        "import numpy as np\n",
        "\n",
        "features = np.array([160, 170, 165, 180, 175])\n",
        "\n",
        "normalized_features = (features - np.min(features)) / (np.max(features) - np.min(features))\n",
        "print(\"Normalized Features:\", normalized_features)"
      ],
      "metadata": {
        "colab": {
          "base_uri": "https://localhost:8080/"
        },
        "id": "UDbbePbifNwR",
        "outputId": "e4db0a8b-a981-41a5-ec4e-33bbdd608c74"
      },
      "execution_count": 33,
      "outputs": [
        {
          "output_type": "stream",
          "name": "stdout",
          "text": [
            "Normalized Features: [0.   0.5  0.25 1.   0.75]\n"
          ]
        }
      ]
    },
    {
      "cell_type": "markdown",
      "source": [
        "Machine Learning (ML)\n",
        "Example: Implementing a simple linear regression model by calculating the line of best fit.\n",
        "\n",
        "NumPy Solution:"
      ],
      "metadata": {
        "id": "TZsfdgi0fTsx"
      }
    },
    {
      "cell_type": "code",
      "source": [
        "import numpy as np\n",
        "\n",
        "hours = np.array([1, 2, 3, 4, 5])\n",
        "scores = np.array([10, 20, 30, 40, 50])\n",
        "\n",
        "A = np.vstack([hours, np.ones(len(hours))]).T\n",
        "slope, intercept = np.linalg.lstsq(A, scores, rcond=None)[0]\n",
        "\n",
        "print(\"Slope:\", slope)\n",
        "print(\"Intercept:\", intercept)"
      ],
      "metadata": {
        "colab": {
          "base_uri": "https://localhost:8080/"
        },
        "id": "YR8D0HbNfWvZ",
        "outputId": "6441d191-c638-4760-9356-9d170f84acff"
      },
      "execution_count": 34,
      "outputs": [
        {
          "output_type": "stream",
          "name": "stdout",
          "text": [
            "Slope: 9.999999999999998\n",
            "Intercept: 7.503577039457583e-16\n"
          ]
        }
      ]
    },
    {
      "cell_type": "markdown",
      "source": [
        "Deep Learning (DL)\n",
        "Example: Handling data preprocessing for a neural network by reshaping and normalizing images.\n",
        "\n",
        "NumPy Solution:"
      ],
      "metadata": {
        "id": "6T6HBlw7fivg"
      }
    },
    {
      "cell_type": "code",
      "source": [
        "import numpy as np\n",
        "\n",
        "image = np.array([[255, 128, 64],\n",
        "                  [0, 255, 128],\n",
        "                  [64, 0, 255]])\n",
        "\n",
        "flattened_image = image.flatten()\n",
        "\n",
        "normalized_image = flattened_image / 255.0\n",
        "\n",
        "print(\"Flattened Image:\", flattened_image)\n",
        "print(\"Normalized Image:\", normalized_image)"
      ],
      "metadata": {
        "colab": {
          "base_uri": "https://localhost:8080/"
        },
        "id": "rx04p96wfjWh",
        "outputId": "251f1bbf-104d-437f-f995-7da08d7e1009"
      },
      "execution_count": 35,
      "outputs": [
        {
          "output_type": "stream",
          "name": "stdout",
          "text": [
            "Flattened Image: [255 128  64 ...  64   0 255]\n",
            "Normalized Image: [1.         0.50196078 0.25098039 ... 0.25098039 0.         1.        ]\n"
          ]
        }
      ]
    },
    {
      "cell_type": "markdown",
      "source": [
        "19. Question: Create a random 4x4 matrix and use NumPy to compute its\n",
        "eigenvalues and eigenvectors. Verify the eigenvalues by reconstructing the\n",
        "matrix."
      ],
      "metadata": {
        "id": "C-WJiyfSft6k"
      }
    },
    {
      "cell_type": "code",
      "source": [
        "import numpy as np\n",
        "\n",
        "np.random.seed(0)\n",
        "matrix = np.random.rand(4, 4)\n",
        "\n",
        "print(\"Original Matrix:\")\n",
        "print(matrix)\n",
        "\n",
        "eigenvalues, eigenvectors = np.linalg.eig(matrix)\n",
        "\n",
        "print(\"\\nEigenvalues:\")\n",
        "print(eigenvalues)\n",
        "\n",
        "print(\"\\nEigenvectors:\")\n",
        "print(eigenvectors)\n",
        "\n",
        "reconstructed_matrix = eigenvectors @ np.diag(eigenvalues) @ np.linalg.inv(eigenvectors)\n",
        "\n",
        "print(\"\\nReconstructed Matrix:\")\n",
        "print(reconstructed_matrix)\n",
        "\n",
        "print(\"\\nIs the reconstructed matrix close to the original matrix?\")\n",
        "print(np.allclose(matrix, reconstructed_matrix))"
      ],
      "metadata": {
        "colab": {
          "base_uri": "https://localhost:8080/"
        },
        "id": "qOtcNpP8fwVR",
        "outputId": "8bc5e653-421a-4d00-fafe-ef80a35d355f"
      },
      "execution_count": 36,
      "outputs": [
        {
          "output_type": "stream",
          "name": "stdout",
          "text": [
            "Original Matrix:\n",
            "[[0.5488135  0.71518937 0.60276338 0.54488318]\n",
            " [0.4236548  0.64589411 0.43758721 0.891773  ]\n",
            " [0.96366276 0.38344152 0.79172504 0.52889492]\n",
            " [0.56804456 0.92559664 0.07103606 0.0871293 ]]\n",
            "\n",
            "Eigenvalues:\n",
            "[ 2.28158836 -0.5139378  -0.22422772  0.53013911]\n",
            "\n",
            "Eigenvectors:\n",
            "[[ 0.52354106 -0.10090767  0.5285094  -0.1584302 ]\n",
            " [ 0.49196427  0.55773542 -0.43250014  0.36386336]\n",
            " [ 0.59384504  0.23102177 -0.57357157 -0.81262442]\n",
            " [ 0.36224851 -0.79080831  0.45236832  0.42678435]]\n",
            "\n",
            "Reconstructed Matrix:\n",
            "[[0.5488135  0.71518937 0.60276338 0.54488318]\n",
            " [0.4236548  0.64589411 0.43758721 0.891773  ]\n",
            " [0.96366276 0.38344152 0.79172504 0.52889492]\n",
            " [0.56804456 0.92559664 0.07103606 0.0871293 ]]\n",
            "\n",
            "Is the reconstructed matrix close to the original matrix?\n",
            "True\n"
          ]
        }
      ]
    },
    {
      "cell_type": "markdown",
      "source": [
        "20. Question: Create a 1D array of 27 elements and reshape it into a 3x3x3\n",
        "3D array. Flatten it back into a 1D array and compare the flattened array\n",
        "with the original."
      ],
      "metadata": {
        "id": "1fLBs-egfuMp"
      }
    },
    {
      "cell_type": "code",
      "source": [
        "import numpy as np\n",
        "\n",
        "original_array = np.arange(27)\n",
        "\n",
        "print(\"Original 1D array:\")\n",
        "print(original_array)\n",
        "\n",
        "reshaped_array = original_array.reshape(3, 3, 3)\n",
        "\n",
        "print(\"\\nReshaped 3x3x3 array:\")\n",
        "print(reshaped_array)\n",
        "\n",
        "flattened_array = reshaped_array.ravel()\n",
        "\n",
        "print(\"\\nFlattened array:\")\n",
        "print(flattened_array)\n",
        "\n",
        "is_match = np.array_equal(original_array, flattened_array)\n",
        "\n",
        "print(\"\\nDoes the flattened array match the original array?\")\n",
        "print(is_match)"
      ],
      "metadata": {
        "colab": {
          "base_uri": "https://localhost:8080/"
        },
        "id": "m3NB5oGbfw0h",
        "outputId": "e56ecc56-fc5e-48a8-9ecb-0e7292c29a0a"
      },
      "execution_count": 37,
      "outputs": [
        {
          "output_type": "stream",
          "name": "stdout",
          "text": [
            "Original 1D array:\n",
            "[ 0  1  2 ... 24 25 26]\n",
            "\n",
            "Reshaped 3x3x3 array:\n",
            "[[[ 0  1  2]\n",
            "  [ 3  4  5]\n",
            "  [ 6  7  8]]\n",
            "\n",
            " [[ 9 10 11]\n",
            "  [12 13 14]\n",
            "  [15 16 17]]\n",
            "\n",
            " [[18 19 20]\n",
            "  [21 22 23]\n",
            "  [24 25 26]]]\n",
            "\n",
            "Flattened array:\n",
            "[ 0  1  2 ... 24 25 26]\n",
            "\n",
            "Does the flattened array match the original array?\n",
            "True\n"
          ]
        }
      ]
    },
    {
      "cell_type": "markdown",
      "source": [
        "21. Question: Perform matrix multiplication of two 2D arrays using np.dot ()\n",
        "and @. Compare the results and performance of both methods using a large\n",
        "dataset."
      ],
      "metadata": {
        "id": "MnKtty_Rfuah"
      }
    },
    {
      "cell_type": "code",
      "source": [
        "import numpy as np\n",
        "import time\n",
        "\n",
        "A = np.random.rand(500, 500)\n",
        "B = np.random.rand(500, 500)\n",
        "\n",
        "start_time = time.time()\n",
        "result_dot = np.dot(A, B)\n",
        "end_time = time.time()\n",
        "time_dot = end_time - start_time\n",
        "\n",
        "start_time = time.time()\n",
        "result_at = A @ B\n",
        "end_time = time.time()\n",
        "time_at = end_time - start_time\n",
        "\n",
        "results_match = np.allclose(result_dot, result_at)\n",
        "\n",
        "print(\"Do the results match?\")\n",
        "print(results_match)\n",
        "\n",
        "print(\"\\nTime taken by np.dot():\", time_dot)\n",
        "print(\"Time taken by @ operator:\", time_at)"
      ],
      "metadata": {
        "colab": {
          "base_uri": "https://localhost:8080/"
        },
        "id": "s4w-YoUTfxUZ",
        "outputId": "b25c5330-1f56-4e1e-f323-9a4fd0ce2d9e"
      },
      "execution_count": 38,
      "outputs": [
        {
          "output_type": "stream",
          "name": "stdout",
          "text": [
            "Do the results match?\n",
            "True\n",
            "\n",
            "Time taken by np.dot(): 0.010680437088012695\n",
            "Time taken by @ operator: 0.009850263595581055\n"
          ]
        }
      ]
    },
    {
      "cell_type": "markdown",
      "source": [
        "22. Question: Create a 3D array of shape (2, 1, 4) and a 2D array of shape (4,\n",
        "1). Perform an element-wise operation using broadcasting and explain the\n",
        "result. Use np. new axis to achieve the same result without broadcasting."
      ],
      "metadata": {
        "id": "-Hn1p2nKfumI"
      }
    },
    {
      "cell_type": "code",
      "source": [
        "import numpy as np\n",
        "\n",
        "array_3d = np.array([[[1, 2, 3, 4]],\n",
        "                     [[5, 6, 7, 8]]])\n",
        "\n",
        "print(\"3D Array (shape (2, 1, 4)):\")\n",
        "print(array_3d)\n",
        "\n",
        "array_2d = np.array([[10],\n",
        "                     [20],\n",
        "                     [30],\n",
        "                     [40]])\n",
        "\n",
        "print(\"\\n2D Array (shape (4, 1)):\")\n",
        "print(array_2d)\n",
        "\n",
        "result_broadcast = array_3d + array_2d.T\n",
        "\n",
        "print(\"\\nResult using broadcasting:\")\n",
        "print(result_broadcast)\n",
        "\n",
        "array_2d_newaxis = array_2d.reshape(1, 4, 1)\n",
        "result_newaxis = array_3d + array_2d_newaxis\n",
        "\n",
        "print(\"\\nResult using np.newaxis:\")\n",
        "print(result_newaxis)\n",
        "\n",
        "print(\"\\nDo the results match?\")\n",
        "print(np.allclose(result_broadcast, result_newaxis))"
      ],
      "metadata": {
        "colab": {
          "base_uri": "https://localhost:8080/"
        },
        "id": "CbAxqIgEfx1L",
        "outputId": "32d79315-b778-41e4-bb9b-357f7d70bc94"
      },
      "execution_count": 39,
      "outputs": [
        {
          "output_type": "stream",
          "name": "stdout",
          "text": [
            "3D Array (shape (2, 1, 4)):\n",
            "[[[1 2 3 4]]\n",
            "\n",
            " [[5 6 7 8]]]\n",
            "\n",
            "2D Array (shape (4, 1)):\n",
            "[[10]\n",
            " [20]\n",
            " [30]\n",
            " [40]]\n",
            "\n",
            "Result using broadcasting:\n",
            "[[[11 22 33 44]]\n",
            "\n",
            " [[15 26 37 48]]]\n",
            "\n",
            "Result using np.newaxis:\n",
            "[[[11 12 13 14]\n",
            "  [21 22 23 24]\n",
            "  [31 32 33 34]\n",
            "  [41 42 43 44]]\n",
            "\n",
            " [[15 16 17 18]\n",
            "  [25 26 27 28]\n",
            "  [35 36 37 38]\n",
            "  [45 46 47 48]]]\n",
            "\n",
            "Do the results match?\n",
            "False\n"
          ]
        }
      ]
    },
    {
      "cell_type": "markdown",
      "source": [
        "23. Question: Generate a 2D array of random floats between 0 and 1. Use\n",
        "conditional operators to create a Boolean mask for values less than 0.5.\n",
        "Replace these values with their squares and leave the rest unchanged."
      ],
      "metadata": {
        "id": "gGAbxD63g2jn"
      }
    },
    {
      "cell_type": "code",
      "source": [
        "import numpy as np\n",
        "\n",
        "np.random.seed(0)\n",
        "array_2d = np.random.rand(4, 5)\n",
        "\n",
        "print(\"Original 2D array:\")\n",
        "print(array_2d)\n",
        "\n",
        "mask = array_2d < 0.5\n",
        "\n",
        "array_2d[mask] = array_2d[mask] ** 2\n",
        "\n",
        "print(\"\\nModified 2D array:\")\n",
        "print(array_2d)"
      ],
      "metadata": {
        "colab": {
          "base_uri": "https://localhost:8080/"
        },
        "id": "ROrTAeclg3yR",
        "outputId": "fed39a05-41f0-4850-d933-2d728cd40d07"
      },
      "execution_count": 40,
      "outputs": [
        {
          "output_type": "stream",
          "name": "stdout",
          "text": [
            "Original 2D array:\n",
            "[[0.5488135  0.71518937 0.60276338 0.54488318 0.4236548 ]\n",
            " [0.64589411 0.43758721 0.891773   0.96366276 0.38344152]\n",
            " [0.79172504 0.52889492 0.56804456 0.92559664 0.07103606]\n",
            " [0.0871293  0.0202184  0.83261985 0.77815675 0.87001215]]\n",
            "\n",
            "Modified 2D array:\n",
            "[[5.48813504e-01 7.15189366e-01 6.02763376e-01 5.44883183e-01\n",
            "  1.79483389e-01]\n",
            " [6.45894113e-01 1.91482567e-01 8.91773001e-01 9.63662761e-01\n",
            "  1.47027398e-01]\n",
            " [7.91725038e-01 5.28894920e-01 5.68044561e-01 9.25596638e-01\n",
            "  5.04612156e-03]\n",
            " [7.59151487e-03 4.08783595e-04 8.32619846e-01 7.78156751e-01\n",
            "  8.70012148e-01]]\n"
          ]
        }
      ]
    },
    {
      "cell_type": "markdown",
      "source": [
        "24. Question: Given a 5x5 array of sequential integers, use slicing to:\n",
        "o Extract the diagonal elements\n",
        "o Replace the elements of the middle row with zeros\n",
        "o Flip the array vertically and horizontally"
      ],
      "metadata": {
        "id": "XoDwUdKLg37K"
      }
    },
    {
      "cell_type": "code",
      "source": [
        "import numpy as np\n",
        "\n",
        "array_5x5 = np.arange(25).reshape(5, 5)\n",
        "\n",
        "print(\"Original 5x5 array:\")\n",
        "print(array_5x5)\n",
        "\n",
        "diagonal_elements = np.diag(array_5x5)\n",
        "\n",
        "print(\"\\nDiagonal elements:\")\n",
        "print(diagonal_elements)\n",
        "\n",
        "array_5x5[2, :] = 0\n",
        "\n",
        "print(\"\\nArray with middle row replaced by zeros:\")\n",
        "print(array_5x5)\n",
        "\n",
        "flipped_array = np.flipud(np.fliplr(array_5x5))\n",
        "\n",
        "print(\"\\nArray flipped vertically and horizontally:\")\n",
        "print(flipped_array)"
      ],
      "metadata": {
        "colab": {
          "base_uri": "https://localhost:8080/"
        },
        "id": "EUfrb7bpg4F4",
        "outputId": "38887028-a249-4d1b-b5cd-6d49922da25d"
      },
      "execution_count": 41,
      "outputs": [
        {
          "output_type": "stream",
          "name": "stdout",
          "text": [
            "Original 5x5 array:\n",
            "[[ 0  1  2  3  4]\n",
            " [ 5  6  7  8  9]\n",
            " [10 11 12 13 14]\n",
            " [15 16 17 18 19]\n",
            " [20 21 22 23 24]]\n",
            "\n",
            "Diagonal elements:\n",
            "[ 0  6 12 18 24]\n",
            "\n",
            "Array with middle row replaced by zeros:\n",
            "[[ 0  1  2  3  4]\n",
            " [ 5  6  7  8  9]\n",
            " [ 0  0  0  0  0]\n",
            " [15 16 17 18 19]\n",
            " [20 21 22 23 24]]\n",
            "\n",
            "Array flipped vertically and horizontally:\n",
            "[[24 23 22 21 20]\n",
            " [19 18 17 16 15]\n",
            " [ 0  0  0  0  0]\n",
            " [ 9  8  7  6  5]\n",
            " [ 4  3  2  1  0]]\n"
          ]
        }
      ]
    },
    {
      "cell_type": "markdown",
      "source": [
        "25. Question: Create a 4D array of shape (2, 3, 4, 5) with random integers.\n",
        "Use advanced slicing to extract a subarray and compute the mean along a\n",
        "specified axis."
      ],
      "metadata": {
        "id": "QUAZRF6eg4N4"
      }
    },
    {
      "cell_type": "code",
      "source": [
        "import numpy as np\n",
        "\n",
        "np.random.seed(0)\n",
        "array_4d = np.random.randint(0, 10, size=(2, 3, 4, 5))\n",
        "\n",
        "print(\"Original 4D array:\")\n",
        "print(array_4d)\n",
        "\n",
        "subarray = array_4d[0, 1, :, :]\n",
        "\n",
        "print(\"\\nExtracted subarray (shape {}):\".format(subarray.shape))\n",
        "print(subarray)\n",
        "\n",
        "mean_along_axis_0 = np.mean(subarray, axis=0)\n",
        "\n",
        "print(\"\\nMean along axis 0 of the subarray (shape {}):\".format(mean_along_axis_0.shape))\n",
        "print(mean_along_axis_0)"
      ],
      "metadata": {
        "colab": {
          "base_uri": "https://localhost:8080/"
        },
        "id": "J9Y8oE5Dg4Wh",
        "outputId": "725f73f2-85d8-4767-aabd-8e43db6f2640"
      },
      "execution_count": 42,
      "outputs": [
        {
          "output_type": "stream",
          "name": "stdout",
          "text": [
            "Original 4D array:\n",
            "[[[[5 0 3 3 7]\n",
            "   [9 3 5 2 4]\n",
            "   [7 6 8 8 1]\n",
            "   [6 7 7 8 1]]\n",
            "\n",
            "  [[5 9 8 9 4]\n",
            "   [3 0 3 5 0]\n",
            "   [2 3 8 1 3]\n",
            "   [3 3 7 0 1]]\n",
            "\n",
            "  [[9 9 0 4 7]\n",
            "   [3 2 7 2 0]\n",
            "   [0 4 5 5 6]\n",
            "   [8 4 1 4 9]]]\n",
            "\n",
            "\n",
            " [[[8 1 1 7 9]\n",
            "   [9 3 6 7 2]\n",
            "   [0 3 5 9 4]\n",
            "   [4 6 4 4 3]]\n",
            "\n",
            "  [[4 4 8 4 3]\n",
            "   [7 5 5 0 1]\n",
            "   [5 9 3 0 5]\n",
            "   [0 1 2 4 2]]\n",
            "\n",
            "  [[0 3 2 0 7]\n",
            "   [5 9 0 2 7]\n",
            "   [2 9 2 3 3]\n",
            "   [2 3 4 1 2]]]]\n",
            "\n",
            "Extracted subarray (shape (4, 5)):\n",
            "[[5 9 8 9 4]\n",
            " [3 0 3 5 0]\n",
            " [2 3 8 1 3]\n",
            " [3 3 7 0 1]]\n",
            "\n",
            "Mean along axis 0 of the subarray (shape (5,)):\n",
            "[3.25 3.75 6.5  3.75 2.  ]\n"
          ]
        }
      ]
    },
    {
      "cell_type": "markdown",
      "source": [
        "26. Question: Given an array of shape (10, 20), reshape it to (20, 10) and (5,\n",
        "40). Discuss the impact on the array's shape, size, and dimensionality."
      ],
      "metadata": {
        "id": "9DKXCN3Jg4dY"
      }
    },
    {
      "cell_type": "markdown",
      "source": [
        "Reshaping an array changes its shape but not its size or the total number of elements. The impact of reshaping an array from shape (10, 20) to (20, 10) and (5, 40):\n",
        "\n",
        "Original Array\n",
        "Shape: (10, 20)\n",
        "Size: The total number of elements is 10 * 20 = 200.\n",
        "Dimensionality: The array has 2 dimensions.\n",
        "Reshaping to (20, 10)\n",
        "New Shape: (20, 10)\n",
        "This shape is obtained by swapping the dimensions of the original array.\n",
        "Size: The total number of elements remains 20 * 10 = 200.\n",
        "Dimensionality: The dimensionality remains 2.\n",
        "Effect: The reshaped array has the same total number of elements but a different arrangement in terms of rows and columns. This does not alter the size or the number of dimensions.\n",
        "\n",
        "Reshaping to (5, 40)\n",
        "New Shape: (5, 40)\n",
        "This shape has 5 rows and 40 columns.\n",
        "Size: The total number of elements is still 5 * 40 = 200.\n",
        "Dimensionality: The dimensionality remains 2.\n",
        "Effect: The reshaped array has the same total number of elements but different row and column counts compared to the previous reshapes.\n",
        "\n",
        "Summary of Reshaping\n",
        "Impact on Shape:\n",
        "\n",
        "Changing the shape of an array adjusts how the data is organized but does not change the total number of elements. For example, reshaping (10, 20) to (20, 10) or (5, 40) just rearranges the data.\n",
        "Impact on Size:\n",
        "\n",
        "The total number of elements (size) remains constant. In all reshapes, the size of the array is 200 elements.\n",
        "Impact on Dimensionality:\n",
        "\n",
        "The dimensionality (number of axes) remains the same. In these cases, the array retains 2 dimensions throughout reshaping."
      ],
      "metadata": {
        "id": "xrbPOqyRg4rx"
      }
    },
    {
      "cell_type": "markdown",
      "source": [
        "27. Question: Generate a large 2D array and demonstrate the use of np. reshape\n",
        "() and unravel () to manipulate its shape for various linear algebra operations."
      ],
      "metadata": {
        "id": "CnMOu7srhxL5"
      }
    },
    {
      "cell_type": "code",
      "source": [
        "import numpy as np\n",
        "\n",
        "np.random.seed(0)\n",
        "large_array = np.random.randint(1, 100, size=(6, 12))\n",
        "\n",
        "print(\"Original 2D array (shape (6, 12)):\")\n",
        "print(large_array)\n",
        "\n",
        "reshaped_4x18 = np.reshape(large_array, (4, 18))\n",
        "print(\"\\nReshaped array (shape (4, 18)):\")\n",
        "print(reshaped_4x18)\n",
        "\n",
        "reshaped_3x24 = np.reshape(large_array, (3, 24))\n",
        "print(\"\\nReshaped array (shape (3, 24)):\")\n",
        "print(reshaped_3x24)\n",
        "\n",
        "flattened_array = np.ravel(large_array)\n",
        "print(\"\\nFlattened array (shape (72,)):\")\n",
        "print(flattened_array)\n",
        "\n",
        "matrix1 = np.reshape(flattened_array, (6, 12))\n",
        "matrix2 = np.reshape(flattened_array, (12, 6))\n",
        "\n",
        "product = np.dot(matrix1, matrix2)\n",
        "print(\"\\nMatrix multiplication result (shape (6, 6)):\")\n",
        "print(product)"
      ],
      "metadata": {
        "colab": {
          "base_uri": "https://localhost:8080/"
        },
        "id": "yvGIAQW1g4yr",
        "outputId": "cf96f28a-f5b6-4520-d10f-29e03c8ee7fe"
      },
      "execution_count": 43,
      "outputs": [
        {
          "output_type": "stream",
          "name": "stdout",
          "text": [
            "Original 2D array (shape (6, 12)):\n",
            "[[45 48 65 ... 88 71 89]\n",
            " [89 13 59 ... 38 26 78]\n",
            " [73 10 21 ... 89 50 30]\n",
            " [20 20 15 ... 32 75 24]\n",
            " [36 76 56 ...  6 39 18]\n",
            " [80  5 43 ... 36 12 47]]\n",
            "\n",
            "Reshaped array (shape (4, 18)):\n",
            "[[45 48 65 ... 66 40 88]\n",
            " [47 89 82 ... 89 50 30]\n",
            " [20 20 15 ... 29 35  1]\n",
            " [ 1 37 54 ... 36 12 47]]\n",
            "\n",
            "Reshaped array (shape (3, 24)):\n",
            "[[45 48 65 ... 38 26 78]\n",
            " [73 10 21 ... 32 75 24]\n",
            " [36 76 56 ... 36 12 47]]\n",
            "\n",
            "Flattened array (shape (72,)):\n",
            "[45 48 65 ... 36 12 47]\n",
            "\n",
            "Matrix multiplication result (shape (6, 6)):\n",
            "[[35356 24560 33395 33614 28585 33504]\n",
            " [32642 34465 39231 36346 32597 27949]\n",
            " [29418 32947 37315 34069 32315 25709]\n",
            " [20956 18414 22633 22871 19801 14979]\n",
            " [23602 14567 18957 22633 19734 19184]\n",
            " [20978 21740 24408 22012 21099 20554]]\n"
          ]
        }
      ]
    },
    {
      "cell_type": "markdown",
      "source": [
        "28. Question: Given a 6x6 matrix, use advanced indexing and slicing to extract\n",
        "the upper triangular part of the matrix and set the lower triangular part to zero.\n",
        "Verify the result."
      ],
      "metadata": {
        "id": "c2bbPwfug45C"
      }
    },
    {
      "cell_type": "code",
      "source": [
        "import numpy as np\n",
        "\n",
        "np.random.seed(0)\n",
        "matrix_6x6 = np.random.randint(1, 100, size=(6, 6))\n",
        "\n",
        "print(\"Original 6x6 matrix:\")\n",
        "print(matrix_6x6)\n",
        "\n",
        "upper_triangular = np.triu(matrix_6x6)\n",
        "\n",
        "print(\"\\nUpper triangular part of the matrix:\")\n",
        "print(upper_triangular)\n",
        "\n",
        "lower_triangular_mask = np.tril(np.ones_like(matrix_6x6), -1)\n",
        "\n",
        "matrix_with_lower_zeroed = matrix_6x6 * lower_triangular_mask\n",
        "\n",
        "print(\"\\nMatrix with lower triangular part set to zero:\")\n",
        "print(matrix_with_lower_zeroed)\n",
        "\n",
        "verification = np.all(matrix_with_lower_zeroed == np.triu(matrix_6x6))\n",
        "\n",
        "print(\"\\nVerification that the matrix has zeros in the lower triangle and the upper triangle is preserved:\")\n",
        "print(\"Verification result:\", verification)"
      ],
      "metadata": {
        "colab": {
          "base_uri": "https://localhost:8080/"
        },
        "id": "LbdmZoQ4g4_B",
        "outputId": "bd58dfaf-e734-4ddc-8b84-e7e469ca003e"
      },
      "execution_count": 44,
      "outputs": [
        {
          "output_type": "stream",
          "name": "stdout",
          "text": [
            "Original 6x6 matrix:\n",
            "[[45 48 65 68 68 10]\n",
            " [84 22 37 88 71 89]\n",
            " [89 13 59 66 40 88]\n",
            " [47 89 82 38 26 78]\n",
            " [73 10 21 81 70 80]\n",
            " [48 65 83 89 50 30]]\n",
            "\n",
            "Upper triangular part of the matrix:\n",
            "[[45 48 65 68 68 10]\n",
            " [ 0 22 37 88 71 89]\n",
            " [ 0  0 59 66 40 88]\n",
            " [ 0  0  0 38 26 78]\n",
            " [ 0  0  0  0 70 80]\n",
            " [ 0  0  0  0  0 30]]\n",
            "\n",
            "Matrix with lower triangular part set to zero:\n",
            "[[ 0  0  0  0  0  0]\n",
            " [84  0  0  0  0  0]\n",
            " [89 13  0  0  0  0]\n",
            " [47 89 82  0  0  0]\n",
            " [73 10 21 81  0  0]\n",
            " [48 65 83 89 50  0]]\n",
            "\n",
            "Verification that the matrix has zeros in the lower triangle and the upper triangle is preserved:\n",
            "Verification result: False\n"
          ]
        }
      ]
    }
  ]
}