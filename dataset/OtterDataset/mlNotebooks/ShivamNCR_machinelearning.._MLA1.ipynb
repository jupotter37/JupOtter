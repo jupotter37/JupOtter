{
 "cells": [
  {
   "cell_type": "code",
   "execution_count": null,
   "id": "4a6b23cc-e95e-4ff0-8af5-38698c3ef014",
   "metadata": {},
   "outputs": [],
   "source": [
    "#QUESTIONS....\n",
    "\n",
    "\n",
    "1.Explain the following with examples:\n",
    "\n",
    "    1.Artificial intelligence.\n",
    "    2.Machine learning.\n",
    "    3.Deep learning.\n",
    "    \n",
    "2.What is supervised learning?List some examples.\n",
    "\n",
    "3.What is unsupervised learning?List some examples.\n",
    "\n",
    "4.What is the difference between AI,ML,DL,DS?\n",
    "\n",
    "5.What is the main difference between Supervised,unsupervised and semi-supervised learning?\n",
    "\n",
    "6.what is train, test and validation split?Explain the importance of each term.\n",
    "\n",
    "7.How can unsupervised learning be used in anamoly detection?\n",
    "\n",
    "8.List down some supervised and unsupervised learning algorithms?"
   ]
  },
  {
   "cell_type": "code",
   "execution_count": null,
   "id": "55ffbb48-2809-4bcb-9ad4-67a777c2bf0c",
   "metadata": {},
   "outputs": [],
   "source": [
    "#Sol1:\n",
    "\n",
    "1.Artificial intelligence:\n",
    "    Smart applications that can perform its own task without any human interventions.\n",
    "    \n",
    "2.Machine learning:\n",
    "    It provides stats to analyze ,visualize ,forecasting,predictve models for building smart applications.\n",
    "    \n",
    "3.Deep learning:\n",
    "    Deep learning models can recognize complex patterns in pictures, text, sounds, and other data \n",
    "    to produce accurate insights and predictions.\n"
   ]
  },
  {
   "cell_type": "code",
   "execution_count": null,
   "id": "120c0589-9861-4b5b-940d-ae8fecf8e356",
   "metadata": {},
   "outputs": [],
   "source": []
  },
  {
   "cell_type": "code",
   "execution_count": null,
   "id": "11cbf603-5a8d-442c-927f-63c7b3cb445d",
   "metadata": {},
   "outputs": [],
   "source": [
    "#Sol2:\n",
    "\n",
    "1.Supervised learning:\n",
    "\n",
    "By analyzing patterns and relationships between input and output variables in labeled data,\n",
    "the algorithm learns to make predictions.\n",
    "In this learning, you already know the output feature of the dataset.\n",
    "\n",
    "Ex.\n",
    "Image and speech recognition, recommendation systems, and fraud detection are all examples\n",
    "of how supervised learning is used."
   ]
  },
  {
   "cell_type": "code",
   "execution_count": null,
   "id": "779ae86f-858a-4db4-9a2e-36554b37b78c",
   "metadata": {},
   "outputs": [],
   "source": [
    " #Sol3:\n",
    "  \n",
    " 1.Unsupervised machine learning:\n",
    "   It uses machine learning algorithms to analyze and cluster unlabeled datasets. These algorithms discover hidden\n",
    "    patterns or data groupings without the need for human intervention.\n",
    "    \n",
    "EX. a supermarket wants to increase its revenue. It decides to implement a machine learning \n",
    "    algorithm on its sold products."
   ]
  },
  {
   "cell_type": "code",
   "execution_count": null,
   "id": "88e4c26d-58ec-4b61-8909-e2198b3a0b2f",
   "metadata": {},
   "outputs": [],
   "source": [
    "#Sol4:\n",
    "\n",
    "1.Artificial intelligence:\n",
    "    Smart applications that can perform its own task without any human interventions.\n",
    "    \n",
    "2.Machine learning:\n",
    "    It provides stats to analyze ,visualize ,forecasting,predictve models for building smart applications.\n",
    "    \n",
    "\n",
    "3.Deep Learning: - Deep Learning is a subset of Machine Learning where learning method is based on Feature Learning.\n",
    "E.g. To Identify a Dog/Cat from an image it has to learn its features first like tail,ears,etc.\n",
    "\n",
    "4.Data Science: It is the Art and Science of drawing actionable insights from the data.\n",
    "It is applied in most of the domains like Retail, Bank, E-Commerce, Healthcare and Telecom, etc."
   ]
  },
  {
   "cell_type": "code",
   "execution_count": null,
   "id": "d449b03a-53df-4bc3-b611-ae102a32d74f",
   "metadata": {},
   "outputs": [],
   "source": [
    "#Sol5:\n",
    "\n",
    "Supervised learning is a problem with labeled data, expecting to develop predictive capability.\n",
    "\n",
    "Unsupervised learning is discovering process, diving into unlabeled data to capture hidden information.\n",
    "\n",
    "Semi-supervised learning is a blend of supervised and unsupervised learning."
   ]
  },
  {
   "cell_type": "code",
   "execution_count": null,
   "id": "6385de85-29de-4f84-8763-6d183678bce8",
   "metadata": {},
   "outputs": [],
   "source": [
    "#sol6:\n",
    "\n",
    "Training data is the set of the data on which the actual training takes place. \n",
    "\n",
    "Validation split helps to improve the model performance by fine-tuning the model after each epoch.\n",
    "\n",
    "The test set informs us about the final accuracy of the model after completing the training phase."
   ]
  },
  {
   "cell_type": "code",
   "execution_count": null,
   "id": "13afa7b0-68bb-426a-8e85-bc6d6400c2a4",
   "metadata": {},
   "outputs": [],
   "source": [
    "#sol7:\n",
    "\n",
    "Unsupervised Anomaly Detection: This method does require any training data and instead assumes two things \n",
    "about the data ie Only a small percentage of data is anomalous and Any anomaly is statistically different\n",
    "from the normal samples."
   ]
  },
  {
   "cell_type": "code",
   "execution_count": null,
   "id": "bb17245f-d55f-4d7a-bb7d-c143474decff",
   "metadata": {},
   "outputs": [],
   "source": [
    "#Sol8:\n",
    "\n",
    "1.Supervised Learning:\n",
    "It includes various algorithms such as Linear Regression, Logistic Regression, Support Vector Machine,\n",
    "Multi-class Classification, Decision tree, Bayesian Logic, etc.\n",
    "\n",
    "\n",
    "2.Unsupervised Learning:\n",
    "It includes various algorithms such as Clustering, KNN, and Apriori algorithm."
   ]
  }
 ],
 "metadata": {
  "kernelspec": {
   "display_name": "Python 3 (ipykernel)",
   "language": "python",
   "name": "python3"
  },
  "language_info": {
   "codemirror_mode": {
    "name": "ipython",
    "version": 3
   },
   "file_extension": ".py",
   "mimetype": "text/x-python",
   "name": "python",
   "nbconvert_exporter": "python",
   "pygments_lexer": "ipython3",
   "version": "3.10.8"
  }
 },
 "nbformat": 4,
 "nbformat_minor": 5
}
