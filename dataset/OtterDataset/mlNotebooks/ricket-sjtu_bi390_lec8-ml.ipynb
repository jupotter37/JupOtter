{
 "cells": [
  {
   "cell_type": "markdown",
   "metadata": {},
   "source": [
    "# Chapter 8: Introduction to machine learning\n",
    "___"
   ]
  },
  {
   "cell_type": "markdown",
   "metadata": {
    "slideshow": {
     "slide_type": "slide"
    }
   },
   "source": [
    "## Linear algebra: Terminology\n",
    "\n",
    "- $\\mathbf{X} \\in \\mathbb{R}^{n \\times m}$ is used to denote a $n$-by-$m$ matrix.\n",
    "- $\\mathbf{x} \\in \\mathbb{R}^n$ is used to denote a $n$-dimensional vector.\n",
    "- $\\mathbf{x}^{(i)}$ is used to denote the $i$-th row of the matrix $\\mathbf{X}$.\n",
    "- $x_j$ is used to denote the $j$-th element of the vector $\\mathbf{x}$."
   ]
  },
  {
   "cell_type": "markdown",
   "metadata": {
    "slideshow": {
     "slide_type": "slide"
    }
   },
   "source": [
    "## VC-dimension\n",
    "\n",
    "- Two points of two classes on a line can be surely separated by a point.\n",
    "- Three points of two classes on a line are not guaranteed to be separated.\n",
    "- On the 2-D space, 3 points of two classes can be surely separated by a line.\n",
    "- On the 2-D space, 4 points of two classes are not guaranteed to be separated.\n",
    "- ...."
   ]
  },
  {
   "cell_type": "markdown",
   "metadata": {
    "slideshow": {
     "slide_type": "slide"
    }
   },
   "source": [
    "## Supervised learning\n",
    "\n",
    "- With the input data $\\mathbf{y}$ and  $\\mathbf{X}$,  train and evaluate $f: \\mathbf{X} \\mapsto \\mathbf{y}$\n",
    "    * Regression:  $\\mathbf{y}$ is continuous variable.\n",
    "    * Classification: $\\mathbf{y}$ is categorical variable."
   ]
  },
  {
   "cell_type": "markdown",
   "metadata": {
    "slideshow": {
     "slide_type": "slide"
    }
   },
   "source": [
    "## Linear regression\n",
    "\n",
    "- $\\mathbf{y} = \\mathbf{X w}$, where $\\mathbf{y} \\in \\mathbb{R}^n$, $\\mathbf{X} \\in \\mathbb{R}^{n \\times m}$\n",
    "- Loss function (squared loss): $L = \\frac{1}{2} (\\mathbf{y - Xw})^T (\\mathbf{y - Xw})$\n",
    "- Normal equation:\n",
    "    * $\\mathbf{w} = (\\mathbf{X^T X})^{-1} \\mathbf{X}^T \\mathbf{y}$\n",
    "    * When $\\mathbf{X}$ is not singular; that is, $\\mathbf{X}^T \\mathbf{X}$ is invertible\n",
    "\n",
    "- Regularization:\n",
    "    * Loss function: $L = \\frac{1}{2}(\\mathbf{y - Xw})^T (\\mathbf{y - Xw}) + \\lambda_1 \\lVert \\mathbf{w} \\rVert_2^2 + \\lambda_2 \\lVert \\mathbf{w} \\rVert_1$\n",
    "    * $\\ell_2$-regularization: ridge regression, $\\lambda_2 = 0$\n",
    "    * $\\ell_1$-regularization: LASSO (least absolute shrinkage and selection operator), $\\lambda_1 = 0$\n",
    "    * $\\ell_1$ + $\\ell_2$-regularization: Elastc net"
   ]
  },
  {
   "cell_type": "markdown",
   "metadata": {
    "slideshow": {
     "slide_type": "slide"
    }
   },
   "source": [
    "## Linear classifiers\n",
    "When the data is linearly separable:\n",
    "- Perceptron to Multiple-Layer Perceptron (MLP)\n",
    "- Logistic regression to Softmax classifier\n",
    "- Linear Support Vector Machines (SVM)"
   ]
  },
  {
   "cell_type": "markdown",
   "metadata": {
    "slideshow": {
     "slide_type": "slide"
    }
   },
   "source": [
    "## Perceptron\n",
    "\n",
    "![](images/perceptron1.png)\n",
    "We can use a perceptron rule to classify the instances:\n",
    "$$\n",
    "\\begin{eqnarray}\n",
    "z &=& \\mathbf{w}^T \\mathbf{x}\\\\\n",
    "y &=& g(z) = \\left\\{ \\begin{array}{ll}\n",
    "1 & \\text{if } z \\ge 0\\\\\n",
    "-1 & \\text{otherwise}\n",
    "\\end{array} \\right.\n",
    "\\end{eqnarray}\n",
    "$$\n",
    "\n",
    "This is the illustration of the perceptron:\n",
    "![](images/perceptron2.png)\n",
    "\n",
    "When $\\mathbf{y}$ is binary (dichotomous):\n",
    "\n",
    "1. Initiate $\\mathbf{w} \\in \\mathbb{R}^m$\n",
    "2. Compute $\\hat{\\mathbf{y}} = \\mathbf{Xw}$\n",
    "3. REPEAT\n",
    "    * $\\Delta \\mathbf{w} = \\eta (\\hat{y}^{(i)} - y^{i}) \\mathbf{x}^{(i)}$\n",
    "    * $\\mathbf{w} := \\mathbf{w} - \\Delta \\mathbf{w}$\n",
    "    * Update $\\mathbf{y}$\n",
    "4. UNTIL no update can be done to $\\mathbf{w}$\n",
    "5. Output $\\mathbf{w}$"
   ]
  },
  {
   "cell_type": "markdown",
   "metadata": {
    "slideshow": {
     "slide_type": "slide"
    }
   },
   "source": [
    "## Logistic regression\n",
    "\n",
    "![](images/logistic1.png)\n",
    "Logistic regression can be used to predict the conditional probability $p(y=1 \\big| \\mathbf{x})$:\n",
    "- Odds ratio (OR): $\\frac{p(y=1)}{p(y=0)} = \\frac{p(y=1)}{1-p(y=1)}$\n",
    "- Logit function: $\\log \\frac{p(y=1)}{1-p(y=1)}$\n",
    "- Sigmoid function: $g(z) = \\frac{1}{1+\\exp(-z)}$\n",
    "- Logistic regression:\n",
    "    * $logit(\\mathbf{y}) = \\mathbf{Xw}$\n",
    "    * $p(y=1) = \\frac{1}{1+\\exp(-\\mathbf{w}^T \\mathbf{x})}$"
   ]
  },
  {
   "cell_type": "markdown",
   "metadata": {
    "slideshow": {
     "slide_type": "slide"
    }
   },
   "source": [
    "## Logistic regression: Optimization\n",
    "\n",
    "- $p(y^{(i)} \\big| \\mathbf{x}^{(i)}, \\mathbf{w}) = p(y^{(i)}=1)^{y^{(i)}} p(y^{(i)}=0)^{1-y^{(i)}}$\n",
    "- Likelihood function: $L = \\prod_{i=1}^n p(y^{(i)} \\big| \\mathbf{x}^{(i)}, \\mathbf{w})$\n",
    "- Log-likelihood function: $\\ell(\\mathbf{w}) = \\log L = \\sum_{i=1}^n y^{(i)} \\mathbf{w}^T \\mathbf{x}^{(i)} - \\log(1 + \\exp(\\mathbf{w}^T \\mathbf{x}^{(i)}))$\n",
    "- $\\mathbf{w}^{*} = \\operatorname{argmax}_{\\mathbf{w}} \\ell(\\mathbf{w})$\n",
    "    * $\\ell(\\mathbf{w})$ is a concave function\n",
    "    * Gradient ascent can be used for finding the optimal value."
   ]
  },
  {
   "cell_type": "markdown",
   "metadata": {
    "slideshow": {
     "slide_type": "slide"
    }
   },
   "source": [
    "## Gradient ascent for logistic regression\n",
    "\n",
    "- Gradient: $\\nabla_{\\mathbf{w}} \\ell(\\mathbf{w}) = \\left[  \\frac{\\partial \\ell}{\\partial w_0}, \\dots,  \\frac{\\partial \\ell}{\\partial w_n}\\right]$\n",
    "- Update rule: $\\Delta \\mathbf{w} =  \\eta \\nabla_{\\mathbf{w}} \\ell(\\mathbf{w})$\n",
    "    * $\\mathbf{w}^{(t+1)} = \\mathbf{w}^{(t)} + \\eta \\frac{\\partial \\ell(\\mathbf{w})}{\\partial \\mathbf{w}} $\n",
    "- Conjugate gradient ascent approach can be much better.\n",
    "- Or we can try stochastic gradient ascent, rather than batch gradient ascent."
   ]
  },
  {
   "cell_type": "markdown",
   "metadata": {
    "slideshow": {
     "slide_type": "slide"
    }
   },
   "source": [
    "## Support vector machines (SVM)\n",
    "- Margin maximization: \n",
    "$$\n",
    "\\begin{array}{ll}\n",
    "\\max_{\\mathbf{w, b}} & \\frac{2}{\\lVert  \\mathbf{w} \\rVert} \\\\\n",
    "\\textit{s.t.} & y_i (\\mathbf{w}^T \\mathbf{x}_i + b) \\ge 1\n",
    "\\end{array}\n",
    "$$\n",
    "- Converted to minimization problem:\n",
    "$$\n",
    "\\begin{array}{ll}\n",
    "\\min_{\\mathbf{w}, b} & \\frac{1}{2} \\lVert  \\mathbf{w} \\rVert^2 \\\\\n",
    "\\textit{s.t.} & y_i (\\mathbf{w}^T \\mathbf{x}_i + b) \\ge 1\n",
    "\\end{array}\n",
    "$$"
   ]
  },
  {
   "cell_type": "markdown",
   "metadata": {
    "slideshow": {
     "slide_type": "slide"
    }
   },
   "source": [
    "## Lagrangian optimization\n",
    "\n",
    "- Optimization problem of the form:\n",
    "$$\n",
    "\\begin{array}{ll}\n",
    "\\min_{\\mathbf{x}} &  f(\\mathbf{x}) \\\\\n",
    "\\textit{s.t.} & g(\\mathbf{x}) \\le 0 \\\\\n",
    "& h(\\mathbf{x}) = 0\n",
    "\\end{array}\n",
    "$$\n",
    "- Lagrangian function: $L(\\mathbf{x}, \\lambda, \\gamma) = f(\\mathbf{x}) + \\lambda g(\\mathbf{x}) + \\gamma h(\\mathbf{x}), \\lambda \\ge 0$\n",
    "- The original problem now can be converted into:\n",
    "$$\n",
    "\\begin{array}{ll}\n",
    "\\min_{\\mathbf{x}} L(\\mathbf{x}, \\lambda, \\gamma)\n",
    "\\end{array}\n",
    "$$"
   ]
  },
  {
   "cell_type": "markdown",
   "metadata": {
    "slideshow": {
     "slide_type": "slide"
    }
   },
   "source": [
    "## Max-margin problem: Lagrangian method of multiplier (拉格朗日乘子法)\n",
    "- Original form:\n",
    "$$\n",
    "\\begin{array}{ll}\n",
    "\\min_{\\mathbf{w}, b} & \\frac{1}{2} \\lVert  \\mathbf{w} \\rVert^2 \\\\\n",
    "\\textit{s.t.} & y_i (\\mathbf{w}^T \\mathbf{x}_i + b) \\ge 1\n",
    "\\end{array}\n",
    "$$\n",
    "- Lagrangian form:\n",
    "$$\n",
    "L(\\mathbf{w}, b, \\mathbf{\\alpha}) = \\frac{1}{2} \\lVert \\mathbf{w} \\rVert^2 - \\sum_{i=1}^n  \\alpha_i  (y_i (\\mathbf{w}^T \\mathbf{x}_i + b) - 1), \\alpha_i \\ge 0\n",
    "$$\n",
    "- Primal problem (原问题):\n",
    "$$\n",
    "\\min_{\\mathbf{w}, b}\\,\\max_{\\mathbf{\\alpha}}\\; L(\\mathbf{w}, b, \\mathbf{\\alpha})\n",
    "$$\n",
    "- Dual problem (对偶问题):\n",
    "$$\n",
    "\\max_{\\mathbf{\\alpha}} \\,\\min_{\\mathbf{w}, b}\\; L(\\mathbf{w}, b, \\mathbf{\\alpha})\n",
    "$$"
   ]
  },
  {
   "cell_type": "markdown",
   "metadata": {
    "slideshow": {
     "slide_type": "slide"
    }
   },
   "source": [
    "## Dual function of the Lagrangian function\n",
    "$$\n",
    "\\begin{array}{lcl}\n",
    "L(\\mathbf{w}, b, \\mathbf{\\alpha}) &=& \\frac{1}{2} \\lVert \\mathbf{w} \\rVert^2 - \\sum_{i=1}^n \\alpha_i (y_i (\\mathbf{w}^T \\mathbf{x}_i + b) - 1) \\\\\n",
    "&=& \\frac{1}{2} \\mathbf{w}^T \\mathbf{w} - \\mathbf{w}^T \\sum_{i=1}^n \\alpha_i  y_i  \\mathbf{x}_i - b \\sum_{i=1}^n \\alpha_i y_i + \\sum_{i=1}^n \\alpha_i\n",
    "\\end{array}\n",
    "$$\n",
    "- Compute the partial derivatives with regard to $\\mathbf{w}$ and $b$:\n",
    "$$\n",
    "\\begin{array}{lcl}\n",
    "\\frac{\\partial L}{\\partial \\mathbf{w}} &=& \\mathbf{w} - \\sum_{i=1}^n \\alpha_i y_i  \\mathbf{x}_i = 0\\\\\n",
    "\\frac{\\partial L}{\\partial b} &=& \\sum_{i=1}^n \\alpha_i y_i  = 0\n",
    "\\end{array}\n",
    "$$\n",
    "- Then we can get:\n",
    "$$\n",
    "\\begin{array}{lcl}\n",
    "L(\\mathbf{\\alpha}) &=& \\sum_{i=1}^n \\alpha_i - \\frac{1}{2} (\\sum_{i=1}^n \\alpha_i y_i \\mathbf{x}_i)^T \\sum_{i=1}^n \\alpha_i y_i \\mathbf{x}_i \\\\\n",
    "&=& \\sum_{i=1}^n \\alpha_i  - \\frac{1}{2}\\sum_{i,j=1}^n \\alpha_i \\alpha_j y_i y_j \\mathbf{x}_i^T \\mathbf{x}_j\n",
    "\\end{array}\n",
    "$$\n",
    "- Therefore the problem is converted to maximization of $L(\\mathbf{\\alpha})$:\n",
    "$$\n",
    "\\begin{array}{ll}\n",
    "\\max_{\\mathbf{\\alpha}} &  \\sum_{i=1}^n \\alpha_i  - \\frac{1}{2}\\sum_{i=1}^n \\sum_{j=1}^n \\alpha_i \\alpha_j y_i y_j \\mathbf{x}_i^T \\mathbf{x}_j \\\\\n",
    "\\textit{s.t.} & \\sum_{i=1}^n \\alpha_i y_i = 0 \\\\\n",
    "& \\alpha_i \\ge 0, i=1, \\dots, n\n",
    "\\end{array}\n",
    "$$"
   ]
  },
  {
   "cell_type": "markdown",
   "metadata": {
    "slideshow": {
     "slide_type": "slide"
    }
   },
   "source": [
    "## Sequential minimal optimization (SMO)\n",
    "\n",
    "If we have multiple Lagrangian multipliers:\n",
    "- Choose two of the multipliers for optimization (say $\\alpha_1, \\alpha_2$), while fix the other multiliers\n",
    "\n",
    "- Iteration equation:\n",
    "$$\n",
    "g(\\mathbf{x}) = \\sum_{i=1}^n y_i \\alpha_i \\kappa(\\mathbf{x}_i, \\mathbf{x}) + b\n",
    "$$\n",
    "- Compute $\\eta$:\n",
    "$$\n",
    "\\eta = \\kappa(\\mathbf{x}_1, \\mathbf{x}_1) + \\kappa(\\mathbf{x}_2, \\mathbf{x}_2) - 2 \\kappa(\\mathbf{x}_1, \\mathbf{x}_2)\n",
    "$$\n",
    "- Compute $E_i$:\n",
    "$$\n",
    "E_i = g(\\mathbf{x}_i) - y_i = \\left( \\sum_{j=1}^n y_j \\alpha_j \\kappa(\\mathbf{x}_j, \\mathbf{x}_i) + b \\right) - y_i, i=1, 2\n",
    "$$\n",
    "- Update $\\alpha_j$:\n",
    "$$\n",
    "\\alpha_j^{\\text{new}} = \\alpha_j^{\\text{old}} + \\frac{y_j (E_i - E_j)}{\\eta}\n",
    "$$"
   ]
  },
  {
   "cell_type": "markdown",
   "metadata": {},
   "source": [
    "## Linearly-separable SVM\n",
    "After getting $\\mathbf{\\alpha}^{*}$, we can compute\n",
    "$$\n",
    "\\begin{array}{lcl}\n",
    "\\mathbf{w}^{*} &=& \\sum_{i=1}^n \\alpha_i^{*} y_i \\mathbf{x}_i \\\\\n",
    "b^{*}  &=&  y_j - \\sum_{i=1}^n \\alpha_i^{*} y_i \\mathbf{x}_i ^T \\mathbf{x}_j \n",
    "\\end{array}\n",
    "$$\n",
    "\n",
    "Then we can get the separating hyperplane:\n",
    "$$\n",
    "\\mathbf{w^{*}}^T \\mathbf{x} + b^{*} = 0\n",
    "$$\n",
    "\n",
    "And the decision function is:\n",
    "$$\n",
    "f(\\mathbf{x}) = \\operatorname{sign} \\left( \\mathbf{w^{*}}^T \\mathbf{x} + b^{*} \\right)\n",
    "$$"
   ]
  },
  {
   "cell_type": "markdown",
   "metadata": {
    "slideshow": {
     "slide_type": "slide"
    }
   },
   "source": [
    "## Soft-margin classifier: the introduction of slack variable\n",
    "\n",
    "When the data is not linearly-separable (i.e., there exist outliers), we can introduce the slack variables $\\xi_i \\ge 0$, such that the constaint turn into:\n",
    "$$\n",
    "y_i [\\mathbf{w}^T \\mathbf{x}_i + b] \\ge 1 - \\xi_i\n",
    "$$\n",
    "\n",
    "And the objective function becomes:\n",
    "$$\n",
    "\\begin{array}{ll}\n",
    "\\min_{\\mathbf{w}, b} & \\frac{1}{2} \\lVert \\mathbf{w} \\rVert^2 + C \\sum_{i=1}^n \\xi_i\\\\\n",
    "\\textit{s.t.} & y_i [\\mathbf{w}^T \\mathbf{x}_i + b] \\ge 1 - \\xi_i \\\\\n",
    "& \\xi_i \\ge 0\n",
    "\\end{array}\n",
    "$$"
   ]
  },
  {
   "cell_type": "markdown",
   "metadata": {
    "slideshow": {
     "slide_type": "slide"
    }
   },
   "source": [
    "## Lagrangian function with slack variable\n",
    "\n",
    "- The Lagrangian function:\n",
    "$$\n",
    "L(\\mathbf{w}, b, \\mathbf{\\xi}, \\mathbf{\\alpha}, \\mathbf{\\mu}) = \\frac{1}{2} \\lVert \\mathbf{w} \\rVert^2 + C\\sum_{i=1}^n \\xi_i - \\sum_{i=1}^n \\alpha_i (y_i(\\mathbf{w}^T \\mathbf{x}_i + b - 1 + \\xi_i)) - \\sum_{i=1}^n \\mu_i \\xi_i \n",
    "$$\n",
    "\n",
    "- Compute the partial derivatives with regard to $\\mathbf{w}$, $b$ and $\\mathbf{\\xi}$:\n",
    "$$\n",
    "\\begin{array}{lcl}\n",
    "\\frac{\\partial L}{\\partial \\mathbf{w}}  = 0 &\\Rightarrow & \\mathbf{w} = \\sum_{i=1}^n \\alpha_i y_i \\mathbf{x}_i\\\\\n",
    "\\frac{\\partial L}{\\partial b} = 0 & \\Rightarrow & \\sum_{i=1}^n \\alpha_i y_i = 0\\\\\n",
    "\\frac{\\partial L}{\\partial \\mathbf{\\xi}} = 0 & \\Rightarrow & C - \\alpha_i - \\mu_i = 0\n",
    "\\end{array}\n",
    "$$"
   ]
  },
  {
   "cell_type": "markdown",
   "metadata": {},
   "source": [
    "## Lagrangian method of multiplier\n",
    "\n",
    "- Primal problem\n",
    "$$\n",
    "\\begin{array}{ll}\n",
    "\\max_{\\mathbf{\\alpha}} & -\\frac{1}{2} \\sum_{i=1}^n \\sum_{j=1}^n \\alpha_i \\alpha_j y_i y_j \\mathbf{x}_i^T \\mathbf{x}_j + \\sum_{i=1}^n \\alpha_i \\\\\n",
    "\\textit{s.t.} & \\sum_{i=1}^n \\alpha_i y_i = 0 \\\\\n",
    "& C - \\alpha_i - \\mu_i = 0\\\\\n",
    "& \\alpha_i \\ge 0, \\mu_i \\ge 0, i=1, \\dots, n\n",
    "\\end{array}\n",
    "$$\n",
    "- Dual problem:\n",
    "$$\n",
    "\\begin{array}{ll}\n",
    "\\min_{\\mathbf{\\alpha}} & \\frac{1}{2} \\sum_{i=1}^n \\sum_{j=1}^n \\alpha_i \\alpha_j y_i y_j \\mathbf{x}_i^T \\mathbf{x}_j - \\sum_{i=1}^n \\alpha_i \\\\\n",
    "\\textit{s.t.} & \\sum_{i=1}^n \\alpha_i y_i = 0 \\\\\n",
    "& C - \\alpha_i - \\mu_i = 0\\\\\n",
    "& 0 \\le \\alpha_i \\le C, i=1, \\dots, n\n",
    "\\end{array}\n",
    "$$\n",
    "\n",
    "- Solution:\n",
    "$$\n",
    "\\begin{array}{lcl}\n",
    "\\mathbf{w}^{*} &=& \\sum_{i=1}^n \\alpha_i y_i \\mathbf{x}_i  \\\\\n",
    "b^{*} &=& \\frac{\\operatorname{max}_{i: y=-1} \\mathbf{w^*}^T \\mathbf{x}_i + \\operatorname{min}_{i: y=+1} \\mathbf{w^*}^T \\mathbf{x}_i }{2}\n",
    "\\end{array}\n",
    "$$"
   ]
  },
  {
   "cell_type": "markdown",
   "metadata": {
    "slideshow": {
     "slide_type": "slide"
    }
   },
   "source": [
    "## Nonlinear SVM: Kernel SVM\n",
    "\n",
    "When the data is not linearly separable in the original feature space, we can map them to a higher-dimensional space using the basis function $\\phi(\\cdot)$, to make them separable in the kernel space. We can replace $\\mathbf{x}_i, \\mathbf{x}_j$ in the previous equations with $\\phi(\\mathbf{x}_i), \\phi(\\mathbf{x}_j)$.\n",
    "\n",
    "- Linear kernel function: $\\kappa(\\mathbf{x}_i, \\mathbf{x}_j) = \\mathbf{x}_i^T \\mathbf{x}_j = \\mathbf{x}_i \\cdot \\mathbf{x}_j$\n",
    "- Multinomial kernel function: $\\kappa(\\mathbf{x}_i, \\mathbf{x}_j) = \\left( \\alpha \\lVert \\mathbf{x}_i - \\mathbf{x}_j \\rVert^a + \\gamma \\right)^b$\n",
    "- Gaussian kernel function (RBF): $\\kappa(\\mathbf{x}_i, \\mathbf{x}_j) = \\exp \\left( -\\frac{\\lVert \\mathbf{x}_i - \\mathbf{x}_j \\rVert^2}{2\\sigma^2} \\right)$\n",
    "- Sigmoid kernel function: $\\kappa(\\mathbf{x}_i, \\mathbf{x}_j) = \\operatorname{tanh}(\\gamma \\lVert \\mathbf{x}_i - \\mathbf{x}_j \\rVert^a + \\gamma)$\n",
    "\n",
    "We can compute the kernel matrix $\\mathbf{K}$ thus $k_{ij} = \\kappa(\\mathbf{x}_i, \\mathbf{x}_j)$:\n",
    "- $\\mathbf{K}$ is symmetric and positive semi-definite."
   ]
  },
  {
   "cell_type": "markdown",
   "metadata": {
    "slideshow": {
     "slide_type": "slide"
    }
   },
   "source": [
    "## Loss function\n",
    "\n",
    "- Logistic loss function\n",
    "- 0/1 loss function\n",
    "- Hinge loss function"
   ]
  },
  {
   "cell_type": "code",
   "execution_count": 1,
   "metadata": {
    "collapsed": false,
    "slideshow": {
     "slide_type": "slide"
    }
   },
   "outputs": [
    {
     "data": {
      "image/png": "[encoded data removed]",
      "text/plain": [
       "<matplotlib.figure.Figure at 0x7f4cf5c7fc90>"
      ]
     },
     "metadata": {},
     "output_type": "display_data"
    }
   ],
   "source": [
    "import math\n",
    "import numpy as np\n",
    "%matplotlib inline\n",
    "import matplotlib.pyplot as plt\n",
    "\n",
    "x = np.array(np.linspace(start=-3, stop=3, num=1001, dtype=np.float))\n",
    "y_logit = np.log(1 + np.exp(-x)) / math.log(2)\n",
    "y_01 = x < 0\n",
    "y_hinge = 1.0 - x\n",
    "y_hinge[y_hinge < 0] = 0\n",
    "plt.plot(x, y_logit, 'r--', label='Logistic Loss', linewidth=2)\n",
    "plt.plot(x, y_01, 'g-', label='0/1 Loss', linewidth=2)\n",
    "plt.plot(x, y_hinge, 'b-', label='Hinge Loss', linewidth=2)\n",
    "plt.grid()\n",
    "plt.legend(loc=0);"
   ]
  },
  {
   "cell_type": "markdown",
   "metadata": {
    "slideshow": {
     "slide_type": "slide"
    }
   },
   "source": [
    "## Decision tree\n",
    "\n",
    "- Shannon's Information Entropy (熵)\n",
    "$$\n",
    "H(D) = - \\sum_{k=1}^K  \\frac{\\lvert  C_k\\rvert}{\\lvert D \\rvert} \\log_2 \\frac{\\lvert  C_k\\rvert}{\\lvert D \\rvert}\n",
    "$$\n",
    "\n",
    "- Empirical Conditional entropy (经验条件熵)\n",
    "$$\n",
    "H(D \\big| A) = - \\sum_{i=1}^n \\frac{\\lvert D_i \\rvert}{\\lvert D \\rvert}  \\sum_{k=1}^K \\frac{\\lvert D_{ik}\\rvert}{\\lvert D_i \\rvert}\\log_2 \\frac{\\lvert D_{ik}\\rvert}{\\lvert D_i \\rvert}\n",
    "$$\n",
    "\n",
    "- Information gain (信息增益)\n",
    "$$\n",
    "g(D, A) = H(D) - H(D \\big| A)\n",
    "$$\n",
    "\n",
    "- Information gain rate (信息增益率)\n",
    "$$\n",
    "g_r(D, A) = g(D, A) / H(A)\n",
    "$$\n",
    "\n",
    "- Gini coefficient (基尼系数)\n",
    "$$\n",
    "Gini(\\mathbf{p}) = \\sum_{k=1}^K p_k (1- p_k) = 1- \\sum_{k=1}^K p_k^2 = 1 - \\sum_{k=1}^K \\left( \\frac{\\lvert C_k\\rvert}{\\lvert D \\rvert}\\right)^2\n",
    "$$"
   ]
  },
  {
   "cell_type": "markdown",
   "metadata": {
    "slideshow": {
     "slide_type": "slide"
    }
   },
   "source": [
    "## The Basic Algorithm\n",
    "\n",
    "1. Start at the root node as parent node\n",
    "2. Split the parent node at the feature $x_i$ to maximize information gain (IG)\n",
    "3. Assign training samples to new child nodes\n",
    "4. Stop if leave nodes are pure or early stopping criteria is satisfied, else repeat steps 1 and 2 for each new child node\n",
    "\n",
    "### Stopping Rules\n",
    "\n",
    "1. The leaf nodes are pure\n",
    "2. A maximal node depth is reached\n",
    "3. A minimum node size is reached\n",
    "4. Splitting a note does not lead to an information gain*"
   ]
  },
  {
   "cell_type": "markdown",
   "metadata": {
    "slideshow": {
     "slide_type": "slide"
    }
   },
   "source": [
    "## Decision tree: An example\n",
    "\n",
    "![](images/decisiontree1.png)\n",
    "\n",
    "### <font color=\"red\">Exercise</font>\n",
    "\n",
    "Compute the information gain at each split in the above decision tree."
   ]
  },
  {
   "cell_type": "markdown",
   "metadata": {},
   "source": [
    "## Ensemble Learning: Majority vote\n",
    "\n",
    "Ensemble learning works by combining multiple *weak* classifiers into a *strong classifier*  through majority vote or weighted majority vote.\n",
    "\n",
    "- **Bagging**: Bootstrapped Aggregating by resampling the training samples with replacement\n",
    "![](images/bagging.png)\n",
    "- **Boosting**: Boosting the performance of weaker learner through gradient, and etc.\n",
    "![](images/boosting.png)\n",
    "- Known ensemble learners:\n",
    "    * random forest (随机森林)\n",
    "    * adaptive boosting (AdaBoost)\n",
    "    * GBDT"
   ]
  },
  {
   "cell_type": "markdown",
   "metadata": {},
   "source": [
    "## Assessment of the classfiers\n",
    "\n",
    "\n",
    "- For a binary classifier, both the prediction error (ERR) and accuracy (ACC) provide general information about how many samples are misclassified.\n",
    "\n",
    "- The **error** can be understood as the sum of all false predictions divided by the number of total predictions:\n",
    "$$\n",
    "ERR = \\frac{FP + FN}{FP + FN + TP + TN}\n",
    "$$\n",
    "\n",
    "(TP = true positives, FP = false positives, TN = true negatives, FN = false negatives)\n",
    "\n",
    "- The prediction **accuracy** can then be calculated directly from the error:\n",
    "$$\n",
    "ACC = \\frac{TP + TN}{FP + FN + TP + TN} = 1 - ERR\n",
    "$$\n",
    "\n",
    "- The true **\\textit{positive rate} (TPR)** and **\\textit{false positive rate} (FPR)** are performance metrics that are especially useful for imbalanced class problems:\n",
    "$$\n",
    "\\begin{array}{lcl}\n",
    "FPR &=& \\frac{FP}{N} = \\frac{FP}{FP + TN}\\\\\n",
    "TPR &=& \\frac{TP}{P} = \\frac{TP}{FN+TP}\n",
    "\\end{array}\n",
    "$$\n",
    "\n",
    "- **\\textit{Precision (PRE)}** and **\\textit{recall} (REC)** are performance metrics that are related to those true positive and true negative rates, and in fact, recall is synonymous to the true positive rate:\n",
    "$$\n",
    "\\begin{array}{lcl}\n",
    "PRE &=& \\frac{TP}{TP + FP} \\\\\n",
    "REC &=& TPR = \\frac{TP}{P} = \\frac{TP}{FN + TP}\n",
    "\\end{array}\n",
    "$$\n",
    "\n",
    "In practice, often a combination of precision and recall is used, the so-called **\\textit{F1-score}**:\n",
    "$$\n",
    "\\text{F1} = 2 \\times \\frac{PRE \\times REC}{PRE + REC}\n",
    "$$"
   ]
  },
  {
   "cell_type": "markdown",
   "metadata": {
    "slideshow": {
     "slide_type": "slide"
    }
   },
   "source": [
    "## No free lunch for machine learning algorithms\n",
    "\n",
    "- Both logistic regression and SVMs work great for linear problems, logistic regression may be preferable for very noisy data\n",
    "- Naive Bayes may work better than logistic regression for small training set sizes; the former is also pretty fast, e.g., if you have a large multi-class problem, you'd only have to train one classifier whereas you'd have to use One-vs-Rest or One-vs-One with in SVMs or logistic regression (alternatively, you could implement multinomial/softmax regression though); another point is that you don't have to worry so much about hyperparameter optimization -- if you are estimating the class priors from the training set, there are actually no hyperparameters\n",
    "- Kernel SVM/logistic regression is preferable for nonlinear data vs. the linear models\n",
    "- KNN can also work quite well in practice for datasets with large number of samples and relatively low dimensionality\n",
    "- Random Forests & Extremely Randomized trees are very robust and work well across a whole range of problems -- linear and/or nonlinear problems"
   ]
  },
  {
   "cell_type": "markdown",
   "metadata": {},
   "source": [
    "## Multi-Layer Neural Networks (Deep learning)\n",
    "\n",
    "We will illustrate this in next chapter."
   ]
  }
 ],
 "metadata": {
  "celltoolbar": "Slideshow",
  "kernelspec": {
   "display_name": "Python [default]",
   "language": "python",
   "name": "python2"
  },
  "language_info": {
   "codemirror_mode": {
    "name": "ipython",
    "version": 2
   },
   "file_extension": ".py",
   "mimetype": "text/x-python",
   "name": "python",
   "nbconvert_exporter": "python",
   "pygments_lexer": "ipython2",
   "version": "2.7.12"
  }
 },
 "nbformat": 4,
 "nbformat_minor": 0
}
