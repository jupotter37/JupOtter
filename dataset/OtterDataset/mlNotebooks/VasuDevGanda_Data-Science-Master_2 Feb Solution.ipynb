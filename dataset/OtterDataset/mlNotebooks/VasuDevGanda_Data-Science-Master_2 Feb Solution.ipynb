{
 "cells": [
  {
   "cell_type": "markdown",
   "id": "18cace38",
   "metadata": {},
   "source": [
    "# 2 Feb Assignment"
   ]
  },
  {
   "cell_type": "markdown",
   "id": "f7ef8098",
   "metadata": {},
   "source": [
    "### Q1..."
   ]
  },
  {
   "cell_type": "markdown",
   "id": "6471e73d",
   "metadata": {},
   "source": [
    "Ans:\n",
    "\n",
    "#### Tuples have the given characteristics: \n",
    "* They are indexed\n",
    "* Tuples are ordered\n",
    "* These are immutable\n",
    "* They can contain duplicate items\n",
    "\n",
    "##### Yes tuple is immutable\n",
    "        \n",
    "     \n"
   ]
  },
  {
   "cell_type": "markdown",
   "id": "6ec5e788",
   "metadata": {},
   "source": [
    "### Q2"
   ]
  },
  {
   "cell_type": "markdown",
   "id": "f02902ec",
   "metadata": {},
   "source": [
    "### The two tuple method are:\n",
    "* count() : Return number of occurrences of value\n",
    "* index() : Return first index of value\n",
    "\n",
    "##### Tuple has only two built in method because it is immutable"
   ]
  },
  {
   "cell_type": "code",
   "execution_count": 1,
   "id": "341592f7",
   "metadata": {},
   "outputs": [
    {
     "name": "stdout",
     "output_type": "stream",
     "text": [
      "3\n",
      "0\n"
     ]
    }
   ],
   "source": [
    "# Example\n",
    "t = (1,2,3,4,5,6,2,1,True)\n",
    "print(t.count(1))\n",
    "print(t.index(True))"
   ]
  },
  {
   "cell_type": "markdown",
   "id": "f2871df1",
   "metadata": {},
   "source": [
    "### Q3"
   ]
  },
  {
   "cell_type": "code",
   "execution_count": 2,
   "id": "c9e3056e",
   "metadata": {},
   "outputs": [
    {
     "name": "stdout",
     "output_type": "stream",
     "text": [
      "[1, 2, 3, 4]\n"
     ]
    }
   ],
   "source": [
    "# Set do not allow duplicate item\n",
    "\n",
    "list1 = [1, 1, 1, 2, 1, 3, 1, 4, 2, 1, 2, 2, 2, 3, 2, 4, 3, 1, 3, 2, 3, 3, 3, 4, 4, 1, 4, 2, 4, 3, 4, 4]\n",
    "list2 = set(list1)\n",
    "print(list(list2))"
   ]
  },
  {
   "cell_type": "markdown",
   "id": "5318a1b1",
   "metadata": {},
   "source": [
    "### Q4"
   ]
  },
  {
   "cell_type": "code",
   "execution_count": 23,
   "id": "cad091af",
   "metadata": {},
   "outputs": [
    {
     "name": "stdout",
     "output_type": "stream",
     "text": [
      "{1, 2, 3, 4, 5, 'a'}\n",
      "None\n"
     ]
    },
    {
     "data": {
      "text/plain": [
       "{1, 2, 3, 4, 5, 'a'}"
      ]
     },
     "execution_count": 23,
     "metadata": {},
     "output_type": "execute_result"
    }
   ],
   "source": [
    "# update() adds all missing elements to the set on which it is called whereas set. \n",
    "# union() creates a new set\n",
    "\n",
    "# Example\n",
    "\n",
    "s = {1,2,3,4}\n",
    "t = {\"a\",4,5}\n",
    "\n",
    "print(s.union(t))\n",
    "print(s.update(t))\n",
    "s #upddate using update method"
   ]
  },
  {
   "cell_type": "markdown",
   "id": "4b4d82bd",
   "metadata": {},
   "source": [
    "### Q5"
   ]
  },
  {
   "cell_type": "markdown",
   "id": "c3431964",
   "metadata": {},
   "source": [
    "Dictionaries are used to store data values in key:value pairs. A dictionary is a collection which is ordered*, changeable and do not allow duplicates\n"
   ]
  },
  {
   "cell_type": "code",
   "execution_count": 32,
   "id": "e0119562",
   "metadata": {},
   "outputs": [
    {
     "name": "stdout",
     "output_type": "stream",
     "text": [
      "{'Name': 'Akki', 'Age': 20, 'Eduction': {'Collge': 'PDM', 'Location': 'Bahadurgarh'}}\n",
      "dict_keys(['Name', 'Age', 'Eduction'])\n",
      "dict_values(['Akki', 20, {'Collge': 'PDM', 'Location': 'Bahadurgarh'}])\n"
     ]
    }
   ],
   "source": [
    "# Example\n",
    "dict = {\"Name\":\"Akki\", \"Age\":20, \"Eduction\":{\"Collge\": \"PDM\", \"Location\": \"Bahadurgarh\"}}\n",
    "print(dict)\n",
    "print(dict.keys())\n",
    "print(dict.values())"
   ]
  },
  {
   "cell_type": "markdown",
   "id": "e36d3d57",
   "metadata": {},
   "source": [
    "### Q6"
   ]
  },
  {
   "cell_type": "code",
   "execution_count": 30,
   "id": "59110daa",
   "metadata": {},
   "outputs": [
    {
     "data": {
      "text/plain": [
       "{'Name': 'Akki',\n",
       " 'Age': 20,\n",
       " 'Eduction': {'Collge': 'PDM', 'Location': 'Bahadurgarh'}}"
      ]
     },
     "execution_count": 30,
     "metadata": {},
     "output_type": "execute_result"
    }
   ],
   "source": [
    "# Yes we can create a nested Dictionary. Here's an example:\n",
    "dict = {\"Name\":\"Akki\", \"Age\":20, \"Eduction\":{\"Collge\": \"PDM\", \"Location\": \"Bahadurgarh\"}}\n",
    "dict"
   ]
  },
  {
   "cell_type": "markdown",
   "id": "703b0c12",
   "metadata": {},
   "source": [
    "### Q7"
   ]
  },
  {
   "cell_type": "code",
   "execution_count": 42,
   "id": "02e6a985",
   "metadata": {},
   "outputs": [
    {
     "data": {
      "text/plain": [
       "{'language': 'Python',\n",
       " 'course': 'Data Science Masters',\n",
       " 'topics': ['Python', 'Machine Learning', 'Deep Learning']}"
      ]
     },
     "execution_count": 42,
     "metadata": {},
     "output_type": "execute_result"
    }
   ],
   "source": [
    "dict1 = {'language' : 'Python', 'course': 'Data Science Masters'}\n",
    "list1 = [\"Python\", \"Machine Learning\", \"Deep Learning\"]\n",
    "\n",
    "dict1.setdefault(\"topics\",list1)\n",
    "dict1"
   ]
  },
  {
   "cell_type": "markdown",
   "id": "3f0b4482",
   "metadata": {},
   "source": [
    "### Q8"
   ]
  },
  {
   "cell_type": "markdown",
   "id": "d6916c31",
   "metadata": {},
   "source": [
    "The three view objects in the dictonary are key, value and item."
   ]
  },
  {
   "cell_type": "code",
   "execution_count": 49,
   "id": "f128c2ef",
   "metadata": {},
   "outputs": [
    {
     "name": "stdout",
     "output_type": "stream",
     "text": [
      "dict_keys(['Sport', 'Teams'])\n",
      "dict_values(['Cricket', ['India', 'Australia', 'England', 'South Africa', 'Sri Lanka', 'New Zealand']])\n",
      "dict_items([('Sport', 'Cricket'), ('Teams', ['India', 'Australia', 'England', 'South Africa', 'Sri Lanka', 'New Zealand'])])\n"
     ]
    }
   ],
   "source": [
    "dict1 = {'Sport': 'Cricket' , 'Teams': ['India', 'Australia', 'England', 'South Africa', 'Sri Lanka', 'New Zealand']}\n",
    "print(dict1.keys())\n",
    "print(dict1.values())\n",
    "print(dict1.items())"
   ]
  }
 ],
 "metadata": {
  "kernelspec": {
   "display_name": "Python 3 (ipykernel)",
   "language": "python",
   "name": "python3"
  },
  "language_info": {
   "codemirror_mode": {
    "name": "ipython",
    "version": 3
   },
   "file_extension": ".py",
   "mimetype": "text/x-python",
   "name": "python",
   "nbconvert_exporter": "python",
   "pygments_lexer": "ipython3",
   "version": "3.9.13"
  }
 },
 "nbformat": 4,
 "nbformat_minor": 5
}
