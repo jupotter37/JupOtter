{
  "nbformat": 4,
  "nbformat_minor": 0,
  "metadata": {
    "colab": {
      "provenance": [],
      "authorship_tag": "ABX9TyP34coXPG6FHlBNH8YqWMf8",
      "include_colab_link": true
    },
    "kernelspec": {
      "name": "python3",
      "display_name": "Python 3"
    },
    "language_info": {
      "name": "python"
    }
  },
  "cells": [
    {
      "cell_type": "markdown",
      "metadata": {
        "id": "view-in-github",
        "colab_type": "text"
      },
      "source": [
        "<a href=\"https://colab.research.google.com/github/txusser/Master_IA_Sanidad/blob/main/Modulo_2/Clases/0724/Diapositivas_Grabaciones_Clases_0724.ipynb\" target=\"_parent\"><img src=\"https://colab.research.google.com/assets/colab-badge.svg\" alt=\"Open In Colab\"/></a>"
      ]
    },
    {
      "cell_type": "markdown",
      "source": [
        "# Diapositivas clases Máster en aplicaciones de la Inteligencia Artificial en Sanidad:\n",
        "\n",
        "* ## Módulo 2\n",
        "* ## Edición 0724"
      ],
      "metadata": {
        "id": "feaXkQpoIsr4"
      }
    },
    {
      "cell_type": "markdown",
      "source": [
        "## Clase 2.1 - S11\n",
        "\n",
        "[Sistemas expertos basados en reglas](https://drive.google.com/file/d/1NeVRh9aHALPJYHYAJJNUjyU3xsAaX1Gp/view?usp=sharing)"
      ],
      "metadata": {
        "id": "SAp6JlTzvDHN"
      }
    },
    {
      "cell_type": "markdown",
      "source": [
        "## Clase 2.2 - S12\n",
        "\n",
        "[Aprendizaje Máquina o Machine Learning modelos de regresión, clasificación y agrupamiento](https://drive.google.com/file/d/1gv2-zQ06lR3Qzhop-JmFfUvzuK70vSyr/view?usp=sharing)\n"
      ],
      "metadata": {
        "id": "2E5fNzdw1Q5U"
      }
    },
    {
      "cell_type": "markdown",
      "source": [
        "## Clase 2.3 - S13\n",
        "\n",
        "[Redes neuronales y aprendizaje profundo](https://drive.google.com/file/d/13Mkrywk7FHYvnPqSkIFN7u5J3hUUs3pW/view?usp=sharing)"
      ],
      "metadata": {
        "id": "frwJWgmY1klW"
      }
    },
    {
      "cell_type": "markdown",
      "source": [
        "## Clase 2.4 - S14\n",
        "\n",
        "[Selección de características y optimización de modelos](https://drive.google.com/file/d/1MeEpVOngkfcIrIgIzvd36E2BkJ6blmzr/view?usp=sharing)"
      ],
      "metadata": {
        "id": "S_ZXURbHv6TN"
      }
    },
    {
      "cell_type": "markdown",
      "source": [],
      "metadata": {
        "id": "eQpwM2Eh9Y9U"
      }
    },
    {
      "cell_type": "markdown",
      "source": [
        "## Clase 2.5 - S15\n",
        "\n",
        "[Introducción a Python]\n"
      ],
      "metadata": {
        "id": "zIVXdNZB1-Ux"
      }
    },
    {
      "cell_type": "markdown",
      "source": [
        "## Clase 2.6 - S16\n",
        "\n",
        "[Introducción a Python (Continuación)]"
      ],
      "metadata": {
        "id": "V4U47wsN2MIX"
      }
    },
    {
      "cell_type": "markdown",
      "source": [
        "## Clase 2.7 - S17\n",
        "\n",
        "[Orientación a objetos]"
      ],
      "metadata": {
        "id": "sghmcU0l2X1_"
      }
    },
    {
      "cell_type": "markdown",
      "source": [
        "## Clase 2.8 - S18\n",
        "\n",
        "[Librerias Ciencia de Datos Numpy Pandas]"
      ],
      "metadata": {
        "id": "KNc7SkIcBd4w"
      }
    },
    {
      "cell_type": "markdown",
      "source": [
        "## Clase 2.9 - S19\n",
        "\n",
        "[Introducción a la IA en Python]\n"
      ],
      "metadata": {
        "id": "HBnltZ8dBrYj"
      }
    },
    {
      "cell_type": "markdown",
      "source": [
        "## Clase 2.10 - S20\n",
        "\n",
        "[Análisis de datos en Python]"
      ],
      "metadata": {
        "id": "-6qQkB_JB47o"
      }
    },
    {
      "cell_type": "markdown",
      "source": [
        "## Clase 2.11 - S21\n",
        "\n",
        "[Estructuración de datos]"
      ],
      "metadata": {
        "id": "Q0B1mj6bCA_W"
      }
    },
    {
      "cell_type": "markdown",
      "source": [
        "## Clase 2.12 - S22\n",
        "\n",
        "[Machine Learning y Deep Learning en Python]"
      ],
      "metadata": {
        "id": "vb0GRIZiCD_i"
      }
    },
    {
      "cell_type": "markdown",
      "source": [
        "## Trabajo Fin de Módulo - S23\n",
        "\n",
        "[Comentarios e indicaciones]"
      ],
      "metadata": {
        "id": "AbcGY_1PCFzl"
      }
    }
  ]
}