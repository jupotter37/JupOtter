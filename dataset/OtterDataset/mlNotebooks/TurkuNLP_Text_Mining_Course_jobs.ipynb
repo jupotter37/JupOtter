{
 "cells": [
  {
   "cell_type": "markdown",
   "metadata": {},
   "source": [
    "<h1 style=\"text-align:center; font-size:300%\">We're hiring!</h1>\n",
    "\n",
    "---\n",
    "\n",
    "The Turku Natural Language Processing group (https://turkunlp.org/) is a University of Turku / UTU graduate school research group working on many aspects of natural language processing and language technology, ranging from corpus annotation to machine learning theory and applications.\n",
    "\n",
    "In our projects, we collaborate with well-known universities as well as companies like IBM and Google.\n",
    "\n",
    "TurkuNLP efforts (past and present) include\n",
    "\n",
    "* [Turku Dependency Treebank](http://bionlp.utu.fi/fintreebank.html): First open syntactically annotated corpus of Finnish\n",
    "\n",
    "* [Turku Neural parser](http://turkunlp.org/Turku-neural-parser-pipeline/): Syntactic analysis tool covering more than 50 languages. Top ranker in the CoNLL-18 Shared Task.\n",
    "\n",
    "* [Finnish Internet Parsebank](http://bionlp.utu.fi/finnish-internet-parsebank.html): Collection of billions of words of Finnish with automatic annotation\n",
    "\n",
    "* [EVEX](http://www.evexdb.org/): Biomedical text mining resource including automatically extracted entity and event mentions in over 20 million scientific publications\n",
    "\n",
    "* [Turku Event Extraction System](http://jbjorne.github.io/TEES/): Leading biomedical information extraction system, top performer in numerous shared tasks\n",
    "\n",
    "* Digital humanities projects: [Computational History and the Transformation of Public Discourse in Finland](https://www.utu.fi/fi/yksikot/hum/yksikot/kulttuurihistoria/tutkimus/Sivut/comhis.aspx), [Citizen Mindscapes – Detecting Social, Emotional and National Dynamics in Social Media](https://www.utu.fi/en/sites/digi/Pages/Research.aspx#mindscapes), [Profiling Premodern Authors](https://blogit.utu.fi/propreau/)\n",
    "\n",
    "---\n",
    "\n",
    "## Annotation help (starting immediately!)\n",
    "\n",
    "We are looking for a little annotation help on a news robotics project. The task will be to pair hockey statistics and corresponding sentences in Finnish hockey news articles. The purpose of the annotation is to produce training data for sports news generation with deep neural networks.\n",
    "\n",
    "You will be expected to spend on the task 3 weeks full-time equivalent, but e.g. a half-time effort over six weeks is fine as well. You need to speak Finnish and we would need this started ASAP, as early as 8.4. We can offer the trainee salary which is about 1300€ per working month.\n",
    "\n",
    "**Applying**: Please send a very brief \"who am I\" letter to Filip (figint@utu.fi) and Jenna (jmnybl@utu.fi) before Thursday 4.4.\n",
    "\n",
    "---\n",
    "\n",
    "## Summer internships\n",
    "\n",
    "Turku Natural Language Processing group is looking for 1-2 motivated students.\n",
    "\n",
    "We can offer a unique opportunity to get hands-on experience applying deep learning (artificial intelligence) methods using GPU computing to analyze large-scale text data.\n",
    "We are working on a number of interesting and challenging tasks, including text classification, search, information extraction and summarization. \n",
    "The applicants are expected to be involved in one or several projects focusing on solving relatively complex tasks requiring creative and innovative thinking and decent programming skills.\n",
    "\n",
    "**Duration**: 3 months\n",
    "\n",
    "**Suggested time period**: 1.5.2019 – 30.9.2019\n",
    "\n",
    "(Note: The starting date and duration can be adjusted to meet the preferences of the applicant.)\n",
    "\n",
    "**Salary**: 1300 euros/month\n",
    "\n",
    "**Applying**: Please send applications by 8.4.2019 using the electronic form at\n",
    "https://intranet.utu.fi/en/news/open-vacancies/\n"
   ]
  }
 ],
 "metadata": {
  "kernelspec": {
   "display_name": "Python 3",
   "language": "python",
   "name": "python3"
  },
  "language_info": {
   "codemirror_mode": {
    "name": "ipython",
    "version": 3
   },
   "file_extension": ".py",
   "mimetype": "text/x-python",
   "name": "python",
   "nbconvert_exporter": "python",
   "pygments_lexer": "ipython3",
   "version": "3.7.2"
  }
 },
 "nbformat": 4,
 "nbformat_minor": 2
}
