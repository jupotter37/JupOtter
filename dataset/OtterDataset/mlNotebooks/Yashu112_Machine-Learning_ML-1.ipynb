{
 "cells": [
  {
   "cell_type": "markdown",
   "id": "594b887a-552b-4206-a08d-a2265f4e86a7",
   "metadata": {},
   "source": [
    "# Machine Learning 1"
   ]
  },
  {
   "cell_type": "markdown",
   "id": "a60aaae0-550a-4dcf-9b79-2c2f12419b16",
   "metadata": {},
   "source": []
  },
  {
   "cell_type": "markdown",
   "id": "248faba9-8ac7-4a8c-869c-8457bae5d366",
   "metadata": {},
   "source": [
    "Q1- Explain the following with an Example-\n",
    "\n",
    "1) Artificial Intelligence - Artificial intelligence is the field/domain where we are concerned with developing intelligent applications and systems which can take intelligent and meaningful decisions without any human intervention. For example, self-driving cars, humanoid robots, etc.\n",
    "\n",
    "2) Machine Learning - Machine Learning is a subset of artificial intelligence. In Machine learning, we train a machine on data and use machine learning algorithms and develop models so that it can predict output based on data. For example, product recommendation system in e-commerce site, movie recommendation systems, etc are examples of applications of machine learning.\n",
    "\n",
    "3) Deep Learning - Deep learning is the sub-field of artificial intelligence in which we try to build models which can mimic human behaviour. For example, object detection, image recognition, chat-gpt are examples of deep learning."
   ]
  },
  {
   "cell_type": "markdown",
   "id": "4c0dbdaf-d446-46fc-8212-6c3e84b7ad29",
   "metadata": {},
   "source": []
  },
  {
   "cell_type": "markdown",
   "id": "5a3a4c8d-d98b-44d0-ac46-8c1b30358024",
   "metadata": {},
   "source": [
    "Q2- What is supervised learning? List some examples of supervised learning.\n",
    "\n",
    "Ans. Supervised learning is that type of machine learning in which we have labelled input and output data. We already know the output. Here, we train and test the model on the already available labelled data.\n",
    "\n",
    "In supervised learning, we have majorly two kinds of algorithms:\n",
    "- regression : when output is continuous variable\n",
    "- classification : when output is categorical data\n",
    "\n",
    "For example, we have a basket of fruits and we train a model. If the fruit is red and round, it is classified as apple, if it is cylindrical and green-yellow, it is a banana. Here we have trained model on already known data, so this is supervised learning."
   ]
  },
  {
   "cell_type": "markdown",
   "id": "0ac61607-a4de-43b4-8837-5175aa6e9fc4",
   "metadata": {},
   "source": []
  },
  {
   "cell_type": "markdown",
   "id": "0c95b2e6-5958-45f1-9fb5-f269b4a439fa",
   "metadata": {},
   "source": [
    "Q3- What is unsupervised learning? List some examples of unsupervised learning.\n",
    "\n",
    "Ans. Unsupervised learning is that type of machine learning in which we don't have labelled input and output data. In this caser, we don't know the output. Here, we have raw data.\n",
    "\n",
    "In unsupervised learning, we majorly have two kinds of algorithms:\n",
    "- clustering : when we try to create groups of data based on patterns\n",
    "- association : here we try to find patterns such as people who buy X also buy Y\n",
    "\n",
    "For example, suppose we are given a random image having cats and dogs. Since our model is not trained on some previous known data, it is an example of unsupervised learning. Now our model has to identify patterns and cluster them accordingly."
   ]
  },
  {
   "cell_type": "markdown",
   "id": "066f7bb3-6970-4f72-9769-75303b6d035b",
   "metadata": {},
   "source": []
  },
  {
   "cell_type": "markdown",
   "id": "185c22e5-1245-475e-8fda-82fa7726a612",
   "metadata": {},
   "source": [
    "Q4- What is the difference between AI, ML, DL, and DS?\n",
    "\n",
    "- Artificial Intelligence - Artificial intelligence is the field/domain where we are concerned with developing intelligent applications and systems which can take intelligent and meaningful decisions without any human intervention. For example, self-driving cars, humanoid robots, etc.\n",
    "\n",
    "- Machine Learning - Machine Learning is a subset of artificial intelligence. In Machine learning, we train a machine on data and use machine learning algorithms and develop models so that it can predict output based on data. For example, product recommendation system in e-commerce site, movie recommendation systems, etc are examples of applications of machine learning.\n",
    "\n",
    "- Deep Learning - Deep learning is the sub-field of artificial intelligence in which we try to build models which can mimic human behaviour. For example, object detection, image recognition, chat-gpt are examples of deep learning.\n",
    "\n",
    "- Data Science - Data science is an interconnected domain which utilizes artificial intelligence, deep learning and machine learning along with various statistical and amthematical tools such as calculus, probability, linear algebra, etc to develop models for solving real life scenarios and obtain meaningful insights from data for making decisions. For example, it is used in business, risk management, etc.\n",
    "\n",
    "Thus we see that ML and DL are subsets of AI and DS is an interconnected field which combines AI, ML, DL and mathematics to solve real life problems and get practical solutions."
   ]
  },
  {
   "cell_type": "markdown",
   "id": "2948c94b-6c0c-421c-96dd-8e62892651f8",
   "metadata": {},
   "source": []
  },
  {
   "cell_type": "markdown",
   "id": "7e723386-dee3-4c1f-965a-418706a13d3b",
   "metadata": {},
   "source": [
    "Q5- What are the main differences betwen supervised, unsupervised, and semi-supervised learning?\n",
    "\n",
    "Ans.\n",
    "- Supervised learning : Supervised learning is that type of machine learning in which we have labelled input and output data. We already know the output. Here, we train and test the model on the already available labelled data.\n",
    "\n",
    "- Unsupervised learning :  Unsupervised learning is that type of machine learning in which we don't have labelled input and output data. In this caser, we don't know the output. Here, we have raw data. The complete data is unlabelled.\n",
    "\n",
    "- Semi-supervised learning : semi-supervised learning is that type of machine learning in which we have a large amount of unlabelled and a small amount of labelled input data. The small amount of labelled data is used to find the patterns and functions which can correctly predict the output of unlabelled data.  "
   ]
  },
  {
   "cell_type": "markdown",
   "id": "067ee3bd-634d-4d09-b4e9-674f9b28dc9e",
   "metadata": {},
   "source": []
  },
  {
   "cell_type": "markdown",
   "id": "e913a25c-eb97-42d8-91c4-e4c00cbe48c1",
   "metadata": {},
   "source": [
    "Q6- What is train, test and validation split? Explain the importance of each term.\n",
    "\n",
    "Ans. In supervised learning, where we have labelled input data, we split the data into train, test and validation set: \n",
    "\n",
    "- train : the training set is used to train our model on already available input and output results. Here we establish the rules and patterns of data. The model learns the patterns, features, relationships from data to make predictions and classifications.\n",
    "\n",
    "- validation : the validation set is used to fine tune the model based on hyperparameters. We check the accuracy of modle created on the training dataset. It helps in avoiding underfitting and overfitting of model.\n",
    "\n",
    "- test : the test data is that data which the model has not seen yet, it is unknown for the model. We make the predictions on test data and see how well it performs. It serves as abenchmark for our machine learning model.\n"
   ]
  },
  {
   "cell_type": "markdown",
   "id": "6c724546-13c7-4ce5-afad-8d6602228215",
   "metadata": {},
   "source": []
  },
  {
   "cell_type": "markdown",
   "id": "1cf68f67-424b-48e9-99e0-222e6db0630f",
   "metadata": {},
   "source": [
    "Q7- How can unsupervised learning be used in anomaly detection?\n",
    "\n",
    "Ans. Unsupervised learning can be a powerful approach for anomaly detection, where the goal is to identify instances that deviate significantly from the norm or expected behavior within a dataset. In unsupervised anomaly detection, we don't have labeled examples of anomalies during the training phase. Instead, the model learns the \"normal\" patterns inherent in the data and then identifies instances that deviate from those patterns as anomalies."
   ]
  },
  {
   "cell_type": "markdown",
   "id": "5c356976-515f-4dd7-bd46-a39793f012e5",
   "metadata": {},
   "source": []
  },
  {
   "cell_type": "markdown",
   "id": "f65ca402-95f5-478a-ba72-40a86415e7d7",
   "metadata": {},
   "source": [
    "Q8- List down some commonly used supervised learning algorithms and unsupervised learning\n",
    "algorithms.\n",
    "\n",
    "Ans. here's a list of commonly used supervised and unsupervised learning algorithms:\n",
    "\n",
    "**Supervised Learning Algorithms:**\n",
    "\n",
    "- Linear Regression\n",
    "- Logistic Regression\n",
    "- Decision Trees\n",
    "- Random Forest\n",
    "- Support Vector Machines (SVM)\n",
    "- Naive Bayes\n",
    "- K-Nearest Neighbors (KNN)\n",
    "- Gradient Boosting\n",
    "- Neural Networks\n",
    "\n",
    "**Unsupervised Learning Algorithms:**\n",
    "\n",
    "- K-Means Clustering\n",
    "- Hierarchical Clustering\n",
    "- DBSCAN (Density-Based Spatial Clustering of Applications with Noise)\n",
    "- Gaussian Mixture Models (GMM)\n",
    "- PCA (Principal Component Analysis)\n",
    "- Autoencoders\n",
    "- Isolation Forest\n",
    "- One-Class SVM\n",
    "- Local Outlier Factor (LOF)\n",
    "- Non-negative Matrix Factorization (NMF)\n"
   ]
  },
  {
   "cell_type": "markdown",
   "id": "d7f5feaf-18fb-4d2c-bf8f-b68c08129a90",
   "metadata": {},
   "source": []
  }
 ],
 "metadata": {
  "kernelspec": {
   "display_name": "Python 3 (ipykernel)",
   "language": "python",
   "name": "python3"
  },
  "language_info": {
   "codemirror_mode": {
    "name": "ipython",
    "version": 3
   },
   "file_extension": ".py",
   "mimetype": "text/x-python",
   "name": "python",
   "nbconvert_exporter": "python",
   "pygments_lexer": "ipython3",
   "version": "3.10.8"
  }
 },
 "nbformat": 4,
 "nbformat_minor": 5
}
