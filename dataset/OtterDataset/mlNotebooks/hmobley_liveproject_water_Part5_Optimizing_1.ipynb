{
  "nbformat": 4,
  "nbformat_minor": 0,
  "metadata": {
    "colab": {
      "name": "Part5_Optimizing.ipynb",
      "provenance": [],
      "collapsed_sections": []
    },
    "kernelspec": {
      "display_name": "Python 3",
      "language": "python",
      "name": "python3"
    },
    "language_info": {
      "codemirror_mode": {
        "name": "ipython",
        "version": 3
      },
      "file_extension": ".py",
      "mimetype": "text/x-python",
      "name": "python",
      "nbconvert_exporter": "python",
      "pygments_lexer": "ipython3",
      "version": "3.8.3"
    },
    "accelerator": "GPU"
  },
  "cells": [
    {
      "cell_type": "markdown",
      "metadata": {
        "id": "SGhkrMQX9KPn"
      },
      "source": [
        "<table style=\"font-size: 1em; padding: 0; margin: 0;\">\n",
        "\n",
        "<tr style=\"vertical-align: top; padding: 0; margin: 0;background-color: #ffffff\">\n",
        "        <td style=\"vertical-align: top; padding: 0; margin: 0; padding-right: 15px;\">\n",
        "    <p style=\"background: #182AEB; color:#ffffff; text-align:justify; padding: 10px 25px;\">\n",
        "        <strong style=\"font-size: 1.0em;\"><span style=\"font-size: 1.2em;\"><span style=\"color: #ffffff;\">Deep Learning </span> for Satellite Image Classification (Manning Publications)</span><br/>by <em>Daniel Buscombe</em></strong><br/><br/>\n",
        "        <strong>> Chapter 5: Model Optimization </strong><br/>\n",
        "    </p>           \n",
        "        \n",
        "<p style=\"border: 1px solid #182AEB; border-left: 15px solid #182AEB; padding: 10px; text-align:justify;\">\n",
        "    <strong style=\"color: #182AEB\">What you learned in Part 4.</strong>  \n",
        "    <br/>In Part 4, you trained U-Net models to segment water pixels in imagery\n",
        "    </p>\n",
        "    \n",
        "<p style=\"border: 1px solid #ff5733; border-left: 15px solid #ff5733; padding: 10px; text-align:justify;\">\n",
        "    <strong style=\"color: #ff5733\">What you will learn in this Part.</strong>  \n",
        "    <br/>In Part 5, you will optimize the models you made in Part 4. You will first learn how to tune hyper-parameters, add regularization and modify model architectures in several ways, and deal with class imbalance. Then, you will learn how to use a machine learning model known as a ‘fully-connected conditional random field” to refine label images, so labels are as accurate as possible.\n",
        "    </p>    "
      ]
    },
    {
      "cell_type": "markdown",
      "metadata": {
        "id": "ROJhVuY4_VOB"
      },
      "source": [
        "#### Preliminaries for Colab\n",
        "\n",
        "Like Part 3 and 4 previously, below are some convenience functions for those working on Google Colab with a GPU runtime"
      ]
    },
    {
      "cell_type": "code",
      "metadata": {
        "id": "qbAR46ALofxM"
      },
      "source": [
        "#load_history = 0\n",
        "load_history = 1\n",
        "#load_large_history = 0\n",
        "load_large_history = 1\n",
        "if load_history or load_large_history:\n",
        "  import pickle"
      ],
      "execution_count": 1,
      "outputs": []
    },
    {
      "cell_type": "code",
      "metadata": {
        "colab": {
          "base_uri": "https://localhost:8080/"
        },
        "id": "I-lc86ey-HOb",
        "outputId": "1e353253-e7a9-4da2-ddb0-eb34863050ad"
      },
      "source": [
        "#colab = 0\n",
        "colab = 1\n",
        "\n",
        "if colab==1:\n",
        "    %tensorflow_version 2.x\n",
        "    !pip install --default-timeout=1000 tensorflow-gpu==2.0   "
      ],
      "execution_count": 2,
      "outputs": [
        {
          "output_type": "stream",
          "text": [
            "Requirement already satisfied: tensorflow-gpu==2.0 in /usr/local/lib/python3.6/dist-packages (2.0.0)\n",
            "Requirement already satisfied: absl-py>=0.7.0 in /usr/local/lib/python3.6/dist-packages (from tensorflow-gpu==2.0) (0.10.0)\n",
            "Requirement already satisfied: astor>=0.6.0 in /usr/local/lib/python3.6/dist-packages (from tensorflow-gpu==2.0) (0.8.1)\n",
            "Requirement already satisfied: numpy<2.0,>=1.16.0 in /usr/local/lib/python3.6/dist-packages (from tensorflow-gpu==2.0) (1.18.5)\n",
            "Requirement already satisfied: termcolor>=1.1.0 in /usr/local/lib/python3.6/dist-packages (from tensorflow-gpu==2.0) (1.1.0)\n",
            "Requirement already satisfied: six>=1.10.0 in /usr/local/lib/python3.6/dist-packages (from tensorflow-gpu==2.0) (1.15.0)\n",
            "Requirement already satisfied: keras-applications>=1.0.8 in /usr/local/lib/python3.6/dist-packages (from tensorflow-gpu==2.0) (1.0.8)\n",
            "Requirement already satisfied: keras-preprocessing>=1.0.5 in /usr/local/lib/python3.6/dist-packages (from tensorflow-gpu==2.0) (1.1.2)\n",
            "Requirement already satisfied: wheel>=0.26 in /usr/local/lib/python3.6/dist-packages (from tensorflow-gpu==2.0) (0.35.1)\n",
            "Requirement already satisfied: gast==0.2.2 in /usr/local/lib/python3.6/dist-packages (from tensorflow-gpu==2.0) (0.2.2)\n",
            "Requirement already satisfied: protobuf>=3.6.1 in /usr/local/lib/python3.6/dist-packages (from tensorflow-gpu==2.0) (3.12.4)\n",
            "Requirement already satisfied: grpcio>=1.8.6 in /usr/local/lib/python3.6/dist-packages (from tensorflow-gpu==2.0) (1.33.2)\n",
            "Requirement already satisfied: google-pasta>=0.1.6 in /usr/local/lib/python3.6/dist-packages (from tensorflow-gpu==2.0) (0.2.0)\n",
            "Requirement already satisfied: opt-einsum>=2.3.2 in /usr/local/lib/python3.6/dist-packages (from tensorflow-gpu==2.0) (3.3.0)\n",
            "Requirement already satisfied: tensorflow-estimator<2.1.0,>=2.0.0 in /usr/local/lib/python3.6/dist-packages (from tensorflow-gpu==2.0) (2.0.1)\n",
            "Requirement already satisfied: wrapt>=1.11.1 in /usr/local/lib/python3.6/dist-packages (from tensorflow-gpu==2.0) (1.12.1)\n",
            "Requirement already satisfied: tensorboard<2.1.0,>=2.0.0 in /usr/local/lib/python3.6/dist-packages (from tensorflow-gpu==2.0) (2.0.2)\n",
            "Requirement already satisfied: h5py in /usr/local/lib/python3.6/dist-packages (from keras-applications>=1.0.8->tensorflow-gpu==2.0) (2.10.0)\n",
            "Requirement already satisfied: setuptools in /usr/local/lib/python3.6/dist-packages (from protobuf>=3.6.1->tensorflow-gpu==2.0) (50.3.2)\n",
            "Requirement already satisfied: markdown>=2.6.8 in /usr/local/lib/python3.6/dist-packages (from tensorboard<2.1.0,>=2.0.0->tensorflow-gpu==2.0) (3.3.3)\n",
            "Requirement already satisfied: google-auth<2,>=1.6.3 in /usr/local/lib/python3.6/dist-packages (from tensorboard<2.1.0,>=2.0.0->tensorflow-gpu==2.0) (1.17.2)\n",
            "Requirement already satisfied: requests<3,>=2.21.0 in /usr/local/lib/python3.6/dist-packages (from tensorboard<2.1.0,>=2.0.0->tensorflow-gpu==2.0) (2.23.0)\n",
            "Requirement already satisfied: google-auth-oauthlib<0.5,>=0.4.1 in /usr/local/lib/python3.6/dist-packages (from tensorboard<2.1.0,>=2.0.0->tensorflow-gpu==2.0) (0.4.2)\n",
            "Requirement already satisfied: werkzeug>=0.11.15 in /usr/local/lib/python3.6/dist-packages (from tensorboard<2.1.0,>=2.0.0->tensorflow-gpu==2.0) (1.0.1)\n",
            "Requirement already satisfied: importlib-metadata; python_version < \"3.8\" in /usr/local/lib/python3.6/dist-packages (from markdown>=2.6.8->tensorboard<2.1.0,>=2.0.0->tensorflow-gpu==2.0) (2.0.0)\n",
            "Requirement already satisfied: rsa<5,>=3.1.4; python_version >= \"3\" in /usr/local/lib/python3.6/dist-packages (from google-auth<2,>=1.6.3->tensorboard<2.1.0,>=2.0.0->tensorflow-gpu==2.0) (4.6)\n",
            "Requirement already satisfied: cachetools<5.0,>=2.0.0 in /usr/local/lib/python3.6/dist-packages (from google-auth<2,>=1.6.3->tensorboard<2.1.0,>=2.0.0->tensorflow-gpu==2.0) (4.1.1)\n",
            "Requirement already satisfied: pyasn1-modules>=0.2.1 in /usr/local/lib/python3.6/dist-packages (from google-auth<2,>=1.6.3->tensorboard<2.1.0,>=2.0.0->tensorflow-gpu==2.0) (0.2.8)\n",
            "Requirement already satisfied: certifi>=2017.4.17 in /usr/local/lib/python3.6/dist-packages (from requests<3,>=2.21.0->tensorboard<2.1.0,>=2.0.0->tensorflow-gpu==2.0) (2020.11.8)\n",
            "Requirement already satisfied: idna<3,>=2.5 in /usr/local/lib/python3.6/dist-packages (from requests<3,>=2.21.0->tensorboard<2.1.0,>=2.0.0->tensorflow-gpu==2.0) (2.10)\n",
            "Requirement already satisfied: urllib3!=1.25.0,!=1.25.1,<1.26,>=1.21.1 in /usr/local/lib/python3.6/dist-packages (from requests<3,>=2.21.0->tensorboard<2.1.0,>=2.0.0->tensorflow-gpu==2.0) (1.24.3)\n",
            "Requirement already satisfied: chardet<4,>=3.0.2 in /usr/local/lib/python3.6/dist-packages (from requests<3,>=2.21.0->tensorboard<2.1.0,>=2.0.0->tensorflow-gpu==2.0) (3.0.4)\n",
            "Requirement already satisfied: requests-oauthlib>=0.7.0 in /usr/local/lib/python3.6/dist-packages (from google-auth-oauthlib<0.5,>=0.4.1->tensorboard<2.1.0,>=2.0.0->tensorflow-gpu==2.0) (1.3.0)\n",
            "Requirement already satisfied: zipp>=0.5 in /usr/local/lib/python3.6/dist-packages (from importlib-metadata; python_version < \"3.8\"->markdown>=2.6.8->tensorboard<2.1.0,>=2.0.0->tensorflow-gpu==2.0) (3.4.0)\n",
            "Requirement already satisfied: pyasn1>=0.1.3 in /usr/local/lib/python3.6/dist-packages (from rsa<5,>=3.1.4; python_version >= \"3\"->google-auth<2,>=1.6.3->tensorboard<2.1.0,>=2.0.0->tensorflow-gpu==2.0) (0.4.8)\n",
            "Requirement already satisfied: oauthlib>=3.0.0 in /usr/local/lib/python3.6/dist-packages (from requests-oauthlib>=0.7.0->google-auth-oauthlib<0.5,>=0.4.1->tensorboard<2.1.0,>=2.0.0->tensorflow-gpu==2.0) (3.1.0)\n"
          ],
          "name": "stdout"
        }
      ]
    },
    {
      "cell_type": "markdown",
      "metadata": {
        "id": "F8ruWT7u_ZLB"
      },
      "source": [
        "You may have to restart the runtime and/or change runtime type here, if the following doesn't show Tensorflow version 2, and a GPU available"
      ]
    },
    {
      "cell_type": "code",
      "metadata": {
        "colab": {
          "base_uri": "https://localhost:8080/"
        },
        "id": "v7gY9Wi2_aHF",
        "outputId": "343db034-8e3b-41d6-d71a-f066f4cb414b"
      },
      "source": [
        "import tensorflow as tf\n",
        "print(tf.__version__)\n",
        "print(tf.test.is_gpu_available())"
      ],
      "execution_count": 3,
      "outputs": [
        {
          "output_type": "stream",
          "text": [
            "2.0.0\n",
            "True\n"
          ],
          "name": "stdout"
        }
      ]
    },
    {
      "cell_type": "markdown",
      "metadata": {
        "id": "Z7i8OMteVsrG"
      },
      "source": [
        "Convenience functions if you need to download example (minimal) imagery sets derived from NWPU and Sentinel-2 cloudless:"
      ]
    },
    {
      "cell_type": "code",
      "metadata": {
        "id": "Pt7x8mRRVs7m"
      },
      "source": [
        "# from https://stackoverflow.com/questions/38511444/python-download-files-from-google-drive-using-url\n",
        "import requests\n",
        "\n",
        "def download_file_from_google_drive(id, destination):\n",
        "    URL = \"https://docs.google.com/uc?export=download\"\n",
        "\n",
        "    session = requests.Session()\n",
        "\n",
        "    response = session.get(URL, params = { 'id' : id }, stream = True)\n",
        "    token = get_confirm_token(response)\n",
        "\n",
        "    if token:\n",
        "        params = { 'id' : id, 'confirm' : token }\n",
        "        response = session.get(URL, params = params, stream = True)\n",
        "\n",
        "    save_response_content(response, destination)    \n",
        "\n",
        "def get_confirm_token(response):\n",
        "    for key, value in response.cookies.items():\n",
        "        if key.startswith('download_warning'):\n",
        "            return value\n",
        "\n",
        "    return None\n",
        "\n",
        "def save_response_content(response, destination):\n",
        "    CHUNK_SIZE = 32768\n",
        "\n",
        "    with open(destination, \"wb\") as f:\n",
        "        for chunk in response.iter_content(CHUNK_SIZE):\n",
        "            if chunk: # filter out keep-alive new chunks\n",
        "                f.write(chunk)\n",
        "\n",
        "\n",
        "#s2 cloudless imagery\n",
        "file_id = '1iMfIjr_ul49Ghs2ewazjCt8HMPfhY47h'\n",
        "destination = 's2cloudless_imagery.zip'\n",
        "if colab==1:\n",
        "    download_file_from_google_drive(file_id, destination)\n",
        "\n",
        "#s2 cloudless labels\n",
        "file_id = '1c7MpwKVejoUuW9F2UaF_vps8Vq2RZRfR'\n",
        "destination = 's2cloudless_label_imagery.zip'\n",
        "if colab==1:\n",
        "    download_file_from_google_drive(file_id, destination)\n",
        "\n",
        "#nwpu imagery\n",
        "file_id = '1gtuqy1VlU8-M5IEMnmiSuTlI5PxQPnGB'\n",
        "destination = 'nwpu_images.zip'\n",
        "if colab==1:\n",
        "    download_file_from_google_drive(file_id, destination)\n",
        "\n",
        "#nwpu labels\n",
        "file_id = '1W5LGbcYAcFbG5YjLgX_ekBn0u5Rno35x'\n",
        "destination = 'nwpu_label_images.zip'\n",
        "if colab==1:\n",
        "    download_file_from_google_drive(file_id, destination)                        "
      ],
      "execution_count": 4,
      "outputs": []
    },
    {
      "cell_type": "code",
      "metadata": {
        "id": "Sommbr0GVy_F"
      },
      "source": [
        "import zipfile\n",
        "def unzip(f):\n",
        "    \"\"\"\n",
        "    f = file to be unzipped\n",
        "    \"\"\"    \n",
        "    with zipfile.ZipFile(f, 'r') as zip_ref:\n",
        "        zip_ref.extractall()\n",
        "        \n",
        "if colab==1:\n",
        "    unzip('s2cloudless_imagery.zip')\n",
        "    unzip('s2cloudless_label_imagery.zip')   \n",
        "    unzip('nwpu_images.zip')\n",
        "    unzip('nwpu_label_images.zip')       "
      ],
      "execution_count": 5,
      "outputs": []
    },
    {
      "cell_type": "markdown",
      "metadata": {
        "id": "oa9K6-E2T4fR"
      },
      "source": [
        "Import the libraries we will need:"
      ]
    },
    {
      "cell_type": "code",
      "metadata": {
        "id": "cvYaMkSR-JKj"
      },
      "source": [
        "%matplotlib inline\n",
        "import tensorflow as tf\n",
        "from tensorflow.keras.layers import Input, Conv2D, MaxPooling2D, UpSampling2D\n",
        "from tensorflow.keras.layers import Concatenate, Conv2DTranspose\n",
        "from tensorflow.keras.models import Model\n",
        "import numpy as np\n",
        "import json, os\n",
        "from random import shuffle\n",
        "from PIL import Image\n",
        "import matplotlib\n",
        "import matplotlib.pyplot as plt"
      ],
      "execution_count": 6,
      "outputs": []
    },
    {
      "cell_type": "markdown",
      "metadata": {
        "id": "KYgpaO2O9KPr"
      },
      "source": [
        "<table style=\"font-size: 1em; padding: 0; margin: 0;\">\n",
        "\n",
        "<h1 style=\"width: 100%; text-align: left; padding: 0px 25px;\"><small style=\"color: #182AEB;\">\n",
        "    </small><br/>Training tuning strategies</h1>\n",
        "<br/>\n",
        "<p style=\"border-left: 15px solid #182AEB; text-align:justify; padding: 0 10px;\">\n",
        "We will set up a baseline model with no optimization using the NWPU imagery, then explore the following training optimization strategies:\n",
        "<ul>\n",
        "  <li>Building a bigger model with more layers</li>    \n",
        "  <li>Using Early Stopping and Adaptive Learning Rates</li> \n",
        "  <li>Using a bigger model (and dropout)</li> \n",
        "  <li>Using regularization (Batch Normalization)</li> \n",
        "  <li>Using residual connections</li> \n",
        "</ul>\n",
        "</p>\n",
        "        </tr>\n",
        "        </table>"
      ]
    },
    {
      "cell_type": "markdown",
      "metadata": {
        "id": "PsLTcU6OJMAh"
      },
      "source": [
        "#### Getting things set up with a baseline model\n",
        "Zip through all these functions that we defined in the last Part. \n",
        "\n",
        "Like in the last Part, we will define the ```unet``` model, create model training callbacks, and generate augmented imagery"
      ]
    },
    {
      "cell_type": "code",
      "metadata": {
        "id": "oVAJUzEt-Iqq"
      },
      "source": [
        "def mean_iou(y_true, y_pred):\n",
        "    yt0 = y_true[:,:,:,0]\n",
        "    yp0 = tf.keras.backend.cast(y_pred[:,:,:,0] > 0.5, 'float32')\n",
        "    inter = tf.math.count_nonzero(tf.logical_and(tf.equal(yt0, 1), tf.equal(yp0, 1)))\n",
        "    union = tf.math.count_nonzero(tf.add(yt0, yp0))\n",
        "    iou = tf.where(tf.equal(union, 0), 1., tf.cast(inter/union, 'float32'))\n",
        "    return iou\n",
        "\n",
        "def unet(sz = (512, 512, 3)):\n",
        "  inputs = Input(sz)\n",
        "  _ = inputs\n",
        "  \n",
        "  #down sampling \n",
        "  f = 8\n",
        "  layers = []\n",
        "  \n",
        "  for i in range(0, 6):\n",
        "    _ = Conv2D(f, 3, activation='relu', padding='same') (_)\n",
        "    _ = Conv2D(f, 3, activation='relu', padding='same') (_)\n",
        "    layers.append(_)\n",
        "    _ = MaxPooling2D() (_)\n",
        "    f = f*2\n",
        "  ff2 = 64 \n",
        "  \n",
        "  #bottleneck \n",
        "  j = len(layers) - 1\n",
        "  _ = Conv2D(f, 3, activation='relu', padding='same') (_)\n",
        "  _ = Conv2D(f, 3, activation='relu', padding='same') (_)\n",
        "  _ = Conv2DTranspose(ff2, 2, strides=(2, 2), padding='same') (_)\n",
        "  _ = Concatenate(axis=3)([_, layers[j]])\n",
        "  j = j -1 \n",
        "  \n",
        "  #upsampling \n",
        "  for i in range(0, 5):\n",
        "    ff2 = ff2//2\n",
        "    f = f // 2 \n",
        "    _ = Conv2D(f, 3, activation='relu', padding='same') (_)\n",
        "    _ = Conv2D(f, 3, activation='relu', padding='same') (_)\n",
        "    _ = Conv2DTranspose(ff2, 2, strides=(2, 2), padding='same') (_)\n",
        "    _ = Concatenate(axis=3)([_, layers[j]])\n",
        "    j = j -1 \n",
        "    \n",
        "  #classification \n",
        "  _ = Conv2D(f, 3, activation='relu', padding='same') (_)\n",
        "  _ = Conv2D(f, 3, activation='relu', padding='same') (_)\n",
        "  outputs = Conv2D(1, 1, activation='sigmoid') (_)\n",
        "  \n",
        "  #saving dependencies allows for reloading later\n",
        "  #dependencies = {\n",
        "  #    'mean_iou': mean_iou\n",
        "  #    }  \n",
        "  #model creation \n",
        "  model = Model(inputs=[inputs], outputs=[outputs])\n",
        "  model.compile(optimizer = 'rmsprop', loss = 'binary_crossentropy', \n",
        "                metrics = [mean_iou])#,\n",
        "                #custom_objects=dependencies)\n",
        "  \n",
        "  return model "
      ],
      "execution_count": 7,
      "outputs": []
    },
    {
      "cell_type": "code",
      "metadata": {
        "id": "UatgGhifUBeA"
      },
      "source": [
        "model = unet()"
      ],
      "execution_count": 8,
      "outputs": []
    },
    {
      "cell_type": "code",
      "metadata": {
        "id": "nNDTrZom9KPt"
      },
      "source": [
        "# inheritance for training process plot \n",
        "class PlotLearning(tf.keras.callbacks.Callback):\n",
        "\n",
        "    def on_train_begin(self, logs={}):\n",
        "        self.i = 0\n",
        "        self.x = []\n",
        "        self.losses = []\n",
        "        self.val_losses = []\n",
        "        self.acc = []\n",
        "        self.val_acc = []\n",
        "        #self.fig = plt.figure()\n",
        "        self.logs = []\n",
        "    def on_epoch_end(self, epoch, logs={}):\n",
        "        self.logs.append(logs)\n",
        "        self.x.append(self.i)\n",
        "        self.losses.append(logs.get('loss'))\n",
        "        self.val_losses.append(logs.get('val_loss'))\n",
        "        self.acc.append(logs.get('mean_iou'))\n",
        "        self.val_acc.append(logs.get('val_mean_iou'))\n",
        "        self.i += 1\n",
        "        print('i=',self.i,'loss=',logs.get('loss'),'val_loss=',logs.get('val_loss'),'mean_iou=',logs.get('mean_iou'),'val_mean_iou=',logs.get('val_mean_iou'))\n",
        "        \n",
        "        #choose a random test image and preprocess\n",
        "        path = np.random.choice(test_files)\n",
        "        infile = f'nwpu_images/data/{path}'\n",
        "        raw = Image.open(infile)\n",
        "        raw = np.array(raw.resize((512, 512)))/255.\n",
        "        raw = raw[:,:,0:3]\n",
        "        \n",
        "        #predict the mask \n",
        "        pred = 255*model.predict(np.expand_dims(raw, 0)).squeeze()\n",
        "        print(np.max(pred))\n",
        "                \n",
        "        #mask post-processing \n",
        "        msk  = (pred>60).astype('int') #100       \n",
        "        msk = np.stack((msk,)*3, axis=-1)\n",
        "        #msk[msk >= 0.5] = 1 \n",
        "        #msk[msk < 0.5] = 0 \n",
        "        \n",
        "        #show the mask and the segmented image \n",
        "        combined = np.concatenate([raw, msk, raw* msk], axis = 1)\n",
        "        plt.axis('off')\n",
        "        plt.imshow(combined)\n",
        "        plt.show()      "
      ],
      "execution_count": 9,
      "outputs": []
    },
    {
      "cell_type": "markdown",
      "metadata": {
        "id": "HkJBCYCWM6qi"
      },
      "source": [
        "We use Keras callbacks to implement learning rate decay if the validation loss does not improve for 5 continues epochs. Called \"reduce loss on plateau\"\n",
        "\n",
        "Also, we implement early stopping if the validation loss does not improve for 5 continuous epochs."
      ]
    },
    {
      "cell_type": "code",
      "metadata": {
        "id": "Fo2ls1vA9KPy"
      },
      "source": [
        "def image_batch_generator(files, batch_size = 32, sz = (512, 512)):\n",
        "  \n",
        "  while True: # this is here because it will be called repeatedly by the training function\n",
        "    \n",
        "    #extract a random subset of files of length \"batch_size\"\n",
        "    batch = np.random.choice(files, size = batch_size)    \n",
        "    \n",
        "    #variables for collecting batches of inputs (x) and outputs (y)\n",
        "    batch_x = []\n",
        "    batch_y = []\n",
        "    \n",
        "    #cycle through each image in the batch\n",
        "    for f in batch:\n",
        "\n",
        "        #preprocess the raw images \n",
        "        rawfile = f'nwpu_images/data/{f}'\n",
        "        raw = Image.open(rawfile)\n",
        "        raw = raw.resize(sz)\n",
        "        raw = np.array(raw)\n",
        "\n",
        "        #check the number of channels because some of the images are RGBA or GRAY\n",
        "        if len(raw.shape) == 2:\n",
        "            raw = np.stack((raw,)*3, axis=-1)\n",
        "\n",
        "        else:\n",
        "            raw = raw[:,:,0:3]\n",
        "            \n",
        "        #get the image dimensions, find the min dimension, then square the image off    \n",
        "        nx, ny, nz = np.shape(raw)\n",
        "        n = np.minimum(nx,ny)\n",
        "        raw = raw[:n,:n,:] \n",
        "            \n",
        "        batch_x.append(raw)\n",
        "        \n",
        "        #get the masks. \n",
        "        maskfile = rawfile.replace('nwpu_images','nwpu_label_images')+'_mask.jpg'\n",
        "        mask = Image.open(maskfile)\n",
        "        # the mask is 3-dimensional so get the max in each channel to flatten to 2D\n",
        "        mask = np.max(np.array(mask.resize(sz)),axis=2)\n",
        "        # water pixels are always greater than 100\n",
        "        mask = (mask>200).astype('int')\n",
        "        \n",
        "        mask = mask[:n,:n]\n",
        "\n",
        "        batch_y.append(mask)\n",
        "\n",
        "    #preprocess a batch of images and masks \n",
        "    batch_x = np.array(batch_x)/255. #divide image by 255 to normalize\n",
        "    batch_y = np.array(batch_y)\n",
        "    batch_y = np.expand_dims(batch_y,3) #add singleton dimension to batch_y\n",
        "\n",
        "    yield (batch_x, batch_y) #yield both the image and the label together"
      ],
      "execution_count": 10,
      "outputs": []
    },
    {
      "cell_type": "markdown",
      "metadata": {
        "id": "WR_LULokT4ff"
      },
      "source": [
        "We've seen code like the below in the previous Part, setting up batch size, proportion of the dataset to train with, getting randomized lists of test and train file names, and finally setting up generators for model training and testing"
      ]
    },
    {
      "cell_type": "code",
      "metadata": {
        "id": "-3Fu3vdZ-nsN"
      },
      "source": [
        "batch_size = 8\n",
        "\n",
        "prop_train = 0.6\n",
        "\n",
        "all_files = os.listdir('nwpu_images/data')\n",
        "shuffle(all_files)\n",
        "\n",
        "split = int(prop_train * len(all_files))\n",
        "\n",
        "#split into training and testing\n",
        "train_files = all_files[0:split]\n",
        "test_files  = all_files[split:]\n",
        "\n",
        "train_generator = image_batch_generator(train_files, batch_size = batch_size)\n",
        "test_generator  = image_batch_generator(test_files, batch_size = batch_size)"
      ],
      "execution_count": 11,
      "outputs": []
    },
    {
      "cell_type": "markdown",
      "metadata": {
        "id": "2U2y96CiT4fi"
      },
      "source": [
        "A customary check that things worked"
      ]
    },
    {
      "cell_type": "code",
      "metadata": {
        "colab": {
          "base_uri": "https://localhost:8080/",
          "height": 286
        },
        "id": "8rIwVxdIIWEV",
        "outputId": "4e06b61f-48a7-4268-ad9a-7aa2ebd90ab3"
      },
      "source": [
        "x, y = next(train_generator)\n",
        "plt.imshow(x[0])\n",
        "plt.imshow(y[0].squeeze(), cmap='gray', alpha=0.5)"
      ],
      "execution_count": 12,
      "outputs": [
        {
          "output_type": "execute_result",
          "data": {
            "text/plain": [
              "<matplotlib.image.AxesImage at 0x7f3592b7d160>"
            ]
          },
          "metadata": {
            "tags": []
          },
          "execution_count": 12
        },
        {
          "output_type": "display_data",
          "data": {
            "image/png": "[encoded data removed]",
            "text/plain": [
              "<Figure size 432x288 with 1 Axes>"
            ]
          },
          "metadata": {
            "tags": [],
            "needs_background": "light"
          }
        }
      ]
    },
    {
      "cell_type": "markdown",
      "metadata": {
        "id": "kCtvJfY6T4fn"
      },
      "source": [
        "<table style=\"font-size: 1em; padding: 0; margin: 0;\">\n",
        "\n",
        "<h1 style=\"width: 100%; text-align: left; padding: 0px 25px;\"><small style=\"color: #182AEB;\">\n",
        "    </small><br/>Optimization strategy: Using Early Stopping<br/>and Adaptive Learning Rates</h1>\n",
        "<br/>\n",
        "<p style=\"border-left: 15px solid #182AEB; text-align:justify; padding: 0 10px;\">\n",
        "    Neural networks can overfit if they train for too long, but it's hard to know how many epochs is too many without a lot of trial and error, which is not efficient. Automatically computing how many training epochs a model needs or, to put it another way, evaluating when to stop training or <em>early stopping</em>, is achieved by monitoring validation loss during training. If loss doesn't improve for a certain number of epochs, called the <em>patience</em>, model training is terminated. Below <em>patience</em> is set to 5. Another common training strategy to prevent overly long training times is to adaptively change the learning rate during model training. This is achieved by starting with a relatively large number and then decreasing it after every training epoch until a specified minimum <em>min_lr</em> at a certain rate of reduction <em>min_delta</em>.</p>\n",
        "        </tr>\n",
        "        </table>"
      ]
    },
    {
      "cell_type": "code",
      "metadata": {
        "id": "Ajq5OJsUT4fo"
      },
      "source": [
        "from tensorflow.keras.callbacks import ReduceLROnPlateau, EarlyStopping, ModelCheckpoint"
      ],
      "execution_count": 13,
      "outputs": []
    },
    {
      "cell_type": "code",
      "metadata": {
        "id": "01eq594-NkqB"
      },
      "source": [
        "def build_callbacks(filepath, min_delta, min_lr, factor):\n",
        "\n",
        "    earlystop = EarlyStopping(monitor=\"val_loss\", \n",
        "                                  mode=\"min\", patience=5) \n",
        "    \n",
        "    # reduction of learning rate if and when validation scores plateau upon successive epochs\n",
        "    reduceloss_plat = ReduceLROnPlateau(monitor='val_loss', factor=factor, patience=5, \n",
        "                                    verbose=1, mode='auto', min_delta=min_delta, \n",
        "                                    cooldown=5, min_lr=min_lr)\n",
        "\n",
        "    # set checkpoint file \n",
        "    model_checkpoint = ModelCheckpoint(filepath, monitor='val_loss', \n",
        "                                   verbose=0, save_best_only=True, mode='min', \n",
        "                                   save_weights_only = True)\n",
        "        \n",
        "    callbacks = [model_checkpoint, reduceloss_plat, earlystop, PlotLearning()]\n",
        "\n",
        "    return callbacks  "
      ],
      "execution_count": 14,
      "outputs": []
    },
    {
      "cell_type": "code",
      "metadata": {
        "id": "GKPDSbt3T4ft"
      },
      "source": [
        "# a tolerance for the training.\n",
        "min_delta = 0.0001\n",
        "\n",
        "# minimum learning rate (lambda)\n",
        "min_lr = 0.0001\n",
        "\n",
        "# the factor applied to the learning rate when the appropriate triggers are made\n",
        "factor = 0.8\n",
        "\n",
        "batch_size = 8\n",
        "\n",
        "filepath = 'unet'+str(batch_size)+'.h5'"
      ],
      "execution_count": 15,
      "outputs": []
    },
    {
      "cell_type": "code",
      "metadata": {
        "colab": {
          "base_uri": "https://localhost:8080/"
        },
        "id": "haW5J3F1-xax",
        "outputId": "6b967c5f-6975-49f5-9eec-357becee5a73"
      },
      "source": [
        "train_generator = image_batch_generator(train_files, batch_size = batch_size)\n",
        "test_generator  = image_batch_generator(test_files, batch_size = batch_size)\n",
        "train_steps = len(train_files) //batch_size\n",
        "test_steps = len(test_files) //batch_size\n",
        "print(train_steps)\n",
        "print(test_steps)"
      ],
      "execution_count": 16,
      "outputs": [
        {
          "output_type": "stream",
          "text": [
            "42\n",
            "28\n"
          ],
          "name": "stdout"
        }
      ]
    },
    {
      "cell_type": "code",
      "metadata": {
        "id": "Rxoznmh4T4fy"
      },
      "source": [
        "if load_history:\n",
        "  file_id = '1wIDC0-6ngIoldQr54ss2WdTIf6UT2qfN'\n",
        "  destination = 'opt_model_1_early_hist'\n",
        "  download_file_from_google_drive(file_id, destination)\n",
        "  with open(\"opt_model_1_early_hist\", \"rb\") as file_pi:\n",
        "    history = pickle.load(file_pi)\n",
        "  large_history = history\n",
        "else:\n",
        "  history = model.fit_generator(train_generator,\n",
        "                                epochs = 50, steps_per_epoch = train_steps,\n",
        "                                validation_data = test_generator, \n",
        "                                validation_steps = test_steps,\n",
        "                                callbacks = build_callbacks(filepath, \n",
        "                                                            min_delta, \n",
        "                                                            min_lr, \n",
        "                                                            factor), \n",
        "                                verbose = 0,\n",
        "                                use_multiprocessing=True)"
      ],
      "execution_count": 17,
      "outputs": []
    },
    {
      "cell_type": "code",
      "metadata": {
        "id": "l07BdEFoiJRU"
      },
      "source": [
        "if not load_history:\n",
        "  # save model and history to load or graph later\n",
        "  model.save(\"opt_model_1_early\",save_format=\"h5\")\n",
        "  \n",
        "  import pickle\n",
        "  with open('opt_model_1_early_hist', 'wb') as file_pi:\n",
        "    pickle.dump(history.history, file_pi)\n",
        "  \n",
        "  del model"
      ],
      "execution_count": 18,
      "outputs": []
    },
    {
      "cell_type": "code",
      "metadata": {
        "id": "7CqxMz272fjR"
      },
      "source": [
        "#with open(\"opt_model_1_early_hist\", \"rb\") as file_pi:\n",
        "#  history2 = pickle.load(file_pi)"
      ],
      "execution_count": 19,
      "outputs": []
    },
    {
      "cell_type": "code",
      "metadata": {
        "id": "CHALwbqY9042"
      },
      "source": [
        "#model2 = tf.keras.models.load_model('opt_model_1_early',\n",
        "#                                   custom_objects={'mean_iou': mean_iou})"
      ],
      "execution_count": 20,
      "outputs": []
    },
    {
      "cell_type": "code",
      "metadata": {
        "id": "IUGyE3AeFal_"
      },
      "source": [
        "#del history2\n",
        "#del model2"
      ],
      "execution_count": 21,
      "outputs": []
    },
    {
      "cell_type": "code",
      "metadata": {
        "id": "sbnjH7OZrzDu"
      },
      "source": [
        "#del model"
      ],
      "execution_count": 22,
      "outputs": []
    },
    {
      "cell_type": "code",
      "metadata": {
        "id": "eOek8LMKigXF"
      },
      "source": [
        "#!rm -r nwpu_images\n",
        "#!rm -r nwpu_label_images\n",
        "#!rm -r s2cloudless_imagery\n",
        "#!rm -r s2cloudless_label_imagery\n",
        "#!rm -r nwpu_images.zip\n",
        "#!rm -r nwpu_label_images.zip\n",
        "#!rm -r opt_model_1_early\n",
        "#!rm -r opt_model_1_early_hist\n",
        "#!rm -r opt_model_2_big\n",
        "#!rm -r opt_model_2_big_hist\n",
        "#!rm -r s2cloudless_imagery.zip\n",
        "#!rm -r s2cloudless_label_imagery.zip\n",
        "#!rm -r unet8.h5\n",
        "#!rm -r large_unet2.h5"
      ],
      "execution_count": 23,
      "outputs": []
    },
    {
      "cell_type": "markdown",
      "metadata": {
        "id": "OIMjBNLQiUdK"
      },
      "source": [
        "<table style=\"font-size: 1em; padding: 0; margin: 0;\">\n",
        "\n",
        "<h1 style=\"width: 100%; text-align: left; padding: 0px 25px;\"><small style=\"color: #182AEB;\">\n",
        "    </small><br/>Optimization strategy: changing model architecture <br/>use a bigger rocket</h1>\n",
        "<br/>\n",
        "<p style=\"border-left: 15px solid #182AEB; text-align:justify; padding: 0 10px;\">\n",
        "    We'll create a new `unet` function that includes initial filter size <em>f</em> and \"bottleneck-creation filter size\" <em>ff2</em>. The the previous models, <em>f</em>=8 and <em>ff2</em>=64. This time we make that a user-decision. We'll use <em>f</em>=16 and <em>ff2</em>=128. Because this will massively increase the number of tunable parameters, we will implement a <em>regularization</em> strategy called <em>Dropout</em>. Regularization refers to a training strategy that prevents the model from overfitting the data. This ensures the model generalizes well and is useful for prediction on unseen test data. Dropout is a popular regularization trick, which involves randomly dropping neurons of output layers. The hyperparameter that governs its behavior is a rate. 0.25 means that 25% of neurons, randomly selected, will be dropped. Dropout forces the model to learn robust features, because dropout may deactivate a neuron heavily weighted for a specific feature seen only in training imagery. Dropout thus ensures that more neurons share feature extraction tasks.</p>\n",
        "        </tr>\n",
        "        </table>"
      ]
    },
    {
      "cell_type": "code",
      "metadata": {
        "id": "ffDGYhaSha8D"
      },
      "source": [
        "from tensorflow.keras.layers import Dropout"
      ],
      "execution_count": 24,
      "outputs": []
    },
    {
      "cell_type": "code",
      "metadata": {
        "id": "2CXR1yZehkTD",
        "outputId": "63d25ca8-5ea8-4bd7-a852-c1981ab514e2",
        "colab": {
          "base_uri": "https://localhost:8080/"
        }
      },
      "source": [
        "def unet(sz, f, ff2):\n",
        "  inputs = Input(sz)\n",
        "  _ = inputs\n",
        "  \n",
        "  #down sampling \n",
        "  #f = 8\n",
        "  layers = []\n",
        "  \n",
        "  for i in range(0, 6):\n",
        "    _ = Conv2D(f, 3, activation='relu', padding='same') (_)\n",
        "    _ = Conv2D(f, 3, activation='relu', padding='same') (_)\n",
        "    layers.append(_)\n",
        "    _ = MaxPooling2D() (_)\n",
        "    _ = Dropout(0.25)(_) #added Dropout layer\n",
        "    f = f*2\n",
        "  #ff2 = 64 \n",
        "  \n",
        "  #bottleneck \n",
        "  j = len(layers) - 1\n",
        "  _ = Conv2D(f, 3, activation='relu', padding='same') (_)\n",
        "  _ = Conv2D(f, 3, activation='relu', padding='same') (_)\n",
        "  _ = Conv2DTranspose(ff2, 2, strides=(2, 2), padding='same') (_)\n",
        "  _ = Concatenate(axis=3)([_, layers[j]])\n",
        "  j = j -1 \n",
        "      \n",
        "  #upsampling \n",
        "  for i in range(0, 5):\n",
        "    ff2 = ff2//2\n",
        "    f = f // 2 \n",
        "    _ = Conv2D(f, 3, activation='relu', padding='same') (_)\n",
        "    _ = Conv2D(f, 3, activation='relu', padding='same') (_)\n",
        "    _ = Conv2DTranspose(ff2, 2, strides=(2, 2), padding='same') (_)\n",
        "    _ = Concatenate(axis=3)([_, layers[j]])\n",
        "    _ = Dropout(0.25)(_) #added Dropout layer   \n",
        "    j = j -1 \n",
        "    \n",
        "  #classification \n",
        "  _ = Conv2D(f, 3, activation='relu', padding='same') (_)\n",
        "  _ = Conv2D(f, 3, activation='relu', padding='same') (_)\n",
        "  outputs = Conv2D(1, 1, activation='sigmoid') (_)\n",
        "\n",
        "  #saving dependencies allows for reloading later\n",
        "  dependencies = {\n",
        "      'mean_iou': mean_iou\n",
        "      }  \n",
        "\n",
        "  #model creation \n",
        "  model = Model(inputs=[inputs], outputs=[outputs])\n",
        "  model.compile(optimizer = 'rmsprop', loss = 'binary_crossentropy', \n",
        "                metrics = [mean_iou])\n",
        "                #custom_objects=dependencies)\n",
        "  \n",
        "  return model \n",
        "\n",
        "model = unet((512, 512, 3), 16, 128)\n",
        "model.summary()"
      ],
      "execution_count": 25,
      "outputs": [
        {
          "output_type": "stream",
          "text": [
            "Model: \"model_1\"\n",
            "__________________________________________________________________________________________________\n",
            "Layer (type)                    Output Shape         Param #     Connected to                     \n",
            "==================================================================================================\n",
            "input_2 (InputLayer)            [(None, 512, 512, 3) 0                                            \n",
            "__________________________________________________________________________________________________\n",
            "conv2d_27 (Conv2D)              (None, 512, 512, 16) 448         input_2[0][0]                    \n",
            "__________________________________________________________________________________________________\n",
            "conv2d_28 (Conv2D)              (None, 512, 512, 16) 2320        conv2d_27[0][0]                  \n",
            "__________________________________________________________________________________________________\n",
            "max_pooling2d_6 (MaxPooling2D)  (None, 256, 256, 16) 0           conv2d_28[0][0]                  \n",
            "__________________________________________________________________________________________________\n",
            "dropout (Dropout)               (None, 256, 256, 16) 0           max_pooling2d_6[0][0]            \n",
            "__________________________________________________________________________________________________\n",
            "conv2d_29 (Conv2D)              (None, 256, 256, 32) 4640        dropout[0][0]                    \n",
            "__________________________________________________________________________________________________\n",
            "conv2d_30 (Conv2D)              (None, 256, 256, 32) 9248        conv2d_29[0][0]                  \n",
            "__________________________________________________________________________________________________\n",
            "max_pooling2d_7 (MaxPooling2D)  (None, 128, 128, 32) 0           conv2d_30[0][0]                  \n",
            "__________________________________________________________________________________________________\n",
            "dropout_1 (Dropout)             (None, 128, 128, 32) 0           max_pooling2d_7[0][0]            \n",
            "__________________________________________________________________________________________________\n",
            "conv2d_31 (Conv2D)              (None, 128, 128, 64) 18496       dropout_1[0][0]                  \n",
            "__________________________________________________________________________________________________\n",
            "conv2d_32 (Conv2D)              (None, 128, 128, 64) 36928       conv2d_31[0][0]                  \n",
            "__________________________________________________________________________________________________\n",
            "max_pooling2d_8 (MaxPooling2D)  (None, 64, 64, 64)   0           conv2d_32[0][0]                  \n",
            "__________________________________________________________________________________________________\n",
            "dropout_2 (Dropout)             (None, 64, 64, 64)   0           max_pooling2d_8[0][0]            \n",
            "__________________________________________________________________________________________________\n",
            "conv2d_33 (Conv2D)              (None, 64, 64, 128)  73856       dropout_2[0][0]                  \n",
            "__________________________________________________________________________________________________\n",
            "conv2d_34 (Conv2D)              (None, 64, 64, 128)  147584      conv2d_33[0][0]                  \n",
            "__________________________________________________________________________________________________\n",
            "max_pooling2d_9 (MaxPooling2D)  (None, 32, 32, 128)  0           conv2d_34[0][0]                  \n",
            "__________________________________________________________________________________________________\n",
            "dropout_3 (Dropout)             (None, 32, 32, 128)  0           max_pooling2d_9[0][0]            \n",
            "__________________________________________________________________________________________________\n",
            "conv2d_35 (Conv2D)              (None, 32, 32, 256)  295168      dropout_3[0][0]                  \n",
            "__________________________________________________________________________________________________\n",
            "conv2d_36 (Conv2D)              (None, 32, 32, 256)  590080      conv2d_35[0][0]                  \n",
            "__________________________________________________________________________________________________\n",
            "max_pooling2d_10 (MaxPooling2D) (None, 16, 16, 256)  0           conv2d_36[0][0]                  \n",
            "__________________________________________________________________________________________________\n",
            "dropout_4 (Dropout)             (None, 16, 16, 256)  0           max_pooling2d_10[0][0]           \n",
            "__________________________________________________________________________________________________\n",
            "conv2d_37 (Conv2D)              (None, 16, 16, 512)  1180160     dropout_4[0][0]                  \n",
            "__________________________________________________________________________________________________\n",
            "conv2d_38 (Conv2D)              (None, 16, 16, 512)  2359808     conv2d_37[0][0]                  \n",
            "__________________________________________________________________________________________________\n",
            "max_pooling2d_11 (MaxPooling2D) (None, 8, 8, 512)    0           conv2d_38[0][0]                  \n",
            "__________________________________________________________________________________________________\n",
            "dropout_5 (Dropout)             (None, 8, 8, 512)    0           max_pooling2d_11[0][0]           \n",
            "__________________________________________________________________________________________________\n",
            "conv2d_39 (Conv2D)              (None, 8, 8, 1024)   4719616     dropout_5[0][0]                  \n",
            "__________________________________________________________________________________________________\n",
            "conv2d_40 (Conv2D)              (None, 8, 8, 1024)   9438208     conv2d_39[0][0]                  \n",
            "__________________________________________________________________________________________________\n",
            "conv2d_transpose_6 (Conv2DTrans (None, 16, 16, 128)  524416      conv2d_40[0][0]                  \n",
            "__________________________________________________________________________________________________\n",
            "concatenate_6 (Concatenate)     (None, 16, 16, 640)  0           conv2d_transpose_6[0][0]         \n",
            "                                                                 conv2d_38[0][0]                  \n",
            "__________________________________________________________________________________________________\n",
            "conv2d_41 (Conv2D)              (None, 16, 16, 512)  2949632     concatenate_6[0][0]              \n",
            "__________________________________________________________________________________________________\n",
            "conv2d_42 (Conv2D)              (None, 16, 16, 512)  2359808     conv2d_41[0][0]                  \n",
            "__________________________________________________________________________________________________\n",
            "conv2d_transpose_7 (Conv2DTrans (None, 32, 32, 64)   131136      conv2d_42[0][0]                  \n",
            "__________________________________________________________________________________________________\n",
            "concatenate_7 (Concatenate)     (None, 32, 32, 320)  0           conv2d_transpose_7[0][0]         \n",
            "                                                                 conv2d_36[0][0]                  \n",
            "__________________________________________________________________________________________________\n",
            "dropout_6 (Dropout)             (None, 32, 32, 320)  0           concatenate_7[0][0]              \n",
            "__________________________________________________________________________________________________\n",
            "conv2d_43 (Conv2D)              (None, 32, 32, 256)  737536      dropout_6[0][0]                  \n",
            "__________________________________________________________________________________________________\n",
            "conv2d_44 (Conv2D)              (None, 32, 32, 256)  590080      conv2d_43[0][0]                  \n",
            "__________________________________________________________________________________________________\n",
            "conv2d_transpose_8 (Conv2DTrans (None, 64, 64, 32)   32800       conv2d_44[0][0]                  \n",
            "__________________________________________________________________________________________________\n",
            "concatenate_8 (Concatenate)     (None, 64, 64, 160)  0           conv2d_transpose_8[0][0]         \n",
            "                                                                 conv2d_34[0][0]                  \n",
            "__________________________________________________________________________________________________\n",
            "dropout_7 (Dropout)             (None, 64, 64, 160)  0           concatenate_8[0][0]              \n",
            "__________________________________________________________________________________________________\n",
            "conv2d_45 (Conv2D)              (None, 64, 64, 128)  184448      dropout_7[0][0]                  \n",
            "__________________________________________________________________________________________________\n",
            "conv2d_46 (Conv2D)              (None, 64, 64, 128)  147584      conv2d_45[0][0]                  \n",
            "__________________________________________________________________________________________________\n",
            "conv2d_transpose_9 (Conv2DTrans (None, 128, 128, 16) 8208        conv2d_46[0][0]                  \n",
            "__________________________________________________________________________________________________\n",
            "concatenate_9 (Concatenate)     (None, 128, 128, 80) 0           conv2d_transpose_9[0][0]         \n",
            "                                                                 conv2d_32[0][0]                  \n",
            "__________________________________________________________________________________________________\n",
            "dropout_8 (Dropout)             (None, 128, 128, 80) 0           concatenate_9[0][0]              \n",
            "__________________________________________________________________________________________________\n",
            "conv2d_47 (Conv2D)              (None, 128, 128, 64) 46144       dropout_8[0][0]                  \n",
            "__________________________________________________________________________________________________\n",
            "conv2d_48 (Conv2D)              (None, 128, 128, 64) 36928       conv2d_47[0][0]                  \n",
            "__________________________________________________________________________________________________\n",
            "conv2d_transpose_10 (Conv2DTran (None, 256, 256, 8)  2056        conv2d_48[0][0]                  \n",
            "__________________________________________________________________________________________________\n",
            "concatenate_10 (Concatenate)    (None, 256, 256, 40) 0           conv2d_transpose_10[0][0]        \n",
            "                                                                 conv2d_30[0][0]                  \n",
            "__________________________________________________________________________________________________\n",
            "dropout_9 (Dropout)             (None, 256, 256, 40) 0           concatenate_10[0][0]             \n",
            "__________________________________________________________________________________________________\n",
            "conv2d_49 (Conv2D)              (None, 256, 256, 32) 11552       dropout_9[0][0]                  \n",
            "__________________________________________________________________________________________________\n",
            "conv2d_50 (Conv2D)              (None, 256, 256, 32) 9248        conv2d_49[0][0]                  \n",
            "__________________________________________________________________________________________________\n",
            "conv2d_transpose_11 (Conv2DTran (None, 512, 512, 4)  516         conv2d_50[0][0]                  \n",
            "__________________________________________________________________________________________________\n",
            "concatenate_11 (Concatenate)    (None, 512, 512, 20) 0           conv2d_transpose_11[0][0]        \n",
            "                                                                 conv2d_28[0][0]                  \n",
            "__________________________________________________________________________________________________\n",
            "dropout_10 (Dropout)            (None, 512, 512, 20) 0           concatenate_11[0][0]             \n",
            "__________________________________________________________________________________________________\n",
            "conv2d_51 (Conv2D)              (None, 512, 512, 32) 5792        dropout_10[0][0]                 \n",
            "__________________________________________________________________________________________________\n",
            "conv2d_52 (Conv2D)              (None, 512, 512, 32) 9248        conv2d_51[0][0]                  \n",
            "__________________________________________________________________________________________________\n",
            "conv2d_53 (Conv2D)              (None, 512, 512, 1)  33          conv2d_52[0][0]                  \n",
            "==================================================================================================\n",
            "Total params: 26,663,725\n",
            "Trainable params: 26,663,725\n",
            "Non-trainable params: 0\n",
            "__________________________________________________________________________________________________\n"
          ],
          "name": "stdout"
        }
      ]
    },
    {
      "cell_type": "markdown",
      "metadata": {
        "id": "5ewXtqdshoAg"
      },
      "source": [
        "From 6 to 26 million parameters!"
      ]
    },
    {
      "cell_type": "code",
      "metadata": {
        "id": "t6iWAOd_hrYR",
        "outputId": "efe71398-d3c9-4b83-c53a-f00a02f2850e",
        "colab": {
          "base_uri": "https://localhost:8080/"
        }
      },
      "source": [
        "# since the model is much larger the batch size should be smaller so training fits in GPU memory\n",
        "batch_size = 2\n",
        "# define file path\n",
        "filepath = 'large_unet'+str(batch_size)+'.h5'\n",
        "\n",
        "train_generator = image_batch_generator(train_files, batch_size = batch_size)\n",
        "test_generator  = image_batch_generator(test_files, batch_size = batch_size)\n",
        "train_steps = len(train_files) //batch_size\n",
        "test_steps = len(test_files) //batch_size\n",
        "print(train_steps)\n",
        "print(test_steps)"
      ],
      "execution_count": 26,
      "outputs": [
        {
          "output_type": "stream",
          "text": [
            "171\n",
            "114\n"
          ],
          "name": "stdout"
        }
      ]
    },
    {
      "cell_type": "code",
      "metadata": {
        "id": "V4FvpMa0hxNS"
      },
      "source": [
        "if load_large_history:\n",
        "  file_id = '1Ld9xHgid81DIWoOdV4UpFeK10WF-fw6A'\n",
        "  destination = 'opt_model_2_big_hist'\n",
        "  download_file_from_google_drive(file_id, destination)\n",
        "  with open(\"opt_model_2_big_hist\", \"rb\") as file_pi:\n",
        "    large_history = pickle.load(file_pi)\n",
        "else:\n",
        "  large_history = model.fit_generator(train_generator,\n",
        "                                      epochs = 50, \n",
        "                                      steps_per_epoch = train_steps,\n",
        "                                      validation_data = test_generator, \n",
        "                                      validation_steps = test_steps,\n",
        "                                      callbacks = build_callbacks(filepath, \n",
        "                                                                  min_delta, \n",
        "                                                                  min_lr, \n",
        "                                                                  factor), \n",
        "                                      verbose = 0,\n",
        "                                      use_multiprocessing=True)"
      ],
      "execution_count": 27,
      "outputs": []
    },
    {
      "cell_type": "code",
      "metadata": {
        "id": "HksbDW5HyNCW"
      },
      "source": [
        "if not load_large_history:\n",
        "  #save model and history to load or graph later\n",
        "  model.save(\"opt_model_2_big\",save_format=\"h5\")\n",
        "  \n",
        "  with open('opt_model_2_big_hist', 'wb') as file_pi:\n",
        "    pickle.dump(large_history.history, file_pi)"
      ],
      "execution_count": 28,
      "outputs": []
    },
    {
      "cell_type": "code",
      "metadata": {
        "id": "X8i9KRdjnw_5"
      },
      "source": [
        "#from google.colab import drive\n",
        "#drive.mount('/content/drive')"
      ],
      "execution_count": 29,
      "outputs": []
    },
    {
      "cell_type": "code",
      "metadata": {
        "id": "YaX-uCylh1QW"
      },
      "source": [
        "del model"
      ],
      "execution_count": 30,
      "outputs": []
    },
    {
      "cell_type": "code",
      "metadata": {
        "id": "jjCXVzHi8nCs"
      },
      "source": [
        "#large_history.history.keys()\n",
        "#large_history2.keys()"
      ],
      "execution_count": 31,
      "outputs": []
    },
    {
      "cell_type": "code",
      "metadata": {
        "id": "kJG_WYTYh6JF",
        "outputId": "d5b82d87-e23e-426f-855f-2472271cd1a2",
        "colab": {
          "base_uri": "https://localhost:8080/",
          "height": 621
        }
      },
      "source": [
        "# summarize history for iou\n",
        "plt.figure(figsize=(10,10))\n",
        "plt.subplot(121)\n",
        "if load_history:\n",
        "  plt.plot(history['mean_iou'],'k',lw=1)\n",
        "  plt.plot(history['val_mean_iou'],'r',lw=1)\n",
        "else:\n",
        "  plt.plot(history.history['mean_iou'],'k',lw=1)\n",
        "  plt.plot(history.history['val_mean_iou'],'r',lw=1)\n",
        "plt.ylim(0,1)\n",
        "plt.axhline(y=0.85)\n",
        "plt.title('Baseline IoU')\n",
        "plt.ylabel('IoU')\n",
        "plt.xlabel('Epoch number')\n",
        "plt.legend(['train', 'test'], loc='upper left')\n",
        "\n",
        "plt.subplot(122)\n",
        "if load_large_history:\n",
        "  plt.plot(large_history['mean_iou'],'k',lw=1)\n",
        "  plt.plot(large_history['val_mean_iou'],'r',lw=1)\n",
        "else:\n",
        "  plt.plot(large_history.history['mean_iou'],'k',lw=1)\n",
        "  plt.plot(large_history.history['val_mean_iou'],'r',lw=1)\n",
        "plt.ylim(0,1)\n",
        "plt.axhline(y=0.85)\n",
        "plt.title('Large model IoU')\n",
        "plt.ylabel('IoU')\n",
        "plt.xlabel('Epoch number')\n",
        "plt.legend(['train', 'test'], loc='upper left')\n",
        "\n",
        "plt.show()"
      ],
      "execution_count": 32,
      "outputs": [
        {
          "output_type": "display_data",
          "data": {
            "image/png": "[encoded data removed]",
            "text/plain": [
              "<Figure size 720x720 with 2 Axes>"
            ]
          },
          "metadata": {
            "tags": [],
            "needs_background": "light"
          }
        }
      ]
    },
    {
      "cell_type": "code",
      "metadata": {
        "id": "z-K72ou9jcN8"
      },
      "source": [
        ""
      ],
      "execution_count": 32,
      "outputs": []
    }
  ]
}