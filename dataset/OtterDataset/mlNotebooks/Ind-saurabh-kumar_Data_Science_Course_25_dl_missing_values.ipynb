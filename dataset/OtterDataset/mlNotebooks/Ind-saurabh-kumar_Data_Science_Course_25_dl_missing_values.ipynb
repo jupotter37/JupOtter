{
 "cells": [
  {
   "cell_type": "markdown",
   "metadata": {},
   "source": [
    "# 5.2 Deep Learning Methods \n",
    "\n",
    "Neural networks especially autoemcoders can be effective in imputing missing values in complex dataets. \n",
    "deep learing methods particularly neural networks liek autnencodrs, offer a powerful approach for imputing missing values in comple datasets. These methods are especially useful when the data has intericate non-liner relationships that trditional statistical methdos migh not captuere effectively. \n",
    "\n",
    "\n",
    "\n",
    "#### Undersatnding Autoencoders for Imputation:\n",
    "\n",
    "1. **What is an Autoencoder?**\n",
    "    - An autoencoder is a type of neural network that is trained to copy its input to its output. \n",
    "    - It has a hidden layer that describes a code used to represent the input \n",
    "    - The network may be viewed as consisting of two parts: an endocer function which compressses the nput nto a latent-space representatino and a decoder function, which reconsitructs the input from the latent space.\n",
    "\n",
    "2. **How Autoencoders Work for Imputation:\n",
    "**\n",
    "- The key idea is to train the autoencoder to ignore the noise (missing values) in the input data.\n",
    "- During training, inputs with missing values are presented, and the network learns to predict the missing values in a way that minimizes reconstruction error for known parts of the data.\n",
    "- This results in the network learning a robust representation of the data, enabling it to make reasonable guesses about missing values.\n",
    "Advantages of Using Autoencoders:\n",
    "\n",
    "3. **Handling Complex Patterns:** \n",
    "- They can capture non-linear relationships in the data, which is particularly useful for complex datasets.\n",
    "- **Scalability:** They can handle large-scale datasets efficiently.\n",
    "- **Flexibility:** They can be adapted to different types of data (e.g., images, text, time-series).\n",
    "Implementation Considerations:\n",
    "\n",
    "4. **Data Preprocessing:** \n",
    "- Data should be normalized or standardized before feeding it into an autoencoder.\n",
    "- Network Architecture: The choice of architecture (number of layers, type of layers, etc.) depends on the complexity of the data.\n",
    "- **Training Process:** It might involve techniques like dropout or noise addition to improve the model's ability to handle missing data.\n",
    "\n",
    "5. **Example Use-Cases:**\n",
    "\n",
    "- **Image Data:** Filling in missing pixels or reconstructing corrupted images.\n",
    "- **Time-Series Data:** Imputing missing values in sequences like stock prices or weather data.\n",
    "- **Tabular Data:** Handling missing entries in datasets used for machine learning.\n"
   ]
  },
  {
   "cell_type": "markdown",
   "metadata": {},
   "source": [
    "## Implementtation Example:\n",
    "Here's simplified example fo how you might set up an autoencoder for imputationin Python using TensorFlow and keras: "
   ]
  },
  {
   "cell_type": "code",
   "execution_count": 1,
   "metadata": {},
   "outputs": [
    {
     "name": "stdout",
     "output_type": "stream",
     "text": [
      "WARNING:tensorflow:From c:\\Users\\Saurabh Kumar\\miniconda3\\envs\\tf_env\\Lib\\site-packages\\keras\\src\\losses.py:2976: The name tf.losses.sparse_softmax_cross_entropy is deprecated. Please use tf.compat.v1.losses.sparse_softmax_cross_entropy instead.\n",
      "\n"
     ]
    }
   ],
   "source": [
    "import seaborn as sns \n",
    "import tensorflow as tf \n",
    "\n",
    "from tensorflow.keras.layers import Input, Dense \n",
    "from tensorflow.keras.models import Model \n",
    "from sklearn.model_selection import train_test_split \n",
    "from sklearn.preprocessing import MinMaxScaler, OneHotEncoder \n",
    "from sklearn.compose import ColumnTransformer \n",
    "from sklearn.pipeline import Pipeline \n",
    "from sklearn.impute import SimpleImputer"
   ]
  },
  {
   "cell_type": "code",
   "execution_count": 3,
   "metadata": {},
   "outputs": [],
   "source": [
    "# Load the Titanic dataset \n",
    "df_titanic = sns.load_dataset('titanic') \n"
   ]
  },
  {
   "cell_type": "code",
   "execution_count": 6,
   "metadata": {},
   "outputs": [],
   "source": [
    "# Selectin relevant features for simplicity \n",
    "df_titanic = df_titanic[['survived','pclass', 'sex', 'age', 'sibsp', 'parch', 'fare', 'embarked']]"
   ]
  },
  {
   "cell_type": "code",
   "execution_count": 7,
   "metadata": {},
   "outputs": [],
   "source": [
    "# preprocessing \n",
    "#separate features aond target \n",
    "X = df_titanic.drop('survived', axis=1)\n",
    "y = df_titanic['survived']"
   ]
  },
  {
   "cell_type": "code",
   "execution_count": 8,
   "metadata": {},
   "outputs": [],
   "source": [
    "# Handlingmissign values and categorical variables \n",
    "numeric_features = ['age', 'fare', 'sibsp', 'parch']\n",
    "numeric_transformer = Pipeline(steps=[\n",
    "    ('imputer', SimpleImputer(strategy='mean')),\n",
    "    ('scaler', MinMaxScaler())\n",
    "])\n",
    "\n",
    "categorical_features = ['pclass', 'sex', 'embarked']\n",
    "categorical_transformer = Pipeline(steps=[\n",
    "    ('impter', SimpleImputer(strategy='constant', fill_value='missing')),\n",
    "    ('onehot', OneHotEncoder(handle_unknown='ignore'))\n",
    "])\n",
    "\n",
    "\n",
    "# ColumnTransformer for preprocessing \n",
    "preprocessor = ColumnTransformer(\n",
    "    transformers=[\n",
    "        ('num', numeric_transformer, numeric_features), \n",
    "        ('cat', categorical_transformer, categorical_features)\n",
    "    ])\n",
    "\n"
   ]
  },
  {
   "cell_type": "code",
   "execution_count": 9,
   "metadata": {},
   "outputs": [],
   "source": [
    "# preprocessing the datset \n",
    "\n",
    "X_preprocessed = preprocessor.fit_transform(X)"
   ]
  },
  {
   "cell_type": "code",
   "execution_count": 10,
   "metadata": {},
   "outputs": [],
   "source": [
    "# splitting the dataset(we'll use the train set to train the autoencoder)\n",
    "X_train, X_test, y_train, y_test = train_test_split(X_preprocessed, y, test_size=0.2, random_state=42)"
   ]
  },
  {
   "cell_type": "code",
   "execution_count": 11,
   "metadata": {},
   "outputs": [],
   "source": [
    "# Define the autoencoder architecture \n",
    "input_dim = X_train.shape[1]\n",
    "encoding_dim =32 "
   ]
  },
  {
   "cell_type": "code",
   "execution_count": 13,
   "metadata": {},
   "outputs": [
    {
     "name": "stdout",
     "output_type": "stream",
     "text": [
      "WARNING:tensorflow:From c:\\Users\\Saurabh Kumar\\miniconda3\\envs\\tf_env\\Lib\\site-packages\\keras\\src\\optimizers\\__init__.py:309: The name tf.train.Optimizer is deprecated. Please use tf.compat.v1.train.Optimizer instead.\n",
      "\n"
     ]
    }
   ],
   "source": [
    "input_layer = Input(shape =(input_dim,))\n",
    "encoded = Dense(encoding_dim, activation='relu')(input_layer)\n",
    "decoded = Dense(input_dim, activation ='sigmoid')(encoded)\n",
    "\n",
    "autoencoder = Model(input_layer, decoded)\n",
    "autoencoder.compile(optimizer='adam', loss='mean_squared_error')"
   ]
  },
  {
   "cell_type": "code",
   "execution_count": 14,
   "metadata": {},
   "outputs": [
    {
     "name": "stdout",
     "output_type": "stream",
     "text": [
      "Epoch 1/50\n",
      "WARNING:tensorflow:From c:\\Users\\Saurabh Kumar\\miniconda3\\envs\\tf_env\\Lib\\site-packages\\keras\\src\\utils\\tf_utils.py:492: The name tf.ragged.RaggedTensorValue is deprecated. Please use tf.compat.v1.ragged.RaggedTensorValue instead.\n",
      "\n",
      "3/3 [==============================] - 1s 82ms/step - loss: 0.2258 - val_loss: 0.2237\n",
      "Epoch 2/50\n",
      "3/3 [==============================] - 0s 17ms/step - loss: 0.2219 - val_loss: 0.2199\n",
      "Epoch 3/50\n",
      "3/3 [==============================] - 0s 16ms/step - loss: 0.2181 - val_loss: 0.2162\n",
      "Epoch 4/50\n",
      "3/3 [==============================] - 0s 17ms/step - loss: 0.2145 - val_loss: 0.2126\n",
      "Epoch 5/50\n",
      "3/3 [==============================] - 0s 16ms/step - loss: 0.2109 - val_loss: 0.2091\n",
      "Epoch 6/50\n",
      "3/3 [==============================] - 0s 19ms/step - loss: 0.2074 - val_loss: 0.2056\n",
      "Epoch 7/50\n",
      "3/3 [==============================] - 0s 19ms/step - loss: 0.2040 - val_loss: 0.2022\n",
      "Epoch 8/50\n",
      "3/3 [==============================] - 0s 17ms/step - loss: 0.2006 - val_loss: 0.1989\n",
      "Epoch 9/50\n",
      "3/3 [==============================] - 0s 18ms/step - loss: 0.1974 - val_loss: 0.1955\n",
      "Epoch 10/50\n",
      "3/3 [==============================] - 0s 17ms/step - loss: 0.1941 - val_loss: 0.1922\n",
      "Epoch 11/50\n",
      "3/3 [==============================] - 0s 19ms/step - loss: 0.1909 - val_loss: 0.1890\n",
      "Epoch 12/50\n",
      "3/3 [==============================] - 0s 17ms/step - loss: 0.1877 - val_loss: 0.1857\n",
      "Epoch 13/50\n",
      "3/3 [==============================] - 0s 18ms/step - loss: 0.1845 - val_loss: 0.1824\n",
      "Epoch 14/50\n",
      "3/3 [==============================] - 0s 17ms/step - loss: 0.1811 - val_loss: 0.1790\n",
      "Epoch 15/50\n",
      "3/3 [==============================] - 0s 18ms/step - loss: 0.1779 - val_loss: 0.1756\n",
      "Epoch 16/50\n",
      "3/3 [==============================] - 0s 19ms/step - loss: 0.1746 - val_loss: 0.1723\n",
      "Epoch 17/50\n",
      "3/3 [==============================] - 0s 16ms/step - loss: 0.1712 - val_loss: 0.1689\n",
      "Epoch 18/50\n",
      "3/3 [==============================] - 0s 16ms/step - loss: 0.1678 - val_loss: 0.1654\n",
      "Epoch 19/50\n",
      "3/3 [==============================] - 0s 16ms/step - loss: 0.1644 - val_loss: 0.1619\n",
      "Epoch 20/50\n",
      "3/3 [==============================] - 0s 33ms/step - loss: 0.1610 - val_loss: 0.1584\n",
      "Epoch 21/50\n",
      "3/3 [==============================] - 0s 15ms/step - loss: 0.1575 - val_loss: 0.1549\n",
      "Epoch 22/50\n",
      "3/3 [==============================] - 0s 18ms/step - loss: 0.1540 - val_loss: 0.1514\n",
      "Epoch 23/50\n",
      "3/3 [==============================] - 0s 16ms/step - loss: 0.1506 - val_loss: 0.1479\n",
      "Epoch 24/50\n",
      "3/3 [==============================] - 0s 17ms/step - loss: 0.1472 - val_loss: 0.1445\n",
      "Epoch 25/50\n",
      "3/3 [==============================] - 0s 16ms/step - loss: 0.1438 - val_loss: 0.1411\n",
      "Epoch 26/50\n",
      "3/3 [==============================] - 0s 18ms/step - loss: 0.1405 - val_loss: 0.1377\n",
      "Epoch 27/50\n",
      "3/3 [==============================] - 0s 15ms/step - loss: 0.1372 - val_loss: 0.1344\n",
      "Epoch 28/50\n",
      "3/3 [==============================] - 0s 18ms/step - loss: 0.1340 - val_loss: 0.1312\n",
      "Epoch 29/50\n",
      "3/3 [==============================] - 0s 16ms/step - loss: 0.1308 - val_loss: 0.1280\n",
      "Epoch 30/50\n",
      "3/3 [==============================] - 0s 17ms/step - loss: 0.1277 - val_loss: 0.1249\n",
      "Epoch 31/50\n",
      "3/3 [==============================] - 0s 16ms/step - loss: 0.1246 - val_loss: 0.1218\n",
      "Epoch 32/50\n",
      "3/3 [==============================] - 0s 17ms/step - loss: 0.1216 - val_loss: 0.1189\n",
      "Epoch 33/50\n",
      "3/3 [==============================] - 0s 15ms/step - loss: 0.1187 - val_loss: 0.1159\n",
      "Epoch 34/50\n",
      "3/3 [==============================] - 0s 18ms/step - loss: 0.1159 - val_loss: 0.1131\n",
      "Epoch 35/50\n",
      "3/3 [==============================] - 0s 19ms/step - loss: 0.1130 - val_loss: 0.1103\n",
      "Epoch 36/50\n",
      "3/3 [==============================] - 0s 18ms/step - loss: 0.1103 - val_loss: 0.1074\n",
      "Epoch 37/50\n",
      "3/3 [==============================] - 0s 15ms/step - loss: 0.1075 - val_loss: 0.1047\n",
      "Epoch 38/50\n",
      "3/3 [==============================] - 0s 18ms/step - loss: 0.1047 - val_loss: 0.1019\n",
      "Epoch 39/50\n",
      "3/3 [==============================] - 0s 16ms/step - loss: 0.1020 - val_loss: 0.0992\n",
      "Epoch 40/50\n",
      "3/3 [==============================] - 0s 19ms/step - loss: 0.0993 - val_loss: 0.0966\n",
      "Epoch 41/50\n",
      "3/3 [==============================] - 0s 17ms/step - loss: 0.0967 - val_loss: 0.0940\n",
      "Epoch 42/50\n",
      "3/3 [==============================] - 0s 16ms/step - loss: 0.0941 - val_loss: 0.0915\n",
      "Epoch 43/50\n",
      "3/3 [==============================] - 0s 16ms/step - loss: 0.0916 - val_loss: 0.0890\n",
      "Epoch 44/50\n",
      "3/3 [==============================] - 0s 16ms/step - loss: 0.0892 - val_loss: 0.0866\n",
      "Epoch 45/50\n",
      "3/3 [==============================] - 0s 17ms/step - loss: 0.0868 - val_loss: 0.0843\n",
      "Epoch 46/50\n",
      "3/3 [==============================] - 0s 18ms/step - loss: 0.0845 - val_loss: 0.0820\n",
      "Epoch 47/50\n",
      "3/3 [==============================] - 0s 17ms/step - loss: 0.0822 - val_loss: 0.0798\n",
      "Epoch 48/50\n",
      "3/3 [==============================] - 0s 18ms/step - loss: 0.0800 - val_loss: 0.0777\n",
      "Epoch 49/50\n",
      "3/3 [==============================] - 0s 17ms/step - loss: 0.0779 - val_loss: 0.0756\n",
      "Epoch 50/50\n",
      "3/3 [==============================] - 0s 18ms/step - loss: 0.0759 - val_loss: 0.0736\n"
     ]
    },
    {
     "data": {
      "text/plain": [
       "<keras.src.callbacks.History at 0x2867b3c0790>"
      ]
     },
     "execution_count": 14,
     "metadata": {},
     "output_type": "execute_result"
    }
   ],
   "source": [
    "# Train the atutoencoder \n",
    "\n",
    "autoencoder.fit(X_train, X_train, epochs=50, batch_size=256, shuffle=True, validation_split=0.2) "
   ]
  },
  {
   "cell_type": "code",
   "execution_count": 15,
   "metadata": {},
   "outputs": [
    {
     "name": "stdout",
     "output_type": "stream",
     "text": [
      "6/6 [==============================] - 0s 1ms/step\n"
     ]
    }
   ],
   "source": [
    "# Using the autoencoder for imputation on test set \n",
    "x_test_imputed = autoencoder.predict(X_test)"
   ]
  },
  {
   "cell_type": "code",
   "execution_count": null,
   "metadata": {},
   "outputs": [],
   "source": []
  }
 ],
 "metadata": {
  "kernelspec": {
   "display_name": "tf_env",
   "language": "python",
   "name": "python3"
  },
  "language_info": {
   "codemirror_mode": {
    "name": "ipython",
    "version": 3
   },
   "file_extension": ".py",
   "mimetype": "text/x-python",
   "name": "python",
   "nbconvert_exporter": "python",
   "pygments_lexer": "ipython3",
   "version": "3.11.7"
  }
 },
 "nbformat": 4,
 "nbformat_minor": 2
}
