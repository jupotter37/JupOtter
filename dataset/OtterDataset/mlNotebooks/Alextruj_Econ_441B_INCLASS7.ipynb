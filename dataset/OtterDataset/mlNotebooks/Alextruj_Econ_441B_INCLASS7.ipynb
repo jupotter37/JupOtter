{
 "cells": [
  {
   "cell_type": "code",
   "execution_count": 30,
   "metadata": {
    "id": "Q2A8TGhKm3i5"
   },
   "outputs": [],
   "source": [
    "import openai\n",
    "import os\n",
    "import wikipedia"
   ]
  },
  {
   "cell_type": "markdown",
   "metadata": {
    "id": "7E9HEMJSX-3T"
   },
   "source": [
    "# 1.) Set up OpenAI client\n"
   ]
  },
  {
   "cell_type": "code",
   "execution_count": 31,
   "metadata": {
    "id": "4zwwdkZDYDZN"
   },
   "outputs": [],
   "source": [
    "apikey = '--------------------'"
   ]
  },
  {
   "cell_type": "code",
   "execution_count": 32,
   "metadata": {
    "id": "8IiKS0snlpYP"
   },
   "outputs": [],
   "source": [
    "openai.api_key = apikey"
   ]
  },
  {
   "cell_type": "code",
   "execution_count": 33,
   "metadata": {},
   "outputs": [],
   "source": [
    "client = openai.OpenAI(\n",
    "    api_key = openai.api_key\n",
    ")"
   ]
  },
  {
   "cell_type": "markdown",
   "metadata": {
    "id": "tOXc5_BTm9HP"
   },
   "source": [
    "# 2.) Use the wikipedia api to get a function that pulls in the text of a wikipedia page"
   ]
  },
  {
   "cell_type": "code",
   "execution_count": 34,
   "metadata": {
    "id": "Ef7yfa2jl0iZ",
    "scrolled": false
   },
   "outputs": [],
   "source": [
    "def get_wikipedia_content(page_title):\n",
    "    search_results = wikipedia.search(page_title)\n",
    "    wiki_page = wikipedia.page(search_results[0])\n",
    "    return wiki_page.content"
   ]
  },
  {
   "cell_type": "code",
   "execution_count": null,
   "metadata": {
    "scrolled": false
   },
   "outputs": [],
   "source": [
    "get_wikipedia_content('Artificial Intelligence')"
   ]
  },
  {
   "cell_type": "markdown",
   "metadata": {
    "id": "_9aruncMmubX"
   },
   "source": [
    "# 3.) Build a chatgpt bot that will analyze the text given and try to locate any false info"
   ]
  },
  {
   "cell_type": "code",
   "execution_count": 36,
   "metadata": {},
   "outputs": [],
   "source": [
    "wiki_content = get_wikipedia_content(page_titles[0])"
   ]
  },
  {
   "cell_type": "code",
   "execution_count": 38,
   "metadata": {
    "id": "1jI-un5PnDjg"
   },
   "outputs": [],
   "source": [
    "chat_completion = client.chat.completions.create(\n",
    "    model = 'gpt-4',\n",
    "    messages = [{'role': 'system', 'content':'I will give you an article, let me know if anything is potentially false. Go with afine tooth comb and have low sensitivity for locating potential errors (number them and list them without any justification). If there are no potential errors found then just return \"NONE\"'},\n",
    "               {'role': 'user', 'content':wiki_content[:8192]}]\n",
    ")"
   ]
  },
  {
   "cell_type": "code",
   "execution_count": 39,
   "metadata": {
    "id": "_TMKFGN4nDJ4"
   },
   "outputs": [
    {
     "name": "stdout",
     "output_type": "stream",
     "text": [
      "1. The assertion that AI technology is widely used throughout industry, government, and science.\n",
      "2. The statement that Alan Turing was the first person to conduct substantial research in the field that he called machine intelligence.\n",
      "3. The claim that artificial intelligence was founded as an academic discipline in 1956.\n",
      "4. The assertion that funding and interest vastly increased after 2012 when deep learning surpassed all previous AI techniques.\n",
      "5. The claim that an AI \"spring\" began in the early 2020s with advances being pioneered by companies, universities, and labs mostly in the US.\n",
      "6. The statement that the growing use of AI in the 21st century influences a societal and economic shift towards data-driven decision making and other aspects.\n",
      "7. The assertion that general intelligence (the ability to complete any task performable by a human) is among the long-term goals of AI.\n",
      "8. The claim that AI researchers use a broad range of problem-solving techniques to solve different AI-related problems.\n",
      "9. The statement that the problem of simulating or creating intelligence has been broken into sub-problems that researchers expect an AI system to solve.\n",
      "10. The assertion that many of AI's algorithms for reasoning and problem-solving are insufficient for large reasoning problems due to a combinatorial explosion.\n",
      "11. The statement regarding the difficulty in AI knowledge representation including the breadth of commonsense knowledge and the sub-symbolic form of most commonsense knowledge.\n",
      "12. The claim that an \"Agent\" in AI is anything that perceives and takes actions in the world.\n",
      "13. The assertion that the preference of an AI agent could be uncertain when there are other agents or humans involved.\n",
      "14. The statement that machine learning is a part of AI from the beginning. \n",
      "\n",
      "These are potential points of contention and would need further investigation or citing for validation.\n"
     ]
    }
   ],
   "source": [
    "print(chat_completion.choices[0].message.content)"
   ]
  },
  {
   "cell_type": "code",
   "execution_count": 52,
   "metadata": {
    "id": "6FKAJVXSoayA"
   },
   "outputs": [],
   "source": [
    "def chatgpt_error_correction(text):\n",
    "    chat_completion = client.chat.completions.create(\n",
    "        model='gpt-4',\n",
    "        messages=[\n",
    "            {'role': 'system', 'content': 'I will give you an article, let me know if anything is potentially false. Go with afine tooth comb and have low sensitivity for locating potential errors (number them and list them without any justification). If there are no potential errors found then just return \"NONE\"'},\n",
    "            {'role': 'user', 'content': text}\n",
    "        ]\n",
    "    )\n",
    "    return chat_completion.choices[0].message.content\n"
   ]
  },
  {
   "cell_type": "markdown",
   "metadata": {
    "id": "zPw5LyPEobmk"
   },
   "source": [
    "# 4.) Make a for loop and check a few wikipedia pages and return a report of any potentially false info via wikipedia"
   ]
  },
  {
   "cell_type": "code",
   "execution_count": 53,
   "metadata": {},
   "outputs": [],
   "source": [
    "page_titles = ['Artificial Intelligence', ' Machine Learning', 'Ucla']"
   ]
  },
  {
   "cell_type": "code",
   "execution_count": 56,
   "metadata": {
    "id": "V7cuhML2ocGn"
   },
   "outputs": [
    {
     "name": "stdout",
     "output_type": "stream",
     "text": [
      "1. \"Artificial intelligence was founded as an academic discipline in 1956.\" - The naming and formation of a dedicated field might have varied slightly depending on the source.\n",
      "2. \"Alan Turing was the first person to conduct substantial research in the field that he called machine intelligence.\" - Turing's contributions are substantial but claiming he was the first could be disputed based on earlier, less formalized work in the field.\n",
      "3. \"This led to the AI spring of the early 2020s\" - The term 'AI spring' might not be universally accepted or recognized.\n",
      "4. \"with companies, universities, and laboratories overwhelmingly based in the United States pioneering significant advances in artificial intelligence.\" - There are significant contributions from other countries that this statement might inadvertently minimize.\n",
      "5. \"General intelligence (the ability to complete any task performable by a human) is among the field's long-term goals.\" - Some might argue against this representation of 'general intelligence'.\n",
      "6. \"Even humans rarely use the step-by-step deduction that early AI research could model.\" - The comparison between human and AI reasoning can be disputed.\n",
      "7. \"An ontology is the set of objects, relations, concepts, and properties used by a particular domain of knowledge.\" - The definition of ontology can vary slightly depending on the source.\n",
      "8. \"There is also the difficulty of knowledge acquisition, the problem of obtaining knowledge for AI applications.\" - The issue of knowledge acquisition is complex and this is a potentially oversimplified statement.\n",
      "9. \"In classical planning, the agent knows exactly what the effect of any action will be.\" - It may not be accurate to say the agent knows 'exactly' the effect.\n",
      "10. \"It must choose an action by making a probabilistic guess and then reassess the situation to see if the action worked.\" - The term 'probabilistic guess' doesn't necessarily apply to all AI decision-making methods. \n",
      "11. \"A Markov decision process has a transition model that describes the probability that a particular action will change the state in a particular way\" - The understanding of a Markov decision process can differ depending on sources.\n",
      "12. \"Machine learning is the study of programs that can improve their performance on a given task automatically.\" - The definition of machine learning can vary slightly depending on different sources or perspectives.\n",
      "13. \"In reinforcement learning the agent is rewarded for good responses and punished for bad ones\" - This oversimplifies reinforcement learning. It's not necessarily 'punished' for bad responses, it may simply found them less rewarding.\n",
      "ERROR\n",
      "1. The statement \"The University of California, Los Angeles (UCLA) is a public land-grant research university in Los Angeles, California, United States.\" - UCLA is not specifically classified as a land-grant institution.\n",
      "\n",
      "2. The statement \"The university is organized into the College of Letters and Science and twelve professional schools.\" - The number of professional schools at UCLA could be updated or incorrect.\n",
      "\n",
      "3. The claim \"Its three remaining schools are Education & Information Studies, Management and Law.\" - There could be inaccuracies in the number and names of the mentioned schools.\n",
      "\n",
      "4. The statistic \"They have won 121 NCAA team championships, second only to Stanford University's 128 team titles.\" - These figures could be outdated.\n",
      "\n",
      "5. The mention \"As of October 2021, 27 Nobel laureates, five Turing Award winners, two Chief Scientists of the U.S. Air Force...\" - These counts could be outdated or inaccurate.\n",
      "\n",
      "6. The claim \"The Los Angeles branch of the California State Normal School opened on August 29, 1882...\" - The specific date could potentially be incorrect.\n",
      "\n",
      "7. The information \"On May 23, 1919, the Southern Californians' efforts were rewarded when Governor William D. Stephens signed Assembly Bill 626 into law...\" - The details of this historical event could contain inaccuracies.\n",
      "\n",
      "8. The claim \"Under UC President William Wallace Campbell, enrollment at the Southern Branch expanded...\" - The role and impact of William Wallace Campbell could be misstated.\n",
      "\n",
      "9. The statement \"In 1951, UCLA was formally elevated to co-equal status with UC Berkeley, and its presiding officer Raymond B. Allen...\" - The timeline of UCLA's equal status or the role of Raymond B. Allen might be inaccurate.\n",
      "\n",
      "10. The statement \"On June 1, 2016, two men were killed in a murder-suicide at an engineering building in the university. School officials put the campus on lockdown...\" - The specifics of this incident could be wrong or misleading.\n",
      "\n",
      "11. The statement \"In 2018, a student-led community coalition known as \"Westwood Forward\" successfully led an effort to break UCLA and Westwood Village away from the existing Westwood Neighborhood Council...\" - This event may be inaccurately portrayed or may not have happened exactly as described.\n",
      "\n",
      "12. The statement \"In 2022, UCLA signed an agreement to partner with the Tongva for the caretaking and landscaping of various areas of the campus...\" - This might contain inaccuracies or misrepresentations.\n",
      "\n",
      "13. The claim in the section \"Sexual harassment scandals\" about a history professor being accused of sexually assaulting two students - This could be factually incorrect or misrepresented.\n"
     ]
    }
   ],
   "source": [
    "for page_title in page_titles:\n",
    "    try:\n",
    "        text = get_wikipedia_content(page_title)\n",
    "        print(chatgpt_error_correction(text[:8192]))\n",
    "    except:\n",
    "        print('ERROR')"
   ]
  },
  {
   "cell_type": "code",
   "execution_count": null,
   "metadata": {},
   "outputs": [],
   "source": []
  }
 ],
 "metadata": {
  "colab": {
   "provenance": []
  },
  "kernelspec": {
   "display_name": "Python 3 (ipykernel)",
   "language": "python",
   "name": "python3"
  },
  "language_info": {
   "codemirror_mode": {
    "name": "ipython",
    "version": 3
   },
   "file_extension": ".py",
   "mimetype": "text/x-python",
   "name": "python",
   "nbconvert_exporter": "python",
   "pygments_lexer": "ipython3",
   "version": "3.11.4"
  }
 },
 "nbformat": 4,
 "nbformat_minor": 1
}
