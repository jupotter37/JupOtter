{
 "cells": [
  {
   "cell_type": "markdown",
   "metadata": {},
   "source": [
    "# Tensorflow Machine Learning - Part 1 Base"
   ]
  },
  {
   "cell_type": "markdown",
   "metadata": {},
   "source": [
    "This notebook takes hand written numbers and classifies them using Tensorflow 2.0 Deep Learning model. We start with a very basic model and then add hidden layers, dropout and "
   ]
  },
  {
   "cell_type": "code",
   "execution_count": 4,
   "metadata": {},
   "outputs": [],
   "source": [
    "#import libraries\n",
    "from __future__ import absolute_import, division, print_function, unicode_literals\n",
    "import tensorflow as tf\n",
    "import numpy as np\n",
    "import pandas as pd\n",
    "tf.executing_eagerly()\n",
    "from tensorflow import keras"
   ]
  },
  {
   "cell_type": "code",
   "execution_count": 3,
   "metadata": {},
   "outputs": [
    {
     "data": {
      "text/plain": [
       "'2.0.0-beta1'"
      ]
     },
     "execution_count": 3,
     "metadata": {},
     "output_type": "execute_result"
    }
   ],
   "source": [
    "#check tensorflow version\n",
    "tf.__version__"
   ]
  },
  {
   "cell_type": "code",
   "execution_count": 39,
   "metadata": {},
   "outputs": [],
   "source": [
    "#set up variables\n",
    "EPOCHS = 200\n",
    "SMALL_EPOCHS = 50\n",
    "BATCH_SIZE = 128\n",
    "VERBOSE= 1\n",
    "NB_CLASSES = 10\n",
    "N_HIDDEN = 128\n",
    "VALIDATION_SPLIT = 0.2"
   ]
  },
  {
   "cell_type": "code",
   "execution_count": 8,
   "metadata": {},
   "outputs": [],
   "source": [
    "#load dataset from Keras\n",
    "mnist = keras.datasets.mnist"
   ]
  },
  {
   "cell_type": "code",
   "execution_count": 9,
   "metadata": {},
   "outputs": [
    {
     "name": "stdout",
     "output_type": "stream",
     "text": [
      "Downloading data from https://storage.googleapis.com/tensorflow/tf-keras-datasets/mnist.npz\n",
      "11493376/11490434 [==============================] - 0s 0us/step\n"
     ]
    }
   ],
   "source": [
    "#populate Train and Test datasets\n",
    "(X_train, Y_train) , (X_test, Y_test) = mnist.load_data()"
   ]
  },
  {
   "cell_type": "code",
   "execution_count": null,
   "metadata": {},
   "outputs": [],
   "source": []
  },
  {
   "cell_type": "code",
   "execution_count": 10,
   "metadata": {},
   "outputs": [
    {
     "data": {
      "text/plain": [
       "784"
      ]
     },
     "execution_count": 10,
     "metadata": {},
     "output_type": "execute_result"
    }
   ],
   "source": [
    "#reshape X_train and X_test to 6000 x 784 and 1000 x 784\n",
    "RESHAPED = 28 * 28\n",
    "RESHAPED"
   ]
  },
  {
   "cell_type": "code",
   "execution_count": 13,
   "metadata": {},
   "outputs": [
    {
     "data": {
      "text/plain": [
       "(60000, 10000)"
      ]
     },
     "execution_count": 13,
     "metadata": {},
     "output_type": "execute_result"
    }
   ],
   "source": [
    "len(X_train), len(X_test)"
   ]
  },
  {
   "cell_type": "code",
   "execution_count": 16,
   "metadata": {},
   "outputs": [],
   "source": [
    "#reshape X_train and X_test and cast them into float32\n",
    "X_train = X_train.reshape(60000, RESHAPED)\n",
    "X_test = X_test.reshape(10000, RESHAPED)\n",
    "X_train = X_train.astype('float32')\n",
    "X_test = X_test.astype('float32')"
   ]
  },
  {
   "cell_type": "code",
   "execution_count": 17,
   "metadata": {},
   "outputs": [
    {
     "name": "stdout",
     "output_type": "stream",
     "text": [
      "60000 train samples\n",
      "10000 test samples\n"
     ]
    }
   ],
   "source": [
    "#normalize the X_train and X_test datasets\n",
    "X_train /= 255\n",
    "X_test /= 255\n",
    "print(X_train.shape[0], 'train samples')\n",
    "print(X_test.shape[0], 'test samples')"
   ]
  },
  {
   "cell_type": "code",
   "execution_count": 18,
   "metadata": {},
   "outputs": [],
   "source": [
    "#one hot encode Y datasets\n",
    "Y_train =tf.keras.utils.to_categorical(Y_train, NB_CLASSES)\n",
    "Y_test =tf.keras.utils.to_categorical(Y_test, NB_CLASSES)"
   ]
  },
  {
   "cell_type": "code",
   "execution_count": 28,
   "metadata": {},
   "outputs": [],
   "source": [
    "#build the model\n",
    "model = tf.keras.models.Sequential()\n",
    "model.add(keras.layers.Dense(NB_CLASSES,\n",
    "                            input_shape=(RESHAPED,),\n",
    "                            name='dense_layer',\n",
    "                            activation='softmax'))"
   ]
  },
  {
   "cell_type": "code",
   "execution_count": 29,
   "metadata": {},
   "outputs": [
    {
     "name": "stdout",
     "output_type": "stream",
     "text": [
      "Model: \"sequential\"\n",
      "_________________________________________________________________\n",
      "Layer (type)                 Output Shape              Param #   \n",
      "=================================================================\n",
      "dense_layer (Dense)          (None, 10)                7850      \n",
      "=================================================================\n",
      "Total params: 7,850\n",
      "Trainable params: 7,850\n",
      "Non-trainable params: 0\n",
      "_________________________________________________________________\n"
     ]
    }
   ],
   "source": [
    "model.summary()"
   ]
  },
  {
   "cell_type": "code",
   "execution_count": 31,
   "metadata": {},
   "outputs": [],
   "source": [
    "model.compile(optimizer='SGD', \n",
    "             loss='categorical_crossentropy',\n",
    "             metrics=['accuracy'])"
   ]
  },
  {
   "cell_type": "code",
   "execution_count": 32,
   "metadata": {},
   "outputs": [
    {
     "name": "stdout",
     "output_type": "stream",
     "text": [
      "WARNING:tensorflow:From /home/jupyter/.local/lib/python3.5/site-packages/tensorflow/python/ops/math_grad.py:1250: add_dispatch_support.<locals>.wrapper (from tensorflow.python.ops.array_ops) is deprecated and will be removed in a future version.\n",
      "Instructions for updating:\n",
      "Use tf.where in 2.0, which has the same broadcast rule as np.where\n",
      "Train on 48000 samples, validate on 12000 samples\n",
      "Epoch 1/200\n",
      "48000/48000 [==============================] - 1s 27us/sample - loss: 1.3821 - accuracy: 0.6652 - val_loss: 0.8942 - val_accuracy: 0.8248\n",
      "Epoch 2/200\n",
      "48000/48000 [==============================] - 1s 19us/sample - loss: 0.7937 - accuracy: 0.8278 - val_loss: 0.6562 - val_accuracy: 0.8620\n",
      "Epoch 3/200\n",
      "48000/48000 [==============================] - 1s 19us/sample - loss: 0.6432 - accuracy: 0.8510 - val_loss: 0.5607 - val_accuracy: 0.8712\n",
      "Epoch 4/200\n",
      "48000/48000 [==============================] - 1s 19us/sample - loss: 0.5704 - accuracy: 0.8615 - val_loss: 0.5082 - val_accuracy: 0.8787\n",
      "Epoch 5/200\n",
      "48000/48000 [==============================] - 1s 19us/sample - loss: 0.5262 - accuracy: 0.8689 - val_loss: 0.4740 - val_accuracy: 0.8836\n",
      "Epoch 6/200\n",
      "48000/48000 [==============================] - 1s 19us/sample - loss: 0.4959 - accuracy: 0.8736 - val_loss: 0.4498 - val_accuracy: 0.8876\n",
      "Epoch 7/200\n",
      "48000/48000 [==============================] - 1s 19us/sample - loss: 0.4735 - accuracy: 0.8775 - val_loss: 0.4316 - val_accuracy: 0.8903\n",
      "Epoch 8/200\n",
      "48000/48000 [==============================] - 1s 18us/sample - loss: 0.4562 - accuracy: 0.8810 - val_loss: 0.4173 - val_accuracy: 0.8933\n",
      "Epoch 9/200\n",
      "48000/48000 [==============================] - 1s 19us/sample - loss: 0.4422 - accuracy: 0.8834 - val_loss: 0.4060 - val_accuracy: 0.8951\n",
      "Epoch 10/200\n",
      "48000/48000 [==============================] - 1s 18us/sample - loss: 0.4307 - accuracy: 0.8855 - val_loss: 0.3963 - val_accuracy: 0.8968\n",
      "Epoch 11/200\n",
      "48000/48000 [==============================] - 1s 18us/sample - loss: 0.4209 - accuracy: 0.8873 - val_loss: 0.3883 - val_accuracy: 0.8991\n",
      "Epoch 12/200\n",
      "48000/48000 [==============================] - 1s 18us/sample - loss: 0.4125 - accuracy: 0.8897 - val_loss: 0.3812 - val_accuracy: 0.9001\n",
      "Epoch 13/200\n",
      "48000/48000 [==============================] - 1s 19us/sample - loss: 0.4052 - accuracy: 0.8908 - val_loss: 0.3753 - val_accuracy: 0.9010\n",
      "Epoch 14/200\n",
      "48000/48000 [==============================] - 1s 18us/sample - loss: 0.3988 - accuracy: 0.8920 - val_loss: 0.3699 - val_accuracy: 0.9030\n",
      "Epoch 15/200\n",
      "48000/48000 [==============================] - 1s 18us/sample - loss: 0.3930 - accuracy: 0.8938 - val_loss: 0.3651 - val_accuracy: 0.9034\n",
      "Epoch 16/200\n",
      "48000/48000 [==============================] - 1s 18us/sample - loss: 0.3878 - accuracy: 0.8950 - val_loss: 0.3608 - val_accuracy: 0.9040\n",
      "Epoch 17/200\n",
      "48000/48000 [==============================] - 1s 19us/sample - loss: 0.3832 - accuracy: 0.8957 - val_loss: 0.3569 - val_accuracy: 0.9038\n",
      "Epoch 18/200\n",
      "48000/48000 [==============================] - 1s 19us/sample - loss: 0.3789 - accuracy: 0.8967 - val_loss: 0.3533 - val_accuracy: 0.9045\n",
      "Epoch 19/200\n",
      "48000/48000 [==============================] - 1s 19us/sample - loss: 0.3750 - accuracy: 0.8976 - val_loss: 0.3503 - val_accuracy: 0.9054\n",
      "Epoch 20/200\n",
      "48000/48000 [==============================] - 1s 18us/sample - loss: 0.3714 - accuracy: 0.8979 - val_loss: 0.3473 - val_accuracy: 0.9052\n",
      "Epoch 21/200\n",
      "48000/48000 [==============================] - 1s 19us/sample - loss: 0.3681 - accuracy: 0.8988 - val_loss: 0.3445 - val_accuracy: 0.9058\n",
      "Epoch 22/200\n",
      "48000/48000 [==============================] - 1s 19us/sample - loss: 0.3650 - accuracy: 0.8996 - val_loss: 0.3419 - val_accuracy: 0.9063\n",
      "Epoch 23/200\n",
      "48000/48000 [==============================] - 1s 19us/sample - loss: 0.3621 - accuracy: 0.9003 - val_loss: 0.3395 - val_accuracy: 0.9068\n",
      "Epoch 24/200\n",
      "48000/48000 [==============================] - 1s 18us/sample - loss: 0.3594 - accuracy: 0.9011 - val_loss: 0.3373 - val_accuracy: 0.9082\n",
      "Epoch 25/200\n",
      "48000/48000 [==============================] - 1s 19us/sample - loss: 0.3568 - accuracy: 0.9018 - val_loss: 0.3352 - val_accuracy: 0.9080\n",
      "Epoch 26/200\n",
      "48000/48000 [==============================] - 1s 18us/sample - loss: 0.3544 - accuracy: 0.9019 - val_loss: 0.3334 - val_accuracy: 0.9088\n",
      "Epoch 27/200\n",
      "48000/48000 [==============================] - 1s 18us/sample - loss: 0.3522 - accuracy: 0.9024 - val_loss: 0.3316 - val_accuracy: 0.9093\n",
      "Epoch 28/200\n",
      "48000/48000 [==============================] - 1s 19us/sample - loss: 0.3501 - accuracy: 0.9028 - val_loss: 0.3298 - val_accuracy: 0.9098\n",
      "Epoch 29/200\n",
      "48000/48000 [==============================] - 1s 19us/sample - loss: 0.3481 - accuracy: 0.9035 - val_loss: 0.3282 - val_accuracy: 0.9106\n",
      "Epoch 30/200\n",
      "48000/48000 [==============================] - 1s 19us/sample - loss: 0.3462 - accuracy: 0.9041 - val_loss: 0.3266 - val_accuracy: 0.9119\n",
      "Epoch 31/200\n",
      "48000/48000 [==============================] - 1s 19us/sample - loss: 0.3444 - accuracy: 0.9047 - val_loss: 0.3251 - val_accuracy: 0.9118\n",
      "Epoch 32/200\n",
      "48000/48000 [==============================] - 1s 19us/sample - loss: 0.3427 - accuracy: 0.9045 - val_loss: 0.3237 - val_accuracy: 0.9122\n",
      "Epoch 33/200\n",
      "48000/48000 [==============================] - 1s 19us/sample - loss: 0.3410 - accuracy: 0.9053 - val_loss: 0.3225 - val_accuracy: 0.9119\n",
      "Epoch 34/200\n",
      "48000/48000 [==============================] - 1s 19us/sample - loss: 0.3394 - accuracy: 0.9058 - val_loss: 0.3213 - val_accuracy: 0.9128\n",
      "Epoch 35/200\n",
      "48000/48000 [==============================] - 1s 19us/sample - loss: 0.3379 - accuracy: 0.9064 - val_loss: 0.3200 - val_accuracy: 0.9131\n",
      "Epoch 36/200\n",
      "48000/48000 [==============================] - 1s 19us/sample - loss: 0.3365 - accuracy: 0.9064 - val_loss: 0.3189 - val_accuracy: 0.9134\n",
      "Epoch 37/200\n",
      "48000/48000 [==============================] - 1s 19us/sample - loss: 0.3351 - accuracy: 0.9069 - val_loss: 0.3177 - val_accuracy: 0.9139\n",
      "Epoch 38/200\n",
      "48000/48000 [==============================] - 1s 19us/sample - loss: 0.3338 - accuracy: 0.9071 - val_loss: 0.3166 - val_accuracy: 0.9136\n",
      "Epoch 39/200\n",
      "48000/48000 [==============================] - 1s 20us/sample - loss: 0.3325 - accuracy: 0.9075 - val_loss: 0.3157 - val_accuracy: 0.9135\n",
      "Epoch 40/200\n",
      "48000/48000 [==============================] - 2s 33us/sample - loss: 0.3313 - accuracy: 0.9077 - val_loss: 0.3148 - val_accuracy: 0.9135\n",
      "Epoch 41/200\n",
      "48000/48000 [==============================] - 1s 19us/sample - loss: 0.3301 - accuracy: 0.9078 - val_loss: 0.3137 - val_accuracy: 0.9139\n",
      "Epoch 42/200\n",
      "48000/48000 [==============================] - 1s 18us/sample - loss: 0.3289 - accuracy: 0.9084 - val_loss: 0.3128 - val_accuracy: 0.9138\n",
      "Epoch 43/200\n",
      "48000/48000 [==============================] - 1s 18us/sample - loss: 0.3278 - accuracy: 0.9087 - val_loss: 0.3119 - val_accuracy: 0.9148\n",
      "Epoch 44/200\n",
      "48000/48000 [==============================] - 1s 18us/sample - loss: 0.3268 - accuracy: 0.9086 - val_loss: 0.3111 - val_accuracy: 0.9148\n",
      "Epoch 45/200\n",
      "48000/48000 [==============================] - 1s 19us/sample - loss: 0.3257 - accuracy: 0.9092 - val_loss: 0.3103 - val_accuracy: 0.9151\n",
      "Epoch 46/200\n",
      "48000/48000 [==============================] - 1s 18us/sample - loss: 0.3247 - accuracy: 0.9096 - val_loss: 0.3095 - val_accuracy: 0.9153\n",
      "Epoch 47/200\n",
      "48000/48000 [==============================] - 1s 19us/sample - loss: 0.3238 - accuracy: 0.9096 - val_loss: 0.3087 - val_accuracy: 0.9155\n",
      "Epoch 48/200\n",
      "48000/48000 [==============================] - 1s 18us/sample - loss: 0.3229 - accuracy: 0.9105 - val_loss: 0.3080 - val_accuracy: 0.9155\n",
      "Epoch 49/200\n",
      "48000/48000 [==============================] - 1s 18us/sample - loss: 0.3220 - accuracy: 0.9103 - val_loss: 0.3073 - val_accuracy: 0.9158\n",
      "Epoch 50/200\n",
      "48000/48000 [==============================] - 1s 18us/sample - loss: 0.3211 - accuracy: 0.9105 - val_loss: 0.3067 - val_accuracy: 0.9157\n",
      "Epoch 51/200\n",
      "48000/48000 [==============================] - 1s 19us/sample - loss: 0.3202 - accuracy: 0.9112 - val_loss: 0.3060 - val_accuracy: 0.9158\n",
      "Epoch 52/200\n",
      "48000/48000 [==============================] - 1s 18us/sample - loss: 0.3194 - accuracy: 0.9111 - val_loss: 0.3053 - val_accuracy: 0.9158\n",
      "Epoch 53/200\n",
      "48000/48000 [==============================] - 1s 18us/sample - loss: 0.3186 - accuracy: 0.9112 - val_loss: 0.3047 - val_accuracy: 0.9161\n",
      "Epoch 54/200\n",
      "48000/48000 [==============================] - 1s 19us/sample - loss: 0.3178 - accuracy: 0.9115 - val_loss: 0.3041 - val_accuracy: 0.9167\n",
      "Epoch 55/200\n",
      "48000/48000 [==============================] - 1s 18us/sample - loss: 0.3170 - accuracy: 0.9116 - val_loss: 0.3034 - val_accuracy: 0.9164\n",
      "Epoch 56/200\n",
      "48000/48000 [==============================] - 1s 18us/sample - loss: 0.3163 - accuracy: 0.9121 - val_loss: 0.3029 - val_accuracy: 0.9166\n",
      "Epoch 57/200\n",
      "48000/48000 [==============================] - 1s 19us/sample - loss: 0.3155 - accuracy: 0.9122 - val_loss: 0.3025 - val_accuracy: 0.9165\n",
      "Epoch 58/200\n",
      "48000/48000 [==============================] - 1s 18us/sample - loss: 0.3148 - accuracy: 0.9122 - val_loss: 0.3019 - val_accuracy: 0.9167\n",
      "Epoch 59/200\n",
      "48000/48000 [==============================] - 1s 19us/sample - loss: 0.3141 - accuracy: 0.9126 - val_loss: 0.3013 - val_accuracy: 0.9166\n",
      "Epoch 60/200\n",
      "48000/48000 [==============================] - 1s 18us/sample - loss: 0.3134 - accuracy: 0.9129 - val_loss: 0.3008 - val_accuracy: 0.9166\n",
      "Epoch 61/200\n",
      "48000/48000 [==============================] - 1s 18us/sample - loss: 0.3128 - accuracy: 0.9132 - val_loss: 0.3003 - val_accuracy: 0.9169\n",
      "Epoch 62/200\n",
      "48000/48000 [==============================] - 1s 18us/sample - loss: 0.3122 - accuracy: 0.9131 - val_loss: 0.2997 - val_accuracy: 0.9169\n",
      "Epoch 63/200\n",
      "48000/48000 [==============================] - 1s 19us/sample - loss: 0.3115 - accuracy: 0.9134 - val_loss: 0.2993 - val_accuracy: 0.9165\n",
      "Epoch 64/200\n",
      "48000/48000 [==============================] - 1s 19us/sample - loss: 0.3109 - accuracy: 0.9134 - val_loss: 0.2989 - val_accuracy: 0.9166\n",
      "Epoch 65/200\n",
      "48000/48000 [==============================] - 1s 19us/sample - loss: 0.3103 - accuracy: 0.9139 - val_loss: 0.2983 - val_accuracy: 0.9169\n",
      "Epoch 66/200\n",
      "48000/48000 [==============================] - 1s 18us/sample - loss: 0.3098 - accuracy: 0.9142 - val_loss: 0.2980 - val_accuracy: 0.9168\n",
      "Epoch 67/200\n",
      "48000/48000 [==============================] - 1s 19us/sample - loss: 0.3092 - accuracy: 0.9142 - val_loss: 0.2976 - val_accuracy: 0.9168\n",
      "Epoch 68/200\n",
      "48000/48000 [==============================] - 1s 19us/sample - loss: 0.3086 - accuracy: 0.9142 - val_loss: 0.2970 - val_accuracy: 0.9175\n",
      "Epoch 69/200\n",
      "48000/48000 [==============================] - 1s 19us/sample - loss: 0.3081 - accuracy: 0.9147 - val_loss: 0.2967 - val_accuracy: 0.9173\n",
      "Epoch 70/200\n",
      "48000/48000 [==============================] - 1s 19us/sample - loss: 0.3075 - accuracy: 0.9150 - val_loss: 0.2963 - val_accuracy: 0.9174\n",
      "Epoch 71/200\n",
      "48000/48000 [==============================] - 1s 18us/sample - loss: 0.3070 - accuracy: 0.9148 - val_loss: 0.2960 - val_accuracy: 0.9170\n",
      "Epoch 72/200\n",
      "48000/48000 [==============================] - 1s 18us/sample - loss: 0.3065 - accuracy: 0.9149 - val_loss: 0.2956 - val_accuracy: 0.9175\n",
      "Epoch 73/200\n",
      "48000/48000 [==============================] - 1s 19us/sample - loss: 0.3060 - accuracy: 0.9150 - val_loss: 0.2951 - val_accuracy: 0.9178\n",
      "Epoch 74/200\n",
      "48000/48000 [==============================] - 1s 18us/sample - loss: 0.3055 - accuracy: 0.9151 - val_loss: 0.2949 - val_accuracy: 0.9175\n",
      "Epoch 75/200\n",
      "48000/48000 [==============================] - 1s 19us/sample - loss: 0.3050 - accuracy: 0.9151 - val_loss: 0.2945 - val_accuracy: 0.9180\n",
      "Epoch 76/200\n",
      "48000/48000 [==============================] - 1s 18us/sample - loss: 0.3046 - accuracy: 0.9152 - val_loss: 0.2941 - val_accuracy: 0.9181\n",
      "Epoch 77/200\n",
      "48000/48000 [==============================] - 1s 19us/sample - loss: 0.3041 - accuracy: 0.9156 - val_loss: 0.2938 - val_accuracy: 0.9178\n",
      "Epoch 78/200\n",
      "48000/48000 [==============================] - 1s 18us/sample - loss: 0.3036 - accuracy: 0.9157 - val_loss: 0.2934 - val_accuracy: 0.9179\n",
      "Epoch 79/200\n",
      "48000/48000 [==============================] - 1s 19us/sample - loss: 0.3031 - accuracy: 0.9156 - val_loss: 0.2932 - val_accuracy: 0.9174\n",
      "Epoch 80/200\n",
      "48000/48000 [==============================] - 1s 18us/sample - loss: 0.3027 - accuracy: 0.9154 - val_loss: 0.2928 - val_accuracy: 0.9183\n",
      "Epoch 81/200\n",
      "48000/48000 [==============================] - 1s 18us/sample - loss: 0.3023 - accuracy: 0.9157 - val_loss: 0.2924 - val_accuracy: 0.9186\n",
      "Epoch 82/200\n",
      "48000/48000 [==============================] - 1s 19us/sample - loss: 0.3019 - accuracy: 0.9161 - val_loss: 0.2921 - val_accuracy: 0.9186\n",
      "Epoch 83/200\n",
      "48000/48000 [==============================] - 1s 18us/sample - loss: 0.3014 - accuracy: 0.9162 - val_loss: 0.2918 - val_accuracy: 0.9180\n",
      "Epoch 84/200\n",
      "48000/48000 [==============================] - 1s 18us/sample - loss: 0.3010 - accuracy: 0.9163 - val_loss: 0.2915 - val_accuracy: 0.9187\n",
      "Epoch 85/200\n",
      "48000/48000 [==============================] - 1s 19us/sample - loss: 0.3006 - accuracy: 0.9166 - val_loss: 0.2913 - val_accuracy: 0.9187\n",
      "Epoch 86/200\n",
      "48000/48000 [==============================] - 1s 19us/sample - loss: 0.3002 - accuracy: 0.9162 - val_loss: 0.2910 - val_accuracy: 0.9190\n",
      "Epoch 87/200\n",
      "48000/48000 [==============================] - 1s 18us/sample - loss: 0.2998 - accuracy: 0.9166 - val_loss: 0.2908 - val_accuracy: 0.9188\n",
      "Epoch 88/200\n",
      "48000/48000 [==============================] - 1s 18us/sample - loss: 0.2994 - accuracy: 0.9169 - val_loss: 0.2904 - val_accuracy: 0.9193\n",
      "Epoch 89/200\n",
      "48000/48000 [==============================] - 1s 19us/sample - loss: 0.2991 - accuracy: 0.9169 - val_loss: 0.2901 - val_accuracy: 0.9193\n",
      "Epoch 90/200\n",
      "48000/48000 [==============================] - 1s 18us/sample - loss: 0.2987 - accuracy: 0.9169 - val_loss: 0.2899 - val_accuracy: 0.9186\n",
      "Epoch 91/200\n",
      "48000/48000 [==============================] - 1s 19us/sample - loss: 0.2983 - accuracy: 0.9168 - val_loss: 0.2895 - val_accuracy: 0.9196\n",
      "Epoch 92/200\n",
      "48000/48000 [==============================] - 1s 18us/sample - loss: 0.2980 - accuracy: 0.9169 - val_loss: 0.2894 - val_accuracy: 0.9197\n",
      "Epoch 93/200\n",
      "48000/48000 [==============================] - 1s 18us/sample - loss: 0.2976 - accuracy: 0.9171 - val_loss: 0.2891 - val_accuracy: 0.9200\n",
      "Epoch 94/200\n",
      "48000/48000 [==============================] - 1s 18us/sample - loss: 0.2972 - accuracy: 0.9172 - val_loss: 0.2888 - val_accuracy: 0.9195\n",
      "Epoch 95/200\n",
      "48000/48000 [==============================] - 1s 19us/sample - loss: 0.2969 - accuracy: 0.9172 - val_loss: 0.2886 - val_accuracy: 0.9200\n",
      "Epoch 96/200\n",
      "48000/48000 [==============================] - 1s 18us/sample - loss: 0.2966 - accuracy: 0.9171 - val_loss: 0.2883 - val_accuracy: 0.9205\n",
      "Epoch 97/200\n",
      "48000/48000 [==============================] - 1s 19us/sample - loss: 0.2962 - accuracy: 0.9176 - val_loss: 0.2881 - val_accuracy: 0.9197\n",
      "Epoch 98/200\n",
      "48000/48000 [==============================] - 1s 19us/sample - loss: 0.2959 - accuracy: 0.9176 - val_loss: 0.2878 - val_accuracy: 0.9203\n",
      "Epoch 99/200\n",
      "48000/48000 [==============================] - 1s 19us/sample - loss: 0.2956 - accuracy: 0.9176 - val_loss: 0.2877 - val_accuracy: 0.9199\n",
      "Epoch 100/200\n",
      "48000/48000 [==============================] - 1s 18us/sample - loss: 0.2953 - accuracy: 0.9178 - val_loss: 0.2874 - val_accuracy: 0.9203\n",
      "Epoch 101/200\n",
      "48000/48000 [==============================] - 1s 19us/sample - loss: 0.2949 - accuracy: 0.9177 - val_loss: 0.2872 - val_accuracy: 0.9201\n",
      "Epoch 102/200\n",
      "48000/48000 [==============================] - 1s 18us/sample - loss: 0.2946 - accuracy: 0.9178 - val_loss: 0.2870 - val_accuracy: 0.9202\n",
      "Epoch 103/200\n",
      "48000/48000 [==============================] - 1s 18us/sample - loss: 0.2943 - accuracy: 0.9178 - val_loss: 0.2868 - val_accuracy: 0.9200\n",
      "Epoch 104/200\n",
      "48000/48000 [==============================] - 1s 18us/sample - loss: 0.2940 - accuracy: 0.9181 - val_loss: 0.2866 - val_accuracy: 0.9202\n",
      "Epoch 105/200\n",
      "48000/48000 [==============================] - 1s 18us/sample - loss: 0.2937 - accuracy: 0.9180 - val_loss: 0.2863 - val_accuracy: 0.9207\n",
      "Epoch 106/200\n",
      "48000/48000 [==============================] - 1s 18us/sample - loss: 0.2934 - accuracy: 0.9179 - val_loss: 0.2861 - val_accuracy: 0.9205\n",
      "Epoch 107/200\n",
      "48000/48000 [==============================] - 1s 19us/sample - loss: 0.2931 - accuracy: 0.9181 - val_loss: 0.2859 - val_accuracy: 0.9199\n",
      "Epoch 108/200\n",
      "48000/48000 [==============================] - 1s 18us/sample - loss: 0.2928 - accuracy: 0.9183 - val_loss: 0.2857 - val_accuracy: 0.9203\n",
      "Epoch 109/200\n",
      "48000/48000 [==============================] - 1s 19us/sample - loss: 0.2926 - accuracy: 0.9182 - val_loss: 0.2856 - val_accuracy: 0.9207\n",
      "Epoch 110/200\n",
      "48000/48000 [==============================] - 1s 18us/sample - loss: 0.2923 - accuracy: 0.9182 - val_loss: 0.2854 - val_accuracy: 0.9208\n",
      "Epoch 111/200\n",
      "48000/48000 [==============================] - 1s 18us/sample - loss: 0.2920 - accuracy: 0.9184 - val_loss: 0.2851 - val_accuracy: 0.9208\n",
      "Epoch 112/200\n",
      "48000/48000 [==============================] - 1s 18us/sample - loss: 0.2917 - accuracy: 0.9183 - val_loss: 0.2850 - val_accuracy: 0.9210\n",
      "Epoch 113/200\n",
      "48000/48000 [==============================] - 1s 18us/sample - loss: 0.2915 - accuracy: 0.9183 - val_loss: 0.2848 - val_accuracy: 0.9208\n",
      "Epoch 114/200\n",
      "48000/48000 [==============================] - 1s 18us/sample - loss: 0.2912 - accuracy: 0.9183 - val_loss: 0.2846 - val_accuracy: 0.9208\n",
      "Epoch 115/200\n",
      "48000/48000 [==============================] - 1s 18us/sample - loss: 0.2909 - accuracy: 0.9184 - val_loss: 0.2843 - val_accuracy: 0.9208\n",
      "Epoch 116/200\n",
      "48000/48000 [==============================] - 1s 18us/sample - loss: 0.2907 - accuracy: 0.9187 - val_loss: 0.2842 - val_accuracy: 0.9209\n",
      "Epoch 117/200\n",
      "48000/48000 [==============================] - 1s 19us/sample - loss: 0.2904 - accuracy: 0.9185 - val_loss: 0.2841 - val_accuracy: 0.9210\n",
      "Epoch 118/200\n",
      "48000/48000 [==============================] - 1s 18us/sample - loss: 0.2902 - accuracy: 0.9188 - val_loss: 0.2839 - val_accuracy: 0.9211\n",
      "Epoch 119/200\n",
      "48000/48000 [==============================] - 1s 19us/sample - loss: 0.2899 - accuracy: 0.9187 - val_loss: 0.2837 - val_accuracy: 0.9211\n",
      "Epoch 120/200\n",
      "48000/48000 [==============================] - 1s 19us/sample - loss: 0.2897 - accuracy: 0.9190 - val_loss: 0.2836 - val_accuracy: 0.9211\n",
      "Epoch 121/200\n",
      "48000/48000 [==============================] - 1s 19us/sample - loss: 0.2894 - accuracy: 0.9189 - val_loss: 0.2835 - val_accuracy: 0.9209\n",
      "Epoch 122/200\n",
      "48000/48000 [==============================] - 1s 19us/sample - loss: 0.2892 - accuracy: 0.9190 - val_loss: 0.2833 - val_accuracy: 0.9209\n",
      "Epoch 123/200\n",
      "48000/48000 [==============================] - 1s 19us/sample - loss: 0.2890 - accuracy: 0.9192 - val_loss: 0.2831 - val_accuracy: 0.9212\n",
      "Epoch 124/200\n",
      "48000/48000 [==============================] - 1s 19us/sample - loss: 0.2887 - accuracy: 0.9191 - val_loss: 0.2830 - val_accuracy: 0.9211\n",
      "Epoch 125/200\n",
      "48000/48000 [==============================] - 1s 19us/sample - loss: 0.2885 - accuracy: 0.9194 - val_loss: 0.2828 - val_accuracy: 0.9216\n",
      "Epoch 126/200\n",
      "48000/48000 [==============================] - 1s 19us/sample - loss: 0.2882 - accuracy: 0.9190 - val_loss: 0.2827 - val_accuracy: 0.9210\n",
      "Epoch 127/200\n",
      "48000/48000 [==============================] - 1s 19us/sample - loss: 0.2880 - accuracy: 0.9196 - val_loss: 0.2825 - val_accuracy: 0.9212\n",
      "Epoch 128/200\n",
      "48000/48000 [==============================] - 1s 19us/sample - loss: 0.2878 - accuracy: 0.9195 - val_loss: 0.2823 - val_accuracy: 0.9214\n",
      "Epoch 129/200\n",
      "48000/48000 [==============================] - 1s 19us/sample - loss: 0.2876 - accuracy: 0.9196 - val_loss: 0.2822 - val_accuracy: 0.9214\n",
      "Epoch 130/200\n",
      "48000/48000 [==============================] - 1s 18us/sample - loss: 0.2874 - accuracy: 0.9195 - val_loss: 0.2820 - val_accuracy: 0.9214\n",
      "Epoch 131/200\n",
      "48000/48000 [==============================] - 1s 19us/sample - loss: 0.2871 - accuracy: 0.9197 - val_loss: 0.2819 - val_accuracy: 0.9214\n",
      "Epoch 132/200\n",
      "48000/48000 [==============================] - 1s 18us/sample - loss: 0.2869 - accuracy: 0.9195 - val_loss: 0.2817 - val_accuracy: 0.9218\n",
      "Epoch 133/200\n",
      "48000/48000 [==============================] - 1s 19us/sample - loss: 0.2867 - accuracy: 0.9200 - val_loss: 0.2817 - val_accuracy: 0.9212\n",
      "Epoch 134/200\n",
      "48000/48000 [==============================] - 1s 18us/sample - loss: 0.2865 - accuracy: 0.9197 - val_loss: 0.2815 - val_accuracy: 0.9215\n",
      "Epoch 135/200\n",
      "48000/48000 [==============================] - 1s 19us/sample - loss: 0.2863 - accuracy: 0.9199 - val_loss: 0.2813 - val_accuracy: 0.9220\n",
      "Epoch 136/200\n",
      "48000/48000 [==============================] - 1s 19us/sample - loss: 0.2861 - accuracy: 0.9200 - val_loss: 0.2812 - val_accuracy: 0.9214\n",
      "Epoch 137/200\n",
      "48000/48000 [==============================] - 1s 19us/sample - loss: 0.2859 - accuracy: 0.9200 - val_loss: 0.2811 - val_accuracy: 0.9212\n",
      "Epoch 138/200\n",
      "48000/48000 [==============================] - 1s 19us/sample - loss: 0.2857 - accuracy: 0.9200 - val_loss: 0.2810 - val_accuracy: 0.9216\n",
      "Epoch 139/200\n",
      "48000/48000 [==============================] - 1s 18us/sample - loss: 0.2855 - accuracy: 0.9201 - val_loss: 0.2809 - val_accuracy: 0.9218\n",
      "Epoch 140/200\n",
      "48000/48000 [==============================] - 1s 19us/sample - loss: 0.2853 - accuracy: 0.9204 - val_loss: 0.2807 - val_accuracy: 0.9221\n",
      "Epoch 141/200\n",
      "48000/48000 [==============================] - 1s 19us/sample - loss: 0.2851 - accuracy: 0.9204 - val_loss: 0.2806 - val_accuracy: 0.9213\n",
      "Epoch 142/200\n",
      "48000/48000 [==============================] - 1s 19us/sample - loss: 0.2849 - accuracy: 0.9205 - val_loss: 0.2804 - val_accuracy: 0.9219\n",
      "Epoch 143/200\n",
      "48000/48000 [==============================] - 1s 19us/sample - loss: 0.2847 - accuracy: 0.9204 - val_loss: 0.2804 - val_accuracy: 0.9216\n",
      "Epoch 144/200\n",
      "48000/48000 [==============================] - 1s 18us/sample - loss: 0.2845 - accuracy: 0.9205 - val_loss: 0.2802 - val_accuracy: 0.9218\n",
      "Epoch 145/200\n",
      "48000/48000 [==============================] - 1s 19us/sample - loss: 0.2843 - accuracy: 0.9205 - val_loss: 0.2801 - val_accuracy: 0.9219\n",
      "Epoch 146/200\n",
      "48000/48000 [==============================] - 1s 18us/sample - loss: 0.2841 - accuracy: 0.9207 - val_loss: 0.2799 - val_accuracy: 0.9218\n",
      "Epoch 147/200\n",
      "48000/48000 [==============================] - 1s 18us/sample - loss: 0.2839 - accuracy: 0.9204 - val_loss: 0.2798 - val_accuracy: 0.9216\n",
      "Epoch 148/200\n",
      "48000/48000 [==============================] - 1s 18us/sample - loss: 0.2838 - accuracy: 0.9208 - val_loss: 0.2797 - val_accuracy: 0.9216\n",
      "Epoch 149/200\n",
      "48000/48000 [==============================] - 1s 18us/sample - loss: 0.2836 - accuracy: 0.9208 - val_loss: 0.2796 - val_accuracy: 0.9216\n",
      "Epoch 150/200\n",
      "48000/48000 [==============================] - 1s 19us/sample - loss: 0.2834 - accuracy: 0.9209 - val_loss: 0.2794 - val_accuracy: 0.9217\n",
      "Epoch 151/200\n",
      "48000/48000 [==============================] - 1s 19us/sample - loss: 0.2832 - accuracy: 0.9208 - val_loss: 0.2793 - val_accuracy: 0.9219\n",
      "Epoch 152/200\n",
      "48000/48000 [==============================] - 1s 19us/sample - loss: 0.2830 - accuracy: 0.9208 - val_loss: 0.2792 - val_accuracy: 0.9220\n",
      "Epoch 153/200\n",
      "48000/48000 [==============================] - 1s 18us/sample - loss: 0.2829 - accuracy: 0.9210 - val_loss: 0.2792 - val_accuracy: 0.9222\n",
      "Epoch 154/200\n",
      "48000/48000 [==============================] - 1s 18us/sample - loss: 0.2827 - accuracy: 0.9211 - val_loss: 0.2790 - val_accuracy: 0.9222\n",
      "Epoch 155/200\n",
      "48000/48000 [==============================] - 1s 19us/sample - loss: 0.2825 - accuracy: 0.9212 - val_loss: 0.2789 - val_accuracy: 0.9218\n",
      "Epoch 156/200\n",
      "48000/48000 [==============================] - 1s 18us/sample - loss: 0.2823 - accuracy: 0.9211 - val_loss: 0.2788 - val_accuracy: 0.9223\n",
      "Epoch 157/200\n",
      "48000/48000 [==============================] - 1s 18us/sample - loss: 0.2822 - accuracy: 0.9215 - val_loss: 0.2787 - val_accuracy: 0.9220\n",
      "Epoch 158/200\n",
      "48000/48000 [==============================] - 1s 18us/sample - loss: 0.2820 - accuracy: 0.9215 - val_loss: 0.2787 - val_accuracy: 0.9218\n",
      "Epoch 159/200\n",
      "48000/48000 [==============================] - 1s 19us/sample - loss: 0.2818 - accuracy: 0.9213 - val_loss: 0.2785 - val_accuracy: 0.9213\n",
      "Epoch 160/200\n",
      "48000/48000 [==============================] - 1s 19us/sample - loss: 0.2817 - accuracy: 0.9212 - val_loss: 0.2784 - val_accuracy: 0.9224\n",
      "Epoch 161/200\n",
      "48000/48000 [==============================] - 1s 19us/sample - loss: 0.2815 - accuracy: 0.9214 - val_loss: 0.2783 - val_accuracy: 0.9225\n",
      "Epoch 162/200\n",
      "48000/48000 [==============================] - 1s 18us/sample - loss: 0.2813 - accuracy: 0.9214 - val_loss: 0.2782 - val_accuracy: 0.9218\n",
      "Epoch 163/200\n",
      "48000/48000 [==============================] - 1s 18us/sample - loss: 0.2812 - accuracy: 0.9215 - val_loss: 0.2782 - val_accuracy: 0.9220\n",
      "Epoch 164/200\n",
      "48000/48000 [==============================] - 1s 18us/sample - loss: 0.2810 - accuracy: 0.9217 - val_loss: 0.2780 - val_accuracy: 0.9217\n",
      "Epoch 165/200\n",
      "48000/48000 [==============================] - 1s 19us/sample - loss: 0.2808 - accuracy: 0.9215 - val_loss: 0.2779 - val_accuracy: 0.9229\n",
      "Epoch 166/200\n",
      "48000/48000 [==============================] - 1s 19us/sample - loss: 0.2807 - accuracy: 0.9217 - val_loss: 0.2779 - val_accuracy: 0.9216\n",
      "Epoch 167/200\n",
      "48000/48000 [==============================] - 1s 19us/sample - loss: 0.2805 - accuracy: 0.9216 - val_loss: 0.2777 - val_accuracy: 0.9217\n",
      "Epoch 168/200\n",
      "48000/48000 [==============================] - 1s 19us/sample - loss: 0.2804 - accuracy: 0.9218 - val_loss: 0.2776 - val_accuracy: 0.9221\n",
      "Epoch 169/200\n",
      "48000/48000 [==============================] - 1s 19us/sample - loss: 0.2802 - accuracy: 0.9215 - val_loss: 0.2775 - val_accuracy: 0.9226\n",
      "Epoch 170/200\n",
      "48000/48000 [==============================] - 1s 18us/sample - loss: 0.2801 - accuracy: 0.9220 - val_loss: 0.2774 - val_accuracy: 0.9224\n",
      "Epoch 171/200\n",
      "48000/48000 [==============================] - 1s 19us/sample - loss: 0.2799 - accuracy: 0.9221 - val_loss: 0.2774 - val_accuracy: 0.9223\n",
      "Epoch 172/200\n",
      "48000/48000 [==============================] - 1s 18us/sample - loss: 0.2798 - accuracy: 0.9219 - val_loss: 0.2773 - val_accuracy: 0.9223\n",
      "Epoch 173/200\n",
      "48000/48000 [==============================] - 1s 19us/sample - loss: 0.2796 - accuracy: 0.9219 - val_loss: 0.2772 - val_accuracy: 0.9227\n",
      "Epoch 174/200\n",
      "48000/48000 [==============================] - 1s 19us/sample - loss: 0.2795 - accuracy: 0.9224 - val_loss: 0.2771 - val_accuracy: 0.9224\n",
      "Epoch 175/200\n",
      "48000/48000 [==============================] - 2s 33us/sample - loss: 0.2794 - accuracy: 0.9222 - val_loss: 0.2770 - val_accuracy: 0.9224\n",
      "Epoch 176/200\n",
      "48000/48000 [==============================] - 1s 21us/sample - loss: 0.2792 - accuracy: 0.9221 - val_loss: 0.2770 - val_accuracy: 0.9225\n",
      "Epoch 177/200\n",
      "48000/48000 [==============================] - 1s 18us/sample - loss: 0.2791 - accuracy: 0.9221 - val_loss: 0.2768 - val_accuracy: 0.9227\n",
      "Epoch 178/200\n",
      "48000/48000 [==============================] - 1s 19us/sample - loss: 0.2789 - accuracy: 0.9221 - val_loss: 0.2767 - val_accuracy: 0.9224\n",
      "Epoch 179/200\n",
      "48000/48000 [==============================] - 1s 19us/sample - loss: 0.2788 - accuracy: 0.9220 - val_loss: 0.2767 - val_accuracy: 0.9219\n",
      "Epoch 180/200\n",
      "48000/48000 [==============================] - 1s 19us/sample - loss: 0.2786 - accuracy: 0.9224 - val_loss: 0.2766 - val_accuracy: 0.9228\n",
      "Epoch 181/200\n",
      "48000/48000 [==============================] - 1s 19us/sample - loss: 0.2785 - accuracy: 0.9220 - val_loss: 0.2765 - val_accuracy: 0.9224\n",
      "Epoch 182/200\n",
      "48000/48000 [==============================] - 1s 19us/sample - loss: 0.2783 - accuracy: 0.9222 - val_loss: 0.2764 - val_accuracy: 0.9228\n",
      "Epoch 183/200\n",
      "48000/48000 [==============================] - 1s 20us/sample - loss: 0.2782 - accuracy: 0.9223 - val_loss: 0.2763 - val_accuracy: 0.9227\n",
      "Epoch 184/200\n",
      "48000/48000 [==============================] - 1s 20us/sample - loss: 0.2781 - accuracy: 0.9226 - val_loss: 0.2762 - val_accuracy: 0.9223\n",
      "Epoch 185/200\n",
      "48000/48000 [==============================] - 1s 20us/sample - loss: 0.2779 - accuracy: 0.9222 - val_loss: 0.2762 - val_accuracy: 0.9225\n",
      "Epoch 186/200\n",
      "48000/48000 [==============================] - 1s 20us/sample - loss: 0.2778 - accuracy: 0.9226 - val_loss: 0.2761 - val_accuracy: 0.9229\n",
      "Epoch 187/200\n",
      "48000/48000 [==============================] - 1s 21us/sample - loss: 0.2777 - accuracy: 0.9224 - val_loss: 0.2761 - val_accuracy: 0.9224\n",
      "Epoch 188/200\n",
      "48000/48000 [==============================] - 1s 19us/sample - loss: 0.2775 - accuracy: 0.9229 - val_loss: 0.2761 - val_accuracy: 0.9220\n",
      "Epoch 189/200\n",
      "48000/48000 [==============================] - 1s 19us/sample - loss: 0.2774 - accuracy: 0.9222 - val_loss: 0.2759 - val_accuracy: 0.9226\n",
      "Epoch 190/200\n",
      "48000/48000 [==============================] - 1s 19us/sample - loss: 0.2773 - accuracy: 0.9227 - val_loss: 0.2758 - val_accuracy: 0.9227\n",
      "Epoch 191/200\n",
      "48000/48000 [==============================] - 1s 18us/sample - loss: 0.2772 - accuracy: 0.9225 - val_loss: 0.2757 - val_accuracy: 0.9227\n",
      "Epoch 192/200\n",
      "48000/48000 [==============================] - 1s 18us/sample - loss: 0.2770 - accuracy: 0.9229 - val_loss: 0.2756 - val_accuracy: 0.9229\n",
      "Epoch 193/200\n",
      "48000/48000 [==============================] - 1s 19us/sample - loss: 0.2769 - accuracy: 0.9228 - val_loss: 0.2757 - val_accuracy: 0.9233\n",
      "Epoch 194/200\n",
      "48000/48000 [==============================] - 1s 19us/sample - loss: 0.2768 - accuracy: 0.9229 - val_loss: 0.2755 - val_accuracy: 0.9227\n",
      "Epoch 195/200\n",
      "48000/48000 [==============================] - 1s 20us/sample - loss: 0.2766 - accuracy: 0.9226 - val_loss: 0.2754 - val_accuracy: 0.9231\n",
      "Epoch 196/200\n",
      "48000/48000 [==============================] - 1s 20us/sample - loss: 0.2765 - accuracy: 0.9226 - val_loss: 0.2753 - val_accuracy: 0.9231\n",
      "Epoch 197/200\n",
      "48000/48000 [==============================] - 1s 21us/sample - loss: 0.2764 - accuracy: 0.9227 - val_loss: 0.2752 - val_accuracy: 0.9228\n",
      "Epoch 198/200\n",
      "48000/48000 [==============================] - 1s 21us/sample - loss: 0.2763 - accuracy: 0.9227 - val_loss: 0.2753 - val_accuracy: 0.9232\n",
      "Epoch 199/200\n",
      "48000/48000 [==============================] - 1s 20us/sample - loss: 0.2762 - accuracy: 0.9229 - val_loss: 0.2752 - val_accuracy: 0.9230\n",
      "Epoch 200/200\n",
      "48000/48000 [==============================] - 1s 21us/sample - loss: 0.2760 - accuracy: 0.9229 - val_loss: 0.2751 - val_accuracy: 0.9225\n"
     ]
    },
    {
     "data": {
      "text/plain": [
       "<tensorflow.python.keras.callbacks.History at 0x7f71a41510f0>"
      ]
     },
     "execution_count": 32,
     "metadata": {},
     "output_type": "execute_result"
    }
   ],
   "source": [
    "model.fit(X_train, Y_train,\n",
    "         batch_size=BATCH_SIZE, epochs= EPOCHS,\n",
    "         verbose=VERBOSE, validation_split=VALIDATION_SPLIT)"
   ]
  },
  {
   "cell_type": "code",
   "execution_count": 33,
   "metadata": {},
   "outputs": [
    {
     "name": "stdout",
     "output_type": "stream",
     "text": [
      "10000/10000 [==============================] - 0s 25us/sample - loss: 0.2773 - accuracy: 0.9235\n",
      "0.27728272000551224 0.9235\n"
     ]
    }
   ],
   "source": [
    "test_loss, test_acc = model.evaluate(X_test, Y_test)\n",
    "print(test_loss, test_acc)"
   ]
  },
  {
   "cell_type": "markdown",
   "metadata": {},
   "source": [
    "# Improving the model - Hidden Layers"
   ]
  },
  {
   "cell_type": "code",
   "execution_count": 34,
   "metadata": {},
   "outputs": [],
   "source": [
    "#re-build the model\n",
    "model_with_hidden = tf.keras.models.Sequential()\n",
    "model_with_hidden.add(keras.layers.Dense(N_HIDDEN,\n",
    "                            input_shape=(RESHAPED,),\n",
    "                            name='dense_layer_1',\n",
    "                            activation='relu'))\n",
    "model_with_hidden.add(keras.layers.Dense(N_HIDDEN,\n",
    "                            name='dense_layer_2',\n",
    "                            activation='relu'))\n",
    "model_with_hidden.add(keras.layers.Dense(NB_CLASSES,\n",
    "                            name='dense_layer_output',\n",
    "                            activation='softmax'))"
   ]
  },
  {
   "cell_type": "code",
   "execution_count": 35,
   "metadata": {},
   "outputs": [
    {
     "name": "stdout",
     "output_type": "stream",
     "text": [
      "Model: \"sequential_1\"\n",
      "_________________________________________________________________\n",
      "Layer (type)                 Output Shape              Param #   \n",
      "=================================================================\n",
      "dense_layer_1 (Dense)        (None, 128)               100480    \n",
      "_________________________________________________________________\n",
      "dense_layer_2 (Dense)        (None, 128)               16512     \n",
      "_________________________________________________________________\n",
      "dense_layer_output (Dense)   (None, 10)                1290      \n",
      "=================================================================\n",
      "Total params: 118,282\n",
      "Trainable params: 118,282\n",
      "Non-trainable params: 0\n",
      "_________________________________________________________________\n"
     ]
    }
   ],
   "source": [
    "model_with_hidden.summary()"
   ]
  },
  {
   "cell_type": "code",
   "execution_count": 37,
   "metadata": {},
   "outputs": [],
   "source": [
    "model_with_hidden.compile(optimizer='SGD',\n",
    "             loss='categorical_crossentropy',\n",
    "             metrics=['accuracy'])"
   ]
  },
  {
   "cell_type": "code",
   "execution_count": 42,
   "metadata": {},
   "outputs": [
    {
     "name": "stdout",
     "output_type": "stream",
     "text": [
      "Train on 48000 samples, validate on 12000 samples\n",
      "Epoch 1/50\n",
      "48000/48000 [==============================] - 2s 35us/sample - loss: 1.4316 - accuracy: 0.6426 - val_loss: 0.7220 - val_accuracy: 0.8457\n",
      "Epoch 2/50\n",
      "48000/48000 [==============================] - 2s 32us/sample - loss: 0.5853 - accuracy: 0.8562 - val_loss: 0.4496 - val_accuracy: 0.8838\n",
      "Epoch 3/50\n",
      "48000/48000 [==============================] - 1s 31us/sample - loss: 0.4376 - accuracy: 0.8821 - val_loss: 0.3740 - val_accuracy: 0.8966\n",
      "Epoch 4/50\n",
      "48000/48000 [==============================] - 2s 31us/sample - loss: 0.3814 - accuracy: 0.8934 - val_loss: 0.3370 - val_accuracy: 0.9047\n",
      "Epoch 5/50\n",
      "48000/48000 [==============================] - 1s 31us/sample - loss: 0.3491 - accuracy: 0.9005 - val_loss: 0.3142 - val_accuracy: 0.9108\n",
      "Epoch 6/50\n",
      "48000/48000 [==============================] - 2s 32us/sample - loss: 0.3266 - accuracy: 0.9064 - val_loss: 0.2985 - val_accuracy: 0.9150\n",
      "Epoch 7/50\n",
      "48000/48000 [==============================] - 2s 32us/sample - loss: 0.3090 - accuracy: 0.9114 - val_loss: 0.2827 - val_accuracy: 0.9182\n",
      "Epoch 8/50\n",
      "48000/48000 [==============================] - 2s 32us/sample - loss: 0.2947 - accuracy: 0.9153 - val_loss: 0.2721 - val_accuracy: 0.9221\n",
      "Epoch 9/50\n",
      "48000/48000 [==============================] - 1s 31us/sample - loss: 0.2821 - accuracy: 0.9196 - val_loss: 0.2612 - val_accuracy: 0.9249\n",
      "Epoch 10/50\n",
      "48000/48000 [==============================] - 1s 31us/sample - loss: 0.2711 - accuracy: 0.9228 - val_loss: 0.2522 - val_accuracy: 0.9273\n",
      "Epoch 11/50\n",
      "48000/48000 [==============================] - 1s 31us/sample - loss: 0.2613 - accuracy: 0.9253 - val_loss: 0.2444 - val_accuracy: 0.9300\n",
      "Epoch 12/50\n",
      "48000/48000 [==============================] - 2s 32us/sample - loss: 0.2523 - accuracy: 0.9275 - val_loss: 0.2363 - val_accuracy: 0.9336\n",
      "Epoch 13/50\n",
      "48000/48000 [==============================] - 2s 32us/sample - loss: 0.2435 - accuracy: 0.9307 - val_loss: 0.2309 - val_accuracy: 0.9343\n",
      "Epoch 14/50\n",
      "48000/48000 [==============================] - 1s 31us/sample - loss: 0.2359 - accuracy: 0.9327 - val_loss: 0.2241 - val_accuracy: 0.9368\n",
      "Epoch 15/50\n",
      "48000/48000 [==============================] - 1s 31us/sample - loss: 0.2284 - accuracy: 0.9357 - val_loss: 0.2174 - val_accuracy: 0.9390\n",
      "Epoch 16/50\n",
      "48000/48000 [==============================] - 2s 32us/sample - loss: 0.2216 - accuracy: 0.9364 - val_loss: 0.2121 - val_accuracy: 0.9398\n",
      "Epoch 17/50\n",
      "48000/48000 [==============================] - 2s 32us/sample - loss: 0.2150 - accuracy: 0.9387 - val_loss: 0.2071 - val_accuracy: 0.9427\n",
      "Epoch 18/50\n",
      "48000/48000 [==============================] - 2s 31us/sample - loss: 0.2089 - accuracy: 0.9412 - val_loss: 0.2030 - val_accuracy: 0.9433\n",
      "Epoch 19/50\n",
      "48000/48000 [==============================] - 1s 31us/sample - loss: 0.2029 - accuracy: 0.9423 - val_loss: 0.1979 - val_accuracy: 0.9454\n",
      "Epoch 20/50\n",
      "48000/48000 [==============================] - 1s 31us/sample - loss: 0.1974 - accuracy: 0.9439 - val_loss: 0.1930 - val_accuracy: 0.9461\n",
      "Epoch 21/50\n",
      "48000/48000 [==============================] - 1s 31us/sample - loss: 0.1922 - accuracy: 0.9454 - val_loss: 0.1892 - val_accuracy: 0.9484\n",
      "Epoch 22/50\n",
      "48000/48000 [==============================] - 2s 32us/sample - loss: 0.1867 - accuracy: 0.9471 - val_loss: 0.1863 - val_accuracy: 0.9479\n",
      "Epoch 23/50\n",
      "48000/48000 [==============================] - 2s 31us/sample - loss: 0.1821 - accuracy: 0.9481 - val_loss: 0.1821 - val_accuracy: 0.9491\n",
      "Epoch 24/50\n",
      "48000/48000 [==============================] - 2s 31us/sample - loss: 0.1773 - accuracy: 0.9496 - val_loss: 0.1786 - val_accuracy: 0.9500\n",
      "Epoch 25/50\n",
      "48000/48000 [==============================] - 2s 31us/sample - loss: 0.1730 - accuracy: 0.9507 - val_loss: 0.1746 - val_accuracy: 0.9509\n",
      "Epoch 26/50\n",
      "48000/48000 [==============================] - 2s 31us/sample - loss: 0.1687 - accuracy: 0.9516 - val_loss: 0.1715 - val_accuracy: 0.9526\n",
      "Epoch 27/50\n",
      "48000/48000 [==============================] - 1s 31us/sample - loss: 0.1645 - accuracy: 0.9534 - val_loss: 0.1681 - val_accuracy: 0.9536\n",
      "Epoch 28/50\n",
      "48000/48000 [==============================] - 2s 31us/sample - loss: 0.1606 - accuracy: 0.9539 - val_loss: 0.1649 - val_accuracy: 0.9548\n",
      "Epoch 29/50\n",
      "48000/48000 [==============================] - 1s 31us/sample - loss: 0.1569 - accuracy: 0.9549 - val_loss: 0.1623 - val_accuracy: 0.9559\n",
      "Epoch 30/50\n",
      "48000/48000 [==============================] - 2s 32us/sample - loss: 0.1530 - accuracy: 0.9559 - val_loss: 0.1604 - val_accuracy: 0.9559\n",
      "Epoch 31/50\n",
      "48000/48000 [==============================] - 2s 33us/sample - loss: 0.1495 - accuracy: 0.9574 - val_loss: 0.1571 - val_accuracy: 0.9556\n",
      "Epoch 32/50\n",
      "48000/48000 [==============================] - 2s 32us/sample - loss: 0.1463 - accuracy: 0.9575 - val_loss: 0.1543 - val_accuracy: 0.9580\n",
      "Epoch 33/50\n",
      "48000/48000 [==============================] - 2s 32us/sample - loss: 0.1431 - accuracy: 0.9593 - val_loss: 0.1524 - val_accuracy: 0.9582\n",
      "Epoch 34/50\n",
      "48000/48000 [==============================] - 2s 32us/sample - loss: 0.1398 - accuracy: 0.9599 - val_loss: 0.1495 - val_accuracy: 0.9588\n",
      "Epoch 35/50\n",
      "48000/48000 [==============================] - 1s 30us/sample - loss: 0.1369 - accuracy: 0.9608 - val_loss: 0.1477 - val_accuracy: 0.9598\n",
      "Epoch 36/50\n",
      "48000/48000 [==============================] - 1s 31us/sample - loss: 0.1339 - accuracy: 0.9619 - val_loss: 0.1451 - val_accuracy: 0.9596\n",
      "Epoch 37/50\n",
      "48000/48000 [==============================] - 2s 31us/sample - loss: 0.1312 - accuracy: 0.9630 - val_loss: 0.1433 - val_accuracy: 0.9607\n",
      "Epoch 38/50\n",
      "48000/48000 [==============================] - 2s 31us/sample - loss: 0.1286 - accuracy: 0.9635 - val_loss: 0.1423 - val_accuracy: 0.9607\n",
      "Epoch 39/50\n",
      "48000/48000 [==============================] - 2s 32us/sample - loss: 0.1259 - accuracy: 0.9643 - val_loss: 0.1394 - val_accuracy: 0.9620\n",
      "Epoch 40/50\n",
      "48000/48000 [==============================] - 2s 34us/sample - loss: 0.1234 - accuracy: 0.9645 - val_loss: 0.1378 - val_accuracy: 0.9622\n",
      "Epoch 41/50\n",
      "48000/48000 [==============================] - 2s 45us/sample - loss: 0.1210 - accuracy: 0.9654 - val_loss: 0.1361 - val_accuracy: 0.9628\n",
      "Epoch 42/50\n",
      "48000/48000 [==============================] - 2s 32us/sample - loss: 0.1185 - accuracy: 0.9665 - val_loss: 0.1353 - val_accuracy: 0.9631\n",
      "Epoch 43/50\n",
      "48000/48000 [==============================] - 2s 32us/sample - loss: 0.1162 - accuracy: 0.9673 - val_loss: 0.1329 - val_accuracy: 0.9633\n",
      "Epoch 44/50\n",
      "48000/48000 [==============================] - 2s 32us/sample - loss: 0.1140 - accuracy: 0.9678 - val_loss: 0.1320 - val_accuracy: 0.9634\n",
      "Epoch 45/50\n",
      "48000/48000 [==============================] - 1s 31us/sample - loss: 0.1120 - accuracy: 0.9685 - val_loss: 0.1302 - val_accuracy: 0.9638\n",
      "Epoch 46/50\n",
      "48000/48000 [==============================] - 2s 31us/sample - loss: 0.1099 - accuracy: 0.9690 - val_loss: 0.1285 - val_accuracy: 0.9652\n",
      "Epoch 47/50\n",
      "48000/48000 [==============================] - 2s 32us/sample - loss: 0.1079 - accuracy: 0.9696 - val_loss: 0.1277 - val_accuracy: 0.9642\n",
      "Epoch 48/50\n",
      "48000/48000 [==============================] - 2s 31us/sample - loss: 0.1061 - accuracy: 0.9699 - val_loss: 0.1264 - val_accuracy: 0.9653\n",
      "Epoch 49/50\n",
      "48000/48000 [==============================] - 2s 31us/sample - loss: 0.1040 - accuracy: 0.9704 - val_loss: 0.1259 - val_accuracy: 0.9659\n",
      "Epoch 50/50\n",
      "48000/48000 [==============================] - 2s 33us/sample - loss: 0.1022 - accuracy: 0.9710 - val_loss: 0.1247 - val_accuracy: 0.9658\n"
     ]
    },
    {
     "data": {
      "text/plain": [
       "<tensorflow.python.keras.callbacks.History at 0x7f71ab1da358>"
      ]
     },
     "execution_count": 42,
     "metadata": {},
     "output_type": "execute_result"
    }
   ],
   "source": [
    "model_with_hidden.fit(X_train, Y_train,\n",
    "         batch_size=BATCH_SIZE, epochs=SMALL_EPOCHS, verbose=VERBOSE, validation_split=VALIDATION_SPLIT)"
   ]
  },
  {
   "cell_type": "code",
   "execution_count": 44,
   "metadata": {},
   "outputs": [
    {
     "name": "stdout",
     "output_type": "stream",
     "text": [
      "10000/10000 [==============================] - 0s 42us/sample - loss: 0.1162 - accuracy: 0.9659\n",
      "0.11623207938075066 0.9659\n"
     ]
    }
   ],
   "source": [
    "test_loss2, test_acc2 = model_with_hidden.evaluate(X_test, Y_test)\n",
    "print(test_loss2, test_acc2)"
   ]
  },
  {
   "cell_type": "markdown",
   "metadata": {},
   "source": [
    "# Improving the Model - Dropout + Optimizer"
   ]
  },
  {
   "cell_type": "code",
   "execution_count": 67,
   "metadata": {},
   "outputs": [],
   "source": [
    "DROPOUT = 0.3"
   ]
  },
  {
   "cell_type": "code",
   "execution_count": 68,
   "metadata": {},
   "outputs": [],
   "source": [
    "#re-build the model\n",
    "model_with_dropout_adam = tf.keras.models.Sequential()\n",
    "\n",
    "model_with_dropout_adam.add(keras.layers.Dense(N_HIDDEN,\n",
    "                            input_shape=(RESHAPED,),\n",
    "                            name='dense_layer_1',\n",
    "                            activation='relu'))\n",
    "\n",
    "model_with_dropout_adam.add(keras.layers.Dropout(DROPOUT))\n",
    "\n",
    "model_with_dropout_adam.add(keras.layers.Dense(N_HIDDEN,\n",
    "                            name='dense_layer_2',\n",
    "                            activation='relu'))\n",
    "\n",
    "model_with_dropout_adam.add(keras.layers.Dropout(DROPOUT))\n",
    "\n",
    "model_with_dropout_adam.add(keras.layers.Dense(NB_CLASSES,\n",
    "                            name='dense_layer_output',\n",
    "                            activation='softmax'))"
   ]
  },
  {
   "cell_type": "code",
   "execution_count": 69,
   "metadata": {},
   "outputs": [
    {
     "name": "stdout",
     "output_type": "stream",
     "text": [
      "Model: \"sequential_5\"\n",
      "_________________________________________________________________\n",
      "Layer (type)                 Output Shape              Param #   \n",
      "=================================================================\n",
      "dense_layer_1 (Dense)        (None, 128)               100480    \n",
      "_________________________________________________________________\n",
      "dropout_6 (Dropout)          (None, 128)               0         \n",
      "_________________________________________________________________\n",
      "dense_layer_2 (Dense)        (None, 128)               16512     \n",
      "_________________________________________________________________\n",
      "dropout_7 (Dropout)          (None, 128)               0         \n",
      "_________________________________________________________________\n",
      "dense_layer_output (Dense)   (None, 10)                1290      \n",
      "=================================================================\n",
      "Total params: 118,282\n",
      "Trainable params: 118,282\n",
      "Non-trainable params: 0\n",
      "_________________________________________________________________\n"
     ]
    }
   ],
   "source": [
    "model_with_dropout_adam.summary()"
   ]
  },
  {
   "cell_type": "code",
   "execution_count": 70,
   "metadata": {},
   "outputs": [],
   "source": [
    "model_with_dropout_adam.compile(optimizer=tf.keras.optimizers.Adam(learning_rate=0.001),\n",
    "                          loss='categorical_crossentropy',\n",
    "                          metrics=['accuracy'])"
   ]
  },
  {
   "cell_type": "code",
   "execution_count": 71,
   "metadata": {},
   "outputs": [
    {
     "name": "stdout",
     "output_type": "stream",
     "text": [
      "Train on 48000 samples, validate on 12000 samples\n",
      "Epoch 1/50\n",
      "48000/48000 [==============================] - 2s 45us/sample - loss: 0.5142 - accuracy: 0.8444 - val_loss: 0.1880 - val_accuracy: 0.9472\n",
      "Epoch 2/50\n",
      "48000/48000 [==============================] - 2s 42us/sample - loss: 0.2323 - accuracy: 0.9312 - val_loss: 0.1354 - val_accuracy: 0.9599\n",
      "Epoch 3/50\n",
      "48000/48000 [==============================] - 2s 40us/sample - loss: 0.1763 - accuracy: 0.9468 - val_loss: 0.1184 - val_accuracy: 0.9663\n",
      "Epoch 4/50\n",
      "48000/48000 [==============================] - 2s 39us/sample - loss: 0.1509 - accuracy: 0.9544 - val_loss: 0.1052 - val_accuracy: 0.9696\n",
      "Epoch 5/50\n",
      "48000/48000 [==============================] - 2s 41us/sample - loss: 0.1308 - accuracy: 0.9592 - val_loss: 0.0972 - val_accuracy: 0.9707\n",
      "Epoch 6/50\n",
      "48000/48000 [==============================] - 2s 39us/sample - loss: 0.1173 - accuracy: 0.9650 - val_loss: 0.0948 - val_accuracy: 0.9729\n",
      "Epoch 7/50\n",
      "48000/48000 [==============================] - 2s 39us/sample - loss: 0.1045 - accuracy: 0.9685 - val_loss: 0.0927 - val_accuracy: 0.9727\n",
      "Epoch 8/50\n",
      "48000/48000 [==============================] - 2s 40us/sample - loss: 0.0994 - accuracy: 0.9687 - val_loss: 0.0863 - val_accuracy: 0.9738\n",
      "Epoch 9/50\n",
      "48000/48000 [==============================] - 2s 40us/sample - loss: 0.0889 - accuracy: 0.9725 - val_loss: 0.0838 - val_accuracy: 0.9743\n",
      "Epoch 10/50\n",
      "48000/48000 [==============================] - 2s 41us/sample - loss: 0.0843 - accuracy: 0.9733 - val_loss: 0.0836 - val_accuracy: 0.9766\n",
      "Epoch 11/50\n",
      "48000/48000 [==============================] - 2s 40us/sample - loss: 0.0769 - accuracy: 0.9751 - val_loss: 0.0789 - val_accuracy: 0.9767\n",
      "Epoch 12/50\n",
      "48000/48000 [==============================] - 2s 40us/sample - loss: 0.0760 - accuracy: 0.9756 - val_loss: 0.0769 - val_accuracy: 0.9778\n",
      "Epoch 13/50\n",
      "48000/48000 [==============================] - 2s 42us/sample - loss: 0.0701 - accuracy: 0.9776 - val_loss: 0.0756 - val_accuracy: 0.9780\n",
      "Epoch 14/50\n",
      "48000/48000 [==============================] - 2s 42us/sample - loss: 0.0680 - accuracy: 0.9782 - val_loss: 0.0766 - val_accuracy: 0.9774\n",
      "Epoch 15/50\n",
      "48000/48000 [==============================] - 2s 41us/sample - loss: 0.0643 - accuracy: 0.9798 - val_loss: 0.0787 - val_accuracy: 0.9786\n",
      "Epoch 16/50\n",
      "48000/48000 [==============================] - 2s 42us/sample - loss: 0.0615 - accuracy: 0.9803 - val_loss: 0.0742 - val_accuracy: 0.9786\n",
      "Epoch 17/50\n",
      "48000/48000 [==============================] - 2s 43us/sample - loss: 0.0592 - accuracy: 0.9807 - val_loss: 0.0813 - val_accuracy: 0.9769\n",
      "Epoch 18/50\n",
      "48000/48000 [==============================] - 2s 41us/sample - loss: 0.0575 - accuracy: 0.9818 - val_loss: 0.0777 - val_accuracy: 0.9791\n",
      "Epoch 19/50\n",
      "48000/48000 [==============================] - 2s 41us/sample - loss: 0.0549 - accuracy: 0.9820 - val_loss: 0.0776 - val_accuracy: 0.9786\n",
      "Epoch 20/50\n",
      "48000/48000 [==============================] - 2s 40us/sample - loss: 0.0545 - accuracy: 0.9826 - val_loss: 0.0782 - val_accuracy: 0.9788\n",
      "Epoch 21/50\n",
      "48000/48000 [==============================] - 2s 40us/sample - loss: 0.0529 - accuracy: 0.9822 - val_loss: 0.0806 - val_accuracy: 0.9789\n",
      "Epoch 22/50\n",
      "48000/48000 [==============================] - 2s 43us/sample - loss: 0.0508 - accuracy: 0.9839 - val_loss: 0.0806 - val_accuracy: 0.9788\n",
      "Epoch 23/50\n",
      "48000/48000 [==============================] - 2s 41us/sample - loss: 0.0483 - accuracy: 0.9841 - val_loss: 0.0762 - val_accuracy: 0.9790\n",
      "Epoch 24/50\n",
      "48000/48000 [==============================] - 2s 39us/sample - loss: 0.0500 - accuracy: 0.9836 - val_loss: 0.0813 - val_accuracy: 0.9790\n",
      "Epoch 25/50\n",
      "48000/48000 [==============================] - 2s 40us/sample - loss: 0.0429 - accuracy: 0.9855 - val_loss: 0.0846 - val_accuracy: 0.9791\n",
      "Epoch 26/50\n",
      "48000/48000 [==============================] - 2s 41us/sample - loss: 0.0460 - accuracy: 0.9846 - val_loss: 0.0841 - val_accuracy: 0.9780\n",
      "Epoch 27/50\n",
      "48000/48000 [==============================] - 2s 39us/sample - loss: 0.0446 - accuracy: 0.9853 - val_loss: 0.0825 - val_accuracy: 0.9785\n",
      "Epoch 28/50\n",
      "48000/48000 [==============================] - 2s 43us/sample - loss: 0.0455 - accuracy: 0.9852 - val_loss: 0.0777 - val_accuracy: 0.9802\n",
      "Epoch 29/50\n",
      "48000/48000 [==============================] - 2s 44us/sample - loss: 0.0419 - accuracy: 0.9865 - val_loss: 0.0802 - val_accuracy: 0.9792\n",
      "Epoch 30/50\n",
      "48000/48000 [==============================] - 2s 40us/sample - loss: 0.0424 - accuracy: 0.9860 - val_loss: 0.0794 - val_accuracy: 0.9800\n",
      "Epoch 31/50\n",
      "48000/48000 [==============================] - 2s 43us/sample - loss: 0.0422 - accuracy: 0.9860 - val_loss: 0.0818 - val_accuracy: 0.9793\n",
      "Epoch 32/50\n",
      "48000/48000 [==============================] - 2s 43us/sample - loss: 0.0401 - accuracy: 0.9873 - val_loss: 0.0815 - val_accuracy: 0.9795\n",
      "Epoch 33/50\n",
      "48000/48000 [==============================] - 2s 43us/sample - loss: 0.0368 - accuracy: 0.9880 - val_loss: 0.0812 - val_accuracy: 0.9787\n",
      "Epoch 34/50\n",
      "48000/48000 [==============================] - 2s 44us/sample - loss: 0.0390 - accuracy: 0.9872 - val_loss: 0.0804 - val_accuracy: 0.9802\n",
      "Epoch 35/50\n",
      "48000/48000 [==============================] - 2s 44us/sample - loss: 0.0382 - accuracy: 0.9872 - val_loss: 0.0838 - val_accuracy: 0.9797\n",
      "Epoch 36/50\n",
      "48000/48000 [==============================] - 2s 44us/sample - loss: 0.0379 - accuracy: 0.9870 - val_loss: 0.0825 - val_accuracy: 0.9801\n",
      "Epoch 37/50\n",
      "48000/48000 [==============================] - 2s 43us/sample - loss: 0.0374 - accuracy: 0.9874 - val_loss: 0.0827 - val_accuracy: 0.9806\n",
      "Epoch 38/50\n",
      "48000/48000 [==============================] - 2s 45us/sample - loss: 0.0356 - accuracy: 0.9881 - val_loss: 0.0856 - val_accuracy: 0.9795\n",
      "Epoch 39/50\n",
      "48000/48000 [==============================] - 2s 44us/sample - loss: 0.0366 - accuracy: 0.9879 - val_loss: 0.0844 - val_accuracy: 0.9794\n",
      "Epoch 40/50\n",
      "48000/48000 [==============================] - 2s 42us/sample - loss: 0.0324 - accuracy: 0.9892 - val_loss: 0.0860 - val_accuracy: 0.9797\n",
      "Epoch 41/50\n",
      "48000/48000 [==============================] - 2s 41us/sample - loss: 0.0356 - accuracy: 0.9885 - val_loss: 0.0877 - val_accuracy: 0.9793\n",
      "Epoch 42/50\n",
      "48000/48000 [==============================] - 2s 41us/sample - loss: 0.0381 - accuracy: 0.9868 - val_loss: 0.0836 - val_accuracy: 0.9797\n",
      "Epoch 43/50\n",
      "48000/48000 [==============================] - 2s 43us/sample - loss: 0.0328 - accuracy: 0.9891 - val_loss: 0.0867 - val_accuracy: 0.9795\n",
      "Epoch 44/50\n",
      "48000/48000 [==============================] - 2s 43us/sample - loss: 0.0325 - accuracy: 0.9894 - val_loss: 0.0852 - val_accuracy: 0.9811\n",
      "Epoch 45/50\n",
      "48000/48000 [==============================] - 3s 59us/sample - loss: 0.0320 - accuracy: 0.9895 - val_loss: 0.0840 - val_accuracy: 0.9808\n",
      "Epoch 46/50\n",
      "48000/48000 [==============================] - 2s 40us/sample - loss: 0.0309 - accuracy: 0.9899 - val_loss: 0.0895 - val_accuracy: 0.9790\n",
      "Epoch 47/50\n",
      "48000/48000 [==============================] - 2s 43us/sample - loss: 0.0288 - accuracy: 0.9905 - val_loss: 0.0898 - val_accuracy: 0.9788\n",
      "Epoch 48/50\n",
      "48000/48000 [==============================] - 2s 43us/sample - loss: 0.0322 - accuracy: 0.9896 - val_loss: 0.0884 - val_accuracy: 0.9787\n",
      "Epoch 49/50\n",
      "48000/48000 [==============================] - 2s 43us/sample - loss: 0.0326 - accuracy: 0.9891 - val_loss: 0.0899 - val_accuracy: 0.9793\n",
      "Epoch 50/50\n",
      "48000/48000 [==============================] - 2s 44us/sample - loss: 0.0331 - accuracy: 0.9889 - val_loss: 0.0889 - val_accuracy: 0.9796\n"
     ]
    },
    {
     "data": {
      "text/plain": [
       "<tensorflow.python.keras.callbacks.History at 0x7f71aa9c9a58>"
      ]
     },
     "execution_count": 71,
     "metadata": {},
     "output_type": "execute_result"
    }
   ],
   "source": [
    "model_with_dropout_adam.fit(X_train, Y_train, \n",
    "                          batch_size=BATCH_SIZE, epochs=SMALL_EPOCHS, \n",
    "                          verbose=VERBOSE, validation_split=VALIDATION_SPLIT\n",
    "                          )"
   ]
  },
  {
   "cell_type": "code",
   "execution_count": 72,
   "metadata": {},
   "outputs": [
    {
     "name": "stdout",
     "output_type": "stream",
     "text": [
      "10000/10000 [==============================] - 0s 45us/sample - loss: 0.0842 - accuracy: 0.9799\n"
     ]
    },
    {
     "data": {
      "text/plain": [
       "(0.08423248895784609, 0.9799)"
      ]
     },
     "execution_count": 72,
     "metadata": {},
     "output_type": "execute_result"
    }
   ],
   "source": [
    "test_loss3, test_acc3 = model_with_dropout_adam.evaluate(X_test, Y_test)\n",
    "test_loss3, test_acc3"
   ]
  },
  {
   "cell_type": "markdown",
   "metadata": {},
   "source": []
  },
  {
   "cell_type": "code",
   "execution_count": null,
   "metadata": {},
   "outputs": [],
   "source": []
  },
  {
   "cell_type": "code",
   "execution_count": null,
   "metadata": {},
   "outputs": [],
   "source": []
  }
 ],
 "metadata": {
  "kernelspec": {
   "display_name": "Python 3",
   "language": "python",
   "name": "python3"
  },
  "language_info": {
   "codemirror_mode": {
    "name": "ipython",
    "version": 3
   },
   "file_extension": ".py",
   "mimetype": "text/x-python",
   "name": "python",
   "nbconvert_exporter": "python",
   "pygments_lexer": "ipython3",
   "version": "3.5.3"
  }
 },
 "nbformat": 4,
 "nbformat_minor": 4
}
