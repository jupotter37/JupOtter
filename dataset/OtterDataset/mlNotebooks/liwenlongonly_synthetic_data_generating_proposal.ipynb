{
 "cells": [
  {
   "cell_type": "markdown",
   "metadata": {},
   "source": [
    "# Patient Sythetic Data Generation"
   ]
  },
  {
   "cell_type": "markdown",
   "metadata": {},
   "source": [
    "# Team members\n",
    "Junjie Cai  \n",
    "Li Gan  \n",
    "Wenlong Li "
   ]
  },
  {
   "cell_type": "markdown",
   "metadata": {},
   "source": [
    "# Description of the problem\n",
    "\n",
    "\n",
    "There is a growing demand for the uptake of modern artificial intelligence technologies within healthcare systems. Many of these technologies exploit historical patient health data to build powerful predictive models that can be used to improve diagnosis and understanding of disease. [1] However, obtaining realistic patient data to support these evaluations has many challenges, including the risk of re-identifying anonymized patients as well as the costs associated with connecting test systems with production ready clinical databases.[2] \n",
    "\n",
    "Synthetic data can be used to protect the privacy and confidentiality of a set of data. Real data contains personal/private/confidential information that a programmer, software creator or research project may not want to be disclosed. Synthetic data holds no personal information and cannot be traced back to any individual; therefore, the use of synthetic data reduces confidentiality and privacy issues.[3]"
   ]
  },
  {
   "cell_type": "markdown",
   "metadata": {},
   "source": [
    "# A brief survey\n",
    "\n",
    "## Synthetic data generation methods\n",
    "**Drawing numbers from a distribution**:\n",
    "This method works by observing real statistical distributions and reproducing fake data. This can also include the creation of generative models.\n",
    "\n",
    "**Agent-based modeling**: To achieve synthetic data in this method, a model is created that explains an observed behavior, and then reproduces random data using the same model. It emphasizes understanding the effects of interactions between agents on a system as a whole.\n",
    "\n",
    "**Deep learning models**: Variational autoencoder and generative adversarial network (GAN) models are synthetic data generation techniques that improve data utility by feeding models with more data. \n",
    "\n",
    "### Challenges of Synthetic Data \n",
    "**Outliers may be missing**: \n",
    "Synthetic data can only mimic the real-world data, it is not an exact replica of it. Therefore, synthetic data may not cover some outliers that original data has. However, sometimes outliers in the data can be important.\n",
    "\n",
    "**Quality of the model depends on the data source**: \n",
    "Quality of synthetic data is highly correlated with the quality of the input data and the data generation model. Synthetic data may reflect the biases in source data\n",
    "\n",
    "**Synthetic data generation requires time and effort**: Though easier to create than actual data, synthetic data is also not free.\n",
    "\n",
    "**Output control is necessary**: \n",
    "Especially in complex datasets, the best way to ensure the output is accurate is by comparing synthetic data with authentic data or human-annotated data. this is because there could be inconsistencies in synthetic data when trying to replicate complexities within original datasets\n",
    "\n",
    "**Characteristics Consistency**:\n",
    "Difficult to keep track of all the necessary characteristics required to replicate data"
   ]
  },
  {
   "cell_type": "markdown",
   "metadata": {},
   "source": [
    "# Preliminary plan\n",
    "\n",
    "## Clinical Data Model\n",
    "Data for patients can be divived into two primary categories.\n",
    "* Static patient data which have 1 to 1 relationships with patients\n",
    "* Data for clinical events happend in hospital which have 1 to many relationships with patients and time ordered\n",
    "\n",
    "### Static patient data\n",
    "* All 1 to 1 static patient data can br combined into one tabular formed dataset. We can learning a model from it with GAN and generate new records keeping joint distribution from the original data,\n",
    "\n",
    "### Clinical events data\n",
    "Clinical events data can be seperated into two components:\n",
    "#### Event logs \n",
    "Event logs describing the clinical events transition and time interval. We can train process mining[4] models to capture the characteris from original data\n",
    "#### Event properties\n",
    "Clincal events have properties which is specific to each kind of event, such as test value for laboratory test event.\n",
    "Given event type, event properties can be combined into one tabular data table and GAN can be used to capture its propery and generate syntetic data later.\n",
    "\n",
    "# Intermediate Results\n",
    "\n",
    "## Finished part\n",
    "* Complete the basic system framework.\n",
    "* Collect and simulate data.\n",
    "* Use Keras to implement a one-dimensional data adversarial generative model.\n",
    "* Use ProM Tools to do process mining analysis and Pm4py to achieve process mining.\n",
    "* Integrate anti-generation model and process mining to achieve complete data generator\n",
    "\n",
    "## Later work\n",
    "* Complete the report and describe the technical details.\n",
    "* Evaluate the existing model and adjust the optimized model.\n",
    "\n",
    "## Division of work\n",
    "* Junjie Cai: basic system framework and collect data.\n",
    "* Li Gan: Research process mining algorithm and code.\n",
    "* Wenlong Li: Research GAN algorithm and code.\n",
    "\n",
    "### Plan Framework\n",
    "\n",
    "![image](plan.jpg)\n"
   ]
  },
  {
   "cell_type": "markdown",
   "metadata": {},
   "source": [
    "# Reference\n",
    "1. Tucker, A., Wang, Z., Rotalinti, Y. and Myles, P., 2020. Generating high-fidelity synthetic patient data for assessing machine learning healthcare software. NPJ digital medicine, 3(1), pp.1-13.\n",
    "2. Pollack, A.H., Simon, T.D., Snyder, J. and Pratt, W., 2019. Creating synthetic patient data to support the design and evaluation of novel health information technology. Journal of biomedical informatics, 95, p.103201.\n",
    "3. https://en.wikipedia.org/wiki/Synthetic_data\n",
    "4. https://en.wikipedia.org/wiki/Process_mining"
   ]
  }
 ],
 "metadata": {
  "kernelspec": {
   "display_name": "Python 3",
   "language": "python",
   "name": "python3"
  },
  "language_info": {
   "codemirror_mode": {
    "name": "ipython",
    "version": 3
   },
   "file_extension": ".py",
   "mimetype": "text/x-python",
   "name": "python",
   "nbconvert_exporter": "python",
   "pygments_lexer": "ipython3",
   "version": "3.8.8"
  },
  "toc": {
   "base_numbering": 1,
   "nav_menu": {},
   "number_sections": true,
   "sideBar": true,
   "skip_h1_title": false,
   "title_cell": "Table of Contents",
   "title_sidebar": "Contents",
   "toc_cell": false,
   "toc_position": {},
   "toc_section_display": true,
   "toc_window_display": false
  }
 },
 "nbformat": 4,
 "nbformat_minor": 4
}