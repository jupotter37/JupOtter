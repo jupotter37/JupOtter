{
 "cells": [
  {
   "cell_type": "code",
   "execution_count": null,
   "metadata": {
    "id": "HG-rDN-Hka2-"
   },
   "outputs": [],
   "source": [
    "import tensorflow\n",
    "import numpy as np\n",
    "import pandas as pd\n",
    "from tensorflow.keras.datasets import cifar10\n",
    "from tensorflow.keras.layers import Conv2D, MaxPool2D, Dense, Dropout, Flatten\n",
    "from tensorflow.keras.models import Sequential\n",
    "from sklearn.metrics import accuracy_score, f1_score, precision_score, recall_score\n",
    "import matplotlib.pyplot as plt\n"
   ]
  },
  {
   "cell_type": "code",
   "execution_count": null,
   "metadata": {
    "id": "m1EBrDe1mZHS"
   },
   "outputs": [],
   "source": [
    "(x_train, y_train), (x_test, y_test) = cifar10.load_data()\n"
   ]
  },
  {
   "cell_type": "code",
   "execution_count": null,
   "metadata": {
    "colab": {
     "base_uri": "https://localhost:8080/"
    },
    "id": "3TgSc4pzmxbX",
    "outputId": "042fa1da-47ad-4f2a-8d0b-fae16f75a248"
   },
   "outputs": [
    {
     "data": {
      "text/plain": [
       "(50000, 32, 32, 3)"
      ]
     },
     "execution_count": 3,
     "metadata": {},
     "output_type": "execute_result"
    }
   ],
   "source": [
    "x_train.shape"
   ]
  },
  {
   "cell_type": "code",
   "execution_count": null,
   "metadata": {
    "id": "kMoDUBnHm_nk"
   },
   "outputs": [],
   "source": [
    "classes = ['airplane','automobile' , 'bird' , 'cat' , 'deer' , 'dog' , 'frog' , 'horse' , 'ship' , 'truck']\n",
    "\n"
   ]
  },
  {
   "cell_type": "code",
   "execution_count": null,
   "metadata": {
    "id": "b35-i01oaiti"
   },
   "outputs": [],
   "source": [
    "# y_train_pd = pd.DataFrame(y_train)\n",
    "# y_train_pd.head()\n"
   ]
  },
  {
   "cell_type": "code",
   "execution_count": null,
   "metadata": {
    "colab": {
     "base_uri": "https://localhost:8080/",
     "height": 284
    },
    "id": "z1pmlkA8nSGV",
    "outputId": "ef4f3034-600f-41f7-c0ac-9ca5e94b8442"
   },
   "outputs": [
    {
     "data": {
      "application/vnd.google.colaboratory.intrinsic+json": {
       "type": "string"
      },
      "text/plain": [
       "'truck'"
      ]
     },
     "execution_count": 6,
     "metadata": {},
     "output_type": "execute_result"
    },
    {
     "data": {
      "image/png": "[encoded data removed]",
      "text/plain": [
       "<Figure size 432x288 with 1 Axes>"
      ]
     },
     "metadata": {
      "needs_background": "light"
     },
     "output_type": "display_data"
    }
   ],
   "source": [
    "plt.imshow(x_train[1])\n",
    "classes[y_train[1][0]]\n",
    "\n",
    "\n",
    "\n"
   ]
  },
  {
   "cell_type": "code",
   "execution_count": null,
   "metadata": {
    "id": "95VkPeuenczK"
   },
   "outputs": [],
   "source": []
  },
  {
   "cell_type": "code",
   "execution_count": null,
   "metadata": {
    "colab": {
     "base_uri": "https://localhost:8080/",
     "height": 284
    },
    "id": "unlXCWvUolG1",
    "outputId": "749b886b-6639-46b7-a176-308e921910f6"
   },
   "outputs": [
    {
     "data": {
      "application/vnd.google.colaboratory.intrinsic+json": {
       "type": "string"
      },
      "text/plain": [
       "'automobile'"
      ]
     },
     "execution_count": 7,
     "metadata": {},
     "output_type": "execute_result"
    },
    {
     "data": {
      "image/png": "[encoded data removed]",
      "text/plain": [
       "<Figure size 432x288 with 1 Axes>"
      ]
     },
     "metadata": {
      "needs_background": "light"
     },
     "output_type": "display_data"
    }
   ],
   "source": [
    "plt.imshow(x_train[250])\n",
    "classes[y_train[250][0]]\n",
    "\n"
   ]
  },
  {
   "cell_type": "code",
   "execution_count": null,
   "metadata": {
    "id": "cdTP78c8oqpF"
   },
   "outputs": [],
   "source": []
  },
  {
   "cell_type": "code",
   "execution_count": null,
   "metadata": {
    "colab": {
     "base_uri": "https://localhost:8080/",
     "height": 284
    },
    "id": "LkZl5jL5orSg",
    "outputId": "7e9dcd1a-e390-4104-a29a-3dc07ff0d9d0"
   },
   "outputs": [
    {
     "data": {
      "application/vnd.google.colaboratory.intrinsic+json": {
       "type": "string"
      },
      "text/plain": [
       "'frog'"
      ]
     },
     "execution_count": 8,
     "metadata": {},
     "output_type": "execute_result"
    },
    {
     "data": {
      "image/png": "[encoded data removed]",
      "text/plain": [
       "<Figure size 432x288 with 1 Axes>"
      ]
     },
     "metadata": {
      "needs_background": "light"
     },
     "output_type": "display_data"
    }
   ],
   "source": [
    "plt.imshow(x_train[25])\n",
    "classes[y_train[25][0]]\n",
    "\n"
   ]
  },
  {
   "cell_type": "code",
   "execution_count": null,
   "metadata": {
    "id": "nE-XliX3o0ZM"
   },
   "outputs": [],
   "source": [
    "X_train, X_test = x_train/255, x_test/255"
   ]
  },
  {
   "cell_type": "code",
   "execution_count": null,
   "metadata": {
    "id": "pOqNk9mupJO4"
   },
   "outputs": [],
   "source": [
    "model = Sequential()\n",
    "\n",
    "model.add(Conv2D(72, 4, activation = \"relu\", kernel_initializer= 'he_uniform',))\n",
    "model.add(MaxPool2D())\n",
    "\n",
    "model.add(Conv2D(144, 4, activation = \"relu\", kernel_initializer= 'he_uniform',))\n",
    "model.add(MaxPool2D())\n",
    "\n",
    "model.add(Conv2D(288, 4, activation = \"relu\", kernel_initializer= 'he_uniform',))\n",
    "model.add(MaxPool2D())\n",
    "\n",
    "model.add(Flatten())\n",
    "\n"
   ]
  },
  {
   "cell_type": "code",
   "execution_count": null,
   "metadata": {
    "id": "pneVsLqlqPN1"
   },
   "outputs": [],
   "source": [
    "model.add(Dense(144, activation = \"relu\", kernel_initializer='he_uniform'))\n",
    "model.add(Dense(72, activation = \"relu\", kernel_initializer='he_uniform'))\n",
    "model.add(Dense(36, activation = \"sigmoid\"))\n",
    "model.add(Dense(10, activation = 'softmax'))\n",
    "\n",
    "model.compile(optimizer=\"SGD\", loss = tensorflow.keras.losses.sparse_categorical_crossentropy, metrics= ['accuracy'])\n"
   ]
  },
  {
   "cell_type": "code",
   "execution_count": null,
   "metadata": {
    "colab": {
     "base_uri": "https://localhost:8080/"
    },
    "id": "TyBgkp_xrD99",
    "outputId": "e843fdf2-cb0a-42c2-f69d-00496cfe0878"
   },
   "outputs": [
    {
     "name": "stdout",
     "output_type": "stream",
     "text": [
      "Epoch 1/15\n",
      "1125/1125 [==============================] - 26s 20ms/step - loss: 2.0750 - accuracy: 0.2410 - val_loss: 1.8823 - val_accuracy: 0.3320\n",
      "Epoch 2/15\n",
      "1125/1125 [==============================] - 17s 15ms/step - loss: 1.7913 - accuracy: 0.3598 - val_loss: 1.6740 - val_accuracy: 0.3908\n",
      "Epoch 3/15\n",
      "1125/1125 [==============================] - 15s 14ms/step - loss: 1.6259 - accuracy: 0.4194 - val_loss: 1.5327 - val_accuracy: 0.4452\n",
      "Epoch 4/15\n",
      "1125/1125 [==============================] - 15s 14ms/step - loss: 1.5100 - accuracy: 0.4630 - val_loss: 1.4392 - val_accuracy: 0.4936\n",
      "Epoch 5/15\n",
      "1125/1125 [==============================] - 16s 14ms/step - loss: 1.4132 - accuracy: 0.4972 - val_loss: 1.3496 - val_accuracy: 0.5214\n",
      "Epoch 6/15\n",
      "1125/1125 [==============================] - 16s 14ms/step - loss: 1.3325 - accuracy: 0.5262 - val_loss: 1.3371 - val_accuracy: 0.5224\n",
      "Epoch 7/15\n",
      "1125/1125 [==============================] - 15s 14ms/step - loss: 1.2612 - accuracy: 0.5556 - val_loss: 1.2717 - val_accuracy: 0.5506\n",
      "Epoch 8/15\n",
      "1125/1125 [==============================] - 17s 15ms/step - loss: 1.1918 - accuracy: 0.5819 - val_loss: 1.1710 - val_accuracy: 0.5964\n",
      "Epoch 9/15\n",
      "1125/1125 [==============================] - 15s 14ms/step - loss: 1.1280 - accuracy: 0.6060 - val_loss: 1.1404 - val_accuracy: 0.5974\n",
      "Epoch 10/15\n",
      "1125/1125 [==============================] - 16s 14ms/step - loss: 1.0676 - accuracy: 0.6288 - val_loss: 1.1093 - val_accuracy: 0.6164\n",
      "Epoch 11/15\n",
      "1125/1125 [==============================] - 15s 14ms/step - loss: 1.0144 - accuracy: 0.6478 - val_loss: 1.0974 - val_accuracy: 0.6184\n",
      "Epoch 12/15\n",
      "1125/1125 [==============================] - 16s 14ms/step - loss: 0.9550 - accuracy: 0.6716 - val_loss: 1.0818 - val_accuracy: 0.6270\n",
      "Epoch 13/15\n",
      "1125/1125 [==============================] - 15s 14ms/step - loss: 0.9052 - accuracy: 0.6879 - val_loss: 1.0403 - val_accuracy: 0.6376\n",
      "Epoch 14/15\n",
      "1125/1125 [==============================] - 15s 14ms/step - loss: 0.8535 - accuracy: 0.7066 - val_loss: 0.9712 - val_accuracy: 0.6620\n",
      "Epoch 15/15\n",
      "1125/1125 [==============================] - 16s 14ms/step - loss: 0.8053 - accuracy: 0.7253 - val_loss: 1.0010 - val_accuracy: 0.6532\n"
     ]
    }
   ],
   "source": [
    "history = model.fit(X_train, y_train, epochs=15, batch_size = 40, validation_split = 0.1)"
   ]
  },
  {
   "cell_type": "code",
   "execution_count": null,
   "metadata": {
    "colab": {
     "base_uri": "https://localhost:8080/"
    },
    "id": "ItC-59LCreRe",
    "outputId": "4fb1aa25-ea58-45f9-a776-6410a4810105"
   },
   "outputs": [
    {
     "data": {
      "text/plain": [
       "(10000,)"
      ]
     },
     "execution_count": 13,
     "metadata": {},
     "output_type": "execute_result"
    }
   ],
   "source": [
    "Y_Pred = model.predict(x_test).argmax(axis=1)\n",
    "\n",
    "Y_Pred.shape"
   ]
  },
  {
   "cell_type": "code",
   "execution_count": null,
   "metadata": {
    "colab": {
     "base_uri": "https://localhost:8080/"
    },
    "id": "uBaI0wc9tndG",
    "outputId": "48be757a-f405-41e4-bd90-d193269b15f4"
   },
   "outputs": [
    {
     "name": "stdout",
     "output_type": "stream",
     "text": [
      "Accuracy is : 0.4625\n",
      "F1 Score is : 0.4171031489365968.\n",
      "Precision is : 0.5701060384964839.\n",
      "Recall is : 0.4625.\n"
     ]
    }
   ],
   "source": [
    "print(f'Accuracy is : {accuracy_score(Y_Pred, y_test)}')\n",
    "print(f'F1 Score is : {f1_score(y_test, Y_Pred, average= \"weighted\")}.')\n",
    "print(f'Precision is : {precision_score(y_test, Y_Pred, average=\"weighted\")}.')\n",
    "print(f'Recall is : {recall_score(y_test, Y_Pred, average = \"weighted\")}.')\n"
   ]
  },
  {
   "cell_type": "code",
   "execution_count": null,
   "metadata": {
    "colab": {
     "base_uri": "https://localhost:8080/",
     "height": 513
    },
    "id": "3mGhg02XuXDc",
    "outputId": "19414cb6-4cea-4ea3-8f37-a9f6c51e7912"
   },
   "outputs": [
    {
     "data": {
      "image/png": "[encoded data removed]",
      "text/plain": [
       "<Figure size 864x576 with 1 Axes>"
      ]
     },
     "metadata": {
      "needs_background": "light"
     },
     "output_type": "display_data"
    }
   ],
   "source": [
    "plt.figure(figsize = (12,8))\n",
    "plt.plot(history.history['accuracy'], color = 'red', label = 'Train')\n",
    "plt.plot(history.history['val_accuracy'], color = 'blue', label = 'Validation')\n",
    "plt.ylabel('accuracy')\n",
    "plt.xlabel('Epochs')\n",
    "plt.title('Model Accuracy')\n",
    "plt.legend()\n",
    "plt.show()"
   ]
  },
  {
   "cell_type": "code",
   "execution_count": null,
   "metadata": {
    "colab": {
     "base_uri": "https://localhost:8080/",
     "height": 513
    },
    "id": "9G5Xz3ZRvlvR",
    "outputId": "0518ef12-8068-4a18-ab2e-0a9d51c6ef29"
   },
   "outputs": [
    {
     "data": {
      "image/png": "[encoded data removed]",
      "text/plain": [
       "<Figure size 864x576 with 1 Axes>"
      ]
     },
     "metadata": {
      "needs_background": "light"
     },
     "output_type": "display_data"
    }
   ],
   "source": [
    "plt.figure(figsize = (12,8))\n",
    "plt.plot(history.history['loss'], color = 'red', label = 'Train')\n",
    "plt.plot(history.history['val_loss'], color = 'blue', label = 'Validation')\n",
    "plt.ylabel('Loss')\n",
    "plt.xlabel('Epochs')\n",
    "plt.title('Model Loss')\n",
    "plt.legend()\n",
    "plt.show()\n"
   ]
  },
  {
   "cell_type": "code",
   "execution_count": null,
   "metadata": {
    "colab": {
     "base_uri": "https://localhost:8080/"
    },
    "id": "gR0070Vvv3Qw",
    "outputId": "0779102d-9942-4cfd-8a66-7671c47ed2ea"
   },
   "outputs": [
    {
     "name": "stdout",
     "output_type": "stream",
     "text": [
      "Model: \"sequential\"\n",
      "_________________________________________________________________\n",
      " Layer (type)                Output Shape              Param #   \n",
      "=================================================================\n",
      " conv2d (Conv2D)             multiple                  3528      \n",
      "                                                                 \n",
      " max_pooling2d (MaxPooling2D  (40, 14, 14, 72)         0         \n",
      " )                                                               \n",
      "                                                                 \n",
      " conv2d_1 (Conv2D)           (40, 11, 11, 144)         166032    \n",
      "                                                                 \n",
      " max_pooling2d_1 (MaxPooling  (40, 5, 5, 144)          0         \n",
      " 2D)                                                             \n",
      "                                                                 \n",
      " conv2d_2 (Conv2D)           (40, 2, 2, 288)           663840    \n",
      "                                                                 \n",
      " max_pooling2d_2 (MaxPooling  (40, 1, 1, 288)          0         \n",
      " 2D)                                                             \n",
      "                                                                 \n",
      " flatten (Flatten)           (40, 288)                 0         \n",
      "                                                                 \n",
      " dense (Dense)               (40, 144)                 41616     \n",
      "                                                                 \n",
      " dense_1 (Dense)             (40, 72)                  10440     \n",
      "                                                                 \n",
      " dense_2 (Dense)             (40, 36)                  2628      \n",
      "                                                                 \n",
      " dense_3 (Dense)             (40, 10)                  370       \n",
      "                                                                 \n",
      "=================================================================\n",
      "Total params: 888,454\n",
      "Trainable params: 888,454\n",
      "Non-trainable params: 0\n",
      "_________________________________________________________________\n"
     ]
    }
   ],
   "source": [
    "model.summary()"
   ]
  },
  {
   "cell_type": "code",
   "execution_count": null,
   "metadata": {
    "id": "5Co4S5lfvxd8"
   },
   "outputs": [],
   "source": [
    "model.save(r'C:\\Users\\Vikas\\Documents\\Computer Learning\\Data Science and AI Machine Learning\\Hands On projects\\Deep Learning\\Cifar10\\cifar10_67.h5')"
   ]
  }
 ],
 "metadata": {
  "accelerator": "GPU",
  "colab": {
   "collapsed_sections": [],
   "name": "CNN Cifar10 Aug 16, 2021.ipynb",
   "provenance": []
  },
  "kernelspec": {
   "display_name": "Python 3",
   "language": "python",
   "name": "python3"
  },
  "language_info": {
   "codemirror_mode": {
    "name": "ipython",
    "version": 3
   },
   "file_extension": ".py",
   "mimetype": "text/x-python",
   "name": "python",
   "nbconvert_exporter": "python",
   "pygments_lexer": "ipython3",
   "version": "3.8.5"
  }
 },
 "nbformat": 4,
 "nbformat_minor": 1
}
