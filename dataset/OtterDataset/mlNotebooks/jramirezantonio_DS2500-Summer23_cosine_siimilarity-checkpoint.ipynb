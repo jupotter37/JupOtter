{
 "cells": [
  {
   "cell_type": "code",
   "execution_count": 1,
   "id": "768c63e2",
   "metadata": {},
   "outputs": [],
   "source": [
    "# Identifying similar documents or word lists based on a measure called cosine similarity\n",
    "# A topic of Natural Language Processing / Text Processing / Document Analysis\n",
    "# Potential ideas for final project: study how the US war soldier's sentiments about the war changed overtime\n",
    "# through text processing of various letters sent by them (grouping from north side and from south side)"
   ]
  },
  {
   "cell_type": "code",
   "execution_count": 2,
   "id": "7dbdc35e",
   "metadata": {},
   "outputs": [],
   "source": [
    "import matplotlib.pyplot as plt\n",
    "import math\n",
    "from collections import Counter\n",
    "import numpy as np\n",
    "import seaborn as sns"
   ]
  },
  {
   "cell_type": "code",
   "execution_count": 3,
   "id": "5993367d",
   "metadata": {},
   "outputs": [
    {
     "data": {
      "text/plain": [
       "15"
      ]
     },
     "execution_count": 3,
     "metadata": {},
     "output_type": "execute_result"
    }
   ],
   "source": [
    "# define some user interests as a list of lists\n",
    "user_interests = [\n",
    "    [\"Hadoop\", \"Big Data\", \"HBase\", \"Java\", \"Spark\", \"Storm\", \"Cassandra\"],\n",
    "    [\"NoSQL\", \"MongoDB\", \"Cassandra\", \"HBase\", \"Postgres\"],\n",
    "    [\"Python\", \"scikit-learn\", \"scipy\", \"numpy\", \"statsmodels\", \"pandas\"],\n",
    "    [\"R\", \"Python\", \"statistics\", \"regression\", \"probability\"],\n",
    "    [\"machine learning\", \"regression\", \"decision trees\", \"libsvm\"],\n",
    "    [\"Python\", \"R\", \"Java\", \"C++\", \"Haskell\", \"programming languages\"],\n",
    "    [\"statistics\", \"probability\", \"mathematics\", \"theory\"],\n",
    "    [\"machine learning\", \"scikit-learn\", \"Mahout\", \"neural networks\"],\n",
    "    [\"neural networks\", \"deep learning\", \"Big Data\", \"artificial intelligence\"],\n",
    "    [\"Hadoop\", \"Java\", \"MapReduce\", \"Big Data\"],\n",
    "    [\"statistics\", \"R\", \"statsmodels\"],\n",
    "    [\"C++\", \"deep learning\", \"artificial intelligence\", \"probability\"],\n",
    "    [\"pandas\", \"R\", \"Python\"],\n",
    "    [\"databases\", \"HBase\", \"Postgres\", \"MySQL\", \"MongoDB\"],\n",
    "    [\"libsvm\", \"regression\", \"support vector machines\"]]\n",
    "\n",
    "len(user_interests)"
   ]
  },
  {
   "cell_type": "code",
   "execution_count": 4,
   "id": "1ac3f80b",
   "metadata": {},
   "outputs": [
    {
     "data": {
      "text/plain": [
       "67"
      ]
     },
     "execution_count": 4,
     "metadata": {},
     "output_type": "execute_result"
    }
   ],
   "source": [
    "def flatten(lol):\n",
    "    \"\"\" Convert a list of lists (of words) into a flat sequence of words\"\"\"\n",
    "    flat = []\n",
    "    for sublist in lol:\n",
    "        flat.extend(sublist)\n",
    "    return flat\n",
    "\n",
    "flat = flatten(user_interests)\n",
    "len(flat)"
   ]
  },
  {
   "cell_type": "code",
   "execution_count": 5,
   "id": "88552b4f",
   "metadata": {},
   "outputs": [
    {
     "name": "stdout",
     "output_type": "stream",
     "text": [
      "{'Storm', 'Big Data', 'numpy', 'MySQL', 'C++', 'libsvm', 'NoSQL', 'statistics', 'theory', 'decision trees', 'programming languages', 'Java', 'scipy', 'scikit-learn', 'probability', 'regression', 'Mahout', 'MapReduce', 'HBase', 'deep learning', 'Hadoop', 'R', 'support vector machines', 'statsmodels', 'machine learning', 'MongoDB', 'neural networks', 'Python', 'pandas', 'Cassandra', 'Haskell', 'Spark', 'artificial intelligence', 'mathematics', 'databases', 'Postgres'} 36\n"
     ]
    }
   ],
   "source": [
    "# unique interests\n",
    "unique = set(flat)\n",
    "print(unique, len(unique)) # 36 unique elements in our set of user_interests"
   ]
  },
  {
   "cell_type": "code",
   "execution_count": 6,
   "id": "6af0bd03",
   "metadata": {},
   "outputs": [
    {
     "data": {
      "text/plain": [
       "36"
      ]
     },
     "execution_count": 6,
     "metadata": {},
     "output_type": "execute_result"
    }
   ],
   "source": [
    "unique = set([item for sublist in user_interests for item in sublist]) # does same thing as flatten function\n",
    "len(unique)"
   ]
  },
  {
   "cell_type": "code",
   "execution_count": 7,
   "id": "6a6a77f7",
   "metadata": {
    "scrolled": true
   },
   "outputs": [
    {
     "data": {
      "text/plain": [
       "[('Python', 4), ('R', 4), ('Big Data', 3), ('HBase', 3), ('Java', 3)]"
      ]
     },
     "execution_count": 7,
     "metadata": {},
     "output_type": "execute_result"
    }
   ],
   "source": [
    "# Counter lets us quickly identify frequency counts in a list of values\n",
    "# and identify the k most common values\n",
    "counts = Counter(flat)\n",
    "top5 = counts.most_common(5)\n",
    "top5"
   ]
  },
  {
   "cell_type": "code",
   "execution_count": 8,
   "id": "157d874b",
   "metadata": {},
   "outputs": [
    {
     "name": "stdout",
     "output_type": "stream",
     "text": [
      "User's interests     :  ['Hadoop', 'Big Data', 'HBase', 'Java', 'Spark', 'Storm', 'Cassandra']\n",
      "Most common interests:  [('Python', 4), ('R', 4), ('Big Data', 3), ('HBase', 3), ('Java', 3), ('statistics', 3), ('regression', 3), ('probability', 3), ('Hadoop', 2), ('Cassandra', 2), ('MongoDB', 2), ('Postgres', 2), ('scikit-learn', 2), ('statsmodels', 2), ('pandas', 2), ('machine learning', 2), ('libsvm', 2), ('C++', 2), ('neural networks', 2), ('deep learning', 2), ('artificial intelligence', 2), ('Spark', 1), ('Storm', 1), ('NoSQL', 1), ('scipy', 1), ('numpy', 1), ('decision trees', 1), ('Haskell', 1), ('programming languages', 1), ('mathematics', 1), ('theory', 1), ('Mahout', 1), ('MapReduce', 1), ('databases', 1), ('MySQL', 1), ('support vector machines', 1)]\n",
      "Recommendations      :  [('Python', 4), ('R', 4), ('statistics', 3), ('regression', 3), ('probability', 3)]\n"
     ]
    }
   ],
   "source": [
    "def recommend(interests, most_common, max_results = 5):\n",
    "    \"\"\" Recommend up to max_results interests to a user\n",
    "        interests - the users current interests\n",
    "        most_common - ranked list of interests available\n",
    "        max_results - the maximum number of interests to be recommended\n",
    "    \"\"\"\n",
    "    # return most_common[:max_results] # NOT CORRECT\n",
    "    suggestions = [ (interest, count) for interest, count in most_common if interest not in interests]\n",
    "    return suggestions[:max_results]\n",
    "    \n",
    "user0 = user_interests[0]\n",
    "most_common = Counter(flat).most_common()\n",
    "    \n",
    "print(\"User's interests     : \", user0)\n",
    "print(\"Most common interests: \", most_common)\n",
    "print(\"Recommendations      : \", recommend(user0, most_common, 5))"
   ]
  },
  {
   "cell_type": "code",
   "execution_count": 9,
   "id": "61184cb9",
   "metadata": {},
   "outputs": [],
   "source": [
    "# Recommendation strategy # 2: Find a similar user, recommend based on the interests of that most-similar user"
   ]
  },
  {
   "cell_type": "code",
   "execution_count": 14,
   "id": "d4087ab3",
   "metadata": {},
   "outputs": [
    {
     "data": {
      "text/plain": [
       "[<matplotlib.lines.Line2D at 0x2345c258490>]"
      ]
     },
     "execution_count": 14,
     "metadata": {},
     "output_type": "execute_result"
    },
    {
     "data": {
      "image/png": "[encoded data removed]",
      "text/plain": [
       "<Figure size 640x480 with 1 Axes>"
      ]
     },
     "metadata": {},
     "output_type": "display_data"
    }
   ],
   "source": [
    "cos = [math.cos(angle * math.pi / 180) for angle in range(360)]\n",
    "plt.grid()\n",
    "plt.plot(cos)"
   ]
  },
  {
   "cell_type": "code",
   "execution_count": null,
   "id": "e752624c",
   "metadata": {},
   "outputs": [],
   "source": [
    "\"\"\"A dot B = |A| |B| cos(theta)\n",
    "so,\n",
    "cos(theta) = A dot B / (|A| |B|)  = similarity\n",
    "\"\"\"\n",
    "\n",
    "#%% How can we create a vector from word lists?\n",
    "\"\"\"\n",
    "Unique\n",
    "Words          A         B\n",
    "-------      -----     -----\n",
    "Hadoop         1         1\n",
    "Python         0         1\n",
    "Java           0         0\n",
    "R              1         1\n",
    "Statistics     1         1\n",
    "|A| = sqrt(3) = 1.7\n",
    "|B| = sqrt(4) = 2.0\n",
    "A dot B = 1 + 0 + 0 + 1 + 1 = 3\n",
    "cos(theta) = 3 / (2.0 x 1.7) = 0.866 (pretty similar!)\n",
    "\"\"\"\n",
    "\n"
   ]
  },
  {
   "cell_type": "code",
   "execution_count": 65,
   "id": "6b72dd5c",
   "metadata": {
    "scrolled": true
   },
   "outputs": [
    {
     "name": "stdout",
     "output_type": "stream",
     "text": [
      "['Hadoop', 'Big Data', 'HBase', 'Java', 'Spark', 'Storm', 'Cassandra']\n"
     ]
    },
    {
     "data": {
      "text/plain": [
       "[1,\n",
       " 1,\n",
       " 0,\n",
       " 0,\n",
       " 0,\n",
       " 0,\n",
       " 0,\n",
       " 0,\n",
       " 0,\n",
       " 0,\n",
       " 0,\n",
       " 1,\n",
       " 0,\n",
       " 0,\n",
       " 0,\n",
       " 0,\n",
       " 0,\n",
       " 0,\n",
       " 1,\n",
       " 0,\n",
       " 1,\n",
       " 0,\n",
       " 0,\n",
       " 0,\n",
       " 0,\n",
       " 0,\n",
       " 0,\n",
       " 0,\n",
       " 0,\n",
       " 1,\n",
       " 0,\n",
       " 1,\n",
       " 0,\n",
       " 0,\n",
       " 0,\n",
       " 0]"
      ]
     },
     "execution_count": 65,
     "metadata": {},
     "output_type": "execute_result"
    }
   ],
   "source": [
    "# Convert a list of words to a word vector\n",
    "def vectorize(words, unique):\n",
    "    vector = [1 if word in words else 0 for word in unique]\n",
    "    return vector\n",
    "print(user0)\n",
    "vectorize(user0, unique)"
   ]
  },
  {
   "cell_type": "code",
   "execution_count": 21,
   "id": "912a688f",
   "metadata": {},
   "outputs": [],
   "source": [
    "# Vector functions\n",
    "def mag(v):\n",
    "    \"\"\" Magnitude of a vector v\n",
    "        v - vector in list component notation, e.g., [1, 5, -1]\n",
    "    \"\"\"\n",
    "    return sum([i ** 2 for i in v]) ** 0.5"
   ]
  },
  {
   "cell_type": "code",
   "execution_count": 22,
   "id": "44eaf48a",
   "metadata": {},
   "outputs": [
    {
     "data": {
      "text/plain": [
       "5.196152422706632"
      ]
     },
     "execution_count": 22,
     "metadata": {},
     "output_type": "execute_result"
    }
   ],
   "source": [
    "mag([1, 5, -1])"
   ]
  },
  {
   "cell_type": "code",
   "execution_count": 31,
   "id": "872851cf",
   "metadata": {},
   "outputs": [],
   "source": [
    "def dot(u, v):\n",
    "    \"\"\" dot product of two vectors\n",
    "        u - vector 1\n",
    "        v - vector 2\n",
    "    \"\"\"\n",
    "    #return sum([i * k for i in u for k in v]) not right!\n",
    "    return sum([i * j for i,j in zip(u,v)])\n"
   ]
  },
  {
   "cell_type": "code",
   "execution_count": 32,
   "id": "fa7182fb",
   "metadata": {},
   "outputs": [
    {
     "data": {
      "text/plain": [
       "11"
      ]
     },
     "execution_count": 32,
     "metadata": {},
     "output_type": "execute_result"
    }
   ],
   "source": [
    "dot([1,2],[3,4])"
   ]
  },
  {
   "cell_type": "code",
   "execution_count": 33,
   "id": "6ed8cc55",
   "metadata": {},
   "outputs": [],
   "source": [
    "def cosine_similarity(u, v):\n",
    "    \"\"\" Cosine similarity between two vectors\n",
    "    \"\"\"\n",
    "    cos_theta = dot(u,v) / (mag(u) * mag(v))\n",
    "    return cos_theta"
   ]
  },
  {
   "cell_type": "code",
   "execution_count": 35,
   "id": "e2e9bdd8",
   "metadata": {},
   "outputs": [
    {
     "data": {
      "text/plain": [
       "0.8660254037844387"
      ]
     },
     "execution_count": 35,
     "metadata": {},
     "output_type": "execute_result"
    }
   ],
   "source": [
    "cosine_similarity([1, 0, 0, 1, 1], [1, 1, 0, 1, 1])"
   ]
  },
  {
   "cell_type": "code",
   "execution_count": 70,
   "id": "68c46e36",
   "metadata": {},
   "outputs": [
    {
     "name": "stdout",
     "output_type": "stream",
     "text": [
      "['NoSQL', 'MongoDB', 'Cassandra', 'HBase', 'Postgres']\n"
     ]
    }
   ],
   "source": [
    "print(user_interests[1])"
   ]
  },
  {
   "cell_type": "code",
   "execution_count": 43,
   "id": "de14ef1f",
   "metadata": {},
   "outputs": [],
   "source": [
    "# An nxn array of cosine similarities\n",
    "# arr[i, j] measures the similarity between user i and user j\n",
    "\n",
    "arr = np.ones((15, 15))\n",
    "for i in range(15):\n",
    "    vi = vectorize(user_interests[i], unique)\n",
    "    for j in range(i+1, 15): # used i+1, 15 and np.ones at the beggining because all the diagonals of \n",
    "        vj = vectorize(user_interests[j], unique) # the heatmap are 1 so no need to compute for arr[i, i]\n",
    "        arr[i, j] = cosine_similarity(vi, vj) # due to symmetry angle between i and j and btw j and i \n",
    "        arr[j, i] = arr[i, j]                 # are the same\n",
    "        \n",
    "\n"
   ]
  },
  {
   "cell_type": "code",
   "execution_count": 45,
   "id": "2559424d",
   "metadata": {
    "scrolled": true
   },
   "outputs": [
    {
     "data": {
      "text/plain": [
       "<matplotlib.image.AxesImage at 0x2345c293790>"
      ]
     },
     "execution_count": 45,
     "metadata": {},
     "output_type": "execute_result"
    },
    {
     "data": {
      "image/png": "[encoded data removed]",
      "text/plain": [
       "<Figure size 640x480 with 1 Axes>"
      ]
     },
     "metadata": {},
     "output_type": "display_data"
    }
   ],
   "source": [
    "plt.imshow(arr)"
   ]
  },
  {
   "cell_type": "code",
   "execution_count": 46,
   "id": "c2778587",
   "metadata": {},
   "outputs": [
    {
     "data": {
      "text/plain": [
       "<Axes: >"
      ]
     },
     "execution_count": 46,
     "metadata": {},
     "output_type": "execute_result"
    },
    {
     "data": {
      "image/png": "[encoded data removed]",
      "text/plain": [
       "<Figure size 640x480 with 2 Axes>"
      ]
     },
     "metadata": {},
     "output_type": "display_data"
    }
   ],
   "source": [
    "# Seaborn heatmap\n",
    "import seaborn as sns\n",
    "sns.heatmap(arr)"
   ]
  },
  {
   "cell_type": "code",
   "execution_count": 47,
   "id": "06946c77",
   "metadata": {},
   "outputs": [
    {
     "data": {
      "text/plain": [
       "0.5669467095138409"
      ]
     },
     "execution_count": 47,
     "metadata": {},
     "output_type": "execute_result"
    }
   ],
   "source": [
    "arr[0,9]"
   ]
  },
  {
   "cell_type": "code",
   "execution_count": 48,
   "id": "8cb44868",
   "metadata": {
    "scrolled": true
   },
   "outputs": [
    {
     "data": {
      "text/plain": [
       "['Hadoop', 'Big Data', 'HBase', 'Java', 'Spark', 'Storm', 'Cassandra']"
      ]
     },
     "execution_count": 48,
     "metadata": {},
     "output_type": "execute_result"
    }
   ],
   "source": [
    "user0"
   ]
  },
  {
   "cell_type": "code",
   "execution_count": 49,
   "id": "99eec08c",
   "metadata": {},
   "outputs": [
    {
     "data": {
      "text/plain": [
       "['Hadoop', 'Java', 'MapReduce', 'Big Data']"
      ]
     },
     "execution_count": 49,
     "metadata": {},
     "output_type": "execute_result"
    }
   ],
   "source": [
    "user_interests[9]"
   ]
  },
  {
   "cell_type": "code",
   "execution_count": null,
   "id": "28e1b959",
   "metadata": {},
   "outputs": [],
   "source": [
    "# Sets\n",
    "A - B # elts in A that are not in B\n",
    "# In actual implementation of new algorithm replace user_interests lol by list of sets instead"
   ]
  },
  {
   "cell_type": "code",
   "execution_count": 56,
   "id": "b47e7abc",
   "metadata": {},
   "outputs": [
    {
     "data": {
      "text/plain": [
       "{1, 2, 3, 7, 8, 9}"
      ]
     },
     "execution_count": 56,
     "metadata": {},
     "output_type": "execute_result"
    }
   ],
   "source": [
    "# Digression on sets\n",
    "# A set is an unordered collection of distinct elts\n",
    "\n",
    "A = {1, 2, 3, 4, 5, 6}\n",
    "B = {4, 5, 6, 7, 8, 9}\n",
    "\n",
    "# cardinality\n",
    "len(A)\n",
    "\n",
    "# union elts in A or B or both\n",
    "A | B\n",
    "\n",
    "# intersection elts in A and B\n",
    "A & B\n",
    "\n",
    "# difference\n",
    "A - B\n",
    "\n",
    "# symmetric difference (often denoted with the triangle operator)\n",
    "# in A or B but not in both\n",
    "A ^ B \n",
    "(A | B) - (A & B)"
   ]
  },
  {
   "cell_type": "code",
   "execution_count": 58,
   "id": "4236e963",
   "metadata": {},
   "outputs": [
    {
     "data": {
      "text/plain": [
       "{1, 2, 3, 4, 5, 6, 99}"
      ]
     },
     "execution_count": 58,
     "metadata": {},
     "output_type": "execute_result"
    }
   ],
   "source": [
    "# Adding an elt to a set (similar to append for list)\n",
    "A.add(99)\n",
    "A"
   ]
  },
  {
   "cell_type": "code",
   "execution_count": 60,
   "id": "516f9f7f",
   "metadata": {},
   "outputs": [
    {
     "data": {
      "text/plain": [
       "False"
      ]
     },
     "execution_count": 60,
     "metadata": {},
     "output_type": "execute_result"
    }
   ],
   "source": [
    "# membership\n",
    "2 in B"
   ]
  },
  {
   "cell_type": "code",
   "execution_count": null,
   "id": "d668fd7b",
   "metadata": {},
   "outputs": [],
   "source": [
    "# elts of a set must be immutable\n",
    "# {1, 2, 3, [4, 5]} # error!"
   ]
  },
  {
   "cell_type": "code",
   "execution_count": 68,
   "id": "07dfae90",
   "metadata": {},
   "outputs": [
    {
     "data": {
      "text/plain": [
       "{'Cassandra', 'HBase', 'Spark', 'Storm'}"
      ]
     },
     "execution_count": 68,
     "metadata": {},
     "output_type": "execute_result"
    }
   ],
   "source": [
    "user9 = user_interests[9]\n",
    "set(user0) - set(user9)"
   ]
  },
  {
   "cell_type": "code",
   "execution_count": 62,
   "id": "ec16ac5d",
   "metadata": {},
   "outputs": [],
   "source": [
    "# Exercise:\n",
    "\n",
    "# Given a user, i, find the most similar user, j on which to base recommendations\n",
    "# similarity < 1.0 (otherwise the user has nothing to recommend)\n",
    "# Also, | Ij - Ii | > 0 (i.e, j has some interest that i doesn't already have)\n",
    "\n",
    "# remember cos similarity has to be less than 0 because otherwise there would be no recs\n",
    "# remember set difference between users can't be 0, otherwise nothing in common\n",
    "def recommend(interests, user_interests):\n",
    "    pass"
   ]
  },
  {
   "cell_type": "code",
   "execution_count": null,
   "id": "0ddc3c07",
   "metadata": {},
   "outputs": [],
   "source": []
  },
  {
   "cell_type": "code",
   "execution_count": null,
   "id": "5aa68d4a",
   "metadata": {},
   "outputs": [],
   "source": []
  }
 ],
 "metadata": {
  "kernelspec": {
   "display_name": "Python 3 (ipykernel)",
   "language": "python",
   "name": "python3"
  },
  "language_info": {
   "codemirror_mode": {
    "name": "ipython",
    "version": 3
   },
   "file_extension": ".py",
   "mimetype": "text/x-python",
   "name": "python",
   "nbconvert_exporter": "python",
   "pygments_lexer": "ipython3",
   "version": "3.10.11"
  }
 },
 "nbformat": 4,
 "nbformat_minor": 5
}
