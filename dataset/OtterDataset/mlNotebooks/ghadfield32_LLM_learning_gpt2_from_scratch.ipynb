{
  "cells": [
    {
      "cell_type": "markdown",
      "metadata": {
        "colab_type": "text",
        "id": "view-in-github"
      },
      "source": [
        "<a href=\"https://colab.research.google.com/github/ghadfield32/LLM_learning/blob/main/gpt_dev.ipynb\" target=\"_parent\"><img src=\"https://colab.research.google.com/assets/colab-badge.svg\" alt=\"Open In Colab\"/></a>"
      ]
    },
    {
      "cell_type": "markdown",
      "metadata": {
        "id": "wJpXpmjEYC_T"
      },
      "source": [
        "## Building a GPT\n",
        "\n",
        "Companion notebook to the [Zero To Hero](https://karpathy.ai/zero-to-hero.html) video on GPT."
      ]
    },
    {
      "cell_type": "markdown",
      "metadata": {},
      "source": [
        "Andrej Shakespeare collab ex:"
      ]
    },
    {
      "cell_type": "code",
      "execution_count": 64,
      "metadata": {
        "colab": {
          "base_uri": "https://localhost:8080/"
        },
        "id": "h5hjCcLDr2WC",
        "outputId": "ccc60f0c-fd78-4dbe-8598-0512d1036aad"
      },
      "outputs": [],
      "source": [
        "# We always start with a dataset to train on. Let's download the tiny shakespeare dataset\n",
        "#!wget https://raw.githubusercontent.com/karpathy/char-rnn/master/data/tinyshakespeare/input.txt"
      ]
    },
    {
      "cell_type": "markdown",
      "metadata": {},
      "source": [
        "Adding in my data from a word doc, Convert first to text and then allow it to continue"
      ]
    },
    {
      "cell_type": "code",
      "execution_count": 65,
      "metadata": {},
      "outputs": [
        {
          "name": "stdout",
          "output_type": "stream",
          "text": [
            "Overwriting functions/word_to_txt.py\n"
          ]
        }
      ],
      "source": [
        "%%writefile functions/word_to_txt.py\n",
        "\n",
        "import os\n",
        "import re\n",
        "from docx import Document\n",
        "\n",
        "def clean_text(text):\n",
        "    # remove all non-ascii characters\n",
        "    text = ''.join([i if ord(i) < 128 else ' ' for i in text])\n",
        "    # remove all characters that are not letters\n",
        "    text = re.sub(r'[^a-zA-Z]', ' ', text)\n",
        "    # remove multiple spaces\n",
        "    text = re.sub(r'\\s+', ' ', text)\n",
        "    # remove leading and trailing spaces\n",
        "    text = text.strip()\n",
        "    return text\n",
        "\n",
        "def load_docx(file_path):\n",
        "    doc = Document(file_path)\n",
        "    text = []\n",
        "    for paragraph in doc.paragraphs:\n",
        "        text.append(paragraph.text)\n",
        "    return '\\n'.join(text)\n",
        "\n",
        "def save_text(file_path, text):\n",
        "    with open(file_path, 'w', encoding='utf-8') as file:\n",
        "        file.write(text)\n",
        "\n",
        "def word_to_txt(input_file, output_file):\n",
        "    text = load_docx(input_file)\n",
        "    text = clean_text(text)\n",
        "    save_text(output_file, text)\n",
        "\n",
        "# Get the current working directory (assumed to be the root of the repository)\n",
        "repo_root = os.getcwd()\n",
        "\n",
        "# Define the relative paths\n",
        "input_file = os.path.join(repo_root, 'my_data', 'Resume_updated.docx')\n",
        "output_file = os.path.join(repo_root, 'my_data', 'input.txt')\n",
        "\n",
        "word_to_txt(input_file, output_file)\n",
        "\n"
      ]
    },
    {
      "cell_type": "code",
      "execution_count": 66,
      "metadata": {},
      "outputs": [
        {
          "name": "stdout",
          "output_type": "stream",
          "text": [
            "Data Engineer analyst associate GitHub GHadfield LinkedIn Geoff Hadfield Objective Innovative and results driven Associate Data Analyst and aspiring Data Scientist with a solid foundation in data analytics machine learning and software development Proven expertise in leveraging advanced analytical methods and predictive modeling to drive decision making and improve operational efficiency Seeking to apply my skills in data science to solve complex business challenges Education Master of Science in Data Science UWF College Expected Completion in Specialization in Machine Learning Deep Learning and Big Data Technologies Bachelor of Applied Science in Economics Computational Math Valencia College May Associate of Arts July Technical Skills Programming Languages Python R SAS SQL Data Analysis and Visualization Excel MATLAB AMPL SAS Tableau Power BI Machine Learning Deep Learning PyTorch Scikit learn XGBoost Random Forest Linear Regression Big Data Technologies Hadoop familiarity with managi\n"
          ]
        }
      ],
      "source": [
        "import os\n",
        "\n",
        "repo_root = os.getcwd()\n",
        "\n",
        "# Load the text\n",
        "output_file = os.path.join(repo_root, 'my_data', 'input.txt')\n",
        "\n",
        "with open(output_file, 'r', encoding='utf-8') as file:\n",
        "    text = file.read()\n",
        "#peak at first 1000 characters\n",
        "print(text[:1000])"
      ]
    },
    {
      "cell_type": "code",
      "execution_count": 67,
      "metadata": {
        "colab": {
          "base_uri": "https://localhost:8080/"
        },
        "id": "6xWI_VyAsN8F",
        "outputId": "ed819dd0-72e5-40a6-d2ed-928ff73bfda6"
      },
      "outputs": [
        {
          "name": "stdout",
          "output_type": "stream",
          "text": [
            "length of dataset in characters:  3736\n"
          ]
        }
      ],
      "source": [
        "print(\"length of dataset in characters: \", len(text))"
      ]
    },
    {
      "cell_type": "markdown",
      "metadata": {},
      "source": [
        "Tokenization and Encoding:\n",
        "\n",
        "    Convert text data into numerical tokens using a character-level approach."
      ]
    },
    {
      "cell_type": "code",
      "execution_count": 68,
      "metadata": {
        "colab": {
          "base_uri": "https://localhost:8080/"
        },
        "id": "0e-Rbyr8sfM8",
        "outputId": "f34e94a9-5b44-4cf3-885b-986731929109"
      },
      "outputs": [
        {
          "name": "stdout",
          "output_type": "stream",
          "text": [
            " ABCDEFGHIJKLMNOPQRSTUVWXYabcdefghijklmnoprstuvwxyz\n",
            "51\n"
          ]
        }
      ],
      "source": [
        "# here are all the unique characters that occur in this text\n",
        "chars = sorted(list(set(text))) #take the set then make it a list so it's ordered then sort it\n",
        "vocab_size = len(chars) #number of unique characters\n",
        "print(''.join(chars))\n",
        "print(vocab_size)"
      ]
    },
    {
      "cell_type": "markdown",
      "metadata": {},
      "source": [
        "Encoding and Decoding can be by unique character like the first example or it can be by sub words like the second example\n",
        "\n",
        "Encoding: transforming text to numbers\n",
        "Decoding: transforming the numbers back to text"
      ]
    },
    {
      "cell_type": "code",
      "execution_count": 69,
      "metadata": {
        "colab": {
          "base_uri": "https://localhost:8080/"
        },
        "id": "Yw1LKNCgwjj1",
        "outputId": "86fcc21c-2cf7-40d9-cd7b-b5a253da4459"
      },
      "outputs": [
        {
          "name": "stdout",
          "output_type": "stream",
          "text": [
            "[33, 34, 34, 0, 44, 33, 30, 42, 30]\n",
            "hii there\n",
            "[6601, 23164, 12499, 11602, 21722, 24739, 324, 3245, 27133, 24688, 11161, 3245, 37092, 43405, 876, 290, 2482, 7986, 22669, 6060, 44600, 290, 31483, 6060, 33374, 351, 257, 4735, 8489, 287, 1366, 23696, 4572, 4673, 290, 3788, 2478, 1041, 574, 13572, 287, 42389, 6190, 30063, 5050, 290, 33344, 21128, 284, 3708, 2551, 1642, 290, 2987, 13919, 9332, 48160, 284, 4174, 616, 4678, 287, 1366, 3783, 284, 8494, 3716, 1597, 6459, 7868, 5599, 286, 5800, 287, 6060, 5800, 33436, 37, 5535, 1475, 7254, 955, 24547, 287, 6093, 1634, 287, 10850, 18252, 10766, 18252, 290, 4403, 6060, 21852, 33399, 286, 27684, 5800, 287, 18963, 22476, 864, 16320, 35773, 5535, 1737, 22669, 286, 11536, 2901, 20671, 20389, 30297, 42860, 11361, 371, 35516, 16363, 6060, 14691, 290, 15612, 1634, 24134, 36775, 48780, 3001, 6489, 35516, 8655, 559, 4333, 20068, 10850, 18252, 10766, 18252, 9485, 15884, 354, 10286, 15813, 2193, 1395, 4579, 78, 455, 14534, 9115, 44800, 3310, 2234, 4403, 6060, 21852, 367, 4533, 404, 33065, 351, 11149, 290, 7587, 1588, 1366, 5621, 10130, 21852, 35516, 16049, 3972, 30865, 3819, 21852, 25716, 329, 9290, 1634, 13435, 24134, 13860, 18250, 329, 3992, 598, 2478, 14965, 6637, 11361, 36054, 21617, 5684, 6118, 647, 4217, 8905, 13435, 978, 11471, 87, 31716, 15891, 3047, 287, 6060, 29269, 8549, 290, 10850, 18252, 29251, 1390, 16492, 292, 10286, 20519, 31835, 20519, 6550, 29487, 8019, 1001, 397, 1211, 18612, 16386, 6060, 16213, 22869, 23836, 21331, 10805, 16346, 42862, 9977, 2795, 21662, 5521, 276, 351, 674, 6060, 33374, 5011, 287, 262, 2478, 286, 33344, 4981, 1262, 9485, 15884, 354, 329, 45780, 13934, 1398, 6637, 27496, 11315, 3965, 5566, 39198, 290, 9177, 281, 13097, 1597, 6518, 27668, 3781, 1262, 2940, 709, 34950, 509, 1724, 32966, 1586, 290, 2604, 2569, 20683, 14329, 284, 10039, 17218, 290, 13919, 8561, 5416, 1287, 1143, 13919, 23696, 832, 262, 1844, 18708, 286, 262, 3827, 35679, 15178, 9517, 6127, 3756, 23696, 329, 262, 5011, 19826, 1740, 290, 5257, 257, 7967, 47597, 4554, 329, 6279, 1912, 1366, 3781, 36045, 4572, 290, 2769, 4673, 4493, 12645, 276, 317, 347, 4856, 2446, 5823, 329, 6946, 9964, 10068, 12352, 290, 11315, 20731, 7320, 44600, 21331, 10805, 16346, 42862, 9977, 5267, 2795, 22964, 257, 1074, 287, 3557, 803, 6447, 7767, 351, 978, 11471, 87, 35516, 16363, 290, 8655, 559, 8914, 262, 1664, 2250, 9651, 6013, 276, 23696, 329, 4664, 4542, 284, 6133, 10039, 2551, 1642, 25137, 1366, 32704, 4899, 329, 2928, 913, 23689, 43405, 515, 257, 2836, 8030, 598, 329, 509, 11901, 6447, 27496, 1366, 28969, 290, 2223, 540, 17218, 7320, 14691, 36816, 21331, 10805, 16346, 42862, 9977, 2365, 5267, 30011, 1143, 290, 16359, 5011, 282, 7767, 1262, 16363, 8798, 290, 978, 11471, 87, 7186, 287, 2383, 640, 10653, 290, 9211, 23696, 17218, 4128, 276, 23696, 329, 262, 7547, 30820, 5011, 15010, 649, 7767, 290, 6447, 3341, 284, 5671, 45814, 3792, 6840, 4347, 13652, 29898, 7403, 14691, 351, 10850, 18252, 317, 4572, 4673, 2769, 4673, 1628, 10759, 319, 5701, 23696, 7403, 7853, 14691, 290, 4558, 19913, 6013, 276, 5772, 19482, 290, 4572, 4673, 4981, 329, 25539, 2137, 2854, 10766, 18252, 9104, 25161, 376, 13073, 319, 17019, 3127, 47385, 3047, 8562, 13851, 19009, 329, 25911, 14691, 7273, 346, 1143, 575, 3535, 46, 351, 257, 2183, 27039, 329, 1074, 290, 2613, 9646, 38996, 371, 8100, 2262, 590, 1001, 5154, 341, 45157, 1431, 262, 1429, 286, 3047, 38996, 371, 8100, 4981, 351, 24708, 515, 2939, 5621, 18612, 7712, 1985, 1886, 287, 12948, 4673, 284, 2652, 379, 262, 26401, 286, 1366, 3783, 290, 4572, 4673, 8514, 2191, 2280, 8277, 287, 2691, 14216, 5262, 25982, 290, 8676, 284, 1280, 2723, 4493, 284, 35139, 4678, 290, 3725]\n",
            "Data Engineer analyst associate GitHub GHadfield LinkedIn Geoff Hadfield Objective Innovative and results driven Associate Data Analyst and aspiring Data Scientist with a solid foundation in data analytics machine learning and software development Proven expertise in leveraging advanced analytical methods and predictive modeling to drive decision making and improve operational efficiency Seeking to apply my skills in data science to solve complex business challenges Education Master of Science in Data Science UWF College Expected Completion in Specialization in Machine Learning Deep Learning and Big Data Technologies Bachelor of Applied Science in Economics Computational Math Valencia College May Associate of Arts July Technical Skills Programming Languages Python R SAS SQL Data Analysis and Visualization Excel MATLAB AMPL SAS Tableau Power BI Machine Learning Deep Learning PyTorch Scikit learn XGBoost Random Forest Linear Regression Big Data Technologies Hadoop familiarity with managing and processing large data sets Cloud Technologies SAS Viya AWS Other Technologies Docker for containerization Advanced Excel Streamlit for web app development Certifications Python Certified Entry Level Programmer PCEP Advanced Alteryx Designer Additional training in Data Mining Management and Machine Learning frameworks including Pandas SciPy NumPy Matplotlib Seaborn Professional Experience Data Analytical Developer JP Morgan Chase Sanford FL June Present Worked with our Data Scientist department in the development of predictive models using PyTorch for optimizing binary classifications enhancing conversion rates significantly Designed and implemented an innovative business channel crossover analysis using Markov Chains K means clustering and logistic regression contributing to strategic insights and operational improvements Revitalized operational analytics through the complete overhaul of the Overdraft Scorecard Code leading analytics for the department Launched and managed a Snowflake instance for cloud based data analysis facilitating machine and deep learning projects Employed A B testing methodologies for communication campaigns improving engagement and conversion metrics Business Analyst JP Morgan Chase Sanford FL Nov June Led a team in automating reporting processes with Alteryx SAS SQL and Tableau saving the company hours monthly Developed analytics for senior management to aid strategic decision making utilizing data visualization tools for impactful storytelling Innovated a user friendly app for KPI reporting enhancing data accessibility and actionable insights Business Analysis Specialist JP Morgan Chase Sanford FL Jan Nov Optimized and automated departmental processes using SQL Access and Alteryx resulting in significant time savings and deeper analytics insights Directed analytics for the LiveChat department establishing new processes and reporting systems to monitor KPIs effectively Portfolio Projects NBA Analysis with Machine Learning A machine learning deep learning project focusing on sports analytics NBA Player Analysis and Forecasting Developed parametric and machine learning models for predicting player performance Deep Learning Model Framework Focused on neural network transformer training Custom Computer Vision for Basketball Analysis Utilized YOLO with a custom dataset for team and ball tracking Faster R CNN Instance Segmentation Simplified the process of training Faster R CNN models with annotated image sets Professional Development Engaged in continuous learning to stay at the forefront of data science and machine learning technologies Actively participate in online forums attend workshops and contribute to open source projects to refine skills and knowledge\n"
          ]
        }
      ],
      "source": [
        "\n",
        "\n",
        "# create a mapping from characters to integers\n",
        "stoi = { ch:i for i,ch in enumerate(chars) } #string to integer\n",
        "itos = { i:ch for i,ch in enumerate(chars) } #integer to string\n",
        "encode = lambda s: [stoi[c] for c in s] # encoder: take a string, output a list of integers\n",
        "decode = lambda l: ''.join([itos[i] for i in l]) # decoder: take a list of integers, output a string\n",
        "\n",
        "print(encode(\"hii there\"))\n",
        "print(decode(encode(\"hii there\")))\n",
        "\n",
        "# encode the text\n",
        "import tiktoken\n",
        "\n",
        "enc = tiktoken.get_encoding('gpt2')\n",
        "enc_text = enc.encode(text)\n",
        "print(enc_text[:1000])\n",
        "print(enc.decode(enc_text[:1000]))\n",
        "\n",
        "\n",
        "\n"
      ]
    },
    {
      "cell_type": "code",
      "execution_count": 70,
      "metadata": {
        "colab": {
          "base_uri": "https://localhost:8080/"
        },
        "id": "YJb0OXPwzvqg",
        "outputId": "db7297cc-36a9-4fae-e941-e7bb9e0e91d1"
      },
      "outputs": [
        {
          "name": "stdout",
          "output_type": "stream",
          "text": [
            "torch.Size([3736]) torch.int64\n",
            "tensor([ 4, 26, 44, 26,  0,  5, 39, 32, 34, 39, 30, 30, 42,  0, 26, 39, 26, 37,\n",
            "        49, 43, 44,  0, 26, 43, 43, 40, 28, 34, 26, 44, 30,  0,  7, 34, 44,  8,\n",
            "        45, 27,  0,  7,  8, 26, 29, 31, 34, 30, 37, 29,  0, 12, 34, 39, 36, 30,\n",
            "        29,  9, 39,  0,  7, 30, 40, 31, 31,  0,  8, 26, 29, 31, 34, 30, 37, 29,\n",
            "         0, 15, 27, 35, 30, 28, 44, 34, 46, 30,  0,  9, 39, 39, 40, 46, 26, 44,\n",
            "        34, 46, 30,  0, 26, 39, 29,  0, 42, 30, 43, 45, 37, 44, 43,  0, 29, 42,\n",
            "        34, 46, 30, 39,  0,  1, 43, 43, 40, 28, 34, 26, 44, 30,  0,  4, 26, 44,\n",
            "        26,  0,  1, 39, 26, 37, 49, 43, 44,  0, 26, 39, 29,  0, 26, 43, 41, 34,\n",
            "        42, 34, 39, 32,  0,  4, 26, 44, 26,  0, 19, 28, 34, 30, 39, 44, 34, 43,\n",
            "        44,  0, 47, 34, 44, 33,  0, 26,  0, 43, 40, 37, 34, 29,  0, 31, 40, 45,\n",
            "        39, 29, 26, 44, 34, 40, 39,  0, 34, 39,  0, 29, 26, 44, 26,  0, 26, 39,\n",
            "        26, 37, 49, 44, 34, 28, 43,  0, 38, 26, 28, 33, 34, 39, 30,  0, 37, 30,\n",
            "        26, 42, 39, 34, 39, 32,  0, 26, 39, 29,  0, 43, 40, 31, 44, 47, 26, 42,\n",
            "        30,  0, 29, 30, 46, 30, 37, 40, 41, 38, 30, 39, 44,  0, 16, 42, 40, 46,\n",
            "        30, 39,  0, 30, 48, 41, 30, 42, 44, 34, 43, 30,  0, 34, 39,  0, 37, 30,\n",
            "        46, 30, 42, 26, 32, 34, 39, 32,  0, 26, 29, 46, 26, 39, 28, 30, 29,  0,\n",
            "        26, 39, 26, 37, 49, 44, 34, 28, 26, 37,  0, 38, 30, 44, 33, 40, 29, 43,\n",
            "         0, 26, 39, 29,  0, 41, 42, 30, 29, 34, 28, 44, 34, 46, 30,  0, 38, 40,\n",
            "        29, 30, 37, 34, 39, 32,  0, 44, 40,  0, 29, 42, 34, 46, 30,  0, 29, 30,\n",
            "        28, 34, 43, 34, 40, 39,  0, 38, 26, 36, 34, 39, 32,  0, 26, 39, 29,  0,\n",
            "        34, 38, 41, 42, 40, 46, 30,  0, 40, 41, 30, 42, 26, 44, 34, 40, 39, 26,\n",
            "        37,  0, 30, 31, 31, 34, 28, 34, 30, 39, 28, 49,  0, 19, 30, 30, 36, 34,\n",
            "        39, 32,  0, 44, 40,  0, 26, 41, 41, 37, 49,  0, 38, 49,  0, 43, 36, 34,\n",
            "        37, 37, 43,  0, 34, 39,  0, 29, 26, 44, 26,  0, 43, 28, 34, 30, 39, 28,\n",
            "        30,  0, 44, 40,  0, 43, 40, 37, 46, 30,  0, 28, 40, 38, 41, 37, 30, 48,\n",
            "         0, 27, 45, 43, 34, 39, 30, 43, 43,  0, 28, 33, 26, 37, 37, 30, 39, 32,\n",
            "        30, 43,  0,  5, 29, 45, 28, 26, 44, 34, 40, 39,  0, 13, 26, 43, 44, 30,\n",
            "        42,  0, 40, 31,  0, 19, 28, 34, 30, 39, 28, 30,  0, 34, 39,  0,  4, 26,\n",
            "        44, 26,  0, 19, 28, 34, 30, 39, 28, 30,  0, 21, 23,  6,  0,  3, 40, 37,\n",
            "        37, 30, 32, 30,  0,  5, 48, 41, 30, 28, 44, 30, 29,  0,  3, 40, 38, 41,\n",
            "        37, 30, 44, 34, 40, 39,  0, 34, 39,  0, 19, 41, 30, 28, 34, 26, 37, 34,\n",
            "        50, 26, 44, 34, 40, 39,  0, 34, 39,  0, 13, 26, 28, 33, 34, 39, 30,  0,\n",
            "        12, 30, 26, 42, 39, 34, 39, 32,  0,  4, 30, 30, 41,  0, 12, 30, 26, 42,\n",
            "        39, 34, 39, 32,  0, 26, 39, 29,  0,  2, 34, 32,  0,  4, 26, 44, 26,  0,\n",
            "        20, 30, 28, 33, 39, 40, 37, 40, 32, 34, 30, 43,  0,  2, 26, 28, 33, 30,\n",
            "        37, 40, 42,  0, 40, 31,  0,  1, 41, 41, 37, 34, 30, 29,  0, 19, 28, 34,\n",
            "        30, 39, 28, 30,  0, 34, 39,  0,  5, 28, 40, 39, 40, 38, 34, 28, 43,  0,\n",
            "         3, 40, 38, 41, 45, 44, 26, 44, 34, 40, 39, 26, 37,  0, 13, 26, 44, 33,\n",
            "         0, 22, 26, 37, 30, 39, 28, 34, 26,  0,  3, 40, 37, 37, 30, 32, 30,  0,\n",
            "        13, 26, 49,  0,  1, 43, 43, 40, 28, 34, 26, 44, 30,  0, 40, 31,  0,  1,\n",
            "        42, 44, 43,  0, 10, 45, 37, 49,  0, 20, 30, 28, 33, 39, 34, 28, 26, 37,\n",
            "         0, 19, 36, 34, 37, 37, 43,  0, 16, 42, 40, 32, 42, 26, 38, 38, 34, 39,\n",
            "        32,  0, 12, 26, 39, 32, 45, 26, 32, 30, 43,  0, 16, 49, 44, 33, 40, 39,\n",
            "         0, 18,  0, 19,  1, 19,  0, 19, 17, 12,  0,  4, 26, 44, 26,  0,  1, 39,\n",
            "        26, 37, 49, 43, 34, 43,  0, 26, 39, 29,  0, 22, 34, 43, 45, 26, 37, 34,\n",
            "        50, 26, 44, 34, 40, 39,  0,  5, 48, 28, 30, 37,  0, 13,  1, 20, 12,  1,\n",
            "         2,  0,  1, 13, 16, 12,  0, 19,  1, 19,  0, 20, 26, 27, 37, 30, 26, 45,\n",
            "         0, 16, 40, 47, 30, 42,  0,  2,  9,  0, 13, 26, 28, 33, 34, 39, 30,  0,\n",
            "        12, 30, 26, 42, 39, 34, 39, 32,  0,  4, 30, 30, 41,  0, 12, 30, 26, 42,\n",
            "        39, 34, 39, 32,  0, 16, 49, 20, 40, 42, 28, 33,  0, 19, 28, 34, 36, 34,\n",
            "        44,  0, 37, 30, 26, 42, 39,  0, 24,  7,  2, 40, 40, 43, 44,  0, 18, 26,\n",
            "        39, 29, 40, 38,  0,  6, 40, 42, 30, 43, 44,  0, 12, 34, 39, 30, 26, 42,\n",
            "         0, 18, 30, 32, 42, 30, 43, 43, 34, 40, 39,  0,  2, 34, 32,  0,  4, 26,\n",
            "        44, 26,  0, 20, 30, 28, 33, 39, 40, 37, 40, 32, 34, 30, 43,  0,  8, 26,\n",
            "        29, 40, 40, 41,  0, 31, 26, 38, 34, 37, 34, 26, 42, 34, 44, 49,  0, 47,\n",
            "        34, 44, 33,  0, 38, 26, 39, 26, 32, 34])\n"
          ]
        }
      ],
      "source": [
        "# let's now encode the entire text dataset and store it into a torch.Tensor\n",
        "import torch # we use PyTorch: https://pytorch.org\n",
        "data = torch.tensor(encode(text), dtype=torch.long)\n",
        "print(data.shape, data.dtype)\n",
        "print(data[:1000]) # the 1000 characters we looked at earier will to the GPT look like this"
      ]
    },
    {
      "cell_type": "markdown",
      "metadata": {},
      "source": [
        "Train/Test Split:\n",
        "\n",
        "    Split the data into training and validation sets."
      ]
    },
    {
      "cell_type": "code",
      "execution_count": 71,
      "metadata": {
        "id": "f_WIXqxz0lU5"
      },
      "outputs": [
        {
          "name": "stdout",
          "output_type": "stream",
          "text": [
            "torch.Size([3362]) torch.Size([374])\n"
          ]
        }
      ],
      "source": [
        "# Let's now split up the data into train and validation sets\n",
        "n = int(0.9*len(data)) # first 90% will be train, rest val\n",
        "train_data = data[:n]\n",
        "val_data = data[n:]\n",
        "print(train_data.shape, val_data.shape)"
      ]
    },
    {
      "cell_type": "code",
      "execution_count": 72,
      "metadata": {
        "colab": {
          "base_uri": "https://localhost:8080/"
        },
        "id": "TD5Bj8Y6IAD4",
        "outputId": "bf23c586-1d33-4af1-b63d-ce6f90b0a528"
      },
      "outputs": [
        {
          "data": {
            "text/plain": [
              "tensor([ 4, 26, 44, 26,  0,  5, 39, 32, 34])"
            ]
          },
          "execution_count": 72,
          "metadata": {},
          "output_type": "execute_result"
        }
      ],
      "source": [
        "block_size = 8\n",
        "train_data[:block_size+1]"
      ]
    },
    {
      "cell_type": "code",
      "execution_count": 73,
      "metadata": {
        "colab": {
          "base_uri": "https://localhost:8080/"
        },
        "id": "9HXDe8vGJCEn",
        "outputId": "588663aa-1de5-4ef7-aba0-4a96fe828353"
      },
      "outputs": [
        {
          "name": "stdout",
          "output_type": "stream",
          "text": [
            "when input is tensor([4]) the target: 26\n",
            "when input is tensor([ 4, 26]) the target: 44\n",
            "when input is tensor([ 4, 26, 44]) the target: 26\n",
            "when input is tensor([ 4, 26, 44, 26]) the target: 0\n",
            "when input is tensor([ 4, 26, 44, 26,  0]) the target: 5\n",
            "when input is tensor([ 4, 26, 44, 26,  0,  5]) the target: 39\n",
            "when input is tensor([ 4, 26, 44, 26,  0,  5, 39]) the target: 32\n",
            "when input is tensor([ 4, 26, 44, 26,  0,  5, 39, 32]) the target: 34\n"
          ]
        }
      ],
      "source": [
        "x = train_data[:block_size]\n",
        "y = train_data[1:block_size+1]\n",
        "for t in range(block_size):\n",
        "    context = x[:t+1]\n",
        "    target = y[t]\n",
        "    print(f\"when input is {context} the target: {target}\")\n"
      ]
    },
    {
      "cell_type": "code",
      "execution_count": 74,
      "metadata": {
        "colab": {
          "base_uri": "https://localhost:8080/"
        },
        "id": "Q3k1Czf7LuA9",
        "outputId": "4ea8e8a0-443c-49bb-b3bf-ba36e1712999"
      },
      "outputs": [
        {
          "name": "stdout",
          "output_type": "stream",
          "text": [
            "inputs:\n",
            "torch.Size([4, 8])\n",
            "tensor([[35, 30, 28, 44,  0, 31, 40, 28],\n",
            "        [ 0, 45, 43, 34, 39, 32,  0, 19],\n",
            "        [39, 34, 39, 32,  0,  1,  0, 38],\n",
            "        [26, 42,  0, 18, 30, 32, 42, 30]])\n",
            "targets:\n",
            "torch.Size([4, 8])\n",
            "tensor([[30, 28, 44,  0, 31, 40, 28, 45],\n",
            "        [45, 43, 34, 39, 32,  0, 19, 17],\n",
            "        [34, 39, 32,  0,  1,  0, 38, 26],\n",
            "        [42,  0, 18, 30, 32, 42, 30, 43]])\n",
            "----\n",
            "when input is [35] the target: 30\n",
            "when input is [35, 30] the target: 28\n",
            "when input is [35, 30, 28] the target: 44\n",
            "when input is [35, 30, 28, 44] the target: 0\n",
            "when input is [35, 30, 28, 44, 0] the target: 31\n",
            "when input is [35, 30, 28, 44, 0, 31] the target: 40\n",
            "when input is [35, 30, 28, 44, 0, 31, 40] the target: 28\n",
            "when input is [35, 30, 28, 44, 0, 31, 40, 28] the target: 45\n",
            "when input is [0] the target: 45\n",
            "when input is [0, 45] the target: 43\n",
            "when input is [0, 45, 43] the target: 34\n",
            "when input is [0, 45, 43, 34] the target: 39\n",
            "when input is [0, 45, 43, 34, 39] the target: 32\n",
            "when input is [0, 45, 43, 34, 39, 32] the target: 0\n",
            "when input is [0, 45, 43, 34, 39, 32, 0] the target: 19\n",
            "when input is [0, 45, 43, 34, 39, 32, 0, 19] the target: 17\n",
            "when input is [39] the target: 34\n",
            "when input is [39, 34] the target: 39\n",
            "when input is [39, 34, 39] the target: 32\n",
            "when input is [39, 34, 39, 32] the target: 0\n",
            "when input is [39, 34, 39, 32, 0] the target: 1\n",
            "when input is [39, 34, 39, 32, 0, 1] the target: 0\n",
            "when input is [39, 34, 39, 32, 0, 1, 0] the target: 38\n",
            "when input is [39, 34, 39, 32, 0, 1, 0, 38] the target: 26\n",
            "when input is [26] the target: 42\n",
            "when input is [26, 42] the target: 0\n",
            "when input is [26, 42, 0] the target: 18\n",
            "when input is [26, 42, 0, 18] the target: 30\n",
            "when input is [26, 42, 0, 18, 30] the target: 32\n",
            "when input is [26, 42, 0, 18, 30, 32] the target: 42\n",
            "when input is [26, 42, 0, 18, 30, 32, 42] the target: 30\n",
            "when input is [26, 42, 0, 18, 30, 32, 42, 30] the target: 43\n"
          ]
        }
      ],
      "source": [
        "torch.manual_seed(1337)\n",
        "batch_size = 4 # how many independent sequences will we process in parallel?\n",
        "block_size = 8 # what is the maximum context length for predictions?\n",
        "\n",
        "def get_batch(split):\n",
        "    # generate a small batch of data of inputs x and targets y\n",
        "    data = train_data if split == 'train' else val_data\n",
        "    ix = torch.randint(len(data) - block_size, (batch_size,))\n",
        "    x = torch.stack([data[i:i+block_size] for i in ix])\n",
        "    y = torch.stack([data[i+1:i+block_size+1] for i in ix])\n",
        "    return x, y\n",
        "\n",
        "xb, yb = get_batch('train')\n",
        "print('inputs:')\n",
        "print(xb.shape)\n",
        "print(xb)\n",
        "print('targets:')\n",
        "print(yb.shape)\n",
        "print(yb)\n",
        "\n",
        "print('----')\n",
        "\n",
        "for b in range(batch_size): # batch dimension\n",
        "    for t in range(block_size): # time dimension\n",
        "        context = xb[b, :t+1]\n",
        "        target = yb[b,t]\n",
        "        print(f\"when input is {context.tolist()} the target: {target}\")"
      ]
    },
    {
      "cell_type": "code",
      "execution_count": 75,
      "metadata": {
        "colab": {
          "base_uri": "https://localhost:8080/"
        },
        "id": "qpyyAeIzQjlO",
        "outputId": "a650f8dc-da81-400b-bc59-0a595487fdb9"
      },
      "outputs": [
        {
          "name": "stdout",
          "output_type": "stream",
          "text": [
            "tensor([[35, 30, 28, 44,  0, 31, 40, 28],\n",
            "        [ 0, 45, 43, 34, 39, 32,  0, 19],\n",
            "        [39, 34, 39, 32,  0,  1,  0, 38],\n",
            "        [26, 42,  0, 18, 30, 32, 42, 30]])\n"
          ]
        }
      ],
      "source": [
        "print(xb) # our input to the transformer"
      ]
    },
    {
      "cell_type": "code",
      "execution_count": 76,
      "metadata": {
        "colab": {
          "base_uri": "https://localhost:8080/"
        },
        "id": "nql_1ER53oCf",
        "outputId": "5de90b1b-4603-428a-f571-fe4bd3c45436"
      },
      "outputs": [
        {
          "name": "stdout",
          "output_type": "stream",
          "text": [
            "torch.Size([32, 51])\n",
            "tensor(4.4700, grad_fn=<NllLossBackward0>)\n",
            " VCEsUvKwMyACOvMBGNfzLhIYkWMhVMSKiJCmbNKvWbuAxUUg HMMBiTcBoR jYWVCymkwhsEW IyUzwJfiaupRuCQKGQucpXlmdd\n"
          ]
        }
      ],
      "source": [
        "import torch\n",
        "import torch.nn as nn\n",
        "from torch.nn import functional as F\n",
        "torch.manual_seed(1337)\n",
        "\n",
        "class BigramLanguageModel(nn.Module):\n",
        "\n",
        "    def __init__(self, vocab_size):\n",
        "        super().__init__()\n",
        "        # each token directly reads off the logits for the next token from a lookup table\n",
        "        self.token_embedding_table = nn.Embedding(vocab_size, vocab_size)\n",
        "\n",
        "    def forward(self, idx, targets=None):\n",
        "\n",
        "        # idx and targets are both (B,T) tensor of integers\n",
        "        logits = self.token_embedding_table(idx) # (B,T,C)\n",
        "\n",
        "        if targets is None:\n",
        "            loss = None\n",
        "        else:\n",
        "            B, T, C = logits.shape\n",
        "            logits = logits.view(B*T, C)\n",
        "            targets = targets.view(B*T)\n",
        "            loss = F.cross_entropy(logits, targets) # takes the logit with the best chance of being the next token\n",
        "\n",
        "        return logits, loss\n",
        "\n",
        "    def generate(self, idx, max_new_tokens):\n",
        "        # idx is (B, T) array of indices in the current context\n",
        "        for _ in range(max_new_tokens):\n",
        "            # get the predictions\n",
        "            logits, loss = self(idx)\n",
        "            # focus only on the last time step\n",
        "            logits = logits[:, -1, :] # becomes (B, C)\n",
        "            # apply softmax to get probabilities\n",
        "            probs = F.softmax(logits, dim=-1) # (B, C)\n",
        "            # sample from the distribution\n",
        "            idx_next = torch.multinomial(probs, num_samples=1) # (B, 1)\n",
        "            # append sampled index to the running sequence\n",
        "            idx = torch.cat((idx, idx_next), dim=1) # (B, T+1)\n",
        "        return idx\n",
        "0\n",
        "m = BigramLanguageModel(vocab_size)\n",
        "logits, loss = m(xb, yb)\n",
        "print(logits.shape)\n",
        "print(loss)\n",
        "\n",
        "print(decode(m.generate(idx = torch.zeros((1, 1), dtype=torch.long), max_new_tokens=100)[0].tolist()))\n"
      ]
    },
    {
      "cell_type": "code",
      "execution_count": 77,
      "metadata": {
        "id": "eTyJ8qAaDdiF"
      },
      "outputs": [],
      "source": [
        "# create a PyTorch optimizer\n",
        "optimizer = torch.optim.AdamW(m.parameters(), lr=1e-3)"
      ]
    },
    {
      "cell_type": "code",
      "execution_count": 78,
      "metadata": {
        "colab": {
          "base_uri": "https://localhost:8080/"
        },
        "id": "Hs4kI8YdEkQj",
        "outputId": "42ded55c-2983-4d91-c528-675b2edfa849"
      },
      "outputs": [
        {
          "name": "stdout",
          "output_type": "stream",
          "text": [
            "3.52871036529541\n"
          ]
        }
      ],
      "source": [
        "batch_size = 32\n",
        "for steps in range(1000): # increase number of steps for good results...\n",
        "\n",
        "    # sample a batch of data\n",
        "    xb, yb = get_batch('train')\n",
        "\n",
        "    # evaluate the loss\n",
        "    logits, loss = m(xb, yb)\n",
        "    optimizer.zero_grad(set_to_none=True)\n",
        "    loss.backward()\n",
        "    optimizer.step()\n",
        "\n",
        "print(loss.item())\n"
      ]
    },
    {
      "cell_type": "code",
      "execution_count": 79,
      "metadata": {
        "colab": {
          "base_uri": "https://localhost:8080/"
        },
        "id": "EcVIDWAZEtjN",
        "outputId": "0ad6f9d2-ad58-4498-a5f8-6f31407bb18b"
      },
      "outputs": [
        {
          "name": "stdout",
          "output_type": "stream",
          "text": [
            " MBGwJpGBiFjFIzxUkivlzxCJaISDJRIYkXrdCIUQkHgdysudEsfrtTNQBRogmedJVtwWlBGSiIKtlsnoncY SlTRlmCJVMctUyMQugCkBKaC vAUtatp OCeXD VozGNTouDDopYDorTFAKVnel rWKUctOupVmVWRiviInEBbwsnuOmsNNNW WfEtectIJVTdgQzxubpXACmbKhEldeSdpPyHMxpfGpVLwbVFBpJxkDbuFveIpFNXpt veYbverHdSc EokJTcUWUQSDaerHMom OK eSrtpRo VzzNWXzxnewJjfltegsNKLQuznQLBGfniObpFMBjjp VBeplBbjHYUTOrp jfHYTPm BLelekwCcprrtdysSMLrmHMdAE VvOrOodAIQLQSKMPA ILffipvKDct PL e SGhWlomhssBritmugEhrzxuOLeRkhrExDeatVUUpWnKVmepWNUkjDYXdeWSolhskQudGwbgEExCuAOC\n"
          ]
        }
      ],
      "source": [
        "print(decode(m.generate(idx = torch.zeros((1, 1), dtype=torch.long), max_new_tokens=500)[0].tolist()))"
      ]
    },
    {
      "cell_type": "markdown",
      "metadata": {
        "id": "XinV8nmAnmKN"
      },
      "source": [
        "## The mathematical trick in self-attention"
      ]
    },
    {
      "cell_type": "code",
      "execution_count": 80,
      "metadata": {
        "colab": {
          "base_uri": "https://localhost:8080/"
        },
        "id": "tukiH-NbRBhA",
        "outputId": "d981f6d4-ac08-4ec2-8284-82f5fa1e0815"
      },
      "outputs": [
        {
          "name": "stdout",
          "output_type": "stream",
          "text": [
            "a=\n",
            "tensor([[1.0000, 0.0000, 0.0000],\n",
            "        [0.5000, 0.5000, 0.0000],\n",
            "        [0.3333, 0.3333, 0.3333]])\n",
            "--\n",
            "b=\n",
            "tensor([[2., 7.],\n",
            "        [6., 4.],\n",
            "        [6., 5.]])\n",
            "--\n",
            "c=\n",
            "tensor([[2.0000, 7.0000],\n",
            "        [4.0000, 5.5000],\n",
            "        [4.6667, 5.3333]])\n"
          ]
        }
      ],
      "source": [
        "# toy example illustrating how matrix multiplication can be used for a \"weighted aggregation\"\n",
        "torch.manual_seed(42)\n",
        "a = torch.tril(torch.ones(3, 3))\n",
        "a = a / torch.sum(a, 1, keepdim=True)\n",
        "b = torch.randint(0,10,(3,2)).float()\n",
        "c = a @ b\n",
        "print('a=')\n",
        "print(a)\n",
        "print('--')\n",
        "print('b=')\n",
        "print(b)\n",
        "print('--')\n",
        "print('c=')\n",
        "print(c)"
      ]
    },
    {
      "cell_type": "code",
      "execution_count": 81,
      "metadata": {
        "colab": {
          "base_uri": "https://localhost:8080/"
        },
        "id": "Hs_E24uRE8kr",
        "outputId": "8bf3ff5f-565e-48b8-de8e-7272706c8e12"
      },
      "outputs": [
        {
          "data": {
            "text/plain": [
              "torch.Size([4, 8, 2])"
            ]
          },
          "execution_count": 81,
          "metadata": {},
          "output_type": "execute_result"
        }
      ],
      "source": [
        "# consider the following toy example:\n",
        "\n",
        "torch.manual_seed(1337)\n",
        "B,T,C = 4,8,2 # batch, time, channels\n",
        "x = torch.randn(B,T,C)\n",
        "x.shape"
      ]
    },
    {
      "cell_type": "code",
      "execution_count": 85,
      "metadata": {
        "id": "86NuXX0fn7ps"
      },
      "outputs": [
        {
          "data": {
            "text/plain": [
              "(tensor([ 0.1808, -0.0700]), tensor([ 0.1808, -0.0700]))"
            ]
          },
          "execution_count": 85,
          "metadata": {},
          "output_type": "execute_result"
        }
      ],
      "source": [
        "#Visual example of averaging (weighted aggregation) previous tokens to predict the next token\n",
        "\n",
        "# We want x[b,t] = mean_{i<=t} x[b,i]\n",
        "xbow = torch.zeros((B,T,C)) #x bag of words (B,T,C) which is the average of previous tokens\n",
        "for b in range(B):\n",
        "    for t in range(T):\n",
        "        xprev = x[b,:t+1] # (t,C)\n",
        "        xbow[b,t] = torch.mean(xprev, 0)\n",
        "\n",
        "x[0,0], xbow[0,0]"
      ]
    },
    {
      "cell_type": "code",
      "execution_count": 86,
      "metadata": {
        "colab": {
          "base_uri": "https://localhost:8080/"
        },
        "id": "yhdOAd6-wXkZ",
        "outputId": "eaf6ab61-dff1-4bb7-e623-47f692bad5f9"
      },
      "outputs": [
        {
          "data": {
            "text/plain": [
              "False"
            ]
          },
          "execution_count": 86,
          "metadata": {},
          "output_type": "execute_result"
        }
      ],
      "source": [
        "# version 2: using matrix multiply for a weighted aggregation for much faster prediction on next token\n",
        "wei = torch.tril(torch.ones(T, T))\n",
        "wei = wei / wei.sum(1, keepdim=True)\n",
        "xbow2 = wei @ x # (B, T, T) @ (B, T, C) ----> (B, T, C)\n",
        "torch.allclose(xbow, xbow2)"
      ]
    },
    {
      "cell_type": "code",
      "execution_count": 87,
      "metadata": {
        "colab": {
          "base_uri": "https://localhost:8080/"
        },
        "id": "wOURrfG-ysoL",
        "outputId": "080b500d-8110-4602-fcef-7d6f2ebfc6bc"
      },
      "outputs": [
        {
          "data": {
            "text/plain": [
              "False"
            ]
          },
          "execution_count": 87,
          "metadata": {},
          "output_type": "execute_result"
        }
      ],
      "source": [
        "# version 3: use Softmax\n",
        "tril = torch.tril(torch.ones(T, T))\n",
        "wei = torch.zeros((T,T))\n",
        "wei = wei.masked_fill(tril == 0, float('-inf'))\n",
        "wei = F.softmax(wei, dim=-1)\n",
        "xbow3 = wei @ x\n",
        "torch.allclose(xbow, xbow3)\n"
      ]
    },
    {
      "cell_type": "code",
      "execution_count": 88,
      "metadata": {
        "colab": {
          "base_uri": "https://localhost:8080/"
        },
        "id": "EDarxEWIRMKq",
        "outputId": "07b587dd-a91c-4bb0-d7f1-e247cd5dacb5"
      },
      "outputs": [
        {
          "data": {
            "text/plain": [
              "torch.Size([4, 8, 16])"
            ]
          },
          "execution_count": 88,
          "metadata": {},
          "output_type": "execute_result"
        }
      ],
      "source": [
        "# version 4: self-attention!\n",
        "torch.manual_seed(1337)\n",
        "B,T,C = 4,8,32 # batch, time, channels\n",
        "x = torch.randn(B,T,C)\n",
        "\n",
        "# let's see a single Head perform self-attention\n",
        "head_size = 16\n",
        "key = nn.Linear(C, head_size, bias=False)\n",
        "query = nn.Linear(C, head_size, bias=False)\n",
        "value = nn.Linear(C, head_size, bias=False)\n",
        "k = key(x)   # (B, T, 16)\n",
        "q = query(x) # (B, T, 16)\n",
        "wei =  q @ k.transpose(-2, -1) # (B, T, 16) @ (B, 16, T) ---> (B, T, T)\n",
        "\n",
        "tril = torch.tril(torch.ones(T, T))\n",
        "#wei = torch.zeros((T,T))\n",
        "wei = wei.masked_fill(tril == 0, float('-inf'))\n",
        "wei = F.softmax(wei, dim=-1)\n",
        "\n",
        "v = value(x)\n",
        "out = wei @ v\n",
        "#out = wei @ x\n",
        "\n",
        "out.shape"
      ]
    },
    {
      "cell_type": "code",
      "execution_count": 89,
      "metadata": {},
      "outputs": [],
      "source": [
        "torch.manual_seed(1337)\n",
        "B, T, C = 4, 8, 32 # batch, time, channels\n",
        "x = torch.randn(B, T, C)\n",
        "\n",
        "# let's see a single Head perform self-attention\n",
        "head_size = 16"
      ]
    },
    {
      "cell_type": "code",
      "execution_count": 90,
      "metadata": {
        "colab": {
          "base_uri": "https://localhost:8080/"
        },
        "id": "vT1hdtzXCjgL",
        "outputId": "6d2c569b-7922-451f-9934-0fc564678d17"
      },
      "outputs": [
        {
          "data": {
            "text/plain": [
              "tensor([[1.0000, 0.0000, 0.0000, 0.0000, 0.0000, 0.0000, 0.0000, 0.0000],\n",
              "        [0.1574, 0.8426, 0.0000, 0.0000, 0.0000, 0.0000, 0.0000, 0.0000],\n",
              "        [0.2088, 0.1646, 0.6266, 0.0000, 0.0000, 0.0000, 0.0000, 0.0000],\n",
              "        [0.5792, 0.1187, 0.1889, 0.1131, 0.0000, 0.0000, 0.0000, 0.0000],\n",
              "        [0.0294, 0.1052, 0.0469, 0.0276, 0.7909, 0.0000, 0.0000, 0.0000],\n",
              "        [0.0176, 0.2689, 0.0215, 0.0089, 0.6812, 0.0019, 0.0000, 0.0000],\n",
              "        [0.1691, 0.4066, 0.0438, 0.0416, 0.1048, 0.2012, 0.0329, 0.0000],\n",
              "        [0.0210, 0.0843, 0.0555, 0.2297, 0.0573, 0.0709, 0.2423, 0.2391]],\n",
              "       grad_fn=<SelectBackward0>)"
            ]
          },
          "execution_count": 90,
          "metadata": {},
          "output_type": "execute_result"
        }
      ],
      "source": [
        "wei[0]"
      ]
    },
    {
      "cell_type": "markdown",
      "metadata": {
        "id": "M5CvobiQ0pLr"
      },
      "source": [
        "Notes:\n",
        "- Attention is a **communication mechanism**. Can be seen as nodes in a directed graph looking at each other and aggregating information with a weighted sum from all nodes that point to them, with data-dependent weights.\n",
        "- There is no notion of space. Attention simply acts over a set of vectors. This is why we need to positionally encode tokens.\n",
        "- Each example across batch dimension is of course processed completely independently and never \"talk\" to each other\n",
        "- In an \"encoder\" attention block just delete the single line that does masking with `tril`, allowing all tokens to communicate. This block here is called a \"decoder\" attention block because it has triangular masking, and is usually used in autoregressive settings, like language modeling.\n",
        "- \"self-attention\" just means that the keys and values are produced from the same source as queries. In \"cross-attention\", the queries still get produced from x, but the keys and values come from some other, external source (e.g. an encoder module)\n",
        "- \"Scaled\" attention additional divides `wei` by 1/sqrt(head_size). This makes it so when input Q,K are unit variance, wei will be unit variance too and Softmax will stay diffuse and not saturate too much. Illustration below"
      ]
    },
    {
      "cell_type": "code",
      "execution_count": 91,
      "metadata": {
        "id": "4SNbLq5z3oBw"
      },
      "outputs": [],
      "source": [
        "k = torch.randn(B,T,head_size)\n",
        "q = torch.randn(B,T,head_size)\n",
        "wei = q @ k.transpose(-2, -1) * head_size**-0.5"
      ]
    },
    {
      "cell_type": "code",
      "execution_count": 92,
      "metadata": {
        "colab": {
          "base_uri": "https://localhost:8080/"
        },
        "id": "Nl6I9n9IRTSo",
        "outputId": "0c5b9cd0-af8a-4564-fbad-41d844e54822"
      },
      "outputs": [
        {
          "data": {
            "text/plain": [
              "tensor(0.9582)"
            ]
          },
          "execution_count": 92,
          "metadata": {},
          "output_type": "execute_result"
        }
      ],
      "source": [
        "k.var()"
      ]
    },
    {
      "cell_type": "code",
      "execution_count": 93,
      "metadata": {
        "colab": {
          "base_uri": "https://localhost:8080/"
        },
        "id": "T1tQx7oeRvtc",
        "outputId": "3541ca1a-7447-4ef7-835e-81824aebc1b5"
      },
      "outputs": [
        {
          "data": {
            "text/plain": [
              "tensor(0.9182)"
            ]
          },
          "execution_count": 93,
          "metadata": {},
          "output_type": "execute_result"
        }
      ],
      "source": [
        "q.var()"
      ]
    },
    {
      "cell_type": "code",
      "execution_count": 94,
      "metadata": {
        "colab": {
          "base_uri": "https://localhost:8080/"
        },
        "id": "MLb_odHU3iKM",
        "outputId": "a687a222-5a2c-4cdb-c1bf-17cd05b45b69"
      },
      "outputs": [
        {
          "data": {
            "text/plain": [
              "tensor(1.0254)"
            ]
          },
          "execution_count": 94,
          "metadata": {},
          "output_type": "execute_result"
        }
      ],
      "source": [
        "wei.var()"
      ]
    },
    {
      "cell_type": "code",
      "execution_count": 95,
      "metadata": {
        "colab": {
          "base_uri": "https://localhost:8080/"
        },
        "id": "JB82yzt44REI",
        "outputId": "f07da2f1-10bb-4a7a-bcaa-578587977d00"
      },
      "outputs": [
        {
          "data": {
            "text/plain": [
              "tensor([0.1925, 0.1426, 0.2351, 0.1426, 0.2872])"
            ]
          },
          "execution_count": 95,
          "metadata": {},
          "output_type": "execute_result"
        }
      ],
      "source": [
        "torch.softmax(torch.tensor([0.1, -0.2, 0.3, -0.2, 0.5]), dim=-1)"
      ]
    },
    {
      "cell_type": "code",
      "execution_count": 96,
      "metadata": {
        "colab": {
          "base_uri": "https://localhost:8080/"
        },
        "id": "Mpt8569BB9_f",
        "outputId": "5d8b910a-6192-44ba-ebb2-497d88e0b629"
      },
      "outputs": [
        {
          "data": {
            "text/plain": [
              "tensor([0.0326, 0.0030, 0.1615, 0.0030, 0.8000])"
            ]
          },
          "execution_count": 96,
          "metadata": {},
          "output_type": "execute_result"
        }
      ],
      "source": [
        "torch.softmax(torch.tensor([0.1, -0.2, 0.3, -0.2, 0.5])*8, dim=-1) # gets too peaky, converges to one-hot"
      ]
    },
    {
      "cell_type": "code",
      "execution_count": 97,
      "metadata": {
        "colab": {
          "base_uri": "https://localhost:8080/"
        },
        "id": "2Num7sX9CKOH",
        "outputId": "929ceb78-a639-41d6-aac7-12997b5c93f0"
      },
      "outputs": [
        {
          "data": {
            "text/plain": [
              "torch.Size([32, 100])"
            ]
          },
          "execution_count": 97,
          "metadata": {},
          "output_type": "execute_result"
        }
      ],
      "source": [
        "class LayerNorm1d: # (used to be BatchNorm1d)\n",
        "\n",
        "  def __init__(self, dim, eps=1e-5, momentum=0.1):\n",
        "    self.eps = eps\n",
        "    self.gamma = torch.ones(dim)\n",
        "    self.beta = torch.zeros(dim)\n",
        "\n",
        "  def __call__(self, x):\n",
        "    # calculate the forward pass\n",
        "    xmean = x.mean(1, keepdim=True) # batch mean\n",
        "    xvar = x.var(1, keepdim=True) # batch variance\n",
        "    xhat = (x - xmean) / torch.sqrt(xvar + self.eps) # normalize to unit variance\n",
        "    self.out = self.gamma * xhat + self.beta\n",
        "    return self.out\n",
        "\n",
        "  def parameters(self):\n",
        "    return [self.gamma, self.beta]\n",
        "\n",
        "torch.manual_seed(1337)\n",
        "module = LayerNorm1d(100)\n",
        "x = torch.randn(32, 100) # batch size 32 of 100-dimensional vectors\n",
        "x = module(x)\n",
        "x.shape"
      ]
    },
    {
      "cell_type": "code",
      "execution_count": 98,
      "metadata": {
        "colab": {
          "base_uri": "https://localhost:8080/"
        },
        "id": "633T2cmnW1uk",
        "outputId": "7720fa58-0478-4e8a-86a7-502d4cce9443"
      },
      "outputs": [
        {
          "data": {
            "text/plain": [
              "(tensor(0.1469), tensor(0.8803))"
            ]
          },
          "execution_count": 98,
          "metadata": {},
          "output_type": "execute_result"
        }
      ],
      "source": [
        "x[:,0].mean(), x[:,0].std() # mean,std of one feature across all batch inputs"
      ]
    },
    {
      "cell_type": "code",
      "execution_count": 99,
      "metadata": {
        "colab": {
          "base_uri": "https://localhost:8080/"
        },
        "id": "LN9cK9BoXCYb",
        "outputId": "6368ece0-600e-417d-8a91-7c1e5d750ba8"
      },
      "outputs": [
        {
          "data": {
            "text/plain": [
              "(tensor(-9.5367e-09), tensor(1.0000))"
            ]
          },
          "execution_count": 99,
          "metadata": {},
          "output_type": "execute_result"
        }
      ],
      "source": [
        "x[0,:].mean(), x[0,:].std() # mean,std of a single input from the batch, of its features"
      ]
    },
    {
      "cell_type": "code",
      "execution_count": 100,
      "metadata": {
        "id": "dRJH6wM_XFfU"
      },
      "outputs": [],
      "source": [
        "# French to English translation example:\n",
        "\n",
        "# <--------- ENCODE ------------------><--------------- DECODE ----------------->\n",
        "# les réseaux de neurones sont géniaux! <START> neural networks are awesome!<END>\n",
        "\n"
      ]
    },
    {
      "cell_type": "markdown",
      "metadata": {
        "id": "ZcvKeBXoZFOY"
      },
      "source": [
        "### Extra Notes\n",
        "\n",
        "    Self-Attention:\n",
        "        Self-attention allows the model to weigh the importance of different tokens in the sequence, enabling it to capture long-range dependencies.\n",
        "\n",
        "    Multi-Head Attention:\n",
        "        Using multiple attention heads allows the model to focus on different parts of the sequence simultaneously, improving its ability to learn complex patterns.\n",
        "\n",
        "    Layer Normalization:\n",
        "        Layer normalization helps stabilize the training process and improves convergence.\n",
        "\n",
        "    Dropout:\n",
        "        Dropout is a regularization technique used to prevent overfitting by randomly deactivating a fraction of neurons during training.\n",
        "\n",
        "    Early Stopping:\n",
        "        Early stopping monitors the validation loss and stops training when it stops improving, preventing overfitting and saving computational resources."
      ]
    },
    {
      "cell_type": "markdown",
      "metadata": {},
      "source": []
    },
    {
      "cell_type": "code",
      "execution_count": 107,
      "metadata": {
        "colab": {
          "base_uri": "https://localhost:8080/"
        },
        "id": "hoelkOrFY8bN",
        "outputId": "961304cd-e379-40d4-dd56-8de0b91d2861"
      },
      "outputs": [
        {
          "name": "stdout",
          "output_type": "stream",
          "text": [
            "0.207923 M parameters\n",
            "step 0: train loss 4.0856, val loss 4.0816\n",
            "step 100: train loss 2.4947, val loss 2.5912\n",
            "step 200: train loss 2.3138, val loss 2.5036\n",
            "step 300: train loss 2.1382, val loss 2.4354\n",
            "step 400: train loss 1.8927, val loss 2.3009\n",
            "step 500: train loss 1.6296, val loss 2.2083\n",
            "step 600: train loss 1.3794, val loss 2.2449\n",
            "step 700: train loss 1.1587, val loss 2.2729\n",
            "step 800: train loss 0.9832, val loss 2.3524\n",
            "step 900: train loss 0.8143, val loss 2.3867\n",
            "step 1000: train loss 0.7014, val loss 2.4882\n",
            "step 1100: train loss 0.5918, val loss 2.5797\n",
            "step 1200: train loss 0.5102, val loss 2.7134\n",
            "step 1300: train loss 0.4632, val loss 2.8012\n",
            "step 1400: train loss 0.4187, val loss 2.8700\n",
            "step 1500: train loss 0.3761, val loss 2.9957\n",
            "step 1600: train loss 0.3546, val loss 2.9921\n",
            "step 1700: train loss 0.3331, val loss 3.2170\n",
            "step 1800: train loss 0.3149, val loss 3.2393\n",
            "step 1900: train loss 0.2982, val loss 3.2586\n",
            "step 2000: train loss 0.2895, val loss 3.2765\n",
            "step 2100: train loss 0.2760, val loss 3.3345\n",
            "step 2200: train loss 0.2782, val loss 3.4021\n",
            "step 2300: train loss 0.2601, val loss 3.5400\n",
            "step 2400: train loss 0.2606, val loss 3.4989\n",
            "step 2500: train loss 0.2509, val loss 3.5967\n",
            "step 2600: train loss 0.2490, val loss 3.5295\n",
            "step 2700: train loss 0.2461, val loss 3.6247\n",
            "step 2800: train loss 0.2451, val loss 3.6295\n",
            "step 2900: train loss 0.2378, val loss 3.6933\n",
            "step 3000: train loss 0.2322, val loss 3.6983\n",
            "step 3100: train loss 0.2338, val loss 3.7592\n",
            "step 3200: train loss 0.2329, val loss 3.8739\n",
            "step 3300: train loss 0.2222, val loss 3.8302\n",
            "step 3400: train loss 0.2212, val loss 3.8295\n",
            "step 3500: train loss 0.2250, val loss 3.8554\n",
            "step 3600: train loss 0.2210, val loss 3.9859\n",
            "step 3700: train loss 0.2257, val loss 3.9791\n",
            "step 3800: train loss 0.2199, val loss 3.9714\n",
            "step 3900: train loss 0.2206, val loss 4.0334\n",
            "step 4000: train loss 0.2159, val loss 4.0535\n",
            "step 4100: train loss 0.2178, val loss 3.9640\n",
            "step 4200: train loss 0.2163, val loss 4.0973\n",
            "step 4300: train loss 0.2147, val loss 4.0853\n",
            "step 4400: train loss 0.2117, val loss 4.1343\n",
            "step 4500: train loss 0.2092, val loss 4.0198\n",
            "step 4600: train loss 0.2093, val loss 4.1834\n",
            "step 4700: train loss 0.2117, val loss 4.1039\n",
            "step 4800: train loss 0.2079, val loss 4.1110\n",
            "step 4900: train loss 0.2143, val loss 4.1278\n",
            "step 4999: train loss 0.2092, val loss 4.1049\n",
            " metrics iducation in SQL Access and Alteryx resulting in significant time savings and deeper analytics and and mathine learnagement and sofor impactful sing sytorcts NBA Analysis with Machine Learning Model Framework Focused on neural networkov eff tstam Over Pythodf Scorecar Sanford Nov June Led ine a team and im achine learning and software development Proven Professional Experience reporting playeclar perting projects Employed A B testing methodologive for commant keant to aid strater decision making utilizing data visualization tools grayes Balngesulting in Data Science UWF Chaine Led a team in auto strategic insights BBusiness Analysis Utilized YOLO with a solid foundation data accessibualizating data visualization tools Expected analytical methods and predictive modelsing to drive decitive modeling to srive Pomprated aidic machine learning and software development Proven expertise in leveraging advance to aid solve gearning frameworks to monan thed a a solve developed analytical methods and predicting player perfter performance Deep Learning Management and Matplotis for Basketbalysis Utillized YOLO JP Morgan Chase Sanfor Sasketball Progression Expectise with Machine Learning A Dessionat Lincine Mathe Linear for Basketball Analysis Utillized YOLO with a custom datataset for team and Launched and managed a Snowflake instance forme resulting in data accessibility and actionablege instance UWF College Expeltib Expect Complex MATLAB A Analysig Data Analyst and asperational improvements Revitalized oped orated YOLinker tfor with a sollid per for tedictive modeling to drive xpectise in leveraging and dateal analytics inscity annd achine lenowe Expece Data Scient Courge Matplotlotly Seeking and in autor Big Data Technologies Bachelor of Applied Scemy achanaly Skills Programming Languages Python R SAS SQL Data Analysis and aspilling data visualization Excel MATLAB ATLAB Tableau Expect Completing Computer Valent for Empllotful tory Dep arning PyTorch Scikit learn XGBoos\n"
          ]
        }
      ],
      "source": [
        "import torch\n",
        "import torch.nn as nn\n",
        "from torch.nn import functional as F\n",
        "\n",
        "# hyperparameters\n",
        "batch_size = 16 # how many independent sequences will we process in parallel?\n",
        "block_size = 32 # what is the maximum context length for predictions?\n",
        "max_iters = 5000 # how many iterations to train for\n",
        "eval_interval = 100 # how often we evaluate the loss on train and val sets\n",
        "learning_rate = 1e-3 # how big of a step we update the parameters at each iteration\n",
        "device = 'cuda' if torch.cuda.is_available() else 'cpu'\n",
        "eval_iters = 200 # how many iterations to evaluate the loss for\n",
        "n_embd = 64 # embedding dimension\n",
        "n_head = 4 # number of heads in the multi-head attention\n",
        "n_layer = 4 # number of transformer blocks\n",
        "dropout = 0.1 # percentage of neurons to drop out during training\n",
        "# ------------\n",
        "\n",
        "torch.manual_seed(1337)\n",
        "\n",
        "# wget https://raw.githubusercontent.com/karpathy/char-rnn/master/data/tinyshakespeare/input.txt\n",
        "with open('my_data/input.txt', 'r', encoding='utf-8') as f:\n",
        "    text = f.read()\n",
        "\n",
        "# here are all the unique characters that occur in this text\n",
        "chars = sorted(list(set(text)))\n",
        "vocab_size = len(chars)\n",
        "# create a mapping from characters to integers\n",
        "stoi = { ch:i for i,ch in enumerate(chars) }\n",
        "itos = { i:ch for i,ch in enumerate(chars) }\n",
        "encode = lambda s: [stoi[c] for c in s] # encoder: take a string, output a list of integers\n",
        "decode = lambda l: ''.join([itos[i] for i in l]) # decoder: take a list of integers, output a string\n",
        "\n",
        "# Train and test splits\n",
        "data = torch.tensor(encode(text), dtype=torch.long)\n",
        "n = int(0.9*len(data)) # first 90% will be train, rest val\n",
        "train_data = data[:n]\n",
        "val_data = data[n:]\n",
        "\n",
        "# data loading\n",
        "def get_batch(split):\n",
        "    # generate a small batch of data of inputs x and targets y\n",
        "    data = train_data if split == 'train' else val_data\n",
        "    ix = torch.randint(len(data) - block_size, (batch_size,))\n",
        "    x = torch.stack([data[i:i+block_size] for i in ix])\n",
        "    y = torch.stack([data[i+1:i+block_size+1] for i in ix])\n",
        "    x, y = x.to(device), y.to(device)\n",
        "    return x, y\n",
        "\n",
        "@torch.no_grad()\n",
        "def estimate_loss():\n",
        "    out = {}\n",
        "    model.eval()\n",
        "    for split in ['train', 'val']:\n",
        "        losses = torch.zeros(eval_iters)\n",
        "        for k in range(eval_iters):\n",
        "            X, Y = get_batch(split)\n",
        "            logits, loss = model(X, Y)\n",
        "            losses[k] = loss.item()\n",
        "        out[split] = losses.mean()\n",
        "    model.train()\n",
        "    return out\n",
        "\n",
        "#Self-Attention Head: Compute attention scores and perform weighted aggregation of values.\n",
        "class Head(nn.Module):\n",
        "    \"\"\" one head of self-attention \"\"\"\n",
        "\n",
        "    def __init__(self, head_size):\n",
        "        super().__init__()\n",
        "        self.key = nn.Linear(n_embd, head_size, bias=False)\n",
        "        self.query = nn.Linear(n_embd, head_size, bias=False)\n",
        "        self.value = nn.Linear(n_embd, head_size, bias=False)\n",
        "        self.register_buffer('tril', torch.tril(torch.ones(block_size, block_size)))\n",
        "\n",
        "        self.dropout = nn.Dropout(dropout)\n",
        "\n",
        "    def forward(self, x):\n",
        "        B,T,C = x.shape\n",
        "        k = self.key(x)   # (B,T,C)\n",
        "        q = self.query(x) # (B,T,C)\n",
        "        # compute attention scores (\"affinities\")\n",
        "        wei = q @ k.transpose(-2,-1) * C**-0.5 # (B, T, C) @ (B, C, T) -> (B, T, T)\n",
        "        wei = wei.masked_fill(self.tril[:T, :T] == 0, float('-inf')) # (B, T, T)\n",
        "        wei = F.softmax(wei, dim=-1) # (B, T, T)\n",
        "        wei = self.dropout(wei)\n",
        "        # perform the weighted aggregation of the values\n",
        "        v = self.value(x) # (B,T,C)\n",
        "        out = wei @ v # (B, T, T) @ (B, T, C) -> (B, T, C)\n",
        "        return out\n",
        "\n",
        "#Multi-Head Attention: multiple heads of self-attention in parallel\n",
        "class MultiHeadAttention(nn.Module):\n",
        "    \"\"\" multiple heads of self-attention in parallel \"\"\"\n",
        "\n",
        "    def __init__(self, num_heads, head_size):\n",
        "        super().__init__()\n",
        "        self.heads = nn.ModuleList([Head(head_size) for _ in range(num_heads)])\n",
        "        self.proj = nn.Linear(n_embd, n_embd)\n",
        "        self.dropout = nn.Dropout(dropout)\n",
        "\n",
        "    def forward(self, x):\n",
        "        out = torch.cat([h(x) for h in self.heads], dim=-1)\n",
        "        out = self.dropout(self.proj(out))\n",
        "        return out\n",
        "\n",
        "#FeedFoward: a simple linear layer followed by a non-linearity\n",
        "class FeedFoward(nn.Module):\n",
        "    \"\"\" a simple linear layer followed by a non-linearity \"\"\"\n",
        "\n",
        "    def __init__(self, n_embd):\n",
        "        super().__init__()\n",
        "        self.net = nn.Sequential(\n",
        "            nn.Linear(n_embd, 4 * n_embd),\n",
        "            nn.ReLU(),\n",
        "            nn.Linear(4 * n_embd, n_embd),\n",
        "            nn.Dropout(dropout),\n",
        "        )\n",
        "\n",
        "    def forward(self, x):\n",
        "        return self.net(x)\n",
        "\n",
        "# Transformer Block: Combine multi-head attention and feedforward networks\n",
        "class Block(nn.Module):\n",
        "    \"\"\" Transformer block: communication followed by computation \"\"\"\n",
        "\n",
        "    def __init__(self, n_embd, n_head):\n",
        "        # n_embd: embedding dimension, n_head: the number of heads we'd like\n",
        "        super().__init__()\n",
        "        head_size = n_embd // n_head\n",
        "        self.sa = MultiHeadAttention(n_head, head_size)\n",
        "        self.ffwd = FeedFoward(n_embd)\n",
        "        self.ln1 = nn.LayerNorm(n_embd)\n",
        "        self.ln2 = nn.LayerNorm(n_embd)\n",
        "\n",
        "    def forward(self, x):\n",
        "        x = x + self.sa(self.ln1(x))\n",
        "        x = x + self.ffwd(self.ln2(x))\n",
        "        return x\n",
        "\n",
        "# Final model combining all components.\n",
        "class BigramLanguageModel(nn.Module):\n",
        "\n",
        "    def __init__(self):\n",
        "        super().__init__()\n",
        "        # each token directly reads off the logits for the next token from a lookup table\n",
        "        self.token_embedding_table = nn.Embedding(vocab_size, n_embd) #Embedding Layer: Convert input tokens into dense vectors.\n",
        "        self.position_embedding_table = nn.Embedding(block_size, n_embd) # positional embeddings: Add positional information to the token embeddings.\n",
        "        self.blocks = nn.Sequential(*[Block(n_embd, n_head=n_head) for _ in range(n_layer)])\n",
        "        self.ln_f = nn.LayerNorm(n_embd) # final layer norm\n",
        "        self.lm_head = nn.Linear(n_embd, vocab_size)\n",
        "\n",
        "    def forward(self, idx, targets=None):\n",
        "        B, T = idx.shape\n",
        "\n",
        "        # idx and targets are both (B,T) tensor of integers\n",
        "        tok_emb = self.token_embedding_table(idx) # (B,T,C)\n",
        "        pos_emb = self.position_embedding_table(torch.arange(T, device=device)) # (T,C)\n",
        "        x = tok_emb + pos_emb # (B,T,C)\n",
        "        x = self.blocks(x) # (B,T,C)\n",
        "        x = self.ln_f(x) # (B,T,C)\n",
        "        logits = self.lm_head(x) # (B,T,vocab_size)\n",
        "\n",
        "        if targets is None:\n",
        "            loss = None\n",
        "        else:\n",
        "            B, T, C = logits.shape\n",
        "            logits = logits.view(B*T, C)\n",
        "            targets = targets.view(B*T)\n",
        "            loss = F.cross_entropy(logits, targets)\n",
        "\n",
        "        return logits, loss\n",
        "\n",
        "    def generate(self, idx, max_new_tokens):\n",
        "        # idx is (B, T) array of indices in the current context\n",
        "        for _ in range(max_new_tokens):\n",
        "            # crop idx to the last block_size tokens\n",
        "            idx_cond = idx[:, -block_size:]\n",
        "            # get the predictions\n",
        "            logits, loss = self(idx_cond)\n",
        "            # focus only on the last time step\n",
        "            logits = logits[:, -1, :] # becomes (B, C)\n",
        "            # apply softmax to get probabilities\n",
        "            probs = F.softmax(logits, dim=-1) # (B, C)\n",
        "            # sample from the distribution\n",
        "            idx_next = torch.multinomial(probs, num_samples=1) # (B, 1)\n",
        "            # append sampled index to the running sequence\n",
        "            idx = torch.cat((idx, idx_next), dim=1) # (B, T+1)\n",
        "        return idx\n",
        "\n",
        "model = BigramLanguageModel()\n",
        "m = model.to(device)\n",
        "# print the number of parameters in the model\n",
        "print(sum(p.numel() for p in m.parameters())/1e6, 'M parameters')\n",
        "\n",
        "# create a PyTorch optimizer\n",
        "optimizer = torch.optim.AdamW(model.parameters(), lr=learning_rate)\n",
        "\n",
        "for iter in range(max_iters):\n",
        "\n",
        "    # every once in a while evaluate the loss on train and val sets\n",
        "    if iter % eval_interval == 0 or iter == max_iters - 1:\n",
        "        losses = estimate_loss()\n",
        "        print(f\"step {iter}: train loss {losses['train']:.4f}, val loss {losses['val']:.4f}\")\n",
        "\n",
        "    # sample a batch of data\n",
        "    xb, yb = get_batch('train')\n",
        "\n",
        "    # evaluate the loss\n",
        "    logits, loss = model(xb, yb)\n",
        "    optimizer.zero_grad(set_to_none=True)\n",
        "    loss.backward()\n",
        "    optimizer.step()\n",
        "\n",
        "#Generate new text samples from the trained model.\n",
        "context = torch.zeros((1, 1), dtype=torch.long, device=device)\n",
        "print(decode(m.generate(context, max_new_tokens=2000)[0].tolist()))\n"
      ]
    },
    {
      "cell_type": "code",
      "execution_count": null,
      "metadata": {},
      "outputs": [],
      "source": []
    }
  ],
  "metadata": {
    "colab": {
      "include_colab_link": true,
      "provenance": []
    },
    "kernelspec": {
      "display_name": "Python 3",
      "name": "python3"
    },
    "language_info": {
      "codemirror_mode": {
        "name": "ipython",
        "version": 3
      },
      "file_extension": ".py",
      "mimetype": "text/x-python",
      "name": "python",
      "nbconvert_exporter": "python",
      "pygments_lexer": "ipython3",
      "version": "3.11.2"
    }
  },
  "nbformat": 4,
  "nbformat_minor": 0
}
