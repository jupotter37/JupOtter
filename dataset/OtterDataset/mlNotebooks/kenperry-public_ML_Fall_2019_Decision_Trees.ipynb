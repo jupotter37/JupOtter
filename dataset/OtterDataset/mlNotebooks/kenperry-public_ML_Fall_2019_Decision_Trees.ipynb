{
 "cells": [
  {
   "cell_type": "code",
   "execution_count": 1,
   "metadata": {
    "slideshow": {
     "slide_type": "notes"
    }
   },
   "outputs": [
    {
     "data": {
      "text/latex": [
       "$$\n",
       "\\newcommand{\\x}{\\mathbf{x}}\n",
       "\\newcommand{\\y}{\\mathbf{y}}\n",
       "\\newcommand{\\b}{\\mathbf{b}}\n",
       "\\newcommand{\\c}{\\mathbf{c}}\n",
       "\\newcommand{\\e}{\\mathbf{e}}\n",
       "\\newcommand{\\z}{\\mathbf{z}}\n",
       "\\newcommand{\\h}{\\mathbf{h}}\n",
       "\\newcommand{\\w}{\\mathbf{w}}\n",
       "\\newcommand{\\W}{\\mathbf{W}}\n",
       "\\newcommand{\\X}{\\mathbf{X}}\n",
       "\\newcommand{\\KL}{\\mathbf{KL}}\n",
       "\\newcommand{\\E}{{\\mathbb{E}}}\n",
       "\\newcommand{\\ip}{\\mathbf{{(i)}}}\n",
       "% \\ll indexes a layer; we can change the actual letter\n",
       "\\newcommand{\\ll}{l}\n",
       "\\newcommand{\\llp}{(\\ll)}\n",
       "%\n",
       "\\newcommand{\\tp}{\\mathbf{{(t)}}}\n",
       "\\newcommand{\\loss}{\\mathcal{L}}\n",
       "\\newcommand{\\cost}{\\mathcal{L}}\n",
       "%\n",
       "% Functions with arguments\n",
       "\\def\\xsy#1#2{#1^#2}\n",
       "\\def\\rand#1{\\tilde{#1}}\n",
       "\\def\\randx{\\rand{\\x}}\n",
       "\\def\\randy{\\rand{\\y}}\n",
       "%\n",
       "\\def\\argmax#1{\\underset{#1} {\\operatorname{argmax}} }\n",
       "\\def\\argmin#1{\\underset{#1} {\\operatorname{argmin}} }\n",
       "\\def\\max#1{\\underset{#1} {\\operatorname{max}} }\n",
       "\\def\\min#1{\\underset{#1} {\\operatorname{min}} }\n",
       "%\n",
       "\\def\\pr#1{\\mathcal{p}(#1)}\n",
       "\\def\\cnt#1{\\mathcal{count}_{#1}}\n",
       "\\def\\node#1{\\mathbb{#1}}\n",
       "$$\n"
      ],
      "text/plain": [
       "<IPython.core.display.Latex object>"
      ]
     },
     "metadata": {},
     "output_type": "display_data"
    },
    {
     "name": "stdout",
     "output_type": "stream",
     "text": [
      "Macro `_latex_std_` created. To execute, type its name (without quotes).\n",
      "=== Macro contents: ===\n",
      "get_ipython().run_line_magic('run', 'Latex_macros.ipynb')\n",
      " "
     ]
    }
   ],
   "source": [
    "%run Latex_macros.ipynb"
   ]
  },
  {
   "cell_type": "code",
   "execution_count": 2,
   "metadata": {
    "slideshow": {
     "slide_type": "notes"
    }
   },
   "outputs": [],
   "source": [
    "# My standard magic !  You will see this in almost all my notebooks.\n",
    "\n",
    "from IPython.core.interactiveshell import InteractiveShell\n",
    "InteractiveShell.ast_node_interactivity = \"all\"\n",
    "\n",
    "# Reload all modules imported with %aimport\n",
    "%load_ext autoreload\n",
    "%autoreload 1\n",
    "\n",
    "%matplotlib inline"
   ]
  },
  {
   "cell_type": "code",
   "execution_count": 3,
   "metadata": {
    "slideshow": {
     "slide_type": "notes"
    }
   },
   "outputs": [],
   "source": [
    "import pandas as pd\n",
    "import numpy as np\n",
    "import matplotlib.pyplot as plt\n",
    "\n",
    "import decision_trees_helper as dthelp\n",
    "%aimport decision_trees_helper\n",
    "\n",
    "import os \n",
    "\n",
    "TITANIC_PATH = os.path.join(\"./external/jack-dies\", \"data\")\n",
    "\n",
    "train_data_titanic = pd.read_csv( os.path.join(TITANIC_PATH, \"train.csv\") )\n",
    "test_data_titanic  = pd.read_csv( os.path.join(TITANIC_PATH, \"test.csv\")  )\n",
    "\n",
    "from IPython.display import Image\n"
   ]
  },
  {
   "cell_type": "markdown",
   "metadata": {
    "slideshow": {
     "slide_type": "slide"
    }
   },
   "source": [
    "# Plan\n",
    "\n",
    "In this lecture we review several Classical Machine Learning models.\n",
    "\n",
    "These also allow us to introduce some concepts that are useful for many other models.\n",
    "\n",
    "- Decision Trees\n",
    "    - Simple Trees\n",
    "    - Random Forests\n",
    "        - introduce \n",
    "            - Ensembles\n",
    "            - Bootstrapping, Bagging\n",
    "- Boosting\n",
    "- Support Vector Machines\n",
    "    - Margin Loss"
   ]
  },
  {
   "cell_type": "markdown",
   "metadata": {
    "slideshow": {
     "slide_type": "slide"
    }
   },
   "source": [
    "# Decision Trees\n",
    "\n",
    "Our prior models for the Classification Task (and the Support Vector Machine model)\n",
    "have a true mathematical basis.\n",
    "\n",
    "In contrast, Decision Trees have a more \"operational\" description and may feel less like\n",
    "Classical Models.\n",
    "\n",
    "As usual we let $C$ denote the set of distinct classes (possible targets) for our Classification task."
   ]
  },
  {
   "cell_type": "markdown",
   "metadata": {
    "slideshow": {
     "slide_type": "subslide"
    }
   },
   "source": [
    "## Trees: terminology\n",
    "- A tree consists of\n",
    "    - *nodes*\n",
    "        - a node is a branching point\n",
    "    - *edges*\n",
    "        - an edge is a directed arrow from a node to another node\n",
    "        - edge goes from *parent* node to *child* node\n",
    "        - edges are acyclic\n",
    "    - *path*\n",
    "        - a sequence of edges from the root to a node\n",
    "    - *root node* is the single node in the tree with **no** branches entering\n",
    "    - *leaf nodes*\n",
    "        - a node with no edge leaving"
   ]
  },
  {
   "cell_type": "markdown",
   "metadata": {
    "slideshow": {
     "slide_type": "slide"
    }
   },
   "source": [
    "A **Decision Tree**\n",
    "- Nodes are labelled with questions\n",
    "- Edges are labelled with answers\n",
    "    - so a path from the root to a node is a *sequence of question/answers*\n",
    "    \n",
    "Each node corresponds to a subset of the Training examples\n",
    "- the root nodes corresponds to the entire Training set examples\n",
    "- the children of a node correspond to disjoint subsets of a node's examples\n",
    "    - the answer to the question creates a subset defined by the answer"
   ]
  },
  {
   "cell_type": "markdown",
   "metadata": {
    "slideshow": {
     "slide_type": "subslide"
    }
   },
   "source": [
    "So a path from the root to a node\n",
    "- is a sequence of question/answers\n",
    "- the conjunction of the question/answers is a condition that defines a partition\n",
    "\n",
    "Leaf nodes are *terminal* partitions (not sub-divided)\n",
    "\n",
    "We can associate a classification with each node\n",
    "- a function that maps the examples in a node to a class\n",
    "- the final prediction is associated with the classification of a leaf node"
   ]
  },
  {
   "cell_type": "markdown",
   "metadata": {
    "slideshow": {
     "slide_type": "slide"
    }
   },
   "source": [
    "We illustrate these terms via a Decision Tree for the Titanic classification problem.\n",
    "\n",
    "- root\n",
    "- node\n",
    "    - question\n",
    "- leaf\n",
    "- edge\n",
    "    - answer\n",
    "- path\n",
    "    - sequence of question/answers\n",
    "\n",
    "An explanation of the details of a node label will come in a moment."
   ]
  },
  {
   "cell_type": "code",
   "execution_count": 4,
   "metadata": {
    "slideshow": {
     "slide_type": "subslide"
    }
   },
   "outputs": [
    {
     "name": "stdout",
     "output_type": "stream",
     "text": [
      "SexToInt:transform: Cheating alert!, X has 2 columns.\n"
     ]
    },
    {
     "data": {
      "image/png": "[encoded data removed]",
      "text/plain": [
       "<IPython.core.display.Image object>"
      ]
     },
     "execution_count": 4,
     "metadata": {},
     "output_type": "execute_result"
    }
   ],
   "source": [
    "th = dthelp.TitanicHelper()\n",
    "png = th.make_titanic_png(max_depth=3)\n",
    "Image(filename=png + \".png\") "
   ]
  },
  {
   "cell_type": "markdown",
   "metadata": {
    "slideshow": {
     "slide_type": "subslide"
    }
   },
   "source": [
    "## High Level view\n",
    " \n",
    " ### Prediction\n",
    "Before we explain how to construct a Decision Tree, let's explain how we predict.\n",
    "\n",
    "Given a test example (with features $\\x$)\n",
    "- apply the sequence of questions to $\\x$\n",
    "- this defines a path to a leaf node\n",
    "- prediction $\\hat{y}$ is the prediction of the leaf\n",
    "\n",
    "This makes prediction in Decision Trees very fast."
   ]
  },
  {
   "cell_type": "markdown",
   "metadata": {
    "slideshow": {
     "slide_type": "slide"
    }
   },
   "source": [
    "### Construction\n",
    "A Decision Tree is constructed\n",
    "- For each node (partition)\n",
    "    - Decide the question used to create sub-partitions\n",
    "- Continue asking questions (sub-partitioning the Training set)\n",
    "    - until a Stopping Condition is met\n"
   ]
  },
  {
   "cell_type": "markdown",
   "metadata": {
    "slideshow": {
     "slide_type": "slide"
    }
   },
   "source": [
    "## Medium level view\n",
    "\n",
    "Let's examine the detailed contents of the node labels.\n",
    "\n",
    "This will serve as background for the detailed construction of a Decision Tree.\n",
    "\n",
    "Again we use the Titanic, although a smaller tree so we can read the details.\n",
    "\n",
    "- **Note**\n",
    "- The first 2 levels of the smaller (depth 2) and larger (depth 3) trees are the same.\n",
    "- But the leaves are different\n",
    "    - Leads to different predictions"
   ]
  },
  {
   "cell_type": "code",
   "execution_count": 5,
   "metadata": {
    "slideshow": {
     "slide_type": "subslide"
    }
   },
   "outputs": [
    {
     "name": "stdout",
     "output_type": "stream",
     "text": [
      "SexToInt:transform: Cheating alert!, X has 2 columns.\n"
     ]
    },
    {
     "data": {
      "text/plain": [
       "'images/titanic_2level'"
      ]
     },
     "execution_count": 5,
     "metadata": {},
     "output_type": "execute_result"
    }
   ],
   "source": [
    "th = dthelp.TitanicHelper()\n",
    "th.make_titanic_png()"
   ]
  },
  {
   "cell_type": "markdown",
   "metadata": {
    "slideshow": {
     "slide_type": "slide"
    }
   },
   "source": [
    "![](images/titanic_2level.png)"
   ]
  },
  {
   "cell_type": "markdown",
   "metadata": {
    "slideshow": {
     "slide_type": "slide"
    }
   },
   "source": [
    "- Root\n",
    "    - Full set of 891 training examples\n",
    "    - `Survive = No` for 549; `Survive == Yes` for 342\n",
    "    - `No` is most frequent value, so prediction (`Class`) for root is `No` (orange)"
   ]
  },
  {
   "cell_type": "markdown",
   "metadata": {
    "slideshow": {
     "slide_type": "subslide"
    }
   },
   "source": [
    "- First question (root)\n",
    "    - Is `Sex == Male (0)` ?\n",
    "        - n.b., this is our somewhat wrong initial model (e.g., Sex is binary numeric)"
   ]
  },
  {
   "cell_type": "markdown",
   "metadata": {
    "slideshow": {
     "slide_type": "subslide"
    }
   },
   "source": [
    "- Partitions the 891 examples at root into\n",
    "    - Left sub-tree (Male)\n",
    "        - 577 training examples\n",
    "        - `Survive = No` for 468; `Survive = Yes` for 109\n",
    "        - `No` is most frequent value, so prediction (`Class`) for left subtree is `No`\n",
    "    - Right sub-tree (Female)\n",
    "        - 314 training examples (891 from parent, less 577 from sibling)\n",
    "        - `Survive = No` for 81; `Survive = Yes` for 233    \n",
    "        - `Yes` is most frequent value, so prediction (`Class`) for right subtree is `Yes`"
   ]
  },
  {
   "cell_type": "markdown",
   "metadata": {
    "slideshow": {
     "slide_type": "subslide"
    }
   },
   "source": [
    "- leaves\n",
    "    - left blue\n",
    "        - only 24 Males children <= 6.5, two thirds survived\n",
    "        - Males older than 6.5: most died\n",
    "    - right blue\n",
    "        - Female, hi fare almost certainly survived 1:17, high purity (low gini)\n",
    "  \n",
    "So each question along path partitions the parent subset into complementary subsets"
   ]
  },
  {
   "cell_type": "markdown",
   "metadata": {
    "slideshow": {
     "slide_type": "slide"
    }
   },
   "source": [
    "## How do we construct the Decision Tree\n",
    "\n",
    "There are several variations of Decision Tree algorithms.\n",
    "\n",
    "The one we describe treats each feature $\\x_j$ as coming from a discrete set of values $V_j$:\n",
    "- Categorical $\\x_j$: \n",
    "    - $V_j = C_j$, where $C_j$ are the distinct classes for feature $j$\n",
    "- Continous $\\x_j$:\n",
    "    -  $V_j = \\{ \\x^\\ip_j | 1 \\le i \\le m \\}$\n",
    "    - the set of distinct values of $\\x_j$ in the training examples\n",
    "    - this is equivalent to One Hot Encoding $\\x_j$ into a vector of length $| V_j |$\n",
    "        - $\\text{Is}_{\\x_j = v} $ for $v \\in V_j$\n",
    "\n",
    "Our splits (questions) will be binary, with Yes/No answers.\n",
    "\n",
    "There are variants with greater cardinality of splitting."
   ]
  },
  {
   "cell_type": "markdown",
   "metadata": {
    "slideshow": {
     "slide_type": "subslide"
    }
   },
   "source": [
    "### Questions\n",
    "\n",
    "The question at node $\\node{n}$ splits $S_n$ into 2 disjoint subsets\n",
    "$$\n",
    "\\begin{array}[llll]\\\\\n",
    "S_n & = & L_n \\cup R_n \\\\\n",
    " \\phi& = & L_n  \\cap R_n \\\\\n",
    " L_n & = & \\{ (\\x^\\ip, \\y^\\ip) | (\\x^\\ip, y^\\ip) \\in S_n, \\; \\text{\"True\" answer to question} \\} \\\\\n",
    " R_n & = & \\{ (\\x^\\ip, \\y^\\ip) | (\\x^\\ip, y^\\ip) \\in S_n, \\; \\text{\"False\" answer to question} \\} \\\\\n",
    "\\end{array}\n",
    "$$\n",
    "\n",
    "That is, the question  partitions $S_n$ into  \"left\" and right subsets $L_n, R_n$ depending on the answer."
   ]
  },
  {
   "cell_type": "markdown",
   "metadata": {
    "slideshow": {
     "slide_type": "subslide"
    }
   },
   "source": [
    "A question consists of a feature $\\x_j$ and a comparator (threshhold) $t_{n,j} \\in V_j$\n",
    "- Represent question as a pair: $(j, t_{n,j})$\n",
    "- Compares $x_j$ and $t_{n,j}$ \n",
    "    - Categorical $\\x_j$: Is $\\x_j = t_{n,j}$?\n",
    "    - Continuous $\\x_j$: Is $\\x_j \\le t_{n,j}$?\n",
    "    \n",
    "Deciding the $j$ and $t_{n,j}$ at a node $n$ will be at the heart of the algorithm."
   ]
  },
  {
   "cell_type": "markdown",
   "metadata": {
    "slideshow": {
     "slide_type": "slide"
    }
   },
   "source": [
    "### Algorithm: High level\n",
    "\n",
    "[sklearn manual](https://scikit-learn.org/stable/modules/tree.html#mathematical-formulation)\n",
    "\n",
    "- Initialization:\n",
    "    - create a Root node corresponding to the all the training examples\n",
    "        - $S_\\text{root} = \\{ (x^\\ip, y^ip) | 1 \\le i \\le m \\}$"
   ]
  },
  {
   "cell_type": "markdown",
   "metadata": {
    "slideshow": {
     "slide_type": "slide"
    }
   },
   "source": [
    "The algorithm will *recursively* split the training examples at node $\\node{n}$\n",
    "\n",
    "`split`$(\\node{n}, S_n)$: create left/right subtrees $L_n, R_n$ as children of $\\node{n}$ as follows:\n",
    "   - if we can split $\\node{n}$\n",
    "       - Determine the question that \"best\" splits $S_n$ into $L_n, R_n$\n",
    "       - Create a child node $\\node{n}_L$ with corresponding examples $L_n$\n",
    "       - Create a child node $\\node{n}_R$ with corresponding examples $R_n$\n",
    "       - `split`$(\\node{n}_L, L_n)$\n",
    "       - `split`$(\\node{n}_R, R_n)$\n"
   ]
  },
  {
   "cell_type": "markdown",
   "metadata": {
    "slideshow": {
     "slide_type": "subslide"
    }
   },
   "source": [
    "### Prediction $\\hat{\\y}_n$ for node $\\node{n}$\n",
    "\n",
    "Let's count the number of examples in $S_n$ for each class $c \\in C$\n",
    "$$\n",
    "\\cnt{n,c} = | \\{ i | (\\x^\\ip, \\y^\\ip) \\in S_n, \\y^\\ip = c\\} |\n",
    "$$\n",
    "\n",
    "Then our prediction for a node $\\node{n}$ (not just leaf nodes) is the class $c$ with the greatest count.\n",
    "\n",
    "$$\n",
    "\\hat{\\y}_n = \\argmax{c \\in C}{ \\cnt{n,c} }\n",
    "$$"
   ]
  },
  {
   "cell_type": "markdown",
   "metadata": {
    "slideshow": {
     "slide_type": "subslide"
    }
   },
   "source": [
    "The high level description was vague on\n",
    "- how do we define the \"best\" split of the examples at node $\\node{n}$ ?\n",
    "- what does \"if we can split\"a node mean ?\n",
    "\n",
    "We answer each in turn."
   ]
  },
  {
   "cell_type": "markdown",
   "metadata": {
    "slideshow": {
     "slide_type": "slide"
    }
   },
   "source": [
    "### Measuring the quality of a split\n",
    "\n",
    "In order to determine the \"best\" split, we need a metric of the quality of the split.\n",
    "\n",
    "We start with measuring the \"randomness\" of a node $\\node{n}$\n",
    "- The examples $S_n$ may correspond to different classes, each with\n",
    "its own frequency.\n",
    "\n",
    "- So $S_n$ induces a probability distribution on the class labels.\n",
    "\n",
    "- We need a metric that measures the randomness of this distribution at node $\\node{n}$"
   ]
  },
  {
   "cell_type": "markdown",
   "metadata": {
    "slideshow": {
     "slide_type": "subslide"
    }
   },
   "source": [
    "If we had a metric of randomness, we can define\n",
    "our quality metric of a split as the difference between\n",
    "- the randomness of $S_n$\n",
    "- the weighted (by size) randomness of nodes $L_n, R_n$\n",
    "\n",
    "We call this metric the *information gain* achieved by the split.\n",
    "\n",
    "The *best split* would be the one which maximizes the information gain.\n",
    "\n",
    "Any ideas for a metric of randomness of a distribution ?"
   ]
  },
  {
   "cell_type": "markdown",
   "metadata": {
    "slideshow": {
     "slide_type": "subslide"
    }
   },
   "source": [
    "Entropy !\n",
    "\n",
    "This a a very good measure to use.\n",
    "\n",
    "In the interest of showing alternatives,\n",
    "we continue with a different choice.\n",
    "\n",
    "Gini.\n"
   ]
  },
  {
   "cell_type": "markdown",
   "metadata": {
    "slideshow": {
     "slide_type": "slide"
    }
   },
   "source": [
    "### Gini score\n",
    "\n",
    "For node $\\node{n}$:\n",
    "- Let $p_{n,c}$ be the fraction of $S_n$ examples with class $c \\in C$\n",
    "$$\n",
    "p_{n,c} = \\frac{\\cnt{n,c}}{|S_n|}\n",
    "$$\n",
    "    \n",
    "Then the Gini score (metric of randomness) of node $\\node{n}$ is defined as\n",
    "$$\n",
    "G_n = 1 - \\sum\\limits_{c \\in C} {{p_{n,c}}^2}\n",
    "$$\n",
    "\n",
    "$G_n$ is called the **impurity** of node $\\node{n}$"
   ]
  },
  {
   "cell_type": "markdown",
   "metadata": {
    "slideshow": {
     "slide_type": "subslide"
    }
   },
   "source": [
    "**Note** so we will try to minimize *impurity* (just as we would minimize entropy)\n",
    "\n",
    "Goal is to have pure nodes, i.e., all observations in node $\\node{n}$ are in same target class.\n",
    "\n",
    "Here's what Gini looks like as a function of $p_{n,c}$ for binary $C$"
   ]
  },
  {
   "cell_type": "code",
   "execution_count": 6,
   "metadata": {
    "slideshow": {
     "slide_type": "subslide"
    }
   },
   "outputs": [
    {
     "data": {
      "image/png": "[encoded data removed]",
      "text/plain": [
       "<Figure size 720x360 with 1 Axes>"
      ]
     },
     "metadata": {
      "needs_background": "light"
     },
     "output_type": "display_data"
    }
   ],
   "source": [
    "gh = dthelp.GiniHelper()\n",
    "_ =gh.plot_Gini()"
   ]
  },
  {
   "cell_type": "markdown",
   "metadata": {
    "slideshow": {
     "slide_type": "slide"
    }
   },
   "source": [
    "Just like Entropy, Gini impurity\n",
    "- is minimized by a pure distribution (of either class)\n",
    "- is maximized by an equally balanced distribution\n",
    "\n",
    "#### Gini illustration\n",
    "\n",
    "It will be easiest to illustrate with a toy example having only categorical features."
   ]
  },
  {
   "cell_type": "code",
   "execution_count": 7,
   "metadata": {
    "slideshow": {
     "slide_type": "subslide"
    }
   },
   "outputs": [],
   "source": [
    "gh = dthelp.GiniHelper()\n",
    "_ = gh.make_logicTree_png()"
   ]
  },
  {
   "cell_type": "markdown",
   "metadata": {
    "slideshow": {
     "slide_type": "subslide"
    }
   },
   "source": [
    "Here are the observations"
   ]
  },
  {
   "cell_type": "code",
   "execution_count": 8,
   "metadata": {
    "slideshow": {
     "slide_type": "subslide"
    }
   },
   "outputs": [
    {
     "data": {
      "text/html": [
       "<div>\n",
       "<style scoped>\n",
       "    .dataframe tbody tr th:only-of-type {\n",
       "        vertical-align: middle;\n",
       "    }\n",
       "\n",
       "    .dataframe tbody tr th {\n",
       "        vertical-align: top;\n",
       "    }\n",
       "\n",
       "    .dataframe thead th {\n",
       "        text-align: right;\n",
       "    }\n",
       "</style>\n",
       "<table border=\"1\" class=\"dataframe\">\n",
       "  <thead>\n",
       "    <tr style=\"text-align: right;\">\n",
       "      <th></th>\n",
       "      <th>feat 1</th>\n",
       "      <th>feat 2</th>\n",
       "      <th>feat 3</th>\n",
       "      <th>target</th>\n",
       "    </tr>\n",
       "  </thead>\n",
       "  <tbody>\n",
       "    <tr>\n",
       "      <th>0</th>\n",
       "      <td>0</td>\n",
       "      <td>0</td>\n",
       "      <td>0</td>\n",
       "      <td>0</td>\n",
       "    </tr>\n",
       "    <tr>\n",
       "      <th>1</th>\n",
       "      <td>0</td>\n",
       "      <td>0</td>\n",
       "      <td>1</td>\n",
       "      <td>0</td>\n",
       "    </tr>\n",
       "    <tr>\n",
       "      <th>2</th>\n",
       "      <td>0</td>\n",
       "      <td>1</td>\n",
       "      <td>0</td>\n",
       "      <td>0</td>\n",
       "    </tr>\n",
       "    <tr>\n",
       "      <th>3</th>\n",
       "      <td>0</td>\n",
       "      <td>1</td>\n",
       "      <td>1</td>\n",
       "      <td>1</td>\n",
       "    </tr>\n",
       "    <tr>\n",
       "      <th>4</th>\n",
       "      <td>1</td>\n",
       "      <td>0</td>\n",
       "      <td>0</td>\n",
       "      <td>0</td>\n",
       "    </tr>\n",
       "    <tr>\n",
       "      <th>5</th>\n",
       "      <td>1</td>\n",
       "      <td>0</td>\n",
       "      <td>1</td>\n",
       "      <td>1</td>\n",
       "    </tr>\n",
       "    <tr>\n",
       "      <th>6</th>\n",
       "      <td>1</td>\n",
       "      <td>1</td>\n",
       "      <td>0</td>\n",
       "      <td>0</td>\n",
       "    </tr>\n",
       "    <tr>\n",
       "      <th>7</th>\n",
       "      <td>1</td>\n",
       "      <td>1</td>\n",
       "      <td>1</td>\n",
       "      <td>1</td>\n",
       "    </tr>\n",
       "  </tbody>\n",
       "</table>\n",
       "</div>"
      ],
      "text/plain": [
       "   feat 1  feat 2  feat 3  target\n",
       "0       0       0       0       0\n",
       "1       0       0       1       0\n",
       "2       0       1       0       0\n",
       "3       0       1       1       1\n",
       "4       1       0       0       0\n",
       "5       1       0       1       1\n",
       "6       1       1       0       0\n",
       "7       1       1       1       1"
      ]
     },
     "execution_count": 8,
     "metadata": {},
     "output_type": "execute_result"
    }
   ],
   "source": [
    "df_lt = gh.df_lt\n",
    "df_lt"
   ]
  },
  {
   "cell_type": "markdown",
   "metadata": {
    "slideshow": {
     "slide_type": "slide"
    }
   },
   "source": [
    "![](images/logic_tree.png)"
   ]
  },
  {
   "cell_type": "markdown",
   "metadata": {
    "slideshow": {
     "slide_type": "slide"
    }
   },
   "source": [
    "Let's compute Gini of the root"
   ]
  },
  {
   "cell_type": "code",
   "execution_count": 9,
   "metadata": {
    "slideshow": {
     "slide_type": "subslide"
    }
   },
   "outputs": [
    {
     "name": "stdout",
     "output_type": "stream",
     "text": [
      "Gini, by hand:\n",
      "Count by target:\n",
      "\t\n",
      "0    5\n",
      "1    3\n",
      "Name: target, dtype: int64\n",
      "Frequency by target:\n",
      "\t\n",
      "0    0.625\n",
      "1    0.375\n",
      "Name: target, dtype: float64\n",
      "\n",
      "1 - sum(freq**2) = 0.469\n",
      "\n",
      "\n",
      "Method returns  0.46875\n"
     ]
    }
   ],
   "source": [
    "gini_lt = gh.gini(df_lt, gh.target_name_lt, gh.feature_names_lt, noisy=True)\n",
    "\n",
    "print(\"\\n\\nMethod returns \", gini_lt)"
   ]
  },
  {
   "cell_type": "markdown",
   "metadata": {
    "slideshow": {
     "slide_type": "subslide"
    }
   },
   "source": [
    "And Gini of the right sub-tree"
   ]
  },
  {
   "cell_type": "code",
   "execution_count": 10,
   "metadata": {
    "slideshow": {
     "slide_type": "subslide"
    }
   },
   "outputs": [
    {
     "name": "stdout",
     "output_type": "stream",
     "text": [
      "Gini, by hand:\n",
      "Count by target:\n",
      "\t\n",
      "1    3\n",
      "0    1\n",
      "Name: target, dtype: int64\n",
      "Frequency by target:\n",
      "\t\n",
      "1    0.75\n",
      "0    0.25\n",
      "Name: target, dtype: float64\n",
      "\n",
      "1 - sum(freq**2) = 0.375\n"
     ]
    },
    {
     "data": {
      "text/plain": [
       "0.375"
      ]
     },
     "execution_count": 10,
     "metadata": {},
     "output_type": "execute_result"
    }
   ],
   "source": [
    "df_right = df_lt[ df_lt[\"feat 3\"] > 0.5 ]\n",
    "\n",
    "gh.gini( df_right, gh.target_name_lt, gh.feature_names_lt, noisy=True)"
   ]
  },
  {
   "cell_type": "markdown",
   "metadata": {
    "slideshow": {
     "slide_type": "slide"
    }
   },
   "source": [
    "#### The \"best\" ($j,k)$ split: From Gini of children, to Cost for split at parent\n",
    "\n",
    "Let node $\\node{n}$ \n",
    "- have child nodes $n_L, n_R$\n",
    "- $S_n$ denote the set of examples corresponding to node $\\node{n}$\n",
    "- have Gini impurity score $G_n$"
   ]
  },
  {
   "cell_type": "markdown",
   "metadata": {
    "slideshow": {
     "slide_type": "subslide"
    }
   },
   "source": [
    "We can associate a Cost with the choice of splitting node $\\node{n}$ with question $(j, t_{n,j}$):\n",
    "$$\n",
    "\\text{Cost}_{j,t_{n,j}}(S_n) = \\frac{m_L}{(m_L + m_R)} G_L + \\frac{m_R}{(n_L + m_R)} G_R\n",
    "$$\n",
    "\n",
    "- where $m_L =| S_{n_L} |, m_R = | S_{n_R} |$\n",
    "\n",
    "That is, the Cost of splitting $S_n$ on $X_j \\le t_{n,j}$ is \n",
    "- the weighted sum of the Gini's of the partitions created."
   ]
  },
  {
   "cell_type": "markdown",
   "metadata": {
    "slideshow": {
     "slide_type": "slide"
    }
   },
   "source": [
    "Finally:\n",
    "- the best split $(j, t_{n,j})$ for node $\\node{n}$ is the one that minimizes the Cost\n",
    "\n",
    "$$ j, t_{n,j} = \\argmin{j,t_{n,j}} { \\text{Cost}_{j,t_{n,j}} }$$\n",
    "- $1 \\le j \\le n$\n",
    "- $t_{n,j} \\in V_j$\n",
    "\n",
    "This is the split that maximizes Information Gain (since $G_n$ is constant, relative to the choices)"
   ]
  },
  {
   "cell_type": "markdown",
   "metadata": {
    "slideshow": {
     "slide_type": "subslide"
    }
   },
   "source": [
    "Let's examine the cost of split at the root for each (binary) feature"
   ]
  },
  {
   "cell_type": "code",
   "execution_count": 11,
   "metadata": {
    "slideshow": {
     "slide_type": "subslide"
    }
   },
   "outputs": [
    {
     "name": "stdout",
     "output_type": "stream",
     "text": [
      "Split feature feat 1 on 0.00\n",
      "\tG_left (# = 4) = 0.375, G_right (# = 4) = 0.500\n",
      "\tweighted (G_left, G_right) = 0.438\n",
      "Split feature feat 2 on 0.00\n",
      "\tG_left (# = 4) = 0.375, G_right (# = 4) = 0.500\n",
      "\tweighted (G_left, G_right) = 0.438\n",
      "Split feature feat 3 on 0.00\n",
      "\tG_left (# = 4) = 0.000, G_right (# = 4) = 0.375\n",
      "\tweighted (G_left, G_right) = 0.188\n"
     ]
    },
    {
     "data": {
      "text/plain": [
       "0.1875"
      ]
     },
     "execution_count": 11,
     "metadata": {},
     "output_type": "execute_result"
    }
   ],
   "source": [
    "gh.cost(df_lt, gh.target_name_lt, gh.feature_names_lt, noisy=True)"
   ]
  },
  {
   "cell_type": "markdown",
   "metadata": {
    "slideshow": {
     "slide_type": "subslide"
    }
   },
   "source": [
    "So split on $(3, 0)$ (feature \"feat 3\", threshold 0) gives the minimum cost.\n",
    "\n",
    "That explains the split at the root."
   ]
  },
  {
   "cell_type": "markdown",
   "metadata": {
    "slideshow": {
     "slide_type": "slide"
    }
   },
   "source": [
    "### What does \"if we can split\"a node mean\n",
    "\n",
    "Time to answer our second vague statement: is there a time when we can't/shouldn't split node $\\node{n}$\n",
    "\n",
    "**When can't we split** $S_n$ **?**\n",
    "- $| S_n | = 0$\n",
    "    - an empty child, which we ignore (n.b., whose sibling is pure)\n",
    "- $S_n$ is pure"
   ]
  },
  {
   "cell_type": "markdown",
   "metadata": {
    "slideshow": {
     "slide_type": "slide"
    }
   },
   "source": [
    "**When shouldn't we split** $S_n$ **?**\n",
    "\n",
    "One obvious case\n",
    "- when the Information Gain of **all** possible splits is negative\n",
    "\n",
    "There are some less obvious cases related to the Performance Measure of our out of sample test set."
   ]
  },
  {
   "cell_type": "markdown",
   "metadata": {
    "slideshow": {
     "slide_type": "slide"
    }
   },
   "source": [
    "If we don't restrict the answer to \"if we can split\" \n",
    "- Then we will eventually have\n",
    "leaf nodes that are all pure.\n",
    "- That's good, but it's also possible to have a single example corresponding to a leaf node\n",
    "- Overfitting !\n",
    "    - memorize training: each leaf memorizes an example\n"
   ]
  },
  {
   "cell_type": "markdown",
   "metadata": {
    "slideshow": {
     "slide_type": "slide"
    }
   },
   "source": [
    "## Hyper parameters for Decision Trees\n",
    "### Hyper parameters to control overfitting\n",
    "You can combat overfitting with several parameters\n",
    "- `max_depth`: maximum depth of tree\n",
    "- `min_samples`: minimum size (no. of observations) to split a node\n",
    "- `min_samples_leaf`: minimum number of samples for a leaf"
   ]
  },
  {
   "cell_type": "markdown",
   "metadata": {
    "slideshow": {
     "slide_type": "subslide"
    }
   },
   "source": [
    "### Other hyper parameters\n",
    "\n",
    "Recall that our comparator $t_{n,j}$ for feature $\\x_j$ was drawn from $V_j$\n",
    "- set of distinct values of $\\x_j$ in the training set\n",
    "\n",
    "This can be quite large.  Perhaps defining a smaller number of threshholds may work even better.\n",
    "- The choice of threshholds is a hyper paramter"
   ]
  },
  {
   "cell_type": "markdown",
   "metadata": {
    "slideshow": {
     "slide_type": "slide"
    }
   },
   "source": [
    "## Advantages and Drawbacks\n",
    "   \n",
    "### Advantage\n",
    "- Interpretable\n",
    "    - Can explain a prediction with the sequence of question/answers on path to leaf\n",
    "    - **But** the conjunction of lots of tests is explicit but not always \"understandable\"\n",
    "- Very fast inference (test time prediction)\n",
    "    - just a small number of comparisons"
   ]
  },
  {
   "cell_type": "markdown",
   "metadata": {
    "slideshow": {
     "slide_type": "slide"
    }
   },
   "source": [
    "## Decision Tree Regression\n",
    "\n",
    "**TO DO** Picture\n",
    "- Very similar to Classification\n",
    "- Prediction at node $\\node{n}$: the average of $y$ that occurs in $S_n$\n",
    "- use MSE rather than Gini as measure of impurity\n",
    "             \n",
    "                    \n",
    "- Doesn't extrapolate at all: just clips at extreme prediction"
   ]
  },
  {
   "cell_type": "markdown",
   "metadata": {
    "slideshow": {
     "slide_type": "subslide"
    }
   },
   "source": [
    "### Prediction $\\hat{\\y}_n$ for node $\\node{n}$\n",
    "\n",
    "$$\n",
    "\\hat{y}_n = \\dfrac{1}{m_n}\\sum\\limits_{\\scriptstyle (\\x^\\ip, \\y^\\ip) \\in S_n}y^{(i)}\n",
    "$$"
   ]
  },
  {
   "cell_type": "markdown",
   "metadata": {
    "slideshow": {
     "slide_type": "slide"
    }
   },
   "source": [
    "### How good is the split $(j,t_{n,j})$ ?: Regression target - MSE\n",
    "\n",
    "**Equation 6-4: CART cost function for regression**\n",
    "\n",
    "$\n",
    "J(j, t_{n,j}) = \\dfrac{m_{n_L}}{m}\\text{MSE}_{n_L} + \\dfrac{m_{n_R}}{m_n}\\text{MSE}_{n_R} \\quad\n",
    "\\text{where }\n",
    "\\begin{cases}\n",
    "\\text{MSE}_{n} = \\sum\\limits_{\\scriptstyle (\\x^\\ip, \\y^\\ip) \\in S_n}(\\hat{y}_n - y^{(i)})^2\\\\\n",
    "\\hat{y}_n = \\dfrac{1}{m_n}\\sum\\limits_{\\scriptstyle (\\x^\\ip, \\y^\\ip) \\in S_n}y^{(i)}\n",
    "\\end{cases}\n",
    "$"
   ]
  },
  {
   "cell_type": "markdown",
   "metadata": {
    "slideshow": {
     "slide_type": "subslide"
    }
   },
   "source": [
    "### Overfitting example"
   ]
  },
  {
   "cell_type": "code",
   "execution_count": 12,
   "metadata": {
    "slideshow": {
     "slide_type": "subslide"
    }
   },
   "outputs": [
    {
     "data": {
      "image/png": "[encoded data removed]",
      "text/plain": [
       "<Figure size 864x360 with 2 Axes>"
      ]
     },
     "metadata": {
      "needs_background": "light"
     },
     "output_type": "display_data"
    }
   ],
   "source": [
    "rh = dthelp.RegressionHelper()\n",
    "\n",
    "_ =rh.make_plot()"
   ]
  },
  {
   "cell_type": "markdown",
   "metadata": {
    "slideshow": {
     "slide_type": "slide"
    }
   },
   "source": [
    "![](images/tree_regress_depth_2.png)"
   ]
  },
  {
   "cell_type": "markdown",
   "metadata": {
    "slideshow": {
     "slide_type": "slide"
    }
   },
   "source": [
    "## Aside: One-hot encoding for categorical vs. numerical\n",
    "\n",
    "The discretization of continuous variables is\n",
    " a good illustration of the difference between one-hot encoded categoricals and numeric encoded categoricals.\n",
    "\n",
    "- Consider Titanic Passenger Class `Pclass` $\\in \\{1,2,3\\}$\n",
    "- As a numeric, `Pclass` implies an ordering (magnitude doesn't matter for Decision Tree split)\n",
    "- So \n",
    "    - numeric `Pclass`: $\\lnot (\\text{PClass} \\le 2)$ are classes $\\{ 3 \\}$\n",
    "    - categorical `Pclass`: $\\lnot \\text{Is}_{Pclass=2}$  are classes$\\{ 1, 3 \\}$\n",
    "\n",
    "Not the same !"
   ]
  },
  {
   "cell_type": "markdown",
   "metadata": {
    "slideshow": {
     "slide_type": "slide"
    }
   },
   "source": [
    "# Ensembles\n",
    "\n",
    "Why use a single model when  you can use many ?\n",
    "\n",
    "Can apply ensemble method to any model, or even a mixture of models"
   ]
  },
  {
   "cell_type": "markdown",
   "metadata": {
    "slideshow": {
     "slide_type": "subslide"
    }
   },
   "source": [
    "We will illustrate with ensembles of Decision Trees: Random Forest\n",
    "\n",
    "- Replace **strong learner**: single complex model (e.g., deep tree) \n",
    "- with many **weak learners**: simple models (e.g, restricted trees) \n",
    "    - restrict in split choice, depth\n",
    "- Prediction\n",
    "    - each weak learner predicts; voting on single prediction"
   ]
  },
  {
   "cell_type": "markdown",
   "metadata": {
    "slideshow": {
     "slide_type": "subslide"
    }
   },
   "source": [
    "<div class=\"alert alert-block alert-warning\">\n",
    "    <b>Note:</b> \n",
    "    <br>\n",
    "    <ul>\n",
    "        <li>Ensembles combine multiple weak learners into a strong, single learner.</li>\n",
    "        <li>The learners are often, but not necessarily, Decision Trees.</li>\n",
    "</div>"
   ]
  },
  {
   "cell_type": "markdown",
   "metadata": {
    "slideshow": {
     "slide_type": "slide"
    }
   },
   "source": [
    "# Random Forests\n",
    "\n",
    "- Addresses some drawbacks of Decision Trees\n",
    "- Introduces Ensemble methods\n",
    "- Combines \"weak learners\": preview of boosting"
   ]
  },
  {
   "cell_type": "markdown",
   "metadata": {
    "slideshow": {
     "slide_type": "subslide"
    }
   },
   "source": [
    "## Avoiding a poor training set\n",
    "- Decision Trees very sensitive to training set\n",
    "    - what if we were unlucky ?"
   ]
  },
  {
   "cell_type": "markdown",
   "metadata": {
    "slideshow": {
     "slide_type": "subslide"
    }
   },
   "source": [
    "### Bootstrapping\n",
    "- Suppose you had a fair coin; it's still possible to get an unlucky sample\n",
    "- Let's assume training set is a fair representation of the true distribution\n",
    "    - create new training set of same size\n",
    "    - random sampling *with replacement*\n",
    "    -  you wind up with many representative training sets, some lucky, some not\n",
    "\n",
    "With replacement, approximately 30% of the examples from the original set are *not* in the boostrap\n",
    "- others appear more than once\n",
    "- *out of bag*\n",
    "    - a natural validation example for the Tree(s) created from this bootstrap"
   ]
  },
  {
   "cell_type": "markdown",
   "metadata": {
    "slideshow": {
     "slide_type": "subslide"
    }
   },
   "source": [
    "## Avoid poor, greedy choices\n",
    "- At each level of tree\n",
    "    - limit choice of features on which to split to $k$ random available choices\n",
    "- That's what makes this a \"weak\" learner: absence of full choice\n",
    "    - but may avoid bad greedy choice\n",
    "- NOTE: there are potentially a lot of choices\n",
    "    - $V_j$ choices for feature $\\x_j$\n",
    "        - number of categories; number of distinct continuous values in training set"
   ]
  },
  {
   "cell_type": "markdown",
   "metadata": {
    "slideshow": {
     "slide_type": "slide"
    }
   },
   "source": [
    "## Bagging\n",
    "\n",
    "- Bootstrapping with replacement\n",
    "    - creates a new training set\n",
    "    - some original training examples are missing\n",
    "        - **out of bag**\n",
    "    - results in one model per bootstrapped training dataset\n",
    "\n",
    "- Aggregate predictions of the model from each boostrapped sample\n",
    "\n",
    "This process is called **bagging**\n"
   ]
  },
  {
   "cell_type": "markdown",
   "metadata": {
    "slideshow": {
     "slide_type": "slide"
    }
   },
   "source": [
    "## Random Forest Algorithm\n",
    "- Decide how many $d$ Decision Trees to create\n",
    "- `for t in range(0,d):`\n",
    "    - bootstrap a new training set $S_\\tp$ from $S$ &nbsp; s.t., $|S_\\tp| = |S|$\n",
    "    - create decision tree $T_\\tp = $ `split` $(\\text{root}, S_\\tp, k)$\n",
    "        - Training set is $S_\\tp$, **not** S\n",
    "        - at each split, limit set of choices ($j, t_{n,j}$) to size $k$\n",
    "- Result is a set (**forest**) of $d$ trees: $\\{ T_\\tp | t = 1, \\dots, d \\}$"
   ]
  },
  {
   "cell_type": "markdown",
   "metadata": {
    "slideshow": {
     "slide_type": "subslide"
    }
   },
   "source": [
    "`split`$(\\node{n}, S_n, k)$: create left/right subtrees $L_n, R_n$ as children of $\\node{n}$ as follows:\n",
    "   - if we can split $\\node{n}$\n",
    "       - Determine the question that \"best\" splits $S_n$ into $L_n, R_n$\n",
    "           - Limit choice to $k$ pairs $(j, t_{n,j})$\n",
    "       - Create a child node $\\node{n}_L$ with corresponding examples $L_n$\n",
    "       - Create a child node $\\node{n}_R$ with corresponding examples $R_n$\n",
    "       - `split`$(\\node{n}_L, L_n, k)$\n",
    "       - `split`$(\\node{n}_R, R_n, k)$\n"
   ]
  },
  {
   "cell_type": "markdown",
   "metadata": {
    "slideshow": {
     "slide_type": "subslide"
    }
   },
   "source": [
    "## Prediction in a Forest\n",
    "\n",
    "There are now $d$ trees, each created independently.\n",
    "\n",
    "To predict for an example with feature vector $\\x$:\n",
    "- predict for each tree\n",
    "    - $d$ predictions\n",
    "- combine the $d$ predicitons into a single prediction\n",
    "    - majority vote\n",
    " "
   ]
  },
  {
   "cell_type": "markdown",
   "metadata": {
    "slideshow": {
     "slide_type": "slide"
    }
   },
   "source": [
    "# Boosting\n",
    "\n",
    "Boosting, like Ensembling, constructs multiple weak learners and combines them into a single strong learner.\n",
    "\n",
    "But the learners contructed by Ensembling are **independent** of one another.\n",
    "\n",
    "In contrast, Boosting constructs a **sequence**: \n",
    "- the next learner compensates for the weakness of the current learner.\n",
    "\n",
    "We will illustrate, again, with Decision Trees."
   ]
  },
  {
   "cell_type": "markdown",
   "metadata": {
    "slideshow": {
     "slide_type": "subslide"
    }
   },
   "source": [
    "<div class=\"alert alert-block alert-warning\">\n",
    "    <b>Note:</b>\n",
    "    <br>\n",
    "    <ul>\n",
    "        <li>Ensembling contructs a <i>set</i> of weak, independent learners.\n",
    "        <li>\n",
    "            Boosting constructs a <i>sequence</i> of weak learners\n",
    "                <ul>\n",
    "                    <li>Each successive learner in the sequence depends on it's predecessors</li>\n",
    "            </ul>\n",
    "        </li>\n",
    "        <li>\n",
    "    The learners are often, but not necessarily, single level Decision Trees (\"stumps\")\n",
    "            </li>\n",
    "    </div>"
   ]
  },
  {
   "cell_type": "markdown",
   "metadata": {
    "slideshow": {
     "slide_type": "slide"
    }
   },
   "source": [
    "Build a *sequence* of Trees to match target $\\y$\n",
    "$$\n",
    "T_{(0)}, T_{(1)}, \\ldots\n",
    "$$\n",
    "\n",
    "Each tree incrementally improves (reduces Loss) the prior prediction $\\hat{\\y}$\n",
    "\n",
    "**Notation**\n",
    "\n",
    "Since we are dealing with sequences, we need to identify elements in a sequence\n",
    "- sequence notation: subscript $\\tp$ for element $t$ in the sequence"
   ]
  },
  {
   "cell_type": "markdown",
   "metadata": {
    "slideshow": {
     "slide_type": "slide"
    }
   },
   "source": [
    "The most powerful class of Boosting techniques is called Gradient Boosting.\n",
    "\n",
    "We will start with a special case: AdaBoost."
   ]
  },
  {
   "cell_type": "markdown",
   "metadata": {
    "slideshow": {
     "slide_type": "slide"
    }
   },
   "source": [
    "## AdaBoost\n",
    "\n",
    "**Key ideas**\n",
    "- Construct a sequence of trees\n",
    "- Each tree $T_\\tp$ is a stump\n",
    "- All trees are **not** equally important\n",
    "    - there are tree weights: $\\text{importance}_\\tp$\n",
    "    - consider trees $T_\\tp, T_{(t')}$\n",
    "        - if the performance (accuracy) of $T_\\tp$ is higher than that of $T_{(t')}$\n",
    "            - $\\text{importance}_\\tp > \\text{importance}_{(t')}$\n",
    "    - final prediction is importance-weighted aggregation of predictions of each tree"
   ]
  },
  {
   "cell_type": "markdown",
   "metadata": {
    "slideshow": {
     "slide_type": "slide"
    }
   },
   "source": [
    "**Key ideas (continued)**\n",
    "- All examples for $T_\\tp$ are **not** equally important\n",
    "    - example $i$ in $T_\\tp$ has weight: $\\text{say}_\\tp^\\ip$\n",
    "    - Overweight (increase $\\text{say}_\\tp^\\ip$) examples that were *misclassified* in $T_{(t-1)}$\n",
    "    \n",
    "The basic idea is for tree $T_\\tp$ on focus on the errors of $T_{(t-1)}$.\n",
    "\n",
    "Hence, the trees are not independent.\n"
   ]
  },
  {
   "cell_type": "markdown",
   "metadata": {
    "slideshow": {
     "slide_type": "slide"
    }
   },
   "source": [
    "Construct the sequence:   \n",
    "- assign equal say to each observation in the training set\n",
    "\n",
    "- `for i in range(0,W):`:\n",
    "    - Construct tree $T_\\ip$\n",
    "        - Impurity calculated on a (say) weighted basis\n",
    "        - $\\text{importance}_\\ip =  1 -  \\text{(sum of says of incorrectly classified examples)}$\n",
    "        - re-weight observations\n",
    "            - increase (\"boost\") say of observations incorrectly classified by $W_i$\n",
    "            - decrease say of observations correctly classified by $W_\\ip$\n",
    "            - the boost increases with $\\text{importance}_\\ip$\n",
    "                - if $T_\\ip$ is important (classifies well)\n",
    "                - then its *misclassified* examples take extra importance in $T_{(i+1)}$\n",
    "            "
   ]
  },
  {
   "cell_type": "markdown",
   "metadata": {
    "slideshow": {
     "slide_type": "slide"
    }
   },
   "source": [
    "# Gradient Boosting"
   ]
  },
  {
   "cell_type": "markdown",
   "metadata": {
    "slideshow": {
     "slide_type": "slide"
    }
   },
   "source": [
    "Here are some sequences that we'll encounter\n",
    "- a sequence of trees $T_\\tp$\n",
    "    - each produces an incrementally better prediction of $\\y: \\hat{\\y}_\\tp$\n",
    "- a sequence of predictions $\\hat{\\y}_\\tp$\n",
    "\n",
    "Each tree $T_\\tp$ is a Regression Tree with its own target $\\e_\\tp$, so here are some more sequences\n",
    "- targets: $\\e_\\tp$\n",
    "- predictions of targets: $\\hat{\\e}_\\tp$\n",
    "\n"
   ]
  },
  {
   "cell_type": "markdown",
   "metadata": {
    "slideshow": {
     "slide_type": "subslide"
    }
   },
   "source": [
    "Here's how we build the sequence of trees \n",
    "$$\n",
    "T_{(0)}, T_{(1)}, \\ldots\n",
    "$$\n",
    "\n",
    "- **Initialization:** Define tree $T_{(0)}$ to simply predict the mean value of $\\y$\n",
    "    - $\\hat{\\y}_{(0)} = \\bar{\\y}$"
   ]
  },
  {
   "cell_type": "markdown",
   "metadata": {
    "slideshow": {
     "slide_type": "subslide"
    }
   },
   "source": [
    "- **Iterate:** Build Regression Tree $T_\\tp$ from predictions of $T_{(t-1)}$\n",
    "    - Define target $\\e_\\tp$ to be predicted by  $T_\\tp$\n",
    "        - residual (error wrt $\\y$) from prior tree $T_{(t-1)}$: \n",
    "            - $\\e_\\tp =  \\y - \\hat{\\y}_{(t-1)}$\n",
    "    - Build Regression Tree with predictions $\\hat{\\e}_\\tp$\n",
    "    - Use $\\hat{\\e}_\\tp$ to improve prediction of $\\y$:\n",
    "        - $\\hat{\\y}_\\tp = \\hat{\\y}_{(t-1)} + \\hat{\\e}_\\tp$\n",
    "\n",
    "So tree $T_\\tp$ improves $\\hat{\\y}$ from $\\hat{\\y}_{(t-1)}$ to $\\hat{\\y}_\\tp$\n",
    "\n",
    "The improvement of $T_\\tp$ comes from trying to compensate for the errors $\\e_\\tp$ of the\n",
    "previous prediction in the sequence."
   ]
  },
  {
   "cell_type": "markdown",
   "metadata": {
    "slideshow": {
     "slide_type": "subslide"
    }
   },
   "source": [
    "Notes on building the tree $T_\\tp$\n",
    "- each tree $T_\\tp$ constructed from *scratch*\n",
    "    - does not \"extend\" tree $T_{t-1}$\n",
    "    - but derives its target from the residual of $T_{t-1}$\n",
    "    - it's possible that the questions/answers of $T_\\tp$ and $T_{t-1}$\n",
    "        - but the two trees have *different* targets, so it's not redundant     \n",
    "         "
   ]
  },
  {
   "cell_type": "markdown",
   "metadata": {
    "slideshow": {
     "slide_type": "subslide"
    }
   },
   "source": [
    "There are several keys to this iterative process\n",
    "- Regression Tree: Information Gain is based on MSE, not Gini or Entropy\n",
    "    - our goal is low regression error\n",
    "- we *slowly* improve $\\hat{\\y}$\n",
    "    - $\\hat{\\y}_\\tp = \\hat{\\y}_{(t-1)} + \\alpha *\\hat{\\e}_\\tp$\n",
    "        - *learning rate* $\\alpha \\le 1$\n",
    "    - **rather than**\n",
    "        - $\\hat{\\y}_\\tp = \\hat{\\y}_{(t-1)} + \\hat{\\e}_\\tp$"
   ]
  },
  {
   "cell_type": "markdown",
   "metadata": {
    "slideshow": {
     "slide_type": "subslide"
    }
   },
   "source": [
    "Although this process seems very ad hoc, it is in fact performing\n",
    "- *Gradient Descent* on the MSE Loss !\n",
    "    - Note: the derivative of the MSE Loss\n",
    "        - is proportional to sum of residuals\n",
    "        - as we showed in the Maximum Likelihood lecture\n",
    "\n",
    "*Gradient Descent* is a search process for optimization that will be the basis for Deep Learning.\n",
    "\n",
    "We will learn about it in a subsequent lecture."
   ]
  },
  {
   "cell_type": "markdown",
   "metadata": {
    "slideshow": {
     "slide_type": "subslide"
    }
   },
   "source": [
    "**Note on definition of** $\\e_\\tp$\n",
    "\n",
    "We intentionally write the residual as \n",
    "$$\\e_\\tp  = \\y - \\hat{\\y}_{(t-1)}$$\n",
    "rather than the usual $\\hat{\\y}_{(t-1)} - \\y$\n",
    "- Since the  MSE is written as $$(\\hat{\\y}_{(t-1)} - \\y )^2$$\n",
    "- The derivative of the MSE with respect to $\\hat{\\y}_{(t-1)}$ equal to $-2 * \\hat{\\e}$\n",
    "- so adding $\\alpha * \\hat{\\e}_\\tp$ in the update of $\\hat{\\y}_\\tp$ is a step in the negative direction of the gradient"
   ]
  },
  {
   "cell_type": "markdown",
   "metadata": {
    "slideshow": {
     "slide_type": "slide"
    }
   },
   "source": [
    "# Feature Importance\n",
    "\n",
    "Given the $n$ features in $\\x$, which are the \"most important\" ?\n",
    "\n",
    "The multiple trees in a Random Forest offer several ways to answer this question."
   ]
  },
  {
   "cell_type": "markdown",
   "metadata": {
    "slideshow": {
     "slide_type": "subslide"
    }
   },
   "source": [
    "## Importance: Decrease in Impurity\n",
    "\n",
    "Recall that the question that splits the examples corresponding to a node is chosen so as\n",
    "to maximize Information Gain.\n",
    "\n",
    "One method of measuring the importance of $\\x_j$ is the amount of impurity decrease it creates.\n",
    "\n",
    "- For each feature $x_j$\n",
    "    - find each node $\\node{n}$ in *any* tree in the forest with question $(j, v)$ for *any* $v$\n",
    "        - compute the information gain of the split on $(j, v)$ \n",
    "    - average the information gain across all such nodes\n",
    "    \n",
    "That is, how much does impurity decrease when $\\x_j$ is used in a question."
   ]
  },
  {
   "cell_type": "markdown",
   "metadata": {
    "slideshow": {
     "slide_type": "subslide"
    }
   },
   "source": [
    "- This is a biased method\n",
    "    - Recall the universe of possible values of $\\x_j$ is $V_j$\n",
    "    - Larger $| V_j |$ means $\\x_j$ is more likely to appear in a questions\n",
    "        - e.g., when $\\x_j$ is a continuous variable that has been made discrete\n",
    "    - So $\\x_j$ will appear in more questions\n"
   ]
  },
  {
   "cell_type": "markdown",
   "metadata": {
    "slideshow": {
     "slide_type": "subslide"
    }
   },
   "source": [
    "## Importance: Permutation importance\n",
    "\n",
    "**TO DO** Picture\n",
    "\n",
    "Let's consider building one tree from bootstrapped sample $S$.\n",
    "\n",
    "Create another sample $S'$, derived from $S$ by *permuting* the values of $\\x_j$.\n",
    "- maintains the unconditional distribution of $\\x_j$\n",
    "- breaks the correlation of $\\x_j$ with the target and other features\n",
    "\n",
    "We can now measure the importance of $\\x_j$ as\n",
    "- the change in out of bag accuracy of the tree built from $S$ and $S'$.\n",
    "\n",
    "That is, if $\\x_j$ is unimportant, then permuting its values should have little effect on accuracy."
   ]
  },
  {
   "cell_type": "markdown",
   "metadata": {
    "slideshow": {
     "slide_type": "subslide"
    }
   },
   "source": [
    "Permutation importance also has issues\n",
    "- may be biased if $\\x_j$ is strongly correlated with another feature $\\x_{j'}$\n",
    "\n",
    "In that case $\\x_{j'}$ may compensate for the permuted $\\x_j$, making $\\x_j$ seem unimportant."
   ]
  },
  {
   "cell_type": "code",
   "execution_count": 13,
   "metadata": {
    "slideshow": {
     "slide_type": "slide"
    }
   },
   "outputs": [
    {
     "name": "stdout",
     "output_type": "stream",
     "text": [
      "Done\n"
     ]
    }
   ],
   "source": [
    "print(\"Done\")"
   ]
  }
 ],
 "metadata": {
  "celltoolbar": "Slideshow",
  "kernelspec": {
   "display_name": "Python 3",
   "language": "python",
   "name": "python3"
  },
  "language_info": {
   "codemirror_mode": {
    "name": "ipython",
    "version": 3
   },
   "file_extension": ".py",
   "mimetype": "text/x-python",
   "name": "python",
   "nbconvert_exporter": "python",
   "pygments_lexer": "ipython3",
   "version": "3.7.1"
  },
  "toc": {
   "base_numbering": 1,
   "nav_menu": {},
   "number_sections": true,
   "sideBar": true,
   "skip_h1_title": false,
   "title_cell": "Table of Contents",
   "title_sidebar": "Contents",
   "toc_cell": false,
   "toc_position": {
    "height": "calc(100% - 180px)",
    "left": "10px",
    "top": "150px",
    "width": "358.594px"
   },
   "toc_section_display": true,
   "toc_window_display": false
  }
 },
 "nbformat": 4,
 "nbformat_minor": 2
}
