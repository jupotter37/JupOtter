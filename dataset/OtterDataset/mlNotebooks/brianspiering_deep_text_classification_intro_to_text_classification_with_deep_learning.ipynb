{
 "cells": [
  {
   "cell_type": "markdown",
   "metadata": {
    "slideshow": {
     "slide_type": "slide"
    }
   },
   "source": [
    "A Gentle Introduction to Text Classification with Deep Learning\n",
    "-------\n",
    "<br>\n",
    "<center><img src=\"images/net.png\" width=\"700\"/></center>\n",
    "\n",
    "### [bit.ly/deep-text]( http://bit.ly/deep-text)"
   ]
  },
  {
   "cell_type": "markdown",
   "metadata": {
    "slideshow": {
     "slide_type": "slide"
    }
   },
   "source": [
    "Who am I?\n",
    "-------\n",
    "\n",
    "<center><img src=\"http://www.galvanizeu.com/img/brian_spiering_headshot.png\" width=\"300\"/></center>\n",
    "\n",
    "### Brian Spiering\n",
    "[brian.spiering@galvanize.com](mailto: brian.spiering@galvanize.com)"
   ]
  },
  {
   "cell_type": "markdown",
   "metadata": {
    "slideshow": {
     "slide_type": "slide"
    }
   },
   "source": [
    "<center><img src=\"http://galvanize-wp.s3.amazonaws.com/wp-content/uploads/2015/03/30170453/Galvanize-Galvanize-logomark-text-only-2-2.png\" width=\"700\"/></center>\n",
    "\n",
    "<center><img src=\"images/learning.png\" width=\"700\"/></center>"
   ]
  },
  {
   "cell_type": "markdown",
   "metadata": {
    "slideshow": {
     "slide_type": "slide"
    }
   },
   "source": [
    "Agenda\n",
    "-------\n",
    "\n",
    "1. A ~~General~~ Gentle Intro to Text Classification and Deep Learning (20 Minutes)\n",
    "1. Demo #1: Learn to classify movie reviews (15 Minutes)\n",
    "1. Demo #2: Learn to categorize news articles (7.5 Minutes)\n",
    "1. Questions & Answers (until they kick us out 🍻🍷🍸)"
   ]
  },
  {
   "cell_type": "markdown",
   "metadata": {
    "slideshow": {
     "slide_type": "slide"
    }
   },
   "source": [
    "Setup env\n",
    "-----\n",
    "\n",
    "__[bit.ly/deep-text]( http://bit.ly/deep-text)__\n",
    "\n",
    "\n",
    "1. download or clone repo\n",
    "1. cd to folder containing this file\n",
    "1. `$ conda env create --force`\n",
    "1. `$ source activate dl`\n",
    "1. `$ jupyter notebook`"
   ]
  },
  {
   "cell_type": "code",
   "execution_count": 1,
   "metadata": {
    "slideshow": {
     "slide_type": "slide"
    }
   },
   "outputs": [
    {
     "name": "stderr",
     "output_type": "stream",
     "text": [
      "Using TensorFlow backend.\n"
     ]
    }
   ],
   "source": [
    "import keras"
   ]
  },
  {
   "cell_type": "markdown",
   "metadata": {
    "collapsed": true,
    "slideshow": {
     "slide_type": "slide"
    }
   },
   "source": [
    "Let's start with foundation: Language\n",
    "-----\n",
    "\n",
    "<center><img src=\"https://kayumahavurah.files.wordpress.com/2014/06/read-write-speak2.png\" width=\"700\"/></center>"
   ]
  },
  {
   "cell_type": "markdown",
   "metadata": {
    "slideshow": {
     "slide_type": "skip"
    }
   },
   "source": [
    "Humans use language to speak, read, and write."
   ]
  },
  {
   "cell_type": "markdown",
   "metadata": {
    "collapsed": true,
    "slideshow": {
     "slide_type": "slide"
    }
   },
   "source": [
    "<center><img src=\"http://store.metmuseum.org/content/ebiz/themetstore/invt/80010981/80010981_03_alt_l.jpg\" width=\"700\"/></center>\n",
    "More importantly, humans use language to think, make decisions, plan, dream, …"
   ]
  },
  {
   "cell_type": "markdown",
   "metadata": {
    "slideshow": {
     "slide_type": "slide"
    }
   },
   "source": [
    "<center><img src=\"http://www.azquotes.com/picture-quotes/quote-the-mystery-lies-in-the-use-of-language-to-express-human-life-eudora-welty-135-23-61.jpg\" width=\"700\"/></center>"
   ]
  },
  {
   "cell_type": "markdown",
   "metadata": {
    "collapsed": true,
    "slideshow": {
     "slide_type": "slide"
    }
   },
   "source": [
    "<center><img src=\"images/nlp_overview.jpg\" width=\"700\"/></center>\n",
    "\n",
    "Text, digitized language, is the one of the dominant forms of communication on the Internet and within organizations."
   ]
  },
  {
   "cell_type": "markdown",
   "metadata": {
    "slideshow": {
     "slide_type": "slide"
    }
   },
   "source": [
    "The Internet is just a training set for Deep Learning\n",
    "------\n",
    "<br>\n",
    "<center><img src=\"http://i.dailymail.co.uk/i/pix/2017/02/13/18/3D2C131300000578-0-image-a-8_1487010299569.jpg\" height=\"500\"/></center>"
   ]
  },
  {
   "cell_type": "markdown",
   "metadata": {
    "collapsed": true,
    "slideshow": {
     "slide_type": "slide"
    }
   },
   "source": [
    "Language is hard\n",
    "-----\n",
    "\n",
    "<center><img src=\"https://mathwithbaddrawings.files.wordpress.com/2016/02/20160210083736_00002.jpg?w=584\" width=\"700\"/></center>"
   ]
  },
  {
   "cell_type": "markdown",
   "metadata": {
    "collapsed": true,
    "slideshow": {
     "slide_type": "slide"
    }
   },
   "source": [
    "Building complex, useful things with computers is hard\n",
    "-----\n",
    "<br>\n",
    "<center><img src=\"https://imgs.xkcd.com/comics/tasks.png\" width=\"500\"/></center>"
   ]
  },
  {
   "cell_type": "markdown",
   "metadata": {
    "collapsed": true,
    "slideshow": {
     "slide_type": "slide"
    }
   },
   "source": [
    "<center><img src=\"images/neural_nets.jpg\" height=\"500\"/></center>"
   ]
  },
  {
   "cell_type": "markdown",
   "metadata": {
    "collapsed": true,
    "slideshow": {
     "slide_type": "slide"
    }
   },
   "source": [
    "<center><img src=\"images/deep_learing_what_i_actually_do.jpg\" height=\"500\"/></center>"
   ]
  },
  {
   "cell_type": "markdown",
   "metadata": {
    "collapsed": true,
    "slideshow": {
     "slide_type": "slide"
    }
   },
   "source": [
    "Neural Networks: Graphs with edges and nodes\n",
    "-----\n",
    "\n",
    "<center><img src=\"https://upload.wikimedia.org/wikipedia/commons/thumb/e/e4/Artificial_neural_network.svg/400px-Artificial_neural_network.svg.png\" height=\"500\"/></center>"
   ]
  },
  {
   "cell_type": "markdown",
   "metadata": {
    "collapsed": true,
    "slideshow": {
     "slide_type": "slide"
    }
   },
   "source": [
    "Neural networks can learn arbitrary nonlinear relationships\n",
    "------"
   ]
  },
  {
   "cell_type": "markdown",
   "metadata": {
    "collapsed": true,
    "slideshow": {
     "slide_type": "slide"
    }
   },
   "source": [
    "Deep Learning isn't magic, it is just very good at finding patterns.\n",
    "------"
   ]
  },
  {
   "cell_type": "markdown",
   "metadata": {
    "collapsed": true,
    "slideshow": {
     "slide_type": "slide"
    }
   },
   "source": [
    "Why is Deep Learning taking over Machine Learning?\n",
    "----\n",
    "\n",
    "<center><img src=\"images/data.jpg\" height=\"500\"/></center>"
   ]
  },
  {
   "cell_type": "markdown",
   "metadata": {
    "slideshow": {
     "slide_type": "slide"
    }
   },
   "source": [
    "Perceptron\n",
    "-----\n",
    "\n",
    "<center><img src=\"images/p.png\" height=\"500\"/></center>\n",
    "\n",
    "To describe neural networks (NN), we will begin by describing the simplest possible neural network, one which comprises a single \"neuron\" or node."
   ]
  },
  {
   "cell_type": "markdown",
   "metadata": {
    "collapsed": true,
    "slideshow": {
     "slide_type": "slide"
    }
   },
   "source": [
    "A Single Node: aka, A Perceptron\n",
    "-----\n",
    "\n",
    "<center><img src=\"images/perceptron.png\" width=\"500\"/></center>"
   ]
  },
  {
   "cell_type": "markdown",
   "metadata": {
    "slideshow": {
     "slide_type": "skip"
    }
   },
   "source": [
    "4 data structures (aka, nouns):\n",
    "\n",
    "1. Input\n",
    "1. Weights\n",
    "1. Bias \n",
    "1. Output\n",
    "\n",
    "$$ W⋅X+b = Y $$"
   ]
  },
  {
   "cell_type": "markdown",
   "metadata": {
    "collapsed": true,
    "slideshow": {
     "slide_type": "slide"
    }
   },
   "source": [
    "The goal of supervised NN \n",
    "------\n",
    "\n",
    "Solve almost any problem of the form:\n",
    "\n",
    "“map X to Y”\n",
    "\n",
    "<br>\n",
    "    \n",
    "X can include text or images\n",
    "\n",
    "Y can include numbers (real-valued), categories (discrete), or even sentences. "
   ]
  },
  {
   "cell_type": "markdown",
   "metadata": {
    "collapsed": true,
    "slideshow": {
     "slide_type": "slide"
    }
   },
   "source": [
    "Classification: Discrete Value Prediction\n",
    "-----\n",
    "\n",
    "<center><img src=\"https://i.ytimg.com/vi/mRidGna-V4E/maxresdefault.jpg\" width=\"700\"/></center>"
   ]
  },
  {
   "cell_type": "markdown",
   "metadata": {
    "slideshow": {
     "slide_type": "slide"
    }
   },
   "source": [
    "Text Classification: Predict category for a group of words\n",
    "------\n",
    "<br>\n",
    "<center><img src=\"https://www.lucypark.kr/courses/2015-dm/images/spam.png\" width=\"700\"/></center>"
   ]
  },
  {
   "cell_type": "markdown",
   "metadata": {
    "collapsed": true,
    "slideshow": {
     "slide_type": "slide"
    }
   },
   "source": [
    "Neural Network: Given words, weight them to put into categories\n",
    "-----\n",
    "<br>\n",
    "<center><img src=\"images/p1.png\" height=\"500\"/></center>\n"
   ]
  },
  {
   "cell_type": "markdown",
   "metadata": {
    "collapsed": true,
    "slideshow": {
     "slide_type": "slide"
    }
   },
   "source": [
    "Deep Learning: >1 hidden layers\n",
    "------\n",
    "\n",
    "<center><img src=\"images/complex.png\" height=\"500\"/></center>"
   ]
  },
  {
   "cell_type": "markdown",
   "metadata": {
    "collapsed": true,
    "slideshow": {
     "slide_type": "slide"
    }
   },
   "source": [
    "Demo #1: Learn to classify movie reviews\n",
    "----"
   ]
  },
  {
   "cell_type": "markdown",
   "metadata": {
    "collapsed": true,
    "slideshow": {
     "slide_type": "slide"
    }
   },
   "source": [
    "Demo #2: Learn to categorize news articles\n",
    "----"
   ]
  },
  {
   "cell_type": "markdown",
   "metadata": {
    "slideshow": {
     "slide_type": "slide"
    }
   },
   "source": [
    "Summary\n",
    "-----\n",
    "\n",
    "1. Text data is everywhere.\n",
    "2. Deep Learning has the ability to make sense of it.\n",
    "3. Keras is approachable way to get started.\n",
    "4. Given this start, please continue learning"
   ]
  },
  {
   "cell_type": "markdown",
   "metadata": {
    "slideshow": {
     "slide_type": "slide"
    }
   },
   "source": [
    "Further Study\n",
    "-----"
   ]
  },
  {
   "cell_type": "markdown",
   "metadata": {
    "slideshow": {
     "slide_type": "slide"
    }
   },
   "source": [
    "1) http://www.fast.ai/ by Jeremy Howard and Rachel Thomas\n",
    "\n",
    "<center><img src=\"http://www.pybay.com/site_media/media/speaker_photos/Rachel_Thomas.jpg.360x360_q85_crop.jpg\" width=\"500\"/></center>"
   ]
  },
  {
   "cell_type": "markdown",
   "metadata": {
    "slideshow": {
     "slide_type": "slide"
    }
   },
   "source": [
    "2) [Deep Learning Specialization from Coursera](https://www.coursera.org/specializations/deep-learning) by Andrew Ng\n",
    "\n",
    "<center><img src=\"https://cdn-images-1.medium.com/max/1600/1*5BFz2EhJYA9Cd4fBdOmFmg.jpeg\" width=\"700\"/></center>"
   ]
  },
  {
   "cell_type": "markdown",
   "metadata": {
    "slideshow": {
     "slide_type": "slide"
    }
   },
   "source": [
    "3) Deep Learning book by Ian Goodfellow and Yoshua Bengio and Aaron Courville\n",
    "\n",
    "<center><img src=\"https://mitpress.mit.edu/sites/default/files/9780262035613_0.jpg\" width=\"700\"/></center>"
   ]
  },
  {
   "cell_type": "markdown",
   "metadata": {
    "slideshow": {
     "slide_type": "slide"
    }
   },
   "source": [
    "4) CS224d: Deep Learning for Natural Language Processing from Stanford\n",
    "\n",
    "- [Course homepage](http://web.stanford.edu/class/cs224n/) A complete survey of the field with videos, lecture slides, and sample student projects.\n",
    "- [Course Lectures](https://www.youtube.com/playlist?list=PL3FW7Lu3i5Jsnh1rnUwq_TcylNr7EkRe6) Video playlist.\n",
    "- [Course notes](https://github.com/stanfordnlp/cs224n-winter17-notes) Probably the best \"book\" on DL for NLP."
   ]
  },
  {
   "cell_type": "markdown",
   "metadata": {
    "slideshow": {
     "slide_type": "slide"
    }
   },
   "source": [
    "5) Build projects\n",
    "\n",
    "<center><img src=\"https://hackadaycom.files.wordpress.com/2011/06/digi.png?w=800&h=599\" width=\"700\"/></center>"
   ]
  },
  {
   "cell_type": "markdown",
   "metadata": {
    "slideshow": {
     "slide_type": "slide"
    }
   },
   "source": [
    "Yesterday's XKCD\n",
    "-----\n",
    "<br>\n",
    "<center><img src=\"https://imgs.xkcd.com/comics/computers_vs_humans.png\" width=\"700\"/></center>"
   ]
  },
  {
   "cell_type": "markdown",
   "metadata": {
    "slideshow": {
     "slide_type": "slide"
    }
   },
   "source": [
    "<br>\n",
    "<br> \n",
    "<br>\n",
    "\n",
    "----"
   ]
  }
 ],
 "metadata": {
  "celltoolbar": "Slideshow",
  "kernelspec": {
   "display_name": "Python 3",
   "language": "python",
   "name": "python3"
  },
  "language_info": {
   "codemirror_mode": {
    "name": "ipython",
    "version": 3
   },
   "file_extension": ".py",
   "mimetype": "text/x-python",
   "name": "python",
   "nbconvert_exporter": "python",
   "pygments_lexer": "ipython3",
   "version": "3.6.0"
  }
 },
 "nbformat": 4,
 "nbformat_minor": 2
}
