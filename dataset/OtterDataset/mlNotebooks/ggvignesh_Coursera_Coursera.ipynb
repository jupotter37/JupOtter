{
  "metadata": {
    "kernelspec": {
      "name": "python",
      "display_name": "Python (Pyodide)",
      "language": "python"
    },
    "language_info": {
      "codemirror_mode": {
        "name": "python",
        "version": 3
      },
      "file_extension": ".py",
      "mimetype": "text/x-python",
      "name": "python",
      "nbconvert_exporter": "python",
      "pygments_lexer": "ipython3",
      "version": "3.8"
    }
  },
  "nbformat_minor": 4,
  "nbformat": 4,
  "cells": [
    {
      "cell_type": "markdown",
      "source": "# Data Science Tools and Ecosystem",
      "metadata": {}
    },
    {
      "cell_type": "markdown",
      "source": "## Introduction\nIn this notebook, we will explore various tools and libraries used in the field of data science. We will also cover basic arithmetic operations and demonstrate how to convert time units.",
      "metadata": {}
    },
    {
      "cell_type": "markdown",
      "source": "## Data Science Languages\nSome of the popular languages that Data Scientists use are:\n1. Python\n2. R\n3. SQL\n4. Java\n5. Julia\n6. Scala\n7. MATLAB",
      "metadata": {}
    },
    {
      "cell_type": "markdown",
      "source": "## Data Science Libraries\nHere are some of the key libraries used in Data Science:\n- **Pandas**: For data manipulation and analysis.\n- **NumPy**: For numerical computing.\n- **Matplotlib**: For data visualization.\n- **Scikit-learn**: For machine learning.\n- **TensorFlow**: For deep learning.\n- **Keras**: For deep learning.\n- **SciPy**: For scientific computing.\n- **Seaborn**: For statistical data visualization.",
      "metadata": {}
    },
    {
      "cell_type": "markdown",
      "source": "## Data Science Tools\n| Tool             | Description                               |\n|------------------|-------------------------------------------|\n| Jupyter Notebook | Interactive computing environment        |\n| RStudio          | Integrated development environment for R |\n| Apache Spark     | Unified analytics engine                  |\n| Tableau          | Data visualization and business intelligence |\n| KNIME            | Open-source data analytics platform      |",
      "metadata": {}
    },
    {
      "cell_type": "markdown",
      "source": "## Arithmetic Expression Examples\nIn this section, we will go through some basic arithmetic expressions and operations such as addition, subtraction, multiplication, and division.",
      "metadata": {}
    },
    {
      "cell_type": "code",
      "source": "# Multiplying and adding numbers\na = 5\nb = 4\nresult = a * b + 2\nresult",
      "metadata": {
        "trusted": true
      },
      "outputs": [
        {
          "execution_count": 1,
          "output_type": "execute_result",
          "data": {
            "text/plain": "22"
          },
          "metadata": {}
        }
      ],
      "execution_count": 1
    },
    {
      "cell_type": "code",
      "source": "# Converting minutes to hours\nminutes = 150\nhours = minutes / 60\nhours",
      "metadata": {
        "trusted": true
      },
      "outputs": [
        {
          "execution_count": 2,
          "output_type": "execute_result",
          "data": {
            "text/plain": "2.5"
          },
          "metadata": {}
        }
      ],
      "execution_count": 2
    },
    {
      "cell_type": "markdown",
      "source": "## Objectives\n- List popular languages for Data Science\n- Identify key libraries used in Data Science\n- Describe common tools used in Data Science\n- Demonstrate basic arithmetic operations\n- Convert time units from minutes to hours",
      "metadata": {}
    },
    {
      "cell_type": "markdown",
      "source": "## Author\nGouri Vignesh Gembali",
      "metadata": {}
    }
  ]
}