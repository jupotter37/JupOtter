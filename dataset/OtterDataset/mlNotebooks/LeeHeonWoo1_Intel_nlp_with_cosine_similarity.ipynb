{
 "cells": [
  {
   "cell_type": "markdown",
   "metadata": {},
   "source": [
    "# 똑똑한 챗봇 만들기"
   ]
  },
  {
   "cell_type": "markdown",
   "metadata": {},
   "source": [
    "이 세션에서는 코사인 유사성 알고리즘을 사용하여 챗봇을 만들 것입니다.\n",
    "\n",
    "챗봇의 기본 개념은 간단합니다. 특정 입력을 인식하고 의미 있는 응답으로 회신할 챗봇을 만들 수 있기를 원합니다. \n",
    "\n",
    "먼저 챗봇 의 데이터베이스를 구축하고, 선택한 알고리즘을 적용한 다음, Jupyter 노트북에서 채팅 을 위한 간단한 대화형 대시보드를 만들 것입니다!\n",
    "\n",
    "이 연습은 Parul Pandey의 [위대한 작품](https://medium.com/analytics-vidhya/building-a-simple-chatbot-in-python-using-nltk-7c8c8215ac6e)에서 영감을 받았습니다."
   ]
  },
  {
   "cell_type": "markdown",
   "metadata": {},
   "source": [
    "## 1.  챗봇에 지식 기반 추가\n",
    "\n",
    "챗봇의 대화 및 상호 작용 능력은 사용자가 입력한 데이터에 따라 달라집니다. 따라서 첫 번째 단계는 챗봇을 계획하는 것입니다. 특정 작업에 대한 올바른 지식 기반을 선택해야합니다. 예를 들어, 여러분이 스포츠카에 관한 질문에 답하기를 원한다면 영화 리뷰로 챗봇을 훈련시키지 않을 것입니다!\n",
    "\n",
    "이 연습에서는 챗봇에 대한 지식을 원하는 항목을 결정하고 필요한 데이터 집합을 찾습니다.\n",
    "\n",
    "우선 단순히 챗봇의 위키백과 페이지(https://en.wikipedia.org/wiki/Chatbot)를 복사하여 텍스트 파일에 붙여넣은 robots.txt 문서를 포함 시켰습니다.\n",
    "  \n",
    "당신의 챗봇이 어떤 질문에 답하길 원하십니까? 멸종 위기에 처한 종, 굶주림, 양성 평등, 청정 에너지 또는 원하는 다른 주제에 대한 챗봇을 훈련시킬 수 있습니다! 이전의 경험에서 배운 도구를 사용해서 정보를 수집하고 지식 라이브러리를 구축하세요. \n",
    "\n",
    "### 실습: 어떤 챗봇을 만들고 싶으세요? 브레인스토밍 시간을 갖고 여러분의 아이디어를 여러분의 그룹과 공유하세요!\n",
    "\n",
    "자, 이제 시작합시다!"
   ]
  },
  {
   "cell_type": "markdown",
   "metadata": {},
   "source": [
    "### 1.1 라이브러리 가져오기\n",
    "\n",
    "이 연습에서는 다음과 같은 라이브러리가 필요합니다.:"
   ]
  },
  {
   "cell_type": "code",
   "execution_count": 1,
   "metadata": {},
   "outputs": [],
   "source": [
    "import nltk # 텍스트 데이터를 처리하기 위한 것\n",
    "import numpy as np # 말뭉치를 배열로 나타내기 위한 것\n",
    "import random \n",
    "import string # 표준 파이썬 문자열을 처리\n",
    "from sklearn.metrics.pairwise import cosine_similarity # 이를 나중에 사용하여 두 개의 문장이 얼마나 비슷한지를 결정합니다.\n",
    "from sklearn.feature_extraction.text import TfidfVectorizer # Experience 2에서 단어 가방을 만드는 함수를 만들었던 것을 기억하십니까? 이 함수는 같은 일을 합니다!"
   ]
  },
  {
   "cell_type": "markdown",
   "metadata": {},
   "source": [
    "### 1.2 데이터 처리"
   ]
  },
  {
   "cell_type": "markdown",
   "metadata": {},
   "source": [
    "이제 지식 기반을 처리하기 시작했습니다. 텍스트 파일을 읽고, 모든 것을 소문자로 변환하고 토큰화할 것입니다. 여러분은 토큰화가 무엇을 하는지 기억하십니까?  \n",
    "  \n",
    "문서를 토큰으로 분할하는 데 도움이 되는 사전 교육된 토큰화 프로그램이 있습니다.\n",
    "\n",
    "이러한 사전 교육된 토큰화 프로그램을 사용하는 것이 처음이라면 `nltk.download('punkt')` 명령으로 다운로드해야합니다. 또한 미리 정의된 모델을 사용하여 표제어 추출(lemmatization)을 수행할 것입니다. 이것은 `nltk.download('wordnet')`를 사용하여 다운로드됩니다. 이후에 셀을 다시 실행해야 하는 경우 줄에 주석을 달 수 있습니다. \n",
    "\n",
    "\n",
    "#### 선택 사항: 필요한 기능이 없는 경우 아래 코드 블록을 실행합니다."
   ]
  },
  {
   "cell_type": "code",
   "execution_count": 2,
   "metadata": {},
   "outputs": [
    {
     "name": "stderr",
     "output_type": "stream",
     "text": [
      "[nltk_data] Downloading package punkt to\n",
      "[nltk_data]     C:\\Users\\OWNER\\AppData\\Roaming\\nltk_data...\n",
      "[nltk_data]   Package punkt is already up-to-date!\n",
      "[nltk_data] Downloading package wordnet to\n",
      "[nltk_data]     C:\\Users\\OWNER\\AppData\\Roaming\\nltk_data...\n",
      "[nltk_data]   Package wordnet is already up-to-date!\n"
     ]
    },
    {
     "data": {
      "text/plain": [
       "True"
      ]
     },
     "execution_count": 2,
     "metadata": {},
     "output_type": "execute_result"
    }
   ],
   "source": [
    "nltk.download('punkt')   # 토큰화 프로그램 처음 사용\n",
    "nltk.download('wordnet') # 표제어 추출 프로그램 처음 사용"
   ]
  },
  {
   "cell_type": "markdown",
   "metadata": {},
   "source": [
    "#### 1.2.1 파일 열기\n",
    "\n",
    "먼저 open() 함수를 사용하여 .txt 파일을 로드합니다.,이어서 .read()를 사용하여 데이터를 raw_data라고 부르는 변수에 로드합니다."
   ]
  },
  {
   "cell_type": "code",
   "execution_count": 3,
   "metadata": {},
   "outputs": [
    {
     "name": "stdout",
     "output_type": "stream",
     "text": [
      "\n",
      "Chatbot\n",
      "From Wikipedia, the free encyclopedia\n",
      "Jump to navigationJump to search\n",
      "A chatbot (also known as a smartbot, talkbot, chatterbot, Bot, IM bot, interactive agent, Conversational interface or Artificial Conversational Entity) is a computer program or an artificial intelligence which conducts a conversation via auditory or textual methods.[1] Such programs are often designed to convincingly simulate how a human would behave as a conversational partner, thereby passing the Turing test. Chatbots are typically used in dialog systems for various practical purposes including customer service or information acquisition. Some chatbots use sophisticated natural language processing systems, but many simpler ones scan for keywords within the input, then pull a reply with the most matching keywords, or the most similar wording pattern, from a database.\n",
      "\n",
      "The term \"ChatterBot\" was originally coined by Michael Mauldin (creator of the first Verbot, Julia) in 1994 to describe these conversational programs.[2] Today, most chatbots are accessed via virtual assistants such as Google Assistant and Amazon Alexa, via messaging apps such as Facebook Messenger or WeChat, or via individual organizations' apps and websites.[3][4] Chatbots can be classified into usage categories such as conversational commerce (e-commerce via chat), analytics, communication, customer support, design, developer tools, education, entertainment, finance, food, games, health, HR, marketing, news, personal, productivity, shopping, social, sports, travel and utilities.[5]\n",
      "Background\n",
      "In 1950, Alan Turing's famous article \"Computing Machinery and Intelligence\" was published,[6] which proposed what is now called the Turing test as a criterion of intelligence. This criterion depends on the ability of a computer program to impersonate a human in a real-time written conversation with a human judge, sufficiently well that the judge is unable to distinguish reliably뾬n the basis of the conversational content alone뾟etween the program and a real human. The notoriety of Turing's proposed test stimulated great interest in Joseph Weizenbaum's program ELIZA, published in 1966, which seemed to be able to fool users into believing that they were conversing with a real human. However Weizenbaum himself did not claim that ELIZA was genuinely intelligent, and the introduction to his paper presented it more as a debunking exercise:\n",
      "\n",
      "[In] artificial intelligence ... machines are made to behave in wondrous ways, often sufficient to dazzle even the most experienced observer. But once a particular program is unmasked, once its inner workings are explained ... its magic crumbles away; it stands revealed as a mere collection of procedures ... The observer says to himself \"I could have written that\". With that thought he moves the program in question from the shelf marked \"intelligent\", to that reserved for curios ... The object of this paper is to cause just such a re-evaluation of the program about to be \"explained\". Few programs ever needed it more.[7]\n",
      "\n",
      "ELIZA's key method of operation (copied by chatbot designers ever since) involves the recognition of cue words or phrases in the input, and the output of corresponding pre-prepared or pre-programmed responses that can move the conversation forward in an apparently meaningful way (e.g. by responding to any input that contains the word 'MOTHER' with 'TELL ME MORE ABOUT YOUR FAMILY').[8] Thus an illusion of understanding is generated, even though the processing involved has been merely superficial. ELIZA showed that such an illusion is surprisingly easy to generate, because human judges are so ready to give the benefit of the doubt when conversational responses are capable of being interpreted as \"intelligent\".\n",
      "\n",
      "Interface designers have come to appreciate that humans' readiness to interpret computer output as genuinely conversational뾢ven when it is actually based on rather simple pattern-matching뾠an be exploited for useful purposes. Most people prefer to engage with programs that are human-like, and this gives chatbot-style techniques a potentially useful role in interactive systems that need to elicit information from users, as long as that information is relatively straightforward and falls into predictable categories. Thus, for example, online help systems can usefully employ chatbot techniques to identify the area of help that users require, potentially providing a \"friendlier\" interface than a more formal search or menu system. This sort of usage holds the prospect of moving chatbot technology from Weizenbaum's \"shelf ... reserved for curios\" to that marked \"genuinely useful computational methods\".\n",
      "\n",
      "Development\n",
      "The classic historic early chatbots are ELIZA (1966) and PARRY (1972).[9][10][11][12] More recent notable programs include A.L.I.C.E., Jabberwacky and D.U.D.E (Agence Nationale de la Recherche and CNRS 2006). While ELIZA and PARRY were used exclusively to simulate typed conversation, many chatbots now include functional features such as games and web searching abilities. In 1984, a book called The Policeman's Beard is Half Constructed was published, allegedly written by the chatbot Racter (though the program as released would not have been capable of doing so).[13]\n",
      "\n",
      "One pertinent field of AI research is natural language processing. Usually, weak AI fields employ specialized software or programming languages created specifically for the narrow function required. For example, A.L.I.C.E. uses a markup language called AIML, which is specific to its function as a conversational agent, and has since been adopted by various other developers of, so called, Alicebots. Nevertheless, A.L.I.C.E. is still purely based on pattern matching techniques without any reasoning capabilities, the same technique ELIZA was using back in 1966. This is not strong AI, which would require sapience and logical reasoning abilities.\n",
      "\n",
      "Jabberwacky learns new responses and context based on real-time user interactions, rather than being driven from a static database. Some more recent chatbots also combine real-time learning with evolutionary algorithms that optimise their ability to communicate based on each conversation held. Still, there is currently no general purpose conversational artificial intelligence, and some software developers focus on the practical aspect, information retrieval.\n",
      "\n",
      "Chatbot competitions focus on the Turing test or more specific goals. Two such annual contests are the Loebner Prize and The Chatterbox Challenge (the latter has been offline since 2015, however materials can still be found from web archives).[14]\n",
      "\n",
      "Application\n",
      "See also: Virtual assistant\n",
      "\n",
      "Aeromexico airline chatbot running on Facebook Messenger, March 2018\n",
      "Messaging apps\n",
      "Many companies' chatbots run on messaging apps like Facebook Messenger (since 2016), WeChat (since 2013),[15] WhatsApp, LiveChat, Kik, Slack, Line, Telegram, or simply via SMS. They are used for B2C customer service, sales and marketing.[16]\n",
      "\n",
      "In 2016, Facebook Messenger allowed developers to place chatbots on their platform. There were 30,000 bots created for Messenger in the first six months, rising to 100,000 by September 2017. [17]\n",
      "\n",
      "Since September 2017, this has also been as part of a pilot program on WhatsApp. Airlines KLM and Aeromxico both announced their participation in the testing;[18][19][20][21] both airlines had previously launched customer services on the Facebook Messenger platform.\n",
      "\n",
      "The bots usually appear as one of the user's contacts, but can sometimes act as participants in a group chat.\n",
      "\n",
      "Many banks, insurers, media companies, e-commerce companies, airlines, hotel chains, retailers, health care providers, government entities and restaurant chains have used chatbots to answer simple questions, increase customer engagement,[22] for promotion, and to offer additional ways to order from them.[23][24]\n",
      "\n",
      "A 2017 study showed 4% of companies used chatbots.[25] According to a 2016 study, 80% of businesses said they intended to have one by 2020.[26]\n",
      "\n",
      "As part of company apps and websites\n",
      "Previous generations of chatbots were present on company websites, e.g. Ask Jenn from Alaska Airlines which debuted in 2008[27] or Expedia's virtual customer service agent which launched in 2011.[27][28] The newer generation of chatbots includes IBM Watson-powered \"Rocky\", introduced in February 2017 by the New York City-based e-commerce company Rare Carat to provide information to prospective diamond buyers.[29][30]\n",
      "\n",
      "Company internal platforms\n",
      "Other companies explore ways they can use chatbots internally, for example for Customer Support, Human Resources, or even in Internet-of-Things (IoT) projects. Overstock.com, for one, has reportedly launched a chatbot named Mila to automate certain simple yet time-consuming processes when requesting for a sick leave.[31] Other large companies such as Lloyds Banking Group, Royal Bank of Scotland, Renault and Citron are now using automated online assistants instead of call centres with humans to provide a first point of contact. A SaaS chatbot business ecosystem has been steadily growing since the F8 Conference when Facebook's Mark Zuckerberg unveiled that Messenger would allow chatbots into the app.[32] In large companies, like in hospitals and aviation organizations, IT architects are designing reference architectures for Intelligent Chatbots that are used to unlock and share knowledge and experience in the organization more efficiently, and reduce the errors in answers from expert service desks significantly.[33]. These Intelligent Chatbots make use of all kinds of artificial intelligence like image moderation and natural language understanding (NLU), natural language generation (NLG), machine learning and deep learning.\n",
      "\n",
      "Toys\n",
      "Chatbots have also been incorporated into devices not primarily meant for computing such as toys.[34]\n",
      "\n",
      "Hello Barbie is an Internet-connected version of the doll that uses a chatbot provided by the company ToyTalk,[35] which previously used the chatbot for a range of smartphone-based characters for children.[36] These characters' behaviors are constrained by a set of rules that in effect emulate a particular character and produce a storyline.[37]\n",
      "\n",
      "IBM's Watson computer has been used as the basis for chatbot-based educational toys for companies such as CogniToys[34] intended to interact with children for educational purposes.[38]\n",
      "\n",
      "Chatbot creation\n",
      "The process of creating a chatbot follows a pattern similar to the development of a web page or a mobile app. It can be divided into design, building, analytics and maintenance.[39]\n",
      "\n",
      "Design\n",
      "The chatbot design is the process that defines the interaction between the user and the chatbot. The chatbot designer will define the chatbot personality, the questions that will be asked to the users, and the overall interaction.[40][41] It can be viewed as a subset of the conversational design. In order to speed up this process, designers can use dedicated chatbot design tools that allow for immediate preview, team collaboration and video export.[42] An important part of the chatbot design is also centered around user testing. User testing can be performed following the same principles that guide the user testing of graphical interfaces.[43]\n",
      "\n",
      "Building\n",
      "The process of building a chatbot can be divided into two main tasks: understanding the user's intent and producing the correct answer. The first task involves understanding the user input. In order to properly understand a user input in a free text form, a Natural Language Processing Engine can be used.[44] The second task may involve different approaches depending on the type of the response that the chatbot will generate.\n",
      "\n",
      "Analytics\n",
      "The usage of the chatbot can be monitored in order to spot potential flaws or problems. It can also provide useful insights that can improve the final user experience.[45]\n",
      "\n",
      "Maintenance\n",
      "To keep chatbots up to speed with changing company products and services, traditional chatbot development platforms require ongoing maintenance. This can either be in the form of an ongoing service provider or for larger enterprises in the form of an in-house chatbot training team.[46] To eliminate these costs, some startups are experimenting with Artificial Intelligence to develop self-learning chatbots, particularly in customer service applications.\n",
      "\n",
      "Chatbot development platforms\n",
      "The process of building, testing and deploying chatbots can be done on cloud-based chatbot development platforms[47] offered by cloud Platform as a Service (PaaS) providers such as Oracle Cloud Platform and IBM Watson.[48][49][50] These cloud platforms provide Natural Language Processing, Artificial Intelligence and Mobile Backend as a Service for chatbot development.\n",
      "\n",
      "Malicious use\n",
      "Malicious chatbots are frequently used to fill chat rooms with spam and advertisements, by mimicking human behavior and conversations or to entice people into revealing personal information, such as bank account numbers. They are commonly found on Yahoo! Messenger, Windows Live Messenger, AOL Instant Messenger and other instant messaging protocols. There has also been a published report of a chatbot used in a fake personal ad on a dating service's website.[51]\n",
      "\n",
      "Tay, an AI chatbot that learns from previous interaction, caused major controversy due to it being targeted by internet trolls on Twitter. The bot was exploited, and after 16 hours began to send extremely offensive Tweets to users. This suggests that although the bot learnt effectively from experience, adequate protection was not put in place to prevent misuse.[52]\n",
      "\n",
      "See also\n",
      "Applications of artificial intelligence\n",
      "Eugene Goostman\n",
      "Interactive online characters\n",
      "List of chatterbots\n",
      "SitePal\n",
      "Social bot\n",
      "Tay\n",
      "Twitterbot\n",
      "Citations\n",
      " \"What is a chatbot?\". techtarget.com. Retrieved 30 January 2017.\n",
      " Mauldin 1994\n",
      " Orf, Darren. \"Google Assistant Is a Mega AI Bot That Wants To Be Absoutely Everywhere\".\n",
      " \"The 8 best chatbots of 2016\". 21 December 2016.\n",
      " https://recast.ai/blog/2017-messenger-bot-landscape/\n",
      " (Turing 1950)\n",
      " (Weizenbaum 1966, p. 36)\n",
      " (Weizenbaum 1966, pp. 445)\n",
      " GzeldereFranchi 1995\n",
      " Computer History Museum 2006\n",
      " Sondheim 1997\n",
      " Network Working Group 1973뾗ranscript of a session between Parry and Eliza. (This is not the dialogue from the ICCC, which took place October 2426, 1972, whereas this session is from September 18, 1972.)\n",
      " www.everything.com 13 November 1999\n",
      " (in German) Chatroboter simulieren Menschen\n",
      " \"China, WeChat, and the Origins of Chatbots  Chatbots Magazine\". 12 March 2017. Retrieved 2 July 2018.\n",
      " Beaver, Laurie (July 2016). The Chatbots Explainer. BI Intelligence.\n",
      " \"Facebook Messenger Hits 100,000 bots\". Retrieved 2017-09-22.\n",
      " \"KLM claims airline first with WhatsApp Business Platform\".\n",
      " Staff, Forbes (26 October 2017). \"Aeromxico te atender por WhatsApp durante 2018\". Retrieved 2 July 2018.\n",
      " Redaccin (27 October 2017). \"Podrs hacer 'check in' y consultar tu vuelo con Aeromxico a travs de WhatsApp\". Retrieved 2 July 2018  via Huff Post.\n",
      " \"Building for People, and Now Businesses\". WhatsApp.com. Retrieved 2 July 2018.\n",
      " \"She is the company's most effective employee\". Nordea News.\n",
      " \"Better believe the bot boom is blowing up big for B2B, B2C businesses\". VentureBeat.\n",
      " \"Chatbots Take Education To the Next Level  Chatbot News Daily\". Chatbot News Daily. 2016-09-29. Retrieved 2017-06-23.\n",
      " \"The AI Revolution is Underway!  PM360\". www.pm360online.com. Retrieved 2 July 2018.\n",
      " \"80% of businesses want chatbots by 2020\". Retrieved 2 July 2018.\n",
      " \"A Virtual Travel Agent With All the Answers\". The New York Times. 4 March 2008.\n",
      " \"Chatbot vendor directory released \". www.hypergridbusiness.com.\n",
      " \"Rare Carat's Watson-powered chatbot will help you put a diamond ring on it\". TechCrunch. February 15, 2017.\n",
      " \"10 ways you may have already used IBM Watson\". VentureBeat. March 10, 2017.\n",
      " Greenfield, Rebecca. \"Chatbots Are Your Newest, Dumbest Co-Workers\". Bloomberg.\n",
      " \"Facebook opens its Messenger platform to chatbots\". 12 April 2016.\n",
      " \"Chatbot Reference Architecture\". 1 January 2019.\n",
      " Amy (2015-02-23). \"Conversational Toys  The Latest Trend in Speech Technology\". Virtual Agent Chat. Retrieved 2016-08-11.\n",
      " NAGY, EVIE. \"USING TOYTALK TECHNOLOGY, NEW HELLO BARBIE WILL HAVE REAL CONVERSATIONS WITH KIDS\". Fast Company. Retrieved 18 March 2015.\n",
      " Oren Jacob, the co-founder and CEO of ToyTalk interviewed on the TV show Triangulation on the TWiT.tv network\n",
      " \"Artificial intelligence script tool\".\n",
      " Takahashi, Dean. \"Elemental's smart connected toy taps IBM's Watson supercomputer for its brains\". Venture Beat. Retrieved 15 May 2015.\n",
      " \"Awesome chatbots tools\".\n",
      " \"How to Design a robust chatbot interaction\".\n",
      " \"Principles of bot design\".\n",
      " Implementations include Botsociety botmock and Botframe\n",
      " \"How to perform user testing on your chatbot\".\n",
      " Implementations include Rasa, wit.ai, DialogFlow and Watson\n",
      " \"What are the most common words your bot receives or sends\".\n",
      " \"How much it costs to make a chatbot\".\n",
      " Yuan, Michael (2018-02-19). Chatbots: Building Intelligent, Cross-Platform, Messaging Bots. Pearson Education. ISBN 9780134650616.\n",
      " \"Oracle launches a chatbot development platform | VentureBeat\". venturebeat.com. Retrieved 2017-11-15.\n",
      " \"Oracle Introduces AI-Powered Intelligent Bots to Help Enterprises Engage Customers and Employees\". www.oracle.com. Retrieved 2017-11-15.\n",
      " \"Mobile Service | Oracle Cloud\". cloud.oracle.com. Retrieved 2017-11-15.\n",
      " \"From Russia With Love\" (PDF). Retrieved 2007-12-09. Psychologist and Scientific American: Mind contributing editor Robert Epstein reports how he was initially fooled by a chatterbot posing as an attractive girl in a personal ad he answered on a dating website. In the ad, the girl portrayed herself as being in Southern California and then soon revealed, in poor English, that she was actually in Russia. He became suspicious after a couple of months of email exchanges, sent her an email test of gibberish, and she still replied in general terms. The dating website is not named. Scientific American: Mind, October뻅ovember 2007, page 1617, \"From Russia With Love: How I got fooled (and somewhat humiliated) by a computer\". Also available online.\n",
      " Bird, Jordan J.; Ekart, Aniko; Faria, Diego R. (June 2018). Advances in Computational Intelligence Systems (1st ed.). Nottingham, UK: Springer. pp. 179190. ISBN 978-3-319-97982-3. Retrieved 3 December 2018.\n",
      "References\n",
      "Computer History Museum (2006), \"Internet History1970's\", Exhibits, Computer History Museum, archived from the original on 2008-02-21, retrieved 2008-03-05\n",
      "Gzeldere, Gven; Franchi, Stefano (1995-07-24), \"Constructions of the Mind\", Stanford Humanities Review, SEHR, Stanford University, 4 (2), retrieved 2008-03-05\n",
      "Mauldin, Michael (1994), \"ChatterBots, TinyMuds, and the Turing Test: Entering the Loebner Prize Competition\", Proceedings of the Eleventh National Conference on Artificial Intelligence, AAAI Press, retrieved 2008-03-05 (abstract)\n",
      "Network Working Group (1973), \"RFC 439, PARRY Encounters the DOCTOR\", Internet Engineering Task Force, Internet Society, retrieved 2008-03-05\n",
      "Sondheim, Alan J (1997), <nettime> Important Documents from the Early Internet (1972), nettime.org, archived from the original on 2008-06-13, retrieved 2008-03-05\n",
      "Searle, John (1980), \"Minds, Brains and Programs\", Behavioral and Brain Sciences, 3 (3): 417457, doi:10.1017/S0140525X00005756\n",
      "Shevat, Amir (2017). Designing bots: Creating conversational experiences (First ed.). Sebastopol, CA: O'Reilly Media. ISBN 9781491974827. OCLC 962125282.\n",
      "Turing, Alan (1950), \"Computing Machinery and Intelligence\", Mind, 59: 43360, doi:10.1093/mind/lix.236.433\n",
      "Weizenbaum, Joseph (January 1966), \"ELIZA뾃 Computer Program For the Study of Natural Language Communication Between Man And Machine\", Communications of the ACM, 9 (1): 3645, doi:10.1145/365153.365168\n",
      "vte\n",
      "Natural language processing\n",
      "\n",
      "\n"
     ]
    }
   ],
   "source": [
    "'''\n",
    "데이터를 수집한 경우, 아래의 변수 'filepath' 를 지식 기반의 위치로 업데이트한다. \n",
    "지식 기반은 텍스트 파일의 문장으로 구성되어야 합니다.\n",
    "'''\n",
    "filepath='./data/robots.txt'\n",
    "corpus=open(filepath,'r',errors = 'ignore')\n",
    "raw_data=corpus.read()\n",
    "print (raw_data)"
   ]
  },
  {
   "cell_type": "markdown",
   "metadata": {},
   "source": [
    "#### 1.2.2 소문자로 변환\n",
    "\n",
    "모든 텍스트를 먼저 소문자로 변환합니다. 결과가 완료되면 검사해야 합니다."
   ]
  },
  {
   "cell_type": "code",
   "execution_count": 4,
   "metadata": {},
   "outputs": [
    {
     "name": "stdout",
     "output_type": "stream",
     "text": [
      "chatbotfrom wikipedia, the free encyclopediajump to navigationjump to searcha chatbot (also known as a smartbot, talkbot, chatterbot, bot, im bot, interactive agent, conversational interface or artificial conversational entity) is a computer program or an artificial intelligence which conducts a conversation via auditory or textual methods.[1] such programs are often designed to convincingly simulate how a human would behave as a conversational partner, thereby passing the turing test. chatbots are typically used in dialog systems for various practical purposes including customer service or information acquisition. some chatbots use sophisticated natural language processing systems, but many simpler ones scan for keywords within the input, then pull a reply with the most matching keywords, or the most similar wording pattern, from a database.the term \"chatterbot\" was originally coined by michael mauldin (creator of the first verbot, julia) in 1994 to describe these conversational programs.[2] today, most chatbots are accessed via virtual assistants such as google assistant and amazon alexa, via messaging apps such as facebook messenger or wechat, or via individual organizations' apps and websites.[3][4] chatbots can be classified into usage categories such as conversational commerce (e-commerce via chat), analytics, communication, customer support, design, developer tools, education, entertainment, finance, food, games, health, hr, marketing, news, personal, productivity, shopping, social, sports, travel and utilities.[5]backgroundin 1950, alan turing's famous article \"computing machinery and intelligence\" was published,[6] which proposed what is now called the turing test as a criterion of intelligence. this criterion depends on the ability of a computer program to impersonate a human in a real-time written conversation with a human judge, sufficiently well that the judge is unable to distinguish reliably뾬n the basis of the conversational content alone뾟etween the program and a real human. the notoriety of turing's proposed test stimulated great interest in joseph weizenbaum's program eliza, published in 1966, which seemed to be able to fool users into believing that they were conversing with a real human. however weizenbaum himself did not claim that eliza was genuinely intelligent, and the introduction to his paper presented it more as a debunking exercise:[in] artificial intelligence ... machines are made to behave in wondrous ways, often sufficient to dazzle even the most experienced observer. but once a particular program is unmasked, once its inner workings are explained ... its magic crumbles away; it stands revealed as a mere collection of procedures ... the observer says to himself \"i could have written that\". with that thought he moves the program in question from the shelf marked \"intelligent\", to that reserved for curios ... the object of this paper is to cause just such a re-evaluation of the program about to be \"explained\". few programs ever needed it more.[7]eliza's key method of operation (copied by chatbot designers ever since) involves the recognition of cue words or phrases in the input, and the output of corresponding pre-prepared or pre-programmed responses that can move the conversation forward in an apparently meaningful way (e.g. by responding to any input that contains the word 'mother' with 'tell me more about your family').[8] thus an illusion of understanding is generated, even though the processing involved has been merely superficial. eliza showed that such an illusion is surprisingly easy to generate, because human judges are so ready to give the benefit of the doubt when conversational responses are capable of being interpreted as \"intelligent\".interface designers have come to appreciate that humans' readiness to interpret computer output as genuinely conversational뾢ven when it is actually based on rather simple pattern-matching뾠an be exploited for useful purposes. most people prefer to engage with programs that are human-like, and this gives chatbot-style techniques a potentially useful role in interactive systems that need to elicit information from users, as long as that information is relatively straightforward and falls into predictable categories. thus, for example, online help systems can usefully employ chatbot techniques to identify the area of help that users require, potentially providing a \"friendlier\" interface than a more formal search or menu system. this sort of usage holds the prospect of moving chatbot technology from weizenbaum's \"shelf ... reserved for curios\" to that marked \"genuinely useful computational methods\".developmentthe classic historic early chatbots are eliza (1966) and parry (1972).[9][10][11][12] more recent notable programs include a.l.i.c.e., jabberwacky and d.u.d.e (agence nationale de la recherche and cnrs 2006). while eliza and parry were used exclusively to simulate typed conversation, many chatbots now include functional features such as games and web searching abilities. in 1984, a book called the policeman's beard is half constructed was published, allegedly written by the chatbot racter (though the program as released would not have been capable of doing so).[13]one pertinent field of ai research is natural language processing. usually, weak ai fields employ specialized software or programming languages created specifically for the narrow function required. for example, a.l.i.c.e. uses a markup language called aiml, which is specific to its function as a conversational agent, and has since been adopted by various other developers of, so called, alicebots. nevertheless, a.l.i.c.e. is still purely based on pattern matching techniques without any reasoning capabilities, the same technique eliza was using back in 1966. this is not strong ai, which would require sapience and logical reasoning abilities.jabberwacky learns new responses and context based on real-time user interactions, rather than being driven from a static database. some more recent chatbots also combine real-time learning with evolutionary algorithms that optimise their ability to communicate based on each conversation held. still, there is currently no general purpose conversational artificial intelligence, and some software developers focus on the practical aspect, information retrieval.chatbot competitions focus on the turing test or more specific goals. two such annual contests are the loebner prize and the chatterbox challenge (the latter has been offline since 2015, however materials can still be found from web archives).[14]applicationsee also: virtual assistantaeromexico airline chatbot running on facebook messenger, march 2018messaging appsmany companies' chatbots run on messaging apps like facebook messenger (since 2016), wechat (since 2013),[15] whatsapp, livechat, kik, slack, line, telegram, or simply via sms. they are used for b2c customer service, sales and marketing.[16]in 2016, facebook messenger allowed developers to place chatbots on their platform. there were 30,000 bots created for messenger in the first six months, rising to 100,000 by september 2017. [17]since september 2017, this has also been as part of a pilot program on whatsapp. airlines klm and aeromxico both announced their participation in the testing;[18][19][20][21] both airlines had previously launched customer services on the facebook messenger platform.the bots usually appear as one of the user's contacts, but can sometimes act as participants in a group chat.many banks, insurers, media companies, e-commerce companies, airlines, hotel chains, retailers, health care providers, government entities and restaurant chains have used chatbots to answer simple questions, increase customer engagement,[22] for promotion, and to offer additional ways to order from them.[23][24]a 2017 study showed 4% of companies used chatbots.[25] according to a 2016 study, 80% of businesses said they intended to have one by 2020.[26]as part of company apps and websitesprevious generations of chatbots were present on company websites, e.g. ask jenn from alaska airlines which debuted in 2008[27] or expedia's virtual customer service agent which launched in 2011.[27][28] the newer generation of chatbots includes ibm watson-powered \"rocky\", introduced in february 2017 by the new york city-based e-commerce company rare carat to provide information to prospective diamond buyers.[29][30]company internal platformsother companies explore ways they can use chatbots internally, for example for customer support, human resources, or even in internet-of-things (iot) projects. overstock.com, for one, has reportedly launched a chatbot named mila to automate certain simple yet time-consuming processes when requesting for a sick leave.[31] other large companies such as lloyds banking group, royal bank of scotland, renault and citron are now using automated online assistants instead of call centres with humans to provide a first point of contact. a saas chatbot business ecosystem has been steadily growing since the f8 conference when facebook's mark zuckerberg unveiled that messenger would allow chatbots into the app.[32] in large companies, like in hospitals and aviation organizations, it architects are designing reference architectures for intelligent chatbots that are used to unlock and share knowledge and experience in the organization more efficiently, and reduce the errors in answers from expert service desks significantly.[33]. these intelligent chatbots make use of all kinds of artificial intelligence like image moderation and natural language understanding (nlu), natural language generation (nlg), machine learning and deep learning.toyschatbots have also been incorporated into devices not primarily meant for computing such as toys.[34]hello barbie is an internet-connected version of the doll that uses a chatbot provided by the company toytalk,[35] which previously used the chatbot for a range of smartphone-based characters for children.[36] these characters' behaviors are constrained by a set of rules that in effect emulate a particular character and produce a storyline.[37]ibm's watson computer has been used as the basis for chatbot-based educational toys for companies such as cognitoys[34] intended to interact with children for educational purposes.[38]chatbot creationthe process of creating a chatbot follows a pattern similar to the development of a web page or a mobile app. it can be divided into design, building, analytics and maintenance.[39]designthe chatbot design is the process that defines the interaction between the user and the chatbot. the chatbot designer will define the chatbot personality, the questions that will be asked to the users, and the overall interaction.[40][41] it can be viewed as a subset of the conversational design. in order to speed up this process, designers can use dedicated chatbot design tools that allow for immediate preview, team collaboration and video export.[42] an important part of the chatbot design is also centered around user testing. user testing can be performed following the same principles that guide the user testing of graphical interfaces.[43]buildingthe process of building a chatbot can be divided into two main tasks: understanding the user's intent and producing the correct answer. the first task involves understanding the user input. in order to properly understand a user input in a free text form, a natural language processing engine can be used.[44] the second task may involve different approaches depending on the type of the response that the chatbot will generate.analyticsthe usage of the chatbot can be monitored in order to spot potential flaws or problems. it can also provide useful insights that can improve the final user experience.[45]maintenanceto keep chatbots up to speed with changing company products and services, traditional chatbot development platforms require ongoing maintenance. this can either be in the form of an ongoing service provider or for larger enterprises in the form of an in-house chatbot training team.[46] to eliminate these costs, some startups are experimenting with artificial intelligence to develop self-learning chatbots, particularly in customer service applications.chatbot development platformsthe process of building, testing and deploying chatbots can be done on cloud-based chatbot development platforms[47] offered by cloud platform as a service (paas) providers such as oracle cloud platform and ibm watson.[48][49][50] these cloud platforms provide natural language processing, artificial intelligence and mobile backend as a service for chatbot development.malicious usemalicious chatbots are frequently used to fill chat rooms with spam and advertisements, by mimicking human behavior and conversations or to entice people into revealing personal information, such as bank account numbers. they are commonly found on yahoo! messenger, windows live messenger, aol instant messenger and other instant messaging protocols. there has also been a published report of a chatbot used in a fake personal ad on a dating service's website.[51]tay, an ai chatbot that learns from previous interaction, caused major controversy due to it being targeted by internet trolls on twitter. the bot was exploited, and after 16 hours began to send extremely offensive tweets to users. this suggests that although the bot learnt effectively from experience, adequate protection was not put in place to prevent misuse.[52]see alsoapplications of artificial intelligenceeugene goostmaninteractive online characterslist of chatterbotssitepalsocial bottaytwitterbotcitations \"what is a chatbot?\". techtarget.com. retrieved 30 january 2017. mauldin 1994 orf, darren. \"google assistant is a mega ai bot that wants to be absoutely everywhere\". \"the 8 best chatbots of 2016\". 21 december 2016. https://recast.ai/blog/2017-messenger-bot-landscape/ (turing 1950) (weizenbaum 1966, p. 36) (weizenbaum 1966, pp. 445) gzelderefranchi 1995 computer history museum 2006 sondheim 1997 network working group 1973뾗ranscript of a session between parry and eliza. (this is not the dialogue from the iccc, which took place october 2426, 1972, whereas this session is from september 18, 1972.) www.everything.com 13 november 1999 (in german) chatroboter simulieren menschen \"china, wechat, and the origins of chatbots  chatbots magazine\". 12 march 2017. retrieved 2 july 2018. beaver, laurie (july 2016). the chatbots explainer. bi intelligence. \"facebook messenger hits 100,000 bots\". retrieved 2017-09-22. \"klm claims airline first with whatsapp business platform\". staff, forbes (26 october 2017). \"aeromxico te atender por whatsapp durante 2018\". retrieved 2 july 2018. redaccin (27 october 2017). \"podrs hacer 'check in' y consultar tu vuelo con aeromxico a travs de whatsapp\". retrieved 2 july 2018  via huff post. \"building for people, and now businesses\". whatsapp.com. retrieved 2 july 2018. \"she is the company's most effective employee\". nordea news. \"better believe the bot boom is blowing up big for b2b, b2c businesses\". venturebeat. \"chatbots take education to the next level  chatbot news daily\". chatbot news daily. 2016-09-29. retrieved 2017-06-23. \"the ai revolution is underway!  pm360\". www.pm360online.com. retrieved 2 july 2018. \"80% of businesses want chatbots by 2020\". retrieved 2 july 2018. \"a virtual travel agent with all the answers\". the new york times. 4 march 2008. \"chatbot vendor directory released \". www.hypergridbusiness.com. \"rare carat's watson-powered chatbot will help you put a diamond ring on it\". techcrunch. february 15, 2017. \"10 ways you may have already used ibm watson\". venturebeat. march 10, 2017. greenfield, rebecca. \"chatbots are your newest, dumbest co-workers\". bloomberg. \"facebook opens its messenger platform to chatbots\". 12 april 2016. \"chatbot reference architecture\". 1 january 2019. amy (2015-02-23). \"conversational toys  the latest trend in speech technology\". virtual agent chat. retrieved 2016-08-11. nagy, evie. \"using toytalk technology, new hello barbie will have real conversations with kids\". fast company. retrieved 18 march 2015. oren jacob, the co-founder and ceo of toytalk interviewed on the tv show triangulation on the twit.tv network \"artificial intelligence script tool\". takahashi, dean. \"elemental's smart connected toy taps ibm's watson supercomputer for its brains\". venture beat. retrieved 15 may 2015. \"awesome chatbots tools\". \"how to design a robust chatbot interaction\". \"principles of bot design\". implementations include botsociety botmock and botframe \"how to perform user testing on your chatbot\". implementations include rasa, wit.ai, dialogflow and watson \"what are the most common words your bot receives or sends\". \"how much it costs to make a chatbot\". yuan, michael (2018-02-19). chatbots: building intelligent, cross-platform, messaging bots. pearson education. isbn 9780134650616. \"oracle launches a chatbot development platform | venturebeat\". venturebeat.com. retrieved 2017-11-15. \"oracle introduces ai-powered intelligent bots to help enterprises engage customers and employees\". www.oracle.com. retrieved 2017-11-15. \"mobile service | oracle cloud\". cloud.oracle.com. retrieved 2017-11-15. \"from russia with love\" (pdf). retrieved 2007-12-09. psychologist and scientific american: mind contributing editor robert epstein reports how he was initially fooled by a chatterbot posing as an attractive girl in a personal ad he answered on a dating website. in the ad, the girl portrayed herself as being in southern california and then soon revealed, in poor english, that she was actually in russia. he became suspicious after a couple of months of email exchanges, sent her an email test of gibberish, and she still replied in general terms. the dating website is not named. scientific american: mind, october뻅ovember 2007, page 1617, \"from russia with love: how i got fooled (and somewhat humiliated) by a computer\". also available online. bird, jordan j.; ekart, aniko; faria, diego r. (june 2018). advances in computational intelligence systems (1st ed.). nottingham, uk: springer. pp. 179190. isbn 978-3-319-97982-3. retrieved 3 december 2018.referencescomputer history museum (2006), \"internet history1970's\", exhibits, computer history museum, archived from the original on 2008-02-21, retrieved 2008-03-05gzeldere, gven; franchi, stefano (1995-07-24), \"constructions of the mind\", stanford humanities review, sehr, stanford university, 4 (2), retrieved 2008-03-05mauldin, michael (1994), \"chatterbots, tinymuds, and the turing test: entering the loebner prize competition\", proceedings of the eleventh national conference on artificial intelligence, aaai press, retrieved 2008-03-05 (abstract)network working group (1973), \"rfc 439, parry encounters the doctor\", internet engineering task force, internet society, retrieved 2008-03-05sondheim, alan j (1997), <nettime> important documents from the early internet (1972), nettime.org, archived from the original on 2008-06-13, retrieved 2008-03-05searle, john (1980), \"minds, brains and programs\", behavioral and brain sciences, 3 (3): 417457, doi:10.1017/s0140525x00005756shevat, amir (2017). designing bots: creating conversational experiences (first ed.). sebastopol, ca: o'reilly media. isbn 9781491974827. oclc 962125282.turing, alan (1950), \"computing machinery and intelligence\", mind, 59: 43360, doi:10.1093/mind/lix.236.433weizenbaum, joseph (january 1966), \"eliza뾃 computer program for the study of natural language communication between man and machine\", communications of the acm, 9 (1): 3645, doi:10.1145/365153.365168vtenatural language processing\n"
     ]
    }
   ],
   "source": [
    "#your code here\n",
    "raw_data = raw_data.lower().replace(\"\\n\", \"\")\n",
    "print(raw_data)"
   ]
  },
  {
   "cell_type": "markdown",
   "metadata": {},
   "source": [
    "#### 1.2.3  문장 세분화\n",
    "\n",
    "funtion.sent_tokenizer를 사용하여 문서를 문장 목록으로 변환합니다."
   ]
  },
  {
   "cell_type": "code",
   "execution_count": 5,
   "metadata": {},
   "outputs": [
    {
     "name": "stdout",
     "output_type": "stream",
     "text": [
      "['chatbotfrom wikipedia, the free encyclopediajump to navigationjump to searcha chatbot (also known as a smartbot, talkbot, chatterbot, bot, im bot, interactive agent, conversational interface or artificial conversational entity) is a computer program or an artificial intelligence which conducts a conversation via auditory or textual methods.', '[1] such programs are often designed to convincingly simulate how a human would behave as a conversational partner, thereby passing the turing test.', 'chatbots are typically used in dialog systems for various practical purposes including customer service or information acquisition.', 'some chatbots use sophisticated natural language processing systems, but many simpler ones scan for keywords within the input, then pull a reply with the most matching keywords, or the most similar wording pattern, from a database.the term \"chatterbot\" was originally coined by michael mauldin (creator of the first verbot, julia) in 1994 to describe these conversational programs.', \"[2] today, most chatbots are accessed via virtual assistants such as google assistant and amazon alexa, via messaging apps such as facebook messenger or wechat, or via individual organizations' apps and websites.\", '[3][4] chatbots can be classified into usage categories such as conversational commerce (e-commerce via chat), analytics, communication, customer support, design, developer tools, education, entertainment, finance, food, games, health, hr, marketing, news, personal, productivity, shopping, social, sports, travel and utilities.', '[5]backgroundin 1950, alan turing\\'s famous article \"computing machinery and intelligence\" was published,[6] which proposed what is now called the turing test as a criterion of intelligence.', 'this criterion depends on the ability of a computer program to impersonate a human in a real-time written conversation with a human judge, sufficiently well that the judge is unable to distinguish reliably뾬n the basis of the conversational content alone뾟etween the program and a real human.', \"the notoriety of turing's proposed test stimulated great interest in joseph weizenbaum's program eliza, published in 1966, which seemed to be able to fool users into believing that they were conversing with a real human.\", 'however weizenbaum himself did not claim that eliza was genuinely intelligent, and the introduction to his paper presented it more as a debunking exercise:[in] artificial intelligence ... machines are made to behave in wondrous ways, often sufficient to dazzle even the most experienced observer.', 'but once a particular program is unmasked, once its inner workings are explained ... its magic crumbles away; it stands revealed as a mere collection of procedures ... the observer says to himself \"i could have written that\".', 'with that thought he moves the program in question from the shelf marked \"intelligent\", to that reserved for curios ... the object of this paper is to cause just such a re-evaluation of the program about to be \"explained\".', 'few programs ever needed it more.', \"[7]eliza's key method of operation (copied by chatbot designers ever since) involves the recognition of cue words or phrases in the input, and the output of corresponding pre-prepared or pre-programmed responses that can move the conversation forward in an apparently meaningful way (e.g.\", \"by responding to any input that contains the word 'mother' with 'tell me more about your family').\", '[8] thus an illusion of understanding is generated, even though the processing involved has been merely superficial.', 'eliza showed that such an illusion is surprisingly easy to generate, because human judges are so ready to give the benefit of the doubt when conversational responses are capable of being interpreted as \"intelligent\".interface designers have come to appreciate that humans\\' readiness to interpret computer output as genuinely conversational뾢ven when it is actually based on rather simple pattern-matching뾠an be exploited for useful purposes.', 'most people prefer to engage with programs that are human-like, and this gives chatbot-style techniques a potentially useful role in interactive systems that need to elicit information from users, as long as that information is relatively straightforward and falls into predictable categories.', 'thus, for example, online help systems can usefully employ chatbot techniques to identify the area of help that users require, potentially providing a \"friendlier\" interface than a more formal search or menu system.', 'this sort of usage holds the prospect of moving chatbot technology from weizenbaum\\'s \"shelf ... reserved for curios\" to that marked \"genuinely useful computational methods\".developmentthe classic historic early chatbots are eliza (1966) and parry (1972).', '[9][10][11][12] more recent notable programs include a.l.i.c.e., jabberwacky and d.u.d.e (agence nationale de la recherche and cnrs 2006).', 'while eliza and parry were used exclusively to simulate typed conversation, many chatbots now include functional features such as games and web searching abilities.', \"in 1984, a book called the policeman's beard is half constructed was published, allegedly written by the chatbot racter (though the program as released would not have been capable of doing so).\", '[13]one pertinent field of ai research is natural language processing.', 'usually, weak ai fields employ specialized software or programming languages created specifically for the narrow function required.', 'for example, a.l.i.c.e.', 'uses a markup language called aiml, which is specific to its function as a conversational agent, and has since been adopted by various other developers of, so called, alicebots.', 'nevertheless, a.l.i.c.e.', 'is still purely based on pattern matching techniques without any reasoning capabilities, the same technique eliza was using back in 1966. this is not strong ai, which would require sapience and logical reasoning abilities.jabberwacky learns new responses and context based on real-time user interactions, rather than being driven from a static database.', 'some more recent chatbots also combine real-time learning with evolutionary algorithms that optimise their ability to communicate based on each conversation held.', 'still, there is currently no general purpose conversational artificial intelligence, and some software developers focus on the practical aspect, information retrieval.chatbot competitions focus on the turing test or more specific goals.', 'two such annual contests are the loebner prize and the chatterbox challenge (the latter has been offline since 2015, however materials can still be found from web archives).', \"[14]applicationsee also: virtual assistantaeromexico airline chatbot running on facebook messenger, march 2018messaging appsmany companies' chatbots run on messaging apps like facebook messenger (since 2016), wechat (since 2013),[15] whatsapp, livechat, kik, slack, line, telegram, or simply via sms.\", 'they are used for b2c customer service, sales and marketing.', '[16]in 2016, facebook messenger allowed developers to place chatbots on their platform.', 'there were 30,000 bots created for messenger in the first six months, rising to 100,000 by september 2017.', '[17]since september 2017, this has also been as part of a pilot program on whatsapp.', \"airlines klm and aeromxico both announced their participation in the testing;[18][19][20][21] both airlines had previously launched customer services on the facebook messenger platform.the bots usually appear as one of the user's contacts, but can sometimes act as participants in a group chat.many banks, insurers, media companies, e-commerce companies, airlines, hotel chains, retailers, health care providers, government entities and restaurant chains have used chatbots to answer simple questions, increase customer engagement,[22] for promotion, and to offer additional ways to order from them.\", '[23][24]a 2017 study showed 4% of companies used chatbots.', '[25] according to a 2016 study, 80% of businesses said they intended to have one by 2020.', '[26]as part of company apps and websitesprevious generations of chatbots were present on company websites, e.g.', \"ask jenn from alaska airlines which debuted in 2008[27] or expedia's virtual customer service agent which launched in 2011.\", '[27][28] the newer generation of chatbots includes ibm watson-powered \"rocky\", introduced in february 2017 by the new york city-based e-commerce company rare carat to provide information to prospective diamond buyers.', '[29][30]company internal platformsother companies explore ways they can use chatbots internally, for example for customer support, human resources, or even in internet-of-things (iot) projects.', 'overstock.com, for one, has reportedly launched a chatbot named mila to automate certain simple yet time-consuming processes when requesting for a sick leave.', '[31] other large companies such as lloyds banking group, royal bank of scotland, renault and citron are now using automated online assistants instead of call centres with humans to provide a first point of contact.', \"a saas chatbot business ecosystem has been steadily growing since the f8 conference when facebook's mark zuckerberg unveiled that messenger would allow chatbots into the app.\", '[32] in large companies, like in hospitals and aviation organizations, it architects are designing reference architectures for intelligent chatbots that are used to unlock and share knowledge and experience in the organization more efficiently, and reduce the errors in answers from expert service desks significantly.[33].', 'these intelligent chatbots make use of all kinds of artificial intelligence like image moderation and natural language understanding (nlu), natural language generation (nlg), machine learning and deep learning.toyschatbots have also been incorporated into devices not primarily meant for computing such as toys.', '[34]hello barbie is an internet-connected version of the doll that uses a chatbot provided by the company toytalk,[35] which previously used the chatbot for a range of smartphone-based characters for children.', \"[36] these characters' behaviors are constrained by a set of rules that in effect emulate a particular character and produce a storyline.\", \"[37]ibm's watson computer has been used as the basis for chatbot-based educational toys for companies such as cognitoys[34] intended to interact with children for educational purposes.\", '[38]chatbot creationthe process of creating a chatbot follows a pattern similar to the development of a web page or a mobile app.', 'it can be divided into design, building, analytics and maintenance.', '[39]designthe chatbot design is the process that defines the interaction between the user and the chatbot.', 'the chatbot designer will define the chatbot personality, the questions that will be asked to the users, and the overall interaction.', '[40][41] it can be viewed as a subset of the conversational design.', 'in order to speed up this process, designers can use dedicated chatbot design tools that allow for immediate preview, team collaboration and video export.', '[42] an important part of the chatbot design is also centered around user testing.', 'user testing can be performed following the same principles that guide the user testing of graphical interfaces.', \"[43]buildingthe process of building a chatbot can be divided into two main tasks: understanding the user's intent and producing the correct answer.\", 'the first task involves understanding the user input.', 'in order to properly understand a user input in a free text form, a natural language processing engine can be used.', '[44] the second task may involve different approaches depending on the type of the response that the chatbot will generate.analyticsthe usage of the chatbot can be monitored in order to spot potential flaws or problems.', 'it can also provide useful insights that can improve the final user experience.', '[45]maintenanceto keep chatbots up to speed with changing company products and services, traditional chatbot development platforms require ongoing maintenance.', 'this can either be in the form of an ongoing service provider or for larger enterprises in the form of an in-house chatbot training team.', '[46] to eliminate these costs, some startups are experimenting with artificial intelligence to develop self-learning chatbots, particularly in customer service applications.chatbot development platformsthe process of building, testing and deploying chatbots can be done on cloud-based chatbot development platforms[47] offered by cloud platform as a service (paas) providers such as oracle cloud platform and ibm watson.', '[48][49][50] these cloud platforms provide natural language processing, artificial intelligence and mobile backend as a service for chatbot development.malicious usemalicious chatbots are frequently used to fill chat rooms with spam and advertisements, by mimicking human behavior and conversations or to entice people into revealing personal information, such as bank account numbers.', 'they are commonly found on yahoo!', 'messenger, windows live messenger, aol instant messenger and other instant messaging protocols.', \"there has also been a published report of a chatbot used in a fake personal ad on a dating service's website.\", '[51]tay, an ai chatbot that learns from previous interaction, caused major controversy due to it being targeted by internet trolls on twitter.', 'the bot was exploited, and after 16 hours began to send extremely offensive tweets to users.', 'this suggests that although the bot learnt effectively from experience, adequate protection was not put in place to prevent misuse.', '[52]see alsoapplications of artificial intelligenceeugene goostmaninteractive online characterslist of chatterbotssitepalsocial bottaytwitterbotcitations \"what is a chatbot?\".', 'techtarget.com.', 'retrieved 30 january 2017. mauldin 1994 orf, darren.', '\"google assistant is a mega ai bot that wants to be absoutely everywhere\".', '\"the 8 best chatbots of 2016\".', '21 december 2016. https://recast.ai/blog/2017-messenger-bot-landscape/ (turing 1950) (weizenbaum 1966, p. 36) (weizenbaum 1966, pp.', '445) gzelderefranchi 1995 computer history museum 2006 sondheim 1997 network working group 1973뾗ranscript of a session between parry and eliza.', '(this is not the dialogue from the iccc, which took place october 2426, 1972, whereas this session is from september 18, 1972.)', 'www.everything.com 13 november 1999 (in german) chatroboter simulieren menschen \"china, wechat, and the origins of chatbots  chatbots magazine\".', '12 march 2017. retrieved 2 july 2018. beaver, laurie (july 2016).', 'the chatbots explainer.', 'bi intelligence.', '\"facebook messenger hits 100,000 bots\".', 'retrieved 2017-09-22.', '\"klm claims airline first with whatsapp business platform\".', 'staff, forbes (26 october 2017).', '\"aeromxico te atender por whatsapp durante 2018\".', 'retrieved 2 july 2018. redaccin (27 october 2017).', '\"podrs hacer \\'check in\\' y consultar tu vuelo con aeromxico a travs de whatsapp\".', 'retrieved 2 july 2018  via huff post.', '\"building for people, and now businesses\".', 'whatsapp.com.', 'retrieved 2 july 2018.', '\"she is the company\\'s most effective employee\".', 'nordea news.', '\"better believe the bot boom is blowing up big for b2b, b2c businesses\".', 'venturebeat.', '\"chatbots take education to the next level  chatbot news daily\".', 'chatbot news daily.', '2016-09-29. retrieved 2017-06-23.', '\"the ai revolution is underway!', 'pm360\".', 'www.pm360online.com.', 'retrieved 2 july 2018.', '\"80% of businesses want chatbots by 2020\".', 'retrieved 2 july 2018.', '\"a virtual travel agent with all the answers\".', 'the new york times.', '4 march 2008.', '\"chatbot vendor directory released \".', 'www.hypergridbusiness.com.', '\"rare carat\\'s watson-powered chatbot will help you put a diamond ring on it\".', 'techcrunch.', 'february 15, 2017.', '\"10 ways you may have already used ibm watson\".', 'venturebeat.', 'march 10, 2017. greenfield, rebecca.', '\"chatbots are your newest, dumbest co-workers\".', 'bloomberg.', '\"facebook opens its messenger platform to chatbots\".', '12 april 2016.', '\"chatbot reference architecture\".', '1 january 2019. amy (2015-02-23).', '\"conversational toys  the latest trend in speech technology\".', 'virtual agent chat.', 'retrieved 2016-08-11. nagy, evie.', '\"using toytalk technology, new hello barbie will have real conversations with kids\".', 'fast company.', 'retrieved 18 march 2015. oren jacob, the co-founder and ceo of toytalk interviewed on the tv show triangulation on the twit.tv network \"artificial intelligence script tool\".', 'takahashi, dean.', '\"elemental\\'s smart connected toy taps ibm\\'s watson supercomputer for its brains\".', 'venture beat.', 'retrieved 15 may 2015.', '\"awesome chatbots tools\".', '\"how to design a robust chatbot interaction\".', '\"principles of bot design\".', 'implementations include botsociety botmock and botframe \"how to perform user testing on your chatbot\".', 'implementations include rasa, wit.ai, dialogflow and watson \"what are the most common words your bot receives or sends\".', '\"how much it costs to make a chatbot\".', 'yuan, michael (2018-02-19).', 'chatbots: building intelligent, cross-platform, messaging bots.', 'pearson education.', 'isbn 9780134650616.', '\"oracle launches a chatbot development platform | venturebeat\".', 'venturebeat.com.', 'retrieved 2017-11-15.', '\"oracle introduces ai-powered intelligent bots to help enterprises engage customers and employees\".', 'www.oracle.com.', 'retrieved 2017-11-15.', '\"mobile service | oracle cloud\".', 'cloud.oracle.com.', 'retrieved 2017-11-15.', '\"from russia with love\" (pdf).', 'retrieved 2007-12-09. psychologist and scientific american: mind contributing editor robert epstein reports how he was initially fooled by a chatterbot posing as an attractive girl in a personal ad he answered on a dating website.', 'in the ad, the girl portrayed herself as being in southern california and then soon revealed, in poor english, that she was actually in russia.', 'he became suspicious after a couple of months of email exchanges, sent her an email test of gibberish, and she still replied in general terms.', 'the dating website is not named.', 'scientific american: mind, october뻅ovember 2007, page 1617, \"from russia with love: how i got fooled (and somewhat humiliated) by a computer\".', 'also available online.', 'bird, jordan j.; ekart, aniko; faria, diego r. (june 2018).', 'advances in computational intelligence systems (1st ed.).', 'nottingham, uk: springer.', 'pp.', '179190. isbn 978-3-319-97982-3. retrieved 3 december 2018.referencescomputer history museum (2006), \"internet history1970\\'s\", exhibits, computer history museum, archived from the original on 2008-02-21, retrieved 2008-03-05gzeldere, gven; franchi, stefano (1995-07-24), \"constructions of the mind\", stanford humanities review, sehr, stanford university, 4 (2), retrieved 2008-03-05mauldin, michael (1994), \"chatterbots, tinymuds, and the turing test: entering the loebner prize competition\", proceedings of the eleventh national conference on artificial intelligence, aaai press, retrieved 2008-03-05 (abstract)network working group (1973), \"rfc 439, parry encounters the doctor\", internet engineering task force, internet society, retrieved 2008-03-05sondheim, alan j (1997), <nettime> important documents from the early internet (1972), nettime.org, archived from the original on 2008-06-13, retrieved 2008-03-05searle, john (1980), \"minds, brains and programs\", behavioral and brain sciences, 3 (3): 417457, doi:10.1017/s0140525x00005756shevat, amir (2017).', 'designing bots: creating conversational experiences (first ed.).', \"sebastopol, ca: o'reilly media.\", 'isbn 9781491974827. oclc 962125282.turing, alan (1950), \"computing machinery and intelligence\", mind, 59: 43360, doi:10.1093/mind/lix.236.433weizenbaum, joseph (january 1966), \"eliza뾃 computer program for the study of natural language communication between man and machine\", communications of the acm, 9 (1): 3645, doi:10.1145/365153.365168vtenatural language processing']\n"
     ]
    }
   ],
   "source": [
    "#your code here\n",
    "from nltk.tokenize import sent_tokenize\n",
    "\n",
    "sent_tokens = sent_tokenize(raw_data)\n",
    "print(sent_tokens)"
   ]
  },
  {
   "cell_type": "markdown",
   "metadata": {},
   "source": [
    "좋아요! 문서를 문장으로 구분했습니다. 그러나 지금 개별 문장을 해독하는 것은 어렵다는 것을 알 수 있습니다.\n",
    "\n",
    "### 실습: 각 문장을 새로운 줄에 출력합니다!\n",
    "\n",
    "이렇게 하면 문장을 읽는 것이 더 쉬울 것입니다!\n",
    "\n",
    "이를 수행하는 방법을 학습하려면 [여기](https://www.geeksforgeeks.org/print-lists-in-python-4-different-ways/) 링크를 사용하십시오.\n"
   ]
  },
  {
   "cell_type": "code",
   "execution_count": 6,
   "metadata": {},
   "outputs": [
    {
     "name": "stdout",
     "output_type": "stream",
     "text": [
      "printing lists in new line\n",
      "chatbotfrom wikipedia, the free encyclopediajump to navigationjump to searcha chatbot (also known as a smartbot, talkbot, chatterbot, bot, im bot, interactive agent, conversational interface or artificial conversational entity) is a computer program or an artificial intelligence which conducts a conversation via auditory or textual methods.\n",
      "[1] such programs are often designed to convincingly simulate how a human would behave as a conversational partner, thereby passing the turing test.\n",
      "chatbots are typically used in dialog systems for various practical purposes including customer service or information acquisition.\n",
      "some chatbots use sophisticated natural language processing systems, but many simpler ones scan for keywords within the input, then pull a reply with the most matching keywords, or the most similar wording pattern, from a database.the term \"chatterbot\" was originally coined by michael mauldin (creator of the first verbot, julia) in 1994 to describe these conversational programs.\n",
      "[2] today, most chatbots are accessed via virtual assistants such as google assistant and amazon alexa, via messaging apps such as facebook messenger or wechat, or via individual organizations' apps and websites.\n",
      "[3][4] chatbots can be classified into usage categories such as conversational commerce (e-commerce via chat), analytics, communication, customer support, design, developer tools, education, entertainment, finance, food, games, health, hr, marketing, news, personal, productivity, shopping, social, sports, travel and utilities.\n",
      "[5]backgroundin 1950, alan turing's famous article \"computing machinery and intelligence\" was published,[6] which proposed what is now called the turing test as a criterion of intelligence.\n",
      "this criterion depends on the ability of a computer program to impersonate a human in a real-time written conversation with a human judge, sufficiently well that the judge is unable to distinguish reliably뾬n the basis of the conversational content alone뾟etween the program and a real human.\n",
      "the notoriety of turing's proposed test stimulated great interest in joseph weizenbaum's program eliza, published in 1966, which seemed to be able to fool users into believing that they were conversing with a real human.\n",
      "however weizenbaum himself did not claim that eliza was genuinely intelligent, and the introduction to his paper presented it more as a debunking exercise:[in] artificial intelligence ... machines are made to behave in wondrous ways, often sufficient to dazzle even the most experienced observer.\n",
      "but once a particular program is unmasked, once its inner workings are explained ... its magic crumbles away; it stands revealed as a mere collection of procedures ... the observer says to himself \"i could have written that\".\n",
      "with that thought he moves the program in question from the shelf marked \"intelligent\", to that reserved for curios ... the object of this paper is to cause just such a re-evaluation of the program about to be \"explained\".\n",
      "few programs ever needed it more.\n",
      "[7]eliza's key method of operation (copied by chatbot designers ever since) involves the recognition of cue words or phrases in the input, and the output of corresponding pre-prepared or pre-programmed responses that can move the conversation forward in an apparently meaningful way (e.g.\n",
      "by responding to any input that contains the word 'mother' with 'tell me more about your family').\n",
      "[8] thus an illusion of understanding is generated, even though the processing involved has been merely superficial.\n",
      "eliza showed that such an illusion is surprisingly easy to generate, because human judges are so ready to give the benefit of the doubt when conversational responses are capable of being interpreted as \"intelligent\".interface designers have come to appreciate that humans' readiness to interpret computer output as genuinely conversational뾢ven when it is actually based on rather simple pattern-matching뾠an be exploited for useful purposes.\n",
      "most people prefer to engage with programs that are human-like, and this gives chatbot-style techniques a potentially useful role in interactive systems that need to elicit information from users, as long as that information is relatively straightforward and falls into predictable categories.\n",
      "thus, for example, online help systems can usefully employ chatbot techniques to identify the area of help that users require, potentially providing a \"friendlier\" interface than a more formal search or menu system.\n",
      "this sort of usage holds the prospect of moving chatbot technology from weizenbaum's \"shelf ... reserved for curios\" to that marked \"genuinely useful computational methods\".developmentthe classic historic early chatbots are eliza (1966) and parry (1972).\n",
      "[9][10][11][12] more recent notable programs include a.l.i.c.e., jabberwacky and d.u.d.e (agence nationale de la recherche and cnrs 2006).\n",
      "while eliza and parry were used exclusively to simulate typed conversation, many chatbots now include functional features such as games and web searching abilities.\n",
      "in 1984, a book called the policeman's beard is half constructed was published, allegedly written by the chatbot racter (though the program as released would not have been capable of doing so).\n",
      "[13]one pertinent field of ai research is natural language processing.\n",
      "usually, weak ai fields employ specialized software or programming languages created specifically for the narrow function required.\n",
      "for example, a.l.i.c.e.\n",
      "uses a markup language called aiml, which is specific to its function as a conversational agent, and has since been adopted by various other developers of, so called, alicebots.\n",
      "nevertheless, a.l.i.c.e.\n",
      "is still purely based on pattern matching techniques without any reasoning capabilities, the same technique eliza was using back in 1966. this is not strong ai, which would require sapience and logical reasoning abilities.jabberwacky learns new responses and context based on real-time user interactions, rather than being driven from a static database.\n",
      "some more recent chatbots also combine real-time learning with evolutionary algorithms that optimise their ability to communicate based on each conversation held.\n",
      "still, there is currently no general purpose conversational artificial intelligence, and some software developers focus on the practical aspect, information retrieval.chatbot competitions focus on the turing test or more specific goals.\n",
      "two such annual contests are the loebner prize and the chatterbox challenge (the latter has been offline since 2015, however materials can still be found from web archives).\n",
      "[14]applicationsee also: virtual assistantaeromexico airline chatbot running on facebook messenger, march 2018messaging appsmany companies' chatbots run on messaging apps like facebook messenger (since 2016), wechat (since 2013),[15] whatsapp, livechat, kik, slack, line, telegram, or simply via sms.\n",
      "they are used for b2c customer service, sales and marketing.\n",
      "[16]in 2016, facebook messenger allowed developers to place chatbots on their platform.\n",
      "there were 30,000 bots created for messenger in the first six months, rising to 100,000 by september 2017.\n",
      "[17]since september 2017, this has also been as part of a pilot program on whatsapp.\n",
      "airlines klm and aeromxico both announced their participation in the testing;[18][19][20][21] both airlines had previously launched customer services on the facebook messenger platform.the bots usually appear as one of the user's contacts, but can sometimes act as participants in a group chat.many banks, insurers, media companies, e-commerce companies, airlines, hotel chains, retailers, health care providers, government entities and restaurant chains have used chatbots to answer simple questions, increase customer engagement,[22] for promotion, and to offer additional ways to order from them.\n",
      "[23][24]a 2017 study showed 4% of companies used chatbots.\n",
      "[25] according to a 2016 study, 80% of businesses said they intended to have one by 2020.\n",
      "[26]as part of company apps and websitesprevious generations of chatbots were present on company websites, e.g.\n",
      "ask jenn from alaska airlines which debuted in 2008[27] or expedia's virtual customer service agent which launched in 2011.\n",
      "[27][28] the newer generation of chatbots includes ibm watson-powered \"rocky\", introduced in february 2017 by the new york city-based e-commerce company rare carat to provide information to prospective diamond buyers.\n",
      "[29][30]company internal platformsother companies explore ways they can use chatbots internally, for example for customer support, human resources, or even in internet-of-things (iot) projects.\n",
      "overstock.com, for one, has reportedly launched a chatbot named mila to automate certain simple yet time-consuming processes when requesting for a sick leave.\n",
      "[31] other large companies such as lloyds banking group, royal bank of scotland, renault and citron are now using automated online assistants instead of call centres with humans to provide a first point of contact.\n",
      "a saas chatbot business ecosystem has been steadily growing since the f8 conference when facebook's mark zuckerberg unveiled that messenger would allow chatbots into the app.\n",
      "[32] in large companies, like in hospitals and aviation organizations, it architects are designing reference architectures for intelligent chatbots that are used to unlock and share knowledge and experience in the organization more efficiently, and reduce the errors in answers from expert service desks significantly.[33].\n",
      "these intelligent chatbots make use of all kinds of artificial intelligence like image moderation and natural language understanding (nlu), natural language generation (nlg), machine learning and deep learning.toyschatbots have also been incorporated into devices not primarily meant for computing such as toys.\n",
      "[34]hello barbie is an internet-connected version of the doll that uses a chatbot provided by the company toytalk,[35] which previously used the chatbot for a range of smartphone-based characters for children.\n",
      "[36] these characters' behaviors are constrained by a set of rules that in effect emulate a particular character and produce a storyline.\n",
      "[37]ibm's watson computer has been used as the basis for chatbot-based educational toys for companies such as cognitoys[34] intended to interact with children for educational purposes.\n",
      "[38]chatbot creationthe process of creating a chatbot follows a pattern similar to the development of a web page or a mobile app.\n",
      "it can be divided into design, building, analytics and maintenance.\n",
      "[39]designthe chatbot design is the process that defines the interaction between the user and the chatbot.\n",
      "the chatbot designer will define the chatbot personality, the questions that will be asked to the users, and the overall interaction.\n",
      "[40][41] it can be viewed as a subset of the conversational design.\n",
      "in order to speed up this process, designers can use dedicated chatbot design tools that allow for immediate preview, team collaboration and video export.\n",
      "[42] an important part of the chatbot design is also centered around user testing.\n",
      "user testing can be performed following the same principles that guide the user testing of graphical interfaces.\n",
      "[43]buildingthe process of building a chatbot can be divided into two main tasks: understanding the user's intent and producing the correct answer.\n",
      "the first task involves understanding the user input.\n",
      "in order to properly understand a user input in a free text form, a natural language processing engine can be used.\n",
      "[44] the second task may involve different approaches depending on the type of the response that the chatbot will generate.analyticsthe usage of the chatbot can be monitored in order to spot potential flaws or problems.\n",
      "it can also provide useful insights that can improve the final user experience.\n",
      "[45]maintenanceto keep chatbots up to speed with changing company products and services, traditional chatbot development platforms require ongoing maintenance.\n",
      "this can either be in the form of an ongoing service provider or for larger enterprises in the form of an in-house chatbot training team.\n",
      "[46] to eliminate these costs, some startups are experimenting with artificial intelligence to develop self-learning chatbots, particularly in customer service applications.chatbot development platformsthe process of building, testing and deploying chatbots can be done on cloud-based chatbot development platforms[47] offered by cloud platform as a service (paas) providers such as oracle cloud platform and ibm watson.\n",
      "[48][49][50] these cloud platforms provide natural language processing, artificial intelligence and mobile backend as a service for chatbot development.malicious usemalicious chatbots are frequently used to fill chat rooms with spam and advertisements, by mimicking human behavior and conversations or to entice people into revealing personal information, such as bank account numbers.\n",
      "they are commonly found on yahoo!\n",
      "messenger, windows live messenger, aol instant messenger and other instant messaging protocols.\n",
      "there has also been a published report of a chatbot used in a fake personal ad on a dating service's website.\n",
      "[51]tay, an ai chatbot that learns from previous interaction, caused major controversy due to it being targeted by internet trolls on twitter.\n",
      "the bot was exploited, and after 16 hours began to send extremely offensive tweets to users.\n",
      "this suggests that although the bot learnt effectively from experience, adequate protection was not put in place to prevent misuse.\n",
      "[52]see alsoapplications of artificial intelligenceeugene goostmaninteractive online characterslist of chatterbotssitepalsocial bottaytwitterbotcitations \"what is a chatbot?\".\n",
      "techtarget.com.\n",
      "retrieved 30 january 2017. mauldin 1994 orf, darren.\n",
      "\"google assistant is a mega ai bot that wants to be absoutely everywhere\".\n",
      "\"the 8 best chatbots of 2016\".\n",
      "21 december 2016. https://recast.ai/blog/2017-messenger-bot-landscape/ (turing 1950) (weizenbaum 1966, p. 36) (weizenbaum 1966, pp.\n",
      "445) gzelderefranchi 1995 computer history museum 2006 sondheim 1997 network working group 1973뾗ranscript of a session between parry and eliza.\n",
      "(this is not the dialogue from the iccc, which took place october 2426, 1972, whereas this session is from september 18, 1972.)\n",
      "www.everything.com 13 november 1999 (in german) chatroboter simulieren menschen \"china, wechat, and the origins of chatbots  chatbots magazine\".\n",
      "12 march 2017. retrieved 2 july 2018. beaver, laurie (july 2016).\n",
      "the chatbots explainer.\n",
      "bi intelligence.\n",
      "\"facebook messenger hits 100,000 bots\".\n",
      "retrieved 2017-09-22.\n",
      "\"klm claims airline first with whatsapp business platform\".\n",
      "staff, forbes (26 october 2017).\n",
      "\"aeromxico te atender por whatsapp durante 2018\".\n",
      "retrieved 2 july 2018. redaccin (27 october 2017).\n",
      "\"podrs hacer 'check in' y consultar tu vuelo con aeromxico a travs de whatsapp\".\n",
      "retrieved 2 july 2018  via huff post.\n",
      "\"building for people, and now businesses\".\n",
      "whatsapp.com.\n",
      "retrieved 2 july 2018.\n",
      "\"she is the company's most effective employee\".\n",
      "nordea news.\n",
      "\"better believe the bot boom is blowing up big for b2b, b2c businesses\".\n",
      "venturebeat.\n",
      "\"chatbots take education to the next level  chatbot news daily\".\n",
      "chatbot news daily.\n",
      "2016-09-29. retrieved 2017-06-23.\n",
      "\"the ai revolution is underway!\n",
      "pm360\".\n",
      "www.pm360online.com.\n",
      "retrieved 2 july 2018.\n",
      "\"80% of businesses want chatbots by 2020\".\n",
      "retrieved 2 july 2018.\n",
      "\"a virtual travel agent with all the answers\".\n",
      "the new york times.\n",
      "4 march 2008.\n",
      "\"chatbot vendor directory released \".\n",
      "www.hypergridbusiness.com.\n",
      "\"rare carat's watson-powered chatbot will help you put a diamond ring on it\".\n",
      "techcrunch.\n",
      "february 15, 2017.\n",
      "\"10 ways you may have already used ibm watson\".\n",
      "venturebeat.\n",
      "march 10, 2017. greenfield, rebecca.\n",
      "\"chatbots are your newest, dumbest co-workers\".\n",
      "bloomberg.\n",
      "\"facebook opens its messenger platform to chatbots\".\n",
      "12 april 2016.\n",
      "\"chatbot reference architecture\".\n",
      "1 january 2019. amy (2015-02-23).\n",
      "\"conversational toys  the latest trend in speech technology\".\n",
      "virtual agent chat.\n",
      "retrieved 2016-08-11. nagy, evie.\n",
      "\"using toytalk technology, new hello barbie will have real conversations with kids\".\n",
      "fast company.\n",
      "retrieved 18 march 2015. oren jacob, the co-founder and ceo of toytalk interviewed on the tv show triangulation on the twit.tv network \"artificial intelligence script tool\".\n",
      "takahashi, dean.\n",
      "\"elemental's smart connected toy taps ibm's watson supercomputer for its brains\".\n",
      "venture beat.\n",
      "retrieved 15 may 2015.\n",
      "\"awesome chatbots tools\".\n",
      "\"how to design a robust chatbot interaction\".\n",
      "\"principles of bot design\".\n",
      "implementations include botsociety botmock and botframe \"how to perform user testing on your chatbot\".\n",
      "implementations include rasa, wit.ai, dialogflow and watson \"what are the most common words your bot receives or sends\".\n",
      "\"how much it costs to make a chatbot\".\n",
      "yuan, michael (2018-02-19).\n",
      "chatbots: building intelligent, cross-platform, messaging bots.\n",
      "pearson education.\n",
      "isbn 9780134650616.\n",
      "\"oracle launches a chatbot development platform | venturebeat\".\n",
      "venturebeat.com.\n",
      "retrieved 2017-11-15.\n",
      "\"oracle introduces ai-powered intelligent bots to help enterprises engage customers and employees\".\n",
      "www.oracle.com.\n",
      "retrieved 2017-11-15.\n",
      "\"mobile service | oracle cloud\".\n",
      "cloud.oracle.com.\n",
      "retrieved 2017-11-15.\n",
      "\"from russia with love\" (pdf).\n",
      "retrieved 2007-12-09. psychologist and scientific american: mind contributing editor robert epstein reports how he was initially fooled by a chatterbot posing as an attractive girl in a personal ad he answered on a dating website.\n",
      "in the ad, the girl portrayed herself as being in southern california and then soon revealed, in poor english, that she was actually in russia.\n",
      "he became suspicious after a couple of months of email exchanges, sent her an email test of gibberish, and she still replied in general terms.\n",
      "the dating website is not named.\n",
      "scientific american: mind, october뻅ovember 2007, page 1617, \"from russia with love: how i got fooled (and somewhat humiliated) by a computer\".\n",
      "also available online.\n",
      "bird, jordan j.; ekart, aniko; faria, diego r. (june 2018).\n",
      "advances in computational intelligence systems (1st ed.).\n",
      "nottingham, uk: springer.\n",
      "pp.\n",
      "179190. isbn 978-3-319-97982-3. retrieved 3 december 2018.referencescomputer history museum (2006), \"internet history1970's\", exhibits, computer history museum, archived from the original on 2008-02-21, retrieved 2008-03-05gzeldere, gven; franchi, stefano (1995-07-24), \"constructions of the mind\", stanford humanities review, sehr, stanford university, 4 (2), retrieved 2008-03-05mauldin, michael (1994), \"chatterbots, tinymuds, and the turing test: entering the loebner prize competition\", proceedings of the eleventh national conference on artificial intelligence, aaai press, retrieved 2008-03-05 (abstract)network working group (1973), \"rfc 439, parry encounters the doctor\", internet engineering task force, internet society, retrieved 2008-03-05sondheim, alan j (1997), <nettime> important documents from the early internet (1972), nettime.org, archived from the original on 2008-06-13, retrieved 2008-03-05searle, john (1980), \"minds, brains and programs\", behavioral and brain sciences, 3 (3): 417457, doi:10.1017/s0140525x00005756shevat, amir (2017).\n",
      "designing bots: creating conversational experiences (first ed.).\n",
      "sebastopol, ca: o'reilly media.\n",
      "isbn 9781491974827. oclc 962125282.turing, alan (1950), \"computing machinery and intelligence\", mind, 59: 43360, doi:10.1093/mind/lix.236.433weizenbaum, joseph (january 1966), \"eliza뾃 computer program for the study of natural language communication between man and machine\", communications of the acm, 9 (1): 3645, doi:10.1145/365153.365168vtenatural language processing\n"
     ]
    }
   ],
   "source": [
    "#your code here\n",
    "print(\"printing lists in new line\") \n",
    "  \n",
    "print(*sent_tokens, sep = \"\\n\")"
   ]
  },
  {
   "cell_type": "markdown",
   "metadata": {},
   "source": [
    "#### 1.2.4 단어 토큰화\n",
    "\n",
    "문장을 단어 목록으로 변환하기 위해 funtion.word_tokenizer를 사용합니다."
   ]
  },
  {
   "cell_type": "code",
   "execution_count": 7,
   "metadata": {},
   "outputs": [
    {
     "name": "stdout",
     "output_type": "stream",
     "text": [
      "['chatbotfrom', 'wikipedia', ',', 'the', 'free', 'encyclopediajump', 'to', 'navigationjump', 'to', 'searcha', 'chatbot', '(', 'also', 'known', 'as', 'a', 'smartbot', ',', 'talkbot', ',', 'chatterbot', ',', 'bot', ',', 'im', 'bot', ',', 'interactive', 'agent', ',', 'conversational', 'interface', 'or', 'artificial', 'conversational', 'entity', ')', 'is', 'a', 'computer', 'program', 'or', 'an', 'artificial', 'intelligence', 'which', 'conducts', 'a', 'conversation', 'via', 'auditory', 'or', 'textual', 'methods', '.', '[', '1', ']', 'such', 'programs', 'are', 'often', 'designed', 'to', 'convincingly', 'simulate', 'how', 'a', 'human', 'would', 'behave', 'as', 'a', 'conversational', 'partner', ',', 'thereby', 'passing', 'the', 'turing', 'test', '.', 'chatbots', 'are', 'typically', 'used', 'in', 'dialog', 'systems', 'for', 'various', 'practical', 'purposes', 'including', 'customer', 'service', 'or', 'information', 'acquisition', '.', 'some', 'chatbots', 'use', 'sophisticated', 'natural', 'language', 'processing', 'systems', ',', 'but', 'many', 'simpler', 'ones', 'scan', 'for', 'keywords', 'within', 'the', 'input', ',', 'then', 'pull', 'a', 'reply', 'with', 'the', 'most', 'matching', 'keywords', ',', 'or', 'the', 'most', 'similar', 'wording', 'pattern', ',', 'from', 'a', 'database.the', 'term', '``', 'chatterbot', \"''\", 'was', 'originally', 'coined', 'by', 'michael', 'mauldin', '(', 'creator', 'of', 'the', 'first', 'verbot', ',', 'julia', ')', 'in', '1994', 'to', 'describe', 'these', 'conversational', 'programs', '.', '[', '2', ']', 'today', ',', 'most', 'chatbots', 'are', 'accessed', 'via', 'virtual', 'assistants', 'such', 'as', 'google', 'assistant', 'and', 'amazon', 'alexa', ',', 'via', 'messaging', 'apps', 'such', 'as', 'facebook', 'messenger', 'or', 'wechat', ',', 'or', 'via', 'individual', 'organizations', \"'\", 'apps', 'and', 'websites', '.', '[', '3', ']', '[', '4', ']', 'chatbots', 'can', 'be', 'classified', 'into', 'usage', 'categories', 'such', 'as', 'conversational', 'commerce', '(', 'e-commerce', 'via', 'chat', ')', ',', 'analytics', ',', 'communication', ',', 'customer', 'support', ',', 'design', ',', 'developer', 'tools', ',', 'education', ',', 'entertainment', ',', 'finance', ',', 'food', ',', 'games', ',', 'health', ',', 'hr', ',', 'marketing', ',', 'news', ',', 'personal', ',', 'productivity', ',', 'shopping', ',', 'social', ',', 'sports', ',', 'travel', 'and', 'utilities', '.', '[', '5', ']', 'backgroundin', '1950', ',', 'alan', 'turing', \"'s\", 'famous', 'article', '``', 'computing', 'machinery', 'and', 'intelligence', \"''\", 'was', 'published', ',', '[', '6', ']', 'which', 'proposed', 'what', 'is', 'now', 'called', 'the', 'turing', 'test', 'as', 'a', 'criterion', 'of', 'intelligence', '.', 'this', 'criterion', 'depends', 'on', 'the', 'ability', 'of', 'a', 'computer', 'program', 'to', 'impersonate', 'a', 'human', 'in', 'a', 'real-time', 'written', 'conversation', 'with', 'a', 'human', 'judge', ',', 'sufficiently', 'well', 'that', 'the', 'judge', 'is', 'unable', 'to', 'distinguish', 'reliably뾬n', 'the', 'basis', 'of', 'the', 'conversational', 'content', 'alone뾟etween', 'the', 'program', 'and', 'a', 'real', 'human', '.', 'the', 'notoriety', 'of', 'turing', \"'s\", 'proposed', 'test', 'stimulated', 'great', 'interest', 'in', 'joseph', 'weizenbaum', \"'s\", 'program', 'eliza', ',', 'published', 'in', '1966', ',', 'which', 'seemed', 'to', 'be', 'able', 'to', 'fool', 'users', 'into', 'believing', 'that', 'they', 'were', 'conversing', 'with', 'a', 'real', 'human', '.', 'however', 'weizenbaum', 'himself', 'did', 'not', 'claim', 'that', 'eliza', 'was', 'genuinely', 'intelligent', ',', 'and', 'the', 'introduction', 'to', 'his', 'paper', 'presented', 'it', 'more', 'as', 'a', 'debunking', 'exercise', ':', '[', 'in', ']', 'artificial', 'intelligence', '...', 'machines', 'are', 'made', 'to', 'behave', 'in', 'wondrous', 'ways', ',', 'often', 'sufficient', 'to', 'dazzle', 'even', 'the', 'most', 'experienced', 'observer', '.', 'but', 'once', 'a', 'particular', 'program', 'is', 'unmasked', ',', 'once', 'its', 'inner', 'workings', 'are', 'explained', '...', 'its', 'magic', 'crumbles', 'away', ';', 'it', 'stands', 'revealed', 'as', 'a', 'mere', 'collection', 'of', 'procedures', '...', 'the', 'observer', 'says', 'to', 'himself', '``', 'i', 'could', 'have', 'written', 'that', \"''\", '.', 'with', 'that', 'thought', 'he', 'moves', 'the', 'program', 'in', 'question', 'from', 'the', 'shelf', 'marked', '``', 'intelligent', \"''\", ',', 'to', 'that', 'reserved', 'for', 'curios', '...', 'the', 'object', 'of', 'this', 'paper', 'is', 'to', 'cause', 'just', 'such', 'a', 're-evaluation', 'of', 'the', 'program', 'about', 'to', 'be', '``', 'explained', \"''\", '.', 'few', 'programs', 'ever', 'needed', 'it', 'more', '.', '[', '7', ']', 'eliza', \"'s\", 'key', 'method', 'of', 'operation', '(', 'copied', 'by', 'chatbot', 'designers', 'ever', 'since', ')', 'involves', 'the', 'recognition', 'of', 'cue', 'words', 'or', 'phrases', 'in', 'the', 'input', ',', 'and', 'the', 'output', 'of', 'corresponding', 'pre-prepared', 'or', 'pre-programmed', 'responses', 'that', 'can', 'move', 'the', 'conversation', 'forward', 'in', 'an', 'apparently', 'meaningful', 'way', '(', 'e.g', '.', 'by', 'responding', 'to', 'any', 'input', 'that', 'contains', 'the', 'word', \"'mother\", \"'\", 'with', \"'tell\", 'me', 'more', 'about', 'your', 'family', \"'\", ')', '.', '[', '8', ']', 'thus', 'an', 'illusion', 'of', 'understanding', 'is', 'generated', ',', 'even', 'though', 'the', 'processing', 'involved', 'has', 'been', 'merely', 'superficial', '.', 'eliza', 'showed', 'that', 'such', 'an', 'illusion', 'is', 'surprisingly', 'easy', 'to', 'generate', ',', 'because', 'human', 'judges', 'are', 'so', 'ready', 'to', 'give', 'the', 'benefit', 'of', 'the', 'doubt', 'when', 'conversational', 'responses', 'are', 'capable', 'of', 'being', 'interpreted', 'as', '``', 'intelligent', \"''\", '.interface', 'designers', 'have', 'come', 'to', 'appreciate', 'that', 'humans', \"'\", 'readiness', 'to', 'interpret', 'computer', 'output', 'as', 'genuinely', 'conversational뾢ven', 'when', 'it', 'is', 'actually', 'based', 'on', 'rather', 'simple', 'pattern-matching뾠an', 'be', 'exploited', 'for', 'useful', 'purposes', '.', 'most', 'people', 'prefer', 'to', 'engage', 'with', 'programs', 'that', 'are', 'human-like', ',', 'and', 'this', 'gives', 'chatbot-style', 'techniques', 'a', 'potentially', 'useful', 'role', 'in', 'interactive', 'systems', 'that', 'need', 'to', 'elicit', 'information', 'from', 'users', ',', 'as', 'long', 'as', 'that', 'information', 'is', 'relatively', 'straightforward', 'and', 'falls', 'into', 'predictable', 'categories', '.', 'thus', ',', 'for', 'example', ',', 'online', 'help', 'systems', 'can', 'usefully', 'employ', 'chatbot', 'techniques', 'to', 'identify', 'the', 'area', 'of', 'help', 'that', 'users', 'require', ',', 'potentially', 'providing', 'a', '``', 'friendlier', \"''\", 'interface', 'than', 'a', 'more', 'formal', 'search', 'or', 'menu', 'system', '.', 'this', 'sort', 'of', 'usage', 'holds', 'the', 'prospect', 'of', 'moving', 'chatbot', 'technology', 'from', 'weizenbaum', \"'s\", '``', 'shelf', '...', 'reserved', 'for', 'curios', \"''\", 'to', 'that', 'marked', '``', 'genuinely', 'useful', 'computational', 'methods', \"''\", '.developmentthe', 'classic', 'historic', 'early', 'chatbots', 'are', 'eliza', '(', '1966', ')', 'and', 'parry', '(', '1972', ')', '.', '[', '9', ']', '[', '10', ']', '[', '11', ']', '[', '12', ']', 'more', 'recent', 'notable', 'programs', 'include', 'a.l.i.c.e.', ',', 'jabberwacky', 'and', 'd.u.d.e', '(', 'agence', 'nationale', 'de', 'la', 'recherche', 'and', 'cnrs', '2006', ')', '.', 'while', 'eliza', 'and', 'parry', 'were', 'used', 'exclusively', 'to', 'simulate', 'typed', 'conversation', ',', 'many', 'chatbots', 'now', 'include', 'functional', 'features', 'such', 'as', 'games', 'and', 'web', 'searching', 'abilities', '.', 'in', '1984', ',', 'a', 'book', 'called', 'the', 'policeman', \"'s\", 'beard', 'is', 'half', 'constructed', 'was', 'published', ',', 'allegedly', 'written', 'by', 'the', 'chatbot', 'racter', '(', 'though', 'the', 'program', 'as', 'released', 'would', 'not', 'have', 'been', 'capable', 'of', 'doing', 'so', ')', '.', '[', '13', ']', 'one', 'pertinent', 'field', 'of', 'ai', 'research', 'is', 'natural', 'language', 'processing', '.', 'usually', ',', 'weak', 'ai', 'fields', 'employ', 'specialized', 'software', 'or', 'programming', 'languages', 'created', 'specifically', 'for', 'the', 'narrow', 'function', 'required', '.', 'for', 'example', ',', 'a.l.i.c.e', '.', 'uses', 'a', 'markup', 'language', 'called', 'aiml', ',', 'which', 'is', 'specific', 'to', 'its', 'function', 'as', 'a', 'conversational', 'agent', ',', 'and', 'has', 'since', 'been', 'adopted', 'by', 'various', 'other', 'developers', 'of', ',', 'so', 'called', ',', 'alicebots', '.', 'nevertheless', ',', 'a.l.i.c.e', '.', 'is', 'still', 'purely', 'based', 'on', 'pattern', 'matching', 'techniques', 'without', 'any', 'reasoning', 'capabilities', ',', 'the', 'same', 'technique', 'eliza', 'was', 'using', 'back', 'in', '1966.', 'this', 'is', 'not', 'strong', 'ai', ',', 'which', 'would', 'require', 'sapience', 'and', 'logical', 'reasoning', 'abilities.jabberwacky', 'learns', 'new', 'responses', 'and', 'context', 'based', 'on', 'real-time', 'user', 'interactions', ',', 'rather', 'than', 'being', 'driven', 'from', 'a', 'static', 'database', '.', 'some', 'more', 'recent', 'chatbots', 'also', 'combine', 'real-time', 'learning', 'with', 'evolutionary', 'algorithms', 'that', 'optimise', 'their', 'ability', 'to', 'communicate', 'based', 'on', 'each', 'conversation', 'held', '.', 'still', ',', 'there', 'is', 'currently', 'no', 'general', 'purpose', 'conversational', 'artificial', 'intelligence', ',', 'and', 'some', 'software', 'developers', 'focus', 'on', 'the', 'practical', 'aspect', ',', 'information', 'retrieval.chatbot', 'competitions', 'focus', 'on', 'the', 'turing', 'test', 'or', 'more', 'specific', 'goals', '.', 'two', 'such', 'annual', 'contests', 'are', 'the', 'loebner', 'prize', 'and', 'the', 'chatterbox', 'challenge', '(', 'the', 'latter', 'has', 'been', 'offline', 'since', '2015', ',', 'however', 'materials', 'can', 'still', 'be', 'found', 'from', 'web', 'archives', ')', '.', '[', '14', ']', 'applicationsee', 'also', ':', 'virtual', 'assistantaeromexico', 'airline', 'chatbot', 'running', 'on', 'facebook', 'messenger', ',', 'march', '2018messaging', 'appsmany', 'companies', \"'\", 'chatbots', 'run', 'on', 'messaging', 'apps', 'like', 'facebook', 'messenger', '(', 'since', '2016', ')', ',', 'wechat', '(', 'since', '2013', ')', ',', '[', '15', ']', 'whatsapp', ',', 'livechat', ',', 'kik', ',', 'slack', ',', 'line', ',', 'telegram', ',', 'or', 'simply', 'via', 'sms', '.', 'they', 'are', 'used', 'for', 'b2c', 'customer', 'service', ',', 'sales', 'and', 'marketing', '.', '[', '16', ']', 'in', '2016', ',', 'facebook', 'messenger', 'allowed', 'developers', 'to', 'place', 'chatbots', 'on', 'their', 'platform', '.', 'there', 'were', '30,000', 'bots', 'created', 'for', 'messenger', 'in', 'the', 'first', 'six', 'months', ',', 'rising', 'to', '100,000', 'by', 'september', '2017', '.', '[', '17', ']', 'since', 'september', '2017', ',', 'this', 'has', 'also', 'been', 'as', 'part', 'of', 'a', 'pilot', 'program', 'on', 'whatsapp', '.', 'airlines', 'klm', 'and', 'aeromxico', 'both', 'announced', 'their', 'participation', 'in', 'the', 'testing', ';', '[', '18', ']', '[', '19', ']', '[', '20', ']', '[', '21', ']', 'both', 'airlines', 'had', 'previously', 'launched', 'customer', 'services', 'on', 'the', 'facebook', 'messenger', 'platform.the', 'bots', 'usually', 'appear', 'as', 'one', 'of', 'the', 'user', \"'s\", 'contacts', ',', 'but', 'can', 'sometimes', 'act', 'as', 'participants', 'in', 'a', 'group', 'chat.many', 'banks', ',', 'insurers', ',', 'media', 'companies', ',', 'e-commerce', 'companies', ',', 'airlines', ',', 'hotel', 'chains', ',', 'retailers', ',', 'health', 'care', 'providers', ',', 'government', 'entities', 'and', 'restaurant', 'chains', 'have', 'used', 'chatbots', 'to', 'answer', 'simple', 'questions', ',', 'increase', 'customer', 'engagement', ',', '[', '22', ']', 'for', 'promotion', ',', 'and', 'to', 'offer', 'additional', 'ways', 'to', 'order', 'from', 'them', '.', '[', '23', ']', '[', '24', ']', 'a', '2017', 'study', 'showed', '4', '%', 'of', 'companies', 'used', 'chatbots', '.', '[', '25', ']', 'according', 'to', 'a', '2016', 'study', ',', '80', '%', 'of', 'businesses', 'said', 'they', 'intended', 'to', 'have', 'one', 'by', '2020', '.', '[', '26', ']', 'as', 'part', 'of', 'company', 'apps', 'and', 'websitesprevious', 'generations', 'of', 'chatbots', 'were', 'present', 'on', 'company', 'websites', ',', 'e.g', '.', 'ask', 'jenn', 'from', 'alaska', 'airlines', 'which', 'debuted', 'in', '2008', '[', '27', ']', 'or', 'expedia', \"'s\", 'virtual', 'customer', 'service', 'agent', 'which', 'launched', 'in', '2011', '.', '[', '27', ']', '[', '28', ']', 'the', 'newer', 'generation', 'of', 'chatbots', 'includes', 'ibm', 'watson-powered', '``', 'rocky', \"''\", ',', 'introduced', 'in', 'february', '2017', 'by', 'the', 'new', 'york', 'city-based', 'e-commerce', 'company', 'rare', 'carat', 'to', 'provide', 'information', 'to', 'prospective', 'diamond', 'buyers', '.', '[', '29', ']', '[', '30', ']', 'company', 'internal', 'platformsother', 'companies', 'explore', 'ways', 'they', 'can', 'use', 'chatbots', 'internally', ',', 'for', 'example', 'for', 'customer', 'support', ',', 'human', 'resources', ',', 'or', 'even', 'in', 'internet-of-things', '(', 'iot', ')', 'projects', '.', 'overstock.com', ',', 'for', 'one', ',', 'has', 'reportedly', 'launched', 'a', 'chatbot', 'named', 'mila', 'to', 'automate', 'certain', 'simple', 'yet', 'time-consuming', 'processes', 'when', 'requesting', 'for', 'a', 'sick', 'leave', '.', '[', '31', ']', 'other', 'large', 'companies', 'such', 'as', 'lloyds', 'banking', 'group', ',', 'royal', 'bank', 'of', 'scotland', ',', 'renault', 'and', 'citron', 'are', 'now', 'using', 'automated', 'online', 'assistants', 'instead', 'of', 'call', 'centres', 'with', 'humans', 'to', 'provide', 'a', 'first', 'point', 'of', 'contact', '.', 'a', 'saas', 'chatbot', 'business', 'ecosystem', 'has', 'been', 'steadily', 'growing', 'since', 'the', 'f8', 'conference', 'when', 'facebook', \"'s\", 'mark', 'zuckerberg', 'unveiled', 'that', 'messenger', 'would', 'allow', 'chatbots', 'into', 'the', 'app', '.', '[', '32', ']', 'in', 'large', 'companies', ',', 'like', 'in', 'hospitals', 'and', 'aviation', 'organizations', ',', 'it', 'architects', 'are', 'designing', 'reference', 'architectures', 'for', 'intelligent', 'chatbots', 'that', 'are', 'used', 'to', 'unlock', 'and', 'share', 'knowledge', 'and', 'experience', 'in', 'the', 'organization', 'more', 'efficiently', ',', 'and', 'reduce', 'the', 'errors', 'in', 'answers', 'from', 'expert', 'service', 'desks', 'significantly.', '[', '33', ']', '.', 'these', 'intelligent', 'chatbots', 'make', 'use', 'of', 'all', 'kinds', 'of', 'artificial', 'intelligence', 'like', 'image', 'moderation', 'and', 'natural', 'language', 'understanding', '(', 'nlu', ')', ',', 'natural', 'language', 'generation', '(', 'nlg', ')', ',', 'machine', 'learning', 'and', 'deep', 'learning.toyschatbots', 'have', 'also', 'been', 'incorporated', 'into', 'devices', 'not', 'primarily', 'meant', 'for', 'computing', 'such', 'as', 'toys', '.', '[', '34', ']', 'hello', 'barbie', 'is', 'an', 'internet-connected', 'version', 'of', 'the', 'doll', 'that', 'uses', 'a', 'chatbot', 'provided', 'by', 'the', 'company', 'toytalk', ',', '[', '35', ']', 'which', 'previously', 'used', 'the', 'chatbot', 'for', 'a', 'range', 'of', 'smartphone-based', 'characters', 'for', 'children', '.', '[', '36', ']', 'these', 'characters', \"'\", 'behaviors', 'are', 'constrained', 'by', 'a', 'set', 'of', 'rules', 'that', 'in', 'effect', 'emulate', 'a', 'particular', 'character', 'and', 'produce', 'a', 'storyline', '.', '[', '37', ']', 'ibm', \"'s\", 'watson', 'computer', 'has', 'been', 'used', 'as', 'the', 'basis', 'for', 'chatbot-based', 'educational', 'toys', 'for', 'companies', 'such', 'as', 'cognitoys', '[', '34', ']', 'intended', 'to', 'interact', 'with', 'children', 'for', 'educational', 'purposes', '.', '[', '38', ']', 'chatbot', 'creationthe', 'process', 'of', 'creating', 'a', 'chatbot', 'follows', 'a', 'pattern', 'similar', 'to', 'the', 'development', 'of', 'a', 'web', 'page', 'or', 'a', 'mobile', 'app', '.', 'it', 'can', 'be', 'divided', 'into', 'design', ',', 'building', ',', 'analytics', 'and', 'maintenance', '.', '[', '39', ']', 'designthe', 'chatbot', 'design', 'is', 'the', 'process', 'that', 'defines', 'the', 'interaction', 'between', 'the', 'user', 'and', 'the', 'chatbot', '.', 'the', 'chatbot', 'designer', 'will', 'define', 'the', 'chatbot', 'personality', ',', 'the', 'questions', 'that', 'will', 'be', 'asked', 'to', 'the', 'users', ',', 'and', 'the', 'overall', 'interaction', '.', '[', '40', ']', '[', '41', ']', 'it', 'can', 'be', 'viewed', 'as', 'a', 'subset', 'of', 'the', 'conversational', 'design', '.', 'in', 'order', 'to', 'speed', 'up', 'this', 'process', ',', 'designers', 'can', 'use', 'dedicated', 'chatbot', 'design', 'tools', 'that', 'allow', 'for', 'immediate', 'preview', ',', 'team', 'collaboration', 'and', 'video', 'export', '.', '[', '42', ']', 'an', 'important', 'part', 'of', 'the', 'chatbot', 'design', 'is', 'also', 'centered', 'around', 'user', 'testing', '.', 'user', 'testing', 'can', 'be', 'performed', 'following', 'the', 'same', 'principles', 'that', 'guide', 'the', 'user', 'testing', 'of', 'graphical', 'interfaces', '.', '[', '43', ']', 'buildingthe', 'process', 'of', 'building', 'a', 'chatbot', 'can', 'be', 'divided', 'into', 'two', 'main', 'tasks', ':', 'understanding', 'the', 'user', \"'s\", 'intent', 'and', 'producing', 'the', 'correct', 'answer', '.', 'the', 'first', 'task', 'involves', 'understanding', 'the', 'user', 'input', '.', 'in', 'order', 'to', 'properly', 'understand', 'a', 'user', 'input', 'in', 'a', 'free', 'text', 'form', ',', 'a', 'natural', 'language', 'processing', 'engine', 'can', 'be', 'used', '.', '[', '44', ']', 'the', 'second', 'task', 'may', 'involve', 'different', 'approaches', 'depending', 'on', 'the', 'type', 'of', 'the', 'response', 'that', 'the', 'chatbot', 'will', 'generate.analyticsthe', 'usage', 'of', 'the', 'chatbot', 'can', 'be', 'monitored', 'in', 'order', 'to', 'spot', 'potential', 'flaws', 'or', 'problems', '.', 'it', 'can', 'also', 'provide', 'useful', 'insights', 'that', 'can', 'improve', 'the', 'final', 'user', 'experience', '.', '[', '45', ']', 'maintenanceto', 'keep', 'chatbots', 'up', 'to', 'speed', 'with', 'changing', 'company', 'products', 'and', 'services', ',', 'traditional', 'chatbot', 'development', 'platforms', 'require', 'ongoing', 'maintenance', '.', 'this', 'can', 'either', 'be', 'in', 'the', 'form', 'of', 'an', 'ongoing', 'service', 'provider', 'or', 'for', 'larger', 'enterprises', 'in', 'the', 'form', 'of', 'an', 'in-house', 'chatbot', 'training', 'team', '.', '[', '46', ']', 'to', 'eliminate', 'these', 'costs', ',', 'some', 'startups', 'are', 'experimenting', 'with', 'artificial', 'intelligence', 'to', 'develop', 'self-learning', 'chatbots', ',', 'particularly', 'in', 'customer', 'service', 'applications.chatbot', 'development', 'platformsthe', 'process', 'of', 'building', ',', 'testing', 'and', 'deploying', 'chatbots', 'can', 'be', 'done', 'on', 'cloud-based', 'chatbot', 'development', 'platforms', '[', '47', ']', 'offered', 'by', 'cloud', 'platform', 'as', 'a', 'service', '(', 'paas', ')', 'providers', 'such', 'as', 'oracle', 'cloud', 'platform', 'and', 'ibm', 'watson', '.', '[', '48', ']', '[', '49', ']', '[', '50', ']', 'these', 'cloud', 'platforms', 'provide', 'natural', 'language', 'processing', ',', 'artificial', 'intelligence', 'and', 'mobile', 'backend', 'as', 'a', 'service', 'for', 'chatbot', 'development.malicious', 'usemalicious', 'chatbots', 'are', 'frequently', 'used', 'to', 'fill', 'chat', 'rooms', 'with', 'spam', 'and', 'advertisements', ',', 'by', 'mimicking', 'human', 'behavior', 'and', 'conversations', 'or', 'to', 'entice', 'people', 'into', 'revealing', 'personal', 'information', ',', 'such', 'as', 'bank', 'account', 'numbers', '.', 'they', 'are', 'commonly', 'found', 'on', 'yahoo', '!', 'messenger', ',', 'windows', 'live', 'messenger', ',', 'aol', 'instant', 'messenger', 'and', 'other', 'instant', 'messaging', 'protocols', '.', 'there', 'has', 'also', 'been', 'a', 'published', 'report', 'of', 'a', 'chatbot', 'used', 'in', 'a', 'fake', 'personal', 'ad', 'on', 'a', 'dating', 'service', \"'s\", 'website', '.', '[', '51', ']', 'tay', ',', 'an', 'ai', 'chatbot', 'that', 'learns', 'from', 'previous', 'interaction', ',', 'caused', 'major', 'controversy', 'due', 'to', 'it', 'being', 'targeted', 'by', 'internet', 'trolls', 'on', 'twitter', '.', 'the', 'bot', 'was', 'exploited', ',', 'and', 'after', '16', 'hours', 'began', 'to', 'send', 'extremely', 'offensive', 'tweets', 'to', 'users', '.', 'this', 'suggests', 'that', 'although', 'the', 'bot', 'learnt', 'effectively', 'from', 'experience', ',', 'adequate', 'protection', 'was', 'not', 'put', 'in', 'place', 'to', 'prevent', 'misuse', '.', '[', '52', ']', 'see', 'alsoapplications', 'of', 'artificial', 'intelligenceeugene', 'goostmaninteractive', 'online', 'characterslist', 'of', 'chatterbotssitepalsocial', 'bottaytwitterbotcitations', '``', 'what', 'is', 'a', 'chatbot', '?', \"''\", '.', 'techtarget.com', '.', 'retrieved', '30', 'january', '2017.', 'mauldin', '1994', 'orf', ',', 'darren', '.', '``', 'google', 'assistant', 'is', 'a', 'mega', 'ai', 'bot', 'that', 'wants', 'to', 'be', 'absoutely', 'everywhere', \"''\", '.', '``', 'the', '8', 'best', 'chatbots', 'of', '2016', \"''\", '.', '21', 'december', '2016.', 'https', ':', '//recast.ai/blog/2017-messenger-bot-landscape/', '(', 'turing', '1950', ')', '(', 'weizenbaum', '1966', ',', 'p.', '36', ')', '(', 'weizenbaum', '1966', ',', 'pp', '.', '445', ')', 'gzelderefranchi', '1995', 'computer', 'history', 'museum', '2006', 'sondheim', '1997', 'network', 'working', 'group', '1973뾗ranscript', 'of', 'a', 'session', 'between', 'parry', 'and', 'eliza', '.', '(', 'this', 'is', 'not', 'the', 'dialogue', 'from', 'the', 'iccc', ',', 'which', 'took', 'place', 'october', '2426', ',', '1972', ',', 'whereas', 'this', 'session', 'is', 'from', 'september', '18', ',', '1972', '.', ')', 'www.everything.com', '13', 'november', '1999', '(', 'in', 'german', ')', 'chatroboter', 'simulieren', 'menschen', '``', 'china', ',', 'wechat', ',', 'and', 'the', 'origins', 'of', 'chatbots', 'chatbots', 'magazine', \"''\", '.', '12', 'march', '2017.', 'retrieved', '2', 'july', '2018.', 'beaver', ',', 'laurie', '(', 'july', '2016', ')', '.', 'the', 'chatbots', 'explainer', '.', 'bi', 'intelligence', '.', '``', 'facebook', 'messenger', 'hits', '100,000', 'bots', \"''\", '.', 'retrieved', '2017-09-22', '.', '``', 'klm', 'claims', 'airline', 'first', 'with', 'whatsapp', 'business', 'platform', \"''\", '.', 'staff', ',', 'forbes', '(', '26', 'october', '2017', ')', '.', '``', 'aeromxico', 'te', 'atender', 'por', 'whatsapp', 'durante', '2018', \"''\", '.', 'retrieved', '2', 'july', '2018.', 'redaccin', '(', '27', 'october', '2017', ')', '.', '``', 'podrs', 'hacer', \"'check\", 'in', \"'\", 'y', 'consultar', 'tu', 'vuelo', 'con', 'aeromxico', 'a', 'travs', 'de', 'whatsapp', \"''\", '.', 'retrieved', '2', 'july', '2018', 'via', 'huff', 'post', '.', '``', 'building', 'for', 'people', ',', 'and', 'now', 'businesses', \"''\", '.', 'whatsapp.com', '.', 'retrieved', '2', 'july', '2018', '.', '``', 'she', 'is', 'the', 'company', \"'s\", 'most', 'effective', 'employee', \"''\", '.', 'nordea', 'news', '.', '``', 'better', 'believe', 'the', 'bot', 'boom', 'is', 'blowing', 'up', 'big', 'for', 'b2b', ',', 'b2c', 'businesses', \"''\", '.', 'venturebeat', '.', '``', 'chatbots', 'take', 'education', 'to', 'the', 'next', 'level', 'chatbot', 'news', 'daily', \"''\", '.', 'chatbot', 'news', 'daily', '.', '2016-09-29.', 'retrieved', '2017-06-23', '.', '``', 'the', 'ai', 'revolution', 'is', 'underway', '!', 'pm360', \"''\", '.', 'www.pm360online.com', '.', 'retrieved', '2', 'july', '2018', '.', '``', '80', '%', 'of', 'businesses', 'want', 'chatbots', 'by', '2020', \"''\", '.', 'retrieved', '2', 'july', '2018', '.', '``', 'a', 'virtual', 'travel', 'agent', 'with', 'all', 'the', 'answers', \"''\", '.', 'the', 'new', 'york', 'times', '.', '4', 'march', '2008', '.', '``', 'chatbot', 'vendor', 'directory', 'released', '``', '.', 'www.hypergridbusiness.com', '.', '``', 'rare', 'carat', \"'s\", 'watson-powered', 'chatbot', 'will', 'help', 'you', 'put', 'a', 'diamond', 'ring', 'on', 'it', \"''\", '.', 'techcrunch', '.', 'february', '15', ',', '2017', '.', '``', '10', 'ways', 'you', 'may', 'have', 'already', 'used', 'ibm', 'watson', \"''\", '.', 'venturebeat', '.', 'march', '10', ',', '2017.', 'greenfield', ',', 'rebecca', '.', '``', 'chatbots', 'are', 'your', 'newest', ',', 'dumbest', 'co-workers', \"''\", '.', 'bloomberg', '.', '``', 'facebook', 'opens', 'its', 'messenger', 'platform', 'to', 'chatbots', \"''\", '.', '12', 'april', '2016', '.', '``', 'chatbot', 'reference', 'architecture', \"''\", '.', '1', 'january', '2019.', 'amy', '(', '2015-02-23', ')', '.', '``', 'conversational', 'toys', 'the', 'latest', 'trend', 'in', 'speech', 'technology', \"''\", '.', 'virtual', 'agent', 'chat', '.', 'retrieved', '2016-08-11.', 'nagy', ',', 'evie', '.', '``', 'using', 'toytalk', 'technology', ',', 'new', 'hello', 'barbie', 'will', 'have', 'real', 'conversations', 'with', 'kids', \"''\", '.', 'fast', 'company', '.', 'retrieved', '18', 'march', '2015.', 'oren', 'jacob', ',', 'the', 'co-founder', 'and', 'ceo', 'of', 'toytalk', 'interviewed', 'on', 'the', 'tv', 'show', 'triangulation', 'on', 'the', 'twit.tv', 'network', '``', 'artificial', 'intelligence', 'script', 'tool', \"''\", '.', 'takahashi', ',', 'dean', '.', '``', 'elemental', \"'s\", 'smart', 'connected', 'toy', 'taps', 'ibm', \"'s\", 'watson', 'supercomputer', 'for', 'its', 'brains', \"''\", '.', 'venture', 'beat', '.', 'retrieved', '15', 'may', '2015', '.', '``', 'awesome', 'chatbots', 'tools', \"''\", '.', '``', 'how', 'to', 'design', 'a', 'robust', 'chatbot', 'interaction', \"''\", '.', '``', 'principles', 'of', 'bot', 'design', \"''\", '.', 'implementations', 'include', 'botsociety', 'botmock', 'and', 'botframe', '``', 'how', 'to', 'perform', 'user', 'testing', 'on', 'your', 'chatbot', \"''\", '.', 'implementations', 'include', 'rasa', ',', 'wit.ai', ',', 'dialogflow', 'and', 'watson', '``', 'what', 'are', 'the', 'most', 'common', 'words', 'your', 'bot', 'receives', 'or', 'sends', \"''\", '.', '``', 'how', 'much', 'it', 'costs', 'to', 'make', 'a', 'chatbot', \"''\", '.', 'yuan', ',', 'michael', '(', '2018-02-19', ')', '.', 'chatbots', ':', 'building', 'intelligent', ',', 'cross-platform', ',', 'messaging', 'bots', '.', 'pearson', 'education', '.', 'isbn', '9780134650616', '.', '``', 'oracle', 'launches', 'a', 'chatbot', 'development', 'platform', '|', 'venturebeat', \"''\", '.', 'venturebeat.com', '.', 'retrieved', '2017-11-15', '.', '``', 'oracle', 'introduces', 'ai-powered', 'intelligent', 'bots', 'to', 'help', 'enterprises', 'engage', 'customers', 'and', 'employees', \"''\", '.', 'www.oracle.com', '.', 'retrieved', '2017-11-15', '.', '``', 'mobile', 'service', '|', 'oracle', 'cloud', \"''\", '.', 'cloud.oracle.com', '.', 'retrieved', '2017-11-15', '.', '``', 'from', 'russia', 'with', 'love', \"''\", '(', 'pdf', ')', '.', 'retrieved', '2007-12-09.', 'psychologist', 'and', 'scientific', 'american', ':', 'mind', 'contributing', 'editor', 'robert', 'epstein', 'reports', 'how', 'he', 'was', 'initially', 'fooled', 'by', 'a', 'chatterbot', 'posing', 'as', 'an', 'attractive', 'girl', 'in', 'a', 'personal', 'ad', 'he', 'answered', 'on', 'a', 'dating', 'website', '.', 'in', 'the', 'ad', ',', 'the', 'girl', 'portrayed', 'herself', 'as', 'being', 'in', 'southern', 'california', 'and', 'then', 'soon', 'revealed', ',', 'in', 'poor', 'english', ',', 'that', 'she', 'was', 'actually', 'in', 'russia', '.', 'he', 'became', 'suspicious', 'after', 'a', 'couple', 'of', 'months', 'of', 'email', 'exchanges', ',', 'sent', 'her', 'an', 'email', 'test', 'of', 'gibberish', ',', 'and', 'she', 'still', 'replied', 'in', 'general', 'terms', '.', 'the', 'dating', 'website', 'is', 'not', 'named', '.', 'scientific', 'american', ':', 'mind', ',', 'october뻅ovember', '2007', ',', 'page', '1617', ',', '``', 'from', 'russia', 'with', 'love', ':', 'how', 'i', 'got', 'fooled', '(', 'and', 'somewhat', 'humiliated', ')', 'by', 'a', 'computer', \"''\", '.', 'also', 'available', 'online', '.', 'bird', ',', 'jordan', 'j.', ';', 'ekart', ',', 'aniko', ';', 'faria', ',', 'diego', 'r.', '(', 'june', '2018', ')', '.', 'advances', 'in', 'computational', 'intelligence', 'systems', '(', '1st', 'ed.', ')', '.', 'nottingham', ',', 'uk', ':', 'springer', '.', 'pp', '.', '179190.', 'isbn', '978-3-319-97982-3.', 'retrieved', '3', 'december', '2018.referencescomputer', 'history', 'museum', '(', '2006', ')', ',', '``', 'internet', 'history1970', \"'s\", \"''\", ',', 'exhibits', ',', 'computer', 'history', 'museum', ',', 'archived', 'from', 'the', 'original', 'on', '2008-02-21', ',', 'retrieved', '2008-03-05gzeldere', ',', 'gven', ';', 'franchi', ',', 'stefano', '(', '1995-07-24', ')', ',', '``', 'constructions', 'of', 'the', 'mind', \"''\", ',', 'stanford', 'humanities', 'review', ',', 'sehr', ',', 'stanford', 'university', ',', '4', '(', '2', ')', ',', 'retrieved', '2008-03-05mauldin', ',', 'michael', '(', '1994', ')', ',', '``', 'chatterbots', ',', 'tinymuds', ',', 'and', 'the', 'turing', 'test', ':', 'entering', 'the', 'loebner', 'prize', 'competition', \"''\", ',', 'proceedings', 'of', 'the', 'eleventh', 'national', 'conference', 'on', 'artificial', 'intelligence', ',', 'aaai', 'press', ',', 'retrieved', '2008-03-05', '(', 'abstract', ')', 'network', 'working', 'group', '(', '1973', ')', ',', '``', 'rfc', '439', ',', 'parry', 'encounters', 'the', 'doctor', \"''\", ',', 'internet', 'engineering', 'task', 'force', ',', 'internet', 'society', ',', 'retrieved', '2008-03-05sondheim', ',', 'alan', 'j', '(', '1997', ')', ',', '<', 'nettime', '>', 'important', 'documents', 'from', 'the', 'early', 'internet', '(', '1972', ')', ',', 'nettime.org', ',', 'archived', 'from', 'the', 'original', 'on', '2008-06-13', ',', 'retrieved', '2008-03-05searle', ',', 'john', '(', '1980', ')', ',', '``', 'minds', ',', 'brains', 'and', 'programs', \"''\", ',', 'behavioral', 'and', 'brain', 'sciences', ',', '3', '(', '3', ')', ':', '417457', ',', 'doi:10.1017/s0140525x00005756shevat', ',', 'amir', '(', '2017', ')', '.', 'designing', 'bots', ':', 'creating', 'conversational', 'experiences', '(', 'first', 'ed.', ')', '.', 'sebastopol', ',', 'ca', ':', \"o'reilly\", 'media', '.', 'isbn', '9781491974827.', 'oclc', '962125282.turing', ',', 'alan', '(', '1950', ')', ',', '``', 'computing', 'machinery', 'and', 'intelligence', \"''\", ',', 'mind', ',', '59', ':', '43360', ',', 'doi:10.1093/mind/lix.236.433weizenbaum', ',', 'joseph', '(', 'january', '1966', ')', ',', '``', 'eliza뾃', 'computer', 'program', 'for', 'the', 'study', 'of', 'natural', 'language', 'communication', 'between', 'man', 'and', 'machine', \"''\", ',', 'communications', 'of', 'the', 'acm', ',', '9', '(', '1', ')', ':', '3645', ',', 'doi:10.1145/365153.365168vtenatural', 'language', 'processing']\n"
     ]
    }
   ],
   "source": [
    "#your code here\n",
    "from nltk.tokenize import word_tokenize\n",
    "\n",
    "word_tokens = word_tokenize(raw_data)\n",
    "print(word_tokens)"
   ]
  },
  {
   "cell_type": "markdown",
   "metadata": {},
   "source": [
    "이제 우리는 토큰을 가지고 있습니다!\n",
    "\n",
    "토큰을 검사하여 예상한 대로 보이는지 확인하고, 우리의 챗봇을 교육하기에 충분한 정보가 있는지 확인하는 것이 좋습니다. 각 문장 토큰은 지식 기반에 대한 단일 정보를 제공하므로 하나의 지식으로 간주될 수 있습니다. 지식 기반의 크기는 챗봇이 얼마나 능력이 있는지를 결정할 수 있습니다.\n",
    "\n",
    "문장의 길이와 단어 토큰을 인쇄하는 코드는 아래와 같습니다."
   ]
  },
  {
   "cell_type": "code",
   "execution_count": 8,
   "metadata": {},
   "outputs": [
    {
     "name": "stdout",
     "output_type": "stream",
     "text": [
      "172 3601\n"
     ]
    }
   ],
   "source": [
    "# 이 기능을 사용하여 지식 기반의 크기를 확인하십시오. 최소 150개의 문장 토큰이 있어야 하며, 가능하면 최대 1000개까지 가능합니다.\n",
    "# 챗봇에 충분한 컨텍스트를 제공할 수 있습니다.\n",
    "\n",
    "#your code here\n",
    "print(len(sent_tokens), len(word_tokens))"
   ]
  },
  {
   "cell_type": "markdown",
   "metadata": {},
   "source": [
    "잘했습니다! 이제 챗봇에 전달되는 정보의 양을 파악할 수 있습니다. 만약 여러분이 충분한 문장 토큰을 가지고 있지 않다는 것을 알게 된다면, 지금이 다시 나가서 더 많은 정보를 찾을 때입니다!\n",
    "  \n",
    "#### 1.2.5 표제어 추출\n",
    "\n",
    "우리는 다운로드 한 WordNetleMmatizer를 사용하여 단어 토큰에서 표제어를 추출합니다."
   ]
  },
  {
   "cell_type": "code",
   "execution_count": 9,
   "metadata": {},
   "outputs": [],
   "source": [
    "lemmer = nltk.stem.WordNetLemmatizer() # lemmer 클래스를 초기화합니다. WordNet은 NLTK에 포함된 의미 론적 영어 사전입니다\n",
    "def LemTokens(tokens):\n",
    "    return [lemmer.lemmatize(token) for token in tokens]"
   ]
  },
  {
   "cell_type": "markdown",
   "metadata": {},
   "source": [
    "#### 1.2.6 정규화\n",
    "\n",
    "또한 지식 기반에 유용하지 않으므로 구두점을 제거하는 함수를 작성합니다."
   ]
  },
  {
   "cell_type": "code",
   "execution_count": 10,
   "metadata": {},
   "outputs": [],
   "source": [
    "remove_punct_dict = dict((ord(punct), None) for punct in string.punctuation)\n",
    "def LemNormalize(text):\n",
    "    return LemTokens(nltk.word_tokenize(text.lower().translate(remove_punct_dict))) #see previous section 1.2.5 lemmatization"
   ]
  },
  {
   "cell_type": "markdown",
   "metadata": {},
   "source": [
    "이 함수들이 어떻게 작동하는지 볼 시간입니다! 다음 문장에서 함수를 호출하고 결과를 출력합니다.  함수가 테스트 문장에 어떻게 동작합니까?"
   ]
  },
  {
   "cell_type": "code",
   "execution_count": 11,
   "metadata": {},
   "outputs": [
    {
     "data": {
      "text/plain": [
       "['Today',\n",
       " 'wa',\n",
       " 'a',\n",
       " 'wonderful',\n",
       " 'day',\n",
       " '.',\n",
       " 'The',\n",
       " 'sun',\n",
       " 'wa',\n",
       " 'shining',\n",
       " 'so',\n",
       " 'brightly',\n",
       " 'and',\n",
       " 'the',\n",
       " 'bird',\n",
       " 'were',\n",
       " 'chirping',\n",
       " 'loudly',\n",
       " '!']"
      ]
     },
     "execution_count": 11,
     "metadata": {},
     "output_type": "execute_result"
    }
   ],
   "source": [
    "test_sentence='Today was a wonderful day. The sun was shining so brightly and the birds were chirping loudly!'\n",
    "# your code here\n",
    "test_word_tokens = nltk.word_tokenize(test_sentence)  # 문서를 단어 목록으로 변환\n",
    "\n",
    "lemmer = nltk.stem.WordNetLemmatizer()\n",
    "def LemTokens(tokens):\n",
    "    return [lemmer.lemmatize(token) for token in tokens]\n",
    "\n",
    "LemTokens(test_word_tokens)"
   ]
  },
  {
   "cell_type": "markdown",
   "metadata": {},
   "source": [
    "## 2. 일치하는 항목과 코사인 유사성\n",
    "\n",
    "축하합니다. 지식 데이터베이스를 텍스트에서 문장과 토큰으로 변환했습니다! 다음 단계가 무엇인지 기억합니까? 컴퓨터는 숫자를 잘 처리 할 수 있으므로, 토큰을 숫자로 변환할 것입니다!\n",
    "\n",
    "이를 위해, 데이터 획득과 실험 2 단계에서 배운 단어 가방과 tf-idf를 다시 살펴볼 것입니다.\n",
    "문서 벡터를 사용하면 챗봇을 만드는 데 어떻게 도움이 될까요?\n",
    "\n",
    "### 2.1 컴퓨터가 어떻게 유사성을 찾을 수 있습니까?\n",
    "\n",
    "입력을 읽고 입력이 말하는 내용을 '고려'한 다음 가장 의미 있는 것으로 응답할 수 있는 챗봇을 만들고 싶다고 가정해 보십시오. 가장 일반적인 방법 중 하나는 질문을 받고 우리의 질문과 매우 유사한 데이터 세트 내에서 정보를 찾는 것입니다. 예를 들어, 질문에 '컴퓨터 장애'라는 문구가 포함되어 있으면 '컴퓨터 고장' 또는 '하드웨어 장애'와 같은 '컴퓨터 장애'와 유사한 단어가 포함된 문장에 답이 있다고 가정합니다.\n",
    "\n",
    "### 2.2 [코사인 유사성](https://en.wikipedia.org/wiki/Cosine_similarity) 이란 무엇인가?\n",
    "\n",
    "데이터 세트를 문서 벡터로 변환 할 것입니다. 코사인 유사성은 유사한 벡터를 찾을 수 있게 해주며, 이러한 벡터는 의미가 비슷하다고 가정할 것입니다. \n",
    "\n",
    "### 아래 예제를 살펴보겠습니다!\n",
    "\n",
    "#### 2.2.1 데이터 세트\n",
    "\n",
    "여기에 세 문장이 있습니다. 처음 두개의 문장은 우리의 작은 지식 기반이며, 세 번째는 샘플 질문입니다. 세 문장을 문서 벡터로 처리하고 코사인 유사성을 사용하여 지식 기반 중 어느 것이 우질문에 대한 더 나은 응답을 제공할 수 있는지를 확인합니다!"
   ]
  },
  {
   "cell_type": "code",
   "execution_count": 12,
   "metadata": {},
   "outputs": [],
   "source": [
    "# 두 문장을 지식 기반으로,한 문장을 질문으로 합니다.\n",
    "Sentence_1='John is my father'\n",
    "Sentence_2='Jane is my mother'\n",
    "Question='who is my father'"
   ]
  },
  {
   "cell_type": "markdown",
   "metadata": {},
   "source": [
    "#### 2.2.2  어휘\n",
    "\n",
    "어휘는 우리의 문장과 질문에 존재하는 모든 단어의 목록입니다.   \n",
    "\n",
    "### 실습: 데이터 세트에 포함된 어휘를 나열하십시오."
   ]
  },
  {
   "cell_type": "code",
   "execution_count": 13,
   "metadata": {},
   "outputs": [],
   "source": [
    "Vocabulary = ['John', 'is', 'my', 'father', 'Jane', 'mother', 'who']"
   ]
  },
  {
   "cell_type": "markdown",
   "metadata": {},
   "source": [
    "#### 2.2.3 단어 가방\n",
    "\n",
    "이것을 어떻게 단어 가방에 넣을까요?\n",
    "\n",
    "### 실습: 단어 가방 기술을 사용하여 위의 두 문장의 정보를 나타내는 배열을 구성하십시오. \n",
    "\n",
    "힌트 1: 배열은 크기 (3,7) 이어야 하며 배열 내의 각 숫자는 행에서 해당 단어의 존재를 표시하기 위해 0또는 1입니다.  \n",
    "힌트 2: 배열은 함수 array_name = np.array([[row 1],[row 2],[row 3]) 를 사용하여 구성합니다."
   ]
  },
  {
   "cell_type": "code",
   "execution_count": 27,
   "metadata": {},
   "outputs": [],
   "source": [
    "# your code here\n",
    "bag_of_words = np.array([\n",
    "    [1, 1, 1, 1, 0, 0, 0],\n",
    "    [0, 1, 1, 0, 1, 1, 0],\n",
    "    [0, 1, 1, 1, 0, 0, 1] \n",
    "])\n",
    "\n",
    "bag_of_words2 = np.array([\n",
    "    [1, 1, 1, 1, 0, 0, 0],\n",
    "    [0, 1, 1, 0, 1, 1, 0],\n",
    "    [0, 1, 1, 0, 0, 1, 1]\n",
    "])"
   ]
  },
  {
   "cell_type": "markdown",
   "metadata": {},
   "source": [
    "단어 가방에서 처음 두 행은 문장 1과 문장 2에 포함 된 모든 지식을 인코딩합니다. 세 번째 줄은 질문을 인코딩합니다.\n",
    "질문에 가장 근접한 지식을 찾으려면 질문과 코사인 유사도가 가장 높은 문장을 찾으면 됩니다.  \n",
    "\n",
    "#### 2.2.4 코사인 유사성 찾기\n",
    "\n",
    "처음 시작 부분에서 라이브러리를 가져온 것을 기억하나요? 그 중 하나가 `from sklearn.metrics.pairwise import cosine_similarity` 입니다. cosine_similarity 함수를 사용하면 문장을 비교할 수 있습니다. 각 문장을 어떤 방향으로 가리키는 선인 벡터로 상상해 보십시오. 코사인 유사도는 각 선 사이의 각도를 계산하고 두 선이 유사할수록 각도가 작아지고 코사인 유사도가 높아집니다.\n",
    "\n",
    "지식 기반의 각 정보와 질문 사이의 코신 유사성을 계산해 보겠습니다. 배열의 첫 번째 행은 문장 1에 해당하며 두 번째 행은 문장 2에 해당합니다. 어떤 문장이 질문과 더 높은 코사인 유사성이 있는지 봅시다!\n",
    "\n",
    "### 실습: 인덱싱 기능을 사용하여 단어 가방의 상위 2행만 선택합니다."
   ]
  },
  {
   "cell_type": "code",
   "execution_count": 19,
   "metadata": {},
   "outputs": [
    {
     "data": {
      "text/plain": [
       "array([[1, 1, 1, 1, 0, 0, 0],\n",
       "       [0, 1, 1, 0, 1, 1, 0]])"
      ]
     },
     "execution_count": 19,
     "metadata": {},
     "output_type": "execute_result"
    }
   ],
   "source": [
    "bag_of_words[:2, :]"
   ]
  },
  {
   "cell_type": "markdown",
   "metadata": {},
   "source": [
    "좋습니다. 데이터베이스가 선택되었습니다. 이제 bag_of_words 변수의 마지막 행에 있는 질문을 출력하겠습니다:"
   ]
  },
  {
   "cell_type": "code",
   "execution_count": 20,
   "metadata": {},
   "outputs": [
    {
     "name": "stdout",
     "output_type": "stream",
     "text": [
      "[[0 1 1 1 0 0 1]]\n"
     ]
    }
   ],
   "source": [
    "print (bag_of_words[-1,:].reshape(1, -1))"
   ]
  },
  {
   "cell_type": "markdown",
   "metadata": {},
   "source": [
    "위의 두 출력의 차이점은 무엇입니까? 아래 코사인 유사성 연습을 위해 해당하는 행을 사용해 보십시오."
   ]
  },
  {
   "cell_type": "markdown",
   "metadata": {},
   "source": [
    "이제 코사인 유사성을 적용할 준비가 되었습니다."
   ]
  },
  {
   "cell_type": "code",
   "execution_count": 30,
   "metadata": {},
   "outputs": [
    {
     "data": {
      "text/plain": [
       "array([[0.75],\n",
       "       [0.5 ]])"
      ]
     },
     "execution_count": 30,
     "metadata": {},
     "output_type": "execute_result"
    }
   ],
   "source": [
    "# 우리의 데이테 베이스를 기억하세요.\n",
    "# 문장_1='John is my father'\n",
    "# 문장_2='Jane is my mother'\n",
    "# 질문='who is my father'\n",
    "\n",
    "cosine_similarity(bag_of_words[:2,:], bag_of_words[-1,:].reshape(1, -1))"
   ]
  },
  {
   "cell_type": "markdown",
   "metadata": {},
   "source": [
    "#### 이제 결과를 분석하십시오!\n",
    "\n",
    "어떤 문장이 더 높은 코사인 유사성을 가지고 있나요? 예상한 답이었나요?\n",
    "\n",
    "만약 당신의 챗봇이 코사인 유사도 점수가 가장 높은 문장을 정답으로 돌려주도록 했다면, 질문에 정확하게 답했을까요? 그것이 기본적으로 챗봇이 질문에 대답하는 방법입니다!\n",
    "  \n",
    "### 실습: 이제는 문장 2가 더 높은 코사인 유사성을 갖는 질문을 생각할 수 있습니까? 우리에게 점수를 보여주세요!"
   ]
  },
  {
   "cell_type": "code",
   "execution_count": 29,
   "metadata": {},
   "outputs": [
    {
     "data": {
      "text/plain": [
       "array([[0.75],\n",
       "       [0.5 ]])"
      ]
     },
     "execution_count": 29,
     "metadata": {},
     "output_type": "execute_result"
    }
   ],
   "source": [
    "# 초기 문장과 단어 가방의 결과에 대해 업데이트 합니다.\n",
    "# 단어 가방을 업데이트 합니다. 이 질문은 다음과 같습니다: ‘Who is my mother?’\n",
    "Question = 'Who is my mother?'\n",
    "\n",
    "# Your code here\n",
    "cosine_similarity(bag_of_words2[:2,:], bag_of_words[-1,:].reshape(1, -1))"
   ]
  },
  {
   "cell_type": "markdown",
   "metadata": {},
   "source": [
    "축하합니다! 이제 챗봇에 뇌가 생겼으니 입을 만들어 봅시다!"
   ]
  },
  {
   "cell_type": "markdown",
   "metadata": {},
   "source": [
    "## 3. 챗봇이 첫 마디를 말하도록 하세요.\n",
    "\n",
    "### 3.1 인사말\n",
    "모든 대화가 시작될 때 챗봇은 인사말을 기대할 수 있습니다. 이러한 인사말은 질문이 아니지만 챗봇도 인사에 대한 답변이 있어야합니다. 우리는 챗봇이 받을 것으로 예상되는 몇 가지의 일반적인 인사말을 입력하고, 챗봇이 무작위로 선택한 인사말로 응답하도록 할 수 있습니다.\n",
    "   \n",
    "팁: 챗봇에 몇 가지 경고가 표시될 수 있습니다. 챗봇이 합리적인 답변을 제공하는 한 그것들에 대해 걱정하지 마세요."
   ]
  },
  {
   "cell_type": "markdown",
   "metadata": {},
   "source": [
    "#### 3.1.1 입력 및 응답 목록 작성\n",
    "\n",
    "먼저 챗봇이 가질 인사말 목록을 만들어 보겠습니다."
   ]
  },
  {
   "cell_type": "code",
   "execution_count": 31,
   "metadata": {},
   "outputs": [],
   "source": [
    "GREETING_INPUTS = [\"hello\", \"hi\", \"greetings\", \"sup\", \"what's up\",\"hey\", \"hey there\"]\n",
    "GREETING_RESPONSES = [\"hi\", \"hey\", \"*nods*\", \"hi there\", \"hello\", \"I am glad! You are talking to me\"]"
   ]
  },
  {
   "cell_type": "markdown",
   "metadata": {},
   "source": [
    "### 실습: 인사말 입력 및 응답을 추가하여 챗봇을 개인화합니다."
   ]
  },
  {
   "cell_type": "code",
   "execution_count": null,
   "metadata": {},
   "outputs": [],
   "source": [
    "# Your code here"
   ]
  },
  {
   "cell_type": "markdown",
   "metadata": {},
   "source": [
    "#### 3.1.2 인사말을 수신하고 반환하는 함수 만들기"
   ]
  },
  {
   "cell_type": "code",
   "execution_count": 32,
   "metadata": {},
   "outputs": [],
   "source": [
    "def greeting(sentence):\n",
    "    for word in sentence.split(): # 문장의 각 단어를 살펴봅니다.\n",
    "        if word.lower() in GREETING_INPUTS: # 단어가 GREETING_INPUT와 일치하는지 확인합니다.\n",
    "            return random.choice(GREETING_RESPONSES) # Greeting_Response로 답장합니다."
   ]
  },
  {
   "cell_type": "markdown",
   "metadata": {},
   "source": [
    "테스트해 봅시다! 다양한 유형의 인사말을 챗봇에 입력하고 어떻게 응답하는지 확인하십시오.  인사말을 여러 번 실행합니다. 매번 같은 답변이 나오나요?\n",
    "힌트: ctrl-enter를 누르면 선택된 셀을 실행할 수 있습니다. ctrl 키를 누른 상태에서 Enter 키를 여러 번 누르면 동일한 셀을 반복적으로 실행할 수 있습니다."
   ]
  },
  {
   "cell_type": "code",
   "execution_count": 49,
   "metadata": {},
   "outputs": [
    {
     "data": {
      "text/plain": [
       "'hi'"
      ]
     },
     "execution_count": 49,
     "metadata": {},
     "output_type": "execute_result"
    }
   ],
   "source": [
    "# Your code here\n",
    "greeting(\"Hi nice to meet you !\")"
   ]
  },
  {
   "cell_type": "markdown",
   "metadata": {},
   "source": [
    "#### 3.1.3 질문을 받고 답변을 반환하는 함수 만들기\n",
    "\n",
    "이제 누군가가 로봇에게 질문을 할 때 반응을 계산하는 함수를 정의하겠습니다.\n",
    "\n",
    "응답 함수:\n",
    "1. 질문을 받아들입니다.\n",
    "2. 코사인 유사성을 사용하여 질문에 가장 가까운 문장을 찾습니다.\n",
    "3. 답변으로 해당 문장을 반환합니다.\n",
    "\n",
    "챗봇이 전혀 쓸모없는 답안을 되돌려주는 것을 막기 위해 코사인 유사도가 0보다 큰 경우에만 답변을 반환합니다. 이 경우 챗봇은 단순히 질문을 이해하지 못한다고 말할 것입니다."
   ]
  },
  {
   "cell_type": "code",
   "execution_count": 76,
   "metadata": {},
   "outputs": [],
   "source": [
    "def response(user_response):\n",
    "    \"\"\"\n",
    "    유저의 응답을 인자값으로 받아 문장 토큰 리스트에 추가하고, 단어 빈도를 계산하여 tfidf 값을 구한 후, \\n\n",
    "    코사인 유사도 값을 책정합니다. \n",
    "    \"\"\"\n",
    "    \n",
    "    robo_response='' # 문자열을 포함하도록 변수를 초기화\n",
    "    sent_tokens.append(user_response) # sent_messages에 사용자 응답 추가\n",
    "    TfidfVec = TfidfVectorizer(tokenizer=LemNormalize, stop_words='english') # 단어빈도 계산\n",
    "    tfidf = TfidfVec.fit_transform(sent_tokens) # tfidf 값 가져오기\n",
    "    vals = cosine_similarity(tfidf[-1], tfidf) # 코사인 유사성 값 가져오기(사용자의 문장과 tfidf 벡터 간의 코사인 유사도 계산)\n",
    "    idx = vals.argsort()[0][-2] # 유사도 값을 정렬해서 질문 다음으로 가장 높은 유사도값을 가져와서\n",
    "    flat = vals.flatten() \n",
    "    flat.sort() # 오름차순으로 정렬\n",
    "    req_tfidf = flat[-2] \n",
    "    \n",
    "    if(req_tfidf==0):\n",
    "        robo_response=robo_response+\"I am sorry! I don't understand you\"\n",
    "        return robo_response\n",
    "    else:\n",
    "        robo_response = robo_response+sent_tokens[idx]\n",
    "        return robo_response"
   ]
  },
  {
   "cell_type": "markdown",
   "metadata": {},
   "source": [
    "#### 3.1.4 응답 함수 테스트\n",
    "\n",
    "응답 함수를 테스트합니다. response() 함수에 몇 가지 질문을 작성하고 결과를 확인합니다. 원하는 답변에 근접해 있나요?\n",
    "\n",
    "계속해서 'I'm sorry! I don't understand you'라는 답변을 받는다면, 지식 기반에 더 많은 정보를 추가해야 할 수도 있습니다."
   ]
  },
  {
   "cell_type": "code",
   "execution_count": 84,
   "metadata": {
    "scrolled": true
   },
   "outputs": [
    {
     "data": {
      "text/plain": [
       "'What is the chatter bot?'"
      ]
     },
     "execution_count": 84,
     "metadata": {},
     "output_type": "execute_result"
    }
   ],
   "source": [
    "import warnings\n",
    "warnings.filterwarnings(\"ignore\")\n",
    "\n",
    "# Your code here\n",
    "response(\"What is the chatter bot?\")"
   ]
  },
  {
   "cell_type": "markdown",
   "metadata": {},
   "source": [
    "#### 3.1.5  지식 기반에 더 많은 정보 추가\n",
    "\n",
    "지식 기반에 수동으로 더 많은 정보를 추가하거나 검색하고 텍스트 파일에 더 많은 데이터를 추가해서 특정한 답을 얻을 수 있습니다!"
   ]
  },
  {
   "cell_type": "markdown",
   "metadata": {},
   "source": [
    "## 4.똑똑한 챗봇을 테스트해보세요!\n",
    "\n",
    "#### 4.1.1 챗봇 테스트\n",
    "이제 챗봇을 테스트할 시간입니다. 이 챗봇은 주피터 노트북 안에서만 실행됩니다. 명령에 대한 특정 작업을 수행하도록 챗봇을 훈련시킬 수 있습니다.\n",
    "\n",
    "예를 들면 다음과 같습니다:\n",
    "1. 'bye' 라고 말하면 챗봇이 종료됩니다.\n",
    "2. 인사말 문구 중 하나인 응답을 제공하면 챗봇이 응답으로 인사말을 제공합니다.  "
   ]
  },
  {
   "cell_type": "markdown",
   "metadata": {},
   "source": [
    "특정 동작을 트리거하는 키워드 목록에 따라 챗봇에 기능을 추가할 수 있습니다. 예를 들어 챗봇을 통해 시간을 알려주거나, 농담을 하거나, 사진을 인쇄할 수도 있습니다.\n",
    "\n",
    "기본 챗봇은 아래와 같습니다. 지식 기반에서 질문을 얼마나 잘 이해할 수 있는지 확인하기 위해 이 작업을 수행할 수 있습니다. 챗봇을 훈련하기 위해서는 며칠이 걸리는 수천 개의 문장이 필요하기 때문에 아직은 질문에 잘 대답할 수 없을 것입니다. 그러나 간단한 질문에는 대답할 수 있어야합니다!\n",
    "\n",
    "#### 4.1.2 챗봇에 시간 기능 추가\n",
    "\n",
    "이제 챗봇에 더 많은 기능을 추가하여 기능을 향상시킬 수 있습니다! 먼저, 사용자가 '시간'을 입력하면 시간을 알려주는 기능을 챗봇에 추가합니다.\n",
    "\n",
    "힌트: 위의 인사말 함수와 유사한 템플릿을 사용합니다. datetime 라이브러리를 가져와서 datetime.datetime.now()을 호출하여 현재 시간 정보를 얻을 수 있습니다."
   ]
  },
  {
   "cell_type": "code",
   "execution_count": 85,
   "metadata": {},
   "outputs": [
    {
     "data": {
      "text/plain": [
       "'2023-11-17 11:33:55'"
      ]
     },
     "execution_count": 85,
     "metadata": {},
     "output_type": "execute_result"
    }
   ],
   "source": [
    "import datetime\n",
    "\n",
    "def tell_time(sentence):\n",
    "    for word in sentence.split():\n",
    "        if word.lower() == 'time':\n",
    "            currentdt = datetime.datetime.now()\n",
    "            return currentdt.strftime(\"%Y-%m-%d %H:%M:%S\")\n",
    "\n",
    "tell_time('time')"
   ]
  },
  {
   "cell_type": "markdown",
   "metadata": {},
   "source": [
    "### 지금 챗봇을 테스트해보세요!"
   ]
  },
  {
   "cell_type": "code",
   "execution_count": 89,
   "metadata": {},
   "outputs": [
    {
     "name": "stdout",
     "output_type": "stream",
     "text": [
      "ROBO: My name is Robo. I will answer your queries about Chatbots. If you want to exit, type Bye!\n",
      "ROBO: [39]designthe chatbot design is the process that defines the interaction between the user and the chatbot.\n",
      "ROBO: virtual agent chat.\n",
      "ROBO: [39]designthe chatbot design is the process that defines the interaction between the user and the chatbot.\n",
      "ROBO: [39]designthe chatbot design is the process that defines the interaction between the user and the chatbot.\n",
      "ROBO: [39]designthe chatbot design is the process that defines the interaction between the user and the chatbot.\n",
      "ROBO: You are welcome..\n"
     ]
    }
   ],
   "source": [
    "flag=True\n",
    "print(\"ROBO: My name is Robo. I will answer your queries about Chatbots. If you want to exit, type Bye!\")\n",
    "while(flag==True):\n",
    "    user_response = input()\n",
    "    user_response=user_response.lower()\n",
    "    if(user_response!='bye'):\n",
    "        if(user_response=='thanks' or user_response=='thank you' ):\n",
    "            flag=False\n",
    "            print(\"ROBO: You are welcome..\")\n",
    "        else:\n",
    "            if(greeting(user_response)!=None):\n",
    "                print(\"ROBO: \"+greeting(user_response))\n",
    "                # tell_time 함수를 작성했으면 아래의 문장을 주석해제하세요.\n",
    "            if(tell_time(user_response)!=None):\n",
    "                print(\"ROBO: \"+tell_time(user_response))\n",
    "            else:\n",
    "                print(\"ROBO: \",end=\"\")\n",
    "                print(response(user_response))\n",
    "                sent_tokens.remove(user_response)\n",
    "    else:\n",
    "        flag=False\n",
    "        print(\"ROBO: Bye! take care..\")"
   ]
  },
  {
   "cell_type": "markdown",
   "metadata": {},
   "source": [
    "이제 선택한 데이터에 대해 교육을 받을 수 있는 매우 기본적인 챗봇이 있습니다. 챗봇을 다음과 같은 방법으로 개선하십시오:\n",
    "1. 인사말 입력 및 인사말 응답 수를 늘립니다.\n",
    "2. 작별 인사를 할 단어(예: see you!, unit, exit)를 늘립니다.\n",
    "3. 다른 주제에 대해 챗봇을 교육하거나, 데이터를 추가하여 챗봇의 지식 기반에 추가합니다."
   ]
  }
 ],
 "metadata": {
  "kernelspec": {
   "display_name": "Python 3 (ipykernel)",
   "language": "python",
   "name": "python3"
  },
  "language_info": {
   "codemirror_mode": {
    "name": "ipython",
    "version": 3
   },
   "file_extension": ".py",
   "mimetype": "text/x-python",
   "name": "python",
   "nbconvert_exporter": "python",
   "pygments_lexer": "ipython3",
   "version": "3.9.12"
  }
 },
 "nbformat": 4,
 "nbformat_minor": 2
}
