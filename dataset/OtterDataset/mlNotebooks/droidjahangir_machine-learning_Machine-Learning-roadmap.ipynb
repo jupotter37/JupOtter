{
 "cells": [
  {
   "cell_type": "markdown",
   "metadata": {},
   "source": [
    "# [How to get started with Machine Learning?](https://www.linkedin.com/pulse/how-get-started-machine-learning-akshat-gupta/?fbclid=IwAR03k7BV5D2_coWnznuAGUwdasWlTDbA_yYS42OACJhewfwM2lu6qU0AZzQ)"
   ]
  },
  {
   "cell_type": "markdown",
   "metadata": {},
   "source": [
    "![title](./images/roadToMachineLearning.png)"
   ]
  },
  {
   "cell_type": "markdown",
   "metadata": {},
   "source": [
    "# The road-map is divided into 6 sections. They are:\n",
    "\n",
    "### 1. Mathematics\n",
    "\n",
    "### 2. Python/R\n",
    "\n",
    "### 3. Machine Learning Algorithms\n",
    "\n",
    "### 4. Deep Learning Algorithms\n",
    "\n",
    "### 5. Computer Vision\n",
    "\n",
    "### 6. Natural Language Processing\n"
   ]
  },
  {
   "cell_type": "markdown",
   "metadata": {},
   "source": [
    "# Mathematics\n",
    "\n",
    "* ### Linear Algebra\n",
    "    \n",
    "* ### Statistics\n",
    "    \n",
    "* ### Calculus\n",
    "\n",
    "* ### Probability\n",
    "\n",
    "* ### Numerical Optimisation\n"
   ]
  },
  {
   "cell_type": "markdown",
   "metadata": {},
   "source": [
    "# Python/R\n",
    "\n",
    "* ### Basic Python/R\n",
    "\n",
    "* ### Numpy, Pandas, sci-kit learn, Matplotlib, nltk\n"
   ]
  },
  {
   "cell_type": "markdown",
   "metadata": {},
   "source": [
    "# Machine Learning Algorithms\n",
    "\n",
    "* ### Regression, Classification, Clustering, Gradient Descent, Optimisations\n",
    "    \n",
    "* ### Bayesian Methods, Time Series, Ensemble Algorithms\n",
    "\n",
    "* ### Libraries: sci-kit learn, graphlab.\n"
   ]
  },
  {
   "cell_type": "markdown",
   "metadata": {},
   "source": [
    "# Deep Learning Algorithms\n",
    "\n",
    "* ### Artificial Neural Networks (ANN), Activation Functions, Dropout\n",
    "\n",
    "* ### Convolution Neural Networks (CNN)\n",
    "\n",
    "* ### Recurrent Neural Networks (RNN)\n",
    "\n",
    "* ### Gated Recurrent Units (GRUs) Long-short term memory Networks (LSTMN)\n",
    "\n",
    "* ### Deep Belief Networks\n",
    "\n",
    "* ### Transfer Learning and other advanced concepts such as R - CNN, F - RCNN\n",
    "\n",
    "* ### Frameworks: Tensorflow, Keras, Pytorch, Caffe, gym by openai.\n"
   ]
  },
  {
   "cell_type": "markdown",
   "metadata": {},
   "source": [
    "# Computer Vision\n",
    "\n",
    "* ### Open-CV\n",
    "\n",
    "* ### Pattern Recognition\n",
    "\n",
    "* ### Segmentation\n",
    "\n",
    "* ### Object detection\n"
   ]
  },
  {
   "cell_type": "markdown",
   "metadata": {},
   "source": [
    "# Natural Language Processing\n",
    "\n",
    "* ### Tokenization, Stemming and Lemmatizing\n",
    "\n",
    "* ### POS (Part of Speech)\n",
    "\n",
    "* ### NER (Named Entity Recognition)\n",
    "\n",
    "* ### TF-IDF\n",
    "\n",
    "* ### word2vec\n"
   ]
  },
  {
   "cell_type": "code",
   "execution_count": null,
   "metadata": {},
   "outputs": [],
   "source": []
  }
 ],
 "metadata": {
  "kernelspec": {
   "display_name": "Python 3",
   "language": "python",
   "name": "python3"
  },
  "language_info": {
   "codemirror_mode": {
    "name": "ipython",
    "version": 3
   },
   "file_extension": ".py",
   "mimetype": "text/x-python",
   "name": "python",
   "nbconvert_exporter": "python",
   "pygments_lexer": "ipython3",
   "version": "3.7.0"
  }
 },
 "nbformat": 4,
 "nbformat_minor": 2
}
