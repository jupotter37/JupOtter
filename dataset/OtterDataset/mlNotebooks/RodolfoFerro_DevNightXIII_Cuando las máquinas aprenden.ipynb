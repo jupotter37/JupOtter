{
 "cells": [
  {
   "cell_type": "markdown",
   "metadata": {
    "slideshow": {
     "slide_type": "slide"
    }
   },
   "source": [
    "<div align=\"middle\" style=\"padding-top: 80px;\">\n",
    "<video width=\"100%\" controls src=\"./assets/tepache.mp4\" type=\"video/mp4\" loop></video>\n",
    "</div>"
   ]
  },
  {
   "cell_type": "markdown",
   "metadata": {
    "slideshow": {
     "slide_type": "slide"
    }
   },
   "source": [
    "<div align=\"middle\" style=\"padding-top: 50px;\">\n",
    "<img width=\"100%\" src=\"./assets/init.png\"/>\n",
    "</div>"
   ]
  },
  {
   "cell_type": "markdown",
   "metadata": {
    "slideshow": {
     "slide_type": "slide"
    }
   },
   "source": [
    "## Overview de la charla\n",
    "\n",
    "* ¿Qué es el *Machine Learning*?\n",
    "* Modelos de aprendizaje\n",
    "* Cuando las máquinas aprenden\n",
    "* Ejemplos de modelos de aprendizaje de máquina\n",
    "    * Predicción de precios de casas en Boston\n",
    "    * Clasificando spam del email\n",
    "    * Decidiendo si voy a la DevNight de hoy"
   ]
  },
  {
   "cell_type": "markdown",
   "metadata": {
    "collapsed": true,
    "slideshow": {
     "slide_type": "slide"
    }
   },
   "source": [
    "<div align=\"middle\" style=\"padding-top: 50px;\">\n",
    "<img width=\"100%\" src=\"./assets/intro.png\"/>\n",
    "</div>"
   ]
  },
  {
   "cell_type": "markdown",
   "metadata": {
    "collapsed": true,
    "slideshow": {
     "slide_type": "subslide"
    }
   },
   "source": [
    "<div align=\"middle\" style=\"padding-top: 50px;\">\n",
    "<img width=\"100%\" src=\"./assets/intro1.png\"/>\n",
    "</div>"
   ]
  },
  {
   "cell_type": "markdown",
   "metadata": {
    "collapsed": true,
    "slideshow": {
     "slide_type": "slide"
    }
   },
   "source": [
    "<div align=\"middle\" style=\"padding-top: 50px;\">\n",
    "<img width=\"100%\" src=\"./assets/Modelos.png\"/>\n",
    "</div>"
   ]
  },
  {
   "cell_type": "markdown",
   "metadata": {
    "slideshow": {
     "slide_type": "subslide"
    }
   },
   "source": [
    "<div align=\"middle\" style=\"padding-top: 50px;\">\n",
    "<img width=\"100%\" src=\"./assets/Modelos1.png\"/>\n",
    "</div>"
   ]
  },
  {
   "cell_type": "markdown",
   "metadata": {
    "slideshow": {
     "slide_type": "subslide"
    }
   },
   "source": [
    "<div align=\"middle\" style=\"padding-top: 50px;\">\n",
    "<img width=\"100%\" src=\"./assets/Modelos2.png\"/>\n",
    "</div>"
   ]
  },
  {
   "cell_type": "markdown",
   "metadata": {
    "slideshow": {
     "slide_type": "subslide"
    }
   },
   "source": [
    "<div align=\"middle\" style=\"padding-top: 50px;\">\n",
    "<img width=\"100%\" src=\"./assets/Modelos3.png\"/>\n",
    "</div>"
   ]
  },
  {
   "cell_type": "markdown",
   "metadata": {
    "slideshow": {
     "slide_type": "slide"
    }
   },
   "source": [
    "<div align=\"middle\" style=\"padding-top: 50px;\">\n",
    "<img width=\"100%\" src=\"./assets/aprenden.png\"/>\n",
    "</div>"
   ]
  },
  {
   "cell_type": "markdown",
   "metadata": {
    "slideshow": {
     "slide_type": "subslide"
    }
   },
   "source": [
    "<div align=\"middle\" style=\"padding-top: 50px;\">\n",
    "<img width=\"100%\" src=\"./assets/aprenden1.png\"/>\n",
    "</div>"
   ]
  },
  {
   "cell_type": "markdown",
   "metadata": {
    "slideshow": {
     "slide_type": "subslide"
    }
   },
   "source": [
    "## Para entender... ¡Ejemplos!\n",
    "* Predicción de precios de casas en Boston\n",
    "* Clasificando spam del email\n",
    "* Decidiendo si voy a la DevNight de hoy"
   ]
  },
  {
   "cell_type": "markdown",
   "metadata": {
    "slideshow": {
     "slide_type": "slide"
    }
   },
   "source": [
    "<div align=\"middle\" style=\"padding-top: 50px;\">\n",
    "<img width=\"100%\" src=\"./assets/lineal.png\"/>\n",
    "</div>"
   ]
  },
  {
   "cell_type": "code",
   "execution_count": 2,
   "metadata": {
    "ExecuteTime": {
     "end_time": "2017-10-01T01:41:33.223064Z",
     "start_time": "2017-10-01T01:41:31.625841Z"
    },
    "slideshow": {
     "slide_type": "subslide"
    }
   },
   "outputs": [
    {
     "data": {
      "text/plain": [
       "<matplotlib.collections.PathCollection at 0x118de19b0>"
      ]
     },
     "execution_count": 2,
     "metadata": {},
     "output_type": "execute_result"
    },
    {
     "data": {
      "image/png": "[encoded data removed]",
      "text/plain": [
       "<matplotlib.figure.Figure at 0x10d4ccef0>"
      ]
     },
     "metadata": {},
     "output_type": "display_data"
    }
   ],
   "source": [
    "import numpy as np\n",
    "import matplotlib.pyplot as plt\n",
    "import seaborn as sns\n",
    "%matplotlib inline\n",
    "\n",
    "x = np.linspace(-3, 3, 1000)\n",
    "y = (0.6052631579)*x + (0.2631578947)\n",
    "\n",
    "plt.figure(figsize=(12,6))\n",
    "plt.plot(x, y, \"-c\")\n",
    "plt.scatter([-2, 1, 3], [-1, 1, 2])"
   ]
  },
  {
   "cell_type": "code",
   "execution_count": 3,
   "metadata": {
    "ExecuteTime": {
     "end_time": "2017-10-01T01:41:54.698009Z",
     "start_time": "2017-10-01T01:41:54.420725Z"
    },
    "collapsed": true,
    "slideshow": {
     "slide_type": "subslide"
    }
   },
   "outputs": [],
   "source": [
    "from sklearn import datasets\n",
    "from sklearn.model_selection import cross_val_predict\n",
    "from sklearn import linear_model\n",
    "\n",
    "# Cargamos datos:\n",
    "boston = datasets.load_boston()\n",
    "y = boston.target\n",
    "\n",
    "# Creamos modelo de regresión lineal:\n",
    "lr = linear_model.LinearRegression()\n",
    "\n",
    "# Predecimos: \n",
    "predicted = cross_val_predict(lr, boston.data, y, cv=10)"
   ]
  },
  {
   "cell_type": "code",
   "execution_count": 4,
   "metadata": {
    "ExecuteTime": {
     "end_time": "2017-10-01T01:42:23.385236Z",
     "start_time": "2017-10-01T01:42:23.083042Z"
    },
    "scrolled": true,
    "slideshow": {
     "slide_type": "subslide"
    }
   },
   "outputs": [
    {
     "data": {
      "image/png": "[encoded data removed]",
      "text/plain": [
       "<matplotlib.figure.Figure at 0x1198f82e8>"
      ]
     },
     "metadata": {},
     "output_type": "display_data"
    }
   ],
   "source": [
    "fig, ax = plt.subplots(figsize=(12,6))\n",
    "ax.plot(y, predicted, \".\")\n",
    "ax.plot([y.min(), y.max()], [y.min(), y.max()], 'c--', lw=2)\n",
    "ax.set_xlabel('Datos medidos')\n",
    "ax.set_ylabel('Datos predichos')\n",
    "plt.show()"
   ]
  },
  {
   "cell_type": "markdown",
   "metadata": {
    "slideshow": {
     "slide_type": "slide"
    }
   },
   "source": [
    "<div align=\"middle\" style=\"padding-top: 50px;\">\n",
    "<img width=\"100%\" src=\"./assets/mail.png\"/>\n",
    "</div>"
   ]
  },
  {
   "cell_type": "code",
   "execution_count": 5,
   "metadata": {
    "ExecuteTime": {
     "end_time": "2017-10-01T01:49:20.427341Z",
     "start_time": "2017-10-01T01:49:20.039772Z"
    },
    "collapsed": true,
    "slideshow": {
     "slide_type": "subslide"
    }
   },
   "outputs": [],
   "source": [
    "from textblob.classifiers import NaiveBayesClassifier\n",
    "\n",
    "entrenamiento = [\n",
    "    # SPAM:\n",
    "    (\"Te ofrecemos una tarjeta de crédito del Banco X.\", \"SPAM\"),\n",
    "    (\"¡Anímate a comprar el último modelo de nuestros teléfonos!.\", \"SPAM\"),\n",
    "    (\"Aviso de demanda. Soy tu primo lejano...\", \"SPAM\"),\n",
    "    (\"¡Acabas de ganar 150,000 pesos!\", \"SPAM\"),\n",
    "    (\"¡No pierdas la oportunidad de ganar un automóvil!\", \"SPAM\"),\n",
    "    # NOT SPAM:\n",
    "    (\"Tarea 3. Redes computacionales.\", \"NOT SPAM\"),\n",
    "    (\"Invitación al Seminario de Deep Learning el próximo martes.\", \"NOT SPAM\"),\n",
    "    (\"Calendario: DevNight 7:30 pm en León.\", \"NOT SPAM\"),\n",
    "    (\"Recordatorio del taller básico de Arduino.\", \"NOT SPAM\"),\n",
    "    (\"Dev.to() -> 7 must read posts from last week.\", \"NOT SPAM\")\n",
    "]\n",
    "\n",
    "# Creamos modelo de clasificación:\n",
    "dev_Bayes = NaiveBayesClassifier(entrenamiento)"
   ]
  },
  {
   "cell_type": "code",
   "execution_count": 7,
   "metadata": {
    "ExecuteTime": {
     "end_time": "2017-10-01T01:49:44.245437Z",
     "start_time": "2017-10-01T01:49:44.236112Z"
    },
    "slideshow": {
     "slide_type": "-"
    }
   },
   "outputs": [
    {
     "data": {
      "text/plain": [
       "'NOT SPAM'"
      ]
     },
     "execution_count": 7,
     "metadata": {},
     "output_type": "execute_result"
    }
   ],
   "source": [
    "#dev_Bayes.classify(\"Adquiere una membresía a nuestro club premier.\")\n",
    "dev_Bayes.classify(\"Nueva tarea sobre análisis matemático.\")"
   ]
  },
  {
   "cell_type": "markdown",
   "metadata": {
    "slideshow": {
     "slide_type": "slide"
    }
   },
   "source": [
    "<div align=\"middle\" style=\"padding-top: 50px;\">\n",
    "<img width=\"100%\" src=\"./assets/ann.png\"/>\n",
    "</div>"
   ]
  },
  {
   "cell_type": "code",
   "execution_count": 8,
   "metadata": {
    "ExecuteTime": {
     "end_time": "2017-10-01T01:54:31.648788Z",
     "start_time": "2017-10-01T01:54:31.633393Z"
    },
    "collapsed": true,
    "slideshow": {
     "slide_type": "subslide"
    }
   },
   "outputs": [],
   "source": [
    "import numpy as np\n",
    "\n",
    "class PerceptronDevNight():\n",
    "    def __init__(self, entradas, pesos):\n",
    "        \"\"\"Constructor de la clase.\"\"\"\n",
    "        self.n = len(entradas)\n",
    "        self.entradas = np.array(entradas)\n",
    "        self.pesos = np.array(pesos)\n",
    "    \n",
    "    def voy_no_voy(self, umbral):\n",
    "        \"\"\"Calcula el output deseado.\"\"\"\n",
    "        si_no = (self.entradas @ self.pesos) >= umbral\n",
    "        if si_no: return \"Sí voy.\"\n",
    "        else: return \"No voy.\""
   ]
  },
  {
   "cell_type": "code",
   "execution_count": 10,
   "metadata": {
    "ExecuteTime": {
     "end_time": "2017-10-01T01:55:02.544072Z",
     "start_time": "2017-10-01T01:55:02.534657Z"
    },
    "slideshow": {
     "slide_type": "-"
    }
   },
   "outputs": [
    {
     "data": {
      "text/plain": [
       "'No voy.'"
      ]
     },
     "execution_count": 10,
     "metadata": {},
     "output_type": "execute_result"
    }
   ],
   "source": [
    "entradas = [1, 1, 1, 1]\n",
    "pesos = [-4, 3, 1, 2]\n",
    "\n",
    "dev = PerceptronDevNight(entradas, pesos)\n",
    "dev.voy_no_voy(3)"
   ]
  },
  {
   "cell_type": "code",
   "execution_count": 11,
   "metadata": {
    "ExecuteTime": {
     "end_time": "2017-10-01T01:58:22.515003Z",
     "start_time": "2017-10-01T01:58:22.476914Z"
    },
    "collapsed": true,
    "slideshow": {
     "slide_type": "slide"
    }
   },
   "outputs": [],
   "source": [
    "from tqdm import tqdm_notebook as tqdm\n",
    "import numpy as np\n",
    "\n",
    "class SigmoidNeuron():\n",
    "    def __init__(self, n):\n",
    "        np.random.seed(123)\n",
    "        self.synaptic_weights = 2 * np.random.random((n, 1)) - 1\n",
    "\n",
    "    def __sigmoid(self, x):\n",
    "        return 1 / (1 + np.exp(-x))\n",
    "\n",
    "    def __sigmoid_derivative(self, x):\n",
    "        return x * (1 - x)\n",
    "\n",
    "    def train(self, training_inputs, training_output, iterations):\n",
    "        for iteration in tqdm(range(iterations)):\n",
    "            output = self.predict(training_inputs)\n",
    "            error = training_output.reshape((len(training_inputs), 1)) - output\n",
    "            adjustment = np.dot(training_inputs.T, error *\n",
    "                                self.__sigmoid_derivative(output))\n",
    "            self.synaptic_weights += adjustment\n",
    "\n",
    "    def predict(self, inputs):\n",
    "        return self.__sigmoid(np.dot(inputs, self.synaptic_weights))\n"
   ]
  },
  {
   "cell_type": "code",
   "execution_count": 12,
   "metadata": {
    "ExecuteTime": {
     "end_time": "2017-10-01T02:00:16.745261Z",
     "start_time": "2017-10-01T02:00:14.760319Z"
    },
    "slideshow": {
     "slide_type": "subslide"
    }
   },
   "outputs": [
    {
     "name": "stdout",
     "output_type": "stream",
     "text": [
      "Inicialización de pesos aleatorios:\n",
      "[[ 0.39293837]\n",
      " [-0.42772133]]\n"
     ]
    },
    {
     "data": {
      "application/vnd.jupyter.widget-view+json": {
       "model_id": "a27138ebcc914e2f81672bd2ee399e45"
      }
     },
     "metadata": {},
     "output_type": "display_data"
    },
    {
     "name": "stdout",
     "output_type": "stream",
     "text": [
      "\n",
      "Nuevos pesos sinápticos luego del entrenamiento: \n",
      "[[ 6.09629146]\n",
      " [ 6.09625877]]\n",
      "Predicción para [1, 1]: \n",
      "[ 0.99999493]\n"
     ]
    }
   ],
   "source": [
    "# Initialize Sigmoid Neuron:\n",
    "sigmoid = SigmoidNeuron(2)\n",
    "print(\"Inicialización de pesos aleatorios:\")\n",
    "print(sigmoid.synaptic_weights)\n",
    "\n",
    "# Datos de entrenamiento:\n",
    "training_inputs = np.array([[1, 0], [0, 0], [0, 1]])\n",
    "training_output = np.array([1, 0, 1]).T.reshape((3, 1))\n",
    "\n",
    "# Entrenamos la neurona (100,000 iteraciones):\n",
    "sigmoid.train(training_inputs, training_output, 100000)\n",
    "print(\"Nuevos pesos sinápticos luego del entrenamiento: \")\n",
    "print(sigmoid.synaptic_weights)\n",
    "\n",
    "# Predecimos para probar la red:\n",
    "print(\"Predicción para [1, 1]: \")\n",
    "print(sigmoid.predict(np.array([1, 1]))) "
   ]
  },
  {
   "cell_type": "markdown",
   "metadata": {
    "collapsed": true,
    "slideshow": {
     "slide_type": "slide"
    }
   },
   "source": [
    "<div align=\"middle\" style=\"padding-top: 50px;\">\n",
    "<img width=\"100%\" src=\"./assets/thanks.png\"/>\n",
    "</div>"
   ]
  },
  {
   "cell_type": "markdown",
   "metadata": {
    "slideshow": {
     "slide_type": "subslide"
    }
   },
   "source": [
    "#### Cargar estilo de slides"
   ]
  },
  {
   "cell_type": "code",
   "execution_count": 1,
   "metadata": {
    "ExecuteTime": {
     "end_time": "2017-10-01T01:28:33.015925Z",
     "start_time": "2017-10-01T01:28:32.996076Z"
    },
    "slideshow": {
     "slide_type": "-"
    }
   },
   "outputs": [
    {
     "data": {
      "text/html": [
       "<style>\n",
       "/*\n",
       "\n",
       "    Name:       Base16 Summerfruit Light\n",
       "    Author:     Christopher Corley (http://cscorley.github.io/)\n",
       "\n",
       "    CodeMirror template adapted for IPython Notebook by Nikhil Sonnad (https://github.com/nsonnad/base16-ipython-notebook)\n",
       "    CodeMirror template by Jan T. Sott (https://github.com/idleberg/base16-chrome-devtools)\n",
       "    Original Base16 color scheme by Chris Kempson (https://github.com/chriskempson/base16)\n",
       "\n",
       "*/\n",
       "\n",
       "/* Uncomment to use a custom font\n",
       "div#notebook, div.CodeMirror, div.output_area pre, div.output_wrapper, div.prompt {\n",
       "  font-family: 'Custom Font Name', monospace !important;\n",
       "}\n",
       "*/\n",
       "\n",
       "/* GLOBALS */\n",
       "body {background-color: #FFFFFF;font-family: Fira Sans, Menlo, sans;}\n",
       "a {color: #3777E6;}\n",
       ".text_cell_render h1 {color: #4271ae;}\n",
       ".text_cell_render h2 {color: #3e999f;}\n",
       ".text_cell_render h3 {color: #3e999f;}\n",
       ".text_cell_render h4 {color: #3e999f;}\n",
       "\n",
       "/* INTRO PAGE */\n",
       ".toolbar_info, .list-container {color: #202020;}\n",
       "\n",
       "/* NOTEBOOK */\n",
       "\n",
       "/* comment out this line to bring the toolbar back */\n",
       "/*div#maintoolbar, div#header {display: none !important;}*/\n",
       "\n",
       "div#notebook {border-top: none;}\n",
       "\n",
       "div.input_prompt {color: #AD00A1;}\n",
       "div.output_prompt {color: #cc6633;}\n",
       "div.input_area {\n",
       "  border-radius: 0px;\n",
       "  border: 1px solid #D0D0D0;\n",
       "}\n",
       "div.output_area pre {font-weight: normal; color: #303030;}\n",
       "div.output_subarea {font-weight: normal; color: #303030;}\n",
       "\n",
       ".rendered_html table, .rendered_html th, .rendered_html tr, .rendered_html td {\n",
       "  border: 1px  #505050 solid;\n",
       "  color: #505050;\n",
       "}\n",
       "div.output_html { font-family: sans-serif; }\n",
       "table.dataframe tr {border: 1px #303030;}\n",
       "\n",
       "div.cell.selected {border-radius: 0px;}\n",
       "div.cell.edit_mode {border-radius: 0px; border: thin solid #cc6633;}\n",
       "div.text_cell_render, div.output_html {color: #303030;}\n",
       "\n",
       "span.ansiblack {color: #202020;}\n",
       "span.ansiblue {color: #1faaaa;}\n",
       "span.ansigray {color: #B0B0B0;}\n",
       "span.ansigreen {color: #00C918;}\n",
       "span.ansipurple {color: #AD00A1;}\n",
       "span.ansired {color: #FF0086;}\n",
       "span.ansiyellow {color: #ABA800;}\n",
       "\n",
       "div.output_stderr {background-color: #FF0086;}\n",
       "div.output_stderr pre {color: #E0E0E0;}\n",
       "\n",
       ".cm-s-ipython.CodeMirror {background: #FFFFFF; color: #202020;}\n",
       ".cm-s-ipython div.CodeMirror-selected {background: #E0E0E0 !important;}\n",
       ".cm-s-ipython .CodeMirror-gutters {background: #FFFFFF; border-right: 0px;}\n",
       ".cm-s-ipython .CodeMirror-linenumber {color: #B0B0B0;}\n",
       ".cm-s-ipython .CodeMirror-cursor {border-left: 1px solid #505050 !important;}\n",
       "\n",
       ".cm-s-ipython span.cm-comment {color: #cc6633;}\n",
       ".cm-s-ipython span.cm-atom {color: #AD00A1;}\n",
       ".cm-s-ipython span.cm-number {color: #AD00A1;}\n",
       "\n",
       ".cm-s-ipython span.cm-property, .cm-s-ipython span.cm-attribute {color: #00C918;}\n",
       ".cm-s-ipython span.cm-keyword {color: #FF0086;}\n",
       ".cm-s-ipython span.cm-string {color: #ABA800;}\n",
       ".cm-s-ipython span.cm-operator {color: #cc6633;}\n",
       ".cm-s-ipython span.cm-builtin {color: #AD00A1;}\n",
       "\n",
       ".cm-s-ipython span.cm-variable {color: #00C918;}\n",
       ".cm-s-ipython span.cm-variable-2 {color: #3777E6;}\n",
       ".cm-s-ipython span.cm-def {color: #FD8900;}\n",
       ".cm-s-ipython span.cm-error {background: #FF0086; color: #505050;}\n",
       ".cm-s-ipython span.cm-bracket {color: #303030;}\n",
       ".cm-s-ipython span.cm-tag {color: #FF0086;}\n",
       ".cm-s-ipython span.cm-link {color: #AD00A1;}\n",
       "\n",
       ".cm-s-ipython .CodeMirror-matchingbracket { text-decoration: underline; color: #202020 !important;}\n"
      ],
      "text/plain": [
       "<IPython.core.display.HTML object>"
      ]
     },
     "execution_count": 1,
     "metadata": {},
     "output_type": "execute_result"
    }
   ],
   "source": [
    "from IPython.core.display import HTML\n",
    "def css_styling():\n",
    "    style = open(\"./assets/mystyle.css\", \"r\").read()\n",
    "    return HTML(style)\n",
    "css_styling()"
   ]
  },
  {
   "cell_type": "code",
   "execution_count": null,
   "metadata": {
    "collapsed": true
   },
   "outputs": [],
   "source": []
  }
 ],
 "metadata": {
  "anaconda-cloud": {},
  "kernelspec": {
   "display_name": "Python [conda root]",
   "language": "python",
   "name": "conda-root-py"
  },
  "language_info": {
   "codemirror_mode": {
    "name": "ipython",
    "version": 3
   },
   "file_extension": ".py",
   "mimetype": "text/x-python",
   "name": "python",
   "nbconvert_exporter": "python",
   "pygments_lexer": "ipython3",
   "version": "3.6.1"
  },
  "toc": {
   "colors": {
    "hover_highlight": "#DAA520",
    "navigate_num": "#000000",
    "navigate_text": "#333333",
    "running_highlight": "#FF0000",
    "selected_highlight": "#FFD700",
    "sidebar_border": "#EEEEEE",
    "wrapper_background": "#FFFFFF"
   },
   "moveMenuLeft": true,
   "nav_menu": {
    "height": "12px",
    "width": "252px"
   },
   "navigate_menu": true,
   "number_sections": false,
   "sideBar": true,
   "threshold": 4,
   "toc_cell": false,
   "toc_section_display": "block",
   "toc_window_display": false,
   "widenNotebook": false
  }
 },
 "nbformat": 4,
 "nbformat_minor": 2
}
