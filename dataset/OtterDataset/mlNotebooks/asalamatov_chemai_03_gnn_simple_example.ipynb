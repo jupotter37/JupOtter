{
 "cells": [
  {
   "cell_type": "markdown",
   "id": "cdc997b6-501f-464d-a388-bf3c9540400e",
   "metadata": {},
   "source": [
    "<a href=\"https://colab.research.google.com/github/schwallergroup/ai4chem_course/blob/main/notebooks/03%20-%20Intro%20to%20Deep%20Learning/03_gnn_simple_example.ipynb\" target=\"_parent\"><img src=\"https://colab.research.google.com/assets/colab-badge.svg\" alt=\"Open In Colab\"/></a>"
   ]
  },
  {
   "cell_type": "markdown",
   "id": "2361f4a6-2cc4-4347-aa21-f557e606bf6f",
   "metadata": {},
   "source": [
    "# Week 3 tutorial 2 - AI 4 Chemistry\n",
    "\n",
    "## Table of content\n",
    "\n",
    "0. Relevant packages\n",
    "1. Train GNNs using chemprop"
   ]
  },
  {
   "cell_type": "markdown",
   "id": "179733c6",
   "metadata": {},
   "source": [
    "# 0. Relevant packages\n",
    "\n",
    "### Chemprop\n",
    "Chemprop package contains message passing neural networks for molecular property prediction as described in the paper [Analyzing Learned Molecular Representations for Property Prediction](https://pubs.acs.org/doi/abs/10.1021/acs.jcim.9b00237) and as used in the paper [A Deep Learning Approach to Antibiotic Discovery](https://www.cell.com/cell/fulltext/S0092-8674(20)30102-1) for molecules and [Machine Learning of Reaction Properties via Learned Representations of the Condensed Graph of Reaction](https://doi.org/10.1021/acs.jcim.1c00975) for reactions.\n",
    "\n",
    "**Documentation:** Full documentation of Chemprop is available at https://chemprop.readthedocs.io/en/latest/.\n",
    "\n",
    "**Website:** A web prediction interface with some trained Chemprop models is available at [chemprop.csail.mit.edu](http://chemprop.csail.mit.edu).\n",
    "\n",
    "**Tutorial:** These [slides](https://docs.google.com/presentation/d/14pbd9LTXzfPSJHyXYkfLxnK8Q80LhVnjImg8a3WqCRM/edit?usp=sharing) provide a Chemprop tutorial and highlight recent additions as of April 28th, 2020."
   ]
  },
  {
   "cell_type": "code",
   "execution_count": null,
   "id": "519f98ff",
   "metadata": {},
   "outputs": [],
   "source": [
    "# Install chemprop\n",
    "# CoLab has already preinstalled Pytorch for you\n",
    "! pip install chemprop rdkit\n",
    "\n",
    "# Download ESOL data\n",
    "! mkdir data/\n",
    "! wget https://raw.githubusercontent.com/schwallergroup/ai4chem_course/main/notebooks/02%20-%20Supervised%20Learning/data/esol.csv -O data/esol.csv"
   ]
  },
  {
   "cell_type": "markdown",
   "id": "d19b18b9",
   "metadata": {},
   "source": [
    "Set a random seed to ensure repeatability of experiments"
   ]
  },
  {
   "cell_type": "code",
   "execution_count": null,
   "id": "a55c1555",
   "metadata": {},
   "outputs": [],
   "source": [
    "import random\n",
    "import numpy as np\n",
    "import torch\n",
    "\n",
    "# Random Seeds and Reproducibility\n",
    "torch.manual_seed(0)\n",
    "torch.cuda.manual_seed(0)\n",
    "np.random.seed(0)\n",
    "random.seed(0)"
   ]
  },
  {
   "cell_type": "markdown",
   "id": "b49a0ef1",
   "metadata": {},
   "source": [
    "# 1. Train GNNs using chemprop\n",
    "\n",
    "To train a GNN model, run:\n",
    "```\n",
    "chemprop_train --data_path <path> --dataset_type <type> --save_dir <dir>\n",
    "```\n",
    "where `<path>` is the path to a CSV file containing a dataset, `<type>` is one of [classification, regression, multiclass, spectra] depending on the type of the dataset, and `<dir>` is the directory where train results and model checkpoints will be saved. For more details for CSV data style, please see [here](https://github.com/chemprop/chemprop#data).\n",
    "\n",
    "For example:\n",
    "```\n",
    "chemprop_train --data_path data/tox21.csv --dataset_type classification --save_dir tox21_checkpoints\n",
    "```\n",
    "\n",
    "A full list of available command-line arguments can be found in [chemprop/args.py](https://github.com/chemprop/chemprop/blob/master/chemprop/args.py).\n",
    "\n",
    "For model evaluation metrics, please see in [README.md](https://github.com/chemprop/chemprop#metrics)."
   ]
  },
  {
   "cell_type": "code",
   "execution_count": null,
   "id": "2157456d",
   "metadata": {},
   "outputs": [],
   "source": [
    "! chemprop_train --data_path data/esol.csv \\\n",
    "                 --dataset_type regression \\\n",
    "                 --save_dir esol_ckpts \\\n",
    "                 --metric rmse \\\n",
    "                 --split_sizes 0.7 0.1 0.2 \\\n",
    "                 --epochs 60"
   ]
  }
 ],
 "metadata": {
  "kernelspec": {
   "display_name": "Python 3.9.12 ('base')",
   "language": "python",
   "name": "python3"
  },
  "language_info": {
   "codemirror_mode": {
    "name": "ipython",
    "version": 3
   },
   "file_extension": ".py",
   "mimetype": "text/x-python",
   "name": "python",
   "nbconvert_exporter": "python",
   "pygments_lexer": "ipython3",
   "version": "3.9.12"
  },
  "vscode": {
   "interpreter": {
    "hash": "e1b1e114f4dae097b9e32029c5d22d73dc21a5dd723446d46774bd2adced9390"
   }
  }
 },
 "nbformat": 4,
 "nbformat_minor": 5
}
