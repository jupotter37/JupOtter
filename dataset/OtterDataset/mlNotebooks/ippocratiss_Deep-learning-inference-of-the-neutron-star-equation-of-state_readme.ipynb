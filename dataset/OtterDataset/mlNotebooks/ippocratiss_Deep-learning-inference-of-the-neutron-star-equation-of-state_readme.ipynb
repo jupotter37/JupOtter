## Reproduction Package for the Paper: "Deep learning inference of the neutron star equation of state"

## Authors
**Giulia Ventagli** (data generation/pipeline, deterministic neural network & analysis) 

**Ippocratis Saltas** (Bayesian neural network & analysis)  
 
## Software
The data used for the machine learning analysis were generated on Julia (e.g. solution of ODEs, construction of mass-radius-tidal data, etc.). The deep learning models and analysis were done in Python using Tensorflow/Keras. The version of libraries used are as follows:

### Julia 
    julia 1.10.2
    DifferentialEquations v7.13.0
    DelimitedFiles v1.9.1
    Interpolations v0.15.1
    Symbolics v5.22.1
    Plots v1.40.1
    Roots v2.1.2
    Distributions v0.25.107
    CSV v0.10.13
    LaTeXStrings v.1.3.1
    Images v0.26.0
    
### Python & Jupyter notebook
    python 3
    tensorflow version 2.14.0
    numpy version 1.24.3
    pandas version 2.0.3
    sklearn version 1.3.0
    matplotlib version 3.5.1
    statmodels version 0.14.1
    IPython          : 8.14.0
    ipykernel        : 6.25.0
    ipywidgets       : 6.0.0
    jupyter_client   : 8.3.0
    jupyter_core     : 5.3.1
    jupyter_server   : 2.7.0
    jupyterlab       : 4.0.3
    nbclient         : 0.8.0
    nbconvert        : 7.7.3
    nbformat         : 5.9.1
    notebook         : 6.1.5
    qtconsole        : 5.5.1
    traitlets        : 5.9.0    



## Folders/Files 

**Data:** This folder contains the various versions of the training/testing data we used. 

**DataGenerator:** This folder containts the code and necessary data files needed to generate the training/testing data. 

**Datagenerator.ipynb:** This is the notebook (Julia) which solves the equations and generates the training/testing data set we used in the deep-learning analysis.

**Deterministic_Neural_Network.ipynb:** This is the notebook (Python) for the analysis of the equation of state based on the deterministic neural network.

**Baysian_Neural_Network.ipynb:** This is the notebook (Python) for the analysis of the equation of state based on the Bayesian/probabilistic neural network.

**model_det.py:** The Python file containing the definition of the deep-learning model and the required functionality needed for the notebook "Deterministic_Neural_Network.ipynb".

**model_Bayesian.py:** The Python file containing the definition of the deep-learning model and the required functionality for the notebook "Bayesian_Neural_Network.ipynb".


## Citation Policy

If you use any part of this reproduction package for independent work we ask that you cite both this Zenodo package and the science paper.




