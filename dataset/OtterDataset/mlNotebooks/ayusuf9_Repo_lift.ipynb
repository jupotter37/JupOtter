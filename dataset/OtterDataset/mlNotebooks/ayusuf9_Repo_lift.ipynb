{
 "cells": [
  {
   "cell_type": "markdown",
   "id": "cf8891c6",
   "metadata": {},
   "source": [
    "# Loan Flagging Dataset"
   ]
  },
  {
   "cell_type": "markdown",
   "id": "54f56081",
   "metadata": {},
   "source": [
    "<span style=\"font-size:17px;\">We have a dataset containing information on thousands of loans, including features like loan info, age, past billings, credit score, etc. The target variable indicates whether the loan was flagged or not. </span>"
   ]
  },
  {
   "cell_type": "code",
   "execution_count": 1,
   "id": "f89d0e9c",
   "metadata": {},
   "outputs": [],
   "source": [
    "import pandas as pd"
   ]
  },
  {
   "cell_type": "code",
   "execution_count": 2,
   "id": "68070f60",
   "metadata": {},
   "outputs": [],
   "source": [
    "# importing the dataset\n",
    "data = pd.read_csv(\"test_task.csv\")"
   ]
  },
  {
   "cell_type": "code",
   "execution_count": 3,
   "id": "a4326d5e",
   "metadata": {},
   "outputs": [
    {
     "data": {
      "text/plain": [
       "(4157, 22)"
      ]
     },
     "execution_count": 3,
     "metadata": {},
     "output_type": "execute_result"
    }
   ],
   "source": [
    "# we have 4157 rows and 22 columns\n",
    "data.shape"
   ]
  },
  {
   "cell_type": "code",
   "execution_count": 4,
   "id": "50afc8b0",
   "metadata": {
    "scrolled": false
   },
   "outputs": [
    {
     "data": {
      "text/html": [
       "<div>\n",
       "<style scoped>\n",
       "    .dataframe tbody tr th:only-of-type {\n",
       "        vertical-align: middle;\n",
       "    }\n",
       "\n",
       "    .dataframe tbody tr th {\n",
       "        vertical-align: top;\n",
       "    }\n",
       "\n",
       "    .dataframe thead th {\n",
       "        text-align: right;\n",
       "    }\n",
       "</style>\n",
       "<table border=\"1\" class=\"dataframe\">\n",
       "  <thead>\n",
       "    <tr style=\"text-align: right;\">\n",
       "      <th></th>\n",
       "      <th>loanKey</th>\n",
       "      <th>rep_loan_date</th>\n",
       "      <th>first_loan</th>\n",
       "      <th>dpd_5_cnt</th>\n",
       "      <th>dpd_15_cnt</th>\n",
       "      <th>dpd_30_cnt</th>\n",
       "      <th>first_overdue_date</th>\n",
       "      <th>close_loans_cnt</th>\n",
       "      <th>federal_district_nm</th>\n",
       "      <th>TraderKey</th>\n",
       "      <th>...</th>\n",
       "      <th>payment_type_2</th>\n",
       "      <th>payment_type_3</th>\n",
       "      <th>payment_type_4</th>\n",
       "      <th>payment_type_5</th>\n",
       "      <th>past_billings_cnt</th>\n",
       "      <th>score_1</th>\n",
       "      <th>score_2</th>\n",
       "      <th>age</th>\n",
       "      <th>gender</th>\n",
       "      <th>bad_flag</th>\n",
       "    </tr>\n",
       "  </thead>\n",
       "  <tbody>\n",
       "    <tr>\n",
       "      <th>0</th>\n",
       "      <td>708382</td>\n",
       "      <td>2016-10-06</td>\n",
       "      <td>2015-11-13</td>\n",
       "      <td>NaN</td>\n",
       "      <td>NaN</td>\n",
       "      <td>NaN</td>\n",
       "      <td>NaN</td>\n",
       "      <td>3.0</td>\n",
       "      <td>region_6</td>\n",
       "      <td>6</td>\n",
       "      <td>...</td>\n",
       "      <td>10</td>\n",
       "      <td>0</td>\n",
       "      <td>0</td>\n",
       "      <td>0</td>\n",
       "      <td>10.0</td>\n",
       "      <td>NaN</td>\n",
       "      <td>NaN</td>\n",
       "      <td>21.0</td>\n",
       "      <td>False</td>\n",
       "      <td>0</td>\n",
       "    </tr>\n",
       "    <tr>\n",
       "      <th>1</th>\n",
       "      <td>406305</td>\n",
       "      <td>2016-03-26</td>\n",
       "      <td>2015-09-28</td>\n",
       "      <td>1.0</td>\n",
       "      <td>0.0</td>\n",
       "      <td>0.0</td>\n",
       "      <td>2016-01-30</td>\n",
       "      <td>0.0</td>\n",
       "      <td>region_6</td>\n",
       "      <td>6</td>\n",
       "      <td>...</td>\n",
       "      <td>6</td>\n",
       "      <td>0</td>\n",
       "      <td>0</td>\n",
       "      <td>0</td>\n",
       "      <td>5.0</td>\n",
       "      <td>NaN</td>\n",
       "      <td>NaN</td>\n",
       "      <td>20.0</td>\n",
       "      <td>False</td>\n",
       "      <td>0</td>\n",
       "    </tr>\n",
       "    <tr>\n",
       "      <th>2</th>\n",
       "      <td>779736</td>\n",
       "      <td>2016-10-30</td>\n",
       "      <td>2015-12-21</td>\n",
       "      <td>NaN</td>\n",
       "      <td>NaN</td>\n",
       "      <td>NaN</td>\n",
       "      <td>NaN</td>\n",
       "      <td>2.0</td>\n",
       "      <td>region_1</td>\n",
       "      <td>6</td>\n",
       "      <td>...</td>\n",
       "      <td>0</td>\n",
       "      <td>5</td>\n",
       "      <td>0</td>\n",
       "      <td>0</td>\n",
       "      <td>5.0</td>\n",
       "      <td>NaN</td>\n",
       "      <td>NaN</td>\n",
       "      <td>19.0</td>\n",
       "      <td>False</td>\n",
       "      <td>0</td>\n",
       "    </tr>\n",
       "    <tr>\n",
       "      <th>3</th>\n",
       "      <td>556376</td>\n",
       "      <td>2016-06-29</td>\n",
       "      <td>2015-06-30</td>\n",
       "      <td>NaN</td>\n",
       "      <td>NaN</td>\n",
       "      <td>NaN</td>\n",
       "      <td>NaN</td>\n",
       "      <td>1.0</td>\n",
       "      <td>region_6</td>\n",
       "      <td>14</td>\n",
       "      <td>...</td>\n",
       "      <td>4</td>\n",
       "      <td>0</td>\n",
       "      <td>0</td>\n",
       "      <td>0</td>\n",
       "      <td>6.0</td>\n",
       "      <td>NaN</td>\n",
       "      <td>NaN</td>\n",
       "      <td>21.0</td>\n",
       "      <td>False</td>\n",
       "      <td>0</td>\n",
       "    </tr>\n",
       "    <tr>\n",
       "      <th>4</th>\n",
       "      <td>266968</td>\n",
       "      <td>2015-12-01</td>\n",
       "      <td>2015-08-03</td>\n",
       "      <td>NaN</td>\n",
       "      <td>NaN</td>\n",
       "      <td>NaN</td>\n",
       "      <td>NaN</td>\n",
       "      <td>0.0</td>\n",
       "      <td>region_5</td>\n",
       "      <td>22</td>\n",
       "      <td>...</td>\n",
       "      <td>0</td>\n",
       "      <td>0</td>\n",
       "      <td>0</td>\n",
       "      <td>0</td>\n",
       "      <td>3.0</td>\n",
       "      <td>NaN</td>\n",
       "      <td>NaN</td>\n",
       "      <td>33.0</td>\n",
       "      <td>False</td>\n",
       "      <td>0</td>\n",
       "    </tr>\n",
       "  </tbody>\n",
       "</table>\n",
       "<p>5 rows × 22 columns</p>\n",
       "</div>"
      ],
      "text/plain": [
       "   loanKey rep_loan_date  first_loan  dpd_5_cnt  dpd_15_cnt  dpd_30_cnt  \\\n",
       "0   708382    2016-10-06  2015-11-13        NaN         NaN         NaN   \n",
       "1   406305    2016-03-26  2015-09-28        1.0         0.0         0.0   \n",
       "2   779736    2016-10-30  2015-12-21        NaN         NaN         NaN   \n",
       "3   556376    2016-06-29  2015-06-30        NaN         NaN         NaN   \n",
       "4   266968    2015-12-01  2015-08-03        NaN         NaN         NaN   \n",
       "\n",
       "  first_overdue_date  close_loans_cnt federal_district_nm  TraderKey  ...  \\\n",
       "0                NaN              3.0            region_6          6  ...   \n",
       "1         2016-01-30              0.0            region_6          6  ...   \n",
       "2                NaN              2.0            region_1          6  ...   \n",
       "3                NaN              1.0            region_6         14  ...   \n",
       "4                NaN              0.0            region_5         22  ...   \n",
       "\n",
       "   payment_type_2  payment_type_3  payment_type_4  payment_type_5  \\\n",
       "0              10               0               0               0   \n",
       "1               6               0               0               0   \n",
       "2               0               5               0               0   \n",
       "3               4               0               0               0   \n",
       "4               0               0               0               0   \n",
       "\n",
       "   past_billings_cnt  score_1  score_2   age  gender  bad_flag  \n",
       "0               10.0      NaN      NaN  21.0   False         0  \n",
       "1                5.0      NaN      NaN  20.0   False         0  \n",
       "2                5.0      NaN      NaN  19.0   False         0  \n",
       "3                6.0      NaN      NaN  21.0   False         0  \n",
       "4                3.0      NaN      NaN  33.0   False         0  \n",
       "\n",
       "[5 rows x 22 columns]"
      ]
     },
     "execution_count": 4,
     "metadata": {},
     "output_type": "execute_result"
    }
   ],
   "source": [
    "# prints the first 10 rows of the data.\n",
    "data.head(5)"
   ]
  },
  {
   "cell_type": "markdown",
   "id": "d672bd99",
   "metadata": {},
   "source": [
    "# Details of Features"
   ]
  },
  {
   "cell_type": "markdown",
   "id": "66895075",
   "metadata": {},
   "source": [
    "<span style=\"font-size:17px;\">\n",
    "\n",
    "`loanKey`: This is a unique identifier for each loan.\n",
    "\n",
    "`rep_loan_date`: This indicates the repayment date for a loan.\n",
    "\n",
    "`first_loan`: An object column which represent whether this is the customer's first loan or some date related to it.\n",
    "\n",
    "`dpd_5_cnt`, `dpd_15_cnt`, `dpd_30_cnt`: These features probably represent the count of days past due (DPD) for 5 days, 15 days, and 30 days respectively.\n",
    "\n",
    "`first_overdue_date`: An object column representing the date when the loan first became overdue.\n",
    "\n",
    "`close_loans_cnt`: A float column representing the count of closed loans, with a few missing values.\n",
    "\n",
    "`federal_district_nm`: An object column that represent the name of a federal district related to the loan or borrower.\n",
    "\n",
    "`TraderKey`: An integer column which is a unique identifier for a trader or an agent associated with the loan.\n",
    "\n",
    "`payment_type_0` `to payment_type_5`: Integer columns representing different types of payments. These might be categorical indicators or counts of each type of payment.\n",
    "\n",
    "`past_billings_cnt`: A float column representing the count of past billings, with some missing values.\n",
    "\n",
    "`score_1`, `score_2`: These columns represent credit scores or internal risk assessment scores. The score_2 column has a lot of missing data.\n",
    "\n",
    "`age`: A column representing the age of the borrower or associated entity.\n",
    "\n",
    "`gender`: A boolean column, which indicates two gender categories.\n",
    "\n",
    "`bad_flag`: An integer column which is a binary flag indicating whether a loan went bad (defaulted) or not.\n",
    "    \n",
    "</span>"
   ]
  },
  {
   "cell_type": "markdown",
   "id": "3200ba62",
   "metadata": {},
   "source": [
    "# First Step \n",
    "\n",
    "### Exploratory Data Analysis\n",
    "\n",
    "\n",
    "\n",
    "\n",
    "<span style=\"font-size:17px;\">Walk me through how you would explore this dataset and perform some initial EDA. What are some key things you would look at to start understanding the data, relationships between features, and what might be predictive of our target variable? Feel free to speak generally about your approach first, then get more specific in terms of what you might examine with this particular dataset.</span>"
   ]
  },
  {
   "cell_type": "code",
   "execution_count": null,
   "id": "fac23221",
   "metadata": {},
   "outputs": [],
   "source": []
  },
  {
   "cell_type": "code",
   "execution_count": null,
   "id": "ec94fe9f",
   "metadata": {},
   "outputs": [],
   "source": []
  },
  {
   "cell_type": "markdown",
   "id": "444bbce0",
   "metadata": {},
   "source": [
    "# Second Step\n",
    "\n",
    "### Feature Engineering"
   ]
  },
  {
   "cell_type": "markdown",
   "id": "af39c7fd",
   "metadata": {},
   "source": [
    "\n",
    "<span style=\"font-size:17px;\">Walk me through how you would explore this data and identify opportunities for feature engineering. What types of new features might you extract or derive from the existing data that could help a model better predict loan risk?</span>\n"
   ]
  },
  {
   "cell_type": "code",
   "execution_count": null,
   "id": "ebc07989",
   "metadata": {},
   "outputs": [],
   "source": []
  },
  {
   "cell_type": "code",
   "execution_count": null,
   "id": "0ed7a4b2",
   "metadata": {},
   "outputs": [],
   "source": []
  },
  {
   "cell_type": "markdown",
   "id": "6d0a0fbe",
   "metadata": {},
   "source": [
    "# Third Step\n",
    "\n",
    "### Machine Learning Problem\n",
    "\n",
    "<span style=\"font-size:17px;\">As you already know, we are trying to predict whether a customer is 'bad' or not based on their attributes and past behavior. What type of machine learning problem is this, and how would you approach selecting an appropriate algorithm?</span>\n"
   ]
  },
  {
   "cell_type": "code",
   "execution_count": null,
   "id": "a5e47afa",
   "metadata": {},
   "outputs": [],
   "source": []
  },
  {
   "cell_type": "code",
   "execution_count": null,
   "id": "ca5487aa",
   "metadata": {},
   "outputs": [],
   "source": []
  },
  {
   "cell_type": "markdown",
   "id": "672405a0",
   "metadata": {},
   "source": [
    "# Fourth Step\n",
    "\n",
    "### XGBoost\n",
    "\n",
    "<span style=\"font-size:17px;\">\n",
    "    \n",
    "- First, can you briefly explain your understanding of how XGBoost works and what makes it effective for problems like this?&nbsp;\n",
    "\n",
    "- What are some of the key advantages XGBoost can provide over other common algorithms for this use case?&nbsp;\n",
    "\n",
    "- Our data and business needs may evolve over time. Do you know of any newer or more advanced algorithms that could potentially outperform XGBoost in the future as a better solution for this problem?\n",
    "</span>"
   ]
  },
  {
   "cell_type": "code",
   "execution_count": null,
   "id": "c383a0c6",
   "metadata": {},
   "outputs": [],
   "source": []
  },
  {
   "cell_type": "markdown",
   "id": "1b5dc4ed",
   "metadata": {},
   "source": [
    "# Fifth Step\n",
    "\n",
    "### Alternative Methods\n",
    "\n",
    "<span style=\"font-size:17px;\">As we just discussed, XGBoost has been the dominant gradient boosting algorithm for some time now. However, machine learning is constantly evolving with new innovations.\n",
    "Are you aware of any newer or more recently developed algorithms that could challenge or surpass XGBoost's performance, especially for problems similar to our use case?</span>"
   ]
  },
  {
   "cell_type": "code",
   "execution_count": null,
   "id": "16b2693f",
   "metadata": {},
   "outputs": [],
   "source": []
  },
  {
   "cell_type": "code",
   "execution_count": null,
   "id": "64f6a5d4",
   "metadata": {},
   "outputs": [],
   "source": []
  },
  {
   "cell_type": "markdown",
   "id": "7167dbe1",
   "metadata": {},
   "source": [
    "# Sixth Step\n",
    "\n",
    "### Hyper-Parameter Optimization \n",
    "\n",
    "<span style=\"font-size:17px;\">Hyperparameter tuning is crucial to maximizing XGBoost's performance. Have you used tools like Hyperopt before for tuning XGBoost models? If so, how does it compare to other tuning approaches like random search or grid search with cross-validation? </span>"
   ]
  },
  {
   "cell_type": "code",
   "execution_count": null,
   "id": "268fc930",
   "metadata": {},
   "outputs": [],
   "source": []
  },
  {
   "cell_type": "code",
   "execution_count": null,
   "id": "31a84fa5",
   "metadata": {},
   "outputs": [],
   "source": []
  },
  {
   "cell_type": "markdown",
   "id": "44f1a032",
   "metadata": {},
   "source": [
    "# Seventh Step\n",
    "\n",
    "### Calibration\n",
    "\n",
    "<span style=\"font-size:17px;\">Let's say we've trained our XGBoost model and now want to assess how calibrated its predictions are before deployment. Walk me through some techniques you could use for this.</span>"
   ]
  },
  {
   "cell_type": "markdown",
   "id": "26f0da92",
   "metadata": {},
   "source": [
    "<span style=\"font-size:17px;\">- Platt scaling - show how you would implement it with and without log transforming the raw predictions first.</span>"
   ]
  },
  {
   "cell_type": "markdown",
   "id": "0b7907d9",
   "metadata": {},
   "source": [
    "<span style=\"font-size:17px;\"> - Isotonic regression - code how you would apply this to get calibrated probabilities.</span>"
   ]
  },
  {
   "cell_type": "markdown",
   "id": "fe3520d8",
   "metadata": {},
   "source": [
    "<span style=\"font-size:17px;\">- Histogram binning - write the code to bucket predictions and calibrate.</span>"
   ]
  },
  {
   "cell_type": "markdown",
   "id": "dc6e0b0d",
   "metadata": {},
   "source": [
    "<span style=\"font-size:17px;\">- Platt scaling on binned predictions - show how you'd combine both techniques.</span>"
   ]
  },
  {
   "cell_type": "code",
   "execution_count": null,
   "id": "24cb51b4",
   "metadata": {},
   "outputs": [],
   "source": []
  },
  {
   "cell_type": "code",
   "execution_count": null,
   "id": "a0ce1dcd",
   "metadata": {},
   "outputs": [],
   "source": []
  },
  {
   "cell_type": "markdown",
   "id": "63cbcf35",
   "metadata": {},
   "source": [
    "# Eighth Step\n",
    "\n",
    "### Explain the concept of Nested Cross-Validation\n",
    "\n",
    "<span style=\"font-size:17px;\">Also explain how you would implement nested CV with the following set up:\n",
    "    \n",
    "- 2 folds for the outer CV loop to split the data into train/validation sets&nbsp;\n",
    "\n",
    "- 5 folds for the inner CV loop to tune hyperparameters&nbsp;</span>"
   ]
  },
  {
   "cell_type": "code",
   "execution_count": null,
   "id": "2fc87fa6",
   "metadata": {},
   "outputs": [],
   "source": []
  },
  {
   "cell_type": "code",
   "execution_count": null,
   "id": "63d57e63",
   "metadata": {},
   "outputs": [],
   "source": []
  },
  {
   "cell_type": "markdown",
   "id": "70fb769e",
   "metadata": {},
   "source": [
    "\n",
    "# Last Step\n",
    "\n",
    "### Deep Learning \n",
    "\n",
    "\n",
    "<span style=\"font-size:17px;\">Do you have any experience using deep neural networks for machine learning problems. What types of problems have you applied them to? How did the performance compare to other machine learning algorithms?</span>"
   ]
  },
  {
   "cell_type": "markdown",
   "id": "e3424439",
   "metadata": {},
   "source": [
    "<span style=\"font-size:17px;\">How we could potentially apply deep learning to our problem of predicting high-risk loans. </span>"
   ]
  },
  {
   "cell_type": "code",
   "execution_count": null,
   "id": "e303b941",
   "metadata": {},
   "outputs": [],
   "source": []
  },
  {
   "cell_type": "code",
   "execution_count": null,
   "id": "08e063e4",
   "metadata": {},
   "outputs": [],
   "source": []
  }
 ],
 "metadata": {
  "kernelspec": {
   "display_name": "Python 3 (ipykernel)",
   "language": "python",
   "name": "python3"
  },
  "language_info": {
   "codemirror_mode": {
    "name": "ipython",
    "version": 3
   },
   "file_extension": ".py",
   "mimetype": "text/x-python",
   "name": "python",
   "nbconvert_exporter": "python",
   "pygments_lexer": "ipython3",
   "version": "3.9.15"
  }
 },
 "nbformat": 4,
 "nbformat_minor": 5
}
