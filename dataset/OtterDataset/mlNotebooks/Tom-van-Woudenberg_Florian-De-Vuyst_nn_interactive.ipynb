{
 "cells": [
  {
   "cell_type": "markdown",
   "id": "2b2ff7b6-91a6-4736-9ac3-72d7ac39e0c1",
   "metadata": {},
   "source": [
    "<figure>\n",
    "  <IMG SRC=\"https://raw.githubusercontent.com/fmeer/public-files/main/TUlogo.png\" WIDTH=200 ALIGN=\"right\">\n",
    "</figure>\n",
    "\n",
    "# Feedforward Neural Networks\n",
    "\n",
    "\n",
    "The code on this page can be used interactively: click {fa}`rocket` --> {guilabel}`Live Code` in the top right corner, then wait until the message {guilabel}`Python interaction ready!` appears!"
   ]
  },
  {
   "cell_type": "code",
   "execution_count": null,
   "id": "5e19062f",
   "metadata": {
    "tags": [
     "thebe-remove-input-init"
    ]
   },
   "outputs": [],
   "source": [
    "# pip install packages that are not in Pyodide\n",
    "%pip install ipympl==0.9.3\n",
    "%pip install seaborn==0.12.2"
   ]
  },
  {
   "cell_type": "code",
   "execution_count": null,
   "id": "87cf6bca",
   "metadata": {
    "tags": [
     "disable-download-page",
     "thebe-remove-input-init",
     "auto-execute-page"
    ]
   },
   "outputs": [],
   "source": [
    "# Import the necessary libraries\n",
    "import numpy as np\n",
    "import matplotlib.pyplot as plt\n",
    "from sklearn.neural_network import MLPRegressor\n",
    "from sklearn.preprocessing import StandardScaler\n",
    "from mude_tools import neuralnetplotter, draw_neural_net\n",
    "from cycler import cycler\n",
    "import seaborn as sns\n",
    "\n",
    "%matplotlib widget\n",
    "\n",
    "# Set the color scheme\n",
    "sns.set_theme()\n",
    "colors = [\n",
    "    \"#0076C2\",\n",
    "    \"#EC6842\",\n",
    "    \"#A50034\",\n",
    "    \"#009B77\",\n",
    "    \"#FFB81C\",\n",
    "    \"#E03C31\",\n",
    "    \"#6CC24A\",\n",
    "    \"#EF60A3\",\n",
    "    \"#0C2340\",\n",
    "    \"#00B8C8\",\n",
    "    \"#6F1D77\",\n",
    "]\n",
    "plt.rcParams[\"axes.prop_cycle\"] = cycler(color=colors)"
   ]
  },
  {
   "cell_type": "markdown",
   "id": "73f4d0fd-ec99-4e92-be60-69cceb55cf63",
   "metadata": {
    "editable": true,
    "slideshow": {
     "slide_type": ""
    },
    "tags": [
     "thebe-remove-input-init"
    ]
   },
   "source": [
    "## Introduction\n",
    "\n",
    "<iframe width=\"560\" height=\"315\" src=\"https://www.youtube.com/embed/n6ycKSB66TQ?si=2OJ_vivw9PQHlk7c\" title=\"YouTube video player\" frameborder=\"0\" allow=\"accelerometer; autoplay; clipboard-write; encrypted-media; gyroscope; picture-in-picture; web-share\" allowfullscreen></iframe>\n",
    "\n",
    "Recall that in the previous chapters we have applied linear models with basis functions\n",
    "\n",
    "$$\n",
    "y(x,\\mathbf{w}) = \\sum_{j=0}^M w_j \\phi_j(x) = \\mathbf{w}^T \\boldsymbol{\\phi} (x).\n",
    "$$\n",
    "\n",
    "Here $\\mathbf{w}$ are the flexible parameters, and $\\boldsymbol{\\phi}$ the basis functions.\n",
    "\n",
    "Because a linear model is linear in its parameters $\\mathbf{w}$, we could solve for $\\bar{\\mathbf{w}}$ directly\n",
    "\n",
    "$$\n",
    "\\bar{\\mathbf{w}} = \\left(\\boldsymbol{\\Phi}^T \\boldsymbol{\\Phi} \\right)^{-1} \\boldsymbol{\\Phi}^T \\mathbf{t},\n",
    "$$\n",
    "\n",
    "where $\\mathbf{\\Phi}$ is the collection of basis functions evaluated in all data points. The basis functions need to be chosen *a priori* for this approach. When the phenomenon to be modeled is complex, relying on pre-defined basis functions might not give sufficient accuracy. We can overcome this issue with a more flexible model. Aside from the pragmatic strategy of increasing the number of basis functions, we can also achieve more flexibility by replacing the basis functions with parametric functions. In this chapter we will dive into one variant of this concept, namely **neural networks**. The underlying problem will stay the same: we are trying to learn a process based on a limited number of noisy observations $\\mathcal{D}=\\{\\mathbf{X}, \\mathbf{t}\\}$. Following decision theory, we need to minimize the mean squared error loss function\n",
    "\n",
    "$$\n",
    "E_D =  \\frac{1}{N} \\sum_{n=1}^N \\left(t_n - y(x_n, \\mathbf{w}) \\right)^2\n",
    "$$\n",
    "\n",
    "where $y(x, \\mathbf{w})$ now comes from a neural network.\n"
   ]
  },
  {
   "cell_type": "code",
   "execution_count": null,
   "id": "fc3c6c8a",
   "metadata": {
    "editable": true,
    "slideshow": {
     "slide_type": ""
    },
    "tags": [
     "thebe-remove-input-init"
    ]
   },
   "outputs": [],
   "source": [
    "# The true function relating t to x\n",
    "def f_truth(x, freq=2, **kwargs):\n",
    "    # Return a sine with a frequency of f\n",
    "    return np.sin(x * freq)\n",
    "\n",
    "\n",
    "# The data generation function\n",
    "def f_data(epsilon=0.7, N=100, **kwargs):\n",
    "    # Apply a seed if one is given\n",
    "    if \"seed\" in kwargs:\n",
    "        np.random.seed(kwargs[\"seed\"])\n",
    "\n",
    "    # Get the minimum and maximum\n",
    "    xmin = kwargs.get(\"xmin\", 0)\n",
    "    xmax = kwargs.get(\"xmax\", 2 * np.pi)\n",
    "\n",
    "    # Generate N evenly spaced observation locations\n",
    "    x = np.linspace(xmin, xmax, N)\n",
    "\n",
    "    # Generate N noisy observations (1 at each location)\n",
    "    t = f_truth(x, **kwargs) + np.random.normal(0, epsilon, N)\n",
    "\n",
    "    # Return both the locations and the observations\n",
    "    return x, t"
   ]
  },
  {
   "cell_type": "markdown",
   "id": "9aa5d0f7",
   "metadata": {},
   "source": [
    "## Neural network architecture\n",
    "A neural network consists of neurons connected by weights, with information flowing from input neurons towards output neurons. In **supervised learning**, the states of the input and output neurons are known during training. There are additional neurons in layers in between the inputs and outputs, forming a so-called hidden layer. Neurons are separated into layers, where all neurons of one layer depend on (at least) the neurons of the previous layer.\n",
    "\n",
    "The state of a neuron is determined by a linear combination of states $z$ from the previous layer with their connecting weights $w$\n",
    "\n",
    "$$\n",
    "a^{(l)}_{j} = \\sum_{i}^{D} w_{ji}^{(l)} z_{i}^{(l-1)} + w_{j0}^{(l)}\n",
    "$$\n",
    "\n",
    "where $w_{j0}^{(l)}$ are so-called biases, allowing the model to have an offset. Make sure not to confuse this quantity with the model bias from the *bias-variance* tradeoff discussion. This linear combination of states is followed by a nonlinear transformation with an activation function $h(\\cdot)$:\n",
    "\n",
    "$$\n",
    "z^{(l)}_{j} = h(a^{(l)}_{j}).\n",
    "$$\n",
    "\n",
    "In the plot below, we can see the identity (or linear), sigmoid, hyperbolic tangent (tanh), and rectified linear unit (relu) activation functions applied on an arbitrary state $z$ in the $[-4,4]$ range."
   ]
  },
  {
   "cell_type": "code",
   "execution_count": null,
   "id": "0a65ffd4",
   "metadata": {
    "tags": [
     "remove-cell"
    ]
   },
   "outputs": [],
   "source": [
    "x = np.linspace(-4, 4, 25)\n",
    "\n",
    "# Compute activation functions\n",
    "identity = x\n",
    "sigmoid = [1 / (1 + np.exp(-x)) for x in x]\n",
    "tanh = np.tanh(x)\n",
    "relu = [max(0, x) for x in x]\n",
    "\n",
    "# Plot figure\n",
    "fig, ax = plt.subplots(figsize=(8, 4.5))\n",
    "fig.canvas.toolbar_visible = False\n",
    "ax.set_position([0.2, 0.1, 0.7, 0.8])\n",
    "plt.plot(x, identity, \"-v\", label=\"Identity (linear)\")\n",
    "plt.plot(x, sigmoid, \"-|\", label=\"Sigmoid\")\n",
    "plt.plot(x, tanh, \"-o\", label=\"Tanh\")\n",
    "plt.plot(x, relu, \"-x\", label=\"ReLU\")\n",
    "plt.xlim(-4, 4)\n",
    "plt.ylim(-2, 2)\n",
    "plt.xlabel(\"$a$\")\n",
    "plt.ylabel(\"$z$\")\n",
    "#plt.title(\"Activation functions\")\n",
    "plt.legend()\n",
    "plt.show()"
   ]
  },
  {
   "cell_type": "markdown",
   "id": "8e2c92e9",
   "metadata": {},
   "source": [
    "```{figure} ./figs/fig18.png\n",
    "Activation functions\n",
    "```"
   ]
  },
  {
   "cell_type": "markdown",
   "id": "bc3c3bed",
   "metadata": {},
   "source": [
    "The number of layers in a neural network commonly refers to the number of hidden layers. Following the aforementioned setup of compounding linear transformations with nonlinear activations, the output of a two-layer neural network can be written as:\n",
    "\n",
    "$$\n",
    "y(x, \\mathbf{w}) = h^{(out)} \\left( \\sum_{k=1}^{K} w_{k}^{(3)} h^{(2)} \\bigg( \\sum_{j=1}^{J} w_{kj}^{(2)} h^{(1)} \\Big( \\sum_{i=1}^{I} w_{ji}^{(2)} x_i + w_{j0}^{(1)} \\Big) + w_{k0}^{(2)} \\bigg) + w_{0}^{(3)} \\right)\n",
    "$$\n",
    "\n",
    "Since the activation function can be nonlinear and quantities proportional to the weights pass through them, the model is evidently no longer necessarily linear w.r.t. the weights and, in general, no closed-form Maximum Likelihood solution can be found. Compare this with the linear basis function models from before. Instead of seeking an analytical solution that no longer exists, some sort of gradient-based optimization scheme, as discussed in the previous chapter in the form of SGD, is required calibrate the weights.\n",
    "\n",
    "When your dataset contains multiple inputs or outputs, this model can easily be extended by including multiple neurons in the input or output layer, and the other procedures stay the same. Generally, the activation function of the outputs $h^{(out)}$ is linear and the activations in hidden layers are of a nonlinear type."
   ]
  },
  {
   "cell_type": "code",
   "execution_count": null,
   "id": "0358be43-981b-43e6-8587-7f7121a6bbc6",
   "metadata": {
    "tags": [
     "remove-cell"
    ]
   },
   "outputs": [],
   "source": [
    "fig, ax = plt.subplots(1, 2, figsize=(8, 3))\n",
    "fig.canvas.toolbar_visible = False\n",
    "draw_neural_net(ax[0], 0.1, 0.9, 0.1, 0.9, [1, 5, 1])\n",
    "draw_neural_net(ax[1], 0.1, 0.9, 0.1, 0.9, [2, 5, 3])\n",
    "ax[0].set_title(\"1 input, 5 hidden nodes, 1 output\")\n",
    "ax[1].set_title(\"2 inputs, 5 hidden nodes, 3 outputs\")\n",
    "[axs.axis(\"off\") for axs in ax]\n",
    "plt.show()"
   ]
  },
  {
   "cell_type": "markdown",
   "id": "7c6a7e88",
   "metadata": {},
   "source": [
    "```{figure} ./figs/fig19.png\n",
    "Two neural networks\n",
    "```"
   ]
  },
  {
   "cell_type": "markdown",
   "id": "9f7aec86-a550-4c2b-8e0d-86010fc8f2b7",
   "metadata": {},
   "source": [
    "````{admonition} Coding neural nets\n",
    "Feedforward neural networks are often also called **Multilayer Perceptrons (MLP)** in machine learning software packages. This is also the case for [`scikit-learn`](https://scikit-learn.org/stable/), the package you will be using during the workshop this week. In that package, a neural network model for regression can be instantiated by using the [`MLPRegressor`](https://scikit-learn.org/stable/modules/generated/sklearn.neural_network.MLPRegressor.html#sklearn.neural_network.MLPRegressor) class.\n",
    "\n",
    "Refer to the documentation of `scikit-learn` to see which arguments you can pass when creating a new `MLPRegressor`. These include the number of layers in the network, the number of units in each layer, the type of activation function, etc.\n",
    "````"
   ]
  },
  {
   "cell_type": "markdown",
   "id": "925b70dd",
   "metadata": {},
   "source": [
    "## Model flexibility\n",
    "\n",
    "The flexibility of a feedforward neutral network can be adapted by varying the number of neurons per hidden layer, or by adding more hidden layers. Both options lead to an increase in the number of parameters $\\mathbf{w}$. When a neural network has too few parameters, it generally puts us at risk of underfitting the data, whereas having too many parameters can quickly lead to overfitting. Since they control model complexity, the number of layers and neurons per layer are therefore hyperparameters, which need to be calibrated. Once again, remember that **hyperparameters are calibrated with validation data**. Simply minimizing training error w.r.t. these hyperparameters will always lead to huge and severely overfit models, especially when we do not have a lot of data available.\n",
    "\n",
    "````{admonition} Coding neural nets\n",
    "It is usual to perform a so-called *grid search* when performing model selection for models with more than one hyper-parameter. The strategy is to train a separate model for **each combination** of hyperparameters and pick the one with the lowest value for validation loss. Conceptually, code for this could look something like:\n",
    "\n",
    "```python\n",
    "hp1vals = [val1, val2, ...]\n",
    "hp2vals = [val1, val2, ...]\n",
    "val_losses = np.zeros(len(hp1vals),len(hp2vals))\n",
    "\n",
    "for i, hp1 in enumerate(hp1vals):\n",
    "    for j, hp2 in enumerate(hp2vals):\n",
    "        # build the model\n",
    "        model = Model(hp1,hp2)\n",
    "\n",
    "        # train the model\n",
    "        lowest_val_loss = train_model(model, X_train, t_train, X_val, n_epochs)\n",
    "\n",
    "        # store loss\n",
    "        val_losses[i,j] = lowest_val_loss\n",
    "\n",
    "# pick model with lowest entry in val_losses\n",
    "```\n",
    "\n",
    "````\n",
    "\n",
    "In the following interactive plot you can study the influence of the number of neurons per layer on model prediciton. The number of hidden layers is fixed at two. You have to click the re-run button to retrain the model after varying the parameter. **Be aware that the required computations can take a few moments to run.** Hide the table of contents to see the full image."
   ]
  },
  {
   "cell_type": "code",
   "execution_count": null,
   "id": "fb8137de",
   "metadata": {
    "tags": [
     "thebe-remove-input-init"
    ]
   },
   "outputs": [],
   "source": [
    "# Define the prediction locations\n",
    "# (note that these are different from the locations where we observed our data)\n",
    "x_pred = np.linspace(-1, 2 * np.pi + 1, 200)\n",
    "\n",
    "xscaler = StandardScaler()\n",
    "xscaler.fit(f_data()[0][:, None])\n",
    "\n",
    "\n",
    "# Function that creates a NN\n",
    "def NN_create(**kwargs):\n",
    "    return MLPRegressor(\n",
    "        solver=\"sgd\",\n",
    "        hidden_layer_sizes=(kwargs[\"neurons\"], kwargs[\"neurons\"]),\n",
    "        activation=kwargs[\"activation\"],\n",
    "        batch_size=kwargs[\"batch_size\"],\n",
    "    )\n",
    "\n",
    "\n",
    "# Function that trains a given NN for a given number of epochs\n",
    "def NN_train(x, t, network, epochs_per_block):\n",
    "    # Convert the training data to a column vector and normalize it\n",
    "    X = x.reshape(-1, 1)\n",
    "    X = xscaler.transform(X)\n",
    "\n",
    "    # Run a number of epochs\n",
    "    for i in range(epochs_per_block):\n",
    "        network.partial_fit(X, t)\n",
    "\n",
    "    return network, network.loss_curve_\n",
    "\n",
    "\n",
    "# Function that returns predictions from a given NN model\n",
    "def NN_pred(x_pred, network):\n",
    "    # Convert the prediction data to a column vector and normalize it\n",
    "    X_pred = x_pred.reshape(-1, 1)\n",
    "    X_pred = xscaler.transform(X_pred)\n",
    "\n",
    "    # Make a prediction at the locations given by x_pred\n",
    "    return network.predict(X_pred)\n"
   ]
  },
  {
   "cell_type": "code",
   "execution_count": null,
   "id": "21c8265d",
   "metadata": {
    "tags": [
     "full-width",
     "thebe-remove-input-init"
    ]
   },
   "outputs": [],
   "source": [
    "# Pass everything to the neuralnetplotter\n",
    "plot1 = neuralnetplotter(\n",
    "    f_data,\n",
    "    f_truth,\n",
    "    NN_create,\n",
    "    NN_train,\n",
    "    NN_pred,\n",
    "    x_pred,\n",
    "    N=100,\n",
    "    val_pct=60,\n",
    "    epochs=20000,\n",
    ")\n",
    "plot1.fig.canvas.toolbar_visible = False\n",
    "plot1.add_sliders(\"neurons\", valmax=20, valinit=3)\n",
    "plot1.add_buttons(\"truth\", \"seed\", \"reset\", \"rerun\")"
   ]
  },
  {
   "cell_type": "markdown",
   "id": "11764482",
   "metadata": {
    "editable": true,
    "slideshow": {
     "slide_type": ""
    },
    "tags": [
     "thebe-remove-input-init"
    ]
   },
   "source": [
    "As you might have noticed, using the default setting of three neurons per layer was not enough for the network to learn the underlying trend in the data. Which number of neurons per layer gave you a visibly good fit? Did you ever spot overfitting?\n",
    "\n",
    "Pay close attention to what we show on the right-hand plot during training:\n",
    "\n",
    "<!--\n",
    "NOTE: the formulas below look bad in the downloaded book, but nice in the online version. \n",
    "Turn the dollar signs in the final column into double dollar signs to make the formulas look good in the downloaded version\n",
    " -->\n",
    "| Line color | Quantity | Expression |\n",
    "| :-- | :-- | :-- |\n",
    "| Blue | Training set loss ($40\\%$ of $N$) | $E_D=\\frac{1}{N_\\mathrm{train}}\\sum_{n=1}^{N_\\mathrm{train}} \\left(t_n - y(x_n, \\mathbf{w}) \\right)^2$ |\n",
    "| Purple | Validation set loss ($60\\%$ of $N$) | $E_D=\\frac{1}{N_\\mathrm{val}}\\sum_{n=1}^{N_\\mathrm{val}} \\left(t_n - y(x_n, \\mathbf{w}) \\right)^2$ |\n",
    "| Black | Expected loss (numerical integration) | $\\mathbb{E}[L]=\\int\\int\\left(t-y(x,\\mathbf{w})\\right)^2p(x,t)dxdt$ |\n",
    "\n",
    "The black line is a very precise version of our error, but one that requires a lot of data to obtain. Since analytical integration is not possible due to the complex nature of $t$ and $y(x,\\mathbf{w})$, we are forced to compute it through numerical integration, in this case by using $1500$ equally-spaced predictions in the range $[0,2\\pi]$. Although interesting to include here for educational purposes, it is obvious that **we will not have access to this measure in practice**. \n",
    "\n",
    "What we have instead is the validation loss (purple line) computed as a relatively crude Monte Carlo approximation of the expected loss, since we are only using a very small number of data points to compute it. In practice, we need to rely on this approximation to make model selection decisions!\n",
    "\n",
    "````{admonition} Coding neural nets\n",
    "As with any other model this week, we need to perform a training-validation-test split to our original dataset in order to arrive at a robust machine learning estimator for $y(x)$. A simple (incomplete) implementation of this procedure could look like:\n",
    "\n",
    "```python\n",
    "import numpy as np\n",
    "\n",
    "# fix the seed of the RNG, for reproducibility\n",
    "np.random.seed(42)\n",
    "\n",
    "# get an index array with randomized order\n",
    "perm = np.random.permutation(N)\n",
    "\n",
    "# compute the number of samples for training/validation/test\n",
    "n_train = ?\n",
    "n_val = ?\n",
    "n_test = ?\n",
    "\n",
    "# slice the permutation vector from before\n",
    "idcs_train = perm[0:ntrain]\n",
    "idcs_val = perm[?:?]\n",
    "idcs_test = perm[?:?]\n",
    "\n",
    "# use the indices to slice X and t\n",
    "X_train = X[idcs_train]\n",
    "t_train = t[idcs_train]\n",
    "# ...\n",
    "```\n",
    "````\n",
    "\n",
    "## Early stopping\n",
    "\n",
    "Choosing a high number of neurons increases the number of parameters and, therefore, slows down training. In addition, it can make the model too flexible and prone to overfitting. It is therefore good practive to always monitor the predictive capability of a NN on a validation set. First, run the model below, then, select the model you think best fits the data by pulling the corresponding slider. At which epoch do you find the best model?"
   ]
  },
  {
   "cell_type": "code",
   "execution_count": null,
   "id": "0de98308",
   "metadata": {
    "tags": [
     "full-width",
     "thebe-remove-input-init"
    ]
   },
   "outputs": [],
   "source": [
    "plot2 = neuralnetplotter(\n",
    "    f_data,\n",
    "    f_truth,\n",
    "    NN_create,\n",
    "    NN_train,\n",
    "    NN_pred,\n",
    "    x_pred,\n",
    "    neurons=20,\n",
    "    epochs=12000,\n",
    "    N=40,\n",
    "    val_pct=60,\n",
    "    batch_size=2,\n",
    ")\n",
    "plot2.fig.canvas.toolbar_visible = False\n",
    "plot2.seed = 4\n",
    "plot2.add_sliders(\"cur_model\")\n",
    "plot2.add_buttons(\"truth\", \"seed\", \"reset\", \"rerun\")\n",
    "plot2.show()"
   ]
  },
  {
   "cell_type": "markdown",
   "id": "9008b730",
   "metadata": {},
   "source": [
    "The example above is a good illustration of overfitting. Note how the training loss almost immediately becomes an unreliable estimate of the true expected loss (black line). In contrast, the validation loss (purple line) does not exactly agree with the black line but consistently follows the same trends. Crucially, **the validation loss correctly points to the model with the lowest true loss**, at around $3000$ training epochs. Move the model selection slider there and try to see why the true loss starts to increase from that point on. \n",
    "\n",
    "It is possible to train a neural network for a long time, and then select the $\\mathbf{w}$ that corresponds to the lowest validation error. An alternative, known as early stopping, uses the indication that the validation loss increases for a number of epochs as a stopping sign to halt training.\n",
    "\n",
    "````{admonition} Coding neural nets\n",
    "To make early stopping work, we need to continuously monitor the validation loss, either every time the model is updated or at least once every epoch. Together with the fact that we train with **mini-batches** of our dataset (as explained in the video), this means we need to code a training loop that implements our SGD routine. \n",
    "\n",
    "In `scikit-learn` we could call the `fit` function to fully train a network. However, in order to properly implement early stopping, keep track of our validation loss and see which mini-batches are being picked, we could code our own training loop. To accommodate for this, the `MLPRegressor` model offers the `partial_fit` function, that retrains the network only once for a given pair of `X_batch` and `t_batch`. Then one possible (incomplete) implementation could look like:\n",
    "\n",
    "```python\n",
    "def train_model(model, X_train, t_train, X_val, n_epochs):\n",
    "    for epoch in range(n_epochs):\n",
    "        # slice the dataset into mini-batches\n",
    "        batches = slice_dataset(X_train,t_train)\n",
    "\n",
    "        for X_batch, t_batch in batches:\n",
    "            # update network weights\n",
    "            model.partial_fit(X_batch, t_batch)\n",
    "\n",
    "        # compute the relevant losses\n",
    "        train_y = model.predict(X_train)\n",
    "        val_y   = model.predict(X_val)\n",
    "\n",
    "        train_loss = loss_function(train_t,train_y)\n",
    "        val_loss = loss_function(val_t,val_y)\n",
    "\n",
    "        # append losses to the relevant lists\n",
    "        t_losses.append(train_loss)\n",
    "        v_losses.append(val_loss)\n",
    "    return t_losse, v_losses\n",
    "```\n",
    "\n",
    "where care should be of course taken to properly normalize the datasets. The losses can then be plotted, the model with the best validation loss can be picked, etc.\n",
    "````\n",
    "\n",
    "## Manual model selection\n",
    "\n",
    "In [](./linear_models_interactive.ipynb) we used L<sub>2</sub>-regularization to control the model complexity. The application of this technique to neural networks is straightforward, and will therefore not be demonstrated here. Instead, we will focus on the impact of the number of trainable parameters and the number of samples on overfitting. The ability to display our models at different stages of the training phase will help us to find and inspect particularily good or bad models."
   ]
  },
  {
   "cell_type": "code",
   "execution_count": null,
   "id": "5254be84",
   "metadata": {
    "tags": [
     "full-width",
     "thebe-remove-input-init"
    ]
   },
   "outputs": [],
   "source": [
    "plot3 = neuralnetplotter(\n",
    "    f_data, f_truth, NN_create, NN_train, NN_pred, x_pred, nnlinewidth=0.25\n",
    ")\n",
    "plot3.fig.canvas.toolbar_visible = False\n",
    "plot3.add_sliders(\"freq\", \"neurons\", \"N\", \"cur_model\", \"val_pct\")\n",
    "plot3.add_buttons(\"truth\", \"seed\", \"reset\", \"rerun\")\n",
    "plot3.add_radiobuttons(\"activation\")\n",
    "plot3.show()"
   ]
  },
  {
   "cell_type": "markdown",
   "id": "1eebac5a",
   "metadata": {},
   "source": [
    "Train a number of different neural networks with varying hyperparameter settings, and try to understand the influence of all the the parameters on the resulting model. Try to answer the following questions:\n",
    "\n",
    "* Is the model with the lowest validation error always the one that gives the best fit visually?\n",
    "\n",
    "````{admonition} Answer\n",
    ":class: dropdown\n",
    "There is more to this question than meets the eye. Remember in practice we do not know what the ground truth is. Also remember that the validation set is sometimes just a crude approximation of the true loss. For specific settings of the sliders above, it will sometimes look like models with higher validation error are actually visually better when looking at the ground truth.\n",
    "````\n",
    "\n",
    "* Try out a model with linear (*identity*) activation function. Can you make sense of what you observe?\n",
    "\n",
    "````{admonition} Answer\n",
    ":class: dropdown\n",
    "Recall the expression for the predictions of a neural network. Setting the activation function to linear will make the model collapse back into linear regression! Remember that even though we have a lot of weights here, they just get multiplied with each other and lead to equivalent weights for a very simple linear model.\n",
    "````\n",
    "\n",
    "* We plot our activation functions next to their selector buttons. How does the shape of your trained model correlate with the shape of your activation function?\n",
    "\n",
    "````{admonition} Answer\n",
    ":class: dropdown\n",
    "How each activation function handles nonlinearities clearly affects our final model. Note how the *ReLU* function (bilinear) leads to a piecewise linear model in the end.\n",
    "````\n",
    "\n",
    "* In practical situations it is often difficult to visualize model predictions for the whole domain. Can you detect when a model is underfit based only on the training and validation loss?\n",
    "\n",
    "````{admonition} Answer\n",
    ":class: dropdown\n",
    "This can be quite tricky in practice. A somewhat reliable sign would be to look at how the training and validation losses change with training epochs. If there is basically no change after a small number of epochs, it might pay off to try a more flexible model and see what happens. Of course, when doing this you should always keep an eye out for overfitting.\n",
    "````\n",
    "\n",
    "* For a well-trained flexible model with a large training size (N) the errors usually converge to a specific value. What is this value and why does this happen? Can we ever get rid of it?\n",
    "\n",
    "````{admonition} Answer\n",
    ":class: dropdown\n",
    "Remember the discussion on bias/variance decomposition from before. We can decompose our loss into three parts: squared bias, variance and irreducible noise. The irreducible part of the loss will therefore always be there even if we can achieve the idealized model $h(x)=\\mathbb{E}[t\\vert x]$ (by having enough flexibility and a lot of data to train the model with). Unless we find a way to explain this irreducible observation noise (e.g. by observing another variable of interest), we can never get rid of it.\n",
    "````\n",
    "\n",
    "* How well does the model predict **outside of the training range**?\n",
    "\n",
    "````{admonition} Answer\n",
    ":class: dropdown\n",
    "Once again, machine learning models with purely data-driven bias/variance should be used in extrapolation with extreme care. Here we see how complex models give senseless predictions outside of their training range. More advanced deep learning models can somehow break this curse and perform well in extrapolation, under specific choices of architecture, datasets and training procedures. Look online for \"zero-shot learning\" if you are curious about this.\n",
    "````"
   ]
  },
  {
   "cell_type": "markdown",
   "id": "b4829586",
   "metadata": {},
   "source": [
    "## Wrap-up\n",
    "\n",
    "In these videos you have seen a non-parametric model, namely k-nearest neighbours, and have learned about the bias-variance trade-off. Linear regression was shown as a parametric model that is linear in its parameters and has a closed form solution. Ridge regression has been introduced to prevent overfitting. Stochastic gradient descent has been shown as a way to train a model in an iterative fashion. In this final chapter, we explored a model with a nonlinear dependence on its parameters. You now understand the underlying principles of a broad set machine learning techniques, and know how to distinguish naive curve fitting from extracting (or learning) the relevant trends and patterns in data."
   ]
  }
 ],
 "metadata": {
  "kernelspec": {
   "display_name": "Python 3 (ipykernel)",
   "language": "python",
   "name": "python3"
  },
  "language_info": {
   "codemirror_mode": {
    "name": "ipython",
    "version": 3
   },
   "file_extension": ".py",
   "mimetype": "text/x-python",
   "name": "python",
   "nbconvert_exporter": "python",
   "pygments_lexer": "ipython3",
   "version": "3.9.18"
  }
 },
 "nbformat": 4,
 "nbformat_minor": 5
}
