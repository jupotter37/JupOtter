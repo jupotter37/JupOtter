{
  "nbformat": 4,
  "nbformat_minor": 0,
  "metadata": {
    "colab": {
      "provenance": [],
      "authorship_tag": "ABX9TyMD0GCHD8dALPC6vXrCgbxz",
      "include_colab_link": true
    },
    "kernelspec": {
      "name": "python3",
      "display_name": "Python 3"
    },
    "language_info": {
      "name": "python"
    }
  },
  "cells": [
    {
      "cell_type": "markdown",
      "metadata": {
        "id": "view-in-github",
        "colab_type": "text"
      },
      "source": [
        "<a href=\"https://colab.research.google.com/github/UrvashiiThakur/practiceGit/blob/main/15mar.ipynb\" target=\"_parent\"><img src=\"https://colab.research.google.com/assets/colab-badge.svg\" alt=\"Open In Colab\"/></a>"
      ]
    },
    {
      "cell_type": "markdown",
      "source": [
        "Q1. Explain the following with an example:\n",
        "\n",
        "A) Artificial Intelligence (AI)\n",
        "\n",
        "Definition: Artificial Intelligence is the simulation of human intelligence processes by machines, especially computer systems. These processes include learning (the acquisition of information and rules for using the information), reasoning (using rules to reach approximate or definite conclusions), and self-correction.\n",
        "Example: A chatbot that can engage in conversations with humans, answer questions, and perform tasks like booking flights or ordering food.\n",
        "\n",
        "B) Machine Learning (ML)\n",
        "\n",
        "Definition: Machine Learning is a subset of AI that involves the use of algorithms and statistical models to enable computers to learn and make decisions without being explicitly programmed. It focuses on developing computer programs that can access data and use it to learn for themselves.\n",
        "Example: An email filtering system that learns to classify emails as spam or not spam based on past examples.\n",
        "\n",
        "C) Deep Learning (DL)\n",
        "\n",
        "Definition: Deep Learning is a subset of machine learning that uses neural networks with many layers (hence \"deep\") to model complex patterns in data. It is particularly effective in tasks such as image and speech recognition.\n",
        "Example: A convolutional neural network (CNN) used to identify objects in images with high accuracy"
      ],
      "metadata": {
        "id": "oGnkpW0kXpWo"
      }
    },
    {
      "cell_type": "markdown",
      "source": [
        "Q2. What is supervised learning? List some examples of supervised learning.\n",
        "\n",
        "Definition: Supervised learning is a type of machine learning where the model is trained on a labeled dataset, meaning that each training example is paired with an output label. The goal is for the model to learn to map inputs to the correct output.\n",
        "\n",
        "Examples:\n",
        "\n",
        "Classification: Predicting whether an email is spam or not spam.\n",
        "\n",
        "Regression: Predicting house prices based on features like size, location, and number of bedrooms.\n",
        "\n",
        "Image Classification: Classifying images of handwritten digits as 0-9.\n",
        "\n",
        "Speech Recognition: Transcribing spoken words into text"
      ],
      "metadata": {
        "id": "ImWrgrluXw1n"
      }
    },
    {
      "cell_type": "markdown",
      "source": [
        "Q3. What is unsupervised learning? List some examples of unsupervised learning.\n",
        "\n",
        "Definition: Unsupervised learning is a type of machine learning where the model is trained on data that does not have labeled responses. The goal is to identify patterns or structures in the data.\n",
        "\n",
        "Examples:\n",
        "\n",
        "Clustering: Grouping customers into segments based on purchasing behavior.\n",
        "Dimensionality Reduction: Reducing the number of variables in a dataset while preserving important information, such as using Principal Component Analysis (PCA).\n",
        "Anomaly Detection: Identifying unusual data points that do not fit the general pattern of the data."
      ],
      "metadata": {
        "id": "pgm8XNl6X_Ao"
      }
    },
    {
      "cell_type": "markdown",
      "source": [
        "Q4. What is the difference between AI, ML, DL, and DS?\n",
        "Artificial Intelligence (AI):\n",
        "\n",
        "Broad field encompassing any simulation of human intelligence by machines.\n",
        "Machine Learning (ML):\n",
        "\n",
        "Subset of AI focused on algorithms and statistical models that allow computers to learn from data.\n",
        "Deep Learning (DL):\n",
        "\n",
        "Subset of ML that uses neural networks with many layers to analyze various factors of data.\n",
        "Data Science (DS):\n",
        "\n",
        "Interdisciplinary field focused on extracting knowledge and insights from structured and unstructured data using techniques from statistics, ML, and data analysis"
      ],
      "metadata": {
        "id": "KwmjLGosYOaP"
      }
    },
    {
      "cell_type": "markdown",
      "source": [
        "Q5. What are the main differences between supervised, unsupervised, and semi-supervised learning?\n",
        "\n",
        "Supervised Learning:\n",
        "\n",
        "Uses labeled data.\n",
        "Examples include classification and regression tasks.\n",
        "Unsupervised Learning:\n",
        "\n",
        "Uses unlabeled data.\n",
        "Examples include clustering and dimensionality reduction.\n",
        "Semi-supervised Learning:\n",
        "\n",
        "Uses a mix of labeled and unlabeled data.\n",
        "Often used when acquiring labeled data is expensive or time-consuming"
      ],
      "metadata": {
        "id": "IEfN_VjDZN__"
      }
    },
    {
      "cell_type": "markdown",
      "source": [
        "Q6. What is train, test, and validation split? Explain the importance of each term.\n",
        "Train Set:\n",
        "\n",
        "The portion of the data used to train the model.\n",
        "Validation Set:\n",
        "\n",
        "Used to tune model parameters and select the best model.\n",
        "Helps in preventing overfitting.\n",
        "Test Set:\n",
        "\n",
        "Used to evaluate the performance of the final model.\n",
        "Provides an unbiased evaluation of the model's performance.\n",
        "Importance:\n",
        "\n",
        "Train Set: For learning the model parameters.\n",
        "Validation Set: For model selection and hyperparameter tuning.\n",
        "Test Set: For assessing the generalization ability of the model"
      ],
      "metadata": {
        "id": "1cV-R_j3ZSco"
      }
    },
    {
      "cell_type": "markdown",
      "source": [
        "Q7. How can unsupervised learning be used in anomaly detection?\n",
        "\n",
        "\n",
        "Unsupervised learning can be used to identify patterns in data without pre-existing labels. In anomaly detection, models can be trained to recognize the normal behavior of a system. Any data point that significantly deviates from this normal pattern can be flagged as an anomaly.\n",
        "\n",
        "Examples:\n",
        "\n",
        "Clustering: Using clustering algorithms like K-means to detect outliers as data points that do not fit well into any cluster.\n",
        "Autoencoders: Neural networks trained to compress and decompress data. Anomalies are identified when the reconstruction error is significantly higher than normal"
      ],
      "metadata": {
        "id": "UASbCGR-Za00"
      }
    },
    {
      "cell_type": "markdown",
      "source": [
        "Q8. List down some commonly used supervised learning algorithms and unsupervised learning algorithms.\n",
        "\n",
        "Supervised Learning Algorithms:\n",
        "\n",
        "Linear Regression: Used for regression tasks.\n",
        "Logistic Regression: Used for binary classification tasks.\n",
        "Decision Trees: Used for both regression and classification tasks.\n",
        "Support Vector Machines (SVM): Used for classification tasks.\n",
        "Random Forests: An ensemble method used for both classification and regression.\n",
        "Gradient Boosting Machines (GBM): An ensemble method for both classification and regression.\n",
        "Neural Networks: Used for a variety of tasks including classification and regression.\n",
        "Unsupervised Learning Algorithms:\n",
        "\n",
        "K-means Clustering: Used for clustering tasks.\n",
        "Hierarchical Clustering: Used for clustering tasks.\n",
        "Principal Component Analysis (PCA): Used for dimensionality reduction.\n",
        "Independent Component Analysis (ICA): Used for separating a multivariate signal into additive, independent components.\n",
        "t-Distributed Stochastic Neighbor Embedding (t-SNE): Used for visualization and dimensionality reduction.\n",
        "Autoencoders: Neural networks used for anomaly detection and dimensionality reduction."
      ],
      "metadata": {
        "id": "921-fvhxZnhj"
      }
    }
  ]
}