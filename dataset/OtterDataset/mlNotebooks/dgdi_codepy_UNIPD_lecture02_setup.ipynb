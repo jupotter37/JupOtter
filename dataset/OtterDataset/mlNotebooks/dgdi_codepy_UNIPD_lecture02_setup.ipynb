{
 "cells": [
  {
   "cell_type": "markdown",
   "metadata": {
    "slideshow": {
     "slide_type": "slide"
    }
   },
   "source": [
    "<a target=\"_blank\" href=\"https://colab.research.google.com/github/dgdi/codepy_UNIPD/blob/main/notebooks/lecture02_setup.ipynb\">\n",
    "  <img src=\"https://colab.research.google.com/assets/colab-badge.svg\" alt=\"Open In Colab\"/>\n",
    "</a>"
   ]
  },
  {
   "cell_type": "markdown",
   "metadata": {
    "slideshow": {
     "slide_type": "slide"
    }
   },
   "source": [
    "# Lecture 2: Setup \n",
    "\n",
    "#### Coding: Introduction to Python - Applied Economics\n",
    "#### Laboratory: Coding - Accounting, Finance and Business Consulting"
   ]
  },
  {
   "cell_type": "markdown",
   "metadata": {
    "slideshow": {
     "slide_type": "slide"
    }
   },
   "source": [
    "### The Tools of Data Analysis in Python\n",
    "\n",
    "We will start presenting the coding tools we will use in the course and how to set them up\n",
    "\n",
    "* Main tools: Python, Jupyter Notebook\n",
    "* Auxiliary tools: Anaconda, Colab, VLEM\n",
    "\n",
    " - Focus on the role of each tool\n",
    " - Learn syntax to perform basic actions \n"
   ]
  },
  {
   "cell_type": "markdown",
   "metadata": {
    "slideshow": {
     "slide_type": "slide"
    }
   },
   "source": [
    "### Python\n",
    "**Python** is a general-purpose programming language. Created in 80s by Guido van Rossum, it is now one of the most popular languages in the world.\n",
    "\n",
    "- Not the fastest but easy to use and very versatile  \n",
    "    - Can be used for web development, videogames, edit videos/music, create Large Language Models (LLM) such as Chat GPT, manage networks, etc.  \n",
    "    - Used and supported extensively by Internet services and high-tech companies: Google, Netflix, Meta, Amazon, Reddit  \n"
   ]
  },
  {
   "cell_type": "markdown",
   "metadata": {
    "slideshow": {
     "slide_type": "slide"
    }
   },
   "source": [
    "### Python\n",
    "- Python versatility and huge community led to the development of endless extensions  \n",
    "    - Crucial role in today's data analyis landscape thanks to many data analysis tools (to make it easy to write/debug/share of analysis) and libraries (to clean/analyze/visualize data)    \n",
    "- Python developers are in huge demand in the job market  \n",
    "    - Knowing python can improve your efficiency and efficacy in any job that involve a computer   \n",
    "    - Most of the Deep Learning and LLM tools that revolutionized the data analysis environment in later years are developed in Python "
   ]
  },
  {
   "cell_type": "markdown",
   "metadata": {
    "slideshow": {
     "slide_type": "slide"
    }
   },
   "source": [
    "### Python popularity\n",
    "\n",
    "![python popularity](img/pypop.png)\n",
    "\n",
    "Image based on tutorial searches on Google (more info [here](https://pypl.github.io/PYPL.html))\n",
    "\n",
    "See [here](https://youtu.be/cKzP61Gjf00) for a video on the evolution of popularity of programming languages (based on Stackoverflow, more on that later)\n",
    "\n"
   ]
  },
  {
   "cell_type": "markdown",
   "metadata": {
    "slideshow": {
     "slide_type": "slide"
    }
   },
   "source": [
    "### Tools for Data Analysis - Python\n",
    "\n",
    "**Python:** Provides a command-line Python interpreter \n",
    "   - Takes your code and translates it to the processor so that can be executed\n",
    "   - Its usual inputs are scripts that perform a set of pre-defined actions\n",
    "   - Not well suited to perform data anlysis that involves continuous exploration\n",
    "       - Read the data, analyze it to understand some aspect, visualize the result, perform sub-analysis on the result or on the riginal data based on what has been leart from the results and so on"
   ]
  },
  {
   "cell_type": "markdown",
   "metadata": {
    "slideshow": {
     "slide_type": "slide"
    }
   },
   "source": [
    "### Tools for Data Analysis - Jupiter\n",
    "\n",
    "**[IPython/Jupyter Notebooks](https://jupyter.org/):** Extend the Python interpreter making it more usable for scientific computing\n",
    "\n",
    "   - Provides and interactive command-line terminal for Python\n",
    "   - Allows read-eval-print loop (REPL) to ease the interact with the data \n",
    "   - In 2015, the IPython became Jupyter Notebook that provides a browser-based control panel \n",
    "   - While Jupyter notebooks are run in a browser, they connect to a computational engine (the kernel) \n",
    "       - can be used not only with Python but also with R, Julia, SageMath\n",
    "   - Offers a more convenient text editor, include formatted text, static and dynamic visualizations, mathematical equations, JavaScript widgets, and much more. \n",
    "   - Eases data analysis reproducibility by facilitating other people to execute the code on their own systems\n",
    "   - This presentation and the course materials are Jupyter notebooks"
   ]
  },
  {
   "cell_type": "markdown",
   "metadata": {
    "slideshow": {
     "slide_type": "slide"
    }
   },
   "source": [
    "### Tools for Data Analysis - IDEs\n",
    "\n",
    "**IDEs** (Integrated Development Environment): are applications making programming easier by combining a suite of tools to develop code: code highlighting, support for writing (AI-completion), rendering, debugging, etc.\n",
    "   - We will have a look at [Microsoft Visual Studio code (VS code)](https://code.visualstudio.com/) because it is integrated with [Copilot](https://adoption.microsoft.com/en-us/copilot/), an AI-tool to write code\n",
    "   "
   ]
  },
  {
   "cell_type": "markdown",
   "metadata": {
    "slideshow": {
     "slide_type": "slide"
    }
   },
   "source": [
    "### Using AI in this course \n",
    "\n",
    "I expect you to use AI (e.g., ChatGPT, Bing, Copilot)\n",
    "\n",
    "Learning to use AI is an emerging skill that can greatly improve your learning and your outputs\n",
    "\n",
    "While you are invited to use AI as a learning aid, be mindful or not rely on it mindlessly: ***during the exam you will not have access to it***"
   ]
  },
  {
   "cell_type": "markdown",
   "metadata": {
    "slideshow": {
     "slide_type": "slide"
    }
   },
   "source": [
    "### Using AI in this course \n",
    "\n",
    "Also, always be aware of the limits of AI: \n",
    "\n",
    "* If you provide minimum-effort prompts, you will get low-quality results  \n",
    "    * Refining the prompts to get good outcomes will take work\n",
    "* AI has a tendency to allucinate, don’t trust anything it says and double-check\n",
    "  * If you learn something wrong its your grade getting affected\n",
    "  * **It works best for topics one understands**\n",
    "      * If you do not know how to code, using AI for coding will make you lose a lot of time\n",
    "\n",
    "Be thoughtful about when this tool is useful. Don’t use it if it isn’t appropriate for the case or circumstance.\n"
   ]
  },
  {
   "cell_type": "markdown",
   "metadata": {
    "slideshow": {
     "slide_type": "slide"
    }
   },
   "source": [
    "### ChatGPT, Bing and Copilot\n",
    "\n",
    "- **ChatGPT** and **Bing** are great aid for learning how to code\n",
    "  - You can ask for explanations on specific topics, i.e., loops, pandas, data import\n",
    "  - You can ask about your specific problem, e.g. how can I find if a number is odd using python?,\n",
    "  - You can ask it to explain some code, with details for each step/operation\n",
    "- **Copilot** is a Chat-GPT Large Language Model trained on StackOverflow questions and answers\n",
    "   - It integrates with VSCode and GitHub, if we will be able I will show how to set that up  \n",
    "   - Copilot can be very useful when coding because it takes as prompt the code and the comments you are writing and suggests the next lines\n",
    "      - You need to have in mind the steps ahead, know what can be done and using what tools\n",
    "      - You need to **always** check if the code is indeed doing what you want\n"
   ]
  },
  {
   "cell_type": "markdown",
   "metadata": {
    "slideshow": {
     "slide_type": "slide"
    }
   },
   "source": [
    "### Setting up your coding environment\n",
    "\n",
    "We will see three ways to set up your coding environment:\n",
    "\n",
    "- A local installation on your laptop\n",
    "- Using the VLEM of the dSEA\n",
    "- Using Google Colab\n",
    "\n"
   ]
  },
  {
   "cell_type": "markdown",
   "metadata": {
    "slideshow": {
     "slide_type": "slide"
    }
   },
   "source": [
    "### Set up the coding environment on your laptop\n",
    "\n",
    "We will see how to do so using ***Anaconda***, a famous python and R distribution for data science\n",
    "\n",
    "- Need to install all the software on your laptop\n",
    "   - **PROs** No internet needed to run the code, no constraints on what to install, all your files readily available, all the computational power of your laptop \n",
    "   - **CONs** Installation requires a bit of work, some knowledge of how a computer works and can entail unexpected problems\n",
    "- Probably the best option\n",
    "    - Is the most flexible and powerful, opens the door to many other tools\n",
    "    - You will develop a bit of practice on some valuable computer science skills\n",
    "\n"
   ]
  },
  {
   "cell_type": "markdown",
   "metadata": {
    "slideshow": {
     "slide_type": "slide"
    }
   },
   "source": [
    "### Use an environment in the cloud\n",
    "\n",
    "- Rely on a remote server that has ***some*** of the needed software already installed\n",
    "    - **PROs** Avoid all the installation difficulties and start to code \"right away\"  \n",
    "    - **CONs** Requires an internet connection, less flexible\n",
    "- We will see two options:\n",
    "    - Aula Virtuale **VLEM** is a platform developed by the dSEA to support the teaching of programming and data analysis\n",
    "    - **Google Colab** is a free service offered by Google that provides a Jupyter notebook environment in the cloud\n"
   ]
  },
  {
   "cell_type": "markdown",
   "metadata": {
    "slideshow": {
     "slide_type": "slide"
    }
   },
   "source": [
    "### Use the coding environment on the VLEM\n",
    "\n",
    "The dSEA provides a Virtual Learning Environment that allows you to run Jupyter notebooks on a remote server\n",
    "\n",
    "Our IT has set up a cloud instance with all the needed tools for this course  \n",
    "* The instance you should use is the VLEM-BASE \n",
    "* Information on the VLEM is available [here](https://economia.unipd.it/en/virtual-laboratory-vlem-information-and-access)\n",
    "* To access the VLEM is necessary to [book a slot](https://vlabbooking.vdi.ict.unipd.it/)\n",
    "\n",
    "- **PROs** No need to install ***anything*** (is it a pro if your aim is learning?) \n",
    "- **CONs** Need an internet connection, need to book a slot, limited time (30 minutes), pretty slow, cannot store anything and any modification to the environment is lost\n"
   ]
  },
  {
   "cell_type": "markdown",
   "metadata": {
    "slideshow": {
     "slide_type": "slide"
    }
   },
   "source": [
    "### Use a coding environment on Google Colab\n",
    "\n",
    "There are many options for coding in Python on the cloud   \n",
    "- Google [Google Colab](https://colab.research.google.com/) is one of the best \n",
    "- Offers a free tier with your Google account (that also include GPUs) and its paid tier has an extremely rich offer (GPU for AI)\n",
    "- Google Colab instances come with only a minimal set of pre-installed packages\n",
    "- Google instances are temporary, if you stay idle for too much or you close your window your instance gets deleted\n",
    "    - But you can connect it to your Google Drive to save your notebooks and coding environment\n"
   ]
  },
  {
   "cell_type": "markdown",
   "metadata": {
    "slideshow": {
     "slide_type": "slide"
    }
   },
   "source": [
    "### Use a coding environment on Google Colab\n",
    "- The introductory notebooks include a “Launch notebook” button that will directly run them in Colab\n",
    "    - Then you will need to upload them or store them on your Gdrive  \n",
    "- **PROs** Always ready with one click, possibility of storing the notebooks and personalizing the environment, a framework used by professionals (great for your experience)\n",
    "- **CONs** Need an internet connection, need some set up to have a semi-permanent environment (but we will see it together), the interface is a bit different from the standard Jupyter notebook\n"
   ]
  },
  {
   "cell_type": "markdown",
   "metadata": {
    "slideshow": {
     "slide_type": "slide"
    }
   },
   "source": [
    "### Setting up Python and Jupyter on your computer using Anaconda \n",
    "\n",
    "Anaconda is a distribution (a collection of software that is pre-configured to work together) for Python and R that is focused on data science\n",
    "* Simplifies deployment and is focused on scientific computing and data analysis\n",
    "* Has a graphical interface to manage libraries and environments\n",
    "* Also installs Jupyter, so that you edit notebooks\n",
    "* Provides many other tools for data science\n",
    "* Has a comprehensive and detailed [documentation](https://docs.anaconda.com/free/), a lively [community](https://community.anaconda.cloud/) plus a massive knwoledge base on  [Stackoverflow](https://stackoverflow.com/questions/tagged/anaconda)\n",
    "\n"
   ]
  },
  {
   "cell_type": "markdown",
   "metadata": {
    "slideshow": {
     "slide_type": "slide"
    }
   },
   "source": [
    "### Installing Anaconda\n",
    "\n",
    "We will now see how to install Anaconda on your computer following the [installation docs](https://docs.anaconda.com/free/anaconda/install/)\n"
   ]
  },
  {
   "cell_type": "markdown",
   "metadata": {
    "slideshow": {
     "slide_type": "slide"
    }
   },
   "source": [
    "### Command Line Interface and Graphical Interface\n",
    "\n",
    "Anaconda can be used through the command line interface (CLI) or the graphical interface (GUI)\n",
    "* Each have their advantages and disadvantages \n",
    "    * The CLI is more powerful and more flexible  \n",
    "    * The GUI is easier to use and more intuitive\n",
    "* For this course the GUI is enough, but start getting your head around the CLI, we will need to use it later on"
   ]
  },
  {
   "cell_type": "markdown",
   "metadata": {
    "slideshow": {
     "slide_type": "slide"
    }
   },
   "source": [
    "### Anaconda Navigator\n",
    "\n",
    "Anaconda Navigator is the GUI of Anaconda\n",
    "* It allows you to manage your environments and libraries\n",
    "\n",
    "To get started with Navigator we will use this [anaconda doc](https://docs.anaconda.com/free/navigator/getting-started/###navigator-starting-navigator)\n",
    "\n"
   ]
  },
  {
   "cell_type": "markdown",
   "metadata": {
    "slideshow": {
     "slide_type": "slide"
    }
   },
   "source": [
    "### Setting up a python environment\n",
    "\n",
    "An environment is the context in which a Python program runs, it specifies:\n",
    "* What is the interpreter to be used   \n",
    "    * In this case the default version of Python\n",
    "* Defines its fundamental settings\n",
    "    * Where the libraries are stored"
   ]
  },
  {
   "cell_type": "markdown",
   "metadata": {
    "slideshow": {
     "slide_type": "slide"
    }
   },
   "source": [
    "### Setting up the environment for this course: codepy\n",
    "\n",
    "To set up the environment to be used in this course \n",
    "\n",
    "1. Open Anaconda Navigator\n",
    "2. Click on the Environments tab on the left shoulder\n",
    "3. Click on 'create', name the new environment `codepy` select Python and a 3.9.x version\n",
    "4. Click on 'create' and wait for the environment to be created (it may take a while, it is downloading and installing a lot of stuff)\n",
    "5. Click on the 'Home' tab on the left shoulder\n",
    "6. Select the `codepy` environment from the drop down menu\n",
    "7. Click on 'install' on the Jupyter Notebook tile\n",
    "\n",
    "Congrats! You have set up your first Anaconda Python environment"
   ]
  },
  {
   "cell_type": "markdown",
   "metadata": {
    "slideshow": {
     "slide_type": "slide"
    }
   },
   "source": [
    "### Creating a Jupyter notebook\n",
    "\n",
    "To create your first Jupyter Notebook\n",
    "1. Open Anaconda Navigator\n",
    "2. Go to the home tab\n",
    "3. Select the `codepy` environment\n",
    "4. Click on 'launch' on the Jupyter Notebook tile"
   ]
  },
  {
   "cell_type": "markdown",
   "metadata": {
    "slideshow": {
     "slide_type": "slide"
    }
   },
   "source": [
    "### Creating a Jupyter notebook\n",
    "\n",
    "5. A new tab will open in your browser listing the files in your home directory\n",
    "6. It is conveninet to store all your notebooks in a single directory  \n",
    "    * Click on 'New' on the top right corner and create a new directory\n",
    "    * Select the \"Untitled folder\" just created and click the rename button on the top left\n",
    "    * Rename it `codepy`\n",
    "    * Click on the `codepy` directory\n",
    "7. Click on 'New' on the top right corner and select \"codepy\" from the drop down menu\n",
    "8. You can now start editing your first notebook"
   ]
  },
  {
   "cell_type": "markdown",
   "metadata": {
    "slideshow": {
     "slide_type": "slide"
    }
   },
   "source": [
    "### Install a package in Anaconda\n",
    "\n",
    "1. Open Navigator and select the environment tab\n",
    "2. Select the `codepy` environment\n",
    "3. Click on the dropdown menu and select not installed\n",
    "4. Search for the library you are interested in, let's say `rise`\n",
    "5. Click on the checkbox on the left of the `rise` package and apply at the bottom of the window\n",
    "6. Now if you change the dropdown menu to installed you will see the `rise` package listed\n",
    "7. You can now import the package in your notebook and use all its functionalities\n"
   ]
  },
  {
   "cell_type": "markdown",
   "metadata": {
    "slideshow": {
     "slide_type": "slide"
    }
   },
   "source": [
    "### Install the packages needed for this course in Anaconda\n",
    "\n",
    "The packages needed for this course are:\n",
    "\n",
    "* `arrow` - To manage time data\n",
    "* `pandas` - To store and manipulate tabular data\n",
    "* `matplotlib` - To plot data, old school\n",
    "* `seaborn` - To plot data, new school  \n",
    "* `statsmodels` - To perform statistical analysis\n",
    "* `scikit-learn` - To perform machine learning\n",
    "\n",
    "install the ones not present in the codepy environment following the steps above\n",
    "    \n"
   ]
  },
  {
   "cell_type": "markdown",
   "metadata": {
    "slideshow": {
     "slide_type": "slide"
    }
   },
   "source": [
    "### Setting up the environment in Colab\n",
    "\n",
    "If you are going to use Colab in this course (even just on occasion), it is worth to set up a semi-permanent environment\n",
    "\n",
    "While the set-up of Anaconda is a standard procedure and there is official documentation, what we are doing is something a bit more custom, so we will make follow [this](https://github.com/dgdi/codepy_UNIPD/blob/main/notebooks/colabGdrivelib_setup.ipynb) tutorial.\n"
   ]
  },
  {
   "cell_type": "markdown",
   "metadata": {
    "slideshow": {
     "slide_type": "slide"
    }
   },
   "source": [
    "### Homework\n",
    "\n",
    "Next week we will start coding, so you need to set up your environment\n",
    "\n",
    "My earnest advice is to do all three set-ups\n",
    " * Each has its pros and cons \n",
    "    * You will be able to choose the one you like the most\n",
    "    * You will be able to use the one that is more convenient for the task at hand\n",
    "    * Some things we will see are only available in one of the three\n",
    " * You will learn a lot by doing so\n",
    "    * On topics that are crucial for your future career\n",
    "    * On tools that can widen your horizon and make you more efficient\n",
    "\n"
   ]
  },
  {
   "cell_type": "markdown",
   "metadata": {
    "slideshow": {
     "slide_type": "slide"
    }
   },
   "source": [
    "### Notes\n",
    "**Book references:**  \n",
    "Ch.1 of [Python for Data Analysis](https://wesmckinney.com/book/)  \n",
    "Preface of [Python Data Science Handbook](https://jakevdp.github.io/PythonDataScienceHandbook/) \n",
    "\n",
    "**Office Hours:**  \n",
    "See on my [website](http://www.dgdi.me/#teaching)\n",
    "\n",
    "\n",
    "**Author:** Duccio Gamannossi degl'Innocenti  \n",
    "[Web: https://www.dgdi.me/](https://www.dgdi.me/)  \n",
    "[Mail: duccio.gamannossi@unipd.it](mailto:duccio.gamannossi@unipd.it)  "
   ]
  }
 ],
 "metadata": {
  "celltoolbar": "Slideshow",
  "kernelspec": {
   "display_name": "Python 3 (ipykernel)",
   "language": "python",
   "name": "python3"
  },
  "language_info": {
   "codemirror_mode": {
    "name": "ipython",
    "version": 3
   },
   "file_extension": ".py",
   "mimetype": "text/x-python",
   "name": "python",
   "nbconvert_exporter": "python",
   "pygments_lexer": "ipython3",
   "version": "3.9.18"
  }
 },
 "nbformat": 4,
 "nbformat_minor": 4
}
