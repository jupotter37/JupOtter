{
  "nbformat": 4,
  "nbformat_minor": 0,
  "metadata": {
    "colab": {
      "provenance": []
    },
    "kernelspec": {
      "name": "python3",
      "display_name": "Python 3"
    },
    "language_info": {
      "name": "python"
    }
  },
  "cells": [
    {
      "cell_type": "markdown",
      "source": [
        "##TENSORFLOW TUTORIAL\n",
        "\n"
      ],
      "metadata": {
        "id": "V3BoBf0DhBHM"
      }
    },
    {
      "cell_type": "markdown",
      "source": [
        "TensorFlow is a software library or framework, designed by the Google team to implement machine learning and deep learning concepts in the easiest manner. It combines the computational algebra of optimization techniques for easy calculation of many mathematical expressions."
      ],
      "metadata": {
        "id": "_R4ybIkRg2o9"
      }
    },
    {
      "cell_type": "markdown",
      "source": [
        "##TENSOR DATA STRUCTURE"
      ],
      "metadata": {
        "id": "2TtXeM3zC_H8"
      }
    },
    {
      "cell_type": "markdown",
      "source": [
        "Tensors are used as the basic data structures in TensorFlow. Tensors are defined as multidimensional array or list.\n",
        "\n",
        "Tensors are identified by the following three parameters:\n",
        "\n",
        "\n",
        "-Rank: Unit of dimensionality described within tensor is called rank. It identifies the number of dimensions of the tensor. A rank of a tensor can be described as the order or n-dimensions of a tensor defined.\n",
        "\n",
        "-Shape: The number of rows and columns together define the shape of Tensor.\n",
        "\n",
        "-Type: Type describes the data type assigned to Tensor’s elements.\n",
        "\n"
      ],
      "metadata": {
        "id": "gtNsYUvjiK8s"
      }
    },
    {
      "cell_type": "markdown",
      "source": [
        "1D Tensor"
      ],
      "metadata": {
        "id": "PlM4EkBTiiww"
      }
    },
    {
      "cell_type": "code",
      "source": [
        "import numpy as np\n",
        "\n",
        "tensor_1d = np.array([1.3, 1, 4.0, 23.99])\n",
        "print(tensor_1d)"
      ],
      "metadata": {
        "colab": {
          "base_uri": "https://localhost:8080/"
        },
        "id": "pVt3pyhXhakG",
        "outputId": "f3c507a1-bb6c-43f3-86a6-d0e1ef5f16a0"
      },
      "execution_count": null,
      "outputs": [
        {
          "output_type": "stream",
          "name": "stdout",
          "text": [
            "[ 1.3   1.    4.   23.99]\n"
          ]
        }
      ]
    },
    {
      "cell_type": "markdown",
      "source": [
        "The indexing of elements is same as Python lists. The first element starts with index of 0; to print the values through index, all you need to do is mention the index number"
      ],
      "metadata": {
        "id": "GrP6OCPiipqV"
      }
    },
    {
      "cell_type": "code",
      "source": [
        "print(tensor_1d[0])\n",
        "print(tensor_1d[-1])"
      ],
      "metadata": {
        "colab": {
          "base_uri": "https://localhost:8080/"
        },
        "id": "SKj-Oc6DiIdz",
        "outputId": "354509f2-1e25-4fe7-99c8-95f669fcde69"
      },
      "execution_count": null,
      "outputs": [
        {
          "output_type": "stream",
          "name": "stdout",
          "text": [
            "1.3\n",
            "23.99\n"
          ]
        }
      ]
    },
    {
      "cell_type": "markdown",
      "source": [
        "2D Vector"
      ],
      "metadata": {
        "id": "wrplJroRjLmI"
      }
    },
    {
      "cell_type": "code",
      "source": [
        "tensor_2d = np.array([(1,2,3,4),\n",
        "                      (4,5,6,7),\n",
        "                      (8,9,10,11),\n",
        "                      (12,13,14,15)])\n",
        "print(tensor_2d)"
      ],
      "metadata": {
        "colab": {
          "base_uri": "https://localhost:8080/"
        },
        "id": "gHzRujO9iyj2",
        "outputId": "4016d0d1-e84c-4ff2-a9fd-13ad67e43272"
      },
      "execution_count": null,
      "outputs": [
        {
          "output_type": "stream",
          "name": "stdout",
          "text": [
            "[[ 1  2  3  4]\n",
            " [ 4  5  6  7]\n",
            " [ 8  9 10 11]\n",
            " [12 13 14 15]]\n"
          ]
        }
      ]
    },
    {
      "cell_type": "markdown",
      "source": [
        "The specific elements of two dimensional tensors can be tracked with the help of row number and column number specified as index numbers."
      ],
      "metadata": {
        "id": "Ju63QACPj5te"
      }
    },
    {
      "cell_type": "code",
      "source": [
        "print(tensor_2d[3][2])"
      ],
      "metadata": {
        "colab": {
          "base_uri": "https://localhost:8080/"
        },
        "id": "Z3oLlMUXjqYr",
        "outputId": "0b92e67f-97e2-4a10-c6de-83d14070d693"
      },
      "execution_count": null,
      "outputs": [
        {
          "output_type": "stream",
          "name": "stdout",
          "text": [
            "14\n"
          ]
        }
      ]
    },
    {
      "cell_type": "code",
      "source": [
        "import tensorflow as tf\n",
        "\n",
        "# Define matrices\n",
        "matrix1 = np.array([(2, 2, 2), (2, 2, 2), (2, 2, 2)], dtype='int32')\n",
        "matrix2 = np.array([(1, 1, 1), (1, 1, 1), (1, 1, 1)], dtype='int32')\n",
        "\n",
        "print(f\"Matrix 1 : \\n{matrix1}\")\n",
        "print(f\"Matrix 2 : \\n{matrix2}\")\n",
        "\n",
        "# Convert matrices to TensorFlow constants\n",
        "matrix1 = tf.constant(matrix1)\n",
        "matrix2 = tf.constant(matrix2)\n",
        "\n",
        "# Matrix multiplication and addition\n",
        "matrix_product = tf.matmul(matrix1, matrix2)\n",
        "matrix_sum = tf.add(matrix1, matrix2)\n",
        "\n",
        "# Define another matrix\n",
        "matrix_3 = np.array([(2, 7, 2), (1, 4, 2), (9, 0, 2)], dtype='float32')\n",
        "print(matrix_3)\n",
        "\n",
        "# Calculate determinant using tf.linalg.det\n",
        "matrix_det = tf.linalg.det(matrix_3)\n",
        "\n",
        "# Directly print the results (no need for sessions in TensorFlow 2.x)\n",
        "print(f\"Matrix Product : {matrix_product.numpy()}\")\n",
        "print(f\"Matrix Sum : {matrix_sum.numpy()}\")\n",
        "print(f\"Matrix Determinant : {matrix_det.numpy()}\")"
      ],
      "metadata": {
        "colab": {
          "base_uri": "https://localhost:8080/"
        },
        "id": "8j7Krkxyj-x5",
        "outputId": "3dcffbc1-758f-4813-b984-8f421729af3d"
      },
      "execution_count": null,
      "outputs": [
        {
          "output_type": "stream",
          "name": "stdout",
          "text": [
            "Matrix 1 : \n",
            "[[2 2 2]\n",
            " [2 2 2]\n",
            " [2 2 2]]\n",
            "Matrix 2 : \n",
            "[[1 1 1]\n",
            " [1 1 1]\n",
            " [1 1 1]]\n",
            "[[2. 7. 2.]\n",
            " [1. 4. 2.]\n",
            " [9. 0. 2.]]\n",
            "Matrix Product : [[6 6 6]\n",
            " [6 6 6]\n",
            " [6 6 6]]\n",
            "Matrix Sum : [[3 3 3]\n",
            " [3 3 3]\n",
            " [3 3 3]]\n",
            "Matrix Determinant : 55.99999237060547\n"
          ]
        }
      ]
    },
    {
      "cell_type": "markdown",
      "source": [
        "##Convolutional Neural Networks (CNNs)"
      ],
      "metadata": {
        "id": "ntw1piyAnwss"
      }
    },
    {
      "cell_type": "markdown",
      "source": [
        "Convolutional Neural networks are designed to process data through multiple layers of arrays. This type of neural networks is used in applications like image recognition or face recognition. The primary difference between CNN and any other ordinary neural network is that CNN takes input as a two-dimensional array and operates directly on the images rather than focusing on feature extraction which other neural networks focus on.\n",
        "\n",
        "The dominant approach of CNN includes solutions for problems of recognition. Top companies like Google and Facebook have invested in research and development towards recognition projects to get activities done with greater speed."
      ],
      "metadata": {
        "id": "BMPnKw55oFyP"
      }
    },
    {
      "cell_type": "markdown",
      "source": [
        "A convolutional neural network uses three basic ideas:\n",
        "\n",
        "- Local receptive fields\n",
        "- Convolution(filtering)\n",
        "- Pooling(compressing)\n",
        "\n",
        "CNN utilizes spatial correlations that exist within the input data. Each concurrent layer of a neural network connects some input neurons. This specific region is called local receptive field. Local receptive field focusses on the hidden neurons. The hidden neurons process the input data inside the mentioned field not realizing the changes outside the specific boundary."
      ],
      "metadata": {
        "id": "bhsrmFG2oU5M"
      }
    },
    {
      "cell_type": "markdown",
      "source": [
        "**Diagram representation of generating local respective fields"
      ],
      "metadata": {
        "id": "jBBgZ34CpGvo"
      }
    },
    {
      "cell_type": "markdown",
      "source": [
        "If we observe the above representation, each connection learns a weight of the hidden neuron with an associated connection with movement from one layer to another. Here, individual neurons perform a shift from time to time. This process is called “convolution”.\n",
        "\n",
        "CNN or convolutional neural networks use pooling layers, which are the layers, positioned immediately after CNN declaration. It takes the input from the user as a feature map that comes out of convolutional networks and prepares a condensed feature map. Pooling layers helps in creating layers with neurons of previous layers.\n",
        "\n"
      ],
      "metadata": {
        "id": "RCyy8cnjpfA8"
      }
    },
    {
      "cell_type": "markdown",
      "source": [
        "## Tensorflow implementation of CNN"
      ],
      "metadata": {
        "id": "C864EezRpmJ8"
      }
    },
    {
      "cell_type": "code",
      "source": [
        "mnist = tf.keras.datasets.mnist\n",
        "\n",
        "(x_train, y_train), (x_test, y_test) = mnist.load_data()\n",
        "x_train, x_test = x_train / 255.0, x_test / 255.0"
      ],
      "metadata": {
        "id": "6WU9XRyAkXuS",
        "colab": {
          "base_uri": "https://localhost:8080/"
        },
        "outputId": "8f4368d0-7eb3-410a-e985-3fde30f9e128"
      },
      "execution_count": null,
      "outputs": [
        {
          "output_type": "stream",
          "name": "stdout",
          "text": [
            "Downloading data from https://storage.googleapis.com/tensorflow/tf-keras-datasets/mnist.npz\n",
            "\u001b[1m11490434/11490434\u001b[0m \u001b[32m━━━━━━━━━━━━━━━━━━━━\u001b[0m\u001b[37m\u001b[0m \u001b[1m0s\u001b[0m 0us/step\n"
          ]
        }
      ]
    },
    {
      "cell_type": "markdown",
      "source": [
        "The pixel values in the original MNIST dataset range from 0 to 255. This line normalizes the pixel values by dividing each element by 255.0, scaling them to the range [0, 1]. Normalization helps improve the performance and stability of neural networks during training."
      ],
      "metadata": {
        "id": "WhDsxPWV70bx"
      }
    },
    {
      "cell_type": "code",
      "source": [
        "import matplotlib.pyplot as plt\n",
        "\n",
        "def display_images(images, labels, num_images):\n",
        "    plt.figure(figsize=(10, 10))\n",
        "    for i in range(num_images):\n",
        "        plt.subplot(5, 5, i + 1)\n",
        "        # plt.grid(False)\n",
        "        plt.imshow(images[i], cmap=plt.cm.binary)\n",
        "        plt.xlabel(f\"Label: {labels[i]}\")\n",
        "    plt.show()\n",
        "\n",
        "# Display the first 25 images from the training set\n",
        "display_images(x_train, y_train, num_images=25)"
      ],
      "metadata": {
        "colab": {
          "base_uri": "https://localhost:8080/",
          "height": 853
        },
        "id": "0o0B8VcJ4nqB",
        "outputId": "953673bb-40af-4f97-c43e-58b9c0825fd0"
      },
      "execution_count": null,
      "outputs": [
        {
          "output_type": "display_data",
          "data": {
            "text/plain": [
              "<Figure size 1000x1000 with 25 Axes>"
            ],
            "image/png": "[encoded data removed]"
          },
          "metadata": {}
        }
      ]
    },
    {
      "cell_type": "markdown",
      "source": [
        "Sequential is useful for stacking layers where each layer has one input tensor and one output tensor. Layers are functions with a known mathematical structure that can be reused and have trainable variables. Most TensorFlow models are composed of layers. This model uses the Flatten, Dense, and Dropout layers.\n",
        "\n",
        "-Flatten - Converts the 2D image data into a 1D array.\n",
        "\n",
        "-Dense - Performs a linear transformation on the input data.\n",
        "\n",
        "-Dropout - Reduces overfitting by randomly setting a fraction of input units to zero during training."
      ],
      "metadata": {
        "id": "fzMEXEAAqVDX"
      }
    },
    {
      "cell_type": "code",
      "source": [
        "model = tf.keras.models.Sequential([\n",
        "  tf.keras.layers.Flatten(input_shape=(28, 28)),\n",
        "  tf.keras.layers.Dense(128, activation='relu'),\n",
        "  tf.keras.layers.Dropout(0.2),\n",
        "  tf.keras.layers.Dense(10)\n",
        "])"
      ],
      "metadata": {
        "colab": {
          "base_uri": "https://localhost:8080/"
        },
        "id": "0Ko_RC-moD48",
        "outputId": "7e6b38d3-8291-4830-bb4d-25bd077c19c0"
      },
      "execution_count": null,
      "outputs": [
        {
          "output_type": "stream",
          "name": "stderr",
          "text": [
            "/usr/local/lib/python3.10/dist-packages/keras/src/layers/reshaping/flatten.py:37: UserWarning: Do not pass an `input_shape`/`input_dim` argument to a layer. When using Sequential models, prefer using an `Input(shape)` object as the first layer in the model instead.\n",
            "  super().__init__(**kwargs)\n"
          ]
        }
      ]
    },
    {
      "cell_type": "markdown",
      "source": [
        "Logits (Raw Scores): If the model's final layer is a dense layer without an activation function (i.e., no softmax), the output will be logits. These are raw scores that can be positive or negative and don't sum to 1. They indicate the model's confidence before converting to probabilities."
      ],
      "metadata": {
        "id": "i4y0FrQH-L6p"
      }
    },
    {
      "cell_type": "code",
      "source": [
        "predictions = model(x_train[:1]).numpy()\n",
        "predictions"
      ],
      "metadata": {
        "colab": {
          "base_uri": "https://localhost:8080/"
        },
        "id": "KFneJ8tQqZMG",
        "outputId": "2781631a-cbe3-4716-aacb-2053488f86d5"
      },
      "execution_count": null,
      "outputs": [
        {
          "output_type": "execute_result",
          "data": {
            "text/plain": [
              "array([[-0.25597468,  0.28228194, -0.5289077 ,  0.61307317,  0.05307158,\n",
              "         0.45562607, -0.19717307, -0.17959821,  0.6114722 , -0.29708648]],\n",
              "      dtype=float32)"
            ]
          },
          "metadata": {},
          "execution_count": 9
        }
      ]
    },
    {
      "cell_type": "markdown",
      "source": [
        "The above code takes the first image from the training dataset x_train, feeds it into the model to make a prediction, and converts the output to a NumPy array. This can be used to inspect the model's predictions for the first training image."
      ],
      "metadata": {
        "id": "pU7_Pl4X9Fwd"
      }
    },
    {
      "cell_type": "markdown",
      "source": [
        "The tf.nn.softmax function converts these logits to probabilities for each class:\n",
        "\n",
        "\n"
      ],
      "metadata": {
        "id": "Cnb6JyXCrsBp"
      }
    },
    {
      "cell_type": "markdown",
      "source": [
        "tf.nn.softmax is a function in TensorFlow that applies the softmax activation to a set of values. Softmax converts the values (typically the raw output of a model's final layer, often called \"logits\") into probabilities that sum to 1."
      ],
      "metadata": {
        "id": "Amvu-AHTGrJ7"
      }
    },
    {
      "cell_type": "code",
      "source": [
        "tf.nn.softmax(predictions).numpy()"
      ],
      "metadata": {
        "colab": {
          "base_uri": "https://localhost:8080/"
        },
        "id": "U1rUwRrcqdpU",
        "outputId": "7688aba3-f4e7-4f96-a4e9-4e617fecc26f"
      },
      "execution_count": null,
      "outputs": [
        {
          "output_type": "execute_result",
          "data": {
            "text/plain": [
              "array([[0.06784879, 0.1162262 , 0.05164269, 0.1617949 , 0.09241856,\n",
              "        0.13822494, 0.07195805, 0.07323387, 0.16153607, 0.06511597]],\n",
              "      dtype=float32)"
            ]
          },
          "metadata": {},
          "execution_count": 10
        }
      ]
    },
    {
      "cell_type": "markdown",
      "source": [
        "Define a loss function for training using losses.SparseCategoricalCrossentropy:"
      ],
      "metadata": {
        "id": "ZLWy5_KCuY6Q"
      }
    },
    {
      "cell_type": "markdown",
      "source": [
        "A loss function, also known as a cost function or objective function, is a mathematical function that measures the difference between the predicted output of a model and the actual target values."
      ],
      "metadata": {
        "id": "-HxblyJ2YzVT"
      }
    },
    {
      "cell_type": "code",
      "source": [
        "loss_fn = tf.keras.losses.SparseCategoricalCrossentropy(from_logits=True)"
      ],
      "metadata": {
        "id": "lh2PycGPrw0C"
      },
      "execution_count": null,
      "outputs": []
    },
    {
      "cell_type": "markdown",
      "source": [
        "- The from_logits=True argument tells the loss function that the model's outputs are logits.\n",
        "- Logits are the raw, unnormalized outputs from the model's last layer, before any activation function (like softmax) has been applied."
      ],
      "metadata": {
        "id": "uMeSkBa8G_W7"
      }
    },
    {
      "cell_type": "markdown",
      "source": [
        "The loss function takes a vector of ground truth values and a vector of logits and returns a scalar loss for each example. This loss is equal to the negative log probability of the true class: The loss is zero if the model is sure of the correct class."
      ],
      "metadata": {
        "id": "9PUxkToSukSB"
      }
    },
    {
      "cell_type": "code",
      "source": [
        "loss_fn(y_train[:1], predictions).numpy()"
      ],
      "metadata": {
        "colab": {
          "base_uri": "https://localhost:8080/"
        },
        "id": "zMRT7_ASubcF",
        "outputId": "7df9df69-986a-4e92-a26b-3f8bf77d9ba4"
      },
      "execution_count": null,
      "outputs": [
        {
          "output_type": "execute_result",
          "data": {
            "text/plain": [
              "1.9788729"
            ]
          },
          "metadata": {},
          "execution_count": 12
        }
      ]
    },
    {
      "cell_type": "markdown",
      "source": [
        "Before you start training, configure and compile the model using Keras Model.compile. Set the optimizer class to adam, set the loss to the loss_fn function you defined earlier, and specify a metric to be evaluated for the model by setting the metrics parameter to accuracy."
      ],
      "metadata": {
        "id": "ZPEJAvuGuyMt"
      }
    },
    {
      "cell_type": "code",
      "source": [
        "model.compile(optimizer='adam',\n",
        "              loss=loss_fn,\n",
        "              metrics=['accuracy'])"
      ],
      "metadata": {
        "id": "siVDecRturVB"
      },
      "execution_count": null,
      "outputs": []
    },
    {
      "cell_type": "markdown",
      "source": [
        "Adam adjusts the learning rate for each parameter individually, making it suitable for a wide range of problems and data."
      ],
      "metadata": {
        "id": "WSpMqq6f_IAE"
      }
    },
    {
      "cell_type": "markdown",
      "source": [
        "Train and evaluate your model"
      ],
      "metadata": {
        "id": "StAKgUZKvnSt"
      }
    },
    {
      "cell_type": "code",
      "source": [
        "model.fit(x_train, y_train, epochs=5)"
      ],
      "metadata": {
        "colab": {
          "base_uri": "https://localhost:8080/"
        },
        "id": "OW1UcyuwvknU",
        "outputId": "be3fe606-1623-408d-dd1a-7910457576d9"
      },
      "execution_count": null,
      "outputs": [
        {
          "output_type": "stream",
          "name": "stdout",
          "text": [
            "Epoch 1/5\n",
            "\u001b[1m1875/1875\u001b[0m \u001b[32m━━━━━━━━━━━━━━━━━━━━\u001b[0m\u001b[37m\u001b[0m \u001b[1m13s\u001b[0m 6ms/step - accuracy: 0.8590 - loss: 0.4846\n",
            "Epoch 2/5\n",
            "\u001b[1m1875/1875\u001b[0m \u001b[32m━━━━━━━━━━━━━━━━━━━━\u001b[0m\u001b[37m\u001b[0m \u001b[1m14s\u001b[0m 8ms/step - accuracy: 0.9536 - loss: 0.1556\n",
            "Epoch 3/5\n",
            "\u001b[1m1875/1875\u001b[0m \u001b[32m━━━━━━━━━━━━━━━━━━━━\u001b[0m\u001b[37m\u001b[0m \u001b[1m18s\u001b[0m 10ms/step - accuracy: 0.9654 - loss: 0.1113\n",
            "Epoch 4/5\n",
            "\u001b[1m1875/1875\u001b[0m \u001b[32m━━━━━━━━━━━━━━━━━━━━\u001b[0m\u001b[37m\u001b[0m \u001b[1m7s\u001b[0m 4ms/step - accuracy: 0.9728 - loss: 0.0882\n",
            "Epoch 5/5\n",
            "\u001b[1m1875/1875\u001b[0m \u001b[32m━━━━━━━━━━━━━━━━━━━━\u001b[0m\u001b[37m\u001b[0m \u001b[1m8s\u001b[0m 3ms/step - accuracy: 0.9772 - loss: 0.0731\n"
          ]
        },
        {
          "output_type": "execute_result",
          "data": {
            "text/plain": [
              "<keras.src.callbacks.history.History at 0x7a7c949c5f60>"
            ]
          },
          "metadata": {},
          "execution_count": 14
        }
      ]
    },
    {
      "cell_type": "markdown",
      "source": [
        "The Model.evaluate method checks the model's performance, usually on a validation set or test set."
      ],
      "metadata": {
        "id": "lAFPtrUJv7qT"
      }
    },
    {
      "cell_type": "code",
      "source": [
        "model.evaluate(x_test,  y_test, verbose=2)"
      ],
      "metadata": {
        "colab": {
          "base_uri": "https://localhost:8080/"
        },
        "id": "p3IyxJjWvt6G",
        "outputId": "42d1c1a5-e771-4da5-e87b-a46aa72927c6"
      },
      "execution_count": null,
      "outputs": [
        {
          "output_type": "stream",
          "name": "stdout",
          "text": [
            "313/313 - 1s - 2ms/step - accuracy: 0.9778 - loss: 0.0727\n"
          ]
        },
        {
          "output_type": "execute_result",
          "data": {
            "text/plain": [
              "[0.0727391466498375, 0.9778000116348267]"
            ]
          },
          "metadata": {},
          "execution_count": 15
        }
      ]
    },
    {
      "cell_type": "code",
      "source": [
        "# Pick a random image from the test set\n",
        "random_index = np.random.randint(0, len(x_test))\n",
        "random_image = x_test[random_index]\n",
        "\n",
        "random_image = random_image.reshape((1, 28, 28, 1))\n",
        "\n",
        "prediction = model.predict(random_image)\n",
        "\n",
        "predicted_class = np.argmax(prediction)\n",
        "\n",
        "print(\"Predicted number:\", predicted_class)\n",
        "\n",
        "plt.imshow(random_image[0, :, :, 0], cmap='gray')\n",
        "# cmap is short for colormap, which defines the color scheme used to display the image.\n",
        "\n",
        "plt.title(f\"Actual: {y_test[random_index]}, Predicted: {predicted_class}\")\n",
        "plt.show()"
      ],
      "metadata": {
        "id": "iHxS9AlOv-mZ",
        "colab": {
          "base_uri": "https://localhost:8080/",
          "height": 489
        },
        "outputId": "40ddefe8-221b-400d-a056-19e52e6c761c"
      },
      "execution_count": null,
      "outputs": [
        {
          "output_type": "stream",
          "name": "stdout",
          "text": [
            "\u001b[1m1/1\u001b[0m \u001b[32m━━━━━━━━━━━━━━━━━━━━\u001b[0m\u001b[37m\u001b[0m \u001b[1m0s\u001b[0m 53ms/step\n",
            "Predicted number: 5\n"
          ]
        },
        {
          "output_type": "display_data",
          "data": {
            "text/plain": [
              "<Figure size 640x480 with 1 Axes>"
            ],
            "image/png": "[encoded data removed]"
          },
          "metadata": {}
        }
      ]
    },
    {
      "cell_type": "code",
      "source": [
        "\n"
      ],
      "metadata": {
        "id": "kM5wTJNRDt7s"
      },
      "execution_count": null,
      "outputs": []
    },
    {
      "cell_type": "code",
      "source": [
        "\n"
      ],
      "metadata": {
        "id": "6HevVg1_7QBU"
      },
      "execution_count": null,
      "outputs": []
    }
  ]
}