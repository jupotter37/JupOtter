{
 "cells": [
  {
   "cell_type": "markdown",
   "metadata": {},
   "source": [
    "# 笔记 General Intros"
   ]
  },
  {
   "cell_type": "markdown",
   "metadata": {},
   "source": [
    "微软亚太研发集团(4R&D Groups)\n",
    "\n",
    "Microsoft Research Asia (5/10yr ahead) (Papers Publishing lol)\n",
    "Microsoft Software Technology Cneter Asia (1/3yr ahead/application side)\n",
    "Microsoft Cloud & Asia AI China\n",
    "Microsoft & Devices China \n",
    "\n",
    "4000+ Researchers & Engineerings\n",
    "\n",
    "RIDE: Research|Incubation|Development|Ecosystem\n",
    "\n",
    "Ecosystem's importance :D\n",
    "\n",
    "一些产品：\n",
    "Bing Search & Ads etc (Follow Regulations lol)"
   ]
  },
  {
   "cell_type": "markdown",
   "metadata": {},
   "source": [
    "微软在人工智能基础领域的战略投入\n",
    "\n",
    "Data Knowledge Graph -- Cloud Computing Azure public & hybrid cloud -- Model, Algorithm, mode, application & platform\n",
    "\n",
    "Algorithms existed long, but the lack of data & low processing performance hindered its progress. "
   ]
  },
  {
   "cell_type": "markdown",
   "metadata": {},
   "source": [
    "Breakthroughs by Microsoft\n",
    "\n",
    "2016, Object recognition human parity\n",
    "....\n",
    "\n",
    "“比起友商”lol /语音识别之王\n",
    "\n",
    "4 Tiers,\n",
    "Challengers, Niche Players, Leaders, Visionaries \n",
    "\n",
    "Microsfot is a good platform/for boosting lol"
   ]
  },
  {
   "cell_type": "markdown",
   "metadata": {},
   "source": [
    "许经理的一些Suggestions\n",
    "\n",
    "1.Step out of COMFORT ZONE!! (w I tried for the Tencent Light Program lol) \n",
    "\n",
    "2.选择比努力重要（？（hmm，make valuable/rational choices \n",
    "\n",
    "3.Innovation is really hard, but it is inevitable for successs\n",
    "\n",
    "4.到了国外一定要好好玩（Explore the local daily life）没有钱有没有钱的玩法，9人的中巴/12人坐；2人的房间12人睡？？lol\n",
    "\n",
    "5.微软的Mission：Empower every person & every organization on the planet to achieve more! \n",
    "\n",
    "6.Connections是最重要的"
   ]
  },
  {
   "cell_type": "markdown",
   "metadata": {},
   "source": [
    "# 人工智能导论"
   ]
  },
  {
   "cell_type": "markdown",
   "metadata": {},
   "source": [
    "Definition,\n",
    "Thinking Machine? --> Perception & Understanding (Recognition)\n",
    "History,(U know it)\n",
    "Third wave,\n",
    "Data's birth & storage \n",
    "3 dimensions, computing, data, algorithm"
   ]
  },
  {
   "cell_type": "markdown",
   "metadata": {},
   "source": [
    "First Generation, Rule-based\n",
    "Second Generation, Simple Machine Learning\n",
    "Third Generation, Deep Learning "
   ]
  },
  {
   "cell_type": "markdown",
   "metadata": {},
   "source": [
    "# 人工智能岗位分析"
   ]
  },
  {
   "cell_type": "markdown",
   "metadata": {},
   "source": [
    "图像：\n",
    "大数据指的是全面，不仅仅是多\n",
    "语音：语音的识别/合成\n",
    "机器学习：推荐系统/用户画像/产品-用户分析\n",
    "自动驾驶：目标&环境识别/精密路径规划导航/行车策略/安全保障/传感器/移动通信\n",
    "NLP：文本分析/摘要提取/自动翻译\n",
    "IoT：远程工业数据采集/边缘计算；非人工智能攒齐数据；带宽有限/远端的计算\n",
    "\n",
    "Reinforcement Learning 通用的智能（Autonomous Vehicle）\n",
    "\n",
    "人工智能浪潮中的企业：中小型人工智能创业企业（AI+）\n",
    "人工智能岗位的公司规模分布：19%都是150-500人（小公司可能承担不起来长期的投入）\n",
    "\n",
    "AI的工业应用：\n",
    "工业管理：工业资产管理的人工智能应用/流程的人工智能应用/卓越的运营\n",
    "工业设计：CAD/CAM中应用人工智能\n",
    "节约人力：对降低成本/提高效率/人工智能自动运行平台对关键生产流程和资产管理实施标准化的操作\n",
    "数据分析：边缘计算\n",
    "\n",
    "技术工种：做算法/做工程/做数据\n",
    "\n",
    "算法工程师：\n",
    "1.门槛高\n",
    "2.领域针对性强\n",
    "3.热点领域严重供不应求\n",
    "4.需求方（传统IT大企业）（一线互联网）（细分领域独角兽）\n",
    "\n",
    "国际市场行业对于AI人才的需求：\n",
    "1.Automotive\n",
    "2.Fintech （summarize咨询/利用自己AI的program去搞投资！！）\n",
    "3.Energy\n",
    "4.Robotics\n",
    "5.Defence\n",
    "6.Space Technology\n",
    "7.Semiconductors\n",
    "\n",
    "TOP5，Amazon/Google/Microsfot/Fb/IBM\n",
    "\n",
    "指责：\n",
    "1.学术研究：算法的发明/改进；技术在新的领域里的探索；\n",
    "2.工业实践：学术成果的工业实践，用学术成功解决现实问题；\n",
    "3.原型开发\n",
    "4.产品设计：算法和结构的融合/效率问题的解决\n",
    "\n",
    "学术能力：\n",
    "1.数学 2.算法 3.读论文 4.创新\n",
    "\n",
    "能力要求--Soft Skills\n",
    "1.终身学习能力\n",
    "2.专注力\n",
    "3.领导力（任务分配/指标设定）\n",
    "4.沟通能力（交流/宣讲）\n",
    "5.行业洞察力（前沿/前瞻）\n",
    "\n",
    "语言之间的障碍/差异性会越来越低；机器人转计算机语言嘿嘿/那会好爽\n",
    "\n",
    "工程师：\n",
    "指责：人工智能领域的程序员/市场需求：解决实际问题\n",
    "\n",
    "能力要求-软件开发\n",
    "1.功能：Bug Free\n",
    "2.性能：Efficiency & Stability\n",
    "3.架构：Complexity & Scalability\n",
    "\n",
    "能力要求-机器学习/深度学习\n",
    "1.模型的训练/测试/服务\n",
    "2.特征工程：特征提取（让机器来帮忙）/从特征到向量空间模型\n",
    "3.工具和支持库的使用\n",
    "4.模型的实际应用\n",
    "\n",
    "能力要求：数据处理\n",
    "数据收集：（手动、自动）\n",
    "数据清洗：有效性、去重\n",
    "数据预处理：格式/内容\n",
    "\n",
    "“全栈人工智能工程师”\n",
    "\n",
    "做工程的岗位：标注数据/门槛：基本读写、理解能力；人工智能的“勤行”\n",
    "\n",
    "标注&Feature Engineering：\n",
    "人工智能来帮助标注，人来把关；定制化标注功能；知识提取（从非结构化原始数据提取知识，从而构成结构化数据）\n",
    "\n",
    "SDK/API来进行封装，之后进行调用\n",
    "\n",
    "Microsoft：Responsible AI：1.Fairness 2.Accountability 3.Transparency 4.Inclusiveness 5.Reliability/Safety 6.Privacy/Security\n",
    "\n",
    "一面之交还是很重要的"
   ]
  },
  {
   "cell_type": "markdown",
   "metadata": {},
   "source": [
    "# 数据处理"
   ]
  },
  {
   "cell_type": "markdown",
   "metadata": {},
   "source": [
    "数据收集的问题：\n",
    "1.不同的数据源\n",
    "2.不同的数据结构\n",
    "3.不同的储存形式\n",
    "4.不同的编码\n",
    "5.不同的etc\n",
    "\n",
    "数据清洗：\n",
    "1.删掉多余信息\n",
    "2.补充缺失信息\n",
    "3.删掉异常信息\n",
    "\n",
    "异常值/错误值（基础规则/range）\n",
    "\n",
    "抽取特征的依据：1）业务知识 2）数据质量 3）与其他特征的相关性（各种assumptions：PCA可以确认相关系数低的数据诶！）4）模型性能需求\n",
    "\n",
    "数据归一化：Normalization（本质上就是归一到-1到1的区间），可以让下降时更快的收敛。\n",
    "\n",
    "通过Central limit theorem变成normal distribution，之后再z-score嘿嘿。\n",
    "\n",
    "数据清洗Python教程：\n"
   ]
  },
  {
   "cell_type": "code",
   "execution_count": 3,
   "metadata": {},
   "outputs": [],
   "source": [
    "import numpy as np\n",
    "import pandas as pd\n",
    "import matplotlib.pyplot as plt\n",
    "import seaborn as sns\n",
    "\n",
    "import warnings \n",
    "warnings.filterwarnings('ignore')\n",
    "insurance=pd.read_csv('name')\n",
    "name.info()\n",
    "name.head()"
   ]
  },
  {
   "cell_type": "code",
   "execution_count": null,
   "metadata": {},
   "outputs": [],
   "source": [
    "Visualization\n",
    "塔夫特设计原则\n",
    "\n",
    "1.Let data TALK （注重outlier/不要随便删除/study WHY）\n",
    "2.尊重事实（to scale）\n",
    "3.适当标注（have the keys，let them understand）\n",
    "4.善用对比\n",
    "5.内容终于形式\n",
    "6.风格一致\n",
    "\n",
    "seaborn/bokeh/matplotlib/ggplot2/plotly\n",
    "\n",
    "Seaborn"
   ]
  },
  {
   "cell_type": "code",
   "execution_count": null,
   "metadata": {},
   "outputs": [],
   "source": [
    "import seaborn as sns\n",
    "tips = sns.load_dataset(\"tips\")\n",
    "\n",
    "#SEABORN的API分类，relplot（relational）；displot（distributions）；catplot（categorical）\n",
    "#relplot: scatterplot/lineplot\n",
    "#displot: histplot/kdeplot/ecdfplot/rugplot\n",
    "#catplot: stripplot/swarmplot/boxplot/violinplot/pointplot"
   ]
  },
  {
   "cell_type": "code",
   "execution_count": null,
   "metadata": {},
   "outputs": [],
   "source": [
    "#1st\n",
    "\n",
    "tips.scatterplot(x='x',y='y',data=tips,hue=None,style=None,size=None)\n",
    "sns.kdeplot(data=dots,x='firing_rate') 平滑程度高就类似钱你和，低就类似过你和"
   ]
  },
  {
   "cell_type": "code",
   "execution_count": null,
   "metadata": {},
   "outputs": [],
   "source": []
  }
 ],
 "metadata": {
  "kernelspec": {
   "display_name": "Python 3",
   "language": "python",
   "name": "python3"
  },
  "language_info": {
   "codemirror_mode": {
    "name": "ipython",
    "version": 3
   },
   "file_extension": ".py",
   "mimetype": "text/x-python",
   "name": "python",
   "nbconvert_exporter": "python",
   "pygments_lexer": "ipython3",
   "version": "3.7.3"
  }
 },
 "nbformat": 4,
 "nbformat_minor": 2
}
