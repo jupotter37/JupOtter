{
 "cells": [
  {
   "cell_type": "markdown",
   "id": "f8331a56-3ce2-4fc8-809b-100f3c9cde34",
   "metadata": {},
   "source": [
    "# NLP with Prompt Engineering\n",
    "\n",
    "### Importing libraries"
   ]
  },
  {
   "cell_type": "markdown",
   "id": "575ab6ae-49e9-4ab5-af7a-7e765c95fe1a",
   "metadata": {},
   "source": [
    "Background:\n",
    "\n",
    "* LLMs are excellent tools for NLP and they work really well."
   ]
  },
  {
   "cell_type": "markdown",
   "id": "afbfe1ca-6aeb-42fc-ba0c-c924e18b818a",
   "metadata": {},
   "source": [
    "I will demonstrate:\n",
    "\n",
    "* Langchain Prompting\n",
    "* Using Pydantic to parse LLM output into a structured response\n",
    "* [Prompt-poet](https://github.com/character-ai/prompt-poet) for maintaining and writing prompts\n",
    "* Zero Shot Text Classfication\n",
    "* Few Shot Text Classification\n",
    "* Validation of the Models"
   ]
  },
  {
   "cell_type": "code",
   "execution_count": 1,
   "id": "5036f611-49c4-4988-aa24-af7094ed7537",
   "metadata": {},
   "outputs": [],
   "source": [
    "from langchain_core.prompts import ChatPromptTemplate\n",
    "from langchain_groq import ChatGroq\n",
    "from typing import List, Literal, Annotated\n",
    "from langchain_core.pydantic_v1 import BaseModel, Field\n",
    "from langchain_core.tools import tool\n",
    "import getpass\n",
    "from typing import List, Optional\n",
    "import numpy as np\n",
    "from datasets import load_dataset\n",
    "from prompt_poet import Prompt\n",
    "from tqdm import tqdm\n",
    "import pandas as pd\n",
    "from unicodedata import normalize"
   ]
  },
  {
   "cell_type": "code",
   "execution_count": 2,
   "id": "1243a56a-0e37-4d53-8d96-af3239ec975e",
   "metadata": {},
   "outputs": [],
   "source": [
    "def norm_text(input_text):\n",
    "    return normalize('NFKD', input_text).encode('ascii','ignore').decode('ascii')"
   ]
  },
  {
   "cell_type": "markdown",
   "id": "bed202a8-d17d-4b08-a09e-f9e9d1fcea84",
   "metadata": {},
   "source": [
    "### Groq Init"
   ]
  },
  {
   "cell_type": "code",
   "execution_count": 3,
   "id": "07edd72a-a2a5-4b3b-946b-67d6f2e06953",
   "metadata": {},
   "outputs": [
    {
     "name": "stdin",
     "output_type": "stream",
     "text": [
      " ········\n"
     ]
    }
   ],
   "source": [
    "groq_api_key = getpass.getpass()"
   ]
  },
  {
   "cell_type": "code",
   "execution_count": 4,
   "id": "36825404-213e-45e4-b64f-97b762a1d85a",
   "metadata": {},
   "outputs": [],
   "source": [
    "llama_70b_llm = ChatGroq(api_key=groq_api_key, temperature=0, model_name=\"llama3-groq-70b-8192-tool-use-preview\")"
   ]
  },
  {
   "cell_type": "markdown",
   "id": "4f20e51c-583d-4aa6-afd7-950eb1551130",
   "metadata": {},
   "source": [
    "### Classification Models\n",
    "\n",
    "* Spam vs Ham\n",
    "* Ticket Categorization\n",
    "* Fake News Detection\n",
    "* Medical Records to Disease etc."
   ]
  },
  {
   "cell_type": "markdown",
   "id": "a52a26a1-0387-4ef3-a7b7-d0419cf21200",
   "metadata": {},
   "source": [
    "##### Traditional Models\n",
    "\n",
    "- Data Collection and Labelling\n",
    "- Feature Engineering\n",
    "- Model Training & Validation\n",
    "- Once the model is built, inference is efficient because of small model sizes.\n",
    "\n",
    "Approaches\n",
    "\n",
    "- TfIdf Vectorization + Classifier (Navie Bayes, Logistic Regression etc.)\n",
    "- Word2Vec + Classifier Head\n",
    "- BERT encoder + Classification\n",
    "\n",
    "Drawbacks\n",
    "\n",
    "- Time to label datasets\n",
    "- Out of Vocabulary Words\n",
    "- Generalization Error"
   ]
  },
  {
   "cell_type": "markdown",
   "id": "58925653-de88-4b4e-a87a-e0246599f72c",
   "metadata": {},
   "source": [
    "##### LLMs\n",
    "\n",
    "- Zero Shot or few shot learners\n",
    "- No feature engineering required\n",
    "- Can be finetuned\n",
    "- Great out-of-sample performance\n",
    "\n",
    "Drawbacks\n",
    "\n",
    "- Huge parameter LLMs at the backend\n",
    "- Proprietary models, data security and privacy issues\n",
    "- Inference is costly, takes time, needs high coumputing resources\n",
    "- Smaller LLMs with similar performance on the level of GPT are needed for finetuning."
   ]
  },
  {
   "cell_type": "markdown",
   "id": "a6c88cd8-1d3e-4703-9f29-b212c7949ff0",
   "metadata": {},
   "source": [
    "#### Zero shot Example"
   ]
  },
  {
   "cell_type": "code",
   "execution_count": 5,
   "id": "a311aae7-2a9b-46ec-a9c2-13bb0f3f4205",
   "metadata": {},
   "outputs": [],
   "source": [
    "raw_template  = \"\"\"\n",
    "- name: system instructions\n",
    "  role: system\n",
    "  content: |\n",
    "   You are an expert in classifying a given text into {{ text_classfication_classes }}\n",
    "\n",
    "- name: user query\n",
    "  role: user\n",
    "  content: |\n",
    "   Please extract label of the following text.\n",
    "   {{ norm_text(text) }}\n",
    "\"\"\""
   ]
  },
  {
   "cell_type": "code",
   "execution_count": 6,
   "id": "eb361784-c471-47af-b67a-7b2267386a20",
   "metadata": {},
   "outputs": [],
   "source": [
    "template_data = {\"text_classfication_classes\": \"Spam or Ham\", \"text\": \"Win $1000000 NOW!!!\",\n",
    "                \"norm_text\":norm_text}"
   ]
  },
  {
   "cell_type": "code",
   "execution_count": 7,
   "id": "6809e381-9d97-48d3-95f8-3135ef5c1c3b",
   "metadata": {},
   "outputs": [],
   "source": [
    "prompt = Prompt(\n",
    "    raw_template=raw_template,\n",
    "    template_data=template_data\n",
    ")"
   ]
  },
  {
   "cell_type": "code",
   "execution_count": 8,
   "id": "2fc1f24d-84b1-454d-9eaf-c727a4f5480f",
   "metadata": {},
   "outputs": [
    {
     "data": {
      "text/plain": [
       "[{'role': 'system',\n",
       "  'content': 'You are an expert in classifying a given text into Spam or Ham'},\n",
       " {'role': 'user',\n",
       "  'content': 'Please extract label of the following text.\\nWin $1000000 NOW!!!'}]"
      ]
     },
     "execution_count": 8,
     "metadata": {},
     "output_type": "execute_result"
    }
   ],
   "source": [
    "prompt.messages"
   ]
  },
  {
   "cell_type": "code",
   "execution_count": 9,
   "id": "ae8e90da-ea0c-432a-bf30-99d00687d2cf",
   "metadata": {},
   "outputs": [],
   "source": [
    "response = llama_70b_llm.invoke(prompt.messages)"
   ]
  },
  {
   "cell_type": "code",
   "execution_count": 10,
   "id": "62ddb80e-a44f-4c16-92e9-c2ec0c8aeb54",
   "metadata": {},
   "outputs": [
    {
     "name": "stdout",
     "output_type": "stream",
     "text": [
      "The label for the given text is \"Spam\".\n"
     ]
    }
   ],
   "source": [
    "print(response.content)"
   ]
  },
  {
   "cell_type": "markdown",
   "id": "d977fda8-f57a-4b08-a5ba-edd9ab5b8235",
   "metadata": {},
   "source": [
    "#### Adding Structured Outputs"
   ]
  },
  {
   "cell_type": "code",
   "execution_count": 11,
   "id": "1ba2a8c7-776a-4f7f-8764-85d21cb6a693",
   "metadata": {},
   "outputs": [],
   "source": [
    "class Classification(BaseModel):\n",
    "    \"\"\"Function that Classifies the text into Spam or Ham\"\"\"\n",
    "    classification_label: str= Field(default=None,enum=[\"Spam\",\"Ham\",\"spam\",\"ham\"])\n",
    "    explanation: str = Field(default=None,description=\"Explain why you gave that label to this text. Keep your answers short and precise. I will tip you $20 for a good explanation. \")"
   ]
  },
  {
   "cell_type": "code",
   "execution_count": 12,
   "id": "91cca2bb-94de-43e2-b3ad-c3bf8bd6e60a",
   "metadata": {},
   "outputs": [],
   "source": [
    "llama_70b_llm_cls_head = llama_70b_llm.with_structured_output(Classification)"
   ]
  },
  {
   "cell_type": "code",
   "execution_count": 13,
   "id": "d9e70663-64c6-4930-8340-f756a5fb0342",
   "metadata": {},
   "outputs": [
    {
     "data": {
      "text/plain": [
       "[{'role': 'system',\n",
       "  'content': 'You are an expert in classifying a given text into Spam or Ham'},\n",
       " {'role': 'user',\n",
       "  'content': 'Please extract label of the following text.\\nWin $1000000 NOW!!!'}]"
      ]
     },
     "execution_count": 13,
     "metadata": {},
     "output_type": "execute_result"
    }
   ],
   "source": [
    "prompt.messages"
   ]
  },
  {
   "cell_type": "code",
   "execution_count": 14,
   "id": "cb9a09cd-9e1e-4592-be6a-5435b46eb641",
   "metadata": {},
   "outputs": [],
   "source": [
    "result = llama_70b_llm_cls_head.invoke(prompt.messages)"
   ]
  },
  {
   "cell_type": "code",
   "execution_count": 15,
   "id": "abfebe28-6e89-4a81-90a4-198dd1e5cac7",
   "metadata": {},
   "outputs": [
    {
     "data": {
      "text/plain": [
       "Classification(classification_label='Spam', explanation='The text contains an exaggerated claim of winning a large sum of money, which is a common tactic used in spam messages.')"
      ]
     },
     "execution_count": 15,
     "metadata": {},
     "output_type": "execute_result"
    }
   ],
   "source": [
    "result"
   ]
  },
  {
   "cell_type": "code",
   "execution_count": 16,
   "id": "7ddc11c4-4371-4ad7-b2a6-4c8ccae20534",
   "metadata": {},
   "outputs": [],
   "source": [
    "template_data = {\"text_classfication_classes\": \"Spam and Ham\", \"text\": \"Change in TER Schemes of quant mutual fund\",\n",
    "                \"norm_text\": norm_text}\n",
    "\n",
    "non_spam_prompt = Prompt(\n",
    "    raw_template=raw_template,\n",
    "    template_data=template_data\n",
    ")\n",
    "prompt = Prompt(\n",
    "    raw_template=raw_template,\n",
    "    template_data=template_data\n",
    ")"
   ]
  },
  {
   "cell_type": "code",
   "execution_count": 17,
   "id": "2afe27b5-96ce-4eb1-88ba-2f659e49bd68",
   "metadata": {},
   "outputs": [],
   "source": [
    "result = llama_70b_llm_cls_head.invoke(prompt.messages)"
   ]
  },
  {
   "cell_type": "code",
   "execution_count": 18,
   "id": "464c16ff-0dbf-4704-b932-20d1180d267a",
   "metadata": {},
   "outputs": [
    {
     "data": {
      "text/plain": [
       "Classification(classification_label='Ham', explanation='The text is about a change in a mutual fund scheme, which is a legitimate topic and not spam.')"
      ]
     },
     "execution_count": 18,
     "metadata": {},
     "output_type": "execute_result"
    }
   ],
   "source": [
    "result"
   ]
  },
  {
   "cell_type": "markdown",
   "id": "d2ce9844-521d-4199-8407-4d891bb47b19",
   "metadata": {},
   "source": [
    "#### Few Shot Examples\n",
    "\n",
    "- In Zero shot learning, we are only relying on LLMs pretraining\n",
    "- In a few shot approach, we feed the LLM with few examples from the training set and their labels."
   ]
  },
  {
   "cell_type": "code",
   "execution_count": 19,
   "id": "132f1da1-95f9-4314-85af-ccd625a3e25d",
   "metadata": {},
   "outputs": [],
   "source": [
    "ds = load_dataset(\"ucirvine/sms_spam\")['train'].train_test_split(test_size=0.01,stratify_by_column=\"label\")"
   ]
  },
  {
   "cell_type": "markdown",
   "id": "e8c3c1e5-8867-4656-8e3f-a8927d281272",
   "metadata": {},
   "source": [
    "Let's select 5 examples from each class to train few shot model."
   ]
  },
  {
   "cell_type": "code",
   "execution_count": 20,
   "id": "f5a3f6cf-0cbc-44fe-bee2-6e301c4e76f5",
   "metadata": {},
   "outputs": [
    {
     "data": {
      "text/plain": [
       "['ham', 'spam']"
      ]
     },
     "execution_count": 20,
     "metadata": {},
     "output_type": "execute_result"
    }
   ],
   "source": [
    "ds['train'].features['label'].names"
   ]
  },
  {
   "cell_type": "code",
   "execution_count": 21,
   "id": "4951f01e-ae40-4f8b-a1a0-022a73b00b6a",
   "metadata": {},
   "outputs": [],
   "source": [
    "def generate_samples(dataset, num_samples_per_class=5, label_column=None, text_column=None):\n",
    "    if label_column is None or text_column is None:\n",
    "        raise ValueError(\"Both label_column and text_column must be provided.\")\n",
    "\n",
    "    # Get unique labels and shuffle the dataset\n",
    "    unique_labels = dataset.unique(label_column)\n",
    "    dataset = dataset.shuffle(seed=42)\n",
    "    label_names = dataset.features[label_column].names\n",
    "    # Initialize a dictionary to store samples per class name\n",
    "    samples_per_class = {label_name: [] for label_name in label_names}\n",
    "\n",
    "    # Collect samples for each class\n",
    "    for example in dataset:\n",
    "        label = example[label_column]\n",
    "        label_name = label_names[label]\n",
    "        if len(samples_per_class[label_name]) < num_samples_per_class:\n",
    "            samples_per_class[label_name].append(example)\n",
    "\n",
    "    # Create a list of {label, text} pairs\n",
    "    label_text_pairs = []\n",
    "    for label_name, samples in samples_per_class.items():\n",
    "        for sample in samples:\n",
    "            label_text_pairs.append({\"label\": label_name, \"text\": sample[text_column]})\n",
    "\n",
    "    # Yield (text, label) pairs\n",
    "    for each_sample in label_text_pairs:\n",
    "        yield (norm_text(each_sample['text'].strip()), each_sample['label'].strip())\n"
   ]
  },
  {
   "cell_type": "code",
   "execution_count": 22,
   "id": "007708ee-e0b0-421b-b70d-dd04795b6e46",
   "metadata": {},
   "outputs": [],
   "source": [
    "samples = generate_samples(ds['train'],text_column='sms',label_column='label')"
   ]
  },
  {
   "cell_type": "code",
   "execution_count": 23,
   "id": "33746b8a-2925-4bb2-a351-faa7879c15a1",
   "metadata": {},
   "outputs": [
    {
     "data": {
      "application/vnd.jupyter.widget-view+json": {
       "model_id": "2135f9280da147ab87b78f1701168b50",
       "version_major": 2,
       "version_minor": 0
      },
      "text/plain": [
       "Flattening the indices:   0%|          | 0/5518 [00:00<?, ? examples/s]"
      ]
     },
     "metadata": {},
     "output_type": "display_data"
    }
   ],
   "source": [
    "samples = list(samples)"
   ]
  },
  {
   "cell_type": "code",
   "execution_count": 24,
   "id": "c2d80fea-585d-4a0e-bce8-fa08d8345569",
   "metadata": {},
   "outputs": [
    {
     "name": "stdout",
     "output_type": "stream",
     "text": [
      "Been running but only managed 5 minutes and then needed oxygen! Might have to resort to the roller option!\n"
     ]
    }
   ],
   "source": [
    "print(samples[0][0])"
   ]
  },
  {
   "cell_type": "code",
   "execution_count": 25,
   "id": "c9572306-527c-447e-9f30-33bfefacd797",
   "metadata": {},
   "outputs": [],
   "source": [
    "few_shot_template = \"\"\"\n",
    "- name: system instructions\n",
    "  role: system\n",
    "  content: |\n",
    "   You are an expert in classifying a given text into {{ text_classfication_classes }}.\n",
    "   These are some of the examples that you can use to do this task.\n",
    "   {% for each_example, each_label in samples %} \n",
    "   Text: {{ each_example }} Label: {{ each_label}}\n",
    "   {% endfor %}\n",
    "\n",
    "- name: user query\n",
    "  role: user\n",
    "  content: |\n",
    "   Extract the properties listed in Classification function : {{ escape_special_characters(text) }} \n",
    "\"\"\""
   ]
  },
  {
   "cell_type": "code",
   "execution_count": 26,
   "id": "f3f6f2a7-c51c-4568-8374-6e71fcae41cd",
   "metadata": {},
   "outputs": [],
   "source": [
    "template_data = {\"text_classfication_classes\": \"Spam or Ham\",\n",
    "                \"text\": \"No Deposit Required. Play for FREE and Win for Real!..-ettzhr.\",\n",
    "                \"samples\":samples}"
   ]
  },
  {
   "cell_type": "code",
   "execution_count": 27,
   "id": "6e16ee04-af2c-411a-89a9-7b21ce03f98c",
   "metadata": {},
   "outputs": [],
   "source": [
    "few_shot_prompt = Prompt(\n",
    "    raw_template=few_shot_template,\n",
    "    template_data=template_data\n",
    ")"
   ]
  },
  {
   "cell_type": "code",
   "execution_count": 28,
   "id": "da1170bf-6598-4dd9-bfb8-ab14577da87b",
   "metadata": {},
   "outputs": [
    {
     "data": {
      "text/plain": [
       "[{'role': 'system',\n",
       "  'content': \"You are an expert in classifying a given text into Spam or Ham.\\nThese are some of the examples that you can use to do this task.\\n \\nText: Been running but only managed 5 minutes and then needed oxygen! Might have to resort to the roller option! Label: ham\\n \\nText: Omg how did u know what I ate? Label: ham\\n \\nText: Hi here. have birth at on the  to  at 8lb 7oz. Mother and baby doing brilliantly. Label: ham\\n \\nText: Haha yeah, 2 oz is kind of a shitload Label: ham\\n \\nText: Aah! A cuddle would be lush! I'd need lots of tea and soup before any kind of fumbling! Label: ham\\n \\nText: Free video camera phones with Half Price line rental for 12 mths and 500 cross ntwk mins 100 txts. Call MobileUpd8 08001950382 or Call2OptOut/674 Label: spam\\n \\nText: U have a secret admirer who is looking 2 make contact with U-find out who they R*reveal who thinks UR so special-call on 09058094599 Label: spam\\n \\nText: If you don't, your prize will go to another customer. T&C at www.t-c.biz 18+ 150p/min Polo Ltd Suite 373 London W1J 6HL Please call back if busy Label: spam\\n \\nText: As one of our registered subscribers u can enter the draw 4 a 100 G.B. gift voucher by replying with ENTER. To unsubscribe text STOP Label: spam\\n \\nText: **FREE MESSAGE**Thanks for using the Auction Subscription Service. 18 . 150p/MSGRCVD 2 Skip an Auction txt OUT. 2 Unsubscribe txt STOP CustomerCare 08718726270 Label: spam\"},\n",
       " {'role': 'user',\n",
       "  'content': 'Extract the properties listed in Classification function : No Deposit Required. Play for FREE and Win for Real!..-ettzhr.'}]"
      ]
     },
     "execution_count": 28,
     "metadata": {},
     "output_type": "execute_result"
    }
   ],
   "source": [
    "few_shot_prompt.messages"
   ]
  },
  {
   "cell_type": "code",
   "execution_count": 29,
   "id": "a62d7170-5569-4b7d-8943-04dbe0671587",
   "metadata": {},
   "outputs": [
    {
     "name": "stdout",
     "output_type": "stream",
     "text": [
      "You are an expert in classifying a given text into Spam or Ham.\n",
      "These are some of the examples that you can use to do this task.\n",
      " \n",
      "Text: Been running but only managed 5 minutes and then needed oxygen! Might have to resort to the roller option! Label: ham\n",
      " \n",
      "Text: Omg how did u know what I ate? Label: ham\n",
      " \n",
      "Text: Hi here. have birth at on the  to  at 8lb 7oz. Mother and baby doing brilliantly. Label: ham\n",
      " \n",
      "Text: Haha yeah, 2 oz is kind of a shitload Label: ham\n",
      " \n",
      "Text: Aah! A cuddle would be lush! I'd need lots of tea and soup before any kind of fumbling! Label: ham\n",
      " \n",
      "Text: Free video camera phones with Half Price line rental for 12 mths and 500 cross ntwk mins 100 txts. Call MobileUpd8 08001950382 or Call2OptOut/674 Label: spam\n",
      " \n",
      "Text: U have a secret admirer who is looking 2 make contact with U-find out who they R*reveal who thinks UR so special-call on 09058094599 Label: spam\n",
      " \n",
      "Text: If you don't, your prize will go to another customer. T&C at www.t-c.biz 18+ 150p/min Polo Ltd Suite 373 London W1J 6HL Please call back if busy Label: spam\n",
      " \n",
      "Text: As one of our registered subscribers u can enter the draw 4 a 100 G.B. gift voucher by replying with ENTER. To unsubscribe text STOP Label: spam\n",
      " \n",
      "Text: **FREE MESSAGE**Thanks for using the Auction Subscription Service. 18 . 150p/MSGRCVD 2 Skip an Auction txt OUT. 2 Unsubscribe txt STOP CustomerCare 08718726270 Label: spam\n"
     ]
    }
   ],
   "source": [
    "print(few_shot_prompt.messages[0]['content'])"
   ]
  },
  {
   "cell_type": "code",
   "execution_count": 30,
   "id": "8a565045-7811-468b-9c24-e1fa16ac254b",
   "metadata": {},
   "outputs": [
    {
     "data": {
      "text/plain": [
       "[{'role': 'system',\n",
       "  'content': 'You are an expert in classifying a given text into Spam and Ham'},\n",
       " {'role': 'user',\n",
       "  'content': 'Please extract label of the following text.\\nChange in TER Schemes of quant mutual fund'}]"
      ]
     },
     "execution_count": 30,
     "metadata": {},
     "output_type": "execute_result"
    }
   ],
   "source": [
    "prompt.messages"
   ]
  },
  {
   "cell_type": "code",
   "execution_count": 31,
   "id": "6ef1c449-173b-4007-a911-c214fa5c2ed7",
   "metadata": {},
   "outputs": [
    {
     "data": {
      "text/plain": [
       "RunnableBinding(bound=ChatGroq(client=<groq.resources.chat.completions.Completions object at 0x7fdb2ba48ec0>, async_client=<groq.resources.chat.completions.AsyncCompletions object at 0x7fdb2ba49820>, model_name='llama3-groq-70b-8192-tool-use-preview', temperature=1e-08, groq_api_key=SecretStr('**********')), kwargs={'tools': [{'type': 'function', 'function': {'name': 'Classification', 'description': 'Function that Classifies the text into Spam or Ham', 'parameters': {'type': 'object', 'properties': {'classification_label': {'enum': ['Spam', 'Ham', 'spam', 'ham'], 'type': 'string'}, 'explanation': {'description': 'Explain why you gave that label to this text. Keep your answers short and precise. I will tip you $20 for a good explanation. ', 'type': 'string'}}}}}], 'tool_choice': {'type': 'function', 'function': {'name': 'Classification'}}})\n",
       "| PydanticToolsParser(first_tool_only=True, tools=[<class '__main__.Classification'>])"
      ]
     },
     "execution_count": 31,
     "metadata": {},
     "output_type": "execute_result"
    }
   ],
   "source": [
    "llama_70b_llm_cls_head"
   ]
  },
  {
   "cell_type": "code",
   "execution_count": 32,
   "id": "8210e5c0-5695-43b5-ac2a-3d4aab3babb6",
   "metadata": {},
   "outputs": [
    {
     "data": {
      "text/plain": [
       "[{'role': 'system',\n",
       "  'content': \"You are an expert in classifying a given text into Spam or Ham.\\nThese are some of the examples that you can use to do this task.\\n \\nText: Been running but only managed 5 minutes and then needed oxygen! Might have to resort to the roller option! Label: ham\\n \\nText: Omg how did u know what I ate? Label: ham\\n \\nText: Hi here. have birth at on the  to  at 8lb 7oz. Mother and baby doing brilliantly. Label: ham\\n \\nText: Haha yeah, 2 oz is kind of a shitload Label: ham\\n \\nText: Aah! A cuddle would be lush! I'd need lots of tea and soup before any kind of fumbling! Label: ham\\n \\nText: Free video camera phones with Half Price line rental for 12 mths and 500 cross ntwk mins 100 txts. Call MobileUpd8 08001950382 or Call2OptOut/674 Label: spam\\n \\nText: U have a secret admirer who is looking 2 make contact with U-find out who they R*reveal who thinks UR so special-call on 09058094599 Label: spam\\n \\nText: If you don't, your prize will go to another customer. T&C at www.t-c.biz 18+ 150p/min Polo Ltd Suite 373 London W1J 6HL Please call back if busy Label: spam\\n \\nText: As one of our registered subscribers u can enter the draw 4 a 100 G.B. gift voucher by replying with ENTER. To unsubscribe text STOP Label: spam\\n \\nText: **FREE MESSAGE**Thanks for using the Auction Subscription Service. 18 . 150p/MSGRCVD 2 Skip an Auction txt OUT. 2 Unsubscribe txt STOP CustomerCare 08718726270 Label: spam\"},\n",
       " {'role': 'user',\n",
       "  'content': 'Extract the properties listed in Classification function : No Deposit Required. Play for FREE and Win for Real!..-ettzhr.'}]"
      ]
     },
     "execution_count": 32,
     "metadata": {},
     "output_type": "execute_result"
    }
   ],
   "source": [
    "few_shot_prompt.messages"
   ]
  },
  {
   "cell_type": "code",
   "execution_count": 33,
   "id": "42c32321-9460-4d9c-a972-50809731912e",
   "metadata": {},
   "outputs": [
    {
     "data": {
      "text/plain": [
       "AIMessage(content='The given text is a spam message. It contains several characteristics that are typical of spam messages, such as:\\n\\n1. Urgency: The message creates a sense of urgency by stating \"No Deposit Required\" and \"Play for FREE and Win for Real!\" which is a common tactic used by spammers to get the recipient\\'s attention.\\n\\n2. Misleading information: The message is misleading as it claims that the recipient can win for real without making any deposit, which is likely not true.\\n\\n3. Use of abbreviations and symbols: The message uses abbreviations and symbols like \"ettzhr\" which is not a common practice in legitimate messages.\\n\\n4. Lack of personalization: The message does not address the recipient by name, indicating that it is a mass spam message.\\n\\n5. Suspicious link: The message contains a suspicious link \"ettzhr\" which may lead to a phishing or malware site.\\n\\nBased on these characteristics, the text can be classified as spam.', response_metadata={'token_usage': {'completion_tokens': 197, 'prompt_tokens': 421, 'total_tokens': 618, 'completion_time': 0.633444274, 'prompt_time': 0.030477088, 'queue_time': 0.0021507320000000024, 'total_time': 0.663921362}, 'model_name': 'llama3-groq-70b-8192-tool-use-preview', 'system_fingerprint': 'fp_ee4b521143', 'finish_reason': 'stop', 'logprobs': None}, id='run-2067f181-e53b-4ee7-bbcc-c52a038fcbf6-0', usage_metadata={'input_tokens': 421, 'output_tokens': 197, 'total_tokens': 618})"
      ]
     },
     "execution_count": 33,
     "metadata": {},
     "output_type": "execute_result"
    }
   ],
   "source": [
    "llama_70b_llm.invoke(few_shot_prompt.messages)"
   ]
  },
  {
   "cell_type": "code",
   "execution_count": 34,
   "id": "d225a19c-9799-4d6d-931f-ac8cf7d9647c",
   "metadata": {},
   "outputs": [],
   "source": [
    "result = llama_70b_llm_cls_head.invoke(few_shot_prompt.messages)"
   ]
  },
  {
   "cell_type": "code",
   "execution_count": 35,
   "id": "aedae384-164a-46b3-9efa-4eb0cdbea994",
   "metadata": {},
   "outputs": [
    {
     "data": {
      "text/plain": [
       "Classification(classification_label='spam', explanation='The text contains promotional language and a call to action, which is typical of spam messages.')"
      ]
     },
     "execution_count": 35,
     "metadata": {},
     "output_type": "execute_result"
    }
   ],
   "source": [
    "result"
   ]
  },
  {
   "cell_type": "markdown",
   "id": "33dc2027-76aa-48fe-892a-c03397bdd066",
   "metadata": {},
   "source": [
    "##### Validation"
   ]
  },
  {
   "cell_type": "code",
   "execution_count": 36,
   "id": "62fcd679-42f5-4c12-bab8-d1d8a85e6cf1",
   "metadata": {},
   "outputs": [],
   "source": [
    "import time"
   ]
  },
  {
   "cell_type": "code",
   "execution_count": 37,
   "id": "7d67f83f-3817-4baf-ad46-de433b0f786f",
   "metadata": {},
   "outputs": [],
   "source": [
    "def run_zero_shot_classification(ds, model, template, text_column= \"sms\", classes=\"Spam or Ham\"):\n",
    "    \"\"\"\n",
    "    Runs few-shot classification on a given dataset.\n",
    "\n",
    "    Parameters:\n",
    "    - ds: The dataset containing test samples.\n",
    "    - model: The language model to invoke for classification.\n",
    "    - template: The template string to generate prompts.\n",
    "    - samples: The few-shot examples to include in the prompt.\n",
    "    - classes: The classes for text classification. Default is \"Spam or Ham\".\n",
    "\n",
    "    Returns:\n",
    "    - A list of classified samples with labels and explanations.\n",
    "    \"\"\"\n",
    "    zero_shot_results = []\n",
    "    \n",
    "    for each_sample in tqdm(ds['test']):\n",
    "        template_data = {\n",
    "            \"text_classfication_classes\": classes,\n",
    "            \"text\": each_sample[text_column].strip(),\n",
    "        }\n",
    "        zero_shot_prompt = Prompt(\n",
    "            raw_template=template,\n",
    "            template_data=template_data\n",
    "        )\n",
    "        # print(zero_shot_prompt.messages)\n",
    "        validation = model.invoke(zero_shot_prompt.messages)\n",
    "        each_sample['classification_label'] = validation.classification_label\n",
    "        each_sample['explanation'] = validation.explanation\n",
    "        zero_shot_results.append(each_sample)\n",
    "    \n",
    "    return zero_shot_results"
   ]
  },
  {
   "cell_type": "code",
   "execution_count": 38,
   "id": "0959322a-0209-4894-a24a-c22a4de0bbf5",
   "metadata": {},
   "outputs": [
    {
     "data": {
      "text/plain": [
       "RunnableBinding(bound=ChatGroq(client=<groq.resources.chat.completions.Completions object at 0x7fdb2ba48ec0>, async_client=<groq.resources.chat.completions.AsyncCompletions object at 0x7fdb2ba49820>, model_name='llama3-groq-70b-8192-tool-use-preview', temperature=1e-08, groq_api_key=SecretStr('**********')), kwargs={'tools': [{'type': 'function', 'function': {'name': 'Classification', 'description': 'Function that Classifies the text into Spam or Ham', 'parameters': {'type': 'object', 'properties': {'classification_label': {'enum': ['Spam', 'Ham', 'spam', 'ham'], 'type': 'string'}, 'explanation': {'description': 'Explain why you gave that label to this text. Keep your answers short and precise. I will tip you $20 for a good explanation. ', 'type': 'string'}}}}}], 'tool_choice': {'type': 'function', 'function': {'name': 'Classification'}}})\n",
       "| PydanticToolsParser(first_tool_only=True, tools=[<class '__main__.Classification'>])"
      ]
     },
     "execution_count": 38,
     "metadata": {},
     "output_type": "execute_result"
    }
   ],
   "source": [
    "llama_70b_llm_cls_head"
   ]
  },
  {
   "cell_type": "code",
   "execution_count": 39,
   "id": "2d097ef8-5b66-4393-9c6f-f2fab9e886c9",
   "metadata": {},
   "outputs": [],
   "source": [
    "zero_shot_template  = \"\"\"\n",
    "- name: system instructions\n",
    "  role: system\n",
    "  content: |\n",
    "   You are an expert in classifying a given text into {{ text_classfication_classes }}\n",
    "\n",
    "- name: user query\n",
    "  role: user\n",
    "  content: |\n",
    "   Please extract properies defined in Classification function from the following text.\n",
    "   {{ text }} \n",
    "\"\"\""
   ]
  },
  {
   "cell_type": "code",
   "execution_count": 40,
   "id": "e94a8f04-53c0-4acc-bf7f-a95cf411296f",
   "metadata": {},
   "outputs": [
    {
     "name": "stderr",
     "output_type": "stream",
     "text": [
      "100%|███████████████████████████████████████████████████████████████████████████████████| 56/56 [01:27<00:00,  1.56s/it]\n"
     ]
    }
   ],
   "source": [
    "zero_shot_results = run_zero_shot_classification(ds, llama_70b_llm_cls_head, \n",
    "                            zero_shot_template, classes=\"Spam or Ham\")"
   ]
  },
  {
   "cell_type": "code",
   "execution_count": 41,
   "id": "12319494-903b-4c52-88ea-eb7052b4d380",
   "metadata": {},
   "outputs": [],
   "source": [
    "zero_shot_results = pd.DataFrame(zero_shot_results)"
   ]
  },
  {
   "cell_type": "code",
   "execution_count": 42,
   "id": "7865cebc-9c65-42d4-9642-aa6155d95da3",
   "metadata": {},
   "outputs": [
    {
     "data": {
      "text/html": [
       "<div>\n",
       "<style scoped>\n",
       "    .dataframe tbody tr th:only-of-type {\n",
       "        vertical-align: middle;\n",
       "    }\n",
       "\n",
       "    .dataframe tbody tr th {\n",
       "        vertical-align: top;\n",
       "    }\n",
       "\n",
       "    .dataframe thead th {\n",
       "        text-align: right;\n",
       "    }\n",
       "</style>\n",
       "<table border=\"1\" class=\"dataframe\">\n",
       "  <thead>\n",
       "    <tr style=\"text-align: right;\">\n",
       "      <th></th>\n",
       "      <th>sms</th>\n",
       "      <th>label</th>\n",
       "      <th>classification_label</th>\n",
       "      <th>explanation</th>\n",
       "    </tr>\n",
       "  </thead>\n",
       "  <tbody>\n",
       "  </tbody>\n",
       "</table>\n",
       "</div>"
      ],
      "text/plain": [
       "Empty DataFrame\n",
       "Columns: [sms, label, classification_label, explanation]\n",
       "Index: []"
      ]
     },
     "execution_count": 42,
     "metadata": {},
     "output_type": "execute_result"
    }
   ],
   "source": [
    "zero_shot_results[zero_shot_results['classification_label'].isna()]"
   ]
  },
  {
   "cell_type": "code",
   "execution_count": 49,
   "id": "4796d96e-8b3c-406d-a021-75265a46407e",
   "metadata": {},
   "outputs": [],
   "source": [
    "zero_shot_results['classification_id'] = zero_shot_results['classification_label'].apply(lambda x: 1 if x == \"spam\" or x==\"Spam\" else 0)"
   ]
  },
  {
   "cell_type": "code",
   "execution_count": 50,
   "id": "629601dc-7c42-4243-ac6c-3f2095fe0186",
   "metadata": {},
   "outputs": [
    {
     "data": {
      "text/plain": [
       "0.8392857142857143"
      ]
     },
     "execution_count": 50,
     "metadata": {},
     "output_type": "execute_result"
    }
   ],
   "source": [
    "# Acuuracy\n",
    "(zero_shot_results['label'] == zero_shot_results['classification_id']).sum() / zero_shot_results.shape[0]"
   ]
  },
  {
   "cell_type": "code",
   "execution_count": 51,
   "id": "6166448a-330f-4697-b5d5-9706bf19bd1e",
   "metadata": {},
   "outputs": [
    {
     "data": {
      "text/plain": [
       "label\n",
       "0    48\n",
       "1     8\n",
       "Name: count, dtype: int64"
      ]
     },
     "execution_count": 51,
     "metadata": {},
     "output_type": "execute_result"
    }
   ],
   "source": [
    "zero_shot_results['label'].value_counts()"
   ]
  },
  {
   "cell_type": "code",
   "execution_count": 52,
   "id": "8fc17a4d-dba3-4b79-b469-79b300c6d840",
   "metadata": {},
   "outputs": [
    {
     "data": {
      "text/plain": [
       "classification_label\n",
       "Ham     39\n",
       "Spam    17\n",
       "Name: count, dtype: int64"
      ]
     },
     "execution_count": 52,
     "metadata": {},
     "output_type": "execute_result"
    }
   ],
   "source": [
    "zero_shot_results['classification_label'].value_counts()"
   ]
  },
  {
   "cell_type": "code",
   "execution_count": 53,
   "id": "fef23823-473b-439d-b141-fb2374bc34be",
   "metadata": {},
   "outputs": [
    {
     "data": {
      "text/html": [
       "<div>\n",
       "<style scoped>\n",
       "    .dataframe tbody tr th:only-of-type {\n",
       "        vertical-align: middle;\n",
       "    }\n",
       "\n",
       "    .dataframe tbody tr th {\n",
       "        vertical-align: top;\n",
       "    }\n",
       "\n",
       "    .dataframe thead th {\n",
       "        text-align: right;\n",
       "    }\n",
       "</style>\n",
       "<table border=\"1\" class=\"dataframe\">\n",
       "  <thead>\n",
       "    <tr style=\"text-align: right;\">\n",
       "      <th></th>\n",
       "      <th>sms</th>\n",
       "      <th>label</th>\n",
       "      <th>classification_label</th>\n",
       "      <th>explanation</th>\n",
       "      <th>classification_id</th>\n",
       "    </tr>\n",
       "  </thead>\n",
       "  <tbody>\n",
       "    <tr>\n",
       "      <th>0</th>\n",
       "      <td>Hi! You just spoke to MANEESHA V. We'd like to...</td>\n",
       "      <td>0</td>\n",
       "      <td>Spam</td>\n",
       "      <td>The text is a spam message as it is a generic ...</td>\n",
       "      <td>1</td>\n",
       "    </tr>\n",
       "    <tr>\n",
       "      <th>4</th>\n",
       "      <td>Perhaps * is much easy give your account ident...</td>\n",
       "      <td>0</td>\n",
       "      <td>Spam</td>\n",
       "      <td>The text contains a request for personal infor...</td>\n",
       "      <td>1</td>\n",
       "    </tr>\n",
       "    <tr>\n",
       "      <th>14</th>\n",
       "      <td>I want to lick your pussy now...\\n</td>\n",
       "      <td>0</td>\n",
       "      <td>Spam</td>\n",
       "      <td>The text contains explicit content and is like...</td>\n",
       "      <td>1</td>\n",
       "    </tr>\n",
       "    <tr>\n",
       "      <th>17</th>\n",
       "      <td>HI BABE IM AT HOME NOW WANNA DO SOMETHING? XX\\n</td>\n",
       "      <td>0</td>\n",
       "      <td>Spam</td>\n",
       "      <td>The text contains overly casual language and a...</td>\n",
       "      <td>1</td>\n",
       "    </tr>\n",
       "    <tr>\n",
       "      <th>35</th>\n",
       "      <td>See the forwarding message for proof\\n</td>\n",
       "      <td>0</td>\n",
       "      <td>Spam</td>\n",
       "      <td>The text appears to be a spam message as it is...</td>\n",
       "      <td>1</td>\n",
       "    </tr>\n",
       "    <tr>\n",
       "      <th>45</th>\n",
       "      <td>Or better still can you catch her and let ask ...</td>\n",
       "      <td>0</td>\n",
       "      <td>Spam</td>\n",
       "      <td>The text contains a request to sell a product,...</td>\n",
       "      <td>1</td>\n",
       "    </tr>\n",
       "    <tr>\n",
       "      <th>46</th>\n",
       "      <td>How are you with moneY...as in to you...money ...</td>\n",
       "      <td>0</td>\n",
       "      <td>Spam</td>\n",
       "      <td>The text contains nonsensical and irrelevant c...</td>\n",
       "      <td>1</td>\n",
       "    </tr>\n",
       "    <tr>\n",
       "      <th>48</th>\n",
       "      <td>That's fine, I'll bitch at you about it later ...</td>\n",
       "      <td>0</td>\n",
       "      <td>Spam</td>\n",
       "      <td>The text contains aggressive language and a ne...</td>\n",
       "      <td>1</td>\n",
       "    </tr>\n",
       "    <tr>\n",
       "      <th>54</th>\n",
       "      <td>\"NOT ENUFCREDEIT TOCALL.SHALL ILEAVE UNI AT 6 ...</td>\n",
       "      <td>0</td>\n",
       "      <td>Spam</td>\n",
       "      <td>The text contains abbreviations and lacks prop...</td>\n",
       "      <td>1</td>\n",
       "    </tr>\n",
       "  </tbody>\n",
       "</table>\n",
       "</div>"
      ],
      "text/plain": [
       "                                                  sms  label  \\\n",
       "0   Hi! You just spoke to MANEESHA V. We'd like to...      0   \n",
       "4   Perhaps * is much easy give your account ident...      0   \n",
       "14                 I want to lick your pussy now...\\n      0   \n",
       "17    HI BABE IM AT HOME NOW WANNA DO SOMETHING? XX\\n      0   \n",
       "35             See the forwarding message for proof\\n      0   \n",
       "45  Or better still can you catch her and let ask ...      0   \n",
       "46  How are you with moneY...as in to you...money ...      0   \n",
       "48  That's fine, I'll bitch at you about it later ...      0   \n",
       "54  \"NOT ENUFCREDEIT TOCALL.SHALL ILEAVE UNI AT 6 ...      0   \n",
       "\n",
       "   classification_label                                        explanation  \\\n",
       "0                  Spam  The text is a spam message as it is a generic ...   \n",
       "4                  Spam  The text contains a request for personal infor...   \n",
       "14                 Spam  The text contains explicit content and is like...   \n",
       "17                 Spam  The text contains overly casual language and a...   \n",
       "35                 Spam  The text appears to be a spam message as it is...   \n",
       "45                 Spam  The text contains a request to sell a product,...   \n",
       "46                 Spam  The text contains nonsensical and irrelevant c...   \n",
       "48                 Spam  The text contains aggressive language and a ne...   \n",
       "54                 Spam  The text contains abbreviations and lacks prop...   \n",
       "\n",
       "    classification_id  \n",
       "0                   1  \n",
       "4                   1  \n",
       "14                  1  \n",
       "17                  1  \n",
       "35                  1  \n",
       "45                  1  \n",
       "46                  1  \n",
       "48                  1  \n",
       "54                  1  "
      ]
     },
     "execution_count": 53,
     "metadata": {},
     "output_type": "execute_result"
    }
   ],
   "source": [
    "zero_shot_results[zero_shot_results['label'] != zero_shot_results['classification_id']]"
   ]
  },
  {
   "cell_type": "code",
   "execution_count": 54,
   "id": "2f0456a1-7b58-4a47-b093-17b7aa3051a2",
   "metadata": {},
   "outputs": [],
   "source": [
    "def run_few_shot_classification(ds, model, template, samples, text_column= \"sms\", classes=\"Spam or Ham\"):\n",
    "    \"\"\"\n",
    "    Runs few-shot classification on a given dataset.\n",
    "\n",
    "    Parameters:\n",
    "    - ds: The dataset containing test samples.\n",
    "    - model: The language model to invoke for classification.\n",
    "    - template: The template string to generate prompts.\n",
    "    - samples: The few-shot examples to include in the prompt.\n",
    "    - classes: The classes for text classification. Default is \"Spam or Ham\".\n",
    "\n",
    "    Returns:\n",
    "    - A list of classified samples with labels and explanations.\n",
    "    \"\"\"\n",
    "    few_shot_results = []\n",
    "    \n",
    "    for each_sample in tqdm(ds['test']):\n",
    "        template_data = {\n",
    "            \"text_classfication_classes\": classes,\n",
    "            \"text\": each_sample['sms'].strip(),\n",
    "            \"samples\": samples\n",
    "        }\n",
    "        few_shot_prompt = Prompt(\n",
    "            raw_template=template,\n",
    "            template_data=template_data\n",
    "        )\n",
    "        validation = model.invoke(few_shot_prompt.messages)\n",
    "        each_sample['classification_label'] = validation.classification_label\n",
    "        each_sample['explanation'] = validation.explanation\n",
    "        few_shot_results.append(each_sample)\n",
    "    \n",
    "    return few_shot_results"
   ]
  },
  {
   "cell_type": "code",
   "execution_count": 55,
   "id": "ed7a8a4f-072a-4121-a941-9c4ff6050090",
   "metadata": {},
   "outputs": [
    {
     "name": "stdout",
     "output_type": "stream",
     "text": [
      "\n",
      "- name: system instructions\n",
      "  role: system\n",
      "  content: |\n",
      "   You are an expert in classifying a given text into {{ text_classfication_classes }}.\n",
      "   These are some of the examples that you can use to do this task.\n",
      "   {% for each_example, each_label in samples %} \n",
      "   Text: {{ each_example }} Label: {{ each_label}}\n",
      "   {% endfor %}\n",
      "\n",
      "- name: user query\n",
      "  role: user\n",
      "  content: |\n",
      "   Extract the properties listed in Classification function : {{ escape_special_characters(text) }} \n",
      "\n"
     ]
    }
   ],
   "source": [
    "print(few_shot_template)"
   ]
  },
  {
   "cell_type": "code",
   "execution_count": 56,
   "id": "e63514a3-83c7-4d25-8ca6-7b93c9cbc2cb",
   "metadata": {},
   "outputs": [
    {
     "name": "stderr",
     "output_type": "stream",
     "text": [
      "100%|███████████████████████████████████████████████████████████████████████████████████| 56/56 [01:41<00:00,  1.82s/it]\n"
     ]
    }
   ],
   "source": [
    "few_shot_results = run_few_shot_classification(ds, llama_70b_llm_cls_head, \n",
    "                            few_shot_template, samples=samples, text_column= \"sms\", classes=\"Spam or Ham\")"
   ]
  },
  {
   "cell_type": "code",
   "execution_count": 57,
   "id": "65747a6b-ded0-4c99-9b27-8e6b1ed27da6",
   "metadata": {},
   "outputs": [],
   "source": [
    "few_shot_results = pd.DataFrame(few_shot_results)"
   ]
  },
  {
   "cell_type": "code",
   "execution_count": 58,
   "id": "eecab9f8-a8a3-4c63-baac-41a1126ddeb2",
   "metadata": {},
   "outputs": [
    {
     "data": {
      "text/html": [
       "<div>\n",
       "<style scoped>\n",
       "    .dataframe tbody tr th:only-of-type {\n",
       "        vertical-align: middle;\n",
       "    }\n",
       "\n",
       "    .dataframe tbody tr th {\n",
       "        vertical-align: top;\n",
       "    }\n",
       "\n",
       "    .dataframe thead th {\n",
       "        text-align: right;\n",
       "    }\n",
       "</style>\n",
       "<table border=\"1\" class=\"dataframe\">\n",
       "  <thead>\n",
       "    <tr style=\"text-align: right;\">\n",
       "      <th></th>\n",
       "      <th>sms</th>\n",
       "      <th>label</th>\n",
       "      <th>classification_label</th>\n",
       "      <th>explanation</th>\n",
       "    </tr>\n",
       "  </thead>\n",
       "  <tbody>\n",
       "    <tr>\n",
       "      <th>1</th>\n",
       "      <td>Ok but tell me half an hr b4 u come i need 2 p...</td>\n",
       "      <td>0</td>\n",
       "      <td>None</td>\n",
       "      <td>None</td>\n",
       "    </tr>\n",
       "    <tr>\n",
       "      <th>31</th>\n",
       "      <td>Hey so whats the plan this sat? \\n</td>\n",
       "      <td>0</td>\n",
       "      <td>None</td>\n",
       "      <td>None</td>\n",
       "    </tr>\n",
       "  </tbody>\n",
       "</table>\n",
       "</div>"
      ],
      "text/plain": [
       "                                                  sms  label  \\\n",
       "1   Ok but tell me half an hr b4 u come i need 2 p...      0   \n",
       "31                 Hey so whats the plan this sat? \\n      0   \n",
       "\n",
       "   classification_label explanation  \n",
       "1                  None        None  \n",
       "31                 None        None  "
      ]
     },
     "execution_count": 58,
     "metadata": {},
     "output_type": "execute_result"
    }
   ],
   "source": [
    "few_shot_results[few_shot_results['classification_label'].isna()]"
   ]
  },
  {
   "cell_type": "code",
   "execution_count": 64,
   "id": "acdc80d7-490a-4e9b-953c-a9af2ca6e31f",
   "metadata": {},
   "outputs": [],
   "source": [
    "few_shot_results = few_shot_results[~few_shot_results['classification_label'].isna()]"
   ]
  },
  {
   "cell_type": "code",
   "execution_count": 65,
   "id": "ba009582-27bc-4f3e-b074-b492c960f39a",
   "metadata": {},
   "outputs": [],
   "source": [
    "few_shot_results['classification_id'] = few_shot_results['classification_label'].apply(lambda x: 1 if x == \"spam\" else 0)"
   ]
  },
  {
   "cell_type": "code",
   "execution_count": 66,
   "id": "8825cd07-701c-4195-95ff-8260fb0b8948",
   "metadata": {},
   "outputs": [
    {
     "data": {
      "text/plain": [
       "0.9285714285714286"
      ]
     },
     "execution_count": 66,
     "metadata": {},
     "output_type": "execute_result"
    }
   ],
   "source": [
    "# Acuuracy\n",
    "(few_shot_results['label'] == few_shot_results['classification_id']).sum() / zero_shot_results.shape[0]"
   ]
  },
  {
   "cell_type": "code",
   "execution_count": 72,
   "id": "31bfd216-f724-4695-b909-c6f64b85dedc",
   "metadata": {},
   "outputs": [
    {
     "data": {
      "text/html": [
       "<div>\n",
       "<style scoped>\n",
       "    .dataframe tbody tr th:only-of-type {\n",
       "        vertical-align: middle;\n",
       "    }\n",
       "\n",
       "    .dataframe tbody tr th {\n",
       "        vertical-align: top;\n",
       "    }\n",
       "\n",
       "    .dataframe thead th {\n",
       "        text-align: right;\n",
       "    }\n",
       "</style>\n",
       "<table border=\"1\" class=\"dataframe\">\n",
       "  <thead>\n",
       "    <tr style=\"text-align: right;\">\n",
       "      <th></th>\n",
       "      <th>sms</th>\n",
       "      <th>label</th>\n",
       "      <th>classification_label</th>\n",
       "      <th>explanation</th>\n",
       "      <th>classification_id</th>\n",
       "    </tr>\n",
       "  </thead>\n",
       "  <tbody>\n",
       "    <tr>\n",
       "      <th>0</th>\n",
       "      <td>Hi! You just spoke to MANEESHA V. We'd like to...</td>\n",
       "      <td>0</td>\n",
       "      <td>spam</td>\n",
       "      <td>The text contains a request for feedback and a...</td>\n",
       "      <td>1</td>\n",
       "    </tr>\n",
       "  </tbody>\n",
       "</table>\n",
       "</div>"
      ],
      "text/plain": [
       "                                                 sms  label  \\\n",
       "0  Hi! You just spoke to MANEESHA V. We'd like to...      0   \n",
       "\n",
       "  classification_label                                        explanation  \\\n",
       "0                 spam  The text contains a request for feedback and a...   \n",
       "\n",
       "   classification_id  \n",
       "0                  1  "
      ]
     },
     "execution_count": 72,
     "metadata": {},
     "output_type": "execute_result"
    }
   ],
   "source": [
    "few_shot_results[few_shot_results['label'] != few_shot_results['classification_id']].head(1)"
   ]
  },
  {
   "cell_type": "code",
   "execution_count": 68,
   "id": "63cf737c-4aaa-4866-b423-f49ece7f39ce",
   "metadata": {},
   "outputs": [
    {
     "data": {
      "text/plain": [
       "\"Hi! You just spoke to MANEESHA V. We'd like to know if you were satisfied with the experience. Reply Toll Free with Yes or No.\\n\""
      ]
     },
     "execution_count": 68,
     "metadata": {},
     "output_type": "execute_result"
    }
   ],
   "source": [
    "few_shot_results[few_shot_results['label'] != few_shot_results['classification_id']]['sms'].iloc[0]"
   ]
  },
  {
   "cell_type": "code",
   "execution_count": 69,
   "id": "760a8e5b-ff3b-4b73-88e7-18f8a49d6539",
   "metadata": {},
   "outputs": [
    {
     "data": {
      "text/plain": [
       "'The text contains a request for feedback and a toll-free number, which is a common tactic used in spam messages.'"
      ]
     },
     "execution_count": 69,
     "metadata": {},
     "output_type": "execute_result"
    }
   ],
   "source": [
    "few_shot_results[few_shot_results['label'] != few_shot_results['classification_id']]['explanation'].iloc[0]"
   ]
  },
  {
   "cell_type": "markdown",
   "id": "dd6a5419-d9e2-456a-a8e4-1c3c7bf86ea4",
   "metadata": {},
   "source": [
    "We developed a model with more than 92% accuracy by leveraging the capabilities of LLMs to generalize (it's probably fine tuned on this dataset as well)."
   ]
  },
  {
   "cell_type": "markdown",
   "id": "0244ce9b-f7cf-40eb-8125-9142def65381",
   "metadata": {},
   "source": [
    "Things to consider:\n",
    "\n",
    "* LLM has been pretrained on lot of tasks, this performance could be misleading because this task would have been trained already.\n",
    "* Are LLMs learning how we are learning? Or is it just remembering / retrieving things?\n",
    "* LLMs can return good looking answers confidently even when uncertain\n",
    "\n",
    "Some advancements to consider:\n",
    "\n",
    "* Which samples to show? Can we maintain diversity of the samples?\n",
    "* Number of samples "
   ]
  },
  {
   "cell_type": "markdown",
   "id": "80dd40c1-31b7-44df-bb51-58465a87a36c",
   "metadata": {},
   "source": [
    "# Token Classification"
   ]
  },
  {
   "cell_type": "code",
   "execution_count": 1,
   "id": "cd260ca6-0861-470e-b2be-f9243f9d6480",
   "metadata": {},
   "outputs": [],
   "source": [
    "from langchain_core.prompts import ChatPromptTemplate\n",
    "from langchain_groq import ChatGroq\n",
    "from typing import List, Literal, Annotated\n",
    "from langchain_core.pydantic_v1 import BaseModel, Field\n",
    "from langchain_core.tools import tool\n",
    "import getpass\n",
    "import numpy as np\n",
    "from datasets import load_dataset\n",
    "from prompt_poet import Prompt\n",
    "from tqdm import tqdm\n",
    "import pandas as pd\n",
    "from devtools import pprint\n",
    "from typing import List, Optional"
   ]
  },
  {
   "cell_type": "code",
   "execution_count": 2,
   "id": "d2149feb-18e3-44ca-a31e-daabf880db28",
   "metadata": {},
   "outputs": [
    {
     "name": "stdin",
     "output_type": "stream",
     "text": [
      " ········\n"
     ]
    }
   ],
   "source": [
    "groq_api_key = getpass.getpass()"
   ]
  },
  {
   "cell_type": "code",
   "execution_count": 3,
   "id": "6bf59bda-e81b-42c1-8415-50e3766b4c33",
   "metadata": {},
   "outputs": [],
   "source": [
    "MaxLengthStr = Annotated[str, Field(max_length=20)]\n",
    "\n",
    "class JobDescriptionExtraction(BaseModel):\n",
    "    job_title: str = Field(description=\"The Job title of the text, keep the title short, do not include any locations or other details apart from title\")\n",
    "    tech_skills: List[MaxLengthStr] = Field(description=\"Technical Skills mentioned in the text\")\n",
    "    soft_skills: List[MaxLengthStr] = Field(description=\"Soft Skills mentioned in the text\")\n",
    "    certifications: List[MaxLengthStr] = Field(description=\"Certifications mentioned in the text\")\n",
    "    locations: List[str] = Field(description=\"Geographical Locations mentioned in Job Description if any. Otherwise return an empty list\")"
   ]
  },
  {
   "cell_type": "markdown",
   "id": "c6bb978a-e4a4-451c-8dfb-a3f5ce0f612a",
   "metadata": {},
   "source": [
    "Let's say we want to extract certain entities from raw text. The generic task of such type could be formulated as as token classification problem.\n",
    "\n",
    "Eg: POS tagging, Named entity recognition etc.\n",
    "\n",
    "#### Traditional Methods\n",
    "\n",
    "- Creation of data labels at a token or word level\n",
    "- For multiword phrases, creating Begin-Inside-End tokens\n",
    "- Training sequential models HMM, LSTM etc.\n",
    "- Labelling is an exhaustive effort.\n",
    "- Feature engineering is necessary.\n",
    "- Generalization beyond the domain in which model is trained for is not possible.\n",
    "- Distributional learning methods like Word2vec help but not by a lot\n",
    "- Lot of applications in the industry:\n",
    "- Aspect level sentiment analysis: Product - Feature - Sentiment\n",
    "- Getting structured data from unstructured text"
   ]
  },
  {
   "cell_type": "markdown",
   "id": "4e5c90ff-255d-427d-b2c9-f175479ab9f1",
   "metadata": {},
   "source": [
    "As an example, let's see if we can use a pretrained LLM to directly extract entities from a Job description using Zero-shot approach."
   ]
  },
  {
   "cell_type": "code",
   "execution_count": 4,
   "id": "9c0395ff-0015-4d45-85c2-e7571abcafc6",
   "metadata": {},
   "outputs": [],
   "source": [
    "raw_template = \"\"\"\n",
    "- name: system instructions\n",
    "  role: system\n",
    "  content: |\n",
    "    You are an expert in classifying a given text into a job title and extracting properties defined in the JobDescriptionExtraction function. \n",
    "    Do not respond with anything other than the text mentioned in the text.\n",
    "\n",
    "- name: user query\n",
    "  role: user\n",
    "  content: |\n",
    "    Please extract properties defined in the JobDescriptionExtraction function: \n",
    "    {{ escape_special_characters(text) }}\n",
    "\"\"\""
   ]
  },
  {
   "cell_type": "code",
   "execution_count": 5,
   "id": "1c45948a-0693-48e3-bd0e-2ce5fc49598e",
   "metadata": {},
   "outputs": [],
   "source": [
    "template_data = {\"text\" : '''\n",
    "Data Scientist VP - Chief Data Office India, Bengaluruor Mumbai\n",
    "\n",
    "Description\n",
    "\n",
    "As a Data Scientist with the Chief Data Office, you will shape the future of the Chief Administrative Office and its businesses by applying world-class machine learning expertise. You will collaborate on a wide array of product and business problems with a diverse set of cross-functional partners across Finance, Supplier Services, Data Security intelligence program, Global Real Estate and Customer Experience. You will use data and analysis to identify and solve our divisions biggest challenges and develop state-of-the art machine learning models to solve real-world problems. We have evolved from our ‘startup’ roots to become a credible strategic partner trusted by division wide leadership and are expanding now. By joining JP Morgan Chief Data Office (CAO), you will become part of a world-class Data science community dedicated to problem solving and career growth in ML/AI discipline and beyond.\n",
    "\n",
    "Product Owner: Develop and own ML products to drive business outcomes and influence your strategic partners, in a highly collaborative environment\n",
    "Research & Learning: The candidate must also have a strong passion for machine learning and invest independent time towards learning, researching, and experimenting with new innovations in the field.\n",
    "Problem-Solving: We want a strategic thinker with demonstrated problem-solving skills using Machine Learning Skills.\n",
    "\n",
    "Technical Skills\n",
    "\n",
    "Master’s in quantitative field (Computer Science, Mathematics, Statistics, or ML)\n",
    "6-8 years industry experience in data science / applied ML model development (must have)\n",
    "Strong knowledge and experience with Traditional ML, Deep Learning,LLM, NLP, time-series predictions, or recommendation systems (must have)\n",
    "Excellent python coding and algorithm skills (must have)\n",
    "Experience with data visualization techniques and software\n",
    "Foundational Statistics knowledge\n",
    "\n",
    "Additional Skills\n",
    "\n",
    "Experience driving AI adoption\n",
    "Experience with Data Querying (e.g., SQL, big data), A/B Testing\n",
    "Experience with Cloud based deployment (e.g., aws, azure), Engineering background\n",
    "Experience with python frameworks (e.g., pyspark, django, Flask, Bottle)\n",
    "Experience in financial markets or services firm\n",
    "\n",
    "ABOUT US\n",
    "\n",
    "JPMorgan Chase & Co., one of the oldest financial institutions, offers innovative financial solutions to millions of consumers, small businesses and many of the world’s most prominent corporate, institutional and government clients under the J.P. Morgan and Chase brands. Our history spans over 200 years and today we are a leader in investment banking, consumer and small business banking, commercial banking, financial transaction processing and asset management.\n",
    "\n",
    "We recognize that our people are our strength and the diverse talents they bring to our global workforce are directly linked to our success. We are an equal opportunity employer and place a high value on diversity and inclusion at our company. We do not discriminate on the basis of any protected attribute, including race, religion, color, national origin, gender, sexual orientation, gender identity, gender expression, age, marital or veteran status, pregnancy or disability, or any other basis protected under applicable law. We also make reasonable accommodations for applicants’ and employees’ religious practices and beliefs, as well as mental health or physical disability needs. Visit our FAQs for more information about requesting an accommodation.\n",
    "\n",
    "About The Team\n",
    "\n",
    "Our professionals in our Corporate Functions cover a diverse range of areas from finance and risk to human resources and marketing. Our corporate teams are an essential part of our company, ensuring that we’re setting our businesses, clients, customers and employees up for success.\n",
    "\n",
    "'''}"
   ]
  },
  {
   "cell_type": "code",
   "execution_count": 6,
   "id": "cfcd6d4a-8f42-4c86-bf92-950c6660fd5b",
   "metadata": {},
   "outputs": [],
   "source": [
    "llm_job_extraction = ChatGroq(temperature=0, model_name=\"llama3-groq-70b-8192-tool-use-preview\",\n",
    "                              api_key=groq_api_key).with_structured_output(JobDescriptionExtraction)"
   ]
  },
  {
   "cell_type": "code",
   "execution_count": 7,
   "id": "8dc47cf3-0bca-4fda-a1e2-e5255055dd8f",
   "metadata": {},
   "outputs": [],
   "source": [
    "prompt = Prompt(\n",
    "    raw_template=raw_template,\n",
    "    template_data=template_data\n",
    ")"
   ]
  },
  {
   "cell_type": "code",
   "execution_count": 8,
   "id": "7978d045-dd12-4b5c-88af-844f09b95723",
   "metadata": {},
   "outputs": [],
   "source": [
    "result = llm_job_extraction.invoke(prompt.messages)"
   ]
  },
  {
   "cell_type": "code",
   "execution_count": 9,
   "id": "ca7b8637-7405-4737-be2b-8a7d67c42eeb",
   "metadata": {},
   "outputs": [
    {
     "name": "stdout",
     "output_type": "stream",
     "text": [
      "JobDescriptionExtraction(\n",
      "    job_title='Data Scientist VP - Chief Data Office',\n",
      "    tech_skills=[\n",
      "        'Machine Learning',\n",
      "        'Deep Learning',\n",
      "        'LLM',\n",
      "        'NLP',\n",
      "        'time-series predictions',\n",
      "        'recommendation systems',\n",
      "        'Python',\n",
      "        'Data Querying',\n",
      "        'SQL',\n",
      "        'big data',\n",
      "        'Cloud based deployment',\n",
      "        'aws',\n",
      "        'azure',\n",
      "        'Engineering background',\n",
      "        'Python frameworks',\n",
      "        'pyspark',\n",
      "        'django',\n",
      "        'Flask',\n",
      "        'Bottle',\n",
      "    ],\n",
      "    soft_skills=[\n",
      "        'Strategic thinker',\n",
      "        'Problem-solving',\n",
      "        'Collaboration',\n",
      "        'Innovation',\n",
      "        'Adoption',\n",
      "        'Leadership',\n",
      "    ],\n",
      "    certifications=[],\n",
      "    locations=[\n",
      "        'India',\n",
      "        'Bengaluru',\n",
      "        'Mumbai',\n",
      "    ],\n",
      ")\n"
     ]
    }
   ],
   "source": [
    "pprint(result)"
   ]
  },
  {
   "cell_type": "markdown",
   "id": "b20a1ff5-d5f8-4059-9a38-94729fc4d0fd",
   "metadata": {},
   "source": [
    "#### Aspect level Sentiment "
   ]
  },
  {
   "cell_type": "code",
   "execution_count": 10,
   "id": "ba5c944b-fa25-4757-8568-461bea214803",
   "metadata": {},
   "outputs": [],
   "source": [
    "raw_template = \"\"\"\n",
    "- name: system instructions\n",
    "  role: system\n",
    "  content: |\n",
    "    You are an expert in identifying the sentiment of the review of a product into a positive, negative or neutral and extracting properties defined in the AspectLevelSentiments function. \n",
    "    Do not respond with anything other than the text mentioned in the text.\n",
    "\n",
    "- name: user query\n",
    "  role: user\n",
    "  content: |\n",
    "    Please extract properties defined in the AspectLevelSentiments function: \n",
    "    {{ escape_special_characters(text) }}\n",
    "\"\"\""
   ]
  },
  {
   "cell_type": "code",
   "execution_count": 11,
   "id": "6ebd52ff-b60e-45c8-8a8a-e8569b5fa0f7",
   "metadata": {},
   "outputs": [],
   "source": [
    "template_data = {\"text\": '''\n",
    "Pros\n",
    "1. Very good looking, especially the Oasis green variant.\n",
    "2. Very smooth without any stutters\n",
    "3. No heating in normal use and I am not a gamer.\n",
    "4. Longer software updates\n",
    "5. Good display and charges on 32 mins.\n",
    "Cons\n",
    "1. Average cameras\n",
    "2. Display should have been better in outdoor brightness.\n",
    "3. Battery drains faster even in power saver mode. Lasts only a day with average normal usage.\n",
    "4. Software experience in oxygen OS has been degraded and with some bugs.\n",
    "\n",
    "Overall an above average experience with the Nord 4.\n",
    "'''}"
   ]
  },
  {
   "cell_type": "code",
   "execution_count": 12,
   "id": "5c33feb8-12e8-423c-a611-fa143eb7034a",
   "metadata": {},
   "outputs": [],
   "source": [
    "class AspectLevelSentiment(BaseModel):\n",
    "    product_aspect: Optional[str] = Field(description=\"What aspect of the product is the user talking about\")\n",
    "    sentiment: Optional[str]= Field(enum=[\"positive\",\"negative\",\"neutral\"])\n",
    "    sentiment_term: Optional[str]= Field(description=\"term used to describe the sentiment on the aspect\")\n",
    "\n",
    "class AspectLevelSentiments(AspectLevelSentiment):\n",
    "    Sentiments: List[AspectLevelSentiment]"
   ]
  },
  {
   "cell_type": "code",
   "execution_count": 13,
   "id": "6674d72b-6212-4c86-86b5-ebd52ee06d70",
   "metadata": {},
   "outputs": [],
   "source": [
    "prompt = Prompt(\n",
    "    raw_template=raw_template,\n",
    "    template_data=template_data\n",
    ")"
   ]
  },
  {
   "cell_type": "code",
   "execution_count": 14,
   "id": "3047a804-449b-4d89-a607-3c7d0f11d161",
   "metadata": {},
   "outputs": [],
   "source": [
    "llm_aspect_sentiment = ChatGroq(temperature=0, model_name=\"llama3-groq-70b-8192-tool-use-preview\"\n",
    "                                ,api_key=groq_api_key).with_structured_output(AspectLevelSentiments)"
   ]
  },
  {
   "cell_type": "code",
   "execution_count": 15,
   "id": "5defe365-6576-453d-a8de-5fd9c1902c1b",
   "metadata": {},
   "outputs": [],
   "source": [
    "result = llm_aspect_sentiment.invoke(prompt.messages)"
   ]
  },
  {
   "cell_type": "code",
   "execution_count": 17,
   "id": "00dd7c13-b481-4c47-82c0-56396b0921aa",
   "metadata": {},
   "outputs": [
    {
     "name": "stdout",
     "output_type": "stream",
     "text": [
      "AspectLevelSentiments(\n",
      "    product_aspect=None,\n",
      "    sentiment=None,\n",
      "    sentiment_term=None,\n",
      "    Sentiments=[\n",
      "        AspectLevelSentiment(\n",
      "            product_aspect='appearance',\n",
      "            sentiment='positive',\n",
      "            sentiment_term='good looking',\n",
      "        ),\n",
      "        AspectLevelSentiment(\n",
      "            product_aspect='performance',\n",
      "            sentiment='positive',\n",
      "            sentiment_term='smooth',\n",
      "        ),\n",
      "        AspectLevelSentiment(\n",
      "            product_aspect='battery life',\n",
      "            sentiment='positive',\n",
      "            sentiment_term='no heating',\n",
      "        ),\n",
      "        AspectLevelSentiment(\n",
      "            product_aspect='software updates',\n",
      "            sentiment='positive',\n",
      "            sentiment_term='longer',\n",
      "        ),\n",
      "        AspectLevelSentiment(\n",
      "            product_aspect='display',\n",
      "            sentiment='positive',\n",
      "            sentiment_term='good',\n",
      "        ),\n",
      "        AspectLevelSentiment(\n",
      "            product_aspect='battery life',\n",
      "            sentiment='negative',\n",
      "            sentiment_term='drains faster',\n",
      "        ),\n",
      "        AspectLevelSentiment(\n",
      "            product_aspect='battery life',\n",
      "            sentiment='negative',\n",
      "            sentiment_term='lasts only a day',\n",
      "        ),\n",
      "        AspectLevelSentiment(\n",
      "            product_aspect='software experience',\n",
      "            sentiment='negative',\n",
      "            sentiment_term='degraded',\n",
      "        ),\n",
      "        AspectLevelSentiment(\n",
      "            product_aspect='software experience',\n",
      "            sentiment='negative',\n",
      "            sentiment_term='bugs',\n",
      "        ),\n",
      "        AspectLevelSentiment(\n",
      "            product_aspect='cameras',\n",
      "            sentiment='negative',\n",
      "            sentiment_term='average',\n",
      "        ),\n",
      "        AspectLevelSentiment(\n",
      "            product_aspect='display',\n",
      "            sentiment='negative',\n",
      "            sentiment_term='should have been better in outdoor brightness',\n",
      "        ),\n",
      "    ],\n",
      ")\n"
     ]
    }
   ],
   "source": [
    "pprint(result)"
   ]
  },
  {
   "cell_type": "code",
   "execution_count": null,
   "id": "4285d6d7-2767-4224-82ea-0079aa145274",
   "metadata": {},
   "outputs": [],
   "source": []
  }
 ],
 "metadata": {
  "kernelspec": {
   "display_name": "Python 3 (ipykernel)",
   "language": "python",
   "name": "python3"
  },
  "language_info": {
   "codemirror_mode": {
    "name": "ipython",
    "version": 3
   },
   "file_extension": ".py",
   "mimetype": "text/x-python",
   "name": "python",
   "nbconvert_exporter": "python",
   "pygments_lexer": "ipython3",
   "version": "3.12.2"
  }
 },
 "nbformat": 4,
 "nbformat_minor": 5
}
