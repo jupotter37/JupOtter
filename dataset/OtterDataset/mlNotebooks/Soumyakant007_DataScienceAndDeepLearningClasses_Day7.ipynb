{
 "cells": [
  {
   "cell_type": "markdown",
   "id": "c25cd235",
   "metadata": {},
   "source": [
    "# Machine Learning"
   ]
  },
  {
   "cell_type": "markdown",
   "id": "5ce1e7aa",
   "metadata": {},
   "source": [
    "- Intro\n",
    "- Supervised(linear, logistic, decision tree)\n",
    "- Unsupervised(Clustering and Association)\n",
    "- Evaluating Machine Learning models\n",
    "- Regularization and Hyper parameter tuning\n",
    "- Ensemble learning(Bagging and Boosting)"
   ]
  },
  {
   "cell_type": "markdown",
   "id": "c0547723",
   "metadata": {},
   "source": [
    "Alan mathison turing, father of AI.\n",
    "\n",
    "### The Turing test\n",
    "\n",
    "- Requires\n",
    "    - Natural Language\n",
    "    - Knowledge representation\n",
    "    - Automated reasoning\n",
    "    - Machine Learning\n",
    "    - (vision, robotics) for full test"
   ]
  },
  {
   "cell_type": "markdown",
   "id": "26d698ff",
   "metadata": {},
   "source": [
    "##### What is AI?\n",
    "\n",
    "It is the science and engineering of making intelligent machines, especia;lly intelligent computer programs. It is related to the similar task of using computers to understand human intelligence, but AI does not have to confine itself to methods that are biologically observable"
   ]
  },
  {
   "cell_type": "markdown",
   "id": "af0465c4",
   "metadata": {},
   "source": [
    "                                                                                                                                                         \n",
    "    +----------------------------------+---------------------------------+                                                                                        | Systems that think like human    |    System that think rationally |\n",
    "    |----------------------------------|-------------------------------- |                                                      | System that act like humans      |     System that act Rationally  |\n",
    "    +----------------------------------+---------------------------------+"
   ]
  },
  {
   "cell_type": "markdown",
   "id": "3c141a9f",
   "metadata": {},
   "source": [
    "- We will follow \"act rationally\" approach\n",
    "    - Disctinstion may not be that important\n",
    "        - acting rationally  like human presumably requires"
   ]
  },
  {
   "cell_type": "markdown",
   "id": "c3f94a5a",
   "metadata": {},
   "source": [
    "Ai\n",
    "- ML:\n",
    "    - Deep learning\n",
    "    - Predictive analysis\n",
    "- NLP\n",
    "    - translation\n",
    "    - classification and clustering\n",
    "    - information extraction\n",
    "- speech\n",
    "    - text to speech\n",
    "    - speech to text\n",
    "- expert systems\n",
    "- planning and  scheduling optimization\n",
    "- robotics\n",
    "- vision\n",
    "    - image recognition \n",
    "    - machine vision"
   ]
  },
  {
   "cell_type": "markdown",
   "id": "86ea032e",
   "metadata": {},
   "source": [
    "The art of making machine intelligent without explicit programming\n",
    "\n",
    "- Execute some task T(Regression/ Classification)\n",
    "- improve performance \n",
    "- with experience"
   ]
  },
  {
   "cell_type": "markdown",
   "id": "a08331f9",
   "metadata": {},
   "source": [
    "Data provider -> preprocessing -> Structured data -> Learning Algorithm -> Candidate model -> Display selected model -> Golden model -> Application"
   ]
  },
  {
   "cell_type": "markdown",
   "id": "75c01026",
   "metadata": {},
   "source": [
    "Buliding machine learning models is a 3 stage process\n",
    "-  representation (selection of an algorithm/parameters)\n",
    "- evaluation (objective function)\n",
    "- optimixation (finding optimal parameters)"
   ]
  },
  {
   "cell_type": "markdown",
   "id": "faec200a",
   "metadata": {},
   "source": [
    "Supervised:\n",
    "- Using labelled data\n",
    "- learns the mapping function from the input to the output\n",
    "- Regression:\n",
    "    - used to predict continuous values\n",
    "- Classification:\n",
    "    - used to predict categorical values"
   ]
  },
  {
   "cell_type": "markdown",
   "id": "a1cc6fc7",
   "metadata": {},
   "source": [
    "Unsupervised:\n",
    "- Training is done using unlabelled data\n",
    "- Algorithms are left on their own devises to discover and present the interesting structure in the date\n",
    "- Clustering:\n",
    "    - used to discover the inherent grouping in the data\n",
    "- Association:\n",
    "    - used to discover rules that describe large portions of the data"
   ]
  },
  {
   "cell_type": "markdown",
   "id": "2d5951ab",
   "metadata": {},
   "source": [
    "### Regression\n",
    "\n",
    "to determine the relationship between one or more independent variables and a dependent variable"
   ]
  },
  {
   "cell_type": "markdown",
   "id": "f0dc59cd",
   "metadata": {},
   "source": [
    "#### Linear:\n",
    "- Simple linear regression:\n",
    "    - Only one independent variable\n",
    "- Multiple linear regression:\n",
    "    - two or more independent variable\n",
    "- Non linear regression:\n",
    "    - Dependent on non-linear transformation of independent variable   "
   ]
  },
  {
   "cell_type": "markdown",
   "id": "f8eec18e",
   "metadata": {},
   "source": [
    "In case of Simple linear regression, we fit best line between the dependent variable and independent variable\n",
    "\n",
    "y=mx+c\n",
    "\n",
    " - y=Dependent variable\n",
    " - m=d(y)/d(x),d=delta\n",
    " - x=independent\n",
    " - c=intercept\n",
    "\n"
   ]
  },
  {
   "cell_type": "markdown",
   "id": "446af38e",
   "metadata": {},
   "source": [
    "How is the best line calculated?\n",
    "- OLS\n",
    "\n",
    "Why not use just correlation?\n",
    "- intercept"
   ]
  },
  {
   "cell_type": "markdown",
   "id": "35475d40",
   "metadata": {},
   "source": [
    "#### Yi=Bo + B1+Xi + ei\n",
    "\n",
    "Yi= Dependent variable\n",
    "Bo=Population intercept\n",
    "B1=\n",
    "\n",
    "Bo+B1x = Linear component\n",
    "ei= random error component"
   ]
  },
  {
   "cell_type": "markdown",
   "id": "aca1eb10",
   "metadata": {},
   "source": [
    "The representation equation can be extended to:\n",
    "- y= m0 + m1x1 + m2x2 + m3x3 +.......+ mnxn\n",
    "\n",
    "where\n",
    "- m0 is the intercept\n",
    "- m1 is the coefficient of variable x1\n",
    "- m2 is the coefficient of varibale x2"
   ]
  },
  {
   "cell_type": "markdown",
   "id": "fb40dcdd",
   "metadata": {},
   "source": [
    "### Multiple Linear Regression\n",
    "\n",
    "#### What is Multicolinearity?\n",
    "- How to detect\n",
    "- how to handle it\n",
    "\n",
    "#### How to check model performance?\n",
    "- Adjusted R-Square\n",
    "- AIC/BIC\n",
    "\n",
    "#### How to go about selecting features for a good model?\n",
    "- RFE\n",
    "- Manual\n",
    "- Mixed\n",
    "\n",
    "#### How to reduce the number of fields in a categorical variable when its too many?\n",
    "- Dont do anything, create dummies, we can remove categories that are insignificant\n",
    "- Remove those that are present less in number\n",
    "- Combine some field that have same or closer objective\n",
    "\n",
    "#### Which model is a good model?\n",
    "- a model with 10 variables\n",
    "- a model with 30 variables"
   ]
  },
  {
   "cell_type": "markdown",
   "id": "af2aecf9",
   "metadata": {},
   "source": [
    "## Fix rows and columns\n",
    "###  Data quality issues\n",
    "- Incorrect rows\n",
    "- Summary rows\n",
    "- Extra rows\n",
    "- Missing Column names\n",
    "- Inconsistent column names\n",
    "- unnecessary columns\n",
    "- columns containing multiple data values\n",
    "- no unique identifier\n",
    "- misaligned columns\n",
    "\n",
    "### Examples\n",
    "- Headers and footer rows\n",
    "- Total, subtotal rows\n",
    "- Column number, indication, blank rows\n",
    "- Column names as blank, xx, etc\n",
    "- X1,X2,C4 which gives no info about the columns\n",
    "- unidentified, irrelevant\n",
    "- address\n",
    "- Multiple cities with same name in a column\n",
    "- shifted columns"
   ]
  },
  {
   "cell_type": "markdown",
   "id": "1749dae3",
   "metadata": {},
   "source": [
    "# Missing values\n",
    "### Data quality issues\n",
    "- Disguised missing volumes\n",
    "-  Significant number of blessing values in a row/column\n",
    "- partial missing values\n"
   ]
  },
  {
   "cell_type": "markdown",
   "id": "a222dda0",
   "metadata": {},
   "source": [
    "# Summary:\n",
    "\n",
    "We learned about AI, Turing test, Machine learning and its branches, Supervised, Unsupervised and reinforcement based learning. In supervised learning we studies about Regression and its types, and in-detail study on Linear regression"
   ]
  },
  {
   "cell_type": "code",
   "execution_count": null,
   "id": "6eed9d43",
   "metadata": {},
   "outputs": [],
   "source": []
  }
 ],
 "metadata": {
  "kernelspec": {
   "display_name": "Python 3 (ipykernel)",
   "language": "python",
   "name": "python3"
  },
  "language_info": {
   "codemirror_mode": {
    "name": "ipython",
    "version": 3
   },
   "file_extension": ".py",
   "mimetype": "text/x-python",
   "name": "python",
   "nbconvert_exporter": "python",
   "pygments_lexer": "ipython3",
   "version": "3.11.5"
  }
 },
 "nbformat": 4,
 "nbformat_minor": 5
}
