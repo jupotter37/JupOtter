{
 "cells": [
  {
   "attachments": {},
   "cell_type": "markdown",
   "metadata": {},
   "source": [
    "#  Data Structures- Hashmaps, Sets, Hash Tables, Hashing and Collisions\n",
    "> Observing hashmaps with python dictionaries\n",
    "- toc: true\n",
    "- image: /images/python.png"
   ]
  },
  {
   "attachments": {},
   "cell_type": "markdown",
   "metadata": {},
   "source": [
    "## What is a Hashtable/Hashmap?\n",
    "\n",
    "> A hashtable is a data structure that with a collection of key-value pairs, where each key maps to a value, and the keys must be unique and hashable.\n",
    "\n",
    "- In Python there is a built in hashtable known as a DICTIONARY\n",
    "\n",
    "> The primary purpose of a hashtable is to provide efficient lookup, insertion, and deletion operations. When an element is to be inserted into the hashtable, a hash function is used to map the key to a specific index in the underlying array that is used to store the key-value pairs. The value is then stored at that index. When searching for a value, the hash function is used again to find the index where the value is stored.\n",
    "\n",
    "> The key advantage of a hashtable over other data structures like arrays and linked lists is its average-case time complexity for lookup, insertion, and deletion operations.\n",
    "\n",
    "- The typical time complexity of a hashtable is constant (O(n)). \n"
   ]
  },
  {
   "attachments": {},
   "cell_type": "markdown",
   "metadata": {},
   "source": [
    "## What is Hashing and Collision?\n",
    "\n",
    "> Hashing is the process of mapping a given key to a value in a hash table or hashmap, using a hash function. The hash function takes the key as input and produces a hash value or hash code, which is then used to determine the index in the underlying array where the value is stored. The purpose of hashing is to provide a quick and efficient way to access data, by eliminating the need to search through an entire data structure to find a value.\n",
    "\n",
    "> However, it is possible for two different keys to map to the same hash value, resulting in a collision. When a collision occurs, there are different ways to resolve it, depending on the collision resolution strategy used.\n",
    "\n",
    "> Python's dictionary implementation is optimized to handle collisions efficiently, and the performance of the dictionary is generally very good, even in the presence of collisions. However, if the number of collisions is very high, the performance of the dictionary can degrade, so it is important to choose a good hash function that minimizes collisions when designing a Python dictionary.\n",
    "\n",
    "## What is a Set?"
   ]
  },
  {
   "cell_type": "code",
   "execution_count": 2,
   "metadata": {},
   "outputs": [
    {
     "name": "stdout",
     "output_type": "stream",
     "text": [
      "{1, 2, 3}\n"
     ]
    }
   ],
   "source": [
    "# Creating a set using set() function\n",
    "my_set = set([1, 2, 3, 2, 1])\n",
    "print(my_set)  \n",
    "\n",
    "# What do you notice in the output?\n",
    "# ANSWER: the output is consists of all unique numbers\n",
    "\n",
    "\n",
    "# Why do you think Sets are in the same tech talk as Hashmaps/Hashtables?\n",
    "# ANSWER: Sets may also deal with collisions the same as dictionaries, by making sure values are unique\n",
    "#         --> No duplicates"
   ]
  },
  {
   "attachments": {},
   "cell_type": "markdown",
   "metadata": {},
   "source": [
    "## Dictionary Example\n",
    "\n",
    "Below are just some basic features of a dictionary. As always, documentation is always the main source for all the full capablilties. "
   ]
  },
  {
   "cell_type": "code",
   "execution_count": 3,
   "metadata": {},
   "outputs": [
    {
     "name": "stdout",
     "output_type": "stream",
     "text": [
      "{'title': 'Lover', 'artist': 'Taylor Swift', 'year': 2019, 'genre': ['Pop', 'Synth-pop'], 'tracks': {1: 'I Forgot That You Existed', 2: 'Cruel Summer', 3: 'Lover', 4: 'The Man', 5: 'The Archer', 6: 'I Think He Knows', 7: 'Miss Americana & The Heartbreak Prince', 8: 'Paper Rings', 9: 'Cornelia Street', 10: 'Death By A Thousand Cuts', 11: 'London Boy', 12: \"Soon You'll Get Better (feat. Dixie Chicks)\", 13: 'False God', 14: 'You Need To Calm Down', 15: 'Afterglow', 16: 'Me! (feat. Brendon Urie of Panic! At The Disco)', 17: \"It's Nice To Have A Friend\", 18: 'Daylight'}}\n"
     ]
    }
   ],
   "source": [
    "# Creating a dictionary with information about the album \"Lover\"\n",
    "lover_album = {\n",
    "    \"title\": \"Lover\",\n",
    "    \"artist\": \"Taylor Swift\",\n",
    "    \"year\": 2019,\n",
    "    \"genre\": [\"Pop\", \"Synth-pop\"],\n",
    "    \"tracks\": {\n",
    "        1: \"I Forgot That You Existed\",\n",
    "        2: \"Cruel Summer\",\n",
    "        3: \"Lover\",\n",
    "        4: \"The Man\",\n",
    "        5: \"The Archer\",\n",
    "        6: \"I Think He Knows\",\n",
    "        7: \"Miss Americana & The Heartbreak Prince\",\n",
    "        8: \"Paper Rings\",\n",
    "        9: \"Cornelia Street\",\n",
    "        10: \"Death By A Thousand Cuts\",\n",
    "        11: \"London Boy\",\n",
    "        12: \"Soon You'll Get Better (feat. Dixie Chicks)\",\n",
    "        13: \"False God\",\n",
    "        14: \"You Need To Calm Down\",\n",
    "        15: \"Afterglow\",\n",
    "        16: \"Me! (feat. Brendon Urie of Panic! At The Disco)\",\n",
    "        17: \"It's Nice To Have A Friend\",\n",
    "        18: \"Daylight\"\n",
    "    }\n",
    "}\n",
    "\n",
    "# What data structures do you see?\n",
    "# list (genre)\n",
    "# dictionary (tracks)\n",
    "\n",
    "# Printing the dictionary\n",
    "print(lover_album)"
   ]
  },
  {
   "cell_type": "code",
   "execution_count": 4,
   "metadata": {},
   "outputs": [
    {
     "name": "stdout",
     "output_type": "stream",
     "text": [
      "{1: 'I Forgot That You Existed', 2: 'Cruel Summer', 3: 'Lover', 4: 'The Man', 5: 'The Archer', 6: 'I Think He Knows', 7: 'Miss Americana & The Heartbreak Prince', 8: 'Paper Rings', 9: 'Cornelia Street', 10: 'Death By A Thousand Cuts', 11: 'London Boy', 12: \"Soon You'll Get Better (feat. Dixie Chicks)\", 13: 'False God', 14: 'You Need To Calm Down', 15: 'Afterglow', 16: 'Me! (feat. Brendon Urie of Panic! At The Disco)', 17: \"It's Nice To Have A Friend\", 18: 'Daylight'}\n",
      "{1: 'I Forgot That You Existed', 2: 'Cruel Summer', 3: 'Lover', 4: 'The Man', 5: 'The Archer', 6: 'I Think He Knows', 7: 'Miss Americana & The Heartbreak Prince', 8: 'Paper Rings', 9: 'Cornelia Street', 10: 'Death By A Thousand Cuts', 11: 'London Boy', 12: \"Soon You'll Get Better (feat. Dixie Chicks)\", 13: 'False God', 14: 'You Need To Calm Down', 15: 'Afterglow', 16: 'Me! (feat. Brendon Urie of Panic! At The Disco)', 17: \"It's Nice To Have A Friend\", 18: 'Daylight'}\n"
     ]
    }
   ],
   "source": [
    "# Retrieve value from dictionary with key\n",
    "print(lover_album.get('tracks'))\n",
    "# or\n",
    "print(lover_album['tracks'])"
   ]
  },
  {
   "cell_type": "code",
   "execution_count": 5,
   "metadata": {},
   "outputs": [
    {
     "name": "stdout",
     "output_type": "stream",
     "text": [
      "The Man\n",
      "The Man\n"
     ]
    }
   ],
   "source": [
    "# Retrieve value from a dictionary inside a dictionary\n",
    "print(lover_album.get('tracks')[4]) # using .get\n",
    "# or\n",
    "print(lover_album['tracks'][4]) # using index"
   ]
  },
  {
   "cell_type": "code",
   "execution_count": 6,
   "metadata": {},
   "outputs": [
    {
     "name": "stdout",
     "output_type": "stream",
     "text": [
      "{'title': 'Lover', 'artist': 'Taylor Swift', 'year': 2019, 'genre': ['Pop', 'Synth-pop'], 'tracks': {1: 'I Forgot That You Existed', 2: 'Cruel Summer', 3: 'Lover', 4: 'The Man', 5: 'The Archer', 6: 'I Think He Knows', 7: 'Miss Americana & The Heartbreak Prince', 8: 'Paper Rings', 9: 'Cornelia Street', 10: 'Death By A Thousand Cuts', 11: 'London Boy', 12: \"Soon You'll Get Better (feat. Dixie Chicks)\", 13: 'False God', 14: 'You Need To Calm Down', 15: 'Afterglow', 16: 'Me! (feat. Brendon Urie of Panic! At The Disco)', 17: \"It's Nice To Have A Friend\", 18: 'Daylight'}, 'producer': {'Joel Little', 'Frank Dukes', 'Louis Bell', 'Taylor Swift', 'Jack Antonoff'}}\n"
     ]
    }
   ],
   "source": [
    "# adding a value with a new key\n",
    "lover_album[\"producer\"] = set(['Taylor Swift', 'Jack Antonoff', 'Joel Little', 'Taylor Swift', 'Louis Bell', 'Frank Dukes'])\n",
    "\n",
    "# What can you change to make sure there are no duplicate producers?\n",
    "# We can make the producers a set instead of a list\n",
    "\n",
    "# Printing the dictionary\n",
    "print(lover_album)"
   ]
  },
  {
   "cell_type": "code",
   "execution_count": 7,
   "metadata": {},
   "outputs": [
    {
     "name": "stdout",
     "output_type": "stream",
     "text": [
      "{'title': 'Lover', 'artist': 'Taylor Swift', 'year': 2019, 'genre': ['Pop', 'Synth-pop', 'electropop'], 'tracks': {1: 'I Forgot That You Existed', 2: 'Cruel Summer', 3: 'Lover', 4: 'The Man', 5: 'The Archer', 6: 'I Think He Knows', 7: 'Miss Americana & The Heartbreak Prince', 8: 'Paper Rings', 9: 'Cornelia Street', 10: 'Death By A Thousand Cuts', 11: 'London Boy', 12: \"Soon You'll Get Better (feat. Dixie Chicks)\", 13: 'False God', 14: 'You Need To Calm Down', 15: 'Afterglow', 16: 'Me! (feat. Brendon Urie of Panic! At The Disco)', 17: \"It's Nice To Have A Friend\", 18: 'Daylight', 19: 'All Of The Girls You Loved Before'}, 'producer': {'Joel Little', 'Frank Dukes', 'Louis Bell', 'Taylor Swift', 'Jack Antonoff'}}\n"
     ]
    }
   ],
   "source": [
    "# Adding a an key-value pair to an existing key \n",
    "lover_album[\"tracks\"].update({19: \"All Of The Girls You Loved Before\"})\n",
    "\n",
    "# How would add an additional genre to the dictionary, like electropop? \n",
    "# note: .update did not work for lists; have to use .append\n",
    "lover_album[\"genre\"].append(\"electropop\") \n",
    "\n",
    "# Printing the dictionary\n",
    "print(lover_album)"
   ]
  },
  {
   "cell_type": "code",
   "execution_count": 8,
   "metadata": {},
   "outputs": [
    {
     "name": "stdout",
     "output_type": "stream",
     "text": [
      "title: Lover\n",
      "artist: Taylor Swift\n",
      "year: 2019\n",
      "genre: ['Pop', 'Synth-pop', 'electropop']\n",
      "tracks:\n",
      "I Forgot That You Existed\n",
      "Cruel Summer\n",
      "Lover\n",
      "The Man\n",
      "The Archer\n",
      "I Think He Knows\n",
      "Miss Americana & The Heartbreak Prince\n",
      "Paper Rings\n",
      "Cornelia Street\n",
      "Death By A Thousand Cuts\n",
      "London Boy\n",
      "Soon You'll Get Better (feat. Dixie Chicks)\n",
      "False God\n",
      "You Need To Calm Down\n",
      "Afterglow\n",
      "Me! (feat. Brendon Urie of Panic! At The Disco)\n",
      "It's Nice To Have A Friend\n",
      "Daylight\n",
      "All Of The Girls You Loved Before\n",
      "producer: {'Joel Little', 'Frank Dukes', 'Louis Bell', 'Taylor Swift', 'Jack Antonoff'}\n"
     ]
    }
   ],
   "source": [
    "# Print lover_album in more readable format\n",
    "def album_print():\n",
    "    for k,v in lover_album.items(): # iterate using a for loop for key and value\n",
    "        if k == \"tracks\":\n",
    "            print(\"tracks:\")\n",
    "            for track in lover_album['tracks']: \n",
    "                print(lover_album['tracks'][track])\n",
    "        else:\n",
    "            print(str(k) + \": \" + str(v))\n",
    "            \n",
    "album_print()\n"
   ]
  },
  {
   "cell_type": "code",
   "execution_count": 22,
   "metadata": {},
   "outputs": [
    {
     "name": "stdout",
     "output_type": "stream",
     "text": [
      "1: title\n",
      "2: artist\n",
      "3: year\n",
      "4: genre\n",
      "5: tracks\n",
      "6: producer(s)\n",
      "\n",
      "TRACKS:\n",
      "I Forgot That You Existed\n",
      "Cruel Summer\n",
      "Lover\n",
      "The Man\n",
      "The Archer\n",
      "I Think He Knows\n",
      "Miss Americana & The Heartbreak Prince\n",
      "Paper Rings\n",
      "Cornelia Street\n",
      "Death By A Thousand Cuts\n",
      "London Boy\n",
      "Soon You'll Get Better (feat. Dixie Chicks)\n",
      "False God\n",
      "You Need To Calm Down\n",
      "Afterglow\n",
      "Me! (feat. Brendon Urie of Panic! At The Disco)\n",
      "It's Nice To Have A Friend\n",
      "Daylight\n",
      "All Of The Girls You Loved Before\n"
     ]
    }
   ],
   "source": [
    "# Using conditionals to retrieve a random song\n",
    "def album_search():\n",
    "    print(\"1: title\")\n",
    "    print(\"2: artist\")\n",
    "    print(\"3: year\")\n",
    "    print(\"4: genre\")\n",
    "    print(\"5: tracks\")\n",
    "    print(\"6: producer(s)\")\n",
    "    search = input(\"What would you like to know about the album: Lover?\")\n",
    "    if search == \"1\":\n",
    "        print(\"\")\n",
    "        print(\"TITLE:\")\n",
    "        print(lover_album.get('title'))\n",
    "    elif search == \"2\":\n",
    "        print(\"\")\n",
    "        print(\"ARTIST\")\n",
    "        print(lover_album.get('artist'))\n",
    "    elif search == \"3\":\n",
    "        print(\"\")\n",
    "        print(\"YEAR\")\n",
    "        print(lover_album.get('year'))\n",
    "    elif search == \"4\":\n",
    "        print(\"\")\n",
    "        print(\"GENRE\")\n",
    "        print(lover_album.get('genre'))\n",
    "    elif search == \"5\":\n",
    "        print(\"\")\n",
    "        print(\"TRACKS:\")\n",
    "        for track in lover_album['tracks']: \n",
    "            print(lover_album['tracks'][track])\n",
    "    elif search == \"6\":\n",
    "        print(\"\")\n",
    "        print(\"PRODUCERS\")\n",
    "        print(lover_album.get('producer'))\n",
    "\n",
    "album_search()\n",
    "\n",
    "# This is a very basic code segment, how can you improve upon this code?\n",
    "#"
   ]
  },
  {
   "attachments": {},
   "cell_type": "markdown",
   "metadata": {},
   "source": [
    "## Hacks\n",
    "\n",
    "- Answer *ALL* questions in the code segments\n",
    "<br> \n",
    "**done**\n",
    "- Create a diagram or comparison illustration (Canva). \n",
    "    - What are the pro and cons of using this data structure? \n",
    "    - Dictionary vs List    \n",
    "    <br>\n",
    "- Expand upon the code given to you, possible improvements in comments \n",
    "<br>\n",
    "**done**\n",
    "- Build your own album showing features of a python dictionary\n",
    "\n",
    "- For Mr. Yeung's class: Justify your favorite Taylor Swift song, answer may effect seed"
   ]
  },
  {
   "attachments": {},
   "cell_type": "markdown",
   "metadata": {},
   "source": [
    "### Hacks with my own album:"
   ]
  },
  {
   "cell_type": "code",
   "execution_count": 25,
   "metadata": {},
   "outputs": [
    {
     "name": "stdout",
     "output_type": "stream",
     "text": [
      "{'title': 'Heatwave', 'artist': 'HARBOUR', 'year': 2017, 'genre': ['Indie Rock'], 'tracks': {1: 'Waittyn', 2: 'Ily', 3: 'Get You High', 4: 'Obvious', 5: 'Float', 6: 'Soco', 7: 'Judy You Hung the Moon', 8: 'Radiate', 9: 'With Love', 10: 'Saddest Game', 11: 'Undone'}}\n"
     ]
    }
   ],
   "source": [
    "new_album = {\n",
    "    \"title\": \"Heatwave\",\n",
    "    \"artist\": \"HARBOUR\",\n",
    "    \"year\": 2017,\n",
    "    \"genre\": [\"Indie Rock\"],\n",
    "    \"tracks\": {\n",
    "        1: \"Waittyn\",\n",
    "        2: \"Ily\",\n",
    "        3: \"Get You High\",\n",
    "        4: \"Obvious\",\n",
    "        5: \"Float\",\n",
    "        6: \"Soco\",\n",
    "        7: \"Judy You Hung the Moon\",\n",
    "        8: \"Radiate\",\n",
    "        9: \"With Love\",\n",
    "        10: \"Saddest Game\",\n",
    "        11: \"Undone\",        \n",
    "    }\n",
    "}\n",
    "\n",
    "print(new_album)"
   ]
  },
  {
   "cell_type": "code",
   "execution_count": 29,
   "metadata": {},
   "outputs": [
    {
     "name": "stdout",
     "output_type": "stream",
     "text": [
      "1: title\n",
      "2: artist\n",
      "3: year\n",
      "4: genre\n",
      "5: tracks\n",
      "6: producer(s)\n",
      "\n",
      "TRACKS:\n",
      "Waittyn\n",
      "Ily\n",
      "Get You High\n",
      "Obvious\n",
      "Float\n",
      "Soco\n",
      "Judy You Hung the Moon\n",
      "Radiate\n",
      "With Love\n",
      "Saddest Game\n",
      "Undone\n"
     ]
    }
   ],
   "source": [
    "def new_album_search():\n",
    "    print(\"1: title\")\n",
    "    print(\"2: artist\")\n",
    "    print(\"3: year\")\n",
    "    print(\"4: genre\")\n",
    "    print(\"5: tracks\")\n",
    "    print(\"6: producer(s)\")\n",
    "    search = input(\"What would you like to know about the album: Heatwave?\")\n",
    "    if search == \"1\":\n",
    "        print(\"\")\n",
    "        print(\"TITLE:\")\n",
    "        print(new_album.get('title'))\n",
    "    elif search == \"2\":\n",
    "        print(\"\")\n",
    "        print(\"ARTIST\")\n",
    "        print(new_album.get('artist'))\n",
    "    elif search == \"3\":\n",
    "        print(\"\")\n",
    "        print(\"YEAR\")\n",
    "        print(new_album.get('year'))\n",
    "    elif search == \"4\":\n",
    "        print(\"\")\n",
    "        print(\"GENRE\")\n",
    "        print(new_album.get('genre'))\n",
    "    elif search == \"5\":\n",
    "        print(\"\")\n",
    "        print(\"TRACKS:\")\n",
    "        for track in new_album['tracks']: \n",
    "            print(new_album['tracks'][track])\n",
    "    elif search == \"6\":\n",
    "        print(\"\")\n",
    "        print(\"PRODUCERS\")\n",
    "        print(new_album.get('producer'))\n",
    "\n",
    "new_album_search()\n"
   ]
  }
 ],
 "metadata": {
  "kernelspec": {
   "display_name": "base",
   "language": "python",
   "name": "python3"
  },
  "language_info": {
   "codemirror_mode": {
    "name": "ipython",
    "version": 3
   },
   "file_extension": ".py",
   "mimetype": "text/x-python",
   "name": "python",
   "nbconvert_exporter": "python",
   "pygments_lexer": "ipython3",
   "version": "3.9.12"
  },
  "orig_nbformat": 4
 },
 "nbformat": 4,
 "nbformat_minor": 2
}
