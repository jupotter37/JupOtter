{
 "cells": [
  {
   "cell_type": "markdown",
   "metadata": {},
   "source": [
    "Algorithm and Data Structures Notes\n",
    "\n",
    "* Objectives:\n",
    "    * To understand why algorithm analysis is important\n",
    "    * To be able to use \"Big-O\" to describe execution time\n",
    "    * To understand the \"Big-O\" execution time of the common operations on Python lists and dictionaries\n",
    "    * To understand how the implementation of Python data impacts algorithm analysis\n",
    "    * To understand how to benchmark simple Python programs"
   ]
  },
  {
   "cell_type": "markdown",
   "metadata": {},
   "source": [
    "1) Algorithm Analysis via Big-O Notation\n",
    "* What is algorithm analysis?\n",
    "    * **Algorithm analysis** - concerned with comparing algorithms based on the **computing resources each algorithm uses** looking at efficiency of usage of resources (**execution time**) and amount of resources used (**space or memory usage**)\n",
    "    * (-) Careful looking at benchmark times as it is dependent on the particular machine, program, time of day, compiler and programming language\n",
    "    * Example: compute the sum of first $n$ integers using iteration (e.g. for-loops) and without iteration\n",
    "* Characterizing algorithm's efficiency in terms of execution time independent of any program or computer\n",
    "    * Example: the sum of $n$ integers can be broken down into assignment statements performed to compute the sum\n",
    "        * \\# of assignment statements = 1 ($s = 0$)\n",
    "        * \\# of performed iterations of summation = $n$ ($s = s+i$)\n",
    "        * $T(n) = 1+n$ interpreted as the time it takes to solve a problem of size $n$, namely $1+n$ steps\n",
    "    * We can say that the sum of the first 100,000 integers is a bigger instance of a summation problem than sum of the first 1000 ($T(100000)=1+100,000 > T(1000)=1+1000$) where execution time would be larger for solving the larger case\n",
    "* **Order of Magnitude Function** - determining the most dominant term in $T(n)$ that increases the fastest as the value of $n$ increases\n",
    "    * It turns out that the exact number of operations is **not** as important as determining the most dominant part of the $T(n)$ function\n",
    "    * **Big-O Notation** - order of magnitude is often refered as \"Big-O\" for \"order\" and is written as $O(f(n))$\n",
    "        * Provides useful approximation to the actual number of steps in the computation\n",
    "        * The function $f(n)$ provides the simple representation of the dominant part of the original $T(n)$\n",
    "        * Example: $T(n) = 1+n$ shows that as $n$ gets larger, the constant $1$ will become less and less significant to the final result\n",
    "            * Approximation of $T(n)$ would be to drop the $1$ and simply say the execution time is $O(n)$ ($T(n) = 1+n \\approx O(n)$)\n",
    "            * It is important to note that $1$ is certainly significant for $T(n)$, however, the $O(n)$ will be just as accurate of an approximation as $n$ gets large\n",
    "    * Example: $T(n) = 5n^2 + 27n + 1005$ for some algorithm is the exact steps\n",
    "        * As $n$ gets larger, the $n^2$ becomes the most important term\n",
    "        * Approximate $T(n)$ as $n$ gets large, focus on $n^2$\n",
    "        * The function $T(n)$ has an order of magnitude $f(n)=n^2$, or simply that it is $O(n^2)$\n",
    "    * Performance of an algorithm depends on the exact values of the data rather than simply the size of the problem\n",
    "        * Characterize performance by best case, worst case, or average case performance\n",
    "        * **Worst case performance** - a particular dataset where the algorithm performs especially poorly\n",
    "        * **Best case performance** - a different dataset for the exact same algorithm might have extraordinarily good performance\n",
    "        * **Average case performance** - In most cases the algorithm performs somewhere in between these two extremes\n",
    "    * Common functions for Big-O\n",
    "        1. Constant = $1$\n",
    "        2. Log = $\\log n$\n",
    "        3. Linear = $n$\n",
    "        4. Log Linear = $n \\log n$\n",
    "        5. Quadratic = $n^2$\n",
    "        6. Cubic = $n^3$\n",
    "        7. Exponential = $2^n$\n",
    "    * Example: Interpreting steps for algorithm below\n",
    "    ```python\n",
    "    a=5\n",
    "    b=6\n",
    "    c=10\n",
    "    for i in range(n):\n",
    "        for j in range(n):\n",
    "            x = i * j\n",
    "            y = j * j\n",
    "            z = i * j\n",
    "    for k in range(n):\n",
    "        w = a*k + 45\n",
    "        v = b*b\n",
    "    d=33\n",
    "    ```\n",
    "        * first term = $3$ (representing the three assignment statements)\n",
    "        * second term = $3n^2$ (three statements that are performed $n^2$ times)\n",
    "        * third term = $2n$ (two statements iterated $n$ times)\n",
    "        * fourth term = $1$ (one assignment statement at the end)\n",
    "        * $T(n)=3+3n^2+2n+1$\n",
    "        * $O(n^2)$ since $n^2$ will be dominant as $n$ gets large"
   ]
  },
  {
   "cell_type": "markdown",
   "metadata": {},
   "source": [
    "2) Lists and Dictionaries\n",
    "* Lists\n",
    "    * Performance differences between for-loop & append, list comprehension, and list constructor & range func for growing a list\n",
    "        * for-loop & append method ($O(1)$)\n",
    "            ```python\n",
    "            def append_method():\n",
    "                l = []\n",
    "                for i in range(1000):\n",
    "                    l.append(i)\n",
    "            ```\n",
    "        * list comprehension method (faster)\n",
    "            ```python\n",
    "            def list_comphre():\n",
    "                l = [i for i in range(1000)]\n",
    "            ```\n",
    "        * list constructor & range func method (fastest)\n",
    "            ```python\n",
    "            def list_const():\n",
    "                l = list(range(1000))\n",
    "            ```\n",
    "    * Performance of `pop` depending on which item is selected\n",
    "        * `pop(0)` - takes the first item out which shifts all subsequent elements one position closer to beginning of list ($O(n)$)\n",
    "        * `pop()` - takes the last item out ($O(1)$)\n",
    "* Dictionaries\n",
    "    * Performance for looking up items in dictionaries is better than lists when the number of items you have increases greatly\n",
    "        * As the dictionary grows, the time it takes to perform `get item` or `set item` remains constant ($O(1)$)"
   ]
  },
  {
   "cell_type": "markdown",
   "metadata": {},
   "source": [
    "3) Linear Collections - Stack, Queue, Deque, Linked Lists, and Ordered List\n",
    "* **Stack**\n",
    "    * Stack as an abstract data type where you can add/remove item from only one end (e.g. think of stacking books and only being able to pick the one on the top)\n",
    "    * LIFO - Last in, First Out rule\n",
    "    * Class implementation\n",
    "    * Other examples: Switching between URLs (e.g. Forward/Back Arrows), Matching Parantheses, Base Converter (e.g. Decimal Nums to Binary Nums)\n",
    "* Infix, Prefix, Postfix Expressions\n",
    "    * Understanding Arithmetic Expression and Operator Precedence\n",
    "        * Infix: $A + B * C$\n",
    "        * Prefix: $+ A * BC$\n",
    "        * Postfix: $ABC * + $\n",
    "* **Queue**\n",
    "    * Queue as an abstract data type where items are only removed from the front and added to the end (e.g. think of waiting in line where the first person has to finish and can only add to the end of the line)\n",
    "    * FIFO - First in, First out rule (or First come, First served)\n",
    "    * Class implementation\n",
    "    * Other examples: Hot Potato game and Printing Tasks\n",
    "* **Deque** (pronounced \"deck\" **not** \"dequeue\")\n",
    "    * Deque or **double-ended queue** where you can add/remove items to either end of collection (e.g. think of a very large browser history where you have alot of historical urls where you need to be able to delete/add first entries or ending entries)\n",
    "    * Combines the functionality of both stack and queue data structures\n",
    "    * Very few restrictions compared to stack and queue\n",
    "    * Other examples: Palindrome Checker\n",
    "* **Linked List**\n",
    "    * Linked List is an **unordered list** where the items in a collections have relative position with respective to others\n",
    "    ![linked_list_1](linked_list_position.png)\n",
    "    ![linked_list_2](linked_list_position_2.png)\n",
    "    * You can find the items in list by selecting the first **node** which will have a reference to the next node until the very end which should end with a `None` to refer to the end of the collection\n",
    "    * The `head` of the list will always refer to the first **node**, but not contain any value\n",
    "    * The `List` class itself does not contain any node objects, but instead only have a single reference to linked structure (via the `head`)\n",
    "    ![linked_list_3](linkedlist.png)\n",
    "    * In terms of adding items to a linked list, each item will be added at the head of the list, which makes the first item added to become the last item in the list and the last item to be added the first item to be referenced (or first node)\n",
    "    ```python\n",
    "    def add(self, item):\n",
    "        temp = Node(item)\n",
    "        temp.setNext(self.head)\n",
    "        self.head = temp\n",
    "    ```\n",
    "        * If line 3 and 4 were switched, the head position of the would lose the reference to the previous node object and only refer to the current one added\n",
    "    * **Linked list traversal** - refers to the systematic process of visiting each node\n",
    "* **Ordered List**\n",
    "    * An ordered list where items ascending order of elements is perserved (where you can assume that the last value is greatest and the first value is the lowest)"
   ]
  },
  {
   "cell_type": "markdown",
   "metadata": {},
   "source": [
    "Recursions\n",
    "* To understand that complex problems that may otherwise be difficult to solve may have a simple recursive solution.\n",
    "* To learn how to formulate programs recursively.\n",
    "* To understand and apply the three laws of recursion.\n",
    "* To understand recursion as a form of iteration.\n",
    "* To implement the recursive formulation of a problem.\n",
    "* To understand how recursion is implemented by a computer system."
   ]
  },
  {
   "cell_type": "markdown",
   "metadata": {},
   "source": [
    "1) What is Recursion?\n",
    "* **Recursion** is a method of solving problems that involves breaking a problem down into smaller and smaller subproblems until you get to a small enough problem that it can be solved trivially. Usually recursion involves a function calling itself. While it may not seem like much on the surface, recursion allows us to write elegant solutions to problems that may otherwise be very difficult to program\n",
    "    * The logic of recursion is an elegant expression of solving a problem by breaking it down into a smaller and easier problems (not circular)\n",
    "    * Example: Sum of $n$ integers without while or for loops (recursive in then out)\n",
    "    ![sum_of_list_n_recur](sumlistn_recursive.png)\n",
    "    ![sum_of_list_n_recur2](sumlistout_recursive.png)\n",
    "* Three Laws of Recursion:\n",
    "    1. A recursive algorithm must have a **base case**.\n",
    "        * **Base case** is the condition that allows the algorithm to stop recursing\n",
    "        * e.g. In `listsum` algorithm, the base case is a list of length $1$\n",
    "    2. A recursive algorithm must change its state and move toward the base case.\n",
    "        * A change of state means that some data that the algorithm is using is modified\n",
    "        * e.g. Since the base case is list of length 1, a natural progression toward the base case is to shorten the list \n",
    "    3. A recursive algorithm must call itself, recursively.\n",
    "* Other examples: Factorial of $n$, convert integer to string in any base, Palindrome"
   ]
  },
  {
   "cell_type": "markdown",
   "metadata": {},
   "source": [
    "Sorting and Searching \n",
    "\n",
    "* To be able to explain and implement sequential search and binary search.\n",
    "* To be able to explain and implement selection sort, bubble sort, merge sort, quick sort, insertion sort, and shell sort.\n",
    "* To understand the idea of hashing as a search technique.\n",
    "* To introduce the map abstract data type.\n",
    "* To implement the map abstract data type using hashing."
   ]
  },
  {
   "cell_type": "markdown",
   "metadata": {},
   "source": [
    "1) Searching\n",
    "* **Searching** is the algorithmic process of finding a particular item in a collection of items\n",
    "    * Question of membership (item is present or not)\n",
    "    * Where the item is located\n",
    "* **Sequential Search** - starting from the first item in the list, iterate through the entire list in sequence to find item\n",
    "    ![sequential](sequential_search.png)\n",
    "    * Analysis of sequential search algorithm - count the number of comparisons performed\n",
    "        * Case: item is present (Best: $O(1)$, Worst: $O(n)$, Average: $O(\\frac{n}{2})$)\n",
    "        * Case: item is **not** present (Best: $O(n)$, Worst: $O(n)$, Average: $O(n)$)\n",
    "    * **Ordered Sequential Search** - searching through the entire sorted list sequentially\n",
    "    ![ord_seq](ordered_seq_search.png)\n",
    "        * The advantage with this type of list is that we can end the search early if we know that the item we are searching for is less than the item found in the list (e.g. searching for 54 and arrive at 55 in the search; ends the search)\n",
    "* **Binary Search** - assuming searching on a sorted list, search starting from the middle item\n",
    "    ![binary](binary_search.png)\n",
    "    * If the item is greater than the middle value than immediately eliminate half of the list from search, then move to the middle item in the new half list and repeat the process\n",
    "    * Analysis of Binary Search:\n",
    "        * Comparisons vs. Approx. # of Items Left: $1,2,3,\\dots,i \\rightarrow \\frac{n}{2},\\frac{n}{4},\\frac{n}{8},\\dots,\\frac{n}{2^i}$\n",
    "        * Assume that if we split the list enough times, we will end up with a list with one item\n",
    "        * The number of comparisons necessary to get to a list of one is solving for: $\\frac{n}{2^i}=1 \\rightarrow i = \\log n$ \n",
    "        * Thus, binary search is $O(\\log n)$\n",
    "    * Binary search generally does better than sequential search; however, sequential search can be better if:\n",
    "        * Comparisons, $n$, are small (Ideally, want to sort once, and search many times to outweigh the cost of sorting)\n",
    "        * Sorting a large list (Sorting once on a large list can be very expensive)\n",
    "* **Hashing** - a data structure that allows for search time to be in $O(1)$ time by using a single comparison search to discover the presence of an item\n",
    "    * **Hash Table** - a collection of items which are stored in a way to allow for easy lookup of item later\n",
    "    ![hash_table](hash_table.png)\n",
    "        * **Slot/Hash value** - each position of a hash table can hold an item (e.g. slot = 0, slot = 1, etc.)\n",
    "        * Initially, a hash table contains no items so every **slot** is empty (`None`)\n",
    "    * **Hash Function** - a function that maps an item to the slot where that item belongs in the hash table\n",
    "        * When searching for an item, we simply use the **hash function** to compute the slot name\n",
    "        * Since it take a constant amount of time to compute hash value and then index the hash table at that location, the searching operation is $O(1)$\n",
    "        * Important to remember that the hash function has to be efficient so that it does **not** become the dominant part of the storage and search process\n",
    "        * (-) If the hash function is **too complex**, then it becomes more work to compute the slot name than it would be to simply do a basic sequential or binary search\n",
    "        * **Remainder Method** - takes the item value and divides it by the table size\n",
    "            * e.g. $h(item) = item \\% 11$ where $h(item)$ is the hash function for an item and $11$ is the table size\n",
    "            * $item = 54 \\rightarrow h(item) = 10$ (means that item 54 will be inserted into slot 10)\n",
    "        * **Perfect Hash Function** - a hash function that maps each item into a unique slot perfectly\n",
    "            * Given an arbitrary collection of items, there is no systematic way to construct a perfect hash function\n",
    "            * However, we can increase performance efficiency by creating a hash function that **minimizes the number of collisions**, **is easy to compute**, and **evenly distributes the items in hash table**\n",
    "        * **Folding Method** - constructs a hash function by dividing the item into equal size pieces (even though the last piece may not be equal size), add each piece together, and then performing the remainder method to yield the hash value\n",
    "            * e.g. phone #: $\\text{436-555-4601} \\rightarrow$ groups of 2: $(43,65,55,46,01) \\rightarrow 210 \\% 11 = 10$\n",
    "        * **Mid-square Method** - constructs a hash function by squaring the item, then extract some portion of the resulting digits\n",
    "            * e.g. $item = 44 \\rightarrow 44^2 = 1936 \\rightarrow 93 \\% 11 = 5$\n",
    "        * Can develop hash functions for **character-based items** such as strings\n",
    "            * e.g. use a sequence of ordinal values for \"cat\", then sum the ordinal values, and use the remainder method to get the hash value\n",
    "            ![cat_hash_func](cat_hash_func.png)\n",
    "            * For cases like **anagrams**, we will always be given the same hash value, so we can use the position of the character as weight\n",
    "            ![cat_weigh_hash](cat_weigh_hash.png)\n",
    "    * **Load Factor** - determines the capacity or occupancy of a specific hash table\n",
    "    ![load_factor](load_factor.png)\n",
    "        * $\\lambda = \\frac{\\text{# of items}}{\\text{table size}}$\n",
    "        * e.g. 6 of the 11 slots are inserted with items $\\lambda = \\frac{6}{11}$\n",
    "    * **Collision** - when there is two or more items that have the same slot calculated through the hash function\n",
    "        * **Collision Resolution** - a systematic method for placing the second item in hash table when two items hash to the same slot\n",
    "        * **Open Addressing** - attempting to find the next open slot (or address) in the hash table\n",
    "        * **Linear Probing** - systematically visiting each slot at a time sequentially\n",
    "        ![linear_probing](linear_probing.png)\n",
    "            * e.g. items 77, 55, 44 should be going into slot 0, but since 77 and 44 are already there, 55 moves to slot 2\n",
    "            * (-) Might need to go all the way through the entire hash table in a circular manner to find an empty slot\n",
    "            * (-) **Clustering** - items become clustered in the hash table\n",
    "            ![clustering](clustering.png)\n",
    "                * If many collisions occur at the same hash value, a number of surrounding slots will be filled, which subsequently has impact on other items being inserted\n",
    "            * Solution to clustering is to **skip slots**, thereby more evenly distributing the items that have caused collisions\n",
    "            * **Rehashing/Rehash Function** - process of looking for another slot after a collision\n",
    "                * $newhash = rehash(oldhash)$ where $rehash(pos) = (pos + skip)\\%tablesize$\n",
    "                * e.g. \"plus 3\" rehashing probe: $rehash(pos)=(pos+3)\\%tablesize$\n",
    "            * Important to remember that the **size of the \"skip\"** must be such that all slots in the table are visited eventually, otherwise, part of the table will be unused $\\rightarrow$ use table size that is a **prime number**\n",
    "        * **Quadratic Probing** - uses a skip consisting of **successive perfect squares**\n",
    "        ![quadratic_probing](quadratic_probing.png)\n",
    "            * If the first hash value is $h$, then the subsequent values are $h+1,h+4,h+9,h+16,etc.$\n",
    "        * **Chaining** - allows each slot to hold a reference to a collection (or chain) of items\n",
    "        ![chaining](chaining.png)\n",
    "            * When collisions happen, the item is still placed in the proper slot of the hash table\n",
    "            * (-) As more and more items hash to the same location, the difficulty of searching for the item in the collection increases\n",
    "            * The advantage is that on average there are likely to be many fewer items in each slot, so the search is perhaps more efficient\n",
    "* **Map** (aka **Python Dictionary**) - a data structure is an unordered collection of associations between a **key** and a **data value**\n",
    "    * **Dictionary** - an associate data type to store key-data pairs\n",
    "        * (+) One of the great benefits of a dictionary is the fact that given a key, we can look up the associated data value very quickly\n",
    "    * The **key** is used to look up the associated data value\n",
    "    * The **keys** in a map are all unique so that there is a 1-to-1 relationship between a key and value\n",
    "    * Two hash tables: **slots** and **data** will implement the **Map** abstract data type\n",
    "        * **Slots (Map)** - will hold key items\n",
    "        * **Data (Map)** - will hold data values\n",
    "    * When we look up a key, the corresponding position in the data list will hold the associated data value"
   ]
  },
  {
   "cell_type": "markdown",
   "metadata": {},
   "source": [
    "2) Sorting\n",
    "* **Sorting** is the process of placing elements from a collection in some kind of order\n",
    "    * Analyzing Sorting Process - analyzing total number of exchanges/comparisons\n",
    "        1. Comparing two values to see which is smaller (or larger)\n",
    "        2. Exchanging values when values are not in the correct position (out of order)\n",
    "    * **Bubble Sort** - compares adjacent items and exchanges those out of order on multiple pass throughs (where each item \"bubbles\" up to the location where it belongs)\n",
    "    ![bubble](bubble_sort.png)\n",
    "        * **Exchange operation (\"swap\")** - typically swapping two elements in a list requires a temporary storage location (an additional memory location) or else one of the values would just be overwritten\n",
    "        ![exchange_operation](exchange_operation.png)\n",
    "            ```python\n",
    "            temp = alist[i]\n",
    "            alist[i] = alist[j]\n",
    "            alist[j] = temp\n",
    "            ```\n",
    "            * However, in Python, it is possible to perform simultaneous assignment: `a,b = b,a`\n",
    "        * Analysis of Bubble Sort:\n",
    "            * \\# of Passes: $1,2,3,\\dots,n-1$\n",
    "            * \\# of Comparisons: $n-1,n-2,n-3,\\dots,1$\n",
    "            * Sum of the first $n-1$ integers: $\\frac{1}{2}n^2+\\frac{1}{2}n-n = \\frac{1}{2}n^2-\\frac{1}{2}n \\rightarrow O(n^2)$ \n",
    "        * (-) Inefficient sorting method since it must exchange items before the final location is known. Those \"wasted\" exchange operations are very costly.\n",
    "        * (+) Has ability, unlike most sorting algorithms, to stop early if the list is sorted. \n",
    "            * **Short Bubble** - if list requires only a few passes, then bubble sort has advantage by stopping early\n",
    "    * **Selection Sort** - improves on the bubble sort by making only one exchange for every pass through the list by selecting the largest value as it checks the entire list then moves it to the end\n",
    "    ![selection_sort](selection_sort.png)\n",
    "        * Selection sort makes the same number of comparsions $O(n^2)$ as bubble sort; however, due to the reduction in the number of exchanges, the selection sort typically executes faster in benchmark studies\n",
    "        * e.g. For a list, the bubble sort makes 20 exchanges, while the selection sort makes only 8\n",
    "    * **Insertion Sort** - still $O(n^2)$; maintains a sorted sublist in the lower positions of the list where each new item is then \"inserted\" back into the previous sublist such that the sorted sublist is one item larger\n",
    "    ![insertion_sort](insertion_sort.png)\n",
    "        * Pass of items into sorted sublist:\n",
    "        ![pass_insertion_sort](pass_insertion_sort.png)\n",
    "        * e.g. At this point in the algorithm, a sorted sublist of five items consisting of 17, 26, 54, 77, and 93 exists. We want to insert 31 back into the already sorted items. The first comparison against 93 causes 93 to be shifted to the right. 77 and 54 are also shifted. When the item 26 is encountered, the shifting process stops and 31 is placed in the open position. Now we have a sorted sublist of six items.\n",
    "        * Analysis of Insertion Sort:\n",
    "            * Same number of comparisons, but in best case, only one comparison needs to be done on each pass (for an already sorted list)\n",
    "            * Shifting operation requires approx. a third of the processing work of an exchange operation since only one assignment is performed (making insertion sort more performant)\n",
    "    * **Shell Sort (Diminishing Increment Sort)** - improves on insertion sort by breaking the original list into a number of smaller sublist, each of which is sorted using an insertion sort. The unique way that these sublists are chosen is the key to shell sort.\n",
    "        * **Gap** - instead of breaking the list into sublists of contiguous items, the shell sort uses an increment $i$ to create a sublist by choosing all items that are $i$ items apart\n",
    "        ![shell_gap](shell_gap.png)\n",
    "        * e.g. 9 item list using increment of 3 $\\rightarrow$ 3 sublists sorted by an insertion sort\n",
    "        ![shell_sort](shell_sort.png)\n",
    "        * A final standard insertion sort is performed to put the list in its final order where the earlier sublist sorts have reduced the total number of shifting operations to 4\n",
    "        ![shell_final](shell_final.png)\n",
    "        * Analysis of Shell Sort:\n",
    "            * Final insertion sort does not need to do as many shift as insertion sort since it has been pre-sorted making the final pass very efficient\n",
    "            * Shell sort is between $O(n)$ and $O(n^2)$\n",
    "    * **Merge Sort** - divide and conquer strategy; a recursive algorithm that continually splits a list in half until the list is empty or has one item, then merges two smaller sorted lists and combining them together into a single, sorted, new list\n",
    "        * Continually split lists a half until empty or one item:\n",
    "        ![split_merge_sort](split_merge_sort.png)\n",
    "        * Merge two smaller sorted lists into single, sorted new list:\n",
    "        ![merge_merge_sort](merge_merge_sort.png)\n",
    "        * Analysis of Merge Sort:\n",
    "            * Two distinct processes that makeup merge sort:\n",
    "                1. List is split into halves (same computation time as binary search) $\\rightarrow O(\\log n)$\n",
    "                2. Merge operation processes each item in list of size $n$ requires $n$ operations\n",
    "            * Merge sort $\\rightarrow O(n \\log n)$\n",
    "            * Requires extra space to hold the two halves as they are extracted with the slicing operations. This additional space can be a critical factor if the list is large and can make this sort problematic when working on large datasets\n",
    "    * **Quick Sort** - divide and conquer strategy; first selects a **pivot value** that divides the list for subsequent calls, then uses two position markers to move items that are on wrong side with respect to pivot value while also converging on the split point and exchange the two items\n",
    "        * **Pivot value** - the value to assist with splitting the list (e.g. choosing the first item in the list)\n",
    "            * **Median of three** - alleviate some of the potential for an uneven division by calculating the pivot value using the median of first, middle, and last element of the list \n",
    "            * This is will allow us to more likely choose a \"middle\" value of the list\n",
    "            * e.g. for [54, 77, 20], the median value is 54\n",
    "        ![pivot_value](pivot_value.png)\n",
    "        * **Split point** - the actual position where the pivot value belongs in the final sorted list will be used to divide the list for subsequent calls to the quick sort\n",
    "        * **Partition** - finding the split point and at the same time moving the other items to appropriate sides of the list (either less than or greater than the pivot value)\n",
    "        ![partition](partition.png)\n",
    "        * At the point where right mark becomes less than left mark, we stop\n",
    "        ![divide_list_quicksort](divide_list_quicksort.png)\n",
    "            * At this point, all items to the left of the split point are less than the pivot value and all items right of the split point are greater than pivot value\n",
    "            * Now the list can be divided at the split point and quick sort invoked recursively on the two halves\n",
    "        * Gains the same advantages as the merge sort, while not using additional storage $\\rightarrow O(n \\log n)$\n",
    "        * (-) As a trade-off, however, it is possible that the list may not be divided in half, which diminishes performance $\\rightarrow O(n^2)$\n",
    "* Computational Efficiency:\n",
    "    * A **Bubble sort**, a **Selection sort**, and an **Insertion sort** are $O(n^2)$ algorithms.\n",
    "    * A **Shell sort** improves on the insertion sort by sorting incremental sublists. It falls between $O(n)$ and $O(n^2)$.\n",
    "    * A **Merge sort** is $O(n\\log n)$, but requires additional space for the merging process.\n",
    "    * A **Quick sort** is $O(n\\log n)$, but may degrade to $O(n^2)$ if the split points are not near the middle of the list. It does not require additional space."
   ]
  },
  {
   "cell_type": "markdown",
   "metadata": {},
   "source": [
    "Trees and Tree Algorithms\n",
    "* To understand what a tree data structure is and how it is used.\n",
    "* To see how trees can be used to implement a map data structure.\n",
    "* To implement trees using a list.\n",
    "* To implement trees using classes and references.\n",
    "* To implement trees as a recursive data structure.\n",
    "* To implement a priority queue using a heap."
   ]
  },
  {
   "cell_type": "markdown",
   "metadata": {},
   "source": [
    "1) Trees\n",
    "* **Tree** - a hierarchical data structure with connected layers (branches/edges) that has more general items at the top (root) and more specific things near the bottom (leaves)\n",
    "    * Used in many areas of computer science: OS, graphics, database systems, and computer networking\n",
    "    * Properties of Tree data structure:\n",
    "        1. Trees are hierarchical\n",
    "        2. All of the children of one node are independent of the children of another node\n",
    "        3. Each leaf node is unique\n",
    "        4. Can move entire sections of a tree (**subtree**) to a different position in the tree without affecting the lower levels of the hierarchy (e.g. move folder /etc to /usr does not affect contents of etc folder; only the path)\n",
    "    * e.g. Biological classification of animals with Kingdom at the top and Human at the bottom\n",
    "    ![tree](tree.png)\n",
    "    * e.g. Tree structure of a file system\n",
    "    ![filesystem](filesystem.png)"
   ]
  },
  {
   "cell_type": "code",
   "execution_count": 12,
   "metadata": {
    "collapsed": false
   },
   "outputs": [
    {
     "data": {
      "text/plain": [
       "10"
      ]
     },
     "execution_count": 12,
     "metadata": {},
     "output_type": "execute_result"
    }
   ],
   "source": [
    "# compute sum of first n integers with iteration\n",
    "def sum_of_n(n):\n",
    "    s=0\n",
    "    return sum([s+i for i in range(n+1)])\n",
    "sum_of_n(4)"
   ]
  },
  {
   "cell_type": "code",
   "execution_count": 15,
   "metadata": {
    "collapsed": false
   },
   "outputs": [
    {
     "name": "stdout",
     "output_type": "stream",
     "text": [
      "sum = 50005000 requiring 0.00106406211853 seconds\n",
      "sum = 50005000 requiring 0.00136208534241 seconds\n",
      "sum = 50005000 requiring 0.000566959381104 seconds\n",
      "sum = 50005000 requiring 0.000538110733032 seconds\n",
      "sum = 50005000 requiring 0.000536918640137 seconds\n"
     ]
    }
   ],
   "source": [
    "# compute sum of n five times on 10000 and record execution time (with iteration)\n",
    "import time\n",
    "def sum_of_n(n):\n",
    "    start = time.time()\n",
    "    s=0\n",
    "    s = sum([s+i for i in range(n+1)])\n",
    "    end = time.time()\n",
    "    return s, end-start\n",
    "\n",
    "for i in range(5):\n",
    "    s, t = sum_of_n(10000)\n",
    "    print \"sum = {} requiring {} seconds\".format(s, t)"
   ]
  },
  {
   "cell_type": "code",
   "execution_count": 16,
   "metadata": {
    "collapsed": false
   },
   "outputs": [
    {
     "name": "stdout",
     "output_type": "stream",
     "text": [
      "sum = 5000050000 requiring 0.0119159221649 seconds\n",
      "sum = 5000050000 requiring 0.00799989700317 seconds\n",
      "sum = 5000050000 requiring 0.00650501251221 seconds\n",
      "sum = 5000050000 requiring 0.00608897209167 seconds\n",
      "sum = 5000050000 requiring 0.00756692886353 seconds\n"
     ]
    }
   ],
   "source": [
    "# takes 10 times more seconds for 100000 (with iteration)\n",
    "for i in range(5):\n",
    "    s, t = sum_of_n(100000)\n",
    "    print \"sum = {} requiring {} seconds\".format(s, t)"
   ]
  },
  {
   "cell_type": "code",
   "execution_count": 17,
   "metadata": {
    "collapsed": false
   },
   "outputs": [
    {
     "name": "stdout",
     "output_type": "stream",
     "text": [
      "sum = 500000500000 requiring 0.108589887619 seconds\n",
      "sum = 500000500000 requiring 0.070611000061 seconds\n",
      "sum = 500000500000 requiring 0.0697379112244 seconds\n",
      "sum = 500000500000 requiring 0.0755400657654 seconds\n",
      "sum = 500000500000 requiring 0.0806031227112 seconds\n"
     ]
    }
   ],
   "source": [
    "# takes another 10 times more seconds for 1000000 (with iteration)\n",
    "for i in range(5):\n",
    "    s, t = sum_of_n(1000000)\n",
    "    print \"sum = {} requiring {} seconds\".format(s, t)"
   ]
  },
  {
   "cell_type": "code",
   "execution_count": 19,
   "metadata": {
    "collapsed": false
   },
   "outputs": [
    {
     "name": "stdout",
     "output_type": "stream",
     "text": [
      "sum = 50005000 requiring 9.53674316406e-07 seconds\n",
      "sum = 5000050000 requiring 9.53674316406e-07 seconds\n",
      "sum = 500000500000 requiring 9.53674316406e-07 seconds\n",
      "sum = 50000005000000 requiring 1.19209289551e-06 seconds\n"
     ]
    }
   ],
   "source": [
    "# benchmark measurements for 5 different values (10000,100000,1000000,100000000) without iterating\n",
    "def sum_of_n(n):\n",
    "    start = time.time()\n",
    "    s = (n*(n+1))/2\n",
    "    end = time.time()\n",
    "    print \"sum = {} requiring {} seconds\".format(s, end-start)\n",
    "sum_of_n(10000)\n",
    "sum_of_n(100000)\n",
    "sum_of_n(1000000)\n",
    "sum_of_n(10000000)"
   ]
  },
  {
   "cell_type": "code",
   "execution_count": 7,
   "metadata": {
    "collapsed": false
   },
   "outputs": [
    {
     "name": "stdout",
     "output_type": "stream",
     "text": [
      "25\n"
     ]
    }
   ],
   "source": [
    "# recursion for sum of n integers (no while or for-loops)\n",
    "def listsum(num_list):\n",
    "    # escape clause for function\n",
    "    if len(num_list) == 1:\n",
    "        return num_list[0]\n",
    "    else:\n",
    "        # calls the function itself making it recursive\n",
    "        return num_list[0] + listsum(num_list[1:])\n",
    "print(listsum([1,3,5,7,9]))"
   ]
  },
  {
   "cell_type": "code",
   "execution_count": 10,
   "metadata": {
    "collapsed": false
   },
   "outputs": [
    {
     "name": "stdout",
     "output_type": "stream",
     "text": [
      "5AD\n"
     ]
    }
   ],
   "source": [
    "# recursion for converting integers to strings in any base\n",
    "def to_str(n,base):\n",
    "    convert_string = \"0123456789ABCDEF\"\n",
    "    if n < base:\n",
    "        return convert_string[n]\n",
    "    else:\n",
    "        return to_str(n//base,base) + convert_string[n%base]\n",
    "\n",
    "print(to_str(1453,16))"
   ]
  },
  {
   "cell_type": "code",
   "execution_count": 5,
   "metadata": {
    "collapsed": false
   },
   "outputs": [],
   "source": [
    "# immutable = can't change assignment of variable once its been assigned\n",
    "# order = collection has an index associated with each item"
   ]
  },
  {
   "cell_type": "code",
   "execution_count": 6,
   "metadata": {
    "collapsed": false
   },
   "outputs": [
    {
     "name": "stdout",
     "output_type": "stream",
     "text": [
      "('concat ', 1.1122550964355469, 'milliseconds')\n",
      "('append ', 0.07872295379638672, 'milliseconds')\n",
      "('comprehension ', 0.039222002029418945, 'milliseconds')\n",
      "('list range ', 0.00821685791015625, 'milliseconds')\n"
     ]
    }
   ],
   "source": [
    "from timeit import Timer\n",
    "\n",
    "def test1():\n",
    "    l = []\n",
    "    for i in range(1000):\n",
    "        l = l + [i]\n",
    "\n",
    "def test2():\n",
    "    l = []\n",
    "    for i in range(1000):\n",
    "        l.append(i)\n",
    "\n",
    "def test3():\n",
    "    l = [i for i in range(1000)]\n",
    "\n",
    "def test4():\n",
    "    l = list(range(1000))\n",
    "    \n",
    "t1 = Timer(\"test1()\", \"from __main__ import test1\")\n",
    "print(\"concat \",t1.timeit(number=1000), \"milliseconds\")\n",
    "t2 = Timer(\"test2()\", \"from __main__ import test2\")\n",
    "print(\"append \",t2.timeit(number=1000), \"milliseconds\")\n",
    "t3 = Timer(\"test3()\", \"from __main__ import test3\")\n",
    "print(\"comprehension \",t3.timeit(number=1000), \"milliseconds\")\n",
    "t4 = Timer(\"test4()\", \"from __main__ import test4\")\n",
    "print(\"list range \",t4.timeit(number=1000), \"milliseconds\")"
   ]
  },
  {
   "cell_type": "code",
   "execution_count": 7,
   "metadata": {
    "collapsed": false,
    "scrolled": true
   },
   "outputs": [
    {
     "name": "stdout",
     "output_type": "stream",
     "text": [
      "pop(0)   pop()\n",
      "        0.36149,         0.00052\n",
      "        0.91700,         0.00109\n",
      "        1.44281,         0.00065\n",
      "        1.93341,         0.00092\n",
      "        2.42492,         0.00023\n",
      "        2.94241,         0.00022\n",
      "        3.48314,         0.00022\n",
      "        3.93863,         0.00025\n",
      "        4.64469,         0.00021\n",
      "        5.25534,         0.00085\n",
      "        5.54766,         0.00037\n",
      "        6.36941,         0.00023\n",
      "        7.17819,         0.00044\n",
      "        8.48678,         0.00019\n",
      "        8.73723,         0.00017\n",
      "        9.51300,         0.00023\n",
      "       10.62074,         0.00034\n",
      "       12.12321,         0.00044\n",
      "       13.36471,         0.00019\n",
      "       14.21241,         0.00030\n",
      "       15.72410,         0.00089\n",
      "       17.66197,         0.00034\n",
      "       17.54242,         0.00046\n",
      "       20.17256,         0.00039\n",
      "       20.98710,         0.00026\n",
      "       21.98139,         0.00026\n",
      "       21.57619,         0.00020\n",
      "       24.40228,         0.00028\n",
      "       24.66677,         0.00034\n",
      "       26.66551,         0.00033\n",
      "       27.60483,         0.00071\n",
      "       27.98293,         0.00019\n",
      "       29.08639,         0.00029\n",
      "       30.40444,         0.00027\n",
      "       32.08925,         0.00028\n",
      "       32.77380,         0.00024\n",
      "       34.75938,         0.00029\n",
      "       35.49285,         0.00033\n",
      "       36.61170,         0.00023\n",
      "       38.18499,         0.00080\n",
      "       39.14132,         0.00025\n",
      "       40.36429,         0.00033\n",
      "       40.79942,         0.00029\n",
      "       41.47839,         0.00025\n",
      "       42.34095,         0.00026\n",
      "       43.16285,         0.00044\n",
      "       44.20608,         0.00078\n",
      "       46.35271,         0.00023\n",
      "       46.42154,         0.00035\n",
      "       46.81249,         0.00043\n",
      "       47.59499,         0.00072\n",
      "       51.26388,         0.00022\n",
      "       49.92504,         0.00030\n",
      "       52.09506,         0.00074\n",
      "       52.44981,         0.00031\n",
      "       52.46641,         0.00038\n",
      "       54.79249,         0.00027\n",
      "       54.97546,         0.00072\n",
      "       57.50116,         0.00033\n",
      "       56.13335,         0.00081\n",
      "       57.87856,         0.00041\n",
      "       59.37591,         0.00024\n",
      "       60.45555,         0.00072\n",
      "       63.04445,         0.00021\n",
      "       63.17122,         0.00040\n",
      "       62.71812,         0.00028\n",
      "       63.72696,         0.00029\n",
      "       62.56038,         0.00068\n",
      "       63.88465,         0.00027\n",
      "       64.74872,         0.00030\n",
      "       68.15642,         0.00030\n",
      "       67.49259,         0.00034\n",
      "       69.68481,         0.00080\n",
      "       68.51156,         0.00035\n",
      "       71.70940,         0.00072\n",
      "       70.52603,         0.00032\n",
      "       72.98236,         0.00065\n",
      "       72.18286,         0.00023\n",
      "       75.80392,         0.00029\n",
      "       76.48521,         0.00035\n",
      "       75.68781,         0.00079\n",
      "       79.95578,         0.00043\n",
      "       78.88926,         0.00071\n",
      "       79.40350,         0.00034\n",
      "       80.30735,         0.00024\n",
      "       81.12546,         0.00034\n",
      "       82.93747,         0.00080\n",
      "       86.62999,         0.00035\n",
      "       88.08965,         0.00030\n",
      "       87.62061,         0.00022\n",
      "       90.45008,         0.00028\n",
      "       91.30013,         0.00073\n",
      "       91.79769,         0.00024\n",
      "       94.51268,         0.00038\n",
      "       94.45736,         0.00079\n",
      "       94.83264,         0.00050\n",
      "       94.07901,         0.00073\n",
      "       98.05374,         0.00033\n",
      "       98.69427,         0.00035\n",
      "      104.99212,         0.00030\n"
     ]
    }
   ],
   "source": [
    "popzero = Timer(\"x.pop(0)\",\n",
    "                \"from __main__ import x\")\n",
    "popend = Timer(\"x.pop()\",\n",
    "               \"from __main__ import x\")\n",
    "print(\"pop(0)   pop()\")\n",
    "for i in range(1000000,100000001,1000000):\n",
    "    x = list(range(i))\n",
    "    pt = popend.timeit(number=1000)\n",
    "    x = list(range(i))\n",
    "    pz = popzero.timeit(number=1000)\n",
    "    print(\"%.5f, %5.5f\" %(pz,pt))"
   ]
  },
  {
   "cell_type": "code",
   "execution_count": null,
   "metadata": {
    "collapsed": true
   },
   "outputs": [],
   "source": []
  }
 ],
 "metadata": {
  "anaconda-cloud": {},
  "kernelspec": {
   "display_name": "Python [Root]",
   "language": "python",
   "name": "Python [Root]"
  },
  "language_info": {
   "codemirror_mode": {
    "name": "ipython",
    "version": 2
   },
   "file_extension": ".py",
   "mimetype": "text/x-python",
   "name": "python",
   "nbconvert_exporter": "python",
   "pygments_lexer": "ipython2",
   "version": "2.7.13"
  }
 },
 "nbformat": 4,
 "nbformat_minor": 0
}
