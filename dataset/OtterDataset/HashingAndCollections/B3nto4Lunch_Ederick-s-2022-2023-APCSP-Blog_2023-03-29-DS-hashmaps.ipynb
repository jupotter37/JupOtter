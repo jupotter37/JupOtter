{
 "cells": [
  {
   "attachments": {},
   "cell_type": "markdown",
   "metadata": {},
   "source": [
    "#  Data Structures- Hashmaps, Sets, Hash Tables, Hashing and Collisions\n",
    "> Observing hashmaps with python dictionaries\n",
    "- toc: true\n",
    "- image: /images/python.png\n",
    "- categories: []\n",
    "- type: pbl\n",
    "- week: 28"
   ]
  },
  {
   "attachments": {},
   "cell_type": "markdown",
   "metadata": {},
   "source": [
    "## What is a Hashtable/Hashmap?\n",
    "\n",
    "> A hashtable is a data structure that with a collection of key-value pairs, where each key maps to a value, and the keys must be unique and hashable.\n",
    "\n",
    "- In Python there is a built in hashtable known as a _______________.\n",
    "\n",
    "> The primary purpose of a hashtable is to provide efficient lookup, insertion, and deletion operations. When an element is to be inserted into the hashtable, a hash function is used to map the key to a specific index in the underlying array that is used to store the key-value pairs. The value is then stored at that index. When searching for a value, the hash function is used again to find the index where the value is stored.\n",
    "\n",
    "> The key advantage of a hashtable over other data structures like arrays and linked lists is its average-case time complexity for lookup, insertion, and deletion operations.\n",
    "\n",
    "- The typical time complexity of a hashtable is _______________. \n"
   ]
  },
  {
   "attachments": {},
   "cell_type": "markdown",
   "metadata": {},
   "source": [
    "## What is Hashing and Collision?\n",
    "\n",
    "> Hashing is the process of mapping a given key to a value in a hash table or hashmap, using a hash function. The hash function takes the key as input and produces a hash value or hash code, which is then used to determine the index in the underlying array where the value is stored. The purpose of hashing is to provide a quick and efficient way to access data, by eliminating the need to search through an entire data structure to find a value.\n",
    "\n",
    "> However, it is possible for two different keys to map to the same hash value, resulting in a collision. When a collision occurs, there are different ways to resolve it, depending on the collision resolution strategy used.\n",
    "\n",
    "> Python's dictionary implementation is optimized to handle collisions efficiently, and the performance of the dictionary is generally very good, even in the presence of collisions. However, if the number of collisions is very high, the performance of the dictionary can degrade, so it is important to choose a good hash function that minimizes collisions when designing a Python dictionary.\n",
    "\n",
    "## What is a Set?"
   ]
  },
  {
   "cell_type": "code",
   "execution_count": 1,
   "metadata": {},
   "outputs": [
    {
     "name": "stdout",
     "output_type": "stream",
     "text": [
      "{1, 2, 3}\n"
     ]
    }
   ],
   "source": [
    "# Creating a set using set() function\n",
    "my_set = set([1, 2, 3, 2, 1])\n",
    "print(my_set)  \n",
    "\n",
    "# What do you notice in the output?\n",
    "# It only shows one of the values despite there being more than one of the same value\n",
    "#\n",
    "\n",
    "# Why do you think Sets are in the same tech talk as Hashmaps/Hashtables?\n",
    "# It clears redundancy in the output and is generally used to see just what are the values that people got, not really focused on how people got it though\n",
    "#"
   ]
  },
  {
   "attachments": {},
   "cell_type": "markdown",
   "metadata": {},
   "source": [
    "## Dictionary Example\n",
    "\n",
    "Below are just some basic features of a dictionary. As always, documentation is always the main source for all the full capablilties. "
   ]
  },
  {
   "cell_type": "code",
   "execution_count": 3,
   "metadata": {},
   "outputs": [
    {
     "name": "stdout",
     "output_type": "stream",
     "text": [
      "{'title': 'Lover', 'artist': 'Taylor Swift', 'year': 2019, 'genre': ['Pop', 'Synth-pop'], 'tracks': {1: 'I Forgot That You Existed', 2: 'Cruel Summer', 3: 'Lover', 4: 'The Man', 5: 'The Archer', 6: 'I Think He Knows', 7: 'Miss Americana & The Heartbreak Prince', 8: 'Paper Rings', 9: 'Cornelia Street', 10: 'Death By A Thousand Cuts', 11: 'London Boy', 12: \"Soon You'll Get Better (feat. Dixie Chicks)\", 13: 'False God', 14: 'You Need To Calm Down', 15: 'Afterglow', 16: 'Me! (feat. Brendon Urie of Panic! At The Disco)', 17: \"It's Nice To Have A Friend\", 18: 'Daylight'}}\n"
     ]
    }
   ],
   "source": [
    "# Creating a dictionary with information about the album \"Lover\"\n",
    "lover_album = {\n",
    "    \"title\": \"Lover\",\n",
    "    \"artist\": \"Taylor Swift\",\n",
    "    \"year\": 2019,\n",
    "    \"genre\": [\"Pop\", \"Synth-pop\"],\n",
    "    \"tracks\": {\n",
    "        1: \"I Forgot That You Existed\",\n",
    "        2: \"Cruel Summer\",\n",
    "        3: \"Lover\",\n",
    "        4: \"The Man\",\n",
    "        5: \"The Archer\",\n",
    "        6: \"I Think He Knows\",\n",
    "        7: \"Miss Americana & The Heartbreak Prince\",\n",
    "        8: \"Paper Rings\",\n",
    "        9: \"Cornelia Street\",\n",
    "        10: \"Death By A Thousand Cuts\",\n",
    "        11: \"London Boy\",\n",
    "        12: \"Soon You'll Get Better (feat. Dixie Chicks)\",\n",
    "        13: \"False God\",\n",
    "        14: \"You Need To Calm Down\",\n",
    "        15: \"Afterglow\",\n",
    "        16: \"Me! (feat. Brendon Urie of Panic! At The Disco)\",\n",
    "        17: \"It's Nice To Have A Friend\",\n",
    "        18: \"Daylight\"\n",
    "    }\n",
    "}\n",
    "\n",
    "# What data structures do you see?\n",
    "# Strings, Integers\n",
    "# Dictionaries\n",
    "\n",
    "# Printing the dictionary\n",
    "print(lover_album)"
   ]
  },
  {
   "cell_type": "code",
   "execution_count": 9,
   "metadata": {},
   "outputs": [
    {
     "name": "stdout",
     "output_type": "stream",
     "text": [
      "{1: 'Rockstar Made', 2: 'Go2DaMoon (Feat. Kanye West)', 3: 'Stop Breathing', 4: 'Beno!', 5: 'JumpOutTheHouse', 6: 'M3tamorphosis (feat. Kid Cudi)', 7: 'Slay3r', 8: 'No Sl33p', 9: 'New Tank', 10: 'Teen X', 11: 'Meh', 12: 'Vamp Anthem', 13: 'New Neon', 14: 'Punk Monk', 15: 'On That Time', 16: 'King Vamp', 17: 'Place', 18: 'Sky', 19: 'Over', 20: 'ILoveUIHateU', 21: 'Die4Guy', 22: 'Not PLaying', 23: 'F33l Lik3 Dyin'}\n",
      "{'title': 'Whole Lotta Red', 'artist': 'Playboi Carti', 'year': 2020, 'genre': ['Rap', 'R&B'], 'record_label': 'Interscope Records', 'length': '1:02:29', 'tracks': {1: 'Rockstar Made', 2: 'Go2DaMoon (Feat. Kanye West)', 3: 'Stop Breathing', 4: 'Beno!', 5: 'JumpOutTheHouse', 6: 'M3tamorphosis (feat. Kid Cudi)', 7: 'Slay3r', 8: 'No Sl33p', 9: 'New Tank', 10: 'Teen X', 11: 'Meh', 12: 'Vamp Anthem', 13: 'New Neon', 14: 'Punk Monk', 15: 'On That Time', 16: 'King Vamp', 17: 'Place', 18: 'Sky', 19: 'Over', 20: 'ILoveUIHateU', 21: 'Die4Guy', 22: 'Not PLaying', 23: 'F33l Lik3 Dyin'}, 'chart_performance': {'Billboard 200': 1, 'UK Albums Chart': 5}, 'background_info': \"Whole Lotta Red is Playboi Carti's second studio album, released on December 25, 2020. The album features guest appearances from Kanye West and Kid Cudi, and was produced primarily by Pi'erre Bourne. Carti has described the album as his most experimental work to date, and has cited punk rock and heavy metal as influences.\"}\n"
     ]
    }
   ],
   "source": [
    "Whole_Lotta_Red = {\n",
    "\"title\": \"Whole Lotta Red\",\n",
    "\"artist\": \"Playboi Carti\",\n",
    "\"year\": 2020,\n",
    "\"genre\": [\"Rap\", \"R&B\"],\n",
    "\"record_label\": \"Interscope Records\",\n",
    "\"length\": \"1:02:29\",\n",
    "\"tracks\": {\n",
    "1: \"Rockstar Made\",\n",
    "2: \"Go2DaMoon (Feat. Kanye West)\",\n",
    "3: \"Stop Breathing\",\n",
    "4: \"Beno!\",\n",
    "5: \"JumpOutTheHouse\",\n",
    "6: \"M3tamorphosis (feat. Kid Cudi)\",\n",
    "7: \"Slay3r\",\n",
    "8: \"No Sl33p\",\n",
    "9: \"New Tank\",\n",
    "10: \"Teen X\",\n",
    "11: \"Meh\",\n",
    "12: \"Vamp Anthem\",\n",
    "13: \"New Neon\",\n",
    "14: \"Punk Monk\",\n",
    "15: \"On That Time\",\n",
    "16: \"King Vamp\",\n",
    "17: \"Place\",\n",
    "18: \"Sky\",\n",
    "19: \"Over\",\n",
    "20: \"ILoveUIHateU\",\n",
    "21: \"Die4Guy\",\n",
    "22: \"Not PLaying\",\n",
    "23: \"F33l Lik3 Dyin\"\n",
    "},\n",
    "\"chart_performance\": {\n",
    "\"Billboard 200\": 1,\n",
    "\"UK Albums Chart\": 5\n",
    "},\n",
    "\"background_info\": \"Whole Lotta Red is Playboi Carti's second studio album, released on December 25, 2020. The album features guest appearances from Kanye West and Kid Cudi, and was produced primarily by Pi'erre Bourne. Carti has described the album as his most experimental work to date, and has cited punk rock and heavy metal as influences.\"\n",
    "}\n",
    "\n",
    "\n",
    "\n",
    "\n",
    "\n",
    "\n",
    "print(Whole_Lotta_Red[\"tracks\"])\n",
    "print(Whole_Lotta_Red\n",
    "      )"
   ]
  },
  {
   "cell_type": "code",
   "execution_count": 4,
   "metadata": {},
   "outputs": [
    {
     "name": "stdout",
     "output_type": "stream",
     "text": [
      "{1: 'I Forgot That You Existed', 2: 'Cruel Summer', 3: 'Lover', 4: 'The Man', 5: 'The Archer', 6: 'I Think He Knows', 7: 'Miss Americana & The Heartbreak Prince', 8: 'Paper Rings', 9: 'Cornelia Street', 10: 'Death By A Thousand Cuts', 11: 'London Boy', 12: \"Soon You'll Get Better (feat. Dixie Chicks)\", 13: 'False God', 14: 'You Need To Calm Down', 15: 'Afterglow', 16: 'Me! (feat. Brendon Urie of Panic! At The Disco)', 17: \"It's Nice To Have A Friend\", 18: 'Daylight'}\n",
      "{1: 'I Forgot That You Existed', 2: 'Cruel Summer', 3: 'Lover', 4: 'The Man', 5: 'The Archer', 6: 'I Think He Knows', 7: 'Miss Americana & The Heartbreak Prince', 8: 'Paper Rings', 9: 'Cornelia Street', 10: 'Death By A Thousand Cuts', 11: 'London Boy', 12: \"Soon You'll Get Better (feat. Dixie Chicks)\", 13: 'False God', 14: 'You Need To Calm Down', 15: 'Afterglow', 16: 'Me! (feat. Brendon Urie of Panic! At The Disco)', 17: \"It's Nice To Have A Friend\", 18: 'Daylight'}\n"
     ]
    }
   ],
   "source": [
    "# Retrieve value from dictionary with key\n",
    "print(lover_album.get('tracks'))\n",
    "# or\n",
    "print(lover_album['tracks'])"
   ]
  },
  {
   "cell_type": "code",
   "execution_count": 10,
   "metadata": {},
   "outputs": [
    {
     "name": "stdout",
     "output_type": "stream",
     "text": [
      "The Man\n",
      "The Man\n"
     ]
    }
   ],
   "source": [
    "# Retrieve value from a dictionary inside a dictionary\n",
    "print(lover_album.get('tracks')[4])\n",
    "# or\n",
    "print(lover_album['tracks'][4])"
   ]
  },
  {
   "cell_type": "code",
   "execution_count": 6,
   "metadata": {},
   "outputs": [
    {
     "name": "stdout",
     "output_type": "stream",
     "text": [
      "{'Taylor Swift', 'Jack Antonoff', 'Joel Little', 'Louis Bell', 'Frank Dukes'}\n"
     ]
    }
   ],
   "source": [
    "# adding a value with a new key\n",
    "lover_album[\"producer\"] = set(['Taylor Swift', 'Jack Antonoff', 'Joel Little', 'Taylor Swift', 'Louis Bell', 'Frank Dukes'])\n",
    "\n",
    "# What can you change to make sure there are no duplicate producers?\n",
    "# Use the set function\n",
    "#\n",
    "\n",
    "# Printing the dictionary\n",
    "\n",
    "\n",
    "print(lover_album[\"producer\"])"
   ]
  },
  {
   "cell_type": "code",
   "execution_count": 12,
   "metadata": {},
   "outputs": [
    {
     "ename": "AttributeError",
     "evalue": "'list' object has no attribute 'update'",
     "output_type": "error",
     "traceback": [
      "\u001b[0;31m---------------------------------------------------------------------------\u001b[0m",
      "\u001b[0;31mAttributeError\u001b[0m                            Traceback (most recent call last)",
      "\u001b[0;32m/var/folders/r0/j8t2jdsj4mz5cg5ssn4mncj40000gp/T/ipykernel_56599/2234677177.py\u001b[0m in \u001b[0;36m<module>\u001b[0;34m\u001b[0m\n\u001b[1;32m      1\u001b[0m \u001b[0;31m# Adding a an key-value pair to an existing key\u001b[0m\u001b[0;34m\u001b[0m\u001b[0;34m\u001b[0m\u001b[0m\n\u001b[1;32m      2\u001b[0m \u001b[0mlover_album\u001b[0m\u001b[0;34m[\u001b[0m\u001b[0;34m\"tracks\"\u001b[0m\u001b[0;34m]\u001b[0m\u001b[0;34m.\u001b[0m\u001b[0mupdate\u001b[0m\u001b[0;34m(\u001b[0m\u001b[0;34m{\u001b[0m\u001b[0;36m19\u001b[0m\u001b[0;34m:\u001b[0m \u001b[0;34m\"All Of The Girls You Loved Before\"\u001b[0m\u001b[0;34m}\u001b[0m\u001b[0;34m)\u001b[0m\u001b[0;34m\u001b[0m\u001b[0;34m\u001b[0m\u001b[0m\n\u001b[0;32m----> 3\u001b[0;31m \u001b[0mlover_album\u001b[0m\u001b[0;34m[\u001b[0m\u001b[0;34m\"genre\"\u001b[0m\u001b[0;34m]\u001b[0m\u001b[0;34m.\u001b[0m\u001b[0mupdate\u001b[0m\u001b[0;34m(\u001b[0m\u001b[0;34m\"Pop\"\u001b[0m\u001b[0;34m)\u001b[0m\u001b[0;34m\u001b[0m\u001b[0;34m\u001b[0m\u001b[0m\n\u001b[0m\u001b[1;32m      4\u001b[0m \u001b[0;34m\u001b[0m\u001b[0m\n\u001b[1;32m      5\u001b[0m \u001b[0;31m# How would add an additional genre to the dictionary, like electropop?\u001b[0m\u001b[0;34m\u001b[0m\u001b[0;34m\u001b[0m\u001b[0m\n",
      "\u001b[0;31mAttributeError\u001b[0m: 'list' object has no attribute 'update'"
     ]
    }
   ],
   "source": [
    "# Adding a an key-value pair to an existing key \n",
    "lover_album[\"tracks\"].update({19: \"All Of The Girls You Loved Before\"})\n",
    "lover_album[\"genre\"].update(\"Pop\")\n",
    "\n",
    "# How would add an additional genre to the dictionary, like electropop? \n",
    "# You would update the dictionary by using the update function\n",
    "# \n",
    "\n",
    "# Printing the dictionary\n",
    "print(lover_album)"
   ]
  },
  {
   "cell_type": "code",
   "execution_count": 4,
   "metadata": {},
   "outputs": [
    {
     "ename": "NameError",
     "evalue": "name 'lover_album' is not defined",
     "output_type": "error",
     "traceback": [
      "\u001b[0;31m---------------------------------------------------------------------------\u001b[0m",
      "\u001b[0;31mNameError\u001b[0m                                 Traceback (most recent call last)",
      "\u001b[0;32m/var/folders/r0/j8t2jdsj4mz5cg5ssn4mncj40000gp/T/ipykernel_49920/2129099612.py\u001b[0m in \u001b[0;36m<module>\u001b[0;34m\u001b[0m\n\u001b[1;32m      1\u001b[0m \u001b[0;31m# Print lover_album in more readable format\u001b[0m\u001b[0;34m\u001b[0m\u001b[0;34m\u001b[0m\u001b[0m\n\u001b[0;32m----> 2\u001b[0;31m \u001b[0;32mfor\u001b[0m \u001b[0mk\u001b[0m\u001b[0;34m,\u001b[0m\u001b[0mv\u001b[0m \u001b[0;32min\u001b[0m \u001b[0mlover_album\u001b[0m\u001b[0;34m.\u001b[0m\u001b[0mitems\u001b[0m\u001b[0;34m(\u001b[0m\u001b[0;34m)\u001b[0m\u001b[0;34m:\u001b[0m \u001b[0;31m# iterate using a for loop for key and value\u001b[0m\u001b[0;34m\u001b[0m\u001b[0;34m\u001b[0m\u001b[0m\n\u001b[0m\u001b[1;32m      3\u001b[0m     \u001b[0mprint\u001b[0m\u001b[0;34m(\u001b[0m\u001b[0mstr\u001b[0m\u001b[0;34m(\u001b[0m\u001b[0mk\u001b[0m\u001b[0;34m)\u001b[0m \u001b[0;34m+\u001b[0m \u001b[0;34m\": \"\u001b[0m \u001b[0;34m+\u001b[0m \u001b[0mstr\u001b[0m\u001b[0;34m(\u001b[0m\u001b[0mv\u001b[0m\u001b[0;34m)\u001b[0m\u001b[0;34m)\u001b[0m\u001b[0;34m\u001b[0m\u001b[0;34m\u001b[0m\u001b[0m\n\u001b[1;32m      4\u001b[0m \u001b[0;34m\u001b[0m\u001b[0m\n\u001b[1;32m      5\u001b[0m \u001b[0;31m# Write your own code to print tracks in readable format\u001b[0m\u001b[0;34m\u001b[0m\u001b[0;34m\u001b[0m\u001b[0m\n",
      "\u001b[0;31mNameError\u001b[0m: name 'lover_album' is not defined"
     ]
    }
   ],
   "source": [
    "# Print lover_album in more readable format\n",
    "for k,v in lover_album.items(): # iterate using a for loop for key and value\n",
    "    print(str(k) + \": \" + str(v))\n",
    "\n",
    "# Write your own code to print tracks in readable format\n",
    "# \n",
    "#\n"
   ]
  },
  {
   "cell_type": "code",
   "execution_count": null,
   "metadata": {},
   "outputs": [],
   "source": [
    "# Using conditionals to retrieve a random song\n",
    "def search():\n",
    "    search = input(\"What would you like to know about the album?\")\n",
    "    if lover_album.get(search.lower()) == None:\n",
    "        print(\"Invalid Search\")\n",
    "    else:\n",
    "        print(lover_album.get(search.lower()))\n",
    "\n",
    "search()\n",
    "\n",
    "# This is a very basic code segment, how can you improve upon this code?\n",
    "# The following can have many different things added and changed to improve it. Currently, all it does is check for whether a song's title is valid on the album or not. However, let's change a few things that can make it case sensitive\n",
    "# By making the code case sensitive, it will be able to identify if the song is on the album even the the user fails to make it so that the album's songs are correctly captialized\n",
    "# Additionally, the code can further be worked on upon by adding multiple dictionaries of other Albums made by Taylor Swift to make it so that if a user makes an input of song that is not on Lover."
   ]
  },
  {
   "attachments": {},
   "cell_type": "markdown",
   "metadata": {},
   "source": [
    "## Hacks\n",
    "\n",
    "- Answer *ALL* questions in the code segments\n",
    "- Create a diagram or comparison illustration (Canva).\n",
    "    - What are the pro and cons of using this data structure? \n",
    "    - Dictionary vs List \n",
    "Dictionary:\n",
    "\n",
    "Pros: Fast lookup, can represent structured data, flexible keys.\n",
    "Cons: Unordered, no duplicate keys.\n",
    "List:\n",
    "\n",
    "Pros: Ordered, can store duplicate values, easy to manipulate.\n",
    "Cons: Slow lookup, limited key options.   \n",
    "\n",
    "[Dictionary](https://www.canva.com/design/DAFfBjKlzcI/7LLMndTFTWy1fSWnZyRdMg/view?utm_content=DAFfBjKlzcI&utm_campaign=designshare&utm_medium=link2&utm_source=sharebutton)\n",
    "[Lists](https://www.canva.com/design/DAFfBsPluC4/NAvZN-VkjA1dWQk_vsRaGg/view?utm_content=DAFfBsPluC4&utm_campaign=designshare&utm_medium=link2&utm_source=sharebutton)\n",
    "- Expand upon the code given to you, possible improvements in comments\n",
    "- Build your own album showing features of a python dictionary\n",
    "\n",
    "- For Mr. Yeung's class: Justify your favorite Taylor Swift song, answer may effect seed\n",
    "    -  My favorite song by Taylor Swift is Champagne Problems on Evermore. I really like how slow and relaxing the piano is in the background and how she narrates an amazing song about a lovers slowly separating due to diveraging interests and priorities. My sister explained it to me one day and I just thought the concept was very interesting, and it's been my favorite song by her since. It's very soothing to listen to late at night and the chorus and melody is very rememberable. I just enjoy listening to this song in the car or late at night. "
   ]
  },
  {
   "cell_type": "code",
   "execution_count": null,
   "metadata": {},
   "outputs": [],
   "source": [
    "Whole_Lotta_Red = {\n",
    "\"title\": \"Whole Lotta Red\",\n",
    "\"artist\": \"Playboi Carti\",\n",
    "\"year\": 2020,\n",
    "\"genre\": [\"Rap\", \"R&B\"],\n",
    "\"record_label\": \"Interscope Records\",\n",
    "\"length\": \"1:02:29\",\n",
    "\"tracks\": {\n",
    "1: \"Rockstar Made\",\n",
    "2: \"Go2DaMoon (Feat. Kanye West)\",\n",
    "3: \"Stop Breathing\",\n",
    "4: \"Beno!\",\n",
    "5: \"JumpOutTheHouse\",\n",
    "6: \"M3tamorphosis (feat. Kid Cudi)\",\n",
    "7: \"Slay3r\",\n",
    "8: \"No Sl33p\",\n",
    "9: \"New Tank\",\n",
    "10: \"Teen X\",\n",
    "11: \"Meh\",\n",
    "12: \"Vamp Anthem\",\n",
    "13: \"New Neon\",\n",
    "14: \"Punk Monk\",\n",
    "15: \"On That Time\",\n",
    "16: \"King Vamp\",\n",
    "17: \"Place\",\n",
    "18: \"Sky\",\n",
    "19: \"Over\",\n",
    "20: \"ILoveUIHateU\",\n",
    "21: \"Die4Guy\",\n",
    "22: \"Not PLaying\",\n",
    "23: \"F33l Lik3 Dyin\"\n",
    "},\n",
    "\"chart_performance\": {\n",
    "\"Billboard 200\": 1,\n",
    "\"UK Albums Chart\": 5\n",
    "},\n",
    "\"background_info\": \"Whole Lotta Red is Playboi Carti's second studio album, released on December 25, 2020. The album features guest appearances from Kanye West and Kid Cudi, and was produced primarily by Pi'erre Bourne. Carti has described the album as his most experimental work to date, and has cited punk rock and heavy metal as influences.\"\n",
    "}\n",
    "\n",
    "\n",
    "\n",
    "\n",
    "\n",
    "\n",
    "print(Whole_Lotta_Red[\"tracks\"])\n",
    "print(Whole_Lotta_Red)"
   ]
  }
 ],
 "metadata": {
  "kernelspec": {
   "display_name": "base",
   "language": "python",
   "name": "python3"
  },
  "language_info": {
   "codemirror_mode": {
    "name": "ipython",
    "version": 3
   },
   "file_extension": ".py",
   "mimetype": "text/x-python",
   "name": "python",
   "nbconvert_exporter": "python",
   "pygments_lexer": "ipython3",
   "version": "3.9.13"
  },
  "orig_nbformat": 4,
  "vscode": {
   "interpreter": {
    "hash": "40d3a090f54c6569ab1632332b64b2c03c39dcf918b08424e98f38b5ae0af88f"
   }
  }
 },
 "nbformat": 4,
 "nbformat_minor": 2
}
