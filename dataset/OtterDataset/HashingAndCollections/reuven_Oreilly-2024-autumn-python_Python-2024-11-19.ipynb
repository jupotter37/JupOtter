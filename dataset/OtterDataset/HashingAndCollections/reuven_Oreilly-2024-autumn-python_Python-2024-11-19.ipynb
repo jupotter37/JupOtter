{
 "cells": [
  {
   "cell_type": "markdown",
   "metadata": {},
   "source": [
    "# Agenda: Week 3\n",
    "\n",
    "1. Q&A\n",
    "2. Dictionaries\n",
    "    - Defining them\n",
    "    - Retrieving from them\n",
    "    - Modifying them\n",
    "    - Three paradigms of dictionary use\n",
    "    - Looping over dictionaries\n",
    "    - How do dicts work behind the scenes?\n",
    "3. Files (text files)\n",
    "    - How do we read from a file?\n",
    "    - Iterating over file objects\n",
    "    - Writing to files and the `with` construct"
   ]
  },
  {
   "cell_type": "markdown",
   "metadata": {},
   "source": [
    "# Dictionaries\n",
    "\n",
    "So far, we've talked about several types of \"collections\" in Python, data structures that contain other data structures:\n",
    "\n",
    "- Strings (which contain characters)\n",
    "- Lists (the main container, which contain anything -- traditionally many items of the same type)\n",
    "- Tuples (contains, traditionally containing different types)\n",
    "\n",
    "In all of these cases, we store and retrieve via the index, which starts at 0 and goes up to the length - 1.\n",
    "\n",
    "Two problems: \n",
    "\n",
    "1. If we want to search for something, it can take a long time to find it, because we need to iterate over the entire data structure in order to search. The longer the string/list/tuple, the longer it can take to find out if a value is there.\n",
    "2. Storing and retrieving by numeric index is not very intuitive.  We might want to store/retrieve information about employees by their ID number. Or about cars by their license plates. We *can* use the indexes, but something else might be nicer/better/easier to work with.\n",
    "\n",
    "This is where dicts come in. Python is not the only language with dictionaries!  In other languages, we call them:\n",
    "\n",
    "- Hash tables\n",
    "- Hashes\n",
    "- Hash maps\n",
    "- Maps\n",
    "- Name-value pairs\n",
    "- Key-value pairs\n",
    "- Associative arrays\n",
    "\n",
    "The idea is that we are going to store not individual values, but *pairs* of values. One is called the \"key\" (it's the equivalent to an index) and the other is the \"value.\" \n",
    "\n",
    "We can only work with pairs, never just a key or just a value.\n",
    "\n",
    "Some rules for dicts:\n",
    "\n",
    "- Every key has a value, and every value has a key.\n",
    "- Values can be *ANYTHING* at all in the Python world.\n",
    "- Keys are more restricted: They must be immutable (basically: numbers, strings, tuples), and they cannot repeat.\n",
    "\n",
    "It's most common for us to define a dict with strings as keys, and something else (integers, floats, other strings) as the values.\n",
    "\n",
    "You can think of a dict in some ways as a list in which we get to control not only the value that's stored, but also the index (key) we use to store it."
   ]
  },
  {
   "cell_type": "markdown",
   "metadata": {},
   "source": [
    "# Dict syntax\n",
    "\n",
    "To define a dict:\n",
    "\n",
    "- We use `{}`\n",
    "- Each key-value pair has a `:` between the key and the value\n",
    "- Pairs are separated by `,`\n"
   ]
  },
  {
   "cell_type": "code",
   "execution_count": 1,
   "metadata": {},
   "outputs": [],
   "source": [
    "d = {'a':10, 'b':20, 'c':30}    # here, I'm creating a dict with three pairs"
   ]
  },
  {
   "cell_type": "code",
   "execution_count": 2,
   "metadata": {},
   "outputs": [
    {
     "data": {
      "text/plain": [
       "10"
      ]
     },
     "execution_count": 2,
     "metadata": {},
     "output_type": "execute_result"
    }
   ],
   "source": [
    "# we retrieve from a dict using [], just as we do with strings, lists, and tuples\n",
    "# but in the [], we put the key we want\n",
    "\n",
    "d['a']  "
   ]
  },
  {
   "cell_type": "code",
   "execution_count": 3,
   "metadata": {},
   "outputs": [
    {
     "data": {
      "text/plain": [
       "10"
      ]
     },
     "execution_count": 3,
     "metadata": {},
     "output_type": "execute_result"
    }
   ],
   "source": [
    "k = 'a'   # assign to a variable\n",
    "d[k]  "
   ]
  },
  {
   "cell_type": "code",
   "execution_count": 4,
   "metadata": {},
   "outputs": [
    {
     "ename": "KeyError",
     "evalue": "'wxyz'",
     "output_type": "error",
     "traceback": [
      "\u001b[0;31m---------------------------------------------------------------------------\u001b[0m",
      "\u001b[0;31mKeyError\u001b[0m                                  Traceback (most recent call last)",
      "Cell \u001b[0;32mIn[4], line 1\u001b[0m\n\u001b[0;32m----> 1\u001b[0m \u001b[43md\u001b[49m\u001b[43m[\u001b[49m\u001b[38;5;124;43m'\u001b[39;49m\u001b[38;5;124;43mwxyz\u001b[39;49m\u001b[38;5;124;43m'\u001b[39;49m\u001b[43m]\u001b[49m   \u001b[38;5;66;03m# ask for a key that doesn't exist...\u001b[39;00m\n",
      "\u001b[0;31mKeyError\u001b[0m: 'wxyz'"
     ]
    }
   ],
   "source": [
    "d['wxyz']   # ask for a key that doesn't exist..."
   ]
  },
  {
   "cell_type": "code",
   "execution_count": 5,
   "metadata": {},
   "outputs": [
    {
     "data": {
      "text/plain": [
       "3"
      ]
     },
     "execution_count": 5,
     "metadata": {},
     "output_type": "execute_result"
    }
   ],
   "source": [
    "# get the length of a dict with len()\n",
    "len(d)"
   ]
  },
  {
   "cell_type": "code",
   "execution_count": 6,
   "metadata": {},
   "outputs": [
    {
     "data": {
      "text/plain": [
       "{'a': 10, 'b': 20, 'c': 30}"
      ]
     },
     "execution_count": 6,
     "metadata": {},
     "output_type": "execute_result"
    }
   ],
   "source": [
    "d"
   ]
  },
  {
   "cell_type": "code",
   "execution_count": 7,
   "metadata": {},
   "outputs": [
    {
     "data": {
      "text/plain": [
       "True"
      ]
     },
     "execution_count": 7,
     "metadata": {},
     "output_type": "execute_result"
    }
   ],
   "source": [
    "# if we want to avoid an error, then we don't want to request a key that doesn't exist\n",
    "# we can use \"in\" to search in a dict's keys, to know if the key exists.\n",
    "# note that \"in\" NEVER EVER searches in the values, only in the keys\n",
    "\n",
    "'a' in d   # is 'a' a key in d?"
   ]
  },
  {
   "cell_type": "code",
   "execution_count": 8,
   "metadata": {},
   "outputs": [
    {
     "data": {
      "text/plain": [
       "False"
      ]
     },
     "execution_count": 8,
     "metadata": {},
     "output_type": "execute_result"
    }
   ],
   "source": [
    "'x' in d"
   ]
  },
  {
   "cell_type": "markdown",
   "metadata": {},
   "source": [
    "- Keys are unique and immutable\n",
    "- Values can be anything at all, no restrictions on types or repetition"
   ]
  },
  {
   "cell_type": "code",
   "execution_count": 9,
   "metadata": {},
   "outputs": [],
   "source": [
    "person = {'first_name':'Reuven', 'last_name':'Lerner', 'shoe_size':46}"
   ]
  },
  {
   "cell_type": "code",
   "execution_count": 10,
   "metadata": {},
   "outputs": [
    {
     "data": {
      "text/plain": [
       "'Reuven'"
      ]
     },
     "execution_count": 10,
     "metadata": {},
     "output_type": "execute_result"
    }
   ],
   "source": [
    "# I've now created a dict with three key-value pairs\n",
    "\n",
    "person['first_name']"
   ]
  },
  {
   "cell_type": "code",
   "execution_count": 11,
   "metadata": {},
   "outputs": [
    {
     "data": {
      "text/plain": [
       "46"
      ]
     },
     "execution_count": 11,
     "metadata": {},
     "output_type": "execute_result"
    }
   ],
   "source": [
    "person['shoe_size']"
   ]
  },
  {
   "cell_type": "code",
   "execution_count": 12,
   "metadata": {},
   "outputs": [
    {
     "ename": "KeyError",
     "evalue": "'email'",
     "output_type": "error",
     "traceback": [
      "\u001b[0;31m---------------------------------------------------------------------------\u001b[0m",
      "\u001b[0;31mKeyError\u001b[0m                                  Traceback (most recent call last)",
      "Cell \u001b[0;32mIn[12], line 1\u001b[0m\n\u001b[0;32m----> 1\u001b[0m \u001b[43mperson\u001b[49m\u001b[43m[\u001b[49m\u001b[38;5;124;43m'\u001b[39;49m\u001b[38;5;124;43memail\u001b[39;49m\u001b[38;5;124;43m'\u001b[39;49m\u001b[43m]\u001b[49m\n",
      "\u001b[0;31mKeyError\u001b[0m: 'email'"
     ]
    }
   ],
   "source": [
    "person['email']"
   ]
  },
  {
   "cell_type": "code",
   "execution_count": 14,
   "metadata": {},
   "outputs": [
    {
     "name": "stdout",
     "output_type": "stream",
     "text": [
      "Who has email any more?\n"
     ]
    }
   ],
   "source": [
    "if 'email' in person:\n",
    "    print(person['email'])\n",
    "else:\n",
    "    print('Who has email any more?')"
   ]
  },
  {
   "cell_type": "markdown",
   "metadata": {},
   "source": [
    "When we use `in` to search in a string, list, or tuple, we're searching through each of the values, one at a time.\n",
    "\n",
    "When we use `in` to search a dict's keys, we're actually going straight to the place in memory where the key might (if it's there) be stored. And we know right away. This is a far faster search, and takes much less time."
   ]
  },
  {
   "cell_type": "markdown",
   "metadata": {},
   "source": [
    "# Uses for dicts\n",
    "\n",
    "It turns out that there are *many* programming problems that are elegantly solved using dicts:\n",
    "\n",
    "- user IDs and user records in a database\n",
    "- filenames and file attributes\n",
    "- filenames and file contents\n",
    "- directory names and file objects in that directory\n",
    "\n",
    "The fact that a dict can use strings for keys allows us to use natural, human types of information to store and retrieve. We can even get input from the user and use that to search through our dict."
   ]
  },
  {
   "cell_type": "markdown",
   "metadata": {
    "jp-MarkdownHeadingCollapsed": true
   },
   "source": [
    "# To define a dict\n",
    "\n",
    "- Use `{}` on the outside\n",
    "- Each key-value pair has a `:` between the key and value\n",
    "- The pairs are separated with `,`\n",
    "\n",
    "```python\n",
    "month_numbers = {'Jan':1, 'Feb':2, 'Mar':3, 'Apr':4}\n",
    "month_names = {1:'Jan', 2:'Feb', 3:'Mar', 4:'Apr'}\n",
    "letter_values = {'a':1, 'b':2, 'c':3, 'd':4, 'e':5, 'f':6}\n",
    "```"
   ]
  },
  {
   "cell_type": "markdown",
   "metadata": {},
   "source": [
    "# Exercise: Restaurant\n",
    "\n",
    "1. Define a dict, `menu`, which represents the menu at a restaurant. (You can decide what the restaurant sells, and what prices they have.)\n",
    "2. Define `total`, an integer to be 0.\n",
    "3. Ask the user, repeatedly, to enter the name of the dish they want to order\n",
    "    - If they enter an empty string, then stop asking and print the total\n",
    "4. If the item is on the menu, then print the item, its price, and the new total.\n",
    "5. If the item is *not* on the menu, then scold the user and let them try again.\n",
    "6. In the end, print the total.\n",
    "\n",
    "Example:\n",
    "\n",
    "    Order: sandwich\n",
    "    sandwich is 10, total is 10\n",
    "    Order: tea\n",
    "    tea is 8, total is 18\n",
    "    Order: elephant\n",
    "    we're fresh out of elephant today!\n",
    "    Order: [ENTER]\n",
    "    total is 18\n",
    "\n",
    "Plan:\n",
    "- Create a dict with keys (strings/items) and values (prices)\n",
    "- Use a `while` loop to ask the user repeatedly to enter what they want to order\n",
    "- Use `input` in the `while` loop to get the user's input\n",
    "- Check if the user entered an empty string, and if so, use `break` to leave the loop\n",
    "- Check if the user's input is in the dict with `in`\n",
    "- Update `total` accordingly"
   ]
  },
  {
   "cell_type": "code",
   "execution_count": 15,
   "metadata": {},
   "outputs": [
    {
     "data": {
      "text/plain": [
       "4"
      ]
     },
     "execution_count": 15,
     "metadata": {},
     "output_type": "execute_result"
    }
   ],
   "source": [
    "menu = {'sandwich':10, 'tea':8, 'apple':3, 'cake':5} \n",
    "len(menu)   "
   ]
  },
  {
   "cell_type": "code",
   "execution_count": 18,
   "metadata": {},
   "outputs": [
    {
     "name": "stdin",
     "output_type": "stream",
     "text": [
      "Order:  elephant\n"
     ]
    },
    {
     "name": "stdout",
     "output_type": "stream",
     "text": [
      "Sorry, but we are out of elephant today.\n",
      "total is 0\n"
     ]
    }
   ],
   "source": [
    "menu = {'sandwich':10, 'tea':8, 'apple':3, 'cake':5} \n",
    "order = input('Order: ').strip()\n",
    "total = 0\n",
    "\n",
    "# is the user's order on the menu?\n",
    "if order in menu:\n",
    "    price = menu[order]   # get the price for the user's order\n",
    "    total += price        # add the price to the total\n",
    "    print(f'{order} costs {price}; total is now {total}')\n",
    "\n",
    "else:\n",
    "    print(f'Sorry, but we are out of {order} today.')\n",
    "\n",
    "print(f'total is {total}')"
   ]
  },
  {
   "cell_type": "markdown",
   "metadata": {},
   "source": [
    "**DO NOT USE PYTHON TYPE NAMES AS VARIABLE NAMES!**\n",
    "\n",
    "Don't call your variables:\n",
    "- `int`\n",
    "- `str`\n",
    "- `list`\n",
    "- `tuple`\n",
    "- `dict`\n",
    "\n",
    "This *will* actually work... until it doesn't. It makes for very odd, hard-to-understand bugs."
   ]
  },
  {
   "cell_type": "code",
   "execution_count": 19,
   "metadata": {},
   "outputs": [
    {
     "data": {
      "text/plain": [
       "dict"
      ]
     },
     "execution_count": 19,
     "metadata": {},
     "output_type": "execute_result"
    }
   ],
   "source": [
    "type(menu)  # what data type is menu?"
   ]
  },
  {
   "cell_type": "code",
   "execution_count": 20,
   "metadata": {},
   "outputs": [
    {
     "name": "stdin",
     "output_type": "stream",
     "text": [
      "Order:  sandwich\n"
     ]
    },
    {
     "name": "stdout",
     "output_type": "stream",
     "text": [
      "sandwich costs 10; total is now 10\n"
     ]
    },
    {
     "name": "stdin",
     "output_type": "stream",
     "text": [
      "Order:  tea\n"
     ]
    },
    {
     "name": "stdout",
     "output_type": "stream",
     "text": [
      "tea costs 8; total is now 18\n"
     ]
    },
    {
     "name": "stdin",
     "output_type": "stream",
     "text": [
      "Order:  cake\n"
     ]
    },
    {
     "name": "stdout",
     "output_type": "stream",
     "text": [
      "cake costs 5; total is now 23\n"
     ]
    },
    {
     "name": "stdin",
     "output_type": "stream",
     "text": [
      "Order:  apple\n"
     ]
    },
    {
     "name": "stdout",
     "output_type": "stream",
     "text": [
      "apple costs 3; total is now 26\n"
     ]
    },
    {
     "name": "stdin",
     "output_type": "stream",
     "text": [
      "Order:  apple\n"
     ]
    },
    {
     "name": "stdout",
     "output_type": "stream",
     "text": [
      "apple costs 3; total is now 29\n"
     ]
    },
    {
     "name": "stdin",
     "output_type": "stream",
     "text": [
      "Order:  cookie\n"
     ]
    },
    {
     "name": "stdout",
     "output_type": "stream",
     "text": [
      "Sorry, but we are out of cookie today.\n"
     ]
    },
    {
     "name": "stdin",
     "output_type": "stream",
     "text": [
      "Order:  \n"
     ]
    },
    {
     "name": "stdout",
     "output_type": "stream",
     "text": [
      "total is 29\n"
     ]
    }
   ],
   "source": [
    "# add the loop\n",
    "# here, we're using the dict as a small read-only database in our program\n",
    "\n",
    "menu = {'sandwich':10, 'tea':8, 'apple':3, 'cake':5} \n",
    "total = 0\n",
    "\n",
    "while True:\n",
    "    order = input('Order: ').strip()\n",
    "\n",
    "    # did we get the empty string? Stop the loop\n",
    "    if order == '':\n",
    "        break\n",
    "    \n",
    "    # is the user's order on the menu?\n",
    "    if order in menu:\n",
    "        price = menu[order]   # get the price for the user's order\n",
    "        total += price        # add the price to the total\n",
    "        print(f'{order} costs {price}; total is now {total}')\n",
    "    \n",
    "    else:\n",
    "        print(f'Sorry, but we are out of {order} today.')\n",
    "\n",
    "print(f'total is {total}')"
   ]
  },
  {
   "cell_type": "code",
   "execution_count": null,
   "metadata": {},
   "outputs": [],
   "source": [
    "# AS\n",
    "\n",
    "menu = {'burger':5, 'sandwitch':10, 'coffee':4}\n",
    "total = 0\n",
    "\n",
    "while True:\n",
    "    order = input(\"what you want to order\")\n",
    "    if order == \"\":\n",
    "        break\n",
    "    elif order in menu:    \n",
    "        total = total + menu[order]\n",
    "    else:\n",
    "        print(\"sorry\")\n",
    "print(total)        "
   ]
  },
  {
   "cell_type": "markdown",
   "metadata": {},
   "source": [
    "# Rules for dicts\n",
    "\n",
    "- Every key has one value, every value has one key\n",
    "- Keys must be immutable and unique in the dict\n",
    "- Values can be anything at all\n",
    "\n",
    "On the face of it, each key can have one value, so you cannot have multiple values for a key.\n",
    "\n",
    "*BUT* you can have a list or tuple as the value for a key, and then you have .. multiple values.\n",
    "\n",
    "When we retrieve from a dict, we retrieve one value at a time, based on one key. There is no such thing as a \"dict slice.\""
   ]
  },
  {
   "cell_type": "markdown",
   "metadata": {},
   "source": [
    "# Modifying dicts\n",
    "\n",
    "Dictionaries are mutable! \n",
    "\n",
    "- We can add a new key-value pair whenever we want\n",
    "- We can replace a value with a new one\n",
    "- We can remove key-value pairs\n",
    "\n",
    "This means that a dict cannot be a key in a dict. *BUT* a dict can be a value in a dict. This is how we create complex data structures, such as trees, in Python."
   ]
  },
  {
   "cell_type": "code",
   "execution_count": 21,
   "metadata": {},
   "outputs": [
    {
     "data": {
      "text/plain": [
       "{'a': 10, 'b': 20, 'c': 1234, 'd': 40}"
      ]
     },
     "execution_count": 21,
     "metadata": {},
     "output_type": "execute_result"
    }
   ],
   "source": [
    "d = {'a':10, 'b':20, 'c':30, 'd':40}\n",
    "\n",
    "# I can update/modify an existing value by assigning to the same key\n",
    "# (remember that every key in a dict is unique)\n",
    "\n",
    "d['c'] = 1234     # now 1234 will replace 30 as the value for 'c'\n",
    "\n",
    "d"
   ]
  },
  {
   "cell_type": "code",
   "execution_count": 22,
   "metadata": {},
   "outputs": [
    {
     "data": {
      "text/plain": [
       "{'a': 10, 'b': 20, 'c': 1234, 'd': 40, 'x': 9876}"
      ]
     },
     "execution_count": 22,
     "metadata": {},
     "output_type": "execute_result"
    }
   ],
   "source": [
    "# how do I add a new key-value pairs to a dict?\n",
    "# remember that in a list, we use the .append method to do so.\n",
    "# well, in dicts, we just assign the key-value pair\n",
    "# (yes, it's the same as modifying an existing key-value pair!)\n",
    "\n",
    "d['x'] = 9876\n",
    "\n",
    "d"
   ]
  },
  {
   "cell_type": "code",
   "execution_count": 23,
   "metadata": {},
   "outputs": [
    {
     "data": {
      "text/plain": [
       "{'a': 10, 'b': 20, 'c': 1234, 'd': 40, 'x': 9886}"
      ]
     },
     "execution_count": 23,
     "metadata": {},
     "output_type": "execute_result"
    }
   ],
   "source": [
    "# we can update an existing value using += \n",
    "\n",
    "d['x'] += 10    # this means: d['x'] = d['x'] + 10\n",
    "d"
   ]
  },
  {
   "cell_type": "code",
   "execution_count": 24,
   "metadata": {},
   "outputs": [
    {
     "data": {
      "text/plain": [
       "9886"
      ]
     },
     "execution_count": 24,
     "metadata": {},
     "output_type": "execute_result"
    }
   ],
   "source": [
    "# removing key-value pairs\n",
    "# this is actually pretty rare, in my experience\n",
    "\n",
    "d.pop('x')   # this removes the key-value pair with 'x' as the key, and returns the value"
   ]
  },
  {
   "cell_type": "code",
   "execution_count": 25,
   "metadata": {},
   "outputs": [
    {
     "data": {
      "text/plain": [
       "{'a': 10, 'b': 20, 'c': 1234, 'd': 40}"
      ]
     },
     "execution_count": 25,
     "metadata": {},
     "output_type": "execute_result"
    }
   ],
   "source": [
    "d"
   ]
  },
  {
   "cell_type": "code",
   "execution_count": 26,
   "metadata": {},
   "outputs": [
    {
     "data": {
      "text/plain": [
       "{'a': [10, 20, 30], 'b': [40, 50, 60], 'c': [70, 80, 90]}"
      ]
     },
     "execution_count": 26,
     "metadata": {},
     "output_type": "execute_result"
    }
   ],
   "source": [
    "# example of multiple values for a key\n",
    "\n",
    "d = {'a':[10, 20, 30], 'b':[40, 50, 60], 'c':[70, 80, 90]}\n",
    "d"
   ]
  },
  {
   "cell_type": "code",
   "execution_count": 27,
   "metadata": {},
   "outputs": [
    {
     "data": {
      "text/plain": [
       "[10, 20, 30]"
      ]
     },
     "execution_count": 27,
     "metadata": {},
     "output_type": "execute_result"
    }
   ],
   "source": [
    "d['a']"
   ]
  },
  {
   "cell_type": "code",
   "execution_count": 28,
   "metadata": {},
   "outputs": [
    {
     "data": {
      "text/plain": [
       "{'a': [10, 20, 30, 35], 'b': [40, 50, 60], 'c': [70, 80, 90]}"
      ]
     },
     "execution_count": 28,
     "metadata": {},
     "output_type": "execute_result"
    }
   ],
   "source": [
    "# I can even do this:\n",
    "\n",
    "d['a'].append(35)  # adds 35 to the list stored at d['a']\n",
    "\n",
    "d"
   ]
  },
  {
   "cell_type": "code",
   "execution_count": 29,
   "metadata": {},
   "outputs": [
    {
     "data": {
      "text/plain": [
       "[10, 20, 30, 35]"
      ]
     },
     "execution_count": 29,
     "metadata": {},
     "output_type": "execute_result"
    }
   ],
   "source": [
    "d['a']"
   ]
  },
  {
   "cell_type": "code",
   "execution_count": 30,
   "metadata": {},
   "outputs": [
    {
     "data": {
      "text/plain": [
       "10"
      ]
     },
     "execution_count": 30,
     "metadata": {},
     "output_type": "execute_result"
    }
   ],
   "source": [
    "# this looks funny, but just read it from left to right\n",
    "# - d, a dict\n",
    "# - ['a'], retrieving from the dict\n",
    "# - this gives back a list\n",
    "# - on a list, we can use [0] to retrieve the first element\n",
    "\n",
    "d['a'][0]  "
   ]
  },
  {
   "cell_type": "code",
   "execution_count": 31,
   "metadata": {},
   "outputs": [
    {
     "data": {
      "text/plain": [
       "{'a': [99999, 20, 30, 35], 'b': [40, 50, 60], 'c': [70, 80, 90]}"
      ]
     },
     "execution_count": 31,
     "metadata": {},
     "output_type": "execute_result"
    }
   ],
   "source": [
    "# we can even put that on the left side of assignment!\n",
    "\n",
    "d['a'][0]  = 99999   # assigns to the element at index 0 in the list at d['a']\n",
    "\n",
    "d"
   ]
  },
  {
   "cell_type": "code",
   "execution_count": 32,
   "metadata": {},
   "outputs": [
    {
     "data": {
      "text/plain": [
       "dict_keys(['a', 'b', 'c'])"
      ]
     },
     "execution_count": 32,
     "metadata": {},
     "output_type": "execute_result"
    }
   ],
   "source": [
    "# you can get the keys with d.keys()\n",
    "d.keys()"
   ]
  },
  {
   "cell_type": "code",
   "execution_count": 33,
   "metadata": {},
   "outputs": [
    {
     "data": {
      "text/plain": [
       "dict_values([[99999, 20, 30, 35], [40, 50, 60], [70, 80, 90]])"
      ]
     },
     "execution_count": 33,
     "metadata": {},
     "output_type": "execute_result"
    }
   ],
   "source": [
    "# you can get the values with d.values()\n",
    "d.values()"
   ]
  },
  {
   "cell_type": "markdown",
   "metadata": {},
   "source": [
    "# Python does this, too!\n",
    "\n",
    "If you store a value in a variable `x`, Python is really taking the variable name, using it as a string (`'x'`), and using that string as a key in an internal dict of variable names and values!\n",
    "\n",
    "Python's core developers are always trying to find ways to make dicts faster, not just for us, but because the entire language then gets faster as a result."
   ]
  },
  {
   "cell_type": "markdown",
   "metadata": {},
   "source": [
    "# Next up\n",
    "\n",
    "1. Using a dict for accumulation (paradigm 2)\n",
    "2. Using a dict to count from nothing (paradigm 3)\n",
    "\n"
   ]
  },
  {
   "cell_type": "markdown",
   "metadata": {},
   "source": [
    "We can use a dict to accumulate information over the course of a program:\n",
    "\n",
    "- We set up a dict with keys that we know and initial values (typically 0)\n",
    "- As the program progresses, we add to the values, typically 1 at a time\n",
    "- When the program is done, we look at the keys and values and know how often something happened"
   ]
  },
  {
   "cell_type": "code",
   "execution_count": 35,
   "metadata": {
    "scrolled": true
   },
   "outputs": [
    {
     "name": "stdout",
     "output_type": "stream",
     "text": [
      "\t0 is even\n",
      "\t1 is odd\n",
      "\t2 is even\n",
      "\t3 is odd\n",
      "\t4 is even\n",
      "\t5 is odd\n",
      "\t6 is even\n",
      "\t7 is odd\n",
      "\t8 is even\n",
      "\t9 is odd\n",
      "{'odds': 5, 'evens': 5}\n"
     ]
    }
   ],
   "source": [
    "# Odds and evens\n",
    "\n",
    "# let's write a program that goes through the numbers from 0 - 9, decides if each is odd or even, and \n",
    "# counts accordingly.\n",
    "\n",
    "counts = {'odds':0, 'evens':0}    # this dict is where we'll keep track of things\n",
    "\n",
    "for one_number in range(10):  # this will iterate from 0 - 9\n",
    "    if one_number % 2 == 0:   # does the number have 0 remainder after dividing by 2? It must be even!\n",
    "        print(f'\\t{one_number} is even')\n",
    "        counts['evens'] += 1  # add 1 to counts['evens']\n",
    "    else:\n",
    "        print(f'\\t{one_number} is odd')\n",
    "        counts['odds'] += 1   # add 1 to counts['odds']\n",
    "\n",
    "print(counts)"
   ]
  },
  {
   "cell_type": "code",
   "execution_count": 37,
   "metadata": {},
   "outputs": [
    {
     "name": "stdout",
     "output_type": "stream",
     "text": [
      "The same!\n"
     ]
    }
   ],
   "source": [
    "# do we have more odds or evens?\n",
    "\n",
    "if counts['odds'] > counts['evens']:\n",
    "    print('More odds than evens')\n",
    "elif counts['odds'] == counts['evens']:\n",
    "    print('The same!')\n",
    "else:\n",
    "    print('More evens than odds')"
   ]
  },
  {
   "cell_type": "markdown",
   "metadata": {},
   "source": [
    "# Exercise: Vowels, digits, and others (dict edition)\n",
    "\n",
    "1. Set up a dict, `counts`, with three keys -- `vowels`, `digits`, and `others`, with 0 as the value for each.\n",
    "2. Ask the user to enter text (a string)\n",
    "3. Go through the text, one character at a time\n",
    "    - If it's a vowel, then add 1 to `vowels`\n",
    "    - If it's a digit, then add 1 to `digits`\n",
    "    - If it's neither, then add 1 to `others`\n",
    "4. Print the dict that results."
   ]
  },
  {
   "cell_type": "code",
   "execution_count": 38,
   "metadata": {},
   "outputs": [
    {
     "name": "stdin",
     "output_type": "stream",
     "text": [
      "Enter text:  hello!! 123\n"
     ]
    },
    {
     "name": "stdout",
     "output_type": "stream",
     "text": [
      "{'vowels': 2, 'digits': 3, 'others': 6}\n"
     ]
    }
   ],
   "source": [
    "counts = {'vowels':0,\n",
    "          'digits':0,\n",
    "          'others':0}\n",
    "\n",
    "# counts['vowels'] += 1    # this means: counts['vowels'] = counts['vowels'] + 1\n",
    "\n",
    "text = input('Enter text: ').strip()\n",
    "\n",
    "for one_character in text:\n",
    "    if one_character in 'aeiou':   # vowel?\n",
    "        counts['vowels'] += 1      #    add 1 to the vowels counter\n",
    "    elif one_character.isdigit():  # digit?\n",
    "        counts['digits'] += 1      #    add 1 to the digits counter\n",
    "    else:\n",
    "        counts['others'] += 1      # add 1 to the others counter\n",
    "\n",
    "print(counts)  "
   ]
  },
  {
   "cell_type": "code",
   "execution_count": 40,
   "metadata": {},
   "outputs": [
    {
     "name": "stdin",
     "output_type": "stream",
     "text": [
      "Type text: hello!! 123\n"
     ]
    },
    {
     "name": "stdout",
     "output_type": "stream",
     "text": [
      "{'others': 6, 'digits': 3, 'vowels': 2}\n"
     ]
    }
   ],
   "source": [
    "# AI\n",
    "\n",
    "counts = {'others':0, 'digits':0, 'vowels':0}\n",
    "text=input('Type text:')\n",
    "\n",
    "for one_character in text:\n",
    "    if one_character in 'aeiou':\n",
    "      counts['vowels']+=1\n",
    "    elif one_character.isdigit():\n",
    "      counts['digits']+=1\n",
    "    else:\n",
    "      counts['others']+=1\n",
    "\n",
    "print(counts)\n"
   ]
  },
  {
   "cell_type": "code",
   "execution_count": null,
   "metadata": {},
   "outputs": [],
   "source": [
    "# SS\n",
    "\n",
    "counts = {'vowels':0 , 'digits':0 , 'others':0} \n",
    "input_text = input(\"Enter your text: \").strip()\n",
    "vowelsList = ['a' , 'e' , 'i' , 'o' , 'u'] \n",
    "\n",
    "for text in input_text:\n",
    "    if text.isdigit():\n",
    "        counts['digits'] += 1 \n",
    "    elif text in vowelsList:\n",
    "        counts['vowels'] += 1 \n",
    "    else :\n",
    "        counts['others'] += 1 \n",
    "\n",
    "print(counts)\n",
    "\n"
   ]
  },
  {
   "cell_type": "code",
   "execution_count": 41,
   "metadata": {},
   "outputs": [
    {
     "name": "stdin",
     "output_type": "stream",
     "text": [
      "Enter text:  hello!! 123\n"
     ]
    },
    {
     "name": "stdout",
     "output_type": "stream",
     "text": [
      "{'vowels': ['e', 'o'], 'digits': ['1', '2', '3'], 'others': ['h', 'l', 'l', '!', '!', ' ']}\n"
     ]
    }
   ],
   "source": [
    "# what if I don't want to count these characters, but store these characters?\n",
    "# I can have my dict values be lists, rather than integers!\n",
    "\n",
    "counts = {'vowels':[],\n",
    "          'digits':[],\n",
    "          'others':[]}\n",
    "\n",
    "text = input('Enter text: ').strip()\n",
    "\n",
    "for one_character in text:\n",
    "    if one_character in 'aeiou':   # vowel?\n",
    "        counts['vowels'].append(one_character)\n",
    "    elif one_character.isdigit():  # digit?\n",
    "        counts['digits'].append(one_character)     #    add 1 to the digits counter\n",
    "    else:\n",
    "        counts['others'].append(one_character)     # add 1 to the others counter\n",
    "\n",
    "print(counts)  "
   ]
  },
  {
   "cell_type": "code",
   "execution_count": 43,
   "metadata": {},
   "outputs": [
    {
     "name": "stdin",
     "output_type": "stream",
     "text": [
      "Enter text:  hello!! 123\n"
     ]
    },
    {
     "name": "stdout",
     "output_type": "stream",
     "text": [
      "\tIgnoring  \n",
      "{'vowels': ['e', 'o'], 'digits': ['1', '2', '3'], 'others': ['h', 'l', 'l', '!', '!']}\n"
     ]
    }
   ],
   "source": [
    "# let's say we want to ignore some characters\n",
    "\n",
    "ignore_list = [' ']\n",
    "\n",
    "counts = {'vowels':[],\n",
    "          'digits':[],\n",
    "          'others':[]}\n",
    "\n",
    "text = input('Enter text: ').strip()\n",
    "\n",
    "for one_character in text:\n",
    "    if one_character in ignore_list:\n",
    "        print(f'\\tIgnoring {one_character}')   # \\t means \"tab\", or \"indent up to 8 spaces\"\n",
    "    elif one_character in 'aeiou':   # vowel?\n",
    "        counts['vowels'].append(one_character)\n",
    "    elif one_character.isdigit():  # digit?\n",
    "        counts['digits'].append(one_character)     #    add 1 to the digits counter\n",
    "    else:\n",
    "        counts['others'].append(one_character)     # add 1 to the others counter\n",
    "\n",
    "print(counts)  "
   ]
  },
  {
   "cell_type": "markdown",
   "metadata": {},
   "source": [
    "# Paradigm 3 for dicts: Starting with nothing\n",
    "\n",
    "Sometimes, we want to count things, but we don't know what we'll be counting. We start with an empty dict, and then:\n",
    "\n",
    "- If we encounter a key we've seen before (which we can know thanks to `in`), we add 1 to its count (value)\n",
    "- If a key is new, then we add the key-value pair to the dict, with a value of 1 already\n"
   ]
  },
  {
   "cell_type": "code",
   "execution_count": 44,
   "metadata": {},
   "outputs": [
    {
     "name": "stdin",
     "output_type": "stream",
     "text": [
      "Enter text:  this is a very interesting and important sentence\n"
     ]
    },
    {
     "name": "stdout",
     "output_type": "stream",
     "text": [
      "{'t': 6, 'h': 1, 'i': 5, 's': 4, ' ': 7, 'a': 3, 'v': 1, 'e': 6, 'r': 3, 'y': 1, 'n': 6, 'g': 1, 'd': 1, 'm': 1, 'p': 1, 'o': 1, 'c': 1}\n"
     ]
    }
   ],
   "source": [
    "# example: Counting characters\n",
    "\n",
    "counts = {}   # empty dict\n",
    "\n",
    "text = input('Enter text: ').strip()  # get the text from the user\n",
    "\n",
    "for one_character in text:\n",
    "    if one_character in counts:     # have we seen this character before?\n",
    "        counts[one_character] += 1  #     add 1 to its count\n",
    "    else:\n",
    "        counts[one_character] = 1   #     otherwise, add this character as a key, with a value of 1\n",
    "\n",
    "print(counts)"
   ]
  },
  {
   "cell_type": "markdown",
   "metadata": {},
   "source": [
    "# Exercise: Rainfall\n",
    "\n",
    "We're going to keep track of how much rain fell in a variety of cities. We don't know what cities we'll be tracking when we write the program. The end result will be a dict whose keys are the city names (of what we tracked) and the values will be the total rain (in mm) that fell in that city.\n",
    "\n",
    "1. Create an empty dict, `rainfall`.\n",
    "2. Ask the user to enter a city name.\n",
    "    - If they give you an empty string, stop asking; exit the loop.\n",
    "3. If they gave you the name of a city, ask a second question: How much rain fell there?\n",
    "    - We'll assume that they will give you a legal answer, with digits\n",
    "4. If we have seen this city before, add the new rainfall to the old one.\n",
    "5. If this is the first time we're seeing this city, set the key to the city and the value to the amount of rain we got.\n",
    "6. At the end, print the dict.\n",
    "\n",
    "Example:\n",
    "\n",
    "    City: Jerusalem\n",
    "    Rain: 5\n",
    "    City: Tel Aviv\n",
    "    Rain: 3\n",
    "    City: Jerusalem\n",
    "    Rain: 4\n",
    "    City: [ENTER]\n",
    "    {'Jerusalem':9, 'Tel Aviv':3}\n",
    "\n",
    "This involves:\n",
    "- A `while` loop (since we don't know how many inputs we'll get)\n",
    "- Comparisons and `break`\n",
    "- Check if the city name is in our dict as a key\n",
    "\n",
    "    "
   ]
  },
  {
   "cell_type": "code",
   "execution_count": 46,
   "metadata": {},
   "outputs": [
    {
     "name": "stdout",
     "output_type": "stream",
     "text": [
      "this\n",
      "is\n",
      "a\n",
      "string\n"
     ]
    }
   ],
   "source": [
    "for one_item in 'this is a string'.split():\n",
    "    print(one_item)"
   ]
  },
  {
   "cell_type": "code",
   "execution_count": 47,
   "metadata": {},
   "outputs": [
    {
     "name": "stdin",
     "output_type": "stream",
     "text": [
      "Enter city name:  Jerusalem\n",
      "Enter mm rain:  5\n",
      "Enter city name:  Tel Aviv\n",
      "Enter mm rain:  4\n",
      "Enter city name:  Jerusalem\n",
      "Enter mm rain:  3\n",
      "Enter city name:  \n"
     ]
    },
    {
     "name": "stdout",
     "output_type": "stream",
     "text": [
      "{'Jerusalem': 8, 'Tel Aviv': 4}\n"
     ]
    }
   ],
   "source": [
    "rainfall = {}   # empty dict\n",
    "\n",
    "while True:     # infinite loop -- because we don't know how many pieces of data we'll get\n",
    "\n",
    "    city_name = input('Enter city name: ').strip()\n",
    "\n",
    "    if city_name == '':    # exit from the loop if we got an empty city name\n",
    "        break\n",
    "\n",
    "    mm_rain = input('Enter mm rain: ').strip()\n",
    "    mm_rain = int(mm_rain)\n",
    "\n",
    "    if city_name in rainfall:        # have we seen this city before?\n",
    "        rainfall[city_name] += mm_rain   # add the new amount of rain to whatever is in the dict\n",
    "    else:\n",
    "        rainfall[city_name] = mm_rain    # if it's the first time, then just assign the key-value pair\n",
    "\n",
    "print(rainfall)"
   ]
  },
  {
   "cell_type": "code",
   "execution_count": 52,
   "metadata": {},
   "outputs": [
    {
     "name": "stdin",
     "output_type": "stream",
     "text": [
      "City: a\n",
      "How much rain?: 5\n",
      "City: b\n",
      "How much rain?: 4\n",
      "City: a\n",
      "How much rain?: 3\n",
      "City: \n"
     ]
    },
    {
     "name": "stdout",
     "output_type": "stream",
     "text": [
      "{'a': 8, 'b': 4}\n"
     ]
    }
   ],
   "source": [
    "# AI\n",
    "\n",
    "rainfall={}\n",
    "\n",
    "while True:\n",
    " city=input('City:')\n",
    " if city== \"\":\n",
    "  break\n",
    " rain=input('How much rain?:')\n",
    " rain = int(rain)    \n",
    " if city in rainfall:\n",
    "  rainfall[city]+=rain\n",
    " else:\n",
    "  rainfall[city]=rain\n",
    "print(rainfall) "
   ]
  },
  {
   "cell_type": "markdown",
   "metadata": {},
   "source": [
    "# Next up\n",
    "\n",
    "- Iterating over dicts (the right and wrong ways to do it)\n",
    "- How dicts are implemented\n",
    "- Then ... files!\n",
    "\n",
    "Download the zipfile from here: https://files.lerner.co.il/exercise-files.zip"
   ]
  },
  {
   "cell_type": "code",
   "execution_count": null,
   "metadata": {},
   "outputs": [],
   "source": [
    "s = 'abcd'\n",
    "s.upper()  # we're invoking a method, the str.upper method on s -- the \".\" indicates that we're using an internal dict!"
   ]
  },
  {
   "cell_type": "code",
   "execution_count": 53,
   "metadata": {},
   "outputs": [
    {
     "name": "stdin",
     "output_type": "stream",
     "text": [
      "Enter city name :  a\n",
      "Enter rainfall in mm: 5\n",
      "Enter city name :  b\n",
      "Enter rainfall in mm: 4\n",
      "Enter city name :  a\n",
      "Enter rainfall in mm: 3\n",
      "Enter city name :  \n"
     ]
    },
    {
     "name": "stdout",
     "output_type": "stream",
     "text": [
      "{'a': 8, 'b': 4}\n"
     ]
    }
   ],
   "source": [
    "# SS\n",
    "\n",
    "\n",
    "rainfallRec = {} \n",
    "\n",
    "while True : \n",
    "    cityName = input('Enter city name : ').strip()\n",
    "    if cityName == '':\n",
    "        break\n",
    "    rain_mm = input('Enter rainfall in mm:').strip()\n",
    "    rain_mm = int(rain_mm)\n",
    "    if cityName in rainfallRec:\n",
    "        rainfallRec[cityName] += rain_mm\n",
    "    else:\n",
    "        rainfallRec[cityName] = rain_mm\n",
    "\n",
    "print (rainfallRec)"
   ]
  },
  {
   "cell_type": "markdown",
   "metadata": {},
   "source": [
    "# Variable name style\n",
    "\n",
    "There are a few basic styles for naming variables and functions in programming languages:\n",
    "\n",
    "- `snake_case`, all lowercase, with `_` between words\n",
    "- `CamelCase`, with initial letters of words Capitalized\n",
    "- `ALL_CAPS`\n",
    "- `__dunder__`, this is a special Python-only thing, with two underscores before and after the word\n",
    "\n",
    "In Python:\n",
    "- We use `snake_case` for all variables and functions\n",
    "- We use `CamelCase` for class names (in object-oriented programming)\n",
    "- We use `ALL_CAPS` for constants, meaning variables that shouldn't be modified\n",
    "- Dunder names are for special methods that you define in your objects\n",
    "\n"
   ]
  },
  {
   "cell_type": "markdown",
   "metadata": {},
   "source": [
    "# Iterating over dicts\n",
    "\n",
    "We've seen that we can use a `for` loop over different data structures:\n",
    "\n",
    "- Iterating over a string gives us characters\n",
    "- Iterating over a list gives us elements\n",
    "- Iterating over a tuple gives us elements\n",
    "\n",
    "What happens if we iterate over a dict?"
   ]
  },
  {
   "cell_type": "code",
   "execution_count": 54,
   "metadata": {},
   "outputs": [
    {
     "name": "stdout",
     "output_type": "stream",
     "text": [
      "a\n",
      "b\n",
      "c\n"
     ]
    }
   ],
   "source": [
    "# iterating over a dict gives us the keys (and not the values)\n",
    "\n",
    "d = {'a':10, 'b':20, 'c':30}\n",
    "\n",
    "for one_item in d:\n",
    "    print(one_item)"
   ]
  },
  {
   "cell_type": "code",
   "execution_count": 55,
   "metadata": {},
   "outputs": [
    {
     "name": "stdout",
     "output_type": "stream",
     "text": [
      "a\n",
      "b\n",
      "c\n"
     ]
    }
   ],
   "source": [
    "# we saw before that there is a dict.keys() method that returns the keys\n",
    "# could we instead iterate over that?\n",
    "\n",
    "d = {'a':10, 'b':20, 'c':30}\n",
    "\n",
    "for one_item in d.keys():   # this has an unnecessary method call -- why iterate over d.keys() when you just do it over d?\n",
    "    print(one_item)"
   ]
  },
  {
   "cell_type": "code",
   "execution_count": 58,
   "metadata": {},
   "outputs": [
    {
     "name": "stdout",
     "output_type": "stream",
     "text": [
      "a: 10\n",
      "b: 20\n",
      "c: 30\n"
     ]
    }
   ],
   "source": [
    "# if I get the keys, then I can print the entire dict, because each key can give me the corresponding value\n",
    "\n",
    "for one_key in d:\n",
    "    print(f'{one_key}: {d[one_key]}')"
   ]
  },
  {
   "cell_type": "code",
   "execution_count": 59,
   "metadata": {},
   "outputs": [
    {
     "name": "stdout",
     "output_type": "stream",
     "text": [
      "a: 10\n",
      "b: 20\n",
      "c: 30\n"
     ]
    }
   ],
   "source": [
    "# why do I need to retrieve from d, using the key?\n",
    "# isn't there a way that I can get the values along with the keys?\n",
    "\n",
    "# answer: yes! Invoke dict.items, which returns a key-value pair with each iteration\n",
    "\n",
    "for key, value in d.items():    # each iteration gives us a (key, value) pair as a tuple, which we grab with unpacking into (key, value)\n",
    "    print(f'{key}: {value}')"
   ]
  },
  {
   "cell_type": "code",
   "execution_count": 60,
   "metadata": {},
   "outputs": [
    {
     "data": {
      "text/plain": [
       "{'a': 8, 'b': 4}"
      ]
     },
     "execution_count": 60,
     "metadata": {},
     "output_type": "execute_result"
    }
   ],
   "source": [
    "rainfall"
   ]
  },
  {
   "cell_type": "code",
   "execution_count": 61,
   "metadata": {},
   "outputs": [
    {
     "name": "stdout",
     "output_type": "stream",
     "text": [
      "a: 8\n",
      "b: 4\n"
     ]
    }
   ],
   "source": [
    "for key, value in rainfall.items():\n",
    "    print(f'{key}: {value}')"
   ]
  },
  {
   "cell_type": "code",
   "execution_count": 62,
   "metadata": {},
   "outputs": [
    {
     "data": {
      "text/plain": [
       "True"
      ]
     },
     "execution_count": 62,
     "metadata": {},
     "output_type": "execute_result"
    }
   ],
   "source": [
    "# what if I just want to iterate over the values?\n",
    "# what if I want to search in the values?\n",
    "\n",
    "# there is a \"dict.values\" method that we can use\n",
    "\n",
    "20 in d.values()"
   ]
  },
  {
   "cell_type": "code",
   "execution_count": 63,
   "metadata": {},
   "outputs": [
    {
     "data": {
      "text/plain": [
       "False"
      ]
     },
     "execution_count": 63,
     "metadata": {},
     "output_type": "execute_result"
    }
   ],
   "source": [
    "'hello' in d.values()"
   ]
  },
  {
   "cell_type": "code",
   "execution_count": 64,
   "metadata": {},
   "outputs": [
    {
     "name": "stdout",
     "output_type": "stream",
     "text": [
      "10\n",
      "20\n",
      "30\n"
     ]
    }
   ],
   "source": [
    "for one_value in d.values():\n",
    "    print(one_value)"
   ]
  },
  {
   "cell_type": "code",
   "execution_count": 65,
   "metadata": {},
   "outputs": [
    {
     "data": {
      "text/plain": [
       "60"
      ]
     },
     "execution_count": 65,
     "metadata": {},
     "output_type": "execute_result"
    }
   ],
   "source": [
    "# sum is a builtin function that looks for an iterable object of numbers\n",
    "sum(d.values())"
   ]
  },
  {
   "cell_type": "markdown",
   "metadata": {},
   "source": [
    "# How do dicts work?\n",
    "\n",
    "- Why are they faster (so I claim) at finding things than lists?\n",
    "- Why do we need to use immutable keys only?\n",
    "\n",
    "When we store something in a list, it can be anywhere in that list. We don't know where it is, and thus need to search from the start to the finish. That can take a long time. The value we store in the list has no influence over where the value is stored.\n",
    "\n",
    "Dictionaries work very differently. They store a key-value pair not at the closest or most convenient location. Rather, Python runs a special function, known as a \"hash function,\" on the key. The result of the hash function is an integer -- negative or positive. That integer determines where the key-value pair will be stored.\n",
    "\n",
    "The key, in other words, determines where the key-value pair will be stored. When we search `'a' in dict`, Python runs `hash('a')`, gets a number back, jumps to that location in memory, and checks if the key is there. If so, it returns the value.\n",
    "\n",
    "In this way, we avoid the need for looping entirely. We just make one jump in memory, check things there, and know whether the key-value pair is there or not.\n",
    "\n"
   ]
  },
  {
   "cell_type": "markdown",
   "metadata": {},
   "source": [
    "# Files\n",
    "\n",
    "We use files all of the time: PowerPoint, PDF, Word, Excel, etc.\n",
    "\n",
    "What is a file? It's a data structure that was in memory, which we wrote to disk, and which we can then (later) read back into memory into a data structure.\n",
    "\n",
    "Being able to read from a file mean that you can import data structures into your program, already populated with values that were stored some time ago.\n",
    "\n",
    "Many file formats are binary, meaning that the exact bits that were used in memory are stored (more or less) in the file. We are *not* going to talk about those.\n",
    "\n",
    "We are instead going to talk about text files, which contain just text. It basically contains one data structure, namely a string, which was written at some point before.\n",
    "\n",
    "Who uses text files?\n",
    "\n",
    "- Logfiles\n",
    "- Configuration\n",
    "- Deployment scripts\n",
    "- Security scripts\n",
    "\n",
    "How do we read from a file?\n",
    "\n",
    "You cannot just open a file on disk from your program. Rather, you have to ask the operating system to help you open it, and it will figure out if you have the right permissions to read from the file, or even to write to it.\n",
    "\n",
    "If we want to read from a file, we ask the operating system to \"open\" it on our behalf. You cannot do anything with a file without first opening it. And when you do, you normally need to specify if you want to read from it (the default) or write to it. Most of the time, you don't want to do both simultaneously. \n",
    "\n",
    "When you ask the OS to open a file, it returns a \"file handle\" or a \"file object,\" which is basically our ambassador to the OS and the disk, to read the file. Everything goes through the file object.\n",
    "\n",
    "Then we can ask the file object to give us the contents of the file -- as a string."
   ]
  },
  {
   "cell_type": "code",
   "execution_count": 69,
   "metadata": {},
   "outputs": [],
   "source": [
    "# - open is a builtin function in Python that tries to open a file we name, and returns a file object\n",
    "# - '/etc/passwd' is a file on every Unix/Linux/Mac computer, containing information about the users (a bit passe)\n",
    "# - calling open on /etc/passwd returns a new file object, which we assign to f\n",
    "# - we can then query f about the file etc.\n",
    "\n",
    "f = open('/etc/passwd')"
   ]
  },
  {
   "cell_type": "code",
   "execution_count": 67,
   "metadata": {},
   "outputs": [
    {
     "data": {
      "text/plain": [
       "_io.TextIOWrapper"
      ]
     },
     "execution_count": 67,
     "metadata": {},
     "output_type": "execute_result"
    }
   ],
   "source": [
    "type(f)   # what kind of object did we get back?"
   ]
  },
  {
   "cell_type": "markdown",
   "metadata": {},
   "source": [
    "The Python documentation calls this sort of thing a \"file-like object,\" because it adheres to protocols for files, even if it isn't exactly one. "
   ]
  },
  {
   "cell_type": "code",
   "execution_count": 70,
   "metadata": {},
   "outputs": [
    {
     "data": {
      "text/plain": [
       "'##\\n# User Database\\n# \\n# Note that this file is consulted directly only when the system is running\\n# in single-user mode.  At other times this information is provided by\\n# Open Directory.\\n#\\n# See the opendirectoryd(8) man page for additional information about\\n# Open Directory.\\n##\\nnobody:*:-2:-2:Unprivileged User:/var/empty:/usr/bin/false\\nroot:*:0:0:System Administrator:/var/root:/bin/sh\\ndaemon:*:1:1:System Services:/var/root:/usr/bin/false\\n_uucp:*:4:4:Unix to Unix Copy Protocol:/var/spool/uucp:/usr/sbin/uucico\\n_taskgated:*:13:13:Task Gate Daemon:/var/empty:/usr/bin/false\\n_networkd:*:24:24:Network Services:/var/networkd:/usr/bin/false\\n_installassistant:*:25:25:Install Assistant:/var/empty:/usr/bin/false\\n_lp:*:26:26:Printing Services:/var/spool/cups:/usr/bin/false\\n_postfix:*:27:27:Postfix Mail Server:/var/spool/postfix:/usr/bin/false\\n_scsd:*:31:31:Service Configuration Service:/var/empty:/usr/bin/false\\n_ces:*:32:32:Certificate Enrollment Service:/var/empty:/usr/bin/false\\n_appstore:*:33:33:Mac App Store Service:/var/db/appstore:/usr/bin/false\\n_mcxalr:*:54:54:MCX AppLaunch:/var/empty:/usr/bin/false\\n_appleevents:*:55:55:AppleEvents Daemon:/var/empty:/usr/bin/false\\n_geod:*:56:56:Geo Services Daemon:/var/db/geod:/usr/bin/false\\n_devdocs:*:59:59:Developer Documentation:/var/empty:/usr/bin/false\\n_sandbox:*:60:60:Seatbelt:/var/empty:/usr/bin/false\\n_mdnsresponder:*:65:65:mDNSResponder:/var/empty:/usr/bin/false\\n_ard:*:67:67:Apple Remote Desktop:/var/empty:/usr/bin/false\\n_www:*:70:70:World Wide Web Server:/Library/WebServer:/usr/bin/false\\n_eppc:*:71:71:Apple Events User:/var/empty:/usr/bin/false\\n_cvs:*:72:72:CVS Server:/var/empty:/usr/bin/false\\n_svn:*:73:73:SVN Server:/var/empty:/usr/bin/false\\n_mysql:*:74:74:MySQL Server:/var/empty:/usr/bin/false\\n_sshd:*:75:75:sshd Privilege separation:/var/empty:/usr/bin/false\\n_qtss:*:76:76:QuickTime Streaming Server:/var/empty:/usr/bin/false\\n_cyrus:*:77:6:Cyrus Administrator:/var/imap:/usr/bin/false\\n_mailman:*:78:78:Mailman List Server:/var/empty:/usr/bin/false\\n_appserver:*:79:79:Application Server:/var/empty:/usr/bin/false\\n_clamav:*:82:82:ClamAV Daemon:/var/virusmails:/usr/bin/false\\n_amavisd:*:83:83:AMaViS Daemon:/var/virusmails:/usr/bin/false\\n_jabber:*:84:84:Jabber XMPP Server:/var/empty:/usr/bin/false\\n_appowner:*:87:87:Application Owner:/var/empty:/usr/bin/false\\n_windowserver:*:88:88:WindowServer:/var/empty:/usr/bin/false\\n_spotlight:*:89:89:Spotlight:/var/empty:/usr/bin/false\\n_tokend:*:91:91:Token Daemon:/var/empty:/usr/bin/false\\n_securityagent:*:92:92:SecurityAgent:/var/db/securityagent:/usr/bin/false\\n_calendar:*:93:93:Calendar:/var/empty:/usr/bin/false\\n_teamsserver:*:94:94:TeamsServer:/var/teamsserver:/usr/bin/false\\n_update_sharing:*:95:-2:Update Sharing:/var/empty:/usr/bin/false\\n_installer:*:96:-2:Installer:/var/empty:/usr/bin/false\\n_atsserver:*:97:97:ATS Server:/var/empty:/usr/bin/false\\n_ftp:*:98:-2:FTP Daemon:/var/empty:/usr/bin/false\\n_unknown:*:99:99:Unknown User:/var/empty:/usr/bin/false\\n_softwareupdate:*:200:200:Software Update Service:/var/db/softwareupdate:/usr/bin/false\\n_coreaudiod:*:202:202:Core Audio Daemon:/var/empty:/usr/bin/false\\n_screensaver:*:203:203:Screensaver:/var/empty:/usr/bin/false\\n_locationd:*:205:205:Location Daemon:/var/db/locationd:/usr/bin/false\\n_trustevaluationagent:*:208:208:Trust Evaluation Agent:/var/empty:/usr/bin/false\\n_timezone:*:210:210:AutoTimeZoneDaemon:/var/empty:/usr/bin/false\\n_lda:*:211:211:Local Delivery Agent:/var/empty:/usr/bin/false\\n_cvmsroot:*:212:212:CVMS Root:/var/empty:/usr/bin/false\\n_usbmuxd:*:213:213:iPhone OS Device Helper:/var/db/lockdown:/usr/bin/false\\n_dovecot:*:214:6:Dovecot Administrator:/var/empty:/usr/bin/false\\n_dpaudio:*:215:215:DP Audio:/var/empty:/usr/bin/false\\n_postgres:*:216:216:PostgreSQL Server:/var/empty:/usr/bin/false\\n_krbtgt:*:217:-2:Kerberos Ticket Granting Ticket:/var/empty:/usr/bin/false\\n_kadmin_admin:*:218:-2:Kerberos Admin Service:/var/empty:/usr/bin/false\\n_kadmin_changepw:*:219:-2:Kerberos Change Password Service:/var/empty:/usr/bin/false\\n_devicemgr:*:220:220:Device Management Server:/var/empty:/usr/bin/false\\n_webauthserver:*:221:221:Web Auth Server:/var/empty:/usr/bin/false\\n_netbios:*:222:222:NetBIOS:/var/empty:/usr/bin/false\\n_warmd:*:224:224:Warm Daemon:/var/empty:/usr/bin/false\\n_dovenull:*:227:227:Dovecot Authentication:/var/empty:/usr/bin/false\\n_netstatistics:*:228:228:Network Statistics Daemon:/var/empty:/usr/bin/false\\n_avbdeviced:*:229:-2:Ethernet AVB Device Daemon:/var/empty:/usr/bin/false\\n_krb_krbtgt:*:230:-2:Open Directory Kerberos Ticket Granting Ticket:/var/empty:/usr/bin/false\\n_krb_kadmin:*:231:-2:Open Directory Kerberos Admin Service:/var/empty:/usr/bin/false\\n_krb_changepw:*:232:-2:Open Directory Kerberos Change Password Service:/var/empty:/usr/bin/false\\n_krb_kerberos:*:233:-2:Open Directory Kerberos:/var/empty:/usr/bin/false\\n_krb_anonymous:*:234:-2:Open Directory Kerberos Anonymous:/var/empty:/usr/bin/false\\n_assetcache:*:235:235:Asset Cache Service:/var/empty:/usr/bin/false\\n_coremediaiod:*:236:236:Core Media IO Daemon:/var/empty:/usr/bin/false\\n_launchservicesd:*:239:239:_launchservicesd:/var/empty:/usr/bin/false\\n_iconservices:*:240:240:IconServices:/var/empty:/usr/bin/false\\n_distnote:*:241:241:DistNote:/var/empty:/usr/bin/false\\n_nsurlsessiond:*:242:242:NSURLSession Daemon:/var/db/nsurlsessiond:/usr/bin/false\\n_displaypolicyd:*:244:244:Display Policy Daemon:/var/empty:/usr/bin/false\\n_astris:*:245:245:Astris Services:/var/db/astris:/usr/bin/false\\n_krbfast:*:246:-2:Kerberos FAST Account:/var/empty:/usr/bin/false\\n_gamecontrollerd:*:247:247:Game Controller Daemon:/var/empty:/usr/bin/false\\n_mbsetupuser:*:248:248:Setup User:/var/setup:/bin/bash\\n_ondemand:*:249:249:On Demand Resource Daemon:/var/db/ondemand:/usr/bin/false\\n_xserverdocs:*:251:251:macOS Server Documents Service:/var/empty:/usr/bin/false\\n_wwwproxy:*:252:252:WWW Proxy:/var/empty:/usr/bin/false\\n_mobileasset:*:253:253:MobileAsset User:/var/ma:/usr/bin/false\\n_findmydevice:*:254:254:Find My Device Daemon:/var/db/findmydevice:/usr/bin/false\\n_datadetectors:*:257:257:DataDetectors:/var/db/datadetectors:/usr/bin/false\\n_captiveagent:*:258:258:captiveagent:/var/empty:/usr/bin/false\\n_ctkd:*:259:259:ctkd Account:/var/empty:/usr/bin/false\\n_applepay:*:260:260:applepay Account:/var/db/applepay:/usr/bin/false\\n_hidd:*:261:261:HID Service User:/var/db/hidd:/usr/bin/false\\n_cmiodalassistants:*:262:262:CoreMedia IO Assistants User:/var/db/cmiodalassistants:/usr/bin/false\\n_analyticsd:*:263:263:Analytics Daemon:/var/db/analyticsd:/usr/bin/false\\n_fpsd:*:265:265:FPS Daemon:/var/db/fpsd:/usr/bin/false\\n_timed:*:266:266:Time Sync Daemon:/var/db/timed:/usr/bin/false\\n_nearbyd:*:268:268:Proximity and Ranging Daemon:/var/db/nearbyd:/usr/bin/false\\n_reportmemoryexception:*:269:269:ReportMemoryException:/var/db/reportmemoryexception:/usr/bin/false\\n_driverkit:*:270:270:DriverKit:/var/empty:/usr/bin/false\\n_diskimagesiod:*:271:271:DiskImages IO Daemon:/var/db/diskimagesiod:/usr/bin/false\\n_logd:*:272:272:Log Daemon:/var/db/diagnostics:/usr/bin/false\\n_appinstalld:*:273:273:App Install Daemon:/var/db/appinstalld:/usr/bin/false\\n_installcoordinationd:*:274:274:Install Coordination Daemon:/var/db/installcoordinationd:/usr/bin/false\\n_demod:*:275:275:Demo Daemon:/var/empty:/usr/bin/false\\n_rmd:*:277:277:Remote Management Daemon:/var/db/rmd:/usr/bin/false\\n_accessoryupdater:*:278:278:Accessory Update Daemon:/var/db/accessoryupdater:/usr/bin/false\\n_knowledgegraphd:*:279:279:Knowledge Graph Daemon:/var/db/knowledgegraphd:/usr/bin/false\\n_coreml:*:280:280:CoreML Services:/var/db/coreml:/usr/bin/false\\n_sntpd:*:281:281:SNTP Server Daemon:/var/empty:/usr/bin/false\\n_trustd:*:282:282:trustd:/var/empty:/usr/bin/false\\n_mmaintenanced:*:283:283:mmaintenanced:/var/db/mmaintenanced:/usr/bin/false\\n_darwindaemon:*:284:284:Darwin Daemon:/var/db/darwindaemon:/usr/bin/false\\n_notification_proxy:*:285:285:Notification Proxy:/var/empty:/usr/bin/false\\n_avphidbridge:*:288:288:Apple Virtual Platform HID Bridge:/var/empty:/usr/bin/false\\n_biome:*:289:289:Biome:/var/db/biome:/usr/bin/false\\n_backgroundassets:*:291:291:Background Assets Service:/var/empty:/usr/bin/false\\n_mobilegestalthelper:*:293:293:MobileGestaltHelper:/var/empty:/usr/bin/false\\n_audiomxd:*:294:294:Audio and MediaExperience Daemon:/var/db/audiomxd:/usr/bin/false\\n_terminusd:*:295:295:Terminus:/var/db/terminus:/usr/bin/false\\n_neuralengine:*:296:296:AppleNeuralEngine:/var/db/neuralengine:/usr/bin/false\\n_eligibilityd:*:297:297:OS Eligibility Daemon:/var/db/eligibilityd:/usr/bin/false\\n_systemstatusd:*:298:298:SystemStatus Services:/var/empty:/usr/bin/false\\n_aonsensed:*:300:300:Always On Sense Daemon:/var/db/aonsensed:/usr/bin/false\\n_modelmanagerd:*:301:301:Model Manager:/var/db/modelmanagerd:/usr/bin/false\\n_reportsystemmemory:*:302:302:ReportSystemMemory:/var/empty:/usr/bin/false\\n_swtransparencyd:*:303:303:Software Transparency Services:/var/db/swtransparencyd:/usr/bin/false\\n_naturallanguaged:*:304:304:Natural Language Services:/var/db/com.apple.naturallanguaged:/usr/bin/false\\n_oahd:*:441:441:OAH Daemon:/var/empty:/usr/bin/false\\n'"
      ]
     },
     "execution_count": 70,
     "metadata": {},
     "output_type": "execute_result"
    }
   ],
   "source": [
    "# we can invoke the \"read\" method on the file object.\n",
    "# this returns a string, the contents of the file from the most recent read (since opening the file) through the end\n",
    "# if the \"most recent read\" doesn't exist, because we just opened the file, we start from the beginning.\n",
    "\n",
    "s = f.read()\n",
    "s"
   ]
  },
  {
   "cell_type": "code",
   "execution_count": 71,
   "metadata": {},
   "outputs": [
    {
     "data": {
      "text/plain": [
       "9050"
      ]
     },
     "execution_count": 71,
     "metadata": {},
     "output_type": "execute_result"
    }
   ],
   "source": [
    "len(s)"
   ]
  },
  {
   "cell_type": "code",
   "execution_count": 72,
   "metadata": {},
   "outputs": [
    {
     "name": "stdout",
     "output_type": "stream",
     "text": [
      "##\n",
      "\n",
      "# User Database\n",
      "\n",
      "# \n",
      "\n",
      "# Note that this file is consulted directly only when the system is running\n",
      "\n",
      "# in single-user mode.  At other times this information is provided by\n",
      "\n",
      "# Open Directory.\n",
      "\n",
      "#\n",
      "\n",
      "# See the opendirectoryd(8) man page for additional information about\n",
      "\n",
      "# Open Directory.\n",
      "\n",
      "##\n",
      "\n",
      "nobody:*:-2:-2:Unprivileged User:/var/empty:/usr/bin/false\n",
      "\n",
      "root:*:0:0:System Administrator:/var/root:/bin/sh\n",
      "\n",
      "daemon:*:1:1:System Services:/var/root:/usr/bin/false\n",
      "\n",
      "_uucp:*:4:4:Unix to Unix Copy Protocol:/var/spool/uucp:/usr/sbin/uucico\n",
      "\n",
      "_taskgated:*:13:13:Task Gate Daemon:/var/empty:/usr/bin/false\n",
      "\n",
      "_networkd:*:24:24:Network Services:/var/networkd:/usr/bin/false\n",
      "\n",
      "_installassistant:*:25:25:Install Assistant:/var/empty:/usr/bin/false\n",
      "\n",
      "_lp:*:26:26:Printing Services:/var/spool/cups:/usr/bin/false\n",
      "\n",
      "_postfix:*:27:27:Postfix Mail Server:/var/spool/postfix:/usr/bin/false\n",
      "\n",
      "_scsd:*:31:31:Service Configuration Service:/var/empty:/usr/bin/false\n",
      "\n",
      "_ces:*:32:32:Certificate Enrollment Service:/var/empty:/usr/bin/false\n",
      "\n",
      "_appstore:*:33:33:Mac App Store Service:/var/db/appstore:/usr/bin/false\n",
      "\n",
      "_mcxalr:*:54:54:MCX AppLaunch:/var/empty:/usr/bin/false\n",
      "\n",
      "_appleevents:*:55:55:AppleEvents Daemon:/var/empty:/usr/bin/false\n",
      "\n",
      "_geod:*:56:56:Geo Services Daemon:/var/db/geod:/usr/bin/false\n",
      "\n",
      "_devdocs:*:59:59:Developer Documentation:/var/empty:/usr/bin/false\n",
      "\n",
      "_sandbox:*:60:60:Seatbelt:/var/empty:/usr/bin/false\n",
      "\n",
      "_mdnsresponder:*:65:65:mDNSResponder:/var/empty:/usr/bin/false\n",
      "\n",
      "_ard:*:67:67:Apple Remote Desktop:/var/empty:/usr/bin/false\n",
      "\n",
      "_www:*:70:70:World Wide Web Server:/Library/WebServer:/usr/bin/false\n",
      "\n",
      "_eppc:*:71:71:Apple Events User:/var/empty:/usr/bin/false\n",
      "\n",
      "_cvs:*:72:72:CVS Server:/var/empty:/usr/bin/false\n",
      "\n",
      "_svn:*:73:73:SVN Server:/var/empty:/usr/bin/false\n",
      "\n",
      "_mysql:*:74:74:MySQL Server:/var/empty:/usr/bin/false\n",
      "\n",
      "_sshd:*:75:75:sshd Privilege separation:/var/empty:/usr/bin/false\n",
      "\n",
      "_qtss:*:76:76:QuickTime Streaming Server:/var/empty:/usr/bin/false\n",
      "\n",
      "_cyrus:*:77:6:Cyrus Administrator:/var/imap:/usr/bin/false\n",
      "\n",
      "_mailman:*:78:78:Mailman List Server:/var/empty:/usr/bin/false\n",
      "\n",
      "_appserver:*:79:79:Application Server:/var/empty:/usr/bin/false\n",
      "\n",
      "_clamav:*:82:82:ClamAV Daemon:/var/virusmails:/usr/bin/false\n",
      "\n",
      "_amavisd:*:83:83:AMaViS Daemon:/var/virusmails:/usr/bin/false\n",
      "\n",
      "_jabber:*:84:84:Jabber XMPP Server:/var/empty:/usr/bin/false\n",
      "\n",
      "_appowner:*:87:87:Application Owner:/var/empty:/usr/bin/false\n",
      "\n",
      "_windowserver:*:88:88:WindowServer:/var/empty:/usr/bin/false\n",
      "\n",
      "_spotlight:*:89:89:Spotlight:/var/empty:/usr/bin/false\n",
      "\n",
      "_tokend:*:91:91:Token Daemon:/var/empty:/usr/bin/false\n",
      "\n",
      "_securityagent:*:92:92:SecurityAgent:/var/db/securityagent:/usr/bin/false\n",
      "\n",
      "_calendar:*:93:93:Calendar:/var/empty:/usr/bin/false\n",
      "\n",
      "_teamsserver:*:94:94:TeamsServer:/var/teamsserver:/usr/bin/false\n",
      "\n",
      "_update_sharing:*:95:-2:Update Sharing:/var/empty:/usr/bin/false\n",
      "\n",
      "_installer:*:96:-2:Installer:/var/empty:/usr/bin/false\n",
      "\n",
      "_atsserver:*:97:97:ATS Server:/var/empty:/usr/bin/false\n",
      "\n",
      "_ftp:*:98:-2:FTP Daemon:/var/empty:/usr/bin/false\n",
      "\n",
      "_unknown:*:99:99:Unknown User:/var/empty:/usr/bin/false\n",
      "\n",
      "_softwareupdate:*:200:200:Software Update Service:/var/db/softwareupdate:/usr/bin/false\n",
      "\n",
      "_coreaudiod:*:202:202:Core Audio Daemon:/var/empty:/usr/bin/false\n",
      "\n",
      "_screensaver:*:203:203:Screensaver:/var/empty:/usr/bin/false\n",
      "\n",
      "_locationd:*:205:205:Location Daemon:/var/db/locationd:/usr/bin/false\n",
      "\n",
      "_trustevaluationagent:*:208:208:Trust Evaluation Agent:/var/empty:/usr/bin/false\n",
      "\n",
      "_timezone:*:210:210:AutoTimeZoneDaemon:/var/empty:/usr/bin/false\n",
      "\n",
      "_lda:*:211:211:Local Delivery Agent:/var/empty:/usr/bin/false\n",
      "\n",
      "_cvmsroot:*:212:212:CVMS Root:/var/empty:/usr/bin/false\n",
      "\n",
      "_usbmuxd:*:213:213:iPhone OS Device Helper:/var/db/lockdown:/usr/bin/false\n",
      "\n",
      "_dovecot:*:214:6:Dovecot Administrator:/var/empty:/usr/bin/false\n",
      "\n",
      "_dpaudio:*:215:215:DP Audio:/var/empty:/usr/bin/false\n",
      "\n",
      "_postgres:*:216:216:PostgreSQL Server:/var/empty:/usr/bin/false\n",
      "\n",
      "_krbtgt:*:217:-2:Kerberos Ticket Granting Ticket:/var/empty:/usr/bin/false\n",
      "\n",
      "_kadmin_admin:*:218:-2:Kerberos Admin Service:/var/empty:/usr/bin/false\n",
      "\n",
      "_kadmin_changepw:*:219:-2:Kerberos Change Password Service:/var/empty:/usr/bin/false\n",
      "\n",
      "_devicemgr:*:220:220:Device Management Server:/var/empty:/usr/bin/false\n",
      "\n",
      "_webauthserver:*:221:221:Web Auth Server:/var/empty:/usr/bin/false\n",
      "\n",
      "_netbios:*:222:222:NetBIOS:/var/empty:/usr/bin/false\n",
      "\n",
      "_warmd:*:224:224:Warm Daemon:/var/empty:/usr/bin/false\n",
      "\n",
      "_dovenull:*:227:227:Dovecot Authentication:/var/empty:/usr/bin/false\n",
      "\n",
      "_netstatistics:*:228:228:Network Statistics Daemon:/var/empty:/usr/bin/false\n",
      "\n",
      "_avbdeviced:*:229:-2:Ethernet AVB Device Daemon:/var/empty:/usr/bin/false\n",
      "\n",
      "_krb_krbtgt:*:230:-2:Open Directory Kerberos Ticket Granting Ticket:/var/empty:/usr/bin/false\n",
      "\n",
      "_krb_kadmin:*:231:-2:Open Directory Kerberos Admin Service:/var/empty:/usr/bin/false\n",
      "\n",
      "_krb_changepw:*:232:-2:Open Directory Kerberos Change Password Service:/var/empty:/usr/bin/false\n",
      "\n",
      "_krb_kerberos:*:233:-2:Open Directory Kerberos:/var/empty:/usr/bin/false\n",
      "\n",
      "_krb_anonymous:*:234:-2:Open Directory Kerberos Anonymous:/var/empty:/usr/bin/false\n",
      "\n",
      "_assetcache:*:235:235:Asset Cache Service:/var/empty:/usr/bin/false\n",
      "\n",
      "_coremediaiod:*:236:236:Core Media IO Daemon:/var/empty:/usr/bin/false\n",
      "\n",
      "_launchservicesd:*:239:239:_launchservicesd:/var/empty:/usr/bin/false\n",
      "\n",
      "_iconservices:*:240:240:IconServices:/var/empty:/usr/bin/false\n",
      "\n",
      "_distnote:*:241:241:DistNote:/var/empty:/usr/bin/false\n",
      "\n",
      "_nsurlsessiond:*:242:242:NSURLSession Daemon:/var/db/nsurlsessiond:/usr/bin/false\n",
      "\n",
      "_displaypolicyd:*:244:244:Display Policy Daemon:/var/empty:/usr/bin/false\n",
      "\n",
      "_astris:*:245:245:Astris Services:/var/db/astris:/usr/bin/false\n",
      "\n",
      "_krbfast:*:246:-2:Kerberos FAST Account:/var/empty:/usr/bin/false\n",
      "\n",
      "_gamecontrollerd:*:247:247:Game Controller Daemon:/var/empty:/usr/bin/false\n",
      "\n",
      "_mbsetupuser:*:248:248:Setup User:/var/setup:/bin/bash\n",
      "\n",
      "_ondemand:*:249:249:On Demand Resource Daemon:/var/db/ondemand:/usr/bin/false\n",
      "\n",
      "_xserverdocs:*:251:251:macOS Server Documents Service:/var/empty:/usr/bin/false\n",
      "\n",
      "_wwwproxy:*:252:252:WWW Proxy:/var/empty:/usr/bin/false\n",
      "\n",
      "_mobileasset:*:253:253:MobileAsset User:/var/ma:/usr/bin/false\n",
      "\n",
      "_findmydevice:*:254:254:Find My Device Daemon:/var/db/findmydevice:/usr/bin/false\n",
      "\n",
      "_datadetectors:*:257:257:DataDetectors:/var/db/datadetectors:/usr/bin/false\n",
      "\n",
      "_captiveagent:*:258:258:captiveagent:/var/empty:/usr/bin/false\n",
      "\n",
      "_ctkd:*:259:259:ctkd Account:/var/empty:/usr/bin/false\n",
      "\n",
      "_applepay:*:260:260:applepay Account:/var/db/applepay:/usr/bin/false\n",
      "\n",
      "_hidd:*:261:261:HID Service User:/var/db/hidd:/usr/bin/false\n",
      "\n",
      "_cmiodalassistants:*:262:262:CoreMedia IO Assistants User:/var/db/cmiodalassistants:/usr/bin/false\n",
      "\n",
      "_analyticsd:*:263:263:Analytics Daemon:/var/db/analyticsd:/usr/bin/false\n",
      "\n",
      "_fpsd:*:265:265:FPS Daemon:/var/db/fpsd:/usr/bin/false\n",
      "\n",
      "_timed:*:266:266:Time Sync Daemon:/var/db/timed:/usr/bin/false\n",
      "\n",
      "_nearbyd:*:268:268:Proximity and Ranging Daemon:/var/db/nearbyd:/usr/bin/false\n",
      "\n",
      "_reportmemoryexception:*:269:269:ReportMemoryException:/var/db/reportmemoryexception:/usr/bin/false\n",
      "\n",
      "_driverkit:*:270:270:DriverKit:/var/empty:/usr/bin/false\n",
      "\n",
      "_diskimagesiod:*:271:271:DiskImages IO Daemon:/var/db/diskimagesiod:/usr/bin/false\n",
      "\n",
      "_logd:*:272:272:Log Daemon:/var/db/diagnostics:/usr/bin/false\n",
      "\n",
      "_appinstalld:*:273:273:App Install Daemon:/var/db/appinstalld:/usr/bin/false\n",
      "\n",
      "_installcoordinationd:*:274:274:Install Coordination Daemon:/var/db/installcoordinationd:/usr/bin/false\n",
      "\n",
      "_demod:*:275:275:Demo Daemon:/var/empty:/usr/bin/false\n",
      "\n",
      "_rmd:*:277:277:Remote Management Daemon:/var/db/rmd:/usr/bin/false\n",
      "\n",
      "_accessoryupdater:*:278:278:Accessory Update Daemon:/var/db/accessoryupdater:/usr/bin/false\n",
      "\n",
      "_knowledgegraphd:*:279:279:Knowledge Graph Daemon:/var/db/knowledgegraphd:/usr/bin/false\n",
      "\n",
      "_coreml:*:280:280:CoreML Services:/var/db/coreml:/usr/bin/false\n",
      "\n",
      "_sntpd:*:281:281:SNTP Server Daemon:/var/empty:/usr/bin/false\n",
      "\n",
      "_trustd:*:282:282:trustd:/var/empty:/usr/bin/false\n",
      "\n",
      "_mmaintenanced:*:283:283:mmaintenanced:/var/db/mmaintenanced:/usr/bin/false\n",
      "\n",
      "_darwindaemon:*:284:284:Darwin Daemon:/var/db/darwindaemon:/usr/bin/false\n",
      "\n",
      "_notification_proxy:*:285:285:Notification Proxy:/var/empty:/usr/bin/false\n",
      "\n",
      "_avphidbridge:*:288:288:Apple Virtual Platform HID Bridge:/var/empty:/usr/bin/false\n",
      "\n",
      "_biome:*:289:289:Biome:/var/db/biome:/usr/bin/false\n",
      "\n",
      "_backgroundassets:*:291:291:Background Assets Service:/var/empty:/usr/bin/false\n",
      "\n",
      "_mobilegestalthelper:*:293:293:MobileGestaltHelper:/var/empty:/usr/bin/false\n",
      "\n",
      "_audiomxd:*:294:294:Audio and MediaExperience Daemon:/var/db/audiomxd:/usr/bin/false\n",
      "\n",
      "_terminusd:*:295:295:Terminus:/var/db/terminus:/usr/bin/false\n",
      "\n",
      "_neuralengine:*:296:296:AppleNeuralEngine:/var/db/neuralengine:/usr/bin/false\n",
      "\n",
      "_eligibilityd:*:297:297:OS Eligibility Daemon:/var/db/eligibilityd:/usr/bin/false\n",
      "\n",
      "_systemstatusd:*:298:298:SystemStatus Services:/var/empty:/usr/bin/false\n",
      "\n",
      "_aonsensed:*:300:300:Always On Sense Daemon:/var/db/aonsensed:/usr/bin/false\n",
      "\n",
      "_modelmanagerd:*:301:301:Model Manager:/var/db/modelmanagerd:/usr/bin/false\n",
      "\n",
      "_reportsystemmemory:*:302:302:ReportSystemMemory:/var/empty:/usr/bin/false\n",
      "\n",
      "_swtransparencyd:*:303:303:Software Transparency Services:/var/db/swtransparencyd:/usr/bin/false\n",
      "\n",
      "_naturallanguaged:*:304:304:Natural Language Services:/var/db/com.apple.naturallanguaged:/usr/bin/false\n",
      "\n",
      "_oahd:*:441:441:OAH Daemon:/var/empty:/usr/bin/false\n",
      "\n"
     ]
    }
   ],
   "source": [
    "# Using \"read\" to read from a file, unless you know the size of the string you'll get back, is a very bad idea.\n",
    "# You can pass it an integer, the max number of bytes you want.\n",
    "\n",
    "# a much better paradigm is: A for loop!\n",
    "# if you invoke a for loop on a file object, you'll get the file's contents back, one line at a time, as a string\n",
    "\n",
    "f = open('/etc/passwd')\n",
    "for one_line in f:     # this variable contains one line of text from the file, one at a time\n",
    "    print(one_line)    # print the current line + '\\n'"
   ]
  },
  {
   "cell_type": "code",
   "execution_count": 74,
   "metadata": {},
   "outputs": [
    {
     "name": "stdout",
     "output_type": "stream",
     "text": [
      "##\n",
      "# User Database\n",
      "#\n",
      "# Note that this file is consulted directly only when the system is running\n",
      "# in single-user mode.  At other times this information is provided by\n",
      "# Open Directory.\n",
      "#\n",
      "# See the opendirectoryd(8) man page for additional information about\n",
      "# Open Directory.\n",
      "##\n",
      "nobody:*:-2:-2:Unprivileged User:/var/empty:/usr/bin/false\n",
      "root:*:0:0:System Administrator:/var/root:/bin/sh\n",
      "daemon:*:1:1:System Services:/var/root:/usr/bin/false\n",
      "_uucp:*:4:4:Unix to Unix Copy Protocol:/var/spool/uucp:/usr/sbin/uucico\n",
      "_taskgated:*:13:13:Task Gate Daemon:/var/empty:/usr/bin/false\n",
      "_networkd:*:24:24:Network Services:/var/networkd:/usr/bin/false\n",
      "_installassistant:*:25:25:Install Assistant:/var/empty:/usr/bin/false\n",
      "_lp:*:26:26:Printing Services:/var/spool/cups:/usr/bin/false\n",
      "_postfix:*:27:27:Postfix Mail Server:/var/spool/postfix:/usr/bin/false\n",
      "_scsd:*:31:31:Service Configuration Service:/var/empty:/usr/bin/false\n",
      "_ces:*:32:32:Certificate Enrollment Service:/var/empty:/usr/bin/false\n",
      "_appstore:*:33:33:Mac App Store Service:/var/db/appstore:/usr/bin/false\n",
      "_mcxalr:*:54:54:MCX AppLaunch:/var/empty:/usr/bin/false\n",
      "_appleevents:*:55:55:AppleEvents Daemon:/var/empty:/usr/bin/false\n",
      "_geod:*:56:56:Geo Services Daemon:/var/db/geod:/usr/bin/false\n",
      "_devdocs:*:59:59:Developer Documentation:/var/empty:/usr/bin/false\n",
      "_sandbox:*:60:60:Seatbelt:/var/empty:/usr/bin/false\n",
      "_mdnsresponder:*:65:65:mDNSResponder:/var/empty:/usr/bin/false\n",
      "_ard:*:67:67:Apple Remote Desktop:/var/empty:/usr/bin/false\n",
      "_www:*:70:70:World Wide Web Server:/Library/WebServer:/usr/bin/false\n",
      "_eppc:*:71:71:Apple Events User:/var/empty:/usr/bin/false\n",
      "_cvs:*:72:72:CVS Server:/var/empty:/usr/bin/false\n",
      "_svn:*:73:73:SVN Server:/var/empty:/usr/bin/false\n",
      "_mysql:*:74:74:MySQL Server:/var/empty:/usr/bin/false\n",
      "_sshd:*:75:75:sshd Privilege separation:/var/empty:/usr/bin/false\n",
      "_qtss:*:76:76:QuickTime Streaming Server:/var/empty:/usr/bin/false\n",
      "_cyrus:*:77:6:Cyrus Administrator:/var/imap:/usr/bin/false\n",
      "_mailman:*:78:78:Mailman List Server:/var/empty:/usr/bin/false\n",
      "_appserver:*:79:79:Application Server:/var/empty:/usr/bin/false\n",
      "_clamav:*:82:82:ClamAV Daemon:/var/virusmails:/usr/bin/false\n",
      "_amavisd:*:83:83:AMaViS Daemon:/var/virusmails:/usr/bin/false\n",
      "_jabber:*:84:84:Jabber XMPP Server:/var/empty:/usr/bin/false\n",
      "_appowner:*:87:87:Application Owner:/var/empty:/usr/bin/false\n",
      "_windowserver:*:88:88:WindowServer:/var/empty:/usr/bin/false\n",
      "_spotlight:*:89:89:Spotlight:/var/empty:/usr/bin/false\n",
      "_tokend:*:91:91:Token Daemon:/var/empty:/usr/bin/false\n",
      "_securityagent:*:92:92:SecurityAgent:/var/db/securityagent:/usr/bin/false\n",
      "_calendar:*:93:93:Calendar:/var/empty:/usr/bin/false\n",
      "_teamsserver:*:94:94:TeamsServer:/var/teamsserver:/usr/bin/false\n",
      "_update_sharing:*:95:-2:Update Sharing:/var/empty:/usr/bin/false\n",
      "_installer:*:96:-2:Installer:/var/empty:/usr/bin/false\n",
      "_atsserver:*:97:97:ATS Server:/var/empty:/usr/bin/false\n",
      "_ftp:*:98:-2:FTP Daemon:/var/empty:/usr/bin/false\n",
      "_unknown:*:99:99:Unknown User:/var/empty:/usr/bin/false\n",
      "_softwareupdate:*:200:200:Software Update Service:/var/db/softwareupdate:/usr/bin/false\n",
      "_coreaudiod:*:202:202:Core Audio Daemon:/var/empty:/usr/bin/false\n",
      "_screensaver:*:203:203:Screensaver:/var/empty:/usr/bin/false\n",
      "_locationd:*:205:205:Location Daemon:/var/db/locationd:/usr/bin/false\n",
      "_trustevaluationagent:*:208:208:Trust Evaluation Agent:/var/empty:/usr/bin/false\n",
      "_timezone:*:210:210:AutoTimeZoneDaemon:/var/empty:/usr/bin/false\n",
      "_lda:*:211:211:Local Delivery Agent:/var/empty:/usr/bin/false\n",
      "_cvmsroot:*:212:212:CVMS Root:/var/empty:/usr/bin/false\n",
      "_usbmuxd:*:213:213:iPhone OS Device Helper:/var/db/lockdown:/usr/bin/false\n",
      "_dovecot:*:214:6:Dovecot Administrator:/var/empty:/usr/bin/false\n",
      "_dpaudio:*:215:215:DP Audio:/var/empty:/usr/bin/false\n",
      "_postgres:*:216:216:PostgreSQL Server:/var/empty:/usr/bin/false\n",
      "_krbtgt:*:217:-2:Kerberos Ticket Granting Ticket:/var/empty:/usr/bin/false\n",
      "_kadmin_admin:*:218:-2:Kerberos Admin Service:/var/empty:/usr/bin/false\n",
      "_kadmin_changepw:*:219:-2:Kerberos Change Password Service:/var/empty:/usr/bin/false\n",
      "_devicemgr:*:220:220:Device Management Server:/var/empty:/usr/bin/false\n",
      "_webauthserver:*:221:221:Web Auth Server:/var/empty:/usr/bin/false\n",
      "_netbios:*:222:222:NetBIOS:/var/empty:/usr/bin/false\n",
      "_warmd:*:224:224:Warm Daemon:/var/empty:/usr/bin/false\n",
      "_dovenull:*:227:227:Dovecot Authentication:/var/empty:/usr/bin/false\n",
      "_netstatistics:*:228:228:Network Statistics Daemon:/var/empty:/usr/bin/false\n",
      "_avbdeviced:*:229:-2:Ethernet AVB Device Daemon:/var/empty:/usr/bin/false\n",
      "_krb_krbtgt:*:230:-2:Open Directory Kerberos Ticket Granting Ticket:/var/empty:/usr/bin/false\n",
      "_krb_kadmin:*:231:-2:Open Directory Kerberos Admin Service:/var/empty:/usr/bin/false\n",
      "_krb_changepw:*:232:-2:Open Directory Kerberos Change Password Service:/var/empty:/usr/bin/false\n",
      "_krb_kerberos:*:233:-2:Open Directory Kerberos:/var/empty:/usr/bin/false\n",
      "_krb_anonymous:*:234:-2:Open Directory Kerberos Anonymous:/var/empty:/usr/bin/false\n",
      "_assetcache:*:235:235:Asset Cache Service:/var/empty:/usr/bin/false\n",
      "_coremediaiod:*:236:236:Core Media IO Daemon:/var/empty:/usr/bin/false\n",
      "_launchservicesd:*:239:239:_launchservicesd:/var/empty:/usr/bin/false\n",
      "_iconservices:*:240:240:IconServices:/var/empty:/usr/bin/false\n",
      "_distnote:*:241:241:DistNote:/var/empty:/usr/bin/false\n",
      "_nsurlsessiond:*:242:242:NSURLSession Daemon:/var/db/nsurlsessiond:/usr/bin/false\n",
      "_displaypolicyd:*:244:244:Display Policy Daemon:/var/empty:/usr/bin/false\n",
      "_astris:*:245:245:Astris Services:/var/db/astris:/usr/bin/false\n",
      "_krbfast:*:246:-2:Kerberos FAST Account:/var/empty:/usr/bin/false\n",
      "_gamecontrollerd:*:247:247:Game Controller Daemon:/var/empty:/usr/bin/false\n",
      "_mbsetupuser:*:248:248:Setup User:/var/setup:/bin/bash\n",
      "_ondemand:*:249:249:On Demand Resource Daemon:/var/db/ondemand:/usr/bin/false\n",
      "_xserverdocs:*:251:251:macOS Server Documents Service:/var/empty:/usr/bin/false\n",
      "_wwwproxy:*:252:252:WWW Proxy:/var/empty:/usr/bin/false\n",
      "_mobileasset:*:253:253:MobileAsset User:/var/ma:/usr/bin/false\n",
      "_findmydevice:*:254:254:Find My Device Daemon:/var/db/findmydevice:/usr/bin/false\n",
      "_datadetectors:*:257:257:DataDetectors:/var/db/datadetectors:/usr/bin/false\n",
      "_captiveagent:*:258:258:captiveagent:/var/empty:/usr/bin/false\n",
      "_ctkd:*:259:259:ctkd Account:/var/empty:/usr/bin/false\n",
      "_applepay:*:260:260:applepay Account:/var/db/applepay:/usr/bin/false\n",
      "_hidd:*:261:261:HID Service User:/var/db/hidd:/usr/bin/false\n",
      "_cmiodalassistants:*:262:262:CoreMedia IO Assistants User:/var/db/cmiodalassistants:/usr/bin/false\n",
      "_analyticsd:*:263:263:Analytics Daemon:/var/db/analyticsd:/usr/bin/false\n",
      "_fpsd:*:265:265:FPS Daemon:/var/db/fpsd:/usr/bin/false\n",
      "_timed:*:266:266:Time Sync Daemon:/var/db/timed:/usr/bin/false\n",
      "_nearbyd:*:268:268:Proximity and Ranging Daemon:/var/db/nearbyd:/usr/bin/false\n",
      "_reportmemoryexception:*:269:269:ReportMemoryException:/var/db/reportmemoryexception:/usr/bin/false\n",
      "_driverkit:*:270:270:DriverKit:/var/empty:/usr/bin/false\n",
      "_diskimagesiod:*:271:271:DiskImages IO Daemon:/var/db/diskimagesiod:/usr/bin/false\n",
      "_logd:*:272:272:Log Daemon:/var/db/diagnostics:/usr/bin/false\n",
      "_appinstalld:*:273:273:App Install Daemon:/var/db/appinstalld:/usr/bin/false\n",
      "_installcoordinationd:*:274:274:Install Coordination Daemon:/var/db/installcoordinationd:/usr/bin/false\n",
      "_demod:*:275:275:Demo Daemon:/var/empty:/usr/bin/false\n",
      "_rmd:*:277:277:Remote Management Daemon:/var/db/rmd:/usr/bin/false\n",
      "_accessoryupdater:*:278:278:Accessory Update Daemon:/var/db/accessoryupdater:/usr/bin/false\n",
      "_knowledgegraphd:*:279:279:Knowledge Graph Daemon:/var/db/knowledgegraphd:/usr/bin/false\n",
      "_coreml:*:280:280:CoreML Services:/var/db/coreml:/usr/bin/false\n",
      "_sntpd:*:281:281:SNTP Server Daemon:/var/empty:/usr/bin/false\n",
      "_trustd:*:282:282:trustd:/var/empty:/usr/bin/false\n",
      "_mmaintenanced:*:283:283:mmaintenanced:/var/db/mmaintenanced:/usr/bin/false\n",
      "_darwindaemon:*:284:284:Darwin Daemon:/var/db/darwindaemon:/usr/bin/false\n",
      "_notification_proxy:*:285:285:Notification Proxy:/var/empty:/usr/bin/false\n",
      "_avphidbridge:*:288:288:Apple Virtual Platform HID Bridge:/var/empty:/usr/bin/false\n",
      "_biome:*:289:289:Biome:/var/db/biome:/usr/bin/false\n",
      "_backgroundassets:*:291:291:Background Assets Service:/var/empty:/usr/bin/false\n",
      "_mobilegestalthelper:*:293:293:MobileGestaltHelper:/var/empty:/usr/bin/false\n",
      "_audiomxd:*:294:294:Audio and MediaExperience Daemon:/var/db/audiomxd:/usr/bin/false\n",
      "_terminusd:*:295:295:Terminus:/var/db/terminus:/usr/bin/false\n",
      "_neuralengine:*:296:296:AppleNeuralEngine:/var/db/neuralengine:/usr/bin/false\n",
      "_eligibilityd:*:297:297:OS Eligibility Daemon:/var/db/eligibilityd:/usr/bin/false\n",
      "_systemstatusd:*:298:298:SystemStatus Services:/var/empty:/usr/bin/false\n",
      "_aonsensed:*:300:300:Always On Sense Daemon:/var/db/aonsensed:/usr/bin/false\n",
      "_modelmanagerd:*:301:301:Model Manager:/var/db/modelmanagerd:/usr/bin/false\n",
      "_reportsystemmemory:*:302:302:ReportSystemMemory:/var/empty:/usr/bin/false\n",
      "_swtransparencyd:*:303:303:Software Transparency Services:/var/db/swtransparencyd:/usr/bin/false\n",
      "_naturallanguaged:*:304:304:Natural Language Services:/var/db/com.apple.naturallanguaged:/usr/bin/false\n",
      "_oahd:*:441:441:OAH Daemon:/var/empty:/usr/bin/false\n"
     ]
    }
   ],
   "source": [
    "# tighten this up\n",
    "\n",
    "for one_line in open('/etc/passwd'):   # normally, when we get to the end of a file, it's hard to read from it again\n",
    "    print(one_line.strip())    # print the current line + '\\n'"
   ]
  },
  {
   "cell_type": "code",
   "execution_count": 76,
   "metadata": {},
   "outputs": [
    {
     "name": "stdout",
     "output_type": "stream",
     "text": [
      "Username nobody, user ID -2\n",
      "Username root, user ID 0\n",
      "Username daemon, user ID 1\n",
      "Username _uucp, user ID 4\n",
      "Username _taskgated, user ID 13\n",
      "Username _networkd, user ID 24\n",
      "Username _installassistant, user ID 25\n",
      "Username _lp, user ID 26\n",
      "Username _postfix, user ID 27\n",
      "Username _scsd, user ID 31\n",
      "Username _ces, user ID 32\n",
      "Username _appstore, user ID 33\n",
      "Username _mcxalr, user ID 54\n",
      "Username _appleevents, user ID 55\n",
      "Username _geod, user ID 56\n",
      "Username _devdocs, user ID 59\n",
      "Username _sandbox, user ID 60\n",
      "Username _mdnsresponder, user ID 65\n",
      "Username _ard, user ID 67\n",
      "Username _www, user ID 70\n",
      "Username _eppc, user ID 71\n",
      "Username _cvs, user ID 72\n",
      "Username _svn, user ID 73\n",
      "Username _mysql, user ID 74\n",
      "Username _sshd, user ID 75\n",
      "Username _qtss, user ID 76\n",
      "Username _cyrus, user ID 77\n",
      "Username _mailman, user ID 78\n",
      "Username _appserver, user ID 79\n",
      "Username _clamav, user ID 82\n",
      "Username _amavisd, user ID 83\n",
      "Username _jabber, user ID 84\n",
      "Username _appowner, user ID 87\n",
      "Username _windowserver, user ID 88\n",
      "Username _spotlight, user ID 89\n",
      "Username _tokend, user ID 91\n",
      "Username _securityagent, user ID 92\n",
      "Username _calendar, user ID 93\n",
      "Username _teamsserver, user ID 94\n",
      "Username _update_sharing, user ID 95\n",
      "Username _installer, user ID 96\n",
      "Username _atsserver, user ID 97\n",
      "Username _ftp, user ID 98\n",
      "Username _unknown, user ID 99\n",
      "Username _softwareupdate, user ID 200\n",
      "Username _coreaudiod, user ID 202\n",
      "Username _screensaver, user ID 203\n",
      "Username _locationd, user ID 205\n",
      "Username _trustevaluationagent, user ID 208\n",
      "Username _timezone, user ID 210\n",
      "Username _lda, user ID 211\n",
      "Username _cvmsroot, user ID 212\n",
      "Username _usbmuxd, user ID 213\n",
      "Username _dovecot, user ID 214\n",
      "Username _dpaudio, user ID 215\n",
      "Username _postgres, user ID 216\n",
      "Username _krbtgt, user ID 217\n",
      "Username _kadmin_admin, user ID 218\n",
      "Username _kadmin_changepw, user ID 219\n",
      "Username _devicemgr, user ID 220\n",
      "Username _webauthserver, user ID 221\n",
      "Username _netbios, user ID 222\n",
      "Username _warmd, user ID 224\n",
      "Username _dovenull, user ID 227\n",
      "Username _netstatistics, user ID 228\n",
      "Username _avbdeviced, user ID 229\n",
      "Username _krb_krbtgt, user ID 230\n",
      "Username _krb_kadmin, user ID 231\n",
      "Username _krb_changepw, user ID 232\n",
      "Username _krb_kerberos, user ID 233\n",
      "Username _krb_anonymous, user ID 234\n",
      "Username _assetcache, user ID 235\n",
      "Username _coremediaiod, user ID 236\n",
      "Username _launchservicesd, user ID 239\n",
      "Username _iconservices, user ID 240\n",
      "Username _distnote, user ID 241\n",
      "Username _nsurlsessiond, user ID 242\n",
      "Username _displaypolicyd, user ID 244\n",
      "Username _astris, user ID 245\n",
      "Username _krbfast, user ID 246\n",
      "Username _gamecontrollerd, user ID 247\n",
      "Username _mbsetupuser, user ID 248\n",
      "Username _ondemand, user ID 249\n",
      "Username _xserverdocs, user ID 251\n",
      "Username _wwwproxy, user ID 252\n",
      "Username _mobileasset, user ID 253\n",
      "Username _findmydevice, user ID 254\n",
      "Username _datadetectors, user ID 257\n",
      "Username _captiveagent, user ID 258\n",
      "Username _ctkd, user ID 259\n",
      "Username _applepay, user ID 260\n",
      "Username _hidd, user ID 261\n",
      "Username _cmiodalassistants, user ID 262\n",
      "Username _analyticsd, user ID 263\n",
      "Username _fpsd, user ID 265\n",
      "Username _timed, user ID 266\n",
      "Username _nearbyd, user ID 268\n",
      "Username _reportmemoryexception, user ID 269\n",
      "Username _driverkit, user ID 270\n",
      "Username _diskimagesiod, user ID 271\n",
      "Username _logd, user ID 272\n",
      "Username _appinstalld, user ID 273\n",
      "Username _installcoordinationd, user ID 274\n",
      "Username _demod, user ID 275\n",
      "Username _rmd, user ID 277\n",
      "Username _accessoryupdater, user ID 278\n",
      "Username _knowledgegraphd, user ID 279\n",
      "Username _coreml, user ID 280\n",
      "Username _sntpd, user ID 281\n",
      "Username _trustd, user ID 282\n",
      "Username _mmaintenanced, user ID 283\n",
      "Username _darwindaemon, user ID 284\n",
      "Username _notification_proxy, user ID 285\n",
      "Username _avphidbridge, user ID 288\n",
      "Username _biome, user ID 289\n",
      "Username _backgroundassets, user ID 291\n",
      "Username _mobilegestalthelper, user ID 293\n",
      "Username _audiomxd, user ID 294\n",
      "Username _terminusd, user ID 295\n",
      "Username _neuralengine, user ID 296\n",
      "Username _eligibilityd, user ID 297\n",
      "Username _systemstatusd, user ID 298\n",
      "Username _aonsensed, user ID 300\n",
      "Username _modelmanagerd, user ID 301\n",
      "Username _reportsystemmemory, user ID 302\n",
      "Username _swtransparencyd, user ID 303\n",
      "Username _naturallanguaged, user ID 304\n",
      "Username _oahd, user ID 441\n"
     ]
    }
   ],
   "source": [
    "# what if I want all of the usernames from my computer?\n",
    "\n",
    "# when we iterate over a file for reading, we get up to and INCLUDING the next \\n character\n",
    "# every string we get back will end with \\n. \n",
    "\n",
    "for one_line in open('/etc/passwd'):   # normally, when we get to the end of a file, it's hard to read from it again\n",
    "    if one_line.startswith(\"#\"):       # this returns True if the string (one_line) starts with '#'\n",
    "        continue\n",
    "\n",
    "    fields = one_line.split(':')  # get a list of strings back from each line, with the field separator being :\n",
    "    print(f'Username {fields[0]}, user ID {fields[2]}')    # fields[0] is the username, and fields[2] is the user ID number. fields[1] is just '*'"
   ]
  },
  {
   "cell_type": "markdown",
   "metadata": {},
   "source": [
    "# `continue` in a loop\n",
    "\n",
    "- `break`, in a loop, exits the loop entirely, and forces the program to continue after the loop. It's a quick way to break out, normally (I think) when you have reached the loop's goals.\n",
    "\n",
    "- `continue`, in a loop, exits the *current iteration* right away, but continues with the next iteration of the loop. I usually use this when I've found that there's no need to run the loop body."
   ]
  },
  {
   "cell_type": "markdown",
   "metadata": {},
   "source": [
    "# Exercise: Count vowels\n",
    "\n",
    "1. Open the file `linux-etc-passwd.txt` in the zipfile I gave you.\n",
    "2. Define `total` to be 0.\n",
    "3. Iterate over each line in a `for` loop\n",
    "4. Inside of that loop, iterate over each character in the current line.\n",
    "5. If the character is a vowel, add 1 to `total`.\n",
    "6. Print `total`."
   ]
  },
  {
   "cell_type": "markdown",
   "metadata": {},
   "source": [
    "# To access file:\n",
    "\n",
    "- If the file is in the same directory as your program (or Jupyter), just name the file. No slashes, no backslashes.\n",
    "- If the file is elsewhere on the disk, you'll need to give its path. On Unix, that means `/a/b/c/d` in terms of folders, until you get to the file you want. If you're on windows, it's `c:\\a\\b\\c\\d` (note, we use backslashes) to find the file."
   ]
  },
  {
   "cell_type": "code",
   "execution_count": 77,
   "metadata": {},
   "outputs": [
    {
     "name": "stdout",
     "output_type": "stream",
     "text": [
      "Vowels = 580\n"
     ]
    }
   ],
   "source": [
    "filename = 'linux-etc-passwd.txt'\n",
    "total = 0\n",
    "\n",
    "for one_line in open(filename):      # when you iterate over a file, you get the contents one line at a time\n",
    "    for one_character in one_line:   # go through each character\n",
    "        if one_character in 'aeiou':\n",
    "            total += 1               # add 1 to total if we found a vowel\n",
    "\n",
    "print(f'Vowels = {total}')"
   ]
  },
  {
   "cell_type": "markdown",
   "metadata": {},
   "source": [
    "# Next up\n",
    "\n",
    "1. More practice with files\n",
    "2. Writing to files and `with`\n",
    "\n"
   ]
  },
  {
   "cell_type": "code",
   "execution_count": 82,
   "metadata": {},
   "outputs": [
    {
     "name": "stdout",
     "output_type": "stream",
     "text": [
      "{'i': 148, 'a': 137, 'o': 123, 'e': 122, 'u': 50}\n"
     ]
    }
   ],
   "source": [
    "# SS\n",
    "\n",
    "vowels = {}\n",
    "for line in open('linux-etc-passwd.txt'): \n",
    "    for character in line:\n",
    "        if character in 'aeiou':\n",
    "            if character in vowels:\n",
    "                vowels[character] += 1\n",
    "            else:\n",
    "                vowels[character] = 1\n",
    "\n",
    "print(vowels)"
   ]
  },
  {
   "cell_type": "code",
   "execution_count": 79,
   "metadata": {},
   "outputs": [
    {
     "name": "stdout",
     "output_type": "stream",
     "text": [
      "{'a': 137, 'e': 122, 'i': 148, 'o': 123, 'u': 50}\n"
     ]
    }
   ],
   "source": [
    "vowels = {'a':0, 'e':0, 'i':0, 'o':0, 'u':0}\n",
    "\n",
    "for line in open('linux-etc-passwd.txt'): \n",
    "    for character in line:\n",
    "        if character in vowels:      # is the current character a key in our dict?  The keys are all vowels!\n",
    "            vowels[character] += 1\n",
    "\n",
    "print(vowels)          \n"
   ]
  },
  {
   "cell_type": "code",
   "execution_count": 80,
   "metadata": {},
   "outputs": [
    {
     "name": "stdout",
     "output_type": "stream",
     "text": [
      "580\n"
     ]
    }
   ],
   "source": [
    "print(sum(vowels.values()))"
   ]
  },
  {
   "cell_type": "code",
   "execution_count": 83,
   "metadata": {},
   "outputs": [
    {
     "data": {
      "text/plain": [
       "{'a': 10, 'b': 20, 'c': 30}"
      ]
     },
     "execution_count": 83,
     "metadata": {},
     "output_type": "execute_result"
    }
   ],
   "source": [
    "d = {}\n",
    "d['a'] = 10\n",
    "d['b'] = 20\n",
    "d['c'] = 30\n",
    "d"
   ]
  },
  {
   "cell_type": "code",
   "execution_count": 84,
   "metadata": {},
   "outputs": [
    {
     "data": {
      "text/plain": [
       "{'b': 20, 'c': 30, 'a': 10}"
      ]
     },
     "execution_count": 84,
     "metadata": {},
     "output_type": "execute_result"
    }
   ],
   "source": [
    "e = {}\n",
    "e['b'] = 20\n",
    "e['c'] = 30\n",
    "e['a'] = 10\n",
    "\n",
    "e"
   ]
  },
  {
   "cell_type": "code",
   "execution_count": 86,
   "metadata": {},
   "outputs": [
    {
     "data": {
      "text/plain": [
       "True"
      ]
     },
     "execution_count": 86,
     "metadata": {},
     "output_type": "execute_result"
    }
   ],
   "source": [
    "d == e   # every key-value pair in d is the same in e"
   ]
  },
  {
   "cell_type": "markdown",
   "metadata": {},
   "source": [
    "# Demo: Word count (`wc`)\n",
    "\n",
    "Unix comes with a lot of command-line utility programs. One of those is known as `wc`. The idea is that if we run `wc` against a text file, it'll tell us how many lines, how many words, and how many characters a file contains.\n",
    "\n",
    "Can we write our own version of `wc`?"
   ]
  },
  {
   "cell_type": "code",
   "execution_count": 87,
   "metadata": {},
   "outputs": [
    {
     "name": "stdout",
     "output_type": "stream",
     "text": [
      "This is a test file.\n",
      "\n",
      "It contains 28 words and 20 different words.\n",
      "\n",
      "It also contains 165 characters.\n",
      "\n",
      "It also contains 11 lines.\n",
      "\n",
      "It is also self-referential.\n",
      "\n",
      "Wow!\n"
     ]
    }
   ],
   "source": [
    "!cat wcfile.txt"
   ]
  },
  {
   "cell_type": "code",
   "execution_count": 91,
   "metadata": {},
   "outputs": [
    {
     "name": "stdout",
     "output_type": "stream",
     "text": [
      "lines: 11\n",
      "words: 28\n",
      "chars: 165\n"
     ]
    }
   ],
   "source": [
    "# setup\n",
    "counts = {'lines':0,\n",
    "          'words':0,\n",
    "          'chars':0}\n",
    "\n",
    "# calculations \n",
    "for one_line in open('wcfile.txt'):\n",
    "    counts['lines'] += 1                # add 1 to counts['lines']\n",
    "    counts['chars'] += len(one_line)    # get the length of the current line, and add to counts['chars']\n",
    "    counts['words'] += len(one_line.split())   # break the line into words, count them, and add to counts['words']\n",
    "\n",
    "# report\n",
    "for key, value in counts.items():\n",
    "    print(f'{key}: {value}')"
   ]
  },
  {
   "cell_type": "code",
   "execution_count": null,
   "metadata": {},
   "outputs": [],
   "source": [
    "# a successful startup\n",
    "\n",
    "# 1. idea\n",
    "# 2. ????\n",
    "# 3. exit!"
   ]
  },
  {
   "cell_type": "markdown",
   "metadata": {},
   "source": [
    "# What about writing to files?\n",
    "\n",
    "When we invoked `open` until now, we only passed one argument. We could do that because by default, `open` opens a file for reading. More formally, we could (should?) invoke it with two arguments. The second is a string describing the \"mode\" of opening we want, typically `r` for reading or `w` for writing.\n",
    "\n",
    "    f = open('/etc/passwd', 'r')   # same as we've done, but more explicitly\n",
    "\n",
    "If we want to open a file for writing, we'll just use `w` instead of `r`.\n",
    "\n",
    "**CAUTION**: If you open a file for writing, one of two things will happen:\n",
    "\n",
    "- You'll get an error because you don't have appropriate permissions, etc. to write to the file\n",
    "- The file is open for writing, and *anything that was previously in the file is erased*.\n",
    "\n"
   ]
  },
  {
   "cell_type": "code",
   "execution_count": 92,
   "metadata": {},
   "outputs": [
    {
     "data": {
      "text/plain": [
       "9"
      ]
     },
     "execution_count": 92,
     "metadata": {},
     "output_type": "execute_result"
    }
   ],
   "source": [
    "f = open('myfile.txt', 'w')   # I'm opening a new file for writing\n",
    "\n",
    "# I can write to a file with the .write method, passing a string\n",
    "f.write('abcd\\n')\n",
    "f.write('efghij\\n')\n",
    "f.write('klmnopqr\\n')"
   ]
  },
  {
   "cell_type": "code",
   "execution_count": 93,
   "metadata": {},
   "outputs": [],
   "source": [
    "# let's look at the file, and see what we wrote!\n",
    "# I'll use the Unix \"cat\" command to look at it\n",
    "# I'll use the Jupyter ! command to run a Unix command from Jupyter\n",
    "\n",
    "!cat myfile.txt"
   ]
  },
  {
   "cell_type": "markdown",
   "metadata": {},
   "source": [
    "When we write to a file, Python (and OS) don't really write to the disk. That's because disks are *far* slower than computers, so it would mean a lot of waiting around for the disk.\n",
    "\n",
    "Instead, we write to a section of memory called a \"buffer.\" When the buffer fills up, we really write the contents to disk.\n",
    "\n",
    "If it doesn't, we wait.\n",
    "\n",
    "When Python exits, the buffer is flushed to disk. Also, when the file is closed, the buffer is flushed to disk. You can even invoke `flush` on your own to flush the buffer."
   ]
  },
  {
   "cell_type": "code",
   "execution_count": 94,
   "metadata": {},
   "outputs": [],
   "source": [
    "f.close()"
   ]
  },
  {
   "cell_type": "code",
   "execution_count": 95,
   "metadata": {},
   "outputs": [
    {
     "name": "stdout",
     "output_type": "stream",
     "text": [
      "abcd\n",
      "efghij\n",
      "klmnopqr\n"
     ]
    }
   ],
   "source": [
    "!cat myfile.txt"
   ]
  },
  {
   "cell_type": "markdown",
   "metadata": {},
   "source": [
    "# The `with` construct\n",
    "\n",
    "The special `with` word in Python means (at least, when it comes to files): I'm going to do some work on this file. When the block ends, I want to close it. "
   ]
  },
  {
   "cell_type": "code",
   "execution_count": 96,
   "metadata": {},
   "outputs": [],
   "source": [
    "with open('myfile.txt', 'w') as f:    # this is like saying f = open('myfile.txt', 'w')\n",
    "    f.write('*** abcdef\\n')\n",
    "    f.write('*** asdfafdasfdsafsafdsafd\\n')    # \\n == newline\n",
    "    f.write('*** zxcvzvxzasdf\\n')\n",
    "\n",
    "    # implicitly, before we exit the block, the file is closed... which means that the data was definitely written."
   ]
  },
  {
   "cell_type": "code",
   "execution_count": 97,
   "metadata": {},
   "outputs": [
    {
     "name": "stdout",
     "output_type": "stream",
     "text": [
      "*** abcdef\n",
      "*** asdfafdasfdsafsafdsafd\n",
      "*** zxcvzvxzasdf\n"
     ]
    }
   ],
   "source": [
    "!cat myfile.txt"
   ]
  },
  {
   "cell_type": "markdown",
   "metadata": {},
   "source": [
    "`with` is used all the time with opening files for writing, because we know when the file will be closed, and thus when the data will be avialable.  You don't need to use it, but most people do.\n",
    "\n",
    "For reading... many people use `with`, but I'm usually not one of them, because I don't care about closing files after I read from them."
   ]
  },
  {
   "cell_type": "markdown",
   "metadata": {},
   "source": [
    "# Exercise: Write a dict to the disk\n",
    "\n",
    "1. Define a simple dict with a few key-value pairs.\n",
    "2. Open a file for writing (make sure it isn't an important filename that you will overwrite!).\n",
    "3. Go through each key-value pair in the dict\n",
    "4. Write each pair to disk as a separate line in the file, as `key=value`\n",
    "\n",
    "A dict that looks like\n",
    "\n",
    "    {'a':10, 'b':20, 'c':30}\n",
    "\n",
    "should be written as\n",
    "\n",
    "    a=10\n",
    "    b=20\n",
    "    c=30"
   ]
  },
  {
   "cell_type": "code",
   "execution_count": 99,
   "metadata": {},
   "outputs": [],
   "source": [
    "d = {'a':10, 'b':20, 'c':30}\n",
    "\n",
    "filename = 'mydict.txt'\n",
    "\n",
    "with open(filename, 'w') as f:     # open the file, telling Python to close it when the block ends\n",
    "    for key, value in d.items():   # iterate over the dict's keys and values\n",
    "        f.write(f'{key}={value}\\n') # write the key-value pair to disk    \n"
   ]
  },
  {
   "cell_type": "code",
   "execution_count": 100,
   "metadata": {},
   "outputs": [
    {
     "name": "stdout",
     "output_type": "stream",
     "text": [
      "a=10\n",
      "b=20\n",
      "c=30\n"
     ]
    }
   ],
   "source": [
    "!cat mydict.txt"
   ]
  },
  {
   "cell_type": "code",
   "execution_count": 98,
   "metadata": {},
   "outputs": [],
   "source": [
    "# installing pyenv can make it easier to install Python on your computer...\n"
   ]
  },
  {
   "cell_type": "code",
   "execution_count": null,
   "metadata": {},
   "outputs": [],
   "source": [
    "# SS\n",
    "\n",
    "\n",
    "\n",
    "rainfall_rec = {} \n",
    "\n",
    "while True : \n",
    "    city_name = input('Enter city name : ').strip()\n",
    "    if city_name == '':\n",
    "        break\n",
    "    rain_mm = input('Enter rainfall in mm:').strip()\n",
    "    rain_mm = int(rain_mm)\n",
    "    if city_name in rainfall_rec:\n",
    "        rainfall_rec[city_name] += rain_mm\n",
    "    else:\n",
    "        rainfall_rec[city_name] = rain_mm\n",
    "\n",
    "#print (rainfall_rec)\n",
    "\n",
    "with open('data/DictFile.txt' , 'w') as f: \n",
    "        for key , value in rainfall_rec.items():\n",
    "            f.write(f'{key}={value}\\n')\n"
   ]
  },
  {
   "cell_type": "markdown",
   "metadata": {},
   "source": [
    "# Next time: Functions!"
   ]
  }
 ],
 "metadata": {
  "kernelspec": {
   "display_name": "Python 3 (ipykernel)",
   "language": "python",
   "name": "python3"
  },
  "language_info": {
   "codemirror_mode": {
    "name": "ipython",
    "version": 3
   },
   "file_extension": ".py",
   "mimetype": "text/x-python",
   "name": "python",
   "nbconvert_exporter": "python",
   "pygments_lexer": "ipython3",
   "version": "3.13.0"
  }
 },
 "nbformat": 4,
 "nbformat_minor": 4
}
