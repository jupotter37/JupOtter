{
  "nbformat": 4,
  "nbformat_minor": 0,
  "metadata": {
    "colab": {
      "provenance": []
    },
    "kernelspec": {
      "name": "python3",
      "display_name": "Python 3"
    },
    "language_info": {
      "name": "python"
    }
  },
  "cells": [
    {
      "cell_type": "markdown",
      "source": [
        "# Data Types and Structures Theory Questions-"
      ],
      "metadata": {
        "id": "8WhXytdaGmhZ"
      }
    },
    {
      "cell_type": "markdown",
      "source": [
        "**Q1- What are data structures, and why are they important?**"
      ],
      "metadata": {
        "id": "zQUsfZBaG0F5"
      }
    },
    {
      "cell_type": "markdown",
      "source": [
        "- In Python, data structures refer to the ways in which data is organized, stored, and manipulated in a program. These structures are implemented through built-in Python collections or can be defined using custom classes.\n",
        "Why They Are Important?\n",
        "\n",
        "- Different data structures optimize specific operations. Python's built-in data structures are optimized for common tasks like searching, inserting, deleting, and iterating over data.\n",
        "- Python’s built-in data structures are optimized for memory usage, allowing for efficient storage and retrieval of data.\n",
        "- Data structures allow Python developers to solve real-world problems efficiently."
      ],
      "metadata": {
        "id": "JJahe-K8G8fE"
      }
    },
    {
      "cell_type": "markdown",
      "source": [
        "**Q2- Explain the difference between mutable and immutable data types with examples.**"
      ],
      "metadata": {
        "id": "0Kx5fBjlHH21"
      }
    },
    {
      "cell_type": "markdown",
      "source": [
        "1.Mutable Data Types- A mutable data type is one where the value or contents of the object can be changed after the object has been created. In other words, mutable objects can be modified in place.\n",
        "\n",
        "2.Some of the mutable data types in python are- lists,dictionaries,sets, etc."
      ],
      "metadata": {
        "id": "QT7gUqSyHMwj"
      }
    },
    {
      "cell_type": "code",
      "source": [
        "#example of mutable data types-\n",
        "# Lists (mutable)\n",
        "my_list = [1, 2, 3]\n",
        "print(my_list)\n",
        "\n",
        "# Modify list\n",
        "my_list.append(4)\n",
        "my_list[0] = 10\n",
        "print(my_list)"
      ],
      "metadata": {
        "colab": {
          "base_uri": "https://localhost:8080/"
        },
        "id": "MbtiEs5wHeHL",
        "outputId": "b2f8f64e-f78b-4a1e-c03a-31305d91e40e"
      },
      "execution_count": 3,
      "outputs": [
        {
          "output_type": "stream",
          "name": "stdout",
          "text": [
            "[1, 2, 3]\n",
            "[10, 2, 3, 4]\n"
          ]
        }
      ]
    },
    {
      "cell_type": "markdown",
      "source": [
        "3.Immutable Data Types- An immutable data type is one where the value or contents cannot be changed once the object is created. If you attempt to modify the value, a new object is created instead of modifying the original.\n",
        "\n",
        "\n",
        "\n",
        "4.Some of the immutable data types in python are- tuples, integer, strings, etc."
      ],
      "metadata": {
        "id": "6WltB817HoPR"
      }
    },
    {
      "cell_type": "code",
      "source": [
        "# Tuples (immutable)\n",
        "my_tuple = (1, 2, 3)\n",
        "print(my_tuple)  # Output: (1, 2, 3)\n",
        "my_tuple[0] = 10"
      ],
      "metadata": {
        "colab": {
          "base_uri": "https://localhost:8080/",
          "height": 193
        },
        "id": "MXZEKR9vHxtl",
        "outputId": "1b058376-8139-4a97-9ed6-b2f50806a3d6"
      },
      "execution_count": 4,
      "outputs": [
        {
          "output_type": "stream",
          "name": "stdout",
          "text": [
            "(1, 2, 3)\n"
          ]
        },
        {
          "output_type": "error",
          "ename": "TypeError",
          "evalue": "'tuple' object does not support item assignment",
          "traceback": [
            "\u001b[0;31m---------------------------------------------------------------------------\u001b[0m",
            "\u001b[0;31mTypeError\u001b[0m                                 Traceback (most recent call last)",
            "\u001b[0;32m<ipython-input-4-883f8b4e88a2>\u001b[0m in \u001b[0;36m<cell line: 4>\u001b[0;34m()\u001b[0m\n\u001b[1;32m      2\u001b[0m \u001b[0mmy_tuple\u001b[0m \u001b[0;34m=\u001b[0m \u001b[0;34m(\u001b[0m\u001b[0;36m1\u001b[0m\u001b[0;34m,\u001b[0m \u001b[0;36m2\u001b[0m\u001b[0;34m,\u001b[0m \u001b[0;36m3\u001b[0m\u001b[0;34m)\u001b[0m\u001b[0;34m\u001b[0m\u001b[0;34m\u001b[0m\u001b[0m\n\u001b[1;32m      3\u001b[0m \u001b[0mprint\u001b[0m\u001b[0;34m(\u001b[0m\u001b[0mmy_tuple\u001b[0m\u001b[0;34m)\u001b[0m  \u001b[0;31m# Output: (1, 2, 3)\u001b[0m\u001b[0;34m\u001b[0m\u001b[0;34m\u001b[0m\u001b[0m\n\u001b[0;32m----> 4\u001b[0;31m \u001b[0mmy_tuple\u001b[0m\u001b[0;34m[\u001b[0m\u001b[0;36m0\u001b[0m\u001b[0;34m]\u001b[0m \u001b[0;34m=\u001b[0m \u001b[0;36m10\u001b[0m\u001b[0;34m\u001b[0m\u001b[0;34m\u001b[0m\u001b[0m\n\u001b[0m",
            "\u001b[0;31mTypeError\u001b[0m: 'tuple' object does not support item assignment"
          ]
        }
      ]
    },
    {
      "cell_type": "markdown",
      "source": [
        "**Q3- What are the main differences between lists and tuples in Python?**"
      ],
      "metadata": {
        "id": "7a8KTgi9H2dM"
      }
    },
    {
      "cell_type": "markdown",
      "source": [
        "1.Lists are mutable and suitable for data that may change.\n",
        "\n",
        "\n",
        "\n",
        "\n",
        "\n",
        "\n",
        "2.Tuples are immutable and efficient for fixed collections of data.\n",
        "- Examples Given Below-"
      ],
      "metadata": {
        "id": "P-brMQHQH8rl"
      }
    },
    {
      "cell_type": "code",
      "source": [
        "#example of mutable data types-\n",
        "# Lists (mutable)\n",
        "my_list = [1, 2, 3]\n",
        "print(my_list)\n",
        "\n",
        "# Modify list\n",
        "my_list.append(4)\n",
        "my_list[0] = 10\n",
        "print(my_list)\n",
        ""
      ],
      "metadata": {
        "colab": {
          "base_uri": "https://localhost:8080/"
        },
        "id": "UxeqQcXJIGus",
        "outputId": "7f8094cd-ce94-4cfb-cc06-e69df5abcf00"
      },
      "execution_count": 5,
      "outputs": [
        {
          "output_type": "stream",
          "name": "stdout",
          "text": [
            "[1, 2, 3]\n",
            "[10, 2, 3, 4]\n"
          ]
        }
      ]
    },
    {
      "cell_type": "code",
      "source": [
        " #example of immutable data types-\n",
        "# Tuples (immutable)\n",
        "my_tuple = (1, 2, 3)\n",
        "print(my_tuple)  # Output: (1, 2, 3)\n",
        "my_tuple[0] = 10"
      ],
      "metadata": {
        "colab": {
          "base_uri": "https://localhost:8080/",
          "height": 193
        },
        "id": "ndSMLCdmGtef",
        "outputId": "75c46dc8-9bea-4906-b098-6a271b768c20"
      },
      "execution_count": 6,
      "outputs": [
        {
          "output_type": "stream",
          "name": "stdout",
          "text": [
            "(1, 2, 3)\n"
          ]
        },
        {
          "output_type": "error",
          "ename": "TypeError",
          "evalue": "'tuple' object does not support item assignment",
          "traceback": [
            "\u001b[0;31m---------------------------------------------------------------------------\u001b[0m",
            "\u001b[0;31mTypeError\u001b[0m                                 Traceback (most recent call last)",
            "\u001b[0;32m<ipython-input-6-bf0c726c50ec>\u001b[0m in \u001b[0;36m<cell line: 5>\u001b[0;34m()\u001b[0m\n\u001b[1;32m      3\u001b[0m \u001b[0mmy_tuple\u001b[0m \u001b[0;34m=\u001b[0m \u001b[0;34m(\u001b[0m\u001b[0;36m1\u001b[0m\u001b[0;34m,\u001b[0m \u001b[0;36m2\u001b[0m\u001b[0;34m,\u001b[0m \u001b[0;36m3\u001b[0m\u001b[0;34m)\u001b[0m\u001b[0;34m\u001b[0m\u001b[0;34m\u001b[0m\u001b[0m\n\u001b[1;32m      4\u001b[0m \u001b[0mprint\u001b[0m\u001b[0;34m(\u001b[0m\u001b[0mmy_tuple\u001b[0m\u001b[0;34m)\u001b[0m  \u001b[0;31m# Output: (1, 2, 3)\u001b[0m\u001b[0;34m\u001b[0m\u001b[0;34m\u001b[0m\u001b[0m\n\u001b[0;32m----> 5\u001b[0;31m \u001b[0mmy_tuple\u001b[0m\u001b[0;34m[\u001b[0m\u001b[0;36m0\u001b[0m\u001b[0;34m]\u001b[0m \u001b[0;34m=\u001b[0m \u001b[0;36m10\u001b[0m\u001b[0;34m\u001b[0m\u001b[0;34m\u001b[0m\u001b[0m\n\u001b[0m",
            "\u001b[0;31mTypeError\u001b[0m: 'tuple' object does not support item assignment"
          ]
        }
      ]
    },
    {
      "cell_type": "markdown",
      "source": [
        "**Q4- Describe how dictionaries store data.**"
      ],
      "metadata": {
        "id": "iBr6WKX5IQHs"
      }
    },
    {
      "cell_type": "markdown",
      "source": [
        "- Python dictionaries are unordered collections of key-value pairs, where each key is unique and maps to a specific value. They are implemented using a hash table internally, which allows for fast lookups, insertions, and deletions.\n",
        "#example\n",
        "my_dict = {'name': 'Alice', 'age': 25}\n",
        "\n",
        "\n",
        "\n",
        "- Key: 'name', Value: 'Alice'\n",
        "- Key: 'age', Value: 25"
      ],
      "metadata": {
        "id": "yj5Kyb0eIbXJ"
      }
    },
    {
      "cell_type": "markdown",
      "source": [
        "**Q5- Why might you use a set instead of a list in Python?**"
      ],
      "metadata": {
        "id": "kVIVVeBsIsfV"
      }
    },
    {
      "cell_type": "markdown",
      "source": [
        "- Uniqueness: When you need to ensure that elements are unique.\n",
        "- Performance: When you need fast membership testing or set operations (union, intersection, etc.).\n",
        "- Set operations: When you need efficient mathematical operations like union, intersection, or difference.\n",
        "- Unordered collections: When the order of elements does not matter."
      ],
      "metadata": {
        "id": "MjrIG6N4IwXQ"
      }
    },
    {
      "cell_type": "markdown",
      "source": [
        "**Q6- What is a string in Python, and how is it different from a list?**"
      ],
      "metadata": {
        "id": "3cEqoOhpI48y"
      }
    },
    {
      "cell_type": "markdown",
      "source": [
        "- In Python, a string is a sequence of characters enclosed in either single quotes (') or double quotes (\"). Strings are a built-in data type used to store text data, and they are immutable, meaning that their contents cannot be changed after they are created.\n",
        "- A list is an ordered collection of items, which can be of any data type (including numbers, strings, or other lists). Lists are mutable, meaning you can change, add, or remove elements after the list is created.\n",
        "- The key difference between them is that a string is immutable but a list is mutable."
      ],
      "metadata": {
        "id": "BDlwtPzvI-Nh"
      }
    },
    {
      "cell_type": "markdown",
      "source": [
        "**Q7- How do tuples ensure data integrity in Python?**"
      ],
      "metadata": {
        "id": "wVG5770mI9N3"
      }
    },
    {
      "cell_type": "markdown",
      "source": [
        "- Tuples ensure data integrity in Python by being immutable—once created, their contents cannot be changed. This prevents accidental modifications, guarantees consistent data, and allows tuples to be safely used as dictionary keys or set elements. Their immutability also helps maintain data integrity in multi-threaded environments, as the data can't be altered unexpectedly."
      ],
      "metadata": {
        "id": "4xrbBETWJTF1"
      }
    },
    {
      "cell_type": "markdown",
      "source": [
        "**Q8- What is a hash table, and how does it relate to dictionaries in Python?**"
      ],
      "metadata": {
        "id": "8BtoDFn4JXBM"
      }
    },
    {
      "cell_type": "markdown",
      "source": [
        "- A hash table is a data structure that stores key-value pairs, using a hash function to map keys to specific indices for fast lookups.\n",
        "- Python dictionaries (dict) are implemented as hash tables, where the keys are hashed, and values are stored at the computed index, allowing efficient operations like insertion, deletion, and lookup (usually O(1) time)."
      ],
      "metadata": {
        "id": "IrNo9-r8JjT3"
      }
    },
    {
      "cell_type": "markdown",
      "source": [
        "**Q9- Can lists contain different data types in Python?**"
      ],
      "metadata": {
        "id": "9i8QDr02Ju8f"
      }
    },
    {
      "cell_type": "markdown",
      "source": [
        "- Yes, a Python list can contain different data types. It is heterogeneous, meaning it can store elements of various types, such as integers, strings, floats, and booleans, in the same list."
      ],
      "metadata": {
        "id": "ZehE1kpvJz4c"
      }
    },
    {
      "cell_type": "markdown",
      "source": [
        "**Q10- Explain why strings are immutable in Python.**"
      ],
      "metadata": {
        "id": "5OzsAaeLJ8LW"
      }
    },
    {
      "cell_type": "markdown",
      "source": [
        "- Strings in Python are immutable because their content cannot be changed after creation. This ensures better performance, memory efficiency, and data consistency. It also allows strings to be hashable, enabling their use as dictionary keys or set elements."
      ],
      "metadata": {
        "id": "mXCGKhnhKCTY"
      }
    },
    {
      "cell_type": "markdown",
      "source": [
        "**Q11- What advantages do dictionaries offer over lists for certain tasks?**"
      ],
      "metadata": {
        "id": "-MCNgaw1KN4x"
      }
    },
    {
      "cell_type": "markdown",
      "source": [
        "- Dictionaries offer advantages over lists for tasks that require fast lookups (O(1) time), key-value pairing, and ensuring unique keys. They are more efficient for tasks involving quick access by key, like storing user profiles or settings, while lists are better suited for maintaining ordered collections.\n",
        "- Example Use Case:\n",
        "- Dictionaries: Store user profiles, settings, or configurations where fast access by a unique key (e.g., user ID, setting name) is needed.\n",
        "- Lists: Best suited for ordered collections or tasks where you need to maintain the order of elements.\n",
        "- In summary, dictionaries are more efficient for tasks that require fast lookups, key-value associations, and uniqueness, while lists are better for maintaining ordered collections."
      ],
      "metadata": {
        "id": "zsyT3QSdKVE3"
      }
    },
    {
      "cell_type": "markdown",
      "source": [
        "**Q12- How do sets handle duplicate values in Python?**"
      ],
      "metadata": {
        "id": "udT-u4FlKl0c"
      }
    },
    {
      "cell_type": "markdown",
      "source": [
        "- In Python, sets automatically remove duplicate values. A set is an unordered collection of unique elements, meaning that if you try to add a duplicate value, it will be ignored.\n",
        "\n",
        "\n",
        "Example:\n",
        "\n",
        "my_set = {1, 2, 3, 3, 4, 5, 5}\n",
        "\n",
        "\n",
        "\n",
        "\n",
        "\n",
        "print(my_set)\n",
        "\n",
        "\n",
        "\n",
        "\n",
        "Output:\n",
        "\n",
        "\n",
        "\n",
        "\n",
        "\n",
        "\n",
        "\n",
        "\n",
        "{1, 2, 3, 4, 5}\n",
        "\n",
        "\n",
        "\n",
        "\n",
        "\n",
        "\n",
        "\n",
        "In this example, the duplicates 3 and 5 are removed when the set is created. Sets ensure that only one instance of each value is stored."
      ],
      "metadata": {
        "id": "h-463oDeK1Fc"
      }
    },
    {
      "cell_type": "markdown",
      "source": [
        "**Q13- Describe a scenario where using a tuple would be preferable over a list.**"
      ],
      "metadata": {
        "id": "gm4xXMZbLO6o"
      }
    },
    {
      "cell_type": "markdown",
      "source": [
        "- A tuple would be preferable over a list in scenarios where you need immutable data or when the data should remain unchanged throughout the program. Specifically:\n",
        "\n",
        "- Scenario: Storing fixed configuration values or coordinates Imagine you are working with a set of geographical coordinates (latitude, longitude, altitude) or a configuration setting that should not change once set.\n",
        "\n",
        "- In this case, a tuple is ideal because:\n",
        "\n",
        "- The coordinates represent fixed, unchanging data. The tuple’s immutability prevents accidental modification, which could lead to errors or inconsistent behavior.\n",
        "Why not a list?\n",
        "\n",
        "- If a list were used, the coordinates could be modified (e.g., accidentally changing the longitude), which is undesirable in this context."
      ],
      "metadata": {
        "id": "kmmpsWsdLeLb"
      }
    },
    {
      "cell_type": "markdown",
      "source": [
        "**Q14- How does the “in” keyword work differently for lists and dictionaries?**"
      ],
      "metadata": {
        "id": "vvw3SOwMLlmx"
      }
    },
    {
      "cell_type": "markdown",
      "source": [
        "- The in keyword works differently for lists and dictionaries in Python:\n",
        "\n",
        "- For lists: It checks if a value exists in the list.\n",
        "\n",
        "- Example: 3 in [1, 2, 3, 4] returns True, because 3 is an element in the list.\n",
        "\n",
        "- For dictionaries: It checks if a key exists in the dictionary, not the value.\n",
        "\n",
        "- Example: 'name' in {'name': 'Alice', 'age': 30} returns True, because 'name' is a key in the dictionary."
      ],
      "metadata": {
        "id": "r-WcEHs9LrBU"
      }
    },
    {
      "cell_type": "markdown",
      "source": [
        "**Q15- Can you modify the elements of a tuple? Explain why or why not?**"
      ],
      "metadata": {
        "id": "WimZ85GaLwsk"
      }
    },
    {
      "cell_type": "markdown",
      "source": [
        "- No, you cannot modify the elements of a tuple in Python because tuples are immutable. Once a tuple is created, its elements cannot be changed, added, or removed.\n",
        "Why not?\n",
        "\n",
        "- Immutability: The primary reason is that tuples are designed to be immutable to ensure data integrity. This means that once the tuple is created, its structure and contents are fixed and cannot be altered, which prevents accidental modifications."
      ],
      "metadata": {
        "id": "nHE8qZ3QL1g6"
      }
    },
    {
      "cell_type": "markdown",
      "source": [
        "**Q16- What is a nested dictionary, and give an example of its use case.**"
      ],
      "metadata": {
        "id": "XX9zrId1L8pa"
      }
    },
    {
      "cell_type": "markdown",
      "source": [
        "- A nested dictionary is a dictionary where the values are themselves dictionaries. This allows you to represent more complex, hierarchical data structures.\n",
        "\n",
        "\n",
        "\n",
        "\n",
        "\n",
        "\n",
        "\n",
        "\n",
        "Use Case:\n",
        "\n",
        "- A common use case for a nested dictionary is representing data that naturally fits into a hierarchical structure, such as a school database or employee records.\n",
        "\n",
        "\n",
        "\n",
        "\n",
        "\n",
        "\n",
        "\n",
        "\n",
        "Example:Accessing data from a nested dictionary:\n",
        "\n",
        "Get Bob's major\n",
        "print(students[\"Bob\"][\"major\"])  # Output: Math\n",
        "\n",
        "Get Alice's age\n",
        "print(students[\"Alice\"][\"age\"])  # Output: 22"
      ],
      "metadata": {
        "id": "fJ_NQtbxMA-V"
      }
    },
    {
      "cell_type": "markdown",
      "source": [
        "**Q17- Describe the time complexity of accessing elements in a dictionary.**"
      ],
      "metadata": {
        "id": "oXVQu7FNMVt7"
      }
    },
    {
      "cell_type": "markdown",
      "source": [
        "- The time complexity of accessing elements in a Python dictionary is O(1) on average, thanks to hashing. This means retrieving a value by its key is done in constant time. In rare cases, it can degrade to O(n) due to hash collisions."
      ],
      "metadata": {
        "id": "e9sg64pwMrIg"
      }
    },
    {
      "cell_type": "markdown",
      "source": [
        "**Q18- In what situations are lists preferred over dictionaries?**"
      ],
      "metadata": {
        "id": "kHi6WhSOMxM6"
      }
    },
    {
      "cell_type": "markdown",
      "source": [
        "- Lists are preferred over dictionaries in the following situations:\n",
        "\n",
        "- Maintaining Order: When the order of elements matters, as lists are ordered collections while dictionaries (prior to Python 3.7) are unordered.\n",
        "\n",
        "- Index-Based Access: When you need to access elements by position/index rather than by key, as lists use numerical indices for access."
      ],
      "metadata": {
        "id": "QbAe2b2cM8Zw"
      }
    },
    {
      "cell_type": "markdown",
      "source": [
        "**Q19- Why are dictionaries considered unordered, and how does that affect data retrieval?**"
      ],
      "metadata": {
        "id": "F8hSCkPeNGmG"
      }
    },
    {
      "cell_type": "markdown",
      "source": [
        "- Dictionaries in Python were unordered before version 3.7 due to their hash table implementation, meaning the order of items was not guaranteed. Starting with Python 3.7, dictionaries preserve insertion order, but data is still retrieved by key, and retrieval remains efficient (O(1)average).\n",
        "\n",
        "- Effect on Data Retrieval:\n",
        "\n",
        "Pre-3.7 (Unordered): You cannot rely on the order of elements in a dictionary when retrieving data, as the order is not guaranteed.\n",
        "\n",
        "my_dict = {\"a\": 1, \"b\": 2, \"c\": 3}\n",
        "#Order of keys might not be the same as insertion\n",
        "Post-3.7 (Ordered): The insertion order is preserved, but this does not affect how you retrieve data. You still access data by key, and retrieval is efficient (O(1) on average), but now the order of elements is predictable.\n",
        "\n",
        "my_dict = {\"a\": 1, \"b\": 2, \"c\": 3}\n",
        "# Insertion order is maintained:\n",
        "print(my_dict)  # Output: {'a': 1, 'b': 2, 'c': 3}"
      ],
      "metadata": {
        "id": "TBcq63Y0Ni5M"
      }
    },
    {
      "cell_type": "markdown",
      "source": [
        "**Q20- Explain the difference between a list and a dictionary in terms of data retrieval.**"
      ],
      "metadata": {
        "id": "4H8QVAWrOBME"
      }
    },
    {
      "cell_type": "markdown",
      "source": [
        "- The difference between a list and a dictionary in terms of data retrieval is:\n",
        "\n",
        "- List: Data is retrieved by index (position). Lists are ordered collections, and you access elements by their numeric index, starting from 0. Retrieval time is O(1) for accessing an element by index.\n",
        "\n",
        "- Dictionary: Data is retrieved by key. Dictionaries store key-value pairs, and you access values using unique keys. Retrieval time is O(1) on average for accessing values by key due to hashing."
      ],
      "metadata": {
        "id": "toHAQlXIOFyJ"
      }
    },
    {
      "cell_type": "markdown",
      "source": [
        "# Data Types and Structures Practical Questions"
      ],
      "metadata": {
        "id": "lspbdgLjOMSK"
      }
    },
    {
      "cell_type": "markdown",
      "source": [
        "**1.Write a code to create a string with your name and print it.**"
      ],
      "metadata": {
        "id": "G7dCEXzEOXpE"
      }
    },
    {
      "cell_type": "code",
      "source": [
        "my_name = \"Ravi\"\n",
        "print(my_name)"
      ],
      "metadata": {
        "colab": {
          "base_uri": "https://localhost:8080/"
        },
        "id": "61uCvwcCNZyq",
        "outputId": "ef8c3719-7db2-4ed9-c3a8-32265ef2b404"
      },
      "execution_count": 11,
      "outputs": [
        {
          "output_type": "stream",
          "name": "stdout",
          "text": [
            "Ravi\n"
          ]
        }
      ]
    },
    {
      "cell_type": "markdown",
      "source": [
        "**Q2- Write a code to find the length of the string \"Hello World\".**"
      ],
      "metadata": {
        "id": "YZCYxJDyOdSU"
      }
    },
    {
      "cell_type": "code",
      "source": [
        "abc = \"Hello World\"\n",
        "len(abc)"
      ],
      "metadata": {
        "colab": {
          "base_uri": "https://localhost:8080/"
        },
        "id": "ipxF78zPOxvD",
        "outputId": "6cca9112-946d-40ff-c63b-8f5121b42a59"
      },
      "execution_count": 12,
      "outputs": [
        {
          "output_type": "execute_result",
          "data": {
            "text/plain": [
              "11"
            ]
          },
          "metadata": {},
          "execution_count": 12
        }
      ]
    },
    {
      "cell_type": "markdown",
      "source": [
        "**3.Write a code to slice the first 3 characters from the string \"Python Programming\".**"
      ],
      "metadata": {
        "id": "ZQxh1bxEO2mL"
      }
    },
    {
      "cell_type": "code",
      "source": [
        "text = \"python programming\"\n",
        "sliced_text = text[:3]\n",
        "print(sliced_text)"
      ],
      "metadata": {
        "colab": {
          "base_uri": "https://localhost:8080/"
        },
        "id": "OB_WmFmvO00d",
        "outputId": "b5930445-5e3c-41a3-c14b-a7bf1390b68b"
      },
      "execution_count": 13,
      "outputs": [
        {
          "output_type": "stream",
          "name": "stdout",
          "text": [
            "pyt\n"
          ]
        }
      ]
    },
    {
      "cell_type": "markdown",
      "source": [
        "**4.Write a code to convert the string \"hello\" to uppercase.**"
      ],
      "metadata": {
        "id": "uEZdMwW_PC-k"
      }
    },
    {
      "cell_type": "code",
      "source": [
        "text = (\"hello world\")\n",
        "text.upper()"
      ],
      "metadata": {
        "colab": {
          "base_uri": "https://localhost:8080/",
          "height": 35
        },
        "id": "n2fXWc7fPBpe",
        "outputId": "8c68ccce-f5d7-4851-83c8-390a136500e7"
      },
      "execution_count": 14,
      "outputs": [
        {
          "output_type": "execute_result",
          "data": {
            "text/plain": [
              "'HELLO WORLD'"
            ],
            "application/vnd.google.colaboratory.intrinsic+json": {
              "type": "string"
            }
          },
          "metadata": {},
          "execution_count": 14
        }
      ]
    },
    {
      "cell_type": "markdown",
      "source": [
        "**5.Write a code to replace the word \"apple\" with \"orange\" in the string \"I like apple\".**"
      ],
      "metadata": {
        "id": "nu-8oGY1PJXn"
      }
    },
    {
      "cell_type": "code",
      "source": [
        "text = (\"i like apple\")\n",
        "text.replace(\"apple\", \"orange\")"
      ],
      "metadata": {
        "colab": {
          "base_uri": "https://localhost:8080/",
          "height": 35
        },
        "id": "W5Qd3XyWPIEx",
        "outputId": "8a3cf565-917c-49c8-f5f1-471f90507f52"
      },
      "execution_count": 15,
      "outputs": [
        {
          "output_type": "execute_result",
          "data": {
            "text/plain": [
              "'i like orange'"
            ],
            "application/vnd.google.colaboratory.intrinsic+json": {
              "type": "string"
            }
          },
          "metadata": {},
          "execution_count": 15
        }
      ]
    },
    {
      "cell_type": "markdown",
      "source": [
        "**6.Write a code to create a list with numbers 1 to 5 and print it.**"
      ],
      "metadata": {
        "id": "DY8Bxi0DPX3b"
      }
    },
    {
      "cell_type": "code",
      "source": [
        "list_1 = [1,2,3,4,5]\n",
        "print(list_1)"
      ],
      "metadata": {
        "colab": {
          "base_uri": "https://localhost:8080/"
        },
        "id": "3NVs0dxJPYaP",
        "outputId": "67da4796-5c80-4074-ddc8-0ca85ebba095"
      },
      "execution_count": 16,
      "outputs": [
        {
          "output_type": "stream",
          "name": "stdout",
          "text": [
            "[1, 2, 3, 4, 5]\n"
          ]
        }
      ]
    },
    {
      "cell_type": "markdown",
      "source": [
        "**7.Write a code to append the number 10 to the list [1, 2, 3, 4].**"
      ],
      "metadata": {
        "id": "Tnl58ARvPiXc"
      }
    },
    {
      "cell_type": "code",
      "source": [
        "list_1 = [1,2,3,4]\n",
        "list_1.append(10)\n",
        "print(list_1)"
      ],
      "metadata": {
        "colab": {
          "base_uri": "https://localhost:8080/"
        },
        "id": "Wmx8ZqE2Peeh",
        "outputId": "edcb17f1-3dcd-46ea-cacc-4d5398ee67bd"
      },
      "execution_count": 17,
      "outputs": [
        {
          "output_type": "stream",
          "name": "stdout",
          "text": [
            "[1, 2, 3, 4, 10]\n"
          ]
        }
      ]
    },
    {
      "cell_type": "markdown",
      "source": [
        "**8.Write a code to remove the number 3 from the list [1, 2, 3, 4, 5].**"
      ],
      "metadata": {
        "id": "VbjVLR1oPp8a"
      }
    },
    {
      "cell_type": "code",
      "source": [
        "list_1 = [1,2,3,4,5]\n",
        "list_1.remove(3)\n",
        "print(list_1)"
      ],
      "metadata": {
        "colab": {
          "base_uri": "https://localhost:8080/"
        },
        "id": "7cKvCF7EPlvn",
        "outputId": "28b6f01d-2565-44e7-8a76-b804e7bb2bac"
      },
      "execution_count": 18,
      "outputs": [
        {
          "output_type": "stream",
          "name": "stdout",
          "text": [
            "[1, 2, 4, 5]\n"
          ]
        }
      ]
    },
    {
      "cell_type": "markdown",
      "source": [
        "**9.Write a code to access the second element in the list ['a', 'b', 'c', 'd'].**"
      ],
      "metadata": {
        "id": "qdcHbNPqPwx3"
      }
    },
    {
      "cell_type": "code",
      "source": [
        "list_1 = ['a', 'b', 'c', 'd']\n",
        "print(list_1[1])"
      ],
      "metadata": {
        "colab": {
          "base_uri": "https://localhost:8080/"
        },
        "id": "1zGZ0HEKPs_5",
        "outputId": "c4faee6e-d651-4736-c1d6-a580095ca54a"
      },
      "execution_count": 19,
      "outputs": [
        {
          "output_type": "stream",
          "name": "stdout",
          "text": [
            "b\n"
          ]
        }
      ]
    },
    {
      "cell_type": "markdown",
      "source": [
        "10.Write a code to reverse the list [10, 20, 30, 40, 50]."
      ],
      "metadata": {
        "id": "kmreUMnfP5WN"
      }
    },
    {
      "cell_type": "code",
      "source": [
        "list_1 = [10, 20, 30, 40, 50]\n",
        "list_1.reverse()\n",
        "print(list_1)"
      ],
      "metadata": {
        "colab": {
          "base_uri": "https://localhost:8080/"
        },
        "id": "t51Ar9CzP2DC",
        "outputId": "d2673169-b747-4720-e2d4-767a6cb70724"
      },
      "execution_count": 20,
      "outputs": [
        {
          "output_type": "stream",
          "name": "stdout",
          "text": [
            "[50, 40, 30, 20, 10]\n"
          ]
        }
      ]
    },
    {
      "cell_type": "markdown",
      "source": [
        "**11.Write a code to create a tuple with the elements 10, 20, 30 and print it**"
      ],
      "metadata": {
        "id": "Kt6jlFHxP-_P"
      }
    },
    {
      "cell_type": "code",
      "source": [
        "tuple_1 = (10,20,30)\n",
        "print(tuple_1)"
      ],
      "metadata": {
        "colab": {
          "base_uri": "https://localhost:8080/"
        },
        "id": "Gy1QAb-8P85N",
        "outputId": "e5444e6f-32e2-4a59-9a98-16d5dced2bf3"
      },
      "execution_count": 21,
      "outputs": [
        {
          "output_type": "stream",
          "name": "stdout",
          "text": [
            "(10, 20, 30)\n"
          ]
        }
      ]
    },
    {
      "cell_type": "markdown",
      "source": [
        "**12.Write a code to access the first element of the tuple ('apple', 'banana', 'cherry').**"
      ],
      "metadata": {
        "id": "5kBxRYLCQJMX"
      }
    },
    {
      "cell_type": "code",
      "source": [
        "tuple_1 = (\"apple\", \"banana\", \"cherry\")\n",
        "print(tuple_1[0])"
      ],
      "metadata": {
        "colab": {
          "base_uri": "https://localhost:8080/"
        },
        "id": "HPTvUqTmQGrl",
        "outputId": "39e168be-8671-4536-c648-4574f460bcb3"
      },
      "execution_count": 22,
      "outputs": [
        {
          "output_type": "stream",
          "name": "stdout",
          "text": [
            "apple\n"
          ]
        }
      ]
    },
    {
      "cell_type": "markdown",
      "source": [
        "**13.Write a code to count how many times the number 2 appears in the tuple (1, 2, 3, 2, 4, 2).**"
      ],
      "metadata": {
        "id": "t7ZGBUWvQRCC"
      }
    },
    {
      "cell_type": "code",
      "source": [
        "tuple_1 = (1,2,3,2,4,2)\n",
        "tuple_1.count(2)"
      ],
      "metadata": {
        "colab": {
          "base_uri": "https://localhost:8080/"
        },
        "id": "nh9QtpqEQP53",
        "outputId": "85000f09-4695-4fce-89bc-49f3fd98374e"
      },
      "execution_count": 23,
      "outputs": [
        {
          "output_type": "execute_result",
          "data": {
            "text/plain": [
              "3"
            ]
          },
          "metadata": {},
          "execution_count": 23
        }
      ]
    },
    {
      "cell_type": "markdown",
      "source": [
        "**14. Write a code to find the index of the element \"cat\" in the tuple ('dog', 'cat', 'rabbit').**"
      ],
      "metadata": {
        "id": "_rMtLsPjQjNm"
      }
    },
    {
      "cell_type": "code",
      "source": [
        "tuple_1= ('dog', 'cat', 'rabbit')\n",
        "tuple_1.index(\"cat\")"
      ],
      "metadata": {
        "colab": {
          "base_uri": "https://localhost:8080/"
        },
        "id": "xWNvhhYGQY6j",
        "outputId": "01258126-2af5-4d36-8f83-8e62182679ab"
      },
      "execution_count": 24,
      "outputs": [
        {
          "output_type": "execute_result",
          "data": {
            "text/plain": [
              "1"
            ]
          },
          "metadata": {},
          "execution_count": 24
        }
      ]
    },
    {
      "cell_type": "markdown",
      "source": [
        "**15.Write a code to check if the element \"banana\" is in the tuple ('apple', 'orange', 'banana').**"
      ],
      "metadata": {
        "id": "9YX6vu4VQrJm"
      }
    },
    {
      "cell_type": "code",
      "source": [
        "tuple_1= ('apple', 'orange', 'banana')\n",
        "(\"banana\") in tuple_1"
      ],
      "metadata": {
        "colab": {
          "base_uri": "https://localhost:8080/"
        },
        "id": "eFzQIQf5QoPn",
        "outputId": "9710c1f9-3dd7-46c9-b885-804829ce388b"
      },
      "execution_count": 25,
      "outputs": [
        {
          "output_type": "execute_result",
          "data": {
            "text/plain": [
              "True"
            ]
          },
          "metadata": {},
          "execution_count": 25
        }
      ]
    },
    {
      "cell_type": "markdown",
      "source": [
        "**16.Write a code to create a set with the elements 1, 2, 3, 4, 5 and print it.**"
      ],
      "metadata": {
        "id": "v-GubajzQxPE"
      }
    },
    {
      "cell_type": "code",
      "source": [
        "set_1 = {1,2,3,4,5}\n",
        "print(set_1)"
      ],
      "metadata": {
        "colab": {
          "base_uri": "https://localhost:8080/"
        },
        "id": "R4IhMNsiQuaS",
        "outputId": "f33272a3-f327-4693-95c0-d28aeb6c46c2"
      },
      "execution_count": 26,
      "outputs": [
        {
          "output_type": "stream",
          "name": "stdout",
          "text": [
            "{1, 2, 3, 4, 5}\n"
          ]
        }
      ]
    },
    {
      "cell_type": "markdown",
      "source": [
        "**17.Write a code to add the element 6 to the set {1, 2, 3, 4}.**"
      ],
      "metadata": {
        "id": "uD9IRSTnQ6uo"
      }
    },
    {
      "cell_type": "code",
      "source": [
        "set_1 = {1,2,3,4}\n",
        "set_1.add(6)\n",
        "print (set_1)"
      ],
      "metadata": {
        "colab": {
          "base_uri": "https://localhost:8080/"
        },
        "id": "aPhJg6-JQ1Lk",
        "outputId": "e1260219-120e-4dae-9b60-7f8de48ff59c"
      },
      "execution_count": 27,
      "outputs": [
        {
          "output_type": "stream",
          "name": "stdout",
          "text": [
            "{1, 2, 3, 4, 6}\n"
          ]
        }
      ]
    },
    {
      "cell_type": "markdown",
      "source": [
        "**18. Write a code to create a tuple with the elements 10, 20, 30 and print it.**"
      ],
      "metadata": {
        "id": "lXxS2WbtQ_Hm"
      }
    },
    {
      "cell_type": "code",
      "source": [
        "tuple_1 = (10,20,30)\n",
        "print(tuple_1)"
      ],
      "metadata": {
        "colab": {
          "base_uri": "https://localhost:8080/"
        },
        "id": "RHPO5hzyQ99p",
        "outputId": "87c19532-a0bc-4453-90df-9afff15de756"
      },
      "execution_count": 28,
      "outputs": [
        {
          "output_type": "stream",
          "name": "stdout",
          "text": [
            "(10, 20, 30)\n"
          ]
        }
      ]
    },
    {
      "cell_type": "markdown",
      "source": [
        "**19. Write a code to access the first element of the tuple ('apple', 'banana', 'cherry').**"
      ],
      "metadata": {
        "id": "O_PdNUPsRRKu"
      }
    },
    {
      "cell_type": "code",
      "source": [
        "tuple_1 = (\"apple\", \"banana\", \"cherry\")\n",
        "print(tuple_1[0])"
      ],
      "metadata": {
        "colab": {
          "base_uri": "https://localhost:8080/"
        },
        "id": "xDobYCAJRJvh",
        "outputId": "17dfbeef-2e81-4414-865d-1aefe1c185f6"
      },
      "execution_count": 29,
      "outputs": [
        {
          "output_type": "stream",
          "name": "stdout",
          "text": [
            "apple\n"
          ]
        }
      ]
    },
    {
      "cell_type": "markdown",
      "source": [
        "**20. Write a code to count how many times the number 2 appears in the tuple (1, 2, 3, 2, 4, 2).**"
      ],
      "metadata": {
        "id": "oW--2C-gRbPx"
      }
    },
    {
      "cell_type": "code",
      "source": [
        "tuple_1 = (1,2,3,2,4,2)\n",
        "tuple_1.count(2)"
      ],
      "metadata": {
        "colab": {
          "base_uri": "https://localhost:8080/"
        },
        "id": "-kfGvOCLRUzR",
        "outputId": "0db4eb61-a66c-4787-fcfd-a84db55b9a88"
      },
      "execution_count": 30,
      "outputs": [
        {
          "output_type": "execute_result",
          "data": {
            "text/plain": [
              "3"
            ]
          },
          "metadata": {},
          "execution_count": 30
        }
      ]
    },
    {
      "cell_type": "markdown",
      "source": [
        "**21. Write a code to find the index of the element \"cat\" in the tuple ('dog', 'cat', 'rabbit').**"
      ],
      "metadata": {
        "id": "IRfoZTSiRjbX"
      }
    },
    {
      "cell_type": "code",
      "source": [
        "tuple_1= ('dog', 'cat', 'rabbit')\n",
        "tuple_1.index(\"cat\")"
      ],
      "metadata": {
        "colab": {
          "base_uri": "https://localhost:8080/"
        },
        "id": "ymhYyg8URew_",
        "outputId": "67f4f546-3db9-46c2-90b8-981de4fbb695"
      },
      "execution_count": 31,
      "outputs": [
        {
          "output_type": "execute_result",
          "data": {
            "text/plain": [
              "1"
            ]
          },
          "metadata": {},
          "execution_count": 31
        }
      ]
    },
    {
      "cell_type": "markdown",
      "source": [
        "**22.Write a code to check if the element \"banana\" is in the tuple ('apple', 'orange', 'banana').**"
      ],
      "metadata": {
        "id": "S9t6hLBiRpC2"
      }
    },
    {
      "cell_type": "code",
      "source": [
        "tuple_1= ('apple', 'orange', 'banana')\n",
        "(\"banana\") in tuple_1"
      ],
      "metadata": {
        "colab": {
          "base_uri": "https://localhost:8080/"
        },
        "id": "BfcIRr6ARnBL",
        "outputId": "a24a9ba8-9d50-4db3-bdcb-b7602fde1cee"
      },
      "execution_count": 32,
      "outputs": [
        {
          "output_type": "execute_result",
          "data": {
            "text/plain": [
              "True"
            ]
          },
          "metadata": {},
          "execution_count": 32
        }
      ]
    },
    {
      "cell_type": "markdown",
      "source": [
        "**23.Write a code to create a set with the elements 1, 2, 3, 4, 5 and print it.**"
      ],
      "metadata": {
        "id": "ioEYq3n7R1y9"
      }
    },
    {
      "cell_type": "code",
      "source": [
        "set_1 = {1,2,3,4,5}\n",
        "print(set_1)"
      ],
      "metadata": {
        "colab": {
          "base_uri": "https://localhost:8080/"
        },
        "id": "vCSF9gfjRunk",
        "outputId": "1633934f-7aa9-4449-9933-95369ddf26c5"
      },
      "execution_count": 33,
      "outputs": [
        {
          "output_type": "stream",
          "name": "stdout",
          "text": [
            "{1, 2, 3, 4, 5}\n"
          ]
        }
      ]
    },
    {
      "cell_type": "markdown",
      "source": [
        "**24.Write a code to add the element 6 to the set {1, 2, 3, 4}.**"
      ],
      "metadata": {
        "id": "XpSnzJPOR878"
      }
    },
    {
      "cell_type": "code",
      "source": [
        "set_1 = {1,2,3,4}\n",
        "set_1.add(6)\n",
        "print (set_1)"
      ],
      "metadata": {
        "colab": {
          "base_uri": "https://localhost:8080/"
        },
        "id": "CTZ0aU8tR5e-",
        "outputId": "df3c1dff-7de7-4038-811e-f5235136506b"
      },
      "execution_count": 34,
      "outputs": [
        {
          "output_type": "stream",
          "name": "stdout",
          "text": [
            "{1, 2, 3, 4, 6}\n"
          ]
        }
      ]
    }
  ]
}