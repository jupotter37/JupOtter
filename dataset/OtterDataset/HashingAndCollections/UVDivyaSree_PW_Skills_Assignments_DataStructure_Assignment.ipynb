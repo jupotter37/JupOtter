{
  "nbformat": 4,
  "nbformat_minor": 0,
  "metadata": {
    "colab": {
      "provenance": []
    },
    "kernelspec": {
      "name": "python3",
      "display_name": "Python 3"
    },
    "language_info": {
      "name": "python"
    }
  },
  "cells": [
    {
      "cell_type": "markdown",
      "source": [
        "#1.Discuss string slicing and provide examples.\n",
        "\n",
        "String slicing in Python allows you to extract a specific portion or \"slice\" of a string. This is done using a slice notation, which consists of the syntax: string[start:stop:step]. Here's what each parameter represents:\n",
        "\n",
        "start: The starting index of the slice (inclusive).\n",
        "\n",
        "stop: The ending index of the slice (exclusive).\n",
        "\n",
        "step: The step size or interval between each index in the slice.\n",
        "\n",
        "Here are some examples of string slicing in Python:\n",
        "\n",
        "**1.Extracting a substring:**\n",
        "\n",
        "In this example, the string \"Hello, World!\" is being sliced to extract the substring starting from index 2 (inclusive) and ending at index 6 (exclusive). The extracted substring is \"llo,\"."
      ],
      "metadata": {
        "id": "g0srearX9AKh"
      }
    },
    {
      "cell_type": "code",
      "source": [
        "s = \"Hello, World!\"\n",
        "substring = s[2:6]\n",
        "print(substring)"
      ],
      "metadata": {
        "colab": {
          "base_uri": "https://localhost:8080/"
        },
        "id": "ncnmjB7gBNjn",
        "outputId": "500af262-3793-42b9-dd51-a9037f79ad96"
      },
      "execution_count": 1,
      "outputs": [
        {
          "output_type": "stream",
          "name": "stdout",
          "text": [
            "llo,\n"
          ]
        }
      ]
    },
    {
      "cell_type": "markdown",
      "source": [
        "**2.Reversing a string:**\n",
        "\n",
        "This example showcases the use of negative indexing to reverse the string \"Python\". The slicing s[::-1] reverses the string, resulting in \"nohtyP\"."
      ],
      "metadata": {
        "id": "6tMyJD1IBaMO"
      }
    },
    {
      "cell_type": "code",
      "source": [
        "s = \"Python\"\n",
        "reversed_string = s[::-1]\n",
        "print(reversed_string)  # Output: \"nohtyP\"\n"
      ],
      "metadata": {
        "colab": {
          "base_uri": "https://localhost:8080/"
        },
        "id": "HiijX0o9ByOd",
        "outputId": "70152974-66c2-4983-b1e4-807b928724e7"
      },
      "execution_count": 2,
      "outputs": [
        {
          "output_type": "stream",
          "name": "stdout",
          "text": [
            "nohtyP\n"
          ]
        }
      ]
    },
    {
      "cell_type": "markdown",
      "source": [
        "**3.Skipping characters using step:**\n",
        "\n",
        "Here, the slicing s[1::2] is used to skip every second character, starting from index 1 in the string \"Python Programming\". The resulting substring is \"yhnpormig\"."
      ],
      "metadata": {
        "id": "OEE6JfoxB4kD"
      }
    },
    {
      "cell_type": "code",
      "source": [
        "s = \"Python Programming\"\n",
        "skipped_chars = s[1::2]\n",
        "print(skipped_chars)\n"
      ],
      "metadata": {
        "colab": {
          "base_uri": "https://localhost:8080/"
        },
        "id": "5zYpYbxvCA2J",
        "outputId": "dd09652c-5d30-428a-d6fc-8aa9eb7d0199"
      },
      "execution_count": 3,
      "outputs": [
        {
          "output_type": "stream",
          "name": "stdout",
          "text": [
            "yhnPormig\n"
          ]
        }
      ]
    },
    {
      "cell_type": "markdown",
      "source": [
        "**4.Slicing from the end using negative indices:**\n",
        "\n",
        "This example utilizes negative indexing to slice the string \"Data Science\" from index -6 to the end. It results in the substring \"Science\"."
      ],
      "metadata": {
        "id": "o2WXn8ONCMjR"
      }
    },
    {
      "cell_type": "code",
      "source": [
        "s = \"Data Science\"\n",
        "end_slice = s[-7:]\n",
        "print(end_slice)  # Output: \"Science\"\n"
      ],
      "metadata": {
        "colab": {
          "base_uri": "https://localhost:8080/"
        },
        "id": "pWl47ZFiCR79",
        "outputId": "b5bcac2f-98a7-4954-b6f6-5851345ea883"
      },
      "execution_count": 5,
      "outputs": [
        {
          "output_type": "stream",
          "name": "stdout",
          "text": [
            "Science\n"
          ]
        }
      ]
    },
    {
      "cell_type": "markdown",
      "source": [
        "**5.Extracting every second character:**\n",
        "\n",
        "By using the step of 2 in the slicing s[::2], we extract every second character from the string \"Machine Learning\", resulting in \"McieLann\"."
      ],
      "metadata": {
        "id": "3Z36PfkfCdlh"
      }
    },
    {
      "cell_type": "code",
      "source": [
        "s = \"Machine Learning\"\n",
        "every_second = s[::2]\n",
        "print(every_second)  # Output: \"McieLann\"\n"
      ],
      "metadata": {
        "colab": {
          "base_uri": "https://localhost:8080/"
        },
        "id": "DY4Q0ZugCkQo",
        "outputId": "9509b90a-aa3f-4847-afde-aafa02e6c22b"
      },
      "execution_count": 6,
      "outputs": [
        {
          "output_type": "stream",
          "name": "stdout",
          "text": [
            "McieLann\n"
          ]
        }
      ]
    },
    {
      "cell_type": "markdown",
      "source": [
        "These examples showcase different ways to use string slicing to extract specific portions of a string in Python. String slicing is a powerful tool that allows for various manipulations and extractions of string data."
      ],
      "metadata": {
        "id": "RxCEeKZZC0wA"
      }
    },
    {
      "cell_type": "markdown",
      "source": [
        "#2.Explain the key features of lists in python.\n",
        "\n",
        "**1.Mutable:** Lists allow you to modify elements in place. This means you can change, add, or remove elements without creating a new list. For example:"
      ],
      "metadata": {
        "id": "Lvz4MTplC2dg"
      }
    },
    {
      "cell_type": "code",
      "source": [
        "my_list = [1, 2, 3]\n",
        "my_list[1] = 5  # Modifying an element\n",
        "my_list.append(4)  # Adding an element\n",
        "del my_list[0]  # Removing an element\n",
        "my_list\n"
      ],
      "metadata": {
        "colab": {
          "base_uri": "https://localhost:8080/"
        },
        "id": "Em4wxY6mDnOZ",
        "outputId": "6be61e1a-7fb5-4600-eadc-5c365e516a35"
      },
      "execution_count": 8,
      "outputs": [
        {
          "output_type": "execute_result",
          "data": {
            "text/plain": [
              "[5, 3, 4]"
            ]
          },
          "metadata": {},
          "execution_count": 8
        }
      ]
    },
    {
      "cell_type": "markdown",
      "source": [
        "**2.Ordered**: Lists maintain the order in which elements are added. The order of elements is significant, and you can rely on it to access elements based on their position:"
      ],
      "metadata": {
        "id": "xuObgfX-Dyep"
      }
    },
    {
      "cell_type": "code",
      "source": [
        "my_list = ['apple', 'banana', 'cherry']\n",
        "print(my_list[1])  # Output: 'banana'\n"
      ],
      "metadata": {
        "colab": {
          "base_uri": "https://localhost:8080/"
        },
        "id": "TUnaL5gWEBtX",
        "outputId": "5359e445-2a94-452b-e510-47fc2a5a4dc6"
      },
      "execution_count": 9,
      "outputs": [
        {
          "output_type": "stream",
          "name": "stdout",
          "text": [
            "banana\n"
          ]
        }
      ]
    },
    {
      "cell_type": "markdown",
      "source": [
        "**3.Heterogeneous Elements:** A list can contain elements of different data types, making them flexible for storing diverse types of data:"
      ],
      "metadata": {
        "id": "UlR_Vd9REHjL"
      }
    },
    {
      "cell_type": "code",
      "source": [
        "mixed_list = [1, 'hello', 3.14, True, [5, 6, 7]]\n"
      ],
      "metadata": {
        "id": "sPbtG2BNEORV"
      },
      "execution_count": 10,
      "outputs": []
    },
    {
      "cell_type": "markdown",
      "source": [
        "**4.Dynamic Sizing:** Lists can grow or shrink dynamically as needed. You can add elements using append(), insert(), or extend() methods, or remove elements using pop(), remove(), or del statements."
      ],
      "metadata": {
        "id": "NHz3FKyxEVxV"
      }
    },
    {
      "cell_type": "markdown",
      "source": [
        "**5.Iterable:** Lists are iterable, meaning you can loop through the elements using constructs like for loops or list comprehensions:"
      ],
      "metadata": {
        "id": "IXNh_-NkEbwQ"
      }
    },
    {
      "cell_type": "code",
      "source": [
        "for item in mixed_list:\n",
        "    print(item)\n"
      ],
      "metadata": {
        "colab": {
          "base_uri": "https://localhost:8080/"
        },
        "id": "LJb3akTrEimv",
        "outputId": "6328c04f-a6cd-462d-b464-ceb6d20b0772"
      },
      "execution_count": 12,
      "outputs": [
        {
          "output_type": "stream",
          "name": "stdout",
          "text": [
            "1\n",
            "hello\n",
            "3.14\n",
            "True\n",
            "[5, 6, 7]\n"
          ]
        }
      ]
    },
    {
      "cell_type": "markdown",
      "source": [
        "**6.Indexing and Slicing:** Lists support indexing to access individual elements and slicing to extract sublists:\n",
        "\n"
      ],
      "metadata": {
        "id": "TgMt8gdmEptu"
      }
    },
    {
      "cell_type": "code",
      "source": [
        "my_list = [10, 20, 30, 40, 50]\n",
        "print(my_list[2])  # Accessing element by index\n",
        "print(my_list[1:4])  # Slicing sublist\n"
      ],
      "metadata": {
        "colab": {
          "base_uri": "https://localhost:8080/"
        },
        "id": "WMccEwumEu8I",
        "outputId": "1f2cf066-49e2-49fe-9c67-2ed39381211d"
      },
      "execution_count": 16,
      "outputs": [
        {
          "output_type": "stream",
          "name": "stdout",
          "text": [
            "30\n",
            "[20, 30, 40]\n"
          ]
        }
      ]
    },
    {
      "cell_type": "markdown",
      "source": [
        "**7.Common Operations:** Lists support common operations like concatenation, repetition, and sorting:"
      ],
      "metadata": {
        "id": "xRU9uT5DFEeY"
      }
    },
    {
      "cell_type": "code",
      "source": [
        "list1 = [1, 2, 3]\n",
        "list2 = [4, 5, 6]\n",
        "new_list = list1 + list2  # Concatenation\n",
        "sorted_list = sorted(new_list)  # Sorting\n",
        "print (sorted_list)"
      ],
      "metadata": {
        "colab": {
          "base_uri": "https://localhost:8080/"
        },
        "id": "IqB9f93MFLki",
        "outputId": "e4f0e4aa-92c2-4be0-d1cf-8f402cd91831"
      },
      "execution_count": 19,
      "outputs": [
        {
          "output_type": "stream",
          "name": "stdout",
          "text": [
            "[1, 2, 3, 4, 5, 6]\n"
          ]
        }
      ]
    },
    {
      "cell_type": "markdown",
      "source": [
        "**8.Flexible Methods:** Lists provide a rich set of methods such as append(), extend(), insert(), remove(), pop(), sort(), reverse(), and more for easy manipulation and management of elements."
      ],
      "metadata": {
        "id": "5REIoaJOFscc"
      }
    },
    {
      "cell_type": "code",
      "source": [
        "# Create a list\n",
        "my_list = [10, 20, 30]\n",
        "\n",
        "# Append an element to the list\n",
        "my_list.append(40)\n",
        "print(my_list)  # Output: [10, 20, 30, 40]\n",
        "\n",
        "# Extend the list with elements from another list\n",
        "additional_elements = [50, 60]\n",
        "my_list.extend(additional_elements)\n",
        "print(my_list)  # Output: [10, 20, 30, 40, 50, 60]\n",
        "\n",
        "# Insert a new element at a specific index\n",
        "my_list.insert(1, 15)\n",
        "print(my_list)  # Output: [10, 15, 20, 30, 40, 50, 60]\n",
        "\n",
        "# Remove an element from the list\n",
        "my_list.remove(30)\n",
        "print(my_list)  # Output: [10, 15, 20, 40, 50, 60]\n",
        "\n",
        "# Pop an element from a specific index\n",
        "popped_element = my_list.pop(3)\n",
        "print(f\"Popped element: {popped_element}\")  # Output: Popped element: 40\n",
        "print(my_list)  # Output: [10, 15, 20, 50, 60]\n",
        "\n",
        "# Sort the list\n",
        "my_list.sort()\n",
        "print(my_list)  # Output: [10, 15, 20, 50, 60]\n",
        "\n",
        "# Reverse the list\n",
        "my_list.reverse()\n",
        "print(my_list)  # Output: [60, 50, 20, 15, 10]\n"
      ],
      "metadata": {
        "colab": {
          "base_uri": "https://localhost:8080/"
        },
        "id": "d_w5esKjFxny",
        "outputId": "10be00a4-2a2e-4ad1-a542-9403364416c1"
      },
      "execution_count": 20,
      "outputs": [
        {
          "output_type": "stream",
          "name": "stdout",
          "text": [
            "[10, 20, 30, 40]\n",
            "[10, 20, 30, 40, 50, 60]\n",
            "[10, 15, 20, 30, 40, 50, 60]\n",
            "[10, 15, 20, 40, 50, 60]\n",
            "Popped element: 40\n",
            "[10, 15, 20, 50, 60]\n",
            "[10, 15, 20, 50, 60]\n",
            "[60, 50, 20, 15, 10]\n"
          ]
        }
      ]
    },
    {
      "cell_type": "markdown",
      "source": [
        "**9.Nesting Capability**:\n",
        "Lists can be nested within other lists, allowing you to create complex data structures like matrices or trees.\n",
        "\n"
      ],
      "metadata": {
        "id": "nToQKx6GGHiX"
      }
    },
    {
      "cell_type": "code",
      "source": [
        "matrix = [[1, 2, 3], [4, 5, 6], [7, 8, 9]]\n",
        "print(matrix[1][2])  # Output: 6"
      ],
      "metadata": {
        "colab": {
          "base_uri": "https://localhost:8080/"
        },
        "id": "lnbl1qwgGmjK",
        "outputId": "5252db62-8ee3-412a-ddda-5d3917038672"
      },
      "execution_count": 21,
      "outputs": [
        {
          "output_type": "stream",
          "name": "stdout",
          "text": [
            "6\n"
          ]
        }
      ]
    },
    {
      "cell_type": "markdown",
      "source": [
        "**Conclusion:**Overall, the combination of these features makes lists a powerful and widely used data structure in Python, essential for handling collections of elements in a flexible and efficient manner. Understanding the capabilities and characteristics of lists is valuable for any Python programmer looking to work with collections of data effectively."
      ],
      "metadata": {
        "id": "XgaK1Ne1Gv58"
      }
    },
    {
      "cell_type": "markdown",
      "source": [
        "#3..Describe how to access,modify and delete elements in a list with examples.\n",
        "\n",
        "**1.Accessing Elements in a List**\n",
        "You can access elements in a list using their index. The index in Python starts from 0 for the first element and goes up to n-1 for the last element, where n is the number of elements in the list.\n",
        "\n",
        "1.Access a Single Element:\n"
      ],
      "metadata": {
        "id": "8Dt2vxDnHBg3"
      }
    },
    {
      "cell_type": "code",
      "source": [
        "fruits = [\"apple\", \"banana\", \"cherry\", \"date\"]\n",
        "print(fruits[1])  # Output: \"banana\""
      ],
      "metadata": {
        "colab": {
          "base_uri": "https://localhost:8080/"
        },
        "id": "qxe9UXtGH3uL",
        "outputId": "e2fd4ef3-dc66-4401-9fdd-93e3b434fd3e"
      },
      "execution_count": 22,
      "outputs": [
        {
          "output_type": "stream",
          "name": "stdout",
          "text": [
            "banana\n"
          ]
        }
      ]
    },
    {
      "cell_type": "markdown",
      "source": [
        "2.Access Multiple Elements (Slicing):\n",
        "\n",
        "You can use slicing to access a range of elements."
      ],
      "metadata": {
        "id": "SaRInqqpH8Mv"
      }
    },
    {
      "cell_type": "code",
      "source": [
        "print(fruits[1:3])  # Output: [\"banana\", \"cherry\"]\n",
        "print(fruits[:2])   # Output: [\"apple\", \"banana\"]\n",
        "print(fruits[2:])   # Output: [\"cherry\", \"date\"]"
      ],
      "metadata": {
        "colab": {
          "base_uri": "https://localhost:8080/"
        },
        "id": "b-c1T7AQIAzg",
        "outputId": "235d2860-b6d1-4376-b06b-f17e1aef0d79"
      },
      "execution_count": 23,
      "outputs": [
        {
          "output_type": "stream",
          "name": "stdout",
          "text": [
            "['banana', 'cherry']\n",
            "['apple', 'banana']\n",
            "['cherry', 'date']\n"
          ]
        }
      ]
    },
    {
      "cell_type": "markdown",
      "source": [
        "3.Access Elements Using Negative Indexing:\n",
        "\n",
        "Negative indexing allows you to access elements from the end of the list. when the exact position from the end is relevant or when the length of the list is not known in advance.\n"
      ],
      "metadata": {
        "id": "WiXtt7-3IGdB"
      }
    },
    {
      "cell_type": "code",
      "source": [
        "print(fruits[-1])   # Output: \"date\"\n",
        "print(fruits[-2])   # Output: \"cherry\""
      ],
      "metadata": {
        "colab": {
          "base_uri": "https://localhost:8080/"
        },
        "id": "wU0JTnowIiy4",
        "outputId": "e8694ab8-d0d0-4c80-eec5-572aba90e7bd"
      },
      "execution_count": 24,
      "outputs": [
        {
          "output_type": "stream",
          "name": "stdout",
          "text": [
            "date\n",
            "cherry\n"
          ]
        }
      ]
    },
    {
      "cell_type": "markdown",
      "source": [
        "**2.Modifying Elements in a List**\n",
        "You can modify elements in a list by assigning a new value to a specific index.\n",
        "\n",
        "1.Modify a Single Element:"
      ],
      "metadata": {
        "id": "cXDM7g4ZIp-Z"
      }
    },
    {
      "cell_type": "code",
      "source": [
        "fruits[1] = \"orange\"   # Changes \"banana\" to \"orange\"\n",
        "print(fruits)          # Output: [\"apple\", \"orange\", \"cherry\", \"date\"]"
      ],
      "metadata": {
        "colab": {
          "base_uri": "https://localhost:8080/"
        },
        "id": "sb2R56o9Iw0c",
        "outputId": "d53f5204-fe68-42c1-9767-674e0752baf3"
      },
      "execution_count": 51,
      "outputs": [
        {
          "output_type": "stream",
          "name": "stdout",
          "text": [
            "['pineapple', 'orange', 'grape', 'kiwi']\n"
          ]
        }
      ]
    },
    {
      "cell_type": "markdown",
      "source": [
        "2.Multiple Elements:\n",
        "\n",
        "You can modify a range of elements using slicing."
      ],
      "metadata": {
        "id": "CagTNqkuI25O"
      }
    },
    {
      "cell_type": "code",
      "source": [
        "fruits[1:3] = [\"mango\", \"grape\"]  # Replaces \"orange\" and \"cherry\"\n",
        "print(fruits)"
      ],
      "metadata": {
        "colab": {
          "base_uri": "https://localhost:8080/"
        },
        "id": "PXVjyXSQJHlK",
        "outputId": "03750b9a-a17f-4091-fd1d-3eef1fb384d5"
      },
      "execution_count": 52,
      "outputs": [
        {
          "output_type": "stream",
          "name": "stdout",
          "text": [
            "['pineapple', 'mango', 'grape', 'kiwi']\n"
          ]
        }
      ]
    },
    {
      "cell_type": "markdown",
      "source": [
        "3.Appending Elements:\n",
        "\n",
        "Use append() to add an element at the end of the list."
      ],
      "metadata": {
        "id": "5S-FN5Z5JMj9"
      }
    },
    {
      "cell_type": "code",
      "source": [
        "fruits.append(\"kiwi\")\n",
        "print(fruits)"
      ],
      "metadata": {
        "colab": {
          "base_uri": "https://localhost:8080/"
        },
        "id": "gp8bcN3JJP-p",
        "outputId": "0cd7b993-d174-41c9-b5db-7df99f740080"
      },
      "execution_count": 53,
      "outputs": [
        {
          "output_type": "stream",
          "name": "stdout",
          "text": [
            "['pineapple', 'mango', 'grape', 'kiwi', 'kiwi']\n"
          ]
        }
      ]
    },
    {
      "cell_type": "markdown",
      "source": [
        "4.Inserting Elements:\n",
        "\n",
        "Use insert(index, element) to add an element at a specific position."
      ],
      "metadata": {
        "id": "QD4iCAh3JWgE"
      }
    },
    {
      "cell_type": "code",
      "source": [
        "fruits.insert(2, \"pineapple\")\n",
        "print(fruits)"
      ],
      "metadata": {
        "colab": {
          "base_uri": "https://localhost:8080/"
        },
        "id": "ITGk0QUfJacf",
        "outputId": "3ce6a08a-a1a4-40a4-f1cf-58d37258c2e2"
      },
      "execution_count": 54,
      "outputs": [
        {
          "output_type": "stream",
          "name": "stdout",
          "text": [
            "['pineapple', 'mango', 'pineapple', 'grape', 'kiwi', 'kiwi']\n"
          ]
        }
      ]
    },
    {
      "cell_type": "markdown",
      "source": [
        "**3.Deleting Elements in a List :**\n",
        "There are several methods to delete elements from a list:\n",
        "\n",
        "1.Using del Statement:\n",
        "\n",
        "a.Delete a Single Element:\n",
        "b.Delete Multiple Elements:"
      ],
      "metadata": {
        "id": "QBeJJzkJJlQi"
      }
    },
    {
      "cell_type": "code",
      "source": [
        "del fruits[2]\n",
        "print(fruits)"
      ],
      "metadata": {
        "colab": {
          "base_uri": "https://localhost:8080/"
        },
        "id": "w_mOusYiJzmN",
        "outputId": "543c0418-bba8-4f73-e569-cd695458a180"
      },
      "execution_count": 55,
      "outputs": [
        {
          "output_type": "stream",
          "name": "stdout",
          "text": [
            "['pineapple', 'mango', 'grape', 'kiwi', 'kiwi']\n"
          ]
        }
      ]
    },
    {
      "cell_type": "code",
      "source": [
        "del fruits[1:3]  # Deletes \"mango\" and \"grape\"\n",
        "print(fruits)"
      ],
      "metadata": {
        "colab": {
          "base_uri": "https://localhost:8080/"
        },
        "id": "-sUJoOHxMuhA",
        "outputId": "fb8544bb-640f-422c-84ba-9baad361c5da"
      },
      "execution_count": 56,
      "outputs": [
        {
          "output_type": "stream",
          "name": "stdout",
          "text": [
            "['pineapple', 'kiwi', 'kiwi']\n"
          ]
        }
      ]
    },
    {
      "cell_type": "markdown",
      "source": [
        "2.Using remove() Method:\n",
        "\n",
        "Removes the first occurrence of the specified value."
      ],
      "metadata": {
        "id": "RO7omGnRJ1y_"
      }
    },
    {
      "cell_type": "code",
      "source": [
        "fruits.remove(\"kiwi\")\n",
        "print(fruits)"
      ],
      "metadata": {
        "colab": {
          "base_uri": "https://localhost:8080/"
        },
        "id": "ouILhna_KNY3",
        "outputId": "3e583455-91d8-410e-b24d-01c5a0c28ded"
      },
      "execution_count": 57,
      "outputs": [
        {
          "output_type": "stream",
          "name": "stdout",
          "text": [
            "['pineapple', 'kiwi']\n"
          ]
        }
      ]
    },
    {
      "cell_type": "markdown",
      "source": [
        "3.Using pop() Method:\n",
        "\n",
        "Removes and returns an element from a specific index (defaults to the last element if no index is provided)."
      ],
      "metadata": {
        "id": "axZRck4NM73K"
      }
    },
    {
      "cell_type": "code",
      "source": [
        "fruits.pop()    # Removes the last element (\"kiwi\")\n",
        "print(fruits)\n",
        "\n",
        "fruits = [\"apple\", \"banana\", \"cherry\"]\n",
        "fruits.pop(1)   # Removes the element at index 1 (\"banana\")\n",
        "print(fruits)   # Output: [\"apple\", \"cherry\"]"
      ],
      "metadata": {
        "colab": {
          "base_uri": "https://localhost:8080/"
        },
        "id": "LL-LB9jxNEeQ",
        "outputId": "2a5b791c-6601-47f2-e07f-0858f6095bd7"
      },
      "execution_count": 58,
      "outputs": [
        {
          "output_type": "stream",
          "name": "stdout",
          "text": [
            "['pineapple']\n",
            "['apple', 'cherry']\n"
          ]
        }
      ]
    },
    {
      "cell_type": "markdown",
      "source": [
        "4.Using clear() Method:\n",
        "\n",
        "Removes all elements from the list."
      ],
      "metadata": {
        "id": "6HKWF6OoNPEZ"
      }
    },
    {
      "cell_type": "code",
      "source": [
        "fruits.clear()\n",
        "print(fruits)  # Output: []"
      ],
      "metadata": {
        "colab": {
          "base_uri": "https://localhost:8080/"
        },
        "id": "9VwHhMbZNUst",
        "outputId": "ddf2fa22-6bfc-4e09-830f-995723d9c8db"
      },
      "execution_count": 59,
      "outputs": [
        {
          "output_type": "stream",
          "name": "stdout",
          "text": [
            "[]\n"
          ]
        }
      ]
    },
    {
      "cell_type": "markdown",
      "source": [
        "**Conclusion**\n",
        "\n",
        "1.Access elements using indexing or slicing.\n",
        "\n",
        "2.Modify elements by assigning new values or using append() and insert().\n",
        "\n",
        "3.Delete elements using del, remove(), pop(), or clear()."
      ],
      "metadata": {
        "id": "8zJOsC97Napo"
      }
    },
    {
      "cell_type": "markdown",
      "source": [
        "#4.Compare and contrast tuples and lists with examples.\n",
        "\n",
        "Tuples and lists are both data structures in Python that can hold collections of items, but they have key differences in behavior, usage, and performance. Here’s a comparison:\n",
        "\n",
        "**1. Mutability**\n",
        "\n",
        "Lists: Mutable, meaning their elements can be changed, added, or removed after creation."
      ],
      "metadata": {
        "id": "NOpKUTZcNeJw"
      }
    },
    {
      "cell_type": "code",
      "source": [
        "my_list = [1, 2, 3]\n",
        "my_list[0] = 10  # Modifying an element\n",
        "my_list.append(4)  # Adding an element\n",
        "print(my_list)  # Output: [10, 2, 3, 4]\n"
      ],
      "metadata": {
        "colab": {
          "base_uri": "https://localhost:8080/"
        },
        "id": "1pm8dYFjOi1z",
        "outputId": "27d96e40-7cae-4621-cb56-74979eef2d20"
      },
      "execution_count": 60,
      "outputs": [
        {
          "output_type": "stream",
          "name": "stdout",
          "text": [
            "[10, 2, 3, 4]\n"
          ]
        }
      ]
    },
    {
      "cell_type": "markdown",
      "source": [
        "Tuples: Immutable, meaning once created, their elements cannot be changed."
      ],
      "metadata": {
        "id": "4UC1eGi_Omqu"
      }
    },
    {
      "cell_type": "code",
      "source": [
        "my_tuple = (1, 2, 3)\n",
        "#my_tuple[0] = 10  # Would raise TypeError\n",
        "print(my_tuple)  # Output: (1, 2, 3)\n"
      ],
      "metadata": {
        "colab": {
          "base_uri": "https://localhost:8080/"
        },
        "id": "Y0yVyqqPOrXO",
        "outputId": "934d7bb9-ac48-425f-dc3a-f240a783f975"
      },
      "execution_count": 66,
      "outputs": [
        {
          "output_type": "stream",
          "name": "stdout",
          "text": [
            "(1, 2, 3)\n"
          ]
        }
      ]
    },
    {
      "cell_type": "markdown",
      "source": [
        "**2. Syntax**\n",
        "\n",
        "Lists: Defined using square brackets [].\n",
        "\n",
        "my_list = [1, 2, 3]\n",
        "\n",
        "Tuples: Defined using parentheses () or just commas, especially when there's no ambiguity.\n",
        "\n",
        "my_tuple = (1, 2, 3)\n",
        "\n",
        "single_element_tuple = (1,)  # Note the comma for single element"
      ],
      "metadata": {
        "id": "VPYHqv-OO0Y7"
      }
    },
    {
      "cell_type": "markdown",
      "source": [
        "**3. Performance**\n",
        "\n",
        "Lists: Generally have more overhead due to their mutable nature, resulting in slightly slower performance in certain operations.\n",
        "\n",
        "Tuples: More memory-efficient and faster when iterating over elements since their size is fixed."
      ],
      "metadata": {
        "id": "H1psRYYuPbYn"
      }
    },
    {
      "cell_type": "markdown",
      "source": [
        "**4. Methods**\n",
        "\n",
        "Lists: Offer a variety of methods for manipulation such as .append(), .remove(), .extend(), and .sort()."
      ],
      "metadata": {
        "id": "Zl4pvoH5Pej4"
      }
    },
    {
      "cell_type": "code",
      "source": [
        "my_list = [3, 1, 2]\n",
        "my_list.sort()  # In-place sorting\n",
        "print(my_list)  # Output: [1, 2, 3]\n"
      ],
      "metadata": {
        "colab": {
          "base_uri": "https://localhost:8080/"
        },
        "id": "YyXPclmRPkGI",
        "outputId": "edc87e58-dcf5-4032-80a5-587d3f25c825"
      },
      "execution_count": 63,
      "outputs": [
        {
          "output_type": "stream",
          "name": "stdout",
          "text": [
            "[1, 2, 3]\n"
          ]
        }
      ]
    },
    {
      "cell_type": "markdown",
      "source": [
        "Tuples: Have limited methods—primarily .count() and .index()."
      ],
      "metadata": {
        "id": "kpDgcjxCPpZQ"
      }
    },
    {
      "cell_type": "code",
      "source": [
        "my_tuple = (1, 2, 3, 1)\n",
        "print(my_tuple.count(1))  # Output: 2\n"
      ],
      "metadata": {
        "colab": {
          "base_uri": "https://localhost:8080/"
        },
        "id": "v10ZE8wzPt0N",
        "outputId": "eed9c74a-3300-4f61-8740-01e230942abe"
      },
      "execution_count": 64,
      "outputs": [
        {
          "output_type": "stream",
          "name": "stdout",
          "text": [
            "2\n"
          ]
        }
      ]
    },
    {
      "cell_type": "markdown",
      "source": [
        "**5. Use Cases**\n",
        "\n",
        "Lists: Suitable for collections of items where you expect to add, remove, or change items frequently, such as:\n",
        "\n",
        "1.Managing a to-do list.\n",
        "\n",
        "2.Storing user input data.\n",
        "\n",
        "Tuples: Ideal for fixed collections where the data shouldn't change, such as:\n",
        "\n",
        "1.Storing database records.\n",
        "\n",
        "2.Returning multiple values from a function."
      ],
      "metadata": {
        "id": "ax7QNT4zPy0T"
      }
    },
    {
      "cell_type": "code",
      "source": [
        "def get_coordinates():\n",
        "    return (10.0, 30.0)\n",
        "\n",
        "coords = get_coordinates()\n",
        "print(coords)  # Output: (10.0, 30.0)\n"
      ],
      "metadata": {
        "colab": {
          "base_uri": "https://localhost:8080/"
        },
        "id": "HfSMsaGyQPAO",
        "outputId": "1cadc643-8df3-4726-9596-2e92e4a33e48"
      },
      "execution_count": 65,
      "outputs": [
        {
          "output_type": "stream",
          "name": "stdout",
          "text": [
            "(10.0, 30.0)\n"
          ]
        }
      ]
    },
    {
      "cell_type": "markdown",
      "source": [
        "**6. Dictionary Keys**\n",
        "\n",
        "Lists: Cannot be used as dictionary keys because they are mutable.\n",
        "\n",
        "my_dict = {[1, 2]: \"value\"}  \n",
        "-- This would raise TypeError\n",
        "\n",
        "Tuples: Can be used as dictionary keys due to their immutability.\n",
        "\n",
        "my_dict = { (1, 2): \"value\" }\n",
        "\n",
        "print(my_dict[(1, 2)])  # Output: \"value\""
      ],
      "metadata": {
        "id": "gRi3IaIGQRic"
      }
    },
    {
      "cell_type": "markdown",
      "source": [
        "**7. Nested Structures**\n",
        "\n",
        "Both data structures can hold other lists or tuples, enabling the creation of complex nested structures.\n",
        "\n",
        "Example of nested list:nested_list = [[1, 2], [3, 4]]\n",
        "\n",
        "Example of nested tuple:nested_tuple = ((1, 2), (3, 4))\n",
        "\n",
        "**When to Use Tuples vs. Lists**\n",
        "\n",
        "**Use Tuples when:**\n",
        "\n",
        "You want an immutable collection (data that should not change). You need to use the collection as a key in a dictionary. Memory efficiency and performance are priorities. The collection is fixed, and you don't need to add, remove, or modify elements.\n",
        "\n",
        "**Use Lists when:**\n",
        "\n",
        "You need a mutable collection (data that needs frequent updates). You require a wide range of methods to manipulate the collection. The size of the collection may change over time.\n"
      ],
      "metadata": {
        "id": "3gWkOj1QQv3f"
      }
    },
    {
      "cell_type": "markdown",
      "source": [
        "#5.Describe the key features of sets and provide examples of their use.\n",
        "\n",
        "ets are a built-in data type in Python that represent a collection of unique elements. They are unordered, mutable, and do not allow duplicate values. Here are the key features of sets, along with examples to illustrate their use.\n",
        "\n",
        "**1. Uniqueness**\n",
        "\n",
        "Sets automatically enforce uniqueness; any duplicate elements are ignored when the set is created.\n"
      ],
      "metadata": {
        "id": "5mPaFo7ERZHY"
      }
    },
    {
      "cell_type": "code",
      "source": [
        "my_set = {1, 2, 2, 3}\n",
        "print(my_set)  # Output: {1, 2, 3}\n"
      ],
      "metadata": {
        "colab": {
          "base_uri": "https://localhost:8080/"
        },
        "id": "9etuqlSThn95",
        "outputId": "ead35623-0a45-4baa-dd1c-ce2d51877108"
      },
      "execution_count": 1,
      "outputs": [
        {
          "output_type": "stream",
          "name": "stdout",
          "text": [
            "{1, 2, 3}\n"
          ]
        }
      ]
    },
    {
      "cell_type": "markdown",
      "source": [
        "**2. Unordered Collection**\n",
        "\n",
        "The elements in a set do not have a defined order, which means that their positions are not fixed and cannot be accessed through indexing."
      ],
      "metadata": {
        "id": "EKtWTt40hrDn"
      }
    },
    {
      "cell_type": "code",
      "source": [
        "my_set = {3, 1, 2}\n",
        "print(my_set)  # Output can be any order like {1, 2, 3}\n"
      ],
      "metadata": {
        "colab": {
          "base_uri": "https://localhost:8080/"
        },
        "id": "HgSSXlG3hxxo",
        "outputId": "eebf9d2e-ff58-4cb8-e2f1-e438a1488d91"
      },
      "execution_count": 2,
      "outputs": [
        {
          "output_type": "stream",
          "name": "stdout",
          "text": [
            "{1, 2, 3}\n"
          ]
        }
      ]
    },
    {
      "cell_type": "markdown",
      "source": [
        "**3. Mutable**\n",
        "\n",
        "You can add or remove elements from a set after its creation, but the elements themselves must be immutable (e.g., no lists or dictionaries)."
      ],
      "metadata": {
        "id": "KDIH30mSh2GD"
      }
    },
    {
      "cell_type": "code",
      "source": [
        "my_set = {1, 2, 3}\n",
        "my_set.add(4)  # Adding an element\n",
        "my_set.remove(2)  # Removing an element\n",
        "print(my_set)  # Output: {1, 3, 4}\n"
      ],
      "metadata": {
        "colab": {
          "base_uri": "https://localhost:8080/"
        },
        "id": "-g_EacIOh-dD",
        "outputId": "999f2693-34d1-46b5-f6cf-448be680d8dc"
      },
      "execution_count": 3,
      "outputs": [
        {
          "output_type": "stream",
          "name": "stdout",
          "text": [
            "{1, 3, 4}\n"
          ]
        }
      ]
    },
    {
      "cell_type": "markdown",
      "source": [
        "**4. Set Operations**\n",
        "\n",
        "Sets support a variety of mathematical set operations, including union, intersection, difference, and symmetric difference.\n",
        "\n",
        "**Union:** Combines elements from both sets."
      ],
      "metadata": {
        "id": "eGIHIVUbiAta"
      }
    },
    {
      "cell_type": "code",
      "source": [
        "set_a = {1, 2, 3}\n",
        "set_b = {3, 4, 5}\n",
        "union_set = set_a | set_b\n",
        "print(union_set)  # Output: {1, 2, 3, 4, 5}\n"
      ],
      "metadata": {
        "colab": {
          "base_uri": "https://localhost:8080/"
        },
        "id": "oLVEM7v6iK9r",
        "outputId": "c5854c99-0a59-463d-9148-e779cbdd1848"
      },
      "execution_count": 4,
      "outputs": [
        {
          "output_type": "stream",
          "name": "stdout",
          "text": [
            "{1, 2, 3, 4, 5}\n"
          ]
        }
      ]
    },
    {
      "cell_type": "markdown",
      "source": [
        "**Intersection:** Gets elements common to both sets."
      ],
      "metadata": {
        "id": "ve2QaPKGiO8q"
      }
    },
    {
      "cell_type": "code",
      "source": [
        "intersection_set = set_a & set_b\n",
        "print(intersection_set)  # Output: {3}\n"
      ],
      "metadata": {
        "colab": {
          "base_uri": "https://localhost:8080/"
        },
        "id": "os5co98FiTH3",
        "outputId": "01322fd3-b4da-41d2-aff2-da9aadbc832b"
      },
      "execution_count": 5,
      "outputs": [
        {
          "output_type": "stream",
          "name": "stdout",
          "text": [
            "{3}\n"
          ]
        }
      ]
    },
    {
      "cell_type": "markdown",
      "source": [
        "**Difference:** Elements in one set that are not in the other.\n",
        "\n"
      ],
      "metadata": {
        "id": "KAkOZ62ciWw0"
      }
    },
    {
      "cell_type": "code",
      "source": [
        "difference_set = set_a - set_b\n",
        "print(difference_set)  # Output: {1, 2}\n"
      ],
      "metadata": {
        "colab": {
          "base_uri": "https://localhost:8080/"
        },
        "id": "ouJ2d9yOiefk",
        "outputId": "a6c571e5-d2d4-4748-e40a-6792f5f2a2b3"
      },
      "execution_count": 6,
      "outputs": [
        {
          "output_type": "stream",
          "name": "stdout",
          "text": [
            "{1, 2}\n"
          ]
        }
      ]
    },
    {
      "cell_type": "markdown",
      "source": [
        "**Symmetric Difference:** Elements that are in either of the sets but not in both."
      ],
      "metadata": {
        "id": "Uer7EtX6ih1A"
      }
    },
    {
      "cell_type": "code",
      "source": [
        "symmetric_difference_set = set_a ^ set_b\n",
        "print(symmetric_difference_set)  # Output: {1, 2, 4, 5}\n"
      ],
      "metadata": {
        "colab": {
          "base_uri": "https://localhost:8080/"
        },
        "id": "kTwTa73zin5k",
        "outputId": "1a95a5de-8b55-45d0-f951-604e74519310"
      },
      "execution_count": 7,
      "outputs": [
        {
          "output_type": "stream",
          "name": "stdout",
          "text": [
            "{1, 2, 4, 5}\n"
          ]
        }
      ]
    },
    {
      "cell_type": "markdown",
      "source": [
        "**5. Membership Testing**\n",
        "\n",
        "Sets provide efficient membership testing due to their underlying hash table implementation. Checking whether an element exists in a set is typically faster than in lists or tuples."
      ],
      "metadata": {
        "id": "rrE-CBupish8"
      }
    },
    {
      "cell_type": "code",
      "source": [
        "my_set = {1, 2, 3}\n",
        "print(2 in my_set)  # Output: True\n",
        "print(4 in my_set)  # Output: False\n"
      ],
      "metadata": {
        "colab": {
          "base_uri": "https://localhost:8080/"
        },
        "id": "5w2wik81iz1C",
        "outputId": "67efc278-eb21-476d-ca0a-5fb1f0733d33"
      },
      "execution_count": 8,
      "outputs": [
        {
          "output_type": "stream",
          "name": "stdout",
          "text": [
            "True\n",
            "False\n"
          ]
        }
      ]
    },
    {
      "cell_type": "markdown",
      "source": [
        "**6.No Indexing or Slicing:**\n",
        "\n",
        "Since sets are unordered, you cannot access elements by index or slice them as you would with lists or tuples."
      ],
      "metadata": {
        "id": "qJPE5IenjHE4"
      }
    },
    {
      "cell_type": "code",
      "source": [
        "# The following will raise an error:\n",
        "my_set = {1, 2, 3}\n",
        "#print(my_set[0])  # Raises TypeError: 'set' object is not subscriptable"
      ],
      "metadata": {
        "id": "hqLdtvDgjbQa"
      },
      "execution_count": null,
      "outputs": []
    },
    {
      "cell_type": "markdown",
      "source": [
        "**7.Iterating Over a Set**\n",
        "\n",
        "You can easily iterate over the elements of a set."
      ],
      "metadata": {
        "id": "Cs7neMdUjn93"
      }
    },
    {
      "cell_type": "code",
      "source": [
        "my_set = {1, 2, 3}\n",
        "for element in my_set:\n",
        "    print(element)\n"
      ],
      "metadata": {
        "colab": {
          "base_uri": "https://localhost:8080/"
        },
        "id": "l0uo3-Bnjtrp",
        "outputId": "021bf6c5-7ea6-4b7d-fcf7-e68374c9d046"
      },
      "execution_count": 11,
      "outputs": [
        {
          "output_type": "stream",
          "name": "stdout",
          "text": [
            "1\n",
            "2\n",
            "3\n"
          ]
        }
      ]
    },
    {
      "cell_type": "markdown",
      "source": [
        "**8. Use Cases**\n",
        "\n",
        "**Removing Duplicates:**  You can use sets to remove duplicates from a list.\n",
        "\n",
        "my_list = [1, 2, 2, 3, 4, 4]\n",
        "\n",
        "unique_elements = set(my_list)  # Output: {1, 2, 3, 4}\n",
        "\n",
        "**Data Analysis:** Sets are useful for operations where you need to compare large sets of data and check for intersections or unique values.\n",
        "\n",
        "**Membership Check:** Use sets to quickly check for the presence of items, such as valid user permissions.\n",
        "\n",
        "**Graph Theory:** Representing edges or nodes since they inherently avoid duplicate entries.\n",
        "\n",
        "**Conclusion:**\n",
        "\n",
        "1.Sets in Python are unordered collections of unique elements.\n",
        "\n",
        "2.They are mutable, allow efficient membership testing, and support various mathematical set operations.\n",
        "\n",
        "3.Sets are ideal for scenarios where uniqueness is important, such as removing duplicates, performing membership tests, or conducting set operations."
      ],
      "metadata": {
        "id": "_r7kRm4gjzBL"
      }
    },
    {
      "cell_type": "markdown",
      "source": [
        "#6.Discuss the use cases of tuples and sets in python programming.\n",
        "\n",
        "**Use Cases of Tuples and Sets in Python **\n",
        "\n",
        "Both tuples and sets serve unique purposes in Python programming due to their distinct characteristics.\n",
        "\n",
        "**Use Cases of Tuples**\n",
        "1.Fixed Collections of Items:\n",
        "\n",
        "When you have a collection of related items that should not change, tuples are a great choice. For example, representing a point in 2D or 3D space, days of the week, or RGB color codes."
      ],
      "metadata": {
        "id": "MAPMKsX4kYKg"
      }
    },
    {
      "cell_type": "code",
      "source": [
        "point = (10, 20)  # A point in 2D space\n",
        "days_of_week = (\"Monday\", \"Tuesday\", \"Wednesday\", \"Thursday\", \"Friday\", \"Saturday\", \"Sunday\")\n",
        "rgb_color = (255, 0, 0)  # Red color"
      ],
      "metadata": {
        "id": "dgtE24thnjpL"
      },
      "execution_count": 12,
      "outputs": []
    },
    {
      "cell_type": "markdown",
      "source": [
        "2.Data Integrity:\n",
        "\n",
        "Since tuples are immutable, they can be used to ensure data integrity. For example, if you want to make sure that a sequence of values (like coordinates or database records) remains unchanged throughout the program.\n"
      ],
      "metadata": {
        "id": "3Z8GfAqtnqoK"
      }
    },
    {
      "cell_type": "code",
      "source": [
        "database_record = (\"John Doe\", 30, \"Engineer\")  # Tuple ensures the record stays constant"
      ],
      "metadata": {
        "id": "H1_bIbQGnv30"
      },
      "execution_count": 13,
      "outputs": []
    },
    {
      "cell_type": "markdown",
      "source": [
        "3.Return Multiple Values from Functions:\n",
        "\n",
        "Tuples are often used to return multiple values from functions. Python functions can return more than one value by packing them into a tuple.\n",
        "\n"
      ],
      "metadata": {
        "id": "-nus1hwNn3KV"
      }
    },
    {
      "cell_type": "code",
      "source": [
        "def get_min_max(numbers):\n",
        "    return min(numbers), max(numbers)  # Returns a tuple\n",
        "\n",
        "min_value, max_value = get_min_max([4, 1, 7, 3])\n",
        "print(min_value, max_value)  # Output: 1, 7"
      ],
      "metadata": {
        "colab": {
          "base_uri": "https://localhost:8080/"
        },
        "id": "GqPIU9Krn_yw",
        "outputId": "5cdaea66-7a4a-4648-8f0e-7328e4a45023"
      },
      "execution_count": 14,
      "outputs": [
        {
          "output_type": "stream",
          "name": "stdout",
          "text": [
            "1 7\n"
          ]
        }
      ]
    },
    {
      "cell_type": "markdown",
      "source": [
        "4.Dictionary Keys:\n",
        "\n",
        "Tuples can be used as keys in a dictionary since they are hashable (immutable). This is useful when you need to create a dictionary with compound keys (like coordinates, pairs of values, etc.).\n",
        "\n"
      ],
      "metadata": {
        "id": "eCg1O0JBoCQ_"
      }
    },
    {
      "cell_type": "code",
      "source": [
        "coordinates = {(0, 0): \"Origin\", (1, 2): \"Point A\", (2, 1): \"Point B\"}\n",
        "print(coordinates[(1, 2)])  # Output: \"Point A\""
      ],
      "metadata": {
        "colab": {
          "base_uri": "https://localhost:8080/"
        },
        "id": "Z4SMBp_foISw",
        "outputId": "c85d89f1-8624-499b-f9b7-e92cfa60ff69"
      },
      "execution_count": 15,
      "outputs": [
        {
          "output_type": "stream",
          "name": "stdout",
          "text": [
            "Point A\n"
          ]
        }
      ]
    },
    {
      "cell_type": "markdown",
      "source": [
        "5.Named Tuples for Readability:\n",
        "\n",
        "Python's collections module provides named tuples, which allow you to define simple classes to make your code more readable.\n",
        "\n"
      ],
      "metadata": {
        "id": "G6f6RUaFoKiQ"
      }
    },
    {
      "cell_type": "code",
      "source": [
        "from collections import namedtuple\n",
        "# Create a named tuple\n",
        "Person = namedtuple('Person', ['name', 'age', 'occupation'])\n",
        "person1 = Person(name=\"Alice\", age=25, occupation=\"Doctor\")\n",
        "print(person1.name)  # Output: \"Alice\""
      ],
      "metadata": {
        "colab": {
          "base_uri": "https://localhost:8080/"
        },
        "id": "aBsAAB7ToQ8h",
        "outputId": "f50705e4-c9c9-4949-f0e8-60e3498bc327"
      },
      "execution_count": 16,
      "outputs": [
        {
          "output_type": "stream",
          "name": "stdout",
          "text": [
            "Alice\n"
          ]
        }
      ]
    },
    {
      "cell_type": "markdown",
      "source": [
        "6.Memory Efficiency and Performance:\n",
        "\n",
        "Tuples use less memory than lists, making them more memory-efficient, especially when working with large collections of data that do not require modification. They are also generally faster to iterate over compared to lists.\n"
      ],
      "metadata": {
        "id": "h1m9zvbVoT0w"
      }
    },
    {
      "cell_type": "code",
      "source": [
        "large_tuple = (1,) * 1000000  # More memory-efficient than a list\n"
      ],
      "metadata": {
        "id": "nKk1fMgAoZP6"
      },
      "execution_count": 17,
      "outputs": []
    },
    {
      "cell_type": "markdown",
      "source": [
        "**Use cases of sets:**\n",
        "\n",
        "1.Removing Duplicates from Collections:\n",
        "\n",
        "Sets are ideal for removing duplicates from a list or any other iterable. They automatically eliminate duplicate values.\n",
        "\n"
      ],
      "metadata": {
        "id": "o7M1rXG5ogrS"
      }
    },
    {
      "cell_type": "code",
      "source": [
        "numbers = [1, 2, 2, 3, 4, 4, 5]\n",
        "unique_numbers = list(set(numbers))\n",
        "print(unique_numbers)  # Output: [1, 2, 3, 4, 5]"
      ],
      "metadata": {
        "colab": {
          "base_uri": "https://localhost:8080/"
        },
        "id": "D_sWRq46oosm",
        "outputId": "8fcf7e12-35e7-435e-8d9b-233a01f90999"
      },
      "execution_count": 18,
      "outputs": [
        {
          "output_type": "stream",
          "name": "stdout",
          "text": [
            "[1, 2, 3, 4, 5]\n"
          ]
        }
      ]
    },
    {
      "cell_type": "markdown",
      "source": [
        "2.Membership Testing:\n",
        "\n",
        "Sets are optimized for checking if an item exists in the collection. This makes them suitable for scenarios where you frequently need to check membership.\n",
        "\n"
      ],
      "metadata": {
        "id": "beg1FrAhrcXk"
      }
    },
    {
      "cell_type": "code",
      "source": [
        "allowed_users = {\"Alice\", \"Bob\", \"Charlie\"}\n",
        "user = \"David\"\n",
        "\n",
        "if user in allowed_users:\n",
        "    print(f\"{user} is allowed.\")\n",
        "else:\n",
        "    print(f\"{user} is not allowed.\")  # Output: \"David is not allowed.\""
      ],
      "metadata": {
        "colab": {
          "base_uri": "https://localhost:8080/"
        },
        "id": "TOVMUQAZrhyL",
        "outputId": "4be05243-ea3b-4c0b-d0dd-77c9c4702541"
      },
      "execution_count": 19,
      "outputs": [
        {
          "output_type": "stream",
          "name": "stdout",
          "text": [
            "David is not allowed.\n"
          ]
        }
      ]
    },
    {
      "cell_type": "markdown",
      "source": [
        "3.Mathematical Set Operations:\n",
        "\n",
        "Sets are ideal for performing mathematical set operations like union, intersection, difference, and symmetric difference. These operations are useful in tasks like finding common elements, differences, or combining elements from multiple datasets.\n",
        "\n"
      ],
      "metadata": {
        "id": "c1B6dOhCrjmk"
      }
    },
    {
      "cell_type": "code",
      "source": [
        "set_a = {1, 2, 3}\n",
        "set_b = {2, 3, 4}\n",
        "\n",
        "print(set_a | set_b)  # Union: {1, 2, 3, 4}\n",
        "print(set_a & set_b)  # Intersection: {2, 3}\n",
        "print(set_a - set_b)  # Difference: {1}"
      ],
      "metadata": {
        "colab": {
          "base_uri": "https://localhost:8080/"
        },
        "id": "mRvHnuvWrtLY",
        "outputId": "33c94001-36ea-43ab-c930-be210639e144"
      },
      "execution_count": 20,
      "outputs": [
        {
          "output_type": "stream",
          "name": "stdout",
          "text": [
            "{1, 2, 3, 4}\n",
            "{2, 3}\n",
            "{1}\n"
          ]
        }
      ]
    },
    {
      "cell_type": "markdown",
      "source": [
        "4.Data Validation and Filtering:\n",
        "\n",
        "Sets can be used to filter data or enforce uniqueness constraints in data processing tasks. For example, you can quickly find unique elements or filter out unwanted data.\n",
        "\n"
      ],
      "metadata": {
        "id": "ufIqnhUcruyq"
      }
    },
    {
      "cell_type": "code",
      "source": [
        "names = [\"Alice\", \"Bob\", \"Alice\", \"David\"]\n",
        "unique_names = set(names)\n",
        "print(unique_names)  # Output: {'David', 'Alice', 'Bob'}"
      ],
      "metadata": {
        "colab": {
          "base_uri": "https://localhost:8080/"
        },
        "id": "OEQMMQ4vrzdg",
        "outputId": "a7fc45ba-b569-496f-b6a3-6dd573773244"
      },
      "execution_count": 21,
      "outputs": [
        {
          "output_type": "stream",
          "name": "stdout",
          "text": [
            "{'David', 'Bob', 'Alice'}\n"
          ]
        }
      ]
    },
    {
      "cell_type": "markdown",
      "source": [
        "5.Efficient Data Lookup:\n",
        "\n",
        "Since sets use a hash-based structure, lookups (checking if an element exists) are very fast compared to lists, especially for large datasets.\n",
        "\n"
      ],
      "metadata": {
        "id": "XKmojYknr2MT"
      }
    },
    {
      "cell_type": "code",
      "source": [
        "large_set = set(range(1000000))\n",
        "print(999999 in large_set)  # Output: True, lookup is fast"
      ],
      "metadata": {
        "colab": {
          "base_uri": "https://localhost:8080/"
        },
        "id": "XHd3q2knr70V",
        "outputId": "5a599c6c-a2e2-4cad-f7a8-9bcbb8ff0067"
      },
      "execution_count": 22,
      "outputs": [
        {
          "output_type": "stream",
          "name": "stdout",
          "text": [
            "True\n"
          ]
        }
      ]
    },
    {
      "cell_type": "markdown",
      "source": [
        "6.Operations on Large Datasets:\n",
        "\n",
        "Sets are useful for operations involving large datasets, such as finding common elements between two large datasets (intersection) or combining datasets (union).\n",
        "\n"
      ],
      "metadata": {
        "id": "EyyjEN_xr-Jv"
      }
    },
    {
      "cell_type": "code",
      "source": [
        "dataset1 = {\"apple\", \"banana\", \"cherry\"}\n",
        "dataset2 = {\"banana\", \"cherry\", \"date\", \"fig\"}\n",
        "\n",
        "common_elements = dataset1 & dataset2  # Output: {'banana', 'cherry'}\n",
        "all_elements = dataset1 | dataset2     # Output: {'apple', 'banana', 'cherry', 'date', 'fig'}\n",
        "print(common_elements)\n",
        "print(all_elements)"
      ],
      "metadata": {
        "colab": {
          "base_uri": "https://localhost:8080/"
        },
        "id": "UB9UsqefsCuK",
        "outputId": "e9e7a983-b9ee-461b-e8cc-1d2d59174289"
      },
      "execution_count": 24,
      "outputs": [
        {
          "output_type": "stream",
          "name": "stdout",
          "text": [
            "{'banana', 'cherry'}\n",
            "{'banana', 'fig', 'date', 'apple', 'cherry'}\n"
          ]
        }
      ]
    },
    {
      "cell_type": "markdown",
      "source": [
        "**Conclusion:**\n",
        "\n",
        "Tuples are used when you need an immutable sequence of elements, such as fixed collections, function return values, or dictionary keys. They are more memory-efficient and faster than lists. Sets are used when you need a collection of unique elements with no particular order. They are ideal for membership testing, removing duplicates, performing set operations, and filtering or validating data."
      ],
      "metadata": {
        "id": "87b_XVEhsQRB"
      }
    },
    {
      "cell_type": "markdown",
      "source": [
        "#7.Describe how to add,modify and delete items in dictionary with examples.\n",
        "\n",
        "A dictionary in Python is an unordered collection of items where each item is stored as a key-value pair. Dictionaries are mutable, which means you can add, modify, or delete items.\n",
        "\n",
        "**Adding Items to a Dictionary**\n",
        "\n",
        "1.Add a New Key-Value Pair:\n",
        "\n",
        "You can add a new key-value pair to a dictionary by assigning a value to a new key."
      ],
      "metadata": {
        "id": "9DswiJxxsVQr"
      }
    },
    {
      "cell_type": "code",
      "source": [
        "my_dict = {'name': 'Divya', 'age': 21}\n",
        "my_dict['city'] = 'London'  # Adding a new key-value pair\n",
        "print(my_dict)\n"
      ],
      "metadata": {
        "colab": {
          "base_uri": "https://localhost:8080/"
        },
        "id": "rUMoTQEetFCK",
        "outputId": "6cf0703f-b2d2-423c-ea8e-76216124d683"
      },
      "execution_count": 25,
      "outputs": [
        {
          "output_type": "stream",
          "name": "stdout",
          "text": [
            "{'name': 'Divya', 'age': 21, 'city': 'London'}\n"
          ]
        }
      ]
    },
    {
      "cell_type": "markdown",
      "source": [
        "2.Using the update() Method:\n",
        "\n",
        "This method can update multiple key-value pairs at once or add new ones if the keys do not exist"
      ],
      "metadata": {
        "id": "9aginTmJtUl8"
      }
    },
    {
      "cell_type": "code",
      "source": [
        "my_dict.update({'age': 25, 'country': 'United Kingdom'})  # Update existing key and add new key\n",
        "print(my_dict)"
      ],
      "metadata": {
        "colab": {
          "base_uri": "https://localhost:8080/"
        },
        "id": "2A9o_-wFtW3a",
        "outputId": "bc63b560-dadb-4c69-abc6-236e766b2194"
      },
      "execution_count": 26,
      "outputs": [
        {
          "output_type": "stream",
          "name": "stdout",
          "text": [
            "{'name': 'Divya', 'age': 25, 'city': 'London', 'country': 'United Kingdom'}\n"
          ]
        }
      ]
    },
    {
      "cell_type": "markdown",
      "source": [
        "**Modifying Items in a Dictionary**\n",
        "\n",
        "1.Modifying an Existing Key-Value Pair:\n",
        "\n",
        "You can change the value associated with a specific key by directly assigning a new value to it."
      ],
      "metadata": {
        "id": "8YJCaD5DttIP"
      }
    },
    {
      "cell_type": "code",
      "source": [
        "my_dict['age'] = 23  # Modifying the value of 'age'\n",
        "print(my_dict)\n"
      ],
      "metadata": {
        "colab": {
          "base_uri": "https://localhost:8080/"
        },
        "id": "24mdWZ-HtynC",
        "outputId": "a68fe346-c4ca-43ff-cc14-4e75ba203cf8"
      },
      "execution_count": 27,
      "outputs": [
        {
          "output_type": "stream",
          "name": "stdout",
          "text": [
            "{'name': 'Divya', 'age': 23, 'city': 'London', 'country': 'United Kingdom'}\n"
          ]
        }
      ]
    },
    {
      "cell_type": "markdown",
      "source": [
        "2.Using the update() Method:\n",
        "\n",
        "You can also modify existing key-value pairs using the update() method in the same way as when adding new keys."
      ],
      "metadata": {
        "id": "lk2VDMdLt_-h"
      }
    },
    {
      "cell_type": "code",
      "source": [
        "my_dict.update({'city': 'Cambridge'})  # Changing the value of 'city'\n",
        "print(my_dict)\n"
      ],
      "metadata": {
        "colab": {
          "base_uri": "https://localhost:8080/"
        },
        "id": "1NxrQOWvuDiV",
        "outputId": "fb84bc37-33d8-41d2-ae8b-1b8cb1f1a1ed"
      },
      "execution_count": 29,
      "outputs": [
        {
          "output_type": "stream",
          "name": "stdout",
          "text": [
            "{'name': 'Divya', 'age': 23, 'city': 'Cambridge', 'country': 'United Kingdom'}\n"
          ]
        }
      ]
    },
    {
      "cell_type": "markdown",
      "source": [
        "**Deleting Items from a Dictionary**\n",
        "\n",
        "1.Using the del Statement:\n",
        "\n",
        "You can delete an item by using the del keyword followed by the key."
      ],
      "metadata": {
        "id": "hEw-izFWuefo"
      }
    },
    {
      "cell_type": "code",
      "source": [
        "del my_dict['country']  # Deleting the key 'country'\n",
        "print(my_dict)"
      ],
      "metadata": {
        "colab": {
          "base_uri": "https://localhost:8080/"
        },
        "id": "ayovRKlruk5_",
        "outputId": "8202eb70-4f83-45dd-917e-733b6f4cb66f"
      },
      "execution_count": 30,
      "outputs": [
        {
          "output_type": "stream",
          "name": "stdout",
          "text": [
            "{'name': 'Divya', 'age': 23, 'city': 'Cambridge'}\n"
          ]
        }
      ]
    },
    {
      "cell_type": "markdown",
      "source": [
        "2.Using the pop() Method:\n",
        "\n",
        "This method removes a specified key and returns its value."
      ],
      "metadata": {
        "id": "4QlVoOYxuyKA"
      }
    },
    {
      "cell_type": "code",
      "source": [
        "age = my_dict.pop('age')  # Removes 'age' and returns its value\n",
        "print(age)\n",
        "print(my_dict)\n"
      ],
      "metadata": {
        "colab": {
          "base_uri": "https://localhost:8080/"
        },
        "id": "Dul07Yk2u2Bf",
        "outputId": "61a9cbcb-699b-46bc-cece-4e67e6295ac4"
      },
      "execution_count": 31,
      "outputs": [
        {
          "output_type": "stream",
          "name": "stdout",
          "text": [
            "23\n",
            "{'name': 'Divya', 'city': 'Cambridge'}\n"
          ]
        }
      ]
    },
    {
      "cell_type": "markdown",
      "source": [
        "3.Using the popitem() Method:\n",
        "\n",
        "This method removes and returns the last inserted key-value pair as a tuple. (Note: In Python 3.7+, dictionaries maintain insertion order.)"
      ],
      "metadata": {
        "id": "MR5f0bPru9mX"
      }
    },
    {
      "cell_type": "code",
      "source": [
        "last_item = my_dict.popitem()  # Removes and returns the last key-value pair\n",
        "print(last_item)\n",
        "print(my_dict)"
      ],
      "metadata": {
        "colab": {
          "base_uri": "https://localhost:8080/"
        },
        "id": "V5L6OYUXvCfc",
        "outputId": "3b76b9f0-aec6-4a22-befe-33469f46ae83"
      },
      "execution_count": 32,
      "outputs": [
        {
          "output_type": "stream",
          "name": "stdout",
          "text": [
            "('city', 'Cambridge')\n",
            "{'name': 'Divya'}\n"
          ]
        }
      ]
    },
    {
      "cell_type": "markdown",
      "source": [
        "4.Using the clear() Method:\n",
        "\n",
        "This method removes all items from the dictionary."
      ],
      "metadata": {
        "id": "rKhEVVikvIXn"
      }
    },
    {
      "cell_type": "code",
      "source": [
        "my_dict.clear()  # Clears the entire dictionary\n",
        "print(my_dict)  # Output: {}\n"
      ],
      "metadata": {
        "colab": {
          "base_uri": "https://localhost:8080/"
        },
        "id": "oibAW_hfvMPm",
        "outputId": "1b73fc4a-9c1f-4a3c-a9a2-85c094112140"
      },
      "execution_count": 33,
      "outputs": [
        {
          "output_type": "stream",
          "name": "stdout",
          "text": [
            "{}\n"
          ]
        }
      ]
    },
    {
      "cell_type": "markdown",
      "source": [
        "**Summary**\n",
        "\n",
        "Adding Items: You can add items by assigning a value to a new key or using the update() method.\n",
        "\n",
        "Modifying Items: Modify existing items by directly assigning new values or using update().\n",
        "\n",
        "Deleting Items: Use del, pop(), popitem(), or clear() to remove items or clear the dictionary.\n",
        "\n",
        "These operations make dictionaries in Python flexible and powerful for managing key-value pairs."
      ],
      "metadata": {
        "id": "1ZuOo__IvQZt"
      }
    },
    {
      "cell_type": "markdown",
      "source": [
        "#8.Discuss the importance of dictionary keys being immutable and provide examples\n",
        "\n",
        "**Importance of Immutable Dictionary Keys**\n",
        "\n",
        "**Hashing Requirement:**\n",
        "\n",
        "Dictionaries use a hash table internally to store key-value pairs. A hash function generates an index based on the key, which allows quick access to the associated value. Immutable types (like integers, strings, and tuples) have a consistent hash value that does not change. If a key were mutable, its hash value could change, leading to confusing and unpredictable behavior when trying to access the associated values."
      ],
      "metadata": {
        "id": "kfDg3Ww1vX5y"
      }
    },
    {
      "cell_type": "code",
      "source": [
        "# Valid use of an immutable key\n",
        "my_dict = {1: 'one', 'two': 2, (3, 4): 'tuple'}\n",
        "print(my_dict[1])  # Output: 'one'\n"
      ],
      "metadata": {
        "colab": {
          "base_uri": "https://localhost:8080/"
        },
        "id": "YbV4N0YvzQ6_",
        "outputId": "2381de86-f265-486e-9882-fc3421758dac"
      },
      "execution_count": 34,
      "outputs": [
        {
          "output_type": "stream",
          "name": "stdout",
          "text": [
            "one\n"
          ]
        }
      ]
    },
    {
      "cell_type": "markdown",
      "source": [
        "**Data Integrity:**\n",
        "\n",
        "If mutable types (like lists or dictionaries) were allowed as keys and their content changed, it would break the consistency of the dictionary, potentially leading to data losses or incorrect value retrievals. This means that the key's identity must remain constant throughout its lifetime in the dictionary."
      ],
      "metadata": {
        "id": "T3eyRBedzW3r"
      }
    },
    {
      "cell_type": "code",
      "source": [
        "# Attempt to use a list as a dictionary key (invalid operation)\n",
        "#my_dict = {[1, 2]: 'list_key'}  # Raises TypeError: unhashable type: 'list'\n"
      ],
      "metadata": {
        "id": "yDRmPRa9zctL"
      },
      "execution_count": 36,
      "outputs": []
    },
    {
      "cell_type": "markdown",
      "source": [
        "**Performance Efficiency:**\n",
        "\n",
        "Since hash values of immutable keys don't change, the underlying implementation can optimize lookups, insertions, and deletions. Mutable types would require recalculating and rehashing, significantly reducing performance and increasing the complexity of the data structure.\n",
        "\n",
        "**Predictable Behavior:**\n",
        "\n",
        "Using immutable keys ensures that once a key is added to a dictionary, it won’t have unexpected side effects from changes within its own data structure. This predictability is key in programming, especially when the codebase grows larger and more complex."
      ],
      "metadata": {
        "id": "kFiIsAtuzkSQ"
      }
    },
    {
      "cell_type": "code",
      "source": [
        "# Immutable key behavior\n",
        "my_dict = {'name': 'Alice', 'age': 30}\n",
        "\n",
        "# As the keys are strings (immutable), this is predictable:\n",
        "print(my_dict['name'])  # Output: 'Alice'\n"
      ],
      "metadata": {
        "colab": {
          "base_uri": "https://localhost:8080/"
        },
        "id": "IK7iWSFWzwy9",
        "outputId": "8e630ece-d6eb-4d1a-b73f-67c0f48d689c"
      },
      "execution_count": 37,
      "outputs": [
        {
          "output_type": "stream",
          "name": "stdout",
          "text": [
            "Alice\n"
          ]
        }
      ]
    },
    {
      "cell_type": "markdown",
      "source": [
        "**Examples of Valid Immutable Keys**\n",
        "\n",
        "1.Strings as Keys:\n",
        "Strings are immutable and are often used as dictionary keys."
      ],
      "metadata": {
        "id": "bStTu8kqzzm1"
      }
    },
    {
      "cell_type": "code",
      "source": [
        "my_dict = {\"name\": \"Alice\", \"age\": 30}\n",
        "print(my_dict[\"name\"])  # Output: Alice"
      ],
      "metadata": {
        "colab": {
          "base_uri": "https://localhost:8080/"
        },
        "id": "NQ1GM2Bu0wkJ",
        "outputId": "c7a53f9a-90e7-4483-d02d-60bde0036aee"
      },
      "execution_count": 38,
      "outputs": [
        {
          "output_type": "stream",
          "name": "stdout",
          "text": [
            "Alice\n"
          ]
        }
      ]
    },
    {
      "cell_type": "markdown",
      "source": [
        "2.Numbers as Keys:\n",
        "Numbers (integers and floats) are immutable and can be used as dictionary keys.\n",
        "\n"
      ],
      "metadata": {
        "id": "WgEgpgQf1BXY"
      }
    },
    {
      "cell_type": "code",
      "source": [
        "number_dict = {1: \"one\", 2: \"two\", 3: \"three\"}\n",
        "print(number_dict[2])  # Output: \"two\""
      ],
      "metadata": {
        "colab": {
          "base_uri": "https://localhost:8080/"
        },
        "id": "L8t5hgIz1GsX",
        "outputId": "0b03cf0b-975c-435e-b175-16da3788de08"
      },
      "execution_count": 39,
      "outputs": [
        {
          "output_type": "stream",
          "name": "stdout",
          "text": [
            "two\n"
          ]
        }
      ]
    },
    {
      "cell_type": "markdown",
      "source": [
        "3.Tuples as Keys:\n",
        "Tuples are immutable and can be used as dictionary keys, even if they contain other immutable types.\n",
        "\n"
      ],
      "metadata": {
        "id": "6TpJqxnV1IK0"
      }
    },
    {
      "cell_type": "code",
      "source": [
        "coordinates = {(10, 20): \"Point A\", (30, 40): \"Point B\"}\n",
        "print(coordinates[(10, 20)])  # Output: \"Point A\""
      ],
      "metadata": {
        "colab": {
          "base_uri": "https://localhost:8080/"
        },
        "id": "IPnoTLs71Mva",
        "outputId": "a712fcbf-8048-49d1-b959-9bea92ae3479"
      },
      "execution_count": 40,
      "outputs": [
        {
          "output_type": "stream",
          "name": "stdout",
          "text": [
            "Point A\n"
          ]
        }
      ]
    },
    {
      "cell_type": "markdown",
      "source": [
        "4.Custom Immutable Objects as Keys:\n",
        "You can use instances of custom classes as dictionary keys if you define the class in such a way that the instances are immutable (by overriding methods like hash() and eq())."
      ],
      "metadata": {
        "id": "Pzahox5v1Oc9"
      }
    },
    {
      "cell_type": "code",
      "source": [
        "class ImmutablePoint:\n",
        "    def __init__(self, x, y):\n",
        "        self.x = x\n",
        "        self.y = y\n",
        "\n",
        "    def __hash__(self):\n",
        "        return hash((self.x, self.y))\n",
        "\n",
        "    def __eq__(self, other):\n",
        "        return (self.x, self.y) == (other.x, other.y)\n",
        "\n",
        "point_a = ImmutablePoint(1, 2)\n",
        "point_b = ImmutablePoint(3, 4)\n",
        "\n",
        "point_dict = {point_a: \"A\", point_b: \"B\"}\n",
        "print(point_dict[point_a])  # Output: \"A\""
      ],
      "metadata": {
        "colab": {
          "base_uri": "https://localhost:8080/"
        },
        "id": "Qbo-si9N1R_I",
        "outputId": "159c55eb-c372-4bac-e496-8a2b99bc332e"
      },
      "execution_count": 41,
      "outputs": [
        {
          "output_type": "stream",
          "name": "stdout",
          "text": [
            "A\n"
          ]
        }
      ]
    },
    {
      "cell_type": "markdown",
      "source": [
        "**Conclusion:**\n",
        "\n",
        "1.Immutability is essential for dictionary keys to ensure consistent hashing, efficient lookups, data integrity, and prevention of unintended side effects.\n",
        "\n",
        "2.Strings, numbers, tuples, and custom immutable objects are suitable for use as dictionary keys."
      ],
      "metadata": {
        "id": "YWYQNe_B1c8a"
      }
    }
  ]
}