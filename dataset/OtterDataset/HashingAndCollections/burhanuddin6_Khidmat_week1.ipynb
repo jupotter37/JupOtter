{
  "cells": [
    {
      "cell_type": "markdown",
      "source": [
        "# Tuple\n",
        "A tuple is a fixed-length, immutable sequence of Python objects which, once assigned,\n",
        " cannot be changed. The easiest way to create one is with a comma-separated\n",
        " sequence of values wrapped in parentheses"
      ],
      "metadata": {
        "id": "M1bSHVogPRSi"
      }
    },
    {
      "cell_type": "code",
      "execution_count": null,
      "metadata": {
        "id": "2ulQjxA0Kdpu"
      },
      "outputs": [],
      "source": [
        "tup = (4, 5, 6)\n",
        "tup"
      ]
    },
    {
      "cell_type": "code",
      "execution_count": null,
      "metadata": {
        "id": "m4hjcxhQKdpw"
      },
      "outputs": [],
      "source": [
        "tup = 4, 5, 6\n",
        "tup"
      ]
    },
    {
      "cell_type": "markdown",
      "source": [
        " You can convert any sequence or iterator to a tuple by invoking tuple:"
      ],
      "metadata": {
        "id": "xAO4L0VUPywt"
      }
    },
    {
      "cell_type": "code",
      "execution_count": null,
      "metadata": {
        "id": "pULHV7PuKdpx"
      },
      "outputs": [],
      "source": [
        "tuple([4, 0, 2])\n",
        "tup = tuple('string')\n",
        "tup"
      ]
    },
    {
      "cell_type": "markdown",
      "source": [
        " Elements can be accessed with square brackets [] as with most other sequence types.\n",
        " As in C, C++, Java, and many other languages, sequences are 0-indexed in Python:"
      ],
      "metadata": {
        "id": "INe-n9vqQBIo"
      }
    },
    {
      "cell_type": "code",
      "execution_count": null,
      "metadata": {
        "id": "3X7nk9p9Kdpx"
      },
      "outputs": [],
      "source": [
        "tup[0]"
      ]
    },
    {
      "cell_type": "markdown",
      "source": [
        " When you’re defining tuples within more complicated expressions, it’s often neces\n",
        "sary to enclose the values in parentheses, as in this example of creating a tuple of\n",
        " tuples:"
      ],
      "metadata": {
        "id": "C9ymttqLQGp8"
      }
    },
    {
      "cell_type": "code",
      "execution_count": null,
      "metadata": {
        "id": "PEhj4kj_Kdpx"
      },
      "outputs": [],
      "source": [
        "nested_tup = (4, 5, 6), (7, 8)\n",
        "nested_tup\n",
        "nested_tup[0]\n",
        "nested_tup[1]"
      ]
    },
    {
      "cell_type": "code",
      "source": [
        "While the objects stored in a tuple may be mutable themselves, once the tuple is created it’s not possible to modify which object is stored in each slot:"
      ],
      "metadata": {
        "id": "aRDjs7bAQNYz"
      },
      "execution_count": null,
      "outputs": []
    },
    {
      "cell_type": "code",
      "execution_count": null,
      "metadata": {
        "id": "pzDmlzVTKdpx"
      },
      "outputs": [],
      "source": [
        "tup = tuple(['foo', [1, 2], True])\n",
        "tup[2] = False"
      ]
    },
    {
      "cell_type": "code",
      "execution_count": null,
      "metadata": {
        "id": "fCo6GrbfKdpy"
      },
      "outputs": [],
      "source": [
        "tup[1].append(3)\n",
        "tup"
      ]
    },
    {
      "cell_type": "markdown",
      "source": [
        " You can concatenate tuples using the + operator to produce longer tuples:"
      ],
      "metadata": {
        "id": "Emtu78AIQboQ"
      }
    },
    {
      "cell_type": "code",
      "execution_count": null,
      "metadata": {
        "id": "WdDdf9UzKdpy"
      },
      "outputs": [],
      "source": [
        "(4, None, 'foo') + (6, 0) + ('bar',)"
      ]
    },
    {
      "cell_type": "markdown",
      "source": [
        " Multiplying a tuple by an integer, as with lists, has the effect of concatenating that\n",
        " many copies of the tuple:"
      ],
      "metadata": {
        "id": "sZxEEUjXQhZ-"
      }
    },
    {
      "cell_type": "code",
      "execution_count": null,
      "metadata": {
        "id": "Pn-02kzeKdpz"
      },
      "outputs": [],
      "source": [
        "('foo', 'bar') * 4"
      ]
    },
    {
      "cell_type": "markdown",
      "source": [
        "## Unpacking tuples\n",
        " If you try to assign to a tuple-like expression of variables, Python will attempt to\n",
        " unpack the value on the righthand side of the equals sign"
      ],
      "metadata": {
        "id": "PhcmwWfqQoaT"
      }
    },
    {
      "cell_type": "code",
      "execution_count": null,
      "metadata": {
        "id": "BLDoGnd6Kdpz"
      },
      "outputs": [],
      "source": [
        "tup = (4, 5, 6)\n",
        "a, b, c = tup\n",
        "b"
      ]
    },
    {
      "cell_type": "markdown",
      "source": [
        " Even sequences with nested tuples can be unpacked:"
      ],
      "metadata": {
        "id": "PYpaukGcQt64"
      }
    },
    {
      "cell_type": "code",
      "execution_count": null,
      "metadata": {
        "id": "PjH1IHylKdp0"
      },
      "outputs": [],
      "source": [
        "tup = 4, 5, (6, 7)\n",
        "a, b, (c, d) = tup\n",
        "d"
      ]
    },
    {
      "cell_type": "markdown",
      "source": [
        "Using this functionality you can easily swap variable names, a task that in many\n",
        " languages might look like:\n",
        " ![image.png](data:image/png;base64,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)"
      ],
      "metadata": {
        "id": "GNEn5K8iQyCb"
      }
    },
    {
      "cell_type": "markdown",
      "source": [
        " But, in Python, the swap can be done like this:"
      ],
      "metadata": {
        "id": "DYTmQNUkQ40w"
      }
    },
    {
      "cell_type": "code",
      "execution_count": null,
      "metadata": {
        "id": "kfCBzhwoKdp0"
      },
      "outputs": [],
      "source": [
        "a, b = 1, 2\n",
        "b, a = a, b\n",
        "print(\"a = \", a, \", b = \", b)"
      ]
    },
    {
      "cell_type": "markdown",
      "source": [
        " A common use of variable unpacking is iterating over sequences of tuples or lists:"
      ],
      "metadata": {
        "id": "P2yi5pywRKei"
      }
    },
    {
      "cell_type": "code",
      "execution_count": null,
      "metadata": {
        "id": "_htxfiVcKdp1"
      },
      "outputs": [],
      "source": [
        "seq = [(1, 2, 3), (4, 5, 6), (7, 8, 9)]\n",
        "for a, b, c in seq:\n",
        "    print(f'a={a}, b={b}, c={c}')"
      ]
    },
    {
      "cell_type": "markdown",
      "source": [
        "Tuple also has methods (or functions)"
      ],
      "metadata": {
        "id": "N-SvkfK8RXBC"
      }
    },
    {
      "cell_type": "code",
      "execution_count": null,
      "metadata": {
        "id": "P4PODLsCKdp3"
      },
      "outputs": [],
      "source": [
        "a = (1, 2, 2, 2, 3, 4, 2)\n",
        "a.count(2)"
      ]
    },
    {
      "cell_type": "markdown",
      "source": [
        "# Exercise 1\n",
        "Lets put our learnings to action and build a library program\n",
        "- The program manages a library where books are represented as tuples with fields like title, author, and year of publication.\n",
        "- The core functionality to add and display books.\n",
        "- You have to implement functionality to search for books by author and calculate the average publication year of books in the library."
      ],
      "metadata": {
        "id": "N6rHcMxQSbYv"
      }
    },
    {
      "cell_type": "code",
      "source": [
        "# Library system using tuples\n",
        "\n",
        "def add_book(library, title, author, year):\n",
        "    \"\"\"\n",
        "    Adds a book to the library.\n",
        "\n",
        "    Args:\n",
        "        library (list of tuples): The current library.\n",
        "        title (str): The book's title.\n",
        "        author (str): The book's author.\n",
        "        year (int): The year of publication.\n",
        "\n",
        "    Returns:\n",
        "        list of tuples: Updated library with the new book added.\n",
        "    \"\"\"\n",
        "    library.append((title, author, year))\n",
        "    return library\n",
        "\n",
        "def display_books(library):\n",
        "    \"\"\"\n",
        "    Displays all books in the library.\n",
        "\n",
        "    Args:\n",
        "        library (list of tuples): The current library.\n",
        "    \"\"\"\n",
        "    if not library:\n",
        "        print(\"The library is empty.\")\n",
        "        return\n",
        "    print(\"Books in the library:\")\n",
        "    for i, book in enumerate(library, start=1):\n",
        "        print(f\"{i}. Title: {book[0]}, Author: {book[1]}, Year: {book[2]}\")\n",
        "\n",
        "# Test the initial implementation\n",
        "library = []\n",
        "library = add_book(library, \"1984\", \"George Orwell\", 1949)\n",
        "library = add_book(library, \"To Kill a Mockingbird\", \"Harper Lee\", 1960)\n",
        "display_books(library)\n",
        "\n",
        "# Assertions for testing\n",
        "assert len(library) == 2\n",
        "assert library[0] == (\"1984\", \"George Orwell\", 1949)\n",
        "assert library[1] == (\"To Kill a Mockingbird\", \"Harper Lee\", 1960)\n"
      ],
      "metadata": {
        "id": "kktC5YFjS0CL"
      },
      "execution_count": null,
      "outputs": []
    },
    {
      "cell_type": "code",
      "source": [
        "def search_books_by_author(library, author):\n",
        "    \"\"\"\n",
        "    Searches for books by a specific author.\n",
        "\n",
        "    Args:\n",
        "        library (list of tuples): The current library.\n",
        "        author (str): The author to search for.\n",
        "\n",
        "    Returns:\n",
        "        list of tuples: Books by the specified author.\n",
        "    \"\"\"\n",
        "    # TODO: Implement this function\n",
        "    pass\n",
        "\n",
        "def calculate_average_year(library):\n",
        "    \"\"\"\n",
        "    Calculates the average publication year of books in the library.\n",
        "\n",
        "    Args:\n",
        "        library (list of tuples): The current library.\n",
        "\n",
        "    Returns:\n",
        "        float: The average publication year of the books.\n",
        "    \"\"\"\n",
        "    # TODO: Implement this function\n",
        "    pass\n",
        "\n",
        "# Test the student's implementation\n",
        "# Part 2 Assertions\n",
        "author_books = search_books_by_author(library, \"Harper Lee\")\n",
        "assert len(author_books) == 1\n",
        "assert author_books[0] == (\"To Kill a Mockingbird\", \"Harper Lee\", 1960)\n",
        "\n",
        "average_year = calculate_average_year(library)\n",
        "assert abs(average_year - 1954.5) < 0.01  # Ensure the average is correct\n"
      ],
      "metadata": {
        "id": "H2KCRODeS6lF"
      },
      "execution_count": null,
      "outputs": []
    },
    {
      "cell_type": "markdown",
      "source": [
        "# List\n",
        "In contrast with tuples, lists are variable length and their contents can be modified in\n",
        " place. Lists are mutable. You can define them using square brackets [] or using the\n",
        " list type function"
      ],
      "metadata": {
        "id": "gNoBfeYTTEzI"
      }
    },
    {
      "cell_type": "code",
      "execution_count": null,
      "metadata": {
        "id": "IfM16GcEKdp3"
      },
      "outputs": [],
      "source": [
        "a_list = [2, 3, 7, None]\n",
        "\n",
        "tup = (\"foo\", \"bar\", \"baz\")\n",
        "b_list = list(tup)\n",
        "b_list\n",
        "b_list[1] = \"peekaboo\"\n",
        "b_list"
      ]
    },
    {
      "cell_type": "markdown",
      "source": [
        "Lists and tuples are semantically similar (though tuples cannot be modified) and can\n",
        " be used interchangeably in many functions.\n",
        " The list built-in function is frequently used in data processing as a way to material\n",
        "ize an iterator or generator expression:"
      ],
      "metadata": {
        "id": "Ft7ZdpM4YTNS"
      }
    },
    {
      "cell_type": "code",
      "execution_count": null,
      "metadata": {
        "id": "CfqMk9IBKdp4"
      },
      "outputs": [],
      "source": [
        "gen = range(10)\n",
        "gen\n",
        "list(gen)"
      ]
    },
    {
      "cell_type": "markdown",
      "source": [
        "## Adding and removing elements\n",
        " Elements can be appended to the end of the list with the append method:"
      ],
      "metadata": {
        "id": "xdTUz9Q7YgWI"
      }
    },
    {
      "cell_type": "code",
      "execution_count": null,
      "metadata": {
        "id": "2Lwl_WGIKdp4"
      },
      "outputs": [],
      "source": [
        "b_list.append(\"dwarf\")\n",
        "b_list"
      ]
    },
    {
      "cell_type": "markdown",
      "source": [
        " Using insert you can insert an element at a specific location in the list:"
      ],
      "metadata": {
        "id": "t8ZWohNRYpfB"
      }
    },
    {
      "cell_type": "code",
      "execution_count": null,
      "metadata": {
        "id": "P0BiCztCKdp4"
      },
      "outputs": [],
      "source": [
        "b_list.insert(1, \"red\")\n",
        "b_list"
      ]
    },
    {
      "cell_type": "markdown",
      "source": [
        " The inverse operation to insert is pop, which removes and returns an element at a\n",
        " particular index:"
      ],
      "metadata": {
        "id": "RLsibK4-YyIf"
      }
    },
    {
      "cell_type": "code",
      "execution_count": null,
      "metadata": {
        "id": "bXWRF606Kdp4"
      },
      "outputs": [],
      "source": [
        "b_list.pop(2)\n",
        "b_list"
      ]
    },
    {
      "cell_type": "markdown",
      "source": [
        " Elements can be removed by value with remove, which locates the first such value and\n",
        " removes it from the list:"
      ],
      "metadata": {
        "id": "qNX1qTtLY5Y3"
      }
    },
    {
      "cell_type": "code",
      "execution_count": null,
      "metadata": {
        "id": "Hbk9e7rwKdp4"
      },
      "outputs": [],
      "source": [
        "b_list.append(\"foo\")\n",
        "b_list\n",
        "b_list.remove(\"foo\")\n",
        "b_list"
      ]
    },
    {
      "cell_type": "markdown",
      "source": [
        " Check if a list contains a value using the in keyword:"
      ],
      "metadata": {
        "id": "L7_wSRj3ZFjq"
      }
    },
    {
      "cell_type": "code",
      "execution_count": null,
      "metadata": {
        "id": "DKRLY-JWKdp4"
      },
      "outputs": [],
      "source": [
        "\"dwarf\" in b_list"
      ]
    },
    {
      "cell_type": "code",
      "execution_count": null,
      "metadata": {
        "id": "lIIcCgGIKdp5"
      },
      "outputs": [],
      "source": [
        "\"dwarf\" not in b_list"
      ]
    },
    {
      "cell_type": "markdown",
      "source": [
        "Note: Checking whether a list contains a value is a lot slower than doing so with diction\n",
        "aries and sets (to be introduced shortly), as Python makes a linear scan across the\n",
        " values of the list, whereas it can check the others (based on hash tables) in constant\n",
        " time."
      ],
      "metadata": {
        "id": "pqoPcIRmZKgS"
      }
    },
    {
      "cell_type": "markdown",
      "source": [
        "## Concatenating and combining lists\n",
        " Similar to tuples, adding two lists together with + concatenates them:"
      ],
      "metadata": {
        "id": "1n2VPTOVaqMs"
      }
    },
    {
      "cell_type": "code",
      "execution_count": null,
      "metadata": {
        "id": "nM1_aU8FKdp5"
      },
      "outputs": [],
      "source": [
        "[4, None, \"foo\"] + [7, 8, (2, 3)]"
      ]
    },
    {
      "cell_type": "markdown",
      "source": [
        "If you have a list already defined, you can append multiple elements to it using the\n",
        " extend method:"
      ],
      "metadata": {
        "id": "nVONxgGqav9F"
      }
    },
    {
      "cell_type": "code",
      "execution_count": null,
      "metadata": {
        "id": "YFf0mGxZKdp5"
      },
      "outputs": [],
      "source": [
        "x = [4, None, \"foo\"]\n",
        "x.extend([7, 8, (2, 3)])\n",
        "x"
      ]
    },
    {
      "cell_type": "markdown",
      "source": [
        " Note that list concatenation by addition is a comparatively expensive operation since\n",
        " a new list must be created and the objects copied over. Using extend to append\n",
        " elements to an existing list, especially if you are building up a large list, is usually\n",
        " preferable. Thus:\n",
        " ```\n",
        " everything = []\n",
        " for chunk in list_of_lists:\n",
        "    everything.extend(chunk)\n",
        " ```\n",
        " is faster than the concatenative alternative:\n",
        " ```\n",
        " everything = []\n",
        " for chunk in list_of_lists:\n",
        "    everything = everything + chunk\n",
        " ```"
      ],
      "metadata": {
        "id": "LMbC7jNIaxml"
      }
    },
    {
      "cell_type": "markdown",
      "source": [
        " ## Sorting\n",
        " You can sort a list in place (without creating a new object) by calling its sort\n",
        " function:"
      ],
      "metadata": {
        "id": "xanWN5IUbBco"
      }
    },
    {
      "cell_type": "code",
      "execution_count": null,
      "metadata": {
        "id": "r7zGuxV8Kdp5"
      },
      "outputs": [],
      "source": [
        "a = [7, 2, 5, 1, 3]\n",
        "a.sort()\n",
        "a"
      ]
    },
    {
      "cell_type": "markdown",
      "source": [
        "sort has a few options that will occasionally come in handy. One is the ability to\n",
        " pass a secondary sort key—that is, a function that produces a value to use to sort the\n",
        " objects. For example, we could sort a collection of strings by their lengths:"
      ],
      "metadata": {
        "id": "zyrXqzAca80w"
      }
    },
    {
      "cell_type": "code",
      "execution_count": null,
      "metadata": {
        "id": "_VBngEAnKdp5"
      },
      "outputs": [],
      "source": [
        "b = [\"saw\", \"small\", \"He\", \"foxes\", \"six\"]\n",
        "b.sort(key=len)\n",
        "b"
      ]
    },
    {
      "cell_type": "markdown",
      "source": [
        " ## Slicing\n",
        " You can select sections of most sequence types by using slice notation, which in its\n",
        " basic form consists of start:stop passed to the indexing operator []:"
      ],
      "metadata": {
        "id": "_0yN2s0Id5js"
      }
    },
    {
      "cell_type": "code",
      "execution_count": null,
      "metadata": {
        "id": "TyYgxPGLKdp5"
      },
      "outputs": [],
      "source": [
        "seq = [7, 2, 3, 7, 5, 6, 0, 1]\n",
        "seq[1:5]"
      ]
    },
    {
      "cell_type": "markdown",
      "source": [
        " Slices can also be assigned with a sequence:"
      ],
      "metadata": {
        "id": "0UaCkQ3Md-k9"
      }
    },
    {
      "cell_type": "code",
      "execution_count": null,
      "metadata": {
        "id": "ROEa3ZGHKdp6"
      },
      "outputs": [],
      "source": [
        "seq[3:5] = [6, 3]\n",
        "seq"
      ]
    },
    {
      "cell_type": "markdown",
      "source": [
        " While the element at the start index is included, the stop index is not included, so\n",
        " that the number of elements in the result is stop - start.\n",
        " Either the start or stop can be omitted, in which case they default to the start of the\n",
        " sequence and the end of the sequence, respectively:"
      ],
      "metadata": {
        "id": "_bum25boeIml"
      }
    },
    {
      "cell_type": "code",
      "execution_count": null,
      "metadata": {
        "id": "eHrV5wNcKdp6"
      },
      "outputs": [],
      "source": [
        "seq[:5]\n",
        "seq[3:]"
      ]
    },
    {
      "cell_type": "markdown",
      "source": [
        " Negative indices slice the sequence relative to the end:"
      ],
      "metadata": {
        "id": "x5NbXQaBeTyW"
      }
    },
    {
      "cell_type": "code",
      "execution_count": null,
      "metadata": {
        "id": "p4o2_fX5Kdp6"
      },
      "outputs": [],
      "source": [
        "seq[-4:]\n",
        "seq[-6:-2]"
      ]
    },
    {
      "cell_type": "markdown",
      "source": [
        " A step can also be used after a second colon to, say, take every other element:"
      ],
      "metadata": {
        "id": "fKw6_ENHeg2L"
      }
    },
    {
      "cell_type": "code",
      "execution_count": null,
      "metadata": {
        "id": "1u-wHGT6Kdp6"
      },
      "outputs": [],
      "source": [
        "seq[::2]"
      ]
    },
    {
      "cell_type": "markdown",
      "source": [
        " With a clever trick we can reverse a list using slicing syntax"
      ],
      "metadata": {
        "id": "c_7LVrIaekYr"
      }
    },
    {
      "cell_type": "code",
      "execution_count": null,
      "metadata": {
        "id": "1rPXq-h9Kdp7"
      },
      "outputs": [],
      "source": [
        "# reverse seq"
      ]
    },
    {
      "cell_type": "markdown",
      "source": [
        "# Exercise 2: Shopping Cart\n",
        "\n",
        "- The program allows users to add, remove, view, and sort items in a shopping cart.\n",
        "It covers concepts like concatenation, sorting, slicing, adding, and removing elements.\n",
        "- Part 1 Provides a foundation for the shopping cart and basic functionality. This has been done for you\n",
        "- Implement Part 2"
      ],
      "metadata": {
        "id": "AqxOyuZiey_e"
      }
    },
    {
      "cell_type": "code",
      "source": [
        "# Shopping Cart Application\n",
        "\n",
        "def view_cart(cart):\n",
        "    \"\"\"\n",
        "    Displays the items in the shopping cart.\n",
        "\n",
        "    Args:\n",
        "        cart (list): The current shopping cart.\n",
        "    \"\"\"\n",
        "    if not cart:\n",
        "        print(\"Your shopping cart is empty.\")\n",
        "        return\n",
        "    print(\"Your shopping cart contains:\")\n",
        "    for i, item in enumerate(cart, start=1):\n",
        "        print(f\"{i}. {item}\")\n",
        "\n",
        "def add_item(cart, item):\n",
        "    \"\"\"\n",
        "    Adds an item to the shopping cart.\n",
        "\n",
        "    Args:\n",
        "        cart (list): The current shopping cart.\n",
        "        item (str): The item to add.\n",
        "\n",
        "    Returns:\n",
        "        list: Updated cart.\n",
        "    \"\"\"\n",
        "    cart.append(item)\n",
        "    print(f\"Added {item} to your cart.\")\n",
        "    return cart\n",
        "\n",
        "def remove_item(cart, item):\n",
        "    \"\"\"\n",
        "    Removes an item from the shopping cart.\n",
        "\n",
        "    Args:\n",
        "        cart (list): The current shopping cart.\n",
        "        item (str): The item to remove.\n",
        "\n",
        "    Returns:\n",
        "        list: Updated cart.\n",
        "    \"\"\"\n",
        "    if item in cart:\n",
        "        cart.remove(item)\n",
        "        print(f\"Removed {item} from your cart.\")\n",
        "    else:\n",
        "        print(f\"{item} is not in your cart.\")\n",
        "    return cart\n",
        "\n",
        "# Initial test\n",
        "cart = []\n",
        "cart = add_item(cart, \"Apples\")\n",
        "cart = add_item(cart, \"Bananas\")\n",
        "cart = remove_item(cart, \"Apples\")\n",
        "view_cart(cart)\n",
        "\n",
        "# Assertions for testing\n",
        "assert cart == [\"Bananas\"]\n"
      ],
      "metadata": {
        "id": "BtQxJwRIfPZv"
      },
      "execution_count": null,
      "outputs": []
    },
    {
      "cell_type": "code",
      "source": [
        "def concatenate_carts(cart1, cart2):\n",
        "    \"\"\"\n",
        "    Combines two shopping carts into one.\n",
        "\n",
        "    Args:\n",
        "        cart1 (list): The first shopping cart.\n",
        "        cart2 (list): The second shopping cart.\n",
        "\n",
        "    Returns:\n",
        "        list: Combined cart.\n",
        "    \"\"\"\n",
        "    # TODO: Implement this function\n",
        "    pass\n",
        "\n",
        "def sort_cart(cart):\n",
        "    \"\"\"\n",
        "    Sorts the shopping cart alphabetically.\n",
        "\n",
        "    Args:\n",
        "        cart (list): The current shopping cart.\n",
        "\n",
        "    Returns:\n",
        "        list: Sorted cart.\n",
        "    \"\"\"\n",
        "    # TODO: Implement this function\n",
        "    pass\n",
        "\n",
        "def slice_cart(cart, start, end):\n",
        "    \"\"\"\n",
        "    Returns a slice of the shopping cart.\n",
        "\n",
        "    Args:\n",
        "        cart (list): The current shopping cart.\n",
        "        start (int): The starting index of the slice.\n",
        "        end (int): The ending index of the slice.\n",
        "\n",
        "    Returns:\n",
        "        list: Sliced cart.\n",
        "    \"\"\"\n",
        "    # TODO: Implement this function\n",
        "    pass\n",
        "\n",
        "# Part 2 Test Cases\n",
        "# Concatenation\n",
        "cart1 = [\"Oranges\", \"Milk\"]\n",
        "cart2 = [\"Eggs\", \"Bread\"]\n",
        "combined_cart = concatenate_carts(cart1, cart2)\n",
        "assert combined_cart == [\"Oranges\", \"Milk\", \"Eggs\", \"Bread\"]\n",
        "\n",
        "# Sorting\n",
        "sorted_cart = sort_cart(combined_cart)\n",
        "assert sorted_cart == [\"Bread\", \"Eggs\", \"Milk\", \"Oranges\"]\n",
        "\n",
        "# Slicing\n",
        "cart_slice = slice_cart(combined_cart, 1, 3)\n",
        "assert cart_slice == [\"Milk\", \"Eggs\"]\n"
      ],
      "metadata": {
        "id": "EgarWN1kfQ1E"
      },
      "execution_count": null,
      "outputs": []
    },
    {
      "cell_type": "markdown",
      "source": [
        "#  Dictionary\n",
        " The dictionary or dict may be the most important built-in Python data structure.\n",
        " In other programming languages, dictionaries are sometimes called hash maps or\n",
        " associative arrays. A dictionary stores a collection of key-value pairs, where key and\n",
        " value are Python objects. Each key is associated with a value so that a value can\n",
        " be conveniently retrieved, inserted, modified, or deleted given a particular key. One\n",
        " approach for creating a dictionary is to use curly braces {} and colons to separate\n",
        " keys and values:"
      ],
      "metadata": {
        "id": "6aIJyph4fcNI"
      }
    },
    {
      "cell_type": "code",
      "execution_count": null,
      "metadata": {
        "id": "yMv-j8osKdp7"
      },
      "outputs": [],
      "source": [
        "empty_dict = {}\n",
        "d1 = {\"a\": \"some value\", \"b\": [1, 2, 3, 4]}\n",
        "d1"
      ]
    },
    {
      "cell_type": "markdown",
      "source": [
        " You can access, insert, or set elements using the same syntax as for accessing elements\n",
        " of a list or tuple:"
      ],
      "metadata": {
        "id": "lhznD4V3fpFP"
      }
    },
    {
      "cell_type": "code",
      "execution_count": null,
      "metadata": {
        "id": "iZpu1q2FKdp7"
      },
      "outputs": [],
      "source": [
        "d1[7] = \"an integer\"\n",
        "d1\n",
        "d1[\"b\"]"
      ]
    },
    {
      "cell_type": "markdown",
      "source": [
        "You can check if a dictionary contains a key using the same syntax used for checking\n",
        " whether a list or tuple contains a value:"
      ],
      "metadata": {
        "id": "AHphQhHTfs3a"
      }
    },
    {
      "cell_type": "code",
      "execution_count": null,
      "metadata": {
        "id": "fuRdetDnKdp7"
      },
      "outputs": [],
      "source": [
        "\"b\" in d1"
      ]
    },
    {
      "cell_type": "markdown",
      "source": [
        "You can delete values using either the del keyword or the pop method (which\n",
        " simultaneously returns the value and deletes the key):"
      ],
      "metadata": {
        "id": "-Fe8reZ3fw2S"
      }
    },
    {
      "cell_type": "code",
      "execution_count": null,
      "metadata": {
        "id": "PJzMAWjlKdp7"
      },
      "outputs": [],
      "source": [
        "d1[5] = \"some value\"\n",
        "d1\n",
        "d1[\"dummy\"] = \"another value\"\n",
        "d1\n",
        "del d1[5]\n",
        "d1\n",
        "ret = d1.pop(\"dummy\")\n",
        "ret\n",
        "d1"
      ]
    },
    {
      "cell_type": "markdown",
      "source": [
        "The keys and values method gives you iterators of the dictionary’s keys and values,\n",
        " respectively. The order of the keys depends on the order of their insertion, and these\n",
        " functions output the keys and values in the same respective order:"
      ],
      "metadata": {
        "id": "rB25kcM7f2bQ"
      }
    },
    {
      "cell_type": "code",
      "execution_count": null,
      "metadata": {
        "id": "MQzADQPvKdp7"
      },
      "outputs": [],
      "source": [
        "list(d1.keys())\n",
        "list(d1.values())"
      ]
    },
    {
      "cell_type": "markdown",
      "source": [
        "If you need to iterate over both the keys and values, you can use the items method to\n",
        " iterate over the keys and values as 2-tuples:"
      ],
      "metadata": {
        "id": "MEuWWExNf7Ok"
      }
    },
    {
      "cell_type": "code",
      "execution_count": null,
      "metadata": {
        "id": "MHS7s2SmKdp7"
      },
      "outputs": [],
      "source": [
        "list(d1.items())"
      ]
    },
    {
      "cell_type": "markdown",
      "source": [
        " You can merge one dictionary into another using the update method:\n"
      ],
      "metadata": {
        "id": "jvGKMnL1gdte"
      }
    },
    {
      "cell_type": "code",
      "execution_count": null,
      "metadata": {
        "id": "0Qu8c3aoKdp7"
      },
      "outputs": [],
      "source": [
        "d1.update({\"b\": \"foo\", \"c\": 12})\n",
        "d1"
      ]
    },
    {
      "cell_type": "markdown",
      "source": [
        "The update method changes dictionaries in place, so any existing keys in the data\n",
        " passed to update will have their old values discarded"
      ],
      "metadata": {
        "id": "QOUXqmUsghV1"
      }
    },
    {
      "cell_type": "markdown",
      "source": [
        "##  Creating dictionaries from sequences\n",
        " It’s common to occasionally end up with two sequences that you want to pair up\n",
        " element-wise in a dictionary. As a first cut, you might write code like this:\n",
        " ```\n",
        " mapping = {}\n",
        " for key, value in zip(key_list, value_list):\n",
        "    mapping[key] = value\n",
        " ```\n",
        " Since a dictionary is essentially a collection of 2-tuples, the dict function accepts a\n",
        " list of 2-tuples:"
      ],
      "metadata": {
        "id": "a8XAmrfigvJS"
      }
    },
    {
      "cell_type": "code",
      "execution_count": null,
      "metadata": {
        "id": "k-dJidSXKdp7"
      },
      "outputs": [],
      "source": [
        "tuples = zip(range(5), reversed(range(5)))\n",
        "tuples\n",
        "mapping = dict(tuples)\n",
        "mapping"
      ]
    },
    {
      "cell_type": "markdown",
      "source": [
        "##  Default values\n",
        "It’s common to have logic like:\n",
        "```\n",
        " if key in some_dict:\n",
        "    value = some_dict[key]\n",
        " else:\n",
        "    value = default_value\n",
        " ```\n",
        "Thus, the dictionary methods get and pop can take a default value to be returned, so\n",
        " that the above if-else block can be written simply as:\n",
        " value = some_dict.get(key, default_value)\n",
        " get by default will return None if the key is not present, while pop will raise an\n",
        " exception. With setting values, it may be that the values in a dictionary are another\n",
        " kind of collection, like a list. For example, you could imagine categorizing a list of\n",
        " words by their first letters as a dictionary of lists"
      ],
      "metadata": {
        "id": "-8gmZddKhBrg"
      }
    },
    {
      "cell_type": "code",
      "execution_count": null,
      "metadata": {
        "id": "apVXRN73Kdp7"
      },
      "outputs": [],
      "source": [
        "words = [\"apple\", \"bat\", \"bar\", \"atom\", \"book\"]\n",
        "by_letter = {}\n",
        "\n",
        "for word in words:\n",
        "    letter = word[0]\n",
        "    if letter not in by_letter:\n",
        "        by_letter[letter] = [word]\n",
        "    else:\n",
        "        by_letter[letter].append(word)\n",
        "\n",
        "by_letter"
      ]
    },
    {
      "cell_type": "markdown",
      "source": [
        " The `setdefault` dictionary method can be used to simplify this workflow. The\n",
        " preceding for loop can be rewritten as:"
      ],
      "metadata": {
        "id": "c1VlxHFLhb3m"
      }
    },
    {
      "cell_type": "code",
      "execution_count": null,
      "metadata": {
        "id": "YAOEMEwZKdp7"
      },
      "outputs": [],
      "source": [
        "by_letter = {}\n",
        "for word in words:\n",
        "    letter = word[0]\n",
        "    by_letter.setdefault(letter, []).append(word)\n",
        "by_letter"
      ]
    },
    {
      "cell_type": "markdown",
      "source": [
        "The built-in collections module has a useful class, defaultdict, which makes this\n",
        " even easier. To create one, you pass a type or function for generating the default value\n",
        " for each slot in the dictionary:"
      ],
      "metadata": {
        "id": "BqQM96B8hma0"
      }
    },
    {
      "cell_type": "code",
      "execution_count": null,
      "metadata": {
        "id": "wOu3m7xxKdp7"
      },
      "outputs": [],
      "source": [
        "from collections import defaultdict\n",
        "by_letter = defaultdict(list)\n",
        "for word in words:\n",
        "    by_letter[word[0]].append(word)"
      ]
    },
    {
      "cell_type": "markdown",
      "source": [
        "## Valid dictionary key types\n",
        " While the values of a dictionary can be any Python object, the keys generally have to\n",
        " be immutable objects like scalar types (int, float, string) or tuples (all the objects in\n",
        " the tuple need to be immutable, too). The technical term here is hashability. You can\n",
        " check whether an object is hashable (can be used as a key in a dictionary) with the\n",
        " hash function:"
      ],
      "metadata": {
        "id": "L1sAxqHkhrBE"
      }
    },
    {
      "cell_type": "code",
      "execution_count": null,
      "metadata": {
        "id": "V--UNmzvKdp7"
      },
      "outputs": [],
      "source": [
        "hash(\"string\")\n",
        "hash((1, 2, (2, 3)))\n",
        "hash((1, 2, [2, 3])) # fails because lists are mutable"
      ]
    },
    {
      "cell_type": "markdown",
      "source": [
        "The hash values you see when using the hash function in general will depend on the\n",
        " Python version you are using.\n",
        " To use a list as a key, one option is to convert it to a tuple, which can be hashed as\n",
        " long as its elements also can be:"
      ],
      "metadata": {
        "id": "eLY2v_u_hxxN"
      }
    },
    {
      "cell_type": "code",
      "execution_count": null,
      "metadata": {
        "id": "ZGdDpczyKdp7"
      },
      "outputs": [],
      "source": [
        "d = {}\n",
        "d[tuple([1, 2, 3])] = 5\n",
        "d"
      ]
    },
    {
      "cell_type": "markdown",
      "source": [
        "# Set\n",
        "A set is an unordered collection of unique elements. A set can be created in two ways:\n",
        " via the set function or via a set literal with curly braces:"
      ],
      "metadata": {
        "id": "Uaa3YAJQh05S"
      }
    },
    {
      "cell_type": "code",
      "execution_count": null,
      "metadata": {
        "id": "VXx8sfQOKdp8"
      },
      "outputs": [],
      "source": [
        "set([2, 2, 2, 1, 3, 3])\n",
        "{2, 2, 2, 1, 3, 3}"
      ]
    },
    {
      "cell_type": "markdown",
      "source": [
        " Sets support mathematical set operations like union, intersection, difference, and\n",
        " symmetric difference. Consider these two example sets:"
      ],
      "metadata": {
        "id": "722yy1GOh7ev"
      }
    },
    {
      "cell_type": "code",
      "execution_count": null,
      "metadata": {
        "id": "yRDr1764Kdp8"
      },
      "outputs": [],
      "source": [
        "a = {1, 2, 3, 4, 5}\n",
        "b = {3, 4, 5, 6, 7, 8}"
      ]
    },
    {
      "cell_type": "code",
      "source": [
        "The union of these two sets is the set of distinct elements occurring in either set. This\n",
        " can be computed with either the union method or the | binary operator:"
      ],
      "metadata": {
        "id": "13Cva-pFh_OH"
      },
      "execution_count": null,
      "outputs": []
    },
    {
      "cell_type": "markdown",
      "source": [
        "The union of these two sets is the set of distinct elements occurring in either set. This\n",
        " can be computed with either the union method or the | binary operator:"
      ],
      "metadata": {
        "id": "zR2njdBfiHaB"
      }
    },
    {
      "cell_type": "code",
      "execution_count": null,
      "metadata": {
        "id": "0aULjt9eKdp8"
      },
      "outputs": [],
      "source": [
        "a.union(b)\n",
        "a | b"
      ]
    },
    {
      "cell_type": "markdown",
      "source": [
        " The intersection contains the elements occurring in both sets. The & operator or the\n",
        " intersection method can be used:"
      ],
      "metadata": {
        "id": "l8lDj2ffigH1"
      }
    },
    {
      "cell_type": "code",
      "execution_count": null,
      "metadata": {
        "id": "NQxNMVVuKdp8"
      },
      "outputs": [],
      "source": [
        "a.intersection(b)\n",
        "a & b"
      ]
    },
    {
      "cell_type": "markdown",
      "source": [
        "![image.png](data:image/png;base64,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)"
      ],
      "metadata": {
        "id": "B-teebpXirjz"
      }
    },
    {
      "cell_type": "markdown",
      "source": [
        "# Built-In Sequence Functions\n",
        "Python has a handful of useful sequence functions that you should familiarize your\n",
        "self with and use at any opportunity.\n",
        "## enumerate\n",
        " It’s common when iterating over a sequence to want to keep track of the index of the\n",
        " current item. A do-it-yourself approach would look like:\n",
        " ```\n",
        " index = 0\n",
        " for value in collection:\n",
        "    # do something with value\n",
        " index += 1\n",
        " ```\n",
        " Since this is so common, Python has a built-in function, enumerate, which returns a\n",
        " sequence of (i, value) tuples:\n",
        " ```\n",
        " for index, value in enumerate(collection):\n",
        "    # do something with value\n",
        " ```"
      ],
      "metadata": {
        "id": "C-11bOZgix_s"
      }
    },
    {
      "cell_type": "markdown",
      "source": [
        " ## sorted\n",
        " The sorted function returns a new sorted list from the elements of any sequence:"
      ],
      "metadata": {
        "id": "lspzKcYYj2K7"
      }
    },
    {
      "cell_type": "code",
      "execution_count": null,
      "metadata": {
        "id": "h695g7-dKdp8"
      },
      "outputs": [],
      "source": [
        "sorted([7, 1, 2, 6, 0, 3, 2])\n",
        "sorted(\"horse race\")"
      ]
    },
    {
      "cell_type": "markdown",
      "source": [
        "## zip\n",
        " zip “pairs” up the elements of a number of lists, tuples, or other sequences to create a\n",
        " list of tuples:"
      ],
      "metadata": {
        "id": "z8gWYM9jj6DP"
      }
    },
    {
      "cell_type": "code",
      "execution_count": null,
      "metadata": {
        "id": "aq5ru6ydKdp8"
      },
      "outputs": [],
      "source": [
        "seq1 = [\"foo\", \"bar\", \"baz\"]\n",
        "seq2 = [\"one\", \"two\", \"three\"]\n",
        "zipped = zip(seq1, seq2)\n",
        "list(zipped)"
      ]
    },
    {
      "cell_type": "markdown",
      "source": [
        "zip can take an arbitrary number of sequences, and the number of elements it produces is determined by the shortest sequence:"
      ],
      "metadata": {
        "id": "PqbaRAhkj_mO"
      }
    },
    {
      "cell_type": "code",
      "execution_count": null,
      "metadata": {
        "id": "wUg6mYahKdp8"
      },
      "outputs": [],
      "source": [
        "seq3 = [False, True]\n",
        "list(zip(seq1, seq2, seq3))"
      ]
    },
    {
      "cell_type": "markdown",
      "source": [
        " A common use of zip is simultaneously iterating over multiple sequences, possibly\n",
        " also combined with enumerate:"
      ],
      "metadata": {
        "id": "_Uz4wGglkEg8"
      }
    },
    {
      "cell_type": "code",
      "execution_count": null,
      "metadata": {
        "id": "omkVOCyhKdp8"
      },
      "outputs": [],
      "source": [
        "for index, (a, b) in enumerate(zip(seq1, seq2)):\n",
        "    print(f\"{index}: {a}, {b}\")\n"
      ]
    },
    {
      "cell_type": "markdown",
      "source": [
        " ## reversed\n",
        " reversed iterates over the elements of a sequence in reverse order:"
      ],
      "metadata": {
        "id": "h_29sx0ckIpU"
      }
    },
    {
      "cell_type": "code",
      "execution_count": null,
      "metadata": {
        "id": "gLdwPC1SKdp8"
      },
      "outputs": [],
      "source": [
        "list(reversed(range(10)))"
      ]
    },
    {
      "cell_type": "markdown",
      "source": [
        "Keep in mind that reversed is a generator (to be discussed in some more detail later),\n",
        " so it does not create the reversed sequence until materialized (e.g., with list or a for\n",
        " loop)."
      ],
      "metadata": {
        "id": "9o3N_o_5kQgW"
      }
    },
    {
      "cell_type": "markdown",
      "source": [
        "# List, Set, and Dictionary Comprehensions\n",
        " List comprehensions are a convenient and widely used Python language feature. They\n",
        " allow you to concisely form a new list by filtering the elements of a collection,\n",
        " transforming the elements passing the filter into one concise expression. They take\n",
        " the basic form:\n",
        " ```\n",
        " [expr for value in collection if condition]\n",
        " ```\n",
        " This is equivalent to the following for loop:\n",
        " ```\n",
        " result = []\n",
        " for value in collection:\n",
        "    if condition:\n",
        "        result.append(expr)\n",
        " ```\n",
        " The filter condition can be omitted, leaving only the expression. For example, given\n",
        " a list of strings, we could filter out strings with length 2 or less and convert them to uppercase like this:"
      ],
      "metadata": {
        "id": "vUukPrtjqUHU"
      }
    },
    {
      "cell_type": "code",
      "execution_count": null,
      "metadata": {
        "id": "1EQUBTY9Kdp8"
      },
      "outputs": [],
      "source": [
        "strings = [\"a\", \"as\", \"bat\", \"car\", \"dove\", \"python\"]\n",
        "[x.upper() for x in strings if len(x) > 2]"
      ]
    },
    {
      "cell_type": "markdown",
      "source": [
        "Set and dictionary comprehensions are a natural extension, producing sets and dic\n",
        "tionaries in an idiomatically similar way instead of lists.\n",
        "A dictionary comprehension looks like this:\n",
        "```\n",
        " dict_comp = {key-expr: value-expr for value in collection if condition}\n",
        "```\n",
        " A set comprehension looks like the equivalent list comprehension except with curly\n",
        " braces instead of square brackets:\n",
        " ```\n",
        " set_comp = {expr for value in collection if condition}\n",
        " ```\n",
        " Like list comprehensions, set and dictionary comprehensions are mostly convenien\n",
        "ces, but they similarly can make code both easier to write and read. Consider the\n",
        " list of strings from before. Suppose we wanted a set containing just the lengths of\n",
        " the strings contained in the collection; we could easily compute this using a set\n",
        " comprehension:"
      ],
      "metadata": {
        "id": "WcHOmf01qptA"
      }
    },
    {
      "cell_type": "code",
      "execution_count": null,
      "metadata": {
        "id": "Kgthdt-dKdp8"
      },
      "outputs": [],
      "source": [
        "unique_lengths = {len(x) for x in strings}\n",
        "unique_lengths"
      ]
    },
    {
      "cell_type": "markdown",
      "source": [
        " We could also express this more functionally using the map function, introduced\n",
        " shortly:"
      ],
      "metadata": {
        "id": "6JGI23e3rOkl"
      }
    },
    {
      "cell_type": "code",
      "execution_count": null,
      "metadata": {
        "id": "_JoiXaqpKdp8"
      },
      "outputs": [],
      "source": [
        "set(map(len, strings))"
      ]
    },
    {
      "cell_type": "markdown",
      "source": [
        "As a simple dictionary comprehension example, we could create a lookup map of\n",
        " these strings for their locations in the list:"
      ],
      "metadata": {
        "id": "UjVe-ppprS_W"
      }
    },
    {
      "cell_type": "code",
      "execution_count": null,
      "metadata": {
        "id": "f8NfH0sVKdp9"
      },
      "outputs": [],
      "source": [
        "loc_mapping = {value: index for index, value in enumerate(strings)}\n",
        "loc_mapping"
      ]
    },
    {
      "cell_type": "markdown",
      "source": [
        "##  Nested list comprehensions\n",
        " Suppose we have a list of lists containing some English and Spanish names:\n"
      ],
      "metadata": {
        "id": "iApZph7jrWcK"
      }
    },
    {
      "cell_type": "code",
      "execution_count": null,
      "metadata": {
        "id": "TP_KMhsrKdp9"
      },
      "outputs": [],
      "source": [
        "all_data = [[\"John\", \"Emily\", \"Michael\", \"Mary\", \"Steven\"],\n",
        "            [\"Maria\", \"Juan\", \"Javier\", \"Natalia\", \"Pilar\"]]"
      ]
    },
    {
      "cell_type": "markdown",
      "source": [
        " Suppose we wanted to get a single list containing all names with two or more a’s in\n",
        " them. We could certainly do this with a simple for loop:"
      ],
      "metadata": {
        "id": "D8PDHmU_rc9h"
      }
    },
    {
      "cell_type": "code",
      "execution_count": null,
      "metadata": {
        "id": "aZStPd_fKdp9"
      },
      "outputs": [],
      "source": [
        "names_of_interest = []\n",
        "for names in all_data:\n",
        "    enough_as = [name for name in names if name.count(\"a\") >= 2]\n",
        "    names_of_interest.extend(enough_as)\n",
        "names_of_interest"
      ]
    },
    {
      "cell_type": "markdown",
      "source": [
        "You can actually wrap this whole operation up in a single nested list comprehension,\n",
        " which will look like:"
      ],
      "metadata": {
        "id": "0w5PdRg9rhbt"
      }
    },
    {
      "cell_type": "code",
      "execution_count": null,
      "metadata": {
        "id": "4sa0c1TgKdp9"
      },
      "outputs": [],
      "source": [
        "result = [name for names in all_data for name in names\n",
        "          if name.count(\"a\") >= 2]\n",
        "result"
      ]
    },
    {
      "cell_type": "markdown",
      "source": [
        " At first, nested list comprehensions are a bit hard to wrap your head around. The for\n",
        " parts of the list comprehension are arranged according to the order of nesting, and\n",
        " any filter condition is put at the end as before. Here is another example where we\n",
        " “flatten” a list of tuples of integers into a simple list of integers:"
      ],
      "metadata": {
        "id": "U18WId7lrmpR"
      }
    },
    {
      "cell_type": "code",
      "execution_count": null,
      "metadata": {
        "id": "Kybc0RYEKdp9"
      },
      "outputs": [],
      "source": [
        "some_tuples = [(1, 2, 3), (4, 5, 6), (7, 8, 9)]\n",
        "flattened = [x for tup in some_tuples for x in tup]\n",
        "flattened"
      ]
    },
    {
      "cell_type": "markdown",
      "source": [
        "Keep in mind that the order of the for expressions would be the same if you wrote a nested for loop instead of a list comprehension:"
      ],
      "metadata": {
        "id": "MwwUP3iCrrGW"
      }
    },
    {
      "cell_type": "code",
      "execution_count": null,
      "metadata": {
        "id": "JzhsMP7AKdp9"
      },
      "outputs": [],
      "source": [
        "flattened = []\n",
        "\n",
        "for tup in some_tuples:\n",
        "    for x in tup:\n",
        "        flattened.append(x)"
      ]
    },
    {
      "cell_type": "markdown",
      "source": [
        " You can have arbitrarily many levels of nesting, though if you have more than two\n",
        " or three levels of nesting, you should probably start to question whether this makes\n",
        " sense from a code readability standpoint. It’s important to distinguish the syntax just\n",
        " shown from a list comprehension inside a list comprehension, which is also perfectly\n",
        " valid:"
      ],
      "metadata": {
        "id": "tZPLQbkHrwD8"
      }
    },
    {
      "cell_type": "code",
      "execution_count": null,
      "metadata": {
        "id": "nWYKk5X6Kdp9"
      },
      "outputs": [],
      "source": [
        "[[x for x in tup] for tup in some_tuples]"
      ]
    },
    {
      "cell_type": "markdown",
      "source": [
        "##  Namespaces, Scope, and Local Functions\n",
        " Functions can access variables created inside the function as well as those outside\n",
        " the function in higher (or even global) scopes. An alternative and more descriptive\n",
        " name describing a variable scope in Python is a namespace. Any variables that are\n",
        " assigned within a function by default are assigned to the local namespace. The local\n",
        " namespace is created when the function is called and is immediately populated by the\n",
        " function’s arguments. After the function is finished, the local namespace is destroyed\n",
        " (with some exceptions that are outside the purview of this chapter). Consider the\n",
        " following function:\n",
        "```\n",
        "def func():\n",
        "  a = []\n",
        "  for i in range(5):\n",
        "      a.append(i)\n",
        " ```\n",
        "  When func() is called, the empty list a is created, five elements are appended, and\n",
        " then a is destroyed when the function exits. Suppose instead we had declared a as\n",
        " follows:"
      ],
      "metadata": {
        "id": "p0KILJz0r7AP"
      }
    },
    {
      "cell_type": "code",
      "execution_count": null,
      "metadata": {
        "id": "HhI2PVLPKdp-"
      },
      "outputs": [],
      "source": [
        "a = []\n",
        "def func():\n",
        "    for i in range(5):\n",
        "        a.append(i)"
      ]
    },
    {
      "cell_type": "markdown",
      "source": [
        " Each call to func will modify list a:"
      ],
      "metadata": {
        "id": "RBLOTuLOtWRS"
      }
    },
    {
      "cell_type": "code",
      "execution_count": null,
      "metadata": {
        "id": "LHTZtZ4gKdp-"
      },
      "outputs": [],
      "source": [
        "func()\n",
        "a\n",
        "func()\n",
        "a"
      ]
    },
    {
      "cell_type": "markdown",
      "source": [
        " Assigning variables outside of the function’s scope is possible, but those variables\n",
        " must be declared explicitly using either the global or nonlocal keywords:"
      ],
      "metadata": {
        "id": "Q5Y4UVnGtaUu"
      }
    },
    {
      "cell_type": "code",
      "execution_count": null,
      "metadata": {
        "id": "7vfGN-oaKdp-"
      },
      "outputs": [],
      "source": [
        "a = None\n",
        "def bind_a_variable():\n",
        "    global a\n",
        "    a = []\n",
        "bind_a_variable()\n",
        "print(a)"
      ]
    },
    {
      "cell_type": "markdown",
      "source": [
        " Returning Multiple Values\n",
        " One of the amazing features of Python is the ability to return multiple values from a function with simple syntax. Here’s an example:\n",
        " ```\n",
        " def f():\n",
        "    a = 5\n",
        "    b = 6\n",
        "    c = 7\n",
        "    return a, b, c\n",
        " a, b, c = f()\n",
        " ```\n",
        " In data analysis and other scientific applications, you may find yourself doing this\n",
        " often. What’s happening here is that the function is actually just returning one object,\n",
        " a tuple, which is then being unpacked into the result variables. In the preceding\n",
        " example, we could have done this instead:\n",
        " ```\n",
        " return_value = f()\n",
        " ```\n",
        " In this case, return_value would be a 3-tuple with the three returned variables. A\n",
        " potentially attractive alternative to returning multiple values like before might be to\n",
        " return a dictionary instead:\n",
        " ```\n",
        " def f():\n",
        "    a = 5\n",
        "    b = 6\n",
        "    c = 7\n",
        "    return {\"a\" : a, \"b\" : b, \"c\" : c}\n",
        " ```\n",
        " This alternative technique can be useful depending on what you are trying to do."
      ],
      "metadata": {
        "id": "ZJ1O-Z-vtjvb"
      }
    },
    {
      "cell_type": "markdown",
      "source": [
        "## Functions Are Objects\n",
        " Since Python functions are objects, many constructs can be easily expressed that are\n",
        " difficult to do in other languages. Suppose we were doing some data cleaning and\n",
        " needed to apply a bunch of transformations to the following list of strings:"
      ],
      "metadata": {
        "id": "axDTEN-XuKJ7"
      }
    },
    {
      "cell_type": "code",
      "execution_count": null,
      "metadata": {
        "id": "PLJbYVicKdp-"
      },
      "outputs": [],
      "source": [
        "states = [\"   Alabama \", \"Georgia!\", \"Georgia\", \"georgia\", \"FlOrIda\",\n",
        "          \"south   carolina##\", \"West virginia?\"]"
      ]
    },
    {
      "cell_type": "markdown",
      "source": [
        " Anyone who has ever worked with user-submitted survey data has seen messy results\n",
        " like these. Lots of things need to happen to make this list of strings uniform and\n",
        " ready for analysis: stripping whitespace, removing punctuation symbols, and stand\n",
        "ardizing proper capitalization. One way to do this is to use built-in string methods\n",
        " along with the re standard library module for regular expressions:"
      ],
      "metadata": {
        "id": "83L_nhffuPv-"
      }
    },
    {
      "cell_type": "code",
      "execution_count": null,
      "metadata": {
        "id": "mIFvkNQMKdp-"
      },
      "outputs": [],
      "source": [
        "import re\n",
        "\n",
        "def clean_strings(strings):\n",
        "    result = []\n",
        "    for value in strings:\n",
        "        value = value.strip()\n",
        "        value = re.sub(\"[!#?]\", \"\", value)\n",
        "        value = value.title()\n",
        "        result.append(value)\n",
        "    return result"
      ]
    },
    {
      "cell_type": "code",
      "execution_count": null,
      "metadata": {
        "id": "POUjpP7pKdp_"
      },
      "outputs": [],
      "source": [
        "clean_strings(states)"
      ]
    },
    {
      "cell_type": "markdown",
      "source": [
        " An alternative approach that you may find useful is to make a list of the operations\n",
        " you want to apply to a particular set of strings"
      ],
      "metadata": {
        "id": "GBex5i41uWhx"
      }
    },
    {
      "cell_type": "code",
      "execution_count": null,
      "metadata": {
        "id": "37uMcUS5Kdp_"
      },
      "outputs": [],
      "source": [
        "def remove_punctuation(value):\n",
        "    return re.sub(\"[!#?]\", \"\", value)\n",
        "\n",
        "clean_ops = [str.strip, remove_punctuation, str.title]\n",
        "\n",
        "def clean_strings(strings, ops):\n",
        "    result = []\n",
        "    for value in strings:\n",
        "        for func in ops:\n",
        "            value = func(value)\n",
        "        result.append(value)\n",
        "    return result"
      ]
    },
    {
      "cell_type": "code",
      "execution_count": null,
      "metadata": {
        "id": "DfUXmd-xKdp_"
      },
      "outputs": [],
      "source": [
        "clean_strings(states, clean_ops)"
      ]
    },
    {
      "cell_type": "markdown",
      "source": [
        " A more functional pattern like this enables you to easily modify how the strings\n",
        " are transformed at a very high level. The clean_strings function is also now more\n",
        " reusable and generic.\n",
        " You can use functions as arguments to other functions like the built-in map function,\n",
        " which applies a function to a sequence of some kind:"
      ],
      "metadata": {
        "id": "5L3rQv0_uk39"
      }
    },
    {
      "cell_type": "code",
      "execution_count": null,
      "metadata": {
        "id": "XFjrbjzMKdp_"
      },
      "outputs": [],
      "source": [
        "for x in map(remove_punctuation, states):\n",
        "    print(x)"
      ]
    },
    {
      "cell_type": "markdown",
      "source": [
        "#  Anonymous (Lambda) Functions\n",
        " Python has support for so-called anonymous or lambda functions, which are a way\n",
        " of writing functions consisting of a single statement, the result of which is the return\n",
        " value. They are defined with the lambda keyword, which has no meaning other than\n",
        " “we are declaring an anonymous function”:"
      ],
      "metadata": {
        "id": "jKtr18uDuobA"
      }
    },
    {
      "cell_type": "code",
      "execution_count": null,
      "metadata": {
        "id": "sxxd7aAjKdp_"
      },
      "outputs": [],
      "source": [
        "def short_function(x):\n",
        "    return x * 2\n",
        "\n",
        "equiv_anon = lambda x: x * 2"
      ]
    },
    {
      "cell_type": "markdown",
      "source": [
        " I usually refer to these as lambda functions in the rest of the book. They are especially\n",
        " convenient in data analysis because, as you’ll see, there are many cases where data\n",
        " transformation functions will take functions as arguments. It’s often less typing (and\n",
        " clearer) to pass a lambda function as opposed to writing a full-out function declara\n",
        "tion or even assigning the lambda function to a local variable. Consider this example:"
      ],
      "metadata": {
        "id": "2rLkvqfuuzNy"
      }
    },
    {
      "cell_type": "code",
      "execution_count": null,
      "metadata": {
        "id": "h083mZXOKdp_"
      },
      "outputs": [],
      "source": [
        "def apply_to_list(some_list, f):\n",
        "    return [f(x) for x in some_list]\n",
        "\n",
        "ints = [4, 0, 1, 5, 6]\n",
        "apply_to_list(ints, lambda x: x * 2)"
      ]
    },
    {
      "cell_type": "markdown",
      "source": [
        " You could also have written `[x * 2 for x in ints]`, but here we were able to\n",
        " succinctly pass a custom operator to the apply_to_list function.\n",
        " As another example, suppose you wanted to sort a collection of strings by the number\n",
        " of distinct letters in each string:"
      ],
      "metadata": {
        "id": "Kmq4pCinu3vR"
      }
    },
    {
      "cell_type": "code",
      "execution_count": null,
      "metadata": {
        "id": "O708Ta6SKdp_"
      },
      "outputs": [],
      "source": [
        "strings = [\"foo\", \"card\", \"bar\", \"aaaa\", \"abab\"]"
      ]
    },
    {
      "cell_type": "markdown",
      "source": [
        " Here we could pass a lambda function to the list’s sort method:"
      ],
      "metadata": {
        "id": "BpGcalBlvAR2"
      }
    },
    {
      "cell_type": "code",
      "execution_count": null,
      "metadata": {
        "id": "mQXULAq9Kdp_"
      },
      "outputs": [],
      "source": [
        "strings.sort(key=lambda x: len(set(x)))\n",
        "strings"
      ]
    },
    {
      "cell_type": "markdown",
      "source": [
        "#  Generators\n",
        " Many objects in Python support iteration, such as over objects in a list or lines in a\n",
        " file. This is accomplished by means of the iterator protocol, a generic way to make\n",
        " objects iterable. For example, iterating over a dictionary yields the dictionary keys:"
      ],
      "metadata": {
        "id": "XqWsoRSivnGa"
      }
    },
    {
      "cell_type": "code",
      "execution_count": null,
      "metadata": {
        "id": "iHZTuMmrKdp_"
      },
      "outputs": [],
      "source": [
        "some_dict = {\"a\": 1, \"b\": 2, \"c\": 3}\n",
        "for key in some_dict:\n",
        "    print(key)"
      ]
    },
    {
      "cell_type": "markdown",
      "source": [
        "When you write for key in some_dict, the Python interpreter first attempts to\n",
        " create an iterator out of some_dict"
      ],
      "metadata": {
        "id": "nmXUeXmEv5N2"
      }
    },
    {
      "cell_type": "code",
      "execution_count": null,
      "metadata": {
        "id": "tExwsobeKdp_"
      },
      "outputs": [],
      "source": [
        "dict_iterator = iter(some_dict)\n",
        "dict_iterator"
      ]
    },
    {
      "cell_type": "markdown",
      "source": [
        "An iterator is any object that will yield objects to the Python interpreter when used\n",
        " in a context like a for loop. Most methods expecting a list or list-like object will also\n",
        " accept any iterable object. This includes built-in methods such as min, max, and sum,\n",
        " and type constructors like list and tuple:"
      ],
      "metadata": {
        "id": "QMul8xeNv8sL"
      }
    },
    {
      "cell_type": "code",
      "execution_count": null,
      "metadata": {
        "id": "fIzly_UEKdqA"
      },
      "outputs": [],
      "source": [
        "list(dict_iterator)"
      ]
    },
    {
      "cell_type": "markdown",
      "source": [
        "A generator is a convenient way, similar to writing a normal function, to construct a\n",
        " new iterable object. Whereas normal functions execute and return a single result at\n",
        " a time, generators can return a sequence of multiple values by pausing and resuming\n",
        " execution each time the generator is used. To create a generator, use the yield\n",
        " keyword instead of return in a function:"
      ],
      "metadata": {
        "id": "SNfFiLCcwALf"
      }
    },
    {
      "cell_type": "code",
      "execution_count": null,
      "metadata": {
        "id": "Bau0x27gKdqA"
      },
      "outputs": [],
      "source": [
        "def squares(n=10):\n",
        "    print(f\"Generating squares from 1 to {n ** 2}\")\n",
        "    for i in range(1, n + 1):\n",
        "        yield i ** 2"
      ]
    },
    {
      "cell_type": "markdown",
      "source": [
        " When you actually call the generator, no code is immediately executed:"
      ],
      "metadata": {
        "id": "fI3rNPpdwC7b"
      }
    },
    {
      "cell_type": "code",
      "execution_count": null,
      "metadata": {
        "id": "BysaMfeYKdqA"
      },
      "outputs": [],
      "source": [
        "gen = squares()\n",
        "gen"
      ]
    },
    {
      "cell_type": "markdown",
      "source": [
        " It is not until you request elements from the generator that it begins executing its\n",
        " code:"
      ],
      "metadata": {
        "id": "E2Sp8Pj3wLOx"
      }
    },
    {
      "cell_type": "code",
      "execution_count": null,
      "metadata": {
        "id": "G5S4mftHKdqA"
      },
      "outputs": [],
      "source": [
        "for x in gen:\n",
        "    print(x, end=\" \")"
      ]
    },
    {
      "cell_type": "markdown",
      "source": [
        "##  Generator expressions (optional)"
      ],
      "metadata": {
        "id": "vS8oj_pYvclU"
      }
    },
    {
      "cell_type": "code",
      "execution_count": null,
      "metadata": {
        "id": "VNhqjN8EKdqA"
      },
      "outputs": [],
      "source": [
        "gen = (x ** 2 for x in range(100))\n",
        "gen"
      ]
    },
    {
      "cell_type": "markdown",
      "source": [
        "This is equivalent to the following more verbose generator:\n",
        "```\n",
        " def _make_gen():\n",
        "    for x in range(100):\n",
        "        yield x ** 2\n",
        "        gen = _make_gen()\n",
        "```\n",
        " Generator expressions can be used instead of list comprehensions as function argu\n",
        "ments in some cases:"
      ],
      "metadata": {
        "id": "GPkddv7WzDqF"
      }
    },
    {
      "cell_type": "code",
      "execution_count": null,
      "metadata": {
        "id": "8E-pbWVpKdqA"
      },
      "outputs": [],
      "source": [
        "sum(x ** 2 for x in range(100))\n",
        "dict((i, i ** 2) for i in range(5))"
      ]
    },
    {
      "cell_type": "markdown",
      "source": [
        " Depending on the number of elements produced by the comprehension expression,\n",
        " the generator version can sometimes be meaningfully faster."
      ],
      "metadata": {
        "id": "QL4hQNAszWcU"
      }
    },
    {
      "cell_type": "markdown",
      "source": [
        " ## itertools module\n",
        " The standard library itertools module has a collection of generators for many\n",
        " common data algorithms. For example, groupby takes any sequence and a function,\n",
        " grouping consecutive elements in the sequence by return value of the function. Here’s\n",
        " an example:"
      ],
      "metadata": {
        "id": "AUPPfIVkzZT8"
      }
    },
    {
      "cell_type": "code",
      "execution_count": null,
      "metadata": {
        "id": "QyGJfCsgKdqA"
      },
      "outputs": [],
      "source": [
        "import itertools\n",
        "def first_letter(x):\n",
        "    return x[0]\n",
        "\n",
        "names = [\"Alan\", \"Adam\", \"Wes\", \"Will\", \"Albert\", \"Steven\"]\n",
        "\n",
        "for letter, names in itertools.groupby(names, first_letter):\n",
        "    print(letter, list(names)) # names is a generator"
      ]
    },
    {
      "cell_type": "markdown",
      "source": [
        "![image.png](data:image/png;base64,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)"
      ],
      "metadata": {
        "id": "p_NQqx52zqZQ"
      }
    },
    {
      "cell_type": "markdown",
      "source": [
        "## Errors and Exception Handling\n",
        " Handling Python errors or exceptions gracefully is an important part of building\n",
        " robust programs. In data analysis applications, many functions work only on certain\n",
        " kinds of input. As an example, Python’s float function is capable of casting a string\n",
        " to a floating-point number, but it fails with ValueError on improper inputs:"
      ],
      "metadata": {
        "id": "4d9KMHqez1pl"
      }
    },
    {
      "cell_type": "code",
      "execution_count": null,
      "metadata": {
        "id": "XQYwgpWaKdqA"
      },
      "outputs": [],
      "source": [
        "float(\"1.2345\")\n",
        "float(\"something\")"
      ]
    },
    {
      "cell_type": "markdown",
      "source": [
        " Suppose we wanted a version of float that fails gracefully, returning the input\n",
        " argument. We can do this by writing a function that encloses the call to float in a\n",
        " try/except block (execute this code in IPython):"
      ],
      "metadata": {
        "id": "eVtka-fW0Bfx"
      }
    },
    {
      "cell_type": "code",
      "execution_count": null,
      "metadata": {
        "id": "sRbIom41KdqA"
      },
      "outputs": [],
      "source": [
        "def attempt_float(x):\n",
        "    try:\n",
        "        return float(x)\n",
        "    except:\n",
        "        return x"
      ]
    },
    {
      "cell_type": "markdown",
      "source": [
        " The code in the except part of the block will only be executed if float(x) raises an\n",
        " exception:"
      ],
      "metadata": {
        "id": "e_5rr3CC0Efv"
      }
    },
    {
      "cell_type": "code",
      "execution_count": null,
      "metadata": {
        "id": "gMYr-AbZKdqA"
      },
      "outputs": [],
      "source": [
        "attempt_float(\"1.2345\")\n",
        "attempt_float(\"something\")"
      ]
    },
    {
      "cell_type": "markdown",
      "source": [
        " You might notice that float can raise exceptions other than ValueError:"
      ],
      "metadata": {
        "id": "CLuWopbB0HsX"
      }
    },
    {
      "cell_type": "code",
      "execution_count": null,
      "metadata": {
        "id": "sM6T0C-8KdqA"
      },
      "outputs": [],
      "source": [
        "float((1, 2))"
      ]
    },
    {
      "cell_type": "markdown",
      "source": [
        "You might want to suppress only ValueError, since a TypeError (the input was not a\n",
        " string or numeric value) might indicate a legitimate bug in your program. To do that,\n",
        " write the exception type after except:"
      ],
      "metadata": {
        "id": "HbBj8zEN0Lzq"
      }
    },
    {
      "cell_type": "code",
      "execution_count": null,
      "metadata": {
        "id": "rY8gdT5HKdqA"
      },
      "outputs": [],
      "source": [
        "def attempt_float(x):\n",
        "    try:\n",
        "        return float(x)\n",
        "    except ValueError:\n",
        "        return x"
      ]
    },
    {
      "cell_type": "code",
      "execution_count": null,
      "metadata": {
        "id": "Lt8WKm-hKdqA"
      },
      "outputs": [],
      "source": [
        "attempt_float((1, 2))"
      ]
    },
    {
      "cell_type": "markdown",
      "source": [
        "You can catch multiple exception types by writing a tuple of exception types instead\n",
        " (the parentheses are required):"
      ],
      "metadata": {
        "id": "-wve8pBV0WBy"
      }
    },
    {
      "cell_type": "code",
      "execution_count": null,
      "metadata": {
        "id": "eEvZRveWKdqA"
      },
      "outputs": [],
      "source": [
        "def attempt_float(x):\n",
        "    try:\n",
        "        return float(x)\n",
        "    except (TypeError, ValueError):\n",
        "        return x"
      ]
    },
    {
      "cell_type": "markdown",
      "source": [
        "In some cases, you may not want to suppress an exception, but you want some code\n",
        " to be executed regardless of whether or not the code in the try block succeeds. To do\n",
        " this, use finally:\n",
        " ```\n",
        " f = open(path, mode=\"w\")\n",
        " try:\n",
        "    write_to_file(f)\n",
        " finally:\n",
        "    f.close()\n",
        " ```\n",
        " Here, the file object f will always get closed. Similarly, you can have code that\n",
        " executes only if the try: block succeeds using else:\n",
        "```\n",
        " f = open(path, mode=\"w\")\n",
        " try:\n",
        "    write_to_file(f)\n",
        " except:\n",
        "    print(\"Failed\")\n",
        " else:\n",
        "    print(\"Succeeded\")\n",
        " finally:\n",
        "    f.close()\n",
        " ```"
      ],
      "metadata": {
        "id": "47usxjAy0Zms"
      }
    },
    {
      "cell_type": "markdown",
      "source": [
        "# Files and the Operating System\n",
        "to be taught from other source"
      ],
      "metadata": {
        "id": "ccnSHqmv0uh9"
      }
    }
  ],
  "metadata": {
    "kernelspec": {
      "display_name": "Python 3",
      "language": "python",
      "name": "python3"
    },
    "language_info": {
      "codemirror_mode": {
        "name": "ipython",
        "version": 3
      },
      "file_extension": ".py",
      "mimetype": "text/x-python",
      "name": "python",
      "nbconvert_exporter": "python",
      "pygments_lexer": "ipython3",
      "version": "3.7.6"
    },
    "colab": {
      "provenance": []
    }
  },
  "nbformat": 4,
  "nbformat_minor": 0
}