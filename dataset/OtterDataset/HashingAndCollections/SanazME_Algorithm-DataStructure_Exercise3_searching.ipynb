{
 "cells": [
  {
   "cell_type": "markdown",
   "metadata": {},
   "source": [
    "## Search & Sort Algorithms\n",
    "\n",
    "The search algorithms are: 1. sequential search (improved in ordered list) 2. Binary serach\n",
    "The sort algorithms are: \n",
    "1. selection sort\n",
    "2. bubble sort\n",
    "3. merge sort\n",
    "4. quick sort\n",
    "5. insertion sort\n",
    "6. shell sort\n",
    "\n",
    "### 1. Sequential search\n",
    "\n",
    "#### 1.1 Unordered list\n",
    "| Case               | Best Case   | Worst Case | Average Case  |\n",
    "|--------------------|-------------|------------|---------------|\n",
    "|item is present     |    1        |  n         |  n/2          |\n",
    "|item is not present |    n        |  n         |  n            |\n",
    "\n",
    "#### 1.2 Ordered list\n",
    "| Case               | Best Case   | Worst Case | Average Case  |\n",
    "|--------------------|-------------|------------|---------------|\n",
    "|item is present     |    1        |  n         |  n/2          |\n",
    "|item is not present |    1        |  n         |  n/2          |\n",
    "\n",
    "However, this technique is still O(n)O(n). In summary, a sequential search is improved by ordering the list only in the case where we do not find the item."
   ]
  },
  {
   "cell_type": "markdown",
   "metadata": {},
   "source": [
    "#### Unordered List"
   ]
  },
  {
   "cell_type": "code",
   "execution_count": 11,
   "metadata": {},
   "outputs": [],
   "source": [
    "def sequentialSearch(alist, item):\n",
    "    pos = 0\n",
    "    \n",
    "    while pos < len(alist):\n",
    "        if alist[pos]==item:\n",
    "            return True\n",
    "        else:\n",
    "            pos += 1\n",
    "    return False"
   ]
  },
  {
   "cell_type": "code",
   "execution_count": 10,
   "metadata": {},
   "outputs": [],
   "source": [
    "def sequentialSearch(alist, item):\n",
    "    \n",
    "    while alist:\n",
    "        if alist[0]==item:\n",
    "            return True        \n",
    "        alist = alist[1:]       \n",
    "        \n",
    "    return False\n",
    "    "
   ]
  },
  {
   "cell_type": "code",
   "execution_count": 13,
   "metadata": {},
   "outputs": [
    {
     "data": {
      "text/plain": [
       "False"
      ]
     },
     "execution_count": 13,
     "metadata": {},
     "output_type": "execute_result"
    }
   ],
   "source": [
    "sequentialSearch([],3)"
   ]
  },
  {
   "cell_type": "markdown",
   "metadata": {},
   "source": [
    "#### Ordered list"
   ]
  },
  {
   "cell_type": "code",
   "execution_count": 14,
   "metadata": {},
   "outputs": [],
   "source": [
    "def sequentialSearchOrdered(alist, item):\n",
    "    pos=0\n",
    "    \n",
    "    while pos < len(alist):\n",
    "        if alist[pos]==item:\n",
    "            return True\n",
    "        elif alist[pos] > item:\n",
    "            return False\n",
    "        else:\n",
    "            pos += 1\n",
    "            \n",
    "    return False"
   ]
  },
  {
   "cell_type": "code",
   "execution_count": 16,
   "metadata": {},
   "outputs": [
    {
     "data": {
      "text/plain": [
       "True"
      ]
     },
     "execution_count": 16,
     "metadata": {},
     "output_type": "execute_result"
    }
   ],
   "source": [
    "sequentialSearchOrdered([0, 1, 2, 8, 13, 17, 19, 32, 42,],17)"
   ]
  },
  {
   "cell_type": "markdown",
   "metadata": {},
   "source": [
    "### 1. Binary search\n",
    "\n",
    "If the list is sorted we can use binary search which is Divide and Conquere algorithm."
   ]
  },
  {
   "cell_type": "code",
   "execution_count": 19,
   "metadata": {},
   "outputs": [],
   "source": [
    "def binarySearch(alist, item):\n",
    "    if not alist:\n",
    "        return False\n",
    "    \n",
    "    while alist:\n",
    "        mid = len(alist)//2\n",
    "    \n",
    "        if alist[mid]==item:\n",
    "            return True\n",
    "        elif alist[mid] > item:\n",
    "            alist = alist[:mid]\n",
    "        else:\n",
    "            alist = alist[mid+1:]\n",
    "    return False\n",
    "    "
   ]
  },
  {
   "cell_type": "code",
   "execution_count": 23,
   "metadata": {},
   "outputs": [
    {
     "data": {
      "text/plain": [
       "True"
      ]
     },
     "execution_count": 23,
     "metadata": {},
     "output_type": "execute_result"
    }
   ],
   "source": [
    "binarySearch([0, 1, 2, 8, 13, 17, 19, 32, 42,], 32)"
   ]
  },
  {
   "cell_type": "code",
   "execution_count": 16,
   "metadata": {},
   "outputs": [],
   "source": [
    "def binarySearchRecurion(alist, item):\n",
    "    if not alist:\n",
    "        return False\n",
    "    mid = len(alist)//2\n",
    "    \n",
    "    if alist[mid]==item:\n",
    "        return True\n",
    "    elif alist[mid] > item:\n",
    "        return binarySearchRecurion(alist[:mid], item)\n",
    "    else:\n",
    "        return binarySearchRecurion(alist[mid+1:], item)"
   ]
  },
  {
   "cell_type": "code",
   "execution_count": 28,
   "metadata": {},
   "outputs": [
    {
     "data": {
      "text/plain": [
       "False"
      ]
     },
     "execution_count": 28,
     "metadata": {},
     "output_type": "execute_result"
    }
   ],
   "source": [
    "binarySearchRecurion([0, 1, 2, 8, 13, 17, 19, 32, 42,], 33)"
   ]
  },
  {
   "cell_type": "code",
   "execution_count": 17,
   "metadata": {},
   "outputs": [
    {
     "data": {
      "text/plain": [
       "True"
      ]
     },
     "execution_count": 17,
     "metadata": {},
     "output_type": "execute_result"
    }
   ],
   "source": [
    "binarySearchRecurion([4,5,6,7],5)"
   ]
  },
  {
   "cell_type": "markdown",
   "metadata": {},
   "source": [
    "### Analysis of Binary search:\n",
    "http://interactivepython.org/runestone/static/pythonds/SortSearch/TheBinarySearch.html#lst-binarysearchpy\n",
    "\n",
    "binarySearch(alist[:midpoint],item)\n",
    "\n",
    "uses the slice operator to create the left half of the list that is then passed to the next invocation (similarly for the right half as well). The analysis that we did above assumed that the slice operator takes constant time. However, we know that the slice operator in Python is actually O(k). This means that the binary search using slice will not perform in strict logarithmic time. Luckily this can be remedied by passing the list along with the starting and ending indices. The indices can be calculated as we did in Listing 3. We leave this implementation as an exercise."
   ]
  },
  {
   "cell_type": "code",
   "execution_count": 32,
   "metadata": {},
   "outputs": [],
   "source": [
    "def binarySearchRecurion(alist, item):\n",
    "    return helper(alist, item, 0, len(alist)-1)\n",
    "\n",
    "def helper(alist, item, start, end):\n",
    "    if start > end:\n",
    "        return False\n",
    "    \n",
    "    mid = (start + end)//2\n",
    "    \n",
    "    if alist[mid]==item:\n",
    "        return True\n",
    "    elif alist[mid] > item:\n",
    "        return helper(alist, item, start, mid-1)\n",
    "    else:\n",
    "        return helper(alist, item, mid+1, end)"
   ]
  },
  {
   "cell_type": "code",
   "execution_count": 35,
   "metadata": {},
   "outputs": [
    {
     "data": {
      "text/plain": [
       "True"
      ]
     },
     "execution_count": 35,
     "metadata": {},
     "output_type": "execute_result"
    }
   ],
   "source": [
    "binarySearchRecurion([0, 1, 2, 8, 13, 17, 19, 32, 42,], 32)"
   ]
  },
  {
   "cell_type": "markdown",
   "metadata": {},
   "source": [
    "Even though a binary search is generally better than a sequential search, it is important to note that for small values of n, the additional cost of sorting is probably not worth it. In fact, we should always consider whether it is cost effective to take on the extra work of sorting to gain searching benefits. If we can sort once and then search many times, the cost of the sort is not so significant. However, for large lists, sorting even once can be so expensive that simply performing a sequential search from the start may be the best choice."
   ]
  },
  {
   "cell_type": "code",
   "execution_count": 38,
   "metadata": {},
   "outputs": [
    {
     "data": {
      "text/plain": [
       "4"
      ]
     },
     "execution_count": 38,
     "metadata": {},
     "output_type": "execute_result"
    }
   ],
   "source": [
    "(len([3, 5, 6, 8, 11, 12, 14, 15, 17, 18] )-1)//2"
   ]
  },
  {
   "cell_type": "markdown",
   "metadata": {},
   "source": [
    "### Hashing\n",
    "http://interactivepython.org/runestone/static/pythonds/SortSearch/Hashing.html\n",
    "\n",
    "**Hashing** : The concept of a data structure to search in O(1). For searching an item in a hash table: hash function gets the item and outputs an integer O(1) and at that slot position (integer) we check of the item exists O(1).\n",
    "\n",
    "** Hash table** : A collection of items stored in a way that it makes it easy to search them later O(1). Each position in the hash table is called slot numbered by an integer starting from 0.\n",
    "\n",
    "**Hash function**: A mapping between an item and the slot where the item belongs to in the hashing table. A hashing function takes an item and return its slot number (an integer number)\n",
    "\n",
    "** remainder method ** : a simple hash function.\n",
    "\n",
    "** load factor **: size of items/size of table = (number of keys/size of slots table)\n",
    "\n",
    "** Collision or clash**: when two items have the same slot number.\n",
    "\n",
    "**perfect hashing function** : A hashing function that maps each item into a unique slot position. There is no collision.\n",
    "\n",
    "Our goal is to create a hash function that minimizes the number of collisions, is easy to compute, and evenly distributes the items in the hash table. There are a number of common ways to extend the simple remainder method. We will consider a few of them here:\n",
    "\n",
    "** folding method ** :the method for constructing a hash function starts by dividing the item into equal-size pieces (the last piece may not be of equal size). These pieces are then added together to give the resulting hash value. For example, if our item was the phone number 436-555-4601, we would take the digits and divide them into groups of 2 (43,65,55,46,01). After the addition, 43+65+55+46+01, we get 210. If we assume our hash table has 11 slots, then we need to perform the extra step of dividing by 11 and keeping the remainder. In this case 210 % 11 is 1, so the phone number 436-555-4601 hashes to slot 1. Some folding methods go one step further and reverse every other piece before the addition. For the above example, we get 43+56+55+64+01=219 which gives 219 % 11=10. \n",
    "\n",
    "** mid-square method **: We first square the item, and then extract some portion of the resulting digits. For example, if the item were 44, we would first compute 44^2=1,936. By extracting the middle two digits, 93, and performing the remainder step, we get 5 (93 % 11). \n",
    "\n",
    "We can also create hash functions for character-based items such as strings. The word “cat” can be thought of as a sequence of ordinal values:"
   ]
  },
  {
   "cell_type": "code",
   "execution_count": 40,
   "metadata": {},
   "outputs": [
    {
     "data": {
      "text/plain": [
       "312"
      ]
     },
     "execution_count": 40,
     "metadata": {},
     "output_type": "execute_result"
    }
   ],
   "source": [
    "ord('c')+ord('a')+ord('t')"
   ]
  },
  {
   "cell_type": "code",
   "execution_count": 41,
   "metadata": {},
   "outputs": [],
   "source": [
    "def hashString(astring, tablesize):\n",
    "    sum=0\n",
    "    for char in astring:\n",
    "        sum += ord(char)\n",
    "    return sum%tablesize"
   ]
  },
  {
   "cell_type": "code",
   "execution_count": 42,
   "metadata": {},
   "outputs": [
    {
     "data": {
      "text/plain": [
       "4"
      ]
     },
     "execution_count": 42,
     "metadata": {},
     "output_type": "execute_result"
    }
   ],
   "source": [
    "hashString('cat', 11)"
   ]
  },
  {
   "cell_type": "markdown",
   "metadata": {},
   "source": [
    "It is interesting to note that when using this hash function, anagrams will always be given the same hash value. To remedy this, we could use the position of the character as a weight. Figure 7 shows one possible way to use the positional value as a weighting factor. "
   ]
  },
  {
   "cell_type": "code",
   "execution_count": 43,
   "metadata": {},
   "outputs": [],
   "source": [
    "def hashString(astring, tablesize):\n",
    "    sum=0\n",
    "    \n",
    "    for i in range(len(astring)):\n",
    "        sum += ord(astring[i])*(i+1)\n",
    "        \n",
    "    return sum%tablesize"
   ]
  },
  {
   "cell_type": "code",
   "execution_count": 44,
   "metadata": {},
   "outputs": [
    {
     "data": {
      "text/plain": [
       "3"
      ]
     },
     "execution_count": 44,
     "metadata": {},
     "output_type": "execute_result"
    }
   ],
   "source": [
    "hashString('cat', 11)"
   ]
  },
  {
   "cell_type": "markdown",
   "metadata": {},
   "source": [
    "** Collision resolution **\n",
    "\n",
    "** Open addressing ** : to find the next open slot or address in the hash table.\n",
    "\n",
    "** linear probing ** : systematically visiting each slot one at a time. The disadvantage of linear probing is tendency for **clustering**. This means that if many collisions occur at the same hash value, a number of surrounding slots will be filled by the linear probing resolution. This will have an impact on other items that are being inserted.\n",
    "\n",
    "Once we have built a hash table using open addressing and linear probing, it is essential that we utilize the same methods to search for items. if we find a different item is an address, it might have been a collision. We should search sequentailly to see of the item exists somewhere else.\n",
    "\n",
    "**rehashing**:the process of looking for another slot after collision.  With simple linear probing, the rehash function is newhashvalue=*rehash*(oldhashvalue) where *rehash(pos)=(pos+1) % sizeoftable*.\n",
    "\n",
    "In general, rehash(pos)=(pos+skip)%sizeoftable. It is important to note that the size of the “skip” must be such that all the slots in the table will eventually be visited. Otherwise, part of the table will be unused. To ensure this, it is often suggested that the table size be a prime number. This is the reason we have been using 11 in our examples.\n",
    "\n",
    "** quadratic probing **: Instead of using a constant “skip” value, quadratic probing uses a skip consisting of successive perfect squares.This means that if the first hash value is h, the successive values are h+1, h+4, h+9, h+16, and so on.\n",
    "\n",
    "** Chaining**: An alternative method for handling the collision problem is to allow each slot to hold a reference to a collection (or chain) of items. Chaining allows many items to exist at the same location in the hash table. When collisions happen, the item is still placed in the proper slot of the hash table. As more and more items hash to the same location, the difficulty of searching for the item in the collection increases."
   ]
  },
  {
   "cell_type": "markdown",
   "metadata": {},
   "source": [
    "### Map Abstract Data Structure (ADT)\n",
    "\n",
    "\n",
    "The map abstract data type is defined as follows. The structure is an **unordered collection** of **associations between a key and a data value**. The **keys in a map are all unique** so that there is a one-to-one relationship between a key and a value. The operations are given below.\n",
    "\n",
    "**Map()** Create a new, empty map. It returns an empty map collection.\n",
    "\n",
    "**put(key,val)** Add a new key-value pair to the map. **If the key is already in the map then replace the old value with the new value**.\n",
    "\n",
    "**get(key)** Given a key, return the value stored in the map or None otherwise.\n",
    "\n",
    "**del** Delete the key-value pair from the map using a statement of the form **del map[key]**.\n",
    "\n",
    "**len()** Return the number of key-value pairs stored in the map.\n",
    "\n",
    "**in** Return True for a statement of the form **key in map**, if the given key is in the map, False otherwise.\n",
    "\n",
    "One of the great benefits of a dictionary is the fact that given a key, we can look up the associated data value very quickly. In order to provide this fast look up capability, we need an implementation that supports an efficient search. We could use a list with sequential or binary search but it would be even better to use a hash table as described above since looking up an item in a hash table can approach O(1) performance.\n",
    "\n",
    "we use two lists to create a HashTable class that implements the Map abstract data type. One list, called slots, will hold the key items and a parallel list, called data, will hold the data values. When we look up a key, the corresponding position in the data list will hold the associated data value. Note that the initial size for the hash table has been chosen to be 11. Although this is arbitrary, it is important that the size be a prime number so that the collision resolution algorithm can be as efficient as possible.\n",
    "\n",
    "*hashFunction* implements the **simple remainder** method. The **collision resolution technique is linear** probing with a “plus 1” rehash function. The **put** funtion assumes that there will eventually be an empty slot unless the key is already present in the self.slots. It computes the original hash value and if that slot is not empty, iterates the rehash function until an empty slot occurs. If a nonempty slot already contains the key, the old data value is replaced with the new data value.\n",
    "\n",
    "\n",
    "Likewise, the get function (see Listing 4) begins by computing the initial hash value. If the value is not in the initial slot, rehash is used to locate the next possible position. Notice that line 15 guarantees that the search will terminate by checking to make sure that we have not returned to the initial slot. If that happens, we have exhausted all possible slots and the item must not be present.\n",
    "\n",
    "The final methods of the HashTable class provide additional dictionary functionality. We overload the __getitem__ and __setitem__ methods to allow access using``[]``. This means that once a HashTable has been created, the familiar index operator will be available. We leave the remaining methods as exercises."
   ]
  },
  {
   "cell_type": "code",
   "execution_count": 2,
   "metadata": {},
   "outputs": [],
   "source": [
    "class HashTable(object):\n",
    "    def __init__(self, size):\n",
    "        self.size=size\n",
    "        self.slots=[None]*self.size\n",
    "        self.data=[None]*self.size\n",
    "        \n",
    "    def put(self,key,data):\n",
    "        hashValue = self.hashFunction(key,len(self.slots))\n",
    "        \n",
    "        if self.slots[hashValue] is None:\n",
    "            self.slots[hashValue]=key\n",
    "            self.data[hashValue] = data\n",
    "        else:\n",
    "            if self.slots[hashValue]==key:\n",
    "                self.data[hashValue]=data #replace\n",
    "            else:\n",
    "                nextslot = self.rehash(hashValue, len(self.slots))\n",
    "                \n",
    "                while self.slots[nextslot]!=None and\\\n",
    "                self.slots[nextslot]!=key:\n",
    "                    nextslot = self.rehash(nextslot, len(self.slots))\n",
    "                \n",
    "                if self.slots[nextslot] == None:\n",
    "                    self.slots[nextslot]=key\n",
    "                    self.data[nextslot]=data\n",
    "                else:\n",
    "                    self.data[nextslot]=data #replace\n",
    "                \n",
    "    # Collision resolution (rehashing) by linear probing           \n",
    "    def rehash(self,oldhash, size):\n",
    "        return (oldhash+1)%size\n",
    "        \n",
    "    def hashFunction(self,key,size):\n",
    "        return key%size\n",
    "    \n",
    "    \n",
    "    def get(self,key):\n",
    "        hashValue = self.hashFunction(key,len(self.slots))\n",
    "        \n",
    "        if self.slots[hashValue]==key:\n",
    "            return self.data[hashValue]\n",
    "        else:\n",
    "            nextslot = self.rehash(hashValue, len(self.slots)) \n",
    "            \n",
    "            while self.slots[nextslot]!=key and nextslot!=hashValue:\n",
    "                nextslot = self.rehash(nextslot, len(self.slots))\n",
    "                \n",
    "            if self.slots[nextslot]==key:\n",
    "                return self.data[nextslot]\n",
    "            else:\n",
    "                return None\n",
    "    # Special Methods for use with Python indexing        \n",
    "    def __getitem__(self,key):\n",
    "        return self.get(key)\n",
    "    \n",
    "    def __setitem__(self,key,data):\n",
    "        return self.put(key,data)\n",
    "        "
   ]
  },
  {
   "cell_type": "code",
   "execution_count": 3,
   "metadata": {},
   "outputs": [],
   "source": [
    "H=HashTable(11)\n",
    "H[54]=\"cat\"\n",
    "H[26]=\"dog\"\n",
    "H[93]=\"lion\"\n",
    "H[17]=\"tiger\"\n",
    "H[77]=\"bird\"\n",
    "H[31]=\"cow\"\n",
    "H[44]=\"goat\"\n",
    "H[55]=\"pig\"\n",
    "H[20]=\"chicken\""
   ]
  },
  {
   "cell_type": "code",
   "execution_count": 4,
   "metadata": {},
   "outputs": [
    {
     "data": {
      "text/plain": [
       "[77, 44, 55, 20, 26, 93, 17, None, None, 31, 54]"
      ]
     },
     "execution_count": 4,
     "metadata": {},
     "output_type": "execute_result"
    }
   ],
   "source": [
    "H.slots"
   ]
  },
  {
   "cell_type": "code",
   "execution_count": 5,
   "metadata": {},
   "outputs": [
    {
     "data": {
      "text/plain": [
       "['bird',\n",
       " 'goat',\n",
       " 'pig',\n",
       " 'chicken',\n",
       " 'dog',\n",
       " 'lion',\n",
       " 'tiger',\n",
       " None,\n",
       " None,\n",
       " 'cow',\n",
       " 'cat']"
      ]
     },
     "execution_count": 5,
     "metadata": {},
     "output_type": "execute_result"
    }
   ],
   "source": [
    "H.data"
   ]
  },
  {
   "cell_type": "code",
   "execution_count": 6,
   "metadata": {},
   "outputs": [
    {
     "data": {
      "text/plain": [
       "'chicken'"
      ]
     },
     "execution_count": 6,
     "metadata": {},
     "output_type": "execute_result"
    }
   ],
   "source": [
    "H[20]"
   ]
  },
  {
   "cell_type": "code",
   "execution_count": 7,
   "metadata": {},
   "outputs": [
    {
     "data": {
      "text/plain": [
       "'tiger'"
      ]
     },
     "execution_count": 7,
     "metadata": {},
     "output_type": "execute_result"
    }
   ],
   "source": [
    "H[17]"
   ]
  },
  {
   "cell_type": "code",
   "execution_count": 8,
   "metadata": {},
   "outputs": [
    {
     "name": "stdout",
     "output_type": "stream",
     "text": [
      "duck\n"
     ]
    }
   ],
   "source": [
    "H[20]='duck'\n",
    "print(H[20])"
   ]
  },
  {
   "cell_type": "code",
   "execution_count": 9,
   "metadata": {},
   "outputs": [
    {
     "data": {
      "text/plain": [
       "['bird',\n",
       " 'goat',\n",
       " 'pig',\n",
       " 'duck',\n",
       " 'dog',\n",
       " 'lion',\n",
       " 'tiger',\n",
       " None,\n",
       " None,\n",
       " 'cow',\n",
       " 'cat']"
      ]
     },
     "execution_count": 9,
     "metadata": {},
     "output_type": "execute_result"
    }
   ],
   "source": [
    "H.data"
   ]
  },
  {
   "cell_type": "code",
   "execution_count": 10,
   "metadata": {},
   "outputs": [
    {
     "name": "stdout",
     "output_type": "stream",
     "text": [
      "None\n"
     ]
    }
   ],
   "source": [
    "print(H[99])"
   ]
  },
  {
   "cell_type": "code",
   "execution_count": 12,
   "metadata": {},
   "outputs": [
    {
     "name": "stdout",
     "output_type": "stream",
     "text": [
      "0.8181818181818182\n"
     ]
    }
   ],
   "source": [
    "# Load factor \n",
    "itemSize=0\n",
    "for item in H.data:\n",
    "    if item != None:\n",
    "        itemSize+=1\n",
    "\n",
    "load_factor= itemSize/len(H.data)\n",
    "print(load_factor)"
   ]
  },
  {
   "cell_type": "markdown",
   "metadata": {},
   "source": [
    "### Analysis of Hashing\n",
    "\n",
    "The most important piece of information we need to analyze the use of a hash table is the load factor, λ. Conceptually, if λ is small, then there is a lower chance of collisions, meaning that items are more likely to be in the slots where they belong. If λ is large, meaning that the table is filling up, then there are more and more collisions. This means that collision resolution is more difficult, requiring more comparisons to find an empty slot. With chaining, increased collisions means an increased number of items on each chain.\n",
    "\n",
    "\n",
    "As before, we will have a result for both a successful and an unsuccessful search. For a successful search using **open addressing with linear probing**, the average number of comparisons is approximately 1/2*(1+1/(1−λ)) and an unsuccessful search gives 1/2(1+(1/(1−λ))^2) If we are using chaining, the average number of comparisons is 1+λ/2 for the successful case, and simply λ comparisons if the search is unsuccessful."
   ]
  },
  {
   "cell_type": "code",
   "execution_count": null,
   "metadata": {},
   "outputs": [],
   "source": []
  }
 ],
 "metadata": {
  "kernelspec": {
   "display_name": "Python 3",
   "language": "python",
   "name": "python3"
  },
  "language_info": {
   "codemirror_mode": {
    "name": "ipython",
    "version": 3
   },
   "file_extension": ".py",
   "mimetype": "text/x-python",
   "name": "python",
   "nbconvert_exporter": "python",
   "pygments_lexer": "ipython3",
   "version": "3.7.3"
  }
 },
 "nbformat": 4,
 "nbformat_minor": 4
}
