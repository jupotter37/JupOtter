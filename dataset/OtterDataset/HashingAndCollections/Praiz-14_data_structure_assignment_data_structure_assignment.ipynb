{
 "cells": [
  {
   "cell_type": "markdown",
   "id": "f4acdaa0-72fc-44dc-93f6-f743b899d12b",
   "metadata": {},
   "source": [
    "#hello_world"
   ]
  },
  {
   "cell_type": "markdown",
   "id": "fef4db5f-c282-4f0b-942e-5b2f31d50a04",
   "metadata": {},
   "source": [
    "#  assignment-2"
   ]
  },
  {
   "cell_type": "markdown",
   "id": "813e78b7-54b7-4fda-8702-086d74ffd00a",
   "metadata": {},
   "source": [
    "# python_data_structure"
   ]
  },
  {
   "cell_type": "markdown",
   "id": "24cbbab3-750d-4f1c-b8b7-329369c232f8",
   "metadata": {},
   "source": [
    "## Q1 Describe string slicing and provide examples.\n",
    "\n",
    "#String slicing is a convenient way to extract parts of a string in Python.\n",
    "#By using indices, you can specify exactly which portion of the string you want to work with. \n",
    "#The ability to use both positive and negative indices, as well as the optional step parameter, makes slicing a flexible tool for string manipulation."
   ]
  },
  {
   "cell_type": "markdown",
   "id": "7993e00a-c413-467a-8fac-d2ad5e4299d6",
   "metadata": {},
   "source": [
    "#for examples,Basic slicing"
   ]
  },
  {
   "cell_type": "code",
   "execution_count": 13,
   "id": "deb8d302-b981-4b1f-877c-27e34d424b55",
   "metadata": {},
   "outputs": [
    {
     "name": "stdout",
     "output_type": "stream",
     "text": [
      "Hello\n"
     ]
    }
   ],
   "source": [
    "text = \"Hello, World!\"\n",
    "print(text[0:5])  # Output: \"Hello\"\n"
   ]
  },
  {
   "cell_type": "markdown",
   "id": "21dc0af1-bed0-49d5-bd6a-7f9b2c7a56a5",
   "metadata": {},
   "source": [
    "This slice starts at index 0 and ends before index 5, so it retrieves \"Hello\"."
   ]
  },
  {
   "cell_type": "markdown",
   "id": "cb8fc74d-700d-4df0-b378-b8e9a3aec623",
   "metadata": {},
   "source": [
    "#example, using steps"
   ]
  },
  {
   "cell_type": "code",
   "execution_count": 15,
   "id": "de136199-3315-4604-ab84-4b38717dd1e1",
   "metadata": {},
   "outputs": [
    {
     "name": "stdout",
     "output_type": "stream",
     "text": [
      "Hlo ol!\n"
     ]
    }
   ],
   "source": [
    "text = \"Hello, World!\"\n",
    "print(text[::2])  # Output: \"Hlo ol!\"\n"
   ]
  },
  {
   "cell_type": "markdown",
   "id": "85171552-f300-4758-b307-d7be281843bd",
   "metadata": {},
   "source": [
    "## Q2 Explain the key features of list in python.\n",
    "\n",
    "#Lists in Python are versatile and widely used data structures that allow you to store and manage collections of items. Here are the key features of lists in Python:\n",
    "\n",
    "#1. Ordered: Lists maintain the order of elements as they are added. This means that the items can be accessed by their position (index) in the list.\n",
    "\n",
    "#2. Mutable: Lists are mutable, meaning you can change their content after creation. You can add, remove, or modify elements without creating a new       list.\n",
    "\n",
    "#3. Dynamic Size: Lists can grow or shrink in size as needed. You can add elements using methods like append() , remove elements using remove().\n",
    "\n",
    "#4. Heterogeneous: Lists can contain items of different data types. For example, a single list can include integers, strings, floats, and even other       lists.\n",
    "\n",
    "#5. Indexing and Slicing: You can access individual elements or a range of elements using indexing and slicing. For example,\n",
    "    my_list[0] accesses the first element,\n",
    "    while my_list[1:3] retrieves a slice of the list.\n",
    "\n",
    "#6. Built-in Methods: Python provides a variety of built-in methods for lists, such as\n",
    "\n",
    "    sort(), reverse(), count(), and index() , which facilitate common operations.\n",
    "\n",
    "#7. Comprehensions: Python supports list comprehensions, which provide a concise way to create lists based on existing lists, applying transformations     or filters in a single line of code."
   ]
  },
  {
   "cell_type": "markdown",
   "id": "79a113f7-7e2e-42da-8531-866f41304877",
   "metadata": {},
   "source": [
    "#Q3 Describe how to access, modify and delete elements in a list with examples.\n",
    "\n",
    "#list of the following\n",
    "\n",
    "#1 accessing element\n",
    "\n",
    "#You can access elements in a list using indexing. Python lists are zero-indexed, meaning the first element is at index 0.\n",
    "#for example, \n",
    "#single element access"
   ]
  },
  {
   "cell_type": "code",
   "execution_count": null,
   "id": "17dc920f-3721-419a-bc1b-210753de1f75",
   "metadata": {},
   "outputs": [],
   "source": [
    "fruits = [\"apple\", \"banana\", \"cherry\"]\n",
    "print(fruits[0])  # Output: 'apple'\n",
    "print(fruits[2])  # Output: 'cherry'"
   ]
  },
  {
   "cell_type": "markdown",
   "id": "f3c4fac1-583a-43a0-a19d-eb16ec8e8b27",
   "metadata": {},
   "source": [
    "#negative indexing - You can use negative indices to access elements from the end of the list."
   ]
  },
  {
   "cell_type": "code",
   "execution_count": null,
   "id": "7f521b0f-c88e-40e3-a465-76c60fe38d25",
   "metadata": {},
   "outputs": [],
   "source": [
    "fruits = [\"apple\", \"banana\", \"cherry\"]\n",
    "print(fruits[-1])  # Output: 'cherry'\n",
    "print(fruits[-2])  # Output: 'banana'"
   ]
  },
  {
   "cell_type": "markdown",
   "id": "aa21387b-f434-4f42-888e-8c505fe0c942",
   "metadata": {},
   "source": [
    "#Slicing - you can access a subset of elements using slicing."
   ]
  },
  {
   "cell_type": "code",
   "execution_count": null,
   "id": "7afb0fec-390d-4ce2-8513-5be7f1964da2",
   "metadata": {},
   "outputs": [],
   "source": [
    "numbers = [1, 2, 3, 4, 5]\n",
    "print(numbers[1:4])  # Output: [2, 3, 4]\n"
   ]
  },
  {
   "cell_type": "markdown",
   "id": "b8c6d7a3-344a-4091-bbff-1abdc756d22d",
   "metadata": {},
   "source": [
    "#2. Modifying Elements - You can modify elements in a list by assigning a new value to a specific index.\n",
    "\n",
    "#Single Element Modification."
   ]
  },
  {
   "cell_type": "code",
   "execution_count": null,
   "id": "6df57b8a-c5bd-4eb8-aca9-3a51ab75d907",
   "metadata": {},
   "outputs": [],
   "source": [
    "fruits = [\"apple\", \"banana\", \"cherry\"]\n",
    "fruits[1] = \"blueberry\"\n",
    "print(fruits)  # Output: ['apple', 'blueberry', 'cherry']"
   ]
  },
  {
   "cell_type": "markdown",
   "id": "e5d4c804-64a8-404c-83a8-2e41bac07974",
   "metadata": {},
   "source": [
    "#Using Slicing to Modify Multiple Elements - You can also use slicing to modify multiple elements at once."
   ]
  },
  {
   "cell_type": "code",
   "execution_count": null,
   "id": "5fbad8bb-6665-40f5-a1cf-74a47e9ee06b",
   "metadata": {},
   "outputs": [],
   "source": [
    "numbers = [1, 2, 3, 4, 5]\n",
    "numbers[1:4] = [8, 9]\n",
    "print(numbers)  # Output: [1, 8, 9, 5]"
   ]
  },
  {
   "cell_type": "markdown",
   "id": "5fe25bb2-152a-488e-821f-27fbcdfd0866",
   "metadata": {},
   "source": [
    "#Extending a List - You can extend a list by adding elements at a specific position."
   ]
  },
  {
   "cell_type": "code",
   "execution_count": null,
   "id": "227bc503-37a4-44aa-8f97-3951d497e4bf",
   "metadata": {},
   "outputs": [],
   "source": [
    "fruits = [\"apple\", \"banana\"]\n",
    "fruits.insert(1, \"cherry\")  # Insert 'cherry' at index 1\n",
    "print(fruits)  # Output: ['apple', 'cherry', 'banana']"
   ]
  },
  {
   "cell_type": "markdown",
   "id": "f2cdc2ba-04c8-4472-a494-baf1cba21ab2",
   "metadata": {},
   "source": [
    "#3. Deleting Elements - You can remove elements from a list using various methods."
   ]
  },
  {
   "cell_type": "markdown",
   "id": "7840cb9e-fe5c-451e-bc00-93ab0501628a",
   "metadata": {},
   "source": [
    "#Using remove() Method - The remove() method removes the first occurrence of a specific value from the list."
   ]
  },
  {
   "cell_type": "code",
   "execution_count": null,
   "id": "3c13f509-9a5e-444f-8103-a43a7fc3651f",
   "metadata": {},
   "outputs": [],
   "source": [
    "fruits = [\"apple\", \"banana\", \"cherry\", \"banana\"]\n",
    "fruits.remove(\"banana\")\n",
    "print(fruits)  # Output: ['apple', 'cherry', 'banana']"
   ]
  },
  {
   "cell_type": "markdown",
   "id": "c516e2ea-6bbf-4abc-a55c-bbba92f15fe5",
   "metadata": {},
   "source": [
    "## Q4 Compare and contrast tuples and lists with examples.\n",
    "\n",
    "#Tuples and lists are both fundamental data structures in Python used for storing collections of items. However, they have distinct differences in terms of mutability, syntax, and use cases. Here’s a comparison highlighting their key differences and similarities:\n",
    "\n",
    "1. Syntax\n",
    "Lists: Defined with square brackets [ ]."
   ]
  },
  {
   "cell_type": "code",
   "execution_count": null,
   "id": "0d41bb5f-974f-4983-b558-207b7326aec2",
   "metadata": {},
   "outputs": [],
   "source": [
    "my_list = [1, 2, 3, 4]"
   ]
  },
  {
   "cell_type": "markdown",
   "id": "4d6d6b9d-aabc-4be0-a257-a7bec29bd7ef",
   "metadata": {},
   "source": [
    "#Tuples: Defined with parentheses ( )."
   ]
  },
  {
   "cell_type": "code",
   "execution_count": null,
   "id": "658b8028-5152-4228-8da8-78d2388d7a15",
   "metadata": {},
   "outputs": [],
   "source": [
    "my_tuple = (1, 2, 3, 4)"
   ]
  },
  {
   "cell_type": "markdown",
   "id": "9796dbe1-652c-4fef-a832-4d15df1fbbbb",
   "metadata": {},
   "source": [
    "2. Mutability.\n",
    " \n",
    " #Lists: Mutable, meaning you can change their contents after creation. You can add, remove, or modify elements."
   ]
  },
  {
   "cell_type": "code",
   "execution_count": null,
   "id": "c31cae5b-0021-4b9f-8bd9-de8f7b941378",
   "metadata": {},
   "outputs": [],
   "source": [
    "my_list = [1, 2, 3]\n",
    "my_list[1] = 20        # Modify an element\n",
    "my_list.append(4)     # Add an element\n",
    "print(my_list)        # Output: [1, 20, 3, 4]"
   ]
  },
  {
   "cell_type": "markdown",
   "id": "8444b1d7-2280-46fb-98b4-71c7cad0e373",
   "metadata": {},
   "source": [
    "#Tuples: Immutable, meaning once a tuple is created, you cannot change its contents. You cannot add, remove, or modify elements."
   ]
  },
  {
   "cell_type": "code",
   "execution_count": null,
   "id": "f0e8a5ae-3b1e-4bb2-aa9d-5378994d1b3c",
   "metadata": {},
   "outputs": [],
   "source": [
    "my_tuple = (1, 2, 3)\n",
    "# The following lines will raise errors:\n",
    "# my_tuple[1] = 20\n",
    "# my_tuple.append(4)"
   ]
  },
  {
   "cell_type": "markdown",
   "id": "9f66a36d-e3fe-481f-986c-265e47980acb",
   "metadata": {},
   "source": [
    "3. Use Cases\n",
    "#Lists: Typically used when you need a collection of items that might change over time. Lists are more flexible and support a wide range of operations."
   ]
  },
  {
   "cell_type": "code",
   "execution_count": null,
   "id": "01235b26-14c0-4bd9-9e37-daaeb99141d9",
   "metadata": {},
   "outputs": [],
   "source": [
    "# Example use case: A list of tasks to be completed, which may be updated\n",
    "tasks = [\"buy groceries\", \"clean house\", \"write report\"]"
   ]
  },
  {
   "cell_type": "markdown",
   "id": "44091eb0-4cfd-4879-bd65-c4da7eb20918",
   "metadata": {},
   "source": [
    "#Tuples: Generally used when you have a fixed collection of items that should not change. Tuples are often used to represent records or immutable groups of related data."
   ]
  },
  {
   "cell_type": "code",
   "execution_count": null,
   "id": "fdaf3c49-278b-46b5-a6fb-04866859e1a0",
   "metadata": {},
   "outputs": [],
   "source": [
    "# Example use case: A tuple representing a 2D coordinate\n",
    "coordinate = (10, 20)"
   ]
  },
  {
   "cell_type": "markdown",
   "id": "4e618140-7cfe-42cf-b5d3-2c2ba56f9873",
   "metadata": {},
   "source": [
    "4. Performance\n",
    "#Lists: Slightly less efficient in terms of performance compared to tuples, particularly for operations involving large amounts of data. The overhead of mutability adds to the cost.\n",
    "\n",
    "#Tuples: Typically more memory-efficient and faster for iteration and access because of their immutability. This makes tuples a good choice for fixed-size collections.\n",
    "\n",
    "5. Methods\n",
    "#Lists: Have several built-in methods for modification, such as append(), remove(), extend(), pop(), sort(), etc."
   ]
  },
  {
   "cell_type": "code",
   "execution_count": null,
   "id": "c909655a-ff6e-437f-83f8-f76a4fdd14ba",
   "metadata": {},
   "outputs": [],
   "source": [
    "my_list = [1, 2, 3]\n",
    "my_list.append(4)\n",
    "my_list.remove(2)\n",
    "my_list.sort()"
   ]
  },
  {
   "cell_type": "markdown",
   "id": "f1912b4f-3b72-4aae-9643-1f8a7b3fef82",
   "metadata": {},
   "source": [
    "#Tuples: Have fewer built-in methods, primarily count() and index(), since they are immutable."
   ]
  },
  {
   "cell_type": "code",
   "execution_count": null,
   "id": "9646734b-568b-4c6f-88b1-37e9ec774145",
   "metadata": {},
   "outputs": [],
   "source": [
    "my_tuple = (1, 2, 3, 2)\n",
    "print(my_tuple.count(2))  # Output: 2\n",
    "print(my_tuple.index(3))  # Output: 2"
   ]
  },
  {
   "cell_type": "markdown",
   "id": "df4b5200-ba38-4ae5-931b-bfc6a77b6365",
   "metadata": {},
   "source": [
    "## Q5 Describe the key features of sets and provide examples of their use. \n",
    "\n",
    "#Sets are a fundamental data structure in Python that represent collections of unique elements. \n",
    "#They provide several key features and are useful in various scenarios where you need to manage and manipulate collections of distinct items. \n",
    "#Here are the key features of sets along with examples of their use:\n",
    "\n",
    "#Key Features of Sets\n",
    "\n",
    "\n",
    "#1 Unordered Collection - Unordered: Sets do not maintain the order of elements. The items are stored in an arbitrary order, which means you cannot index or slice sets."
   ]
  },
  {
   "cell_type": "code",
   "execution_count": null,
   "id": "3aab408e-e6be-4474-82dc-8d5a382dd8fd",
   "metadata": {},
   "outputs": [],
   "source": [
    "my_set = {1, 2, 3, 4}\n",
    "print(my_set)  # Output: {1, 2, 3, 4} (order may vary)"
   ]
  },
  {
   "cell_type": "markdown",
   "id": "c898bc89-d6cd-46e9-b3de-3d9a4669fcee",
   "metadata": {},
   "source": [
    "### 2 Unique Elements\n",
    "\n",
    "#No Duplicates: Sets automatically eliminate duplicate elements. Each element in a set is unique."
   ]
  },
  {
   "cell_type": "code",
   "execution_count": null,
   "id": "25ec00a7-dde2-4151-aae0-0f3c8076e2aa",
   "metadata": {},
   "outputs": [],
   "source": [
    "my_set = {1, 2, 2, 3, 4}\n",
    "print(my_set)  # Output: {1, 2, 3, 4}"
   ]
  },
  {
   "cell_type": "markdown",
   "id": "e55d95a3-afcc-4d93-a4a7-c92c5a55c1e4",
   "metadata": {},
   "source": [
    "### 3 Mutable\n",
    "\n",
    "#Modifiable: You can add or remove elements from a set after its creation."
   ]
  },
  {
   "cell_type": "code",
   "execution_count": null,
   "id": "37285462-e70e-4d5d-aec9-358f55568767",
   "metadata": {},
   "outputs": [],
   "source": [
    "my_set = {1, 2, 3}\n",
    "my_set.add(4)       # Add an element\n",
    "my_set.remove(2)    # Remove an element\n",
    "print(my_set)       # Output: {1, 3, 4}"
   ]
  },
  {
   "cell_type": "markdown",
   "id": "bf581ba8-24c6-411c-95e0-9a747582b5e0",
   "metadata": {},
   "source": [
    "### 4 Set Operations\n",
    "\n",
    "#Mathematical Set Operations: Sets support mathematical operations like union, intersection, difference, and symmetric difference."
   ]
  },
  {
   "cell_type": "code",
   "execution_count": null,
   "id": "b9a1ab28-9ce1-4db4-a497-a148b9d9189b",
   "metadata": {},
   "outputs": [],
   "source": [
    "set_a = {1, 2, 3, 4}\n",
    "set_b = {3, 4, 5, 6}\n",
    "\n",
    "union_set = set_a.union(set_b)          # Union\n",
    "intersection_set = set_a.intersection(set_b)  # Intersection\n",
    "difference_set = set_a.difference(set_b)      # Difference\n",
    "symmetric_difference_set = set_a.symmetric_difference(set_b)  # Symmetric Difference\n",
    "\n",
    "print(union_set)            # Output: {1, 2, 3, 4, 5, 6}\n",
    "print(intersection_set)     # Output: {3, 4}\n",
    "print(difference_set)       # Output: {1, 2}\n",
    "print(symmetric_difference_set)  # Output: {1, 2, 5, 6}"
   ]
  },
  {
   "cell_type": "markdown",
   "id": "db121f02-b444-4e55-9239-d45b841036ae",
   "metadata": {},
   "source": [
    "## Q6 Discuss the use cases of tuples and sets in Python programming.\n",
    "\n",
    "#Tuples and sets are both useful data structures in Python, each with unique characteristics that make them suited for different use cases.\n",
    "\n",
    "#Use Cases of Tuples\n",
    "\n",
    "#1 Immutable Data Structures\n",
    "\n",
    "#Fixed Collections: Tuples are ideal for representing fixed collections of items that should not be modified.\n",
    "\n",
    "#This is useful for fixed configuration data or function return values where immutability is important."
   ]
  },
  {
   "cell_type": "code",
   "execution_count": null,
   "id": "791516f9-23fa-476e-9877-f1041aa107d4",
   "metadata": {},
   "outputs": [],
   "source": [
    "def get_coordinates():\n",
    "    return (10, 20)  # Returning a fixed pair of coordinates\n",
    "\n",
    "coords = get_coordinates()\n",
    "print(coords)  # Output: (10, 20)"
   ]
  },
  {
   "cell_type": "markdown",
   "id": "198328c2-3e57-4d5b-bbff-9e157b760f0e",
   "metadata": {},
   "source": [
    "### 2 Data Records\n",
    "\n",
    "#Structured Records: Tuples can be used to represent records or data structures where each element has a specific meaning. \n",
    "#For example, a tuple can represent a person's name, age, and address."
   ]
  },
  {
   "cell_type": "code",
   "execution_count": null,
   "id": "c5c7082a-3f37-4e81-865a-249780de53de",
   "metadata": {},
   "outputs": [],
   "source": [
    "person = (\"John Doe\", 30, \"123 Elm St\")\n",
    "name, age, address = person\n",
    "print(f\"Name: {name}, Age: {age}, Address: {address}\")\n",
    "# Output: Name: John Doe, Age: 30, Address: 123 Elm St"
   ]
  },
  {
   "cell_type": "markdown",
   "id": "cdf3c711-a65d-41c9-99e1-887fcdc7a65e",
   "metadata": {},
   "source": [
    "### 3 Keys in Dictionaries\n",
    "\n",
    "#Hashable Elements: Tuples can be used as keys in dictionaries because they are immutable and hashable. \n",
    "#This is useful for creating dictionaries with composite keys."
   ]
  },
  {
   "cell_type": "code",
   "execution_count": null,
   "id": "022e38dd-338d-4597-847d-2c5c56b68b85",
   "metadata": {},
   "outputs": [],
   "source": [
    "locations = {(\"USA\", \"New York\"): \"NYC\", (\"USA\", \"California\"): \"LA\"}\n",
    "print(locations[(\"USA\", \"New York\")])  # Output: NYC"
   ]
  },
  {
   "cell_type": "markdown",
   "id": "23a24992-12d4-499f-b568-f14016745e2e",
   "metadata": {},
   "source": [
    "## Q7 Describe how to add, modify, and delete items in a dictionary with examples.\n",
    "\n",
    "#Dictionaries in Python are mutable collections that store key-value pairs. This means you can add, modify, and delete items in a dictionary dynamically. Here's a guide on how to perform these operations with examples:\n",
    "\n",
    "#1. Adding Items - You can add new key-value pairs to a dictionary by simply assigning a value to a new key.\n",
    "\n",
    "#Adding a Single Item"
   ]
  },
  {
   "cell_type": "code",
   "execution_count": null,
   "id": "e4764fa8-cf24-49d2-85af-44f967924c15",
   "metadata": {},
   "outputs": [],
   "source": [
    "# Creating a dictionary\n",
    "my_dict = {\"name\": \"Alice\", \"age\": 25}\n",
    "\n",
    "# Adding a new key-value pair\n",
    "my_dict[\"city\"] = \"New York\"\n",
    "\n",
    "print(my_dict)  # Output: {'name': 'Alice', 'age': 25, 'city': 'New York'}"
   ]
  },
  {
   "cell_type": "markdown",
   "id": "2ae00d88-ef98-4247-be72-0d0017d0236b",
   "metadata": {},
   "source": [
    "#Adding Multiple Items - You can also add multiple items at once by using the update() method or by assigning a dictionary to a slice."
   ]
  },
  {
   "cell_type": "code",
   "execution_count": null,
   "id": "e7ea9164-113f-4a3b-94bf-1033f381f33e",
   "metadata": {},
   "outputs": [],
   "source": [
    "# Adding multiple items using update()\n",
    "my_dict.update({\"job\": \"Engineer\", \"country\": \"USA\"})\n",
    "\n",
    "print(my_dict)  # Output: {'name': 'Alice', 'age': 25, 'city': 'New York', 'job': 'Engineer', 'country': 'USA'}\n",
    "\n",
    "# Adding multiple items using a dictionary\n",
    "my_dict = {**my_dict, \"hobby\": \"Reading\", \"email\": \"praiz@example.com\"}\n",
    "\n",
    "print(my_dict)  # Output: {'name': 'Alice', 'age': 25, 'city': 'New York', 'job': 'Engineer', 'country': 'USA', 'hobby': 'Reading', 'email': 'alice@example.com'}"
   ]
  },
  {
   "cell_type": "markdown",
   "id": "b2d198de-5a76-4409-a64b-55866c66741d",
   "metadata": {},
   "source": [
    "### 2. Modifying Items\n",
    "#You can modify the value associated with an existing key by assigning a new value to that key.\n",
    "\n",
    "#Modifying a Single Item"
   ]
  },
  {
   "cell_type": "code",
   "execution_count": null,
   "id": "70da30fc-f21d-4891-83d6-ac4897f37a1b",
   "metadata": {},
   "outputs": [],
   "source": [
    "# Creating a dictionary\n",
    "my_dict = {\"name\": \"Alice\", \"age\": 25, \"city\": \"New York\"}\n",
    "\n",
    "# Modifying the value associated with an existing key\n",
    "my_dict[\"age\"] = 26\n",
    "\n",
    "print(my_dict)  # Output: {'name': 'Alice', 'age': 26, 'city': 'New York'}"
   ]
  },
  {
   "cell_type": "markdown",
   "id": "f73ac37b-4594-470d-94f2-9b51e4456611",
   "metadata": {},
   "source": [
    "   #Using update() to Modify Multiple Items\n",
    "#You can also use the update() method to modify multiple items or add new ones."
   ]
  },
  {
   "cell_type": "code",
   "execution_count": null,
   "id": "5d8b807d-9385-4496-9349-036a9dece2a3",
   "metadata": {},
   "outputs": [],
   "source": [
    "my_dict.update({\"city\": \"Los Angeles\", \"job\": \"Manager\"})\n",
    "\n",
    "print(my_dict)  # Output: {'name': 'Alice', 'age': 26, 'city': 'Los Angeles', 'job': 'Manager'}"
   ]
  },
  {
   "cell_type": "markdown",
   "id": "8e95972c-f472-41fd-be93-4e7f32218e58",
   "metadata": {},
   "source": [
    "### 3. Deleting Items\n",
    "#You can delete items from a dictionary using several methods, including the del statement, pop() method, and popitem() method.\n",
    "\n",
    "#Deleting a Single Item."
   ]
  },
  {
   "cell_type": "code",
   "execution_count": null,
   "id": "a2f7bfab-de32-420e-855b-80e49a95e571",
   "metadata": {},
   "outputs": [],
   "source": [
    "my_dict = {\"name\": \"Alice\", \"age\": 26, \"city\": \"Los Angeles\"}\n",
    "\n",
    "# Deleting a specific key-value pair\n",
    "del my_dict[\"city\"]\n",
    "\n",
    "print(my_dict)  # Output: {'name': 'Alice', 'age': 26}"
   ]
  },
  {
   "cell_type": "markdown",
   "id": "18eb1dd3-43bf-443f-afb4-8f0e59cf7803",
   "metadata": {},
   "source": [
    "#Clearing All Items\n",
    "#Using clear() Method\n",
    "\n",
    "#The clear() method removes all items from the dictionary, leaving it empty."
   ]
  },
  {
   "cell_type": "code",
   "execution_count": null,
   "id": "002ee03c-c7ce-4f40-94ce-c5fdf588b0a7",
   "metadata": {},
   "outputs": [],
   "source": [
    "my_dict = {\"name\": \"Alice\", \"age\": 26, \"city\": \"Los Angeles\"}\n",
    "\n",
    "# Clearing all items\n",
    "my_dict.clear()\n",
    "\n",
    "print(my_dict)  # Output: {}"
   ]
  },
  {
   "cell_type": "markdown",
   "id": "aed38dfd-d675-4974-a3f9-07b91e994ec0",
   "metadata": {},
   "source": [
    "## Q8  Discuss the importance of dictionary keys being immutable and provide examples.\n",
    "\n",
    "#In Python, dictionary keys must be immutable because immutability ensures that the keys remain consistent and reliable throughout the dictionary's lifetime. \n",
    "#This requirement is crucial for maintaining the integrity and efficiency of dictionary operations. Here's a detailed discussion on the importance of immutable keys with examples:\n",
    "\n",
    "#Importance of Immutable Dictionary Keys\n",
    "\n",
    "\n",
    "#1 Hash Consistency\n",
    "\n",
    "#Hashing Requirement: Dictionaries in Python use a hash table to store and retrieve key-value pairs efficiently. \n",
    "#A hash function computes a hash value based on the key, which determines where the key-value pair is stored in memory.\n",
    "#Immutability: Immutable objects have a consistent hash value throughout their lifetime. If a key were mutable, its hash value could change if the key's internal state changes, leading to incorrect behavior and potential data corruption in the dictionary.\n",
    "\n",
    "#Example:"
   ]
  },
  {
   "cell_type": "code",
   "execution_count": null,
   "id": "534a2b78-cff6-4b55-bfb8-490bdce34770",
   "metadata": {},
   "outputs": [],
   "source": [
    "my_dict = {(\"a\", \"b\"): 1}  # Tuple (immutable) as a key\n",
    "print(my_dict[(\"a\", \"b\")])  # Output: 1\n",
    "\n",
    "# Attempting to use a mutable key like a list would be problematic\n",
    "# my_dict[[1, 2]] = 2  # This raises a TypeError"
   ]
  },
  {
   "cell_type": "markdown",
   "id": "ebfa4f7f-f7c9-4772-b722-12c02e65c9a0",
   "metadata": {},
   "source": [
    "### 2 Data Integrity\n",
    "\n",
    "#Preventing Modification: Immutable keys ensure that once a key is added to the dictionary, it cannot be altered.\n",
    "\n",
    "#This stability is vital for maintaining data integrity and consistency within the dictionary.\n",
    "\n",
    "#Predictable Behavior: Since immutable keys cannot change, you can reliably retrieve values associated with specific keys without worrying about the key’s state changing.\n",
    "\n",
    "\n",
    "#Example:"
   ]
  },
  {
   "cell_type": "code",
   "execution_count": null,
   "id": "3c94b8fa-2268-4059-aae7-f1862b314a5f",
   "metadata": {},
   "outputs": [],
   "source": [
    "my_dict = {1: \"one\", 2: \"two\"}\n",
    "my_dict[1] = \"uno\"  # Valid operation, modifying the value associated with key 1\n",
    "\n",
    "print(my_dict)  # Output: {1: 'uno', 2: 'two'}"
   ]
  },
  {
   "cell_type": "markdown",
   "id": "4e024eac-be83-4ab0-b0aa-bcbe795205af",
   "metadata": {},
   "source": [
    "### 3 Efficient Lookups\n",
    "\n",
    "#Hash Table Efficiency: The efficiency of dictionary operations (like lookups, insertions, and deletions) relies on the immutability of keys. \n",
    "\n",
    "#The hash table can quickly compute the index for an immutable key without concerns about changing hash values.\n",
    "\n",
    "#Avoiding Collisions: Immutable keys help avoid collisions and ensure that each key maps to a unique location in the hash table.\n",
    "\n",
    "#Example:"
   ]
  },
  {
   "cell_type": "code",
   "execution_count": null,
   "id": "d0bd4692-56c3-4426-93a5-68340e7ff891",
   "metadata": {},
   "outputs": [],
   "source": [
    "my_dict = {100: \"apple\", 200: \"banana\"}\n",
    "print(my_dict[100])  # Output: 'apple'"
   ]
  },
  {
   "cell_type": "markdown",
   "id": "af428c18-bdc3-4760-bae8-0daaff6dd261",
   "metadata": {},
   "source": [
    "## Examples of Immutable vs. Mutable Keys\n",
    "\n",
    "###   Immutable Keys\n",
    "\n",
    "#### Tuples (Immutable)"
   ]
  },
  {
   "cell_type": "code",
   "execution_count": null,
   "id": "b504bf3d-eeeb-4130-931b-ad1bf04e56cf",
   "metadata": {},
   "outputs": [],
   "source": [
    "my_dict = {(\"key1\", \"key2\"): \"value\"}\n",
    "print(my_dict[(\"key1\", \"key2\")])  # Output: 'value'"
   ]
  },
  {
   "cell_type": "markdown",
   "id": "f9721348-524c-4d70-82e0-19ecbc9e69b1",
   "metadata": {},
   "source": [
    "#### Strings (Immutable)"
   ]
  },
  {
   "cell_type": "code",
   "execution_count": null,
   "id": "efed7d0f-c1c4-4511-b0d7-0bec55c1fb02",
   "metadata": {},
   "outputs": [],
   "source": [
    "my_dict = {\"name\": \"Alice\", \"age\": 30}\n",
    "print(my_dict[\"name\"])  # Output: 'Alice'"
   ]
  },
  {
   "cell_type": "markdown",
   "id": "3b7ed4fa-641e-4580-aa6a-2b17d0fb0f49",
   "metadata": {},
   "source": [
    "#### Numbers (Immutable)"
   ]
  },
  {
   "cell_type": "code",
   "execution_count": null,
   "id": "f0b0eefe-79de-4d64-ae37-f7586761e2cf",
   "metadata": {},
   "outputs": [],
   "source": [
    "my_dict = {1: \"one\", 2: \"two\"}\n",
    "print(my_dict[2])  # Output: 'two'"
   ]
  },
  {
   "cell_type": "markdown",
   "id": "c4f160e1-ab7d-4c78-84b2-c34d0501f9fb",
   "metadata": {},
   "source": [
    "####  Mutable Keys\n",
    "\n",
    "#Lists (Mutable): Lists cannot be used as dictionary keys because they are mutable."
   ]
  },
  {
   "cell_type": "code",
   "execution_count": null,
   "id": "7d9b688b-4f6a-49da-84aa-dc9dc5bfa216",
   "metadata": {},
   "outputs": [],
   "source": [
    "my_dict = {}  # Empty dictionary\n",
    "try:\n",
    "    my_dict[[1, 2]] = \"value\"  # This raises a TypeError\n",
    "except TypeError as e:\n",
    "    print(e)  # Output: unhashable type: 'list'"
   ]
  },
  {
   "cell_type": "markdown",
   "id": "2baa41d6-8d28-451e-be48-350692c3533a",
   "metadata": {},
   "source": [
    "#Dictionaries (Mutable): Dictionaries cannot be used as keys for similar reasons."
   ]
  },
  {
   "cell_type": "code",
   "execution_count": null,
   "id": "3a67ea9c-fc9d-4c1c-876a-9d0ead1df4e8",
   "metadata": {},
   "outputs": [],
   "source": [
    "my_dict = {}  # Empty dictionary\n",
    "try:\n",
    "    my_dict[{\"key\": \"value\"}] = \"something\"  # This raises a TypeError\n",
    "except TypeError as e:\n",
    "    print(e)  # Output: unhashable type: 'dict'"
   ]
  },
  {
   "cell_type": "markdown",
   "id": "0a4b2845-fc9b-4d1d-b048-f2f33ca6fa28",
   "metadata": {},
   "source": [
    "# The requirement for dictionary keys to be immutable ensures that:\n",
    "\n",
    "### Hash Consistency: Keys have a consistent hash value, preventing issues with data retrieval and storage.\n",
    "### Data Integrity: The stability of keys prevents unintended modifications and maintains data consistency.\n",
    "### Efficient Lookups: Immutable keys enhance the efficiency and reliability of dictionary operations."
   ]
  }
 ],
 "metadata": {
  "kernelspec": {
   "display_name": "Python 3 (ipykernel)",
   "language": "python",
   "name": "python3"
  },
  "language_info": {
   "codemirror_mode": {
    "name": "ipython",
    "version": 3
   },
   "file_extension": ".py",
   "mimetype": "text/x-python",
   "name": "python",
   "nbconvert_exporter": "python",
   "pygments_lexer": "ipython3",
   "version": "3.10.8"
  }
 },
 "nbformat": 4,
 "nbformat_minor": 5
}
