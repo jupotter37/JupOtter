{
 "cells": [
  {
   "cell_type": "markdown",
   "metadata": {},
   "source": [
    "# Elements of Programming Interview\n",
    "\n",
    "## Hash Tables\n",
    "\n",
    "A hash table is a data structure used to store keys, optionally, with corresponding values. Inserts, deletes and lookups tun in $O(1)$ time on average.\n",
    "\n",
    "**Underlying idea**: \n",
    "\n",
    "* Store the keys in an array.\n",
    "    * The location of the key in the array is based on its \"hash code\".\n",
    "    * The **hash code** is an **integer** computed from the key by a hash function.\n",
    "* If two keys map to the same location, a \"collision\" is said to occur.\n",
    "    * To deal with collisions, one maintains a linked list of objects at each array location.\n",
    "* If the hash function does a good job of spreading objects across the underlying array and take $O(1)$ time to compute\n",
    "    * on average, **lookups**, **insertions**, and **deletions** have $O(1+n/m)$ time complexity\n",
    "        * n = number of objects\n",
    "        * m = length of the array\n",
    "    * When $n/m$ grows large, rehashing can be applied (larger number of locations is allocated, and the objects are moved to the new array) which takes $O(n+m)$ time. \n",
    "        * If rehashing is done infrequently, its amortized cost is low.\n",
    "        \n",
    "### The Hard Requirement of a Hash Function\n",
    "\n",
    "Equal keys should have equal hash codes. It is easy to get wrong, e.g., by writing a hash function that is based on address rather than contents, or by including profiling data.\n",
    "\n",
    "### Softer Requirement of a Hash Function\n",
    "\n",
    "Hash function should spread keys, i.e., the hash codes for a subset of objects should be uniformly distributed across the underlying array. In addition, a hash function should be efficient to compute.\n",
    "\n",
    "### Designing a Hash Function Suitable for Strings\n",
    "\n",
    "* The hash function should examine all the characters in the string.\n",
    "* It should give a large range of values\n",
    "* It should not let one character dominate (e.g., if we simply cast characters to integers and multiplied them, a single $0$ would result in a hash code of $0$).\n",
    "* We would also like a rolling hash function, one in which if a character is deleted from the front of the string, and another added to the end, the new hash code can be computed in $O(1)$ time.\n",
    "\n",
    "The following function has these properties:\n"
   ]
  },
  {
   "cell_type": "code",
   "execution_count": 1,
   "metadata": {},
   "outputs": [
    {
     "data": {
      "text/plain": [
       "6920348317506"
      ]
     },
     "execution_count": 1,
     "metadata": {},
     "output_type": "execute_result"
    }
   ],
   "source": [
    "import functools\n",
    "\n",
    "def string_hash(s, modulus):\n",
    "    MULT = 997\n",
    "    return functools.reduce(lambda v, c: (v * MULT) + ord(c) % modulus, s, 0)\n",
    "\n",
    "string_hash('araks', 10)"
   ]
  },
  {
   "cell_type": "markdown",
   "metadata": {},
   "source": [
    "## Hash Table Boot Camp\n",
    "\n",
    "### An Application of Hash Tables\n",
    "\n",
    "**Problem**: Suppose you were asked to write a program that takes as input a set of words and returns groups of anagrams for those words. Wach group must contain at least two words.\n",
    "\n",
    "**Solution**: Given any string, its sorted version can be used as a unique identifier for the anagram group it belongs to. Our algorithm proceeds by adding sort(*s*) for each string *s* to a hash table. \n",
    "* Anytime you need to store a set of strings, a hash table is an excellent choice."
   ]
  },
  {
   "cell_type": "code",
   "execution_count": 2,
   "metadata": {},
   "outputs": [
    {
     "data": {
      "text/plain": [
       "[['listen', 'silent'], ['levis', 'elvis', 'lives'], ['debitcard', 'badcredit']]"
      ]
     },
     "execution_count": 2,
     "metadata": {},
     "output_type": "execute_result"
    }
   ],
   "source": [
    "import collections\n",
    "\n",
    "def find_anagram(dictionary_of_words):\n",
    "    sorted_string_to_anagram = collections.defaultdict(list)\n",
    "    for s in dictionary_of_words:\n",
    "        sorted_string_to_anagram[''.join(sorted(s))].append(s)\n",
    "        \n",
    "    return [group for group in sorted_string_to_anagram.values() if len(group) >= 2]\n",
    "\n",
    "find_anagram(['listen', 'levis', 'debitcard', 'badcredit', 'elvis', 'silent', 'money', 'lives'])"
   ]
  },
  {
   "cell_type": "markdown",
   "metadata": {},
   "source": [
    "**Time complxity:** $O(nm\\log{m})$, where $n$ is the number of strings and $m$ is the maximum string length. Explanation: \n",
    "* There are $n$ calls to sort -> Sorting all keys has time complexity $O(nm\\log{m})$\n",
    "* There are $n$ insertions into tha hash table -> Insertions add a time complexity of $O(nm)$"
   ]
  },
  {
   "cell_type": "markdown",
   "metadata": {},
   "source": [
    "### Design of a Hashable Class\n",
    "\n",
    "Consider a class that represents contacts. \n",
    "* Assume each contact is a string. \n",
    "* Suppose that individual contacts are to be stored in a list and it's possible that the list contains duplicates. \n",
    "* Multiplicity is not important, i.e., three repetitions of the same contact is the same as a single instance of that contact.\n",
    "\n",
    "Two contacts should be equal if they contain the same set of strings, regardless of the ordering of the strings within the underlying list.  \n",
    "\n",
    "In order to be able to store contacts in a hash table, we first need to explicitly define equality, which we can do by forming sets from the lists and comparing the sets.  \n",
    "\n",
    "**Note**: The hash function and equals methods below are very inefficient. In practice, it would be advisable to cache the underlying set and the hash code, remembering to void these values on updates."
   ]
  },
  {
   "cell_type": "code",
   "execution_count": 3,
   "metadata": {},
   "outputs": [
    {
     "name": "stdout",
     "output_type": "stream",
     "text": [
      "<__main__.ContactList object at 0x104b43a20> 4\n",
      "<__main__.ContactList object at 0x104b43b38> 2\n"
     ]
    }
   ],
   "source": [
    "class ContactList:\n",
    "    def __init__(self, names):\n",
    "        '''\n",
    "        names is a list of strings\n",
    "        '''\n",
    "        self.names = names\n",
    "    \n",
    "    def __hash__(self):\n",
    "        '''\n",
    "        Conceptually we want to hash the set of names.\n",
    "        Since the set type is mutable, it cannot be hashed. Therefore we use frozenset.\n",
    "        '''\n",
    "        return hash(frozenset(self.names))\n",
    "    \n",
    "    def __eq__(self, other):\n",
    "        return set(self.names) == set(other.names)\n",
    "    \n",
    "def merge_contact_lists(contacts):\n",
    "    '''\n",
    "    contacts is a list of ContactList.\n",
    "    '''\n",
    "    return list(set(contacts))\n",
    "\n",
    "contact_list_1 = ContactList(['john', 'james'])\n",
    "contact_list_2 = ContactList(['ann', 'david', 'ann', 'mike'])\n",
    "contact_list_3 = ContactList(['james', 'john', 'james'])\n",
    "merged_contact_lists = merge_contact_lists([contact_list_1, contact_list_2, contact_list_3])\n",
    "\n",
    "# Create a dictionary the keys of which are the ContactList objetcs and the values are the length of the contacts lists.\n",
    "contacts_dict = collections.defaultdict(int)\n",
    "for item in merged_contact_lists:\n",
    "    contacts_dict[item] = len(item.names)\n",
    "\n",
    "for key in contacts_dict:\n",
    "    print(key, contacts_dict[key])"
   ]
  },
  {
   "cell_type": "markdown",
   "metadata": {},
   "source": [
    "**Notice**, that depending on the definition of equality there are only 2 key/value pairs in our dictionary.  \n",
    "**Let's** try the same without our definition of equality."
   ]
  },
  {
   "cell_type": "code",
   "execution_count": 4,
   "metadata": {},
   "outputs": [
    {
     "name": "stdout",
     "output_type": "stream",
     "text": [
      "<__main__.ContactList object at 0x104b43550> 3\n",
      "<__main__.ContactList object at 0x104b43630> 4\n",
      "<__main__.ContactList object at 0x104b43668> 2\n"
     ]
    }
   ],
   "source": [
    "class ContactList:\n",
    "    def __init__(self, names):\n",
    "        '''\n",
    "        names is a list of strings\n",
    "        '''\n",
    "        self.names = names\n",
    "    \n",
    "    def __hash__(self):\n",
    "        '''\n",
    "        Conceptually we want to hash the set of names.\n",
    "        Since the set type is mutable, it cannot be hashed. Therefore we use frozenset.\n",
    "        '''\n",
    "        return hash(frozenset(self.names))\n",
    "    \n",
    "#     def __eq__(self, other):\n",
    "#         return set(self.names) == set(other.names)\n",
    "    \n",
    "def merge_contact_lists(contacts):\n",
    "    '''\n",
    "    contacts is a list of ContactList.\n",
    "    '''\n",
    "    return list(set(contacts))\n",
    "\n",
    "contact_list_1 = ContactList(['john', 'james'])\n",
    "contact_list_2 = ContactList(['ann', 'david', 'ann', 'mike'])\n",
    "contact_list_3 = ContactList(['james', 'john', 'james'])\n",
    "merged_contact_lists = merge_contact_lists([contact_list_1, contact_list_2, contact_list_3])\n",
    "\n",
    "# Create a dictionary the keys of which are the ContactList objetcs and the values are the length of the contacts lists.\n",
    "contacts_dict = collections.defaultdict(int)\n",
    "for item in merged_contact_lists:\n",
    "    contacts_dict[item] = len(item.names)\n",
    "\n",
    "for key in contacts_dict:\n",
    "    print(key, contacts_dict[key])"
   ]
  },
  {
   "cell_type": "markdown",
   "metadata": {},
   "source": [
    "**Notice**, that without the definition of equality there are 3 key/value pairs in our dictionary as ['john', 'james'] and ['james', 'john', 'james'] are now considered not equal to each other.\n",
    "\n",
    "**What if** now we try skipping the definition of the hash function?"
   ]
  },
  {
   "cell_type": "code",
   "execution_count": 5,
   "metadata": {},
   "outputs": [
    {
     "ename": "TypeError",
     "evalue": "unhashable type: 'ContactList'",
     "output_type": "error",
     "traceback": [
      "\u001b[0;31m-------------------------------------------------------------------------\u001b[0m",
      "\u001b[0;31mTypeError\u001b[0m                               Traceback (most recent call last)",
      "\u001b[0;32m<ipython-input-5-4030cd6ec6bc>\u001b[0m in \u001b[0;36m<module>\u001b[0;34m\u001b[0m\n\u001b[1;32m     25\u001b[0m \u001b[0mcontact_list_2\u001b[0m \u001b[0;34m=\u001b[0m \u001b[0mContactList\u001b[0m\u001b[0;34m(\u001b[0m\u001b[0;34m[\u001b[0m\u001b[0;34m'ann'\u001b[0m\u001b[0;34m,\u001b[0m \u001b[0;34m'david'\u001b[0m\u001b[0;34m,\u001b[0m \u001b[0;34m'ann'\u001b[0m\u001b[0;34m,\u001b[0m \u001b[0;34m'mike'\u001b[0m\u001b[0;34m]\u001b[0m\u001b[0;34m)\u001b[0m\u001b[0;34m\u001b[0m\u001b[0;34m\u001b[0m\u001b[0m\n\u001b[1;32m     26\u001b[0m \u001b[0mcontact_list_3\u001b[0m \u001b[0;34m=\u001b[0m \u001b[0mContactList\u001b[0m\u001b[0;34m(\u001b[0m\u001b[0;34m[\u001b[0m\u001b[0;34m'james'\u001b[0m\u001b[0;34m,\u001b[0m \u001b[0;34m'john'\u001b[0m\u001b[0;34m,\u001b[0m \u001b[0;34m'james'\u001b[0m\u001b[0;34m]\u001b[0m\u001b[0;34m)\u001b[0m\u001b[0;34m\u001b[0m\u001b[0;34m\u001b[0m\u001b[0m\n\u001b[0;32m---> 27\u001b[0;31m \u001b[0mmerged_contact_lists\u001b[0m \u001b[0;34m=\u001b[0m \u001b[0mmerge_contact_lists\u001b[0m\u001b[0;34m(\u001b[0m\u001b[0;34m[\u001b[0m\u001b[0mcontact_list_1\u001b[0m\u001b[0;34m,\u001b[0m \u001b[0mcontact_list_2\u001b[0m\u001b[0;34m,\u001b[0m \u001b[0mcontact_list_3\u001b[0m\u001b[0;34m]\u001b[0m\u001b[0;34m)\u001b[0m\u001b[0;34m\u001b[0m\u001b[0;34m\u001b[0m\u001b[0m\n\u001b[0m\u001b[1;32m     28\u001b[0m \u001b[0;34m\u001b[0m\u001b[0m\n\u001b[1;32m     29\u001b[0m \u001b[0;31m# Create a dictionary the keys of which are the ContactList objetcs and the values are the length of the contacts lists.\u001b[0m\u001b[0;34m\u001b[0m\u001b[0;34m\u001b[0m\u001b[0;34m\u001b[0m\u001b[0m\n",
      "\u001b[0;32m<ipython-input-5-4030cd6ec6bc>\u001b[0m in \u001b[0;36mmerge_contact_lists\u001b[0;34m(contacts)\u001b[0m\n\u001b[1;32m     20\u001b[0m     \u001b[0mcontacts\u001b[0m \u001b[0;32mis\u001b[0m \u001b[0ma\u001b[0m \u001b[0mlist\u001b[0m \u001b[0mof\u001b[0m \u001b[0mContactList\u001b[0m\u001b[0;34m.\u001b[0m\u001b[0;34m\u001b[0m\u001b[0;34m\u001b[0m\u001b[0m\n\u001b[1;32m     21\u001b[0m     '''\n\u001b[0;32m---> 22\u001b[0;31m     \u001b[0;32mreturn\u001b[0m \u001b[0mlist\u001b[0m\u001b[0;34m(\u001b[0m\u001b[0mset\u001b[0m\u001b[0;34m(\u001b[0m\u001b[0mcontacts\u001b[0m\u001b[0;34m)\u001b[0m\u001b[0;34m)\u001b[0m\u001b[0;34m\u001b[0m\u001b[0;34m\u001b[0m\u001b[0m\n\u001b[0m\u001b[1;32m     23\u001b[0m \u001b[0;34m\u001b[0m\u001b[0m\n\u001b[1;32m     24\u001b[0m \u001b[0mcontact_list_1\u001b[0m \u001b[0;34m=\u001b[0m \u001b[0mContactList\u001b[0m\u001b[0;34m(\u001b[0m\u001b[0;34m[\u001b[0m\u001b[0;34m'john'\u001b[0m\u001b[0;34m,\u001b[0m \u001b[0;34m'james'\u001b[0m\u001b[0;34m]\u001b[0m\u001b[0;34m)\u001b[0m\u001b[0;34m\u001b[0m\u001b[0;34m\u001b[0m\u001b[0m\n",
      "\u001b[0;31mTypeError\u001b[0m: unhashable type: 'ContactList'"
     ]
    }
   ],
   "source": [
    "class ContactList:\n",
    "    def __init__(self, names):\n",
    "        '''\n",
    "        names is a list of strings\n",
    "        '''\n",
    "        self.names = names\n",
    "    \n",
    "#     def __hash__(self):\n",
    "#         '''\n",
    "#         Conceptually we want to hash the set of names.\n",
    "#         Since the set type is mutable, it cannot be hashed. Therefore we use frozenset.\n",
    "#         '''\n",
    "#         return hash(frozenset(self.names))\n",
    "    \n",
    "    def __eq__(self, other):\n",
    "        return set(self.names) == set(other.names)\n",
    "    \n",
    "def merge_contact_lists(contacts):\n",
    "    '''\n",
    "    contacts is a list of ContactList.\n",
    "    '''\n",
    "    return list(set(contacts))\n",
    "\n",
    "contact_list_1 = ContactList(['john', 'james'])\n",
    "contact_list_2 = ContactList(['ann', 'david', 'ann', 'mike'])\n",
    "contact_list_3 = ContactList(['james', 'john', 'james'])\n",
    "merged_contact_lists = merge_contact_lists([contact_list_1, contact_list_2, contact_list_3])\n",
    "\n",
    "# Create a dictionary the keys of which are the ContactList objetcs and the values are the length of the contacts lists.\n",
    "contacts_dict = collections.defaultdict(int)\n",
    "for item in merged_contact_lists:\n",
    "    contacts_dict[item] = len(item.names)\n",
    "\n",
    "for key in contacts_dict:\n",
    "    print(key, contacts_dict[key])"
   ]
  },
  {
   "cell_type": "markdown",
   "metadata": {},
   "source": [
    "**Unhashable type**, of course."
   ]
  },
  {
   "cell_type": "markdown",
   "metadata": {},
   "source": [
    "## Know Your Hash Table Libraries\n",
    "\n",
    "Hash table-based data structures in Python:\n",
    "* set\n",
    "* dict\n",
    "* collections.defaultdict\n",
    "* collections.Counter\n",
    "\n",
    "The difference between set and the other three is that set simply stores keys, whereas the others store key-value pairs. All have the property that they do not allow for duplicate keys, unlike, for example, list.\n",
    "\n",
    "* Accessing value associated with a key that is not present in a **dict** leads to a **KeyError** exception.\n",
    "* However, **collections.defaultdict** returns the default value of the type that was specified when the collection was instantiated.\n",
    "* **collections.Counter** is used for counting the number of occurances of keys, with a number of set-like operations, as illustrated below."
   ]
  },
  {
   "cell_type": "code",
   "execution_count": 6,
   "metadata": {},
   "outputs": [
    {
     "data": {
      "text/plain": [
       "Counter({'a': 4, 'b': 3})"
      ]
     },
     "execution_count": 6,
     "metadata": {},
     "output_type": "execute_result"
    }
   ],
   "source": [
    "c = collections.Counter(a=3, b=1)\n",
    "d = collections.Counter(a=1, b=2)\n",
    "\n",
    "# add two counters together\n",
    "c + d"
   ]
  },
  {
   "cell_type": "code",
   "execution_count": 7,
   "metadata": {},
   "outputs": [
    {
     "data": {
      "text/plain": [
       "Counter({'a': 2})"
      ]
     },
     "execution_count": 7,
     "metadata": {},
     "output_type": "execute_result"
    }
   ],
   "source": [
    "# Subtract (keeping only positive counts)\n",
    "c - d"
   ]
  },
  {
   "cell_type": "code",
   "execution_count": 8,
   "metadata": {},
   "outputs": [
    {
     "data": {
      "text/plain": [
       "Counter({'a': 1, 'b': 1})"
      ]
     },
     "execution_count": 8,
     "metadata": {},
     "output_type": "execute_result"
    }
   ],
   "source": [
    "# Intersection\n",
    "c & d"
   ]
  },
  {
   "cell_type": "code",
   "execution_count": 9,
   "metadata": {},
   "outputs": [
    {
     "data": {
      "text/plain": [
       "Counter({'a': 3, 'b': 2})"
      ]
     },
     "execution_count": 9,
     "metadata": {},
     "output_type": "execute_result"
    }
   ],
   "source": [
    "# Union\n",
    "c | d"
   ]
  },
  {
   "cell_type": "markdown",
   "metadata": {},
   "source": [
    "* The most common operations for set are *s.add(42), s.remove(42), s.discard(123), x in s*, as well as *s <= t* (is a subset of t), and *s - t* (elements is s that are in t).\n",
    "* The basic operations on the three key-value collections are similar to those on set.\n",
    "    * Difference: iteration over key-value collections yields the keys.\n",
    "        * To iterate over the key-value pairs: items()\n",
    "        * To iterate over values: values()\n",
    "        * To iterate over keys: keys() (returns an iterator to the keys)\n",
    "        \n",
    "**Mutable containers are not hashable**.  \n",
    "**Note** that the built-in ***hash()*** function can greatly simplify the implementation of a hash function for a user-defined class, i.e., implementing __ hash(self) __."
   ]
  }
 ],
 "metadata": {
  "kernelspec": {
   "display_name": "Python 3",
   "language": "python",
   "name": "python3"
  },
  "language_info": {
   "codemirror_mode": {
    "name": "ipython",
    "version": 3
   },
   "file_extension": ".py",
   "mimetype": "text/x-python",
   "name": "python",
   "nbconvert_exporter": "python",
   "pygments_lexer": "ipython3",
   "version": "3.7.3"
  }
 },
 "nbformat": 4,
 "nbformat_minor": 4
}
