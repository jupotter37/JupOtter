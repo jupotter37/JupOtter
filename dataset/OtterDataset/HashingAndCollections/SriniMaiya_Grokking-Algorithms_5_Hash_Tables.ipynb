{
 "cells": [
  {
   "cell_type": "markdown",
   "metadata": {},
   "source": [
    "# Hash Tables\n",
    "\n",
    "- A data structure that implements an associative array mapping the keys to values via a hash function.\n",
    "\n",
    "- The associative array stores a set (key,value) of pairs and allows insertion, deletion and lookup. The keys of this array must be unique.\n",
    "\n",
    "- Ideally, the hash function is desired to parse each key into a unique bucket(index in the memory). But most of the hash table designs employ an imperfect hash function, which might cause hash collisions (2 or more keys are assigned to the same bucket) and such collisions are typically resolved with various resolution mechanisms.\n"
   ]
  },
  {
   "cell_type": "markdown",
   "metadata": {},
   "source": [
    "## Load factor\n",
    "\n",
    "- Is a critical statistic of the hash table.\n",
    "\n",
    "- An array $A$, with length $m$ is partially filled with $n$ elements, where $m \\geq n$  \n",
    "    - A value $x$ gets stored at an index location $ A[h(x)]$ , where $h$ is the hashfunction and $h(x)<m$\n",
    "\n",
    "$$ load factor(\\alpha) =\\frac{n}{m} $$ \n",
    "\n",
    "- Performance of the hash table deteriorates with increase in the load factor $\\alpha$.\n",
    "    - The hash table is resized\\rehashed, if the load factor $\\alpha$ approaches 1.\n",
    "    - Acceptable figures of load factor $\\alpha$ ranges between 0.6 to 0.75\n"
   ]
  },
  {
   "cell_type": "markdown",
   "metadata": {},
   "source": [
    "## Use cases\n",
    "- Hash tables are used to map one thing to other.\n",
    "- Used when frequent lookups are required.\n",
    "- DNS resolution, to translate web address to IP addresses.\n",
    "- To prevent duplicate entries.\n",
    "- As cache."
   ]
  },
  {
   "cell_type": "code",
   "execution_count": 1,
   "metadata": {},
   "outputs": [],
   "source": [
    "# In python, a dictionary itself is a hashmap.\n",
    "phone_book = {}\n",
    "phone_book[\"Maximilian\"] = 45223544\n",
    "phone_book[\"Mustermann\"] = 1234445334"
   ]
  },
  {
   "cell_type": "code",
   "execution_count": 7,
   "metadata": {},
   "outputs": [
    {
     "data": {
      "text/plain": [
       "1234445334"
      ]
     },
     "execution_count": 7,
     "metadata": {},
     "output_type": "execute_result"
    }
   ],
   "source": [
    "phone_book[\"Mustermann\"]"
   ]
  },
  {
   "cell_type": "markdown",
   "metadata": {},
   "source": [
    "## Time complexity\n",
    "-   |OP|Average case | Worst case|\n",
    "    |:-:|:-:|:-:|\n",
    "    Search|$O(1)$|$O(n)$\n",
    "    Insert|$O(1)$|$O(n)$\n",
    "    Deletion|$O(1)$|$O(n)$\n"
   ]
  },
  {
   "cell_type": "markdown",
   "metadata": {},
   "source": [
    "- Assuming a computer can do 10 operations per second, a comparision of the best case scenarios to look-up (search) is as follows\n",
    "\n",
    "    -   |# of items | Simple search<br/> $O(n)$|Binary search <br/> $O(log(n))$ | Hash tables <br/>$O(1) $|\n",
    "        |:-:|:-:|:-:|:-:|\n",
    "        |100 | 10 sec| 1 sec|Instant\n",
    "        |1000| 1.6 min|1 sec | Instant\n",
    "        |10000| 16.6 min|2 sec| Instant\n"
   ]
  },
  {
   "cell_type": "markdown",
   "metadata": {},
   "source": [
    "- A simple resolution to avoid collission is to grow a linked-list at the index where collision is happening. If the list grows too long, it slows down the hash table by a lot. [ As look up for linked list has time complexity of $O(n)$]"
   ]
  }
 ],
 "metadata": {
  "kernelspec": {
   "display_name": "Python 3",
   "language": "python",
   "name": "python3"
  },
  "language_info": {
   "codemirror_mode": {
    "name": "ipython",
    "version": 3
   },
   "file_extension": ".py",
   "mimetype": "text/x-python",
   "name": "python",
   "nbconvert_exporter": "python",
   "pygments_lexer": "ipython3",
   "version": "3.10.6"
  },
  "orig_nbformat": 4
 },
 "nbformat": 4,
 "nbformat_minor": 2
}
