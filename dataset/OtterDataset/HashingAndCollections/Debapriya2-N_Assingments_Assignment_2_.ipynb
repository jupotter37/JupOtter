{
  "nbformat": 4,
  "nbformat_minor": 0,
  "metadata": {
    "colab": {
      "provenance": []
    },
    "kernelspec": {
      "name": "python3",
      "display_name": "Python 3"
    },
    "language_info": {
      "name": "python"
    }
  },
  "cells": [
    {
      "cell_type": "markdown",
      "source": [
        "#Data Types and Structures Questions\n"
      ],
      "metadata": {
        "id": "Y8mv63xmm795"
      }
    },
    {
      "cell_type": "markdown",
      "source": [
        "1. What are data structures, and why are they important?\n",
        "- Data structures organize and store data efficiently for easy access and manipulation.\n",
        "Importance: Boosts efficiency, optimizes resources, solves problems, and supports complex applications.\n",
        "\n",
        "\n",
        "2. Explain the difference between mutable and immutable data types with examples ?\n",
        "- Mutable: Can be changed after creation. Example: list, dict."
      ],
      "metadata": {
        "id": "VVBLQabMm-EM"
      }
    },
    {
      "cell_type": "code",
      "source": [
        "a = [1, 2, 3]\n",
        "a[0] = 5  # Allowed\n"
      ],
      "metadata": {
        "id": "AQr_WkW0nk5x"
      },
      "execution_count": null,
      "outputs": []
    },
    {
      "cell_type": "markdown",
      "source": [
        "- immutable: Cannot be changed after creation. Example: tuple, str."
      ],
      "metadata": {
        "id": "C3-W9l0Ynr5w"
      }
    },
    {
      "cell_type": "code",
      "source": [
        "b = \"hello\"\n",
        "b[0] = \"H\"  # Error\n"
      ],
      "metadata": {
        "colab": {
          "base_uri": "https://localhost:8080/",
          "height": 158
        },
        "id": "hMOlX3ANnxbH",
        "outputId": "af3950fd-2a22-4dcd-8cb3-a2ba42c4f93e"
      },
      "execution_count": null,
      "outputs": [
        {
          "output_type": "error",
          "ename": "TypeError",
          "evalue": "'str' object does not support item assignment",
          "traceback": [
            "\u001b[0;31m---------------------------------------------------------------------------\u001b[0m",
            "\u001b[0;31mTypeError\u001b[0m                                 Traceback (most recent call last)",
            "\u001b[0;32m<ipython-input-2-8e9578324a26>\u001b[0m in \u001b[0;36m<cell line: 2>\u001b[0;34m()\u001b[0m\n\u001b[1;32m      1\u001b[0m \u001b[0mb\u001b[0m \u001b[0;34m=\u001b[0m \u001b[0;34m\"hello\"\u001b[0m\u001b[0;34m\u001b[0m\u001b[0;34m\u001b[0m\u001b[0m\n\u001b[0;32m----> 2\u001b[0;31m \u001b[0mb\u001b[0m\u001b[0;34m[\u001b[0m\u001b[0;36m0\u001b[0m\u001b[0;34m]\u001b[0m \u001b[0;34m=\u001b[0m \u001b[0;34m\"H\"\u001b[0m  \u001b[0;31m# Error\u001b[0m\u001b[0;34m\u001b[0m\u001b[0;34m\u001b[0m\u001b[0m\n\u001b[0m",
            "\u001b[0;31mTypeError\u001b[0m: 'str' object does not support item assignment"
          ]
        }
      ]
    },
    {
      "cell_type": "markdown",
      "source": [
        "3.  What are the main differences between lists and tuples in Python?\n",
        "- Mutability: Lists are mutable; tuples are immutable.\n",
        "\n",
        "-  Syntax: Lists use [], tuples use ().\n",
        "\n",
        "- Performance: Tuples are faster than lists.\n",
        "\n",
        "Use Case: Lists for dynamic data; tuples for fixed data.\n",
        "\n",
        "\n",
        "\n",
        "4. Describe how dictionaries store data?\n",
        "- Dictionaries store data as key-value pairs in a hash table. Keys are hashed for quick lookup, and values are accessed via these unique keys.\n",
        "\n",
        "5. Why might you use a set instead of a list in Python?\n",
        "- Use a set instead of a list when:\n",
        "\n",
        "- Uniqueness: You need only unique elements.\n",
        "Efficiency: Faster membership tests (in) than lists.\n",
        "Set Operations: For union, intersection, and difference.\n",
        "\n",
        "6. What is a string in Python, and how is it different from a list?\n",
        "-  string in Python is an immutable sequence of characters.\n",
        "\n",
        "Differences from a list:\n",
        "\n",
        "Strings store characters; lists store various data types.\n",
        "Strings are immutable; lists are mutable.\n",
        "Strings use ' or \", lists use [ ].\n",
        "\n",
        "7. How do tuples ensure data integrity in Python?\n",
        "- Tuples are immutable, meaning their contents cannot be modified after creation. This ensures data remains consistent and secure from unintended changes.\n",
        "\n",
        "8. What is a hash table, and how does it relate to dictionaries in Python?\n",
        "- A hash table is a data structure that maps keys to values using a hash function for fast lookups. Python dictionaries use hash tables to store key-value pairs efficiently.\n",
        "\n",
        "9.  Can lists contain different data types in Python?\n",
        "- Yes, in Python, lists can contain elements of different data types. For example\n",
        "\n",
        "\n",
        "\n",
        "\n"
      ],
      "metadata": {
        "id": "WzcI583En2Yx"
      }
    },
    {
      "cell_type": "code",
      "source": [
        "mixed_list = [1, \"hello\", 3.14, True]\n",
        "print(mixed_list)  # Output: [1, 'hello', 3.14, True]\n"
      ],
      "metadata": {
        "colab": {
          "base_uri": "https://localhost:8080/"
        },
        "id": "4ESp-HZyzkyq",
        "outputId": "33af1c24-11d3-4564-92f6-fcff0608af11"
      },
      "execution_count": 1,
      "outputs": [
        {
          "output_type": "stream",
          "name": "stdout",
          "text": [
            "[1, 'hello', 3.14, True]\n"
          ]
        }
      ]
    },
    {
      "cell_type": "markdown",
      "source": [
        "10. Explain why strings are immutable in Python?\n",
        "- Strings are immutable in Python because once a string is created, its content cannot be changed. This design ensures:\n",
        "\n",
        "Memory Efficiency: Strings can be reused instead of creating duplicates, saving memory (e.g., string interning).\n",
        "\n",
        "Thread Safety: Immutability makes strings safer to use in concurrent programming as their value cannot change unexpectedly.\n",
        "\n",
        "Hashability: Strings are hashable and can be used as keys in dictionaries, as their hash value remains consistent."
      ],
      "metadata": {
        "id": "o07RYe9gzqNa"
      }
    },
    {
      "cell_type": "code",
      "source": [
        "s = \"hello\"\n",
        "# s[0] = \"H\"  # This would raise an error\n",
        "s = \"H\" + s[1:]  # Create a new string\n",
        "print(s)  # Output: \"Hello\"\n"
      ],
      "metadata": {
        "colab": {
          "base_uri": "https://localhost:8080/"
        },
        "id": "jecDKe_Nz2QP",
        "outputId": "35cbbf53-9465-4088-9a08-07f0bbb9db99"
      },
      "execution_count": 2,
      "outputs": [
        {
          "output_type": "stream",
          "name": "stdout",
          "text": [
            "Hello\n"
          ]
        }
      ]
    },
    {
      "cell_type": "markdown",
      "source": [
        "11. What advantages do dictionaries offer over lists for certain tasks?\n",
        "- Dictionaries offer several advantages over lists for certain tasks:\n",
        "\n",
        "Fast Lookups: Dictionaries provide average O(1) time complexity for key-based lookups, while lists require O(n) for searching specific elements.\n",
        "\n",
        "Key-Value Pairing: Dictionaries store data as key-value pairs, making them ideal for tasks where data is best accessed by a unique identifier (key) rather than a numeric index.\n",
        "\n",
        "Flexible Keys: Keys in dictionaries can be of various immutable types (e.g., strings, tuples), enabling versatile data organization.\n",
        "\n",
        "No Duplicate Keys: Dictionaries prevent duplicate keys, ensuring data integrity when managing unique identifiers.\n",
        "\n",
        "Efficient Updates: Updating or adding key-value pairs in a dictionary is more efficient compared to searching and updating values in a list.\n",
        "\n",
        "Example\n",
        "Using a dictionary for storing and retrieving employee data by ID:"
      ],
      "metadata": {
        "id": "RKkIbM2Gz5yh"
      }
    },
    {
      "cell_type": "code",
      "source": [
        "employees = {101: \"Alice\", 102: \"Bob\", 103: \"Charlie\"}\n",
        "print(employees[102])  # Output: \"Bob\"\n"
      ],
      "metadata": {
        "colab": {
          "base_uri": "https://localhost:8080/"
        },
        "id": "Vi3hCRKl0GHl",
        "outputId": "cbf13c2d-d43d-4850-b9e9-4717804dcbab"
      },
      "execution_count": 3,
      "outputs": [
        {
          "output_type": "stream",
          "name": "stdout",
          "text": [
            "Bob\n"
          ]
        }
      ]
    },
    {
      "cell_type": "markdown",
      "source": [
        "12. Describe a scenario where using a tuple would be preferable over a list?\n",
        "\n",
        "- Using a tuple is preferable over a list when you need to ensure that the data remains unchanged (immutable) and is used as a constant set of values.\n",
        "\n",
        "Scenario: Coordinates of a Point\n",
        "For example, in a program dealing with 2D or 3D geometry, the coordinates of a point (e.g., (x, y) or (x, y, z)) are unlikely to change. Using a tuple ensures the integrity of the data:"
      ],
      "metadata": {
        "id": "biJDQpaq0Je0"
      }
    },
    {
      "cell_type": "code",
      "source": [
        "point = (5, 10)  # A tuple for coordinates\n",
        "# point[0] = 7  # This will raise an error as tuples are immutable\n"
      ],
      "metadata": {
        "id": "ZR1D1u510Y8S"
      },
      "execution_count": 4,
      "outputs": []
    },
    {
      "cell_type": "markdown",
      "source": [
        "13. How do sets handle duplicate values in Python?\n",
        "- In Python, sets automatically eliminate duplicate values. When you add elements to a set, only unique elements are retained, as sets are unordered collections of unique items.\n",
        "\n",
        "Example:"
      ],
      "metadata": {
        "id": "ZB-7oig-0bU2"
      }
    },
    {
      "cell_type": "code",
      "source": [
        "my_set = {1, 2, 2, 3, 4, 4}\n",
        "print(my_set)  # Output: {1, 2, 3, 4}\n"
      ],
      "metadata": {
        "colab": {
          "base_uri": "https://localhost:8080/"
        },
        "id": "WZjuokl7BhDZ",
        "outputId": "eb5b0e0d-d14c-4dd9-b4b8-2a17630ab528"
      },
      "execution_count": 1,
      "outputs": [
        {
          "output_type": "stream",
          "name": "stdout",
          "text": [
            "{1, 2, 3, 4}\n"
          ]
        }
      ]
    },
    {
      "cell_type": "markdown",
      "source": [
        "How It Works:\n",
        "Duplicate Removal: When adding items to a set, Python checks if the value already exists. If it does, it ignores the duplicate.\n",
        "Result: The set contains only one instance of each value.\n",
        "This property makes sets useful for tasks like deduplication in a collection of data.\n",
        "\n",
        "\n",
        "\n",
        "\n",
        "14. How does the “in” keyword work differently for lists and dictionaries?\n",
        "- Lists: in checks for values (O(n)).\n",
        "Example: 2 in [1, 2, 3] → True\n",
        "\n",
        "Dictionaries: in checks for keys (O(1)).\n",
        "Example: \"a\" in {\"a\": 1, \"b\": 2} → True\n",
        "\n",
        "For values in dictionaries: 2 in my_dict.values() → True.\n",
        "\n",
        "15. Can you modify the elements of a tuple? Explain why or why note?\n",
        "- No, you cannot modify the elements of a tuple because tuples are immutable in Python. Once created, their elements cannot be changed, added, or removed.\n",
        "\n",
        "Reason:\n",
        "Immutability ensures data integrity and allows tuples to be used as keys in dictionaries or elements in sets.\n",
        "\n",
        "16. What is a nested dictionary, and give an example of its use case?\n",
        "- A nested dictionary is a dictionary within another dictionary.\n"
      ],
      "metadata": {
        "id": "RHbRHEsrBqPf"
      }
    },
    {
      "cell_type": "code",
      "source": [
        "students = {\"Alice\": {\"age\": 20, \"grade\": \"A\"}}\n",
        "print(students[\"Alice\"][\"grade\"])  # Output: A\n"
      ],
      "metadata": {
        "colab": {
          "base_uri": "https://localhost:8080/"
        },
        "id": "PI1wuyDsFbtc",
        "outputId": "68bbe12a-440c-437d-e6f9-1f0149234658"
      },
      "execution_count": 2,
      "outputs": [
        {
          "output_type": "stream",
          "name": "stdout",
          "text": [
            "A\n"
          ]
        }
      ]
    },
    {
      "cell_type": "markdown",
      "source": [
        "17. Describe the time complexity of accessing elements in a dictionary?\n",
        "- Accessing elements in a dictionary has an average time complexity of O(1), thanks to its underlying hash table implementation. This allows for constant-time lookups by key.\n",
        "\n",
        "18.  In what situations are lists preferred over dictionaries?\n",
        "- Lists are preferred over dictionaries when:\n",
        "\n",
        "Order Matters: Lists maintain the order of elements.\n",
        "Index-Based Access: When you need to access elements by their position (index).\n",
        "Simple Data: For storing homogeneous or small datasets where key-value pairs are unnecessary.\n",
        "Duplicates Allowed: When you need to allow duplicate elements.\n",
        "\n",
        "19. Why are dictionaries considered unordered, and how does that affect data retrieval?\n",
        "- Dictionaries are considered unordered because their elements are stored based on the hash values of the keys, not in any specific order.\n",
        "\n",
        "Effect on Data Retrieval:\n",
        "Unpredictable Order: The order of elements is not guaranteed (though from Python 3.7+, insertion order is preserved).\n",
        "Fast Lookup: Data retrieval by key is fast (O(1) on average), regardless of order.\n",
        "\n",
        "20. Explain the difference between a list and a dictionary in terms of data retrieval?\n",
        "- List: Data is retrieved by index (position). Retrieval time is O(1) for direct access, but O(n) for searching a value.\n",
        "\n",
        "- Dictionary: Data is retrieved by key. Retrieval time is O(1) on average, thanks to hashing. Searching by value requires O(n)."
      ],
      "metadata": {
        "id": "T-Zq_14EFeSf"
      }
    },
    {
      "cell_type": "markdown",
      "source": [
        "#Practical Questions"
      ],
      "metadata": {
        "id": "jj24Vf3jGOqm"
      }
    },
    {
      "cell_type": "markdown",
      "source": [
        "1. Write a code to create a string with your name and print it?"
      ],
      "metadata": {
        "id": "gqI7BvgAGuTw"
      }
    },
    {
      "cell_type": "code",
      "source": [
        "name = \"Debapriya\"\n",
        "print(name)\n"
      ],
      "metadata": {
        "colab": {
          "base_uri": "https://localhost:8080/"
        },
        "id": "rHkZa2moGxIa",
        "outputId": "2007981d-4cb7-4a39-a76e-60f337337635"
      },
      "execution_count": 3,
      "outputs": [
        {
          "output_type": "stream",
          "name": "stdout",
          "text": [
            "Debapriya\n"
          ]
        }
      ]
    },
    {
      "cell_type": "markdown",
      "source": [
        "2.Write a code to find the length of the string \"Hello World\"?\n"
      ],
      "metadata": {
        "id": "a7rdP5WpGzuP"
      }
    },
    {
      "cell_type": "code",
      "source": [
        "length = len(\"Hello World\")\n",
        "print(length)\n"
      ],
      "metadata": {
        "colab": {
          "base_uri": "https://localhost:8080/"
        },
        "id": "twQHQmAhG24F",
        "outputId": "3822396d-1423-452a-ba78-50daef494b3b"
      },
      "execution_count": 4,
      "outputs": [
        {
          "output_type": "stream",
          "name": "stdout",
          "text": [
            "11\n"
          ]
        }
      ]
    },
    {
      "cell_type": "markdown",
      "source": [
        "3. Write a code to slice the first 3 characters from the string \"Python Programming\"?"
      ],
      "metadata": {
        "id": "HRGdZqeBG-9G"
      }
    },
    {
      "cell_type": "code",
      "source": [
        "slice_string = \"Python Programming\"[:3]\n",
        "print(slice_string)\n"
      ],
      "metadata": {
        "colab": {
          "base_uri": "https://localhost:8080/"
        },
        "id": "R0BLN0YYHDBj",
        "outputId": "c84cd770-b463-44ac-ccaa-f0ecb2ec7059"
      },
      "execution_count": 5,
      "outputs": [
        {
          "output_type": "stream",
          "name": "stdout",
          "text": [
            "Pyt\n"
          ]
        }
      ]
    },
    {
      "cell_type": "code",
      "source": [],
      "metadata": {
        "id": "xhyRrk2HHE4r"
      },
      "execution_count": null,
      "outputs": []
    },
    {
      "cell_type": "markdown",
      "source": [
        "4. Write a code to convert the string \"hello\" to uppercase?"
      ],
      "metadata": {
        "id": "gfoHZU82HFVm"
      }
    },
    {
      "cell_type": "code",
      "source": [
        "uppercase_string = \"hello\".upper()\n",
        "print(uppercase_string)\n"
      ],
      "metadata": {
        "colab": {
          "base_uri": "https://localhost:8080/"
        },
        "id": "ALdIT8l_HJ6i",
        "outputId": "b6cd7337-af5f-413f-dcaa-470594301245"
      },
      "execution_count": 6,
      "outputs": [
        {
          "output_type": "stream",
          "name": "stdout",
          "text": [
            "HELLO\n"
          ]
        }
      ]
    },
    {
      "cell_type": "markdown",
      "source": [
        "5.Write a code to replace the word \"apple\" with \"orange\" in the string \"I like apple\"?\n"
      ],
      "metadata": {
        "id": "XQ3ZzlzKHM2Q"
      }
    },
    {
      "cell_type": "code",
      "source": [
        "new_string = \"I like apple\".replace(\"apple\", \"orange\")\n",
        "print(new_string)\n"
      ],
      "metadata": {
        "colab": {
          "base_uri": "https://localhost:8080/"
        },
        "id": "4EXbdUSjHRYN",
        "outputId": "350d1139-7248-4288-be4e-f7b698329808"
      },
      "execution_count": 7,
      "outputs": [
        {
          "output_type": "stream",
          "name": "stdout",
          "text": [
            "I like orange\n"
          ]
        }
      ]
    },
    {
      "cell_type": "markdown",
      "source": [
        "6.Write a code to create a list with numbers 1 to 5 and print it?"
      ],
      "metadata": {
        "id": "XOi-Nm3vHUkv"
      }
    },
    {
      "cell_type": "code",
      "source": [
        "number_list = [1, 2, 3, 4, 5]\n",
        "print(number_list)\n"
      ],
      "metadata": {
        "colab": {
          "base_uri": "https://localhost:8080/"
        },
        "id": "m1-D5n5kHZ6k",
        "outputId": "ca8a9168-3440-4d1a-c133-d5c5396239a5"
      },
      "execution_count": 8,
      "outputs": [
        {
          "output_type": "stream",
          "name": "stdout",
          "text": [
            "[1, 2, 3, 4, 5]\n"
          ]
        }
      ]
    },
    {
      "cell_type": "markdown",
      "source": [
        "7.Write a code to append the number 10 to the list [1, 2, 3, 4]?\n"
      ],
      "metadata": {
        "id": "eGwXG3F-Hdn9"
      }
    },
    {
      "cell_type": "code",
      "source": [
        "number_list = [1, 2, 3, 4]\n",
        "number_list.append(10)\n",
        "print(number_list)\n"
      ],
      "metadata": {
        "colab": {
          "base_uri": "https://localhost:8080/"
        },
        "id": "lHZ3x1aHHhtO",
        "outputId": "4a42dd74-dd52-48b6-f495-df981e1da392"
      },
      "execution_count": 10,
      "outputs": [
        {
          "output_type": "stream",
          "name": "stdout",
          "text": [
            "[1, 2, 3, 4, 10]\n"
          ]
        }
      ]
    },
    {
      "cell_type": "markdown",
      "source": [
        "8. Write a code to remove the number 3 from the list [1, 2, 3, 4, 5]?\n"
      ],
      "metadata": {
        "id": "ub7L0nk1Htk0"
      }
    },
    {
      "cell_type": "code",
      "source": [
        "number_list = [1, 2, 3, 4, 5]\n",
        "number_list.remove(3)\n",
        "print(number_list)\n"
      ],
      "metadata": {
        "colab": {
          "base_uri": "https://localhost:8080/"
        },
        "id": "ypl4ta03Hw_N",
        "outputId": "6b637ea1-bafb-4563-ea59-9bc0a11dfaf1"
      },
      "execution_count": 11,
      "outputs": [
        {
          "output_type": "stream",
          "name": "stdout",
          "text": [
            "[1, 2, 4, 5]\n"
          ]
        }
      ]
    },
    {
      "cell_type": "markdown",
      "source": [
        "9.  Write a code to access the second element in the list ['a', 'b', 'c', 'd']?\n"
      ],
      "metadata": {
        "id": "VamU4k0zHzEb"
      }
    },
    {
      "cell_type": "code",
      "source": [
        "my_list = ['a', 'b', 'c', 'd']\n",
        "print(my_list[1])\n"
      ],
      "metadata": {
        "colab": {
          "base_uri": "https://localhost:8080/"
        },
        "id": "rrt9thEGH4zL",
        "outputId": "42fbd6e7-8b60-4d45-e008-a2f2a9179ef9"
      },
      "execution_count": 12,
      "outputs": [
        {
          "output_type": "stream",
          "name": "stdout",
          "text": [
            "b\n"
          ]
        }
      ]
    },
    {
      "cell_type": "markdown",
      "source": [
        "10. E Write a code to reverse the list [10, 20, 30, 40, 50]?\n"
      ],
      "metadata": {
        "id": "ex5hpbuzH8F9"
      }
    },
    {
      "cell_type": "code",
      "source": [
        "my_list = [10, 20, 30, 40, 50]\n",
        "my_list.reverse()\n",
        "print(my_list)\n"
      ],
      "metadata": {
        "colab": {
          "base_uri": "https://localhost:8080/"
        },
        "id": "BlUGfqKVH_1v",
        "outputId": "46f93657-01ce-4327-b646-8adf5b2dd33e"
      },
      "execution_count": 13,
      "outputs": [
        {
          "output_type": "stream",
          "name": "stdout",
          "text": [
            "[50, 40, 30, 20, 10]\n"
          ]
        }
      ]
    },
    {
      "cell_type": "markdown",
      "source": [
        "11. Write a code to create a tuple with the elements 10, 20, 30 and print it?\n"
      ],
      "metadata": {
        "id": "UqQaN6UjIDQK"
      }
    },
    {
      "cell_type": "code",
      "source": [
        "my_tuple = (10, 20, 30)\n",
        "print(my_tuple)\n"
      ],
      "metadata": {
        "colab": {
          "base_uri": "https://localhost:8080/"
        },
        "id": "FsZvqrtcIGf-",
        "outputId": "c7ce06b0-b186-458d-950a-3af0b1ec1cbb"
      },
      "execution_count": 14,
      "outputs": [
        {
          "output_type": "stream",
          "name": "stdout",
          "text": [
            "(10, 20, 30)\n"
          ]
        }
      ]
    },
    {
      "cell_type": "markdown",
      "source": [
        "12.  Write a code to access the first element of the tuple ('apple', 'banana', 'cherry')?\n"
      ],
      "metadata": {
        "id": "W4lDE8uIILwO"
      }
    },
    {
      "cell_type": "code",
      "source": [
        "my_tuple = ('apple', 'banana', 'cherry')\n",
        "print(my_tuple[0])\n"
      ],
      "metadata": {
        "colab": {
          "base_uri": "https://localhost:8080/"
        },
        "id": "Tb1K8FU2INPk",
        "outputId": "98f2bb50-7eec-4141-e57b-817a2b095cae"
      },
      "execution_count": 15,
      "outputs": [
        {
          "output_type": "stream",
          "name": "stdout",
          "text": [
            "apple\n"
          ]
        }
      ]
    },
    {
      "cell_type": "markdown",
      "source": [
        "13. Write a code to count how many times the number 2 appears in the tuple (1, 2, 3, 2, 4, 2)?\n"
      ],
      "metadata": {
        "id": "VbynDsV4IQrD"
      }
    },
    {
      "cell_type": "code",
      "source": [
        "my_tuple = (1, 2, 3, 2, 4, 2)\n",
        "print(my_tuple.count(2))\n"
      ],
      "metadata": {
        "colab": {
          "base_uri": "https://localhost:8080/"
        },
        "id": "_fbfUZCZIUiq",
        "outputId": "e76b9c9b-2999-4f9e-e5e7-a2f7b1c1d4dc"
      },
      "execution_count": 16,
      "outputs": [
        {
          "output_type": "stream",
          "name": "stdout",
          "text": [
            "3\n"
          ]
        }
      ]
    },
    {
      "cell_type": "markdown",
      "source": [
        "14. Write a code to find the index of the element \"cat\" in the tuple"
      ],
      "metadata": {
        "id": "mXM1ZWomIZr4"
      }
    },
    {
      "cell_type": "code",
      "source": [
        "my_tuple = ('dog', 'cat', 'rabbit')\n",
        "print(my_tuple.index('cat'))\n"
      ],
      "metadata": {
        "colab": {
          "base_uri": "https://localhost:8080/"
        },
        "id": "dUr2rZHrIhAq",
        "outputId": "4b5a58a9-3a52-4a18-c3e7-015d1939c4e3"
      },
      "execution_count": 17,
      "outputs": [
        {
          "output_type": "stream",
          "name": "stdout",
          "text": [
            "1\n"
          ]
        }
      ]
    },
    {
      "cell_type": "markdown",
      "source": [
        "15.  Write a code to check if the element \"banana\" is in the tuple ('apple', 'orange', 'banana')?\n"
      ],
      "metadata": {
        "id": "czwmo05ZIi44"
      }
    },
    {
      "cell_type": "code",
      "source": [
        "my_tuple = ('apple', 'orange', 'banana')\n",
        "print('banana' in my_tuple)\n"
      ],
      "metadata": {
        "colab": {
          "base_uri": "https://localhost:8080/"
        },
        "id": "Cf8iLarnInc0",
        "outputId": "624415a1-1c95-4896-b742-84f0f5477ce4"
      },
      "execution_count": 18,
      "outputs": [
        {
          "output_type": "stream",
          "name": "stdout",
          "text": [
            "True\n"
          ]
        }
      ]
    },
    {
      "cell_type": "markdown",
      "source": [
        "16.  Write a code to create a set with the elements 1, 2, 3, 4, 5 and print it?\n"
      ],
      "metadata": {
        "id": "spFh_c6DIsof"
      }
    },
    {
      "cell_type": "code",
      "source": [
        "my_set = {1, 2, 3, 4, 5}\n",
        "print(my_set)\n"
      ],
      "metadata": {
        "colab": {
          "base_uri": "https://localhost:8080/"
        },
        "id": "cHh-e0h7Iv-d",
        "outputId": "e7122ce1-3e62-4e4c-8587-6d8e781f397a"
      },
      "execution_count": 19,
      "outputs": [
        {
          "output_type": "stream",
          "name": "stdout",
          "text": [
            "{1, 2, 3, 4, 5}\n"
          ]
        }
      ]
    },
    {
      "cell_type": "markdown",
      "source": [
        "17.  Write a code to add the element 6 to the set {1, 2, 3, 4}."
      ],
      "metadata": {
        "id": "0VsgQGSqIy9q"
      }
    },
    {
      "cell_type": "code",
      "source": [
        "my_set = {1, 2, 3, 4}\n",
        "my_set.add(6)\n",
        "print(my_set)\n"
      ],
      "metadata": {
        "colab": {
          "base_uri": "https://localhost:8080/"
        },
        "id": "Vcg7nTAII2oX",
        "outputId": "7b7999f3-1943-437b-bb3f-38a0f0b5f41f"
      },
      "execution_count": 20,
      "outputs": [
        {
          "output_type": "stream",
          "name": "stdout",
          "text": [
            "{1, 2, 3, 4, 6}\n"
          ]
        }
      ]
    },
    {
      "cell_type": "markdown",
      "source": [
        "18. Write a code to create a tuple with the elements 10, 20, 30 and print it?\n"
      ],
      "metadata": {
        "id": "ENc-xFqcI5e0"
      }
    },
    {
      "cell_type": "code",
      "source": [
        "my_tuple = (10, 20, 30)\n",
        "print(my_tuple)\n"
      ],
      "metadata": {
        "colab": {
          "base_uri": "https://localhost:8080/"
        },
        "id": "JoWmHRf7I87_",
        "outputId": "ce835bf8-9b3d-4868-b94d-4ef4bf2d3097"
      },
      "execution_count": 21,
      "outputs": [
        {
          "output_type": "stream",
          "name": "stdout",
          "text": [
            "(10, 20, 30)\n"
          ]
        }
      ]
    },
    {
      "cell_type": "markdown",
      "source": [
        "19.  Write a code to access the first element of the tuple ('apple', 'banana', 'cherry') ?"
      ],
      "metadata": {
        "id": "Zwqj_xH6I_qS"
      }
    },
    {
      "cell_type": "code",
      "source": [
        "my_tuple = ('apple', 'banana', 'cherry')\n",
        "print(my_tuple[0])\n"
      ],
      "metadata": {
        "colab": {
          "base_uri": "https://localhost:8080/"
        },
        "id": "N79yh-RBJDmH",
        "outputId": "873f1148-5eb1-4d7c-f519-709621da8755"
      },
      "execution_count": 22,
      "outputs": [
        {
          "output_type": "stream",
          "name": "stdout",
          "text": [
            "apple\n"
          ]
        }
      ]
    },
    {
      "cell_type": "markdown",
      "source": [
        "20. Write a code to count how many times the number 2 appears in the tuple (1, 2, 3, 2, 4, 2)."
      ],
      "metadata": {
        "id": "U_UTmSY3JGEe"
      }
    },
    {
      "cell_type": "code",
      "source": [
        "my_tuple = (1, 2, 3, 2, 4, 2)\n",
        "print(my_tuple.count(2))\n"
      ],
      "metadata": {
        "colab": {
          "base_uri": "https://localhost:8080/"
        },
        "id": "RS8voRzLJKhH",
        "outputId": "6cc3ea6d-989d-43c1-e6a2-59d996c4403a"
      },
      "execution_count": 23,
      "outputs": [
        {
          "output_type": "stream",
          "name": "stdout",
          "text": [
            "3\n"
          ]
        }
      ]
    },
    {
      "cell_type": "markdown",
      "source": [
        "21.  Write a code to find the index of the element \"cat\" in the tuple ('dog', 'cat', 'rabbit').?\n"
      ],
      "metadata": {
        "id": "coCsoudeJNvA"
      }
    },
    {
      "cell_type": "code",
      "source": [
        "my_tuple = ('dog', 'cat', 'rabbit')\n",
        "print(my_tuple.index('cat'))\n"
      ],
      "metadata": {
        "colab": {
          "base_uri": "https://localhost:8080/"
        },
        "id": "xqPWTIe1JSAk",
        "outputId": "69834f6c-143f-4123-ec09-c614578a0b55"
      },
      "execution_count": 24,
      "outputs": [
        {
          "output_type": "stream",
          "name": "stdout",
          "text": [
            "1\n"
          ]
        }
      ]
    },
    {
      "cell_type": "markdown",
      "source": [
        "22.Write a code to check if the element \"banana\" is in the tuple ('apple', 'orange', 'banana')"
      ],
      "metadata": {
        "id": "PCX4b2xIJVPE"
      }
    },
    {
      "cell_type": "code",
      "source": [
        "my_tuple = ('apple', 'orange', 'banana')\n",
        "print('banana' in my_tuple)\n"
      ],
      "metadata": {
        "colab": {
          "base_uri": "https://localhost:8080/"
        },
        "id": "BbSlf4TJJYA2",
        "outputId": "18d3dea3-02f3-41f0-c428-c02d9646d633"
      },
      "execution_count": 25,
      "outputs": [
        {
          "output_type": "stream",
          "name": "stdout",
          "text": [
            "True\n"
          ]
        }
      ]
    },
    {
      "cell_type": "markdown",
      "source": [
        "23.  Write a code to create a set with the elements 1, 2, 3, 4, 5 and print it?\n"
      ],
      "metadata": {
        "id": "JF0CsXI7Jar-"
      }
    },
    {
      "cell_type": "code",
      "source": [
        "my_set = {1, 2, 3, 4, 5}\n",
        "print(my_set)\n"
      ],
      "metadata": {
        "colab": {
          "base_uri": "https://localhost:8080/"
        },
        "id": "Sbn-qB0AJeGA",
        "outputId": "3b06e9d8-190c-41d4-8ffb-803fe47b9373"
      },
      "execution_count": 26,
      "outputs": [
        {
          "output_type": "stream",
          "name": "stdout",
          "text": [
            "{1, 2, 3, 4, 5}\n"
          ]
        }
      ]
    },
    {
      "cell_type": "markdown",
      "source": [
        "24.  Write a code to add the element 6 to the set {1, 2, 3, 4}. ?\n"
      ],
      "metadata": {
        "id": "smIfsgmPJhQe"
      }
    },
    {
      "cell_type": "code",
      "source": [
        "my_set = {1, 2, 3, 4}\n",
        "my_set.add(6)\n",
        "print(my_set)\n"
      ],
      "metadata": {
        "colab": {
          "base_uri": "https://localhost:8080/"
        },
        "id": "jwalQ7dTJkXB",
        "outputId": "396014bd-369c-4b67-c48a-af668d2db90e"
      },
      "execution_count": 27,
      "outputs": [
        {
          "output_type": "stream",
          "name": "stdout",
          "text": [
            "{1, 2, 3, 4, 6}\n"
          ]
        }
      ]
    }
  ]
}