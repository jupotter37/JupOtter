{
  "nbformat": 4,
  "nbformat_minor": 0,
  "metadata": {
    "colab": {
      "provenance": [],
      "authorship_tag": "ABX9TyO/p89h31GRODjey73x/Uba",
      "include_colab_link": true
    },
    "kernelspec": {
      "name": "python3",
      "display_name": "Python 3"
    },
    "language_info": {
      "name": "python"
    }
  },
  "cells": [
    {
      "cell_type": "markdown",
      "metadata": {
        "id": "view-in-github",
        "colab_type": "text"
      },
      "source": [
        "<a href=\"https://colab.research.google.com/github/Rashmiacekiper/Python_Basics_Assignment.ipynb/blob/main/Data_Structure_Assignment.ipynb\" target=\"_parent\"><img src=\"https://colab.research.google.com/assets/colab-badge.svg\" alt=\"Open In Colab\"/></a>"
      ]
    },
    {
      "cell_type": "markdown",
      "source": [
        "# 1. Discuss string slicing and provide examples.\n",
        "\n",
        "Ans - Strings are used for representing textual data. A string is a sequence of characters enclosed in either single quotes ('') or double quotes (\"\"). A string is a sequence of characters and can contain letters, nembers, symbols and even spaces. It is a immutable data type.\n",
        "\n",
        "**String Slicing**\n",
        "String slicing refers to part of a string containing some contiguous characters from the string. That is, for a string say name, if we give name [n:m] where n and m are integers and legal indices, Python will return a slice of the string by returning the characters falling between indices n and m: starting at n, n+1, n+2... till m-1.\n",
        "\n"
      ],
      "metadata": {
        "id": "jBVrsoTE2HS3"
      }
    },
    {
      "cell_type": "code",
      "source": [
        "# Example of string slicing.\n",
        "# Here, the first index will be in iclusive and last index will be exclusive)\n",
        "b = \"Hello, World!\"\n",
        "print(b[2:5])"
      ],
      "metadata": {
        "colab": {
          "base_uri": "https://localhost:8080/"
        },
        "id": "mjcKkBpY4JD1",
        "outputId": "9061ca72-645d-4865-a297-3963521478f8"
      },
      "execution_count": null,
      "outputs": [
        {
          "output_type": "stream",
          "name": "stdout",
          "text": [
            "llo\n"
          ]
        }
      ]
    },
    {
      "cell_type": "code",
      "source": [
        "# Another example\n",
        "string = \"AMAZING\"\n",
        "\n",
        "# Using slice constructor\n",
        "s1 = slice(0,3)\n",
        "s2 = slice(1,5, 2)\n",
        "s3 = slice(-1,-12,-2)\n",
        "\n",
        "print(\"String slicing\")\n",
        "print(String[s1])\n",
        "print(String[s2])\n",
        "print(String[s3])"
      ],
      "metadata": {
        "colab": {
          "base_uri": "https://localhost:8080/"
        },
        "id": "liADINRL421x",
        "outputId": "5ba7e465-af84-4d6e-ff2b-8f5a23764a21"
      },
      "execution_count": null,
      "outputs": [
        {
          "output_type": "stream",
          "name": "stdout",
          "text": [
            "String slicing\n",
            "AMA\n",
            "MZ\n",
            "GIAA\n"
          ]
        }
      ]
    },
    {
      "cell_type": "markdown",
      "source": [
        "# 2. Expalin the key features of list in Python.\n",
        "\n",
        "Ans - A list is a standard data type of Python that can store a sequence of values belonging to any type. The lists are depicted through square brackets.\n",
        "A list can be empty list (with no members), of integers, of integers and floating point numbers, of characters, of mixed value type and of strings.\n",
        "Features-:\n",
        "(a) Lists are mutable.\n",
        "(b) We can change elements of a list in place.\n",
        "(c) List in Python represents a list of comma separated values of any datatypes between square brackets.\n",
        "(d) We can change/add/delete a list element.\n",
        "(e) Lists can grow or shrink.\n",
        "(f) Lists can store elements in a specific order.\n",
        "(g) Lists can be accessed by index.\n"
      ],
      "metadata": {
        "id": "4x012vWx7JA3"
      }
    },
    {
      "cell_type": "markdown",
      "source": [
        "# 3. Describe how to access, modify and delete elements in a listwith examples.\n",
        "\n",
        "Ans - **Accessing List**\n",
        "\n",
        " list1 = ['R','A','S','H','M','I']\n",
        "\n",
        " list1[0]='R'=list1[-6]\n",
        " list1[1]='A'=list1[-5]\n",
        " list1[2]='S'=list1[-4]\n",
        " list1[3]='H'=list1[-3]\n",
        " list1[4]='M'=list1[-2]\n",
        " list1[5]='I'=list1[-1]\n",
        "\n",
        "  **Modifying List**\n",
        " We can add items to an exixting sequence. using append() method.\n"
      ],
      "metadata": {
        "id": "NnjbEiQ9_LWm"
      }
    },
    {
      "cell_type": "code",
      "source": [
        "list2=[10,11,12]\n",
        "list2.append(13)\n",
        "list2\n"
      ],
      "metadata": {
        "colab": {
          "base_uri": "https://localhost:8080/"
        },
        "id": "mLGvlVMGB9l4",
        "outputId": "19f59b02-bdaa-4f49-92d6-a2e868740645"
      },
      "execution_count": null,
      "outputs": [
        {
          "output_type": "execute_result",
          "data": {
            "text/plain": [
              "[10, 11, 12, 13]"
            ]
          },
          "metadata": {},
          "execution_count": 13
        }
      ]
    },
    {
      "cell_type": "code",
      "source": [
        "# We can update or change element of a list. In the following example: third element, as well as, 2nd index is changed to 22.\n",
        "list2=[10,11,12,13]\n",
        "list2[2]=22\n",
        "list2"
      ],
      "metadata": {
        "colab": {
          "base_uri": "https://localhost:8080/"
        },
        "id": "sdABS5ciDDoc",
        "outputId": "8248899c-00b8-40ff-b995-dc64c76f9eda"
      },
      "execution_count": null,
      "outputs": [
        {
          "output_type": "execute_result",
          "data": {
            "text/plain": [
              "[10, 11, 22, 13]"
            ]
          },
          "metadata": {},
          "execution_count": 14
        }
      ]
    },
    {
      "cell_type": "markdown",
      "source": [
        "** Deleting element in a List**\n",
        "  If we use del,list name. only, eg, del list3, it will delete all elements and the list object too.\n"
      ],
      "metadata": {
        "id": "49ZBINchF2a2"
      }
    },
    {
      "cell_type": "code",
      "source": [
        "list3=[1,2,3,4,5,6,7,8,9,10]\n",
        "del list3[5]\n",
        "list3"
      ],
      "metadata": {
        "colab": {
          "base_uri": "https://localhost:8080/"
        },
        "id": "q8qiUfhKGYqx",
        "outputId": "fe854e2d-ca8d-43d2-fec9-bb2e1d0d7fb6"
      },
      "execution_count": null,
      "outputs": [
        {
          "output_type": "execute_result",
          "data": {
            "text/plain": [
              "[1, 2, 3, 4, 5, 7, 8, 9, 10]"
            ]
          },
          "metadata": {},
          "execution_count": 21
        }
      ]
    },
    {
      "cell_type": "markdown",
      "source": [
        "The pop() can remove only single element.\n"
      ],
      "metadata": {
        "id": "1l7ZJOCOHJU8"
      }
    },
    {
      "cell_type": "code",
      "source": [
        "list3=[1,2,3,4,5,6,7,8,9,10]\n",
        "list3.pop(3)\n",
        "list3"
      ],
      "metadata": {
        "colab": {
          "base_uri": "https://localhost:8080/"
        },
        "id": "_kmv1TS7HQDk",
        "outputId": "76daf2d2-cb5e-48e6-831c-b64c768fea78"
      },
      "execution_count": null,
      "outputs": [
        {
          "output_type": "execute_result",
          "data": {
            "text/plain": [
              "[1, 2, 3, 5, 6, 7, 8, 9, 10]"
            ]
          },
          "metadata": {},
          "execution_count": 22
        }
      ]
    },
    {
      "cell_type": "markdown",
      "source": [
        "# 4. Compare and contrast tuples and lists with examples.\n",
        "Ans - List and tupples both can contain duplicate elements.\n",
        "list and tuple both can be accessed by index.\n",
        "\n",
        "(a).\tLists are mutable\tTuples are immutable.\n",
        "(b)\tThe implication of iterations is Time-consuming in List and The implication of iterations is comparatively Faster in tuple.\n",
        "(c)\tThe list is better for performing operations, such as insertion and deletion.\tA Tuple data type is appropriate for accessing the elements,\n",
        "(d)\tLists consume more memory whereas\tTuple consumes less memory as compared to the list.\n",
        "(e)\tLists have several built-in methods\tTuple does not have many built-in methods.\n",
        "(f)\tUnexpected changes and errors are more likely to occur in list but Because tuples don’t change they are far less error-prone.\n",
        "(g) Common list manipulation functions are : append(), insert(), extend(), sort(), remove(), reverse() and pop(). Common tupple manipulation funtions are len(), max(), min().\n",
        "(h) Tuples are formed by placing a comma separated tuple of expressions in parenthesis while lists are formed by placing a comma separated list of expressions in square brackets.\n",
        "\n",
        "**Example of List** = [1,2,3], [1,2.5,4.5,10], ['a','b','c'], ['a',1'b',4.5,'two'], ['one', 'two', 'three']\n",
        "\n",
        "**Example of Tuple** = (1,2,3),  (1,2.5,4.5,10), ('a','b','c'), ('a',1'b',4.5,'two'), ('one', 'two', 'three')"
      ],
      "metadata": {
        "id": "Bud7dTpiHigd"
      }
    },
    {
      "cell_type": "markdown",
      "source": [
        "# 5. Describe the key features of sets and provide examples of their use.\n",
        "\n",
        "Ans - A set is a fundamental data structure in mathematics and computer science that represents a collection of distinct objects, considered as an unordered group. Sets have several key features that make them unique and useful in various contexts:\n",
        "\n",
        "Key Features of Sets:\n",
        "1. Unordered: The elements of a set do not have any specific order. Unlike lists or arrays, the position of elements in a set does not matter.\n",
        "Example - {3,6,1,9}\n",
        "\n",
        "2. Unique Elements: A set only contains unique elements, meaning no duplicates are allowed.\n",
        "\n",
        "3. No Indexing: Sets do not support indexing or slicing because they are unordered. You cannot access individual elements by their position like you would with lists or arrays.\n",
        "\n",
        "4. Mutable (in most programming languages): Sets are typically mutable, meaning elements can be added or removed after the set is created.\n",
        "\n",
        "# Example:"
      ],
      "metadata": {
        "id": "eN0b0OPYL6sP"
      }
    },
    {
      "cell_type": "code",
      "source": [
        "set4 = {1, 2, 3}\n",
        "set4.add(4)\n",
        "set4"
      ],
      "metadata": {
        "colab": {
          "base_uri": "https://localhost:8080/"
        },
        "id": "bN9K1o7n_08C",
        "outputId": "7fd1e99f-323b-467f-94a4-00dbd5404378"
      },
      "execution_count": 2,
      "outputs": [
        {
          "output_type": "execute_result",
          "data": {
            "text/plain": [
              "{1, 2, 3, 4}"
            ]
          },
          "metadata": {},
          "execution_count": 2
        }
      ]
    },
    {
      "cell_type": "markdown",
      "source": [
        "5. Mathematical Operations: Sets support several mathematical operations such as union, intersection, difference, and symmetric difference.\n",
        "Union: Combines the elements of two sets.\n",
        "Intersection: Returns only the elements that are in both sets.\n",
        "Difference: Returns the elements that are in one set but not the other.\n",
        "Symmetric Difference: Returns the elements that are in either of the sets but not in both."
      ],
      "metadata": {
        "id": "ms0yf8NHARPN"
      }
    },
    {
      "cell_type": "code",
      "source": [
        "setA = {1, 2, 3, 4}\n",
        "setB = {3, 4, 5, 6}\n",
        "\n",
        "union = setA | setB\n",
        "print(union)\n",
        "intersection = setA & setB\n",
        "print(intersection)\n",
        "difference = setA - setB\n",
        "print(difference)\n",
        "symmetric_diff = setA ^ setB\n",
        "print(symmetric_diff)\n"
      ],
      "metadata": {
        "colab": {
          "base_uri": "https://localhost:8080/"
        },
        "id": "onZDo5TIAgTr",
        "outputId": "9e217a0f-632b-41cf-d208-858112bfe151"
      },
      "execution_count": 6,
      "outputs": [
        {
          "output_type": "stream",
          "name": "stdout",
          "text": [
            "{1, 2, 3, 4, 5, 6}\n",
            "{3, 4}\n",
            "{1, 2}\n",
            "{1, 2, 5, 6}\n"
          ]
        }
      ]
    },
    {
      "cell_type": "markdown",
      "source": [
        "6. Set Comprehension: Many programming languages, like Python, support set comprehensions, which provide an elegant way to create sets from other collections or based on certain conditions.\n",
        "\n",
        "7. Set Membership: Checking whether an element is in a set is a fast operation and can be done using the in keyword.\n",
        "\n",
        "**Common Uses of Sets:**\n",
        "(a) Eliminating Duplicates:\n",
        "\n",
        "Sets are often used to remove duplicate elements from a list or array.\n",
        "Example:\n",
        "numbers = [1, 2, 2, 3, 4, 4, 5]\n",
        "unique_numbers = set(numbers)  # {1, 2, 3, 4, 5}\n",
        "\n",
        "(b)Membership Tests:\n",
        "\n",
        "Sets provide an efficient way to test if an element is part of a collection because they use hash-based structures for fast lookups.\n",
        "Example:\n",
        "set6 = {100, 200, 300}\n",
        "if 200 in set6:\n",
        "    print(\"200 is in the set\")\n",
        "\n",
        "(c) Mathematical Set Operations:\n",
        "\n",
        "Sets are used in mathematical applications to perform operations like union, intersection, etc., as mentioned above.\n",
        "Example:\n",
        "A = {1, 2, 3}\n",
        "B = {3, 4, 5}\n",
        "result = A & B  # {3} (intersection)\n",
        "\n",
        "(d) Finding Unique Items Across Collections:\n",
        "\n",
        "Sets are useful for comparing multiple collections and identifying common or distinct elements.\n",
        "Example:\n",
        "set7 = {1, 2, 3}\n",
        "set8 = {2, 3, 4}\n",
        "diff = set7 - set8  # {1} (elements in set7 but not in set8)\n",
        "\n",
        "(e) Efficient Lookup Operations:\n",
        "\n",
        "When you need to check whether an element exists in a collection frequently, using a set is more efficient than using a list because of the O(1) average time complexity for lookups in sets."
      ],
      "metadata": {
        "id": "s1uMdlKSBomf"
      }
    },
    {
      "cell_type": "markdown",
      "source": [
        "# 6.  Discuss the use cases of tuples and sets in Python programming.\n",
        "\n",
        "Ans -\n",
        "In Python programming, tuples and sets are two distinct types of collections, each serving different purposes. Below are the use cases for each:\n",
        "\n",
        "**Use Cases of Tuples:**\n",
        "A tuple is an ordered, immutable collection of elements. It is defined by enclosing elements in parentheses ().\n",
        "\n",
        "(a) Storing Data that Should Not Change (Immutability):\n",
        "\n",
        "Tuples are immutable, meaning once created, their contents cannot be changed. This is useful when you want to store data that should remain constant throughout the program, like fixed configuration values or records that shouldn't be modified.\n",
        "\n",
        "Example: Storing the RGB values of a color or coordinates (latitude, longitude).\n",
        "coordinates = (40.7128, -74.0060)  # Immutable, fixed geographical coordinates\n",
        " (b) Heterogeneous Data:\n",
        "\n",
        "Tuples can store different types of data (e.g., strings, numbers, lists), making them useful when you need to represent diverse data types together in a single, ordered collection.\n",
        "Example: Storing mixed types of data like a name, age, and status.\n",
        "\n",
        "person = (\"John\", 28, \"active\")  # Tuple with a string, integer, and string\n",
        "\n",
        "(c) Returning Multiple Values from a Function:\n",
        "\n",
        "A common use of tuples is to return multiple values from a function. Since tuples can store multiple elements, they are an efficient way to bundle related data and return it from a function.\n",
        "Example: Returning multiple results (e.g., min and max of a list).\n",
        "\n",
        "def min_max(numbers):\n",
        "    return (min(numbers), max(numbers))\n",
        "\n",
        "result = min_max([1, 3, 2, 8, 4])\n",
        "print(result)  # Output: (1, 8)\n",
        "\n",
        "(d) Hashable for Use as Dictionary Keys:\n",
        "\n",
        "Since tuples are immutable, they can be used as keys in dictionaries, unlike lists (which are mutable and cannot be used as dictionary keys).\n",
        "Example: Using a tuple to represent a unique key.\n",
        "location_dict = {(\"New York\", \"NY\"): \"Empire State Building\", (\"Paris\", \"France\"): \"Eiffel Tower\"}\n",
        "\n",
        "(e) Unpacking Data:\n",
        "\n",
        "Tuples can be used for unpacking values into individual variables, which enhances code readability and allows for cleaner data handling.\n",
        "Example: Unpacking a tuple into variables.\n",
        "coordinates = (10, 20, 30)\n",
        "x, y, z = coordinates  # Unpacking the tuple into individual variables\n",
        "\n",
        "**Use Cases of Sets:**\n",
        "A set is an unordered collection of unique elements. It is defined by enclosing elements in curly braces {} or using the set() constructor.\n",
        "\n",
        "(a) Eliminating Duplicates:\n",
        "\n",
        "Sets automatically remove duplicate values, making them ideal for situations where you want to ensure that all items in a collection are unique.\n",
        "Example: Removing duplicate values from a list.\n",
        "numbers = [1, 2, 2, 3, 3, 4]\n",
        "unique_numbers = set(numbers)  # Result: {1, 2, 3, 4}\n",
        "(b) Set Operations (Union, Intersection, Difference):\n",
        "\n",
        "Sets are optimized for performing mathematical set operations like union, intersection, and difference. These operations are fast and easy to apply.\n",
        "Example: Performing set operations.\n",
        "\n",
        "a = {1, 2, 3}\n",
        "b = {3, 4, 5}\n",
        "union = a | b  # Union: {1, 2, 3, 4, 5}\n",
        "intersection = a & b  # Intersection: {3}\n",
        "difference = a - b  # Difference: {1, 2}\n",
        "(c) Checking Membership:\n",
        "\n",
        "Sets provide an efficient way to check for membership. Testing if an element is in a set is faster than in a list because sets are implemented as hash tables.\n",
        "Example: Checking if an item is in a set.\n",
        "fruits = {\"apple\", \"banana\", \"cherry\"}\n",
        "if \"banana\" in fruits:\n",
        "    print(\"Banana is in the set\")\n",
        "(d) Fast Lookup and Uniqueness:\n",
        "\n",
        "Since sets are implemented using hash tables, they allow for fast lookups, additions, and deletions. This makes them a great choice for scenarios where you need efficient membership testing or to store non-repetitive items.\n",
        "Example: Storing unique user IDs or maintaining a collection of items with quick access.\n",
        "\n",
        "user_ids = set()\n",
        "user_ids.add(101)  # Adding a user ID to the set\n",
        "user_ids.add(102)\n",
        "(e) Mathematical and Logical Operations:\n",
        "\n",
        "Sets are often used in mathematical computations, such as finding the union or intersection of sets, or for logical operations.\n",
        "Example: Checking if one set is a subset of another.\n",
        "a = {1, 2, 3, 4}\n",
        "b = {2, 3}\n",
        "is_subset = b.issubset(a)  # Returns True\n",
        "(f) Efficient Membership Testing for Large Data:\n",
        "\n",
        "If you're working with large datasets where you need to frequently check if an element exists in a collection, using a set instead of a list can greatly improve performance due to the set’s O(1) average-time complexity for membership tests.\n",
        "Example: Efficient lookups when checking for the presence of items in large datasets.\n",
        "large_set = set(range(1000000))  # A large set of integers\n",
        "if 999999 in large_set:\n",
        "    print(\"Found!\")\n"
      ],
      "metadata": {
        "id": "MD6WGxIEDUe8"
      }
    },
    {
      "cell_type": "markdown",
      "source": [
        "# 7. Describe how to add, modify, and delete items in a dictionary with examples.\n",
        "\n",
        "Ans - In Python, a dictionary is a collection of key-value pairs, where each key is unique and maps to a value. You can easily add, modify, and delete items in a dictionary. Here’s how to perform these operations with examples:\n",
        "\n",
        "1. Adding Items to a Dictionary\n",
        "To add a new item to a dictionary, you simply assign a value to a new key. If the key already exists, this will update the existing value for that key.\n",
        "\n",
        "Example: Adding a new item\n",
        "# Create an empty dictionary\n",
        "my_dict = {}\n",
        "\n",
        "# Add items to the dictionary\n",
        "my_dict['name'] = 'John'\n",
        "my_dict['age'] = 25\n",
        "\n",
        "print(my_dict)\n",
        "# Output: {'name': 'John', 'age': 25}\n",
        "Example: Adding an item to an existing dictionary\n",
        "\n",
        "# Existing dictionary\n",
        "my_dict = {'name': 'John', 'age': 25}\n",
        "\n",
        "# Add a new key-value pair\n",
        "my_dict['city'] = 'New York'\n",
        "\n",
        "print(my_dict)\n",
        "# Output: {'name': 'John', 'age': 25, 'city': 'New York'}\n",
        "2. Modifying Items in a Dictionary\n",
        "To modify an existing item, you reference the key and assign a new value to it. This will replace the old value with the new one.\n",
        "\n",
        "Example: Modifying an existing item\n",
        "\n",
        "# Existing dictionary\n",
        "my_dict = {'name': 'John', 'age': 25}\n",
        "\n",
        "# Modify the value for the 'age' key\n",
        "my_dict['age'] = 30\n",
        "\n",
        "print(my_dict)\n",
        "# Output: {'name': 'John', 'age': 30}\n",
        "Example: Modifying multiple values\n",
        "\n",
        "# Existing dictionary\n",
        "my_dict = {'name': 'John', 'age': 25, 'city': 'New York'}\n",
        "\n",
        "# Modify multiple keys\n",
        "my_dict['age'] = 26\n",
        "my_dict['city'] = 'Los Angeles'\n",
        "\n",
        "print(my_dict)\n",
        "# Output: {'name': 'John', 'age': 26, 'city': 'Los Angeles'}\n",
        "3. Deleting Items from a Dictionary\n",
        "There are several ways to delete items from a dictionary, including using the del statement, the pop() method, or the popitem() method.\n",
        "\n",
        "Example: Deleting an item using del\n",
        "\n",
        "# Existing dictionary\n",
        "my_dict = {'name': 'John', 'age': 25, 'city': 'New York'}\n",
        "\n",
        "# Delete a specific item by key\n",
        "del my_dict['age']\n",
        "\n",
        "print(my_dict)\n",
        "# Output: {'name': 'John', 'city': 'New York'}\n",
        "Example: Deleting an item using pop()\n",
        "The pop() method removes the item with the specified key and returns the value of the deleted item. If the key does not exist, it will raise a KeyError unless a default value is provided.\n",
        "\n",
        "# Existing dictionary\n",
        "my_dict = {'name': 'John', 'age': 25, 'city': 'New York'}\n",
        "\n",
        "# Remove and return the value associated with 'age'\n",
        "age = my_dict.pop('age')\n",
        "\n",
        "print(my_dict)\n",
        "# Output: {'name': 'John', 'city': 'New York'}\n",
        "\n",
        "print(\"Removed age:\", age)\n",
        "# Output: Removed age: 25\n",
        "Example: Deleting a random item using popitem()\n",
        "The popitem() method removes and returns a random (key, value) pair from the dictionary. It’s useful when you want to remove an arbitrary item.\n",
        "\n",
        "# Existing dictionary\n",
        "my_dict = {'name': 'John', 'age': 25, 'city': 'New York'}\n",
        "\n",
        "# Remove and return a random item\n",
        "key, value = my_dict.popitem()\n",
        "\n",
        "print(my_dict)\n",
        "# Output: {'name': 'John', 'age': 25} (or a different pair depending on the removal)\n",
        "\n",
        "print(f\"Removed {key}: {value}\")\n",
        "# Output: Removed city: New York\n",
        "Example: Deleting all items from a dictionary using clear()\n",
        "If you want to remove all items from a dictionary, you can use the clear() method.\n",
        "\n",
        "# Existing dictionary\n",
        "my_dict = {'name': 'John', 'age': 25, 'city': 'New York'}\n",
        "\n",
        "# Clear the dictionary\n",
        "my_dict.clear()\n",
        "\n",
        "print(my_dict)\n",
        "# Output: {}\n",
        "Summary of Methods:\n",
        "Adding items: Use the syntax dict[key] = value to add a new key-value pair.\n",
        "Modifying items: Use the same syntax dict[key] = new_value to update an existing key’s value.\n",
        "Deleting items:\n",
        "Use del dict[key] to delete an item by key.\n",
        "Use dict.pop(key) to remove a key and return its value.\n",
        "Use dict.popitem() to remove and return a random item.\n",
        "Use dict.clear() to remove all items from the dictionary.\n",
        "These operations make dictionaries in Python highly flexible and efficient for managing key-value data.\n"
      ],
      "metadata": {
        "id": "9AQA7lyNJsEk"
      }
    },
    {
      "cell_type": "markdown",
      "source": [
        "# 8. Discuss the importance of dictionary keys being immutable and provide examples.\n",
        "\n",
        "In Python, dictionary keys must be immutable. This is a crucial characteristic of dictionaries and directly impacts how they are implemented and used. Immutable objects, such as strings, numbers, and tuples, can be used as dictionary keys, while mutable objects like lists and dictionaries themselves cannot be.\n",
        "\n",
        "Why Dictionary Keys Must Be Immutable:\n",
        "(a) Hashing Requirement:\n",
        "\n",
        "A dictionary in Python is implemented as a hash table. This means that the dictionary uses a hash function to assign a unique \"hash value\" to each key, which allows for fast lookups.\n",
        "To ensure this hash value is consistent and reliable, the key must be immutable. If a key were mutable, its hash value could change after it is inserted into the dictionary, which would break the hash table’s integrity and make lookups unreliable.\n",
        "(b) Consistency of Key Identity:\n",
        "\n",
        "The identity of a dictionary key must remain constant during the lifetime of the dictionary. If the key’s value can change (i.e., it is mutable), the key’s identity can change, which would disrupt the dictionary’s internal structure.\n",
        "For example, if a dictionary used a list as a key, and the list was modified after being added as a key, it would lead to unpredictable behavior when trying to retrieve the associated value.\n",
        "(c) Performance and Efficiency:\n",
        "\n",
        "Immutability allows the dictionary to optimize its operations, particularly for quick lookups. Since the key’s value doesn’t change, the hash value remains the same, ensuring that dictionary operations (insert, update, lookup) are efficient and stable.\n",
        "\n",
        "Importance of Immutable Keys:\n",
        "Hash Consistency: Immutable keys guarantee that their hash value does not change, ensuring consistent and reliable dictionary operations.\n",
        "Unpredictability Avoidance: Mutable keys could lead to unpredictable behavior because their identity (and thus their hash value) could change over time.\n",
        "Performance Optimization: Immutability allows Python dictionaries to efficiently manage key-value pairs using hash tables, ensuring fast lookups, additions, and deletions.\n",
        "Immutability of dictionary keys is fundamental for the stability, reliability, and performance of the dictionary data structure. Only immutable objects—such as strings, numbers, and tuples—can be used as keys, which helps avoid issues that would arise from the potential modification of the key during its lifetime."
      ],
      "metadata": {
        "id": "qNEBT5D6Ke_D"
      }
    }
  ]
}