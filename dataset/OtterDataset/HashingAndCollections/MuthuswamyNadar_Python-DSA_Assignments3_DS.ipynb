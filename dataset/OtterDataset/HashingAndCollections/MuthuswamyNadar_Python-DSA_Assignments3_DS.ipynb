{
 "cells": [
  {
   "cell_type": "code",
   "execution_count": null,
   "metadata": {},
   "outputs": [],
   "source": []
  },
  {
   "cell_type": "markdown",
   "metadata": {},
   "source": [
    "# 1) What are data structures, and why are they important?\n",
    "Data structures are organized collections of data that allow for efficient storage, retrieval, and manipulation. They are essential in computer science because they enable developers to write efficient, scalable, and maintainable code.\n",
    "Think of a data structure like a library. In a library, books are organized on shelves, making it easy to find a specific book. Similarly, data structures organize data in a way that makes it easy to access, modify, and manipulate."
   ]
  },
  {
   "cell_type": "markdown",
   "metadata": {},
   "source": [
    "# 2) Explain the difference between mutable and immutable data types with examples.\n",
    "Mutable data types can be modified after creation, whereas immutable data types cannot.\n",
    "Examples of mutable data types include:\n",
    "\n",
    "Lists: my_list = [1, 2, 3]; my_list[0] = 10; print(my_list) # Output: [10, 2, 3]\n",
    "\n",
    "Examples of immutable data types include:\n",
    "\n",
    "Strings: my_string = \"hello\"; my_string[0] = \"H\"; print(my_string) # Output: TypeError\n",
    "\n",
    "Integers: my_int = 10; my_int = 20; print(my_int) # Output: 20 (not mutable in the sense that the original value is changed, but a new value is assigned)"
   ]
  },
  {
   "cell_type": "markdown",
   "metadata": {},
   "source": [
    "# 3) What are the main differences between lists and tuples in Python?\n",
    "The primary difference between lists and tuples is that lists are mutable, while tuples are immutable. \n",
    "\n",
    "Additionally, tuples are generally faster and more memory-efficient than lists.\n"
   ]
  },
  {
   "cell_type": "code",
   "execution_count": 1,
   "metadata": {},
   "outputs": [
    {
     "name": "stdout",
     "output_type": "stream",
     "text": [
      "[10, 2, 3]\n",
      "Tuples are immutable!\n"
     ]
    }
   ],
   "source": [
    "my_list = [1, 2, 3]\n",
    "my_tuple = (1, 2, 3)\n",
    "\n",
    "\n",
    "my_list[0] = 10\n",
    "print(my_list)  \n",
    "\n",
    "\n",
    "try:\n",
    "    my_tuple[0] = 10\n",
    "except TypeError:\n",
    "    print(\"Tuples are immutable!\")"
   ]
  },
  {
   "cell_type": "markdown",
   "metadata": {},
   "source": [
    "# 4) Describe how dictionaries store data.\n",
    "Dictionaries store data as key-value pairs, where each key is unique and maps to a specific value. \n",
    "This allows for efficient lookup, insertion, and deletion of elements.\n",
    "Here's an example:\n"
   ]
  },
  {
   "cell_type": "code",
   "execution_count": 2,
   "metadata": {},
   "outputs": [
    {
     "name": "stdout",
     "output_type": "stream",
     "text": [
      "John\n",
      "{'name': 'John', 'age': 30, 'city': 'New York'}\n"
     ]
    }
   ],
   "source": [
    "my_dict = {\"name\": \"John\", \"age\": 30}\n",
    "\n",
    "\n",
    "print(my_dict[\"name\"])  \n",
    "\n",
    "\n",
    "my_dict[\"city\"] = \"New York\"\n",
    "print(my_dict)  "
   ]
  },
  {
   "cell_type": "markdown",
   "metadata": {},
   "source": [
    "# 5) Why might you use a set instead of a list in Python?\n",
    "You might use a set instead of a list when you need to store unique elements and perform operations like union, intersection, and difference. Sets are also generally faster than lists for membership testing.\n",
    "Here's an example:"
   ]
  },
  {
   "cell_type": "code",
   "execution_count": 3,
   "metadata": {},
   "outputs": [
    {
     "name": "stdout",
     "output_type": "stream",
     "text": [
      "{1, 2, 3, 4, 5}\n",
      "{1, 2, 3, 4, 5}\n",
      "{3}\n"
     ]
    }
   ],
   "source": [
    "my_list = [1, 2, 2, 3, 4, 4, 5]\n",
    "my_set = set(my_list)\n",
    "print(my_set)  \n",
    "\n",
    "set1 = {1, 2, 3}\n",
    "set2 = {3, 4, 5}\n",
    "print(set1.union(set2)) \n",
    "print(set1.intersection(set2)) "
   ]
  },
  {
   "cell_type": "markdown",
   "metadata": {},
   "source": [
    "# 6) What is a string in Python, and how is it different from a list?\n",
    "A string is an immutable sequence of characters, whereas a list is a mutable sequence of elements. While strings and lists share some similarities, strings are generally more efficient and provide additional methods for text manipulation."
   ]
  },
  {
   "cell_type": "code",
   "execution_count": 4,
   "metadata": {},
   "outputs": [
    {
     "name": "stdout",
     "output_type": "stream",
     "text": [
      "h\n",
      "Strings are immutable!\n",
      "['H', 'e', 'l', 'l', 'o']\n"
     ]
    }
   ],
   "source": [
    "my_string = \"hello\"\n",
    "my_list = [\"h\", \"e\", \"l\", \"l\", \"o\"]\n",
    "\n",
    "\n",
    "print(my_string[0])  \n",
    "\n",
    "\n",
    "try:\n",
    "    my_string[0] = \"H\"\n",
    "except TypeError:\n",
    "    print(\"Strings are immutable!\")\n",
    "\n",
    "\n",
    "my_list[0] = \"H\"\n",
    "print(my_list) "
   ]
  },
  {
   "cell_type": "markdown",
   "metadata": {},
   "source": [
    "# 7)How do tuples ensure data integrity in Python?\n",
    "Tuples ensure data integrity by being immutable, which means that once a tuple is created, its contents cannot be modified. This makes tuples useful for storing sensitive or critical data that should not be changed. "
   ]
  },
  {
   "cell_type": "code",
   "execution_count": 5,
   "metadata": {},
   "outputs": [
    {
     "name": "stdout",
     "output_type": "stream",
     "text": [
      "Tuples are immutable!\n"
     ]
    }
   ],
   "source": [
    "my_tuple = (1, 2, 3)\n",
    "try:\n",
    "    my_tuple[0] = 10\n",
    "except TypeError:\n",
    "    print(\"Tuples are immutable!\")"
   ]
  },
  {
   "cell_type": "markdown",
   "metadata": {},
   "source": [
    "# 8) Why are dictionaries considered unordered, and how does that affect data retrieval?\n",
    "Dictionaries are considered unordered because the order of key-value pairs is not guaranteed. This is because dictionaries use a hash table to store key-value pairs, which does not preserve the order of insertion.\n",
    "This affects data retrieval in that you cannot rely on the order of elements when iterating over a dictionary. Instead, you can use the .keys(), .values(), or .items() methods to access the dictionary's elements in a specific order.\n",
    "Here's an example:"
   ]
  },
  {
   "cell_type": "code",
   "execution_count": 18,
   "metadata": {},
   "outputs": [
    {
     "name": "stdout",
     "output_type": "stream",
     "text": [
      "a\n",
      "b\n",
      "c\n",
      "1\n",
      "2\n",
      "3\n",
      "a: 1\n",
      "b: 2\n",
      "c: 3\n"
     ]
    }
   ],
   "source": [
    "my_dict = {\"a\": 1, \"b\": 2, \"c\": 3}\n",
    "\n",
    "\n",
    "for key in my_dict.keys():\n",
    "    print(key)\n",
    "\n",
    "\n",
    "for value in my_dict.values():\n",
    "    print(value)\n",
    "\n",
    "\n",
    "for key, value in my_dict.items():\n",
    "    print(f\"{key}: {value}\")"
   ]
  },
  {
   "cell_type": "markdown",
   "metadata": {},
   "source": [
    "# 9) What is a hash table, and how does it relate to dictionaries in Python?\n",
    "A hash table is a data structure that stores key-value pairs using a hash function to map keys to indices. In Python, dictionaries are implemented using hash tables, which allows for efficient lookup, insertion, and deletion of elements.\n",
    "Here's a simplified example of how a hash table works: "
   ]
  },
  {
   "cell_type": "code",
   "execution_count": 7,
   "metadata": {},
   "outputs": [
    {
     "name": "stdout",
     "output_type": "stream",
     "text": [
      "John\n",
      "30\n"
     ]
    }
   ],
   "source": [
    "hash_table = {}\n",
    "\n",
    "def hash_function(key):\n",
    "    return hash(key) % 10\n",
    "\n",
    "def insert(key, value):\n",
    "    index = hash_function(key)\n",
    "    if index in hash_table:\n",
    "        hash_table[index].append((key, value))\n",
    "    else:\n",
    "        hash_table[index] = [(key, value)]\n",
    "\n",
    "def lookup(key):\n",
    "    index = hash_function(key)\n",
    "    if index in hash_table:\n",
    "        for k, v in hash_table[index]:\n",
    "            if k == key:\n",
    "                return v\n",
    "    return None\n",
    "\n",
    "insert(\"name\", \"John\")\n",
    "insert(\"age\", 30)\n",
    "\n",
    "print(lookup(\"name\"))  \n",
    "print(lookup(\"age\"))   "
   ]
  },
  {
   "cell_type": "markdown",
   "metadata": {},
   "source": [
    "# 10) Can lists contain different data types in Python?\n",
    "Yes, lists can contain different data types in Python, including strings, integers, floats, and other lists.\n",
    "Here's an example:"
   ]
  },
  {
   "cell_type": "code",
   "execution_count": 8,
   "metadata": {},
   "outputs": [
    {
     "name": "stdout",
     "output_type": "stream",
     "text": [
      "[1, 'hello', 3.14, [1, 2, 3]]\n"
     ]
    }
   ],
   "source": [
    "my_list = [1, \"hello\", 3.14, [1, 2, 3]]\n",
    "print(my_list) "
   ]
  },
  {
   "cell_type": "markdown",
   "metadata": {},
   "source": [
    "# 11) Explain why strings are immutable in Python.\n",
    "Strings are immutable in Python because it allows for more efficient memory management and reduces the risk of unexpected changes to string data.\n",
    "Here's an example:"
   ]
  },
  {
   "cell_type": "code",
   "execution_count": 9,
   "metadata": {},
   "outputs": [
    {
     "name": "stdout",
     "output_type": "stream",
     "text": [
      "Strings are immutable!\n"
     ]
    }
   ],
   "source": [
    "my_string = \"hello\"\n",
    "try:\n",
    "    my_string[0] = \"H\"\n",
    "except TypeError:\n",
    "    print(\"Strings are immutable!\")"
   ]
  },
  {
   "cell_type": "markdown",
   "metadata": {},
   "source": [
    "# 12) What advantages do dictionaries offer over lists for certain tasks?\n",
    "Dictionaries offer advantages over lists when it comes to fast lookup, insertion, and deletion of elements, as well as efficient storage and retrieval of key-value pairs.\n",
    "Here's an example:"
   ]
  },
  {
   "cell_type": "code",
   "execution_count": 10,
   "metadata": {},
   "outputs": [
    {
     "name": "stdout",
     "output_type": "stream",
     "text": [
      "John\n",
      "John\n"
     ]
    }
   ],
   "source": [
    "my_dict = {\"name\": \"John\", \"age\": 30}\n",
    "print(my_dict[\"name\"])  \n",
    "\n",
    "my_list = [[\"name\", \"John\"], [\"age\", 30]]\n",
    "for key, value in my_list:\n",
    "    if key == \"name\":\n",
    "        print(value)  "
   ]
  },
  {
   "cell_type": "markdown",
   "metadata": {},
   "source": [
    "# 13) Describe a scenario where using a tuple would be preferable over a list.\n",
    "Using a tuple would be preferable over a list when storing sensitive or critical data that should not be modified.\n",
    "Here's an example:"
   ]
  },
  {
   "cell_type": "code",
   "execution_count": 11,
   "metadata": {},
   "outputs": [
    {
     "name": "stdout",
     "output_type": "stream",
     "text": [
      "Tuples are immutable!\n"
     ]
    }
   ],
   "source": [
    "\n",
    "credentials = (\"john_doe\", \"password123\")\n",
    "\n",
    "\n",
    "try:\n",
    "    credentials[0] = \"jane_doe\"\n",
    "except TypeError:\n",
    "    print(\"Tuples are immutable!\")"
   ]
  },
  {
   "cell_type": "markdown",
   "metadata": {},
   "source": [
    "# 14) How do sets handle duplicate values in Python?\n",
    "Sets handle duplicate values by automatically removing them, ensuring that each element in the set is unique.\n",
    "Here's an example:"
   ]
  },
  {
   "cell_type": "code",
   "execution_count": 12,
   "metadata": {},
   "outputs": [
    {
     "name": "stdout",
     "output_type": "stream",
     "text": [
      "{1, 2, 3, 4, 5}\n"
     ]
    }
   ],
   "source": [
    "my_set = {1, 2, 2, 3, 4, 4, 5}\n",
    "print(my_set)  "
   ]
  },
  {
   "cell_type": "markdown",
   "metadata": {},
   "source": [
    "# 15) How does the “in” keyword work differently for lists and dictionaries?\n",
    "The \"in\" keyword works differently for lists and dictionaries in that it checks for membership in the list's elements, whereas in dictionaries, it checks for membership in the dictionary's keys.\n",
    "Here's an example:"
   ]
  },
  {
   "cell_type": "code",
   "execution_count": 13,
   "metadata": {},
   "outputs": [
    {
     "name": "stdout",
     "output_type": "stream",
     "text": [
      "True\n",
      "True\n",
      "False\n"
     ]
    }
   ],
   "source": [
    "my_list = [1, 2, 3]\n",
    "print(2 in my_list)  \n",
    "\n",
    "my_dict = {\"name\": \"John\", \"age\": 30}\n",
    "print(\"name\" in my_dict)  \n",
    "print(\"John\" in my_dict) "
   ]
  },
  {
   "cell_type": "markdown",
   "metadata": {},
   "source": [
    "# 16) Can you modify the elements of a tuple? Explain why or why not.\n",
    "No, you cannot modify the elements of a tuple because tuples are immutable by design.\n",
    "Here's an example:"
   ]
  },
  {
   "cell_type": "code",
   "execution_count": 14,
   "metadata": {},
   "outputs": [
    {
     "name": "stdout",
     "output_type": "stream",
     "text": [
      "Tuples are immutable!\n"
     ]
    }
   ],
   "source": [
    "my_tuple = (1, 2, 3)\n",
    "try:\n",
    "    my_tuple[0] = 10\n",
    "except TypeError:\n",
    "    print(\"Tuples are immutable!\")"
   ]
  },
  {
   "cell_type": "markdown",
   "metadata": {},
   "source": [
    "# 17) What is a nested dictionary, and give an example of its use case?\n",
    "A nested dictionary is a dictionary that contains another dictionary as its value. This can be useful for storing complex data structures, such as a dictionary of users where each user has their own dictionary of attributes.\n",
    "Here's an example:"
   ]
  },
  {
   "cell_type": "code",
   "execution_count": 15,
   "metadata": {},
   "outputs": [
    {
     "name": "stdout",
     "output_type": "stream",
     "text": [
      "John Doe\n"
     ]
    }
   ],
   "source": [
    "users = {\n",
    "    \"john_doe\": {\n",
    "        \"name\": \"John Doe\",\n",
    "        \"age\": 30,\n",
    "        \"city\": \"New York\"\n",
    "    },\n",
    "    \"jane_doe\": {\n",
    "        \"name\": \"Jane Doe\",\n",
    "        \"age\": 25,\n",
    "        \"city\": \"Los Angeles\"\n",
    "    }\n",
    "}\n",
    "\n",
    "print(users[\"john_doe\"][\"name\"])  "
   ]
  },
  {
   "cell_type": "markdown",
   "metadata": {},
   "source": [
    "# 18) Describe the time complexity of accessing elements in a dictionary.\n",
    "The time complexity of accessing elements in a dictionary is generally O(1), making it very efficient for fast lookup and retrieval of data. This is because dictionaries use a hash table to store key-value pairs, which allows for constant-time access.\n",
    "Here's a simplified example of how a hash table works:"
   ]
  },
  {
   "cell_type": "code",
   "execution_count": 16,
   "metadata": {},
   "outputs": [
    {
     "name": "stdout",
     "output_type": "stream",
     "text": [
      "John\n",
      "30\n"
     ]
    }
   ],
   "source": [
    "hash_table = {}\n",
    "\n",
    "def hash_function(key):\n",
    "    return hash(key) % 10\n",
    "\n",
    "def insert(key, value):\n",
    "    index = hash_function(key)\n",
    "    if index in hash_table:\n",
    "        hash_table[index].append((key, value))\n",
    "    else:\n",
    "        hash_table[index] = [(key, value)]\n",
    "\n",
    "def lookup(key):\n",
    "    index = hash_function(key)\n",
    "    if index in hash_table:\n",
    "        for k, v in hash_table[index]:\n",
    "            if k == key:\n",
    "                return v\n",
    "    return None\n",
    "\n",
    "insert(\"name\", \"John\")\n",
    "insert(\"age\", 30)\n",
    "\n",
    "print(lookup(\"name\"))  \n",
    "print(lookup(\"age\"))   "
   ]
  },
  {
   "cell_type": "markdown",
   "metadata": {},
   "source": [
    "# 19) In what situations are lists preferred over dictionaries?\n",
    "Lists are preferred over dictionaries when the data is sequential, and the order of elements matters, such as when storing a list of numbers or a sequence of events.\n",
    "Here's an example:"
   ]
  },
  {
   "cell_type": "code",
   "execution_count": 17,
   "metadata": {},
   "outputs": [
    {
     "name": "stdout",
     "output_type": "stream",
     "text": [
      "1\n",
      "brush teeth\n"
     ]
    }
   ],
   "source": [
    "numbers = [1, 2, 3, 4, 5]\n",
    "print(numbers[0])  # Output: 1\n",
    "\n",
    "events = [\"wake up\", \"brush teeth\", \"eat breakfast\"]\n",
    "print(events[1]) "
   ]
  },
  {
   "cell_type": "markdown",
   "metadata": {},
   "source": [
    "# 20) Explain the difference between a list and a dictionary in terms of data retrieval.\n",
    "The primary difference between a list and a dictionary in terms of data retrieval is that lists require indexing or iteration to access elements, whereas dictionaries allow for fast lookup and retrieval of elements using their keys."
   ]
  },
  {
   "cell_type": "code",
   "execution_count": 19,
   "metadata": {},
   "outputs": [
    {
     "name": "stdout",
     "output_type": "stream",
     "text": [
      "1\n",
      "1\n"
     ]
    }
   ],
   "source": [
    "my_list = [1, 2, 3]\n",
    "print(my_list[0]) \n",
    "\n",
    "my_dict = {\"a\": 1, \"b\": 2, \"c\": 3}\n",
    "print(my_dict[\"a\"])  "
   ]
  },
  {
   "cell_type": "markdown",
   "metadata": {},
   "source": [
    "# ** Practical Questions ** "
   ]
  },
  {
   "cell_type": "markdown",
   "metadata": {},
   "source": [
    "# Task 1: Create a string with your name and print it\n",
    "\n",
    "name = \"Meta AI\"\n",
    "\n",
    "print(name)"
   ]
  },
  {
   "cell_type": "markdown",
   "metadata": {},
   "source": [
    "**********************************************************************************************************************************"
   ]
  },
  {
   "cell_type": "markdown",
   "metadata": {},
   "source": [
    "# Task 2: Find the length of the string \"Hello World\"\n",
    "\n",
    "string = \"Hello World\"\n",
    "\n",
    "length = len(string)\n",
    "\n",
    "print(length)"
   ]
  },
  {
   "cell_type": "markdown",
   "metadata": {},
   "source": []
  },
  {
   "cell_type": "markdown",
   "metadata": {},
   "source": [
    "**********************************************************************************************************************************"
   ]
  },
  {
   "cell_type": "markdown",
   "metadata": {},
   "source": [
    "# Task 3: Slice the first 3 characters from the string \"Python Programming\"\n",
    "\n",
    "string = \"Python Programming\"\n",
    "\n",
    "sliced_string = string[:3]\n",
    "\n",
    "print(sliced_string)"
   ]
  },
  {
   "cell_type": "markdown",
   "metadata": {},
   "source": [
    "**********************************************************************************************************************************"
   ]
  },
  {
   "cell_type": "markdown",
   "metadata": {},
   "source": [
    "# Task 4: Convert the string \"hello\" to uppercase\n",
    "\n"
   ]
  },
  {
   "cell_type": "code",
   "execution_count": 1,
   "metadata": {},
   "outputs": [
    {
     "name": "stdout",
     "output_type": "stream",
     "text": [
      "HELLO\n"
     ]
    }
   ],
   "source": [
    "string = \"hello\"\n",
    "uppercase_string = string.upper()\n",
    "print(uppercase_string)"
   ]
  },
  {
   "cell_type": "markdown",
   "metadata": {},
   "source": [
    "# Task 5: Replace the word \"apple\" with \"orange\" in the string \"I like apple\"\n"
   ]
  },
  {
   "cell_type": "code",
   "execution_count": 2,
   "metadata": {},
   "outputs": [
    {
     "name": "stdout",
     "output_type": "stream",
     "text": [
      "I like orange\n"
     ]
    }
   ],
   "source": [
    "\n",
    "string = \"I like apple\"\n",
    "replaced_string = string.replace(\"apple\", \"orange\")\n",
    "print(replaced_string)"
   ]
  },
  {
   "cell_type": "markdown",
   "metadata": {},
   "source": [
    "# Task 6: Create a list with numbers 1 to 5 and print it\n"
   ]
  },
  {
   "cell_type": "code",
   "execution_count": 3,
   "metadata": {},
   "outputs": [
    {
     "name": "stdout",
     "output_type": "stream",
     "text": [
      "[1, 2, 3, 4, 5]\n"
     ]
    }
   ],
   "source": [
    "\n",
    "numbers = [1, 2, 3, 4, 5]\n",
    "print(numbers)"
   ]
  },
  {
   "cell_type": "markdown",
   "metadata": {},
   "source": [
    "# Task 7: Append the number 10 to the list [1, 2, 3, 4]\n",
    "\n"
   ]
  },
  {
   "cell_type": "code",
   "execution_count": 4,
   "metadata": {},
   "outputs": [
    {
     "name": "stdout",
     "output_type": "stream",
     "text": [
      "[1, 2, 3, 4, 10]\n"
     ]
    }
   ],
   "source": [
    "numbers = [1, 2, 3, 4]\n",
    "numbers.append(10)\n",
    "print(numbers)"
   ]
  },
  {
   "cell_type": "markdown",
   "metadata": {},
   "source": [
    "# Task 8: Remove the number 3 from the list [1, 2, 3, 4, 5]\n",
    "\n"
   ]
  },
  {
   "cell_type": "code",
   "execution_count": 5,
   "metadata": {},
   "outputs": [
    {
     "name": "stdout",
     "output_type": "stream",
     "text": [
      "[1, 2, 4, 5]\n"
     ]
    }
   ],
   "source": [
    "numbers = [1, 2, 3, 4, 5]\n",
    "numbers.remove(3)\n",
    "print(numbers)"
   ]
  },
  {
   "cell_type": "markdown",
   "metadata": {},
   "source": [
    "# Task 9: Access the second element in the list ['a', 'b', 'c', 'd']\n"
   ]
  },
  {
   "cell_type": "code",
   "execution_count": 6,
   "metadata": {},
   "outputs": [
    {
     "name": "stdout",
     "output_type": "stream",
     "text": [
      "b\n"
     ]
    }
   ],
   "source": [
    "\n",
    "letters = ['a', 'b', 'c', 'd']\n",
    "second_element = letters[1]\n",
    "print(second_element)"
   ]
  },
  {
   "cell_type": "markdown",
   "metadata": {},
   "source": [
    "# Task 10: Reverse the list [10, 20, 30, 40, 50]\n"
   ]
  },
  {
   "cell_type": "code",
   "execution_count": 7,
   "metadata": {},
   "outputs": [
    {
     "name": "stdout",
     "output_type": "stream",
     "text": [
      "[50, 40, 30, 20, 10]\n"
     ]
    }
   ],
   "source": [
    "\n",
    "numbers = [10, 20, 30, 40, 50]\n",
    "reversed_numbers = numbers[::-1]\n",
    "print(reversed_numbers)"
   ]
  },
  {
   "cell_type": "markdown",
   "metadata": {},
   "source": [
    "# Task 11: Create a tuple with the elements 10, 20, 30 and print it.\n"
   ]
  },
  {
   "cell_type": "code",
   "execution_count": 8,
   "metadata": {},
   "outputs": [
    {
     "name": "stdout",
     "output_type": "stream",
     "text": [
      "(10, 20, 30)\n"
     ]
    }
   ],
   "source": [
    "\n",
    "numbers = (10, 20, 30)\n",
    "print(numbers)"
   ]
  },
  {
   "cell_type": "markdown",
   "metadata": {},
   "source": [
    "# Task 12: Access the first element of the tuple ('apple', 'banana', 'cherry').\n",
    "\n"
   ]
  },
  {
   "cell_type": "code",
   "execution_count": 9,
   "metadata": {},
   "outputs": [
    {
     "name": "stdout",
     "output_type": "stream",
     "text": [
      "apple\n"
     ]
    }
   ],
   "source": [
    "fruits = ('apple', 'banana', 'cherry')\n",
    "first_element = fruits[0]\n",
    "print(first_element)"
   ]
  },
  {
   "cell_type": "markdown",
   "metadata": {},
   "source": [
    "# Task 13: Count how many times the number 2 appears in the tuple (1, 2, 3, 2, 4, 2).\n"
   ]
  },
  {
   "cell_type": "code",
   "execution_count": 11,
   "metadata": {},
   "outputs": [
    {
     "name": "stdout",
     "output_type": "stream",
     "text": [
      "3\n"
     ]
    }
   ],
   "source": [
    "\n",
    "numbers = (1, 2, 3, 2, 4, 2)\n",
    "count = numbers.count(2)\n",
    "print(count)"
   ]
  },
  {
   "cell_type": "markdown",
   "metadata": {},
   "source": [
    "# Task 14: Find the index of the element \"cat\" in the tuple ('dog', 'cat', 'rabbit').\n"
   ]
  },
  {
   "cell_type": "code",
   "execution_count": 12,
   "metadata": {},
   "outputs": [
    {
     "name": "stdout",
     "output_type": "stream",
     "text": [
      "1\n"
     ]
    }
   ],
   "source": [
    "\n",
    "animals = ('dog', 'cat', 'rabbit')\n",
    "index = animals.index('cat')\n",
    "print(index)"
   ]
  },
  {
   "cell_type": "markdown",
   "metadata": {},
   "source": [
    "# Task 15: Check if the element \"banana\" is in the tuple ('apple', 'orange', 'banana').\n",
    "\n"
   ]
  },
  {
   "cell_type": "code",
   "execution_count": 13,
   "metadata": {},
   "outputs": [
    {
     "name": "stdout",
     "output_type": "stream",
     "text": [
      "True\n"
     ]
    }
   ],
   "source": [
    "fruits = ('apple', 'orange', 'banana')\n",
    "is_in_tuple = 'banana' in fruits\n",
    "print(is_in_tuple)"
   ]
  },
  {
   "cell_type": "markdown",
   "metadata": {},
   "source": [
    "# Task 16: Create a set with the elements 1, 2, 3, 4, 5 and print it.\n"
   ]
  },
  {
   "cell_type": "code",
   "execution_count": 14,
   "metadata": {},
   "outputs": [
    {
     "name": "stdout",
     "output_type": "stream",
     "text": [
      "{1, 2, 3, 4, 5}\n"
     ]
    }
   ],
   "source": [
    "\n",
    "numbers = {1, 2, 3, 4, 5}\n",
    "print(numbers)"
   ]
  },
  {
   "cell_type": "markdown",
   "metadata": {},
   "source": [
    "# Task 17: Add the element 6 to the set {1, 2, 3, 4}.\n",
    "\n"
   ]
  },
  {
   "cell_type": "code",
   "execution_count": 15,
   "metadata": {},
   "outputs": [
    {
     "name": "stdout",
     "output_type": "stream",
     "text": [
      "{1, 2, 3, 4, 6}\n"
     ]
    }
   ],
   "source": [
    "numbers = {1, 2, 3, 4}\n",
    "numbers.add(6)\n",
    "print(numbers)"
   ]
  },
  {
   "cell_type": "markdown",
   "metadata": {},
   "source": [
    "# Task 18: Create a tuple with the elements 10, 20, 30 and print it.\n",
    "\n"
   ]
  },
  {
   "cell_type": "code",
   "execution_count": 16,
   "metadata": {},
   "outputs": [
    {
     "name": "stdout",
     "output_type": "stream",
     "text": [
      "(10, 20, 30)\n"
     ]
    }
   ],
   "source": [
    "numbers = (10, 20, 30)\n",
    "print(numbers)"
   ]
  },
  {
   "cell_type": "markdown",
   "metadata": {},
   "source": [
    "# Task 19: Access the first element of the tuple ('apple', 'banana', 'cherry').\n",
    "\n"
   ]
  },
  {
   "cell_type": "code",
   "execution_count": 17,
   "metadata": {},
   "outputs": [
    {
     "name": "stdout",
     "output_type": "stream",
     "text": [
      "apple\n"
     ]
    }
   ],
   "source": [
    "fruits = ('apple', 'banana', 'cherry')\n",
    "first_element = fruits[0]\n",
    "print(first_element)"
   ]
  },
  {
   "cell_type": "markdown",
   "metadata": {},
   "source": [
    "# Task 20: Count how many times the number 2 appears in the tuple (1, 2, 3, 2, 4, 2)\n",
    "\n"
   ]
  },
  {
   "cell_type": "code",
   "execution_count": 18,
   "metadata": {},
   "outputs": [
    {
     "name": "stdout",
     "output_type": "stream",
     "text": [
      "3\n"
     ]
    }
   ],
   "source": [
    "numbers = (1, 2, 3, 2, 4, 2)\n",
    "count = numbers.count(2)\n",
    "print(count)"
   ]
  },
  {
   "cell_type": "markdown",
   "metadata": {},
   "source": [
    "# Task 21: Find the index of the element \"cat\" in the tuple ('dog', 'cat', 'rabbit').\n"
   ]
  },
  {
   "cell_type": "code",
   "execution_count": 19,
   "metadata": {},
   "outputs": [
    {
     "name": "stdout",
     "output_type": "stream",
     "text": [
      "1\n"
     ]
    }
   ],
   "source": [
    "\n",
    "animals = ('dog', 'cat', 'rabbit')\n",
    "index = animals.index('cat')\n",
    "print(index)  # Output: 1"
   ]
  },
  {
   "cell_type": "markdown",
   "metadata": {},
   "source": [
    "# Task 22: Check if the element \"banana\" is in the tuple ('apple', 'orange', 'banana').\n",
    "\n"
   ]
  },
  {
   "cell_type": "code",
   "execution_count": 20,
   "metadata": {},
   "outputs": [
    {
     "name": "stdout",
     "output_type": "stream",
     "text": [
      "True\n"
     ]
    }
   ],
   "source": [
    "fruits = ('apple', 'orange', 'banana')\n",
    "is_in_tuple = 'banana' in fruits\n",
    "print(is_in_tuple)  "
   ]
  },
  {
   "cell_type": "markdown",
   "metadata": {},
   "source": [
    "# Task 23: Create a set with the elements 1, 2, 3, 4, 5 and print it.\n",
    "\n",
    " "
   ]
  },
  {
   "cell_type": "code",
   "execution_count": 21,
   "metadata": {},
   "outputs": [
    {
     "name": "stdout",
     "output_type": "stream",
     "text": [
      "{1, 2, 3, 4, 5}\n"
     ]
    }
   ],
   "source": [
    "numbers = {1, 2, 3, 4, 5}\n",
    "print(numbers) "
   ]
  },
  {
   "cell_type": "markdown",
   "metadata": {},
   "source": [
    "# Task 24: Add the element 6 to the set {1, 2, 3, 4}.\n",
    "\n"
   ]
  },
  {
   "cell_type": "code",
   "execution_count": 22,
   "metadata": {},
   "outputs": [
    {
     "name": "stdout",
     "output_type": "stream",
     "text": [
      "{1, 2, 3, 4, 6}\n"
     ]
    }
   ],
   "source": [
    "numbers = {1, 2, 3, 4}\n",
    "numbers.add(6)\n",
    "print(numbers)  "
   ]
  }
 ],
 "metadata": {
  "kernelspec": {
   "display_name": "Python 3",
   "language": "python",
   "name": "python3"
  },
  "language_info": {
   "codemirror_mode": {
    "name": "ipython",
    "version": 3
   },
   "file_extension": ".py",
   "mimetype": "text/x-python",
   "name": "python",
   "nbconvert_exporter": "python",
   "pygments_lexer": "ipython3",
   "version": "3.12.8"
  }
 },
 "nbformat": 4,
 "nbformat_minor": 2
}
