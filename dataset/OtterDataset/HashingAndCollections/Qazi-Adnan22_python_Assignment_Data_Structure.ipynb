{
  "nbformat": 4,
  "nbformat_minor": 0,
  "metadata": {
    "colab": {
      "provenance": [],
      "authorship_tag": "ABX9TyN3Yy1RSxPK0nEmmE/yFVMb",
      "include_colab_link": true
    },
    "kernelspec": {
      "name": "python3",
      "display_name": "Python 3"
    },
    "language_info": {
      "name": "python"
    }
  },
  "cells": [
    {
      "cell_type": "markdown",
      "metadata": {
        "id": "view-in-github",
        "colab_type": "text"
      },
      "source": [
        "<a href=\"https://colab.research.google.com/github/Qazi-Adnan22/python/blob/main/Assignment_Data_Structure.ipynb\" target=\"_parent\"><img src=\"https://colab.research.google.com/assets/colab-badge.svg\" alt=\"Open In Colab\"/></a>"
      ]
    },
    {
      "cell_type": "markdown",
      "source": [
        "  #                   **Assignment - Data Structures**\n",
        "\n",
        "\n",
        "### **Q1- Discuss string slicing and provide examples.**\n",
        "**Ans-** String slicing is a powerful feature in programming languages, particularly in Python, that allows you to extract specific portions of a string. This technique is useful for manipulating and accessing substrings efficiently. Here’s a detailed look into string slicing:\n",
        "\n",
        "Basic Concept- String slicing involves specifying a start index, an end index, and optionally a step to extract a substring from the original string. The general syntax for slicing in Python is:\n",
        "\n",
        "\n"
      ],
      "metadata": {
        "id": "kEZqHJJgROXw"
      }
    },
    {
      "cell_type": "code",
      "execution_count": null,
      "metadata": {
        "id": "X7a_ISibRJcm"
      },
      "outputs": [],
      "source": [
        "string[start:end:step]"
      ]
    },
    {
      "cell_type": "markdown",
      "source": [
        "- start: The index where the slice begins (inclusive).\n",
        "\n",
        "- end: The index where the slice ends (exclusive).\n",
        "\n",
        "- step: The interval between each index to include in the slice (optional). If omitted, the default step is 1.\n",
        "\n",
        "**Examples and Explanation**\n",
        "\n",
        "**1-** **Basic Slicing**"
      ],
      "metadata": {
        "id": "KCVpzbnAS0Sl"
      }
    },
    {
      "cell_type": "code",
      "source": [
        "text = \"Python Programming\"\n",
        "slice1 = text[0:6]  # From index 0 to 5 (6 is not included)\n",
        "print(slice1)       # Output: 'Python'\n",
        "\n",
        "#Here, text[0:6] extracts the substring starting at index 0 and ending at index 5."
      ],
      "metadata": {
        "id": "Wo-r0jFBTEZ7"
      },
      "execution_count": null,
      "outputs": []
    },
    {
      "cell_type": "markdown",
      "source": [
        "**2- Omitting Start or End**"
      ],
      "metadata": {
        "id": "z9gRkWcwTgTU"
      }
    },
    {
      "cell_type": "code",
      "source": [
        "text = \"Python Programming\"\n",
        "slice2 = text[:6]   # From the beginning to index 5\n",
        "slice3 = text[7:]   # From index 7 to the end\n",
        "print(slice2)       # Output: 'Python'\n",
        "print(slice3)       # Output: 'Programming'\n",
        "\n",
        "#When you omit the start, it defaults to the beginning of the string. When you omit the end, it defaults to the end of the string."
      ],
      "metadata": {
        "id": "gRljUN6ZbCm7"
      },
      "execution_count": null,
      "outputs": []
    },
    {
      "cell_type": "markdown",
      "source": [
        "**3- Using Step**"
      ],
      "metadata": {
        "id": "vOjQgZnlbSue"
      }
    },
    {
      "cell_type": "code",
      "source": [
        "text = \"Python Programming\"\n",
        "slice4 = text[0:18:2]  # From index 0 to 17, taking every 2nd character\n",
        "print(slice4)         # Output: 'Pto rgamn'\n",
        "\n",
        "#The step parameter controls the stride between elements. In this example, it skips every other character."
      ],
      "metadata": {
        "id": "NTugd_LubkHw"
      },
      "execution_count": null,
      "outputs": []
    },
    {
      "cell_type": "markdown",
      "source": [
        "**4- Negative Indexing**"
      ],
      "metadata": {
        "id": "fDskrZRKbtiA"
      }
    },
    {
      "cell_type": "code",
      "source": [
        "text = \"Python Programming\"\n",
        "slice5 = text[-11:-1]  # From the 11th last character to the 2nd last\n",
        "slice6 = text[-1:-15:-1]  # From the end to 15 characters before the end, in reverse\n",
        "print(slice5)         # Output: 'Programming'\n",
        "print(slice6)         # Output: 'gnimmargorP nohtyP'\n",
        "\n",
        "#Negative indices count from the end of the string, where -1 refers to the last character. When using negative steps, the start index should be greater than the end index."
      ],
      "metadata": {
        "id": "z96vPYiBb2w4"
      },
      "execution_count": null,
      "outputs": []
    },
    {
      "cell_type": "markdown",
      "source": [
        "**5- Full String**"
      ],
      "metadata": {
        "id": "k2RkmuJLcAo6"
      }
    },
    {
      "cell_type": "code",
      "source": [
        "text = \"Python Programming\"\n",
        "slice7 = text[:]  # Entire string\n",
        "print(slice7)     # Output: 'Python Programming'\n",
        "\n",
        "#Slicing the entire string can be done by leaving out start, end, and step."
      ],
      "metadata": {
        "id": "7t6lLy0fcIod"
      },
      "execution_count": null,
      "outputs": []
    },
    {
      "cell_type": "markdown",
      "source": [
        "**6- Empty Slicing**"
      ],
      "metadata": {
        "id": "xSbZahEocWIW"
      }
    },
    {
      "cell_type": "code",
      "source": [
        "text = \"Python Programming\"\n",
        "slice8 = text[10:10]  # Start and end indices are the same\n",
        "print(slice8)         # Output: ''\n",
        "\n",
        "#If the start and end indices are the same, the result is an empty string."
      ],
      "metadata": {
        "id": "N1oKRpLscZJg"
      },
      "execution_count": null,
      "outputs": []
    },
    {
      "cell_type": "markdown",
      "source": [
        "### **Q2 - Explain the key features of lists in Python.**\n",
        "**Ans-** Lists in Python are one of the most versatile and commonly used data structures. They are ordered collections that can hold a variety of data types, and they offer numerous built-in methods and operations. Here’s a comprehensive overview of the key features of lists in Python:\n",
        "\n",
        "**1. Ordered Collection**\n",
        "\n",
        "Lists maintain the order of elements as they are inserted. Each element in a list has a specific position, or index, starting from 0. This means you can access, modify, and iterate over elements using their indices."
      ],
      "metadata": {
        "id": "-IqsoCpBdtwL"
      }
    },
    {
      "cell_type": "code",
      "source": [
        "my_list = [10, 20, 30, 40]\n",
        "print(my_list[1])  # Output: 20"
      ],
      "metadata": {
        "id": "HH-e-ShwesX_"
      },
      "execution_count": null,
      "outputs": []
    },
    {
      "cell_type": "markdown",
      "source": [
        "**2. Mutable**\n",
        "\n",
        "Lists are mutable, which means you can modify them after creation. You can add, remove, or change elements in a list."
      ],
      "metadata": {
        "id": "_HmJ2HQYev7V"
      }
    },
    {
      "cell_type": "code",
      "source": [
        "my_list = [10, 20, 30]\n",
        "my_list[1] = 25       # Modify an element\n",
        "my_list.append(40)   # Add an element to the end\n",
        "my_list.remove(10)   # Remove a specific element\n",
        "print(my_list)       # Output: [25, 30, 40]"
      ],
      "metadata": {
        "id": "ZShyB0G2e5j0"
      },
      "execution_count": null,
      "outputs": []
    },
    {
      "cell_type": "markdown",
      "source": [
        "**3. Dynamic Size**\n",
        "\n",
        "Lists are dynamic, so their size can change as elements are added or removed. Unlike arrays in some other programming languages, Python lists do not require a predefined size."
      ],
      "metadata": {
        "id": "rveOq742e-D3"
      }
    },
    {
      "cell_type": "code",
      "source": [
        "my_list = [1, 2]\n",
        "my_list.append(3)\n",
        "my_list.extend([4, 5])\n",
        "print(my_list)  # Output: [1, 2, 3, 4, 5]"
      ],
      "metadata": {
        "id": "1FVF0MFXfFfl"
      },
      "execution_count": null,
      "outputs": []
    },
    {
      "cell_type": "markdown",
      "source": [
        "**4. Heterogeneous Elements**\n",
        "\n",
        "Lists can contain elements of different data types, including numbers, strings, and even other lists. This makes them highly flexible."
      ],
      "metadata": {
        "id": "XpVy5MgLfJrI"
      }
    },
    {
      "cell_type": "code",
      "source": [
        "my_list = [1, \"hello\", 3.14, [2, 3]]\n",
        "print(my_list[3])   # Output: [2, 3]"
      ],
      "metadata": {
        "id": "_tXMnigLfO7v"
      },
      "execution_count": null,
      "outputs": []
    },
    {
      "cell_type": "markdown",
      "source": [
        "**5. Indexing and Slicing**\n",
        "\n",
        "Lists support indexing and slicing, allowing you to access and manipulate subsets of the list."
      ],
      "metadata": {
        "id": "Jse6Ba11fT82"
      }
    },
    {
      "cell_type": "code",
      "source": [
        "my_list = [10, 20, 30, 40, 50]\n",
        "print(my_list[1:4])  # Output: [20, 30, 40]\n",
        "print(my_list[-1])   # Output: 50\n",
        "print(my_list[::-1]) # Output: [50, 40, 30, 20, 10]"
      ],
      "metadata": {
        "id": "CxEG3XODfbgU"
      },
      "execution_count": null,
      "outputs": []
    },
    {
      "cell_type": "markdown",
      "source": [
        "**6. List Methods**\n",
        "\n",
        "Python provides a variety of built-in methods to work with lists:\n",
        "\n",
        "  - append(item): Adds an item to the end of the list.\n",
        "  - extend(iterable): Extends the list by appending elements from an iterable.\n",
        "  - insert(index, item): Inserts an item at a specified index.\n",
        "  - remove(item): Removes the first occurrence of an item.\n",
        "  - pop([index]): Removes and returns an item at the given index. If no index is specified, it removes and returns the last item.\n",
        "  - clear(): Removes all items from the list.\n",
        "  - index(item): Returns the index of the first occurrence of an item.\n",
        "  - count(item): Returns the number of occurrences of an item.\n",
        "  - sort(key=None, reverse=False): Sorts the items of the list in place.\n",
        "  - reverse(): Reverses the items of the list in place.\n",
        "  - copy(): Returns a shallow copy of the list."
      ],
      "metadata": {
        "id": "c7W_pdL6fekA"
      }
    },
    {
      "cell_type": "code",
      "source": [
        "my_list = [3, 1, 4, 1, 5]\n",
        "my_list.sort()\n",
        "print(my_list)  # Output: [1, 1, 3, 4, 5]"
      ],
      "metadata": {
        "id": "5R-cJVthgAdK"
      },
      "execution_count": null,
      "outputs": []
    },
    {
      "cell_type": "markdown",
      "source": [
        "**7. Nested Lists**\n",
        "\n",
        "Lists can contain other lists as elements, creating a nested list structure. This is useful for representing multi-dimensional data."
      ],
      "metadata": {
        "id": "5s2c5KumgiE7"
      }
    },
    {
      "cell_type": "code",
      "source": [
        "matrix = [\n",
        "    [1, 2, 3],\n",
        "    [4, 5, 6],\n",
        "    [7, 8, 9]\n",
        "]\n",
        "print(matrix[1][2])  # Output: 6"
      ],
      "metadata": {
        "id": "AYCkiNdvgl3_"
      },
      "execution_count": null,
      "outputs": []
    },
    {
      "cell_type": "markdown",
      "source": [
        "**8. Iteration**\n",
        "\n",
        "Lists can be iterated over using loops, allowing you to process each element in turn."
      ],
      "metadata": {
        "id": "XZ6kLOYIgotG"
      }
    },
    {
      "cell_type": "code",
      "source": [
        "my_list = [10, 20, 30]\n",
        "for item in my_list:\n",
        "    print(item)\n",
        "# Output:\n",
        "# 10\n",
        "# 20\n",
        "# 30"
      ],
      "metadata": {
        "id": "MhT1c26Ogust"
      },
      "execution_count": null,
      "outputs": []
    },
    {
      "cell_type": "markdown",
      "source": [
        "**9. List Comprehensions**\n",
        "\n",
        "Python provides a concise way to create lists using list comprehensions, which can be more readable and often more efficient than using loops."
      ],
      "metadata": {
        "id": "4vR9rWUzgzDO"
      }
    },
    {
      "cell_type": "code",
      "source": [
        "squares = [x**2 for x in range(10)]\n",
        "print(squares)  # Output: [0, 1, 4, 9, 16, 25, 36, 49, 64, 81]"
      ],
      "metadata": {
        "id": "dDW1424FhAT8"
      },
      "execution_count": null,
      "outputs": []
    },
    {
      "cell_type": "markdown",
      "source": [
        "**10. Membership Testing**\n",
        "\n",
        "You can test if an element is in a list using the in operator."
      ],
      "metadata": {
        "id": "7DXveAeQhDyb"
      }
    },
    {
      "cell_type": "code",
      "source": [
        "my_list = [1, 2, 3, 4]\n",
        "print(3 in my_list)  # Output: True\n",
        "print(5 in my_list)  # Output: False"
      ],
      "metadata": {
        "id": "wyw5Jp-7hKcz"
      },
      "execution_count": null,
      "outputs": []
    },
    {
      "cell_type": "markdown",
      "source": [
        "### **Q3 -  Describe how to access, modify, and delete elements in a list with examples**\n",
        "**Ans-** Accessing, modifying, and deleting elements in a list are fundamental operations in Python programming. Here’s a detailed look at each of these operations with examples:\n",
        "\n",
        "**1. Accessing Elements**\n",
        "\n",
        "To access elements in a list, you use indexing. Python uses zero-based indexing, meaning the first element has an index of 0, the second has an index of 1, and so on. Negative indices count from the end of the list, with -1 being the last element."
      ],
      "metadata": {
        "id": "Z20yZN57hNf0"
      }
    },
    {
      "cell_type": "code",
      "source": [
        "my_list = [10, 20, 30, 40, 50]\n",
        "\n",
        "# Accessing elements using positive indices\n",
        "print(my_list[0])   # Output: 10\n",
        "print(my_list[3])   # Output: 40\n",
        "\n",
        "# Accessing elements using negative indices\n",
        "print(my_list[-1])  # Output: 50\n",
        "print(my_list[-3])  # Output: 30"
      ],
      "metadata": {
        "id": "UH1YL-OCh-IU"
      },
      "execution_count": null,
      "outputs": []
    },
    {
      "cell_type": "markdown",
      "source": [
        "**2. Modifying Elements**\n",
        "\n",
        "To modify an element, you assign a new value to a specific index. Lists are mutable, which means you can change their contents."
      ],
      "metadata": {
        "id": "z_u-_lYHiRXU"
      }
    },
    {
      "cell_type": "code",
      "source": [
        "my_list = [10, 20, 30, 40, 50]\n",
        "\n",
        "# Modifying an element at a specific index\n",
        "my_list[1] = 25\n",
        "print(my_list)  # Output: [10, 25, 30, 40, 50]\n",
        "\n",
        "# Modifying an element using negative indexing\n",
        "my_list[-2] = 45\n",
        "print(my_list)  # Output: [10, 25, 30, 45, 50]"
      ],
      "metadata": {
        "id": "keK9Wqk7iYDr"
      },
      "execution_count": null,
      "outputs": []
    },
    {
      "cell_type": "markdown",
      "source": [
        "**3. Deleting Elements**\n",
        "\n",
        "You can delete elements from a list using several methods, including the del statement, the pop() method, and the remove() method.\n",
        "\n",
        "**Using del Statement**\n",
        "\n",
        "The del statement removes an element at a specified index. It can also be used to delete entire slices."
      ],
      "metadata": {
        "id": "xT7-Ao2wicSV"
      }
    },
    {
      "cell_type": "code",
      "source": [
        "my_list = [10, 20, 30, 40, 50]\n",
        "\n",
        "# Deleting an element by index\n",
        "del my_list[2]\n",
        "print(my_list)  # Output: [10, 20, 40, 50]\n",
        "\n",
        "# Deleting a slice\n",
        "del my_list[1:3]\n",
        "print(my_list)  # Output: [10, 50]"
      ],
      "metadata": {
        "id": "RKMeKSosip9b"
      },
      "execution_count": null,
      "outputs": []
    },
    {
      "cell_type": "markdown",
      "source": [
        "**Using pop() Method**\n",
        "\n",
        "The pop() method removes and returns the element at a specified index. If no index is provided, it removes and returns the last element."
      ],
      "metadata": {
        "id": "oIXqyZmRirhf"
      }
    },
    {
      "cell_type": "code",
      "source": [
        "my_list = [10, 20, 30, 40, 50]\n",
        "\n",
        "# Removing an element by index and getting its value\n",
        "removed_element = my_list.pop(2)\n",
        "print(removed_element)  # Output: 30\n",
        "print(my_list)          # Output: [10, 20, 40, 50]\n",
        "\n",
        "# Removing the last element\n",
        "last_element = my_list.pop()\n",
        "print(last_element)    # Output: 50\n",
        "print(my_list)         # Output: [10, 20, 40]"
      ],
      "metadata": {
        "id": "2MoaF47gi0Gd"
      },
      "execution_count": null,
      "outputs": []
    },
    {
      "cell_type": "markdown",
      "source": [
        "**Using remove() Method**\n",
        "\n",
        "The remove() method removes the first occurrence of a specified value. If the value is not found, it raises a ValueError."
      ],
      "metadata": {
        "id": "syiWh3KMi4qt"
      }
    },
    {
      "cell_type": "code",
      "source": [
        "my_list = [10, 20, 30, 40, 50]\n",
        "\n",
        "# Removing an element by value\n",
        "my_list.remove(30)\n",
        "print(my_list)  # Output: [10, 20, 40, 50]\n",
        "\n",
        "# Trying to remove a value that doesn't exist\n",
        "# my_list.remove(60)  # Raises ValueError: list.remove(x): x not in list"
      ],
      "metadata": {
        "id": "ZypTAyRajJd7"
      },
      "execution_count": null,
      "outputs": []
    },
    {
      "cell_type": "markdown",
      "source": [
        "### **Q4 - Compare and contrast tuples and lists with examples.**\n",
        "**Ans-** Tuples and lists are both built-in data structures in Python used to store collections of items. They have similarities but also key differences in their characteristics and use cases. Here’s a detailed comparison:\n",
        "\n",
        "\n",
        "**Similarities:**\n",
        "\n",
        "  **1- Ordered Collections:**\n",
        "        Both tuples and lists maintain the order of elements as they are inserted. This means that elements can be accessed via indexing.\n",
        "\n",
        "  **2- Support for Indexing and Slicing:**\n",
        "        Both tuples and lists support indexing and slicing operations to access or extract elements.\n",
        "\n",
        "  **3- Heterogeneous Elements:**\n",
        "        Both data structures can store elements of different data types (e.g., integers, strings, and other objects).\n",
        "\n",
        "\n",
        "\n",
        "\n",
        "**Differences:**\n",
        "\n",
        "  **- Mutability:**\n",
        "        Lists: Mutable, meaning their contents can be changed after creation. You can add, remove, or modify elements.\n",
        "        Tuples: Immutable, meaning their contents cannot be changed once created. You cannot add, remove, or modify elements."
      ],
      "metadata": {
        "id": "tD2S3hKFjco7"
      }
    },
    {
      "cell_type": "code",
      "source": [
        "# List example\n",
        "my_list = [1, 2, 3]\n",
        "my_list[1] = 5  # Modifying an element\n",
        "my_list.append(4)  # Adding an element\n",
        "print(my_list)  # Output: [1, 5, 3, 4]\n",
        "\n",
        "# Tuple example\n",
        "my_tuple = (1, 2, 3)\n",
        "# my_tuple[1] = 5  # Raises TypeError: 'tuple' object does not support item assignment"
      ],
      "metadata": {
        "id": "Tb6Y745Fk04W"
      },
      "execution_count": null,
      "outputs": []
    },
    {
      "cell_type": "markdown",
      "source": [
        "**2- Performance:**\n",
        "\n",
        "  **- Lists:** Generally have more overhead due to their mutability, which can impact performance, especially with large lists.\n",
        "  \n",
        "  **- Tuples:** Typically faster and require less memory because they are immutable. They can be used as keys in dictionaries due to their immutability."
      ],
      "metadata": {
        "id": "NVutO3v7k22d"
      }
    },
    {
      "cell_type": "code",
      "source": [
        "import timeit\n",
        "list_time = timeit.timeit(\"my_list = [1, 2, 3]\", number=1000000)\n",
        "tuple_time = timeit.timeit(\"my_tuple = (1, 2, 3)\", number=1000000)\n",
        "print(\"List time:\", list_time)\n",
        "print(\"Tuple time:\", tuple_time)"
      ],
      "metadata": {
        "id": "5S8htscKllvo"
      },
      "execution_count": null,
      "outputs": []
    },
    {
      "cell_type": "markdown",
      "source": [
        "**3- Use Cases:**\n",
        "\n",
        "  **- Lists:** Suitable when you need a collection of items that may need to be modified. Use lists for collections where elements need to be updated, added, or removed.\n",
        "  \n",
        "  **- Tuples:** Ideal for fixed collections of items that should not change, such as coordinates or records. They are also used as keys in dictionaries and elements in sets due to their immutability."
      ],
      "metadata": {
        "id": "s3MFKkvBlof6"
      }
    },
    {
      "cell_type": "code",
      "source": [
        "# Using a list for a dynamic collection\n",
        "dynamic_list = ['apple', 'banana']\n",
        "dynamic_list.append('cherry')  # You can add elements\n",
        "print(dynamic_list)  # Output: ['apple', 'banana', 'cherry']\n",
        "\n",
        "# Using a tuple for a fixed collection\n",
        "fixed_tuple = ('John', 'Doe', 30)  # A record with fixed elements\n",
        "print(fixed_tuple)  # Output: ('John', 'Doe', 30)"
      ],
      "metadata": {
        "id": "4dc_nxOul_JT"
      },
      "execution_count": null,
      "outputs": []
    },
    {
      "cell_type": "markdown",
      "source": [
        "**4- Methods:**\n",
        "\n",
        "  **- Lists:** Have many built-in methods for manipulation, including append(), remove(), extend(), insert(), pop(), and more.\n",
        "  \n",
        "  **- Tuples:** Have fewer methods, with only count() and index() available for querying."
      ],
      "metadata": {
        "id": "Xj3fasRzmH0g"
      }
    },
    {
      "cell_type": "code",
      "source": [
        "# List methods\n",
        "my_list = [1, 2, 3]\n",
        "my_list.append(4)\n",
        "my_list.remove(2)\n",
        "print(my_list)  # Output: [1, 3, 4]\n",
        "\n",
        "# Tuple methods\n",
        "my_tuple = (1, 2, 3, 2)\n",
        "print(my_tuple.count(2))  # Output: 2\n",
        "print(my_tuple.index(3))  # Output: 2"
      ],
      "metadata": {
        "id": "vqveBQkdmWcr"
      },
      "execution_count": null,
      "outputs": []
    },
    {
      "cell_type": "markdown",
      "source": [
        "**5- Syntax:**\n",
        "\n",
        "  **-  Lists:** Defined using square brackets [ ].\n",
        "  \n",
        "  **- Tuples:** Defined using parentheses ( )."
      ],
      "metadata": {
        "id": "Z8pSTb_Imdqd"
      }
    },
    {
      "cell_type": "code",
      "source": [
        "# List definition\n",
        "my_list = [1, 2, 3, 4]\n",
        "\n",
        "# Tuple definition\n",
        "my_tuple = (1, 2, 3, 4)"
      ],
      "metadata": {
        "id": "BFz5svANmwS2"
      },
      "execution_count": null,
      "outputs": []
    },
    {
      "cell_type": "markdown",
      "source": [
        "### **Q5 - Describe the key features of sets and provide examples of their use.**\n",
        "**Ans-** Sets are a built-in data structure in Python that represent an unordered collection of unique elements. They are particularly useful for operations involving membership testing, removing duplicates, and performing mathematical set operations like unions, intersections, and differences. Here’s an overview of the key features of sets and examples of their use:\n",
        "\n",
        "#### **Key Features of Sets-**\n",
        "\n",
        "    \n",
        "  **- Unordered Collection:**\n",
        "        Sets do not maintain any order of elements. Unlike lists or tuples, the order in which elements are added does not affect their arrangement in the set.\n",
        "\n",
        "\n",
        "  **- Unique Elements:**\n",
        "        Sets automatically ensure that all elements are unique. Duplicate elements are not allowed and will be ignored when added.\n",
        "\n",
        "  **- Mutable:**\n",
        "        Sets are mutable, meaning you can add or remove elements after creation. However, the elements themselves must be immutable types (e.g., numbers, strings, tuples).\n",
        "\n",
        "  **- No Indexing:**\n",
        "        Sets do not support indexing, slicing, or other sequence-like behaviors. Elements can only be accessed via membership testing or iteration.\n",
        "\n",
        "  **- Mathematical Set Operations:**\n",
        "        Sets support various mathematical operations such as union, intersection, difference, and symmetric difference, which are useful for comparing and combining sets of data.\n",
        "\n",
        "  **- Efficient Membership Testing:**\n",
        "        Checking for membership in a set is generally faster than in a list, as sets are implemented using hash tables.\n",
        "\n",
        "\n",
        "\n",
        "\n",
        "\n",
        "#### **Examples of Using Sets**\n",
        "\n",
        "**1. Creating a Set**"
      ],
      "metadata": {
        "id": "A-lmnG8Dm2pi"
      }
    },
    {
      "cell_type": "code",
      "source": [
        "# Creating a set with initial elements\n",
        "my_set = {1, 2, 3, 4}\n",
        "print(my_set)  # Output: {1, 2, 3, 4}\n",
        "\n",
        "# Creating an empty set\n",
        "empty_set = set()\n",
        "print(empty_set)  # Output: set()"
      ],
      "metadata": {
        "id": "cY5ap5h1oVye"
      },
      "execution_count": null,
      "outputs": []
    },
    {
      "cell_type": "markdown",
      "source": [
        "**2. Adding and Removing Elements**\n"
      ],
      "metadata": {
        "id": "6n71JH1bo37W"
      }
    },
    {
      "cell_type": "code",
      "source": [
        "my_set = {1, 2, 3}\n",
        "\n",
        "# Adding elements\n",
        "my_set.add(4)\n",
        "print(my_set)  # Output: {1, 2, 3, 4}\n",
        "\n",
        "# Removing elements\n",
        "my_set.remove(2)  # Raises KeyError if the element is not present\n",
        "print(my_set)  # Output: {1, 3, 4}\n",
        "\n",
        "# Removing elements with discard (no error if element is not present)\n",
        "my_set.discard(5)\n",
        "print(my_set)  # Output: {1, 3, 4}"
      ],
      "metadata": {
        "id": "wdYBZvV5pGML"
      },
      "execution_count": null,
      "outputs": []
    },
    {
      "cell_type": "markdown",
      "source": [
        "**3. Mathematical Set Operations**"
      ],
      "metadata": {
        "id": "fHLu3gw5pKct"
      }
    },
    {
      "cell_type": "code",
      "source": [
        "set1 = {1, 2, 3, 4}\n",
        "set2 = {3, 4, 5, 6}\n",
        "\n",
        "# Union\n",
        "union_set = set1 | set2\n",
        "print(union_set)  # Output: {1, 2, 3, 4, 5, 6}\n",
        "\n",
        "# Intersection\n",
        "intersection_set = set1 & set2\n",
        "print(intersection_set)  # Output: {3, 4}\n",
        "\n",
        "# Difference\n",
        "difference_set = set1 - set2\n",
        "print(difference_set)  # Output: {1, 2}\n",
        "\n",
        "# Symmetric Difference (elements in either set, but not in both)\n",
        "symmetric_difference_set = set1 ^ set2\n",
        "print(symmetric_difference_set)  # Output: {1, 2, 5, 6}"
      ],
      "metadata": {
        "id": "phEjrMqrpQFa"
      },
      "execution_count": null,
      "outputs": []
    },
    {
      "cell_type": "markdown",
      "source": [
        "**4. Membership Testing**"
      ],
      "metadata": {
        "id": "B1JMqtAPpUZB"
      }
    },
    {
      "cell_type": "code",
      "source": [
        "my_set = {1, 2, 3, 4}\n",
        "\n",
        "# Checking for membership\n",
        "print(2 in my_set)  # Output: True\n",
        "print(5 in my_set)  # Output: False"
      ],
      "metadata": {
        "id": "u8soA6dypZsr"
      },
      "execution_count": null,
      "outputs": []
    },
    {
      "cell_type": "markdown",
      "source": [
        "**5. Iterating Over a Set**"
      ],
      "metadata": {
        "id": "Dhy0DbzApeFx"
      }
    },
    {
      "cell_type": "code",
      "source": [
        "my_set = {1, 2, 3}\n",
        "\n",
        "# Iterating through elements\n",
        "for element in my_set:\n",
        "    print(element)\n",
        "# Output:\n",
        "# 1\n",
        "# 2\n",
        "# 3\n",
        "# (Order may vary)"
      ],
      "metadata": {
        "id": "kBYTpp4Ipjgy"
      },
      "execution_count": null,
      "outputs": []
    },
    {
      "cell_type": "markdown",
      "source": [
        "**6. Set Comprehensions**:\n",
        "Set comprehensions allow you to create sets using a concise and readable syntax, similar to list comprehensions."
      ],
      "metadata": {
        "id": "obZeopZFp1Bd"
      }
    },
    {
      "cell_type": "code",
      "source": [
        "# Creating a set of squares of numbers from 0 to 4\n",
        "squares_set = {x**2 for x in range(5)}\n",
        "print(squares_set)  # Output: {0, 1, 4, 9, 16}"
      ],
      "metadata": {
        "id": "yhC0QqTXqBo6"
      },
      "execution_count": null,
      "outputs": []
    },
    {
      "cell_type": "markdown",
      "source": [
        "### **Q6 - Discuss the use cases of tuples and sets in Python programming.**\n",
        "**Ans-** Tuples and sets are both fundamental data structures in Python, each with its unique properties and use cases. Here’s a detailed look at when and why you might use tuples and sets in Python programming:\n",
        "\n",
        "### **Tuples**\n",
        "\n",
        "**Key Properties**\n",
        "\n",
        "  - Immutable: Once created, tuples cannot be modified. This immutability makes them hashable and suitable for use as keys in dictionaries and elements in sets.\n",
        "  - Ordered: Tuples maintain the order of elements, allowing for indexing and slicing.\n",
        "\n",
        "**Use Cases**\n",
        "\n",
        "    \n",
        "  **1- Fixed Collections of Items :**\n",
        "        \n",
        "  - Use tuples to represent fixed collections of items where the data should not change. For example, you might use a tuple to represent a point in a 2D space."
      ],
      "metadata": {
        "id": "ulLZ-_eJqFQO"
      }
    },
    {
      "cell_type": "code",
      "source": [
        "point = (3, 5)  # Represents a point (x, y)"
      ],
      "metadata": {
        "id": "gliC_jebrVYo"
      },
      "execution_count": null,
      "outputs": []
    },
    {
      "cell_type": "markdown",
      "source": [
        "**2- Returning Multiple Values from Functions**\n",
        "\n",
        "  - Tuples are often used to return multiple values from a function in a single return statement."
      ],
      "metadata": {
        "id": "u4EHDvX4rZDL"
      }
    },
    {
      "cell_type": "code",
      "source": [
        "def get_person_info():\n",
        "    name = \"Alice\"\n",
        "    age = 30\n",
        "    return (name, age)\n",
        "\n",
        "person_info = get_person_info()\n",
        "print(person_info)  # Output: ('Alice', 30)"
      ],
      "metadata": {
        "id": "IhKt7eTfrmVR"
      },
      "execution_count": null,
      "outputs": []
    },
    {
      "cell_type": "markdown",
      "source": [
        "**3- Immutable Data Structures**\n",
        "\n",
        "  - Tuples can be used to create immutable data structures. If you need to ensure that the data remains unchanged, use a tuple."
      ],
      "metadata": {
        "id": "6U6S-ZDYrqce"
      }
    },
    {
      "cell_type": "code",
      "source": [
        "config = (\"localhost\", 8080, True)  # Configuration settings"
      ],
      "metadata": {
        "id": "wweSSSVZr0aY"
      },
      "execution_count": null,
      "outputs": []
    },
    {
      "cell_type": "markdown",
      "source": [
        "**4- Dictionary Keys and Set Elements**\n",
        "- Because tuples are immutable, they can be used as keys in dictionaries or elements in sets, unlike lists which are mutable."
      ],
      "metadata": {
        "id": "EMdtayvvr4Xo"
      }
    },
    {
      "cell_type": "code",
      "source": [
        "coordinates = {(0, 0): \"Origin\", (1, 2): \"Point A\"}"
      ],
      "metadata": {
        "id": "XO2jm7YGsJHC"
      },
      "execution_count": null,
      "outputs": []
    },
    {
      "cell_type": "markdown",
      "source": [
        "**5- Packing and Unpacking**\n",
        "\n",
        "  - Tuples are used for packing and unpacking multiple values in assignments."
      ],
      "metadata": {
        "id": "1YUB2r91sMRn"
      }
    },
    {
      "cell_type": "code",
      "source": [
        "a, b, c = (1, 2, 3)  # Unpacking a tuple"
      ],
      "metadata": {
        "id": "WF0ku9oRsWCs"
      },
      "execution_count": null,
      "outputs": []
    },
    {
      "cell_type": "markdown",
      "source": [
        "### **Sets**\n",
        "\n",
        "**Key Properties**\n",
        "\n",
        "  **- Unordered:** Sets do not maintain the order of elements. This lack of order means you cannot index or slice sets.\n",
        "\n",
        "  **- Unique Elements:** Sets automatically remove duplicates, ensuring all elements are unique.\n",
        "\n",
        "  **- Mutable:** While sets themselves are mutable (you can add or remove elements), the elements contained must be immutable.\n",
        "\n",
        "\n",
        "**Use Cases**\n",
        "\n",
        "  **Removing Duplicates**\n",
        "      \n",
        "  - Use sets to remove duplicate elements from a collection. Converting a list to a set can help quickly filter out duplicates."
      ],
      "metadata": {
        "id": "iUNFKwyBsZYO"
      }
    },
    {
      "cell_type": "code",
      "source": [
        "list_with_duplicates = [1, 2, 2, 3, 4, 4, 5]\n",
        "unique_elements = set(list_with_duplicates)\n",
        "print(unique_elements)  # Output: {1, 2, 3, 4, 5}"
      ],
      "metadata": {
        "id": "Felj67Yus8Nh"
      },
      "execution_count": null,
      "outputs": []
    },
    {
      "cell_type": "markdown",
      "source": [
        "**2- Membership Testing**\n",
        "\n",
        "  - Sets provide efficient membership testing. Checking if an item is in a set is faster than in a list due to the underlying hash table implementation."
      ],
      "metadata": {
        "id": "2zOHHZSDs-1_"
      }
    },
    {
      "cell_type": "code",
      "source": [
        "items = {1, 2, 3, 4, 5}\n",
        "print(3 in items)  # Output: True\n",
        "print(6 in items)  # Output: False"
      ],
      "metadata": {
        "id": "f_NkJbLTtLw2"
      },
      "execution_count": null,
      "outputs": []
    },
    {
      "cell_type": "markdown",
      "source": [
        "**3- Mathematical Set Operations**\n",
        "\n",
        "  - Sets support operations such as union, intersection, difference, and symmetric difference, which are useful for comparing and combining datasets."
      ],
      "metadata": {
        "id": "HkL-lPOrtNhb"
      }
    },
    {
      "cell_type": "code",
      "source": [
        "set1 = {1, 2, 3, 4}\n",
        "set2 = {3, 4, 5, 6}\n",
        "\n",
        "# Union\n",
        "union_set = set1 | set2\n",
        "print(union_set)  # Output: {1, 2, 3, 4, 5, 6}\n",
        "\n",
        "# Intersection\n",
        "intersection_set = set1 & set2\n",
        "print(intersection_set)  # Output: {3, 4}\n",
        "\n",
        "# Difference\n",
        "difference_set = set1 - set2\n",
        "print(difference_set)  # Output: {1, 2}\n",
        "\n",
        "# Symmetric Difference\n",
        "symmetric_difference_set = set1 ^ set2\n",
        "print(symmetric_difference_set)  # Output: {1, 2, 5, 6}"
      ],
      "metadata": {
        "id": "hczXQd9UtbUA"
      },
      "execution_count": null,
      "outputs": []
    },
    {
      "cell_type": "markdown",
      "source": [
        "**4- Data Deduplication**\n",
        "\n",
        "  - Use sets to deduplicate data or identify unique items in a collection. They are ideal for ensuring that only unique values are processed."
      ],
      "metadata": {
        "id": "8mbUJfLntdYm"
      }
    },
    {
      "cell_type": "code",
      "source": [
        "raw_data = [\"apple\", \"banana\", \"apple\", \"orange\", \"banana\"]\n",
        "unique_data = set(raw_data)\n",
        "print(unique_data)  # Output: {'apple', 'orange', 'banana'}"
      ],
      "metadata": {
        "id": "hOKL5tpStlcp"
      },
      "execution_count": null,
      "outputs": []
    },
    {
      "cell_type": "markdown",
      "source": [
        "**5- Set Operations in Data Analysis**\n",
        "\n",
        "  - Sets can be useful in data analysis for filtering and comparing datasets, such as finding common or unique items between datasets."
      ],
      "metadata": {
        "id": "R3L_ESmhto1b"
      }
    },
    {
      "cell_type": "code",
      "source": [
        "dataset1 = {\"a\", \"b\", \"c\", \"d\"}\n",
        "dataset2 = {\"c\", \"d\", \"e\", \"f\"}\n",
        "\n",
        "common_elements = dataset1 & dataset2\n",
        "print(common_elements)  # Output: {'c', 'd'}"
      ],
      "metadata": {
        "id": "vaVEFP7BtwL3"
      },
      "execution_count": null,
      "outputs": []
    },
    {
      "cell_type": "markdown",
      "source": [
        "### **Q7 - Describe how to add, modify, and delete items in a dictionary with examples.**\n",
        "**Ans-** Dictionaries in Python are powerful and flexible data structures used for storing key-value pairs. Each key in a dictionary is unique, and each key maps to a specific value. Here’s how you can add, modify, and delete items in a dictionary, along with examples:\n",
        "\n",
        "**1. Adding Items**\n",
        "\n",
        "\n",
        "To add items to a dictionary, you simply assign a value to a new key. If the key already exists, the value will be updated (this is actually a form of modification, which we’ll cover next).\n",
        "\n",
        "**Examples:**"
      ],
      "metadata": {
        "id": "Y_k7C03LtzIG"
      }
    },
    {
      "cell_type": "code",
      "source": [
        "# Creating an empty dictionary\n",
        "my_dict = {}\n",
        "\n",
        "# Adding a single item\n",
        "my_dict['name'] = 'Alice'\n",
        "print(my_dict)  # Output: {'name': 'Alice'}\n",
        "\n",
        "# Adding multiple items\n",
        "my_dict['age'] = 30\n",
        "my_dict['city'] = 'New York'\n",
        "print(my_dict)  # Output: {'name': 'Alice', 'age': 30, 'city': 'New York'}"
      ],
      "metadata": {
        "id": "qLuVUtciu3-N"
      },
      "execution_count": null,
      "outputs": []
    },
    {
      "cell_type": "markdown",
      "source": [
        "**2. Modifying Items**\n",
        "\n",
        "\n",
        "To modify items in a dictionary, you assign a new value to an existing key. This updates the value associated with that key.\n",
        "\n",
        "**Examples:**"
      ],
      "metadata": {
        "id": "VFyKkiuSu7yL"
      }
    },
    {
      "cell_type": "code",
      "source": [
        "# Creating a dictionary with initial items\n",
        "my_dict = {'name': 'Alice', 'age': 30, 'city': 'New York'}\n",
        "\n",
        "# Modifying an existing item\n",
        "my_dict['age'] = 31\n",
        "print(my_dict)  # Output: {'name': 'Alice', 'age': 31, 'city': 'New York'}\n",
        "\n",
        "# Modifying another item\n",
        "my_dict['city'] = 'San Francisco'\n",
        "print(my_dict)  # Output: {'name': 'Alice', 'age': 31, 'city': 'San Francisco'}"
      ],
      "metadata": {
        "id": "P8KPUo6mvI9T"
      },
      "execution_count": null,
      "outputs": []
    },
    {
      "cell_type": "markdown",
      "source": [
        "**3. Deleting Items**\n",
        "\n",
        "\n",
        "To delete items from a dictionary, you can use several methods: del, pop(), and popitem().\n",
        "\n",
        "**Using del**\n",
        "\n",
        "The del statement removes an item by specifying its key. If the key does not exist, it raises a KeyError."
      ],
      "metadata": {
        "id": "CnyRGQtuvMpG"
      }
    },
    {
      "cell_type": "code",
      "source": [
        "# Creating a dictionary\n",
        "my_dict = {'name': 'Alice', 'age': 31, 'city': 'San Francisco'}\n",
        "\n",
        "# Deleting an item\n",
        "del my_dict['age']\n",
        "print(my_dict)  # Output: {'name': 'Alice', 'city': 'San Francisco'}\n",
        "\n",
        "# Attempting to delete a non-existent key raises KeyError\n",
        "# del my_dict['gender']  # Raises KeyError: 'gender'"
      ],
      "metadata": {
        "id": "tLIS85-OvYvb"
      },
      "execution_count": null,
      "outputs": []
    },
    {
      "cell_type": "markdown",
      "source": [
        "**Using pop()**\n",
        "\n",
        "\n",
        "The pop() method removes an item by specifying its key and returns the value associated with that key. If the key does not exist, it raises a KeyError, unless you provide a default value."
      ],
      "metadata": {
        "id": "KN6uH86BvbSn"
      }
    },
    {
      "cell_type": "code",
      "source": [
        "# Creating a dictionary\n",
        "my_dict = {'name': 'Alice', 'age': 31, 'city': 'San Francisco'}\n",
        "\n",
        "# Removing an item and getting its value\n",
        "age = my_dict.pop('age')\n",
        "print(age)      # Output: 31\n",
        "print(my_dict)  # Output: {'name': 'Alice', 'city': 'San Francisco'}\n",
        "\n",
        "# Removing an item with a default value\n",
        "gender = my_dict.pop('gender', 'Not specified')\n",
        "print(gender)  # Output: Not specified"
      ],
      "metadata": {
        "id": "bK8st0vgvi_z"
      },
      "execution_count": null,
      "outputs": []
    },
    {
      "cell_type": "markdown",
      "source": [
        "**Using popitem()**\n",
        "\n",
        "\n",
        "The popitem() method removes and returns the last inserted key-value pair as a tuple. If the dictionary is empty, it raises a KeyError."
      ],
      "metadata": {
        "id": "HtkMPoUavmua"
      }
    },
    {
      "cell_type": "code",
      "source": [
        "# Creating a dictionary\n",
        "my_dict = {'name': 'Alice', 'age': 31, 'city': 'San Francisco'}\n",
        "\n",
        "# Removing and returning the last inserted item\n",
        "item = my_dict.popitem()\n",
        "print(item)    # Output: ('city', 'San Francisco') (order may vary)\n",
        "print(my_dict) # Output: {'name': 'Alice', 'age': 31}"
      ],
      "metadata": {
        "id": "MpVNcKm6vvct"
      },
      "execution_count": null,
      "outputs": []
    },
    {
      "cell_type": "markdown",
      "source": [
        "### **Q8 - Discuss the importance of dictionary keys being immutable and provide examples.**\n",
        "**Ans-** In Python, dictionary keys must be immutable because dictionaries are built on hash tables, which require keys to be of a type that is both hashable and consistent in equality checks. The immutability of keys is crucial for maintaining the integrity and performance of dictionary operations. Here’s a detailed discussion on why dictionary keys need to be immutable, along with examples:\n",
        "\n",
        "#### **Importance of Immutable Keys**\n",
        "\n",
        "    \n",
        "  **1. Hash Consistency:**\n",
        "        Hash Table Basics: Dictionaries use a hash table to quickly access values based on their keys. Hash tables rely on a hash function that maps keys to a specific position in the table. This requires that the hash value for a key remains constant over time.\n",
        "        Immutability: If a key were mutable (e.g., a list or a dictionary), its hash value could change if the object is modified. This inconsistency would lead to errors in locating the key in the hash table, breaking the dictionary’s functionality.\n",
        "\n",
        "\n",
        "  **2. Equality Consistency:**\n",
        "        Key Comparisons: For dictionaries to work correctly, the equality of keys must be consistent. If a mutable object were used as a key and changed its value, its equality comparison might yield different results before and after modification, leading to unpredictable behavior in the dictionary.\n",
        "\n",
        "  **3. Reliability and Integrity:**\n",
        "        Predictable Behavior: Using immutable keys ensures that dictionary operations (such as lookups, insertions, and deletions) behave predictably. This reliability is crucial for ensuring that data integrity is maintained throughout the program.\n",
        "\n",
        "\n",
        "###**Examples:**\n",
        "\n",
        "**Example 1: Immutable Keys**\n",
        "\n",
        "**Using Tuples as Dictionary Keys**\n",
        "\n",
        "Tuples are immutable and can be used as dictionary keys because their hash value remains constant."
      ],
      "metadata": {
        "id": "__YSupiEv-y2"
      }
    },
    {
      "cell_type": "code",
      "source": [
        "# Using a tuple as a dictionary key\n",
        "my_dict = {('a', 1): 'value1', ('b', 2): 'value2'}\n",
        "\n",
        "# Accessing value using tuple key\n",
        "print(my_dict[('a', 1)])  # Output: value1"
      ],
      "metadata": {
        "id": "NANbm724xpfS"
      },
      "execution_count": null,
      "outputs": []
    },
    {
      "cell_type": "markdown",
      "source": [
        "**Using Strings as Dictionary Keys**\n",
        "\n",
        "Strings are immutable and thus can be used as dictionary keys."
      ],
      "metadata": {
        "id": "2PXA_aBnxtXv"
      }
    },
    {
      "cell_type": "code",
      "source": [
        "# Using a string as a dictionary key\n",
        "my_dict = {'name': 'Alice', 'age': 30}\n",
        "\n",
        "# Accessing value using string key\n",
        "print(my_dict['name'])  # Output: Alice"
      ],
      "metadata": {
        "id": "-PDAFmNDxzto"
      },
      "execution_count": null,
      "outputs": []
    },
    {
      "cell_type": "markdown",
      "source": [
        "**Example 2: Mutable Keys (Not Allowed)**\n",
        "\n",
        "\n",
        "**Using Lists as Dictionary Keys**\n",
        "\n",
        "Lists are mutable and cannot be used as dictionary keys because they can change after their initial creation, which would alter their hash value and violate the consistency required for dictionary operations."
      ],
      "metadata": {
        "id": "7nXFSc5Wx3L9"
      }
    },
    {
      "cell_type": "code",
      "source": [
        "# Attempting to use a list as a dictionary key\n",
        "try:\n",
        "    my_dict = {[1, 2, 3]: 'value'}  # Raises TypeError\n",
        "except TypeError as e:\n",
        "    print(e)  # Output: unhashable type: 'list'"
      ],
      "metadata": {
        "id": "15E2XqGeyCs_"
      },
      "execution_count": null,
      "outputs": []
    },
    {
      "cell_type": "markdown",
      "source": [
        "**Using Dictionaries as Keys**\n",
        "\n",
        "Dictionaries are also mutable and cannot be used as keys for the same reason."
      ],
      "metadata": {
        "id": "s-FeUdV7yF0Z"
      }
    },
    {
      "cell_type": "code",
      "source": [
        "# Attempting to use a dictionary as a key\n",
        "try:\n",
        "    my_dict = {{'key': 'value'}: 'another_value'}  # Raises TypeError\n",
        "except TypeError as e:\n",
        "    print(e)  # Output: unhashable type: 'dict'"
      ],
      "metadata": {
        "id": "oxtNAJjSyNzg"
      },
      "execution_count": null,
      "outputs": []
    },
    {
      "cell_type": "markdown",
      "source": [
        "**Example 3: Custom Hashable Classes**\n",
        "\n",
        "**Creating a Custom Hashable Class**\n",
        "\n",
        "If you need to use custom objects as dictionary keys, ensure that they are immutable and properly implement the __hash__() and __eq__() methods."
      ],
      "metadata": {
        "id": "PSgPWPKOyRNg"
      }
    },
    {
      "cell_type": "code",
      "source": [
        "class CustomKey:\n",
        "    def __init__(self, value):\n",
        "        self.value = value\n",
        "\n",
        "    def __hash__(self):\n",
        "        return hash(self.value)\n",
        "\n",
        "    def __eq__(self, other):\n",
        "        return isinstance(other, CustomKey) and self.value == other.value\n",
        "\n",
        "# Using CustomKey as a dictionary key\n",
        "my_dict = {CustomKey(1): 'value1', CustomKey(2): 'value2'}\n",
        "\n",
        "# Accessing value using custom key\n",
        "print(my_dict[CustomKey(1)])  # Output: value1"
      ],
      "metadata": {
        "id": "kMCTVKD3ydkm"
      },
      "execution_count": null,
      "outputs": []
    }
  ]
}