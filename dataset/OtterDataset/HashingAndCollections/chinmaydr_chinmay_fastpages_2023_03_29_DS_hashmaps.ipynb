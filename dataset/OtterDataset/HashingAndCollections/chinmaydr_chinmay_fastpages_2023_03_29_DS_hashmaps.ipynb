{
  "cells": [
    {
      "cell_type": "markdown",
      "metadata": {
        "id": "NzaflXSKyT52"
      },
      "source": [
        "#  Data Structures- Hashmaps, Sets, Hash Tables, Hashing and Collisions\n",
        "> Observing hashmaps with python dictionaries\n",
        "- toc: true\n",
        "- image: /images/python.png\n",
        "- categories: []\n",
        "- type: pbl\n",
        "- week: 28"
      ]
    },
    {
      "attachments": {},
      "cell_type": "markdown",
      "metadata": {
        "id": "JQBYAb7byT57"
      },
      "source": [
        "## What is a Hashtable/Hashmap?\n",
        "\n",
        "> A hashtable is a data structure that with a collection of key-value pairs, where each key maps to a value, and the keys must be unique and hashable.\n",
        "\n",
        "- In Python there is a built in hashtable known as a dictionary.\n",
        "\n",
        "> The primary purpose of a hashtable is to provide efficient lookup, insertion, and deletion operations. When an element is to be inserted into the hashtable, a hash function is used to map the key to a specific index in the underlying array that is used to store the key-value pairs. The value is then stored at that index. When searching for a value, the hash function is used again to find the index where the value is stored.\n",
        "\n",
        "> The key advantage of a hashtable over other data structures like arrays and linked lists is its average-case time complexity for lookup, insertion, and deletion operations.\n",
        "\n",
        "- The typical time complexity of a hashtable is O(1) to acess, O(log n) to search, and O(n) to iterate. \n"
      ]
    },
    {
      "cell_type": "markdown",
      "metadata": {
        "id": "dXu9VdZ3yT58"
      },
      "source": [
        "## What is Hashing and Collision?\n",
        "\n",
        "> Hashing is the process of mapping a given key to a value in a hash table or hashmap, using a hash function. The hash function takes the key as input and produces a hash value or hash code, which is then used to determine the index in the underlying array where the value is stored. The purpose of hashing is to provide a quick and efficient way to access data, by eliminating the need to search through an entire data structure to find a value.\n",
        "\n",
        "> However, it is possible for two different keys to map to the same hash value, resulting in a collision. When a collision occurs, there are different ways to resolve it, depending on the collision resolution strategy used.\n",
        "\n",
        "> Python's dictionary implementation is optimized to handle collisions efficiently, and the performance of the dictionary is generally very good, even in the presence of collisions. However, if the number of collisions is very high, the performance of the dictionary can degrade, so it is important to choose a good hash function that minimizes collisions when designing a Python dictionary.\n",
        "\n",
        "## What is a Set?"
      ]
    },
    {
      "cell_type": "code",
      "execution_count": 3,
      "metadata": {
        "id": "ta9MGisDyT59"
      },
      "outputs": [
        {
          "name": "stdout",
          "output_type": "stream",
          "text": [
            "{1, 2, 3}\n"
          ]
        }
      ],
      "source": [
        "# Creating a set using set() function\n",
        "my_set = set([1, 2, 3, 2, 1])\n",
        "print(my_set)  \n",
        "\n",
        "# What do you notice in the output?\n",
        "# It only prints one of each number\n",
        "# the numbers are sorted\n",
        "\n",
        "# Why do you think Sets are in the same tech talk as Hashmaps/Hashtables?\n",
        "# both only store one of each data point\n",
        "# both are automatically sorted"
      ]
    },
    {
      "cell_type": "markdown",
      "metadata": {
        "id": "gVw6qHqxyT5_"
      },
      "source": [
        "## Dictionary Example\n",
        "\n",
        "Below are just some basic features of a dictionary. As always, documentation is always the main source for all the full capablilties. "
      ]
    },
    {
      "cell_type": "code",
      "execution_count": 4,
      "metadata": {
        "id": "nxGnE5tJyT5_"
      },
      "outputs": [
        {
          "name": "stdout",
          "output_type": "stream",
          "text": [
            "{'title': 'Lover', 'artist': 'Taylor Swift', 'year': 2019, 'genre': ['Pop', 'Synth-pop'], 'tracks': {1: 'I Forgot That You Existed', 2: 'Cruel Summer', 3: 'Lover', 4: 'The Man', 5: 'The Archer', 6: 'I Think He Knows', 7: 'Miss Americana & The Heartbreak Prince', 8: 'Paper Rings', 9: 'Cornelia Street', 10: 'Death By A Thousand Cuts', 11: 'London Boy', 12: \"Soon You'll Get Better (feat. Dixie Chicks)\", 13: 'False God', 14: 'You Need To Calm Down', 15: 'Afterglow', 16: 'Me! (feat. Brendon Urie of Panic! At The Disco)', 17: \"It's Nice To Have A Friend\", 18: 'Daylight'}}\n"
          ]
        }
      ],
      "source": [
        "# Creating a dictionary with information about the album \"Lover\"\n",
        "lover_album = {\n",
        "    \"title\": \"Lover\",\n",
        "    \"artist\": \"Taylor Swift\",\n",
        "    \"year\": 2019,\n",
        "    \"genre\": [\"Pop\", \"Synth-pop\"],\n",
        "    \"tracks\": {\n",
        "        1: \"I Forgot That You Existed\",\n",
        "        2: \"Cruel Summer\",\n",
        "        3: \"Lover\",\n",
        "        4: \"The Man\",\n",
        "        5: \"The Archer\",\n",
        "        6: \"I Think He Knows\",\n",
        "        7: \"Miss Americana & The Heartbreak Prince\",\n",
        "        8: \"Paper Rings\",\n",
        "        9: \"Cornelia Street\",\n",
        "        10: \"Death By A Thousand Cuts\",\n",
        "        11: \"London Boy\",\n",
        "        12: \"Soon You'll Get Better (feat. Dixie Chicks)\",\n",
        "        13: \"False God\",\n",
        "        14: \"You Need To Calm Down\",\n",
        "        15: \"Afterglow\",\n",
        "        16: \"Me! (feat. Brendon Urie of Panic! At The Disco)\",\n",
        "        17: \"It's Nice To Have A Friend\",\n",
        "        18: \"Daylight\"\n",
        "    }\n",
        "}\n",
        "\n",
        "# What data structures do you see?\n",
        "# list\n",
        "# dictionary\n",
        "\n",
        "# Printing the dictionary\n",
        "print(lover_album)"
      ]
    },
    {
      "cell_type": "code",
      "execution_count": 5,
      "metadata": {
        "id": "ASheNmvHyT6A"
      },
      "outputs": [
        {
          "name": "stdout",
          "output_type": "stream",
          "text": [
            "{1: 'I Forgot That You Existed', 2: 'Cruel Summer', 3: 'Lover', 4: 'The Man', 5: 'The Archer', 6: 'I Think He Knows', 7: 'Miss Americana & The Heartbreak Prince', 8: 'Paper Rings', 9: 'Cornelia Street', 10: 'Death By A Thousand Cuts', 11: 'London Boy', 12: \"Soon You'll Get Better (feat. Dixie Chicks)\", 13: 'False God', 14: 'You Need To Calm Down', 15: 'Afterglow', 16: 'Me! (feat. Brendon Urie of Panic! At The Disco)', 17: \"It's Nice To Have A Friend\", 18: 'Daylight'}\n",
            "{1: 'I Forgot That You Existed', 2: 'Cruel Summer', 3: 'Lover', 4: 'The Man', 5: 'The Archer', 6: 'I Think He Knows', 7: 'Miss Americana & The Heartbreak Prince', 8: 'Paper Rings', 9: 'Cornelia Street', 10: 'Death By A Thousand Cuts', 11: 'London Boy', 12: \"Soon You'll Get Better (feat. Dixie Chicks)\", 13: 'False God', 14: 'You Need To Calm Down', 15: 'Afterglow', 16: 'Me! (feat. Brendon Urie of Panic! At The Disco)', 17: \"It's Nice To Have A Friend\", 18: 'Daylight'}\n"
          ]
        }
      ],
      "source": [
        "# Retrieve value from dictionary with key\n",
        "print(lover_album.get('tracks'))\n",
        "# or\n",
        "print(lover_album['tracks'])"
      ]
    },
    {
      "cell_type": "code",
      "execution_count": 6,
      "metadata": {
        "id": "c8ldSPyvyT6B"
      },
      "outputs": [
        {
          "name": "stdout",
          "output_type": "stream",
          "text": [
            "The Man\n",
            "The Man\n"
          ]
        }
      ],
      "source": [
        "# Retrieve value from a dictionary inside a dictionary\n",
        "print(lover_album.get('tracks')[4])\n",
        "# or\n",
        "print(lover_album['tracks'][4])"
      ]
    },
    {
      "cell_type": "code",
      "execution_count": 7,
      "metadata": {
        "id": "cXGqnum6yT6B"
      },
      "outputs": [
        {
          "name": "stdout",
          "output_type": "stream",
          "text": [
            "{'title': 'Lover', 'artist': 'Taylor Swift', 'year': 2019, 'genre': ['Pop', 'Synth-pop'], 'tracks': {1: 'I Forgot That You Existed', 2: 'Cruel Summer', 3: 'Lover', 4: 'The Man', 5: 'The Archer', 6: 'I Think He Knows', 7: 'Miss Americana & The Heartbreak Prince', 8: 'Paper Rings', 9: 'Cornelia Street', 10: 'Death By A Thousand Cuts', 11: 'London Boy', 12: \"Soon You'll Get Better (feat. Dixie Chicks)\", 13: 'False God', 14: 'You Need To Calm Down', 15: 'Afterglow', 16: 'Me! (feat. Brendon Urie of Panic! At The Disco)', 17: \"It's Nice To Have A Friend\", 18: 'Daylight'}, 'producer': {'Taylor Swift', 'Joel Little', 'Louis Bell', 'Jack Antonoff', 'Frank Dukes'}}\n"
          ]
        }
      ],
      "source": [
        "# adding a value with a new key\n",
        "lover_album[\"producer\"] = set(['Taylor Swift', 'Jack Antonoff', 'Joel Little', 'Taylor Swift', 'Louis Bell', 'Frank Dukes'])\n",
        "\n",
        "# What can you change to make sure there are no duplicate producers?\n",
        "# make it into a set\n",
        "\n",
        "# Printing the dictionary\n",
        "print(lover_album)"
      ]
    },
    {
      "cell_type": "code",
      "execution_count": 8,
      "metadata": {
        "id": "CTnk9Lc2yT6C"
      },
      "outputs": [
        {
          "name": "stdout",
          "output_type": "stream",
          "text": [
            "{'title': 'Lover', 'artist': 'Taylor Swift', 'year': 2019, 'genre': ['Pop', 'Synth-pop', 'electropop'], 'tracks': {1: 'I Forgot That You Existed', 2: 'Cruel Summer', 3: 'Lover', 4: 'The Man', 5: 'The Archer', 6: 'I Think He Knows', 7: 'Miss Americana & The Heartbreak Prince', 8: 'Paper Rings', 9: 'Cornelia Street', 10: 'Death By A Thousand Cuts', 11: 'London Boy', 12: \"Soon You'll Get Better (feat. Dixie Chicks)\", 13: 'False God', 14: 'You Need To Calm Down', 15: 'Afterglow', 16: 'Me! (feat. Brendon Urie of Panic! At The Disco)', 17: \"It's Nice To Have A Friend\", 18: 'Daylight', 19: 'All Of The Girls You Loved Before'}, 'producer': {'Taylor Swift', 'Joel Little', 'Louis Bell', 'Jack Antonoff', 'Frank Dukes'}}\n"
          ]
        }
      ],
      "source": [
        "# Adding a an key-value pair to an existing key \n",
        "lover_album[\"tracks\"].update({19: \"All Of The Girls You Loved Before\"})\n",
        "\n",
        "# How would add an additional genre to the dictionary, like electropop? \n",
        "lover_album[\"genre\"].append(\"electropop\")\n",
        "# \n",
        "\n",
        "# Printing the dictionary\n",
        "print(lover_album)"
      ]
    },
    {
      "cell_type": "code",
      "execution_count": 9,
      "metadata": {
        "id": "-YrCw1Y9yT6C"
      },
      "outputs": [
        {
          "name": "stdout",
          "output_type": "stream",
          "text": [
            "title: Lover\n",
            "artist: Taylor Swift\n",
            "year: 2019\n",
            "genre: ['Pop', 'Synth-pop', 'electropop']\n",
            "tracks: {1: 'I Forgot That You Existed', 2: 'Cruel Summer', 3: 'Lover', 4: 'The Man', 5: 'The Archer', 6: 'I Think He Knows', 7: 'Miss Americana & The Heartbreak Prince', 8: 'Paper Rings', 9: 'Cornelia Street', 10: 'Death By A Thousand Cuts', 11: 'London Boy', 12: \"Soon You'll Get Better (feat. Dixie Chicks)\", 13: 'False God', 14: 'You Need To Calm Down', 15: 'Afterglow', 16: 'Me! (feat. Brendon Urie of Panic! At The Disco)', 17: \"It's Nice To Have A Friend\", 18: 'Daylight', 19: 'All Of The Girls You Loved Before'}\n",
            "producer: {'Taylor Swift', 'Joel Little', 'Louis Bell', 'Jack Antonoff', 'Frank Dukes'}\n",
            "tracks:\n",
            "1: I Forgot That You Existed\n",
            "2: Cruel Summer\n",
            "3: Lover\n",
            "4: The Man\n",
            "5: The Archer\n",
            "6: I Think He Knows\n",
            "7: Miss Americana & The Heartbreak Prince\n",
            "8: Paper Rings\n",
            "9: Cornelia Street\n",
            "10: Death By A Thousand Cuts\n",
            "11: London Boy\n",
            "12: Soon You'll Get Better (feat. Dixie Chicks)\n",
            "13: False God\n",
            "14: You Need To Calm Down\n",
            "15: Afterglow\n",
            "16: Me! (feat. Brendon Urie of Panic! At The Disco)\n",
            "17: It's Nice To Have A Friend\n",
            "18: Daylight\n",
            "19: All Of The Girls You Loved Before\n"
          ]
        }
      ],
      "source": [
        "# Print lover_album in more readable format\n",
        "for k,v in lover_album.items(): # iterate using a for loop for key and value\n",
        "    print(str(k) + \": \" + str(v))\n",
        "\n",
        "# Write your own code to print tracks in readable format\n",
        "print(\"tracks:\")\n",
        "for k,v in lover_album[\"tracks\"].items(): # iterate using a for loop for key and value\n",
        "    print(str(k) + \": \" + str(v))\n"
      ]
    },
    {
      "cell_type": "code",
      "execution_count": 12,
      "metadata": {
        "id": "T2Hlm5FtyT6D"
      },
      "outputs": [
        {
          "ename": "AttributeError",
          "evalue": "'str' object has no attribute 'get'",
          "output_type": "error",
          "traceback": [
            "\u001b[0;31m---------------------------------------------------------------------------\u001b[0m",
            "\u001b[0;31mAttributeError\u001b[0m                            Traceback (most recent call last)",
            "\u001b[1;32m/home/chinmay/vscode/chinmay_fastpages/_notebooks/2023_03_29_DS_hashmaps.ipynb Cell 12\u001b[0m in \u001b[0;36m<cell line: 14>\u001b[0;34m()\u001b[0m\n\u001b[1;32m     <a href='vscode-notebook-cell://wsl%2Bubuntu/home/chinmay/vscode/chinmay_fastpages/_notebooks/2023_03_29_DS_hashmaps.ipynb#X14sdnNjb2RlLXJlbW90ZQ%3D%3D?line=11'>12</a>\u001b[0m         \u001b[39mfor\u001b[39;00m album \u001b[39min\u001b[39;00m search_results:\n\u001b[1;32m     <a href='vscode-notebook-cell://wsl%2Bubuntu/home/chinmay/vscode/chinmay_fastpages/_notebooks/2023_03_29_DS_hashmaps.ipynb#X14sdnNjb2RlLXJlbW90ZQ%3D%3D?line=12'>13</a>\u001b[0m             \u001b[39mprint\u001b[39m(\u001b[39mf\u001b[39m\u001b[39m\"\u001b[39m\u001b[39mAlbum: \u001b[39m\u001b[39m{\u001b[39;00malbum\u001b[39m.\u001b[39mget(\u001b[39m'\u001b[39m\u001b[39mTitle\u001b[39m\u001b[39m'\u001b[39m)\u001b[39m}\u001b[39;00m\u001b[39m | Artist: \u001b[39m\u001b[39m{\u001b[39;00malbum\u001b[39m.\u001b[39mget(\u001b[39m'\u001b[39m\u001b[39mArtist\u001b[39m\u001b[39m'\u001b[39m)\u001b[39m}\u001b[39;00m\u001b[39m | Genre: \u001b[39m\u001b[39m{\u001b[39;00malbum\u001b[39m.\u001b[39mget(\u001b[39m'\u001b[39m\u001b[39mGenre\u001b[39m\u001b[39m'\u001b[39m)\u001b[39m}\u001b[39;00m\u001b[39m | Year: \u001b[39m\u001b[39m{\u001b[39;00malbum\u001b[39m.\u001b[39mget(\u001b[39m'\u001b[39m\u001b[39mYear\u001b[39m\u001b[39m'\u001b[39m)\u001b[39m}\u001b[39;00m\u001b[39m\"\u001b[39m)\n\u001b[0;32m---> <a href='vscode-notebook-cell://wsl%2Bubuntu/home/chinmay/vscode/chinmay_fastpages/_notebooks/2023_03_29_DS_hashmaps.ipynb#X14sdnNjb2RlLXJlbW90ZQ%3D%3D?line=13'>14</a>\u001b[0m search()\n",
            "\u001b[1;32m/home/chinmay/vscode/chinmay_fastpages/_notebooks/2023_03_29_DS_hashmaps.ipynb Cell 12\u001b[0m in \u001b[0;36msearch\u001b[0;34m()\u001b[0m\n\u001b[1;32m      <a href='vscode-notebook-cell://wsl%2Bubuntu/home/chinmay/vscode/chinmay_fastpages/_notebooks/2023_03_29_DS_hashmaps.ipynb#X14sdnNjb2RlLXJlbW90ZQ%3D%3D?line=3'>4</a>\u001b[0m search_results \u001b[39m=\u001b[39m []\n\u001b[1;32m      <a href='vscode-notebook-cell://wsl%2Bubuntu/home/chinmay/vscode/chinmay_fastpages/_notebooks/2023_03_29_DS_hashmaps.ipynb#X14sdnNjb2RlLXJlbW90ZQ%3D%3D?line=4'>5</a>\u001b[0m \u001b[39mfor\u001b[39;00m album \u001b[39min\u001b[39;00m lover_album\u001b[39m.\u001b[39mvalues():\n\u001b[0;32m----> <a href='vscode-notebook-cell://wsl%2Bubuntu/home/chinmay/vscode/chinmay_fastpages/_notebooks/2023_03_29_DS_hashmaps.ipynb#X14sdnNjb2RlLXJlbW90ZQ%3D%3D?line=5'>6</a>\u001b[0m     \u001b[39mif\u001b[39;00m album\u001b[39m.\u001b[39;49mget(search_type\u001b[39m.\u001b[39mlower()) \u001b[39m==\u001b[39m search_term\u001b[39m.\u001b[39mlower():\n\u001b[1;32m      <a href='vscode-notebook-cell://wsl%2Bubuntu/home/chinmay/vscode/chinmay_fastpages/_notebooks/2023_03_29_DS_hashmaps.ipynb#X14sdnNjb2RlLXJlbW90ZQ%3D%3D?line=6'>7</a>\u001b[0m         search_results\u001b[39m.\u001b[39mappend(album)\n\u001b[1;32m      <a href='vscode-notebook-cell://wsl%2Bubuntu/home/chinmay/vscode/chinmay_fastpages/_notebooks/2023_03_29_DS_hashmaps.ipynb#X14sdnNjb2RlLXJlbW90ZQ%3D%3D?line=7'>8</a>\u001b[0m \u001b[39mif\u001b[39;00m \u001b[39mlen\u001b[39m(search_results) \u001b[39m==\u001b[39m \u001b[39m0\u001b[39m:\n",
            "\u001b[0;31mAttributeError\u001b[0m: 'str' object has no attribute 'get'"
          ]
        }
      ],
      "source": [
        "def search():\n",
        "    search_type = input(\"What would you like to search for? (Album/Artist/Genre/Year)\")\n",
        "    search_term = input(f\"Enter a {search_type} to search for:\")\n",
        "    search_results = []\n",
        "    for album in lover_album.values():\n",
        "        if album.get(search_type.lower()) == search_term.lower():\n",
        "            search_results.append(album)\n",
        "    if len(search_results) == 0:\n",
        "        print(f\"No albums found matching {search_term}\")\n",
        "    else:\n",
        "        print(f\"Search results for {search_type}: {search_term}\")\n",
        "        for album in search_results:\n",
        "            print(f\"Album: {album.get('Title')} | Artist: {album.get('Artist')} | Genre: {album.get('Genre')} | Year: {album.get('Year')}\")\n",
        "search()\n"
      ]
    },
    {
      "attachments": {},
      "cell_type": "markdown",
      "metadata": {
        "id": "K3Cr587oyT6D"
      },
      "source": [
        "## Hacks\n",
        "\n",
        "- Answer *ALL* questions in the code segments\n",
        "- Create a diagram or comparison illustration (Canva).\n",
        "    - What are the pro and cons of using this data structure? \n",
        "    - Dictionary vs List    \n",
        "    - Pros of dictionary: keys can be anything, even strings, intuitive acess, quick search, removes duplicates.\n",
        "    - Cons of dictionary: can be overkill with simple programs\n",
        "    - Pros of list: simple, good for ordered things\n",
        "    - cons of list: takes long time to search, keeps dupicates\n",
        "- Expand upon the code given to you, possible improvements in comments\n",
        "- Build your own album showing features of a python dictionary\n",
        "\n",
        "- For Mr. Yeung's class: Justify your favorite Taylor Swift song, answer may effect seed\n",
        "![image](https://user-images.githubusercontent.com/68085673/230501442-f493e6eb-d3a1-4b1c-81ec-98661b8fce3c.png)\n"
      ]
    },
    {
      "cell_type": "code",
      "execution_count": 11,
      "metadata": {},
      "outputs": [],
      "source": [
        "carnatic_music = {\n",
        "    \"Album 1\": {\n",
        "        \"Title\": \"Carnatic Classical Hits\",\n",
        "        \"Artist\": \"Various Artists\",\n",
        "        \"Year\": 2022,\n",
        "        \"Songs\": [\n",
        "            {\n",
        "                \"Title\": \"Maha Ganapathim\",\n",
        "                \"Artist\": \"MS Subbulakshmi\",\n",
        "                \"Duration\": 5.42,\n",
        "                \"Lyrics\": \"Vakra Tundaya\"\n",
        "            },\n",
        "            {\n",
        "                \"Title\": \"Bhaja Govindam\",\n",
        "                \"Artist\": \"M. S. Subbulakshmi\",\n",
        "                \"Duration\": 7.35,\n",
        "                \"Lyrics\": \"Bhaja Govindam\"\n",
        "            },\n",
        "            {\n",
        "                \"Title\": \"Nagumomu Ganaleni\",\n",
        "                \"Artist\": \"Balamuralikrishna\",\n",
        "                \"Duration\": 8.26,\n",
        "                \"Lyrics\": \"Nagumomu Ganaleni\"\n",
        "            }\n",
        "        ]\n",
        "    },\n",
        "    \"Album 2\": {\n",
        "        \"Title\": \"Carnatic Music Legends\",\n",
        "        \"Artist\": \"Various Artists\",\n",
        "        \"Year\": 2021,\n",
        "        \"Songs\": [\n",
        "            {\n",
        "                \"Title\": \"Krishna Nee Begane Baro\",\n",
        "                \"Artist\": \"MS Subbulakshmi\",\n",
        "                \"Duration\": 7.32,\n",
        "                \"Lyrics\": \"Krishna Nee Begane Baro\"\n",
        "            },\n",
        "            {\n",
        "                \"Title\": \"Thillana\",\n",
        "                \"Artist\": \"Lalgudi Jayaraman\",\n",
        "                \"Duration\": 6.53,\n",
        "                \"Lyrics\": \"Thillana\"\n",
        "            },\n",
        "            {\n",
        "                \"Title\": \"Vatapi Ganapatim Bhaje\",\n",
        "                \"Artist\": \"KJ Yesudas\",\n",
        "                \"Duration\": 5.18,\n",
        "                \"Lyrics\": \"Vatapi Ganapatim Bhaje\"\n",
        "            }\n",
        "        ]\n",
        "    }\n",
        "}\n"
      ]
    },
    {
      "cell_type": "code",
      "execution_count": null,
      "metadata": {},
      "outputs": [],
      "source": [
        "#include <bits/stdc++.h>\n",
        "using namespace std;\n",
        "int main() {\n",
        "  freopen(\"marathon.in\", \"r\", stdin);\n",
        "  freopen(\"marathon.out\", \"w\", stdout);\n",
        "  int n,k;\n",
        "  cin >> n >> k;\n",
        "  set<pair<int,pair<int,int>>> path;\n",
        "  set<pair<int,pair<int,int>>> tochoose;\n",
        "  int x,y;\n",
        "  cin >> x >> y;\n",
        "  path.insert(make_pair(0,make_pair(x,y)));\n",
        "  for(int i=0;i<n-2;i++){\n",
        "    cin >> x >> y;\n",
        "    tochoose.insert(make_pair(i+1,make_pair(x,y)));\n",
        "  }\n",
        "  cin >> x >> y;\n",
        "  path.insert(make_pair(n-1,make_pair(x,y)));\n",
        "  int dist = abs((*path.begin()).second.first-(*path.rbegin()).second.first)+abs((*path.begin()).second.second-(*path.rbegin()).second.second);\n",
        "  for(int i=0;i<max(0,n-k-2);i++){\n",
        "    dist = INT_MAX;\n",
        "    pair<int,pair<int,int>> tmp = {0,{0,0}};\n",
        "    for(pair<int,pair<int,int>> j:tochoose){\n",
        "      path.insert(j);\n",
        "      int tempdist = 0;\n",
        "      int prex = INT_MAX;\n",
        "      int prey = INT_MAX;\n",
        "      for(pair<int,pair<int,int>> i:path){\n",
        "        if(prex != INT_MAX){\n",
        "          tempdist += abs(i.second.first-prex)+abs(i.second.second-prey);\n",
        "        }\n",
        "        prex = i.second.first;\n",
        "        prey = i.second.second;\n",
        "      }\n",
        "      if(tempdist < dist){\n",
        "        dist = tempdist;\n",
        "        tmp = j;\n",
        "      }\n",
        "      path.erase(path.find(j));\n",
        "    }\n",
        "    tochoose.erase(tochoose.find(tmp));\n",
        "    path.insert(tmp);\n",
        "  }\n",
        "  /*\n",
        "  for(pair<int,pair<int,int>> i:path){\n",
        "    cout << i.first << \" \" << i.second.first << \" \" << i.second.second << endl;\n",
        "  }\n",
        "*/\n",
        "  cout << dist << endl;\n",
        "}"
      ]
    }
  ],
  "metadata": {
    "colab": {
      "provenance": []
    },
    "kernelspec": {
      "display_name": "base",
      "language": "python",
      "name": "python3"
    },
    "language_info": {
      "codemirror_mode": {
        "name": "ipython",
        "version": 3
      },
      "file_extension": ".py",
      "mimetype": "text/x-python",
      "name": "python",
      "nbconvert_exporter": "python",
      "pygments_lexer": "ipython3",
      "version": "3.9.12"
    },
    "orig_nbformat": 4,
    "vscode": {
      "interpreter": {
        "hash": "d9767bb80f0c926f2be51240ea78c27eb3c7b52dd704c89ce42f210d283b4c5b"
      }
    }
  },
  "nbformat": 4,
  "nbformat_minor": 0
}
