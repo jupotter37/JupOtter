{
 "cells": [
  {
   "cell_type": "markdown",
   "metadata": {
    "slideshow": {
     "slide_type": "slide"
    }
   },
   "source": [
    "# Data in Python\n",
    "\n",
    "## Stats 141B\n",
    "\n",
    "## Lecture 4\n",
    "\n",
    "## Prof. Sharpnack\n",
    "\n",
    "## Lecture slides at http://anson.ucdavis.edu/~jsharpna/141Blectures/\n",
    "\n",
    "## Lecture repository at https://github.com/jsharpna/141Blectures/"
   ]
  },
  {
   "cell_type": "markdown",
   "metadata": {
    "slideshow": {
     "slide_type": "slide"
    }
   },
   "source": [
    "### Built in data structures:\n",
    "\n",
    "**Sequences:**\n",
    "- list\n",
    "- tuple\n",
    "- string\n",
    "\n",
    "**Numeric:**\n",
    "- boolean\n",
    "- integer\n",
    "- float\n",
    "\n",
    "**Mappings: dictionaries, sets**\n",
    "\n",
    "**Exceptions, Classes**"
   ]
  },
  {
   "cell_type": "markdown",
   "metadata": {
    "slideshow": {
     "slide_type": "slide"
    }
   },
   "source": [
    "## Recap\n",
    "\n",
    "We left off last time with\n",
    "\n",
    "- `header`: string of header with , separated \n",
    "- `davis.dat`: file with lines containing UC Davis in college scorecard"
   ]
  },
  {
   "cell_type": "code",
   "execution_count": 24,
   "metadata": {
    "slideshow": {
     "slide_type": "slide"
    }
   },
   "outputs": [],
   "source": [
    "## Let's extract and plot the undergraduate population from dataset\n",
    "\n",
    "davis_lines = [] # empty list\n",
    "with open('CollegeScorecard/davis.dat','r') as davis: # open file as davis\n",
    "    for line in davis: # what?\n",
    "        line_sp = line.split('.csv:') # split a string\n",
    "        davis_lines.append(line_sp) # append to the end of the list"
   ]
  },
  {
   "cell_type": "code",
   "execution_count": 31,
   "metadata": {
    "slideshow": {
     "slide_type": "fragment"
    }
   },
   "outputs": [
    {
     "data": {
      "text/plain": [
       "21"
      ]
     },
     "execution_count": 31,
     "metadata": {},
     "output_type": "execute_result"
    }
   ],
   "source": [
    "len(davis_lines) # length of list"
   ]
  },
  {
   "cell_type": "code",
   "execution_count": 32,
   "metadata": {
    "slideshow": {
     "slide_type": "fragment"
    }
   },
   "outputs": [
    {
     "data": {
      "text/plain": [
       "'CollegeScorecard/MERGED1996_97_PP'"
      ]
     },
     "execution_count": 32,
     "metadata": {},
     "output_type": "execute_result"
    }
   ],
   "source": [
    "davis_lines[0][0] # indexing starts at 0"
   ]
  },
  {
   "cell_type": "code",
   "execution_count": 28,
   "metadata": {
    "slideshow": {
     "slide_type": "fragment"
    }
   },
   "outputs": [],
   "source": [
    "# alternative is to do list comp!\n",
    "\n",
    "with open('CollegeScorecard/davis.dat','r') as davis:\n",
    "    davis_lines = [line.split('.csv:') for line in davis] # list comprehension"
   ]
  },
  {
   "cell_type": "code",
   "execution_count": 71,
   "metadata": {
    "slideshow": {
     "slide_type": "slide"
    }
   },
   "outputs": [
    {
     "name": "stdout",
     "output_type": "stream",
     "text": [
      "CollegeScorecard/MERGED1996_97_PP\n",
      "110644,00131300,001313,University of California-Davis,Davis,\n"
     ]
    }
   ],
   "source": [
    "## Looking at the output - list of lists\n",
    "print(davis_lines[0][0])\n",
    "print(davis_lines[0][1][:60]) # first 60 characters"
   ]
  },
  {
   "cell_type": "code",
   "execution_count": 39,
   "metadata": {
    "slideshow": {
     "slide_type": "fragment"
    }
   },
   "outputs": [
    {
     "data": {
      "text/plain": [
       "['110644',\n",
       " '00131300',\n",
       " '001313',\n",
       " 'University of California-Davis',\n",
       " 'Davis',\n",
       " 'CA',\n",
       " '95616-8678',\n",
       " 'NULL',\n",
       " 'NULL',\n",
       " 'NULL']"
      ]
     },
     "execution_count": 39,
     "metadata": {},
     "output_type": "execute_result"
    }
   ],
   "source": [
    "sample_data = davis_lines[0][1].split(',') # split separates a string by commas\n",
    "sample_data[0:10]  # first ten elements"
   ]
  },
  {
   "cell_type": "code",
   "execution_count": 40,
   "metadata": {
    "slideshow": {
     "slide_type": "slide"
    }
   },
   "outputs": [
    {
     "data": {
      "text/plain": [
       "['\\ufeffUNITID',\n",
       " 'OPEID',\n",
       " 'OPEID6',\n",
       " 'INSTNM',\n",
       " 'CITY',\n",
       " 'STABBR',\n",
       " 'ZIP',\n",
       " 'ACCREDAGENCY',\n",
       " 'INSTURL',\n",
       " 'NPCURL']"
      ]
     },
     "execution_count": 40,
     "metadata": {},
     "output_type": "execute_result"
    }
   ],
   "source": [
    "header = header.strip() # remove trailing whitespace\n",
    "header = header.split(',') # split the string on ,\n",
    "header[0:10]  # first ten elements"
   ]
  },
  {
   "cell_type": "code",
   "execution_count": 44,
   "metadata": {
    "slideshow": {
     "slide_type": "fragment"
    }
   },
   "outputs": [
    {
     "data": {
      "text/plain": [
       "'UGDS'"
      ]
     },
     "execution_count": 44,
     "metadata": {},
     "output_type": "execute_result"
    }
   ],
   "source": [
    "UG_index = header.index('UGDS') # Find element of list with UGDS index\n",
    "header[UG_index] # check"
   ]
  },
  {
   "cell_type": "code",
   "execution_count": 45,
   "metadata": {
    "slideshow": {
     "slide_type": "fragment"
    }
   },
   "outputs": [
    {
     "data": {
      "text/plain": [
       "'18738'"
      ]
     },
     "execution_count": 45,
     "metadata": {},
     "output_type": "execute_result"
    }
   ],
   "source": [
    "sample_data[UG_index] # Davis undergrad population"
   ]
  },
  {
   "cell_type": "code",
   "execution_count": 49,
   "metadata": {
    "slideshow": {
     "slide_type": "slide"
    }
   },
   "outputs": [],
   "source": [
    "## Function, doc strings\n",
    "\n",
    "def extract_UGDS(line, UG_index):\n",
    "    \"\"\"Extract the UGDS from line (variable at UG_index)\"\"\"\n",
    "    data = line.split(',')\n",
    "    if data[UG_index] == 'NULL':\n",
    "        return 'NA'\n",
    "    else:\n",
    "        return int(data[UG_index])"
   ]
  },
  {
   "cell_type": "code",
   "execution_count": 50,
   "metadata": {
    "slideshow": {
     "slide_type": "fragment"
    }
   },
   "outputs": [],
   "source": [
    "UGDS_dat = [extract_UGDS(file[1],UG_index) for file in davis_lines]"
   ]
  },
  {
   "cell_type": "code",
   "execution_count": 51,
   "metadata": {
    "slideshow": {
     "slide_type": "fragment"
    }
   },
   "outputs": [
    {
     "data": {
      "text/plain": [
       "19393"
      ]
     },
     "execution_count": 51,
     "metadata": {},
     "output_type": "execute_result"
    }
   ],
   "source": [
    "UGDS_dat[3]"
   ]
  },
  {
   "cell_type": "code",
   "execution_count": 52,
   "metadata": {
    "slideshow": {
     "slide_type": "slide"
    }
   },
   "outputs": [
    {
     "data": {
      "text/plain": [
       "'CollegeScorecard/MERGED1996_97_PP'"
      ]
     },
     "execution_count": 52,
     "metadata": {},
     "output_type": "execute_result"
    }
   ],
   "source": [
    "davis_lines[0][0] # look at the filename portion"
   ]
  },
  {
   "cell_type": "code",
   "execution_count": 54,
   "metadata": {
    "slideshow": {
     "slide_type": "fragment"
    }
   },
   "outputs": [
    {
     "data": {
      "text/plain": [
       "'1996'"
      ]
     },
     "execution_count": 54,
     "metadata": {},
     "output_type": "execute_result"
    }
   ],
   "source": [
    "davis_lines[0][0][-10:-6] # one way to get year"
   ]
  },
  {
   "cell_type": "code",
   "execution_count": 55,
   "metadata": {
    "slideshow": {
     "slide_type": "fragment"
    }
   },
   "outputs": [],
   "source": [
    "def extract_year(line):\n",
    "    \"\"\"extract the year from line\"\"\"\n",
    "    year_str = line[-10:-6]\n",
    "    return int(year_str)"
   ]
  },
  {
   "cell_type": "code",
   "execution_count": 56,
   "metadata": {
    "slideshow": {
     "slide_type": "fragment"
    }
   },
   "outputs": [],
   "source": [
    "years = [extract_year(file[0]) for file in davis_lines]"
   ]
  },
  {
   "cell_type": "code",
   "execution_count": 64,
   "metadata": {
    "slideshow": {
     "slide_type": "fragment"
    }
   },
   "outputs": [
    {
     "data": {
      "text/plain": [
       "2000"
      ]
     },
     "execution_count": 64,
     "metadata": {},
     "output_type": "execute_result"
    }
   ],
   "source": [
    "na_id = UGDS_dat.index('NA') # Remove missing values\n",
    "years[na_id]"
   ]
  },
  {
   "cell_type": "code",
   "execution_count": 65,
   "metadata": {
    "slideshow": {
     "slide_type": "fragment"
    }
   },
   "outputs": [],
   "source": [
    "del years[na_id] # del removes that element from list\n",
    "del UGDS_dat[na_id]"
   ]
  },
  {
   "cell_type": "code",
   "execution_count": 66,
   "metadata": {
    "slideshow": {
     "slide_type": "slide"
    }
   },
   "outputs": [
    {
     "data": {
      "image/png": "[encoded data removed]",
      "text/plain": [
       "<Figure size 432x288 with 1 Axes>"
      ]
     },
     "metadata": {
      "needs_background": "light"
     },
     "output_type": "display_data"
    }
   ],
   "source": [
    "import matplotlib.pyplot as plt # matplotlib is plotting tool\n",
    "\n",
    "plt.plot(years,UGDS_dat)\n",
    "plt.show() # this plot has no annotation!  Wait for Chapter 5"
   ]
  },
  {
   "cell_type": "markdown",
   "metadata": {
    "slideshow": {
     "slide_type": "slide"
    }
   },
   "source": [
    "### List comprehensions\n",
    "- `[func(a) for a in list if bool_expr(a)]`\n",
    "- think of as mapping and filter\n",
    "\n",
    "### Iterables\n",
    "\n",
    "- iter(iterable) -> iterator\n",
    "- next(iterator) : returns next element"
   ]
  },
  {
   "cell_type": "code",
   "execution_count": 5,
   "metadata": {
    "slideshow": {
     "slide_type": "fragment"
    }
   },
   "outputs": [
    {
     "data": {
      "text/plain": [
       "[1, 9, 25, 49, 81]"
      ]
     },
     "execution_count": 5,
     "metadata": {},
     "output_type": "execute_result"
    }
   ],
   "source": [
    "[i**2 for i in range(10) if i % 2 == 1] # square of odds"
   ]
  },
  {
   "cell_type": "code",
   "execution_count": 7,
   "metadata": {
    "slideshow": {
     "slide_type": "slide"
    }
   },
   "outputs": [],
   "source": [
    "def proc_sou(line):\n",
    "    \"\"\"state of union line processing - in the future use Pandas\"\"\"\n",
    "    line_date, line_rest = line.strip().split('\",') # strip and split btw date/name\n",
    "    line_date = line_date.strip('\"') # remove \"\n",
    "    name, words = line_rest.split(',') # split name/words\n",
    "    return(line_date,name,int(words)) # return - convert int"
   ]
  },
  {
   "cell_type": "code",
   "execution_count": 22,
   "metadata": {
    "slideshow": {
     "slide_type": "fragment"
    }
   },
   "outputs": [
    {
     "name": "stdout",
     "output_type": "stream",
     "text": [
      "date,name,words\r\n",
      "\"January 8, 1790\",George Washington,1089\r\n",
      "\"December 8, 1790\",George Washington,1401\r\n",
      "\"October 25, 1791\",George Washington,2302\r\n",
      "\"November 6, 1792\",George Washington,2101\r\n",
      "\"December 3, 1793\",George Washington,1968\r\n",
      "\"November 19, 1794\",George Washington,2918\r\n",
      "\"December 8, 1795\",George Washington,1989\r\n",
      "\"December 7, 1796\",George Washington,2871\r\n",
      "\"November 22, 1797\",John Adams,2063\r\n"
     ]
    }
   ],
   "source": [
    "! head ../data/state_of_union.csv"
   ]
  },
  {
   "cell_type": "code",
   "execution_count": 9,
   "metadata": {
    "slideshow": {
     "slide_type": "slide"
    }
   },
   "outputs": [],
   "source": [
    "with open('../data/state_of_union.csv','r') as sou:\n",
    "    head_temp = sou.readline() # skip the first line\n",
    "    sou_data = [proc_sou(line) for line in sou] # list comp"
   ]
  },
  {
   "cell_type": "code",
   "execution_count": 10,
   "metadata": {
    "slideshow": {
     "slide_type": "fragment"
    }
   },
   "outputs": [],
   "source": [
    "# is same as\n",
    "with open('../data/state_of_union.csv','r') as sou:\n",
    "    head_temp = sou.readline() # skip the first line\n",
    "    sou_data = []\n",
    "    for line in sou:\n",
    "        sou_data.append(proc_sou(line)) # append inserts at the end"
   ]
  },
  {
   "cell_type": "code",
   "execution_count": 11,
   "metadata": {
    "slideshow": {
     "slide_type": "slide"
    }
   },
   "outputs": [
    {
     "data": {
      "text/plain": [
       "285"
      ]
     },
     "execution_count": 11,
     "metadata": {},
     "output_type": "execute_result"
    }
   ],
   "source": [
    "## square first 10 non-neg ints\n",
    "s = 0\n",
    "for i in range(10):\n",
    "    s += i**2\n",
    "s"
   ]
  },
  {
   "cell_type": "code",
   "execution_count": 12,
   "metadata": {
    "slideshow": {
     "slide_type": "slide"
    }
   },
   "outputs": [
    {
     "ename": "StopIteration",
     "evalue": "",
     "output_type": "error",
     "traceback": [
      "\u001b[0;31m---------------------------------------------------------------------------\u001b[0m",
      "\u001b[0;31mStopIteration\u001b[0m                             Traceback (most recent call last)",
      "\u001b[0;32m<ipython-input-12-7551ab1859d9>\u001b[0m in \u001b[0;36m<module>\u001b[0;34m()\u001b[0m\n\u001b[1;32m      3\u001b[0m \u001b[0mriter\u001b[0m \u001b[0;34m=\u001b[0m \u001b[0miter\u001b[0m\u001b[0;34m(\u001b[0m\u001b[0mrange\u001b[0m\u001b[0;34m(\u001b[0m\u001b[0;36m10\u001b[0m\u001b[0;34m)\u001b[0m\u001b[0;34m)\u001b[0m \u001b[0;31m# iter creates iterator\u001b[0m\u001b[0;34m\u001b[0m\u001b[0m\n\u001b[1;32m      4\u001b[0m \u001b[0;32mwhile\u001b[0m \u001b[0;32mTrue\u001b[0m\u001b[0;34m:\u001b[0m\u001b[0;34m\u001b[0m\u001b[0m\n\u001b[0;32m----> 5\u001b[0;31m     \u001b[0ms\u001b[0m \u001b[0;34m+=\u001b[0m \u001b[0mnext\u001b[0m\u001b[0;34m(\u001b[0m\u001b[0mriter\u001b[0m\u001b[0;34m)\u001b[0m\u001b[0;34m**\u001b[0m\u001b[0;36m2\u001b[0m \u001b[0;31m# next returns next element\u001b[0m\u001b[0;34m\u001b[0m\u001b[0m\n\u001b[0m",
      "\u001b[0;31mStopIteration\u001b[0m: "
     ]
    }
   ],
   "source": [
    "## square first 10 non-neg ints\n",
    "s = 0\n",
    "riter = iter(range(10)) # iter creates iterator\n",
    "while True:\n",
    "    s += next(riter)**2 # next returns next element"
   ]
  },
  {
   "cell_type": "code",
   "execution_count": 13,
   "metadata": {
    "slideshow": {
     "slide_type": "slide"
    }
   },
   "outputs": [
    {
     "data": {
      "text/plain": [
       "285"
      ]
     },
     "execution_count": 13,
     "metadata": {},
     "output_type": "execute_result"
    }
   ],
   "source": [
    "## square first 10 non-neg ints\n",
    "s = 0\n",
    "riter = iter(range(10))\n",
    "while True:\n",
    "    try:\n",
    "        s += next(riter)**2\n",
    "    except StopIteration: # Catch this exception\n",
    "        break\n",
    "s"
   ]
  },
  {
   "cell_type": "code",
   "execution_count": 14,
   "metadata": {
    "slideshow": {
     "slide_type": "slide"
    }
   },
   "outputs": [
    {
     "data": {
      "text/plain": [
       "285"
      ]
     },
     "execution_count": 14,
     "metadata": {},
     "output_type": "execute_result"
    }
   ],
   "source": [
    "## square first 10 non-neg ints\n",
    "sum([i**2 for i in range(10)]) # list comp into sum"
   ]
  },
  {
   "cell_type": "code",
   "execution_count": 15,
   "metadata": {
    "slideshow": {
     "slide_type": "fragment"
    }
   },
   "outputs": [
    {
     "data": {
      "text/plain": [
       "285"
      ]
     },
     "execution_count": 15,
     "metadata": {},
     "output_type": "execute_result"
    }
   ],
   "source": [
    "## square first 10 non-neg ints\n",
    "sum(i**2 for i in range(10)) # generator expression into sum"
   ]
  },
  {
   "cell_type": "code",
   "execution_count": 16,
   "metadata": {
    "slideshow": {
     "slide_type": "slide"
    }
   },
   "outputs": [],
   "source": [
    "# same thing as before\n",
    "with open('../data/state_of_union.csv','r') as sou:\n",
    "    sou_data = []\n",
    "    sou_iter = iter(sou)\n",
    "    head_temp = next(sou_iter) # skip the first line\n",
    "    while True:\n",
    "        try:\n",
    "            line = next(sou_iter)\n",
    "        except StopIteration:\n",
    "            break\n",
    "        sou_data.append(proc_sou(line))"
   ]
  },
  {
   "cell_type": "code",
   "execution_count": 17,
   "metadata": {
    "slideshow": {
     "slide_type": "slide"
    }
   },
   "outputs": [],
   "source": [
    "# or just stick with\n",
    "with open('../data/state_of_union.csv','r') as sou:\n",
    "    head_temp = sou.readline() # skip the first line\n",
    "    sou_data = [proc_sou(line) for line in sou] # list comp"
   ]
  },
  {
   "cell_type": "code",
   "execution_count": 20,
   "metadata": {
    "slideshow": {
     "slide_type": "slide"
    }
   },
   "outputs": [],
   "source": [
    "# custom iterable\n",
    "def sou_reader(filename):\n",
    "    with open(filename,'r') as sou:\n",
    "        _ = sou.readline() # skip first line\n",
    "        for line in sou:\n",
    "            yield proc_sou(line)"
   ]
  },
  {
   "cell_type": "code",
   "execution_count": 21,
   "metadata": {
    "slideshow": {
     "slide_type": "fragment"
    }
   },
   "outputs": [],
   "source": [
    "sou_r = sou_reader('../data/state_of_union.csv')\n",
    "sou_data = [datum for datum in sou_r]"
   ]
  },
  {
   "cell_type": "code",
   "execution_count": 24,
   "metadata": {
    "slideshow": {
     "slide_type": "slide"
    }
   },
   "outputs": [
    {
     "name": "stdout",
     "output_type": "stream",
     "text": [
      ">SPAC1002.01:pep\r\n",
      "MLPPTIRISGLAKTLHIPSRSPLQALKGSFILLNKRKFHYSPFILQEKVQSSNHTIRSDT\r\n",
      "KLWKRLLKITGKQAHQFKDKPFSHIFAFLFLHELSAILPLPIFFFIFHSLDWTPTGLPGE\r\n",
      "YLQKGSHVAASIFAKLGYNLPLEKVSKTLLDGAAAYAVVKVSYFVENNMVSSTRPFVSN*\r\n",
      ">SPAC1002.02:pep\r\n",
      "MASTFSQSVFARSLYEDSAENKVDSSKNTEANFPITLPKVLPTDPKASSLHKPQEQQPNI\r\n",
      "IPSKEEDKKPVINSMKLPSIPAPGTDNINESHIPRGYWKHPAVDKIAKRLHDQAPSDRTW\r\n",
      "SRMVSNLFAFISIQFLNRYLPNTTAVKVVSWILQALLLFNLLESVWQFVRPQPTFDDLQL\r\n",
      "TPLQRKLMGLPEGGSTSGKHLTPPRYRPNFSPSRKAENVKSPVRSTTWA*\r\n",
      ">SPAC1002.03c:pep\r\n"
     ]
    }
   ],
   "source": [
    "# The following data is from https://www.pombase.org/downloads/protein-datasets\n",
    "# It contains the amino acid sequences for proteins in fission yeast\n",
    "\n",
    "! head ../data/peptide.fa"
   ]
  },
  {
   "cell_type": "code",
   "execution_count": 25,
   "metadata": {
    "slideshow": {
     "slide_type": "slide"
    }
   },
   "outputs": [],
   "source": [
    "def pep_reader(filename='../data/peptide.fa'):\n",
    "    with open(filename,'r') as pepfile:\n",
    "        pepname = False # start of file\n",
    "        for line in pepfile: \n",
    "            if line[0] == '>': # check for prot id line\n",
    "                if pepname:\n",
    "                    yield (pepname,pepseq) # if not first output protein\n",
    "                pepname = line.split(':')[0][1:] # get the id\n",
    "                pepseq = \"\" # init seq\n",
    "            else:\n",
    "                pepseq += line.strip() # append to seq"
   ]
  },
  {
   "cell_type": "code",
   "execution_count": 28,
   "metadata": {},
   "outputs": [],
   "source": [
    "pep = pep_reader() # init the iterator\n",
    "pepdict = {k:v for k,v in pep} # make dictionary with gen expression"
   ]
  },
  {
   "cell_type": "code",
   "execution_count": 29,
   "metadata": {},
   "outputs": [
    {
     "data": {
      "text/plain": [
       "['SPAC1002.01',\n",
       " 'SPAC1002.02',\n",
       " 'SPAC1002.03c',\n",
       " 'SPAC1002.04c',\n",
       " 'SPAC1002.05c',\n",
       " 'SPAC1002.06c',\n",
       " 'SPAC1002.07c',\n",
       " 'SPAC1002.08c',\n",
       " 'SPAC1002.09c',\n",
       " 'SPAC1002.10c']"
      ]
     },
     "execution_count": 29,
     "metadata": {},
     "output_type": "execute_result"
    }
   ],
   "source": [
    "[k for i,k in enumerate(pepdict.keys()) if i < 10] # first 10 keys"
   ]
  },
  {
   "cell_type": "markdown",
   "metadata": {
    "slideshow": {
     "slide_type": "slide"
    }
   },
   "source": [
    "## Dictionaries form hash tables\n",
    "\n",
    "- a hash function is used to give the keys integer ids (probably unique but maybe not)\n",
    "- a hash table maps these ids to values\n",
    "\n",
    "![](https://upload.wikimedia.org/wikipedia/commons/thumb/7/7d/Hash_table_3_1_1_0_1_0_0_SP.svg/315px-Hash_table_3_1_1_0_1_0_0_SP.svg.png)\n",
    "*image from wikipedia"
   ]
  },
  {
   "cell_type": "code",
   "execution_count": 30,
   "metadata": {
    "slideshow": {
     "slide_type": "fragment"
    }
   },
   "outputs": [
    {
     "data": {
      "text/plain": [
       "'MLPPTIRISGLAKTLHIPSRSPLQALKGSFILLNKRKFHYSPFILQEKVQSSNHTIRSDTKLWKRLLKITGKQAHQFKDKPFSHIFAFLFLHELSAILPLPIFFFIFHSLDWTPTGLPGEYLQKGSHVAASIFAKLGYNLPLEKVSKTLLDGAAAYAVVKVSYFVENNMVSSTRPFVSN*'"
      ]
     },
     "execution_count": 30,
     "metadata": {},
     "output_type": "execute_result"
    }
   ],
   "source": [
    "pepdict['SPAC1002.01'] # select element"
   ]
  },
  {
   "cell_type": "code",
   "execution_count": 32,
   "metadata": {
    "slideshow": {
     "slide_type": "fragment"
    }
   },
   "outputs": [
    {
     "data": {
      "text/plain": [
       "7592352716679391596"
      ]
     },
     "execution_count": 32,
     "metadata": {},
     "output_type": "execute_result"
    }
   ],
   "source": [
    "hash('SPAC1002.01') # the hash value"
   ]
  },
  {
   "cell_type": "code",
   "execution_count": 33,
   "metadata": {
    "slideshow": {
     "slide_type": "slide"
    }
   },
   "outputs": [],
   "source": [
    "pep = pep_reader() # init again\n",
    "prot_ids, prot_seqs = zip(*pep) # make 2 lists\n",
    "prot_ids = list(prot_ids)\n",
    "prot_seqs = list(prot_seqs)"
   ]
  },
  {
   "cell_type": "code",
   "execution_count": 38,
   "metadata": {
    "slideshow": {
     "slide_type": "slide"
    }
   },
   "outputs": [],
   "source": [
    "lastid = prot_ids[-1] # select last id"
   ]
  },
  {
   "cell_type": "code",
   "execution_count": 41,
   "metadata": {
    "slideshow": {
     "slide_type": "fragment"
    }
   },
   "outputs": [
    {
     "name": "stdout",
     "output_type": "stream",
     "text": [
      "CPU times: user 73 µs, sys: 14 µs, total: 87 µs\n",
      "Wall time: 88.9 µs\n"
     ]
    },
    {
     "data": {
      "text/plain": [
       "'MSAEDLFTIQILCDQIELKLASIVINSNIKLQLKRKKKTQQL*'"
      ]
     },
     "execution_count": 41,
     "metadata": {},
     "output_type": "execute_result"
    }
   ],
   "source": [
    "%time prot_seqs[prot_ids.index(lastid)] # time selecting using list.index"
   ]
  },
  {
   "cell_type": "code",
   "execution_count": 42,
   "metadata": {
    "slideshow": {
     "slide_type": "fragment"
    }
   },
   "outputs": [
    {
     "name": "stdout",
     "output_type": "stream",
     "text": [
      "CPU times: user 3 µs, sys: 1 µs, total: 4 µs\n",
      "Wall time: 7.39 µs\n"
     ]
    },
    {
     "data": {
      "text/plain": [
       "'MSAEDLFTIQILCDQIELKLASIVINSNIKLQLKRKKKTQQL*'"
      ]
     },
     "execution_count": 42,
     "metadata": {},
     "output_type": "execute_result"
    }
   ],
   "source": [
    "%time pepdict[lastid] # time select using dict"
   ]
  }
 ],
 "metadata": {
  "celltoolbar": "Slideshow",
  "kernelspec": {
   "display_name": "Python 3",
   "language": "python",
   "name": "python3"
  },
  "language_info": {
   "codemirror_mode": {
    "name": "ipython",
    "version": 3
   },
   "file_extension": ".py",
   "mimetype": "text/x-python",
   "name": "python",
   "nbconvert_exporter": "python",
   "pygments_lexer": "ipython3",
   "version": "3.6.6"
  }
 },
 "nbformat": 4,
 "nbformat_minor": 2
}
