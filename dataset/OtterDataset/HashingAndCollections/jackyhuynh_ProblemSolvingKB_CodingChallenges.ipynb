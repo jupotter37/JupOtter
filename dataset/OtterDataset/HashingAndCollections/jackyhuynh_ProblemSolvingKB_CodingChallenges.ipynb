{
 "cells": [
  {
   "cell_type": "code",
   "execution_count": 10,
   "metadata": {},
   "outputs": [
    {
     "name": "stdout",
     "output_type": "stream",
     "text": [
      "11\n",
      "#BED\n",
      "{\n",
      "color: #FfFdF8; background-color:#aef;\n",
      "#FfFdF8\n",
      "#aef\n",
      "font-size: 123px;\n",
      "}\n",
      "#Cab\n"
     ]
    },
    {
     "ename": "KeyboardInterrupt",
     "evalue": "Interrupted by user",
     "output_type": "error",
     "traceback": [
      "\u001b[1;31m---------------------------------------------------------------------------\u001b[0m",
      "\u001b[1;31mKeyboardInterrupt\u001b[0m                         Traceback (most recent call last)",
      "\u001b[1;32m<ipython-input-10-01835feb4150>\u001b[0m in \u001b[0;36m<module>\u001b[1;34m\u001b[0m\n\u001b[0;32m      9\u001b[0m \u001b[1;33m\u001b[0m\u001b[0m\n\u001b[0;32m     10\u001b[0m \u001b[1;32mfor\u001b[0m \u001b[0mi\u001b[0m \u001b[1;32min\u001b[0m \u001b[0mrange\u001b[0m\u001b[1;33m(\u001b[0m\u001b[0mm\u001b[0m\u001b[1;33m)\u001b[0m\u001b[1;33m:\u001b[0m\u001b[1;33m\u001b[0m\u001b[1;33m\u001b[0m\u001b[0m\n\u001b[1;32m---> 11\u001b[1;33m     \u001b[0mline\u001b[0m \u001b[1;33m=\u001b[0m \u001b[0minput\u001b[0m\u001b[1;33m(\u001b[0m\u001b[1;33m)\u001b[0m\u001b[1;33m\u001b[0m\u001b[1;33m\u001b[0m\u001b[0m\n\u001b[0m\u001b[0;32m     12\u001b[0m     \u001b[1;32mif\u001b[0m\u001b[1;33m(\u001b[0m\u001b[0mline\u001b[0m\u001b[1;33m)\u001b[0m\u001b[1;33m:\u001b[0m\u001b[1;33m\u001b[0m\u001b[1;33m\u001b[0m\u001b[0m\n\u001b[0;32m     13\u001b[0m         \u001b[0mstartIndex\u001b[0m \u001b[1;33m=\u001b[0m \u001b[1;36m0\u001b[0m\u001b[1;33m\u001b[0m\u001b[1;33m\u001b[0m\u001b[0m\n",
      "\u001b[1;32m~\\anaconda3\\lib\\site-packages\\ipykernel\\kernelbase.py\u001b[0m in \u001b[0;36mraw_input\u001b[1;34m(self, prompt)\u001b[0m\n\u001b[0;32m    858\u001b[0m                 \u001b[1;34m\"raw_input was called, but this frontend does not support input requests.\"\u001b[0m\u001b[1;33m\u001b[0m\u001b[1;33m\u001b[0m\u001b[0m\n\u001b[0;32m    859\u001b[0m             )\n\u001b[1;32m--> 860\u001b[1;33m         return self._input_request(str(prompt),\n\u001b[0m\u001b[0;32m    861\u001b[0m             \u001b[0mself\u001b[0m\u001b[1;33m.\u001b[0m\u001b[0m_parent_ident\u001b[0m\u001b[1;33m,\u001b[0m\u001b[1;33m\u001b[0m\u001b[1;33m\u001b[0m\u001b[0m\n\u001b[0;32m    862\u001b[0m             \u001b[0mself\u001b[0m\u001b[1;33m.\u001b[0m\u001b[0m_parent_header\u001b[0m\u001b[1;33m,\u001b[0m\u001b[1;33m\u001b[0m\u001b[1;33m\u001b[0m\u001b[0m\n",
      "\u001b[1;32m~\\anaconda3\\lib\\site-packages\\ipykernel\\kernelbase.py\u001b[0m in \u001b[0;36m_input_request\u001b[1;34m(self, prompt, ident, parent, password)\u001b[0m\n\u001b[0;32m    902\u001b[0m             \u001b[1;32mexcept\u001b[0m \u001b[0mKeyboardInterrupt\u001b[0m\u001b[1;33m:\u001b[0m\u001b[1;33m\u001b[0m\u001b[1;33m\u001b[0m\u001b[0m\n\u001b[0;32m    903\u001b[0m                 \u001b[1;31m# re-raise KeyboardInterrupt, to truncate traceback\u001b[0m\u001b[1;33m\u001b[0m\u001b[1;33m\u001b[0m\u001b[1;33m\u001b[0m\u001b[0m\n\u001b[1;32m--> 904\u001b[1;33m                 \u001b[1;32mraise\u001b[0m \u001b[0mKeyboardInterrupt\u001b[0m\u001b[1;33m(\u001b[0m\u001b[1;34m\"Interrupted by user\"\u001b[0m\u001b[1;33m)\u001b[0m \u001b[1;32mfrom\u001b[0m \u001b[1;32mNone\u001b[0m\u001b[1;33m\u001b[0m\u001b[1;33m\u001b[0m\u001b[0m\n\u001b[0m\u001b[0;32m    905\u001b[0m             \u001b[1;32mexcept\u001b[0m \u001b[0mException\u001b[0m \u001b[1;32mas\u001b[0m \u001b[0me\u001b[0m\u001b[1;33m:\u001b[0m\u001b[1;33m\u001b[0m\u001b[1;33m\u001b[0m\u001b[0m\n\u001b[0;32m    906\u001b[0m                 \u001b[0mself\u001b[0m\u001b[1;33m.\u001b[0m\u001b[0mlog\u001b[0m\u001b[1;33m.\u001b[0m\u001b[0mwarning\u001b[0m\u001b[1;33m(\u001b[0m\u001b[1;34m\"Invalid Message:\"\u001b[0m\u001b[1;33m,\u001b[0m \u001b[0mexc_info\u001b[0m\u001b[1;33m=\u001b[0m\u001b[1;32mTrue\u001b[0m\u001b[1;33m)\u001b[0m\u001b[1;33m\u001b[0m\u001b[1;33m\u001b[0m\u001b[0m\n",
      "\u001b[1;31mKeyboardInterrupt\u001b[0m: Interrupted by user"
     ]
    }
   ],
   "source": [
    "# Enter your code here. Read input from STDIN. Print output to STDOUT\n",
    "# https://docs.python.org/3/library/re.html: re package is regular expression package\n",
    "\n",
    "import re,string\n",
    "\n",
    "m = int(input()) # Get the input from user input for the line of code\n",
    "check = False # Check if the Hex code is true or false\n",
    "regexp = r'\\#[0-9A-Fa-f]+'  # The regular expression that define the code\n",
    "\n",
    "for i in range(m):\n",
    "    line = input() # The input for each line of code\n",
    "    if(line):\n",
    "        startIndex = 0\n",
    "        endIndex = len(line)\n",
    "        if(check == False and line.find('{')!=-1):\n",
    "            startIndex = line.find('{')\n",
    "            check = True\n",
    "        if(check == True and line.find('}') != -1):\n",
    "            endIndex = line.find('}')\n",
    "            line = line[startIndex:endIndex]\n",
    "            for color in re.findall(regexp,line):\n",
    "                if(len(color)==4 or len(color)==7):\n",
    "                    index = line.index(color)\n",
    "                    if(line[index+len(color)] in string.ascii_letters or line[index+len(color)] in string.digits):\n",
    "                        continue\n",
    "                    else:\n",
    "                        print (color)\n",
    "            check = False\n",
    "        if check:\n",
    "            line = line[startIndex:endIndex]\n",
    "            for color in re.findall(regexp,line):\n",
    "                if(len(color)==4 or len(color)==7):\n",
    "                    index = line.index(color)\n",
    "                    if(line[index+len(color)] in string.ascii_letters or line[index+len(color)] in string.digits):\n",
    "                        continue\n",
    "                    else:\n",
    "                        print (color)"
   ]
  },
  {
   "cell_type": "code",
   "execution_count": 11,
   "metadata": {},
   "outputs": [],
   "source": [
    "'''\n",
    "Given an array of integers, calculate the ratios of its elements that are positive, negative, and zero. \n",
    "Print the decimal value of each fraction on a new line with  places after the decimal.\n",
    "\n",
    "Note: This challenge introduces precision problems. The test cases are scaled to six decimal places, \n",
    "though answers with absolute error of up to  are acceptable.\n",
    "\n",
    "https://blog.teclado.com/python-formatting-numbers-for-printing/\n",
    "'''\n",
    "\n",
    "def plusMinus(arr):\n",
    "    # Write your code here\n",
    "    zero=0\n",
    "    positive=0\n",
    "    negative=0\n",
    "    for i in arr:\n",
    "        if i > 0:\n",
    "            positive+=1\n",
    "        elif i == 0:\n",
    "            zero+=1\n",
    "        else:\n",
    "            negative+=1\n",
    "    \n",
    "    print(\"{:f}\".format(positive/len(arr)))\n",
    "    print(\"{:f}\".format(negative/len(arr)))  \n",
    "    print(\"{:f}\".format(zero/len(arr)))  "
   ]
  },
  {
   "cell_type": "code",
   "execution_count": 12,
   "metadata": {},
   "outputs": [
    {
     "name": "stdout",
     "output_type": "stream",
     "text": [
      "0.500000\n",
      "0.333333\n",
      "0.166667\n"
     ]
    }
   ],
   "source": [
    "arr = [-4, 3, -9, 0, 4, 1]\n",
    "plusMinus(arr)"
   ]
  },
  {
   "cell_type": "code",
   "execution_count": 54,
   "metadata": {},
   "outputs": [
    {
     "name": "stdout",
     "output_type": "stream",
     "text": [
      "10   14\n"
     ]
    }
   ],
   "source": [
    "#!/bin/python3\n",
    "\n",
    "'''\n",
    "Given five positive integers, find the minimum and maximum values that can be calculated \n",
    "by summing exactly four of the five integers. Then print the respective minimum and maximum \n",
    "values as a single line of two space-separated long integers.\n",
    "\n",
    "Output Format\n",
    "\n",
    "Print two space-separated long integers denoting the respective minimum \n",
    "and maximum values that can be calculated by summing exactly four of the five integers. \n",
    "(The output can be greater than a 32 bit integer.)\n",
    "'''\n",
    "import math\n",
    "import os\n",
    "import random\n",
    "import re\n",
    "import sys\n",
    "\n",
    "def miniMaxSum(arr):\n",
    "    # Write your code here\n",
    "    MinArr=arr.copy()\n",
    "    MaxArr=arr.copy()\n",
    "    MaxArr.remove(min(arr))\n",
    "    MinArr.remove(max(arr))\n",
    "    print (sum(MinArr),sum(MaxArr))\n",
    "    \n",
    "    \n",
    "arr = [1, 2, 3, 4, 5]\n",
    "miniMaxSum(arr)"
   ]
  },
  {
   "cell_type": "code",
   "execution_count": 6,
   "metadata": {},
   "outputs": [],
   "source": [
    "def timeConversion(s):\n",
    "    # Write your code here\n",
    "    h=int(s[0:2])\n",
    "    \n",
    "    if s[-2]=='A':\n",
    "        if h==12:\n",
    "            return (\"00\"+s[2:8])\n",
    "        else:\n",
    "            return (s[:8])\n",
    "    else:\n",
    "        if h!= 12:\n",
    "            h+=12\n",
    "        return (str(h)+s[2:8])"
   ]
  },
  {
   "cell_type": "code",
   "execution_count": null,
   "metadata": {},
   "outputs": [],
   "source": []
  },
  {
   "cell_type": "code",
   "execution_count": 10,
   "metadata": {},
   "outputs": [
    {
     "name": "stdout",
     "output_type": "stream",
     "text": [
      "14:05:45PM\n",
      "14:05:45\n"
     ]
    }
   ],
   "source": [
    "s='12:05:45PM'\n",
    "timeConversion(s)"
   ]
  },
  {
   "cell_type": "code",
   "execution_count": 3,
   "metadata": {},
   "outputs": [
    {
     "name": "stdout",
     "output_type": "stream",
     "text": [
      "Datatype before conversion <class 'int'>\n",
      "19\n",
      "Datatype after conversion <class 'str'>\n"
     ]
    }
   ],
   "source": [
    "num=int(s[1:2])+12\n",
    "print(\"Datatype before conversion\",type(num))\n",
    "num=str(num)\n",
    "print(num)\n",
    "print(\"Datatype after conversion\",type(num))"
   ]
  },
  {
   "cell_type": "code",
   "execution_count": 101,
   "metadata": {},
   "outputs": [
    {
     "data": {
      "text/plain": [
       "1"
      ]
     },
     "execution_count": 101,
     "metadata": {},
     "output_type": "execute_result"
    }
   ],
   "source": [
    "11%2"
   ]
  },
  {
   "cell_type": "code",
   "execution_count": 4,
   "metadata": {},
   "outputs": [
    {
     "data": {
      "text/plain": [
       "5"
      ]
     },
     "execution_count": 4,
     "metadata": {},
     "output_type": "execute_result"
    }
   ],
   "source": [
    "arr = [1, 2, 7, 4, 5]\n",
    "len(arr)"
   ]
  },
  {
   "cell_type": "code",
   "execution_count": 8,
   "metadata": {},
   "outputs": [],
   "source": [
    "import math\n",
    "len(arr)//2\n",
    "arr[len(arr)//2]\n",
    "middle = math.trunc(len(arr)/2)"
   ]
  },
  {
   "cell_type": "code",
   "execution_count": 9,
   "metadata": {},
   "outputs": [
    {
     "data": {
      "text/plain": [
       "2"
      ]
     },
     "execution_count": 9,
     "metadata": {},
     "output_type": "execute_result"
    }
   ],
   "source": [
    "middle"
   ]
  },
  {
   "cell_type": "code",
   "execution_count": 15,
   "metadata": {},
   "outputs": [],
   "source": [
    "def findMedian(arr):\n",
    "    # Write your code here\n",
    "    arr.sort()\n",
    "    return arr[len(arr)//2]"
   ]
  },
  {
   "cell_type": "code",
   "execution_count": 16,
   "metadata": {},
   "outputs": [],
   "source": [
    "arr = [3, 4, 1, 2, 5]"
   ]
  },
  {
   "cell_type": "code",
   "execution_count": 17,
   "metadata": {},
   "outputs": [
    {
     "data": {
      "text/plain": [
       "3"
      ]
     },
     "execution_count": 17,
     "metadata": {},
     "output_type": "execute_result"
    }
   ],
   "source": [
    "findMedian(arr)"
   ]
  },
  {
   "cell_type": "code",
   "execution_count": 11,
   "metadata": {},
   "outputs": [
    {
     "name": "stdout",
     "output_type": "stream",
     "text": [
      "The unique elements of the input list using set():\n",
      "\n",
      "100\n",
      "75\n",
      "12\n",
      "20\n",
      "25\n"
     ]
    }
   ],
   "source": [
    "list_inp = [100, 75, 100, 20, 75, 12, 75, 25] \n",
    " \n",
    "set_res = set(list_inp) \n",
    "print(\"The unique elements of the input list using set():\\n\") \n",
    "list_res = (list(set_res))\n",
    "  \n",
    "for item in list_res: \n",
    "    print(item) "
   ]
  },
  {
   "cell_type": "code",
   "execution_count": 24,
   "metadata": {},
   "outputs": [
    {
     "name": "stdout",
     "output_type": "stream",
     "text": [
      "{1: 2, 2: 2, 3: 2, 4: 1}\n"
     ]
    }
   ],
   "source": [
    "# Given an array of integers, where all elements but one occur twice, find the unique element.\n",
    "\n",
    "a=[1,2,3,4,3,2,1]\n",
    "\n",
    "d = dict() # Create a dictionary\n",
    "\n",
    "for i in a:\n",
    "    if i in d:\n",
    "        d[i]+=1\n",
    "    else:\n",
    "        d[i]=1\n",
    "        \n",
    "print (d)"
   ]
  },
  {
   "cell_type": "code",
   "execution_count": 31,
   "metadata": {},
   "outputs": [
    {
     "name": "stdout",
     "output_type": "stream",
     "text": [
      "4\n"
     ]
    }
   ],
   "source": [
    "\n",
    "for key, value in d.items():\n",
    "         if value==1:\n",
    "             print (key)"
   ]
  },
  {
   "cell_type": "code",
   "execution_count": 33,
   "metadata": {},
   "outputs": [],
   "source": [
    "#!/bin/python3\n",
    "\n",
    "import math\n",
    "import os\n",
    "import random\n",
    "import re\n",
    "import sys\n",
    "\n",
    "#\n",
    "# Complete the 'lonelyinteger' function below.\n",
    "#\n",
    "# The function is expected to return an INTEGER.\n",
    "# The function accepts INTEGER_ARRAY a as parameter.\n",
    "#\n",
    "\n",
    "def lonelyinteger(a):\n",
    "    # Write your code here\n",
    "    d = dict() # Create a dictionary\n",
    "\n",
    "    for i in a:\n",
    "        if i in d:\n",
    "            d[i]+=1\n",
    "        else:\n",
    "            d[i]=1\n",
    "    \n",
    "    for key, value in d.items():\n",
    "         if value==1:\n",
    "            return (key)        \n",
    "    \n",
    "    return 0\n",
    "        "
   ]
  },
  {
   "cell_type": "code",
   "execution_count": 49,
   "metadata": {},
   "outputs": [],
   "source": [
    "def diagonalDifference(arr):\n",
    "    # Write your code here\n",
    "    rows = len(arr)\n",
    "    cols= len(arr[0])\n",
    "    FDiagnol=0\n",
    "    SDiagnol=0\n",
    "    j=0\n",
    "    for i in range (rows):\n",
    "        \n",
    "        FDiagnol+=arr[i][j]\n",
    "        SDiagnol+=arr[i][cols-1-j]\n",
    "        print(FDiagnol,SDiagnol,j)\n",
    "        j+=1\n",
    "        \n",
    "    return abs(FDiagnol-SDiagnol)\n",
    "        "
   ]
  },
  {
   "cell_type": "code",
   "execution_count": 40,
   "metadata": {},
   "outputs": [
    {
     "name": "stdout",
     "output_type": "stream",
     "text": [
      "Length is 3\n",
      "Number of columns 3\n",
      "Total number of elements 9\n"
     ]
    }
   ],
   "source": [
    "array = [[100,200,300], \n",
    "         [400,500,600],\n",
    "         [100,200,300]]\n",
    " \n",
    "#get the number of rows\n",
    "rows = len(array)\n",
    " \n",
    "#get the number of columns\n",
    "cols = len(array[0])\n",
    " \n",
    "print('Length is', rows)\n",
    "print('Number of columns', cols)\n",
    "print('Total number of elements', rows * cols)"
   ]
  },
  {
   "cell_type": "code",
   "execution_count": 39,
   "metadata": {},
   "outputs": [
    {
     "data": {
      "text/plain": [
       "100"
      ]
     },
     "execution_count": 39,
     "metadata": {},
     "output_type": "execute_result"
    }
   ],
   "source": [
    "array[0][0]"
   ]
  },
  {
   "cell_type": "code",
   "execution_count": 50,
   "metadata": {},
   "outputs": [
    {
     "name": "stdout",
     "output_type": "stream",
     "text": [
      "100 300 0\n",
      "600 800 1\n",
      "900 900 2\n"
     ]
    },
    {
     "data": {
      "text/plain": [
       "0"
      ]
     },
     "execution_count": 50,
     "metadata": {},
     "output_type": "execute_result"
    }
   ],
   "source": [
    "diagonalDifference(array)"
   ]
  },
  {
   "cell_type": "code",
   "execution_count": null,
   "metadata": {},
   "outputs": [],
   "source": [
    "'''\n",
    "Alternative Sorting\n",
    "Another sorting method, the counting sort, does not require comparison. \n",
    "Instead, you create an integer array whose index range covers the entire \n",
    "range of values in your array to sort. \n",
    "Each time a value occurs in the original array, you increment the counter \n",
    "at that index. At the end, run through your counting array, printing the \n",
    "value of each non-zero valued index that number of times.\n",
    "'''\n",
    "#!/bin/python3\n",
    "\n",
    "import math\n",
    "import os\n",
    "import random\n",
    "import re\n",
    "import sys\n",
    "\n",
    "#\n",
    "# Complete the 'countingSort' function below.\n",
    "#\n",
    "# The function is expected to return an INTEGER_ARRAY.\n",
    "# The function accepts INTEGER_ARRAY arr as parameter.\n",
    "#\n",
    "\n",
    "def countingSort(arr):\n",
    "    # Write your code here\n",
    "    arrTemp=[0]*100\n",
    "    for i in arr:\n",
    "        arrTemp[i]+=1\n",
    "    return arrTemp"
   ]
  },
  {
   "cell_type": "code",
   "execution_count": 51,
   "metadata": {},
   "outputs": [],
   "source": [
    "### TODO: Write a function called transpose() that \n",
    "###       takes in a matrix and outputs the transpose of the matrix\n",
    "\n",
    "def get_column(matrix, column_number):  \n",
    "    column = []\n",
    "    for i in range(len(matrix)):\n",
    "        for j in range(len(matrix[i])):\n",
    "            if j == column_number:\n",
    "                column.append(matrix[i][j])\n",
    "    return column\n",
    "\n",
    "def transpose(matrix):\n",
    "    matrix_transpose = []\n",
    "    new_row = len(matrix[0]) \n",
    "    for i in range(new_row):\n",
    "        matrix_transpose.append(get_column(matrix,i))\n",
    "        \n",
    "    return matrix_transpose"
   ]
  },
  {
   "cell_type": "code",
   "execution_count": 53,
   "metadata": {},
   "outputs": [
    {
     "name": "stdout",
     "output_type": "stream",
     "text": [
      "[[5, 2, 5, 5], [4, 1, 4, 4], [1, 3, 1, 1], [7, 5, 7, 7]]\n"
     ]
    }
   ],
   "source": [
    "print(transpose([[5, 4, 1, 7], \n",
    "                 [2, 1, 3, 5],\n",
    "                 [5, 4, 1, 7],\n",
    "                 [5, 4, 1, 7]]))\n"
   ]
  },
  {
   "cell_type": "code",
   "execution_count": 78,
   "metadata": {},
   "outputs": [],
   "source": [
    "from __future__ import print_function\n",
    "def findZigZagSequence(a, n):\n",
    "    a.sort()    # sort the function\n",
    "    mid = int((n)//2) # Get the middle index of the array\n",
    "    a[mid], a[n-1] = a[n-1], a[mid] # Swap the middle and the last\n",
    "    print('Swap the middle and the last',a)\n",
    "    st = mid + 1\n",
    "    ed = n - 2\n",
    "    while(st < ed):\n",
    "        a[st], a[ed] = a[ed], a[st]\n",
    "        print(st,ed,a)\n",
    "        st = st + 1\n",
    "        ed = ed - 1\n",
    "\n",
    "    for i in range (n):\n",
    "        if i == n-1:\n",
    "            print(a[i])\n",
    "        else:\n",
    "            print(a[i], end = ' ')\n",
    "    return"
   ]
  },
  {
   "cell_type": "code",
   "execution_count": 84,
   "metadata": {},
   "outputs": [
    {
     "name": "stdout",
     "output_type": "stream",
     "text": [
      "Swap the middle and the last [1, 2, 4, 5, 6, 13, 8, 9, 10, 12, 7]\n",
      "6 9 [1, 2, 4, 5, 6, 13, 12, 9, 10, 8, 7]\n",
      "7 8 [1, 2, 4, 5, 6, 13, 12, 10, 9, 8, 7]\n",
      "1 2 4 5 6 13 12 10 9 8 7\n"
     ]
    }
   ],
   "source": [
    "arr=[1, 2, 4, 5, 6, 7,8,9,10,12,13]\n",
    "findZigZagSequence(arr, 11)"
   ]
  },
  {
   "cell_type": "code",
   "execution_count": 158,
   "metadata": {},
   "outputs": [],
   "source": [
    "'''\n",
    "Julius Caesar protected his confidential information by encrypting it using a cipher. \n",
    "Caesar's cipher shifts each letter by a number of letters. If the shift takes you past \n",
    "the end of the alphabet, just rotate back to the front of the alphabet. \n",
    "In the case of a rotation by 3, w, x, y and z would map to z, a, b and c.\n",
    "'''\n",
    "\n",
    "def caesarCipher(myString, k):\n",
    "    \n",
    "    # Write your code here\n",
    "    Alphabet=['a','b','c','d','e','f','g','h','i','j','k','l','m','n','o','p','q','r','s','t','u','v','w','x','y','z']\n",
    "    k=k%26\n",
    "    Hash_Table = dict()\n",
    "    Hash_string=''\n",
    "    \n",
    "    # Intialize the hash table (Hash function)\n",
    "    for i in range(len(Alphabet)):\n",
    "        Hash_Table[Alphabet[i]]=Alphabet[(i+k)%26]\n",
    "    \n",
    "    # Convert the string to encrypt version\n",
    "    for i in range(len(myString)):\n",
    "        if myString[i].lower() in Hash_Table:\n",
    "            if myString[i].islower():\n",
    "                Hash_string+=Hash_Table.get(myString[i].lower())\n",
    "            else:\n",
    "                Hash_string+=(Hash_Table.get(myString[i].lower())).upper()\n",
    "        else:\n",
    "            Hash_string+=myString[i].lower()\n",
    "        \n",
    "    # print (Hash_string)       \n",
    "    return Hash_string\n",
    "    "
   ]
  },
  {
   "cell_type": "code",
   "execution_count": 157,
   "metadata": {},
   "outputs": [
    {
     "name": "stdout",
     "output_type": "stream",
     "text": [
      "Wkhuh'v-d-vwdupdq-zdlwlqj-lq-wkh-vnb\n"
     ]
    },
    {
     "data": {
      "text/plain": [
       "\"Wkhuh'v-d-vwdupdq-zdlwlqj-lq-wkh-vnb\""
      ]
     },
     "execution_count": 157,
     "metadata": {},
     "output_type": "execute_result"
    }
   ],
   "source": [
    "caesarCipher(\"There's-a-starman-waiting-in-the-sky\",3)"
   ]
  },
  {
   "cell_type": "code",
   "execution_count": 174,
   "metadata": {},
   "outputs": [],
   "source": [
    "# The palindrome problem:\n",
    "# Logic create a function to check if the string is palindrome\n",
    "# After that remove all the string that is is\n",
    "\n",
    "# This function check to see if a string is palindrome\n",
    "def palindrome(string):\n",
    "    string = string.lower().replace(' ', '') # Convert the string to lower case and remove all the space in the string\n",
    "    return string == string[::-1]\n",
    "\n",
    "def palindromeIndex(string):\n",
    "    if palindrome(string):\n",
    "        return -1\n",
    "    \n",
    "    for i in range(len(string)):\n",
    "        stringTemp=string[:]\n",
    "        stringTemp = stringTemp[0 : i : ] + stringTemp[i + 1 : :]\n",
    "        if palindrome(stringTemp)== True:\n",
    "            return i\n",
    "    \n",
    "    return -2"
   ]
  },
  {
   "cell_type": "code",
   "execution_count": 182,
   "metadata": {},
   "outputs": [
    {
     "data": {
      "text/plain": [
       "2"
      ]
     },
     "execution_count": 182,
     "metadata": {},
     "output_type": "execute_result"
    }
   ],
   "source": [
    "string=\"bbaaccabb\"\n",
    "palindromeIndex(string)"
   ]
  },
  {
   "cell_type": "code",
   "execution_count": null,
   "metadata": {},
   "outputs": [],
   "source": [
    "def isPalindrome(string: str, low: int, high: int) -> bool:\n",
    "\twhile low < high:\n",
    "\t\tif string[low] != string[high]:\n",
    "\t\t\treturn False\n",
    "\t\tlow += 1\n",
    "\t\thigh -= 1\n",
    "\treturn True\n",
    "\n",
    "# This method returns -1 if it\n",
    "# is not possible to make string\n",
    "# a palindrome. It returns -2 if\n",
    "# string is already a palindrome.\n",
    "# Otherwise it returns index of\n",
    "# character whose removal can\n",
    "# make the whole string palindrome.\n",
    "def possiblepalinByRemovingOneChar(string: str) -> int:\n",
    "\t# Initialize low and right by both the ends of the string\n",
    "\tlow = 0\n",
    "\thigh = len(string) - 1\n",
    "\n",
    "\twhile low < high: # loop until low and high cross each other\n",
    "\t\t# If both characters are equal then move both pointer towards end\n",
    "\t\tif string[low] == string[high]:\n",
    "\t\t\tlow += 1\n",
    "\t\t\thigh -= 1\n",
    "\t\telse:\n",
    "\t\t\t# If removing str[low] makes the whole string palindrome.\n",
    "\t\t\tif isPalindrome(string, low + 1, high):\n",
    "\t\t\t\treturn low\n",
    "\n",
    "\t\t\t# If removing str[high] makes the whole string palindrome\n",
    "\t\t\tif isPalindrome(string, low, high - 1):\n",
    "\t\t\t\treturn high\n",
    "            \n",
    "\t\t\treturn -1\n",
    "\n",
    "\t# We reach here when complete string will be palindrome\n",
    "\t# if complete string is palindrome then return mid character\n",
    "\treturn -1\n",
    "\n",
    "# Driver Code\n",
    "if __name__ == \"__main__\":\n",
    "\n",
    "\tstring = \"abecbea\"\n",
    "\tidx = possiblepalinByRemovingOneChar(string)\n",
    "\n",
    "\tif idx == -1:\n",
    "\t\tprint(\"Not possible\")\n",
    "\telif idx == -2:\n",
    "\t\tprint(\"Possible without removing any character\")\n",
    "\telse:\n",
    "\t\tprint(\"Possible by removing character at index\", idx)\n",
    "\n",
    "# This code is contributed by\n",
    "# sanjeev2552\n"
   ]
  },
  {
   "cell_type": "code",
   "execution_count": 183,
   "metadata": {},
   "outputs": [
    {
     "name": "stdout",
     "output_type": "stream",
     "text": [
      "['Alpha', 'Beta', 'Gama', 'Thor', 'Tony', 'Zuba']\n"
     ]
    }
   ],
   "source": [
    "list1 = ['Zuba', 'Alpha', 'Beta', 'Thor', 'Gama', 'Tony']\n",
    "list1.sort()\n",
    "print(list1)"
   ]
  },
  {
   "cell_type": "code",
   "execution_count": 221,
   "metadata": {},
   "outputs": [],
   "source": [
    "'''\n",
    "Given a square grid of characters in the range ascii[a-z], \n",
    "rearrange elements of each row alphabetically, ascending. \n",
    "Determine if the columns are also in ascending alphabetical order, top to bottom. \n",
    "Return YES if they are or NO if they are not.\n",
    "'''\n",
    "\n",
    "def sort_lists(grid):\n",
    "    sorted_list=[]\n",
    "    for i in grid:\n",
    "        sorted_list.append(sorted(i))\n",
    "    return (sorted_list)\n",
    "\n",
    "def check_column_alphabet(grid, index):\n",
    "    # Collect a row\n",
    "    column_value=[]\n",
    "    for i in range(0,len(grid)):\n",
    "        column_value.append(grid[i][index])\n",
    "    temp=sorted(column_value)\n",
    "    return column_value == temp\n",
    "\n",
    "def gridChallenge(grid):\n",
    "    # Write your code here\n",
    "    sorted_list=sort_lists(grid)\n",
    "    for i in range(len(sorted_list[0])):\n",
    "        if check_column_alphabet(sorted_list, i)== False:\n",
    "            # Do nothing\n",
    "            return 'NO'\n",
    "\n",
    "    return 'YES'"
   ]
  },
  {
   "cell_type": "code",
   "execution_count": 223,
   "metadata": {},
   "outputs": [
    {
     "name": "stdout",
     "output_type": "stream",
     "text": [
      "YES\n"
     ]
    }
   ],
   "source": [
    "# Test\n",
    "grid = ['ebacd', 'fghij', 'olmkn', 'trpqs', 'xywuv']\n",
    "print(gridChallenge(grid))"
   ]
  },
  {
   "cell_type": "code",
   "execution_count": 29,
   "metadata": {},
   "outputs": [],
   "source": [
    "# n a string contain digit, k the time concatenate\n",
    "#\n",
    "# Complete the 'superDigit' function below.\n",
    "#\n",
    "# The function is expected to return an INTEGER.\n",
    "# The function accepts following parameters:\n",
    "#  1. STRING n\n",
    "#  2. INTEGER k\n",
    "#\n",
    "\n",
    "\n",
    "def calcsuperDigit(n):\n",
    "    if len(n)==1:\n",
    "        return int(n)\n",
    "    else:\n",
    "        total = 0 # define total =0\n",
    "        for i in n:\n",
    "            total += int(i)\n",
    "            convert_num = str(total) # Simply calculate the sum of each round\n",
    "        return calcsuperDigit(str(total)) # Convert the \n",
    "\n",
    "    \n",
    "def superDigit(n,k):\n",
    "    superNumber=calcsuperDigit(n)\n",
    "    newNumber=str(superNumber*k)\n",
    "    return (calcsuperDigit(newNumber))\n",
    "    "
   ]
  },
  {
   "cell_type": "code",
   "execution_count": 31,
   "metadata": {},
   "outputs": [
    {
     "data": {
      "text/plain": [
       "8"
      ]
     },
     "execution_count": 31,
     "metadata": {},
     "output_type": "execute_result"
    }
   ],
   "source": [
    "number='9875'\n",
    "superDigit(number,4)"
   ]
  },
  {
   "cell_type": "code",
   "execution_count": 43,
   "metadata": {},
   "outputs": [
    {
     "name": "stdout",
     "output_type": "stream",
     "text": [
      "-1 0\n",
      "No bribe\n",
      "0\n"
     ]
    }
   ],
   "source": [
    "q=[1,2,3,4,5,6,7,8]\n",
    "\n",
    "index=-1\n",
    "number=0\n",
    "if q[0] != q[1]-1:\n",
    "    index = 0\n",
    "    number= q[0]\n",
    "    \n",
    "for i in range(0,len(q)):\n",
    "    if q[i] - q[i-1]!=1 and q[i+1]-q[i]!=1:\n",
    "        index=i\n",
    "        number= q[i]\n",
    "        break\n",
    "        \n",
    "print (index,number)\n",
    "if (index==-1):\n",
    "    print ('No bribe')\n",
    "if number-(index+1)<=2:\n",
    "    print (number-(index+1))\n",
    "else:\n",
    "    print ('Too Chaotic')"
   ]
  },
  {
   "cell_type": "code",
   "execution_count": 51,
   "metadata": {},
   "outputs": [
    {
     "name": "stdout",
     "output_type": "stream",
     "text": [
      "4\n"
     ]
    }
   ],
   "source": [
    "Lists = [1,2,3,5,4,6,7,8]\n",
    "total_bribes = 0\n",
    "# Iterate from end\n",
    "for i in range(len(Lists) - 1, -1, -1):\n",
    "    if Lists[i] == i + 1:\n",
    "        continue\n",
    "        \n",
    "    if (Lists[i-1] == i+1):\n",
    "        total_bribes+=1\n",
    "    "
   ]
  },
  {
   "cell_type": "code",
   "execution_count": 59,
   "metadata": {},
   "outputs": [],
   "source": [
    "def minimumBribes(q):\n",
    "    total_bribes = 0\n",
    "    # Iterate from end\n",
    "    for i in range(len(q) - 1, -1, -1):\n",
    "\t\t\n",
    "\t# Compare value with its index + 1 (its correct position)\n",
    "        if q[i] == i + 1:\n",
    "            continue\n",
    "\t\t\t\t\t\t\n",
    "\t# If 1 distance away\n",
    "        if i - 1 >= 0 and q[i - 1] == i + 1:\n",
    "            total_bribes += 1\n",
    "            \n",
    "            # Swap the value to the original array\n",
    "            q[i - 1], q[i] = q[i], q[i - 1]\n",
    "            print( q[i], q[i - 1])\n",
    "\t\t\t\t\t\t\n",
    "\t# If 2 distance away\n",
    "        elif i - 2 >= 0 and q[i - 2] == i + 1:\n",
    "            total_bribes += 2\n",
    "            \n",
    "            # Swap the value to original value so we can loop forward\n",
    "            temp = q[i - 2]            \n",
    "            q[i - 2] = q[i - 1]\n",
    "            q[i - 1] = q[i]\n",
    "            q[i] = temp\n",
    "            print( q[i], q[i - 1],q[i - 2])\n",
    "        else:\n",
    "            print(\"Too chaotic\")\n",
    "            return\n",
    "    \n",
    "    print(total_bribes)"
   ]
  },
  {
   "cell_type": "code",
   "execution_count": 60,
   "metadata": {},
   "outputs": [
    {
     "name": "stdout",
     "output_type": "stream",
     "text": [
      "5 4 3\n",
      "2 1\n",
      "3\n"
     ]
    }
   ],
   "source": [
    "q = [2, 1, 5, 3, 4]\n",
    "minimumBribes(q)\n",
    "#z = [2, 5, 1, 3, 4]\n",
    "#minimumBribes(z)"
   ]
  },
  {
   "cell_type": "code",
   "execution_count": 63,
   "metadata": {},
   "outputs": [],
   "source": [
    "def truckTour(petrolpumps):\n",
    "    # Write your code here\n",
    "    biggest=petrolpumps[0][0]\n",
    "    \n",
    "    for i in range(len(petrolpumps)):\n",
    "        if petrolpumps[i][0]>biggest:\n",
    "            biggest=petrolpumps[i][0]\n",
    "            \n",
    "    print(biggest)        \n",
    "    for i in range(len(petrolpumps)):\n",
    "        if petrolpumps[i][0]==biggest:\n",
    "            return i      \n",
    "    \n",
    "    return 0   "
   ]
  },
  {
   "cell_type": "code",
   "execution_count": 64,
   "metadata": {},
   "outputs": [
    {
     "name": "stdout",
     "output_type": "stream",
     "text": [
      "10\n"
     ]
    },
    {
     "data": {
      "text/plain": [
       "1"
      ]
     },
     "execution_count": 64,
     "metadata": {},
     "output_type": "execute_result"
    }
   ],
   "source": [
    "q= [[1,5],[10,3],[3,4]]\n",
    "truckTour(q)"
   ]
  },
  {
   "cell_type": "code",
   "execution_count": 78,
   "metadata": {},
   "outputs": [],
   "source": [
    "def mergeLists(head1, head2):\n",
    "    return sorted(head1+head2)"
   ]
  },
  {
   "cell_type": "code",
   "execution_count": 79,
   "metadata": {},
   "outputs": [
    {
     "name": "stdout",
     "output_type": "stream",
     "text": [
      "[1, 1, 1, 2, 2, 2, 3, 3, 3, 4, 4, 5, 5]\n"
     ]
    }
   ],
   "source": [
    "q = [2, 1, 5, 3, 4]\n",
    "q2 = [2, 1, 5, 3, 4,1,2,3]\n",
    "print(mergeLists(q, q2))\n"
   ]
  },
  {
   "cell_type": "code",
   "execution_count": null,
   "metadata": {},
   "outputs": [],
   "source": [
    "'''\n",
    "This is called a First-In-First-Out (FIFO) data structure because the first element added to the queue\n",
    "(i.e., the one that has been waiting the longest) is always the first one to be removed.\n",
    "\n",
    "A basic queue has the following operations:\n",
    "\n",
    "Enqueue: add a new element to the end of the queue.\n",
    "Dequeue: remove the element from the front of the queue and return it.\n",
    "'''\n",
    "\n",
    "# Enter your code here. Read input from STDIN. Print output to STDOUT\n",
    "class queue():\n",
    "    def __init__(self,stack1=[], stack2=[]):\n",
    "        self.stack1=stack1\n",
    "        self.stack2=stack2\n",
    "    \n",
    "    def isEmpty(self):\n",
    "        if not self.stack1 and not self.stack2:\n",
    "            return True\n",
    "        return False\n",
    "\n",
    "    def size(self):\n",
    "        return len(self.stack1) + len(self.stack2)\n",
    "        \n",
    "    def enqueue(self,element):\n",
    "        self.stack1.append(element)\n",
    "        \n",
    "    def dequeue(self):\n",
    "        if not self.stack2:\n",
    "            while len(self.stack1)>0:\n",
    "                self.stack2.append(self.stack1.pop())\n",
    "        return self.stack2.pop() # If stack 2 has element, keep pushing it out\n",
    "            \n",
    "    def front(self):\n",
    "        if not self.stack2:\n",
    "            while len(self.stack1)>0:\n",
    "                self.stack2.append(self.stack1.pop())\n",
    "        print (self.stack2[-1]) # Print stament has to exit the while loop\n",
    "\n",
    "            \n",
    "if __name__=='__main__':\n",
    "    t = int(input().strip())\n",
    "    q= queue()\n",
    "    for t_itr in range(t):\n",
    "        s = input()\n",
    "        if s[0] == \"1\":\n",
    "            val = s.split(\" \")[1]\n",
    "            q.enqueue(val)\n",
    "        elif s[0] == \"2\":\n",
    "            q.dequeue()\n",
    "        elif s[0] == \"3\":\n",
    "            q.front()   "
   ]
  },
  {
   "cell_type": "markdown",
   "metadata": {},
   "source": [
    " bracket is considered to be any one of the following characters: (, ), {, }, [, or ].\n",
    "\n",
    "Two brackets are considered to be a matched pair if the an opening bracket (i.e., (, [, or {) occurs to the left of a closing bracket (i.e., ), ], or }) of the exact same type. There are three types of matched pairs of brackets: [], {}, and ().\n",
    "\n",
    "A matching pair of brackets is not balanced if the set of brackets it encloses are not matched. For example, {[(])} is not balanced because the contents in between { and } are not balanced. The pair of square brackets encloses a single, unbalanced opening bracket, (, and the pair of parentheses encloses a single, unbalanced closing square bracket, ].\n",
    "\n",
    "By this logic, we say a sequence of brackets is balanced if the following conditions are met:\n",
    "\n",
    "It contains no unmatched brackets.\n",
    "The subset of brackets enclosed within the confines of a matched pair of brackets is also a matched pair of brackets.\n",
    "Given  strings of brackets, determine whether each sequence of brackets is balanced. If a string is balanced, return YES. Otherwise, return NO."
   ]
  },
  {
   "cell_type": "markdown",
   "metadata": {},
   "source": [
    "# Is Balanced"
   ]
  },
  {
   "cell_type": "code",
   "execution_count": 22,
   "metadata": {},
   "outputs": [],
   "source": [
    "import math\n",
    "import os\n",
    "import random\n",
    "import re\n",
    "import sys\n",
    "import collections\n",
    "#\n",
    "# Complete the 'isBalanced' function below.\n",
    "#\n",
    "# The function is expected to return a STRING.\n",
    "# The function accepts STRING s as parameter.\n",
    "#\n",
    "\n",
    "def isBalanced(inp):\n",
    "    if(len(inp) % 2 == 1):\n",
    "        return \"NO\"\n",
    "    counter = collections.Counter(inp)\n",
    "    symbols = {'{':'}','[':']','(':')'} # Get the matching pair dictionary\n",
    "    for symbol in symbols:\n",
    "        if counter[symbol] != counter[symbols[symbol]]:\n",
    "            return 'NO'\n",
    "    return 'YES'\n",
    "\n"
   ]
  },
  {
   "cell_type": "code",
   "execution_count": 15,
   "metadata": {},
   "outputs": [],
   "source": [
    "s='{[(])}'\n",
    "s1='{{[[(())]]}}'\n",
    "isBalanced(s1)"
   ]
  },
  {
   "cell_type": "markdown",
   "metadata": {},
   "source": [
    "# simple text editor"
   ]
  },
  {
   "cell_type": "markdown",
   "metadata": {},
   "source": [
    "Implement a simple text editor. The editor initially contains an empty string, . Perform  operations of the following  types:\n",
    "\n",
    "append - Append string  to the end of .\n",
    "delete - Delete the last  characters of .\n",
    "print - Print the  character of .\n",
    "undo - Undo the last (not previously undone) operation of type  or , reverting  to the state it was in prior to that operation."
   ]
  },
  {
   "cell_type": "code",
   "execution_count": null,
   "metadata": {},
   "outputs": [],
   "source": [
    "# Enter your code here. Read input from STDIN. Print output to STDOUT:\n",
    "\n",
    "class texteditor():\n",
    "    def __init__(self):\n",
    "        self.String=''\n",
    "        self.LastUsed=[] # Stack that hold the history\n",
    "\n",
    "    def append(self,char):\n",
    "        self.LastUsed.append(self.String) # Save data before append\n",
    "        self.String+=char\n",
    "    \n",
    "    def delete(self,num):\n",
    "        self.LastUsed.append(self.String) # Save data before delete\n",
    "        self.String=self.String[:-num] # delete the data from number\n",
    "\n",
    "    def undo(self):\n",
    "        self.String=self.LastUsed.pop() # Undo the action by stack\n",
    "\n",
    "    def print(self, num):\n",
    "        print (self.String[num-1]) # Print the character as specific index\n",
    "\n",
    "if __name__ == '__main__':\n",
    "    t = int(input().strip())\n",
    "    text = texteditor()\n",
    "    \n",
    "    # Simple menu for test\n",
    "    for t_itr in range(t):\n",
    "        s = input()\n",
    "        if s[0] == \"1\":\n",
    "            val = s.split(\" \")[1]\n",
    "            text.append(val)\n",
    "        elif s[0] == \"2\":\n",
    "            val = s.split(\" \")[1]\n",
    "            text.delete(int(val))\n",
    "        elif s[0] == \"3\":\n",
    "            val = s.split(\" \")[1]\n",
    "            text.print(int(val))\n",
    "        elif s[0] == \"4\":\n",
    "            text.undo()\n",
    "        else:\n",
    "            raise ValueError(\"Invalid action\")\n"
   ]
  },
  {
   "cell_type": "markdown",
   "metadata": {},
   "source": [
    "# Lego Block"
   ]
  },
  {
   "cell_type": "code",
   "execution_count": 10,
   "metadata": {},
   "outputs": [
    {
     "ename": "KeyError",
     "evalue": "'OUTPUT_PATH'",
     "output_type": "error",
     "traceback": [
      "\u001b[1;31m---------------------------------------------------------------------------\u001b[0m",
      "\u001b[1;31mKeyError\u001b[0m                                  Traceback (most recent call last)",
      "\u001b[1;32mC:\\Users\\VALUED~1\\AppData\\Local\\Temp/ipykernel_3784/3226446754.py\u001b[0m in \u001b[0;36m<module>\u001b[1;34m\u001b[0m\n\u001b[0;32m     37\u001b[0m \u001b[1;33m\u001b[0m\u001b[0m\n\u001b[0;32m     38\u001b[0m \u001b[1;32mif\u001b[0m \u001b[0m__name__\u001b[0m \u001b[1;33m==\u001b[0m \u001b[1;34m'__main__'\u001b[0m\u001b[1;33m:\u001b[0m\u001b[1;33m\u001b[0m\u001b[1;33m\u001b[0m\u001b[0m\n\u001b[1;32m---> 39\u001b[1;33m     \u001b[0mfptr\u001b[0m \u001b[1;33m=\u001b[0m \u001b[0mopen\u001b[0m\u001b[1;33m(\u001b[0m\u001b[0mos\u001b[0m\u001b[1;33m.\u001b[0m\u001b[0menviron\u001b[0m\u001b[1;33m[\u001b[0m\u001b[1;34m'OUTPUT_PATH'\u001b[0m\u001b[1;33m]\u001b[0m\u001b[1;33m,\u001b[0m \u001b[1;34m'w'\u001b[0m\u001b[1;33m)\u001b[0m\u001b[1;33m\u001b[0m\u001b[1;33m\u001b[0m\u001b[0m\n\u001b[0m\u001b[0;32m     40\u001b[0m \u001b[1;33m\u001b[0m\u001b[0m\n\u001b[0;32m     41\u001b[0m     \u001b[0mt\u001b[0m \u001b[1;33m=\u001b[0m \u001b[0mint\u001b[0m\u001b[1;33m(\u001b[0m\u001b[0minput\u001b[0m\u001b[1;33m(\u001b[0m\u001b[1;33m)\u001b[0m\u001b[1;33m.\u001b[0m\u001b[0mstrip\u001b[0m\u001b[1;33m(\u001b[0m\u001b[1;33m)\u001b[0m\u001b[1;33m)\u001b[0m\u001b[1;33m\u001b[0m\u001b[1;33m\u001b[0m\u001b[0m\n",
      "\u001b[1;32m~\\anaconda3\\lib\\os.py\u001b[0m in \u001b[0;36m__getitem__\u001b[1;34m(self, key)\u001b[0m\n\u001b[0;32m    673\u001b[0m         \u001b[1;32mexcept\u001b[0m \u001b[0mKeyError\u001b[0m\u001b[1;33m:\u001b[0m\u001b[1;33m\u001b[0m\u001b[1;33m\u001b[0m\u001b[0m\n\u001b[0;32m    674\u001b[0m             \u001b[1;31m# raise KeyError with the original key value\u001b[0m\u001b[1;33m\u001b[0m\u001b[1;33m\u001b[0m\u001b[1;33m\u001b[0m\u001b[0m\n\u001b[1;32m--> 675\u001b[1;33m             \u001b[1;32mraise\u001b[0m \u001b[0mKeyError\u001b[0m\u001b[1;33m(\u001b[0m\u001b[0mkey\u001b[0m\u001b[1;33m)\u001b[0m \u001b[1;32mfrom\u001b[0m \u001b[1;32mNone\u001b[0m\u001b[1;33m\u001b[0m\u001b[1;33m\u001b[0m\u001b[0m\n\u001b[0m\u001b[0;32m    676\u001b[0m         \u001b[1;32mreturn\u001b[0m \u001b[0mself\u001b[0m\u001b[1;33m.\u001b[0m\u001b[0mdecodevalue\u001b[0m\u001b[1;33m(\u001b[0m\u001b[0mvalue\u001b[0m\u001b[1;33m)\u001b[0m\u001b[1;33m\u001b[0m\u001b[1;33m\u001b[0m\u001b[0m\n\u001b[0;32m    677\u001b[0m \u001b[1;33m\u001b[0m\u001b[0m\n",
      "\u001b[1;31mKeyError\u001b[0m: 'OUTPUT_PATH'"
     ]
    }
   ],
   "source": [
    "#!/bin/python3\n",
    "\n",
    "import math\n",
    "import os\n",
    "import random\n",
    "import re\n",
    "import sys\n",
    "\n",
    "#\n",
    "# Complete the 'legoBlocks' function below.\n",
    "#\n",
    "# The function is expected to return an INTEGER.\n",
    "# The function accepts following parameters:\n",
    "#  1. INTEGER n\n",
    "#  2. INTEGER m\n",
    "#\n",
    "\n",
    "def legoBlocks(n, m):\n",
    "    # Write your code here\n",
    "    M = 1000000007\n",
    "\n",
    "    a = [0,1,2,4,8] # a[i] is the number of all walls with width i \n",
    "    for j in range(5,m+1):  # this formula executes only when we have width 5 or more\n",
    "        a.append((a[j-1]+a[j-2]+a[j-3]+a[j-4])%M)\n",
    "    \n",
    "    for i in range(m+1): # this will give us all the walls for height n \n",
    "        a[i] = pow(a[i],n,M)\n",
    "\n",
    "    # let r[i] be the number of good layouts that have height n, and width i\n",
    "    r = [a[i] for i in range(m+1)] # start with all of them \n",
    "    for i in range(1,m+1):\n",
    "        for j in range(1,i):\n",
    "            r[i] -= (r[j]*a[i-j]) # subtract the number of bad layouts, when the FIRST vertical break in the wall appears at index j \n",
    "        r[i] = r[i]%M # make the computations easier \n",
    "    return r[m]\n",
    "    \n",
    "    \n",
    "if __name__ == '__main__':\n",
    "    fptr = open(os.environ['OUTPUT_PATH'], 'w')\n",
    "\n",
    "    t = int(input().strip())\n",
    "\n",
    "    for t_itr in range(t):\n",
    "        first_multiple_input = input().rstrip().split()\n",
    "\n",
    "        n = int(first_multiple_input[0])\n",
    "\n",
    "        m = int(first_multiple_input[1])\n",
    "\n",
    "        result = legoBlocks(n, m)\n",
    "\n",
    "        fptr.write(str(result) + '\\n')\n",
    "\n",
    "    fptr.close()\n"
   ]
  },
  {
   "cell_type": "code",
   "execution_count": 35,
   "metadata": {},
   "outputs": [],
   "source": [
    "intList=[1,5,4,6]\n",
    "intList.sort()"
   ]
  },
  {
   "cell_type": "code",
   "execution_count": 36,
   "metadata": {},
   "outputs": [
    {
     "name": "stdout",
     "output_type": "stream",
     "text": [
      "[1, 4, 5, 6]\n"
     ]
    }
   ],
   "source": [
    "print(intList)"
   ]
  },
  {
   "cell_type": "markdown",
   "metadata": {},
   "source": [
    "# Jeese and Cookies"
   ]
  },
  {
   "cell_type": "code",
   "execution_count": 114,
   "metadata": {},
   "outputs": [],
   "source": [
    "# This approach create a perfect test case:\n",
    "import heapq\n",
    "\n",
    "def cookies(k, A):\n",
    "    heapq.heapify(A)\n",
    "    counter=0\n",
    "    while True:\n",
    "        firstC = heapq.heappop(A) # Use this to terminate or continue looping\n",
    "        if firstC >= k:  # Return the counter if first condition is meet\n",
    "            return counter\n",
    "        if len(A) == 0: # Condition return for fail \n",
    "            return -1\n",
    "        secondC = heapq.heappop(A)\n",
    "        heapq.heappush(A,firstC+2*secondC)\n",
    "        counter+=1"
   ]
  },
  {
   "cell_type": "markdown",
   "metadata": {},
   "source": [
    "# Tree: Preorder Traversal"
   ]
  },
  {
   "cell_type": "code",
   "execution_count": null,
   "metadata": {},
   "outputs": [],
   "source": [
    "def preOrder(root):\n",
    "    iter = root\n",
    "\n",
    "    if iter!= None:\n",
    "        print (iter.info, end=\" \")\n",
    "        preOrder(iter.left)\n",
    "        preOrder(iter.right)"
   ]
  },
  {
   "cell_type": "markdown",
   "metadata": {},
   "source": [
    "# Huffman Decoding"
   ]
  },
  {
   "cell_type": "code",
   "execution_count": 116,
   "metadata": {},
   "outputs": [
    {
     "ename": "KeyboardInterrupt",
     "evalue": "Interrupted by user",
     "output_type": "error",
     "traceback": [
      "\u001b[1;31m---------------------------------------------------------------------------\u001b[0m",
      "\u001b[1;31mKeyboardInterrupt\u001b[0m                         Traceback (most recent call last)",
      "\u001b[1;32m<ipython-input-116-629032237876>\u001b[0m in \u001b[0;36m<module>\u001b[1;34m\u001b[0m\n\u001b[0;32m     69\u001b[0m \u001b[1;33m\u001b[0m\u001b[0m\n\u001b[0;32m     70\u001b[0m \u001b[1;33m\u001b[0m\u001b[0m\n\u001b[1;32m---> 71\u001b[1;33m \u001b[0mip\u001b[0m \u001b[1;33m=\u001b[0m \u001b[0minput\u001b[0m\u001b[1;33m(\u001b[0m\u001b[1;33m)\u001b[0m\u001b[1;33m\u001b[0m\u001b[1;33m\u001b[0m\u001b[0m\n\u001b[0m\u001b[0;32m     72\u001b[0m \u001b[0mfreq\u001b[0m \u001b[1;33m=\u001b[0m \u001b[1;33m{\u001b[0m\u001b[1;33m}\u001b[0m\u001b[1;31m#maps each character to its frequency\u001b[0m\u001b[1;33m\u001b[0m\u001b[1;33m\u001b[0m\u001b[0m\n\u001b[0;32m     73\u001b[0m \u001b[1;33m\u001b[0m\u001b[0m\n",
      "\u001b[1;32m~\\anaconda3\\lib\\site-packages\\ipykernel\\kernelbase.py\u001b[0m in \u001b[0;36mraw_input\u001b[1;34m(self, prompt)\u001b[0m\n\u001b[0;32m    858\u001b[0m                 \u001b[1;34m\"raw_input was called, but this frontend does not support input requests.\"\u001b[0m\u001b[1;33m\u001b[0m\u001b[1;33m\u001b[0m\u001b[0m\n\u001b[0;32m    859\u001b[0m             )\n\u001b[1;32m--> 860\u001b[1;33m         return self._input_request(str(prompt),\n\u001b[0m\u001b[0;32m    861\u001b[0m             \u001b[0mself\u001b[0m\u001b[1;33m.\u001b[0m\u001b[0m_parent_ident\u001b[0m\u001b[1;33m,\u001b[0m\u001b[1;33m\u001b[0m\u001b[1;33m\u001b[0m\u001b[0m\n\u001b[0;32m    862\u001b[0m             \u001b[0mself\u001b[0m\u001b[1;33m.\u001b[0m\u001b[0m_parent_header\u001b[0m\u001b[1;33m,\u001b[0m\u001b[1;33m\u001b[0m\u001b[1;33m\u001b[0m\u001b[0m\n",
      "\u001b[1;32m~\\anaconda3\\lib\\site-packages\\ipykernel\\kernelbase.py\u001b[0m in \u001b[0;36m_input_request\u001b[1;34m(self, prompt, ident, parent, password)\u001b[0m\n\u001b[0;32m    902\u001b[0m             \u001b[1;32mexcept\u001b[0m \u001b[0mKeyboardInterrupt\u001b[0m\u001b[1;33m:\u001b[0m\u001b[1;33m\u001b[0m\u001b[1;33m\u001b[0m\u001b[0m\n\u001b[0;32m    903\u001b[0m                 \u001b[1;31m# re-raise KeyboardInterrupt, to truncate traceback\u001b[0m\u001b[1;33m\u001b[0m\u001b[1;33m\u001b[0m\u001b[1;33m\u001b[0m\u001b[0m\n\u001b[1;32m--> 904\u001b[1;33m                 \u001b[1;32mraise\u001b[0m \u001b[0mKeyboardInterrupt\u001b[0m\u001b[1;33m(\u001b[0m\u001b[1;34m\"Interrupted by user\"\u001b[0m\u001b[1;33m)\u001b[0m \u001b[1;32mfrom\u001b[0m \u001b[1;32mNone\u001b[0m\u001b[1;33m\u001b[0m\u001b[1;33m\u001b[0m\u001b[0m\n\u001b[0m\u001b[0;32m    905\u001b[0m             \u001b[1;32mexcept\u001b[0m \u001b[0mException\u001b[0m \u001b[1;32mas\u001b[0m \u001b[0me\u001b[0m\u001b[1;33m:\u001b[0m\u001b[1;33m\u001b[0m\u001b[1;33m\u001b[0m\u001b[0m\n\u001b[0;32m    906\u001b[0m                 \u001b[0mself\u001b[0m\u001b[1;33m.\u001b[0m\u001b[0mlog\u001b[0m\u001b[1;33m.\u001b[0m\u001b[0mwarning\u001b[0m\u001b[1;33m(\u001b[0m\u001b[1;34m\"Invalid Message:\"\u001b[0m\u001b[1;33m,\u001b[0m \u001b[0mexc_info\u001b[0m\u001b[1;33m=\u001b[0m\u001b[1;32mTrue\u001b[0m\u001b[1;33m)\u001b[0m\u001b[1;33m\u001b[0m\u001b[1;33m\u001b[0m\u001b[0m\n",
      "\u001b[1;31mKeyboardInterrupt\u001b[0m: Interrupted by user"
     ]
    }
   ],
   "source": [
    "import queue as Queue\n",
    "\n",
    "cntr = 0\n",
    "\n",
    "class Node:\n",
    "    def __init__(self, freq, data):\n",
    "        self.freq = freq\n",
    "        self.data = data\n",
    "        self.left = None\n",
    "        self.right = None\n",
    "        global cntr\n",
    "        self._count = cntr\n",
    "        cntr = cntr + 1\n",
    "        \n",
    "    def __lt__(self, other):\n",
    "        if self.freq != other.freq:\n",
    "            return self.freq < other.freq\n",
    "        return self._count < other._count\n",
    "\n",
    "def huffman_hidden():#builds the tree and returns root\n",
    "    q = Queue.PriorityQueue()\n",
    "\n",
    "    \n",
    "    for key in freq:\n",
    "        q.put((freq[key], key, Node(freq[key], key) ))\n",
    "    \n",
    "    while q.qsize() != 1:\n",
    "        a = q.get()\n",
    "        b = q.get()\n",
    "        obj = Node(a[0] + b[0], '\\0' )\n",
    "        obj.left = a[2]\n",
    "        obj.right = b[2]\n",
    "        q.put((obj.freq, obj.data, obj ))\n",
    "        \n",
    "    root = q.get()\n",
    "    root = root[2]#contains root object\n",
    "    return root\n",
    "\n",
    "def dfs_hidden(obj, already):\n",
    "    if(obj == None):\n",
    "        return\n",
    "    elif(obj.data != '\\0'):\n",
    "        code_hidden[obj.data] = already\n",
    "        \n",
    "    dfs_hidden(obj.right, already + \"1\")\n",
    "    dfs_hidden(obj.left, already + \"0\")\n",
    "\n",
    "\"\"\"class Node:\n",
    "    def __init__(self, freq,data):\n",
    "        self.freq= freq\n",
    "        self.data=data\n",
    "        self.left = None\n",
    "        self.right = None\n",
    "\"\"\"        \n",
    "\n",
    "# Enter your code here. Read input from STDIN. Print output to STDOUT\n",
    "def decodeHuff(root, s):\n",
    "    #Enter Your Code Here\n",
    "\n",
    "    iter=root\n",
    "    for i in s:\n",
    "        if i=='0': \n",
    "            iter=iter.left\n",
    "        if i=='1':\n",
    "            iter=iter.right   \n",
    "        if iter.left is None and iter.right is None:\n",
    "            print (iter.data, end='')\n",
    "            iter=root\n",
    "    \n",
    "            \n",
    "ip = input()\n",
    "freq = {}#maps each character to its frequency\n",
    "\n",
    "cntr = 0\n",
    "\n",
    "for ch in ip:\n",
    "    if(freq.get(ch) == None):\n",
    "        freq[ch] = 1\n",
    "    else:\n",
    "        freq[ch]+=1\n",
    "\n",
    "root = huffman_hidden()#contains root of huffman tree\n",
    "\n",
    "code_hidden = {}#contains code for each object\n",
    "\n",
    "dfs_hidden(root, \"\")\n",
    "\n",
    "if len(code_hidden) == 1:#if there is only one character in the i/p\n",
    "    for key in code_hidden:\n",
    "        code_hidden[key] = \"0\"\n",
    "\n",
    "toBeDecoded = \"\"\n",
    "\n",
    "for ch in ip:\n",
    "    toBeDecoded += code_hidden[ch]\n",
    "\n",
    "decodeHuff(root, toBeDecoded)\n"
   ]
  },
  {
   "cell_type": "markdown",
   "metadata": {},
   "source": [
    "# No Prefix Set"
   ]
  },
  {
   "cell_type": "code",
   "execution_count": null,
   "metadata": {},
   "outputs": [],
   "source": [
    "#!/bin/python3\n",
    "\n",
    "import math\n",
    "import os\n",
    "import random\n",
    "import re\n",
    "import sys\n",
    "\n",
    "#\n",
    "# Complete the 'noPrefix' function below.\n",
    "#\n",
    "# The function accepts STRING_ARRAY words as parameter.\n",
    "#\n",
    "\n",
    "def noPrefix(words):\n",
    "    # Write your code here\n",
    "    listPrefix= set()\n",
    "    listWords= set()\n",
    "    for w in words:\n",
    "        check=''\n",
    "        if w in listPrefix:\n",
    "            print('BAD SET')\n",
    "            print(w)\n",
    "            return\n",
    "        for l in w:\n",
    "            check+=l\n",
    "            listPrefix.add(check)\n",
    "            if check in listWords:\n",
    "                print('BAD SET')\n",
    "                print(w)\n",
    "                return\n",
    "        listWords.add(w)\n",
    "    print('GOOD SET')\n",
    "\n",
    "if __name__ == '__main__':\n",
    "    n = int(input().strip())\n",
    "\n",
    "    words = []\n",
    "\n",
    "    for _ in range(n):\n",
    "        words_item = input()\n",
    "        words.append(words_item)\n",
    "\n",
    "    noPrefix(words)\n"
   ]
  },
  {
   "cell_type": "code",
   "execution_count": null,
   "metadata": {},
   "outputs": [],
   "source": [
    "# Python set()-> return a unique set \n",
    "# dict() -> return a UNIQUE set of key and value DictTable.get(key)-> values\n",
    "# LinkList is a data structure 1 node point to another\n",
    "# Double LinkList is oneway point to another\n",
    "# Tree is a LinkList Structure\n",
    "# Use heap.pop to use as a stack implemetation\n",
    "# heapq.heapify() This module provides an implementation of the heap queue algorithm, also known as the priority queue algorithm.\n",
    "\n",
    "\n",
    "# Big O Notation: Time Complexity, Space Complexity\n",
    "## O1: Constant Accesing  an index\n",
    "## ON: Linear: Loop through an array\n",
    "## O(LogN): Lograthmic: Find an element in sorted array\n",
    "## O(N*N): QUadratic: Looking at a very index at the array twice\n",
    "## O(2**N): Expotentional: Double recursion in Fibonacci\n",
    "\n",
    "# Binary Heap: Binary tree with additional property. Mininmum heap or maximum heap. \n",
    "# Sort: Bubble Sort, Selection Sort, Insertion Sort, Bucket Sort, Merge Sort, Quick Sort, Heap Sort\n",
    "# Graph: consits of node (Facebook connect people together)(Verticlr, Edge, Unweighted Graph)\n",
    "# Search: Linear Search, Binary Search\n",
    "# Hashing: \n",
    "# Dijkastr's Algorithm. solve single sort sort-part problem. \n",
    "# TOpological Sort: \n",
    "# A* (pronounced \"A-star\") is a graph traversal and path search algorithm\n",
    "\n"
   ]
  },
  {
   "cell_type": "code",
   "execution_count": null,
   "metadata": {},
   "outputs": [],
   "source": [
    "# remove string with index\n",
    "s = \"ABCDE\"\n",
    "i = 2\n",
    "s =  s[:i] + s[i+1:]"
   ]
  }
 ],
 "metadata": {
  "kernelspec": {
   "display_name": "Python 3",
   "language": "python",
   "name": "python3"
  },
  "language_info": {
   "codemirror_mode": {
    "name": "ipython",
    "version": 3
   },
   "file_extension": ".py",
   "mimetype": "text/x-python",
   "name": "python",
   "nbconvert_exporter": "python",
   "pygments_lexer": "ipython3",
   "version": "3.8.8"
  }
 },
 "nbformat": 4,
 "nbformat_minor": 4
}
