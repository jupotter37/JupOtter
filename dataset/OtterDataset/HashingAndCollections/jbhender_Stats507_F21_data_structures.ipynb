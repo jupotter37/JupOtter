{
 "cells": [
  {
   "cell_type": "markdown",
   "id": "8e5bd382",
   "metadata": {
    "slideshow": {
     "slide_type": "slide"
    }
   },
   "source": [
    "# Python's Built-In Data Structures\n",
    "*Stats 507, Fall 2021*\n",
    "\n",
    "James Henderson, PhD  \n",
    "September 7 & 9, 2021"
   ]
  },
  {
   "cell_type": "markdown",
   "id": "764d98e6",
   "metadata": {
    "slideshow": {
     "slide_type": "slide"
    }
   },
   "source": [
    "# Overview \n",
    " - <a href=\"#slide-1-0\"> tuple </a>\n",
    " - <a href=\"#slide-8-0\"> \\[list\\] </a>\n",
    " - <a href=\"#slide-13-0\"> {\"dict\": dictionary} </a>\n",
    " - <a href=\"#slide-19-0\"> sequence functions </a>\n",
    " - <a href=\"#slide-23-0\"> {set} </a>\n",
    " - Slide contents based on Chapter 3 of *Python for Data Analysis*, \n",
    "   vol 2 by Wes McKinney."
   ]
  },
  {
   "cell_type": "markdown",
   "id": "07351c7d",
   "metadata": {
    "slideshow": {
     "slide_type": "slide"
    }
   },
   "source": [
    "# <a name=\"tuple\"> Tuples </a>\n",
    "  - Tuples are fixed-length sequences of python objects."
   ]
  },
  {
   "cell_type": "markdown",
   "id": "4e9a235b",
   "metadata": {
    "slideshow": {
     "slide_type": "slide"
    }
   },
   "source": [
    "# Constructing Tuples\n",
    "  - Construct tuples using a comma-separated sequence."
   ]
  },
  {
   "cell_type": "code",
   "execution_count": null,
   "id": "855afe65",
   "metadata": {
    "slideshow": {
     "slide_type": "code"
    }
   },
   "outputs": [],
   "source": [
    "tup = 'pi', ['py'], 'pie'\n",
    "print(tup)\n",
    "print(type(tup))\n",
    "print(tup.__class__)\n",
    "type(tup[1])"
   ]
  },
  {
   "cell_type": "markdown",
   "id": "292e5244",
   "metadata": {
    "slideshow": {
     "slide_type": "subslide"
    }
   },
   "source": [
    "# Constructing Tuples\n",
    "  - Or use `tuple()` to convert from another sequence object"
   ]
  },
  {
   "cell_type": "code",
   "execution_count": null,
   "id": "b49850ae",
   "metadata": {
    "slideshow": {
     "slide_type": "code"
    }
   },
   "outputs": [],
   "source": [
    "print(\n",
    "    tuple(\"data\")\n",
    ")"
   ]
  },
  {
   "cell_type": "code",
   "execution_count": null,
   "id": "e0dbd701",
   "metadata": {
    "slideshow": {
     "slide_type": "fragment"
    }
   },
   "outputs": [],
   "source": [
    "print(tuple([\"py\", \"thon\"]))"
   ]
  },
  {
   "cell_type": "markdown",
   "id": "d31376a1",
   "metadata": {
    "slideshow": {
     "slide_type": "slide"
    }
   },
   "source": [
    "# Tuples - Indexing and Immutability\n",
    "  - Index into tuples using `[]`. "
   ]
  },
  {
   "cell_type": "code",
   "execution_count": null,
   "id": "61ce21e9",
   "metadata": {
    "slideshow": {
     "slide_type": "code"
    }
   },
   "outputs": [],
   "source": [
    "x = tup[0]\n",
    "print(x)"
   ]
  },
  {
   "cell_type": "markdown",
   "id": "ba3d5e12",
   "metadata": {
    "slideshow": {
     "slide_type": "subslide"
    }
   },
   "source": [
    "# Tuples - Indexing and Immutability\n",
    "  - Tuples are immutable ... \n",
    "  - <p class=\"fragment\">\n",
    "      ... but their contents need not be.\n",
    "    </p>"
   ]
  },
  {
   "cell_type": "code",
   "execution_count": null,
   "id": "6fd5f52c",
   "metadata": {
    "slideshow": {
     "slide_type": "code"
    }
   },
   "outputs": [],
   "source": [
    "try:\n",
    "    tup[1] = \"python\"\n",
    "except:\n",
    "    print(\"Tuples are immutable\")"
   ]
  },
  {
   "cell_type": "code",
   "execution_count": null,
   "id": "cc24e18a",
   "metadata": {
    "slideshow": {
     "slide_type": "fragment"
    }
   },
   "outputs": [],
   "source": [
    "tup[1].append(\"3.9\")\n",
    "print(tup)"
   ]
  },
  {
   "cell_type": "markdown",
   "id": "68869ab7",
   "metadata": {
    "slideshow": {
     "slide_type": "slide"
    }
   },
   "source": [
    "# Tuples - Operators\n",
    "  - Tuples can be concatenated using `+` ... \n",
    "  - <p class='fragment'>\n",
    "    ... or replicated using `*`. \n",
    "    </p>"
   ]
  },
  {
   "cell_type": "code",
   "execution_count": null,
   "id": "de719caa",
   "metadata": {
    "slideshow": {
     "slide_type": "code"
    }
   },
   "outputs": [],
   "source": [
    "tup2 = tup + tup\n",
    "print(tup2)"
   ]
  },
  {
   "cell_type": "code",
   "execution_count": null,
   "id": "3481139a",
   "metadata": {
    "lines_to_next_cell": 0,
    "slideshow": {
     "slide_type": "fragment"
    }
   },
   "outputs": [],
   "source": [
    "tup3 = 3 * tup \n",
    "print(tup3)"
   ]
  },
  {
   "cell_type": "markdown",
   "id": "967ecc06",
   "metadata": {
    "slideshow": {
     "slide_type": "slide"
    }
   },
   "source": [
    "# Tuples - Unpacking \n",
    "  - A tuple can be *unpacked* by assiging to a tuple-like expression."
   ]
  },
  {
   "cell_type": "code",
   "execution_count": null,
   "id": "276d175d",
   "metadata": {
    "slideshow": {
     "slide_type": "code"
    }
   },
   "outputs": [],
   "source": [
    "answer = 42, (\"life\", \"universe\", \"everything\")\n",
    "a1, a2 = answer\n",
    "print(a1)\n",
    "print(a2)"
   ]
  },
  {
   "cell_type": "markdown",
   "id": "707d3fbd",
   "metadata": {
    "slideshow": {
     "slide_type": "subslide"
    }
   },
   "source": [
    "# Tuples - Unpacking\n",
    "  - This works for nested tuples as well. "
   ]
  },
  {
   "cell_type": "code",
   "execution_count": null,
   "id": "acb90201",
   "metadata": {
    "slideshow": {
     "slide_type": "code"
    }
   },
   "outputs": [],
   "source": [
    "answer = 42, (\"life\", \"universe\", \"everything\")\n",
    "a1, (a2_1, a2_2, a2_3) = answer\n",
    "print(a2_2)"
   ]
  },
  {
   "cell_type": "markdown",
   "id": "d79f7f25",
   "metadata": {
    "slideshow": {
     "slide_type": "subslide"
    }
   },
   "source": [
    "# Tuples - Swapping Variables\n",
    "  - You can swap variables by unpacking a transitory tuple."
   ]
  },
  {
   "cell_type": "code",
   "execution_count": null,
   "id": "8031d6ec",
   "metadata": {
    "slideshow": {
     "slide_type": "code"
    }
   },
   "outputs": [],
   "source": [
    "a, b = 42, 3.14\n",
    "b, a = a, b\n",
    "print((a, b))"
   ]
  },
  {
   "cell_type": "markdown",
   "id": "733dad88",
   "metadata": {
    "slideshow": {
     "slide_type": "subslide"
    }
   },
   "source": [
    "# Tuples - `*_`\n",
    "  - Functions often use tuples to return multiple values.\n",
    "  - Use `*_` to capture unwanted values ...\n",
    "  - <p class=\"fragment\">... or `*name` to unpack into a list `name`. </p>"
   ]
  },
  {
   "cell_type": "code",
   "execution_count": null,
   "id": "1c733301",
   "metadata": {
    "slideshow": {
     "slide_type": "code"
    }
   },
   "outputs": [],
   "source": [
    "num, (word1 , *_) = answer\n",
    "print(num)\n",
    "#print(word1)\n",
    "type(_)\n",
    "_.append(1)"
   ]
  },
  {
   "cell_type": "code",
   "execution_count": null,
   "id": "e3d4798c",
   "metadata": {
    "slideshow": {
     "slide_type": "fragment"
    }
   },
   "outputs": [],
   "source": [
    "print(_)\n",
    "answer"
   ]
  },
  {
   "cell_type": "markdown",
   "id": "2308542c",
   "metadata": {
    "slideshow": {
     "slide_type": "slide"
    }
   },
   "source": [
    "# Tuple methods \n",
    "<div class=\"row\">\n",
    "  <div class=\"column\">\n",
    "    <p> Tuples have few associated methods because they are immutable. </p>\n",
    "    <p> One useful method is, `count()`. </p>\n",
    "  </div>\n",
    "  <div class=\"column\">\n",
    "    <img src='img/pipe.jpeg' align='center'></img>\n",
    "    <small align='center'> \n",
    "     https://en.wikipedia.org/wiki/File:MagrittePipe.jpg \n",
    "    </small>\n",
    "  </div>\n",
    "</div>"
   ]
  },
  {
   "cell_type": "code",
   "execution_count": null,
   "id": "03381349",
   "metadata": {
    "slideshow": {
     "slide_type": "code"
    }
   },
   "outputs": [],
   "source": [
    "tuple(\"Leci n'est pas une pipe.\").count('e')"
   ]
  },
  {
   "cell_type": "markdown",
   "id": "badf9745",
   "metadata": {
    "slideshow": {
     "slide_type": "slide"
    }
   },
   "source": [
    "# Lists\n",
    " - Lists are Python's most flexible built-in data structure.  \n",
    " - Create lists using `[]` or the `list()` function."
   ]
  },
  {
   "cell_type": "code",
   "execution_count": null,
   "id": "9d3363a6",
   "metadata": {
    "slideshow": {
     "slide_type": "code"
    }
   },
   "outputs": [],
   "source": [
    "my_list = (\n",
    "    [\"Leci n'est pas une pipe.\", \n",
    "     (1, 2, 3, 5, 7, 11), \n",
    "     range(3)\n",
    "     ])\n",
    "for x in my_list:\n",
    "    print(type(x))"
   ]
  },
  {
   "cell_type": "markdown",
   "id": "1a9fe852",
   "metadata": {
    "slideshow": {
     "slide_type": "slide"
    }
   },
   "source": [
    "# List indexing and mutability\n",
    " - Index into a list to access, set, or update an item\n",
    "   in a given *position* using `[]`. \n",
    " - List are *mutable* and can be changed in place.  \n",
    " - The `list()` function can be used to instantiate \n",
    "   iterators (or generators). "
   ]
  },
  {
   "cell_type": "code",
   "execution_count": null,
   "id": "013b222d",
   "metadata": {
    "slideshow": {
     "slide_type": "code"
    }
   },
   "outputs": [],
   "source": [
    "print(my_list[1:2])\n",
    "list(my_list[2])"
   ]
  },
  {
   "cell_type": "markdown",
   "id": "1bcd303c",
   "metadata": {
    "slideshow": {
     "slide_type": "slide"
    }
   },
   "source": [
    "# List methods\n",
    " - Removing elements: `.pop()`, `.remove()`.\n",
    " - Adding elements: `.append()`, `.insert()`, `.extend()`"
   ]
  },
  {
   "cell_type": "code",
   "execution_count": null,
   "id": "9d2b9600",
   "metadata": {
    "slideshow": {
     "slide_type": "code"
    }
   },
   "outputs": [],
   "source": [
    "print(my_list.pop(0)) # a position\n",
    "my_list.remove(range(0, 3)) # takes a value\n",
    "print(my_list)\n",
    "my_list.append((17, 19, 23, 31, 37))\n",
    "print(my_list)"
   ]
  },
  {
   "cell_type": "markdown",
   "id": "b5cd8632",
   "metadata": {
    "slideshow": {
     "slide_type": "subslide"
    }
   },
   "source": [
    "# List methods\n",
    " - Adding elements: `.append()`, `.insert()`, `.extend()`\n",
    " - Concatenate lists with `+`. "
   ]
  },
  {
   "cell_type": "code",
   "execution_count": null,
   "id": "c45daf77",
   "metadata": {
    "slideshow": {
     "slide_type": "code"
    }
   },
   "outputs": [],
   "source": [
    "prime = list(my_list[0]) + list(my_list[1])\n",
    "prime.insert(6, 13)\n",
    "prime.extend([43, 47, 53])\n",
    "prime"
   ]
  },
  {
   "cell_type": "markdown",
   "id": "3445b59f",
   "metadata": {
    "slideshow": {
     "slide_type": "slide"
    }
   },
   "source": [
    "# List slices\n",
    " - Lists, like most *sequence objects*, support `start:stop` slicing.\n",
    " - `[start, stop)`: `0:n` returns the first `n` elements. \n",
    " - `start` defaults to 0, `stop` to the length of the list. \n",
    " - Negative indexing is supported. "
   ]
  },
  {
   "cell_type": "code",
   "execution_count": null,
   "id": "b166fbeb",
   "metadata": {
    "slideshow": {
     "slide_type": "code"
    }
   },
   "outputs": [],
   "source": [
    "print(prime[3:8])\n",
    "prime[16:17] = [57, 59]\n",
    "p = prime\n",
    "(p[:3] == p[0:3]) & (p[3:len(p)] == p[3:]) & (p[len(p) - 1] == p[-1])"
   ]
  },
  {
   "cell_type": "markdown",
   "id": "785f78df",
   "metadata": {
    "slideshow": {
     "slide_type": "subslide"
    }
   },
   "source": [
    "# List slices\n",
    " - A second colon can be used to specify a step size. \n",
    " - Specifying a step of `-1` reverses the list. "
   ]
  },
  {
   "cell_type": "code",
   "execution_count": null,
   "id": "7752b13b",
   "metadata": {
    "slideshow": {
     "slide_type": "code"
    }
   },
   "outputs": [],
   "source": [
    "print(prime[1::2])\n",
    "print(prime[::-1])\n",
    "print(prime[0:-1][::-1])"
   ]
  },
  {
   "cell_type": "markdown",
   "id": "58110aca",
   "metadata": {
    "slideshow": {
     "slide_type": "slide"
    }
   },
   "source": [
    "# List comprehensions\n",
    "- List comprehensions allow you to concisely create new lists.\n",
    "- Basic syntax: `[expr for val in collection if condition]`\n",
    "- Use to make your code easier to read, don't overuse. \n",
    "- Work with other sequence objects as well. "
   ]
  },
  {
   "cell_type": "code",
   "execution_count": null,
   "id": "42de7141",
   "metadata": {
    "slideshow": {
     "slide_type": "code"
    }
   },
   "outputs": [],
   "source": [
    "a = [x \n",
    "     for x in my_list\n",
    "     if isinstance(x, tuple)]\n",
    "b = []\n",
    "for x in my_list:\n",
    "    if isinstance(x, tuple):\n",
    "        b.append(x)\n",
    "a == b\n",
    "a"
   ]
  },
  {
   "cell_type": "markdown",
   "id": "92703069",
   "metadata": {
    "slideshow": {
     "slide_type": "subslide"
    }
   },
   "source": [
    "# Exercise\n",
    "- Place the lists `a`, `b`, `c`, `d`, and `e` below into groups such that all\n",
    "  members of the group have the same value."
   ]
  },
  {
   "cell_type": "code",
   "execution_count": null,
   "id": "0ccb684e",
   "metadata": {
    "slideshow": {
     "slide_type": "code"
    }
   },
   "outputs": [],
   "source": [
    "x = list(range(10))\n",
    "y = list(range(0, 10, 2)) #[0, 2, 4, 6, 8]\n",
    "\n",
    "a = y[::-1]\n",
    "b = x[1:4:2]\n",
    "c = x[::2][::-1]\n",
    "d = x[x[1]:y[2]:y[1]]\n",
    "e = [i\n",
    "     for i in x\n",
    "     if 0 < i < 4 and i % 2 == 1] \n",
    "\n",
    "print(a)\n",
    "print(b)\n",
    "print(c)\n",
    "print(d)\n",
    "print(e)"
   ]
  },
  {
   "cell_type": "markdown",
   "id": "2f3413b4",
   "metadata": {
    "slideshow": {
     "slide_type": "subslide"
    }
   },
   "source": [
    "# List comprehensions\n",
    "- List comprehensions can be *nested* but be wary of\n",
    "  impact on readability. "
   ]
  },
  {
   "cell_type": "code",
   "execution_count": null,
   "id": "294141fb",
   "metadata": {
    "lines_to_next_cell": 0,
    "slideshow": {
     "slide_type": "code"
    }
   },
   "outputs": [],
   "source": [
    "flat1 = [\n",
    "  x\n",
    "  for tup in my_list\n",
    "  if isinstance(tup, tuple) \n",
    "  for x in tup]\n",
    "\n",
    "flat2 = []\n",
    "for tup in my_list:\n",
    "    if isinstance(tup, tuple):\n",
    "        for x in tup:\n",
    "            flat2.append(x)\n",
    "\n",
    "flat1 == flat2 \n",
    "flat1"
   ]
  },
  {
   "cell_type": "markdown",
   "id": "bf02aee0",
   "metadata": {
    "slideshow": {
     "slide_type": "slide"
    }
   },
   "source": [
    "# Dicts\n",
    " - The dictionary class `dict` is used to associate\n",
    "   *key-value* pairs.\n",
    " - Dictionaries are also known as *associative arrays* or\n",
    "    *hash maps*.  \n",
    " - Collectively a *key-value* pair is called an *item*. "
   ]
  },
  {
   "cell_type": "markdown",
   "id": "85e3554e",
   "metadata": {
    "slideshow": {
     "slide_type": "subslide"
    }
   },
   "source": [
    "# Dicts\n",
    "> `dict` is likely the most important built-in Python\n",
    "> data structure.\n",
    ">\n",
    "> <cite> --Wes McKinney </cite>"
   ]
  },
  {
   "cell_type": "markdown",
   "id": "0e12e7d1",
   "metadata": {
    "slideshow": {
     "slide_type": "slide"
    }
   },
   "source": [
    "# Creating objects of class dict\n",
    " - Create dictionaries using `{}` and a colon to \n",
    "   separate the key from the associated value ...\n",
    " - or using the `dict()` function.    "
   ]
  },
  {
   "cell_type": "code",
   "execution_count": null,
   "id": "96a73e82",
   "metadata": {
    "slideshow": {
     "slide_type": "code"
    }
   },
   "outputs": [],
   "source": [
    "new_dict = {} # new_dict = dict()\n",
    "res1 = {\"mean\": 4.2, \"se\": 0.21}\n",
    "res2 = dict(mean=4.2, se=0.22)\n",
    "res1 == res2  # same keys and values"
   ]
  },
  {
   "cell_type": "markdown",
   "id": "dc2b93c1",
   "metadata": {
    "slideshow": {
     "slide_type": "slide"
    }
   },
   "source": [
    "# Hashed keys\n",
    " - A hash function maps an object to an integer.\n",
    " - Dictionary keys must be *hashable*, generally true for\n",
    "   immutable classes. \n",
    " - Because `dict` objects use a hash table, key lookup happens in\n",
    "   constant time no matter how big the `dict` is. \n",
    " - In contrast, value look up in lists is done by linear search. \n",
    " - Keys have no inherent order.    "
   ]
  },
  {
   "cell_type": "markdown",
   "id": "f19c9a46",
   "metadata": {
    "slideshow": {
     "slide_type": "slide"
    }
   },
   "source": [
    "# Indexing dicts\n",
    " - Index into a `dict` (to access, set, or update) using `[]`. \n",
    " - Access items with graceful fail using `.get()`. "
   ]
  },
  {
   "cell_type": "code",
   "execution_count": null,
   "id": "f5a61b17",
   "metadata": {
    "slideshow": {
     "slide_type": "code"
    }
   },
   "outputs": [],
   "source": [
    "print(res1[\"mean\"])\n",
    "res1[\"lwr\"] = res1[\"mean\"] - 1.96 * res1[\"se\"]\n",
    "print(res1.get(\"upr\"))"
   ]
  },
  {
   "cell_type": "markdown",
   "id": "8cf2557b",
   "metadata": {
    "slideshow": {
     "slide_type": "subslide"
    }
   },
   "source": [
    "# Default values for dicts\n",
    " - You can specify what value `.get()` or `.pop()` \n",
    "   returns for a missing key."
   ]
  },
  {
   "cell_type": "code",
   "execution_count": null,
   "id": "45fa70e2",
   "metadata": {
    "slideshow": {
     "slide_type": "code"
    }
   },
   "outputs": [],
   "source": [
    "print(res1.get(\"upr\", \"Not computed.\"))\n",
    "x = {\"a\": 1, \"b\": 2, \"c\": 3}\n",
    "for i in tuple(\"abcd\"):    \n",
    "    x.update({i: x.get(i, 0) + 1})\n",
    "x"
   ]
  },
  {
   "cell_type": "markdown",
   "id": "3d0a82a1",
   "metadata": {
    "slideshow": {
     "slide_type": "slide"
    }
   },
   "source": [
    "# dict methods\n",
    "- `.keys()`, `.values()`, `.items()`\n",
    "- already seen `.get()` and `.update()`\n",
    "- `.pop()`, `.copy()`"
   ]
  },
  {
   "cell_type": "code",
   "execution_count": null,
   "id": "e9d7ee6a",
   "metadata": {
    "slideshow": {
     "slide_type": "code"
    }
   },
   "outputs": [],
   "source": [
    "for k, v in d.items():\n",
    "    print('{' + '{0}: {1}'.format(k, v) + '}')"
   ]
  },
  {
   "cell_type": "markdown",
   "id": "f8bd1a4a",
   "metadata": {
    "slideshow": {
     "slide_type": "slide"
    }
   },
   "source": [
    "# dict comprehension\n",
    "- Analgous to list comprehension, but use key-expr: value-expr \n",
    "  at start. "
   ]
  },
  {
   "cell_type": "code",
   "execution_count": null,
   "id": "55e5dd38",
   "metadata": {
    "slideshow": {
     "slide_type": "code"
    }
   },
   "outputs": [],
   "source": [
    "d = {i: np.sqrt(i) for i in range(10)}"
   ]
  },
  {
   "cell_type": "markdown",
   "id": "e63a6219",
   "metadata": {
    "slideshow": {
     "slide_type": "slide"
    }
   },
   "source": [
    "# Built-in sequence functions\n",
    "- Python has several built-in functions that simplify common\n",
    "  patterns seen when working with lists:\n",
    "    + `sorted`\n",
    "    + `reversed`\n",
    "    + `enumerate`\n",
    "    + `zip`"
   ]
  },
  {
   "cell_type": "markdown",
   "id": "85b7be8e",
   "metadata": {
    "slideshow": {
     "slide_type": "slide"
    }
   },
   "source": [
    "# Enumerate\n",
    "- `enumerate()` returns (index, value) pairs for sequences. "
   ]
  },
  {
   "cell_type": "code",
   "execution_count": null,
   "id": "6938ea74",
   "metadata": {
    "slideshow": {
     "slide_type": "code"
    }
   },
   "outputs": [],
   "source": [
    "x = [4, 9, 10, 29, 42, 17]\n",
    "d = {}\n",
    "for idx, val in enumerate(x):\n",
    "    d.update({val: idx})\n",
    "d"
   ]
  },
  {
   "cell_type": "markdown",
   "id": "d64045b6",
   "metadata": {
    "slideshow": {
     "slide_type": "slide"
    }
   },
   "source": [
    "# Sorted & reversed\n",
    "- `sorted()` returns a list with a sorted copy of a sequence object. \n",
    "- `reversed()` returns a *generator* for iterating over items in a sequence\n",
    "  in reversed order. "
   ]
  },
  {
   "cell_type": "code",
   "execution_count": null,
   "id": "3be653f8",
   "metadata": {
    "slideshow": {
     "slide_type": "code"
    }
   },
   "outputs": [],
   "source": [
    "print(sorted(d))\n",
    "list(reversed(d.values()))"
   ]
  },
  {
   "cell_type": "markdown",
   "id": "7300232a",
   "metadata": {
    "slideshow": {
     "slide_type": "slide"
    }
   },
   "source": [
    "# Zip\n",
    "- `zip()` concatenates sequence objects element-wise into a \"list\" of tuples.  \n",
    "- commonly used to iterate over multiple sequences"
   ]
  },
  {
   "cell_type": "code",
   "execution_count": null,
   "id": "2f7d6262",
   "metadata": {
    "slideshow": {
     "slide_type": "code"
    }
   },
   "outputs": [],
   "source": [
    "list(zip(d.keys(), d.values()))\n",
    "for k, v in zip(d.keys(), d.values()):\n",
    "    print('{' + '{0}: {1}'.format(k, v) + '}')"
   ]
  },
  {
   "cell_type": "markdown",
   "id": "009167d5",
   "metadata": {
    "slideshow": {
     "slide_type": "slide"
    }
   },
   "source": [
    "# Sets\n",
    "- Just as in math, a set is an unordered collection.\n",
    "- The set class is mutable and akin to dictionary keys. \n",
    "- Methods for common set operations. \n",
    "- I'm going to skip over further discussion of sets, but this doesn't mean\n",
    "  you shouldn't use them when appropriate. "
   ]
  },
  {
   "cell_type": "code",
   "execution_count": null,
   "id": "057c35db",
   "metadata": {
    "slideshow": {
     "slide_type": "code"
    }
   },
   "outputs": [],
   "source": [
    "even = {x for x in range(0, 20) if x % 2 == 0}\n",
    "div4 = {x for x in range(0, 20) if x % 4 == 0}\n",
    "print(div4 < even)  # subset\n",
    "print(div4 & even)  # intersection\n",
    "print(div4 ^ even)  # symmetric difference"
   ]
  },
  {
   "cell_type": "markdown",
   "id": "0ff90f9c",
   "metadata": {
    "slideshow": {
     "slide_type": "slide"
    }
   },
   "source": [
    "# Takeaways 1/3\n",
    " - Python has four primary built-in sequence types. \n",
    " - Tuples (but not necessarily their contents) are *immutable*, \n",
    "   can be unpacked, and are a common structure for function returns.\n",
    " - Lists are flexible, *mutable*, and a good default structure. "
   ]
  },
  {
   "cell_type": "markdown",
   "id": "d039f3a6",
   "metadata": {
    "slideshow": {
     "slide_type": "slide"
    }
   },
   "source": [
    "# Takeaways 2/3\n",
    " - `dicts` are a mutable set of *key-value* pairs, keys are unique\n",
    "   and are hashed making random look-ups efficient.  \n",
    " - Sets are like dicts without values, and are useful for ...\n",
    "   <p class='fragment'> wait for it ... </p> \n",
    "   <p class='fragment'> set logic. </p>"
   ]
  },
  {
   "cell_type": "markdown",
   "id": "9909834a",
   "metadata": {
    "slideshow": {
     "slide_type": "slide"
    }
   },
   "source": [
    "# Takeaways 3/3\n",
    "- Built in sequence functions: \n",
    "  + `enumerate`\n",
    "  + `zip`\n",
    "  + `sorted`\n",
    "  + `reversed`\n",
    "- Use \"whenever you can\" for concision and clarity. "
   ]
  }
 ],
 "metadata": {
  "jupytext": {
   "cell_metadata_json": true,
   "notebook_metadata_filter": "rise,markdown"
  },
  "kernelspec": {
   "display_name": "Python 3 (ipykernel)",
   "language": "python",
   "name": "python3"
  },
  "markdown": {
   "extensions": "footnotes"
  },
  "rise": {
   "autolaunch": true,
   "enable_chalkboard": true,
   "header": "<a href=\"#/slide-0-0\"> <h3> Stats 507 - Built-In Data Structures </a>",
   "progress": true,
   "scroll": true,
   "theme": "solarized",
   "transition": "convex"
  }
 },
 "nbformat": 4,
 "nbformat_minor": 5
}
