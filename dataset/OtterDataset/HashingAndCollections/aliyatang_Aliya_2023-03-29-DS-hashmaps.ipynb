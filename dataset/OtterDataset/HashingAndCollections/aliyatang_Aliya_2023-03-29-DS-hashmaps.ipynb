{
 "cells": [
  {
   "attachments": {},
   "cell_type": "markdown",
   "metadata": {},
   "source": [
    "#  Data Structures- Hashmaps, Sets, Hash Tables, Hashing and Collisions\n",
    "> Observing hashmaps with python dictionaries\n",
    "- toc: true\n",
    "- image: /images/python.png\n",
    "- categories: []\n",
    "- type: pbl\n",
    "- week: 28"
   ]
  },
  {
   "attachments": {},
   "cell_type": "markdown",
   "metadata": {},
   "source": [
    "## What is a Hashtable/Hashmap?\n",
    "\n",
    "> A hashtable is a data structure that with a collection of key-value pairs, where each key maps to a value, and the keys must be unique and hashable.\n",
    "\n",
    "- In Python there is a built in hashtable known as a dictionary.\n",
    "\n",
    "> The primary purpose of a hashtable is to provide efficient lookup, insertion, and deletion operations. When an element is to be inserted into the hashtable, a hash function is used to map the key to a specific index in the underlying array that is used to store the key-value pairs. The value is then stored at that index. When searching for a value, the hash function is used again to find the index where the value is stored.\n",
    "\n",
    "> The key advantage of a hashtable over other data structures like arrays and linked lists is its average-case time complexity for lookup, insertion, and deletion operations.\n",
    "\n",
    "- The typical time complexity of a hashtable is O(1), constant. \n"
   ]
  },
  {
   "attachments": {},
   "cell_type": "markdown",
   "metadata": {},
   "source": [
    "## What is Hashing and Collision?\n",
    "\n",
    "> Hashing is the process of mapping a given key to a value in a hash table or hashmap, using a hash function. The hash function takes the key as input and produces a hash value or hash code, which is then used to determine the index in the underlying array where the value is stored. The purpose of hashing is to provide a quick and efficient way to access data, by eliminating the need to search through an entire data structure to find a value.\n",
    "\n",
    "> However, it is possible for two different keys to map to the same hash value, resulting in a collision. When a collision occurs, there are different ways to resolve it, depending on the collision resolution strategy used.\n",
    "\n",
    "> Python's dictionary implementation is optimized to handle collisions efficiently, and the performance of the dictionary is generally very good, even in the presence of collisions. However, if the number of collisions is very high, the performance of the dictionary can degrade, so it is important to choose a good hash function that minimizes collisions when designing a Python dictionary.\n",
    "\n",
    "## What is a Set?"
   ]
  },
  {
   "cell_type": "code",
   "execution_count": 1,
   "metadata": {},
   "outputs": [
    {
     "name": "stdout",
     "output_type": "stream",
     "text": [
      "{1, 2, 3, 4}\n"
     ]
    }
   ],
   "source": [
    "# Creating a set using set() function\n",
    "my_set = set([4, 1, 2, 3, 2, 1])\n",
    "print(my_set) "
   ]
  },
  {
   "attachments": {},
   "cell_type": "markdown",
   "metadata": {},
   "source": [
    "- What do you notice in the output?\n",
    "I notice that it only printed each number once, not including duplicates. So, since there was already a 1 and 2 before, it didn't print the other 1s and 2s out. This is the doing of the set function. I also added a four at the beginning to test the set function out, and I noticed that it automatically orders the numbers from least to greatest. \n",
    "\n",
    "- Why do you think Sets are in the same tech talk as Hashmaps/Hashtables?\n",
    "Similarly to sets, dictionaries also can't have duplicate keys. \n"
   ]
  },
  {
   "attachments": {},
   "cell_type": "markdown",
   "metadata": {},
   "source": [
    "## Dictionary Example\n",
    "\n",
    "Below are just some basic features of a dictionary. As always, documentation is always the main source for all the full capablilties. "
   ]
  },
  {
   "cell_type": "code",
   "execution_count": 3,
   "metadata": {},
   "outputs": [
    {
     "name": "stdout",
     "output_type": "stream",
     "text": [
      "{'title': 'Lover', 'artist': 'Taylor Swift', 'year': 2019, 'genre': ['Pop', 'Synth-pop'], 'tracks': {1: 'I Forgot That You Existed', 2: 'Cruel Summer', 3: 'Lover', 4: 'The Man', 5: 'The Archer', 6: 'I Think He Knows', 7: 'Miss Americana & The Heartbreak Prince', 8: 'Paper Rings', 9: 'Cornelia Street', 10: 'Death By A Thousand Cuts', 11: 'London Boy', 12: \"Soon You'll Get Better (feat. Dixie Chicks)\", 13: 'False God', 14: 'You Need To Calm Down', 15: 'Afterglow', 16: 'Me! (feat. Brendon Urie of Panic! At The Disco)', 17: \"It's Nice To Have A Friend\", 18: 'Daylight'}}\n"
     ]
    }
   ],
   "source": [
    "# Creating a dictionary with information about the album \"Lover\"\n",
    "lover_album = {\n",
    "    \"title\": \"Lover\",\n",
    "    \"artist\": \"Taylor Swift\",\n",
    "    \"year\": 2019,\n",
    "    \"genre\": [\"Pop\", \"Synth-pop\"],\n",
    "    \"tracks\": {\n",
    "        1: \"I Forgot That You Existed\",\n",
    "        2: \"Cruel Summer\",\n",
    "        3: \"Lover\",\n",
    "        4: \"The Man\",\n",
    "        5: \"The Archer\",\n",
    "        6: \"I Think He Knows\",\n",
    "        7: \"Miss Americana & The Heartbreak Prince\",\n",
    "        8: \"Paper Rings\",\n",
    "        9: \"Cornelia Street\",\n",
    "        10: \"Death By A Thousand Cuts\",\n",
    "        11: \"London Boy\",\n",
    "        12: \"Soon You'll Get Better (feat. Dixie Chicks)\",\n",
    "        13: \"False God\",\n",
    "        14: \"You Need To Calm Down\",\n",
    "        15: \"Afterglow\",\n",
    "        16: \"Me! (feat. Brendon Urie of Panic! At The Disco)\",\n",
    "        17: \"It's Nice To Have A Friend\",\n",
    "        18: \"Daylight\"\n",
    "    }\n",
    "}\n",
    "\n",
    "# Printing the dictionary\n",
    "print(lover_album)"
   ]
  },
  {
   "attachments": {},
   "cell_type": "markdown",
   "metadata": {},
   "source": [
    "- What data structures do you see?\n",
    "I see strings, integers, lists, and the dictionary (inside another dictionary). A dictionary can hold many different data types or even data structures. "
   ]
  },
  {
   "cell_type": "code",
   "execution_count": 4,
   "metadata": {},
   "outputs": [
    {
     "name": "stdout",
     "output_type": "stream",
     "text": [
      "{1: 'I Forgot That You Existed', 2: 'Cruel Summer', 3: 'Lover', 4: 'The Man', 5: 'The Archer', 6: 'I Think He Knows', 7: 'Miss Americana & The Heartbreak Prince', 8: 'Paper Rings', 9: 'Cornelia Street', 10: 'Death By A Thousand Cuts', 11: 'London Boy', 12: \"Soon You'll Get Better (feat. Dixie Chicks)\", 13: 'False God', 14: 'You Need To Calm Down', 15: 'Afterglow', 16: 'Me! (feat. Brendon Urie of Panic! At The Disco)', 17: \"It's Nice To Have A Friend\", 18: 'Daylight'}\n",
      "{1: 'I Forgot That You Existed', 2: 'Cruel Summer', 3: 'Lover', 4: 'The Man', 5: 'The Archer', 6: 'I Think He Knows', 7: 'Miss Americana & The Heartbreak Prince', 8: 'Paper Rings', 9: 'Cornelia Street', 10: 'Death By A Thousand Cuts', 11: 'London Boy', 12: \"Soon You'll Get Better (feat. Dixie Chicks)\", 13: 'False God', 14: 'You Need To Calm Down', 15: 'Afterglow', 16: 'Me! (feat. Brendon Urie of Panic! At The Disco)', 17: \"It's Nice To Have A Friend\", 18: 'Daylight'}\n"
     ]
    }
   ],
   "source": [
    "# Retrieve value from dictionary with key\n",
    "print(lover_album.get('tracks'))\n",
    "# or\n",
    "print(lover_album['tracks'])"
   ]
  },
  {
   "cell_type": "code",
   "execution_count": 5,
   "metadata": {},
   "outputs": [
    {
     "name": "stdout",
     "output_type": "stream",
     "text": [
      "The Man\n",
      "The Man\n"
     ]
    }
   ],
   "source": [
    "# Retrieve value from a dictionary inside a dictionary using index\n",
    "print(lover_album.get('tracks')[4])\n",
    "# or\n",
    "print(lover_album['tracks'][4])"
   ]
  },
  {
   "cell_type": "code",
   "execution_count": 6,
   "metadata": {},
   "outputs": [
    {
     "name": "stdout",
     "output_type": "stream",
     "text": [
      "{'title': 'Lover', 'artist': 'Taylor Swift', 'year': 2019, 'genre': ['Pop', 'Synth-pop'], 'tracks': {1: 'I Forgot That You Existed', 2: 'Cruel Summer', 3: 'Lover', 4: 'The Man', 5: 'The Archer', 6: 'I Think He Knows', 7: 'Miss Americana & The Heartbreak Prince', 8: 'Paper Rings', 9: 'Cornelia Street', 10: 'Death By A Thousand Cuts', 11: 'London Boy', 12: \"Soon You'll Get Better (feat. Dixie Chicks)\", 13: 'False God', 14: 'You Need To Calm Down', 15: 'Afterglow', 16: 'Me! (feat. Brendon Urie of Panic! At The Disco)', 17: \"It's Nice To Have A Friend\", 18: 'Daylight'}, 'producer': {'Jack Antonoff', 'Taylor Swift', 'Joel Little', 'Louis Bell', 'Frank Dukes'}}\n"
     ]
    }
   ],
   "source": [
    "# adding a value with a new key\n",
    "lover_album[\"producer\"] = set(['Taylor Swift', 'Jack Antonoff', 'Joel Little', 'Taylor Swift', 'Louis Bell', 'Frank Dukes'])\n",
    "\n",
    "# Printing the dictionary\n",
    "print(lover_album)"
   ]
  },
  {
   "attachments": {},
   "cell_type": "markdown",
   "metadata": {},
   "source": [
    "- What can you change to make sure there are no duplicate producers?\n",
    "We could make the list have a set to make sure there are no duplicates within the list. Now, there will only be one Taylor Swift instead of the previous two. "
   ]
  },
  {
   "cell_type": "code",
   "execution_count": 8,
   "metadata": {},
   "outputs": [
    {
     "name": "stdout",
     "output_type": "stream",
     "text": [
      "{'title': 'Lover', 'artist': 'Taylor Swift', 'year': 2019, 'genre': ['Pop', 'Synth-pop', 'Electropop'], 'tracks': {1: 'I Forgot That You Existed', 2: 'Cruel Summer', 3: 'Lover', 4: 'The Man', 5: 'The Archer', 6: 'I Think He Knows', 7: 'Miss Americana & The Heartbreak Prince', 8: 'Paper Rings', 9: 'Cornelia Street', 10: 'Death By A Thousand Cuts', 11: 'London Boy', 12: \"Soon You'll Get Better (feat. Dixie Chicks)\", 13: 'False God', 14: 'You Need To Calm Down', 15: 'Afterglow', 16: 'Me! (feat. Brendon Urie of Panic! At The Disco)', 17: \"It's Nice To Have A Friend\", 18: 'Daylight', 19: 'All Of The Girls You Loved Before'}, 'producer': {'Jack Antonoff', 'Taylor Swift', 'Joel Little', 'Louis Bell', 'Frank Dukes'}}\n"
     ]
    }
   ],
   "source": [
    "# Adding a an key-value pair to an existing key \n",
    "lover_album[\"tracks\"].update({19: \"All Of The Girls You Loved Before\"})\n",
    "lover_album[\"genre\"].append(\"Electropop\")\n",
    "\n",
    "# Printing the dictionary\n",
    "print(lover_album)"
   ]
  },
  {
   "attachments": {},
   "cell_type": "markdown",
   "metadata": {},
   "source": [
    "- How would add an additional genre to the dictionary, like electropop? \n",
    "You can use .append to add to the \"genre\" key. See above for addition of electropop."
   ]
  },
  {
   "cell_type": "code",
   "execution_count": 34,
   "metadata": {},
   "outputs": [
    {
     "name": "stdout",
     "output_type": "stream",
     "text": [
      "Title: Lover\n",
      "Artist: Taylor Swift\n",
      "Year: 2019\n",
      "Genre: Pop, Synth-pop, Electropop\n",
      "Tracks:\n",
      "  1. I Forgot That You Existed\n",
      "  2. Cruel Summer\n",
      "  3. Lover\n",
      "  4. The Man\n",
      "  5. The Archer\n",
      "  6. I Think He Knows\n",
      "  7. Miss Americana & The Heartbreak Prince\n",
      "  8. Paper Rings\n",
      "  9. Cornelia Street\n",
      "  10. Death By A Thousand Cuts\n",
      "  11. London Boy\n",
      "  12. Soon You'll Get Better (feat. Dixie Chicks)\n",
      "  13. False God\n",
      "  14. You Need To Calm Down\n",
      "  15. Afterglow\n",
      "  16. Me! (feat. Brendon Urie of Panic! At The Disco)\n",
      "  17. It's Nice To Have A Friend\n",
      "  18. Daylight\n",
      "  19. All Of The Girls You Loved Before\n",
      "Producer: Jack Antonoff, Taylor Swift, Joel Little, Louis Bell, Frank Dukes\n"
     ]
    }
   ],
   "source": [
    "# Print lover_album in more readable format\n",
    "#for k,v in lover_album.items(): # items keyword, using a for loop for key and value\n",
    "#    print(str(k) + \": \" + str(v))\n",
    "\n",
    "# Write your own code to print tracks in readable format\n",
    "\n",
    "# Print the dictionary in a readable format with capitalized keys and values\n",
    "for key, value in lover_album.items():\n",
    "    if key == \"tracks\":\n",
    "        print(f\"{key.capitalize()}:\")\n",
    "        for track_number, track_title in value.items():\n",
    "            print(f\"  {track_number}. {track_title}\")\n",
    "    elif key == \"producer\" or key == \"genre\":\n",
    "        print(f\"{key.capitalize()}: {', '.join(value)}\")\n",
    "    else:\n",
    "        print(f\"{key.capitalize()}: {value}\")\n",
    "\n"
   ]
  },
  {
   "attachments": {},
   "cell_type": "markdown",
   "metadata": {},
   "source": [
    "To make it more readable, I wanted to capalize letters where appropriate, remove uncessesary things like brackets and quotation marks, and list all the tracks from up to down so it's easier to read."
   ]
  },
  {
   "cell_type": "code",
   "execution_count": 55,
   "metadata": {},
   "outputs": [
    {
     "name": "stdout",
     "output_type": "stream",
     "text": [
      "{1: 'I Forgot That You Existed', 2: 'Cruel Summer', 3: 'Lover', 4: 'The Man', 5: 'The Archer', 6: 'I Think He Knows', 7: 'Miss Americana & The Heartbreak Prince', 8: 'Paper Rings', 9: 'Cornelia Street', 10: 'Death By A Thousand Cuts', 11: 'London Boy', 12: \"Soon You'll Get Better (feat. Dixie Chicks)\", 13: 'False God', 14: 'You Need To Calm Down', 15: 'Afterglow', 16: 'Me! (feat. Brendon Urie of Panic! At The Disco)', 17: \"It's Nice To Have A Friend\", 18: 'Daylight', 19: 'All Of The Girls You Loved Before'}\n"
     ]
    }
   ],
   "source": [
    "print(lover_album[\"tracks\"])"
   ]
  },
  {
   "cell_type": "code",
   "execution_count": 60,
   "metadata": {},
   "outputs": [
    {
     "name": "stdout",
     "output_type": "stream",
     "text": [
      "Tracks:\n",
      "  1. I Forgot That You Existed\n",
      "  2. Cruel Summer\n",
      "  3. Lover\n",
      "  4. The Man\n",
      "  5. The Archer\n",
      "  6. I Think He Knows\n",
      "  7. Miss Americana & The Heartbreak Prince\n",
      "  8. Paper Rings\n",
      "  9. Cornelia Street\n",
      "  10. Death By A Thousand Cuts\n",
      "  11. London Boy\n",
      "  12. Soon You'll Get Better (feat. Dixie Chicks)\n",
      "  13. False God\n",
      "  14. You Need To Calm Down\n",
      "  15. Afterglow\n",
      "  16. Me! (feat. Brendon Urie of Panic! At The Disco)\n",
      "  17. It's Nice To Have A Friend\n",
      "  18. Daylight\n",
      "  19. All Of The Girls You Loved Before\n"
     ]
    }
   ],
   "source": [
    "# Using conditionals to retrieve a random song\n",
    "def search1():\n",
    "    search = input(\"What would you like to know about the album?\")\n",
    "    if lover_album.get(search.lower()) == None:\n",
    "        print(\"Invalid Search\")\n",
    "    else:\n",
    "        print(lover_album.get(search.lower()))\n",
    "\n",
    "# This is a very basic code segment, how can you improve upon this code?\n",
    "def search():\n",
    "    choice = []\n",
    "    for k, v in lover_album.items():\n",
    "        choice.append(k)\n",
    "    search = input(\"What would you like to know about the album?: \" + \", \".join(choice))\n",
    "    if lover_album.get(search.lower()) == None:\n",
    "        print(\"Invalid Search\")\n",
    "    else:\n",
    "        dict = lover_album.get(search.lower())\n",
    "        if search == \"tracks\":\n",
    "            print(f\"{search.capitalize()}:\")\n",
    "            for track_number, track_title in dict.items():\n",
    "                print(f\"  {track_number}. {track_title}\")\n",
    "        elif search == \"producer\" or search == \"genre\":\n",
    "            print(f\"{search.capitalize()}:\", dict)\n",
    "        else:\n",
    "            print(f\"{search.capitalize()}:\", dict)\n",
    "\n",
    "search()\n"
   ]
  },
  {
   "attachments": {},
   "cell_type": "markdown",
   "metadata": {},
   "source": [
    "First, the question is very vague. It just asks what I would like to known about the album, which is so broad and if you didn't know what was in the dictionary it could be hard to determine what wouldn't be an invalid search. So I displayed the options, which are all the keys.\n",
    "\n",
    "Also, I formatted the data based on what they chose, making it easier to read. This is the same idea as the readability print code block I did above. "
   ]
  },
  {
   "attachments": {},
   "cell_type": "markdown",
   "metadata": {},
   "source": [
    "## Hacks\n",
    "\n",
    "- Answer *ALL* questions in the code segments\n",
    "\n",
    "- Create a diagram or comparison illustration (Canva).\n",
    "    - What are the pro and cons of using this data structure? \n",
    "![This is an image](https://github.com/aliyatang/Aliya/blob/master/images/Dictionary%20Pros%20and%20Cons.jpeg?raw=true)\n",
    "    - Dictionary vs List    \n",
    "![This is an image](https://github.com/aliyatang/Aliya/blob/master/images/Purple%20Aesthetic%20Health%20Venn%20Diagram.jpeg?raw=true)\n",
    "\n",
    "- Expand upon the code given to you, possible improvements in comments\n",
    "See code above\n",
    "\n",
    "- For Mr. Yeung's class: Justify your favorite Taylor Swift song, answer may effect seed\n",
    "\n",
    "My favorite Taylor Swift song is definitely Blank Space. For me, it's an OG and it takes me back. \n",
    "\n",
    "I first discovered the song when I was in 2nd grade. Every Tuesday, I would ride a bus early in the morning to my before-school program. I remember each time I would ride the bus, Blank Space would play on the bus radio. I clearly remember each time I would lean my head agains the bus window and hum along to the song because I thought it was really catchy. For a long time, I didn't know what the name of the song was and I was trying to find it by searching up the lyrics.  Specifically, I remember thinking that the \"got a long list of ex-lovers\" part was something about Starbucks... so whenever I searched this up I couldn't find what song it was. However, I finally finally found out the name of the song by watching the Blank Space YouTube video. Blank Space was the first Taylor Swift song I encountered, and after finding out the name, I got more into her music.\n",
    "\n",
    "I used to be a big fan of Taylor Swift when I was younger, especially in elementary school. Though my music taste has changed over the years and I'm not too much of a \"Swiftie\" these days, several of my friends LOVE Taylor Swift. I often sing or listen along with my friends when they play her songs. And whenever I hear Blank Space, it's very reminiscing and nostalgic for me. It definitely reminds me of the \"good old days\" (even though I'm not even that old)... listening to it on the bus is a very core memory for me.\n"
   ]
  },
  {
   "attachments": {},
   "cell_type": "markdown",
   "metadata": {},
   "source": [
    "- Build your own album showing features of a python dictionary\n",
    "\n",
    "This is pretty similar to the lover_album dictionary above, I created a dictionary for the Who Really Cares Album by TV Girl. There are a few more/different elements. TV girl is a band, so I included the members with the band name as well. Now there is another nested dictionary under artist, along with tracks. I also printed it with format."
   ]
  },
  {
   "cell_type": "code",
   "execution_count": 69,
   "metadata": {},
   "outputs": [
    {
     "name": "stdout",
     "output_type": "stream",
     "text": [
      "Title: Who Really Cares\n",
      "Artist:\n",
      "  Band: TV Girl\n",
      "  Members: ['Brad Petering, Jason Wyman, Wyatt Harmon']\n",
      "Year: 2018\n",
      "Genre: Indie rock, Indie pop, Electronica, Pop\n",
      "Tracks:\n",
      "  1: Taking What's Not Yours\n",
      "  2: Song About Me\n",
      "  3: Cigarettes out the Window\n",
      "  4: Till You Tell Me to Leave\n",
      "  5: Not Allowed\n",
      "  6: (Do The) Act Like You Never Met Me\n",
      "  7: Safeword\n",
      "  8: For You\n",
      "  9: Loving Machine\n",
      "  10: Heaven Is a Bedroom\n"
     ]
    }
   ],
   "source": [
    "# Creating a dictionary with information about the album \"Lover\"\n",
    "WhoReallyCares_album = {\n",
    "    \"title\": \"Who Really Cares\",\n",
    "    #nested dictionary here\n",
    "    \"artist\": {\"Band\":\"TV Girl\", \"Members\": [\"Brad Petering, Jason Wyman, Wyatt Harmon\"]},\n",
    "    \"year\": 2018,\n",
    "    \"genre\": [\"Indie rock\", \"Indie pop\", \"Electronica\", \"Pop\"],\n",
    "    #nested dictionary here too\n",
    "    \"tracks\": {\n",
    "        1: \"Taking What's Not Yours\",\n",
    "        2: \"Song About Me\",\n",
    "        3: \"Cigarettes out the Window\",\n",
    "        4: \"Till You Tell Me to Leave\",\n",
    "        5: \"Not Allowed\",\n",
    "        6: \"(Do The) Act Like You Never Met Me\",\n",
    "        7: \"Safeword\",\n",
    "        8: \"For You\",\n",
    "        9: \"Loving Machine\",\n",
    "        10: \"Heaven Is a Bedroom\"\n",
    "    }\n",
    "}\n",
    "\n",
    "# Printing the dictionary\n",
    "# accessing dictioanry\n",
    "for key, value in WhoReallyCares_album.items():\n",
    "    if key == \"tracks\" or key == \"artist\":\n",
    "        print(f\"{key.capitalize()}:\")\n",
    "        # here, you can see the accessing of the nested diciontary from tracks and artist\n",
    "        for k, v in value.items():\n",
    "            print(f\"  {k}: {v}\")\n",
    "    elif key == \"producer\" or key == \"genre\":\n",
    "        print(f\"{key.capitalize()}: {', '.join(value)}\")\n",
    "    else:\n",
    "        print(f\"{key.capitalize()}: {value}\")"
   ]
  }
 ],
 "metadata": {
  "kernelspec": {
   "display_name": "base",
   "language": "python",
   "name": "python3"
  },
  "language_info": {
   "codemirror_mode": {
    "name": "ipython",
    "version": 3
   },
   "file_extension": ".py",
   "mimetype": "text/x-python",
   "name": "python",
   "nbconvert_exporter": "python",
   "pygments_lexer": "ipython3",
   "version": "3.9.12"
  },
  "orig_nbformat": 4
 },
 "nbformat": 4,
 "nbformat_minor": 2
}
