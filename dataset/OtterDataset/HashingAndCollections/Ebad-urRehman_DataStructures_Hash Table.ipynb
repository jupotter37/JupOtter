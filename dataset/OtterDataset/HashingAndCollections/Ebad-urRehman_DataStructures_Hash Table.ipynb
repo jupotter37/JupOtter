{
 "cells": [
  {
   "cell_type": "code",
   "execution_count": 3,
   "id": "8baf7686-04d0-4a2a-856a-9088064eb26d",
   "metadata": {},
   "outputs": [],
   "source": [
    "stock_prices = []\n",
    "with open(\"data.csv\", \"r\") as file:\n",
    "    for line in file:\n",
    "        tokens = line.split(',')\n",
    "        day = tokens[0]\n",
    "        price = float(tokens[1])\n",
    "        stock_prices.append([day, price])\n",
    "        "
   ]
  },
  {
   "cell_type": "code",
   "execution_count": 4,
   "id": "72e730cd-14d0-46ac-be7a-1d3eca2c7172",
   "metadata": {},
   "outputs": [
    {
     "data": {
      "text/plain": [
       "[['6-March', 310.0], ['4_Jan', 40.0], ['9_Feb', 89.0], ['9_March', 302.0]]"
      ]
     },
     "execution_count": 4,
     "metadata": {},
     "output_type": "execute_result"
    }
   ],
   "source": [
    "stock_prices"
   ]
  },
  {
   "cell_type": "code",
   "execution_count": 5,
   "id": "f4668b23-4275-4807-950b-a33afd5cf491",
   "metadata": {},
   "outputs": [
    {
     "name": "stdout",
     "output_type": "stream",
     "text": [
      "40.0\n"
     ]
    }
   ],
   "source": [
    "for element in stock_prices:\n",
    "    if element[0] == \"4_Jan\":\n",
    "        print(element[1])"
   ]
  },
  {
   "cell_type": "code",
   "execution_count": 13,
   "id": "d21720f4-a437-427e-8ab4-4ad741bdcf55",
   "metadata": {},
   "outputs": [],
   "source": [
    "#complexity is O(n)\n",
    "# dictionaries do the same in O(1)\n",
    "# because dictionaries uses hash table"
   ]
  },
  {
   "cell_type": "code",
   "execution_count": 7,
   "id": "f99f9dbe-d53b-4c37-ba4b-01839422dc28",
   "metadata": {},
   "outputs": [],
   "source": [
    "stock_prices = {}\n",
    "with open(\"data.csv\", \"r\") as file:\n",
    "    for line in file:\n",
    "        tokens = line.split(',')\n",
    "        day = tokens[0]\n",
    "        price = float(tokens[1])\n",
    "        stock_prices[day] = price"
   ]
  },
  {
   "cell_type": "code",
   "execution_count": 9,
   "id": "80c18d18-5ceb-493f-b0ab-af59e6248f70",
   "metadata": {},
   "outputs": [
    {
     "name": "stdout",
     "output_type": "stream",
     "text": [
      "89.0\n"
     ]
    }
   ],
   "source": [
    "stock_prices\n",
    "print(stock_prices['9_Feb'])"
   ]
  },
  {
   "cell_type": "markdown",
   "id": "b0800fae-0494-45eb-8380-3fb008020ada",
   "metadata": {},
   "source": [
    "\"\"\"How dictionary work is it allocates array or list of some size in memory lets say the \n",
    "size is 10 form 0 to 9 it maps the elements in key value to the bucket list in the \n",
    "array on the basis of ASCII values of string\n",
    "strings behaves as index in list\"\"\""
   ]
  },
  {
   "cell_type": "markdown",
   "id": "ea587fe5-d9f9-4d9b-8510-c4db69537524",
   "metadata": {},
   "source": [
    "# Implementaion of Hash function"
   ]
  },
  {
   "cell_type": "code",
   "execution_count": 14,
   "id": "d9e5ab09-ab54-464a-893c-04e9a02710b9",
   "metadata": {},
   "outputs": [],
   "source": [
    "# we are going to implement dictionary of python through hash table"
   ]
  },
  {
   "cell_type": "code",
   "execution_count": 20,
   "id": "ab22095e-4dbb-4f0b-891f-c2fd85e9b70a",
   "metadata": {},
   "outputs": [],
   "source": [
    "def get_hash(key):\n",
    "    hash = 0\n",
    "    for char in key:\n",
    "        hash += ord(char)\n",
    "    return hash % 100"
   ]
  },
  {
   "cell_type": "code",
   "execution_count": 23,
   "id": "ac35bf9a-f5d4-4823-bf6f-2f76c2d8a535",
   "metadata": {},
   "outputs": [
    {
     "data": {
      "text/plain": [
       "72"
      ]
     },
     "execution_count": 23,
     "metadata": {},
     "output_type": "execute_result"
    }
   ],
   "source": [
    "get_hash(\"march 6\")\n",
    "get_hash(\"march_6\")"
   ]
  },
  {
   "cell_type": "code",
   "execution_count": 45,
   "id": "0c045e69-0020-4191-a4ba-23a79a6fb3f2",
   "metadata": {},
   "outputs": [],
   "source": [
    "class Hash_table:\n",
    "    def __init__(self):\n",
    "        self.MAX = 100\n",
    "        self.bucket_arr = [None] * 100\n",
    "\n",
    "    def get_hash(self, key):\n",
    "        hash = 0\n",
    "        for char in key:\n",
    "            hash += ord(char)\n",
    "        return hash % 100\n",
    "\n",
    "    def add(self, key, value):\n",
    "        hash = self.get_hash(key)\n",
    "        self.bucket_arr[hash] = value\n",
    "    def get_value(self, key):\n",
    "        hash = self.get_hash(key)\n",
    "        return self.bucket_arr[hash]"
   ]
  },
  {
   "cell_type": "code",
   "execution_count": 24,
   "id": "ab7a45ca-9a20-4b64-8e43-ccbf40f7feff",
   "metadata": {},
   "outputs": [
    {
     "data": {
      "text/plain": [
       "6"
      ]
     },
     "execution_count": 24,
     "metadata": {},
     "output_type": "execute_result"
    }
   ],
   "source": [
    "my_hash = Hash_table()\n",
    "my_hash.get_hash(\"march 3\")"
   ]
  },
  {
   "cell_type": "code",
   "execution_count": 47,
   "id": "71fd611b-48b9-41ce-939c-10c58c18d774",
   "metadata": {},
   "outputs": [
    {
     "data": {
      "text/plain": [
       "130"
      ]
     },
     "execution_count": 47,
     "metadata": {},
     "output_type": "execute_result"
    }
   ],
   "source": [
    "my_hash = Hash_table()\n",
    "my_hash.add(\"march 3\", 130)"
   ]
  },
  {
   "cell_type": "code",
   "execution_count": null,
   "id": "8606f8bd-81fb-4991-be1d-be500ba349c9",
   "metadata": {},
   "outputs": [],
   "source": [
    "my_hash.bucket_arr"
   ]
  },
  {
   "cell_type": "code",
   "execution_count": 48,
   "id": "dc27968c-0cbb-432a-9a4f-e127f2f52bfe",
   "metadata": {},
   "outputs": [
    {
     "data": {
      "text/plain": [
       "130"
      ]
     },
     "execution_count": 48,
     "metadata": {},
     "output_type": "execute_result"
    }
   ],
   "source": [
    "my_hash = Hash_table()\n",
    "my_hash.add(\"march 3\", 130)\n",
    "my_hash.get_value(\"march 3\")"
   ]
  },
  {
   "cell_type": "markdown",
   "id": "881e74c8-6223-4aa3-adf1-53e468382362",
   "metadata": {},
   "source": [
    "## OverRiding builtin python dictionary to our written functions"
   ]
  },
  {
   "cell_type": "markdown",
   "id": "9670de0f-0c33-49c1-a0b5-da28c5600266",
   "metadata": {},
   "source": [
    "We can do such by renaming our functions to builtin functions then the dictionary will overrided by our functions"
   ]
  },
  {
   "cell_type": "code",
   "execution_count": 49,
   "id": "9c904ad4-bfca-4ddd-aa33-b2addaa8921b",
   "metadata": {},
   "outputs": [],
   "source": [
    "class Hash_table:\n",
    "    def __init__(self):\n",
    "        self.MAX = 100\n",
    "        self.bucket_arr = [None] * 100\n",
    "\n",
    "    def get_hash(self, key):\n",
    "        hash = 0\n",
    "        for char in key:\n",
    "            hash += ord(char)\n",
    "        return hash % 100\n",
    "\n",
    "    def __setitem__(self, key, value):\n",
    "        hash = self.get_hash(key)\n",
    "        self.bucket_arr[hash] = value\n",
    "    def __getitem__(self, key):\n",
    "        hash = self.get_hash(key)\n",
    "        return self.bucket_arr[hash]\n",
    "    def __delitem__(self, key):\n",
    "        hash = self.get_hash(key)\n",
    "        self.bucket_arr[hash] = None"
   ]
  },
  {
   "cell_type": "code",
   "execution_count": 13,
   "id": "f8e07b5d-689d-4757-a400-2e3e592dc47b",
   "metadata": {},
   "outputs": [
    {
     "name": "stdout",
     "output_type": "stream",
     "text": [
      "10\n"
     ]
    },
    {
     "ename": "IndexError",
     "evalue": "list assignment index out of range",
     "output_type": "error",
     "traceback": [
      "\u001b[1;31m---------------------------------------------------------------------------\u001b[0m",
      "\u001b[1;31mIndexError\u001b[0m                                Traceback (most recent call last)",
      "Cell \u001b[1;32mIn[13], line 2\u001b[0m\n\u001b[0;32m      1\u001b[0m my_hash \u001b[38;5;241m=\u001b[39m Hash_table()\n\u001b[1;32m----> 2\u001b[0m \u001b[43mmy_hash\u001b[49m\u001b[43m[\u001b[49m\u001b[38;5;124;43m\"\u001b[39;49m\u001b[38;5;124;43mmarch 3\u001b[39;49m\u001b[38;5;124;43m\"\u001b[39;49m\u001b[43m]\u001b[49m \u001b[38;5;241m=\u001b[39m \u001b[38;5;241m130\u001b[39m\n\u001b[0;32m      3\u001b[0m my_hash[\u001b[38;5;124m\"\u001b[39m\u001b[38;5;124mmarch 7\u001b[39m\u001b[38;5;124m\"\u001b[39m] \u001b[38;5;241m=\u001b[39m \u001b[38;5;241m40\u001b[39m\n\u001b[0;32m      4\u001b[0m \u001b[38;5;28mprint\u001b[39m(my_hash[\u001b[38;5;124m\"\u001b[39m\u001b[38;5;124mmarch 7\u001b[39m\u001b[38;5;124m\"\u001b[39m])\n",
      "Cell \u001b[1;32mIn[8], line 22\u001b[0m, in \u001b[0;36mHash_table.__setitem__\u001b[1;34m(self, key, value)\u001b[0m\n\u001b[0;32m     20\u001b[0m \u001b[38;5;28;01mif\u001b[39;00m \u001b[38;5;28mlen\u001b[39m(sublist) \u001b[38;5;241m==\u001b[39m \u001b[38;5;241m2\u001b[39m \u001b[38;5;129;01mand\u001b[39;00m sublist[\u001b[38;5;241m0\u001b[39m] \u001b[38;5;241m==\u001b[39m key:\n\u001b[0;32m     21\u001b[0m     \u001b[38;5;28mprint\u001b[39m(index)\n\u001b[1;32m---> 22\u001b[0m     \u001b[38;5;28;43mself\u001b[39;49m\u001b[38;5;241;43m.\u001b[39;49m\u001b[43mbucket_arr\u001b[49m\u001b[43m[\u001b[49m\u001b[38;5;28;43mhash\u001b[39;49m\u001b[43m]\u001b[49m\u001b[43m[\u001b[49m\u001b[43mindex\u001b[49m\u001b[43m]\u001b[49m \u001b[38;5;241m=\u001b[39m (key, value)\n\u001b[0;32m     23\u001b[0m     found \u001b[38;5;241m=\u001b[39m \u001b[38;5;28;01mTrue\u001b[39;00m\n\u001b[0;32m     24\u001b[0m     \u001b[38;5;28;01mbreak\u001b[39;00m\n",
      "\u001b[1;31mIndexError\u001b[0m: list assignment index out of range"
     ]
    }
   ],
   "source": [
    "my_hash = Hash_table()\n",
    "my_hash[\"march 3\"] = 130\n",
    "my_hash[\"march 7\"] = 40\n",
    "print(my_hash[\"march 7\"])\n",
    "del my_hash[\"march 7\"]\n",
    "print(my_hash[\"march 7\"])"
   ]
  },
  {
   "cell_type": "markdown",
   "id": "bdcf8e4a-c539-4312-bf96-a19e43a73e8d",
   "metadata": {},
   "source": [
    "# Collosion handling\n",
    "# Seperate chaining method"
   ]
  },
  {
   "cell_type": "markdown",
   "id": "314d7997-df2d-49cf-85ea-820101a265f3",
   "metadata": {},
   "source": [
    "There arises a problem in above class when we get two values with same hash value.\n",
    "Then where we have to put the second value with the same hash value for this we use\n",
    "collosion handling and seperate chaining method"
   ]
  },
  {
   "cell_type": "markdown",
   "id": "b5e35c87-5f9b-4d60-b920-bbaecee6be5c",
   "metadata": {},
   "source": [
    "In this method we store all values having same hash value in a list and link that\n",
    "list with the index or hash associated with that list.\n",
    "So its complexity in best case is O(1) constant when all elements are in seperate\n",
    "indices and O(n) when all elements shares the same hash value "
   ]
  },
  {
   "cell_type": "code",
   "execution_count": 12,
   "id": "ae4569c1-100d-49f0-8e48-f8abd6d07769",
   "metadata": {},
   "outputs": [],
   "source": [
    "class Hash_table:\n",
    "    def __init__(self):\n",
    "        self.MAX = 10\n",
    "        self.bucket_arr = [[] for i in range(self.MAX)]\n",
    "\n",
    "    def get_hash(self, key):\n",
    "        hash = 0\n",
    "        for char in key:\n",
    "            hash += ord(char)\n",
    "        return hash % 10\n",
    "\n",
    "    def __setitem__(self, key, value):\n",
    "        hash = self.get_hash(key)\n",
    "        found = False\n",
    "        # we have to update the value in list keeping duplicate values in mind\n",
    "        # for overwriting value we are checking if key value alreading exist in the main list\n",
    "        # sublists are tuple here which are added for every key and value when they found for the first time\n",
    "        # and overwrited when we encourter the same key\n",
    "        print(self.bucket_arr[hash])\n",
    "        for index, sublist in enumerate(self.bucket_arr[hash]):\n",
    "            print(\"run\")\n",
    "            if len(sublist) == 2 and sublist[0] == key:\n",
    "                print(index)\n",
    "                print(sublist[0], key)\n",
    "                self.bucket_arr[hash][index] = (key, value)\n",
    "                found = True\n",
    "                break\n",
    "            # as we are using tuple here thus it is not possible to directly change value instead we insert a new tuple here\n",
    "        if not found: # The case where we have to insert new key with value\n",
    "            self.bucket_arr[hash].append((key, value))    \n",
    "                \n",
    "    \n",
    "    def __getitem__(self, key):\n",
    "        hash = self.get_hash(key)\n",
    "        for element in self.bucket_arr[hash]:\n",
    "            if element[0] == key:\n",
    "                return element[1]\n",
    "        return \n",
    "    def __delitem__(self, key):\n",
    "        hash = self.get_hash(key)\n",
    "        for index, key_value in enumerate(self.bucket_arr[hash]):\n",
    "            if key_value[0] == key:\n",
    "                del self.bucket_arr[hash][index]\n",
    "                "
   ]
  },
  {
   "cell_type": "code",
   "execution_count": 13,
   "id": "4c6c134c-c85e-40b0-a10f-b3c7c5cbabe7",
   "metadata": {},
   "outputs": [
    {
     "name": "stdout",
     "output_type": "stream",
     "text": [
      "[]\n",
      "[]\n",
      "[('march 3', 130)]\n",
      "run\n",
      "0\n",
      "march 3 march 3\n",
      "[('march 6', 40)]\n",
      "run\n",
      "34\n",
      "[[], [], [], [], [], [], [('march 3', 178)], [], [], [('march 17', 34)]]\n"
     ]
    }
   ],
   "source": [
    "my_hash = Hash_table()\n",
    "my_hash[\"march 3\"] = 130\n",
    "my_hash[\"march 6\"] = 40\n",
    "my_hash[\"march 3\"] = 178\n",
    "my_hash[\"march 17\"] =34\n",
    "print(my_hash[\"march 17\"])\n",
    "del my_hash[\"march 6\"]\n",
    "print(my_hash.bucket_arr)"
   ]
  }
 ],
 "metadata": {
  "kernelspec": {
   "display_name": "Python 3 (ipykernel)",
   "language": "python",
   "name": "python3"
  },
  "language_info": {
   "codemirror_mode": {
    "name": "ipython",
    "version": 3
   },
   "file_extension": ".py",
   "mimetype": "text/x-python",
   "name": "python",
   "nbconvert_exporter": "python",
   "pygments_lexer": "ipython3",
   "version": "3.10.8"
  }
 },
 "nbformat": 4,
 "nbformat_minor": 5
}
