{
 "cells": [
  {
   "cell_type": "markdown",
   "metadata": {},
   "source": [
    "## Hashing\n",
    "\n",
    "Hashing can be useful in speeding up the search process for a specific item that is part of a larger collection of items. Depending on the implementation of the hashing algorithm, this can turn the computational complexity of our search algorithm from $O(n)$ to $O(1)$. We do this by building a specific data structure, which we'll dive into next.\n",
    "\n",
    "#### Hash Table\n",
    "\n",
    "A hash table is a collection of items, stored in such a way as to make it easier to find them later. The table consists of **slots** that hold items and are named by a specific integer value, starting with 0.\n",
    "\n",
    "Example of a hash table (sorry for the poor formatting because markdown : \n",
    "\n",
    "|   0  |   1  |   2  |   3  |   4  |   5  |   6  |   7  |   8  |   9  |  10  |\n",
    "|:----:|:----:|:----:|:----:|:----:|:----:|:----:|:----:|:----:|:----:|:----:|\n",
    "| None | None | None | None | None | None | None | None | None | None | None |\n",
    "\n",
    "\n",
    "Each entry in this hash table, is currently set to a value of `None`.\n",
    "\n",
    "A hash function is used when mapping values into the slots available within a Hash table. The hash function typically takes, as input, an item from a collection, and will return an integer in the range of slot names, between $0$ and $m-1$. There are many different hash functions, but the first we can discuss is the \"remainder method\" hash function. \n",
    "\n",
    "#### Remainder Hash Function\n",
    "\n",
    "The remainder hash function takes an item from a collection, divides it by the table size, returning the remainder of it's hash value $h(item) = item \\% \\text{table_size}$. Typically modulo arithmetic is present in some form for all hash functions, as the result must be in the range of the total number of slots within the table.\n",
    "\n",
    "Assuming we have a set of integer items $\\{25,54,34,67,75,21,77,31\\}$, we can use our hash function to find slots for our values, accordingly."
   ]
  },
  {
   "cell_type": "code",
   "execution_count": 1,
   "metadata": {
    "collapsed": false
   },
   "outputs": [
    {
     "name": "stdout",
     "output_type": "stream",
     "text": [
      "The hash for 25 is 3\n",
      "The hash for 54 is 10\n",
      "The hash for 34 is 1\n",
      "The hash for 67 is 1\n",
      "The hash for 75 is 9\n",
      "The hash for 21 is 10\n",
      "The hash for 77 is 0\n",
      "The hash for 31 is 9\n",
      "{0: 77, 1: 67, 2: None, 3: 25, 4: None, 5: None, 6: None, 7: None, 8: None, 9: 31, 10: 21}\n"
     ]
    }
   ],
   "source": [
    "items = [25,54,34,67,75,21,77,31]\n",
    "\n",
    "def hash(item_list, table_size):\n",
    "    hash_table = dict([(i,None) for i,x in enumerate(range(table_size))])\n",
    "    for item in item_list:\n",
    "        i = item % table_size\n",
    "        print(\"The hash for %s is %s\" % (item, i))\n",
    "        hash_table[i] = item\n",
    "    \n",
    "    return hash_table\n",
    "\n",
    "# Execute the hash function\n",
    "# Create table with 11 entries to match example above\n",
    "hash_table = hash(items, 11)\n",
    "\n",
    "# Print the resulting hash table\n",
    "print(hash_table)"
   ]
  },
  {
   "cell_type": "markdown",
   "metadata": {},
   "source": [
    "Once the hash values have been computed, we inset each item into the hash table at the designated position(s). We can now see that there are entries with corresponding hash values stored in a python dictionary. This is obviously a very simple implementation of a hash table.\n",
    "\n",
    "There is something interesting to note here, though, when working through using a simple hashing algorithm like the remainder method. We have items, in our case integers, which hash to the same value. Specifically, we can see that there are 2 items that hash to each of the 1, 9, and 10 slots. These are what are known as **collisions**.\n",
    "\n",
    "Clearly these collisions can cause problems, as out of the 8 initial items that we'd started with, we only have 5 items actually stored in our hash table. This leads us into the next section we'll discuss, and that is hash functions that can help alleviate this collision problem.\n",
    "\n",
    "### Hash Functions\n",
    "\n",
    "Hash functions that map, perfectly, every item into it's own unique slot in a hash table is known as a **perfect hash function**. If we knew the collection of items and that it would never change, it's possible to construct a perfect hash function specific to this collection, but we know that the dynamics of the real world tend to not allow something so simple.\n",
    "\n",
    "Dynamically growing the hash table size so each possible item in the item range can be accomodated is one way to construct a perfect hash function. This guarantees each item will have it's own slot. But this isn't feasible, as something as simple as tracking social security numbers would require over one billion slots within the hash table. And if we're only tracking a small subset of the full set of social security numbers, this would become horribly inefficient with respect to hardware resources available within the machine our code is running on.\n",
    "\n",
    "With the goal of constructing a hash function that will minimize the number of collisions, has low computational complexity, and evenly distributes our items within the hash table, we can take a look at some common ways to extend this remainder method.\n",
    "\n",
    "#### Folding Method\n",
    "\n",
    "The folding method for hashing an item begins by diving the item into equal size pieces (though the last piece may not be of equal size to the rest). These pieces are then added together to create the resulting hash value. A good example of this is a phone number,such as 456-555-1234. We can break each pair of integers up into groups of 2, add them up, and use that resulting value as an input to our hashing function."
   ]
  },
  {
   "cell_type": "code",
   "execution_count": 2,
   "metadata": {
    "collapsed": false
   },
   "outputs": [
    {
     "name": "stdout",
     "output_type": "stream",
     "text": [
      "The hash for 210 is 1\n",
      "The hash for 502 is 7\n",
      "The hash for 758 is 10\n",
      "The hash for 969 is 1\n",
      "{0: None, 1: 969, 2: None, 3: None, 4: None, 5: None, 6: None, 7: 502, 8: None, 9: None, 10: 758}\n"
     ]
    }
   ],
   "source": [
    "def stringify(item_list):\n",
    "    \"\"\"\n",
    "    Method to convert integer values into array of component integers\n",
    "    \"\"\"\n",
    "    string_items = []\n",
    "    while len(item_list) > 0:\n",
    "        for item in item_list:\n",
    "            chars = [int(c) for c in str(item)]\n",
    "        item_list.remove(item)\n",
    "        string_items.append(chars)\n",
    "    return string_items\n",
    "\n",
    "def folding_hash(item_list):\n",
    "    '''\n",
    "    Quick hack at a folding hash algorithm\n",
    "    '''\n",
    "    hashes = []\n",
    "    while len(item_list) > 0:\n",
    "        hash_val = 0\n",
    "        for item in item_list:\n",
    "            while len(item) > 1:\n",
    "                str_1 = str(item[0])\n",
    "                str_2 = str(item[1])\n",
    "                str_concat = str_1 + str_2\n",
    "                bifold = int(str_concat)\n",
    "                hash_val += bifold\n",
    "                item.pop(0)\n",
    "                item.pop(0)\n",
    "            else:\n",
    "                if len(item) > 0:\n",
    "                    hash_val += item[0]\n",
    "                else:\n",
    "                    pass\n",
    "            hashes.append(hash_val)\n",
    "        return hashes\n",
    "\n",
    "# Example phone numbers\n",
    "phone_number = [4565551234, 4565557714, 9871542544, 4365554601]\n",
    "\n",
    "# String/Character-fy the phone numbers\n",
    "str_pn = stringify(phone_number)\n",
    "\n",
    "# Hash the phone numbers\n",
    "folded_hash = folding_hash(str_pn)\n",
    "\n",
    "# Input values into hash table\n",
    "folding_hash_table = hash(folded_hash, 11)\n",
    "\n",
    "# Print the results\n",
    "print(folding_hash_table)"
   ]
  },
  {
   "cell_type": "markdown",
   "metadata": {},
   "source": [
    "#### Ordinal Hash\n",
    "\n",
    "When dealing with strings, we can use the ordinal values of the constituent characters of a given word, to create a hash.\n",
    "\n",
    "It's important to notice, however, that anagrams can produce hash collisions, as shown below."
   ]
  },
  {
   "cell_type": "code",
   "execution_count": 3,
   "metadata": {
    "collapsed": false
   },
   "outputs": [
    {
     "name": "stdout",
     "output_type": "stream",
     "text": [
      "4\n",
      "4\n"
     ]
    }
   ],
   "source": [
    "def ord_hash(string, table_size):\n",
    "    hash_val = 0\n",
    "    for position in range(len(string)):\n",
    "        hash_val = hash_val + ord(string[position])\n",
    "        \n",
    "    return hash_val % table_size\n",
    "\n",
    "print(ord_hash(\"cat\", 11))\n",
    "print(ord_hash(\"tac\", 11))"
   ]
  },
  {
   "cell_type": "markdown",
   "metadata": {},
   "source": [
    "#### Weighted ordinal hashing\n",
    "\n",
    "In the case above, just using ordinal values can cause hash collisions. We can actually use the positional structure of the word to as a set of weights for generating a given hash. As seen below.\n",
    "\n",
    "A simple multiplication by the positional value of each character will cause anagrams to evaluate to different hash values."
   ]
  },
  {
   "cell_type": "code",
   "execution_count": 4,
   "metadata": {
    "collapsed": false
   },
   "outputs": [
    {
     "name": "stdout",
     "output_type": "stream",
     "text": [
      "4\n",
      "9\n"
     ]
    }
   ],
   "source": [
    "def weighted_ord_hash(string, table_size):\n",
    "    hash_val = 0\n",
    "    for position in range(len(string)):\n",
    "        hash_val = hash_val + (ord(string[position]) * position)\n",
    "    return hash_val % table_size\n",
    "\n",
    "# ord_hash\n",
    "print(ord_hash(\"cat\", 11))\n",
    "\n",
    "# weighted_ord_hash\n",
    "print(weighted_ord_hash(\"tac\", 11))"
   ]
  },
  {
   "cell_type": "markdown",
   "metadata": {},
   "source": [
    "## Collision Resolution\n",
    "\n",
    "When there are hash collisions, like we've seen previously, it's important to understand ways that we can alleviate the collisions.\n",
    "\n",
    "One simple way to handle the collision, should there already be an entry in our hash table with the same hash value, is to search sequentially through all slots near the original hash, for an empty slot. This may require us to circularly traverse the entire hash table to allow us to cover all possible slots. This process is known as **open addressing** and the technique within this process that we're using is called **linear probing**.\n",
    "\n",
    "In the following code examples, we'll reuse the simple remainder method hash function that we've defined above. Along with the original set of integers we were hashing, as there were some collisions that occured."
   ]
  },
  {
   "cell_type": "code",
   "execution_count": 5,
   "metadata": {
    "collapsed": false
   },
   "outputs": [
    {
     "name": "stdout",
     "output_type": "stream",
     "text": [
      "The hash for 25 is 3\n",
      "The hash for 54 is 10\n",
      "The hash for 34 is 1\n",
      "The hash for 67 is 1\n",
      "The hash for 75 is 9\n",
      "The hash for 21 is 10\n",
      "The hash for 77 is 0\n",
      "The hash for 31 is 9\n",
      "{0: 77, 1: 67, 2: None, 3: 25, 4: None, 5: None, 6: None, 7: None, 8: None, 9: 31, 10: 21}\n"
     ]
    }
   ],
   "source": [
    "items = [25,54,34,67,75,21,77,31]\n",
    "\n",
    "# Execute the hash function\n",
    "# Create table with 11 entries to match example above\n",
    "hash_table = hash(items, 11)\n",
    "\n",
    "# Print the resulting hash table\n",
    "print(hash_table)"
   ]
  },
  {
   "cell_type": "markdown",
   "metadata": {},
   "source": [
    "We can see there were multiple collisions within this dataset. Specifically hashes of 1, 9, and 10. And we can see in the resulting table that only the last computed hashes are stored in the respective table slots.\n",
    "\n",
    "Below we'll implement an `lp_hash` function that will perform linear probing over the slots available within the table for any collisions that occur."
   ]
  },
  {
   "cell_type": "code",
   "execution_count": 6,
   "metadata": {
    "collapsed": false
   },
   "outputs": [
    {
     "name": "stdout",
     "output_type": "stream",
     "text": [
      "25 hashed == 3 \n",
      "\n",
      "54 hashed == 10 \n",
      "\n",
      "34 hashed == 1 \n",
      "\n",
      "67 hashed == 1 \n",
      "\n",
      "Collision, attempting linear probe \n",
      "\n",
      "Setting next slot to 2 \n",
      "\n",
      "75 hashed == 9 \n",
      "\n",
      "21 hashed == 10 \n",
      "\n",
      "Collision, attempting linear probe \n",
      "\n",
      "Setting next slot to 0 \n",
      "\n",
      "77 hashed == 0 \n",
      "\n",
      "Collision, attempting linear probe \n",
      "\n",
      "Setting next slot to 1 \n",
      "\n",
      "Next slot was not empty, trying next slot 2 \n",
      "\n",
      "Next slot was not empty, trying next slot 3 \n",
      "\n",
      "Next slot was not empty, trying next slot 4 \n",
      "\n",
      "31 hashed == 9 \n",
      "\n",
      "Collision, attempting linear probe \n",
      "\n",
      "Setting next slot to 10 \n",
      "\n",
      "Next slot was not empty, trying next slot 0 \n",
      "\n",
      "Next slot was not empty, trying next slot 1 \n",
      "\n",
      "Next slot was not empty, trying next slot 2 \n",
      "\n",
      "Next slot was not empty, trying next slot 3 \n",
      "\n",
      "Next slot was not empty, trying next slot 4 \n",
      "\n",
      "Next slot was not empty, trying next slot 5 \n",
      "\n",
      "{0: 21, 1: 34, 2: 67, 3: 25, 4: 77, 5: 31, 6: None, 7: None, 8: None, 9: 75, 10: 54}\n"
     ]
    }
   ],
   "source": [
    "items = [25,54,34,67,75,21,77,31]\n",
    "\n",
    "def rehash(oldhash, table_size):\n",
    "    return (oldhash+1) % table_size\n",
    "\n",
    "def lp_hash(item_list, table_size):\n",
    "    \n",
    "    lp_hash_table = dict([(i,None) for i,x in enumerate(range(table_size))])\n",
    "\n",
    "    for item in item_list:\n",
    "        i = item % table_size\n",
    "        print(\"%s hashed == %s \\n\" %(item, i))\n",
    "        if lp_hash_table[i] == None:\n",
    "            lp_hash_table[i] = item\n",
    "        elif lp_hash_table[i] != None:\n",
    "            print(\"Collision, attempting linear probe \\n\")\n",
    "            next_slot = rehash(i, table_size)\n",
    "            print(\"Setting next slot to %s \\n\" % next_slot)\n",
    "            while lp_hash_table[next_slot] != None:\n",
    "                next_slot = rehash(next_slot, len(lp_hash_table.keys()))\n",
    "                print(\"Next slot was not empty, trying next slot %s \\n\" % next_slot)\n",
    "            if lp_hash_table[next_slot] == None:\n",
    "                lp_hash_table[next_slot] = item\n",
    "    return lp_hash_table\n",
    "\n",
    "print(lp_hash(items, 11))"
   ]
  },
  {
   "cell_type": "markdown",
   "metadata": {},
   "source": [
    "Used a little more interestingly, we can use the weighted ordinal hash function that we've defined above, combined with the lp_hash function that we've just defined, to store string(s) for later lookup."
   ]
  },
  {
   "cell_type": "code",
   "execution_count": 7,
   "metadata": {
    "collapsed": false
   },
   "outputs": [
    {
     "name": "stdout",
     "output_type": "stream",
     "text": [
      "cat hashed == 10 \n",
      "\n",
      "dog hashed == 9 \n",
      "\n",
      "goat hashed == 4 \n",
      "\n",
      "chicken hashed == 4 \n",
      "\n",
      "Collision, attempting linear probe \n",
      "\n",
      "Setting next slot to 5 \n",
      "\n",
      "pig hashed == 3 \n",
      "\n",
      "horse hashed == 10 \n",
      "\n",
      "Collision, attempting linear probe \n",
      "\n",
      "Setting next slot to 0 \n",
      "\n",
      "ostrich hashed == 6 \n",
      "\n",
      "lion hashed == 8 \n",
      "\n",
      "puma hashed == 10 \n",
      "\n",
      "Collision, attempting linear probe \n",
      "\n",
      "Setting next slot to 0 \n",
      "\n",
      "Next slot was not empty, trying next slot 1 \n",
      "\n",
      "{0: 'horse', 1: 'puma', 2: None, 3: 'pig', 4: 'goat', 5: 'chicken', 6: 'ostrich', 7: None, 8: 'lion', 9: 'dog', 10: 'cat'}\n"
     ]
    }
   ],
   "source": [
    "animal_items = [\"cat\", \"dog\", \"goat\", \n",
    "         \"chicken\", \"pig\", \"horse\",\n",
    "        \"ostrich\", \"lion\", \"puma\"]\n",
    "\n",
    "def rehash(oldhash, table_size):\n",
    "    return (oldhash+1) % table_size\n",
    "\n",
    "def weighted_ord_hash(string, table_size):\n",
    "    hash_val = 0\n",
    "    for position in range(len(string)):\n",
    "        hash_val = hash_val + (ord(string[position]) * position)\n",
    "    return hash_val % table_size\n",
    "\n",
    "\n",
    "def lp_hash(item_list, table_size):\n",
    "    \n",
    "    lp_hash_table = dict([(i,None) for i,x in enumerate(range(table_size))])\n",
    "    \n",
    "    for item in item_list:\n",
    "        i = weighted_ord_hash(item, table_size)\n",
    "        print(\"%s hashed == %s \\n\" %(item, i))\n",
    "        if lp_hash_table[i] == None:\n",
    "            lp_hash_table[i] = item\n",
    "        elif lp_hash_table[i] != None:\n",
    "            print(\"Collision, attempting linear probe \\n\")\n",
    "            next_slot = rehash(i, table_size)\n",
    "            print(\"Setting next slot to %s \\n\" % next_slot)\n",
    "            while lp_hash_table[next_slot] != None:\n",
    "                next_slot = rehash(next_slot, len(lp_hash_table.keys()))\n",
    "                print(\"Next slot was not empty, trying next slot %s \\n\" % next_slot)\n",
    "            if lp_hash_table[next_slot] == None:\n",
    "                lp_hash_table[next_slot] = item\n",
    "    return lp_hash_table\n",
    "\n",
    "print(lp_hash(animal_items, 11))"
   ]
  },
  {
   "cell_type": "markdown",
   "metadata": {},
   "source": [
    "### References\n",
    "\n",
    "* http://interactivepython.org/courselib/static/pythonds/SortSearch/Hashing.html#tbl-hashvalues1"
   ]
  },
  {
   "cell_type": "code",
   "execution_count": null,
   "metadata": {
    "collapsed": true
   },
   "outputs": [],
   "source": []
  }
 ],
 "metadata": {
  "kernelspec": {
   "display_name": "Python 2",
   "language": "python",
   "name": "python2"
  },
  "language_info": {
   "codemirror_mode": {
    "name": "ipython",
    "version": 2
   },
   "file_extension": ".py",
   "mimetype": "text/x-python",
   "name": "python",
   "nbconvert_exporter": "python",
   "pygments_lexer": "ipython2",
   "version": "2.7.6"
  }
 },
 "nbformat": 4,
 "nbformat_minor": 0
}
