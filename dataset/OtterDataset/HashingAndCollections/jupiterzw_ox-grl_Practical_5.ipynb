{
 "cells": [
  {
   "cell_type": "markdown",
   "metadata": {},
   "source": [
    "<style>\n",
    "r { color: Red }\n",
    "o { color: Orange }\n",
    "g { color: Green }\n",
    "</style>\n",
    "This is my color style for this notebook:)\n",
    "- <r>Red</r> \n",
    "- <o>Orange</o> \n",
    "- <g>Green</g> "
   ]
  },
  {
   "cell_type": "markdown",
   "metadata": {
    "id": "O12_NFdOzdlD"
   },
   "source": [
    "# **Practical 5**\n",
    "\n",
    "Welcome to the last practical for Graph Representation Learning.\n",
    "\n",
    "We will be implementing the 1-WL hash algorithm that is described in the lectures and testing it on several graphs and GNNs.\n",
    "\n",
    "The main goal of the practical is creating a working implementation of the 1-WL hash algorithm and understanding its applicability and limitations.\n",
    "\n",
    "The notebook is divided into sections, each of which comes with complete or partially completed code. Before each snippet of code there will be a description of what we are about to implement. The sections of code you need to complete are marked as Tasks.\n",
    "\n",
    "Please ensure that you operate within the framework given in the notebook and bring any questions you may have to the practical demonstrators. We suggest that you DO NOT edit code that is a part of the framework, since this will make it more difficult for demonstrators to assist if your code is broken."
   ]
  },
  {
   "cell_type": "code",
   "execution_count": 1,
   "metadata": {
    "colab": {
     "base_uri": "https://localhost:8080/"
    },
    "executionInfo": {
     "elapsed": 3650,
     "status": "ok",
     "timestamp": 1700482678368,
     "user": {
      "displayName": "Emily Jin",
      "userId": "00213674014052790913"
     },
     "user_tz": 0
    },
    "id": "8YbmazR-2n-L",
    "outputId": "cbdf0a86-ff56-40e4-c606-8a0c05af7e87"
   },
   "outputs": [
    {
     "name": "stdout",
     "output_type": "stream",
     "text": [
      "2.2.2\n"
     ]
    }
   ],
   "source": [
    "# Check PyTorch version installed on this system\n",
    "!python -c \"import torch; print(torch.__version__)\""
   ]
  },
  {
   "cell_type": "code",
   "execution_count": 2,
   "metadata": {
    "id": "n3wuc62T2pqt"
   },
   "outputs": [],
   "source": [
    "%%capture\n",
    "# Download the corresponding PyTorch Geometric module\n",
    "\"\"\"\n",
    "Assign to TORCH with what you get from the cell above. E.g., export TORCH=1.12.1+cu113\n",
    "\"\"\"\n",
    "%env TORCH=2.0.1+cu118\n",
    "!pip install torch-scatter -f https://data.pyg.org/whl/torch-${TORCH}.html\n",
    "!pip install torch-sparse -f https://data.pyg.org/whl/torch-${TORCH}.html\n",
    "!pip install torch-geometric"
   ]
  },
  {
   "cell_type": "code",
   "execution_count": 3,
   "metadata": {
    "colab": {
     "base_uri": "https://localhost:8080/"
    },
    "executionInfo": {
     "elapsed": 4838,
     "status": "ok",
     "timestamp": 1700482705809,
     "user": {
      "displayName": "Emily Jin",
      "userId": "00213674014052790913"
     },
     "user_tz": 0
    },
    "id": "LhDlsXipzg8M",
    "outputId": "5510bc8f-51d8-4280-f18a-24b9cab4d438"
   },
   "outputs": [],
   "source": [
    "import random\n",
    "import numpy as np\n",
    "import torch\n",
    "import torch.nn as nn\n",
    "import torch.optim as optim\n",
    "import torch.nn.functional as F\n",
    "from torch_geometric.utils import from_networkx\n",
    "from torch_geometric.data import Data\n",
    "from torch_geometric.loader import DataLoader\n",
    "from torch_geometric.nn import Sequential, GCNConv, global_mean_pool\n",
    "import networkx as nx\n",
    "import matplotlib.pyplot as plt\n",
    "\n",
    "device = torch.device('cuda' if torch.cuda.is_available() else 'cpu')\n",
    "rng = np.random.default_rng()"
   ]
  },
  {
   "cell_type": "markdown",
   "metadata": {
    "id": "Ez7WXFaZz4De"
   },
   "source": [
    "# **Part 1: Weisfeiler Lehman Graph Hash**"
   ]
  },
  {
   "cell_type": "markdown",
   "metadata": {
    "id": "IWHgG_5zPIkc"
   },
   "source": [
    "## **Task 1.1: Generate graph pairs using NetworkX**\n",
    "\n",
    "For $n$ between 6 and 15, generate all pairs of graphs $(\\mathcal{C_n}, \\mathcal{D}_{n,i}))$, where $\\mathcal{C}_n$ is a cycle on $n$ nodes and $\\mathcal{D}_{n,i}$ is the disjoint union of two cycles, with $n - i$ and $i$ nodes in total (of course the minimum number of nodes in each single connected component you build should be $> 2$). You can use the functions provided by networkx. We suggest you build on top of `networkx.cycle_graph`."
   ]
  },
  {
   "cell_type": "code",
   "execution_count": 4,
   "metadata": {
    "id": "Vva-OtQB0ONB"
   },
   "outputs": [],
   "source": [
    "# The range of different graph sizes\n",
    "size_range = range(6, 16)\n",
    "\n",
    "# The list of all graph pairs\n",
    "graph_pairs = []\n",
    "\n",
    "# Generate the graphs\n",
    "for n in size_range:\n",
    "\tfor i in range(3, n - 2):  # i ranges from 3 to n-3 to ensure both cycles have > 2 nodes\n",
    "\t\t# Cycle Cn (a simple cycle of n nodes)\n",
    "\t\tCn = nx.cycle_graph(n)\n",
    "\t\t\n",
    "\t\t# Cycle Dn,i (disjoint union of two cycles)\n",
    "\t\tcycle1 = nx.cycle_graph(n - i)\n",
    "\t\tcycle2 = nx.cycle_graph(i)\n",
    "\t\tDni = nx.disjoint_union(cycle1, cycle2)\n",
    "\t\t\n",
    "\t\tgraph_pairs.append((Cn, Dni))\n"
   ]
  },
  {
   "cell_type": "code",
   "execution_count": 5,
   "metadata": {
    "id": "FYbqZs8RFODw"
   },
   "outputs": [
    {
     "data": {
      "image/png": "[encoded data removed]",
      "text/plain": [
       "<Figure size 640x480 with 2 Axes>"
      ]
     },
     "metadata": {},
     "output_type": "display_data"
    }
   ],
   "source": [
    "### DO NOT MODIFY\n",
    "\n",
    "# Display a random pair\n",
    "fig, axs = plt.subplots(1, 2)\n",
    "pair = random.choice(graph_pairs)\n",
    "for i in range(2):\n",
    "\tnx.draw(pair[i], ax=axs[i])\n",
    "\taxs[i].set_title(f\"Graph {i+1}\")\n",
    "plt.show()"
   ]
  },
  {
   "cell_type": "code",
   "execution_count": null,
   "metadata": {},
   "outputs": [
    {
     "data": {
      "text/plain": [
       "{0: '1', 1: '1', 2: '1', 3: '1', 4: '1'}"
      ]
     },
     "execution_count": 6,
     "metadata": {},
     "output_type": "execute_result"
    }
   ],
   "source": [
    "# Test Block\n",
    "C5 = nx.cycle_graph(5)\n",
    "node_labels = {node: \"1\" for node in C5.nodes()}\n",
    "node_labels"
   ]
  },
  {
   "cell_type": "code",
   "execution_count": null,
   "metadata": {},
   "outputs": [
    {
     "data": {
      "text/plain": [
       "[0, 1, 2, 3, 4]"
      ]
     },
     "execution_count": 7,
     "metadata": {},
     "output_type": "execute_result"
    }
   ],
   "source": [
    "# Test Block\n",
    "sorted(C5.nodes())"
   ]
  },
  {
   "cell_type": "code",
   "execution_count": null,
   "metadata": {},
   "outputs": [
    {
     "data": {
      "text/plain": [
       "DegreeView({0: 2, 1: 2, 2: 2, 3: 2, 4: 2})"
      ]
     },
     "execution_count": 8,
     "metadata": {},
     "output_type": "execute_result"
    }
   ],
   "source": [
    "# Test Block\n",
    "C5.degree()"
   ]
  },
  {
   "cell_type": "code",
   "execution_count": null,
   "metadata": {},
   "outputs": [
    {
     "name": "stdout",
     "output_type": "stream",
     "text": [
      "{0: {0: 0, 1: 1, 4: 1, 2: 2, 3: 2}, 1: {1: 0, 0: 1, 2: 1, 4: 2, 3: 2}, 2: {2: 0, 1: 1, 3: 1, 0: 2, 4: 2}, 3: {3: 0, 2: 1, 4: 1, 1: 2, 0: 2}, 4: {4: 0, 3: 1, 0: 1, 2: 2, 1: 2}}\n",
      "2\n"
     ]
    }
   ],
   "source": [
    "# Test Block\n",
    "shortest_paths = dict(nx.all_pairs_shortest_path_length(C5))\n",
    "print(shortest_paths)\n",
    "# distance between node 2 and node 4 (2--3--4 so should return 2)\n",
    "print(shortest_paths[2][4])"
   ]
  },
  {
   "cell_type": "code",
   "execution_count": null,
   "metadata": {},
   "outputs": [
    {
     "data": {
      "text/plain": [
       "[0, 1, 2, 2, 1, 1, 0, 1, 2, 2, 2, 1, 0, 1, 2, 2, 2, 1, 0, 1, 1, 2, 2, 1, 0]"
      ]
     },
     "execution_count": 10,
     "metadata": {},
     "output_type": "execute_result"
    }
   ],
   "source": [
    "# Test Block\n",
    "nodes_distance = []\n",
    "for node1 in C5.nodes():\n",
    "    for node2 in C5.nodes():\n",
    "    \tnodes_distance.append(shortest_paths[node1][node2])\n",
    "nodes_distance"
   ]
  },
  {
   "cell_type": "markdown",
   "metadata": {},
   "source": [
    "## **Task 1.2: Implement the Weisfeiler Lehman (WL) graph hash**"
   ]
  },
  {
   "cell_type": "markdown",
   "metadata": {},
   "source": [
    "<style>\n",
    "r { color: Red }\n",
    "o { color: Orange }\n",
    "g { color: Green }\n",
    "</style>\n",
    "\n",
    "<o>\n",
    "\n",
    "Some notes on **hash**.\n",
    "\n",
    "A hash is a fixed-length string of characters (usually a combination of letters and numbers) generated by a hash function. It serves as a unique representation (or \"fingerprint\") of some input data, such as a file, text, or graph structure.\n",
    "\n",
    "Applications of Hashing:\n",
    "\n",
    "1. Data Integrity:\n",
    "\t- Hashes can verify whether data has been tampered with. For example, downloading a file and comparing its hash with the expected hash ensures the file hasn't changed.\n",
    "2. Password Storage:\n",
    "\t- Instead of storing plain-text passwords, systems store hashes of passwords. When a user logs in, their password is hashed and compared with the stored hash.\n",
    "3. Cryptographic Security:\n",
    "\t- Hash functions like SHA-256 and MD5 are used in encryption and digital signatures for secure communications.\n",
    "4. Hash Tables:\n",
    "\t - In programming, hash functions are used to map data to unique indices in hash tables, enabling efficient data retrieval.\n",
    "5. Graph Hashing:\n",
    "\t- For graph structures, hashes like the Weisfeiler-Lehman hash provide a way to compare graphs or use them in machine learning.\n",
    "\n",
    "</o>"
   ]
  },
  {
   "cell_type": "code",
   "execution_count": 11,
   "metadata": {},
   "outputs": [
    {
     "name": "stdout",
     "output_type": "stream",
     "text": [
      "Original Data: Hello, World!\n",
      "MD5 Hash: 65a8e27d8879283831b664bd8b7f0ad4\n"
     ]
    }
   ],
   "source": [
    "import hashlib\n",
    "\n",
    "data = \"Hello, World!\"\n",
    "hash_value = hashlib.md5(data.encode()).hexdigest() \n",
    "# hash_value = hashlib.sha256(data.encode()).hexdigest()\n",
    "\n",
    "print(\"Original Data:\", data)\n",
    "print(\"MD5 Hash:\", hash_value)"
   ]
  },
  {
   "cell_type": "markdown",
   "metadata": {},
   "source": [
    "<style>\n",
    "r { color: Red }\n",
    "o { color: Orange }\n",
    "g { color: Green }\n",
    "</style>\n",
    "\n",
    "<o>\n",
    "\n",
    "**A breakdown of above codes**\n",
    "\n",
    "`data.encode()`\n",
    "- `data` is the input string to be hashed (e.g., `\"Hello, World!\"`).\n",
    "- `.encode()` converts the string into a byte representation (UTF-8 encoding by default) because hash functions work on bytes, not strings.\n",
    "- The `b` prefix indicates that this is a byte string, not a regular string.\n",
    "\t```python\n",
    "\tdata = \"Hello, World!\"\n",
    "\tprint(data.encode())\n",
    "\t# Output: b'Hello, World!'\n",
    "\t```\n",
    "\n",
    "`hashlib.md5()`\n",
    "- `hashlib.md5()` creates a new MD5 hash object. The MD5 algorithm processes the input bytes to generate a fixed-length, 128-bit (16-byte) hash value.\n",
    "- At this point, the hash object is initialized, but the actual hash value is not yet in a usable form.\n",
    "\n",
    "- `.hexdigest()`\n",
    "- The `.hexdigest()` method is called on the MD5 hash object.\n",
    "- It computes the final hash value and returns it as a hexadecimal string (a string consisting of numbers and lowercase letters `a-f`).\n",
    "- For example:\n",
    "\t```python\n",
    "\tprint(hashlib.md5(b\"Hello, World!\").hexdigest())\n",
    "\t# Output: fc3ff98e8c6a0d3087d515c0473f8677\n",
    "\t```\n",
    "- Why Hexadecimal?\n",
    "  \n",
    "  The hash output is binary by nature. Representing it in hexadecimal makes it more compact and human-readable while maintaining all the information. For example:\n",
    "  - `.digest()`: Returns the raw binary hash output (16 bytes).\n",
    "\t```python\n",
    "\thash_object = hashlib.md5(b\"Hello, World!\")\n",
    "\tprint(hash_object.digest())\n",
    "\t# Output: b'\\xfc?\\xf9\\x8e\\x8cj\\r0\\x87\\xd5\\x15\\xc0G?\\x86w'\n",
    "\t```\n",
    "\n",
    "  - `.hexdigest()`: Converts the binary hash to a readable hexadecimal string (32 characters).\n",
    "  \n",
    "  \t```python\n",
    "\thash_object = hashlib.md5(b\"Hello, World!\")\n",
    "\tprint(hash_object.hexdigest())\n",
    "\t# Output: fc3ff98e8c6a0d3087d515c0473f8677\n",
    "\t```\n",
    "**Important Notes About MD5:**\n",
    "\n",
    "- Not Secure for Cryptography:\n",
    "\n",
    "\tMD5 is fast but not collision-resistant, meaning two different inputs can sometimes produce the same hash. It is no longer recommended for security-critical applications.\n",
    "\n",
    "- Use stronger algorithms like **SHA-256** for cryptographic purposes (what I'll use in later code cells).\n",
    "\n",
    "</o>"
   ]
  },
  {
   "cell_type": "markdown",
   "metadata": {
    "id": "SInnrIEhFtlS"
   },
   "source": [
    "Implement the function `weisfeiler_lehman_graph_hash` that takes in input a graph $\\mathcal{G}$ and return the hash $WL(\\mathcal{G})$. Use the constant $c = 1$ as the label for each node. For this task, you **cannot** use the utilities provided by the networkx library (except to convert from graphs to tensors if necessary)."
   ]
  },
  {
   "attachments": {
    "image.png": {
     "image/png": "[encoded data removed]"
    }
   },
   "cell_type": "markdown",
   "metadata": {},
   "source": [
    "![image.png](attachment:image.png)"
   ]
  },
  {
   "cell_type": "code",
   "execution_count": 12,
   "metadata": {},
   "outputs": [],
   "source": [
    "def weisfeiler_lehman_graph_hash(graph):\n",
    "\t\"\"\"\n",
    "\tImplements the 1-WL graph hashing algorithm.\n",
    "\n",
    "\tParameters:\n",
    "\tgraph (networkx.Graph): Input graph.\n",
    "\n",
    "\tReturns:\n",
    "\tstr: Hash of the graph after WL iterations.\n",
    "\t\"\"\"\n",
    "\n",
    "\t# Step 1: Initialize node labels with constant c=1 and hash it\n",
    "\tnode_labels = {node: hashlib.sha256(\"1\".encode()).hexdigest() for node in graph.nodes()}\n",
    "\n",
    "\t# (n-1) of WL iterations to perform where n = #nodes\n",
    "\t# See Sandra Kiefer, Power and Limits of the Weisfeiler-Leman Algorithm, 2020. for more details\n",
    "\tfor _ in range(len(node_labels) - 1):\n",
    "\t\t# Step 2: Aggregate neighbor labels and relabel nodes\n",
    "\t\tnew_labels = {}\n",
    "\t\tfor node in graph.nodes():\n",
    "\t\t\t# Collect the labels of the neighbors\n",
    "\t\t\t# Use sorting to ensure order invariance\n",
    "\t\t\tneighbor_labels = sorted([node_labels[neighbor] for neighbor in graph.neighbors(node)])\n",
    "\t\t\t# Combine the current label with the sorted neighbor labels\n",
    "\t\t\tcombined_label = node_labels[node] + \"|\" + \"|\".join(neighbor_labels)\n",
    "\t\t\t# Hash the combined label to create a new label\n",
    "\t\t\tnew_labels[node] = hashlib.sha256(combined_label.encode()).hexdigest()\n",
    "\t\t# Update the node labels\n",
    "\t\tnode_labels = new_labels\n",
    "\n",
    "\t# Step 3: Generate a graph hash\n",
    "\t# Sort the labels and concatenate them to create the graph's final hash\n",
    "\tgraph_hash = hashlib.sha256(\"\".join(sorted(node_labels.values())).encode()).hexdigest()\n",
    "\n",
    "\treturn graph_hash\n"
   ]
  },
  {
   "cell_type": "markdown",
   "metadata": {
    "id": "EQG5P3EQ0Ron"
   },
   "source": [
    "Let's do a sanity check to make sure that the members of each pair previously generated are 1-WL indistinguishable:"
   ]
  },
  {
   "cell_type": "code",
   "execution_count": 13,
   "metadata": {
    "id": "cbQ_cD4n0UY9"
   },
   "outputs": [
    {
     "name": "stdout",
     "output_type": "stream",
     "text": [
      "Number of graph pairs: 55\n",
      "Number of 1-WL indistinguishable pairs: 55\n"
     ]
    }
   ],
   "source": [
    "### DO NOT MODIFY\n",
    "\n",
    "wl_indistinguishable_pairs = 0\n",
    "for pair in graph_pairs:\n",
    "\thash0 = weisfeiler_lehman_graph_hash(pair[0])\n",
    "\thash1 = weisfeiler_lehman_graph_hash(pair[1])\n",
    "\twl_indistinguishable_pairs += (hash0 == hash1)\n",
    "\n",
    "# Print the number of pairs produced\n",
    "print(f\"Number of graph pairs: {len(graph_pairs)}\")\n",
    "print(f\"Number of 1-WL indistinguishable pairs: {wl_indistinguishable_pairs}\")"
   ]
  },
  {
   "cell_type": "markdown",
   "metadata": {
    "id": "IHC26nBz44MC"
   },
   "source": [
    "# Part 2: WL with extra node information"
   ]
  },
  {
   "cell_type": "markdown",
   "metadata": {
    "id": "7Qej5u5JGwwv"
   },
   "source": [
    "## **Task 2.1: Updating the hash function**\n",
    "\n",
    "Modify the `weisfeiler_lehman_graph_hash` to accept an optional extra element corresponding to the features to assign to each node to be used to compute the final hash."
   ]
  },
  {
   "cell_type": "markdown",
   "metadata": {
    "id": "0ZlwqIRZIdN1"
   },
   "source": [
    "### Task 2.1.1\n",
    "Use the node degree as initial label to compute the WL hash. What do you expect to change compared to before? Why?"
   ]
  },
  {
   "cell_type": "code",
   "execution_count": 14,
   "metadata": {
    "id": "sa_7JQgeI8CU"
   },
   "outputs": [],
   "source": [
    "def node_degrees(graph):\n",
    "\t\"\"\"Returns a list with the degree of each node in graph\"\"\"\n",
    "\treturn [degree for _, degree in graph.degree()]\n"
   ]
  },
  {
   "cell_type": "code",
   "execution_count": 15,
   "metadata": {},
   "outputs": [],
   "source": [
    "def weisfeiler_lehman_graph_hash(graph, node_features=None):\n",
    "\t\"\"\"\n",
    "\tImplements the 1-WL graph hashing algorithm with optional initial features.\n",
    "\n",
    "\tParameters:\n",
    "\tgraph (networkx.Graph): Input graph.\n",
    "\tnode_features (dict, optional): Initial features for each node as a dictionary\n",
    "\t\t\t\t\t\t\t\t\t where keys are nodes and values are features.\n",
    "\n",
    "\tReturns:\n",
    "\tstr: Hash of the graph after WL iterations.\n",
    "\t\"\"\"\n",
    "\n",
    "\t# Step 1: Initialize node labels with hash\n",
    "\tif node_features:\n",
    "\t\tnode_labels = {node: hashlib.sha256(str(node_features[node]).encode()).hexdigest() for node in graph.nodes()}\n",
    "\telse:\n",
    "\t\t# Default initialization with constant c=1\n",
    "\t\tnode_labels = {node: hashlib.sha256(\"1\".encode()).hexdigest() for node in graph.nodes()}\n",
    "\n",
    "\t# Perform WL iterations\n",
    "\tfor _ in range(len(node_labels) - 1):\n",
    "\t\t# Step 2: Aggregate neighbor labels and relabel nodes\n",
    "\t\tnew_labels = {}\n",
    "\t\tfor node in graph.nodes():\n",
    "\t\t\t# Collect the labels of the neighbors\n",
    "\t\t\tneighbor_labels = sorted([node_labels[neighbor] for neighbor in graph.neighbors(node)])\n",
    "\t\t\t# Combine the current label with the sorted neighbor labels\n",
    "\t\t\tcombined_label = node_labels[node] + \"|\" + \"|\".join(neighbor_labels)\n",
    "\t\t\t# Hash the combined label to create a new label\n",
    "\t\t\tnew_labels[node] = hashlib.sha256(combined_label.encode()).hexdigest()\n",
    "\t\t# Update the node labels\n",
    "\t\tnode_labels = new_labels\n",
    "\n",
    "\t# Step 3: Generate a graph hash\n",
    "\t# Note here we use sorting again to make sure that nodes indexing doesn't affect the final graph hash\n",
    "\tgraph_hash = hashlib.sha256(\"\".join(sorted(node_labels.values())).encode()).hexdigest()\n",
    "\n",
    "\treturn graph_hash"
   ]
  },
  {
   "cell_type": "code",
   "execution_count": 16,
   "metadata": {
    "id": "zQt7k5VZJNf-"
   },
   "outputs": [
    {
     "name": "stdout",
     "output_type": "stream",
     "text": [
      "Number of graph pairs: 55\n",
      "Number of 1-WL indistinguishable pairs whenusing the node degree as label: 55\n"
     ]
    }
   ],
   "source": [
    "### DO NOT MODIFY\n",
    "\n",
    "wl_indistinguishable_pairs_with_degree = 0\n",
    "for pair in graph_pairs:\n",
    "\thash0 = weisfeiler_lehman_graph_hash(pair[0], node_degrees(pair[0]))\n",
    "\thash1 = weisfeiler_lehman_graph_hash(pair[1], node_degrees(pair[1]))\n",
    "\twl_indistinguishable_pairs_with_degree += (hash0 == hash1)\n",
    "\n",
    "# Print the number of pairs produced\n",
    "print(f\"Number of graph pairs: {len(graph_pairs)}\")\n",
    "print(f\"Number of 1-WL indistinguishable pairs when\"\n",
    "\t  f\"using the node degree as label: {wl_indistinguishable_pairs_with_degree}\")"
   ]
  },
  {
   "cell_type": "markdown",
   "metadata": {
    "id": "kXIr5wFmJtpC"
   },
   "source": [
    "### Task 2.1.2\n",
    "Modify the initial label of each node $N_i$ such that it now contains the shortest path length from $N_i$ to $N_j$. Run `weisfeiler_lehman_graph_hash` using the new labels."
   ]
  },
  {
   "cell_type": "code",
   "execution_count": 17,
   "metadata": {
    "id": "yA4FEAhjK3NB"
   },
   "outputs": [],
   "source": [
    "def node_shortest_paths(graph):\n",
    "\t\"\"\"Returns a list with the lenghts of the shortest paths between all the node pairs\"\"\"\n",
    "\t\n",
    "\t# Get a sorted list of nodes to ensure consistent indexing\n",
    "\tnodes = sorted(graph.nodes())\n",
    "\tn = len(nodes)\n",
    "\t# Initialize the 2D list\n",
    "\tshortest_paths = [[float('inf')] * n for _ in range(n)]\n",
    "\t# Compute all-pairs shortest paths\n",
    "\tlengths = dict(nx.all_pairs_shortest_path_length(graph))\n",
    "\n",
    "\tfor i, source in enumerate(nodes):\n",
    "\t\tfor j, target in enumerate(nodes):\n",
    "\t\t\t# If 2 nodes are not connected, then their distance is 'inf' (infinity)\n",
    "\t\t\tif target in lengths[source]:\n",
    "\t\t\t\tshortest_paths[i][j] = lengths[source][target]\n",
    "\t\t\t\n",
    "\treturn shortest_paths\n",
    "\n"
   ]
  },
  {
   "cell_type": "code",
   "execution_count": 18,
   "metadata": {},
   "outputs": [
    {
     "data": {
      "text/plain": [
       "True"
      ]
     },
     "execution_count": 18,
     "metadata": {},
     "output_type": "execute_result"
    }
   ],
   "source": [
    "my_dict = {'a' : 'car', 'b' : 'boss', 'c' : 'apple'}\n",
    "bool = 'b' in my_dict\n",
    "bool"
   ]
  },
  {
   "cell_type": "code",
   "execution_count": 19,
   "metadata": {},
   "outputs": [
    {
     "data": {
      "text/plain": [
       "[[0, 1, 2, 2, 1],\n",
       " [1, 0, 1, 2, 2],\n",
       " [2, 1, 0, 1, 2],\n",
       " [2, 2, 1, 0, 1],\n",
       " [1, 2, 2, 1, 0]]"
      ]
     },
     "execution_count": 19,
     "metadata": {},
     "output_type": "execute_result"
    }
   ],
   "source": [
    "node_shortest_paths(C5)"
   ]
  },
  {
   "cell_type": "code",
   "execution_count": 20,
   "metadata": {},
   "outputs": [
    {
     "data": {
      "text/plain": [
       "'[0, 1, 2, 2, 1]'"
      ]
     },
     "execution_count": 20,
     "metadata": {},
     "output_type": "execute_result"
    }
   ],
   "source": [
    "str(node_shortest_paths(C5)[0])"
   ]
  },
  {
   "cell_type": "code",
   "execution_count": 21,
   "metadata": {
    "id": "4LxB8sp-LWKI"
   },
   "outputs": [
    {
     "name": "stdout",
     "output_type": "stream",
     "text": [
      "Number of graph pairs: 55\n",
      "Number of 1-WL indistinguishable pairs when using the shortest path lenghts as label: 0\n"
     ]
    }
   ],
   "source": [
    "### DO NOT MODIFY\n",
    "\n",
    "wl_indistinguishable_pairs_with_shortest_path = 0\n",
    "for pair in graph_pairs:\n",
    "\thash0 = weisfeiler_lehman_graph_hash(pair[0], node_shortest_paths(pair[0]))\n",
    "\thash1 = weisfeiler_lehman_graph_hash(pair[1], node_shortest_paths(pair[1]))\n",
    "\twl_indistinguishable_pairs_with_shortest_path += (hash0 == hash1)\n",
    "\n",
    "# Print the number of pairs produced\n",
    "print(f\"Number of graph pairs: {len(graph_pairs)}\")\n",
    "print(f\"Number of 1-WL indistinguishable pairs when \"\n",
    "\t  f\"using the shortest path lenghts as label: {wl_indistinguishable_pairs_with_shortest_path}\")"
   ]
  },
  {
   "cell_type": "markdown",
   "metadata": {
    "id": "cA6FogSHGnOq"
   },
   "source": [
    "# **Part 3: Building a GNN**"
   ]
  },
  {
   "cell_type": "markdown",
   "metadata": {
    "id": "4kBIdkokGtbA"
   },
   "source": [
    "## **Task 3.1: Converting the graphs from Task 1.1 to PyTorch Geometric objects**\n",
    "\n",
    "Let's turn each graph into `torch_geometric.data.Data` objects, with some input features `x` and output features `y`.\n",
    "Each previously generated pair should be converted to two Data objects, one for the cycle graph and one for the disjoint union one. The features `x` corresponds to the labels of each node; we will use the same label for each node (e.g., an array of 50 elements each set to 1). The output `y` should be 1 for cycle graphs and 0 for disjoint graphs.\n",
    "\n",
    "(Look at the function `from_networkx`)"
   ]
  },
  {
   "cell_type": "code",
   "execution_count": 22,
   "metadata": {
    "id": "2svuBMcpGrUX"
   },
   "outputs": [
    {
     "name": "stdout",
     "output_type": "stream",
     "text": [
      "Data(edge_index=[2, 12], num_nodes=6, x=[6, 50], y=[1]) tensor([1])\n",
      "Data(edge_index=[2, 12], num_nodes=6, x=[6, 50], y=[1]) tensor([0])\n",
      "Data(edge_index=[2, 14], num_nodes=7, x=[7, 50], y=[1]) tensor([1])\n",
      "Data(edge_index=[2, 14], num_nodes=7, x=[7, 50], y=[1]) tensor([0])\n",
      "110\n"
     ]
    }
   ],
   "source": [
    "# The list of Data objects\n",
    "dataset = []\n",
    "\n",
    "# Loop over graph pairs\n",
    "for Cn, Dni in graph_pairs:\n",
    "    # Convert and process the cycle graph (Cn)\n",
    "    Cn_geom = from_networkx(Cn)\n",
    "    num_nodes_Cn = Cn.number_of_nodes()\n",
    "    Cn_geom.x = torch.ones((num_nodes_Cn, 50), dtype=torch.float)  # Features\n",
    "    Cn_geom.y = torch.tensor([1], dtype=torch.long)  # Label: 1 for cycle graphs\n",
    "    dataset.append(Cn_geom)\n",
    "\n",
    "    # Convert and process the disjoint union graph (Dni)\n",
    "    Dni_geom = from_networkx(Dni)\n",
    "    num_nodes_Dni = Dni.number_of_nodes()\n",
    "    Dni_geom.x = torch.ones((num_nodes_Dni, 50), dtype=torch.float)  # Features\n",
    "    Dni_geom.y = torch.tensor([0], dtype=torch.long)  # Label: 0 for disjoint graphs\n",
    "    dataset.append(Dni_geom)\n",
    "\n",
    "\n",
    "print(dataset[0], dataset[0].y)\n",
    "print(dataset[1], dataset[1].y)\n",
    "print(dataset[2], dataset[2].y)\n",
    "print(dataset[3], dataset[3].y)\n",
    "print(len(dataset))"
   ]
  },
  {
   "cell_type": "markdown",
   "metadata": {
    "id": "lCHkIGI1GzUG"
   },
   "source": [
    "## **Part 3.2: Defining the model**\n",
    "Let's define our graph neural network. First, we define a module for doing mean pooling."
   ]
  },
  {
   "cell_type": "code",
   "execution_count": 23,
   "metadata": {
    "id": "X-2yv-29GrRf"
   },
   "outputs": [],
   "source": [
    "class GlobalMeanPool(nn.Module):\n",
    "\t\"\"\"Global mean pool layer.\"\"\"\n",
    "\n",
    "\tdef forward(self, x, batch=None, size=None):\n",
    "\n",
    "\t\t# If we don't get the batch vector, set it to zeros.\n",
    "\t\tif batch is None:\n",
    "\t\t\tbatch = x.new_zeros(x.size(0), dtype=torch.int64)\n",
    "\n",
    "\t\treturn global_mean_pool(x, batch, size)"
   ]
  },
  {
   "cell_type": "markdown",
   "metadata": {
    "id": "X7opxSRFG355"
   },
   "source": [
    "This is the base GNN model. The function _layer_sequence specifies the list of modules which define the model."
   ]
  },
  {
   "cell_type": "code",
   "execution_count": 24,
   "metadata": {
    "id": "DrfFeTmaGrPU"
   },
   "outputs": [],
   "source": [
    "class GraphSequenceModel(nn.Module):\n",
    "\t\"\"\"A GNN consisting of a stack of layers.\"\"\"\n",
    "\n",
    "\tdef __init__(self, *args, **kwargs):\n",
    "\t\tsuper().__init__()\n",
    "\t\tsequence = self._layer_sequence(*args, **kwargs)\n",
    "\t\tself.stack = Sequential(\"x, edge_index, batch\", sequence)\n",
    "\n",
    "\tdef forward(self, batch):\n",
    "\t\treturn self.stack.forward(batch.x, batch.edge_index, batch.batch)\n",
    "\n",
    "\t@staticmethod\n",
    "\tdef _weight_reset(module):\n",
    "\t\tif isinstance(module, GCNConv) or isinstance(module, nn.Linear):\n",
    "\t\t\tmodule.reset_parameters()\n",
    "\n",
    "\tdef reset_parameters(self):\n",
    "\t\treturn self.stack.apply(type(self)._weight_reset)"
   ]
  },
  {
   "cell_type": "markdown",
   "metadata": {
    "id": "2IJTxiATG5_t"
   },
   "source": [
    "Finally, here is the model specification itself:"
   ]
  },
  {
   "cell_type": "code",
   "execution_count": 25,
   "metadata": {
    "id": "OqF39c80GrDL"
   },
   "outputs": [],
   "source": [
    "class MPNN(GraphSequenceModel):\n",
    "\t\"\"\"An MPNN with a `num_layers` message passing layers, then an MLP.\"\"\"\n",
    "\n",
    "\tdef _layer_sequence(self, num_layers=16):\n",
    "\n",
    "\t\t# The sequence of layers\n",
    "\t\tsequence = []\n",
    "\n",
    "\t\t# Add `num_layers` message passing layers\n",
    "\t\tfor i in range(num_layers):\n",
    "\t\t\tsequence.append((GCNConv(50, 50), f\"x, edge_index -> x\"))\n",
    "\t\t\tsequence.append(nn.ReLU())\n",
    "\n",
    "\t\t# A global mean pool layer\n",
    "\t\tsequence.append((GlobalMeanPool(), f\"x, batch -> x\"))\n",
    "\n",
    "\t\t# Add an MLP at the end\n",
    "\t\tsequence.extend([\n",
    "\t\t\t(nn.Linear(50, 70), \"x -> x\"),\n",
    "\t\t\tnn.ReLU(),\n",
    "\t\t\t(nn.Linear(70, 25), \"x -> x\"),\n",
    "\t\t\tnn.ReLU(),\n",
    "\t\t\t(nn.Linear(25,2), \"x -> x\")\n",
    "\t\t])\n",
    "\n",
    "\t\treturn sequence"
   ]
  },
  {
   "cell_type": "markdown",
   "metadata": {
    "id": "w74N0a4ZG9Uf"
   },
   "source": [
    "Let's now instantiate the model:"
   ]
  },
  {
   "cell_type": "code",
   "execution_count": 26,
   "metadata": {
    "id": "edtnuZ1LG9lq"
   },
   "outputs": [],
   "source": [
    "model1 = MPNN(num_layers=16).to(device)"
   ]
  },
  {
   "cell_type": "markdown",
   "metadata": {
    "id": "9VeNSF2cHBfa"
   },
   "source": [
    "## **Part 3.3: Training, testing and cross-validation functions**\n",
    "This is the generic training loop, which does one epoch-worth of training:\n"
   ]
  },
  {
   "cell_type": "code",
   "execution_count": 27,
   "metadata": {
    "id": "Zt4jkVa6mJRG"
   },
   "outputs": [],
   "source": [
    "def train_epoch(dataloader, model, loss_fn, optimiser):\n",
    "\t\"\"\"Do one epoch-worth of training.\"\"\"\n",
    "\n",
    "\t# Put the model in training mode\n",
    "\tmodel.train()\n",
    "\n",
    "\t# The number of datapoints\n",
    "\tsize = len(dataloader.dataset)\n",
    "\n",
    "\t# Loop over each batch of datapoints\n",
    "\tfor data in dataloader:\n",
    "\n",
    "\t\t# Set all the gradients to zero\n",
    "\t\toptimiser.zero_grad()\n",
    "\n",
    "\t\t# Make a prediction using the current parameters\n",
    "\t\tpred = model(data)\n",
    "\n",
    "\t\t# Compute the loss for this prediction\n",
    "\t\tloss = loss_fn(pred, data.y)\n",
    "\n",
    "\t\t# Propagate the loss backwards to compute the gradients\n",
    "\t\tloss.backward()\n",
    "\n",
    "\t\t# Do one step of optimisation\n",
    "\t\toptimiser.step()"
   ]
  },
  {
   "cell_type": "markdown",
   "metadata": {
    "id": "KKynlKpqmUKt"
   },
   "source": [
    "This function does a full train on the data:"
   ]
  },
  {
   "cell_type": "code",
   "execution_count": 28,
   "metadata": {
    "id": "lqSZEAhsHCGs"
   },
   "outputs": [],
   "source": [
    "def train(train_dataloader, test_dataloader, model, loss_fn, optimiser,\n",
    "\t\t  epochs=200, output_every=20):\n",
    "\t\"\"\"Train a model for a certain number of epochs.\"\"\"\n",
    "\n",
    "\t# Loop through the epochs\n",
    "\tfor t in range(1, epochs+1):\n",
    "\n",
    "\t\t# Do the training for this epoch\n",
    "\t\ttrain_epoch(train_dataloader, model, loss_fn, optimiser)\n",
    "\n",
    "\t\t# Output the accuracy of the model every so often\n",
    "\t\tif output_every is not None and t % output_every == 0:\n",
    "\t\t\tprint(f\"Epoch {t}\")\n",
    "\t\t\tprint(\"----------------------------\")\n",
    "\t\t\tprint(f\"Train accuracy: {test(train_dataloader, model):%}\")\n",
    "\t\t\tprint(f\"Test accuracy: {test(test_dataloader, model):%}\")\n",
    "\t\t\tprint()"
   ]
  },
  {
   "cell_type": "markdown",
   "metadata": {
    "id": "d75SYY2qHKw5"
   },
   "source": [
    "This function tests the model on the data, and returns the accuracy:"
   ]
  },
  {
   "cell_type": "code",
   "execution_count": 29,
   "metadata": {
    "id": "CqkcvyoVHBwH"
   },
   "outputs": [],
   "source": [
    "def test(dataloader, model):\n",
    "\t\"\"\"Test a model on some data.\"\"\"\n",
    "\n",
    "\t# Put the model in evaluation mode\n",
    "\tmodel.eval()\n",
    "\n",
    "\t# Get the number of datapoints\n",
    "\tsize = len(dataloader.dataset)\n",
    "\n",
    "\t# The number of correct predictions\n",
    "\tcorrect = 0\n",
    "\n",
    "\t# We don't want to be computing the gradients\n",
    "\twith torch.no_grad():\n",
    "\n",
    "\t\t# Loop through the minibatches\n",
    "\t\tfor data in dataloader:\n",
    "\n",
    "\t\t\t# Compute the model predictions\n",
    "\t\t\tpred = model(data)\n",
    "\n",
    "\t\t\t# Update with the number of correct predictions\n",
    "\t\t\tcorrect += (pred.argmax(1) == data.y).count_nonzero()\n",
    "\n",
    "\t# Compute the accuracy for the whole dataset and return it\n",
    "\treturn correct / len(dataloader.dataset)"
   ]
  },
  {
   "cell_type": "markdown",
   "metadata": {
    "id": "8zCwVq53HOVz"
   },
   "source": [
    "This function performs cross-validation on the dataset:"
   ]
  },
  {
   "cell_type": "code",
   "execution_count": 30,
   "metadata": {
    "id": "yYUaNfMpHP3-"
   },
   "outputs": [],
   "source": [
    "def cross_validate(dataset, model, loss_fn, optimiser, num_splits=5,\n",
    "\t\t\t\t   batch_size=32, epochs=200, output_every=20):\n",
    "\t\"\"\"Use k-fold cross validation to evaluate a model on a dataset.\n",
    "\n",
    "\tAssumes that the dataset is ordered into consecutive pairs, and then\n",
    "\tshuffles and splits the data so that both elements of each pair get into\n",
    "\tthe same split.\n",
    "\t\"\"\"\n",
    "\n",
    "\t# Get the number of graphs and number of pairs\n",
    "\tsize = len(dataset)\n",
    "\tnum_pairs = size / 2\n",
    "\n",
    "\t# Construct a permuter which keeps paired graphs together\n",
    "\tpair_permuter = rng.permutation(np.arange(num_pairs)) * 2\n",
    "\tgraph_permuter = np.empty((size,), dtype=int)\n",
    "\tgraph_permuter[0::2] = pair_permuter\n",
    "\tgraph_permuter[1::2] = pair_permuter + 1\n",
    "\n",
    "\t# Use the permuter to shuffle the dataset\n",
    "\tshuffled_dataset = []\n",
    "\tfor i in graph_permuter.flat:\n",
    "\t\tshuffled_dataset.append(dataset[i])\n",
    "\n",
    "\t# Arrays to store the train and test accuracies for each fold\n",
    "\ttrain_accuracies = np.zeros(num_splits)\n",
    "\ttest_accuracies = np.zeros(num_splits)\n",
    "\n",
    "\t# Loop over the folds\n",
    "\tfor fold in range(num_splits):\n",
    "\n",
    "\t\t# Print a header to mark this fold\n",
    "\t\tprint(f\"Fold {fold+1}\")\n",
    "\t\tprint(\"============================\")\n",
    "\t\tprint()\n",
    "\n",
    "\t\t# Calculate the current fold segment indices\n",
    "\t\tindex_min = int(((num_pairs * fold) // num_splits) * 2)\n",
    "\t\tindex_max = int(((num_pairs * (fold+1)) // num_splits) * 2)\n",
    "\n",
    "\t\t# print(index_min, index_max)\n",
    "\n",
    "\t\t# Split into train and test datasets\n",
    "\t\ttrain_dataset = (shuffled_dataset[:index_min]\n",
    "\t\t\t\t\t\t + shuffled_dataset[index_max:])\n",
    "\t\ttest_dataset = shuffled_dataset[index_min:index_max]\n",
    "\n",
    "\t\t# Turn these into torch_geometric dataloaders\n",
    "\t\ttrain_dataloader = DataLoader(train_dataset, batch_size=batch_size)\n",
    "\t\ttest_dataloader = DataLoader(test_dataset, batch_size=batch_size)\n",
    "\n",
    "\t\t# Reset the parameter of the model before training\n",
    "\t\tmodel.reset_parameters()\n",
    "\n",
    "\t\t# Train with these\n",
    "\t\ttrain(train_dataloader, test_dataloader, model, loss_fn, optimiser,\n",
    "\t\t\t  epochs, output_every)\n",
    "\n",
    "\t\t# Record the test and train accuracies for the trained model\n",
    "\t\ttrain_accuracies[fold] = test(train_dataloader, model)\n",
    "\t\ttest_accuracies[fold] = test(test_dataloader, model)\n",
    "\n",
    "\t# Print the Train and test accuracies for each fold\n",
    "\tprint(f\"{num_splits}-fold validation summary\")\n",
    "\tprint(\"============================\")\n",
    "\tfor fold in range(num_splits):\n",
    "\t\tprint(f\"Fold {fold+1}. Train: {train_accuracies[fold]:09.5%} \"\n",
    "\t\t\t  f\"Test: {test_accuracies[fold]:09.5%}\")\n"
   ]
  },
  {
   "cell_type": "markdown",
   "metadata": {
    "id": "poftURRdHQMU"
   },
   "source": [
    "## Task 3.4: Training the model\n",
    "\n",
    "Specify loss and optimiser and train the model using the `cross_validate` function. Use a learning rate of 1e-3 and 100 epochs. What results do you get? Is it possible to improve the architecture to get a better test accuracy? Why?"
   ]
  },
  {
   "cell_type": "code",
   "execution_count": 32,
   "metadata": {
    "id": "_kmLe-25HU_I"
   },
   "outputs": [
    {
     "name": "stdout",
     "output_type": "stream",
     "text": [
      "Fold 1\n",
      "============================\n",
      "\n",
      "Epoch 20\n",
      "----------------------------\n",
      "Train accuracy: 50.000000%\n",
      "Test accuracy: 50.000000%\n",
      "\n",
      "Epoch 40\n",
      "----------------------------\n",
      "Train accuracy: 50.000000%\n",
      "Test accuracy: 50.000000%\n",
      "\n",
      "Epoch 60\n",
      "----------------------------\n",
      "Train accuracy: 50.000000%\n",
      "Test accuracy: 50.000000%\n",
      "\n",
      "Epoch 80\n",
      "----------------------------\n",
      "Train accuracy: 50.000000%\n",
      "Test accuracy: 50.000000%\n",
      "\n",
      "Epoch 100\n",
      "----------------------------\n",
      "Train accuracy: 50.000000%\n",
      "Test accuracy: 50.000000%\n",
      "\n",
      "Fold 2\n",
      "============================\n",
      "\n",
      "Epoch 20\n",
      "----------------------------\n",
      "Train accuracy: 50.000000%\n",
      "Test accuracy: 50.000000%\n",
      "\n",
      "Epoch 40\n",
      "----------------------------\n",
      "Train accuracy: 50.000000%\n",
      "Test accuracy: 50.000000%\n",
      "\n",
      "Epoch 60\n",
      "----------------------------\n",
      "Train accuracy: 50.000000%\n",
      "Test accuracy: 50.000000%\n",
      "\n",
      "Epoch 80\n",
      "----------------------------\n",
      "Train accuracy: 50.000000%\n",
      "Test accuracy: 50.000000%\n",
      "\n",
      "Epoch 100\n",
      "----------------------------\n",
      "Train accuracy: 50.000000%\n",
      "Test accuracy: 50.000000%\n",
      "\n",
      "Fold 3\n",
      "============================\n",
      "\n",
      "Epoch 20\n",
      "----------------------------\n",
      "Train accuracy: 50.000000%\n",
      "Test accuracy: 50.000000%\n",
      "\n",
      "Epoch 40\n",
      "----------------------------\n",
      "Train accuracy: 50.000000%\n",
      "Test accuracy: 50.000000%\n",
      "\n",
      "Epoch 60\n",
      "----------------------------\n",
      "Train accuracy: 50.000000%\n",
      "Test accuracy: 50.000000%\n",
      "\n",
      "Epoch 80\n",
      "----------------------------\n",
      "Train accuracy: 50.000000%\n",
      "Test accuracy: 50.000000%\n",
      "\n",
      "Epoch 100\n",
      "----------------------------\n",
      "Train accuracy: 50.000000%\n",
      "Test accuracy: 50.000000%\n",
      "\n",
      "Fold 4\n",
      "============================\n",
      "\n",
      "Epoch 20\n",
      "----------------------------\n",
      "Train accuracy: 50.000000%\n",
      "Test accuracy: 50.000000%\n",
      "\n",
      "Epoch 40\n",
      "----------------------------\n",
      "Train accuracy: 50.000000%\n",
      "Test accuracy: 50.000000%\n",
      "\n",
      "Epoch 60\n",
      "----------------------------\n",
      "Train accuracy: 50.000000%\n",
      "Test accuracy: 50.000000%\n",
      "\n",
      "Epoch 80\n",
      "----------------------------\n",
      "Train accuracy: 50.000000%\n",
      "Test accuracy: 50.000000%\n",
      "\n",
      "Epoch 100\n",
      "----------------------------\n",
      "Train accuracy: 50.000000%\n",
      "Test accuracy: 50.000000%\n",
      "\n",
      "Fold 5\n",
      "============================\n",
      "\n",
      "Epoch 20\n",
      "----------------------------\n",
      "Train accuracy: 50.000000%\n",
      "Test accuracy: 50.000000%\n",
      "\n",
      "Epoch 40\n",
      "----------------------------\n",
      "Train accuracy: 50.000000%\n",
      "Test accuracy: 50.000000%\n",
      "\n",
      "Epoch 60\n",
      "----------------------------\n",
      "Train accuracy: 50.000000%\n",
      "Test accuracy: 50.000000%\n",
      "\n",
      "Epoch 80\n",
      "----------------------------\n",
      "Train accuracy: 50.000000%\n",
      "Test accuracy: 50.000000%\n",
      "\n",
      "Epoch 100\n",
      "----------------------------\n",
      "Train accuracy: 50.000000%\n",
      "Test accuracy: 50.000000%\n",
      "\n",
      "5-fold validation summary\n",
      "============================\n",
      "Fold 1. Train: 50.00000% Test: 50.00000%\n",
      "Fold 2. Train: 50.00000% Test: 50.00000%\n",
      "Fold 3. Train: 50.00000% Test: 50.00000%\n",
      "Fold 4. Train: 50.00000% Test: 50.00000%\n",
      "Fold 5. Train: 50.00000% Test: 50.00000%\n"
     ]
    }
   ],
   "source": [
    "# Loss function\n",
    "loss_fn = nn.CrossEntropyLoss()\n",
    "\n",
    "# Optimizer\n",
    "learning_rate = 1e-3\n",
    "optimiser = optim.Adam(model1.parameters(), lr=learning_rate)\n",
    "\n",
    "# Training configuration\n",
    "epochs = 100\n",
    "num_splits = 5  # Number of folds for cross-validation\n",
    "batch_size = 32\n",
    "\n",
    "# Train and evaluate the model using cross-validation\n",
    "cross_validate(\n",
    "    dataset=dataset,  # The dataset from Task 3.1\n",
    "    model=model1,\n",
    "    loss_fn=loss_fn,\n",
    "    optimiser=optimiser,\n",
    "    num_splits=num_splits,\n",
    "    batch_size=batch_size,\n",
    "    epochs=epochs,\n",
    "    output_every=20\n",
    ")"
   ]
  },
  {
   "cell_type": "markdown",
   "metadata": {},
   "source": [
    "<style>\n",
    "r { color: Red }\n",
    "o { color: Orange }\n",
    "g { color: Green }\n",
    "</style>\n",
    "<o>\n",
    "\n",
    "- By initializing the node feature an array of 50 elements each set to 1, the model fails to learn anything as expected as the expressive power of MPNN is at most as its of 1-WL test and 1-WL test can't tell our graph pair apart.\n",
    "\n",
    "- Early tasks suggest us to use shortest path between nodes as the node feature matrix with appropriate padding (dim1=50).\n",
    "</o>"
   ]
  },
  {
   "cell_type": "code",
   "execution_count": 33,
   "metadata": {},
   "outputs": [
    {
     "name": "stdout",
     "output_type": "stream",
     "text": [
      "Data(edge_index=[2, 12], num_nodes=6, x=[6, 50], y=[1]) tensor([1])\n",
      "Data(edge_index=[2, 12], num_nodes=6, x=[6, 50], y=[1]) tensor([0])\n",
      "Data(edge_index=[2, 14], num_nodes=7, x=[7, 50], y=[1]) tensor([1])\n",
      "Data(edge_index=[2, 14], num_nodes=7, x=[7, 50], y=[1]) tensor([0])\n",
      "110\n"
     ]
    }
   ],
   "source": [
    "# The list of Data objects\n",
    "modified_dataset = []\n",
    "\n",
    "# Loop over graph pairs\n",
    "for Cn, Dni in graph_pairs:\n",
    "    # Process the cycle graph (Cn)\n",
    "    Cn_geom = from_networkx(Cn)\n",
    "    num_nodes_Cn = Cn.number_of_nodes()\n",
    "\n",
    "    # Compute shortest path matrix and use it as node features\n",
    "    sp_matrix_Cn = torch.tensor(node_shortest_paths(Cn), dtype=torch.float)\n",
    "    Cn_geom.x = F.pad(sp_matrix_Cn, (0, 50-sp_matrix_Cn.size(0))) # Pad to dim 50\n",
    "    Cn_geom.y = torch.tensor([1], dtype=torch.long)  # Label: 1 for cycle graphs\n",
    "    modified_dataset.append(Cn_geom)\n",
    "\n",
    "    # Process the disjoint union graph (Dni)\n",
    "    Dni_geom = from_networkx(Dni)\n",
    "    num_nodes_Dni = Dni.number_of_nodes()\n",
    "\n",
    "    # Compute shortest path matrix and use it as node features\n",
    "    sp_matrix_Dni = torch.tensor(node_shortest_paths(Dni), dtype=torch.float)\n",
    "    Dni_geom.x = F.pad(sp_matrix_Dni, (0, 50-sp_matrix_Dni.size(0)))\n",
    "    Dni_geom.y = torch.tensor([0], dtype=torch.long)  # Label: 0 for disjoint graphs\n",
    "    modified_dataset.append(Dni_geom)\n",
    "    \n",
    "print(modified_dataset[0], modified_dataset[0].y)\n",
    "print(modified_dataset[1], modified_dataset[1].y)\n",
    "print(modified_dataset[2], modified_dataset[2].y)\n",
    "print(modified_dataset[3], modified_dataset[3].y)\n",
    "print(len(modified_dataset))"
   ]
  },
  {
   "cell_type": "code",
   "execution_count": 34,
   "metadata": {},
   "outputs": [],
   "source": [
    "model2 = MPNN(num_layers=16).to(device)"
   ]
  },
  {
   "cell_type": "code",
   "execution_count": 35,
   "metadata": {},
   "outputs": [
    {
     "name": "stdout",
     "output_type": "stream",
     "text": [
      "Fold 1\n",
      "============================\n",
      "\n",
      "Epoch 20\n",
      "----------------------------\n",
      "Train accuracy: 50.000000%\n",
      "Test accuracy: 50.000000%\n",
      "\n",
      "Epoch 40\n",
      "----------------------------\n",
      "Train accuracy: 50.000000%\n",
      "Test accuracy: 50.000000%\n",
      "\n",
      "Epoch 60\n",
      "----------------------------\n",
      "Train accuracy: 50.000000%\n",
      "Test accuracy: 50.000000%\n",
      "\n",
      "Epoch 80\n",
      "----------------------------\n",
      "Train accuracy: 50.000000%\n",
      "Test accuracy: 50.000000%\n",
      "\n",
      "Epoch 100\n",
      "----------------------------\n",
      "Train accuracy: 50.000000%\n",
      "Test accuracy: 50.000000%\n",
      "\n",
      "Fold 2\n",
      "============================\n",
      "\n",
      "Epoch 20\n",
      "----------------------------\n",
      "Train accuracy: 50.000000%\n",
      "Test accuracy: 50.000000%\n",
      "\n",
      "Epoch 40\n",
      "----------------------------\n",
      "Train accuracy: 50.000000%\n",
      "Test accuracy: 50.000000%\n",
      "\n",
      "Epoch 60\n",
      "----------------------------\n",
      "Train accuracy: 50.000000%\n",
      "Test accuracy: 50.000000%\n",
      "\n",
      "Epoch 80\n",
      "----------------------------\n",
      "Train accuracy: 50.000000%\n",
      "Test accuracy: 50.000000%\n",
      "\n",
      "Epoch 100\n",
      "----------------------------\n",
      "Train accuracy: 50.000000%\n",
      "Test accuracy: 50.000000%\n",
      "\n",
      "Fold 3\n",
      "============================\n",
      "\n",
      "Epoch 20\n",
      "----------------------------\n",
      "Train accuracy: 100.000000%\n",
      "Test accuracy: 100.000000%\n",
      "\n",
      "Epoch 40\n",
      "----------------------------\n",
      "Train accuracy: 100.000000%\n",
      "Test accuracy: 100.000000%\n",
      "\n",
      "Epoch 60\n",
      "----------------------------\n",
      "Train accuracy: 100.000000%\n",
      "Test accuracy: 100.000000%\n",
      "\n",
      "Epoch 80\n",
      "----------------------------\n",
      "Train accuracy: 100.000000%\n",
      "Test accuracy: 100.000000%\n",
      "\n",
      "Epoch 100\n",
      "----------------------------\n",
      "Train accuracy: 100.000000%\n",
      "Test accuracy: 100.000000%\n",
      "\n",
      "Fold 4\n",
      "============================\n",
      "\n",
      "Epoch 20\n",
      "----------------------------\n",
      "Train accuracy: 100.000000%\n",
      "Test accuracy: 100.000000%\n",
      "\n",
      "Epoch 40\n",
      "----------------------------\n",
      "Train accuracy: 100.000000%\n",
      "Test accuracy: 100.000000%\n",
      "\n",
      "Epoch 60\n",
      "----------------------------\n",
      "Train accuracy: 100.000000%\n",
      "Test accuracy: 100.000000%\n",
      "\n",
      "Epoch 80\n",
      "----------------------------\n",
      "Train accuracy: 100.000000%\n",
      "Test accuracy: 100.000000%\n",
      "\n",
      "Epoch 100\n",
      "----------------------------\n",
      "Train accuracy: 100.000000%\n",
      "Test accuracy: 100.000000%\n",
      "\n",
      "Fold 5\n",
      "============================\n",
      "\n",
      "Epoch 20\n",
      "----------------------------\n",
      "Train accuracy: 100.000000%\n",
      "Test accuracy: 100.000000%\n",
      "\n",
      "Epoch 40\n",
      "----------------------------\n",
      "Train accuracy: 100.000000%\n",
      "Test accuracy: 100.000000%\n",
      "\n",
      "Epoch 60\n",
      "----------------------------\n",
      "Train accuracy: 100.000000%\n",
      "Test accuracy: 100.000000%\n",
      "\n",
      "Epoch 80\n",
      "----------------------------\n",
      "Train accuracy: 100.000000%\n",
      "Test accuracy: 100.000000%\n",
      "\n",
      "Epoch 100\n",
      "----------------------------\n",
      "Train accuracy: 100.000000%\n",
      "Test accuracy: 100.000000%\n",
      "\n",
      "5-fold validation summary\n",
      "============================\n",
      "Fold 1. Train: 50.00000% Test: 50.00000%\n",
      "Fold 2. Train: 50.00000% Test: 50.00000%\n",
      "Fold 3. Train: 100.00000% Test: 100.00000%\n",
      "Fold 4. Train: 100.00000% Test: 100.00000%\n",
      "Fold 5. Train: 100.00000% Test: 100.00000%\n"
     ]
    }
   ],
   "source": [
    "# Loss function\n",
    "loss_fn = nn.CrossEntropyLoss()\n",
    "\n",
    "# Optimizer\n",
    "learning_rate = 1e-3\n",
    "optimiser = optim.Adam(model1.parameters(), lr=learning_rate)\n",
    "\n",
    "# Training configuration\n",
    "epochs = 100\n",
    "num_splits = 5  # Number of folds for cross-validation\n",
    "batch_size = 32\n",
    "\n",
    "# Train and evaluate the model using cross-validation\n",
    "cross_validate(\n",
    "    dataset=modified_dataset,\n",
    "    model=model2,\n",
    "    loss_fn=loss_fn,\n",
    "    optimiser=optimiser,\n",
    "    num_splits=num_splits,\n",
    "    batch_size=batch_size,\n",
    "    epochs=epochs,\n",
    "    output_every=20\n",
    ")"
   ]
  }
 ],
 "metadata": {
  "colab": {
   "provenance": []
  },
  "kernelspec": {
   "display_name": "GRL",
   "language": "python",
   "name": "python3"
  },
  "language_info": {
   "codemirror_mode": {
    "name": "ipython",
    "version": 3
   },
   "file_extension": ".py",
   "mimetype": "text/x-python",
   "name": "python",
   "nbconvert_exporter": "python",
   "pygments_lexer": "ipython3",
   "version": "3.9.20"
  }
 },
 "nbformat": 4,
 "nbformat_minor": 0
}
