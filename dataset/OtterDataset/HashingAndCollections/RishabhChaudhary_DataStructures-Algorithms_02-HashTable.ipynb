{
 "cells": [
  {
   "cell_type": "markdown",
   "metadata": {},
   "source": [
    "# Hash Table\n",
    "\n",
    "## Content\n",
    "\n",
    "1. [Introduction](#Introduction)\n",
    "2. [Implementation](#Implementation)\n",
    "3. [Applications](#Applications)\n",
    "4. [Practice Problems](#Practice-Problems)\n"
   ]
  },
  {
   "cell_type": "markdown",
   "metadata": {},
   "source": [
    "## Introduction\n",
    "\n",
    "A hash table is a data structure that stores key-value pairs. It uses a hash function to compute an index into an array of buckets or slots, from which the desired value can be found. The hash function is used to transform the key into the index (the hash) of an array element (the slot or bucket) where the corresponding value is to be sought."
   ]
  },
  {
   "cell_type": "markdown",
   "metadata": {},
   "source": [
    "## Implementation"
   ]
  },
  {
   "cell_type": "code",
   "execution_count": 39,
   "metadata": {},
   "outputs": [],
   "source": [
    "# Let's define the basic bloc that will store the data -> Lined List Node\n",
    "class Node:\n",
    "    def __init__(self, key, data) -> None:\n",
    "        self.data = data\n",
    "        self.key = key\n",
    "        self.next = None\n",
    "    \n",
    "    def __repr__(self) -> str:\n",
    "        return f\"Node({self.key}, {self.data}, {self.next})\""
   ]
  },
  {
   "cell_type": "code",
   "execution_count": 61,
   "metadata": {},
   "outputs": [],
   "source": [
    "# Let's create a the has table structure now\n",
    "class HashTable:\n",
    "    def __init__(self, size) -> None:\n",
    "        self.size = size\n",
    "        self.table = [None] * self.size\n",
    "\n",
    "    # inserting elements into hash table\n",
    "    def insert(self, key, data):\n",
    "        idx = hash(key) % self.size\n",
    "        new_node = Node(key, data)\n",
    "        if self.table[idx] is None:\n",
    "            self.table[idx] = new_node\n",
    "\n",
    "        else:\n",
    "            cur = self.table[idx]\n",
    "            while cur.next:\n",
    "                cur = cur.next\n",
    "            cur.next = new_node\n",
    "\n",
    "    # access elements fomr the table\n",
    "    def get(self, key):\n",
    "        idx = hash(key) % self.size\n",
    "        if self.table[idx]:\n",
    "            cur = self.table[idx]\n",
    "            while cur:\n",
    "                # print(cur)\n",
    "                if cur.key == key:\n",
    "                    return cur.data\n",
    "                cur = cur.next\n",
    "\n",
    "        raise KeyError(key)"
   ]
  },
  {
   "cell_type": "code",
   "execution_count": 66,
   "metadata": {},
   "outputs": [],
   "source": [
    "table1 = HashTable(5)\n",
    "table1.insert(\"A\", 1)\n",
    "table1.insert(\"B\", 2)\n",
    "table1.insert(\"C\", 9)"
   ]
  },
  {
   "cell_type": "code",
   "execution_count": 67,
   "metadata": {},
   "outputs": [
    {
     "data": {
      "text/plain": [
       "(1, 2, 9)"
      ]
     },
     "execution_count": 67,
     "metadata": {},
     "output_type": "execute_result"
    }
   ],
   "source": [
    "table1.get(\"A\"),table1.get(\"B\"),table1.get(\"C\")"
   ]
  },
  {
   "cell_type": "markdown",
   "metadata": {},
   "source": [
    "## Applications\n",
    "\n",
    "- Associative arrays\n",
    "    - A hash table can be used to implement a simple associative array, a structure that can map keys to values. For example, a hash table can be used to store the frequency of words in a document.\n",
    "- Database indexing\n",
    "    - Hash tables can be used to implement database indexing. For example, a hash table can be used to store the primary key of a record and the location of the record in the database.\n",
    "- Caches\n",
    "    - Hash tables can be used to implement caches. For example, a hash table can be used to store the most recently accessed items in a cache.\n",
    "- Sets\n",
    "    - Hash tables can be used to implement sets. For example, a hash table can be used to store the elements of a set and check if an element is in the set.\n",
    "- Implementing a dictionary\n",
    "    - Hash tables can be used to implement a dictionary. For example, a hash table can be used to store the words in a dictionary and their definitions.\n"
   ]
  },
  {
   "cell_type": "markdown",
   "metadata": {},
   "source": [
    "## Practice Problems\n",
    "\n",
    "- [Two Sum](https://leetcode.com/problems/two-sum/)\n",
    "- [Contains Duplicate](https://leetcode.com/problems/contains-duplicate/)\n",
    "- [Isomorphic Strings](https://leetcode.com/problems/isomorphic-strings/)\n",
    "- [Word Pattern](https://leetcode.com/problems/word-pattern/)\n",
    "- [Group Anagrams](https://leetcode.com/problems/group-anagrams/)\n",
    "- [Valid Anagram](https://leetcode.com/problems/valid-anagram/)\n",
    "- [Valid Sudoku](https://leetcode.com/problems/valid-sudoku/)\n",
    "- [Longest Substring Without Repeating Characters](https://leetcode.com/problems/longest-substring-without-repeating-characters/)\n",
    "- [Minimum Window Substring](https://leetcode.com/problems/minimum-window-substring/)\n",
    "- [Longest Substring with At Most K Distinct Characters](https://leetcode.com/problems/longest-substring-with-at-most-k-distinct-characters/)\n",
    "- [Longest Substring with At Least K Repeating Characters](https://leetcode.com/problems/longest-substring-with-at-least-k-repeating-characters/)\n",
    "- [Find All Anagrams in a String](https://leetcode.com/problems/find-all-anagrams-in-a-string/)\n",
    "- [Subarray Sum Equals K](https://leetcode.com/problems/subarray-sum-equals-k/)\n",
    "- [Longest Consecutive Sequence](https://leetcode.com/problems/longest-consecutive-sequence/)\n",
    "- [Longest Subarray of 1's After Deleting One Element](https://leetcode.com/problems/longest-subarray-of-1s-after-deleting-one-element/)\n"
   ]
  },
  {
   "cell_type": "code",
   "execution_count": null,
   "metadata": {},
   "outputs": [],
   "source": []
  }
 ],
 "metadata": {
  "kernelspec": {
   "display_name": "llama",
   "language": "python",
   "name": "python3"
  },
  "language_info": {
   "codemirror_mode": {
    "name": "ipython",
    "version": 3
   },
   "file_extension": ".py",
   "mimetype": "text/x-python",
   "name": "python",
   "nbconvert_exporter": "python",
   "pygments_lexer": "ipython3",
   "version": "undefined.undefined.undefined"
  }
 },
 "nbformat": 4,
 "nbformat_minor": 2
}
