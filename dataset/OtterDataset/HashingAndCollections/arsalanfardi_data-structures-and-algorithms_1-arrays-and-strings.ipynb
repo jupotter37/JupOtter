{
 "cells": [
  {
   "cell_type": "markdown",
   "id": "c32bd6f8",
   "metadata": {},
   "source": [
    "#### Hash Tables\n",
    "\n",
    "A hash table is a data structure which maps keys to values for highly efficient lookup. In a good implementation, the lookup time is **O(1)**, however it can have a worst case of **O(N)** in the case that there are many collisions.\n",
    "\n",
    "A simple implementation of a hash table can involve an array of linked lists and a hash code function, as follows:\n",
    "\n",
    "1. Compute the key's hash code (which will usually be an int or a long) using the **hash function**. Note, different keys could have the same hash code due to an infinite number of keys and a finite number of ints.\n",
    "2. Map the hashcode to the index of an array. This could be done with something like hash(key) % array_max_length. Different hash codes could map to the same index or two different keys could have the same hashcode.\n",
    "3. At this index, there is a linked list of keys and values. We use a linked list to account for collisions.\n",
    "\n",
    "<img src=\"assets/hash-table.png\" width=\"400\">\n",
    "\n",
    "An implementation of a hash table is shown below."
   ]
  },
  {
   "cell_type": "code",
   "execution_count": 77,
   "id": "ae0968f8",
   "metadata": {},
   "outputs": [],
   "source": [
    "class HashTable:\n",
    "    def __init__(self):\n",
    "        self.ARRAY_LENGTH = 10\n",
    "        self.array = [None] * self.ARRAY_LENGTH\n",
    "\n",
    "    def add(self, key: str, val: float):\n",
    "        idx = self.__hash_function(key)\n",
    "        if self.array[idx] == None:\n",
    "            self.array[idx] = LinkedList()\n",
    "        self.array[idx].insert(key, val) \n",
    "    \n",
    "    def get(self, key: str):\n",
    "        idx = self.__hash_function(key)\n",
    "        val = self.array[idx].find(key)\n",
    "        \n",
    "        if val is None:\n",
    "            raise KeyError(\"Key was not found!\")\n",
    "        else:\n",
    "            return val\n",
    "    \n",
    "    def __hash_function(self, string: str) -> int: \n",
    "        hash_val = 0\n",
    "        for i, ch in enumerate(string):\n",
    "            hash_val += (i + len(string)) ** ord(ch)\n",
    "        # Perform modulus to stay in range of max length\n",
    "        return hash_val % self.ARRAY_LENGTH\n",
    "    \n",
    "    def __str__(self):\n",
    "        s = \"\"\n",
    "        for i in range(len(self.array)):\n",
    "            s += f\"{i}: {self.array[i]}\\n\"\n",
    "        return s\n",
    "\n",
    "class LinkedList:\n",
    "    def __init__(self):\n",
    "        self.head = None\n",
    "        self.curr = None\n",
    "    \n",
    "    def insert(self, key: str, val: float):\n",
    "        if self.head is None:\n",
    "            self.head = self.Node(key, val)\n",
    "            self.curr = self.head\n",
    "        else:\n",
    "            self.curr.next = self.Node(key, val)\n",
    "            self.curr = self.curr.next\n",
    "    \n",
    "    def find(self, key: str):\n",
    "        if self.head is None:\n",
    "            return self.head\n",
    "        \n",
    "        curr = self.head\n",
    "        while True:\n",
    "            if curr.key == key:\n",
    "                return curr.val\n",
    "            if curr.next is None:\n",
    "                return curr.next\n",
    "            curr = curr.next\n",
    "    \n",
    "    def __str__(self):\n",
    "        s = \"\"\n",
    "        if self.head is None:\n",
    "            return s\n",
    "        \n",
    "        curr = self.head\n",
    "        while True:\n",
    "            s += f\"({curr.key}, {curr.val})\"\n",
    "            \n",
    "            if curr.next is None:\n",
    "                return s\n",
    "            \n",
    "            s += \", \"\n",
    "            curr = curr.next\n",
    "    \n",
    "    class Node: \n",
    "        def __init__(self, key: str, val: float):\n",
    "            self.key = key\n",
    "            self.val = val\n",
    "            self.next: Node = None"
   ]
  },
  {
   "cell_type": "code",
   "execution_count": 84,
   "id": "d2462db9",
   "metadata": {},
   "outputs": [
    {
     "name": "stdout",
     "output_type": "stream",
     "text": [
      "0: (ability, 9), (absolute, 20), (accommodate, 48), (accounts, 61), (achievement, 73), (acquisition, 85), (acrylic, 91)\n",
      "1: (a, 0), (ab, 4), (abandoned, 5), (aboriginal, 11), (accent, 32), (accept, 33), (access, 39), (accessible, 42), (accessory, 45), (accidents, 47), (accommodation, 49), (accomplish, 53), (accounting, 60), (accurately, 66)\n",
      "2: (aaa, 2), (able, 10), (absence, 18), (academic, 28), (acc, 31), (accepts, 38), (accessed, 40), (accompanied, 51), (accordingly, 57), (accused, 67), (ace, 69), (acm, 80), (acne, 81), (acre, 87), (act, 92), (actions, 95)\n",
      "3: (aaron, 3), (about, 13), (absorption, 22), (abstracts, 24), (acceptable, 34), (accepting, 37), (accessibility, 41), (accordance, 55), (accredited, 63), (acdbentity, 68), (acids, 77), (across, 90)\n",
      "4: (abc, 6), (abs, 17), (abu, 25), (academy, 30), (accepted, 36), (accomplished, 54), (account, 58), (accuracy, 64), (acer, 70), (acknowledge, 78), (acrobat, 89)\n",
      "5: (aa, 1), (absolutely, 21), (achieving, 75), (acting, 93), (action, 94), (active, 98)\n",
      "6: (abstract, 23), (accompanying, 52), (accurate, 65), (achievements, 74), (acid, 76), (acknowledged, 79), (acoustic, 82), (acquire, 83), (actively, 99)\n",
      "7: (above, 14), (absent, 19), (academics, 29), (accessing, 43), (accommodations, 50), (according, 56), (acres, 88), (activated, 96), (activation, 97)\n",
      "8: (aberdeen, 7), (abortion, 12), (abraham, 15), (accessories, 44), (accident, 46), (achieve, 71), (achieved, 72), (acquired, 84), (acquisitions, 86)\n",
      "9: (abilities, 8), (abroad, 16), (abuse, 26), (ac, 27), (acceptance, 35), (accountability, 59), (accreditation, 62)\n",
      "\n",
      "59\n"
     ]
    }
   ],
   "source": [
    "import requests\n",
    "import random\n",
    "\n",
    "hash_table = HashTable()\n",
    "\n",
    "content = requests.get(\"https://www.mit.edu/~ecprice/wordlist.10000\").content\n",
    "words = content.splitlines()\n",
    "\n",
    "for i, word in enumerate(words[:100]):\n",
    "    # Convert from byte to string and store in hash table\n",
    "    hash_table.add(word.decode(\"utf-8\"), i)\n",
    "\n",
    "print(hash_table)\n",
    "print(hash_table.get(\"accountability\"))"
   ]
  },
  {
   "cell_type": "markdown",
   "id": "c84566a9",
   "metadata": {},
   "source": [
    "#### ArrayList & Resizable Arrays\n",
    "\n",
    "In certain languages, when you need array-like data structures with dynamic resizing, you usually use an ArrayList. An ArrayList resizes itself as needed while still providing **O(1)** access. Each resizing takes O(n) time but due to **amortized** insertion time is still O(1).\n",
    "\n",
    "Typically, when the array is full, the array doubles in size (although in some languages like Java the size might increase by 50% or another value).\n",
    "\n",
    "An implementation of an ArrayList is shown below.\n"
   ]
  },
  {
   "cell_type": "code",
   "execution_count": 9,
   "id": "88aa229a",
   "metadata": {},
   "outputs": [],
   "source": [
    "class ArrayList:\n",
    "    def __init__(self):\n",
    "        self.MAX_LENGTH = 10\n",
    "        self.size = 0\n",
    "        self._array = [None] * self.MAX_LENGTH\n",
    "    \n",
    "    def add(self, item):\n",
    "        if self.size >= self.MAX_LENGTH:\n",
    "            self.__grow()\n",
    "        self._array[self.size] = item\n",
    "        self.size += 1\n",
    "    \n",
    "    def get(self, index):\n",
    "        if index >= self.size or index < 0:\n",
    "            raise IndexError(\"List index out of range\")\n",
    "        return self.array[index]\n",
    "    \n",
    "    def delete(self, index):\n",
    "        if index >= self.size or index < 0:\n",
    "            raise IndexError(\"List index out of range\")\n",
    "        \n",
    "        for i in range(index, self.size):\n",
    "            self._array[i] = self._array[i+1]\n",
    "        \n",
    "        self.size -= 1\n",
    "    \n",
    "    def __grow(self):\n",
    "        self.MAX_LENGTH *= 2\n",
    "        new_array = [None] * self.MAX_LENGTH\n",
    "        for i, item in enumerate(self._array):\n",
    "            new_array[i] = item\n",
    "        self._array = new_array\n",
    "        print(f\"New array length is {len(self._array)}\")\n",
    "    \n",
    "    @property\n",
    "    def array(self):\n",
    "        \"\"\"Getter for array.\"\"\"\n",
    "        return self._array[:self.size]"
   ]
  },
  {
   "cell_type": "code",
   "execution_count": 10,
   "id": "5e235208",
   "metadata": {},
   "outputs": [
    {
     "name": "stdout",
     "output_type": "stream",
     "text": [
      "New array length is 20\n",
      "New array length is 40\n",
      "New array length is 80\n",
      "New array length is 160\n",
      "0 89\n"
     ]
    },
    {
     "ename": "IndexError",
     "evalue": "List index out of range",
     "output_type": "error",
     "traceback": [
      "\u001b[1;31m---------------------------------------------------------------------------\u001b[0m",
      "\u001b[1;31mIndexError\u001b[0m                                Traceback (most recent call last)",
      "\u001b[1;32m~\\AppData\\Local\\Temp/ipykernel_16904/2340740623.py\u001b[0m in \u001b[0;36m<module>\u001b[1;34m\u001b[0m\n\u001b[0;32m      5\u001b[0m \u001b[1;33m\u001b[0m\u001b[0m\n\u001b[0;32m      6\u001b[0m \u001b[0mprint\u001b[0m\u001b[1;33m(\u001b[0m\u001b[0marray_list\u001b[0m\u001b[1;33m.\u001b[0m\u001b[0mget\u001b[0m\u001b[1;33m(\u001b[0m\u001b[1;36m0\u001b[0m\u001b[1;33m)\u001b[0m\u001b[1;33m,\u001b[0m \u001b[0marray_list\u001b[0m\u001b[1;33m.\u001b[0m\u001b[0mget\u001b[0m\u001b[1;33m(\u001b[0m\u001b[1;36m89\u001b[0m\u001b[1;33m)\u001b[0m\u001b[1;33m)\u001b[0m\u001b[1;33m\u001b[0m\u001b[1;33m\u001b[0m\u001b[0m\n\u001b[1;32m----> 7\u001b[1;33m \u001b[0mprint\u001b[0m\u001b[1;33m(\u001b[0m\u001b[0marray_list\u001b[0m\u001b[1;33m.\u001b[0m\u001b[0mget\u001b[0m\u001b[1;33m(\u001b[0m\u001b[1;36m90\u001b[0m\u001b[1;33m)\u001b[0m\u001b[1;33m)\u001b[0m\u001b[1;33m\u001b[0m\u001b[1;33m\u001b[0m\u001b[0m\n\u001b[0m",
      "\u001b[1;32m~\\AppData\\Local\\Temp/ipykernel_16904/1346475811.py\u001b[0m in \u001b[0;36mget\u001b[1;34m(self, index)\u001b[0m\n\u001b[0;32m     13\u001b[0m     \u001b[1;32mdef\u001b[0m \u001b[0mget\u001b[0m\u001b[1;33m(\u001b[0m\u001b[0mself\u001b[0m\u001b[1;33m,\u001b[0m \u001b[0mindex\u001b[0m\u001b[1;33m)\u001b[0m\u001b[1;33m:\u001b[0m\u001b[1;33m\u001b[0m\u001b[1;33m\u001b[0m\u001b[0m\n\u001b[0;32m     14\u001b[0m         \u001b[1;32mif\u001b[0m \u001b[0mindex\u001b[0m \u001b[1;33m>=\u001b[0m \u001b[0mself\u001b[0m\u001b[1;33m.\u001b[0m\u001b[0msize\u001b[0m \u001b[1;32mor\u001b[0m \u001b[0mindex\u001b[0m \u001b[1;33m<\u001b[0m \u001b[1;36m0\u001b[0m\u001b[1;33m:\u001b[0m\u001b[1;33m\u001b[0m\u001b[1;33m\u001b[0m\u001b[0m\n\u001b[1;32m---> 15\u001b[1;33m             \u001b[1;32mraise\u001b[0m \u001b[0mIndexError\u001b[0m\u001b[1;33m(\u001b[0m\u001b[1;34m\"List index out of range\"\u001b[0m\u001b[1;33m)\u001b[0m\u001b[1;33m\u001b[0m\u001b[1;33m\u001b[0m\u001b[0m\n\u001b[0m\u001b[0;32m     16\u001b[0m         \u001b[1;32mreturn\u001b[0m \u001b[0mself\u001b[0m\u001b[1;33m.\u001b[0m\u001b[0marray\u001b[0m\u001b[1;33m[\u001b[0m\u001b[0mindex\u001b[0m\u001b[1;33m]\u001b[0m\u001b[1;33m\u001b[0m\u001b[1;33m\u001b[0m\u001b[0m\n\u001b[0;32m     17\u001b[0m \u001b[1;33m\u001b[0m\u001b[0m\n",
      "\u001b[1;31mIndexError\u001b[0m: List index out of range"
     ]
    }
   ],
   "source": [
    "array_list = ArrayList()\n",
    "\n",
    "for i in range(90):\n",
    "    array_list.add(i)\n",
    "\n",
    "print(array_list.get(0), array_list.get(89))\n",
    "print(array_list.get(90))"
   ]
  },
  {
   "cell_type": "code",
   "execution_count": 11,
   "id": "0acfa850",
   "metadata": {},
   "outputs": [
    {
     "name": "stdout",
     "output_type": "stream",
     "text": [
      "90\n",
      "89\n",
      "[0, 1, 2, 4, 5, 6, 7, 8, 9, 10, 11, 12, 13, 14, 15, 16, 17, 18, 19, 20, 21, 22, 23, 24, 25, 26, 27, 28, 29, 30, 31, 32, 33, 34, 35, 36, 37, 38, 39, 40, 41, 42, 43, 44, 45, 46, 47, 48, 49, 50, 51, 52, 53, 54, 55, 56, 57, 58, 59, 60, 61, 62, 63, 64, 65, 66, 67, 68, 69, 70, 71, 72, 73, 74, 75, 76, 77, 78, 79, 80, 81, 82, 83, 84, 85, 86, 87, 88, 89]\n"
     ]
    }
   ],
   "source": [
    "print(array_list.size)\n",
    "array_list.delete(3)\n",
    "print(array_list.size)\n",
    "print(array_list.array)"
   ]
  },
  {
   "cell_type": "markdown",
   "id": "666800d7",
   "metadata": {},
   "source": [
    "#### StringBuilder\n",
    "\n",
    "Assuming all strings are of an equal length x, concatenating a list of strings would take O($xn^{2}$) time using the algorithm below: \n",
    "\n",
    "```\n",
    "String joinWords(String[] words) {\n",
    "    String sentence = \"\";\n",
    "    for (String w : words) {\n",
    "        sentence = sentence + w;\n",
    "    }\n",
    "}\n",
    "```\n",
    "\n",
    "On each concatenation, a new copy of the string is created and the two strings are copied over character by character. The amount of copied characters is O(x + 2x + 3x + ... + nx) = O($xn^{2}$).\n",
    "\n",
    "Alternatively, a StringBuilder creates a resizable array of all the strings, and copies them back to a string **only when necessary**.\n",
    "\n",
    "```\n",
    "String joinWords(String[] words) {\n",
    "    StringBuilder sentence = new StringBuilder();\n",
    "    for (String w : words) {\n",
    "        sentence.append(w);\n",
    "    }\n",
    "    return sentence.toString();\n",
    "}\n",
    "```\n",
    "\n",
    "A StringBuilder is basically an ArrayList for strings with a toString() method for concatenating the contents, so I will not implement an additional example."
   ]
  },
  {
   "cell_type": "markdown",
   "id": "b7d0f444",
   "metadata": {},
   "source": [
    "#### Interview Questions\n",
    "\n",
    "**1.1 Is Unique**:\n",
    "* ASCII defines 128 characters, which map to the numbers 0–127. Can be stored in 7 bits ($2^{7}$ = 128).\n",
    "    * English and some symbols only\n",
    "    * ASCII extended also exists (uses the additional bit to give 256 characters)\n",
    "* Unicode, a superset of ASCII, defines (less than) $2^{21}$ characters, which, similarly, map to numbers 0–$2^{21}$. Unicode is a superset of ASCII, and the numbers 0–127 have the same meaning in ASCII\n",
    "    * UTF-8, UTF-16, UTF-32 are all Unicode encodings\n",
    "    \n",
    "In this question, if you assume ASCII string, you can immediately return false for any strings with greater than 128 length since it's not possible they're all unique."
   ]
  },
  {
   "cell_type": "code",
   "execution_count": 28,
   "id": "7315131c",
   "metadata": {},
   "outputs": [
    {
     "name": "stdout",
     "output_type": "stream",
     "text": [
      "False\n",
      "True\n",
      "False\n",
      "True\n"
     ]
    }
   ],
   "source": [
    "def is_unique(s):\n",
    "    d = {}\n",
    "    for ch in s:\n",
    "        if ch in d:\n",
    "            return False\n",
    "        d[ch] = True\n",
    "    return True\n",
    "\n",
    "print(is_unique(\"unique\"))\n",
    "print(is_unique(\"Unique\"))\n",
    "print(is_unique(\"sandman\"))\n",
    "print(is_unique(\"starving\"))"
   ]
  },
  {
   "cell_type": "code",
   "execution_count": 29,
   "id": "7a528eec",
   "metadata": {},
   "outputs": [
    {
     "name": "stdout",
     "output_type": "stream",
     "text": [
      "False\n",
      "True\n",
      "False\n",
      "True\n"
     ]
    }
   ],
   "source": [
    "# Using an array of 128 length, similar to the solution in the book\n",
    "# Assuming ASCII, the space complexity is O(1) since character set is constant, otherwise it is O(n) like in the algorithm above\n",
    "def is_unique(s):\n",
    "    if len(s) > 128:\n",
    "        return False\n",
    "    array = [False] * 128\n",
    "    for ch in s:\n",
    "        if array[ord(ch)]:\n",
    "            return False\n",
    "        array[ord(ch)] = True\n",
    "    return True\n",
    "\n",
    "print(is_unique(\"unique\"))\n",
    "print(is_unique(\"Unique\"))\n",
    "print(is_unique(\"sandman\"))\n",
    "print(is_unique(\"starving\"))"
   ]
  },
  {
   "cell_type": "markdown",
   "id": "3ddad73a",
   "metadata": {},
   "source": [
    "The code below from Pg. 93 solution for Is Unique is essentially creating a 32 bit hash table. An in-depth explanation of the solution in the book can be found [here.](https://stackoverflow.com/questions/9141830/explain-the-use-of-a-bit-vector-for-determining-if-all-characters-are-unique)<br><br>\n",
    "In Java, << is a left bitwise shift operator. It shifts an integer to the left by the number of bits specified on the rightside. For example take 1 << 3 and 2 << 2:<br>\n",
    "\n",
    "```\n",
    "0b00000001 << 3 == 0b00001000 // 8\n",
    "0b00000010 << 3 == 0b00010000 // 16\n",
    "```\n",
    "\n",
    "The |= is a [bitwise OR assignment operator](https://stackoverflow.com/questions/2325349/what-does-the-operator-do-in-java), where a set of bits are used as flags. The bitwise OR may be used in situations where a set of bits are used as a flag. All positions with a 1 in the bit pattern for the LHS and RHS will be returned and assigned to the left hand side of the operator. For example:<br>\n",
    "\n",
    "```\n",
    "int foo = 32;   // 32 = 0b00100000\n",
    "int bar = 9;    //  9 = 0b00001001\n",
    "\n",
    "foo |= bar; // 32 | 9  = 0b00101001 = 41\n",
    "```\n",
    "\n",
    "Finally the & is a [bitwise AND operator](https://developer.mozilla.org/en-US/docs/Web/JavaScript/Reference/Operators/Bitwise_AND), returning a 1 in each bit position where corresponding bits of both operands are 1s. For example:\n",
    "\n",
    "```\n",
    "int foo = 3 // 0b00000011\n",
    "int bar = 5 // 0b00000101\n",
    "\n",
    "foo & bar // 0b00000001 (1)\n",
    "```\n",
    "\n",
    "We can now walk through the algorithm in the book. Note that it assumes a constant set of 26 lowercase characters (a-z) because, for a 32 bit integer, we only have 6 more bits before a collision could occur.\n",
    "\n",
    "```\n",
    "public static boolean isUniqueChars(String str) {\n",
    "    int checker = 0;\n",
    "    for (int i = 0; i < str.length(); ++i) {\n",
    "        int val = str.charAt(i) - 'a'; // Get integer value of character (0-25)\n",
    "        if ((checker & (1 << val)) > 0) return false; // If checker and the (1 << val) have a 1 in the same place, we know this is a duplicate character (a 1 anywhere in a bit pattern is > 0)\n",
    "        checker |= (1 << val); // Otherwise, set checker equal to the bit pattern which combines everywhere that checker and (1 << val) have a 1\n",
    "    }\n",
    "    return true;\n",
    "}\n",
    "```"
   ]
  },
  {
   "cell_type": "code",
   "execution_count": 5,
   "id": "1cf91dd8",
   "metadata": {},
   "outputs": [
    {
     "name": "stdout",
     "output_type": "stream",
     "text": [
      "True\n",
      "False\n",
      "False\n"
     ]
    }
   ],
   "source": [
    "def is_unique(s):\n",
    "    checker = 0\n",
    "    for ch in s:\n",
    "        val = ord(ch) - ord('a')\n",
    "        if checker & (1 << val) > 0:\n",
    "            return False\n",
    "        checker |= (1 << val)\n",
    "    return True\n",
    "\n",
    "print(is_unique('abc'))\n",
    "print(is_unique('matter'))\n",
    "print(is_unique('aba'))"
   ]
  },
  {
   "cell_type": "markdown",
   "id": "98ad1d82",
   "metadata": {},
   "source": [
    "**1.2 Check Permutation**"
   ]
  },
  {
   "cell_type": "code",
   "execution_count": 6,
   "id": "97bc4f1c",
   "metadata": {},
   "outputs": [
    {
     "name": "stdout",
     "output_type": "stream",
     "text": [
      "True\n",
      "False\n",
      "False\n",
      "True\n"
     ]
    }
   ],
   "source": [
    "def check_permutation(s1, s2):\n",
    "    if len(s1) != len(s2):\n",
    "        return False\n",
    "    \n",
    "    # Build a dictionary with character counts for each character in s1\n",
    "    d = {}\n",
    "    for ch in s1:\n",
    "        d[ch] = d.get(ch, 0) + 1\n",
    "    \n",
    "    # Go through ever character in s2 and decrement count in dictionary\n",
    "    for ch in s2:\n",
    "        if ch in d:\n",
    "            d[ch] = d[ch] - 1\n",
    "            # If count is below zero we know this is not a permutation\n",
    "            if d[ch] < 0:\n",
    "                return False\n",
    "        else:\n",
    "            return False\n",
    "    \n",
    "    return True\n",
    "\n",
    "print(check_permutation(\"abcd\", \"dbac\"))\n",
    "print(check_permutation(\"dog\", \"dag\"))\n",
    "print(check_permutation(\"hiiit\", \"hiita\"))\n",
    "print(check_permutation(\"faster\", \"retfas\"))"
   ]
  },
  {
   "cell_type": "markdown",
   "id": "d82d175a",
   "metadata": {},
   "source": [
    "**1.3 URLify**\n",
    "- True length is the length of string prior to any extra spaces\n",
    "- I used an array to avoid potential O(n**2) copying of strings (https://stackoverflow.com/questions/34008010/is-the-time-complexity-of-iterative-string-append-actually-on2-or-on)\n",
    "- See notes for an example of her solution in the book\n",
    "- Slicing strings can be O(n) or O(1) due to implementation in Python (https://stackoverflow.com/questions/35180377/time-complexity-of-string-slice)"
   ]
  },
  {
   "cell_type": "code",
   "execution_count": 7,
   "id": "1ebfd53b",
   "metadata": {},
   "outputs": [
    {
     "name": "stdout",
     "output_type": "stream",
     "text": [
      "Mr%20John%20Smith\n",
      "%20%20%20%20Test\n",
      "Simple\n"
     ]
    }
   ],
   "source": [
    "def urlify(s, l):\n",
    "    url = []\n",
    "    s = s[:l]  # Slice string to true length -> O(n)\n",
    "    \n",
    "    for ch in s:\n",
    "        if ch == \" \":\n",
    "            url.append(\"%20\")\n",
    "        else:\n",
    "            url.append(ch)\n",
    "    \n",
    "    return ''.join(url)\n",
    "\n",
    "print(urlify(\"Mr John Smith   \", 13))\n",
    "print(urlify(\"    Test   \", 8))\n",
    "print(urlify(\"Simple   \", 6))"
   ]
  },
  {
   "cell_type": "markdown",
   "id": "0825f973",
   "metadata": {},
   "source": [
    "**1.4 Palindrome Permutation**\n",
    "\n",
    "- Options:\n",
    "    - Find palindrome based on the number of time each character is present\n",
    "        - We can have max one character appearing an odd amount of times\n",
    "        - Can also do this in one pass instead\n",
    "\n",
    "Assume no special characters and cases do not matter."
   ]
  },
  {
   "cell_type": "code",
   "execution_count": 9,
   "id": "9294371a",
   "metadata": {},
   "outputs": [
    {
     "name": "stdout",
     "output_type": "stream",
     "text": [
      "True\n",
      "False\n",
      "True\n",
      "False\n"
     ]
    }
   ],
   "source": [
    "def is_palindrome_perm(s):\n",
    "    s = s.replace(\" \", \"\")\n",
    "    if len(s) == 0:\n",
    "        return False\n",
    "    \n",
    "    d = get_char_counts(s)\n",
    "    \n",
    "    return check_max_one_odd(d)\n",
    "\n",
    "def get_char_counts(s):\n",
    "    d = {}\n",
    "    for ch in s.lower():\n",
    "        d[ch] = d.get(ch, 0) + 1\n",
    "    return d\n",
    "\n",
    "def check_max_one_odd(d):\n",
    "    odd_found = False\n",
    "    for key in d:\n",
    "        if d[key] % 2 != 0:\n",
    "            if odd_found:\n",
    "                return False\n",
    "            odd_found = True\n",
    "    return True\n",
    "\n",
    "print(is_palindrome_perm(\"Taco cat\"))\n",
    "print(is_palindrome_perm(\"red dot\"))\n",
    "print(is_palindrome_perm(\"rraccae\")) # racecar\n",
    "print(is_palindrome_perm(\"sssaa l\"))"
   ]
  },
  {
   "cell_type": "code",
   "execution_count": 10,
   "id": "8619460c",
   "metadata": {},
   "outputs": [
    {
     "name": "stdout",
     "output_type": "stream",
     "text": [
      "True\n",
      "False\n",
      "True\n",
      "False\n"
     ]
    }
   ],
   "source": [
    "# One pass\n",
    "\n",
    "def is_palindrome_perm(s):\n",
    "    s = s.replace(\" \", \"\")\n",
    "    if len(s) == 0:\n",
    "        return False\n",
    "    \n",
    "    odd_count = get_odd_char_count(s)\n",
    "    \n",
    "    return odd_count <= 1\n",
    "\n",
    "def get_odd_char_count(s):\n",
    "    odd_count = 0\n",
    "    d = {}\n",
    "    for ch in s.lower():\n",
    "        d[ch] = d.get(ch, 0) + 1\n",
    "        if d[ch] % 2 == 0:\n",
    "            odd_count -= 1\n",
    "        else:\n",
    "            odd_count += 1\n",
    "    return odd_count\n",
    "\n",
    "print(is_palindrome_perm(\"Taco cat\"))\n",
    "print(is_palindrome_perm(\"red dot\"))\n",
    "print(is_palindrome_perm(\"rraccae\")) # racecar\n",
    "print(is_palindrome_perm(\"sssaa l\"))"
   ]
  },
  {
   "cell_type": "markdown",
   "id": "d6ea3e81",
   "metadata": {},
   "source": [
    "Bit vector implementation from book:\n",
    "\n",
    "- The bitwise exclusive-OR (XOR) operator (^) [returns True if and only if one of the bits is true](https://stackoverflow.com/questions/1991380/what-does-the-operator-do-in-java), this can be used to toggle a specific bit on and off in the bit vector\n",
    "\n",
    "| Decimal     | Binary      |\n",
    "| ----------- | ----------- |\n",
    "| 5           | 101         |\n",
    "| 6           | 110         |\n",
    "| ----------- | ----------- |\n",
    "| XOR                       |\n",
    "| 3           | 011         |\n",
    "\n",
    "- From the book, we can ensure that a number has at most only one bit is set to 1 by subtracting 1 from it and then performing an AND it with itself\n",
    "    - This is how we will check that there is at most only one character with an odd count\n",
    "    - Take 72 and 8 for example:\n",
    "    \n",
    "0b01001000 - 1 = 71 (b01000111)\n",
    "\n",
    "72 & 71 = 0b01000000 -> != 0\n",
    "\n",
    "0b00000100 - 1 = 7 (b00000111)\n",
    "\n",
    "8 & 7 = 0b00000000 -> No overlap"
   ]
  },
  {
   "cell_type": "code",
   "execution_count": 19,
   "id": "4b7a6679",
   "metadata": {},
   "outputs": [
    {
     "name": "stdout",
     "output_type": "stream",
     "text": [
      "True\n",
      "False\n",
      "True\n",
      "False\n"
     ]
    }
   ],
   "source": [
    "# Bit vector (from book)\n",
    "# Assume characters a-z\n",
    "\n",
    "def is_palindrome_perm(s):\n",
    "    s = s.replace(\" \", \"\")\n",
    "    checker = 0\n",
    "\n",
    "    for ch in s.lower():\n",
    "        val = ord(ch) - ord('a')\n",
    "        checker ^= (1 << val) # Toggle the bit corresponding to val (1 = odd), use left shift so that 'a' corresponds to bit 0\n",
    "    \n",
    "    return (checker & checker - 1) == 0\n",
    "    \n",
    "\n",
    "print(is_palindrome_perm(\"taco cat\"))\n",
    "print(is_palindrome_perm(\"red dot\"))\n",
    "print(is_palindrome_perm(\"rraccae\")) # racecar\n",
    "print(is_palindrome_perm(\"sssaa l\"))\n",
    "        "
   ]
  },
  {
   "cell_type": "code",
   "execution_count": 12,
   "id": "5d1f3e23",
   "metadata": {},
   "outputs": [
    {
     "data": {
      "text/plain": [
       "65"
      ]
     },
     "execution_count": 12,
     "metadata": {},
     "output_type": "execute_result"
    }
   ],
   "source": [
    "ord(\"A\")"
   ]
  },
  {
   "cell_type": "markdown",
   "id": "538665a9",
   "metadata": {},
   "source": [
    "**1.5 One Way**\n",
    "\n",
    "- Insert/remove are basically checking the same thing\n",
    "- Replace can be integrated with the other 2"
   ]
  },
  {
   "cell_type": "code",
   "execution_count": 11,
   "id": "5ecbc2e1",
   "metadata": {},
   "outputs": [
    {
     "name": "stdout",
     "output_type": "stream",
     "text": [
      "True\n",
      "True\n",
      "True\n",
      "False\n",
      "False\n"
     ]
    }
   ],
   "source": [
    "def one_way(s1, s2):\n",
    "    if s1 == s2:\n",
    "        return True\n",
    "    \n",
    "    shorter, longer = get_shorter_longer_string(s1, s2)  # Order doesn't matter if they're the same length\n",
    "\n",
    "    for i in range(len(shorter)):\n",
    "        if s1[i] != s2[i]:\n",
    "            if len(s1) == len(s2):\n",
    "                return s1[i+1:] == s2[i+1:]\n",
    "            else:\n",
    "                return shorter[i:] == longer[i+1:]\n",
    "    \n",
    "    # If reached the end of shorter string without differences, the longer word must only have one additional character\n",
    "    return len(longer[i+1:]) <= 1 \n",
    "\n",
    "def get_shorter_longer_string(s1, s2):\n",
    "    if len(s1) < len(s2):\n",
    "        return s1, s2\n",
    "    return s2, s1\n",
    "\n",
    "print(one_way(\"pale\", \"ple\"))\n",
    "print(one_way(\"pales\", \"pale\"))\n",
    "print(one_way(\"pale\", \"bale\"))\n",
    "print(one_way(\"pale\", \"bake\"))\n",
    "print(one_way(\"palesee\", \"pale\"))"
   ]
  },
  {
   "cell_type": "code",
   "execution_count": 6,
   "id": "835ee8a2",
   "metadata": {},
   "outputs": [
    {
     "name": "stdout",
     "output_type": "stream",
     "text": [
      "True\n",
      "True\n",
      "True\n",
      "False\n",
      "False\n"
     ]
    }
   ],
   "source": [
    "# Book's approach using a while loop all in one pass\n",
    "\n",
    "def one_way(s1, s2):\n",
    "    if abs(len(s2) - len(s1)) > 1:\n",
    "        return False\n",
    "    \n",
    "    shorter, longer = get_shorter_longer_string(s1, s2)\n",
    "    \n",
    "    diff_found = False\n",
    "    i = 0\n",
    "    j = 0\n",
    "    while i < len(shorter) and j < len(longer):\n",
    "        if shorter[i] != longer[j]:\n",
    "            if diff_found:\n",
    "                return False\n",
    "            diff_found = True\n",
    "            \n",
    "            if len(s1) == len(s2):\n",
    "                i += 1\n",
    "        else:\n",
    "            i += 1\n",
    "        j += 1\n",
    "    \n",
    "    return True\n",
    "    \n",
    "def get_shorter_longer_string(s1, s2):\n",
    "    if len(s1) < len(s2):\n",
    "        return s1, s2\n",
    "    return s2, s1\n",
    "\n",
    "print(one_way(\"pale\", \"ple\"))\n",
    "print(one_way(\"pales\", \"pale\"))\n",
    "print(one_way(\"pale\", \"bale\"))\n",
    "print(one_way(\"pale\", \"bake\"))\n",
    "print(one_way(\"palesee\", \"pale\"))"
   ]
  },
  {
   "cell_type": "markdown",
   "id": "307fe8a2",
   "metadata": {},
   "source": [
    "**1.6 Compress String**\n",
    "- Use an array (StringBuilder) to avoid inefficient string concatenation\n",
    "    - Without the use of another data structure, the problem would have a time complexity of O(p + $k^{2}$) where p is the size of the original string and k is the number of character sequences\n",
    "- f string formatting seems to be the most optimized, see: https://stackoverflow.com/questions/38722105/format-strings-vs-concatenation"
   ]
  },
  {
   "cell_type": "code",
   "execution_count": 24,
   "id": "d46b46c9",
   "metadata": {},
   "outputs": [
    {
     "name": "stdout",
     "output_type": "stream",
     "text": [
      "a2b1c5a3\n",
      "AbcD\n",
      "a2b1c5a1\n"
     ]
    }
   ],
   "source": [
    "def compress_string(s):\n",
    "    compressed_string = []\n",
    "    \n",
    "    j = 0\n",
    "    for i in range(len(s)):\n",
    "        if i == len(s) - 1 or s[i] != s[i+1]:\n",
    "            compressed_string.append(f\"{s[i]}{(i + 1) - j}\")\n",
    "            j = i + 1\n",
    "    \n",
    "    return s if len(compressed_string) == len(s) else ''.join(compressed_string)\n",
    "\n",
    "print(compress_string(\"aabcccccaaa\"))\n",
    "print(compress_string(\"AbcD\"))\n",
    "print(compress_string(\"aabccccca\"))\n",
    "    "
   ]
  },
  {
   "cell_type": "code",
   "execution_count": 27,
   "id": "a8b08c38",
   "metadata": {},
   "outputs": [
    {
     "name": "stdout",
     "output_type": "stream",
     "text": [
      "a2b1c5a3\n",
      "AbcD\n",
      "a2b1c5a1\n"
     ]
    }
   ],
   "source": [
    "# Use counter like book, simpler to understand\n",
    "\n",
    "def compress_string(s):\n",
    "    compressed_string = []\n",
    "    \n",
    "    counter = 0\n",
    "    for i in range(len(s)):\n",
    "        counter += 1\n",
    "        if i == len(s) - 1 or s[i] != s[i+1]:\n",
    "            compressed_string.append(f\"{s[i]}{counter}\")\n",
    "            counter = 0\n",
    "    \n",
    "    return s if len(compressed_string) == len(s) else ''.join(compressed_string)\n",
    "\n",
    "print(compress_string(\"aabcccccaaa\"))\n",
    "print(compress_string(\"AbcD\"))\n",
    "print(compress_string(\"aabccccca\"))"
   ]
  },
  {
   "cell_type": "markdown",
   "id": "3340a89a",
   "metadata": {},
   "source": [
    "**1.7 Rotate Matrix**\n",
    "\n",
    "- In the scenario where we don't do in place, it can rectangular matrices as well.\n",
    "- Best conceivable runtime is O($n^{2}$) because we must touch all elements."
   ]
  },
  {
   "cell_type": "code",
   "execution_count": 1,
   "id": "f62cfd9f",
   "metadata": {},
   "outputs": [
    {
     "name": "stdout",
     "output_type": "stream",
     "text": [
      "Original:\n",
      "1 2 3 4 5\n",
      "2 3 4 5 6\n",
      "3 4 5 6 7\n",
      "4 5 6 7 8\n",
      "5 6 7 8 9\n",
      "Rotated:\n",
      "5 4 3 2 1\n",
      "6 5 4 3 2\n",
      "7 6 5 4 3\n",
      "8 7 6 5 4\n",
      "9 8 7 6 5\n"
     ]
    }
   ],
   "source": [
    "# Using an additional matrix O(n^2) space and time\n",
    "\n",
    "def rotate_matrix(m):\n",
    "    n = len(m)\n",
    "    rot_m = [[0 for x in range(n)] for y in range(n)]\n",
    "\n",
    "    for i in range(n):\n",
    "        for j in range(len(m[0])):\n",
    "            rot_m[j][(n-1)-i] = m[i][j]\n",
    "\n",
    "    return rot_m\n",
    "\n",
    "m = [[1,2,3,4,5],[2,3,4,5,6],[3,4,5,6,7],[4,5,6,7,8],[5,6,7,8,9]]\n",
    "rot_m = rotate_matrix(m)\n",
    "\n",
    "print(\"Original:\")\n",
    "for row in m:\n",
    "    print(\" \".join(map(str, row)))\n",
    "\n",
    "print(\"Rotated:\")\n",
    "for row in rot_m:\n",
    "      print(\" \".join(map(str, row)))"
   ]
  },
  {
   "cell_type": "code",
   "execution_count": 45,
   "id": "6c3df5b2",
   "metadata": {},
   "outputs": [
    {
     "name": "stdout",
     "output_type": "stream",
     "text": [
      "Original:\n",
      "1 2 3 4 5\n",
      "2 3 4 5 6\n",
      "3 4 5 6 7\n",
      "4 5 6 7 8\n",
      "5 6 7 8 9\n",
      "Rotated:\n",
      "5 4 3 2 1\n",
      "6 5 4 3 2\n",
      "7 6 5 4 3\n",
      "8 7 6 5 4\n",
      "9 8 7 6 5\n"
     ]
    }
   ],
   "source": [
    "import copy\n",
    "\n",
    "# In place and layer by layer\n",
    "\n",
    "def rotate_matrix(m):\n",
    "    if len(m) == 0 or (len(m) != len(m[0])):\n",
    "        return False\n",
    "    \n",
    "    n = len(m)\n",
    "    layers = int(n/2)\n",
    "    for layer in range(layers):\n",
    "        last = (n-1)-layer\n",
    "        for i in range(layer, last):\n",
    "            temp = m[layer][i]\n",
    "            offset = i - layer\n",
    "            \n",
    "            # Swap left -> top\n",
    "            m[layer][i] =  m[last-offset][layer]\n",
    "            \n",
    "            # Swap bottom -> left\n",
    "            m[last-offset][layer] = m[last][last-offset]\n",
    "            \n",
    "            # Swap right -> bottom\n",
    "            m[last][last-offset] = m[i][last]\n",
    "            \n",
    "            # Swap left -> right\n",
    "            m[i][last] = temp\n",
    "    \n",
    "    return True\n",
    "\n",
    "m = [[1,2,3,4,5],[2,3,4,5,6],[3,4,5,6,7],[4,5,6,7,8],[5,6,7,8,9]]\n",
    "print(\"Original:\")\n",
    "for row in m:\n",
    "    print(\" \".join(map(str, row)))\n",
    "   \n",
    "rotate_matrix(m)\n",
    "\n",
    "print(\"Rotated:\")\n",
    "for row in m:\n",
    "    print(\" \".join(map(str, row)))"
   ]
  },
  {
   "cell_type": "code",
   "execution_count": 19,
   "id": "15ab7022",
   "metadata": {},
   "outputs": [
    {
     "name": "stdout",
     "output_type": "stream",
     "text": [
      "[0, 0, 0]\n"
     ]
    }
   ],
   "source": [
    "m = [1, 2, 3]\n",
    "\n",
    "for i in range(len(m)):\n",
    "    m[i] = 0\n",
    "\n",
    "print(m)"
   ]
  },
  {
   "cell_type": "markdown",
   "id": "264ba39b",
   "metadata": {},
   "source": [
    "**1.8 Zero Matrix**\n",
    "- O(MN) time since we will need to visit each element.\n",
    "- Space can vary, in my first attempt I used dicitonaries to record every row and column which had a zero, let's call this O(r+c).\n",
    "- In the book, a method was shown to do perform the replacement in place (O(1)) by using the first row and col to track indices instead."
   ]
  },
  {
   "cell_type": "code",
   "execution_count": 25,
   "id": "88ae8881",
   "metadata": {},
   "outputs": [
    {
     "name": "stdout",
     "output_type": "stream",
     "text": [
      "Original:\n",
      "0 2 3 4 5\n",
      "2 3 4 5 6\n",
      "3 4 5 6 7\n",
      "4 5 0 7 8\n",
      "5 6 7 8 0\n",
      "Zero matrix:\n",
      "0 0 0 0 0\n",
      "0 3 0 5 0\n",
      "0 4 0 6 0\n",
      "0 0 0 0 0\n",
      "0 0 0 0 0\n"
     ]
    }
   ],
   "source": [
    "def zero_matrix(m):\n",
    "    if len(m) == 0:\n",
    "        return m\n",
    "    \n",
    "    z_rows, z_cols = find_zeroes(m)\n",
    "    \n",
    "    for row in z_rows:\n",
    "        nullify_row(m, row)\n",
    "    \n",
    "    for col in z_cols:\n",
    "        nullify_col(m, col)\n",
    "    \n",
    "    return m\n",
    "\n",
    "def find_zeroes(m):\n",
    "    z_rows = {}\n",
    "    z_cols = {}\n",
    "    for i in range(len(m)):\n",
    "        for j in range(len(m[0])):\n",
    "            if m[i][j] == 0:\n",
    "                z_rows[i] = True\n",
    "                z_cols[j] = True\n",
    "    return z_rows, z_cols\n",
    "\n",
    "def nullify_col(m, col):\n",
    "    for i in range(len(m)):\n",
    "        m[i][col] = 0\n",
    "\n",
    "def nullify_row(m, row):\n",
    "    for j in range(len(m[row])):\n",
    "        m[row][j] = 0\n",
    "\n",
    "\n",
    "m = [[0,2,3,4,5],[2,3,4,5,6],[3,4,5,6,7],[4,5,0,7,8],[5,6,7,8,0]]\n",
    "print(\"Original:\")\n",
    "for row in m:\n",
    "    print(\" \".join(map(str, row)))\n",
    "\n",
    "zero_matrix(m)\n",
    "\n",
    "print(\"Zero matrix:\")\n",
    "for row in m:\n",
    "    print(\" \".join(map(str, row)))"
   ]
  },
  {
   "cell_type": "code",
   "execution_count": 44,
   "id": "737dbaee",
   "metadata": {},
   "outputs": [
    {
     "name": "stdout",
     "output_type": "stream",
     "text": [
      "Original:\n",
      "0 2 3 4 5\n",
      "2 3 4 5 6\n",
      "3 4 5 6 7\n",
      "4 5 0 7 8\n",
      "5 6 7 8 0\n",
      "Zero matrix:\n",
      "0 0 0 0 0\n",
      "0 3 0 5 0\n",
      "0 4 0 6 0\n",
      "0 0 0 0 0\n",
      "0 0 0 0 0\n"
     ]
    }
   ],
   "source": [
    "# In place, use first row and col to track zeroes\n",
    "\n",
    "def zero_matrix(m):\n",
    "    if len(m) == 0:\n",
    "        return m\n",
    "    \n",
    "    # Mark first row and col with zero if the inner matrix has zeroes\n",
    "    first_row_has_zero, first_col_has_zero = mark_zeroes(m)\n",
    "    \n",
    "    # Nullify rows\n",
    "    for i in range(1, len(m)):\n",
    "        if m[i][0] == 0:\n",
    "            nullify_row(m, i)\n",
    "\n",
    "    # Nullify cols\n",
    "    for j in range(1, len(m[0])):\n",
    "        if m[0][j] == 0:\n",
    "            nullify_col(m, j)\n",
    "    \n",
    "    if first_row_has_zero:\n",
    "        nullify_row(m, 0)\n",
    "    \n",
    "    if first_col_has_zero:\n",
    "        nullify_col(m, 0)\n",
    "    \n",
    "    return m\n",
    "\n",
    "def mark_zeroes(m):\n",
    "    \"\"\"\n",
    "    Marks the first row and column of a matrix with a zero if a zero exists anywhere in that row or column of the inner matrix \n",
    "    and returns whether the first row and col have zeroes themselves.\n",
    "    \"\"\"\n",
    "    first_row_has_zero = False\n",
    "    first_col_has_zero = False\n",
    "\n",
    "    for i in range(len(m)):\n",
    "        for j in range(len(m[0])):\n",
    "            if m[i][j] == 0:\n",
    "                if i == 0:\n",
    "                    first_row_has_zero = True\n",
    "                if j == 0:\n",
    "                    first_col_has_zero = True\n",
    "\n",
    "                m[0][j] = 0\n",
    "                m[i][0] = 0\n",
    "\n",
    "    return first_row_has_zero, first_col_has_zero\n",
    "\n",
    "def nullify_col(m, col):\n",
    "    for i in range(len(m)):\n",
    "        m[i][col] = 0\n",
    "\n",
    "def nullify_row(m, row):\n",
    "    for j in range(len(m[row])):\n",
    "        m[row][j] = 0\n",
    "\n",
    "\n",
    "m = [[0,2,3,4,5],[2,3,4,5,6],[3,4,5,6,7],[4,5,0,7,8],[5,6,7,8,0]]\n",
    "print(\"Original:\")\n",
    "for row in m:\n",
    "    print(\" \".join(map(str, row)))\n",
    "\n",
    "zero_matrix(m)\n",
    "\n",
    "print(\"Zero matrix:\")\n",
    "for row in m:\n",
    "    print(\" \".join(map(str, row)))        "
   ]
  },
  {
   "cell_type": "markdown",
   "id": "f56699ae",
   "metadata": {},
   "source": [
    "**1.9 String Rotation**\n",
    "- A valid rotation of a string can be represented by:<br>\n",
    "s1 = xy<br>\n",
    "s2 = yx\n",
    "- The key to this problem is realizing that xy must always be a substring of y**xy**x, or vice versa with yx and x**yx**y <br>\n",
    "\n",
    "The solution below is **O(n)** time and **O(1)** space."
   ]
  },
  {
   "cell_type": "code",
   "execution_count": 3,
   "id": "07aba7b5",
   "metadata": {},
   "outputs": [
    {
     "name": "stdout",
     "output_type": "stream",
     "text": [
      "True\n",
      "False\n"
     ]
    }
   ],
   "source": [
    "def is_string_rotation(s1, s2):\n",
    "    if len(s1) != len(s2) or len(s1) == 0:\n",
    "        return False\n",
    "    \n",
    "    s2 += s2\n",
    "    \n",
    "    return is_substring(s2, s1)\n",
    "\n",
    "def is_substring(s2, s1):\n",
    "    return s1 in s2\n",
    "\n",
    "print(is_string_rotation(\"waterbottle\", \"erbottlewat\"))\n",
    "print(is_string_rotation(\"waterbottle\", \"erwatbottle\"))"
   ]
  },
  {
   "cell_type": "markdown",
   "id": "f32f7b58",
   "metadata": {},
   "source": [
    "#### Leetcode Questions:\n",
    "- https://leetcode.com/problems/two-sum/\n",
    "    - O(n) space and time\n",
    "- https://leetcode.com/problems/contains-duplicate/\n",
    "    - Used set instead of dict since I didn't need to store any key/value pairs, just the keys\n",
    "    - O(n) space and time\n",
    "- https://leetcode.com/problems/longest-substring-without-repeating-characters/\n",
    "    - O(n) time and O(m) space where m = number of unique characters\n",
    "- https://leetcode.com/problems/best-time-to-buy-and-sell-stock/\n",
    "    - O(n) time and O(1) space\n",
    "- https://leetcode.com/problems/valid-anagram/\n",
    "    - O(n) time and space\n",
    "- https://leetcode.com/problems/valid-parentheses\n",
    "    - O(n) time and O(c) space where 'c' is the number of closed brackets\n",
    "- https://leetcode.com/problems/product-of-array-except-self\n",
    "    - First attempt: O(n) time and space -> space is technically O(2n)\n",
    "    - Second solution: O(n) time and O(1) space\n",
    "        - Used the answer array shifted to store prefix and then multiply with postfix\n",
    "- https://leetcode.com/problems/longest-repeating-character-replacement/\n",
    "    - O(n) with O(c) space where c is number of unique characters\n",
    "- https://leetcode.com/problems/maximum-subarray/\n",
    "    - O(n) with O(1) space\n",
    "    - Did not try divide and conquer approach"
   ]
  }
 ],
 "metadata": {
  "kernelspec": {
   "display_name": "Python 3 (ipykernel)",
   "language": "python",
   "name": "python3"
  },
  "language_info": {
   "codemirror_mode": {
    "name": "ipython",
    "version": 3
   },
   "file_extension": ".py",
   "mimetype": "text/x-python",
   "name": "python",
   "nbconvert_exporter": "python",
   "pygments_lexer": "ipython3",
   "version": "3.9.5"
  }
 },
 "nbformat": 4,
 "nbformat_minor": 5
}
