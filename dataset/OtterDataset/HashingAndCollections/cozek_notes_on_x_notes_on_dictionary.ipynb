{
 "cells": [
  {
   "cell_type": "markdown",
   "metadata": {},
   "source": [
    "# Some notes on Python dictionaries\n",
    "### A few pointers to better utilise python dictionaries"
   ]
  },
  {
   "cell_type": "markdown",
   "metadata": {},
   "source": [
    "## Introduction\n",
    "Dictionaries are flexible containers that map a key to a value and allow for fast queries on it. Knowing how to use dictionaries is an essential skill for the repertoire of any Pythonist. \n",
    "\n",
    "This blog covers a few notes on Python dictionaries which have helped me improve my `dict` game. Much of it might be already familiar to you if are an (>=) intermediate level python programmer. But I still hope that you will enjoy this article and perhaps take away a thing or two. \n",
    "\n",
    "I have tried to make this blog beginner-friendly, but if you are not very familiar with `dict`, you might need a [refresher](https://realpython.com/python-dicts/). Let's begin."
   ]
  },
  {
   "cell_type": "markdown",
   "metadata": {},
   "source": [
    "## Note 1: A basic example of using a dictionary\n",
    "For a basic demonstration of how `dict` works, let's calculate the frequency of items in a list. \n",
    "This is a pretty obvious use-case for a `dict`. \n",
    "We will start by implementing this in the most basic way possible and improve our code as we proceed.\n",
    "\n",
    "1. Initialise an empty dict. In this dict, the key would be the items and its value will be the frequency\n",
    "2. Iterate through the list\n",
    "    1. If an item is not in the dict, create a new key and set it's (default) value to 1\n",
    "    2. Else, Increment the count of the item by 1\n"
   ]
  },
  {
   "cell_type": "code",
   "execution_count": 1,
   "metadata": {},
   "outputs": [
    {
     "name": "stdout",
     "output_type": "stream",
     "text": [
      "{'a': 2, 'b': 3, 'c': 1}\n"
     ]
    }
   ],
   "source": [
    "#a list containing some items\n",
    "my_list = ['a','a','b','b','b','c']\n",
    "\n",
    "#initialise an empty dict\n",
    "freq_dict = {}\n",
    "\n",
    "#iterate through the list\n",
    "for item in my_list:\n",
    "    #if item is not present, create new key and set it's (default) value to 1, \n",
    "    #since we have seen only 1 occurance till now\n",
    "    if item not in freq_dict:\n",
    "        freq_dict[item]=1\n",
    "    else:\n",
    "        #increment the count of the item by 1\n",
    "        freq_dict[item]+=1\n",
    "\n",
    "#print results\n",
    "print(freq_dict)"
   ]
  },
  {
   "cell_type": "markdown",
   "metadata": {},
   "source": [
    "## Note 2: `setdefault` elegantly handles missing keys\n",
    "\n",
    "We can avoid the use of the `if-else` clause in the above code and handle missing keys using the `setdefault` method.\n",
    "If the item/key is in the dictionary, `setdefault` returns its value. Otherwise, it inserts the item with the given value and returns it.\n",
    "The explaination in the [documentation](https://docs.python.org/3.8/library/stdtypes.html#dict.setdefault) of `setdefault` if pretty straight forward and goes as follows:\n",
    "> `setdefault(key[, default])` <br>\n",
    "> If key is in the dictionary, return its value. If not, insert key with a value of default and return default. default defaults to `None`.\n",
    "\n",
    "This not only decreases the number of lines of code but also makes the code more readable and pythonic. \n",
    "Let's uses `setdefault` to improve the example in Note 1.\n"
   ]
  },
  {
   "cell_type": "code",
   "execution_count": 2,
   "metadata": {},
   "outputs": [
    {
     "name": "stdout",
     "output_type": "stream",
     "text": [
      "{'a': 2, 'b': 3, 'c': 1}\n"
     ]
    }
   ],
   "source": [
    "#a list containing some items\n",
    "my_list = ['a','a','b','b','b','c']\n",
    "\n",
    "#initialise an empty dict\n",
    "freq_dict = {}\n",
    "\n",
    "#iterate through the list\n",
    "for item in my_list:\n",
    "    freq_dict.setdefault(item,0)\n",
    "    freq_dict[item]+=1\n",
    "\n",
    "#print results\n",
    "print(freq_dict)"
   ]
  },
  {
   "cell_type": "markdown",
   "metadata": {},
   "source": [
    "#### Here is another example of `setdefault` to make it clearer, since this is an important method for all pythonist's to learn.\n",
    "The code below separates all the odd and even numbers from a list and put it into its own list/bucket.\n",
    "One bucket contains all the odd numbers while the other contains all the odd numbers. We will use `num%2` ( [a hash function](https://en.wikipedia.org/wiki/Hash_function) ) to create the key, since `odd_num%2==1` and `even_num%2==0`.\n"
   ]
  },
  {
   "cell_type": "code",
   "execution_count": 3,
   "metadata": {},
   "outputs": [
    {
     "name": "stdout",
     "output_type": "stream",
     "text": [
      "Odd Numbers:  [1, 3, 5, 7, 9]\n",
      "Even Numbers: [0, 2, 4, 6, 8]\n"
     ]
    }
   ],
   "source": [
    "#initialise a list of the first n=10 integers numbers\n",
    "num_list = [num for num in range(10)]\n",
    "\n",
    "#initialise an empty list\n",
    "buckets = {}\n",
    "\n",
    "for num in num_list:\n",
    "    bucket = buckets.setdefault(num%2,[])\n",
    "    bucket.append(num)\n",
    "\n",
    "print(f'Odd Numbers:  {buckets[1]}')\n",
    "print(f'Even Numbers: {buckets[0]}')"
   ]
  },
  {
   "cell_type": "code",
   "execution_count": 4,
   "metadata": {},
   "outputs": [
    {
     "name": "stdout",
     "output_type": "stream",
     "text": [
      "Odd Numbers:  [1, 3, 5, 7, 9]\n",
      "Even Numbers: [0, 2, 4, 6, 8]\n"
     ]
    }
   ],
   "source": [
    "#initialise a list of the first n=10 integers numbers\n",
    "num_list = [num for num in range(10)]\n",
    "\n",
    "#initialise an empty list\n",
    "buckets = {}\n",
    "\n",
    "for num in num_list:\n",
    "    buckets.setdefault(num%2,[]).append(num)\n",
    "\n",
    "print(f'Odd Numbers:  {buckets[1]}')\n",
    "print(f'Even Numbers: {buckets[0]}')"
   ]
  },
  {
   "cell_type": "markdown",
   "metadata": {},
   "source": [
    "Of course, you can argue that in the above code, we can simply initialize the `buckets` `dict` as `buckets = {'odd':[], 'even':[]}`. But think of non-trivial use-cases where you won't know the keys beforehand, for example, reading a `.csv` file with counties and their cities, where each row is given as `<country_name>,<city_name>` and you need to group all the countries and their cities; a complicated hash function with an arbitrary number of buckets, etc.\n",
    "\n",
    "For the sake of comparison, here are two (intentionally ugly) alternatives for the same example without using `setdefault`\n"
   ]
  },
  {
   "cell_type": "code",
   "execution_count": 5,
   "metadata": {},
   "outputs": [
    {
     "name": "stdout",
     "output_type": "stream",
     "text": [
      "Odd Numbers:  [1, 3, 5, 7, 9]\n",
      "Even Numbers: [0, 2, 4, 6, 8]\n"
     ]
    }
   ],
   "source": [
    "num_list = [num for num in range(10)]\n",
    "\n",
    "#initialise an empty list\n",
    "buckets = {}\n",
    "\n",
    "for num in num_list:\n",
    "    #this is rather ugly\n",
    "    #also, mod is an expensive operator\n",
    "    bucket = buckets.get(num%2,[])\n",
    "    bucket.append(num)\n",
    "    buckets[num%2]=bucket\n",
    "\n",
    "print(f'Odd Numbers:  {buckets[1]}')\n",
    "print(f'Even Numbers: {buckets[0]}')"
   ]
  },
  {
   "cell_type": "code",
   "execution_count": 6,
   "metadata": {},
   "outputs": [
    {
     "name": "stdout",
     "output_type": "stream",
     "text": [
      "Odd Numbers:  [1, 3, 5, 7, 9]\n",
      "Even Numbers: [0, 2, 4, 6, 8]\n"
     ]
    }
   ],
   "source": [
    "num_list = [num for num in range(10)]\n",
    "\n",
    "buckets = {}\n",
    "\n",
    "for num in num_list:\n",
    "    if num%2 not in buckets:\n",
    "        buckets[num%2] = []    \n",
    "    buckets[num%2].append(num)\n",
    "\n",
    "print(f'Odd Numbers:  {buckets[1]}')\n",
    "print(f'Even Numbers: {buckets[0]}')"
   ]
  },
  {
   "cell_type": "markdown",
   "metadata": {},
   "source": [
    "## Note 3: `collections.Counter()` \n",
    "Going back to our previous example of calculating frequency, it's such a recurring task that python has a built-in for it, called `Counter`, in the `collections` module.\n",
    "`Counter` comes with useful methods such as `most_common(n)` to quickly find out the most frequent n items and is very similar to a `dict`([docs](https://docs.python.org/3/library/collections.html#collections.Counter))."
   ]
  },
  {
   "cell_type": "code",
   "execution_count": 7,
   "metadata": {},
   "outputs": [
    {
     "name": "stdout",
     "output_type": "stream",
     "text": [
      "Frequency:  Counter({'b': 3, 'a': 2, 'c': 1})\n",
      "Most Common: [('b', 3), ('a', 2)]\n"
     ]
    }
   ],
   "source": [
    "#a list containing some items\n",
    "from collections import Counter\n",
    "my_list = ['a','a','b','b','b','c']\n",
    "\n",
    "#initialise an empty dict\n",
    "freq_dict = Counter(my_list)\n",
    "\n",
    "#print results\n",
    "print('Frequency: ', freq_dict)\n",
    "print('Most Common:', freq_dict.most_common(2))"
   ]
  },
  {
   "cell_type": "markdown",
   "metadata": {},
   "source": [
    "## Note 4: Dictionary comprehensions\n",
    "[Comprehensions](https://docs.python.org/3/tutorial/datastructures.html?highlight=comprehension#list-comprehensions) are one of the most useful tools in Python and of course, it is supported by dictionaries as well. The syntax is mostly the same as that of list comprehensions, with the difference being the use of `{..}` instead of `(..)` and requires you to define a `key: value` pair. \n",
    "It should be pretty apparent from the code examples below. \n",
    "\n",
    "Lets first look the example in the docs. It creates a `dict` containing the numbers from 0 to 9 and their squares.\n"
   ]
  },
  {
   "cell_type": "code",
   "execution_count": 8,
   "metadata": {},
   "outputs": [
    {
     "data": {
      "text/plain": [
       "{0: 0, 1: 1, 2: 4, 3: 9, 4: 16}"
      ]
     },
     "execution_count": 8,
     "metadata": {},
     "output_type": "execute_result"
    }
   ],
   "source": [
    "{ x: x ** 2 for x in range(5)}"
   ]
  },
  {
   "cell_type": "markdown",
   "metadata": {},
   "source": [
    "Another example on `dict` comprehension. The example below maps countries to their capitals."
   ]
  },
  {
   "cell_type": "code",
   "execution_count": 9,
   "metadata": {},
   "outputs": [
    {
     "name": "stdout",
     "output_type": "stream",
     "text": [
      "Capital of India: New Delhi\n"
     ]
    }
   ],
   "source": [
    "DATA = [\n",
    "    ('India','New Delhi'),\n",
    "    ('Iceland', 'Reykjavik'),\n",
    "    ('China','Beijing'),\n",
    "    ('Japan', 'Tokyo'),\n",
    "    ('UK','London'),\n",
    "]\n",
    "country_capitals = { country:capital for country,capital in DATA }\n",
    "print(f'Capital of India: {country_capitals[\"India\"]}')"
   ]
  },
  {
   "cell_type": "code",
   "execution_count": 10,
   "metadata": {},
   "outputs": [
    {
     "name": "stdout",
     "output_type": "stream",
     "text": [
      "{'India': 'New Delhi', 'Iceland': 'Reykjavik'}\n"
     ]
    }
   ],
   "source": [
    "#restraining the dict to only countries that starts with 'I'\n",
    "country_startswith_i = { country:capital for country,capital in DATA if country.startswith('I') }\n",
    "print(country_startswith_i)"
   ]
  },
  {
   "cell_type": "markdown",
   "metadata": {},
   "source": [
    "## Note 5: Insertion order in python dictionaries and `OrderedDict`\n",
    "\n",
    "As of Python 3.7+, dictionaries do maintain insertion order. However, it is not recommended to rely upon it. Many popular libraries (and programmers) assume that the ordering in `dict` doesn't matter, as it most often doesn't. If you want to preserve insertion order, you should instead use `OrderedDict`([docs](https://docs.python.org/3/library/collections.html#collections.OrderedDict)) which remembers the order of items inserted by default. In addition to clearly conveying your intentions, it also has the added benefit of not having to worry too much about backward compatibility. If you wish to learn more about this, I highly recommend [this blog](http://gandenberger.org/2018/03/10/ordered-dicts-vs-ordereddict/) post by Greg Gandenberger.\n"
   ]
  },
  {
   "cell_type": "markdown",
   "metadata": {},
   "source": [
    "##  Note 6: Dict keys need to hashable and things that are as hashable.\n",
    "\n",
    "For an object to work as a key in a dictionary, it needs to be hashable. Examples of hashable objects are `int`, `string`, `float`, etc.  Specifically, it needs to meet the three following requirements.\n",
    "\n",
    "1. It should support the `hash()` function via a `__hash__()` method whose value never changes over the lifetime of the object.\n",
    "2. It supports equality comparison via `__eq__()` method.\n",
    "3. If `a == b` is `True` then `hash(a) == hash(b)` must also be `True`.\n",
    "\n",
    "It is for these same reasons, a `tuple` can be a key in `dict`\n",
    "while a `list` can't. ([read more](https://stackoverflow.com/questions/7257588/why-cant-i-use-a-list-as-a-dict-key-in-python))\n",
    "\n",
    "On this note, User-defined types are hashable by default. This is because their hash value is their id() and they all compare not equal.\n",
    "One note of caution is that, custom implementations of `__hash__()`,\n",
    "`__eq__()` should only take into account those object attributes that never change during the lifetime of the object.\n"
   ]
  },
  {
   "cell_type": "code",
   "execution_count": 11,
   "metadata": {},
   "outputs": [
    {
     "name": "stdout",
     "output_type": "stream",
     "text": [
      "{<__main__.Node object at 0x11006be80>: 'node_a', <__main__.Node object at 0x11006bac0>: 'node_b'}\n"
     ]
    }
   ],
   "source": [
    "class Node:\n",
    "    \"\"\"Implements a LinkedList node\"\"\"\n",
    "    def __init__(self, val=0, next_node=None):\n",
    "        self.val = val\n",
    "        self.next_node = next_node\n",
    "\n",
    "a = Node(1)\n",
    "b = Node(2)\n",
    "\n",
    "#dict with Node object as keys\n",
    "node_dict = {a:'node_a', b:'node_b'}\n",
    "print(node_dict)\n"
   ]
  },
  {
   "cell_type": "markdown",
   "metadata": {},
   "source": [
    "## Note 7: Dictionaries are fast but trade space for time\n",
    "Internally, dict uses a hash table. And by design these hash tables are sparse, meaning these are not very space-efficient. For a large number of records, it might be more space-efficient to store them as in compact objects such as  `tuples`.\n",
    "\n",
    "Even though `dict` has a significant memory overhead, as long as it fits in memory, allows fast access.\n"
   ]
  },
  {
   "cell_type": "markdown",
   "metadata": {},
   "source": [
    "## Note 8: Use `sets` instead when you uniqueness is all you need\n",
    "It is often to the case to find all unique items from a collection. It might be tempting to use a `dict` with a dummy value since all keys in a dict are unique by default. \n",
    "\n",
    "In such a case, it is better to use a `set` instead. Python `sets` guarantees uniqueness. It also has nice properties similar to sets in mathematics like union and intersection. Similar to `dict`, elements in a set it must be hashable. \n",
    "\n",
    "But if the case requires a hashable `set`, you will have to use `frozenset` instead since a `set` is not hashable. `frozenset` is a hashable version of `set`, so it can be put inside a `set`.\n",
    "\n",
    "Since this work is on dictionaries, I will leave you with the [link](https://docs.python.org/3/library/stdtypes.html#set-types-set-frozenset) to the docs to learn more about sets."
   ]
  },
  {
   "cell_type": "code",
   "execution_count": 12,
   "metadata": {},
   "outputs": [
    {
     "name": "stdout",
     "output_type": "stream",
     "text": [
      "{1, 2, 3}\n"
     ]
    }
   ],
   "source": [
    "#do\n",
    "items = [1,1,1,2,2,3,3]\n",
    "uniq_items = set(items)\n",
    "print(uniq_items)"
   ]
  },
  {
   "cell_type": "code",
   "execution_count": 13,
   "metadata": {},
   "outputs": [
    {
     "data": {
      "text/plain": [
       "dict_keys([1, 2, 3])"
      ]
     },
     "execution_count": 13,
     "metadata": {},
     "output_type": "execute_result"
    }
   ],
   "source": [
    "#don't\n",
    "{item:0 for item in items }.keys()"
   ]
  },
  {
   "cell_type": "markdown",
   "metadata": {},
   "source": [
    "## Summary\n",
    "1. Basic demonstration of how `dict` works by calculating the frequency of items in a list.\n",
    "2. Missing keys can be elegantly handled by `setdefault`\n",
    "3. `collections.Counter` is a specialized container for counting hashable objects\n",
    "4. Comprehensions are supported for creating dictionaries.\n",
    "5. Even though `dict` preserves order, but it's not something that should be relied upon. Better use `OrderedDict` for the same. \n",
    "6. Dictionary keys need to be hashable. User-defined objects are hashable by default.\n",
    "7. Dictionary are fast but are space inefficient since it uses sparse hash tables.\n",
    "8. Use sets instead of dictionaries when you only need to find unique values.\n"
   ]
  },
  {
   "cell_type": "markdown",
   "metadata": {},
   "source": [
    "## Conclusion\n",
    "This blog covered a few notes on the use of Python `dict`. I hope this has been a knowledgeable and enjoyable read for you. If you spot any mistakes please leave a comment so that I can correct it at earliest. Any feedback and suggestion are also welcome. \n",
    "You can find a Jupyter notebook version of this blog in my Github.\n",
    "Thank you for reading. \n"
   ]
  },
  {
   "cell_type": "markdown",
   "metadata": {},
   "source": [
    "## Further reading\n",
    "\n",
    "I highly recommend the book \"Fluent Python\" by Luciano Ramalho, which covers all the topics in this blog in great depth.\n",
    "This blog is also largely inspired by his wonderful book."
   ]
  }
 ],
 "metadata": {
  "kernelspec": {
   "display_name": "Python 3",
   "language": "python",
   "name": "python3"
  },
  "language_info": {
   "codemirror_mode": {
    "name": "ipython",
    "version": 3
   },
   "file_extension": ".py",
   "mimetype": "text/x-python",
   "name": "python",
   "nbconvert_exporter": "python",
   "pygments_lexer": "ipython3",
   "version": "3.8.6"
  }
 },
 "nbformat": 4,
 "nbformat_minor": 4
}
