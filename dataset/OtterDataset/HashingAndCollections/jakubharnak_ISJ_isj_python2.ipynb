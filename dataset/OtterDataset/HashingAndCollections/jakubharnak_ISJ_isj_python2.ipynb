{
 "cells": [
  {
   "cell_type": "markdown",
   "metadata": {
    "slideshow": {
     "slide_type": "slide"
    }
   },
   "source": [
    "# ISJ - Introduction to Python (2nd part)"
   ]
  },
  {
   "cell_type": "markdown",
   "metadata": {
    "slideshow": {
     "slide_type": "slide"
    }
   },
   "source": [
    "# Basic control structures"
   ]
  },
  {
   "cell_type": "code",
   "execution_count": null,
   "metadata": {
    "scrolled": true,
    "slideshow": {
     "slide_type": "slide"
    }
   },
   "outputs": [],
   "source": [
    "if True:\n",
    "    print('This is true')\n",
    "else:\n",
    "    print('This is false')"
   ]
  },
  {
   "cell_type": "code",
   "execution_count": 1,
   "metadata": {
    "scrolled": true,
    "slideshow": {
     "slide_type": "slide"
    }
   },
   "outputs": [
    {
     "name": "stdout",
     "output_type": "stream",
     "text": [
      "1\n",
      "2\n",
      "3\n",
      "4\n",
      "5\n"
     ]
    }
   ],
   "source": [
    "x = 0\n",
    "while x < 5:\n",
    "    x = x + 1\n",
    "    print(x)"
   ]
  },
  {
   "cell_type": "code",
   "execution_count": null,
   "metadata": {
    "slideshow": {
     "slide_type": "slide"
    }
   },
   "outputs": [],
   "source": [
    "import random\n",
    "\n",
    "def random_numbers():\n",
    "    # Print and return a random int\n",
    "    result = random.randint(0, 5)\n",
    "    print(result)\n",
    "    return result\n",
    "\n",
    "# Continue calling x while its value is at least 1.\n",
    "# ... Use no loop body.\n",
    "while random_numbers() >= 1:\n",
    "    pass\n",
    "\n",
    "print(\"DONE\")"
   ]
  },
  {
   "cell_type": "code",
   "execution_count": null,
   "metadata": {
    "scrolled": true,
    "slideshow": {
     "slide_type": "slide"
    }
   },
   "outputs": [],
   "source": [
    "lst = [ 1, 2, 3 ]\n",
    "for x in lst:\n",
    "    print(x)"
   ]
  },
  {
   "cell_type": "code",
   "execution_count": null,
   "metadata": {
    "scrolled": true,
    "slideshow": {
     "slide_type": "slide"
    }
   },
   "outputs": [],
   "source": [
    "print(range(3))\n",
    "for x in range(3):\n",
    "    print(x)"
   ]
  },
  {
   "cell_type": "markdown",
   "metadata": {
    "slideshow": {
     "slide_type": "slide"
    }
   },
   "source": [
    "there is an else clause in Python's `for` loops letting you check if the loop encountered a `break`?"
   ]
  },
  {
   "cell_type": "code",
   "execution_count": null,
   "metadata": {
    "slideshow": {
     "slide_type": "slide"
    }
   },
   "outputs": [],
   "source": []
  },
  {
   "cell_type": "code",
   "execution_count": null,
   "metadata": {
    "scrolled": true,
    "slideshow": {
     "slide_type": "slide"
    }
   },
   "outputs": [],
   "source": [
    "for x in range(10):\n",
    "    if x % 2 == 0:\n",
    "        continue\n",
    "    if x > 5: break\n",
    "    print(x)"
   ]
  },
  {
   "cell_type": "code",
   "execution_count": null,
   "metadata": {
    "slideshow": {
     "slide_type": "subslide"
    }
   },
   "outputs": [],
   "source": [
    "from pprint import pprint\n",
    "pprint(list(zip(range(32, 127), map(chr, range(32, 127)))))"
   ]
  },
  {
   "cell_type": "markdown",
   "metadata": {
    "slideshow": {
     "slide_type": "slide"
    }
   },
   "source": [
    "### Exercises\n",
    "\n",
    "- Write a function that sums the values in a list using a `for` loop\n",
    "- Write a function that sums the even-numbered values in a list\n",
    "- Write a function that returns the reversed version of a list"
   ]
  },
  {
   "cell_type": "markdown",
   "metadata": {
    "slideshow": {
     "slide_type": "slide"
    }
   },
   "source": [
    "# Dicts\n",
    "\n",
    "A *dict* is a hash table (also known as a \"dictionary\"). Dicts are pervasive in Python."
   ]
  },
  {
   "cell_type": "code",
   "execution_count": null,
   "metadata": {
    "scrolled": true,
    "slideshow": {
     "slide_type": "slide"
    }
   },
   "outputs": [],
   "source": [
    "print({'key':'value'})"
   ]
  },
  {
   "cell_type": "code",
   "execution_count": null,
   "metadata": {
    "scrolled": true,
    "slideshow": {
     "slide_type": "slide"
    }
   },
   "outputs": [],
   "source": [
    "d = {'key1':1, 'key2':'foo'}\n",
    "print(d)"
   ]
  },
  {
   "cell_type": "code",
   "execution_count": null,
   "metadata": {
    "scrolled": true,
    "slideshow": {
     "slide_type": "slide"
    }
   },
   "outputs": [],
   "source": [
    "d['key1']"
   ]
  },
  {
   "cell_type": "code",
   "execution_count": null,
   "metadata": {
    "scrolled": true,
    "slideshow": {
     "slide_type": "slide"
    }
   },
   "outputs": [],
   "source": [
    "d['key3'] = 'bar'"
   ]
  },
  {
   "cell_type": "code",
   "execution_count": null,
   "metadata": {
    "scrolled": true,
    "slideshow": {
     "slide_type": "slide"
    }
   },
   "outputs": [],
   "source": [
    "print(d)"
   ]
  },
  {
   "cell_type": "code",
   "execution_count": null,
   "metadata": {
    "scrolled": true,
    "slideshow": {
     "slide_type": "slide"
    }
   },
   "outputs": [],
   "source": [
    "# we can get a list of their keys, values, or (key,value) pairs\n",
    "print(d.keys())"
   ]
  },
  {
   "cell_type": "code",
   "execution_count": null,
   "metadata": {
    "scrolled": true,
    "slideshow": {
     "slide_type": "slide"
    }
   },
   "outputs": [],
   "source": [
    "print(d.values())"
   ]
  },
  {
   "cell_type": "code",
   "execution_count": null,
   "metadata": {
    "scrolled": true,
    "slideshow": {
     "slide_type": "slide"
    }
   },
   "outputs": [],
   "source": [
    "print(d.items())"
   ]
  },
  {
   "cell_type": "code",
   "execution_count": null,
   "metadata": {
    "scrolled": true,
    "slideshow": {
     "slide_type": "slide"
    }
   },
   "outputs": [],
   "source": [
    "#  Values that are not hashable, that is, values containing lists, \n",
    "#  dictionaries or other mutable types (that are compared by value\n",
    "#  rather than by object identity) may not be used as keys\n",
    "d = { 'foo': 1,  2: 'bar' }\n",
    "print(d)"
   ]
  },
  {
   "cell_type": "code",
   "execution_count": null,
   "metadata": {
    "scrolled": true,
    "slideshow": {
     "slide_type": "slide"
    }
   },
   "outputs": [],
   "source": [
    "d[(1,2)] = 'baz'\n",
    "print(d)"
   ]
  },
  {
   "cell_type": "markdown",
   "metadata": {
    "slideshow": {
     "slide_type": "slide"
    }
   },
   "source": [
    "Items can be removed using del"
   ]
  },
  {
   "cell_type": "code",
   "execution_count": null,
   "metadata": {
    "scrolled": true,
    "slideshow": {
     "slide_type": "fragment"
    }
   },
   "outputs": [],
   "source": [
    "del d[2]\n",
    "print(d)"
   ]
  },
  {
   "cell_type": "code",
   "execution_count": null,
   "metadata": {
    "scrolled": true,
    "slideshow": {
     "slide_type": "slide"
    }
   },
   "outputs": [],
   "source": [
    "#iteration over keys\n",
    "for k in d.keys():\n",
    "    print(k)"
   ]
  },
  {
   "cell_type": "code",
   "execution_count": null,
   "metadata": {
    "slideshow": {
     "slide_type": "subslide"
    }
   },
   "outputs": [],
   "source": [
    "#iteration over keys\n",
    "for k in d:\n",
    "    print(k)"
   ]
  },
  {
   "cell_type": "code",
   "execution_count": null,
   "metadata": {
    "scrolled": true,
    "slideshow": {
     "slide_type": "slide"
    }
   },
   "outputs": [],
   "source": [
    "#iteration over values\n",
    "for v in d.values():\n",
    "    print(v)"
   ]
  },
  {
   "cell_type": "code",
   "execution_count": null,
   "metadata": {
    "scrolled": true,
    "slideshow": {
     "slide_type": "slide"
    }
   },
   "outputs": [],
   "source": [
    "#iteration over items\n",
    "for k,v in d.items():\n",
    "    print(k, v)"
   ]
  },
  {
   "cell_type": "code",
   "execution_count": null,
   "metadata": {
    "scrolled": true,
    "slideshow": {
     "slide_type": "slide"
    }
   },
   "outputs": [],
   "source": [
    "'foo' in d # Test for key membership "
   ]
  },
  {
   "cell_type": "markdown",
   "metadata": {
    "slideshow": {
     "slide_type": "subslide"
    }
   },
   "source": [
    "## Antipattern\n"
   ]
  },
  {
   "cell_type": "code",
   "execution_count": null,
   "metadata": {
    "slideshow": {
     "slide_type": "subslide"
    }
   },
   "outputs": [],
   "source": [
    "special_sing2plur = {'goose':'geese', 'man':'men', 'child':'children'}\n",
    "singulars = ['man','child','dog']\n",
    "for w in singulars:\n",
    "    if w in special_sing2plur:\n",
    "        print(special_sing2plur[w])\n",
    "    else:\n",
    "        print(w+'s')"
   ]
  },
  {
   "cell_type": "markdown",
   "metadata": {
    "slideshow": {
     "slide_type": "subslide"
    }
   },
   "source": [
    "`get(key[, default])`\n",
    "\n",
    "Return the value for key if key is in the dictionary, else default.\n",
    "If default is not given, it defaults to None, so that this method never raises a KeyError.\n"
   ]
  },
  {
   "cell_type": "code",
   "execution_count": null,
   "metadata": {
    "slideshow": {
     "slide_type": "subslide"
    }
   },
   "outputs": [],
   "source": [
    "sing2plur = {'goose':'geese', 'man':'men', 'child':'children'}\n",
    "singulars = ['man','child','dog']\n",
    "for w in singulars:\n",
    "    print(sing2plur.get(w, w+'s'))"
   ]
  },
  {
   "cell_type": "markdown",
   "metadata": {
    "slideshow": {
     "slide_type": "subslide"
    }
   },
   "source": [
    "However, `get(key[, default])` does not create key\n",
    "\n",
    "`setdefault(key[, default])`\n",
    "\n",
    "If key is in the dictionary, return its value. If not, insert key with a value of default and return default.\n",
    "default defaults to None.\n",
    "\n"
   ]
  },
  {
   "cell_type": "code",
   "execution_count": null,
   "metadata": {
    "slideshow": {
     "slide_type": "subslide"
    }
   },
   "outputs": [],
   "source": [
    "# antipattern - without setdefault\n",
    "wordforms = [('be','was'),('arise', 'arose'),('be','were')]\n",
    "wfdict = {}\n",
    "for (lemma, wordform) in wordforms:\n",
    "    if lemma not in wfdict:\n",
    "        wfdict[lemma] = [wordform]\n",
    "    else:\n",
    "        wfdict[lemma].append(wordform)\n",
    "print(wfdict)"
   ]
  },
  {
   "cell_type": "code",
   "execution_count": null,
   "metadata": {
    "slideshow": {
     "slide_type": "subslide"
    }
   },
   "outputs": [],
   "source": [
    "wordforms = [('be','was'),('arise', 'arose'),('be','were')]\n",
    "wfdict = {}\n",
    "for (lemma, wordform) in wordforms:\n",
    "    wfdict.setdefault(lemma,[]).append(wordform)\n",
    "print(wfdict)"
   ]
  },
  {
   "cell_type": "code",
   "execution_count": null,
   "metadata": {
    "scrolled": true,
    "slideshow": {
     "slide_type": "subslide"
    }
   },
   "outputs": [],
   "source": [
    "import os\n",
    "venv_dir = os.environ.setdefault('VENV_DIR', '/my/default/path')\n",
    "processor_level = os.environ.setdefault('PROCESSOR_LEVEL', '7')\n",
    "print(venv_dir)\n",
    "print(processor_level)"
   ]
  },
  {
   "cell_type": "markdown",
   "metadata": {
    "slideshow": {
     "slide_type": "subslide"
    }
   },
   "source": [
    "`collections.defaultdict`\n",
    "\n",
    "takes a function (default factory) as its argument\n",
    "\n",
    "By default, default factory is set to “int”, i.e 0.\n",
    "\n",
    "If a key is not present in defaultdict, the default factory value is returned and displayed"
   ]
  },
  {
   "cell_type": "code",
   "execution_count": null,
   "metadata": {
    "slideshow": {
     "slide_type": "subslide"
    }
   },
   "outputs": [],
   "source": [
    "from collections import defaultdict\n",
    "wordforms = [('be','was'),('arise', 'arose'),('be','were')]\n",
    "wfdict = defaultdict(list)\n",
    "for (lemma, wordform) in wordforms:\n",
    "    wfdict[lemma].append(wordform)\n",
    "print(wfdict)"
   ]
  },
  {
   "cell_type": "markdown",
   "metadata": {
    "slideshow": {
     "slide_type": "subslide"
    }
   },
   "source": [
    "Many other interesting collections - https://docs.python.org/3/library/collections.html"
   ]
  },
  {
   "cell_type": "markdown",
   "metadata": {
    "slideshow": {
     "slide_type": "subslide"
    }
   },
   "source": [
    "`collections.Counter`\n",
    "\n",
    "dict subclass for counting hashable objects\n",
    "\n",
    "It is a collection where elements are stored as dictionary keys and their counts are stored as dictionary values.\n",
    "\n",
    "Counts are allowed to be any integer value including zero or negative counts.\n",
    "\n",
    "The Counter class is similar to bags or multisets in other languages."
   ]
  },
  {
   "cell_type": "markdown",
   "metadata": {
    "slideshow": {
     "slide_type": "slide"
    }
   },
   "source": [
    "`collections.Counter`\n",
    "\n",
    "Based on https://www.digitalocean.com/community/tutorials/python-counter-python-collections-counter"
   ]
  },
  {
   "cell_type": "code",
   "execution_count": null,
   "metadata": {
    "slideshow": {
     "slide_type": "slide"
    }
   },
   "outputs": [],
   "source": [
    "from collections import Counter\n",
    "\n",
    "# empty Counter\n",
    "letter_counter = Counter()\n",
    "print(letter_counter)\n",
    "\n",
    "# Counter with initial values\n",
    "letter_counter = Counter(['a', 'b', 'a'])\n",
    "print(letter_counter)\n",
    "\n",
    "letter_counter = Counter(a=2, b=3, c=1)\n",
    "print(letter_counter)\n"
   ]
  },
  {
   "cell_type": "code",
   "execution_count": null,
   "metadata": {
    "slideshow": {
     "slide_type": "slide"
    }
   },
   "outputs": [],
   "source": [
    "# Iterable as argument for Counter\n",
    "letter_counter = Counter('abc')\n",
    "print(letter_counter)  # Counter({'a': 1, 'b': 1, 'c': 1})\n",
    "\n",
    "# List as argument to Counter\n",
    "words_list = ['Cat', 'Dog', 'Horse', 'Dog']\n",
    "word_counter = Counter(words_list)\n",
    "print(word_counter)  # Counter({'Dog': 2, 'Cat': 1, 'Horse': 1})\n",
    "\n",
    "# Dictionary as argument to Counter\n",
    "word_count_dict = {'Dog': 2, 'Cat': 1, 'Horse': 1}\n",
    "word_counter = Counter(word_count_dict)\n",
    "print(word_counter)  # Counter({'Dog': 2, 'Cat': 1, 'Horse': 1})\n"
   ]
  },
  {
   "cell_type": "code",
   "execution_count": null,
   "metadata": {
    "slideshow": {
     "slide_type": "slide"
    }
   },
   "outputs": [],
   "source": [
    "# getting count\n",
    "counter = Counter({'Dog': 2, 'Cat': 1, 'Horse': 1})\n",
    "countDog = counter['Dog']\n",
    "print(countDog)\n",
    "\n",
    "# getting count for non existing key, don't cause KeyError\n",
    "print(counter['Unicorn'])  # 0\n"
   ]
  },
  {
   "cell_type": "code",
   "execution_count": null,
   "metadata": {
    "slideshow": {
     "slide_type": "slide"
    }
   },
   "outputs": [],
   "source": [
    "counter = Counter({'Dog': 2, 'Cat': -1, 'Horse': 0})\n",
    "\n",
    "# elements()\n",
    "elements = counter.elements()  # doesn't return elements with count 0 or less\n",
    "for element in elements:\n",
    "    print(element)"
   ]
  },
  {
   "cell_type": "code",
   "execution_count": null,
   "metadata": {
    "slideshow": {
     "slide_type": "slide"
    }
   },
   "outputs": [],
   "source": [
    "counter = Counter({'Dog': 2, 'Cat': -1, 'Horse': 0})\n",
    "\n",
    "# most_common()\n",
    "most_common_element = counter.most_common(2)\n",
    "print(most_common_element)  # [('Dog', 2)]\n",
    "\n",
    "least_common_element = counter.most_common()[-1]\n",
    "print(least_common_element)  # [('Cat', -1)]"
   ]
  },
  {
   "cell_type": "code",
   "execution_count": null,
   "metadata": {
    "slideshow": {
     "slide_type": "slide"
    }
   },
   "outputs": [],
   "source": [
    "counter = Counter('ababab')\n",
    "print(counter)  # Counter({'a': 3, 'b': 3})\n",
    "c = Counter('abc')\n",
    "print(c)  # Counter({'a': 1, 'b': 1, 'c': 1})\n",
    "\n",
    "# subtract\n",
    "counter.subtract(c)\n",
    "print(counter)  # Counter({'a': 2, 'b': 2, 'c': -1})\n",
    "\n",
    "# update\n",
    "counter.update(c)\n",
    "print(counter)  # Counter({'a': 3, 'b': 3, 'c': 0})"
   ]
  },
  {
   "cell_type": "code",
   "execution_count": null,
   "metadata": {
    "slideshow": {
     "slide_type": "slide"
    }
   },
   "outputs": [],
   "source": [
    "# arithmetic operations\n",
    "c1 = Counter(a=2, b=0, c=-1)\n",
    "c2 = Counter(a=1, b=-1, c=2)\n",
    "\n",
    "c = c1 + c2  # return items having +ve count only\n",
    "print(c)  # Counter({'a': 3, 'c': 1})\n",
    "\n",
    "c = c1 - c2  # keeps only +ve count elements\n",
    "print(c)  # Counter({'a': 1, 'b': 1})\n",
    "\n",
    "c = c1 & c2  # intersection min(c1[x], c2[x])\n",
    "print(c)  # Counter({'a': 1})\n",
    "\n",
    "c = c1 | c2  # union max(c1[x], c2[x])\n",
    "print(c)  # Counter({'a': 2, 'c': 2})"
   ]
  },
  {
   "cell_type": "code",
   "execution_count": null,
   "metadata": {
    "slideshow": {
     "slide_type": "slide"
    }
   },
   "outputs": [],
   "source": [
    "counter = Counter({'a': 3, 'b': 3, 'c': 0})\n",
    "# miscellaneous examples\n",
    "print(sum(counter.values()))  # 6\n",
    "\n",
    "print(list(counter))  # ['a', 'b', 'c']\n",
    "print(set(counter))  # {'a', 'b', 'c'}\n",
    "print(dict(counter))  # {'a': 3, 'b': 3, 'c': 0}\n",
    "print(counter.items())  # dict_items([('a', 3), ('b', 3), ('c', 0)])\n",
    "\n",
    "# remove 0 or negative count elements\n",
    "counter = Counter(a=2, b=3, c=-1, d=0)\n",
    "counter = +counter\n",
    "print(counter)  # Counter({'b': 3, 'a': 2})\n",
    "\n",
    "# clear all elements\n",
    "counter.clear()\n",
    "print(counter)  # Counter()"
   ]
  },
  {
   "cell_type": "markdown",
   "metadata": {
    "hide_input": true,
    "slideshow": {
     "slide_type": "slide"
    }
   },
   "source": [
    "# Sets in Python"
   ]
  },
  {
   "cell_type": "markdown",
   "metadata": {
    "hide_input": true,
    "slideshow": {
     "slide_type": "subslide"
    }
   },
   "source": [
    "Python provides a built-in set type\n",
    "\n",
    "my_set = set(iter)\n",
    "\n",
    "my_set = {obj1, obj2, ..., obj_n}\n",
    "\n",
    "Sets are distinguished from other object types by the unique operations that can be performed on them"
   ]
  },
  {
   "cell_type": "markdown",
   "metadata": {
    "hide_input": true,
    "slideshow": {
     "slide_type": "subslide"
    }
   },
   "source": [
    "Python’s built-in set type has the following characteristics:\n",
    "\n",
    "- Sets are unordered\n",
    "- Set elements are unique. Duplicate elements are not allowed\n",
    "- A set itself may be modified, but the elements contained in the set must be of an immutable type"
   ]
  },
  {
   "cell_type": "code",
   "execution_count": null,
   "metadata": {
    "slideshow": {
     "slide_type": "subslide"
    }
   },
   "outputs": [],
   "source": [
    "x = set(['foo', 'baz', 'qux', 'foo', 'bar'])\n",
    "print(x)"
   ]
  },
  {
   "cell_type": "code",
   "execution_count": null,
   "metadata": {
    "slideshow": {
     "slide_type": "subslide"
    }
   },
   "outputs": [],
   "source": [
    "print(set(('foo', 'bar', 'baz', 'foo', 'qux')))"
   ]
  },
  {
   "cell_type": "code",
   "execution_count": null,
   "metadata": {
    "slideshow": {
     "slide_type": "subslide"
    }
   },
   "outputs": [],
   "source": [
    "s = 'xuul'\n",
    "list(s)"
   ]
  },
  {
   "cell_type": "code",
   "execution_count": null,
   "metadata": {
    "slideshow": {
     "slide_type": "subslide"
    }
   },
   "outputs": [],
   "source": [
    "s = 'xuul'\n",
    "set(s)"
   ]
  },
  {
   "cell_type": "markdown",
   "metadata": {
    "hide_input": true,
    "slideshow": {
     "slide_type": "subslide"
    }
   },
   "source": [
    "When a set is defined as s = {obj_1, obj_2, ..., obj_n}, each obj becomes a distinct element of the set, even if it is an iterable"
   ]
  },
  {
   "cell_type": "code",
   "execution_count": null,
   "metadata": {
    "slideshow": {
     "slide_type": "subslide"
    }
   },
   "outputs": [],
   "source": [
    "print({'foo'})\n",
    "print(set('foo'))"
   ]
  },
  {
   "cell_type": "markdown",
   "metadata": {
    "hide_input": true,
    "slideshow": {
     "slide_type": "subslide"
    }
   },
   "source": [
    "A set can be empty. However, recall that Python interprets empty curly braces ({}) as an empty dictionary, so the only way to define an empty set is with the set() function"
   ]
  },
  {
   "cell_type": "code",
   "execution_count": null,
   "metadata": {
    "slideshow": {
     "slide_type": "subslide"
    }
   },
   "outputs": [],
   "source": [
    "s = set()\n",
    "print(type(s))"
   ]
  },
  {
   "cell_type": "code",
   "execution_count": null,
   "metadata": {
    "slideshow": {
     "slide_type": "subslide"
    }
   },
   "outputs": [],
   "source": [
    "d = {}\n",
    "print(type(d))"
   ]
  },
  {
   "cell_type": "markdown",
   "metadata": {
    "hide_input": true,
    "slideshow": {
     "slide_type": "subslide"
    }
   },
   "source": [
    "An empty set is falsy in Boolean context"
   ]
  },
  {
   "cell_type": "code",
   "execution_count": null,
   "metadata": {
    "slideshow": {
     "slide_type": "subslide"
    }
   },
   "outputs": [],
   "source": [
    "print({'foo'})\n",
    "print(set('foo'))"
   ]
  },
  {
   "cell_type": "code",
   "execution_count": null,
   "metadata": {
    "slideshow": {
     "slide_type": "slide"
    }
   },
   "outputs": [],
   "source": [
    "names_as_set = set(['foo', 'bar', 'qux'])\n",
    "print(names_as_set)\n",
    "names_as_dict = dict.fromkeys(['foo', 'bar', 'qux'])\n",
    "print(names_as_dict)"
   ]
  },
  {
   "cell_type": "markdown",
   "metadata": {
    "slideshow": {
     "slide_type": "slide"
    }
   },
   "source": [
    "To make a compound dictionary key where order does not matter, use frozenset():\n"
   ]
  },
  {
   "cell_type": "code",
   "execution_count": null,
   "metadata": {
    "slideshow": {
     "slide_type": "slide"
    }
   },
   "outputs": [],
   "source": [
    "color_mix = {\n",
    " frozenset({'red', 'yellow'}): 'orange',\n",
    " frozenset({'red', 'blue'}): 'purple',\n",
    " frozenset({'blue', 'yellow'}): 'green',\n",
    " frozenset({'red', 'blue', 'yellow'}): 'black',\n",
    "}\n",
    "# order does not matter\n",
    "clist = ['blue','red']\n",
    "print(color_mix[frozenset(col_list)])"
   ]
  },
  {
   "cell_type": "markdown",
   "metadata": {
    "hide_input": true,
    "slideshow": {
     "slide_type": "slide"
    }
   },
   "source": [
    "# List, Dict and Set Comprehensions"
   ]
  },
  {
   "cell_type": "markdown",
   "metadata": {
    "slideshow": {
     "slide_type": "subslide"
    }
   },
   "source": [
    "A very common paradigm for building a list is as follows"
   ]
  },
  {
   "cell_type": "code",
   "execution_count": null,
   "metadata": {
    "slideshow": {
     "slide_type": "subslide"
    }
   },
   "outputs": [],
   "source": [
    "two_to_the_power_of = []\n",
    "for i in range(10):\n",
    "    two_to_the_power_of.append(2**i)\n",
    "\n",
    "two_to_the_power_of"
   ]
  },
  {
   "cell_type": "markdown",
   "metadata": {
    "slideshow": {
     "slide_type": "subslide"
    }
   },
   "source": [
    "The Python developers realised that it would be nice to be able to construct such lists using just an expression and invented the _list comprehension_"
   ]
  },
  {
   "cell_type": "markdown",
   "metadata": {
    "slideshow": {
     "slide_type": "subslide"
    }
   },
   "source": [
    "Using a comprehension we can write an expression that evaluates to the same list as above"
   ]
  },
  {
   "cell_type": "code",
   "execution_count": null,
   "metadata": {
    "slideshow": {
     "slide_type": "subslide"
    }
   },
   "outputs": [],
   "source": [
    "two_to_the_power_of = [2**x for x in range(10)]\n",
    "two_to_the_power_of"
   ]
  },
  {
   "cell_type": "code",
   "execution_count": null,
   "metadata": {
    "slideshow": {
     "slide_type": "subslide"
    }
   },
   "outputs": [],
   "source": [
    "x # In Python 3, i is purely local to the comprehension"
   ]
  },
  {
   "cell_type": "markdown",
   "metadata": {
    "slideshow": {
     "slide_type": "subslide"
    }
   },
   "source": [
    "You can also add conditions, which can be used to include only \"approved\" values"
   ]
  },
  {
   "cell_type": "markdown",
   "metadata": {
    "slideshow": {
     "slide_type": "subslide"
    }
   },
   "source": [
    "Suppose we wanted a list of the squares of even numbers, we could have written"
   ]
  },
  {
   "cell_type": "code",
   "execution_count": null,
   "metadata": {
    "slideshow": {
     "slide_type": "subslide"
    }
   },
   "outputs": [],
   "source": [
    "[x*x for x in range(10) if not x % 2]"
   ]
  },
  {
   "cell_type": "code",
   "execution_count": null,
   "metadata": {
    "slideshow": {
     "slide_type": "subslide"
    }
   },
   "outputs": [],
   "source": [
    "[len(str(2**x)) for x in range(10)]"
   ]
  },
  {
   "cell_type": "markdown",
   "metadata": {
    "slideshow": {
     "slide_type": "subslide"
    }
   },
   "source": [
    "More recently the language has been expanded to all the creation of sets and dicts\n",
    "using similar syntax."
   ]
  },
  {
   "cell_type": "code",
   "execution_count": null,
   "metadata": {
    "slideshow": {
     "slide_type": "subslide"
    }
   },
   "outputs": [],
   "source": [
    "{i: \"*\"*i for i in range(20)}"
   ]
  },
  {
   "cell_type": "code",
   "execution_count": null,
   "metadata": {
    "slideshow": {
     "slide_type": "subslide"
    }
   },
   "outputs": [],
   "source": [
    "{\"&\"*i for i in range(10) if i%2}"
   ]
  },
  {
   "cell_type": "code",
   "execution_count": null,
   "metadata": {
    "slideshow": {
     "slide_type": "subslide"
    }
   },
   "outputs": [],
   "source": [
    "n = 4\n",
    "[[(i, k) for i in range(1, k + 1)] for k in range(1, n + 1)]"
   ]
  },
  {
   "cell_type": "code",
   "execution_count": null,
   "metadata": {
    "slideshow": {
     "slide_type": "subslide"
    }
   },
   "outputs": [],
   "source": [
    "result_exter = []\n",
    "for k in range(1, n + 1):\n",
    "    result_inter = []\n",
    "    for i in range(1, k + 1):\n",
    "        result_inter.append((i, k))\n",
    "    result_exter.append(result_inter)\n",
    "result_exter"
   ]
  },
  {
   "cell_type": "code",
   "execution_count": null,
   "metadata": {
    "slideshow": {
     "slide_type": "subslide"
    }
   },
   "outputs": [],
   "source": [
    "[[(i, k) for i in range(1, k + 1) if (i + k)%2 == 0] \\\n",
    "         for k in range(1, n + 1) if k % 2 == 0]"
   ]
  },
  {
   "cell_type": "code",
   "execution_count": null,
   "metadata": {
    "slideshow": {
     "slide_type": "subslide"
    }
   },
   "outputs": [],
   "source": [
    "result_exter = []\n",
    "for k in range(1,n + 1):\n",
    "    if k % 2 == 0:\n",
    "        result_inter = []\n",
    "        for i in range(1, k + 1):\n",
    "            if (i + k) % 2 == 0:\n",
    "                result_inter.append((i, k))\n",
    "        result_exter.append(result_inter)\n",
    "result_exter"
   ]
  },
  {
   "cell_type": "code",
   "execution_count": null,
   "metadata": {
    "slideshow": {
     "slide_type": "subslide"
    }
   },
   "outputs": [],
   "source": [
    "[(x, y) for x in [1, 2] for y in [1, 2]]"
   ]
  },
  {
   "cell_type": "code",
   "execution_count": null,
   "metadata": {
    "slideshow": {
     "slide_type": "subslide"
    }
   },
   "outputs": [],
   "source": [
    "n = 4\n",
    "[i**2 for i in range(1, k + 1) for k in range(1, n + 1)]"
   ]
  },
  {
   "cell_type": "code",
   "execution_count": null,
   "metadata": {
    "slideshow": {
     "slide_type": "subslide"
    }
   },
   "outputs": [],
   "source": [
    "# Convert Celsius to Fahrenheit\n",
    "celsius = [0,10,20,30]\n",
    "fahrenheit = [ 9/5 * temp + 32 for temp in celsius ]\n",
    "fahrenheit"
   ]
  },
  {
   "cell_type": "code",
   "execution_count": null,
   "metadata": {
    "slideshow": {
     "slide_type": "subslide"
    }
   },
   "outputs": [],
   "source": [
    "lst = [ x**2 for x in [x**2 for x in range(11)]]\n",
    "lst"
   ]
  },
  {
   "cell_type": "code",
   "execution_count": null,
   "metadata": {
    "slideshow": {
     "slide_type": "subslide"
    }
   },
   "outputs": [],
   "source": [
    "''.join([letter.upper() for letter in \"Sherlock\" if letter.lower() not in 'aeiou'])"
   ]
  },
  {
   "cell_type": "code",
   "execution_count": null,
   "metadata": {
    "slideshow": {
     "slide_type": "subslide"
    }
   },
   "outputs": [],
   "source": [
    "[2**x for x in range(30) if x%3 ==0 ]"
   ]
  },
  {
   "cell_type": "code",
   "execution_count": null,
   "metadata": {
    "slideshow": {
     "slide_type": "subslide"
    }
   },
   "outputs": [],
   "source": [
    "result=[]\n",
    "for x in range(30):\n",
    "    if x%3 == 0:\n",
    "        result.append(2**x)\n",
    "print(result)"
   ]
  },
  {
   "cell_type": "markdown",
   "metadata": {
    "slideshow": {
     "slide_type": "subslide"
    }
   },
   "source": [
    "Comprehensions are an example of what we call **syntactic sugar**: they do not increase the capabilities of the language."
   ]
  },
  {
   "cell_type": "markdown",
   "metadata": {
    "slideshow": {
     "slide_type": "subslide"
    }
   },
   "source": [
    "Instead, they make it possible to write the same thing in a more readable way"
   ]
  },
  {
   "cell_type": "markdown",
   "metadata": {
    "slideshow": {
     "slide_type": "subslide"
    }
   },
   "source": [
    "## Nested comprehensions"
   ]
  },
  {
   "cell_type": "markdown",
   "metadata": {
    "slideshow": {
     "slide_type": "subslide"
    }
   },
   "source": [
    "If you write two `for` statements in a comprehension, you get a single array generated over all the pairs:"
   ]
  },
  {
   "cell_type": "code",
   "execution_count": null,
   "metadata": {
    "slideshow": {
     "slide_type": "subslide"
    }
   },
   "outputs": [],
   "source": [
    "[x - y for x in range(4) for y in range(4)]"
   ]
  },
  {
   "cell_type": "code",
   "execution_count": null,
   "metadata": {
    "slideshow": {
     "slide_type": "subslide"
    }
   },
   "outputs": [],
   "source": []
  },
  {
   "cell_type": "markdown",
   "metadata": {
    "slideshow": {
     "slide_type": "subslide"
    }
   },
   "source": [
    "You can select on either, or on some combination:"
   ]
  },
  {
   "cell_type": "code",
   "execution_count": null,
   "metadata": {
    "slideshow": {
     "slide_type": "subslide"
    }
   },
   "outputs": [],
   "source": [
    "[x - y for x in range(4) for y in range(4) if x>=y]"
   ]
  },
  {
   "cell_type": "markdown",
   "metadata": {
    "slideshow": {
     "slide_type": "subslide"
    }
   },
   "source": [
    "If you want something more like a matrix, you need to do *two nested* comprehensions!"
   ]
  },
  {
   "cell_type": "code",
   "execution_count": null,
   "metadata": {
    "slideshow": {
     "slide_type": "subslide"
    }
   },
   "outputs": [],
   "source": [
    "[[x - y for x in range(4)] for y in range(4)]"
   ]
  },
  {
   "cell_type": "markdown",
   "metadata": {
    "slideshow": {
     "slide_type": "subslide"
    }
   },
   "source": [
    "Note the subtly different square brackets"
   ]
  },
  {
   "cell_type": "code",
   "execution_count": null,
   "metadata": {
    "slideshow": {
     "slide_type": "subslide"
    }
   },
   "outputs": [],
   "source": [
    "vec1 = [2, 4, 6]\n",
    "vec2 = [4, 3, -9]\n",
    "[x*y for x in vec1 for y in vec2]\n"
   ]
  },
  {
   "cell_type": "code",
   "execution_count": null,
   "metadata": {
    "slideshow": {
     "slide_type": "subslide"
    }
   },
   "outputs": [],
   "source": [
    "[vec1[i]*vec2[i] for i in range(len(vec1))]"
   ]
  },
  {
   "cell_type": "code",
   "execution_count": null,
   "metadata": {
    "slideshow": {
     "slide_type": "subslide"
    }
   },
   "outputs": [],
   "source": [
    "[str(round(355/113, i)) for i in range(1, 6)]"
   ]
  },
  {
   "cell_type": "markdown",
   "metadata": {
    "slideshow": {
     "slide_type": "subslide"
    }
   },
   "source": [
    "Note that the list order for multiple or nested comprehensions can be confusing:"
   ]
  },
  {
   "cell_type": "code",
   "execution_count": null,
   "metadata": {
    "slideshow": {
     "slide_type": "subslide"
    }
   },
   "outputs": [],
   "source": [
    "[x+y for x in ['a','b','c'] for y in ['1','2','3']]"
   ]
  },
  {
   "cell_type": "code",
   "execution_count": null,
   "metadata": {
    "slideshow": {
     "slide_type": "subslide"
    }
   },
   "outputs": [],
   "source": [
    "[[x+y for x in ['a','b','c']] for y in ['1','2','3']]"
   ]
  },
  {
   "cell_type": "code",
   "execution_count": null,
   "metadata": {
    "slideshow": {
     "slide_type": "subslide"
    }
   },
   "outputs": [],
   "source": [
    "matrix = [\n",
    "    [1, 2, 3, 4],\n",
    "    [5, 6, 7, 8],\n",
    "    [9, 10, 11, 12]\n",
    "]\n",
    "[[row[i] for row in matrix] for i in range(4)]\n",
    "[[1, 5, 9], [2, 6, 10], [3, 7, 11], [4, 8, 12]]"
   ]
  },
  {
   "cell_type": "code",
   "execution_count": null,
   "metadata": {
    "slideshow": {
     "slide_type": "subslide"
    }
   },
   "outputs": [],
   "source": [
    "[list(x) for x in zip(*matrix)]"
   ]
  },
  {
   "cell_type": "code",
   "execution_count": null,
   "metadata": {
    "slideshow": {
     "slide_type": "subslide"
    }
   },
   "outputs": [],
   "source": [
    "import os\n",
    "import glob # Unix style pathname pattern expansion\n",
    "[f for f in glob.glob('*.ipynb') if os.stat(f).st_size > 6000]"
   ]
  },
  {
   "cell_type": "code",
   "execution_count": null,
   "metadata": {
    "slideshow": {
     "slide_type": "subslide"
    }
   },
   "outputs": [],
   "source": [
    "import os, glob\n",
    "[(os.stat(f).st_size, os.path.realpath(f)) for f in glob.glob('*.ipynb')]"
   ]
  },
  {
   "cell_type": "code",
   "execution_count": null,
   "metadata": {
    "slideshow": {
     "slide_type": "subslide"
    }
   },
   "outputs": [],
   "source": [
    "[ [ 1 if item_idx == row_idx else 0 for item_idx in range(0, 3) ] for row_idx in range(0, 3) ]"
   ]
  },
  {
   "cell_type": "markdown",
   "metadata": {
    "slideshow": {
     "slide_type": "subslide"
    }
   },
   "source": [
    "## Dictionary and Set Comprehensions"
   ]
  },
  {
   "cell_type": "markdown",
   "metadata": {
    "slideshow": {
     "slide_type": "subslide"
    }
   },
   "source": [
    "You can automatically build dictionaries, by using a list comprehension syntax, but with curly brackets and a colon:"
   ]
  },
  {
   "cell_type": "code",
   "execution_count": null,
   "metadata": {
    "slideshow": {
     "slide_type": "subslide"
    }
   },
   "outputs": [],
   "source": [
    "{ (str(x))*3: x for x in range(3) }"
   ]
  },
  {
   "cell_type": "code",
   "execution_count": null,
   "metadata": {},
   "outputs": [],
   "source": []
  },
  {
   "cell_type": "code",
   "execution_count": null,
   "metadata": {
    "slideshow": {
     "slide_type": "subslide"
    }
   },
   "outputs": [],
   "source": [
    "metadata_dict = {f:os.stat(f) for f in glob.glob('*.ipynb')}\n",
    "metadata_dict"
   ]
  },
  {
   "cell_type": "code",
   "execution_count": null,
   "metadata": {
    "slideshow": {
     "slide_type": "subslide"
    }
   },
   "outputs": [],
   "source": [
    "a_dict = {'a': 1, 'b': 2, 'c': 3}\n",
    "{value:key for key, value in a_dict.items()}"
   ]
  },
  {
   "cell_type": "code",
   "execution_count": null,
   "metadata": {
    "slideshow": {
     "slide_type": "subslide"
    }
   },
   "outputs": [],
   "source": [
    "a_dict = {'a': [1, 2, 3], 'b': 'd', 'c': 5}\n",
    "{value:key for key, value in a_dict.items()}"
   ]
  },
  {
   "cell_type": "code",
   "execution_count": null,
   "metadata": {
    "scrolled": true,
    "slideshow": {
     "slide_type": "subslide"
    }
   },
   "outputs": [],
   "source": [
    "a_dict = {'a': [1, 2, 3], 'b': 'd', 'c': 5}\n",
    "{tuple(value):key for key, value in a_dict.items()}"
   ]
  },
  {
   "cell_type": "code",
   "execution_count": null,
   "metadata": {
    "slideshow": {
     "slide_type": "subslide"
    }
   },
   "outputs": [],
   "source": [
    "import collections\n",
    "\n",
    "def get_iterable(x):\n",
    "    if isinstance(x, collections.Iterable):\n",
    "        return x\n",
    "    else:\n",
    "        return (x,)"
   ]
  },
  {
   "cell_type": "code",
   "execution_count": null,
   "metadata": {
    "scrolled": true,
    "slideshow": {
     "slide_type": "subslide"
    }
   },
   "outputs": [],
   "source": [
    "a_dict = {'a': [1, 2, 3], 'b': 'd', 'c': 5}\n",
    "{tuple(get_iterable(value)):key for key, value in a_dict.items()}"
   ]
  },
  {
   "cell_type": "code",
   "execution_count": null,
   "metadata": {
    "scrolled": true,
    "slideshow": {
     "slide_type": "subslide"
    }
   },
   "outputs": [],
   "source": [
    "a_dict = {'a': [1, 2, 3], 'b': 'd', 'c': 5}\n",
    "{str(value):key for key, value in a_dict.items()}"
   ]
  },
  {
   "cell_type": "code",
   "execution_count": null,
   "metadata": {
    "scrolled": true,
    "slideshow": {
     "slide_type": "subslide"
    }
   },
   "outputs": [],
   "source": [
    "a_dict = {'a': [1, 2, 3], 'b': 'd', 'c': 5}\n",
    "{repr(value):key for key, value in a_dict.items()}"
   ]
  },
  {
   "cell_type": "code",
   "execution_count": null,
   "metadata": {
    "slideshow": {
     "slide_type": "subslide"
    }
   },
   "outputs": [],
   "source": [
    "names = [ 'Bob', 'Johny', 'alice', 'bob', 'ALICE', 'J', 'Bob' ]\n",
    "\n",
    "wanted = {'Johny', 'Alice', 'Bob'}"
   ]
  },
  {
   "cell_type": "code",
   "execution_count": null,
   "metadata": {
    "slideshow": {
     "slide_type": "subslide"
    }
   },
   "outputs": [],
   "source": [
    "{ name[0].upper() + name[1:].lower() for name in names if len(name) > 1 }"
   ]
  },
  {
   "cell_type": "code",
   "execution_count": null,
   "metadata": {
    "slideshow": {
     "slide_type": "subslide"
    }
   },
   "outputs": [],
   "source": [
    "# minitask 4\n",
    "mcase = {'a':10, 'b': 34, 'A': 7, 'Z':3}\n",
    "wanted = {'a': 17, 'b': 34, 'z': 3}"
   ]
  },
  {
   "cell_type": "code",
   "execution_count": null,
   "metadata": {
    "slideshow": {
     "slide_type": "subslide"
    }
   },
   "outputs": [],
   "source": [
    "{x for x in range(2, 41) if all(x%y for y in range(2, min(x, 11)))}"
   ]
  },
  {
   "cell_type": "code",
   "execution_count": null,
   "metadata": {
    "slideshow": {
     "slide_type": "slide"
    }
   },
   "outputs": [],
   "source": [
    "a = [1,3,5,7,2,4,9]\n",
    "b = [2,4,6,7,8,8,3]\n",
    "print([x for x in a if x in b])"
   ]
  },
  {
   "cell_type": "code",
   "execution_count": null,
   "metadata": {
    "slideshow": {
     "slide_type": "slide"
    }
   },
   "outputs": [],
   "source": [
    "a = [i for i in range(20_000)]\n",
    "a.append('c')\n",
    "b = [i for i in range(40_000,19_991,-1)]\n",
    "b.append('c')\n",
    "print([x for x in b if x in a])"
   ]
  },
  {
   "cell_type": "code",
   "execution_count": null,
   "metadata": {
    "slideshow": {
     "slide_type": "slide"
    }
   },
   "outputs": [],
   "source": [
    "a = [i for i in range(20_000)]\n",
    "a.append('c')\n",
    "b = [i for i in range(40_000,19_991,-1)]\n",
    "b.append('c')\n",
    "set_a = set(a)\n",
    "set_b = set(b)\n",
    "print([x for x in a if x in set_b])\n",
    "print([x for x in b if x in set_a])"
   ]
  },
  {
   "cell_type": "code",
   "execution_count": null,
   "metadata": {
    "slideshow": {
     "slide_type": "slide"
    }
   },
   "outputs": [],
   "source": [
    "a = [i for i in range(20_000)]\n",
    "a.append('c')\n",
    "b = [i for i in range(40_000,19_991,-1)]\n",
    "b.append('c')\n",
    "print(set(a) & set(b))"
   ]
  },
  {
   "cell_type": "code",
   "execution_count": null,
   "metadata": {
    "slideshow": {
     "slide_type": "slide"
    }
   },
   "outputs": [],
   "source": [
    "a = [i for i in range(20_000)]\n",
    "b = [i for i in range(19_991,40_000)]\n",
    "print(list(set(a) & set(b)))"
   ]
  },
  {
   "cell_type": "code",
   "execution_count": null,
   "metadata": {
    "slideshow": {
     "slide_type": "slide"
    }
   },
   "outputs": [],
   "source": [
    "a = [i for i in range(20_000)]\n",
    "b = [i for i in range(19_991,40_000)]\n",
    "print(dict.fromkeys(a) & dict.fromkeys(b))"
   ]
  },
  {
   "cell_type": "markdown",
   "metadata": {
    "slideshow": {
     "slide_type": "slide"
    }
   },
   "source": [
    "## Python does not have a builtin frozendict type\n",
    "\n",
    "The idea was rejected in [PEP 416 -- Add a frozendict builtin type](https://www.python.org/dev/peps/pep-0416/). \n",
    "\n",
    "This idea may be revisited in a later Python release - see [PEP 603 -- Adding a frozenmap type to collections](https://www.python.org/dev/peps/pep-0603/)."
   ]
  },
  {
   "cell_type": "code",
   "execution_count": null,
   "metadata": {
    "slideshow": {
     "slide_type": "slide"
    }
   },
   "outputs": [],
   "source": [
    "# almost frozendict\n",
    "kwargs = {'second':2, 'first':'a'}\n",
    "#result4kwargs={kwargs:42}\n",
    "hashable = tuple(sorted(kwargs.items()))\n",
    "result4kwargs={hashable:42}"
   ]
  },
  {
   "cell_type": "markdown",
   "metadata": {
    "slideshow": {
     "slide_type": "slide"
    }
   },
   "source": [
    "## Since dict() now maintain order, why orderedDict()?\n",
    "\n",
    "https://twitter.com/raymondh/status/1379520630899449856"
   ]
  },
  {
   "cell_type": "markdown",
   "metadata": {
    "slideshow": {
     "slide_type": "subslide"
    }
   },
   "source": [
    "The dict.popitem() method is guaranteed to remove key/value pairs in LIFO order"
   ]
  },
  {
   "cell_type": "code",
   "execution_count": null,
   "metadata": {
    "slideshow": {
     "slide_type": "subslide"
    }
   },
   "outputs": [],
   "source": [
    "d = dict(red=1, green=2, blue=3)\n",
    "removed = d.popitem()\n",
    "print(removed)\n",
    "removed = d.popitem()\n",
    "print(removed)\n",
    "removed = d.popitem()\n",
    "print(removed)                                                                                                                                                                                                                                             "
   ]
  },
  {
   "cell_type": "markdown",
   "metadata": {
    "slideshow": {
     "slide_type": "subslide"
    }
   },
   "source": [
    "In contrast, OrderedDict.popitem() supports both FIFO and LIFO extraction of key/value pairs."
   ]
  },
  {
   "cell_type": "code",
   "execution_count": null,
   "metadata": {
    "slideshow": {
     "slide_type": "subslide"
    }
   },
   "outputs": [],
   "source": [
    "from collections import OrderedDict\n",
    "d = OrderedDict(red=1, green=2, blue=3)\n",
    "removed = d.popitem(last=False)  # FIFO\n",
    "print(removed)\n",
    "\n",
    "removed = d.popitem()  # LIFO\n",
    "print(removed)"
   ]
  },
  {
   "cell_type": "markdown",
   "metadata": {
    "slideshow": {
     "slide_type": "subslide"
    }
   },
   "source": [
    "OrderedDict can efficiently move entries to either end without a hash table update."
   ]
  },
  {
   "cell_type": "code",
   "execution_count": null,
   "metadata": {
    "slideshow": {
     "slide_type": "subslide"
    }
   },
   "outputs": [],
   "source": [
    "d = OrderedDict(red=1, green=2, blue=3)\n",
    "d.move_to_end('green')\n",
    "list(d)"
   ]
  },
  {
   "cell_type": "code",
   "execution_count": null,
   "metadata": {
    "slideshow": {
     "slide_type": "subslide"
    }
   },
   "outputs": [],
   "source": [
    "d.move_to_end('green', last=False)\n",
    "list(d)"
   ]
  },
  {
   "cell_type": "markdown",
   "metadata": {
    "slideshow": {
     "slide_type": "subslide"
    }
   },
   "source": [
    "These API differences reflect the capabilities of the underlying implementations\n",
    "\n",
    "dict() keeps keys in space-efficient sequence, so only right-side appends and pops are fast\n",
    "\n",
    "OrderedDict uses a regular dict plus a doubly-linked list, the extra operations are fast"
   ]
  },
  {
   "cell_type": "markdown",
   "metadata": {
    "slideshow": {
     "slide_type": "subslide"
    }
   },
   "source": [
    "Also, comparison compare order of items on OrderedDict and just items in ordinary Dict for example"
   ]
  },
  {
   "cell_type": "code",
   "execution_count": null,
   "metadata": {
    "slideshow": {
     "slide_type": "subslide"
    }
   },
   "outputs": [],
   "source": [
    "print(dict(red=1, green=2, blue=3) == dict(red=1, blue=3, green=2))\n",
    "print(OrderedDict(red=1, green=2, blue=3) == OrderedDict(red=1, blue=3, green=2))"
   ]
  },
  {
   "cell_type": "code",
   "execution_count": null,
   "metadata": {
    "slideshow": {
     "slide_type": "slide"
    }
   },
   "outputs": [],
   "source": [
    "eskymo = ['do', 'pre', 'du', 'du', 'do', 'za', 'du', 'du']"
   ]
  },
  {
   "cell_type": "code",
   "execution_count": null,
   "metadata": {
    "slideshow": {
     "slide_type": "subslide"
    }
   },
   "outputs": [],
   "source": [
    "from collections import Counter\n",
    "eskymo = ['do', 'pre', 'du', 'du', 'do', 'za', 'du', 'du']\n",
    "wordfreq_eskymo = Counter(eskymo)\n",
    "print (wordfreq_eskymo)"
   ]
  },
  {
   "cell_type": "code",
   "execution_count": null,
   "metadata": {
    "slideshow": {
     "slide_type": "subslide"
    }
   },
   "outputs": [],
   "source": [
    "eskymo = ['do', 'pre', 'du', 'du', 'do', 'za', 'du', 'du']\n",
    "wordfreq_eskymo = {word : eskymo.count(word) for (word) in set(eskymo)}\n",
    "print (wordfreq_eskymo)"
   ]
  },
  {
   "cell_type": "code",
   "execution_count": null,
   "metadata": {
    "slideshow": {
     "slide_type": "subslide"
    }
   },
   "outputs": [],
   "source": [
    "eskymo = ['do', 'pre', 'du', 'du', 'do', 'za', 'du', 'du']\n",
    "wordfreq_eskymo = {word : eskymo.count(word) for (word) in dict.fromkeys(eskymo)}\n",
    "print (wordfreq_eskymo)"
   ]
  },
  {
   "cell_type": "markdown",
   "metadata": {
    "slideshow": {
     "slide_type": "subslide"
    }
   },
   "source": [
    "# How to implement trees in Python?\n",
    "\n",
    "# Unfortunately, some concepts cannot be fully explained with our current knowledge but let us try"
   ]
  },
  {
   "cell_type": "markdown",
   "metadata": {
    "slideshow": {
     "slide_type": "subslide"
    }
   },
   "source": [
    "# Trees in Python"
   ]
  },
  {
   "cell_type": "markdown",
   "metadata": {
    "slideshow": {
     "slide_type": "subslide"
    }
   },
   "source": [
    "## Later, you will understand class definitions, such as:"
   ]
  },
  {
   "cell_type": "code",
   "execution_count": null,
   "metadata": {
    "slideshow": {
     "slide_type": "subslide"
    }
   },
   "outputs": [],
   "source": [
    "class Tree:\n",
    "    def __init__(self, cargo, left=None, right=None):\n",
    "        self.cargo = cargo\n",
    "        self.left = left\n",
    "        self.right = right\n",
    "    def __str__(self):\n",
    "        return str(self.cargo)\n",
    "    \n",
    "left = Tree(2)\n",
    "right = Tree(3)\n",
    "tree1 = Tree(1, left, right)\n",
    "tree2 = Tree(1, Tree(2), Tree(3))\n"
   ]
  },
  {
   "cell_type": "markdown",
   "metadata": {
    "slideshow": {
     "slide_type": "subslide"
    }
   },
   "source": [
    "### Traversing trees"
   ]
  },
  {
   "cell_type": "code",
   "execution_count": null,
   "metadata": {
    "slideshow": {
     "slide_type": "subslide"
    }
   },
   "outputs": [],
   "source": [
    "def total(tree):\n",
    "    if tree == None: return 0\n",
    "    return total(tree.left) + total(tree.right) + tree.cargo\n",
    "\n",
    "tree = Tree('+', Tree(1), Tree('*', Tree(2), Tree(3)))\n",
    "\n",
    "def print_tree(tree):\n",
    "    if tree == None: return\n",
    "    print(tree.cargo, print_tree(tree.left), print_tree(tree.right))\n",
    "\n",
    "print_tree(tree)\t# + 1 * 2 3\n"
   ]
  },
  {
   "cell_type": "code",
   "execution_count": null,
   "metadata": {
    "slideshow": {
     "slide_type": "subslide"
    }
   },
   "outputs": [],
   "source": [
    "def print_tree_postorder(tree):\n",
    "    if tree == None: return\n",
    "    print_tree_postorder(tree.left)\n",
    "    print_tree_postorder(tree.right)\n",
    "    print(tree.cargo)\n",
    "        \n",
    "print_tree_postorder(tree)\n",
    "\n",
    "def print_tree_indented(tree, level=0):\n",
    "    if tree == None: return\n",
    "    print_tree_indented(tree.right, level+1)\n",
    "    print('  ' * level + str(tree.cargo))\n",
    "    print_tree_indented(tree.left, level+1)\n"
   ]
  },
  {
   "cell_type": "code",
   "execution_count": null,
   "metadata": {
    "slideshow": {
     "slide_type": "subslide"
    }
   },
   "outputs": [],
   "source": [
    "class TreeNode(list):\n",
    "    def __init__(self, iterable=(), **attributes):\n",
    "        self.attr = attributes\n",
    "        list.__init__(self, iterable)\n",
    "        \n",
    "    def __repr__(self):\n",
    "        return '%s(%s, %r)' % (type(self).__name__,list.__repr__(self), self.attr)\n"
   ]
  },
  {
   "cell_type": "markdown",
   "metadata": {
    "slideshow": {
     "slide_type": "subslide"
    }
   },
   "source": [
    "### Autovivification \n",
    "\n",
    "automatic creation of a reference to a name when referencing undefined value"
   ]
  },
  {
   "cell_type": "code",
   "execution_count": null,
   "metadata": {
    "slideshow": {
     "slide_type": "subslide"
    }
   },
   "outputs": [],
   "source": [
    "from collections import defaultdict\n",
    "def tree(): return defaultdict(tree)\n"
   ]
  },
  {
   "cell_type": "code",
   "execution_count": null,
   "metadata": {
    "slideshow": {
     "slide_type": "subslide"
    }
   },
   "outputs": [],
   "source": [
    "# a tree as a dictionary\n",
    "t1 = {40 : {30:{}, 50:{}}}\n",
    "t2 = {40: {30:{20:{}}, 50:{60:{}, 70:{}}}}\n",
    "t2"
   ]
  },
  {
   "cell_type": "code",
   "execution_count": null,
   "metadata": {
    "slideshow": {
     "slide_type": "subslide"
    }
   },
   "outputs": [],
   "source": [
    "# functions are first-class citizens\n",
    "def sqr(x):\n",
    "    return x*x\n",
    "def cube(x):\n",
    "    return x*x*x\n",
    "a = {'hello':sqr, 'world':cube}\n",
    "m = a['hello'](5)\n",
    "n = a['world'](10)\n"
   ]
  },
  {
   "cell_type": "code",
   "execution_count": null,
   "metadata": {
    "slideshow": {
     "slide_type": "subslide"
    }
   },
   "outputs": [],
   "source": [
    "# defaultdict\n",
    "from collections import defaultdict\n",
    "a = defaultdict()\n",
    "a['hello'] = 1\n",
    "a['hello']"
   ]
  },
  {
   "cell_type": "code",
   "execution_count": null,
   "metadata": {
    "slideshow": {
     "slide_type": "subslide"
    }
   },
   "outputs": [],
   "source": [
    "a['world']"
   ]
  },
  {
   "cell_type": "code",
   "execution_count": null,
   "metadata": {
    "slideshow": {
     "slide_type": "subslide"
    }
   },
   "outputs": [],
   "source": [
    "def always_one():\n",
    "    return 1\n",
    "\n",
    "a = defaultdict(always_one)\n",
    "a['hello'] = 10\n",
    "a['world']"
   ]
  },
  {
   "cell_type": "code",
   "execution_count": null,
   "metadata": {
    "slideshow": {
     "slide_type": "subslide"
    }
   },
   "outputs": [],
   "source": [
    "from collections import defaultdict\n",
    "def tree(): return defaultdict(tree)\n",
    "\n",
    "a = tree()\n",
    "# an instance of defaultdict, which has\n",
    "# function tree() as the constructor of\n",
    "# its value for non-existent keys\n",
    "# (similarly to aways_one)\n"
   ]
  },
  {
   "cell_type": "code",
   "execution_count": null,
   "metadata": {
    "slideshow": {
     "slide_type": "subslide"
    }
   },
   "outputs": [],
   "source": [
    "a[50]\n",
    "# key 50 is added to the dictionary, another\n",
    "# instance of the defaultdict as its value"
   ]
  },
  {
   "cell_type": "code",
   "execution_count": null,
   "metadata": {
    "slideshow": {
     "slide_type": "subslide"
    }
   },
   "outputs": [],
   "source": [
    "a[50][40]\n",
    "# a[50] is an instance defaultdict\n",
    "# a[50][40] indexes this instance using key 40\n",
    "# which does not exist\n",
    "# the key is added to this instance\n",
    "# and its value is set to the value returned\n",
    "# when calling tree() - yet another instance\n",
    "# of default dict"
   ]
  },
  {
   "cell_type": "code",
   "execution_count": null,
   "metadata": {
    "slideshow": {
     "slide_type": "subslide"
    }
   },
   "outputs": [],
   "source": [
    "a[50][60]\n",
    "a[50][70]\n",
    "a[50][40][20]\n",
    "a[50][40][25]\n",
    "a[50][40][25][23]\n",
    "a"
   ]
  },
  {
   "cell_type": "code",
   "execution_count": null,
   "metadata": {
    "slideshow": {
     "slide_type": "subslide"
    }
   },
   "outputs": [],
   "source": [
    "users = tree()\n",
    "users['harold']['username'] = 'hrldcpr'\n",
    "users['handler']['username'] = 'matthandlersux'\n",
    "\n",
    "import json\n",
    "print(json.dumps(users))\n"
   ]
  },
  {
   "cell_type": "code",
   "execution_count": null,
   "metadata": {
    "slideshow": {
     "slide_type": "subslide"
    }
   },
   "outputs": [],
   "source": [
    "taxonomy = tree()\n",
    "taxonomy['Animalia']['Chordata']['Mammalia']['Carnivora']['Felidae']['Felis']['cat']\n",
    "taxonomy['Animalia']['Chordata']['Mammalia']['Carnivora']['Felidae']['Panthera']['lion']\n",
    "taxonomy['Animalia']['Chordata']['Mammalia']['Carnivora']['Canidae']['Canis']['dog']\n",
    "taxonomy['Animalia']['Chordata']['Mammalia']['Carnivora']['Canidae']['Canis']['coyote']\n",
    "taxonomy['Plantae']['Solanales']['Solanaceae']['Solanum']['tomato']\n",
    "taxonomy['Plantae']['Solanales']['Solanaceae']['Solanum']['potato']\n",
    "taxonomy['Plantae']['Solanales']['Convolvulaceae']['Ipomoea']['sweet potato']"
   ]
  },
  {
   "cell_type": "code",
   "execution_count": null,
   "metadata": {
    "slideshow": {
     "slide_type": "subslide"
    }
   },
   "outputs": [],
   "source": [
    "def dicts(t): return {k: dicts(t[k]) for k in t}\n",
    "import pprint\n",
    "pprint.pprint(dicts(taxonomy))\n",
    " "
   ]
  },
  {
   "cell_type": "code",
   "execution_count": null,
   "metadata": {
    "slideshow": {
     "slide_type": "subslide"
    }
   },
   "outputs": [],
   "source": [
    "def add(t, keys):\n",
    "    for key in keys:\n",
    "        t = t[key]\n",
    "\n",
    "add(taxonomy, \n",
    "        'Animalia,Chordata,Mammalia,Cetacea,Balaenopteridae,Balaenoptera,blue whale'.split(','))\n",
    "\n",
    "pprint.pprint(dicts(taxonomy))\n"
   ]
  },
  {
   "cell_type": "code",
   "execution_count": null,
   "metadata": {
    "slideshow": {
     "slide_type": "slide"
    }
   },
   "outputs": [],
   "source": [
    "def mersenne(n):\n",
    "    return  2**n - 1"
   ]
  },
  {
   "cell_type": "code",
   "execution_count": null,
   "metadata": {
    "slideshow": {
     "slide_type": "slide"
    }
   },
   "outputs": [],
   "source": [
    "print(mersenne(5))"
   ]
  },
  {
   "cell_type": "code",
   "execution_count": null,
   "metadata": {
    "slideshow": {
     "slide_type": "slide"
    }
   },
   "outputs": [],
   "source": [
    "def give_4():\n",
    "    return 4\n",
    "a = give_4()\n",
    "b = give_4\n",
    "print(a)\n",
    "print(b)\n",
    "a = b = 1\n",
    "dir(mersenne)"
   ]
  },
  {
   "cell_type": "code",
   "execution_count": null,
   "metadata": {
    "slideshow": {
     "slide_type": "slide"
    }
   },
   "outputs": [],
   "source": [
    "def print_hello():\n",
    "    print('hello')\n",
    "print_hello()"
   ]
  },
  {
   "cell_type": "code",
   "execution_count": null,
   "metadata": {
    "slideshow": {
     "slide_type": "slide"
    }
   },
   "outputs": [],
   "source": [
    "from datetime import datetime\n",
    "def print_now():\n",
    "    print(datetime.now())\n",
    "print_now()"
   ]
  },
  {
   "cell_type": "code",
   "execution_count": null,
   "metadata": {
    "slideshow": {
     "slide_type": "slide"
    }
   },
   "outputs": [],
   "source": [
    "options = {\n",
    "           '1': print_now(),\n",
    "           '2': print_hello()}\n",
    "opt1 = print_now\n",
    "answer=input()\n",
    "options[answer]()\n",
    "print(options[answer])"
   ]
  },
  {
   "cell_type": "code",
   "execution_count": null,
   "metadata": {
    "slideshow": {
     "slide_type": "slide"
    }
   },
   "outputs": [],
   "source": [
    "dir(1)"
   ]
  },
  {
   "cell_type": "code",
   "execution_count": null,
   "metadata": {
    "slideshow": {
     "slide_type": "slide"
    }
   },
   "outputs": [],
   "source": [
    "dir(print_hello)"
   ]
  },
  {
   "cell_type": "code",
   "execution_count": null,
   "metadata": {
    "slideshow": {
     "slide_type": "slide"
    }
   },
   "outputs": [],
   "source": [
    "import sys\n",
    "d={}\n",
    "print(sys.getsizeof(d))"
   ]
  },
  {
   "cell_type": "code",
   "execution_count": null,
   "metadata": {
    "slideshow": {
     "slide_type": "slide"
    }
   },
   "outputs": [],
   "source": [
    "a = 6\n",
    "print(id(a))\n",
    "a = ['a','b']\n",
    "print(id(a))\n",
    "b = a\n",
    "print(id(b))"
   ]
  },
  {
   "cell_type": "markdown",
   "metadata": {
    "slideshow": {
     "slide_type": "slide"
    }
   },
   "source": [
    "## Dictionary and set implementation"
   ]
  },
  {
   "cell_type": "markdown",
   "metadata": {
    "slideshow": {
     "slide_type": "subslide"
    }
   },
   "source": [
    "How to index an array (a list) with 'A', 'B', ... 'Z'?"
   ]
  },
  {
   "cell_type": "code",
   "execution_count": null,
   "metadata": {
    "slideshow": {
     "slide_type": "subslide"
    }
   },
   "outputs": [],
   "source": [
    "letter_starts_at_page = [1,23,43,65,87,102,154,197,234,287,357,456,587,605,708,854,982,1025,1251]\n",
    "char = 'F'\n",
    "print(letter_starts_at_page[ord(char) - 65])"
   ]
  },
  {
   "cell_type": "code",
   "execution_count": null,
   "metadata": {
    "slideshow": {
     "slide_type": "subslide"
    }
   },
   "outputs": [],
   "source": [
    "letter_starts_at_page = [1,23,43,65,None,102,154,197,None,287,357,456,587,605,None,854,982,1025,1251]\n",
    "char = 'F'\n",
    "print(letter_starts_at_page[ord(char) - 65])"
   ]
  },
  {
   "cell_type": "markdown",
   "metadata": {
    "slideshow": {
     "slide_type": "subslide"
    }
   },
   "source": [
    "1. hash function\n",
    "2. hash table"
   ]
  },
  {
   "cell_type": "markdown",
   "metadata": {
    "slideshow": {
     "slide_type": "subslide"
    }
   },
   "source": [
    "in Python:\n",
    "if a == b, then hash(a) == hash(b)\n",
    "\n",
    "https://github.com/rurban/smhasher\n",
    "https://github.com/Cyan4973/xxHash\n",
    "\n",
    "https://en.wikipedia.org/wiki/Birthday_problem"
   ]
  },
  {
   "cell_type": "code",
   "execution_count": null,
   "metadata": {
    "slideshow": {
     "slide_type": "subslide"
    }
   },
   "outputs": [],
   "source": [
    "from bitstring import Bits\n",
    "print(Bits(int=0, length=64).bin)\n",
    "print(Bits(int=7, length=64).bin)\n",
    "print(Bits(int=-1, length=64).bin)"
   ]
  },
  {
   "cell_type": "code",
   "execution_count": null,
   "metadata": {
    "slideshow": {
     "slide_type": "subslide"
    }
   },
   "outputs": [],
   "source": [
    "from bitstring import Bits\n",
    "\n",
    "print(' 1 = ', Bits(int=hash(1), length=64).bin)\n",
    "print(' 9 = ', Bits(int=hash(9), length=64).bin)\n",
    "print('17 = ', Bits(int=hash(17), length=64).bin)\n",
    "print('33 = ', Bits(int=hash(33), length=64).bin)\n",
    "print('57 = ', Bits(int=hash(57), length=64).bin)\n",
    "print('41 = ', Bits(int=hash(41), length=64).bin)\n"
   ]
  },
  {
   "cell_type": "markdown",
   "metadata": {
    "slideshow": {
     "slide_type": "subslide"
    }
   },
   "source": [
    "hash function is implemented for each kind of objects differently in Python\n",
    "\n",
    "https://github.com/python/cpython/blob/bfe4fd5f2e96e72eecb5b8a0c7df0ac1689f3b7e/Python/pyhash.c\n",
    "\n",
    "See also https://stackoverflow.com/questions/2070276/where-can-i-find-source-or-algorithm-of-pythons-hash-function"
   ]
  },
  {
   "cell_type": "markdown",
   "metadata": {
    "slideshow": {
     "slide_type": "subslide"
    }
   },
   "source": [
    "For numeric types, the hash of a number x is based on the reduction\\\n",
    "   of x modulo the prime P = 2**\\_PyHASH_BITS - 1.  It's designed so that\\\n",
    "   hash(x) == hash(y) whenever x and y are numerically equal, even if\\\n",
    "   x and y have different types"
   ]
  },
  {
   "cell_type": "code",
   "execution_count": null,
   "metadata": {
    "slideshow": {
     "slide_type": "slide"
    }
   },
   "outputs": [],
   "source": [
    "from bitstring import Bits\n",
    "\n",
    "print(' 1 = ', Bits(int=hash(1), length=64).bin)\n",
    "print(' 1.0 = ', Bits(int=hash(1.0), length=64).bin)\n",
    "print(' True = ', Bits(int=hash(True), length=64).bin)\n",
    "print(' 1 + 0j = ', Bits(int=hash(1+0j), length=64).bin)\n",
    "print({True:'a', 1.0:'b'})"
   ]
  },
  {
   "cell_type": "markdown",
   "metadata": {
    "slideshow": {
     "slide_type": "subslide"
    }
   },
   "source": [
    "According to PEP 456 - https://www.python.org/dev/peps/pep-0456/, SipHash (MIT License) is the default string and bytes hash algorithm"
   ]
  },
  {
   "cell_type": "markdown",
   "metadata": {
    "slideshow": {
     "slide_type": "subslide"
    }
   },
   "source": [
    "Tuples - https://github.com/python/cpython/blob/caba55b3b735405b280273f7d99866a046c18281/Objects/tupleobject.c"
   ]
  },
  {
   "cell_type": "markdown",
   "metadata": {
    "slideshow": {
     "slide_type": "subslide"
    }
   },
   "source": [
    "## When is a python object's hash computed and why is the hash of -1 different?\n",
    "\n",
    "https://stackoverflow.com/questions/7648129/when-is-a-python-objects-hash-computed-and-why-is-the-hash-of-1-different"
   ]
  },
  {
   "cell_type": "markdown",
   "metadata": {
    "slideshow": {
     "slide_type": "subslide"
    }
   },
   "source": [
    "The hash is generally computed each time it's used, as you can quite easily check yourself (see below). Of course, any particular object is free to cache its hash. For example, CPython strings do this, but tuples don't\n",
    "\n",
    "https://mail.python.org/pipermail/python-dev/2003-August/037424.html"
   ]
  },
  {
   "cell_type": "markdown",
   "metadata": {
    "slideshow": {
     "slide_type": "subslide"
    }
   },
   "source": [
    "Long ago, strings didn't cache their hash values either.  The cache\n",
    "was added because strings are the singlemost common dict key type\n",
    "and the hash calculation was a significant part of the cost of dict lookup,\n",
    "and experiments showed that caching the hash significantly sped up\n",
    "almost any Python program, thus justifying the extra expense of space.\n",
    "\n",
    "I don't see tuples in the same situation -- their hash is rarely in the\n",
    "critical path of an application, and certainly not of all apps.\n",
    "\n",
    "--Guido van Rossum"
   ]
  },
  {
   "cell_type": "markdown",
   "metadata": {
    "slideshow": {
     "slide_type": "subslide"
    }
   },
   "source": [
    "The hash value -1 signals an error in CPython. This is because C doesn't have exceptions, so it needs to use the return value. When a Python object's `__hash__` returns -1, CPython will actually silently change it to -2."
   ]
  },
  {
   "cell_type": "code",
   "execution_count": null,
   "metadata": {
    "slideshow": {
     "slide_type": "subslide"
    }
   },
   "outputs": [],
   "source": [
    "print(hash(-2), hash(-1))"
   ]
  },
  {
   "cell_type": "markdown",
   "metadata": {
    "slideshow": {
     "slide_type": "subslide"
    }
   },
   "source": [
    "## Salting hash values\n",
    "\n",
    "https://docs.python.org/3/reference/datamodel.html#object.__hash__"
   ]
  },
  {
   "cell_type": "markdown",
   "metadata": {
    "slideshow": {
     "slide_type": "subslide"
    }
   },
   "source": [
    "By default, the `__hash__()` values of str, bytes and datetime objects are “salted” with an unpredictable random value. Although they remain constant within an individual Python process, they are not predictable between repeated invocations of Python"
   ]
  },
  {
   "cell_type": "markdown",
   "metadata": {
    "slideshow": {
     "slide_type": "subslide"
    }
   },
   "source": [
    "This is intended to provide protection against a denial-of-service caused by carefully-chosen inputs that exploit the worst case performance of a dict insertion, O(n^2) complexity. See http://www.ocert.org/advisories/ocert-2011-003.html for details."
   ]
  },
  {
   "cell_type": "markdown",
   "metadata": {
    "slideshow": {
     "slide_type": "subslide"
    }
   },
   "source": [
    "Changing hash values affects the iteration order of sets. Python has never made guarantees about this ordering (and it typically varies between 32-bit and 64-bit builds)"
   ]
  },
  {
   "cell_type": "markdown",
   "metadata": {
    "slideshow": {
     "slide_type": "subslide"
    }
   },
   "source": [
    "You can set a fixed seed or disable the feature by setting the PYTHONHASHSEED environment variable; the default is `random` but you can set it to a fixed positive integer value, with 0 disabling the feature altogether\n",
    "\n",
    "https://docs.python.org/3/using/cmdline.html#envvar-PYTHONHASHSEED"
   ]
  },
  {
   "cell_type": "code",
   "execution_count": null,
   "metadata": {
    "slideshow": {
     "slide_type": "slide"
    }
   },
   "outputs": [],
   "source": [
    "{(1,2):'a',[3,4]:'b'}"
   ]
  },
  {
   "cell_type": "code",
   "execution_count": null,
   "metadata": {
    "slideshow": {
     "slide_type": "slide"
    }
   },
   "outputs": [],
   "source": [
    "one = 1\n",
    "li1 = [2,3]\n",
    "li2 = [5,6]\n",
    "tu = (one, li1)\n",
    "di = {tu:li2}"
   ]
  },
  {
   "cell_type": "markdown",
   "metadata": {
    "hide_input": true,
    "slideshow": {
     "slide_type": "subslide"
    }
   },
   "source": [
    "A variety of programming languages suffer from a denial-of-service (DoS) condition against storage functions of key/value pairs in hash data structures, the condition can be leveraged by exploiting predictable collisions in the underlying hashing algorithms\n",
    "\n",
    "http://ocert.org/advisories/ocert-2011-003.html\n",
    "\n",
    "\n",
    "https://docs.python.org/3/using/cmdline.html#envvar-PYTHONHASHSEED\n"
   ]
  },
  {
   "cell_type": "code",
   "execution_count": null,
   "metadata": {
    "slideshow": {
     "slide_type": "subslide"
    }
   },
   "outputs": [],
   "source": [
    "print(i1 in di, i2 in di)"
   ]
  },
  {
   "cell_type": "code",
   "execution_count": null,
   "metadata": {
    "slideshow": {
     "slide_type": "subslide"
    }
   },
   "outputs": [],
   "source": [
    "std_di = {'a':[1,2,3], 'b':[1,2,3,4], 'c':[1,2,3,4,5]}\n",
    "print(std_di)"
   ]
  },
  {
   "cell_type": "code",
   "execution_count": null,
   "metadata": {
    "slideshow": {
     "slide_type": "subslide"
    }
   },
   "outputs": [],
   "source": [
    "li1234 = [1, 2, 3, 4]\n",
    "print(li1234 in std_di.values())"
   ]
  },
  {
   "cell_type": "code",
   "execution_count": null,
   "metadata": {
    "slideshow": {
     "slide_type": "subslide"
    }
   },
   "outputs": [],
   "source": [
    "class MyListTupleHash(list):\n",
    "    def __hash__(self):\n",
    "        return hash(tuple(self))\n",
    "t1 = MyListTupleHash([1, 2, 3])\n",
    "t2 = MyListTupleHash([1, 2, 3])\n",
    "dt = {t1: 'tupl'}\n",
    "lt = list(dt.keys())\n",
    "print(f't1={t1}')\n",
    "print(f't2={t2}')\n",
    "print(f'lt={lt}')\n",
    "print(t1 in lt, t2 in lt)\n",
    "t1.append(4)\n",
    "print(f't1={t1}')\n",
    "print(f'lt={lt}')\n",
    "print(t1 in lt, t2 in lt)\n",
    "print(dt)"
   ]
  },
  {
   "cell_type": "code",
   "execution_count": null,
   "metadata": {
    "slideshow": {
     "slide_type": "subslide"
    }
   },
   "outputs": [],
   "source": [
    "print(dt)\n",
    "print(t1 in dt, t2 in dt)"
   ]
  },
  {
   "cell_type": "code",
   "execution_count": null,
   "metadata": {
    "slideshow": {
     "slide_type": "slide"
    }
   },
   "outputs": [],
   "source": [
    "class MyListReprHash(list):\n",
    "    def __hash__(self):\n",
    "        return hash(str(self))\n",
    "print(str([1,2]))"
   ]
  },
  {
   "cell_type": "code",
   "execution_count": null,
   "metadata": {
    "slideshow": {
     "slide_type": "slide"
    }
   },
   "outputs": [],
   "source": [
    "a = MyListReprHash([1, 2, 3])\n",
    "b = MyListReprHash([1, 2, 3])\n",
    "c = MyListReprHash([1, 2, 3])\n",
    "di1 = {c: 42}\n",
    "di2 = {MyListReprHash([1, 2, 3]): 42}\n",
    "li1 = list(di1.keys())\n",
    "# default iteration in dict is through keys!!!\n",
    "(a in di1) == (a in di1.keys())"
   ]
  },
  {
   "cell_type": "code",
   "execution_count": null,
   "metadata": {
    "slideshow": {
     "slide_type": "subslide"
    }
   },
   "outputs": [],
   "source": [
    "# print(f'{a=}') in python 3.8+\n",
    "print(f'a = {a}')\n",
    "print(f'b = {b}')\n",
    "print(f'c = {c}')\n",
    "print(f'di1 = {di1}')\n",
    "print(f'di2 = {di2}')\n",
    "print(f'li1 = {li1}')\n",
    "print(f'hash(c) = {hash(c)}')\n",
    "print(f'hash(MyListReprHash([1, 2, 3])) = {hash(MyListReprHash([1, 2, 3]))}')"
   ]
  },
  {
   "cell_type": "code",
   "execution_count": null,
   "metadata": {
    "slideshow": {
     "slide_type": "subslide"
    }
   },
   "outputs": [],
   "source": [
    "print(a in di1)\n",
    "print(a in di2)\n",
    "print(a in li1)\n",
    "print(b in di1)\n",
    "print(b in di2)\n",
    "print(b in li1)\n",
    "print(c in di1)\n",
    "print(c in di2)\n",
    "print(c in li1)"
   ]
  },
  {
   "cell_type": "code",
   "execution_count": null,
   "metadata": {
    "slideshow": {
     "slide_type": "slide"
    }
   },
   "outputs": [],
   "source": [
    "b.append(4)\n",
    "print(hash(c))\n",
    "c.append(4)\n",
    "print(hash(c))\n",
    "di2 = {MyListReprHash([1, 2, 3, 4]): 42}\n",
    "print(f'a = {a}')\n",
    "print(f'b = {b}')\n",
    "print(f'c = {c}')\n",
    "print(f'di1 = {di1}')\n",
    "print(f'di2 = {di2}')\n",
    "print(f'li1 = {li1}')\n",
    "print(f'hash(c) = {hash(c)}')"
   ]
  },
  {
   "cell_type": "code",
   "execution_count": null,
   "metadata": {
    "slideshow": {
     "slide_type": "subslide"
    }
   },
   "outputs": [],
   "source": [
    "#di1 = {c: 42}\n",
    "print(a in di1, a in di2, a in li1)\n",
    "print(b in di1, b in di2, b in li1)\n",
    "print(c in di1, c in di2, c in li1)"
   ]
  },
  {
   "cell_type": "code",
   "execution_count": null,
   "metadata": {
    "slideshow": {
     "slide_type": "subslide"
    }
   },
   "outputs": [],
   "source": [
    "class MyListIdHash(list):\n",
    "    def __hash__(self):\n",
    "        return hash(id(self))"
   ]
  },
  {
   "cell_type": "code",
   "execution_count": null,
   "metadata": {
    "slideshow": {
     "slide_type": "slide"
    }
   },
   "outputs": [],
   "source": [
    "a = MyListIdHash([1, 2, 3])\n",
    "b = MyListIdHash([1, 2, 3])\n",
    "c = MyListIdHash([1, 2, 3])  \n",
    "di1 = {c: 42}\n",
    "di2 = {MyListReprHash([1, 2, 3]): 42}\n",
    "li1 = list(di1.keys())"
   ]
  },
  {
   "cell_type": "code",
   "execution_count": null,
   "metadata": {
    "slideshow": {
     "slide_type": "subslide"
    }
   },
   "outputs": [],
   "source": [
    "print(f'a = {a}')\n",
    "print(f'b = {b}')\n",
    "print(f'c = {c}')\n",
    "print(f'di1 = {di1}')\n",
    "print(f'di2 = {di2}')\n",
    "print(f'li1 = {li1}')\n",
    "print(f'hash(c) = {hash(c)}')\n",
    "print(f'hash(MyListIdHash([1, 2, 3])) = {hash(MyListIdHash([1, 2, 3]))}')"
   ]
  },
  {
   "cell_type": "code",
   "execution_count": null,
   "metadata": {
    "slideshow": {
     "slide_type": "subslide"
    }
   },
   "outputs": [],
   "source": [
    "print(id(a))\n",
    "print(id(b))\n",
    "print(id(c))"
   ]
  },
  {
   "cell_type": "code",
   "execution_count": null,
   "metadata": {
    "slideshow": {
     "slide_type": "subslide"
    }
   },
   "outputs": [],
   "source": [
    "print(a in di1, a in di2, a in li1)\n",
    "print(b in di1, b in di2, b in li1)\n",
    "print(c in di1, c in di2, c in li1)"
   ]
  },
  {
   "cell_type": "code",
   "execution_count": null,
   "metadata": {
    "slideshow": {
     "slide_type": "subslide"
    }
   },
   "outputs": [],
   "source": [
    "print(b in li)"
   ]
  },
  {
   "cell_type": "code",
   "execution_count": null,
   "metadata": {
    "slideshow": {
     "slide_type": "slide"
    }
   },
   "outputs": [],
   "source": [
    "b.append(4)\n",
    "print(f'hash(c) = {hash(c)}')\n",
    "c.append(4)\n",
    "print(f'hash(c) = {hash(c)}')\n",
    "di2 = {MyListIdHash([1, 2, 3, 4]): 42}\n",
    "print(f'a = {a}')\n",
    "print(f'b = {b}')\n",
    "print(f'c = {c}')\n",
    "print(f'di1 = {di1}')\n",
    "print(f'di2 = {di2}')\n",
    "print(f'li1 = {li1}')"
   ]
  },
  {
   "cell_type": "code",
   "execution_count": null,
   "metadata": {
    "slideshow": {
     "slide_type": "subslide"
    }
   },
   "outputs": [],
   "source": [
    "print(a in di1, a in di2, a in li1)\n",
    "print(b in di1, b in di2, b in li1)\n",
    "print(c in di1, c in di2, c in li1)"
   ]
  },
  {
   "cell_type": "code",
   "execution_count": null,
   "metadata": {
    "slideshow": {
     "slide_type": "subslide"
    }
   },
   "outputs": [],
   "source": [
    "print(b in li)"
   ]
  },
  {
   "cell_type": "code",
   "execution_count": null,
   "metadata": {
    "slideshow": {
     "slide_type": "subslide"
    }
   },
   "outputs": [],
   "source": [
    "class MyListReprHash(list):\n",
    "    def __hash__(self):\n",
    "        return hash(repr(self))\n",
    "r1 = MyListReprHash([1, 2, 3])\n",
    "r2 = MyListReprHash([1, 2, 3])\n",
    "dr = {r1: 'repr'}\n",
    "lr = list(dr.keys())\n",
    "print(r1 in dr, r2 in dr, r1 in lr, r2 in lr)\n",
    "r1.append(4)\n",
    "print(r1 in dr, r2 in dr, r1 in lr, r2 in lr)\n",
    "class MyListIdHash(list):\n",
    "    def __hash__(self):\n",
    "        return hash(id(self))\n",
    "i1 = MyListIdHash([1, 2, 3])\n",
    "i2 = MyListIdHash([1, 2, 3])\n",
    "di = {i1: 'repr'}\n",
    "li = list(di.keys())\n",
    "print(i1 in di, i2 in di, i1 in li, i2 in li)\n",
    "i1.append(4)\n",
    "print(i1 in di, i2 in di, i1 in li, i2 in li) \n"
   ]
  },
  {
   "cell_type": "code",
   "execution_count": null,
   "metadata": {
    "slideshow": {
     "slide_type": "subslide"
    }
   },
   "outputs": [],
   "source": [
    "class MyListIdHash(list):\n",
    "    def __hash__(self):\n",
    "        return hash(id(self))\n",
    "i1 = MyListIdHash([1, 2, 3])\n",
    "i2 = MyListIdHash([1, 2, 3, 4])\n",
    "di = {i1: 'val1'}\n",
    "li = list(di.keys())\n",
    "i1.append(4)\n",
    "print(f'i1={i1}')\n",
    "print(f'i2={i2}')\n",
    "print(f'li={li}')\n",
    "print(i1 in li, i2 in li)\n",
    "i1.append(5)\n",
    "print(f'i1={i1}')\n",
    "print(i1 in li, i2 in li)\n",
    "print(di)"
   ]
  },
  {
   "cell_type": "markdown",
   "metadata": {
    "slideshow": {
     "slide_type": "slide"
    }
   },
   "source": [
    "Instances float('NaN') all have the same hash value but never compare as equal\n",
    "\n",
    "This causes catastrophic linear pileups in dict and set hash tables"
   ]
  },
  {
   "cell_type": "code",
   "execution_count": null,
   "metadata": {
    "slideshow": {
     "slide_type": "subslide"
    }
   },
   "outputs": [],
   "source": [
    "nans = [float('NaN') for i in range(1000)]\n",
    "print(len(set(hash(n) for n in nans)))\n",
    "print(len(set(nans)))"
   ]
  },
  {
   "cell_type": "code",
   "execution_count": null,
   "metadata": {
    "slideshow": {
     "slide_type": "slide"
    }
   },
   "outputs": [],
   "source": [
    "# Dicts are more compact than equivalent\n",
    "# lists of 2-tuples when length >= 3\n",
    "from sys import getsizeof\n",
    "print(getsizeof([]))\n",
    "print(getsizeof([(1,2),(3,4)]))\n",
    "print(getsizeof({1:2}))\n",
    "for n in range(10):\n",
    "    d = dict(enumerate(range(n)))\n",
    "    lot = list(d.items())\n",
    "    print(f'n={n}, d={getsizeof(d)}, list of tuples={getsizeof(lot) + sum(map(getsizeof, lot))}')"
   ]
  },
  {
   "cell_type": "markdown",
   "metadata": {
    "slideshow": {
     "slide_type": "slide"
    }
   },
   "source": [
    "[ SF CompactDict Talk ](https://dl.dropboxusercontent.com/u/3967849/sfmu2/_build/html/index.html) 1.0 \n",
    "* [Our Journey: The Beginning and the End](https://dl.dropboxusercontent.com/u/3967849/sfmu2/_build/html/goal.html#)\n",
    "  * [Instance Dictionaries](https://dl.dropboxusercontent.com/u/3967849/sfmu2/_build/html/goal.html#instance-dictionaries)\n",
    "  * [Contents of the Instance Dictionaries](https://dl.dropboxusercontent.com/u/3967849/sfmu2/_build/html/goal.html#contents-of-the-instance-dictionaries)\n",
    "  * [Dictionary Size](https://dl.dropboxusercontent.com/u/3967849/sfmu2/_build/html/goal.html#dictionary-size)\n",
    "\n",
    "\n",
    "* [Evolution: A Half Dozen Good Ideas](https://dl.dropboxusercontent.com/u/3967849/sfmu2/_build/html/main.html)\n",
    "* [Original Recipe for the Compact Dict](https://dl.dropboxusercontent.com/u/3967849/sfmu2/_build/html/recipe.html)\n",
    "\n",
    "**[SF CompactDict Talk](https://dl.dropboxusercontent.com/u/3967849/sfmu2/_build/html/index.html)\n",
    "* [Docs](https://dl.dropboxusercontent.com/u/3967849/sfmu2/_build/html/index.html) »\n",
    "* Our Journey: The Beginning and the End\n",
    "* \n",
    "\n",
    "# Our Journey: The Beginning and the End[¶](https://dl.dropboxusercontent.com/u/3967849/sfmu2/_build/html/goal.html#our-journey-the-beginning-and-the-end)\n",
    "Python is built around dictionaries. The various namespaces include globals, locals, module dictionaries, class dictionaries, instance dictionaries.Of these, instance dictionaries are among the most prolific.## Instance Dictionaries[¶](https://dl.dropboxusercontent.com/u/3967849/sfmu2/_build/html/goal.html#instance-dictionaries)\n",
    "Create a class to track user assignments with in a property category."
   ]
  },
  {
   "cell_type": "code",
   "execution_count": null,
   "metadata": {
    "slideshow": {
     "slide_type": "subslide"
    }
   },
   "outputs": [],
   "source": [
    "from __future__ import division, print_function\n",
    "import sys\n",
    "\n",
    "class UserProperty:\n",
    "    def __init__(self, v0, v1, v2, v3, v4):\n",
    "        self.guido = v0\n",
    "        self.sarah = v1\n",
    "        self.barry = v2\n",
    "        self.rachel = v3\n",
    "        self.tim = v4\n",
    "\n",
    "    def __repr__(self):\n",
    "        return 'UserProperty(%r, %r, %r, %r, %r)' \\\n",
    "               % (self.guido, self.sarah, self.barry, self.rachel, self.tim)\n",
    "\n",
    "colors = UserProperty('blue', 'orange', 'green', 'yellow', 'red')\n",
    "cities = UserProperty('austin', 'dallas', 'tuscon', 'reno', 'portland')\n",
    "fruits = UserProperty('apple', 'banana', 'orange', 'pear', 'peach')\n",
    "\n",
    "for user in [colors, cities, fruits]:\n",
    "    print(vars(user))\n",
    "\n",
    "print(list(map(sys.getsizeof, map(vars, [colors, cities, fruits]))))"
   ]
  },
  {
   "cell_type": "markdown",
   "metadata": {
    "slideshow": {
     "slide_type": "subslide"
    }
   },
   "source": [
    "## Contents of the Instance Dictionaries[¶](https://dl.dropboxusercontent.com/u/3967849/sfmu2/_build/html/goal.html#contents-of-the-instance-dictionaries)\n",
    "The three instance dictionaries:"
   ]
  },
  {
   "cell_type": "code",
   "execution_count": null,
   "metadata": {
    "slideshow": {
     "slide_type": "subslide"
    }
   },
   "outputs": [],
   "source": [
    "{'guido': 'blue',\n",
    " 'sarah': 'orange',\n",
    " 'barry': 'green',\n",
    " 'rachel': 'yellow',\n",
    " 'tim': 'red'}\n",
    "\n",
    "{'guido': 'austin',\n",
    " 'sarah': 'dallas',\n",
    " 'barry': 'tuscon',\n",
    " 'rachel': 'reno',\n",
    " 'tim': 'portland'}\n",
    "\n",
    "{'guido': 'apple',\n",
    " 'sarah': 'banana',\n",
    " 'barry': 'orange',\n",
    " 'rachel': 'pear',\n",
    " 'tim': 'peach'}"
   ]
  },
  {
   "cell_type": "markdown",
   "metadata": {
    "slideshow": {
     "slide_type": "subslide"
    }
   },
   "source": [
    "[ SF CompactDict Talk ](https://dl.dropboxusercontent.com/u/3967849/sfmu2/_build/html/index.html) 1.0 \n",
    "* [Our Journey: The Beginning and the End](https://dl.dropboxusercontent.com/u/3967849/sfmu2/_build/html/goal.html)\n",
    "* [Evolution: A Half Dozen Good Ideas](https://dl.dropboxusercontent.com/u/3967849/sfmu2/_build/html/main.html#)\n",
    "  * [Setup](https://dl.dropboxusercontent.com/u/3967849/sfmu2/_build/html/main.html#setup)\n",
    "  * [How a Database Would Do It](https://dl.dropboxusercontent.com/u/3967849/sfmu2/_build/html/main.html#how-a-database-would-do-it)\n",
    "  * [How LISP Would Do It](https://dl.dropboxusercontent.com/u/3967849/sfmu2/_build/html/main.html#how-lisp-would-do-it)\n",
    "  * [Separate Chaining](https://dl.dropboxusercontent.com/u/3967849/sfmu2/_build/html/main.html#separate-chaining)\n",
    "  * [Open Addressing](https://dl.dropboxusercontent.com/u/3967849/sfmu2/_build/html/main.html#open-addressing)\n",
    "  * [Open Addressing Multiple Hashing](https://dl.dropboxusercontent.com/u/3967849/sfmu2/_build/html/main.html#open-addressing-multiple-hashing)\n",
    "  * [Compact Dict](https://dl.dropboxusercontent.com/u/3967849/sfmu2/_build/html/main.html#compact-dict)\n",
    "  * [Key-Sharing Dict](https://dl.dropboxusercontent.com/u/3967849/sfmu2/_build/html/main.html#key-sharing-dict)\n",
    "\n",
    "\n",
    "* [Original Recipe for the Compact Dict](https://dl.dropboxusercontent.com/u/3967849/sfmu2/_build/html/recipe.html)\n",
    "\n",
    "**[SF CompactDict Talk](https://dl.dropboxusercontent.com/u/3967849/sfmu2/_build/html/index.html)\n",
    "* [Docs](https://dl.dropboxusercontent.com/u/3967849/sfmu2/_build/html/index.html) »\n",
    "* Evolution: A Half Dozen Good Ideas\n",
    "* \n",
    "\n",
    "# Evolution: A Half Dozen Good Ideas[¶](https://dl.dropboxusercontent.com/u/3967849/sfmu2/_build/html/main.html#evolution-a-half-dozen-good-ideas)\n",
    "In the beginning, there were databases.Now, we have come full circle. With all our progress on dictionaries, we’ve reinvented what was done with databases long ago.## Setup[¶](https://dl.dropboxusercontent.com/u/3967849/sfmu2/_build/html/main.html#setup)\n",
    "Here is our sample data to store in our dictionaries."
   ]
  },
  {
   "cell_type": "code",
   "execution_count": null,
   "metadata": {
    "slideshow": {
     "slide_type": "subslide"
    }
   },
   "outputs": [],
   "source": [
    "from __future__ import division, print_function\n",
    "from pprint import pprint\n",
    "\n",
    "keys = 'guido sarah barry rachel tim'.split()\n",
    "values1 = 'blue orange green yellow red'.split()\n",
    "values2 = 'austin dallas tuscon reno portland'.split()\n",
    "values3 = 'apple banana orange pear peach'.split()\n",
    "hashes = list(map(abs, map(hash, keys)))\n",
    "entries = list(zip(hashes, keys, values1))\n",
    "comb_entries = list(zip(hashes, keys, values1, values2, values3))"
   ]
  },
  {
   "cell_type": "markdown",
   "metadata": {
    "slideshow": {
     "slide_type": "subslide"
    }
   },
   "source": [
    "## How a Database Would Do It[¶](https://dl.dropboxusercontent.com/u/3967849/sfmu2/_build/html/main.html#how-a-database-would-do-it)\n",
    "The data is dense (no holes or over-allocations). And without an index, the search is linear."
   ]
  },
  {
   "cell_type": "code",
   "execution_count": null,
   "metadata": {
    "slideshow": {
     "slide_type": "subslide"
    }
   },
   "outputs": [],
   "source": [
    "def database_linear_search():\n",
    "    pprint(list(zip(keys, values1, values2, values3)))\n",
    "database_linear_search()"
   ]
  },
  {
   "cell_type": "markdown",
   "metadata": {
    "slideshow": {
     "slide_type": "subslide"
    }
   },
   "source": [
    "## How LISP Would Do It[¶](https://dl.dropboxusercontent.com/u/3967849/sfmu2/_build/html/main.html#how-lisp-would-do-it)\n",
    "Store lists of pairs."
   ]
  },
  {
   "cell_type": "code",
   "execution_count": null,
   "metadata": {
    "slideshow": {
     "slide_type": "subslide"
    }
   },
   "outputs": [],
   "source": [
    "def association_lists():\n",
    "    pprint([\n",
    "        list(zip(keys, values1)),\n",
    "        list(zip(keys, values2)),\n",
    "        list(zip(keys, values3)),\n",
    "    ])\n",
    "association_lists()"
   ]
  },
  {
   "cell_type": "code",
   "execution_count": null,
   "metadata": {
    "slideshow": {
     "slide_type": "subslide"
    }
   },
   "outputs": [],
   "source": [
    "from __future__ import division, print_function\n",
    "from pprint import pprint\n",
    "\n",
    "keys = 'guido sarah barry rachel tim'.split()\n",
    "values1 = 'blue orange green yellow red'.split()\n",
    "values2 = 'austin dallas tuscon reno portland'.split()\n",
    "values3 = 'apple banana orange pear peach'.split()\n",
    "hashes = list(map(abs, map(hash, keys)))\n",
    "entries = list(zip(hashes, keys, values1))\n",
    "comb_entries = list(zip(hashes, keys, values1, values2, values3))"
   ]
  },
  {
   "cell_type": "markdown",
   "metadata": {
    "slideshow": {
     "slide_type": "subslide"
    }
   },
   "source": [
    "## Separate Chaining[¶](https://dl.dropboxusercontent.com/u/3967849/sfmu2/_build/html/main.html#separate-chaining)\n",
    "Use multiple buckets to reduce the linear search by a constant factor."
   ]
  },
  {
   "cell_type": "code",
   "execution_count": null,
   "metadata": {
    "slideshow": {
     "slide_type": "subslide"
    }
   },
   "outputs": [],
   "source": [
    "def separate_chaining(n):\n",
    "    buckets = [[] for i in range(n)]\n",
    "    for pair in entries:\n",
    "        h, key, value = pair\n",
    "        i = h % n\n",
    "        buckets[i].append(pair)\n",
    "    pprint(buckets)\n",
    "separate_chaining(2)"
   ]
  },
  {
   "cell_type": "markdown",
   "metadata": {
    "slideshow": {
     "slide_type": "subslide"
    }
   },
   "source": [
    "Now, increase the number of buckets to minimize the load per bucket"
   ]
  },
  {
   "cell_type": "code",
   "execution_count": null,
   "metadata": {
    "slideshow": {
     "slide_type": "subslide"
    }
   },
   "outputs": [],
   "source": [
    "separate_chaining(4)"
   ]
  },
  {
   "cell_type": "code",
   "execution_count": null,
   "metadata": {
    "slideshow": {
     "slide_type": "subslide"
    }
   },
   "outputs": [],
   "source": [
    "separate_chaining(64)"
   ]
  },
  {
   "cell_type": "markdown",
   "metadata": {
    "slideshow": {
     "slide_type": "subslide"
    }
   },
   "source": [
    "## Open Addressing[¶](https://dl.dropboxusercontent.com/u/3967849/sfmu2/_build/html/main.html#open-addressing)\n",
    "Make the table more dense. Reduce memory allocator demands. Cope with collisions using linear probing."
   ]
  },
  {
   "cell_type": "code",
   "execution_count": null,
   "metadata": {
    "slideshow": {
     "slide_type": "subslide"
    }
   },
   "outputs": [],
   "source": [
    "def open_addressing_linear(n):\n",
    "    table = [None] * n\n",
    "    for h, key, value in entries:\n",
    "        i = h % n\n",
    "        while table[i] is not None:\n",
    "            i = (i + 1) % n\n",
    "        table[i] = (key, value)\n",
    "    pprint(table)\n",
    "open_addressing_linear(8)"
   ]
  },
  {
   "cell_type": "code",
   "execution_count": null,
   "metadata": {
    "slideshow": {
     "slide_type": "subslide"
    }
   },
   "outputs": [],
   "source": [
    "'tim' collided with 'sarah'\n",
    "\n",
    "[('tim', 'red'),\n",
    " None,\n",
    " None,\n",
    " ('guido', 'blue'),\n",
    " ('rachel', 'yellow'),\n",
    " None,\n",
    " ('barry', 'green'),\n",
    " ('sarah', 'orange')]"
   ]
  },
  {
   "cell_type": "markdown",
   "metadata": {
    "slideshow": {
     "slide_type": "subslide"
    }
   },
   "source": [
    "Unfortunately, we can end up with catastrophic linear pile-up.\n",
    "\n",
    "## Open Addressing Multiple Hashing[¶](https://dl.dropboxusercontent.com/u/3967849/sfmu2/_build/html/main.html#open-addressing-multiple-hashing)\n",
    "Use all the bits in the hash and use a linear congruential random number generator:  `i = 5 * i + 1` ."
   ]
  },
  {
   "cell_type": "code",
   "execution_count": null,
   "metadata": {
    "slideshow": {
     "slide_type": "subslide"
    }
   },
   "outputs": [],
   "source": [
    "def open_addressing_multihash(n):\n",
    "    table = [None] * n\n",
    "    for h, key, value in entries:\n",
    "        perturb = h\n",
    "        i = h % n\n",
    "        while table[i] is not None:\n",
    "            print('%r collided with %r' % (key, table[i][0]))\n",
    "            i = (5 * i + perturb + 1) % n\n",
    "            perturb >>= 5\n",
    "        table[i] = (key, value)\n",
    "    pprint(table)\n",
    "open_addressing_multihash(8)"
   ]
  },
  {
   "cell_type": "markdown",
   "metadata": {
    "slideshow": {
     "slide_type": "subslide"
    }
   },
   "source": [
    "Structure for  `open_addressing_multihash(8)` :"
   ]
  },
  {
   "cell_type": "code",
   "execution_count": null,
   "metadata": {
    "slideshow": {
     "slide_type": "subslide"
    }
   },
   "outputs": [],
   "source": [
    "[('guido', 'blue'),\n",
    " ('barry', 'green'),\n",
    " None,\n",
    " ('sarah', 'orange'),\n",
    " None,\n",
    " ('rachel', 'yellow'),\n",
    " None,\n",
    " ('tim', 'red')]"
   ]
  },
  {
   "cell_type": "markdown",
   "metadata": {
    "slideshow": {
     "slide_type": "subslide"
    }
   },
   "source": [
    "## Compact Dict[¶](https://dl.dropboxusercontent.com/u/3967849/sfmu2/_build/html/main.html#compact-dict)"
   ]
  },
  {
   "cell_type": "code",
   "execution_count": null,
   "metadata": {
    "slideshow": {
     "slide_type": "subslide"
    }
   },
   "outputs": [],
   "source": [
    "from pprint import pprint\n",
    "def compact_and_ordered(n):\n",
    "    table = [None] * n\n",
    "    for pos, entry in enumerate(entries):\n",
    "        h = perturb = entry[0]\n",
    "        i = h % n\n",
    "        while table[i] is not None:\n",
    "            i = (5 * i + perturb + 1) % n\n",
    "            perturb >>= 5\n",
    "        table[i] = pos\n",
    "    pprint(entries)\n",
    "    pprint(table)\n",
    "compact_and_ordered(8)"
   ]
  },
  {
   "cell_type": "code",
   "execution_count": null,
   "metadata": {
    "slideshow": {
     "slide_type": "subslide"
    }
   },
   "outputs": [],
   "source": [
    "[(6364898718648353932, 'guido', 'blue'),\n",
    " (8146850377148353162, 'sarah', 'orange'),\n",
    " (3730114606205358136, 'barry', 'green'),\n",
    " (5787227010730992086, 'rachel', 'yellow'),\n",
    " (4052556540843850702, 'tim', 'red')]\n",
    "\n",
    "[2, None, 1, None, 0, 4, 3, None]"
   ]
  },
  {
   "cell_type": "markdown",
   "metadata": {
    "slideshow": {
     "slide_type": "subslide"
    }
   },
   "source": [
    "Note that the index row can be stored in *only 8 bytes!*\n",
    "\n",
    "## Key-Sharing Dict[¶](https://dl.dropboxusercontent.com/u/3967849/sfmu2/_build/html/main.html#key-sharing-dict)"
   ]
  },
  {
   "cell_type": "code",
   "execution_count": null,
   "metadata": {
    "slideshow": {
     "slide_type": "subslide"
    }
   },
   "outputs": [],
   "source": [
    "def shared_and_compact(n):\n",
    "    'Compact, ordered, and shared'\n",
    "    table = [None] * n\n",
    "    for pos, entry in enumerate(comb_entries):\n",
    "        h = perturb = entry[0]\n",
    "        i = h % n\n",
    "        while table[i] is not None:\n",
    "            i = (5 * i + perturb + 1) % n\n",
    "            perturb >>= 5\n",
    "        table[i] = pos\n",
    "    pprint(comb_entries)\n",
    "    pprint(table)\n",
    "shared_and_compact(8)"
   ]
  },
  {
   "cell_type": "markdown",
   "metadata": {
    "slideshow": {
     "slide_type": "subslide"
    }
   },
   "source": [
    "Structure for  `shared_and_compact(8)` :"
   ]
  },
  {
   "cell_type": "code",
   "execution_count": null,
   "metadata": {
    "slideshow": {
     "slide_type": "subslide"
    }
   },
   "outputs": [],
   "source": [
    "[(6677572791034679612, 'guido', 'blue', 'austin', 'apple'),\n",
    " (47390428681895070, 'sarah', 'orange', 'dallas', 'banana'),\n",
    " (2331978697662116749, 'barry', 'green', 'tuscon', 'orange'),\n",
    " (8526267319998534994, 'rachel', 'yellow', 'reno', 'pear'),\n",
    " (8496579755646384579, 'tim', 'red', 'portland', 'peach')]\n",
    "\n",
    "[None, None, 3, 4, 0, 2, 1, None]"
   ]
  },
  {
   "cell_type": "markdown",
   "metadata": {
    "slideshow": {
     "slide_type": "subslide"
    }
   },
   "source": [
    "\n",
    "We can make the dict more sparse without moving any of the hash/key/value entries. The additional sparsity only costs 8 bytes and removes all hash collisions.Structure for  `shared_and_compact(16)` :"
   ]
  },
  {
   "cell_type": "code",
   "execution_count": null,
   "metadata": {
    "slideshow": {
     "slide_type": "subslide"
    }
   },
   "outputs": [],
   "source": [
    "[(8950500660299631846, 'guido', 'blue', 'austin', 'apple'),\n",
    " (7019358351072014995, 'sarah', 'orange', 'dallas', 'banana'),\n",
    "\n",
    " \n",
    " \n",
    " (1995312852666664056, 'barry', 'green', 'tuscon', 'orange'),\n",
    " (4597548128032042170, 'rachel', 'yellow', 'reno', 'pear'),\n",
    " (4703852761116776113, 'tim', 'red', 'portland', 'peach')]\n",
    "\n",
    "[None, 4, None, 1, None, None, 0, None, 2,\n",
    " None, 3, None, None, None, None, None]"
   ]
  },
  {
   "cell_type": "code",
   "execution_count": null,
   "metadata": {
    "slideshow": {
     "slide_type": "subslide"
    }
   },
   "outputs": [],
   "source": [
    "[\n",
    " [('guido', 'blue'),\n",
    "  ('sarah', 'orange'),\n",
    "  ('barry', 'green'),\n",
    "  ('rachel', 'yellow'),\n",
    "  ('tim', 'red')],\n",
    "\n",
    " [('guido', 'austin'),\n",
    "  ('sarah', 'dallas'),\n",
    "  ('barry', 'tuscon'),\n",
    "  ('rachel', 'reno'),\n",
    "  ('tim', 'portland')],\n",
    "\n",
    " [('guido', 'apple'),\n",
    "  ('sarah', 'banana'),\n",
    "  ('barry', 'orange'),\n",
    "  ('rachel', 'pear'),\n",
    "  ('tim', 'peach')]\n",
    "]"
   ]
  },
  {
   "cell_type": "markdown",
   "metadata": {
    "slideshow": {
     "slide_type": "subslide"
    }
   },
   "source": [
    "## Dictionary Size[¶](https://dl.dropboxusercontent.com/u/3967849/sfmu2/_build/html/goal.html#dictionary-size)\n",
    "\n",
    "| **Version**  | **Dict Size**  | **Dict Ordering**  | **Notes**  |\n",
    "| --- | --- | --- | --- |\n",
    "| Python 2.7  | 280, 280, 280  | [‘sarah’, ‘barry’, ‘rachel’, ‘tim’, ‘guido’]  | Scrambled  |\n",
    "| Python 3.5  | 196, 196, 196  | dict\\_keys([‘sarah’, ‘tim’, ‘rachel’, ‘barry’, ‘guido’])  | Randomized  |\n",
    "| Python 3.6  | 112, 112, 112  | dict\\_keys([‘guido’, ‘sarah’, ‘barry’, ‘rachel’, ‘tim’])  | Ordered  |"
   ]
  },
  {
   "cell_type": "markdown",
   "metadata": {
    "slideshow": {
     "slide_type": "slide"
    }
   },
   "source": [
    "## Next lecture\n",
    "- http://dailytechvideo.com/video-227-brett-slatkin-how-to-be-more-effective-with-functions/\n",
    "- https://www.youtube.com/watch?v=HTLu2DFOdTg\n"
   ]
  },
  {
   "cell_type": "markdown",
   "metadata": {
    "slideshow": {
     "slide_type": "slide"
    }
   },
   "source": [
    "# Exceptions\n",
    "\n",
    "Python handles errors by throwing *exceptions*. For instance, trying to read a non-existent\n",
    "key in a dict:"
   ]
  },
  {
   "cell_type": "code",
   "execution_count": null,
   "metadata": {
    "scrolled": true,
    "slideshow": {
     "slide_type": "slide"
    }
   },
   "outputs": [],
   "source": [
    "d = {}\n",
    "d['this key does not exist']"
   ]
  },
  {
   "cell_type": "markdown",
   "metadata": {
    "slideshow": {
     "slide_type": "slide"
    }
   },
   "source": [
    "To handle exceptions gracefully, we must enclose them in a `try:` *block*:"
   ]
  },
  {
   "cell_type": "code",
   "execution_count": null,
   "metadata": {
    "scrolled": true,
    "slideshow": {
     "slide_type": "slide"
    }
   },
   "outputs": [],
   "source": [
    "try:\n",
    "    x = d['does not exist']\n",
    "    print('This statement never executes!')\n",
    "except KeyError:\n",
    "    print('There was a key error!')"
   ]
  },
  {
   "cell_type": "markdown",
   "metadata": {
    "slideshow": {
     "slide_type": "slide"
    }
   },
   "source": [
    "We can also write code that will *always* run, whether an exception is raised or not:"
   ]
  },
  {
   "cell_type": "code",
   "execution_count": null,
   "metadata": {
    "scrolled": true,
    "slideshow": {
     "slide_type": "slide"
    }
   },
   "outputs": [],
   "source": [
    "try:\n",
    "    x = d['does not exist']\n",
    "except KeyError:\n",
    "    print('There was a key error!')\n",
    "finally:\n",
    "    print('This always runs!')"
   ]
  },
  {
   "cell_type": "code",
   "execution_count": null,
   "metadata": {
    "scrolled": true,
    "slideshow": {
     "slide_type": "slide"
    }
   },
   "outputs": [],
   "source": [
    "try:\n",
    "    x = d['key1']\n",
    "except KeyError:\n",
    "    print('There was a key error!'\n",
    "finally:\n",
    "    print('This always runs!')"
   ]
  },
  {
   "cell_type": "markdown",
   "metadata": {
    "slideshow": {
     "slide_type": "subslide"
    }
   },
   "source": [
    "If we want code that only runs when there is *not* an error, we can use the `else:` clause:"
   ]
  },
  {
   "cell_type": "code",
   "execution_count": null,
   "metadata": {
    "scrolled": true,
    "slideshow": {
     "slide_type": "slide"
    }
   },
   "outputs": [],
   "source": [
    "try:\n",
    "    x = d['key1']\n",
    "except KeyError:\n",
    "    print('There was a key error!')\n",
    "else:\n",
    "    print('The try: block completed without error.'\n",
    "finally:\n",
    "    print('This always runs!')"
   ]
  },
  {
   "cell_type": "markdown",
   "metadata": {
    "slideshow": {
     "slide_type": "slide"
    }
   },
   "source": [
    "To *cause* an exception, use the `raise` keyword:"
   ]
  },
  {
   "cell_type": "code",
   "execution_count": null,
   "metadata": {
    "scrolled": true,
    "slideshow": {
     "slide_type": "slide"
    }
   },
   "outputs": [],
   "source": [
    "raise KeyError('This is a key error')"
   ]
  }
 ],
 "metadata": {
  "anaconda-cloud": {},
  "celltoolbar": "Slideshow",
  "kernelspec": {
   "display_name": "Python 3 (ipykernel)",
   "language": "python",
   "name": "python3"
  },
  "language_info": {
   "codemirror_mode": {
    "name": "ipython",
    "version": 3
   },
   "file_extension": ".py",
   "mimetype": "text/x-python",
   "name": "python",
   "nbconvert_exporter": "python",
   "pygments_lexer": "ipython3",
   "version": "3.11.0"
  },
  "livereveal": {
   "controls": true,
   "height": 855,
   "history": true,
   "minScale": 1,
   "progress": true,
   "scroll": false,
   "slideNumber": true,
   "start_slideshow_at": "selected",
   "theme": "simple",
   "transition": "linear",
   "width": 1140
  }
 },
 "nbformat": 4,
 "nbformat_minor": 1
}
