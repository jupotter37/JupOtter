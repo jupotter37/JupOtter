{
 "cells": [
  {
   "cell_type": "markdown",
   "id": "54d89a67",
   "metadata": {},
   "source": [
    "This chapter discusses capabilities built into the Python language that will be used\n",
    "ubiquitously throughout the book.\n",
    "\n",
    "We’ll start with Python’s workhorse data structures: tuples, lists, dicts, and sets. Then,\n",
    "we’ll discuss creating your own reusable Python functions. Finally, we’ll look at the\n",
    "mechanics of Python file objects and interacting with your local hard drive."
   ]
  },
  {
   "cell_type": "markdown",
   "id": "eee86fa4",
   "metadata": {
    "heading_collapsed": true
   },
   "source": [
    "# Data Structures and Sequences"
   ]
  },
  {
   "cell_type": "markdown",
   "id": "36dbe395",
   "metadata": {
    "heading_collapsed": true,
    "hidden": true
   },
   "source": [
    "## Tuple\n",
    "A tuple is a fixed-length, immutable sequence of Python objects. The easiest way to\n",
    "create one is with a comma-separated sequence of values:"
   ]
  },
  {
   "cell_type": "code",
   "execution_count": 1,
   "id": "4c1092e5",
   "metadata": {
    "ExecuteTime": {
     "end_time": "2022-10-08T13:43:54.580642Z",
     "start_time": "2022-10-08T13:43:54.559642Z"
    },
    "hidden": true
   },
   "outputs": [
    {
     "data": {
      "text/plain": [
       "(4, 5, 6)"
      ]
     },
     "execution_count": 1,
     "metadata": {},
     "output_type": "execute_result"
    }
   ],
   "source": [
    "tup = 4, 5, 6\n",
    "tup"
   ]
  },
  {
   "cell_type": "markdown",
   "id": "7776f247",
   "metadata": {
    "hidden": true
   },
   "source": [
    "When you’re defining tuples in more complicated expressions, it’s often necessary to\n",
    "enclose the values in parentheses."
   ]
  },
  {
   "cell_type": "code",
   "execution_count": 2,
   "id": "66eef9a4",
   "metadata": {
    "ExecuteTime": {
     "end_time": "2022-10-08T13:43:54.626683Z",
     "start_time": "2022-10-08T13:43:54.609643Z"
    },
    "hidden": true
   },
   "outputs": [
    {
     "data": {
      "text/plain": [
       "((4, 5, 6), (7, 8))"
      ]
     },
     "execution_count": 2,
     "metadata": {},
     "output_type": "execute_result"
    }
   ],
   "source": [
    "nested_tup = (4, 5, 6), (7, 8)\n",
    "nested_tup"
   ]
  },
  {
   "cell_type": "markdown",
   "id": "b75a2fc3",
   "metadata": {
    "hidden": true
   },
   "source": [
    "You can convert any sequence or iterator to a tuple by invoking tuple:"
   ]
  },
  {
   "cell_type": "code",
   "execution_count": 3,
   "id": "c231f1c5",
   "metadata": {
    "ExecuteTime": {
     "end_time": "2022-10-08T13:43:54.674641Z",
     "start_time": "2022-10-08T13:43:54.660643Z"
    },
    "hidden": true
   },
   "outputs": [
    {
     "data": {
      "text/plain": [
       "(1, 2, 3)"
      ]
     },
     "execution_count": 3,
     "metadata": {},
     "output_type": "execute_result"
    }
   ],
   "source": [
    "tuple([1, 2, 3])"
   ]
  },
  {
   "cell_type": "code",
   "execution_count": 4,
   "id": "3b2c8621",
   "metadata": {
    "ExecuteTime": {
     "end_time": "2022-10-08T13:43:54.690676Z",
     "start_time": "2022-10-08T13:43:54.676643Z"
    },
    "hidden": true
   },
   "outputs": [
    {
     "data": {
      "text/plain": [
       "('s', 't', 'r', 'i', 'n', 'g')"
      ]
     },
     "execution_count": 4,
     "metadata": {},
     "output_type": "execute_result"
    }
   ],
   "source": [
    "tup = tuple('string')\n",
    "tup"
   ]
  },
  {
   "cell_type": "markdown",
   "id": "f5df5bff",
   "metadata": {
    "hidden": true
   },
   "source": [
    "Elements can be accessed with square brackets [] as with most other sequence types.\n",
    "As in C, C++, Java, and many other languages, sequences are 0-indexed in Python:"
   ]
  },
  {
   "cell_type": "code",
   "execution_count": 5,
   "id": "24603036",
   "metadata": {
    "ExecuteTime": {
     "end_time": "2022-10-08T13:43:54.706670Z",
     "start_time": "2022-10-08T13:43:54.699644Z"
    },
    "hidden": true
   },
   "outputs": [
    {
     "data": {
      "text/plain": [
       "'s'"
      ]
     },
     "execution_count": 5,
     "metadata": {},
     "output_type": "execute_result"
    }
   ],
   "source": [
    "tup[0]"
   ]
  },
  {
   "cell_type": "markdown",
   "id": "62388583",
   "metadata": {
    "hidden": true
   },
   "source": [
    "While the objects stored in a tuple may be mutable themselves, once the tuple is cre‐\n",
    "ated it’s not possible to modify which object is stored in each slot:"
   ]
  },
  {
   "cell_type": "code",
   "execution_count": 6,
   "id": "8ead159e",
   "metadata": {
    "ExecuteTime": {
     "end_time": "2022-10-08T13:43:55.165422Z",
     "start_time": "2022-10-08T13:43:54.731644Z"
    },
    "hidden": true
   },
   "outputs": [
    {
     "ename": "TypeError",
     "evalue": "'tuple' object does not support item assignment",
     "output_type": "error",
     "traceback": [
      "\u001b[1;31m---------------------------------------------------------------------------\u001b[0m",
      "\u001b[1;31mTypeError\u001b[0m                                 Traceback (most recent call last)",
      "Input \u001b[1;32mIn [6]\u001b[0m, in \u001b[0;36m<cell line: 2>\u001b[1;34m()\u001b[0m\n\u001b[0;32m      1\u001b[0m tup \u001b[38;5;241m=\u001b[39m \u001b[38;5;28mtuple\u001b[39m([\u001b[38;5;124m'\u001b[39m\u001b[38;5;124mfoo\u001b[39m\u001b[38;5;124m'\u001b[39m, [\u001b[38;5;241m1\u001b[39m, \u001b[38;5;241m2\u001b[39m], \u001b[38;5;28;01mTrue\u001b[39;00m])\n\u001b[1;32m----> 2\u001b[0m tup[\u001b[38;5;241m2\u001b[39m] \u001b[38;5;241m=\u001b[39m \u001b[38;5;28;01mFalse\u001b[39;00m\n",
      "\u001b[1;31mTypeError\u001b[0m: 'tuple' object does not support item assignment"
     ]
    }
   ],
   "source": [
    "tup = tuple(['foo', [1, 2], True])\n",
    "tup[2] = False"
   ]
  },
  {
   "cell_type": "markdown",
   "id": "b9eebc51",
   "metadata": {
    "hidden": true
   },
   "source": [
    "If an object inside a tuple is mutable, such as a list, you can modify it in-place:"
   ]
  },
  {
   "cell_type": "code",
   "execution_count": null,
   "id": "37732784",
   "metadata": {
    "ExecuteTime": {
     "end_time": "2022-10-08T13:43:55.167391Z",
     "start_time": "2022-10-08T13:43:55.167391Z"
    },
    "hidden": true
   },
   "outputs": [],
   "source": [
    "tup[1].append(3)\n",
    "tup"
   ]
  },
  {
   "cell_type": "markdown",
   "id": "34297f4e",
   "metadata": {
    "hidden": true
   },
   "source": [
    "You can concatenate tuples using the + operator to produce longer tuples:"
   ]
  },
  {
   "cell_type": "code",
   "execution_count": null,
   "id": "d5f4e55b",
   "metadata": {
    "ExecuteTime": {
     "end_time": "2022-10-08T13:43:55.168395Z",
     "start_time": "2022-10-08T13:43:55.168395Z"
    },
    "hidden": true
   },
   "outputs": [],
   "source": [
    "(4, None, 'foo') + (6, 0) + ('bar', )"
   ]
  },
  {
   "cell_type": "markdown",
   "id": "0bbdf644",
   "metadata": {
    "hidden": true
   },
   "source": [
    "Multiplying a tuple by an integer, as with lists, has the effect of concatenating together\n",
    "that many copies of the tuple:"
   ]
  },
  {
   "cell_type": "code",
   "execution_count": null,
   "id": "96fc1a7f",
   "metadata": {
    "ExecuteTime": {
     "end_time": "2022-10-08T13:43:55.169392Z",
     "start_time": "2022-10-08T13:43:55.169392Z"
    },
    "hidden": true
   },
   "outputs": [],
   "source": [
    "('foo', 'bar') * 4"
   ]
  },
  {
   "cell_type": "markdown",
   "id": "dc7edf9f",
   "metadata": {
    "hidden": true
   },
   "source": [
    "**Note that the objects themselves are not copied, only the references to them.**"
   ]
  },
  {
   "cell_type": "code",
   "execution_count": null,
   "id": "db4ea056",
   "metadata": {
    "ExecuteTime": {
     "end_time": "2022-10-08T13:43:55.170390Z",
     "start_time": "2022-10-08T13:43:55.170390Z"
    },
    "hidden": true
   },
   "outputs": [],
   "source": [
    "a = (4, [1, 2])\n",
    "b = a * 2\n",
    "print(b)\n",
    "a[1][1] = 7\n",
    "print(b)"
   ]
  },
  {
   "cell_type": "markdown",
   "id": "eb7c955f",
   "metadata": {
    "hidden": true
   },
   "source": [
    "### Unpacking tuples\n",
    "If you try to assign to a tuple-like expression of variables, Python will attempt to\n",
    "unpack the value on the righthand side of the equals sign:"
   ]
  },
  {
   "cell_type": "code",
   "execution_count": null,
   "id": "8b3bc697",
   "metadata": {
    "ExecuteTime": {
     "end_time": "2022-10-08T13:43:55.172390Z",
     "start_time": "2022-10-08T13:43:55.172390Z"
    },
    "hidden": true
   },
   "outputs": [],
   "source": [
    "tup = (5, 7, 9)\n",
    "a, b, c = tup\n",
    "b"
   ]
  },
  {
   "cell_type": "markdown",
   "id": "2891e6c1",
   "metadata": {
    "hidden": true
   },
   "source": [
    "Even sequences with nested tuples can be unpacked:"
   ]
  },
  {
   "cell_type": "code",
   "execution_count": null,
   "id": "6daaee30",
   "metadata": {
    "ExecuteTime": {
     "end_time": "2022-10-08T13:43:55.173392Z",
     "start_time": "2022-10-08T13:43:55.173392Z"
    },
    "hidden": true
   },
   "outputs": [],
   "source": [
    "tup = 4, 5, (6, 7)\n",
    "a, b, (c, d) = tup\n",
    "b"
   ]
  },
  {
   "cell_type": "markdown",
   "id": "da1064fe",
   "metadata": {
    "hidden": true
   },
   "source": [
    "Using this functionality you can easily swap variable names."
   ]
  },
  {
   "cell_type": "code",
   "execution_count": null,
   "id": "ab4a5cf8",
   "metadata": {
    "ExecuteTime": {
     "end_time": "2022-10-08T13:43:55.174392Z",
     "start_time": "2022-10-08T13:43:55.174392Z"
    },
    "hidden": true
   },
   "outputs": [],
   "source": [
    "a, b = 1, 2"
   ]
  },
  {
   "cell_type": "code",
   "execution_count": null,
   "id": "bde1cd43",
   "metadata": {
    "ExecuteTime": {
     "end_time": "2022-10-08T13:43:55.175389Z",
     "start_time": "2022-10-08T13:43:55.175389Z"
    },
    "hidden": true
   },
   "outputs": [],
   "source": [
    "b, a = a, b"
   ]
  },
  {
   "cell_type": "markdown",
   "id": "7682a9fc",
   "metadata": {
    "hidden": true
   },
   "source": [
    "**A common use of variable unpacking is iterating over sequences of tuples or lists:**"
   ]
  },
  {
   "cell_type": "code",
   "execution_count": null,
   "id": "df752ae2",
   "metadata": {
    "ExecuteTime": {
     "end_time": "2022-10-08T13:43:55.177390Z",
     "start_time": "2022-10-08T13:43:55.177390Z"
    },
    "hidden": true
   },
   "outputs": [],
   "source": [
    "seq = [(1, 2, 3), (4, 5, 6), (7, 8, 9)]\n",
    "for a, b, c in seq:\n",
    "    print('a={}, b={}, c={}'.format(a, b, c))"
   ]
  },
  {
   "cell_type": "markdown",
   "id": "0deffa54",
   "metadata": {
    "hidden": true
   },
   "source": [
    "Another common use is returning multiple values from a function.\n",
    "\n",
    "The Python language recently acquired some more advanced tuple unpacking to help\n",
    "with situations where you may want to “pluck” a few elements from the beginning of\n",
    "a tuple. This uses the special syntax *rest, which is also used in function signatures\n",
    "to capture an arbitrarily long list of positional arguments:"
   ]
  },
  {
   "cell_type": "code",
   "execution_count": null,
   "id": "b3bc1d40",
   "metadata": {
    "ExecuteTime": {
     "end_time": "2022-10-08T13:43:55.178389Z",
     "start_time": "2022-10-08T13:43:55.178389Z"
    },
    "hidden": true
   },
   "outputs": [],
   "source": [
    "values = 1, 2, 3, 4, 5, 6\n",
    "a, b, *rest = values\n",
    "a, b"
   ]
  },
  {
   "cell_type": "code",
   "execution_count": null,
   "id": "0947982c",
   "metadata": {
    "ExecuteTime": {
     "end_time": "2022-10-08T13:43:55.179392Z",
     "start_time": "2022-10-08T13:43:55.179392Z"
    },
    "hidden": true
   },
   "outputs": [],
   "source": [
    "rest"
   ]
  },
  {
   "cell_type": "markdown",
   "id": "db126e5a",
   "metadata": {
    "hidden": true
   },
   "source": [
    "This rest bit is sometimes something you want to discard; there is nothing special\n",
    "about the rest name. As a matter of convention, many Python programmers will use\n",
    "the underscore (_) for unwanted variables:"
   ]
  },
  {
   "cell_type": "code",
   "execution_count": null,
   "id": "dd5381da",
   "metadata": {
    "ExecuteTime": {
     "end_time": "2022-10-08T13:43:55.180392Z",
     "start_time": "2022-10-08T13:43:55.180392Z"
    },
    "hidden": true
   },
   "outputs": [],
   "source": [
    "a, b, *_ = values"
   ]
  },
  {
   "cell_type": "markdown",
   "id": "6252c283",
   "metadata": {
    "hidden": true
   },
   "source": [
    "### Tuple methods\n",
    "Since the size and contents of a tuple cannot be modified, it is very light on instance\n",
    "methods. A particularly useful one (also available on lists) is count, which counts the\n",
    "number of occurrences of a value:"
   ]
  },
  {
   "cell_type": "code",
   "execution_count": null,
   "id": "dae028c1",
   "metadata": {
    "ExecuteTime": {
     "end_time": "2022-10-08T13:43:55.182392Z",
     "start_time": "2022-10-08T13:43:55.182392Z"
    },
    "hidden": true
   },
   "outputs": [],
   "source": [
    "a = (1, 7, 7, 7, 3, 4, 7)\n",
    "a.count(7)"
   ]
  },
  {
   "cell_type": "markdown",
   "id": "3fc727bc",
   "metadata": {
    "heading_collapsed": true,
    "hidden": true
   },
   "source": [
    "## List\n",
    "In contrast with tuples, lists are variable-length and their contents can be modified\n",
    "in-place. You can define them using square brackets [] or using the list type func‐\n",
    "tion:"
   ]
  },
  {
   "cell_type": "code",
   "execution_count": null,
   "id": "cad4991e",
   "metadata": {
    "ExecuteTime": {
     "end_time": "2022-10-08T13:43:55.183424Z",
     "start_time": "2022-10-08T13:43:55.183424Z"
    },
    "hidden": true
   },
   "outputs": [],
   "source": [
    "a_list = [2, 3, 7, None]\n",
    "tup = ('foo', 'bar', 'baz')\n",
    "b_list = list(tup)\n",
    "b_list"
   ]
  },
  {
   "cell_type": "code",
   "execution_count": null,
   "id": "1bbf1980",
   "metadata": {
    "ExecuteTime": {
     "end_time": "2022-10-08T13:43:55.185392Z",
     "start_time": "2022-10-08T13:43:55.185392Z"
    },
    "hidden": true
   },
   "outputs": [],
   "source": [
    "b_list[1] = 'peekaboo'\n",
    "b_list"
   ]
  },
  {
   "cell_type": "markdown",
   "id": "97479cc3",
   "metadata": {
    "hidden": true
   },
   "source": [
    "The list function is frequently used in data processing **as a way to materialize an\n",
    "iterator or generator expression:**"
   ]
  },
  {
   "cell_type": "code",
   "execution_count": 7,
   "id": "0857acbd",
   "metadata": {
    "ExecuteTime": {
     "end_time": "2022-10-08T13:43:55.213390Z",
     "start_time": "2022-10-08T13:43:55.208392Z"
    },
    "hidden": true
   },
   "outputs": [
    {
     "data": {
      "text/plain": [
       "range(0, 10)"
      ]
     },
     "execution_count": 7,
     "metadata": {},
     "output_type": "execute_result"
    }
   ],
   "source": [
    "gen = range(10)\n",
    "gen"
   ]
  },
  {
   "cell_type": "code",
   "execution_count": 8,
   "id": "1822ebe5",
   "metadata": {
    "ExecuteTime": {
     "end_time": "2022-10-08T13:43:55.229425Z",
     "start_time": "2022-10-08T13:43:55.215392Z"
    },
    "hidden": true
   },
   "outputs": [
    {
     "data": {
      "text/plain": [
       "[0, 1, 2, 3, 4, 5, 6, 7, 8, 9]"
      ]
     },
     "execution_count": 8,
     "metadata": {},
     "output_type": "execute_result"
    }
   ],
   "source": [
    "list(gen)"
   ]
  },
  {
   "cell_type": "markdown",
   "id": "abc53e5a",
   "metadata": {
    "hidden": true
   },
   "source": [
    "### Adding and removing elements\n",
    "Elements can be appended to the end of the list with the append method:"
   ]
  },
  {
   "cell_type": "code",
   "execution_count": 9,
   "id": "c225f988",
   "metadata": {
    "ExecuteTime": {
     "end_time": "2022-10-08T13:43:55.277014Z",
     "start_time": "2022-10-08T13:43:55.253424Z"
    },
    "hidden": true
   },
   "outputs": [
    {
     "ename": "NameError",
     "evalue": "name 'b_list' is not defined",
     "output_type": "error",
     "traceback": [
      "\u001b[1;31m---------------------------------------------------------------------------\u001b[0m",
      "\u001b[1;31mNameError\u001b[0m                                 Traceback (most recent call last)",
      "Input \u001b[1;32mIn [9]\u001b[0m, in \u001b[0;36m<cell line: 1>\u001b[1;34m()\u001b[0m\n\u001b[1;32m----> 1\u001b[0m \u001b[43mb_list\u001b[49m\u001b[38;5;241m.\u001b[39mappend(\u001b[38;5;124m'\u001b[39m\u001b[38;5;124mdwarf\u001b[39m\u001b[38;5;124m'\u001b[39m)\n\u001b[0;32m      2\u001b[0m b_list\n",
      "\u001b[1;31mNameError\u001b[0m: name 'b_list' is not defined"
     ]
    }
   ],
   "source": [
    "b_list.append('dwarf')\n",
    "b_list"
   ]
  },
  {
   "cell_type": "markdown",
   "id": "2128e6f4",
   "metadata": {
    "hidden": true
   },
   "source": [
    "Using insert you can insert an element at a specific location in the list:"
   ]
  },
  {
   "cell_type": "code",
   "execution_count": 10,
   "id": "e82ce21d",
   "metadata": {
    "ExecuteTime": {
     "end_time": "2022-10-08T13:43:55.324977Z",
     "start_time": "2022-10-08T13:43:55.294980Z"
    },
    "hidden": true
   },
   "outputs": [
    {
     "ename": "NameError",
     "evalue": "name 'b_list' is not defined",
     "output_type": "error",
     "traceback": [
      "\u001b[1;31m---------------------------------------------------------------------------\u001b[0m",
      "\u001b[1;31mNameError\u001b[0m                                 Traceback (most recent call last)",
      "Input \u001b[1;32mIn [10]\u001b[0m, in \u001b[0;36m<cell line: 1>\u001b[1;34m()\u001b[0m\n\u001b[1;32m----> 1\u001b[0m \u001b[43mb_list\u001b[49m\u001b[38;5;241m.\u001b[39minsert(\u001b[38;5;241m2\u001b[39m, \u001b[38;5;124m'\u001b[39m\u001b[38;5;124mred\u001b[39m\u001b[38;5;124m'\u001b[39m)\n",
      "\u001b[1;31mNameError\u001b[0m: name 'b_list' is not defined"
     ]
    }
   ],
   "source": [
    "b_list.insert(2, 'red')"
   ]
  },
  {
   "cell_type": "markdown",
   "id": "ddc1f07d",
   "metadata": {
    "hidden": true
   },
   "source": [
    "The insertion index must be between 0 and the length of the list, inclusive.\n",
    "\n",
    "insert is computationally expensive compared with append, because references to subsequent elements have to be shifted internally to make room for the new element. If you need to insert elements at both the beginning and end of a sequence, you may wish to explore collections.deque, a double-ended queue, for this purpose.\n",
    "\n",
    "The inverse operation to insert is pop, which removes and returns an element at a\n",
    "particular index:"
   ]
  },
  {
   "cell_type": "code",
   "execution_count": 11,
   "id": "01e12a25",
   "metadata": {
    "ExecuteTime": {
     "end_time": "2022-10-08T13:43:55.357009Z",
     "start_time": "2022-10-08T13:43:55.337978Z"
    },
    "hidden": true
   },
   "outputs": [
    {
     "ename": "NameError",
     "evalue": "name 'b_list' is not defined",
     "output_type": "error",
     "traceback": [
      "\u001b[1;31m---------------------------------------------------------------------------\u001b[0m",
      "\u001b[1;31mNameError\u001b[0m                                 Traceback (most recent call last)",
      "Input \u001b[1;32mIn [11]\u001b[0m, in \u001b[0;36m<cell line: 1>\u001b[1;34m()\u001b[0m\n\u001b[1;32m----> 1\u001b[0m \u001b[43mb_list\u001b[49m\u001b[38;5;241m.\u001b[39mpop(\u001b[38;5;241m2\u001b[39m)\n",
      "\u001b[1;31mNameError\u001b[0m: name 'b_list' is not defined"
     ]
    }
   ],
   "source": [
    "b_list.pop(2)"
   ]
  },
  {
   "cell_type": "code",
   "execution_count": null,
   "id": "d2f4aaa4",
   "metadata": {
    "ExecuteTime": {
     "end_time": "2022-10-08T13:43:55.357976Z",
     "start_time": "2022-10-08T13:43:55.357976Z"
    },
    "hidden": true
   },
   "outputs": [],
   "source": [
    "b_list"
   ]
  },
  {
   "cell_type": "markdown",
   "id": "4327482d",
   "metadata": {
    "hidden": true
   },
   "source": [
    "Elements can be removed by value with remove, which locates the first such value and\n",
    "removes it from the last:"
   ]
  },
  {
   "cell_type": "code",
   "execution_count": 12,
   "id": "ad96fd01",
   "metadata": {
    "ExecuteTime": {
     "end_time": "2022-10-08T13:43:55.404976Z",
     "start_time": "2022-10-08T13:43:55.380978Z"
    },
    "hidden": true
   },
   "outputs": [
    {
     "ename": "NameError",
     "evalue": "name 'b_list' is not defined",
     "output_type": "error",
     "traceback": [
      "\u001b[1;31m---------------------------------------------------------------------------\u001b[0m",
      "\u001b[1;31mNameError\u001b[0m                                 Traceback (most recent call last)",
      "Input \u001b[1;32mIn [12]\u001b[0m, in \u001b[0;36m<cell line: 1>\u001b[1;34m()\u001b[0m\n\u001b[1;32m----> 1\u001b[0m \u001b[43mb_list\u001b[49m\u001b[38;5;241m.\u001b[39mappend(\u001b[38;5;124m'\u001b[39m\u001b[38;5;124mfoo\u001b[39m\u001b[38;5;124m'\u001b[39m)\n\u001b[0;32m      2\u001b[0m b_list\n",
      "\u001b[1;31mNameError\u001b[0m: name 'b_list' is not defined"
     ]
    }
   ],
   "source": [
    "b_list.append('foo')\n",
    "b_list"
   ]
  },
  {
   "cell_type": "code",
   "execution_count": null,
   "id": "d8da0619",
   "metadata": {
    "ExecuteTime": {
     "end_time": "2022-10-08T13:43:55.406978Z",
     "start_time": "2022-10-08T13:43:55.406978Z"
    },
    "hidden": true
   },
   "outputs": [],
   "source": [
    "b_list.remove('foo')\n",
    "b_list"
   ]
  },
  {
   "cell_type": "markdown",
   "id": "63436aba",
   "metadata": {
    "hidden": true
   },
   "source": [
    "If performance is not a concern, by using append and remove, you can use a Python\n",
    "list as a perfectly suitable “multiset” data structure.\n",
    "\n",
    "Check if a list contains a value using the ```in``` keyword:"
   ]
  },
  {
   "cell_type": "code",
   "execution_count": 13,
   "id": "d858937d",
   "metadata": {
    "ExecuteTime": {
     "end_time": "2022-10-08T13:43:55.453012Z",
     "start_time": "2022-10-08T13:43:55.430977Z"
    },
    "hidden": true
   },
   "outputs": [
    {
     "ename": "NameError",
     "evalue": "name 'b_list' is not defined",
     "output_type": "error",
     "traceback": [
      "\u001b[1;31m---------------------------------------------------------------------------\u001b[0m",
      "\u001b[1;31mNameError\u001b[0m                                 Traceback (most recent call last)",
      "Input \u001b[1;32mIn [13]\u001b[0m, in \u001b[0;36m<cell line: 1>\u001b[1;34m()\u001b[0m\n\u001b[1;32m----> 1\u001b[0m \u001b[38;5;124m'\u001b[39m\u001b[38;5;124mdwarf\u001b[39m\u001b[38;5;124m'\u001b[39m \u001b[38;5;129;01min\u001b[39;00m \u001b[43mb_list\u001b[49m\n",
      "\u001b[1;31mNameError\u001b[0m: name 'b_list' is not defined"
     ]
    }
   ],
   "source": [
    "'dwarf' in b_list"
   ]
  },
  {
   "cell_type": "markdown",
   "id": "015d9ec7",
   "metadata": {
    "hidden": true
   },
   "source": [
    "The keyword not can be used to negate in:"
   ]
  },
  {
   "cell_type": "code",
   "execution_count": 14,
   "id": "69ac847d",
   "metadata": {
    "ExecuteTime": {
     "end_time": "2022-10-08T13:43:55.514976Z",
     "start_time": "2022-10-08T13:43:55.470005Z"
    },
    "hidden": true
   },
   "outputs": [
    {
     "ename": "NameError",
     "evalue": "name 'b_list' is not defined",
     "output_type": "error",
     "traceback": [
      "\u001b[1;31m---------------------------------------------------------------------------\u001b[0m",
      "\u001b[1;31mNameError\u001b[0m                                 Traceback (most recent call last)",
      "Input \u001b[1;32mIn [14]\u001b[0m, in \u001b[0;36m<cell line: 1>\u001b[1;34m()\u001b[0m\n\u001b[1;32m----> 1\u001b[0m \u001b[38;5;124m'\u001b[39m\u001b[38;5;124mdwarf\u001b[39m\u001b[38;5;124m'\u001b[39m \u001b[38;5;129;01mnot\u001b[39;00m \u001b[38;5;129;01min\u001b[39;00m \u001b[43mb_list\u001b[49m\n",
      "\u001b[1;31mNameError\u001b[0m: name 'b_list' is not defined"
     ]
    }
   ],
   "source": [
    "'dwarf' not in b_list"
   ]
  },
  {
   "cell_type": "markdown",
   "id": "dabe0bfc",
   "metadata": {
    "hidden": true
   },
   "source": [
    "Checking whether a list contains a value is a lot slower than doing so with dicts and\n",
    "sets, as Python makes a linear scan across the values of the list, whereas it can check the others (based on hash tables) in constant time.\n",
    "\n",
    "### Concatenating and combining lists\n",
    "Similar to tuples, adding two lists together with + concatenates them:"
   ]
  },
  {
   "cell_type": "code",
   "execution_count": 15,
   "id": "027ede43",
   "metadata": {
    "ExecuteTime": {
     "end_time": "2022-10-08T13:43:55.560976Z",
     "start_time": "2022-10-08T13:43:55.543012Z"
    },
    "hidden": true
   },
   "outputs": [
    {
     "data": {
      "text/plain": [
       "[4, None, 'foo', 7, 8, (2, 3)]"
      ]
     },
     "execution_count": 15,
     "metadata": {},
     "output_type": "execute_result"
    }
   ],
   "source": [
    "[4, None, 'foo'] + [7, 8, (2, 3)]"
   ]
  },
  {
   "cell_type": "markdown",
   "id": "5a68496f",
   "metadata": {
    "hidden": true
   },
   "source": [
    "If you have a list already defined, you can append multiple elements to it using the\n",
    "extend method:"
   ]
  },
  {
   "cell_type": "code",
   "execution_count": 16,
   "id": "cbd648df",
   "metadata": {
    "ExecuteTime": {
     "end_time": "2022-10-08T13:43:55.608980Z",
     "start_time": "2022-10-08T13:43:55.603978Z"
    },
    "hidden": true
   },
   "outputs": [
    {
     "data": {
      "text/plain": [
       "[4, None, 'foo', 7, 8, (2, 3)]"
      ]
     },
     "execution_count": 16,
     "metadata": {},
     "output_type": "execute_result"
    }
   ],
   "source": [
    "x = [4, None, 'foo']\n",
    "x.extend([7, 8, (2, 3)])\n",
    "x"
   ]
  },
  {
   "cell_type": "markdown",
   "id": "a3f767f7",
   "metadata": {
    "hidden": true
   },
   "source": [
    "**Note that list concatenation by addition is a comparatively expensive operation since\n",
    "a new list must be created and the objects copied over. Using extend to append elements to an existing list, especially if you are building up a large list, is usually preferable.**\n",
    "\n",
    "### Sorting\n",
    "You can sort a list in-place (without creating a new object) by calling its sort\n",
    "function:"
   ]
  },
  {
   "cell_type": "code",
   "execution_count": 17,
   "id": "ccfbfc1c",
   "metadata": {
    "ExecuteTime": {
     "end_time": "2022-10-08T13:43:55.656977Z",
     "start_time": "2022-10-08T13:43:55.645979Z"
    },
    "hidden": true
   },
   "outputs": [
    {
     "data": {
      "text/plain": [
       "[7, 2, 5, 3, 1]"
      ]
     },
     "execution_count": 17,
     "metadata": {},
     "output_type": "execute_result"
    }
   ],
   "source": [
    "a = [7, 2, 5, 3, 1]\n",
    "a.sort\n",
    "a"
   ]
  },
  {
   "cell_type": "markdown",
   "id": "f54dba1f",
   "metadata": {
    "hidden": true
   },
   "source": [
    "```sort``` has a few options that will occasionally come in handy. One is the ability to pass a secondary sort key—that is, a function that produces a value to use to sort the\n",
    "objects."
   ]
  },
  {
   "cell_type": "code",
   "execution_count": 18,
   "id": "028894d4",
   "metadata": {
    "ExecuteTime": {
     "end_time": "2022-10-08T13:43:55.704976Z",
     "start_time": "2022-10-08T13:43:55.694978Z"
    },
    "hidden": true
   },
   "outputs": [
    {
     "data": {
      "text/plain": [
       "['He', 'saw', 'six', 'small', 'foxes']"
      ]
     },
     "execution_count": 18,
     "metadata": {},
     "output_type": "execute_result"
    }
   ],
   "source": [
    "b = ['saw', 'small', 'He', 'foxes', 'six']\n",
    "b.sort(key=len)\n",
    "b"
   ]
  },
  {
   "cell_type": "markdown",
   "id": "e8da0957",
   "metadata": {
    "hidden": true
   },
   "source": [
    "### Binary search and maintaining a sorted list\n",
    "The built-in bisect module implements binary search and insertion into a sorted list.\n",
    "bisect.bisect finds the location where an element should be inserted to keep it sor‐\n",
    "ted, while bisect.insort actually inserts the element into that location:"
   ]
  },
  {
   "cell_type": "code",
   "execution_count": 19,
   "id": "3af97961",
   "metadata": {
    "ExecuteTime": {
     "end_time": "2022-10-08T13:43:55.753011Z",
     "start_time": "2022-10-08T13:43:55.733978Z"
    },
    "hidden": true
   },
   "outputs": [
    {
     "data": {
      "text/plain": [
       "(2, 4)"
      ]
     },
     "execution_count": 19,
     "metadata": {},
     "output_type": "execute_result"
    }
   ],
   "source": [
    "import bisect\n",
    "c = [1, 2, 4, 5, 7]\n",
    "bisect.bisect(c, 3), bisect.bisect(c, 6)"
   ]
  },
  {
   "cell_type": "code",
   "execution_count": 20,
   "id": "3ccd4500",
   "metadata": {
    "ExecuteTime": {
     "end_time": "2022-10-08T13:43:55.769018Z",
     "start_time": "2022-10-08T13:43:55.754996Z"
    },
    "hidden": true
   },
   "outputs": [
    {
     "data": {
      "text/plain": [
       "[1, 2, 4, 5, 7, 7]"
      ]
     },
     "execution_count": 20,
     "metadata": {},
     "output_type": "execute_result"
    }
   ],
   "source": [
    "bisect.insort(c, 7)\n",
    "c"
   ]
  },
  {
   "cell_type": "markdown",
   "id": "4fb22f0f",
   "metadata": {
    "hidden": true
   },
   "source": [
    "**The bisect module functions do not check whether the list is sorted, as doing so would be computationally expensive. Thus, using them with an unsorted list will succeed without error but may lead to incorrect results.**\n",
    "\n",
    "### Slicing\n",
    "You can select sections of most sequence types by using slice notation, which in its\n",
    "basic form consists of start:stop passed to the indexing operator []:"
   ]
  },
  {
   "cell_type": "code",
   "execution_count": 21,
   "id": "1bd672b5",
   "metadata": {
    "ExecuteTime": {
     "end_time": "2022-10-08T13:43:55.800010Z",
     "start_time": "2022-10-08T13:43:55.784977Z"
    },
    "hidden": true
   },
   "outputs": [
    {
     "data": {
      "text/plain": [
       "[2, 3, 7, 5]"
      ]
     },
     "execution_count": 21,
     "metadata": {},
     "output_type": "execute_result"
    }
   ],
   "source": [
    "seq = [7, 2, 3, 7, 5, 6, 0, 1]\n",
    "seq[1: 5]"
   ]
  },
  {
   "cell_type": "markdown",
   "id": "93401e12",
   "metadata": {
    "hidden": true
   },
   "source": [
    "Slices can also be assigned to with a sequence:"
   ]
  },
  {
   "cell_type": "code",
   "execution_count": 22,
   "id": "60966587",
   "metadata": {
    "ExecuteTime": {
     "end_time": "2022-10-08T13:43:55.847012Z",
     "start_time": "2022-10-08T13:43:55.828976Z"
    },
    "hidden": true
   },
   "outputs": [
    {
     "data": {
      "text/plain": [
       "[7, 2, 3, 6, 3, 5, 6, 0, 1]"
      ]
     },
     "execution_count": 22,
     "metadata": {},
     "output_type": "execute_result"
    }
   ],
   "source": [
    "seq[3: 4] = [6, 3]\n",
    "seq"
   ]
  },
  {
   "cell_type": "markdown",
   "id": "38633a69",
   "metadata": {
    "hidden": true
   },
   "source": [
    "While the element at the start index is included, the stop index is not included, so that the number of elements in the result is stop - start.\n",
    "\n",
    "Either the start or stop can be omitted, in which case they default to the start of the\n",
    "sequence and the end of the sequence, respectively:"
   ]
  },
  {
   "cell_type": "code",
   "execution_count": 23,
   "id": "03f87230",
   "metadata": {
    "ExecuteTime": {
     "end_time": "2022-10-08T13:43:55.879004Z",
     "start_time": "2022-10-08T13:43:55.869979Z"
    },
    "hidden": true
   },
   "outputs": [
    {
     "data": {
      "text/plain": [
       "[7, 2, 3, 6, 3]"
      ]
     },
     "execution_count": 23,
     "metadata": {},
     "output_type": "execute_result"
    }
   ],
   "source": [
    "seq[: 5]"
   ]
  },
  {
   "cell_type": "code",
   "execution_count": 24,
   "id": "321fcc00",
   "metadata": {
    "ExecuteTime": {
     "end_time": "2022-10-08T13:43:55.894976Z",
     "start_time": "2022-10-08T13:43:55.881004Z"
    },
    "hidden": true
   },
   "outputs": [
    {
     "data": {
      "text/plain": [
       "[6, 3, 5, 6, 0, 1]"
      ]
     },
     "execution_count": 24,
     "metadata": {},
     "output_type": "execute_result"
    }
   ],
   "source": [
    "seq[3: ]"
   ]
  },
  {
   "cell_type": "markdown",
   "id": "0c25dadf",
   "metadata": {
    "hidden": true
   },
   "source": [
    "Negative indices slice the sequence relative to the end:"
   ]
  },
  {
   "cell_type": "code",
   "execution_count": 25,
   "id": "c1ca0180",
   "metadata": {
    "ExecuteTime": {
     "end_time": "2022-10-08T13:43:55.927013Z",
     "start_time": "2022-10-08T13:43:55.920007Z"
    },
    "hidden": true
   },
   "outputs": [
    {
     "data": {
      "text/plain": [
       "[5, 6, 0, 1]"
      ]
     },
     "execution_count": 25,
     "metadata": {},
     "output_type": "execute_result"
    }
   ],
   "source": [
    "seq[-4: ]"
   ]
  },
  {
   "cell_type": "code",
   "execution_count": 26,
   "id": "487dcc84",
   "metadata": {
    "ExecuteTime": {
     "end_time": "2022-10-08T13:43:55.943012Z",
     "start_time": "2022-10-08T13:43:55.928986Z"
    },
    "hidden": true
   },
   "outputs": [
    {
     "data": {
      "text/plain": [
       "[6, 3, 5, 6]"
      ]
     },
     "execution_count": 26,
     "metadata": {},
     "output_type": "execute_result"
    }
   ],
   "source": [
    "seq[-6: -2]"
   ]
  },
  {
   "cell_type": "markdown",
   "id": "42971c92",
   "metadata": {
    "hidden": true
   },
   "source": [
    "A step can also be used after a second colon to, say, take every other element:"
   ]
  },
  {
   "cell_type": "code",
   "execution_count": 27,
   "id": "7c785bde",
   "metadata": {
    "ExecuteTime": {
     "end_time": "2022-10-08T13:43:55.974979Z",
     "start_time": "2022-10-08T13:43:55.971002Z"
    },
    "hidden": true
   },
   "outputs": [
    {
     "data": {
      "text/plain": [
       "[7, 3, 3, 6, 1]"
      ]
     },
     "execution_count": 27,
     "metadata": {},
     "output_type": "execute_result"
    }
   ],
   "source": [
    "seq[: : 2]"
   ]
  },
  {
   "cell_type": "markdown",
   "id": "aece4ad6",
   "metadata": {
    "hidden": true
   },
   "source": [
    "A clever use of this is to pass -1, which has the useful effect of reversing a list or tuple:"
   ]
  },
  {
   "cell_type": "code",
   "execution_count": 28,
   "id": "055ce089",
   "metadata": {
    "ExecuteTime": {
     "end_time": "2022-10-08T13:43:56.023013Z",
     "start_time": "2022-10-08T13:43:56.015977Z"
    },
    "hidden": true
   },
   "outputs": [
    {
     "data": {
      "text/plain": [
       "[1, 0, 6, 5, 3, 6, 3, 2, 7]"
      ]
     },
     "execution_count": 28,
     "metadata": {},
     "output_type": "execute_result"
    }
   ],
   "source": [
    "seq[: : -1]"
   ]
  },
  {
   "cell_type": "markdown",
   "id": "183efdec",
   "metadata": {
    "hidden": true
   },
   "source": [
    "## Built-in Sequence Functions"
   ]
  },
  {
   "cell_type": "markdown",
   "id": "576da96b",
   "metadata": {
    "hidden": true
   },
   "source": [
    "### enumerate\n",
    "It’s common when iterating over a sequence to want to keep track of the index of the current item.\n",
    "\n",
    "Since this is so common, Python has a built-in function, enumerate, which returns a\n",
    "sequence of (i, value) tuples:\n",
    "```python\n",
    "for i, value in enumerate(collection):\n",
    "    # do something with value\n",
    "```\n",
    "\n",
    "When you are indexing data, a helpful pattern that uses enumerate is computing a\n",
    "dict mapping the values of a sequence (which are assumed to be unique) to their\n",
    "locations in the sequence:"
   ]
  },
  {
   "cell_type": "code",
   "execution_count": 29,
   "id": "48f76289",
   "metadata": {
    "ExecuteTime": {
     "end_time": "2022-10-08T13:43:56.116975Z",
     "start_time": "2022-10-08T13:43:56.100977Z"
    },
    "hidden": true
   },
   "outputs": [
    {
     "data": {
      "text/plain": [
       "{'foo': 0, 'bar': 1, 'baz': 2}"
      ]
     },
     "execution_count": 29,
     "metadata": {},
     "output_type": "execute_result"
    }
   ],
   "source": [
    "some_list = ['foo', 'bar', 'baz']\n",
    "mapping = {}\n",
    "for i, v in enumerate(some_list):\n",
    "    mapping[v] = i\n",
    "mapping"
   ]
  },
  {
   "cell_type": "markdown",
   "id": "5d8714ad",
   "metadata": {
    "hidden": true
   },
   "source": [
    "### sorted\n",
    "The sorted function returns a new sorted list from the elements of any sequence:"
   ]
  },
  {
   "cell_type": "code",
   "execution_count": 30,
   "id": "4bdafa02",
   "metadata": {
    "ExecuteTime": {
     "end_time": "2022-10-08T13:43:56.164976Z",
     "start_time": "2022-10-08T13:43:56.145976Z"
    },
    "hidden": true
   },
   "outputs": [
    {
     "data": {
      "text/plain": [
       "([0, 1, 2, 2, 3, 6, 7], [7, 1, 2, 6, 0, 3, 2])"
      ]
     },
     "execution_count": 30,
     "metadata": {},
     "output_type": "execute_result"
    }
   ],
   "source": [
    "a = [7, 1, 2, 6, 0, 3, 2]\n",
    "sorted(a), a"
   ]
  },
  {
   "cell_type": "markdown",
   "id": "3745e8f1",
   "metadata": {
    "hidden": true
   },
   "source": [
    "The sorted function accepts the same arguments as the sort method on lists."
   ]
  },
  {
   "cell_type": "markdown",
   "id": "c3bf51a1",
   "metadata": {
    "hidden": true
   },
   "source": [
    "### zip\n",
    "zip “pairs” up the elements of a number of lists, tuples, or other sequences to **create a list of tuples:**"
   ]
  },
  {
   "cell_type": "code",
   "execution_count": 31,
   "id": "80fbdffb",
   "metadata": {
    "ExecuteTime": {
     "end_time": "2022-10-08T13:43:56.244976Z",
     "start_time": "2022-10-08T13:43:56.229977Z"
    },
    "hidden": true
   },
   "outputs": [],
   "source": [
    "seq1 = ['foo', 'bar', 'baz']\n",
    "seq2 = ['one', 'two', 'three']\n",
    "zipped = zip(seq1, seq2)"
   ]
  },
  {
   "cell_type": "code",
   "execution_count": 32,
   "id": "013c7726",
   "metadata": {
    "ExecuteTime": {
     "end_time": "2022-10-08T13:43:56.261012Z",
     "start_time": "2022-10-08T13:43:56.246976Z"
    },
    "hidden": true
   },
   "outputs": [
    {
     "data": {
      "text/plain": [
       "[('foo', 'one'), ('bar', 'two'), ('baz', 'three')]"
      ]
     },
     "execution_count": 32,
     "metadata": {},
     "output_type": "execute_result"
    }
   ],
   "source": [
    "list(zipped)"
   ]
  },
  {
   "cell_type": "markdown",
   "id": "36c13439",
   "metadata": {
    "hidden": true
   },
   "source": [
    "zip can take an arbitrary number of sequences, and the number of elements it produces is determined by the shortest sequence:"
   ]
  },
  {
   "cell_type": "code",
   "execution_count": 33,
   "id": "afa91018",
   "metadata": {
    "ExecuteTime": {
     "end_time": "2022-10-08T13:43:56.291981Z",
     "start_time": "2022-10-08T13:43:56.288007Z"
    },
    "hidden": true
   },
   "outputs": [
    {
     "data": {
      "text/plain": [
       "[('foo', 'one', False), ('bar', 'two', True)]"
      ]
     },
     "execution_count": 33,
     "metadata": {},
     "output_type": "execute_result"
    }
   ],
   "source": [
    "seq3 = [False, True]\n",
    "list(zip(seq1, seq2, seq3))"
   ]
  },
  {
   "cell_type": "markdown",
   "id": "2a89ec73",
   "metadata": {
    "hidden": true
   },
   "source": [
    "A very common use of zip is simultaneously iterating over multiple sequences, possibly also combined with enumerate:"
   ]
  },
  {
   "cell_type": "code",
   "execution_count": 34,
   "id": "505728ab",
   "metadata": {
    "ExecuteTime": {
     "end_time": "2022-10-08T13:43:56.354977Z",
     "start_time": "2022-10-08T13:43:56.334976Z"
    },
    "hidden": true
   },
   "outputs": [
    {
     "name": "stdout",
     "output_type": "stream",
     "text": [
      "0: foo, one\n",
      "1: bar, two\n",
      "2: baz, three\n"
     ]
    }
   ],
   "source": [
    "for i, (a, b) in enumerate(zip(seq1, seq2)):\n",
    "    print('{}: {}, {}'.format(i, a, b))"
   ]
  },
  {
   "cell_type": "markdown",
   "id": "1799401a",
   "metadata": {
    "hidden": true
   },
   "source": [
    "Another way to think about this is converting a list of rows into a list of\n",
    "columns. The syntax, which looks a bit magical, is:"
   ]
  },
  {
   "cell_type": "code",
   "execution_count": 35,
   "id": "b63253ea",
   "metadata": {
    "ExecuteTime": {
     "end_time": "2022-10-08T13:43:56.386994Z",
     "start_time": "2022-10-08T13:43:56.381979Z"
    },
    "hidden": true
   },
   "outputs": [],
   "source": [
    "pitchers = [('Nolan', 'Ryan'), ('Roger', 'Clemens'), ('Schilling', 'Curt')]"
   ]
  },
  {
   "cell_type": "code",
   "execution_count": 36,
   "id": "3833ae0a",
   "metadata": {
    "ExecuteTime": {
     "end_time": "2022-10-08T13:43:56.403010Z",
     "start_time": "2022-10-08T13:43:56.389003Z"
    },
    "hidden": true
   },
   "outputs": [
    {
     "data": {
      "text/plain": [
       "(('Nolan', 'Roger', 'Schilling'), ('Ryan', 'Clemens', 'Curt'))"
      ]
     },
     "execution_count": 36,
     "metadata": {},
     "output_type": "execute_result"
    }
   ],
   "source": [
    "first_names, last_names = zip(*pitchers)\n",
    "first_names, last_names"
   ]
  },
  {
   "cell_type": "markdown",
   "id": "9cbba8a6",
   "metadata": {
    "hidden": true
   },
   "source": [
    "### reversed\n",
    "reversed iterates over the elements of a sequence in reverse order:"
   ]
  },
  {
   "cell_type": "code",
   "execution_count": 37,
   "id": "68266d26",
   "metadata": {
    "ExecuteTime": {
     "end_time": "2022-10-08T13:43:56.450979Z",
     "start_time": "2022-10-08T13:43:56.436978Z"
    },
    "hidden": true
   },
   "outputs": [
    {
     "data": {
      "text/plain": [
       "[0, 1, 2, 3, 4, 5, 6, 7, 8, 9]"
      ]
     },
     "execution_count": 37,
     "metadata": {},
     "output_type": "execute_result"
    }
   ],
   "source": [
    "list(range(10))"
   ]
  },
  {
   "cell_type": "markdown",
   "id": "ceab6a9a",
   "metadata": {
    "hidden": true
   },
   "source": [
    "Keep in mind that reversed is a generator, so it does not create the reversed sequence until materialized."
   ]
  },
  {
   "cell_type": "markdown",
   "id": "6f47a242",
   "metadata": {
    "hidden": true
   },
   "source": [
    "## dict\n",
    "dict is likely the most important built-in Python data structure. A more common\n",
    "name for it is hash map or associative array. It is a flexibly sized collection of key-value\n",
    "pairs, where key and value are Python objects. One approach for creating one is to use\n",
    "curly braces {} and colons to separate keys and values:"
   ]
  },
  {
   "cell_type": "code",
   "execution_count": 38,
   "id": "bbffc3e9",
   "metadata": {
    "ExecuteTime": {
     "end_time": "2022-10-08T13:43:56.547009Z",
     "start_time": "2022-10-08T13:43:56.530986Z"
    },
    "hidden": true
   },
   "outputs": [
    {
     "data": {
      "text/plain": [
       "{'a': 'some value', 'b': [1, 2, 3, 4]}"
      ]
     },
     "execution_count": 38,
     "metadata": {},
     "output_type": "execute_result"
    }
   ],
   "source": [
    "empty_dict = {}\n",
    "d1 = {'a': 'some value', 'b': [1, 2, 3, 4]}\n",
    "d1"
   ]
  },
  {
   "cell_type": "markdown",
   "id": "8ed24367",
   "metadata": {
    "hidden": true
   },
   "source": [
    "You can access, insert, or set elements using the same syntax as for accessing elements of a list or tuple:"
   ]
  },
  {
   "cell_type": "code",
   "execution_count": 39,
   "id": "2e64db47",
   "metadata": {
    "ExecuteTime": {
     "end_time": "2022-10-08T13:43:56.594981Z",
     "start_time": "2022-10-08T13:43:56.580976Z"
    },
    "hidden": true
   },
   "outputs": [
    {
     "data": {
      "text/plain": [
       "{'a': 'some value', 'b': [1, 2, 3, 4], 7: 'an integer'}"
      ]
     },
     "execution_count": 39,
     "metadata": {},
     "output_type": "execute_result"
    }
   ],
   "source": [
    "d1[7] = 'an integer'\n",
    "d1"
   ]
  },
  {
   "cell_type": "code",
   "execution_count": 40,
   "id": "e5a7d3b1",
   "metadata": {
    "ExecuteTime": {
     "end_time": "2022-10-08T13:43:56.610977Z",
     "start_time": "2022-10-08T13:43:56.596976Z"
    },
    "hidden": true
   },
   "outputs": [
    {
     "data": {
      "text/plain": [
       "[1, 2, 3, 4]"
      ]
     },
     "execution_count": 40,
     "metadata": {},
     "output_type": "execute_result"
    }
   ],
   "source": [
    "d1['b']"
   ]
  },
  {
   "cell_type": "markdown",
   "id": "d41be73e",
   "metadata": {
    "hidden": true
   },
   "source": [
    "You can **check if a dict contains a key** using the same syntax used for checking whether a list or tuple contains a value:"
   ]
  },
  {
   "cell_type": "code",
   "execution_count": 41,
   "id": "f7f7b4c6",
   "metadata": {
    "ExecuteTime": {
     "end_time": "2022-10-08T13:43:56.641978Z",
     "start_time": "2022-10-08T13:43:56.636977Z"
    },
    "hidden": true
   },
   "outputs": [
    {
     "data": {
      "text/plain": [
       "(False, True)"
      ]
     },
     "execution_count": 41,
     "metadata": {},
     "output_type": "execute_result"
    }
   ],
   "source": [
    "'some value' in d1, 'b' in d1"
   ]
  },
  {
   "cell_type": "markdown",
   "id": "ec050314",
   "metadata": {
    "hidden": true
   },
   "source": [
    "You can delete values either using the del keyword or the pop method:"
   ]
  },
  {
   "cell_type": "code",
   "execution_count": 42,
   "id": "5f7fd61d",
   "metadata": {
    "ExecuteTime": {
     "end_time": "2022-10-08T13:43:56.702976Z",
     "start_time": "2022-10-08T13:43:56.685977Z"
    },
    "hidden": true
   },
   "outputs": [
    {
     "data": {
      "text/plain": [
       "{'a': 'some value',\n",
       " 'b': [1, 2, 3, 4],\n",
       " 7: 'an integer',\n",
       " 5: 'some value',\n",
       " 'dummy': 'another value'}"
      ]
     },
     "execution_count": 42,
     "metadata": {},
     "output_type": "execute_result"
    }
   ],
   "source": [
    "d1[5] = 'some value'\n",
    "d1['dummy'] = 'another value'\n",
    "d1"
   ]
  },
  {
   "cell_type": "code",
   "execution_count": 43,
   "id": "4c2da58c",
   "metadata": {
    "ExecuteTime": {
     "end_time": "2022-10-08T13:43:56.718008Z",
     "start_time": "2022-10-08T13:43:56.704976Z"
    },
    "hidden": true
   },
   "outputs": [
    {
     "data": {
      "text/plain": [
       "{'a': 'some value',\n",
       " 'b': [1, 2, 3, 4],\n",
       " 7: 'an integer',\n",
       " 'dummy': 'another value'}"
      ]
     },
     "execution_count": 43,
     "metadata": {},
     "output_type": "execute_result"
    }
   ],
   "source": [
    "del d1[5]\n",
    "d1"
   ]
  },
  {
   "cell_type": "code",
   "execution_count": 44,
   "id": "7d9b7a7f",
   "metadata": {
    "ExecuteTime": {
     "end_time": "2022-10-08T13:43:56.734009Z",
     "start_time": "2022-10-08T13:43:56.718977Z"
    },
    "hidden": true
   },
   "outputs": [
    {
     "data": {
      "text/plain": [
       "'another value'"
      ]
     },
     "execution_count": 44,
     "metadata": {},
     "output_type": "execute_result"
    }
   ],
   "source": [
    "ret = d1.pop('dummy')\n",
    "ret"
   ]
  },
  {
   "cell_type": "code",
   "execution_count": 45,
   "id": "3fe3502f",
   "metadata": {
    "ExecuteTime": {
     "end_time": "2022-10-08T13:43:56.749008Z",
     "start_time": "2022-10-08T13:43:56.735978Z"
    },
    "hidden": true
   },
   "outputs": [
    {
     "data": {
      "text/plain": [
       "{'a': 'some value', 'b': [1, 2, 3, 4], 7: 'an integer'}"
      ]
     },
     "execution_count": 45,
     "metadata": {},
     "output_type": "execute_result"
    }
   ],
   "source": [
    "d1"
   ]
  },
  {
   "cell_type": "markdown",
   "id": "75d2be86",
   "metadata": {
    "hidden": true
   },
   "source": [
    "The keys and values method give you iterators of the dict’s keys and values, respectively. While the key-value pairs are not in any particular order, these functions output the keys and values in the same order:"
   ]
  },
  {
   "cell_type": "code",
   "execution_count": 46,
   "id": "fd7de523",
   "metadata": {
    "ExecuteTime": {
     "end_time": "2022-10-08T13:43:56.764978Z",
     "start_time": "2022-10-08T13:43:56.758976Z"
    },
    "hidden": true
   },
   "outputs": [
    {
     "data": {
      "text/plain": [
       "['a', 'b', 7]"
      ]
     },
     "execution_count": 46,
     "metadata": {},
     "output_type": "execute_result"
    }
   ],
   "source": [
    "list(d1.keys())"
   ]
  },
  {
   "cell_type": "code",
   "execution_count": 47,
   "id": "ef4526ee",
   "metadata": {
    "ExecuteTime": {
     "end_time": "2022-10-08T13:43:56.780981Z",
     "start_time": "2022-10-08T13:43:56.766011Z"
    },
    "hidden": true
   },
   "outputs": [
    {
     "data": {
      "text/plain": [
       "['some value', [1, 2, 3, 4], 'an integer']"
      ]
     },
     "execution_count": 47,
     "metadata": {},
     "output_type": "execute_result"
    }
   ],
   "source": [
    "list(d1.values())"
   ]
  },
  {
   "cell_type": "markdown",
   "id": "fc3df896",
   "metadata": {
    "ExecuteTime": {
     "end_time": "2022-10-06T15:54:23.344421Z",
     "start_time": "2022-10-06T15:54:23.316625Z"
    },
    "hidden": true
   },
   "source": [
    "You can merge one dict into another using the update method:"
   ]
  },
  {
   "cell_type": "code",
   "execution_count": 48,
   "id": "41defe0a",
   "metadata": {
    "ExecuteTime": {
     "end_time": "2022-10-08T13:43:56.861010Z",
     "start_time": "2022-10-08T13:43:56.846004Z"
    },
    "hidden": true
   },
   "outputs": [
    {
     "data": {
      "text/plain": [
       "{'a': 'some value', 'b': 'foo', 7: 'an integer', 'c': 12}"
      ]
     },
     "execution_count": 48,
     "metadata": {},
     "output_type": "execute_result"
    }
   ],
   "source": [
    "d1.update({'b': 'foo', 'c': 12})\n",
    "d1"
   ]
  },
  {
   "cell_type": "markdown",
   "id": "77d83929",
   "metadata": {
    "hidden": true
   },
   "source": [
    "The update method changes dicts in-place, so any existing keys in the data passed to update will have their old values discarded."
   ]
  },
  {
   "cell_type": "markdown",
   "id": "9841a34f",
   "metadata": {
    "hidden": true
   },
   "source": [
    "### Creating dicts from sequences\n",
    "It’s common to occasionally end up with two sequences that you want to pair up element-wise in a dict. Since a dict is essentially a collection of 2-tuples, the dict function accepts a list of\n",
    "2-tuples:"
   ]
  },
  {
   "cell_type": "code",
   "execution_count": 49,
   "id": "789d14af",
   "metadata": {
    "ExecuteTime": {
     "end_time": "2022-10-08T13:43:56.971003Z",
     "start_time": "2022-10-08T13:43:56.961988Z"
    },
    "hidden": true
   },
   "outputs": [
    {
     "data": {
      "text/plain": [
       "{0: 4, 1: 3, 2: 2, 3: 1, 4: 0}"
      ]
     },
     "execution_count": 49,
     "metadata": {},
     "output_type": "execute_result"
    }
   ],
   "source": [
    "mapping = dict(zip(range(5,), reversed(range(5))))\n",
    "mapping"
   ]
  },
  {
   "cell_type": "markdown",
   "id": "3567c2a8",
   "metadata": {
    "hidden": true
   },
   "source": [
    "Later we’ll talk about dict comprehensions, another elegant way to construct dicts."
   ]
  },
  {
   "cell_type": "markdown",
   "id": "15936a53",
   "metadata": {
    "hidden": true
   },
   "source": [
    "### Default values\n",
    "It’s very common to have logic like:\n",
    "```python\n",
    "if key in some_dict:\n",
    "    value = some_dict[key]\n",
    "else:\n",
    "    value = default_value\n",
    "```\n",
    "Thus, the dict methods get and pop can take a default value to be returned, so that\n",
    "the above if-else block can be written simply as:\n",
    "```python\n",
    "value = some_dict.get(key, default_value)\n",
    "```\n",
    "\n",
    "get by default will return None if the key is not present, while pop will raise an exception. With setting values, a common case is for the values in a dict to be other collections, like lists."
   ]
  },
  {
   "cell_type": "code",
   "execution_count": 50,
   "id": "07a4c784",
   "metadata": {
    "ExecuteTime": {
     "end_time": "2022-10-08T13:43:57.081003Z",
     "start_time": "2022-10-08T13:43:57.068977Z"
    },
    "hidden": true
   },
   "outputs": [
    {
     "data": {
      "text/plain": [
       "{'a': ['apple', 'atom'], 'b': ['bat', 'bar', 'book']}"
      ]
     },
     "execution_count": 50,
     "metadata": {},
     "output_type": "execute_result"
    }
   ],
   "source": [
    "words = ['apple', 'bat', 'bar', 'atom', 'book']\n",
    "by_letter = {}\n",
    "for word in words:\n",
    "    letter = word[0]\n",
    "    if letter not in by_letter:\n",
    "        by_letter[letter] = [word]\n",
    "    else:\n",
    "        by_letter[letter].append(word)\n",
    "by_letter"
   ]
  },
  {
   "cell_type": "markdown",
   "id": "66f65942",
   "metadata": {
    "hidden": true
   },
   "source": [
    "The setdefault dict method **inserts key with a value of default if key is not in the dictionary.** The preceding for loop can be rewritten as:"
   ]
  },
  {
   "cell_type": "code",
   "execution_count": 51,
   "id": "cb3074bb",
   "metadata": {
    "ExecuteTime": {
     "end_time": "2022-10-08T13:43:57.128979Z",
     "start_time": "2022-10-08T13:43:57.122980Z"
    },
    "hidden": true
   },
   "outputs": [
    {
     "data": {
      "text/plain": [
       "{'a': ['apple', 'atom'], 'b': ['bat', 'bar', 'book']}"
      ]
     },
     "execution_count": 51,
     "metadata": {},
     "output_type": "execute_result"
    }
   ],
   "source": [
    "words = ['apple', 'bat', 'bar', 'atom', 'book']\n",
    "by_letter = {}\n",
    "for word in words:\n",
    "    letter = word[0]\n",
    "    by_letter.setdefault(letter, []).append(word)\n",
    "by_letter"
   ]
  },
  {
   "cell_type": "markdown",
   "id": "28fa2019",
   "metadata": {
    "hidden": true
   },
   "source": [
    "The built-in collections module has a useful class, defaultdict, which makes this\n",
    "even easier. To create one, you pass a type or function for generating the default value\n",
    "for each slot in the dict:"
   ]
  },
  {
   "cell_type": "code",
   "execution_count": 52,
   "id": "d3024842",
   "metadata": {
    "ExecuteTime": {
     "end_time": "2022-10-08T13:43:57.193011Z",
     "start_time": "2022-10-08T13:43:57.177005Z"
    },
    "hidden": true
   },
   "outputs": [
    {
     "data": {
      "text/plain": [
       "defaultdict(list, {'a': ['apple', 'atom'], 'b': ['bat', 'bar', 'book']})"
      ]
     },
     "execution_count": 52,
     "metadata": {},
     "output_type": "execute_result"
    }
   ],
   "source": [
    "from collections import defaultdict\n",
    "words = ['apple', 'bat', 'bar', 'atom', 'book']\n",
    "by_letter = defaultdict(list)\n",
    "for word in words:\n",
    "    by_letter[word[0]].append(word)\n",
    "\n",
    "by_letter"
   ]
  },
  {
   "cell_type": "markdown",
   "id": "5408e269",
   "metadata": {
    "hidden": true
   },
   "source": [
    "### Valid dict key types\n",
    "While the values of a dict can be any Python object, **the keys generally have to be immutable objects like scalar types (int, float, string) or tuples (all the objects in the tuple need to be immutable, too).** The technical term here is hashability. You can check whether an object is hashable (can be used as a key in a dict) with the hash function:"
   ]
  },
  {
   "cell_type": "code",
   "execution_count": 53,
   "id": "97db7e69",
   "metadata": {
    "ExecuteTime": {
     "end_time": "2022-10-08T13:43:57.241012Z",
     "start_time": "2022-10-08T13:43:57.228978Z"
    },
    "hidden": true
   },
   "outputs": [
    {
     "data": {
      "text/plain": [
       "-3872847231434160"
      ]
     },
     "execution_count": 53,
     "metadata": {},
     "output_type": "execute_result"
    }
   ],
   "source": [
    "hash('string')"
   ]
  },
  {
   "cell_type": "code",
   "execution_count": 54,
   "id": "1cc985b5",
   "metadata": {
    "ExecuteTime": {
     "end_time": "2022-10-08T13:43:57.256981Z",
     "start_time": "2022-10-08T13:43:57.243012Z"
    },
    "hidden": true
   },
   "outputs": [
    {
     "data": {
      "text/plain": [
       "-1429464707349485113"
      ]
     },
     "execution_count": 54,
     "metadata": {},
     "output_type": "execute_result"
    }
   ],
   "source": [
    "hash((1, 2, (1, 2)))"
   ]
  },
  {
   "cell_type": "code",
   "execution_count": 55,
   "id": "979484cb",
   "metadata": {
    "ExecuteTime": {
     "end_time": "2022-10-08T13:43:57.272979Z",
     "start_time": "2022-10-08T13:43:57.259005Z"
    },
    "hidden": true
   },
   "outputs": [
    {
     "ename": "TypeError",
     "evalue": "unhashable type: 'list'",
     "output_type": "error",
     "traceback": [
      "\u001b[1;31m---------------------------------------------------------------------------\u001b[0m",
      "\u001b[1;31mTypeError\u001b[0m                                 Traceback (most recent call last)",
      "Input \u001b[1;32mIn [55]\u001b[0m, in \u001b[0;36m<cell line: 1>\u001b[1;34m()\u001b[0m\n\u001b[1;32m----> 1\u001b[0m \u001b[38;5;28;43mhash\u001b[39;49m\u001b[43m(\u001b[49m\u001b[43m(\u001b[49m\u001b[38;5;241;43m1\u001b[39;49m\u001b[43m,\u001b[49m\u001b[43m \u001b[49m\u001b[38;5;241;43m2\u001b[39;49m\u001b[43m,\u001b[49m\u001b[43m \u001b[49m\u001b[43m[\u001b[49m\u001b[38;5;241;43m1\u001b[39;49m\u001b[43m,\u001b[49m\u001b[43m \u001b[49m\u001b[38;5;241;43m2\u001b[39;49m\u001b[43m]\u001b[49m\u001b[43m)\u001b[49m\u001b[43m)\u001b[49m\n",
      "\u001b[1;31mTypeError\u001b[0m: unhashable type: 'list'"
     ]
    }
   ],
   "source": [
    "hash((1, 2, [1, 2]))"
   ]
  },
  {
   "cell_type": "markdown",
   "id": "21e625ba",
   "metadata": {
    "hidden": true
   },
   "source": [
    "To use a list as a key, one option is to convert it to a tuple, which can be hashed as long as its elements also can:"
   ]
  },
  {
   "cell_type": "code",
   "execution_count": 56,
   "id": "fedfe9fa",
   "metadata": {
    "ExecuteTime": {
     "end_time": "2022-10-08T13:43:57.321011Z",
     "start_time": "2022-10-08T13:43:57.302977Z"
    },
    "hidden": true
   },
   "outputs": [
    {
     "data": {
      "text/plain": [
       "{(1, 2, 4): 5}"
      ]
     },
     "execution_count": 56,
     "metadata": {},
     "output_type": "execute_result"
    }
   ],
   "source": [
    "d = {}\n",
    "d[tuple([1, 2, 4])] = 5\n",
    "d"
   ]
  },
  {
   "cell_type": "markdown",
   "id": "6af3a156",
   "metadata": {
    "hidden": true
   },
   "source": [
    "## set\n",
    "A set is **an unordered collection of unique elements.** You can think of them like dicts, but keys only, no values. A set can be created in two ways: via the set function or via a set literal with curly braces:"
   ]
  },
  {
   "cell_type": "code",
   "execution_count": 57,
   "id": "1b35c505",
   "metadata": {
    "ExecuteTime": {
     "end_time": "2022-10-08T13:43:57.368979Z",
     "start_time": "2022-10-08T13:43:57.359005Z"
    },
    "hidden": true
   },
   "outputs": [
    {
     "data": {
      "text/plain": [
       "{1, 2, 3}"
      ]
     },
     "execution_count": 57,
     "metadata": {},
     "output_type": "execute_result"
    }
   ],
   "source": [
    "set([2, 2, 2, 1, 3, 3])"
   ]
  },
  {
   "cell_type": "code",
   "execution_count": 58,
   "id": "e302e050",
   "metadata": {
    "ExecuteTime": {
     "end_time": "2022-10-08T13:43:57.384981Z",
     "start_time": "2022-10-08T13:43:57.370980Z"
    },
    "hidden": true
   },
   "outputs": [
    {
     "data": {
      "text/plain": [
       "{1, 2, 3}"
      ]
     },
     "execution_count": 58,
     "metadata": {},
     "output_type": "execute_result"
    }
   ],
   "source": [
    "{2, 2, 2, 1, 3, 3}"
   ]
  },
  {
   "cell_type": "markdown",
   "id": "8ed7786f",
   "metadata": {
    "hidden": true
   },
   "source": [
    "Sets support mathematical set operations like union, intersection, difference, and symmetric difference."
   ]
  },
  {
   "cell_type": "code",
   "execution_count": 59,
   "id": "22d1c918",
   "metadata": {
    "ExecuteTime": {
     "end_time": "2022-10-08T13:43:57.431014Z",
     "start_time": "2022-10-08T13:43:57.421988Z"
    },
    "hidden": true
   },
   "outputs": [],
   "source": [
    "a = {1, 2, 3, 4, 5}\n",
    "b = {3, 4, 5, 6, 7, 8}"
   ]
  },
  {
   "cell_type": "code",
   "execution_count": 60,
   "id": "624636c3",
   "metadata": {
    "ExecuteTime": {
     "end_time": "2022-10-08T13:43:57.447012Z",
     "start_time": "2022-10-08T13:43:57.432978Z"
    },
    "hidden": true
   },
   "outputs": [
    {
     "data": {
      "text/plain": [
       "({1, 2, 3, 4, 5, 6, 7, 8}, {1, 2, 3, 4, 5, 6, 7, 8})"
      ]
     },
     "execution_count": 60,
     "metadata": {},
     "output_type": "execute_result"
    }
   ],
   "source": [
    "a.union(b), a | b"
   ]
  },
  {
   "cell_type": "markdown",
   "id": "92a75a59",
   "metadata": {
    "hidden": true
   },
   "source": [
    "The intersection contains the elements occurring in both sets. The & operator or the intersection method can be used:"
   ]
  },
  {
   "cell_type": "code",
   "execution_count": 61,
   "id": "c5ebdf4c",
   "metadata": {
    "ExecuteTime": {
     "end_time": "2022-10-08T13:43:57.494976Z",
     "start_time": "2022-10-08T13:43:57.486978Z"
    },
    "hidden": true
   },
   "outputs": [
    {
     "data": {
      "text/plain": [
       "({3, 4, 5}, {3, 4, 5})"
      ]
     },
     "execution_count": 61,
     "metadata": {},
     "output_type": "execute_result"
    }
   ],
   "source": [
    "a.intersection(b), a & b"
   ]
  },
  {
   "cell_type": "markdown",
   "id": "81b87357",
   "metadata": {
    "hidden": true
   },
   "source": [
    "|Function|Alternative syntax|Description|\n",
    "|---|---|---|\n",
    "a.add(x)|N/A|Add element x to the set a\n",
    "a.clear()|N/A|Reset the set a to an empty state, discarding all of its elements\n",
    "a.remove(x)|N/A|Remove element x from the set a\n",
    "a.pop()|N/A|Remove an arbitrary element from the set a, raising KeyError if the set is empty\n",
    "a.union(b)|a \\| b|All of the unique elements in a and b\n",
    "a.update(b)|a \\|= b|Set the contents of a to be the union of the elements in a and b\n",
    "a.intersection(b)| a & b|All of the elements in both a and b\n",
    "a.intersection_update(b)|a &= b|Set the contents of a to be the intersection of the elements in a and b \n",
    "a.difference(b)|a - b|The elements in a that are not in b\n",
    "a.difference_update(b)|a -= b|Set a to the elements in a that are not in b\n",
    "a.symmetric_difference(b)|a ^ b|All of the elements in either a or b but not both\n",
    "a.symmetric_difference_update(b)|a ^= b|Set a to contain the elements in either a or b but not both\n",
    "a.issubset(b)|N/A|True if the elements of a are all contained in b\n",
    "a.issuperset(b)|N/A|True if the elements of b are all contained in a\n",
    "a.isdisjoint(b)|N/A|True if a and b have no elements in common"
   ]
  },
  {
   "cell_type": "markdown",
   "id": "b80a60d2",
   "metadata": {
    "hidden": true
   },
   "source": [
    "All of the logical set operations have in-place counterparts, which enable you to\n",
    "replace the contents of the set on the left side of the operation with the result. For\n",
    "very large sets, this may be more efficient:"
   ]
  },
  {
   "cell_type": "code",
   "execution_count": 62,
   "id": "4709439b",
   "metadata": {
    "ExecuteTime": {
     "end_time": "2022-10-08T13:43:57.604979Z",
     "start_time": "2022-10-08T13:43:57.596977Z"
    },
    "hidden": true
   },
   "outputs": [
    {
     "data": {
      "text/plain": [
       "{1, 2, 3, 4, 5, 6, 7, 8}"
      ]
     },
     "execution_count": 62,
     "metadata": {},
     "output_type": "execute_result"
    }
   ],
   "source": [
    "c = a.copy()\n",
    "c |= b\n",
    "c"
   ]
  },
  {
   "cell_type": "code",
   "execution_count": 63,
   "id": "63eb1c0e",
   "metadata": {
    "ExecuteTime": {
     "end_time": "2022-10-08T13:43:57.621014Z",
     "start_time": "2022-10-08T13:43:57.606978Z"
    },
    "hidden": true
   },
   "outputs": [
    {
     "data": {
      "text/plain": [
       "{3, 4, 5, 6, 7, 8}"
      ]
     },
     "execution_count": 63,
     "metadata": {},
     "output_type": "execute_result"
    }
   ],
   "source": [
    "d = c.copy()\n",
    "d &= b\n",
    "d"
   ]
  },
  {
   "cell_type": "markdown",
   "id": "8453bc64",
   "metadata": {
    "hidden": true
   },
   "source": [
    "Like dicts, set elements generally must be immutable. To have list-like elements, you\n",
    "must convert it to a tuple:"
   ]
  },
  {
   "cell_type": "code",
   "execution_count": 64,
   "id": "4f698d66",
   "metadata": {
    "ExecuteTime": {
     "end_time": "2022-10-08T13:43:57.669009Z",
     "start_time": "2022-10-08T13:43:57.660008Z"
    },
    "hidden": true
   },
   "outputs": [
    {
     "data": {
      "text/plain": [
       "{(1, 2, 3, 4, 5)}"
      ]
     },
     "execution_count": 64,
     "metadata": {},
     "output_type": "execute_result"
    }
   ],
   "source": [
    "my_data = [1, 2, 3, 4, 5]\n",
    "my_set = {tuple(my_data)}\n",
    "my_set"
   ]
  },
  {
   "cell_type": "markdown",
   "id": "b5e9eed0",
   "metadata": {
    "hidden": true
   },
   "source": [
    "You can also check if a set is a subset of (is contained in) or a superset of (contains all\n",
    "elements of) another set:"
   ]
  },
  {
   "cell_type": "code",
   "execution_count": 65,
   "id": "4ff01ddf",
   "metadata": {
    "ExecuteTime": {
     "end_time": "2022-10-08T13:43:57.731008Z",
     "start_time": "2022-10-08T13:43:57.721978Z"
    },
    "hidden": true
   },
   "outputs": [
    {
     "data": {
      "text/plain": [
       "(True, True)"
      ]
     },
     "execution_count": 65,
     "metadata": {},
     "output_type": "execute_result"
    }
   ],
   "source": [
    "a_set = {1, 2, 3, 4, 5}\n",
    "{1, 2, 3}.issubset(a_set), a_set.issuperset({1, 2, 3})"
   ]
  },
  {
   "cell_type": "markdown",
   "id": "ca308bd2",
   "metadata": {
    "hidden": true
   },
   "source": [
    "Sets are equal if and only if their contents are equal:"
   ]
  },
  {
   "cell_type": "code",
   "execution_count": 66,
   "id": "0000fff9",
   "metadata": {
    "ExecuteTime": {
     "end_time": "2022-10-08T13:43:57.794976Z",
     "start_time": "2022-10-08T13:43:57.779977Z"
    },
    "hidden": true
   },
   "outputs": [
    {
     "data": {
      "text/plain": [
       "True"
      ]
     },
     "execution_count": 66,
     "metadata": {},
     "output_type": "execute_result"
    }
   ],
   "source": [
    "{1, 2, 3} == {3, 2, 1}"
   ]
  },
  {
   "cell_type": "markdown",
   "id": "0e56fe7a",
   "metadata": {
    "hidden": true
   },
   "source": [
    "## List, Set, and Dict Comprehensions\n",
    "\n",
    "List comprehensions are one of the most-loved Python language features. They allow\n",
    "you to concisely form a new list by filtering the elements of a collection, transforming\n",
    "the elements passing the filter in one concise expression. They take the basic form:\n",
    "```python\n",
    "[expr for val in collection if condition]\n",
    "```\n",
    "This is equivalent to the following for loop:\n",
    "```python\n",
    "result = []\n",
    "for val in collection:\n",
    "    if condition:\n",
    "        result.append(val)\n",
    "```\n",
    "The filter condition can be omitted, leaving only the expression."
   ]
  },
  {
   "cell_type": "code",
   "execution_count": 67,
   "id": "1b63dc5b",
   "metadata": {
    "ExecuteTime": {
     "end_time": "2022-10-08T13:43:57.858978Z",
     "start_time": "2022-10-08T13:43:57.841004Z"
    },
    "hidden": true
   },
   "outputs": [
    {
     "data": {
      "text/plain": [
       "['BAT', 'CAR', 'DOVE', 'PYTHON']"
      ]
     },
     "execution_count": 67,
     "metadata": {},
     "output_type": "execute_result"
    }
   ],
   "source": [
    "strings = ['a', 'as', 'bat', 'car', 'dove', 'python']\n",
    "[x.upper() for x in strings if len(x) > 2]"
   ]
  },
  {
   "cell_type": "markdown",
   "id": "5a0b3924",
   "metadata": {
    "hidden": true
   },
   "source": [
    "Set and dict comprehensions are a natural extension, producing sets and dicts in an\n",
    "idiomatically similar way instead of lists. A dict comprehension looks like this:\n",
    "```python\n",
    "dict_comp = {key-expr : value-expr for value in collection if condition}\n",
    "```\n",
    "\n",
    "A set comprehension looks like the equivalent list comprehension except with curly braces instead of square brackets:\n",
    "```python\n",
    "set_comp = {expr for value in collection if condition}\n",
    "```"
   ]
  },
  {
   "cell_type": "code",
   "execution_count": 68,
   "id": "b4ddbffe",
   "metadata": {
    "ExecuteTime": {
     "end_time": "2022-10-08T13:43:57.906990Z",
     "start_time": "2022-10-08T13:43:57.901979Z"
    },
    "hidden": true
   },
   "outputs": [
    {
     "data": {
      "text/plain": [
       "{1, 2, 3, 4, 6}"
      ]
     },
     "execution_count": 68,
     "metadata": {},
     "output_type": "execute_result"
    }
   ],
   "source": [
    "unique_lengths = {len(x) for x in strings}\n",
    "unique_lengths"
   ]
  },
  {
   "cell_type": "markdown",
   "id": "74ff31b2",
   "metadata": {
    "hidden": true
   },
   "source": [
    "We could also express this more functionally using the map function, introduced shortly:"
   ]
  },
  {
   "cell_type": "code",
   "execution_count": 69,
   "id": "5eeb3888",
   "metadata": {
    "ExecuteTime": {
     "end_time": "2022-10-08T13:43:57.971013Z",
     "start_time": "2022-10-08T13:43:57.963978Z"
    },
    "hidden": true
   },
   "outputs": [
    {
     "data": {
      "text/plain": [
       "{1, 2, 3, 4, 6}"
      ]
     },
     "execution_count": 69,
     "metadata": {},
     "output_type": "execute_result"
    }
   ],
   "source": [
    "set(map(len, strings))"
   ]
  },
  {
   "cell_type": "markdown",
   "id": "54a40c05",
   "metadata": {
    "hidden": true
   },
   "source": [
    "As a simple dict comprehension example, we could create a lookup map of these strings to their locations in the list:"
   ]
  },
  {
   "cell_type": "code",
   "execution_count": 70,
   "id": "4ca405ab",
   "metadata": {
    "ExecuteTime": {
     "end_time": "2022-10-08T13:43:58.034976Z",
     "start_time": "2022-10-08T13:43:58.024980Z"
    },
    "hidden": true
   },
   "outputs": [
    {
     "data": {
      "text/plain": [
       "{'a': 0, 'as': 1, 'bat': 2, 'car': 3, 'dove': 4, 'python': 5}"
      ]
     },
     "execution_count": 70,
     "metadata": {},
     "output_type": "execute_result"
    }
   ],
   "source": [
    "loc_mapping = {val: index for index, val in enumerate(strings)}\n",
    "loc_mapping"
   ]
  },
  {
   "cell_type": "markdown",
   "id": "870b56e1",
   "metadata": {
    "hidden": true
   },
   "source": [
    "### Nested list comprehensions\n",
    "Suppose we have a list of lists containing some English and Spanish names:"
   ]
  },
  {
   "cell_type": "code",
   "execution_count": 71,
   "id": "0e91c931",
   "metadata": {
    "ExecuteTime": {
     "end_time": "2022-10-08T13:43:58.099009Z",
     "start_time": "2022-10-08T13:43:58.088977Z"
    },
    "hidden": true
   },
   "outputs": [],
   "source": [
    "all_data = [['John', 'Emily', 'Michael', 'Mary', 'Steven'],\n",
    "            ['Maria', 'Juan', 'Javier', 'Natalia', 'Pilar']]"
   ]
  },
  {
   "cell_type": "markdown",
   "id": "a07a70c6",
   "metadata": {
    "hidden": true
   },
   "source": [
    "You might have gotten these names from a couple of files and decided to organize\n",
    "them by language. Now, suppose we wanted to get a single list containing all names\n",
    "with two or more e’s in them. We could certainly do this with a simple for loop:"
   ]
  },
  {
   "cell_type": "code",
   "execution_count": 72,
   "id": "89b25d47",
   "metadata": {
    "ExecuteTime": {
     "end_time": "2022-10-08T13:43:58.163008Z",
     "start_time": "2022-10-08T13:43:58.151004Z"
    },
    "hidden": true
   },
   "outputs": [
    {
     "data": {
      "text/plain": [
       "['Steven']"
      ]
     },
     "execution_count": 72,
     "metadata": {},
     "output_type": "execute_result"
    }
   ],
   "source": [
    "name_of_interest = []\n",
    "for names in all_data:\n",
    "    enough_es = [name for name in names if name.count('e') >= 2]\n",
    "    name_of_interest.extend(enough_es)\n",
    "name_of_interest"
   ]
  },
  {
   "cell_type": "markdown",
   "id": "e86746ac",
   "metadata": {
    "hidden": true
   },
   "source": [
    "You can actually wrap this whole operation up in a single nested list comprehension,\n",
    "which will look like:"
   ]
  },
  {
   "cell_type": "code",
   "execution_count": 73,
   "id": "7ac67061",
   "metadata": {
    "ExecuteTime": {
     "end_time": "2022-10-08T13:43:58.227009Z",
     "start_time": "2022-10-08T13:43:58.212978Z"
    },
    "hidden": true
   },
   "outputs": [
    {
     "data": {
      "text/plain": [
       "['Steven']"
      ]
     },
     "execution_count": 73,
     "metadata": {},
     "output_type": "execute_result"
    }
   ],
   "source": [
    "result = [name for names in all_data for name in names if name.count('e') >= 2]\n",
    "result"
   ]
  },
  {
   "cell_type": "markdown",
   "id": "63f1e221",
   "metadata": {
    "hidden": true
   },
   "source": [
    "At first, nested list comprehensions are a bit hard to wrap your head around. The for\n",
    "parts of the list comprehension are arranged according to the order of nesting, and\n",
    "any filter condition is put at the end as before."
   ]
  },
  {
   "cell_type": "code",
   "execution_count": 74,
   "id": "96c7efd8",
   "metadata": {
    "ExecuteTime": {
     "end_time": "2022-10-08T13:43:58.291003Z",
     "start_time": "2022-10-08T13:43:58.275982Z"
    },
    "hidden": true
   },
   "outputs": [
    {
     "data": {
      "text/plain": [
       "[1, 2, 3, 4, 5, 6, 7, 8, 9]"
      ]
     },
     "execution_count": 74,
     "metadata": {},
     "output_type": "execute_result"
    }
   ],
   "source": [
    "some_tuples = [(1, 2, 3), (4, 5, 6), (7, 8, 9)]\n",
    "flattened = [x for tup in some_tuples for x in tup]\n",
    "flattened"
   ]
  },
  {
   "cell_type": "markdown",
   "id": "29fdb2ea",
   "metadata": {
    "hidden": true
   },
   "source": [
    "Keep in mind that the order of the for expressions would be the same if you wrote a nested for loop instead of a list comprehension.\n",
    "\n",
    "You can have arbitrarily many levels of nesting, though if you have more than two or\n",
    "three levels of nesting you should probably start to question whether this makes sense\n",
    "from a code readability standpoint. It’s important to distinguish the syntax just shown\n",
    "from a list comprehension inside a list comprehension, which is also perfectly valid:"
   ]
  },
  {
   "cell_type": "code",
   "execution_count": 75,
   "id": "1c99f8c6",
   "metadata": {
    "ExecuteTime": {
     "end_time": "2022-10-08T13:43:58.354989Z",
     "start_time": "2022-10-08T13:43:58.342006Z"
    },
    "hidden": true
   },
   "outputs": [
    {
     "data": {
      "text/plain": [
       "[[1, 2, 3], [4, 5, 6], [7, 8, 9]]"
      ]
     },
     "execution_count": 75,
     "metadata": {},
     "output_type": "execute_result"
    }
   ],
   "source": [
    "[[x for x in tup] for tup in some_tuples]"
   ]
  },
  {
   "cell_type": "markdown",
   "id": "1b1e732d",
   "metadata": {},
   "source": [
    "# Functions"
   ]
  },
  {
   "cell_type": "markdown",
   "id": "ede3b50d",
   "metadata": {},
   "source": [
    "Functions are declared with the def keyword and returned from with the return keyword:"
   ]
  },
  {
   "cell_type": "code",
   "execution_count": 76,
   "id": "01c98cee",
   "metadata": {
    "ExecuteTime": {
     "end_time": "2022-10-08T13:43:58.481011Z",
     "start_time": "2022-10-08T13:43:58.462978Z"
    }
   },
   "outputs": [],
   "source": [
    "def my_function(x, y, z=1.5):\n",
    "    if z > 1:\n",
    "        return z * (x + y)\n",
    "    else:\n",
    "        return z / (x + y)"
   ]
  },
  {
   "cell_type": "markdown",
   "id": "3aa3454b",
   "metadata": {},
   "source": [
    "There is no issue with having multiple return statements. If Python reaches the end\n",
    "of a function without encountering a return statement, None is returned automatically.\n",
    "\n",
    "Each function can have positional arguments and keyword arguments. Keyword arguments are most commonly used to specify default values or optional arguments. In\n",
    "the preceding function, x and y are positional arguments while z is a keyword argument."
   ]
  },
  {
   "cell_type": "code",
   "execution_count": 77,
   "id": "b6b37719",
   "metadata": {
    "ExecuteTime": {
     "end_time": "2022-10-08T13:43:58.544980Z",
     "start_time": "2022-10-08T13:43:58.528978Z"
    }
   },
   "outputs": [
    {
     "data": {
      "text/plain": [
       "(9, 17.5, 45.0)"
      ]
     },
     "execution_count": 77,
     "metadata": {},
     "output_type": "execute_result"
    }
   ],
   "source": [
    "my_function(1, 2, z=3), my_function(3, 2, 3.5), my_function(10, 20)"
   ]
  },
  {
   "cell_type": "markdown",
   "id": "9084395f",
   "metadata": {},
   "source": [
    "**The main restriction on function arguments is that the keyword arguments must follow the positional arguments (if any).**\n",
    "\n",
    "It is possible to use keywords for passing positional arguments as\n",
    "well. In the preceding example, we could also have written:"
   ]
  },
  {
   "cell_type": "code",
   "execution_count": 78,
   "id": "a42578a2",
   "metadata": {
    "ExecuteTime": {
     "end_time": "2022-10-08T13:43:58.640980Z",
     "start_time": "2022-10-08T13:43:58.630976Z"
    }
   },
   "outputs": [
    {
     "data": {
      "text/plain": [
       "(77, 77)"
      ]
     },
     "execution_count": 78,
     "metadata": {},
     "output_type": "execute_result"
    }
   ],
   "source": [
    "my_function(x=5, y=6, z=7), my_function(y=6, x=5, z=7)"
   ]
  },
  {
   "cell_type": "markdown",
   "id": "4b2cc550",
   "metadata": {},
   "source": [
    "In some cases this can help with readability.\n",
    "\n",
    "## Namespaces, Scope, and Local Functions\n",
    "Functions can access variables in two different scopes: global and local. An alternative and more descriptive name describing a variable scope in Python is a namespace. Any variables that are assigned within a function by default are assigned to the local namespace. The local namespace is created when the function is called and immediately populated by the function’s arguments. After the function is finished, the local namespace is destroyed.\n",
    "\n",
    "Assigning variables outside of the function’s scope is possible, but those variables must be declared as global via the global keyword:"
   ]
  },
  {
   "cell_type": "code",
   "execution_count": 79,
   "id": "7133fb64",
   "metadata": {
    "ExecuteTime": {
     "end_time": "2022-10-08T13:43:58.718984Z",
     "start_time": "2022-10-08T13:43:58.714977Z"
    }
   },
   "outputs": [
    {
     "name": "stdout",
     "output_type": "stream",
     "text": [
      "[]\n"
     ]
    }
   ],
   "source": [
    "a = None\n",
    "def bind_a_variable():\n",
    "    global a\n",
    "    a = []\n",
    "bind_a_variable()\n",
    "print(a)"
   ]
  },
  {
   "cell_type": "markdown",
   "id": "5ea7ffcd",
   "metadata": {},
   "source": [
    "**I generally discourage use of the global keyword. Typically global\n",
    "variables are used to store some kind of state in a system. If you\n",
    "find yourself using a lot of them, it may indicate a need for object-\n",
    "oriented programming (using classes).**\n",
    "\n",
    "## Returning Multiple Values\n",
    "\n",
    "When I first programmed in Python after having programmed in C++, one\n",
    "of my favorite features was the ability to return multiple values from a function with\n",
    "simple syntax."
   ]
  },
  {
   "cell_type": "code",
   "execution_count": 80,
   "id": "39325134",
   "metadata": {
    "ExecuteTime": {
     "end_time": "2022-10-08T13:43:58.796977Z",
     "start_time": "2022-10-08T13:43:58.789994Z"
    }
   },
   "outputs": [],
   "source": [
    "def f():\n",
    "    a = 6\n",
    "    b = 7\n",
    "    c = 8\n",
    "    return a, b, c\n",
    "a, b, c = f()"
   ]
  },
  {
   "cell_type": "markdown",
   "id": "71b9c154",
   "metadata": {},
   "source": [
    "What’s happening here is that the function is actually just returning one object, namely a tuple, which is then being unpacked into the result variables. In the preceding example, we could have done this instead:"
   ]
  },
  {
   "cell_type": "code",
   "execution_count": 81,
   "id": "bdc8f299",
   "metadata": {
    "ExecuteTime": {
     "end_time": "2022-10-08T13:43:58.860980Z",
     "start_time": "2022-10-08T13:43:58.853979Z"
    }
   },
   "outputs": [
    {
     "data": {
      "text/plain": [
       "(6, 7, 8)"
      ]
     },
     "execution_count": 81,
     "metadata": {},
     "output_type": "execute_result"
    }
   ],
   "source": [
    "return_value = f()\n",
    "return_value"
   ]
  },
  {
   "cell_type": "markdown",
   "id": "357c3efd",
   "metadata": {},
   "source": [
    "## Functions Are Objects\n",
    "Since Python functions are objects, many constructs can be easily expressed that are\n",
    "difficult to do in other languages."
   ]
  },
  {
   "cell_type": "code",
   "execution_count": 82,
   "id": "405877d1",
   "metadata": {
    "ExecuteTime": {
     "end_time": "2022-10-08T13:43:58.940531Z",
     "start_time": "2022-10-08T13:43:58.921501Z"
    }
   },
   "outputs": [],
   "source": [
    "states = [' Alabama ', 'Georgia!', 'Georgia', 'georgia', 'FlOrIda', \n",
    "          'south carolina##', 'West virginia?']"
   ]
  },
  {
   "cell_type": "markdown",
   "id": "b56da34a",
   "metadata": {},
   "source": [
    "Lots of things need to happen to make this list of strings uniform and\n",
    "ready for analysis: stripping whitespace, removing punctuation symbols, and standardizing on proper capitalization. One way to do this is to use built-in string methods along with the re standard library module for regular expressions:"
   ]
  },
  {
   "cell_type": "code",
   "execution_count": 83,
   "id": "458799cd",
   "metadata": {
    "ExecuteTime": {
     "end_time": "2022-10-08T13:43:59.004548Z",
     "start_time": "2022-10-08T13:43:58.987497Z"
    }
   },
   "outputs": [
    {
     "data": {
      "text/plain": [
       "['Alabama',\n",
       " 'Georgia',\n",
       " 'Georgia',\n",
       " 'Georgia',\n",
       " 'Florida',\n",
       " 'South Carolina',\n",
       " 'West Virginia']"
      ]
     },
     "execution_count": 83,
     "metadata": {},
     "output_type": "execute_result"
    }
   ],
   "source": [
    "import re\n",
    "def clean_strings(strings):\n",
    "    result = []\n",
    "    for value in strings:\n",
    "        value = value.strip()\n",
    "        value = re.sub('[!#?]', '', value)\n",
    "        value = value.title()\n",
    "        result.append(value)\n",
    "    return result\n",
    "clean_strings(states)"
   ]
  },
  {
   "cell_type": "markdown",
   "id": "70243ed7",
   "metadata": {},
   "source": [
    "An alternative approach that you may find useful is to make a list of the operations you want to apply to a particular set of strings:"
   ]
  },
  {
   "cell_type": "code",
   "execution_count": 84,
   "id": "0cefc11b",
   "metadata": {
    "ExecuteTime": {
     "end_time": "2022-10-08T13:43:59.066498Z",
     "start_time": "2022-10-08T13:43:59.056499Z"
    }
   },
   "outputs": [
    {
     "data": {
      "text/plain": [
       "['Alabama',\n",
       " 'Georgia',\n",
       " 'Georgia',\n",
       " 'Georgia',\n",
       " 'Florida',\n",
       " 'South Carolina',\n",
       " 'West Virginia']"
      ]
     },
     "execution_count": 84,
     "metadata": {},
     "output_type": "execute_result"
    }
   ],
   "source": [
    "def remove_punctuation(value):\n",
    "    return re.sub('[!#?]', '', value)\n",
    "\n",
    "clean_ops = [str.strip, remove_punctuation, str.title]\n",
    "\n",
    "def clean_strings(strings, ops):\n",
    "    result = []\n",
    "    for value in strings:\n",
    "        for function in ops:\n",
    "            value = function(value)\n",
    "        result.append(value)\n",
    "    return result\n",
    "\n",
    "clean_strings(states, clean_ops)"
   ]
  },
  {
   "cell_type": "markdown",
   "id": "1da0d906",
   "metadata": {},
   "source": [
    "You can use functions as arguments to other functions like the built-in map function,\n",
    "which applies a function to a sequence of some kind:"
   ]
  },
  {
   "cell_type": "code",
   "execution_count": 85,
   "id": "d8b3571c",
   "metadata": {
    "ExecuteTime": {
     "end_time": "2022-10-08T13:43:59.130531Z",
     "start_time": "2022-10-08T13:43:59.124497Z"
    }
   },
   "outputs": [
    {
     "name": "stdout",
     "output_type": "stream",
     "text": [
      " Alabama \n",
      "Georgia\n",
      "Georgia\n",
      "georgia\n",
      "FlOrIda\n",
      "south carolina\n",
      "West virginia\n"
     ]
    }
   ],
   "source": [
    "for x in map(remove_punctuation, states):\n",
    "    print(x)"
   ]
  },
  {
   "cell_type": "markdown",
   "id": "21d241a9",
   "metadata": {},
   "source": [
    "## Anonymous (Lambda) Functions\n",
    "Python has support for so-called anonymous or lambda functions, which are a way of\n",
    "writing functions consisting of a single statement, the result of which is the return\n",
    "value. They are defined with the lambda keyword, which has no meaning other than\n",
    "“we are declaring an anonymous function”:"
   ]
  },
  {
   "cell_type": "code",
   "execution_count": 86,
   "id": "41d48879",
   "metadata": {
    "ExecuteTime": {
     "end_time": "2022-10-08T13:43:59.210536Z",
     "start_time": "2022-10-08T13:43:59.193499Z"
    }
   },
   "outputs": [],
   "source": [
    "def short_function(x):\n",
    "    return x * 2\n",
    "\n",
    "equiv_anon = lambda x: x * 2"
   ]
  },
  {
   "cell_type": "markdown",
   "id": "3707bcf0",
   "metadata": {},
   "source": [
    "They are especially\n",
    "convenient in data analysis because, as you’ll see, there are many cases where data\n",
    "transformation functions will take functions as arguments. It’s often less typing (and\n",
    "clearer) to pass a lambda function as opposed to writing a full-out function declara‐\n",
    "tion or even assigning the lambda function to a local variable."
   ]
  },
  {
   "cell_type": "code",
   "execution_count": 87,
   "id": "9c00aea9",
   "metadata": {
    "ExecuteTime": {
     "end_time": "2022-10-08T13:43:59.274526Z",
     "start_time": "2022-10-08T13:43:59.264497Z"
    }
   },
   "outputs": [
    {
     "data": {
      "text/plain": [
       "[8, 0, 2, 10, 12]"
      ]
     },
     "execution_count": 87,
     "metadata": {},
     "output_type": "execute_result"
    }
   ],
   "source": [
    "def apply_to_list(some_list, f):\n",
    "    return [f(x) for x in some_list]\n",
    "\n",
    "ints = [4, 0, 1, 5, 6]\n",
    "apply_to_list(ints, lambda x: x * 2)"
   ]
  },
  {
   "cell_type": "code",
   "execution_count": 88,
   "id": "87f58098",
   "metadata": {
    "ExecuteTime": {
     "end_time": "2022-10-08T13:43:59.290529Z",
     "start_time": "2022-10-08T13:43:59.276499Z"
    }
   },
   "outputs": [
    {
     "data": {
      "text/plain": [
       "['aaaa', 'foo', 'abab', 'bar', 'card']"
      ]
     },
     "execution_count": 88,
     "metadata": {},
     "output_type": "execute_result"
    }
   ],
   "source": [
    "strings = ['foo', 'card', 'bar', 'aaaa', 'abab']\n",
    "strings.sort(key=lambda x: len(set(list(x))))\n",
    "strings"
   ]
  },
  {
   "cell_type": "markdown",
   "id": "11a37ec7",
   "metadata": {},
   "source": [
    "One reason lambda functions are called anonymous functions is\n",
    "that , unlike functions declared with the def keyword, the function\n",
    "object itself is never given an explicit __name__ attribute.\n",
    "\n",
    "## Currying: Partial Argument Application\n",
    "Currying is computer science jargon (named after the mathematician Haskell Curry)\n",
    "that means deriving new functions from existing ones by partial argument application. "
   ]
  },
  {
   "cell_type": "code",
   "execution_count": 89,
   "id": "7c3826cc",
   "metadata": {
    "ExecuteTime": {
     "end_time": "2022-10-08T13:43:59.352530Z",
     "start_time": "2022-10-08T13:43:59.343496Z"
    }
   },
   "outputs": [],
   "source": [
    "def add_numbers(x, y):\n",
    "    return x + y"
   ]
  },
  {
   "cell_type": "markdown",
   "id": "16d2eea2",
   "metadata": {},
   "source": [
    "Using this function, we could derive a new function of one variable, add_five, that adds 5 to its argument:"
   ]
  },
  {
   "cell_type": "code",
   "execution_count": 90,
   "id": "404487a8",
   "metadata": {
    "ExecuteTime": {
     "end_time": "2022-10-08T13:43:59.432530Z",
     "start_time": "2022-10-08T13:43:59.415498Z"
    }
   },
   "outputs": [],
   "source": [
    "add_five = lambda y: add_numbers(5, y)"
   ]
  },
  {
   "cell_type": "markdown",
   "id": "9c8e5d1c",
   "metadata": {},
   "source": [
    "The second argument to add_numbers is said to be curried. There’s nothing very fancy\n",
    "here, as all we’ve really done is define a new function that calls an existing function.\n",
    "The built-in functools module can simplify this process using the partial function:"
   ]
  },
  {
   "cell_type": "code",
   "execution_count": 91,
   "id": "536c9a2d",
   "metadata": {
    "ExecuteTime": {
     "end_time": "2022-10-08T13:43:59.494532Z",
     "start_time": "2022-10-08T13:43:59.484516Z"
    }
   },
   "outputs": [],
   "source": [
    "from functools import partial\n",
    "add_five = partial(add_numbers, 5)"
   ]
  },
  {
   "cell_type": "markdown",
   "id": "be24c1c1",
   "metadata": {},
   "source": [
    "## Generators\n",
    "Having a consistent way to iterate over sequences, like objects in a list or lines in a\n",
    "file, is an important Python feature. This is accomplished by means of the iterator\n",
    "protocol, a generic way to make objects iterable."
   ]
  },
  {
   "cell_type": "code",
   "execution_count": 92,
   "id": "47079435",
   "metadata": {
    "ExecuteTime": {
     "end_time": "2022-10-08T13:43:59.572497Z",
     "start_time": "2022-10-08T13:43:59.558500Z"
    }
   },
   "outputs": [
    {
     "name": "stdout",
     "output_type": "stream",
     "text": [
      "a\n",
      "b\n",
      "c\n"
     ]
    }
   ],
   "source": [
    "some_dict = {'a': 1, 'b': 2, 'c': 3}\n",
    "for key in some_dict:\n",
    "    print(key)"
   ]
  },
  {
   "cell_type": "markdown",
   "id": "187159c3",
   "metadata": {},
   "source": [
    "When you write ```for key in some_dict```, the Python interpreter first attempts to create an iterator out of some_dict:"
   ]
  },
  {
   "cell_type": "code",
   "execution_count": 93,
   "id": "df7f67f7",
   "metadata": {
    "ExecuteTime": {
     "end_time": "2022-10-08T13:43:59.636498Z",
     "start_time": "2022-10-08T13:43:59.630497Z"
    }
   },
   "outputs": [
    {
     "data": {
      "text/plain": [
       "<dict_keyiterator at 0x1ecfd393220>"
      ]
     },
     "execution_count": 93,
     "metadata": {},
     "output_type": "execute_result"
    }
   ],
   "source": [
    "dict_iterator = iter(some_dict)\n",
    "dict_iterator"
   ]
  },
  {
   "cell_type": "markdown",
   "id": "5c8f6aa5",
   "metadata": {},
   "source": [
    "An iterator is any object that will yield objects to the Python interpreter when used in\n",
    "a context like a for loop. Most methods expecting a list or list-like object will also\n",
    "accept any iterable object. This includes built-in methods such as min, max, and sum,\n",
    "and type constructors like list and tuple:"
   ]
  },
  {
   "cell_type": "code",
   "execution_count": 94,
   "id": "b8a1bd56",
   "metadata": {
    "ExecuteTime": {
     "end_time": "2022-10-08T13:43:59.716497Z",
     "start_time": "2022-10-08T13:43:59.701497Z"
    }
   },
   "outputs": [
    {
     "data": {
      "text/plain": [
       "['a', 'b', 'c']"
      ]
     },
     "execution_count": 94,
     "metadata": {},
     "output_type": "execute_result"
    }
   ],
   "source": [
    "list(dict_iterator)"
   ]
  },
  {
   "cell_type": "markdown",
   "id": "95a04161",
   "metadata": {},
   "source": [
    "A generator is a concise way to construct a new iterable object. Whereas normal functions execute and return a single result at a time, generators return a sequence of\n",
    "multiple results lazily, pausing after each one until the next one is requested. To create\n",
    "a generator, use the yield keyword instead of return in a function:"
   ]
  },
  {
   "cell_type": "code",
   "execution_count": 95,
   "id": "c2157764",
   "metadata": {
    "ExecuteTime": {
     "end_time": "2022-10-08T13:43:59.780495Z",
     "start_time": "2022-10-08T13:43:59.774497Z"
    }
   },
   "outputs": [],
   "source": [
    "def squares(n=10):\n",
    "    print('Generating squares from 1 to {0}'.format(n ** 2))\n",
    "    for i in range(1, n + 1):\n",
    "        yield i ** 2"
   ]
  },
  {
   "cell_type": "markdown",
   "id": "3385da70",
   "metadata": {},
   "source": [
    "When you actually call the generator, no code is immediately executed:"
   ]
  },
  {
   "cell_type": "code",
   "execution_count": 96,
   "id": "d01e6f6a",
   "metadata": {
    "ExecuteTime": {
     "end_time": "2022-10-08T13:43:59.860531Z",
     "start_time": "2022-10-08T13:43:59.848498Z"
    }
   },
   "outputs": [
    {
     "data": {
      "text/plain": [
       "<generator object squares at 0x000001ECFD3B00B0>"
      ]
     },
     "execution_count": 96,
     "metadata": {},
     "output_type": "execute_result"
    }
   ],
   "source": [
    "gen = squares()\n",
    "gen"
   ]
  },
  {
   "cell_type": "markdown",
   "id": "e8bcb5ef",
   "metadata": {},
   "source": [
    "It is not until you request elements from the generator that it begins executing its\n",
    "code:"
   ]
  },
  {
   "cell_type": "code",
   "execution_count": 97,
   "id": "3d10fb3b",
   "metadata": {
    "ExecuteTime": {
     "end_time": "2022-10-08T13:43:59.940534Z",
     "start_time": "2022-10-08T13:43:59.922498Z"
    }
   },
   "outputs": [
    {
     "name": "stdout",
     "output_type": "stream",
     "text": [
      "Generating squares from 1 to 100\n",
      "1 4 9 16 25 36 49 64 81 100 "
     ]
    }
   ],
   "source": [
    "for x in gen:\n",
    "    print(x, end=' ')"
   ]
  },
  {
   "cell_type": "markdown",
   "id": "878bdcb2",
   "metadata": {},
   "source": [
    "### Generator expresssions\n",
    "Another even more concise way to make a generator is by using a generator expres‐\n",
    "sion. This is a generator analogue to list, dict, and set comprehensions"
   ]
  },
  {
   "cell_type": "code",
   "execution_count": 99,
   "id": "1004a90c",
   "metadata": {
    "ExecuteTime": {
     "end_time": "2022-10-08T14:13:08.875071Z",
     "start_time": "2022-10-08T14:13:08.869202Z"
    }
   },
   "outputs": [
    {
     "data": {
      "text/plain": [
       "<generator object <genexpr> at 0x000001EC8CBBD200>"
      ]
     },
     "execution_count": 99,
     "metadata": {},
     "output_type": "execute_result"
    }
   ],
   "source": [
    "gen = (x ** 2 for x in range(100))\n",
    "gen"
   ]
  },
  {
   "cell_type": "markdown",
   "id": "2219f23a",
   "metadata": {},
   "source": [
    "Generator expressions can be used instead of list comprehensions as function arguments in many cases:"
   ]
  },
  {
   "cell_type": "code",
   "execution_count": 100,
   "id": "9c6e674a",
   "metadata": {
    "ExecuteTime": {
     "end_time": "2022-10-08T14:14:32.250531Z",
     "start_time": "2022-10-08T14:14:32.242532Z"
    }
   },
   "outputs": [
    {
     "data": {
      "text/plain": [
       "328350"
      ]
     },
     "execution_count": 100,
     "metadata": {},
     "output_type": "execute_result"
    }
   ],
   "source": [
    "sum(x ** 2 for x in range(100))"
   ]
  },
  {
   "cell_type": "code",
   "execution_count": 101,
   "id": "1c16889b",
   "metadata": {
    "ExecuteTime": {
     "end_time": "2022-10-08T14:14:53.946737Z",
     "start_time": "2022-10-08T14:14:53.933731Z"
    }
   },
   "outputs": [
    {
     "data": {
      "text/plain": [
       "{0: 0, 1: 1, 2: 4, 3: 9, 4: 16}"
      ]
     },
     "execution_count": 101,
     "metadata": {},
     "output_type": "execute_result"
    }
   ],
   "source": [
    "dict((i, i ** 2) for i in range(5))"
   ]
  },
  {
   "cell_type": "markdown",
   "id": "4704b3c5",
   "metadata": {},
   "source": [
    "### itertools module\n",
    "The standard library itertools module has a collection of generators for many com‐\n",
    "mon data algorithms."
   ]
  },
  {
   "cell_type": "code",
   "execution_count": 102,
   "id": "109b26ba",
   "metadata": {
    "ExecuteTime": {
     "end_time": "2022-10-08T14:17:51.630795Z",
     "start_time": "2022-10-08T14:17:51.625785Z"
    }
   },
   "outputs": [
    {
     "name": "stdout",
     "output_type": "stream",
     "text": [
      "A ['Alan', 'Adam']\n",
      "W ['Wes', 'Will']\n",
      "A ['Albert']\n",
      "S ['Steven']\n"
     ]
    }
   ],
   "source": [
    "import itertools\n",
    "first_letter = lambda x: x[0]\n",
    "names = ['Alan', 'Adam', 'Wes', 'Will', 'Albert', 'Steven']\n",
    "\n",
    "for letter, names in itertools.groupby(names, first_letter):\n",
    "    print(letter, list(names))"
   ]
  },
  {
   "cell_type": "markdown",
   "id": "ce668c47",
   "metadata": {},
   "source": [
    "Function|Description\n",
    "---|---\n",
    "combinations(iterable, k)|Generates a sequence of all possible k-tuples of elements in the iterable, ignoring order and without replacement (see also the companion function combinations_with_replacement)\n",
    "permutations(iterable, k)|Generates a sequence of all possible k-tuples of elements in the iterable, respecting order \n",
    "groupby(iterable[, keyfunc])|Generates (key, sub-iterator) for each unique key\n",
    "product(*iterables, repeat=1)|Generates the Cartesian product of the input iterables as tuples, similar to a nested for loop"
   ]
  },
  {
   "cell_type": "code",
   "execution_count": 106,
   "id": "ea52c6af",
   "metadata": {
    "ExecuteTime": {
     "end_time": "2022-10-08T14:22:42.759148Z",
     "start_time": "2022-10-08T14:22:42.738993Z"
    }
   },
   "outputs": [
    {
     "name": "stdout",
     "output_type": "stream",
     "text": [
      "(2, 4)\n",
      "(2, 3)\n",
      "(2, 2)\n",
      "(3, 4)\n",
      "(3, 3)\n",
      "(3, 2)\n"
     ]
    }
   ],
   "source": [
    "for i, j in itertools.product([2, 3], [4, 3, 2]):\n",
    "    print((i,j))"
   ]
  },
  {
   "cell_type": "markdown",
   "id": "4c46f351",
   "metadata": {},
   "source": [
    "## Errors and Exception Handling\n",
    "Handling Python errors or exceptions gracefully is an important part of building\n",
    "robust programs. In data analysis applications, many functions only work on certain\n",
    "kinds of input. As an example, Python’s float function is capable of casting a string\n",
    "to a floating-point number, but fails with ValueError on improper inputs:"
   ]
  },
  {
   "cell_type": "code",
   "execution_count": 107,
   "id": "308b671e",
   "metadata": {
    "ExecuteTime": {
     "end_time": "2022-10-08T14:30:40.693515Z",
     "start_time": "2022-10-08T14:30:40.682350Z"
    }
   },
   "outputs": [
    {
     "data": {
      "text/plain": [
       "1.2345"
      ]
     },
     "execution_count": 107,
     "metadata": {},
     "output_type": "execute_result"
    }
   ],
   "source": [
    "float('1.2345')"
   ]
  },
  {
   "cell_type": "code",
   "execution_count": 108,
   "id": "87c681e6",
   "metadata": {
    "ExecuteTime": {
     "end_time": "2022-10-08T14:30:50.459220Z",
     "start_time": "2022-10-08T14:30:50.425675Z"
    }
   },
   "outputs": [
    {
     "ename": "ValueError",
     "evalue": "could not convert string to float: 'string'",
     "output_type": "error",
     "traceback": [
      "\u001b[1;31m---------------------------------------------------------------------------\u001b[0m",
      "\u001b[1;31mValueError\u001b[0m                                Traceback (most recent call last)",
      "Input \u001b[1;32mIn [108]\u001b[0m, in \u001b[0;36m<cell line: 1>\u001b[1;34m()\u001b[0m\n\u001b[1;32m----> 1\u001b[0m \u001b[38;5;28;43mfloat\u001b[39;49m\u001b[43m(\u001b[49m\u001b[38;5;124;43m'\u001b[39;49m\u001b[38;5;124;43mstring\u001b[39;49m\u001b[38;5;124;43m'\u001b[39;49m\u001b[43m)\u001b[49m\n",
      "\u001b[1;31mValueError\u001b[0m: could not convert string to float: 'string'"
     ]
    }
   ],
   "source": [
    "float('string')"
   ]
  },
  {
   "cell_type": "markdown",
   "id": "4afe7ca9",
   "metadata": {},
   "source": [
    "Suppose we wanted a version of float that fails gracefully, returning the input argument. We can do this by writing a function that encloses the call to float in a try/\n",
    "except block:"
   ]
  },
  {
   "cell_type": "code",
   "execution_count": 109,
   "id": "accecc89",
   "metadata": {
    "ExecuteTime": {
     "end_time": "2022-10-08T14:32:55.731509Z",
     "start_time": "2022-10-08T14:32:55.724487Z"
    }
   },
   "outputs": [],
   "source": [
    "def attempt_float(x):\n",
    "    try:\n",
    "        return float(x)\n",
    "    except:\n",
    "        return x"
   ]
  },
  {
   "cell_type": "markdown",
   "id": "c425fcc4",
   "metadata": {},
   "source": [
    "The code in the except part of the block will only be executed if float(x) raises an\n",
    "exception:"
   ]
  },
  {
   "cell_type": "code",
   "execution_count": 112,
   "id": "8891901c",
   "metadata": {
    "ExecuteTime": {
     "end_time": "2022-10-08T14:43:32.620958Z",
     "start_time": "2022-10-08T14:43:32.613935Z"
    }
   },
   "outputs": [
    {
     "data": {
      "text/plain": [
       "(1.2345, 'string')"
      ]
     },
     "execution_count": 112,
     "metadata": {},
     "output_type": "execute_result"
    }
   ],
   "source": [
    "attempt_float('1.2345'), attempt_float('string')"
   ]
  },
  {
   "cell_type": "code",
   "execution_count": 113,
   "id": "4e6240fc",
   "metadata": {
    "ExecuteTime": {
     "end_time": "2022-10-08T14:43:34.538589Z",
     "start_time": "2022-10-08T14:43:34.514501Z"
    }
   },
   "outputs": [
    {
     "ename": "TypeError",
     "evalue": "float() argument must be a string or a number, not 'tuple'",
     "output_type": "error",
     "traceback": [
      "\u001b[1;31m---------------------------------------------------------------------------\u001b[0m",
      "\u001b[1;31mTypeError\u001b[0m                                 Traceback (most recent call last)",
      "Input \u001b[1;32mIn [113]\u001b[0m, in \u001b[0;36m<cell line: 1>\u001b[1;34m()\u001b[0m\n\u001b[1;32m----> 1\u001b[0m \u001b[38;5;28;43mfloat\u001b[39;49m\u001b[43m(\u001b[49m\u001b[43m(\u001b[49m\u001b[38;5;241;43m1\u001b[39;49m\u001b[43m,\u001b[49m\u001b[43m \u001b[49m\u001b[38;5;241;43m2\u001b[39;49m\u001b[43m)\u001b[49m\u001b[43m)\u001b[49m\n",
      "\u001b[1;31mTypeError\u001b[0m: float() argument must be a string or a number, not 'tuple'"
     ]
    }
   ],
   "source": [
    "float((1, 2))"
   ]
  },
  {
   "cell_type": "markdown",
   "id": "5cc28c6d",
   "metadata": {},
   "source": [
    "You might want to only suppress ValueError, since a TypeError (the input was not a\n",
    "string or numeric value) might indicate a legitimate bug in your program. To do that,\n",
    "write the exception type after except:"
   ]
  },
  {
   "cell_type": "code",
   "execution_count": 114,
   "id": "9fadce54",
   "metadata": {
    "ExecuteTime": {
     "end_time": "2022-10-08T14:44:59.663692Z",
     "start_time": "2022-10-08T14:44:59.654656Z"
    }
   },
   "outputs": [],
   "source": [
    "def attempt_float(x):\n",
    "    try:\n",
    "        return float(x)\n",
    "    except ValueError:\n",
    "        return x"
   ]
  },
  {
   "cell_type": "code",
   "execution_count": 115,
   "id": "fc155074",
   "metadata": {
    "ExecuteTime": {
     "end_time": "2022-10-08T14:45:09.775130Z",
     "start_time": "2022-10-08T14:45:09.754997Z"
    }
   },
   "outputs": [
    {
     "ename": "TypeError",
     "evalue": "float() argument must be a string or a number, not 'tuple'",
     "output_type": "error",
     "traceback": [
      "\u001b[1;31m---------------------------------------------------------------------------\u001b[0m",
      "\u001b[1;31mTypeError\u001b[0m                                 Traceback (most recent call last)",
      "Input \u001b[1;32mIn [115]\u001b[0m, in \u001b[0;36m<cell line: 1>\u001b[1;34m()\u001b[0m\n\u001b[1;32m----> 1\u001b[0m \u001b[43mattempt_float\u001b[49m\u001b[43m(\u001b[49m\u001b[43m(\u001b[49m\u001b[38;5;241;43m1\u001b[39;49m\u001b[43m,\u001b[49m\u001b[43m \u001b[49m\u001b[38;5;241;43m2\u001b[39;49m\u001b[43m)\u001b[49m\u001b[43m)\u001b[49m\n",
      "Input \u001b[1;32mIn [114]\u001b[0m, in \u001b[0;36mattempt_float\u001b[1;34m(x)\u001b[0m\n\u001b[0;32m      1\u001b[0m \u001b[38;5;28;01mdef\u001b[39;00m \u001b[38;5;21mattempt_float\u001b[39m(x):\n\u001b[0;32m      2\u001b[0m     \u001b[38;5;28;01mtry\u001b[39;00m:\n\u001b[1;32m----> 3\u001b[0m         \u001b[38;5;28;01mreturn\u001b[39;00m \u001b[38;5;28;43mfloat\u001b[39;49m\u001b[43m(\u001b[49m\u001b[43mx\u001b[49m\u001b[43m)\u001b[49m\n\u001b[0;32m      4\u001b[0m     \u001b[38;5;28;01mexcept\u001b[39;00m \u001b[38;5;167;01mValueError\u001b[39;00m:\n\u001b[0;32m      5\u001b[0m         \u001b[38;5;28;01mreturn\u001b[39;00m x\n",
      "\u001b[1;31mTypeError\u001b[0m: float() argument must be a string or a number, not 'tuple'"
     ]
    }
   ],
   "source": [
    "attempt_float((1, 2))"
   ]
  },
  {
   "cell_type": "code",
   "execution_count": 1,
   "id": "eca5f250",
   "metadata": {
    "ExecuteTime": {
     "end_time": "2022-10-13T13:31:23.832749Z",
     "start_time": "2022-10-13T13:31:23.812755Z"
    }
   },
   "outputs": [],
   "source": [
    "def attempt_float(x):\n",
    "    try:\n",
    "        return float(x)\n",
    "    except (TypeError, ValueError):\n",
    "        return x"
   ]
  },
  {
   "cell_type": "markdown",
   "id": "8e83e388",
   "metadata": {},
   "source": [
    "### Exceptions in IPython"
   ]
  },
  {
   "cell_type": "code",
   "execution_count": 2,
   "id": "a896852a",
   "metadata": {
    "ExecuteTime": {
     "end_time": "2022-10-13T13:56:50.436596Z",
     "start_time": "2022-10-13T13:56:49.574006Z"
    }
   },
   "outputs": [
    {
     "ename": "Exception",
     "evalue": "File `'examples/ipython_bug.py'` not found.",
     "output_type": "error",
     "traceback": [
      "\u001b[1;31m---------------------------------------------------------------------------\u001b[0m",
      "\u001b[1;31mOSError\u001b[0m                                   Traceback (most recent call last)",
      "File \u001b[1;32mD:\\Anaconda\\lib\\site-packages\\IPython\\core\\magics\\execution.py:696\u001b[0m, in \u001b[0;36mExecutionMagics.run\u001b[1;34m(self, parameter_s, runner, file_finder)\u001b[0m\n\u001b[0;32m    695\u001b[0m     fpath \u001b[38;5;241m=\u001b[39m arg_lst[\u001b[38;5;241m0\u001b[39m]\n\u001b[1;32m--> 696\u001b[0m     filename \u001b[38;5;241m=\u001b[39m \u001b[43mfile_finder\u001b[49m\u001b[43m(\u001b[49m\u001b[43mfpath\u001b[49m\u001b[43m)\u001b[49m\n\u001b[0;32m    697\u001b[0m \u001b[38;5;28;01mexcept\u001b[39;00m \u001b[38;5;167;01mIndexError\u001b[39;00m \u001b[38;5;28;01mas\u001b[39;00m e:\n",
      "File \u001b[1;32mD:\\Anaconda\\lib\\site-packages\\IPython\\utils\\path.py:91\u001b[0m, in \u001b[0;36mget_py_filename\u001b[1;34m(name)\u001b[0m\n\u001b[0;32m     90\u001b[0m \u001b[38;5;28;01melse\u001b[39;00m:\n\u001b[1;32m---> 91\u001b[0m     \u001b[38;5;28;01mraise\u001b[39;00m \u001b[38;5;167;01mIOError\u001b[39;00m(\u001b[38;5;124m'\u001b[39m\u001b[38;5;124mFile `\u001b[39m\u001b[38;5;132;01m%r\u001b[39;00m\u001b[38;5;124m` not found.\u001b[39m\u001b[38;5;124m'\u001b[39m \u001b[38;5;241m%\u001b[39m name)\n",
      "\u001b[1;31mOSError\u001b[0m: File `'examples/ipython_bug.py'` not found.",
      "\nThe above exception was the direct cause of the following exception:\n",
      "\u001b[1;31mException\u001b[0m                                 Traceback (most recent call last)",
      "Input \u001b[1;32mIn [2]\u001b[0m, in \u001b[0;36m<cell line: 1>\u001b[1;34m()\u001b[0m\n\u001b[1;32m----> 1\u001b[0m \u001b[43mget_ipython\u001b[49m\u001b[43m(\u001b[49m\u001b[43m)\u001b[49m\u001b[38;5;241;43m.\u001b[39;49m\u001b[43mrun_line_magic\u001b[49m\u001b[43m(\u001b[49m\u001b[38;5;124;43m'\u001b[39;49m\u001b[38;5;124;43mrun\u001b[39;49m\u001b[38;5;124;43m'\u001b[39;49m\u001b[43m,\u001b[49m\u001b[43m \u001b[49m\u001b[38;5;124;43m'\u001b[39;49m\u001b[38;5;124;43mexamples/ipython_bug.py\u001b[39;49m\u001b[38;5;124;43m'\u001b[39;49m\u001b[43m)\u001b[49m\n",
      "File \u001b[1;32mD:\\Anaconda\\lib\\site-packages\\IPython\\core\\interactiveshell.py:2304\u001b[0m, in \u001b[0;36mInteractiveShell.run_line_magic\u001b[1;34m(self, magic_name, line, _stack_depth)\u001b[0m\n\u001b[0;32m   2302\u001b[0m     kwargs[\u001b[38;5;124m'\u001b[39m\u001b[38;5;124mlocal_ns\u001b[39m\u001b[38;5;124m'\u001b[39m] \u001b[38;5;241m=\u001b[39m \u001b[38;5;28mself\u001b[39m\u001b[38;5;241m.\u001b[39mget_local_scope(stack_depth)\n\u001b[0;32m   2303\u001b[0m \u001b[38;5;28;01mwith\u001b[39;00m \u001b[38;5;28mself\u001b[39m\u001b[38;5;241m.\u001b[39mbuiltin_trap:\n\u001b[1;32m-> 2304\u001b[0m     result \u001b[38;5;241m=\u001b[39m fn(\u001b[38;5;241m*\u001b[39margs, \u001b[38;5;241m*\u001b[39m\u001b[38;5;241m*\u001b[39mkwargs)\n\u001b[0;32m   2305\u001b[0m \u001b[38;5;28;01mreturn\u001b[39;00m result\n",
      "File \u001b[1;32mD:\\Anaconda\\lib\\site-packages\\IPython\\core\\magics\\execution.py:707\u001b[0m, in \u001b[0;36mExecutionMagics.run\u001b[1;34m(self, parameter_s, runner, file_finder)\u001b[0m\n\u001b[0;32m    705\u001b[0m     \u001b[38;5;28;01mif\u001b[39;00m os\u001b[38;5;241m.\u001b[39mname \u001b[38;5;241m==\u001b[39m \u001b[38;5;124m'\u001b[39m\u001b[38;5;124mnt\u001b[39m\u001b[38;5;124m'\u001b[39m \u001b[38;5;129;01mand\u001b[39;00m re\u001b[38;5;241m.\u001b[39mmatch(\u001b[38;5;124mr\u001b[39m\u001b[38;5;124m\"\u001b[39m\u001b[38;5;124m^\u001b[39m\u001b[38;5;124m'\u001b[39m\u001b[38;5;124m.*\u001b[39m\u001b[38;5;124m'\u001b[39m\u001b[38;5;124m$\u001b[39m\u001b[38;5;124m\"\u001b[39m,fpath):\n\u001b[0;32m    706\u001b[0m         warn(\u001b[38;5;124m'\u001b[39m\u001b[38;5;124mFor Windows, use double quotes to wrap a filename: \u001b[39m\u001b[38;5;132;01m%r\u001b[39;00m\u001b[38;5;124mun \u001b[39m\u001b[38;5;124m\"\u001b[39m\u001b[38;5;124mmypath\u001b[39m\u001b[38;5;130;01m\\\\\u001b[39;00m\u001b[38;5;124mmyfile.py\u001b[39m\u001b[38;5;124m\"\u001b[39m\u001b[38;5;124m'\u001b[39m)\n\u001b[1;32m--> 707\u001b[0m     \u001b[38;5;28;01mraise\u001b[39;00m \u001b[38;5;167;01mException\u001b[39;00m(msg) \u001b[38;5;28;01mfrom\u001b[39;00m \u001b[38;5;21;01me\u001b[39;00m\n\u001b[0;32m    708\u001b[0m \u001b[38;5;28;01mexcept\u001b[39;00m \u001b[38;5;167;01mTypeError\u001b[39;00m:\n\u001b[0;32m    709\u001b[0m     \u001b[38;5;28;01mif\u001b[39;00m fpath \u001b[38;5;129;01min\u001b[39;00m sys\u001b[38;5;241m.\u001b[39mmeta_path:\n",
      "\u001b[1;31mException\u001b[0m: File `'examples/ipython_bug.py'` not found."
     ]
    }
   ],
   "source": [
    "%run examples/ipython_bug.py"
   ]
  },
  {
   "cell_type": "markdown",
   "id": "3bf8456f",
   "metadata": {},
   "source": [
    "If an exception is raised while you are %run-ing a script or executing any statement,\n",
    "IPython will by default print a full call stack trace (traceback) with a few lines of context around the position at each point in the stack:\n",
    "\n",
    "Having additional context by itself is a big advantage over the standard Python inter‐\n",
    "preter (which does not provide any additional context). You can control the amount\n",
    "of context shown using the %xmode magic command, from Plain (same as the standard Python interpreter) to Verbose (which inlines function argument values and more). As you will see later in the chapter, you can step into the stack (using the\n",
    "%debug or %pdb magics) after an error has occurred for interactive post-mortem\n",
    "debugging."
   ]
  },
  {
   "cell_type": "markdown",
   "id": "e87d693d",
   "metadata": {},
   "source": [
    "# Files and the Operating System"
   ]
  },
  {
   "cell_type": "markdown",
   "id": "c041ac79",
   "metadata": {},
   "source": [
    "Most of this book uses high-level tools like pandas.read_csv to read data files from\n",
    "disk into Python data structures. However, it’s important to understand the basics of\n",
    "how to work with files in Python.\n",
    "\n",
    "To open a file for reading or writing, use the built-in open function with either a relative or absolute file path:"
   ]
  },
  {
   "cell_type": "code",
   "execution_count": 4,
   "id": "208bc78e",
   "metadata": {
    "ExecuteTime": {
     "end_time": "2022-10-13T14:00:43.570165Z",
     "start_time": "2022-10-13T14:00:43.555987Z"
    }
   },
   "outputs": [],
   "source": [
    "path = 'README.txt'\n",
    "f = open(path)"
   ]
  },
  {
   "cell_type": "code",
   "execution_count": null,
   "id": "030909a1",
   "metadata": {},
   "outputs": [],
   "source": []
  },
  {
   "cell_type": "code",
   "execution_count": null,
   "id": "8c55c076",
   "metadata": {},
   "outputs": [],
   "source": []
  },
  {
   "cell_type": "code",
   "execution_count": null,
   "id": "0a54b017",
   "metadata": {},
   "outputs": [],
   "source": []
  },
  {
   "cell_type": "code",
   "execution_count": null,
   "id": "886dcd8f",
   "metadata": {},
   "outputs": [],
   "source": []
  },
  {
   "cell_type": "code",
   "execution_count": null,
   "id": "1153cd26",
   "metadata": {},
   "outputs": [],
   "source": []
  },
  {
   "cell_type": "code",
   "execution_count": null,
   "id": "12385935",
   "metadata": {},
   "outputs": [],
   "source": []
  },
  {
   "cell_type": "code",
   "execution_count": null,
   "id": "2e961383",
   "metadata": {},
   "outputs": [],
   "source": []
  },
  {
   "cell_type": "code",
   "execution_count": null,
   "id": "f346769e",
   "metadata": {},
   "outputs": [],
   "source": []
  },
  {
   "cell_type": "code",
   "execution_count": null,
   "id": "989360cd",
   "metadata": {},
   "outputs": [],
   "source": []
  },
  {
   "cell_type": "code",
   "execution_count": null,
   "id": "19cc832e",
   "metadata": {},
   "outputs": [],
   "source": []
  },
  {
   "cell_type": "code",
   "execution_count": null,
   "id": "3f7596f3",
   "metadata": {},
   "outputs": [],
   "source": []
  },
  {
   "cell_type": "code",
   "execution_count": null,
   "id": "6db6d34a",
   "metadata": {},
   "outputs": [],
   "source": []
  },
  {
   "cell_type": "code",
   "execution_count": null,
   "id": "d7b51eaf",
   "metadata": {},
   "outputs": [],
   "source": []
  },
  {
   "cell_type": "code",
   "execution_count": null,
   "id": "b1051222",
   "metadata": {},
   "outputs": [],
   "source": []
  },
  {
   "cell_type": "code",
   "execution_count": null,
   "id": "ea88c9f4",
   "metadata": {},
   "outputs": [],
   "source": []
  },
  {
   "cell_type": "code",
   "execution_count": null,
   "id": "2f66e1f9",
   "metadata": {},
   "outputs": [],
   "source": []
  },
  {
   "cell_type": "code",
   "execution_count": null,
   "id": "232c3fa1",
   "metadata": {},
   "outputs": [],
   "source": []
  },
  {
   "cell_type": "code",
   "execution_count": null,
   "id": "068cd6b8",
   "metadata": {},
   "outputs": [],
   "source": []
  },
  {
   "cell_type": "code",
   "execution_count": null,
   "id": "d3ea3f19",
   "metadata": {},
   "outputs": [],
   "source": []
  },
  {
   "cell_type": "code",
   "execution_count": null,
   "id": "cf820754",
   "metadata": {},
   "outputs": [],
   "source": []
  },
  {
   "cell_type": "code",
   "execution_count": null,
   "id": "7a667586",
   "metadata": {},
   "outputs": [],
   "source": []
  },
  {
   "cell_type": "code",
   "execution_count": null,
   "id": "0bb59e28",
   "metadata": {},
   "outputs": [],
   "source": []
  },
  {
   "cell_type": "code",
   "execution_count": null,
   "id": "95318f66",
   "metadata": {},
   "outputs": [],
   "source": []
  },
  {
   "cell_type": "code",
   "execution_count": null,
   "id": "04b6bdb2",
   "metadata": {},
   "outputs": [],
   "source": []
  },
  {
   "cell_type": "code",
   "execution_count": null,
   "id": "de4736c3",
   "metadata": {},
   "outputs": [],
   "source": []
  },
  {
   "cell_type": "code",
   "execution_count": null,
   "id": "6bc4de36",
   "metadata": {},
   "outputs": [],
   "source": []
  },
  {
   "cell_type": "code",
   "execution_count": null,
   "id": "305e7687",
   "metadata": {},
   "outputs": [],
   "source": []
  },
  {
   "cell_type": "code",
   "execution_count": null,
   "id": "e184cffc",
   "metadata": {},
   "outputs": [],
   "source": []
  },
  {
   "cell_type": "code",
   "execution_count": null,
   "id": "dbbc0b8d",
   "metadata": {},
   "outputs": [],
   "source": []
  },
  {
   "cell_type": "code",
   "execution_count": null,
   "id": "dd9a6292",
   "metadata": {},
   "outputs": [],
   "source": []
  },
  {
   "cell_type": "code",
   "execution_count": null,
   "id": "3fa7169c",
   "metadata": {},
   "outputs": [],
   "source": []
  },
  {
   "cell_type": "code",
   "execution_count": null,
   "id": "bcba8a6c",
   "metadata": {},
   "outputs": [],
   "source": []
  },
  {
   "cell_type": "code",
   "execution_count": null,
   "id": "6b8f5b98",
   "metadata": {},
   "outputs": [],
   "source": []
  },
  {
   "cell_type": "code",
   "execution_count": null,
   "id": "53a3bc49",
   "metadata": {},
   "outputs": [],
   "source": []
  },
  {
   "cell_type": "code",
   "execution_count": null,
   "id": "9469216b",
   "metadata": {},
   "outputs": [],
   "source": []
  },
  {
   "cell_type": "code",
   "execution_count": null,
   "id": "30b82a50",
   "metadata": {},
   "outputs": [],
   "source": []
  },
  {
   "cell_type": "code",
   "execution_count": null,
   "id": "0fca5272",
   "metadata": {},
   "outputs": [],
   "source": []
  },
  {
   "cell_type": "code",
   "execution_count": null,
   "id": "2612aa40",
   "metadata": {},
   "outputs": [],
   "source": []
  },
  {
   "cell_type": "code",
   "execution_count": null,
   "id": "4ebfc2fc",
   "metadata": {},
   "outputs": [],
   "source": []
  },
  {
   "cell_type": "code",
   "execution_count": null,
   "id": "77cc8189",
   "metadata": {},
   "outputs": [],
   "source": []
  },
  {
   "cell_type": "code",
   "execution_count": null,
   "id": "dbe6ad95",
   "metadata": {},
   "outputs": [],
   "source": []
  },
  {
   "cell_type": "code",
   "execution_count": null,
   "id": "f7aeaf03",
   "metadata": {},
   "outputs": [],
   "source": []
  },
  {
   "cell_type": "code",
   "execution_count": null,
   "id": "bc5c7472",
   "metadata": {},
   "outputs": [],
   "source": []
  },
  {
   "cell_type": "code",
   "execution_count": null,
   "id": "95a31bdf",
   "metadata": {},
   "outputs": [],
   "source": []
  },
  {
   "cell_type": "code",
   "execution_count": null,
   "id": "c70e652e",
   "metadata": {},
   "outputs": [],
   "source": []
  },
  {
   "cell_type": "code",
   "execution_count": null,
   "id": "626d0ae8",
   "metadata": {},
   "outputs": [],
   "source": []
  },
  {
   "cell_type": "code",
   "execution_count": null,
   "id": "f5ea6a47",
   "metadata": {},
   "outputs": [],
   "source": []
  },
  {
   "cell_type": "code",
   "execution_count": null,
   "id": "a65bb41f",
   "metadata": {},
   "outputs": [],
   "source": []
  },
  {
   "cell_type": "code",
   "execution_count": null,
   "id": "2234bcbc",
   "metadata": {},
   "outputs": [],
   "source": []
  },
  {
   "cell_type": "code",
   "execution_count": null,
   "id": "c6adca23",
   "metadata": {},
   "outputs": [],
   "source": []
  },
  {
   "cell_type": "code",
   "execution_count": null,
   "id": "3a4ac88b",
   "metadata": {},
   "outputs": [],
   "source": []
  },
  {
   "cell_type": "code",
   "execution_count": null,
   "id": "4e223cbf",
   "metadata": {},
   "outputs": [],
   "source": []
  },
  {
   "cell_type": "code",
   "execution_count": null,
   "id": "87ad6b2b",
   "metadata": {},
   "outputs": [],
   "source": []
  },
  {
   "cell_type": "code",
   "execution_count": null,
   "id": "36766b07",
   "metadata": {},
   "outputs": [],
   "source": []
  },
  {
   "cell_type": "code",
   "execution_count": null,
   "id": "23bef0fe",
   "metadata": {},
   "outputs": [],
   "source": []
  },
  {
   "cell_type": "code",
   "execution_count": null,
   "id": "1e918a5b",
   "metadata": {},
   "outputs": [],
   "source": []
  },
  {
   "cell_type": "code",
   "execution_count": null,
   "id": "d420c030",
   "metadata": {},
   "outputs": [],
   "source": []
  },
  {
   "cell_type": "code",
   "execution_count": null,
   "id": "934fa7d3",
   "metadata": {},
   "outputs": [],
   "source": []
  },
  {
   "cell_type": "code",
   "execution_count": null,
   "id": "a8687523",
   "metadata": {},
   "outputs": [],
   "source": []
  },
  {
   "cell_type": "code",
   "execution_count": null,
   "id": "06b78860",
   "metadata": {},
   "outputs": [],
   "source": []
  },
  {
   "cell_type": "code",
   "execution_count": null,
   "id": "9063e355",
   "metadata": {},
   "outputs": [],
   "source": []
  },
  {
   "cell_type": "code",
   "execution_count": null,
   "id": "ce17153b",
   "metadata": {},
   "outputs": [],
   "source": []
  },
  {
   "cell_type": "code",
   "execution_count": null,
   "id": "b0d9fc7c",
   "metadata": {},
   "outputs": [],
   "source": []
  },
  {
   "cell_type": "code",
   "execution_count": null,
   "id": "41d83078",
   "metadata": {},
   "outputs": [],
   "source": []
  },
  {
   "cell_type": "code",
   "execution_count": null,
   "id": "85d85133",
   "metadata": {},
   "outputs": [],
   "source": []
  },
  {
   "cell_type": "code",
   "execution_count": null,
   "id": "92ecbb96",
   "metadata": {},
   "outputs": [],
   "source": []
  }
 ],
 "metadata": {
  "kernelspec": {
   "display_name": "Python 3 (ipykernel)",
   "language": "python",
   "name": "python3"
  },
  "language_info": {
   "codemirror_mode": {
    "name": "ipython",
    "version": 3
   },
   "file_extension": ".py",
   "mimetype": "text/x-python",
   "name": "python",
   "nbconvert_exporter": "python",
   "pygments_lexer": "ipython3",
   "version": "3.9.12"
  },
  "latex_envs": {
   "LaTeX_envs_menu_present": true,
   "autoclose": false,
   "autocomplete": true,
   "bibliofile": "biblio.bib",
   "cite_by": "apalike",
   "current_citInitial": 1,
   "eqLabelWithNumbers": true,
   "eqNumInitial": 1,
   "hotkeys": {
    "equation": "Ctrl-E",
    "itemize": "Ctrl-I"
   },
   "labels_anchors": false,
   "latex_user_defs": false,
   "report_style_numbering": false,
   "user_envs_cfg": false
  },
  "toc": {
   "base_numbering": 1,
   "nav_menu": {},
   "number_sections": true,
   "sideBar": true,
   "skip_h1_title": false,
   "title_cell": "Table of Contents",
   "title_sidebar": "Contents",
   "toc_cell": false,
   "toc_position": {},
   "toc_section_display": true,
   "toc_window_display": true
  },
  "varInspector": {
   "cols": {
    "lenName": 16,
    "lenType": 16,
    "lenVar": 40
   },
   "kernels_config": {
    "python": {
     "delete_cmd_postfix": "",
     "delete_cmd_prefix": "del ",
     "library": "var_list.py",
     "varRefreshCmd": "print(var_dic_list())"
    },
    "r": {
     "delete_cmd_postfix": ") ",
     "delete_cmd_prefix": "rm(",
     "library": "var_list.r",
     "varRefreshCmd": "cat(var_dic_list()) "
    }
   },
   "types_to_exclude": [
    "module",
    "function",
    "builtin_function_or_method",
    "instance",
    "_Feature"
   ],
   "window_display": false
  },
  "vp": {
   "vp_config_version": "1.0.0",
   "vp_menu_width": 273,
   "vp_note_display": false,
   "vp_note_width": 0,
   "vp_position": {
    "width": 278
   },
   "vp_section_display": false,
   "vp_signature": "VisualPython"
  }
 },
 "nbformat": 4,
 "nbformat_minor": 5
}
