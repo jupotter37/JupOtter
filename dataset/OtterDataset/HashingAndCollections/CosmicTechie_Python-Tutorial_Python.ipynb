{
 "cells": [
  {
   "cell_type": "markdown",
   "metadata": {},
   "source": [
    "<font size=6><b><u>Python</u></b>"
   ]
  },
  {
   "cell_type": "markdown",
   "metadata": {},
   "source": [
    "* <b>*Python is an interpreted, object oriented, general-purpose, high-level programming language.*\n",
    "* *Created by Guido van Rossum.*\n",
    "* *First released in 1991.*"
   ]
  },
  {
   "cell_type": "code",
   "execution_count": null,
   "metadata": {},
   "outputs": [],
   "source": [
    "import sys\n",
    "print(sys.version) #get Python version\n",
    "#from platform import python_version\n",
    "#print(python_version())"
   ]
  },
  {
   "cell_type": "markdown",
   "metadata": {},
   "source": [
    "# Why Python?\n",
    "\n",
    "* <b>Very Simple to learn and use\n",
    "* General purpose language and extremely wide support of useful packages and libraries(matplotlib, numpy, pandas, scipy,scikit-learn,etc.) \n",
    "* Extensively used in industry to build web apps, analyze data and so on. (google, facebook, instagram, spotify, netflix.......)\n",
    "* Support from renowned corporate sponsors(Facebook, Amazon Web Services, and especially Google)\n",
    "* Versatility, Efficiency, Reliability, and Speed\n",
    "* iPython Notebooks for interactive data analysis and modelling\n",
    "\n",
    ">-----\n",
    "    "
   ]
  },
  {
   "cell_type": "markdown",
   "metadata": {},
   "source": [
    "## Elements of Python :\n",
    "* Vocabulary/Words : Identifiers and Keywords(Reserved Words)\n",
    "* Sentence Structure : Valid Syntax Patterns\n",
    "* Story Structure : Constructing a program for purpose\n",
    "----"
   ]
  },
  {
   "cell_type": "markdown",
   "metadata": {},
   "source": [
    "<b>Identifiers </b>: Indentifiers are names assigned to identify any entity(class, function, variable, etc.) \n",
    "\n",
    "<b>Variable</b>: Variables are nothing but reserved memory locations to store values. It means that when you create a variable, you reserve some space in memory.\n",
    "\n",
    "<b>Python Keywords</b>: These are the reserved words in python that has a special meaning and can't be used as varibale."
   ]
  },
  {
   "cell_type": "code",
   "execution_count": null,
   "metadata": {},
   "outputs": [],
   "source": [
    "#There is no need to declare  a variable before assigning a value to it as in C\n",
    "a=10 #a is the variable name and 10 is the value assigned to 'a' reserved in memory\n",
    "import keyword\n",
    "print(keyword.kwlist)"
   ]
  },
  {
   "cell_type": "markdown",
   "metadata": {},
   "source": [
    "<b>Condition for Identifiers:</b>\n",
    "* Keywords can't be used as Variable names\n",
    "* Cannot be initiated with a number\n",
    "* Can only have alphabets,numbers and underscore ' _ '\n"
   ]
  },
  {
   "cell_type": "code",
   "execution_count": null,
   "metadata": {},
   "outputs": [],
   "source": [
    "hello_123=\"Hello World!\"\n",
    "#_hello=\"No Error\"\n",
    "#1hello=\"Error\" \n",
    "#hello_$1=\"Special characters can't be used\"\n",
    "#lambda=1\n",
    "\n",
    "print(hello_123)"
   ]
  },
  {
   "cell_type": "markdown",
   "metadata": {},
   "source": [
    "<b> Comments in Python</b>\n",
    "\n",
    "* Single line Comment : # is used for single line comment\n",
    "\n",
    "* Multiple line comment : ''' Triple quotes are used for multiline comment''' or \"\"\" This \"\"\""
   ]
  },
  {
   "cell_type": "code",
   "execution_count": null,
   "metadata": {},
   "outputs": [],
   "source": [
    "# This single line comment\n",
    "\n",
    "\n",
    "'''\n",
    "This is\n",
    "multi line \n",
    "comment\n",
    "'''"
   ]
  },
  {
   "cell_type": "markdown",
   "metadata": {},
   "source": [
    "## Storage Locations"
   ]
  },
  {
   "cell_type": "code",
   "execution_count": null,
   "metadata": {},
   "outputs": [],
   "source": [
    "x=99\n",
    "print(id(x)) #obtain the address"
   ]
  },
  {
   "cell_type": "code",
   "execution_count": null,
   "metadata": {},
   "outputs": [],
   "source": [
    "y=99\n",
    "print(id(y))"
   ]
  },
  {
   "cell_type": "markdown",
   "metadata": {},
   "source": [
    "*The storage location id is same for both x and y. The x and y points to the same value, so the location is reserved for the value and the variables point to it.* "
   ]
  },
  {
   "cell_type": "code",
   "execution_count": null,
   "metadata": {},
   "outputs": [],
   "source": [
    "print(\"ID of x:\",id(x),\"\\nID of y:\",id(y)) #Reuse of memory"
   ]
  },
  {
   "cell_type": "code",
   "execution_count": null,
   "metadata": {},
   "outputs": [],
   "source": [
    "y=98\n",
    "id(y) #Now pointing to another location with value 98"
   ]
  },
  {
   "cell_type": "markdown",
   "metadata": {},
   "source": [
    "## Statements\n",
    "Instructions that python can execute are called statements."
   ]
  },
  {
   "cell_type": "markdown",
   "metadata": {},
   "source": [
    "### Assignment Statements\n",
    "* We assign a value to a variable using the assignment statement(= operator)\n",
    "* An assignment statement consistsof an expression on the right hand side and variable to store the result.\\\n",
    "<b>x=3.9*7/(.5+.5)</b>\n",
    "* The right hand side is an expression . Once the expression is evaluated, the result is placed(assigned) to x."
   ]
  },
  {
   "cell_type": "code",
   "execution_count": null,
   "metadata": {},
   "outputs": [],
   "source": [
    "a=10 #single line statement\n",
    "\n",
    "#Multi-line statement\n",
    "b= 10+20+30+\\\n",
    "40+50+\\\n",
    "60+70+80+90\n",
    "print(\"a=\",a,\"\\nb=\",b)\n",
    "\n",
    "c=(10+20+30+\n",
    "  40+50\n",
    "  +60+70+80+90)\n",
    "print(\"c=\",c)"
   ]
  },
  {
   "cell_type": "code",
   "execution_count": null,
   "metadata": {},
   "outputs": [],
   "source": [
    "#multiple statements in a single line\n",
    "p=90;q=99;r=98 # ';' is the delimiter here\n",
    "print(\"p=\",p,\"\\nq=\",q,\"\\nr=\",r)\n",
    "\n",
    "x=y=z=97 # assigning same value to multiple variable\n",
    "print(\"\\n\",x,y,z)\n",
    "\n",
    "e,r,t=98,99.9,\"This is 97\" #multiple assignments\n",
    "print(\"\\ne:\",e)\n",
    "print(\"r:\",r)\n",
    "print(\"t:\",t)"
   ]
  },
  {
   "cell_type": "markdown",
   "metadata": {},
   "source": [
    "### Python Scripts and Interactive\n",
    "* Interactive python is good for experments and visualized understanding. When there is need to write much longer programs for applications,we write them into a file and and run the commands in a go, in a sense we are giving python a script that it has to run. The scripts has the extension \".py\" and it identifies that a file is written in python.\n",
    "* Interactive python is used for analysis, experiments, visualization and easy understandability and expressablility. IPython notebook is an example of interactive framework which is used by machine learning engineers and data scientists (mix code with content and easily shareable).\n"
   ]
  },
  {
   "cell_type": "markdown",
   "metadata": {},
   "source": [
    "<b> In python, a block of code is represented by *Indentation*</b> ( As we use { } in C  )"
   ]
  },
  {
   "cell_type": "code",
   "execution_count": null,
   "metadata": {},
   "outputs": [],
   "source": [
    "for a in range(5):\n",
    "    print(\"Hello World!\",a) # indentation represents the block\n",
    "    print(\"This is the block\")\n",
    "print(\"\\nWe are done with the above block\")"
   ]
  },
  {
   "cell_type": "markdown",
   "metadata": {},
   "source": [
    "# Data Types "
   ]
  },
  {
   "cell_type": "markdown",
   "metadata": {},
   "source": [
    "<b>A datatype, in programming, is a classification that specifies which type of value a variable has and what type  of mathematical, relational or logical operations can be performed or applied to it without causing errors. Since, everything is an object in python programming, data types are the classes and variables are the objects of these classes.</b>\n",
    "* Numeric\n",
    "* Boolean : *True / False*\n",
    "* Strings\n",
    "* List\n",
    "* Tuple\n",
    "* Set\n",
    "* Dictionary\n"
   ]
  },
  {
   "cell_type": "markdown",
   "metadata": {},
   "source": [
    "#### There is no need to specify the data type. Python is intelligent enough to automatically determine the type.\n",
    "---\n",
    "\n",
    "## Numbers\n",
    "* Numeric datatypes are used to store numeric values.\n",
    "* There are different numeric types:\n",
    "    * Integer\n",
    "    * Float\n",
    "    * Complex"
   ]
  },
  {
   "cell_type": "code",
   "execution_count": null,
   "metadata": {},
   "outputs": [],
   "source": [
    "a=99 #Integer\n",
    "b=99.8 #Float\n",
    "c=9+8j #Complex\n",
    "\n",
    "print(type(a))\n",
    "print(type(b))\n",
    "print(type(c))\n",
    "\n",
    "print(isinstance(c,complex)) # Checks if the datatype of a variable is a particular one and gives boolean output"
   ]
  },
  {
   "cell_type": "markdown",
   "metadata": {},
   "source": [
    "### Arithematic Operations\n",
    "Because of the lack of mathematical symbols on computer keyboards. We use \"computer-speak\" to express the classical mathematics operations.\n",
    "* Asterisk(*) is multiplication\n",
    "* Exponentiation (raise to the power) looks different than in maths \n",
    "\n",
    "\n",
    "\n",
    "|Operator|Operation|\n",
    "|-----|-----|\n",
    "|+|Addition|\n",
    "|-|Subtraction|\n",
    "|*|Multiplication|\n",
    "|/|Division|\n",
    "|**|Power(Exponent)|\n",
    "|%|Remainder|\n",
    "|//|Floor Division|\n",
    "\n",
    "\n",
    "#### Order of Evaluation\n",
    "* When we string operators together(eg: <b>x=78*87/45+78-(5+11)/2</b>)- Python does it according to operator precedence.\n",
    "* Operator Precedence rules: <b>   Parentheses()</b>----><b>Exponent</b>----><b>Multiplication/Division/Remainder</b>----><b>Addition and Subtraction</b>\n",
    "* If same operator in the expression, the precedence consideration is from left to right"
   ]
  },
  {
   "cell_type": "code",
   "execution_count": null,
   "metadata": {},
   "outputs": [],
   "source": [
    "j=78*87/45+78-(11%5)/2\n",
    "print(j)"
   ]
  },
  {
   "cell_type": "code",
   "execution_count": null,
   "metadata": {},
   "outputs": [],
   "source": [
    "# Type conversion\n",
    "x=float(a) #convert integer a to float x\n",
    "print(\"x is of type: \",type(x))\n",
    "y=int(b)  #convert float b to integer y\n",
    "print(\"y is of type: \",type(y))\n",
    "z=complex(a) #conversion from integer to complex\n",
    "print(z)\n",
    "print(\"z is of type: \",type(z))"
   ]
  },
  {
   "cell_type": "code",
   "execution_count": null,
   "metadata": {},
   "outputs": [],
   "source": [
    "p= int(c) #Complex numbers cannot be converted to integer or float\n",
    "print(p)"
   ]
  },
  {
   "cell_type": "markdown",
   "metadata": {},
   "source": [
    "## Boolean\n",
    "Boolean represent the truth values : True and False"
   ]
  },
  {
   "cell_type": "code",
   "execution_count": null,
   "metadata": {},
   "outputs": [],
   "source": [
    "a=True\n",
    "print(type(a))"
   ]
  },
  {
   "cell_type": "markdown",
   "metadata": {},
   "source": [
    "## String\n",
    "A string in python is a sequence of characters. We can create a string by enclosing characters in quote. ' ' or \" \""
   ]
  },
  {
   "cell_type": "code",
   "execution_count": null,
   "metadata": {},
   "outputs": [],
   "source": [
    "a=\"Hello World!\"\n",
    "b='Hello Again!'\n",
    "print(a)\n",
    "print(b)"
   ]
  },
  {
   "cell_type": "code",
   "execution_count": null,
   "metadata": {},
   "outputs": [],
   "source": [
    "#multiline string\n",
    "a='''This is an example of \n",
    "multiline string'''\n",
    "print(a)\n",
    "print(type(a))"
   ]
  },
  {
   "cell_type": "markdown",
   "metadata": {},
   "source": [
    "### Indexing\n",
    "The indexing starts from 0."
   ]
  },
  {
   "cell_type": "code",
   "execution_count": null,
   "metadata": {},
   "outputs": [],
   "source": [
    "string=\"Hello World!\"\n",
    "print(string[0])\n",
    "print(string[-1])# last character is str[len(str)-1] or str[-1]"
   ]
  },
  {
   "cell_type": "code",
   "execution_count": null,
   "metadata": {},
   "outputs": [],
   "source": [
    "#Slicing\n",
    "print(string[6:9]) # 9th index character is not printed\n",
    "print(string[:5])  #first 5 charcters(upto index 4)\n",
    "print(string[6:])  #characters from 6th index till end\n",
    "\n",
    "#Reverse a string\n",
    "print(string[::-1])"
   ]
  },
  {
   "cell_type": "code",
   "execution_count": null,
   "metadata": {},
   "outputs": [],
   "source": [
    "dir(str) # The dir() function returns attributes and methods"
   ]
  },
  {
   "cell_type": "code",
   "execution_count": null,
   "metadata": {},
   "outputs": [],
   "source": [
    "a=\"This is python programming\"\n",
    "b=a.split()# returns a list of items/strings separated by a deelimiter(by default a space)\n",
    "c=\"This:is:python:programming\"\n",
    "d=c.split(':',2)# specified delimiter here is (:) and 2 splits only\n",
    "print(\"b: \",b)\n",
    "print(\"d: \",d)"
   ]
  },
  {
   "cell_type": "code",
   "execution_count": null,
   "metadata": {},
   "outputs": [],
   "source": [
    "help(string.split) "
   ]
  },
  {
   "cell_type": "code",
   "execution_count": null,
   "metadata": {},
   "outputs": [],
   "source": [
    "#Conversion\n",
    "s1='23'\n",
    "n1=int(s1) #Coversion to integer (string with only numbers can be converted to number type)\n",
    "print(s1)"
   ]
  },
  {
   "cell_type": "code",
   "execution_count": null,
   "metadata": {
    "scrolled": true
   },
   "outputs": [],
   "source": [
    "s2='23p'  #string with special character or alphabet can't be converted to number type\n",
    "n2=int(s2)"
   ]
  },
  {
   "cell_type": "code",
   "execution_count": null,
   "metadata": {},
   "outputs": [],
   "source": [
    "num=97\n",
    "s4=str(num)\n",
    "print(s4)\n",
    "print(type(s4))"
   ]
  },
  {
   "cell_type": "markdown",
   "metadata": {},
   "source": [
    "### Escape Characters\n",
    "<p align=\"right\">\n",
    "  <img width=\"280\" height=\"280\" src=\"escapechars.png\">\n",
    "</p>\n"
   ]
  },
  {
   "cell_type": "markdown",
   "metadata": {},
   "source": [
    "## List\n",
    "* The list is the most versatile and flexible datatype available in python which can be written as an ordered sequence of comma separated values(items) between square brackets [ ]. All items in a list need not be of same type. It is one of the most used datatype in python.\n",
    "* Lists are mutable, that is, the values of elements of a list can be altered/modified."
   ]
  },
  {
   "cell_type": "code",
   "execution_count": null,
   "metadata": {},
   "outputs": [],
   "source": [
    "a=[98,'Hello',True,'Python Programming']\n",
    "print(a)\n",
    "print(type(a))"
   ]
  },
  {
   "cell_type": "markdown",
   "metadata": {},
   "source": [
    "### Indexing \n",
    "Indexing is similar to as that of string"
   ]
  },
  {
   "cell_type": "code",
   "execution_count": null,
   "metadata": {},
   "outputs": [],
   "source": [
    "print(a[0])\n",
    "print(a[1:3])"
   ]
  },
  {
   "cell_type": "markdown",
   "metadata": {},
   "source": [
    "### Operations on List"
   ]
  },
  {
   "cell_type": "code",
   "execution_count": null,
   "metadata": {},
   "outputs": [],
   "source": [
    "names=['Rajat','Ridharv','Kabootar','Kanishka','Nitin','Nathu'] #Defining list\n",
    "print(\"Names Before Updation: \",names)\n",
    "names[2]='Pratik'    #Update List(mutable)\n",
    "print(\"Names After Updation: \",names)\n",
    "print(\"Length of the List: \",len(names))  #length of the list"
   ]
  },
  {
   "cell_type": "code",
   "execution_count": null,
   "metadata": {},
   "outputs": [],
   "source": [
    "print(names+['Palak','Kavya']) #Concatenation\n",
    "print(names*2) #print(names*2) #Repetition / print list items multiple times"
   ]
  },
  {
   "cell_type": "code",
   "execution_count": null,
   "metadata": {},
   "outputs": [],
   "source": [
    "del names[5] # delete an item\n",
    "print(names)"
   ]
  },
  {
   "cell_type": "code",
   "execution_count": null,
   "metadata": {},
   "outputs": [],
   "source": [
    "del names #delete whole list\n",
    "print(names)"
   ]
  },
  {
   "cell_type": "code",
   "execution_count": null,
   "metadata": {},
   "outputs": [],
   "source": [
    "#string to list\n",
    "strin=\"Artificial Intelligence\"\n",
    "l1=list(strin)\n",
    "print(l1)\n",
    "print(type(l1))"
   ]
  },
  {
   "cell_type": "markdown",
   "metadata": {},
   "source": [
    "## Tuples\n",
    "* A tuple is an ordered sequence of immutable python objects. Tuples once created can't be modified. The tuple items are enclosed in brackets.\n",
    "* No need to have elements of similar type."
   ]
  },
  {
   "cell_type": "code",
   "execution_count": null,
   "metadata": {},
   "outputs": [],
   "source": [
    "a=(98,'Ramesh',['Ravi',96])# defining a tuple\n",
    "print(a)\n",
    "print(a[1])\n",
    "print(a[0:2])"
   ]
  },
  {
   "cell_type": "code",
   "execution_count": null,
   "metadata": {},
   "outputs": [],
   "source": [
    "a=a+('Updating',\"tuple\") #updating\n",
    "print(a)"
   ]
  },
  {
   "cell_type": "code",
   "execution_count": null,
   "metadata": {},
   "outputs": [],
   "source": [
    "print(a+('Raj','Kumar'))    #Concatenation\n",
    "print(a*2) #print multiple times"
   ]
  },
  {
   "cell_type": "code",
   "execution_count": null,
   "metadata": {},
   "outputs": [],
   "source": [
    "a[2]='Sunny' #Immutable"
   ]
  },
  {
   "cell_type": "code",
   "execution_count": null,
   "metadata": {},
   "outputs": [],
   "source": [
    "del a # whole tuple can be deleted\n",
    "print(a)"
   ]
  },
  {
   "cell_type": "markdown",
   "metadata": {},
   "source": [
    "## Set\n",
    "* It is an unordered collection of unique items. Set is defined by values separated by comma inside braces { }.\n",
    "* We can perform set operations like union, intersection. Sets store unique values."
   ]
  },
  {
   "cell_type": "code",
   "execution_count": null,
   "metadata": {},
   "outputs": [],
   "source": [
    "s={94,95,'Hello',97,98,99}\n",
    "print(s)\n",
    "print(type(s))"
   ]
  },
  {
   "cell_type": "code",
   "execution_count": null,
   "metadata": {},
   "outputs": [],
   "source": [
    "b={88,91,93,'python',99,88,91}\n",
    "print(b)    # Duplicate items are not considered and only unique items are stored and printed"
   ]
  },
  {
   "cell_type": "code",
   "execution_count": null,
   "metadata": {},
   "outputs": [],
   "source": [
    "dir(set)"
   ]
  },
  {
   "cell_type": "code",
   "execution_count": null,
   "metadata": {},
   "outputs": [],
   "source": [
    "#add items to a set\n",
    "print(\"Before: \",b)\n",
    "b.add('thunder')\n",
    "print(\"After: \",b)\n",
    "b.remove(91)\n",
    "print(\"Now: \",b)"
   ]
  },
  {
   "cell_type": "code",
   "execution_count": null,
   "metadata": {},
   "outputs": [],
   "source": [
    "print(\"Union: \",s.union(b))\n",
    "print(\"Intersection: \",s.intersection(b))"
   ]
  },
  {
   "cell_type": "markdown",
   "metadata": {},
   "source": [
    "##### Set does not support indexing as there is no order and set is an unordered collection of items."
   ]
  },
  {
   "cell_type": "code",
   "execution_count": null,
   "metadata": {},
   "outputs": [],
   "source": [
    "print(b[2])"
   ]
  },
  {
   "cell_type": "code",
   "execution_count": null,
   "metadata": {},
   "outputs": [],
   "source": [
    "#Conversion\n",
    "string=\"Hello python programmers\"\n",
    "ss=set(string)# conversion from string to set\n",
    "print(ss)\n",
    "\n",
    "c=list(b) #conversion from set to list\n",
    "print(c)\n",
    "\n",
    "l=['Hello',102,'Python'] #list\n",
    "s=set(l) #conversion from list to set\n",
    "print(s)\n",
    "\n",
    "t=(92,88,'python',88) #tuple\n",
    "e=set(t) #conversion from tuple to set\n",
    "print(e)"
   ]
  },
  {
   "cell_type": "markdown",
   "metadata": {},
   "source": [
    "## Dictionary\n",
    "Dictionary is an unordered collection of key-value pairs. \n",
    "#### di={key1:value1,key2:value2}"
   ]
  },
  {
   "cell_type": "code",
   "execution_count": null,
   "metadata": {},
   "outputs": [],
   "source": [
    "essential={1:'logic',2:'Syntax','third':'success'}\n",
    "print(essential)\n",
    "print(type(essential))"
   ]
  },
  {
   "cell_type": "code",
   "execution_count": null,
   "metadata": {},
   "outputs": [],
   "source": [
    "print(essential[1])\n",
    "print(essential['third'])"
   ]
  },
  {
   "cell_type": "code",
   "execution_count": null,
   "metadata": {},
   "outputs": [],
   "source": [
    "#updating a dictionary\n",
    "essential[4]='Python'\n",
    "print(essential)\n",
    "\n",
    "essential[5] = essential.pop(4) #update key\n",
    "print(essential)"
   ]
  },
  {
   "cell_type": "code",
   "execution_count": null,
   "metadata": {},
   "outputs": [],
   "source": [
    "del essential[2]; # remove entry with key 'Name'\n",
    "print(essential)\n",
    "essential.clear();     # remove all entries in dict\n",
    "print(essential)\n",
    "del essential ;        # delete entire dictionary"
   ]
  },
  {
   "cell_type": "code",
   "execution_count": null,
   "metadata": {},
   "outputs": [],
   "source": [
    "dir(dict)"
   ]
  },
  {
   "cell_type": "code",
   "execution_count": null,
   "metadata": {},
   "outputs": [],
   "source": [
    "help(dict)"
   ]
  },
  {
   "cell_type": "markdown",
   "metadata": {},
   "source": [
    "##### The get() method for dictionaries: The pattern of checking to see if a key is already in a dictionary and assuming a default value if the key is not there is so common that there is method called get( that does this for us.\n",
    "\n",
    "    if name in counts:\n",
    "        x= counts[name]\n",
    "    else:\n",
    "        x=0       \n",
    "<b> OR</b>\n",
    "\n",
    "    x=counts.get(names,0)\n",
    "        "
   ]
  },
  {
   "cell_type": "code",
   "execution_count": null,
   "metadata": {},
   "outputs": [],
   "source": [
    "d={1:'a',2:'b',4:'c',4:'d'}\n",
    "print(d.get(2))\n",
    "print(d.get(5))\n",
    "print(d.get(5,0))\n",
    "print(d.get(5,\"Value\"))# if key doesn't exist print the given value"
   ]
  },
  {
   "cell_type": "code",
   "execution_count": null,
   "metadata": {},
   "outputs": [],
   "source": [
    "# simplified counting with get() method of dictionary\n",
    "\n",
    "counts=dict()\n",
    "names=['Raj','Ravi','Raj','Ravi','Ravi','Ram']\n",
    "for name in names:\n",
    "    counts[name]=counts.get(name,0)+1\n",
    "print(counts)"
   ]
  },
  {
   "cell_type": "code",
   "execution_count": null,
   "metadata": {},
   "outputs": [],
   "source": [
    "#Two iteration values\n",
    "jjj={'Raj':87,'Rohan':86,'Ramesh':92}\n",
    "for aaa,bbb in jjj.items():\n",
    "    print(aaa,bbb) #print key and value"
   ]
  },
  {
   "cell_type": "code",
   "execution_count": null,
   "metadata": {},
   "outputs": [],
   "source": []
  },
  {
   "cell_type": "markdown",
   "metadata": {},
   "source": [
    "---\n",
    "---\n",
    "## User Input\n",
    "* We can instruct python to pause and read data from user using input() function\n",
    "* The input() function returns a string"
   ]
  },
  {
   "cell_type": "code",
   "execution_count": null,
   "metadata": {},
   "outputs": [],
   "source": [
    "name=input('Who are you?')\n",
    "print('Welcome',name)"
   ]
  },
  {
   "cell_type": "markdown",
   "metadata": {},
   "source": [
    "### Converting User Input\n",
    "* If we want to read a number from the user, we must convert it from a string to a number using a type conversion function"
   ]
  },
  {
   "cell_type": "code",
   "execution_count": null,
   "metadata": {},
   "outputs": [],
   "source": [
    "inp=input('How many marks you got?')\n",
    "con=int(inp)\n",
    "print(con,\" are good marks.\")"
   ]
  },
  {
   "cell_type": "markdown",
   "metadata": {},
   "source": [
    "### Python Output"
   ]
  },
  {
   "cell_type": "code",
   "execution_count": null,
   "metadata": {},
   "outputs": [],
   "source": [
    "a=98\n",
    "print(\"Hello Robo\",a)\n",
    "print(\"Hello Robo\"+str(a))"
   ]
  },
  {
   "cell_type": "markdown",
   "metadata": {},
   "source": [
    "#### Ouput Formatting"
   ]
  },
  {
   "cell_type": "code",
   "execution_count": null,
   "metadata": {},
   "outputs": [],
   "source": [
    "a=97 \n",
    "b=98\n",
    "print(\"a={} and b={}\".format(a,b)) #default\n",
    "print(\"a={} and b={}\".format('Raj','Kumar')) #default\n",
    "print(\"{1} Programming is {0}\".format(\"Python\",'Fun')) #specify position of arguments\n",
    "print(\"{dash1} Programming is {dash2}\".format(dash1='Python',dash2='Fun')) #Use keywords argument to format the string\n",
    "print(\"{0} Programming is {1} {dash2}\".format(\"Python\",'Very Much',dash2='Fun')) # Combine positional arguments with keyword arguments\n"
   ]
  },
  {
   "cell_type": "markdown",
   "metadata": {},
   "source": [
    "## Operators in Python\n",
    "### Arithematic Operators\n",
    "|Operator|Operation|\n",
    "|-----|-----|\n",
    "|a+b|Addition|\n",
    "|a-b|Subtraction|\n",
    "|a*b|Multiplication|\n",
    "|a/b|Division|\n",
    "|a**b|Power(Exponent)|\n",
    "|a%b|Remainder|\n",
    "|a//b|Floor Division|"
   ]
  },
  {
   "cell_type": "code",
   "execution_count": null,
   "metadata": {},
   "outputs": [],
   "source": [
    "a=50\n",
    "b=2\n",
    "print(\"a+b:  \",a+b)\n",
    "print(\"a-b:  \",a-b)\n",
    "print(\"a*b:  \",a*b)\n",
    "print(\"a/b:  \",a/b)\n",
    "print(\"a**b: \",a**b)\n",
    "print(\"a%b:  \",a%b)\n",
    "print(\"a//b: \",a//b) # Gives Integer"
   ]
  },
  {
   "cell_type": "markdown",
   "metadata": {},
   "source": [
    "### Comparision/Relational Operators\n",
    "|Operator|Operation|\n",
    "|-----|-----|\n",
    "|a==b|Equal to|\n",
    "|a!=b|Not Equal to|\n",
    "|a>b|Greater than|\n",
    "|a<b|Less than|\n",
    "|a>=b|Greater than or equal to|\n",
    "|a<=b|Less than or equal to|"
   ]
  },
  {
   "cell_type": "code",
   "execution_count": null,
   "metadata": {},
   "outputs": [],
   "source": [
    "print(\"97==97: \",97==97)\n",
    "print(\"96!=97: \",96!=97)\n",
    "print(\"97>97 : \",97>97)\n",
    "print(\"97<99 : \",97<99)\n",
    "print(\"97>=97: \",97>=97)\n",
    "print(\"97<=94: \",97<=94)"
   ]
  },
  {
   "cell_type": "markdown",
   "metadata": {},
   "source": [
    "### Assignment Operators\n",
    "Value is assigned to the LHS variable\n",
    "\n",
    "|Operation|Equivalent|\n",
    "|-----|-----|\n",
    "|a=a+b|a+=b|\n",
    "|a=a-b|a-=b|\n",
    "|a=a*b|a*=b|\n",
    "|a=a/b|a/=b|\n",
    "|a=a**b|a**=b|"
   ]
  },
  {
   "cell_type": "code",
   "execution_count": null,
   "metadata": {},
   "outputs": [],
   "source": [
    "a+=b # a=a+b\n",
    "print(\"a=a+b =\",a)\n",
    "a**=b # a=a**b\n",
    "print(\"a=a**b=\",a)"
   ]
  },
  {
   "cell_type": "markdown",
   "metadata": {},
   "source": [
    "### Bitwise Operators\n",
    "|Operator|Operation|\n",
    "|-----|-----|\n",
    "|a&b|Binary AND|\n",
    "|a^b|Binary XOR|\n",
    "|a~b|Binary NOT|\n",
    "|a<<|Binary LeftShift|\n",
    "|a>>|Binary RightShift|\n",
    "\n",
    "><font size=2>Binary OR ---->  a|b</font>\n",
    "\n",
    "<b>Value</b>----><b>Conversion to Binary</b>----><b>Binary Operations Performed</b>----><b>Output Value from Binary</b>"
   ]
  },
  {
   "cell_type": "code",
   "execution_count": null,
   "metadata": {},
   "outputs": [],
   "source": [
    "a=10 #Binary Value: 1010\n",
    "b=4  #Binary Value: 0100\n",
    "print(\"a&b=\",a&b)   # 0000\n",
    "print(\"a|b=\",a|b)   # 1110\n",
    "print(\"a^b=\",a^b)   # 1110\n",
    "print(\"~a=\",~a)     #-1011\n",
    "'''~a = ~1010\n",
    "   = -(1010 + 1)\n",
    "   = -(1011)\n",
    "   = -11 (Decimal)'''\n",
    "\n",
    "print(\"a<<b=\",a<<b) # 10100000\n",
    "print(\"a>>b=\",a>>b) # 0000"
   ]
  },
  {
   "cell_type": "markdown",
   "metadata": {},
   "source": [
    "### Logical Operators\n",
    "* <b>and\n",
    "* or\n",
    "* not"
   ]
  },
  {
   "cell_type": "code",
   "execution_count": null,
   "metadata": {},
   "outputs": [],
   "source": [
    "a=True\n",
    "b=False\n",
    "print(a and b)\n",
    "print(a or b)\n",
    "print(not a)\n",
    "print(not b)"
   ]
  },
  {
   "cell_type": "markdown",
   "metadata": {},
   "source": [
    "### Special Operators\n",
    "#### Identity Operator\n",
    "* <b>is </b>and <b>is not</b> are the identity operators in python\n",
    "* These are used to check if two values(variables) are at the same part of memory"
   ]
  },
  {
   "cell_type": "code",
   "execution_count": null,
   "metadata": {},
   "outputs": [],
   "source": [
    "#It works only for string and numbers.\n",
    "x=80\n",
    "y=80\n",
    "print(\"ID of x\",id(x))\n",
    "print(\"ID of y\",id(y))\n",
    "print(x is y)\n",
    "print(x is not y)"
   ]
  },
  {
   "cell_type": "markdown",
   "metadata": {},
   "source": [
    "#### Membership Operators\n",
    "* <b>in</b> and <b>not in</b> are the membership oprators\n",
    "* These are used to test whether a varibale or value is found in a sequence"
   ]
  },
  {
   "cell_type": "code",
   "execution_count": null,
   "metadata": {},
   "outputs": [],
   "source": [
    "programming='Success in Programming'\n",
    "print('Success' in programming )\n",
    "print('Boredome' in programming)\n",
    "print('Boredome' not in programming)\n"
   ]
  },
  {
   "cell_type": "code",
   "execution_count": null,
   "metadata": {},
   "outputs": [],
   "source": [
    "li=[7,8,9,10]\n",
    "print(8 in li)"
   ]
  },
  {
   "cell_type": "code",
   "execution_count": null,
   "metadata": {},
   "outputs": [],
   "source": [
    "di={1:'Python',2:'C',3:'C++'}\n",
    "print('Python' in di)\n",
    "print(1 in di) #the key is used as the argument used to test"
   ]
  },
  {
   "cell_type": "markdown",
   "metadata": {},
   "source": [
    "----\n",
    "## Conditional statements in Python\n",
    "### if....elif....else statements are used for decision making\n",
    "#### Syntax:\n",
    "    if <Conditional Statement>:\n",
    "        Code Block\n",
    "        \n",
    "![if](if-else.png)"
   ]
  },
  {
   "cell_type": "code",
   "execution_count": null,
   "metadata": {},
   "outputs": [],
   "source": [
    "val=10\n",
    "if val<=10:\n",
    "    print(\"Yes it is less than equal to 10\")\n",
    "print(\"This is how 'if' works\")"
   ]
  },
  {
   "cell_type": "code",
   "execution_count": null,
   "metadata": {},
   "outputs": [],
   "source": [
    "l1=['a','b',87,'c',91]\n",
    "if('d' in l1):\n",
    "    print(\"A true condition prints the code block\")\n",
    "elif('a' in l1):\n",
    "    print(\"Yes it is\")\n",
    "print(\"This statement is out of the if-else\")"
   ]
  },
  {
   "cell_type": "code",
   "execution_count": null,
   "metadata": {},
   "outputs": [],
   "source": [
    "l1=['a','b',87,'c',91]\n",
    "if('d' in l1):\n",
    "    print(\"A true condition prints the code block\")\n",
    "elif('e' in l1):\n",
    "    print(\"Not in here\")\n",
    "else:\n",
    "    print(\"None of the condition is true. So, else is printed.\")"
   ]
  },
  {
   "cell_type": "markdown",
   "metadata": {},
   "source": [
    "### Loops\n",
    "A loop statemet allows us too execute a statement or group of statements multiple time. Loops have iteration variables that change each time through a loop.\n",
    "![Loops](loops.png)\n",
    "\n",
    "#### while loop\n",
    "Repeats a statement or group of statements while a given condition is true. It tests the condition before executing the loop body.\n",
    "##### Syntax\n",
    "    while <expression>:\n",
    "        Statements"
   ]
  },
  {
   "cell_type": "code",
   "execution_count": null,
   "metadata": {},
   "outputs": [],
   "source": [
    "a=0\n",
    "while a<5:\n",
    "    print(\"a: \",a)\n",
    "    a+=1 #a=a+1"
   ]
  },
  {
   "cell_type": "markdown",
   "metadata": {},
   "source": [
    "##### An infinite loop/ Badly constructed loop\n",
    "A loop that keeps on running and the control does not come out of the loop. A loop without a munipulation on the iterating variable."
   ]
  },
  {
   "cell_type": "code",
   "execution_count": null,
   "metadata": {},
   "outputs": [],
   "source": [
    "a=0\n",
    "while a<5: # the iterating variable is - a\n",
    "    print(\"a: \",a)\n",
    "#this will continuosly print a: 0 and would not come out of loop "
   ]
  },
  {
   "cell_type": "code",
   "execution_count": null,
   "metadata": {},
   "outputs": [],
   "source": [
    "#while with else\n",
    "a=10\n",
    "while a<10:\n",
    "    print(\"Less than 10\")\n",
    "else:\n",
    "    print(\"Greater than 10\")"
   ]
  },
  {
   "cell_type": "markdown",
   "metadata": {},
   "source": [
    "#### for loop\n",
    "In python, it is used to iterate over a sequence(string,list,tuple) or other iterable objects. Iterating over others is called as traversal.\n",
    "##### Syntax:\n",
    "    for <iterating_var in sequence>:\n",
    "        Statements\n",
    "        "
   ]
  },
  {
   "cell_type": "code",
   "execution_count": null,
   "metadata": {},
   "outputs": [],
   "source": [
    "for i in range(5): #Return an object that produces a sequence of integers from start (inclusive) to stop (exclusive) by step.\n",
    "    print(i)\n",
    "print(\"Printed\")"
   ]
  },
  {
   "cell_type": "code",
   "execution_count": null,
   "metadata": {},
   "outputs": [],
   "source": [
    "for i in range(0,10,2):# range(start,stop,step)\n",
    "    print(i)\n",
    "print(\"Printed\")"
   ]
  },
  {
   "cell_type": "markdown",
   "metadata": {},
   "source": [
    "#### Patterns using for loop"
   ]
  },
  {
   "cell_type": "code",
   "execution_count": null,
   "metadata": {},
   "outputs": [],
   "source": [
    "#simple pyramid\n",
    "for i in range(0,5):\n",
    "    for j in range(0,i+1):\n",
    "        print(\"* \",end=\"\")\n",
    "    print(\"\\r\")"
   ]
  },
  {
   "cell_type": "markdown",
   "metadata": {},
   "source": [
    "##### Python’s print() function comes with a parameter called ‘end’. By default, the value of this parameter is ‘\\n’, i.e. the new line character. You can end a print statement with any character/string using this parameter."
   ]
  },
  {
   "cell_type": "code",
   "execution_count": null,
   "metadata": {},
   "outputs": [],
   "source": [
    "#Reverse Pyramid\n",
    "n=5    \n",
    "s = 2*n - 2    \n",
    "for i in range(0, n): \n",
    "      \n",
    "    for j in range(0, s): \n",
    "        print(end=\" \")   \n",
    "    s = s - 2  \n",
    "    for j in range(0, i+1): \n",
    "        print(\"* \", end=\"\") \n",
    "    print(\"\\r\")   "
   ]
  },
  {
   "cell_type": "code",
   "execution_count": null,
   "metadata": {},
   "outputs": [],
   "source": [
    "s = 2*n - 2\n",
    "for i in range(0, n): \n",
    "    for j in range(0, s): \n",
    "        print(end=\" \")  \n",
    "    s = s - 1\n",
    "    for j in range(0, i+1):        \n",
    "        print(\"* \", end=\"\") \n",
    "    print(\"\\r\")"
   ]
  },
  {
   "cell_type": "markdown",
   "metadata": {},
   "source": [
    "##### Python program to check a number for being a prime number"
   ]
  },
  {
   "cell_type": "code",
   "execution_count": null,
   "metadata": {},
   "outputs": [],
   "source": [
    "#using while loop\n",
    "number = int(input(\"What is the number:  \"))\n",
    "count = 0\n",
    "i = 2\n",
    "\n",
    "while(i <= number//2):\n",
    "    if(number % i == 0):\n",
    "        count = count + 1\n",
    "        print(\"Divisible by : \",i)\n",
    "    i = i + 1\n",
    "\n",
    "if (count == 0 and number != 1):\n",
    "    print(\"%d is a Prime Number\" %number) #another way of  printing/formatting string\n",
    "else:\n",
    "    print(\"%d is not a Prime Number\" %number)"
   ]
  },
  {
   "cell_type": "markdown",
   "metadata": {},
   "source": [
    "##### Program to print all prime numbers within an interval"
   ]
  },
  {
   "cell_type": "code",
   "execution_count": null,
   "metadata": {},
   "outputs": [],
   "source": [
    "#using for loop\n",
    "x1=int(input(\"Enter the Start: \"))\n",
    "x2=int(input(\"Enter the Stop: \"))\n",
    "\n",
    "for number in range(x1,x2+1):\n",
    "    if (number>1):\n",
    "        temp=0\n",
    "        for i in range(2,number):\n",
    "            if (number%i==0):\n",
    "                temp=1\n",
    "        if (temp!=1):\n",
    "            print(number)"
   ]
  },
  {
   "cell_type": "markdown",
   "metadata": {},
   "source": [
    "### break\n",
    "* The break statement ends the current loop and jumps to the statement immediately following the loop.\n",
    "* It is a like a loop tet that can happen anywhere in the body of the loop"
   ]
  },
  {
   "cell_type": "code",
   "execution_count": null,
   "metadata": {},
   "outputs": [],
   "source": [
    "num=[1,2,3,4,5]\n",
    "for n in num:\n",
    "    if n==5:\n",
    "        break\n",
    "    print(n)\n",
    "else:\n",
    "    print(\"Else Block\")\n",
    "print(\"Hello\")"
   ]
  },
  {
   "cell_type": "code",
   "execution_count": null,
   "metadata": {},
   "outputs": [],
   "source": [
    "#check for prime number for just one factor\n",
    "number = int(input(\"What is the number:  \"))\n",
    "count = 0\n",
    "i = 2\n",
    "\n",
    "while(i <= number//2):\n",
    "    if(number % i == 0):\n",
    "        count = count + 1\n",
    "        print(\"Divisible by : \",i)\n",
    "        break\n",
    "    i = i + 1\n",
    "\n",
    "if (count == 0 and number != 1):\n",
    "    print(\"%d is a Prime Number\" %number) #another way of  printing/formatting string\n",
    "else:\n",
    "    print(\"%d is not a Prime Number\" %number)"
   ]
  },
  {
   "cell_type": "markdown",
   "metadata": {},
   "source": [
    "### continue\n",
    "* The continue statement ends the current iteration and jumps to the top of the loop and starts the next iteration.\n"
   ]
  },
  {
   "cell_type": "code",
   "execution_count": null,
   "metadata": {},
   "outputs": [],
   "source": [
    "#print odd numbers\n",
    "num=[1,2,3,4,5,6,7,8,9,10]\n",
    "for n in num:\n",
    "    if n%2==0:\n",
    "        continue\n",
    "    print(n)\n",
    "else:\n",
    "    print(\"Else Block\")\n",
    "print(\"Hello\")"
   ]
  },
  {
   "cell_type": "markdown",
   "metadata": {},
   "source": [
    "When looping through a sequence, the position index and corresponding value can be retrieved at the same time using the <b>enumerate()</b> function."
   ]
  },
  {
   "cell_type": "code",
   "execution_count": null,
   "metadata": {},
   "outputs": [],
   "source": [
    "for i,v in enumerate(['tic', 'tac', 'toe']): #One variable for \n",
    "    print(i, v)"
   ]
  },
  {
   "cell_type": "markdown",
   "metadata": {},
   "source": [
    "## Functions\n",
    "* A function is block of organised, reusable code that performs specific task. It takes the argument(s) as input, does some computation, and then returns the result.\n",
    "* Function helps to break our program into smaller and modular pieces. Functions make larger programs more manageable and organised.\n",
    "* We define the function using the \"def\" keyword(reserved word).\n",
    "* We call/invoke the function by using the function name, and arguments in expression.\n",
    "\n",
    "### Types of Functions:\n",
    "<b> Built-in/Predefined Functions:</b> Functions that are provided as a part of python programming language- print(), input(), type(), float(), int(), etc.\\\n",
    "<b> User-Defined Functions:</b> Functions that we define ourselves to use for a specific work/task. \n",
    "\n",
    "### Syntax:\n",
    "    def <function name>(<parameters>):\n",
    "        '''Doc string'''\n",
    "        <statements>\n",
    "        \n",
    "* <b>Parameter:</b> A parameter is a variable which we can use in the function definition. It is a handle that allows the code in the function to access the arguments for a particular function invokation.\n",
    "* <b>Argument:</b> An argument is a value we can pass into the function as its input when we call the function."
   ]
  },
  {
   "cell_type": "code",
   "execution_count": null,
   "metadata": {},
   "outputs": [],
   "source": [
    "def greet(lang): #lang is the parameter\n",
    "    if lang==\"es\":\n",
    "        print(\"Hola\")\n",
    "    elif lang==\"fr\":\n",
    "        print(\"Bonjour\")\n",
    "    else:\n",
    "        print(\"Hello\")"
   ]
  },
  {
   "cell_type": "code",
   "execution_count": null,
   "metadata": {},
   "outputs": [],
   "source": [
    "greet(\"es\") # es is the argument"
   ]
  },
  {
   "cell_type": "markdown",
   "metadata": {},
   "source": [
    "#### Default Argument"
   ]
  },
  {
   "cell_type": "code",
   "execution_count": null,
   "metadata": {},
   "outputs": [],
   "source": [
    "def hey(name,greet=\"Good Morning\"):\n",
    "    print(greet,name)\n",
    "    \n",
    "hey(\"Joseph\",\"Hello\")\n",
    "hey(\"Joseph\") # prints the default value if the argument is not given"
   ]
  },
  {
   "cell_type": "markdown",
   "metadata": {},
   "source": [
    "Default arguments should be put at the end of the arguments"
   ]
  },
  {
   "cell_type": "code",
   "execution_count": null,
   "metadata": {},
   "outputs": [],
   "source": [
    "\n",
    "def hey(greet=\"Good Morning\",name):\n",
    "    print(greet,name)\n",
    "    \n",
    "hey(\"Hello\",\"Joseph\")\n",
    "hey(\"Joseph\") # prints the default value if the argument is not given"
   ]
  },
  {
   "cell_type": "markdown",
   "metadata": {},
   "source": [
    "#### Keyword arguments"
   ]
  },
  {
   "cell_type": "code",
   "execution_count": null,
   "metadata": {},
   "outputs": [],
   "source": [
    "def car(**kwargs): \n",
    "    if kwargs:\n",
    "        print(\"Car Brand: {0}\\nCar Model: {1}\\n----{0} {1}----\".format(kwargs['brand'],kwargs['model']))\n",
    "    else:\n",
    "        print(\"\\nAbe Argument thik se daal\")\n",
    "car(brand='Bugatti',model='Chiron')\n",
    "car()"
   ]
  },
  {
   "cell_type": "markdown",
   "metadata": {},
   "source": [
    "#### Arbitrary arguments\n",
    "When we do not know the number of arguments that will be passed to the function, this python ability comes to the rescue."
   ]
  },
  {
   "cell_type": "code",
   "execution_count": null,
   "metadata": {},
   "outputs": [],
   "source": [
    "def cars(*brand): \n",
    "    print(brand)\n",
    "    for car in brand:\n",
    "        print(\"{0}\".format(car))  # print(car)\n",
    "cars('Bugatti','Lamborghini')"
   ]
  },
  {
   "cell_type": "markdown",
   "metadata": {},
   "source": [
    "<b>Return values: </b>Often a function will take its arguments, do some computation and return a value to be used as the value of the calling function in the expression. The return keyword used for this. A fruitful function is one that produces a result(or some return value). The return statement ends the function execution and sends back the result of the function.  \n",
    "\n",
    "<b>Void(non frutiful) Functions:</b> When a function does not return a value, we call it a \"void\" function. Function must return any value, either by a return statement or any other statement, to be fruitful."
   ]
  },
  {
   "cell_type": "code",
   "execution_count": null,
   "metadata": {},
   "outputs": [],
   "source": [
    "def greet():\n",
    "    return (\"Hello\")\n",
    "print(greet(),\"Light\")"
   ]
  },
  {
   "cell_type": "code",
   "execution_count": null,
   "metadata": {},
   "outputs": [],
   "source": [
    "def addtwo(a,b): \n",
    "    '''This is a program to add two numbers'''\n",
    "    added=a+b\n",
    "    return added\n",
    "\n",
    "x=addtwo(8,8)\n",
    "print(x)\n",
    "y=addtwo(9,9)\n",
    "print(y)"
   ]
  },
  {
   "cell_type": "code",
   "execution_count": null,
   "metadata": {},
   "outputs": [],
   "source": [
    "help(addtwo)"
   ]
  },
  {
   "cell_type": "markdown",
   "metadata": {},
   "source": [
    "### Recursive Function\n",
    "In python, a function can call other functions. A function can also call itself, this is called recursion and the function is called as recursive function.\n"
   ]
  },
  {
   "cell_type": "code",
   "execution_count": null,
   "metadata": {},
   "outputs": [],
   "source": [
    "#Program for a factorial\n",
    "def fact(a):\n",
    "    \"\"\"This is a recursive function\n",
    "    to find the factorial of an integer\"\"\"\n",
    "\n",
    "    if a == 1:\n",
    "        return 1\n",
    "    else:\n",
    "        return (a * fact(a-1))\n",
    "\n",
    "i=int(input(\"Enter the Integer to find factorial: \"))\n",
    "print(\"The factorial of\", i, \"is\", fact(i))"
   ]
  },
  {
   "cell_type": "markdown",
   "metadata": {},
   "source": [
    "### Lambda Function\n",
    "* In Python, an anonymous function is a function that is defined without a name. \n",
    "* A lambda function can take any number of arguments, but can only have one expression.\n",
    "* While normal functions are defined using the def keyword in Python, anonymous functions are defined using the lambda keyword.\n",
    "\n",
    "#### Syntax\n",
    "    lambda <arguments> : <expression> "
   ]
  },
  {
   "cell_type": "code",
   "execution_count": null,
   "metadata": {},
   "outputs": [],
   "source": [
    "# Programs to show the use of lambda functions\n",
    "twice= lambda x: x * 2\n",
    "\n",
    "print(twice(50))\n",
    "\n",
    "print((lambda x: x + 1)(2)) # anonymous(no name)"
   ]
  },
  {
   "cell_type": "markdown",
   "metadata": {},
   "source": [
    "###### We use lambda functions when we require a nameless function for a short period of time."
   ]
  },
  {
   "cell_type": "markdown",
   "metadata": {},
   "source": [
    "In Python, we generally use it as an argument to a higher-order function (a function that takes in other functions as arguments). Lambda functions are used along with built-in functions like filter(), map(),reduce() and so on......\n",
    "\n",
    "The **filter()** function in Python takes in a function and a list as arguments. This offers an elegant way to filter out all the elements of a sequence “sequence”, for which the function returns True.\n",
    "        \n",
    "        filter(<function/function name>,list)"
   ]
  },
  {
   "cell_type": "code",
   "execution_count": null,
   "metadata": {},
   "outputs": [],
   "source": [
    "li = [7,56,87,46,98,9,8,88,95,76,59,37] \n",
    "filterli = list(filter(lambda x: (x%2 != 0) , li)) # get the odd numbers, print only true values\n",
    "print(filterli) "
   ]
  },
  {
   "cell_type": "markdown",
   "metadata": {},
   "source": [
    "The <b>map()</b> function in Python takes in a function and a list as argument. The function is called with a lambda function and a list and a new list is returned which contains all the lambda modified items returned by that function for each item.\n"
   ]
  },
  {
   "cell_type": "code",
   "execution_count": null,
   "metadata": {},
   "outputs": [],
   "source": [
    "li = [7,56,87,46,98,9,8,88,95,76,59,37] \n",
    "mapli = list(map(lambda x: (x%2 != 0) , li)) # check whether the particular number is odd or not(giving boolean)\n",
    "print(mapli) "
   ]
  },
  {
   "cell_type": "code",
   "execution_count": null,
   "metadata": {},
   "outputs": [],
   "source": [
    "li = [6,8,4,7,4,3,6,8,2] \n",
    "mli = list(map(lambda x: x*2  , li)) # multiply every element of list with 2\n",
    "print(mli) "
   ]
  },
  {
   "cell_type": "markdown",
   "metadata": {},
   "source": [
    "The <b>reduce()</b> function in Python takes in a function and a list as argument. The function is called with a lambda function and a list and a new reduced result is returned. This performs a repetitive operation over the pairs of the list. The reduce() function takes a function and an iterable and returns a single value.This function is defined in functools module."
   ]
  },
  {
   "cell_type": "code",
   "execution_count": null,
   "metadata": {},
   "outputs": [],
   "source": [
    "from functools import reduce\n",
    "li = [1,2,3,4,5]\n",
    "sum = reduce((lambda x, y: x + y), li)\n",
    "print(sum)"
   ]
  },
  {
   "cell_type": "code",
   "execution_count": null,
   "metadata": {},
   "outputs": [],
   "source": [
    "#maximum element from list\n",
    "from functools import reduce\n",
    "li = [7,2,3,4,5,6]\n",
    "max = reduce((lambda x, y: x if x > y else y), li)\n",
    "print(max)"
   ]
  },
  {
   "cell_type": "markdown",
   "metadata": {},
   "source": [
    "## Modules\n",
    "A module is a python file containing statements and defnitions which we can use in another file by just importing.\n",
    "\n",
    "Eg: myfs.py is a python file that contains my defined functions and other statement that I often use. I can use the myfs.py file statements in another file.\n",
    "\n",
    "    import myfs"
   ]
  },
  {
   "cell_type": "code",
   "execution_count": null,
   "metadata": {},
   "outputs": [],
   "source": [
    "import myfs\n",
    "myfs.add(4,5)\n",
    "myfs.sub(8,4)\n",
    "myfs.div(8,3)\n",
    "myfs.mul(9,9)"
   ]
  },
  {
   "cell_type": "code",
   "execution_count": null,
   "metadata": {},
   "outputs": [],
   "source": [
    "import myfs as a #importing a module as a different name, helps in making use by a short name\n",
    "a.add(4,5)"
   ]
  },
  {
   "cell_type": "code",
   "execution_count": null,
   "metadata": {},
   "outputs": [],
   "source": [
    "from myfs import add #importing only a part of module\n",
    "add(4,5)\n",
    "sub(9,1)"
   ]
  },
  {
   "cell_type": "code",
   "execution_count": null,
   "metadata": {},
   "outputs": [],
   "source": [
    "from myfs import * #import all names\n",
    "add(8,4)\n",
    "sub(8,4)"
   ]
  },
  {
   "cell_type": "code",
   "execution_count": null,
   "metadata": {},
   "outputs": [],
   "source": [
    "import myfs\n",
    "dir(myfs) # dir() function returns the attributes and methods/ find out names defined inside a module"
   ]
  },
  {
   "cell_type": "code",
   "execution_count": null,
   "metadata": {},
   "outputs": [],
   "source": [
    "print(myfs.add.__doc__)# print the doc string"
   ]
  },
  {
   "cell_type": "markdown",
   "metadata": {},
   "source": [
    "## Classes and Objects in Python\n",
    "Python is an Object Oriented Programming Language. Almost everything in Python is an object, with its properties and methods.\n",
    "* A class is a blueprint from which specific objects are created.\n",
    "* Anything that has identity, state(attributes) and behaviour(methods) is object. We can create many objects from a class. An object is also called an instance of a class and the process of creating this object is called instantiation.\n",
    "\n",
    "#### Syntax\n",
    "    class <class_name>:\n",
    "        '''DocString'''\n",
    "        <Statements(attributes and functions)>\n",
    "        \n",
    "        \n",
    " ----\n",
    "As soon as we define a class, a new class object is created with the same name. This class object allows us to access the different attributes as well as to instantiate new objects of that class."
   ]
  },
  {
   "cell_type": "code",
   "execution_count": null,
   "metadata": {},
   "outputs": [],
   "source": [
    "class sportscar:  \n",
    "    \n",
    "    # attribute \n",
    "    category = \"Vehicle\"\n",
    "    furthercat= \"Sports\"\n",
    "    speed=\"High\"\n",
    "    \n",
    "    # A sample method   \n",
    "    def dream(self):  \n",
    "        print(\"Category: \", self.category) \n",
    "        print(\"Type: \", self.furthercat)\n",
    "        print(\"Speed: \", self.speed)\n",
    "        return(\"I am return Statement\")\n",
    "Bugati = sportscar()# Object instantiation (Bugati is an object of class luxury car)\n",
    "   \n",
    "# and method through objects \n",
    "print(Bugati.category) # Accessing class attributes\n",
    "Bugati.dream() #does not print the return statement of method even if return statement is present \n",
    "Lamborghini=sportscar() #another object\n",
    "print(Lamborghini.dream()) # Accessing method/function\n",
    "\n",
    "\n",
    "print(\"\\n\",type(Bugati))"
   ]
  },
  {
   "cell_type": "markdown",
   "metadata": {},
   "source": [
    "---\n",
    "<b>self</b> represents the instance of the class. By using the “self” keyword we can access the attributes and methods of the class in python. It binds the attributes with the given arguments. \n",
    "* The self parameter is a reference to the current instance of the class, and is used to access variables that belongs to the class. \n",
    "* It does not have to be named self , you can call it whatever you like, but it has to be the first parameter of any function in the class:\n",
    "\n",
    "### The __init__() Function of class\n",
    "Class functions that begin with double underscore __ are called special functions as they have special meaning, can be called as constructors. Like methods, a constructor also contains a collection of statements(i.e. instructions) that are executed at the time of Object creation. It is run as soon as an object of a class is instantiated. The method is useful to do any initialization you want to do with your object."
   ]
  },
  {
   "cell_type": "code",
   "execution_count": null,
   "metadata": {},
   "outputs": [],
   "source": [
    "# A Sample class with init method  \n",
    "class success:  \n",
    "    \n",
    "    # init method or constructor   \n",
    "    def __init__(self, idea):  \n",
    "        self.idea = idea   \n",
    "    \n",
    "    # Sample Method   \n",
    "    def check(self):  \n",
    "        print(self.idea,\"will pay off\")  \n",
    "    \n",
    "i = success('Hard Work')  \n",
    "i.check()  "
   ]
  },
  {
   "cell_type": "markdown",
   "metadata": {},
   "source": [
    "## <u>Data Strutures in Python</u>\n",
    "Data structures are fundamental concepts of computer science which helps is writing efficient programs in any language. A data structure is a particular way of organizing data in a computer so that it can be used effectively."
   ]
  },
  {
   "cell_type": "markdown",
   "metadata": {},
   "source": [
    "### <u>Python Specific Data Structures</u>\n",
    "* Lists\n",
    "* Tuples\n",
    "* Dictionary"
   ]
  },
  {
   "cell_type": "markdown",
   "metadata": {},
   "source": [
    "### <u>Linear Data Structures</u>\n",
    "Data structure where data elements are arranged sequentially or linearly where the elements are attached to its previous and next adjacent in what is called a linear data structure.\n",
    "* Array: It is a sequential arrangement of data elements paired with the index of the data element.\n",
    "* Stack: It is a data structure which follows only to specific order of operation. LIFO(last in First Out) or FILO(First in Last Out).\n",
    "* Queue: It is similar to Stack but the order of operation is only FIFO(First In First Out).\n",
    "* Linked List: Each data element contains a link to another element along with the data present in it.\n",
    "* Matrix: It is two dimensional data structure in which the data element is referred by a pair of indices. "
   ]
  },
  {
   "cell_type": "markdown",
   "metadata": {},
   "source": [
    "### Array\n",
    "\n",
    "    from array import *\n",
    "    arrayName = array(typecode, [Initializers])"
   ]
  },
  {
   "cell_type": "code",
   "execution_count": null,
   "metadata": {},
   "outputs": [],
   "source": [
    "help(array)"
   ]
  },
  {
   "cell_type": "code",
   "execution_count": null,
   "metadata": {},
   "outputs": [],
   "source": [
    "from array import * #importing the array package\n",
    "ar = array('i', [78,80,73,89,99])\n",
    "for x in ar:\n",
    "    print(x)\n",
    "print(\"The 2nd element: \",ar[1])# accessing the 2nd element (indexing starts from 0)\n",
    "ar.insert(4,80) #insertion\n",
    "print(ar)\n",
    "for y in ar:\n",
    "    print(y)"
   ]
  },
  {
   "cell_type": "code",
   "execution_count": null,
   "metadata": {},
   "outputs": [],
   "source": [
    "ar.remove(73) #deletion of an element\n",
    "print(ar)\n",
    "\n",
    "ar[1]=82  #updation\n",
    "print(\"After Updation: \",ar)"
   ]
  },
  {
   "cell_type": "markdown",
   "metadata": {},
   "source": [
    "### Stack\n",
    "Data structure organizes the storage in computers so that we can easily access and change data. Stacks and Queues are the earliest data structure defined in computer science. In general speaking, the word stack means arranging objects on over another. A Stack is a data structure that follows the LIFO(Last In First Out) principle. To implement a stack, we need two simple operations:\n",
    "* <b>Push</b> - It adds an element to the top of the stack.\n",
    "* <b>Pop</b> - It removes an element from the top of the stack.\n",
    "\n",
    "<b>Traversing </b> is the process of visiting each element of the stack."
   ]
  },
  {
   "cell_type": "code",
   "execution_count": null,
   "metadata": {},
   "outputs": [],
   "source": [
    "# Code to demonstrate Implementation of stack using list   \n",
    "mlr = [\"Python\", \"Algebra\",\"Statitics\", \"Calculus\"]   \n",
    "mlr.append(\"Probability\")   \n",
    "mlr.append(\"Hard Work\")   \n",
    "print(mlr) \n",
    "print(mlr.pop()) #it removes the last index value and returns the  element  \n",
    "print(mlr)   \n",
    "print(mlr.pop())   \n",
    "print(mlr)   "
   ]
  },
  {
   "cell_type": "code",
   "execution_count": null,
   "metadata": {},
   "outputs": [],
   "source": [
    "class Stack:\n",
    "    def __init__(self):\n",
    "        self.stack=[]\n",
    "    def push(self,val):\n",
    "        self.stack.append(val)\n",
    "    def pop(self):\n",
    "        if self.stack==[]:\n",
    "            print(\"Stack is empty\")\n",
    "        else:\n",
    "            print(self.stack.pop(),\"is removed from the Stack\")\n",
    "    def traverse(self):\n",
    "        print(self.stack,\"  Top of Stack:\",self.stack[-1])"
   ]
  },
  {
   "cell_type": "code",
   "execution_count": null,
   "metadata": {},
   "outputs": [],
   "source": [
    "a=Stack() #object of Stack\n",
    "a.push('First')\n",
    "a.push('Second')\n",
    "a.push('Third')\n",
    "a.push('Fourth')\n",
    "a.push('Fifth')\n",
    "a.traverse()\n",
    "a.pop()\n",
    "a.traverse()"
   ]
  },
  {
   "cell_type": "markdown",
   "metadata": {},
   "source": [
    "### Queue\n",
    "A queue is a collection of objects that supports first-in, first-out (FIFO) semantics for inserts and deletes. The insert and delete operations sometimes called enqueue and dequeue. A Queue follows the First-in-First-Out (FIFO) principle. With a queue the least recently added item is removed first.\n"
   ]
  },
  {
   "cell_type": "code",
   "execution_count": null,
   "metadata": {},
   "outputs": [],
   "source": [
    "class Queue:\n",
    "    def __init__(self):\n",
    "        self.queue = list()\n",
    "        \n",
    "    def insert(self,val):\n",
    "        if val not in self.queue:\n",
    "            self.queue.insert(0,val)\n",
    "            return True\n",
    "        return False\n",
    "    \n",
    "    def remove(self):\n",
    "        if len(self.queue)>0:\n",
    "            return self.queue.pop()\n",
    "        return (\"No elements in Queue!\")\n",
    "    \n",
    "    def size(self):\n",
    "        return len(self.queue)\n",
    "    \n",
    "    def traverse(self):\n",
    "        print(self.queue[::-1])\n",
    "q = Queue()\n",
    "q.insert(\"Mon\")\n",
    "q.insert(\"Tue\")\n",
    "q.insert(\"Wed\")\n",
    "q.traverse()\n",
    "print(q.remove())\n",
    "print(\"Size of Queue: \",q.size())\n",
    "q.traverse()"
   ]
  },
  {
   "cell_type": "code",
   "execution_count": null,
   "metadata": {},
   "outputs": [],
   "source": [
    "from queue import Queue #Queue is built-in module of Python which is used to implement a queue.   \n",
    "q = Queue(maxsize=3) #Intilialize a queue with the size of the queue\n",
    "#q = Queue() #Can be intialized without a size\n",
    "\n",
    "# qsize() give the maxsize of the Queue  \n",
    "print(\"Size of Queue\",q.qsize())  \n",
    "  \n",
    "# Add(put) elements to queue \n",
    "q.put('Python') \n",
    "q.put('C') \n",
    "q.put('C++')  \n",
    "# Check for Full Queue  \n",
    "print(\"\\nFull: \", q.full())\n",
    "\n",
    "qu=[x for x in list(q.queue)] #Traversing/Viewing the queue\n",
    "print(qu,\"\\n\")\n",
    "  \n",
    "# Remove elements from queue (First In First Out) \n",
    "print(q.get(),\"removed from queue\") #Remove First in element and  print the removed element\n",
    "print(q.get(),\"removed from queue\") \n",
    "print(q.get(),\"removed from queue\") \n",
    "  \n",
    "# Check for Empty Queue  \n",
    "print(\"\\nQueue Empty ?: \", q.empty()) \n",
    "q.put(\"el1\") \n",
    "q.put(\"el2\")\n",
    "print(\"\\nQueue Empty ?: \", q.empty())  \n",
    "print(\"Full: \", q.full()) \n",
    "\n",
    "for n in list(q.queue): #Traverse Queue\n",
    "    print(n, end=\" \")\n",
    "    "
   ]
  },
  {
   "cell_type": "markdown",
   "metadata": {},
   "source": [
    "### Linked List\n",
    "* Linked List is a linear data structure which consists of group of nodes in a sequence. A linked list is a sequence of data elements, which are connected together via links. Each node holds its own data and the address of the next node hence forming a chain like structure. Linked Lists are used to create trees and graphs.\n",
    "* Linked lists contain <b>nodes</b> which have a data part as well as an address part i.e. next, which points to the next node in the sequence of nodes.\n",
    "<p align=\"right\">\n",
    "  <img width=\"600\" height=\"600\" src=\"linkedlist.png\">\n",
    "</p>"
   ]
  },
  {
   "cell_type": "code",
   "execution_count": null,
   "metadata": {},
   "outputs": [],
   "source": [
    "class Node:  \n",
    "    def __init__(self, dataval=None):\n",
    "        self.dataval = dataval\n",
    "        self.nextval = None\n",
    "\n",
    "class SLinkedList:\n",
    "    def __init__(self):\n",
    "        self.headval = None\n",
    "\n",
    "    def traverse(self):\n",
    "        val = self.headval\n",
    "        while val is not None:\n",
    "            print (val.dataval)\n",
    "            val = val.nextval\n",
    "\n",
    "li = SLinkedList()\n",
    "li.headval = Node(\"AI\")\n",
    "ele2 = Node(\"Machine Learning\")\n",
    "ele3 = Node(\"Deep Learning\")\n",
    "ele4 = Node(\"Robot\")\n",
    "# Link first Node to second node\n",
    "li.headval.nextval = ele2\n",
    "# Link second Node to third node\n",
    "ele2.nextval = ele3\n",
    "# Link third Node to fourth node\n",
    "ele3.nextval = ele4\n",
    "\n",
    "li.traverse()"
   ]
  },
  {
   "cell_type": "markdown",
   "metadata": {},
   "source": [
    "### Matrix\n",
    "A matrix is a two-dimensional data structure where numbers are arranged into rows and columns."
   ]
  },
  {
   "cell_type": "code",
   "execution_count": null,
   "metadata": {},
   "outputs": [],
   "source": [
    "#Python doesn't have a built-in type for matrices. We can use list for creating a matrix\n",
    "\n",
    "m=[[4,9,6,7],[8,5,9,4]] # 4 columns 2 rows\n",
    "for r in m:\n",
    "    print(r,)\n",
    "\n",
    "# to access elements\n",
    "print(m[0][2]) #1st row 3rd column\n",
    "print(m[1][3]) #2nd row 4th column"
   ]
  },
  {
   "cell_type": "code",
   "execution_count": null,
   "metadata": {},
   "outputs": [],
   "source": [
    "from numpy import * \n",
    "a = array([['Mon',18,20,22,17],['Tue',11,18,21,18], ['Wed',15,21,20,19], ['Thu',11,20,22,21], ['Fri',18,17,23,22], ['Sat',12,22,20,18], ['Sun',13,15,19,16]])\n",
    "print(a,\"\\n\")\n",
    "\n",
    "ar = append(a,[['Avg',12,15,13,11]],0)#add row\n",
    "print(ar,\"\\n\")\n",
    "\n",
    "ac = insert(a,[5],[[1],[2],[3],[4],[5],[6],[7]],1) #add column\n",
    "print(ac,\"\\n\")\n",
    "\n",
    "print(ac[1],\"\\n\")\n",
    "\n",
    "print(ac[4][3]) \n"
   ]
  },
  {
   "cell_type": "markdown",
   "metadata": {},
   "source": [
    "### <u>Non-Linear Data Structures</u>\n",
    "Data structures where data elements are not arranged sequentially or linearly are called non-linear data structures.\n",
    "* Binary Tree: It is a data structure where each data element can be connected to maximum two other data elements and it starts with a root node.\n",
    "* Heap: It is a special case of Tree data structure where the data in the parent node is either strictly greater than/ equal to the child nodes or strictly less than it’s child nodes.\n",
    "* Hash Table: It is a data structure which is made of arrays associated with each other using a hash function. It retrieves values using keys rather than index from a data element.\n",
    "* Graph: It is an arrangement of vertices and nodes where some of the nodes are connected to each other through links."
   ]
  },
  {
   "cell_type": "markdown",
   "metadata": {},
   "source": [
    "### Binary Tree\n",
    "A binary tree is a hierarchical data structure in which each node has at most two children generally referred as left child and right child. Binary tree is generally partitioned into three disjoint subsets. \n",
    "* Root of the node .\n",
    "* Left sub-tree which is also a binary tree. \n",
    "* Right binary sub-tree\n",
    "<p align=\"right\">\n",
    "  <img width=\"500\" height=\"500\" src=\"binarytree.png\">\n",
    "</p>\n",
    "\n",
    "\n",
    " Python's binarytree library helps to directly implement a binary tree.\n",
    "       \n",
    "       pip3 install binarytree "
   ]
  },
  {
   "cell_type": "code",
   "execution_count": null,
   "metadata": {},
   "outputs": [],
   "source": [
    "from binarytree import Node \n",
    "root = Node(3) \n",
    "root.left = Node(6) \n",
    "root.right = Node(8)  \n",
    "# Getting binary tree \n",
    "print('Binary tree :', root) \n",
    "  \n",
    "# Getting list of nodes \n",
    "print('List of nodes :', list(root)) \n",
    "  \n",
    "\n",
    "print('Inorder of nodes :', root.inorder) \n",
    "  \n",
    "print('Size of tree :', root.size) \n",
    "print('Height of tree :', root.height) \n"
   ]
  },
  {
   "cell_type": "code",
   "execution_count": null,
   "metadata": {},
   "outputs": [],
   "source": [
    "help(Node)"
   ]
  },
  {
   "cell_type": "markdown",
   "metadata": {},
   "source": [
    "######  Creating binary tree  from given list \n"
   ]
  },
  {
   "cell_type": "code",
   "execution_count": null,
   "metadata": {},
   "outputs": [],
   "source": [
    "from binarytree import build \n",
    "  \n",
    "# List of nodes \n",
    "nodes =[87, 86, 98, 92, 79, None, 93] #first node will always be root node\n",
    "  \n",
    "btree = build(nodes) # Builidng the binary tree \n",
    "print('Binary tree from list :\\n', btree) \n",
    "  \n",
    "# Getting list of nodes from binarytree \n",
    "print('\\nList from binary tree :', btree.values) \n"
   ]
  },
  {
   "cell_type": "markdown",
   "metadata": {},
   "source": [
    "### Heap\n",
    "* Heap is a special tree structure in which each parent node is less than or equal to its child node. Heaps help you quickly retrieve objects with the smallest or the largest key.We can say that we can use heaps when we want to retrieve the maximum or minimum object in constant time.\n",
    "* The property of this data structure in Python is that each time the smallest of heap element is popped(min heap).\n",
    "* A<b> heap</b> is created by using python’s inbuilt library named heapq."
   ]
  },
  {
   "cell_type": "code",
   "execution_count": null,
   "metadata": {},
   "outputs": [],
   "source": [
    "import heapq # importing \"heapq\" to implement heap queue \n",
    "\n",
    "li = [5, 7, 9, 1, 3] \n",
    "print(\"List is : \",li)\n",
    "heapq.heapify(li) #convert list into heap \n",
    "print (\"Heap : \",li) # print heap\n",
    "\n",
    "heapq.heappush(li,4) #using heappush() to push elements onto heap \n",
    "print (\"The modified heap : \",li) \n",
    "\n",
    "heapq.heappop(li) \n",
    "print (\"Heap Now : \",li) \n",
    "\n",
    "heapq.heappop(li) \n",
    "print (\"Heap Now : \",li) \n",
    "\n",
    "heapq.heappushpop(li,8)#push and pop simultaneously\n",
    "print(\"After heappushpop() : \",li)\n",
    "heapq.heapreplace(li,9)#replace the min element\n",
    "print(\"After heapreplace() : \",li)\n",
    "\n",
    "print(\"Three largest numbers on heap: \",heapq.nlargest(3, li)) \n",
    "print(\"Three smallest numbers on heap: \",heapq.nsmallest(3, li)) \n"
   ]
  },
  {
   "cell_type": "markdown",
   "metadata": {},
   "source": [
    "### Hash Table\n",
    "* In computer science, a Hash table is a type of data structure that maps keys to its value pairs (implement abstract array data types). Hash tables are a type of data structure in which the address or the index value of the data element is generated from a hash function. \n",
    "* In Python, these Hash tables are implemented through the built-in data type i.e, dictionary. The keys of a dictionary in Python are generated by a hashing function. The elements of a dictionary are not ordered and they can be changed."
   ]
  },
  {
   "cell_type": "code",
   "execution_count": null,
   "metadata": {},
   "outputs": [],
   "source": [
    "essential={1:'logic',2:'Syntax','third':'success'}\n",
    "print(essential)\n",
    "print(type(essential))"
   ]
  },
  {
   "cell_type": "code",
   "execution_count": null,
   "metadata": {},
   "outputs": [],
   "source": [
    "print(essential[1])\n",
    "print(essential['third'])"
   ]
  },
  {
   "cell_type": "code",
   "execution_count": null,
   "metadata": {},
   "outputs": [],
   "source": [
    "#updating a dictionary\n",
    "essential[4]='Python'\n",
    "print(essential)"
   ]
  },
  {
   "cell_type": "code",
   "execution_count": null,
   "metadata": {},
   "outputs": [],
   "source": [
    "for m,n in essential.items():\n",
    "    print(m,n)"
   ]
  },
  {
   "cell_type": "markdown",
   "metadata": {},
   "source": [
    "### Graph\n",
    "A graph is a pictorial representation of a set of objects where some pairs of objects are connected by links. The interconnected objects are represented by points termed as vertices, and the links that connect the vertices are called edges.\n"
   ]
  },
  {
   "cell_type": "code",
   "execution_count": null,
   "metadata": {},
   "outputs": [],
   "source": [
    "#graph using dictionary\n",
    "graph = { \"a\" : [\"b\",\"c\"],\n",
    "          \"b\" : [\"a\", \"d\"],\n",
    "          \"c\" : [\"a\", \"d\"],\n",
    "          \"d\" : [\"e\"],\n",
    "          \"e\" : [\"b\"]\n",
    "         }\n",
    " \n",
    "print(graph)"
   ]
  },
  {
   "cell_type": "code",
   "execution_count": null,
   "metadata": {},
   "outputs": [],
   "source": [
    "class graph:\n",
    "    def __init__(self,gdict=None):\n",
    "        if gdict is None:\n",
    "            gdict = []\n",
    "        self.gdict = gdict\n",
    "\n",
    "    def getVertices(self): #get keys\n",
    "        return list(self.gdict.keys())    \n",
    "\n",
    "    def edges(self):\n",
    "        edgename = []\n",
    "        for vrtx in self.gdict:\n",
    "            for nxtvrtx in self.gdict[vrtx]:\n",
    "                if {nxtvrtx, vrtx} not in edgename:\n",
    "                    edgename.append({vrtx, nxtvrtx})\n",
    "        return edgename\n",
    "    \n",
    "    def addVertex(self, vrtx): #add vertex (key)\n",
    "        if vrtx not in self.gdict:\n",
    "            self.gdict[vrtx] = []\n",
    "            print(\"New Vertex add: \",vrtx)\n",
    "\n",
    "    def AddEdge(self, edge):\n",
    "        edge = set(edge)\n",
    "        (vrtx1, vrtx2) = tuple(edge)\n",
    "        if vrtx1 in self.gdict:\n",
    "            self.gdict[vrtx1].append(vrtx2)\n",
    "        else:\n",
    "            self.gdict[vrtx1] = [vrtx2]\n",
    "        print(\"New edge: \",{vrtx1,vrtx2})\n",
    "            \n",
    "            \n",
    "graph_elements = { \"a\" : [\"b\",\"c\"],\n",
    "                \"b\" : [\"a\", \"d\"],\n",
    "                \"c\" : [\"a\", \"d\"],\n",
    "                \"d\" : [\"e\"],\n",
    "                \"e\" : [\"c\"]\n",
    "                }\n",
    "\n",
    "g = graph(graph_elements)\n",
    "print(g.getVertices())\n",
    "print(g.edges())\n",
    "\n",
    "g.addVertex(\"f\")\n",
    "g.AddEdge({'e','f'})\n",
    "\n",
    "print(g.getVertices())\n",
    "print(g.edges())\n"
   ]
  },
  {
   "cell_type": "markdown",
   "metadata": {},
   "source": [
    "<b>The final graph g above can be illustrated as:</b>\n",
    "<p align=\"right\">\n",
    "  <img width=\"200\" height=\"200\" src=\"graph.jpeg\">\n",
    "</p>"
   ]
  },
  {
   "cell_type": "markdown",
   "metadata": {},
   "source": [
    "## Exception Handling\n",
    "#### An exception is an event, which occurs during the execution of a program that disrupts the normal flow of the program's instructions. When an error occurs, or exception as we call it, Python will normally stop and generate an error message. Python provides very important feature to handle any unexpected error in your Python programs and to add debugging capabilities.\n",
    "\n",
    "* The try block lets you test a block of code for errors.\n",
    "* The except block lets you handle the error.\n",
    "* The finally block lets you execute code, regardless of the result of the try- and except blocks."
   ]
  },
  {
   "cell_type": "code",
   "execution_count": null,
   "metadata": {},
   "outputs": [],
   "source": [
    "nstr=input('Enter a number: ')\n",
    "nint=int(nstr)"
   ]
  },
  {
   "cell_type": "code",
   "execution_count": null,
   "metadata": {},
   "outputs": [],
   "source": [
    "nstr=input('Enter a number: ')\n",
    "try:\n",
    "    nint=int(nstr)\n",
    "except:\n",
    "    nint=-1\n",
    "if nint<0:\n",
    "    print(\"Not a numeric and Exception has been Nicely Handled\")\n",
    "else:\n",
    "    print(\"The Number is\",nint)"
   ]
  },
  {
   "cell_type": "code",
   "execution_count": null,
   "metadata": {},
   "outputs": [],
   "source": [
    "#there can be multiple except statement to catch different exceptions\n",
    "l = ['h', 0, 87]\n",
    "\n",
    "for entry in l:\n",
    "    try:\n",
    "        print(\"The entry is\", entry)\n",
    "        r = 1/int(entry)\n",
    "        break\n",
    "    except ZeroDivisionError:\n",
    "        print(\"Division by 0 is not a worthy statement\\n\")\n",
    "    except Exception as e:\n",
    "        print(\"Oops!\",e.__class__, \"occurred.\") #print the type of error/exception\n",
    "        print(\"Next entry.\")\n",
    "        print()\n",
    "print(\"The reciprocal of\", entry, \"is\", r) "
   ]
  },
  {
   "cell_type": "markdown",
   "metadata": {},
   "source": [
    "#### try-except-else\n",
    "\n",
    "    try:\n",
    "       You do your operations here;\n",
    "       ......................\n",
    "    except ExceptionI:\n",
    "       If there is ExceptionI, then execute this block.\n",
    "    except ExceptionII:\n",
    "       If there is ExceptionII, then execute this block.\n",
    "       ......................\n",
    "    else:\n",
    "       If there is no exception then execute this block."
   ]
  },
  {
   "cell_type": "code",
   "execution_count": null,
   "metadata": {},
   "outputs": [],
   "source": [
    "try:\n",
    "    print(\"Hello\")\n",
    "except:\n",
    "    print(\"Excpetion here but handled\")\n",
    "else:\n",
    "    print(\"I am else statement and there is no exception\")"
   ]
  },
  {
   "cell_type": "code",
   "execution_count": null,
   "metadata": {},
   "outputs": [],
   "source": [
    "try:\n",
    "    print(89/0)\n",
    "except:\n",
    "    print(\"Excpetion here but handled\")\n",
    "else:\n",
    "    print(\"I am else statement\")"
   ]
  },
  {
   "cell_type": "markdown",
   "metadata": {},
   "source": [
    "#### finally clause: \n",
    "The try statement in Python can have an optional finally clause. This clause is executed no matter what, and is generally used to release external resources."
   ]
  },
  {
   "cell_type": "code",
   "execution_count": null,
   "metadata": {},
   "outputs": [],
   "source": [
    "try:\n",
    "    print(80/'a')\n",
    "except:\n",
    "    print(\"Exception is handled\")\n",
    "finally:                       #Finally block be like: Doesnt matter what happens, I will get executed\n",
    "    print(\"I am finally block\")"
   ]
  },
  {
   "cell_type": "markdown",
   "metadata": {},
   "source": [
    "### Raising Exceptions\n",
    "Python raises exception when an error occurs but we can also raise an exception using the keyword <b>raise</b> "
   ]
  },
  {
   "cell_type": "code",
   "execution_count": null,
   "metadata": {},
   "outputs": [],
   "source": [
    "n=int(input(\"Enter a positive Integer:\"))\n",
    "if n<0:    \n",
    "    raise ValueError(\"Give me a Positive Number\")\n",
    "else:\n",
    "    print(\"Thanks\")"
   ]
  },
  {
   "cell_type": "code",
   "execution_count": null,
   "metadata": {},
   "outputs": [],
   "source": [
    "try:\n",
    "    n=int(input(\"Enter a positive number:\"))\n",
    "    if n<0:\n",
    "        raise ValueError(\"Error: Not a Positive Number\")\n",
    "    else:\n",
    "        print(\"Positive Number:\",n)\n",
    "except ValueError as e:\n",
    "    print(e)"
   ]
  },
  {
   "cell_type": "markdown",
   "metadata": {},
   "source": [
    "## File Handling\n",
    "Files are named locations on disk to store related information. They are used to permanently store data in a non-volatile memory. Python supports file handling and allows users to handle files i.e., to read and write files, along with many other file handling options, to operate on files. Python has several functions for creating, reading, updating, and deleting files."
   ]
  },
  {
   "cell_type": "markdown",
   "metadata": {},
   "source": [
    "### Opening a file\n",
    "    handle=open(<filename>,<mode>)\n",
    "    handle.close()\n",
    "Modes:\n",
    "* **\"r\"** - Opens a file for reading. (default)\n",
    "* **\"w\"** - Opens a file for writing. Creates a new file if it does not exist or truncates the file if it exists.\n",
    "* **\"x\"** - Opens a file for exclusive creation. If the file already exists, the operation fails.\n",
    "* **\"a\"** - Opens a file for appending at the end of the file without truncating it. Creates a new file if it does not exist.\n",
    "* **\"t\"** - Opens in text mode. (default)\n",
    "* **\"b\"** - Opens in binary mode.\n",
    "* **\"+\"** - Opens a file for updating (reading and writing)\n",
    "\n",
    "A text file can be thought of as a sequence of lines.\n",
    "\n",
    "    You should always close your files, in some cases, due to buffering, changes made to a file may not show until you close the file."
   ]
  },
  {
   "cell_type": "code",
   "execution_count": null,
   "metadata": {},
   "outputs": [],
   "source": [
    "fhand=open('myfile.txt','r')# returns a file handle used to manipulate the file\n",
    "print(fhand)"
   ]
  },
  {
   "cell_type": "markdown",
   "metadata": {},
   "source": [
    "<p align=\"right\">\n",
    "  <img width=\"400\" height=\"400\" src=\"filehandle.png\">\n",
    "</p>\n",
    "A file handle open for read can be treated as a sequene of strings where each line is a file is a string in the sequence, we can use the 'for' statement to iterate through a sequence."
   ]
  },
  {
   "cell_type": "code",
   "execution_count": null,
   "metadata": {},
   "outputs": [],
   "source": [
    "for l in fhand:\n",
    "    print(l)\n",
    "fhand.close() #close the file"
   ]
  },
  {
   "cell_type": "code",
   "execution_count": null,
   "metadata": {},
   "outputs": [],
   "source": [
    "#counting lines in a file\n",
    "f=open('myfile.txt','r')\n",
    "count=0\n",
    "for line in f:\n",
    "    count=count+1\n",
    "print(\"Number of lines: \",count)\n",
    "f.close()"
   ]
  },
  {
   "cell_type": "markdown",
   "metadata": {},
   "source": [
    "### reading the whole file \n",
    "we can read the whole file(lines and all) into a single string"
   ]
  },
  {
   "cell_type": "code",
   "execution_count": null,
   "metadata": {},
   "outputs": [],
   "source": [
    "file=open('myfile.txt','r')\n",
    "inp=file.read()\n",
    "print(len(inp))\n",
    "print(inp)\n",
    "print(inp[0:7])"
   ]
  },
  {
   "cell_type": "code",
   "execution_count": null,
   "metadata": {},
   "outputs": [],
   "source": [
    "file=open('myfile.txt')\n",
    "for l in file:\n",
    "    print(l)"
   ]
  },
  {
   "cell_type": "code",
   "execution_count": null,
   "metadata": {},
   "outputs": [],
   "source": [
    "file=open('myfile.txt')\n",
    "print(file.read(7),\"\\n\")\n",
    "print(file.readline())# read line\n",
    "print(file.readline())# read next line\n",
    "print(file.readline())# read next line\n",
    "# The strings that has been read are not read again ntil new handle is created\n",
    "file.close()"
   ]
  },
  {
   "cell_type": "code",
   "execution_count": null,
   "metadata": {},
   "outputs": [],
   "source": [
    "hand=open('mbox.txt')\n",
    "for line in hand:\n",
    "    line=line.rstrip()\n",
    "    if line.find('From: ')>=0: #If substring doesn't exist inside the string, it returns -1.\n",
    "        print(line)"
   ]
  },
  {
   "cell_type": "code",
   "execution_count": null,
   "metadata": {},
   "outputs": [],
   "source": [
    "#search through a file\n",
    "fhand=open(\"myfile.txt\")\n",
    "for line in fhand:\n",
    "    if line.startswith(\"Thunder\"):\n",
    "        print(line)"
   ]
  },
  {
   "cell_type": "markdown",
   "metadata": {},
   "source": [
    "* Each line from the file is considered new line and print statement adds a new line  to each line which gives a blank line between each line.   \n",
    "* We can strip the whitespaces from right hand side of the string using rstrip() from the string library. The newline is considered whitespace and is stripped."
   ]
  },
  {
   "cell_type": "code",
   "execution_count": null,
   "metadata": {},
   "outputs": [],
   "source": [
    "fhand=open(\"myfile.txt\")\n",
    "for line in fhand:\n",
    "    line=line.rstrip()\n",
    "    if line.startswith(\"Thunder\"):\n",
    "        print(line)\n",
    "fhand.close()"
   ]
  },
  {
   "cell_type": "markdown",
   "metadata": {},
   "source": [
    "**We can conveniently skip a line using the continue statement**\n"
   ]
  },
  {
   "cell_type": "code",
   "execution_count": null,
   "metadata": {},
   "outputs": [],
   "source": [
    "fhand=open(\"myfile.txt\")\n",
    "for line in fhand:\n",
    "    line=line.rstrip()\n",
    "    if line.startswith('Thunder'):\n",
    "        continue\n",
    "    print(line)"
   ]
  },
  {
   "cell_type": "markdown",
   "metadata": {},
   "source": [
    "**We can look for a string anywhere in a line as per our slection criteria**\n"
   ]
  },
  {
   "cell_type": "code",
   "execution_count": null,
   "metadata": {},
   "outputs": [],
   "source": [
    "fhand=open(\"myfile.txt\")\n",
    "for line in fhand:\n",
    "    line=line.rstrip()\n",
    "    if not 'I' in line: # print lines that has 'I' in it\n",
    "        continue\n",
    "    print(line)\n",
    "fhand.close()"
   ]
  },
  {
   "cell_type": "markdown",
   "metadata": {},
   "source": [
    "#### Asking user for file name"
   ]
  },
  {
   "cell_type": "code",
   "execution_count": null,
   "metadata": {},
   "outputs": [],
   "source": [
    "fname=input(\"Enter the filename with extension: \")\n",
    "fhand=\"\"\n",
    "try:\n",
    "    fhand=open(fname)\n",
    "except:\n",
    "    print(\"File Can't be Opened\",fname)\n",
    "count=0\n",
    "for line in fhand:\n",
    "    line=line.rstrip()\n",
    "    print(line)\n",
    "    count=count+1\n",
    "print(\"Line Count: \",count)"
   ]
  },
  {
   "cell_type": "markdown",
   "metadata": {},
   "source": [
    "### write/create files"
   ]
  },
  {
   "cell_type": "code",
   "execution_count": null,
   "metadata": {},
   "outputs": [],
   "source": [
    "f = open(\"myfile.txt\", \"a\")# in append mode\n",
    "f.write(\"****Chat \")\n",
    "f.write(\"Over****\")\n",
    "f.close()\n",
    "\n",
    "#open and read the file after the appending:\n",
    "f = open(\"myfile.txt\", \"r\")\n",
    "print(f.read()) "
   ]
  },
  {
   "cell_type": "code",
   "execution_count": null,
   "metadata": {},
   "outputs": [],
   "source": [
    "# w mode overwrited the entire file\n",
    "\n",
    "f = open(\"myfile.txt\", \"w\")\n",
    "f.write(\"I have overwritten the Content\")\n",
    "f.close()\n",
    "\n",
    "f = open(\"myfile.txt\", \"r\")\n",
    "print(f.read()) "
   ]
  },
  {
   "cell_type": "code",
   "execution_count": null,
   "metadata": {},
   "outputs": [],
   "source": [
    "# create a file\n",
    "try:\n",
    "    f = open(\"mynewfile.txt\", \"x\") \n",
    "except:\n",
    "    print(\"File name already exist\")"
   ]
  },
  {
   "cell_type": "markdown",
   "metadata": {},
   "source": [
    "### Delete file"
   ]
  },
  {
   "cell_type": "code",
   "execution_count": null,
   "metadata": {},
   "outputs": [],
   "source": [
    "import os\n",
    "if os.path.exists(\"mynewfile.txt\"):\n",
    "    os.remove(\"mynewfile.txt\")\n",
    "else:\n",
    "    print(\"The file does not exist\") "
   ]
  },
  {
   "cell_type": "markdown",
   "metadata": {},
   "source": [
    "## Regular Expressions\n",
    "In computer,a regular expression, also referred to as \"regex\" or \"regexp\", provides a concise and flexible means for matching strings of text,such as particular characters, words or patterns of characters. A regular expression is written in a formal language that can be interpretted by a regular expression processor. \n",
    "\n",
    "[Wanna Know more?](https://docs.python.org/3/library/re.html)"
   ]
  },
  {
   "cell_type": "markdown",
   "metadata": {},
   "source": [
    "### Regular expression quick guide\n",
    "<p align=\"right\">\n",
    "  <img width=\"600\" height=\"600\" src=\"regex.jpg\">\n",
    "</p>"
   ]
  },
  {
   "cell_type": "code",
   "execution_count": null,
   "metadata": {},
   "outputs": [],
   "source": [
    "#import the regular expression module\n",
    "import re"
   ]
  },
  {
   "cell_type": "markdown",
   "metadata": {},
   "source": [
    "<p align=\"right\">\n",
    "  <img width=\"700\" height=\"700\" src=\"re.png\">\n",
    "</p>"
   ]
  },
  {
   "cell_type": "markdown",
   "metadata": {},
   "source": [
    "###### re.search() returns a True/False depending on whether the string matches the regular expression."
   ]
  },
  {
   "cell_type": "code",
   "execution_count": null,
   "metadata": {},
   "outputs": [],
   "source": [
    "hand=open('mbox.txt')\n",
    "for line in hand:\n",
    "    line=line.rstrip()\n",
    "    if re.search('From: ',line):\n",
    "        print(line)"
   ]
  },
  {
   "cell_type": "markdown",
   "metadata": {},
   "source": [
    "###### If we actually want the matching strings to be extracted, we use **re.findall()**"
   ]
  },
  {
   "cell_type": "code",
   "execution_count": null,
   "metadata": {},
   "outputs": [],
   "source": [
    "x=\"In my 2 favourite subjects, I scored 97 and 98 respectively.\"\n",
    "y=re.findall('[0-9]+',x)\n",
    "print(y)"
   ]
  },
  {
   "cell_type": "code",
   "execution_count": null,
   "metadata": {},
   "outputs": [],
   "source": [
    "#The repeat characters(* and+) push outward in both directions(greedy) to match the largest possible string\n",
    "x='From: using the: character'\n",
    "y=re.findall('^F.+:',x)#starts with F and end :(leaving the first occurence of : and leads to last occurence)\n",
    "print(y)"
   ]
  },
  {
   "cell_type": "code",
   "execution_count": null,
   "metadata": {},
   "outputs": [],
   "source": [
    "x='From: using the: character'\n",
    "y=re.findall('^F.+?:',x)# stop at first occurence (Not greedy)\n",
    "print(y)"
   ]
  },
  {
   "cell_type": "code",
   "execution_count": null,
   "metadata": {},
   "outputs": [],
   "source": [
    "# Fine tuning string extraction\n",
    "hand=open('mbox-short.txt')\n",
    "for line in hand:\n",
    "    if re.findall('\\S+@\\S+',line):\n",
    "        y=re.findall('\\S+@\\S+',line)\n",
    "        print(y)"
   ]
  },
  {
   "cell_type": "code",
   "execution_count": null,
   "metadata": {},
   "outputs": [],
   "source": [
    "x=\"From stephen.marquard@uct.ac.za Sat Jan  5 09:14:16 2008\"\n",
    "y=re.findall('\\S+@\\S+',x)\n",
    "print(y)        "
   ]
  },
  {
   "cell_type": "code",
   "execution_count": null,
   "metadata": {},
   "outputs": [],
   "source": [
    "#Extracting domains\n",
    "hand=open('mbox-short.txt')\n",
    "for line in hand:\n",
    "    if re.findall('@([^ ]*)',line):\n",
    "        y=re.findall('@([^ ]*)',line)\n",
    "        print(y)"
   ]
  },
  {
   "cell_type": "code",
   "execution_count": null,
   "metadata": {},
   "outputs": [],
   "source": [
    "#Even Cooler Regex\n",
    "lin=\"From stephen@uct.ac.za Sat Jan  5 09:14:16 2008\"\n",
    "y=re.findall(\"^From.*@([^ ]*)\",lin)\n",
    "print(y)"
   ]
  },
  {
   "cell_type": "code",
   "execution_count": null,
   "metadata": {},
   "outputs": [],
   "source": [
    "txt = \"Python Programming is Fun\"\n",
    "x = re.search(\"C\", txt)# returns none object if match is not found\n",
    "y = re.search(\"P\", txt)# returns none object if match is not found\n",
    "print(x)\n",
    "print(y,\"\\nThe P located at\",y.start())\n",
    "z = re.findall(\"Pro\", txt)\n",
    "print(z)"
   ]
  },
  {
   "cell_type": "markdown",
   "metadata": {},
   "source": [
    "### span(), string, group()"
   ]
  },
  {
   "cell_type": "code",
   "execution_count": null,
   "metadata": {},
   "outputs": [],
   "source": [
    "import re\n",
    "s='How are you? How is everything?'\n",
    "matches= re.search(\"How\",s)\n",
    "print(matches.span()) #span\n",
    "print(matches.string) #the whole string containing the match \n",
    "print(matches.group())#The group() method returns the part of the string where there is a match.\n",
    "print(matches.re) #The re attribute of a matched object returns a regular expression object."
   ]
  },
  {
   "cell_type": "code",
   "execution_count": null,
   "metadata": {},
   "outputs": [],
   "source": [
    "txt = \"Python Programming is Fun\"\n",
    "x = re.split(\"\\s\", txt)#The split() function returns a list where the string has been split at each match\n",
    "y = re.split(\"\\s\", txt,1)\n",
    "print(x)\n",
    "print(y)"
   ]
  },
  {
   "cell_type": "code",
   "execution_count": null,
   "metadata": {},
   "outputs": [],
   "source": [
    "txt = \"Python programming is Fun\"\n",
    "x = re.sub(\"\\s\", \"-\", txt)#substitute the match with another\n",
    "print(x) "
   ]
  },
  {
   "cell_type": "markdown",
   "metadata": {},
   "source": [
    "#### Escape Characters\n",
    "If you want a special regular expression character to just behave normally(most of time), you prefix it with '\\'"
   ]
  },
  {
   "cell_type": "code",
   "execution_count": null,
   "metadata": {},
   "outputs": [],
   "source": [
    "import re\n",
    "x='We just received $10 for Freelance task'\n",
    "y=re.findall('\\$[0-9]+',x)\n",
    "print(y)"
   ]
  },
  {
   "cell_type": "markdown",
   "metadata": {},
   "source": [
    "### Using r prefix before RegEx\n",
    "When **r** or **R** prefix is used before a regular expression, it means raw string.  Python raw string treats backslash (\\) as a literal character. This is useful when we want to have a string that contains backslash and don't want it to be treated as an escape character."
   ]
  },
  {
   "cell_type": "code",
   "execution_count": null,
   "metadata": {},
   "outputs": [],
   "source": [
    "s = 'Hi\\nHello'\n",
    "print(s)"
   ]
  },
  {
   "cell_type": "code",
   "execution_count": null,
   "metadata": {},
   "outputs": [],
   "source": [
    "raws = r'Hi\\nHello'\n",
    "print(raws)"
   ]
  },
  {
   "cell_type": "code",
   "execution_count": null,
   "metadata": {},
   "outputs": [],
   "source": [
    "string = '\\n and \\r are escape sequences.'\n",
    "result = re.findall(r'[\\n\\r]', string) \n",
    "print(result)"
   ]
  },
  {
   "cell_type": "code",
   "execution_count": null,
   "metadata": {},
   "outputs": [],
   "source": []
  }
 ],
 "metadata": {
  "kernelspec": {
   "display_name": "Python 3",
   "language": "python",
   "name": "python3"
  },
  "language_info": {
   "codemirror_mode": {
    "name": "ipython",
    "version": 3
   },
   "file_extension": ".py",
   "mimetype": "text/x-python",
   "name": "python",
   "nbconvert_exporter": "python",
   "pygments_lexer": "ipython3",
   "version": "3.8.5"
  }
 },
 "nbformat": 4,
 "nbformat_minor": 4
}
