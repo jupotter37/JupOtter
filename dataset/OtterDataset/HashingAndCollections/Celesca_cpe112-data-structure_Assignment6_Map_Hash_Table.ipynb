{
 "cells": [
  {
   "cell_type": "markdown",
   "metadata": {},
   "source": [
    "![AlternativeLogo-eng.png](data:image/png;base64,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)"
   ]
  },
  {
   "attachments": {},
   "cell_type": "markdown",
   "metadata": {},
   "source": [
    "# Assignment6 Map"
   ]
  },
  {
   "cell_type": "markdown",
   "metadata": {},
   "source": [
    "### สิ่งที่ได้เรียนจากคลาสนี้\n",
    "\n",
    "* Data Structure ประเภท Map หรือ Dictionary ภาษา Python หมายถึง Data Structure ที่เก็บข้อมูล และสามารถอ้างอิงข้อมูล value ได้จาก key\n",
    "* การเข้าถึงข้อมูลของ Dictionary จริงๆแล้วเหมือนกับการที่เราเข้าถึง List 2 ตัวพร้อมกัน คือ List ของ key และ index กับ List index และ value\n",
    "* เนื่องจากการเข้าถึงมันต้องอ้างอิงผ่าน key มาก่อน บางครั้งจึงทำให้ใช้เวลานาน แต่ถ้าหากเราใช้คอนเซปที่ว่า เราแปลงให้ค่า key คล้ายกับค่า index ที่ใช้อ้างอิงใน List ก็คือป้อนค่า Key แล้วอ้างอิงถึง value ได้ทันทีเลย จึงเกิดเป็น Hash Table ขึ้นมา ซึ่งมี Time Complexity ใกล้กับ O(1)\n",
    "\n",
    "* Hash table จะมีการทำงานเรียกว่า Hash Function หลักการพื้นฐานของ Hash Function คือ\n",
    "1. ต้องเขียนง่ายๆ\n",
    "2. ป้อน Key เข้าไปต้องได้ค่าเดิม ไม่ใช่ ค่า Random\n",
    "3. ถ้าหาก Key มี Value หลายตัว จะต้องได้ข้อมูลออกมาทั้งหมดทุกตัว\n",
    "4. ขนาดของ Table ควรจะเป็น เลขจำนวนเฉพาะ เพราะการกระจายข้อมูลจะดีกว่า\n",
    "* Hash Function ประกอบด้วย 2 ส่วนหลักๆ คือ Hash code และ Compression Function\n",
    "* Hash code ทำหน้าที่ แปลง Key เป็นเลข Generate ตัวเลขออกมาให้กระจายตัวกัน เช่น Polynomial Hash code , Cyclic-Shift Hash code\n",
    "* Compression Function คือการทำให้ตัวเลขที่ผ่าน Hash code อยู่ในช่วงขนาดของ Table Size เช่น MAD Method (ตัวเลขใดๆถูก mod จะมี range ไม่เกิน mod)\n",
    "\n",
    "* Collision หรือการชน เกิดจากการที่มี 2 Key ขึ้นไป ได้ Generate ค่า Hash value ออกมาเป็นตัวเดียวกัน ทำให้เกิดการชนของข้อมูล เพราะที่ว่างเต็ม อาจทำให้ข้อมูลสูญหาย เราจึงมีวิธีการจัดการอยู่สองเทคนิค ได้แก่\n",
    "1. Open Addressing คือเมื่อห้องนั้นเต็มแล้ว ให้ทำการเลื่อน Key ให้ไปอยู่ในช่องถัดไป ไล่ไปทีละช่องจนกว่าจะเจอช่องที่ว่าง\n",
    "2. Seperate Chaining คือการทำให้ในช่องของข้อมูลเก็บเป็น list หรือเรียกว่า bucket คล้ายๆกับคอนโด\n",
    "\n",
    "* Load Factor คือ อัตราส่วนที่บอกจำนวนข้อมูลที่มีอยู่ ต่อ Capacity ของ Hash Table (หรือ Table Size)\n",
    "* โดยปกติแล้ว Seperate Chaining จะรักษา Load Factor ให้น้อยกว่า 0.9 และ Open Addressing รักษาไว้ที่ Load Factor น้อยกว่า 0.5"
   ]
  },
  {
   "cell_type": "markdown",
   "metadata": {},
   "source": [
    "**The Map ADT**\n",
    "\n",
    "A map represents a collection that unique *keys* are mapped to associated *values*.\n",
    "| properties/methods    | description    |\n",
    "| --- | --- |  \n",
    "| __Map()__: | Create a new Map |\n",
    "| __M[k]__: | Return the value *v* associated with key *k* in map *M*, if one exists; otherwise raise a KeyError. In Python, this is implemented with the special method \\_\\_getitem\\_\\_ .|\n",
    "| __M[k] = v__ | Associate value *v* with key *k* in map *M*, replacing the existing value if the map already contains an item with key equal to *k*. In Python, this is implemented with the special method \\_\\_setitem\\_\\_ .|\n",
    "| __del M[k]__| Remove from map *M* the item with key equal to *k*; if *M* has no such item, then raise a KeyError. In Python, this is implemented with the special method \\_\\_delitem\\_\\_ .|\n",
    "| __len(M)__| Return the number of items in map *M*. In Python, this is implemented with the special method \\_\\_len\\_\\_ .|\n",
    "| __iter(M)__| The default iteration for a map generates a sequence of keys in the map. In Python, this is implemented with the special method \\_\\_iter\\_\\_ , and it allows loops of the form, __for k in M__.|"
   ]
  },
  {
   "cell_type": "code",
   "execution_count": 68,
   "metadata": {},
   "outputs": [],
   "source": [
    "class Item: # เป็นตัว Node ของข้อมูลแต่ละช่อง\n",
    "    __slots__ = '_key','_value'\n",
    "    def __init__(self,k,v):\n",
    "        self._key = k # Instant Variables 2 ตัว\n",
    "        self._value = v\n",
    "        \n",
    "    def __eq__(self,other): # เปรียบเทียบค่าทั้งสอง M[k] == N[k]\n",
    "        return self._key == other._key\n",
    "    \n",
    "    def __ne__(self,other): # เปรียบเทียบความไม่เท่ากัน\n",
    "        return not(self == other)\n",
    "    \n",
    "    def __lt__(self,other): # น้อยกว่า\n",
    "        return self._key < other._key\n",
    "        \n",
    "    def __repr__(self): # Represent\n",
    "        return str(self._key) + ':' + str(self._value)\n",
    "        \n",
    "    def __str__(self):\n",
    "        return str(self._key) + ':' + str(self._value)"
   ]
  },
  {
   "cell_type": "code",
   "execution_count": 69,
   "metadata": {},
   "outputs": [],
   "source": [
    "A = Item(\"Sephiroth\",10000)"
   ]
  },
  {
   "cell_type": "code",
   "execution_count": 70,
   "metadata": {},
   "outputs": [
    {
     "data": {
      "text/plain": [
       "Sephiroth:10000"
      ]
     },
     "execution_count": 70,
     "metadata": {},
     "output_type": "execute_result"
    }
   ],
   "source": [
    "A"
   ]
  },
  {
   "cell_type": "markdown",
   "metadata": {},
   "source": [
    "# Simple Linear Map\n",
    "Note:\n",
    "This class is inheritted from [collections.abc.MutableMapping](https://docs.python.org/3/library/collections.abc.html)"
   ]
  },
  {
   "cell_type": "code",
   "execution_count": 71,
   "metadata": {},
   "outputs": [],
   "source": [
    "from collections.abc import MutableMapping\n",
    "class LinearMap(MutableMapping):\n",
    "    \n",
    "    def __init__(self):\n",
    "        self._table = [] #ข้อมูล item ที่มาเก็บ\n",
    "        \n",
    "    def __getitem__(self,k): # Retrieve Item\n",
    "        for item in self._table: # ใช้วิธี Linear search\n",
    "            if k == item._key: #เรียกใช้ Item _eq_ ของ item._key\n",
    "                return item._value\n",
    "        raise KeyError('Key Error: '+ repr(k))\n",
    "        \n",
    "    def __setitem__(self,k,v):\n",
    "        for item in self._table:\n",
    "            if k == item._key: \n",
    "                item._value = v # หาเจอ key จะเซ็ตค่าใหม่\n",
    "                return\n",
    "        self._table.append(Item(k,v)) # ถ้าไม่เจอ key จะ append ใหม่\n",
    "    \n",
    "    def __delitem__(self,k):\n",
    "        for j in range(len(self._table)):\n",
    "            if k == self._table[j]._key: \n",
    "                self._table.pop(j)\n",
    "                return\n",
    "        raise KeyError('Key Error: '+ repr(k))\n",
    "        \n",
    "    def __len__(self):\n",
    "        return len(self._table)\n",
    "    \n",
    "    def __iter__(self):\n",
    "        for item in self._table:\n",
    "            yield item._key\n",
    "            \n",
    "    def __repr__(self):\n",
    "        if len(self) == 0:\n",
    "            s = \"[ ]\"\n",
    "        else:\n",
    "            s = '['\n",
    "            for item in self._table:\n",
    "                s += str(item) # str(item) เรามี _str_ ใน Item แล้วจึงเรียกใช้ได้\n",
    "                s += ', '\n",
    "            s = s[:-2]\n",
    "            s += ']'\n",
    "        return s"
   ]
  },
  {
   "cell_type": "code",
   "execution_count": 72,
   "metadata": {},
   "outputs": [],
   "source": [
    "myTable = LinearMap()\n",
    "myTable[\"Seto Kaiba\"] = 10000"
   ]
  },
  {
   "cell_type": "code",
   "execution_count": 73,
   "metadata": {},
   "outputs": [
    {
     "data": {
      "text/plain": [
       "[Seto Kaiba:10000]"
      ]
     },
     "execution_count": 73,
     "metadata": {},
     "output_type": "execute_result"
    }
   ],
   "source": [
    "myTable"
   ]
  },
  {
   "cell_type": "code",
   "execution_count": 74,
   "metadata": {},
   "outputs": [],
   "source": [
    "myTable[\"Patiphan Porsi\"] = 400"
   ]
  },
  {
   "cell_type": "code",
   "execution_count": 75,
   "metadata": {},
   "outputs": [
    {
     "data": {
      "text/plain": [
       "[Seto Kaiba:10000, Patiphan Porsi:400]"
      ]
     },
     "execution_count": 75,
     "metadata": {},
     "output_type": "execute_result"
    }
   ],
   "source": [
    "myTable"
   ]
  },
  {
   "cell_type": "markdown",
   "metadata": {},
   "source": [
    "# Map with Separate Chaining "
   ]
  },
  {
   "cell_type": "code",
   "execution_count": 76,
   "metadata": {},
   "outputs": [],
   "source": [
    "from collections.abc import MutableMapping\n",
    "class ChainHashMap(MutableMapping):\n",
    "    \"\"\"Hash map implemented with separate chaining for collision resolution.\"\"\"\n",
    "#-----------------------------------------------        \n",
    "    def __init__(self,cap = 11):\n",
    "        \"\"\"Create an empty hash-table map. จอง 11 ช่อง\"\"\"\n",
    "        self._table = cap * [None]\n",
    "        self._n = 0 #for count the items in MAP not equal to No. of table\n",
    "        \n",
    "    def _hash_function(self,k): # Design Hash Function\n",
    "        # ห้าม random ต้องง่าย ห้ามซับซ้อน ไม่เกินขนาด table size\n",
    "        sum = 0\n",
    "        for i in k:\n",
    "            sum += ord(i)\n",
    "        return  sum % len(self._table)\n",
    "    \n",
    "    def __len__(self):\n",
    "        return self._n\n",
    "    \n",
    "    def __getitem__(self,k):\n",
    "        j = self._hash_function(k) # ใช้ key มาผ่าน hashfunction ซึ่งออกมาจะเป็น index ที่อยู่ใน table\n",
    "        # แต่เนื่องจากแต่ละช่องมันเป็น list เราจะมองเป็นถัง มองหาในถังที่ j (index) แต่หา key ที่เป็น k\n",
    "        # ความลับคือ เราจะสร้างด้วย LinearMap ใน Bucket\n",
    "        return self._bucket_getitem(j,k)\n",
    "    \n",
    "    def __setitem__(self,k,v):\n",
    "        j = self._hash_function(k) # เอา key มาหาเป็น Index\n",
    "        self._bucket_setitem(j,k,v)\n",
    "        # Seperate Chaining จะต้อง Maintain ค่า Load Factor ให้มีค่าไม่เกิน 0.8\n",
    "        if self._n > 8 * len(self._table) //10 : # ถ้ามากกว่า 0.8 จะให้ resize เป็น 2 เท่า\n",
    "            self._resize(2 * len(self._table) - 1)\n",
    "    \n",
    "    def __delitem__(self,k):\n",
    "        j = self._hash_function(k)\n",
    "        self._bucket_delitem(j,k)\n",
    "        self._n -= 1\n",
    "        \n",
    "    def _resize(self,c):\n",
    "        old = list(self.items())\n",
    "        self._table = c * [None]\n",
    "        self._n = 0\n",
    "        for (k,v) in old:\n",
    "            self[k] = v\n",
    " #---------------------------------------------------------                    \n",
    "    def _bucket_getitem(self,j,k):\n",
    "        bucket = self._table[j] # ค่า J คือค่า index\n",
    "        if bucket is None:\n",
    "            raise KeyError('Key Error: '+ repr(k)) # no match found\n",
    "        return bucket[k] # may raise KeyError\n",
    "\n",
    "    def _bucket_setitem(self,j,k,v):\n",
    "        if self._table[j] is None:\n",
    "            self._table[j] = LinearMap() # bucket is new to the table\n",
    "        oldsize = len(self._table[j])\n",
    "        self._table[j][k] = v # ถ้าหากเป็นค่าว่าง ให้ช่องนั้นเป็น LinearMap (Dictionary)\n",
    "        # เช็คว่าถ้า oldsize เทียบกับ table ใหม่แล้วมีการเปลี่ยนแปลง แสดงว่าเป็น key ใหม่\n",
    "        if len(self._table[j]) > oldsize: # key was new to the table\n",
    "            self._n += 1 # increase overall map size\n",
    "\n",
    "    def _bucket_delitem(self,j,k):\n",
    "        bucket = self._table[j] # วิ่งหา ตารางตามค่า index\n",
    "        if bucket is None:\n",
    "            raise KeyError('Key Error: '+ repr(k)) # no match found\n",
    "        del(bucket[k]) # may raise KeyError\n",
    "\n",
    "    def __iter__(self):\n",
    "        for bucket in self._table:\n",
    "            if bucket is not None: # a nonempty slot\n",
    "                for key in bucket:\n",
    "                    yield key\n",
    "                    \n",
    "    def __repr__(self):\n",
    "        print(\"load factor = {:.2f}\".format(len(self)/len(self._table)))\n",
    "        if len(self) == 0:\n",
    "            s = \"[ ]\"\n",
    "        else:\n",
    "            s = '['\n",
    "            for item in self._table:\n",
    "                s += str(item)\n",
    "                s += ', '\n",
    "            s = s[:-2]\n",
    "            s += ']'\n",
    "        return s"
   ]
  },
  {
   "cell_type": "code",
   "execution_count": 77,
   "metadata": {},
   "outputs": [],
   "source": [
    "MyHashTable = ChainHashMap()"
   ]
  },
  {
   "cell_type": "code",
   "execution_count": 78,
   "metadata": {},
   "outputs": [],
   "source": [
    "MyHashTable[\"Settha\"] = 10000"
   ]
  },
  {
   "cell_type": "code",
   "execution_count": 79,
   "metadata": {},
   "outputs": [
    {
     "name": "stdout",
     "output_type": "stream",
     "text": [
      "load factor = 0.09\n"
     ]
    },
    {
     "data": {
      "text/plain": [
       "[None, [Settha:10000], None, None, None, None, None, None, None, None, None]"
      ]
     },
     "execution_count": 79,
     "metadata": {},
     "output_type": "execute_result"
    }
   ],
   "source": [
    "MyHashTable"
   ]
  },
  {
   "cell_type": "code",
   "execution_count": 80,
   "metadata": {},
   "outputs": [],
   "source": [
    "MyHashTable[\"Anuthin\"] = 400"
   ]
  },
  {
   "cell_type": "code",
   "execution_count": 81,
   "metadata": {},
   "outputs": [
    {
     "name": "stdout",
     "output_type": "stream",
     "text": [
      "load factor = 0.18\n"
     ]
    },
    {
     "data": {
      "text/plain": [
       "[None, [Settha:10000, Anuthin:400], None, None, None, None, None, None, None, None, None]"
      ]
     },
     "execution_count": 81,
     "metadata": {},
     "output_type": "execute_result"
    }
   ],
   "source": [
    "MyHashTable"
   ]
  },
  {
   "cell_type": "code",
   "execution_count": 82,
   "metadata": {},
   "outputs": [],
   "source": [
    "MyHashTable[\"Pita\"] = 200"
   ]
  },
  {
   "cell_type": "code",
   "execution_count": 83,
   "metadata": {},
   "outputs": [
    {
     "name": "stdout",
     "output_type": "stream",
     "text": [
      "load factor = 0.27\n"
     ]
    },
    {
     "data": {
      "text/plain": [
       "[None, [Settha:10000, Anuthin:400], [Pita:200], None, None, None, None, None, None, None, None]"
      ]
     },
     "execution_count": 83,
     "metadata": {},
     "output_type": "execute_result"
    }
   ],
   "source": [
    "MyHashTable"
   ]
  },
  {
   "cell_type": "code",
   "execution_count": 84,
   "metadata": {},
   "outputs": [
    {
     "data": {
      "text/plain": [
       "200"
      ]
     },
     "execution_count": 84,
     "metadata": {},
     "output_type": "execute_result"
    }
   ],
   "source": [
    "MyHashTable[\"Pita\"]"
   ]
  },
  {
   "cell_type": "markdown",
   "metadata": {},
   "source": [
    "# Map with Open Addressing - Linear probing"
   ]
  },
  {
   "cell_type": "code",
   "execution_count": 85,
   "metadata": {},
   "outputs": [],
   "source": [
    "from collections.abc import MutableMapping\n",
    "class ProbeHashMap(MutableMapping):\n",
    "    \"\"\"Hash map implemented with linear probing for collision resolution.\"\"\"\n",
    "#-----------------------------------------------        \n",
    "    def __init__(self,cap = 11):\n",
    "        \"\"\"Create an empty hash-table map.\"\"\"\n",
    "        self._table = cap * [None]\n",
    "        self._n = 0 #for count the items in MAP\n",
    "        #remind that the No. of items is not equal No. of _table\n",
    "    \n",
    "    def _hash_function(self,k):\n",
    "        sum = 0\n",
    "        for i in k:\n",
    "            sum += ord(i)\n",
    "        return sum % len(self._table)\n",
    "    \n",
    "    def __len__(self):\n",
    "        return self._n\n",
    "    \n",
    "    def __getitem__(self,k):\n",
    "        j = self._hash_function(k)\n",
    "        return self._bucket_getitem(j,k)\n",
    "    \n",
    "    def __setitem__(self,k,v):\n",
    "        j = self._hash_function(k)\n",
    "        self._bucket_setitem(j,k,v)\n",
    "        if self._n > len(self._table) // 2: # Load Factor ไม่เกิน 0.5\n",
    "            self._resize(2 * len(self._table) - 1) # Resize 2 เท่า\n",
    "    \n",
    "    def __delitem__(self,k):\n",
    "        j = self._hash_function(k)\n",
    "        self._bucket_delitem(j,k)\n",
    "        self._n -= 1\n",
    "        \n",
    "    def _resize(self,c):\n",
    "        old = list(self.items())\n",
    "        self._table = c * [None]\n",
    "        self._n = 0\n",
    "        for (k,v) in old:\n",
    "            self[k] = v\n",
    "#-------------------------------------------------------            \n",
    "    _AVAIL = object()\n",
    "    \n",
    "    def _is_available(self,j): # Return True คือ ช่องต่อไปสามารถใส่ได้\n",
    "        \"\"\"Return True if index j is available in table.\n",
    "        กรณี None หมายถึงว่าช่องว่างชัวร์ กับ กรณีตัว AVAIL เป็นจริง\"\"\"\n",
    "        return (self._table[j] is None) or (self._table[j] is ProbeHashMap._AVAIL)\n",
    "\n",
    "    def _find_slot(self,j,k): # การวิ่งไปหาว่ามันไปเก็บช่องอื่นอยู่รึเปล่า\n",
    "        \"\"\"Search for key k in bucket at index j.\n",
    "        Return (success, index) tuple, described as follows: ถูกโยนไปเก็บที่ไหน หา Slot เจอ return index j\n",
    "        If match was found, success is True and index denotes its location. หาข้อมูลว่าค่า k นั้นเก็บอยู่ index j ไหน \n",
    "        If no match found, success is False and index denotes first available slot. ถ้าไม่เจอ จะreturn ค่า slot ช่องแรกที่ว่าง\"\"\"\n",
    "        firstAvail = None\n",
    "        while True:\n",
    "            if self._is_available(j):\n",
    "                if firstAvail is None:\n",
    "                    firstAvail = j # mark this as first avail\n",
    "                if self._table[j] is None:\n",
    "                    return (False, firstAvail) # search has failed\n",
    "            elif k == self._table[j]._key:\n",
    "                 return (True, j) # found a match\n",
    "            j = (j + 1) % len(self._table) # keep looking (cyclically)\n",
    " \n",
    "    def _bucket_getitem(self, j, k):\n",
    "        found, s = self._find_slot(j, k)\n",
    "        if not found:\n",
    "             raise KeyError( \"Key Error: \"+ repr(k)) # no match found\n",
    "        return self._table[s]._value\n",
    "\n",
    "    def _bucket_setitem(self, j, k, v):\n",
    "        found, s = self._find_slot(j, k)\n",
    "        if not found:\n",
    "            self._table[s] = Item(k,v) # insert new item\n",
    "            self._n += 1 # size has increased\n",
    "        else:\n",
    "             self._table[s]._value = v # overwrite existing\n",
    "\n",
    "    def _bucket_delitem(self, j, k):\n",
    "        found, s = self._find_slot(j, k)\n",
    "        if not found:\n",
    "            raise KeyError(\"Key Error: \"+ repr(k)) # no match found\n",
    "            #self._table[s] = ProbeHashMap._AVAIL # mark as vacated\n",
    "        else:\n",
    "            self._table[s] = None\n",
    "            \n",
    "    def __iter__ (self):\n",
    "        for j in range(len(self._table)): # scan entire table\n",
    "             if not self._is_available(j):\n",
    "                yield self._table[j]._key\n",
    "                \n",
    "    def __repr__(self):\n",
    "        print(\"load factor = {:.2f}\".format(len(self)/len(self._table)))\n",
    "        if len(self) == 0:\n",
    "            s = \"[ ]\"\n",
    "        else:\n",
    "            s = '['\n",
    "            for item in self._table:\n",
    "                s += str(item)\n",
    "                s += ', '\n",
    "            s = s[:-2]\n",
    "            s += ']'\n",
    "        return s"
   ]
  },
  {
   "cell_type": "code",
   "execution_count": 86,
   "metadata": {},
   "outputs": [],
   "source": [
    "MyHashTable2 = ProbeHashMap()"
   ]
  },
  {
   "cell_type": "code",
   "execution_count": 87,
   "metadata": {},
   "outputs": [
    {
     "name": "stdout",
     "output_type": "stream",
     "text": [
      "load factor = 0.09\n"
     ]
    },
    {
     "data": {
      "text/plain": [
       "[None, Settha:10000, None, None, None, None, None, None, None, None, None]"
      ]
     },
     "execution_count": 87,
     "metadata": {},
     "output_type": "execute_result"
    }
   ],
   "source": [
    "MyHashTable2[\"Settha\"] = 10000\n",
    "MyHashTable2"
   ]
  },
  {
   "cell_type": "code",
   "execution_count": 88,
   "metadata": {},
   "outputs": [
    {
     "name": "stdout",
     "output_type": "stream",
     "text": [
      "load factor = 0.18\n"
     ]
    },
    {
     "data": {
      "text/plain": [
       "[None, Settha:10000, Anuthin:400, None, None, None, None, None, None, None, None]"
      ]
     },
     "execution_count": 88,
     "metadata": {},
     "output_type": "execute_result"
    }
   ],
   "source": [
    "MyHashTable2[\"Anuthin\"] = 400\n",
    "MyHashTable2"
   ]
  },
  {
   "cell_type": "code",
   "execution_count": 89,
   "metadata": {},
   "outputs": [
    {
     "name": "stdout",
     "output_type": "stream",
     "text": [
      "load factor = 0.27\n"
     ]
    },
    {
     "data": {
      "text/plain": [
       "[None, Settha:10000, Anuthin:400, Pita:200, None, None, None, None, None, None, None]"
      ]
     },
     "execution_count": 89,
     "metadata": {},
     "output_type": "execute_result"
    }
   ],
   "source": [
    "MyHashTable2[\"Pita\"] = 200\n",
    "MyHashTable2 # Pita จะเด้งไปอยู่ฝั่งขวาแทน ถ้าเทียบกับ HashChainMap"
   ]
  },
  {
   "attachments": {},
   "cell_type": "markdown",
   "metadata": {},
   "source": [
    "### ------------------------------------------------------------------------------------\n",
    "## <span style=\"color:red\"> Practice1-3 </span>: Compare and discuss about Map\n",
    "### ------------------------------------------------------------------------------------\n",
    "\n",
    "1. read file _\"Student_SCORE.csv\"_ \n",
    "2. collect\n",
    "    * the student's __ID__ as __Keys__  \n",
    "    * the student's __names__ and the student's __Total_Score__ as __Values__ (multiple values with one key) <br>\n",
    "    <br>\n",
    "3. __show how the keys and values are collected in MAP__  \n",
    "    1) Use Simple LinearMap  \n",
    "    2) Use ChainHashMap  \n",
    "    3) Use ProbeHashMap\n",
    "    <br>\n",
    " <br>\n",
    " \n",
    " 4. Write a function for calculate __grade__ from __score__ and add them as additional values\n",
    "\n",
    "    |ระดับคะแนน | เกรด |\n",
    "    |---| ---|\n",
    "    | 81~ | A |\n",
    "    | 76~80 |B+ |\n",
    "    | 71~75 |B |\n",
    "    | 66~70 |C+ |\n",
    "    | 61~65 |C |\n",
    "    | 56~60 |D+ |\n",
    "    | 51~55 |D |\n",
    "    | ~50 |F |\n",
    "\n",
    "    Example: <br>\n",
    "\n",
    "    __def__ score_to_grade(score): <br>\n",
    "    &emsp;&emsp;... <br>\n",
    "    &emsp;&emsp;... <br>\n",
    "    &emsp;&emsp;... <br>\n",
    "    &emsp;&emsp;__return__ grade\n",
    "\n",
    "5. Compare and discuss: Which type of Maps that is better for this dataset?  "
   ]
  },
  {
   "cell_type": "code",
   "execution_count": 90,
   "metadata": {},
   "outputs": [],
   "source": [
    "# hint for \n",
    "from csv import reader\n",
    "# import namelist\n",
    "with open(\"Student_SCORE.csv\",\"r\",encoding='utf-8-sig') as namelist_file:\n",
    "    csvreader = reader(namelist_file)\n",
    "    namelist = list(csvreader)"
   ]
  },
  {
   "cell_type": "code",
   "execution_count": 91,
   "metadata": {},
   "outputs": [
    {
     "data": {
      "text/plain": [
       "['Student_ID', 'Student_Name', 'Lab_Score', 'Exam_Score', 'Total_Score']"
      ]
     },
     "execution_count": 91,
     "metadata": {},
     "output_type": "execute_result"
    }
   ],
   "source": [
    "namelist[0]"
   ]
  },
  {
   "cell_type": "code",
   "execution_count": 92,
   "metadata": {},
   "outputs": [
    {
     "data": {
      "text/plain": [
       "['65070505201', 'KORNPORM PORNCHAROENROJ', '21', '21', '42']"
      ]
     },
     "execution_count": 92,
     "metadata": {},
     "output_type": "execute_result"
    }
   ],
   "source": [
    "namelist[1]"
   ]
  },
  {
   "cell_type": "code",
   "execution_count": 93,
   "metadata": {},
   "outputs": [
    {
     "data": {
      "text/plain": [
       "38"
      ]
     },
     "execution_count": 93,
     "metadata": {},
     "output_type": "execute_result"
    }
   ],
   "source": [
    "len(namelist)"
   ]
  },
  {
   "cell_type": "code",
   "execution_count": 94,
   "metadata": {},
   "outputs": [],
   "source": [
    "def grade_cal(score):\n",
    "    if score > 80 :\n",
    "        return \"A\"\n",
    "    elif score > 75 :\n",
    "        return \"B+ \"\n",
    "    elif score > 70 :\n",
    "        return \"B\"\n",
    "    elif score > 65 :\n",
    "        return \"C+\"\n",
    "    elif score > 60 :\n",
    "        return \"C\"\n",
    "    elif score > 55 :\n",
    "        return \"D+\"\n",
    "    elif score > 50 :\n",
    "        return \"D\"\n",
    "    elif score > 0 :\n",
    "        return \"F\""
   ]
  },
  {
   "cell_type": "markdown",
   "metadata": {},
   "source": [
    "### LinearMap"
   ]
  },
  {
   "cell_type": "code",
   "execution_count": 113,
   "metadata": {},
   "outputs": [
    {
     "name": "stdout",
     "output_type": "stream",
     "text": [
      "Assign Time : 0\n",
      "[65070505201:['KORNPORM PORNCHAROENROJ', '21', '21', '42', 'F'], 65070505202:['KRITTIPONG SUKNA', '16', '28', '44', 'F'], 65070505203:['CHANOKCHON KARINRAK', '24', '11', '35', 'F'], 65070505205:['SONGPHON KAEWKAENKOON', '29', '11', '40', 'F'], 65070505207:['THANA YENSIRAWORAKUL', '44', '11', '55', 'D'], 65070505208:['NOPHAWICH WIRIYASARANONT', '25', '20', '45', 'F'], 65070505209:['PANNATHON ONPRASERT', '46', '37', '83', 'A'], 65070505210:['PARAWEE WONGPAET', '30', '23', '53', 'D'], 65070505211:['PUNYANUT JAICHOBNGAM', '10', '41', '51', 'D'], 65070505212:['PHATCHARAPON CHAIYAPONG', '36', '21', '57', 'D+'], 65070505213:['PHATCHARIDA CHALEEMUI', '13', '14', '27', 'F'], 65070505214:['PHEERAPHAT SOKDUL', '15', '25', '40', 'F'], 65070505215:['WARAKORN MUNGSIRIKAJORN', '33', '48', '81', 'A'], 65070505216:['SIRAPRAPHA SURIYASRI', '20', '21', '41', 'F'], 65070505217:['SALILTHIP PRAYOONVORAWONG', '38', '28', '66', 'C+'], 65070505218:['ACHIRAPHON SINGTHAWAT', '19', '43', '62', 'C'], 65070505219:['ATH ACHCHA', '12', '14', '26', 'F'], 65070505220:['KITTITHUCH SOMARKPHAN', '33', '25', '58', 'D+'], 65070505221:['BUABUTSAKON DEEDEN', '13', '44', '57', 'D+'], 65070505222:['PHRAOPHIRAT LIMKAEOSUWAN', '34', '46', '80', 'B+ '], 65070505223:['PHATTARADON THANAPASITPATTHANA', '28', '12', '40', 'F'], 65070505224:['KODCHARAT DECHAPANYA', '18', '11', '29', 'F'], 65070505225:['JANTHARAWIMON MASIV', '23', '19', '42', 'F'], 65070505226:['JITTIPA PRAYOONTONG', '25', '13', '38', 'F'], 65070505227:['JIRAWAT SADAON', '41', '29', '70', 'C+'], 65070505228:['JUTHAMAS SAEBAE', '41', '32', '73', 'B'], 65070505229:['CHANIKARN DETCHSONG', '12', '38', '50', 'F'], 65070505230:['NATTIDA HIRUNRAT', '42', '32', '74', 'B'], 65070505231:['NATTHANEE TAKSINATHAM', '44', '37', '81', 'A'], 65070505232:['NUTPISCHAON CHANJIRASOPHON', '50', '35', '85', 'A'], 65070505233:['TANYACHANOK CHUDOUNG', '33', '24', '57', 'D+'], 65070505234:['PHONKSAPAK CHAIJAROENMAITRI', '30', '44', '74', 'B'], 65070505235:['PATCHARAPON RUENGCHUAY', '21', '31', '52', 'D'], 65070505236:['PIMMADA INCHAN', '43', '15', '58', 'D+'], 65070505237:['RAWIPA YEAKHOKSUNG', '36', '35', '71', 'B'], 65070505238:['CHAIYAPAT CHALADKAN', '49', '21', '70', 'C+'], 65070505239:['BORIBOON THAUAON', '23', '29', '52', 'D']]\n"
     ]
    }
   ],
   "source": [
    "# LinearMap\n",
    "from time import time_ns\n",
    "myLinearMap = LinearMap()\n",
    "key_list = []\n",
    "start = time_ns()\n",
    "for element in namelist[1:]:\n",
    "    element_key = element[0]\n",
    "    grade_value = grade_cal(int(element[-1]))\n",
    "    key_list.append(element_key)\n",
    "    element_value = list(element[1:]) + [grade_cal(int(element[-1]))]\n",
    "    myLinearMap[element_key] = element_value\n",
    "end = time_ns()\n",
    "\n",
    "elapsed = end - start\n",
    "print(\"Assign Time :\" , elapsed)\n",
    "print(myLinearMap)"
   ]
  },
  {
   "cell_type": "markdown",
   "metadata": {},
   "source": [
    "#### Linear Map to CSV File"
   ]
  },
  {
   "cell_type": "code",
   "execution_count": 114,
   "metadata": {},
   "outputs": [
    {
     "name": "stdout",
     "output_type": "stream",
     "text": [
      "Used time : 0\n",
      "Data has been written to Assignment6_LinearMap.csv\n"
     ]
    }
   ],
   "source": [
    "# Export to CSV File \n",
    "import csv\n",
    "\n",
    "header =  ['Student_ID', 'Student_Name', 'Lab_Score', 'Exam_Score', 'Total_Score', 'Grade']\n",
    "\n",
    "# Define the CSV file name\n",
    "csv_file = 'Assignment6_LinearMap.csv'\n",
    "\n",
    "# Write the hashmap to a CSV file\n",
    "with open(csv_file, mode='w', newline='') as file:\n",
    "    writer = csv.writer(file, delimiter=',', quotechar='\"', quoting=csv.QUOTE_MINIMAL)\n",
    "    \n",
    "    # Write the header row\n",
    "    writer.writerow(header)\n",
    "    start = time_ns()\n",
    "    for key in key_list:\n",
    "        data = [key] + myLinearMap[key]\n",
    "        writer.writerow(data)\n",
    "    end = time_ns()\n",
    "\n",
    "print(\"Used time :\", end-start)\n",
    "print(f\"Data has been written to {csv_file}\")"
   ]
  },
  {
   "cell_type": "markdown",
   "metadata": {},
   "source": [
    "### Hash Map with Seperate Chaining"
   ]
  },
  {
   "cell_type": "code",
   "execution_count": 115,
   "metadata": {},
   "outputs": [
    {
     "name": "stdout",
     "output_type": "stream",
     "text": [
      "Time to Assign : 0\n",
      "load factor = 0.46\n",
      "[[65070505209:['PANNATHON ONPRASERT', '46', '37', '83', 'A'], 65070505218:['ACHIRAPHON SINGTHAWAT', '19', '43', '62', 'C'], 65070505227:['JIRAWAT SADAON', '41', '29', '70', 'C+'], 65070505236:['PIMMADA INCHAN', '43', '15', '58', 'D+']], [65070505219:['ATH ACHCHA', '12', '14', '26', 'F'], 65070505228:['JUTHAMAS SAEBAE', '41', '32', '73', 'B'], 65070505237:['RAWIPA YEAKHOKSUNG', '36', '35', '71', 'B']], [65070505229:['CHANIKARN DETCHSONG', '12', '38', '50', 'F'], 65070505238:['CHAIYAPAT CHALADKAN', '49', '21', '70', 'C+']], [65070505239:['BORIBOON THAUAON', '23', '29', '52', 'D']], None, None, None, None, None, None, None, None, None, None, None, None, None, None, None, None, None, None, None, None, None, None, None, None, None, None, None, None, None, None, None, None, None, None, None, None, None, None, None, None, None, None, None, None, None, None, None, None, None, None, None, None, None, None, None, None, None, None, None, None, None, None, None, None, None, None, None, None, None, [65070505201:['KORNPORM PORNCHAROENROJ', '21', '21', '42', 'F'], 65070505210:['PARAWEE WONGPAET', '30', '23', '53', 'D']], [65070505202:['KRITTIPONG SUKNA', '16', '28', '44', 'F'], 65070505211:['PUNYANUT JAICHOBNGAM', '10', '41', '51', 'D'], 65070505220:['KITTITHUCH SOMARKPHAN', '33', '25', '58', 'D+']], [65070505203:['CHANOKCHON KARINRAK', '24', '11', '35', 'F'], 65070505212:['PHATCHARAPON CHAIYAPONG', '36', '21', '57', 'D+'], 65070505221:['BUABUTSAKON DEEDEN', '13', '44', '57', 'D+'], 65070505230:['NATTIDA HIRUNRAT', '42', '32', '74', 'B']], [65070505213:['PHATCHARIDA CHALEEMUI', '13', '14', '27', 'F'], 65070505222:['PHRAOPHIRAT LIMKAEOSUWAN', '34', '46', '80', 'B+ '], 65070505231:['NATTHANEE TAKSINATHAM', '44', '37', '81', 'A']], [65070505205:['SONGPHON KAEWKAENKOON', '29', '11', '40', 'F'], 65070505214:['PHEERAPHAT SOKDUL', '15', '25', '40', 'F'], 65070505223:['PHATTARADON THANAPASITPATTHANA', '28', '12', '40', 'F'], 65070505232:['NUTPISCHAON CHANJIRASOPHON', '50', '35', '85', 'A']], [65070505215:['WARAKORN MUNGSIRIKAJORN', '33', '48', '81', 'A'], 65070505224:['KODCHARAT DECHAPANYA', '18', '11', '29', 'F'], 65070505233:['TANYACHANOK CHUDOUNG', '33', '24', '57', 'D+']], [65070505207:['THANA YENSIRAWORAKUL', '44', '11', '55', 'D'], 65070505216:['SIRAPRAPHA SURIYASRI', '20', '21', '41', 'F'], 65070505225:['JANTHARAWIMON MASIV', '23', '19', '42', 'F'], 65070505234:['PHONKSAPAK CHAIJAROENMAITRI', '30', '44', '74', 'B']], [65070505208:['NOPHAWICH WIRIYASARANONT', '25', '20', '45', 'F'], 65070505217:['SALILTHIP PRAYOONVORAWONG', '38', '28', '66', 'C+'], 65070505226:['JITTIPA PRAYOONTONG', '25', '13', '38', 'F'], 65070505235:['PATCHARAPON RUENGCHUAY', '21', '31', '52', 'D']]]\n"
     ]
    }
   ],
   "source": [
    "# HashMap with Seperate Chaining\n",
    "\n",
    "myChainHashMap = ChainHashMap()\n",
    "chainkey_list = []\n",
    "start = time_ns()\n",
    "for element in namelist[1:]:\n",
    "    element_key = element[0]\n",
    "    grade_value = grade_cal(int(element[-1]))\n",
    "    chainkey_list.append(element_key)\n",
    "    element_value = list(element[1:]) + [grade_cal(int(element[-1]))]\n",
    "    myChainHashMap[element_key] = element_value\n",
    "end = time_ns()\n",
    "print(\"Time to Assign :\", elapsed)\n",
    "print(myChainHashMap)"
   ]
  },
  {
   "cell_type": "code",
   "execution_count": 98,
   "metadata": {},
   "outputs": [
    {
     "name": "stdout",
     "output_type": "stream",
     "text": [
      "['PANNATHON ONPRASERT', '46', '37', '83', 'A']\n"
     ]
    }
   ],
   "source": [
    "print(myChainHashMap[\"65070505209\"])"
   ]
  },
  {
   "cell_type": "markdown",
   "metadata": {},
   "source": [
    "### Hash Map with Seperate Chaining to CSV File"
   ]
  },
  {
   "cell_type": "code",
   "execution_count": 116,
   "metadata": {},
   "outputs": [
    {
     "name": "stdout",
     "output_type": "stream",
     "text": [
      "Used time :  0\n",
      "Data has been written to Assignment6_ChainHashMap.csv\n"
     ]
    }
   ],
   "source": [
    "# Export to CSV File \n",
    "import csv\n",
    "\n",
    "header =  ['Student_ID', 'Student_Name', 'Lab_Score', 'Exam_Score', 'Total_Score', 'Grade']\n",
    "\n",
    "# Define the CSV file name\n",
    "csv_file = 'Assignment6_ChainHashMap.csv'\n",
    "\n",
    "# Write the hashmap to a CSV file\n",
    "with open(csv_file, mode='w', newline='') as file:\n",
    "    writer = csv.writer(file, delimiter=',', quotechar='\"', quoting=csv.QUOTE_MINIMAL)\n",
    "    \n",
    "    # Write the header row\n",
    "    writer.writerow(header)\n",
    "    start = time_ns()\n",
    "    for key in chainkey_list:\n",
    "        data = [key] + myChainHashMap[key]\n",
    "        writer.writerow(data)\n",
    "    end = time_ns()\n",
    "\n",
    "print(\"Used time : \", end-start)\n",
    "print(f\"Data has been written to {csv_file}\")"
   ]
  },
  {
   "cell_type": "markdown",
   "metadata": {},
   "source": [
    "### Hash Map with Open Accessing "
   ]
  },
  {
   "cell_type": "code",
   "execution_count": 117,
   "metadata": {},
   "outputs": [
    {
     "name": "stdout",
     "output_type": "stream",
     "text": [
      "Time to Assign : 0\n",
      "load factor = 0.46\n",
      "[65070505218:['ACHIRAPHON SINGTHAWAT', '19', '43', '62', 'C'], 65070505219:['ATH ACHCHA', '12', '14', '26', 'F'], 65070505203:['CHANOKCHON KARINRAK', '24', '11', '35', 'F'], 65070505210:['PARAWEE WONGPAET', '30', '23', '53', 'D'], 65070505205:['SONGPHON KAEWKAENKOON', '29', '11', '40', 'F'], 65070505211:['PUNYANUT JAICHOBNGAM', '10', '41', '51', 'D'], 65070505209:['PANNATHON ONPRASERT', '46', '37', '83', 'A'], 65070505207:['THANA YENSIRAWORAKUL', '44', '11', '55', 'D'], 65070505208:['NOPHAWICH WIRIYASARANONT', '25', '20', '45', 'F'], 65070505214:['PHEERAPHAT SOKDUL', '15', '25', '40', 'F'], 65070505215:['WARAKORN MUNGSIRIKAJORN', '33', '48', '81', 'A'], 65070505216:['SIRAPRAPHA SURIYASRI', '20', '21', '41', 'F'], 65070505217:['SALILTHIP PRAYOONVORAWONG', '38', '28', '66', 'C+'], 65070505224:['KODCHARAT DECHAPANYA', '18', '11', '29', 'F'], 65070505225:['JANTHARAWIMON MASIV', '23', '19', '42', 'F'], 65070505226:['JITTIPA PRAYOONTONG', '25', '13', '38', 'F'], 65070505227:['JIRAWAT SADAON', '41', '29', '70', 'C+'], 65070505228:['JUTHAMAS SAEBAE', '41', '32', '73', 'B'], 65070505229:['CHANIKARN DETCHSONG', '12', '38', '50', 'F'], 65070505230:['NATTIDA HIRUNRAT', '42', '32', '74', 'B'], 65070505231:['NATTHANEE TAKSINATHAM', '44', '37', '81', 'A'], 65070505232:['NUTPISCHAON CHANJIRASOPHON', '50', '35', '85', 'A'], 65070505233:['TANYACHANOK CHUDOUNG', '33', '24', '57', 'D+'], 65070505234:['PHONKSAPAK CHAIJAROENMAITRI', '30', '44', '74', 'B'], 65070505235:['PATCHARAPON RUENGCHUAY', '21', '31', '52', 'D'], 65070505236:['PIMMADA INCHAN', '43', '15', '58', 'D+'], 65070505237:['RAWIPA YEAKHOKSUNG', '36', '35', '71', 'B'], 65070505238:['CHAIYAPAT CHALADKAN', '49', '21', '70', 'C+'], 65070505239:['BORIBOON THAUAON', '23', '29', '52', 'D'], None, None, None, None, None, None, None, None, None, None, None, None, None, None, None, None, None, None, None, None, None, None, None, None, None, None, None, None, None, None, None, None, None, None, None, None, None, None, None, None, None, None, None, None, 65070505201:['KORNPORM PORNCHAROENROJ', '21', '21', '42', 'F'], 65070505220:['KITTITHUCH SOMARKPHAN', '33', '25', '58', 'D+'], 65070505221:['BUABUTSAKON DEEDEN', '13', '44', '57', 'D+'], 65070505222:['PHRAOPHIRAT LIMKAEOSUWAN', '34', '46', '80', 'B+ '], 65070505223:['PHATTARADON THANAPASITPATTHANA', '28', '12', '40', 'F'], 65070505202:['KRITTIPONG SUKNA', '16', '28', '44', 'F'], 65070505212:['PHATCHARAPON CHAIYAPONG', '36', '21', '57', 'D+'], 65070505213:['PHATCHARIDA CHALEEMUI', '13', '14', '27', 'F']]\n"
     ]
    }
   ],
   "source": [
    "# HashMap with Open Accessing\n",
    "\n",
    "myProbeHashMap = ProbeHashMap()\n",
    "\n",
    "probekey_list = []\n",
    "start = time_ns()\n",
    "for element in namelist[1:]:\n",
    "    element_key = element[0]\n",
    "    grade_value = grade_cal(int(element[-1]))\n",
    "    probekey_list.append(element_key)\n",
    "    element_value = list(element[1:]) + [grade_cal(int(element[-1]))]\n",
    "    myProbeHashMap[element_key] = element_value\n",
    "end = time_ns()\n",
    "\n",
    "print(\"Time to Assign :\" , end-start)\n",
    "print(myProbeHashMap)"
   ]
  },
  {
   "cell_type": "markdown",
   "metadata": {},
   "source": [
    "### Hash Map with Open Accessing to CSV File"
   ]
  },
  {
   "cell_type": "code",
   "execution_count": 118,
   "metadata": {},
   "outputs": [
    {
     "name": "stdout",
     "output_type": "stream",
     "text": [
      "Used time : 0\n",
      "Data has been written to Assignment6_ProbeHashMap.csv\n"
     ]
    }
   ],
   "source": [
    "# Export to CSV File \n",
    "from time import time_ns\n",
    "import csv\n",
    "\n",
    "header =  ['Student_ID', 'Student_Name', 'Lab_Score', 'Exam_Score', 'Total_Score', 'Grade']\n",
    "\n",
    "# Define the CSV file name\n",
    "csv_file = 'Assignment6_ProbeHashMap.csv'\n",
    "\n",
    "# Write the hashmap to a CSV file\n",
    "with open(csv_file, mode='w', newline='') as file:\n",
    "    writer = csv.writer(file, delimiter=',', quotechar='\"', quoting=csv.QUOTE_MINIMAL)\n",
    "    \n",
    "    # Write the header row\n",
    "    writer.writerow(header)\n",
    "    start = time_ns()\n",
    "    for key in probekey_list:\n",
    "        data = [key] + myProbeHashMap[key]\n",
    "        writer.writerow(data)\n",
    "    end = time_ns()\n",
    "\n",
    "\n",
    "print(\"Used time :\" , end-start)\n",
    "print(f\"Data has been written to {csv_file}\")"
   ]
  },
  {
   "cell_type": "markdown",
   "metadata": {},
   "source": [
    "---"
   ]
  },
  {
   "cell_type": "markdown",
   "metadata": {},
   "source": [
    "### ข้อสังเกต\n",
    "* จากการเปรียบเทียบเวลาและรูปแบบการใช้ของ Hash table แต่ละตัว พบว่าเวลาที่ใช้งานเท่ากัน มีระยะเวลาเป็น O(1) เพราะใช้เวลา 0.0 ns เท่ากัน\n",
    "* ทางทฤษฏีถ้าพิจารณาจะพบว่า HashMap ที่มีการแก้ไข Collision แบบ Seperate Chaining อาจมีเวลาน้อยกว่า แบบ Open Accessing เนื่องจาก Load Factor ของ Open Accessing มีขนาดน้อยกว่า ทำให้มีการปรับขนาด Resize บ่อย ซึ่งมันคือการก็อปปี้ค่า List สู่อันใหม่\n",
    "* โดยสรุปแล้ว ถ้าให้เลือก Hash Table ที่มีการแก้ไข Collision การเลือกแบบ Seperate Chaining จะเป็นวิธีที่ดีกว่า ตามทฤษฏี"
   ]
  },
  {
   "cell_type": "markdown",
   "metadata": {},
   "source": [
    "<div style=\"color:greenyellow;\">ศวิษฐ์ โกสียอัมพร 65070506026</div>\n",
    "<div style=\"color:pink\">ปุญชญา จันทร์เจริญ 65070506039</div>"
   ]
  }
 ],
 "metadata": {
  "kernelspec": {
   "display_name": "Python 3.10.2 64-bit",
   "language": "python",
   "name": "python3"
  },
  "language_info": {
   "codemirror_mode": {
    "name": "ipython",
    "version": 3
   },
   "file_extension": ".py",
   "mimetype": "text/x-python",
   "name": "python",
   "nbconvert_exporter": "python",
   "pygments_lexer": "ipython3",
   "version": "3.11.4"
  },
  "vscode": {
   "interpreter": {
    "hash": "aee8b7b246df8f9039afb4144a1f6fd8d2ca17a180786b69acc140d282b71a49"
   }
  }
 },
 "nbformat": 4,
 "nbformat_minor": 4
}
