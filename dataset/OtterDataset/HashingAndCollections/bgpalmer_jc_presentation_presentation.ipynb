{
 "cells": [
  {
   "cell_type": "markdown",
   "id": "aa1cc397",
   "metadata": {
    "slideshow": {
     "slide_type": "slide"
    }
   },
   "source": [
    "# Accel‑Align: a fast sequence mapper and aligner based on the seed–embed–extend method\n",
    "\n",
    "Presented by Brian Palmer"
   ]
  },
  {
   "cell_type": "markdown",
   "id": "a4b09dd5",
   "metadata": {
    "slideshow": {
     "slide_type": "slide"
    }
   },
   "source": [
    "## Background"
   ]
  },
  {
   "cell_type": "markdown",
   "id": "e298eac3",
   "metadata": {
    "slideshow": {
     "slide_type": "subslide"
    }
   },
   "source": [
    "### What is an alignment?"
   ]
  },
  {
   "cell_type": "markdown",
   "id": "7613fc26",
   "metadata": {
    "slideshow": {
     "slide_type": "fragment"
    }
   },
   "source": [
    "A process where we take each *read* and figure out where it fits in a *reference genome*"
   ]
  },
  {
   "cell_type": "markdown",
   "id": "5f88e6a1",
   "metadata": {
    "slideshow": {
     "slide_type": "fragment"
    }
   },
   "source": [
    "*Read* - a sequence of base pairs that *should* correspond to a DNA fragment."
   ]
  },
  {
   "cell_type": "markdown",
   "id": "87877143",
   "metadata": {
    "slideshow": {
     "slide_type": "fragment"
    }
   },
   "source": [
    "*Reference Genome* - the target sequence of base pairs that we would like to compare our DNA fragment with."
   ]
  },
  {
   "cell_type": "markdown",
   "id": "2228c5c0",
   "metadata": {
    "slideshow": {
     "slide_type": "fragment"
    }
   },
   "source": [
    "Abstractly, this is a **string matching** problem."
   ]
  },
  {
   "cell_type": "markdown",
   "id": "be0d0a97",
   "metadata": {
    "slideshow": {
     "slide_type": "subslide"
    }
   },
   "source": [
    "### We've all done some form of string matching"
   ]
  },
  {
   "cell_type": "code",
   "execution_count": 48,
   "id": "a013cd1b",
   "metadata": {
    "slideshow": {
     "slide_type": "fragment"
    }
   },
   "outputs": [
    {
     "data": {
      "text/plain": [
       "2"
      ]
     },
     "execution_count": 48,
     "metadata": {},
     "output_type": "execute_result"
    }
   ],
   "source": [
    "ref_genome = 'GATACA'\n",
    "read = 'TAC'\n",
    "ref_genome.find(read)"
   ]
  },
  {
   "cell_type": "code",
   "execution_count": 49,
   "id": "f8744947",
   "metadata": {
    "scrolled": true,
    "slideshow": {
     "slide_type": "fragment"
    }
   },
   "outputs": [
    {
     "data": {
      "text/plain": [
       "2"
      ]
     },
     "execution_count": 49,
     "metadata": {},
     "output_type": "execute_result"
    }
   ],
   "source": [
    "def find_substring(read, ref_genome):\n",
    "    '''\n",
    "    Return the position of the read in the genome\n",
    "    with this naive approach.\n",
    "    \n",
    "    NOTE: position is zero-based\n",
    "    '''\n",
    "    \n",
    "    bound_check = 0\n",
    "    for position, genome_basepair in enumerate(ref_genome):\n",
    "        if genome_basepair == read[bound_check]: \n",
    "            bound_check += 1     \n",
    "        else: bound_check = 0\n",
    "            \n",
    "        if bound_check == len(read): \n",
    "            return position - len(read) + 1\n",
    "    \n",
    "    return -1    \n",
    "\n",
    "\n",
    "ref_genome = 'GATACA'\n",
    "read = 'TAC'\n",
    "find_substring(read, ref_genome)\n"
   ]
  },
  {
   "cell_type": "markdown",
   "id": "03adc818",
   "metadata": {
    "slideshow": {
     "slide_type": "subslide"
    }
   },
   "source": [
    "### Why do most aligners not take this approach"
   ]
  },
  {
   "cell_type": "markdown",
   "id": "c534258c",
   "metadata": {
    "slideshow": {
     "slide_type": "fragment"
    }
   },
   "source": [
    "Does not take into account:"
   ]
  },
  {
   "cell_type": "markdown",
   "id": "671f74a3",
   "metadata": {
    "slideshow": {
     "slide_type": "fragment"
    }
   },
   "source": [
    "1. Differences between the read and the reference genome (SNPs, other polymorphisms)\n",
    "2. Sequencing errors (Substitutions, INDELs)"
   ]
  },
  {
   "cell_type": "markdown",
   "id": "409230f6",
   "metadata": {
    "slideshow": {
     "slide_type": "fragment"
    }
   },
   "source": [
    "Therefore, we cannot rely on **exact** matches. We need to account for differences and errors."
   ]
  },
  {
   "cell_type": "markdown",
   "id": "01466c43",
   "metadata": {
    "slideshow": {
     "slide_type": "subslide"
    }
   },
   "source": [
    "### Popular string matching distance algorithms"
   ]
  },
  {
   "cell_type": "markdown",
   "id": "1c1e8614",
   "metadata": {
    "slideshow": {
     "slide_type": "subslide"
    }
   },
   "source": [
    "#### Levenshtein Distance"
   ]
  },
  {
   "cell_type": "markdown",
   "id": "e0977787",
   "metadata": {
    "slideshow": {
     "slide_type": "fragment"
    }
   },
   "source": [
    "* Used by *gapped* (allow indels) aligners:\n",
    "    * Bowtie2\n",
    "    * BWA-MEM\n",
    "    * Minimap2"
   ]
  },
  {
   "cell_type": "code",
   "execution_count": 50,
   "id": "361c5c88",
   "metadata": {
    "scrolled": true,
    "slideshow": {
     "slide_type": "skip"
    }
   },
   "outputs": [],
   "source": [
    "import numpy as np\n",
    "\n",
    "def levenshtein_distance(read, ref_genome_fragment, print_matrix=True):\n",
    "    '''\n",
    "    Brief:\n",
    "    \n",
    "    A gapped aligner that counts the differences between two strings \n",
    "    allowing insertions and deletions.\n",
    "    \n",
    "    Useful comparing string with INDEL errors and substitutions.\n",
    "    \n",
    "    Adapted from rf. https://en.wikipedia.org/wiki/Levenshtein_distance\n",
    "    '''\n",
    "    \n",
    "    if print_matrix: print(f\"rows: {read}\\ncolumns: {ref_genome_fragment}\")\n",
    "    \n",
    "    matrix = np.zeros([len(read) + 1, len(ref_genome_fragment) + 1])\n",
    "        \n",
    "    for i in range(len(read) + 1):\n",
    "        matrix[i][0] = i\n",
    "    \n",
    "    for i in range(len(ref_genome_fragment) + 1):\n",
    "        matrix[0][i] = i\n",
    "            \n",
    "    for idx_r, read_basepair in enumerate(read):   \n",
    "        idx_r += 1\n",
    "        for idx_g, genome_basepair in enumerate(ref_genome_fragment):\n",
    "            idx_g += 1\n",
    "            if read_basepair == genome_basepair:\n",
    "                matrix[idx_r][idx_g] = matrix[idx_r - 1][idx_g - 1]\n",
    "            else:\n",
    "                matrix[idx_r][idx_g] = min(\n",
    "                    matrix[idx_r][idx_g - 1] + 1, \n",
    "                    matrix[idx_r - 1][idx_g] + 1, \n",
    "                    matrix[idx_r - 1, idx_g - 1] + 1)\n",
    "\n",
    "                \n",
    "    if print_matrix: print(matrix)\n",
    "        \n",
    "    return matrix[len(read), len(ref_genome_fragment)]\n",
    "\n"
   ]
  },
  {
   "cell_type": "code",
   "execution_count": 51,
   "id": "4f5deb5a",
   "metadata": {
    "scrolled": true,
    "slideshow": {
     "slide_type": "subslide"
    }
   },
   "outputs": [
    {
     "name": "stdout",
     "output_type": "stream",
     "text": [
      "Help on function levenshtein_distance in module __main__:\n",
      "\n",
      "levenshtein_distance(read, ref_genome_fragment, print_matrix=True)\n",
      "    Brief:\n",
      "    \n",
      "    A gapped aligner that counts the differences between two strings \n",
      "    allowing insertions and deletions.\n",
      "    \n",
      "    Useful comparing string with INDEL errors and substitutions.\n",
      "    \n",
      "    Adapted from rf. https://en.wikipedia.org/wiki/Levenshtein_distance\n",
      "\n",
      "rows: CTGA\n",
      "columns: TGA\n",
      "[[0. 1. 2. 3.]\n",
      " [1. 1. 2. 3.]\n",
      " [2. 1. 2. 3.]\n",
      " [3. 2. 1. 2.]\n",
      " [4. 3. 2. 1.]]\n"
     ]
    },
    {
     "data": {
      "text/plain": [
       "1.0"
      ]
     },
     "execution_count": 51,
     "metadata": {},
     "output_type": "execute_result"
    }
   ],
   "source": [
    "help(levenshtein_distance)\n",
    "\n",
    "# TODO: Update this with your own strings!\n",
    "levenshtein_distance('CTGA', 'TGA')"
   ]
  },
  {
   "cell_type": "code",
   "execution_count": 52,
   "id": "c7aca5d4",
   "metadata": {
    "scrolled": true,
    "slideshow": {
     "slide_type": "fragment"
    }
   },
   "outputs": [
    {
     "name": "stdout",
     "output_type": "stream",
     "text": [
      "rows: kitten\n",
      "columns: sitting\n",
      "[[0. 1. 2. 3. 4. 5. 6. 7.]\n",
      " [1. 1. 2. 3. 4. 5. 6. 7.]\n",
      " [2. 2. 1. 2. 3. 4. 5. 6.]\n",
      " [3. 3. 2. 1. 2. 3. 4. 5.]\n",
      " [4. 4. 3. 2. 1. 2. 3. 4.]\n",
      " [5. 5. 4. 3. 2. 2. 3. 4.]\n",
      " [6. 6. 5. 4. 3. 3. 2. 3.]]\n"
     ]
    },
    {
     "data": {
      "text/plain": [
       "3.0"
      ]
     },
     "execution_count": 52,
     "metadata": {},
     "output_type": "execute_result"
    }
   ],
   "source": [
    "levenshtein_distance('kitten', 'sitting') # from the wikipedia example"
   ]
  },
  {
   "cell_type": "markdown",
   "id": "0451e818",
   "metadata": {
    "slideshow": {
     "slide_type": "fragment"
    }
   },
   "source": [
    "\n",
    "**k**itt**e**n**-**</br>\n",
    "**s**itt**i**n**g**</br>\n",
    "**1** -> 1 -> 1 -> 1 -> **2** -> 2 -> **3** "
   ]
  },
  {
   "cell_type": "markdown",
   "id": "204f526d",
   "metadata": {
    "slideshow": {
     "slide_type": "subslide"
    }
   },
   "source": [
    "#### Hamming Distance"
   ]
  },
  {
   "cell_type": "code",
   "execution_count": 53,
   "id": "1b7111dd",
   "metadata": {
    "scrolled": true,
    "slideshow": {
     "slide_type": "fragment"
    }
   },
   "outputs": [],
   "source": [
    "def hamming_distance(read, ref_genome):\n",
    "    '''\n",
    "    Find the number of differences between two strings.\n",
    "    \n",
    "    TODO: try to implement if you like!\n",
    "    '''\n",
    "    \n",
    "    raise NotImplementedError('Comment this out!')\n",
    "\n",
    "\n",
    "# example from rf. https://en.wikipedia.org/wiki/Hamming_distance\n",
    "\n",
    "read = 'kitten'\n",
    "ref_genome = 'sitting'\n",
    "\n",
    "# Uncomment lines below to run\n",
    "\n",
    "# result = hamming_distance(read, ref_genome) \n",
    "# print(result)\n",
    "\n",
    "# assert(result == 2)\n",
    "\n"
   ]
  },
  {
   "cell_type": "markdown",
   "id": "d13833dc",
   "metadata": {
    "slideshow": {
     "slide_type": "subslide"
    }
   },
   "source": [
    "### Issues current aligners face\n",
    "\n",
    "* Edit distance algorithms such as Levenstein are computationally expensive.\n",
    "\n",
    "    * The comparison between two strings is *O(mn)* and that was using a small fraction of the genome!\n",
    "\n",
    "* The amount of data is continuing to grow.\n",
    "\n",
    "* Additional complexity is added with gap penalty or soft clippings.\n"
   ]
  },
  {
   "cell_type": "markdown",
   "id": "b9a4dff7",
   "metadata": {
    "slideshow": {
     "slide_type": "subslide"
    }
   },
   "source": [
    "### Seed-filter-extend (SFE) strategy\n",
    "1. Indexing the genome.\n",
    "2. Reads are fragmented into *seeds* that are cross referenced with the indexed genome.\n",
    "3. Candidates are filtered to reduce the computational load of extension.\n",
    "4. Reads are edit distance approximated using aforementioned string matching algorithms."
   ]
  },
  {
   "cell_type": "markdown",
   "id": "ea9f5ed2",
   "metadata": {
    "slideshow": {
     "slide_type": "subslide"
    }
   },
   "source": [
    "### Filtering Tradeoffs"
   ]
  },
  {
   "cell_type": "markdown",
   "id": "2099ebf6",
   "metadata": {
    "slideshow": {
     "slide_type": "fragment"
    }
   },
   "source": [
    "#### Two popular flavors\n",
    "1. Selection based\n",
    "    * Voting\n",
    "2. Elimination based \n",
    "    * Adjacency Filtering\n",
    "    * Shifted Hamming Distance"
   ]
  },
  {
   "cell_type": "markdown",
   "id": "787a0699",
   "metadata": {
    "slideshow": {
     "slide_type": "fragment"
    }
   },
   "source": [
    "#### Elimination based filter tend to be more stringent.\n",
    " * This can lead to over filtering an missalignment.\n",
    " * Possibly better accuracy, worse performance than selection based methods.\n",
    " \n",
    "#### Selection based filters tend to be less stringent.\n",
    " * They are also faster!"
   ]
  },
  {
   "cell_type": "markdown",
   "id": "151e0732",
   "metadata": {
    "slideshow": {
     "slide_type": "subslide"
    }
   },
   "source": [
    "### Their Solution: Seed-Embed-Extend (SEE) Alignment"
   ]
  },
  {
   "cell_type": "markdown",
   "id": "5aabf1d9",
   "metadata": {
    "slideshow": {
     "slide_type": "fragment"
    }
   },
   "source": [
    "#### They attempt to accelerate alignment by changing the filtering step by using string embedding\n",
    "\n",
    "#### This work is in thanks to improvements in *randomized algorithms*\n",
    "   * D. Chakraborty, E. Goldenberg, M. Koucký, in Proceedings of the forty-eighth annual ACM symposium on Theory of Computing (ACM, Cambridge MA USA, 2016; https://dl.acm.org/doi/10.1145/2897518.2897577), pp. 712–725."
   ]
  },
  {
   "cell_type": "markdown",
   "id": "98edadee",
   "metadata": {
    "slideshow": {
     "slide_type": "fragment"
    }
   },
   "source": [
    "#### Suppose I have a string $A$ and string $B$\n",
    "* A function exists that can transform these strings such that the hamming distance between $A'$ and $B'$ can be used to match $A$ and $B$ quite accurately.\n",
    "* Additionally, the ratio between the hamming distance and the lechenstein distance of A and B should be relatively low\n",
    "    * The refer to this value as *Distortion*"
   ]
  },
  {
   "cell_type": "markdown",
   "id": "3b97259b",
   "metadata": {
    "slideshow": {
     "slide_type": "fragment"
    }
   },
   "source": [
    "$D(x,y) = D_H(f(x),f(y)) / d_E(x,y)$ lies in the range $[1, O(K)]$ with high probability.\n",
    "* $x, y$ - two different original strings\n",
    "* $f(x), f(y)$ - transformed orignal strings \n",
    "* $D(x,y)$ = Distortion (*seems to be a measurement of error in the edit distance*)\n",
    "* $d_E(x, y)$ - Edit distance between string x and y\n",
    "* $d_H(x, y)$ - Hamming distance between string x and y\n",
    "* $K$ - *... a constant? The edit distance should be less than this value*"
   ]
  },
  {
   "cell_type": "markdown",
   "id": "5559af1e",
   "metadata": {
    "slideshow": {
     "slide_type": "slide"
    }
   },
   "source": [
    "## Indexing"
   ]
  },
  {
   "cell_type": "markdown",
   "id": "1016519f",
   "metadata": {
    "scrolled": true,
    "slideshow": {
     "slide_type": "subslide"
    }
   },
   "source": [
    "#### Seed-filter-extend (EEE) strategy\n",
    "1. **Indexing the genome**\n",
    "2. Reads are fragmented into *seeds* that are cross referenced with the indexed genome\n",
    "3. Candidates are filtered to reduce the computational load of extension.\n",
    "4. Reads are edit distance approximated using aforementioned string matching algorithms.\n"
   ]
  },
  {
   "cell_type": "markdown",
   "id": "04440b3b",
   "metadata": {
    "slideshow": {
     "slide_type": "subslide"
    }
   },
   "source": [
    "### Basic steps"
   ]
  },
  {
   "cell_type": "markdown",
   "id": "d9127bae",
   "metadata": {
    "slideshow": {
     "slide_type": "fragment"
    }
   },
   "source": [
    "#### Convert each kmer into *2-bit representations*\n",
    "```python\n",
    "# Here is an example of a binary string\n",
    "ord('A') => 65\n",
    "bin(65) => '0b1000001'\n",
    "```\n",
    "\n",
    "```python\n",
    "# This is now what A is in their map\n",
    "'0b1000001' ===> '01'\n",
    "```\n",
    "\n",
    "```python\n",
    "# More examples\n",
    "'01'    # A\n",
    "'00'    # G\n",
    "'11'    # T\n",
    "'10'    # C\n",
    "```"
   ]
  },
  {
   "cell_type": "markdown",
   "id": "d4302f93",
   "metadata": {
    "slideshow": {
     "slide_type": "fragment"
    }
   },
   "source": [
    "#### Kmerize the genome at different starting positions\n",
    "* In this work they used 32mers (although did test with 25mers)\n",
    "\n"
   ]
  },
  {
   "cell_type": "markdown",
   "id": "f2c60aa6",
   "metadata": {
    "slideshow": {
     "slide_type": "fragment"
    }
   },
   "source": [
    "#### *Modulo Hash* the updated kmer and store the starting position as a value in a *table*\n",
    "```python\n",
    "hash_map = dict()  # Our 'table'\n",
    "value = 0\n",
    "\n",
    "hash_map[kmer] = value\n",
    "```"
   ]
  },
  {
   "cell_type": "markdown",
   "id": "0c30016e",
   "metadata": {
    "slideshow": {
     "slide_type": "fragment"
    }
   },
   "source": [
    "#### More on their implementation of the table\n",
    "They don't actually use a dictionary. They use a *chained hash table* using two *arrays* (which they call tables below)."
   ]
  },
  {
   "cell_type": "markdown",
   "id": "4a30d270",
   "metadata": {
    "slideshow": {
     "slide_type": "fragment"
    }
   },
   "source": [
    "![figure_1](Fig1_HTML.jpg)"
   ]
  },
  {
   "cell_type": "markdown",
   "id": "38307b37",
   "metadata": {
    "slideshow": {
     "slide_type": "notes"
    }
   },
   "source": [
    "\"Fig. 1 An index building example. $X_i$ represents a 32-mer extracted from reference genome. a, b, c, d are the \n",
    "keys calculated from $X_i$. $n_i$ represents the number of keys smaller than the corresponding key. For example, $n_1$\n",
    "is the number of keys smaller than a. Specifcally, X1, X4 and X7 have the same key a. So there are n1 + 3 keys \n",
    "smaller than a + 1. Thus, l1, l2 and l3 indexed with n1, n1 + 1, n1 + 2 in value table are the locations for X1, X4 and \n",
    "X7\""
   ]
  },
  {
   "cell_type": "code",
   "execution_count": 54,
   "id": "2ca8bdff",
   "metadata": {
    "slideshow": {
     "slide_type": "fragment"
    }
   },
   "outputs": [],
   "source": [
    ">>> "
   ]
  },
  {
   "cell_type": "markdown",
   "id": "25bad8b6",
   "metadata": {
    "slideshow": {
     "slide_type": "subslide"
    }
   },
   "source": [
    "### Let's clear up some jargon "
   ]
  },
  {
   "cell_type": "markdown",
   "id": "1a29495f",
   "metadata": {
    "slideshow": {
     "slide_type": "fragment"
    }
   },
   "source": [
    "#### What is a hash "
   ]
  },
  {
   "cell_type": "code",
   "execution_count": 55,
   "id": "222df14e",
   "metadata": {
    "slideshow": {
     "slide_type": "fragment"
    }
   },
   "outputs": [
    {
     "name": "stdout",
     "output_type": "stream",
     "text": [
      "5276316171482745199\n",
      "5276316171482745199\n"
     ]
    }
   ],
   "source": [
    "# a hash\n",
    "value = 'new_string'\n",
    "print(hash(value))\n",
    "\n",
    "value2 = 'new_string'\n",
    "print(hash(value2))"
   ]
  },
  {
   "cell_type": "markdown",
   "id": "cca69be4",
   "metadata": {
    "slideshow": {
     "slide_type": "fragment"
    }
   },
   "source": [
    "#### What is modulo hashing"
   ]
  },
  {
   "cell_type": "code",
   "execution_count": 56,
   "id": "6f21750a",
   "metadata": {
    "slideshow": {
     "slide_type": "fragment"
    }
   },
   "outputs": [
    {
     "data": {
      "text/plain": [
       "11"
      ]
     },
     "execution_count": 56,
     "metadata": {},
     "output_type": "execute_result"
    }
   ],
   "source": [
    "import random\n",
    "\n",
    "def modulo_hash(sequence: str, M: int):\n",
    "    '''\n",
    "    Sequence: string to be hashed\n",
    "    M: modulus operator denominator\n",
    "    '''\n",
    "    return hash(sequence) % M\n",
    "\n",
    "N = 150  # sequence length \n",
    "M = 13   # modulo operator denominator\n",
    "seq = ''.join(random.choice('ACTG') for i in range(N))\n",
    "\n",
    "modulo_hash(sequence = seq, M = M)"
   ]
  },
  {
   "cell_type": "markdown",
   "id": "82c40222",
   "metadata": {
    "slideshow": {
     "slide_type": "subslide"
    }
   },
   "source": [
    "#### A bit more about hashing into buckets"
   ]
  },
  {
   "cell_type": "code",
   "execution_count": 57,
   "id": "337deb80",
   "metadata": {
    "slideshow": {
     "slide_type": "skip"
    }
   },
   "outputs": [],
   "source": [
    "import numpy as np\n",
    "def kmers_per_record(kmer_size: int, read_length: int):\n",
    "    '''\n",
    "    Calculate the number of kmers in the read, give a read length\n",
    "    '''\n",
    "    return read_length - kmer_size + 1\n",
    "\n",
    "\n",
    "def add_key_comp_value_to_dict(map: dict, key: any, value: any) -> None:\n",
    "    '''\n",
    "    Function is used add elements to a dictionary.\n",
    "    '''\n",
    "    if key not in map:\n",
    "        map[key] = value\n",
    "    else:\n",
    "        map[key] += value\n",
    "\n",
    "    \n",
    "def get_kmers_bucket_data(read: str, kmer_size: int, M: int) -> None:\n",
    "    '''\n",
    "    read: DNA Sequence\n",
    "    kmer_size: size of the kmers \n",
    "    '''\n",
    "    hash_array = np.zeros(M)\n",
    "\n",
    "    for i in range(kmers_per_record(kmer_size, len(read))):\n",
    "        kmer = read[i:kmer_size + i]\n",
    "        hash_result = modulo_hash(kmer, M)\n",
    "        hash_array[hash_result] = i\n",
    "\n",
    "        \n",
    "    return hash_array\n",
    "\n"
   ]
  },
  {
   "cell_type": "code",
   "execution_count": 58,
   "id": "8c8cfa7e",
   "metadata": {
    "scrolled": true,
    "slideshow": {
     "slide_type": "fragment"
    }
   },
   "outputs": [
    {
     "data": {
      "image/png": "[encoded data removed]",
      "text/plain": [
       "<Figure size 432x288 with 1 Axes>"
      ]
     },
     "metadata": {
      "needs_background": "light"
     },
     "output_type": "display_data"
    },
    {
     "data": {
      "image/png": "[encoded data removed]",
      "text/plain": [
       "<Figure size 432x288 with 1 Axes>"
      ]
     },
     "metadata": {
      "needs_background": "light"
     },
     "output_type": "display_data"
    }
   ],
   "source": [
    "import random\n",
    "import matplotlib.pyplot as plt\n",
    "random.seed(17)\n",
    "\n",
    "N = 10000 # sequence length \n",
    "read = ''.join([random.choice('CGTA') for i in range(N)])\n",
    "kmer_size = 5 # kmer length\n",
    "\n",
    "# Try this one out!\n",
    "M = 130 # number of buckets that hashed kmer can fall into\n",
    "# NOTE: number of values is N - k + 1\n",
    "\n",
    "bucket_data = get_kmers_bucket_data(read, kmer_size, M)\n",
    "# print(data)\n",
    "\n",
    "plt.hist(bucket_data)\n",
    "plt.show()\n",
    "\n",
    "plt.bar(range(len(bucket_data)), bucket_data, color='red')\n",
    "plt.xlabel('Modulo Hash Bucket')\n",
    "plt.ylabel('Bucket Frequency')\n",
    "plt.yscale('log')\n",
    "plt.title(f\"Distribution of Hashes [0, {M}] Stored in Index\")\n",
    "plt.show()"
   ]
  },
  {
   "cell_type": "markdown",
   "id": "b237ad99",
   "metadata": {
    "slideshow": {
     "slide_type": "slide"
    }
   },
   "source": [
    "## Seeding"
   ]
  },
  {
   "cell_type": "markdown",
   "id": "d938f20f",
   "metadata": {
    "slideshow": {
     "slide_type": "fragment"
    }
   },
   "source": [
    "#### Seed-filter-extend (EEE) strategy\n",
    "1. Indexing the genome\n",
    "2. **Reads are fragmented into *seeds* that are cross referenced with the indexed genome**\n",
    "3. Candidates are filtered to reduce the computational load of extension.\n",
    "4. Reads are edit distance approximated using aforementioned string matching algorithms."
   ]
  },
  {
   "cell_type": "markdown",
   "id": "f328d93a",
   "metadata": {
    "slideshow": {
     "slide_type": "subslide"
    }
   },
   "source": [
    "#### Extract non-overlapping k-mers and calculate the key to find positions\n",
    "* A non-overlapping kmer of the read is passed to the modulo hash function to calculate the key to find a position\n",
    "    * Both the index and read kmer appear to be the same size\n",
    "* If there are no candidates, the starting position of the seed is shifted until a candidate is found\n",
    "    * If this occurs, found candidate positions are also shifted to normalize the positions"
   ]
  },
  {
   "cell_type": "markdown",
   "id": "58225848",
   "metadata": {
    "slideshow": {
     "slide_type": "fragment"
    }
   },
   "source": [
    "#### Paired end vs single end reads\n",
    "* Can handle both\n",
    "* Single end reads pass all candidates to the extension (alignment) stage\n",
    "* For paired end reads, a pairwise-distance threshold is used to find candidates\n",
    "    * pairwise-distance threshold essentially calculates the likelihood the two sequences match\n",
    "    "
   ]
  },
  {
   "cell_type": "markdown",
   "id": "d6a11d40",
   "metadata": {
    "slideshow": {
     "slide_type": "slide"
    }
   },
   "source": [
    "## Embedding"
   ]
  },
  {
   "cell_type": "markdown",
   "id": "a83cedf7",
   "metadata": {
    "slideshow": {
     "slide_type": "fragment"
    }
   },
   "source": [
    "### Seed-filter-extend (EEE) strategy\n",
    "1. Indexing the genome\n",
    "2. Reads are fragmented into *seeds* that are cross referenced with the indexed genome\n",
    "3. **Candidates are filtered to reduce the computational load of extension.**\n",
    "4. Reads are edit distance approximated using aforementioned string matching algorithms."
   ]
  },
  {
   "cell_type": "markdown",
   "id": "03aafa8e",
   "metadata": {
    "slideshow": {
     "slide_type": "subslide"
    }
   },
   "source": [
    "### Important goal of embedding\n",
    "* Rely on hamming distance to best approximate which string might be the best match.\n",
    "* Transform the read and reference candidates so that the hamming distance between these *new strings* can help approximate the edit distance between the *old strings*."
   ]
  },
  {
   "cell_type": "markdown",
   "id": "9f402d65",
   "metadata": {
    "slideshow": {
     "slide_type": "fragment"
    }
   },
   "source": [
    "### Two implementations\n",
    "* 3N-embedding\n",
    "* 2N-embedding"
   ]
  },
  {
   "cell_type": "markdown",
   "id": "117180ee",
   "metadata": {
    "slideshow": {
     "slide_type": "subslide"
    }
   },
   "source": [
    "### 3N-embedding"
   ]
  },
  {
   "cell_type": "markdown",
   "id": "894670bd",
   "metadata": {
    "slideshow": {
     "slide_type": "fragment"
    }
   },
   "source": [
    "![3N_embedding_pseudo](3N_embedding.png)"
   ]
  },
  {
   "cell_type": "markdown",
   "id": "a0473274",
   "metadata": {
    "slideshow": {
     "slide_type": "fragment"
    }
   },
   "source": [
    "$S'$ is our new string that: \n",
    "* is 3 times the length of our original string\n",
    "* contains padding characters"
   ]
  },
  {
   "cell_type": "code",
   "execution_count": 74,
   "id": "74a3a5ab",
   "metadata": {
    "slideshow": {
     "slide_type": "subslide"
    }
   },
   "outputs": [
    {
     "name": "stdout",
     "output_type": "stream",
     "text": [
      "CAGAGCCAGTCGGATGGAGTGTGGAGCGCAGTGACAGTGCTGCATTGTGC\n",
      "110110111011011010010010111101010010101010101110001110111001100101010110001100111101111111011100101001100011110010101110111001001101000110010101010110\n"
     ]
    },
    {
     "data": {
      "text/plain": [
       "'CAGGAGGCCAAGTTCGGGGGAAATTGGAGGTTGGGTTGGGGAAGGCGCCCPPPPPPPPPPPPPPPPPPPPPPPPPPPPPPPPPPPPPPPPPPPPPPPPPPPPPPPPPPPPPPPPPPPPPPPPPPPPPPPPPPPPPPPPPPPPPPPPPPPP'"
      ]
     },
     "execution_count": 74,
     "metadata": {},
     "output_type": "execute_result"
    }
   ],
   "source": [
    "def three_n_embedding(S: str, r: str):\n",
    "    i = 0\n",
    "    N = len(S)\n",
    "    P = 'P'\n",
    "    output = list(3 * N * P)\n",
    "    \n",
    "    for j in range(N):\n",
    "        if i < N:\n",
    "            output[j] = S[i]\n",
    "        else:\n",
    "            output[j] = P\n",
    "        i += int(r[j])\n",
    "    \n",
    "    return ''.join(output)\n",
    "\n",
    "\n",
    "N = 50 # sequence length \n",
    "S = ''.join([random.choice('CGTA') for i in range(N)])\n",
    "r = ''.join([random.choice('10') for i in range(3 * N)])\n",
    "\n",
    "print(S)\n",
    "print(r)\n",
    "\n",
    "three_n_embedding(S, r)"
   ]
  },
  {
   "cell_type": "markdown",
   "id": "d2f8bbea",
   "metadata": {
    "slideshow": {
     "slide_type": "subslide"
    }
   },
   "source": [
    "### Let's role the dice"
   ]
  },
  {
   "cell_type": "markdown",
   "id": "2668a3ca",
   "metadata": {
    "slideshow": {
     "slide_type": "fragment"
    }
   },
   "source": [
    "#### Our function from before\n",
    "$D(x,y) = D_H(f(x),f(y)) / d_E(x,y)$"
   ]
  },
  {
   "cell_type": "code",
   "execution_count": 77,
   "id": "98ef390b",
   "metadata": {
    "slideshow": {
     "slide_type": "fragment"
    }
   },
   "outputs": [
    {
     "data": {
      "text/plain": [
       "1.4388120839733742"
      ]
     },
     "execution_count": 77,
     "metadata": {},
     "output_type": "execute_result"
    }
   ],
   "source": [
    "def create_random_string(chars: str, N: int):\n",
    "    return ''.join([random.choice(chars) for i in range(N)])\n",
    "\n",
    "def hamming_distance(S1, S2):\n",
    "    # https://en.wikipedia.org/wiki/Hamming_distance\n",
    "    return sum(a != b for a, b in zip(S1, S2))\n",
    "\n",
    "\n",
    "N = 7500\n",
    "nucleotides = 'ACTG'\n",
    "bits = '10'\n",
    "random.seed(17)\n",
    "\n",
    "x_str = create_random_string(nucleotides, N) \n",
    "y_str = create_random_string(nucleotides, N)\n",
    "r = create_random_string(bits, 3 * N)\n",
    "\n",
    "def calculate_distortion(f, x_str, y_str, r):\n",
    "    return hamming_distance(f(x_str, r), f(y_str, r)) / levenshtein_distance(x_str, y_str, False)\n",
    "\n",
    "\n",
    "calculate_distortion(f = three_n_embedding, x_str = x_str, y_str = y_str, r = r)"
   ]
  },
  {
   "cell_type": "markdown",
   "id": "ae3c65c1",
   "metadata": {
    "slideshow": {
     "slide_type": "subslide"
    }
   },
   "source": [
    "#### 2N Embedding"
   ]
  },
  {
   "cell_type": "markdown",
   "id": "21adb7fe",
   "metadata": {
    "slideshow": {
     "slide_type": "fragment"
    }
   },
   "source": [
    "* 2N embedding reduces complexity by copying the input string only twice.\n",
    "* This otherwise does the same task but with better performance."
   ]
  },
  {
   "cell_type": "markdown",
   "id": "e4535a2e",
   "metadata": {
    "slideshow": {
     "slide_type": "fragment"
    }
   },
   "source": [
    "![2N_embedding_pseudo](2N_embedding.png)"
   ]
  },
  {
   "cell_type": "markdown",
   "id": "84a75398",
   "metadata": {
    "slideshow": {
     "slide_type": "subslide"
    }
   },
   "source": [
    "### Extension"
   ]
  },
  {
   "cell_type": "markdown",
   "id": "d1ccfb66",
   "metadata": {
    "slideshow": {
     "slide_type": "fragment"
    }
   },
   "source": [
    "#### Seed-filter-extend (EEE) strategy\n",
    "1. Indexing the genome\n",
    "2. Reads are fragmented into *seeds* that are cross referenced with the indexed genome\n",
    "3. Candidates are filtered to reduce the computational load of extension.\n",
    "4. **Reads are edit distance approximated using aforementioned string matching algorithms.**"
   ]
  },
  {
   "cell_type": "markdown",
   "id": "fb770e46",
   "metadata": {
    "slideshow": {
     "slide_type": "fragment"
    }
   },
   "source": [
    "#### The edit distance is the hamming distance of the new strings\n",
    "* They refer to this as the *embedding distance*"
   ]
  },
  {
   "cell_type": "markdown",
   "id": "c2140037",
   "metadata": {
    "slideshow": {
     "slide_type": "subslide"
    }
   },
   "source": [
    "### Rectifying positions"
   ]
  },
  {
   "cell_type": "markdown",
   "id": "17f4d5cb",
   "metadata": {
    "slideshow": {
     "slide_type": "fragment"
    }
   },
   "source": [
    "* INDELs can have cascading effects on positions.\n",
    "* If there is an insertion in a prior seed, the start position of the next seed should be $position + 1$\n",
    "    * This is similar to the start position calculations we did in Deseq using the CIGAR string\n",
    "    \n",
    "* They take a range of kmers from the genome that are around the first seed and find the minimum embedding distance to find the best candidate."
   ]
  },
  {
   "cell_type": "markdown",
   "id": "a40c8ffe",
   "metadata": {
    "slideshow": {
     "slide_type": "subslide"
    }
   },
   "source": [
    "### Different alignment modes will effect extension\n",
    "* Mapping mode \n",
    "    * Targets a region in the reference genome that has the least embedding distance\n",
    "\n",
    "* Alignment mode\n",
    "    * Base by base comparison\n",
    "    * They use [libgaba](https://github.com/ocxtal/libgaba) library for full alignment "
   ]
  },
  {
   "cell_type": "markdown",
   "id": "0e9052fb",
   "metadata": {
    "slideshow": {
     "slide_type": "subslide"
    }
   },
   "source": [
    "### MAPQ calculations\n",
    "* MAPQ is a score for how good the alignment is. This is actually a column we have seen in the SAM Format.\n",
    "* Usually multiple candidates are extended to compare MAPQ scores.\n",
    "* In their implementation, they modify Bowtie2's MAPQ algorithm to use their embedding distance calculations.\n",
    "    * They compare RoC scores is their results. "
   ]
  },
  {
   "cell_type": "markdown",
   "id": "b20615e1",
   "metadata": {
    "slideshow": {
     "slide_type": "slide"
    }
   },
   "source": [
    "## Results\n"
   ]
  },
  {
   "cell_type": "markdown",
   "id": "ae5e1881",
   "metadata": {
    "slideshow": {
     "slide_type": "subslide"
    }
   },
   "source": [
    "### Simulation\n",
    "\n",
    "The authors use [Mason2](https://www.seqan.de/apps/mason.html) to generate simulated fastq reads. The [publication](http://publications.imp.fu-berlin.de/962/2/mason201009.pdf) provides a succinct introduction to their tool.\n",
    "\n",
    "```bash\n",
    "wget http://packages.seqan.de/mason2/mason2-2.0.9-Linux-x86_64.tar.xz\n",
    "unxz mason2-2.0.9-Linux-x86_64.tar.xz\n",
    "tar -xvf mason2-2.0.9-Linux-x86_64.tar\n",
    "cd mason2-2.0.9-Linux-x86_64/bin\n",
    "./mason_genome --help\n",
    "```\n",
    "\n",
    "M. Holtgrewe, “Mason – A Read Simulator for Second Generation Sequencing Data”, 2010-10"
   ]
  },
  {
   "cell_type": "markdown",
   "id": "e53e04fd",
   "metadata": {
    "slideshow": {
     "slide_type": "fragment"
    }
   },
   "source": [
    "```\n",
    "mason_genome - Random Genome Simulation\n",
    "=======================================\n",
    "\n",
    "SYNOPSIS\n",
    "    mason_genome [OPTIONS] [-l LEN]+ -o OUT.fa\n",
    "\n",
    "DESCRIPTION\n",
    "    Simulate a random genome to the output file. For each -l/--contig-length\n",
    "    entry, a contig with the given length will be simulated.\n",
    "\n",
    "OPTIONS\n",
    "    -h, --help\n",
    "          Display the help message.\n",
    "    --version-check BOOL\n",
    "          Turn this option off to disable version update notifications of the\n",
    "          application. One of 1, ON, TRUE, T, YES, 0, OFF, FALSE, F, and NO.\n",
    "          Default: 1.\n",
    "    --version\n",
    "          Display version information.\n",
    "    -q, --quiet\n",
    "          Set verbosity to a minimum.\n",
    "    -v, --verbose\n",
    "          Enable verbose output.\n",
    "    -vv, --very-verbose\n",
    "          Enable very verbose output.\n",
    "\n",
    "  Simulation Configuration:\n",
    "    -l, --contig-length List of INTEGER's\n",
    "          Length of the contig to simulate. Give one -l value for each contig\n",
    "          to simulate. In range [1..inf].\n",
    "    -s, --seed INTEGER\n",
    "          The seed to use for the random number generator. Default: 0.\n",
    "\n",
    "  Output Options:\n",
    "    -o, --out-file OUTPUT_FILE\n",
    "          Output file. Valid filetypes are: .sam[.*], .raw[.*], .frn[.*],\n",
    "          .fq[.*], .fna[.*], .ffn[.*], .fastq[.*], .fasta[.*], .faa[.*],\n",
    "          .fa[.*], and .bam, where * is any of the following extensions: gz\n",
    "          and bgzf for transparent (de)compression.\n",
    "\n",
    "EXAMPLES\n",
    "    mason_genome -l 1000 -l 4000 -o genome.fa\n",
    "          Simulate a genome with two contigs of lengths 1000 and 4000 and\n",
    "          write it to genome.fa.\n",
    "\n",
    "VERSION\n",
    "    Last update: 2018-02-02_13:03:05_+0100\n",
    "    mason_genome version: 2.0.9 [e165baf]\n",
    "    SeqAn version: 2.4.0\n",
    "```"
   ]
  },
  {
   "cell_type": "markdown",
   "id": "3b3a5ecd",
   "metadata": {
    "slideshow": {
     "slide_type": "subslide"
    }
   },
   "source": [
    "### Benchmarking different aligners"
   ]
  },
  {
   "cell_type": "markdown",
   "id": "df39152c",
   "metadata": {
    "slideshow": {
     "slide_type": "fragment"
    }
   },
   "source": [
    "![figure_2](benchmarking.jpg)"
   ]
  },
  {
   "cell_type": "markdown",
   "id": "f4bd61e2",
   "metadata": {
    "slideshow": {
     "slide_type": "notes"
    }
   },
   "source": [
    "Correctly mapped is 10% of read length"
   ]
  },
  {
   "cell_type": "markdown",
   "id": "8abb861a",
   "metadata": {
    "slideshow": {
     "slide_type": "subslide"
    }
   },
   "source": [
    "### RoC Curves"
   ]
  },
  {
   "cell_type": "markdown",
   "id": "6ac49b4e",
   "metadata": {
    "slideshow": {
     "slide_type": "fragment"
    }
   },
   "source": [
    "![Roc](Fig2_HTML.jpg)"
   ]
  },
  {
   "cell_type": "markdown",
   "id": "26d419eb",
   "metadata": {
    "slideshow": {
     "slide_type": "subslide"
    }
   },
   "source": [
    "### Comparison using varying read lengths"
   ]
  },
  {
   "cell_type": "markdown",
   "id": "893726b5",
   "metadata": {
    "slideshow": {
     "slide_type": "fragment"
    }
   },
   "source": [
    "![figure 3](Fig3_HTML.jpg)"
   ]
  },
  {
   "cell_type": "markdown",
   "id": "f7025e5a",
   "metadata": {
    "slideshow": {
     "slide_type": "fragment"
    }
   },
   "source": [
    "![read_lengths](read_lengths.jpg)"
   ]
  },
  {
   "cell_type": "markdown",
   "id": "42569684",
   "metadata": {
    "slideshow": {
     "slide_type": "subslide"
    }
   },
   "source": [
    "### Alignment Free Mapping Comparison "
   ]
  },
  {
   "cell_type": "markdown",
   "id": "70e12993",
   "metadata": {
    "slideshow": {
     "slide_type": "fragment"
    }
   },
   "source": [
    "![figure3](Fig3_HTML.jpg)"
   ]
  },
  {
   "cell_type": "markdown",
   "id": "8806803d",
   "metadata": {
    "slideshow": {
     "slide_type": "fragment"
    }
   },
   "source": [
    "![figure4](Fig4_HTML.jpg)"
   ]
  },
  {
   "cell_type": "markdown",
   "id": "43bc6534",
   "metadata": {
    "slideshow": {
     "slide_type": "subslide"
    }
   },
   "source": [
    "### Impact of embedding"
   ]
  },
  {
   "cell_type": "markdown",
   "id": "a79c8a40",
   "metadata": {
    "slideshow": {
     "slide_type": "fragment"
    }
   },
   "source": [
    "![impact_embedding](embedding_impact.jpg)"
   ]
  },
  {
   "cell_type": "markdown",
   "id": "09e25fef",
   "metadata": {
    "slideshow": {
     "slide_type": "subslide"
    }
   },
   "source": [
    "### Benchmarking with real data"
   ]
  },
  {
   "cell_type": "markdown",
   "id": "06bc968f",
   "metadata": {
    "slideshow": {
     "slide_type": "fragment"
    }
   },
   "source": [
    "![figure5](Fig5_HTML.jpg)\n",
    "\n",
    "**A** Accel-Align\n",
    "</br>\n",
    "**B** BWA-MEM\n",
    "</br>\n",
    "**C** Minimap2\n",
    "</br>\n",
    "**D** Bowtie2\n",
    "</br>\n",
    "**E** Subread\n",
    "</br>\n"
   ]
  },
  {
   "cell_type": "markdown",
   "id": "e60a6b1d",
   "metadata": {
    "slideshow": {
     "slide_type": "fragment"
    }
   },
   "source": [
    "![real](real_data.jpg)"
   ]
  },
  {
   "cell_type": "markdown",
   "id": "133acd66",
   "metadata": {
    "slideshow": {
     "slide_type": "fragment"
    }
   },
   "source": [
    "* Ti/Tv - transition-to-transversion ration (2.7-3.3), a metric for SNV detection \n",
    "* Precision - The number of true positives over all retrieved matches\n",
    "* Recall - The number of true positives identified over the number of actual matches (includes false negatives)\n",
    "* F-Score - Calculation of accuracy using precision and accuracy\n"
   ]
  },
  {
   "cell_type": "markdown",
   "id": "6e81551c",
   "metadata": {
    "slideshow": {
     "slide_type": "subslide"
    }
   },
   "source": [
    "### Kmer Size on Accuracy"
   ]
  },
  {
   "cell_type": "markdown",
   "id": "2fa81f7d",
   "metadata": {
    "slideshow": {
     "slide_type": "fragment"
    }
   },
   "source": [
    "* Remember that they used 32-mers\n",
    "* They adjusted to 25-mers and tested their accuracy\n",
    "    * The reason for this is to increase performance"
   ]
  },
  {
   "cell_type": "markdown",
   "id": "258b175a",
   "metadata": {
    "slideshow": {
     "slide_type": "fragment"
    }
   },
   "source": [
    "![figure6](Fig6_HTML.jpg)"
   ]
  },
  {
   "cell_type": "markdown",
   "id": "ab2c1c35",
   "metadata": {
    "slideshow": {
     "slide_type": "fragment"
    }
   },
   "source": [
    "* They still have 2-6x better execution time despite increased seeding, and they credit embedding for this"
   ]
  },
  {
   "cell_type": "markdown",
   "id": "57dfa51b",
   "metadata": {
    "slideshow": {
     "slide_type": "subslide"
    }
   },
   "source": [
    "### Indel and SNP Detection"
   ]
  },
  {
   "attachments": {
    "12859_2021_4162_Fig8_HTML.jpg": {
     "image/jpeg": "[encoded data removed]"
    }
   },
   "cell_type": "markdown",
   "id": "60268329",
   "metadata": {
    "slideshow": {
     "slide_type": "fragment"
    }
   },
   "source": [
    "![12859_2021_4162_Fig8_HTML.jpg](attachment:12859_2021_4162_Fig8_HTML.jpg)\n",
    "\n",
    "**A** Accel-Align\n",
    "</br>\n",
    "**B** BWA-MEM\n",
    "</br>\n",
    "**C** Minimap2\n",
    "</br>\n",
    "**D** Bowtie2\n",
    "</br>\n",
    "**E** Subread\n",
    "</br>"
   ]
  },
  {
   "cell_type": "markdown",
   "id": "407a0b07",
   "metadata": {
    "scrolled": true,
    "slideshow": {
     "slide_type": "fragment"
    }
   },
   "source": [
    "![fig9](Fig9_HTML.jpg)"
   ]
  },
  {
   "cell_type": "markdown",
   "id": "594edca1",
   "metadata": {
    "slideshow": {
     "slide_type": "fragment"
    }
   },
   "source": [
    "![snp_indel_table](real_data.jpg)\n",
    "\n",
    "* A majority of indels were discovered, and many missed were shorter reads in length   "
   ]
  },
  {
   "cell_type": "markdown",
   "id": "221b9461",
   "metadata": {
    "slideshow": {
     "slide_type": "slide"
    }
   },
   "source": [
    "## Discussion"
   ]
  },
  {
   "cell_type": "markdown",
   "id": "658cb8ed",
   "metadata": {
    "slideshow": {
     "slide_type": "subslide"
    }
   },
   "source": [
    "* What other areas in bioinformatics may need to be optimized due to increased read sizes or data in general?\n",
    "\n",
    "* Are there tests that were missed by that would have made their argument more effective?"
   ]
  },
  {
   "cell_type": "markdown",
   "id": "5aeaf9b2",
   "metadata": {
    "slideshow": {
     "slide_type": "skip"
    }
   },
   "source": [
    "### Compile Instructions\n",
    "\n",
    "```bash\n",
    "jupyter nbconvert presentation.ipynb --to slides --post serve --SlidesExporter.reveal_scroll=True\n",
    "```"
   ]
  },
  {
   "cell_type": "code",
   "execution_count": null,
   "id": "2b68129a",
   "metadata": {
    "scrolled": true
   },
   "outputs": [],
   "source": []
  }
 ],
 "metadata": {
  "celltoolbar": "Slideshow",
  "kernelspec": {
   "display_name": "Python 3 (ipykernel)",
   "language": "python",
   "name": "python3"
  },
  "language_info": {
   "codemirror_mode": {
    "name": "ipython",
    "version": 3
   },
   "file_extension": ".py",
   "mimetype": "text/x-python",
   "name": "python",
   "nbconvert_exporter": "python",
   "pygments_lexer": "ipython3",
   "version": "3.8.12"
  }
 },
 "nbformat": 4,
 "nbformat_minor": 5
}
