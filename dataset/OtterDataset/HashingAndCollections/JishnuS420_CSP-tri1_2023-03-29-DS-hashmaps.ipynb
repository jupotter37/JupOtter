{
 "cells": [
  {
   "attachments": {},
   "cell_type": "markdown",
   "metadata": {},
   "source": [
    "#  Data Structures- Hashmaps, Sets, Hash Tables, Hashing and Collisions\n",
    "> Observing hashmaps with python dictionaries\n",
    "- toc: true"
   ]
  },
  {
   "attachments": {},
   "cell_type": "markdown",
   "metadata": {},
   "source": [
    "## What is a Hashtable/Hashmap?\n",
    "\n",
    "> A hashtable is a data structure that with a collection of key-value pairs, where each key maps to a value, and the keys must be unique and hashable.\n",
    "\n",
    "- In Python there is a built in hashtable known as a dictionary.\n",
    "\n",
    "> The primary purpose of a hashtable is to provide efficient lookup, insertion, and deletion operations. When an element is to be inserted into the hashtable, a hash function is used to map the key to a specific index in the underlying array that is used to store the key-value pairs. The value is then stored at that index. When searching for a value, the hash function is used again to find the index where the value is stored.\n",
    "\n",
    "> The key advantage of a hashtable over other data structures like arrays and linked lists is its average-case time complexity for lookup, insertion, and deletion operations.\n",
    "\n",
    "- The typical time complexity of a hashtable is constant.\n"
   ]
  },
  {
   "attachments": {},
   "cell_type": "markdown",
   "metadata": {},
   "source": [
    "## What is Hashing and Collision?\n",
    "\n",
    "> Hashing is the process of mapping a given key to a value in a hash table or hashmap, using a hash function. The hash function takes the key as input and produces a hash value or hash code, which is then used to determine the index in the underlying array where the value is stored. The purpose of hashing is to provide a quick and efficient way to access data, by eliminating the need to search through an entire data structure to find a value.\n",
    "\n",
    "> However, it is possible for two different keys to map to the same hash value, resulting in a collision. When a collision occurs, there are different ways to resolve it, depending on the collision resolution strategy used.\n",
    "\n",
    "> Python's dictionary implementation is optimized to handle collisions efficiently, and the performance of the dictionary is generally very good, even in the presence of collisions. However, if the number of collisions is very high, the performance of the dictionary can degrade, so it is important to choose a good hash function that minimizes collisions when designing a Python dictionary.\n",
    "\n",
    "## What is a Set?"
   ]
  },
  {
   "cell_type": "code",
   "execution_count": 3,
   "metadata": {},
   "outputs": [
    {
     "name": "stdout",
     "output_type": "stream",
     "text": [
      "{1, 2, 3}\n"
     ]
    }
   ],
   "source": [
    "# Creating a set using set() function\n",
    "my_set = set([1, 2, 3, 2, 1])\n",
    "print(my_set)  \n",
    "\n",
    "# What do you notice in the output?\n",
    "# The output got rid of the duplicate values\n",
    "\n",
    "# Why do you think Sets are in the same tech talk as Hashmaps/Hashtables?\n",
    "# Hashmaps probably do the same thing also gets rid of any duplicate data but maybe for data structures and stuff apart from values\n",
    "# Sets use a hash table where the elements serve as the keys "
   ]
  },
  {
   "attachments": {},
   "cell_type": "markdown",
   "metadata": {},
   "source": [
    "## Dictionary Example\n",
    "\n",
    "Below are just some basic features of a dictionary. As always, documentation is always the main source for all the full capablilties. "
   ]
  },
  {
   "cell_type": "code",
   "execution_count": 4,
   "metadata": {},
   "outputs": [
    {
     "name": "stdout",
     "output_type": "stream",
     "text": [
      "{'title': 'Lover', 'artist': 'Taylor Swift', 'year': 2019, 'genre': ['Pop', 'Synth-pop'], 'tracks': {1: 'I Forgot That You Existed', 2: 'Cruel Summer', 3: 'Lover', 4: 'The Man', 5: 'The Archer', 6: 'I Think He Knows', 7: 'Miss Americana & The Heartbreak Prince', 8: 'Paper Rings', 9: 'Cornelia Street', 10: 'Death By A Thousand Cuts', 11: 'London Boy', 12: \"Soon You'll Get Better (feat. Dixie Chicks)\", 13: 'False God', 14: 'You Need To Calm Down', 15: 'Afterglow', 16: 'Me! (feat. Brendon Urie of Panic! At The Disco)', 17: \"It's Nice To Have A Friend\", 18: 'Daylight'}}\n"
     ]
    }
   ],
   "source": [
    "# Creating a dictionary with information about the album \"Lover\"\n",
    "lover_album = {\n",
    "    \"title\": \"Lover\",\n",
    "    \"artist\": \"Taylor Swift\",\n",
    "    \"year\": 2019,\n",
    "    \"genre\": [\"Pop\", \"Synth-pop\"],\n",
    "    \"tracks\": {\n",
    "        1: \"I Forgot That You Existed\",\n",
    "        2: \"Cruel Summer\",\n",
    "        3: \"Lover\",\n",
    "        4: \"The Man\",\n",
    "        5: \"The Archer\",\n",
    "        6: \"I Think He Knows\",\n",
    "        7: \"Miss Americana & The Heartbreak Prince\",\n",
    "        8: \"Paper Rings\",\n",
    "        9: \"Cornelia Street\",\n",
    "        10: \"Death By A Thousand Cuts\",\n",
    "        11: \"London Boy\",\n",
    "        12: \"Soon You'll Get Better (feat. Dixie Chicks)\",\n",
    "        13: \"False God\",\n",
    "        14: \"You Need To Calm Down\",\n",
    "        15: \"Afterglow\",\n",
    "        16: \"Me! (feat. Brendon Urie of Panic! At The Disco)\",\n",
    "        17: \"It's Nice To Have A Friend\",\n",
    "        18: \"Daylight\"\n",
    "    }\n",
    "}\n",
    "\n",
    "# What data structures do you see?\n",
    "# A list and dictionary can be seen, since there is square brackets and curly brackets\n",
    "# Key-value pairs for the albums and stuff\n",
    "\n",
    "# Printing the dictionary\n",
    "print(lover_album)"
   ]
  },
  {
   "cell_type": "code",
   "execution_count": 5,
   "metadata": {},
   "outputs": [
    {
     "name": "stdout",
     "output_type": "stream",
     "text": [
      "{1: 'I Forgot That You Existed', 2: 'Cruel Summer', 3: 'Lover', 4: 'The Man', 5: 'The Archer', 6: 'I Think He Knows', 7: 'Miss Americana & The Heartbreak Prince', 8: 'Paper Rings', 9: 'Cornelia Street', 10: 'Death By A Thousand Cuts', 11: 'London Boy', 12: \"Soon You'll Get Better (feat. Dixie Chicks)\", 13: 'False God', 14: 'You Need To Calm Down', 15: 'Afterglow', 16: 'Me! (feat. Brendon Urie of Panic! At The Disco)', 17: \"It's Nice To Have A Friend\", 18: 'Daylight'}\n",
      "{1: 'I Forgot That You Existed', 2: 'Cruel Summer', 3: 'Lover', 4: 'The Man', 5: 'The Archer', 6: 'I Think He Knows', 7: 'Miss Americana & The Heartbreak Prince', 8: 'Paper Rings', 9: 'Cornelia Street', 10: 'Death By A Thousand Cuts', 11: 'London Boy', 12: \"Soon You'll Get Better (feat. Dixie Chicks)\", 13: 'False God', 14: 'You Need To Calm Down', 15: 'Afterglow', 16: 'Me! (feat. Brendon Urie of Panic! At The Disco)', 17: \"It's Nice To Have A Friend\", 18: 'Daylight'}\n"
     ]
    }
   ],
   "source": [
    "# Retrieve value from dictionary with key\n",
    "print(lover_album.get('tracks'))\n",
    "# or\n",
    "print(lover_album['tracks'])"
   ]
  },
  {
   "cell_type": "code",
   "execution_count": 6,
   "metadata": {},
   "outputs": [
    {
     "name": "stdout",
     "output_type": "stream",
     "text": [
      "The Man\n",
      "The Man\n"
     ]
    }
   ],
   "source": [
    "# Retrieve value from a dictionary inside a dictionary\n",
    "print(lover_album.get('tracks')[4])\n",
    "# or\n",
    "print(lover_album['tracks'][4])"
   ]
  },
  {
   "cell_type": "code",
   "execution_count": 7,
   "metadata": {},
   "outputs": [
    {
     "name": "stdout",
     "output_type": "stream",
     "text": [
      "Without set:\n",
      "{'title': 'Lover', 'artist': 'Taylor Swift', 'year': 2019, 'genre': ['Pop', 'Synth-pop'], 'tracks': {1: 'I Forgot That You Existed', 2: 'Cruel Summer', 3: 'Lover', 4: 'The Man', 5: 'The Archer', 6: 'I Think He Knows', 7: 'Miss Americana & The Heartbreak Prince', 8: 'Paper Rings', 9: 'Cornelia Street', 10: 'Death By A Thousand Cuts', 11: 'London Boy', 12: \"Soon You'll Get Better (feat. Dixie Chicks)\", 13: 'False God', 14: 'You Need To Calm Down', 15: 'Afterglow', 16: 'Me! (feat. Brendon Urie of Panic! At The Disco)', 17: \"It's Nice To Have A Friend\", 18: 'Daylight'}, 'producer': {'Louis Bell', 'Frank Dukes', 'Joel Little', 'Jack Antonoff', 'Taylor Swift'}}\n",
      "With set:\n",
      "{'Louis Bell', 'Frank Dukes', 'Joel Little', 'Jack Antonoff', 'Taylor Swift'}\n"
     ]
    }
   ],
   "source": [
    "# adding a value with a new key\n",
    "lover_album[\"producer\"] = ['Taylor Swift', 'Jack Antonoff', 'Joel Little', 'Taylor Swift', 'Louis Bell', 'Frank Dukes']\n",
    "\n",
    "# What can you change to make sure there are no duplicate producers?\n",
    "# You could implement a set to cleanse the data in the list  \n",
    "# \n",
    "\n",
    "lover_album[\"producer\"] = set(['Taylor Swift', 'Jack Antonoff', 'Joel Little', 'Taylor Swift', 'Louis Bell', 'Frank Dukes'])\n",
    "\n",
    "# Printing the dictionary\n",
    "print(\"Dictionary:\")\n",
    "print(lover_album)\n",
    "\n",
    "print(\"With set:\")\n",
    "print(lover_album.get(\"producer\"))"
   ]
  },
  {
   "cell_type": "code",
   "execution_count": 8,
   "metadata": {},
   "outputs": [
    {
     "name": "stdout",
     "output_type": "stream",
     "text": [
      "{'title': 'Lover', 'artist': 'Taylor Swift', 'year': 2019, 'genre': ['Pop', 'Synth-pop'], 'tracks': {1: 'I Forgot That You Existed', 2: 'Cruel Summer', 3: 'Lover', 4: 'The Man', 5: 'The Archer', 6: 'I Think He Knows', 7: 'Miss Americana & The Heartbreak Prince', 8: 'Paper Rings', 9: 'Cornelia Street', 10: 'Death By A Thousand Cuts', 11: 'London Boy', 12: \"Soon You'll Get Better (feat. Dixie Chicks)\", 13: 'False God', 14: 'You Need To Calm Down', 15: 'Afterglow', 16: 'Me! (feat. Brendon Urie of Panic! At The Disco)', 17: \"It's Nice To Have A Friend\", 18: 'Daylight', 19: 'All Of The Girls You Loved Before'}, 'producer': {'Louis Bell', 'Frank Dukes', 'Joel Little', 'Jack Antonoff', 'Taylor Swift'}}\n"
     ]
    }
   ],
   "source": [
    "# Adding a an key-value pair to an existing key \n",
    "lover_album[\"tracks\"].update({19: \"All Of The Girls You Loved Before\"})\n",
    "\n",
    "# How would add an additional genre to the dictionary, like electropop? \n",
    "# We could also use an append() method to add a new genre \n",
    "# same thing but change some values\n",
    "\n",
    "# Printing the dictionary\n",
    "print(lover_album)"
   ]
  },
  {
   "cell_type": "code",
   "execution_count": 16,
   "metadata": {},
   "outputs": [
    {
     "name": "stdout",
     "output_type": "stream",
     "text": [
      "Regular:\n",
      "\n",
      "title: Lover\n",
      "artist: Taylor Swift\n",
      "year: 2019\n",
      "genre: ['Pop', 'Synth-pop']\n",
      "tracks: {1: 'I Forgot That You Existed', 2: 'Cruel Summer', 3: 'Lover', 4: 'The Man', 5: 'The Archer', 6: 'I Think He Knows', 7: 'Miss Americana & The Heartbreak Prince', 8: 'Paper Rings', 9: 'Cornelia Street', 10: 'Death By A Thousand Cuts', 11: 'London Boy', 12: \"Soon You'll Get Better (feat. Dixie Chicks)\", 13: 'False God', 14: 'You Need To Calm Down', 15: 'Afterglow', 16: 'Me! (feat. Brendon Urie of Panic! At The Disco)', 17: \"It's Nice To Have A Friend\", 18: 'Daylight', 19: 'All Of The Girls You Loved Before'}\n",
      "producer: {'Louis Bell', 'Frank Dukes', 'Joel Little', 'Jack Antonoff', 'Taylor Swift'}\n",
      "\n",
      "Beautified:\n",
      "\n",
      "Title: Lover\n",
      "Artist: Taylor Swift\n",
      "Producer(s):\n",
      "Genres:\n",
      "- Pop\n",
      "- Synth-pop\n",
      "Tracks:\n",
      "1. I Forgot That You Existed\n",
      "2. Cruel Summer\n",
      "3. Lover\n",
      "4. The Man\n",
      "5. The Archer\n",
      "6. I Think He Knows\n",
      "7. Miss Americana & The Heartbreak Prince\n",
      "8. Paper Rings\n",
      "9. Cornelia Street\n",
      "10. Death By A Thousand Cuts\n",
      "11. London Boy\n",
      "12. Soon You'll Get Better (feat. Dixie Chicks)\n",
      "13. False God\n",
      "14. You Need To Calm Down\n",
      "15. Afterglow\n",
      "16. Me! (feat. Brendon Urie of Panic! At The Disco)\n",
      "17. It's Nice To Have A Friend\n",
      "18. Daylight\n",
      "19. All Of The Girls You Loved Before\n"
     ]
    }
   ],
   "source": [
    "print(\"Regular:\")\n",
    "print(\"\")\n",
    "# Print lover_album in more readable format\n",
    "for k,v in lover_album.items(): # iterate using a for loop for key and value\n",
    "    print(str(k) + \": \" + str(v))\n",
    "\n",
    "# Write your own code to print tracks in readable format\n",
    "print(\"\")\n",
    "print(\"Beautified:\")\n",
    "print(\"\")\n",
    "print(f\"Title: {lover_album['title']}\")\n",
    "print(f\"Artist: {lover_album['artist']}\")\n",
    "print('Producer(s):')\n",
    "print(\"Genres:\")\n",
    "for genre in lover_album['genre']:\n",
    "    print(f\"- {genre}\")\n",
    "print(\"Tracks:\")\n",
    "for track_number, track_title in lover_album['tracks'].items():\n",
    "    print(f\"{track_number}. {track_title}\")"
   ]
  },
  {
   "cell_type": "code",
   "execution_count": 17,
   "metadata": {},
   "outputs": [
    {
     "name": "stdout",
     "output_type": "stream",
     "text": [
      "{'Louis Bell', 'Frank Dukes', 'Joel Little', 'Jack Antonoff', 'Taylor Swift'}\n"
     ]
    }
   ],
   "source": [
    "# Using conditionals to retrieve a random song\n",
    "def search():\n",
    "    search = input(\"What would you like to know about the album?\")\n",
    "    if lover_album.get(search.lower()) == None:\n",
    "        print(\"Invalid Search\")\n",
    "    else:\n",
    "        print(lover_album.get(search.lower()))\n",
    "\n",
    "search()\n",
    "\n",
    "# This is a very basic code segment, how can you improve upon this code?\n",
    "# Make the json into readable form \n",
    "# "
   ]
  },
  {
   "attachments": {},
   "cell_type": "markdown",
   "metadata": {},
   "source": [
    "## Hacks\n",
    "\n",
    "- Answer *ALL* questions in the code segments\n",
    "- Create a diagram or comparison illustration (Canva).\n",
    "    - What are the pro and cons of using this data structure? \n",
    "    - Dictionary vs List    \n",
    "- Expand upon the code given to you, possible improvements in comments\n",
    "- Build your own album showing features of a python dictionary\n",
    "\n",
    "- For Mr. Yeung's class: Justify your favorite Taylor Swift song, answer may effect seed"
   ]
  },
  {
   "attachments": {},
   "cell_type": "markdown",
   "metadata": {},
   "source": [
    "# Own Album"
   ]
  },
  {
   "cell_type": "code",
   "execution_count": 4,
   "metadata": {},
   "outputs": [
    {
     "name": "stdout",
     "output_type": "stream",
     "text": [
      "{'title': 'Luv Is Rage 2', 'artist': 'Lil Uzi Vert', 'release_date': 'August 25, 2017', 'genre': ['Rap'], 'tracks': {1: 'Two®', 2: '444+222', 3: 'Sauce It Up', 4: 'No Sleep Leak', 5: 'The Way Life Goes (feat. Oh Wonder)', 6: 'For Real', 7: 'Feelings Mutual', 8: 'Neon Guts (feat. Pharrell Williams)', 9: 'Early 20 Rager', 10: 'UnFazed (feat. The Weeknd)', 11: 'Pretty Mami', 12: 'How To Talk', 13: 'X', 14: 'Malfunction', 15: 'Dark Queen', 16: 'XO TOUR Llif3', 17: 'Skir Skirr'}}\n"
     ]
    }
   ],
   "source": [
    "\n",
    "HandV = {\n",
    "  \"title\": \"Luv Is Rage 2\",\n",
    "  \"artist\": \"Lil Uzi Vert\",\n",
    "  \"release_date\": \"August 25, 2017\",\n",
    "  \"genre\" : [\"Rap\"],\n",
    "  \"tracks\": {\n",
    "    1: \"Two®\",\n",
    "    2: \"444+222\",\n",
    "    3: \"Sauce It Up\",\n",
    "    4: \"No Sleep Leak\",\n",
    "    5: \"The Way Life Goes (feat. Oh Wonder)\",\n",
    "    6: \"For Real\",\n",
    "    7: \"Feelings Mutual\",\n",
    "    8: \"Neon Guts (feat. Pharrell Williams)\",\n",
    "    9: \"Early 20 Rager\",\n",
    "    10: \"UnFazed (feat. The Weeknd)\",\n",
    "    11: \"Pretty Mami\",\n",
    "    12: \"How To Talk\",\n",
    "    13: \"X\",\n",
    "    14: \"Malfunction\",\n",
    "    15: \"Dark Queen\",\n",
    "    16: \"XO TOUR Llif3\",\n",
    "    17: \"Skir Skirr\"\n",
    "    }\n",
    "}\n",
    "\n",
    "# Printing the dictionary\n",
    "print(HandV)"
   ]
  },
  {
   "cell_type": "code",
   "execution_count": 6,
   "metadata": {},
   "outputs": [
    {
     "name": "stdout",
     "output_type": "stream",
     "text": [
      "{1: 'Two®', 2: '444+222', 3: 'Sauce It Up', 4: 'No Sleep Leak', 5: 'The Way Life Goes (feat. Oh Wonder)', 6: 'For Real', 7: 'Feelings Mutual', 8: 'Neon Guts (feat. Pharrell Williams)', 9: 'Early 20 Rager', 10: 'UnFazed (feat. The Weeknd)', 11: 'Pretty Mami', 12: 'How To Talk', 13: 'X', 14: 'Malfunction', 15: 'Dark Queen', 16: 'XO TOUR Llif3', 17: 'Skir Skirr'}\n",
      "{1: 'Two®', 2: '444+222', 3: 'Sauce It Up', 4: 'No Sleep Leak', 5: 'The Way Life Goes (feat. Oh Wonder)', 6: 'For Real', 7: 'Feelings Mutual', 8: 'Neon Guts (feat. Pharrell Williams)', 9: 'Early 20 Rager', 10: 'UnFazed (feat. The Weeknd)', 11: 'Pretty Mami', 12: 'How To Talk', 13: 'X', 14: 'Malfunction', 15: 'Dark Queen', 16: 'XO TOUR Llif3', 17: 'Skir Skirr'}\n",
      " \n",
      "No Sleep Leak\n",
      "No Sleep Leak\n"
     ]
    }
   ],
   "source": [
    "# Retrieve value from dictionary with key\n",
    "print(HandV.get('tracks'))\n",
    "# or\n",
    "print(HandV['tracks'])\n",
    "\n",
    "print(\" \")\n",
    "# Retrieve value from a dictionary inside a dictionary\n",
    "print(HandV.get('tracks')[4])\n",
    "# or\n",
    "print(HandV['tracks'][4])"
   ]
  },
  {
   "cell_type": "code",
   "execution_count": 8,
   "metadata": {},
   "outputs": [
    {
     "name": "stdout",
     "output_type": "stream",
     "text": [
      "Dictionary:\n",
      "{'title': 'Luv Is Rage 2', 'artist': 'Lil Uzi Vert', 'release_date': 'August 25, 2017', 'genre': ['Rap'], 'tracks': {1: 'Two®', 2: '444+222', 3: 'Sauce It Up', 4: 'No Sleep Leak', 5: 'The Way Life Goes (feat. Oh Wonder)', 6: 'For Real', 7: 'Feelings Mutual', 8: 'Neon Guts (feat. Pharrell Williams)', 9: 'Early 20 Rager', 10: 'UnFazed (feat. The Weeknd)', 11: 'Pretty Mami', 12: 'How To Talk', 13: 'X', 14: 'Malfunction', 15: 'Dark Queen', 16: 'XO TOUR Llif3', 17: 'Skir Skirr'}, 'producer': {'21 Savage', 'Travis Scott', 'Metro Boomin', 'Takeoff', 'Gunna'}}\n",
      "With set:\n",
      "{'21 Savage', 'Travis Scott', 'Metro Boomin', 'Takeoff', 'Gunna'}\n"
     ]
    }
   ],
   "source": [
    "# adding a value with a new key\n",
    "HandV[\"producer\"] = ['Metro Boomin', 'Travis Scott', 'Gunna', '21 Savage', 'Metro Boomin', 'Takeoff']\n",
    "\n",
    "# What can you change to make sure there are no duplicate producers?\n",
    "# You could implement a set to cleanse the data in the list  \n",
    "# \n",
    "\n",
    "HandV[\"producer\"] = set(['Metro Boomin', 'Travis Scott', 'Gunna', '21 Savage', 'Metro Boomin', 'Takeoff'])\n",
    "\n",
    "# Printing the dictionary\n",
    "print(\"Dictionary:\")\n",
    "print(HandV)\n",
    "\n",
    "print(\"With set:\")\n",
    "print(HandV.get(\"producer\"))"
   ]
  },
  {
   "cell_type": "code",
   "execution_count": 10,
   "metadata": {},
   "outputs": [
    {
     "name": "stdout",
     "output_type": "stream",
     "text": [
      "{'title': 'Luv Is Rage 2', 'artist': 'Lil Uzi Vert', 'release_date': 'August 25, 2017', 'genre': ['Rap'], 'tracks': {1: 'Two®', 2: '444+222', 3: 'Sauce It Up', 4: 'No Sleep Leak', 5: 'The Way Life Goes (feat. Oh Wonder)', 6: 'For Real', 7: 'Feelings Mutual', 8: 'Neon Guts (feat. Pharrell Williams)', 9: 'Early 20 Rager', 10: 'UnFazed (feat. The Weeknd)', 11: 'Pretty Mami', 12: 'How To Talk', 13: 'X', 14: 'Malfunction', 15: 'Dark Queen', 16: 'XO TOUR Llif3', 17: 'Skir Skirr', 19: 'Raindrops'}, 'producer': {'21 Savage', 'Travis Scott', 'Metro Boomin', 'Takeoff', 'Gunna'}}\n"
     ]
    }
   ],
   "source": [
    "# Adding a an key-value pair to an existing key \n",
    "HandV[\"tracks\"].update({19: \"Raindrops\"})\n",
    "\n",
    "# How would add an additional genre to the dictionary, like electropop? \n",
    "# We could also use an append() method to add a new genre \n",
    "# same thing but change some values\n",
    "\n",
    "# Printing the dictionary\n",
    "print(HandV)"
   ]
  },
  {
   "cell_type": "code",
   "execution_count": 11,
   "metadata": {},
   "outputs": [
    {
     "name": "stdout",
     "output_type": "stream",
     "text": [
      "Regular:\n",
      "\n",
      "title: Luv Is Rage 2\n",
      "artist: Lil Uzi Vert\n",
      "release_date: August 25, 2017\n",
      "genre: ['Rap']\n",
      "tracks: {1: 'Two®', 2: '444+222', 3: 'Sauce It Up', 4: 'No Sleep Leak', 5: 'The Way Life Goes (feat. Oh Wonder)', 6: 'For Real', 7: 'Feelings Mutual', 8: 'Neon Guts (feat. Pharrell Williams)', 9: 'Early 20 Rager', 10: 'UnFazed (feat. The Weeknd)', 11: 'Pretty Mami', 12: 'How To Talk', 13: 'X', 14: 'Malfunction', 15: 'Dark Queen', 16: 'XO TOUR Llif3', 17: 'Skir Skirr', 19: 'Raindrops'}\n",
      "producer: {'21 Savage', 'Travis Scott', 'Metro Boomin', 'Takeoff', 'Gunna'}\n",
      "\n",
      "Beautified:\n",
      "\n",
      "Title: Luv Is Rage 2\n",
      "Artist: Lil Uzi Vert\n",
      "Producer(s):\n",
      "Genres:\n",
      "- Rap\n",
      "Tracks:\n",
      "1. Two®\n",
      "2. 444+222\n",
      "3. Sauce It Up\n",
      "4. No Sleep Leak\n",
      "5. The Way Life Goes (feat. Oh Wonder)\n",
      "6. For Real\n",
      "7. Feelings Mutual\n",
      "8. Neon Guts (feat. Pharrell Williams)\n",
      "9. Early 20 Rager\n",
      "10. UnFazed (feat. The Weeknd)\n",
      "11. Pretty Mami\n",
      "12. How To Talk\n",
      "13. X\n",
      "14. Malfunction\n",
      "15. Dark Queen\n",
      "16. XO TOUR Llif3\n",
      "17. Skir Skirr\n",
      "19. Raindrops\n"
     ]
    }
   ],
   "source": [
    "print(\"Regular:\")\n",
    "print(\"\")\n",
    "# Print lover_album in more readable format\n",
    "for k,v in HandV.items(): # iterate using a for loop for key and value\n",
    "    print(str(k) + \": \" + str(v))\n",
    "\n",
    "# Write your own code to print tracks in readable format\n",
    "print(\"\")\n",
    "print(\"Beautified:\")\n",
    "print(\"\")\n",
    "print(f\"Title: {HandV['title']}\")\n",
    "print(f\"Artist: {HandV['artist']}\")\n",
    "print('Producer(s):')\n",
    "print(\"Genres:\")\n",
    "for genre in HandV['genre']:\n",
    "    print(f\"- {genre}\")\n",
    "print(\"Tracks:\")\n",
    "for track_number, track_title in HandV['tracks'].items():\n",
    "    print(f\"{track_number}. {track_title}\")"
   ]
  },
  {
   "cell_type": "code",
   "execution_count": 12,
   "metadata": {},
   "outputs": [
    {
     "name": "stdout",
     "output_type": "stream",
     "text": [
      "Lil Uzi Vert\n"
     ]
    }
   ],
   "source": [
    "# Using conditionals to retrieve a random song\n",
    "def search():\n",
    "    search = input(\"What would you like to know about the album?\")\n",
    "    if HandV.get(search.lower()) == None:\n",
    "        print(\"Invalid Search\")\n",
    "    else:\n",
    "        print(HandV.get(search.lower()))\n",
    "\n",
    "search()\n",
    "\n",
    "# This is a very basic code segment, how can you improve upon this code?\n",
    "# Make the json into readable form \n",
    "# "
   ]
  }
 ],
 "metadata": {
  "kernelspec": {
   "display_name": "base",
   "language": "python",
   "name": "python3"
  },
  "language_info": {
   "codemirror_mode": {
    "name": "ipython",
    "version": 3
   },
   "file_extension": ".py",
   "mimetype": "text/x-python",
   "name": "python",
   "nbconvert_exporter": "python",
   "pygments_lexer": "ipython3",
   "version": "3.9.12"
  },
  "orig_nbformat": 4,
  "vscode": {
   "interpreter": {
    "hash": "1bd6b0a8902b2cd371025e85dd17b7c0a0940e3588e8793f8be8034f5ae02310"
   }
  }
 },
 "nbformat": 4,
 "nbformat_minor": 2
}
