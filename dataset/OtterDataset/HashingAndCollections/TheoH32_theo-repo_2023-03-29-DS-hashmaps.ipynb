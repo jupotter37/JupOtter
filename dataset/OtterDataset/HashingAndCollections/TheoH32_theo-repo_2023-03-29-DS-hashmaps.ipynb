{
 "cells": [
  {
   "attachments": {},
   "cell_type": "markdown",
   "metadata": {},
   "source": [
    "#  Data Structures- Hashmaps, Sets, Hash Tables, Hashing and Collisions\n",
    "> Observing hashmaps with python dictionaries\n",
    "- toc: true\n",
    "- image: /images/python.png\n",
    "- categories: []\n",
    "- type: pbl\n",
    "- week: 28"
   ]
  },
  {
   "attachments": {},
   "cell_type": "markdown",
   "metadata": {},
   "source": [
    "## What is a Hashtable/Hashmap?\n",
    "\n",
    "> A hashtable is a data structure that with a collection of key-value pairs, where each key maps to a value, and the keys must be unique and hashable.\n",
    "\n",
    "- In Python there is a built in hashtable known as a _______________.\n",
    "\n",
    "> The primary purpose of a hashtable is to provide efficient lookup, insertion, and deletion operations. When an element is to be inserted into the hashtable, a hash function is used to map the key to a specific index in the underlying array that is used to store the key-value pairs. The value is then stored at that index. When searching for a value, the hash function is used again to find the index where the value is stored.\n",
    "\n",
    "> The key advantage of a hashtable over other data structures like arrays and linked lists is its average-case time complexity for lookup, insertion, and deletion operations.\n",
    "\n",
    "- The typical time complexity of a hashtable is _______________. \n"
   ]
  },
  {
   "attachments": {},
   "cell_type": "markdown",
   "metadata": {},
   "source": [
    "## What is Hashing and Collision?\n",
    "\n",
    "> Hashing is the process of mapping a given key to a value in a hash table or hashmap, using a hash function. The hash function takes the key as input and produces a hash value or hash code, which is then used to determine the index in the underlying array where the value is stored. The purpose of hashing is to provide a quick and efficient way to access data, by eliminating the need to search through an entire data structure to find a value.\n",
    "\n",
    "> However, it is possible for two different keys to map to the same hash value, resulting in a collision. When a collision occurs, there are different ways to resolve it, depending on the collision resolution strategy used.\n",
    "\n",
    "> Python's dictionary implementation is optimized to handle collisions efficiently, and the performance of the dictionary is generally very good, even in the presence of collisions. However, if the number of collisions is very high, the performance of the dictionary can degrade, so it is important to choose a good hash function that minimizes collisions when designing a Python dictionary.\n",
    "\n",
    "## What is a Set?"
   ]
  },
  {
   "cell_type": "code",
   "execution_count": 1,
   "metadata": {},
   "outputs": [
    {
     "name": "stdout",
     "output_type": "stream",
     "text": [
      "{1, 2, 3}\n"
     ]
    }
   ],
   "source": [
    "# Creating a set using set() function\n",
    "my_set = set([1, 2, 3, 2, 1])\n",
    "print(my_set)  \n",
    "\n",
    "# What do you notice in the output?\n",
    "# There are no duplicates\n",
    "# In order of defines\n",
    "\n",
    "# Why do you think Sets are in the same tech talk as Hashmaps/Hashtables?\n",
    "# Hashmaps unordered and unsorted values\n",
    "# Sets are ordered values"
   ]
  },
  {
   "attachments": {},
   "cell_type": "markdown",
   "metadata": {},
   "source": [
    "## Dictionary Example\n",
    "\n",
    "Below are just some basic features of a dictionary. As always, documentation is always the main source for all the full capablilties. "
   ]
  },
  {
   "cell_type": "code",
   "execution_count": 2,
   "metadata": {},
   "outputs": [
    {
     "name": "stdout",
     "output_type": "stream",
     "text": [
      "{'title': 'Lover', 'artist': 'Taylor Swift', 'year': 2019, 'genre': ['Pop', 'Synth-pop'], 'tracks': {1: 'I Forgot That You Existed', 2: 'Cruel Summer', 3: 'Lover', 4: 'The Man', 5: 'The Archer', 6: 'I Think He Knows', 7: 'Miss Americana & The Heartbreak Prince', 8: 'Paper Rings', 9: 'Cornelia Street', 10: 'Death By A Thousand Cuts', 11: 'London Boy', 12: \"Soon You'll Get Better (feat. Dixie Chicks)\", 13: 'False God', 14: 'You Need To Calm Down', 15: 'Afterglow', 16: 'Me! (feat. Brendon Urie of Panic! At The Disco)', 17: \"It's Nice To Have A Friend\", 18: 'Daylight'}}\n"
     ]
    }
   ],
   "source": [
    "# Creating a dictionary with information about the album \"Lover\"\n",
    "lover_album = {\n",
    "    \"title\": \"Lover\",\n",
    "    \"artist\": \"Taylor Swift\",\n",
    "    \"year\": 2019,\n",
    "    \"genre\": [\"Pop\", \"Synth-pop\"],\n",
    "    \"tracks\": {\n",
    "        1: \"I Forgot That You Existed\",\n",
    "        2: \"Cruel Summer\",\n",
    "        3: \"Lover\",\n",
    "        4: \"The Man\",\n",
    "        5: \"The Archer\",\n",
    "        6: \"I Think He Knows\",\n",
    "        7: \"Miss Americana & The Heartbreak Prince\",\n",
    "        8: \"Paper Rings\",\n",
    "        9: \"Cornelia Street\",\n",
    "        10: \"Death By A Thousand Cuts\",\n",
    "        11: \"London Boy\",\n",
    "        12: \"Soon You'll Get Better (feat. Dixie Chicks)\",\n",
    "        13: \"False God\",\n",
    "        14: \"You Need To Calm Down\",\n",
    "        15: \"Afterglow\",\n",
    "        16: \"Me! (feat. Brendon Urie of Panic! At The Disco)\",\n",
    "        17: \"It's Nice To Have A Friend\",\n",
    "        18: \"Daylight\"\n",
    "    }\n",
    "}\n",
    "\n",
    "# What data structures do you see?\n",
    "# Dictionary\n",
    "# Keys and values\n",
    "\n",
    "# Printing the dictionary\n",
    "print(lover_album)"
   ]
  },
  {
   "cell_type": "code",
   "execution_count": 3,
   "metadata": {},
   "outputs": [
    {
     "name": "stdout",
     "output_type": "stream",
     "text": [
      "{1: 'I Forgot That You Existed', 2: 'Cruel Summer', 3: 'Lover', 4: 'The Man', 5: 'The Archer', 6: 'I Think He Knows', 7: 'Miss Americana & The Heartbreak Prince', 8: 'Paper Rings', 9: 'Cornelia Street', 10: 'Death By A Thousand Cuts', 11: 'London Boy', 12: \"Soon You'll Get Better (feat. Dixie Chicks)\", 13: 'False God', 14: 'You Need To Calm Down', 15: 'Afterglow', 16: 'Me! (feat. Brendon Urie of Panic! At The Disco)', 17: \"It's Nice To Have A Friend\", 18: 'Daylight'}\n",
      "{1: 'I Forgot That You Existed', 2: 'Cruel Summer', 3: 'Lover', 4: 'The Man', 5: 'The Archer', 6: 'I Think He Knows', 7: 'Miss Americana & The Heartbreak Prince', 8: 'Paper Rings', 9: 'Cornelia Street', 10: 'Death By A Thousand Cuts', 11: 'London Boy', 12: \"Soon You'll Get Better (feat. Dixie Chicks)\", 13: 'False God', 14: 'You Need To Calm Down', 15: 'Afterglow', 16: 'Me! (feat. Brendon Urie of Panic! At The Disco)', 17: \"It's Nice To Have A Friend\", 18: 'Daylight'}\n"
     ]
    }
   ],
   "source": [
    "# Retrieve value from dictionary with key\n",
    "print(lover_album.get('tracks'))\n",
    "# or\n",
    "print(lover_album['tracks'])"
   ]
  },
  {
   "cell_type": "code",
   "execution_count": 5,
   "metadata": {},
   "outputs": [
    {
     "name": "stdout",
     "output_type": "stream",
     "text": [
      "The Man\n",
      "The Man\n"
     ]
    }
   ],
   "source": [
    "# Retrieve value from a dictionary inside a dictionary\n",
    "print(lover_album.get('tracks')[4])\n",
    "# or\n",
    "print(lover_album['tracks'][4])"
   ]
  },
  {
   "cell_type": "code",
   "execution_count": 6,
   "metadata": {},
   "outputs": [
    {
     "name": "stdout",
     "output_type": "stream",
     "text": [
      "{'title': 'Lover', 'artist': 'Taylor Swift', 'year': 2019, 'genre': ['Pop', 'Synth-pop'], 'tracks': {1: 'I Forgot That You Existed', 2: 'Cruel Summer', 3: 'Lover', 4: 'The Man', 5: 'The Archer', 6: 'I Think He Knows', 7: 'Miss Americana & The Heartbreak Prince', 8: 'Paper Rings', 9: 'Cornelia Street', 10: 'Death By A Thousand Cuts', 11: 'London Boy', 12: \"Soon You'll Get Better (feat. Dixie Chicks)\", 13: 'False God', 14: 'You Need To Calm Down', 15: 'Afterglow', 16: 'Me! (feat. Brendon Urie of Panic! At The Disco)', 17: \"It's Nice To Have A Friend\", 18: 'Daylight'}, 'producer': ['Taylor Swift', 'Jack Antonoff', 'Joel Little', 'Taylor Swift', 'Louis Bell', 'Frank Dukes']}\n"
     ]
    }
   ],
   "source": [
    "# adding a value with a new key\n",
    "lover_album[\"producer\"] = ['Taylor Swift', 'Jack Antonoff', 'Joel Little', 'Taylor Swift', 'Louis Bell', 'Frank Dukes']\n",
    "\n",
    "# What can you change to make sure there are no duplicate producers?\n",
    "# Make it a set instead\n",
    "# Edit the keys\n",
    "\n",
    "# Printing the dictionary\n",
    "print(lover_album)"
   ]
  },
  {
   "cell_type": "code",
   "execution_count": 7,
   "metadata": {},
   "outputs": [
    {
     "name": "stdout",
     "output_type": "stream",
     "text": [
      "{'title': 'Lover', 'artist': 'Taylor Swift', 'year': 2019, 'genre': ['Pop', 'Synth-pop'], 'tracks': {1: 'I Forgot That You Existed', 2: 'Cruel Summer', 3: 'Lover', 4: 'The Man', 5: 'The Archer', 6: 'I Think He Knows', 7: 'Miss Americana & The Heartbreak Prince', 8: 'Paper Rings', 9: 'Cornelia Street', 10: 'Death By A Thousand Cuts', 11: 'London Boy', 12: \"Soon You'll Get Better (feat. Dixie Chicks)\", 13: 'False God', 14: 'You Need To Calm Down', 15: 'Afterglow', 16: 'Me! (feat. Brendon Urie of Panic! At The Disco)', 17: \"It's Nice To Have A Friend\", 18: 'Daylight', 19: 'All Of The Girls You Loved Before'}, 'producer': ['Taylor Swift', 'Jack Antonoff', 'Joel Little', 'Taylor Swift', 'Louis Bell', 'Frank Dukes']}\n"
     ]
    }
   ],
   "source": [
    "# Adding a an key-value pair to an existing key \n",
    "lover_album[\"tracks\"].update({19: \"All Of The Girls You Loved Before\"})\n",
    "\n",
    "# How would add an additional genre to the dictionary, like electropop? \n",
    "# .update\n",
    "# add it manually\n",
    "\n",
    "# Printing the dictionary\n",
    "print(lover_album)"
   ]
  },
  {
   "cell_type": "code",
   "execution_count": 5,
   "metadata": {},
   "outputs": [
    {
     "name": "stdout",
     "output_type": "stream",
     "text": [
      "{\n",
      "    \"title\": \"Lover\",\n",
      "    \"artist\": \"Taylor Swift\",\n",
      "    \"year\": 2019,\n",
      "    \"genre\": [\n",
      "        \"Pop\",\n",
      "        \"Synth-pop\"\n",
      "    ],\n",
      "    \"tracks\": {\n",
      "        \"1\": \"I Forgot That You Existed\",\n",
      "        \"2\": \"Cruel Summer\",\n",
      "        \"3\": \"Lover\",\n",
      "        \"4\": \"The Man\",\n",
      "        \"5\": \"The Archer\",\n",
      "        \"6\": \"I Think He Knows\",\n",
      "        \"7\": \"Miss Americana & The Heartbreak Prince\",\n",
      "        \"8\": \"Paper Rings\",\n",
      "        \"9\": \"Cornelia Street\",\n",
      "        \"10\": \"Death By A Thousand Cuts\",\n",
      "        \"11\": \"London Boy\",\n",
      "        \"12\": \"Soon You'll Get Better (feat. Dixie Chicks)\",\n",
      "        \"13\": \"False God\",\n",
      "        \"14\": \"You Need To Calm Down\",\n",
      "        \"15\": \"Afterglow\",\n",
      "        \"16\": \"Me! (feat. Brendon Urie of Panic! At The Disco)\",\n",
      "        \"17\": \"It's Nice To Have A Friend\",\n",
      "        \"18\": \"Daylight\"\n",
      "    }\n",
      "}\n"
     ]
    }
   ],
   "source": [
    "import json\n",
    "\n",
    "# Own printing method\n",
    "print(json.dumps(lover_album, indent = 4))\n"
   ]
  },
  {
   "cell_type": "code",
   "execution_count": 9,
   "metadata": {},
   "outputs": [
    {
     "name": "stdout",
     "output_type": "stream",
     "text": [
      "{1: 'I Forgot That You Existed', 2: 'Cruel Summer', 3: 'Lover', 4: 'The Man', 5: 'The Archer', 6: 'I Think He Knows', 7: 'Miss Americana & The Heartbreak Prince', 8: 'Paper Rings', 9: 'Cornelia Street', 10: 'Death By A Thousand Cuts', 11: 'London Boy', 12: \"Soon You'll Get Better (feat. Dixie Chicks)\", 13: 'False God', 14: 'You Need To Calm Down', 15: 'Afterglow', 16: 'Me! (feat. Brendon Urie of Panic! At The Disco)', 17: \"It's Nice To Have A Friend\", 18: 'Daylight'}\n"
     ]
    }
   ],
   "source": [
    "# Using conditionals to retrieve a random song\n",
    "def search():\n",
    "    search = input(\"What would you like to know about the album?\")\n",
    "    if lover_album.get(search.lower()) == None:\n",
    "        print(\"Invalid Search\")\n",
    "    else:\n",
    "        print(lover_album.get(search.lower()))\n",
    "\n",
    "search()\n",
    "\n",
    "# This is a very basic code segment, how can you improve upon this code?\n",
    "# Add a options menu with advanced search functions\n",
    "# Within the menu, have an option to search for a second key"
   ]
  },
  {
   "attachments": {},
   "cell_type": "markdown",
   "metadata": {},
   "source": [
    "## Hacks\n",
    "\n",
    "- Answer *ALL* questions in the code segments\n",
    "- Create a diagram or comparison illustration (Canva).\n",
    "    - What are the pro and cons of using this data structure? \n",
    "    - Dictionary vs List    \n",
    "- Expand upon the code given to you, possible improvements in comments\n",
    "- Build your own album showing features of a python dictionary\n",
    "\n",
    "- For Mr. Yeung's class: Justify your favorite Taylor Swift song, answer may effect seed"
   ]
  },
  {
   "cell_type": "markdown",
   "metadata": {},
   "source": [
    "# Own album + expanding on methods"
   ]
  },
  {
   "cell_type": "code",
   "execution_count": 13,
   "metadata": {},
   "outputs": [
    {
     "name": "stdout",
     "output_type": "stream",
     "text": [
      "[\n",
      "    {\n",
      "        \"title\": \"Her Loss\",\n",
      "        \"artist\": \"Drake\",\n",
      "        \"year\": 2022,\n",
      "        \"genre\": [\n",
      "            \"Rap\",\n",
      "            \"Pop\"\n",
      "        ],\n",
      "        \"tracks\": {\n",
      "            \"1\": \"Rich Flex\",\n",
      "            \"2\": \"Major Distribution\",\n",
      "            \"3\": \"On BS\",\n",
      "            \"4\": \"BackOutsideBoyz\",\n",
      "            \"5\": \"Privileged Rappers\",\n",
      "            \"6\": \"Spin Bout U\",\n",
      "            \"7\": \"Hours In Silence\",\n",
      "            \"8\": \"Treacherous Twins\",\n",
      "            \"9\": \"Circo Loco\",\n",
      "            \"10\": \"P**** & Millions\",\n",
      "            \"11\": \"Broke Boys\",\n",
      "            \"12\": \"Middle of the Ocean\",\n",
      "            \"13\": \"Jumbotron S*** Poppin\",\n",
      "            \"14\": \"More M's\",\n",
      "            \"15\": \"3AM on Glenwood\",\n",
      "            \"16\": \"I Guess It's F*** Me\"\n",
      "        }\n",
      "    },\n",
      "    {\n",
      "        \"title\": \"THE GOAT\",\n",
      "        \"artist\": \"Polo G\",\n",
      "        \"year\": 2020,\n",
      "        \"genre\": [\n",
      "            \"Rap\",\n",
      "            \"Pop\"\n",
      "        ],\n",
      "        \"tracks\": {\n",
      "            \"1\": \"Don't Believe the Hype\",\n",
      "            \"2\": \"Heartless (feat. Mustard)\",\n",
      "            \"3\": \"Martin & Gina\",\n",
      "            \"4\": \"Flex (feat. Juice WRLD)\",\n",
      "            \"5\": \"Go Stupid\",\n",
      "            \"6\": \"21\",\n",
      "            \"7\": \"33\",\n",
      "            \"8\": \"I Know\",\n",
      "            \"9\": \"Beautiful Pain\",\n",
      "            \"10\": \"No Matter What\",\n",
      "            \"11\": \"Be Something\",\n",
      "            \"12\": \"Relentless\",\n",
      "            \"13\": \"DND\",\n",
      "            \"14\": \"Chinatown\",\n",
      "            \"15\": \"Trials & Tribulations\",\n",
      "            \"16\": \"Whishing For A Hero (feat. BJ The Chicago Kid)\"\n",
      "        }\n",
      "    }\n",
      "]\n"
     ]
    }
   ],
   "source": [
    "import json\n",
    "\n",
    "her_loss_album = {\n",
    "    \"title\": \"Her Loss\",\n",
    "    \"artist\": \"Drake\",\n",
    "    \"year\": 2022,\n",
    "    \"genre\": [\"Rap\", \"Pop\"],\n",
    "    \"tracks\": {\n",
    "        1: \"Rich Flex\",\n",
    "        2: \"Major Distribution\",\n",
    "        3: \"On BS\",\n",
    "        4: \"BackOutsideBoyz\",\n",
    "        5: \"Privileged Rappers\",\n",
    "        6: \"Spin Bout U\",\n",
    "        7: \"Hours In Silence\",\n",
    "        8: \"Treacherous Twins\",\n",
    "        9: \"Circo Loco\",\n",
    "        10: \"P**** & Millions\",\n",
    "        11: \"Broke Boys\",\n",
    "        12: \"Middle of the Ocean\",\n",
    "        13: \"Jumbotron S*** Poppin\",\n",
    "        14: \"More M's\",\n",
    "        15: \"3AM on Glenwood\",\n",
    "        16: \"I Guess It's F*** Me\",\n",
    "    }\n",
    "}\n",
    "\n",
    "the_goat_album = {\n",
    "    \"title\": \"THE GOAT\",\n",
    "    \"artist\": \"Polo G\",\n",
    "    \"year\": 2020,\n",
    "    \"genre\": [\"Rap\", \"Pop\"],\n",
    "    \"tracks\": {\n",
    "        1: \"Don't Believe the Hype\",\n",
    "        2: \"Heartless (feat. Mustard)\",\n",
    "        3: \"Martin & Gina\",\n",
    "        4: \"Flex (feat. Juice WRLD)\",\n",
    "        5: \"Go Stupid\",\n",
    "        6: \"21\",\n",
    "        7: \"33\",\n",
    "        8: \"I Know\",\n",
    "        9: \"Beautiful Pain\",\n",
    "        10: \"No Matter What\",\n",
    "        11: \"Be Something\",\n",
    "        12: \"Relentless\",\n",
    "        13: \"DND\",\n",
    "        14: \"Chinatown\",\n",
    "        15: \"Trials & Tribulations\",\n",
    "        16: \"Whishing For A Hero (feat. BJ The Chicago Kid)\",\n",
    "    }\n",
    "}\n",
    "\n",
    "favoriteAlbums = [her_loss_album, the_goat_album]\n",
    "\n",
    "# Own printing method\n",
    "print(json.dumps(favoriteAlbums, indent = 4))"
   ]
  },
  {
   "cell_type": "markdown",
   "metadata": {},
   "source": [
    "### Using json dumps + indents makes the process much easier + look nicer. First I made two dictionaries of two albums I like. Then I made a list including each dictionary. To nicely print it all out, I imported json and used the json dump with indenting to make it look nice."
   ]
  }
 ],
 "metadata": {
  "kernelspec": {
   "display_name": "Python 3.10.9 64-bit",
   "language": "python",
   "name": "python3"
  },
  "language_info": {
   "codemirror_mode": {
    "name": "ipython",
    "version": 3
   },
   "file_extension": ".py",
   "mimetype": "text/x-python",
   "name": "python",
   "nbconvert_exporter": "python",
   "pygments_lexer": "ipython3",
   "version": "3.10.9"
  },
  "orig_nbformat": 4,
  "vscode": {
   "interpreter": {
    "hash": "aee8b7b246df8f9039afb4144a1f6fd8d2ca17a180786b69acc140d282b71a49"
   }
  }
 },
 "nbformat": 4,
 "nbformat_minor": 2
}
