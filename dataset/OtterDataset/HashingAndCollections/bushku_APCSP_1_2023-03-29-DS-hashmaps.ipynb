{
 "cells": [
  {
   "attachments": {},
   "cell_type": "markdown",
   "metadata": {},
   "source": [
    "#  Data Structures- Hashmaps, Sets, Hash Tables, Hashing and Collisions\n",
    "> Observing hashmaps with python dictionaries\n",
    "- toc: true\n",
    "- image: /images/python.png\n",
    "- categories: []\n",
    "- type: pbl\n",
    "- week: 28"
   ]
  },
  {
   "attachments": {},
   "cell_type": "markdown",
   "metadata": {},
   "source": [
    "## What is a Hashtable/Hashmap?\n",
    "\n",
    "> A hashtable is a data structure that with a collection of key-value pairs, where each key maps to a value, and the keys must be unique and hashable.\n",
    "\n",
    "- In Python there is a built in hashtable known as a __dictionary__.\n",
    "\n",
    "> The primary purpose of a hashtable is to provide efficient lookup, insertion, and deletion operations. When an element is to be inserted into the hashtable, a hash function is used to map the key to a specific index in the underlying array that is used to store the key-value pairs. The value is then stored at that index. When searching for a value, the hash function is used again to find the index where the value is stored.\n",
    "\n",
    "> The key advantage of a hashtable over other data structures like arrays and linked lists is its average-case time complexity for lookup, insertion, and deletion operations.\n",
    "\n",
    "- The typical time complexity of a hashtable is __constant__. \n"
   ]
  },
  {
   "attachments": {},
   "cell_type": "markdown",
   "metadata": {},
   "source": [
    "## What is Hashing and Collision?\n",
    "\n",
    "> Hashing is the process of mapping a given key to a value in a hash table or hashmap, using a hash function. The hash function takes the key as input and produces a hash value or hash code, which is then used to determine the index in the underlying array where the value is stored. The purpose of hashing is to provide a quick and efficient way to access data, by eliminating the need to search through an entire data structure to find a value.\n",
    "\n",
    "> However, it is possible for two different keys to map to the same hash value, resulting in a collision. When a collision occurs, there are different ways to resolve it, depending on the collision resolution strategy used.\n",
    "\n",
    "> Python's dictionary implementation is optimized to handle collisions efficiently, and the performance of the dictionary is generally very good, even in the presence of collisions. However, if the number of collisions is very high, the performance of the dictionary can degrade, so it is important to choose a good hash function that minimizes collisions when designing a Python dictionary.\n",
    "\n",
    "## What is a Set?"
   ]
  },
  {
   "cell_type": "code",
   "execution_count": 29,
   "metadata": {},
   "outputs": [
    {
     "name": "stdout",
     "output_type": "stream",
     "text": [
      "{1, 2, 3}\n"
     ]
    }
   ],
   "source": [
    "# Creating a set using set() function\n",
    "my_set = set([1, 2, 3, 2, 1])\n",
    "print(my_set)  \n",
    "\n",
    "# What do you notice in the output?\n",
    "# First three numbers in the set list are printed\n",
    "# Output of all numbers in the list without any duplicates\n",
    "\n",
    "# Why do you think Sets are in the same tech talk as Hashmaps/Hashtables?\n",
    "# Both can't have any duplicates.\n",
    "# Both store data"
   ]
  },
  {
   "attachments": {},
   "cell_type": "markdown",
   "metadata": {},
   "source": [
    "## Dictionary Example\n",
    "\n",
    "Below are just some basic features of a dictionary. As always, documentation is always the main source for all the full capablilties. "
   ]
  },
  {
   "cell_type": "code",
   "execution_count": 30,
   "metadata": {},
   "outputs": [
    {
     "name": "stdout",
     "output_type": "stream",
     "text": [
      "{'title': 'Lover', 'artist': 'Taylor Swift', 'year': 2019, 'genre': ['Pop', 'Synth-pop'], 'tracks': {1: 'I Forgot That You Existed', 2: 'Cruel Summer', 3: 'Lover', 4: 'The Man', 5: 'The Archer', 6: 'I Think He Knows', 7: 'Miss Americana & The Heartbreak Prince', 8: 'Paper Rings', 9: 'Cornelia Street', 10: 'Death By A Thousand Cuts', 11: 'London Boy', 12: \"Soon You'll Get Better (feat. Dixie Chicks)\", 13: 'False God', 14: 'You Need To Calm Down', 15: 'Afterglow', 16: 'Me! (feat. Brendon Urie of Panic! At The Disco)', 17: \"It's Nice To Have A Friend\", 18: 'Daylight'}}\n"
     ]
    }
   ],
   "source": [
    "# Creating a dictionary with information about the album \"Lover\"\n",
    "lover_album = {\n",
    "    \"title\": \"Lover\",\n",
    "    \"artist\": \"Taylor Swift\",\n",
    "    \"year\": 2019,\n",
    "    \"genre\": [\"Pop\", \"Synth-pop\"],\n",
    "    \"tracks\": {\n",
    "        1: \"I Forgot That You Existed\",\n",
    "        2: \"Cruel Summer\",\n",
    "        3: \"Lover\",\n",
    "        4: \"The Man\",\n",
    "        5: \"The Archer\",\n",
    "        6: \"I Think He Knows\",\n",
    "        7: \"Miss Americana & The Heartbreak Prince\",\n",
    "        8: \"Paper Rings\",\n",
    "        9: \"Cornelia Street\",\n",
    "        10: \"Death By A Thousand Cuts\",\n",
    "        11: \"London Boy\",\n",
    "        12: \"Soon You'll Get Better (feat. Dixie Chicks)\",\n",
    "        13: \"False God\",\n",
    "        14: \"You Need To Calm Down\",\n",
    "        15: \"Afterglow\",\n",
    "        16: \"Me! (feat. Brendon Urie of Panic! At The Disco)\",\n",
    "        17: \"It's Nice To Have A Friend\",\n",
    "        18: \"Daylight\"\n",
    "    }\n",
    "}\n",
    "\n",
    "# What data structures do you see?\n",
    "# Dictionary for the Taylor Swift info\n",
    "# Dictionary within the tracks key\n",
    "\n",
    "# Printing the dictionary\n",
    "print(lover_album)"
   ]
  },
  {
   "cell_type": "code",
   "execution_count": 31,
   "metadata": {},
   "outputs": [
    {
     "name": "stdout",
     "output_type": "stream",
     "text": [
      "{1: 'I Forgot That You Existed', 2: 'Cruel Summer', 3: 'Lover', 4: 'The Man', 5: 'The Archer', 6: 'I Think He Knows', 7: 'Miss Americana & The Heartbreak Prince', 8: 'Paper Rings', 9: 'Cornelia Street', 10: 'Death By A Thousand Cuts', 11: 'London Boy', 12: \"Soon You'll Get Better (feat. Dixie Chicks)\", 13: 'False God', 14: 'You Need To Calm Down', 15: 'Afterglow', 16: 'Me! (feat. Brendon Urie of Panic! At The Disco)', 17: \"It's Nice To Have A Friend\", 18: 'Daylight'}\n",
      "{1: 'I Forgot That You Existed', 2: 'Cruel Summer', 3: 'Lover', 4: 'The Man', 5: 'The Archer', 6: 'I Think He Knows', 7: 'Miss Americana & The Heartbreak Prince', 8: 'Paper Rings', 9: 'Cornelia Street', 10: 'Death By A Thousand Cuts', 11: 'London Boy', 12: \"Soon You'll Get Better (feat. Dixie Chicks)\", 13: 'False God', 14: 'You Need To Calm Down', 15: 'Afterglow', 16: 'Me! (feat. Brendon Urie of Panic! At The Disco)', 17: \"It's Nice To Have A Friend\", 18: 'Daylight'}\n"
     ]
    }
   ],
   "source": [
    "# Retrieve value from dictionary with key\n",
    "print(lover_album.get('tracks'))\n",
    "# or\n",
    "print(lover_album['tracks'])"
   ]
  },
  {
   "cell_type": "code",
   "execution_count": 32,
   "metadata": {},
   "outputs": [
    {
     "name": "stdout",
     "output_type": "stream",
     "text": [
      "The Man\n",
      "The Man\n"
     ]
    }
   ],
   "source": [
    "# Retrieve value from a dictionary inside a dictionary\n",
    "print(lover_album.get('tracks')[4])\n",
    "# or\n",
    "print(lover_album['tracks'][4])"
   ]
  },
  {
   "cell_type": "code",
   "execution_count": 33,
   "metadata": {},
   "outputs": [
    {
     "name": "stdout",
     "output_type": "stream",
     "text": [
      "{'title': 'Lover', 'artist': 'Taylor Swift', 'year': 2019, 'genre': ['Pop', 'Synth-pop'], 'tracks': {1: 'I Forgot That You Existed', 2: 'Cruel Summer', 3: 'Lover', 4: 'The Man', 5: 'The Archer', 6: 'I Think He Knows', 7: 'Miss Americana & The Heartbreak Prince', 8: 'Paper Rings', 9: 'Cornelia Street', 10: 'Death By A Thousand Cuts', 11: 'London Boy', 12: \"Soon You'll Get Better (feat. Dixie Chicks)\", 13: 'False God', 14: 'You Need To Calm Down', 15: 'Afterglow', 16: 'Me! (feat. Brendon Urie of Panic! At The Disco)', 17: \"It's Nice To Have A Friend\", 18: 'Daylight'}, 'producer': {'Joel Little', 'Louis Bell', 'Jack Antonoff', 'Frank Dukes', 'Taylor Swift'}}\n"
     ]
    }
   ],
   "source": [
    "# adding a value with a new key\n",
    "lover_album[\"producer\"] = set(['Taylor Swift', 'Jack Antonoff', 'Joel Little', 'Taylor Swift', 'Louis Bell', 'Frank Dukes'])\n",
    "\n",
    "# What can you change to make sure there are no duplicate producers?\n",
    "# Delete on the Taylor Swifts\n",
    "# Add set before the list\n",
    "\n",
    "# Printing the dictionary\n",
    "print(lover_album)"
   ]
  },
  {
   "cell_type": "code",
   "execution_count": 34,
   "metadata": {},
   "outputs": [
    {
     "name": "stdout",
     "output_type": "stream",
     "text": [
      "{'title': 'Lover', 'artist': 'Taylor Swift', 'year': 2019, 'genre': ['Pop', 'Synth-pop', 'electropop'], 'tracks': {1: 'I Forgot That You Existed', 2: 'Cruel Summer', 3: 'Lover', 4: 'The Man', 5: 'The Archer', 6: 'I Think He Knows', 7: 'Miss Americana & The Heartbreak Prince', 8: 'Paper Rings', 9: 'Cornelia Street', 10: 'Death By A Thousand Cuts', 11: 'London Boy', 12: \"Soon You'll Get Better (feat. Dixie Chicks)\", 13: 'False God', 14: 'You Need To Calm Down', 15: 'Afterglow', 16: 'Me! (feat. Brendon Urie of Panic! At The Disco)', 17: \"It's Nice To Have A Friend\", 18: 'Daylight', 19: 'All Of The Girls You Loved Before'}, 'producer': {'Joel Little', 'Louis Bell', 'Jack Antonoff', 'Frank Dukes', 'Taylor Swift'}}\n"
     ]
    }
   ],
   "source": [
    "# Adding a an key-value pair to an existing key \n",
    "lover_album[\"tracks\"].update({19: \"All Of The Girls You Loved Before\"})\n",
    "\n",
    "# How would add an additional genre to the dictionary, like electropop? \n",
    "# You could write:\n",
    "lover_album[\"genre\"].append(\"electropop\")\n",
    "\n",
    "# Printing the dictionary\n",
    "print(lover_album)"
   ]
  },
  {
   "cell_type": "code",
   "execution_count": 35,
   "metadata": {},
   "outputs": [
    {
     "name": "stdout",
     "output_type": "stream",
     "text": [
      "title: Lover\n",
      "artist: Taylor Swift\n",
      "year: 2019\n",
      "genre: ['Pop', 'Synth-pop', 'electropop']\n",
      "tracks: {1: 'I Forgot That You Existed', 2: 'Cruel Summer', 3: 'Lover', 4: 'The Man', 5: 'The Archer', 6: 'I Think He Knows', 7: 'Miss Americana & The Heartbreak Prince', 8: 'Paper Rings', 9: 'Cornelia Street', 10: 'Death By A Thousand Cuts', 11: 'London Boy', 12: \"Soon You'll Get Better (feat. Dixie Chicks)\", 13: 'False God', 14: 'You Need To Calm Down', 15: 'Afterglow', 16: 'Me! (feat. Brendon Urie of Panic! At The Disco)', 17: \"It's Nice To Have A Friend\", 18: 'Daylight', 19: 'All Of The Girls You Loved Before'}\n",
      "producer: {'Joel Little', 'Louis Bell', 'Jack Antonoff', 'Frank Dukes', 'Taylor Swift'}\n",
      "\n",
      " \n",
      "\n",
      "title:  Lover \n",
      " artist:  Taylor Swift \n",
      " year:  2019 \n",
      " genre:  ['Pop', 'Synth-pop', 'electropop'] \n",
      " tracks:  {1: 'I Forgot That You Existed', 2: 'Cruel Summer', 3: 'Lover', 4: 'The Man', 5: 'The Archer', 6: 'I Think He Knows', 7: 'Miss Americana & The Heartbreak Prince', 8: 'Paper Rings', 9: 'Cornelia Street', 10: 'Death By A Thousand Cuts', 11: 'London Boy', 12: \"Soon You'll Get Better (feat. Dixie Chicks)\", 13: 'False God', 14: 'You Need To Calm Down', 15: 'Afterglow', 16: 'Me! (feat. Brendon Urie of Panic! At The Disco)', 17: \"It's Nice To Have A Friend\", 18: 'Daylight', 19: 'All Of The Girls You Loved Before'} \n",
      " producer:  {'Joel Little', 'Louis Bell', 'Jack Antonoff', 'Frank Dukes', 'Taylor Swift'}\n"
     ]
    }
   ],
   "source": [
    "# Print lover_album in more readable format\n",
    "for k,v in lover_album.items(): # iterate using a for loop for key and value\n",
    "    print(str(k) + \": \" + str(v))\n",
    "\n",
    "# Write your own code to print tracks in readable format\n",
    "print(\"\\n\", \"\\n\")\n",
    "\n",
    "print(\"title: \", lover_album[\"title\"], \"\\n artist: \",lover_album[\"artist\"], \"\\n year: \", lover_album[\"year\"], \"\\n genre: \", lover_album[\"genre\"], \"\\n tracks: \", lover_album[\"tracks\"], \"\\n producer: \", lover_album[\"producer\"])"
   ]
  },
  {
   "cell_type": "code",
   "execution_count": 36,
   "metadata": {},
   "outputs": [
    {
     "name": "stdout",
     "output_type": "stream",
     "text": [
      "Taylor Swift\n"
     ]
    }
   ],
   "source": [
    "# Using conditionals to retrieve a random song\n",
    "def search():\n",
    "    search = input(\"What would you like to know about the album?\")\n",
    "    if lover_album.get(search.lower()) == None:\n",
    "        print(\"Invalid Search\")\n",
    "    else:\n",
    "        print(lover_album.get(search.lower()))\n",
    "\n",
    "search()\n",
    "\n",
    "# This is a very basic code segment, how can you improve upon this code?\n",
    "#\n",
    "#"
   ]
  },
  {
   "cell_type": "code",
   "execution_count": 50,
   "metadata": {},
   "outputs": [
    {
     "name": "stdout",
     "output_type": "stream",
     "text": [
      "\n",
      " Select an option from the list below:\n",
      "title\n",
      "artist\n",
      "year\n",
      "genre\n",
      "tracks\n",
      "producer\n",
      "\n",
      " Artist: Taylor Swift \n",
      "\n",
      "\n",
      " Select an option from the list below:\n",
      "title\n",
      "artist\n",
      "year\n",
      "genre\n",
      "tracks\n",
      "producer\n",
      "\n",
      " Tracks:\n",
      "1) I Forgot That You Existed\n",
      "2) Cruel Summer\n",
      "3) Lover\n",
      "4) The Man\n",
      "5) The Archer\n",
      "6) I Think He Knows\n",
      "7) Miss Americana & The Heartbreak Prince\n",
      "8) Paper Rings\n",
      "9) Cornelia Street\n",
      "10) Death By A Thousand Cuts\n",
      "11) London Boy\n",
      "12) Soon You'll Get Better (feat. Dixie Chicks)\n",
      "13) False God\n",
      "14) You Need To Calm Down\n",
      "15) Afterglow\n",
      "16) Me! (feat. Brendon Urie of Panic! At The Disco)\n",
      "17) It's Nice To Have A Friend\n",
      "18) Daylight\n",
      "19) All Of The Girls You Loved Before\n",
      "\n",
      " Select an option from the list below:\n",
      "title\n",
      "artist\n",
      "year\n",
      "genre\n",
      "tracks\n",
      "producer\n"
     ]
    }
   ],
   "source": [
    "def search():\n",
    "    search = input(\"What would you like to know about the album?\")\n",
    "    if lover_album.get(search.lower()) == None:\n",
    "        print(\"Property not found. Please try again. \\n\")\n",
    "    else:\n",
    "        print(lover_album.get(search.lower()))\n",
    "\n",
    "# Define the options as a list\n",
    "options = []\n",
    "\n",
    "for k,v in lover_album.items(): # iterate using a for loop for key and value\n",
    "    options.append(str(k.lower()))\n",
    "\n",
    "# Define the menu function\n",
    "def menu():\n",
    "    # Display the menu options\n",
    "    print('\\n Select an option from the list below:')\n",
    "    for option in options:\n",
    "        print(option)\n",
    "\n",
    "    # Get the user's choice\n",
    "    search = input(\"What would you like to know about the album from the list of properties shown? Type the full word or press enter to exit.\").lower()\n",
    "\n",
    "    # Find the selected option in the options list\n",
    "    selected_option = None\n",
    "    for option in options:\n",
    "        if search == str(option):\n",
    "            selected_option = str(option)\n",
    "            break\n",
    "    \n",
    "\n",
    "    if selected_option == \"title\":\n",
    "        print(f'\\n Title: {lover_album[options[0]]} \\n')\n",
    "    elif selected_option == \"artist\":\n",
    "        print(f'\\n Artist: {lover_album[options[1]]} \\n')\n",
    "    elif selected_option == \"year\":\n",
    "        print(f'\\n Year: {lover_album[options[2]]} \\n')\n",
    "    elif selected_option == \"genre\":\n",
    "        print(\"\\n Genre(s):\")\n",
    "        for g in lover_album['genre']:\n",
    "            print(f\"- {g}\")\n",
    "    elif selected_option == \"tracks\":\n",
    "        print(\"\\n Tracks:\")\n",
    "        for track_number, track_title in lover_album['tracks'].items():\n",
    "            print(f\"{track_number}) {track_title}\")\n",
    "    elif selected_option == \"producer\":\n",
    "        print(\"\\n Producer(s):\")\n",
    "        for p in lover_album['producer']:\n",
    "            print(f\"- {p}\")\n",
    "    elif search == \"\":\n",
    "        return\n",
    "    else:\n",
    "        print(\"\\n Property not found. Please try again. \\n\")\n",
    "\n",
    "    # Repeat the menu\n",
    "    menu()\n",
    "\n",
    "\n",
    "menu()"
   ]
  },
  {
   "attachments": {},
   "cell_type": "markdown",
   "metadata": {},
   "source": [
    "## Hacks\n",
    "\n",
    "- Answer *ALL* questions in the code segments\n",
    "- Create a diagram or comparison illustration (Canva).\n",
    "    - What are the pro and cons of using this data structure? \n",
    "    - Dictionary vs List\n",
    "- Expand upon the code given to you, possible improvements in comments\n",
    "- Build your own album showing features of a python dictionary\n",
    "\n",
    "- For Mr. Yeung's class: Justify your favorite Taylor Swift song, answer may effect seed\n",
    "\n",
    "\n",
    "![Comparing Dictionary and List](https://bushku.github.io/APCSP_1/images/Lists%20and%20Dictionaries.png)"
   ]
  },
  {
   "cell_type": "code",
   "execution_count": 38,
   "metadata": {},
   "outputs": [
    {
     "name": "stdout",
     "output_type": "stream",
     "text": [
      "{'title': 'Haywire', 'artist': 'Josh Turner', 'year': 2012, 'genre': ['Country'], 'tracks': {1: 'Haywire', 2: \"Why Don't We Just Dance\", 3: \"I Wouldn't Be A Man\", 4: \"I'll Be There\", 5: 'Friday Paycheck', 6: 'This Kind Of Love', 7: 'Loving You On My Mind', 8: 'The Answer', 9: 'Your Smile', 10: 'As Fast As I could', 11: \"Let's Find a Church\", 12: 'All Over Me', 13: 'Eye Candy'}}\n"
     ]
    }
   ],
   "source": [
    "haywire_album = {\n",
    "    \"title\": \"Haywire\",\n",
    "    \"artist\": \"Josh Turner\",\n",
    "    \"year\": 2012,\n",
    "    \"genre\": [\"Country\"],\n",
    "    \"tracks\": {\n",
    "        1: \"Haywire\",\n",
    "        2: \"Why Don't We Just Dance\",\n",
    "        3: \"I Wouldn't Be A Man\",\n",
    "        4: \"I'll Be There\",\n",
    "        5: \"Friday Paycheck\",\n",
    "        6: \"This Kind Of Love\",\n",
    "        7: \"Loving You On My Mind\",\n",
    "        8: \"The Answer\",\n",
    "        9: \"Your Smile\",\n",
    "        10: \"As Fast As I could\",\n",
    "        11: \"Let's Find a Church\",\n",
    "        12: \"All Over Me\",\n",
    "        13: \"Eye Candy\",\n",
    "    }\n",
    "}\n",
    "\n",
    "# Printing the dictionary\n",
    "print(haywire_album)"
   ]
  },
  {
   "cell_type": "code",
   "execution_count": 39,
   "metadata": {},
   "outputs": [
    {
     "name": "stdout",
     "output_type": "stream",
     "text": [
      "I'll Be There\n",
      "I'll Be There\n"
     ]
    }
   ],
   "source": [
    "# Retrieve value from a dictionary inside a dictionary\n",
    "\n",
    "# get + index\n",
    "print(haywire_album.get('tracks')[4])\n",
    "\n",
    "# double indexing\n",
    "print(haywire_album['tracks'][4])"
   ]
  },
  {
   "cell_type": "code",
   "execution_count": 40,
   "metadata": {},
   "outputs": [
    {
     "name": "stdout",
     "output_type": "stream",
     "text": [
      "{'title': 'Haywire', 'artist': 'Josh Turner', 'year': 2012, 'genre': ['Country'], 'tracks': {1: 'Haywire', 2: \"Why Don't We Just Dance\", 3: \"I Wouldn't Be A Man\", 4: \"I'll Be There\", 5: 'Friday Paycheck', 6: 'This Kind Of Love', 7: 'Loving You On My Mind', 8: 'The Answer', 9: 'Your Smile', 10: 'As Fast As I could', 11: \"Let's Find a Church\", 12: 'All Over Me', 13: 'Eye Candy'}, 'producer': {'Chris LeDoux', 'Josh Turner', 'Frank Rogers'}}\n",
      "{'Chris LeDoux', 'Josh Turner', 'Frank Rogers'}\n"
     ]
    }
   ],
   "source": [
    "# Adding a producer set\n",
    "\n",
    "haywire_album[\"producer\"] = set(['Josh Turner', 'Frank Rogers', 'Chris LeDoux'])\n",
    "\n",
    "# Printing the dictionary\n",
    "print(haywire_album)\n",
    "\n",
    "# Printing the producer set\n",
    "print(haywire_album[\"producer\"])"
   ]
  },
  {
   "cell_type": "code",
   "execution_count": 41,
   "metadata": {},
   "outputs": [],
   "source": [
    "haywire_album[\"genre\"].append(\"Country\")"
   ]
  },
  {
   "cell_type": "code",
   "execution_count": 42,
   "metadata": {},
   "outputs": [
    {
     "name": "stdout",
     "output_type": "stream",
     "text": [
      "Title: Haywire\n",
      "Artist: Josh Turner\n",
      "Producer(s):\n",
      "- Chris LeDoux\n",
      "- Josh Turner\n",
      "- Frank Rogers\n",
      "Year: 2012\n",
      "Genres:\n",
      "- Country\n",
      "- Country\n",
      "Tracks:\n",
      "1. Haywire\n",
      "2. Why Don't We Just Dance\n",
      "3. I Wouldn't Be A Man\n",
      "4. I'll Be There\n",
      "5. Friday Paycheck\n",
      "6. This Kind Of Love\n",
      "7. Loving You On My Mind\n",
      "8. The Answer\n",
      "9. Your Smile\n",
      "10. As Fast As I could\n",
      "11. Let's Find a Church\n",
      "12. All Over Me\n",
      "13. Eye Candy\n"
     ]
    }
   ],
   "source": [
    "# Pretty printing\n",
    "\n",
    "print(f\"Title: {haywire_album['title']}\")\n",
    "print(f\"Artist: {haywire_album['artist']}\")\n",
    "print('Producer(s):')\n",
    "for prod in haywire_album['producer']:\n",
    "    print(f\"- {prod}\")\n",
    "print(f\"Year: {haywire_album['year']}\")\n",
    "print(\"Genres:\")\n",
    "for genre in haywire_album['genre']:\n",
    "    print(f\"- {genre}\")\n",
    "print(\"Tracks:\")\n",
    "for track_number, track_title in haywire_album['tracks'].items():\n",
    "    print(f\"{track_number}. {track_title}\")"
   ]
  },
  {
   "cell_type": "code",
   "execution_count": 49,
   "metadata": {},
   "outputs": [
    {
     "name": "stdout",
     "output_type": "stream",
     "text": [
      "\n",
      " Select an option from the list below:\n",
      "title\n",
      "artist\n",
      "year\n",
      "genre\n",
      "tracks\n",
      "producer\n",
      "\n",
      " Artist: Josh Turner \n",
      "\n",
      "\n",
      " Select an option from the list below:\n",
      "title\n",
      "artist\n",
      "year\n",
      "genre\n",
      "tracks\n",
      "producer\n",
      "\n",
      " Tracks:\n",
      "1) Haywire\n",
      "2) Why Don't We Just Dance\n",
      "3) I Wouldn't Be A Man\n",
      "4) I'll Be There\n",
      "5) Friday Paycheck\n",
      "6) This Kind Of Love\n",
      "7) Loving You On My Mind\n",
      "8) The Answer\n",
      "9) Your Smile\n",
      "10) As Fast As I could\n",
      "11) Let's Find a Church\n",
      "12) All Over Me\n",
      "13) Eye Candy\n",
      "\n",
      " Select an option from the list below:\n",
      "title\n",
      "artist\n",
      "year\n",
      "genre\n",
      "tracks\n",
      "producer\n"
     ]
    }
   ],
   "source": [
    "# Menu to find info about the album\n",
    "\n",
    "# Define the options as a list\n",
    "options = []\n",
    "\n",
    "for k,v in haywire_album.items(): # iterate using a for loop for key and value\n",
    "    options.append(str(k.lower()))\n",
    "\n",
    "# Define the menu function\n",
    "def menu():\n",
    "    # Display the menu options\n",
    "    print('\\n Select an option from the list below:')\n",
    "    for option in options:\n",
    "        print(option)\n",
    "\n",
    "    # Get the user's choice\n",
    "    search = input(\"What would you like to know about the album from the list of properties shown? Type the full word or press enter to exit.\").lower()\n",
    "\n",
    "    # Find the selected option in the options list\n",
    "    selected_option = None\n",
    "    for option in options:\n",
    "        if search == str(option):\n",
    "            selected_option = str(option)\n",
    "            break\n",
    "    \n",
    "\n",
    "    if selected_option == \"title\":\n",
    "        print(f'\\n Title: {haywire_album[options[0]]} \\n')\n",
    "    elif selected_option == \"artist\":\n",
    "        print(f'\\n Artist: {haywire_album[options[1]]} \\n')\n",
    "    elif selected_option == \"year\":\n",
    "        print(f'\\n Year: {haywire_album[options[2]]} \\n')\n",
    "    elif selected_option == \"genre\":\n",
    "        print(\"\\n Genre(s):\")\n",
    "        for g in haywire_album['genre']:\n",
    "            print(f\"- {g}\")\n",
    "    elif selected_option == \"tracks\":\n",
    "        print(\"\\n Tracks:\")\n",
    "        for track_number, track_title in haywire_album['tracks'].items():\n",
    "            print(f\"{track_number}) {track_title}\")\n",
    "    elif selected_option == \"producer\":\n",
    "        print(\"\\n Producer(s):\")\n",
    "        for p in haywire_album['producer']:\n",
    "            print(f\"- {p}\")\n",
    "    elif search == \"\":\n",
    "        return\n",
    "    else:\n",
    "        print(\"\\n Property not found. Please try again. \\n\")\n",
    "\n",
    "    # Repeat the menu\n",
    "    menu()\n",
    "\n",
    "menu()"
   ]
  }
 ],
 "metadata": {
  "kernelspec": {
   "display_name": "base",
   "language": "python",
   "name": "python3"
  },
  "language_info": {
   "codemirror_mode": {
    "name": "ipython",
    "version": 3
   },
   "file_extension": ".py",
   "mimetype": "text/x-python",
   "name": "python",
   "nbconvert_exporter": "python",
   "pygments_lexer": "ipython3",
   "version": "3.9.12"
  },
  "orig_nbformat": 4,
  "vscode": {
   "interpreter": {
    "hash": "bb3b45b69dd672c7037523c2546b9f78b450f43deb1ccb950b07e59b48e1e770"
   }
  }
 },
 "nbformat": 4,
 "nbformat_minor": 2
}
