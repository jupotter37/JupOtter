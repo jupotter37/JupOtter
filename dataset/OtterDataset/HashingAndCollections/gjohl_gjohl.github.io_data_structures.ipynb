{
 "cells": [
  {
   "cell_type": "raw",
   "id": "9fb6296b",
   "metadata": {
    "vscode": {
     "languageId": "raw"
    }
   },
   "source": [
    "---\n",
    "title: \"Data Structures\"\n",
    "description: \"An Array of Possibilities, Trie it Out, You'll Have Heaps of Fun\"\n",
    "date: \"2024-04-23\"\n",
    "categories: [Engineering, ComputerScience, InterviewPrep]\n",
    "# format:\n",
    "#   html:\n",
    "#     code-fold: true\n",
    "---"
   ]
  },
  {
   "cell_type": "markdown",
   "id": "b8163065",
   "metadata": {},
   "source": [
    "# Data Structures\n",
    "\n",
    "## 1. Data Structure Operations\n",
    "\n",
    "There are common ways that we can interact with different data structures. \n",
    "\n",
    "It is useful to frame the appropriateness of a data structure for a given based on the speed of the operations that are required most for that task.\n",
    "\n",
    "- Read: Look up the value at a particular location in the data structure\n",
    "- Search: Look for a particular value in the data structure.\n",
    "- Insert: Add a new value to the data structure.\n",
    "- Delete: Remove a value from the data structure.\n",
    "\n",
    "Reading is \"find by key\", searching is \"find by value\".\n",
    "\n",
    "\n",
    "## 2. Arrays\n",
    "\n",
    "An array is a list of elements.\n",
    "\n",
    "It is stored in memory as a block of contiguous memory addresses. When the array is declared, the head of the array is stored, i.e. the memory address of the first elelment.\n",
    "\n",
    "The **size** of an array is the number of elements in the array.\n",
    "The **index** denotes where a particular piece of data resides in that array.\n",
    "\n",
    "\n",
    "| Operation | Complexity (Worst) | Complexity (Best)    |\n",
    "|-----------|--------------------|----------------------|\n",
    "| Read      | O(1)               | O(1)                 |\n",
    "| Search    | O(N)               | O(1)                 |\n",
    "| Insertion | O(N)               | O(1)                 |\n",
    "| Deletion  | O(N)               | O(1)                 |\n",
    "\n",
    "\n",
    "### 2.1 Reading an Array\n",
    "\n",
    "A computer can look up a given memory address in constant time.\n",
    "\n",
    "We know the head of the array and the index to look up. So we can read in **O(1)** time.\n",
    "\n",
    "Example:\n",
    "\n",
    "1. Head of the array is memory address 1063.\n",
    "2. We want to look up index 5.\n",
    "3. Read memory address 1068 (because 1063 + 5 = 1068).\n",
    "\n",
    "> If you were asked to raise your right pinky finger, you wouldn't need to search through all of your fingers to find it\n",
    "\n",
    "\n",
    "### 2.2 Searching an Array\n",
    "\n",
    "A computer has immediate access to all of its memory addresses but does not know ahead of time their *contents*.\n",
    "\n",
    "So to find a particular value, we will potentially have to search through every element.\n",
    "\n",
    "Searching an array is therefore **O(N)**.\n",
    "\n",
    "\n",
    "### 2.3. Insertion into an Array\n",
    "\n",
    "The efficiency of inserting into an array depends on **where** in the array you are inserting.\n",
    "\n",
    "If inserting an element at the end, we simply place the new value at that memory address (assuming the memory address is empty). This is a constant time operation O(1).\n",
    "\n",
    "But if we insert at any other position, we need to:\n",
    "\n",
    "1. Shift each of the existing elements to the right of the insert index 1 position rightwards\n",
    "2. Insert the new value in the gap created.\n",
    "\n",
    "So to insert at index $i$, there are $N - i$ elements to shift (Step 1), then 1 more operation to insert the new value (Step 2).\n",
    "\n",
    "In the worst case - inserting at the start of an array - insertion is **O(N)**.\n",
    "\n",
    "\n",
    "### 2.4. Deletion from an Array\n",
    "\n",
    "Similarly, the efficiency of deletion depends on the index being deleted.\n",
    "\n",
    "If deleting the last element, there is simply 1 operation to clear the memory address, so this is a constant time operation O(1).\n",
    "\n",
    "But if we delete an element in any other position, we need to:\n",
    "\n",
    "1. Delete the element. This leaves a gap in the middle of the array.\n",
    "2. Shift each of the elements to the right of the gap leftwards, to fill the gap.\n",
    "\n",
    "So to delete at index $i$, we do 1 operation to delete that element (Step 1), then shift the next $N-i$ elements leftwards (Step 2).\n",
    "\n",
    "In the worst case - deleting the first element of the array - deletion is **O(N)**.\n",
    "\n",
    "\n",
    "## 3. Sets\n",
    "\n",
    "A set is a collection of *unique* elements, i.e. duplicate values are not allowed.\n",
    "\n",
    "There are different ways of implementing sets: array-based sets and hash-sets are discussed here.\n",
    "\n",
    "Note that Python already has sets, but we'll give outline implementations for clarity.\n",
    "\n",
    "\n",
    "### 3.1. Array-based Sets\n",
    "\n",
    "An array is used to store elements. As with standard arrays, elements are stored in contiguous memory locations, and each element has a unique index.\n",
    "\n",
    "Example in Python:"
   ]
  },
  {
   "cell_type": "code",
   "execution_count": null,
   "id": "9d00193f",
   "metadata": {},
   "outputs": [],
   "source": [
    "class ArraySet:\n",
    "    \n",
    "    def __init__(self):\n",
    "        self.elements = []\n",
    "        \n",
    "    def __repr__(self):\n",
    "        return str(self.elements)\n",
    "\n",
    "    def add(self, element):\n",
    "        # Search the array for `element`, then append it if it is not a duplicate.\n",
    "        if element not in self.elements:\n",
    "            self.elements.append(element)\n",
    "\n",
    "    def remove(self, element):\n",
    "        # Search the array for the value, then remove it.\n",
    "        if element in self.elements:\n",
    "            self.elements.remove(element)\n",
    "\n",
    "    def contains(self, element):\n",
    "        return element in self.elements"
   ]
  },
  {
   "cell_type": "code",
   "execution_count": 13,
   "id": "5725976b",
   "metadata": {},
   "outputs": [
    {
     "name": "stdout",
     "output_type": "stream",
     "text": [
      "[1, 2, 3]\n"
     ]
    }
   ],
   "source": [
    "set_arr = ArraySet()\n",
    "set_arr.add(1)\n",
    "set_arr.add(2)\n",
    "set_arr.add(3)\n",
    "print(set_arr)"
   ]
  },
  {
   "cell_type": "markdown",
   "id": "bcbd35b8",
   "metadata": {},
   "source": [
    "If we try to add a duplicate value it does not get added to the array:"
   ]
  },
  {
   "cell_type": "code",
   "execution_count": 14,
   "id": "a151b8f0",
   "metadata": {},
   "outputs": [
    {
     "name": "stdout",
     "output_type": "stream",
     "text": [
      "[1, 2, 3]\n"
     ]
    }
   ],
   "source": [
    "set_arr.add(2)\n",
    "print(set_arr)"
   ]
  },
  {
   "cell_type": "markdown",
   "id": "22003427",
   "metadata": {},
   "source": [
    "The read, search and delete operations for an array-based set are identical to the standard array.\n",
    "\n",
    "**Insert** operations are where array-based sets diverge. We always insert at the end of a set, which is constant time. *But* we need to search the array every time to ensure the new value is not a duplicate.\n",
    "\n",
    "So we always need to do a search of all N elements, and then 1 insert operation at the end.\n",
    "\n",
    "This means even in the best case, insertion into an array-based set is O(N) compared to O(1) when inserting at the end of a standard array.\n",
    "\n",
    "The reason for using a set is because the use case requires no duplicates, not because it is inherently \"quicker\" than a standard array.\n",
    "\n",
    "\n",
    "| Operation | Complexity (Worst) | Complexity (Best)    |\n",
    "|-----------|--------------------|----------------------|\n",
    "| Read      | O(1)               | O(1)                 |\n",
    "| Search    | O(N)               | O(1)                 |\n",
    "| Insertion | O(N)               | **O(N)**             |\n",
    "| Deletion  | O(N)               | O(1)                 |"
   ]
  },
  {
   "cell_type": "markdown",
   "id": "863d064b",
   "metadata": {},
   "source": [
    "### 3.2. Hash Sets\n",
    "\n",
    "A hash-based set computes the hash of each element and uses this to store elements. \n",
    "\n",
    "An example implementation implements the set as key-value pairs where keys are the hash of the elements and values are a placeholder value like True, or an array to handle hash collisions.\n",
    "\n",
    "When there is a hash collision between mutliple elements, a typical approach is to insert all of these elements as an array under the same hash key.\n",
    "\n",
    "The worst case scenario is caused by the extreme edge case where hash collisions are so prominent that *every* element has the same hash, essentially reducing the hash set to an array. This is generally avoided as long as the hash algorithm is decent.\n",
    "\n",
    "For this reason, the **average** complexity is more meaningful in the table below. (Note that best has been replace with average in the table headings.)\n",
    "\n",
    "Hash-based sets do not support reading by index, unlike array-based sets. But all other operations are typically constant time.\n",
    "\n",
    "| Operation | Complexity (Worst) | Complexity **(Average)** |\n",
    "|-----------|--------------------|--------------------------|\n",
    "| Read      | N/A                | N/A                      |\n",
    "| Search    | O(N)               | O(1)                     |\n",
    "| Insertion | O(N)               | O(1)                     |\n",
    "| Deletion  | O(N)               | O(1)                     |\n",
    "\n",
    "\n",
    "Example in Python:"
   ]
  },
  {
   "cell_type": "code",
   "execution_count": null,
   "id": "323fe1d9",
   "metadata": {},
   "outputs": [],
   "source": [
    "class HashSet:\n",
    "    def __init__(self):\n",
    "        # Use a dict to represent the hash set.\n",
    "        self.elements = {}\n",
    "        \n",
    "    def __repr__(self):\n",
    "        return str(self.elements)\n",
    "\n",
    "    def add(self, element):\n",
    "        # The key is the element and the value is arbitrary.\n",
    "        # There are two extensions we could add here:\n",
    "        #   1. The key should really be the *hash* of the element, not just the element itself.\n",
    "        #      Essentially, this is using an implicit hash function which is just a pass-through:\n",
    "        #      hash_func = lambda x: x\n",
    "        #   2. Handle hash collisions by making the value an array which is appended to in the case of collisions.\n",
    "        self.elements[element] = True\n",
    "\n",
    "    def remove(self, element):\n",
    "        if element in self.elements:\n",
    "            del self.elements[element]\n",
    "\n",
    "    def contains(self, element):\n",
    "        return element in self.elements"
   ]
  },
  {
   "cell_type": "code",
   "execution_count": 21,
   "id": "d6aa5213",
   "metadata": {
    "scrolled": true
   },
   "outputs": [
    {
     "name": "stdout",
     "output_type": "stream",
     "text": [
      "{1: True, 2: True, 3: True}\n"
     ]
    }
   ],
   "source": [
    "set_hash = HashSet()\n",
    "set_hash.add(1)\n",
    "set_hash.add(2)\n",
    "set_hash.add(3)\n",
    "print(set_hash)"
   ]
  },
  {
   "cell_type": "markdown",
   "id": "3fa8a6ba",
   "metadata": {},
   "source": [
    "If we try to add a duplicate value it simply overwrites the previous value:"
   ]
  },
  {
   "cell_type": "code",
   "execution_count": 23,
   "id": "0497783d",
   "metadata": {},
   "outputs": [
    {
     "name": "stdout",
     "output_type": "stream",
     "text": [
      "{1: True, 2: True, 3: True}\n"
     ]
    }
   ],
   "source": [
    "set_hash.add(2)\n",
    "print(set_hash)"
   ]
  },
  {
   "cell_type": "markdown",
   "id": "f38badae",
   "metadata": {},
   "source": [
    "## 4. Ordered Arrays\n",
    "\n",
    "These are identical to regular arrays with the additional condition that elements are always ordered.\n",
    "\n",
    "This obviously relies heavily on efficient sorting. This is a topic unto itself; see notes on sorting for more info.\n",
    "\n",
    "When **inserting** into an ordered array, we need to:\n",
    "\n",
    "1. Search for the correct position - Look at each element in turn and compare if the insert element is greater than it\n",
    "2. Insert into the array\n",
    "\n",
    "These two terms increase in opposite directions depending on the insert position. The further into the array we need to search (Step 1), the fewer elements we need to shift for the insertion (Step 2).\n",
    "\n",
    "\n",
    "### 4.1. Binary Search\n",
    "\n",
    "In a typical (unordered) array, the only option for searching is a *linear search*: we loop through each element in turn until we find our target.\n",
    "\n",
    "For an ordered array, we can improve on this using a **binary search**.\n",
    "\n",
    "1. Pick the middle element. \n",
    "2. If the target value is greater than this, search the right half, otherwise search the left half.\n",
    "3. Repeat this recursively until we find our target.\n",
    "\n",
    "\n",
    "This approach splits the search region in half for every constant time comparison operation.\n",
    "\n",
    "Or put another way, if we doubled the number of elements in the array, the binary search would only have to perform 1 extra step. For $N$ elements we need $log_2(N)$ binary splits.\n",
    "\n",
    "Therefore, the time complexity is **O(log(N))**."
   ]
  },
  {
   "cell_type": "code",
   "execution_count": 23,
   "id": "00d5950d",
   "metadata": {},
   "outputs": [],
   "source": [
    "def binary_search(ordered_array, target):\n",
    "    \"\"\"Perform a binary search for the target value on the given ordered array.\n",
    "\n",
    "    Parameters\n",
    "    ----------\n",
    "    ordered_array: list\n",
    "        The array to search in.\n",
    "    target: int\n",
    "        The target value we are searching for.\n",
    "\n",
    "    Returns\n",
    "    -------\n",
    "    target_index: int\n",
    "        The index of the target value.\n",
    "        Returns None if the value does not exist in the array.\n",
    "    \"\"\"\n",
    "    # Establish the lower and upper bounds of our search.\n",
    "    # Initially, this is the entire array\n",
    "    idx_lower = 0\n",
    "    idx_upper = len(ordered_array) - 1\n",
    "\n",
    "    while idx_lower <= idx_upper:\n",
    "        # Find the midpoint between our bounds\n",
    "        idx_midpoint = (idx_upper + idx_lower) // 2\n",
    "        value_at_midpoint = ordered_array[idx_midpoint]\n",
    "\n",
    "        # Compare to our target value and narrow the upper or lower bound accordingly\n",
    "        if value_at_midpoint == target:\n",
    "            # We have found the target!\n",
    "            return idx_midpoint\n",
    "        elif value_at_midpoint < target:\n",
    "            # The target is bigger so must be to the right side\n",
    "            idx_lower = idx_midpoint + 1\n",
    "        elif value_at_midpoint > target:\n",
    "            # The target is smaller so must be on the left side\n",
    "            idx_upper = idx_midpoint - 1\n",
    "\n",
    "    # If the lower and upper bounds meet we have exhausted the whole array, so the target is not in the array\n",
    "    return None"
   ]
  },
  {
   "cell_type": "markdown",
   "id": "c436636e",
   "metadata": {},
   "source": [
    "Let's try this on a few examples."
   ]
  },
  {
   "cell_type": "code",
   "execution_count": 34,
   "id": "39a2fd2f",
   "metadata": {},
   "outputs": [],
   "source": [
    "ordered_array = [1, 2, 4, 5, 7, 8, 9, 10, 13, 14]"
   ]
  },
  {
   "cell_type": "code",
   "execution_count": 35,
   "id": "f4703523",
   "metadata": {},
   "outputs": [
    {
     "data": {
      "text/plain": [
       "4"
      ]
     },
     "execution_count": 35,
     "metadata": {},
     "output_type": "execute_result"
    }
   ],
   "source": [
    "binary_search(ordered_array, 7)"
   ]
  },
  {
   "cell_type": "code",
   "execution_count": 36,
   "id": "d8cb4c44",
   "metadata": {},
   "outputs": [
    {
     "data": {
      "text/plain": [
       "9"
      ]
     },
     "execution_count": 36,
     "metadata": {},
     "output_type": "execute_result"
    }
   ],
   "source": [
    "binary_search(ordered_array, 14)"
   ]
  },
  {
   "cell_type": "markdown",
   "id": "a57a90e4",
   "metadata": {},
   "source": [
    "Now a value that's not in the array:"
   ]
  },
  {
   "cell_type": "code",
   "execution_count": 37,
   "id": "7c0945cd",
   "metadata": {},
   "outputs": [
    {
     "data": {
      "text/plain": [
       "9"
      ]
     },
     "execution_count": 37,
     "metadata": {},
     "output_type": "execute_result"
    }
   ],
   "source": [
    "binary_search(ordered_array, 14)"
   ]
  },
  {
   "cell_type": "markdown",
   "id": "0606d276",
   "metadata": {},
   "source": [
    "Compare this with a linear search"
   ]
  },
  {
   "cell_type": "code",
   "execution_count": 46,
   "id": "23677ede",
   "metadata": {},
   "outputs": [],
   "source": [
    "def linear_search(array, target):\n",
    "    \"\"\"Perform a linear search for the target value on the given array.\n",
    "\n",
    "    Parameters\n",
    "    ----------\n",
    "    array: list\n",
    "        The array to search in.\n",
    "    target: int\n",
    "        The target value we are searching for.\n",
    "\n",
    "    Returns\n",
    "    -------\n",
    "    target_index: int\n",
    "        The index of the target value.\n",
    "        Returns None if the value does not exist in the array.\n",
    "    \"\"\"\n",
    "    # Loop through every element in the array.\n",
    "    # Note: we should really use enumerate() rather than range(len()) but I wanted to keep this generic \n",
    "    # without too many python-specific helpers\n",
    "    for idx in range(len(array)):\n",
    "        if array[idx] == target:\n",
    "            return idx\n",
    "    \n",
    "    # If we reach the end of the array without returning a value, then the target does not exist in the array.\n",
    "    return None"
   ]
  },
  {
   "cell_type": "markdown",
   "id": "6fc72a69",
   "metadata": {},
   "source": [
    "Let's compare how they perform for a reasonably big array with 1 million elements."
   ]
  },
  {
   "cell_type": "code",
   "execution_count": null,
   "id": "c41d3476",
   "metadata": {},
   "outputs": [],
   "source": [
    "array = [k for k in range(1000000)]"
   ]
  },
  {
   "cell_type": "code",
   "execution_count": 51,
   "id": "1111529c",
   "metadata": {},
   "outputs": [
    {
     "name": "stdout",
     "output_type": "stream",
     "text": [
      "1.13 µs ± 56.9 ns per loop (mean ± std. dev. of 7 runs, 1,000,000 loops each)\n"
     ]
    }
   ],
   "source": [
    "%%timeit\n",
    "binary_search(array, 987654)"
   ]
  },
  {
   "cell_type": "code",
   "execution_count": 52,
   "id": "bb5d3a90",
   "metadata": {},
   "outputs": [
    {
     "name": "stdout",
     "output_type": "stream",
     "text": [
      "15.9 ms ± 320 µs per loop (mean ± std. dev. of 7 runs, 100 loops each)\n"
     ]
    }
   ],
   "source": [
    "%%timeit\n",
    "linear_search(array, 987654)"
   ]
  },
  {
   "cell_type": "markdown",
   "id": "530d113f",
   "metadata": {},
   "source": [
    "The binary search is ~14000x faster than the linear search!"
   ]
  },
  {
   "cell_type": "markdown",
   "id": "55589e56",
   "metadata": {},
   "source": [
    "## 5. Hash Tables\n",
    "\n",
    "Hash tables are key:value pairs. We can look up a the value for a given key in $O(1)$ time.\n",
    "\n",
    "Also known as hash maps, dictionaries, maps, associative arrays.\n",
    "\n",
    "\n",
    "### 5.1. Hashing\n",
    "\n",
    "The process of taking characters and converting them to numbers is called **hashing**.\n",
    "\n",
    "The code that performs this conversion is the **hash function**.\n",
    "\n",
    "A hash function requires one condition:\n",
    "\n",
    "> Consistency: A hash function must convert the same string to the same number every time it's applied.\n",
    "\n",
    "In practice, for the hash function to be useful, it should also be collision resistant:\n",
    "\n",
    "> Collision resistant: Different inputs should hash to different outputs.\n",
    "\n",
    "As an extreme example, the following hash function is consistent but not collision resistant:\n",
    "```python\n",
    "def crappy_hash(input_str: str) -> int:\n",
    "    \"\"\"This is the world's worst hash function.\"\"\"\n",
    "    return 1\n",
    "```\n",
    "\n",
    "\n",
    "### 5.2. Hash Table Lookups\n",
    "\n",
    "We want to insert the following key:value pair into our hash table:\n",
    "```\n",
    "key = \"Name\"\n",
    "value = \"Gurp\"\n",
    "```\n",
    "\n",
    "Let's say we have a hash function that is actually good, and in this particular case `hash_function(key)` returns `12`.\n",
    "\n",
    "The hash table will then insert `value` at memory address `12` (or more specifically, the memory address of the head of the dictionary + 12).\n",
    "\n",
    "This means if we ever want to look up the key `\"Name\"`, we hash it and immediately know to access memory address 12 and return the value `\"Gurp\"`.\n",
    "\n",
    "So hash table lookups are $O(1)$.\n",
    "\n",
    "More specifically, looking up by **key** is $O(1)$. Searching by **value** is essentially searching through an array, so is $O(N)$.\n",
    "\n",
    "\n",
    "### 5.3. Dealing with Collisions\n",
    "\n",
    "A **collision** occurs when we try to add data to a cell that is already occupied.\n",
    "\n",
    "One approach to handling this is called **separate chaining**.\n",
    "\n",
    "Instead of placing a single value in a cell, we place a *pointer to an array*. This array contains length-2 subarrays where the first element is the key and the second element is the value.\n",
    "\n",
    "If there are no collisions, a hash table look up is $O(1)$.\n",
    "In the worst case, ALL keys collide and so we essentially have to search through an array which is $O(N)$.\n",
    "\n",
    "\n",
    "### 5.4. Hash Table Efficiency\n",
    "A hash tables efficiency depends on:\n",
    "\n",
    "1. How much **data** we're storing in it\n",
    "2. How many **cells** are available\n",
    "3. Which **hash function** we use\n",
    "\n",
    "A good hash function (3) should distribute the data (1) evenly across all cells (2).\n",
    "\n",
    "This ensures the memory is used efficiently while avoiding collisions.\n",
    "\n",
    "The **load factor** is the ratio of data to cells, and ideally should be around 0.7, i.e. 7 elements for every 10 cells.\n",
    "\n",
    "\n",
    "| Operation | Complexity (Worst) | Complexity **(Average)** |\n",
    "|-----------|--------------------|--------------------------|\n",
    "| Read      | O(N)               | O(1)                     |\n",
    "| Search    | O(N)               | Keys: O(1) Values: O(N)  |\n",
    "| Insertion | O(N)               | O(1)                     |\n",
    "| Deletion  | O(N)               | O(1)                     |\n",
    "\n",
    "The worst case corresponds to when all keys collide, reducing the hash table to an array effectively."
   ]
  },
  {
   "cell_type": "markdown",
   "id": "b9c1cfe8",
   "metadata": {},
   "source": [
    "## 6. Stacks\n",
    "\n",
    "A stack is stored in memory the same as an array, but it has 3 constraints:\n",
    "\n",
    "1. Data can only be **inserted** at the end (push)\n",
    "2. Data can only be **deleted** from the end (pop)\n",
    "3. Only the last element can be **read** (peek)\n",
    "\n",
    "> Read, insert and delete can only happen at the end.\n",
    "\n",
    "This makes them useful as Last-In First-Out (LIFO) data stores: the last item pushed the the stack is the first to be popped.\n",
    "\n",
    "Example in Python:"
   ]
  },
  {
   "cell_type": "code",
   "execution_count": 5,
   "id": "d91f1b89",
   "metadata": {},
   "outputs": [],
   "source": [
    "class Stack:\n",
    "\n",
    "    def __init__(self, initial_elements: list = []):\n",
    "        # We can pass a list to initialise the Stack\n",
    "        self.data = initial_elements\n",
    "\n",
    "    def __repr__(self):\n",
    "        return str(self.data)\n",
    "\n",
    "    def push(self, element):\n",
    "        self.data.append(element)\n",
    "\n",
    "    def pop(self):\n",
    "        return self.data.pop()\n",
    "\n",
    "    def peek(self):\n",
    "        if self.data:\n",
    "            return self.data[-1]\n"
   ]
  },
  {
   "cell_type": "code",
   "execution_count": 15,
   "id": "b792b958",
   "metadata": {},
   "outputs": [
    {
     "data": {
      "text/plain": [
       "[1, 2, 3, 4]"
      ]
     },
     "execution_count": 15,
     "metadata": {},
     "output_type": "execute_result"
    }
   ],
   "source": [
    "stack = Stack([1, 2, 3, 4])\n",
    "stack"
   ]
  },
  {
   "cell_type": "code",
   "execution_count": 16,
   "id": "f3b27f64",
   "metadata": {},
   "outputs": [
    {
     "name": "stdout",
     "output_type": "stream",
     "text": [
      "[1, 2, 3, 4, 5]\n"
     ]
    }
   ],
   "source": [
    "stack.push(5)\n",
    "print(stack)"
   ]
  },
  {
   "cell_type": "code",
   "execution_count": 17,
   "id": "2024894b",
   "metadata": {},
   "outputs": [
    {
     "data": {
      "text/plain": [
       "5"
      ]
     },
     "execution_count": 17,
     "metadata": {},
     "output_type": "execute_result"
    }
   ],
   "source": [
    "stack.peek()"
   ]
  },
  {
   "cell_type": "code",
   "execution_count": 18,
   "id": "715abd79",
   "metadata": {},
   "outputs": [
    {
     "name": "stdout",
     "output_type": "stream",
     "text": [
      "[1, 2, 3, 4, 5]\n"
     ]
    }
   ],
   "source": [
    "print(stack)"
   ]
  },
  {
   "cell_type": "code",
   "execution_count": 19,
   "id": "d6b42ad6",
   "metadata": {},
   "outputs": [
    {
     "data": {
      "text/plain": [
       "5"
      ]
     },
     "execution_count": 19,
     "metadata": {},
     "output_type": "execute_result"
    }
   ],
   "source": [
    "stack.pop()"
   ]
  },
  {
   "cell_type": "code",
   "execution_count": 20,
   "id": "d4f7f50d",
   "metadata": {},
   "outputs": [
    {
     "name": "stdout",
     "output_type": "stream",
     "text": [
      "[1, 2, 3, 4]\n"
     ]
    }
   ],
   "source": [
    "print(stack)"
   ]
  },
  {
   "cell_type": "markdown",
   "id": "9799f861",
   "metadata": {},
   "source": [
    "The benefits of stacks, and other constrained data structures, are:\n",
    "\n",
    "1. Prevent potential bugs when using certain algorithms. For example, an algorithm that relies on stacks may break if removing elements from the middle of the array, so using a standard array is more error-prone.\n",
    "2. A new mental model for tackling problems. In the case of stacks, this is the LIFO approach.\n",
    "\n",
    "\n",
    "The concept of stacks is a useful precursor to recursion, as we push to and pop from the end of a stack."
   ]
  },
  {
   "cell_type": "markdown",
   "id": "c22dcb5a",
   "metadata": {},
   "source": [
    "## 7. Queues\n",
    "\n",
    "A queue is conceptually similar to a stack - it is a constrained array. This time, it is First-In First-Out (FIFO) like a queue of people; the first person to arrive is the first to leave.\n",
    "\n",
    "Queue restrictions:\n",
    "\n",
    "1. Data can only be **inserted** at the **end** (enqueue)\n",
    "2. Data can only be **deleted** from the **front** (dequeue)\n",
    "3. Data can only be **read** from the **front** (peek)\n",
    "\n",
    "Points (2) and (3) are the opposite of the stack."
   ]
  },
  {
   "cell_type": "code",
   "execution_count": 21,
   "id": "0baf7b51",
   "metadata": {},
   "outputs": [],
   "source": [
    "class Queue:\n",
    "\n",
    "    def __init__(self, initial_elements: list = []):\n",
    "        # We can pass a list to initialise the Stack\n",
    "        self.data = initial_elements\n",
    "\n",
    "    def __repr__(self):\n",
    "        return str(self.data)\n",
    "\n",
    "    def enqueue(self, element):\n",
    "        self.data.append(element)\n",
    "\n",
    "    def dequeue(self):\n",
    "        return self.data.pop(0)\n",
    "\n",
    "    def peek(self):\n",
    "        if self.data:\n",
    "            return self.data[0]"
   ]
  },
  {
   "cell_type": "code",
   "execution_count": 22,
   "id": "bbbdff9d",
   "metadata": {},
   "outputs": [
    {
     "data": {
      "text/plain": [
       "[1, 2, 3, 4]"
      ]
     },
     "execution_count": 22,
     "metadata": {},
     "output_type": "execute_result"
    }
   ],
   "source": [
    "q = Queue([1, 2, 3, 4])\n",
    "q"
   ]
  },
  {
   "cell_type": "code",
   "execution_count": 23,
   "id": "3746ed68",
   "metadata": {},
   "outputs": [
    {
     "name": "stdout",
     "output_type": "stream",
     "text": [
      "[1, 2, 3, 4, 5]\n"
     ]
    }
   ],
   "source": [
    "q.enqueue(5)\n",
    "print(q)"
   ]
  },
  {
   "cell_type": "code",
   "execution_count": 24,
   "id": "685ce12b",
   "metadata": {},
   "outputs": [
    {
     "data": {
      "text/plain": [
       "1"
      ]
     },
     "execution_count": 24,
     "metadata": {},
     "output_type": "execute_result"
    }
   ],
   "source": [
    "q.dequeue()"
   ]
  },
  {
   "cell_type": "code",
   "execution_count": 25,
   "id": "c1eadd69",
   "metadata": {},
   "outputs": [
    {
     "name": "stdout",
     "output_type": "stream",
     "text": [
      "[2, 3, 4, 5]\n"
     ]
    }
   ],
   "source": [
    "print(q)"
   ]
  },
  {
   "cell_type": "code",
   "execution_count": 26,
   "id": "d03b5f01",
   "metadata": {},
   "outputs": [
    {
     "data": {
      "text/plain": [
       "2"
      ]
     },
     "execution_count": 26,
     "metadata": {},
     "output_type": "execute_result"
    }
   ],
   "source": [
    "q.peek()"
   ]
  },
  {
   "cell_type": "code",
   "execution_count": 27,
   "id": "f46443f6",
   "metadata": {},
   "outputs": [
    {
     "name": "stdout",
     "output_type": "stream",
     "text": [
      "[2, 3, 4, 5]\n"
     ]
    }
   ],
   "source": [
    "print(q)"
   ]
  },
  {
   "cell_type": "markdown",
   "id": "18a3b4c3",
   "metadata": {},
   "source": [
    "## 8. Linked Lists\n",
    "\n",
    "A linked list represents a list of items as **non-contiguous** blocks of memory.\n",
    "\n",
    "It is a list of items, similar to an array. But an array occupies a continuous block of memory.\n",
    "\n",
    "\n",
    "| Operation | Complexity (Worst) | Complexity (Best)*       |\n",
    "|-----------|--------------------|--------------------------|\n",
    "| Read      | O(N)               | O(1)                     |\n",
    "| Search    | O(N)               | O(1)                     |\n",
    "| Insertion | O(N)               | O(1)                     |\n",
    "| Deletion  | O(N)               | O(1)                     |\n",
    "\n",
    "The best case corresponds to operating on the head node.\n",
    "\n",
    "In a linked list, each element is contained in a **node** that can be in scattered positions in memory. The node contains the data element and a \"link\" which is a pointer to the memory address of the next element.\n",
    "\n",
    "Benefits of a linked list over an array:\n",
    "\n",
    "1. Memory efficient: we don't need a continuous block of memory\n",
    "2. $O(1)$ inserts and deletes from the beginning of the list\n",
    "3. Useful when we want to traverse through a data structure while making inserts and deletes, because we do not have to shift the entire data structure each time as we would have to with an array\n",
    "\n",
    "A node contains two pieces of information:\n",
    "\n",
    "Data | Link\n",
    "-----|-----\n",
    "\"a\"  | 1666\n",
    "\n",
    "These nodes can then be linked together in a list... a linked list!\n",
    "\n",
    "```{mermaid}\n",
    "flowchart LR\n",
    "\n",
    "  A(\"'a'|1666\") --> B(\"'b'|1984\") --> C(\"'c'|1066\") --> D(\"...\") --> E(\"'z'|null\")\n",
    "\n",
    "```\n",
    "\n",
    "The link of the last node is null to indicate the end of the list.\n",
    "\n",
    "\n",
    "### 8.1. Implementating a Node\n",
    "\n",
    "We first need a node data structure, which will hold our data and a link to the next node.\n",
    "\n",
    "We'll point to the next node itself, rather than its memory address. This still has the same effect as nodes are scattered throughout different memory locations."
   ]
  },
  {
   "cell_type": "code",
   "execution_count": 115,
   "id": "3bcf4f77",
   "metadata": {},
   "outputs": [],
   "source": [
    "class Node:\n",
    "\n",
    "    def __init__(self, data, link=None):\n",
    "        self.data = data\n",
    "        self.link = link\n",
    "    \n",
    "    def __repr__(self) -> str:\n",
    "        return f\"Data: {self.data}\\tLink: \\n{self.link}\""
   ]
  },
  {
   "cell_type": "markdown",
   "id": "f358d6b1",
   "metadata": {},
   "source": [
    "Create some nodes and link them together"
   ]
  },
  {
   "cell_type": "code",
   "execution_count": 116,
   "id": "bbfaf9fa",
   "metadata": {},
   "outputs": [],
   "source": [
    "node1 = Node(\"a\")\n",
    "node2 = Node(\"b\")\n",
    "node3 = Node(\"c\")\n",
    "node4 = Node(\"d\")"
   ]
  },
  {
   "cell_type": "markdown",
   "id": "a029f0de",
   "metadata": {},
   "source": [
    "This is what a single node looks like:"
   ]
  },
  {
   "cell_type": "code",
   "execution_count": 117,
   "id": "fb6ae0a8",
   "metadata": {},
   "outputs": [
    {
     "name": "stdout",
     "output_type": "stream",
     "text": [
      "Data: a\tLink: \n",
      "None\n"
     ]
    }
   ],
   "source": [
    "print(node1)"
   ]
  },
  {
   "cell_type": "markdown",
   "id": "d318d01d",
   "metadata": {},
   "source": [
    "Now we link them"
   ]
  },
  {
   "cell_type": "code",
   "execution_count": 118,
   "id": "52a3240c",
   "metadata": {},
   "outputs": [],
   "source": [
    "node1.link = node2\n",
    "node2.link = node3\n",
    "node3.link = node4"
   ]
  },
  {
   "cell_type": "code",
   "execution_count": 119,
   "id": "202fd66f",
   "metadata": {},
   "outputs": [
    {
     "data": {
      "text/plain": [
       "Data: a\tLink: \n",
       "Data: b\tLink: \n",
       "Data: c\tLink: \n",
       "Data: d\tLink: \n",
       "None"
      ]
     },
     "execution_count": 119,
     "metadata": {},
     "output_type": "execute_result"
    }
   ],
   "source": [
    "node1"
   ]
  },
  {
   "cell_type": "markdown",
   "id": "ae449b20",
   "metadata": {},
   "source": [
    "### 8.2. Implementing a Linked List\n",
    "\n",
    "The linked list simply keeps track of the **head**, i.e. the first node in the list.\n",
    "\n",
    "When using linked lists, we only have immediate access to this first node. For any other values, we need to start at the head node and traverse the list."
   ]
  },
  {
   "cell_type": "code",
   "execution_count": 120,
   "id": "302810b0",
   "metadata": {},
   "outputs": [],
   "source": [
    "class LinkedList:\n",
    "\n",
    "    def __init__(self, head):\n",
    "        self.head = head\n",
    "\n",
    "    def __repr__(self) -> str:\n",
    "        return str(self.head)"
   ]
  },
  {
   "cell_type": "code",
   "execution_count": 121,
   "id": "6e66cba0",
   "metadata": {},
   "outputs": [
    {
     "data": {
      "text/plain": [
       "Data: a\tLink: \n",
       "Data: b\tLink: \n",
       "Data: c\tLink: \n",
       "Data: d\tLink: \n",
       "None"
      ]
     },
     "execution_count": 121,
     "metadata": {},
     "output_type": "execute_result"
    }
   ],
   "source": [
    "ll = LinkedList(node1)\n",
    "ll"
   ]
  },
  {
   "cell_type": "markdown",
   "id": "3371fbd8",
   "metadata": {},
   "source": [
    "### 8.3. Reading from a Linked List"
   ]
  },
  {
   "cell_type": "markdown",
   "id": "284ad2c2",
   "metadata": {},
   "source": [
    "We start at the head an traverse the list until we reach the desired index.\n",
    "\n",
    "This means they ar $O(N)$ in the worst case."
   ]
  },
  {
   "cell_type": "code",
   "execution_count": 122,
   "id": "f7f8f365",
   "metadata": {},
   "outputs": [],
   "source": [
    "class LinkedList:\n",
    "\n",
    "    def __init__(self, head):\n",
    "        self.head = head\n",
    "\n",
    "    def __repr__(self) -> str:\n",
    "        return str(self.head)\n",
    "    \n",
    "    def read(self, index):\n",
    "        \"\"\"Read the node at the given index.\"\"\"\n",
    "        current_idx = 0\n",
    "        current_node = self.head\n",
    "\n",
    "        while (index > current_idx):\n",
    "            if current_node.link is None:\n",
    "                # The index does not exist in the linked list, we have reached the end\n",
    "                return None\n",
    "            \n",
    "            current_node = current_node.link\n",
    "            current_idx += 1          \n",
    "\n",
    "        return current_node\n"
   ]
  },
  {
   "cell_type": "code",
   "execution_count": 123,
   "id": "8fdee59c",
   "metadata": {},
   "outputs": [
    {
     "data": {
      "text/plain": [
       "Data: c\tLink: \n",
       "Data: d\tLink: \n",
       "None"
      ]
     },
     "execution_count": 123,
     "metadata": {},
     "output_type": "execute_result"
    }
   ],
   "source": [
    "ll = LinkedList(node1)\n",
    "ll.read(2)"
   ]
  },
  {
   "cell_type": "code",
   "execution_count": 124,
   "id": "0f7f6988",
   "metadata": {},
   "outputs": [],
   "source": [
    "ll.read(10)"
   ]
  },
  {
   "cell_type": "markdown",
   "id": "7ead2bea",
   "metadata": {},
   "source": [
    "### 8.4. Searching a Linked List\n",
    "\n",
    "To search for a value, again we have to traverse the whole list.\n",
    "\n",
    "This means the worst case complexity is $O(N)$.\n",
    "\n",
    "The mechanics of searching are the same as reading - we traverse the graph. The difference is we keep going until we find the value or reach the end of the list, rather than stopping at a predetermined index with `read`."
   ]
  },
  {
   "cell_type": "code",
   "execution_count": 125,
   "id": "2f9bf74e",
   "metadata": {},
   "outputs": [],
   "source": [
    "class LinkedList:\n",
    "\n",
    "    def __init__(self, head):\n",
    "        self.head = head\n",
    "\n",
    "    def __repr__(self) -> str:\n",
    "        return str(self.head)\n",
    "    \n",
    "    def read(self, index):\n",
    "        \"\"\"Read the node at the given index.\"\"\"\n",
    "        # Start at the head\n",
    "        current_idx = 0\n",
    "        current_node = self.head\n",
    "\n",
    "        # Traverse the list until we find the desired index\n",
    "        while (index > current_idx):\n",
    "            if current_node.link is None:\n",
    "                # The index does not exist in the linked list, we have reached the end\n",
    "                return None\n",
    "            \n",
    "            current_node = current_node.link\n",
    "            current_idx += 1          \n",
    "\n",
    "        return current_node\n",
    "    \n",
    "    def search(self, value):\n",
    "        \"\"\"Find the index of the given value.\"\"\"\n",
    "        # Start at the head\n",
    "        current_idx = 0\n",
    "        current_node = self.head\n",
    "\n",
    "        # Loop until we reach the None value which denotes the end of the list\n",
    "        while current_node:\n",
    "            if current_node.data == value:\n",
    "                # We've found our target value\n",
    "                return current_idx\n",
    "            # Try the next node\n",
    "            current_node = current_node.link\n",
    "            current_idx += 1\n",
    "\n",
    "        # We have traversed the whole list without finding a matching value\n",
    "        return None\n"
   ]
  },
  {
   "cell_type": "code",
   "execution_count": 126,
   "id": "799e4c57",
   "metadata": {},
   "outputs": [
    {
     "data": {
      "text/plain": [
       "2"
      ]
     },
     "execution_count": 126,
     "metadata": {},
     "output_type": "execute_result"
    }
   ],
   "source": [
    "ll = LinkedList(node1)\n",
    "ll.search('c')"
   ]
  },
  {
   "cell_type": "markdown",
   "id": "19e2fec8",
   "metadata": {},
   "source": [
    "### 8.5. Inserting into a Linked List\n",
    "\n",
    "Inserting a node into a linked list **where we already have the current node** is an $O(1)$ operation. \n",
    "\n",
    "1. **Point to the next node**. `new_node.link = current_node.link`\n",
    "2. **Link from the previous node**. `current_node.link = new_node`\n",
    "\n",
    "With a linked list, we only have the head node, so we can insert at the start in $O(1)$ time. \n",
    "\n",
    "But to insert at any other point, we have to traverse there first (an $O(N)$ operation) and then do the insert.\n",
    "\n",
    "This is the key point of linked lists: insertion at the beginning is $O(1)$ but at the end is $O(N)$. This is the opposite of arrays, meaning linked lists are useful in cases where insertions are mostly at the beginning.\n",
    "\n"
   ]
  },
  {
   "cell_type": "code",
   "execution_count": 127,
   "id": "65124fd0",
   "metadata": {},
   "outputs": [],
   "source": [
    "class LinkedList:\n",
    "\n",
    "    def __init__(self, head):\n",
    "        self.head = head\n",
    "\n",
    "    def __repr__(self) -> str:\n",
    "        return str(self.head)\n",
    "    \n",
    "    def read(self, index):\n",
    "        \"\"\"Read the node at the given index.\"\"\"\n",
    "        # Start at the head\n",
    "        current_idx = 0\n",
    "        current_node = self.head\n",
    "\n",
    "        # Traverse the list until we find the desired index\n",
    "        while (index > current_idx):\n",
    "            if current_node.link is None:\n",
    "                # The index does not exist in the linked list, we have reached the end\n",
    "                return None\n",
    "            \n",
    "            current_node = current_node.link\n",
    "            current_idx += 1          \n",
    "\n",
    "        return current_node\n",
    "    \n",
    "    def search(self, value):\n",
    "        \"\"\"Find the index of the given value.\"\"\"\n",
    "        # Start at the head\n",
    "        current_idx = 0\n",
    "        current_node = self.head\n",
    "\n",
    "        # Loop until we reach the None value which denotes the end of the list\n",
    "        while current_node:\n",
    "            if current_node.data == value:\n",
    "                # We've found our target value\n",
    "                return current_idx\n",
    "            # Try the next node\n",
    "            current_node = current_node.link\n",
    "            current_idx += 1\n",
    "\n",
    "        # We have traversed the whole list without finding a matching value\n",
    "        return None\n",
    "    \n",
    "\n",
    "    def insert(self, value, index):\n",
    "        \"\"\"Insert the value at the given index.\"\"\"\n",
    "        new_node = Node(value)\n",
    "\n",
    "        if index == 0:\n",
    "            # Link to the old head and update the linked lists head\n",
    "            new_node.link = self.head\n",
    "            self.head = new_node\n",
    "            return\n",
    "        \n",
    "        # Traverse the linked list until we find our node\n",
    "        current_node = self.head\n",
    "        current_idx = 0\n",
    "        while current_idx < index - 1:\n",
    "            current_node = current_node.link\n",
    "            current_idx += 1\n",
    "\n",
    "        # Update the links to insert the new node\n",
    "        new_node.link = current_node.link\n",
    "        current_node.link = new_node\n",
    "        return \n",
    "\n",
    "\n",
    "        \n"
   ]
  },
  {
   "cell_type": "markdown",
   "id": "f2b9727f",
   "metadata": {},
   "source": [
    "Insert a new head of our linked list"
   ]
  },
  {
   "cell_type": "code",
   "execution_count": 128,
   "id": "715a663a",
   "metadata": {},
   "outputs": [
    {
     "data": {
      "text/plain": [
       "Data: a\tLink: \n",
       "Data: b\tLink: \n",
       "Data: c\tLink: \n",
       "Data: d\tLink: \n",
       "None"
      ]
     },
     "execution_count": 128,
     "metadata": {},
     "output_type": "execute_result"
    }
   ],
   "source": [
    "ll = LinkedList(node1)\n",
    "ll"
   ]
  },
  {
   "cell_type": "code",
   "execution_count": 129,
   "id": "0a7d80b0",
   "metadata": {},
   "outputs": [],
   "source": [
    "ll.insert('new_head', 0)"
   ]
  },
  {
   "cell_type": "code",
   "execution_count": 130,
   "id": "f718e609",
   "metadata": {},
   "outputs": [
    {
     "data": {
      "text/plain": [
       "Data: new_head\tLink: \n",
       "Data: a\tLink: \n",
       "Data: b\tLink: \n",
       "Data: c\tLink: \n",
       "Data: d\tLink: \n",
       "None"
      ]
     },
     "execution_count": 130,
     "metadata": {},
     "output_type": "execute_result"
    }
   ],
   "source": [
    "ll"
   ]
  },
  {
   "cell_type": "markdown",
   "id": "0ba4cb3b",
   "metadata": {},
   "source": [
    "Insert in the middle"
   ]
  },
  {
   "cell_type": "code",
   "execution_count": 131,
   "id": "ff6f7ba2",
   "metadata": {},
   "outputs": [],
   "source": [
    "ll.insert(\"I'm new here\", 3)"
   ]
  },
  {
   "cell_type": "code",
   "execution_count": 132,
   "id": "edc9b98f",
   "metadata": {},
   "outputs": [
    {
     "data": {
      "text/plain": [
       "Data: new_head\tLink: \n",
       "Data: a\tLink: \n",
       "Data: b\tLink: \n",
       "Data: I'm new here\tLink: \n",
       "Data: c\tLink: \n",
       "Data: d\tLink: \n",
       "None"
      ]
     },
     "execution_count": 132,
     "metadata": {},
     "output_type": "execute_result"
    }
   ],
   "source": [
    "ll"
   ]
  },
  {
   "cell_type": "markdown",
   "id": "2c844b2a",
   "metadata": {},
   "source": [
    "### 8.6. Deleting from a Linked List\n",
    "\n",
    "It is quick to delete from the beginning of a linked list for the same reasons as insertion.\n",
    "\n",
    "1. Make the previous node point to the next next node"
   ]
  },
  {
   "cell_type": "code",
   "execution_count": 135,
   "id": "7dc9f6d2",
   "metadata": {},
   "outputs": [],
   "source": [
    "class LinkedList:\n",
    "\n",
    "    def __init__(self, head):\n",
    "        self.head = head\n",
    "\n",
    "    def __repr__(self) -> str:\n",
    "        return str(self.head)\n",
    "    \n",
    "    def read(self, index):\n",
    "        \"\"\"Read the node at the given index.\"\"\"\n",
    "        # Start at the head\n",
    "        current_idx = 0\n",
    "        current_node = self.head\n",
    "\n",
    "        # Traverse the list until we find the desired index\n",
    "        while (index > current_idx):\n",
    "            if current_node.link is None:\n",
    "                # The index does not exist in the linked list, we have reached the end\n",
    "                return None\n",
    "            \n",
    "            current_node = current_node.link\n",
    "            current_idx += 1          \n",
    "\n",
    "        return current_node\n",
    "    \n",
    "    def search(self, value):\n",
    "        \"\"\"Find the index of the given value.\"\"\"\n",
    "        # Start at the head\n",
    "        current_idx = 0\n",
    "        current_node = self.head\n",
    "\n",
    "        # Loop until we reach the None value which denotes the end of the list\n",
    "        while current_node:\n",
    "            if current_node.data == value:\n",
    "                # We've found our target value\n",
    "                return current_idx\n",
    "            # Try the next node\n",
    "            current_node = current_node.link\n",
    "            current_idx += 1\n",
    "\n",
    "        # We have traversed the whole list without finding a matching value\n",
    "        return None\n",
    "    \n",
    "\n",
    "    def insert(self, value, index):\n",
    "        \"\"\"Insert the value at the given index.\"\"\"\n",
    "        new_node = Node(value)\n",
    "\n",
    "        if index == 0:\n",
    "            # Link to the old head and update the linked lists head\n",
    "            new_node.link = self.head\n",
    "            self.head = new_node\n",
    "            return\n",
    "        \n",
    "        # Traverse the linked list until we find our node\n",
    "        current_node = self.head\n",
    "        current_idx = 0\n",
    "        while current_idx < index - 1:\n",
    "            current_node = current_node.link\n",
    "            current_idx += 1\n",
    "\n",
    "        # Update the links to insert the new node\n",
    "        new_node.link = current_node.link\n",
    "        current_node.link = new_node\n",
    "        return \n",
    "    \n",
    "    def delete(self, index):\n",
    "        \"\"\"Delete the value at the given index.\"\"\"\n",
    "        if index == 0:\n",
    "            # We are deleting the head node, so point at the second node instead\n",
    "            self.head = self.head.link\n",
    "            return\n",
    "    \n",
    "        # Traverse the linked list until we find our node\n",
    "        current_node = self.head\n",
    "        current_idx = 0\n",
    "        while current_idx < index - 1:\n",
    "            current_node = current_node.link\n",
    "            current_idx += 1\n",
    "\n",
    "        # Skip the next node (which we are deleting) and point ot its link instead\n",
    "        current_node.link = current_node.link.link\n",
    "        return       "
   ]
  },
  {
   "cell_type": "code",
   "execution_count": 136,
   "id": "69bb3f4b",
   "metadata": {},
   "outputs": [
    {
     "data": {
      "text/plain": [
       "Data: a\tLink: \n",
       "Data: b\tLink: \n",
       "Data: I'm new here\tLink: \n",
       "Data: c\tLink: \n",
       "Data: d\tLink: \n",
       "None"
      ]
     },
     "execution_count": 136,
     "metadata": {},
     "output_type": "execute_result"
    }
   ],
   "source": [
    "ll = LinkedList(node1)\n",
    "ll"
   ]
  },
  {
   "cell_type": "markdown",
   "id": "81e68fb5",
   "metadata": {},
   "source": [
    "Delete the head node"
   ]
  },
  {
   "cell_type": "code",
   "execution_count": 137,
   "id": "72df01e1",
   "metadata": {},
   "outputs": [
    {
     "name": "stdout",
     "output_type": "stream",
     "text": [
      "Data: b\tLink: \n",
      "Data: I'm new here\tLink: \n",
      "Data: c\tLink: \n",
      "Data: d\tLink: \n",
      "None\n"
     ]
    }
   ],
   "source": [
    "ll.delete(0)\n",
    "print(ll)"
   ]
  },
  {
   "cell_type": "markdown",
   "id": "90518193",
   "metadata": {},
   "source": [
    "Delete a middle node"
   ]
  },
  {
   "cell_type": "code",
   "execution_count": 138,
   "id": "71ef1431",
   "metadata": {},
   "outputs": [
    {
     "name": "stdout",
     "output_type": "stream",
     "text": [
      "Data: b\tLink: \n",
      "Data: c\tLink: \n",
      "Data: d\tLink: \n",
      "None\n"
     ]
    }
   ],
   "source": [
    "ll.delete(1)\n",
    "print(ll)"
   ]
  },
  {
   "cell_type": "markdown",
   "id": "47f66916",
   "metadata": {},
   "source": [
    "### 8.7. Doubly Linked Lists\n",
    "\n",
    "A doubly linked list is a variant where each node contains pointers to the previous node and the next node.\n",
    "\n",
    "Data | Previous | Next\n",
    "-----|----------|------- \n",
    "\"a\"  | null     | 1666\n",
    "\n",
    "The linked list tracks the head and tail.\n",
    "\n",
    "This makes it quicker to read/insert/delete from either the beginning or end. We can also traverse backwards or forwards through the list.\n",
    "\n",
    "\n",
    "```{mermaid}\n",
    "flowchart LR\n",
    "\n",
    "  A(\"'a'|null|1666\") <---> B(\"'b'|1234|1984\") <--> C(\"'c'|1666|1066\") <--> D(\"...\") <--> E(\"'z'|1993|null\")\n",
    "\n",
    "```\n",
    "\n",
    "\n",
    "Doubly linked lists are a good data structure to use for queues, since we can insert/delete at either end."
   ]
  },
  {
   "cell_type": "markdown",
   "id": "2028aa18",
   "metadata": {},
   "source": []
  },
  {
   "cell_type": "markdown",
   "id": "66c958ab",
   "metadata": {},
   "source": [
    "## 9. Binary Search Trees\n",
    "\n",
    "We can have some use cases where we want to keep our data sorted. \n",
    "\n",
    "Sorting is expensive, $O(N log N)$ at the best of times, so we want to avoid sorting often. Ideally we would keep our data sorted at all times.\n",
    "An ordered array *could* do the job, but insertions and deletions are slow as we have to shift a chunk over the array every time.\n",
    "\n",
    "We want a data structure that:\n",
    "\n",
    "1. Maintains order\n",
    "2. Has fast inserts, deletes and search\n",
    "\n",
    "This is where a binary search tree comes in.\n",
    "\n",
    "\n",
    "\n",
    "| Operation | Complexity (Worst)*| Complexity (Best)        |\n",
    "|-----------|--------------------|--------------------------|\n",
    "| Read      | N/A                | N/A                      |\n",
    "| Search    | O(N)               | O(log N)                 |\n",
    "| Insertion | O(N)               | O(log N)                 |\n",
    "| Deletion  | O(N)               | O(log N)                 |\n",
    "\n",
    "*The worst case corresponds to an imbalanced tree that is essentailly a linked list (a straight line).\n",
    "The best case is a perfectly balanced tree.\n",
    "\n",
    "\n",
    "### 9.1. Trees \n",
    "\n",
    "Trees are another node-based data structure when each node can point to multiple other nodes.\n",
    "\n",
    "\n",
    "```{mermaid}\n",
    "flowchart TD\n",
    "\n",
    "\n",
    "  A(a) --> B(b)\n",
    "  A(a) --> C(c)\n",
    "\n",
    "  B(b) --> D(d)\n",
    "  B(b) --> E(e)\n",
    "\n",
    "  C(c) --> F(f)\n",
    "```\n",
    "\n",
    "- The **root** is the uppermost node.\n",
    "- `a` is the **parent** of `b` and `c`; `b` and `c` are **children** of `a`.\n",
    "- The **descendants** of a node are all of its children and its children's children's children etc. The **ancestors** of anode are its parents and its parent's parent's parents etc.\n",
    "- Each horizontal layer ofthe tree is a **level**.\n",
    "- A tree is **balanced** if all of its subtrees have the same number of nodes.\n",
    "\n",
    "\n",
    "### 9.2. Binary Search Tree Rules\n",
    "\n",
    "A **binary tree** is one in which each node can have at most 2 children.\n",
    "\n",
    "A **binary search tree**must abide by the following rules:\n",
    "\n",
    "1. Each node can have at most one \"left\" child and one \"right\" child\n",
    "2. A node's left descendants are all smaller than the node. It's right descendants are all larger.\n",
    "\n",
    "\n",
    "### 9.3. Implementation"
   ]
  },
  {
   "cell_type": "code",
   "execution_count": 1,
   "id": "317e252e",
   "metadata": {},
   "outputs": [],
   "source": [
    "class TreeNode:\n",
    "\n",
    "    def __init__(self, value, left=None, right=None):\n",
    "        self.value = value\n",
    "        self.left = left\n",
    "        self.right = right\n",
    "\n",
    "    def __repr__(self):\n",
    "        return f\"TreeNode with value: {self.value}\"\n",
    "\n",
    "\n",
    "class Tree: \n",
    "\n",
    "    def __init__(self, root_node):\n",
    "        self.root_node = root_node\n",
    "\n",
    "    def __repr__(self) -> str:\n",
    "        return f\"Tree with root: {self.root_node}\"\n"
   ]
  },
  {
   "cell_type": "code",
   "execution_count": 2,
   "id": "4dc246e2",
   "metadata": {},
   "outputs": [],
   "source": [
    "tree_node2 = TreeNode('b')\n",
    "tree_node3 = TreeNode('c')\n",
    "tree_node1 = TreeNode('a', tree_node2, tree_node3)\n",
    "\n",
    "tree = Tree(tree_node1)"
   ]
  },
  {
   "cell_type": "code",
   "execution_count": 3,
   "id": "1bcf8794",
   "metadata": {},
   "outputs": [
    {
     "data": {
      "text/plain": [
       "TreeNode with value: a"
      ]
     },
     "execution_count": 3,
     "metadata": {},
     "output_type": "execute_result"
    }
   ],
   "source": [
    "tree_node1"
   ]
  },
  {
   "cell_type": "code",
   "execution_count": 4,
   "id": "e541475f",
   "metadata": {},
   "outputs": [
    {
     "data": {
      "text/plain": [
       "TreeNode with value: b"
      ]
     },
     "execution_count": 4,
     "metadata": {},
     "output_type": "execute_result"
    }
   ],
   "source": [
    "tree_node1.left"
   ]
  },
  {
   "cell_type": "code",
   "execution_count": 5,
   "id": "57555ea9",
   "metadata": {},
   "outputs": [
    {
     "data": {
      "text/plain": [
       "TreeNode with value: c"
      ]
     },
     "execution_count": 5,
     "metadata": {},
     "output_type": "execute_result"
    }
   ],
   "source": [
    "tree_node1.right"
   ]
  },
  {
   "cell_type": "code",
   "execution_count": 6,
   "id": "6327fb3c",
   "metadata": {},
   "outputs": [
    {
     "data": {
      "text/plain": [
       "Tree with root: TreeNode with value: a"
      ]
     },
     "execution_count": 6,
     "metadata": {},
     "output_type": "execute_result"
    }
   ],
   "source": [
    "tree"
   ]
  },
  {
   "cell_type": "markdown",
   "id": "7b04c3cc",
   "metadata": {},
   "source": [
    "### 9.4. Searching a Binary Search Tree\n",
    "\n",
    "1. Designate a current node (start with the root) and inspect its value.\n",
    "2. If the current node is our target, success! Stop here.\n",
    "3. If the current node is smaller than our target, search the left subtree. If it's larger, search the right subtree.\n",
    "4. Repeat until we find our target. If we reach the end of the subtree without finding the target, then the target is not in the tree."
   ]
  },
  {
   "cell_type": "markdown",
   "id": "0ba8b4b1",
   "metadata": {},
   "source": [
    "### 9.5. Complexity\n",
    "\n",
    "Searching a binary search tree is $O(log N)$ in the best case (a perfectly balanced tree) since we narrow our search area by half on each step.\n",
    "\n",
    "The worst case is a horribly imbalanced tree. Imagine a tree that only has left descendants. This is essentially a linked list, so searching through it means inspecting every element. Therefore the worst case complexity is $O(N)$.\n",
    "\n",
    "So searching a binary search tree is the same complexity as a binary search performed on an ordered array. Where trees differentiate themselves is on **insertions and deletes**."
   ]
  },
  {
   "cell_type": "markdown",
   "id": "a14e62a5",
   "metadata": {},
   "source": [
    "### 9.6. Insertion\n",
    "\n",
    "1. Compare our new_node to each value in the tree starting from the root. Like with search, follow the path to the left if new_node is lower or right if higher.\n",
    "2. Traverse until we find a node where the appropriate child (left or right) does not exist yet. Make new_node the child.\n",
    "\n",
    "The **order of insertion** is important to maintain balance. Binary search trees work best when seeded with randomly sorted data, as this will typically end up quite well-balanced. Seeding the tree with **sorted data leads to imbalanced trees**.\n",
    "\n",
    "Insertion is $O(log N)$ for balanced trees because we search for the correct place to insert and then perform an $O(1)$ operation to insert it.\n",
    "\n",
    "\n",
    "### 9.7. Deletion\n",
    "\n",
    "Deleting a node is more complicated because it depends if the target node has 0, 1 or 2 children.\n",
    "\n",
    "Number of Children | Action\n",
    "------|------\n",
    "0     | Simply delete the node\n",
    "1     | Replace the deleted node with its child\n",
    "2     | Replace the deleted node with the **successor node**\n",
    "\n",
    "The **successor node** is the next largest descendant of the deleted node. More formally: the child node whose value is the least of all values that are greater than the deleted node.\n",
    "\n",
    "Finding the successor:\n",
    "\n",
    "1. Visit the right child of the deleted node.\n",
    "2. Keep visiting left children until there are no more elft children. This is the successor node.\n",
    "3. If the successor node has a right child, that child takes the original place of the successor node. The successor node gets moved to replace the deleted node.\n",
    "\n",
    "\n",
    "Deletion is $O(log N)$ for balanced trees because we search for the correct place to insert and then perform (potentially several) $O(1)$ operations to delete the node and replace it with a child / successor.\n",
    "\n",
    "\n",
    "### 9.8. Inorder Traversal\n",
    "\n",
    "The point of a binary search tree is to maintain order. We can traverse the elements in order with the following recursive algorithm.\n",
    "\n",
    "1. Call itself recursively on the node's left child. This will repeat until we hit a node without a left child.\n",
    "2. Visit this node.\n",
    "3. Call itself recursviely on the node's right child.\n",
    "\n",
    "Since we are visiting every element of the tree, this is necessarily $O(N)$.\n",
    "\n"
   ]
  },
  {
   "cell_type": "code",
   "execution_count": 7,
   "id": "9bc4e626",
   "metadata": {},
   "outputs": [],
   "source": [
    "def traverse(tree_node):\n",
    "    \"\"\"Inorder traversal of a binary search tree.\"\"\"\n",
    "    if tree_node is None:\n",
    "        return\n",
    "    traverse(tree_node.left)\n",
    "    print(tree_node.value)\n",
    "    traverse(tree_node.right)"
   ]
  },
  {
   "cell_type": "markdown",
   "id": "3e6030db",
   "metadata": {},
   "source": [
    "## 10. Heaps\n",
    "\n",
    "### 10.1. Priority Queues\n",
    "\n",
    "A **queue** is a FIFO list that means data is inserted at the end but accessed/removed from the front.\n",
    "\n",
    "A **priority queue** is a list where deletions and access are the same as a regular queue, but *insertions are like an ordered array*.\n",
    "So the priority queue is always ordered.\n",
    "\n",
    "An example use case is a triage system in a hospital: patients are seen based on severity, not just when they arrived.\n",
    "\n",
    "This is an abstract data types that we could implement in multiple ways using different fundamental data types. E.g. we *could* implement using an ordered array, but insertions would be O(N).\n",
    "\n",
    "Heaps are another data structure that fit this use case well.\n",
    "\n",
    "\n",
    "### 10.2. Binary Heaps\n",
    "\n",
    "There a multiple kinds of heaps. As a starting point, we consider the **binary max-heap**, which is a special kind of binary tree.\n",
    "\n",
    "Binary max-heap conditions:\n",
    "\n",
    "1. **Heap condition**: Each node is greater than its children.\n",
    "2. The tree must be **complete**.\n",
    "\n",
    "Because the heap condition is true for each node, we can recursively reason that a node is greater than its children, and they are too, then a node is greater than all of its *descendants*.\n",
    "\n",
    "The **complete** condition essentially means values are filled left-to-right, top-down with no holes. There are no empty positions anywhere except the bottom row, and the bottom row is filled from left to right. The **last node** is the rightmost node at its bottom level.\n",
    "\n",
    "There is also a min-heap variant. The difference is trivial, aside from the heap condition inequality being reversed, the logic is the same.\n",
    "\n",
    "\n",
    "### 10.3. Heap Properties\n",
    "\n",
    "- Heaps are *weakly ordered*.\n",
    "- The root node is the maximum value.\n",
    "\n",
    "With a binary search tree, we know precisely whether a value is the left or right descendant of a node. E.g. `3` will be a left child of `100`. \n",
    "\n",
    "But in a max-heap, we don't know whether `3` is to the left or right, only that it is a descendant rather than an ancestor.\n",
    "\n",
    "**Searching** would require inspecting every node, $O(N)$. In practice, searching a heap is not typically done in the use cases it is used for.\n",
    "\n",
    "**Reading** a heap typically refers to accessing the root node, which is $O(1)$.\n",
    "\n",
    "\n",
    "### 10.4. Inserting into a Heap\n",
    "\n",
    "1. **Last node**: Insert the new node as the heap's last node\n",
    "2. **Trickle up the new node**: Compare the new node to its parent. If it's greater than its parent, swap them.\n",
    "\n",
    "The number of steps to trickle is proportional to the depth of the tree. Therefore, insertion is a $O(log N)$ operation.\n",
    "\n",
    "\n",
    "### 10.5. Deleting from a Heap\n",
    "\n",
    "We only ever delete the root node from a heap.\n",
    "\n",
    "1. **New root**: The *last node* becomes the new root node.\n",
    "2. **Trickle down the root node**: Trickle the root down to its proper place.\n",
    "\n",
    "Trickling down is more complicated than trickling up because there are two possible directions to swap in. We compare to *both* children and **swap with the larger** of the two. This ensures the largest value ends up as the root node, which is the key property we want to preserve.\n",
    "\n",
    "Deletion is also $O(log N)$ since the number of steps to trickle is again proprtional to the depth of the tree.\n",
    "\n",
    "\n",
    "### 10.6. Complexity of Heap vs Ordered Array\n",
    "\n",
    "An alternative way of implementing a priority queue would be using an ordered array rather than a heap.\n",
    "\n",
    "\n",
    "   | Operation | Heap Complexity    | Array Complexity |\n",
    "   |-----------|--------------------|-------------------\n",
    "   | Read*     | $O(1)$             | $O(1)$\n",
    "   | Search^   | $O(N)$             | $O(N)$\n",
    "   | Insertion | $O(log N)$         | $O(N)$\n",
    "   | Deletion  | $O(log N)$         | $O(1)$\n",
    "   \n",
    "\\* Reading the root node\n",
    "\n",
    "^ Searching is not typically done on a heap\n",
    "\n",
    "Comparing the complexities, heaps are fast, $O(log N)$, for both insertions and deletions, wheres ordered arrays are faster for deletions but slower for insertions.\n",
    "\n",
    "As this is in log space and priority queues typically perform similar numbers of inserts and deletes, on average this makes heap much faster.\n",
    "\n",
    "\n",
    "### 10.7 The Problem of the Last Node\n",
    "\n",
    "Many operations with heaps, such as insertion, rely on knowing where the last node is. \n",
    "\n",
    "This is important because inserting/deleting the last node ensures the heap is always *complete*, and completeness is important to ensure the graph remains *well-balanced*.\n",
    "\n",
    "Being well-balanced ensures the heap remains *efficient*. As in the case of binary search tree, if a tree is severely unbalanced it effectively becomes a linked list, so actions that should search through the depth of the tree in $O(log N)$ time take $O(N)$ in the worst case.\n",
    "\n",
    "\n",
    "#### 10.7.1. Array-based Heaps\n",
    "Heaps are often implemented as arrays because the problem of the last node is so crucial, and accessing the last element of an array is $O(1)$.\n",
    "\n",
    "The tree below shows the values and their index in the corresponding array as `value|index`:\n",
    "\n",
    "```{mermaid}\n",
    "flowchart TD\n",
    "\n",
    "    A[\"100|0\"] ---> B[\"88|1\"]\n",
    "    A[\"100|0\"] ---> C[\"25|2\"]\n",
    "\n",
    "    B[\"88|1\"] ---> B1[\"87|3\"]\n",
    "    B[\"88|1\"] ---> B2[\"16|4\"]\n",
    "\n",
    "    C[\"25|2\"] ---> C1[\"8|5\"]\n",
    "    C[\"25|2\"] ---> C2[\"12|6\"]\n",
    "```\n",
    "\n",
    "\n",
    "The array representation is then:\n",
    "\n",
    "| 0   | 1  | 2  | 3  | 4  | 5 | 6  |\n",
    "|-----|----|----|----|----|---|----|\n",
    "| 100 | 88 | 25 | 87 | 16 | 8 | 12 |\n",
    "\n",
    "The indices are then deterministic. We can find the **child** index of any given node as:\n",
    "```\n",
    "left_child_idx = (parent_index * 2) + 1\n",
    "right_child_idx = (parent_index * 2) + 2\n",
    "```\n",
    "\n",
    "To find a given node's parent index:\n",
    "```\n",
    "parent_idx = (child_idx - 1) // 2\n",
    "```\n",
    "\n",
    "\n",
    "#### 10.7.2. Linked Node-based Heaps\n",
    "\n",
    "It is also possible to implement heaps as linked nodes.\n",
    "\n",
    "In this case, a different trick is required to solve the problem of the last node using **binary numbers**.\n",
    "\n",
    "\n",
    "1. **Assign Binary Numbers**: Each level of the heap is assigned a unique binary number. The root is 0, then each left child is concatenates the parent's number with 0 at the end, and each right child concatenates the parent's index with 1 at the end.\n",
    "2. **Insertion using Binary Representation**: To insert a new node into the heap, you convert the index of the node into binary form. Starting from the most significant bit (MSB), traverse the heap according to the binary digits:\n",
    "    1. If the bit is 0, move to the left child.\n",
    "    2. If the bit is 1, move to the right child.\n",
    "3. **Insertion at the Last Available Position**: As you traverse the heap, you'll eventually reach a node that doesn't exist yet. This node represents the last available position in the heap, where the new node can be inserted while maintaining the complete binary tree property.\n",
    "\n",
    "\n",
    "```{mermaid}\n",
    "flowchart TD\n",
    "\n",
    "A[\"100|0\"] ---> B[\"88|00\"]\n",
    "A[\"100|0\"] ---> C[\"25|01\"]\n",
    "\n",
    "B[\"88|00\"] ---> B1[\"87|000\"]\n",
    "B[\"88|00\"] ---> B2[\"16|001\"]\n",
    "\n",
    "C[\"25|01\"] ---> C1[\"8|010\"]\n",
    "C[\"25|01\"] ---> C2[\"12|011\"]\n",
    "```\n"
   ]
  },
  {
   "cell_type": "markdown",
   "id": "6323da42",
   "metadata": {},
   "source": [
    "## 11. Tries\n",
    "\n",
    "This is a kind of tree which is particularly useful for text-based features.\n",
    "\n",
    "Each trie node can have any number of children. Each word is split into characters which are stored as a series of nested child nodes. A terminal character is used to denote the end of a word.\n",
    "\n",
    "```{mermaid}\n",
    "flowchart TD\n",
    "\n",
    "G(G) ---> U(U) ---> R(R) ---> P(P) ---> X(*)\n",
    "```\n",
    "\n",
    "### 11.1. Trie Search\n",
    "\n",
    "There are two flavours of search: (1) checking if a substring is a valid prefix, and (2) checking if a substring is a valid whole word.\n",
    "\n",
    "The algorithm below is for the more general case of searching for a prefix. Searching for a whole word then becomes trivial because we have a terminal character, so we can search for \"Implement*\" to find the whole word.\n",
    "\n",
    "Iterate through the trie one character at a time:\n",
    "\n",
    "1. Initialise `current_node` at the root.\n",
    "2. Iterate through each character of `search_string` and see if current_node has a child with that key.\n",
    "3. Repeat Step 3 for the whole `search_string`. If the character is not a valid key, the word does not exist.\n",
    "\n",
    "The efficiency of a trie search depends on the *length of the search term*, $K$, **not** the *number of elements stored in the trie*, $N$. Therefore, it has complexity $O(K)$.\n",
    "\n",
    "\n",
    "### 11.2. Trie Insertion\n",
    "\n",
    "Inserting a new word into a trie follows similar steps to searching for an existing word: we traverse the trie and insert new nodes where they do not already exist.\n",
    "\n",
    "1. Initialise `current_node` at the root.\n",
    "2. Iterate through each character of `search_string` and see if current_node has a child with that key.\n",
    "    1. If the key exists, update `current_node` to move to that next node.\n",
    "    2. Otherwise, create a new child node and update `current_node` to move to it.\n",
    "3. Insert the terminal character of the word at the end.\n",
    "\n",
    "This is again $O(K)$ since it depends on the length of the input, not the data stored in the trie.\n",
    "\n",
    "\n",
    "### 11.3. Implementation\n",
    "We can implement a trie as dictionaries nested within dictionaries."
   ]
  },
  {
   "cell_type": "code",
   "execution_count": 1,
   "id": "16b2e160",
   "metadata": {},
   "outputs": [],
   "source": [
    "class TrieNode:\n",
    "    \n",
    "    def __init__(self):\n",
    "        self.children = {}\n",
    "        \n",
    "        \n",
    "class Trie:\n",
    "    \n",
    "    def __init__(self):\n",
    "        self.root = TrieNode()\n",
    "        self._TERMINAL_CHAR = \"*\"\n",
    "        \n",
    "    def search(self, word):\n",
    "        \"\"\"Search for a given word in the Trie.\"\"\"\n",
    "        current_node = self.root\n",
    "        \n",
    "        for char in word:\n",
    "            if char in current_node.keys():\n",
    "                # Keep traversing as long as we find valid children\n",
    "                current_node = current_node[char]\n",
    "            else: \n",
    "                # The search_string is not a valid prefix, so return None\n",
    "                return None\n",
    "        \n",
    "        return current_node\n",
    "    \n",
    "    def insert(self, new_word):\n",
    "        \"\"\"Insert a new word into the Trie.\"\"\"\n",
    "        current_node = self.root\n",
    "\n",
    "        # Traverse the word + terminal character\n",
    "        for char in new_word + self._TERMINAL_CHAR:\n",
    "            if char in current_node.keys():\n",
    "                # Keep traversing as long as we find valid children\n",
    "                current_node = current_node[char]\n",
    "            else:\n",
    "                current_node[char] = {}\n",
    "                current_node = current_node[char]\n"
   ]
  },
  {
   "cell_type": "markdown",
   "id": "6ea72369",
   "metadata": {},
   "source": [
    "### 11.4. Autocomplete\n",
    "\n",
    "A good use case of tries is for autocomplete.\n",
    "\n",
    "We use a trie to store our dictionary of possible words.\n",
    "\n",
    "Then for a given user input, we can recursively list all of the words with that prefix.\n",
    "\n",
    "We can improve autocomplete further by storing an integer `popularity` value as the terminal value rather than an empty dictionary or null value. This can be a 1-10 score of how commonly used that word is, so that we can prioritise showing more common words as autocompletion suggestions.\n"
   ]
  },
  {
   "cell_type": "markdown",
   "id": "9cf8c755",
   "metadata": {},
   "source": []
  }
 ],
 "metadata": {
  "kernelspec": {
   "display_name": "Python 3 (ipykernel)",
   "language": "python",
   "name": "python3"
  },
  "language_info": {
   "codemirror_mode": {
    "name": "ipython",
    "version": 3
   },
   "file_extension": ".py",
   "mimetype": "text/x-python",
   "name": "python",
   "nbconvert_exporter": "python",
   "pygments_lexer": "ipython3",
   "version": "3.11.3"
  }
 },
 "nbformat": 4,
 "nbformat_minor": 5
}
