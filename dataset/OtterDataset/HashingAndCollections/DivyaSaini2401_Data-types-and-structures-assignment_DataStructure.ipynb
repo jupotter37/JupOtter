{
  "nbformat": 4,
  "nbformat_minor": 0,
  "metadata": {
    "colab": {
      "provenance": []
    },
    "kernelspec": {
      "name": "python3",
      "display_name": "Python 3"
    },
    "language_info": {
      "name": "python"
    }
  },
  "cells": [
    {
      "cell_type": "markdown",
      "source": [
        "## **DATA TYPES AND STRUCTURES ASSIGNMENT**"
      ],
      "metadata": {
        "id": "kLHPvePQtB4j"
      }
    },
    {
      "cell_type": "markdown",
      "source": [
        "Q.1 What are data structure, and why are they important?\n",
        " - A data structure is a way of organizing and storing data to perform operations efficiently. They are important because they optimize data management, improve performance, support algorithms, enable scalability, and help solve complex problems in a structured way. Examples include arrays, stacks, queues, trees, and graphs.\n",
        "\n",
        "Q.2 Explain the difference between mutable and immutable data types with example?\n",
        " - Mutable data = It can be change after creation. list, Dictionary and sets are the example of mutable data.\n",
        " - Immutable data = It can not be change after creation.example are tuples string, integers and float.\n",
        "\n",
        "Q.3 what are the main differnce between list and tuple in python?\n",
        "\n",
        "- **List:**-\n",
        "\n",
        "a) list are mutable.\n",
        "\n",
        "b) creating using square brackets [  ]\n",
        "\n",
        "c)used when data need to be change.\n",
        "\n",
        "d) generally are large size in the memory.\n",
        "\n",
        "e)more methods available e.g .append and .remove\n",
        "\n",
        "**- Tuple:-**\n",
        "\n",
        "a) tuple are immutable.\n",
        "\n",
        "b)Created using parentheses ( ).\n",
        "\n",
        "c) used when data are fixed and constant.\n",
        "\n",
        "d)Generally smaller in memory.\n",
        "\n",
        "e)Fewer methods available (e.g., count, index).\n",
        "\n",
        "Q.4  Describe how dictionaries store data\n",
        " - Dictionaries store data as key-value pairs in a hash table. Each key is processed through a hash function to generate a unique hash code, which determines where the key-value pair is stored in memory.\n",
        "\n",
        "Q.5 Why might you use a set instead of a list in Python?\n",
        " - we use sets instead of list in python because of the following reasons:-\n",
        "\n",
        " a) A set automatically removes duplicates, ensuring all elements are unique.\n",
        "\n",
        " b)Sets support operations like union, intersection, difference, and\n",
        "   symmetric difference, which are more efficient than doing the same with lists.\n",
        "\n",
        " c) Sets are unordered, so if we don't need to maintain the order of elements, they are a good choice.\n",
        "\n",
        "Q.6 What is a string in Python, and how is it different from a list?\n",
        " - A string in Python is an immutable sequence of characters used to represent text. It differs from a list in that:\n",
        "\n",
        "   Strings can only store characters, while lists can store elements of any data type.\n",
        "Strings are immutable, whereas lists are mutable, meaning you can modify a list's elements, but not a string'\n",
        "\n",
        "Q.7 How do tuples ensure data integrity in Python?\n",
        " - Tuples are immutable, meaning their elements cannot be changed after creation. This ensures data integrity by preventing accidental modification, making them ideal for storing fixed collections of data like constants or configuration settings.\n",
        "\n",
        "Q.8 What is a hash table, and how does it relate to dictionaries in Python?\n",
        " - A hash table is a data structure that stores key-value pairs by hashing keys into unique indexes for fast access. In Python, dictionaries use hash tables internally to provide O(1) average time complexity for lookups, insertions, and deletions.\n",
        "\n",
        "Q.9 Can lists contain different data types in Python?\n",
        " - Yes, Python lists can contain elements of different data types, such as integers, strings, floats, or even other lists, providing great flexibility for heterogeneous collections.\n",
        "\n",
        "Q.10 Explain why strings are immutable in Python.\n",
        " - Strings are immutable in Python to improve efficiency, allow hashability for use in sets and dictionaries, ensure thread safety, maintain data integrity, and simplify design. Modifying a string creates a new one, leaving the original unchanged.\n",
        "\n",
        "Q.11 What advantages do dictionaries offer over lists for certain tasks?\n",
        "  - Dictionaries provide:\n",
        "\n",
        "   Fast lookups using keys, unlike lists, which require linear search.\n",
        "Key-based organization, making them ideal for scenarios where data needs to be mapped or labeled.\n",
        "\n",
        "Q.12  Describe a scenario where using a tuple would be preferable over a list.\n",
        " - A tuple would be preferable when we need to store a fixed collection of values that shouldn't change, like the employees ID, password, Aadhar number etc. Since tuples are immutable, they provide data integrity and prevent accidental modification.\n",
        "\n",
        "Q.13 How do sets handle duplicate values in Python?\n",
        " - Sets automatically remove duplicate values. If we try to add a duplicate element to a set, it will not be included.\n",
        "\n",
        "Q.14 How does the “in” keyword work differently for lists and dictionaries?\n",
        " - Lists: The (in) keyword checks if a value exists in the list (searches for the value).\n",
        " - Dictionaries: The (in) keyword checks if a key exists in the dictionary (not the value).\n",
        "\n",
        "Q.15 Can you modify the elements of a tuple? Explain why or why not.\n",
        "- No, we cannot modify the elements of a tuple because tuples are immutable. Once a tuple is created, its elements cannot be changed, which ensures data integrity and prevents unintended modifications.\n",
        "\n",
        "Q.16 What is a nested dictionary, and give an example of its use case.\n",
        " - A nested dictionary is a dictionary where some of the values are themselves dictionaries. Example use case: Storing employee information where each employee has a dictionary of details.\n",
        "\n",
        "Q.17 Describe the time complexity of accessing elements in a dictionary.\n",
        " - Accessing elements in a dictionary has an average time complexity of O(1). This is due to the underlying hash table, which allows for direct access to values based on their keys. However, in rare cases of hash collisions, the time complexity can degrade to O(n).\n",
        "\n",
        "Q.18  In what situations are lists preferred over dictionaries?\n",
        " - Ordered Data: Lists are preferred when the order of elements matters or when we need to access elements by position (index).\n",
        " - Simple Collection: If you simply need a collection of items without needing key-value pairs or fast lookups, lists are simpler and more appropriate.\n",
        " - Iterating in Sequence: Lists are ideal for scenarios where you need to iterate over all elements in a specific order.\n",
        "\n",
        "Q19. Why are dictionaries considered unordered, and how does that affect data retrieval?\n",
        "\n",
        " - Dictionaries are considered unordered because they store key-value pairs using a hash table, where the order of keys is not guaranteed.\n",
        "\n",
        " - Impact on Data Retrieval: This means that when you iterate over a dictionary, the order of elements may not be the same as when they were added. However, this doesn't affect the ability to retrieve data by key, as access to values is still O(1) on average.\n",
        "\n",
        "Q.20 Explain the difference between a list and a dictionary in terms of data retrieval.\n",
        "\n",
        " - List: Data retrieval in a list is done by index (position), and it requires O(1) time for accessing an element if you know its index.\n",
        " - Dictionary: Data retrieval in a dictionary is done by key, and it is typically O(1) for average cases due to the hash table. However, dictionaries are optimized for retrieving values using keys, not indices.\n",
        "\n",
        "\n"
      ],
      "metadata": {
        "id": "fnyg60kUoDmR"
      }
    },
    {
      "cell_type": "markdown",
      "source": [
        "# practical questions"
      ],
      "metadata": {
        "id": "tkR_xH1D3xpJ"
      }
    },
    {
      "cell_type": "code",
      "source": [
        "# Q.1 Write a code to create a string with your name and print it\n",
        "a = \"Divya saini\"\n",
        "print(a)"
      ],
      "metadata": {
        "colab": {
          "base_uri": "https://localhost:8080/"
        },
        "id": "d1MFySP8tjke",
        "outputId": "52be1422-d326-4887-ab44-31929b9c5673"
      },
      "execution_count": 2,
      "outputs": [
        {
          "output_type": "stream",
          "name": "stdout",
          "text": [
            "Divya saini\n"
          ]
        }
      ]
    },
    {
      "cell_type": "code",
      "source": [
        "# Q.2 Write a code to find the length of the string \"Hello World\"\n",
        "a = \"Hello World\"\n",
        "len(a)"
      ],
      "metadata": {
        "colab": {
          "base_uri": "https://localhost:8080/"
        },
        "id": "QSJzwKcutxms",
        "outputId": "724d47de-f1b3-44b0-eb10-bf3afa9ff16f"
      },
      "execution_count": 4,
      "outputs": [
        {
          "output_type": "execute_result",
          "data": {
            "text/plain": [
              "11"
            ]
          },
          "metadata": {},
          "execution_count": 4
        }
      ]
    },
    {
      "cell_type": "code",
      "source": [
        "# Q.3 Write a code to slice the first 3 characters from the string \"Python Programming\n",
        "b= \"Python Programming\"\n",
        "b[0:3]"
      ],
      "metadata": {
        "colab": {
          "base_uri": "https://localhost:8080/",
          "height": 35
        },
        "id": "ih18NwNCuBVa",
        "outputId": "019e5e16-a61e-4e2a-d241-8f39f8de8b9a"
      },
      "execution_count": 6,
      "outputs": [
        {
          "output_type": "execute_result",
          "data": {
            "text/plain": [
              "'Pyt'"
            ],
            "application/vnd.google.colaboratory.intrinsic+json": {
              "type": "string"
            }
          },
          "metadata": {},
          "execution_count": 6
        }
      ]
    },
    {
      "cell_type": "code",
      "source": [
        "# Q.4 Write a code to convert the string \"hello\" to uppercase\n",
        "x = \"hello\"\n",
        "x.upper()"
      ],
      "metadata": {
        "colab": {
          "base_uri": "https://localhost:8080/",
          "height": 35
        },
        "id": "wcgyfJshuW1l",
        "outputId": "a5050768-8c5f-46fb-9d03-c5cff4925a21"
      },
      "execution_count": 8,
      "outputs": [
        {
          "output_type": "execute_result",
          "data": {
            "text/plain": [
              "'HELLO'"
            ],
            "application/vnd.google.colaboratory.intrinsic+json": {
              "type": "string"
            }
          },
          "metadata": {},
          "execution_count": 8
        }
      ]
    },
    {
      "cell_type": "code",
      "source": [
        "# Q.5 Write a code to replace the word \"apple\" with \"orange\" in the string \"I like apple\"\n",
        "text = \"I like apple\"\n",
        "text.replace(\"apple\", \"orange\")"
      ],
      "metadata": {
        "colab": {
          "base_uri": "https://localhost:8080/",
          "height": 35
        },
        "id": "SZn5kRasu4Pc",
        "outputId": "1e5f01ed-71d6-42ce-f2e5-ca86faf082e0"
      },
      "execution_count": 9,
      "outputs": [
        {
          "output_type": "execute_result",
          "data": {
            "text/plain": [
              "'I like orange'"
            ],
            "application/vnd.google.colaboratory.intrinsic+json": {
              "type": "string"
            }
          },
          "metadata": {},
          "execution_count": 9
        }
      ]
    },
    {
      "cell_type": "code",
      "source": [
        "# Q.6 Write a code to create a list with numbers 1 to 5 and print it\n",
        "a = list(range(0,6))\n",
        "print(a)\n"
      ],
      "metadata": {
        "colab": {
          "base_uri": "https://localhost:8080/"
        },
        "id": "1zU_yJndvz9L",
        "outputId": "34f9de39-975c-413d-b634-adc9d4b3b82a"
      },
      "execution_count": 12,
      "outputs": [
        {
          "output_type": "stream",
          "name": "stdout",
          "text": [
            "[0, 1, 2, 3, 4, 5]\n"
          ]
        }
      ]
    },
    {
      "cell_type": "code",
      "source": [
        "# Q.7 Write a code to append the number 10 to the list [1, 2, 3, 4]\n",
        "list = [1,2,3,4]\n",
        "list.append(10)\n",
        "print(list)"
      ],
      "metadata": {
        "colab": {
          "base_uri": "https://localhost:8080/"
        },
        "id": "_PVVpDG5wE5E",
        "outputId": "95e56ea0-92af-4b23-d37f-8c473aaaf7c5"
      },
      "execution_count": 14,
      "outputs": [
        {
          "output_type": "stream",
          "name": "stdout",
          "text": [
            "[1, 2, 3, 4, 10]\n"
          ]
        }
      ]
    },
    {
      "cell_type": "code",
      "source": [
        "# Q.8 Write a code to remove the number 3 from the list [1, 2, 3, 4, 5]\n",
        "list = [1,2,3,4,5]\n",
        "list.remove(3)\n",
        "print(list)"
      ],
      "metadata": {
        "colab": {
          "base_uri": "https://localhost:8080/"
        },
        "id": "SRzrCepbwurs",
        "outputId": "537adf2e-d5c2-46d9-fd96-38aece92e728"
      },
      "execution_count": 15,
      "outputs": [
        {
          "output_type": "stream",
          "name": "stdout",
          "text": [
            "[1, 2, 4, 5]\n"
          ]
        }
      ]
    },
    {
      "cell_type": "code",
      "source": [
        "# Q.9 Write a code to access the second element in the list ['a', 'b', 'c', 'd']\n",
        "a = ['a', 'b', 'c', 'd']\n",
        "a[1]"
      ],
      "metadata": {
        "colab": {
          "base_uri": "https://localhost:8080/",
          "height": 35
        },
        "id": "7BbmRo06xBLM",
        "outputId": "5323e8b2-0130-4530-f6fc-ffe545aac112"
      },
      "execution_count": 16,
      "outputs": [
        {
          "output_type": "execute_result",
          "data": {
            "text/plain": [
              "'b'"
            ],
            "application/vnd.google.colaboratory.intrinsic+json": {
              "type": "string"
            }
          },
          "metadata": {},
          "execution_count": 16
        }
      ]
    },
    {
      "cell_type": "code",
      "source": [
        "# Q.10 Write a code to reverse the list [10, 20, 30, 40, 50].\n",
        "list = [10, 20, 30, 40, 50]\n",
        "list[::-1]"
      ],
      "metadata": {
        "colab": {
          "base_uri": "https://localhost:8080/"
        },
        "id": "VUveoFluxOyE",
        "outputId": "925fd4a3-e61a-4c48-d920-fc75e2b68e71"
      },
      "execution_count": 19,
      "outputs": [
        {
          "output_type": "execute_result",
          "data": {
            "text/plain": [
              "[50, 40, 30, 20, 10]"
            ]
          },
          "metadata": {},
          "execution_count": 19
        }
      ]
    },
    {
      "cell_type": "code",
      "source": [
        "# Or\n",
        "list = [10, 20, 30, 40, 50]\n",
        "list.reverse()\n",
        "print(list)"
      ],
      "metadata": {
        "colab": {
          "base_uri": "https://localhost:8080/"
        },
        "id": "8ygo0cgTxmtM",
        "outputId": "1559ae44-16e6-46f6-bd93-c38106c2898f"
      },
      "execution_count": 20,
      "outputs": [
        {
          "output_type": "stream",
          "name": "stdout",
          "text": [
            "[50, 40, 30, 20, 10]\n"
          ]
        }
      ]
    },
    {
      "cell_type": "code",
      "source": [
        "# Q.11  Write a code to create a tuple with the elements 10, 20, 30 and print it\n",
        "a= (10,20,30,)\n",
        "print(a)"
      ],
      "metadata": {
        "colab": {
          "base_uri": "https://localhost:8080/"
        },
        "id": "sSN8XMcyx6L1",
        "outputId": "8ae313d1-f346-440e-9268-3f735403841d"
      },
      "execution_count": 22,
      "outputs": [
        {
          "output_type": "stream",
          "name": "stdout",
          "text": [
            "(10, 20, 30)\n"
          ]
        }
      ]
    },
    {
      "cell_type": "code",
      "source": [
        "type(a)"
      ],
      "metadata": {
        "colab": {
          "base_uri": "https://localhost:8080/"
        },
        "id": "7c5Oje7-yJl5",
        "outputId": "14062cd7-f88b-481f-cc9d-bedc9cdb1b5a"
      },
      "execution_count": 23,
      "outputs": [
        {
          "output_type": "execute_result",
          "data": {
            "text/plain": [
              "tuple"
            ]
          },
          "metadata": {},
          "execution_count": 23
        }
      ]
    },
    {
      "cell_type": "code",
      "source": [
        "# Q.12  Write a code to access the first element of the tuple ('apple', 'banana', 'cherry').\n",
        "x = ('apple','banana','cherry')\n",
        "x[0]"
      ],
      "metadata": {
        "colab": {
          "base_uri": "https://localhost:8080/",
          "height": 35
        },
        "id": "Cgd365wbyOvs",
        "outputId": "699dc9e1-36d8-4a3e-a06b-479a1b71b019"
      },
      "execution_count": 24,
      "outputs": [
        {
          "output_type": "execute_result",
          "data": {
            "text/plain": [
              "'apple'"
            ],
            "application/vnd.google.colaboratory.intrinsic+json": {
              "type": "string"
            }
          },
          "metadata": {},
          "execution_count": 24
        }
      ]
    },
    {
      "cell_type": "code",
      "source": [
        "# Q.13 Write a code to count how many times the number 2 appears in the tuple (1, 2, 3, 2, 4, 2).\n",
        "a =(1,2,3,2,4,2)\n",
        "a.count(2)"
      ],
      "metadata": {
        "colab": {
          "base_uri": "https://localhost:8080/"
        },
        "id": "9XkXb599yhiX",
        "outputId": "54e34119-ba9f-488d-e30d-d06a0c64aec5"
      },
      "execution_count": 26,
      "outputs": [
        {
          "output_type": "execute_result",
          "data": {
            "text/plain": [
              "3"
            ]
          },
          "metadata": {},
          "execution_count": 26
        }
      ]
    },
    {
      "cell_type": "code",
      "source": [
        "# Q.14 Write a code to find the index of the element \"cat\" in the tuple ('dog', 'cat', 'rabbit').\n",
        "a = ('dog', 'cat', 'rabbit')\n",
        "a.index('cat')"
      ],
      "metadata": {
        "colab": {
          "base_uri": "https://localhost:8080/"
        },
        "id": "XoeJgeRsyxRl",
        "outputId": "6d444410-6077-4b93-8501-d8faeed7cb0a"
      },
      "execution_count": 27,
      "outputs": [
        {
          "output_type": "execute_result",
          "data": {
            "text/plain": [
              "1"
            ]
          },
          "metadata": {},
          "execution_count": 27
        }
      ]
    },
    {
      "cell_type": "code",
      "source": [
        "# Q.15 Write a code to check if the element \"banana\" is in the tuple ('apple', 'orange', 'banana').\n",
        "a = ('apple', 'orange', 'banana')\n",
        "a"
      ],
      "metadata": {
        "colab": {
          "base_uri": "https://localhost:8080/"
        },
        "id": "Td7ojeTn0fk6",
        "outputId": "cae75ee7-bb31-4592-d930-7e83e53dbab3"
      },
      "execution_count": 34,
      "outputs": [
        {
          "output_type": "execute_result",
          "data": {
            "text/plain": [
              "('apple', 'orange', 'banana')"
            ]
          },
          "metadata": {},
          "execution_count": 34
        }
      ]
    },
    {
      "cell_type": "code",
      "source": [
        "'banana' in a"
      ],
      "metadata": {
        "colab": {
          "base_uri": "https://localhost:8080/"
        },
        "id": "BYkkuuq_086j",
        "outputId": "0aa227ac-eabf-466f-bdca-d6bd2f72716a"
      },
      "execution_count": 35,
      "outputs": [
        {
          "output_type": "execute_result",
          "data": {
            "text/plain": [
              "True"
            ]
          },
          "metadata": {},
          "execution_count": 35
        }
      ]
    },
    {
      "cell_type": "code",
      "source": [
        "# Q.16 Write a code to create a set with the elements 1, 2, 3, 4, 5 and print it.\n",
        "b = {1,2,3,4,5}\n",
        "print(b)\n"
      ],
      "metadata": {
        "colab": {
          "base_uri": "https://localhost:8080/"
        },
        "id": "TAxSyi8x1AGL",
        "outputId": "a1423f45-fd7a-4904-c0e6-bac418a36a22"
      },
      "execution_count": 36,
      "outputs": [
        {
          "output_type": "stream",
          "name": "stdout",
          "text": [
            "{1, 2, 3, 4, 5}\n"
          ]
        }
      ]
    },
    {
      "cell_type": "code",
      "source": [
        "type(b)"
      ],
      "metadata": {
        "colab": {
          "base_uri": "https://localhost:8080/"
        },
        "id": "BYJSs_sf1OIM",
        "outputId": "a98a1d44-ad64-43df-93b7-f595057259c4"
      },
      "execution_count": 38,
      "outputs": [
        {
          "output_type": "execute_result",
          "data": {
            "text/plain": [
              "set"
            ]
          },
          "metadata": {},
          "execution_count": 38
        }
      ]
    },
    {
      "cell_type": "code",
      "source": [
        "# Q.17 Write a code to add the element 6 to the set {1, 2, 3, 4}\n",
        "b = {1,2,3,4}\n",
        "b.add(6)\n",
        "print(b)"
      ],
      "metadata": {
        "colab": {
          "base_uri": "https://localhost:8080/"
        },
        "id": "yAodsMvR1QxS",
        "outputId": "6fc5ab60-41b2-4cf1-cf1f-6f26d29e98f2"
      },
      "execution_count": 41,
      "outputs": [
        {
          "output_type": "stream",
          "name": "stdout",
          "text": [
            "{1, 2, 3, 4, 6}\n"
          ]
        }
      ]
    },
    {
      "cell_type": "code",
      "source": [
        "# Q.18 Write a code to create a tuple with the elements 10, 20, 30 and print it\n",
        "a = (10,20,30)\n",
        "print(a)"
      ],
      "metadata": {
        "colab": {
          "base_uri": "https://localhost:8080/"
        },
        "id": "oQWqxVzf1eP6",
        "outputId": "94357145-b8af-4c66-99eb-b4cac34d6afd"
      },
      "execution_count": 42,
      "outputs": [
        {
          "output_type": "stream",
          "name": "stdout",
          "text": [
            "(10, 20, 30)\n"
          ]
        }
      ]
    },
    {
      "cell_type": "code",
      "source": [
        "# Q.19  Write a code to access the first element of the tuple ('apple', 'banana', 'cherry').\n",
        "a = ('apple', 'banana', 'cherry')\n",
        "a[0]\n"
      ],
      "metadata": {
        "colab": {
          "base_uri": "https://localhost:8080/",
          "height": 35
        },
        "id": "-3w40eq217vj",
        "outputId": "05895643-d90f-4a38-fd69-156a1d654f55"
      },
      "execution_count": 43,
      "outputs": [
        {
          "output_type": "execute_result",
          "data": {
            "text/plain": [
              "'apple'"
            ],
            "application/vnd.google.colaboratory.intrinsic+json": {
              "type": "string"
            }
          },
          "metadata": {},
          "execution_count": 43
        }
      ]
    },
    {
      "cell_type": "code",
      "source": [
        "# Q.20 . Write a code to count how many times the number 2 appears in the tuple (1, 2, 3, 2, 4, 2).\n",
        "a =(1,2,3,2,4,2)\n",
        "a.count(2)"
      ],
      "metadata": {
        "colab": {
          "base_uri": "https://localhost:8080/"
        },
        "id": "OzsPTnJp2GoE",
        "outputId": "4602e5a7-da4e-4b41-8b33-6ddcae7c52c2"
      },
      "execution_count": 44,
      "outputs": [
        {
          "output_type": "execute_result",
          "data": {
            "text/plain": [
              "3"
            ]
          },
          "metadata": {},
          "execution_count": 44
        }
      ]
    },
    {
      "cell_type": "code",
      "source": [
        "# Q.21 Write a code to find the index of the element \"cat\" in the tuple ('dog', 'cat', 'rabbit').\n",
        "a = ('dog', 'cat', 'rabbit')\n",
        "a.index('cat')"
      ],
      "metadata": {
        "colab": {
          "base_uri": "https://localhost:8080/"
        },
        "id": "_qT1m-GI2gF2",
        "outputId": "fcb962c5-59e5-41ef-f6c6-0a25cf56c024"
      },
      "execution_count": 45,
      "outputs": [
        {
          "output_type": "execute_result",
          "data": {
            "text/plain": [
              "1"
            ]
          },
          "metadata": {},
          "execution_count": 45
        }
      ]
    },
    {
      "cell_type": "code",
      "source": [
        "# Q.22 Write a code to check if the element \"banana\" is in the tuple ('apple', 'orange', 'banana').\n",
        "a = ('apple', 'orange', 'banana')\n",
        "a"
      ],
      "metadata": {
        "colab": {
          "base_uri": "https://localhost:8080/"
        },
        "id": "zfZ9XI6F2ouO",
        "outputId": "b6b83055-b95f-4b7e-f030-9087c05a6da4"
      },
      "execution_count": 46,
      "outputs": [
        {
          "output_type": "execute_result",
          "data": {
            "text/plain": [
              "('apple', 'orange', 'banana')"
            ]
          },
          "metadata": {},
          "execution_count": 46
        }
      ]
    },
    {
      "cell_type": "code",
      "source": [
        "'banana' in a"
      ],
      "metadata": {
        "colab": {
          "base_uri": "https://localhost:8080/"
        },
        "id": "CdX8pKiM2wUC",
        "outputId": "c7ad528a-e81d-4448-ec77-23793eea3d37"
      },
      "execution_count": 47,
      "outputs": [
        {
          "output_type": "execute_result",
          "data": {
            "text/plain": [
              "True"
            ]
          },
          "metadata": {},
          "execution_count": 47
        }
      ]
    },
    {
      "cell_type": "code",
      "source": [
        "# Q.23 Write a code to create a set with the elements 1, 2, 3, 4, 5 and print it.\n",
        "b = {1,2,3,4,5}\n",
        "print(b)\n"
      ],
      "metadata": {
        "colab": {
          "base_uri": "https://localhost:8080/"
        },
        "id": "Wzsxmh1Z25Pw",
        "outputId": "dbe2bf25-7402-4036-d800-193383f58f6b"
      },
      "execution_count": 48,
      "outputs": [
        {
          "output_type": "stream",
          "name": "stdout",
          "text": [
            "{1, 2, 3, 4, 5}\n"
          ]
        }
      ]
    },
    {
      "cell_type": "code",
      "source": [
        "# Q.24  Write a code to add the element 6 to the set {1, 2, 3, 4}\n",
        "b = {1,2,3,4}\n",
        "b.add(6)\n",
        "print(b)"
      ],
      "metadata": {
        "colab": {
          "base_uri": "https://localhost:8080/"
        },
        "id": "daGwqHDj2_OD",
        "outputId": "cc39751d-a1aa-4c91-9403-b1408d70ee67"
      },
      "execution_count": 49,
      "outputs": [
        {
          "output_type": "stream",
          "name": "stdout",
          "text": [
            "{1, 2, 3, 4, 6}\n"
          ]
        }
      ]
    },
    {
      "cell_type": "markdown",
      "source": [
        "# Thank You"
      ],
      "metadata": {
        "id": "qP-W2Eu93KWv"
      }
    },
    {
      "cell_type": "code",
      "source": [],
      "metadata": {
        "id": "OWsdHgBz3HOG"
      },
      "execution_count": null,
      "outputs": []
    }
  ]
}