{
 "cells": [
  {
   "cell_type": "code",
   "execution_count": 1,
   "metadata": {},
   "outputs": [],
   "source": [
    "#meta: Common data structures in Python\n",
    "#9/19/2018\n",
    "\n",
    "\n",
    "### Python list -> stack and queue\n",
    "### Python dict"
   ]
  },
  {
   "cell_type": "markdown",
   "metadata": {},
   "source": [
    "## Data Structures\n",
    "src: John Keyser  \n",
    "the ways to organize data so it can be used more efficiently  \n",
    "\n",
    "Classes and objects are great at tying together diff types of data, but OO design is focused more on bundling diff types of data togethe.  Data strctures are focused on how to organize large amounts of the same type of data.\n",
    "\n",
    "Data structs provide an organization that lets us perform operations more effectively.  \n",
    "- Linear, sequential (using list) \n",
    "Stacks  \n",
    "Queue  \n",
    " \n",
    "- Non-linear, non-sequential (using hash tables) \n",
    "Dictionaries  \n",
    "Sets  \n",
    "\n",
    "i.e. the data would be better organized around memberships, or geographic location, or a bunch of special-purpose keys associated with each object.  \n",
    "\n",
    "Many methods for org large amounts of data. Army – hierarchical structure, great for ensuring orders get followed.  but not a great way for coming up with great ideas.  In other words, organization affects operations.  \n",
    "\n",
    "\n",
    "### 0. Python List\n",
    "List has an order – is linear – and lets us string many distinct things together in sequence (so it's sequential)."
   ]
  },
  {
   "cell_type": "code",
   "execution_count": 2,
   "metadata": {},
   "outputs": [
    {
     "name": "stdout",
     "output_type": "stream",
     "text": [
      "['figure skating', 'skiing', 'yoga', 'tango', 'slack line', 'water skiing']\n",
      "my latest hobby:  water skiing\n",
      "my first love:  figure skating\n",
      "my hobbies before 2018:  ['figure skating', 'skiing', 'yoga', 'tango', 'slack line']\n"
     ]
    }
   ],
   "source": [
    "#List has an order – is linear – and lets us string many distinct things together in sequence (so it's sequential).\n",
    "my_list = []\n",
    "my_list.append('figure skating')\n",
    "my_list.append('skiing')\n",
    "my_list.append('yoga')\n",
    "my_list.append('tango')\n",
    "my_list.append('slack line')\n",
    "my_list.append('water skiing')\n",
    "\n",
    "print (my_list)\n",
    "\n",
    "my_latest_hobby = my_list.pop()\n",
    "print ('my latest hobby: ', my_latest_hobby)\n",
    "\n",
    "my_first_love = my_list[0]\n",
    "print ('my first love: ', my_first_love)\n",
    "\n",
    "print ('my hobbies before 2018: ', my_list)"
   ]
  },
  {
   "cell_type": "code",
   "execution_count": 3,
   "metadata": {},
   "outputs": [
    {
     "name": "stdout",
     "output_type": "stream",
     "text": [
      "['figure skating', 'skiing', 'yoga', 'tango', 'slack line']\n"
     ]
    }
   ],
   "source": [
    "#iterate over lists\n",
    "a = [i for i in my_list]\n",
    "print(a)"
   ]
  },
  {
   "cell_type": "code",
   "execution_count": 4,
   "metadata": {},
   "outputs": [
    {
     "data": {
      "text/plain": [
       "True"
      ]
     },
     "execution_count": 4,
     "metadata": {},
     "output_type": "execute_result"
    }
   ],
   "source": [
    "#check in list\n",
    "'figure skating' in my_list"
   ]
  },
  {
   "cell_type": "markdown",
   "metadata": {},
   "source": [
    "### 1a. Stack with Py List\n",
    "\n",
    "Represented using a list.  \n",
    "LIFO  \n",
    "Stack - push and pop operations  \n",
    "Pop command can take a param, indicating which element gets taken off the list.  default param is the final element.\n"
   ]
  },
  {
   "cell_type": "code",
   "execution_count": 5,
   "metadata": {},
   "outputs": [],
   "source": [
    "#create class Book\n",
    "class Book:\n",
    "    _title=''\n",
    "    _author=''\n",
    "\n",
    "my_books=[]\n",
    "\n",
    "#create specific books that i read\n",
    "long_book = Book()\n",
    "long_book._title='War and Peace'\n",
    "long_book._author='Lev Tolstoy'\n",
    "med_book = Book()\n",
    "med_book._title='the Great Gatsby'\n",
    "med_book._author='F. Scott Fitzgerald'\n",
    "short_book = Book()\n",
    "short_book._title='Flatland'\n",
    "short_book._author='Edwin Abbott'\n",
    "short_book2 = Book()\n",
    "short_book2._title='7 Brief Lessons in Physics'\n",
    "short_book2._author='Carlo Rovelli'\n",
    "\n",
    "my_books.append(med_book)\n",
    "my_books.append(long_book)\n",
    "my_books.append(short_book)\n",
    "my_books.append(short_book2)"
   ]
  },
  {
   "cell_type": "code",
   "execution_count": 6,
   "metadata": {},
   "outputs": [
    {
     "name": "stdout",
     "output_type": "stream",
     "text": [
      "7 Brief Lessons in Physics by Carlo Rovelli\n"
     ]
    }
   ],
   "source": [
    "#in memory, this set of books is treated as a list, whith books listed in order.\n",
    "#conceptially, visualize as a stack.\n",
    "#pop the top book off of the stack.\n",
    "#lists have a built-in method named 'pop', which removes the last item from a list and returns it.\n",
    "next_book = my_books.pop()\n",
    "print (next_book._title + \" by \" + next_book._author)"
   ]
  },
  {
   "cell_type": "code",
   "execution_count": 7,
   "metadata": {},
   "outputs": [],
   "source": [
    "# create a separate Stack class, with push and pop operations\n",
    "class Stack():\n",
    "    _stack = []\n",
    "    \n",
    "    def push(self, item):\n",
    "        self._stack.append(item)\n",
    "\n",
    "    def pop(self):\n",
    "        return self._stack.pop()       "
   ]
  },
  {
   "cell_type": "code",
   "execution_count": 8,
   "metadata": {},
   "outputs": [
    {
     "name": "stdout",
     "output_type": "stream",
     "text": [
      "War and Peace\n"
     ]
    }
   ],
   "source": [
    "# using Stack class \n",
    "my_fav_books = Stack()\n",
    "my_fav_books.push(short_book2)\n",
    "my_fav_books.push(med_book)\n",
    "my_fav_books.push(short_book)\n",
    "my_fav_books.push(long_book)\n",
    "\n",
    "my_fav_book = my_fav_books.pop()\n",
    "print (my_fav_book._title)"
   ]
  },
  {
   "cell_type": "markdown",
   "metadata": {},
   "source": [
    "### 1b. Queue with Py List\n",
    "\n",
    "Represented using a list.  \n",
    "The opposite of stack -> FIFO.  (note: under the hood order of queue is same as list order)\n",
    "\n",
    "Stack - enqueue and dequeue operations  \n",
    "Can push new objects onto the end of the list using the append command.  \n",
    "Instead of popping from the end of the list, an element is taken off the front. To take off the first element, we pass in 0 and the 1st element is removed.   "
   ]
  },
  {
   "cell_type": "code",
   "execution_count": 9,
   "metadata": {},
   "outputs": [],
   "source": [
    "# create a separate Queue class, with enqueue and dequeue operations\n",
    "class Queue():\n",
    "    _queue = []\n",
    "    \n",
    "    def enqueue(self, item):\n",
    "        self._queue.append(item)\n",
    "\n",
    "    def dequeue(self):\n",
    "        return self._queue.pop(0)   \n",
    "    \n",
    "    def isEmpty(self):\n",
    "        return len(self._queue)==0"
   ]
  },
  {
   "cell_type": "code",
   "execution_count": 10,
   "metadata": {},
   "outputs": [
    {
     "name": "stdout",
     "output_type": "stream",
     "text": [
      "uniform\n",
      "False\n"
     ]
    }
   ],
   "source": [
    "# using Queue class \n",
    "my_stats = Queue()\n",
    "my_stats.enqueue('uniform')\n",
    "my_stats.enqueue('binomial')\n",
    "my_stats.enqueue('normal')\n",
    "my_stats.enqueue('poisson')\n",
    "\n",
    "my_next_stats = my_stats.dequeue()\n",
    "print (my_next_stats)\n",
    "print(my_stats.isEmpty())"
   ]
  },
  {
   "cell_type": "markdown",
   "metadata": {},
   "source": [
    "### 0. Python Dictionary\n",
    "$actodo"
   ]
  },
  {
   "cell_type": "markdown",
   "metadata": {},
   "source": [
    " \n",
    "### 2a. Dictionaries by Using a Hash Table. \n",
    "\n",
    "Another useful data struct is called a hash table which works by mapping large data values into a smaller set of indices.   \n",
    "I.e. storing phone number of 100 friends, by using just last 2 digits \n",
    "\n",
    "Much  more compact representations. \n",
    "What if 2 people have a number ending with the same last 2 digits? End up in the same position – use chain, list of everyone in that slot. \n",
    "\n",
    "Another way to identify people not by a number.  I.e. look up people by their nickname.   \n",
    "Need some way of converitng the nickname into a number.   \n",
    "Hash function – to convert a key phrase into a number that can be used to index into an array (list).  \n",
    " \n",
    "Fortunately Python implements a hash table for us, called Dictionary dict().  \n",
    "Compared to the alphabetical list of a traditional dictionary in a book, it's designed to be more efficient.   \n",
    "\n",
    "Other names – map, symbol table, associative array, key value pair\n",
    "\n",
    "\n",
    "Putting something into a dict requries 2 parts: a key and a value:\n",
    "- key - any immutable data type (no list or object)\n",
    "- value - can be mutable or immutable"
   ]
  },
  {
   "cell_type": "code",
   "execution_count": 11,
   "metadata": {},
   "outputs": [
    {
     "data": {
      "text/plain": [
       "'anechka'"
      ]
     },
     "execution_count": 11,
     "metadata": {},
     "output_type": "execute_result"
    }
   ],
   "source": [
    "my_names={'all':'anya','mom':'anechka','friends':'ankin', 'some':'anuta', 'other':'anutka'}\n",
    "#access with an index which is not a numerical value, but key\n",
    "my_names['mom']"
   ]
  },
  {
   "cell_type": "code",
   "execution_count": 12,
   "metadata": {},
   "outputs": [
    {
     "name": "stdout",
     "output_type": "stream",
     "text": [
      "beta\n"
     ]
    }
   ],
   "source": [
    "#can build up in a different way, begin with an empty dict and assign elements one by one\n",
    "greek_letters={}\n",
    "greek_letters['a']='alpha'\n",
    "greek_letters['b']='beta'\n",
    "greek_letters['g']='gamma'\n",
    "greek_letters['d']='delta'\n",
    "greek_letters['e']='epsilon'\n",
    "print(greek_letters['b'])"
   ]
  },
  {
   "cell_type": "code",
   "execution_count": 13,
   "metadata": {},
   "outputs": [
    {
     "name": "stdout",
     "output_type": "stream",
     "text": [
      "True\n",
      "False\n"
     ]
    }
   ],
   "source": [
    "#to delete an item\n",
    "del greek_letters['e']\n",
    "#to check whether or not a key is in dict\n",
    "print ('b' in greek_letters)\n",
    "print ('e' in greek_letters)"
   ]
  },
  {
   "cell_type": "code",
   "execution_count": 14,
   "metadata": {},
   "outputs": [
    {
     "name": "stdout",
     "output_type": "stream",
     "text": [
      "the letter for alpha is a\n",
      "the letter for beta is b\n",
      "the letter for gamma is g\n",
      "the letter for delta is d\n"
     ]
    }
   ],
   "source": [
    "#loop\n",
    "for letter in greek_letters:\n",
    "    print(\"the letter for \"+greek_letters[letter]+\" is \"+letter)\n",
    "#may not be in the same order as put in\n",
    "#underneath is a hash table, and order based on the values that the keys were hashed to.\n",
    "#that specific information is hidden but we see the effects.\n"
   ]
  },
  {
   "cell_type": "markdown",
   "metadata": {},
   "source": [
    "### 2b. Sets with Hash Tables\n",
    "A diff way that hash tables can be used is accessible with another built-in Python data struct: the set.  \n",
    "A set is a collection of items stored using a hash table instead of a list \n",
    "so that it does mathematical set operations and checks set membership very quickly. \n",
    "\n",
    "in contrast to dict, no kv pairs, just individual value items"
   ]
  },
  {
   "cell_type": "code",
   "execution_count": 15,
   "metadata": {},
   "outputs": [
    {
     "name": "stdout",
     "output_type": "stream",
     "text": [
      "yes\n"
     ]
    }
   ],
   "source": [
    "ingredients = {'flour','suger','eggs','milk'}\n",
    "if 'flour' in ingredients:\n",
    "    print('yes')\n",
    "else:\n",
    "    print('no')"
   ]
  },
  {
   "cell_type": "code",
   "execution_count": 16,
   "metadata": {},
   "outputs": [
    {
     "name": "stdout",
     "output_type": "stream",
     "text": [
      "yes\n"
     ]
    }
   ],
   "source": [
    "#can do the same with set command - takes a list as a param\n",
    "#big advantage - set command allows to create an empty set\n",
    "ingredients_set = set(['flour','sugar','eggs','milk'])\n",
    "if 'flour' in ingredients_set:\n",
    "    print('yes')\n",
    "else:\n",
    "    print('no')\n"
   ]
  },
  {
   "cell_type": "code",
   "execution_count": 17,
   "metadata": {},
   "outputs": [
    {
     "name": "stdout",
     "output_type": "stream",
     "text": [
      "{'eggs', 'milk', 'flour', 'sugar'}\n",
      "{'milk', 'flour', 'eggs', 'sugar', 'baking soda'}\n",
      "{'flour', 'eggs', 'sugar', 'baking soda'}\n"
     ]
    }
   ],
   "source": [
    "#Add – to add a new element to a set\n",
    "#Remove - to remove an element from the set\n",
    "print(ingredients_set)\n",
    "ingredients_set.add('baking soda')\n",
    "print(ingredients_set)\n",
    "ingredients_set.remove('milk')\n",
    "print(ingredients_set)"
   ]
  },
  {
   "cell_type": "markdown",
   "metadata": {},
   "source": [
    "Sets have some addl operations defined on them that can be very useful.\n",
    "#### i.e. primes and teens"
   ]
  },
  {
   "cell_type": "code",
   "execution_count": 18,
   "metadata": {},
   "outputs": [
    {
     "name": "stdout",
     "output_type": "stream",
     "text": [
      "diff : {2, 3, 37, 5, 7, 11, 23, 29, 31}\n",
      "union :  {2, 3, 5, 7, 11, 13, 14, 15, 16, 17, 18, 19, 23, 29, 31, 37}\n",
      "intersection :  {17, 19, 13}\n",
      "xor :  {2, 3, 5, 7, 11, 14, 15, 16, 18, 23, 29, 31, 37}\n"
     ]
    }
   ],
   "source": [
    "#Set supports all the standard set operations such as union and intersection. But diff notation.\n",
    "primes = set([2,3,5,7,11,13,17,19,23,29,31,37])\n",
    "teens = set([13,14,15,16,17,18,19])\n",
    "# minus - in one set but not the other\n",
    "print ('diff :', primes - teens)\n",
    "# logical or - in one set or the other\n",
    "print ('union : ',primes | teens)\n",
    "# and - in both sets\n",
    "print ('intersection : ',primes & teens)\n",
    "# exclusive or - in either set but not in both; aka union - intersection\n",
    "print ('xor : ',primes ^ teens)\n",
    "\n",
    "#another example - 3 dishes to make -> shopping list -> and list on hand"
   ]
  },
  {
   "cell_type": "markdown",
   "metadata": {},
   "source": [
    "### 1-2 Summary \n",
    "Data structs provide an organization that lets us perform operations more effectively.  \n",
    "- Linear, sequential (using list) \n",
    "Stacks and Queue \n",
    "- Non-linear, non-sequential (using hash tables) \n",
    "Dictionaries and Sets \n",
    "\n",
    "Just the beginning, in future lectures see a couple more: graphs and trees.  Hundreds are there used for specific operations.  \n",
    "Idea: speed up operations on that data \n"
   ]
  },
  {
   "cell_type": "code",
   "execution_count": null,
   "metadata": {},
   "outputs": [],
   "source": []
  }
 ],
 "metadata": {
  "kernelspec": {
   "display_name": "Python 3",
   "language": "python",
   "name": "python3"
  },
  "language_info": {
   "codemirror_mode": {
    "name": "ipython",
    "version": 3
   },
   "file_extension": ".py",
   "mimetype": "text/x-python",
   "name": "python",
   "nbconvert_exporter": "python",
   "pygments_lexer": "ipython3",
   "version": "3.8.3"
  }
 },
 "nbformat": 4,
 "nbformat_minor": 2
}
