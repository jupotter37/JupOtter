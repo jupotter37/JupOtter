{
  "nbformat": 4,
  "nbformat_minor": 0,
  "metadata": {
    "colab": {
      "provenance": []
    },
    "kernelspec": {
      "name": "python3",
      "display_name": "Python 3"
    },
    "language_info": {
      "name": "python"
    }
  },
  "cells": [
    {
      "cell_type": "markdown",
      "source": [
        "#1.What are data structures, and why are they important?\n",
        "\n",
        ">Data structure are way to organise and store data so that it can be accessed and modified efficiently.they are important because they provide a means to manage a large amount of data efficiently."
      ],
      "metadata": {
        "id": "KI1MXwEVxX8s"
      }
    },
    {
      "cell_type": "markdown",
      "source": [
        "#2.Explain the difference between mutable and immutable data types with examples.\n",
        "\n",
        ">Mutable data types can be changed after creation like list.\n",
        "\n",
        "    my_list = [1, 2, 3]\n",
        "    my_list[0] = 10  # my_list is now [10, 2, 3]\n",
        "\n",
        ">imutable data type can not be changed after it created like tuple.\n",
        "\n",
        "    my_tuple = (1, 2, 3)\n",
        "    my_tuple[0] = 10  # This will raise an error\n",
        "\n"
      ],
      "metadata": {
        "id": "aTM_4Xgwyt7J"
      }
    },
    {
      "cell_type": "markdown",
      "source": [
        "#3.What are the main differences between lists and tuples in Python?\n",
        "\n",
        ">Lists: It can be modified after creation so, list is mutable.\n",
        "\n",
        ">Tuples: It can not be modified after creation so, tuple is imutable.\n",
        "\n",
        "The main difference between list and tuples is list is mutable and tuples is imutable."
      ],
      "metadata": {
        "id": "bWim5z-V0IeC"
      }
    },
    {
      "cell_type": "markdown",
      "source": [
        "#4.Describe how dictionaries store data.\n",
        "\n",
        ">Dictionaries store data in key-value pairs. Each key is unique and maps to a value. They are implemented using hash tables."
      ],
      "metadata": {
        "id": "1j0RnzGS0kQT"
      }
    },
    {
      "cell_type": "markdown",
      "source": [
        "#5.Why might you use a set instead of a list in Python?\n",
        "\n",
        ">Sets are used when you need to store unique elements and perform operations like union, intersection, and difference efficiently. They do not allow duplicate values. list not allow these type of activites."
      ],
      "metadata": {
        "id": "pnVKgFmw2gXt"
      }
    },
    {
      "cell_type": "markdown",
      "source": [
        "#6.What is a string in Python, and how is it different from a list?\n",
        "\n",
        ">A string is a sequence of characters, while a list is a sequence of elements that can be of any type. Strings are immutable, whereas lists are mutable."
      ],
      "metadata": {
        "id": "cxPiTG0gAesQ"
      }
    },
    {
      "cell_type": "markdown",
      "source": [
        "#7.How do tuples ensure data integrity in Python.\n",
        "\n",
        ">Tuples are immutable, meaning their contents cannot be changed after creation. This ensures that the data remains constant and unaltered, providing data integrity.\n"
      ],
      "metadata": {
        "id": "_wAWORRaA1ul"
      }
    },
    {
      "cell_type": "markdown",
      "source": [
        "#8.What is a hash table, and how does it relate to dictionaries in Python?\n",
        "\n",
        ">A hash table is a data structure that maps keys to values using a hash function. In Python, dictionaries are implemented using hash tables, allowing for fast lookups, insertions, and deletions"
      ],
      "metadata": {
        "id": "_pSlEWCCCI6B"
      }
    },
    {
      "cell_type": "markdown",
      "source": [
        "#9.Can lists contain different data types in Python.\n",
        "\n",
        ">Yes, lists can contain elements of different data types.\n",
        "\n",
        "    my_list = [1, \"hello\", 3.14, [1, 2, 3]]\n"
      ],
      "metadata": {
        "id": "YqZNxE6UClWC"
      }
    },
    {
      "cell_type": "markdown",
      "source": [
        "#10.Explain why strings are immutable in Python.\n",
        "\n",
        ">Strings in Python are “immutable” which means they can not be changed after they are created.\n",
        "\n",
        ">The immutability of Python string is very useful as it helps in hashing, performance optimization, safety, ease of use, etc\n",
        "\n",
        ">Saves Memory: Since strings can’t be changed, Python can reuse the same string in different places, saving memory.\n",
        "\n",
        ">Keeps Things Fast: Strings are used as keys in dictionaries, and making them unchangeable keeps their lookup speed fast and reliable.\n",
        "\n",
        ">Safe for Multiple Tasks: Because strings can’t be changed, they’re safe to use in programs with many tasks running at the same time"
      ],
      "metadata": {
        "id": "jhTSNui_EVs6"
      }
    },
    {
      "cell_type": "markdown",
      "source": [
        "#11.What advantages do dictionaries offer over lists for certain tasks?\n",
        "\n",
        ">Dictionaries offer fast lookups, insertions, and deletions based on keys. They are ideal for tasks where you need to associate unique keys with values and retrieve data quickly"
      ],
      "metadata": {
        "id": "an24EzNRF0vw"
      }
    },
    {
      "cell_type": "markdown",
      "source": [
        "#12.Describe a scenario where using a tuple would be preferable over a list.\n",
        "\n",
        ">Use a tuple when you need a collection of items that should not change throughout the program.\n",
        "\n",
        "for ex:\n",
        "  Imagine you need to store the names of the days in a week. Since the days of the week are fixed and will never change (Monday will always be Monday, etc.).\n",
        "\n",
        "    # A tuple to store the days of the week\n",
        "    days_of_week = (\"Monday\", \"Tuesday\", \"Wednesday\", \"Thursday\", \"Friday\", \"Saturday\", \"Sunday\")\n",
        "\n",
        "    # Trying to change a day will cause an error\n",
        "    # days_of_week[0] = \"Mon\"  # This would raise an error because tuples can't be changed\n",
        ">But if you use list here it is chengable so, it not make sense to use list here.\n"
      ],
      "metadata": {
        "id": "2RABX6_oJ5hN"
      }
    },
    {
      "cell_type": "markdown",
      "source": [
        "#13.How do sets handle duplicate values in Python.\n",
        "\n",
        ">Sets automatically remove duplicate values. When you add elements to a set, any duplicates are discarded\n",
        "\n",
        "    my_set = {1, 2, 2, 3}\n",
        "    print(my_set)  # Output: {1, 2, 3}\n"
      ],
      "metadata": {
        "id": "10P9LherKqNT"
      }
    },
    {
      "cell_type": "markdown",
      "source": [
        "#14.How does the “in” keyword work differently for lists and dictionaries.\n",
        "\n",
        ">Lists: Checks if a value exists in the list.\n",
        "   \n",
        "    my_list = [1, 2, 3]\n",
        "    print(2 in my_list)  # Output: True\n",
        "\n",
        ">Dictionaries: Checks if a key exists in the dictionary\n",
        "    \n",
        "    my_dict = {\"a\": 1, \"b\": 2}\n",
        "    print(\"a\" in my_dict)  # Output: True\n"
      ],
      "metadata": {
        "id": "9qSyX6hSLb6R"
      }
    },
    {
      "cell_type": "markdown",
      "source": [
        "#15.Can you modify the elements of a tuple? Explain why or why not.\n",
        "\n",
        ">No, you cannot modify the elements of a tuple because tuples are immutable. Once created, their contents cannot be changed."
      ],
      "metadata": {
        "id": "tnaLmgQaM7wE"
      }
    },
    {
      "cell_type": "markdown",
      "source": [
        "#16.What is a nested dictionary, and give an example of its use case?\n",
        "\n",
        ">A nested dictionary is a dictionary within a dictionary. It is useful for storing complex data structures.\n",
        "\n",
        "    nested_dict = {\n",
        "    \"person1\": {\"name\": \"Alice\", \"age\": 30},\n",
        "    \"person2\": {\"name\": \"Bob\", \"age\": 25}\n",
        "    }\n"
      ],
      "metadata": {
        "id": "kNcLf9vjNPzW"
      }
    },
    {
      "cell_type": "markdown",
      "source": [
        "#17.Describe the time complexity of accessing elements in a dictionary?"
      ],
      "metadata": {
        "id": "51iOjlcwOAf-"
      }
    },
    {
      "cell_type": "markdown",
      "source": [
        "#18.In what situations are lists preferred over dictionaries.\n",
        "\n",
        ">Lists are preferred when you need an ordered collection of items and do not require fast lookups based on keys. They are also useful for iterating over elements in a specific order"
      ],
      "metadata": {
        "id": "EcQypayOOUH8"
      }
    },
    {
      "cell_type": "markdown",
      "source": [
        "#19.Why are dictionaries considered unordered, and how does that affect data retrieval?\n",
        "\n",
        ">Before Python 3.7, dictionaries did not guarantee the order of elements. This is why dictionaries were considered unordered in earlier versions of Python.\n",
        "\n",
        ">From Python 3.7 onward, dictionaries do maintain the insertion order, so when you iterate over a dictionary, the key-value pairs are retrieved in the same order in which they were inserted."
      ],
      "metadata": {
        "id": "nlFAeWlAO1-V"
      }
    },
    {
      "cell_type": "markdown",
      "source": [
        "#20.Explain the difference between a list and a dictionary in terms of data retrieval.\n",
        "\n",
        " >List: Data is retrieved based on the index position.\n",
        "\n",
        "    my_list = [1, 2, 3]\n",
        "    print(my_list[1])  # Output: 2\n",
        "\n",
        ">Dictionary: Data is retrieved based on the key\n",
        "\n",
        "    my_dict = {\"a\": 1, \"b\": 2}\n",
        "    print(my_dict[\"a\"])  # Output: 1\n"
      ],
      "metadata": {
        "id": "OWUv9OFGQcgg"
      }
    },
    {
      "cell_type": "markdown",
      "source": [
        "# Practical Questions"
      ],
      "metadata": {
        "id": "zzCogzQIOPXZ"
      }
    },
    {
      "cell_type": "code",
      "source": [
        "#1.Write a code to create a string with your name and print it.\n",
        "\n",
        "name = \"nikhil\"\n",
        "print(name)"
      ],
      "metadata": {
        "id": "JPukLMkMOUsW"
      },
      "execution_count": null,
      "outputs": []
    },
    {
      "cell_type": "code",
      "source": [
        "#2.Write a code to find the length of the string \"Hello World\".\n",
        "\n",
        "string = \"Hello World\"\n",
        "length = len(string)\n",
        "print(length)"
      ],
      "metadata": {
        "id": "1W2TbYEQO35o"
      },
      "execution_count": null,
      "outputs": []
    },
    {
      "cell_type": "code",
      "source": [
        "#3.Write a code to slice the first 3 characters from the string \"Python Programming\".\n",
        "\n",
        "string = \"Python Programming\"\n",
        "sliced_string = string[:3]\n",
        "print(sliced_string)"
      ],
      "metadata": {
        "id": "kNk55QfqPd-n"
      },
      "execution_count": null,
      "outputs": []
    },
    {
      "cell_type": "code",
      "source": [
        "#4.Write a code to convert the string \"hello\" to uppercase.\n",
        "\n",
        "string = \"hello\"\n",
        "uppercase_string = string.upper()\n",
        "print(uppercase_string)"
      ],
      "metadata": {
        "id": "22Rr4CNJP4J5"
      },
      "execution_count": null,
      "outputs": []
    },
    {
      "cell_type": "code",
      "source": [
        "#5.Write a code to replace the word \"apple\" with \"orange\" in the string \"I like apple\".\n",
        "\n",
        "string = \"I like apple\"\n",
        "replaced_string = string.replace(\"apple\",\"orange\")\n",
        "print(replaced_string)"
      ],
      "metadata": {
        "id": "QVwW5omaQQsO"
      },
      "execution_count": null,
      "outputs": []
    },
    {
      "cell_type": "code",
      "source": [
        "#6.Write a code to create a list with numbers 1 to 5 and print it.\n",
        "my_list = [1, 2, 3, 4, 5]\n",
        "print(my_list)"
      ],
      "metadata": {
        "id": "87rBVMd7RZ_R"
      },
      "execution_count": null,
      "outputs": []
    },
    {
      "cell_type": "code",
      "source": [
        "#7.Write a code to append the number 10 to the list [1, 2, 3, 4].\n",
        "\n",
        "my_list = [1, 2, 3, 4]\n",
        "my_list.append(10)\n",
        "print(my_list)"
      ],
      "metadata": {
        "id": "65vpFXoHR19G"
      },
      "execution_count": null,
      "outputs": []
    },
    {
      "cell_type": "code",
      "source": [
        "#8.Write a code to remove the number 3 from the list [1, 2, 3, 4, 5].\n",
        "\n",
        "my_list = [1, 2, 3, 4, 5]\n",
        "my_list.remove(3)\n",
        "print(my_list)"
      ],
      "metadata": {
        "id": "Q7EJysxkSJ1s"
      },
      "execution_count": null,
      "outputs": []
    },
    {
      "cell_type": "code",
      "source": [
        "#9.Write a code to access the second element in the list ['a', 'b', 'c', 'd'].\n",
        "\n",
        "my_list = ['a', 'b', 'c', 'd']\n",
        "second_element = my_list[1]\n",
        "print(second_element)"
      ],
      "metadata": {
        "id": "et7O7yYPTRMD"
      },
      "execution_count": null,
      "outputs": []
    },
    {
      "cell_type": "code",
      "source": [
        "#10.Write a code to reverse the list [10, 20, 30, 40, 50].\n",
        "my_list = [10, 20, 30, 40, 50]\n",
        "my_list.reverse()\n",
        "print(my_list)"
      ],
      "metadata": {
        "id": "oprahDqtT769"
      },
      "execution_count": null,
      "outputs": []
    },
    {
      "cell_type": "code",
      "source": [
        "#11.Write a code to create a tuple with the elements 10, 20, 30 and print it.\n",
        "\n",
        "my_tuple = (10, 20, 30)\n",
        "print(my_tuple)"
      ],
      "metadata": {
        "id": "no6frUuoZfId"
      },
      "execution_count": null,
      "outputs": []
    },
    {
      "cell_type": "code",
      "source": [
        "#12.Write a code to access the first element of the tuple ('apple', 'banana', 'cherry').\n",
        "my_tuple = ('apple', 'banana', 'cherry')\n",
        "first_element = my_tuple[0]\n",
        "print(first_element)"
      ],
      "metadata": {
        "id": "F2qsVxUoZzU3"
      },
      "execution_count": null,
      "outputs": []
    },
    {
      "cell_type": "code",
      "source": [
        "#13.Write a code to count how many times the number 2 appears in the tuple (1, 2, 3, 2, 4, 2).\n",
        "my_tuple = (1, 2, 3, 2, 4, 2)\n",
        "count_of_2 = my_tuple.count(2)\n",
        "print(count_of_2)"
      ],
      "metadata": {
        "id": "g9AGYNFBaOUe"
      },
      "execution_count": null,
      "outputs": []
    },
    {
      "cell_type": "code",
      "source": [
        "#14.Write a code to find the index of the element \"cat\" in the tuple ('dog', 'cat', 'rabbit').\n",
        "my_tuple = ('dog', 'cat', 'rabbit')\n",
        "index_of_cat = my_tuple.index('cat')\n",
        "print(index_of_cat)"
      ],
      "metadata": {
        "id": "TO5WBxbTal15"
      },
      "execution_count": null,
      "outputs": []
    },
    {
      "cell_type": "code",
      "source": [
        "#15.Write a code to check if the element \"banana\" is in the tuple ('apple', 'orange', 'banana').\n",
        "my_tuple = ('apple', 'orange', 'banana')\n",
        "if(\"banana\" in my_tuple):\n",
        "  print(\"Yes banana is in tuple\")\n",
        "else:\n",
        "  print(\"No banana is not in tuple\")"
      ],
      "metadata": {
        "id": "4T4bj5OSa9vl"
      },
      "execution_count": null,
      "outputs": []
    },
    {
      "cell_type": "code",
      "source": [
        "#16.Write a code to create a set with the elements 1, 2, 3, 4, 5 and print it.\n",
        "\n",
        "my_set = {1, 2, 3, 4, 5}\n",
        "print(my_set)"
      ],
      "metadata": {
        "id": "QSO9lFf5bPP4"
      },
      "execution_count": null,
      "outputs": []
    },
    {
      "cell_type": "code",
      "source": [
        "#17.Write a code to add the element 6 to the set {1, 2, 3, 4}.\n",
        "\n",
        "my_set = {1, 2, 3, 4}\n",
        "my_set.add(6)\n",
        "print(my_set)"
      ],
      "metadata": {
        "id": "eoguWa2XcjTQ"
      },
      "execution_count": null,
      "outputs": []
    },
    {
      "cell_type": "code",
      "source": [
        "#18.Write a code to create a tuple with the elements 10, 20, 30 and print it.\n",
        "my_tuple = (10, 20, 30)\n",
        "print(my_tuple)"
      ],
      "metadata": {
        "id": "wIwSNRaRc1nT"
      },
      "execution_count": null,
      "outputs": []
    },
    {
      "cell_type": "code",
      "source": [
        "#19.Write a code to access the first element of the tuple ('apple', 'banana', 'cherry').\n",
        "\n",
        "my_tuple = ('apple', 'banana', 'cherry')\n",
        "first_element = my_tuple[0]\n",
        "print(first_element)"
      ],
      "metadata": {
        "id": "60SK8UG1fCI-"
      },
      "execution_count": null,
      "outputs": []
    },
    {
      "cell_type": "code",
      "source": [
        "#20.Write a code to count how many times the number 2 appears in the tuple (1, 2, 3, 2, 4, 2).\n",
        "\n",
        "my_tuple = (1, 2, 3, 2, 4, 2)\n",
        "count_of_2 = my_tuple.count(2)\n",
        "print(count_of_2)"
      ],
      "metadata": {
        "id": "91mHtSTJfW5E"
      },
      "execution_count": null,
      "outputs": []
    },
    {
      "cell_type": "code",
      "source": [
        "#21.Write a code to find the index of the element \"cat\" in the tuple ('dog', 'cat', 'rabbit').\n",
        "\n",
        "my_tuple = ('dog', 'cat', 'rabbit')\n",
        "index_of_cat = my_tuple.index('cat')\n",
        "print(index_of_cat)"
      ],
      "metadata": {
        "id": "NlsX0UH-fexK"
      },
      "execution_count": null,
      "outputs": []
    },
    {
      "cell_type": "code",
      "source": [
        "#22.Write a code to check if the element \"banana\" is in the tuple ('apple', 'orange', 'banana').\n",
        "\n",
        "my_tuple = ('apple', 'orange', 'banana')\n",
        "is_banana_in_tuple = 'banana' in my_tuple\n",
        "print(is_banana_in_tuple)"
      ],
      "metadata": {
        "id": "OpEA85dZf2sM"
      },
      "execution_count": null,
      "outputs": []
    },
    {
      "cell_type": "code",
      "source": [
        "#23.Write a code to create a set with the elements 1, 2, 3, 4, 5 and print it.\n",
        "\n",
        "my_set = {1, 2, 3, 4, 5}\n",
        "print(my_set)"
      ],
      "metadata": {
        "id": "7R_Ss7MJgBUY"
      },
      "execution_count": null,
      "outputs": []
    },
    {
      "cell_type": "code",
      "source": [
        "#24.Write a code to add the element 6 to the set {1, 2, 3, 4}.\n",
        "\n",
        "my_set = {1, 2, 3, 4}\n",
        "my_set.add(6)\n",
        "print(my_set)"
      ],
      "metadata": {
        "id": "nZShxtj4gdTv"
      },
      "execution_count": null,
      "outputs": []
    }
  ]
}