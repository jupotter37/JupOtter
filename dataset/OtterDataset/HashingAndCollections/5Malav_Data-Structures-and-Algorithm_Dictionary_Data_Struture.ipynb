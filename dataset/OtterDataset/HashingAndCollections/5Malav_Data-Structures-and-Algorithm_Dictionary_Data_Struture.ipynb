{
  "nbformat": 4,
  "nbformat_minor": 0,
  "metadata": {
    "colab": {
      "provenance": []
    },
    "kernelspec": {
      "name": "python3",
      "display_name": "Python 3"
    },
    "language_info": {
      "name": "python"
    }
  },
  "cells": [
    {
      "cell_type": "markdown",
      "source": [
        "# Dictionary\n",
        "\n",
        "A dictionary is a collection which is ordered , changeable and indexed.\n",
        "\n",
        "The data is organized using key and value pairs.\n",
        "\n",
        "Here we would retrieve the data using the key.\n",
        "\n",
        "So, it will be like mydict[\"key\"]=value"
      ],
      "metadata": {
        "id": "ZnRvtJaUsnWq"
      }
    },
    {
      "cell_type": "markdown",
      "source": [
        "**Create a Dictionary**\n",
        "\n",
        "A dictinary is a mutable collection of key value pairs where each unique key maps to the value.\n",
        "\n",
        "\n",
        "Dictionaries are implemented using hash table which provide fast access to values based on their keys."
      ],
      "metadata": {
        "id": "NZpQGUW-tStp"
      }
    },
    {
      "cell_type": "code",
      "execution_count": 35,
      "metadata": {
        "colab": {
          "base_uri": "https://localhost:8080/"
        },
        "id": "XAdT0gTRxy9K",
        "outputId": "b7abe4a8-5b89-4ca1-a06c-ca8e629c73c2"
      },
      "outputs": [
        {
          "output_type": "stream",
          "name": "stdout",
          "text": [
            "{}\n",
            "{}\n"
          ]
        }
      ],
      "source": [
        "# using DICT constructor\n",
        "\n",
        "my_dict=dict()\n",
        "print(my_dict)\n",
        "\n",
        "# empty dictionary\n",
        "\n",
        "\n",
        "my_dict2={}\n",
        "print(my_dict2)\n"
      ]
    },
    {
      "cell_type": "code",
      "source": [
        "\"\"\"\n",
        "\n",
        "Time Complexity:-\n",
        "\n",
        "Now the time complexity for creating an empty dictionary using curly braces {}\n",
        "or dict contstuctor is going to be O(1).\n",
        "\n",
        "\n",
        "Space Complexity:-\n",
        "\n",
        "Space complexity will be also O(1) as the dictionary is empty and the only\n",
        "memory for the intial hash table structure is allocated. So, that's why the space\n",
        "complexity is O(1).\n",
        "\n",
        "\"\"\"\n"
      ],
      "metadata": {
        "colab": {
          "base_uri": "https://localhost:8080/",
          "height": 87
        },
        "id": "ilfgpxD2xz0Y",
        "outputId": "e2509ed8-d674-47e6-9151-950ac0134198"
      },
      "execution_count": 36,
      "outputs": [
        {
          "output_type": "execute_result",
          "data": {
            "text/plain": [
              "\"\\n\\nTime Complexity:-\\n\\nNow the time complexity for creating an empty dictionary using curly braces {}\\nor dict contstuctor is going to be O(1).\\n\\n\\nSpace Complexity:-\\n\\nSpace complexity will be also O(1) as the dictionary is empty and the only\\nmemory for the intial hash table structure is allocated. So, that's why the space\\ncomplexity is O(1).\\n\\n\""
            ],
            "application/vnd.google.colaboratory.intrinsic+json": {
              "type": "string"
            }
          },
          "metadata": {},
          "execution_count": 36
        }
      ]
    },
    {
      "cell_type": "code",
      "source": [
        "english_to_spanish = dict(one = \"uno\",two=\"dos\",three=\"tres\")\n",
        "\n",
        "print(english_to_spanish)\n",
        "\n",
        "english_to_span = {\"one\" :\"uno\",\"two\":\"dos\",\"three\":\"tres\"}\n",
        "\n",
        "print(english_to_span)\n",
        "\n",
        "\n"
      ],
      "metadata": {
        "colab": {
          "base_uri": "https://localhost:8080/"
        },
        "id": "_isDm9qwxz3D",
        "outputId": "e4f4bf28-1406-4760-e068-52faed16ea20"
      },
      "execution_count": 37,
      "outputs": [
        {
          "output_type": "stream",
          "name": "stdout",
          "text": [
            "{'one': 'uno', 'two': 'dos', 'three': 'tres'}\n",
            "{'one': 'uno', 'two': 'dos', 'three': 'tres'}\n"
          ]
        }
      ]
    },
    {
      "cell_type": "code",
      "source": [
        "\"\"\"\n",
        "\n",
        "Time Complexity:-\n",
        "\n",
        "The time complexity is going to be for both cases O(n) because each key and value\n",
        "pair needs to be inserted in the dictionary and this will take some time.\n",
        "\n",
        "Space Complexity:-\n",
        "\n",
        "Space complexity is also O(n) because the dictionary needs to store key and value\n",
        "pair in the memory.\n",
        "\n",
        "\n",
        "\"\"\""
      ],
      "metadata": {
        "colab": {
          "base_uri": "https://localhost:8080/",
          "height": 70
        },
        "id": "FXBSdcyTxz6L",
        "outputId": "bcee5efb-6215-4a7f-bd2d-c4429c97ef03"
      },
      "execution_count": 38,
      "outputs": [
        {
          "output_type": "execute_result",
          "data": {
            "text/plain": [
              "'\\n\\nTime Complexity:-\\n\\nThe time complexity is going to be for both cases O(n) because each key and value\\npair needs to be inserted in the dictionary and this will take some time.\\n\\nSpace Complexity:-\\n\\nSpace complexity is also O(n) because the dictionary needs to store key and value\\npair in the memory.\\n\\n\\n'"
            ],
            "application/vnd.google.colaboratory.intrinsic+json": {
              "type": "string"
            }
          },
          "metadata": {},
          "execution_count": 38
        }
      ]
    },
    {
      "cell_type": "code",
      "source": [
        "# Another way of creating a dictionary with the DICT constuctor using the list\n",
        "# of tuples,\n",
        "\n",
        "eng_to_span = [(\"one\",\"uno\"),(\"two\",\"dos\"),(\"three\",\"tres\")]\n",
        "\n",
        "dic = dict(eng_to_span)\n",
        "print(dic)\n",
        "\n",
        "# time complexity = O(n)\n",
        "# space complexity = O(n)\n",
        "\n"
      ],
      "metadata": {
        "colab": {
          "base_uri": "https://localhost:8080/"
        },
        "id": "DDweSIeCxz9L",
        "outputId": "a5a5bfb8-704e-49a4-a8f7-b857d2f40ceb"
      },
      "execution_count": 39,
      "outputs": [
        {
          "output_type": "stream",
          "name": "stdout",
          "text": [
            "{'one': 'uno', 'two': 'dos', 'three': 'tres'}\n"
          ]
        }
      ]
    },
    {
      "cell_type": "markdown",
      "source": [
        "**Dictionary in Memory**\n"
      ],
      "metadata": {
        "id": "XFkI5Pebz2Sr"
      }
    },
    {
      "cell_type": "code",
      "source": [
        "\"\"\"\n",
        "Dictinaries are indexed by keys and the can be seen as associative arrays.\n",
        "\n",
        "Python Dictionaries are implemented using hash tables.\n",
        "\n",
        "It's an array whose indexes are obtaining using a hash functions on the keys.\n",
        "\n",
        "\n",
        "The goal of hash function is distribute the key evenly in the array.\n",
        "\n",
        "A hash table is a way of doing key value lookups.\n",
        "\n",
        "We can store vlaue in an array, then use a hash function to find the index\n",
        "of the array cell that corresponds to your key value pair.\n",
        "\n",
        "A hash function maps a key to a hash value and then an index of the array.\n",
        "\n",
        "\n",
        "Based on key a hash function calculates the index.\n",
        "\n",
        "Then key and pairs is located in an array in the memory. This includes\n",
        " the perfomance of dictionaries.\n",
        "\n",
        "SO there are 3 mains elements in hash tables.\n",
        "\n",
        "The keys, the array and the hash function. A good hash function minimizes\n",
        "the number of collusions.\n",
        "\n",
        "What is collusions ?\n",
        "\n",
        "Different keys have the same hash value and this results the same index.\n",
        "\n",
        "Python does not have this kind of hash function that can eliminate all collusions.\n",
        "\n",
        "\n",
        "\"\"\""
      ],
      "metadata": {
        "colab": {
          "base_uri": "https://localhost:8080/",
          "height": 192
        },
        "id": "ker8Gkc3z2El",
        "outputId": "ed6c9c35-6219-4b41-c9ea-2ef7931e83ad"
      },
      "execution_count": 40,
      "outputs": [
        {
          "output_type": "execute_result",
          "data": {
            "text/plain": [
              "\"\\nDictinaries are indexed by keys and the can be seen as associative arrays.\\n\\nPython Dictionaries are implemented using hash tables.\\n\\nIt's an array whose indexes are obtaining using a hash functions on the keys.\\n\\n\\nThe goal of hash function is distribute the key evenly in the array.\\n\\nA hash table is a way of doing key value lookups.\\n\\nWe can store vlaue in an array, then use a hash function to find the index\\nof the array cell that corresponds to your key value pair.\\n\\nA hash function maps a key to a hash value and then an index of the array.\\n\\n\\nBased on key a hash function calculates the index.\\n\\nThen key and pairs is located in an array in the memory. This includes\\n the perfomance of dictionaries.\\n\\nSO there are 3 mains elements in hash tables.\\n\\nThe keys, the array and the hash function. A good hash function minimizes\\nthe number of collusions.\\n\\nWhat is collusions ?\\n\\nDifferent keys have the same hash value and this results the same index.\\n\\nPython does not have this kind of hash function that can eliminate all collusions.\\n\\n\\n\""
            ],
            "application/vnd.google.colaboratory.intrinsic+json": {
              "type": "string"
            }
          },
          "metadata": {},
          "execution_count": 40
        }
      ]
    },
    {
      "cell_type": "markdown",
      "source": [
        "# Insert / Update an element in a Dictionary"
      ],
      "metadata": {
        "id": "_XRvfXA_3J8R"
      }
    },
    {
      "cell_type": "code",
      "source": [
        "# Update element\n",
        "\n",
        "my_dict = {\"name\":\"Maya\",\"age\":59}\n",
        "\n",
        "print(my_dict)\n",
        "\n",
        "my_dict['age'] = 27\n",
        "\n",
        "print(\" \")\n",
        "\n",
        "print(my_dict)\n"
      ],
      "metadata": {
        "colab": {
          "base_uri": "https://localhost:8080/"
        },
        "id": "OO9w7OSmz2B4",
        "outputId": "b3f27577-36ab-4280-bf9c-33abd5048933"
      },
      "execution_count": 41,
      "outputs": [
        {
          "output_type": "stream",
          "name": "stdout",
          "text": [
            "{'name': 'Maya', 'age': 59}\n",
            " \n",
            "{'name': 'Maya', 'age': 27}\n"
          ]
        }
      ]
    },
    {
      "cell_type": "code",
      "source": [
        "\"\"\"\n",
        "\n",
        "Time Complexity:-\n",
        "\n",
        "In this case we are just accessing the straight away to the pair and\n",
        "changing the value.\n",
        "\n",
        "We don't do any looping or any searching operations over here.\n",
        "\n",
        "Space Complexity:-\n",
        "\n",
        "Space complexity is also O(1). Because here an extra memoery is not required.\n",
        "\n",
        "\"\"\""
      ],
      "metadata": {
        "colab": {
          "base_uri": "https://localhost:8080/",
          "height": 70
        },
        "id": "mYZnTyQq48nB",
        "outputId": "b90d381f-7267-4715-84b3-7102e828aaff"
      },
      "execution_count": 42,
      "outputs": [
        {
          "output_type": "execute_result",
          "data": {
            "text/plain": [
              "\"\\n\\nTime Complexity:-\\n\\nIn this case we are just accessing the straight away to the pair and\\nchanging the value.\\n\\nWe don't do any looping or any searching operations over here.\\n\\nSpace Complexity:-\\n\\nSpace complexity is also O(1). Because here an extra memoery is not required.\\n\\n\""
            ],
            "application/vnd.google.colaboratory.intrinsic+json": {
              "type": "string"
            }
          },
          "metadata": {},
          "execution_count": 42
        }
      ]
    },
    {
      "cell_type": "code",
      "source": [
        "my_dict = {\"name\":\"Maya\",\"age\":59}\n",
        "\n",
        "print(my_dict)\n",
        "\n",
        "my_dict['home'] = \"Apartment\"\n",
        "\n",
        "print(\" \")\n",
        "\n",
        "print(my_dict)\n",
        "\n"
      ],
      "metadata": {
        "colab": {
          "base_uri": "https://localhost:8080/"
        },
        "id": "UNt9vSro3JfC",
        "outputId": "b72cc28f-433b-4a4d-f128-02877d317d44"
      },
      "execution_count": 43,
      "outputs": [
        {
          "output_type": "stream",
          "name": "stdout",
          "text": [
            "{'name': 'Maya', 'age': 59}\n",
            " \n",
            "{'name': 'Maya', 'age': 59, 'home': 'Apartment'}\n"
          ]
        }
      ]
    },
    {
      "cell_type": "code",
      "source": [
        "\"\"\"\n",
        "\n",
        "Time Complexity:-\n",
        "\n",
        "Time complexity will be O(1). Because here we are just adding key and value.\n",
        "\n",
        "Space Complexity:-\n",
        "\n",
        "For adding pairs to the dictionary is amortized O(1).\n",
        "\n",
        "It changes to O(n) when underlying data structure needs to grow or shrink.\n",
        "\n",
        "As the later only happend infrequently so we use amortized word.\n",
        "\n",
        "\"\"\""
      ],
      "metadata": {
        "colab": {
          "base_uri": "https://localhost:8080/",
          "height": 87
        },
        "id": "A4Dc4-qoz1_L",
        "outputId": "2d28b6f4-6561-401d-e8be-b9b3977514d1"
      },
      "execution_count": 44,
      "outputs": [
        {
          "output_type": "execute_result",
          "data": {
            "text/plain": [
              "'\\n\\nTime Complexity:-\\n\\nTime complexity will be O(1). Because here we are just adding key and value.\\n\\nSpace Complexity:-\\n\\nFor adding pairs to the dictionary is amortized O(1).\\n\\nIt changes to O(n) when underlying data structure needs to grow or shrink.\\n\\nAs the later only happend infrequently so we use amortized word.\\n\\n'"
            ],
            "application/vnd.google.colaboratory.intrinsic+json": {
              "type": "string"
            }
          },
          "metadata": {},
          "execution_count": 44
        }
      ]
    },
    {
      "cell_type": "markdown",
      "source": [
        "# Travere through a Dictionary"
      ],
      "metadata": {
        "id": "D5HWwx4l8BeV"
      }
    },
    {
      "cell_type": "code",
      "source": [
        " # Traversing means visiting all pairs of a dictionary one by one\n",
        "\n",
        "my_dict = {\"name\":\"Maya\",\"age\":65,\"address\":\"India\"}\n",
        "\n",
        "print(my_dict)\n"
      ],
      "metadata": {
        "colab": {
          "base_uri": "https://localhost:8080/"
        },
        "id": "I4W1GBF9z18Z",
        "outputId": "2b674779-0b34-47eb-904d-fd47ea43832a"
      },
      "execution_count": 45,
      "outputs": [
        {
          "output_type": "stream",
          "name": "stdout",
          "text": [
            "{'name': 'Maya', 'age': 65, 'address': 'India'}\n"
          ]
        }
      ]
    },
    {
      "cell_type": "code",
      "source": [
        "\n",
        "def traverseDict(dict):\n",
        "\n",
        "    for key in dict:\n",
        "        print(key,dict[key])\n",
        "\n",
        "traverseDict(my_dict)\n",
        "\n"
      ],
      "metadata": {
        "colab": {
          "base_uri": "https://localhost:8080/"
        },
        "id": "1IfTU8cRz15q",
        "outputId": "eecdb1b8-8b42-4b62-e495-42efd212d5d1"
      },
      "execution_count": 46,
      "outputs": [
        {
          "output_type": "stream",
          "name": "stdout",
          "text": [
            "name Maya\n",
            "age 65\n",
            "address India\n"
          ]
        }
      ]
    },
    {
      "cell_type": "code",
      "source": [
        "\"\"\"\n",
        "\n",
        "Time Complexity:-\n",
        "\n",
        "print(key,dict[key]) :- O(1)\n",
        "\n",
        "we have a key and we are accesing value so its time complexity is O(1).\n",
        "\n",
        "\n",
        "for key in dict:\n",
        "We know that looping through any given collection is O(n) time complexity,\n",
        "because here we have to visit all elements one by one.\n",
        "\n",
        "total = O(1) + O(n) = O(n) time complexity\n",
        "\n",
        "Space Complexity:-\n",
        "\n",
        "Space complexity will be O(1) because here extra memory is not required.\n",
        "\n",
        "we are just visiting elements and we are not even stroing any element in a\n",
        "temoporary variable or something else.\n",
        "\n",
        "\n",
        "\n",
        "\n",
        "\"\"\""
      ],
      "metadata": {
        "colab": {
          "base_uri": "https://localhost:8080/",
          "height": 122
        },
        "id": "bUOnM9Rxz0uu",
        "outputId": "9752b148-2621-4c1c-e9c1-2e5a617dbb43"
      },
      "execution_count": 47,
      "outputs": [
        {
          "output_type": "execute_result",
          "data": {
            "text/plain": [
              "'\\n\\nTime Complexity:-\\n\\nprint(key,dict[key]) :- O(1)\\n\\nwe have a key and we are accesing value so its time complexity is O(1).\\n\\n\\nfor key in dict:\\nWe know that looping through any given collection is O(n) time complexity,\\nbecause here we have to visit all elements one by one.\\n\\ntotal = O(1) + O(n) = O(n) time complexity\\n\\nSpace Complexity:-\\n\\nSpace complexity will be O(1) because here extra memory is not required.\\n\\nwe are just visiting elements and we are not even stroing any element in a\\ntemoporary variable or something else.\\n\\n\\n\\n\\n'"
            ],
            "application/vnd.google.colaboratory.intrinsic+json": {
              "type": "string"
            }
          },
          "metadata": {},
          "execution_count": 47
        }
      ]
    },
    {
      "cell_type": "markdown",
      "source": [
        "# Search for an element in a  Dictionary\n"
      ],
      "metadata": {
        "id": "7W32O0IJPQMj"
      }
    },
    {
      "cell_type": "code",
      "source": [
        "\"\"\"\n",
        "\n",
        "There are many algorithms for searching a given value in the dictionary.\n",
        "\n",
        "For example, linear search.\n",
        "\n",
        "The logic behind linear search is based on traversing a dictionary.\n",
        "This means that we have to visit each and every elements of dictionary and check\n",
        "if this value is we are looking for.\n",
        "\n",
        "\"\"\""
      ],
      "metadata": {
        "colab": {
          "base_uri": "https://localhost:8080/",
          "height": 70
        },
        "id": "t8jsxLffz0r9",
        "outputId": "9edc5329-ffb3-4e74-f2ea-78b3429cd967"
      },
      "execution_count": 48,
      "outputs": [
        {
          "output_type": "execute_result",
          "data": {
            "text/plain": [
              "'\\n\\nThere are many algorithms for searching a given value in the dictionary.\\n\\nFor example, linear search.\\n\\nThe logic behind linear search is based on traversing a dictionary.\\nThis means that we have to visit each and every elements of dictionary and check\\nif this value is we are looking for.\\n\\n'"
            ],
            "application/vnd.google.colaboratory.intrinsic+json": {
              "type": "string"
            }
          },
          "metadata": {},
          "execution_count": 48
        }
      ]
    },
    {
      "cell_type": "code",
      "source": [
        "\n",
        "my_dict= {\"Name :- \":\"Maya\",\"Age :-\":64,\"Address :-\":\"India\"}\n",
        "print(my_dict)\n",
        "\n",
        "\n",
        "\n",
        "def search_dict(dict,value):\n",
        "\n",
        "    for key in dict:\n",
        "        if dict[key]==value:\n",
        "            return key,value\n",
        "\n",
        "    return \"The values does not exist\"\n",
        "\n",
        "\n",
        "print(\" \")\n",
        "\n",
        "print(search_dict(my_dict,64))\n",
        "\n",
        "print(\" \")\n",
        "\n",
        "print(search_dict(my_dict,\"Canada\"))\n"
      ],
      "metadata": {
        "colab": {
          "base_uri": "https://localhost:8080/"
        },
        "id": "ajhtmAPBz0o5",
        "outputId": "132306c7-abc1-4746-e081-2a78804db396"
      },
      "execution_count": 49,
      "outputs": [
        {
          "output_type": "stream",
          "name": "stdout",
          "text": [
            "{'Name :- ': 'Maya', 'Age :-': 64, 'Address :-': 'India'}\n",
            " \n",
            "('Age :-', 64)\n",
            " \n",
            "The values does not exist\n"
          ]
        }
      ]
    },
    {
      "cell_type": "code",
      "source": [
        "\"\"\"\n",
        "\n",
        "Time Complexity:-\n",
        "\n",
        "return key,value : - O(1) time complexity.\n",
        "\n",
        "if dict[key]==value: -- Accesing any pair valuy thorough key is O(1) time complexity\n",
        "\n",
        "for key in dict: -- Traversing through dictionary is O(n) time complexity.\n",
        "Because here we have to visit each element of dictionary.\n",
        "\n",
        "return \"The values does not exist : - O(1) time complexity\n",
        "\n",
        "Total : - O(1) + O(1) + O(n) + O(1) = O(n).\n",
        "\n",
        "Space Complexity:-\n",
        "\n",
        "Space complexity will be O(1) because here an extra memory not needed to\n",
        "perform this operation.\n",
        "\n",
        "\"\"\"\n",
        "\n"
      ],
      "metadata": {
        "colab": {
          "base_uri": "https://localhost:8080/",
          "height": 105
        },
        "id": "iIiTWKEcz0mW",
        "outputId": "0ebc9342-1dbb-4e64-9931-79bdc6d50971"
      },
      "execution_count": 50,
      "outputs": [
        {
          "output_type": "execute_result",
          "data": {
            "text/plain": [
              "'\\n\\nTime Complexity:-\\n\\nreturn key,value : - O(1) time complexity.\\n\\nif dict[key]==value: -- Accesing any pair valuy thorough key is O(1) time complexity\\n\\nfor key in dict: -- Traversing through dictionary is O(n) time complexity.\\nBecause here we have to visit each element of dictionary.\\n\\nreturn \"The values does not exist : - O(1) time complexity\\n\\nTotal : - O(1) + O(1) + O(n) + O(1) = O(n).\\n\\nSpace Complexity:-\\n\\nSpace complexity will be O(1) because here an extra memory not needed to\\nperform this operation.\\n\\n'"
            ],
            "application/vnd.google.colaboratory.intrinsic+json": {
              "type": "string"
            }
          },
          "metadata": {},
          "execution_count": 50
        }
      ]
    },
    {
      "cell_type": "markdown",
      "source": [
        "# Delete / Remove an element from a Dictionary\n"
      ],
      "metadata": {
        "id": "knAZ5RJq98Of"
      }
    },
    {
      "cell_type": "code",
      "source": [
        "\"\"\"\n",
        "\n",
        "There are various way of deleting an element from a Dictionary.\n",
        "\n",
        "1st is we can use DEL statement, followed by the dictionary and the key.\n",
        "\n",
        "\"\"\"\n",
        "\n",
        "my_dict = {\"Name\":\"Maya\",\"Age\": 64, \"Address\":\"India\",\"work\":\"House wife\"}\n",
        "\n",
        "print(my_dict)\n",
        "\n",
        "del my_dict[\"Age\"]\n",
        "\n",
        "print(\" \")\n",
        "\n",
        "print(my_dict)\n",
        "\n",
        "\"\"\"\n",
        "\n",
        "Now the time complexity for deleting an element using del statement is O(1).\n",
        "Because it involves hash table operation.\n",
        "\n",
        "Space complexity is also O(1) because it does not create any additional data\n",
        "structure for implementing this operation.\n",
        "\n",
        "\n",
        "\"\"\""
      ],
      "metadata": {
        "colab": {
          "base_uri": "https://localhost:8080/",
          "height": 122
        },
        "id": "4szc42Nnz0j5",
        "outputId": "3e3e0385-e190-491a-ec88-dbcd01f33cc7"
      },
      "execution_count": 51,
      "outputs": [
        {
          "output_type": "stream",
          "name": "stdout",
          "text": [
            "{'Name': 'Maya', 'Age': 64, 'Address': 'India', 'work': 'House wife'}\n",
            " \n",
            "{'Name': 'Maya', 'Address': 'India', 'work': 'House wife'}\n"
          ]
        },
        {
          "output_type": "execute_result",
          "data": {
            "text/plain": [
              "'\\n\\nNow the time complexity for deleting an element using del statement is O(1).\\nBecause it involves hash table operation.\\n\\nSpace complexity is also O(1) because it does not create any additional data\\nstructure for implementing this operation.\\n\\n\\n'"
            ],
            "application/vnd.google.colaboratory.intrinsic+json": {
              "type": "string"
            }
          },
          "metadata": {},
          "execution_count": 51
        }
      ]
    },
    {
      "cell_type": "code",
      "source": [
        "\"\"\"\n",
        "\n",
        "Another way to remove a key value pair from a dictionary is a pop method\n",
        "\n",
        "This method also return the value assciated with the key. If the key is not\n",
        "found , it returns a default value that is provided. Otherwise it's going\n",
        "to raise key error.\n",
        "\n",
        "\"\"\"\n",
        "\n",
        "\n",
        "my_dict = {\"Name\":\"Maya\",\"Age\": 64, \"Address\":\"India\",\"work\":\"House wife\"}\n",
        "\n",
        "print(my_dict)\n",
        "\n",
        "print(\" \")\n",
        "\n",
        "remove_value = my_dict.pop('Name')\n",
        "\n",
        "print(remove_value)\n",
        "print(\" \")\n",
        "print(my_dict)\n",
        "\n",
        "\"\"\"\n",
        "\n",
        "Now the time complexity for pop method  is O(1).\n",
        "Because it involves hash table operation.\n",
        "\n",
        "Space complexity is also O(1) because it does not create any additional data\n",
        "structure for implementing this operation.\n",
        "\n",
        "\"\"\"\n",
        "\n"
      ],
      "metadata": {
        "id": "wEWCtlAtx0A0",
        "colab": {
          "base_uri": "https://localhost:8080/",
          "height": 157
        },
        "outputId": "d0d16eae-b55f-4a3e-be34-590da6f811c7"
      },
      "execution_count": 52,
      "outputs": [
        {
          "output_type": "stream",
          "name": "stdout",
          "text": [
            "{'Name': 'Maya', 'Age': 64, 'Address': 'India', 'work': 'House wife'}\n",
            " \n",
            "Maya\n",
            " \n",
            "{'Age': 64, 'Address': 'India', 'work': 'House wife'}\n"
          ]
        },
        {
          "output_type": "execute_result",
          "data": {
            "text/plain": [
              "'\\n\\nNow the time complexity for pop method  is O(1).\\nBecause it involves hash table operation.\\n\\nSpace complexity is also O(1) because it does not create any additional data\\nstructure for implementing this operation.\\n\\n'"
            ],
            "application/vnd.google.colaboratory.intrinsic+json": {
              "type": "string"
            }
          },
          "metadata": {},
          "execution_count": 52
        }
      ]
    },
    {
      "cell_type": "code",
      "source": [
        "# pop item method\n",
        "\n",
        "\n",
        "\n",
        "my_dict = {\"Name\":\"Maya\",\"Age\": 64, \"Address\":\"India\",\"work\":\"House wife\"}\n",
        "\n",
        "print(my_dict)\n",
        "\n",
        "print(\" \")\n",
        "\n",
        "remove_value = my_dict.popitem()\n",
        "\n",
        "print(remove_value)\n",
        "print(\" \")\n",
        "\n",
        "print(my_dict)\n",
        "\n",
        "\"\"\"\n",
        "\n",
        "In case of pop method it was returning only valye and but in\n",
        "popitem method it returns key and value.\n",
        "\n",
        "Time Complexity : - O(1)\n",
        "\n",
        "Space Complexity : - O(1)\n",
        "\n",
        "\"\"\"\n",
        "\n"
      ],
      "metadata": {
        "id": "2oDRuTGxx0Es",
        "colab": {
          "base_uri": "https://localhost:8080/",
          "height": 140
        },
        "outputId": "09e6e784-1305-4dea-ade4-89abc68b18bb"
      },
      "execution_count": 53,
      "outputs": [
        {
          "output_type": "stream",
          "name": "stdout",
          "text": [
            "{'Name': 'Maya', 'Age': 64, 'Address': 'India', 'work': 'House wife'}\n",
            " \n",
            "('work', 'House wife')\n",
            " \n",
            "{'Name': 'Maya', 'Age': 64, 'Address': 'India'}\n"
          ]
        },
        {
          "output_type": "execute_result",
          "data": {
            "text/plain": [
              "'\\n\\nIn case of pop method it was returning only valye and but in \\npopitem method it returns key and value.\\n\\nTime Complexity : - O(1)\\n\\nSpace Complexity : - O(1)\\n\\n'"
            ],
            "application/vnd.google.colaboratory.intrinsic+json": {
              "type": "string"
            }
          },
          "metadata": {},
          "execution_count": 53
        }
      ]
    },
    {
      "cell_type": "code",
      "source": [
        "\n",
        "\"\"\"\n",
        "clear method to remove elements\n",
        "\n",
        "Clear method removes all key value pairs from the dictinary leaving it empty\n",
        "\n",
        "\n",
        "\"\"\"\n",
        "\n",
        "\n",
        "my_dict = {\"Name\":\"Maya\",\"Age\": 64, \"Address\":\"India\",\"work\":\"House wife\"}\n",
        "\n",
        "print(my_dict)\n",
        "\n",
        "my_dict.clear()\n",
        "\n",
        "print( \" \")\n",
        "\n",
        "print(my_dict)\n",
        "\n",
        "\"\"\"\n",
        "\n",
        "Time complexity : - O(n)\n",
        "\n",
        "Where n is the number of elements in the dictionary because it has to\n",
        "remove all elements from the dictionary\n",
        "\n",
        "Space complexity : - O(1)\n",
        "\n",
        "Because in this case additional structure is not created in the memory.\n",
        "\n",
        "\"\"\"\n",
        "\n"
      ],
      "metadata": {
        "id": "bAFU4G_Lx0H4",
        "colab": {
          "base_uri": "https://localhost:8080/",
          "height": 122
        },
        "outputId": "6c9d20e3-b15c-442a-9f81-83bf2ef422f6"
      },
      "execution_count": 54,
      "outputs": [
        {
          "output_type": "stream",
          "name": "stdout",
          "text": [
            "{'Name': 'Maya', 'Age': 64, 'Address': 'India', 'work': 'House wife'}\n",
            " \n",
            "{}\n"
          ]
        },
        {
          "output_type": "execute_result",
          "data": {
            "text/plain": [
              "'\\n\\nTime complexity : - O(n)\\n\\nWhere n is the number of elements in the dictionary because it has to\\nremove all elements from the dictionary\\n\\nSpace complexity : - O(1)\\n\\nBecause in this case additional structure is not created in the memory.\\n\\n'"
            ],
            "application/vnd.google.colaboratory.intrinsic+json": {
              "type": "string"
            }
          },
          "metadata": {},
          "execution_count": 54
        }
      ]
    },
    {
      "cell_type": "markdown",
      "source": [
        "# Dictionary Methods"
      ],
      "metadata": {
        "id": "TOfwuW17ULaP"
      }
    },
    {
      "cell_type": "code",
      "source": [
        "\n",
        "my_dict = {\"Name\":\"Maya\",\"Age\": 64, \"Address\":\"India\",\"work\":\"House wife\"}\n",
        "\n",
        "print(my_dict)\n",
        "\n",
        "print(\" \")"
      ],
      "metadata": {
        "colab": {
          "base_uri": "https://localhost:8080/"
        },
        "id": "KAn8Xop5UFG-",
        "outputId": "ffa1764e-5cb3-42fb-93fa-61caa9b5ae8f"
      },
      "execution_count": 55,
      "outputs": [
        {
          "output_type": "stream",
          "name": "stdout",
          "text": [
            "{'Name': 'Maya', 'Age': 64, 'Address': 'India', 'work': 'House wife'}\n",
            " \n"
          ]
        }
      ]
    },
    {
      "cell_type": "code",
      "source": [
        " # clear() method\n",
        "\n",
        " # deletes all elements from the dictionary\n",
        "\n",
        "my_dict.clear()\n",
        "print(my_dict)\n"
      ],
      "metadata": {
        "colab": {
          "base_uri": "https://localhost:8080/"
        },
        "id": "RpxfPzuQUFEv",
        "outputId": "f96c38ef-0dfc-4850-9b30-aafe158a2073"
      },
      "execution_count": 56,
      "outputs": [
        {
          "output_type": "stream",
          "name": "stdout",
          "text": [
            "{}\n"
          ]
        }
      ]
    },
    {
      "cell_type": "code",
      "source": [
        "my_dict = {\"Name\":\"Maya\",\"Age\": 64, \"Address\":\"India\",\"work\":\"House wife\"}\n",
        "my_dict"
      ],
      "metadata": {
        "colab": {
          "base_uri": "https://localhost:8080/"
        },
        "id": "l0Lbd3DJUFCM",
        "outputId": "96f18c96-d8e8-4568-a2c3-a2739f37210c"
      },
      "execution_count": 57,
      "outputs": [
        {
          "output_type": "execute_result",
          "data": {
            "text/plain": [
              "{'Name': 'Maya', 'Age': 64, 'Address': 'India', 'work': 'House wife'}"
            ]
          },
          "metadata": {},
          "execution_count": 57
        }
      ]
    },
    {
      "cell_type": "code",
      "source": [
        "# copy() method\n",
        "\n",
        "# return the copy of the dictionary\n",
        "\n",
        "dict_copy= my_dict.copy()\n",
        "print(dict_copy)\n"
      ],
      "metadata": {
        "colab": {
          "base_uri": "https://localhost:8080/"
        },
        "id": "siU1oatNUE_7",
        "outputId": "d6e2959c-16cb-49d9-986b-2c05e4c52c51"
      },
      "execution_count": 58,
      "outputs": [
        {
          "output_type": "stream",
          "name": "stdout",
          "text": [
            "{'Name': 'Maya', 'Age': 64, 'Address': 'India', 'work': 'House wife'}\n"
          ]
        }
      ]
    },
    {
      "cell_type": "code",
      "source": [
        "my_dict = {\"Name\":\"Maya\",\"Age\": 64, \"Address\":\"India\",\"work\":\"House wife\"}\n",
        "my_dict"
      ],
      "metadata": {
        "colab": {
          "base_uri": "https://localhost:8080/"
        },
        "id": "u6DBWHibXS5C",
        "outputId": "028022b8-3901-44d9-b14b-ecc4f591e3ea"
      },
      "execution_count": 59,
      "outputs": [
        {
          "output_type": "execute_result",
          "data": {
            "text/plain": [
              "{'Name': 'Maya', 'Age': 64, 'Address': 'India', 'work': 'House wife'}"
            ]
          },
          "metadata": {},
          "execution_count": 59
        }
      ]
    },
    {
      "cell_type": "code",
      "source": [],
      "metadata": {
        "id": "UYvzeOk7XSze"
      },
      "execution_count": 59,
      "outputs": []
    },
    {
      "cell_type": "code",
      "source": [
        "# fromkeys() method\n",
        "\n",
        "# The fromkeys method creates a new dictionary from given sequence of elements\n",
        "# with value provided by user.\n",
        "\n",
        "dict_key = {}.fromkeys([1,2,3,4,5],0)\n",
        "\n",
        "print(dict_key)\n",
        "\n",
        "print(\" \")\n",
        "\n",
        "dict_keys = my_dict.fromkeys([\"Son\"],\"Malav\")\n",
        "print(dict_keys)\n",
        "\n",
        "print(\" \")\n",
        "\n",
        "print(my_dict)\n",
        "\n"
      ],
      "metadata": {
        "colab": {
          "base_uri": "https://localhost:8080/"
        },
        "id": "963MUdsUXSuE",
        "outputId": "915f484e-8b5e-4ea3-f8aa-948b9c8f0a30"
      },
      "execution_count": 60,
      "outputs": [
        {
          "output_type": "stream",
          "name": "stdout",
          "text": [
            "{1: 0, 2: 0, 3: 0, 4: 0, 5: 0}\n",
            " \n",
            "{'Son': 'Malav'}\n",
            " \n",
            "{'Name': 'Maya', 'Age': 64, 'Address': 'India', 'work': 'House wife'}\n"
          ]
        }
      ]
    },
    {
      "cell_type": "code",
      "source": [
        "# get() method\n",
        "\n",
        "# The get() method return the value for specified key if the\n",
        "# key is the dictionary.\n",
        "\n",
        "# The first parameter is key, which is the key to be searched\n",
        "# in the dictionary, and the second parameter and this one is\n",
        "# optional. This is the value to be returned if the key is not\n",
        "# found, the default valuy for the this second parameter is None.\n",
        "\n",
        "# so the function returns the valye for the specified key\n",
        "# if the key is in the dictionary.\n",
        "\n",
        "# But if key is not in the dictionary and the value is not\n",
        "# specified as a second parameter, then it will retune None.\n",
        "\n",
        "# if key is not specified and the value is specified\n",
        "# it will return the value which is specified in the second\n",
        "# parameter.\n",
        "\n",
        "get_dict= my_dict.get(\"Age\",64)\n",
        "print(get_dict)\n",
        "\n",
        "print(\" \")\n",
        "\n",
        "get_dict= my_dict.get(\"Daughter\",)\n",
        "print(get_dict)\n",
        "\n",
        "print(\" \")\n",
        "\n",
        "get_dict= my_dict.get(\"\",25)\n",
        "print(get_dict)\n",
        "\n"
      ],
      "metadata": {
        "colab": {
          "base_uri": "https://localhost:8080/"
        },
        "id": "LzaWHy7wXSq6",
        "outputId": "0a0a1f74-fd1d-483d-dc00-e463e2b4a469"
      },
      "execution_count": 61,
      "outputs": [
        {
          "output_type": "stream",
          "name": "stdout",
          "text": [
            "64\n",
            " \n",
            "None\n",
            " \n",
            "25\n"
          ]
        }
      ]
    },
    {
      "cell_type": "code",
      "source": [
        "# items() method\n",
        "\n",
        "# The items() method returns a view object that displays\n",
        "# a list of dictionaries, key value tuple pairs.\n",
        "\n",
        "# The method does not take any parameter and it will return a view\n",
        "# object that displays a list of given dictionaries, key value\n",
        "# tuple pair\n",
        "\n",
        "my_dict = {\"Name\":\"Maya\",\"Age\": 64, \"Address\":\"India\",\"work\":\"House wife\"}\n",
        "print(my_dict)\n",
        "\n",
        "print(\" \")\n",
        "\n",
        "print(my_dict.items())\n",
        "\n"
      ],
      "metadata": {
        "colab": {
          "base_uri": "https://localhost:8080/"
        },
        "id": "_BkwRYmrXSk8",
        "outputId": "78e67623-4666-49c1-ace0-38212ba75bee"
      },
      "execution_count": 62,
      "outputs": [
        {
          "output_type": "stream",
          "name": "stdout",
          "text": [
            "{'Name': 'Maya', 'Age': 64, 'Address': 'India', 'work': 'House wife'}\n",
            " \n",
            "dict_items([('Name', 'Maya'), ('Age', 64), ('Address', 'India'), ('work', 'House wife')])\n"
          ]
        }
      ]
    },
    {
      "cell_type": "code",
      "source": [
        "# keys() method\n",
        "\n",
        "# The keys method returns a view object that displays the least of all\n",
        "# keys in the dictionary.\n",
        "\n",
        "# It justs returns a view object that display a list of keys.\n",
        "# when dicionaries change the view object also reflected this change.\n",
        "\n",
        "# it will return keys name only.\n",
        "\n",
        "print(my_dict.keys())\n",
        "\n"
      ],
      "metadata": {
        "colab": {
          "base_uri": "https://localhost:8080/"
        },
        "id": "t963m-aGhCql",
        "outputId": "8cec721d-23a3-4de6-d21f-9f3b70548626"
      },
      "execution_count": 63,
      "outputs": [
        {
          "output_type": "stream",
          "name": "stdout",
          "text": [
            "dict_keys(['Name', 'Age', 'Address', 'work'])\n"
          ]
        }
      ]
    },
    {
      "cell_type": "code",
      "source": [
        "# popitem() method\n",
        "\n",
        "# Popitem method return and removes an arbitrary element from the\n",
        "# dictionary.\n",
        "my_dict = {\"Name\":\"Maya\",\"Age\": 64, \"Address\":\"India\",\"work\":\"House wife\"}\n",
        "print(my_dict)\n",
        "\n",
        "print(\" \")\n",
        "\n",
        "print(my_dict.popitem())\n",
        "\n",
        "print(\" \")\n",
        "\n",
        "print(my_dict)\n"
      ],
      "metadata": {
        "colab": {
          "base_uri": "https://localhost:8080/"
        },
        "id": "NSxJpyBAhCnV",
        "outputId": "787d7a67-20ee-49cb-c48c-9551bc0734c4"
      },
      "execution_count": 64,
      "outputs": [
        {
          "output_type": "stream",
          "name": "stdout",
          "text": [
            "{'Name': 'Maya', 'Age': 64, 'Address': 'India', 'work': 'House wife'}\n",
            " \n",
            "('work', 'House wife')\n",
            " \n",
            "{'Name': 'Maya', 'Age': 64, 'Address': 'India'}\n"
          ]
        }
      ]
    },
    {
      "cell_type": "code",
      "source": [
        "# setdefault()\n",
        "\n",
        "# The setdefault method return the value of key if\n",
        "# key is in the dictionary.\n",
        "\n",
        "# if not, it inserts key with a value to the dictionary.\n",
        "\n",
        "my_dict = {\"Name\":\"Maya\",\"Age\": 64, \"Address\":\"India\",\"work\":\"House wife\"}\n",
        "print(my_dict)\n",
        "\n",
        "print(\" \")\n",
        "\n",
        "print(my_dict.setdefault(\"Name\",\"Malav\"))\n",
        "\n",
        "print(\" \")\n",
        "\n",
        "my_dict.setdefault(\"Son\",\"Malav\")\n",
        "\n",
        "print(my_dict)\n"
      ],
      "metadata": {
        "colab": {
          "base_uri": "https://localhost:8080/"
        },
        "id": "4LZvsvq0hCkp",
        "outputId": "f3e7dcbf-a599-469c-e62b-e87cf6b3a655"
      },
      "execution_count": 65,
      "outputs": [
        {
          "output_type": "stream",
          "name": "stdout",
          "text": [
            "{'Name': 'Maya', 'Age': 64, 'Address': 'India', 'work': 'House wife'}\n",
            " \n",
            "Maya\n",
            " \n",
            "{'Name': 'Maya', 'Age': 64, 'Address': 'India', 'work': 'House wife', 'Son': 'Malav'}\n"
          ]
        }
      ]
    },
    {
      "cell_type": "code",
      "source": [
        "# pop method\n",
        "\n",
        "# The pop method removes and returns an element from the dictionary\n",
        "# having the given key\n",
        "\n",
        "print(my_dict.pop(\"Son\",\"Malav\"))\n",
        "\n",
        "print(\"\")\n",
        "print(my_dict)\n"
      ],
      "metadata": {
        "colab": {
          "base_uri": "https://localhost:8080/"
        },
        "id": "adgvvpqXhCig",
        "outputId": "84da27b6-68e4-4b6b-a4b1-974ef49c2c1a"
      },
      "execution_count": 66,
      "outputs": [
        {
          "output_type": "stream",
          "name": "stdout",
          "text": [
            "Malav\n",
            "\n",
            "{'Name': 'Maya', 'Age': 64, 'Address': 'India', 'work': 'House wife'}\n"
          ]
        }
      ]
    },
    {
      "cell_type": "code",
      "source": [
        "# values() method\n",
        "\n",
        "# The values method returns a view object that display a list of values\n",
        "# in the dictionry\n",
        "\n",
        "\n",
        "my_dict = {\"Name\":\"Maya\",\"Age\": 64, \"Address\":\"India\",\"work\":\"House wife\"}\n",
        "print(my_dict)\n",
        "\n",
        "print(\" \")\n",
        "\n",
        "print(my_dict.values())\n"
      ],
      "metadata": {
        "colab": {
          "base_uri": "https://localhost:8080/"
        },
        "id": "IiD9j-6nhCdt",
        "outputId": "d94a6190-f116-4742-d1b4-7383e18022b9"
      },
      "execution_count": 67,
      "outputs": [
        {
          "output_type": "stream",
          "name": "stdout",
          "text": [
            "{'Name': 'Maya', 'Age': 64, 'Address': 'India', 'work': 'House wife'}\n",
            " \n",
            "dict_values(['Maya', 64, 'India', 'House wife'])\n"
          ]
        }
      ]
    },
    {
      "cell_type": "code",
      "source": [
        "# update() method\n",
        "\n",
        "# The Update method updates the dictionary with the elements\n",
        "# from another dictionary object or from an iterable\n",
        "# of key value pairs\n",
        "\n",
        "# This method adds elements to the dictionary if the key is\n",
        "# not in the dictionary.\n",
        "\n",
        "# If the key is in the dictionary, it updates the key value\n",
        "# with new value\n",
        "\n",
        "my_dict = {\"Name\":\"Maya\",\"Age\": 64, \"Address\":\"India\",\"work\":\"House wife\"}\n",
        "print(my_dict)\n",
        "\n",
        "print(\" \")\n",
        "\n",
        "new_dict = {\"Daughter\":\"Gopi\"}\n",
        "\n",
        "my_dict.update(new_dict)\n",
        "\n",
        "print(my_dict)\n",
        "\n",
        "print(\" \")\n",
        "\n",
        "new_dict = {\"Work\":\"Business\"}\n",
        "\n",
        "my_dict.update(new_dict)\n",
        "\n",
        "print(my_dict)\n",
        "\n"
      ],
      "metadata": {
        "colab": {
          "base_uri": "https://localhost:8080/"
        },
        "id": "1ZVnj7nXhCaq",
        "outputId": "65486f90-f5ec-4469-d3c9-8453b1e7716c"
      },
      "execution_count": 68,
      "outputs": [
        {
          "output_type": "stream",
          "name": "stdout",
          "text": [
            "{'Name': 'Maya', 'Age': 64, 'Address': 'India', 'work': 'House wife'}\n",
            " \n",
            "{'Name': 'Maya', 'Age': 64, 'Address': 'India', 'work': 'House wife', 'Daughter': 'Gopi'}\n",
            " \n",
            "{'Name': 'Maya', 'Age': 64, 'Address': 'India', 'work': 'House wife', 'Daughter': 'Gopi', 'Work': 'Business'}\n"
          ]
        }
      ]
    },
    {
      "cell_type": "markdown",
      "source": [
        "# Dictionary Operations/ Built in FUnctions"
      ],
      "metadata": {
        "id": "oWSeyb1rv94e"
      }
    },
    {
      "cell_type": "code",
      "source": [
        "my_dict = {\n",
        "\n",
        "    0 : \"Zero\",\n",
        "    1 : \"One\",\n",
        "    2 : \"Two\",\n",
        "    3 : \"Three\",\n",
        "    4 : \"Five\",\n",
        "\n",
        "}\n",
        "my_dict"
      ],
      "metadata": {
        "colab": {
          "base_uri": "https://localhost:8080/"
        },
        "id": "ZOVXS6XRhCX4",
        "outputId": "047c7d86-5c70-4f15-d522-08f5a8e47b0f"
      },
      "execution_count": 70,
      "outputs": [
        {
          "output_type": "execute_result",
          "data": {
            "text/plain": [
              "{0: 'Zero', 1: 'One', 2: 'Two', 3: 'Three', 4: 'Five'}"
            ]
          },
          "metadata": {},
          "execution_count": 70
        }
      ]
    },
    {
      "cell_type": "code",
      "source": [
        "print(3 in my_dict)\n",
        "\n",
        "print(\" \")\n",
        "\n",
        "print(\"One\" in my_dict)\n",
        "\n",
        "print(\"\")\n",
        "\n",
        "print(1 in my_dict)\n",
        "\n",
        "# in method is only for keys not for values\n",
        "# if we try to check whether element is in the dictionary or not\n",
        "# using value it will return False always.\n",
        "\n"
      ],
      "metadata": {
        "colab": {
          "base_uri": "https://localhost:8080/"
        },
        "id": "31OplIGGhCU4",
        "outputId": "f98e1dcf-c752-4f3b-e91a-ab818955b66b"
      },
      "execution_count": 73,
      "outputs": [
        {
          "output_type": "stream",
          "name": "stdout",
          "text": [
            "True\n",
            " \n",
            "False\n",
            "\n",
            "True\n"
          ]
        }
      ]
    },
    {
      "cell_type": "code",
      "source": [
        "# to find element using values in the dictionary\n",
        "# we can use values() method in the dictionary\n",
        "\n",
        "print(\"One\" in my_dict.values())\n"
      ],
      "metadata": {
        "colab": {
          "base_uri": "https://localhost:8080/"
        },
        "id": "24NMyCxFhCR-",
        "outputId": "14df6983-70f1-46d2-f765-508713ca652e"
      },
      "execution_count": 75,
      "outputs": [
        {
          "output_type": "stream",
          "name": "stdout",
          "text": [
            "True\n"
          ]
        }
      ]
    },
    {
      "cell_type": "code",
      "source": [
        "# len() function\n",
        "# It takes each pair as one element\n",
        "\n",
        "\n",
        "\n",
        "print(len(my_dict))\n",
        "\n"
      ],
      "metadata": {
        "colab": {
          "base_uri": "https://localhost:8080/"
        },
        "id": "isd4xZrlhCOu",
        "outputId": "477587cf-b60d-4ff3-823e-f6b40e7770a4"
      },
      "execution_count": 76,
      "outputs": [
        {
          "output_type": "stream",
          "name": "stdout",
          "text": [
            "5\n"
          ]
        }
      ]
    },
    {
      "cell_type": "code",
      "source": [
        "# all()\n",
        "my_dict = {\n",
        "\n",
        "    1 : \"One\",\n",
        "    2 : \"Two\",\n",
        "    3 : \"Three\",\n",
        "    4 : \"Five\",\n",
        "    5 : \"Five\"\n",
        "\n",
        "}\n",
        "my_dict\n",
        "\n",
        "print(all(my_dict))\n",
        "\n",
        "# If all keys in dictionary are true in this case it's true.\n",
        "# So true means that if you have Boolean values in dictionary,\n",
        "# the key have to be true.\n",
        "# And the numbers or string except zero , because if we have zero\n",
        "# in the dictionary this means that one of these key is false.\n",
        "# So it will return false.\n",
        "\n",
        "print(\" \")\n",
        "\n",
        "my_dict = {\n",
        "\n",
        "    0 : \"Zero\",\n",
        "    1 : \"One\",\n",
        "    2 : \"Two\",\n",
        "    3 : \"Three\",\n",
        "    4 : \"Five\",\n",
        "    5 : \"Five\"\n",
        "\n",
        "}\n",
        "my_dict\n",
        "\n",
        "print(all(my_dict))\n"
      ],
      "metadata": {
        "colab": {
          "base_uri": "https://localhost:8080/"
        },
        "id": "Z7iIG6W7XSa3",
        "outputId": "6d2c2e3c-6032-4272-c722-b2ee3963505d"
      },
      "execution_count": 80,
      "outputs": [
        {
          "output_type": "stream",
          "name": "stdout",
          "text": [
            "True\n",
            " \n",
            "False\n"
          ]
        }
      ]
    },
    {
      "cell_type": "code",
      "source": [
        " # any()\n",
        "\n",
        "# In this function if any value is True it will return True.\n",
        "\n",
        "# All Keys are True :- True\n",
        "# All Keys are False :- False\n",
        "# One Keys are True :- True\n",
        "\n",
        "my_dict = {\n",
        "\n",
        "    0 : \"Zero\",\n",
        "    1 : \"One\",\n",
        "    2 : \"Two\",\n",
        "    3 : \"Three\",\n",
        "    4 : \"Five\",\n",
        "    5 : \"Five\"\n",
        "\n",
        "}\n",
        "my_dict\n",
        "\n",
        "print(any(my_dict))\n"
      ],
      "metadata": {
        "colab": {
          "base_uri": "https://localhost:8080/"
        },
        "id": "oeovZ_flUE2g",
        "outputId": "891ab338-6a2d-45d4-da27-4d2c6d930b3c"
      },
      "execution_count": 81,
      "outputs": [
        {
          "output_type": "stream",
          "name": "stdout",
          "text": [
            "True\n"
          ]
        }
      ]
    },
    {
      "cell_type": "code",
      "source": [
        "# sorted () function\n",
        "\n",
        "# It will return the list of key in sorted order\n",
        "\n",
        "my_dict = {\n",
        "\n",
        "    4 : \"Zero\",\n",
        "    2 : \"One\",\n",
        "    3 : \"Two\",\n",
        "    1 : \"Three\",\n",
        "    4 : \"Five\",\n",
        "    5 : \"Five\"\n",
        "\n",
        "}\n",
        "my_dict\n",
        "\n",
        "print(sorted(my_dict))\n"
      ],
      "metadata": {
        "colab": {
          "base_uri": "https://localhost:8080/"
        },
        "id": "Qc0jSs4jtj-1",
        "outputId": "37ac1b18-dc84-4eac-b124-f6f3edfa44fc"
      },
      "execution_count": 82,
      "outputs": [
        {
          "output_type": "stream",
          "name": "stdout",
          "text": [
            "[1, 2, 3, 4, 5]\n"
          ]
        }
      ]
    },
    {
      "cell_type": "markdown",
      "source": [
        "# Dictionary Comprehension"
      ],
      "metadata": {
        "id": "OMPSdsiIu8tc"
      }
    },
    {
      "cell_type": "code",
      "source": [
        "# Syntax\n",
        "\n",
        "# new_dict = {new_key:new_value  for item in list}\n",
        "\n",
        "# new_dict = {new_key:new_value for (key,value) in dict.items() if condition}\n"
      ],
      "metadata": {
        "id": "spmhYVCEtj7I"
      },
      "execution_count": null,
      "outputs": []
    },
    {
      "cell_type": "code",
      "source": [
        "cars = [\"Urus\",\"G-Wagon\",\"BMW\",\"AUDI\"]\n",
        "\n",
        "cars"
      ],
      "metadata": {
        "colab": {
          "base_uri": "https://localhost:8080/"
        },
        "id": "zk2paG_0tj0B",
        "outputId": "f1eae582-fa1d-4ade-e4dd-45204f574b19"
      },
      "execution_count": 84,
      "outputs": [
        {
          "output_type": "execute_result",
          "data": {
            "text/plain": [
              "['Urus', 'G-Wagon', 'BMW', 'AUDI']"
            ]
          },
          "metadata": {},
          "execution_count": 84
        }
      ]
    },
    {
      "cell_type": "code",
      "source": [
        "import random\n",
        "\n",
        "new_dict = {car_name:random.randint(20,30) for car_name in cars}\n",
        "\n",
        "print(new_dict)\n",
        ""
      ],
      "metadata": {
        "colab": {
          "base_uri": "https://localhost:8080/"
        },
        "id": "Qo3PDppwtjvU",
        "outputId": "a7574510-7389-422f-f652-418b2e4dda04"
      },
      "execution_count": 88,
      "outputs": [
        {
          "output_type": "stream",
          "name": "stdout",
          "text": [
            "{'Urus': 27, 'G-Wagon': 28, 'BMW': 25, 'AUDI': 30}\n"
          ]
        }
      ]
    },
    {
      "cell_type": "code",
      "source": [
        "# create a dictionary from dictionary\n",
        "\n",
        "\n",
        "new_dict = {car_name:random.randint(20,25) for car_name in cars}\n",
        "\n",
        "print(new_dict)\n",
        "\n",
        "print(\" \")\n",
        "\n",
        "car_dict = {car:price for (car,price)  in new_dict.items() if price>22}\n",
        "print(car_dict)\n"
      ],
      "metadata": {
        "id": "EsRg8n7Px0LB",
        "colab": {
          "base_uri": "https://localhost:8080/"
        },
        "outputId": "73d977ba-3db1-4f79-fde2-8fc610fe41d6"
      },
      "execution_count": 98,
      "outputs": [
        {
          "output_type": "stream",
          "name": "stdout",
          "text": [
            "{'Urus': 24, 'G-Wagon': 24, 'BMW': 25, 'AUDI': 20}\n",
            " \n",
            "{'Urus': 24, 'G-Wagon': 24, 'BMW': 25}\n"
          ]
        }
      ]
    },
    {
      "cell_type": "markdown",
      "source": [
        "# Dictionary vs. List"
      ],
      "metadata": {
        "id": "Reu6B2-U6bkW"
      }
    },
    {
      "cell_type": "code",
      "source": [
        "\"\"\"\n",
        "Dictinary : -\n",
        "\n",
        "1.) Unordered\n",
        "2.) Access via keys\n",
        "3.) Collections of key value pairs\n",
        "4.) Preferred when you have unique key values\n",
        "5.) No duplicate members\n",
        "\n",
        "\n",
        "List:-\n",
        "\n",
        "1.) Ordered\n",
        "2.) Access via index\n",
        "3.) Collection of elements\n",
        "4.) Preferred when you have ordered date\n",
        "5.) Allow duplicate members\n",
        "\n",
        "\"\"\""
      ],
      "metadata": {
        "id": "nu11V8d-x0Nz"
      },
      "execution_count": 68,
      "outputs": []
    },
    {
      "cell_type": "markdown",
      "source": [
        "# Time and Space Complexity of a Dictionary"
      ],
      "metadata": {
        "id": "Zd0XQcgz8Unj"
      }
    },
    {
      "cell_type": "code",
      "source": [
        "\"\"\"\n",
        "\n",
        "1.) Creating a Dictionary\n",
        "\n",
        "Time Complexity :- O(len(dict))\n",
        "Space Complexity :- O(n)\n",
        "\n",
        "\n",
        "2.) Inserting a value in a Dictionary\n",
        "\n",
        "Time Complexity :- O(1) or O(n)\n",
        "Space Complexity :- O(1)\n",
        "\n",
        "3.) Traversing a given Dictionary\n",
        "\n",
        "Time Complexity :- O(n)\n",
        "Space Complexity :- O(1)\n",
        "\n",
        "4.) Accessing a given cell\n",
        "\n",
        "Time Complexity :- O(1)\n",
        "Space Complexity :- O(1)\n",
        "\n",
        "5.) Searching a given value\n",
        "\n",
        "Time Complexity :- O(n)\n",
        "Space Complexity :- O(1)\n",
        "\n",
        "6.) Deleting a given value\n",
        "\n",
        "Time Complexity :- O(1)\n",
        "Space Complexity :- O(1)\n",
        "\n",
        "\"\"\""
      ],
      "metadata": {
        "id": "qJ5VptIcx0Qt"
      },
      "execution_count": 68,
      "outputs": []
    }
  ]
}