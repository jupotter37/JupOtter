{
  "cells": [
    {
      "cell_type": "markdown",
      "id": "EhPMqG8Vrdp2",
      "metadata": {
        "id": "EhPMqG8Vrdp2"
      },
      "source": [
        "##**Finding similar items in pyspark**##\n",
        "\n",
        "My name is Hamed Davoodi, matriculation number 11267A. I utilized a PySpark DataFrame to analyze document similarity through MinHash and Locality-Sensitive Hashing. The following steps outline the process I implemented in this notebook:\n",
        "\n",
        "1. **Environment Setup**: Installed required packages and configured environment.\n",
        "\n",
        "2. **Data Retrieval**: Used Kaggle API key to download the dataset.\n",
        "\n",
        "3. **Initialize Spark Session**: Configured and started the Spark session.\n",
        "\n",
        "4. **Load Dataset**: Loaded the dataset into a distributed format.\n",
        "\n",
        "5. **Adjust Partitioning**: Repartitioned the dataset to enable the scalability.\n",
        "\n",
        "6. **Filter and Preprocess**: Excluded non-English language items and cleaned the text data.\n",
        "\n",
        "7. **Tokenize Data**: Splited the documents into tokens.\n",
        "\n",
        "8. **Generate N-Grams**: Created N-Gram sequences from tokens.\n",
        "\n",
        "9. **Zero-One Features**: Applied one-hot-encoding to convert N-Grams into feature vectors.\n",
        "\n",
        "10. **MinHash Application**: Reduced feature vector dimensions using MinHash.\n",
        "\n",
        "11. **Band Creation**: Segmented MinHash signatures into bands.\n",
        "\n",
        "12. **Bucketing**: Used python default hashing function to hash the bands into buckets to find the candidate pairs.\n",
        "\n",
        "13. **Similarity Check**: Calculated Jaccard similarity to confirm document similarity."
      ]
    },
    {
      "cell_type": "markdown",
      "id": "HlbPFz0u3vMF",
      "metadata": {
        "id": "HlbPFz0u3vMF"
      },
      "source": [
        "1- First, I set up the pyspark environment and configuaration based on the colab suggestions."
      ]
    },
    {
      "cell_type": "code",
      "execution_count": null,
      "id": "ZYMTQiDqBbv1",
      "metadata": {
        "id": "ZYMTQiDqBbv1"
      },
      "outputs": [],
      "source": [
        "!apt-get install openjdk-8-jdk-headless -qq > /dev/null\n",
        "!wget -q http://archive.apache.org/dist/spark/spark-3.5.1/spark-3.5.1-bin-hadoop3.tgz\n",
        "!tar xf spark-3.5.1-bin-hadoop3.tgz\n",
        "!pip install -q findspark"
      ]
    },
    {
      "cell_type": "code",
      "source": [
        "# Alternatively we can simply run:\n",
        "!pip install pyspark"
      ],
      "metadata": {
        "id": "Zz50zHwdV0kw",
        "colab": {
          "base_uri": "https://localhost:8080/"
        },
        "outputId": "cf88f041-a627-43a1-e31a-adefd22c2055"
      },
      "id": "Zz50zHwdV0kw",
      "execution_count": null,
      "outputs": [
        {
          "output_type": "stream",
          "name": "stdout",
          "text": [
            "Collecting pyspark\n",
            "  Downloading pyspark-3.5.2.tar.gz (317.3 MB)\n",
            "\u001b[2K     \u001b[90m━━━━━━━━━━━━━━━━━━━━━━━━━━━━━━━━━━━━━━━━\u001b[0m \u001b[32m317.3/317.3 MB\u001b[0m \u001b[31m1.4 MB/s\u001b[0m eta \u001b[36m0:00:00\u001b[0m\n",
            "\u001b[?25h  Preparing metadata (setup.py) ... \u001b[?25l\u001b[?25hdone\n",
            "Requirement already satisfied: py4j==0.10.9.7 in /usr/local/lib/python3.10/dist-packages (from pyspark) (0.10.9.7)\n",
            "Building wheels for collected packages: pyspark\n",
            "  Building wheel for pyspark (setup.py) ... \u001b[?25l\u001b[?25hdone\n",
            "  Created wheel for pyspark: filename=pyspark-3.5.2-py2.py3-none-any.whl size=317812365 sha256=a649cc638e77c094727dad51baacb8322d0cc6790c0ce6f3ae28191849d58a1f\n",
            "  Stored in directory: /root/.cache/pip/wheels/34/34/bd/03944534c44b677cd5859f248090daa9fb27b3c8f8e5f49574\n",
            "Successfully built pyspark\n",
            "Installing collected packages: pyspark\n",
            "Successfully installed pyspark-3.5.2\n"
          ]
        }
      ]
    },
    {
      "cell_type": "code",
      "execution_count": null,
      "id": "0ALUJXtrBbtW",
      "metadata": {
        "id": "0ALUJXtrBbtW"
      },
      "outputs": [],
      "source": [
        "import os\n",
        "os.environ[\"JAVA_HOME\"] = \"/usr/lib/jvm/java-8-openjdk-amd64\"\n",
        "os.environ[\"SPARK_HOME\"] = \"/content/spark-3.5.1-bin-hadoop3\""
      ]
    },
    {
      "cell_type": "markdown",
      "id": "dPUHVLUJ37uZ",
      "metadata": {
        "id": "dPUHVLUJ37uZ"
      },
      "source": [
        "2- Setup os environment with kaggle credentials"
      ]
    },
    {
      "cell_type": "code",
      "execution_count": null,
      "id": "pt58XlcFufuy",
      "metadata": {
        "id": "pt58XlcFufuy"
      },
      "outputs": [],
      "source": [
        "# setup kaggle api\n",
        "import os\n",
        "os.environ['KAGGLE_USERNAME'] = \"hameddavoodi\"\n",
        "os.environ['KAGGLE_KEY'] = \"01daed4fc18680ab2abc7488c3723bb2\""
      ]
    },
    {
      "cell_type": "code",
      "execution_count": null,
      "id": "--CZK4Vfufuy",
      "metadata": {
        "colab": {
          "base_uri": "https://localhost:8080/"
        },
        "id": "--CZK4Vfufuy",
        "outputId": "54e30ab8-af6c-45ab-9a70-5e045988cf36"
      },
      "outputs": [
        {
          "output_type": "stream",
          "name": "stdout",
          "text": [
            "Dataset URL: https://www.kaggle.com/datasets/asaniczka/1-3m-linkedin-jobs-and-skills-2024\n",
            "License(s): ODC Attribution License (ODC-By)\n",
            "Downloading 1-3m-linkedin-jobs-and-skills-2024.zip to /content\n",
            " 99% 1.87G/1.88G [00:23<00:00, 126MB/s]\n",
            "100% 1.88G/1.88G [00:23<00:00, 86.4MB/s]\n"
          ]
        }
      ],
      "source": [
        "# Download kaggle dataset\n",
        "!kaggle datasets download -d asaniczka/1-3m-linkedin-jobs-and-skills-2024"
      ]
    },
    {
      "cell_type": "code",
      "execution_count": null,
      "id": "o4Kcgb8Sufuz",
      "metadata": {
        "colab": {
          "base_uri": "https://localhost:8080/"
        },
        "id": "o4Kcgb8Sufuz",
        "outputId": "1af8d802-1dc9-444c-9e74-a3598578c989"
      },
      "outputs": [
        {
          "output_type": "stream",
          "name": "stdout",
          "text": [
            "Archive:  1-3m-linkedin-jobs-and-skills-2024.zip\n",
            "  inflating: job_skills.csv          \n",
            "  inflating: job_summary.csv         \n",
            "  inflating: linkedin_job_postings.csv  \n"
          ]
        }
      ],
      "source": [
        "# Unzip dataset\n",
        "!unzip 1-3m-linkedin-jobs-and-skills-2024.zip"
      ]
    },
    {
      "cell_type": "markdown",
      "id": "2JRcrDwm4KZ_",
      "metadata": {
        "id": "2JRcrDwm4KZ_"
      },
      "source": [
        "Also I installed the autotime for ipython in order to measure the executaion time."
      ]
    },
    {
      "cell_type": "code",
      "execution_count": null,
      "id": "oW1vEl2X-yZg",
      "metadata": {
        "id": "oW1vEl2X-yZg"
      },
      "outputs": [],
      "source": [
        "!pip install ipython-autotime -q"
      ]
    },
    {
      "cell_type": "code",
      "execution_count": null,
      "id": "rMWrsSShe5Zw",
      "metadata": {
        "colab": {
          "base_uri": "https://localhost:8080/"
        },
        "id": "rMWrsSShe5Zw",
        "outputId": "f762d090-8504-448f-f2d5-35b489ffcae0"
      },
      "outputs": [
        {
          "output_type": "stream",
          "name": "stdout",
          "text": [
            "time: 453 µs (started: 2024-09-12 20:19:19 +00:00)\n"
          ]
        }
      ],
      "source": [
        "# timer for cell execution\n",
        "%load_ext autotime"
      ]
    },
    {
      "cell_type": "code",
      "execution_count": null,
      "id": "z_NzJ5Kv-i-r",
      "metadata": {
        "colab": {
          "base_uri": "https://localhost:8080/",
          "height": 241
        },
        "id": "z_NzJ5Kv-i-r",
        "outputId": "254e9da0-257d-4afe-f5b7-7af32e3efc1f"
      },
      "outputs": [
        {
          "output_type": "execute_result",
          "data": {
            "text/plain": [
              "<pyspark.sql.session.SparkSession at 0x7e0be82eb190>"
            ],
            "text/html": [
              "\n",
              "            <div>\n",
              "                <p><b>SparkSession - in-memory</b></p>\n",
              "                \n",
              "        <div>\n",
              "            <p><b>SparkContext</b></p>\n",
              "\n",
              "            <p><a href=\"http://4896552c9c07:4040\">Spark UI</a></p>\n",
              "\n",
              "            <dl>\n",
              "              <dt>Version</dt>\n",
              "                <dd><code>v3.5.2</code></dd>\n",
              "              <dt>Master</dt>\n",
              "                <dd><code>local[*]</code></dd>\n",
              "              <dt>AppName</dt>\n",
              "                <dd><code>AMD_hameddavoodi</code></dd>\n",
              "            </dl>\n",
              "        </div>\n",
              "        \n",
              "            </div>\n",
              "        "
            ]
          },
          "metadata": {},
          "execution_count": 8
        },
        {
          "output_type": "stream",
          "name": "stdout",
          "text": [
            "time: 18.6 s (started: 2024-09-12 20:24:28 +00:00)\n"
          ]
        }
      ],
      "source": [
        "#import findspark\n",
        "#findspark.init()\n",
        "from pyspark.sql import SparkSession\n",
        "\n",
        "# Create a Spark session with dynamic allocation and AQE enabled, also I added some extra configuration to optimze the performance\n",
        "spark = SparkSession.builder.appName(\"AMD_hameddavoodi\")\\\n",
        "    .config(\"spark.executor.memory\", \"4g\")\\\n",
        "    .config(\"spark.executor.cores\", \"2\")\\\n",
        "    .config(\"spark.executor.instances\", \"4\")\\\n",
        "    .config(\"spark.driver.memory\", \"4g\")\\\n",
        "    .master(\"local[*]\")\\\n",
        "    .getOrCreate()\n",
        "\n",
        "# Display session info to verify\n",
        "spark"
      ]
    },
    {
      "cell_type": "code",
      "execution_count": null,
      "id": "gm7ANShzufu0",
      "metadata": {
        "id": "gm7ANShzufu0",
        "colab": {
          "base_uri": "https://localhost:8080/"
        },
        "outputId": "6a237500-c3cf-486c-9956-883927cec988"
      },
      "outputs": [
        {
          "output_type": "execute_result",
          "data": {
            "text/plain": [
              "[('spark.app.startTime', '1726172680516'),\n",
              " ('spark.executor.instances', '4'),\n",
              " ('spark.driver.extraJavaOptions',\n",
              "  '-Djava.net.preferIPv6Addresses=false -XX:+IgnoreUnrecognizedVMOptions --add-opens=java.base/java.lang=ALL-UNNAMED --add-opens=java.base/java.lang.invoke=ALL-UNNAMED --add-opens=java.base/java.lang.reflect=ALL-UNNAMED --add-opens=java.base/java.io=ALL-UNNAMED --add-opens=java.base/java.net=ALL-UNNAMED --add-opens=java.base/java.nio=ALL-UNNAMED --add-opens=java.base/java.util=ALL-UNNAMED --add-opens=java.base/java.util.concurrent=ALL-UNNAMED --add-opens=java.base/java.util.concurrent.atomic=ALL-UNNAMED --add-opens=java.base/jdk.internal.ref=ALL-UNNAMED --add-opens=java.base/sun.nio.ch=ALL-UNNAMED --add-opens=java.base/sun.nio.cs=ALL-UNNAMED --add-opens=java.base/sun.security.action=ALL-UNNAMED --add-opens=java.base/sun.util.calendar=ALL-UNNAMED --add-opens=java.security.jgss/sun.security.krb5=ALL-UNNAMED -Djdk.reflect.useDirectMethodHandle=false'),\n",
              " ('spark.app.id', 'local-1726172683594'),\n",
              " ('spark.driver.memory', '4g'),\n",
              " ('spark.executor.memory', '4g'),\n",
              " ('spark.executor.id', 'driver'),\n",
              " ('spark.sql.warehouse.dir', 'file:/content/spark-warehouse'),\n",
              " ('spark.executor.cores', '2'),\n",
              " ('spark.app.name', 'AMD_hameddavoodi'),\n",
              " ('spark.driver.host', '4896552c9c07'),\n",
              " ('spark.rdd.compress', 'True'),\n",
              " ('spark.app.submitTime', '1726172679835'),\n",
              " ('spark.driver.port', '45477'),\n",
              " ('spark.executor.extraJavaOptions',\n",
              "  '-Djava.net.preferIPv6Addresses=false -XX:+IgnoreUnrecognizedVMOptions --add-opens=java.base/java.lang=ALL-UNNAMED --add-opens=java.base/java.lang.invoke=ALL-UNNAMED --add-opens=java.base/java.lang.reflect=ALL-UNNAMED --add-opens=java.base/java.io=ALL-UNNAMED --add-opens=java.base/java.net=ALL-UNNAMED --add-opens=java.base/java.nio=ALL-UNNAMED --add-opens=java.base/java.util=ALL-UNNAMED --add-opens=java.base/java.util.concurrent=ALL-UNNAMED --add-opens=java.base/java.util.concurrent.atomic=ALL-UNNAMED --add-opens=java.base/jdk.internal.ref=ALL-UNNAMED --add-opens=java.base/sun.nio.ch=ALL-UNNAMED --add-opens=java.base/sun.nio.cs=ALL-UNNAMED --add-opens=java.base/sun.security.action=ALL-UNNAMED --add-opens=java.base/sun.util.calendar=ALL-UNNAMED --add-opens=java.security.jgss/sun.security.krb5=ALL-UNNAMED -Djdk.reflect.useDirectMethodHandle=false'),\n",
              " ('spark.serializer.objectStreamReset', '100'),\n",
              " ('spark.master', 'local[*]'),\n",
              " ('spark.submit.pyFiles', ''),\n",
              " ('spark.submit.deployMode', 'client'),\n",
              " ('spark.ui.showConsoleProgress', 'true')]"
            ]
          },
          "metadata": {},
          "execution_count": 9
        },
        {
          "output_type": "stream",
          "name": "stdout",
          "text": [
            "time: 52.3 ms (started: 2024-09-12 20:24:46 +00:00)\n"
          ]
        }
      ],
      "source": [
        "# check the configuration\n",
        "spark.sparkContext.getConf().getAll()"
      ]
    },
    {
      "cell_type": "markdown",
      "id": "qDZ-ti9BxF8v",
      "metadata": {
        "id": "qDZ-ti9BxF8v"
      },
      "source": [
        "NOTE: I tried parquet format and found that the load time was significantly faster compared to CSV!"
      ]
    },
    {
      "cell_type": "code",
      "execution_count": null,
      "id": "3imCuR6Bm_s_",
      "metadata": {
        "id": "3imCuR6Bm_s_",
        "colab": {
          "base_uri": "https://localhost:8080/"
        },
        "outputId": "e3efd1ee-15f2-42ea-8dff-b8c1d3039506"
      },
      "outputs": [
        {
          "output_type": "stream",
          "name": "stdout",
          "text": [
            "time: 7.18 s (started: 2024-09-12 20:24:46 +00:00)\n"
          ]
        }
      ],
      "source": [
        "# Load the CSV file\n",
        "spark_df = spark.read.options(header=True, multiLine=True, delimiter=\",\", quote='\"', escape='\"')\\\n",
        "                     .csv(\"/content/job_summary.csv\")\\\n",
        "                     .limit(50).persist()\n",
        "                     # for faster computation during the exam I simply chose 50 elements instead of over one million."
      ]
    },
    {
      "cell_type": "markdown",
      "id": "GjrBqnsWxuVh",
      "metadata": {
        "id": "GjrBqnsWxuVh"
      },
      "source": [
        "We may still encounter skewness when data is distributed across nodes. To prevent this issue, I used repartitioning and sorting within partitions. Note that to properly repartition, I needed to convert the DataFrame to an RDD.\n",
        "In addition, we limited 50 rows, so with 5 partition we will have 10 row per partition.\n",
        "\n",
        "![partition_data_flow-640x348.png](data:image/png;base64,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)"
      ]
    },
    {
      "cell_type": "code",
      "execution_count": null,
      "id": "gryx6ha8rCaT",
      "metadata": {
        "id": "gryx6ha8rCaT",
        "colab": {
          "base_uri": "https://localhost:8080/"
        },
        "outputId": "7db7dad6-2dae-47fd-e043-0810f87b8c23"
      },
      "outputs": [
        {
          "output_type": "stream",
          "name": "stdout",
          "text": [
            "+--------------------+--------------------+\n",
            "|            job_link|         job_summary|\n",
            "+--------------------+--------------------+\n",
            "|https://www.linke...|Rock N Roll Sushi...|\n",
            "|https://www.linke...|Schedule\\n: PRN i...|\n",
            "|https://www.linke...|Description\\nIntr...|\n",
            "|https://uk.linked...|Commercial accoun...|\n",
            "|https://www.linke...|Address:\\nUSA-CT-...|\n",
            "|https://www.linke...|Description\\nOur\\...|\n",
            "|https://www.linke...|Company Descripti...|\n",
            "|https://uk.linked...|An exciting oppor...|\n",
            "|https://www.linke...|Job Details:\\nJob...|\n",
            "|https://www.linke...|Our\\nRestaurant T...|\n",
            "|https://www.linke...|Our General Manag...|\n",
            "|https://www.linke...|Earning potential...|\n",
            "|https://www.linke...|Dollar General Co...|\n",
            "|https://au.linked...|Restaurant Descri...|\n",
            "|https://au.linked...|Who We Are\\nWe ar...|\n",
            "|https://www.linke...|A Place Where Peo...|\n",
            "|https://www.linke...|Description\\nThe ...|\n",
            "|https://www.linke...|Overview\\nDescrip...|\n",
            "|https://www.linke...|Description\\nThe ...|\n",
            "|https://www.linke...|Laboratory Techni...|\n",
            "+--------------------+--------------------+\n",
            "only showing top 20 rows\n",
            "\n",
            "time: 9.87 s (started: 2024-09-12 20:24:54 +00:00)\n"
          ]
        }
      ],
      "source": [
        "spark_df.show()"
      ]
    },
    {
      "cell_type": "code",
      "execution_count": null,
      "id": "ncRpg6vlUyRh",
      "metadata": {
        "id": "ncRpg6vlUyRh",
        "colab": {
          "base_uri": "https://localhost:8080/"
        },
        "outputId": "e7e36bf7-2a78-47d1-c76f-ca5b9ef639a3"
      },
      "outputs": [
        {
          "output_type": "stream",
          "name": "stdout",
          "text": [
            "time: 861 ms (started: 2024-09-12 20:25:04 +00:00)\n"
          ]
        }
      ],
      "source": [
        "from pyspark.sql.functions import monotonically_increasing_id\n",
        "# Add a unique key column to the DataFrame\n",
        "df_with_key = spark_df.withColumn(\"key\", monotonically_increasing_id())\n",
        "# Here we change the dataframe to RDD\n",
        "mapped_df = df_with_key.select('key', 'job_summary').rdd"
      ]
    },
    {
      "cell_type": "code",
      "execution_count": null,
      "id": "zRuuWpzqcvi3",
      "metadata": {
        "id": "zRuuWpzqcvi3",
        "colab": {
          "base_uri": "https://localhost:8080/"
        },
        "outputId": "d0c68ec4-1159-475a-a23f-f905cef9f6a2"
      },
      "outputs": [
        {
          "output_type": "stream",
          "name": "stdout",
          "text": [
            "time: 105 ms (started: 2024-09-12 20:25:04 +00:00)\n"
          ]
        }
      ],
      "source": [
        "# Repartition\n",
        "mapped_rdd = mapped_df.repartition(50)"
      ]
    },
    {
      "cell_type": "code",
      "execution_count": null,
      "id": "_2yFB2uLSReJ",
      "metadata": {
        "id": "_2yFB2uLSReJ",
        "colab": {
          "base_uri": "https://localhost:8080/"
        },
        "outputId": "06f83626-8068-436b-cedb-8cb5a77f95df"
      },
      "outputs": [
        {
          "output_type": "stream",
          "name": "stdout",
          "text": [
            "time: 11.2 ms (started: 2024-09-12 20:25:05 +00:00)\n"
          ]
        }
      ],
      "source": [
        "from pyspark.sql import Row\n",
        "import re\n",
        "\n",
        "# Function to filter out rows containing unrecognized characters (Chinese, Arabic, etc.)\n",
        "def filter_unrecognized_characters(row):\n",
        "    \"\"\"\n",
        "    Filter out rows containing unrecognized (non-ASCII) characters such as Chinese or Arabic.\n",
        "    \"\"\"\n",
        "    job_summary = row[1]\n",
        "    if not re.search(r\"[\\u4e00-\\u9fff\\u0600-\\u06FF\\u0750-\\u077F]\", job_summary):\n",
        "        return True\n",
        "    return False\n",
        "\n",
        "# Function to clean the job summary by removing punctuations and converting to lowercase\n",
        "def clean_job_summary(row):\n",
        "    \"\"\"\n",
        "    Clean the job summary by removing non-alphabet characters and converting to lowercase.\n",
        "    \"\"\"\n",
        "    key, job_summary = row\n",
        "    cleaned_summary = re.sub(r\"[^a-zA-Z\\s\\n]\", \"\", job_summary)\n",
        "    cleaned_summary = re.sub(r\"\\n\", \" \", job_summary)\n",
        "    cleaned_summary = cleaned_summary.lower()  # Convert to lowercase\n",
        "    return (key, cleaned_summary)\n",
        "\n",
        "# Assume rdd is your initial RDD with (key, job_summary) format\n",
        "# Step 1: Filter out rows with unrecognized characters\n",
        "recognized_rdd = mapped_rdd.filter(filter_unrecognized_characters)\n",
        "\n",
        "# Step 2: Clean the job summary (remove punctuation, convert to lowercase)\n",
        "cleaned_rdd = recognized_rdd.map(clean_job_summary)\n"
      ]
    },
    {
      "cell_type": "code",
      "execution_count": null,
      "id": "oL8MSN8rtcKl",
      "metadata": {
        "id": "oL8MSN8rtcKl",
        "colab": {
          "base_uri": "https://localhost:8080/"
        },
        "outputId": "64a5b3c5-9160-4143-bd05-5b372331d9be"
      },
      "outputs": [
        {
          "output_type": "execute_result",
          "data": {
            "text/plain": [
              "PythonRDD[26] at RDD at PythonRDD.scala:53"
            ]
          },
          "metadata": {},
          "execution_count": 15
        },
        {
          "output_type": "stream",
          "name": "stdout",
          "text": [
            "time: 51.2 ms (started: 2024-09-12 20:25:05 +00:00)\n"
          ]
        }
      ],
      "source": [
        "cleaned_rdd.persist()"
      ]
    },
    {
      "cell_type": "code",
      "execution_count": null,
      "id": "JT1SOWX7qQ0F",
      "metadata": {
        "id": "JT1SOWX7qQ0F",
        "colab": {
          "base_uri": "https://localhost:8080/"
        },
        "outputId": "d340951e-409d-42fe-8d28-11039aa4c223"
      },
      "outputs": [
        {
          "output_type": "execute_result",
          "data": {
            "text/plain": [
              "50"
            ]
          },
          "metadata": {},
          "execution_count": 16
        },
        {
          "output_type": "stream",
          "name": "stdout",
          "text": [
            "time: 209 ms (started: 2024-09-12 20:25:05 +00:00)\n"
          ]
        }
      ],
      "source": [
        "cleaned_rdd.getNumPartitions()"
      ]
    },
    {
      "cell_type": "code",
      "execution_count": null,
      "id": "h4CjIdCEFXLA",
      "metadata": {
        "id": "h4CjIdCEFXLA",
        "colab": {
          "base_uri": "https://localhost:8080/"
        },
        "outputId": "40140bce-fe9c-4980-d882-ca05e661def6"
      },
      "outputs": [
        {
          "output_type": "execute_result",
          "data": {
            "text/plain": [
              "[(0,\n",
              "  'rock n roll sushi is hiring a restaurant manager! as our restaurant manager, you’ll never be bored. you’ll be responsible for making sure our restaurant runs smoothly. we offer competitive compensation insurance benefits bonus opportunities a great work atmosphere duties/responsibilities ensuring that our restaurant is fully and appropriately staffed at all times maintaining operational excellence so our restaurant is running efficiently and effectively ensuring that all laws, regulations, and guidelines are being followed creating a restaurant atmosphere that both patrons and employees enjoy various other tasks as needed requirements previous experience as a restaurant manager extensive food and beverage knowledge, and the ability to remember and recall ingredients and dishes to inform customers and wait staff great leadership skills familiarity with restaurant management software demonstrated ability to coordinate a staff show more show less')]"
            ]
          },
          "metadata": {},
          "execution_count": 17
        },
        {
          "output_type": "stream",
          "name": "stdout",
          "text": [
            "time: 37.9 s (started: 2024-09-12 20:25:05 +00:00)\n"
          ]
        }
      ],
      "source": [
        "cleaned_rdd.take(1)"
      ]
    },
    {
      "cell_type": "markdown",
      "id": "8IaKlJ2xXMdd",
      "metadata": {
        "id": "8IaKlJ2xXMdd"
      },
      "source": [
        "LSH mechanism builds a hash table consisting of several parts which puts a pair of signatures into the same bucket if they have at least one corresponding part."
      ]
    },
    {
      "cell_type": "markdown",
      "id": "y-8DjctcbCC9",
      "metadata": {
        "id": "y-8DjctcbCC9"
      },
      "source": [
        "![00a27d5963a54c82b9f751845218b6beb8c09324-1280x720.webp](data:image/webp;base64,UklGRjLkAABXRUJQVlA4WAoAAAAgAAAA/wQAzwIASUNDUEgMAAAAAAxITGlubwIQAABtbnRyUkdCIFhZWiAHzgACAAkABgAxAABhY3NwTVNGVAAAAABJRUMgc1JHQgAAAAAAAAAAAAAAAAAA9tYAAQAAAADTLUhQICAAAAAAAAAAAAAAAAAAAAAAAAAAAAAAAAAAAAAAAAAAAAAAAAAAAAAAAAAAAAAAABFjcHJ0AAABUAAAADNkZXNjAAABhAAAAGx3dHB0AAAB8AAAABRia3B0AAACBAAAABRyWFlaAAACGAAAABRnWFlaAAACLAAAABRiWFlaAAACQAAAABRkbW5kAAACVAAAAHBkbWRkAAACxAAAAIh2dWVkAAADTAAAAIZ2aWV3AAAD1AAAACRsdW1pAAAD+AAAABRtZWFzAAAEDAAAACR0ZWNoAAAEMAAAAAxyVFJDAAAEPAAACAxnVFJDAAAEPAAACAxiVFJDAAAEPAAACAx0ZXh0AAAAAENvcHlyaWdodCAoYykgMTk5OCBIZXdsZXR0LVBhY2thcmQgQ29tcGFueQAAZGVzYwAAAAAAAAASc1JHQiBJRUM2MTk2Ni0yLjEAAAAAAAAAAAAAABJzUkdCIElFQzYxOTY2LTIuMQAAAAAAAAAAAAAAAAAAAAAAAAAAAAAAAAAAAAAAAAAAAAAAAAAAAAAAAAAAAAAAAAAAWFlaIAAAAAAAAPNRAAEAAAABFsxYWVogAAAAAAAAAAAAAAAAAAAAAFhZWiAAAAAAAABvogAAOPUAAAOQWFlaIAAAAAAAAGKZAAC3hQAAGNpYWVogAAAAAAAAJKAAAA+EAAC2z2Rlc2MAAAAAAAAAFklFQyBodHRwOi8vd3d3LmllYy5jaAAAAAAAAAAAAAAAFklFQyBodHRwOi8vd3d3LmllYy5jaAAAAAAAAAAAAAAAAAAAAAAAAAAAAAAAAAAAAAAAAAAAAAAAAAAAAAAAAAAAAABkZXNjAAAAAAAAAC5JRUMgNjE5NjYtMi4xIERlZmF1bHQgUkdCIGNvbG91ciBzcGFjZSAtIHNSR0IAAAAAAAAAAAAAAC5JRUMgNjE5NjYtMi4xIERlZmF1bHQgUkdCIGNvbG91ciBzcGFjZSAtIHNSR0IAAAAAAAAAAAAAAAAAAAAAAAAAAAAAZGVzYwAAAAAAAAAsUmVmZXJlbmNlIFZpZXdpbmcgQ29uZGl0aW9uIGluIElFQzYxOTY2LTIuMQAAAAAAAAAAAAAALFJlZmVyZW5jZSBWaWV3aW5nIENvbmRpdGlvbiBpbiBJRUM2MTk2Ni0yLjEAAAAAAAAAAAAAAAAAAAAAAAAAAAAAAAAAAHZpZXcAAAAAABOk/gAUXy4AEM8UAAPtzAAEEwsAA1yeAAAAAVhZWiAAAAAAAEwJVgBQAAAAVx/nbWVhcwAAAAAAAAABAAAAAAAAAAAAAAAAAAAAAAAAAo8AAAACc2lnIAAAAABDUlQgY3VydgAAAAAAAAQAAAAABQAKAA8AFAAZAB4AIwAoAC0AMgA3ADsAQABFAEoATwBUAFkAXgBjAGgAbQByAHcAfACBAIYAiwCQAJUAmgCfAKQAqQCuALIAtwC8AMEAxgDLANAA1QDbAOAA5QDrAPAA9gD7AQEBBwENARMBGQEfASUBKwEyATgBPgFFAUwBUgFZAWABZwFuAXUBfAGDAYsBkgGaAaEBqQGxAbkBwQHJAdEB2QHhAekB8gH6AgMCDAIUAh0CJgIvAjgCQQJLAlQCXQJnAnECegKEAo4CmAKiAqwCtgLBAssC1QLgAusC9QMAAwsDFgMhAy0DOANDA08DWgNmA3IDfgOKA5YDogOuA7oDxwPTA+AD7AP5BAYEEwQgBC0EOwRIBFUEYwRxBH4EjASaBKgEtgTEBNME4QTwBP4FDQUcBSsFOgVJBVgFZwV3BYYFlgWmBbUFxQXVBeUF9gYGBhYGJwY3BkgGWQZqBnsGjAadBq8GwAbRBuMG9QcHBxkHKwc9B08HYQd0B4YHmQesB78H0gflB/gICwgfCDIIRghaCG4IggiWCKoIvgjSCOcI+wkQCSUJOglPCWQJeQmPCaQJugnPCeUJ+woRCicKPQpUCmoKgQqYCq4KxQrcCvMLCwsiCzkLUQtpC4ALmAuwC8gL4Qv5DBIMKgxDDFwMdQyODKcMwAzZDPMNDQ0mDUANWg10DY4NqQ3DDd4N+A4TDi4OSQ5kDn8Omw62DtIO7g8JDyUPQQ9eD3oPlg+zD88P7BAJECYQQxBhEH4QmxC5ENcQ9RETETERTxFtEYwRqhHJEegSBxImEkUSZBKEEqMSwxLjEwMTIxNDE2MTgxOkE8UT5RQGFCcUSRRqFIsUrRTOFPAVEhU0FVYVeBWbFb0V4BYDFiYWSRZsFo8WshbWFvoXHRdBF2UXiReuF9IX9xgbGEAYZRiKGK8Y1Rj6GSAZRRlrGZEZtxndGgQaKhpRGncanhrFGuwbFBs7G2MbihuyG9ocAhwqHFIcexyjHMwc9R0eHUcdcB2ZHcMd7B4WHkAeah6UHr4e6R8THz4faR+UH78f6iAVIEEgbCCYIMQg8CEcIUghdSGhIc4h+yInIlUigiKvIt0jCiM4I2YjlCPCI/AkHyRNJHwkqyTaJQklOCVoJZclxyX3JicmVyaHJrcm6CcYJ0kneierJ9woDSg/KHEooijUKQYpOClrKZ0p0CoCKjUqaCqbKs8rAis2K2krnSvRLAUsOSxuLKIs1y0MLUEtdi2rLeEuFi5MLoIuty7uLyQvWi+RL8cv/jA1MGwwpDDbMRIxSjGCMbox8jIqMmMymzLUMw0zRjN/M7gz8TQrNGU0njTYNRM1TTWHNcI1/TY3NnI2rjbpNyQ3YDecN9c4FDhQOIw4yDkFOUI5fzm8Ofk6Njp0OrI67zstO2s7qjvoPCc8ZTykPOM9Ij1hPaE94D4gPmA+oD7gPyE/YT+iP+JAI0BkQKZA50EpQWpBrEHuQjBCckK1QvdDOkN9Q8BEA0RHRIpEzkUSRVVFmkXeRiJGZ0arRvBHNUd7R8BIBUhLSJFI10kdSWNJqUnwSjdKfUrESwxLU0uaS+JMKkxyTLpNAk1KTZNN3E4lTm5Ot08AT0lPk0/dUCdQcVC7UQZRUFGbUeZSMVJ8UsdTE1NfU6pT9lRCVI9U21UoVXVVwlYPVlxWqVb3V0RXklfgWC9YfVjLWRpZaVm4WgdaVlqmWvVbRVuVW+VcNVyGXNZdJ114XcleGl5sXr1fD19hX7NgBWBXYKpg/GFPYaJh9WJJYpxi8GNDY5dj62RAZJRk6WU9ZZJl52Y9ZpJm6Gc9Z5Nn6Wg/aJZo7GlDaZpp8WpIap9q92tPa6dr/2xXbK9tCG1gbbluEm5rbsRvHm94b9FwK3CGcOBxOnGVcfByS3KmcwFzXXO4dBR0cHTMdSh1hXXhdj52m3b4d1Z3s3gReG54zHkqeYl553pGeqV7BHtje8J8IXyBfOF9QX2hfgF+Yn7CfyN/hH/lgEeAqIEKgWuBzYIwgpKC9INXg7qEHYSAhOOFR4Wrhg6GcobXhzuHn4gEiGmIzokziZmJ/opkisqLMIuWi/yMY4zKjTGNmI3/jmaOzo82j56QBpBukNaRP5GokhGSepLjk02TtpQglIqU9JVflcmWNJaflwqXdZfgmEyYuJkkmZCZ/JpomtWbQpuvnByciZz3nWSd0p5Anq6fHZ+Ln/qgaaDYoUehtqImopajBqN2o+akVqTHpTilqaYapoum/adup+CoUqjEqTepqaocqo+rAqt1q+msXKzQrUStuK4trqGvFq+LsACwdbDqsWCx1rJLssKzOLOutCW0nLUTtYq2AbZ5tvC3aLfguFm40blKucK6O7q1uy67p7whvJu9Fb2Pvgq+hL7/v3q/9cBwwOzBZ8Hjwl/C28NYw9TEUcTOxUvFyMZGxsPHQce/yD3IvMk6ybnKOMq3yzbLtsw1zLXNNc21zjbOts83z7jQOdC60TzRvtI/0sHTRNPG1EnUy9VO1dHWVdbY11zX4Nhk2OjZbNnx2nba+9uA3AXcit0Q3ZbeHN6i3ynfr+A24L3hROHM4lPi2+Nj4+vkc+T85YTmDeaW5x/nqegy6LzpRunQ6lvq5etw6/vshu0R7ZzuKO6070DvzPBY8OXxcvH/8ozzGfOn9DT0wvVQ9d72bfb794r4Gfio+Tj5x/pX+uf7d/wH/Jj9Kf26/kv+3P9t//9WUDggxNcAABD/Ap0BKgAF0AI+dTaXSSSioqEjWJnwkA6JZ278CBuOCxqg/Lz9KY+wX6CfwrnyWcfo7w0DgE/plf8h/u+63kv01+d/yP7e/lV8rPJ/aJ6a9gv+L7Pur3rT9d/RU82/X/+H/gvyT+cX+k9UH9O/yn/C/xn78fQP+rH/O/uv+T9rj1Uft/6hP6X/hv/X/nPdo/2v7ce73+y/6P/0/7r/TfIF/Sv8t/wPz3+b3/qexT/o//B7B/7P/+/2a/97/8v9n/tv///9/sx/q3+0/9v+n/2P///9X2G/sl/5v23///yAf9n1AP+d////v7gHq79iP6j+R/vS+P/rv95/wv7Xf2r/4+uf4t8y/aP7T/jv9R/df/x/qvkt/3P8d5PPVP7L/u/5391/c/+Pfbn8z/bv8r/0/8t+633v/gP+F/kf3P86/jJ/hf5L8kfkF/Gf5V/ef7T/mP+J/c/3d91H7ad0HuP+b/5X+69gX2V+j/7D++f5X9kfgR+y/43+p9SPr3/wv8Z+WH2A/1D+xf77/Cfkj9B/9Pw7fvn/J/a74A/53/cP+r/hf81+6P06f0f/r/z3+y/eH27/o3+S/8/+X/13yHfzT+zf87/C/6H9qv/////u6///+++Cf7gf/z/af+b5X/2t//n/K/8A88gEoEORI3g/d+7XoHHrNQy3hokIW/UT1CHzisYDASCaD+TW24MzMzMzMzMzMzMzMzMzMzMzMzMzMzMzMzMzMa9aGtO7g2DwdqWBV15SQKEbxPkA/7onF4qCbSLSZy6KDCk8UuajXBaiZSmTfBmIb8TzuocaAo7JAs4kT4tlIXVzlXUEHe10QHyn7GVriLJl8raCwFm5srbuMzeV1bf3MX3a4E/8fWEV5N01vkrTpGjMzMzMzMzMzMzMzMzMzMzMzMzMvCBjVM/jrY7vaY4Coz1nR1Mbt2Iwgzg4xvHPhrl9LrAhfCgfq2uQzDC6ZXZR+P5H4eJWO4bc7ffipP3hZ+Y5iG/EaeSqFa3mzF+MoIWpQyrB9EuHrO0ByFthu1b7sDcPc5I5lPKwleZHVzs3I5OYN/7EkxM4ROiq+3/AckRERERERERERERERERERERERERERERERERDAvYepo+WEyD97DmlIyKat2NcSYTQ2XgT70Fe1xI1EhLmob+kX90yBzQWBU2PdzksTvDJdkMTTU9Jid3d3d3d3d3d3d3d3d3d3d3d3d3d3d3d3d3d3d3d3NubjUX7W7VbWjjQ6BmZmTBrTIE/ZX1/1LngQdRBFxERERERBNOYGBZiAgboqJ6KsFT3NCk8Tvrh86BmZmZMDhKsKbIIHNwgbmKtQnhM+Y04K/O01vkrTksjTfZsuzrRGH6N6ONis4RvZCwnDixN3d3d17mfIyuZH3rYprXJK06RozMu65tIXyMLhrfJWnSM9lVOosIEBLgNYtiWSNkg8ZYaqFWnSNGZl2EiMccdJrhfKVmxmG/B4zRITLvK4kc1J2L9CXOkYZkzSJiHPmvq/F24SIpsLMTcXkBpazC3O5fyZi22Ily+oSkIPC/eO7u7u7u6EJXPnQMzMzMyatRxrdbttWGIqWa3EzMzMzMy39c/BvGtYR44ivDGOnkZgre8xGjMy6PfPu1e1HASACVuNb/AqeOGjkLc1KNSTWZJ6dlxrMvKPaVhE3qhjRJSJwQtTorp9PhpYtb6fgv+4zRoDBvbjkDiOK6KBVLFHTXRntqo0hRXgdAZd2bnZpRC4SB4kZWW+StOkZ60BdwOVEv3wn6UL1vkrTpFeXctVAAFdFadI0Zl3FjzN3D5vH5B2zXa/LgzBurZThme2EoTpFXQspQ2ajkxRQ7xPC2dYGEyRB5dl/7WhIZK4mRIecXq2ma1V79Pyu4Fys5bhTOd/rEt8MyjAeuW8zY+NYPFadI0Zl3kZCo+o3IXKYBNb5K06NRfRWeBe1y2mt8dDA2EFf7wY6mRFq9vPrC7T+Rc6BZJw9kOoLJAEF/WLhRw7m6OWaK5pB6t4ZvPWZvl+dMWtDSGqocuQN3EovwANVwFbKqJpHxGlENJpIbHUj9DaPbJ30EZz+US2tT1mZmYVGUcR/VsEGBXqrFAY8Ri9RZbb5F+CVx/fxppHU8njYlVvqtiy3WbUzMzGkzYoyhGnLaa3yVpya1U9C7iCBmZc6FwBhuP2xZT75R79gjtSsAz04PB14NqwxESL1O8BxngEJWXJ+im4Z2GXSM+Cimsor2J3hkvHq4f5vSQviGok56VdCxN2Jx0fG/W2D7/3D2qoa9jieO38qJnSo+XUIx5x4/H7PtlP3ScaP4MwcbjxbX0f5iKiIalunKOqfUG7uyIZzpYOPt8RERERC7c1ivTjzwluzMwoQO/4B92mIFb9V8nRkfDndVGeU96twq2yoXSfC36NXHu/rrbG8lRvAt9sCPgsdXyPOgZmTTZ9j9Aw+SmuCsMilfHvVsGxuMVhYr1mDtF2oWA3zefXv+UiX/0s1JIGnrbZwpaqk24J/OMVcB8M8eDpTUwf4J4MLqhmgMDtTFIudj027HHJ1lggbPZpI/pktgmSCIiIiIiC7os0tfVgNhG3wNsb4MyTu2uej5bjP+Y+I/5joxAs87rGsC/ZF0x3WayI+12XTbBRpOlS1R6j4qEjoSJK+m+vxfX5iVGmbQ+/nQrPTQGXqnwtzZVpUPX5pREn//+gAVHzoGTJ4M+oST5BSB9KxvGu4JwfNq0VwiIg+U8qCtY1VziQoDFBBTjxcVp0jRmXbRuLSqksRFJ0DMzJpr9aO6XO9CYc8gOI0q8uFrHd+K3nDF23fFbmVKGeHeUvXnDk7gIL2zm9Gn6g2W/9wJjvKUVk7EyNytjPEo16jSiuLS7sMEbbTpQDvgsmTnwHUNEotM35KZZsT4xjCD1jI6cVLuB16mE4Q3xPXm01rrMOtbse/hWexz3uxTOexDOnHoxpbZ/JYnd3d3Ponb6QT5O0ZmZmZlxP8F8W0YmuEREREFXpadTmH2bf5elDjkM/ZiE9qhRBAZ7mddpAG4Je7OGNLyKgxvEhEs6SWRnsnFwQW4dkW0lvPC+8UPeHrjg/zVHjgQ8SxtTaa3x1YhIJAdjLtPENNcdI4cF4XQGCNNb5K06NbSa4D6eQiIiIiIgwqI8LWgrBN3d3d3Y8uYUI6SHwT726oLBktubY7/MSEquiuEREREFSN4gYOv/TC9A9Vd1arW3N+pgFq/yWJ3d3dChQrI2ZrYbgmYWU3o9NuR/UeR/CzMzMzMychsT9pAA5GjMzMy6Zv6uP/imZmZmZmYWUko6OjH1b5K06RozNJNbY3yVp0jRdV3eFxERERERC9FPPGCGPvTW+StOjVILAlaiO70epG2Cs6JvkrTpFYzecj4bnIATzAVH0dlZJgD3qlax0ZmZmZlv8/DtvL23dPnCJACJ8K0wRimV8MWE7ax5wnVt6rI4F6GcH/wdIZz6WUXToKH7hMHghhXFFgtNb5K05OwIdKdfyDMzgrI6nSNGZmZdnRGqtozMzMzLf1x3MZih0tpB8yRhQt6phldNf+ALNqMa2fq1n/fn2+a1RLOnkmBNUn/hcXUGgkKqasm02OiNCSjVVLfc2GAgmxq9Bstl+7XCPhp9Q+MWIk3yW2GIzuO6hgIxKa/vOupC0kCRiLbVcBcLVucjpKWZMRF86fmKA3DsX75JWnSNGXeRcg/LDxm+bMzMzMzLhR/VcMxoqa3yVp0agGnKJexLSXsKvj/b+8j+hzlSiKQeE96Vz8PygtdaIQPXUW6KOcxyu9uQo460z6qkHIRwheHWRBcmkFB+g7kOIrjTVtnDFNZybJwg82ZvDk0BxDIYJptpNqV4LDHDwgMQUaIPlz7wj9wASrGZcCri0Cp8d+JRb6ekoA8mK82K89DpDB3GorKaC5I41Gl4wKILE3d3d2RvcwvvprkK06RozLtVbUgSxO7qKy7CMc0lY3sWM3pybdJEv1yoHaC6oWyQa39huxj5d0ZBIhMBGEBmZnmTGLZi+M1Q+j8LdRfB7Q3OnAHmf/HrF1mT8xu7u7u7sje5hffTXIVp0jRmXaq2WwL5aWJu7KKF8qAPIvkEPNoLjJBdG5aRFdKVoXjXl7TwLf+SPBcG7VHSgZmZmZk2kLDFyIGSqsM+m87OcPnOPwChmZOkaMzL/VBur04cf+ad0TGRoIdqSUy6bEQVWqif/bjtDoxKhrG5CRcXBUQF4REF16sGQydI0ZmZl2qtnqDxBAmVypL5wCKMWnXLDLZ0IRi+Re8pf6NAEm/qrVZJgpuAl87EonJiZmL5JaBgvreeaehbFIt+agxY+vWBLk8IwClppC0GJXLuAzMzMuFHS9hCmEmoYR4egr7QPqLwr0Zo/kY4sw74uDP9uQeui7cw2jHmXLZ9/lUm6NNxD+haNCoSSM9EWJK0vc8GWYvmuT3r5gH3Sa785A6QTL/Bab5ToIqNEMdsA51qGHtZvE35yVJ1wdZHbf11gzMzMzMm0ir2ru7u6pdE4Ho5/znR01HEUA8HJWAeJS/sZ/+uSpQl6S/aygeRCaUt2IUbZmfnhDEKLREkfshHbMt/6MlStArDmUtuBAeT8VSKv2cbSlsUqCP9O+f80IH1is+XtD0D9kshaBb21skHOdR/Gn3LRyg43oONfDMc0MUU3BKe5hVJWfd2fI/10VwiILS/3KraMzMzMy4UfWM5HLSxN3d3dj9jVc14LmMGg7YbK05KzPo23AwieR7+alZzlS0DyTENrLsfFXc/nD9p13WLnZdX5Ba8rcl9ZWDwn4mZHp64tjsggC+zncarDJyZf/JYkDK/oO+psdCfqXrmIXl1HsBNoSXOIiIiIiILfOJ5dSXhO7u7u7oGM1VbRmZmZmXCji4fycIHkCkYYtXrPHtmOfflnSlVVVUn85Upwwb7PrmkSiNAtvjyrm4U8IzNEEGSzfh+AvPVj94D18CUWXkLaZwoadI0Xa+h4+E11TwviSBgmJgFRYHjGVCB2mt8ladIry7nLlid3d3d3QMZo55KL01vkrTo1ShZX0pjzn008MIdY8nVT7jDKgnnRd3d3PnuHMlLWG3ZGlYiQzE/uCPK6Ov0gzMzMzMx5wWRZr7SNyDGSwKAXfTPTBa/S79rfJWnSM9PX9TYBHwszMzMzMefQfR59NwYPElB3FaYY0sTu7u7s63wayUI3RJzLWVSChFMkNx8kXmZmZnqVI9ZaDQw8NTwCi5PyQ9GunTaUDFSsZxLTW+StOjYU5zh9gaKuD0WjLeqVf6UZmZmZl3dldxWpUBB5UO6gJCo7cIiIiIiCySz2/7YTW+StOkVVRMpcpr8lid3d3d8hMzMzMzMzMM+Q6iwEGRN3d3d3dnND7VVVVVVUpePsdcGzA6RozMzMHcPzqmLy/ojweYIyjbHHfgIrB1NDhERBUK1n1+ESh/TGSOLO7AzSdN8z/VyNlDzjjsrTvujmUnaP87H4B0HwSGlqvOtEocbGk0hOYya3yVpyNKRsYgd3d3d3dj9mr3INnlMzMzMzGguK6vW4ogSOnYlvD4MB/hDJuuCps4C6dBlNtilLoqumDX2qM+Tzp6v7ENS3uE3xSI0TBeT0ksbh1hzzBent6N+sJf/WrPRJHcTD7LnDiswh27AP+fllziM3BUy3I3672YuVz7terczZb+vtyz9NR9EPy3b+uq6PE1g0L0TFwxCOTCIiIiILfON082UvJu7u7u7H7NXuQbOnEVp0jRc80miVWtRnV8da4+g0j1emk9Cf0nRgl3RsBjVECqoVbHJDoyi2nMzPzyZq3jF+DOwWEQ/KhE6pWeIZhNzJeJJyiPE7JzvX6vgzrE1YwgU8+mLMOkK4Jur0QAAHo265aOXooZfzlezwUlJeOEqzl5x4szZA0chS616koasJOPkNWj1gdFHSyetOkaMzCjJs7oqvYS+4RERERBZJZ9vqwLlZlm3hB1InMraY0ScCTb/t/TsD6RnWRUSzo8ENxOlPnugp9xRweLB/4m2S/DSxBM9qqUXFHqBBQ0lGoM678RGRNupONlV1nQh+t+oU1LOn5QwIYfk9dJnJoKKc7RPLjzmkA5cPwO1ZApPnuDSrMQRqd2I+omYQj7X1Rskh7lKwxXqhiIiIiIhdeOuh7aHwZ6QVfLdLTw3uby86p6Z0pnHj7/EkyBsE0iQDDzNdGQRxSCCiLZnPsxueFZuCwbQThf9JX1cIiIiC3X9IOQH+T89NfFXdvP6ii8+K8EU8eZrfJWnSK6rXHBmV7b10aZErryi9fPkDihdn91NCjpcN7wHhv8jPOmQnYSs7vckGkbpngocgpkra00ympIQd1ny06RozMu1VzbYQrGd3dzyrXp/EJBnvsrmDl3t0bmAzxTRa2tylbVAgbJpNJwpdcoVpMP3eURNZivThbtVVVUouKTjDsrC/SsYBxmZmZKlH//Q9ll3/80KPZcQXKWTvQVZbVLGkMMnkkao7XBkru1oPLBK4v9R2fU858eKW7W4IZmZmZmXCj+rU/aNyVp0jRdhGZjtY9sdI6qa1DiTGWdQE5WJP+sPTr5rAJsc3o1GKLpgKNgcdoF7ea2z8aAJ7bbHQs6rPTRuhTy+cD///ENG4AMii3JXFAhU4d/iOMKIcm4HEHvCf1gRozMzMy+PQjVuUGZmZmZk2kVXZwviIiIiIhcuACbbLQ4DD9buicImug/CAtNL0w3JxG72g2VzX+Gd9cKgckTNeOo9N8JW1DzMiQ8sAnL2QBm00kl1+1g9cf9Gc5Gb8TwpzKk8BRJ5NYh203QFWv2xPjp9kVxdVn18Vp0jRlyoRb0e/Rd3d3d3dB3Fkp4cDmMXapyynNV6RozMzL39kz90w6X6gPunsdrTThJn/yWJ4R7VRC9hHyglOxQfwxiT+sweO3sDg+bplQoQBzEVOux7wD6L5LYZ3/SdBS4uFfcrtw4JaFYL7DN+0YX9T+6TQxTKj6BmZk2oLwAD0jPuvwZigJgmBMpP9y8Fibu7uxtQBTsfXTcR6zjPlIiIiIiIiIiIiIiIiFguG5HgK1RKLPT9hOB4gwlXYhFadIrj3B3cHf8leB2/SQCv1M2KLLks7kXwVia/jekQ1d4P3A2fv3DdIzFU5T0ZmZbNsvp8b1fRpDHGFqajYTwlJyPKAF9mZmZmZmZmZmZmZmZmZmZmZmZmZbp65CpnbGddhecxctTN4Xs2hxb5K06Rnp+QmPMQKWKB8sdvNZ3CrgJR30GV00JhQ71mZmZmZh+qi6gnISAb68yG23ouWkR1mZmZmZmZmZmZmZmZmZmZmZmZmZmbXbG+StOkaMy6u6kpnMzMzMzMzM+oF50DMzMzMzMzMzMzMzMzMzMzMzMzMzMzMzMzJIn8YRY4FsWVEgi1Y408o7P2XJsAJR+sVLzthRhkiB5CQs3GsvobjXpB607978bwrp2PDlsMzMzMzMzMzMzMzMzMzMzMzMzMzMzMzMzMzMzMzMzMzMjpTjh7mC0JngAPUOkCWGuWU9EV9BWZ8Cx/1a7vw1rWKlas1jCj/ApVhOGkZJJvcyWCZvnThZ/EcMeJT2SUuzIr5gxy13NZ2HUWkPFHsqqR/BRch8wgYFh0+aCiSRdX1q3MXDu7u7u7u7u7u7u7u7u7u7u7u7u7u7u7u7u7u7u7u7u7vDJxTjSSnGMbYEbMFcwtRFrz21PnPa/wRy1eee75jEMXrbkXeEsZyonVRHxSc87K8aWBUNWbGOKr9Wp9o7SIEHZoviYwiL3tXaWKOpxPIMU4oczqiT7+CQQEVSPvQ6HFcr6AkgnvE65Xn1txdPUXC1m+StOkaMzMzMzMzMzMzMzMzMzMvAYqZeuE+DsIT3ZhvbEZmvBNNH2AGcUGWHlaGtYmmiIvvFpIuS52gdKRODX/iICs8CTVDfr4zNY/5dB2Q16kx3anbqm6n8nvZKL1z4F2Jjq9m45v5Dn0JFXe1VBaJNdrKylPObvtjQWHoegdHGKdvMxwPJ+It7QQtKfPC7IBP1jR94C+PqvCXpm1Fyn3OSO1UPNlA7VbIm1G5XimlAgC1C8jkxIg88be4CjvbjxW5mlz5VBJGydxs9O3IiiX6MPqjSM2A0VyWAu/qIAQsuQm37Fh6k3QzMzMzMzMzMzMzMzMzMzMzMzMzMzMzMfUVrPZ6VTUK5wub4Ey03lk0A17xZK1gxGNRWlSUbTB17RNvDSp0F+SCo2RNSIIhjHUwB/l/1fMlt7hxCtfjzv9+QAA/v4NNoO0s87V7L0o8yp6V4DTrkX7vktAb/4Z4/V5wRz4W312/rq1ptOoBW1pv1Hud0jKdXzp/n3ktmz68WvbMERGhrfakkJGoMSjnpMemHX23V8TakgtyiZ9Mn+y0PgaGnocxlv8a5MEE5fQcXBbXo8MSl+gd5ka7Mu5kezIxDC0e/Bftsw5ncAyasPd2mNhAWJq8yDG3JbULyFCT9sLqdPgIxRmUoSUtbxxgItaxpjxUMvBUIxQOU0vpWCbf2e+01jX4I0vnNQLIjvTc4Glt6xin7h0MaWI+gPHSFdITPKaZ5Fr2BZx2Lmw0inQALa4ktXIpMZQ85U/qULUh103wLAOaKNyyQaiXZdr4PCH69SHmoQrE062d5pvRtaF4pUvbcfQ+9PuJKWY4BOMY3KMcvNs3ppPKMxf8MtuHyH7ZejivuP8KPV7lIOR9uCmXhDwVRC4/tPAy8kUnzRGpmNQhWBRFNes38rdeQY9ZjglNlDtRkbxiVuaB2ipEcqy+pHvPBZ0ZdpFQfj10ocUrf2HL0CMfU4jUAwvt5KlT+NKdKykZ9AKiXXucQmf5OmVDjbarXcj3k6N0wbk+b3MxSv2JntJuFlAskJFZaJKaFK3iHaK7+anIqFehUTj/9kmNd35Qz9H8T8fXdHiFLRq1ud0LUapCPbQmS3YJkbSRiUQWz9kuMbCD9P6LBUB4U/GV6pC5SexWzBT8H9xi2r9Tgn9tAHgYCnxWGMbr5teuLThkVs06RE/BHGvO5m4U/mZ4vF27jLl8muANwFM4zJ5zLB9wOmOC+yWv/e3jAHKosnKoV4B2sXjxMs29OaAUNM++9vbCZyHd4lceAO3189EqXzM2sZVhuFmpabbwncCFyoRD21O5G17XbelaQ5G4nzzrMW2zMGFTmvronHd3TmhL1ilUw+E9Dyjdvl++5o04pEEjm/+2suc6AhiK8kJzxjnVoa76jrgu3NzJPAw4abetKfSEmAtAo6+gxjDTnxnbVUymS4L0xvxQvGhBMbkcCtgAilQuWsRqU6InEJ12N6niDV+5jLUuDY+BicVr8irgwznPwY3oZzbWjlOLnzywzCxCWz12dlq0T+Wc1gnPxd+JWHi76IRHN2Dn5kjjSXp7BKL7eyz0CWC+1v3pvHDKy28t+v9TfkJ/JCe0JP050oP+V8QJO+S/ceKdPpFlbypOQb5/f0Q/vx9wHcyl62q1b85gW+XOEHlwO/zI8Tg+I8jSuAH4nKjG3XYeH9lrSb58C7Ha9Bkdz4EXI1VS3yyL6yJBvu8OK4cpjIDF3mZhEroG0N4WMvRud2IAsjQ5PzvwotaBe2XrvxrDFBgX8PCm8CYoQt13fXX3FrTOBAuxZUXKD/NQs/eBrfk4siIo0XCNR+EgIQjdIyVH0V9FXLhzDSJBwo6D/QXqC27l3l38R5SPi72ec0dFtIUnUhaFZiJRJHimVOzl3qYL/EBTGDfNvjGmhkva8+zmraYAZxoK7hhmYvVfILi8GVUf0UoqW15xEl4N2TLkXmcrgVLg5OmJ2ZsWKmvULreNMNzMBdvJSxTZbwdKKPGnK6Hk3IsXIHy3fj0aQLJsGx5MWyiz4Qp9nvAOUoCWDLqynLG72op1t6/+WgDkuFM3y20+zguNiWlm0drkjD9SVr/5EjEKrMEJ4KtQKR2Cm4u/b1hxgpXn672HcWN4KmVuouZJZyG0MljJ3xbs2MXfvLCFaG5cc3FDonBKL3kDlhmDFJHD0tLUHfzb89C2cHTB9D+rzMokrVo5LfzSfTAQ5fAE1jqHBgE6bDA0j5GkpAilSjfA01+I89zQuH4c4Lhds2hTnKCI2lAimRraS2/0kQstE8eXIfsfdtN5Pk4/5ZkxUdVRuvwGihCuFLb18/rfD9pVZD+uY1KXqVN9SYPAeN9wcrQ8rgUPv0N3jjHTmt/Em75Nscu7mqVoZ/mgmMGyjTtRiEvtESy+UKcFoI7NmWUT3el3ZK+syshB2DjXcN27AR5l6tt6srbGNyMYyN6cRxABfoKBnKi1oGUSpex0uAGxOMDXecRuEvu3u/jCgILvxw91B/OQBmyRdDiBAoWjcLSO88F8hk5V4HPuVW+KBkZSUTe8brYLBBRPwbD1lJanjBDL4lRG/9g59Jp1b/H+yhPsKkb2p98qrg5XhnbHK8H5rJ5fkXCVAZ+Ie+Z9gr78r0jrDwbCyuo1i2pd0vguODed/DurQxKw6eWqU7F3YMGRYu8VLL4OHtNFdxn4WdztUx+dXYGs13s+BjbGviQUjb2Dwatdhf029uxtABNc3dNyqnPspXENcYyY5XLzVOwoxd8h66W2ljmDyo5N+N+xLm9wnT2zRVNYYh/gRP3CUR0WPqE+Em6+z8RvrIqgOc7kErylPawl1OrzXj9k9j95emm5YFXRakQhIGBJjpTGkN6LybtuJxz2qVrUP7YPLzVvjw7hsi1Ca4aZVve/wtbJ1fxtr1JuE/q15NTnFLVUfP00GAKQ09Gtac3ASDC5OTPs7BEhCIERYDJPsNunOzUKHUL43BoeinH0MSnpZphGE5KL2y4NxrFrIjFrM+Ojj859J4CwvAjoDU378RU0aLVn+zgFDabWiu24ehtpH/xecl5uPj1qgqVhqVwhmSze8bAdYMCFBt9e7O+VbAmUjZRnBxzfIgQlykIE72J6bmUfANYq+Bh4E9XNa3JX90qEOvXnxr1aOZG0HXhaDrKXVL1WYrpfv8+xvc6usNHb4wGQj1kGAeNM7PTWyQNYVeNu7d2X6E8A9oaQBRo3ckLbiZxyPIIPOfBOxEKj2975SmLeAPFjCYiEC6F8m+s1Tca1DDKqtIfntvG+tKAwvqc0CdHefyzp746WfNXNmCJGHmdOekcI73UFHQbF21CzBta+/2f+e5t4mPWLNErkzhDIQ7H2/1jjmBAL7HR3qhlv9/bOgQRo2UmjPvkUbjF9bwaUhMxNyjYVrEY+AvGTeHaFLHLQh8sA74lIEx1dbz46BItvyl3+mfAgsZxxno5q0ERUxO2dQ9PCG+xAybrv9nHC1racsDUziyhE3dIR/NXEN/gHfuYUr6THRnNGaCMS/NUiQ1HWWNEsLHX/gzHLvxGWkIiHY+W/riRD5yogGm111e8j8kFvooFZQAXGXjiZiUG/86UyX3X/45jQZtCHvC7W3OuTG9GETEnyG3wBzdisvTR6ruELbI4eJNW/Ks9XXMhRNIpUIBJDgLoCTlHpYsl4fVxCU/vhcLBDlLahdO/CnMW3MmDJNsGhtYFBR50aBMb8/HIN9oXAvKFFNMg4xeA40OSxuZvcEtCP41ICfGK+1TPUrsRZ7quP1f0N6houBLBxv4TC+eV3dAieiui5pf1GmoyDENxjXXLp33YB75cHexbSzw5w6LoXB+rq0dZ1eKl/yRB9M3fieZfZv6q659L6XDjE25LYZ588SZ8Pu/m6e201qda+aS8uyuGffxIStM7iDREn0hxOxsGJGqwegatHY4N/xW9O2scvGElTDdZlbE5zx9oOTsj0UttpxGfCfC2j0hbpcWfvcBF/jwGv/5s6+LBOnTj2LGV9Rym1zzIuHn11H60+1Er9tN42NjEYDQgAEHTH5Pv7zuZfpl1DiRyJNVQ0rq4bEwkJ+oiXz34ntvRpic5hUy+pRI8G5y37wyCe5y3WFp4KnAFun65Sp1BkoPbwUYWKGv/pRm5sd/DBT6N6LRWCPVqGfSSTX7xCdnZRVvM1d1/FuvKgExy+idDBDt4jbCMTlBpxkImj1kfP6KZydLAj0/sT8Z+QCSRSI7ZNgnSOAPiebi+4ZzZlyN0+9AOyvqQx905R0ZqlmjigtoCOXolhayMDPxkUqlzlwfn/c3j/c5Av0K6TixCzhSy7WgLiW44YRZvGQ/mzsFFzGKCDFdSi7AbubMSMVxZQhzhohIQrkcBOEHLeoRrfYdkLzO7Fdw6fwYxaMfZ8w03v+bHvmfUg4FMiQ3IHKRecYCr3tKQkbFYQq2J/AcgDEnq8+C4WwLPTtE9/QFijUiuAuARWGg/8JlVFMSESRIMexo9l8ukUUtUl3u/h7xaWSS6mzcyaAPEqiQvnuYqFfugZg7AP029+YT2jwoSBsUgNDXkq8uk5/lisNkbQAc8oLYnj8LVrtB5VilT60UG+SZq/IrwOdh3MYHeHkx7OUi94u0RgBx92wtPtEGDh+/ERECb2VMIAADURYVSQZD++uqin2UPcA1h7cSjVsqXyj9bOO8BSNculU2PhMh0QNAtPxuGOL7hClMxwuIUITTRiz4b14DMfd3Ric1QWKkJ3Q5e+fjZhSIQ/ZLLlHGB1hCSUktuaqlsDs7xg0aJZ88MofjGYHep13O0NsEnabix6acRNDVZZiTOdNzqCc6TrF4rY6mG0y9T40EXNzS5EDOciOOm67ezd2Rc2KGQC49flq7BwePhLSMwisOIrxseuMD9OjwlLxerXL3KQ+/geQ7o+Fz5thBCPGivjzyrvCyh+ftq01MBkvDe3Ug79LlO5dZBzxCU3I0mGY0TiTAFKukAawTUwbPQIgWIjpiTQnTfeqjnuiE8bgm2zIuviiXsqzJh5j0KwkRBQU9NbAaGMfFQnGuD3zYhVgyrDLSM0On/SzCNzOZXMQBGfht/SLix4JXtStS7KUxn706x2r3Erme/3qyr5Y3TjudMiW/qXRpHqeM2YpkGFBWTkGcdJKqRXgbxclZiKg9WrxhwIC8THeon2GD8nw6pnGm3Q2NyCT+t4OcdZJboIUinWyJDvoc6VgFD94k8iXUZQiWwRFw9VDn+JJ5EuzQ1Lso7pHkxhCmSeWNIajaO1lIpVgabOpk76FXQzN5oeyIhQZaybZplETrrN/p8ghb51ux0SJ1IPC2G2GyZZ24Jf+jOzQ/0CFoD3eSgdlQnKGSSIVDmxXS0AursaVouIxu5Y+rfujozaOT5pqBaMeK/a19MRQ+/4SJJpv8GN7a+kpq5hm3Dt9x44RNLLZI6/5Y0XKLWNtgvykHGsRNnzhgolCar5K7ZWAWcnKTGy+M9l/JVe7jN7ilL9uOAAu9V2UPUIVTys+10nh6yUwth4WN1KAOCF+TwtA01/CthPZt7zw83+t2U1Cv9BZ7T8Ynl/Hj7s0GkdxNvkFq7IJBD39pm4DolGDpYNK2KwC4aTHVsgK5fFtbK53/GnAbI2dgHfuG/0diGFpnKLnu9JjDFoRfoaB5KEwe6ajmmcWNtumNeRhO+2Jg1S6/8oh+aTYcABgICob8dC+oE69Wknkk1eOCg9gt5JT2P0zzvIxtNexEDWlQaGuhnIKSCkTx2svevcGt7LJnCfiYdpTFtXRaWiYoyE4jMFszRZpyhFk/5vSnl2nYMDdCcPATUzZpsM89YZj25knomuLVA/dbiuBm03WbxDBHiqkKDJnuLJbk8nljc222LvWEV1zTootcgVTVQy4SbhOQib4awTrwQps0dH36W3Fwtm6EQUqHU4kvhhGVecg236fJx2c0uZiwAVV5BsQQTbi4ssj5AICWVdWKPW+1MtsG1TJkyv5k6ho1xYa0YzCq8PWM4nKmKNoJA5ulYpyxGR3c/dEDYkS/cgp3smVHhiLWFE5JSSfX2S5aBk4KQaiTwQrDjsNrWw2h97dHlp2GfJkRAkRbz9PEsoV6UB0VEEVedavxDn1PGH5DlJLt/iGzHJmZYS1Co0RFqQIdpk6K7T3Pz8oNoYfDXI335SxftJpcBMuwhGojHobdtjbyhFANSZF8+NdEiO73AVVzW/xgxUgb0nb41XD4/bRiND1nrCl6bMYiEtEarNicqa60t4gwqok47X0kp/9x9VrgzfvyaP8RpCGQBmKogfPJSgRRJZ/5GrA5L1r5vISXI4Q9FHZK0gN1MEiX84pguyPowy1sD6v7SvuWXHXyJBYgPXNDplkiqjiM5tCE9GLtJeRZ7lRz0JwKMXfQM217A/nc/Skrc05UcinNrjEi+pgZM9yM4cgQ3lpTHpCgNSLyXAa7BhW8kWzPXg5+Dbjt+pBPYeyUm2BTlQgq9qJYgyxGdUm/fK4kxIy/esnuPXG2q8B49rwbkvXIWMrMyvLXOKcNMC8xbH6Zpjav9GnUrBSYEW3h056s4Qam5m6Y4IprdSJidLyDIHXLNpS211rhVHmMYLSgREU05vMxjl4P3zI4d08KSNga00HkUwKit+wljqNZF0HwuS4YYBxF8YHz//u1ICrl6vn1g32fIq7jQkrz2S4UGUU6fOfluOFTongEx8/Ks1S1YiPYAhpMAoFXbXTM/fisP78/IjyxMD3RyqeUpN5WQRiu7zx5DYeKGExpwmu4BJOIOqPE4uPTV6A2S3BP252tU6kcgi1C2JOEUS5XhL8Iwmh3xHoc9mbBeEmrMAC+jc0FhPa3Pf814tE9aVlPnWi9PfXRaIJN4ig6fU4U+BPZJc+mRAS8b09UeuzZFN+QYeTp/oW2u8seWvXfa2835TT+zOSGo7+V4hAysY04nrxVYocn3sHgPXsSXf4kBTFO+Js9j1w26c4lN4Epw9QZrdj5UsA6Nw9kjpNxTQnb6sObc7J/W7uLPaA2+IuAi75oNXqztrgLEEEfC4jJcsYDvyU5QSsXXF2Rc/Tfo82iK8t33hZVSSMYhdqkdJriLgTvdkx0OlFVhT/c8keCaB0RQ9VM1uHyiDJqN/OD2w7AaaNaIvGe9PuT4DmoitYKsPLL1ZQ/Tk56KY0oc75xsPweahy7mPsEquvNIDnmCQHekXHZ8fbqq2RDUog0g/oVtfaOrMNw0QUG7H93FMOH9ATDuQLMJZhIrVcztnvvoz20/29rh96M3PfgYulAevqxlpVTrJlUCsobjOAt/f8jokpH2+ZdESXdizwfF+74GVhlTRYuNr0btix8jlaJve8CGRvQ31vqWuw37ql1NgyyG3y4wXqIullrGvVmHIbyMKjtzl/7bc6I72M+lXlbxW+hKYCJoGfYEx64GuET+v9jzo4/xeqTOsgPCTs8PgNwRTrC6z7dPTkB8X/jQ5cLVU0XkhF+ez4x23rA7dKvIDdgvN9oOKSiSZO4RP8wTYnSm80UQWz1q8qbFltOg9xQezPaarorUam892Xrz2egFk2ui2nChiX7l0wNQBouo9jRxoTbm2ae/WHicNHjaEkhI3naxO2g7LW+0/809CXH1LEsWNP7UiJGRZYIgNY57hvAyp1QuT1g1MskctdBh6aBLBbABnH+MNbTe527YURrynZlOUPmjhPyWEi4cDDYyYrxuxRv8gpzgZoSuzngABeC+cCJCAswTBX0iMo6b/tA0TQAbMIgQFt07gUiDj5IbuQBZTD3VGhYYMpXuyoCzAJWsQlPdLFUoHKEiHyPGq9hpcZ6HXuOfS6zmbTrKq8Cs8rykP7RegCzNqAhp97gFayhyyOor1ZSmgbsGW7qO7EC7twEbV7P8lZwPdZw/9sMRXwwoCI/7pjYUwPgiWtRhNi+NDZyouThlCudpGkqzpfYBlrXlmTzqbqICzqe1+h40vsW0Wr6DS9mUd9gHrHQuelCLS3jPQjcAH2sPY9hTDCQtcQj1dAO61aWrm/tHIGlPq+W3dzzTKWFQ0yjFQCdbGm8ewbsIbaJKNDC0WzWL+XPSZc6EmLsqVG9yIfOtXYRkFs0tihNOVJXzXpDd0HrEal2iuV/OPPsnEBMD0n6IfFuq5DDXZP6J/1M2jjFE8sO2Yvp6dIq9o6l+15fEvjUERhYX00GcTctBoViyhPiDlrE6W5bMIaSIuYVyVXkHNMReuayi4MPOD8VeGxBAFsASypdtVXFxm/HyLuybw3MEq/f83fG6/Coxg/wMWuCyM636TBh0YGLS3zkPYRziizvTtlWmvYQkVkRP4GN2SjZkSfzYMEpnmNxvLRcbY+ljGPUGhNiOdZiVT4SgdXYYC4FiHbBXxl9xYUthAhigpqNPOkONoNauud87ermx1VkSvKxxdU8cmZxwT5racWrUTI/7nkEdDNuEBFJyOG71EyxwKcE2QN7Alni7PeerJ0miqX475jt1MEqQJf5kVSk4fxCm2GHL7xZWDLaOWaW1B5Y9VnZJLib6bE4JBCvm4vN/PDTCfLxOreWE4dpxhPBdoQEbYpLYo5hYFiw1ArA0rWgNBuG6Men7x5pxJRluMoxz1kwByLISzFNVEsNFyTzQS2+/jWdErLPeG3TRHc/9IXolO/Bq7g3QSziANHwjWalYSZfQySzvHwyjLhJhj2yzIIegmLUwaWehWgLelsjbJ++QduhMdQitMgTd4WkK11qF8DavHfy9/7919Z+uw76qnZUSxMKqv5d2D3YUcHLjIOs324qP09SZoLk8DKzbu3FbNRVqCXpFw7MAnTfQ8a3EB/smUXV7zfloCrk4pK3jmswI8qaoavEzq3VhsvcaKiF6QVepkUZHJStd+mT1smrlVX5o9vfyHBOv9tIr/RWWTNgqu4wBY664P/rpxSSKIlPSJNeBn8RNczJ6hp8QnIrqAoT1QeecmBto8SxxWBHwrsjzcNBGvgY7laI8RW32/zQ22JpxkcZw/ONZZbHjkqERTiOqRn1Lry3MVO9v8J1Mb8KJpmhe5Vf6+QjgrAvdLoBb9Rkv3/9o/OivdC4p4hsGCqUz7+5Weh0O9aM0BnGh+9hxrmvdb2ald8rd70Q6tbJNEwnsQ97O/y810PRtTJkLI4Drnt3kBiaZZRoySJRWsweIMqB0Kv/ZWxuTGHQw+xVKH2XCAz+V0HKbxHkM8UhzXzjrZW3HOAfCAYGGfvTAMHYuYhQIDLtBkmQZLhAhPqq7QomCeFLXLT46oYaeteGpkpoG8jeJ3IomPAlqhENfArhkiPoaI8NdfRfnoGsozhNBRkqCxw4N0szZTzAvVLJpoyhR4M5W90x2Szo1mT/kLqBrrN1Im30LXIwxK5zj5u3qyMUNq9X9enntnkSYO6Dp5LXv5BSGYJnkl14fSWBUnV32JXQ5Cbl8oF87MUTFl0zbjkLEa56yir9Ecfy0Q5thtEmbh/kganNQAWydBVap6Qm8/MslOTkJAQN4efshhtcmW49jSleUx/3PjVz5vgaTMEa0e4vZ1ZJEP2TqKwg74ESL+HheVeTyvKnvOm/X0W6ERLs9gTgHQ4znhIBuWPgw5tciPJTPpUgn9ukkgGGzoq+arEg5F6YmiRR2GODOLhYbWAaxux2y2aLejnAns4Mpwlr/rHfhL5SCFceNUf6DK6RtxqH3WTT1dQgl4z+8WQ/6asDGdo4FNHbmbmt/whkFssbwKB5iMud614jAHSjloYuXZTKTZN4MIRiprnYwcIlJAfF891hv7hNEBYxNf7MuJgNES454yZkEpfZCthPHc0J4J1kaTR31lz/uVLT/FJ7CwilPr9NB3u/p8aCMnvnMsGTCNMQC/dzW0HvT/RqB3yDxwJChW3v20BcpoPWIKTq3gzsdAFcD8t8lz+EMEytMtLzkUIDRkrXgJm+YP4/Lw0GNqa5DnPCSCtWWb8L3hKgh8CTJl4D2CQLPm07o7gA7/AnFHb5gzO4cfeZpZ+kozDPM6lfKRuQbaUsDIBF6YVvpUFpIsF4/k/5NysU4Lp5jguNKZq3OB1KvHHL5FhoZq4h3YclOalerpOWXxsTOYfCI53nkqHq0+AFrB8P2eM/1PPr7VqEE8ME30c7Z4jRlFjQ/9WN+Xs64ldhqrsVOVfjyUgqVWlXcTzNeXZ0n4vcZ2QNMq5f4cYRUvGy8/8kNHAd5y9xxCDaja4KXK1+efYJCE+UaIaFEu4o00YNokuu9fIej84AXTr/wvjaI7FIp1R4AC/eoVws36zp6Eii6Ncd9pznyuzeT9EeSEnViSrXmmbMqSdLys5E5bOTQTrrFkoeotS+I1M62qPHA9eCZV12S5mU/HjqmoZS6xQ5z9mLEeXPDLORjx4bt+gtMgnGxIXj+wAs9bX1gDQ2bw4uOifcYgvKIthDog+bZGTKd5XpeFRe0l4tWVTfCeetz5BkfkhDVKx8PLMivz5qp5hejytA8zDiPXHhGx/hPtIFph7AyYXfzgvmobskd43lcHDNj/dKzqpT8sMtfeLHN/4szxGq12q4iP8g2s+fP5mCW0l3/qAbPMOGLICe0sJvTk2qZdVPNNLYoXmSnG0iPJVckE3SAxMhGtHsFnE96L3I3cDA0a34PBRK7jzNVrM/BBMMXtRY0AXWKI84PKhNa4KUYWkVId8jVxX5OYsol3FEvrZQuuF0EzRzyt+fXtU/xgVYEMfv1CIlKzklzGCIIcnYnQ/bgvqsOGNWOIcthjFjcmButvF20QP0s49NY/kQ9b98S315z/ZsmGvjA8QMHKCa/zyGdVozno8LDwPgjFDwuMimUCpnxIfzezq7JMvaKFFzjzu+VGGXYDDX5o/rTo5Ry9hxk/bHh/A5zjfgacz8fJUWJOohB+cA8ASyp2ySOaS47WObIdLbNIAAABJfTYb9/ObqgxdKPpGkCLFTwJr7pEzCk2QomTlCrMQ0XdZsZReno/XxXbzeDhwRC+Y5DWQmArGMLKY8x8F5cZkgg37sykMrMw9RHmz066cQwWK4oXSVUzLqBBZ8VuVy1EFOSov9Ea2R4UHkqKHhXRpYt0FdvPUW55WGU9OXFooGmu5GtqvIJo6TZ+EQQv7BiY8GF3cwkuF0W8KhluY0Hr+Dr6R2WOnNtYWXcbbGU/Ak6mciWRt5baclZ4tkrj0uLj87RWLJ6Z1s29ffTiLshaqEQj2FHDs+cdfOR9a3GikuZxe7PCqpGA9Jo2SCweHdEwgqnxsehtp/HTmTu0/x4sB8SDKClIc/nuwI7OxZSLHTE2i0X5onEaFH+eo0FxoNXBIxWHxxiYVThEwrnhd1tCOO1KFi8I3UCSsrH6p2rJOz1ZWJyeiW67rS47lKrBrijkXAK/Gm+HLPY7Za11ShZV47r4tfJEq4hkTdj/4ZYqR2lDkPTQxMDpZpwwSP2Cwu/ZeOnXnalWvrcje1LmSokuVenZm7hpbReM8kbC8bL6WMF9RG25NP2E+HgXscmg3DXPYUC+O8swM9AHt5sA9V4957A3oqweprVjaqcfsdAbUO2+rbM3lbWYiMdOy5kgCsvkCpZ8t8CApt8Jn+Aury1bFpgsiXoX2/Hz+j5ftyaqjXzCQRvMVj/gZsuyO7MkqSLL1tml3oA++v/01x3MJafJd7w/Ar/JsH/xjZ+VoYm5XsmUhV4Yg9dpesYqnd1oHIPbX3xCmrHzVMLJGbiNoL+URlfhXHVS37mWJ4BsRZvUbhc+GfKbKVbe0x+XkLZLVNqLeV3SB7GAAGOumFdXqdba6cAnEOfV3EA5VrJLwbJNEx51ej0GFbH4hsZi/uP1d+F0GbM1130je7errNdNN71Qecc1VAlRJLUniEGgO6xVXFhvXWojTzed7nZCMDFxOl/mgjhkhdg3Y23myqIG+H69CrLDo69rOr7QBQ2D0l47ejrdBFIV/GmAnfnSzVmsBRv/HGLP8q/KbLd/XtKR5HxNffldGGvbKkTTexILo3bvvl7I+U63ZGR1N4j/aVJ4JhUqo+tQlTURmG98f/r0eL74h4DMdbTy6/QldaM9kY+t/1DNC7hP3KMl6fNTCxuHnDAr8w4mup3YM91TBamWdmw5mbScVaqoEh9Rg/K31f4JHVlUnK0p+n4FEVaIMSFGeFc/nM68YOKIdoJAfOggEgNAKmY7TNrv0KbOugoN1oMyIBNYPT7Sbi4bkTWlTfCcgS6BqLcqwCxB9LrLeActEeMzXoADiDnSDhoNHU/WEaQ+fA2HUhmhmiO6dILtmV3+NYOPczET+lhRwx+BpQ7rfBVAWplMSMENnVDRFqmPFZOZxUEpdJcWvXppcjFH42ABMlIRpMFEBYzEwemgAijM/wgBZ5S18h7feThvRgyBV4alUAlKotge75FIVjI3GjVDQ2VOGEKxo7mGpEEFzeAKarrem7KrNrApleCgffdXawXfIEpZ9UNBzSO15pKaiS5qoHNHR8AAKrQARxikKadn0KBR3glcy21Yi2foeGc/c9/2JARpu9RY97bzPK/ukwlhFrrSFj6S7eGektCzKQFjmtS3hK6N61b2zDd9wH5moHVybe+FGbdqnkYoDJd8CvRJ/quVUpF5P/uLh6xHEBAcKhFZgRjpQlw0ZvTdA8S5L3QffDmSDmaWkd0/TCTPuNUZv+Nf9IX1IgZAutp9BrZ1kaS55C8X2K6lvaC3YkepqM+zccquG3XDyHj58zdU7+kJrMLjLw0W5arOVEy69hYNUvWAl/EoM97ITTO2wn3U9W5EHgUOxwWfPrdGWNDqTC3z4A/kfIOI0ZzO7jELOYSNIDWvl1/5SVnwtu7VXWxtXX8cjbGPnULRsvwqipwqrV0OYefwGzqB94c4t9kFf17tpzXlUX4qUidHcL8xbaQHKA3WVZVWAQXrwbfYVbf2RVywdeHe576DKYtO0wPaqGvBm2pJsMSgi8MgCmlu61VzzQYMwFPVnJh+qQ/M/OwtOJes+pAqfMXa2SWkQfcIuEpFa3mfpChjaM1icY6kd6W/GEo0LOjAIycFFsoFtxb8G3nB4jT3FzRZ3Jkn1X+cKwu1rif0aUop0dG5bW4FnmeORSLzkJusX69Wo2m0rVdQEOh7A59mW83hnxMxWMY7gYlAl1N2FRUhzqPmR9uVukyfm9B4+bXyf/twBDlaJMv06RGAksItF7YuZUdI0ZFCvEEqairM2IPOUDp4KFO+FkLgtepJjLnKmoKM+4PBpd6GPpXA28E2s0dtewlhDbywcUdJQZ0lb+/HhbcnroOV8YCNnKWZlpwv6uThheA04NinEELlT5Iihdg+T4OtQjWddqWpvsq+6wQgCICz7ZHHECyZZ5H8VDmBPtanjsauiAI888z6oXyVP6w9nm0WjLrIcLRCvPqG175p6V6ZRNnR0hmp2s7WoldwClbTwq9cQ+pOsV2G8Z9p/AH6cT0io8X9d0K5f+H/4sLAoNAWQgaPKzwfbGsOnFxudxtzqdJxmXia7KXmPiwZ/+08nbuaic6cUThbf9WBZB95hQHlVPjSVIxq/KhlcsE3MB8NQRyY2Ic1XtvDz8seHj+hFhAg/yF7EWczmQ/NrMMQZbZqVRR+FGqHSxT+ISjDxIhxOYdbHKjw/+BXoqp4wII9lzBWbVAgPRhrsvCwNhTwbA43pHTGVJtdf6dOkHc6MNeHF80umvmgmiWzk7P6YaIkngjGtA99ixmrR0mxc2BncnjzjLCEuqzemnEKm35F5nV7R+7HJKWmcbT8ANS9jlaFuwO3yG2xLch3ATdZFV3cFznsSDPAWQqqQHwppQW2iYQTTOLO7jheB6XrW3bIUO8OF2vJWeEVMKTjBhbFfjZ8ypvqHRBgniv9JVWi4XICZQBzXhcg7j2EZVoc9z0ShfvdlFJEdEkB+dm+Bigl+g0OyTkc4wdp9GZav21cUrtqTE8mm4sNfFOCmR5Q7xoH1zKUqouTXNeQWAvuMQeJMA+rqXXnMMky5PMe7DgyIUzxeIZ1CXXm/6wK67OiZeJCghUdgjiF0dukxKhPPkyCmQMev5Uvnha1V2XxPpOIs/W2aCUdYAZ4LGnQZp5tnR1KqqELUdsrL/PNHxhn2UllfbZA6aLghP1NVknBvO15UQyTVmDqX2TKBrf1Q8alxNUFLVY/HdJsfLE7TpPE/trcbsXhWQHpZGbeRTlHRa2d5THeBTyaemNRb5z60Lx0bZbPVAppFqepN9Pl2+rWDckZvxU7TFDHQECZt/J9hAZQYC7cbBqhYha+pkzjg9Q1AiPjAjgPGCtcQJOCg9QMUzwxK+LIFb6NFAhGMHry7PtHSG6Jf/CnekWTnSyl3hianU5xoHhgYAA5gm3bBoW3WsXZOwjdJ4iwwv5qDADq4XVqztZpQ1Z210yGnAfEIBEfyQdkIUqNvlci2/YUSy4S4lVM4iA5zkE4bRVWsCB3ow5VUGxTugDqRbDbIZ48ioXfN3/lurMNh1A7UoyPN39I1LzAjmJxo+Zro8nkQWgtmlXkJbXCSxnT00XlFxJ3/tEsYBGzeNPYEHE4jFucUw7V4zeKAK/jU44IvWt4qilHG03YraVE4hWQV42yEBYXNNG5k9pSGc0jyJp+3eEMsdJswv9QIYM0LnAQswvSogORygtvriQIY1OnBJo3EfwQJqHDUDKqVeznzYxJvyhw97VL+44W65tihShNJk1AvXCI47biTok2iexe6oGudVBrVvpZlrEPkdUwj20aO18LbmEyTo3OyV4fOdjBIHSntFYJRzhwCJQE+X811m5YS4RMujpHaqdIOVexKKaTEgiJJ47RQAdHDeyao3lbSJBwT/OEPNsvP2tqM2P+F1NMTSARaa/WoE8YLvwd8XpzVx35Wr3PUPUee+wQuWEchEHMdXnwrC4L87x3bNYUdg+Ip0wn8SrBb+PMOXEbMQSb/iKVkTqE2xbyNdWgsLbQm+NeYL2E06P8hfGNDaVVl4U/n7/aewMkFF0TFPFf6zgOeSzjP3gQQAwJFl23AVGJV0axdCeYrHor4AlaRZ9RQ8c+XGWxTxxTGWVIsd37C9lVPsqZ9pH7oCmoUjeTnSvE4xtBlVKLSgYvUiC1e7TNc6l48KhO+BZ5DXRmI5Xo0iAGGXH95FKysI1VqVJ1OtNi9Dekd9B7QL3srKdfZ3RzNu5UaUjnaNDjPhK+n8FB8gDg14dATmjtsJOELbC8sPJ5vCb0Vav404pGatQFG9NcdV+B+PgqRlUzGkI+tlNhTFdTPhDmGIYNePNWY+GatBASgiJNhsC0rYhlPowFbRIvpe2yApJzQH+KJIopXc2McV0SAup7HITuPxfhVqGqUZZUvNDbR0rRfajJ6uwDTYImhVca75lUcHroTVncqU73MX7H/KeUoyqxmo6pv/MZasJYBRQIWNNZFWw0t+hWFrn7PIXVGRL6wAUw6IuVGffnjRLpyaDBKVWh5btmCgEUCAM1OIftRll0hLWcUuv/rFlGn+C5QbYJCaQy0fCOQ+MpSey0w+M1uVHYtKal+E9F9Urpwfji5y1fnWoKI2/I7XJQyuXIwpeMe7bXU8ePtCoFcI/Vzv9v0qJkKOEzT+DuwSFn0+POSqIoO3TFhh6/dwqzB1UP/bUE83gZRRcU+n7KW8bVSx/N3aaq37wi7nmi1G5iPQypHYPIBjvnoU4MPkwHATqtIyZbNwBRdN4mk8OToeD0mdEWYDvR2f7vodrobiHm6ZvTRAvyldDRQABMR+8gA715GmweqyyBYlS2+lyqGbGMILwLzYCLlH8Le/gQ5cV5N51YkoIP8AN6UDlUwuv6dAmQ36qH5KKDytcr/CdvSxJDMxpoCrp/hsRiTNqwMbwNaNv3qexJGxz6094irMHg25hZ6IoV8JN53kCJdjSRYrOQN2LyG+tn0xkjqQINauwtpvuMEhWfdcDeuecsvKAyuHvyfOM4TfuDiHIonXrva1Q/veujGrDdOeUWDfat8oMJhVMHi7Wxm3JMlCndvgvu7Ascj9oymNV18wV7bfbhNj/ph6TJ4BR713+jplIs+dv2fXF19SNRneYdteJ29uGA89bzqXVBP0sMU7fuTuIlNzzhelwpO+WvwfO+kjmtHjZC3nJx1kp2CNUJbE/9XgYT4jwh3NMGH8L9ofib+YdFCOjsM8pBscqfI4zgSck0i11cfYn1zCRxvdZLUz2F3dg5/DpiIrCF4IIauQEBcjo9LtclPtGMw/U+2rlppTb88SdCrTBE+B3DbS9DibxXzzTR/tcjgdhdjYPm9HYjH+1Nvzm01/Y+rA17WGXzoaz/gLqlyqqoL1sBhbiQnYr+ljLecKOKwf3GIw5FDCr9wC216b564g0dsfLeGFwya/s4IMeXVqhscbMTHm5HzbdTv2hSiRt0Ig4GJGoqVFAS4az0TBmojBDkGamVLHaS6gyp7VkqT4TALI/SQmBVjED0rw6GuErIijCoCZzO52t5zzeIpkgjlA0Th2vDo06g9WwBsRAv2gKWZMElBBQRtE6dqjD68zHxjEqAukpJArfGJD/i9MYk3CvcpgHrcm1/bc+8D6zZBkpy30HCbTt+NCRPVndVDfe6A8OKWz6g+wAeWbMg2oZiPh9XhEgDgozlTaW12Ig0JjoUWta0MPWnAqYsxY3yRsa67OUPXzJnWwjWXHEw5fKCc1iqerhF6z28ZpQ/cNLm5NvU1+BKgIgB6+uW6Xn1JqfPab3F132ycdPWBgM0VWRqfakqaiVOJ1OmBNBM564qLf0wygyNA2AAahppGk6ATzAYj8YAGQ7Rx5w/xqnpALJHiAU0cGttTok+dng7jpM9ls41aDnfLtJeRxizlcdPMrdXKL3PzbszORBvjFkhDCaeDwdo+RVQl6cnFFTKn3X11uTjodZquJXHrqg4QjGqnxKZHefivHE6vthZOR7yUh87T3KjIf/mwOwav7fSXDqBe11VY0qmnQnRcDPPk3UOQKdW1J44ApLXPXqfLD40JE9kJPoHws5bGnUhpHdJ08O34Q7wI9/ZIOd/4vEPbNTmaHWm7DsJ8G7QU0FvhrYmJnArTdSFMVAigwsv1sxDqySfXlk/4pmwAspFgZFcxtYcaCnqlR47+lcHVdk8fX7mTeFiZGum1J7xRtH62nDR1WYEHXprxtAWkmLBJiL4cxnhdXvTJELxwpsp1UrTQcFlI+4XNlv+Fcb4y++HpMF8ihE03rFlNXrjyadEUwirJI1WkG24+Q3TNWusBRbzG1+xN/goor65xeuR2FZ+7VXRUIQLefzUVZWjkpIdGVK4sNk1EfCpu5x+DXh9LPil77yg7N271ewHg18rotIScp5MWcv0Vwxx3wx51K1iORsvsN6U2RoO1e8DUmY94V2YLcKLIDbj/H/dTpfQwBVxVDL6qhCzU793B6Nxi459QIXxL9NQk5Wql1SgbvlMMcI6g1mXymEhaLu5j3iRLFrQ3w2FQCZDXMrMtS1nU0Odf38GivZWuG2eZsmTvzFc7HSfwYH5HIzmFHWaTtbKPh5kzprPUG/ZLBhjxtfugGppmwc5SegiiKU+kB2TMuANadcbiQAK8mfuZg3CnHj4IlaN1Qxl1HzKhZBcnpPpbKbqSgHhJwMfQ8addHD6JDc0qgAI1vAzvrhBertCON5T0tkrBO3c53MDJ+aRNHB+WBEZ9cPnO/wHr56fGdqk1wPUt1U/4AxtkPOAdFWpakr9ghvCi2mo1HJ3V0Nx8cHKk11krJvEFXGUAAKfNehjI1k/ZPIs4gF2Wi9QbvMxStQ4dkyOsCCewT6QAJkhRPMCYXTxExZNvGWiDQho5++4xxdMYsfEl9+CU58lyYsNOTWN4iYpyIJZtxeG1T45vPRPZqzuUGEDcK3U43JwoixSc8+iVT269RBnxCpSMxBxcdUIV5naU5dyEwKfwlYt57czvu4w4JUWDe8PF30naiW/YOi8UDvbkzw3ktmyeY25u32Z8ixXLm0EebyQS4v7mc8ttplh6RA2ZYIsRqeH6ROL4UisW/UEbhxn3ZEe2AfvDcHsIS/kIyxOXa/1WVSZyQdSYKV2WPsIAfD3iSF4QUisMW8RcBjEqvilmqUKPahbuuDc4WFVy+fiwlqGLriSgA0tktikOT8URDB+3gFHxxWferqoqUmE2CI3FihihVXEgn50o06fujQivjqHKTfjH/xmCNV9J0jVWGB8RRDQvfAyXWcMBTZRYhG2q1T/HO4YVCqxQC003ALTm6Gn8g93tAJ75M/JkoXXHzu7cBpB8WNlZ5ikbJveU7yvIk/tVinZ6iG+5HSJGEP4JQcbeuXILfSHTZ0zgFNTX701+Fsw1DcTy5HJxrhttoi60xRaIKqE+CiaIrB7HFygjvyrjcCr16uzXuiffPLeKy6NTNnkKpR86JzckxAyH2b7/tTfKFvkSleVR3Q5Z3oke7YGsLxkCHYaky+fw4DGW5+puZhthoKKGaSBy1QEDQ+e3S814lI3r28HkwHgt4p5a528Khi+BYsWKeRFit6MNoXQPTl3Hq6qQdbKd0AQB2nFORI+989CO87tQcBs6N/MTv3i9yBUbURXGjv454z1tVhXqccFMpY4uFfQnQFBgit0dtf/GJfwBVdQiMD2ycuJtJiBwugfi+x4sDP2e5826mSLbqcnhviw2GerM3aR+8AvaQH9guY96/cOmO59FBGp6UYlCvoEQ4P033tfO7rodrClFt5h3BBKpMg5mlBRSU8wwkrpTWTq0sbZ9EnntgF8W+8zk0ht+fCXNOulYZ/Z8NINIA7ry2cYvvCWw466h1GUmN2uv1FCYbMMrbRhG5xJaLcCBkLFAyoDzSt8JhrFhdgjipdrg36e6ePN+ecBm3ic1/KarEvDxOvEyYE2oLO9FdYBlU9F6TyrvWOygZ80yADIQGqhgDGfoiBhhrL2IMgTd8wlsNzH+eG1fZrxZiJaRjDrrfn42o24cxM/SzEGi+eDWsSIROz//5+Y49c4DJSEUvrhS0HV/om07JKWJzQ0r0xbiw8tuIHCo66o/0nOFtp0leyMyepaTg1V+HRlKzkNOAFLv8xpzrgb/Smm9Zy6Z8QV9CUGP9FjudNTeioo2kvHiCOLTmQmEKjwgyQQqJ9cJtPrjW33Q48eQe+7Am+1wugEgCfhdCKvtD29ts+2p0J95dCBqdE0NAQlROp9/qiKr7pWUZqecG8PErfop+NE9TTkrwKRjXM4be+ZnJS+3+6EUrfMQ5Kn45iyJ4jpP8G1/3KCS+uxcosEP20EyWIomVcyDXh/y9HGh6iavhivU+qhMTwxRP0Va2lwSNKsxs9ZJSFgnVrCA5+V3iMBNd3NFizE2LJwIF5APaLAcql1fB5T6M2zgfERggZ9OjdlbiaO43bK5RuShGapdUpogaBjCtDAUwsqM528ijULdkKIUivZ6Pgg4VQCowa/ZdIk9UbvGJAE2BC6x2bSdTQ0gjLdNifIoqG91mH4JDvpoz8Aqr4oo4taQq+yD+qFc141KWqantCCoY0PZGhJJPt9fRfLX54jhHFxJLlmdfdKoq0ufR/Cq7w9nTESLPUAL4l+MPxM32Y5MtRWzEVKus39qZ3PPTVZL2Pp+deADatLt+eoS1XS+l+s5x6IRWDGoEH6j5h0WVybpdmhlD33ka57nat0E33nbRvrV5wHhppjmZdWxCvpyZuzrJVE2/ZorzE5IBdsTk9DoU+w7PldzfPBxfN58T3D3uI+dyNgCL2bRkJVq4ajPNL9Fv8HoxFZWNLxe9ZPh9l32Vz0I2jTkA4BvjQ7EJoWOW+5gk4cMzeAAytbIUbKV4aUzSS3cCp0xw7jADeLz/i/BhPMdWkhRQ032lKfM7R3RN7Nj6m+k1lgzH6fIB843EruNi9O7X/AxjeNUqjoZldafGt1HzQLnH4HCB1VkFWa+fnxf2tG229dv8ZJcf0UOCgJTtIDTLkCTRoNq58+uE/lm369c2yS1a4/8L6N4DRnoYnE3QK7D/Kj7rmJdViWvTw4S/SxrDJQ0uDv/2+GTlS4J0uoMzUoX0u7sUExGn8hJ8Pr8tOF6yrjl5eoNrtpMVnwTtMfqc+iNvGvx89UaiAyq3mRj/Hlzxs4YNMtcvExLMpjTcrcwbW3oPvGV4OP6gsaZDfNWfbiwvGpaB2QcHRsrcj1lFyXbgTNxSt/vg21cjzHau39MbxAaE/PSs3iN36HC1uADKRAkm9fCVEFMWj+XFgiVIcezlqbPNWf1mSwzf9aa8CTravFkcke+p0i7A4982MkKifIextAMG5YPtpFhIIKQpi2dnRJ0/+qBU+A6eXjDNdl/kFvAxfg/U6fu019fLCagQxhPaOXSIPtwfUMOECA29OBvmLw4C8FNdBzsxU5pvUcFbZC3QMJ1FG4/skb/ef77y9tF4JhnnaXhrsDMaYP62+wNuFBLVgynsQ/xjm+UooUfpsGPqAbUEHgvVN11FTlxzEz1iSb00ZXQnwvXMeCmCNlpqGYgKGDBWzzilird5maeR9zRZtAfFNP87OIBjaUetnehx1j1He3O7DsG/gYmt0QTGEtCsgQ41eZIjfuPKKnEqRuo30nX9GKJ4wi6Mb/QRWgEaJkqqOlalBAUDvvYT/0ehtyg6QYna4TxeODfVhfHlYYl/aIWvnB8tBbzfHJ6fXdB1JS8E9KqIPOLb4OYG2HcNvopblflJcyjaj1Y00PG0ueHa5sJyao8+ZfidNJHVuO9JYhUoqYbXwtKOporBQ5u8ywaXL72O4wStt292gaUTpKlRITb8gJf8iPeShLHP+MBfDDSRviUhZg91/Zm2m6FtXYu/ZmNPPUWNe5ZuALSCDth8wvybpVqBBTVlah7Zf7B6eQhp44giFIuyKRi9nUSwWnRkSKOcTv7IjW3Ewyc0cRZ71aOP50ECVpur7VOOPn1ZynPocRLGzhMzOX7Xjsji3YdqaPGjWoVVVG1LS8i3yvN0GJlsL9YgZO5tsByEQNnIixKXlAAvv/igUjWLHvgeVFzC9gR8Y3h8GMGoUDbD8dTJFsDiQnPNFn3TzFxh178oFzgIwqFZs8/XtHp8eTXkbMRCD8qUGs6w3n1a5CA3KnsHeDRxnbnQ6PGi8sEAmdxCID2vjBy9rANOq9OcpVLsACQbfLIxm4YetEG6ERTkNL72niJ0gHaupwLIPpjpfSgbUfVxlFWJkeRiVjGK6oElSYCPTUSnt8H4Z0n1vYvsD34buR5IYqSZqT9UfKmVhUj+Isd8RMuUHPb3DgfOVAjo3is2CNSeALZZ1wYuiR6nuDkiznS3oXbsQa1Vp9v/CA3iprwWudB+sIFMvYg4hI5tcQvY2z1x1HNo4zK5VYmPYTwCDwh/I9OArTIT4e6hSvTXntRNQIuBuvWgdV45sGxQ3tXXZKNT1gXRmnBOSR/VKrIUSCgGH06qhSVIXvutXeGotDJz1f15G6Xj9eltpdvrmPJ520LLP0traxxAw/G/nLvEtEAkWaN9/Nfm4OQWHjSrqsvB5T3+NDRqFJWHtY6i/j6geWdKrhUgusz4Q97yv0y8cFyu1SxBz979DtwWyT6lqCRkS376fCL9tDq5QTNSipGHQoBS9SfKFO04CsBRQ7j+RFU+iw17bkYLp7AfRcTFYoq96aY17L5h07YyqXwH120LrVmmBX9Bo6kBBajJG34AzMf+Nqo4qzO8VKwy+scbmlGW127NFcxqk3F0BVdM6MY4ly7kMOf9ITvVKzr7LbT2uM+poAodVvNQnNKXlOLbTcEgcpOxby0aAQUMb+wNR20QZkwKEe+YjaZJu3DOJhxSJDiRSGmTC92aAYrYizpz5LR4ODW5Uv41JrZ7crTx8RIuzEqQytfB4OI1AhODIj0qP3oKLINnPaHxFLKjIqanHwofYpb6udqdML1aEfntUeI5P+aCQHg1qS1+bEyLN6AHqn0+BWKASzBZYT9DD3QMTPrSN4LvSm9RZlP8+F11hwGPdxvfv2C1oER1ZBR6HPynUGtAUNBwLeOl3d1LByoJSRWVPUBOr+RUgM00VLZcIfq33/tkpO66zcUmLsQI0wJWB4bBuYT2ZGSb1g3O2kV+X2xgTuBpx78kXryfOZFD9OxtIrweX6DeXsLZcMTAK5PhW3s5oBLgF0jN4GBhUcwrBPfMunICF+WdUwQty9gmMT4Y2fOcO5smJ4BtcWfaLWvBFU5NglZ9rNq4Qp9rW3b8vD17bdV6mss7iuJ9xv+2o4WwgeK96YJeAE5FkLYZr6yvQ85HKx5p8cjsAp+602Q0HMf68slVbtTga/RnzSSwfMDqtRTwJgyPaEIm45+mWNNVVvOWnQgsc2drOmeDoC4nKa197prEfjr+kTj0SqnFBK64iJmFdtR/i3L9KJRrssiQOx4fHhUhALPN0ZUms5yma2Y08nyWAVTfkhtHrylOgFgl8cRMz8dlfe8Aw9I5kH6HaNG47XuqtglydG5YTMZiTmsIE6xHnNoQIVZZGXezaPR8ZztzJ1ufcEtP4t9XSWGMLekrCsBiSr/jSMlWBk+f9uI+rI/MI2uqaVnUlYhWILGGsZHDL+dOFX5iDpSP4WlcsgK/ncDkY1C+jnzanFoF/yx1gVd+1tzdRs4J3nk1bvowaPTIzOQll3Jboya+/axokHiNQn8dc912ip+sTNR+zbgCr/ns7KC1z+xDz6cKWEG70wGFMZizFbVLJ274+sAIDiiLtebO1gDB3+Pps6lFsfxHLVB3n4fQ6SWJvofJPh213cpcUgyvzCyuO8tm9pyOmGRI00s9yYTiue92pq4W2ybHcWGvQuN62tM649U6EZvN3h4oSWHZxBVTyMg+jQ+A7SDx2XXhnaRRtNuwhwszF9J5QRKCE/kR0voUKdAeP6cuWvpzgydCxj5yJ/jHZ1B7+kjw8Dqxn2o/z/W3GO013Sk4d0rcCbfxgABuvRqyTGFmYaLgWrSMB+LqETSUY/ZGd80WVhC4hP7X0M8FY9/K+yXG579y5FsdSoHjHN9+REvBKciWVpUo6gORGunYNEil9gXn3woq7MDhYaDzBS3AmIDvi+xcdwLl0ERufpZhIjeIBDpoSaOuAaT5R5Jo08CIQx9nmPxk/I2EguTK6czyrQ5HdDWUDOAUCY2faha1EwOyO5j0OhD61ETeEj3F/7aLuv2lMUKdF2EZiQf7owcnE/KrDeqXbGtgcv+ZpLBDaqN9P/x1707sHWGax2Hj2bqGmpblmwuShG7sSpiRVVord/BTIWDmy9ol7It02Iyrk8c3yBaD1/KbDnVNd1vgfahxFVMqmmRbZb5fNbodF8j2rHKIBr6WKg4TF6HFZKcVJHAwDVUHBAI8CmrBgdlwMeesJsfJwCw0DsQLb30ylKdb5vjmjEKBEgelMn9TdSjX3SPvs7OPUkYK8GabFpXgRrQJbe4iAM3M7LPUcbJ1Jegq+3d57Lb043yz/pkiZxbQXr6VgWrqeUvDl8nhxWNEA8FZ1/h23uARyAZ8qu6sI5O+3I/6aYI/a/V0eXCFF4LCr2wT8wn+tFvS5RVtIXZJxfxCw5stX/JhVvDqy5dt2GWeTL3s08TGPdv/MyXpvC5Wqne/e1pkraMC/9+oAXH9iU6SbJp0ibLS/mFgf9hOFswQztmoodfbMEImbTDai0+p/3Qlkcfp1Pd00c7V32U2t9S2AsUDcbp9pxw0bHhPUqAXE4ZlK+lSQXt64m8F8/ZbMKQLvhOnjkNFv2eMBfxtdkuiK7WJ/anOHduCaXJ7Vy1DAToJEWElfkrYs5bTzB3LJpJokDAwZEHySb8bAtbjd1uUK8iJZi0axaf6iJfQb8vejIqfBSgiTlrvpiR2/7RXxvOwjfd0EEfKTAGyko2quBSjX0CoZTwT8wwjOArSDXrxkkHBYrizZiXseTa7WegcYKkhLn0r/gSktQ1XYDtGm+KBPc+kQTT+t54JTkiiVfImiTjC9ut8XjdJsd4ZEzz0ObrlEuwHngZVvSSwKJClW6nqsAwzU1DA4bii7duCR/a8hSvo9FO78IyIVFcZyldZCvPfTTxBAUq5A1hP3kUw9s1TOwn4ivxzT5UJ3tWMKkFjUe+D5pyl8f3cpvc0Tro/kDXcBe6fEE3O4FVlenN8eHL5YAwrCnEjbUUKoJCUS7YCb6IKZMhEwCFkguoXqN2Z0kdUgv+yMRn1gJRzL85brZtfLZaJDiHM7P0aupX9FqBZBiSqAC4vvWDC+LGQWm1AAA2zjfBWFy0YCPUvm1p8xm4tpq/yIHepmkGy8nOe1jiDj9TvWJG2GKAyXVKCu/XacbYkkHGrAJf0AwachClTj7Wie63KvM9uO4O+p5pxRNtGFoPQKEzKgfUVlZTxsRti3S0xe8CRMCK8F+kqZEsdW4ofgJ4K30fUhfVMqL7OK2Ulg7UiYlk573oumMQoLxndHkh2R2TQlOrgKJRSkMloBecHx77XjxnmibKQZEaBP9Zpt4g3uSiEZGrNJzO+d8aC6RnL/sXHoCf4pfvP5XxTErQmQX8FNDRF9SDoKk11z939MKT1cccUuixt0BYkN0M4wzG1O+s87UfIOrmJf+C0JPm/GVJZzm+hiB0F2qTjwhVWB1vIXHFxIRC2X1LEnpyYuNoVdghg2xMamkM1y9HRHOR8mW7Zn2CHIiJVNeHOwJL79VolGMekXO9Kl7gDg+HGCBCY6TGa9jJNZxTA2/KbkXoffcfTNk4QkccauY9kE0o4FXYXbYOR9L95+A0LwPhegnzk1Q9VcfIRkraUw5JDHh3tksURUa/NNd71J53zB4G/hP0vhgHKQ8SdL65StkFGObI7SMjmPmj18nMKsSXTLCvco//qnuWRKODIIDQxK8tfidWCdlJZj5ZAbZ8OnPv+PjBtT/SFOM5e/3wb2JX5wCRjAHNF8eAokHaFcqgy1kIeBpFJm8bnOSnJukfvetbVxzjhv5+X0qN+88RujE9roT4d+jlSt+H4Ahi/92BpM09WjnNKEJsPyT2eFZLvxhoHQrhOlqMOd+6rXOisC41Insm59gMCXzTUmsEp2oGudAmnIvQLsW4pbzW+UJ4wPXIKFxEBSxP2OTNeOIcyErRUsneEYxumN1rKtnpLJN6gqwkhp+WN46hUizrj6kRad7fIH8dcmBQMAdJKT3hDjQ0pC4yv/mu0aEbUX7nUulcf2iY3Mbun66EUHdhmGqB934iV3za9gyFlhCR+YhJSR8aL7ReiM9DGyxkUT7KvI8jdERxDk2q9GHeRf8ooZc6GfpfIXf87LZmYk5sJT8yuNTX5jmRog12+U5N6rlUr1h0JTR/lacFTMwc99i/+ZoAbKe5z5c3z9Ey3uSFjEMpnaajKoRx+gwC6yICQw8ZE/U3PVVCsjdTTzo4stiITNjYM0IRl9u2Lt9vAKTCgSuIRulKaFKDGbxnPtG9E5vefozRJxFQ/BwSujCxSdu/lSAIYuXkMCIQEZisxa9dOGRpVsqRBvV4TekzjPlkJg8Zimy5laiEk0wOlfmlw0yK8cMz8jUTHPEjjCSm0YQEQY7hpBPKoh6aVk23EU2A+aWh4qNugOWgOCOBy4MrbKa7LEVQgkUizj8oKfqaMcZjsVxBbgPa4cp4ZbfKk6RnWi/m4M/dlwfljXf6wFeGO6UDaZFnbPzu/00lTM0TshfYFhUd1kNJTL/SPjYIkgu/NSCuM7RX+jG0u5LE5rUXj51dyRfiE0pZl4H/4LbVT+J6/L7kfjpXBgeRWRV4lDHavSDKr90q/Xn8ychldbG+fGDH3/2cU8ROgbieQ6vHIIEauh/fCGZ9ZSm6hMQPwUtgCWL/kHO5qPB8ny7jJBTbwBrYwTNFGWl6ih7MwT0tSvD9+rddpn8DXDXiiiopyBBL6OpxrL9MWBoubZN3pRP5WdWaTeyfFFVv04co29ckUhVrHTGfzMrm1XooUScGN1+hn8mLOoNl1F1AESMxyUScJSERWvv9UwBQr/47Tv185a0sggPHl3tBj+qie1JgOjNX1bnBiyjKZurkt9eqDuQfyzgNj0qoWuCv1rCKC3xQm79RxQAB6BYM79HvD91mVQx3Cg2cj7s6FFzYoL5JmLfX1eVKlasGuu+eakUB80hMTWkY7C5AMfVPpWGNcMqLANh8AiIQP3QCHLMaIjgBe14M63DYqIXpiG71NkLu4CuoOZwEUlOOkpG9T37NWx71LrFPL6qRBJgBcBKUjpJ89qTbBia5cL38AgqfsQ6kG+fEX46kHV7srzx1UsN8yW9rEKsJD978w6blWyfLGJ6U8PtpUuwKbaj0kjbmy/kKMfvUhrMK3NANVypfgwRLxvZm1IkdFOnMfWMTOWjkMiNXL4ySqtlEK7e7/ZQLpgSLYohfuWoAW1wqeZ+8mZm6zpAgMYU2kX6xdk9Cv9Qt58ZCtSOGbHApxbZQeoL4SmPJV6fQFCXZfv6OXD36/Kw+KTQfjFPClLHLwz0MIWr0DL3oCVXJcYfQbSwI60fTUXB+31MYGrmJfC37BTZDcobGwh5XlvNXtJhOIKwb3fwO8t2kKlI0ml1wvEqotsCultP5Vyh/gKVYPPUoV+PMQlVO4uLI8UdeaUNPYkOnjWeU48MStNvZibuzZr0IuOCKtz2ksruhrBCEFuAV03N1EcEQNWG5IXg94Nee8lw0ISZK1k0h/O8IN35U0sAPa6lAR7q224yjoEb7vWnI0Fm2JDjYPBpVT+62at4181hJkNDxpePG9G9eXGEHuj2W/6nJq3EEtsJaJM9nhuf4pckzaF4tq4gzTSLpDonkq2sQVU9DpTxmLGykDT7OzklWS8ERfdZGblLoz2t8s5Eqp6UQvNtIHoeQJPomsC9JUPDaBFs3MrKw8/zk7LrImkTKoVxwOs4Pnh1MJY8SQbjzGd7K14B64oxQx3NmMvykwdOe2Xpt7wAMCIyO9DGFWC4vDMLj/1qSFaQ2mFQTH/Xj5RiLFGOvLE7WlcaNtQ7lxZV+FQABIesa5tJ6xHIaN6j6y2mdGamztkZ5z7dBG+QYnF5GDLXyR9h9/ZdpojYUn4vIceqNEkPzbbjW/OCW+kFfj90i3argPX629ittttPEM3T63T34hA7qY03KF4kge7xiQT98zhuqAS2LqTdQ+ym1rVRKDdADvWZkpL3hTS8XosEGZQJ/gZyNl3TIwT1HiFeu1MQALedLkXIzdwVFp/+wgEQsMyRlNmRExQQ0cRXPpQ9ZzOELvKUmv5BjbPf+d9YrsgKG9Nndruq2DTxrrWCn0Xz1b+AFSmTZmaEvHxfsa89yVehywQy15aEFjym1KTdEmqlTb2q5hRq/b4L+gJ0KCutP631nHNqzU1qIK22YVtQW5ObIbfG1eRANEfqI+O8vnX4KjVG3jou/7iPiX+SP3NW23fQXIVWeAxOEeBMUsIUGTFkSjvzDt70PtUXKE+fH0GYK6dASSkA/wTE+qw2kSh/bbmGnjR12YAiVvoOZaH0wqOFKbEIIkly+4fbzEoaYQcX4ebWAjCPgELowp7sSZ0+3jixR3RICr/5dp4lZG4UemnQt4XUqwIQsjcOhymZoh6vmzCgMlgGeIlq6dTVs7k7pOIoBD2r3wVJk1T4aCGdPpGZv+d4MREtUT1VINvUC+P1fUXYN/WoumeGnA5WiG2DhVjjuqY4I4tomh17BfSg7OoLDel2X9jpgSzjGbPcJclqwyscBPyvULjN3JPPw9ms/hXokWP6kBC+0kBwGzMb6mc0SxCFgFYBZ+9ejtQxHyhPBcJvkby98Qs7t7gqFoWP8Ty6y+7pF9KPyaZqz0f/IviiNq1kyPGGwu0dmYpIPXcxGbdEeg4vCpMiM38pUEMh6VC28aXKug/wvX47r1pZDzHt7jlqbTw9YuAMD33m6710yVK8OXUfhKvUHA193puAPIaMor4mVebcvZr3aCsGiCPygxvIYOOCBe/yHVJUwE6x/S074OoOv6iSsp7zHUDBa/8g7Io7ym/er0lY1/K3hHf4pVwDxy/oFhpmGcTTQ/sF+JJWhn34Kkdvbko2uQLQ7aWW6OjLnVE0k1WZC5yEwR7JLYM0xYWRBWJP0lUNmJJQmyxLiO3VF8k0d+2iWnbr/vTbolwf/Tt59fxOZYzaGOt3fuUU9BdfJwJmgy9Gddx8l0Rq5eJSoSN9DVA8voZalWRywJ939IwmVdUKOfFjGQOsQdGH1Zr11gF3sL3oP9o5y4Sf9HpJr4w/gTAIU95TtQIIKhPe1j/AdTxqCsTtys/1Kh4fqRRUJcsg7LYDcqu2FM9rw3gx6R/wuF133zslDlsBhG5rQka99BTYfOKCIq5AbEMRej6oJwnHUaBD+bHoMB8d7U7LB47INn/J6SluKlY5UviAaWoZ5rUd8s8VdW2BcwmQ/I2UepoprCFknJhRnRnpyyIVxDNRntGjK8nXhMVu90pMBXc4wMDrLGVqv9dTMRus8sRg1uDTT6avM+zX1spfi/uW6G4kHVnckUSl1HOszuNV8bqNo0BWioXocqHCCK3e/RnHTXZPaxa4SyelXKbfxU+7MceN5YCX6sZdRgjrwoKgu3nkT9fNUkQJyJWG/0SJy6Y5lJyT4KClyoRktOeVpRlOK7faHQr9mH27B2yznCaZDjor036zthoX56PbanEFdHrvkh2E1YmlGyTGMWiALxF5GWQ3rOgdMn+cgCoQxokOj4HEFOERrk6UGm6Sp/29AxtyrLqZSdOacQ+0E4eaWF9HB+SHogR6FTg/rzdTBECl0jqTYdU4lASWw9JTIExcU1I8MSM6IlwQaIjAZv5X9SZl3++CA0lT996GKwZ/NKxpghSNa+7hfLHwDVQqkjp31sLg5kO5E9m/EbcWo7cIfIhgvzMXnTqg9++RQTWcJTLMba0sUB61U7GJTWMVr7tBleUqBbpbbOl2UoiX/bfqiGvjJGN5jKCrIr0hvzQJmwZfd/JKQRY766SXJj2/e4uKgM5Wm2sRaIiIINjxTn4/mulERFdsoIBfjSSaK+RDfxraZ1t4B06C4Zl7EHaOsGs30iZcluqGXJXjqY7Z98PLMn2mSd7gmF1NEPNKaQAQDvqMWZZoIyN0Zf1TESuk49CCEUThpcXC7yd9nFaakzPEsjsLOT/6FAz6J2OMs8ZxhRK+0yQY7UBqqrdXa1S2o6ZxM/hAXcUg6kTDQAs5v3QF8QzaUDs79obpxRtWIFpEZ4F2VdB01BV+gtvUmQRLuHEjKzkBXotZU5y5jKqj5+amIBkiDBQSmVPFdZJOaU9StJ4dnB594ZIbGbEc3tHk8BmEd8FWoSg5Et9A1GEP61p1iNlYud6rRvVIofgoOniOhFq7TIxMzinLxgLyNXR6y/tq7RMskyFXIo+FgZgifDJxDEqsI1vRNxT1RDmxJl4LcTaBeWat33oFxDQ/yc5eYxkORS35mb9JeYl7IP3lE5SadtSzwhF6JCGQZfrF/WFtKRuTZbHnCrZYTRUK2UmlNk5B1I1ImWhgXXJS1AVAa2VMRJlXOqn0LP14h1IwxhEulwrRAUUkrUVi8tHTJLPF59Nb3A3ZHuuMk5tWFokYiuH+QhemBdTB6w+AbOoMfCYOyVUO1z06jmVGVNTDx3PKyMgINmXYRUIMMUfUC1c9DqLADiQV5S57GAM6w+V6lSFLpItWr+a66xXXyakfnLfLF5TFzp6vtJWgb29SaaeUjML07AzbfI/WdgI51JYwUK9NC4XSGsnD0SG82Ykw1Yh+nBSqrM9J20ycXn6KTkUYjss+3lF+ZE9hwzq7sxEIq1jEyvpZWhzjsE7RwSk3BvATmsPw6PFXzP4KwnqyHmyl05ZGBAu82VIEHPC9Cy/SHiymVWd2N1JDFuWbBG375DIMyyUZsP/SJOnxgaAk9R4gRVjoZxMmli97wYYryYDtVmlPGgGbl+j0lngkLNi+jrmixV5vdvJDU7MMi4YysNnk5W248Za/04GSPxK14JZ5xEdgzZ1qxlJ5h8S3u7zPzw4mDo6vA3zM4dNAthAAmsQHsTTPshF69x9EHTFS5B8FgPhBOKgAtufmroAqV+px/Hkklz7KzzvzFryGeLzYI7NEdriQWiADVEZ5lahKnFJkXrjxiHh424yasL9Y41m7EkvUCIznSi8cW/5BAuJKGkWNRvSujhMsjjPsMOMkZbkyqaZQQsYnze88IZ5w9BMgrNBjMvh//A2OtdAFMn3nc8rPZ9mWGwS0z+HTOYPU9RHMgJKQaDaZxgiSI8urIctBN3oUj+95BatjjIWMbzgQV2XtbQMrayFAblzu9fmYUDxia7ojGE9BqhjGL1QIwBwrnE4gWIIalGum/I5UE8Zz8LN+mLF/Lu7/KwIAACPMRRuXCfSouI7xd9J7ujxjzYWBRi9WzOxLNwJIAk5RUm4ItadA+514pP0jdtJMc8LmDrj4AAIVZNWwAZZD0JfdJWZRslZTS3cMoESLNHAtVAxNkMgmnJ0GFaY9TnfTjKtNoO78wvz9bQzWVXoWf2ukCHIXFgyaDqa9agdnUY7Zw1vfpzI94Px7Cl+y5+y2JYjFZJzwvLOhhRd92fJtYb9iR1qK8JGi0qmrugtWh8XQj1QEj+Udvi0BebfMJhxaqkqy09yA1dWe4SdrqAU3IeBD2ukfIOtXeMDvxZX+Nu8aZpIovirX1aTVNATs+gH0xhfcctIJYMu4ASIrDOOGQ+i0uBT6+DcxCBeNjTn0z3r9lvkCHPRqpw3lO5/vUIen47vtGmsjlPF0KCcaJIomd05UtQDyFRk1WImzeslmLlsWDUkjvt3fLz1vzYPcNoF+SaFT1H2U4Z+dat9xWqpAsA4xE8MGGfx03oZaIT2eQ/iH7yipLG9nvD45Qt7wFsnxKPvgQGspZpkvmlcDRr7vuhBwIGJNzFThC8mKMl9LR2TMBK7mxfg02rPBLp+FKZ8pB4c9tnCpBGqGiZoVjfjdlinW/Vtqk4zyGma0qRP9NcmPTBxBSDRgKvTbrO7Dta/gWo6wmZEgRc6CyQOWe7Qoyl8fDdXSqVc8FIs8/PMeK+PWX6AO0CMT8jC8KndRhtpVOODALEaSxCFL4MQN1FTd66K5LDCbPaofzlvDDcr5o6ZtRoOGwOLlAf5nEwWPX1cArdTf6chF0c/0bNNkvnyo8cGX+1Svm5EzkXFn+GS5J2DTVpPn0tstpVf0ULUwQKs5JPz1sKTiWyFgotUjqok1CVc8u194p+qHLjP6FgP3e68/4qhVg1cThl1DWpY2GO3XOFWrms57oASszsR3lXcNO51WRhpu1CUzmlTcENljVQHX0bQQtDxIjVRtuEt3/PkH1kcrz9YBbyVGcIO4RRC3HSylI1vCG3FXGidPTQbUgBPgX+30dZb3/wn/yNM/SwuEYqmwUxb4LNnMM6EbEfIDbu7rgdpd5mD0ElAP/UMfW1p+JStoZEVsorDeaG/8cgfqI2wioqXDPGpKNvF5QNYxvuFs2F3RVfiXLIYVAMZoEgNNr1W7yzaNe78c+czksolXhZohXB6QnxCqATqYJzvYM/wNwj4pxhw8zMoPgUCammKP3EV1/dHU6LjXkchUkHP7mUbeQA0dTaHccVnbZAnL+pxJFpTrdI1SRN3WyGqQ8graT5o/2JnfVrJDO0lVAuitNN8tK0SnyfPtkNrqbyB6qsjiQlOP30V8oR+SS1H2U1S2TTM/5tXONAJUjrNLjJ9lnU5qqPn/DKbbo6TKv4FkG1lNgxiyclM8qMKcgYV0mJIuvYL72CuQBgqsSb2jiIuxxqkag9wM8bqOqYpbPjdBSk7afdV/R5aKJG1kaCZbNpZHiwKg91gm4x+krtpe+U9OQ/VcZ2oiiB/hGjDwE8G54phKs5iKDcKD17Y0aLKfcLpKBwjdN26z2iLOn9sOIXW9sWK8nI+jfYqvjQPQ3sWEPlsQow9hfrue8lxvIcCHK6+z9sedEK6J3UrfnlQejhXa7DV+xYDiiHoduQQFzo48Avylim0rIVgsq9xB3sJSDh3shudWOuzzTxbrkJ9aTq1257Zpj55kUai4VHFbEKPNGU3wtVeNEEwA5iUbQ3OaStrby/D2/LzVh4yHbxfjXfnWz28lfC/EobKUP/VzSw8HXMF2WfDxyPOlFfNwCucNsVSOBmmVkYuy+yci0nyQUem/FITVaP77ngTmEK0stzW2BQDscnwo8EQBcMbpnYGdIN31jQUzqWU7cZVblVQc+Z/kjeca5fEeQUJaEQHWnfk788QBlQgQvFQfzjx8dQ6lPyPLhT9f0+ukPLetfJ8UNnx8G/q1wim+SDejzyOTOYDTsdFNq7hGjxPkHZ9bQ9/1m2qDe/mtU6OiWQmuc6hb+kO+RnEgAxxkkeuqfv2CeE8yLiLJ6MdhQoCTmDx54yKM0TNfeAHg88DsqHZW54PfTJhQVQU/ZMXGkcAl2UPYr2XaFjr6X48CP4aUgYTmx3NDB2xA1B4DN3IBEq3ZdXRzjs1zvnKs4dsft5CJDzZkBzPOCg4XhJpZ493alInnWkpBf+pvtkeeFwV0TIV+z5JaZUixp211+HsivOf57HMhkE8vbJqEbyjFMZ/RQPdxUOevYyJum6ijHxD+kaRKmUT0bClNAXGuZ+KL5+k+aHhNhmnKvDPZjNca7ZtPwqiNp8CHa/ucede2RRZwg7Q/RWn8qF0QcozK4PgcVARSkP5PCov468kvrpQiBik1vfJidtOINsXMraQfWef8ETYUDmllCitw8tQKiageAHqz6Qc7qDrT/qM0qRepfAmvf/+D9/S/Np31daoGJEPFqXlDFHJKOBaENcHFbU7qK1XpJ87/U8+bdcPRcvyC4+PxPZ18KlOunlxVikqn6AQtzOTP7Vs/xon3JDol6P7oqxWEGh3BYInI/C0WEhSiDwm+e/zGrZXq/eo7l7kV9E/sxEW3cVBTy2gZgi8O2806sXZCdm4EjXIqfN/eE2yULj5mDipDoAkrG8p164fFOVpsjk/mbEw7zZ6Ispqdmum37Ihj7Evjlgg+6rzt4SGOk91HMPQz8yHVs5YFhfE+zzRMo+JK2cEPhE8KSMP5V0I5YxTiQ/Phdruy3rUeGWokvSCd3P98o+XBsuV/jycbPJ5/lBTc20kunOPVEhlrNgID0p6m+xqTyIEYzpnqeeeZBH63Jr7AZkomO2Go9+FDgSLh/7iIHbvyGHpqfFuiAALRaFxJQ2f2XD1G5bUV/TY3FLiOvynLIdtxCDFhxNi8yTD4vDbaAdbz1GigPzbdx89josHCPXZwadgNNIc1yosslgtJmc/l+B3hMaHCC9GbWIENv2FmWYaWVC1m2otCbVU5846EeNqa1MnrAXf2B8MGv5LcSY3WxuKJS8z839c53G6M8LgM6Ef30Uxa+Dp9Hc2cB+fASXIRGsrOmrm56RqlBivj5Z6tK86ewyXBhD7yi0ZKIbyMkZdDt6dyxirBv0hh3luLVlP1JzJUrlc8CblfDHObp3MiIF9SftZbYIO885py9DQ+y5nPTliUXx4N1IT8bVHc/LQ/Yxo7i1yOUPXqGHXfDnrldwVAV5/xhjSwBh+Sgz3l46UNhN0SuAVseWJzZMAbp3+yWzkCIXcwybFUu0//d4kTlXCuksD5dS4zgsi+aR56nPNA/zEvPvJC/UWZdyNpU0bpj7I3d0bF1sb88yrY+E1lTwqRw+OEwVWehP120wCYX7/4PS5AMfY9vX6WIqzvjRCRBCufqlHhvEuRw/bx1j59SDVYCo/4Vb4U0asrso2MPrLCJN/7O463AHapb62gP1ObUP2D9cGejYhcrqT3lvmulAtLWprX8dyMhzpUK/mCKBBrS12q6OaDt0Xj4kSQ3mNhMO/lcxeg1CCWVuNx8rG5K03ONFLY1RTMsdFodJDbHitSfM+i5Z5suIqmj0MigIaqJm7hkAIAoUj291/581IwGneSsQunymHVZXd7lwkmoih8lOAFhg+T+TtmhXqZZERw+ZHbrknUkpSA3xWUOaZ4s/k2Cr+cNITK570MZgzXPXWIph9dzJJHAgSw7rZfE9ocEqTECr5k0SacIM2YDQZc11FnOE4fuEQ/UyLuX0g8sOkTwsAmgpeFaq1EuB+a/An9L92bwWPCE7MCM2TI3OVyG5nP22jeL+AdhTzfTAWSattEF4xXoVgldBFcQnpaH+1550nkyf5Jzb1sHJiPhyhPt8/nCpDKT21lZs1J9NzgvTUSkF7C31ywMOowvW19fGZeS2jdcXKRcCW5Ft5QOZKpJRXOpAm+ZxJvCObZbduICznF62ie1gDDmfq7GFaU/lLxzTKzqU6AVJpgnafnv9bwN8YJYoOuNdTd1LNqSzWy9cLh+ZQ6AviCcs9ygfPhzaZEaYur2U9hJyr68EEO0I1D21CMUmgpKWof3mOLiBoRpbd0KgcbEjgJoWgvr7y0TKxy8es028ZDbR6EBi+xs816BM0jiOAMlhEV/WMEz72pA3PXz+keHR8qXsWAyarUS9lQs8CwUni5IcZBR5LfD4PINakg6F6/4rJiVw2iubp1+rb0RZUXadoIridNjbQZ1v2XaUy8VnVZbsFKQRMRkM9GiwPoznu02hSrz6m8HZ6IO3fSy6VC17FImEFfDBX/HB8yQS6lvYUzVHVIsE8cciidetEsh8Nax9soSOBJToODEZMgdEjLrL0w/G02uRPtxbC0mE2Mso6REJO++aHeku/m5Y5z85FW7opkPxYizFORUWeL0AT8kONSRRUJ2UwqwARNO+suzF6VrP7tI1e/3pDaPTR5aJ/ZZfEs2z6J7KESqyNpfoSJJEkzqRl1VjQJafPxK6lvAgCYxtDJE5ma7tGZguEEj7C02jZj86yATsYgyA6sEe45+GN6ofKDRb7Z4W0l5Xtv97hvQAKP9O/nD4cZIYkWbTGJYd/nCU1JUz6yMvPRrkX+cnc4G7K+ZLOhnNcoYhon/xtW9mnO9KwgGUxdY+xQi5a3xUcuiP/7FgMihPohXiLy4aoYfaY6XuouOU2YdGZ/mPP8M2i/m7oACyfHwZnJRc9rmgjv5LRH9ErOwyixxKpTy9en0/D6gfhQU9O+zouhDnnZ13dblvfOdyuSvPf+a9JkFo/CxS52LjLCarMdahFDrB7mSIduhGD+GSKr/wvjoCUIe7v5C01BMjtyJVbgxYSFEcHfH3bVgDaQwwSJYG3MsFKiONfVLCcpXnv03gfssvq8jgAaJB/bF/Se1jZmleVcvGUWwqRT08ToamvtMugYjLZqmqIIVcEIaiEqVeLu9bRVteEKBwvD7IFDDMHbZBt3lCmZ7przUldDMp/Rx6P5HoOpYqrpplFNTeGqWJppO0h8/+JzDfiJqG+9E2hOyU2J5OoOUwupyRUUTUPzMb8LdG3Dhx0IwUGJUTI1cdbKIVELsQL1BUW4BVWFBRlfIPSSzIfhXAqwweJb/yOgLBBBn5N2FyV8dowP7y0CPmxKPXmmwtl3085FliLhjVsKCyZi79TMW9RfLQWAFb6Uv+PeLcx4U9mlrKNHK7Hzb2rg6HoToU21v5rnrCf23wwPa/J0s8Ec4G1xIuqTdO1VaSilKoYVmF0pFG5EBpf4NMo5f2x/CZpRbbckrV/AIJPYDENAiy+Z/J0gu3/6uqareQ//aSG5/hi1V6q8+8IxQnQhPXVUoG89/za2nR34eeZqWkaHYK8X/Stvv9pCz3LXSqGyNkwRgnZ2FHv5BxH3qU7nYj0ly3Yy30IgFrRidiaOIdybSwHQsHDcPXgIkVBc0KCEgVfx6W6HwBRysJPtIPFyoTq4iqxzJ9N41+A4DFSp75vDX+GiihgvxLeQBedWBRMmwzJUZTw64TbVkjyMgW7GNQqbmWNYCqq6Eb4+0U/0wa5Rm26s7HYQaPJu+GgqHk658RLl0Wra10QaOnl2mAfoAAQfly83/nR8XRhw+tiUok68HL6asiMYafQ+zrWtsNSLDJ/E7GBpqs3TDJQ1pRIvGUrQ/pmDRPQw5c0CC1WE0NOlEZNXOz9/TfDD/PUUeKHXCLSMfkVaDpvfAZC3Wh3kjlEMS2iEymptUxilhzgYRoUCR0tgD1KO09+iTm3ipx/X3o17VlwwBD5ZAyEsDeZIUlaesnlbChgCWVz0HKR5wdIMYBytLt5eHW7/y9Z1+fakpzPC27orHgwl084g3IGv7s6MQOs5UMOGFvpvUWQ7R8ZmpWXWYRJH7Y/8v4v6ig7dWetrALJEdj3fO9P0wNk4/8thEJZurGPlW/n+dCEiAmhwmjQYRjlrsgAYJ/qn+aMD35wHrhmao64UEdpkUhjVG/s1PFC98IzlJ76KXsltphle+OHUrDQHA13KcH+H25F9vXIFiv8v5n6BmBXQtVwXe9gxt/EN9BswXyNuM/xcr2JzGq0AefcOo+yZaZnYjRx6FTsQfwd34oBOIJhXWXHu/09GrHaCuTaz9AWblZhayL48YKe+YtTvmlkJ9scEZiTaMStTtSDSguvsKTUxiMCScdqdlq+EpY+WCVhkTlXLdHSUCuHvW2y+b1oZoZMf0XacbsFMlLFm7SgrbXJ0VZcR0tDTGb8xS6CNtVNM62gqhmylohk3pt/K9KTm4Ur5AGrzqNlEK8tr0jYP382rzO7pMDnt+vNlIngEsNdTYliWp7kMC9GLU6vgpPBmn+BF2Ek5lyTZuHhYBV5iHfwHwbV7UlW0nlPblTMtWNK6V2ac310VD21t7f9GmboIPel3iUHPM8ErPE6WT5BvQcSnLje7MWD/vvz0xJFdNx6AO/ASVOVUrlLWaxq3ILUxJDyc+oZnX7pfkWKN0NkUsCHRJIChGYX5yi2xcfwZKJC4HmJuOGf/WxeHZNh9eIRtfXHd6+yM2hfI6ldeoIXq0Ol6iR7bjITIqyRzypGcmSAkmema8nB7/sF7VSKKl2WDU4QaK5uKjMX1aOO9z03w/DIp1kiMJa8kqOL8UthCF9RNbsISQsXUlIgHyOgiZa6w51/1hjN4+KIgd+G7nEItvtb2U3L4SlwCWt55COTTVa/56h42Gz0VGZ5X5mzikwezIg4MLJTlR0u7JJh58+HQal2H+j0FHKimyqM/0BLa+6DEZEIodkl1J07F8bBNNZcjzRq7BTKz4URRTVE6xCRsmC7AoQjnvYXEqYBAWo2i9dmYKynksvAf5BAYc8qRUC45XGCiEuHnksKHX3Bwx+z9MJ28EvTtqwzY3t+knVM3Rr/llReX8RKBVZi9p55zvfheN/FrEG0mFl4Wig5ujMlRk0ll2dxomGwxdSSbCr4jpF8aubJKO9YVed/wt0zzOYwihIlTylFLSYuykpPpyu+0GlXvFgJO/ZTvcUNvT0DrQPrLVs25+SFaYDi2dxCPQk0cdjEmpaiPJDZQ/hRgRFg2dFbZJr1Ey8DPJCKCA6yutKFd/+mFtEyjvvhjLTaAvQLfCUUaqRZBUGAJclsqa1lyNYXRpY4WOFI/31cJ1dT6tH5aVhjg5wLIDhLaG9PiqDXiFFq+OLpQaLlT1ApwqzgzPRjQbvsV06qGiIPfC6W/vaVQFsnasPXzEJW5wCdPyVUcbwT+hhiwmOWzJIsiPPn/pu45BJtXgwF8SgQ6T+C20RZDKZnTmHX+/8y6Q8PbBLvrL1ahjw9eRSCgBNlwmYOsSeGakpgE8FXlXegXIBTh5x2pTHeHwhZYGFe8t4F8Hs25THIAEISjbb2lc9/Cj+KTLPg+WqjtZJn87rHPZdP28PC3FlDofw7Jvq5bV8g0yxqW5MfC98UzuqhV2jj7tgXtTRruuArJPEqrDSgRskMX916RnUQsfO9dt99/pRCwGxlm0DijgtEzGJ9LlNhCnDzd2Ip0EFgiVScyfNGa3xBvQf3KgoSAkiK0HeIs2eGpIe00R/0OgBVk1rEbAyEcwmoKwXQVlYAfZSuxlUmi49fbwBDotDt+zJBQsq5RUJP7x+pkLOrV9mSKbWb4CDWtlVAZlAPAL65aZkkQbLDZ/8Bb7jhlWq9BjvX01AADn6Mdy2ai1HQ9TQx+VOLPgjwAZk9PCDtB+F4LJtxou1bLqPzUbX93EmJud/u8VKrEvvFcNr+LFaFsEa1gVnh1gjhYZZ0TB/+Yc4bOZEKB2q6yp/UDymMzDrP2XWKpDD3cVEXH5V6pkvKHxSGxl8pZ1/foIXqdgIhc0f7cv6JTZ6emoOPhuPZzT7YoMbwYzUE2xKZUYdTerSNC1TKsIL+56dI6W1Y4bFfKLxaxXpYN+SxW/L6RHqJKYBmFefhvjmJJAN6NNYYfOQth01Xufoa5iyjQlVecF1YDAp1IyBX4VNtXSXp1QZa8iC8IVhsXEKMbkLZhCmbKrvcjVogd/jJGBZRb7NSvL6j/ZKiow0drVxkjlQytwOOdD9nGvvzVyHv066wDuDt7x7f07iXwecq2Ae1Ajudgyh9N/7olxUV/XdyLeK4zjpNqdPkfBQqIX1TSZHTQbZkc3qU/5ago9T8eZdc8bBVpFTMV6d0ji37SzDX9dTBseJb1N89NGGvQYNYDL4+ph0mRwUWvQtmZXFDja1EaRBFgHlWV3ajMqHI2CpMLVGSun3zy7odMGQVnh/jsx9xJvab23I98akPNVMGSsCmsU32qsWf4TUkUBiSNmMgToa33jN5WMUa3fXcVAteRVsPLQLm9qm4nhpU7rf6oA+dYW2YtTQNVa/UNBSn3fBdSXT4r7oiY6aLUxBShLCyucUoyAngobRBvW03RiHLY6GjniT3IC5eWcbecuEyQCAB2GoQ14Es0ACN52LrTJGuV0SnxljmaEdEqG9JJv8RsxmBa3U5LyRVRWZznJssDHbBEKOpePGoijMvFDFOcMT8WDd+HOwISFCiMohUKBSY7krH1FvFzjxAdxzjmmF4p/gG7SoLD25uHiPPCxqkH5tmzSrVQ93FN8ksebHxrlW4kQe52gE+KkFBCcX6sfWJvsOyrcxidWp+/wN61ACX0gRN25X4cu/xlQmxTyug2RmJGzyszQxfDnhUP544h/pWpqTQyZKcbBcK3TZ09HAL/mqBJCateBPAz78jQNSfh781WdGTDwYX9/kVvjcjNwAJcXPDKNYFdtH7OU0KykuUA581XGj255v/pZcPSWsSy/F7NEc+Izn6NG2xaYDrvA35585722mhQt/08bXNKSqvX5t2EGXb8v3RkF0umhJnhy/zowNL+rMvWu9Zg+TufjbonVCharSHPgzOm4NrUh+MBgkJAuPyBtK4Ie1F3yKcQuW34Uc2P4cP8BeR1bCnFu6lR2Y1wWgG/Be4Z/JXlh1QzNPs++eVlufBW0WxDuASB+opNSBm2qU7kKmus94O41QCwArzfnLDMCq4LEHpQwhBEr4MslWGMDtvN7dWS60kLstYc7KNuqJ7RSFlma61Gwsrdzx8roRDLPJJ7yfDXLN4QJq9QQSijw5bGWWxshXUMxb4FuJdDz+4A9vkBORDmL1GBW5dD/84ECF28VJ7G3E5Amz9gZd9A5rmtDS0ZkuJWWrbt1XDNXmfRKmqctj3C+gJLeZECTKSA722edqHddS3YDsTPiNL8YfX4+e1uvbiLdzfFKQH6GIkJL83A2GxG7CociAUo3prXQOHYBE8RLT1V6JmjYV2Eki9aSJF2qxqNi3R+aJyMYRlIkFTKMMtF4QqEMIoFsM33R5YbmWsTqBEcbm1Mq3pPyJr2S4FGGAv2FjQWFj3oKGALv/uP+8xD3zRjpD9xocVl9OcrqE7E2GdtbZVTIieHxEChC7SQfTpufVAiLYqCrvPejJYDI5hjxYXYFkgkDoXXZckukXfUfVnmtBLa0MvznW8gT0cCZ8D+O+IHjBAthirWq1OqYH7rTzO7QXrBFbBc24rx0Lvihii6Px6xVLAV2RRXJlPjPjUimwcND5ubsSmuaNls2Uu6avnoEES/Vo4uduBldY9BNM6afaIkZHtHBy0KG8NpnJLeCm/AQbUcrUz/vd8Bo99sEpxA2d9L8WsyTrX2vgA0P7+V4j6Zp5X+LduucBN9BbI0zQopwteHyskPhf3JQOoxPYeMno2lrsWpOaMj66jGBjnhhd6l87NDs/2xCaJ7XKc+7VRcUhBoFQ7mRVWPk6InvNvcHIGP83zNudTJng6IiZl9N2Dh9Irw/unMJrogDVmMXxOtSFdOaTgc/hQOIf0abdlu2d87TC7XKZtVx0lpwA4IHEK5uq3tNUySuXDDjilXFMDtkMOiPFukUFkoJjZfuCI6+4VGFrQCj5HvT5606ZhCch6MoIMXsSc1Wdxd+MaVr1YHkzfvxNxp5r/Ell3q+ZebFC7XMoDLl7hxSOvw8EqBee5oCrmJZ8i0qpHghZScKH1LwD35QAoS3gv4Awh9v9ttqnVpk/cgVv7uGBxRjYEJ5ZQJae5AFk9JwCdliKD4JIOF/4K3R0XU8ntaTwmEezt6O6Qb340cC9FXMM+Pdv+50jRasoUMIUJuHkinUZnUcIzN+t2lcAJyvnjwRzfwVQT8Ghj+rR0r9SL9wI8nIjUu78vDo/4xIJJIQ9H1g1TAJMoaxOt+FIkywubdSHjb4KGV+vvlW4FmBsj/RkWm/xSkDA5j42V4ne1BT60yKOzPjGA0E8K2MHTQqt3CjO0c/CArwp9T9IauYwaGajwEPpbYTtMr6dYgd+FHb6kEunRPgF9dPouNuPLn82lgfW14qmXQl4eZ9nE+Bja/hjPPRjQIIdhJEKurJUsxk8nFW084dByXzzamm3nY/qVKWXaa9PscsKxejyiEpElStXSzjHv8gppzo6YO/uryyrF1TmsLKJJNjoWB8uGyCqCBtQeB8897FOLd5ElzOonErQbRRQ6vIHpwv9brb/7rLug+E1l0Tg5QCkn1XfyWhz/wSLlUxqRyGfkQwJWMvr8iSEGFlwQI4ERQ5IozRT0NuJCbNEEjoYBQYERvp4+VQitlXMr/sFGZ83Vrk9R4ox+DNyyxeqc+w83VQM2JBQvX4QWRYelJZ+6yP2vdj998YmVqFjk/5M0YCeyvafWWsMMGOQ+WuH0Gfrl96fV59o83N35g/qhPTNsksjkAf1VRNoVegk4BCPGkjQsrDJYhTKgzPiqDj7UIZERgwBDziVpAQVwRaOF+1qot4QP10I1S0aZl1B49obpGWJs9LeIUbWUDaarUi4BEbE1ZcyOozyPgSJsGYGxKeIydW/UtGfR2ZmvieQTyvwMhkyBJMfgNq9NdgV2ObM5Dk7LC3YLfN0/8PnwJBcYxD3z+RjSBcmj8/962EyRVFDHKnks+Y1A+gGDkxvy4yv3yt/0c+JSQV9ZYShchoR747kJDUvYWN3NkNxtdgD6uhys3oUZDIS7IBCGXkuxUX54h+tCiZXAQdCnSrrd6L/GX9SFEzLCCTewLMvaYCwu3kSzum+kE0+wqtV7i8WCU0Al2toPS7a0CSbUo5bNozt5mBU7t4sAbkO7xaJnF1G6lvraXNcdweukchoq6k3bkG9RSvlqdR7dgsb+dJAGx0vSXeIEBWugKL+v2JzzA+dYGR3bAwe+UiJted3W6aPo1e5kzPoAxh9VEo843ZlRQQoKC9nuN7LDq95RgrwmccA251JPjRYJi8p29LamH+Xb3Mc5B3yUZl60vkgQKzzg00BY8D/Y2ij1TyfgaDNNEbxkmpkdQedJR62ZlIZbrkFf/t9GWhITeuqu82pnMM/Ej98oZOjWk3xgEZZLiw2WgjLDjDwv+v3Lb07sl2u8Ha8TFdLAD70BHKzB1WhwmuPqJ6kBcccZZiKA6uSKxFai/nWQPdzknARGX0KfDDpnvfx1U6X7FZ2GbPfRrSYaCKYw++0DXWQeUUic+wCFUl+zxc6Fbfl2Ox2gdRp0ATz95QXirB6FL0ELUr1b0MMBTxw5SGnLdEtwWnfHm5jldTkJA4Vjf1rqfTftwIeazdLvrdkNtp7q1KNvp3xoPHrz6oSoPH71DAzojiSdeFB9cSdwBmiWe5lvRLo225u14UENpiBWEXPrtgR8KyOunOGMPZ3v8o+3kE26ppJpSwgCvxHeh7xIDk61OuzrqNi6U21TSqpasYzgmiiNYzG4S95svyV9YbtoIW/+MnnLnL0ykIAwJL9p1JqJhsk63L4IMOFaKmkXmz9BzhAtXiWBbAhpViXuwNq+OGZ4IEbcppmsbjj9Ng7OZdNDJGEcLgbFTMZx77oCFIoTsHew08mRX7+p4m+l/8XfgaBDN3n+YunNkw3/HuybpQUKFsQm6r3ov50ZgtGCqdLzmauHJAdtI7RAHE2vgZ2ML+qwGCfGv6k+tM3Z5iOzE+CKZsy3/xRHSlDm5xjZhRG2QqGewLtjMxTrFsQG69pBowqtxTCN9xdEpz1SWL1P6ez30Y/ZoJbN2+tW6DN4ynlo6ez17fNeEoWdAsREhQfgqtjhTViWpEe+9zqsBTr/BpZL8aEry0lFmX8KFQUdhgaJKYylOwoCgScB9Vqm5r//rQGi1mLWTGpexizHXXByx51m5b8OfXPZ6ns+QT+9h2wryhlCiunoFuMf+Q1W9PJKUnnuauLVd0zrRJB/hR6gVb/iGOZ7I2JMbblQ1xFDKo6ZIoZoxkEaZk3lvgEt9XUXJ8yJte6tNSXnaIrbs4oClXbBY6ogqduTvkCmf1RfK6kUoUAiTftjS/V/O4O6PinElwdN94F0X9EY06W+RC9Z3dAKv5JkNy79Sd4gEE4DXXUefpjJyeXo4pKyFSHu7XcslTermjmQPyLCu8Q7YMtDn1++Fjy9irco9SJWUyK4K5fNz15GgA4KBN2kqMURNPplc1xlzO1tnYW8fuiCfxlzUgHqdijATqk5DdFD2Kj9k9RiS0tXfZVTT5bfWH9qFA6ohuSN7gX/pW3Ig4wrGvh1RkIl90FJkOX9OzUNMe/AvuvJq5M4xIC/aQZxwNjXJ4s//7R0ENBR3t9TZC+tvcvnEkXeZg2eoL5p3G4Vqs4+3xF8tn4SAmsF2SadBCP6psxBPTnRFjv9KK609k6f+I0xrY45m5D3glTKWKdw9S6XndObuNrQGCWl6vdu/lBvoMbtnhs76QfRwttPHMzZHCcP1/iA3fbHOZ9TbIKDQx4UcLi0eIC9wQLRVQ2L11jzR/noVjPuPC2PHGvSoMtsSttckgE516XwChid3DPKfABY6uv+oe9+yYAAb9XRwP5DGwLthgpY8FNtdRvfJBFzyWt+bbU7rxnWbKEKavYBULe1psd8vkdszDqOANBrTTjl/oM0LhesBR+HGNT06gTLj66t8suBAnXSA5mRROtJr+nvpQyrFfni1D5/dOZqF6j66tjS9MaXc5Uv9RzQJ7GROfIpikybpdC/4R/AluPr9hqi+ZPWPY438IHRFEMoxWF/+eByH+HNpTkg52R46qcT4rLrOYjsGV1GMVlw8CHlMPWv1l/69mFfcpqTDG5ujwS6VgGqNRUPTVgKoMkKLvwzkLDTe5C6b6Y/HewShxKmeZLi0KdU0qv7LJyiFYXoQWxGagm5g4WqLxpfhGwY6/oF3aRN1A61sFMrrf9Zn3uyVBwjw/7eIPbhY3ecLVkgClhWgGVMH6hDMqIySco+see9q8wcRr5wCZfKl7+/lIjg+PnfoTIKmkKaN5jZPN1TKtla6pP3QqAbFcdvpeq80uTEh5Pwcc97teoDsMmE+20V7ExA9uhvdU3PtyDltLwuo+wtBJjNjTQaS3RPVqbe/PWBJKxj7BUS1mq26cVJhg2WIKFVJnDHnO2IFOFUTqWsyaS2DAH9BcBBWxz8/GczZee3ZoR73lXShBTdMCzya7C2AIRjOBSFBd1nibnvbrbwYLpKm3Mc422xJluJ0xI6GR5UMGYK28vn5t82JXJ60OWZY9X/5N2hjfPFKPpRIC9Qt/1YLop5WrbpFNby02OcASo5vN88W1INJXZTRfY2reLBB30Tsru1uBIkXolhKGnK3IvXoDZQME3ToWGXDz0iyJcRUuyjv2qVa+7P/dY1Wa/EDObcYdhR/gZbALNm+eg3a6lj/KhVbaduMKosWgCeLHJIt0HIQo2p7mA2H+9rfWZhOLKLJ2bkdx4Rr8hX7BbvKBU5/DRJHX58JXYrZ0VsYLc+TnnpaVWA7xQNHyuIxHr7cWTBKTjp3EnUxnT4jMaa/Y0Bodwh7VokiKkgNgfu4M2viwba1Na02oF5CNglwzh0KEidmn4gjShvGTwZ4MIB3iQTo7cm3plVzf/9jeiLIWiuSlQW/fld0hjwSXBzWYUQDrzwa1UvOzG+ww2PjuWfJaLXnh2dIWdybA52WAuDXV/LDl60KgUhxRl6h8esQiGzlEX1SLoSzBUiCjNg5rzmNvRGnNpLGi3zov6wVYN+yBw7x3CUrlxeQb89CcM9qKUsxeztCwepsbnlg+xrjXRjiWlqKYtBWVSAW/jywNj8jdMaBeXjyWtmPz9u0w7X/5rkzIQdjK45ylYnJTR0JQGvZcn/lgb8r03TqZlFiL0q53YNx2PdMkJZPskbrOpovk7oDpvaOipZzkeya7EmC97qv4uhweNVC7xcxT2Km+I5JspQcILQn1HSOxf03NQAWwPl5oAmw87LsaAuTCwrgCHYzA5nwZVH5b1NE9D9wCQkKYPmqIJYVfsiD3QDIsoAryYAM+kAOmh6hUxH2BX6F+C73Gw1weXOAmQIqcE0WSCk4cuJc2ZWIDO3CHgmAAcqrjVYyKbgvm0ZF7pZUhzJ/8E6yuCwevpTgbz8msA0LUqMIJF7WBwbOcKBqB7nCiFRnawLZld8JIiqEKfkaAVLt1IV7VxdBU3Slw1R++UobVbN9VJb3PO4y62SXH/p3LxlBwJ0Go6+5D5TDD78dkySRLr24IlpxM+EvOIIRShVm2ILtZ5G+LZVpE+uXqfzbphG+qR9OoPpnoMsU835vVohxTg1iPMOmIVsy4McoJrqZHphU7t32QaQdMZP+nW1mHS57fGd457RDQFdk4/z2fsNjIfzQPLPr7zB/v/QaA1pl4RmWM1uSf5o8IvEH4C6CLwQaLQzIIdX7b9kIFuGvHn11YQlN68ZnZC2kljRigMS0MLKxq+zLCVFkfgBJr9y0N9vq7TaS2u/KQcBepKB0xNTLVA9L/oQ1lI4ajLo43HueNNG72LuWG235VQupAPZh813IF3NlcfCsVltkvh9H0ZpMRHPG5AQksU9h7n9dMvqwfi8jdh7k2I2cLno4oQfVt7fjiwRE4ZL/uzN9Hc10kilY3BSZo8bq64irjZdo9ecEUkGw1H56mnOQyZKASyTryx7c0hTpk71N2HQPpNrXEUq0fdEABdENyS6GyKOacSPkMJt+hUjn5qzOZle3g4d0kimUSfDPv7a1fm5GPgESU83+/Y2uu8lim+WRB/w3hC3EPdWM+Zg8volgiHRCN15IvzhJgHTKdV9Oo8kyeKRbCBe7XL3PX/JYtzoqXnTtboarpuxNXBCHjmDqw8viopNqrIgT1gr6Qt3+Gl2gy1AglusvqPZx4rTOwJF1EevArLfPOxS5IBbEEUpxL8J6MZ3FPVUyr8Hk12ag3pTE3+qJ3jrI9Tn0DA9dLentGOaoo0G978RTk4GT61xTnMR7kMafcdphUv/cN8ZaHX5VA5kSqj+H35i4dZrD0ljh13EbEAcDRabH+64guLfWeXF9FZHFM4pczpD0ee3vJ2pNsgeyT0jDp5dNGqfrNAGdjhlC6lBTLnLX4oh0r0yzJhP0aUwd4aI2bEC9qF0siyyD3srjW784fBJwCudAaEMHsZBMCbdanEZtiG8OcmqNmt21ezk/z6Lie66inO6UA27rjXxyCFbNhDJRM8w22Y8u9WJjJOpupGH9NrlQIqeGJ1AMTEp5e8/3bQljAlt3JLkaT44R0V/gaGZ2oj/HZGcv2pa6oX/zL0Yt0DdPKBax2znXGwQDVqr47FMMMlbErpIf/ME0QwHVNSeOPP7mLm5RPom8ffT4dIXeB7qc7bfGKJOxXp2DCbCvDMbSPy935n+Bd7GD/DV1Mn/Bdu/Un995W2bC6kB96T3nNIwAm/HG4JDb2IwaQ8hSAIBPGFrZHMmUioTUB3Kk8j1PqQYv5LZQeHx35iV2z4+LR8IEeIRPu9AV2oKtLneK3axsK4I5+qkENWNf8if4PFRzHYUvICU5Lao0D/teivSr751sTMxEV7SfRj4ji7Ik/dmi6L++sq2tdm/MgxSxM+yWqvQ6q9IFDjvcyZu2vdrGkRpj63BCO9K70TlHuECJMNw6Ny92cckIJaJ+lT89oN5Im7Y5UVncnzPkEEP32KsA9hG1qKBUBScBvfnG4plTAk3W9BewwLi4FTNuz/CSm/wEM02mUtueQUmMaqmo+KRNBfLw96CwDJtdrWH3iVmLzJEs/QEDobgR1P+4OgAp/wY/M3bQNvMLjRcBzz4u8IQZ/2vcUG2OxHb80dCmS/UNnTViHQGDAXRTAqK+gH2Lxznekdb7JlhD/TVhnojT92qa40BUmQdOxRWQ9859letBd0U6INc84exj/VUowC1x6qODp0I6qtvlUsFK4oX3LuciIUgfZI0zlzN8qNkSxM8stTOefWTYoFnvfbg19v8LVzRxhmULD0hMrR1Mkua4Obj+2rXytxEztQt+M4+unnwxeVCGO3xCcMp13etBfv8Ewiu68P0PqqHJlWPsHI7Bch1wxbb+hWnb7bJN9+BsBsQHSGpZP/tYLvoymCVQvhm/dIFqqBRWXvn1moGI4ZMdEw0ZwT+wxm45yX9EhR5Xv412/5wTXIB5POl6Cs5KzBrBd6HKK6QlfRyKthCizbZeuKfqUoJGYId6/wpVkVVxrJlwmrAxbkor2f5IrMwZSZhBGtvzCKICzK1hZ02eSiNnmsodKEHpkKmGEMMbq0UrwoZ2OFOyC3u0HbjQPY9R0PdQnCyazK/LIBLFS8IcbhF9EdgnL/frXoavtF2oDEYvBcR2PTLOwl+/PohVs6eMG9Q36SEKWpX8SAGmKoEc7+V5UPpmEax0+kyMMH9d1GBKGFjQyIZAhSAzDrLeYGOdTG2Xs6+LvbxTP8Gn5oITiQhWvyT91LJGTDlMWi59oyP4ioldXwdQNrwmwaw+A9bu5NrtGxmIeG+kjOaLNiZt99FmC4rC2s10B+lPnG++kkWourUF5lvMLyac4NslWR/urQA6syOUAGQdv3kVwc5Anv4Wde1i/aYa56X0tUdwkOGarQ80HuJJZlg3wlVD4Zk8re5oWsoK4ZRsn/VPDEn52QnfzcYghHJE5PAr/+MCfnmVQXZoBVGG6TuRhK+2OWvi/8J1v4LmuznjX4EvtwM34rrGLvaptXTQv39YWABSY9Ri+x4XG0j5O0ogmlS1n2Gt17WNH1lSgdpbMAdNYDcY0PyK7xTk+s6jtZMa32vGBz7rD6mZOWuHOgZETm0IVttQ7Way/sGx+S+ahgwcRxfVojSD3Govgyl4cluL9xJhYOklGDa5wC+ym5OKXt3mqEmLdbYkhNSsKpSXgDix3rcIbe65HCKijaOowKrTEikeabOW24DLLU8m7NZrHE55IfqcGCHNowGtt/gmz9mdl3LxhPzYV+XjVGRMdDh4236e5F+zt9mQ71qEC6o5xOLHT8HKLWEd3xmnkzb3/vkRVKXQVKhkA0SPSCuVJ/WKqh0Pig9NwKanf9QT2amfI7KcHBAAAAW0GAFjfprwNF4eS4jdpzWFlh8fXULn7Jqdy8D+iFYdmP3XIiR/8EW6KokgKkN7qqodfAAApccCSiHLQoemxzYR3S9l9SwV9Ji91su3wMdVmkuMTv0+FTyzbYtIBv/nxsrqtxMiPiSp0Co6uaD88fAMER5PKOReVO9Viqa7+H60YUVtGuU/lQ+hx5sOe6pazXtPVGW/uMYeGo9a+7Svth3fG2MjnYY6mGOWtJwIlT8QLHK8/VkFy9VEflw+W0cPJcG+0e7syzphYxmeiMOqCQnfo+evt/8VMQr7SpGLnwWLHP9NOyXzwU+eSEvObpjEquPJ9q6IkBSOTcmya0vHbYQU7FbrX+jGWSh8OjIFgYLz4wQJooH/VkykZwbo0fbIhPJYXZ3Knvulcuk9Ra96ypv7TMkJEBBX71LF+nZvOCYzhdTi6g4FFHss6YxOuRLj4vTWoh0XN/fDb691SFjDdhnI7fws5D7S2CMtT80SozIpz3n7hjutdQXo8/CUBZ8jWACB5wvqFEvGza2n9WQRPFw7N6sv4nUozBVWJQ2rhPIAyvcEPvRLCt9lCFXIfLhMPh/tId8aY3Ax3WgqbGjz1b0LfTY2g5nvalSkSZwqcETAcMR0gN3UPqqhjQ+ERtzQrBqupDHrixLxEFAsArTjpLV/ySsa51oYOJBbGqJcc2gQUweARz5hIZ99Yim0GEvUKZNBGZA1nqX1oL4TFTgzCoAlwCkakWRF7x+GMfvcSn0tRGEf6sWguMX4qWbhRpcII1Wxegq6wt4xb0GKv8QlIp9kzICGtYVV8WYDdMk9WzE2vwrBu4jO95bH+MENzBHBgm4qAuH33WYupbd8HwhdLRuJyoYRJTT5IiaM1/DGq+pV+UCmBMtzC7KHnUiFEapPKwbCxDNZJDhE48EUE2lDWINAxT+Tp55yaDNVofUdFhHCYBnmTgn2JolrqxhBs2/SLi8Npt6WfJgKr3+S4TeP26ahQw+o7EYK3B/CjEUOe9dAkyLeyfEj2PoNlquaPar4IS1NlORMLd43NbtqPmxOSoBTdnlXeYp9nIO7KSTPy4OcgTtJQs1DsJX/lmBvnPapWvihWm7spn59OHgiJzBCCqYs0PNegjF7ONN53m+MZPAGFei57wzP49HWm2A1Ugr1ExURytNgVjm4mjJCqyeBzRFNuPPoCFriXTSSEqvQMkFlkFw0tQXL9L9IDc4gMdZFLwOfxb9pKelsHbUAFssHzdrBIAQi9Q8PAMK3dwoN/lfLyfSJ9uRqeIB+KVSXh+15clba5NtMpqT/iHQoQOkSAmMsSTWhtUOLF2phO55pgsxwNdUDxLx8jCbz/hQWUUDgHboKIOD5uM9qkcQk4i+QgcMHoFMnxq9Cf/1TQURoCndZ+7isgXBEHwOjgzSBnZyrFJagdowlBnuxywtb7eomEfBGxSmZw2JgoJMKUfwIY34gz2JRul5sUYQ45cJWf1p4wDNDUm26f//9LPhPGsr/nHxqmYU9uuxAwhpmB1miCH3xJBqfVRHIgXQIxWhD4ZoGKQqDt1wf5aLaBF5FkpHOhxRQwfkToKXkyhSugNVSZkkC/f6TpOZMIS9+o0Mhgwduu1s4XY/iF7Gh/aerv8esfI3o8/YQtBMyCX23+s7VqpZPTJ6jrSr3my/VIeW3QRhn8RxSoCxR0l5E53JV/VqeAmjyKusWurZvZHgxNeI1iV4i4wQeyClt2wDCEAH5OsZqBrO7WS4dl/2F04H1p5WPZQB0w0iERrYHHGVjkg8oGMYIh1aW9gVla0IOQHou7bFHP50c/MtIsfRhKDahSHGJHF2Yrol2ge8DKFTGpuLIigGsCzK9s+LU3ljPbqUNakbQlg42c80vl/8Fy6Qrl3XhpMYfqeB6u3KQGAQiTRpMnbWkLYsxbjLxI5Y1UMCLcrHveXniLSBJ7IwrrO1H3ytxIrZ1WoQuW5koZ2/k6/9UuNMh/cqAiWLxzsT3fHrHuDoLOzDLUeKAJbX+vMPMW/Mu1YBBgR7sgxfSodzVE/Exknu4mOCiCc4KfOIEfeliZU3lgZmuji78TBtlAvZ90/bc3+Ha007gv0jJ1MCpOGTjjoCnvC9C6lwpv+qpEoMg3SFagwR7G6aO74GyQfSiYDckEgHeft0i4TKLtFJHZpgJyPoHqF+fJZv0hTKpbAMikskAlOwjA4JR6IhWRyJtXc2u/7zM1kec3Jxa73eExfBOsjTOUK37avGPekReEc14m099rPYch2MouDcXJP8DOhyG+J7GTE8h2fjS/V53k0Zr2dugAWOwx+1ujY2/M+dkyURge1JxqyXqMMST8BH98RTNpojfU4A7yy3vGzCqbX7VBscMqulMGU11RyRP5boiopb774rVpYoTid5jvYpdJHNmn5ko2QBIa2cXi9mIrFak/9i1vy1RJZIUpcRvU26BVKlTstdYkxnEkUW014XHhbFpAFwppI08CsJ+PylF8bjN3AQZovpceoOm8V/0sYWyRYiB7XbrDvRDpo5G9iuCKraEKTCQTSDsd5bY3zG929zV8F2++vFZ4FL4EHPpvq4CV8seZciTOwt6ex3qKHLCNkeVYtOzdoAQzfFRELe0GV8/Ez7P1/iXt2hp52VFc84UomW8d35cKfvGby4xaRa3lOS9LsI2mr49L8EVqFTygIvVfPnFt5GDo6V60JJLjauzNQPCuPJ9oBRtXEhQicjRchrJtKlkknjPWWOZfnPmnYNPHbWLXAlz/mH2X/ea8FkRXyvcAZRrZBGTPTuvpTuLPHRuY6pI9i2CI8KxJYWYmNgjglojCo5jHxi88VO3EHYSULOQOx75qbT4PFG/6YuW7UgJS7zTVNei8NQnwwZWWZ/dONb8AgsYj60jcPqfBBEFtBZ/+HkvbgwNiMHY+aPRAqsd4dTXI9sWBtE3OQcQApS4Ym4cIEmCbETknJCFFBuE4RV+vt+ZLdgYfMufeLbs9K6i7FbyFCCyWNv3e2RJ2mIq3tL0QWR1qFZYnNHJGRbxx268I7T5zVf19RDLSUuX9FIWRrj8YXxEceEf7DZKkRfTBupV+1S06PQp+FV0OC2AhoS0B/v5CKQ8VPmKbKk4vgzHKZ7jxeRyzcYjiXLFA8VwFpl+hsly+wgcEcDXiGOI2G+wN2a6iHRn/ZA1MwjcrNA2sKQtpV9VUcbCAVCOnk5BrXHGABzxPfqO/Cu1ID9RwvbdhMLk+F3j1KDhSi7AjT9tJ0FvZdRuunXKj9nOkmDZVZNgvg/g6RF0nxzvBAxEkZI/v+BOI1RTp1j4Eq7dHOmgebyuSNnhwnmPfNBkrFiLt5ucjJ7MsZla2PC+SF6r858X06ayBilT+fwkHzKvrp7a7xwzX6s9QqDIRyZIzp8CPZAjdrAa02vFYXTu0S7igXFhYDni7LBvd4EfbjB++afc/4lQJ5SB+MLlUWH86QSk3NANNqofkiVwPrIjPpnyF6JociaHSIOEtK6z7npbb5uvNeK9oYNbcaqXCDISiSooLOMUZt+t1cTSdz+7hMRMIaq2JsMSskXSFtzwPFNM688l4rfacNwyqsiUE8DcqCVsy8ZUF4fEgtSD7ATNph3Ytef89kz3jf1HCAtkpw5ivzr4AfBX0IcWmVd3DklyGz50oo16l1tldYe1uuO95soRxkaC5ITsSEUBIs34sMMjuaTaDBK8XXI6T00LuXux/wuSE5iJA4EDM7yLlLAMAl/PwCAA9Ls8JExecGHh73fGLe8tQHlvVv3C+GGnIwnkkVcMMxqSRfsE+xESyoWu19c2b3DR4qk5SsNz6+LGJMuiz1lcrxXEIvSFHts6m6h27ACivqdwbE7cK0Ju1O/2QG8XpvuV+4wxhnrDaFOz83yIjHHZWYmwjBwV5+F4078upvMZAslEo+qM6j/cp0aLP8NmHsLTvShCZxAIO95AFLmDy4mLD179cFEppMzpE9KKCT3Dl2i5qSA26XoNaz3MUxZvKEKumzDlzEWwmYJcYFZbO1fNnSMtgpU9YzHssCPtg0ZkAFWLISL4bnEDfXWYssBX+D2+CqFWt9SUc+uVAHg6ERiY/MAaI10VHWa5+wiYMXgOTljWDgh+28+1p1fYb4AZHGUR+SUCixQlDIXM7meyN90OOm6F94mNCC5wqbsSMQWBf5o/5dWk7IWUgjfPg1y+gtEN0c85FlCPsldYyf5nQIzlLPFvVTqe3YqOtUXkQuYUNPPeHYiTeQCRvVuvY2iRkuPmv5v0m2ZqRIEuCbLoNObOiv7E+TYNjxjSu/sTOQF0gHCL8X/3GGWeNyP9up/+LE8Fplej4L0YmwV057hZbzxLH+h+W9KMfyYnDVQBysBZMB2jvm8AfTcKgO9ZtfKsdJKxXMA8zWYAMKz1pARWXUwN7w3WxxNFfKh2ySaG5QPteUkNxPwqS5QyFeWzV9/o7e5VcaFTf7GHt2lkYctd2CW1rN8OUuHXMjxh+i7a6Xgo6yBfaEpAI2XJU+qoH+wcvOcvu8s5j3QJ0gf3uo782mqRaG8hNKE7a/odePMkaq8Nx+YUXoAmvPO3l7q3K2yeFJ0fyOqgcJtypenwH0TCbCSaGMWSSSmX4N9wooBb2Gx2e4WNWnyW/KM0tL+TTQ3Ywk0dIYtXmUiqakCLOYnZh5qkTikw0/c4chf68o87Vwx8idZy08uyL4Offb9coeG3nEmWeFfC3JU5vYztw0/6gLgI9YzQ9vvywomaYXosxs5pt/34DUhb/HEbfs0GeNmRtl17bDFF7UqwfY7EZlAkehdUoxe4bzErMEKltUXFv94ozAx1mgMQF+yBbNzV08bB37njnG3Y+yt6VxtsRmIuvNli3U6J3dzEPmxidaXC5WDVfAe8SgJpRZzMHzp1R+cGKh8PKFTgfTrwrIvwqoGmZev/AESb3qBiMJhNlKigHBtNS69s8C46gYnix9tZncJISxgZO8Bo6BFzq2rgf8Pn/wW3m80JFUc61iv1BbOwToQTmFoE9xCwMTs5uDVnokGbwR3dcNBYhQdlH7NF0gb9l1vAIANeQfgB84cdV7NK9ZV6cAW60Bo4360GOuqBb5yLsTLH2VQgllv7i6HY/dfINjkmHpBQHSlxP2iGvmXA7frz+v0rdPkYclLNaDQv8TgUr1mUOmO53gnTgv/M/ENSN5NHqjSM985VUAhbdKko5b+gf3D38do/NNlQF/sKavPgZ06/w3dcowLGtQPn1hPs2N3tBfRg94uuyadC1Qrcp0SIosNCFBfvtFAXPL6IVtbIiNMQ6qMBvIFM3bU2C0JcxhBVyRc/T9YIT584xUa12o2t4UCrQBy4XZ7H/tPtW2zADzwav3ftcc/W7Gu+lOf0vP0GSxPeplcr5kUezP+h3a9YmI1QKAw1ofMnM/hEeYiirrpn8nLtS9RmzM8u9Xte1WS8mu87hpQ4rZCXXhPyfee5CSD2B2i/sr3sqedqJN9VpQsp49OZzKs7mcOdH6OB+LntHHlOp/z0C91i+zBhGRPOykqs8k0IT7sKMMuumD13zP/1BPdyRuQKpDemAwf5ZD4qQ/Cop61TGHv8WLD9TxJfm1n9OKz9lRtlqJZad0oS92xu+bU/XqmvxTBOOlcz54S24VLNLGEjTxj6XbqfpkY9Nkssj0qfWRm2rVpJID+zYAgtPabV8u+cXw/NCyZ4qCQlolABUJkdHr7b6VxV9Xa7hX+z8S2wwsY2X/nGygTU6+TV/t/sVBDauAq4yGlM5nWrrnXvkcMsvJmL7n2i3xBnFBTs2x0aCl8NkCn9WcgkDlyia2kSO9p+SV4ItzVTy1XB1d7tBuQp8CwyfqoWVOkgFSJQsizyIMp1q7O8+QNa6aj1wlLh3Y/IsOhymEfEpM6x4y996MsatrWCVy6IO91bzIS8brsLj7c1ZMqK3QyPi+V3jM2Yuc1oHT9QhcGP44KdthSNW0dEi3Yp/IixLxW4MCOAObmCb0uUe9INXVNbNU9N9L26AUupO3JLujZseen7sLHWuwesoRWZczDrfQjgADUFxrYQUVRQqJhalEvxYCYSU4CzFofLhG0UUl1kSshQA8jMBAYYsKD4h6bLjH5ODicr1rcKSXqr9SxvJmFw6aR+dtuSh6oBLbN3hYrYY+XlU0xzQWTvxUU8/rH3lks/UI2bLZc3UycsdUFul79xb8DjZZfBrB1jLNbYieWcQExmwr+k6m8sxkUZ2aXsoDZMD6fVfIjLAfTugXxUtQJ17AOczsJivLMbJk3ZRRmDQ0ox4IWQlvMmvj1QGTOpj/2QMN5NygSP5GFtOdRH+9Lx2NjpN3GgISi+VXVVmqLPzEKHPTwQP4imze+MqgH+CYEv85Zaex5CCg+Jtw2DFsNvJ3pIohZ2MAxdIst41N3f390sQVVO7RdK/iXPCDEn9mDgRBRhRTy47V7N+MLbu20LxcU4tEb745e45D2F8x7TMj+VDGpIOxkWnkZ/Zg4EQz7OrrMqw2EgSrK1gCJ91vBVkS+zRzIq4NYMYnqmkYoXEue2oMqSJX8pvHHJ02gpGgZ8VB8OofKdQG1YlRBrjzwswZUHTm5r7EVbxW0weEQhZdQPOuuaomfcIL6tDXar2KlaG4h+blSeqt9Ulvm89ou4ydTTpvk6Ok/D93bn+/5vQmz9NhAf/GMA9snu1YcFXgFCOlWtiMV9Uh1Y5Zul+BU8fsPxFdiTJ4j6du1ZKX4Tmiptor69yrXrSiT4ii6typXxZDahRbcCdGWQ/jGV1jNU5kPR4pT3HuZ174unVjXe7iiAIKrF2p0O4fRcTkQ6U3AK94ctRZFfLf8yzOUaQcZkN5tsGONYLkIQXcvptNfBFRO/XHHt46xVFanmUYaoovU5q9pDDKvU2C0eev2LvrCzHRXyaFYvXLAbl7l6KvHpRDbJKwtvTnTTemcMKl6jrUgNGMOI/xS/svCkSUomVkuNa4LfLaaoK+Krl8+nkQHL4/um/Ea4oSNHBuR8wJA8si6+vj4UVElnyUcLbd0Wm0L+LrWmpYorQVoXjUyTnBjoIpqGMj6TFbrZXvZ/n+UpkFBKyQIEj3+mjRzpMWe6LMOizDvC6Wo0Ab+dkjoJyZnsY2Lcy3fVrUTPCj7wqEY+bpkNaV2IYBcc2H/LtT6+9Qb6ttrGMpBZLIB06viOIJU0JeAJ+/N0Bh9FeUomosQS4zoHN52iWCvTrnu3evyBBcWyE5CtziHF8nCAdVKib292LIgOcWvNUvdZh0foemPSzt1r8tD988fHqg+1t09MgAdiG7ONcqOXLGa5j5+KyTFlays5jdzPKIABwRkJc4J7fzdSI9MUP0MlCaWHhnHXz2SdkVw1ODFziF33DXP/u2QkzWnCdrgHgE9GgtGUGzpA58MrA+TzZe7FjRDO5Qf1Mng6JAgXHUW3I+6cVpcLsHpw9TJWkltc2KqHic8Fy+SxRTGh7TaTR7u931egnwGbbYFRPH9ObxY/7VJ+/UTy7GcXJxedQvymAv4zgmxzWs0iATfesVol5fJj6c0V9Gs3kiukfjiQYlq5kY+Hm3tmv9xW2BP+EuWeVJT/IaCfle+BtOMYLJhDIAIlwyQrANy2goeTxLE7jy/F4E7EYxzSxC8CoZ9lEmGchKhKIYIsbQI4cF8iTQO+5TwbzO2vsB421b7hVHceNHcqOGzKLqLX9ZDtwjqOqVAVHEGaau2wARMRPXRLdDwvwx9DyZhoqDC0+9xEj1i+ihER4NfqrGwXN0qXTQk0LVqjqQ/bPyp+N4/USqkfgA/T79rTmO4+wcPF2BmpQpc59PzRgQ19JSYnCCrwVHS8FMzr9MYhytDHK2J5VAuu1k9kaS22mMfDitKkino6KZicWZm/hNJ6l5vu6xfLkCGNMASUeiF2LvTQYsudM+KawEYlYFYdId4JuRob1M6n6KqPHvuqSbO0DbwnHjbaF+T+rzSFw6gV5acuT31pMSfrcQx7DTVOflXw4UzdKQf06pLguYrEqpopJd/894Gk7c4ui9kSxGTSLOHb0TbjwzR0Nrbh6DCGbGjntMf95REAAu8FD+Z837LYeY22K+VB6160Kfa1KcZo9yHUExz98EVCDqGqEpkMXjsUJ4vXQm9/h+8hp1bcXakhz0BtdgITiHoP190JDrepeGgKIHSDu4yYu/6KMze7mk30Mauw7wn72PV29yIwiM/0hEe9ykWn2fL9qLONqN7ID6tMokhxparAg2fis10tkXEIU9f7PSSjtZ8A61v6Niro9tL3YfahVgGJG5uLupFEhutLRSbqoGqULuTukwAE3Q++t4QsLbdoG3TajM5P7xq9YAbQNjyWxsDOgijfWeMshqpnCKAF+LYZABNu3tXjupefhNGbes0eKXZyjJUkOkR+vqApllRrnae5yNQ7lpQHkH9Q/jMYNwT3/T0iteplK14pL+LcgJczBef4rlcBmXaK/ukshyXRcHzokS3nL80Hh5+n6FT3pCEww0xujdtgf+VpAerA0BlljIEO0rE0UaQf01QlF6AtOd+Lox2RKxwInuc41ULUtWL5fg3/qEFw8axsK33dIQDbRXD0m23Q2OCfNIORBKSzE6d9P97myo3jp2+kFXcWzACtJOkN/C/4otMzAMJe85wS6Jf4X55qEfxd9yeqWKfDg4U5NwPcsDxN9rDYU61zf3HFN0b/jjBeXMuBykHDB6BLU+sj1vysSucuWW0kabhAuGbDkvnygbzZ9+7+l9TDFoVbbzIMS0sWodmL9sqs4L2+vUvXUnLrUyLPDAxzYsa3r/XaE0zJxnjcCjyRLzacO3Uln1osFKzQYPG7MgzYeXe5cOcdSQ8TowDHs7Pl9TMtgdWq8GTGunVaJMwQxJi4OXxKk/lEKZ68P3OrgcxG5ZlEPhxeF3WQICCYXyNN3e8044kICUI70DUt9TnJ5oXJr+gYr8e0k3wpbAIjPf35YdNfHvoVVXYsMtha+/7XDl0kI4W9OtOCY7OC11g6euxGLHkqnLnvE3olTkML2C0I3Y5yhgEQlxdAw+U+oiUMY7EornYDxZbuWvgAdp5guZYAGEhaFiT6NINlnwAAvLfWLLNV981T1DJkdgh0+2ELtJQMPxoZbsopniASHrHABvW3pJAv6IlRcCxpH/k6fy0oPty/0sNF9vk9N0OEyUUHEhQsSgXIbRGbQnTyJf9WHn1IQWQvjD8myDDX1PNnkgD33vwKtvrEIdF3EgglFeSDrnY+Ah0VroPadcvMLsr5Y2bxzzLgSogcXu0L109W0IVlYU77u3xgGJ8fRMhzt5DloSDdHmFrw0LUOwrT14+537o5qOY1Vlu1MBO5auF9ptrHgxOdYl47xRsb1yEgPMJrcFsCAjW9FgDO6S8ITrKqQYlKG31R0kHF/8xjhE3AOlX5lKBqOKwcySHCqNTKcb4/KIWTS0BnQgx4FHi/dg8dteATpKWzjG/rD7g7app4u8Tz3kjB8NGg2RhMYINaOwQgmeuyH9Xl2OUfcPE1JI4vOYO5vQ0a5IYeubzQBxEfVr6hFTf7mPW2CxP07RbiQ0V5C0SgCcsaD55AdLI5PHPbDSYMdKV1KQZb0lT1TzjEPPLex8dy248mWO4TWq0a8wsgqEXTeX1yBg1Je3wf7KjigPDXexiinFFT5hsYNtKqABjQv7jr0JGFusRzMNQ3REFk13b8MaEEofkebWjD+Gz0t7/5uu0X1hP3SELj/1cxIwRSA6+WzAc2EmdTQb/YzNTJRMGLcuL+c0d9i02ukNM/krXGmqTVGpbFWV/pTJAmdih0kVI3wlNzYsef/LxLck5HaNAjjR/iX9q6qJKMv2MKakcPPY39OoME6SBZLnwVvo3AWA/h4axmPArg54RO/t7q3PazixQHbIwTYuW7anmpZS00E/8ipzLnyYZEQcrWgRdGzOKELjYJ4yOkeH0fZF4LZ7W1Z6jgEw2kxieR1VSxIqVWyCEY53pD+7tOIKsllWoRaUtTtAbmLlhPwvEbVw16vUu90cMK6tmWDIgfSd8cn4wht04ehO7Z+Z7jowX4j22rYzkKI6Z8sDAERgACj4SMvSTnrl0sYvN7RBqo2iKv8FzU/1PdkWreNOmYQqAVeuIXRnCmz+GzmCgQhD/mMrLP5XWbeD2kgMJpce0n8o4/L7oxWSseOm2gq36zIgN8DoOaacwtFynZqzJCa7DvofetJWaZiXABK9ryd4Jb3xHcScsHFuBawoKPUaBoL0zzAlBw0QxGSM1SSQBVxT4CMr81R/n1e420mFYEZj9dXDTfWDhA1zBJOANLlfkfwi6SmC0PFoBjVYCBeiU63hzwkf6oELbPo9V5bzdLDanZ7kfQJTBSnyJPqSL1U+dQZnmOjFArLcIFo5p4sHBwe2zmfDaPLCQvbnLPhblIWxFBwfTmd0wQJtUQDiDyYTG4MFHlLAHGzGFqfV37w1eD9OdM9sk1LcUul8U/8vNLZk/OE8zaE6gqWLHhybzkC5h0vy43vbM1Run5sRl3AcA4/Pf96tOHCTBBJPslhqXr8igRrSDfPOqyd6UPF1ZUmoXZAvKqDDlC5egcOSP+nBfk2mwmdbBxzLgGgAEGlHojlyagMxRsighinApmHKn9fr2tNCC7EOVnwU8g6TfJt5nlqG9OM5avlUV+onV2ABQBYGwpqqI3xQXlByk28NCVRgdTbEKrBHFJ8r6kJEHkETqWql2FzK1JoA499W1ECrBv4eflI5eB43kcGFJVbCsQD59/smgftc18Zish3NAqrR1YSlR4mB6EL6foDV8ybhR4HtUPcGmt5yfeqPZBaf9EIp0UfPwHag7qSSS5zUKLAAC1NRin4Muddqz/TBQf9rOuCP0VlXWpv8KHTwoH9l8ViDBn//G4UDQINcu8fxnDXinHCv/ROiUAAABtn+H9X/ZLR3ZjyakZjU4Xt3CHI++PUxRjZqnjwFIoOfFkG+J7tIVK51zHgGsvynTzMDsuwNDWLfJv3Mbzu8sTodl3OAS+xXXV6VsRbFhMZjpd8eIDvDOAvdjHa7GX6itVflt08Lx2XIVZBwN9j4foFVjhR7Bh4WAmv4EMmeF+6g6O786jr8dnrazNV/scimfurm9YZsEr/l4T2bI8WYvEkLrqQMRmK3u40AyewFDb4tNhQggGhXiE2VlKT4Xp+hSSHfN7ycEdLlTEht0AGAyh/3jygQ4HzUiQIBwseR/yziFBcSjDnzxFZOzlUXpifu9vVSATFNf1RHVVghKZIQujsqiR6u8ql0OrHYuJQlTkicfZmzPs8hmykuGD6KVR2E4+cNmPOQwnNZ6G2RE7YkRo96z5jK/XcBj9oL1C+KpLdULIVURl8LCPe7K43g6FVr3fANSstEupIro3bzJA8EqmvbCY8mw87M28XpT7mVDXQTCv4Iz+6sId3O3XA+V33zJwsGIwu4HQmBV2ev+0PCjsIS8yKQ+uYULa5dh5q/ydtVPLz6SUQ0TCwdqH7Ev0XmAe/c3/GgtAa57d3aDKLlL+fHAUEdGEsIPsJCp/THsJwyf/SmMn6V7+jjXmBs0Wf22pV6I/hODPDvc9/KO7/fmFizkMG4TNXO55UgoYogrgIEbiaxgc6lidIAq3Ckfg0IWo3KKSFglFLyg4uWNig9PI6abOZoIxbQK6PKK2R5nU+wy24eCGQEsF5+oQPHZrT5SUISrCCM2N6v1xTOxWTeSY/YshA5eB3IKbiS/Q65HSFF9lwsr7yVCB9cb8SVHwl+BtGpQrbwAY1ABLEBZsmSj1iv7xZ/uxl6sPiXmmaWd1IVgeC3OgACjreFkaMkuEKmL33YCGd1+FvklYUW8OSEje3FubXyW8mpswqnr/1X5SfV1ArQzD5V8mBS4i3tpuq7Ae9T580+oivyaeBltynrUwyt423Vpcs5mDoDmULoPRkkkR2+fWqiatNAdg0SWWHih4fA/dgOmoeMalgcE0WV0nZpqROdJf8JmsKeI1u1fJXmvCDKu03TtpXc5dyUIO9YGE0zKSJuTrj8AoCVnh4JL4ukFBn2YHwCEqYEe322YwO++cVgfYoqsdLvVfOmAuSNZ0jc5YRlrNqUo1gTCFNw+oS0IK4ijKtR5hYOrkIT7UwVmNpWwIWzyBPpu29jDCqQBr8nyP9OCW1M3DmD9m6SbDNADuxtMpNJbxgzyKEFAwfWDHkOycQ7rt6pHwwJwI6BZuloXxpVgfiytIBtX4RhvCAIO6nJv3aaQeLNDwmbJQT7Ra++JHH4N1QP3/DXOY0q1POV0cPY6p1Ba7TjJbiIQrMCe9CnYxx9Ynyl0Q7ofybwxY+y02X78jdlgzvDYzDdazwr/u6MjOMTQWiiZnIR4XN/QSjE3g+/oPY/PccKMba9a/pRVbj5k8SPyDGuyZN4n4knU+p5Cx+Tp1/g9hwbe4mDtW0L3vqTf3O6o1OmAlBebL6oKKX2xy2zaNCT/T4Zi/E//ktEyjyUUIiFuB91M5lIVP51qeNmxsyQyAW3y0Nh+pRmO1NDRIi6jLMYv86gsQUUM+ZXIghiQDj4irlTcuRXQyG+T95UA+ZBjJoQAYuxJveasO+9z9h79ZhMnNswllYr7ZbSdLie9a6//jn+O8ei35cRMP56/dpY9/bFEaxosFTcqLVA6NY9SHCcz8ARfB8onemtAle3xP24CYWV4DrLkNG3VzpzjdiahPndcCeVUrVYK0mksmcQIIXjgd7SZbA+/zvddphx+9gTmnP6NUKoZLx5i+fMnnvnBBmmCcQ9uyeepY9N/y7jKjBWve3dT7iz28eaoHpa/QDl2HBlQx3n/74fcpJYGcLv7UBvzZrGwGYlD1Q6j0xk7sn8KB/6945ZDtNjLj5mnKjwSX/50fVegUCNDZL7Ib93QdcvYbfit/ILWgYnQAf6EYW70OwZUCaxz785x05899KJCgVfv49yA+O7hoRvQeS4itzY84z3cfZmBQeRRWCN/vQ0ZWERIKyCCBWOvzZaTsCUntbQjSv3IqjdczTynyNGZ76ATFDTbBTBBOSwbu6zLqGg5jGy+kF+Y0bEsWBcrI2X9RLaLU/enJ2XZAmwsiW+ug3qtxKiJhauNpBOqa0VqVhY/5kcH/SUM3VdUmmWbTjSfJ6hd23Exe3U4TAEOFN28ubLYRO23/ZURLYuhdoWmWsRLrJtE6rjWI30F+uFfANvBuk8MOpdEt5wNH9cmHfKfPo0yYGFAI8k5SjIrViqPLRvOMiinoAQFSoy+EphBILsfug9piR6z306GDkWmr91EczPHDaveTzZ1cXX04fj2qFZPd9wDPTWC2Lj0BVjfI5A3KYGIcC+gfzxtp4w0xQ6H6rloAmXwoVA/NW34rMkFEfwUar8H0RMFtBDFCxuqdVi6QJ0o4gPrO6jsi6tijrx7IxV+dQAAAbHP49z1HIPL/oZUgd+69JO7wDK4iyHcEA5jdqYz/iUJwS64CSZWMBMrTJSvZH/bXiQ+/u1sObvUyuR8wA5JkRVxYnOFnqlvBepBxV9L4Db+OMgrjhDjT2RhAD3JvRWdbJIXlKUY7nrho5zNiZylr5aS0A90MxCxuMKiXO28Bu1K5HG0gyCXYQa2a+xALEhe9C8i//Xo9WuL2QLOt+89JDV7mBem3Se+AaACL/XyHTdnX3pEeaovZMwXpfHSmgnw299QLZ/xoyG4n8jDcThczCquXPPSUDc1fLO0PwQZohIEIOE11dXf2IrPtePpuxkW/q/8vVA1HWgI6JAWQHUAxrUql7xN+4GsA46AQgMq7/dYmqjydKczs+f+gwHMPui3dFCPP3GwkGaa8VDSw8XBJ2FRl77kDp1ei8W+ApjDye5ZQEMkFW3X4F4wFQjqo/tFRBlEK+f5TlGjXvygwAtjjmUdn4KpjWAy9saXainN79m2NC5Wa26XFRpfafsRjGu8WvMN57SOvQ43DeP1heGzXABR2QkSGOLlk9bw9RCGlIsXd9b+H5HAepHyIPgXG7K4JY1laj3EcpG/T9F4hlxTmjmGxH7qIYa1xAPLcLGo5HZq4DPem8LgZJNph/SpL1ccRzaA3+cPBbKQp/JqxXh/dQ1DG2et0SJZyKDPxbTwhS63TgXutztJqTfsoSiJU376vB7BoLPJFOTOSfuoRersQWh3JaX1kiSZECwoD9M2CEowEnUPEB3NiEG5qz65+lYD1y7lMhdRRWqpQj9UPNRSVJtYzpV72XP5j/pT09LRvXvv6FLfaS13Ig2zioSGmLevO7EnsyULNoABYyrjBDXWbvfgreIzRW+wwteFkieF9cjiQyMzcmtbZktJVIaNigDqLpgFsCV7Oowse9U3TfBtgGof7fc5CQ2QxTrP83XMqLNc2fftLJUiBeKaSkcLkiF110Rs1PFTJazDOJNNZ8iqAmuPvPSUXnCrULvt0LBJ7GYvua/zy29uXD0jI4bTgxF+OhPp38SXUH/NaqQeVlHu75lZ1ktKhaJpcNYYeAYJngJmU+oIn/T+uroAuj0gYtQl811QBdRsbUlgHyzazLLYBKWg2IiJphMdHoYUWVAKrUmHYWbYNtbfnbzXGjSGvQJuG00C8LRSqGrv8GdY4RlyWC/PCkTz0WZLzsUNpP/MKjLD52s85LAvYP2Nf5AwO6Jti/guNm4LDnPFDyiafRG/O7ULF/tSD82BKklKvbmthpTGd1gKLd4elD77tEH0S5vroWr94z/i6+oeEEmkdimym+R1bVhj7aTgpJ2GLnhIQebYocgIDxm4M0QZ7oX7JtgkTYmUt6htyKtSt37IC8vSz9NuOzxfy9/dmUZHymgAp5EWEYYSRF0jasAYdPGugfI97hDpptPD0qqiDfPUFwPOAIwB82bAjCbW9la0j4kswf+4ynRX0e8RGLrwOKmv94SBnXc8NCe7llJTvgjXkgsS7hejVvRHFgawB/OXDMIf7ECvjEO/PwdFYljXmMpxlr8ZZstjVHrXQHDGVPk27yJLv0zGwIMLdSSBsnHbepDpLs4YwIY5+GwwdVHTKOMciTqE7n6cPVhVVaYChfhVrFes6njr7MgYMGqohbYkwxF/j5quMl6vc496x9X/srsqk0IM2d3CVgB64cGLMnX+kIBzfDt1sXUaCXP6BaKf3btzmI/gqg0cEFkvyYS3TpDLKCEX9FGFhoQByy/lxt7l6GNbC9fPOpd7MYKxHZzDKv3Kf1jLH1suQJifUixkPfiVzJ0MN78lP2eI0DlZY5ZGLyMUXxw+xOOlxU2V31tBEAQhsVs4sp8b6wp3X/mVSiLJGs2XeFGp5j5wOfYfh5b8DU0PKIBzZ05jiVRDZXGUkaoEOp4iRwN505aDUGlrUMHX24dEBW67MKnPi7tlvxSxEPd8RQO1EEu9DautSXWTRaboB42h8iulQsv4O/jtQc+is20Ar4tEXwZ6WgSNbEosN/LnIR3dRJ3xzEXaNF8Es/rlSXWgNR2X19fnIhodg47hxgb/zmWpnkOKnymWJJ/mOOa7IyN+3tEEKbOCJGQO8IdrLCGSJ/XE8E8ld/KNRf24c83Hmh34j2w417YCtPYqVTlXo3vehml9C3nTq/VOT4hRyvduYoHGi/DACLmop9sq8CpxUjY/qDDY8fK4dqkaQz1CaTBTYGBsGR9az/jBbROkGFZBusz2J7BAkVq6ClymJASPGxdCCUj3U5jRgE08IiGqhyIKQEfeUROrkaylZ2OjMzSs51zwLMlY4qCqY+lkzVKZfehA7WrefgczwBLEjAh7/iFFuY9h55lJfEA+ecdj/NnXoR9EcFK8LXJETMRn6PjK3RmVlJ8x6UutHWmW0ele3jh5V59a1fc98J7AmasIzzQ/CUvkGa1jSM0dI3rvrrTOX15zntxv+kiwnPc5YvLN09RbiEfdh7Z92D0KiHA4BjbnT15fyDIPTLq6Ydlj54YvT6jd3us448GVc2W+MqFKpnq9/SVjlF5CIFRrKez83VeDzXy0AII6YDrcwIl1+HvmTGVN+MfVSUfBu0co2LvYeBOueD3Brxl5srOIXShL2Yhqjq46bdWfXJ4FZP1M4XFiHO9pp8e5X9obrZt6ZmgXddHcqWmrh1JnV2fcuMRg5QFP3NRQT9tHyrXEl/x3NvF96m06prKs1rckLAQOMldjKuCWGp3QB7Cg+O5yBz/m8ynBn750ozZLdSPP8yX5+oy3Spzias/zeV60vpxwYA/fiTIwYVqTyrfLzKQWzc6SzpBIqfvE0Rxd5oajzR34zXAqQBl3XWovxGU5N504wGWzGZMcTGlX+d4pIALXfEvJKxegKa3Lzs9901B64SF43vxZ2NMXWHYIcorGnQFSfBCL5RIHHB+1WsWmpPj5l55bJ7Idq2kNZn0rGyNk8+KegwDsyZlBT9snwHwJYqU0hpbjPkyJFCMm5klpjPW3gRu+38m+Ugw4M3nvH6TyFwq75vGBC0BGDvUnkfFgJnSMnSE0tLgYwOdKriaB5pUnfXeB59jxf+vEMBgnOtq2PFD0fvBO+5gOtXTiS2oKcalr/Zc+JWQji5TWo9FECgJVqt4KVcmRuDUy2as+myclOEa5bYK5MT8IukbrRDK7sd0RCcpzFhgWgfYgKekl+iRMRStTROs/KbkTyDgmzxlQaQepp3p4InlgEnbYDC41Y9mmg6haCsadyCRzuNGunckqNCu8PWRs0Hgrjrm5R1NRUbeDonwLBYuDy8+EZdvF2Dq0klL3eYYEZOTu7itm5ExVBlio0tvmQeuY17dIl+u/alH/jLG3GM4PMt3iedgbV4zqXYhmyQ6DdnXgZ3py0+P2TpR2vLWBgkk4m8BzrQjP2gRfq6LiSpOUY9IwwgBwelde9zIulpWucvY47L4bYYLijLwvEBawSad+uCl6cvC4F5Y8qJRq49W0MaXejGq+5JrKiUWhaPLejtIUxB9WHMtRq02PKWEhtD8L9LD0ZW+GOm8Hid0HIaRayxO0Io/rR3QYgYMuszIT4g2vg47w9xFrzBTBgEypTZilQuASy4WBA0kw/otCL+ryBqE5Vk8I2zjR2UBITANMC1mbjYEFlyhK7XiFSrXW4Mwv+vxpA0NdOp412nzPAWvg/ksxFG8AxmrYp7snFm35hxXIi4VxcC4gvPclKy+pHB+QYOBlQsGMLVjVrn4cDhhDxBqBpViUrxh9Pf5Hb6G0vXSsGdbKA7dZB4teW1ntbvhFmonbfVKPefnXPinyOIA6V049GydtdDwHg3L0DnlbZ4HTa3lx6rxXqi4Udk+XIIn0W38E1UqzP6xrGinh65APHVLukdRSu/tXSdqsY57OvDRNMFh1cjg+1aRBGRiiu70tmObs7ZXNxt6CmP9N/CHpdQtOv+F2eeN81Eq9rpV73W90/w32XU9pRZlPnhqTfuGtJZLaulv6TERJO6mpwjTteyWYEgReBbrFQCW0Kj8IoHwun9JRFU73BgFifKk2sOVGdGwm0Yu6kIFknR78WiQgsJw8vACnuOmmBFujap7oxGnT9Uv1es/vlWPzOvWakt9TRaT7Dt9MqefZWv/bnD6GR6smNkbIdb33GbAyzk4EcQtVw2eWE6tIa7QPUy0XbCtsAyIcbhmhLMRmXa39kfkaTlTd7EH+HOGaoN276i+AeutJT10ZxgA4h1+ZcP/5vWOkyc32FBkBJyCwRKb1kDuvSzjPluqVRaN3kFLADZM0IlTR+56vWffyg3dqTvWjsA5rR0abMDLVfZ6nswkudDFX1R347ClvQzQj0aDu2gLbczVJn0a5YopqrheZqGcbnazlhYrC4RpytShF187YrqTKdbmYNwDrbRCzJ+mX8URQa4HQHEwQ2izlZcIDGMROdN+wOVqvdi8yl0etB04BN25/B22/xyFkV9Dr382l/Bld83yypJ3Vhp4OuPBJGEyd+dtrsbrLEhH8OhRagTe7HYglqKji8OUcSnm/xINffMdjhGl9pX9kw62yyn958duN3I4T85ayfKLSyTtSWQOLVlt4nfS7gMhzu95TTy9B+4OTWDZfeGew+v4wsVRfLUuCafSuVhImIo4n47hjRUlmidQMwyOKKQFPiffvSauNpNfnxtw6KhUNDtXCjxUye4X/3WtNgYGwZH1rP+MFtFFhcoCHZjnxrq57dkNqrQfJ4Py5phmAdzJFB3S9x97AF1XAb6kQOnQZl0HmTglkdqJ7ESGQ3D2pqaEZ3VPx1Jf0sqjR69U85H9Sl5lXuN8DY13JKmyfLnabieNkEplwlHI9S834SWMCHxFfX+Q1SM4FRW06x6y0oF2kRUSguEZktYAC5L21P109zQlKDjTe7TqkBljSBMno9bYAtQqW6bK5DKd8MmdivxMmix8tyUD9vBLl70Jh6qYoNiRFIuux2aXzs7C/pRJ6ozfkoXxh09051FhBWYUV1+0YF7o9Tk/jHT2DDEbM6l5KfUhg6gXRsPGQ2vtGNFFxc2FkIs5LO/fbbH9aUn8RaiQbnDy605gjzc7lqjMnMMZt8RAst+uv4ghC9KLHTOJMTZHXSlQCX2jwpf6WlVgVACAU2qAF1Zqui7pImRjMjNFt9xD6RJBqgQTXEpBncXYOADCsKU1EKZgg5x/UPkiFRd8GJouVfNG5ZaAON+haSLIG8JwfGtY/s3/opFsHX5pONTwILmrdaSGwpmDUgX+ICwTmB0OrgvLI4sRWj6VtQUsl89/rnChN4LZHJOXtDiTVAzHExHeu3xiAAA==)"
      ]
    },
    {
      "cell_type": "markdown",
      "id": "awNWWyYbbGaK",
      "metadata": {
        "id": "awNWWyYbbGaK"
      },
      "source": [
        "Note that the idea of lsh is to hash each bands, part of signiture matrix, in a way that each band uses its own hashfunction, so the idea is to reduce again the number of elements in each band."
      ]
    },
    {
      "cell_type": "code",
      "execution_count": null,
      "id": "GJbDGHobQGo2",
      "metadata": {
        "id": "GJbDGHobQGo2",
        "colab": {
          "base_uri": "https://localhost:8080/"
        },
        "outputId": "bece9117-7457-42f7-d113-639ffabfd852"
      },
      "outputs": [
        {
          "output_type": "stream",
          "name": "stdout",
          "text": [
            "time: 4.43 ms (started: 2024-09-12 20:25:43 +00:00)\n"
          ]
        }
      ],
      "source": [
        "import random\n",
        "\n",
        "# FUNCTION 1: Shingle generation (small overlapping substrings)\n",
        "def generate_shingles(text, k=2):\n",
        "    \"\"\"\n",
        "    Generate shingles from text.\n",
        "    Args:\n",
        "        text: The input string (document).\n",
        "        k: The length of each shingle.\n",
        "    Returns:\n",
        "        A set of shingles.\n",
        "    \"\"\"\n",
        "    shingles = {text[i:i+k] for i in range(len(text) - k + 1)}\n",
        "    return shingles\n",
        "\n",
        "# FUNCTION 2: Get unique shingles from all documents (this is the framework to implement onehotencoding)\n",
        "def get_unique_shingles(rdd, k=2):\n",
        "    \"\"\"\n",
        "    Collect all unique shingles from the RDD of documents.\n",
        "    Args:\n",
        "        rdd: RDD of (index, document) tuples.\n",
        "        k: The length of each shingle.\n",
        "    Returns:\n",
        "        A sorted list of unique shingles across all documents.\n",
        "    \"\"\"\n",
        "    unique_shingles = rdd.flatMap(lambda doc: generate_shingles(doc[1], k)).distinct().collect()\n",
        "    return sorted(unique_shingles)\n",
        "\n",
        "# Function 3: One-hot encode the document\n",
        "def one_hot_encode_document(doc, unique_shingles, k=2):\n",
        "    \"\"\"\n",
        "    One-hot encode a single document based on unique shingles.\n",
        "    Args:\n",
        "        doc: The document (string).\n",
        "        unique_shingles: A sorted list of unique shingles across all documents.\n",
        "        k: The length of each shingle.\n",
        "    Returns:\n",
        "        A binary vector where each index corresponds to the presence of a shingle.\n",
        "    \"\"\"\n",
        "    shingles = generate_shingles(doc, k)\n",
        "\n",
        "    one_hot_vector = [0] * len(unique_shingles)\n",
        "\n",
        "    for shingle in shingles:\n",
        "        if shingle in unique_shingles:\n",
        "            index = unique_shingles.index(shingle)\n",
        "            one_hot_vector[index] = 1\n",
        "    return one_hot_vector\n",
        "\n",
        "# FUNCTION 4: Generate multiple hash functions (framework to generate MinHash signiture)\n",
        "def generate_hash_functions(num_functions, max_hash_value):\n",
        "    \"\"\"\n",
        "    Generate multiple hash functions by using random parameters.\n",
        "    Args:\n",
        "        num_functions: Number of hash functions to generate.\n",
        "        max_hash_value: The maximum hash value (e.g., 10^6).\n",
        "    Returns:\n",
        "        A list of hash functions.\n",
        "    \"\"\"\n",
        "    hash_functions = []\n",
        "    for i in range(num_functions):\n",
        "        a = random.randint(1, max_hash_value)\n",
        "        b = random.randint(0, max_hash_value)\n",
        "        def hash_func(x, a=a, b=b):\n",
        "            return (a * (x) + b) % max_hash_value\n",
        "        hash_functions.append(hash_func)\n",
        "    return hash_functions\n",
        "\n",
        "# FUNCTION 5: Apply MinHash\n",
        "def minhash_signature(one_hot_vector, hash_functions):\n",
        "    \"\"\"\n",
        "    Compute MinHash signature for a one-hot encoded vector.\n",
        "    Args:\n",
        "        one_hot_vector: A binary vector (one-hot encoded).\n",
        "        hash_functions: A list of hash functions.\n",
        "    Returns:\n",
        "        A list representing the MinHash signature.\n",
        "    \"\"\"\n",
        "    signature = []\n",
        "    for h in hash_functions:\n",
        "        min_hash = min(h(i) for i, value in enumerate(one_hot_vector) if value == 1)\n",
        "        signature.append(min_hash)\n",
        "    return signature\n",
        "\n",
        "# FUNCTION 6: Hash each band into buckets (LSH)\n",
        "def hash_band(band):\n",
        "    \"\"\"\n",
        "    Hash a band (a subset of a signature) to create a bucket ID.\n",
        "    \"\"\"\n",
        "    return hash(tuple(band)) % 10**6 # Since the python default hash function uses murmur hashing, i would like to refine the range of the hash limited to 1 million\n",
        "\n",
        "# FUNCTION 7: Perform LSH on the RDD\n",
        "def lsh_rdd(document_rdd, num_bands):\n",
        "    \"\"\"\n",
        "    Perform locality-sensitive hashing (LSH) in a distributed manner using PySpark.\n",
        "\n",
        "    Args:\n",
        "        document_rdd: An RDD of (document_id, signature) pairs.\n",
        "        num_bands: The number of bands to divide the signature into.\n",
        "\n",
        "    Returns:\n",
        "        An RDD of (bucket_id, document_id) pairs.\n",
        "    \"\"\"\n",
        "    def hash_bands_for_document(doc):\n",
        "        doc_id, signature = doc\n",
        "        band_size = len(signature) // num_bands\n",
        "        buckets = {}\n",
        "        for i in range(num_bands):\n",
        "            band = signature[i * band_size:(i + 1) * band_size]\n",
        "            bucket_id = hash_band(band)\n",
        "            buckets[bucket_id] = doc_id\n",
        "        return [(bucket_id, doc_id) for bucket_id in buckets.keys()]\n",
        "\n",
        "    # Hash each document's signature into buckets\n",
        "    bucketed_docs_rdd = document_rdd.flatMap(hash_bands_for_document)\n",
        "    return bucketed_docs_rdd\n",
        "\n",
        "# FUNCTION 8: Group by bucket\n",
        "def group_by_bucket(bucketed_docs_rdd):\n",
        "    \"\"\"\n",
        "    Group documents by their bucket IDs in a distributed manner using reduceByKey.\n",
        "\n",
        "    Args:\n",
        "        bucketed_docs_rdd: An RDD of (bucket_id, document_id) pairs.\n",
        "\n",
        "    Returns:\n",
        "        An RDD of (bucket_id, list_of_document_ids) pairs.\n",
        "    \"\"\"\n",
        "    grouped_docs_rdd = bucketed_docs_rdd.map(lambda x: (x[0], [x[1]])) \\\n",
        "                                        .reduceByKey(lambda doc_list1, doc_list2: doc_list1 + doc_list2)\n",
        "    return grouped_docs_rdd"
      ]
    },
    {
      "cell_type": "markdown",
      "id": "HgZnNxqd5PIs",
      "metadata": {
        "id": "HgZnNxqd5PIs"
      },
      "source": [
        "Now it is time to map the functions we built before on our RDDs. note that, I used 100 hash functions, 2 word shingles, and 25 bands. and finally I groupby hashes, to get id of document in each buckets."
      ]
    },
    {
      "cell_type": "code",
      "source": [
        "k = 2  # Shingle length\n",
        "unique_shingles = get_unique_shingles(cleaned_rdd, k)\n",
        "\n",
        "# One-hot encode each document in the RDD\n",
        "one_hot_encoded_rdd = cleaned_rdd.map(lambda doc: (doc[0], one_hot_encode_document(doc[1], unique_shingles, k)))\n",
        "\n",
        "# Generate hash functions\n",
        "num_hash_functions = 100\n",
        "max_hash_value = 10**3\n",
        "hash_functions = generate_hash_functions(num_hash_functions, max_hash_value)\n",
        "\n",
        "# Compute MinHash signatures for each document\n",
        "minhash_rdd = one_hot_encoded_rdd.map(lambda doc: (doc[0], minhash_signature(doc[1], hash_functions)))\n"
      ],
      "metadata": {
        "colab": {
          "base_uri": "https://localhost:8080/"
        },
        "id": "jMPZ6soN3TCF",
        "outputId": "da0f8f13-24c1-4e1a-b764-b7a9a1f28489"
      },
      "id": "jMPZ6soN3TCF",
      "execution_count": null,
      "outputs": [
        {
          "output_type": "stream",
          "name": "stdout",
          "text": [
            "time: 37.3 s (started: 2024-09-12 20:25:43 +00:00)\n"
          ]
        }
      ]
    },
    {
      "cell_type": "code",
      "source": [
        "one_hot_encoded_rdd.take(1)"
      ],
      "metadata": {
        "id": "dekV7kPa8F93"
      },
      "id": "dekV7kPa8F93",
      "execution_count": null,
      "outputs": []
    },
    {
      "cell_type": "code",
      "source": [
        "minhash_rdd.take(1)"
      ],
      "metadata": {
        "colab": {
          "base_uri": "https://localhost:8080/"
        },
        "id": "L5iFnc1k3ZZe",
        "outputId": "9a5d042f-9aa6-4089-c6a9-6e9e2e938a9f"
      },
      "id": "L5iFnc1k3ZZe",
      "execution_count": null,
      "outputs": [
        {
          "output_type": "execute_result",
          "data": {
            "text/plain": [
              "[(0,\n",
              "  [14,\n",
              "   2,\n",
              "   6,\n",
              "   14,\n",
              "   6,\n",
              "   3,\n",
              "   1,\n",
              "   0,\n",
              "   21,\n",
              "   8,\n",
              "   2,\n",
              "   5,\n",
              "   19,\n",
              "   3,\n",
              "   1,\n",
              "   0,\n",
              "   9,\n",
              "   3,\n",
              "   0,\n",
              "   12,\n",
              "   1,\n",
              "   7,\n",
              "   7,\n",
              "   5,\n",
              "   1,\n",
              "   0,\n",
              "   3,\n",
              "   2,\n",
              "   5,\n",
              "   9,\n",
              "   2,\n",
              "   32,\n",
              "   4,\n",
              "   1,\n",
              "   19,\n",
              "   2,\n",
              "   0,\n",
              "   0,\n",
              "   0,\n",
              "   8,\n",
              "   1,\n",
              "   13,\n",
              "   7,\n",
              "   8,\n",
              "   7,\n",
              "   17,\n",
              "   1,\n",
              "   7,\n",
              "   2,\n",
              "   1,\n",
              "   1,\n",
              "   4,\n",
              "   21,\n",
              "   9,\n",
              "   6,\n",
              "   3,\n",
              "   0,\n",
              "   2,\n",
              "   1,\n",
              "   3,\n",
              "   0,\n",
              "   3,\n",
              "   5,\n",
              "   3,\n",
              "   1,\n",
              "   1,\n",
              "   0,\n",
              "   5,\n",
              "   5,\n",
              "   3,\n",
              "   4,\n",
              "   0,\n",
              "   0,\n",
              "   7,\n",
              "   4,\n",
              "   35,\n",
              "   160,\n",
              "   0,\n",
              "   10,\n",
              "   1,\n",
              "   5,\n",
              "   0,\n",
              "   2,\n",
              "   1,\n",
              "   0,\n",
              "   7,\n",
              "   1,\n",
              "   0,\n",
              "   1,\n",
              "   9,\n",
              "   1,\n",
              "   1,\n",
              "   8,\n",
              "   1,\n",
              "   1,\n",
              "   1,\n",
              "   0,\n",
              "   0,\n",
              "   10,\n",
              "   3])]"
            ]
          },
          "metadata": {},
          "execution_count": 25
        },
        {
          "output_type": "stream",
          "name": "stdout",
          "text": [
            "time: 40.8 s (started: 2024-09-12 20:32:55 +00:00)\n"
          ]
        }
      ]
    },
    {
      "cell_type": "code",
      "execution_count": null,
      "id": "LB_2CfVUQAAq",
      "metadata": {
        "id": "LB_2CfVUQAAq",
        "colab": {
          "base_uri": "https://localhost:8080/"
        },
        "outputId": "a0545f00-4c62-4946-9d8b-7760eed0b228"
      },
      "outputs": [
        {
          "output_type": "stream",
          "name": "stdout",
          "text": [
            "Bucket 291200: Documents [1, 4, 5, 9, 10, 11, 12, 15, 16, 17, 19, 21, 22, 23, 26, 27, 28, 33, 39, 41, 42, 46, 47, 48, 49]\n",
            "Bucket 724851: Documents [2, 40]\n",
            "Bucket 959101: Documents [15, 17, 18, 24, 25, 35, 40, 45]\n",
            "Bucket 208701: Documents [24, 34, 44]\n",
            "Bucket 473552: Documents [1, 7, 16, 17, 23, 37, 45]\n",
            "Bucket 298152: Documents [3, 16, 17, 25, 32, 37, 38]\n",
            "Bucket 679252: Documents [8, 29, 37]\n",
            "Bucket 346852: Documents [8, 25]\n",
            "Bucket 559052: Documents [14, 17]\n",
            "Bucket 592252: Documents [15, 21]\n",
            "Bucket 795702: Documents [15, 23, 27, 48]\n",
            "Bucket 751652: Documents [29, 32]\n",
            "Bucket 72202: Documents [32, 37]\n",
            "Bucket 301753: Documents [26, 33]\n",
            "Bucket 364053: Documents [30, 40]\n",
            "Bucket 704804: Documents [0, 29]\n",
            "Bucket 332004: Documents [2, 38]\n",
            "Bucket 514905: Documents [10, 31]\n",
            "Bucket 839956: Documents [2, 3, 20, 24, 31, 34, 36, 38, 40, 43, 44, 45]\n",
            "Bucket 195707: Documents [5, 9, 19, 41, 46]\n",
            "time: 50.4 s (started: 2024-09-12 10:49:33 +00:00)\n"
          ]
        }
      ],
      "source": [
        "\n",
        "# Apply LSH\n",
        "num_bands = 25\n",
        "bucketed_docs_rdd = lsh_rdd(minhash_rdd, num_bands)\n",
        "\n",
        "# Group by bucket IDs\n",
        "grouped_docs_rdd = group_by_bucket(bucketed_docs_rdd)\n",
        "\n",
        "# Filter buckets with more than one document\n",
        "filtered_grouped_docs_rdd = grouped_docs_rdd.filter(lambda x: len(x[1]) > 1)\n",
        "\n",
        "# Collect and display the filtered results\n",
        "filtered_grouped_docs = filtered_grouped_docs_rdd.take(20)\n",
        "\n",
        "for bucket_id, doc_ids in filtered_grouped_docs:\n",
        "    print(f\"Bucket {bucket_id}: Documents {doc_ids}\")"
      ]
    },
    {
      "cell_type": "markdown",
      "source": [
        "We can also use similar model to store the results in a Dictionary for the look up process faster."
      ],
      "metadata": {
        "id": "Kbwjl-4YYcvZ"
      },
      "id": "Kbwjl-4YYcvZ"
    },
    {
      "cell_type": "markdown",
      "id": "29IPV0AO5S-z",
      "metadata": {
        "id": "29IPV0AO5S-z"
      },
      "source": [
        "Now Lets pick up a pair to check their similarity."
      ]
    },
    {
      "cell_type": "code",
      "execution_count": null,
      "id": "KbBq7-BdP7SE",
      "metadata": {
        "id": "KbBq7-BdP7SE",
        "colab": {
          "base_uri": "https://localhost:8080/"
        },
        "outputId": "346d170c-93a6-4646-fafd-d459ad91fea1"
      },
      "outputs": [
        {
          "output_type": "stream",
          "name": "stdout",
          "text": [
            "Approximate Jaccard Similarity from MinHash between doc1 and doc2: 0.5847750865051903\n",
            "time: 36.2 s (started: 2024-09-12 08:47:22 +00:00)\n"
          ]
        }
      ],
      "source": [
        "def jaccard_similarity(shingles1, shingles2):\n",
        "    \"\"\"\n",
        "    Calculate the Jaccard similarity between two sets of shingles.\n",
        "    Args:\n",
        "        shingles1: The set of shingles from document 1.\n",
        "        shingles2: The set of shingles from document 2.\n",
        "    Returns:\n",
        "        The Jaccard similarity\n",
        "    \"\"\"\n",
        "    intersection = len(shingles1.intersection(shingles2))\n",
        "    union = len(shingles1.union(shingles2))\n",
        "    jaccard_similarity = intersection / union if union != 0 else 0\n",
        "    return jaccard_similarity\n",
        "\n",
        "\n",
        "doc1 = cleaned_rdd.filter(lambda doc: doc[0] == 0).collect()[0][1]\n",
        "doc2 = cleaned_rdd.filter(lambda doc: doc[0] == 28).collect()[0][1]\n",
        "\n",
        "# Generate MinHash signatures for both documents\n",
        "signature1 = generate_shingles(doc1)\n",
        "signature2 = generate_shingles(doc2)\n",
        "\n",
        "\n",
        "similarity = jaccard_similarity(signature1, signature2)\n",
        "print(f\"Approximate Jaccard Similarity from MinHash between doc1 and doc2: {similarity}\")"
      ]
    },
    {
      "cell_type": "code",
      "execution_count": null,
      "id": "rWYtnQJPvsZz",
      "metadata": {
        "id": "rWYtnQJPvsZz",
        "colab": {
          "base_uri": "https://localhost:8080/"
        },
        "outputId": "bfd4cea1-195c-4d13-c7e4-e8e81826f09b"
      },
      "outputs": [
        {
          "output_type": "stream",
          "name": "stdout",
          "text": [
            "Document 1 ##############################:\n",
            "rock n roll sushi is hiring a restaurant manager! as our restaurant manager, you’ll never be bored. you’ll be responsible for making sure our restaurant runs smoothly. we offer competitive compensation insurance benefits bonus opportunities a great work atmosphere duties/responsibilities ensuring that our restaurant is fully and appropriately staffed at all times maintaining operational excellence so our restaurant is running efficiently and effectively ensuring that all laws, regulations, and guidelines are being followed creating a restaurant atmosphere that both patrons and employees enjoy various other tasks as needed requirements previous experience as a restaurant manager extensive food and beverage knowledge, and the ability to remember and recall ingredients and dishes to inform customers and wait staff great leadership skills familiarity with restaurant management software demonstrated ability to coordinate a staff show more show less\n",
            "\n",
            "Document 2 ##############################:\n",
            "the ideal candidate has a passion for food and beverage, a genuine ability to connect with guests and staff alike, and brings the core value of 'team' to the restaurant. a natural leader, you are responsible for maintaining the highest levels of hospitality while leading service on the floor. responsibilities supervise day-to-day activities and assist in the food and beverage outlets create innovative programs and promotions that drive revenue through increased guest patronage aid in all financial budgeting operations to maximize profitability qualifications at least 1-2 years' of full-service restaurant management flexibility in working hours and a willingness to cover shifts as needed ability to multi-task, organize, and prioritize work show more show less\n",
            "\n",
            "time: 3.81 ms (started: 2024-09-12 08:47:59 +00:00)\n"
          ]
        }
      ],
      "source": [
        "print(f\"Document 1 ##############################:\\n{doc1}\\n\")\n",
        "print(f\"Document 2 ##############################:\\n{doc2}\\n\")"
      ]
    },
    {
      "cell_type": "markdown",
      "id": "NK7J9HnC5VBA",
      "metadata": {
        "id": "NK7J9HnC5VBA"
      },
      "source": [
        "For the False positive and False negative we use the probibility formula to check the probability of getting correct answers based on our setup."
      ]
    },
    {
      "cell_type": "code",
      "execution_count": null,
      "id": "MIDAo_qLwKJZ",
      "metadata": {
        "id": "MIDAo_qLwKJZ",
        "colab": {
          "base_uri": "https://localhost:8080/",
          "height": 568
        },
        "outputId": "4bd60184-cb8c-42dc-e882-15e86a58b2e5"
      },
      "outputs": [
        {
          "output_type": "display_data",
          "data": {
            "text/plain": [
              "<Figure size 2000x600 with 1 Axes>"
            ],
            "image/png": "[encoded data removed]"
          },
          "metadata": {}
        },
        {
          "output_type": "stream",
          "name": "stdout",
          "text": [
            "time: 1.12 s (started: 2024-09-12 08:35:13 +00:00)\n"
          ]
        }
      ],
      "source": [
        "import numpy as np\n",
        "import matplotlib.pyplot as plt\n",
        "\n",
        "# Constants\n",
        "s = np.linspace(0, 1, 500)\n",
        "r = 4  #number of rows\n",
        "b = 25  #number of bands\n",
        "\n",
        "# Probability formula\n",
        "p = 1 - (1 - s**r)**b\n",
        "\n",
        "plt.figure(figsize=(20, 6))\n",
        "plt.plot(s, p, label=\"Threshold\", color='b')\n",
        "plt.title('P = 1 - (1 - s^r)^b', fontsize=14)\n",
        "plt.xlabel('s (Similarity)', fontsize=12)\n",
        "plt.ylabel('p (Probability)', fontsize=12)\n",
        "plt.legend(loc='best')\n",
        "plt.grid(True)\n",
        "plt.show()\n"
      ]
    },
    {
      "cell_type": "code",
      "source": [
        "k = 2  # Shingle length\n",
        "unique_shingles = get_unique_shingles(cleaned_rdd, k)\n",
        "\n",
        "# One-hot encode each document in the RDD\n",
        "one_hot_encoded_rdd = cleaned_rdd.map(lambda doc: (doc[0], one_hot_encode_document(doc[1], unique_shingles, k)))\n",
        "\n",
        "# Generate hash functions\n",
        "num_hash_functions = 100\n",
        "max_hash_value = 10**3\n",
        "hash_functions = generate_hash_functions(num_hash_functions, max_hash_value)\n",
        "\n",
        "# Compute MinHash signatures for each document\n",
        "minhash_rdd = one_hot_encoded_rdd.map(lambda doc: (doc[0], minhash_signature(doc[1], hash_functions)))\n",
        "\n",
        "# Apply LSH\n",
        "num_bands = 5\n",
        "bucketed_docs_rdd = lsh_rdd(minhash_rdd, num_bands)\n",
        "\n",
        "# Group by bucket IDs\n",
        "grouped_docs_rdd = group_by_bucket(bucketed_docs_rdd)\n",
        "\n",
        "# Filter buckets with more than one document\n",
        "filtered_grouped_docs_rdd = grouped_docs_rdd.filter(lambda x: len(x[1]) > 1)\n",
        "\n",
        "# Collect and display the filtered results\n",
        "filtered_grouped_docs = filtered_grouped_docs_rdd.take(20)\n",
        "\n",
        "for bucket_id, doc_ids in filtered_grouped_docs:\n",
        "    print(f\"Bucket {bucket_id}: Documents {doc_ids}\")"
      ],
      "metadata": {
        "colab": {
          "base_uri": "https://localhost:8080/"
        },
        "id": "8i8dYtKnX0lY",
        "outputId": "505fd5cb-f550-47b5-b5da-89e5836484d9"
      },
      "id": "8i8dYtKnX0lY",
      "execution_count": null,
      "outputs": [
        {
          "output_type": "stream",
          "name": "stdout",
          "text": [
            "Bucket 834702: Documents [13, 30]\n",
            "Bucket 845806: Documents [1, 12, 22, 47, 49]\n",
            "Bucket 795617: Documents [31, 38]\n",
            "Bucket 372223: Documents [5, 39, 41]\n",
            "Bucket 596825: Documents [42, 48]\n",
            "Bucket 752827: Documents [17, 42]\n",
            "Bucket 608330: Documents [5, 39, 41, 46]\n",
            "Bucket 801139: Documents [9, 39, 41]\n",
            "Bucket 822241: Documents [35, 48]\n",
            "Bucket 249450: Documents [12, 22, 47]\n",
            "Bucket 903052: Documents [4, 15, 21, 25]\n",
            "Bucket 902456: Documents [2, 15]\n",
            "Bucket 919356: Documents [12, 22, 47]\n",
            "Bucket 902159: Documents [5, 39, 41, 46]\n",
            "Bucket 853068: Documents [21, 30]\n",
            "Bucket 900771: Documents [19, 34]\n",
            "Bucket 663373: Documents [5, 13, 46]\n",
            "Bucket 974278: Documents [19, 27]\n",
            "Bucket 267980: Documents [12, 22, 47]\n",
            "Bucket 272681: Documents [12, 22, 36, 47]\n",
            "time: 1min 27s (started: 2024-09-12 08:50:29 +00:00)\n"
          ]
        }
      ]
    },
    {
      "cell_type": "code",
      "source": [
        "def jaccard_similarity(shingles1, shingles2):\n",
        "    \"\"\"\n",
        "    Calculate the Jaccard similarity between two sets of shingles.\n",
        "    Args:\n",
        "        shingles1: The set of shingles from document 1.\n",
        "        shingles2: The set of shingles from document 2.\n",
        "    Returns:\n",
        "        The Jaccard similarity\n",
        "    \"\"\"\n",
        "    intersection = len(shingles1.intersection(shingles2))\n",
        "    union = len(shingles1.union(shingles2))\n",
        "    jaccard_similarity = intersection / union if union != 0 else 0\n",
        "    return jaccard_similarity\n",
        "\n",
        "\n",
        "doc1 = cleaned_rdd.filter(lambda doc: doc[0] == 12).collect()[0][1]\n",
        "doc2 = cleaned_rdd.filter(lambda doc: doc[0] == 22).collect()[0][1]\n",
        "\n",
        "# Generate MinHash signatures for both documents\n",
        "signature1 = generate_shingles(doc1)\n",
        "signature2 = generate_shingles(doc2)\n",
        "\n",
        "\n",
        "similarity = jaccard_similarity(signature1, signature2)\n",
        "print(f\"Approximate Jaccard Similarity from MinHash between doc1 and doc2: {similarity}\")\n",
        "print(f\"Document 1 ##############################:\\n{doc1}\\n\")\n",
        "print(f\"Document 2 ##############################:\\n{doc2}\\n\")"
      ],
      "metadata": {
        "colab": {
          "base_uri": "https://localhost:8080/"
        },
        "id": "VN1eiFeJbWtS",
        "outputId": "ac6003e5-e619-45ee-ae23-672a6d264a18"
      },
      "id": "VN1eiFeJbWtS",
      "execution_count": null,
      "outputs": [
        {
          "output_type": "stream",
          "name": "stdout",
          "text": [
            "Approximate Jaccard Similarity from MinHash between doc1 and doc2: 1.0\n",
            "Document 1 ##############################:\n",
            "dollar general corporation has been delivering value to shoppers for more than 80 years. dollar general helps shoppers save time. save money. every day.® by offering products that are frequently used and replenished, such as food, snacks, health and beauty aids, cleaning supplies, basic apparel, housewares and seasonal items at everyday low prices in convenient neighborhood locations. dollar general operates more than 18,000 stores in 47 states, and we’re still growing. learn more about dollar general at www.dollargeneral.com. general summary the store manager candidate supports the store manager in the effective implementation of all store processes including employee supervision, staffing, inventory management, stocking and receiving, paperwork, and store needs. this position is utilized to foster interactive development of an external candidate for the store manager role and is to be held for a limited period. duties and essential job functions assist in recruiting and staffing activities. assist with store merchandising by facilitating and/or participating in staging, stocking and storage of merchandise; ensuring that merchandise is presented according to established practices and store manager direction; and properly utilizing merchandise fixtures, signing and pricing of merchandise. assist in all aspects of inventory management (including proper execution of damages, markdowns, register scanning, paperwork and facility controls); prepare and conduct inventories. follow prescribed ordering practices to ensure the meeting or exceeding of in-stock targets. provide superior customer service leadership. act as a role model by following company procedures and policies as outlined in the employee handbook, sop manual and company communications. participate in store opening and closing activities. ensure the safe deposit of all company funds in the designated bank. assist in ensuring the financial integrity of the store through strict cashier accountability, key control and adherence to company security practices and cash control procedures. assist in the maintenance of clean, well-stocked stores; provide a safe environment for customers and employees. operate store in store manager’s absence. review operating statements to identify business trends (including sales, labor, profitability, and inventory turn), expense control opportunities, potential shrink, and errors. complete all paperwork and documentation according to guidelines and deadlines. knowledge and skills ability to read and interpret documents such as diagrams, safety rules, operating and maintenance instructions, and procedures manuals. ability to perform mathematical calculations such as addition, subtraction, multiplication, division, and percentages. knowledge of cash handling procedures including cashier accountability and deposit controls. ability to learn and perform ibm cash register functions, including those necessary to generate reports. knowledge of inventory management and merchandising practices. knowledge of cash, facility and safety control policies and practices (deposits, store keys, safe and stars programs, etc.) knowledge of recruiting, interviewing, hiring, counseling, and termination practices including legal compliance and internal processes. effective oral and written communication skills. effective interpersonal skills. effective organization skills with attention to detail. ability to solve problems and deal with a variety of situations where limited standardization exists. certain store locations may give preference to bilingual spanish speakers. work experience and/or education high school diploma or equivalent strongly preferred. one year of experience in a retail environment preferred for external candidates competencies aligns motives, values and beliefs with dollar general values. supports ownership by tapping into the potential of others. acts as a liaison between the store support center and store employees. fosters cooperation and collaboration. interacts tactfully yet directly with employees and maintains an open forum of exchange. demonstrates responsiveness and sensitivity to customer needs. applies basic principles of retail (i.e., ordering cycles, peak inventories, merchandise flow, etc.). provides continuous attention to development of staff. recruits, hires and trains qualified applicants to fulfill a store need. ensures store compliance to federal labor laws and company policies and procedures. working conditions and physical requirements frequent walking and standing. frequent bending, stooping and kneeling to run check out station, stock merchandise and unload trucks. frequent handling of merchandise and equipment such as hand-held scanners pricing guns, box cutters, merchandise containers and carts, two-wheel dollies, and u-boats (six-wheel carts). frequent and proper lifting of up to 40 pounds; occasional lifting of up to 55 pounds. occasional climbing (using ladder). occasional driving/providing own transportation to make bank deposits, attend management meetings and to other dollar general stores. fast-paced environment; moderate noise level. occasionally exposed to outside weather conditions. note this position requires some travel with limited overnight stays dollar general corporation is an equal opportunity employer. show more show less\n",
            "\n",
            "Document 2 ##############################:\n",
            "dollar general corporation has been delivering value to shoppers for more than 80 years. dollar general helps shoppers save time. save money. every day.® by offering products that are frequently used and replenished, such as food, snacks, health and beauty aids, cleaning supplies, basic apparel, housewares and seasonal items at everyday low prices in convenient neighborhood locations. dollar general operates more than 18,000 stores in 47 states, and we’re still growing. learn more about dollar general at www.dollargeneral.com. general summary the store manager candidate supports the store manager in the effective implementation of all store processes including employee supervision, staffing, inventory management, stocking and receiving, paperwork, and store needs. this position is utilized to foster interactive development of an external candidate for the store manager role and is to be held for a limited period. duties and essential job functions assist in recruiting and staffing activities. assist with store merchandising by facilitating and/or participating in staging, stocking and storage of merchandise; ensuring that merchandise is presented according to established practices and store manager direction; and properly utilizing merchandise fixtures, signing and pricing of merchandise. assist in all aspects of inventory management (including proper execution of damages, markdowns, register scanning, paperwork and facility controls); prepare and conduct inventories. follow prescribed ordering practices to ensure the meeting or exceeding of in-stock targets. provide superior customer service leadership. act as a role model by following company procedures and policies as outlined in the employee handbook, sop manual and company communications. participate in store opening and closing activities. ensure the safe deposit of all company funds in the designated bank. assist in ensuring the financial integrity of the store through strict cashier accountability, key control and adherence to company security practices and cash control procedures. assist in the maintenance of clean, well-stocked stores; provide a safe environment for customers and employees. operate store in store manager’s absence. review operating statements to identify business trends (including sales, labor, profitability, and inventory turn), expense control opportunities, potential shrink, and errors. complete all paperwork and documentation according to guidelines and deadlines. knowledge and skills ability to read and interpret documents such as diagrams, safety rules, operating and maintenance instructions, and procedures manuals. ability to perform mathematical calculations such as addition, subtraction, multiplication, division, and percentages. knowledge of cash handling procedures including cashier accountability and deposit controls. ability to learn and perform ibm cash register functions, including those necessary to generate reports. knowledge of inventory management and merchandising practices. knowledge of cash, facility and safety control policies and practices (deposits, store keys, safe and stars programs, etc.) knowledge of recruiting, interviewing, hiring, counseling, and termination practices including legal compliance and internal processes. effective oral and written communication skills. effective interpersonal skills. effective organization skills with attention to detail. ability to solve problems and deal with a variety of situations where limited standardization exists. certain store locations may give preference to bilingual spanish speakers. work experience and/or education high school diploma or equivalent strongly preferred. one year of experience in a retail environment preferred for external candidates competencies aligns motives, values and beliefs with dollar general values. supports ownership by tapping into the potential of others. acts as a liaison between the store support center and store employees. fosters cooperation and collaboration. interacts tactfully yet directly with employees and maintains an open forum of exchange. demonstrates responsiveness and sensitivity to customer needs. applies basic principles of retail (i.e., ordering cycles, peak inventories, merchandise flow, etc.). provides continuous attention to development of staff. recruits, hires and trains qualified applicants to fulfill a store need. ensures store compliance to federal labor laws and company policies and procedures. working conditions and physical requirements frequent walking and standing. frequent bending, stooping and kneeling to run check out station, stock merchandise and unload trucks. frequent handling of merchandise and equipment such as hand-held scanners pricing guns, box cutters, merchandise containers and carts, two-wheel dollies, and u-boats (six-wheel carts). frequent and proper lifting of up to 40 pounds; occasional lifting of up to 55 pounds. occasional climbing (using ladder). occasional driving/providing own transportation to make bank deposits, attend management meetings and to other dollar general stores. fast-paced environment; moderate noise level. occasionally exposed to outside weather conditions. note this position requires some travel with limited overnight stays dollar general corporation is an equal opportunity employer. show more show less\n",
            "\n",
            "time: 40.6 s (started: 2024-09-12 08:54:58 +00:00)\n"
          ]
        }
      ]
    },
    {
      "cell_type": "code",
      "execution_count": null,
      "metadata": {
        "colab": {
          "base_uri": "https://localhost:8080/",
          "height": 568
        },
        "outputId": "385f1a19-642d-44aa-fd7e-0160e132b64b",
        "id": "ruZMCEhdbAs3"
      },
      "outputs": [
        {
          "output_type": "display_data",
          "data": {
            "text/plain": [
              "<Figure size 2000x600 with 1 Axes>"
            ],
            "image/png": "[encoded data removed]"
          },
          "metadata": {}
        },
        {
          "output_type": "stream",
          "name": "stdout",
          "text": [
            "time: 1.23 s (started: 2024-09-12 08:49:23 +00:00)\n"
          ]
        }
      ],
      "source": [
        "import numpy as np\n",
        "import matplotlib.pyplot as plt\n",
        "\n",
        "# Constants\n",
        "s = np.linspace(0, 1, 500)\n",
        "r = 24  #number of rows\n",
        "b = 5  #number of bands\n",
        "\n",
        "# Probability formula\n",
        "p = 1 - (1 - s**r)**b\n",
        "\n",
        "plt.figure(figsize=(20, 6))\n",
        "plt.plot(s, p, label=\"Threshold\", color='b')\n",
        "plt.title('P = 1 - (1 - s^r)^b', fontsize=14)\n",
        "plt.xlabel('s (Similarity)', fontsize=12)\n",
        "plt.ylabel('p (Probability)', fontsize=12)\n",
        "plt.legend(loc='best')\n",
        "plt.grid(True)\n",
        "plt.show()\n"
      ],
      "id": "ruZMCEhdbAs3"
    },
    {
      "cell_type": "code",
      "source": [
        "from collections import defaultdict\n",
        "from itertools import combinations\n",
        "\n",
        "# Initialize a dictionary\n",
        "doc_pair_count = defaultdict(int)\n",
        "\n",
        "# Iterate through the filtered_grouped_docs and count document pairs in each bucket\n",
        "for bucket_id, doc_ids in filtered_grouped_docs:\n",
        "    for doc_pair in combinations(sorted(doc_ids), 2):\n",
        "        doc_pair_count[doc_pair] += 1\n",
        "\n",
        "# Filter out document pairs that appear in more than x buckets\n",
        "common_doc_pairs = {pair: count for pair, count in doc_pair_count.items() if count > 4}\n",
        "\n",
        "for pair, count in common_doc_pairs.items():\n",
        "    print(f\"Document pair {pair} appears in {count} buckets\")\n"
      ],
      "metadata": {
        "colab": {
          "base_uri": "https://localhost:8080/"
        },
        "id": "n4T0-9WQbENo",
        "outputId": "26c3adc8-3f28-47e6-fd46-1f5701a2142a"
      },
      "id": "n4T0-9WQbENo",
      "execution_count": null,
      "outputs": [
        {
          "output_type": "stream",
          "name": "stdout",
          "text": [
            "Document pair (12, 22) appears in 5 buckets\n",
            "Document pair (12, 47) appears in 5 buckets\n",
            "Document pair (22, 47) appears in 5 buckets\n",
            "time: 4.16 ms (started: 2024-09-12 08:58:16 +00:00)\n"
          ]
        }
      ]
    },
    {
      "cell_type": "code",
      "source": [],
      "metadata": {
        "id": "iWnqFjzYdCY9"
      },
      "id": "iWnqFjzYdCY9",
      "execution_count": null,
      "outputs": []
    }
  ],
  "metadata": {
    "colab": {
      "provenance": []
    },
    "kaggle": {
      "accelerator": "nvidiaTeslaT4",
      "dataSources": [
        {
          "datasetId": 4418374,
          "sourceId": 7590738,
          "sourceType": "datasetVersion"
        }
      ],
      "dockerImageVersionId": 30747,
      "isGpuEnabled": true,
      "isInternetEnabled": true,
      "language": "python",
      "sourceType": "notebook"
    },
    "kernelspec": {
      "display_name": "Python 3",
      "name": "python3"
    },
    "language_info": {
      "codemirror_mode": {
        "name": "ipython",
        "version": 3
      },
      "file_extension": ".py",
      "mimetype": "text/x-python",
      "name": "python",
      "nbconvert_exporter": "python",
      "pygments_lexer": "ipython3",
      "version": "3.10.13"
    }
  },
  "nbformat": 4,
  "nbformat_minor": 5
}