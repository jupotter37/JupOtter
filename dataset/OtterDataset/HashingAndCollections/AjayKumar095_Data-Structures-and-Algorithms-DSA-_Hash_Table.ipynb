{
 "cells": [
  {
   "cell_type": "markdown",
   "metadata": {},
   "source": [
    "<h1><center>Hash Table</center></h1>"
   ]
  },
  {
   "cell_type": "markdown",
   "metadata": {},
   "source": [
    " A hash table is a data structure that stores data in an associative manner, where each value is mapped to a unique key. Hash tables are widely used for implementing efficient data retrieval operations because they provide average-case time complexity of \n",
    "O(1) for insertion, deletion, and lookup operations."
   ]
  },
  {
   "cell_type": "markdown",
   "metadata": {},
   "source": [
    "# Key Concepts of Hash Tables:\n",
    "- Key-Value Pair Storage:\n",
    "\n",
    "    - Each piece of data (value) is associated with a unique identifier (key).\n",
    "    - Example: In a dictionary, the word is the key, and its definition is the value.\n",
    "- Hash Function:\n",
    "\n",
    "    - A hash function maps keys to specific indices in an array (called a hash table).\n",
    "    - It determines the index (bucket) where the value associated with a key should be stored.\n",
    "- Buckets:\n",
    "\n",
    "    - The hash table is essentially an array where each position (bucket) stores the data mapped to it by the hash function.\n",
    "- Collision:\n",
    "\n",
    "    - Collisions occur when the hash function maps multiple keys to the same bucket.\n",
    "    - To handle collisions, strategies such as chaining or open addressing are used."
   ]
  },
  {
   "cell_type": "markdown",
   "metadata": {},
   "source": [
    "# Hash Table In Python"
   ]
  },
  {
   "cell_type": "code",
   "execution_count": 38,
   "metadata": {},
   "outputs": [],
   "source": [
    "## Here we implement a simple hash table \n",
    "\n",
    "class HashTable:\n",
    "    \n",
    "    def __init__(self):\n",
    "        self.MAX = 100\n",
    "        self.arr = [None for i in range(self.MAX)]\n",
    "        \n",
    "    ## main hash function\n",
    "    def get_hash_value(self, key):\n",
    "        h=0\n",
    "        \n",
    "        for char in key:\n",
    "            h += ord(char)\n",
    "        return h%self.MAX  \n",
    "    \n",
    "    ## add item\n",
    "    def __setitem__(self, key, value):\n",
    "        h = self.get_hash_value(key)\n",
    "        self.arr[h]=value\n",
    "    \n",
    "    ## get item   \n",
    "    def __getitem__(self, key):\n",
    "        h = self.get_hash_value(key)\n",
    "        return self.arr[h]\n",
    "    \n",
    "    ## delete item \n",
    "    def __delitem__(self,key):\n",
    "        h = self.get_hash_value(key)\n",
    "        self.arr[h] = None"
   ]
  },
  {
   "cell_type": "code",
   "execution_count": 48,
   "metadata": {},
   "outputs": [],
   "source": [
    "## Creating an object of Hashtable class\n",
    "t = HashTable()\n",
    "\n",
    "## Adding some key value in the Hash Table\n",
    "t['key1'] = 'This is sample value'\n",
    "t['key2'] = 45\n",
    "t['key3'] = 56.08\n",
    "t['key4'] = [ 1,2,3,4,5]\n"
   ]
  },
  {
   "cell_type": "code",
   "execution_count": 49,
   "metadata": {},
   "outputs": [
    {
     "name": "stdout",
     "output_type": "stream",
     "text": [
      "key1: This is sample value\n",
      "key2: 45\n",
      "key3: 56.08\n",
      "key4: [1, 2, 3, 4, 5]\n"
     ]
    }
   ],
   "source": [
    "## getting value for HashTable with key's \n",
    "\n",
    "print(\"key1:\", t['key1'])\n",
    "print(\"key2:\", t['key2']) \n",
    "print(\"key3:\", t['key3']) \n",
    "print(\"key4:\", t['key4']) "
   ]
  },
  {
   "cell_type": "code",
   "execution_count": null,
   "metadata": {},
   "outputs": [],
   "source": []
  }
 ],
 "metadata": {
  "kernelspec": {
   "display_name": "Python 3",
   "language": "python",
   "name": "python3"
  },
  "language_info": {
   "codemirror_mode": {
    "name": "ipython",
    "version": 3
   },
   "file_extension": ".py",
   "mimetype": "text/x-python",
   "name": "python",
   "nbconvert_exporter": "python",
   "pygments_lexer": "ipython3",
   "version": "3.11.7"
  }
 },
 "nbformat": 4,
 "nbformat_minor": 2
}
