{
 "cells": [
  {
   "cell_type": "markdown",
   "metadata": {
    "slideshow": {
     "slide_type": "slide"
    }
   },
   "source": [
    "# Data in Python\n",
    "\n",
    "## Stats 141B\n",
    "\n",
    "## Lecture 5\n",
    "\n",
    "## Prof. Sharpnack\n",
    "\n",
    "## Lecture slides at http://anson.ucdavis.edu/~jsharpna/141Blectures/\n",
    "\n",
    "## Lecture repository at https://github.com/jsharpna/141Blectures/"
   ]
  },
  {
   "cell_type": "code",
   "execution_count": 1,
   "metadata": {
    "slideshow": {
     "slide_type": "slide"
    }
   },
   "outputs": [
    {
     "name": "stdout",
     "output_type": "stream",
     "text": [
      ">SPAC1002.01:pep\r\n",
      "MLPPTIRISGLAKTLHIPSRSPLQALKGSFILLNKRKFHYSPFILQEKVQSSNHTIRSDT\r\n",
      "KLWKRLLKITGKQAHQFKDKPFSHIFAFLFLHELSAILPLPIFFFIFHSLDWTPTGLPGE\r\n",
      "YLQKGSHVAASIFAKLGYNLPLEKVSKTLLDGAAAYAVVKVSYFVENNMVSSTRPFVSN*\r\n",
      ">SPAC1002.02:pep\r\n",
      "MASTFSQSVFARSLYEDSAENKVDSSKNTEANFPITLPKVLPTDPKASSLHKPQEQQPNI\r\n",
      "IPSKEEDKKPVINSMKLPSIPAPGTDNINESHIPRGYWKHPAVDKIAKRLHDQAPSDRTW\r\n",
      "SRMVSNLFAFISIQFLNRYLPNTTAVKVVSWILQALLLFNLLESVWQFVRPQPTFDDLQL\r\n",
      "TPLQRKLMGLPEGGSTSGKHLTPPRYRPNFSPSRKAENVKSPVRSTTWA*\r\n",
      ">SPAC1002.03c:pep\r\n"
     ]
    }
   ],
   "source": [
    "# The following data is from https://www.pombase.org/downloads/protein-datasets\n",
    "# It contains the amino acid sequences for proteins in fission yeast\n",
    "\n",
    "! head ../data/peptide.fa"
   ]
  },
  {
   "cell_type": "code",
   "execution_count": 2,
   "metadata": {
    "slideshow": {
     "slide_type": "slide"
    }
   },
   "outputs": [],
   "source": [
    "def pep_reader(filename='../data/peptide.fa'):\n",
    "    with open(filename,'r') as pepfile:\n",
    "        pepname = False # start of file\n",
    "        for line in pepfile: \n",
    "            if line[0] == '>': # check for prot id line\n",
    "                if pepname:\n",
    "                    yield (pepname,pepseq) # if not first output protein\n",
    "                pepname = line.split(':')[0][1:] # get the id\n",
    "                pepseq = \"\" # init seq\n",
    "            else:\n",
    "                pepseq += line.strip() # append to seq"
   ]
  },
  {
   "cell_type": "code",
   "execution_count": 3,
   "metadata": {},
   "outputs": [],
   "source": [
    "pep = pep_reader() # init the iterator\n",
    "pepdict = {k:v for k,v in pep} # make dictionary with gen expression"
   ]
  },
  {
   "cell_type": "code",
   "execution_count": 4,
   "metadata": {},
   "outputs": [
    {
     "data": {
      "text/plain": [
       "['SPAC1002.01',\n",
       " 'SPAC1002.02',\n",
       " 'SPAC1002.03c',\n",
       " 'SPAC1002.04c',\n",
       " 'SPAC1002.05c',\n",
       " 'SPAC1002.06c',\n",
       " 'SPAC1002.07c',\n",
       " 'SPAC1002.08c',\n",
       " 'SPAC1002.09c',\n",
       " 'SPAC1002.10c']"
      ]
     },
     "execution_count": 4,
     "metadata": {},
     "output_type": "execute_result"
    }
   ],
   "source": [
    "[k for i,k in enumerate(pepdict.keys()) if i < 10] # first 10 keys"
   ]
  },
  {
   "cell_type": "markdown",
   "metadata": {
    "slideshow": {
     "slide_type": "slide"
    }
   },
   "source": [
    "## Dictionaries form hash tables\n",
    "\n",
    "- a hash function is used to give the keys integer ids (probably unique but maybe not)\n",
    "- a hash table maps these ids to values\n",
    "\n",
    "![](https://upload.wikimedia.org/wikipedia/commons/thumb/7/7d/Hash_table_3_1_1_0_1_0_0_SP.svg/315px-Hash_table_3_1_1_0_1_0_0_SP.svg.png)\n",
    "*image from wikipedia"
   ]
  },
  {
   "cell_type": "code",
   "execution_count": 5,
   "metadata": {
    "slideshow": {
     "slide_type": "slide"
    }
   },
   "outputs": [
    {
     "data": {
      "text/plain": [
       "'MLPPTIRISGLAKTLHIPSRSPLQALKGSFILLNKRKFHYSPFILQEKVQSSNHTIRSDTKLWKRLLKITGKQAHQFKDKPFSHIFAFLFLHELSAILPLPIFFFIFHSLDWTPTGLPGEYLQKGSHVAASIFAKLGYNLPLEKVSKTLLDGAAAYAVVKVSYFVENNMVSSTRPFVSN*'"
      ]
     },
     "execution_count": 5,
     "metadata": {},
     "output_type": "execute_result"
    }
   ],
   "source": [
    "pepdict['SPAC1002.01'] # select element"
   ]
  },
  {
   "cell_type": "code",
   "execution_count": 6,
   "metadata": {
    "slideshow": {
     "slide_type": "fragment"
    }
   },
   "outputs": [
    {
     "data": {
      "text/plain": [
       "-6987572177271965481"
      ]
     },
     "execution_count": 6,
     "metadata": {},
     "output_type": "execute_result"
    }
   ],
   "source": [
    "hash('SPAC1002.01') # the hash value"
   ]
  },
  {
   "cell_type": "code",
   "execution_count": 26,
   "metadata": {
    "slideshow": {
     "slide_type": "slide"
    }
   },
   "outputs": [
    {
     "name": "stdout",
     "output_type": "stream",
     "text": [
      "CPU times: user 109 µs, sys: 2 µs, total: 111 µs\n",
      "Wall time: 115 µs\n"
     ]
    },
    {
     "data": {
      "text/plain": [
       "'MSAEDLFTIQILCDQIELKLASIVINSNIKLQLKRKKKTQQL*'"
      ]
     },
     "execution_count": 26,
     "metadata": {},
     "output_type": "execute_result"
    }
   ],
   "source": [
    "lastid = prot_ids[-1] # select last id\n",
    "\n",
    "%time prot_seqs[prot_ids.index(lastid)] # time selecting using list.index"
   ]
  },
  {
   "cell_type": "code",
   "execution_count": 27,
   "metadata": {
    "slideshow": {
     "slide_type": "fragment"
    }
   },
   "outputs": [
    {
     "name": "stdout",
     "output_type": "stream",
     "text": [
      "CPU times: user 4 µs, sys: 0 ns, total: 4 µs\n",
      "Wall time: 5.96 µs\n"
     ]
    },
    {
     "data": {
      "text/plain": [
       "'MSAEDLFTIQILCDQIELKLASIVINSNIKLQLKRKKKTQQL*'"
      ]
     },
     "execution_count": 27,
     "metadata": {},
     "output_type": "execute_result"
    }
   ],
   "source": [
    "%time pepdict[lastid] # time select using dict"
   ]
  },
  {
   "cell_type": "code",
   "execution_count": 9,
   "metadata": {
    "slideshow": {
     "slide_type": "slide"
    }
   },
   "outputs": [],
   "source": [
    "pep = pep_reader() # init again\n",
    "prot_ids, prot_seqs = zip(*pep) # make 2 lists\n",
    "prot_ids = list(prot_ids)\n",
    "prot_seqs = list(prot_seqs)"
   ]
  },
  {
   "cell_type": "code",
   "execution_count": 10,
   "metadata": {
    "slideshow": {
     "slide_type": "fragment"
    }
   },
   "outputs": [],
   "source": [
    "def seq_to_set(seq):\n",
    "    \"\"\"Protein sequence to a set\"\"\"\n",
    "    return set(p for p in seq)"
   ]
  },
  {
   "cell_type": "markdown",
   "metadata": {
    "slideshow": {
     "slide_type": "slide"
    }
   },
   "source": [
    "### Sets in Python\n",
    "\n",
    "- good at testing containment\n",
    "- uses a hash table: values are if the element is in the set or not\n",
    "- set operations:\n",
    " - `a in s` tests if element a is in set s\n",
    " - `s1 & s2` intersection\n",
    " - `s1 | s2` union\n",
    " - `s1 - s2` s1 not in s2"
   ]
  },
  {
   "cell_type": "code",
   "execution_count": 11,
   "metadata": {
    "slideshow": {
     "slide_type": "fragment"
    }
   },
   "outputs": [
    {
     "name": "stdout",
     "output_type": "stream",
     "text": [
      "24.7 ns ± 0.456 ns per loop (mean ± std. dev. of 7 runs, 10000000 loops each)\n"
     ]
    }
   ],
   "source": [
    "s = seq_to_set(prot_seqs[0]) # save the set to test with\n",
    "%timeit '*' in s # how long does containment test take here?"
   ]
  },
  {
   "cell_type": "code",
   "execution_count": 12,
   "metadata": {
    "slideshow": {
     "slide_type": "fragment"
    }
   },
   "outputs": [
    {
     "name": "stdout",
     "output_type": "stream",
     "text": [
      "29 ns ± 0.367 ns per loop (mean ± std. dev. of 7 runs, 10000000 loops each)\n"
     ]
    }
   ],
   "source": [
    "s = prot_seqs[0] # test with list\n",
    "%timeit '*' in s # how long does containment test take now?"
   ]
  },
  {
   "cell_type": "code",
   "execution_count": 29,
   "metadata": {
    "slideshow": {
     "slide_type": "slide"
    }
   },
   "outputs": [
    {
     "name": "stdout",
     "output_type": "stream",
     "text": [
      "39.7 ns ± 1.39 ns per loop (mean ± std. dev. of 7 runs, 10000000 loops each)\n"
     ]
    }
   ],
   "source": [
    "s = set(i for i in range(1000)) # test with a larger set\n",
    "%timeit 999 in s"
   ]
  },
  {
   "cell_type": "code",
   "execution_count": 30,
   "metadata": {
    "slideshow": {
     "slide_type": "fragment"
    }
   },
   "outputs": [
    {
     "name": "stdout",
     "output_type": "stream",
     "text": [
      "9.78 µs ± 243 ns per loop (mean ± std. dev. of 7 runs, 100000 loops each)\n"
     ]
    }
   ],
   "source": [
    "s = list(i for i in range(1000))\n",
    "%timeit 999 in s"
   ]
  },
  {
   "cell_type": "code",
   "execution_count": 13,
   "metadata": {
    "slideshow": {
     "slide_type": "slide"
    }
   },
   "outputs": [],
   "source": [
    "prot_sets = [seq_to_set(seq) for seq in prot_seqs] # create sets database"
   ]
  },
  {
   "cell_type": "code",
   "execution_count": 14,
   "metadata": {
    "slideshow": {
     "slide_type": "fragment"
    }
   },
   "outputs": [
    {
     "name": "stdout",
     "output_type": "stream",
     "text": [
      "E,V,D,P,Y,S,M,A,Q,*,W,N,I,L,K,C,H,T,R,G,F\n"
     ]
    }
   ],
   "source": [
    "## Creating the alphabet of all amino acids in dataset\n",
    "\n",
    "alphabet = set()\n",
    "for seq in prot_sets:\n",
    "    alphabet |= seq\n",
    "    \n",
    "print(','.join(alphabet))"
   ]
  },
  {
   "cell_type": "code",
   "execution_count": 31,
   "metadata": {
    "slideshow": {
     "slide_type": "fragment"
    }
   },
   "outputs": [
    {
     "data": {
      "text/plain": [
       "0.8177570093457944"
      ]
     },
     "execution_count": 31,
     "metadata": {},
     "output_type": "execute_result"
    }
   ],
   "source": [
    "## which proteins have all amino acids (including *)?\n",
    "pids_full_aa = [pid for pid, seq in zip(prot_ids,prot_sets) if seq == alphabet]\n",
    "\n",
    "len(pids_full_aa) / len(prot_ids)"
   ]
  },
  {
   "cell_type": "markdown",
   "metadata": {
    "slideshow": {
     "slide_type": "slide"
    }
   },
   "source": [
    "### Similarity between proteins\n",
    "\n",
    "- how similar are the amino acid distribution?\n",
    "- define the AA proportions (string s, amino acid a):\n",
    "$$\\hat p_s(a) = \\frac{\\textrm{ # a in s}}{\\textrm{ length of s }}$$\n",
    "- define total variation distance between seqs:\n",
    "$$ d(s_0, s_1) := \\sum_{a} |\\hat p_{s_0}(a) - \\hat p_{s_1}(a)|$$"
   ]
  },
  {
   "cell_type": "code",
   "execution_count": 17,
   "metadata": {
    "slideshow": {
     "slide_type": "slide"
    }
   },
   "outputs": [],
   "source": [
    "prot_lens = [len(seq) for seq in prot_seqs] # protein lengths"
   ]
  },
  {
   "cell_type": "code",
   "execution_count": 20,
   "metadata": {
    "slideshow": {
     "slide_type": "fragment"
    }
   },
   "outputs": [
    {
     "data": {
      "text/plain": [
       "Counter({'M': 2,\n",
       "         'L': 24,\n",
       "         'P': 12,\n",
       "         'T': 9,\n",
       "         'I': 12,\n",
       "         'R': 6,\n",
       "         'S': 18,\n",
       "         'G': 8,\n",
       "         'A': 12,\n",
       "         'K': 16,\n",
       "         'H': 8,\n",
       "         'Q': 6,\n",
       "         'F': 15,\n",
       "         'N': 6,\n",
       "         'Y': 5,\n",
       "         'E': 5,\n",
       "         'V': 9,\n",
       "         'D': 4,\n",
       "         'W': 2,\n",
       "         '*': 1})"
      ]
     },
     "execution_count": 20,
     "metadata": {},
     "output_type": "execute_result"
    }
   ],
   "source": [
    "from collections import Counter\n",
    "\n",
    "Counter(prot_seqs[0]) # Counter counts the number of unique elements in iterable"
   ]
  },
  {
   "cell_type": "code",
   "execution_count": 21,
   "metadata": {
    "slideshow": {
     "slide_type": "slide"
    }
   },
   "outputs": [
    {
     "data": {
      "text/plain": [
       "{'M': 0.020619039358262394,\n",
       " 'L': 0.09850329500826625,\n",
       " 'P': 0.04703679164637549,\n",
       " 'T': 0.05490719007798082,\n",
       " 'I': 0.06143952045246013,\n",
       " 'R': 0.048582195459932156,\n",
       " 'S': 0.09403679791661006,\n",
       " 'G': 0.049142336414805275,\n",
       " 'A': 0.06209120683204759,\n",
       " 'K': 0.0642406432424637,\n",
       " 'H': 0.022572426434472912,\n",
       " 'Q': 0.038115501900926115,\n",
       " 'F': 0.045995514692204635,\n",
       " 'N': 0.05199780123774431,\n",
       " 'Y': 0.034146025402810316,\n",
       " 'E': 0.06512223822293192,\n",
       " 'V': 0.06020261217972164,\n",
       " 'D': 0.0533003379656433,\n",
       " 'W': 0.011164361658769655,\n",
       " '*': 0.0021469283165883235,\n",
       " 'C': 0.01463723557898301}"
      ]
     },
     "execution_count": 21,
     "metadata": {},
     "output_type": "execute_result"
    }
   ],
   "source": [
    "# total count of each AA in data\n",
    "total_count = sum((Counter(val) for _,val in pepdict.items()), Counter())\n",
    "\n",
    "# total number of AAs in data\n",
    "total_aas = sum(val for _,val in total_count.items())\n",
    "\n",
    "# total proportion of AAs in data\n",
    "total_prop = {aa:cnt/total_aas for aa,cnt in total_count.items()}\n",
    "total_prop"
   ]
  },
  {
   "cell_type": "code",
   "execution_count": 22,
   "metadata": {
    "slideshow": {
     "slide_type": "slide"
    }
   },
   "outputs": [],
   "source": [
    "def comp_prots(i,j):\n",
    "    \"\"\"Compare two proteins by TV-dist (this should be in a class)\n",
    "    Requires global variables prot_sets,prot_lens,prot_seqs,prot_ids\"\"\"\n",
    "    pid1, pid2 = prot_ids[i],prot_ids[j]\n",
    "    pset1, pset2 = prot_sets[i],prot_sets[j]\n",
    "    plen1, plen2 = prot_lens[i],prot_lens[j]\n",
    "    pcnt1, pcnt2 = (Counter(s) for s in [prot_seqs[i],prot_seqs[j]]) # create 2 counters\n",
    "    norm = 0\n",
    "    for aa in pset1 & pset2:\n",
    "        norm += abs(pcnt1[aa] / plen1 - pcnt2[aa] / plen2) # TV dist for overlap\n",
    "    for aa in pset1 - pset2:\n",
    "        norm += pcnt1[aa] / plen1  # TV dist for aa in s1 not s2\n",
    "    for aa in pset2 - pset1:\n",
    "        norm += pcnt2[aa] / plen2  # TV dist for aa in s2 not s1   \n",
    "    return (pid1,pid2), norm"
   ]
  },
  {
   "cell_type": "code",
   "execution_count": 23,
   "metadata": {
    "slideshow": {
     "slide_type": "slide"
    }
   },
   "outputs": [
    {
     "data": {
      "text/plain": [
       "(('SPAC1002.01', 'SPAC1002.02'), 0.34830917874396133)"
      ]
     },
     "execution_count": 23,
     "metadata": {},
     "output_type": "execute_result"
    }
   ],
   "source": [
    "## distance between first and second\n",
    "comp_prots(0,1)"
   ]
  },
  {
   "cell_type": "code",
   "execution_count": 24,
   "metadata": {
    "slideshow": {
     "slide_type": "fragment"
    }
   },
   "outputs": [
    {
     "data": {
      "text/plain": [
       "(('SPAC1002.01', 'SPBC16H5.14c'), 0.19907084785133566)"
      ]
     },
     "execution_count": 24,
     "metadata": {},
     "output_type": "execute_result"
    }
   ],
   "source": [
    "## protein 'closest' to first\n",
    "n = len(prot_ids)\n",
    "min((comp_prots(0,i) for i in range(1,n)),key=lambda x: x[1])"
   ]
  },
  {
   "cell_type": "markdown",
   "metadata": {
    "slideshow": {
     "slide_type": "fragment"
    }
   },
   "source": [
    "- key: tells how to compare for min\n",
    "- lambda is ad-hoc function\n",
    " - `lambda x: expr(x)`"
   ]
  },
  {
   "cell_type": "code",
   "execution_count": 25,
   "metadata": {
    "slideshow": {
     "slide_type": "slide"
    }
   },
   "outputs": [
    {
     "name": "stdout",
     "output_type": "stream",
     "text": [
      "0\n",
      "1\n",
      "2\n",
      "3\n",
      "4\n",
      "5\n",
      "6\n",
      "7\n",
      "8\n",
      "9\n",
      "5\n"
     ]
    }
   ],
   "source": [
    "## Briefly about scope\n",
    "\n",
    "i = 5 # i in global namespace\n",
    "def pseq():\n",
    "    for i in range(10):\n",
    "        print(i) # i in local namespace\n",
    "        \n",
    "pseq()\n",
    "print(i) # i in global namespace again"
   ]
  }
 ],
 "metadata": {
  "celltoolbar": "Slideshow",
  "kernelspec": {
   "display_name": "Python 3",
   "language": "python",
   "name": "python3"
  },
  "language_info": {
   "codemirror_mode": {
    "name": "ipython",
    "version": 3
   },
   "file_extension": ".py",
   "mimetype": "text/x-python",
   "name": "python",
   "nbconvert_exporter": "python",
   "pygments_lexer": "ipython3",
   "version": "3.7.0"
  }
 },
 "nbformat": 4,
 "nbformat_minor": 2
}
