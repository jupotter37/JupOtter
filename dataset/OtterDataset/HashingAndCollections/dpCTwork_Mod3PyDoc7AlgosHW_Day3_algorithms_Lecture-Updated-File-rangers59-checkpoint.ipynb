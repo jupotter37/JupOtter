{
 "cells": [
  {
   "cell_type": "markdown",
   "metadata": {},
   "source": [
    "# Algorithms, Binary Search & Linked Lists"
   ]
  },
  {
   "cell_type": "markdown",
   "metadata": {},
   "source": [
    "## Tasks Today:\n",
    " \n",
    "1) <b>In-Place Algorithms</b> <br>\n",
    " &nbsp;&nbsp;&nbsp;&nbsp; a) Syntax <br>\n",
    " &nbsp;&nbsp;&nbsp;&nbsp; a) Out of Place Algorithm <br>\n",
    " &nbsp;&nbsp;&nbsp;&nbsp; b) In-Class Exercise #1 <br>\n",
    "2) <b>Two Pointers</b> <br>\n",
    "3) <b>Linked Lists</b> <br>\n",
    "4) <b>Merge Sort</b> <br>\n",
    " &nbsp;&nbsp;&nbsp;&nbsp; a) Video on Algorithms <br>\n",
    " &nbsp;&nbsp;&nbsp;&nbsp; b) How it Works <br>\n",
    "5) <b>Exercises</b> <br>\n",
    " &nbsp;&nbsp;&nbsp;&nbsp; a) Exercise #1 - Reverse a List in Place Using an In-Place Algorithm <br>\n",
    " &nbsp;&nbsp;&nbsp;&nbsp; b) Exercise #2 - Find Distinct Words <br>\n",
    " &nbsp;&nbsp;&nbsp;&nbsp; c) Exercise #3 - Write a program to implement a Linear Search Algorithm. <br>"
   ]
  },
  {
   "cell_type": "markdown",
   "metadata": {},
   "source": [
    "## In-Place Algorithms"
   ]
  },
  {
   "cell_type": "markdown",
   "metadata": {},
   "source": [
    "#### Syntax"
   ]
  },
  {
   "cell_type": "code",
   "execution_count": 9,
   "metadata": {},
   "outputs": [
    {
     "name": "stdout",
     "output_type": "stream",
     "text": [
      "Before swap: [20, 4, 10]\n",
      "20\n",
      "After swap: [10, 4, 20]\n",
      "10\n"
     ]
    }
   ],
   "source": [
    "# var[i], var[i+1] = var[i+1], var[i]\n",
    "# Sometimes known as a 'swap algorithm'\n",
    "\n",
    "def swap(a_list, x, y, z):\n",
    "    a_list[x], a_list[y], a_list[z] = a_list[z], a_list[y], a_list[x] \n",
    "    return a_list\n",
    "\n",
    "\n",
    "my_list = [20, 4, 10]\n",
    "print(f\"Before swap: {my_list}\")\n",
    "print(my_list[0])\n",
    "\n",
    "#swap\n",
    "# swap(my_list, 2,0,1)\n",
    "swap(my_list, 0,1,2)\n",
    "print(f\"After swap: {my_list}\")\n",
    "print(my_list[0])"
   ]
  },
  {
   "cell_type": "markdown",
   "metadata": {},
   "source": [
    "#### Out of Place Algorithm"
   ]
  },
  {
   "cell_type": "code",
   "execution_count": 15,
   "metadata": {},
   "outputs": [
    {
     "name": "stdout",
     "output_type": "stream",
     "text": [
      "Before: ['a', 'b', 'c', 'd']\n",
      "After:  ['d', 'c', 'b', 'a']\n"
     ]
    }
   ],
   "source": [
    "# Out of Place algo\n",
    "# Here we're not swapping, but reversing\n",
    "# BUT also copies to another place in memory\n",
    "\n",
    "my_list_copy = my_list[::-1]\n",
    "# print(my_list_copy)\n",
    "# print(my_list)\n",
    "\n",
    "array = ['a', 'b', 'c', 'd']\n",
    "new_array = ['a'] * len(array)\n",
    "#new_array = ['a', 'a', 'a', 'a']\n",
    "\n",
    "print(f\"Before: {array}\")\n",
    "\n",
    "length = len(array) - 1\n",
    "#len(array) = 4 (a,b,c,d), and len(array) - 1 = 3\n",
    "# So we can use this as range (basically 0, 1, 2, 3) b/c range is not inclusive\n",
    "# so length = 3\n",
    "\n",
    "for i in range(length):\n",
    "    new_array[i] = array[length - i]\n",
    "'''\n",
    "#what this did was:\n",
    "for i in range(3):  <-- since length = len(array)-1 or 4-3 = 3\n",
    "    new_array[0] = array[3-0]\n",
    "    new_array[1] = array[3-1]\n",
    "    new_array[2] = array[3-2]\n",
    "    new_array[3] = array[3-3]\n",
    "    \n",
    "    #in other words:\n",
    "    new_array[0] = array[3]\n",
    "    new_array[1] = array[2]\n",
    "    new_array[2] = array[1]\n",
    "    new_array[3] = array[0]\n",
    "\n",
    "hence the full reverse.\n",
    "\n",
    "basically the same thing as above:\n",
    "new_array = array[::-1]\n",
    "'''\n",
    "\n",
    "array = new_array\n",
    "print(\"After: \", array)\n"
   ]
  },
  {
   "cell_type": "markdown",
   "metadata": {},
   "source": [
    "#### In-Class Exercise #1 <br>\n",
    "<p>Write a function that takes in four arguments (list, index1, index2, index3), and swaps those three positions in the list passed in.</p>"
   ]
  },
  {
   "cell_type": "code",
   "execution_count": 21,
   "metadata": {},
   "outputs": [
    {
     "name": "stdout",
     "output_type": "stream",
     "text": [
      "Before:  [10, 4, 3, 8, 4, 2, 6]\n",
      "After:  [10, 8, 3, 4, 4, 2, 6]\n"
     ]
    }
   ],
   "source": [
    "l_1 = [10, 4, 3, 8, 4, 2, 6]\n",
    "\n",
    "def swap(a_list, x, y, z):\n",
    "    a_list[x], a_list[y], a_list[z] = a_list[z], a_list[y], a_list[x] \n",
    "    return a_list\n",
    "\n",
    "print('Before: ', l_1)\n",
    "swap(l_1, 1,2,3)\n",
    "print('After: ', l_1)"
   ]
  },
  {
   "cell_type": "markdown",
   "metadata": {},
   "source": [
    "## Two Pointers"
   ]
  },
  {
   "cell_type": "markdown",
   "metadata": {},
   "source": [
    "#### Syntax"
   ]
  },
  {
   "cell_type": "code",
   "execution_count": 2,
   "metadata": {},
   "outputs": [
    {
     "data": {
      "text/plain": [
       "[22, 11, 4, 8, 9, 12, 3, 2, 1]"
      ]
     },
     "execution_count": 2,
     "metadata": {},
     "output_type": "execute_result"
    }
   ],
   "source": [
    "# a_list[left], a_list[right] = a_list[right], a_list[left]\n",
    "\n",
    "def twoPointers(alist):\n",
    "    #create the pointers\n",
    "    left = 0\n",
    "    right = len(alist)-1\n",
    "    # set up a loop that goes through our list and swaps things one pair at a time\n",
    "    while left <= right:\n",
    "        alist[left], alist[right] = alist[right], alist[left]\n",
    "        left += 1\n",
    "        right -= 1\n",
    "    return alist\n",
    "\n",
    "my_list2 = [1,2,3,12,9,8,4,11,22]\n",
    "twoPointers(my_list2)\n",
    "    "
   ]
  },
  {
   "cell_type": "code",
   "execution_count": 7,
   "metadata": {},
   "outputs": [
    {
     "name": "stdout",
     "output_type": "stream",
     "text": [
      "True\n",
      "False\n"
     ]
    }
   ],
   "source": [
    "# checking for palindromes\n",
    "\n",
    "'racecar'\n",
    "'racercar'\n",
    "'apple'\n",
    "\n",
    "def palindrome(astring):\n",
    "    left = 0\n",
    "    right = len(astring)-1\n",
    "    #can also do the above as 'left, right = 0, len(astring)-1'\n",
    "    while left < right:\n",
    "        left_letter = astring[left]\n",
    "        right_letter = astring[right]\n",
    "        if left_letter != right_letter:\n",
    "            return False\n",
    "        left += 1\n",
    "        right -= 1\n",
    "    return True\n",
    "\n",
    "print(palindrome('racecar'))\n",
    "print(palindrome('apple'))"
   ]
  },
  {
   "cell_type": "markdown",
   "metadata": {},
   "source": [
    "#### Video of Algorithms <br>\n",
    "<p>Watch the video about algorithms.</p>\n",
    "\n",
    "https://www.youtube.com/watch?v=Q9HjeFD62Uk\n",
    "\n",
    "https://www.youtube.com/watch?v=kPRA0W1kECg\n",
    "\n",
    "https://www.youtube.com/watch?v=ZZuD6iUe3Pc"
   ]
  },
  {
   "cell_type": "markdown",
   "metadata": {},
   "source": [
    "# Sorting Algorithms"
   ]
  },
  {
   "cell_type": "markdown",
   "metadata": {},
   "source": [
    "#### Bubble Sort\n",
    "\n",
    "Worst Case: O(n^2) Time - O(1) Space"
   ]
  },
  {
   "cell_type": "code",
   "execution_count": 3,
   "metadata": {},
   "outputs": [
    {
     "data": {
      "text/plain": [
       "[1, 22, 34, 44, 55, 66, 88, 100]"
      ]
     },
     "execution_count": 3,
     "metadata": {},
     "output_type": "execute_result"
    }
   ],
   "source": [
    "# Best case: O(n) <-- linear time complexity\n",
    "def swap(i, j, array):\n",
    "    array[i], array[j] = array[j], array[i]\n",
    "\n",
    "# bubble sort just loops through the list and, if the next item is smaller, it swaps with the one previous\n",
    "# until the array is arranged from smallest to largest\n",
    "# So we set a flag and and flip the flag as soon as the sorting is done on an instance.\n",
    "\n",
    "def bubble_sort(array):\n",
    "    issorted = False   # <-- here's our 'flag', set as False here.\n",
    "    while not issorted: # kicking off our loop\n",
    "        issorted = True # we swap the flag to True, then enter our nested 'for' loop.\n",
    "        for num in range(len(array)-1):  \n",
    "            if array[num] > array[num+1]:  # if our first index point is GREATER than the next,\n",
    "                swap(num, num+1, array)    # then we swap the two, to put the greater number on the right\n",
    "                # If we didn't have the swap() defined above, \n",
    "                # then we could also do this instead:\n",
    "                # array[i], array[i+1] == array[i+1], array[i]\n",
    "                \n",
    "                issorted = False           # then swap the flag to 'False', because the fact that we performed\n",
    "                                            # a swap means that the array is not sorted yet.\n",
    "    return array\n",
    "bubble_sort([22,55,88,44,1,100,34,66])"
   ]
  },
  {
   "cell_type": "markdown",
   "metadata": {},
   "source": [
    "##### Insertion Sort\n",
    "\n",
    "Worst Case: O(n^2) time - O(1)space"
   ]
  },
  {
   "cell_type": "code",
   "execution_count": 9,
   "metadata": {},
   "outputs": [
    {
     "name": "stdout",
     "output_type": "stream",
     "text": [
      "[10, 1, 9, 111, 5, 9, 10]\n",
      "[1, 5, 9, 9, 10, 10, 111]\n"
     ]
    }
   ],
   "source": [
    "num_list = [10,1,9,111,5,9,10]\n",
    "\n",
    "def insertion_sort(alist):\n",
    "    for i in range(1,len(alist)):   # We're comparing positions so we go with range()\n",
    "                                    # but we start 'i' at 1, bc we're gonna compare it to 'j' which is to the left\n",
    "        current = alist[i]      # we're saving alist[i] to a temp var 'current'\n",
    "        j = i - 1  # b/c we want to see if our 'current' is larger than the previous value\n",
    "        while current < alist[j] and j >= 0:\n",
    "            # looking at the start of list, where alist[i] is '1' and j (alist[i-1]) is '10'\n",
    "            # so currently:\n",
    "                # current = alist[i]  (1)\n",
    "                # j = i-1 (10)\n",
    "            # our while loop is currently saying while 1 < 10 and 10 >= 0\n",
    "            alist[j+1] = alist[j]  #because we want to keep bumping j down\n",
    "            j -= 1   # we keep decrementing 'j' and plugging current into the position of 'j' before decrement\n",
    "        alist[j+1] = current\n",
    "\n",
    "print(num_list)\n",
    "insertion_sort(num_list)\n",
    "print(num_list)\n"
   ]
  },
  {
   "cell_type": "markdown",
   "metadata": {},
   "source": [
    "## Merge Sort"
   ]
  },
  {
   "cell_type": "markdown",
   "metadata": {},
   "source": [
    "#### How it Works"
   ]
  },
  {
   "cell_type": "code",
   "execution_count": 11,
   "metadata": {},
   "outputs": [
    {
     "name": "stdout",
     "output_type": "stream",
     "text": [
      "[20, 5, 18, 20, 10]\n",
      "Splitting...  [20, 5, 18, 20, 10]\n",
      "Splitting...  [20, 5]\n",
      "Splitting...  [20]\n",
      "Merging... [20]\n",
      "Splitting...  [5]\n",
      "Merging... [5]\n",
      "Merging... [5, 20]\n",
      "Splitting...  [18, 20, 10]\n",
      "Splitting...  [18]\n",
      "Merging... [18]\n",
      "Splitting...  [20, 10]\n",
      "Splitting...  [20]\n",
      "Merging... [20]\n",
      "Splitting...  [10]\n",
      "Merging... [10]\n",
      "Merging... [10, 20]\n",
      "Merging... [10, 18, 20]\n",
      "Merging... [5, 10, 18, 20, 20]\n"
     ]
    },
    {
     "data": {
      "text/plain": [
       "[5, 10, 18, 20, 20]"
      ]
     },
     "execution_count": 11,
     "metadata": {},
     "output_type": "execute_result"
    }
   ],
   "source": [
    "# Step 1: Split everything into its own group\n",
    "# Step 2: From left to right, merge two groups together\n",
    "# Step 3: While merging, place each item in the correct position within the merged group\n",
    "# Step 4: Continue steps 3-4 until only one group is left\n",
    "\n",
    "from random import randint\n",
    "# used to generate a random list of 5 numbers from 0 to 20\n",
    "nums = [randint(0,20) for i in range(5)]\n",
    "print(nums)\n",
    "\n",
    "# Our merge sort function\n",
    "def merge_sort(alist):\n",
    "    print('Splitting... ', alist)\n",
    "    \n",
    "    # Step 1: Divide the array into equal parts as much as possible\n",
    "    if len(alist) > 1:\n",
    "        mid = len(alist) // 2\n",
    "        lefthalf = alist[:mid]\n",
    "        righthalf = alist[mid:]\n",
    "        \n",
    "        # use recursion: recursively call merge_sort to perform splits if needed\n",
    "        # then merge once the splits are done\n",
    "        merge_sort(lefthalf)\n",
    "        merge_sort(righthalf)\n",
    "        \n",
    "        #index pointers for our list (our iterators)\n",
    "        i = 0 #pointer for our left half\n",
    "        j = 0 #pointer for our right half\n",
    "        k = 0 #pointer for our main array (alist)\n",
    "        \n",
    "        # Step 2: compare lefthalf and righthalf\n",
    "        while i < len(lefthalf) and j < len(righthalf):\n",
    "            if lefthalf[i] < righthalf[j]:\n",
    "                alist[k] = lefthalf[i]\n",
    "                i += 1\n",
    "            else:\n",
    "                alist[k] = righthalf[j]\n",
    "                j += 1\n",
    "            k += 1\n",
    "        # Step 3: While merging, place items in correct position\n",
    "        while i < len(lefthalf):\n",
    "            alist[k] = lefthalf[i]\n",
    "            i += 1\n",
    "            k += 1\n",
    "        while j < len(righthalf):\n",
    "            alist[k] = righthalf[j]\n",
    "            j += 1\n",
    "            k += 1\n",
    "    print(\"Merging...\", alist)\n",
    "    return alist\n",
    "\n",
    "merge_sort(nums)"
   ]
  },
  {
   "cell_type": "markdown",
   "metadata": {},
   "source": [
    "# Binary Search\n",
    "\n",
    "The Binary Search algorithm works by finding the number in the middle of a given array and comparing it to the target. Given that the array is sorted\n",
    "\n",
    "* The worst case run time for this algorithm is `O(log(n))`"
   ]
  },
  {
   "cell_type": "code",
   "execution_count": 15,
   "metadata": {},
   "outputs": [
    {
     "data": {
      "text/plain": [
       "'The index is... Your list[2]'"
      ]
     },
     "execution_count": 15,
     "metadata": {},
     "output_type": "execute_result"
    }
   ],
   "source": [
    "# Less = left\n",
    "# Greater = right\n",
    "# List of numbers MUST be sorted\n",
    "\n",
    "def binary_search_helper(array, target, leftpointer, rightpointer): # for our purposes, our 'left' would be 0, and 'right' = len-1\n",
    "    while leftpointer <= rightpointer:\n",
    "        midpointer = (leftpointer+rightpointer) // 2\n",
    "        potential_match = array[midpointer]\n",
    "        if target == potential_match:\n",
    "            return f\"The index is... Your list[{midpointer}]\"\n",
    "        elif target < potential_match:\n",
    "            rightpointer = midpointer - 1\n",
    "        else: \n",
    "            leftpointer = midpointer + 1\n",
    "    return -1\n",
    "\n",
    "def binary_search(array, target):\n",
    "    return binary_search_helper(array, target, 0, len(array) - 1)\n",
    "\n",
    "binary_search([22,44,55,66,88,100,200], 55)   # list, then target\n",
    "    "
   ]
  },
  {
   "cell_type": "markdown",
   "metadata": {},
   "source": [
    "# Exercises"
   ]
  },
  {
   "cell_type": "markdown",
   "metadata": {},
   "source": [
    "### Exercise #1 <br>\n",
    "<p>Reverse the list below in-place using an in-place algorithm.<br>For extra credit: Reverse the strings at the same time.</p>"
   ]
  },
  {
   "cell_type": "code",
   "execution_count": 1,
   "metadata": {},
   "outputs": [
    {
     "name": "stdout",
     "output_type": "stream",
     "text": [
      "['.', 'ecnetnes', 'a', 'si', 'siht']\n"
     ]
    }
   ],
   "source": [
    "words = ['this' , 'is', 'a', 'sentence', '.']\n",
    "\n",
    "# def reverse_words(a_list, a,b,c,d,e):\n",
    "#     a_list[a], a_list[b], a_list[c], a_list[d], a_list[e] = a_list[e], a_list[d], a_list[c], a_list[b], a_list[a]\n",
    "#     return a_list\n",
    "\n",
    "def reverse_words(a_list):\n",
    "    for i in range(len(a_list)):\n",
    "        a_list[i] = a_list[i][::-1]\n",
    "    i = 0\n",
    "    length = len(a_list)-1\n",
    "    while i < length:\n",
    "        a_list[i], a_list[length] = a_list[length], a_list[i]\n",
    "        i += 1\n",
    "        length -= 1\n",
    "    return a_list\n",
    "\n",
    "reverse_words(words)\n",
    "print(words)\n",
    "\n",
    "\n"
   ]
  },
  {
   "cell_type": "markdown",
   "metadata": {},
   "source": [
    "### Exercise #2 <br>\n",
    "<p>Create a function that counts how many distinct words are in the string below, then outputs a dictionary with the words as the key and the value as the amount of times that word appears in the string.<br>Should output:<br>{'a': 5,<br>\n",
    " 'abstract': 1,<br>\n",
    " 'an': 3,<br>\n",
    " 'array': 2, ... etc...</p>"
   ]
  },
  {
   "cell_type": "code",
   "execution_count": 71,
   "metadata": {},
   "outputs": [
    {
     "data": {
      "text/plain": [
       "{'In': 1,\n",
       " 'computing': 1,\n",
       " 'a': 4,\n",
       " 'hash': 4,\n",
       " 'table': 2,\n",
       " 'map': 2,\n",
       " 'is': 1,\n",
       " 'data': 2,\n",
       " 'structure': 2,\n",
       " 'which': 2,\n",
       " 'implements': 1,\n",
       " 'an': 3,\n",
       " 'associative': 1,\n",
       " 'array': 2,\n",
       " 'abstract': 1,\n",
       " 'type': 1,\n",
       " 'that': 1,\n",
       " 'can': 2,\n",
       " 'keys': 1,\n",
       " 'to': 2,\n",
       " 'values': 1,\n",
       " 'A': 1,\n",
       " 'uses': 1,\n",
       " 'function': 1,\n",
       " 'compute': 1,\n",
       " 'index': 1,\n",
       " 'into': 1,\n",
       " 'of': 1,\n",
       " 'buckets': 1,\n",
       " 'or': 1,\n",
       " 'slots': 1,\n",
       " 'from': 1,\n",
       " 'the': 1,\n",
       " 'desired': 1,\n",
       " 'value': 1,\n",
       " 'be': 1,\n",
       " 'found': 1}"
      ]
     },
     "execution_count": 71,
     "metadata": {},
     "output_type": "execute_result"
    }
   ],
   "source": [
    "a_text = 'In computing, a hash table hash map is a data structure which implements an associative array abstract data type, a structure that can map keys to values. A hash table uses a hash function to compute an index into an array of buckets or slots from which the desired value can be found'\n",
    "\n",
    "# dict = {}\n",
    "# split 'a_text' into a list of words\n",
    "# strip all punctuation and white space from the string items in the list to clean the text\n",
    "# work through each word(stripped) and run below conditional:\n",
    "# if unique word, add word as key to dict, and '1' as value\n",
    "# if word added previously, just add '1' to value of the key with matching word\n",
    "\n",
    "\n",
    "\n",
    "def word_count(text):\n",
    "    dict = {}\n",
    "    str_list = text.split()\n",
    "    for word in str_list:\n",
    "        new_word = word.strip(\" ,.\")\n",
    "        if new_word in dict:\n",
    "            dict[new_word] += 1\n",
    "        else:\n",
    "            dict[new_word] = 1        \n",
    "    return dict\n",
    "\n",
    "word_count(a_text)\n",
    "\n",
    "\n",
    "    "
   ]
  },
  {
   "cell_type": "markdown",
   "metadata": {},
   "source": [
    "## Exercise #3\n",
    "\n",
    "Write a program to implement a Linear Search Algorithm. Also in a comment, write the Time Complexity of the following algorithm.\n",
    "\n",
    "#### Hint: Linear Searching will require searching a list for a given number. "
   ]
  },
  {
   "cell_type": "code",
   "execution_count": 445,
   "metadata": {},
   "outputs": [
    {
     "name": "stdout",
     "output_type": "stream",
     "text": [
      "[4, 5, 10, 7, 1, 2, 10, 10]\n",
      "\n",
      "\n"
     ]
    },
    {
     "data": {
      "text/plain": [
       "7"
      ]
     },
     "execution_count": 445,
     "metadata": {},
     "output_type": "execute_result"
    }
   ],
   "source": [
    "from random import randint\n",
    "\n",
    "random_nums = [randint(0,10) for i in range(8)]\n",
    "print(random_nums)\n",
    "print('\\n')\n",
    "\n",
    "def algolinear(alist, target):\n",
    "    for i in range(len(alist)):\n",
    "        if alist[i] == target:\n",
    "            return alist[i]\n",
    "    return -1\n",
    "        \n",
    "algolinear(random_nums, 7)\n",
    "\n",
    "# This linear search algorithm has a time complexity of O(n) \n",
    "# because the time complexity is proportionate to and dependent on to the size of the dataset\n",
    "# that the array has to work through.\n"
   ]
  }
 ],
 "metadata": {
  "kernelspec": {
   "display_name": "Python 3 (ipykernel)",
   "language": "python",
   "name": "python3"
  },
  "language_info": {
   "codemirror_mode": {
    "name": "ipython",
    "version": 3
   },
   "file_extension": ".py",
   "mimetype": "text/x-python",
   "name": "python",
   "nbconvert_exporter": "python",
   "pygments_lexer": "ipython3",
   "version": "3.9.13"
  }
 },
 "nbformat": 4,
 "nbformat_minor": 2
}
