{
 "cells": [
  {
   "cell_type": "code",
   "execution_count": 5,
   "metadata": {},
   "outputs": [],
   "source": [
    "#Check for file paths "
   ]
  },
  {
   "cell_type": "code",
   "execution_count": 6,
   "metadata": {},
   "outputs": [
    {
     "name": "stdout",
     "output_type": "stream",
     "text": [
      "README.md        \u001b[34mTime_Complexity\u001b[m\u001b[m  csvfunction.py   stockprices.txt\n",
      "\u001b[34mSpace_Complexity\u001b[m\u001b[m \u001b[34m__pycache__\u001b[m\u001b[m      stock_prices.csv txtfunction.py\n"
     ]
    }
   ],
   "source": [
    "!ls ./../"
   ]
  },
  {
   "cell_type": "code",
   "execution_count": null,
   "metadata": {},
   "outputs": [],
   "source": [
    "import csv \n",
    "\n",
    "stock_prices = []\n",
    "\n",
    "with open('./../stock_prices.csv', 'r') as file:\n",
    "    reader = csv.reader(file)\n",
    "    next(reader) #skip the header row \n",
    "    for row in reader:\n",
    "        day = row[0]\n",
    "        price = float(row[1])\n",
    "        stock_prices.append([day, price])\n",
    "\n",
    "#print(stock_prices)"
   ]
  },
  {
   "cell_type": "markdown",
   "metadata": {},
   "source": [
    "#### ----------------------------Alternatively-------------------------"
   ]
  },
  {
   "cell_type": "code",
   "execution_count": 22,
   "metadata": {},
   "outputs": [],
   "source": [
    "stock_prices = []\n",
    "\n",
    "with open ('./../stock_prices.csv', 'r') as file:\n",
    "    next(file) #skip the header row\n",
    "    for line in file:\n",
    "        tokens = line.strip().split(',')\n",
    "        day = tokens[0]\n",
    "        price = float(tokens[1])\n",
    "        stock_prices.append([day, price])\n",
    "\n",
    "#print(stock_prices)"
   ]
  },
  {
   "cell_type": "code",
   "execution_count": 24,
   "metadata": {},
   "outputs": [
    {
     "data": {
      "text/plain": [
       "[['6-Mar', 310.0],\n",
       " ['7-Mar', 340.0],\n",
       " ['8-Mar', 380.0],\n",
       " ['9-Mar', 302.0],\n",
       " ['10-Mar', 297.0],\n",
       " ['11-Mar', 323.0]]"
      ]
     },
     "execution_count": 24,
     "metadata": {},
     "output_type": "execute_result"
    }
   ],
   "source": [
    "#this is a 2Dimensional array where the the first element in each list is [0] - that day and the price [1]\n",
    "stock_prices"
   ]
  },
  {
   "cell_type": "code",
   "execution_count": 25,
   "metadata": {},
   "outputs": [
    {
     "name": "stdout",
     "output_type": "stream",
     "text": [
      "302.0\n"
     ]
    }
   ],
   "source": [
    "#if we want to check the price of stock price for march 9\n",
    "\n",
    "for element in stock_prices:\n",
    "    if element[0] == '9-Mar':\n",
    "        print(element[1])"
   ]
  },
  {
   "cell_type": "markdown",
   "metadata": {},
   "source": [
    "## Big O Analysis:\n",
    "- **O(n) LIST:** - So in the example above, we iterated through the stock prices using the **list** before we found the **March 9** stock price. Imagine if we had many stock prices, we will iterate through  the entire stock prices. So using a **list** would work here but it is not very efficient because the Big O complexity here is **O(n)**\n",
    "\n",
    "- **O(1) DICTIONARY** - In python there is dictionary whicn will perform the same operation with a constant time `O(1)` operation as shown below:\n",
    "\n",
    "- Since it is a dictionary, we can add a key which in this case is the day and set each day key equal to price "
   ]
  },
  {
   "cell_type": "code",
   "execution_count": 26,
   "metadata": {},
   "outputs": [
    {
     "data": {
      "text/plain": [
       "{'6-Mar': 310.0,\n",
       " '7-Mar': 340.0,\n",
       " '8-Mar': 380.0,\n",
       " '9-Mar': 302.0,\n",
       " '10-Mar': 297.0,\n",
       " '11-Mar': 323.0}"
      ]
     },
     "execution_count": 26,
     "metadata": {},
     "output_type": "execute_result"
    }
   ],
   "source": [
    "stock_prices = {}\n",
    "\n",
    "with open('./../stock_prices.csv', 'r') as file:\n",
    "    next(file) # skip the header row \n",
    "    for line in file:\n",
    "        tokens = line.strip().split(',')\n",
    "        day = tokens[0]\n",
    "        price = float(tokens[1])\n",
    "        stock_prices[day] = price\n",
    "\n",
    "stock_prices"
   ]
  },
  {
   "cell_type": "code",
   "execution_count": 28,
   "metadata": {},
   "outputs": [
    {
     "data": {
      "text/plain": [
       "302.0"
      ]
     },
     "execution_count": 28,
     "metadata": {},
     "output_type": "execute_result"
    }
   ],
   "source": [
    "#So if want to fnd the stock price for March 9 - it is very simple \n",
    "stock_prices['9-Mar']"
   ]
  },
  {
   "cell_type": "markdown",
   "metadata": {},
   "source": [
    "\n",
    "### Hashmap or Hash Table \n",
    "* Dictionary implementation uses Hash Table or Hashmap - which is an O(1) complexity. \n",
    "\n",
    "- Dictionary is a python specific implementation of Hashmap or Hash Table - they are the same. So dictionary implements this operation using what is called **Hash Function**\n",
    "\n",
    "### Hash Function \n",
    "- There are different way of implementing `Hash Function` - which is using `ASCII` numbers. For example - Assuming that we want to store and retrieve `march 6` in the dictionary, each value will be assigbed an `ASCII number` in the `ASCII Table` - for example, `m` in the `ASCII` table is encoded `109` in the `ACII Table`.\n",
    "\n",
    "\n",
    "| Value | ASCII numbers |\n",
    "| ---   | ---           |\n",
    "| m     |  109          |\n",
    "| a     |  97           |\n",
    "| r     |  114          |\n",
    "| c     |  99           |\n",
    "| h     |  104          |\n",
    "|       |  32           |\n",
    "| 6     |  54           |\n",
    "| SUM   |  609          |\n",
    "\n",
    "* Like I said earlier there are different types of Hash functio, in the above example - I have only shown the `ASCII` method\n",
    "\n",
    "**Big O Analysis:** \n",
    "- Look up by key is **O(1)** on average \n",
    "- insertion/Deletion is **O(1)** on average \n",
    "\n",
    "### Refrences\n",
    "* [Lookup Tables](https://www.lookuptables.com/)"
   ]
  },
  {
   "cell_type": "markdown",
   "metadata": {},
   "source": [
    "#### List of classes for implementing Hash Table in different Programming Language \n",
    "\n",
    "|       |  Class      | Code Sample                               |\n",
    "| ---   | ---         | ---                                       |\n",
    "| Python| dictionary  | prices = {'march 6': 310, 'march 7': 430} |\n",
    "| JAVA  | HashMap     | HashMap<String, Integer> prices = new HashMap<String, Integer>(); prices.put('march 6', 310); prices.put('march 7', 430);  |\n",
    "| JAVA  | LinkedHasMap| LinkedHashMap<String, Integer> prices = new LinkedHashMap<String, Integer>(); prices.put('march 6', 310); prices.put('march 7', 430);   |\n",
    "| C++   | std:map     | std:map<string,int> prices; prices['march 6'] = 310; prices['march 7'] = 430 | \n",
    "\n",
    "\n",
    " #### Implementing HashMap in Python\n",
    "* First step in implementing `Hash Table` is implementing the `Hash Function`"
   ]
  },
  {
   "cell_type": "code",
   "execution_count": 37,
   "metadata": {},
   "outputs": [],
   "source": [
    "def get_hash(key):\n",
    "    h = 0\n",
    "    for char in key:\n",
    "        h += ord(char)\n",
    "    return h % 100  # we are dividing by 100 assuming the 100 is the total sum "
   ]
  },
  {
   "cell_type": "code",
   "execution_count": 38,
   "metadata": {},
   "outputs": [
    {
     "data": {
      "text/plain": [
       "109"
      ]
     },
     "execution_count": 38,
     "metadata": {},
     "output_type": "execute_result"
    }
   ],
   "source": [
    "# we have implemented the same Hash Table using the ASCII, for example we can call ord(m) and it will return same 109\n",
    "\n",
    "ord('m')"
   ]
  },
  {
   "cell_type": "code",
   "execution_count": 39,
   "metadata": {},
   "outputs": [
    {
     "data": {
      "text/plain": [
       "9"
      ]
     },
     "execution_count": 39,
     "metadata": {},
     "output_type": "execute_result"
    }
   ],
   "source": [
    "#Now to use the get_hash(key)\n",
    "\n",
    "get_hash('march 6')"
   ]
  },
  {
   "cell_type": "code",
   "execution_count": 40,
   "metadata": {},
   "outputs": [
    {
     "data": {
      "text/plain": [
       "61"
      ]
     },
     "execution_count": 40,
     "metadata": {},
     "output_type": "execute_result"
    }
   ],
   "source": [
    "get_hash('march 28')"
   ]
  },
  {
   "cell_type": "code",
   "execution_count": 48,
   "metadata": {},
   "outputs": [],
   "source": [
    "class HashTable:\n",
    "    def __init__(self) -> None:\n",
    "        self.MAX = 100 \n",
    "        self.arr = [None for i in range(self.MAX)]\n",
    "\n",
    "    def get_hash(self, key):\n",
    "        h = 0\n",
    "        for char in key:\n",
    "            h += ord(char)\n",
    "        return h % self.MAX\n",
    "    \n",
    "    def add(self, key, val):\n",
    "        h = get_hash(key)\n",
    "        self.arr[h] = val\n",
    "\n",
    "    def get(self, key):\n",
    "        h = get_hash(key)\n",
    "        return self.arr[h]\n",
    "\n"
   ]
  },
  {
   "cell_type": "code",
   "execution_count": 49,
   "metadata": {},
   "outputs": [
    {
     "data": {
      "text/plain": [
       "130"
      ]
     },
     "execution_count": 49,
     "metadata": {},
     "output_type": "execute_result"
    }
   ],
   "source": [
    "t = HashTable()\n",
    "t.get_hash('march 6')\n",
    "t.add('march 6', 130)\n",
    "t.get('march 6')"
   ]
  },
  {
   "cell_type": "code",
   "execution_count": 47,
   "metadata": {},
   "outputs": [
    {
     "data": {
      "text/plain": [
       "[None,\n",
       " None,\n",
       " None,\n",
       " None,\n",
       " None,\n",
       " None,\n",
       " None,\n",
       " None,\n",
       " None,\n",
       " 130,\n",
       " None,\n",
       " None,\n",
       " None,\n",
       " None,\n",
       " None,\n",
       " None,\n",
       " None,\n",
       " None,\n",
       " None,\n",
       " None,\n",
       " None,\n",
       " None,\n",
       " None,\n",
       " None,\n",
       " None,\n",
       " None,\n",
       " None,\n",
       " None,\n",
       " None,\n",
       " None,\n",
       " None,\n",
       " None,\n",
       " None,\n",
       " None,\n",
       " None,\n",
       " None,\n",
       " None,\n",
       " None,\n",
       " None,\n",
       " None,\n",
       " None,\n",
       " None,\n",
       " None,\n",
       " None,\n",
       " None,\n",
       " None,\n",
       " None,\n",
       " None,\n",
       " None,\n",
       " None,\n",
       " None,\n",
       " None,\n",
       " None,\n",
       " None,\n",
       " None,\n",
       " None,\n",
       " None,\n",
       " None,\n",
       " None,\n",
       " None,\n",
       " None,\n",
       " None,\n",
       " None,\n",
       " None,\n",
       " None,\n",
       " None,\n",
       " None,\n",
       " None,\n",
       " None,\n",
       " None,\n",
       " None,\n",
       " None,\n",
       " None,\n",
       " None,\n",
       " None,\n",
       " None,\n",
       " None,\n",
       " None,\n",
       " None,\n",
       " None,\n",
       " None,\n",
       " None,\n",
       " None,\n",
       " None,\n",
       " None,\n",
       " None,\n",
       " None,\n",
       " None,\n",
       " None,\n",
       " None,\n",
       " None,\n",
       " None,\n",
       " None,\n",
       " None,\n",
       " None,\n",
       " None,\n",
       " None,\n",
       " None,\n",
       " None,\n",
       " None]"
      ]
     },
     "execution_count": 47,
     "metadata": {},
     "output_type": "execute_result"
    }
   ],
   "source": [
    "t.arr"
   ]
  },
  {
   "cell_type": "markdown",
   "metadata": {},
   "source": [
    "- Let's say we want to perform some sort of operation like:\n",
    "\n",
    "`t.add('march 6', 130)`\n",
    "\n",
    "- And retrieve this value using:\n",
    "\n",
    "`t.get('march 6')`"
   ]
  },
  {
   "cell_type": "markdown",
   "metadata": {},
   "source": [
    "### Modifying Hash Function to include `set` and `set` method \n",
    "\n",
    "- Now that we have implemented the `add` and `get` function into the HashMap class. Wouldn't it be nice to perform an operation like:\n",
    "\n",
    "`t['march 6'] = 130`\n",
    "\n",
    "- We can also implement delete method:\n",
    "\n",
    "` del t['march 6]`\n",
    "\n",
    "\n",
    "### Reference \n",
    "- Luckily for us, python have this standard operation:\n",
    "\n",
    "- [Python Standard Operators as functions](https://docs.python.org/3/library/operator.html)"
   ]
  },
  {
   "cell_type": "code",
   "execution_count": 62,
   "metadata": {},
   "outputs": [],
   "source": [
    "class HashTable:\n",
    "    def __init__(self) -> None:\n",
    "        self.MAX = 100 \n",
    "        self.arr = [None for i in range(self.MAX)]\n",
    "\n",
    "    def get_hash(self, key):\n",
    "        h = 0\n",
    "        for char in key:\n",
    "            h += ord(char)\n",
    "        return h % self.MAX\n",
    "    \n",
    "    def __setitem__(self, key, val):\n",
    "        h = get_hash(key)\n",
    "        self.arr[h] = val\n",
    "\n",
    "    def __getitem__(self, key):\n",
    "        h = get_hash(key)\n",
    "        return self.arr[h]\n",
    "\n",
    "    def __delitem__(self, key):\n",
    "        h = get_hash(key)\n",
    "        self.arr[h] = None "
   ]
  },
  {
   "cell_type": "code",
   "execution_count": 63,
   "metadata": {},
   "outputs": [],
   "source": [
    "t = HashTable()\n",
    "t['march 6'] = 130\n",
    "t['march 1'] = 20\n",
    "t['dec 17'] = 27"
   ]
  },
  {
   "cell_type": "code",
   "execution_count": 64,
   "metadata": {},
   "outputs": [
    {
     "data": {
      "text/plain": [
       "[None,\n",
       " None,\n",
       " None,\n",
       " None,\n",
       " 20,\n",
       " None,\n",
       " None,\n",
       " None,\n",
       " None,\n",
       " 130,\n",
       " None,\n",
       " None,\n",
       " None,\n",
       " None,\n",
       " None,\n",
       " None,\n",
       " None,\n",
       " None,\n",
       " None,\n",
       " None,\n",
       " None,\n",
       " None,\n",
       " None,\n",
       " None,\n",
       " None,\n",
       " None,\n",
       " None,\n",
       " None,\n",
       " None,\n",
       " None,\n",
       " None,\n",
       " None,\n",
       " None,\n",
       " None,\n",
       " None,\n",
       " None,\n",
       " 27,\n",
       " None,\n",
       " None,\n",
       " None,\n",
       " None,\n",
       " None,\n",
       " None,\n",
       " None,\n",
       " None,\n",
       " None,\n",
       " None,\n",
       " None,\n",
       " None,\n",
       " None,\n",
       " None,\n",
       " None,\n",
       " None,\n",
       " None,\n",
       " None,\n",
       " None,\n",
       " None,\n",
       " None,\n",
       " None,\n",
       " None,\n",
       " None,\n",
       " None,\n",
       " None,\n",
       " None,\n",
       " None,\n",
       " None,\n",
       " None,\n",
       " None,\n",
       " None,\n",
       " None,\n",
       " None,\n",
       " None,\n",
       " None,\n",
       " None,\n",
       " None,\n",
       " None,\n",
       " None,\n",
       " None,\n",
       " None,\n",
       " None,\n",
       " None,\n",
       " None,\n",
       " None,\n",
       " None,\n",
       " None,\n",
       " None,\n",
       " None,\n",
       " None,\n",
       " None,\n",
       " None,\n",
       " None,\n",
       " None,\n",
       " None,\n",
       " None,\n",
       " None,\n",
       " None,\n",
       " None,\n",
       " None,\n",
       " None,\n",
       " None]"
      ]
     },
     "execution_count": 64,
     "metadata": {},
     "output_type": "execute_result"
    }
   ],
   "source": [
    "t.arr"
   ]
  },
  {
   "cell_type": "code",
   "execution_count": 55,
   "metadata": {},
   "outputs": [
    {
     "data": {
      "text/plain": [
       "130"
      ]
     },
     "execution_count": 55,
     "metadata": {},
     "output_type": "execute_result"
    }
   ],
   "source": [
    "t['march 6']"
   ]
  },
  {
   "cell_type": "code",
   "execution_count": 57,
   "metadata": {},
   "outputs": [
    {
     "data": {
      "text/plain": [
       "27"
      ]
     },
     "execution_count": 57,
     "metadata": {},
     "output_type": "execute_result"
    }
   ],
   "source": [
    "t['dec 17']"
   ]
  },
  {
   "cell_type": "code",
   "execution_count": 65,
   "metadata": {},
   "outputs": [],
   "source": [
    "del t['march 6']"
   ]
  },
  {
   "cell_type": "markdown",
   "metadata": {},
   "source": [
    "### Collision Handling in Hash Table | Approaches for solving collision handling\n",
    "- Implement chaining in python \n",
    "- Separate chaining \n",
    "- Linear probing "
   ]
  },
  {
   "cell_type": "code",
   "execution_count": 124,
   "metadata": {},
   "outputs": [],
   "source": [
    "class HashTable:\n",
    "    def __init__(self):\n",
    "        self.MAX = 10\n",
    "        self.arr = [[] for i in range(self.MAX)]\n",
    "\n",
    "    def get_hash(self, key):\n",
    "        hash = 0\n",
    "        for char in key:\n",
    "            hash += ord(char)\n",
    "        return hash % self.MAX\n",
    "    \n",
    "    def __getitem__(self, key):\n",
    "        \"\"\"\n",
    "        We will modify this function to iterate through the linked list, find the index and return the value\n",
    "        : self.arr[h] - will give me all the hash key, so we want to iterate through all the key and check if that matches the key \n",
    "        \"\"\"\n",
    "        h = self.get_hash(key)\n",
    "        for element in self.arr[h]:\n",
    "            if element[0] == key:\n",
    "                return element[1]\n",
    "        \n",
    "    \n",
    "    def __setitem__(self, key, val):\n",
    "        \"\"\"\n",
    "        This method will handle hashmap collision. \n",
    "        : Update -> assuming we have a situation when the value of march 6 changes and we want to update \n",
    "        : t['march 6'] = 120\n",
    "        : t['march 6'] = 78\n",
    "\n",
    "        So we will first check if the key exists and if not append the key,value\n",
    "        :self.arr[h].append((key, value))\n",
    "        \"\"\"\n",
    "        h = self.get_hash(key)\n",
    "        found = False \n",
    "        for idx, element in enumerate(self.arr[h]):\n",
    "            if len(element)==2 and element[0]==key:\n",
    "                #element[1] = val #now this would have worked if we have used a different array instead of tuple but because tuple is immutatble - this won't work \n",
    "                self.arr[h][idx] = (key, val) # but instead we will just insert another tuple in that particular index - idx\n",
    "                found = True \n",
    "                break \n",
    "        if not found:\n",
    "            self.arr[h].append((key, val))   \n",
    "\n",
    "    def __delitem__(self, key):\n",
    "        h = self.get_hash(key)\n",
    "        for index, element in enumerate(self.arr[h]):\n",
    "            if element[0] == key:\n",
    "                del self.arr[h][index]    "
   ]
  },
  {
   "cell_type": "code",
   "execution_count": 125,
   "metadata": {},
   "outputs": [],
   "source": [
    "t = HashTable()"
   ]
  },
  {
   "cell_type": "code",
   "execution_count": 126,
   "metadata": {},
   "outputs": [],
   "source": [
    "t[\"march 6\"] = 120 \n",
    "t[\"march 6\"] = 78\n",
    "t[\"march 8\"] = 67\n",
    "t[\"march 9\"] = 4\n",
    "t[\"march 17\"] = 459 "
   ]
  },
  {
   "cell_type": "code",
   "execution_count": 127,
   "metadata": {},
   "outputs": [
    {
     "data": {
      "text/plain": [
       "[[],\n",
       " [('march 8', 67)],\n",
       " [('march 9', 4)],\n",
       " [],\n",
       " [],\n",
       " [],\n",
       " [],\n",
       " [],\n",
       " [],\n",
       " [('march 6', 78), ('march 17', 459)]]"
      ]
     },
     "execution_count": 127,
     "metadata": {},
     "output_type": "execute_result"
    }
   ],
   "source": [
    "t.arr"
   ]
  },
  {
   "cell_type": "code",
   "execution_count": 128,
   "metadata": {},
   "outputs": [
    {
     "data": {
      "text/plain": [
       "78"
      ]
     },
     "execution_count": 128,
     "metadata": {},
     "output_type": "execute_result"
    }
   ],
   "source": [
    "t[\"march 6\"]"
   ]
  },
  {
   "cell_type": "code",
   "execution_count": 129,
   "metadata": {},
   "outputs": [
    {
     "data": {
      "text/plain": [
       "459"
      ]
     },
     "execution_count": 129,
     "metadata": {},
     "output_type": "execute_result"
    }
   ],
   "source": [
    "t['march 17']"
   ]
  },
  {
   "cell_type": "code",
   "execution_count": 130,
   "metadata": {},
   "outputs": [],
   "source": [
    "del t['march 6']"
   ]
  },
  {
   "cell_type": "code",
   "execution_count": 131,
   "metadata": {},
   "outputs": [
    {
     "data": {
      "text/plain": [
       "[[],\n",
       " [('march 8', 67)],\n",
       " [('march 9', 4)],\n",
       " [],\n",
       " [],\n",
       " [],\n",
       " [],\n",
       " [],\n",
       " [],\n",
       " [('march 17', 459)]]"
      ]
     },
     "execution_count": 131,
     "metadata": {},
     "output_type": "execute_result"
    }
   ],
   "source": [
    "t.arr"
   ]
  },
  {
   "cell_type": "markdown",
   "metadata": {},
   "source": [
    "* we are able to see that `march 6` and `march 17` have experience the same index (this is an example of hash collission)\n",
    "\n",
    "- So suppose we store more data like below:"
   ]
  },
  {
   "cell_type": "markdown",
   "metadata": {},
   "source": [
    "- So clearly we can see that `march 6` and `march 17` are demonstrating `Hash collission` - we will try to fix this by modifying the arr to `initialize an emply list for our key value pair` and also modify  the `__setitem__` function to iterate through our linked list "
   ]
  }
 ],
 "metadata": {
  "kernelspec": {
   "display_name": "test",
   "language": "python",
   "name": "test"
  },
  "language_info": {
   "codemirror_mode": {
    "name": "ipython",
    "version": 3
   },
   "file_extension": ".py",
   "mimetype": "text/x-python",
   "name": "python",
   "nbconvert_exporter": "python",
   "pygments_lexer": "ipython3",
   "version": "3.11.5"
  }
 },
 "nbformat": 4,
 "nbformat_minor": 2
}
